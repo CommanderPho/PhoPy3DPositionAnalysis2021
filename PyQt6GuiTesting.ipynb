{
 "cells": [
  {
   "cell_type": "code",
   "execution_count": 3,
   "source": [
    "#!/usr/bin/env python3\r\n",
    "# -*- coding: utf-8 -*-\r\n",
    "\"\"\"\r\n",
    "@author: pho\r\n",
    "\"\"\"\r\n",
    "import sys\r\n",
    "from threading import Thread\r\n",
    "# Setting the Qt bindings for QtPy\r\n",
    "import os\r\n",
    "os.environ[\"QT_API\"] = \"pyqt5\"\r\n",
    "from pathlib import Path\r\n",
    "\r\n",
    "# from PyQt5 import QtWidgets\r\n",
    "# from PyQt5 import QtWidgets\r\n",
    "\r\n",
    "import PyQt5\r\n",
    "\r\n",
    "from PyQt5.QtWidgets import (QWidget, QSlider, QHBoxLayout,\r\n",
    "                             QLabel, QApplication)\r\n",
    "from PyQt5.QtCore import Qt\r\n",
    "\r\n",
    "\r\n",
    "# GUI Stuff\r\n",
    "import pyvista as pv\r\n",
    "from pyvistaqt import QtInteractor, MainWindow\r\n"
   ],
   "outputs": [
    {
     "output_type": "error",
     "ename": "ModuleNotFoundError",
     "evalue": "No module named 'PyQt5.QtWidgets'",
     "traceback": [
      "\u001b[1;31m---------------------------------------------------------------------------\u001b[0m",
      "\u001b[1;31mModuleNotFoundError\u001b[0m                       Traceback (most recent call last)",
      "\u001b[1;32m<ipython-input-3-75d4e3a44a84>\u001b[0m in \u001b[0;36m<module>\u001b[1;34m\u001b[0m\n\u001b[0;32m     16\u001b[0m \u001b[1;32mimport\u001b[0m \u001b[0mPyQt5\u001b[0m\u001b[1;33m\u001b[0m\u001b[1;33m\u001b[0m\u001b[0m\n\u001b[0;32m     17\u001b[0m \u001b[1;33m\u001b[0m\u001b[0m\n\u001b[1;32m---> 18\u001b[1;33m from PyQt5.QtWidgets import (QWidget, QSlider, QHBoxLayout,\n\u001b[0m\u001b[0;32m     19\u001b[0m                              QLabel, QApplication)\n\u001b[0;32m     20\u001b[0m \u001b[1;32mfrom\u001b[0m \u001b[0mPyQt5\u001b[0m\u001b[1;33m.\u001b[0m\u001b[0mQtCore\u001b[0m \u001b[1;32mimport\u001b[0m \u001b[0mQt\u001b[0m\u001b[1;33m\u001b[0m\u001b[1;33m\u001b[0m\u001b[0m\n",
      "\u001b[1;31mModuleNotFoundError\u001b[0m: No module named 'PyQt5.QtWidgets'"
     ]
    }
   ],
   "metadata": {}
  },
  {
   "cell_type": "code",
   "execution_count": null,
   "source": [
    "from qtrangeslider import QRangeSlider\r\n",
    "\r\n",
    "# as usual:\r\n",
    "# you must create a QApplication before create a widget.\r\n",
    "range_slider = QRangeSlider()\r\n"
   ],
   "outputs": [],
   "metadata": {}
  },
  {
   "cell_type": "code",
   "execution_count": null,
   "source": [
    "class MyMainWindow(MainWindow):\r\n",
    "\r\n",
    "    def __init__(self, parent=None, show=True):\r\n",
    "        QtWidgets.QMainWindow.__init__(self, parent)\r\n",
    "\r\n",
    "        # create the frame\r\n",
    "        self.frame = QtWidgets.QFrame()\r\n",
    "        vlayout = QtWidgets.QVBoxLayout()\r\n",
    "\r\n",
    "        # add the pyvista interactor object\r\n",
    "        self.plotter = QtInteractor(self.frame)\r\n",
    "        vlayout.addWidget(self.plotter.interactor)\r\n",
    "        self.signal_close.connect(self.plotter.close)\r\n",
    "\r\n",
    "        self.frame.setLayout(vlayout)\r\n",
    "        self.setCentralWidget(self.frame)\r\n",
    "\r\n",
    "        # simple menu to demo functions\r\n",
    "        mainMenu = self.menuBar()\r\n",
    "        fileMenu = mainMenu.addMenu('File')\r\n",
    "        exitButton = QtWidgets.QAction('Exit', self)\r\n",
    "        exitButton.setShortcut('Ctrl+Q')\r\n",
    "        exitButton.triggered.connect(self.close)\r\n",
    "        fileMenu.addAction(exitButton)\r\n",
    "\r\n",
    "        # allow adding a sphere\r\n",
    "        meshMenu = mainMenu.addMenu('Mesh')\r\n",
    "        self.add_sphere_action = QtWidgets.QAction('Add Sphere', self)\r\n",
    "        self.add_sphere_action.triggered.connect(self.add_sphere)\r\n",
    "        meshMenu.addAction(self.add_sphere_action)\r\n",
    "\r\n",
    "        if show:\r\n",
    "            self.show()\r\n",
    "\r\n",
    "    def add_sphere(self):\r\n",
    "        \"\"\" add a sphere to the pyqt frame \"\"\"\r\n",
    "        sphere = pv.Sphere()\r\n",
    "        self.plotter.add_mesh(sphere, show_edges=True)\r\n",
    "        self.plotter.reset_camera()\r\n",
    "\r\n"
   ],
   "outputs": [],
   "metadata": {}
  },
  {
   "cell_type": "code",
   "execution_count": null,
   "source": [
    "if __name__ == '__main__':\r\n",
    "    app = QtWidgets.QApplication(sys.argv)\r\n",
    "    window = MyMainWindow()\r\n",
    "    sys.exit(app.exec_())"
   ],
   "outputs": [],
   "metadata": {}
  },
  {
   "cell_type": "code",
   "execution_count": null,
   "source": [
    "mp = pvqt.MultiPlotter(nrows=2, ncols=2)\r\n",
    "mp[0, 0].add_mesh(pv.Sphere())\r\n",
    "mp[0, 1].add_mesh(pv.Cylinder())\r\n",
    "mp[1, 0].add_mesh(pv.Cube())\r\n",
    "mp[1, 1].add_mesh(pv.Cone())\r\n",
    "\r\n"
   ],
   "outputs": [],
   "metadata": {}
  },
  {
   "cell_type": "code",
   "execution_count": null,
   "source": [
    "## Slider with Callback Function Example:\r\n",
    "\r\n",
    "p = pvqt.BackgroundPlotter() # Use just like you would a pv.Plotter() instance\r\n",
    "\r\n",
    "def on_slider_update_mesh(value):\r\n",
    "    res = int(value)\r\n",
    "    sphere = pv.Sphere(phi_resolution=res, theta_resolution=res)\r\n",
    "    p.add_mesh(sphere, name='sphere', show_edges=True)\r\n",
    "    return\r\n",
    "\r\n",
    "p.add_slider_widget(on_slider_update_mesh, [5, 100], title='Resolution')\r\n",
    "p.show()\r\n"
   ],
   "outputs": [],
   "metadata": {}
  },
  {
   "cell_type": "code",
   "execution_count": null,
   "source": [
    "# mesh points\r\n",
    "vertices = np.array([[0, 0, 0],\r\n",
    "                     [1, 0, 0],\r\n",
    "                     [1, 1, 0],\r\n",
    "                     [0, 1, 0],\r\n",
    "                     [0.5, 0.5, -1]])\r\n",
    "\r\n",
    "# mesh faces\r\n",
    "faces = np.hstack([[4, 0, 1, 2, 3],  # square\r\n",
    "                   [3, 0, 1, 4],     # triangle\r\n",
    "                   [3, 1, 2, 4]])    # triangle\r\n",
    "\r\n",
    "surf = pv.PolyData(vertices, faces)\r\n",
    "\r\n",
    "# plot each face with a different color\r\n",
    "# surf.plot(scalars=np.arange(3), cpos=[-1, 1, 0.5])\r\n",
    "surf.plot(scalars=np.arange(3), cpos=[-1, 1])\r\n"
   ],
   "outputs": [],
   "metadata": {}
  },
  {
   "cell_type": "code",
   "execution_count": null,
   "source": [
    "## Cylindrical Plotting Test:\n",
    "## From https://notebook.community/nicoguaro/AdvancedMath/notebooks/vector_calculus-pyvista\n",
    "red = (0.9, 0.1, 0.1)\n",
    "blue = (0.2, 0.5, 0.7)\n",
    "green = (0.3, 0.7, 0.3)\n",
    "\n",
    "# Cylinder\n",
    "phi, z = np.mgrid[0:2*np.pi:31j, -2:2*np.pi:31j]\n",
    "x = 2*np.cos(phi)\n",
    "y = 2*np.sin(phi)\n",
    "cylinder = pv.StructuredGrid(x, y, z)\n",
    "\n",
    "# Vertical plane\n",
    "rho, z = np.mgrid[0:3:31j, -2:2*np.pi:31j]\n",
    "x = rho*np.cos(np.pi/4)\n",
    "y = rho*np.sin(np.pi/4)\n",
    "vert_plane = pv.StructuredGrid(x, y, z)\n",
    "\n",
    "# Horizontal plane\n",
    "rho, phi = np.mgrid[0:3:31j, 0:2*np.pi:31j]\n",
    "x = rho*np.cos(phi)\n",
    "y = rho*np.sin(phi)\n",
    "z = np.ones_like(x)\n",
    "hor_plane = pv.StructuredGrid(x, y, z)\n",
    "\n",
    "# view(geometries=[cylinder, vert_plane, hor_plane],\n",
    "#      geometry_colors=[blue, red, green])\n",
    "\n",
    "# scene = Scene([cylinder, vert_plane, hor_plane])\n",
    "\n",
    "# cylinder.to_surface()\n",
    "\n",
    "# cylinder.plot()\n",
    "\n",
    "plotter = pv.Plotter(notebook=False) # Use just like you would a pv.Plotter() instance\n",
    "plotter.add_mesh(cylinder, color=blue)\n",
    "plotter.add_mesh(vert_plane, color=red)\n",
    "plotter.add_mesh(hor_plane, color=green)\n",
    "\n",
    "\n",
    "plotter.show()"
   ],
   "outputs": [],
   "metadata": {}
  },
  {
   "cell_type": "code",
   "execution_count": null,
   "source": [
    "cyl_geo = pv.Cylinder()\n",
    "# Compute the normals in-place and use them to warp the globe\n",
    "normals = cyl_geo.compute_normals(inplace=True)  # this activates the normals as well\n",
    "\n",
    "centers = cyl_geo.cell_centers()\n",
    "# Now use those normals to warp the surface\n",
    "# warp = mesh.warp_by_scalar(factor=0.5e-5)\n",
    "\n",
    "\n",
    "p = pv.Plotter(notebook=True) # Use just like you would a pv.Plotter() instance\n",
    "p = pvqt.BackgroundPlotter()\n",
    "p.add_mesh(cyl_geo, color=\"tan\", show_edges=True, render_points_as_spheres=True)\n",
    "p.add_mesh(centers, color=\"red\", point_size=8.0, render_points_as_spheres=True)\n",
    "p.add_mesh(cyl_geo.points, color=\"green\", point_size=5.0, render_points_as_spheres=True)\n",
    "# p.show(jupyter_backend='panel')\n",
    "# p.show(jupyter_backend='pythreejs')\n",
    "# p.show(jupyter_backend=None)\n",
    "p.show()"
   ],
   "outputs": [],
   "metadata": {}
  },
  {
   "cell_type": "code",
   "execution_count": null,
   "source": [],
   "outputs": [],
   "metadata": {}
  }
 ],
 "metadata": {
  "kernelspec": {
   "name": "python3",
   "display_name": "Python 3.6.13 64-bit ('viz3d': conda)"
  },
  "language_info": {
   "codemirror_mode": {
    "name": "ipython",
    "version": 3
   },
   "file_extension": ".py",
   "mimetype": "text/x-python",
   "name": "python",
   "nbconvert_exporter": "python",
   "pygments_lexer": "ipython3",
   "version": "3.6.13"
  },
  "interpreter": {
   "hash": "fde6e68fa8f5f4f0920a88ee99edd8d4121f14a57a7800ceb19ed197f25c05dc"
  }
 },
 "nbformat": 4,
 "nbformat_minor": 5
}