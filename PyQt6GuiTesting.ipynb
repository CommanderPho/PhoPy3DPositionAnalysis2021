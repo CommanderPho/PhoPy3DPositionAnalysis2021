{
 "cells": [
  {
   "cell_type": "code",
   "execution_count": 3,
   "id": "237b781d",
   "metadata": {},
   "outputs": [
    {
     "ename": "ModuleNotFoundError",
     "evalue": "No module named 'PyQt5.QtWidgets'",
     "output_type": "error",
     "traceback": [
      "\u001b[1;31m---------------------------------------------------------------------------\u001b[0m",
      "\u001b[1;31mModuleNotFoundError\u001b[0m                       Traceback (most recent call last)",
      "\u001b[1;32m<ipython-input-3-75d4e3a44a84>\u001b[0m in \u001b[0;36m<module>\u001b[1;34m\u001b[0m\n\u001b[0;32m     16\u001b[0m \u001b[1;32mimport\u001b[0m \u001b[0mPyQt5\u001b[0m\u001b[1;33m\u001b[0m\u001b[1;33m\u001b[0m\u001b[0m\n\u001b[0;32m     17\u001b[0m \u001b[1;33m\u001b[0m\u001b[0m\n\u001b[1;32m---> 18\u001b[1;33m from PyQt5.QtWidgets import (QWidget, QSlider, QHBoxLayout,\n\u001b[0m\u001b[0;32m     19\u001b[0m                              QLabel, QApplication)\n\u001b[0;32m     20\u001b[0m \u001b[1;32mfrom\u001b[0m \u001b[0mPyQt5\u001b[0m\u001b[1;33m.\u001b[0m\u001b[0mQtCore\u001b[0m \u001b[1;32mimport\u001b[0m \u001b[0mQt\u001b[0m\u001b[1;33m\u001b[0m\u001b[1;33m\u001b[0m\u001b[0m\n",
      "\u001b[1;31mModuleNotFoundError\u001b[0m: No module named 'PyQt5.QtWidgets'"
     ]
    }
   ],
   "source": [
    "#!/usr/bin/env python3\n",
    "# -*- coding: utf-8 -*-\n",
    "\"\"\"\n",
    "@author: pho\n",
    "\"\"\"\n",
    "import sys\n",
    "from threading import Thread\n",
    "# Setting the Qt bindings for QtPy\n",
    "import os\n",
    "os.environ[\"QT_API\"] = \"pyqt5\"\n",
    "from pathlib import Path\n",
    "\n",
    "# from PyQt5 import QtWidgets\n",
    "# from PyQt5 import QtWidgets\n",
    "\n",
    "import PyQt5\n",
    "\n",
    "from PyQt5.QtWidgets import (QWidget, QSlider, QHBoxLayout,\n",
    "                             QLabel, QApplication)\n",
    "from PyQt5.QtCore import Qt\n",
    "\n",
    "\n",
    "# GUI Stuff\n",
    "import pyvista as pv\n",
    "from pyvistaqt import QtInteractor, MainWindow\n"
   ]
  },
  {
   "cell_type": "code",
   "execution_count": null,
   "id": "41de29da",
   "metadata": {},
   "outputs": [],
   "source": [
    "from qtrangeslider import QRangeSlider\n",
    "\n",
    "# as usual:\n",
    "# you must create a QApplication before create a widget.\n",
    "range_slider = QRangeSlider()\n"
   ]
  },
  {
   "cell_type": "code",
   "execution_count": null,
   "id": "26f1dfe1",
   "metadata": {},
   "outputs": [],
   "source": [
    "class MyMainWindow(MainWindow):\n",
    "\n",
    "    def __init__(self, parent=None, show=True):\n",
    "        QtWidgets.QMainWindow.__init__(self, parent)\n",
    "\n",
    "        # create the frame\n",
    "        self.frame = QtWidgets.QFrame()\n",
    "        vlayout = QtWidgets.QVBoxLayout()\n",
    "\n",
    "        # add the pyvista interactor object\n",
    "        self.plotter = QtInteractor(self.frame)\n",
    "        vlayout.addWidget(self.plotter.interactor)\n",
    "        self.signal_close.connect(self.plotter.close)\n",
    "\n",
    "        self.frame.setLayout(vlayout)\n",
    "        self.setCentralWidget(self.frame)\n",
    "\n",
    "        # simple menu to demo functions\n",
    "        mainMenu = self.menuBar()\n",
    "        fileMenu = mainMenu.addMenu('File')\n",
    "        exitButton = QtWidgets.QAction('Exit', self)\n",
    "        exitButton.setShortcut('Ctrl+Q')\n",
    "        exitButton.triggered.connect(self.close)\n",
    "        fileMenu.addAction(exitButton)\n",
    "\n",
    "        # allow adding a sphere\n",
    "        meshMenu = mainMenu.addMenu('Mesh')\n",
    "        self.add_sphere_action = QtWidgets.QAction('Add Sphere', self)\n",
    "        self.add_sphere_action.triggered.connect(self.add_sphere)\n",
    "        meshMenu.addAction(self.add_sphere_action)\n",
    "\n",
    "        if show:\n",
    "            self.show()\n",
    "\n",
    "    def add_sphere(self):\n",
    "        \"\"\" add a sphere to the pyqt frame \"\"\"\n",
    "        sphere = pv.Sphere()\n",
    "        self.plotter.add_mesh(sphere, show_edges=True)\n",
    "        self.plotter.reset_camera()\n",
    "\n"
   ]
  },
  {
   "cell_type": "code",
   "execution_count": null,
   "id": "7edfa04b",
   "metadata": {},
   "outputs": [],
   "source": [
    "if __name__ == '__main__':\n",
    "    app = QtWidgets.QApplication(sys.argv)\n",
    "    window = MyMainWindow()\n",
    "    sys.exit(app.exec_())"
   ]
  },
  {
   "cell_type": "code",
   "execution_count": null,
   "id": "168dd8b9",
   "metadata": {},
   "outputs": [],
   "source": [
    "mp = pvqt.MultiPlotter(nrows=2, ncols=2)\n",
    "mp[0, 0].add_mesh(pv.Sphere())\n",
    "mp[0, 1].add_mesh(pv.Cylinder())\n",
    "mp[1, 0].add_mesh(pv.Cube())\n",
    "mp[1, 1].add_mesh(pv.Cone())\n",
    "\n"
   ]
  },
  {
   "cell_type": "code",
   "execution_count": null,
   "id": "7dfc7a36",
   "metadata": {},
   "outputs": [],
   "source": [
    "## Slider with Callback Function Example:\n",
    "\n",
    "p = pvqt.BackgroundPlotter() # Use just like you would a pv.Plotter() instance\n",
    "\n",
    "def on_slider_update_mesh(value):\n",
    "    res = int(value)\n",
    "    sphere = pv.Sphere(phi_resolution=res, theta_resolution=res)\n",
    "    p.add_mesh(sphere, name='sphere', show_edges=True)\n",
    "    return\n",
    "\n",
    "p.add_slider_widget(on_slider_update_mesh, [5, 100], title='Resolution')\n",
    "p.show()\n"
   ]
  },
  {
   "cell_type": "code",
   "execution_count": null,
   "id": "85a3455b",
   "metadata": {},
   "outputs": [],
   "source": [
    "# mesh points\n",
    "vertices = np.array([[0, 0, 0],\n",
    "                     [1, 0, 0],\n",
    "                     [1, 1, 0],\n",
    "                     [0, 1, 0],\n",
    "                     [0.5, 0.5, -1]])\n",
    "\n",
    "# mesh faces\n",
    "faces = np.hstack([[4, 0, 1, 2, 3],  # square\n",
    "                   [3, 0, 1, 4],     # triangle\n",
    "                   [3, 1, 2, 4]])    # triangle\n",
    "\n",
    "surf = pv.PolyData(vertices, faces)\n",
    "\n",
    "# plot each face with a different color\n",
    "# surf.plot(scalars=np.arange(3), cpos=[-1, 1, 0.5])\n",
    "surf.plot(scalars=np.arange(3), cpos=[-1, 1])\n"
   ]
  },
  {
   "cell_type": "code",
   "execution_count": null,
   "id": "787d8331",
   "metadata": {},
   "outputs": [],
   "source": [
    "## Cylindrical Plotting Test:\n",
    "## From https://notebook.community/nicoguaro/AdvancedMath/notebooks/vector_calculus-pyvista\n",
    "red = (0.9, 0.1, 0.1)\n",
    "blue = (0.2, 0.5, 0.7)\n",
    "green = (0.3, 0.7, 0.3)\n",
    "\n",
    "# Cylinder\n",
    "phi, z = np.mgrid[0:2*np.pi:31j, -2:2*np.pi:31j]\n",
    "x = 2*np.cos(phi)\n",
    "y = 2*np.sin(phi)\n",
    "cylinder = pv.StructuredGrid(x, y, z)\n",
    "\n",
    "# Vertical plane\n",
    "rho, z = np.mgrid[0:3:31j, -2:2*np.pi:31j]\n",
    "x = rho*np.cos(np.pi/4)\n",
    "y = rho*np.sin(np.pi/4)\n",
    "vert_plane = pv.StructuredGrid(x, y, z)\n",
    "\n",
    "# Horizontal plane\n",
    "rho, phi = np.mgrid[0:3:31j, 0:2*np.pi:31j]\n",
    "x = rho*np.cos(phi)\n",
    "y = rho*np.sin(phi)\n",
    "z = np.ones_like(x)\n",
    "hor_plane = pv.StructuredGrid(x, y, z)\n",
    "\n",
    "# view(geometries=[cylinder, vert_plane, hor_plane],\n",
    "#      geometry_colors=[blue, red, green])\n",
    "\n",
    "# scene = Scene([cylinder, vert_plane, hor_plane])\n",
    "\n",
    "# cylinder.to_surface()\n",
    "\n",
    "# cylinder.plot()\n",
    "\n",
    "plotter = pv.Plotter(notebook=False) # Use just like you would a pv.Plotter() instance\n",
    "plotter.add_mesh(cylinder, color=blue)\n",
    "plotter.add_mesh(vert_plane, color=red)\n",
    "plotter.add_mesh(hor_plane, color=green)\n",
    "\n",
    "\n",
    "plotter.show()"
   ]
  },
  {
   "cell_type": "code",
   "execution_count": null,
   "id": "b67cd610",
   "metadata": {},
   "outputs": [],
   "source": [
    "cyl_geo = pv.Cylinder()\n",
    "# Compute the normals in-place and use them to warp the globe\n",
    "normals = cyl_geo.compute_normals(inplace=True)  # this activates the normals as well\n",
    "\n",
    "centers = cyl_geo.cell_centers()\n",
    "# Now use those normals to warp the surface\n",
    "# warp = mesh.warp_by_scalar(factor=0.5e-5)\n",
    "\n",
    "\n",
    "p = pv.Plotter(notebook=True) # Use just like you would a pv.Plotter() instance\n",
    "p = pvqt.BackgroundPlotter()\n",
    "p.add_mesh(cyl_geo, color=\"tan\", show_edges=True, render_points_as_spheres=True)\n",
    "p.add_mesh(centers, color=\"red\", point_size=8.0, render_points_as_spheres=True)\n",
    "p.add_mesh(cyl_geo.points, color=\"green\", point_size=5.0, render_points_as_spheres=True)\n",
    "# p.show(jupyter_backend='panel')\n",
    "# p.show(jupyter_backend='pythreejs')\n",
    "# p.show(jupyter_backend=None)\n",
    "p.show()"
   ]
  },
  {
   "cell_type": "code",
   "execution_count": null,
   "id": "3e8f0bfa",
   "metadata": {},
   "outputs": [],
   "source": []
  }
 ],
 "metadata": {
  "interpreter": {
   "hash": "fde6e68fa8f5f4f0920a88ee99edd8d4121f14a57a7800ceb19ed197f25c05dc"
  },
  "kernelspec": {
   "display_name": "Python 3",
   "language": "python",
   "name": "python3"
  },
  "language_info": {
   "codemirror_mode": {
    "name": "ipython",
    "version": 3
   },
   "file_extension": ".py",
   "mimetype": "text/x-python",
   "name": "python",
   "nbconvert_exporter": "python",
   "pygments_lexer": "ipython3",
   "version": "3.6.13"
  }
 },
 "nbformat": 4,
 "nbformat_minor": 5
}
