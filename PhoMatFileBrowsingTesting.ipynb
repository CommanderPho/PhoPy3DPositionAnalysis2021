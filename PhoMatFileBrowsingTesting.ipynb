{
 "cells": [
  {
   "cell_type": "code",
   "execution_count": 1,
   "id": "c24f786c-3ba7-4f9c-b8e4-723579da36f7",
   "metadata": {},
   "outputs": [],
   "source": [
    "import numpy as np\n",
    "import pandas as pd\n",
    "from pathlib import Path\n",
    "import os\n",
    "import sys\n",
    "from threading import Thread\n",
    "\n",
    "import h5py\n",
    "import hdf5storage # conda install hdf5storage\n",
    "import ipywidgets as widgets\n",
    "\n",
    "%config Completer.use_jedi = False\n",
    "\n",
    "# # required to enable non-blocking interaction:\n",
    "%gui qt5\n",
    "\n",
    "from pyphocorehelpers.Filesystem.HDF5.hdf5_file_helpers import h5dump, HDF5_Helper\n",
    "from pyphocorehelpers.Filesystem.HDF5.silx_hdf5_viewer import hdf5_tree_view_window\n",
    "\n",
    "from pyphocorehelpers.print_helpers import debug_dump_object_member_shapes, print_value_overview_only, pprint, debug_print, print_keys_if_possible\n",
    "from pyphoplacecellanalysis.PhoPositionalData.load_exported import import_mat_file\n",
    "# from pyphoplacecellanalysis.PhoPositionalData.process_data import process_positionalAnalysis_data, gen_2d_histrogram, get_heatmap_color_vectors, process_chunk_equal_poritions_data, extract_spike_timeseries\n",
    "# from pyphoplacecellanalysis.PhoPositionalData.process_data import process_positionalAnalysis_data, extract_spike_timeseries\n",
    "from pyphoplacecellanalysis.General.Mixins.ExportHelpers import _test_save_pipeline_data_to_h5, get_h5_data_keys, save_some_pipeline_data_to_h5, load_pipeline_data_from_h5  #ExportHelpers\n",
    "        \n",
    "from pyphoplacecellanalysis.GUI.PyQtPlot.Params.MatFileBrowser.MatFileBrowser import MatFileBrowser\n",
    "\n",
    "## Drastically improve Python Tracebacks on exceptions:\n",
    "# from rich.traceback import install\n",
    "# install()"
   ]
  },
  {
   "cell_type": "code",
   "execution_count": 2,
   "id": "328c053a-dff4-4a6d-a37f-c5c146db6182",
   "metadata": {},
   "outputs": [],
   "source": [
    "# RoyMaze1:\n",
    "\n",
    "mat_import_parent_path = Path(r'R:\\data\\RoyMaze1')\n",
    "# mat_import_parent_path = Path(r'C:\\Share\\data\\RoyMaze1') # Old one\n",
    "# mat_import_file = r'C:\\Share\\data\\RoyMaze1\\ExportedData.mat'\n",
    "\n",
    "found_files = MatFileBrowser.discover_mat_files(mat_import_parent_path, recursive=True)\n",
    "found_files"
   ]
  },
  {
   "cell_type": "code",
   "execution_count": 2,
   "id": "c4db5361-c934-43de-929b-350166adbed2",
   "metadata": {},
   "outputs": [
    {
     "data": {
      "text/plain": [
       "[WindowsPath('R:/data/RoyMaze1/analysesResults_30-Sep-2021/allEnv.mat'),\n",
       " WindowsPath('R:/data/RoyMaze1/analysesResults_30-Sep-2021/PBEs/wholeSession/binnedPBEvariables.mat'),\n",
       " WindowsPath('R:/data/RoyMaze1/analysesResults_30-Sep-2021/PBEs/wholeSession/PBEvariables.mat'),\n",
       " WindowsPath('R:/data/RoyMaze1/analysesResults_30-Sep-2021/PlaceFields/biDirectional.mat'),\n",
       " WindowsPath('R:/data/RoyMaze1/analysesResults_30-Sep-2021/toAddVariables.mat'),\n",
       " WindowsPath('R:/data/RoyMaze1/analysesResults_30-Sep-2021/TrackLaps/trackLaps.mat'),\n",
       " WindowsPath('R:/data/RoyMaze1/ExportedData/extrasAnalysis.mat'),\n",
       " WindowsPath('R:/data/RoyMaze1/ExportedData/positionAnalysis.mat'),\n",
       " WindowsPath('R:/data/RoyMaze1/ExportedData/RippleIndexedSpikes.mat'),\n",
       " WindowsPath('R:/data/RoyMaze1/ExportedData/spikesAnalysis.mat'),\n",
       " WindowsPath('R:/data/RoyMaze1/ExportedData/spikesTable.mat'),\n",
       " WindowsPath('R:/data/RoyMaze1/FullExportedWorkspaceAllVars.mat'),\n",
       " WindowsPath('R:/data/RoyMaze1/PhoResults_Expt1_RoyMaze1.mat')]"
      ]
     },
     "execution_count": 2,
     "metadata": {},
     "output_type": "execute_result"
    }
   ],
   "source": []
  },
  {
   "cell_type": "code",
   "execution_count": null,
   "id": "0833e921-b965-44d9-b3d2-f9396ad07a1f",
   "metadata": {},
   "outputs": [],
   "source": [
    "found_file_variables_dict = MatFileBrowser.whos_mat_files(found_files)\n",
    "print(found_file_variables_dict)"
   ]
  },
  {
   "cell_type": "code",
   "execution_count": null,
   "id": "c3939f51-e717-471a-ad00-6ab2fa84762b",
   "metadata": {},
   "outputs": [],
   "source": [
    "tree, app = MatFileBrowser.build_browsing_gui(found_file_variables_dict)\n",
    "tree.show()"
   ]
  },
  {
   "cell_type": "code",
   "execution_count": null,
   "id": "c4e4b8b6-70fe-4f8d-956d-34c9c09b8742",
   "metadata": {},
   "outputs": [],
   "source": [
    "tree.close()"
   ]
  },
  {
   "cell_type": "code",
   "execution_count": null,
   "id": "8d4f06af-1e87-498d-b248-3fbaec099299",
   "metadata": {},
   "outputs": [],
   "source": [
    "# found_file = Path(r'R:/data/RoyMaze1/analysesResults_30-Sep-2021/allEnv.mat')\n",
    "# found_file = Path(r'R:/data/RoyMaze1/ExportedData/spikesAnalysis.mat')\n",
    "# found_file = Path(r'R:\\data\\RoyMaze1\\ExportedData\\extrasAnalysis.mat')\n",
    "found_file = Path(r'R:/data/RoyMaze1/ExportedData/spikesTable.mat')"
   ]
  },
  {
   "cell_type": "code",
   "execution_count": null,
   "id": "d5e6a91d-4395-48f5-b501-f0a8af0b779e",
   "metadata": {},
   "outputs": [],
   "source": [
    "# import h5py\n",
    "helper = HDF5_Helper(path=found_file, group='active_processing')\n",
    "helper.output_tree"
   ]
  },
  {
   "cell_type": "code",
   "execution_count": null,
   "id": "176d7872-dbd0-41a8-a873-d8da23f82a41",
   "metadata": {},
   "outputs": [],
   "source": [
    "# helper.perform_enumerate(debug_print=True)\n",
    "helper.perform_enumerate(debug_print=False)\n",
    "helper.output_tree"
   ]
  },
  {
   "cell_type": "code",
   "execution_count": null,
   "id": "4cf6b265-1417-47f1-bc55-6cb9765cedd0",
   "metadata": {},
   "outputs": [],
   "source": [
    "found_file_variables_dict[found_file]"
   ]
  },
  {
   "cell_type": "code",
   "execution_count": null,
   "id": "6fb8313d-976e-42c3-8783-8109a3fea870",
   "metadata": {},
   "outputs": [],
   "source": [
    "h5dump(found_file, group='active_processing', enable_print_attributes=False)"
   ]
  },
  {
   "cell_type": "code",
   "execution_count": null,
   "id": "0830be9a-4cba-4ada-b4ab-9258c48cc342",
   "metadata": {},
   "outputs": [],
   "source": [
    "# out_keys = get_h5_data_keys(finalized_output_cache_file=found_file)\n",
    "# enable_debug_print = True\n",
    "# out_keys = None\n",
    "# with pd.HDFStore(found_file) as store:\n",
    "#     out_keys = store.keys()\n",
    "#     if enable_debug_print:\n",
    "#         print(out_keys)\n",
    "\n",
    "\n",
    "def pho_visit_item_fn(name, obj):\n",
    "    # Recursively visit all objects in this group and subgroups. Like Group.visit(), except your callable should have the signature:\n",
    "    # callable(name, object) -> None or return value\n",
    "    # In this case object will be a Group or Dataset instance.\n",
    "    # if name not in ignored_keys:        \n",
    "    if '#' in name:\n",
    "        return None\n",
    "    else:\n",
    "        print(f'name: {name}, obj: {obj}')\n",
    "        # if type(obj) in [h5py._hl.group.Group, h5py._hl.files.File]:\n",
    "        #     for key in obj.keys():\n",
    "        #         print(sep,'-',key,':',obj[key])\n",
    "        #         descend_obj(obj[key],sep=sep+'\\t')\n",
    "        # elif type(obj)==h5py._hl.dataset.Dataset:\n",
    "        #     for key in obj.attrs.keys():\n",
    "        #         print(sep+'\\t','-',key,':',obj.attrs[key])\n",
    "            \n",
    "    \n",
    "def find_foo(name):\n",
    "    \"\"\" Find first object with 'foo' anywhere in the name \"\"\"\n",
    "    if 'foo' in name:\n",
    "        return name\n",
    "\n",
    "with h5py.File(found_file,'r') as f:\n",
    "    print(f'file:{found_file}: {f}')\n",
    "    # print(f.visititems)\n",
    "    _out = f.visititems(pho_visit_item_fn)\n",
    "    # group.visit(find_foo)\n",
    "\n",
    "    # f.attrs\n",
    "    # print_value_overview_only(f)\n",
    "    # # found_data_dict = {a_key:meta_info_dict for a_key in list(f.keys()) if a_key not in ignored_keys} ## filter the ignored keys\n",
    "    # # found_keys = [a_key for a_key in list(f.keys()) if a_key not in ignored_keys] ## filter the ignored keys\n",
    "    # f.name"
   ]
  },
  {
   "cell_type": "markdown",
   "id": "4eeb9a26-8d8a-4eb2-842e-a1f2c9c207f0",
   "metadata": {
    "jp-MarkdownHeadingCollapsed": true,
    "tags": []
   },
   "source": [
    "# QFileSystemModel, QTreeView"
   ]
  },
  {
   "cell_type": "code",
   "execution_count": null,
   "id": "4903d8dc-3bf9-4b14-b725-d0d3f9fa12c4",
   "metadata": {},
   "outputs": [],
   "source": [
    "import sys\n",
    "from PyQt5.QtWidgets import QApplication, QFileSystemModel, QTreeView, QWidget, QVBoxLayout\n",
    "from PyQt5.QtGui import QIcon\n",
    "\n",
    "class App(QWidget):\n",
    "\n",
    "    def __init__(self):\n",
    "        super().__init__()\n",
    "        self.title = 'PyQt5 file system view - pythonspot.com'\n",
    "        self.left = 10\n",
    "        self.top = 10\n",
    "        self.width = 640\n",
    "        self.height = 480\n",
    "        self.initUI()\n",
    "    \n",
    "    def initUI(self):\n",
    "        self.setWindowTitle(self.title)\n",
    "        self.setGeometry(self.left, self.top, self.width, self.height)\n",
    "        \n",
    "        self.model = QFileSystemModel()\n",
    "        self.model.setRootPath(r'E:\\data')\n",
    "        self.tree = QTreeView()\n",
    "        self.tree.setModel(self.model)\n",
    "        \n",
    "        self.tree.setAnimated(False)\n",
    "        self.tree.setIndentation(20)\n",
    "        self.tree.setSortingEnabled(True)\n",
    "        \n",
    "        self.tree.setWindowTitle(\"Dir View\")\n",
    "        self.tree.resize(640, 480)\n",
    "        \n",
    "        windowLayout = QVBoxLayout()\n",
    "        windowLayout.addWidget(self.tree)\n",
    "        self.setLayout(windowLayout)\n",
    "        \n",
    "        self.show()\n",
    "\n",
    "if __name__ == '__main__':\n",
    "    app = QApplication(sys.argv)\n",
    "    ex = App()\n",
    "    sys.exit(app.exec_())"
   ]
  },
  {
   "cell_type": "markdown",
   "id": "9dd9e3b6-f4c6-4239-9fb8-f6d4d28729ad",
   "metadata": {
    "tags": []
   },
   "source": [
    "# Silx hdf5 Widgets"
   ]
  },
  {
   "cell_type": "code",
   "execution_count": null,
   "id": "102bd879-15a2-4be7-a6ce-33e5783418e1",
   "metadata": {},
   "outputs": [],
   "source": [
    "import silx.gui.hdf5\n",
    "treeview = silx.gui.hdf5.Hdf5TreeView()\n",
    "model = treeview.findHdf5TreeModel()\n",
    "# Avoid the user to drop file in the widget\n",
    "model.setFileDropEnabled(False)\n",
    "# Allow the user to reorder files with drag-and-drop\n",
    "model.setFileMoveEnabled(True)\n",
    "header = treeview.header()\n",
    "# Select displayed columns\n",
    "column_ids = [treeview.findHdf5TreeModel().NAME_COLUMN]\n",
    "header.setSections(column_ids)\n",
    "# Do not allow the user to custom visible columns\n",
    "header.setEnableHideColumnsPopup(False)"
   ]
  },
  {
   "cell_type": "code",
   "execution_count": 9,
   "id": "154455f3-1cbc-4837-bf77-3e0df3423335",
   "metadata": {},
   "outputs": [
    {
     "data": {
      "text/plain": [
       "['R:\\\\data\\\\RoyMaze1\\\\analysesResults_30-Sep-2021\\\\allEnv.mat',\n",
       " 'R:\\\\data\\\\RoyMaze1\\\\analysesResults_30-Sep-2021\\\\PBEs\\\\wholeSession\\\\binnedPBEvariables.mat',\n",
       " 'R:\\\\data\\\\RoyMaze1\\\\analysesResults_30-Sep-2021\\\\PBEs\\\\wholeSession\\\\PBEvariables.mat',\n",
       " 'R:\\\\data\\\\RoyMaze1\\\\analysesResults_30-Sep-2021\\\\PlaceFields\\\\biDirectional.mat',\n",
       " 'R:\\\\data\\\\RoyMaze1\\\\analysesResults_30-Sep-2021\\\\toAddVariables.mat',\n",
       " 'R:\\\\data\\\\RoyMaze1\\\\analysesResults_30-Sep-2021\\\\TrackLaps\\\\trackLaps.mat',\n",
       " 'R:\\\\data\\\\RoyMaze1\\\\ExportedData\\\\spikesAnalysis.mat',\n",
       " 'R:\\\\data\\\\RoyMaze1\\\\ExportedData\\\\spikesTable.mat',\n",
       " 'R:\\\\data\\\\RoyMaze1\\\\FullExportedWorkspaceAllVars.mat',\n",
       " 'R:\\\\data\\\\RoyMaze1\\\\PhoResults_Expt1_RoyMaze1.mat']"
      ]
     },
     "execution_count": 9,
     "metadata": {},
     "output_type": "execute_result"
    }
   ],
   "source": [
    "# found_file = Path(r'R:/data/RoyMaze1/ExportedData/spikesTable.mat')\n",
    "# main([str(found_file)])\n",
    "\n",
    "non_hdf5_files = [Path(r'R:/data/RoyMaze1/ExportedData/extrasAnalysis.mat'), Path(r'R:/data/RoyMaze1/ExportedData/positionAnalysis.mat'), Path('R:/data/RoyMaze1/ExportedData/RippleIndexedSpikes.mat')]\n",
    "hdf5_found_files = [str(found_file) for found_file in found_files if found_file not in non_hdf5_files]\n",
    "\n",
    "hdf5_found_files"
   ]
  },
  {
   "cell_type": "code",
   "execution_count": 10,
   "id": "dec84f45-46c8-40e2-a5ff-6fb561567cba",
   "metadata": {},
   "outputs": [
    {
     "data": {
      "text/plain": [
       "<pyphocorehelpers.Filesystem.HDF5.silx_hdf5_viewer.Hdf5TreeViewWindow at 0x1fa310b3ee0>"
      ]
     },
     "execution_count": 10,
     "metadata": {},
     "output_type": "execute_result"
    }
   ],
   "source": [
    "win = hdf5_tree_view_window(hdf5_found_files)\n",
    "win"
   ]
  },
  {
   "cell_type": "code",
   "execution_count": null,
   "id": "105535da-8792-4459-ad29-cda95c67d17c",
   "metadata": {},
   "outputs": [],
   "source": [
    "import h5py\n",
    "import numpy as np\n",
    "import GooseHDF5 as g5\n",
    "\n",
    "with h5py.File(\"foo.h5\", \"r\") as data:\n",
    "    paths = list(g5.getdatasets(data))"
   ]
  },
  {
   "cell_type": "markdown",
   "id": "44190e5a-04e6-46d1-88dc-038d7fe8ee9c",
   "metadata": {},
   "source": [
    "# Other Stuff"
   ]
  },
  {
   "cell_type": "code",
   "execution_count": null,
   "id": "e7d35f80-2acb-4f64-b02b-1e5514cd6a2a",
   "metadata": {},
   "outputs": [],
   "source": []
  },
  {
   "cell_type": "code",
   "execution_count": null,
   "id": "c6611c25-1f1f-45e2-8212-8a3d67cbef79",
   "metadata": {},
   "outputs": [],
   "source": [
    "# Import the positions\n",
    "t,x,y,speeds,dt,dx,dy = perform_import_positions(mat_import_parent_path=mat_import_parent_path)\n",
    "# Import the spikes\n",
    "spike_matrix, spike_cells, num_cells, spike_list, spike_positions_list = perform_import_spikes(t, x, y, mat_import_parent_path=mat_import_parent_path)\n",
    "\n",
    "ripple_times, ripple_peak_times, ripple_peak_values, behavioral_periods, behavioral_epochs = perform_import_extras(mat_import_parent_path=mat_import_parent_path)\n",
    "\n",
    "# behavioral_periods = all_results_data['active_processing/behavioral_periods_table']\n",
    "# print('spike_matrix: {}, spike_cells: {}'.format(np.shape(spike_matrix), np.shape(spike_cells)))\n",
    "num_periods = np.shape(behavioral_periods)[0]\n",
    "print('num_periods: {}'.format(num_periods))\n",
    "\n",
    "\n",
    "# creating the dataset\n",
    "#date = [i for i in range(2000, 2021)]\n",
    " \n",
    "# Create a figure and a set of subplots\n",
    "fig, ax = plt.subplots(figsize=(10, 6))\n",
    " \n",
    "# Creating the scatter plot\n",
    "#ax.scatter(date, value)\n",
    " \n",
    "# Highlighting for a certain period of time\n",
    "num_ripples = np.shape(ripple_times)[0]\n",
    "for i in np.arange(num_ripples):\n",
    "    ax.axvspan(ripple_times[i,0], ripple_times[i,1], alpha=0.3, color=\"green\")\n",
    "\n",
    "plt.show()"
   ]
  }
 ],
 "metadata": {
  "kernelspec": {
   "display_name": "Python [conda env:phoviz_ultimate]",
   "language": "python",
   "name": "conda-env-phoviz_ultimate-py"
  },
  "language_info": {
   "codemirror_mode": {
    "name": "ipython",
    "version": 3
   },
   "file_extension": ".py",
   "mimetype": "text/x-python",
   "name": "python",
   "nbconvert_exporter": "python",
   "pygments_lexer": "ipython3",
   "version": "3.9.12"
  }
 },
 "nbformat": 4,
 "nbformat_minor": 5
}
