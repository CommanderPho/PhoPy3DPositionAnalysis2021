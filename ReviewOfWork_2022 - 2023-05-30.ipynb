{
 "cells": [
  {
   "cell_type": "code",
   "execution_count": 1,
   "id": "0056bc66-7629-4ef7-8c87-f28f8fcd9dc8",
   "metadata": {
    "autorun": true,
    "tags": [
     "imports",
     "REQUIRED",
     "ACTIVE"
    ]
   },
   "outputs": [
    {
     "name": "stdout",
     "output_type": "stream",
     "text": [
      "Automatic pdb calling has been turned OFF\n",
      "build_module_logger(module_name=\"Spike3D.pipeline\"):\n",
      "\t Module logger com.PhoHale.Spike3D.pipeline has file logging enabled and will log to EXTERNAL\\TESTING\\Logging\\debug_com.PhoHale.Spike3D.pipeline.log\n"
     ]
    }
   ],
   "source": [
    "%config IPCompleter.use_jedi = False\n",
    "%pdb off\n",
    "# %load_ext viztracer\n",
    "# from viztracer import VizTracer\n",
    "%load_ext autoreload\n",
    "%autoreload 3\n",
    "import sys\n",
    "from pathlib import Path\n",
    "import neptune # for logging progress and results\n",
    "from pyphoplacecellanalysis.General.Batch.NonInteractiveWrapper import neptune_output_figures\n",
    "neptune_kwargs = {'project':\"commander.pho/PhoDibaLongShort2023\",\n",
    "'api_token':\"eyJhcGlfYWRkcmVzcyI6Imh0dHBzOi8vYXBwLm5lcHR1bmUuYWkiLCJhcGlfdXJsIjoiaHR0cHM6Ly9hcHAubmVwdHVuZS5haSIsImFwaV9rZXkiOiIxOGIxODU2My1lZTNhLTQ2ZWMtOTkzNS02ZTRmNzM5YmNjNjIifQ==\"}\n",
    "\n",
    "# required to enable non-blocking interaction:\n",
    "%gui qt5\n",
    "\n",
    "from copy import deepcopy\n",
    "from numba import jit\n",
    "import numpy as np\n",
    "import pandas as pd\n",
    "\n",
    "# Pho's Formatting Preferences\n",
    "# from pyphocorehelpers.preferences_helpers import set_pho_preferences, set_pho_preferences_concise, set_pho_preferences_verbose\n",
    "# set_pho_preferences_concise()\n",
    "\n",
    "## Pho's Custom Libraries:\n",
    "from pyphocorehelpers.general_helpers import CodeConversion\n",
    "from pyphocorehelpers.function_helpers import function_attributes\n",
    "from pyphocorehelpers.print_helpers import print_keys_if_possible, print_value_overview_only, document_active_variables, objsize, print_object_memory_usage, debug_dump_object_member_shapes, TypePrintMode\n",
    "from pyphocorehelpers.print_helpers import get_now_day_str, get_now_time_str, get_now_time_precise_str\n",
    "from pyphocorehelpers.programming_helpers import IPythonHelpers\n",
    "from pyphocorehelpers.Filesystem.path_helpers import find_first_extant_path\n",
    "\n",
    "# NeuroPy (Diba Lab Python Repo) Loading\n",
    "# from neuropy import core\n",
    "from neuropy.analyses.placefields import PlacefieldComputationParameters\n",
    "from neuropy.core.epoch import NamedTimerange, Epoch\n",
    "from neuropy.core.ratemap import Ratemap\n",
    "from neuropy.core.session.Formats.BaseDataSessionFormats import DataSessionFormatRegistryHolder\n",
    "from neuropy.core.session.Formats.Specific.BapunDataSessionFormat import BapunDataSessionFormatRegisteredClass\n",
    "from neuropy.core.session.Formats.Specific.KDibaOldDataSessionFormat import KDibaOldDataSessionFormatRegisteredClass\n",
    "from neuropy.core.session.Formats.Specific.RachelDataSessionFormat import RachelDataSessionFormat\n",
    "from neuropy.core.session.Formats.Specific.HiroDataSessionFormat import HiroDataSessionFormatRegisteredClass\n",
    "\n",
    "## For computation parameters:\n",
    "from neuropy.analyses.placefields import PlacefieldComputationParameters\n",
    "from neuropy.utils.dynamic_container import DynamicContainer\n",
    "from neuropy.utils.result_context import IdentifyingContext\n",
    "from neuropy.core.session.Formats.BaseDataSessionFormats import find_local_session_paths\n",
    "from neuropy.core.neurons import NeuronType\n",
    "\n",
    "\n",
    "from pyphocorehelpers.print_helpers import generate_html_string\n",
    "\n",
    "\n",
    "# pyPhoPlaceCellAnalysis:\n",
    "from pyphoplacecellanalysis.General.Pipeline.NeuropyPipeline import NeuropyPipeline # get_neuron_identities\n",
    "from pyphoplacecellanalysis.General.Mixins.ExportHelpers import export_pyqtgraph_plot, create_daily_programmatic_display_function_testing_folder_if_needed, session_context_to_relative_path\n",
    "from pyphoplacecellanalysis.General.Batch.NonInteractiveWrapper import batch_load_session, batch_extended_computations, SessionBatchProgress, batch_programmatic_figures, batch_extended_programmatic_figures\n",
    "from pyphoplacecellanalysis.General.Pipeline.NeuropyPipeline import PipelineSavingScheme\n",
    "from pyphoplacecellanalysis.Pho2D.matplotlib.visualize_heatmap import visualize_heatmap\n",
    "from pyphoplacecellanalysis.Pho2D.PyQtPlots.Extensions.pyqtgraph_helpers import build_pyqtgraph_epoch_indicator_regions # Add session indicators to pyqtgraph plot\n",
    "from pyphoplacecellanalysis.General.Pipeline.Stages.DisplayFunctions.MultiContextComparingDisplayFunctions.LongShortTrackComparingDisplayFunctions import _helper_add_long_short_session_indicator_regions\n",
    "\n",
    "import pyphoplacecellanalysis.External.pyqtgraph as pg\n",
    "# 'time_bin_indices': valid_time_bin_indicies, 'posterior_to_pf_mean_surprise': one_left_out_posterior_to_pf_surprises_mean, 'posterior_to_scrambled_pf_mean_surprise': one_left_out_posterior_to_scrambled_pf_surprises_mean}\n",
    "from pyphoplacecellanalysis.General.Pipeline.Stages.DisplayFunctions.MultiContextComparingDisplayFunctions.LongShortTrackComparingDisplayFunctions import plot_long_short_expected_vs_observed_firing_rates\n",
    "from pyphoplacecellanalysis.General.Pipeline.Stages.DisplayFunctions.MultiContextComparingDisplayFunctions.LongShortTrackComparingDisplayFunctions import plot_long_short_surprise_difference_plot\n",
    "\n",
    "from pyphoplacecellanalysis.General.Batch.NonInteractiveWrapper import _update_pipeline_missing_preprocessing_parameters\n",
    "\n",
    "\n",
    "session_batch_status = {}\n",
    "session_batch_errors = {}\n",
    "enable_saving_to_disk = False\n",
    "\n",
    "global_data_root_parent_path = find_first_extant_path([Path(r'W:\\Data'), Path(r'/media/MAX/Data'), Path(r'/Volumes/MoverNew/data'), Path(r'/home/halechr/turbo/Data')])\n",
    "assert global_data_root_parent_path.exists(), f\"global_data_root_parent_path: {global_data_root_parent_path} does not exist! Is the right computer's config commented out above?\""
   ]
  },
  {
   "attachments": {},
   "cell_type": "markdown",
   "id": "a1538e2a-4e39-4d11-90b5-a9fef9258058",
   "metadata": {
    "tags": [
     "REQUIRED",
     "ACTIVE"
    ]
   },
   "source": [
    "# Load Pipeline"
   ]
  },
  {
   "cell_type": "code",
   "execution_count": 2,
   "id": "f917bad9-8fe7-4882-b83b-71cf878fffd2",
   "metadata": {
    "tags": [
     "load",
     "REQUIRED"
    ]
   },
   "outputs": [],
   "source": [
    "# ==================================================================================================================== #\n",
    "# Load Data                                                                                                            #\n",
    "# ==================================================================================================================== #\n",
    "\n",
    "active_data_mode_name = 'kdiba'\n",
    "\n",
    "## Data must be pre-processed using the MATLAB script located here: \n",
    "#     neuropy/data_session_pre_processing_scripts/KDIBA/IIDataMat_Export_ToPython_2022_08_01.m\n",
    "# From pre-computed .mat files:\n",
    "\n",
    "local_session_root_parent_context = IdentifyingContext(format_name=active_data_mode_name) # , animal_name='', configuration_name='one', session_name=self.session_name\n",
    "local_session_root_parent_path = global_data_root_parent_path.joinpath('KDIBA')\n",
    "\n",
    "good_contexts_list = [IdentifyingContext(format_name='kdiba',animal='gor01',exper_name='one',session_name='2006-6-08_14-26-15'),\n",
    "    IdentifyingContext(format_name='kdiba',animal='gor01',exper_name='one',session_name='2006-6-09_1-22-43'),\n",
    "    IdentifyingContext(format_name='kdiba',animal='gor01',exper_name='one',session_name='2006-6-12_15-55-31'),\n",
    "    IdentifyingContext(format_name='kdiba',animal='gor01',exper_name='two',session_name='2006-6-08_21-16-25'),\n",
    "    IdentifyingContext(format_name='kdiba',animal='gor01',exper_name='two',session_name='2006-6-09_22-24-40'),\n",
    "    IdentifyingContext(format_name='kdiba',animal='gor01',exper_name='two',session_name='2006-6-12_16-53-46'),\n",
    "    IdentifyingContext(format_name='kdiba',animal='gor01',exper_name='two',session_name='2006-6-13_15-22-3'),\n",
    "    IdentifyingContext(format_name='kdiba',animal='vvp01',exper_name='one',session_name='2006-4-09_17-29-30'),\n",
    "    IdentifyingContext(format_name='kdiba',animal='vvp01',exper_name='one',session_name='2006-4-17_12-33-47'),\n",
    "    IdentifyingContext(format_name='kdiba',animal='vvp01',exper_name='one',session_name='2006-4-18_13-6-1'),\n",
    "    IdentifyingContext(format_name='kdiba',animal='vvp01',exper_name='one',session_name='2006-4-18_15-23-32'),\n",
    "    IdentifyingContext(format_name='kdiba',animal='vvp01',exper_name='one',session_name='2006-4-19_13-34-40'),\n",
    "    IdentifyingContext(format_name='kdiba',animal='vvp01',exper_name='one',session_name='2006-4-27_14-43-12'),\n",
    "    IdentifyingContext(format_name='kdiba',animal='vvp01',exper_name='two',session_name='2006-4-09_16-40-54'),\n",
    "    IdentifyingContext(format_name='kdiba',animal='vvp01',exper_name='two',session_name='2006-4-10_12-58-3'),\n",
    "    IdentifyingContext(format_name='kdiba',animal='vvp01',exper_name='two',session_name='2006-4-11_12-48-38'),\n",
    "    IdentifyingContext(format_name='kdiba',animal='vvp01',exper_name='two',session_name='2006-4-11_16-2-46'),\n",
    "    IdentifyingContext(format_name='kdiba',animal='vvp01',exper_name='two',session_name='2006-4-12_15-25-59'),\n",
    "    IdentifyingContext(format_name='kdiba',animal='vvp01',exper_name='two',session_name='2006-4-16_14-49-24'),\n",
    "    IdentifyingContext(format_name='kdiba',animal='vvp01',exper_name='two',session_name='2006-4-16_18-47-52'),\n",
    "    IdentifyingContext(format_name='kdiba',animal='vvp01',exper_name='two',session_name='2006-4-17_12-52-15'),\n",
    "    IdentifyingContext(format_name='kdiba',animal='vvp01',exper_name='two',session_name='2006-4-19_13-50-7'),\n",
    "    IdentifyingContext(format_name='kdiba',animal='vvp01',exper_name='two',session_name='2006-4-25_13-20-55'),\n",
    "    IdentifyingContext(format_name='kdiba',animal='vvp01',exper_name='two',session_name='2006-4-26_13-51-50'),\n",
    "    IdentifyingContext(format_name='kdiba',animal='pin01',exper_name='one',session_name='11-02_17-46-44'),\n",
    "    IdentifyingContext(format_name='kdiba',animal='pin01',exper_name='one',session_name='11-02_19-28-0'),\n",
    "    IdentifyingContext(format_name='kdiba',animal='pin01',exper_name='one',session_name='11-03_12-3-25'),\n",
    "    IdentifyingContext(format_name='kdiba',animal='pin01',exper_name='one',session_name='11-03_21-26-8'),\n",
    "    IdentifyingContext(format_name='kdiba',animal='pin01',exper_name='one',session_name='11-05_19-26-43'),\n",
    "    IdentifyingContext(format_name='kdiba',animal='pin01',exper_name='one',session_name='11-09_21-17-16'),\n",
    "    IdentifyingContext(format_name='kdiba',animal='pin01',exper_name='one',session_name='11-09_22-4-5'),\n",
    "    IdentifyingContext(format_name='kdiba',animal='pin01',exper_name='one',session_name='fet11-01_12-58-54'),\n",
    "    IdentifyingContext(format_name='kdiba',animal='pin01',exper_name='one',session_name='fet11-04_21-20-3')]\n"
   ]
  },
  {
   "cell_type": "code",
   "execution_count": 3,
   "id": "d13e68b4-03e0-4388-a35c-87a352a6e6b3",
   "metadata": {
    "tags": [
     "load",
     "single_session",
     "REQUIRED"
    ]
   },
   "outputs": [
    {
     "name": "stdout",
     "output_type": "stream",
     "text": [
      "Automatic pdb calling has been turned OFF\n",
      "basedir: W:\\Data\\KDIBA\\gor01\\one\\2006-6-08_14-26-15\n",
      "Loading loaded session pickle file results : W:\\Data\\KDIBA\\gor01\\one\\2006-6-08_14-26-15\\loadedSessPickle.pkl... done.\n",
      "Loading pickled pipeline success: W:\\Data\\KDIBA\\gor01\\one\\2006-6-08_14-26-15\\loadedSessPickle.pkl.\n",
      "property already present in pickled version. No need to save.\n",
      "using provided computation_functions_name_whitelist: ['_perform_baseline_placefield_computation', '_perform_extended_statistics_computation', '_perform_position_decoding_computation', '_perform_firing_rate_trends_computation', '_perform_pf_find_ratemap_peaks_computation', '_perform_two_step_position_decoding_computation']\n",
      "WARNING: skipping computation because overwrite_extant_results=False and active_computation_results[maze1] already exists and is non-None\n",
      "\t TODO: this will prevent recomputation even when the blacklist/whitelist or computation function definitions change. Rework so that this is smarter.\n",
      "updating computation_results...\n",
      "done.\n",
      "WARNING: skipping computation because overwrite_extant_results=False and active_computation_results[maze2] already exists and is non-None\n",
      "\t TODO: this will prevent recomputation even when the blacklist/whitelist or computation function definitions change. Rework so that this is smarter.\n",
      "updating computation_results...\n",
      "done.\n",
      "WARNING: skipping computation because overwrite_extant_results=False and active_computation_results[maze] already exists and is non-None\n",
      "\t TODO: this will prevent recomputation even when the blacklist/whitelist or computation function definitions change. Rework so that this is smarter.\n",
      "updating computation_results...\n",
      "done.\n",
      "WARNING: saving_mode is SKIP_SAVING so pipeline will not be saved despite calling .save_pipeline(...).\n",
      "saving_mode.shouldSave == False, so not saving at the end of batch_load_session\n",
      "Loading loaded session pickle file results : W:\\Data\\KDIBA\\gor01\\one\\2006-6-08_14-26-15\\output\\global_computation_results.pkl... done.\n"
     ]
    }
   ],
   "source": [
    "%pdb off\n",
    "# %%viztracer\n",
    "# [*] - indicates bad or session with a problem\n",
    "# 0, 1, 2, 3, 4, 5, 6, 7, [8], [9], 10, 11, [12], 13\n",
    "curr_context = good_contexts_list[0] # select the session from all of the good sessions here.\n",
    "local_session_parent_path = local_session_root_parent_path.joinpath(curr_context.animal, curr_context.exper_name) # 'gor01', 'one' - probably not needed anymore\n",
    "basedir = local_session_parent_path.joinpath(curr_context.session_name).resolve()\n",
    "print(f'basedir: {str(basedir)}')\n",
    "\n",
    "# # Read if possible:\n",
    "saving_mode = PipelineSavingScheme.SKIP_SAVING\n",
    "force_reload = False\n",
    "\n",
    "# #Force write:\n",
    "# saving_mode = PipelineSavingScheme.TEMP_THEN_OVERWRITE\n",
    "# saving_mode = PipelineSavingScheme.OVERWRITE_IN_PLACE \n",
    "# force_reload = True\n",
    "\n",
    "    # ==================================================================================================================== #\n",
    "    # Load Pipeline                                                                                                        #\n",
    "    # ==================================================================================================================== #\n",
    "# with VizTracer(output_file=f\"viztracer_{get_now_time_str()}-full_session_LOO_decoding_analysis.json\", min_duration=200, tracer_entries=3000000, ignore_frozen=True) as tracer:\n",
    "# epoch_name_whitelist = ['maze']\n",
    "epoch_name_whitelist = None\n",
    "active_computation_functions_name_whitelist=[#'_perform_estimated_epochs_computation', \n",
    "                                            '_perform_baseline_placefield_computation',\n",
    "                                        # '_perform_time_dependent_placefield_computation',\n",
    "                                        '_perform_extended_statistics_computation',\n",
    "                                        '_perform_position_decoding_computation', \n",
    "                                        '_perform_firing_rate_trends_computation',\n",
    "                                        '_perform_pf_find_ratemap_peaks_computation',\n",
    "                                        # '_perform_time_dependent_pf_sequential_surprise_computation'\n",
    "                                        '_perform_two_step_position_decoding_computation',\n",
    "                                        # '_perform_recursive_latent_placefield_decoding'\n",
    "                                    ]\n",
    "# active_computation_functions_name_whitelist=['_perform_baseline_placefield_computation']\n",
    "\n",
    "curr_active_pipeline = batch_load_session(global_data_root_parent_path, active_data_mode_name, basedir, epoch_name_whitelist=epoch_name_whitelist,\n",
    "                                        computation_functions_name_whitelist=active_computation_functions_name_whitelist,\n",
    "                                        saving_mode=saving_mode, force_reload=force_reload,\n",
    "                                        skip_extended_batch_computations=True, debug_print=False, fail_on_exception=True) # , active_pickle_filename = 'loadedSessPickle_withParameters.pkl'\n",
    "\n",
    "if not force_reload: # not just force_reload, needs to recompute whenever the computation fails.\n",
    "    try:\n",
    "        curr_active_pipeline.load_pickled_global_computation_results()\n",
    "    except Exception as e:\n",
    "        print(f'cannot load global results: {e}')\n",
    "\n",
    "# 6m 1.1s\n",
    "# 12m 15.6s\n"
   ]
  },
  {
   "cell_type": "code",
   "execution_count": 4,
   "id": "3a29b890",
   "metadata": {},
   "outputs": [
    {
     "name": "stdout",
     "output_type": "stream",
     "text": [
      "were pipeline preprocessing parameters missing and updated?: False\n"
     ]
    }
   ],
   "source": [
    "## Post Compute Validate 2023-05-16:\n",
    "from scripts.run_BatchAnalysis import post_compute_validate\n",
    "\n",
    "post_compute_validate(curr_active_pipeline)"
   ]
  },
  {
   "cell_type": "code",
   "execution_count": null,
   "id": "b7f4bc79",
   "metadata": {},
   "outputs": [],
   "source": [
    "# 2023-01-* - Call extended computations to build `_display_short_long_firing_rate_index_comparison` figures:\n",
    "extended_computations_include_whitelist=['long_short_fr_indicies_analyses', 'jonathan_firing_rate_analysis', 'long_short_decoding_analyses'] # do only specifiedl\n",
    "# extended_computations_include_whitelist=['long_short_fr_indicies_analyses', 'jonathan_firing_rate_analysis'] # do only specifiedl\n",
    "newly_computed_values = batch_extended_computations(curr_active_pipeline, include_whitelist=extended_computations_include_whitelist, include_global_functions=True, fail_on_exception=True, progress_print=True, force_recompute=True, debug_print=False)\n",
    "if len(newly_computed_values) > 0:\n",
    "\tprint(f'newly_computed_values: {newly_computed_values}. Saving global results...')\n",
    "\ttry:\n",
    "\t\t# Try to write out the global computation function results:\n",
    "\t\tcurr_active_pipeline.save_global_computation_results()\n",
    "\texcept Exception as e:\n",
    "\t\tprint(f'!!WARNING!!: saving the global results threw the exception: {e}')\n",
    "\t\tprint(f'\\tthe global results are currently unsaved! proceed with caution and save as soon as you can!')\n",
    "else:\n",
    "\tprint(f'no changes in global results.')\n",
    "# 10m 29.5s"
   ]
  },
  {
   "attachments": {},
   "cell_type": "markdown",
   "id": "d6e13d31",
   "metadata": {},
   "source": [
    "### Pipeline Loading/Saving"
   ]
  },
  {
   "cell_type": "code",
   "execution_count": null,
   "id": "ba28d9e9",
   "metadata": {},
   "outputs": [],
   "source": [
    "# Idea: versioning pickles with date?\n",
    "from datetime import datetime\n",
    "\n",
    "# datetime object containing current date and time\n",
    "save_time = datetime.now()\n",
    " \n",
    "print(\"save_time =\", save_time)\n",
    "\n",
    "# dd/mm/YY H:M:S\n",
    "dt_string = save_time.strftime(\"%d/%m/%Y %H:%M:%S\")\n",
    "print(\"date and time =\", dt_string)\n",
    "\n",
    "# save_time = date"
   ]
  },
  {
   "attachments": {},
   "cell_type": "markdown",
   "id": "7c17a70f",
   "metadata": {},
   "source": [
    "#### 2023-05-26 - On only updating/appending the pickle file instead of having to re-write the whole 30GB+ thing\n",
    "The pickle file format is a sequential format. Thus, if you change one item, at least everything behind that position in the file has to be rewritten.\n",
    "\n",
    "Also see: https://docs.python.org/3.6/library/shelve.html\n"
   ]
  },
  {
   "cell_type": "code",
   "execution_count": null,
   "id": "e98d64a6",
   "metadata": {},
   "outputs": [],
   "source": [
    "from pyphoplacecellanalysis.General.Pipeline.NeuropyPipeline import PipelineSavingScheme\n",
    "\n",
    "from pyphocorehelpers.print_helpers import DocumentationFilePrinter, print_filesystem_file_size, print_object_memory_usage, print_keys_if_possible, debug_dump_object_member_shapes\n"
   ]
  },
  {
   "cell_type": "code",
   "execution_count": null,
   "id": "735a9f71",
   "metadata": {},
   "outputs": [],
   "source": [
    "print_object_memory_usage(curr_active_pipeline)\n",
    "# print_keys_if_possible(\"curr_active_pipeline._stage\", curr_active_pipeline._stage, max_depth=1, non_expanded_item_keys=['display_output'], additional_excluded_item_classes=['DynamicParameters'])"
   ]
  },
  {
   "cell_type": "code",
   "execution_count": null,
   "id": "944d3fd5",
   "metadata": {},
   "outputs": [],
   "source": [
    "doc_printer = DocumentationFilePrinter(doc_output_parent_folder=Path('/home/halechr/repo/Spike3D/EXTERNAL/DEVELOPER_NOTES/DataStructureDocumentation'), doc_name='NeuropyPipeline')\n",
    "doc_printer.save_documentation('NeuropyPipeline', curr_active_pipeline, non_expanded_item_keys=['stage','_reverse_cellID_index_map', 'pf_listed_colormap', 'computation_results', 'active_configs', 'logger', 'plot', '_plot_object', 'display_output'],\n",
    "                               additional_excluded_item_classes=[\"<class 'pyphoplacecellanalysis.General.Pipeline.Stages.Display.Plot'>\"], max_depth=16) # 'Logger'\n",
    "\n"
   ]
  },
  {
   "cell_type": "code",
   "execution_count": null,
   "id": "83ec5043",
   "metadata": {},
   "outputs": [],
   "source": [
    "curr_active_pipeline.save_pipeline(saving_mode=PipelineSavingScheme.TEMP_THEN_OVERWRITE) # AttributeError: 'PfND_TimeDependent' object has no attribute '_included_thresh_neurons_indx'\n",
    "# TypeError: cannot pickle 'MplMultiTab' object\n",
    "# PicklingError: Can't pickle .set_closure_cell at 0x000002BF248F50D0>: it's not found as attr._compat.make_set_closure_cell..set_closure_cell\n",
    "# TypeError: cannot pickle 'PyQt5.QtCore.pyqtSignal' object"
   ]
  },
  {
   "cell_type": "code",
   "execution_count": null,
   "id": "0d2bd0d2",
   "metadata": {},
   "outputs": [],
   "source": [
    "curr_active_pipeline.save_global_computation_results() # PicklingError: Can't pickle .set_closure_cell at 0x000002BF248F50D0>: it's not found as attr._compat.make_set_closure_cell..set_closure_cell"
   ]
  },
  {
   "cell_type": "code",
   "execution_count": null,
   "id": "7e894282",
   "metadata": {},
   "outputs": [],
   "source": [
    "curr_active_pipeline.load_pickled_global_computation_results()"
   ]
  },
  {
   "cell_type": "code",
   "execution_count": null,
   "id": "ab6274bf",
   "metadata": {},
   "outputs": [],
   "source": [
    "\n",
    "curr_active_pipeline.display_output_history_list\n",
    "curr_active_pipeline.display_output.clear()\n",
    "# curr_active_pipeline.display_output = DynamicParameters()\n",
    "# curr_active_pipeline.display_output"
   ]
  },
  {
   "cell_type": "code",
   "execution_count": null,
   "id": "f6ae79e5",
   "metadata": {},
   "outputs": [],
   "source": [
    "curr_active_pipeline.clear_display_outputs()\n",
    "curr_active_pipeline.clear_registered_output_files()"
   ]
  },
  {
   "cell_type": "code",
   "execution_count": null,
   "id": "cae39cbd",
   "metadata": {},
   "outputs": [],
   "source": [
    "# curr_active_pipeline.save_pipeline(saving_mode=PipelineSavingScheme.OVERWRITE_IN_PLACE)\n",
    "curr_active_pipeline.save_pipeline(saving_mode=PipelineSavingScheme.TEMP_THEN_OVERWRITE)"
   ]
  },
  {
   "cell_type": "code",
   "execution_count": null,
   "id": "326d35c9",
   "metadata": {},
   "outputs": [],
   "source": [
    "long_epoch_name, short_epoch_name, global_epoch_name = curr_active_pipeline.find_LongShortGlobal_epoch_names()\n",
    "long_session, short_session, global_session = [curr_active_pipeline.filtered_sessions[an_epoch_name] for an_epoch_name in [long_epoch_name, short_epoch_name, global_epoch_name]]\n",
    "long_results, short_results, global_results = [curr_active_pipeline.computation_results[an_epoch_name]['computed_data'] for an_epoch_name in [long_epoch_name, short_epoch_name, global_epoch_name]]\n",
    "long_pf1D, short_pf1D, global_pf1D = long_results.pf1D, short_results.pf1D, global_results.pf1D\n",
    "long_pf2D, short_pf2D, global_pf2D = long_results.pf2D, short_results.pf2D, global_results.pf2D\n",
    "\n",
    "# Get existing laps from session:\n",
    "long_laps, short_laps, global_laps = [curr_active_pipeline.filtered_sessions[an_epoch_name].laps.as_epoch_obj() for an_epoch_name in [long_epoch_name, short_epoch_name, global_epoch_name]]\n",
    "long_replays, short_replays, global_replays = [Epoch(curr_active_pipeline.filtered_sessions[an_epoch_name].replay.epochs.get_valid_df()) for an_epoch_name in [long_epoch_name, short_epoch_name, global_epoch_name]]\n",
    "# short_laps.n_epochs: 40, long_laps.n_epochs: 40\n",
    "# short_replays.n_epochs: 6, long_replays.n_epochs: 8\n",
    "\n",
    "print(f'short_laps.n_epochs: {short_laps.n_epochs}, long_laps.n_epochs: {long_laps.n_epochs}')\n",
    "print(f'short_replays.n_epochs: {short_replays.n_epochs}, long_replays.n_epochs: {long_replays.n_epochs}')"
   ]
  },
  {
   "attachments": {},
   "cell_type": "markdown",
   "id": "c850782f",
   "metadata": {},
   "source": [
    "# End Run"
   ]
  },
  {
   "cell_type": "code",
   "execution_count": 5,
   "id": "dda48261",
   "metadata": {
    "tags": [
     "load",
     "ACTIVE"
    ]
   },
   "outputs": [],
   "source": [
    "## long_short_decoding_analyses:\n",
    "curr_long_short_decoding_analyses = curr_active_pipeline.global_computation_results.computed_data['long_short_leave_one_out_decoding_analysis']\n",
    "## Extract variables from results object:\n",
    "long_one_step_decoder_1D, short_one_step_decoder_1D, long_replays, short_replays, global_replays, long_shared_aclus_only_decoder, short_shared_aclus_only_decoder, shared_aclus, long_short_pf_neurons_diff, n_neurons, long_results_obj, short_results_obj, is_global = curr_long_short_decoding_analyses.long_decoder, curr_long_short_decoding_analyses.short_decoder, curr_long_short_decoding_analyses.long_replays, curr_long_short_decoding_analyses.short_replays, curr_long_short_decoding_analyses.global_replays, curr_long_short_decoding_analyses.long_shared_aclus_only_decoder, curr_long_short_decoding_analyses.short_shared_aclus_only_decoder, curr_long_short_decoding_analyses.shared_aclus, curr_long_short_decoding_analyses.long_short_pf_neurons_diff, curr_long_short_decoding_analyses.n_neurons, curr_long_short_decoding_analyses.long_results_obj, curr_long_short_decoding_analyses.short_results_obj, curr_long_short_decoding_analyses.is_global\n",
    "\n",
    "# (long_one_step_decoder_1D, short_one_step_decoder_1D), (long_one_step_decoder_2D, short_one_step_decoder_2D) = compute_short_long_constrained_decoders(curr_active_pipeline, recalculate_anyway=True)\n",
    "long_epoch_name, short_epoch_name, global_epoch_name = curr_active_pipeline.find_LongShortGlobal_epoch_names()\n",
    "long_epoch_context, short_epoch_context, global_epoch_context = [curr_active_pipeline.filtered_contexts[a_name] for a_name in (long_epoch_name, short_epoch_name, global_epoch_name)]\n",
    "long_session, short_session, global_session = [curr_active_pipeline.filtered_sessions[an_epoch_name] for an_epoch_name in [long_epoch_name, short_epoch_name, global_epoch_name]]\n",
    "long_results, short_results, global_results = [curr_active_pipeline.computation_results[an_epoch_name]['computed_data'] for an_epoch_name in [long_epoch_name, short_epoch_name, global_epoch_name]]\n",
    "long_pf1D, short_pf1D, global_pf1D = long_results.pf1D, short_results.pf1D, global_results.pf1D\n",
    "long_pf2D, short_pf2D, global_pf2D = long_results.pf2D, short_results.pf2D, global_results.pf2D\n",
    "decoding_time_bin_size = long_one_step_decoder_1D.time_bin_size # 1.0/30.0 # 0.03333333333333333"
   ]
  },
  {
   "cell_type": "code",
   "execution_count": 16,
   "id": "67e308ec",
   "metadata": {},
   "outputs": [],
   "source": [
    "curr_active_pipeline.reload_default_display_functions()\n",
    "batch_extended_programmatic_figures(curr_active_pipeline=curr_active_pipeline)\n",
    "# \n",
    "\n",
    "\n",
    "_out = curr_active_pipeline.display('_display_long_short_laps', curr_active_pipeline.sess.get_context())"
   ]
  },
  {
   "cell_type": "code",
   "execution_count": 17,
   "id": "2ee06cc7",
   "metadata": {},
   "outputs": [
    {
     "name": "stdout",
     "output_type": "stream",
     "text": [
      "https://app.neptune.ai/commander.pho/PhoDibaLongShort2023/e/PHOD-248\n",
      "a_fig_path: C:\\Users\\pho\\repos\\Spike3DWorkEnv\\Spike3D\\EXTERNAL\\Screenshots\\ProgrammaticDisplayFunctionTesting\\2023-05-30\\kdiba\\gor01\\one\\2006-6-08_14-26-15\\kdiba_gor01_one_2006-6-08_14-26-15_maze1__display_1d_placefields.pdf, a_fig_context: kdiba_gor01_one_2006-6-08_14-26-15_maze1__display_1d_placefields\n",
      "\tsession/kdiba_gor01_one_2006-6-08_14-26-15_sess/figures/kdiba_gor01_one_2006-6-08_14-26-15_maze1__display_1d_placefields\n",
      "a_fig_path: C:\\Users\\pho\\repos\\Spike3DWorkEnv\\Spike3D\\EXTERNAL\\Screenshots\\ProgrammaticDisplayFunctionTesting\\2023-05-30\\kdiba\\gor01\\one\\2006-6-08_14-26-15\\kdiba_gor01_one_2006-6-08_14-26-15_maze2__display_1d_placefields.pdf, a_fig_context: kdiba_gor01_one_2006-6-08_14-26-15_maze2__display_1d_placefields\n",
      "\tsession/kdiba_gor01_one_2006-6-08_14-26-15_sess/figures/kdiba_gor01_one_2006-6-08_14-26-15_maze2__display_1d_placefields\n",
      "a_fig_path: C:\\Users\\pho\\repos\\Spike3DWorkEnv\\Spike3D\\EXTERNAL\\Screenshots\\ProgrammaticDisplayFunctionTesting\\2023-05-30\\kdiba\\gor01\\one\\2006-6-08_14-26-15\\kdiba_gor01_one_2006-6-08_14-26-15_maze__display_1d_placefields.pdf, a_fig_context: kdiba_gor01_one_2006-6-08_14-26-15_maze__display_1d_placefields\n",
      "\tsession/kdiba_gor01_one_2006-6-08_14-26-15_sess/figures/kdiba_gor01_one_2006-6-08_14-26-15_maze__display_1d_placefields\n",
      "a_fig_path: C:\\Users\\pho\\repos\\Spike3DWorkEnv\\Spike3D\\EXTERNAL\\Screenshots\\ProgrammaticDisplayFunctionTesting\\2023-05-30\\kdiba\\gor01\\one\\2006-6-08_14-26-15\\kdiba_gor01_one_2006-6-08_14-26-15_maze1__display_1d_placefield_validations.pdf, a_fig_context: kdiba_gor01_one_2006-6-08_14-26-15_maze1__display_1d_placefield_validations\n",
      "\tsession/kdiba_gor01_one_2006-6-08_14-26-15_sess/figures/kdiba_gor01_one_2006-6-08_14-26-15_maze1__display_1d_placefield_validations\n",
      "a_fig_path: C:\\Users\\pho\\repos\\Spike3DWorkEnv\\Spike3D\\EXTERNAL\\Screenshots\\ProgrammaticDisplayFunctionTesting\\2023-05-30\\kdiba\\gor01\\one\\2006-6-08_14-26-15\\kdiba_gor01_one_2006-6-08_14-26-15_maze2__display_1d_placefield_validations.pdf, a_fig_context: kdiba_gor01_one_2006-6-08_14-26-15_maze2__display_1d_placefield_validations\n",
      "\tsession/kdiba_gor01_one_2006-6-08_14-26-15_sess/figures/kdiba_gor01_one_2006-6-08_14-26-15_maze2__display_1d_placefield_validations\n",
      "a_fig_path: C:\\Users\\pho\\repos\\Spike3DWorkEnv\\Spike3D\\EXTERNAL\\Screenshots\\ProgrammaticDisplayFunctionTesting\\2023-05-30\\kdiba\\gor01\\one\\2006-6-08_14-26-15\\kdiba_gor01_one_2006-6-08_14-26-15_maze__display_1d_placefield_validations.pdf, a_fig_context: kdiba_gor01_one_2006-6-08_14-26-15_maze__display_1d_placefield_validations\n",
      "\tsession/kdiba_gor01_one_2006-6-08_14-26-15_sess/figures/kdiba_gor01_one_2006-6-08_14-26-15_maze__display_1d_placefield_validations\n",
      "a_fig_path: C:\\Users\\pho\\repos\\Spike3DWorkEnv\\Spike3D\\EXTERNAL\\Screenshots\\ProgrammaticDisplayFunctionTesting\\2023-05-30\\kdiba\\gor01\\one\\2006-6-08_14-26-15\\kdiba_gor01_one_2006-6-08_14-26-15_maze1__display_2d_placefield_result_plot_ratemaps_2D.pdf, a_fig_context: kdiba_gor01_one_2006-6-08_14-26-15_maze1__display_2d_placefield_result_plot_ratemaps_2D\n",
      "\tsession/kdiba_gor01_one_2006-6-08_14-26-15_sess/figures/kdiba_gor01_one_2006-6-08_14-26-15_maze1__display_2d_placefield_result_plot_ratemaps_2D\n",
      "a_fig_path: C:\\Users\\pho\\repos\\Spike3DWorkEnv\\Spike3D\\EXTERNAL\\Screenshots\\ProgrammaticDisplayFunctionTesting\\2023-05-30\\kdiba\\gor01\\one\\2006-6-08_14-26-15\\kdiba_gor01_one_2006-6-08_14-26-15_maze2__display_2d_placefield_result_plot_ratemaps_2D.pdf, a_fig_context: kdiba_gor01_one_2006-6-08_14-26-15_maze2__display_2d_placefield_result_plot_ratemaps_2D\n",
      "\tsession/kdiba_gor01_one_2006-6-08_14-26-15_sess/figures/kdiba_gor01_one_2006-6-08_14-26-15_maze2__display_2d_placefield_result_plot_ratemaps_2D\n",
      "a_fig_path: C:\\Users\\pho\\repos\\Spike3DWorkEnv\\Spike3D\\EXTERNAL\\Screenshots\\ProgrammaticDisplayFunctionTesting\\2023-05-30\\kdiba\\gor01\\one\\2006-6-08_14-26-15\\kdiba_gor01_one_2006-6-08_14-26-15_maze__display_2d_placefield_result_plot_ratemaps_2D.pdf, a_fig_context: kdiba_gor01_one_2006-6-08_14-26-15_maze__display_2d_placefield_result_plot_ratemaps_2D\n",
      "\tsession/kdiba_gor01_one_2006-6-08_14-26-15_sess/figures/kdiba_gor01_one_2006-6-08_14-26-15_maze__display_2d_placefield_result_plot_ratemaps_2D\n",
      "a_fig_path: C:\\Users\\pho\\repos\\Spike3DWorkEnv\\Spike3D\\EXTERNAL\\Screenshots\\ProgrammaticDisplayFunctionTesting\\2023-05-30\\kdiba\\gor01\\one\\2006-6-08_14-26-15\\kdiba_gor01_one_2006-6-08_14-26-15_maze1__display_2d_placefield_occupancy.pdf, a_fig_context: kdiba_gor01_one_2006-6-08_14-26-15_maze1__display_2d_placefield_occupancy\n",
      "\tsession/kdiba_gor01_one_2006-6-08_14-26-15_sess/figures/kdiba_gor01_one_2006-6-08_14-26-15_maze1__display_2d_placefield_occupancy\n",
      "a_fig_path: C:\\Users\\pho\\repos\\Spike3DWorkEnv\\Spike3D\\EXTERNAL\\Screenshots\\ProgrammaticDisplayFunctionTesting\\2023-05-30\\kdiba\\gor01\\one\\2006-6-08_14-26-15\\kdiba_gor01_one_2006-6-08_14-26-15_maze2__display_2d_placefield_occupancy.pdf, a_fig_context: kdiba_gor01_one_2006-6-08_14-26-15_maze2__display_2d_placefield_occupancy\n",
      "\tsession/kdiba_gor01_one_2006-6-08_14-26-15_sess/figures/kdiba_gor01_one_2006-6-08_14-26-15_maze2__display_2d_placefield_occupancy\n",
      "a_fig_path: C:\\Users\\pho\\repos\\Spike3DWorkEnv\\Spike3D\\EXTERNAL\\Screenshots\\ProgrammaticDisplayFunctionTesting\\2023-05-30\\kdiba\\gor01\\one\\2006-6-08_14-26-15\\kdiba_gor01_one_2006-6-08_14-26-15_maze__display_2d_placefield_occupancy.pdf, a_fig_context: kdiba_gor01_one_2006-6-08_14-26-15_maze__display_2d_placefield_occupancy\n",
      "\tsession/kdiba_gor01_one_2006-6-08_14-26-15_sess/figures/kdiba_gor01_one_2006-6-08_14-26-15_maze__display_2d_placefield_occupancy\n",
      "Shutting down background jobs, please wait a moment...\n",
      "Done!\n",
      "Waiting for the remaining 19 operations to synchronize with Neptune. Do not kill this process.\n",
      "All 19 operations synced, thanks for waiting!\n",
      "Explore the metadata in the Neptune app:\n",
      "https://app.neptune.ai/commander.pho/PhoDibaLongShort2023/e/PHOD-248/metadata\n"
     ]
    }
   ],
   "source": [
    "neptune_output_figures(curr_active_pipeline=curr_active_pipeline)"
   ]
  },
  {
   "attachments": {},
   "cell_type": "markdown",
   "id": "844354b4",
   "metadata": {},
   "source": [
    "## 2023-05-26 - Get Expected firing rates"
   ]
  },
  {
   "cell_type": "code",
   "execution_count": 30,
   "id": "83a1c8d1",
   "metadata": {},
   "outputs": [],
   "source": [
    "from scipy.special import factorial, logsumexp\n",
    "\n",
    "def compute_measured_vs_expected_firing_rates(active_pos_df, active_filter_epochs, a_decoder_1D, a_decoder_result):\n",
    "\t\"\"\" 2023-05-26 - Goal is to compute the expected and measured firing rates for each cell for each epoch. \n",
    "\n",
    "\tWant to be able to get a vector of firing rates (one for each cell) for an epoch i.\n",
    "\n",
    "\t\"\"\"\n",
    "\tall_cells_decoded_epoch_time_bins = {}\n",
    "\tall_cells_decoded_expected_firing_rates = {}\n",
    "\t# all_cells_observed_firing_rates = {}\n",
    "\n",
    "\t## for each cell:\n",
    "\tfor i, left_out_aclu in enumerate(a_decoder_1D.neuron_IDs):\n",
    "\t\t# aclu = decoder_1D.neuron_IDs[i]\n",
    "\t\tleft_out_neuron_IDX = a_decoder_1D.neuron_IDXs[i] # should just be i, but just to be safe\n",
    "\t\t## TODO: only look at bins where the cell fires (is_cell_firing_time_bin[i])\n",
    "\n",
    "\t\t## single cell outputs:\n",
    "\t\tcurr_cell_decoded_epoch_time_bins = [] # will be a list of the time bins in each epoch that correspond to each surprise in the corresponding list in curr_cell_computed_epoch_surprises \n",
    "\t\t\n",
    "\t\tcurr_cell_pf_curve = a_decoder_1D.pf.ratemap.tuning_curves[left_out_neuron_IDX]\n",
    "\t\t# curr_cell_spike_curve = decoder_1D.pf.ratemap.spikes_maps[unit_IDX] ## not occupancy weighted... is this the right one to use for computing the expected spike rate? NO... doesn't seem like it\n",
    "\n",
    "\t\t## Must pre-allocate each with an empty list:\n",
    "\t\tall_cells_decoded_expected_firing_rates[left_out_aclu] = [] \n",
    "\t\t\n",
    "\t\tfor decoded_epoch_idx in np.arange(a_decoder_result.num_filter_epochs):\n",
    "\t\t\tcurr_epoch_time_bin_container = a_decoder_result.time_bin_containers[decoded_epoch_idx]\n",
    "\t\t\tcurr_cell_decoded_epoch_time_bins.append(curr_epoch_time_bin_container)\n",
    "\t\t\tcurr_time_bins = curr_epoch_time_bin_container.centers\n",
    "\t\t\tcurr_epoch_p_x_given_n = a_decoder_result.p_x_given_n_list[decoded_epoch_idx] # .shape: (239, 5) - (n_x_bins, n_epoch_time_bins)\n",
    "\t\t\tassert curr_epoch_p_x_given_n.shape[0] == curr_cell_pf_curve.shape[0]\n",
    "\t\t\t\n",
    "\t\t\t## Need to exclude estimates from bins that didn't have any spikes in them (in general these glitch around):\n",
    "\t\t\tcurr_total_spike_counts_per_window = np.sum(a_decoder_result.spkcount[decoded_epoch_idx], axis=0) # left_out_decoder_result.spkcount[i].shape # (69, 222) - (nCells, nTimeWindowCenters)\n",
    "\t\t\tcurr_is_time_bin_non_firing = (curr_total_spike_counts_per_window == 0) # this would mean that no cells fired in this time bin\n",
    "\t\t\t# curr_non_firing_time_bin_indicies = np.where(curr_is_time_bin_non_firing)[0] # TODO: could also filter on a minimum number of spikes larger than zero (e.g. at least 2 spikes are required).\n",
    "\t\t\t# curr_posterior_container = decoder_result.marginal_x_list[decoded_epoch_idx]\n",
    "\t\t\t# curr_posterior = curr_posterior_container.p_x_given_n # TODO: check the posteriors too!\n",
    "\t\t\t# curr_most_likely_positions = curr_posterior_container.most_likely_positions_1D # (n_epoch_time_bins, ) one position for each time bin in the replay\n",
    "\t\t\tcurr_most_likely_position_indicies = a_decoder_result.most_likely_position_indicies_list[decoded_epoch_idx] # (n_epoch_time_bins, ) one position for each time bin in the replay\n",
    "\t\t\t\n",
    "\t\t\t# curr_epoch_observed_num_spikes = decoder_result.spkcount[decoded_epoch_idx] # (nCells, n_epoch_time_bins)\n",
    "\t\t\t\n",
    "\t\t\t# From the firing map of the placefields for this neuron (`decoder_1D.F.T[left_out_neuron_IDX]`) get the value for each position bin index in the epoch\n",
    "\t\t\tcurr_epoch_expected_fr = np.squeeze(a_decoder_1D.F.T[left_out_neuron_IDX][curr_most_likely_position_indicies])\n",
    "\t\t\t# expected_num_spikes = curr_epoch_expected_fr * decoder_result.decoding_time_bin_size\n",
    "\n",
    "\t\t\t# Eqn 1:\n",
    "\t\t\t# p_n_given_x = lambda n: (1.0/factorial(n)) * pow(expected_num_spikes, n) * np.exp(-expected_num_spikes) # likelihood function\n",
    "\t\t\t\n",
    "\t\t\t# Compute the expected firing rate for this cell during each bin by taking the computed position posterior and taking the sum of the element-wise product with the cell's placefield.\n",
    "\t\t\t# curr_epoch_expected_fr = decoder_1D.pf.ratemap.tuning_curve_unsmoothed_peak_firing_rates[left_out_neuron_IDX] * np.array([np.sum(curr_cell_pf_curve * curr_p_x_given_n) for curr_p_x_given_n in curr_epoch_p_x_given_n.T]) # * decoder_1D.pf.ratemap.\n",
    "\t\t\t\n",
    "\t\t\tall_cells_decoded_expected_firing_rates[left_out_aclu].append(curr_epoch_expected_fr)\n",
    "\n",
    "\n",
    "\t\t## End loop over decoded epochs\n",
    "\t\t# assert len(curr_cell_decoded_epoch_time_bins) == len(curr_cell_computed_epoch_surprises)\n",
    "\t\tall_cells_decoded_epoch_time_bins[left_out_aclu] = curr_cell_decoded_epoch_time_bins\n",
    "\n",
    "\t## End loop over cells\n",
    "\n",
    "\n",
    "\t## Reshape to -for-each-epoch instead of -for-each-cell\n",
    "\tall_epochs_decoded_epoch_time_bins = []\n",
    "\t# all_epochs_computed_surprises = []\n",
    "\tall_epochs_computed_expected_cell_firing_rates = []\n",
    "\t# all_epochs_computed_one_left_out_to_global_surprises = []\n",
    "\tfor decoded_epoch_idx in np.arange(active_filter_epochs.n_epochs):\n",
    "\t\tall_epochs_decoded_epoch_time_bins.append(np.array([all_cells_decoded_epoch_time_bins[aclu][decoded_epoch_idx].centers for aclu in a_decoder_1D.neuron_IDs])) # these are duplicated (and the same) for each cell\n",
    "\t\t# all_epochs_computed_surprises.append(np.array([all_cells_computed_epoch_surprises[aclu][decoded_epoch_idx] for aclu in decoder_1D.neuron_IDs]))\n",
    "\t\tall_epochs_computed_expected_cell_firing_rates.append(np.array([all_cells_decoded_expected_firing_rates[aclu][decoded_epoch_idx] for aclu in a_decoder_1D.neuron_IDs]))\n",
    "\t\t# all_epochs_computed_one_left_out_to_global_surprises.append(np.array([all_cells_computed_epoch_one_left_out_to_global_surprises[aclu][decoded_epoch_idx] for aclu in decoder_1D.neuron_IDs]))\n",
    "\n",
    "\t# # assert len(all_epochs_computed_surprises) == active_filter_epochs.n_epochs\n",
    "\t# # assert len(all_epochs_computed_surprises[0]) == decoder_1D.num_neurons\n",
    "\t# flat_all_epochs_decoded_epoch_time_bins = np.hstack(all_epochs_decoded_epoch_time_bins) # .shape (65, 4584) -- (n_neurons, n_epochs * n_timebins_for_epoch_i), combines across all time_bins within all epochs\n",
    "\t# # flat_all_epochs_computed_surprises = np.hstack(all_epochs_computed_surprises) # .shape (65, 4584) -- (n_neurons, n_epochs * n_timebins_for_epoch_i), combines across all time_bins within all epochs\n",
    "\t# flat_all_epochs_computed_expected_cell_firing_rates = np.hstack(all_epochs_computed_expected_cell_firing_rates) # .shape (65, 4584) -- (n_neurons, n_epochs * n_timebins_for_epoch_i), combines across all time_bins within all epochs\n",
    "\t# # flat_all_epochs_computed_one_left_out_to_global_surprises = np.hstack(all_epochs_computed_one_left_out_to_global_surprises) # .shape (65, 4584) -- (n_neurons, n_epochs * n_timebins_for_epoch_i), combines across all time_bins within all epochs\n",
    "\n",
    "\t## These are already in the -for-each-epoch form and just need conversion:\n",
    "\tdecoder_time_bin_centers = [a_decoder_result.time_bin_containers[decoded_epoch_idx].centers for decoded_epoch_idx in np.arange(a_decoder_result.num_filter_epochs)]\n",
    "\tall_epochs_computed_expected_cell_num_spikes = [(all_epochs_computed_expected_cell_firing_rates[decoded_epoch_idx] * a_decoder_result.decoding_time_bin_size) for decoded_epoch_idx in np.arange(a_decoder_result.num_filter_epochs)]\n",
    "\tall_epochs_computed_observed_from_expected_difference = [(all_epochs_computed_expected_cell_num_spikes[decoded_epoch_idx] - a_decoder_result.spkcount[decoded_epoch_idx]) for decoded_epoch_idx in np.arange(a_decoder_result.num_filter_epochs)]\n",
    "\t# Interpolate the measured positions to the window center times:\n",
    "\tmeasured_pos_window_centers = [np.interp(curr_time_bins, active_pos_df.t, active_pos_df.lin_pos) for curr_time_bins in decoder_time_bin_centers] # TODO 2023-05-26: do I want .x or .lin_pos?\n",
    "\t\n",
    "\t## These aggregate over all time bins in each epoch:\n",
    "\t\t# Note that some of these correspond to values that are still separate by cell\n",
    "\n",
    "\tall_epochs_decoded_epoch_time_bins_mean = np.vstack([np.mean(curr_epoch_time_bins, axis=1) for curr_epoch_time_bins in all_epochs_decoded_epoch_time_bins]) # mean over all time bins in each epoch  # .shape (614, 65) - (n_epochs, n_neurons)\n",
    "\tall_epochs_computed_expected_cell_firing_rates_mean = np.vstack([np.mean(curr_epoch_values, axis=1) for curr_epoch_values in all_epochs_computed_expected_cell_firing_rates]) # mean over all time bins in each epoch  # .shape (614, 65) - (n_epochs, n_neurons)\n",
    "\tall_epochs_computed_expected_cell_firing_rates_stddev = np.vstack([np.std(curr_epoch_values, axis=1) for curr_epoch_values in all_epochs_computed_expected_cell_firing_rates]) # mean over all time bins in each epoch  # .shape (614, 65) - (n_epochs, n_neurons)\n",
    "\n",
    "\t# the maximum magnitude difference is found for all timebins within each epoch. This gives 1 value for each epoch\n",
    "\tall_epochs_computed_observed_from_expected_difference_max_index = [np.argmax(np.abs(all_epochs_computed_observed_from_expected_difference[decoded_epoch_idx]), axis=1, keepdims=False) for decoded_epoch_idx in np.arange(a_decoder_result.num_filter_epochs)]\n",
    "\t# all_epochs_computed_observed_from_expected_difference_maximum = [all_epochs_computed_observed_from_expected_difference[decoded_epoch_idx][:, all_epochs_computed_observed_from_expected_difference_max_index[decoded_epoch_idx]] for decoded_epoch_idx in np.arange(a_decoder_result.num_filter_epochs)]\n",
    "\n",
    "\tall_epochs_computed_observed_from_expected_difference_maximum = [np.array([all_epochs_computed_observed_from_expected_difference[decoded_epoch_idx][neuron_IDX, all_epochs_computed_observed_from_expected_difference_max_index[decoded_epoch_idx][neuron_IDX]] for neuron_IDX in np.arange(len(a_decoder_1D.neuron_IDs))]) for decoded_epoch_idx in np.arange(a_decoder_result.num_filter_epochs)]\n",
    "\t\n",
    "\t# all_epochs_computed_observed_from_expected_difference_maximum = [all_epochs_computed_observed_from_expected_difference[decoded_epoch_idx][all_epochs_computed_observed_from_expected_difference_max_index[decoded_epoch_idx]] for decoded_epoch_idx in np.arange(a_decoder_result.num_filter_epochs)]\n",
    "\t# all_epochs_computed_observed_from_expected_difference_maximum = [np.mean(all_epochs_computed_observed_from_expected_difference[decoded_epoch_idx], axis=1) for decoded_epoch_idx in np.arange(a_decoder_result.num_filter_epochs)]\n",
    "\n",
    "\treturn decoder_time_bin_centers, all_epochs_computed_expected_cell_num_spikes, all_epochs_computed_observed_from_expected_difference, measured_pos_window_centers, (all_epochs_decoded_epoch_time_bins_mean, all_epochs_computed_expected_cell_firing_rates_mean, all_epochs_computed_expected_cell_firing_rates_stddev, all_epochs_computed_observed_from_expected_difference_maximum)\n",
    "\n"
   ]
  },
  {
   "cell_type": "code",
   "execution_count": 31,
   "id": "d4ba9abd",
   "metadata": {},
   "outputs": [],
   "source": [
    "\n",
    "# long_one_step_decoder_1D, short_one_step_decoder_1D, long_replays, short_replays, global_replays, long_shared_aclus_only_decoder, short_shared_aclus_only_decoder, shared_aclus\n",
    "\n",
    "active_pos_df = global_session.position.to_dataframe()\n",
    "assert (long_results_obj.active_filter_epochs.as_array() == short_results_obj.active_filter_epochs.as_array()).all() # ensure that the active_filter_epochs for both are the same.\n",
    "active_filter_epochs = long_results_obj.active_filter_epochs\n",
    "\n",
    "## Long Specific:\n",
    "decoder_1D_LONG = long_results_obj.original_1D_decoder\n",
    "decoder_result_LONG = long_results_obj.all_included_filter_epochs_decoder_result\n",
    "# call `compute_measured_vs_expected_firing_rates`\n",
    "decoder_time_bin_centers_LONG, all_epochs_computed_expected_cell_num_spikes_LONG, all_epochs_computed_observed_from_expected_difference_LONG, measured_pos_window_centers_LONG, (all_epochs_decoded_epoch_time_bins_mean_LONG, all_epochs_computed_expected_cell_firing_rates_mean_LONG, all_epochs_computed_expected_cell_firing_rates_stddev_LONG, all_epochs_computed_observed_from_expected_difference_maximum_LONG) = compute_measured_vs_expected_firing_rates(active_pos_df, active_filter_epochs, decoder_1D_LONG, decoder_result_LONG)\n",
    "# The Flat_* versions exist because it's difficult to plot while all of the metrics are separated in lists.\n",
    "Flat_decoder_time_bin_centers_LONG = np.concatenate(decoder_time_bin_centers_LONG) # .shape: (412,)\n",
    "Flat_all_epochs_computed_expected_cell_num_spikes_LONG = [np.concatenate([all_epochs_computed_observed_from_expected_difference_LONG[decoded_epoch_idx][target_neuron_IDX, :] for decoded_epoch_idx in np.arange(decoder_result_LONG.num_filter_epochs)]) for target_neuron_IDX in decoder_1D_LONG.neuron_IDXs] # a list for each neuron\n",
    "# Flat_all_epochs_computed_expected_cell_num_spikes"
   ]
  },
  {
   "cell_type": "code",
   "execution_count": 32,
   "id": "a6a07eda",
   "metadata": {},
   "outputs": [],
   "source": [
    "## Short Specific:\n",
    "decoder_1D_SHORT = short_results_obj.original_1D_decoder\n",
    "decoder_result_SHORT = short_results_obj.all_included_filter_epochs_decoder_result\n",
    "\n",
    "# call `compute_measured_vs_expected_firing_rates`\n",
    "decoder_time_bin_centers_SHORT, all_epochs_computed_expected_cell_num_spikes_SHORT, all_epochs_computed_observed_from_expected_difference_SHORT, measured_pos_window_centers_SHORT, (all_epochs_decoded_epoch_time_bins_mean_SHORT, all_epochs_computed_expected_cell_firing_rates_mean_SHORT, all_epochs_computed_expected_cell_firing_rates_stddev_SHORT, all_epochs_computed_observed_from_expected_difference_maximum_SHORT) = compute_measured_vs_expected_firing_rates(active_pos_df, active_filter_epochs, decoder_1D_SHORT, decoder_result_SHORT)\n",
    "# The Flat_* versions exist because it's difficult to plot while all of the metrics are separated in lists.\n",
    "Flat_decoder_time_bin_centers_SHORT = np.concatenate(decoder_time_bin_centers_SHORT) # .shape: (412,)\n",
    "Flat_all_epochs_computed_expected_cell_num_spikes_SHORT = [np.concatenate([all_epochs_computed_observed_from_expected_difference_SHORT[decoded_epoch_idx][target_neuron_IDX, :] for decoded_epoch_idx in np.arange(decoder_result_SHORT.num_filter_epochs)]) for target_neuron_IDX in decoder_1D_SHORT.neuron_IDXs] # a list for each neuron\n",
    "Flat_epoch_time_bins_mean = all_epochs_decoded_epoch_time_bins_mean_SHORT[:,0]\n"
   ]
  },
  {
   "cell_type": "code",
   "execution_count": null,
   "id": "d1e91c56",
   "metadata": {},
   "outputs": [],
   "source": [
    "# Sanity Checks that the LONG and SHORT decoders and their decoded results aren't identical:\n",
    "assert (Flat_decoder_time_bin_centers_SHORT == Flat_decoder_time_bin_centers_LONG).all()\n",
    "assert (decoder_1D_LONG.neuron_IDs == decoder_1D_SHORT.neuron_IDs).all()\n",
    "assert not (decoder_1D_LONG.P_x == decoder_1D_SHORT.P_x).all() # the occupancies shouldn't be identical between the two encoders, this might indicate an error\n",
    "assert not (decoder_1D_LONG.F == decoder_1D_SHORT.F).all() # the placefields shouldn't be identical between the two encoders, this might indicate an error\n",
    "assert not np.array([(Flat_all_epochs_computed_expected_cell_num_spikes_LONG[i] == Flat_all_epochs_computed_expected_cell_num_spikes_SHORT[i]).all() for i in np.arange(active_filter_epochs.n_epochs)]).all(), \"all expected number spikes for all cells should not be the same for two different decoders! This likely indicates an error!\""
   ]
  },
  {
   "attachments": {},
   "cell_type": "markdown",
   "id": "767fe16d",
   "metadata": {},
   "source": [
    "# 2023-05-26 - MONDAY TODO - Plot the `all_epochs_computed_observed_from_expected_difference_maximum` which should show the change from expectation for each neuron."
   ]
  },
  {
   "cell_type": "code",
   "execution_count": null,
   "id": "77839462",
   "metadata": {},
   "outputs": [],
   "source": [
    "# UNUSED: Test for a single epoch:\n",
    "decoded_epoch_idx = 2\n",
    "curr_epoch_observed_num_spikes = decoder_result_LONG.spkcount[decoded_epoch_idx] # (nCells, n_epoch_time_bins)\n",
    "curr_epoch_observed_num_spikes #.shape: (42, 8)\n",
    "\n",
    "curr_epoch_expected_num_spikes = all_epochs_computed_expected_cell_num_spikes_LONG[decoded_epoch_idx] # (nCells, n_epoch_time_bins)\n",
    "curr_epoch_expected_num_spikes.shape # (42, 8)\n",
    "assert curr_epoch_observed_num_spikes.shape == curr_epoch_expected_num_spikes.shape, f\"curr_epoch_observed_num_spikes.shape: {curr_epoch_observed_num_spikes.shape} != curr_epoch_expected_num_spikes.shape: {curr_epoch_expected_num_spikes.shape}\"\n",
    "# all_epochs_computed_expected_cell_firing_rates[decoded_epoch_idx].shape\n",
    "\n"
   ]
  },
  {
   "cell_type": "code",
   "execution_count": null,
   "id": "8621b9fa",
   "metadata": {},
   "outputs": [],
   "source": [
    "decoder_1D_LONG.num_neurons\n",
    "decoder_1D_LONG.neuron_IDXs\n",
    "decoder_1D_LONG.neuron_IDs"
   ]
  },
  {
   "cell_type": "code",
   "execution_count": 38,
   "id": "c07e626f",
   "metadata": {},
   "outputs": [
    {
     "data": {
      "text/plain": [
       "(30, 120)"
      ]
     },
     "execution_count": 38,
     "metadata": {},
     "output_type": "execute_result"
    }
   ],
   "source": [
    "len(all_epochs_computed_observed_from_expected_difference_maximum_LONG) # len(...): 20 (n_epochs)\n",
    "all_epochs_computed_observed_from_expected_difference_maximum_LONG[0].shape # [0].shape: (22, ) (n_cells, )\n",
    "\n",
    "all_epochs_computed_observed_from_expected_difference_maximum_LONG = np.vstack(all_epochs_computed_observed_from_expected_difference_maximum_LONG).T #.shape (20, 22)\n",
    "# all_epochs_computed_observed_from_expected_difference_maximum_LONG # [1].shape (20,)\n",
    "all_epochs_computed_observed_from_expected_difference_maximum_SHORT = np.vstack(all_epochs_computed_observed_from_expected_difference_maximum_SHORT).T #.shape (20,\t22)\n",
    "\n",
    "all_epochs_computed_observed_from_expected_difference_maximum_SHORT.shape # [0,:].shape"
   ]
  },
  {
   "cell_type": "code",
   "execution_count": 35,
   "id": "d599509c",
   "metadata": {},
   "outputs": [],
   "source": [
    "t_SHARED = Flat_decoder_time_bin_centers.copy()\n",
    "y_LONG = Flat_all_epochs_computed_expected_cell_num_spikes_LONG.copy()\n",
    "y_SHORT = Flat_all_epochs_computed_expected_cell_num_spikes_SHORT.copy()"
   ]
  },
  {
   "cell_type": "code",
   "execution_count": 39,
   "id": "7dfaf1c6",
   "metadata": {},
   "outputs": [],
   "source": [
    "t_SHARED = Flat_epoch_time_bins_mean.copy()\n",
    "y_LONG = all_epochs_computed_observed_from_expected_difference_maximum_LONG.copy()\n",
    "y_SHORT = all_epochs_computed_observed_from_expected_difference_maximum_SHORT.copy()"
   ]
  },
  {
   "cell_type": "code",
   "execution_count": 40,
   "id": "d6fe25ff",
   "metadata": {},
   "outputs": [
    {
     "name": "stdout",
     "output_type": "stream",
     "text": [
      "global_y_min_SHORT: -5.945819796036196, global_y_max_SHORT: 0.6927410250008998\n",
      "global_y_min_LONG: -5.790890246716992, global_y_max_LONG: 0.4978661095184945\n",
      "global_y_min: -5.945819796036196, global_y_max: 0.6927410250008998\n"
     ]
    }
   ],
   "source": [
    "import matplotlib\n",
    "from neuropy.utils.matplotlib_helpers import draw_epoch_regions\n",
    "%matplotlib qt\n",
    "import matplotlib.pyplot as plt\n",
    "\n",
    "\n",
    "\"\"\" plots one subplot for each neuron. \n",
    "\n",
    "t_SHARED, y_LONG, y_SHORT\n",
    "\n",
    "\"\"\"\n",
    "\n",
    "\n",
    "# the y-min and max across all cells and time bins:\n",
    "global_y_max_SHORT = np.max([np.max(v) for v in y_SHORT]) # 0.9280231494040394\n",
    "global_y_min_SHORT = np.min([np.min(v) for v in y_SHORT]) # -4.850176354048617\n",
    "print(f'global_y_min_SHORT: {global_y_min_SHORT}, global_y_max_SHORT: {global_y_max_SHORT}')\n",
    "\n",
    "global_y_max_LONG = np.max([np.max(v) for v in y_LONG]) # 0.9280231494040394\n",
    "global_y_min_LONG = np.min([np.min(v) for v in y_LONG]) # -4.850176354048617\n",
    "print(f'global_y_min_LONG: {global_y_min_LONG}, global_y_max_LONG: {global_y_max_LONG}')\n",
    "\n",
    "# the y-min and max across all cells and time bins:\n",
    "global_y_max = np.max([global_y_max_LONG, global_y_max_SHORT]) # 0.9280231494040394\n",
    "global_y_min = np.min([global_y_min_LONG, global_y_min_SHORT]) # -4.850176354048617\n",
    "print(f'global_y_min: {global_y_min}, global_y_max: {global_y_max}')\n",
    "\n",
    "\n",
    "fig, axes = plt.subplots(ncols=1, nrows=20, sharex=True, sharey=True)\n",
    "\n",
    "shift_offset = 0\n",
    "for i, ax in enumerate(axes):\n",
    "\tshifted_i = shift_offset + i\n",
    "\tneuron_IDX = decoder_1D_LONG.neuron_IDXs[shifted_i]\n",
    "\tneuron_id = decoder_1D_LONG.neuron_IDs[shifted_i]\n",
    "\t\n",
    "\t# ax.scatter(Flat_decoder_time_bin_centers, np.concatenate([all_epochs_computed_observed_from_expected_difference[decoded_epoch_idx][neuron_IDX, :] for decoded_epoch_idx in np.arange(decoder_result.num_filter_epochs)]), marker=\"o\",  s=2)\n",
    "\t# ax.scatter(Flat_decoder_time_bin_centers, Flat_all_epochs_computed_expected_cell_num_spikes[neuron_IDX], marker=\"o\",  s=2, label=f'long[{neuron_id}]')\n",
    "\tax.axhline(y=0.0, linewidth=1, color='k') # the y=0.0 line\n",
    "\t# Per-epoch result:\n",
    "\t# ax.scatter(Flat_decoder_time_bin_centers_LONG, Flat_all_epochs_computed_expected_cell_num_spikes_LONG[neuron_IDX], marker=\"o\",  s=2, label=f'Long[{neuron_id}]')\n",
    "\t# ax.scatter(Flat_decoder_time_bin_centers_SHORT, Flat_all_epochs_computed_expected_cell_num_spikes_SHORT[neuron_IDX], marker=\"o\",  s=2, label=f'Short[{neuron_id}]')\n",
    "\n",
    "\t## Add in the mean epoch difference:\n",
    "\tax.scatter(t_SHARED, all_epochs_computed_observed_from_expected_difference_maximum_LONG[neuron_IDX, :], marker=\"s\",  s=5, label=f'E<Long[{neuron_id}]>')\n",
    "\tax.scatter(t_SHARED, all_epochs_computed_observed_from_expected_difference_maximum_SHORT[neuron_IDX, :], marker=\"s\",  s=5, label=f'E<Short[{neuron_id}]>')\n",
    "\n",
    "\tax.set_ylabel(f'{neuron_id}')\n",
    "\t\n",
    "\tepochs_collection, epoch_labels = draw_epoch_regions(curr_active_pipeline.sess.epochs, ax, defer_render=False, debug_print=False)\n",
    "\t\n",
    "# Set the x-axis and y-axis limits of the first subplot, which because sharex=True and sharey=True will set the rest of the plots too\n",
    "axes[0].set_xlim([Flat_decoder_time_bin_centers_LONG[0], Flat_decoder_time_bin_centers_LONG[-1]])\n",
    "axes[0].set_ylim([global_y_min, global_y_max])\n",
    "\n",
    "plt.title('Expected vs. Observed Firing Rates (by Replay Epoch)')\n",
    "\n",
    "plt.show()"
   ]
  },
  {
   "cell_type": "code",
   "execution_count": null,
   "id": "6747a220",
   "metadata": {},
   "outputs": [],
   "source": []
  },
  {
   "cell_type": "code",
   "execution_count": null,
   "id": "815d9fc2",
   "metadata": {},
   "outputs": [],
   "source": []
  },
  {
   "cell_type": "code",
   "execution_count": null,
   "id": "993412e0",
   "metadata": {},
   "outputs": [],
   "source": [
    "all_epochs_computed_observed_from_expected_difference_LONG[0] #.shape (42, 8)"
   ]
  },
  {
   "cell_type": "code",
   "execution_count": null,
   "id": "0319692c",
   "metadata": {},
   "outputs": [],
   "source": [
    "all_epochs_computed_observed_from_expected_difference_maximum_LONG[0] # .shape (42, 8)"
   ]
  },
  {
   "cell_type": "code",
   "execution_count": null,
   "id": "2fee52d0",
   "metadata": {},
   "outputs": [],
   "source": [
    "all_epochs_computed_expected_cell_firing_rates_mean_LONG[0] # .shape (42,)"
   ]
  },
  {
   "cell_type": "code",
   "execution_count": null,
   "id": "e21dbc64",
   "metadata": {},
   "outputs": [],
   "source": [
    "all_epochs_computed_observed_from_expected_difference_LONG[0].shape"
   ]
  },
  {
   "attachments": {},
   "cell_type": "markdown",
   "id": "0c232970",
   "metadata": {},
   "source": [
    "# Rate Remapping Investigations"
   ]
  },
  {
   "cell_type": "code",
   "execution_count": null,
   "id": "5af84b0f",
   "metadata": {},
   "outputs": [],
   "source": [
    "from neuropy.core.neurons import NeuronType\n",
    "from pyphoplacecellanalysis.General.Pipeline.Stages.ComputationFunctions.MultiContextComputationFunctions.LongShortTrackComputations import compute_rate_remapping_stats\n",
    "rate_remapping_df = compute_rate_remapping_stats(curr_active_pipeline.global_computation_results.computed_data.long_short_fr_indicies_analysis, global_session.neurons.aclu_to_neuron_type_map, considerable_remapping_threshold=0.7)\n",
    "# rate_remapping_df\n",
    "high_remapping_cells_only = rate_remapping_df[rate_remapping_df['has_considerable_remapping']] \n",
    "high_remapping_cells_only"
   ]
  },
  {
   "cell_type": "code",
   "execution_count": null,
   "id": "3275335a",
   "metadata": {},
   "outputs": [],
   "source": [
    "high_remapping_cells_only.index"
   ]
  },
  {
   "cell_type": "code",
   "execution_count": null,
   "id": "4fa8168b",
   "metadata": {},
   "outputs": [],
   "source": [
    "# rate_remapping_df.to_clipboard()\n",
    "rate_remapping_df"
   ]
  },
  {
   "cell_type": "code",
   "execution_count": null,
   "id": "b9003439",
   "metadata": {},
   "outputs": [],
   "source": [
    "# Extract rr_* variables from rate_remapping_df\n",
    "rr_aclus = rate_remapping_df.index.values\n",
    "rr_laps, rr_replays, rr_skew, rr_neuron_type = [rate_remapping_df[n].values for n in ['laps', 'replays', 'skew', 'neuron_type']]\n"
   ]
  },
  {
   "cell_type": "code",
   "execution_count": null,
   "id": "79483e2d",
   "metadata": {},
   "outputs": [],
   "source": [
    "# Plot using Paginator:\n",
    "import matplotlib.pyplot as plt\n",
    "%matplotlib qt\n",
    "\n",
    "from pyphoplacecellanalysis.General.Pipeline.Stages.DisplayFunctions.MultiContextComparingDisplayFunctions.LongShortTrackComparingDisplayFunctions import RateRemappingPaginatedFigureController\n",
    "\n",
    "## Paginated multi-plot\n",
    "active_identifying_session_ctx = curr_active_pipeline.sess.get_context()\n",
    "_out_rr_pagination_controller = RateRemappingPaginatedFigureController.init_from_rr_data(rr_aclus, rr_laps, rr_replays, rr_neuron_type, max_subplots_per_page=20, a_name='TestRateRemappingPaginatedFigureController', active_context=active_identifying_session_ctx)\n",
    "a_paginator = _out_rr_pagination_controller.plots_data.paginator"
   ]
  },
  {
   "attachments": {},
   "cell_type": "markdown",
   "id": "a16a3469",
   "metadata": {},
   "source": [
    "# Weird Plotting Stuff"
   ]
  },
  {
   "cell_type": "code",
   "execution_count": null,
   "id": "6688edf5",
   "metadata": {},
   "outputs": [],
   "source": [
    "active_identifying_filtered_session_ctx = global_epoch_context\n",
    "display_output = curr_active_pipeline.display('_display_spike_rasters_window', active_identifying_filtered_session_ctx, type_of_3d_plotter=None) # , type_of_3d_plotter=None\n",
    "spike_raster_window = display_output['spike_raster_window']\n",
    "# Extras:\n",
    "active_2d_plot = spike_raster_window.spike_raster_plt_2d # <pyphoplacecellanalysis.GUI.PyQtPlot.Widgets.SpikeRasterWidgets.Spike2DRaster.Spike2DRaster at 0x196c7244280>\n",
    "active_3d_plot = spike_raster_window.spike_raster_plt_3d # <pyphoplacecellanalysis.GUI.PyQtPlot.Widgets.SpikeRasterWidgets.Spike2DRaster.Spike2DRaster at 0x196c7244280>\n",
    "main_graphics_layout_widget = active_2d_plot.ui.main_graphics_layout_widget # GraphicsLayoutWidget\n",
    "main_plot_widget = active_2d_plot.plots.main_plot_widget # PlotItem\n",
    "background_static_scroll_plot_widget = active_2d_plot.plots.background_static_scroll_window_plot # PlotItem\n",
    "\n",
    "# _plot_obj"
   ]
  },
  {
   "cell_type": "code",
   "execution_count": null,
   "id": "bc5cdbc9",
   "metadata": {},
   "outputs": [],
   "source": [
    "from pyphocorehelpers.programming_helpers import IPythonHelpers\n",
    "\n",
    "long_short_fr_indicies_analysis_results = curr_active_pipeline.global_computation_results.computed_data['long_short_fr_indicies_analysis']\n",
    "x_frs_dict, y_frs_dict = long_short_fr_indicies_analysis_results['x_frs_index'], long_short_fr_indicies_analysis_results['y_frs_index'] # use the all_results_dict as the computed data value\n",
    "active_context = long_short_fr_indicies_analysis_results['active_context']\n",
    "# IPythonHelpers.cell_vars(lambda: globals())"
   ]
  },
  {
   "cell_type": "code",
   "execution_count": null,
   "id": "39f99839",
   "metadata": {},
   "outputs": [],
   "source": [
    "long_short_fr_indicies_df = pd.DataFrame({'aclu': list(x_frs_dict.keys()), 'replay_fr_idx': list(x_frs_dict.values()), 'laps_fr_idx': list(y_frs_dict.values())}) # , columns=['aclu','replay_frs']\n",
    "long_short_fr_indicies_df.set_index('aclu', inplace=True)\n",
    "# long_short_fr_indicies_df\n",
    "# long_short_fr_indicies_df.to_clipboard()\n",
    "long_short_fr_indicies_df"
   ]
  },
  {
   "cell_type": "code",
   "execution_count": null,
   "id": "58696b73",
   "metadata": {},
   "outputs": [],
   "source": [
    "long_short_fr_indicies_analysis_results"
   ]
  },
  {
   "cell_type": "code",
   "execution_count": null,
   "id": "26804fbe",
   "metadata": {},
   "outputs": [],
   "source": [
    "from pyphoplacecellanalysis.General.Mixins.CrossComputationComparisonHelpers import build_neurons_color_map # for plot_short_v_long_pf1D_comparison\n",
    "\n",
    "# Get existing long/short decoders from the cell under \"# 2023-02-24 Decoders\"\n",
    "long_decoder, short_decoder = deepcopy(long_one_step_decoder_1D), deepcopy(short_one_step_decoder_1D)\n",
    "assert np.all(long_decoder.xbin == short_decoder.xbin)"
   ]
  },
  {
   "attachments": {},
   "cell_type": "markdown",
   "id": "a7742482",
   "metadata": {},
   "source": [
    "## 2023-05-01 - Test my interneuron hypothesis by looking at interneurons across the long/short divide\n",
    "\n",
    " 1. Interneuron identity should be best determinant of active environment.\n",
    "\n",
    " 2. Do people know anything about interneurons that activate in a given environment? For example, to interneurons activate alongside pyramidal cells when replaying a given environment?\n",
    "\n",
    " 3. \n"
   ]
  },
  {
   "cell_type": "code",
   "execution_count": null,
   "id": "32b7df38",
   "metadata": {},
   "outputs": [],
   "source": [
    "\n",
    "\n",
    "# 1. Interneuron identity should be best determinant of active environment.\n",
    "\n",
    "# 2. Do people know anything about interneurons that activate in a given environment? For example, to interneurons activate alongside pyramidal cells when replaying a given environment?\n",
    "\n",
    "# 3. \n",
    "# global_results.pf1D_dt.reset()\n",
    "# global_results.pf2D_dt.reset()\n",
    "# global_results.all_attributes\n",
    "\n",
    "list(curr_active_pipeline.global_computation_results.computed_data.jonathan_firing_rate_analysis.keys())\n",
    "\n",
    "curr_active_pipeline.global_computation_results.computed_data.long_short"
   ]
  },
  {
   "cell_type": "code",
   "execution_count": null,
   "id": "4a2d06a7",
   "metadata": {},
   "outputs": [],
   "source": [
    "from pyphoplacecellanalysis.General.Pipeline.Stages.ComputationFunctions.MultiContextComputationFunctions.LongShortTrackComputations import JonathanFiringRateAnalysisResult\n",
    "\n",
    "jonathan_firing_rate_analysis_result = JonathanFiringRateAnalysisResult(**curr_active_pipeline.global_computation_results.computed_data.jonathan_firing_rate_analysis.to_dict())"
   ]
  },
  {
   "cell_type": "code",
   "execution_count": null,
   "id": "33ac6c8d",
   "metadata": {},
   "outputs": [],
   "source": [
    "jonathan_firing_rate_analysis_result.rdf.rdf"
   ]
  },
  {
   "cell_type": "code",
   "execution_count": null,
   "id": "bdc9c2e5",
   "metadata": {},
   "outputs": [],
   "source": [
    "jonathan_firing_rate_analysis_result.time_binned_instantaneous_unit_specific_spike_rate.time_bins #.shape"
   ]
  },
  {
   "cell_type": "code",
   "execution_count": null,
   "id": "785ca961",
   "metadata": {},
   "outputs": [],
   "source": [
    "import matplotlib\n",
    "%matplotlib qt\n",
    "import matplotlib.pyplot as plt\n",
    "instantaneous_fr_df = deepcopy(jonathan_firing_rate_analysis_result.time_binned_instantaneous_unit_specific_spike_rate.instantaneous_unit_specific_spike_rate_values)\n",
    "instantaneous_fr_df['t'] = jonathan_firing_rate_analysis_result.time_binned_instantaneous_unit_specific_spike_rate.time_bins\n",
    "instantaneous_fr_df #.plot()\n",
    "\n",
    "smoothed_instantaneous_fr_df = instantaneous_fr_df.ewm(span=60).mean()\n",
    "\n",
    "smoothed_instantaneous_fr_df.plot(x='t')\n",
    "plt.title(\"Instantaneous Firing Rates\")\n",
    "plt.xlabel('time')\n",
    "plt.ylabel('Firing Rate (Hz)')"
   ]
  },
  {
   "cell_type": "code",
   "execution_count": null,
   "id": "0c8b7bbd",
   "metadata": {
    "tags": [
     "output",
     "figure",
     "display",
     "ACTIVE"
    ]
   },
   "outputs": [],
   "source": [
    "import matplotlib\n",
    "%matplotlib qt\n",
    "import matplotlib.pyplot as plt\n",
    "from pyphoplacecellanalysis.General.Mixins.ExportHelpers import build_figure_basename_from_display_context\n",
    "from pyphoplacecellanalysis.General.Pipeline.Stages.DisplayFunctions.MultiContextComparingDisplayFunctions.LongShortTrackComparingDisplayFunctions import _plot_session_long_short_track_firing_rate_figures\n",
    "from pyphoplacecellanalysis.General.Pipeline.Stages.ComputationFunctions.MultiContextComputationFunctions.LongShortTrackComputations import JonathanFiringRateAnalysisResult\n",
    "\n",
    "jonathan_firing_rate_analysis_result = JonathanFiringRateAnalysisResult(**curr_active_pipeline.global_computation_results.computed_data.jonathan_firing_rate_analysis.to_dict())\n",
    "long_plots, short_plots = _plot_session_long_short_track_firing_rate_figures(curr_active_pipeline, jonathan_firing_rate_analysis_result, figures_parent_out_path=curr_active_pipeline.get_output_path())"
   ]
  },
  {
   "cell_type": "code",
   "execution_count": null,
   "id": "345b3cca",
   "metadata": {},
   "outputs": [],
   "source": [
    "instantaneous_fr_df.set_index('t').to_clipboard()"
   ]
  },
  {
   "cell_type": "code",
   "execution_count": null,
   "id": "c7ff9bb5",
   "metadata": {},
   "outputs": [],
   "source": [
    "## Require placefield presence on either the long or the short\n",
    "jonathan_firing_rate_analysis_result.neuron_replay_stats_df = jonathan_firing_rate_analysis_result.neuron_replay_stats_df[np.logical_or(jonathan_firing_rate_analysis_result.neuron_replay_stats_df['has_long_pf'], jonathan_firing_rate_analysis_result.neuron_replay_stats_df['has_short_pf'])]"
   ]
  },
  {
   "cell_type": "code",
   "execution_count": null,
   "id": "87851fff",
   "metadata": {},
   "outputs": [],
   "source": [
    "jonathan_firing_rate_analysis_result.neuron_replay_stats_df[np.logical_or(jonathan_firing_rate_analysis_result.neuron_replay_stats_df['has_long_pf'], jonathan_firing_rate_analysis_result.neuron_replay_stats_df['has_short_pf'])].index.to_numpy()"
   ]
  },
  {
   "attachments": {},
   "cell_type": "markdown",
   "id": "8de2e3da",
   "metadata": {},
   "source": [
    "# 2023-05-19 - Testing S-only emergence, L-only replays in S, peak position remappings "
   ]
  },
  {
   "cell_type": "code",
   "execution_count": null,
   "id": "d082385f",
   "metadata": {},
   "outputs": [],
   "source": [
    "from pyphoplacecellanalysis.General.Pipeline.Stages.ComputationFunctions.MultiContextComputationFunctions.LongShortTrackComputations import JonathanFiringRateAnalysisResult\n",
    "\n",
    "jonathan_firing_rate_analysis_result = JonathanFiringRateAnalysisResult(**curr_active_pipeline.global_computation_results.computed_data.jonathan_firing_rate_analysis.to_dict())\n",
    "neuron_replay_stats_df = jonathan_firing_rate_analysis_result.neuron_replay_stats_df.copy()\n",
    "neuron_replay_stats_df"
   ]
  },
  {
   "cell_type": "code",
   "execution_count": null,
   "id": "d23e5131",
   "metadata": {},
   "outputs": [],
   "source": [
    "\n",
    "from pyphoplacecellanalysis.General.Mixins.CrossComputationComparisonHelpers import SplitPartitionMembership, SetPartition\n",
    "## 2023-05-19 - Get S-only pfs\n",
    "is_S_pf_only = np.logical_and(np.logical_not(neuron_replay_stats_df['has_long_pf']), neuron_replay_stats_df['has_short_pf'])\n",
    "is_S_only = neuron_replay_stats_df.track_membership == SplitPartitionMembership.RIGHT_ONLY\n",
    "assert (is_S_pf_only == is_S_only).all()\n",
    "S_only_aclus = neuron_replay_stats_df.index[is_S_only].to_numpy()\n",
    "neuron_replay_stats_df[is_S_pf_only]\n"
   ]
  },
  {
   "cell_type": "code",
   "execution_count": null,
   "id": "3bc5b2a5",
   "metadata": {},
   "outputs": [],
   "source": [
    "\n",
    "## Show L-only pfs stop replaying on S\n",
    "is_L_pf_only = np.logical_and(np.logical_not(neuron_replay_stats_df['has_short_pf']), neuron_replay_stats_df['has_long_pf'])\n",
    "is_L_only = neuron_replay_stats_df.track_membership == SplitPartitionMembership.LEFT_ONLY\n",
    "assert (is_L_pf_only == is_L_only).all()\n",
    "L_only_aclus = neuron_replay_stats_df.index[is_L_only].to_numpy()\n",
    "neuron_replay_stats_df[is_L_only]\n",
    "\n",
    "\n",
    "## For ('kdiba', 'gor01', 'one', '2006-6-09_1-22-43') - Have L-only cells [24, 98] that have ['short_num_replays'] = [8, 7]. We were hoping that there would be few to no replays on the S-track that involved L-only cells."
   ]
  },
  {
   "cell_type": "code",
   "execution_count": null,
   "id": "5b3bdd19",
   "metadata": {},
   "outputs": [],
   "source": [
    "## 2023-05-23 - Get Common (SHARED) placefields\n",
    "## Goal 1: From the cells with the placefields on both tracks, compute the degree to which they remap in position and sort them according to their distance.\n",
    "is_BOTH_pf_only = np.logical_and(neuron_replay_stats_df['has_short_pf'], neuron_replay_stats_df['has_long_pf']) # (63,)\n",
    "BOTH_pf_only_aclus = neuron_replay_stats_df.index[is_BOTH_pf_only].to_numpy()\n",
    "\n",
    "## NOTE: is_BOTH_pf_only is a much more stringent requirement (and a strict subset) than `is_BOTH_only`\n",
    "is_BOTH_only = neuron_replay_stats_df.track_membership == SplitPartitionMembership.SHARED # (99,)\n",
    "BOTH_only_aclus = neuron_replay_stats_df.index[is_BOTH_only].to_numpy()\n",
    "assert BOTH_only_aclus.shape[0] >= BOTH_pf_only_aclus.shape[0]\n",
    "\n",
    "BOTH_pf_only_df = neuron_replay_stats_df[is_BOTH_pf_only].copy()\n",
    "BOTH_pf_only_df['long_short_pf_peak_x_displacement'] = BOTH_pf_only_df['long_pf_peak_x'].values - BOTH_pf_only_df['short_pf_peak_x'].values\n",
    "BOTH_pf_only_df['long_short_pf_peak_x_distance'] = BOTH_pf_only_df['long_short_pf_peak_x_displacement'].abs()\n",
    "BOTH_pf_only_df.sort_values(by=['long_short_pf_peak_x_distance'], inplace=True, ascending=False)\n",
    "BOTH_pf_only_df\n",
    "\n",
    "#TODO 2023-05-23 - Can do more detailed peaks analysis with: long_results.RatemapPeaksAnalysis and short_results.RatemapPeaksAnalysis\n",
    "\n"
   ]
  },
  {
   "cell_type": "code",
   "execution_count": null,
   "id": "70fb4c4c",
   "metadata": {
    "notebookRunGroups": {
     "groupValue": "1"
    }
   },
   "outputs": [],
   "source": [
    "long_results"
   ]
  },
  {
   "cell_type": "code",
   "execution_count": null,
   "id": "e3f51c29",
   "metadata": {},
   "outputs": [],
   "source": [
    "\"\"\" 24 cells, 133 Epochs, 789 Total Timebins\n",
    "# Other\n",
    "\t\n",
    "\t- is_non_firing_time_bin: numpy.ndarray - (24, 789)\n",
    "\t- all_epochs_num_epoch_time_bins: numpy.ndarray - (133,)\n",
    "\t\n",
    "    ## Indexing Helpers:\n",
    "\t\t- all_epochs_reverse_flat_epoch_indicies_array: numpy.ndarray - (789,)\n",
    "\t\t- split_by_epoch_reverse_flattened_time_bin_indicies: list - (133,)\n",
    "    \n",
    "\t- original_1D_decoder: pyphoplacecellanalysis.Analysis.Decoder.reconstruction.BasePositionDecoder\n",
    "\t\t- pf: neuropy.analyses.placefields.PfND\n",
    "\t\t- neuron_IDXs: numpy.ndarray - (24,)\n",
    "\t\t- neuron_IDs: numpy.ndarray - (24,)\n",
    "\t\t- F: numpy.ndarray - (119, 24)\n",
    "\t\t- P_x: numpy.ndarray - (119, 1)\n",
    "        \n",
    "\t- flat_all_epochs_decoded_epoch_time_bins: numpy.ndarray - (24, 789)\n",
    "\n",
    "# Measured\n",
    "\t- flat_all_epochs_measured_cell_spike_counts: numpy.ndarray - (24, 789)\n",
    "\t- flat_all_epochs_measured_cell_firing_rates: numpy.ndarray - (24, 789)\n",
    "\n",
    "\n",
    "# Expected\n",
    "\t- flat_all_epochs_computed_expected_cell_firing_rates: numpy.ndarray - (24, 789)\n",
    "\t- flat_all_epochs_difference_from_expected_cell_spike_counts: numpy.ndarray - (24, 789)\n",
    "\t- flat_all_epochs_difference_from_expected_cell_firing_rates: numpy.ndarray - (24, 789)\n",
    "    \n",
    "    \n",
    "    \n",
    "## Epoch-based\n",
    "\t- all_epochs_decoded_epoch_time_bins_mean: numpy.ndarray - (133, 24)\n",
    "\n",
    "    \n",
    "    \n",
    "    \n",
    "- flat_all_epochs_measured_cell_firing_rates: numpy.ndarray - .shape: (24, 789) \n",
    "- flat_all_epochs_computed_expected_cell_firing_rates: numpy.ndarray - .shape: (24, 789)\n",
    "\n",
    "\n",
    "\"\"\""
   ]
  },
  {
   "cell_type": "code",
   "execution_count": null,
   "id": "f0b3a9f1",
   "metadata": {},
   "outputs": [],
   "source": [
    "long_results_obj.flat_all_epochs_computed_expected_cell_firing_rates\n",
    "long_results_obj.flat_all_epochs_measured_cell_firing_rates\n",
    "\n",
    "# long_results_obj.result_df_grouped\n",
    "\n",
    "\n",
    "measured_dfs = pd.DataFrame(long_results_obj.flat_all_epochs_measured_cell_firing_rates.T, columns=long_results_obj.original_1D_decoder.neuron_IDs)\n",
    "expected_dfs = pd.DataFrame(long_results_obj.flat_all_epochs_computed_expected_cell_firing_rates.T, columns=long_results_obj.original_1D_decoder.neuron_IDs)\n",
    "# pd.DataFrame(np.stack((long_results_obj.flat_all_epochs_measured_cell_firing_rates, long_results_obj.flat_all_epochs_computed_expected_cell_firing_rates)), columns=['measured_fr', 'expected_fr'])\n",
    "measured_dfs.plot()\n"
   ]
  },
  {
   "cell_type": "code",
   "execution_count": null,
   "id": "a5317eb0",
   "metadata": {},
   "outputs": [],
   "source": [
    "# long_laps\n",
    "\n",
    "global_session.plot_laps_2d()\n",
    "# long_session.plot_laps_2d()"
   ]
  },
  {
   "cell_type": "code",
   "execution_count": null,
   "id": "4d8566f2",
   "metadata": {},
   "outputs": [],
   "source": [
    "jonathan_firing_rate_analysis_result.neuron_replay_stats_df.to_clipboard()"
   ]
  },
  {
   "cell_type": "code",
   "execution_count": null,
   "id": "10cdb9f2",
   "metadata": {},
   "outputs": [],
   "source": [
    "from pyphoplacecellanalysis.General.Pipeline.Stages.ComputationFunctions.MultiContextComputationFunctions.LongShortTrackComputations import compute_evening_morning_parition\n",
    "\n",
    "difference_sorted_aclus, evening_sorted_aclus, morning_sorted_aclus = compute_evening_morning_parition(neuron_replay_stats_df, debug_print=True)\n",
    "sorted_neuron_replay_stats_df = neuron_replay_stats_df.reindex(difference_sorted_aclus).copy() # This seems to work to re-sort the dataframe by the sort indicies\n",
    "sorted_neuron_replay_stats_df"
   ]
  },
  {
   "cell_type": "code",
   "execution_count": null,
   "id": "0504f8e4",
   "metadata": {},
   "outputs": [],
   "source": [
    "from pyphocorehelpers.indexing_helpers import partition\n",
    "\n",
    "# Split the replay stats based on the neuron types:\n",
    "unique_included_neuron_types, (pyr_neuron_replay_stats_df, contaminated_neuron_replay_stats_df, interneuron_neuron_replay_stats_df) = partition(jonathan_firing_rate_analysis_result.neuron_replay_stats_df, 'neuron_type')\n",
    "pyr_neuron_replay_stats_df"
   ]
  },
  {
   "cell_type": "code",
   "execution_count": null,
   "id": "7524856f",
   "metadata": {},
   "outputs": [],
   "source": [
    "from neuropy.core.neurons import NeuronType\n",
    "\n",
    "%matplotlib qt\n",
    "# Look at replays during ripples vs. those not during ripples. Also potentially PBEs vs. not PBEs.\n",
    "\n",
    "# NeuronType.from_any_string_series(['pyr','intr'])\n",
    "'pyr','cont','intr'\n",
    "\n",
    "active_identifying_session_ctx = curr_active_pipeline.sess.get_context() # 'bapun_RatN_Day4_2019-10-15_11-30-06'\n",
    "curr_active_pipeline.display('_display_jonathan_interactive_replay_firing_rate_comparison', active_identifying_session_ctx, included_neuron_types=NeuronType.from_any_string_series(['pyr'])) # only the pyramidal neurons"
   ]
  },
  {
   "cell_type": "code",
   "execution_count": null,
   "id": "bc7ebf69",
   "metadata": {},
   "outputs": [],
   "source": [
    "curr_active_pipeline.reload_default_display_functions()"
   ]
  },
  {
   "cell_type": "code",
   "execution_count": null,
   "id": "68f61971",
   "metadata": {},
   "outputs": [],
   "source": [
    "curr_active_pipeline.display('_display_jonathan_interactive_replay_firing_rate_comparison', active_identifying_session_ctx, included_neuron_types=NeuronType.from_any_string_series(['intr']), require_placefield=False) # only the pyramidal neurons"
   ]
  },
  {
   "cell_type": "code",
   "execution_count": null,
   "id": "0859e13d",
   "metadata": {},
   "outputs": [],
   "source": [
    "from pyphoplacecellanalysis.General.Mixins.CrossComputationComparisonHelpers import build_replays_custom_scatter_markers, CustomScatterMarkerMode\n",
    "\n",
    "_curr_included_aclus = jonathan_firing_rate_analysis_result.neuron_replay_stats_df[np.logical_or(jonathan_firing_rate_analysis_result.neuron_replay_stats_df['has_long_pf'], jonathan_firing_rate_analysis_result.neuron_replay_stats_df['has_short_pf'])].index.to_numpy()\n",
    "_curr_output = curr_active_pipeline.display('_display_batch_pho_jonathan_replay_firing_rate_comparison', active_identifying_session_ctx, included_unit_neuron_IDs=_curr_included_aclus, marker_split_mode=CustomScatterMarkerMode.NoSplit)"
   ]
  },
  {
   "attachments": {},
   "cell_type": "markdown",
   "id": "d69eed8a",
   "metadata": {},
   "source": [
    "## 2023-04-13 - Shuffled Surprise\n",
    "\"\"\" \n",
    "Relevant Functions:\n",
    "`perform_full_session_leave_one_out_decoding_analysis`:\n",
    "\t`perform_leave_one_aclu_out_decoding_analysis`:\tfrom pyphoplacecellanalysis.Analysis.Decoder.decoder_result import perform_leave_one_aclu_out_decoding_analysis\n",
    "\t`_analyze_leave_one_out_decoding_results`: from pyphoplacecellanalysis.General.Pipeline.Stages.ComputationFunctions.DefaultComputationFunctions import _analyze_leave_one_out_decoding_results\n",
    "\"\"\"\n"
   ]
  },
  {
   "cell_type": "code",
   "execution_count": null,
   "id": "0aac42d4",
   "metadata": {},
   "outputs": [],
   "source": [
    "# 2023-04-18 - Refactored into decoder_result\n",
    "result, result_df, result_df_grouped = long_results_obj.result, long_results_obj.result_df, long_results_obj.result_df_grouped"
   ]
  },
  {
   "cell_type": "code",
   "execution_count": null,
   "id": "c107570f",
   "metadata": {},
   "outputs": [],
   "source": [
    "from pyphoplacecellanalysis.Analysis.Decoder.decoder_result import DiagnosticDistanceMetricFigure\n",
    "\n",
    "## Render the internactive slider that allows selecting the timebin index to debug\n",
    "n_timebins = np.sum(long_results_obj.all_epochs_num_epoch_time_bins)\n",
    "timebinned_neuron_info = long_results_obj.timebinned_neuron_info\n",
    "result = long_results_obj.new_result\n",
    "active_fig_obj, update_function = DiagnosticDistanceMetricFigure.build_interactive_diagnostic_distance_metric_figure(long_results_obj, timebinned_neuron_info, result)\n",
    "active_fig_obj.integer_slider(n_timebins=n_timebins, update_func=update_function)"
   ]
  },
  {
   "cell_type": "code",
   "execution_count": null,
   "id": "7670bfae",
   "metadata": {},
   "outputs": [],
   "source": [
    "\n",
    "# 1. Get set of cells active in a given time bin, for each compute the surprise of its placefield with the leave-one-out decoded posterior.\n",
    "\n",
    "# 2. From the remainder of cells (those not active), randomly choose one to grab the placefield of and compute the surprise with that and the same posterior.\n",
    "\n",
    "# Expectation: The cells that are included in the time bin are expected to have a lower surprise (be less correlated with) the posterior."
   ]
  },
  {
   "cell_type": "code",
   "execution_count": null,
   "id": "c1692fd1",
   "metadata": {
    "tags": [
     "active"
    ]
   },
   "outputs": [],
   "source": [
    "win, plots = plot_long_short_surprise_difference_plot(curr_active_pipeline, long_results_obj, short_results_obj, long_epoch_name, short_epoch_name)\n"
   ]
  },
  {
   "cell_type": "code",
   "execution_count": null,
   "id": "118c3089",
   "metadata": {},
   "outputs": [],
   "source": [
    "long_results_obj.timebinned_neuron_info.n_timebins # 736\n",
    "short_results_obj.timebinned_neuron_info.n_timebins"
   ]
  },
  {
   "cell_type": "code",
   "execution_count": null,
   "id": "893964b2",
   "metadata": {},
   "outputs": [],
   "source": [
    "long_results_obj.flat_all_epochs_measured_cell_firing_rates.shape # (30, 736)\n",
    "# short_results_obj.flat_all_epochs_measured_cell_firing_rates.shape # (30, 736)\n",
    "\n"
   ]
  },
  {
   "cell_type": "code",
   "execution_count": null,
   "id": "bae2e695",
   "metadata": {
    "tags": [
     "active",
     "NOW_05-25",
     "expected_vs_observed"
    ]
   },
   "outputs": [],
   "source": [
    "win, plots_tuple, legend = plot_long_short_expected_vs_observed_firing_rates(long_results_obj, short_results_obj, limit_aclus=list(BOTH_pf_only_df.index[:2].values))\n",
    "long_epoch_indicator_region_items, short_epoch_indicator_region_items = _helper_add_long_short_session_indicator_regions(win, long_epoch=curr_active_pipeline.filtered_epochs[long_epoch_name], short_epoch=curr_active_pipeline.filtered_epochs[short_epoch_name])"
   ]
  },
  {
   "cell_type": "code",
   "execution_count": null,
   "id": "0f55bb1b",
   "metadata": {},
   "outputs": [],
   "source": [
    "from pyphoplacecellanalysis.General.Mixins.ExportHelpers import export_pyqtgraph_plot # works pretty well seemingly\n",
    "\n",
    "export_pyqtgraph_plot(win)\n",
    "# pg.setConfigOption('leftTitle', 'MathText')\n",
    "# win.setTitle(r'JSD(p_x_given_n, pf[<font size=\"4\"><b><span style=\"color:red;\">i</span></b></font>]) - JSD(p_x_given_n, pf[<font size=\"4\"><b>j</b></font>]) where <font size=\"4\"><b>j</b></font> non-firing')\n",
    "\n",
    "# win.setTitle(generate_html_string(f'JSD(p_x_given_n, pf[{i_str}]) - JSD(p_x_given_n, pf[{j_str}]) where {j_str} non-firing', font_size=8))\n",
    "\n",
    "# r'$\\fn{JSD}{\\matr{pf}_{i}, \\Pr{\\vec{x}_{t}|\\vec{n}_{t}}} - \\fn{JSD}{\\matr{pf}_{j}, \\Pr{\\vec{x}_{t}|\\vec{n}_{t}}}$'\n",
    "# title_str"
   ]
  },
  {
   "attachments": {},
   "cell_type": "markdown",
   "id": "1f996fd9",
   "metadata": {},
   "source": [
    "## Pre 2023-04-13"
   ]
  },
  {
   "cell_type": "code",
   "execution_count": null,
   "id": "33b6ac25",
   "metadata": {},
   "outputs": [],
   "source": [
    "import matplotlib\n",
    "import matplotlib.pyplot as plt\n",
    "%matplotlib qt\n",
    "\n",
    "from pyphoplacecellanalysis.Analysis.Decoder.decoder_result import plot_kourosh_activity_style_figure\n",
    "\n",
    "from neuropy.core.neurons import NeuronType\n",
    "# # Include only pyramidal aclus:\n",
    "# print(f'all shared_aclus: {len(shared_aclus)}\\nshared_aclus: {shared_aclus}')\n",
    "# shared_aclu_neuron_type = long_session.neurons.neuron_type[np.isin(long_session.neurons.neuron_ids, shared_aclus)]\n",
    "# assert len(shared_aclu_neuron_type) == len(shared_aclus)\n",
    "# # Find only the aclus that are pyramidal:\n",
    "# is_shared_aclu_pyramidal = (shared_aclu_neuron_type == NeuronType.PYRAMIDAL)\n",
    "# pyramidal_only_shared_aclus = shared_aclus[is_shared_aclu_pyramidal]\n",
    "# print(f'num pyramidal_only_shared_aclus: {len(pyramidal_only_shared_aclus)}\\npyramidal_only_shared_aclus: {pyramidal_only_shared_aclus}')\n",
    "\n",
    "\n",
    "## Drop Pyramidal but don't use only shared aclus:\n",
    "all_aclus = deepcopy(long_session.neurons.neuron_ids)\n",
    "neuron_type = long_session.neurons.neuron_type\n",
    "assert len(neuron_type) == len(all_aclus)\n",
    "# Find only the aclus that are pyramidal:\n",
    "is_aclu_pyramidal = (neuron_type == NeuronType.PYRAMIDAL)\n",
    "pyramidal_only_all_aclus = all_aclus[is_aclu_pyramidal]\n",
    "print(f'num pyramidal_only_all_aclus: {len(pyramidal_only_all_aclus)}\\npyramidal_only_all_aclus: {pyramidal_only_all_aclus}')\n",
    "\n",
    "is_aclu_interneuron = (neuron_type == NeuronType.INTERNEURONS)\n",
    "interneuron_only_all_aclus = all_aclus[is_aclu_interneuron]\n",
    "print(f'num interneuron_only_all_aclus: {len(interneuron_only_all_aclus)}\\ninterneurons: {interneuron_only_all_aclus}')\n",
    "\n",
    "# app, win, plots, plots_data = plot_kourosh_activity_style_figure(long_results_obj, long_session, shared_aclus, epoch_idx=5, callout_epoch_IDXs=[0,1,2,3], skip_rendering_callouts=True)\n",
    "# app, win, plots, plots_data = plot_kourosh_activity_style_figure(long_results_obj, long_session, pyramidal_only_shared_aclus, epoch_idx=2, callout_epoch_IDXs=[0,4], skip_rendering_callouts=False)\n",
    "app, win, plots, plots_data = plot_kourosh_activity_style_figure(long_results_obj, long_session, pyramidal_only_all_aclus, epoch_idx=6, callout_epoch_IDXs=[2,4,6], skip_rendering_callouts=False)"
   ]
  },
  {
   "cell_type": "code",
   "execution_count": null,
   "id": "985977d8",
   "metadata": {},
   "outputs": [],
   "source": [
    "\n",
    "# Use the Jupyter Index Thing\n",
    "from pyphoplacecellanalysis.Analysis.Decoder.decoder_result import DiagnosticDistanceMetricFigure\n",
    "\n",
    "## Render the internactive slider that allows selecting the timebin index to debug\n",
    "n_timebins = np.sum(long_results_obj.all_epochs_num_epoch_time_bins)\n",
    "timebinned_neuron_info = long_results_obj.timebinned_neuron_info\n",
    "result = long_results_obj.new_result\n",
    "active_fig_obj, update_function = DiagnosticDistanceMetricFigure.build_interactive_diagnostic_distance_metric_figure(long_results_obj, timebinned_neuron_info, result)\n",
    "active_fig_obj.integer_slider(n_timebins=n_timebins, update_func=update_function)"
   ]
  },
  {
   "cell_type": "code",
   "execution_count": null,
   "id": "3e1aa692",
   "metadata": {},
   "outputs": [],
   "source": [
    "active_fig_obj.export()"
   ]
  },
  {
   "cell_type": "code",
   "execution_count": null,
   "id": "5ea983fe",
   "metadata": {},
   "outputs": [],
   "source": [
    "app, win, self.plots, self.plots_data = plot_kourosh_activity_style_figure(long_results_obj, long_session, pyramidal_only_all_aclus, epoch_idx=11, callout_epoch_IDXs=[0,1,2, 3, 4, 5], skip_rendering_callouts=False)"
   ]
  },
  {
   "attachments": {},
   "cell_type": "markdown",
   "id": "f519e392",
   "metadata": {},
   "source": [
    "# 2023-04-13 Show Surprise "
   ]
  },
  {
   "cell_type": "code",
   "execution_count": null,
   "id": "b417bb4e",
   "metadata": {},
   "outputs": [],
   "source": [
    "import pyphoplacecellanalysis.External.pyqtgraph as pg\n",
    "from pyphoplacecellanalysis.General.Pipeline.Stages.DisplayFunctions.MultiContextComparingDisplayFunctions.MultiContextComparingDisplayFunctions import plot_long_short, plot_long_short_any_values, plot_long_short_expected_vs_observed_firing_rates, _helper_add_long_short_session_indicator_regions\n",
    "# plot_long_short(long_results_obj, short_results_obj)"
   ]
  },
  {
   "cell_type": "code",
   "execution_count": null,
   "id": "feefc5f9",
   "metadata": {},
   "outputs": [],
   "source": [
    "plot_long_short_any_values(long_results_obj=long_results_obj, short_results_obj=short_results_obj)"
   ]
  },
  {
   "cell_type": "code",
   "execution_count": null,
   "id": "f6b8a7ec",
   "metadata": {},
   "outputs": [],
   "source": [
    "plot_long_short_expected_vs_observed_firing_rates(long_results_obj=long_results_obj, short_results_obj=short_results_obj, limit_aclus=[89]) # 4, 89, 28, 97"
   ]
  },
  {
   "cell_type": "code",
   "execution_count": null,
   "id": "1bdf68bc",
   "metadata": {},
   "outputs": [],
   "source": [
    "x_fn = lambda a_results_obj: a_results_obj.all_epochs_decoded_epoch_time_bins_mean[:,0]\n",
    "# y_fn = lambda a_results_obj: a_results_obj.all_epochs_all_cells_one_left_out_posterior_to_scrambled_pf_surprises_mean\n",
    "y_fn = lambda a_results_obj: a_results_obj.all_epochs_all_cells_one_left_out_posterior_to_pf_surprises_mean\n",
    "# y_fn = lambda a_results_obj: a_results_obj.all_epochs_computed_one_left_out_posterior_to_pf_surprises\n",
    "\n",
    "# (time_bins, neurons), (epochs, neurons), (epochs)\n",
    "# all_epochs_computed_one_left_out_posterior_to_pf_surprises, all_epochs_computed_cell_one_left_out_posterior_to_pf_surprises_mean, all_epochs_all_cells_one_left_out_posterior_to_pf_surprises_mean\n",
    "win, plots_tuple, legend = plot_long_short_any_values(long_results_obj, short_results_obj, x=x_fn, y=y_fn, limit_aclus=[20])"
   ]
  },
  {
   "attachments": {},
   "cell_type": "markdown",
   "id": "2fe80559",
   "metadata": {},
   "source": [
    "# 2023-04-13 - Find Good looking epochs:"
   ]
  },
  {
   "cell_type": "code",
   "execution_count": 94,
   "id": "5fa9a519",
   "metadata": {},
   "outputs": [
    {
     "name": "stdout",
     "output_type": "stream",
     "text": [
      "active_identifying_ctx_string: \"kdiba|gor01|one|2006-6-08_14-26-15|plot_single_epoch_slice|shared|1of12|[0 1 2 3 4 5 6 7 8 9]\"\n"
     ]
    }
   ],
   "source": [
    "import matplotlib.pyplot as plt\n",
    "%matplotlib qt\n",
    "\n",
    "from pyphocorehelpers.plotting.figure_management import PhoActiveFigureManager2D\n",
    "from pyphoplacecellanalysis.GUI.Qt.Mixins.PaginationMixins import PaginatedFigureController\n",
    "from pyphoplacecellanalysis.Pho2D.stacked_epoch_slices import DecodedEpochSlicesPaginatedFigureController\n",
    "\n",
    "active_identifying_session_ctx = curr_active_pipeline.sess.get_context()\n",
    "_out_pagination_controller = DecodedEpochSlicesPaginatedFigureController.init_from_decoder_data(long_results_obj.active_filter_epochs, long_results_obj.all_included_filter_epochs_decoder_result, \n",
    "\txbin=long_results_obj.original_1D_decoder.xbin, global_pos_df=global_session.position.df, a_name='TestDecodedEpochSlicesPaginationController', active_context=active_identifying_session_ctx,  max_subplots_per_page=10)\n",
    "# _out_pagination_controller"
   ]
  },
  {
   "cell_type": "code",
   "execution_count": 39,
   "id": "aa14005f",
   "metadata": {},
   "outputs": [
    {
     "data": {
      "text/plain": [
       "<pyphoplacecellanalysis.GUI.Qt.Widgets.PaginationCtrl.PaginationControlWidget.PaginationControlWidget at 0x294af5ff790>"
      ]
     },
     "execution_count": 39,
     "metadata": {},
     "output_type": "execute_result"
    }
   ],
   "source": [
    "# _out_pagination_controller.params.debug_print = True\n",
    "_pagination_widget = _out_pagination_controller.ui.mw.ui.paginator_controller_widget\n",
    "_pagination_widget"
   ]
  },
  {
   "cell_type": "code",
   "execution_count": 92,
   "id": "d8a9a5f4",
   "metadata": {},
   "outputs": [
    {
     "data": {
      "text/plain": [
       "<Axes: >"
      ]
     },
     "execution_count": 92,
     "metadata": {},
     "output_type": "execute_result"
    }
   ],
   "source": [
    "epochs_linear_fit_df.plot()"
   ]
  },
  {
   "attachments": {},
   "cell_type": "markdown",
   "id": "3f0018ec",
   "metadata": {},
   "source": [
    "### Add the radon-transformed linear fits to each epoch to the stacked epoch plots:"
   ]
  },
  {
   "cell_type": "code",
   "execution_count": 95,
   "id": "9d24f3e3",
   "metadata": {},
   "outputs": [
    {
     "name": "stdout",
     "output_type": "stream",
     "text": [
      "performing callback with name: plot_radon_transform_line_data\n",
      "_callback_update_decoded_single_epoch_slice_plot(..., i: 10, curr_time_bins: [182.41705173 182.45005173 182.48305173 182.51605173 182.54905173])\n",
      "\t success!\n",
      "performing callback with name: plot_radon_transform_line_data\n",
      "_callback_update_decoded_single_epoch_slice_plot(..., i: 11, curr_time_bins: [188.81375118 188.84675118 188.87975118 188.91275118 188.94575118\n",
      " 188.97875118])\n",
      "\t success!\n",
      "performing callback with name: plot_radon_transform_line_data\n",
      "_callback_update_decoded_single_epoch_slice_plot(..., i: 12, curr_time_bins: [192.26354397 192.29654397 192.32954397 192.36254397 192.39554397])\n",
      "\t success!\n",
      "performing callback with name: plot_radon_transform_line_data\n",
      "_callback_update_decoded_single_epoch_slice_plot(..., i: 13, curr_time_bins: [193.66412949 193.69712949 193.73012949 193.76312949 193.79612949\n",
      " 193.82912949 193.86212949])\n",
      "\t success!\n",
      "performing callback with name: plot_radon_transform_line_data\n",
      "_callback_update_decoded_single_epoch_slice_plot(..., i: 14, curr_time_bins: [218.19280813 218.22580813 218.25880813 218.29180813 218.32480813])\n",
      "\t success!\n",
      "performing callback with name: plot_radon_transform_line_data\n",
      "_callback_update_decoded_single_epoch_slice_plot(..., i: 15, curr_time_bins: [267.62246091 267.65546091 267.68846091 267.72146091 267.75446091])\n",
      "\t success!\n",
      "performing callback with name: plot_radon_transform_line_data\n",
      "_callback_update_decoded_single_epoch_slice_plot(..., i: 16, curr_time_bins: [303.69902739 303.73202739 303.76502739 303.79802739 303.83102739\n",
      " 303.86402739])\n",
      "\t success!\n",
      "performing callback with name: plot_radon_transform_line_data\n",
      "_callback_update_decoded_single_epoch_slice_plot(..., i: 17, curr_time_bins: [305.16652104 305.19952104 305.23252104 305.26552104 305.29852104\n",
      " 305.33152104 305.36452104])\n",
      "\t success!\n",
      "performing callback with name: plot_radon_transform_line_data\n",
      "_callback_update_decoded_single_epoch_slice_plot(..., i: 18, curr_time_bins: [335.75096874 335.78396874 335.81696874 335.84996874 335.88296874])\n",
      "\t success!\n",
      "performing callback with name: plot_radon_transform_line_data\n",
      "_callback_update_decoded_single_epoch_slice_plot(..., i: 19, curr_time_bins: [336.26942992 336.30242992 336.33542992 336.36842992 336.40142992])\n",
      "\t success!\n",
      "active_identifying_ctx_string: \"kdiba|gor01|one|2006-6-08_14-26-15|plot_single_epoch_slice|shared|2of12|[10 11 12 13 14 15 16 17 18 19]\"\n",
      "performing callback with name: plot_radon_transform_line_data\n",
      "_callback_update_decoded_single_epoch_slice_plot(..., i: 20, curr_time_bins: [338.44188577 338.47488577 338.50788577 338.54088577 338.57388577\n",
      " 338.60688577])\n",
      "\t success!\n",
      "performing callback with name: plot_radon_transform_line_data\n",
      "_callback_update_decoded_single_epoch_slice_plot(..., i: 21, curr_time_bins: [366.01878557 366.05178557 366.08478557 366.11778557 366.15078557])\n",
      "\t success!\n",
      "performing callback with name: plot_radon_transform_line_data\n",
      "_callback_update_decoded_single_epoch_slice_plot(..., i: 22, curr_time_bins: [367.86966462 367.90266462 367.93566462 367.96866462 368.00166462\n",
      " 368.03466462 368.06766462 368.10066462])\n",
      "\t success!\n",
      "performing callback with name: plot_radon_transform_line_data\n",
      "_callback_update_decoded_single_epoch_slice_plot(..., i: 23, curr_time_bins: [390.01923408 390.05223408 390.08523408 390.11823408 390.15123408\n",
      " 390.18423408 390.21723408])\n",
      "\t success!\n",
      "performing callback with name: plot_radon_transform_line_data\n",
      "_callback_update_decoded_single_epoch_slice_plot(..., i: 24, curr_time_bins: [409.83749465 409.87049465 409.90349465 409.93649465 409.96949465\n",
      " 410.00249465 410.03549465])\n",
      "\t success!\n",
      "performing callback with name: plot_radon_transform_line_data\n",
      "_callback_update_decoded_single_epoch_slice_plot(..., i: 25, curr_time_bins: [419.66788962 419.70088962 419.73388962 419.76688962 419.79988962\n",
      " 419.83288962])\n",
      "\t success!\n",
      "performing callback with name: plot_radon_transform_line_data\n",
      "_callback_update_decoded_single_epoch_slice_plot(..., i: 26, curr_time_bins: [421.36369419 421.39669419 421.42969419 421.46269419 421.49569419\n",
      " 421.52869419 421.56169419 421.59469419])\n",
      "\t success!\n",
      "performing callback with name: plot_radon_transform_line_data\n",
      "_callback_update_decoded_single_epoch_slice_plot(..., i: 27, curr_time_bins: [434.1185395 434.1515395 434.1845395 434.2175395 434.2505395 434.2835395])\n",
      "\t success!\n",
      "performing callback with name: plot_radon_transform_line_data\n",
      "_callback_update_decoded_single_epoch_slice_plot(..., i: 28, curr_time_bins: [449.6266634 449.6596634 449.6926634 449.7256634 449.7586634 449.7916634])\n",
      "\t success!\n",
      "performing callback with name: plot_radon_transform_line_data\n",
      "_callback_update_decoded_single_epoch_slice_plot(..., i: 29, curr_time_bins: [486.64593405 486.67893405 486.71193405 486.74493405 486.77793405])\n",
      "\t success!\n",
      "active_identifying_ctx_string: \"kdiba|gor01|one|2006-6-08_14-26-15|plot_single_epoch_slice|shared|3of12|[20 21 22 23 24 25 26 27 28 29]\"\n",
      "performing callback with name: plot_radon_transform_line_data\n",
      "_callback_update_decoded_single_epoch_slice_plot(..., i: 30, curr_time_bins: [491.19402772 491.22702772 491.26002772 491.29302772 491.32602772\n",
      " 491.35902772 491.39202772])\n",
      "\t success!\n",
      "performing callback with name: plot_radon_transform_line_data\n",
      "_callback_update_decoded_single_epoch_slice_plot(..., i: 31, curr_time_bins: [689.09714303 689.13014303 689.16314303 689.19614303 689.22914303\n",
      " 689.26214303])\n",
      "\t success!\n",
      "performing callback with name: plot_radon_transform_line_data\n",
      "_callback_update_decoded_single_epoch_slice_plot(..., i: 32, curr_time_bins: [697.66390216 697.69690216 697.72990216 697.76290216 697.79590216])\n",
      "\t success!\n",
      "performing callback with name: plot_radon_transform_line_data\n",
      "_callback_update_decoded_single_epoch_slice_plot(..., i: 33, curr_time_bins: [710.97944863 711.01244863 711.04544863 711.07844863 711.11144863])\n",
      "\t success!\n",
      "performing callback with name: plot_radon_transform_line_data\n",
      "_callback_update_decoded_single_epoch_slice_plot(..., i: 34, curr_time_bins: [770.44980538 770.48280538 770.51580538 770.54880538 770.58180538])\n",
      "\t success!\n",
      "performing callback with name: plot_radon_transform_line_data\n",
      "_callback_update_decoded_single_epoch_slice_plot(..., i: 35, curr_time_bins: [773.74320273 773.77620273 773.80920273 773.84220273 773.87520273\n",
      " 773.90820273 773.94120273])\n",
      "\t success!\n",
      "performing callback with name: plot_radon_transform_line_data\n",
      "_callback_update_decoded_single_epoch_slice_plot(..., i: 36, curr_time_bins: [799.38259312 799.41559312 799.44859312 799.48159312 799.51459312])\n",
      "\t success!\n",
      "performing callback with name: plot_radon_transform_line_data\n",
      "_callback_update_decoded_single_epoch_slice_plot(..., i: 37, curr_time_bins: [799.95668819 799.98968819 800.02268819 800.05568819 800.08868819\n",
      " 800.12168819])\n",
      "\t success!\n",
      "performing callback with name: plot_radon_transform_line_data\n",
      "_callback_update_decoded_single_epoch_slice_plot(..., i: 38, curr_time_bins: [812.38878935 812.42178935 812.45478935 812.48778935 812.52078935])\n",
      "\t success!\n",
      "performing callback with name: plot_radon_transform_line_data\n",
      "_callback_update_decoded_single_epoch_slice_plot(..., i: 39, curr_time_bins: [812.83484352 812.86784352 812.90084352 812.93384352 812.96684352\n",
      " 812.99984352])\n",
      "\t success!\n",
      "active_identifying_ctx_string: \"kdiba|gor01|one|2006-6-08_14-26-15|plot_single_epoch_slice|shared|4of12|[30 31 32 33 34 35 36 37 38 39]\"\n",
      "performing callback with name: plot_radon_transform_line_data\n",
      "_callback_update_decoded_single_epoch_slice_plot(..., i: 40, curr_time_bins: [815.27809603 815.31109603 815.34409603 815.37709603 815.41009603\n",
      " 815.44309603])\n",
      "\t success!\n",
      "performing callback with name: plot_radon_transform_line_data\n",
      "_callback_update_decoded_single_epoch_slice_plot(..., i: 41, curr_time_bins: [836.78684661 836.81984661 836.85284661 836.88584661 836.91884661\n",
      " 836.95184661])\n",
      "\t success!\n",
      "performing callback with name: plot_radon_transform_line_data\n",
      "_callback_update_decoded_single_epoch_slice_plot(..., i: 42, curr_time_bins: [857.31458522 857.34758522 857.38058522 857.41358522 857.44658522])\n",
      "\t success!\n",
      "performing callback with name: plot_radon_transform_line_data\n",
      "_callback_update_decoded_single_epoch_slice_plot(..., i: 43, curr_time_bins: [858.04848565 858.08148565 858.11448565 858.14748565 858.18048565])\n",
      "\t success!\n",
      "performing callback with name: plot_radon_transform_line_data\n",
      "_callback_update_decoded_single_epoch_slice_plot(..., i: 44, curr_time_bins: [866.95030765 866.98330765 867.01630765 867.04930765 867.08230765])\n",
      "\t success!\n",
      "performing callback with name: plot_radon_transform_line_data\n",
      "_callback_update_decoded_single_epoch_slice_plot(..., i: 45, curr_time_bins: [867.67182792 867.70482792 867.73782792 867.77082792 867.80382792])\n",
      "\t success!\n",
      "performing callback with name: plot_radon_transform_line_data\n",
      "_callback_update_decoded_single_epoch_slice_plot(..., i: 46, curr_time_bins: [874.63528036 874.66828036 874.70128036 874.73428036 874.76728036])\n",
      "\t success!\n",
      "performing callback with name: plot_radon_transform_line_data\n",
      "_callback_update_decoded_single_epoch_slice_plot(..., i: 47, curr_time_bins: [885.4891116 885.5221116 885.5551116 885.5881116 885.6211116])\n",
      "\t success!\n",
      "performing callback with name: plot_radon_transform_line_data\n",
      "_callback_update_decoded_single_epoch_slice_plot(..., i: 48, curr_time_bins: [906.08428057 906.11728057 906.15028057 906.18328057 906.21628057\n",
      " 906.24928057])\n",
      "\t success!\n",
      "performing callback with name: plot_radon_transform_line_data\n",
      "_callback_update_decoded_single_epoch_slice_plot(..., i: 49, curr_time_bins: [909.24797815 909.28097815 909.31397815 909.34697815 909.37997815])\n",
      "\t success!\n",
      "active_identifying_ctx_string: \"kdiba|gor01|one|2006-6-08_14-26-15|plot_single_epoch_slice|shared|5of12|[40 41 42 43 44 45 46 47 48 49]\"\n",
      "performing callback with name: plot_radon_transform_line_data\n",
      "_callback_update_decoded_single_epoch_slice_plot(..., i: 50, curr_time_bins: [920.40446268 920.43746268 920.47046268 920.50346268 920.53646268\n",
      " 920.56946268 920.60246268])\n",
      "\t success!\n",
      "performing callback with name: plot_radon_transform_line_data\n",
      "_callback_update_decoded_single_epoch_slice_plot(..., i: 51, curr_time_bins: [951.7426252 951.7756252 951.8086252 951.8416252 951.8746252 951.9076252\n",
      " 951.9406252])\n",
      "\t success!\n",
      "performing callback with name: plot_radon_transform_line_data\n",
      "_callback_update_decoded_single_epoch_slice_plot(..., i: 52, curr_time_bins: [956.83814899 956.87114899 956.90414899 956.93714899 956.97014899])\n",
      "\t success!\n",
      "performing callback with name: plot_radon_transform_line_data\n",
      "_callback_update_decoded_single_epoch_slice_plot(..., i: 53, curr_time_bins: [1004.66320482 1004.69620482 1004.72920482 1004.76220482 1004.79520482\n",
      " 1004.82820482 1004.86120482])\n",
      "\t success!\n",
      "performing callback with name: plot_radon_transform_line_data\n",
      "_callback_update_decoded_single_epoch_slice_plot(..., i: 54, curr_time_bins: [1006.01780253 1006.05080253 1006.08380253 1006.11680253 1006.14980253\n",
      " 1006.18280253 1006.21580253])\n",
      "\t success!\n",
      "performing callback with name: plot_radon_transform_line_data\n",
      "_callback_update_decoded_single_epoch_slice_plot(..., i: 55, curr_time_bins: [1043.87622026 1043.90922026 1043.94222026 1043.97522026 1044.00822026\n",
      " 1044.04122026 1044.07422026 1044.10722026])\n",
      "\t success!\n",
      "performing callback with name: plot_radon_transform_line_data\n",
      "_callback_update_decoded_single_epoch_slice_plot(..., i: 56, curr_time_bins: [1074.94343252 1074.97643252 1075.00943252 1075.04243252 1075.07543252])\n",
      "\t success!\n",
      "performing callback with name: plot_radon_transform_line_data\n",
      "_callback_update_decoded_single_epoch_slice_plot(..., i: 57, curr_time_bins: [1077.0466148 1077.0796148 1077.1126148 1077.1456148 1077.1786148])\n",
      "\t success!\n",
      "performing callback with name: plot_radon_transform_line_data\n",
      "_callback_update_decoded_single_epoch_slice_plot(..., i: 58, curr_time_bins: [1078.15947695 1078.19247695 1078.22547695 1078.25847695 1078.29147695\n",
      " 1078.32447695])\n",
      "\t success!\n",
      "performing callback with name: plot_radon_transform_line_data\n",
      "_callback_update_decoded_single_epoch_slice_plot(..., i: 59, curr_time_bins: [1113.88660362 1113.91960362 1113.95260362 1113.98560362 1114.01860362\n",
      " 1114.05160362])\n",
      "\t success!\n",
      "active_identifying_ctx_string: \"kdiba|gor01|one|2006-6-08_14-26-15|plot_single_epoch_slice|shared|6of12|[50 51 52 53 54 55 56 57 58 59]\"\n",
      "performing callback with name: plot_radon_transform_line_data\n",
      "_callback_update_decoded_single_epoch_slice_plot(..., i: 60, curr_time_bins: [1150.19393863 1150.22693863 1150.25993863 1150.29293863 1150.32593863\n",
      " 1150.35893863 1150.39193863 1150.42493863])\n",
      "\t success!\n",
      "performing callback with name: plot_radon_transform_line_data\n",
      "_callback_update_decoded_single_epoch_slice_plot(..., i: 61, curr_time_bins: [1152.57940685 1152.61240685 1152.64540685 1152.67840685 1152.71140685\n",
      " 1152.74440685])\n",
      "\t success!\n",
      "performing callback with name: plot_radon_transform_line_data\n",
      "_callback_update_decoded_single_epoch_slice_plot(..., i: 62, curr_time_bins: [1158.85381004 1158.88681004 1158.91981004 1158.95281004 1158.98581004\n",
      " 1159.01881004 1159.05181004])\n",
      "\t success!\n",
      "performing callback with name: plot_radon_transform_line_data\n",
      "_callback_update_decoded_single_epoch_slice_plot(..., i: 63, curr_time_bins: [1191.69660666 1191.72960666 1191.76260666 1191.79560666 1191.82860666\n",
      " 1191.86160666])\n",
      "\t success!\n",
      "performing callback with name: plot_radon_transform_line_data\n",
      "_callback_update_decoded_single_epoch_slice_plot(..., i: 64, curr_time_bins: [1206.21508627 1206.24808627 1206.28108627 1206.31408627 1206.34708627])\n",
      "\t success!\n",
      "performing callback with name: plot_radon_transform_line_data\n",
      "_callback_update_decoded_single_epoch_slice_plot(..., i: 65, curr_time_bins: [1247.88935613 1247.92235613 1247.95535613 1247.98835613 1248.02135613\n",
      " 1248.05435613])\n",
      "\t success!\n",
      "performing callback with name: plot_radon_transform_line_data\n",
      "_callback_update_decoded_single_epoch_slice_plot(..., i: 66, curr_time_bins: [1265.89922339 1265.93222339 1265.96522339 1265.99822339 1266.03122339\n",
      " 1266.06422339 1266.09722339])\n",
      "\t success!\n",
      "performing callback with name: plot_radon_transform_line_data\n",
      "_callback_update_decoded_single_epoch_slice_plot(..., i: 67, curr_time_bins: [1266.85028338 1266.88328338 1266.91628338 1266.94928338 1266.98228338\n",
      " 1267.01528338])\n",
      "\t success!\n",
      "performing callback with name: plot_radon_transform_line_data\n",
      "_callback_update_decoded_single_epoch_slice_plot(..., i: 68, curr_time_bins: [1268.02194358 1268.05494358 1268.08794358 1268.12094358 1268.15394358\n",
      " 1268.18694358])\n",
      "\t success!\n",
      "performing callback with name: plot_radon_transform_line_data\n",
      "_callback_update_decoded_single_epoch_slice_plot(..., i: 69, curr_time_bins: [1276.61186558 1276.64486558 1276.67786558 1276.71086558 1276.74386558\n",
      " 1276.77686558 1276.80986558])\n",
      "\t success!\n",
      "active_identifying_ctx_string: \"kdiba|gor01|one|2006-6-08_14-26-15|plot_single_epoch_slice|shared|7of12|[60 61 62 63 64 65 66 67 68 69]\"\n",
      "performing callback with name: plot_radon_transform_line_data\n",
      "_callback_update_decoded_single_epoch_slice_plot(..., i: 70, curr_time_bins: [1284.75527261 1284.78827261 1284.82127261 1284.85427261 1284.88727261\n",
      " 1284.92027261])\n",
      "\t success!\n",
      "performing callback with name: plot_radon_transform_line_data\n",
      "_callback_update_decoded_single_epoch_slice_plot(..., i: 71, curr_time_bins: [1301.97671148 1302.00971148 1302.04271148 1302.07571148 1302.10871148\n",
      " 1302.14171148 1302.17471148])\n",
      "\t success!\n",
      "performing callback with name: plot_radon_transform_line_data\n",
      "_callback_update_decoded_single_epoch_slice_plot(..., i: 72, curr_time_bins: [1303.74903953 1303.78203953 1303.81503953 1303.84803953 1303.88103953\n",
      " 1303.91403953])\n",
      "\t success!\n",
      "performing callback with name: plot_radon_transform_line_data\n",
      "_callback_update_decoded_single_epoch_slice_plot(..., i: 73, curr_time_bins: [1306.53500418 1306.56800418 1306.60100418 1306.63400418 1306.66700418\n",
      " 1306.70000418 1306.73300418])\n",
      "\t success!\n",
      "performing callback with name: plot_radon_transform_line_data\n",
      "_callback_update_decoded_single_epoch_slice_plot(..., i: 74, curr_time_bins: [1308.39605155 1308.42905155 1308.46205155 1308.49505155 1308.52805155])\n",
      "\t success!\n",
      "performing callback with name: plot_radon_transform_line_data\n",
      "_callback_update_decoded_single_epoch_slice_plot(..., i: 75, curr_time_bins: [1309.07364224 1309.10664224 1309.13964224 1309.17264224 1309.20564224\n",
      " 1309.23864224 1309.27164224])\n",
      "\t success!\n",
      "performing callback with name: plot_radon_transform_line_data\n",
      "_callback_update_decoded_single_epoch_slice_plot(..., i: 76, curr_time_bins: [1318.32401319 1318.35701319 1318.39001319 1318.42301319 1318.45601319])\n",
      "\t success!\n",
      "performing callback with name: plot_radon_transform_line_data\n",
      "_callback_update_decoded_single_epoch_slice_plot(..., i: 77, curr_time_bins: [1352.22191839 1352.25491839 1352.28791839 1352.32091839 1352.35391839\n",
      " 1352.38691839 1352.41991839])\n",
      "\t success!\n",
      "performing callback with name: plot_radon_transform_line_data\n",
      "_callback_update_decoded_single_epoch_slice_plot(..., i: 78, curr_time_bins: [1368.64727958 1368.68027958 1368.71327958 1368.74627958 1368.77927958\n",
      " 1368.81227958])\n",
      "\t success!\n",
      "performing callback with name: plot_radon_transform_line_data\n",
      "_callback_update_decoded_single_epoch_slice_plot(..., i: 79, curr_time_bins: [1410.62318897 1410.65618897 1410.68918897 1410.72218897 1410.75518897])\n",
      "\t success!\n",
      "active_identifying_ctx_string: \"kdiba|gor01|one|2006-6-08_14-26-15|plot_single_epoch_slice|shared|8of12|[70 71 72 73 74 75 76 77 78 79]\"\n",
      "performing callback with name: plot_radon_transform_line_data\n",
      "_callback_update_decoded_single_epoch_slice_plot(..., i: 80, curr_time_bins: [1423.95332742 1423.98632742 1424.01932742 1424.05232742 1424.08532742\n",
      " 1424.11832742 1424.15132742])\n",
      "\t success!\n",
      "performing callback with name: plot_radon_transform_line_data\n",
      "_callback_update_decoded_single_epoch_slice_plot(..., i: 81, curr_time_bins: [1424.51571818 1424.54871818 1424.58171818 1424.61471818 1424.64771818\n",
      " 1424.68071818])\n",
      "\t success!\n",
      "performing callback with name: plot_radon_transform_line_data\n",
      "_callback_update_decoded_single_epoch_slice_plot(..., i: 82, curr_time_bins: [1453.58407321 1453.61707321 1453.65007321 1453.68307321 1453.71607321\n",
      " 1453.74907321])\n",
      "\t success!\n",
      "performing callback with name: plot_radon_transform_line_data\n",
      "_callback_update_decoded_single_epoch_slice_plot(..., i: 83, curr_time_bins: [1454.76335197 1454.79635197 1454.82935197 1454.86235197 1454.89535197\n",
      " 1454.92835197])\n",
      "\t success!\n",
      "performing callback with name: plot_radon_transform_line_data\n",
      "_callback_update_decoded_single_epoch_slice_plot(..., i: 84, curr_time_bins: [1464.0831808 1464.1161808 1464.1491808 1464.1821808 1464.2151808])\n",
      "\t success!\n",
      "performing callback with name: plot_radon_transform_line_data\n",
      "_callback_update_decoded_single_epoch_slice_plot(..., i: 85, curr_time_bins: [1474.13033597 1474.16333597 1474.19633597 1474.22933597 1474.26233597])\n",
      "\t success!\n",
      "performing callback with name: plot_radon_transform_line_data\n",
      "_callback_update_decoded_single_epoch_slice_plot(..., i: 86, curr_time_bins: [1477.36008152 1477.39308152 1477.42608152 1477.45908152 1477.49208152\n",
      " 1477.52508152 1477.55808152])\n",
      "\t success!\n",
      "performing callback with name: plot_radon_transform_line_data\n",
      "_callback_update_decoded_single_epoch_slice_plot(..., i: 87, curr_time_bins: [1482.60806859 1482.64106859 1482.67406859 1482.70706859 1482.74006859\n",
      " 1482.77306859])\n",
      "\t success!\n",
      "performing callback with name: plot_radon_transform_line_data\n",
      "_callback_update_decoded_single_epoch_slice_plot(..., i: 88, curr_time_bins: [1485.90435363 1485.93735363 1485.97035363 1486.00335363 1486.03635363\n",
      " 1486.06935363 1486.10235363])\n",
      "\t success!\n",
      "performing callback with name: plot_radon_transform_line_data\n",
      "_callback_update_decoded_single_epoch_slice_plot(..., i: 89, curr_time_bins: [1493.50152862 1493.53452862 1493.56752862 1493.60052862 1493.63352862\n",
      " 1493.66652862])\n",
      "\t success!\n",
      "active_identifying_ctx_string: \"kdiba|gor01|one|2006-6-08_14-26-15|plot_single_epoch_slice|shared|9of12|[80 81 82 83 84 85 86 87 88 89]\"\n"
     ]
    }
   ],
   "source": [
    "assert long_results_obj.all_included_filter_epochs_decoder_result.num_filter_epochs == np.shape(epochs_linear_fit_df)[0]\n",
    "\n",
    "radon_transform_plots = []\n",
    "_out_pagination_controller.plots_data.radon_transform_line_data = []\n",
    "\n",
    "for epoch_idx, epoch_vel, epoch_intercept in zip(np.arange(long_results_obj.all_included_filter_epochs_decoder_result.num_filter_epochs), epochs_linear_fit_df['velocity'].values, epochs_linear_fit_df['intercept'].values):\n",
    "\t# build the discrete line over the centered time bins:\n",
    "\tepoch_time_bins = long_results_obj.all_included_filter_epochs_decoder_result.time_bin_containers[epoch_idx].centers\n",
    "\tepoch_time_bins = epoch_time_bins - epoch_time_bins[0] # all values should be relative to the start of the epoch:\n",
    "\tepoch_line_eqn = (epoch_vel * epoch_time_bins) + epoch_intercept\n",
    "\t_out_pagination_controller.plots_data.radon_transform_line_data.append(epoch_line_eqn)\n",
    "\n",
    "def _callback_update_decoded_single_epoch_slice_plot(curr_ax, params: \"VisualizationParameters\", plots_data: \"RenderPlotsData\", plots: \"RenderPlots\", ui: \"PhoUIContainer\", i:int, curr_time_bins, *args, **kwargs): # curr_posterior, curr_most_likely_positions, debug_print:bool=False\n",
    "    \"\"\" 2023-05-30 - Based off of `_helper_update_decoded_single_epoch_slice_plot` to enable plotting radon transform lines on paged decoded epochs\n",
    "\n",
    "    Needs only: curr_time_bins, plots_data, i\n",
    "    Accesses: plots_data.epoch_slices[i,:], plots_data.global_pos_df, params.variable_name, params.xbin, params.enable_flat_line_drawing\n",
    "    \"\"\"\n",
    "    print(f'_callback_update_decoded_single_epoch_slice_plot(..., i: {i}, curr_time_bins: {curr_time_bins})')\n",
    "    # plot the radon transform line on the epoch:\n",
    "    radon_transform_plot = curr_ax.plot(curr_time_bins, plots_data.radon_transform_line_data[i], label=f'computed radon transform', linestyle='dashed', linewidth=3, color='#e5ff00', alpha=0.8, marker='+', markersize=10) # Opaque RED # , linestyle='dashed', linewidth=2, color='#ff0000ff'\n",
    "    # curr_ax.set_xlim(*plots_data.epoch_slices[i,:])\n",
    "    print(f'\\t success!')\n",
    "    return params, plots_data, plots, ui\n",
    "\n",
    "\n",
    "# _out_pagination_controller.params.on_render_page_callbacks = {} # a list of callbacks to be called when the page changes and needs to be re-rendered\n",
    "# on_render_page_callbacks = _out_pagination_controller.params.get('on_render_page_callbacks', None)\n",
    "# if on_render_page_callbacks is None:\n",
    "_out_pagination_controller.params.on_render_page_callbacks = {} # allocate a new list\n",
    "## add this callback:\n",
    "_out_pagination_controller.params.on_render_page_callbacks['plot_radon_transform_line_data'] = _callback_update_decoded_single_epoch_slice_plot"
   ]
  },
  {
   "cell_type": "code",
   "execution_count": 72,
   "id": "c0a26325",
   "metadata": {},
   "outputs": [],
   "source": [
    "_out_pagination_controller.params.on_render_page_callbacks = [] # allocate a new list"
   ]
  },
  {
   "cell_type": "code",
   "execution_count": 90,
   "id": "88d1db39",
   "metadata": {},
   "outputs": [
    {
     "name": "stdout",
     "output_type": "stream",
     "text": [
      "on_selected_epochs_changed(...)\n",
      "current_page_idx = 0, found_data_index =8\n",
      "\tselection_indicies: [8]\n",
      "on_selected_epochs_changed(...)\n",
      "current_page_idx = 0, found_data_index =8\n",
      "\tselection_indicies: []\n"
     ]
    }
   ],
   "source": [
    "_out_pagination_controller.ui.mw.draw()"
   ]
  },
  {
   "cell_type": "code",
   "execution_count": 34,
   "id": "9d526f51",
   "metadata": {},
   "outputs": [
    {
     "name": "stdout",
     "output_type": "stream",
     "text": [
      "current_page_idx: 2, curr_page_data_indicies: [20 21 22 23 24 25 26 27 28 29]\n"
     ]
    }
   ],
   "source": [
    "# .\n",
    "\n",
    "current_page_idx = _out_pagination_controller.ui.mw.ui.paginator_controller_widget.current_page_idx\n",
    "curr_page_data_indicies, curr_page_data_items =  _out_pagination_controller.plots_data.paginator.get_page_data(page_idx=current_page_idx)\n",
    "print(f'current_page_idx: {current_page_idx}, curr_page_data_indicies: {curr_page_data_indicies}')\n"
   ]
  },
  {
   "cell_type": "code",
   "execution_count": null,
   "id": "6c30bfe4",
   "metadata": {},
   "outputs": [],
   "source": [
    "_out_pagination_controller.on_paginator_control_widget_jump_to_page(3)\n"
   ]
  },
  {
   "cell_type": "code",
   "execution_count": null,
   "id": "4a1ace00",
   "metadata": {},
   "outputs": [],
   "source": [
    "from pyphocorehelpers.indexing_helpers import safe_find_index_in_list\n",
    "\n",
    "def _get_current_page_data_indicies():\n",
    "\t\"\"\" captures `ui.mw.ui.paginator_controller_widget.current_page_idx`, `plots_data.paginator` \"\"\"\n",
    "\tcurrent_page_idx = _out_pagination_controller.ui.mw.ui.paginator_controller_widget.current_page_idx\n",
    "\tcurr_page_data_indicies, curr_page_data_items =  _out_pagination_controller.plots_data.paginator.get_page_data(page_idx=current_page_idx)\n",
    "\treturn current_page_idx, curr_page_data_indicies"
   ]
  },
  {
   "cell_type": "code",
   "execution_count": null,
   "id": "e810bced",
   "metadata": {},
   "outputs": [],
   "source": [
    "posterior_containers = filter_epochs_decoder_result.marginal_x_list.copy()\n",
    "\n",
    "[a_marginal_x_list.p_x_given_n for a_marginal_x_list in filter_epochs_decoder_result.marginal_x_list]\n",
    "[a_marginal_x_list.most_likely_positions_1D for a_marginal_x_list in filter_epochs_decoder_result.marginal_x_list]\n",
    "\n",
    "posterior_containers\n",
    "# posterior_containers = np.array(filter_epochs_decoder_result.marginal_x_list.copy())"
   ]
  },
  {
   "cell_type": "code",
   "execution_count": null,
   "id": "079f7a60",
   "metadata": {},
   "outputs": [],
   "source": [
    "included_page_data_indicies, (curr_page_active_filter_epochs, curr_page_epoch_labels, curr_page_time_bin_containers, curr_page_posterior_containers) = epoch_slices_paginator.get_page_data(page_idx=1)\n",
    "# included_page_data_indicies, (curr_page_active_filter_epochs, curr_page_epoch_labels, curr_page_time_bin_containers) = epoch_slices_paginator.get_page_data(page_idx=1)\n",
    "included_page_data_indicies\n",
    "curr_page_posterior_containers[0].p_x_given_n\n"
   ]
  },
  {
   "cell_type": "code",
   "execution_count": null,
   "id": "559ffa23",
   "metadata": {},
   "outputs": [],
   "source": [
    "from pyphoplacecellanalysis.Analysis.Decoder.reconstruction import DecodedFilterEpochsResult\n",
    "from pyphocorehelpers.indexing_helpers import safe_len\n",
    "\n",
    "# {k:safe_len(v) for k,v in filter_epochs_decoder_result.__dict__.items() if (safe_len(v) or 0) > 0}\n",
    "\n",
    "## Only get the items that are num_filter_epochs long:\n",
    "epoch_splittable_items = {k:v for k,v in filter_epochs_decoder_result.__dict__.items() if (safe_len(v) or 0) == filter_epochs_decoder_result.num_filter_epochs}\n",
    "# epoch_splittable_items\n",
    "epoch_splittable_item_names = list(epoch_splittable_items.keys())\n",
    "# print(epoch_splittable_item_names)\n",
    "# ('most_likely_positions_list', 'p_x_given_n_list', 'marginal_x_list', 'marginal_y_list', 'most_likely_position_indicies_list', 'spkcount', 'nbins', 'time_bin_containers', 'time_bin_edges')\n",
    "# epoch_splittable_item_values = [epoch_splittable_items[k] for k in ('most_likely_positions_list', 'p_x_given_n_list', 'marginal_x_list', 'marginal_y_list', 'most_likely_position_indicies_list', 'nbins', 'time_bin_containers', 'time_bin_edges')]\n",
    "epoch_splittable_item_values = [epoch_splittable_items[k] for k in ('epoch_description_list','time_bin_containers','marginal_x_list')]\n",
    "# epoch_splittable_item_values"
   ]
  },
  {
   "cell_type": "code",
   "execution_count": null,
   "id": "4ed0656a",
   "metadata": {},
   "outputs": [],
   "source": [
    "# [23, 27, 29, ]\n",
    "[16, 17, 18, 20, 21, 22, 23, 25, 26, 29]\n"
   ]
  },
  {
   "attachments": {},
   "cell_type": "markdown",
   "id": "7e6526e9",
   "metadata": {},
   "source": [
    "# 2023-03-28 - Playing around with older computations/visualizations from the `_display_short_long_firing_rate_index_comparison` era:"
   ]
  },
  {
   "attachments": {},
   "cell_type": "markdown",
   "id": "1a13cccd",
   "metadata": {},
   "source": [
    "# Plot long|short firing rate index using 'long_short_fr_indicies_analyses':"
   ]
  },
  {
   "cell_type": "code",
   "execution_count": null,
   "id": "caab469b",
   "metadata": {},
   "outputs": [],
   "source": [
    "# fig_save_parent_path = Path(r'E:\\Dropbox (Personal)\\Active\\Kamran Diba Lab\\Results from 2023-01-20 - LongShort Firing Rate Indicies')\n",
    "## Get the output path (active_session_figures_out_path) for this session (and all of its filtered_contexts as well):\n",
    "active_identifying_session_ctx = curr_active_pipeline.sess.get_context() # 'bapun_RatN_Day4_2019-10-15_11-30-06'\n",
    "figures_parent_out_path = create_daily_programmatic_display_function_testing_folder_if_needed()\n",
    "active_session_figures_out_path = session_context_to_relative_path(figures_parent_out_path, active_identifying_session_ctx)\n",
    "print(f'curr_session_parent_out_path: {active_session_figures_out_path}')\n",
    "active_session_figures_out_path.mkdir(parents=True, exist_ok=True) # make folder if needed\n",
    "curr_active_pipeline.display('_display_short_long_firing_rate_index_comparison', curr_active_pipeline.sess.get_context(), fig_save_parent_path=active_session_figures_out_path)\n",
    "# plt.close() # closes the current figure"
   ]
  },
  {
   "cell_type": "code",
   "execution_count": null,
   "id": "a71511c3",
   "metadata": {},
   "outputs": [],
   "source": [
    "curr_active_pipeline.display('_display_short_long_firing_rate_index_comparison', long_short_fr_indicies_analysis_results['active_context'], fig_save_parent_path=None)\n"
   ]
  },
  {
   "cell_type": "code",
   "execution_count": null,
   "id": "53e5e3dc",
   "metadata": {
    "tags": [
     "NOW_05_25"
    ]
   },
   "outputs": [],
   "source": [
    "import matplotlib\n",
    "# configure backend here\n",
    "# matplotlib.use('Qt5Agg')\n",
    "# backend_qt5agg\n",
    "matplotlib.use('Qt5Agg') # non-interactive backend ## 2022-08-16 - Surprisingly this works to make the matplotlib figures render only to .png file, not appear on the screen!\n",
    "from pyphoplacecellanalysis.General.Pipeline.Stages.DisplayFunctions.MultiContextComparingDisplayFunctions.LongShortTrackComparingDisplayFunctions import _plot_long_short_firing_rate_indicies\n",
    "\n",
    "\n",
    "# Plot long|short firing rate index:\n",
    "long_short_fr_indicies_analysis_results = curr_active_pipeline.global_computation_results.computed_data['long_short_fr_indicies_analysis']\n",
    "x_frs_dict, y_frs_dict = long_short_fr_indicies_analysis_results['x_frs_index'], long_short_fr_indicies_analysis_results['y_frs_index'] # use the all_results_dict as the computed data value\n",
    "active_context = long_short_fr_indicies_analysis_results['active_context']\n",
    "fig, _temp_full_fig_save_path = _plot_long_short_firing_rate_indicies(x_frs_dict, y_frs_dict, active_context, fig_save_parent_path=None, debug_print=False)\n",
    "fig.show()"
   ]
  },
  {
   "cell_type": "code",
   "execution_count": null,
   "id": "e8fcb225",
   "metadata": {},
   "outputs": [],
   "source": [
    "ax = plt.gca()\n"
   ]
  },
  {
   "cell_type": "code",
   "execution_count": null,
   "id": "4f7a776e",
   "metadata": {},
   "outputs": [],
   "source": [
    "ax.spines[['top', 'right']].set_visible(True)"
   ]
  },
  {
   "cell_type": "code",
   "execution_count": null,
   "id": "0165676b",
   "metadata": {},
   "outputs": [],
   "source": [
    "# curr_active_pipeline.perform_specific_computation(computation_functions_name_whitelist=['_perform_long_short_firing_rate_analyses'], fail_on_exception=True, debug_print=False) # fail_on_exception MUST be True or error handling is all messed up \n",
    "long_short_fr_indicies_analysis_results = curr_active_pipeline.global_computation_results.computed_data['long_short_fr_indicies_analysis']\n",
    "x_frs_dict, y_frs_dict = long_short_fr_indicies_analysis_results['x_frs_index'], long_short_fr_indicies_analysis_results['y_frs_index'] # use the all_results_dict as the computed data value\n",
    "active_context = long_short_fr_indicies_analysis_results['active_context']\n",
    "long_short_fr_indicies_analysis_results"
   ]
  },
  {
   "attachments": {},
   "cell_type": "markdown",
   "id": "e0409e08",
   "metadata": {},
   "source": [
    "# Other Programmatic Figures"
   ]
  },
  {
   "attachments": {},
   "cell_type": "markdown",
   "id": "3ecc42a2",
   "metadata": {},
   "source": [
    "### 2023-05-25 - Neptune Figure Uploads from `registered_output_files`\n"
   ]
  },
  {
   "cell_type": "code",
   "execution_count": null,
   "id": "8f32c5ea",
   "metadata": {
    "tags": [
     "NOW_05-25"
    ]
   },
   "outputs": [],
   "source": [
    "from pyphoplacecellanalysis.General.Batch.NonInteractiveWrapper import neptune_output_figures\n",
    "\n",
    "# curr_active_pipeline.registered_output_files\n",
    "# curr_active_pipeline.register_output_file(output_path=test_path, output_metadata={})\n",
    "\n",
    "neptune_output_figures(curr_active_pipeline)"
   ]
  },
  {
   "cell_type": "code",
   "execution_count": null,
   "id": "d86bf7a0",
   "metadata": {},
   "outputs": [],
   "source": [
    "curr_active_pipeline.registered_output_files\n",
    "# curr_active_pipeline.registered_output_files_list"
   ]
  },
  {
   "cell_type": "code",
   "execution_count": null,
   "id": "67a53d29",
   "metadata": {},
   "outputs": [],
   "source": [
    "import matplotlib as mpl\n",
    "from pyphoplacecellanalysis.General.Mixins.ExportHelpers import create_daily_programmatic_display_function_testing_folder_if_needed, session_context_to_relative_path, programmatic_display_to_PDF\n",
    "from pyphoplacecellanalysis.General.Mixins.ExportHelpers import build_pdf_metadata_from_display_context # newer version of build_pdf_export_metadata\n",
    "from neuropy.core.neuron_identities import PlotStringBrevityModeEnum\n",
    "from neuropy.plotting.ratemaps import BackgroundRenderingOptions\n",
    "_bak_rcParams = mpl.rcParams.copy()\n",
    "mpl.rcParams['toolbar'] = 'None' # disable toolbars\n",
    "matplotlib.use('AGG') # non-interactive backend ## 2022-08-16 - Surprisingly this works to make the matplotlib figures render only to .png file, not appear on the screen!\n",
    "# active_identifying_session_ctx = curr_active_pipeline.sess.get_context() # 'bapun_RatN_Day4_2019-10-15_11-30-06'\n",
    "# programmatic_display_to_PDF(curr_active_pipeline, curr_display_function_name='_display_1d_placefields', debug_print=False) # 🟢✅ Now seems to be working and saving to PDF!! Still using matplotlib.use('Qt5Agg') mode and plots still appear.\n",
    "# programmatic_display_to_PDF(curr_active_pipeline, curr_display_function_name='_display_1d_placefield_validations') # , filter_name=active_config_name 🟢✅ Now seems to be working and saving to PDF!! Still using matplotlib.use('Qt5Agg') mode and plots still appear. Moderate visual improvements can still be made (titles overlap and stuff). Works with %%capture\n",
    "# programmatic_display_to_PDF(curr_active_pipeline, curr_display_function_name='_display_2d_placefield_result_plot_ratemaps_2D') #  🟢✅ Now seems to be working and saving to PDF!! Still using matplotlib.use('Qt5Agg') mode and plots still appear.\n",
    "programmatic_display_to_PDF(curr_active_pipeline, curr_display_function_name='_display_2d_placefield_occupancy') #  🟢✅ Now seems to be working and saving to PDF!! Still using matplotlib.use('Qt5Agg') mode and plots still appear.\n"
   ]
  },
  {
   "cell_type": "code",
   "execution_count": null,
   "id": "a4a5a83f",
   "metadata": {},
   "outputs": [],
   "source": [
    "curr_active_pipeline.reload_default_display_functions()\n",
    "active_identifying_session_ctx, active_session_figures_out_path, active_out_figures_list = batch_programmatic_figures(curr_active_pipeline)\n",
    "batch_extended_programmatic_figures(curr_active_pipeline=curr_active_pipeline)"
   ]
  },
  {
   "cell_type": "code",
   "execution_count": null,
   "id": "7b7172c6",
   "metadata": {},
   "outputs": [],
   "source": [
    "# plot_helper = curr_active_pipeline.plot\n",
    "curr_active_pipeline.registered_display_function_docs_dict"
   ]
  },
  {
   "cell_type": "code",
   "execution_count": null,
   "id": "d2926235",
   "metadata": {},
   "outputs": [],
   "source": [
    "curr_active_pipeline.display_output_history_list"
   ]
  },
  {
   "cell_type": "code",
   "execution_count": null,
   "id": "933f9937",
   "metadata": {},
   "outputs": [],
   "source": [
    "curr_active_pipeline.display_output"
   ]
  },
  {
   "cell_type": "code",
   "execution_count": null,
   "id": "64cbba87",
   "metadata": {},
   "outputs": [],
   "source": [
    "\n",
    "# '_display_2d_placefield_result_plot_ratemaps_2D'\n",
    "# %matplotlib inline\n",
    "%matplotlib qt\n",
    "# curr_active_pipeline.display('_display_2d_placefield_result_plot_ratemaps_2D', long_epoch_context) # MatplotlibRenderPlots\n"
   ]
  },
  {
   "cell_type": "code",
   "execution_count": null,
   "id": "48029c22",
   "metadata": {},
   "outputs": [],
   "source": [
    "\n",
    "# long_pf2D.plot_occupancy()\n",
    "_out = short_one_step_decoder_2D.pf.plot_ratemaps_2D(included_unit_neuron_IDs=[2,4,5], bg_rendering_mode=BackgroundRenderingOptions.EMPTY, use_special_overlayed_title=False, missing_aclu_string_formatter=None, debug_print=False, brev_mode=PlotStringBrevityModeEnum.NONE)\n",
    "\n",
    "## Single column output: subplots=(None, 9)\n"
   ]
  },
  {
   "cell_type": "code",
   "execution_count": null,
   "id": "14977e80",
   "metadata": {},
   "outputs": [],
   "source": [
    "# %%capture\n",
    "active_display_to_pdf_fn(curr_active_pipeline, curr_display_function_name='_display_1d_placefields', debug_print=False) # 🟢✅ Now seems to be working and saving to PDF!! Still using matplotlib.use('Qt5Agg') mode and plots still appear."
   ]
  },
  {
   "cell_type": "code",
   "execution_count": null,
   "id": "c2686e3f",
   "metadata": {},
   "outputs": [],
   "source": [
    "long_shared_aclus_only_decoder.pf.plot_occupancy()"
   ]
  },
  {
   "cell_type": "code",
   "execution_count": null,
   "id": "37ae6c7f",
   "metadata": {},
   "outputs": [],
   "source": [
    "%matplotlib qt\n",
    "long_one_step_decoder_2D.pf.plot_occupancy()"
   ]
  },
  {
   "cell_type": "code",
   "execution_count": null,
   "id": "a8006610",
   "metadata": {},
   "outputs": [],
   "source": [
    "long_one_step_decoder_2D.pf.plot_ratemaps_2D()"
   ]
  },
  {
   "cell_type": "code",
   "execution_count": null,
   "id": "d49dcc7e",
   "metadata": {},
   "outputs": [],
   "source": [
    "# curr_active_pipeline.display('_display_short_long_pf1D_comparison', active_session_configuration_context=global_epoch_context, single_figure=False)\n",
    "\n",
    "short_one_step_decoder_1D"
   ]
  },
  {
   "cell_type": "code",
   "execution_count": null,
   "id": "402834bd",
   "metadata": {},
   "outputs": [],
   "source": [
    "%matplotlib qt\n",
    "active_identifying_session_ctx = curr_active_pipeline.sess.get_context() # 'bapun_RatN_Day4_2019-10-15_11-30-06'\n",
    "\n",
    "long_single_cell_pfmap_processing_fn = None\n",
    "short_single_cell_pfmap_processing_fn = None\n",
    "sort_idx = None\n",
    "\n",
    "out = curr_active_pipeline.display('_display_short_long_pf1D_comparison', active_identifying_session_ctx, single_figure=False, debug_print=False, fignum='Short v Long pf1D Comparison',\n",
    "                                   long_kwargs={'sortby': sort_idx, 'single_cell_pfmap_processing_fn': long_single_cell_pfmap_processing_fn},\n",
    "                                   short_kwargs={'sortby': sort_idx, 'single_cell_pfmap_processing_fn': short_single_cell_pfmap_processing_fn, 'curve_hatch_style': {'hatch':'///', 'edgecolor':'k'}},\n",
    "                                  )\n",
    "\n",
    "# ax = out.axes[0]"
   ]
  },
  {
   "cell_type": "code",
   "execution_count": null,
   "id": "d0cfbb30",
   "metadata": {},
   "outputs": [],
   "source": [
    "sort_idx = np.argsort(product_overlap_scalars_df.prod_overlap.to_numpy())[::-1] # the `[::-1]` term reverses the array, which by defaul is returned in ascending order and we want descending\n",
    "sort_idx"
   ]
  },
  {
   "cell_type": "code",
   "execution_count": null,
   "id": "fe831b56",
   "metadata": {},
   "outputs": [],
   "source": [
    "curr_ratemap = long_one_step_decoder_1D.pf.ratemap\n",
    "curr_ratemap.get_sort_indicies()\n",
    "# .pf1D.ratemap"
   ]
  },
  {
   "cell_type": "code",
   "execution_count": null,
   "id": "23228854",
   "metadata": {},
   "outputs": [],
   "source": [
    "# Create `master_dock_win` - centralized plot output window to collect individual figures/controls in (2022-08-18)\n",
    "\n",
    "active_identifying_session_ctx = curr_active_pipeline.filtered_contexts['maze']\n",
    "display_output = curr_active_pipeline.display('_display_context_nested_docks', active_identifying_session_ctx, enable_gui=False, debug_print=True) # returns {'master_dock_win': master_dock_win, 'app': app, 'out_items': out_items}\n",
    "master_dock_win = display_output['master_dock_win']\n",
    "app = display_output['app']\n",
    "out_items = display_output['out_items']\n",
    "\n",
    "# def _get_curr_figure_format_config():\n",
    "# \t\"\"\" Aims to fetch the current figure_format_config and context from the figure_format_config widget:    \n",
    "# \tImplicitly captures: `out_items`, `active_config_name`, `active_identifying_filtered_session_ctx` \n",
    "# \t\"\"\"\n",
    "# \t## Get the figure_format_config from the figure_format_config widget:\n",
    "# \t# Fetch the context from the GUI:\n",
    "# \t_curr_gui_session_ctx, _curr_gui_out_display_items = out_items[active_config_name]\n",
    "# \t_curr_gui_figure_format_config_widget = _curr_gui_out_display_items[active_identifying_filtered_session_ctx.adding_context('display_fn', display_fn_name='figure_format_config_widget')] # [0] is seemingly not needed to unpack the tuple\n",
    "# \tif _curr_gui_figure_format_config_widget is not None:\n",
    "# \t\t# has GUI for config\n",
    "# \t\tfigure_format_config = _curr_gui_figure_format_config_widget.figure_format_config\n",
    "# \telse:\n",
    "# \t\t# has non-GUI provider of figure_format_config\n",
    "# \t\tfigure_format_config = _curr_gui_figure_format_config_widget.figure_format_config\n",
    "\n",
    "# \tif debug_print:\n",
    "# \t\tprint(f'recovered gui figure_format_config: {figure_format_config}')\n",
    "\n",
    "# \treturn figure_format_config\n",
    "\n",
    "# figure_format_config = _get_curr_figure_format_config()"
   ]
  },
  {
   "cell_type": "code",
   "execution_count": null,
   "id": "75cd3a29",
   "metadata": {},
   "outputs": [],
   "source": []
  },
  {
   "attachments": {},
   "cell_type": "markdown",
   "id": "b1e8629a",
   "metadata": {},
   "source": [
    "# 2023-04-27 - Idea: Candidate Replay \"Quality\" Metric\n",
    "Observed that I visually distinguish \"good\" replays from bad ones based on their mostly-monotonically increasing nature.\n",
    "\n",
    "#### They don't have to:\n",
    "\tSpan the whole track\n",
    "\tStart or end at an end-cap\n",
    "\tIncrease linearly\n",
    "\n",
    "#### The algorithm must:\n",
    "\ttolerate ocasional jumps in an otherwise linear sequence\n",
    "\tallow sequences to \"start\" only halfway through. They should extract out the coherent sequence\n",
    "\n",
    "#### Ideas:\n",
    "\t- just a linear fit\n",
    "\t- a monotonicity check using some sort of cumulative sum over the differences in position.\n",
    "\t- \"radon transform\"?"
   ]
  },
  {
   "attachments": {},
   "cell_type": "markdown",
   "id": "8fad7d0f",
   "metadata": {
    "tags": [
     "radon_transform",
     "testing"
    ]
   },
   "source": [
    "# 20230-05-25 - Radon Transform approach to finding line of best fit for each replay Epoch"
   ]
  },
  {
   "cell_type": "code",
   "execution_count": 29,
   "id": "d9b5fbd9",
   "metadata": {},
   "outputs": [
    {
     "data": {
      "text/html": [
       "<div>\n",
       "<style scoped>\n",
       "    .dataframe tbody tr th:only-of-type {\n",
       "        vertical-align: middle;\n",
       "    }\n",
       "\n",
       "    .dataframe tbody tr th {\n",
       "        vertical-align: top;\n",
       "    }\n",
       "\n",
       "    .dataframe thead th {\n",
       "        text-align: right;\n",
       "    }\n",
       "</style>\n",
       "<table border=\"1\" class=\"dataframe\">\n",
       "  <thead>\n",
       "    <tr style=\"text-align: right;\">\n",
       "      <th></th>\n",
       "      <th>score</th>\n",
       "      <th>velocity</th>\n",
       "      <th>intercept</th>\n",
       "    </tr>\n",
       "  </thead>\n",
       "  <tbody>\n",
       "    <tr>\n",
       "      <th>0</th>\n",
       "      <td>0.584336</td>\n",
       "      <td>216.420765</td>\n",
       "      <td>47.189349</td>\n",
       "    </tr>\n",
       "    <tr>\n",
       "      <th>1</th>\n",
       "      <td>0.670000</td>\n",
       "      <td>-20.478029</td>\n",
       "      <td>72.819102</td>\n",
       "    </tr>\n",
       "    <tr>\n",
       "      <th>2</th>\n",
       "      <td>0.450712</td>\n",
       "      <td>240.112899</td>\n",
       "      <td>17.224481</td>\n",
       "    </tr>\n",
       "    <tr>\n",
       "      <th>3</th>\n",
       "      <td>0.494904</td>\n",
       "      <td>-409.451663</td>\n",
       "      <td>95.790755</td>\n",
       "    </tr>\n",
       "    <tr>\n",
       "      <th>4</th>\n",
       "      <td>0.570902</td>\n",
       "      <td>193.202932</td>\n",
       "      <td>60.684810</td>\n",
       "    </tr>\n",
       "    <tr>\n",
       "      <th>...</th>\n",
       "      <td>...</td>\n",
       "      <td>...</td>\n",
       "      <td>...</td>\n",
       "    </tr>\n",
       "    <tr>\n",
       "      <th>115</th>\n",
       "      <td>0.425862</td>\n",
       "      <td>-839.827819</td>\n",
       "      <td>197.836440</td>\n",
       "    </tr>\n",
       "    <tr>\n",
       "      <th>116</th>\n",
       "      <td>0.472130</td>\n",
       "      <td>26.987992</td>\n",
       "      <td>76.647602</td>\n",
       "    </tr>\n",
       "    <tr>\n",
       "      <th>117</th>\n",
       "      <td>0.434459</td>\n",
       "      <td>-108.010689</td>\n",
       "      <td>106.292056</td>\n",
       "    </tr>\n",
       "    <tr>\n",
       "      <th>118</th>\n",
       "      <td>0.709752</td>\n",
       "      <td>-73.568299</td>\n",
       "      <td>100.672505</td>\n",
       "    </tr>\n",
       "    <tr>\n",
       "      <th>119</th>\n",
       "      <td>0.333980</td>\n",
       "      <td>-912.320162</td>\n",
       "      <td>98.845640</td>\n",
       "    </tr>\n",
       "  </tbody>\n",
       "</table>\n",
       "<p>120 rows × 3 columns</p>\n",
       "</div>"
      ],
      "text/plain": [
       "        score    velocity   intercept\n",
       "0    0.584336  216.420765   47.189349\n",
       "1    0.670000  -20.478029   72.819102\n",
       "2    0.450712  240.112899   17.224481\n",
       "3    0.494904 -409.451663   95.790755\n",
       "4    0.570902  193.202932   60.684810\n",
       "..        ...         ...         ...\n",
       "115  0.425862 -839.827819  197.836440\n",
       "116  0.472130   26.987992   76.647602\n",
       "117  0.434459 -108.010689  106.292056\n",
       "118  0.709752  -73.568299  100.672505\n",
       "119  0.333980 -912.320162   98.845640\n",
       "\n",
       "[120 rows x 3 columns]"
      ]
     },
     "execution_count": 29,
     "metadata": {},
     "output_type": "execute_result"
    }
   ],
   "source": [
    "from pyphoplacecellanalysis.Analysis.Decoder.decoder_result import get_radon_transform\n",
    "\n",
    "## 2023-05-25 - Get the 1D Posteriors for each replay epoch so they can be analyzed via score_posterior(...) with a Radon Transform approch to find the line of best fit (which gives the velocity).\n",
    "active_epoch_decoder_result = long_results_obj.all_included_filter_epochs_decoder_result\n",
    "# active_time_bins = active_epoch_decoder_result.time_bin_edges[0]\n",
    "# active_posterior_container = active_epoch_decoder_result.marginal_x_list[0]\n",
    "# active_posterior = active_posterior_container.p_x_given_n\n",
    "active_posterior = active_epoch_decoder_result.p_x_given_n_list # one for each epoch\n",
    "# active_most_likely_positions = active_posterior_container.most_likely_positions_1D\n",
    "\n",
    "# the size of the x_bin in [cm]\n",
    "pos_bin_size = float(long_results_obj.original_1D_decoder.pf.bin_info['xstep'])\n",
    "\n",
    "## compute the Radon transform to get the lines of best fit\n",
    "score, velocity, intercept = get_radon_transform(active_posterior, decoding_time_bin_duration=active_epoch_decoder_result.decoding_time_bin_size, pos_bin_size=pos_bin_size,\n",
    "                                                  nlines=5000, margin=16, jump_stat=None, posteriors=None, n_jobs=1)\n",
    "\n",
    "epochs_linear_fit_df = pd.DataFrame({'score': score, 'velocity': velocity, 'intercept': intercept})\n",
    "epochs_linear_fit_df"
   ]
  },
  {
   "cell_type": "code",
   "execution_count": null,
   "id": "2082eebd",
   "metadata": {},
   "outputs": [],
   "source": [
    "# epochs_linear_fit_df.plot()\n",
    "## Add the radon-transformed linear fits to each epoch to the stacked epoch plots:\n",
    "# epochs_linear_fit_df\n",
    "epochs_linear_fit_df"
   ]
  },
  {
   "attachments": {},
   "cell_type": "markdown",
   "id": "de511aa5",
   "metadata": {},
   "source": [
    "# 2023-05-02 - Session Validation Check Info\n",
    "Generate info about the number of laps detected, the duration, the number of cells, the number of replays, etc for the active session so that it can be ensured that there wasn't an error that is messing up the analysis."
   ]
  },
  {
   "cell_type": "code",
   "execution_count": null,
   "id": "15697281",
   "metadata": {},
   "outputs": [],
   "source": [
    "curr_active_pipeline.active_sess_config"
   ]
  },
  {
   "attachments": {},
   "cell_type": "markdown",
   "id": "d5045805",
   "metadata": {},
   "source": [
    "# Pipeline Comprehensive:\n"
   ]
  },
  {
   "cell_type": "code",
   "execution_count": null,
   "id": "8c49561b",
   "metadata": {},
   "outputs": [],
   "source": [
    "## Top level objects:\n",
    "curr_active_pipeline.active_sess_config\n",
    "curr_active_pipeline.sess\n",
    "\n",
    "\n",
    "\n",
    "# Function of config names or contexts:\n",
    "curr_active_pipeline.filtered_contexts\n",
    "\n",
    "curr_active_pipeline.filtered_sessions\n",
    "curr_active_pipeline.active_configs # each is a `InteractivePlaceCellConfig` type object\n",
    "\tcurr_active_pipeline._stage.active_configs['maze1']\n",
    "\n",
    "\n",
    "\n",
    "curr_active_pipeline.computation_results\n",
    "\n",
    "\n",
    "curr_active_pipeline.global_computation_results\n",
    "\n"
   ]
  },
  {
   "cell_type": "code",
   "execution_count": null,
   "id": "95f30d13",
   "metadata": {},
   "outputs": [],
   "source": [
    "sess = curr_active_pipeline.sess\n",
    "sess.config"
   ]
  },
  {
   "cell_type": "code",
   "execution_count": null,
   "id": "05560f86",
   "metadata": {},
   "outputs": [],
   "source": [
    "from neuropy.core.epoch import EpochsAccessor, Epoch\n",
    "\n",
    "sess = curr_active_pipeline.sess\n",
    "# sess.replay.epochs.debug_print_info('replays')\n",
    "\n",
    "\n",
    "def debug_print_session_epochs_info(sess, session_name:str):\n",
    "\t\"\"\" \n",
    "\n",
    "\tExample:\n",
    "\t\tdebug_print_session_epochs_info(curr_active_pipeline.sess, 'sess')\n",
    "\t\tdebug_print_session_epochs_info(long_session, 'long_session')\n",
    "\t\tdebug_print_session_epochs_info(short_session, 'short_session')\n",
    "\t\tdebug_print_session_epochs_info(global_session, 'global_session')\n",
    "\n",
    "\tsess:\n",
    "\t\tnum replays: 1729\n",
    "\t\tnum laps: 80\n",
    "\tlong_session:\n",
    "\t\tnum replays: 661\n",
    "\t\tnum laps: 40\n",
    "\tshort_session:\n",
    "\t\tnum replays: 1068\n",
    "\t\tnum laps: 40\n",
    "\tglobal_session:\n",
    "\t\tnum replays: 1729\n",
    "\t\tnum laps: 80\n",
    "\t\t\n",
    "\t\n",
    "\t\"\"\"\t\n",
    "\n",
    "\treplays_df = sess.replay\n",
    "\tlaps_df = sess.laps.as_epoch_obj().to_dataframe()\n",
    "\tprint(f'{session_name}:')\n",
    "\tprint(f'\\tnum replays: {replays_df.epochs.n_epochs}')\n",
    "\tprint(f'\\tnum laps: {laps_df.epochs.n_epochs}')\n",
    "\n",
    "# (long_one_step_decoder_1D, short_one_step_decoder_1D), (long_one_step_decoder_2D, short_one_step_decoder_2D) = compute_short_long_constrained_decoders(curr_active_pipeline, recalculate_anyway=True)\n",
    "long_epoch_name, short_epoch_name, global_epoch_name = curr_active_pipeline.find_LongShortGlobal_epoch_names()\n",
    "long_epoch_context, short_epoch_context, global_epoch_context = [curr_active_pipeline.filtered_contexts[a_name] for a_name in (long_epoch_name, short_epoch_name, global_epoch_name)]\n",
    "long_session, short_session, global_session = [curr_active_pipeline.filtered_sessions[an_epoch_name] for an_epoch_name in [long_epoch_name, short_epoch_name, global_epoch_name]]\n",
    "# long_results, short_results, global_results = [curr_active_pipeline.computation_results[an_epoch_name]['computed_data'] for an_epoch_name in [long_epoch_name, short_epoch_name, global_epoch_name]]\n",
    "# long_pf1D, short_pf1D, global_pf1D = long_results.pf1D, short_results.pf1D, global_results.pf1D\n",
    "# long_pf2D, short_pf2D, global_pf2D = long_results.pf2D, short_results.pf2D, global_results.pf2D\n",
    "# decoding_time_bin_size = long_one_step_decoder_1D.time_bin_size # 1.0/30.0 # 0.03333333333333333\n",
    "\n",
    "debug_print_session_epochs_info(curr_active_pipeline.sess, 'sess')\n",
    "debug_print_session_epochs_info(long_session, 'long_session')\n",
    "debug_print_session_epochs_info(short_session, 'short_session')\n",
    "debug_print_session_epochs_info(global_session, 'global_session')\n",
    "\n",
    "\n",
    "# epoch_df = sess.laps.to_dataframe()\n",
    "\n",
    "# epoch_df.epochs.n_epochs\n",
    "\n",
    "# epoch_name = 'laps'\n",
    "# num_epochs = epoch_df.epochs.n_epochs # np.shape(epoch_df)[0]\n",
    "# print(f'num {epoch_name}: {num_epochs}')\n",
    "\n",
    "# sess.replay.to_dataframe()\n",
    "\n",
    "# def debug_print_session_epochs_info(num_updated_total_items: int, num_original_total_items: int, item_label=None, subsession_name=None):\n",
    "#     print('{}/{} total {} remain in subsession {}'.format(num_updated_total_items, num_original_total_items, (item_label or \"items\"), (subsession_name or \"\")))\n",
    "\n",
    "# debug_print_subsession_epochs_differences(num_updated_total_items=len(long_session.replay), num_original_total_items=len(long_session.replay_backup), item_label='replays', subsession_name='\"long\"')\n",
    "# debug_print_subsession_epochs_differences(num_updated_total_items=len(short_session.replay), num_original_total_items=len(short_session.replay_backup), item_label='replays', subsession_name='\"short\"')\n",
    "\n",
    "(long_epoch_name, short_epoch_name, global_epoch_name)"
   ]
  },
  {
   "cell_type": "code",
   "execution_count": null,
   "id": "f75cf03c",
   "metadata": {},
   "outputs": [],
   "source": [
    "## BUG 2023-05-25 - Found ERROR for a loaded pipeline where for some reason the filtered_contexts[long_epoch_name]'s actual context was the same as the short maze ('...maze2'). Unsure how this happened.\n",
    "ctx = curr_active_pipeline.filtered_contexts[long_epoch_name]\n",
    "ctx.filter_name = long_epoch_name\n",
    "assert ctx.filter_name == long_epoch_name, f\"ctx.filter_name: {ctx.filter_name} != long_epoch_name: {long_epoch_name}\""
   ]
  },
  {
   "cell_type": "code",
   "execution_count": null,
   "id": "ac8874b6",
   "metadata": {},
   "outputs": [],
   "source": [
    "list(curr_active_pipeline.active_configs.keys())\n",
    "list(curr_active_pipeline.filtered_sessions.keys())\n",
    "list(curr_active_pipeline.filtered_contexts.keys())\n",
    "# curr_active_pipeline.filtered_sessions\n",
    "curr_active_pipeline.filtered_contexts"
   ]
  },
  {
   "cell_type": "code",
   "execution_count": null,
   "id": "ed69eafd",
   "metadata": {},
   "outputs": [],
   "source": [
    "\n",
    "def debug_print_subsession_epochs_differences(num_updated_total_items: int, num_original_total_items: int, item_label=None, subsession_name=None):\n",
    "    print('{}/{} total {} remain in subsession {}'.format(num_updated_total_items, num_original_total_items, (item_label or \"items\"), (subsession_name or \"\")))\n",
    "\n",
    "debug_print_subsession_epochs_differences(num_updated_total_items=len(long_session.replay), num_original_total_items=len(long_session.replay_backup), item_label='replays', subsession_name='\"long\"')\n",
    "debug_print_subsession_epochs_differences(num_updated_total_items=len(short_session.replay), num_original_total_items=len(short_session.replay_backup), item_label='replays', subsession_name='\"short\"')\n"
   ]
  },
  {
   "cell_type": "code",
   "execution_count": null,
   "id": "c5e67e5a",
   "metadata": {},
   "outputs": [],
   "source": [
    "debug_print_subsession_epochs_differences(num_updated_total_items=len(long_session.laps), num_original_total_items=len(long_session.replay_backup), item_label='laps', subsession_name='\"long\"')\n",
    "debug_print_subsession_epochs_differences(num_updated_total_items=len(short_session.laps), num_original_total_items=len(short_session.replay_backup), item_label='laps', subsession_name='\"short\"')\n"
   ]
  },
  {
   "cell_type": "code",
   "execution_count": null,
   "id": "f714aa79",
   "metadata": {},
   "outputs": [],
   "source": [
    "before_num_rows = self.n_epochs        \n",
    "filtered_epochs = convert_PortionInterval_to_epochs_df(_convert_start_end_tuples_list_to_PortionInterval(zip(self.starts, self.stops)))\n",
    "after_num_rows = np.shape(filtered_epochs)[0]\n",
    "changed_num_rows = after_num_rows - before_num_rows\n",
    "print(f'Dataframe Changed from {before_num_rows} -> {after_num_rows} ({changed_num_rows = })')"
   ]
  },
  {
   "cell_type": "code",
   "execution_count": null,
   "id": "c8caf529",
   "metadata": {},
   "outputs": [],
   "source": [
    "from neuropy.utils.debug_helpers import debug_print_placefield, debug_print_spike_counts, debug_print_subsession_neuron_differences, print_aligned_columns\n",
    "from neuropy.utils.misc import print_seconds_human_readable\n",
    "\n",
    "debug_print_spike_counts(global_session)"
   ]
  },
  {
   "cell_type": "code",
   "execution_count": null,
   "id": "80205471",
   "metadata": {},
   "outputs": [],
   "source": [
    "from pyphoplacecellanalysis.General.Mixins.CrossComputationComparisonHelpers import _compare_computation_results\n",
    "# curr_active_pipeline.computation_results\n",
    "# pf_neurons_diff = _compare_computation_results(curr_active_pipeline.computation_results.maze1_PYR, curr_active_pipeline.computation_results.maze2_PYR)\n",
    "pf_neurons_diff = _compare_computation_results(long_results, short_results)\n",
    "pf_neurons_diff"
   ]
  },
  {
   "cell_type": "code",
   "execution_count": null,
   "id": "0000ecb5",
   "metadata": {},
   "outputs": [],
   "source": [
    "print(pf_neurons_diff)"
   ]
  },
  {
   "attachments": {},
   "cell_type": "markdown",
   "id": "7125b9f7",
   "metadata": {},
   "source": [
    "### Plotting Validations"
   ]
  },
  {
   "cell_type": "code",
   "execution_count": null,
   "id": "0b942014",
   "metadata": {},
   "outputs": [],
   "source": [
    "%matplotlib qt\n",
    "short_one_step_decoder_1D.pf.plot_ratemaps_1D()"
   ]
  },
  {
   "cell_type": "code",
   "execution_count": null,
   "id": "8bfe7eb9",
   "metadata": {},
   "outputs": [],
   "source": [
    "short_results.pf1D_Decoder.pf.plot_ratemaps_1D()"
   ]
  },
  {
   "cell_type": "code",
   "execution_count": null,
   "id": "2bed5960",
   "metadata": {},
   "outputs": [],
   "source": [
    "short_results.pf2D_Decoder.pf.plot_ratemaps_2D()\n",
    "short_one_step_decoder_2D.pf.plot_ratemaps_2D()"
   ]
  },
  {
   "cell_type": "code",
   "execution_count": null,
   "id": "a7ea99e3",
   "metadata": {},
   "outputs": [],
   "source": [
    "%matplotlib qt\n",
    "long_session.plot_laps_2d()"
   ]
  },
  {
   "cell_type": "code",
   "execution_count": null,
   "id": "a0d18bc8",
   "metadata": {},
   "outputs": [],
   "source": [
    "from pyphoplacecellanalysis.PhoPositionalData.plotting.laps import plot_laps_2d\n",
    "\n",
    "%matplotlib qt\n",
    "fig, out_axes_list = plot_laps_2d(global_session, legacy_plotting_mode=False)\n",
    "out_axes_list[0].set_title('New Pho Position Thresholding Estimated Laps')\n",
    "fig.canvas.manager.set_window_title('New Pho Position Thresholding Estimated Laps')"
   ]
  },
  {
   "cell_type": "code",
   "execution_count": null,
   "id": "cae2e3a2",
   "metadata": {},
   "outputs": [],
   "source": [
    "## Laps \n",
    "from pyphoplacecellanalysis.GUI.PyVista.InteractivePlotter.Mixins.LapsVisualizationMixin import LapsVisualizationMixin\n",
    "\n",
    "curr_position_df, lap_specific_position_dfs = LapsVisualizationMixin._compute_laps_specific_position_dfs(curr_active_pipeline.sess)\n",
    "lap_specific_position_dfs = [curr_position_df.groupby('lap').get_group(i)[['t','x','y','lin_pos']] for i in curr_active_pipeline.sess.laps.lap_id] # dataframes split for each ID:\n",
    "laps_position_times_list = [np.squeeze(lap_pos_df[['t']].to_numpy()) for lap_pos_df in lap_specific_position_dfs]\n",
    "laps_position_traces_list = [lap_pos_df[['x','y']].to_numpy().T for lap_pos_df in lap_specific_position_dfs]\n",
    "## Build Epochs:\n",
    "epochs = curr_active_pipeline.sess.laps.to_dataframe()\n",
    "epoch_slices = epochs[['start', 'stop']].to_numpy()\n",
    "epoch_description_list = [f'lap {epoch_tuple.lap_id} (maze: {epoch_tuple.maze_id}, direction: {epoch_tuple.lap_dir})' for epoch_tuple in epochs[['lap_id','maze_id','lap_dir']].itertuples()]\n",
    "# print(f'epoch_description_list: {epoch_description_list}') # epoch_descriptions: ['lap 41 (maze: 2, direction: 1)', 'lap 42 (maze: 2, direction: 0)', 'lap 43 (maze: 2, direction: 1)', 'lap 44 (maze: 2, direction: 0)', 'lap 45 (maze: 2, direction: 1)', 'lap 46 (maze: 2, direction: 0)', 'lap 47 (maze: 2, direction: 1)', 'lap 48 (maze: 2, direction: 0)', 'lap 49 (maze: 2, direction: 1)', 'lap 50 (maze: 2, direction: 0)', 'lap 51 (maze: 2, direction: 1)', 'lap 52 (maze: 2, direction: 0)', 'lap 53 (maze: 2, direction: 1)', 'lap 54 (maze: 2, direction: 0)', 'lap 55 (maze: 2, direction: 1)', 'lap 56 (maze: 2, direction: 0)', 'lap 57 (maze: 2, direction: 1)', 'lap 58 (maze: 2, direction: 0)', 'lap 59 (maze: 2, direction: 1)', 'lap 60 (maze: 2, direction: 0)', 'lap 61 (maze: 2, direction: 1)', 'lap 62 (maze: 2, direction: 0)', 'lap 63 (maze: 2, direction: 1)', 'lap 64 (maze: 2, direction: 0)', 'lap 65 (maze: 2, direction: 1)', 'lap 66 (maze: 2, direction: 0)', 'lap 67 (maze: 2, direction: 1)', 'lap 68 (maze: 2, direction: 0)', 'lap 69 (maze: 2, direction: 1)', 'lap 70 (maze: 2, direction: 0)', 'lap 71 (maze: 2, direction: 1)', 'lap 72 (maze: 2, direction: 0)', 'lap 73 (maze: 2, direction: 1)', 'lap 74 (maze: 2, direction: 0)', 'lap 75 (maze: 2, direction: 1)', 'lap 76 (maze: 2, direction: 0)', 'lap 77 (maze: 2, direction: 1)', 'lap 78 (maze: 2, direction: 0)', 'lap 79 (maze: 2, direction: 1)']\n",
    "# -"
   ]
  }
 ],
 "metadata": {
  "kernelspec": {
   "display_name": "spike3d-UP7QTzFM-py3.9",
   "language": "python",
   "name": "python3"
  },
  "language_info": {
   "codemirror_mode": {
    "name": "ipython",
    "version": 3
   },
   "file_extension": ".py",
   "mimetype": "text/x-python",
   "name": "python",
   "nbconvert_exporter": "python",
   "pygments_lexer": "ipython3",
   "version": "3.9.13"
  },
  "toc-showmarkdowntxt": false,
  "toc-showtags": false
 },
 "nbformat": 4,
 "nbformat_minor": 5
}
