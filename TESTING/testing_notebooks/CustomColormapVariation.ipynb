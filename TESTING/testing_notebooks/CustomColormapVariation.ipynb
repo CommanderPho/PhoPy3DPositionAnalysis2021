{
 "cells": [
  {
   "cell_type": "code",
   "execution_count": 114,
   "id": "148626b6-2790-4b1c-b272-3d6fe9500d23",
   "metadata": {},
   "outputs": [],
   "source": [
    "## Plotting Colors:\n",
    "import numpy as np\n",
    "import matplotlib.pyplot as plt\n",
    "import matplotlib as mpl\n",
    "import matplotlib.colors\n",
    "from matplotlib.colors import ListedColormap, LinearSegmentedColormap, ColorConverter\n",
    "import matplotlib.cm as cm\n",
    "from matplotlib.colors import Normalize, to_rgba_array, to_hex\n",
    "import seaborn as sns\n",
    "\n",
    "\n",
    "# Numpy display options: Very useful, uses the whole width of the screen\n",
    "np.set_printoptions(edgeitems=3, linewidth=4096, \n",
    "    formatter=dict(float=lambda x: \"%.3g\" % x))\n",
    "np.core.arrayprint._line_width = 144\n",
    "\n",
    "\n",
    "class PhoColors:\n",
    "    \"\"\" A convenience class for managing good combinations of colors for data visualization and extending colormaps dynamically \"\"\"\n",
    "    class Colors:\n",
    "        @property\n",
    "        def active_rgba_colors(self):\n",
    "            return to_rgba_array(PhoColors.Colors.extended_tab20b_main_colors_hex()) # np.shape(tab20b_main_rgba_colors) # (5, 4)\n",
    "\n",
    "        @property\n",
    "        def active_rgb_colors(self):\n",
    "             return self.active_rgba_colors[:,:-1] # np.shape(tab20b_main_rgb_colors) # (5, 3)\n",
    "\n",
    "        @property\n",
    "        def active_cmap(self):\n",
    "             return matplotlib.colors.ListedColormap(self.active_rgba_colors)\n",
    "\n",
    "        @staticmethod\n",
    "        def extended_tab20b_main_colors_hex():\n",
    "            c_weird_bright_orange = '#b25809'\n",
    "            # c_weird_orange = '#846739'\n",
    "            c_dark_teal = '#397084'\n",
    "            pho_modified_tab20b_main_colors_hex = ['#843c39', c_weird_bright_orange, '#8c6d31', '#637939', c_dark_teal, '#393b79', '#7b4173']\n",
    "            return pho_modified_tab20b_main_colors_hex\n",
    "\n",
    "    colors = Colors()\n",
    "    \n",
    "    @staticmethod\n",
    "    def pho_categorical_colormap(n_needed_colors, colors: np.array):\n",
    "        \"\"\" Builds a larger colormap with lumance adjusted variations of the colors in the provided colors array\n",
    "        Inputs:\n",
    "            colors should have two axis: the single_color_axis (of size 3 or 4) and the data_axis (of size N) \n",
    "        \n",
    "        Usage:\n",
    "            PhoColors.pho_categorical_colormap(40, PhoColors.colors.active_rgba_colors)\n",
    "        \"\"\"\n",
    "        colors_shape = np.shape(colors) # colors_shape: (5, 3)\n",
    "        print(f'colors_shape: {np.shape(colors)}')\n",
    "        if ((colors_shape[0] != 3) and (colors_shape[0] != 4)):\n",
    "            # expected form\n",
    "            pass\n",
    "        else:\n",
    "            assert ((colors_shape[0] == 3) or (colors_shape[0] == 4)), \"No dimension of colors array is of length 3 or 4. This should be RGB or RGBA data.\"\n",
    "            colors = colors.T # transpose the colors so they're in the correct form:\n",
    "            colors_shape = np.shape(colors)\n",
    "\n",
    "        single_color_axis = 1\n",
    "        data_axis = 0\n",
    "        base_colormap_n_colors = colors_shape[data_axis]\n",
    "        needed_single_hue_variations = int(np.ceil(n_needed_colors / base_colormap_n_colors)) # for n_colors = 40, needed_repeats = 2\n",
    "        print(f'needed_single_hue_variations: {needed_single_hue_variations}, base_colormap_n_colors: {base_colormap_n_colors}, n_needed_colors: {n_needed_colors}')\n",
    "        # cmap = categorical_cmap(base_colormap_n_colors, needed_single_hue_variations, cmap=cmap, continuous=False)\n",
    "        return PhoColors.categorical_cmap_from_colors(base_colormap_n_colors, needed_single_hue_variations, ccolors=colors)\n",
    "\n",
    "    \n",
    "    @staticmethod\n",
    "    def categorical_subdivide_colors(ccolors, nc, nsc):\n",
    "        cols = np.zeros((nc*nsc, 3))\n",
    "        for i, c in enumerate(ccolors):\n",
    "            chsv = matplotlib.colors.rgb_to_hsv(c[:3])\n",
    "            arhsv = np.tile(chsv,nsc).reshape(nsc,3)\n",
    "            arhsv[:,1] = np.linspace(chsv[1],0.25,nsc)\n",
    "            arhsv[:,2] = np.linspace(chsv[2],1,nsc)\n",
    "            rgb = matplotlib.colors.hsv_to_rgb(arhsv)\n",
    "            cols[i*nsc:(i+1)*nsc,:] = rgb       \n",
    "        return cols\n",
    "\n",
    "    @staticmethod\n",
    "    def categorical_cmap(nc, nsc, cmap='tab20b', continuous=False):\n",
    "        \"\"\" takes as input the number of categories (nc) and the number of subcategories (nsc) and returns a colormap with nc*nsc different colors, where for each category there are nsc colors of same hue.\n",
    "            From https://stackoverflow.com/questions/47222585/matplotlib-generic-colormap-from-tab10\n",
    "\n",
    "        \"\"\"\n",
    "        if isinstance(cmap, str):\n",
    "            cmap = plt.get_cmap(cmap)\n",
    "\n",
    "        if nc > cmap.N:\n",
    "            raise ValueError(\"Too many categories for colormap.\")\n",
    "        if continuous:\n",
    "            ccolors = cmap(np.linspace(0,1,nc))\n",
    "        else:\n",
    "            ccolors = cmap(np.arange(nc, dtype=int))\n",
    "        cols = PhoColors.categorical_subdivide_colors(ccolors, nc, nsc)\n",
    "        cmap = matplotlib.colors.ListedColormap(cols)\n",
    "        return cmap\n",
    "\n",
    "\n",
    "    @staticmethod\n",
    "    def categorical_cmap_from_colors(nc, nsc, ccolors, continuous=False):\n",
    "        \"\"\" takes as input the number of categories (nc) and the number of subcategories (nsc) and returns a colormap with nc*nsc different colors, where for each category there are nsc colors of same hue.\n",
    "            From https://stackoverflow.com/questions/47222585/matplotlib-generic-colormap-from-tab10\n",
    "        \"\"\"\n",
    "        cols = PhoColors.categorical_subdivide_colors(ccolors, nc, nsc)\n",
    "        cmap = matplotlib.colors.ListedColormap(cols)\n",
    "        return cmap\n",
    "\n",
    "\n",
    "    \n",
    "    \n",
    "def get_neuron_colors(sort_indicies, cmap=\"tab20b\"):\n",
    "    # returns the list of colors, an RGBA np.array of shape: 4 x n_neurons. \n",
    "    cmap = mpl.cm.get_cmap(cmap)\n",
    "    n_neurons = len(sort_indicies)\n",
    "    colors_array = np.zeros((4, n_neurons))\n",
    "    for i, neuron_ind in enumerate(sort_indicies):\n",
    "        colors_array[:, i] = cmap(i / len(sort_indicies))\n",
    "    return colors_array\n",
    "\n",
    "\n",
    "\n",
    "def build_units_colormap(neuron_ids):\n",
    "    \"\"\"\n",
    "    \n",
    "    Example:\n",
    "        good_placefield_neuronIDs = np.array([ 2,  3,  4,  5,  7,  8,  9, 10, 11, 12, 14, 17, 18, 21, 22, 23, 24, 25, 26, 27, 28, 29, 33, 34, 38, 39, 42, 44, 45, 46, 47, 48, 53, 55, 57, 58, 61, 62, 63, 64])\n",
    "        pf_sort_ind, pf_colors, pf_colormap, pf_listed_colormap = build_units_colormap(good_placefield_neuronIDs)\n",
    "        \n",
    "        ## OUTPUT:\n",
    "        pf_sort_ind \n",
    "            array([ 0,  1,  2,  3,  4,  5,  6,  7,  8,  9, 10, 11, 12, 13, 14, 15, 16, 17, 18, 19, 20, 21, 22, 23, 24, 25, 26, 27, 28, 29, 30, 31, 32, 33, 34, 35, 36, 37, 38, 39])\n",
    "        pf_colors \n",
    "            array([[0.224, 0.224, 0.322, 0.322, 0.42, 0.42, 0.612, 0.612, 0.388, 0.388, 0.549, 0.549, 0.71, 0.71, 0.808, 0.808, 0.549, 0.549, 0.741, 0.741, 0.906, 0.906, 0.906, 0.906, 0.518, 0.518, 0.678, 0.678, 0.839, 0.839, 0.906, 0.906, 0.482, 0.482, 0.647, 0.647, 0.808, 0.808, 0.871, 0.871],\n",
    "           [0.231, 0.231, 0.329, 0.329, 0.431, 0.431, 0.62, 0.62, 0.475, 0.475, 0.635, 0.635, 0.812, 0.812, 0.859, 0.859, 0.427, 0.427, 0.62, 0.62, 0.729, 0.729, 0.796, 0.796, 0.235, 0.235, 0.286, 0.286, 0.38, 0.38, 0.588, 0.588, 0.255, 0.255, 0.318, 0.318, 0.427, 0.427, 0.62, 0.62],\n",
    "           [0.475, 0.475, 0.639, 0.639, 0.812, 0.812, 0.871, 0.871, 0.224, 0.224, 0.322, 0.322, 0.42, 0.42, 0.612, 0.612, 0.192, 0.192, 0.224, 0.224, 0.322, 0.322, 0.58, 0.58, 0.224, 0.224, 0.29, 0.29, 0.42, 0.42, 0.612, 0.612, 0.451, 0.451, 0.58, 0.58, 0.741, 0.741, 0.839, 0.839],\n",
    "           [1, 1, 1, 1, 1, 1, 1, 1, 1, 1, 1, 1, 1, 1, 1, 1, 1, 1, 1, 1, 1, 1, 1, 1, 1, 1, 1, 1, 1, 1, 1, 1, 1, 1, 1, 1, 1, 1, 1, 1]])\n",
    "\n",
    "\n",
    "    \"\"\"\n",
    "    pf_sort_ind = np.array([int(i) for i in np.arange(len(neuron_ids))]) # convert to integer scalar array\n",
    "    pf_colors = get_neuron_colors(pf_sort_ind) # [4 x n_neurons]: colors are by ascending index ID\n",
    "    pf_colormap = pf_colors.T # [n_neurons x 4] Make the colormap from the listed colors, used seemingly only by 'runAnalysis_PCAandICA(...)'\n",
    "    pf_listed_colormap = ListedColormap(pf_colormap)\n",
    "    return pf_sort_ind, pf_colors, pf_colormap, pf_listed_colormap"
   ]
  },
  {
   "cell_type": "code",
   "execution_count": 12,
   "id": "ec0bbb6e-eaad-4c8a-9bf8-64a84930a0bd",
   "metadata": {},
   "outputs": [],
   "source": [
    "good_placefield_neuronIDs = np.array([ 2,  3,  4,  5,  7,  8,  9, 10, 11, 12, 14, 17, 18, 21, 22, 23, 24, 25, 26, 27, 28, 29, 33, 34, 38, 39, 42, 44, 45, 46, 47, 48, 53, 55, 57, 58, 61, 62, 63, 64])\n",
    "pf_sort_ind, pf_colors, pf_colormap, pf_listed_colormap = build_units_colormap(good_placefield_neuronIDs)"
   ]
  },
  {
   "cell_type": "code",
   "execution_count": 14,
   "id": "02bb5648-97d7-4252-b08f-8b89a2d7e073",
   "metadata": {},
   "outputs": [
    {
     "data": {
      "text/plain": [
       "array([ 0,  1,  2,  3,  4,  5,  6,  7,  8,  9, 10, 11, 12, 13, 14, 15, 16, 17, 18, 19, 20, 21, 22, 23, 24, 25, 26, 27, 28, 29, 30, 31, 32, 33, 34, 35, 36, 37, 38, 39])"
      ]
     },
     "execution_count": 14,
     "metadata": {},
     "output_type": "execute_result"
    }
   ],
   "source": [
    "pf_sort_ind # array([ 0,  1,  2,  3,  4,  5,  6,  7,  8,  9, 10, 11, 12, 13, 14, 15, 16, 17, 18, 19, 20, 21, 22, 23, 24, 25, 26, 27, 28, 29, 30, 31, 32, 33, 34, 35, 36, 37, 38, 39])"
   ]
  },
  {
   "cell_type": "code",
   "execution_count": 13,
   "id": "016e31fd-f5dd-4c4e-97a0-a539b45572d7",
   "metadata": {},
   "outputs": [],
   "source": [
    "pf_colors"
   ]
  },
  {
   "cell_type": "code",
   "execution_count": 17,
   "id": "99470612-cdfc-4137-a3cc-60f4fdb6fcbc",
   "metadata": {},
   "outputs": [],
   "source": [
    "sns.color_palette('magma', n_colors=40)"
   ]
  },
  {
   "cell_type": "code",
   "execution_count": 24,
   "id": "d643747b-b8ae-4a40-9124-009c6071e722",
   "metadata": {},
   "outputs": [],
   "source": [
    "sns.color_palette('tab20b', as_cmap=True)\n",
    "# n_colors=40, "
   ]
  },
  {
   "cell_type": "code",
   "execution_count": 57,
   "id": "3eea600f-b23b-43d4-80db-b3b333c34458",
   "metadata": {},
   "outputs": [
    {
     "data": {
      "image/png": "[encoded data removed]",
      "text/html": [
       "<div style=\"vertical-align: middle;\"><strong>tab10</strong> </div><div class=\"cmap\"><img alt=\"tab10 colormap\" title=\"tab10\" style=\"border: 1px solid #555;\" src=\"data:image/png;base64,iVBORw0KGgoAAAANSUhEUgAAAgAAAABACAYAAABsv8+/AAAAFHRFWHRUaXRsZQB0YWIxMCBjb2xvcm1hcFeJcQsAAAAadEVYdERlc2NyaXB0aW9uAHRhYjEwIGNvbG9ybWFwqdbY7QAAADB0RVh0QXV0aG9yAE1hdHBsb3RsaWIgdjMuNC4zLCBodHRwczovL21hdHBsb3RsaWIub3JnCV3z0wAAADJ0RVh0U29mdHdhcmUATWF0cGxvdGxpYiB2My40LjMsIGh0dHBzOi8vbWF0cGxvdGxpYi5vcmcn+2z0AAABeklEQVR4nO3WsS0EcBxAYae6KcgNYARiCwmD3AjX6a67TifRaZnFBlqFhCX+8Uu875vglW9zuX/9OftHPrb30wnLXO0uphOWeT58Tycs8357nE5Y5uvzcTphmbvdfjphmdP2bTphmeubp+mEZR42L9MJS51PBwAAf88AAECQAQCAIAMAAEEGAACCDAAABBkAAAgyAAAQZAAAIMgAAECQAQCAIAMAAEEGAACCDAAABBkAAAgyAAAQZAAAIMgAAECQAQCAIAMAAEEGAACCDAAABBkAAAgyAAAQZAAAIMgAAECQAQCAIAMAAEEGAACCDAAABBkAAAgyAAAQZAAAIMgAAECQAQCAIAMAAEEGAACCDAAABBkAAAgyAAAQZAAAIMgAAECQAQCAIAMAAEEGAACCDAAABBkAAAgyAAAQZAAAIMgAAECQAQCAIAMAAEEGAACCDAAABBkAAAgyAAAQZAAAIMgAAECQAQCAIAMAAEEGAACCDAAABBkAAAj6BcEgDyNmiQL1AAAAAElFTkSuQmCC\"></div><div style=\"vertical-align: middle; max-width: 514px; display: flex; justify-content: space-between;\"><div style=\"float: left;\"><div title=\"#1f77b4ff\" style=\"display: inline-block; width: 1em; height: 1em; margin: 0; vertical-align: middle; border: 1px solid #555; background-color: #1f77b4ff;\"></div> under</div><div style=\"margin: 0 auto; display: inline-block;\">bad <div title=\"#00000000\" style=\"display: inline-block; width: 1em; height: 1em; margin: 0; vertical-align: middle; border: 1px solid #555; background-color: #00000000;\"></div></div><div style=\"float: right;\">over <div title=\"#17becfff\" style=\"display: inline-block; width: 1em; height: 1em; margin: 0; vertical-align: middle; border: 1px solid #555; background-color: #17becfff;\"></div></div>"
      ],
      "text/plain": [
       "<matplotlib.colors.ListedColormap at 0x28bedbda220>"
      ]
     },
     "execution_count": 57,
     "metadata": {},
     "output_type": "execute_result"
    }
   ],
   "source": [
    "cmap = mpl.cm.get_cmap('tab10')\n",
    "cmap"
   ]
  },
  {
   "cell_type": "code",
   "execution_count": 127,
   "id": "48a4c5cd-cf9b-4a10-8f58-4782fddc625f",
   "metadata": {},
   "outputs": [
    {
     "data": {
      "image/png": "[encoded data removed]",
      "text/html": [
       "<div style=\"vertical-align: middle;\"><strong>from_list</strong> </div><div class=\"cmap\"><img alt=\"from_list colormap\" title=\"from_list\" style=\"border: 1px solid #555;\" src=\"data:image/png;base64,iVBORw0KGgoAAAANSUhEUgAAAgAAAABACAYAAABsv8+/AAAAGHRFWHRUaXRsZQBmcm9tX2xpc3QgY29sb3JtYXBDL89FAAAAHnRFWHREZXNjcmlwdGlvbgBmcm9tX2xpc3QgY29sb3JtYXABtCnOAAAAMHRFWHRBdXRob3IATWF0cGxvdGxpYiB2My40LjMsIGh0dHBzOi8vbWF0cGxvdGxpYi5vcmcJXfPTAAAAMnRFWHRTb2Z0d2FyZQBNYXRwbG90bGliIHYzLjQuMywgaHR0cHM6Ly9tYXRwbG90bGliLm9yZyf7bPQAAAIbSURBVHic7da9atNxHMXh6lV0EkIKUlzaSdvRS0g7FV9wtx0UCsWCCG0jDg5mFBcrLpY4CU7O0sUuUgdDCi65C72GM8p5nvl3+EL+Qz7X7mwe/F0Kjccn6WRpMvkQb3Yf34s3Z9OL6P321lp8Yzabx5vhcBBvTr9uRO/HJ+P8xukk3jy6vxtvvl+cxZuNte3o/dXvWXxjuDKMN2/3nsSbp4evo/ffvhzEN+6O8u+/OM+///J6/v0XVz+zGzduxTeOt/Lf7Nlx/ptNX76K3o/29+Mbl+8/xZvVBzvxZnH5K94sr96M3h+++BzfOHp+FG8+vnkXb3b2Hkbvf0zP4xvro9vxZj7/E28Gg/w/5nq8AAD+ewIAAAoJAAAoJAAAoJAAAIBCAgAACgkAACgkAACgkAAAgEICAAAKCQAAKCQAAKCQAACAQgIAAAoJAAAoJAAAoJAAAIBCAgAACgkAACgkAACgkAAAgEICAAAKCQAAKCQAAKCQAACAQgIAAAoJAAAoJAAAoJAAAIBCAgAACgkAACgkAACgkAAAgEICAAAKCQAAKCQAAKCQAACAQgIAAAoJAAAoJAAAoJAAAIBCAgAACgkAACgkAACgkAAAgEICAAAKCQAAKCQAAKCQAACAQgIAAAoJAAAoJAAAoJAAAIBCAgAACgkAACgkAACgkAAAgEICAAAKCQAAKCQAAKCQAACAQgIAAAoJAAAo9A8kVz00nrhnwAAAAABJRU5ErkJggg==\"></div><div style=\"vertical-align: middle; max-width: 514px; display: flex; justify-content: space-between;\"><div style=\"float: left;\"><div title=\"#393b79ff\" style=\"display: inline-block; width: 1em; height: 1em; margin: 0; vertical-align: middle; border: 1px solid #555; background-color: #393b79ff;\"></div> under</div><div style=\"margin: 0 auto; display: inline-block;\">bad <div title=\"#00000000\" style=\"display: inline-block; width: 1em; height: 1em; margin: 0; vertical-align: middle; border: 1px solid #555; background-color: #00000000;\"></div></div><div style=\"float: right;\">over <div title=\"#ffbff7ff\" style=\"display: inline-block; width: 1em; height: 1em; margin: 0; vertical-align: middle; border: 1px solid #555; background-color: #ffbff7ff;\"></div></div>"
      ],
      "text/plain": [
       "<matplotlib.colors.ListedColormap at 0x28bf15211c0>"
      ]
     },
     "execution_count": 127,
     "metadata": {},
     "output_type": "execute_result"
    }
   ],
   "source": [
    "\n",
    "\n",
    "\n",
    "active_cmap_name = 'tab20b'\n",
    "# active_cmap_name = 'tab10'\n",
    "n_colors = 40\n",
    "# max_num_hue_repeats = 3\n",
    "\n",
    "base_colormap_n_colors = 20 # for 'tab20b'\n",
    "needed_single_hue_variations = int(np.ceil(n_colors / base_colormap_n_colors)) # for n_colors = 40, needed_repeats = 2\n",
    "\n",
    "\n",
    "categorical_cmap(base_colormap_n_colors, needed_single_hue_variations, cmap=active_cmap_name, continuous=False)\n",
    "# categorical_cmap(10, 3, cmap='tab10', continuous=True)"
   ]
  },
  {
   "cell_type": "code",
   "execution_count": 190,
   "id": "b13fe10f-b36b-4f4b-b9b5-455f8bcc4d00",
   "metadata": {},
   "outputs": [
    {
     "data": {
      "image/png": "[encoded data removed]",
      "text/html": [
       "<div style=\"vertical-align: middle;\"><strong>from_list</strong> </div><div class=\"cmap\"><img alt=\"from_list colormap\" title=\"from_list\" style=\"border: 1px solid #555;\" src=\"data:image/png;base64,iVBORw0KGgoAAAANSUhEUgAAAgAAAABACAYAAABsv8+/AAAAGHRFWHRUaXRsZQBmcm9tX2xpc3QgY29sb3JtYXBDL89FAAAAHnRFWHREZXNjcmlwdGlvbgBmcm9tX2xpc3QgY29sb3JtYXABtCnOAAAAMHRFWHRBdXRob3IATWF0cGxvdGxpYiB2My40LjMsIGh0dHBzOi8vbWF0cGxvdGxpYi5vcmcJXfPTAAAAMnRFWHRTb2Z0d2FyZQBNYXRwbG90bGliIHYzLjQuMywgaHR0cHM6Ly9tYXRwbG90bGliLm9yZyf7bPQAAAFhSURBVHic7dYxjoFhAABRFKLYVucAKr1Ete1ey+00KhL3EImGGyj3+2XeO8GUMz8e9q8ZH+0259EJk3dbb0cnTN71ZzU6YfIuj7/RCd/hdB9dMGm/y+fohK+wGB0AAPw/AwAAQQYAAIIMAAAEGQAACDIAABBkAAAgyAAAQJABAIAgAwAAQQYAAIIMAAAEGQAACDIAABBkAAAgyAAAQJABAIAgAwAAQQYAAIIMAAAEGQAACDIAABBkAAAgyAAAQJABAIAgAwAAQQYAAIIMAAAEGQAACDIAABBkAAAgyAAAQJABAIAgAwAAQQYAAIIMAAAEGQAACDIAABBkAAAgyAAAQJABAIAgAwAAQQYAAIIMAAAEGQAACDIAABBkAAAgyAAAQJABAIAgAwAAQQYAAIIMAAAEGQAACDIAABBkAAAgyAAAQJABAIAgAwAAQQYAAIIMAAAEGQAACDIAABBkAAAg6A2vHAquV5aOKwAAAABJRU5ErkJggg==\"></div><div style=\"vertical-align: middle; max-width: 514px; display: flex; justify-content: space-between;\"><div style=\"float: left;\"><div title=\"#843c39ff\" style=\"display: inline-block; width: 1em; height: 1em; margin: 0; vertical-align: middle; border: 1px solid #555; background-color: #843c39ff;\"></div> under</div><div style=\"margin: 0 auto; display: inline-block;\">bad <div title=\"#00000000\" style=\"display: inline-block; width: 1em; height: 1em; margin: 0; vertical-align: middle; border: 1px solid #555; background-color: #00000000;\"></div></div><div style=\"float: right;\">over <div title=\"#7b4173ff\" style=\"display: inline-block; width: 1em; height: 1em; margin: 0; vertical-align: middle; border: 1px solid #555; background-color: #7b4173ff;\"></div></div>"
      ],
      "text/plain": [
       "<matplotlib.colors.ListedColormap at 0x28bf26cd670>"
      ]
     },
     "execution_count": 190,
     "metadata": {},
     "output_type": "execute_result"
    }
   ],
   "source": [
    "# Pho Custom colormap\n",
    "# tab20b_main_colors_hex = ['#393b79', '#637939', '#8c6d31', '#843c39', '#7b4173']\n",
    "# tab20b_main_colors_hex = ['#843c39', '#8c6d31', '#637939', '#393b79', '#7b4173'] # sorted\n",
    "    \n",
    "# orange: '#b25809'\n",
    "\n",
    "# PhoColors.colors.active_rgb_colors\n",
    "# active_rgba_colors = to_rgba_array(PhoColors.Colors.extended_tab20b_main_colors_hex()) # np.shape(tab20b_main_rgba_colors) # (5, 4)\n",
    "# active_rgb_colors = active_rgba_colors[:,:-1] # np.shape(tab20b_main_rgb_colors) # (5, 3)\n",
    "\n",
    "base_cmap = matplotlib.colors.ListedColormap(PhoColors.colors.active_rgba_colors)\n",
    "# print(f'base_cmap.N: {base_cmap.N}')\n",
    "# print(base_cmap)\n",
    "base_cmap"
   ]
  },
  {
   "cell_type": "code",
   "execution_count": 188,
   "id": "2e45e29d-70c5-46f8-bd11-4d59cdf628fd",
   "metadata": {},
   "outputs": [
    {
     "name": "stdout",
     "output_type": "stream",
     "text": [
      "colors_shape: (7, 4)\n",
      "needed_single_hue_variations: 6, base_colormap_n_colors: 7, n_needed_colors: 40\n"
     ]
    },
    {
     "data": {
      "image/png": "[encoded data removed]",
      "text/html": [
       "<div style=\"vertical-align: middle;\"><strong>from_list</strong> </div><div class=\"cmap\"><img alt=\"from_list colormap\" title=\"from_list\" style=\"border: 1px solid #555;\" src=\"data:image/png;base64,iVBORw0KGgoAAAANSUhEUgAAAgAAAABACAYAAABsv8+/AAAAGHRFWHRUaXRsZQBmcm9tX2xpc3QgY29sb3JtYXBDL89FAAAAHnRFWHREZXNjcmlwdGlvbgBmcm9tX2xpc3QgY29sb3JtYXABtCnOAAAAMHRFWHRBdXRob3IATWF0cGxvdGxpYiB2My40LjMsIGh0dHBzOi8vbWF0cGxvdGxpYi5vcmcJXfPTAAAAMnRFWHRTb2Z0d2FyZQBNYXRwbG90bGliIHYzLjQuMywgaHR0cHM6Ly9tYXRwbG90bGliLm9yZyf7bPQAAAIBSURBVHic7daxjRNRGIXRHxpYAmyPZ2zLliAgICegAiREETSAIFoSElKkzbaQTUmpC2q4IbrnxNdP8vOM9T37+f7d3wktL3fR/rgs2fnblp1/uWT76y3aPz1+iPYzM3f77DvcLddo/2J9nZ1/fpOdf30b7X89fI32MzOHffYcHQ7Zc3Q4nrP9es32p1fR/vPDfbSfmTmu2R2tW3ZHW/iunbbsXTtv2bv26cufaD8zs0v/X5ZjtN/W7PzLmp1/C/czM/cfv0f73X6N9suSPRfbmu0vl2x/u2X73z++RfuZmXWX3dF6yPbbMTz/FP4G4Z3OzDyPPwEA/PcEAAAUEgAAUEgAAEAhAQAAhQQAABQSAABQSAAAQCEBAACFBAAAFBIAAFBIAABAIQEAAIUEAAAUEgAAUEgAAEAhAQAAhQQAABQSAABQSAAAQCEBAACFBAAAFBIAAFBIAABAIQEAAIUEAAAUEgAAUEgAAEAhAQAAhQQAABQSAABQSAAAQCEBAACFBAAAFBIAAFBIAABAIQEAAIUEAAAUEgAAUEgAAEAhAQAAhQQAABQSAABQSAAAQCEBAACFBAAAFBIAAFBIAABAIQEAAIUEAAAUEgAAUEgAAEAhAQAAhQQAABQSAABQSAAAQCEBAACFBAAAFBIAAFBIAABAIQEAAIUEAAAUEgAAUOgfyQEWM/ne87UAAAAASUVORK5CYII=\"></div><div style=\"vertical-align: middle; max-width: 514px; display: flex; justify-content: space-between;\"><div style=\"float: left;\"><div title=\"#843c39ff\" style=\"display: inline-block; width: 1em; height: 1em; margin: 0; vertical-align: middle; border: 1px solid #555; background-color: #843c39ff;\"></div> under</div><div style=\"margin: 0 auto; display: inline-block;\">bad <div title=\"#00000000\" style=\"display: inline-block; width: 1em; height: 1em; margin: 0; vertical-align: middle; border: 1px solid #555; background-color: #00000000;\"></div></div><div style=\"float: right;\">over <div title=\"#ffbff6ff\" style=\"display: inline-block; width: 1em; height: 1em; margin: 0; vertical-align: middle; border: 1px solid #555; background-color: #ffbff6ff;\"></div></div>"
      ],
      "text/plain": [
       "<matplotlib.colors.ListedColormap at 0x28bf2bd3880>"
      ]
     },
     "execution_count": 188,
     "metadata": {},
     "output_type": "execute_result"
    }
   ],
   "source": [
    "# n_colors = 40\n",
    "# base_colormap_n_colors = base_cmap.N # for 'tab20b'\n",
    "# needed_single_hue_variations = int(np.ceil(n_colors / base_colormap_n_colors)) # for n_colors = 40, needed_repeats = 2\n",
    "# print(f'needed_single_hue_variations: {needed_single_hue_variations}, base_colormap_n_colors: {base_colormap_n_colors}, n_colors: {n_colors}')\n",
    "\n",
    "\n",
    "# # cmap = categorical_cmap(base_colormap_n_colors, needed_single_hue_variations, cmap=cmap, continuous=False)\n",
    "# cmap = categorical_cmap_from_colors(base_colormap_n_colors, needed_single_hue_variations, ccolors=tab20b_main_rgb_colors)\n",
    "# cmap\n",
    "\n",
    "PhoColors.pho_categorical_colormap(40, PhoColors.colors.active_rgba_colors)"
   ]
  },
  {
   "cell_type": "code",
   "execution_count": 103,
   "id": "1186c348-ad15-4ef1-8692-f8cb8268e39b",
   "metadata": {},
   "outputs": [
    {
     "data": {
      "image/png": "[encoded data removed]",
      "text/html": [
       "<div style=\"vertical-align: middle;\"><strong>CustomMap</strong> </div><div class=\"cmap\"><img alt=\"CustomMap colormap\" title=\"CustomMap\" style=\"border: 1px solid #555;\" src=\"data:image/png;base64,iVBORw0KGgoAAAANSUhEUgAAAgAAAABACAYAAABsv8+/AAAAGHRFWHRUaXRsZQBDdXN0b21NYXAgY29sb3JtYXA7Eq9pAAAAHnRFWHREZXNjcmlwdGlvbgBDdXN0b21NYXAgY29sb3JtYXB5iUniAAAAMHRFWHRBdXRob3IATWF0cGxvdGxpYiB2My40LjMsIGh0dHBzOi8vbWF0cGxvdGxpYi5vcmcJXfPTAAAAMnRFWHRTb2Z0d2FyZQBNYXRwbG90bGliIHYzLjQuMywgaHR0cHM6Ly9tYXRwbG90bGliLm9yZyf7bPQAAAFPSURBVHic7daxiQIAEADB08hW3g5EsK/nmxMEU5v5wEzLuGBnKthwDzPzmZm5XH+HnvPtvp3Aop//93YCi96v03YCC/4ez5mZOS53AAALDAAABBkAAAgyAAAQZAAAIMgAAECQAQCAIAMAAEEGAACCDAAABBkAAAgyAAAQZAAAIMgAAECQAQCAIAMAAEEGAACCDAAABBkAAAgyAAAQZAAAIMgAAECQAQCAIAMAAEEGAACCDAAABBkAAAgyAAAQZAAAIMgAAECQAQCAIAMAAEEGAACCDAAABBkAAAgyAAAQZAAAIMgAAECQAQCAIAMAAEEGAACCDAAABBkAAAgyAAAQZAAAIMgAAECQAQCAIAMAAEEGAACCDAAABBkAAAgyAAAQZAAAIMgAAECQAQCAIAMAAEEGAACCDAAABBkAAAgyAAAQZAAAIMgAAECQAQCAoC+4Gwl8w0X8JgAAAABJRU5ErkJggg==\"></div><div style=\"vertical-align: middle; max-width: 514px; display: flex; justify-content: space-between;\"><div style=\"float: left;\"><div title=\"#000000ff\" style=\"display: inline-block; width: 1em; height: 1em; margin: 0; vertical-align: middle; border: 1px solid #555; background-color: #000000ff;\"></div> under</div><div style=\"margin: 0 auto; display: inline-block;\">bad <div title=\"#00000000\" style=\"display: inline-block; width: 1em; height: 1em; margin: 0; vertical-align: middle; border: 1px solid #555; background-color: #00000000;\"></div></div><div style=\"float: right;\">over <div title=\"#ffffffff\" style=\"display: inline-block; width: 1em; height: 1em; margin: 0; vertical-align: middle; border: 1px solid #555; background-color: #ffffffff;\"></div></div>"
      ],
      "text/plain": [
       "<matplotlib.colors.LinearSegmentedColormap at 0x28bf18c7cd0>"
      ]
     },
     "execution_count": 103,
     "metadata": {},
     "output_type": "execute_result"
    }
   ],
   "source": [
    "def totuple(a):\n",
    "    try:\n",
    "        return tuple(totuple(i) for i in a)\n",
    "    except TypeError:\n",
    "        return a\n",
    "\n",
    "def make_colormap(seq):\n",
    "    \"\"\"Return a LinearSegmentedColormap\n",
    "    seq: a sequence of floats and RGB-tuples. The floats should be increasing\n",
    "    and in the interval (0,1).\n",
    "    \"\"\"\n",
    "    seq = [(None,) * 3, 0.0] + list(seq) + [1.0, (None,) * 3]\n",
    "    cdict = {'red': [], 'green': [], 'blue': []}\n",
    "    for i, item in enumerate(seq):\n",
    "        if isinstance(item, float):\n",
    "            r1, g1, b1 = seq[i - 1]\n",
    "            r2, g2, b2 = seq[i + 1]\n",
    "            cdict['red'].append([item, r1, r2])\n",
    "            cdict['green'].append([item, g1, g2])\n",
    "            cdict['blue'].append([item, b1, b2])\n",
    "    return LinearSegmentedColormap('CustomMap', cdict)\n",
    "\n",
    "\n",
    "curr_main_color_span_range = np.linspace(0.0, 1.0, len(tab20b_main_rgb_colors)) # array([0, 0.25, 0.5, 0.75, 1])\n",
    "# tab20b_main_colors\n",
    "c = ColorConverter().to_rgb\n",
    "# rvb = make_colormap(\n",
    "#     [c('red'), c('violet'), 0.33, c('violet'), c('blue'), 0.66, c('blue')])\n",
    "\n",
    "rvb = make_colormap(\n",
    "    # [c('red'), c('violet'), 0.33, c('violet'), c('blue'), 0.66, c('blue')]\n",
    "    # totuple(tab20b_main_rgb_colors)\n",
    "    [(0, 0, 0), curr_main_color_span_range[0],\n",
    "    (0.2235294117647059, 0.23137254901960785, 0.4745098039215686), curr_main_color_span_range[1], \n",
    "     (0.38823529411764707, 0.4745098039215686, 0.2235294117647059), curr_main_color_span_range[2], \n",
    "     (0.5490196078431373, 0.42745098039215684, 0.19215686274509805), curr_main_color_span_range[3], \n",
    "     (0.5176470588235295, 0.23529411764705882, 0.2235294117647059), curr_main_color_span_range[4], \n",
    "     (0.4823529411764706, 0.2549019607843137, 0.45098039215686275), 1.0,\n",
    "     (1.0, 1.0, 1.0)\n",
    "    ]\n",
    ")\n",
    "rvb\n",
    "# c('red') # (1.0, 0., 0.)\n"
   ]
  }
 ],
 "metadata": {
  "kernelspec": {
   "display_name": "Python 3 (ipykernel)",
   "language": "python",
   "name": "python3"
  },
  "language_info": {
   "codemirror_mode": {
    "name": "ipython",
    "version": 3
   },
   "file_extension": ".py",
   "mimetype": "text/x-python",
   "name": "python",
   "nbconvert_exporter": "python",
   "pygments_lexer": "ipython3",
   "version": "3.9.7"
  }
 },
 "nbformat": 4,
 "nbformat_minor": 5
}
