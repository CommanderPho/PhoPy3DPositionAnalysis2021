{
 "cells": [
  {
   "cell_type": "code",
   "execution_count": 3,
   "id": "0056bc66-7629-4ef7-8c87-f28f8fcd9dc8",
   "metadata": {
    "autorun": true,
    "notebookRunGroups": {
     "groupValue": "1"
    },
    "tags": [
     "imports",
     "REQUIRED",
     "ACTIVE"
    ]
   },
   "outputs": [
    {
     "name": "stdout",
     "output_type": "stream",
     "text": [
      "Automatic pdb calling has been turned OFF\n"
     ]
    }
   ],
   "source": [
    "%config IPCompleter.use_jedi = False\n",
    "%pdb off\n",
    "%load_ext autoreload\n",
    "%autoreload 3\n",
    "import sys\n",
    "from copy import deepcopy\n",
    "from typing import List, Dict, Optional, Union, Callable\n",
    "from pathlib import Path\n",
    "import pathlib\n",
    "import numpy as np\n",
    "import pandas as pd\n",
    "import tables as tb\n",
    "from copy import deepcopy\n",
    "from datetime import datetime, timedelta\n",
    "from attrs import define, field, Factory\n",
    "\n",
    "# required to enable non-blocking interaction:\n",
    "%gui qt5\n",
    "\n",
    "## Pho's Custom Libraries:\n",
    "from pyphocorehelpers.Filesystem.path_helpers import find_first_extant_path\n",
    "from pyphocorehelpers.function_helpers import function_attributes\n",
    "from pyphocorehelpers.print_helpers import CapturedException\n",
    "\n",
    "# Jupyter interactivity:\n",
    "import ipywidgets as widgets\n",
    "from IPython.display import display\n",
    "from pyphocorehelpers.gui.Jupyter.JupyterButtonRowWidget import JupyterButtonRowWidget\n",
    "\n",
    "# pyPhoPlaceCellAnalysis:\n",
    "# NeuroPy (Diba Lab Python Repo) Loading\n",
    "from neuropy.core.session.Formats.BaseDataSessionFormats import DataSessionFormatRegistryHolder\n",
    "from neuropy.core.session.Formats.Specific.BapunDataSessionFormat import BapunDataSessionFormatRegisteredClass\n",
    "from neuropy.core.session.Formats.Specific.KDibaOldDataSessionFormat import KDibaOldDataSessionFormatRegisteredClass\n",
    "from neuropy.core.session.Formats.Specific.RachelDataSessionFormat import RachelDataSessionFormat\n",
    "from neuropy.core.session.Formats.Specific.HiroDataSessionFormat import HiroDataSessionFormatRegisteredClass\n",
    "from neuropy.utils.matplotlib_helpers import matplotlib_configuration_update\n",
    "\n",
    "## For computation parameters:\n",
    "from neuropy.utils.result_context import IdentifyingContext\n",
    "from neuropy.core.session.Formats.BaseDataSessionFormats import find_local_session_paths\n",
    "from neuropy.core import Epoch\n",
    "\n",
    "from pyphoplacecellanalysis.General.Pipeline.Stages.Loading import saveData, loadData\n",
    "import pyphoplacecellanalysis.General.Batch.runBatch\n",
    "from pyphoplacecellanalysis.General.Batch.runBatch import BatchRun, BatchResultDataframeAccessor, run_diba_batch, BatchComputationProcessOptions, BatchSessionCompletionHandler, SavingOptions\n",
    "from pyphoplacecellanalysis.General.Pipeline.NeuropyPipeline import PipelineSavingScheme\n",
    "\n",
    "from neuropy.core.user_annotations import UserAnnotationsManager\n",
    "from pyphoplacecellanalysis.General.Batch.runBatch import SessionBatchProgress\n",
    "from pyphoplacecellanalysis.General.Batch.AcrossSessionResults import AcrossSessionsResults, AcrossSessionsVisualizations\n",
    "\n",
    "from pyphocorehelpers.Filesystem.path_helpers import set_posix_windows\n",
    "\n",
    "from pyphocorehelpers.print_helpers import CapturedException\n",
    "from pyphoplacecellanalysis.General.Batch.AcrossSessionResults import InstantaneousFiringRatesDataframeAccessor\n",
    "from pyphoplacecellanalysis.General.Batch.runBatch import PipelineCompletionResult\n",
    "from pyphoplacecellanalysis.General.Batch.runBatch import BatchSessionCompletionHandler\n",
    "\n",
    "BATCH_DATE_TO_USE = '2023-10-03' # used for filenames throught the notebook"
   ]
  },
  {
   "cell_type": "code",
   "execution_count": 4,
   "id": "8ef5938c",
   "metadata": {
    "notebookRunGroups": {
     "groupValue": "1"
    },
    "tags": []
   },
   "outputs": [
    {
     "name": "stdout",
     "output_type": "stream",
     "text": [
      "Loading loaded session pickle file results : W:\\Data\\global_batch_result_2023-10-03.pkl... done.\n",
      "no difference between provided and internal paths.\n"
     ]
    },
    {
     "data": {
      "text/html": [
       "<div>\n",
       "<style scoped>\n",
       "    .dataframe tbody tr th:only-of-type {\n",
       "        vertical-align: middle;\n",
       "    }\n",
       "\n",
       "    .dataframe tbody tr th {\n",
       "        vertical-align: top;\n",
       "    }\n",
       "\n",
       "    .dataframe thead th {\n",
       "        text-align: right;\n",
       "    }\n",
       "</style>\n",
       "<table border=\"1\" class=\"dataframe\">\n",
       "  <thead>\n",
       "    <tr style=\"text-align: right;\">\n",
       "      <th></th>\n",
       "      <th>format_name</th>\n",
       "      <th>animal</th>\n",
       "      <th>exper_name</th>\n",
       "      <th>session_name</th>\n",
       "      <th>context</th>\n",
       "      <th>basedirs</th>\n",
       "      <th>status</th>\n",
       "      <th>errors</th>\n",
       "      <th>session_datetime</th>\n",
       "      <th>n_long_laps</th>\n",
       "      <th>n_long_replays</th>\n",
       "      <th>n_short_laps</th>\n",
       "      <th>n_short_replays</th>\n",
       "      <th>is_ready</th>\n",
       "      <th>global_computation_result_file</th>\n",
       "      <th>loaded_session_pickle_file</th>\n",
       "      <th>ripple_result_file</th>\n",
       "      <th>has_user_replay_annotations</th>\n",
       "      <th>has_user_grid_bin_bounds_annotations</th>\n",
       "    </tr>\n",
       "  </thead>\n",
       "  <tbody>\n",
       "    <tr>\n",
       "      <th>0</th>\n",
       "      <td>kdiba</td>\n",
       "      <td>gor01</td>\n",
       "      <td>one</td>\n",
       "      <td>2006-6-07_11-26-53</td>\n",
       "      <td>kdiba_gor01_one_2006-6-07_11-26-53</td>\n",
       "      <td>W:\\Data\\KDIBA\\gor01\\one\\2006-6-07_11-26-53</td>\n",
       "      <td>SessionBatchProgress.NOT_STARTED</td>\n",
       "      <td>None</td>\n",
       "      <td>2006-06-07 11:26:53</td>\n",
       "      <td>0</td>\n",
       "      <td>0</td>\n",
       "      <td>0</td>\n",
       "      <td>0</td>\n",
       "      <td>False</td>\n",
       "      <td>W:\\Data\\KDIBA\\gor01\\one\\2006-6-07_11-26-53\\out...</td>\n",
       "      <td>W:\\Data\\KDIBA\\gor01\\one\\2006-6-07_11-26-53\\loa...</td>\n",
       "      <td>W:\\Data\\KDIBA\\gor01\\one\\2006-6-07_11-26-53\\rip...</td>\n",
       "      <td>False</td>\n",
       "      <td>True</td>\n",
       "    </tr>\n",
       "    <tr>\n",
       "      <th>1</th>\n",
       "      <td>kdiba</td>\n",
       "      <td>gor01</td>\n",
       "      <td>one</td>\n",
       "      <td>2006-6-08_14-26-15</td>\n",
       "      <td>kdiba_gor01_one_2006-6-08_14-26-15</td>\n",
       "      <td>W:\\Data\\KDIBA\\gor01\\one\\2006-6-08_14-26-15</td>\n",
       "      <td>SessionBatchProgress.NOT_STARTED</td>\n",
       "      <td>None</td>\n",
       "      <td>2006-06-08 14:26:15</td>\n",
       "      <td>0</td>\n",
       "      <td>0</td>\n",
       "      <td>0</td>\n",
       "      <td>0</td>\n",
       "      <td>False</td>\n",
       "      <td>W:\\Data\\KDIBA\\gor01\\one\\2006-6-08_14-26-15\\out...</td>\n",
       "      <td>W:\\Data\\KDIBA\\gor01\\one\\2006-6-08_14-26-15\\loa...</td>\n",
       "      <td>W:\\Data\\KDIBA\\gor01\\one\\2006-6-08_14-26-15\\rip...</td>\n",
       "      <td>True</td>\n",
       "      <td>True</td>\n",
       "    </tr>\n",
       "    <tr>\n",
       "      <th>2</th>\n",
       "      <td>kdiba</td>\n",
       "      <td>gor01</td>\n",
       "      <td>one</td>\n",
       "      <td>2006-6-09_1-22-43</td>\n",
       "      <td>kdiba_gor01_one_2006-6-09_1-22-43</td>\n",
       "      <td>W:\\Data\\KDIBA\\gor01\\one\\2006-6-09_1-22-43</td>\n",
       "      <td>SessionBatchProgress.NOT_STARTED</td>\n",
       "      <td>None</td>\n",
       "      <td>2006-06-09 01:22:43</td>\n",
       "      <td>0</td>\n",
       "      <td>0</td>\n",
       "      <td>0</td>\n",
       "      <td>0</td>\n",
       "      <td>False</td>\n",
       "      <td>W:\\Data\\KDIBA\\gor01\\one\\2006-6-09_1-22-43\\outp...</td>\n",
       "      <td>W:\\Data\\KDIBA\\gor01\\one\\2006-6-09_1-22-43\\load...</td>\n",
       "      <td>W:\\Data\\KDIBA\\gor01\\one\\2006-6-09_1-22-43\\ripp...</td>\n",
       "      <td>True</td>\n",
       "      <td>True</td>\n",
       "    </tr>\n",
       "    <tr>\n",
       "      <th>3</th>\n",
       "      <td>kdiba</td>\n",
       "      <td>gor01</td>\n",
       "      <td>one</td>\n",
       "      <td>2006-6-09_3-23-37</td>\n",
       "      <td>kdiba_gor01_one_2006-6-09_3-23-37</td>\n",
       "      <td>W:\\Data\\KDIBA\\gor01\\one\\2006-6-09_3-23-37</td>\n",
       "      <td>SessionBatchProgress.NOT_STARTED</td>\n",
       "      <td>None</td>\n",
       "      <td>2006-06-09 03:23:37</td>\n",
       "      <td>0</td>\n",
       "      <td>0</td>\n",
       "      <td>0</td>\n",
       "      <td>0</td>\n",
       "      <td>False</td>\n",
       "      <td></td>\n",
       "      <td></td>\n",
       "      <td>W:\\Data\\KDIBA\\gor01\\one\\2006-6-09_3-23-37\\ripp...</td>\n",
       "      <td>False</td>\n",
       "      <td>True</td>\n",
       "    </tr>\n",
       "    <tr>\n",
       "      <th>4</th>\n",
       "      <td>kdiba</td>\n",
       "      <td>gor01</td>\n",
       "      <td>one</td>\n",
       "      <td>2006-6-12_15-55-31</td>\n",
       "      <td>kdiba_gor01_one_2006-6-12_15-55-31</td>\n",
       "      <td>W:\\Data\\KDIBA\\gor01\\one\\2006-6-12_15-55-31</td>\n",
       "      <td>SessionBatchProgress.NOT_STARTED</td>\n",
       "      <td>None</td>\n",
       "      <td>2006-06-12 15:55:31</td>\n",
       "      <td>0</td>\n",
       "      <td>0</td>\n",
       "      <td>0</td>\n",
       "      <td>0</td>\n",
       "      <td>False</td>\n",
       "      <td>W:\\Data\\KDIBA\\gor01\\one\\2006-6-12_15-55-31\\out...</td>\n",
       "      <td>W:\\Data\\KDIBA\\gor01\\one\\2006-6-12_15-55-31\\loa...</td>\n",
       "      <td>W:\\Data\\KDIBA\\gor01\\one\\2006-6-12_15-55-31\\rip...</td>\n",
       "      <td>True</td>\n",
       "      <td>True</td>\n",
       "    </tr>\n",
       "    <tr>\n",
       "      <th>...</th>\n",
       "      <td>...</td>\n",
       "      <td>...</td>\n",
       "      <td>...</td>\n",
       "      <td>...</td>\n",
       "      <td>...</td>\n",
       "      <td>...</td>\n",
       "      <td>...</td>\n",
       "      <td>...</td>\n",
       "      <td>...</td>\n",
       "      <td>...</td>\n",
       "      <td>...</td>\n",
       "      <td>...</td>\n",
       "      <td>...</td>\n",
       "      <td>...</td>\n",
       "      <td>...</td>\n",
       "      <td>...</td>\n",
       "      <td>...</td>\n",
       "      <td>...</td>\n",
       "      <td>...</td>\n",
       "    </tr>\n",
       "    <tr>\n",
       "      <th>67</th>\n",
       "      <td>kdiba</td>\n",
       "      <td>pin01</td>\n",
       "      <td>one</td>\n",
       "      <td>fet11-04_21-20-3</td>\n",
       "      <td>kdiba_pin01_one_fet11-04_21-20-3</td>\n",
       "      <td>W:\\Data\\KDIBA\\pin01\\one\\fet11-04_21-20-3</td>\n",
       "      <td>SessionBatchProgress.NOT_STARTED</td>\n",
       "      <td>None</td>\n",
       "      <td>2009-11-04 21:20:03</td>\n",
       "      <td>0</td>\n",
       "      <td>0</td>\n",
       "      <td>0</td>\n",
       "      <td>0</td>\n",
       "      <td>False</td>\n",
       "      <td></td>\n",
       "      <td>W:\\Data\\KDIBA\\pin01\\one\\fet11-04_21-20-3\\loade...</td>\n",
       "      <td>W:\\Data\\KDIBA\\pin01\\one\\fet11-04_21-20-3\\fet11...</td>\n",
       "      <td>False</td>\n",
       "      <td>True</td>\n",
       "    </tr>\n",
       "    <tr>\n",
       "      <th>68</th>\n",
       "      <td>kdiba</td>\n",
       "      <td>pin01</td>\n",
       "      <td>one</td>\n",
       "      <td>redundant</td>\n",
       "      <td>kdiba_pin01_one_redundant</td>\n",
       "      <td>W:\\Data\\KDIBA\\pin01\\one\\redundant</td>\n",
       "      <td>SessionBatchProgress.NOT_STARTED</td>\n",
       "      <td>None</td>\n",
       "      <td>NaT</td>\n",
       "      <td>0</td>\n",
       "      <td>0</td>\n",
       "      <td>0</td>\n",
       "      <td>0</td>\n",
       "      <td>False</td>\n",
       "      <td></td>\n",
       "      <td></td>\n",
       "      <td></td>\n",
       "      <td>False</td>\n",
       "      <td>False</td>\n",
       "    </tr>\n",
       "    <tr>\n",
       "      <th>69</th>\n",
       "      <td>kdiba</td>\n",
       "      <td>pin01</td>\n",
       "      <td>one</td>\n",
       "      <td>showclus</td>\n",
       "      <td>kdiba_pin01_one_showclus</td>\n",
       "      <td>W:\\Data\\KDIBA\\pin01\\one\\showclus</td>\n",
       "      <td>SessionBatchProgress.NOT_STARTED</td>\n",
       "      <td>None</td>\n",
       "      <td>NaT</td>\n",
       "      <td>0</td>\n",
       "      <td>0</td>\n",
       "      <td>0</td>\n",
       "      <td>0</td>\n",
       "      <td>False</td>\n",
       "      <td></td>\n",
       "      <td></td>\n",
       "      <td></td>\n",
       "      <td>False</td>\n",
       "      <td>False</td>\n",
       "    </tr>\n",
       "    <tr>\n",
       "      <th>70</th>\n",
       "      <td>kdiba</td>\n",
       "      <td>pin01</td>\n",
       "      <td>one</td>\n",
       "      <td>sleep</td>\n",
       "      <td>kdiba_pin01_one_sleep</td>\n",
       "      <td>W:\\Data\\KDIBA\\pin01\\one\\sleep</td>\n",
       "      <td>SessionBatchProgress.NOT_STARTED</td>\n",
       "      <td>None</td>\n",
       "      <td>NaT</td>\n",
       "      <td>0</td>\n",
       "      <td>0</td>\n",
       "      <td>0</td>\n",
       "      <td>0</td>\n",
       "      <td>False</td>\n",
       "      <td></td>\n",
       "      <td></td>\n",
       "      <td></td>\n",
       "      <td>False</td>\n",
       "      <td>False</td>\n",
       "    </tr>\n",
       "    <tr>\n",
       "      <th>71</th>\n",
       "      <td>kdiba</td>\n",
       "      <td>pin01</td>\n",
       "      <td>one</td>\n",
       "      <td>tmaze</td>\n",
       "      <td>kdiba_pin01_one_tmaze</td>\n",
       "      <td>W:\\Data\\KDIBA\\pin01\\one\\tmaze</td>\n",
       "      <td>SessionBatchProgress.NOT_STARTED</td>\n",
       "      <td>None</td>\n",
       "      <td>NaT</td>\n",
       "      <td>0</td>\n",
       "      <td>0</td>\n",
       "      <td>0</td>\n",
       "      <td>0</td>\n",
       "      <td>False</td>\n",
       "      <td></td>\n",
       "      <td></td>\n",
       "      <td></td>\n",
       "      <td>False</td>\n",
       "      <td>False</td>\n",
       "    </tr>\n",
       "  </tbody>\n",
       "</table>\n",
       "<p>72 rows × 19 columns</p>\n",
       "</div>"
      ],
      "text/plain": [
       "   format_name animal exper_name        session_name  \\\n",
       "0        kdiba  gor01        one  2006-6-07_11-26-53   \n",
       "1        kdiba  gor01        one  2006-6-08_14-26-15   \n",
       "2        kdiba  gor01        one   2006-6-09_1-22-43   \n",
       "3        kdiba  gor01        one   2006-6-09_3-23-37   \n",
       "4        kdiba  gor01        one  2006-6-12_15-55-31   \n",
       "..         ...    ...        ...                 ...   \n",
       "67       kdiba  pin01        one    fet11-04_21-20-3   \n",
       "68       kdiba  pin01        one           redundant   \n",
       "69       kdiba  pin01        one            showclus   \n",
       "70       kdiba  pin01        one               sleep   \n",
       "71       kdiba  pin01        one               tmaze   \n",
       "\n",
       "                               context  \\\n",
       "0   kdiba_gor01_one_2006-6-07_11-26-53   \n",
       "1   kdiba_gor01_one_2006-6-08_14-26-15   \n",
       "2    kdiba_gor01_one_2006-6-09_1-22-43   \n",
       "3    kdiba_gor01_one_2006-6-09_3-23-37   \n",
       "4   kdiba_gor01_one_2006-6-12_15-55-31   \n",
       "..                                 ...   \n",
       "67    kdiba_pin01_one_fet11-04_21-20-3   \n",
       "68           kdiba_pin01_one_redundant   \n",
       "69            kdiba_pin01_one_showclus   \n",
       "70               kdiba_pin01_one_sleep   \n",
       "71               kdiba_pin01_one_tmaze   \n",
       "\n",
       "                                      basedirs  \\\n",
       "0   W:\\Data\\KDIBA\\gor01\\one\\2006-6-07_11-26-53   \n",
       "1   W:\\Data\\KDIBA\\gor01\\one\\2006-6-08_14-26-15   \n",
       "2    W:\\Data\\KDIBA\\gor01\\one\\2006-6-09_1-22-43   \n",
       "3    W:\\Data\\KDIBA\\gor01\\one\\2006-6-09_3-23-37   \n",
       "4   W:\\Data\\KDIBA\\gor01\\one\\2006-6-12_15-55-31   \n",
       "..                                         ...   \n",
       "67    W:\\Data\\KDIBA\\pin01\\one\\fet11-04_21-20-3   \n",
       "68           W:\\Data\\KDIBA\\pin01\\one\\redundant   \n",
       "69            W:\\Data\\KDIBA\\pin01\\one\\showclus   \n",
       "70               W:\\Data\\KDIBA\\pin01\\one\\sleep   \n",
       "71               W:\\Data\\KDIBA\\pin01\\one\\tmaze   \n",
       "\n",
       "                              status errors    session_datetime  n_long_laps  \\\n",
       "0   SessionBatchProgress.NOT_STARTED   None 2006-06-07 11:26:53            0   \n",
       "1   SessionBatchProgress.NOT_STARTED   None 2006-06-08 14:26:15            0   \n",
       "2   SessionBatchProgress.NOT_STARTED   None 2006-06-09 01:22:43            0   \n",
       "3   SessionBatchProgress.NOT_STARTED   None 2006-06-09 03:23:37            0   \n",
       "4   SessionBatchProgress.NOT_STARTED   None 2006-06-12 15:55:31            0   \n",
       "..                               ...    ...                 ...          ...   \n",
       "67  SessionBatchProgress.NOT_STARTED   None 2009-11-04 21:20:03            0   \n",
       "68  SessionBatchProgress.NOT_STARTED   None                 NaT            0   \n",
       "69  SessionBatchProgress.NOT_STARTED   None                 NaT            0   \n",
       "70  SessionBatchProgress.NOT_STARTED   None                 NaT            0   \n",
       "71  SessionBatchProgress.NOT_STARTED   None                 NaT            0   \n",
       "\n",
       "    n_long_replays  n_short_laps  n_short_replays  is_ready  \\\n",
       "0                0             0                0     False   \n",
       "1                0             0                0     False   \n",
       "2                0             0                0     False   \n",
       "3                0             0                0     False   \n",
       "4                0             0                0     False   \n",
       "..             ...           ...              ...       ...   \n",
       "67               0             0                0     False   \n",
       "68               0             0                0     False   \n",
       "69               0             0                0     False   \n",
       "70               0             0                0     False   \n",
       "71               0             0                0     False   \n",
       "\n",
       "                       global_computation_result_file  \\\n",
       "0   W:\\Data\\KDIBA\\gor01\\one\\2006-6-07_11-26-53\\out...   \n",
       "1   W:\\Data\\KDIBA\\gor01\\one\\2006-6-08_14-26-15\\out...   \n",
       "2   W:\\Data\\KDIBA\\gor01\\one\\2006-6-09_1-22-43\\outp...   \n",
       "3                                                       \n",
       "4   W:\\Data\\KDIBA\\gor01\\one\\2006-6-12_15-55-31\\out...   \n",
       "..                                                ...   \n",
       "67                                                      \n",
       "68                                                      \n",
       "69                                                      \n",
       "70                                                      \n",
       "71                                                      \n",
       "\n",
       "                           loaded_session_pickle_file  \\\n",
       "0   W:\\Data\\KDIBA\\gor01\\one\\2006-6-07_11-26-53\\loa...   \n",
       "1   W:\\Data\\KDIBA\\gor01\\one\\2006-6-08_14-26-15\\loa...   \n",
       "2   W:\\Data\\KDIBA\\gor01\\one\\2006-6-09_1-22-43\\load...   \n",
       "3                                                       \n",
       "4   W:\\Data\\KDIBA\\gor01\\one\\2006-6-12_15-55-31\\loa...   \n",
       "..                                                ...   \n",
       "67  W:\\Data\\KDIBA\\pin01\\one\\fet11-04_21-20-3\\loade...   \n",
       "68                                                      \n",
       "69                                                      \n",
       "70                                                      \n",
       "71                                                      \n",
       "\n",
       "                                   ripple_result_file  \\\n",
       "0   W:\\Data\\KDIBA\\gor01\\one\\2006-6-07_11-26-53\\rip...   \n",
       "1   W:\\Data\\KDIBA\\gor01\\one\\2006-6-08_14-26-15\\rip...   \n",
       "2   W:\\Data\\KDIBA\\gor01\\one\\2006-6-09_1-22-43\\ripp...   \n",
       "3   W:\\Data\\KDIBA\\gor01\\one\\2006-6-09_3-23-37\\ripp...   \n",
       "4   W:\\Data\\KDIBA\\gor01\\one\\2006-6-12_15-55-31\\rip...   \n",
       "..                                                ...   \n",
       "67  W:\\Data\\KDIBA\\pin01\\one\\fet11-04_21-20-3\\fet11...   \n",
       "68                                                      \n",
       "69                                                      \n",
       "70                                                      \n",
       "71                                                      \n",
       "\n",
       "    has_user_replay_annotations  has_user_grid_bin_bounds_annotations  \n",
       "0                         False                                  True  \n",
       "1                          True                                  True  \n",
       "2                          True                                  True  \n",
       "3                         False                                  True  \n",
       "4                          True                                  True  \n",
       "..                          ...                                   ...  \n",
       "67                        False                                  True  \n",
       "68                        False                                 False  \n",
       "69                        False                                 False  \n",
       "70                        False                                 False  \n",
       "71                        False                                 False  \n",
       "\n",
       "[72 rows x 19 columns]"
      ]
     },
     "metadata": {},
     "output_type": "display_data"
    }
   ],
   "source": [
    "active_global_batch_result_filename=f'global_batch_result_{BATCH_DATE_TO_USE}.pkl'\n",
    "\n",
    "debug_print = False\n",
    "known_global_data_root_parent_paths = [Path(r'W:\\Data'), Path(r'/media/MAX/Data'), Path(r'/Volumes/MoverNew/data'), Path(r'/home/halechr/turbo/Data'), Path(r'/nfs/turbo/umms-kdiba/Data')] # , Path(r'/home/halechr/FastData')\n",
    "global_data_root_parent_path = find_first_extant_path(known_global_data_root_parent_paths)\n",
    "assert global_data_root_parent_path.exists(), f\"global_data_root_parent_path: {global_data_root_parent_path} does not exist! Is the right computer's config commented out above?\"\n",
    "## Build Pickle Path:\n",
    "global_batch_result_file_path = Path(global_data_root_parent_path).joinpath(active_global_batch_result_filename).resolve() # Use Default\n",
    "\n",
    "# try to load an existing batch result:\n",
    "global_batch_run = BatchRun.try_init_from_file(global_data_root_parent_path, active_global_batch_result_filename=active_global_batch_result_filename,\n",
    "\t\t\t\t\t\tskip_root_path_conversion=False, debug_print=debug_print) # on_needs_create_callback_fn=run_diba_batch\n",
    "\n",
    "batch_progress_df = global_batch_run.to_dataframe(expand_context=True, good_only=False) # all\n",
    "good_only_batch_progress_df = global_batch_run.to_dataframe(expand_context=True, good_only=True)\n",
    "batch_progress_df.batch_results.build_all_columns()\n",
    "good_only_batch_progress_df.batch_results.build_all_columns()\n",
    "batch_progress_df\n",
    "with pd.option_context('display.max_rows', 10, 'display.max_columns', None):  # more options can be specified also\n",
    "    # display(batch_progress_df)\n",
    "    # display(good_only_batch_progress_df)\n",
    "    display(batch_progress_df)"
   ]
  },
  {
   "cell_type": "markdown",
   "id": "ab824348",
   "metadata": {
    "tags": []
   },
   "source": [
    "# Run Batch Executions/Computations"
   ]
  },
  {
   "cell_type": "code",
   "execution_count": 5,
   "id": "019afbbd-70d2-4e75-9548-b6f22d2e31ca",
   "metadata": {
    "notebookRunGroups": {
     "groupValue": "12"
    },
    "scrolled": true,
    "tags": []
   },
   "outputs": [],
   "source": [
    "# Hardcoded included_session_contexts:\n",
    "included_session_contexts = [\n",
    "    IdentifyingContext(format_name='kdiba',animal='gor01',exper_name='one',session_name='2006-6-08_14-26-15'), # prev completed\n",
    "    IdentifyingContext(format_name='kdiba',animal='gor01',exper_name='one',session_name='2006-6-09_1-22-43'), # prev completed\n",
    "    IdentifyingContext(format_name='kdiba',animal='gor01',exper_name='one',session_name='2006-6-12_15-55-31'), # prev completed\n",
    "    IdentifyingContext(format_name='kdiba',animal='gor01',exper_name='two',session_name='2006-6-07_16-40-19'), # prev completed\n",
    "    IdentifyingContext(format_name='kdiba',animal='gor01',exper_name='two',session_name='2006-6-08_21-16-25'),\n",
    "    IdentifyingContext(format_name='kdiba',animal='gor01',exper_name='two',session_name='2006-6-09_22-24-40'),\n",
    "    IdentifyingContext(format_name='kdiba',animal='gor01',exper_name='two',session_name='2006-6-12_16-53-46'),\n",
    "    IdentifyingContext(format_name='kdiba',animal='vvp01',exper_name='one',session_name='2006-4-09_17-29-30'),\n",
    "    IdentifyingContext(format_name='kdiba',animal='vvp01',exper_name='one',session_name='2006-4-10_12-25-50'),\n",
    "    IdentifyingContext(format_name='kdiba',animal='vvp01',exper_name='two',session_name='2006-4-09_16-40-54'),\n",
    "    IdentifyingContext(format_name='kdiba',animal='vvp01',exper_name='two',session_name='2006-4-10_12-58-3'),\n",
    "    IdentifyingContext(format_name='kdiba',animal='pin01',exper_name='one',session_name='11-02_17-46-44'), # prev completed\n",
    "    IdentifyingContext(format_name='kdiba',animal='pin01',exper_name='one',session_name='11-02_19-28-0'),\n",
    "    IdentifyingContext(format_name='kdiba',animal='pin01',exper_name='one',session_name='11-03_12-3-25'),\n",
    "    IdentifyingContext(format_name='kdiba',animal='pin01',exper_name='one',session_name='fet11-01_12-58-54'), # prev completed\n",
    "]\n",
    "\n",
    "included_session_batch_progress_df = batch_progress_df[np.isin(batch_progress_df['context'].values, included_session_contexts)]\n",
    "with pd.option_context('display.max_rows', 10, 'display.max_columns', None):  # more options can be specified also\n",
    "    included_session_batch_progress_df"
   ]
  },
  {
   "cell_type": "markdown",
   "id": "71584edc",
   "metadata": {},
   "source": [
    "# Execute Batch"
   ]
  },
  {
   "cell_type": "code",
   "execution_count": null,
   "id": "0ff419df",
   "metadata": {
    "tags": []
   },
   "outputs": [],
   "source": [
    "output_included_session_contexts, output_python_scripts, output_slurm_scripts = global_batch_run.generate_batch_slurm_jobs(included_session_contexts, Path('output/generated_slurm_scripts/').resolve(), \n",
    "                                                                                                                        use_separate_run_directories=True, should_force_reload_all=False, should_perform_figure_generation_to_file=False)"
   ]
  },
  {
   "cell_type": "code",
   "execution_count": null,
   "id": "ab6ae279",
   "metadata": {
    "notebookRunGroups": {
     "groupValue": "1"
    },
    "scrolled": true,
    "tags": []
   },
   "outputs": [],
   "source": [
    "multiprocessing_kwargs = dict(use_multiprocessing=False, num_processes=1)\n",
    "# multiprocessing_kwargs = dict(use_multiprocessing=True, num_processes=3)\n",
    "\n",
    "enable_full_pipeline_in_ram = False\n",
    "# enable_full_pipeline_in_ram = True\n",
    "\n",
    "# Whether to output figures:\n",
    "should_perform_figure_generation_to_file=False\n",
    "# should_perform_figure_generation_to_file=True\n",
    "\n",
    "## Included Session Contexts:\n",
    "# included_session_contexts = batch_progress_df[np.logical_and(batch_progress_df['has_user_replay_annotations'], batch_progress_df['is_ready'])]['context'].to_numpy().tolist()\n",
    "\n",
    "# Only require sessions to have replay annotations:\n",
    "# included_session_contexts = batch_progress_df[batch_progress_df['has_user_replay_annotations']]['context'].to_numpy().tolist()\n",
    "\n",
    "# included_session_contexts = batch_progress_df['context'].to_numpy().tolist()[:4] # Only get the first 6\n",
    "## Limit the contexts to run to the last N:\n",
    "# included_session_contexts = included_session_contexts[3:6]\n",
    "\n",
    "# ALL\n",
    "included_session_contexts = included_session_contexts\n",
    "\n",
    "# ## No filtering the sessions:\n",
    "# included_session_contexts = None\n",
    "\n",
    "if included_session_contexts is not None:\n",
    "    print(f'len(included_session_contexts): {len(included_session_contexts)}')\n",
    "else:\n",
    "    print(f'included_session_contexts is None so all session contexts will be included.')\n",
    "\n",
    "# included_session_contexts\n",
    "\n",
    "\n",
    "# No Reloading\n",
    "result_handler = BatchSessionCompletionHandler(force_reload_all=False,\n",
    "                                                session_computations_options=BatchComputationProcessOptions(should_load=True, should_compute=True, should_save=SavingOptions.IF_CHANGED),\n",
    "                                                global_computations_options=BatchComputationProcessOptions(should_load=True, should_compute=True, should_save=SavingOptions.IF_CHANGED),\n",
    "                                                should_perform_figure_generation_to_file=should_perform_figure_generation_to_file, should_generate_all_plots=True, saving_mode=PipelineSavingScheme.SKIP_SAVING, force_global_recompute=False,\n",
    "                                                enable_full_pipeline_in_ram=enable_full_pipeline_in_ram,\n",
    "                                                **multiprocessing_kwargs)\n",
    "\n",
    "\n",
    "# # Forced Reloading:\n",
    "# result_handler = BatchSessionCompletionHandler(force_reload_all=True,\n",
    "#                                                 session_computations_options=BatchComputationProcessOptions(should_load=False, should_compute=True, should_save=SavingOptions.ALWAYS),\n",
    "#                                                 global_computations_options=BatchComputationProcessOptions(should_load=False, should_compute=True, should_save=SavingOptions.ALWAYS),\n",
    "#                                                 should_perform_figure_generation_to_file=should_perform_figure_generation_to_file, saving_mode=PipelineSavingScheme.OVERWRITE_IN_PLACE, force_global_recompute=True,\n",
    "#                                                 **multiprocessing_kwargs)\n",
    "\n",
    "\n",
    "active_post_run_callback_fn = result_handler.on_complete_success_execution_session\n",
    "# active_post_run_callback_fn = _temp_on_complete_success_execution_session\n",
    "\n",
    "\n",
    "## Specific Setup for 2023-09-28 Changes to LxC/SxC \"refinements\"\n",
    "result_handler.extended_computations_include_includelist = ['_perform_long_short_firing_rate_analyses', 'jonathan_firing_rate_analysis']\n",
    "result_handler.enable_hdf5_output = True # output the HDF5 when done.\n",
    "result_handler.override_existing_frs_index_values = True\n",
    "result_handler.frs_index_inclusion_magnitude = 0.35\n",
    "\n",
    "# _require_pipeline_has_refined_pfs(curr_active_pipeline, frs_index_inclusion_magnitude:float=0.5)\n",
    "\n",
    "\n",
    "## Execute with the custom arguments.\n",
    "active_computation_functions_name_includelist=['pf_computation', 'pfdt_computation', 'firing_rate_trends',\n",
    "                                                # 'pf_dt_sequential_surprise',\n",
    "                                                # 'ratemap_peaks_prominence2d',\n",
    "                                                'position_decoding', 'position_decoding_two_step', \n",
    "                                               'long_short_decoding_analyses', 'jonathan_firing_rate_analysis', 'long_short_fr_indicies_analyses', 'short_long_pf_overlap_analyses', 'long_short_post_decoding',\n",
    "                                                'long_short_rate_remapping',\n",
    "                                                # 'long_short_inst_spike_rate_groups',\n",
    "                                                'long_short_endcap_analysis'\n",
    "                                                ]\n",
    "\n",
    "global_batch_run.execute_all(force_reload=result_handler.force_reload_all, saving_mode=result_handler.saving_mode, skip_extended_batch_computations=True, post_run_callback_fn=active_post_run_callback_fn,\n",
    "                             fail_on_exception=True, included_session_contexts=included_session_contexts,\n",
    "                                                                                        **{'computation_functions_name_includelist': active_computation_functions_name_includelist,\n",
    "                                                                                            'active_session_computation_configs': None,\n",
    "                                                                                            'allow_processing_previously_completed': True}, **multiprocessing_kwargs) # can override `active_session_computation_configs` if we want to set custom ones like only the laps.)\n",
    "\n",
    "# 4m 39.8s"
   ]
  },
  {
   "cell_type": "code",
   "execution_count": null,
   "id": "4db79885",
   "metadata": {
    "notebookRunGroups": {
     "groupValue": "1"
    }
   },
   "outputs": [],
   "source": [
    "# Save to pickle:\n",
    "saveData(global_batch_result_file_path, global_batch_run) # Update the global batch run dictionary"
   ]
  },
  {
   "cell_type": "code",
   "execution_count": null,
   "id": "0981cde1",
   "metadata": {
    "notebookRunGroups": {
     "groupValue": "21"
    },
    "tags": []
   },
   "outputs": [],
   "source": [
    "batch_progress_df = global_batch_run.to_dataframe(expand_context=True, good_only=False) # all\n",
    "good_only_batch_progress_df = global_batch_run.to_dataframe(expand_context=True, good_only=True)\n",
    "batch_progress_df.batch_results.build_all_columns()\n",
    "good_only_batch_progress_df.batch_results.build_all_columns()\n",
    "batch_progress_df"
   ]
  },
  {
   "cell_type": "code",
   "execution_count": null,
   "id": "70245494",
   "metadata": {},
   "outputs": [],
   "source": [
    "from pyphoplacecellanalysis.General.Batch.runBatch import get_file_str_if_file_exists\n",
    "from pyphoplacecellanalysis.General.Batch.AcrossSessionResults import check_output_h5_files\n",
    "from pyphoplacecellanalysis.General.Batch.runBatch import ConcreteSessionFolder\n",
    "from pyphoplacecellanalysis.General.Batch.AcrossSessionResults import copy_files_in_filelist_to_dest\n",
    "\n",
    "good_session_concrete_folders = [ConcreteSessionFolder(a_context, a_basedir) for a_context, a_basedir in zip(list(good_only_batch_progress_df.context.values), list(good_only_batch_progress_df.basedirs.values))]\n",
    "good_session_concrete_folders\n",
    "\n",
    "# good_only_batch_progress_df.batch_results\n",
    "session_h5_paths = [get_file_str_if_file_exists(v.joinpath('output','pipeline_results.h5').resolve()) for v in list(good_only_batch_progress_df.basedirs.values)]\n",
    "session_h5_paths"
   ]
  },
  {
   "cell_type": "code",
   "execution_count": null,
   "id": "b7e8410d",
   "metadata": {},
   "outputs": [],
   "source": [
    "target_dir = Path('output/across_session_results/').resolve()\n",
    "copy_dict = ConcreteSessionFolder.backup_output_files(good_session_concrete_folders, target_dir=target_dir)\n",
    "copy_dict"
   ]
  },
  {
   "cell_type": "code",
   "execution_count": null,
   "id": "a7be1190",
   "metadata": {},
   "outputs": [],
   "source": []
  },
  {
   "cell_type": "code",
   "execution_count": null,
   "id": "6c3f001e",
   "metadata": {},
   "outputs": [],
   "source": [
    "check_output_h5_files(session_h5_paths)"
   ]
  },
  {
   "cell_type": "markdown",
   "id": "690f140f",
   "metadata": {},
   "source": [
    "# Across Sessions After Batching Complete"
   ]
  },
  {
   "cell_type": "code",
   "execution_count": null,
   "id": "d85e7111",
   "metadata": {
    "notebookRunGroups": {
     "groupValue": "2"
    },
    "tags": []
   },
   "outputs": [],
   "source": [
    "#### Undocumented: HDF5 files containing links to other external .h5 files. These work!\n",
    "\n",
    "included_h5_paths = [a_dir.joinpath('output','pipeline_results.h5').resolve() for a_dir in included_session_batch_progress_df['basedirs']]\n",
    "included_h5_paths"
   ]
  },
  {
   "cell_type": "code",
   "execution_count": null,
   "id": "b34bd1ee",
   "metadata": {},
   "outputs": [],
   "source": [
    "\n",
    "\n",
    "# file_paths = [Path('/nfs/turbo/umms-kdiba/Data/KDIBA/gor01/one/2006-6-08_14-26-15/output/pipeline_results.h5'),\n",
    "#  Path('/nfs/turbo/umms-kdiba/Data/KDIBA/gor01/one/2006-6-09_1-22-43/output/pipeline_results.h5'),\n",
    "#  Path('/nfs/turbo/umms-kdiba/Data/KDIBA/gor01/one/2006-6-12_15-55-31/output/pipeline_results.h5'),\n",
    "#  Path('/nfs/turbo/umms-kdiba/Data/KDIBA/gor01/two/2006-6-07_16-40-19/output/pipeline_results.h5'),\n",
    "#  Path('/nfs/turbo/umms-kdiba/Data/KDIBA/gor01/two/2006-6-08_21-16-25/output/pipeline_results.h5'),\n",
    "#  Path('/nfs/turbo/umms-kdiba/Data/KDIBA/gor01/two/2006-6-09_22-24-40/output/pipeline_results.h5'),\n",
    "#  Path('/nfs/turbo/umms-kdiba/Data/KDIBA/gor01/two/2006-6-12_16-53-46/output/pipeline_results.h5'),\n",
    "#  Path('/nfs/turbo/umms-kdiba/Data/KDIBA/vvp01/one/2006-4-09_17-29-30/output/pipeline_results.h5'),\n",
    "#  Path('/nfs/turbo/umms-kdiba/Data/KDIBA/vvp01/one/2006-4-10_12-25-50/output/pipeline_results.h5'),\n",
    "#  Path('/nfs/turbo/umms-kdiba/Data/KDIBA/vvp01/two/2006-4-09_16-40-54/output/pipeline_results.h5'),\n",
    "#  Path('/nfs/turbo/umms-kdiba/Data/KDIBA/vvp01/two/2006-4-10_12-58-3/output/pipeline_results.h5'),\n",
    "#  Path('/nfs/turbo/umms-kdiba/Data/KDIBA/pin01/one/11-02_17-46-44/output/pipeline_results.h5'),\n",
    "#  Path('/nfs/turbo/umms-kdiba/Data/KDIBA/pin01/one/11-02_19-28-0/output/pipeline_results.h5'),\n",
    "#  Path('/nfs/turbo/umms-kdiba/Data/KDIBA/pin01/one/11-03_12-3-25/output/pipeline_results.h5'),\n",
    "#  Path('/nfs/turbo/umms-kdiba/Data/KDIBA/pin01/one/fet11-01_12-58-54/output/pipeline_results.h5')]\n",
    "\n",
    "copy_files_in_filelist_to_dest(filelist_text_file=\"/nfs/turbo/umms-kdiba/Data/fileList_GreatLakes_HDF5_2023-09-29-GL.txt\", target_directory=Path('output/extracted_hdf5_files/').resolve())"
   ]
  },
  {
   "cell_type": "code",
   "execution_count": null,
   "id": "5fc7340d",
   "metadata": {},
   "outputs": [],
   "source": [
    "from pyphoplacecellanalysis.General.Batch.AcrossSessionResults import build_output_filelists, copy_files_in_filelist_to_dest\n",
    "\n",
    "included_session_basedirs = included_session_batch_progress_df['basedirs']\n",
    "# output_filelist_transfer_dict = build_output_filelists(filelist_save_parent_path=global_data_root_parent_path, included_session_basedirs=included_session_basedirs, BATCH_DATE_TO_USE=BATCH_DATE_TO_USE, dest_computer_name='LabWorkstation')\n",
    "output_filelist_transfer_dict = build_output_filelists(filelist_save_parent_path=global_data_root_parent_path, included_session_basedirs=included_session_basedirs, BATCH_DATE_TO_USE=BATCH_DATE_TO_USE, dest_computer_name='Apogee')\n",
    "output_filelist_transfer_dict"
   ]
  },
  {
   "cell_type": "code",
   "execution_count": null,
   "id": "f9dfee55",
   "metadata": {
    "notebookRunGroups": {
     "groupValue": "2"
    },
    "tags": []
   },
   "outputs": [],
   "source": [
    "from pyphoplacecellanalysis.General.Batch.AcrossSessionResults import AcrossSessionTables\n",
    "\n",
    "AcrossSessionTables.save_out_to_combined_file(included_session_contexts, included_h5_paths)"
   ]
  },
  {
   "cell_type": "code",
   "execution_count": null,
   "id": "3c4e7b48",
   "metadata": {
    "notebookRunGroups": {
     "groupValue": "2"
    },
    "tags": []
   },
   "outputs": [],
   "source": [
    "## Save tables out to .csv:\n",
    "neuron_replay_stats_table = AcrossSessionTables.build_neuron_replay_stats_table(included_session_contexts, included_h5_paths)\n",
    "neuron_replay_stats_table\n",
    "long_short_fr_indicies_analysis_table = AcrossSessionTables.build_long_short_fr_indicies_analysis_table(included_session_contexts, included_h5_paths)\n",
    "long_short_fr_indicies_analysis_table\n",
    "neuron_identities_table = AcrossSessionTables.build_neuron_identities_table(included_session_contexts, included_h5_paths)\n",
    "neuron_identities_table\n",
    "## Save converted back to .h5 file, .csv file, and several others\n",
    "\n",
    "# across_session_outputs = {f'output/across_session_results/neuron_identities_table_{BATCH_DATE_TO_USE}': neuron_identities_table,\n",
    "#  f'output/across_session_results/long_short_fr_indicies_analysis_table_{BATCH_DATE_TO_USE}': long_short_fr_indicies_analysis_table,\n",
    "# f'output/across_session_results/neuron_replay_stats_table_{BATCH_DATE_TO_USE}': neuron_replay_stats_table}\n",
    "\n",
    "# for k, v in across_session_outputs.items():\n",
    "#     k = Path(k)\n",
    "#     a_name = k.name\n",
    "#     print(f'a_name: {a_name}')\n",
    "#     v.to_csv(k.with_suffix(suffix='.csv'))\n",
    "#     # v.to_hdf(k, key=f'/{a_name}')    \n"
   ]
  },
  {
   "cell_type": "code",
   "execution_count": null,
   "id": "5b8ced5f",
   "metadata": {},
   "outputs": [],
   "source": [
    "\n",
    "from pyphoplacecellanalysis.General.Batch.AcrossSessionResults import AcrossSessionsVisualizations\n",
    "\n",
    "matplotlib_configuration_update(is_interactive=True, backend='Qt5Agg')\n",
    "graphics_output_dict = AcrossSessionsVisualizations.across_sessions_firing_rate_index_figure(long_short_fr_indicies_analysis_results=long_short_fr_indicies_analysis_table, num_sessions=0)\n"
   ]
  },
  {
   "cell_type": "code",
   "execution_count": null,
   "id": "45f5f5a6",
   "metadata": {},
   "outputs": [],
   "source": [
    "np.sum(neuron_replay_stats_table['is_refined_LxC'].astype(bool))\n"
   ]
  },
  {
   "cell_type": "code",
   "execution_count": null,
   "id": "8802d015",
   "metadata": {},
   "outputs": [],
   "source": [
    "## Load file from outputs:\n",
    "# Build the output paths:\n",
    "out_parent_path = Path('output/across_session_results').resolve()\n",
    "\n",
    "\n",
    "'long_short_fr_indicies_analysis_table.pkl'\n",
    "# out_parent_path.mkdir(parents=True, exist_ok=True)\n",
    "\n",
    "across_session_outputs = {'neuron_identities_table': neuron_identities_table,\n",
    "'long_short_fr_indicies_analysis_table': r\"W:\\Data\\long_short_fr_indicies_analysis_table.pkl\",\n",
    "'neuron_replay_stats_table': neuron_replay_stats_table}\n",
    "\n"
   ]
  },
  {
   "cell_type": "code",
   "execution_count": null,
   "id": "efc9082d",
   "metadata": {},
   "outputs": [],
   "source": [
    "long_short_fr_indicies_analysis_table = loadData(r\"W:\\Data\\long_short_fr_indicies_analysis_table.pkl\")\n",
    "long_short_fr_indicies_analysis_table"
   ]
  },
  {
   "cell_type": "code",
   "execution_count": null,
   "id": "66efaef0",
   "metadata": {},
   "outputs": [],
   "source": [
    "neuron_replay_stats_table = loadData(r\"W:\\Data\\neuron_replay_stats_table.pkl\")\n",
    "neuron_replay_stats_table\n",
    "# Filter rows based on column: 'custom_frs_index'\n",
    "neuron_replay_stats_table = neuron_replay_stats_table[(neuron_replay_stats_table['custom_frs_index'].notna()) & (neuron_replay_stats_table['custom_frs_index'] != 0)]\n",
    "neuron_replay_stats_table"
   ]
  },
  {
   "cell_type": "code",
   "execution_count": null,
   "id": "001d4c8b",
   "metadata": {},
   "outputs": [],
   "source": [
    "refined_LxC_df = neuron_replay_stats_table[neuron_replay_stats_table['is_refined_LxC'].astype(bool)]\n",
    "refined_SxC_df = neuron_replay_stats_table[neuron_replay_stats_table['is_refined_SxC'].astype(bool)]\n",
    "refined_SxC_df"
   ]
  },
  {
   "cell_type": "code",
   "execution_count": null,
   "id": "88a7303d",
   "metadata": {},
   "outputs": [],
   "source": []
  },
  {
   "cell_type": "code",
   "execution_count": null,
   "id": "f8615ac3",
   "metadata": {},
   "outputs": [],
   "source": [
    "# Options\n",
    "session_identifier_key: str = 'session_name'\n",
    "# session_identifier_key: str = 'session_datetime'\n",
    "\n",
    "## !IMPORTANT! Count of the fields of interest using .value_counts(...) and converting to an explicit pd.DataFrame:\n",
    "# _out_value_counts_df: pd.DataFrame = neuron_replay_stats_table.value_counts(subset=['format_name', 'animal', 'session_name', 'session_datetime','track_membership'], normalize=False, sort=False, ascending=True, dropna=True).reset_index()\n",
    "# _out_value_counts_df.columns = ['format_name', 'animal', 'session_name', 'session_datetime', 'track_membership', 'count']\n",
    "_out_value_counts_df: pd.DataFrame = neuron_replay_stats_table.value_counts(subset=['format_name', 'animal', 'session_name', 'session_datetime','track_membership'], normalize=False, sort=False, ascending=True, dropna=True).reset_index()\n",
    "_out_value_counts_df.columns = ['format_name', 'animal', 'session_name', 'session_datetime', 'track_membership', 'count']\n",
    "_out_value_counts_df"
   ]
  },
  {
   "cell_type": "code",
   "execution_count": null,
   "id": "6af57298",
   "metadata": {},
   "outputs": [],
   "source": [
    "## Find the time of the first session for each animal:\n",
    "first_session_time  = _out_value_counts_df.groupby(['animal']).agg(session_datetime_first=('session_datetime', 'first')).reset_index()\n",
    "\n",
    "## Subtract this initial time from all of the 'session_datetime' entries for each animal:\n",
    "# Merge the first session time back into the original DataFrame\n",
    "merged_df = pd.merge(_out_value_counts_df, first_session_time, on='animal')\n",
    "\n",
    "# Subtract this initial time from all of the 'session_datetime' entries for each animal\n",
    "merged_df['time_since_first_session'] = merged_df['session_datetime'] - merged_df['session_datetime_first']\n",
    "\n",
    "merged_df"
   ]
  },
  {
   "cell_type": "code",
   "execution_count": null,
   "id": "b25bb1f8",
   "metadata": {},
   "outputs": [],
   "source": [
    "import matplotlib.pyplot as plt\n",
    "\n",
    "point_size = 8\n",
    "df = _out_value_counts_df.copy()\n",
    "animals = df['animal'].unique()\n",
    "track_memberships = df['track_membership'].unique()\n",
    "\n",
    "fig, axes = plt.subplots(1, len(animals), figsize=(15, 5))\n",
    "\n",
    "for i, animal in enumerate(animals):\n",
    "\tax = axes[i]\n",
    "\tsubset_df = df[df['animal'] == animal]\n",
    "\t\n",
    "\tfor track_membership in track_memberships:\n",
    "\t\ttrack_subset_df = subset_df[subset_df['track_membership'] == track_membership]\n",
    "\t\tax.plot(track_subset_df['session_datetime'], track_subset_df['count'], label=f'Track: {track_membership}')\n",
    "\t\tax.scatter(track_subset_df['session_datetime'], track_subset_df['count'], s=point_size)\n",
    "\t\t\n",
    "\tax.set_title(f'Animal: {animal}')\n",
    "\tax.set_xlabel('Session Datetime')\n",
    "\tax.set_ylabel('Count')\n",
    "\tax.legend()\n",
    "\n",
    "plt.tight_layout()\n",
    "plt.show()"
   ]
  },
  {
   "cell_type": "code",
   "execution_count": null,
   "id": "94408ac4",
   "metadata": {},
   "outputs": [],
   "source": [
    "_out_value_counts_df"
   ]
  },
  {
   "cell_type": "code",
   "execution_count": null,
   "id": "784fcc04",
   "metadata": {},
   "outputs": [],
   "source": [
    "\n",
    "\n",
    "## See if the number of cells decreases over re-exposures to the track\n",
    "df = _out_value_counts_df[_out_value_counts_df['animal'] == 'gor01']\n",
    "# df = _out_value_counts_df[_out_value_counts_df['animal'] == 'pin01']\n",
    "# df = _out_value_counts_df[_out_value_counts_df['animal'] == 'vvp01']\n",
    "\n",
    "# Sort by column: 'session_datetime' (ascending)\n",
    "df = df.sort_values(['session_datetime'])\n",
    "\n",
    "'LEFT_ONLY'\n",
    "\n",
    "# df.to_clipboard(index=False)\n",
    "df"
   ]
  },
  {
   "cell_type": "code",
   "execution_count": null,
   "id": "d8a502f7",
   "metadata": {},
   "outputs": [],
   "source": [
    "## Get the number of cells in each session of the animal:\n",
    "num_LxCs = df[df['track_membership'] == 'LEFT_ONLY']['count'].to_numpy()\n",
    "num_Shared = df[df['track_membership'] == 'SHARED']['count'].to_numpy()\n",
    "num_SxCs = df[df['track_membership'] == 'RIGHT_ONLY']['count'].to_numpy()\n",
    "\n",
    "num_TotalCs = num_LxCs + num_Shared + num_SxCs\n",
    "num_TotalCs"
   ]
  },
  {
   "cell_type": "code",
   "execution_count": null,
   "id": "2feb3fa1",
   "metadata": {},
   "outputs": [],
   "source": [
    "# The only safe point to align each session to is the switchpoint (the delta):\n"
   ]
  },
  {
   "cell_type": "code",
   "execution_count": null,
   "id": "046bbce9",
   "metadata": {},
   "outputs": [],
   "source": [
    "# Each session can be expressed in terms of time from the start of the first session.\n"
   ]
  },
  {
   "cell_type": "code",
   "execution_count": null,
   "id": "a00d2419",
   "metadata": {},
   "outputs": [],
   "source": [
    "df.plot()\n"
   ]
  },
  {
   "cell_type": "code",
   "execution_count": null,
   "id": "1f4a3da3",
   "metadata": {
    "tags": []
   },
   "outputs": [],
   "source": [
    "long_short_fr_indicies_analysis_table = AcrossSessionTables.build_long_short_fr_indicies_analysis_table(included_session_contexts, included_h5_paths)\n",
    "long_short_fr_indicies_analysis_table"
   ]
  },
  {
   "cell_type": "code",
   "execution_count": null,
   "id": "a4749ac7",
   "metadata": {
    "tags": []
   },
   "outputs": [],
   "source": [
    "neuron_identities_table = AcrossSessionTables.build_neuron_identities_table(included_session_contexts, included_h5_paths)\n",
    "neuron_identities_table"
   ]
  },
  {
   "cell_type": "code",
   "execution_count": null,
   "id": "5e06675f",
   "metadata": {
    "tags": []
   },
   "outputs": [],
   "source": [
    "neuron_replay_stats_table = AcrossSessionTables.build_neuron_replay_stats_table(included_session_contexts, included_h5_paths)\n",
    "neuron_replay_stats_table"
   ]
  },
  {
   "cell_type": "code",
   "execution_count": null,
   "id": "09034c6b",
   "metadata": {},
   "outputs": [],
   "source": [
    "neuron_replay_stats_table"
   ]
  },
  {
   "cell_type": "code",
   "execution_count": null,
   "id": "56f99ff8",
   "metadata": {},
   "outputs": [],
   "source": [
    "\n",
    "from pyphoplacecellanalysis.General.Batch.AcrossSessionResults import AcrossSessionsVisualizations\n",
    "\n",
    "matplotlib_configuration_update(is_interactive=True, backend='Qt5Agg')\n",
    "graphics_output_dict = AcrossSessionsVisualizations.across_sessions_firing_rate_index_figure(long_short_fr_indicies_analysis_results=long_short_fr_indicies_analysis_table, num_sessions=0)"
   ]
  },
  {
   "cell_type": "code",
   "execution_count": null,
   "id": "de182953",
   "metadata": {
    "tags": []
   },
   "outputs": [],
   "source": [
    "included_h5_paths = [a_dir.joinpath('output','pipeline_results.h5').resolve() for a_dir in included_session_batch_progress_df['basedirs']]\n",
    "included_global_computation_h5_paths = [a_dir.joinpath('output','global_computations.h5').resolve() for a_dir in included_session_batch_progress_df['basedirs']] \n",
    "included_h5_paths"
   ]
  },
  {
   "cell_type": "code",
   "execution_count": null,
   "id": "33c02c97-a566-4e24-9219-6ee09a4075b6",
   "metadata": {
    "tags": []
   },
   "outputs": [],
   "source": [
    "# Get only the sessions with non-None results\n",
    "sessions_with_results = [a_ctxt for a_ctxt, a_result in global_batch_run.session_batch_outputs.items() if a_result is not None]\n",
    "sessions_with_results"
   ]
  },
  {
   "cell_type": "code",
   "execution_count": null,
   "id": "a9e19412-2b21-4841-8207-952a04e1080b",
   "metadata": {
    "tags": []
   },
   "outputs": [],
   "source": [
    "session_identifiers = included_session_contexts\n"
   ]
  },
  {
   "cell_type": "markdown",
   "id": "cadc1ac7-5771-4cd5-94c6-7a6244eb8217",
   "metadata": {
    "notebookRunGroups": {
     "groupValue": "2"
    },
    "tags": []
   },
   "source": [
    "## Extract output files from all completed sessions:"
   ]
  },
  {
   "cell_type": "code",
   "execution_count": null,
   "id": "47cb0cd9-3e60-4425-9351-dfc903f3f067",
   "metadata": {
    "notebookRunGroups": {
     "groupValue": "2"
    },
    "tags": []
   },
   "outputs": [],
   "source": [
    "from pyphocorehelpers.Filesystem.path_helpers import convert_filelist_to_new_parent\n",
    "\n",
    "def save_filelist_to_text_file(hdf5_output_paths, filelist_path: Path):\n",
    "    _out_string = '\\n'.join([str(a_file) for a_file in hdf5_output_paths])\n",
    "    print(f'{_out_string}')\n",
    "    print(f'saving out to \"{filelist_path}\"...')\n",
    "    with open(filelist_path, 'w') as f:\n",
    "        f.write(_out_string)\n",
    "    return _out_string, filelist_path\n",
    "\n",
    "# Save output filelist:\n",
    "\n",
    "# '/nfs/turbo/umms-kdiba/Data/KDIBA/gor01/one/2006-6-09_1-22-43/output/pipeline_results.h5'\n",
    "\n",
    "# kdiba_vvp01_two_2006-4-10_12-58-3\n",
    "# \toutputs_local ={'pkl': PosixPath('/nfs/turbo/umms-kdiba/Data/KDIBA/vvp01/two/2006-4-10_12-58-3/loadedSessPickle.pkl')}\n",
    "# \toutputs_global ={'pkl': PosixPath('/nfs/turbo/umms-kdiba/Data/KDIBA/vvp01/two/2006-4-10_12-58-3/output/global_computation_results.pkl'), 'hdf5': PosixPath('/nfs/turbo/umms-kdiba/Data/KDIBA/vvp01/two/2006-4-10_12-58-3/output/pipeline_results.h5')}\n",
    "session_identifiers, pkl_output_paths, hdf5_output_paths = global_batch_run.build_output_files_lists()\n",
    "\n",
    "h5_filelist_path = global_data_root_parent_path.joinpath(f'fileList_Greatlakes_HDF5_{BATCH_DATE_TO_USE}.txt').resolve()\n",
    "_out_string, src_filelist_HDF5_savepath = save_filelist_to_text_file(hdf5_output_paths, h5_filelist_path)\n",
    "\n",
    "pkls_filelist_path = global_data_root_parent_path.joinpath(f'fileList_Greatlakes_pkls_{BATCH_DATE_TO_USE}.txt').resolve()\n",
    "_out_string, src_filelist_pkls_savepath = save_filelist_to_text_file(pkl_output_paths, pkls_filelist_path)\n",
    "\n",
    "# source_parent_path = Path(r'/media/MAX/cloud/turbo/Data')\n",
    "source_parent_path = Path(r'/nfs/turbo/umms-kdiba/Data')\n",
    "dest_parent_path = Path(r'/~/W/Data/')\n",
    "# # Build the destination filelist from the source_filelist and the two paths:\n",
    "filelist_source = hdf5_output_paths\n",
    "filelist_dest_paths = convert_filelist_to_new_parent(filelist_source, original_parent_path=source_parent_path, dest_parent_path=dest_parent_path)\n",
    "filelist_dest_paths\n",
    "\n",
    "dest_Apogee_h5_filelist_path = global_data_root_parent_path.joinpath(f'dest_fileList_Apogee_{BATCH_DATE_TO_USE}.txt').resolve()\n",
    "_out_string, dest_filelist_savepath = save_filelist_to_text_file(filelist_dest_paths, dest_Apogee_h5_filelist_path)"
   ]
  },
  {
   "cell_type": "code",
   "execution_count": null,
   "id": "3a8e69a3",
   "metadata": {
    "notebookRunGroups": {
     "groupValue": "2"
    },
    "tags": []
   },
   "outputs": [],
   "source": [
    "from pyphoplacecellanalysis.General.Batch.runBatch import PipelineCompletionResult\n",
    "from neuropy.core.epoch import Epoch\n",
    "\n",
    "# Save to HDF5\n",
    "suffix = f'{BATCH_DATE_TO_USE}'\n",
    "## Build Pickle Path:\n",
    "file_path = global_data_root_parent_path.joinpath(f'global_batch_output_{suffix}.h5').resolve()\n",
    "file_path\n",
    "global_batch_run.to_hdf(file_path,'/')"
   ]
  },
  {
   "cell_type": "code",
   "execution_count": null,
   "id": "282ce774-98fb-4e69-a7e2-e94cbff1b0b5",
   "metadata": {
    "tags": []
   },
   "outputs": [],
   "source": [
    "# Get only the sessions with non-None results\n",
    "sessions_with_results = [a_ctxt for a_ctxt, a_result in global_batch_run.session_batch_outputs.items() if a_result is not None]\n",
    "\n",
    "# list(global_batch_run.session_batch_outputs.keys())\n",
    "\n",
    "# Somewhere in there there are `InstantaneousSpikeRateGroupsComputation` results to extract\n",
    "across_sessions_instantaneous_fr_dict = {} # InstantaneousSpikeRateGroupsComputation\n",
    "\n",
    "# good_session_batch_outputs = global_batch_run.session_batch_outputs\n",
    "\n",
    "sessions_with_results = [a_ctxt for a_ctxt, a_result in global_batch_run.session_batch_outputs.items() if a_result is not None]\n",
    "good_session_batch_outputs = {a_ctxt:a_result for a_ctxt, a_result in global_batch_run.session_batch_outputs.items() if a_result is not None}\n",
    "\n",
    "for a_ctxt, a_result in good_session_batch_outputs.items():\n",
    "    if a_result is not None:\n",
    "        # a_good_result = a_result.__dict__.get('across_sessions_batch_results', {}).get('inst_fr_comps', None)\n",
    "        a_good_result = a_result.across_session_results.get('inst_fr_comps', None)\n",
    "        if a_good_result is not None:\n",
    "            across_sessions_instantaneous_fr_dict[a_ctxt] = a_good_result\n",
    "            # print(a_result['across_sessions_batch_results']['inst_fr_comps'])\n",
    "            \n",
    "num_sessions = len(across_sessions_instantaneous_fr_dict)\n",
    "print(f'num_sessions: {num_sessions}')\n",
    "\n",
    "# When done, `result_handler.across_sessions_instantaneous_fr_dict` is now equivalent to what it would have been before. It can be saved using the normal `.save_across_sessions_data(...)`\n",
    "\n",
    "## Save the instantaneous firing rate results dict: (# Dict[IdentifyingContext] = InstantaneousSpikeRateGroupsComputation)\n",
    "AcrossSessionsResults.save_across_sessions_data(across_sessions_instantaneous_fr_dict=across_sessions_instantaneous_fr_dict, global_data_root_parent_path=global_data_root_parent_path, inst_fr_output_filename=f'across_session_result_long_short_inst_firing_rate_{BATCH_DATE_TO_USE}.pkl')\n",
    "\n",
    "# ## Save pickle:\n",
    "# inst_fr_output_filename=f'across_session_result_long_short_inst_firing_rate_{BATCH_DATE_TO_USE}.pkl'\n",
    "# global_batch_result_inst_fr_file_path = Path(global_data_root_parent_path).joinpath(inst_fr_output_filename).resolve() # Use Default\n",
    "# print(f'global_batch_result_inst_fr_file_path: {global_batch_result_inst_fr_file_path}')\n",
    "# # Save the all sessions instantaneous firing rate dict to the path:\n",
    "# saveData(global_batch_result_inst_fr_file_path, across_sessions_instantaneous_fr_dict)"
   ]
  },
  {
   "cell_type": "code",
   "execution_count": null,
   "id": "c60d19a7-5a89-43f1-aa33-3a7450d1f965",
   "metadata": {
    "tags": []
   },
   "outputs": [],
   "source": [
    "across_sessions_instantaneous_fr_dict"
   ]
  },
  {
   "cell_type": "code",
   "execution_count": null,
   "id": "e178426c-54df-47ac-8103-a66f114c77e5",
   "metadata": {
    "tags": []
   },
   "outputs": [],
   "source": [
    "[a_ctxt.get_initialization_code_string() for a_ctxt in sessions_with_results]"
   ]
  },
  {
   "cell_type": "markdown",
   "id": "28828512",
   "metadata": {},
   "source": [
    "# OLD"
   ]
  },
  {
   "cell_type": "markdown",
   "id": "be651cc7",
   "metadata": {
    "tags": []
   },
   "source": [
    "## 2023-07-14 - Load Saved across-sessions-data and testing Batch-computed inst_firing_rates:"
   ]
  },
  {
   "cell_type": "code",
   "execution_count": 6,
   "id": "28ad5bf6",
   "metadata": {},
   "outputs": [
    {
     "name": "stdout",
     "output_type": "stream",
     "text": [
      "global_batch_result_inst_fr_file_path: W:\\Data\\across_session_result_long_short_inst_firing_rate_2023-10-03-GL.pkl\n",
      "Loading loaded session pickle file results : W:\\Data\\across_session_result_long_short_inst_firing_rate_2023-10-03-GL.pkl... done.\n",
      "num_sessions: 15\n",
      "num_sessions: 15\n"
     ]
    }
   ],
   "source": [
    "# from neuropy.utils.matplotlib_helpers import matplotlib_configuration_update\n",
    "# from pyphoplacecellanalysis.General.Batch.PhoDiba2023Paper import PaperFigureTwo, InstantaneousSpikeRateGroupsComputation\n",
    "# from pyphoplacecellanalysis.General.Pipeline.Stages.ComputationFunctions.SpikeAnalysis import SpikeRateTrends\n",
    "# from pyphoplacecellanalysis.General.Batch.PhoDiba2023Paper import list_of_dicts_to_dict_of_lists\n",
    "from pyphoplacecellanalysis.General.Batch.AcrossSessionResults import AcrossSessionsResults, AcrossSessionsVisualizations\n",
    "\n",
    "## Load the saved across-session results:\n",
    "# inst_fr_output_filename = 'long_short_inst_firing_rate_result_handlers_2023-07-12.pkl'\n",
    "# inst_fr_output_filename = 'across_session_result_long_short_inst_firing_rate.pkl'\n",
    "# inst_fr_output_filename='across_session_result_long_short_inst_firing_rate_2023-07-21.pkl'\n",
    "# inst_fr_output_filename=f'across_session_result_handler_{BATCH_DATE_TO_USE}.pkl'\n",
    "# inst_fr_output_filename='across_session_result_long_short_inst_firing_rate_2023-08-09_Test.pkl'\n",
    "inst_fr_output_filename='across_session_result_long_short_inst_firing_rate_2023-10-03-GL.pkl'\n",
    "across_session_inst_fr_computation, across_sessions_instantaneous_fr_dict, across_sessions_instantaneous_frs_list = AcrossSessionsResults.load_across_sessions_data(global_data_root_parent_path=global_data_root_parent_path, inst_fr_output_filename=inst_fr_output_filename)\n",
    "# across_sessions_instantaneous_fr_dict = loadData(global_batch_result_inst_fr_file_path)\n",
    "num_sessions = len(across_sessions_instantaneous_fr_dict)\n",
    "print(f'num_sessions: {num_sessions}')"
   ]
  },
  {
   "cell_type": "code",
   "execution_count": 8,
   "id": "03a11886",
   "metadata": {},
   "outputs": [
    {
     "data": {
      "text/plain": [
       "{Context(format_name: 'kdiba'\n",
       "         animal: 'gor01'\n",
       "         exper_name: 'one'\n",
       "         session_name: '2006-6-08_14-26-15'): InstantaneousSpikeRateGroupsComputation(instantaneous_time_bin_size_seconds=0.01, active_identifying_session_ctx=IdentifyingContext<('kdiba', 'gor01', 'one', '2006-6-08_14-26-15')>, LxC_aclus=array([], dtype=int64), SxC_aclus=array([ 4, 13, 58], dtype=int64), Fig2_Replay_FR=[SingleBarResult(mean=None, std=None, values=array([], dtype=float64), LxC_aclus=array([], dtype=int64), SxC_aclus=array([ 4, 13, 58], dtype=int64), LxC_scatter_props=None, SxC_scatter_props=None), SingleBarResult(mean=None, std=None, values=array([], dtype=float64), LxC_aclus=array([], dtype=int64), SxC_aclus=array([ 4, 13, 58], dtype=int64), LxC_scatter_props=None, SxC_scatter_props=None), SingleBarResult(mean=1.0091611410920336, std=0.8288382103871312, values=array([0.        , 0.9973557 , 2.03012772]), LxC_aclus=array([], dtype=int64), SxC_aclus=array([ 4, 13, 58], dtype=int64), LxC_scatter_props=None, SxC_scatter_props=None), SingleBarResult(mean=12.18260458671474, std=7.031371573658501, values=array([19.45684945,  2.67400018, 14.41696413]), LxC_aclus=array([], dtype=int64), SxC_aclus=array([ 4, 13, 58], dtype=int64), LxC_scatter_props=None, SxC_scatter_props=None)], Fig2_Laps_FR=[SingleBarResult(mean=None, std=None, values=array([], dtype=float64), LxC_aclus=array([], dtype=int64), SxC_aclus=array([ 4, 13, 58], dtype=int64), LxC_scatter_props=None, SxC_scatter_props=None), SingleBarResult(mean=None, std=None, values=array([], dtype=float64), LxC_aclus=array([], dtype=int64), SxC_aclus=array([ 4, 13, 58], dtype=int64), LxC_scatter_props=None, SxC_scatter_props=None), SingleBarResult(mean=9.655653967870753, std=8.728000498950747, values=array([ 3.9894228,  2.9920671, 21.985472 ]), LxC_aclus=array([], dtype=int64), SxC_aclus=array([ 4, 13, 58], dtype=int64), LxC_scatter_props=None, SxC_scatter_props=None), SingleBarResult(mean=55.83121801975519, std=29.90633153349422, values=array([64.78047329, 15.55832058, 87.15486019]), LxC_aclus=array([], dtype=int64), SxC_aclus=array([ 4, 13, 58], dtype=int64), LxC_scatter_props=None, SxC_scatter_props=None)]),\n",
       " Context(format_name: 'kdiba'\n",
       "         animal: 'gor01'\n",
       "         exper_name: 'one'\n",
       "         session_name: '2006-6-09_1-22-43'): InstantaneousSpikeRateGroupsComputation(instantaneous_time_bin_size_seconds=0.01, active_identifying_session_ctx=IdentifyingContext<('kdiba', 'gor01', 'one', '2006-6-09_1-22-43')>, LxC_aclus=array([], dtype=int64), SxC_aclus=array([55, 69], dtype=int64), Fig2_Replay_FR=[SingleBarResult(mean=None, std=None, values=array([], dtype=float64), LxC_aclus=array([], dtype=int64), SxC_aclus=array([55, 69], dtype=int64), LxC_scatter_props=None, SxC_scatter_props=None), SingleBarResult(mean=None, std=None, values=array([], dtype=float64), LxC_aclus=array([], dtype=int64), SxC_aclus=array([55, 69], dtype=int64), LxC_scatter_props=None, SxC_scatter_props=None), SingleBarResult(mean=0.5866798241197538, std=0.35200789447185227, values=array([0.23467193, 0.93868772]), LxC_aclus=array([], dtype=int64), SxC_aclus=array([55, 69], dtype=int64), LxC_scatter_props=None, SxC_scatter_props=None), SingleBarResult(mean=4.553868133354958, std=3.503191076108112, values=array([1.05067706, 8.05705921]), LxC_aclus=array([], dtype=int64), SxC_aclus=array([55, 69], dtype=int64), LxC_scatter_props=None, SxC_scatter_props=None)], Fig2_Laps_FR=[SingleBarResult(mean=None, std=None, values=array([], dtype=float64), LxC_aclus=array([], dtype=int64), SxC_aclus=array([55, 69], dtype=int64), LxC_scatter_props=None, SxC_scatter_props=None), SingleBarResult(mean=None, std=None, values=array([], dtype=float64), LxC_aclus=array([], dtype=int64), SxC_aclus=array([55, 69], dtype=int64), LxC_scatter_props=None, SxC_scatter_props=None), SingleBarResult(mean=8.281476301459788, std=8.281476301459788, values=array([ 0.       , 16.5629526]), LxC_aclus=array([], dtype=int64), SxC_aclus=array([55, 69], dtype=int64), LxC_scatter_props=None, SxC_scatter_props=None), SingleBarResult(mean=50.940214202884555, std=10.127072213371214, values=array([61.06728642, 40.81314199]), LxC_aclus=array([], dtype=int64), SxC_aclus=array([55, 69], dtype=int64), LxC_scatter_props=None, SxC_scatter_props=None)]),\n",
       " Context(format_name: 'kdiba'\n",
       "         animal: 'gor01'\n",
       "         exper_name: 'one'\n",
       "         session_name: '2006-6-12_15-55-31'): InstantaneousSpikeRateGroupsComputation(instantaneous_time_bin_size_seconds=0.01, active_identifying_session_ctx=IdentifyingContext<('kdiba', 'gor01', 'one', '2006-6-12_15-55-31')>, LxC_aclus=array([], dtype=int64), SxC_aclus=array([30, 33], dtype=int64), Fig2_Replay_FR=[SingleBarResult(mean=None, std=None, values=array([], dtype=float64), LxC_aclus=array([], dtype=int64), SxC_aclus=array([30, 33], dtype=int64), LxC_scatter_props=None, SxC_scatter_props=None), SingleBarResult(mean=None, std=None, values=array([], dtype=float64), LxC_aclus=array([], dtype=int64), SxC_aclus=array([30, 33], dtype=int64), LxC_scatter_props=None, SxC_scatter_props=None), SingleBarResult(mean=0.9973557010035817, std=0.9973557010035817, values=array([0.       , 1.9947114]), LxC_aclus=array([], dtype=int64), SxC_aclus=array([30, 33], dtype=int64), LxC_scatter_props=None, SxC_scatter_props=None), SingleBarResult(mean=1.1507950396195172, std=1.1507950396195172, values=array([0.        , 2.30159008]), LxC_aclus=array([], dtype=int64), SxC_aclus=array([30, 33], dtype=int64), LxC_scatter_props=None, SxC_scatter_props=None)], Fig2_Laps_FR=[SingleBarResult(mean=None, std=None, values=array([], dtype=float64), LxC_aclus=array([], dtype=int64), SxC_aclus=array([30, 33], dtype=int64), LxC_scatter_props=None, SxC_scatter_props=None), SingleBarResult(mean=None, std=None, values=array([], dtype=float64), LxC_aclus=array([], dtype=int64), SxC_aclus=array([30, 33], dtype=int64), LxC_scatter_props=None, SxC_scatter_props=None), SingleBarResult(mean=3.5802531404224913, std=1.5343914801086962, values=array([2.04586166, 5.11464462]), LxC_aclus=array([], dtype=int64), SxC_aclus=array([30, 33], dtype=int64), LxC_scatter_props=None, SxC_scatter_props=None), SingleBarResult(mean=51.03347323595935, std=3.8253481572983183, values=array([54.85882139, 47.20812508]), LxC_aclus=array([], dtype=int64), SxC_aclus=array([30, 33], dtype=int64), LxC_scatter_props=None, SxC_scatter_props=None)]),\n",
       " Context(format_name: 'kdiba'\n",
       "         animal: 'gor01'\n",
       "         exper_name: 'two'\n",
       "         session_name: '2006-6-07_16-40-19'): InstantaneousSpikeRateGroupsComputation(instantaneous_time_bin_size_seconds=0.01, active_identifying_session_ctx=IdentifyingContext<('kdiba', 'gor01', 'two', '2006-6-07_16-40-19')>, LxC_aclus=array([], dtype=int64), SxC_aclus=array([ 3, 19], dtype=int64), Fig2_Replay_FR=[SingleBarResult(mean=None, std=None, values=array([], dtype=float64), LxC_aclus=array([], dtype=int64), SxC_aclus=array([ 3, 19], dtype=int64), LxC_scatter_props=None, SxC_scatter_props=None), SingleBarResult(mean=None, std=None, values=array([], dtype=float64), LxC_aclus=array([], dtype=int64), SxC_aclus=array([ 3, 19], dtype=int64), LxC_scatter_props=None, SxC_scatter_props=None), SingleBarResult(mean=0.12624755708906096, std=0.12624755708906096, values=array([0.25249511, 0.        ]), LxC_aclus=array([], dtype=int64), SxC_aclus=array([ 3, 19], dtype=int64), LxC_scatter_props=None, SxC_scatter_props=None), SingleBarResult(mean=11.812642374847552, std=7.199015013104862, values=array([ 4.61362736, 19.01165739]), LxC_aclus=array([], dtype=int64), SxC_aclus=array([ 3, 19], dtype=int64), LxC_scatter_props=None, SxC_scatter_props=None)], Fig2_Laps_FR=[SingleBarResult(mean=None, std=None, values=array([], dtype=float64), LxC_aclus=array([], dtype=int64), SxC_aclus=array([ 3, 19], dtype=int64), LxC_scatter_props=None, SxC_scatter_props=None), SingleBarResult(mean=None, std=None, values=array([], dtype=float64), LxC_aclus=array([], dtype=int64), SxC_aclus=array([ 3, 19], dtype=int64), LxC_scatter_props=None, SxC_scatter_props=None), SingleBarResult(mean=3.103855874321735, std=1.1091444723145716, values=array([1.9947114 , 4.21300035]), LxC_aclus=array([], dtype=int64), SxC_aclus=array([ 3, 19], dtype=int64), LxC_scatter_props=None, SxC_scatter_props=None), SingleBarResult(mean=91.63353628903602, std=21.63369878687842, values=array([ 69.9998375 , 113.26723508]), LxC_aclus=array([], dtype=int64), SxC_aclus=array([ 3, 19], dtype=int64), LxC_scatter_props=None, SxC_scatter_props=None)]),\n",
       " Context(format_name: 'kdiba'\n",
       "         animal: 'gor01'\n",
       "         exper_name: 'two'\n",
       "         session_name: '2006-6-08_21-16-25'): InstantaneousSpikeRateGroupsComputation(instantaneous_time_bin_size_seconds=0.01, active_identifying_session_ctx=IdentifyingContext<('kdiba', 'gor01', 'two', '2006-6-08_21-16-25')>, LxC_aclus=array([], dtype=int64), SxC_aclus=array([ 4,  8, 16], dtype=int64), Fig2_Replay_FR=[SingleBarResult(mean=None, std=None, values=array([], dtype=float64), LxC_aclus=array([], dtype=int64), SxC_aclus=array([ 4,  8, 16], dtype=int64), LxC_scatter_props=None, SxC_scatter_props=None), SingleBarResult(mean=None, std=None, values=array([], dtype=float64), LxC_aclus=array([], dtype=int64), SxC_aclus=array([ 4,  8, 16], dtype=int64), LxC_scatter_props=None, SxC_scatter_props=None), SingleBarResult(mean=3.469300394126565, std=2.728850755692487, values=array([3.74008388, 6.6678173 , 0.        ]), LxC_aclus=array([], dtype=int64), SxC_aclus=array([ 4,  8, 16], dtype=int64), LxC_scatter_props=None, SxC_scatter_props=None), SingleBarResult(mean=8.930703339484092, std=1.4229041906411393, values=array([ 8.63910965, 10.8008013 ,  7.35219907]), LxC_aclus=array([], dtype=int64), SxC_aclus=array([ 4,  8, 16], dtype=int64), LxC_scatter_props=None, SxC_scatter_props=None)], Fig2_Laps_FR=[SingleBarResult(mean=None, std=None, values=array([], dtype=float64), LxC_aclus=array([], dtype=int64), SxC_aclus=array([ 4,  8, 16], dtype=int64), LxC_scatter_props=None, SxC_scatter_props=None), SingleBarResult(mean=None, std=None, values=array([], dtype=float64), LxC_aclus=array([], dtype=int64), SxC_aclus=array([ 4,  8, 16], dtype=int64), LxC_scatter_props=None, SxC_scatter_props=None), SingleBarResult(mean=15.704934845213266, std=5.7536331407257055, values=array([16.8833252 , 22.08818462,  8.14329472]), LxC_aclus=array([], dtype=int64), SxC_aclus=array([ 4,  8, 16], dtype=int64), LxC_scatter_props=None, SxC_scatter_props=None), SingleBarResult(mean=65.44501206109754, std=9.138572953777064, values=array([60.5093422 , 78.2569103 , 57.56878369]), LxC_aclus=array([], dtype=int64), SxC_aclus=array([ 4,  8, 16], dtype=int64), LxC_scatter_props=None, SxC_scatter_props=None)]),\n",
       " Context(format_name: 'kdiba'\n",
       "         animal: 'gor01'\n",
       "         exper_name: 'two'\n",
       "         session_name: '2006-6-09_22-24-40'): InstantaneousSpikeRateGroupsComputation(instantaneous_time_bin_size_seconds=0.01, active_identifying_session_ctx=IdentifyingContext<('kdiba', 'gor01', 'two', '2006-6-09_22-24-40')>, LxC_aclus=array([95], dtype=int64), SxC_aclus=array([ 3, 10, 11, 37, 80], dtype=int64), Fig2_Replay_FR=[SingleBarResult(mean=9.652772342451973, std=0.0, values=array([9.65277234]), LxC_aclus=array([95], dtype=int64), SxC_aclus=array([ 3, 10, 11, 37, 80], dtype=int64), LxC_scatter_props=None, SxC_scatter_props=None), SingleBarResult(mean=1.165740429744446, std=0.0, values=array([1.16574043]), LxC_aclus=array([95], dtype=int64), SxC_aclus=array([ 3, 10, 11, 37, 80], dtype=int64), LxC_scatter_props=None, SxC_scatter_props=None), SingleBarResult(mean=4.275289944155347, std=5.1345279786222555, values=array([14.51404615,  1.68567161,  1.12378107,  1.68567161,  2.36727928]), LxC_aclus=array([95], dtype=int64), SxC_aclus=array([ 3, 10, 11, 37, 80], dtype=int64), LxC_scatter_props=None, SxC_scatter_props=None), SingleBarResult(mean=19.236526846715822, std=18.245248593195917, values=array([55.33713778, 10.27721321,  5.52134821, 13.68226301, 11.36467202]), LxC_aclus=array([95], dtype=int64), SxC_aclus=array([ 3, 10, 11, 37, 80], dtype=int64), LxC_scatter_props=None, SxC_scatter_props=None)], Fig2_Laps_FR=[SingleBarResult(mean=81.22337674432717, std=0.0, values=array([81.22337674]), LxC_aclus=array([95], dtype=int64), SxC_aclus=array([ 3, 10, 11, 37, 80], dtype=int64), LxC_scatter_props=None, SxC_scatter_props=None), SingleBarResult(mean=5.199276426610043, std=0.0, values=array([5.19927643]), LxC_aclus=array([95], dtype=int64), SxC_aclus=array([ 3, 10, 11, 37, 80], dtype=int64), LxC_scatter_props=None, SxC_scatter_props=None), SingleBarResult(mean=23.394485321903776, std=17.638827135629345, values=array([56.13612552, 27.00889486,  7.82016956, 15.45948982, 10.54774685]), LxC_aclus=array([95], dtype=int64), SxC_aclus=array([ 3, 10, 11, 37, 80], dtype=int64), LxC_scatter_props=None, SxC_scatter_props=None), SingleBarResult(mean=46.34225805893325, std=22.1597406820082, values=array([86.32535675, 27.99109354, 52.92907857, 38.49074987, 25.97501156]), LxC_aclus=array([95], dtype=int64), SxC_aclus=array([ 3, 10, 11, 37, 80], dtype=int64), LxC_scatter_props=None, SxC_scatter_props=None)]),\n",
       " Context(format_name: 'kdiba'\n",
       "         animal: 'gor01'\n",
       "         exper_name: 'two'\n",
       "         session_name: '2006-6-12_16-53-46'): InstantaneousSpikeRateGroupsComputation(instantaneous_time_bin_size_seconds=None, active_identifying_session_ctx=IdentifyingContext<('kdiba', 'gor01', 'two', '2006-6-12_16-53-46')>, LxC_aclus=array([], dtype=int64), SxC_aclus=array([], dtype=int64), Fig2_Replay_FR=[SingleBarResult(mean=None, std=None, values=array([], dtype=float64), LxC_aclus=array([], dtype=int64), SxC_aclus=array([], dtype=int64), LxC_scatter_props=None, SxC_scatter_props=None), SingleBarResult(mean=None, std=None, values=array([], dtype=float64), LxC_aclus=array([], dtype=int64), SxC_aclus=array([], dtype=int64), LxC_scatter_props=None, SxC_scatter_props=None), SingleBarResult(mean=None, std=None, values=array([], dtype=float64), LxC_aclus=array([], dtype=int64), SxC_aclus=array([], dtype=int64), LxC_scatter_props=None, SxC_scatter_props=None), SingleBarResult(mean=None, std=None, values=array([], dtype=float64), LxC_aclus=array([], dtype=int64), SxC_aclus=array([], dtype=int64), LxC_scatter_props=None, SxC_scatter_props=None)], Fig2_Laps_FR=[SingleBarResult(mean=None, std=None, values=array([], dtype=float64), LxC_aclus=array([], dtype=int64), SxC_aclus=array([], dtype=int64), LxC_scatter_props=None, SxC_scatter_props=None), SingleBarResult(mean=None, std=None, values=array([], dtype=float64), LxC_aclus=array([], dtype=int64), SxC_aclus=array([], dtype=int64), LxC_scatter_props=None, SxC_scatter_props=None), SingleBarResult(mean=None, std=None, values=array([], dtype=float64), LxC_aclus=array([], dtype=int64), SxC_aclus=array([], dtype=int64), LxC_scatter_props=None, SxC_scatter_props=None), SingleBarResult(mean=None, std=None, values=array([], dtype=float64), LxC_aclus=array([], dtype=int64), SxC_aclus=array([], dtype=int64), LxC_scatter_props=None, SxC_scatter_props=None)]),\n",
       " Context(format_name: 'kdiba'\n",
       "         animal: 'vvp01'\n",
       "         exper_name: 'one'\n",
       "         session_name: '2006-4-09_17-29-30'): InstantaneousSpikeRateGroupsComputation(instantaneous_time_bin_size_seconds=0.01, active_identifying_session_ctx=IdentifyingContext<('kdiba', 'vvp01', 'one', '2006-4-09_17-29-30')>, LxC_aclus=array([], dtype=int64), SxC_aclus=array([31, 41], dtype=int64), Fig2_Replay_FR=[SingleBarResult(mean=None, std=None, values=array([], dtype=float64), LxC_aclus=array([], dtype=int64), SxC_aclus=array([31, 41], dtype=int64), LxC_scatter_props=None, SxC_scatter_props=None), SingleBarResult(mean=None, std=None, values=array([], dtype=float64), LxC_aclus=array([], dtype=int64), SxC_aclus=array([31, 41], dtype=int64), LxC_scatter_props=None, SxC_scatter_props=None), SingleBarResult(mean=1.6622595016726363, std=0.0, values=array([1.6622595, 1.6622595]), LxC_aclus=array([], dtype=int64), SxC_aclus=array([31, 41], dtype=int64), LxC_scatter_props=None, SxC_scatter_props=None), SingleBarResult(mean=14.239266692318996, std=10.677282045877632, values=array([ 3.56198465, 24.91654874]), LxC_aclus=array([], dtype=int64), SxC_aclus=array([31, 41], dtype=int64), LxC_scatter_props=None, SxC_scatter_props=None)], Fig2_Laps_FR=[SingleBarResult(mean=None, std=None, values=array([], dtype=float64), LxC_aclus=array([], dtype=int64), SxC_aclus=array([31, 41], dtype=int64), LxC_scatter_props=None, SxC_scatter_props=None), SingleBarResult(mean=None, std=None, values=array([], dtype=float64), LxC_aclus=array([], dtype=int64), SxC_aclus=array([31, 41], dtype=int64), LxC_scatter_props=None, SxC_scatter_props=None), SingleBarResult(mean=7.784239617588931, std=2.91908985659585, values=array([ 4.86514976, 10.70332947]), LxC_aclus=array([], dtype=int64), SxC_aclus=array([31, 41], dtype=int64), LxC_scatter_props=None, SxC_scatter_props=None), SingleBarResult(mean=54.92554010446435, std=26.337839955881645, values=array([28.58770015, 81.26338006]), LxC_aclus=array([], dtype=int64), SxC_aclus=array([31, 41], dtype=int64), LxC_scatter_props=None, SxC_scatter_props=None)]),\n",
       " Context(format_name: 'kdiba'\n",
       "         animal: 'vvp01'\n",
       "         exper_name: 'one'\n",
       "         session_name: '2006-4-10_12-25-50'): InstantaneousSpikeRateGroupsComputation(instantaneous_time_bin_size_seconds=0.01, active_identifying_session_ctx=IdentifyingContext<('kdiba', 'vvp01', 'one', '2006-4-10_12-25-50')>, LxC_aclus=array([], dtype=int64), SxC_aclus=array([29], dtype=int64), Fig2_Replay_FR=[SingleBarResult(mean=None, std=None, values=array([], dtype=float64), LxC_aclus=array([], dtype=int64), SxC_aclus=array([29], dtype=int64), LxC_scatter_props=None, SxC_scatter_props=None), SingleBarResult(mean=None, std=None, values=array([], dtype=float64), LxC_aclus=array([], dtype=int64), SxC_aclus=array([29], dtype=int64), LxC_scatter_props=None, SxC_scatter_props=None), SingleBarResult(mean=0.0, std=0.0, values=array([0.]), LxC_aclus=array([], dtype=int64), SxC_aclus=array([29], dtype=int64), LxC_scatter_props=None, SxC_scatter_props=None), SingleBarResult(mean=0.0, std=0.0, values=array([0.]), LxC_aclus=array([], dtype=int64), SxC_aclus=array([29], dtype=int64), LxC_scatter_props=None, SxC_scatter_props=None)], Fig2_Laps_FR=[SingleBarResult(mean=None, std=None, values=array([], dtype=float64), LxC_aclus=array([], dtype=int64), SxC_aclus=array([29], dtype=int64), LxC_scatter_props=None, SxC_scatter_props=None), SingleBarResult(mean=None, std=None, values=array([], dtype=float64), LxC_aclus=array([], dtype=int64), SxC_aclus=array([29], dtype=int64), LxC_scatter_props=None, SxC_scatter_props=None), SingleBarResult(mean=0.0, std=0.0, values=array([0.]), LxC_aclus=array([], dtype=int64), SxC_aclus=array([29], dtype=int64), LxC_scatter_props=None, SxC_scatter_props=None), SingleBarResult(mean=60.144899461930116, std=0.0, values=array([60.14489946]), LxC_aclus=array([], dtype=int64), SxC_aclus=array([29], dtype=int64), LxC_scatter_props=None, SxC_scatter_props=None)]),\n",
       " Context(format_name: 'kdiba'\n",
       "         animal: 'vvp01'\n",
       "         exper_name: 'two'\n",
       "         session_name: '2006-4-09_16-40-54'): InstantaneousSpikeRateGroupsComputation(instantaneous_time_bin_size_seconds=None, active_identifying_session_ctx=IdentifyingContext<('kdiba', 'vvp01', 'two', '2006-4-09_16-40-54')>, LxC_aclus=array([], dtype=int64), SxC_aclus=array([], dtype=int64), Fig2_Replay_FR=[SingleBarResult(mean=None, std=None, values=array([], dtype=float64), LxC_aclus=array([], dtype=int64), SxC_aclus=array([], dtype=int64), LxC_scatter_props=None, SxC_scatter_props=None), SingleBarResult(mean=None, std=None, values=array([], dtype=float64), LxC_aclus=array([], dtype=int64), SxC_aclus=array([], dtype=int64), LxC_scatter_props=None, SxC_scatter_props=None), SingleBarResult(mean=None, std=None, values=array([], dtype=float64), LxC_aclus=array([], dtype=int64), SxC_aclus=array([], dtype=int64), LxC_scatter_props=None, SxC_scatter_props=None), SingleBarResult(mean=None, std=None, values=array([], dtype=float64), LxC_aclus=array([], dtype=int64), SxC_aclus=array([], dtype=int64), LxC_scatter_props=None, SxC_scatter_props=None)], Fig2_Laps_FR=[SingleBarResult(mean=None, std=None, values=array([], dtype=float64), LxC_aclus=array([], dtype=int64), SxC_aclus=array([], dtype=int64), LxC_scatter_props=None, SxC_scatter_props=None), SingleBarResult(mean=None, std=None, values=array([], dtype=float64), LxC_aclus=array([], dtype=int64), SxC_aclus=array([], dtype=int64), LxC_scatter_props=None, SxC_scatter_props=None), SingleBarResult(mean=None, std=None, values=array([], dtype=float64), LxC_aclus=array([], dtype=int64), SxC_aclus=array([], dtype=int64), LxC_scatter_props=None, SxC_scatter_props=None), SingleBarResult(mean=None, std=None, values=array([], dtype=float64), LxC_aclus=array([], dtype=int64), SxC_aclus=array([], dtype=int64), LxC_scatter_props=None, SxC_scatter_props=None)]),\n",
       " Context(format_name: 'kdiba'\n",
       "         animal: 'vvp01'\n",
       "         exper_name: 'two'\n",
       "         session_name: '2006-4-10_12-58-3'): InstantaneousSpikeRateGroupsComputation(instantaneous_time_bin_size_seconds=None, active_identifying_session_ctx=IdentifyingContext<('kdiba', 'vvp01', 'two', '2006-4-10_12-58-3')>, LxC_aclus=array([], dtype=int64), SxC_aclus=array([], dtype=int64), Fig2_Replay_FR=[SingleBarResult(mean=None, std=None, values=array([], dtype=float64), LxC_aclus=array([], dtype=int64), SxC_aclus=array([], dtype=int64), LxC_scatter_props=None, SxC_scatter_props=None), SingleBarResult(mean=None, std=None, values=array([], dtype=float64), LxC_aclus=array([], dtype=int64), SxC_aclus=array([], dtype=int64), LxC_scatter_props=None, SxC_scatter_props=None), SingleBarResult(mean=None, std=None, values=array([], dtype=float64), LxC_aclus=array([], dtype=int64), SxC_aclus=array([], dtype=int64), LxC_scatter_props=None, SxC_scatter_props=None), SingleBarResult(mean=None, std=None, values=array([], dtype=float64), LxC_aclus=array([], dtype=int64), SxC_aclus=array([], dtype=int64), LxC_scatter_props=None, SxC_scatter_props=None)], Fig2_Laps_FR=[SingleBarResult(mean=None, std=None, values=array([], dtype=float64), LxC_aclus=array([], dtype=int64), SxC_aclus=array([], dtype=int64), LxC_scatter_props=None, SxC_scatter_props=None), SingleBarResult(mean=None, std=None, values=array([], dtype=float64), LxC_aclus=array([], dtype=int64), SxC_aclus=array([], dtype=int64), LxC_scatter_props=None, SxC_scatter_props=None), SingleBarResult(mean=None, std=None, values=array([], dtype=float64), LxC_aclus=array([], dtype=int64), SxC_aclus=array([], dtype=int64), LxC_scatter_props=None, SxC_scatter_props=None), SingleBarResult(mean=None, std=None, values=array([], dtype=float64), LxC_aclus=array([], dtype=int64), SxC_aclus=array([], dtype=int64), LxC_scatter_props=None, SxC_scatter_props=None)]),\n",
       " Context(format_name: 'kdiba'\n",
       "         animal: 'pin01'\n",
       "         exper_name: 'one'\n",
       "         session_name: '11-02_17-46-44'): InstantaneousSpikeRateGroupsComputation(instantaneous_time_bin_size_seconds=0.01, active_identifying_session_ctx=IdentifyingContext<('kdiba', 'pin01', 'one', '11-02_17-46-44')>, LxC_aclus=array([], dtype=int64), SxC_aclus=array([17, 40], dtype=int64), Fig2_Replay_FR=[SingleBarResult(mean=None, std=None, values=array([], dtype=float64), LxC_aclus=array([], dtype=int64), SxC_aclus=array([17, 40], dtype=int64), LxC_scatter_props=None, SxC_scatter_props=None), SingleBarResult(mean=None, std=None, values=array([], dtype=float64), LxC_aclus=array([], dtype=int64), SxC_aclus=array([17, 40], dtype=int64), LxC_scatter_props=None, SxC_scatter_props=None), SingleBarResult(mean=4.423778817616091, std=1.8767185595198448, values=array([6.30049738, 2.54706026]), LxC_aclus=array([], dtype=int64), SxC_aclus=array([17, 40], dtype=int64), LxC_scatter_props=None, SxC_scatter_props=None), SingleBarResult(mean=12.28767537656304, std=3.9466338738129068, values=array([16.23430925,  8.3410415 ]), LxC_aclus=array([], dtype=int64), SxC_aclus=array([17, 40], dtype=int64), LxC_scatter_props=None, SxC_scatter_props=None)], Fig2_Laps_FR=[SingleBarResult(mean=None, std=None, values=array([], dtype=float64), LxC_aclus=array([], dtype=int64), SxC_aclus=array([17, 40], dtype=int64), LxC_scatter_props=None, SxC_scatter_props=None), SingleBarResult(mean=None, std=None, values=array([], dtype=float64), LxC_aclus=array([], dtype=int64), SxC_aclus=array([17, 40], dtype=int64), LxC_scatter_props=None, SxC_scatter_props=None), SingleBarResult(mean=3.6605894540663044, std=0.3360704507210326, values=array([3.9966599, 3.324519 ]), LxC_aclus=array([], dtype=int64), SxC_aclus=array([17, 40], dtype=int64), LxC_scatter_props=None, SxC_scatter_props=None), SingleBarResult(mean=45.99347035138982, std=8.864147454619275, values=array([54.85761781, 37.1293229 ]), LxC_aclus=array([], dtype=int64), SxC_aclus=array([17, 40], dtype=int64), LxC_scatter_props=None, SxC_scatter_props=None)]),\n",
       " Context(format_name: 'kdiba'\n",
       "         animal: 'pin01'\n",
       "         exper_name: 'one'\n",
       "         session_name: '11-02_19-28-0'): InstantaneousSpikeRateGroupsComputation(instantaneous_time_bin_size_seconds=None, active_identifying_session_ctx=IdentifyingContext<('kdiba', 'pin01', 'one', '11-02_19-28-0')>, LxC_aclus=array([], dtype=int64), SxC_aclus=array([], dtype=int64), Fig2_Replay_FR=[SingleBarResult(mean=None, std=None, values=array([], dtype=float64), LxC_aclus=array([], dtype=int64), SxC_aclus=array([], dtype=int64), LxC_scatter_props=None, SxC_scatter_props=None), SingleBarResult(mean=None, std=None, values=array([], dtype=float64), LxC_aclus=array([], dtype=int64), SxC_aclus=array([], dtype=int64), LxC_scatter_props=None, SxC_scatter_props=None), SingleBarResult(mean=None, std=None, values=array([], dtype=float64), LxC_aclus=array([], dtype=int64), SxC_aclus=array([], dtype=int64), LxC_scatter_props=None, SxC_scatter_props=None), SingleBarResult(mean=None, std=None, values=array([], dtype=float64), LxC_aclus=array([], dtype=int64), SxC_aclus=array([], dtype=int64), LxC_scatter_props=None, SxC_scatter_props=None)], Fig2_Laps_FR=[SingleBarResult(mean=None, std=None, values=array([], dtype=float64), LxC_aclus=array([], dtype=int64), SxC_aclus=array([], dtype=int64), LxC_scatter_props=None, SxC_scatter_props=None), SingleBarResult(mean=None, std=None, values=array([], dtype=float64), LxC_aclus=array([], dtype=int64), SxC_aclus=array([], dtype=int64), LxC_scatter_props=None, SxC_scatter_props=None), SingleBarResult(mean=None, std=None, values=array([], dtype=float64), LxC_aclus=array([], dtype=int64), SxC_aclus=array([], dtype=int64), LxC_scatter_props=None, SxC_scatter_props=None), SingleBarResult(mean=None, std=None, values=array([], dtype=float64), LxC_aclus=array([], dtype=int64), SxC_aclus=array([], dtype=int64), LxC_scatter_props=None, SxC_scatter_props=None)]),\n",
       " Context(format_name: 'kdiba'\n",
       "         animal: 'pin01'\n",
       "         exper_name: 'one'\n",
       "         session_name: '11-03_12-3-25'): InstantaneousSpikeRateGroupsComputation(instantaneous_time_bin_size_seconds=None, active_identifying_session_ctx=IdentifyingContext<('kdiba', 'pin01', 'one', '11-03_12-3-25')>, LxC_aclus=array([], dtype=int64), SxC_aclus=array([], dtype=int64), Fig2_Replay_FR=[SingleBarResult(mean=None, std=None, values=array([], dtype=float64), LxC_aclus=array([], dtype=int64), SxC_aclus=array([], dtype=int64), LxC_scatter_props=None, SxC_scatter_props=None), SingleBarResult(mean=None, std=None, values=array([], dtype=float64), LxC_aclus=array([], dtype=int64), SxC_aclus=array([], dtype=int64), LxC_scatter_props=None, SxC_scatter_props=None), SingleBarResult(mean=None, std=None, values=array([], dtype=float64), LxC_aclus=array([], dtype=int64), SxC_aclus=array([], dtype=int64), LxC_scatter_props=None, SxC_scatter_props=None), SingleBarResult(mean=None, std=None, values=array([], dtype=float64), LxC_aclus=array([], dtype=int64), SxC_aclus=array([], dtype=int64), LxC_scatter_props=None, SxC_scatter_props=None)], Fig2_Laps_FR=[SingleBarResult(mean=None, std=None, values=array([], dtype=float64), LxC_aclus=array([], dtype=int64), SxC_aclus=array([], dtype=int64), LxC_scatter_props=None, SxC_scatter_props=None), SingleBarResult(mean=None, std=None, values=array([], dtype=float64), LxC_aclus=array([], dtype=int64), SxC_aclus=array([], dtype=int64), LxC_scatter_props=None, SxC_scatter_props=None), SingleBarResult(mean=None, std=None, values=array([], dtype=float64), LxC_aclus=array([], dtype=int64), SxC_aclus=array([], dtype=int64), LxC_scatter_props=None, SxC_scatter_props=None), SingleBarResult(mean=None, std=None, values=array([], dtype=float64), LxC_aclus=array([], dtype=int64), SxC_aclus=array([], dtype=int64), LxC_scatter_props=None, SxC_scatter_props=None)]),\n",
       " Context(format_name: 'kdiba'\n",
       "         animal: 'pin01'\n",
       "         exper_name: 'one'\n",
       "         session_name: 'fet11-01_12-58-54'): InstantaneousSpikeRateGroupsComputation(instantaneous_time_bin_size_seconds=None, active_identifying_session_ctx=IdentifyingContext<('kdiba', 'pin01', 'one', 'fet11-01_12-58-54')>, LxC_aclus=array([], dtype=int64), SxC_aclus=array([], dtype=int64), Fig2_Replay_FR=[SingleBarResult(mean=None, std=None, values=array([], dtype=float64), LxC_aclus=array([], dtype=int64), SxC_aclus=array([], dtype=int64), LxC_scatter_props=None, SxC_scatter_props=None), SingleBarResult(mean=None, std=None, values=array([], dtype=float64), LxC_aclus=array([], dtype=int64), SxC_aclus=array([], dtype=int64), LxC_scatter_props=None, SxC_scatter_props=None), SingleBarResult(mean=None, std=None, values=array([], dtype=float64), LxC_aclus=array([], dtype=int64), SxC_aclus=array([], dtype=int64), LxC_scatter_props=None, SxC_scatter_props=None), SingleBarResult(mean=None, std=None, values=array([], dtype=float64), LxC_aclus=array([], dtype=int64), SxC_aclus=array([], dtype=int64), LxC_scatter_props=None, SxC_scatter_props=None)], Fig2_Laps_FR=[SingleBarResult(mean=None, std=None, values=array([], dtype=float64), LxC_aclus=array([], dtype=int64), SxC_aclus=array([], dtype=int64), LxC_scatter_props=None, SxC_scatter_props=None), SingleBarResult(mean=None, std=None, values=array([], dtype=float64), LxC_aclus=array([], dtype=int64), SxC_aclus=array([], dtype=int64), LxC_scatter_props=None, SxC_scatter_props=None), SingleBarResult(mean=None, std=None, values=array([], dtype=float64), LxC_aclus=array([], dtype=int64), SxC_aclus=array([], dtype=int64), LxC_scatter_props=None, SxC_scatter_props=None), SingleBarResult(mean=None, std=None, values=array([], dtype=float64), LxC_aclus=array([], dtype=int64), SxC_aclus=array([], dtype=int64), LxC_scatter_props=None, SxC_scatter_props=None)])}"
      ]
     },
     "execution_count": 8,
     "metadata": {},
     "output_type": "execute_result"
    }
   ],
   "source": [
    "# across_sessions_instantaneous_frs_list\n",
    "across_sessions_instantaneous_fr_dict"
   ]
  },
  {
   "cell_type": "code",
   "execution_count": 19,
   "id": "7cc1152c",
   "metadata": {},
   "outputs": [
    {
     "name": "stdout",
     "output_type": "stream",
     "text": [
      "num_sessions: 15\n",
      "WARNING: missing 3 keys from context: ['animal', 'exper_name', 'session_name']. Building path anyway.\n",
      "register_output_file(output_path: C:\\Users\\pho\\repos\\Spike3DWorkEnv\\Spike3D\\EXTERNAL\\Screenshots\\ProgrammaticDisplayFunctionTesting\\2023-10-03\\kdiba\\15_2_inst_FR_bar_graphs.png, ...)\n",
      "\t saved C:\\Users\\pho\\repos\\Spike3DWorkEnv\\Spike3D\\EXTERNAL\\Screenshots\\ProgrammaticDisplayFunctionTesting\\2023-10-03\\kdiba\\15_2_inst_FR_bar_graphs.png\n",
      "WARNING: missing 3 keys from context: ['animal', 'exper_name', 'session_name']. Building path anyway.\n",
      "register_output_file(output_path: C:\\Users\\pho\\repos\\Spike3DWorkEnv\\Spike3D\\EXTERNAL\\Screenshots\\ProgrammaticDisplayFunctionTesting\\2023-10-03\\kdiba\\15_2_inst_FR_bar_graphs.png, ...)\n",
      "\t saved C:\\Users\\pho\\repos\\Spike3DWorkEnv\\Spike3D\\EXTERNAL\\Screenshots\\ProgrammaticDisplayFunctionTesting\\2023-10-03\\kdiba\\15_2_inst_FR_bar_graphs.png\n"
     ]
    }
   ],
   "source": [
    "## Hacks the `PaperFigureTwo` and `InstantaneousSpikeRateGroupsComputation` \n",
    "global_multi_session_context, _out_aggregate_fig_2 = AcrossSessionsVisualizations.across_sessions_bar_graphs(across_session_inst_fr_computation, num_sessions, enable_tiny_point_labels=False, enable_hover_labels=False)\n"
   ]
  },
  {
   "cell_type": "code",
   "execution_count": null,
   "id": "1381fcf5",
   "metadata": {
    "notebookRunGroups": {
     "groupValue": "1"
    }
   },
   "outputs": [],
   "source": [
    "across_session_inst_fr_computation.LxC_scatter_props\n",
    "across_session_inst_fr_computation.SxC_scatter_props"
   ]
  },
  {
   "cell_type": "code",
   "execution_count": null,
   "id": "80db1ccc",
   "metadata": {},
   "outputs": [],
   "source": [
    "from pyphoplacecellanalysis.General.Batch.AcrossSessionResults import AcrossSessionsResults, InstantaneousFiringRatesDataframeAccessor, InstantaneousSpikeRateGroupsComputation, trackMembershipTypesEnum, trackExclusiveToMembershipTypeDict, trackExclusiveToMembershipTypeReverseDict\n",
    "\n",
    "## Specify the output file:\n",
    "common_file_path = Path('output/test_across_session_scatter_plot_new.h5')\n",
    "print(f'common_file_path: {common_file_path}')\n",
    "InstantaneousFiringRatesDataframeAccessor.add_results_to_inst_fr_results_table(curr_active_pipeline, common_file_path, file_mode='a')"
   ]
  },
  {
   "cell_type": "code",
   "execution_count": null,
   "id": "8e45d728",
   "metadata": {},
   "outputs": [],
   "source": []
  },
  {
   "cell_type": "code",
   "execution_count": null,
   "id": "d446874f",
   "metadata": {},
   "outputs": [],
   "source": [
    "# Build the unique scatter plot dictionaries:\n",
    "across_session_contexts = list(across_sessions_instantaneous_fr_dict.keys())\n",
    "unique_animals = IdentifyingContext.find_unique_values(across_session_contexts)['animal'] # {'gor01', 'pin01', 'vvp01'}\n",
    "# Get number of animals to plot\n",
    "marker_list = [(5, i) for i in np.arange(len(unique_animals))] # [(5, 0), (5, 1), (5, 2)]\n",
    "scatter_props = [{'marker': mkr} for mkr in marker_list]  # Example, you should provide your own scatter properties\n",
    "scatter_props_dict = dict(zip(unique_animals, scatter_props))\n",
    "# {'pin01': {'marker': (5, 0)},\n",
    "#  'gor01': {'marker': (5, 1)},\n",
    "#  'vvp01': {'marker': (5, 2)}}\n",
    "scatter_props_dict\n",
    "\n",
    "# Pass a function that will return a set of kwargs for a given context\n",
    "def _return_scatter_props_fn(ctxt: IdentifyingContext):\n",
    "\t\"\"\" captures `scatter_props_dict` \"\"\"\n",
    "\tanimal_id = str(ctxt.animal)\n",
    "\treturn scatter_props_dict[animal_id]\n",
    "\t\n"
   ]
  },
  {
   "cell_type": "code",
   "execution_count": null,
   "id": "63258151",
   "metadata": {},
   "outputs": [],
   "source": [
    "## Aggregate across all of the sessions to build a new combined `InstantaneousSpikeRateGroupsComputation`, which can be used to plot the \"PaperFigureTwo\", bar plots for many sessions.\n",
    "global_multi_session_context = IdentifyingContext(format_name='kdiba', num_sessions=num_sessions) # some global context across all of the sessions, not sure what to put here.\n",
    "\n",
    "# To correctly aggregate results across sessions, it only makes sense to combine entries at the `.cell_agg_inst_fr_list` variable and lower (as the number of cells can be added across sessions, treated as unique for each session).\n",
    "\n",
    "## Display the aggregate across sessions:\n",
    "_out_fig_2 = PaperFigureTwo(instantaneous_time_bin_size_seconds=0.01) # WARNING: we didn't save this info\n",
    "_out_fig_2.computation_result = across_session_inst_fr_computation # the result loaded from the file\n",
    "_out_fig_2.active_identifying_session_ctx = across_session_inst_fr_computation.active_identifying_session_ctx\n",
    "# Set callback, the only self-specific property\n",
    "# _out_fig_2._pipeline_file_callback_fn = curr_active_pipeline.output_figure # lambda args, kwargs: self.write_to_file(args, kwargs, curr_active_pipeline)\n",
    "_out_fig_2.scatter_props_fn = _return_scatter_props_fn"
   ]
  },
  {
   "cell_type": "code",
   "execution_count": null,
   "id": "50e9d06b",
   "metadata": {},
   "outputs": [],
   "source": [
    "LxC_aclus = _out_fig_2.computation_result.LxC_aclus\n",
    "SxC_aclus = _out_fig_2.computation_result.SxC_aclus\n",
    "\n",
    "LxC_aclus"
   ]
  },
  {
   "cell_type": "code",
   "execution_count": null,
   "id": "96c498f8",
   "metadata": {},
   "outputs": [],
   "source": [
    "from pyphoplacecellanalysis.General.Mixins.ExportHelpers import FigureOutputManager, FigureOutputLocation, ContextToPathMode\n",
    "\n",
    "registered_output_files = {}\n",
    "\n",
    "def output_figure(final_context: IdentifyingContext, fig, write_vector_format:bool=False, write_png:bool=True, debug_print=True):\n",
    "    \"\"\" outputs the figure using the provided context. \"\"\"\n",
    "    from pyphoplacecellanalysis.General.Mixins.ExportHelpers import build_and_write_to_file\n",
    "    def register_output_file(output_path, output_metadata=None):\n",
    "        \"\"\" registers a new output file for the pipeline \"\"\"\n",
    "        print(f'register_output_file(output_path: {output_path}, ...)')\n",
    "        registered_output_files[output_path] = output_metadata or {}\n",
    "\n",
    "    fig_out_man = FigureOutputManager(figure_output_location=FigureOutputLocation.DAILY_PROGRAMMATIC_OUTPUT_FOLDER, context_to_path_mode=ContextToPathMode.HIERARCHY_UNIQUE)\n",
    "    active_out_figure_paths = build_and_write_to_file(fig, final_context, fig_out_man, write_vector_format=write_vector_format, write_png=write_png, register_output_file_fn=register_output_file)\n",
    "    return active_out_figure_paths, final_context\n",
    "\n",
    "\n",
    "# Set callback, the only self-specific property\n",
    "_out_fig_2._pipeline_file_callback_fn = output_figure"
   ]
  },
  {
   "cell_type": "code",
   "execution_count": null,
   "id": "1db0f1d5",
   "metadata": {},
   "outputs": [],
   "source": [
    "_out_fig_2.computation_result.Fig2_Laps_FR"
   ]
  },
  {
   "cell_type": "code",
   "execution_count": null,
   "id": "da17b920",
   "metadata": {},
   "outputs": [],
   "source": []
  },
  {
   "cell_type": "code",
   "execution_count": null,
   "id": "17ef9f3d",
   "metadata": {},
   "outputs": [],
   "source": [
    "_out_fig_2.computation_result.Fig2_Laps_FR"
   ]
  },
  {
   "cell_type": "code",
   "execution_count": null,
   "id": "a694ec1c",
   "metadata": {},
   "outputs": [],
   "source": [
    "# Showing\n",
    "restore_previous_matplotlib_settings_callback = matplotlib_configuration_update(is_interactive=True, backend='Qt5Agg')\n",
    "# Perform interactive Matplotlib operations with 'Qt5Agg' backend\n",
    "_fig_2_theta_out, _fig_2_replay_out = _out_fig_2.display(active_context=global_multi_session_context, title_modifier_fn=lambda original_title: f\"{original_title} ({num_sessions} sessions)\", save_figure=True)\n",
    "\t\n",
    "_out_fig_2.perform_save()"
   ]
  },
  {
   "cell_type": "markdown",
   "id": "32781c8b",
   "metadata": {
    "jp-MarkdownHeadingCollapsed": true,
    "tags": []
   },
   "source": [
    "### Single Session testing:\n"
   ]
  },
  {
   "cell_type": "code",
   "execution_count": null,
   "id": "9311a987",
   "metadata": {},
   "outputs": [],
   "source": [
    "_test_out = global_batch_run.execute_session(session_context=curr_sess_context, force_reload=True, skip_extended_batch_computations=True, computation_functions_name_includelist =['_perform_baseline_placefield_computation'], active_session_computation_configs=None) # can override `active_session_computation_configs` if we want to set custom ones like only the laps.)\n",
    "_test_out\n",
    "\n",
    "# global_batch_run.execute_session(session_context=curr_sess_context, force_reload=True, skip_extended_batch_computations=True, **{'computation_functions_name_includelist': ['_perform_baseline_placefield_computation'], 'active_session_computation_configs': None}) # can override `active_session_computation_configs` if we want to set custom ones like only the laps.)\n",
    "\n",
    "# 23.5s"
   ]
  },
  {
   "cell_type": "code",
   "execution_count": null,
   "id": "ddf2bb67",
   "metadata": {
    "tags": []
   },
   "outputs": [],
   "source": [
    "\n",
    "full_good_dirs = [k for k, v in global_batch_run.session_batch_errors.items() if v is None]\n",
    "bad_dirs = [k for k, v in global_batch_run.session_batch_errors.items() if v is not None]\n",
    "full_good_dirs\n",
    "bad_dirs"
   ]
  },
  {
   "cell_type": "code",
   "execution_count": null,
   "id": "9d5f73f9",
   "metadata": {
    "tags": []
   },
   "outputs": [],
   "source": [
    "global_batch_run.session_batch_status"
   ]
  },
  {
   "cell_type": "code",
   "execution_count": null,
   "id": "0dcad70a",
   "metadata": {},
   "outputs": [],
   "source": [
    "global_batch_run.session_batch_status\n",
    "global_batch_run.session_batch_errors"
   ]
  },
  {
   "cell_type": "markdown",
   "id": "15faf2bb",
   "metadata": {
    "jp-MarkdownHeadingCollapsed": true,
    "tags": []
   },
   "source": [
    "## Get good sessions for use in the specific session processing notebook:"
   ]
  },
  {
   "cell_type": "code",
   "execution_count": null,
   "id": "ed516134",
   "metadata": {
    "tags": []
   },
   "outputs": [],
   "source": [
    "batch_progress_df = global_batch_run.to_dataframe(expand_context=True, good_only=False) # all\n",
    "good_only_batch_progress_df = global_batch_run.to_dataframe(expand_context=True, good_only=True)\n",
    "good_only_batch_progress_df"
   ]
  },
  {
   "cell_type": "code",
   "execution_count": null,
   "id": "bdf02efc",
   "metadata": {
    "tags": []
   },
   "outputs": [],
   "source": [
    "## Get the list of sessions that are completely ready to process:\n",
    "full_good_ready_to_process_sessions = list(good_only_batch_progress_df['context'].to_numpy())\n",
    "full_good_ready_to_process_sessions\n",
    "# Get good sessions for use in the specific session processing notebook:"
   ]
  },
  {
   "cell_type": "code",
   "execution_count": null,
   "id": "8f1ad809",
   "metadata": {
    "tags": []
   },
   "outputs": [],
   "source": [
    "run[\"good_sessions_list\"].extend(full_good_ready_to_process_sessions)"
   ]
  },
  {
   "cell_type": "code",
   "execution_count": null,
   "id": "c636e3b9",
   "metadata": {
    "tags": []
   },
   "outputs": [],
   "source": [
    "run.stop()\n",
    "project.stop()"
   ]
  },
  {
   "cell_type": "code",
   "execution_count": null,
   "id": "8caf1322",
   "metadata": {
    "tags": []
   },
   "outputs": [],
   "source": [
    "\n",
    "print(\",\\n\".join([ctx.get_initialization_code_string() for ctx in full_good_ready_to_process_sessions])) # List definitions\n",
    "\n",
    "# [IdentifyingContext(format_name='kdiba',animal='gor01',exper_name='one',session_name='2006-6-08_14-26-15'),\n",
    "# IdentifyingContext(format_name='kdiba',animal='gor01',exper_name='one',session_name='2006-6-09_1-22-43'),\n",
    "# IdentifyingContext(format_name='kdiba',animal='gor01',exper_name='one',session_name='2006-6-12_15-55-31'),\n",
    "# IdentifyingContext(format_name='kdiba',animal='gor01',exper_name='one',session_name='2006-6-13_14-42-6'),\n",
    "# IdentifyingContext(format_name='kdiba',animal='gor01',exper_name='two',session_name='2006-6-07_16-40-19'),\n",
    "# IdentifyingContext(format_name='kdiba',animal='gor01',exper_name='two',session_name='2006-6-12_16-53-46'),\n",
    "# IdentifyingContext(format_name='kdiba',animal='vvp01',exper_name='one',session_name='2006-4-09_17-29-30')]"
   ]
  },
  {
   "cell_type": "code",
   "execution_count": null,
   "id": "ee5a4bfe",
   "metadata": {
    "tags": []
   },
   "outputs": [],
   "source": [
    "print(\"\\ncurr_context = \".join([ctx.get_initialization_code_string() for ctx in full_good_ready_to_process_sessions])) # Line definitions\n",
    "\n",
    "# curr_context = IdentifyingContext(format_name='kdiba',animal='gor01',exper_name='one',session_name='2006-6-08_14-26-15')\n",
    "# curr_context = IdentifyingContext(format_name='kdiba',animal='gor01',exper_name='one',session_name='2006-6-09_1-22-43')\n",
    "# curr_context = IdentifyingContext(format_name='kdiba',animal='gor01',exper_name='one',session_name='2006-6-12_15-55-31')\n",
    "# curr_context = IdentifyingContext(format_name='kdiba',animal='gor01',exper_name='one',session_name='2006-6-13_14-42-6')\n",
    "# curr_context = IdentifyingContext(format_name='kdiba',animal='gor01',exper_name='two',session_name='2006-6-07_16-40-19')\n",
    "# curr_context = IdentifyingContext(format_name='kdiba',animal='gor01',exper_name='two',session_name='2006-6-12_16-53-46')\n",
    "# curr_context = IdentifyingContext(format_name='kdiba',animal='vvp01',exper_name='one',session_name='2006-4-09_17-29-30')"
   ]
  },
  {
   "cell_type": "code",
   "execution_count": null,
   "id": "e5689d1d-6400-4f87-be0e-a184a1d5bee4",
   "metadata": {
    "tags": []
   },
   "outputs": [],
   "source": [
    "good_only_batch_progress_df"
   ]
  },
  {
   "cell_type": "code",
   "execution_count": null,
   "id": "7c82aedf-b024-4f07-b1a9-350730b4db8c",
   "metadata": {
    "tags": []
   },
   "outputs": [],
   "source": [
    "from datetime import datetime\n",
    "\n",
    "# datetime object containing current date and time\n",
    "save_time = datetime.now()\n",
    " \n",
    "print(\"save_time =\", save_time)\n",
    "\n",
    "# dd/mm/YY H:M:S\n",
    "dt_string = save_time.strftime(\"%Y-%m-%d_%I-%M%p\")\n",
    "print(\"date and time =\", dt_string)"
   ]
  },
  {
   "cell_type": "code",
   "execution_count": null,
   "id": "ac7bc6bd-5b34-41d0-b906-b0ad9927b08d",
   "metadata": {
    "tags": []
   },
   "outputs": [],
   "source": [
    "## Get output file paths:\n",
    "completed_pipeline_filename = 'loadedSessPickle.pkl'\n",
    "completed_global_computations_filename = 'outputs/global_computation_results.pkl'\n",
    "\n",
    "full_good_ready_to_process_session_paths = list(good_only_batch_progress_df['basedirs'].to_numpy())\n",
    "session_paths_output_folders = [sess_path.joinpath('outputs').resolve() for sess_path in full_good_ready_to_process_session_paths]\n",
    "\n",
    "completed_pipeline_file_paths = [sess_path.joinpath(completed_pipeline_filename).resolve() for sess_path in full_good_ready_to_process_session_paths]\n",
    "completed_global_computations_file_paths = [sess_path.joinpath(completed_global_computations_filename).resolve() for sess_path in full_good_ready_to_process_session_paths]\n",
    "completed_global_computations_file_paths"
   ]
  },
  {
   "cell_type": "code",
   "execution_count": null,
   "id": "8ab75122",
   "metadata": {},
   "outputs": [],
   "source": [
    "# Countable Additivity \n",
    "# Any countable collections of points is size 0\n",
    "\n"
   ]
  },
  {
   "cell_type": "code",
   "execution_count": null,
   "id": "2af06e5e",
   "metadata": {},
   "outputs": [],
   "source": []
  }
 ],
 "metadata": {
  "kernelspec": {
   "display_name": "Python 3 (ipykernel)",
   "language": "python",
   "name": "python3"
  },
  "language_info": {
   "codemirror_mode": {
    "name": "ipython",
    "version": 3
   },
   "file_extension": ".py",
   "mimetype": "text/x-python",
   "name": "python",
   "nbconvert_exporter": "python",
   "pygments_lexer": "ipython3",
   "version": "3.9.13"
  },
  "toc-showmarkdowntxt": false,
  "toc-showtags": false
 },
 "nbformat": 4,
 "nbformat_minor": 5
}
