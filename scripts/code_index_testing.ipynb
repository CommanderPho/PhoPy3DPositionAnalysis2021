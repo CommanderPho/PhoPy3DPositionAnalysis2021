{
 "cells": [
  {
   "cell_type": "code",
   "execution_count": 1,
   "metadata": {},
   "outputs": [
    {
     "name": "stdout",
     "output_type": "stream",
     "text": [
      "Automatic pdb calling has been turned OFF\n"
     ]
    }
   ],
   "source": [
    "%config IPCompleter.use_jedi = False\n",
    "%pdb off\n",
    "# %load_ext viztracer\n",
    "# from viztracer import VizTracer\n",
    "%load_ext autoreload\n",
    "%autoreload 3\n",
    "import sys\n",
    "import subprocess\n",
    "import inspect\n",
    "import pathlib\n",
    "from pathlib import Path\n",
    "\n",
    "from pyphocorehelpers.Filesystem.source_code_helpers import find_py_files\n",
    "from pyphocorehelpers.Filesystem.generate_code_index import build_code_index"
   ]
  },
  {
   "cell_type": "code",
   "execution_count": null,
   "metadata": {},
   "outputs": [],
   "source": []
  },
  {
   "cell_type": "code",
   "execution_count": 12,
   "metadata": {},
   "outputs": [
    {
     "name": "stdout",
     "output_type": "stream",
     "text": [
      "project_name: NeuroPy\n",
      "\tfound 100 .py files in project.\n"
     ]
    }
   ],
   "source": [
    "project_outputs = build_code_index(\"C:/Users/pho/repos/Spike3DWorkEnv/NeuroPy/neuropy\", project_name='NeuroPy')\n",
    "# project_path, project_db_file_path, tags_file_path, cscope_out_file_path, cscope_files_file_path = project_outputs # unpack\n",
    "\n"
   ]
  },
  {
   "cell_type": "code",
   "execution_count": 13,
   "metadata": {},
   "outputs": [
    {
     "name": "stdout",
     "output_type": "stream",
     "text": [
      "project_name: pyPhoCoreHelpers\n",
      "\tfound 57 .py files in project.\n"
     ]
    }
   ],
   "source": [
    "project_outputs = build_code_index(\"C:/Users/pho/repos/Spike3DWorkEnv/pyPhoCoreHelpers/src\", project_name='pyPhoCoreHelpers')"
   ]
  },
  {
   "cell_type": "code",
   "execution_count": 14,
   "metadata": {},
   "outputs": [
    {
     "name": "stdout",
     "output_type": "stream",
     "text": [
      "project_name: pyPhoPlaceCellAnalysis\n",
      "\tfound 232 .py files in project.\n"
     ]
    }
   ],
   "source": [
    "project_outputs = build_code_index(\"C:/Users/pho/repos/Spike3DWorkEnv/pyPhoPlaceCellAnalysis/src\", exclude_dirs = [\"pyphoplacecellanalysis/External\"], project_name='pyPhoPlaceCellAnalysis')"
   ]
  },
  {
   "cell_type": "code",
   "execution_count": 3,
   "metadata": {},
   "outputs": [
    {
     "ename": "NameError",
     "evalue": "name '__file__' is not defined",
     "output_type": "error",
     "traceback": [
      "\u001b[1;31m---------------------------------------------------------------------------\u001b[0m",
      "\u001b[1;31mNameError\u001b[0m                                 Traceback (most recent call last)",
      "Cell \u001b[1;32mIn[3], line 6\u001b[0m\n\u001b[0;32m      3\u001b[0m \u001b[39mimport\u001b[39;00m \u001b[39minspect\u001b[39;00m\n\u001b[0;32m      4\u001b[0m \u001b[39mimport\u001b[39;00m \u001b[39mos\u001b[39;00m\n\u001b[1;32m----> 6\u001b[0m current_dir \u001b[39m=\u001b[39m os\u001b[39m.\u001b[39mpath\u001b[39m.\u001b[39mjoin(os\u001b[39m.\u001b[39mpath\u001b[39m.\u001b[39mdirname(os\u001b[39m.\u001b[39mpath\u001b[39m.\u001b[39mabspath(\u001b[39m__file__\u001b[39;49m)))\n\u001b[0;32m      7\u001b[0m current_module_name \u001b[39m=\u001b[39m os\u001b[39m.\u001b[39mpath\u001b[39m.\u001b[39msplitext(os\u001b[39m.\u001b[39mpath\u001b[39m.\u001b[39mbasename(current_dir))[\u001b[39m0\u001b[39m]\n\u001b[0;32m      8\u001b[0m \u001b[39mfor\u001b[39;00m file \u001b[39min\u001b[39;00m glob\u001b[39m.\u001b[39mglob(current_dir \u001b[39m+\u001b[39m \u001b[39m\"\u001b[39m\u001b[39m/*.py\u001b[39m\u001b[39m\"\u001b[39m):\n",
      "\u001b[1;31mNameError\u001b[0m: name '__file__' is not defined"
     ]
    }
   ],
   "source": [
    "import glob\n",
    "import importlib\n",
    "import inspect\n",
    "import os\n",
    "\n",
    "current_dir = os.path.join(os.path.dirname(os.path.abspath(__file__)))\n",
    "current_module_name = os.path.splitext(os.path.basename(current_dir))[0]\n",
    "for file in glob.glob(current_dir + \"/*.py\"):\n",
    "     name = os.path.splitext(os.path.basename(file))[0]\n",
    "\n",
    "     # Ignore __ files\n",
    "     if name.startswith(\"__\"):\n",
    "         continue\n",
    "     module = importlib.import_module(\".\" + name,package=current_module_name)\n",
    "\n",
    "     for member in dir(module):\n",
    "         handler_class = getattr(module, member)\n",
    "\n",
    "         if handler_class and inspect.isclass(handler_class):\n",
    "             print(member)\n",
    "             \n"
   ]
  },
  {
   "cell_type": "code",
   "execution_count": null,
   "metadata": {},
   "outputs": [],
   "source": [
    "\n",
    "\n",
    "classes = [cls_name for cls_name, cls_obj in inspect.getmembers(sys.modules['test_cls']) if inspect.isclass(cls_obj)]\n",
    "print(classes)\n"
   ]
  },
  {
   "cell_type": "markdown",
   "metadata": {},
   "source": [
    "# Pre 2023-07-28 Testing"
   ]
  },
  {
   "cell_type": "code",
   "execution_count": null,
   "metadata": {},
   "outputs": [],
   "source": [
    "root_project_path = pathlib.Path(\"C:/Users/pho/repos/Spike3DWorkEnv/\")\n",
    "cscope_files = root_project_path / \"cscope.files\"\n",
    "cscope_out = root_project_path / \"cscope.out\"\n",
    "tags = root_project_path / \"tags\"\n",
    "db_path = root_project_path / \"myproject.db\"\n",
    "\n",
    "repos_source_paths = [\"C:/Users/pho/repos/Spike3DWorkEnv/NeuroPy/neuropy\", \"C:/Users/pho/repos/Spike3DWorkEnv/pyPhoCoreHelpers/src\", \"C:/Users/pho/repos/Spike3DWorkEnv/pyPhoPlaceCellAnalysis/src\"]\n",
    "repos_exclude_dir_lists = [None, None, [\"pyphoplacecellanalysis/External\"]]\n",
    "\n",
    "all_found_files = []\n",
    "for a_src_path, exclude_dirs in zip(repos_source_paths, repos_exclude_dir_lists):\n",
    "    all_found_files.extend(find_py_files(a_src_path, exclude_dirs = exclude_dirs))\n",
    "\n",
    "# all_found_files\n",
    "\n",
    "# find_py_files(\"C:/Users/pho/repos/Spike3DWorkEnv/NeuroPy/neuropy\")\n",
    "# find_py_files(\"C:/Users/pho/repos/Spike3DWorkEnv/pyPhoCoreHelpers/src\")\n",
    "# find_py_files(\"C:/Users/pho/repos/Spike3DWorkEnv/pyPhoPlaceCellAnalysis/src\", exclude_dirs = [\"pyphoplacecellanalysis/External\"])\n",
    "\n"
   ]
  },
  {
   "cell_type": "code",
   "execution_count": null,
   "metadata": {},
   "outputs": [],
   "source": [
    "# Write the file paths to cscope.files\n",
    "with open(cscope_files, \"w\") as f:\n",
    "\tprint(f'writing to {cscope_files}...')\n",
    "\tfor file_path in all_found_files:\n",
    "\t\tf.write(str(file_path) + \"\\n\")\n",
    "\tprint('\\tdone.')"
   ]
  },
  {
   "attachments": {},
   "cell_type": "markdown",
   "metadata": {},
   "source": [
    "# Old Full Implementation"
   ]
  },
  {
   "cell_type": "code",
   "execution_count": null,
   "metadata": {},
   "outputs": [],
   "source": [
    "\n",
    "def build_code_index(project_path, exclude_dirs=[]):\n",
    "    project_path = pathlib.Path(project_path)\n",
    "    cscope_files = project_path / \"cscope.files\"\n",
    "    cscope_out = project_path / \"cscope.out\"\n",
    "    tags = project_path / \"tags\"\n",
    "    db_path = project_path / \"myproject.db\"\n",
    "\n",
    "    # Find all .py files in the project directory and its subdirectories\n",
    "    py_files = project_path.glob(\"**/*.py\")\n",
    "    py_files = [file_path for file_path in py_files] # to list\n",
    "\n",
    "    excluded_py_files = []\n",
    "    if exclude_dirs is not None:\n",
    "        # Find all .py files in the project directory and its subdirectories, excluding the 'my_exclude_dir' directory\n",
    "        exclude_paths = [project_path.joinpath(a_dir) for a_dir in exclude_dirs]\n",
    "        for an_exclude_path in exclude_paths:\n",
    "            excluded_py_files.extend([file_path for file_path in an_exclude_path.glob(\"**/*.py\")])\n",
    "\n",
    "    included_py_files = [x for x in py_files if x not in excluded_py_files]\n",
    "\n",
    "    # Write the file paths to cscope.files\n",
    "    with open(project_path / \"cscope.files\", \"w\") as f:\n",
    "        for file_path in included_py_files:\n",
    "            f.write(str(file_path) + \"\\n\")\n",
    "\n",
    "    # Generate the cscope index\n",
    "    subprocess.run([\"pycscope\", \"-i\", str(cscope_files)], cwd=str(project_path), check=True)\n",
    "    \n",
    "    # Generate the ctags index\n",
    "    subprocess.run([\"ctags\", \"--fields=+i\", \"-n\", \"-L\", str(cscope_files)], cwd=str(project_path), check=True)\n",
    "    \n",
    "    # Generate the CodeQL database\n",
    "    subprocess.run([\"cqmakedb\", \"-s\", str(db_path), \"-c\", str(cscope_out), \"-t\", str(tags), \"-p\"], cwd=str(project_path), check=True)\n",
    "\n"
   ]
  },
  {
   "cell_type": "code",
   "execution_count": null,
   "metadata": {},
   "outputs": [],
   "source": [
    "build_code_index(\"C:/Users/pho/repos/Spike3DWorkEnv/NeuroPy/neuropy\")"
   ]
  },
  {
   "cell_type": "code",
   "execution_count": null,
   "metadata": {},
   "outputs": [],
   "source": [
    "build_code_index(\"C:/Users/pho/repos/Spike3DWorkEnv/pyPhoCoreHelpers/src\")"
   ]
  },
  {
   "cell_type": "code",
   "execution_count": null,
   "metadata": {},
   "outputs": [],
   "source": [
    "build_code_index(\"C:/Users/pho/repos/Spike3DWorkEnv/pyPhoPlaceCellAnalysis/src\", exclude_dirs = [\"pyphoplacecellanalysis/External\"])"
   ]
  }
 ],
 "metadata": {
  "kernelspec": {
   "display_name": ".venv",
   "language": "python",
   "name": "python3"
  },
  "language_info": {
   "codemirror_mode": {
    "name": "ipython",
    "version": 3
   },
   "file_extension": ".py",
   "mimetype": "text/x-python",
   "name": "python",
   "nbconvert_exporter": "python",
   "pygments_lexer": "ipython3",
   "version": "3.9.13"
  },
  "orig_nbformat": 4
 },
 "nbformat": 4,
 "nbformat_minor": 2
}
