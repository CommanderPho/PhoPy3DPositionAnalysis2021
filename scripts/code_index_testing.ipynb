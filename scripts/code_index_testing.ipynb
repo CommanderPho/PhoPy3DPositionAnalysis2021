{
 "cells": [
  {
   "cell_type": "code",
   "execution_count": 1,
   "metadata": {},
   "outputs": [],
   "source": [
    "import subprocess\n",
    "import pathlib\n",
    "\n",
    "# from scripts.helpers.source_code_helpers import find_py_files\n",
    "# from helpers.source_code_helpers import find_py_files\n",
    "from pyphocorehelpers.Filesystem.source_code_helpers import find_py_files\n",
    "from pyphocorehelpers.Filesystem.generate_code_index import build_code_index\n",
    "# from generate_code_index import build_code_index"
   ]
  },
  {
   "cell_type": "code",
   "execution_count": 2,
   "metadata": {},
   "outputs": [],
   "source": [
    "root_project_path = pathlib.Path(\"C:/Users/pho/repos/Spike3DWorkEnv/\")\n",
    "cscope_files = root_project_path / \"cscope.files\"\n",
    "cscope_out = root_project_path / \"cscope.out\"\n",
    "tags = root_project_path / \"tags\"\n",
    "db_path = root_project_path / \"myproject.db\"\n",
    "\n",
    "repos_source_paths = [\"C:/Users/pho/repos/Spike3DWorkEnv/NeuroPy/neuropy\", \"C:/Users/pho/repos/Spike3DWorkEnv/pyPhoCoreHelpers/src\", \"C:/Users/pho/repos/Spike3DWorkEnv/pyPhoPlaceCellAnalysis/src\"]\n",
    "repos_exclude_dir_lists = [None, None, [\"pyphoplacecellanalysis/External\"]]\n",
    "\n",
    "all_found_files = []\n",
    "for a_src_path, exclude_dirs in zip(repos_source_paths, repos_exclude_dir_lists):\n",
    "    all_found_files.extend(find_py_files(a_src_path, exclude_dirs = exclude_dirs))\n",
    "\n",
    "# all_found_files\n",
    "\n",
    "# find_py_files(\"C:/Users/pho/repos/Spike3DWorkEnv/NeuroPy/neuropy\")\n",
    "# find_py_files(\"C:/Users/pho/repos/Spike3DWorkEnv/pyPhoCoreHelpers/src\")\n",
    "# find_py_files(\"C:/Users/pho/repos/Spike3DWorkEnv/pyPhoPlaceCellAnalysis/src\", exclude_dirs = [\"pyphoplacecellanalysis/External\"])\n",
    "\n"
   ]
  },
  {
   "cell_type": "code",
   "execution_count": 3,
   "metadata": {},
   "outputs": [
    {
     "name": "stdout",
     "output_type": "stream",
     "text": [
      "writing to C:\\Users\\pho\\repos\\Spike3DWorkEnv\\cscope.files...\n",
      "\tdone.\n"
     ]
    }
   ],
   "source": [
    "# Write the file paths to cscope.files\n",
    "with open(cscope_files, \"w\") as f:\n",
    "\tprint(f'writing to {cscope_files}...')\n",
    "\tfor file_path in all_found_files:\n",
    "\t\tf.write(str(file_path) + \"\\n\")\n",
    "\tprint('\\tdone.')"
   ]
  },
  {
   "attachments": {},
   "cell_type": "markdown",
   "metadata": {},
   "source": [
    "# Full Implementation\n"
   ]
  },
  {
   "cell_type": "code",
   "execution_count": null,
   "metadata": {},
   "outputs": [],
   "source": [
    "\n",
    "def build_code_index(project_path, exclude_dirs=[]):\n",
    "    project_path = pathlib.Path(project_path)\n",
    "    cscope_files = project_path / \"cscope.files\"\n",
    "    cscope_out = project_path / \"cscope.out\"\n",
    "    tags = project_path / \"tags\"\n",
    "    db_path = project_path / \"myproject.db\"\n",
    "\n",
    "    # Find all .py files in the project directory and its subdirectories\n",
    "    py_files = project_path.glob(\"**/*.py\")\n",
    "    py_files = [file_path for file_path in py_files] # to list\n",
    "\n",
    "    excluded_py_files = []\n",
    "    if exclude_dirs is not None:\n",
    "        # Find all .py files in the project directory and its subdirectories, excluding the 'my_exclude_dir' directory\n",
    "        exclude_paths = [project_path.joinpath(a_dir) for a_dir in exclude_dirs]\n",
    "        for an_exclude_path in exclude_paths:\n",
    "            excluded_py_files.extend([file_path for file_path in an_exclude_path.glob(\"**/*.py\")])\n",
    "\n",
    "    included_py_files = [x for x in py_files if x not in excluded_py_files]\n",
    "\n",
    "    # Write the file paths to cscope.files\n",
    "    with open(project_path / \"cscope.files\", \"w\") as f:\n",
    "        for file_path in included_py_files:\n",
    "            f.write(str(file_path) + \"\\n\")\n",
    "\n",
    "    # Generate the cscope index\n",
    "    subprocess.run([\"pycscope\", \"-i\", str(cscope_files)], cwd=str(project_path), check=True)\n",
    "    \n",
    "    # Generate the ctags index\n",
    "    subprocess.run([\"ctags\", \"--fields=+i\", \"-n\", \"-L\", str(cscope_files)], cwd=str(project_path), check=True)\n",
    "    \n",
    "    # Generate the CodeQL database\n",
    "    subprocess.run([\"cqmakedb\", \"-s\", str(db_path), \"-c\", str(cscope_out), \"-t\", str(tags), \"-p\"], cwd=str(project_path), check=True)\n",
    "\n"
   ]
  },
  {
   "cell_type": "code",
   "execution_count": 4,
   "metadata": {},
   "outputs": [],
   "source": [
    "build_code_index(\"C:/Users/pho/repos/Spike3DWorkEnv/NeuroPy/neuropy\")"
   ]
  },
  {
   "cell_type": "code",
   "execution_count": 5,
   "metadata": {},
   "outputs": [],
   "source": [
    "build_code_index(\"C:/Users/pho/repos/Spike3DWorkEnv/pyPhoCoreHelpers/src\")"
   ]
  },
  {
   "cell_type": "code",
   "execution_count": 6,
   "metadata": {},
   "outputs": [
    {
     "ename": "CalledProcessError",
     "evalue": "Command '['cqmakedb', '-s', 'C:\\\\Users\\\\pho\\\\repos\\\\Spike3DWorkEnv\\\\pyPhoPlaceCellAnalysis\\\\src\\\\myproject.db', '-c', 'C:\\\\Users\\\\pho\\\\repos\\\\Spike3DWorkEnv\\\\pyPhoPlaceCellAnalysis\\\\src\\\\cscope.out', '-t', 'C:\\\\Users\\\\pho\\\\repos\\\\Spike3DWorkEnv\\\\pyPhoPlaceCellAnalysis\\\\src\\\\tags', '-p']' returned non-zero exit status 1.",
     "output_type": "error",
     "traceback": [
      "\u001b[1;31m---------------------------------------------------------------------------\u001b[0m",
      "\u001b[1;31mCalledProcessError\u001b[0m                        Traceback (most recent call last)",
      "Cell \u001b[1;32mIn[6], line 1\u001b[0m\n\u001b[1;32m----> 1\u001b[0m build_code_index(\u001b[39m\"\u001b[39;49m\u001b[39mC:/Users/pho/repos/Spike3DWorkEnv/pyPhoPlaceCellAnalysis/src\u001b[39;49m\u001b[39m\"\u001b[39;49m, exclude_dirs \u001b[39m=\u001b[39;49m [\u001b[39m\"\u001b[39;49m\u001b[39mpyphoplacecellanalysis/External\u001b[39;49m\u001b[39m\"\u001b[39;49m])\n",
      "File \u001b[1;32m~\\repos\\Spike3DWorkEnv\\pyPhoCoreHelpers\\src\\pyphocorehelpers\\Filesystem\\generate_code_index.py:68\u001b[0m, in \u001b[0;36mbuild_code_index\u001b[1;34m(project_path, exclude_dirs)\u001b[0m\n\u001b[0;32m     65\u001b[0m subprocess\u001b[39m.\u001b[39mrun([\u001b[39m\"\u001b[39m\u001b[39mctags\u001b[39m\u001b[39m\"\u001b[39m, \u001b[39m\"\u001b[39m\u001b[39m--fields=+i\u001b[39m\u001b[39m\"\u001b[39m, \u001b[39m\"\u001b[39m\u001b[39m-n\u001b[39m\u001b[39m\"\u001b[39m, \u001b[39m\"\u001b[39m\u001b[39m-L\u001b[39m\u001b[39m\"\u001b[39m, \u001b[39mstr\u001b[39m(cscope_files)], cwd\u001b[39m=\u001b[39m\u001b[39mstr\u001b[39m(project_path), check\u001b[39m=\u001b[39m\u001b[39mTrue\u001b[39;00m)\n\u001b[0;32m     67\u001b[0m \u001b[39m# Generate the CodeQL database\u001b[39;00m\n\u001b[1;32m---> 68\u001b[0m subprocess\u001b[39m.\u001b[39;49mrun([\u001b[39m\"\u001b[39;49m\u001b[39mcqmakedb\u001b[39;49m\u001b[39m\"\u001b[39;49m, \u001b[39m\"\u001b[39;49m\u001b[39m-s\u001b[39;49m\u001b[39m\"\u001b[39;49m, \u001b[39mstr\u001b[39;49m(db_path), \u001b[39m\"\u001b[39;49m\u001b[39m-c\u001b[39;49m\u001b[39m\"\u001b[39;49m, \u001b[39mstr\u001b[39;49m(cscope_out), \u001b[39m\"\u001b[39;49m\u001b[39m-t\u001b[39;49m\u001b[39m\"\u001b[39;49m, \u001b[39mstr\u001b[39;49m(tags), \u001b[39m\"\u001b[39;49m\u001b[39m-p\u001b[39;49m\u001b[39m\"\u001b[39;49m], cwd\u001b[39m=\u001b[39;49m\u001b[39mstr\u001b[39;49m(project_path), check\u001b[39m=\u001b[39;49m\u001b[39mTrue\u001b[39;49;00m)\n",
      "File \u001b[1;32m~\\.pyenv\\pyenv-win\\versions\\3.9.13\\lib\\subprocess.py:528\u001b[0m, in \u001b[0;36mrun\u001b[1;34m(input, capture_output, timeout, check, *popenargs, **kwargs)\u001b[0m\n\u001b[0;32m    526\u001b[0m     retcode \u001b[39m=\u001b[39m process\u001b[39m.\u001b[39mpoll()\n\u001b[0;32m    527\u001b[0m     \u001b[39mif\u001b[39;00m check \u001b[39mand\u001b[39;00m retcode:\n\u001b[1;32m--> 528\u001b[0m         \u001b[39mraise\u001b[39;00m CalledProcessError(retcode, process\u001b[39m.\u001b[39margs,\n\u001b[0;32m    529\u001b[0m                                  output\u001b[39m=\u001b[39mstdout, stderr\u001b[39m=\u001b[39mstderr)\n\u001b[0;32m    530\u001b[0m \u001b[39mreturn\u001b[39;00m CompletedProcess(process\u001b[39m.\u001b[39margs, retcode, stdout, stderr)\n",
      "\u001b[1;31mCalledProcessError\u001b[0m: Command '['cqmakedb', '-s', 'C:\\\\Users\\\\pho\\\\repos\\\\Spike3DWorkEnv\\\\pyPhoPlaceCellAnalysis\\\\src\\\\myproject.db', '-c', 'C:\\\\Users\\\\pho\\\\repos\\\\Spike3DWorkEnv\\\\pyPhoPlaceCellAnalysis\\\\src\\\\cscope.out', '-t', 'C:\\\\Users\\\\pho\\\\repos\\\\Spike3DWorkEnv\\\\pyPhoPlaceCellAnalysis\\\\src\\\\tags', '-p']' returned non-zero exit status 1."
     ]
    }
   ],
   "source": [
    "build_code_index(\"C:/Users/pho/repos/Spike3DWorkEnv/pyPhoPlaceCellAnalysis/src\", exclude_dirs = [\"pyphoplacecellanalysis/External\"])"
   ]
  },
  {
   "cell_type": "code",
   "execution_count": null,
   "metadata": {},
   "outputs": [],
   "source": [
    "'src'\n",
    "'src'\n",
    "\n",
    "\n",
    "\"C:/Users/pho/repos/Spike3DWorkEnv/pyPhoPlaceCellAnalysis/src\", exclude_dirs = [\"pyphoplacecellanalysis/External\"]"
   ]
  }
 ],
 "metadata": {
  "kernelspec": {
   "display_name": ".venv",
   "language": "python",
   "name": "python3"
  },
  "language_info": {
   "codemirror_mode": {
    "name": "ipython",
    "version": 3
   },
   "file_extension": ".py",
   "mimetype": "text/x-python",
   "name": "python",
   "nbconvert_exporter": "python",
   "pygments_lexer": "ipython3",
   "version": "3.9.13"
  },
  "orig_nbformat": 4
 },
 "nbformat": 4,
 "nbformat_minor": 2
}
