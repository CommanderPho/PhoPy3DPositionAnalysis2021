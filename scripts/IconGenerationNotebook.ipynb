{
 "cells": [
  {
   "cell_type": "code",
   "execution_count": 5,
   "metadata": {},
   "outputs": [
    {
     "name": "stdout",
     "output_type": "stream",
     "text": [
      "Automatic pdb calling has been turned OFF\n",
      "The autoreload extension is already loaded. To reload it, use:\n",
      "  %reload_ext autoreload\n"
     ]
    }
   ],
   "source": [
    "%config IPCompleter.use_jedi = False\n",
    "%pdb off\n",
    "# %load_ext viztracer\n",
    "# from viztracer import VizTracer\n",
    "%load_ext autoreload\n",
    "%autoreload 3\n",
    "import sys\n",
    "from typing import Dict, List, Tuple, Optional\n",
    "from pathlib import Path\n",
    "from PIL import Image\n",
    "import cairosvg\n",
    "from copy import deepcopy\n",
    "# required to enable non-blocking interaction:\n",
    "%gui qt5\n",
    "# from test_generate_icon_with_overlay import build_icon, build_icon_example_grid\n",
    "from pyphocorehelpers.image_helpers import build_icon, build_icon_example_grid"
   ]
  },
  {
   "cell_type": "code",
   "execution_count": 2,
   "metadata": {},
   "outputs": [
    {
     "name": "stdout",
     "output_type": "stream",
     "text": [
      "overlayIconsParentPath: \"C:/Users/pho/repos/VSCode Extensions/vscode-codicons/src/icons\"\n"
     ]
    }
   ],
   "source": [
    "baseIconParentPath = Path(r'C:\\Users\\pho\\repos\\Spike3DWorkEnv\\Spike3D\\EXTERNAL\\Design\\Icons\\Potential')\n",
    "# overlayIconsParentPath = Path(r'C:\\Users\\pho\\repos\\Spike3DWorkEnv\\Spike3D\\EXTERNAL\\Design\\Icons\\Potential\\Overlays')\n",
    "overlayIconsParentPath = Path(r'C:\\Users\\pho\\repos\\VSCode Extensions\\vscode-codicons\\src\\icons').resolve()\n",
    "\n",
    "\n",
    "baseIconParentPath.exists()\n",
    "overlayIconsParentPath.exists()\n",
    "print(f'overlayIconsParentPath: \"{overlayIconsParentPath.as_posix()}\"')\n"
   ]
  },
  {
   "cell_type": "code",
   "execution_count": null,
   "metadata": {},
   "outputs": [],
   "source": [
    "\n",
    "build_icon_example_grid(icons_path=Path(r'C:\\Users\\pho\\repos\\Spike3DWorkEnv\\Spike3D\\EXTERNAL\\Design\\Icons').resolve())"
   ]
  },
  {
   "cell_type": "code",
   "execution_count": 15,
   "metadata": {},
   "outputs": [
    {
     "name": "stdout",
     "output_type": "stream",
     "text": [
      "converted \"C:/Users/pho/repos/VSCode Extensions/vscode-codicons/src/icons/extensions.svg\" --> \"C:/Users/pho/repos/VSCode Extensions/vscode-codicons/src/icons/extensions.png\"\n"
     ]
    }
   ],
   "source": [
    "# overlay_icon_path = Path(r'C:\\Users\\pho\\repos\\Spike3DWorkEnv\\Spike3D\\EXTERNAL\\Design\\Icons\\fugue-icons-3.5.6-src\\icons\\chain--arrow.png').resolve()\n",
    "\n",
    "\n",
    "\n",
    "overlay_icon_path = Path(r'C:\\Users\\pho\\repos\\Spike3DWorkEnv\\Spike3D\\EXTERNAL\\Design\\Export\\Pho Symbol.png').resolve()\n",
    "\n",
    "# source_icon_path = Path(r'C:\\Users\\pho\\repos\\VSCode Extensions\\vscode-favorites\\icons\\favorites.png').resolve()\n",
    "source_icon_path = Path(r'c:\\Users\\pho\\repos\\VSCode Extensions\\vscode-codicons\\src\\icons\\extensions.svg').resolve()\n",
    "\n",
    "assert source_icon_path.exists()\n",
    "assert source_icon_path.is_file()\n",
    "\n",
    "if (source_icon_path.suffix.lower() == '.svg'):\n",
    "    _old_source_icon_path = deepcopy(source_icon_path)\n",
    "    source_icon_path = source_icon_path.with_suffix('.png')\n",
    "    cairosvg.svg2png(url=_old_source_icon_path.resolve().as_posix(), write_to=source_icon_path.resolve().as_posix(), output_height=100, output_width=100, negate_colors=True)\n",
    "    print(f'converted \"{_old_source_icon_path.as_posix()}\" --> \"{source_icon_path.as_posix()}\"')\n",
    "    \n"
   ]
  },
  {
   "cell_type": "code",
   "execution_count": 16,
   "metadata": {},
   "outputs": [
    {
     "data": {
      "image/png": "[encoded data removed]",
      "text/plain": [
       "<PIL.PngImagePlugin.PngImageFile image mode=RGBA size=100x100>"
      ]
     },
     "execution_count": 16,
     "metadata": {},
     "output_type": "execute_result"
    }
   ],
   "source": [
    "\n",
    "source_icon_image = Image.open(source_icon_path)\n",
    "source_icon_image"
   ]
  },
  {
   "cell_type": "code",
   "execution_count": 17,
   "metadata": {},
   "outputs": [
    {
     "name": "stdout",
     "output_type": "stream",
     "text": [
      "img_width: 100, img_height: 100\n",
      "TODO: pretending everything is okay if the width is not too big.\n",
      "frame_width: 100, frame_height: 100\n"
     ]
    },
    {
     "data": {
      "image/jpeg": "[encoded data removed]",
      "image/png": "[encoded data removed]",
      "text/plain": [
       "<PIL.Image.Image image mode=RGB size=100x100>"
      ]
     },
     "execution_count": 17,
     "metadata": {},
     "output_type": "execute_result"
    }
   ],
   "source": [
    "\n",
    "new_icon = build_icon(source_icon_path, overlay_icon_path, outputIconPath='favorites_pho_2023-09-26.png', should_defer_show=True)\n",
    "new_icon"
   ]
  },
  {
   "cell_type": "code",
   "execution_count": null,
   "metadata": {},
   "outputs": [],
   "source": [
    "new_icon"
   ]
  },
  {
   "cell_type": "code",
   "execution_count": null,
   "metadata": {},
   "outputs": [],
   "source": [
    "from LibrariesExamples.Silx.silx_examples.icons import AnimatedToolButton, IconPreview"
   ]
  }
 ],
 "metadata": {
  "kernelspec": {
   "display_name": ".venv",
   "language": "python",
   "name": "python3"
  },
  "language_info": {
   "codemirror_mode": {
    "name": "ipython",
    "version": 3
   },
   "file_extension": ".py",
   "mimetype": "text/x-python",
   "name": "python",
   "nbconvert_exporter": "python",
   "pygments_lexer": "ipython3",
   "version": "3.9.13"
  },
  "orig_nbformat": 4
 },
 "nbformat": 4,
 "nbformat_minor": 2
}
