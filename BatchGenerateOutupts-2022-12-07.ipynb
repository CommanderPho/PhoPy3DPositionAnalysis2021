{
 "cells": [
  {
   "cell_type": "markdown",
   "id": "7dd392e0-1cc6-407a-8c0c-18f66153a51b",
   "metadata": {},
   "source": [
    "# Imports"
   ]
  },
  {
   "cell_type": "code",
   "execution_count": 3,
   "id": "a756938f-be66-4f50-9550-565f8fe6401e",
   "metadata": {},
   "outputs": [
    {
     "name": "stdout",
     "output_type": "stream",
     "text": [
      "Automatic pdb calling has been turned OFF\n",
      "The autoreload extension is already loaded. To reload it, use:\n",
      "  %reload_ext autoreload\n",
      "CONDA_SHLVL=1\n",
      "PYDEVD_USE_FRAME_EVAL=NO\n",
      "LS_COLORS=rs=0:di=38;5;33:ln=38;5;51:mh=00:pi=40;38;5;11:so=38;5;13:do=38;5;5:bd=48;5;232;38;5;11:cd=48;5;232;38;5;3:or=48;5;232;38;5;9:mi=01;05;37;41:su=48;5;196;38;5;15:sg=48;5;11;38;5;16:ca=48;5;196;38;5;226:tw=48;5;10;38;5;16:ow=48;5;10;38;5;21:st=48;5;21;38;5;15:ex=38;5;40:*.tar=38;5;9:*.tgz=38;5;9:*.arc=38;5;9:*.arj=38;5;9:*.taz=38;5;9:*.lha=38;5;9:*.lz4=38;5;9:*.lzh=38;5;9:*.lzma=38;5;9:*.tlz=38;5;9:*.txz=38;5;9:*.tzo=38;5;9:*.t7z=38;5;9:*.zip=38;5;9:*.z=38;5;9:*.dz=38;5;9:*.gz=38;5;9:*.lrz=38;5;9:*.lz=38;5;9:*.lzo=38;5;9:*.xz=38;5;9:*.zst=38;5;9:*.tzst=38;5;9:*.bz2=38;5;9:*.bz=38;5;9:*.tbz=38;5;9:*.tbz2=38;5;9:*.tz=38;5;9:*.deb=38;5;9:*.rpm=38;5;9:*.jar=38;5;9:*.war=38;5;9:*.ear=38;5;9:*.sar=38;5;9:*.rar=38;5;9:*.alz=38;5;9:*.ace=38;5;9:*.zoo=38;5;9:*.cpio=38;5;9:*.7z=38;5;9:*.rz=38;5;9:*.cab=38;5;9:*.wim=38;5;9:*.swm=38;5;9:*.dwm=38;5;9:*.esd=38;5;9:*.jpg=38;5;13:*.jpeg=38;5;13:*.mjpg=38;5;13:*.mjpeg=38;5;13:*.gif=38;5;13:*.bmp=38;5;13:*.pbm=38;5;13:*.pgm=38;5;13:*.ppm=38;5;13:*.tga=38;5;13:*.xbm=38;5;13:*.xpm=38;5;13:*.tif=38;5;13:*.tiff=38;5;13:*.png=38;5;13:*.svg=38;5;13:*.svgz=38;5;13:*.mng=38;5;13:*.pcx=38;5;13:*.mov=38;5;13:*.mpg=38;5;13:*.mpeg=38;5;13:*.m2v=38;5;13:*.mkv=38;5;13:*.webm=38;5;13:*.ogm=38;5;13:*.mp4=38;5;13:*.m4v=38;5;13:*.mp4v=38;5;13:*.vob=38;5;13:*.qt=38;5;13:*.nuv=38;5;13:*.wmv=38;5;13:*.asf=38;5;13:*.rm=38;5;13:*.rmvb=38;5;13:*.flc=38;5;13:*.avi=38;5;13:*.fli=38;5;13:*.flv=38;5;13:*.gl=38;5;13:*.dl=38;5;13:*.xcf=38;5;13:*.xwd=38;5;13:*.yuv=38;5;13:*.cgm=38;5;13:*.emf=38;5;13:*.ogv=38;5;13:*.ogx=38;5;13:*.aac=38;5;45:*.au=38;5;45:*.flac=38;5;45:*.m4a=38;5;45:*.mid=38;5;45:*.midi=38;5;45:*.mka=38;5;45:*.mp3=38;5;45:*.mpc=38;5;45:*.ogg=38;5;45:*.ra=38;5;45:*.wav=38;5;45:*.oga=38;5;45:*.opus=38;5;45:*.spx=38;5;45:*.xspf=38;5;45:\n",
      "LD_LIBRARY_PATH=/home/halechr/miniconda3/envs/PhoLabVizClone/lib/:/home/halechr/miniconda3/envs/PhoLabVizClone/lib/:\n",
      "CONDA_EXE=/home/halechr/miniconda3/bin/conda\n",
      "host_alias=x86_64-conda-linux-gnu\n",
      "GPROF=/home/halechr/miniconda3/envs/PhoLabVizClone/bin/x86_64-conda-linux-gnu-gprof\n",
      "TERMINATOR_UUID=urn:uuid:3eac3415-06fb-432d-a9bf-b4accef99cfe\n",
      "XDG_MENU_PREFIX=gnome-\n",
      "MODULES_RUN_QUARANTINE=LD_LIBRARY_PATH LD_PRELOAD\n",
      "_=/bin/env\n",
      "LANG=en_US.UTF-8\n",
      "HISTCONTROL=ignoredups\n",
      "DISPLAY=:10.0\n",
      "GXX=/home/halechr/miniconda3/envs/PhoLabVizClone/bin/x86_64-conda-linux-gnu-g++\n",
      "HOSTNAME=LNX00052\n",
      "KMP_INIT_AT_FORK=FALSE\n",
      "LD_GOLD=/home/halechr/miniconda3/envs/PhoLabVizClone/bin/x86_64-conda-linux-gnu-ld.gold\n",
      "CMAKE_ARGS=-DCMAKE_AR=/home/halechr/miniconda3/envs/PhoLabVizClone/bin/x86_64-conda-linux-gnu-ar -DCMAKE_CXX_COMPILER_AR=/home/halechr/miniconda3/envs/PhoLabVizClone/bin/x86_64-conda-linux-gnu-gcc-ar -DCMAKE_C_COMPILER_AR=/home/halechr/miniconda3/envs/PhoLabVizClone/bin/x86_64-conda-linux-gnu-gcc-ar -DCMAKE_RANLIB=/home/halechr/miniconda3/envs/PhoLabVizClone/bin/x86_64-conda-linux-gnu-ranlib -DCMAKE_CXX_COMPILER_RANLIB=/home/halechr/miniconda3/envs/PhoLabVizClone/bin/x86_64-conda-linux-gnu-gcc-ranlib -DCMAKE_C_COMPILER_RANLIB=/home/halechr/miniconda3/envs/PhoLabVizClone/bin/x86_64-conda-linux-gnu-gcc-ranlib -DCMAKE_LINKER=/home/halechr/miniconda3/envs/PhoLabVizClone/bin/x86_64-conda-linux-gnu-ld -DCMAKE_STRIP=/home/halechr/miniconda3/envs/PhoLabVizClone/bin/x86_64-conda-linux-gnu-strip\n",
      "DEBUG_CPPFLAGS=-D_DEBUG -D_FORTIFY_SOURCE=2 -Og -isystem /home/halechr/miniconda3/envs/PhoLabVizClone/include\n",
      "DEBUG_CFLAGS=-march=nocona -mtune=haswell -ftree-vectorize -fPIC -fstack-protector-all -fno-plt -Og -g -Wall -Wextra -fvar-tracking-assignments -ffunction-sections -pipe -isystem /home/halechr/miniconda3/envs/PhoLabVizClone/include\n",
      "COLORTERM=truecolor\n",
      "CUDA_PATH=/home/halechr/miniconda3/envs/PhoLabVizClone\n",
      "GCC_NM=/home/halechr/miniconda3/envs/PhoLabVizClone/bin/x86_64-conda-linux-gnu-gcc-nm\n",
      "GSETTINGS_SCHEMA_DIR_CONDA_BACKUP=\n",
      "CONDA_PREFIX=/home/halechr/miniconda3/envs/PhoLabVizClone\n",
      "GCC_RANLIB=/home/halechr/miniconda3/envs/PhoLabVizClone/bin/x86_64-conda-linux-gnu-gcc-ranlib\n",
      "KDEDIRS=/usr\n",
      "CFLAGS=-march=nocona -mtune=haswell -ftree-vectorize -fPIC -fstack-protector-strong -fno-plt -O2 -ffunction-sections -pipe -isystem /home/halechr/miniconda3/envs/PhoLabVizClone/include\n",
      "GCC_AR=/home/halechr/miniconda3/envs/PhoLabVizClone/bin/x86_64-conda-linux-gnu-gcc-ar\n",
      "GIO_LAUNCHED_DESKTOP_FILE_PID=24656\n",
      "SSH_AUTH_SOCK=/run/user/114191263/keyring/ssh\n",
      "CONDA_TOOLCHAIN_HOST=x86_64-conda-linux-gnu\n",
      "_CE_M=\n",
      "which_declare=declare -f\n",
      "CC=/home/halechr/miniconda3/envs/PhoLabVizClone/bin/x86_64-conda-linux-gnu-cc\n",
      "READELF=/home/halechr/miniconda3/envs/PhoLabVizClone/bin/x86_64-conda-linux-gnu-readelf\n",
      "PROJ_LIB=/home/halechr/miniconda3/envs/PhoLabVizClone/share/proj\n",
      "XDG_SESSION_ID=c2\n",
      "XRDP_SOCKET_PATH=/run/xrdp\n",
      "MODULES_CMD=/usr/share/Modules/libexec/modulecmd.tcl\n",
      "USER=halechr\n",
      "CONDA_TOOLCHAIN_BUILD=x86_64-conda-linux-gnu\n",
      "CXXFLAGS=-fvisibility-inlines-hidden -std=c++17 -fmessage-length=0 -march=nocona -mtune=haswell -ftree-vectorize -fPIC -fstack-protector-strong -fno-plt -O2 -ffunction-sections -pipe -isystem /home/halechr/miniconda3/envs/PhoLabVizClone/include\n",
      "PAGER=cat\n",
      "STRIP=/home/halechr/miniconda3/envs/PhoLabVizClone/bin/x86_64-conda-linux-gnu-strip\n",
      "OBJCOPY=/home/halechr/miniconda3/envs/PhoLabVizClone/bin/x86_64-conda-linux-gnu-objcopy\n",
      "_CONDA_PYTHON_SYSCONFIGDATA_NAME=_sysconfigdata_x86_64_conda_cos6_linux_gnu\n",
      "JPY_PARENT_PID=76179\n",
      "XRDP_PULSE_SINK_SOCKET=xrdp_chansrv_audio_out_socket_10\n",
      "PULSE_SCRIPT=/etc/xrdp/pulse/default.pa\n",
      "PWD=/home/halechr/repos/PhoPy3DPositionAnalysis2021\n",
      "SSH_ASKPASS=/usr/libexec/openssh/gnome-ssh-askpass\n",
      "HOME=/home/halechr\n",
      "QT_API=pyqt5\n",
      "CONDA_PYTHON_EXE=/home/halechr/miniconda3/bin/python\n",
      "ADDR2LINE=/home/halechr/miniconda3/envs/PhoLabVizClone/bin/x86_64-conda-linux-gnu-addr2line\n",
      "UID=114191263\n",
      "CMAKE_PREFIX_PATH=/home/halechr/miniconda3/envs/PhoLabVizClone:/home/halechr/miniconda3/envs/PhoLabVizClone/x86_64-conda-linux-gnu/sysroot/usr\n",
      "SSH_AGENT_PID=6817\n",
      "HOST=x86_64-conda-linux-gnu\n",
      "CLICOLOR=1\n",
      "XDG_DATA_DIRS=/home/halechr/.local/share/flatpak/exports/share:/var/lib/flatpak/exports/share:/usr/local/share:/usr/share\n",
      "RANLIB=/home/halechr/miniconda3/envs/PhoLabVizClone/bin/x86_64-conda-linux-gnu-ranlib\n",
      "OBJDUMP=/home/halechr/miniconda3/envs/PhoLabVizClone/bin/x86_64-conda-linux-gnu-objdump\n",
      "AS=/home/halechr/miniconda3/envs/PhoLabVizClone/bin/x86_64-conda-linux-gnu-as\n",
      "AR=/home/halechr/miniconda3/envs/PhoLabVizClone/bin/x86_64-conda-linux-gnu-ar\n",
      "KMP_DUPLICATE_LIB_OK=True\n",
      "_CE_CONDA=\n",
      "GSETTINGS_SCHEMA_DIR=/home/halechr/miniconda3/envs/PhoLabVizClone/share/glib-2.0/schemas\n",
      "TERMINATOR_DBUS_NAME=net.tenshu.Terminator2bcb3aa092f2b6032576f3fd56ad9afe9\n",
      "CC_FOR_BUILD=/home/halechr/miniconda3/envs/PhoLabVizClone/bin/x86_64-conda-linux-gnu-cc\n",
      "build_alias=x86_64-conda-linux-gnu\n",
      "PROJ_NETWORK=ON\n",
      "BUILD=x86_64-conda-linux-gnu\n",
      "XRDP_PULSE_SOURCE_SOCKET=xrdp_chansrv_audio_in_socket_10\n",
      "LOADEDMODULES=\n",
      "NM=/home/halechr/miniconda3/envs/PhoLabVizClone/bin/x86_64-conda-linux-gnu-nm\n",
      "CONDA_PROMPT_MODIFIER=(PhoLabVizClone) \n",
      "TERMINATOR_DBUS_PATH=/net/tenshu/Terminator2\n",
      "CONDA_BUILD_SYSROOT=/home/halechr/miniconda3/envs/PhoLabVizClone/x86_64-conda-linux-gnu/sysroot\n",
      "MAIL=/var/spool/mail/halechr\n",
      "DEBUG_CXXFLAGS=-fvisibility-inlines-hidden -std=c++17 -fmessage-length=0 -march=nocona -mtune=haswell -ftree-vectorize -fPIC -fstack-protector-all -fno-plt -Og -g -Wall -Wextra -fvar-tracking-assignments -ffunction-sections -pipe -isystem /home/halechr/miniconda3/envs/PhoLabVizClone/include\n",
      "CXX=/home/halechr/miniconda3/envs/PhoLabVizClone/bin/x86_64-conda-linux-gnu-c++\n",
      "TERM=xterm-color\n",
      "VTE_VERSION=5204\n",
      "SHELL=/bin/bash\n",
      "CXXFILT=/home/halechr/miniconda3/envs/PhoLabVizClone/bin/x86_64-conda-linux-gnu-c++filt\n",
      "QT_IM_MODULE=ibus\n",
      "XMODIFIERS=@im=ibus\n",
      "MPLBACKEND=module://matplotlib_inline.backend_inline\n",
      "XDG_CURRENT_DESKTOP=GNOME\n",
      "GIO_LAUNCHED_DESKTOP_FILE=/usr/share/applications/terminator.desktop\n",
      "ELFEDIT=/home/halechr/miniconda3/envs/PhoLabVizClone/bin/x86_64-conda-linux-gnu-elfedit\n",
      "SHLVL=4\n",
      "MANPATH=:\n",
      "CPPFLAGS=-DNDEBUG -D_FORTIFY_SOURCE=2 -O2 -isystem /home/halechr/miniconda3/envs/PhoLabVizClone/include\n",
      "STRINGS=/home/halechr/miniconda3/envs/PhoLabVizClone/bin/x86_64-conda-linux-gnu-strings\n",
      "MODULEPATH=/etc/scl/modulefiles:/etc/scl/modulefiles:/etc/scl/modulefiles:/etc/scl/modulefiles::/app/apps/rhel8/modulefiles:/app/apps/rhel8/modulefiles:/app/apps/rhel8/modulefiles:/app/apps/rhel8/modulefiles\n",
      "GNOME_DESKTOP_SESSION_ID=this-is-deprecated\n",
      "LOGNAME=halechr\n",
      "DBUS_SESSION_BUS_ADDRESS=unix:path=/run/user/114191263/bus\n",
      "XDG_RUNTIME_DIR=/run/user/114191263\n",
      "LDFLAGS=-Wl,-O2 -Wl,--sort-common -Wl,--as-needed -Wl,-z,relro -Wl,-z,now -Wl,--disable-new-dtags -Wl,--gc-sections -Wl,--allow-shlib-undefined -Wl,-rpath,/home/halechr/miniconda3/envs/PhoLabVizClone/lib -Wl,-rpath-link,/home/halechr/miniconda3/envs/PhoLabVizClone/lib -L/home/halechr/miniconda3/envs/PhoLabVizClone/lib\n",
      "CXX_FOR_BUILD=/home/halechr/miniconda3/envs/PhoLabVizClone/bin/x86_64-conda-linux-gnu-c++\n",
      "PATH=/home/halechr/miniconda3/envs/PhoLabVizClone/bin:/home/halechr/miniconda3/condabin:/home/halechr/.local/bin:/home/halechr/bin:/usr/share/Modules/bin:/sbin:/bin:/usr/bin:/usr/local/bin:/usr/local/sbin:/usr/sbin\n",
      "GCC=/home/halechr/miniconda3/envs/PhoLabVizClone/bin/x86_64-conda-linux-gnu-gcc\n",
      "MODULESHOME=/usr/share/Modules\n",
      "CONDA_DEFAULT_ENV=PhoLabVizClone\n",
      "HISTSIZE=1000\n",
      "SIZE=/home/halechr/miniconda3/envs/PhoLabVizClone/bin/x86_64-conda-linux-gnu-size\n",
      "SESSION_MANAGER=local/unix:@/tmp/.ICE-unix/6818,unix/unix:/tmp/.ICE-unix/6818\n",
      "CPP=/home/halechr/miniconda3/envs/PhoLabVizClone/bin/x86_64-conda-linux-gnu-cpp\n",
      "LD=/home/halechr/miniconda3/envs/PhoLabVizClone/bin/x86_64-conda-linux-gnu-ld\n",
      "XRDP_SESSION=1\n",
      "LESSOPEN=||/usr/bin/lesspipe.sh %s\n",
      "GIT_PAGER=cat\n",
      "BASH_FUNC_which%%=() {  ( alias;\n",
      " eval ${which_declare} ) | /usr/bin/which --tty-only --read-alias --read-functions --show-tilde --show-dot $@\n",
      "}\n",
      "BASH_FUNC_module%%=() {  _module_raw \"$@\" 2>&1\n",
      "}\n",
      "BASH_FUNC__module_raw%%=() {  unset _mlshdbg;\n",
      " if [ \"${MODULES_SILENT_SHELL_DEBUG:-0}\" = '1' ]; then\n",
      " case \"$-\" in \n",
      " *v*x*)\n",
      " set +vx;\n",
      " _mlshdbg='vx'\n",
      " ;;\n",
      " *v*)\n",
      " set +v;\n",
      " _mlshdbg='v'\n",
      " ;;\n",
      " *x*)\n",
      " set +x;\n",
      " _mlshdbg='x'\n",
      " ;;\n",
      " *)\n",
      " _mlshdbg=''\n",
      " ;;\n",
      " esac;\n",
      " fi;\n",
      " unset _mlre _mlIFS;\n",
      " if [ -n \"${IFS+x}\" ]; then\n",
      " _mlIFS=$IFS;\n",
      " fi;\n",
      " IFS=' ';\n",
      " for _mlv in ${MODULES_RUN_QUARANTINE:-};\n",
      " do\n",
      " if [ \"${_mlv}\" = \"${_mlv##*[!A-Za-z0-9_]}\" -a \"${_mlv}\" = \"${_mlv#[0-9]}\" ]; then\n",
      " if [ -n \"`eval 'echo ${'$_mlv'+x}'`\" ]; then\n",
      " _mlre=\"${_mlre:-}${_mlv}_modquar='`eval 'echo ${'$_mlv'}'`' \";\n",
      " fi;\n",
      " _mlrv=\"MODULES_RUNENV_${_mlv}\";\n",
      " _mlre=\"${_mlre:-}${_mlv}='`eval 'echo ${'$_mlrv':-}'`' \";\n",
      " fi;\n",
      " done;\n",
      " if [ -n \"${_mlre:-}\" ]; then\n",
      " eval `eval ${_mlre} /usr/bin/tclsh /usr/share/Modules/libexec/modulecmd.tcl bash '\"$@\"'`;\n",
      " else\n",
      " eval `/usr/bin/tclsh /usr/share/Modules/libexec/modulecmd.tcl bash \"$@\"`;\n",
      " fi;\n",
      " _mlstatus=$?;\n",
      " if [ -n \"${_mlIFS+x}\" ]; then\n",
      " IFS=$_mlIFS;\n",
      " else\n",
      " unset IFS;\n",
      " fi;\n",
      " unset _mlre _mlv _mlrv _mlIFS;\n",
      " if [ -n \"${_mlshdbg:-}\" ]; then\n",
      " set -$_mlshdbg;\n",
      " fi;\n",
      " unset _mlshdbg;\n",
      " return $_mlstatus\n",
      "}\n",
      "BASH_FUNC_switchml%%=() {  typeset swfound=1;\n",
      " if [ \"${MODULES_USE_COMPAT_VERSION:-0}\" = '1' ]; then\n",
      " typeset swname='main';\n",
      " if [ -e /usr/share/Modules/libexec/modulecmd.tcl ]; then\n",
      " typeset swfound=0;\n",
      " unset MODULES_USE_COMPAT_VERSION;\n",
      " fi;\n",
      " else\n",
      " typeset swname='compatibility';\n",
      " if [ -e /usr/share/Modules/libexec/modulecmd-compat ]; then\n",
      " typeset swfound=0;\n",
      " MODULES_USE_COMPAT_VERSION=1;\n",
      " export MODULES_USE_COMPAT_VERSION;\n",
      " fi;\n",
      " fi;\n",
      " if [ $swfound -eq 0 ]; then\n",
      " echo \"Switching to Modules $swname version\";\n",
      " source /usr/share/Modules/init/bash;\n",
      " else\n",
      " echo \"Cannot switch to Modules $swname version, command not found\";\n",
      " return 1;\n",
      " fi\n",
      "}\n",
      "BASH_FUNC_scl%%=() {  if [ \"$1\" = \"load\" -o \"$1\" = \"unload\" ]; then\n",
      " eval \"module $@\";\n",
      " else\n",
      " /usr/bin/scl \"$@\";\n",
      " fi\n",
      "}\n",
      "BASH_FUNC_ml%%=() {  module ml \"$@\"\n",
      "}\n"
     ]
    },
    {
     "ename": "QtBindingsNotFoundError",
     "evalue": "No Qt bindings could be found",
     "output_type": "error",
     "traceback": [
      "\u001b[0;31m---------------------------------------------------------------------------\u001b[0m",
      "\u001b[0;31mModuleNotFoundError\u001b[0m                       Traceback (most recent call last)",
      "File \u001b[0;32m~/miniconda3/envs/PhoLabVizClone/lib/python3.9/site-packages/qtpy/__init__.py:252\u001b[0m, in \u001b[0;36m<module>\u001b[0;34m\u001b[0m\n\u001b[1;32m    251\u001b[0m \u001b[38;5;28;01mtry\u001b[39;00m:\n\u001b[0;32m--> 252\u001b[0m     \u001b[38;5;28;01mfrom\u001b[39;00m \u001b[38;5;21;01mPySide6\u001b[39;00m \u001b[38;5;28;01mimport\u001b[39;00m __version__ \u001b[38;5;28;01mas\u001b[39;00m PYSIDE_VERSION  \u001b[38;5;66;03m# analysis:ignore\u001b[39;00m\n\u001b[1;32m    253\u001b[0m     \u001b[38;5;28;01mfrom\u001b[39;00m \u001b[38;5;21;01mPySide6\u001b[39;00m\u001b[38;5;21;01m.\u001b[39;00m\u001b[38;5;21;01mQtCore\u001b[39;00m \u001b[38;5;28;01mimport\u001b[39;00m __version__ \u001b[38;5;28;01mas\u001b[39;00m QT_VERSION  \u001b[38;5;66;03m# analysis:ignore\u001b[39;00m\n",
      "\u001b[0;31mModuleNotFoundError\u001b[0m: No module named 'PySide6'",
      "\nDuring handling of the above exception, another exception occurred:\n",
      "\u001b[0;31mQtBindingsNotFoundError\u001b[0m                   Traceback (most recent call last)",
      "Input \u001b[0;32mIn [3]\u001b[0m, in \u001b[0;36m<cell line: 35>\u001b[0;34m()\u001b[0m\n\u001b[1;32m     25\u001b[0m \u001b[38;5;28;01mimport\u001b[39;00m \u001b[38;5;21;01mpandas\u001b[39;00m \u001b[38;5;28;01mas\u001b[39;00m \u001b[38;5;21;01mpd\u001b[39;00m\n\u001b[1;32m     28\u001b[0m \u001b[38;5;66;03m# Pho's Formatting Preferences\u001b[39;00m\n\u001b[1;32m     29\u001b[0m \u001b[38;5;66;03m# from pyphocorehelpers.preferences_helpers import set_pho_preferences, set_pho_preferences_concise, set_pho_preferences_verbose\u001b[39;00m\n\u001b[1;32m     30\u001b[0m \u001b[38;5;66;03m# set_pho_preferences_concise()\u001b[39;00m\n\u001b[0;32m   (...)\u001b[0m\n\u001b[1;32m     33\u001b[0m \n\u001b[1;32m     34\u001b[0m \u001b[38;5;66;03m# pyPhoPlaceCellAnalysis:\u001b[39;00m\n\u001b[0;32m---> 35\u001b[0m \u001b[38;5;28;01mfrom\u001b[39;00m \u001b[38;5;21;01mpyphoplacecellanalysis\u001b[39;00m\u001b[38;5;21;01m.\u001b[39;00m\u001b[38;5;21;01mGeneral\u001b[39;00m\u001b[38;5;21;01m.\u001b[39;00m\u001b[38;5;21;01mPipeline\u001b[39;00m\u001b[38;5;21;01m.\u001b[39;00m\u001b[38;5;21;01mNeuropyPipeline\u001b[39;00m \u001b[38;5;28;01mimport\u001b[39;00m NeuropyPipeline \u001b[38;5;66;03m# get_neuron_identities\u001b[39;00m\n\u001b[1;32m     37\u001b[0m \u001b[38;5;66;03m# NeuroPy (Diba Lab Python Repo) Loading\u001b[39;00m\n\u001b[1;32m     38\u001b[0m \u001b[38;5;66;03m# from neuropy import core\u001b[39;00m\n\u001b[1;32m     39\u001b[0m \u001b[38;5;28;01mfrom\u001b[39;00m \u001b[38;5;21;01mneuropy\u001b[39;00m\u001b[38;5;21;01m.\u001b[39;00m\u001b[38;5;21;01manalyses\u001b[39;00m\u001b[38;5;21;01m.\u001b[39;00m\u001b[38;5;21;01mplacefields\u001b[39;00m \u001b[38;5;28;01mimport\u001b[39;00m PlacefieldComputationParameters\n",
      "File \u001b[0;32m~/repos/pyPhoPlaceCellAnalysis/src/pyphoplacecellanalysis/General/Pipeline/NeuropyPipeline.py:34\u001b[0m, in \u001b[0;36m<module>\u001b[0;34m\u001b[0m\n\u001b[1;32m     31\u001b[0m \u001b[38;5;28;01mfrom\u001b[39;00m \u001b[38;5;21;01mneuropy\u001b[39;00m\u001b[38;5;21;01m.\u001b[39;00m\u001b[38;5;21;01mcore\u001b[39;00m\u001b[38;5;21;01m.\u001b[39;00m\u001b[38;5;21;01msession\u001b[39;00m\u001b[38;5;21;01m.\u001b[39;00m\u001b[38;5;21;01mKnownDataSessionTypeProperties\u001b[39;00m \u001b[38;5;28;01mimport\u001b[39;00m KnownDataSessionTypeProperties\n\u001b[1;32m     33\u001b[0m \u001b[38;5;28;01mfrom\u001b[39;00m \u001b[38;5;21;01mpyphoplacecellanalysis\u001b[39;00m\u001b[38;5;21;01m.\u001b[39;00m\u001b[38;5;21;01mGeneral\u001b[39;00m\u001b[38;5;21;01m.\u001b[39;00m\u001b[38;5;21;01mPipeline\u001b[39;00m\u001b[38;5;21;01m.\u001b[39;00m\u001b[38;5;21;01mStages\u001b[39;00m\u001b[38;5;21;01m.\u001b[39;00m\u001b[38;5;21;01mComputation\u001b[39;00m \u001b[38;5;28;01mimport\u001b[39;00m PipelineWithComputedPipelineStageMixin, ComputedPipelineStage\n\u001b[0;32m---> 34\u001b[0m \u001b[38;5;28;01mfrom\u001b[39;00m \u001b[38;5;21;01mpyphoplacecellanalysis\u001b[39;00m\u001b[38;5;21;01m.\u001b[39;00m\u001b[38;5;21;01mGeneral\u001b[39;00m\u001b[38;5;21;01m.\u001b[39;00m\u001b[38;5;21;01mPipeline\u001b[39;00m\u001b[38;5;21;01m.\u001b[39;00m\u001b[38;5;21;01mStages\u001b[39;00m\u001b[38;5;21;01m.\u001b[39;00m\u001b[38;5;21;01mDisplay\u001b[39;00m \u001b[38;5;28;01mimport\u001b[39;00m PipelineWithDisplayPipelineStageMixin\n\u001b[1;32m     35\u001b[0m \u001b[38;5;28;01mfrom\u001b[39;00m \u001b[38;5;21;01mpyphoplacecellanalysis\u001b[39;00m\u001b[38;5;21;01m.\u001b[39;00m\u001b[38;5;21;01mGeneral\u001b[39;00m\u001b[38;5;21;01m.\u001b[39;00m\u001b[38;5;21;01mPipeline\u001b[39;00m\u001b[38;5;21;01m.\u001b[39;00m\u001b[38;5;21;01mStages\u001b[39;00m\u001b[38;5;21;01m.\u001b[39;00m\u001b[38;5;21;01mFiltering\u001b[39;00m \u001b[38;5;28;01mimport\u001b[39;00m FilteredPipelineMixin\n\u001b[1;32m     36\u001b[0m \u001b[38;5;28;01mfrom\u001b[39;00m \u001b[38;5;21;01mpyphoplacecellanalysis\u001b[39;00m\u001b[38;5;21;01m.\u001b[39;00m\u001b[38;5;21;01mGeneral\u001b[39;00m\u001b[38;5;21;01m.\u001b[39;00m\u001b[38;5;21;01mPipeline\u001b[39;00m\u001b[38;5;21;01m.\u001b[39;00m\u001b[38;5;21;01mStages\u001b[39;00m\u001b[38;5;21;01m.\u001b[39;00m\u001b[38;5;21;01mLoading\u001b[39;00m \u001b[38;5;28;01mimport\u001b[39;00m PipelineWithInputStage, PipelineWithLoadableStage, loadData, saveData\n",
      "File \u001b[0;32m~/repos/pyPhoPlaceCellAnalysis/src/pyphoplacecellanalysis/General/Pipeline/Stages/Display.py:14\u001b[0m, in \u001b[0;36m<module>\u001b[0;34m\u001b[0m\n\u001b[1;32m     12\u001b[0m \u001b[38;5;28;01mfrom\u001b[39;00m \u001b[38;5;21;01mpyphoplacecellanalysis\u001b[39;00m\u001b[38;5;21;01m.\u001b[39;00m\u001b[38;5;21;01mGeneral\u001b[39;00m\u001b[38;5;21;01m.\u001b[39;00m\u001b[38;5;21;01mPipeline\u001b[39;00m\u001b[38;5;21;01m.\u001b[39;00m\u001b[38;5;21;01mStages\u001b[39;00m\u001b[38;5;21;01m.\u001b[39;00m\u001b[38;5;21;01mDisplayFunctions\u001b[39;00m\u001b[38;5;21;01m.\u001b[39;00m\u001b[38;5;21;01mDisplayFunctionRegistryHolder\u001b[39;00m \u001b[38;5;28;01mimport\u001b[39;00m DisplayFunctionRegistryHolder\n\u001b[1;32m     13\u001b[0m \u001b[38;5;66;03m# Import Display Functions\u001b[39;00m\n\u001b[0;32m---> 14\u001b[0m \u001b[38;5;28;01mfrom\u001b[39;00m \u001b[38;5;21;01mpyphoplacecellanalysis\u001b[39;00m\u001b[38;5;21;01m.\u001b[39;00m\u001b[38;5;21;01mGeneral\u001b[39;00m\u001b[38;5;21;01m.\u001b[39;00m\u001b[38;5;21;01mPipeline\u001b[39;00m\u001b[38;5;21;01m.\u001b[39;00m\u001b[38;5;21;01mStages\u001b[39;00m\u001b[38;5;21;01m.\u001b[39;00m\u001b[38;5;21;01mDisplayFunctions\u001b[39;00m\u001b[38;5;21;01m.\u001b[39;00m\u001b[38;5;21;01mDefaultDisplayFunctions\u001b[39;00m \u001b[38;5;28;01mimport\u001b[39;00m DefaultDisplayFunctions\n\u001b[1;32m     15\u001b[0m \u001b[38;5;28;01mfrom\u001b[39;00m \u001b[38;5;21;01mpyphoplacecellanalysis\u001b[39;00m\u001b[38;5;21;01m.\u001b[39;00m\u001b[38;5;21;01mGeneral\u001b[39;00m\u001b[38;5;21;01m.\u001b[39;00m\u001b[38;5;21;01mPipeline\u001b[39;00m\u001b[38;5;21;01m.\u001b[39;00m\u001b[38;5;21;01mStages\u001b[39;00m\u001b[38;5;21;01m.\u001b[39;00m\u001b[38;5;21;01mDisplayFunctions\u001b[39;00m\u001b[38;5;21;01m.\u001b[39;00m\u001b[38;5;21;01mRatemaps\u001b[39;00m \u001b[38;5;28;01mimport\u001b[39;00m DefaultRatemapDisplayFunctions\n\u001b[1;32m     16\u001b[0m \u001b[38;5;28;01mfrom\u001b[39;00m \u001b[38;5;21;01mpyphoplacecellanalysis\u001b[39;00m\u001b[38;5;21;01m.\u001b[39;00m\u001b[38;5;21;01mGeneral\u001b[39;00m\u001b[38;5;21;01m.\u001b[39;00m\u001b[38;5;21;01mPipeline\u001b[39;00m\u001b[38;5;21;01m.\u001b[39;00m\u001b[38;5;21;01mStages\u001b[39;00m\u001b[38;5;21;01m.\u001b[39;00m\u001b[38;5;21;01mDisplayFunctions\u001b[39;00m\u001b[38;5;21;01m.\u001b[39;00m\u001b[38;5;21;01mDecoderPredictionError\u001b[39;00m \u001b[38;5;28;01mimport\u001b[39;00m DefaultDecoderDisplayFunctions\n",
      "File \u001b[0;32m~/repos/pyPhoPlaceCellAnalysis/src/pyphoplacecellanalysis/General/Pipeline/Stages/DisplayFunctions/DefaultDisplayFunctions.py:5\u001b[0m, in \u001b[0;36m<module>\u001b[0;34m\u001b[0m\n\u001b[1;32m      2\u001b[0m \u001b[38;5;28;01mfrom\u001b[39;00m \u001b[38;5;21;01mpyphocorehelpers\u001b[39;00m\u001b[38;5;21;01m.\u001b[39;00m\u001b[38;5;21;01mmixins\u001b[39;00m\u001b[38;5;21;01m.\u001b[39;00m\u001b[38;5;21;01mmember_enumerating\u001b[39;00m \u001b[38;5;28;01mimport\u001b[39;00m AllFunctionEnumeratingMixin\n\u001b[1;32m      3\u001b[0m \u001b[38;5;28;01mfrom\u001b[39;00m \u001b[38;5;21;01mpyphoplacecellanalysis\u001b[39;00m\u001b[38;5;21;01m.\u001b[39;00m\u001b[38;5;21;01mGeneral\u001b[39;00m\u001b[38;5;21;01m.\u001b[39;00m\u001b[38;5;21;01mPipeline\u001b[39;00m\u001b[38;5;21;01m.\u001b[39;00m\u001b[38;5;21;01mStages\u001b[39;00m\u001b[38;5;21;01m.\u001b[39;00m\u001b[38;5;21;01mDisplayFunctions\u001b[39;00m\u001b[38;5;21;01m.\u001b[39;00m\u001b[38;5;21;01mDisplayFunctionRegistryHolder\u001b[39;00m \u001b[38;5;28;01mimport\u001b[39;00m DisplayFunctionRegistryHolder\n\u001b[0;32m----> 5\u001b[0m \u001b[38;5;28;01mfrom\u001b[39;00m \u001b[38;5;21;01mpyphoplacecellanalysis\u001b[39;00m\u001b[38;5;21;01m.\u001b[39;00m\u001b[38;5;21;01mPhoPositionalData\u001b[39;00m\u001b[38;5;21;01m.\u001b[39;00m\u001b[38;5;21;01mplotting\u001b[39;00m\u001b[38;5;21;01m.\u001b[39;00m\u001b[38;5;21;01mplacefield\u001b[39;00m \u001b[38;5;28;01mimport\u001b[39;00m plot_1d_placecell_validations\n\u001b[1;32m      7\u001b[0m \u001b[38;5;28;01mfrom\u001b[39;00m \u001b[38;5;21;01mpyphocorehelpers\u001b[39;00m\u001b[38;5;21;01m.\u001b[39;00m\u001b[38;5;21;01mDataStructure\u001b[39;00m\u001b[38;5;21;01m.\u001b[39;00m\u001b[38;5;21;01mRenderPlots\u001b[39;00m\u001b[38;5;21;01m.\u001b[39;00m\u001b[38;5;21;01mMatplotLibRenderPlots\u001b[39;00m \u001b[38;5;28;01mimport\u001b[39;00m MatplotlibRenderPlots\n\u001b[1;32m     10\u001b[0m \u001b[38;5;28;01mclass\u001b[39;00m \u001b[38;5;21;01mDefaultDisplayFunctions\u001b[39;00m(AllFunctionEnumeratingMixin, metaclass\u001b[38;5;241m=\u001b[39mDisplayFunctionRegistryHolder):\n",
      "File \u001b[0;32m~/repos/pyPhoPlaceCellAnalysis/src/pyphoplacecellanalysis/PhoPositionalData/plotting/placefield.py:16\u001b[0m, in \u001b[0;36m<module>\u001b[0;34m\u001b[0m\n\u001b[1;32m     14\u001b[0m \u001b[38;5;28;01mimport\u001b[39;00m \u001b[38;5;21;01mpandas\u001b[39;00m \u001b[38;5;28;01mas\u001b[39;00m \u001b[38;5;21;01mpd\u001b[39;00m\n\u001b[1;32m     15\u001b[0m \u001b[38;5;28;01mfrom\u001b[39;00m \u001b[38;5;21;01mpathlib\u001b[39;00m \u001b[38;5;28;01mimport\u001b[39;00m Path\n\u001b[0;32m---> 16\u001b[0m \u001b[38;5;28;01mfrom\u001b[39;00m \u001b[38;5;21;01mqtpy\u001b[39;00m \u001b[38;5;28;01mimport\u001b[39;00m QtGui \u001b[38;5;66;03m# for QColor\u001b[39;00m\n\u001b[1;32m     18\u001b[0m \u001b[38;5;66;03m## Optional Plotting with Tabbed matplotlib figure:\u001b[39;00m\n\u001b[1;32m     19\u001b[0m \u001b[38;5;28;01mfrom\u001b[39;00m \u001b[38;5;21;01mmpl_multitab\u001b[39;00m \u001b[38;5;28;01mimport\u001b[39;00m MplMultiTab, MplMultiTab2D\n",
      "File \u001b[0;32m~/miniconda3/envs/PhoLabVizClone/lib/python3.9/site-packages/qtpy/__init__.py:259\u001b[0m, in \u001b[0;36m<module>\u001b[0;34m\u001b[0m\n\u001b[1;32m    256\u001b[0m     QT6 \u001b[38;5;241m=\u001b[39m PYSIDE6 \u001b[38;5;241m=\u001b[39m \u001b[38;5;28;01mTrue\u001b[39;00m\n\u001b[1;32m    258\u001b[0m \u001b[38;5;28;01mexcept\u001b[39;00m \u001b[38;5;167;01mImportError\u001b[39;00m:\n\u001b[0;32m--> 259\u001b[0m     \u001b[38;5;28;01mraise\u001b[39;00m QtBindingsNotFoundError()\n\u001b[1;32m    260\u001b[0m \u001b[38;5;28;01melse\u001b[39;00m:\n\u001b[1;32m    261\u001b[0m     os\u001b[38;5;241m.\u001b[39menviron[QT_API] \u001b[38;5;241m=\u001b[39m API\n",
      "\u001b[0;31mQtBindingsNotFoundError\u001b[0m: No Qt bindings could be found"
     ]
    }
   ],
   "source": [
    "%pdb off\n",
    "%load_ext autoreload\n",
    "%autoreload 2\n",
    "import sys\n",
    "import importlib\n",
    "from pathlib import Path\n",
    "\n",
    "import numpy as np\n",
    "\n",
    "# required to enable non-blocking interaction:\n",
    "# %gui qt\n",
    "!env QT_API=\"pyqt5\"\n",
    "%gui qt5\n",
    "# %gui qt6\n",
    "# from PyQt5.Qt import QApplication\n",
    "# # start qt event loop\n",
    "# _instance = QApplication.instance()\n",
    "# if not _instance:\n",
    "#     _instance = QApplication([])\n",
    "# app = _instance\n",
    "\n",
    "from copy import deepcopy\n",
    "from numba import jit\n",
    "import numpy as np\n",
    "import pandas as pd\n",
    "\n",
    "\n",
    "# Pho's Formatting Preferences\n",
    "# from pyphocorehelpers.preferences_helpers import set_pho_preferences, set_pho_preferences_concise, set_pho_preferences_verbose\n",
    "# set_pho_preferences_concise()\n",
    "\n",
    "## Pho's Custom Libraries:\n",
    "\n",
    "# pyPhoPlaceCellAnalysis:\n",
    "from pyphoplacecellanalysis.General.Pipeline.NeuropyPipeline import NeuropyPipeline # get_neuron_identities\n",
    "\n",
    "# NeuroPy (Diba Lab Python Repo) Loading\n",
    "# from neuropy import core\n",
    "from neuropy.analyses.placefields import PlacefieldComputationParameters\n",
    "from neuropy.core.epoch import NamedTimerange\n",
    "from neuropy.core.session.Formats.BaseDataSessionFormats import DataSessionFormatRegistryHolder\n",
    "from neuropy.core.session.Formats.Specific.BapunDataSessionFormat import BapunDataSessionFormatRegisteredClass\n",
    "from neuropy.core.session.Formats.Specific.KDibaOldDataSessionFormat import KDibaOldDataSessionFormatRegisteredClass\n",
    "from neuropy.core.session.Formats.Specific.RachelDataSessionFormat import RachelDataSessionFormat\n",
    "from neuropy.core.session.Formats.Specific.HiroDataSessionFormat import HiroDataSessionFormatRegisteredClass\n",
    "\n",
    "known_data_session_type_properties_dict = DataSessionFormatRegistryHolder.get_registry_known_data_session_type_dict()\n",
    "active_data_session_types_registered_classes_dict = DataSessionFormatRegistryHolder.get_registry_data_session_type_class_name_dict()\n",
    "enable_saving_to_disk = False\n",
    "\n",
    "## For computation parameters:\n",
    "from neuropy.analyses.placefields import PlacefieldComputationParameters\n",
    "from neuropy.utils.dynamic_container import DynamicContainer\n",
    "\n",
    "from PendingNotebookCode import _perform_batch_plot, _build_batch_plot_kwargs, find_local_session_paths\n",
    "\n",
    "def build_eloy_computation_configs(sess, **kwargs):\n",
    "    \"\"\" OPTIONALLY can be overriden by implementors to provide specific filter functions \"\"\"\n",
    "    # (4.0, 4.0)cm bins, (6.0, 6.0)cm gaussian smoothing\n",
    "    # peak frate > 2Hz \n",
    "    # return [DynamicContainer(pf_params=PlacefieldComputationParameters(speed_thresh=10.0, grid_bin=(4.0, 4.0), smooth=(6.0, 6.0), frate_thresh=0.2, time_bin_size=1.0, computation_epochs = None), spike_analysis=None)]\n",
    "    # return [DynamicContainer(pf_params=PlacefieldComputationParameters(speed_thresh=10.0, grid_bin=(4.0, 4.0), smooth=(2.5, 2.5), frate_thresh=0.2, time_bin_size=1.0, computation_epochs = None), spike_analysis=None)]\n",
    "    # return [DynamicContainer(pf_params=PlacefieldComputationParameters(speed_thresh=10.0, grid_bin=(4.0, 4.0), smooth=(0.2, 0.2), frate_thresh=0.2, time_bin_size=1.0, computation_epochs = None), spike_analysis=None)]\n",
    "    return [DynamicContainer(pf_params=PlacefieldComputationParameters(speed_thresh=10.0, grid_bin=(4.0, 4.0), smooth=(0.2, 0.2), frate_thresh=0.2, time_bin_size=0.025, computation_epochs = None), spike_analysis=None)]\n",
    "\n",
    "\n",
    "\n",
    "# global_data_root_parent_path = Path(r'W:\\Data') # Windows Apogee\n",
    "global_data_root_parent_path = Path(r'/media/MAX/Data') # Diba Lab Workstation Linux\n",
    "# global_data_root_parent_path = Path(r'/Volumes/MoverNew/data') # rMBP\n",
    "assert global_data_root_parent_path.exists(), f\"global_data_root_parent_path: {global_data_root_parent_path} does not exist! Is the right computer's config commented out above?\""
   ]
  },
  {
   "cell_type": "markdown",
   "id": "60fde1ef-b6bc-4500-866e-00a69be7f8de",
   "metadata": {},
   "source": [
    "# Load Pipeline"
   ]
  },
  {
   "cell_type": "code",
   "execution_count": null,
   "id": "51f400fa-7f60-4b55-92bf-da3d552ca89a",
   "metadata": {},
   "outputs": [],
   "source": [
    "# ==================================================================================================================== #\n",
    "# Load Data                                                                                                            #\n",
    "# ==================================================================================================================== #\n",
    "\n",
    "# %%viztracer\n",
    "active_data_mode_name = 'kdiba'\n",
    "active_data_mode_registered_class = active_data_session_types_registered_classes_dict[active_data_mode_name]\n",
    "active_data_mode_type_properties = known_data_session_type_properties_dict[active_data_mode_name]\n",
    "\n",
    "## Data must be pre-processed using the MATLAB script located here: \n",
    "#     neuropy/data_session_pre_processing_scripts/KDIBA/IIDataMat_Export_ToPython_2022_08_01.m\n",
    "# From pre-computed .mat files:\n",
    "\n",
    "local_session_root_parent_path = global_data_root_parent_path.joinpath('KDIBA')\n",
    "\n",
    "## Animal `gor01`:\n",
    "local_session_parent_path = local_session_root_parent_path.joinpath('gor01', 'one')\n",
    "local_session_paths_list, local_session_names_list =  find_local_session_paths(local_session_parent_path, blacklist=['PhoHelpers', 'Spike3D-Minimal-Test', 'Unused'])\n",
    "\n",
    "# local_session_parent_path = local_session_root_parent_path.joinpath('gor01', 'two')\n",
    "# local_session_paths_list, local_session_names_list =  _find_local_session_paths(local_session_parent_path, blacklist=[])\n",
    "    \n",
    "# ### Animal `vvp01`:\n",
    "# local_session_parent_path = local_session_root_parent_path.joinpath('vvp01', 'one')\n",
    "# local_session_paths_list, local_session_names_list =  _find_local_session_paths(local_session_parent_path, blacklist=[])\n",
    "\n",
    "# local_session_parent_path = local_session_root_parent_path.joinpath('vvp01', 'two')\n",
    "# local_session_paths_list, local_session_names_list =  _find_local_session_paths(local_session_parent_path, blacklist=[])\n",
    "\n",
    "# local_session_paths_list = [local_session_parent_path.joinpath(a_name).resolve() for a_name in local_session_names_list]\n",
    "basedir = local_session_paths_list[1] # NOT 3\n",
    "print(f'basedir: {str(basedir)}')\n",
    "\n",
    "\n",
    "# ==================================================================================================================== #\n",
    "# Load Pipeline                                                                                                        #\n",
    "# ==================================================================================================================== #\n",
    "curr_active_pipeline = NeuropyPipeline.try_init_from_saved_pickle_or_reload_if_needed(active_data_mode_name, active_data_mode_type_properties, override_basepath=Path(basedir), override_post_load_functions=[], force_reload=False, active_pickle_filename='loadedSessPickle.pkl', skip_save=True)\n",
    "active_session_filter_configurations = active_data_mode_registered_class.build_default_filter_functions(sess=curr_active_pipeline.sess, epoch_name_whitelist=['maze1','maze2','maze']) # build_filters_pyramidal_epochs(sess=curr_kdiba_pipeline.sess)\n",
    "# active_session_filter_configurations = active_data_mode_registered_class.build_filters_pyramidal_epochs(sess=curr_active_pipeline.sess, epoch_name_whitelist=['maze','maze1','maze2'])\n",
    "# active_session_filter_configurations = active_data_mode_registered_class.build_filters_pyramidal_epochs(sess=curr_active_pipeline.sess, epoch_name_whitelist=['maze1','maze2'])\n",
    "# active_session_filter_configurations = active_data_mode_registered_class.build_filters_pyramidal_epochs(sess=curr_active_pipeline.sess, epoch_name_whitelist=['maze1'])\n",
    "# active_session_filter_configurations = active_data_mode_registered_class.build_filters_pyramidal_epochs(sess=curr_active_pipeline.sess, epoch_name_whitelist=['maze2'])\n",
    "print(f'active_session_filter_configurations: {active_session_filter_configurations}')\n",
    "\n",
    "# sess.epochs.t_start = 22.26 # exclude the first short period where the animal isn't on the maze yet\n",
    "# active_session_filter_configurations = {'maze1': lambda x: (x.filtered_by_epoch(x.epochs.get_named_timerange('maze1')), x.epochs.get_named_timerange('maze1')),\n",
    "#     'maze2': lambda x: (x.filtered_by_epoch(x.epochs.get_named_timerange('maze2')), x.epochs.get_named_timerange('maze2')),\n",
    "#     'maze': lambda x: (x.filtered_by_epoch(NamedTimerange(name='maze', start_end_times=[x.epochs['maze1'][0], x.epochs['maze2'][1]])), NamedTimerange(name='maze', start_end_times=[x.epochs['maze1'][0], x.epochs['maze2'][1]]))\n",
    "# }\n",
    "\n",
    "active_session_computation_configs = active_data_mode_registered_class.build_default_computation_configs(sess=curr_active_pipeline.sess, time_bin_size=0.03333) #1.0/30.0 # decode at 30fps to match the position sampling frequency\n",
    "# active_session_computation_configs[0].pf_params.smooth = (0.0, 0.0)\n",
    "# active_session_computation_configs = build_eloy_computation_configs(sess=curr_active_pipeline.sess)\n",
    "curr_active_pipeline.filter_sessions(active_session_filter_configurations) ## NOTE: BUG: TODO: this fails when the pipeline is loaded if the active_session_filter_configurations were initially defined in the notebook itself (because it can't get the source code).\n",
    "\n",
    "# Whitelist Mode:\n",
    "computation_functions_name_whitelist=['_perform_baseline_placefield_computation', '_perform_time_dependent_placefield_computation', '_perform_extended_statistics_computation',\n",
    "                                        '_perform_position_decoding_computation', \n",
    "                                        '_perform_firing_rate_trends_computation',\n",
    "                                        '_perform_pf_find_ratemap_peaks_computation',\n",
    "                                        # '_perform_two_step_position_decoding_computation',\n",
    "                                        # '_perform_recursive_latent_placefield_decoding'\n",
    "                                     ]  # '_perform_pf_find_ratemap_peaks_peak_prominence2d_computation'\n",
    "computation_functions_name_blacklist=None\n",
    "\n",
    "# # Blacklist Mode:\n",
    "# computation_functions_name_whitelist=None\n",
    "# computation_functions_name_blacklist=['_perform_spike_burst_detection_computation','_perform_recursive_latent_placefield_decoding']\n",
    "\n",
    "curr_active_pipeline.perform_computations(active_session_computation_configs[0], computation_functions_name_whitelist=computation_functions_name_whitelist, computation_functions_name_blacklist=computation_functions_name_blacklist, fail_on_exception=True, debug_print=False) #, overwrite_extant_results=False  ], fail_on_exception=True, debug_print=False)\n",
    "\n",
    "# curr_active_pipeline.perform_computations(active_session_computation_configs[0], computation_functions_name_blacklist=['_perform_spike_burst_detection_computation'], debug_print=False, fail_on_exception=False) # whitelist: ['_perform_baseline_placefield_computation']\n",
    "\n",
    "curr_active_pipeline.prepare_for_display(root_output_dir=global_data_root_parent_path.joinpath('Output'), should_smooth_maze=True) # TODO: pass a display config\n",
    "\n",
    "curr_active_pipeline.save_pipeline()"
   ]
  },
  {
   "cell_type": "markdown",
   "id": "9ec4e913-d02a-40bd-9a9d-d109af03c087",
   "metadata": {
    "jp-MarkdownHeadingCollapsed": true,
    "tags": []
   },
   "source": [
    "## 🗨️🟢 2022-10-26 - Jonathan Firing Rate Analyses"
   ]
  },
  {
   "cell_type": "code",
   "execution_count": null,
   "id": "a84452b6-7c8a-49c5-a60d-6bd0c54e92fc",
   "metadata": {},
   "outputs": [],
   "source": [
    "# ==================================================================================================================== #\n",
    "# Perform missing global computations                                                                                  #\n",
    "# ==================================================================================================================== #\n",
    "curr_active_pipeline.perform_specific_computation(computation_functions_name_whitelist=['_perform_jonathan_replay_firing_rate_analyses', '_perform_short_long_pf_overlap_analyses'], fail_on_exception=True, debug_print=True)\n",
    "\n",
    "## Get global 'jonathan_firing_rate_analysis' results:\n",
    "curr_jonathan_firing_rate_analysis = curr_active_pipeline.global_computation_results.computed_data['jonathan_firing_rate_analysis']\n",
    "neuron_replay_stats_df, rdf, aclu_to_idx, irdf = curr_jonathan_firing_rate_analysis['neuron_replay_stats_df'], curr_jonathan_firing_rate_analysis['rdf']['rdf'], curr_jonathan_firing_rate_analysis['rdf']['aclu_to_idx'], curr_jonathan_firing_rate_analysis['irdf']['irdf']\n",
    "neuron_replay_stats_df"
   ]
  },
  {
   "cell_type": "markdown",
   "id": "24407397-0394-4e6a-ad9a-a1099d9b2bd9",
   "metadata": {
    "jp-MarkdownHeadingCollapsed": true,
    "tags": []
   },
   "source": [
    "## 🗨️🟢 2022-11-05 - Pho-Jonathan Batch Outputs of Firing Rate Figures"
   ]
  },
  {
   "cell_type": "code",
   "execution_count": null,
   "id": "3ce4ff55-1267-4ad9-b80a-b4cb15d14578",
   "metadata": {},
   "outputs": [],
   "source": [
    "# ==================================================================================================================== #\n",
    "# Batch Output of Figures                                                                                              #\n",
    "# ==================================================================================================================== #\n",
    "\n",
    "# %matplotlib qt\n",
    "\n",
    "from pyphoplacecellanalysis.General.Mixins.CrossComputationComparisonHelpers import SplitPartitionMembership\n",
    "short_only_df = neuron_replay_stats_df[neuron_replay_stats_df.track_membership == SplitPartitionMembership.RIGHT_ONLY]\n",
    "short_only_aclus = short_only_df.index.values.tolist()\n",
    "long_only_df = neuron_replay_stats_df[neuron_replay_stats_df.track_membership == SplitPartitionMembership.LEFT_ONLY]\n",
    "long_only_aclus = long_only_df.index.values.tolist()\n",
    "shared_df = neuron_replay_stats_df[neuron_replay_stats_df.track_membership == SplitPartitionMembership.SHARED]\n",
    "shared_aclus = shared_df.index.values.tolist()\n",
    "print(f'shared_aclus: {shared_aclus}')\n",
    "print(f'long_only_aclus: {long_only_aclus}')\n",
    "print(f'short_only_aclus: {short_only_aclus}')\n",
    "\n",
    "active_identifying_session_ctx = curr_active_pipeline.sess.get_context() # 'bapun_RatN_Day4_2019-10-15_11-30-06'"
   ]
  },
  {
   "cell_type": "code",
   "execution_count": null,
   "id": "f567bf67-2dec-4448-9bde-cfd8f26bc66d",
   "metadata": {},
   "outputs": [],
   "source": [
    "# ==================================================================================================================== #\n",
    "# Output Figures to File                                                                                               #\n",
    "# ==================================================================================================================== #\n",
    "## PDF Output\n",
    "# %matplotlib qtagg\n",
    "import matplotlib\n",
    "# configure backend here\n",
    "# matplotlib.use('Qt5Agg')\n",
    "# backend_qt5agg\n",
    "matplotlib.use('AGG') # non-interactive backend ## 2022-08-16 - Surprisingly this works to make the matplotlib figures render only to .png file, not appear on the screen!\n",
    "\n",
    "n_max_page_rows = 10\n",
    "_batch_plot_kwargs_list = _build_batch_plot_kwargs(long_only_aclus, short_only_aclus, shared_aclus, active_identifying_session_ctx, n_max_page_rows=n_max_page_rows)\n",
    "active_out_figures_list = _perform_batch_plot(curr_active_pipeline, _batch_plot_kwargs_list, figures_parent_out_path=None, write_pdf=False, write_png=True, progress_print=True, debug_print=False)"
   ]
  },
  {
   "cell_type": "code",
   "execution_count": null,
   "id": "8910c828-89cc-4b6f-aab0-1572894ad838",
   "metadata": {},
   "outputs": [],
   "source": []
  },
  {
   "cell_type": "markdown",
   "id": "53cd05b7-ade9-420e-8b14-3e71474431f5",
   "metadata": {
    "pycharm": {
     "name": "#%%\n"
    },
    "tags": []
   },
   "source": [
    "# Individual Plotting Tests:"
   ]
  },
  {
   "cell_type": "markdown",
   "id": "9655181f-dc58-470a-b496-0fc9cd3c0883",
   "metadata": {
    "tags": []
   },
   "source": [
    "### Common Config"
   ]
  },
  {
   "cell_type": "code",
   "execution_count": null,
   "id": "6a65d5c1-817c-488c-87d2-03525b8d2e06",
   "metadata": {
    "tags": []
   },
   "outputs": [],
   "source": [
    "# display matplotlib figures in a qt backed window. Works in Jupyter notebooks\n",
    "from neuropy.utils.matplotlib_helpers import enumTuningMap2DPlotVariables # for getting the variant name from the dict\n",
    "\n",
    "from pyphocorehelpers.plotting.figure_management import PhoActiveFigureManager2D, capture_new_figures_decorator\n",
    "fig_man = PhoActiveFigureManager2D(name=f'fig_man') # Initialize a new figure manager\n",
    "from pyphoplacecellanalysis.GUI.PyQtPlot.Widgets.DockAreaWrapper import DockAreaWrapper\n",
    "\n",
    "\n",
    "## PDF Output, NOTE this is single plot stuff: uses active_config_name\n",
    "from matplotlib.backends import backend_pdf\n",
    "from pyphoplacecellanalysis.General.Mixins.ExportHelpers import create_daily_programmatic_display_function_testing_folder_if_needed, build_pdf_metadata_from_display_context, programmatic_display_to_PDF\n",
    "\n",
    "# # ## OPTIONS/SETTINGS:\n",
    "# # enable_saving_to_disk = True\n",
    "# # # enable_saving_to_disk = False\n",
    "# # # open_folders_in_system_teafile_manager = True\n",
    "# # open_folders_in_system_file_manager = False\n",
    "\n",
    "# ## Old Individual Plotting Function Configs, still used as of 2022-08-10:\n",
    "# # figure_format_config = dict(subplots=(20, 8), max_screen_figure_size=(2256, 2048)) # bad way\n",
    "# # figure_format_config = dict(subplots=(None, 8), max_screen_figure_size=(None, 1868)) # good way\n",
    "# figure_format_config = dict(subplots=(None, 8), max_screen_figure_size=(None, None)) # good way\n",
    "# # figure_format_config = dict(subplots=(20, 8), max_screen_figure_size=(None, 1868))\n",
    "\n",
    "# # figure_format_config = dict(subplots=(6, 6), max_screen_figure_size=(2256, 2048)) # bad way\n",
    "# # RowColTuple(subplots[0], subplots[1])\n",
    "\n",
    "# ## Add explicit column/row widths to fix window sizing issue:\n",
    "# # figure_format_config = (dict(fig_column_width=1.0, fig_row_height=1.0) | figure_format_config)\n",
    "# figure_format_config = (dict(fig_column_width=2.0, fig_row_height=2.0) | figure_format_config)\n",
    "# # figure_format_config = (dict(fig_column_width=5.0, fig_row_height=5.0) | figure_format_config)\n",
    "\n",
    "# ## Add additional default options:\n",
    "# figure_format_config = (dict(enable_spike_overlay=False, debug_print=True, enable_saving_to_disk=enable_saving_to_disk) | figure_format_config)\n",
    "# figure_format_config\n",
    "\n",
    "# NOTE: if you want the outputs to be rendered to the same PDF, you must wrap all the plotting in the backend_pdf context:\n",
    "def wrap_display_function_to_save_pdf(curr_display_function_name='_display_normal', filter_name='maze'):\n",
    "    \"\"\" implicitly captures: active_identifying_filtered_session_ctx, _get_curr_figure_format_config \n",
    "    \n",
    "    Usage:\n",
    "        wrap_display_function_to_save_pdf(curr_display_function_name='_display_normal', filter_name=active_config_name)\n",
    "    \"\"\"\n",
    "    built_pdf_metadata, curr_pdf_save_path = _build_pdf_pages_output_info(curr_display_function_name) # but this is specific to a given display function, right?\n",
    "    active_identifying_display_ctx = active_identifying_filtered_session_ctx.adding_context('display_fn', display_fn_name=curr_display_function_name)\n",
    "    figure_format_config = _get_curr_figure_format_config() # Fetch the context from the GUI\n",
    "    figure_format_config['enable_saving_to_disk'] = False # don't use the in-built figure export/saving to disk functionality as we want to wrap the output figure with the Pdf saving, not write to a .png\n",
    "    with backend_pdf.PdfPages(curr_pdf_save_path, keep_empty=False, metadata=built_pdf_metadata) as pdf:\n",
    "        # set_rasterized,  Axes.set_rasterization_zorder\n",
    "        # fig0, figList1 = curr_active_pipeline.display(curr_display_function_name, filter_name, debug_print=False, enable_saving_to_disk=enable_saving_to_disk)\n",
    "        ## TODO: main display function call done here:\n",
    "        out_figures_list = curr_active_pipeline.display(curr_display_function_name, filter_name, **figure_format_config)\n",
    "        if not isinstance(out_figures_list, (list, tuple)):\n",
    "            # not a list, just a scalar object\n",
    "            plots = [out_figures_list] # make a single-element list\n",
    "        else:\n",
    "            # it is a list\n",
    "            if len(out_figures_list) == 2:\n",
    "                fig0, figList1 = out_figures_list # unpack\n",
    "                plots = [fig0, *figList1]\n",
    "            else:\n",
    "                # otherwise just try and set the plots to the list\n",
    "                plots = out_figures_list\n",
    "                \n",
    "        for i, a_fig in enumerate(plots):\n",
    "            pdf.savefig(a_fig, transparent=True)\n",
    "            pdf.attach_note(f'Page {i + 1}') \n",
    "\n",
    "            "
   ]
  },
  {
   "cell_type": "markdown",
   "id": "44dd1ae1-a5cd-4a03-bc11-dbb77dc161b8",
   "metadata": {
    "tags": []
   },
   "source": [
    "## Single (Session, Filter) Context Plotting:"
   ]
  },
  {
   "cell_type": "markdown",
   "id": "774fe569-bbb0-4112-816d-bdbcba78dab5",
   "metadata": {
    "jp-MarkdownHeadingCollapsed": true,
    "tags": []
   },
   "source": [
    "### Utility:"
   ]
  },
  {
   "cell_type": "code",
   "execution_count": null,
   "id": "cc39ef8c-731a-47e5-9471-8f64d9e5511d",
   "metadata": {
    "scrolled": true
   },
   "outputs": [],
   "source": [
    "# Reload display functions:\n",
    "curr_active_pipeline.reload_default_display_functions()\n",
    "curr_active_pipeline.registered_display_function_names # ['_display_1d_placefield_validations', '_display_2d_placefield_result_plot_ratemaps_2D', '_display_2d_placefield_result_plot_raw', '_display_normal', '_display_placemaps_pyqtplot_2D', '_display_decoder_result', '_display_plot_most_likely_position_comparisons', '_display_two_step_decoder_prediction_error_2D', '_display_two_step_decoder_prediction_error_animated_2D', '_display_spike_rasters_pyqtplot_2D', '_display_spike_rasters_pyqtplot_3D', '_display_spike_rasters_pyqtplot_3D_with_2D_controls', '_display_spike_rasters_vedo_3D', '_display_spike_rasters_vedo_3D_with_2D_controls', '_display_spike_rasters_window', '_display_speed_vs_PFoverlapDensity_plots', '_display_3d_image_plotter', '_display_3d_interactive_custom_data_explorer', '_display_3d_interactive_spike_and_behavior_browser', '_display_3d_interactive_tuning_curves_plotter']\n",
    "print(curr_active_pipeline.registered_display_function_names)"
   ]
  },
  {
   "cell_type": "code",
   "execution_count": null,
   "id": "5b986994-a44b-43e0-9022-ceeecb075386",
   "metadata": {
    "scrolled": true
   },
   "outputs": [],
   "source": [
    "## Test getting figure save paths:\n",
    "_test_fig_path = curr_active_config.plotting_config.get_figure_save_path('test')\n",
    "print(f'_test_fig_path: {_test_fig_path}\\n\\t exists? {_test_fig_path.exists()}')"
   ]
  },
  {
   "cell_type": "code",
   "execution_count": null,
   "id": "6f563259-19f3-4d85-bb53-ae88e389cde9",
   "metadata": {},
   "outputs": [],
   "source": [
    "%matplotlib --list \n",
    "# Available matplotlib backends: ['tk', 'gtk', 'gtk3', 'gtk4', 'wx', 'qt4', 'qt5', 'qt6', 'qt', 'osx', 'nbagg', 'notebook', 'agg', 'svg', 'pdf', 'ps', 'inline', 'ipympl', 'widget']"
   ]
  },
  {
   "cell_type": "code",
   "execution_count": null,
   "id": "e3ed2748-0817-42dc-93b8-6648d3c16caf",
   "metadata": {},
   "outputs": [],
   "source": [
    "%matplotlib qt\n",
    "## NOTE THAT ONCE THIS IS SET TO qt, it cannot be undone!"
   ]
  },
  {
   "cell_type": "code",
   "execution_count": null,
   "id": "078ffb71-4d2c-4f5d-a4c1-72e17edd713b",
   "metadata": {
    "scrolled": true
   },
   "outputs": [],
   "source": [
    "fig_man.close_all()"
   ]
  },
  {
   "cell_type": "code",
   "execution_count": null,
   "id": "ef4d70b2-3b0e-4e25-8b13-21a30f2cde75",
   "metadata": {
    "scrolled": true
   },
   "outputs": [],
   "source": [
    "extant_figs_dict = fig_man.figures_dict\n",
    "extant_fig_nums = fig_man.figure_nums\n",
    "fig_num_figure_still_exists = [plt.fignum_exists(a_fig_num) for a_fig_num in extant_fig_nums]\n",
    "fig_num_figure_still_exists #     # Figure is still opened or is closed\n",
    "# if plt.fignum_exists(<figure number>):\n",
    "#     # Figure is still opened\n",
    "# else:\n",
    "#     # Figure is closed\n",
    "extant_figs_dict\n",
    "\n",
    "# mpl.rcParams['toolbar'] = 'None'"
   ]
  },
  {
   "cell_type": "code",
   "execution_count": null,
   "id": "79610527-dbe8-4825-9041-ecdf5e8f5683",
   "metadata": {
    "scrolled": true
   },
   "outputs": [],
   "source": [
    "fig_man.reshow_figure(extant_figs_dict[10])"
   ]
  },
  {
   "cell_type": "markdown",
   "id": "43bd6b99-5874-41c9-bc38-4a28c6aeb88c",
   "metadata": {
    "tags": []
   },
   "source": [
    "#### 🐞 Planning Helper Dock"
   ]
  },
  {
   "cell_type": "code",
   "execution_count": null,
   "id": "c0e1d366-5b99-4107-be56-a8e1c86b75e4",
   "metadata": {},
   "outputs": [],
   "source": [
    "from pyphoplacecellanalysis.GUI.PyQtPlot.Widgets.DockPlanningHelperWidget.DockPlanningHelperWidget import DockPlanningHelperWidget"
   ]
  },
  {
   "cell_type": "code",
   "execution_count": null,
   "id": "a19ea923-19ca-4d53-8f13-6d5a356a9cc5",
   "metadata": {},
   "outputs": [],
   "source": [
    "test_dock_planning_widget = DockPlanningHelperWidget(dock_title='Test Dock Widget 1', dock_id='Test Dock Widget 1')\n",
    "win.add_display_dock(identifier=test_dock_planning_widget.identifier, widget=test_dock_planning_widget)"
   ]
  },
  {
   "cell_type": "code",
   "execution_count": null,
   "id": "70ee52fe-3d8c-4a91-ae5b-3031583e2ca4",
   "metadata": {},
   "outputs": [],
   "source": [
    "# test_dock_planning_widget.parent()\n",
    "test_dock_planning_widget.embedding_dock_item"
   ]
  },
  {
   "cell_type": "code",
   "execution_count": null,
   "id": "caab1652-9d8e-4c76-a440-60af72e46001",
   "metadata": {},
   "outputs": [],
   "source": [
    "test_dock_planning_widget.embedding_dock_item.area # DockArea \n",
    "# test_dock_planning_widget.embedding_dock_item.orig_area # DockArea "
   ]
  },
  {
   "cell_type": "code",
   "execution_count": null,
   "id": "27f250a6-26cb-4061-968a-28daec5a02fc",
   "metadata": {},
   "outputs": [],
   "source": [
    "test_dock_planning_widget.embedding_dock_item.setOrientation"
   ]
  },
  {
   "cell_type": "code",
   "execution_count": null,
   "id": "7b60dc69-31d5-477c-9618-9c57c5d299a6",
   "metadata": {},
   "outputs": [],
   "source": [
    "test_dock_planning_widget, test_dock_item = win.create_planning_helper_dock()\n",
    "test_dock_planning_widget"
   ]
  },
  {
   "cell_type": "code",
   "execution_count": null,
   "id": "9a25c0f4-dc75-4e4b-a543-8f495e661156",
   "metadata": {},
   "outputs": [],
   "source": [
    "win.ui"
   ]
  },
  {
   "cell_type": "code",
   "execution_count": null,
   "id": "99ad4940-0d96-4663-bd0c-89993fb5efe4",
   "metadata": {},
   "outputs": [],
   "source": [
    "test_dock_planning_widget2, test_dock_item2 = win.create_planning_helper_dock()\n",
    "test_dock_planning_widget2"
   ]
  },
  {
   "cell_type": "code",
   "execution_count": null,
   "id": "ee47d9f4-a3ed-4931-8b89-9306fb96eff2",
   "metadata": {},
   "outputs": [],
   "source": [
    "# curr_display_dock_planning_helper_widgets = win.displayDockArea.findChildren(DockPlanningHelperWidget, QtCore.QRegExp(\".*\"), QtCore.Qt.FindChildrenRecursively)\n",
    "# curr_display_dock_planning_helper_widgets\n",
    "\n",
    "curr_display_dock_planning_helper_widgets = win.displayDockArea.findChildren(DockPlanningHelperWidget, QtCore.QRegExp(\".*\"), QtCore.Qt.FindChildrenRecursively)\n",
    "# curr_display_dock_planning_helper_widgets\n",
    "# win.connection_man\n",
    "for a_child_helper_widget in curr_display_dock_planning_helper_widgets:\n",
    "    a_child_helper_widget.action_create_new_dock.connect(perform_create_new_relative_dock)"
   ]
  },
  {
   "cell_type": "code",
   "execution_count": null,
   "id": "fd453c46-2852-4c54-846d-f5651546ab01",
   "metadata": {},
   "outputs": [],
   "source": [
    "win.dynamic_display_dict"
   ]
  },
  {
   "cell_type": "code",
   "execution_count": null,
   "id": "4f9ea7d5-adbd-4475-a06d-6830815ed932",
   "metadata": {},
   "outputs": [],
   "source": [
    "win.dynamic_display_dict['Test Dock Widget 1']\n",
    "\n",
    "\n",
    "\n",
    "# \"dock\"\n",
    "# \"widget\""
   ]
  },
  {
   "cell_type": "code",
   "execution_count": null,
   "id": "78947de5-787b-45da-82f6-4a6eb6093425",
   "metadata": {},
   "outputs": [],
   "source": [
    "from pyphoplacecellanalysis.External.pyqtgraph.dockarea.Dock import Dock\n",
    "\n",
    "# curr_display_dock_items = win.displayDockArea.children()\n",
    "# curr_display_dock_items = win.displayDockArea.findChildren(Dock)\n",
    "curr_display_dock_items = win.displayDockArea.findChildren(Dock, QtCore.QRegExp(\".*\"), QtCore.Qt.FindChildrenRecursively)\n",
    "curr_display_dock_items"
   ]
  },
  {
   "cell_type": "code",
   "execution_count": null,
   "id": "91a2d01b-f2db-4ade-ae75-101c65d82d29",
   "metadata": {},
   "outputs": [],
   "source": [
    "win.find_display_dock('Test Dock Widget 1')"
   ]
  },
  {
   "cell_type": "code",
   "execution_count": null,
   "id": "4143fb93-e043-4ce0-a776-dfd615b89270",
   "metadata": {},
   "outputs": [],
   "source": [
    "dock_item_titles = [a_dock_item.title() for a_dock_item in curr_display_dock_items]\n",
    "dock_item_titles\n",
    "# [a_dock_item for a_dock_item in curr_display_dock_items]"
   ]
  },
  {
   "cell_type": "code",
   "execution_count": null,
   "id": "351c9d4e-7e18-4cd0-b308-92191c02442f",
   "metadata": {},
   "outputs": [],
   "source": [
    "first_dock_item = curr_display_dock_items[0]"
   ]
  },
  {
   "cell_type": "code",
   "execution_count": null,
   "id": "bc4ed807-f1df-499a-b1c0-4b880c0605ce",
   "metadata": {},
   "outputs": [],
   "source": [
    "first_dock_item.title() # \n",
    "# first_dock_item.setTitle\n",
    "first_dock_item.geometry() # PyQt5.QtCore.QRect(0, 792, 842, 786)"
   ]
  },
  {
   "cell_type": "code",
   "execution_count": null,
   "id": "211b9e8a-c984-47aa-ad57-4387fcf1b5ca",
   "metadata": {},
   "outputs": [],
   "source": [
    "first_dock_item.frameGeometry() # PyQt5.QtCore.QRect(0, 792, 842, 786)\n",
    "first_dock_item.widgets # list, e.g. [<pyphoplacecellanalysis.GUI.PyQtPlot.Widgets.DockPlanningHelperWidget.DockPlanningHelperWidget.DockPlanningHelperWidget at 0x1d6b2a1b820>]\n",
    "first_dock_item.name()\n"
   ]
  },
  {
   "cell_type": "markdown",
   "id": "4a062f0e-dfdf-4f95-a412-7cb8bbafb7c0",
   "metadata": {
    "tags": []
   },
   "source": [
    "## Systematic Display Function Testing"
   ]
  },
  {
   "cell_type": "markdown",
   "id": "7811d710-3ada-437f-827d-0eeacbcbe16b",
   "metadata": {
    "tags": []
   },
   "source": [
    "### Matplotlib-based plots:"
   ]
  },
  {
   "cell_type": "code",
   "execution_count": null,
   "id": "16d6282d-c608-4b39-aa8a-1769d598fe85",
   "metadata": {
    "pycharm": {
     "name": "#%%\n"
    }
   },
   "outputs": [],
   "source": [
    "import matplotlib\n",
    "# matplotlib.use('AGG') # non-interactive backend\n",
    "# %matplotlib -l\n",
    "\n",
    "matplotlib.use('Qt5Agg') # non-interactive backend\n",
    "## 2022-08-16 - Surprisingly this works to make the matplotlib figures render only to .png file, not appear on the screen!"
   ]
  },
  {
   "cell_type": "code",
   "execution_count": null,
   "id": "fc717132-56fe-4150-81c0-69b2ed808a99",
   "metadata": {
    "pycharm": {
     "name": "#%%\n"
    }
   },
   "outputs": [],
   "source": [
    "curr_active_pipeline.filtered_session_names # ['maze', 'sprinkle']\n",
    "active_config_name = 'maze'"
   ]
  },
  {
   "cell_type": "code",
   "execution_count": null,
   "id": "39fd6d59-c119-41bd-91ee-9af2cd531cd0",
   "metadata": {
    "pycharm": {
     "name": "#%%\n"
    }
   },
   "outputs": [],
   "source": [
    "# active_display_to_pdf_fn = wrap_display_function_to_save_pdf\n",
    "active_display_to_pdf_fn = programmatic_display_to_PDF"
   ]
  },
  {
   "cell_type": "code",
   "execution_count": null,
   "id": "0217fa1d-86bd-4a3f-9413-3ae52901aef9",
   "metadata": {
    "scrolled": true
   },
   "outputs": [],
   "source": [
    "%%capture\n",
    "active_display_to_pdf_fn(curr_active_pipeline, curr_display_function_name='_display_1d_placefield_validations', filter_name=active_config_name) # 🟢✅ Working"
   ]
  },
  {
   "cell_type": "code",
   "execution_count": null,
   "id": "d3169054-82fa-459d-b1a2-017626f26ebc",
   "metadata": {
    "scrolled": true
   },
   "outputs": [],
   "source": [
    "# %%capture\n",
    "# active_display_to_pdf_fn(curr_active_pipeline, curr_display_function_name='_display_2d_placefield_result_plot_raw', filter_name=curr_active_pipeline.filtered_contexts.maze) # 🟢✅ Working\n",
    "active_display_to_pdf_fn(curr_active_pipeline, curr_display_function_name='_display_2d_placefield_result_plot_raw') # 🟢✅ Working\n"
   ]
  },
  {
   "cell_type": "code",
   "execution_count": null,
   "id": "e7038ae4-17ce-491c-a1d3-e934537ed550",
   "metadata": {
    "scrolled": true
   },
   "outputs": [],
   "source": [
    "# %%capture\n",
    "active_display_to_pdf_fn(curr_active_pipeline, curr_display_function_name='_display_2d_placefield_result_plot_ratemaps_2D') # , filter_name=active_config_name # 🟢 Mostly Working # works but now only displays a single filter (where before it displayed all of them and rendered them to individual pages of the PDF)\n",
    "# BROKEN: TypeError: neuropy.utils.debug_helpers.safely_accepts_kwargs.<locals>._safe_kwargs_fn() got multiple values for keyword argument 'computation_config'\n",
    "\n"
   ]
  },
  {
   "cell_type": "code",
   "execution_count": null,
   "id": "c2f8696f-45c6-4870-93f6-713246d455fe",
   "metadata": {
    "scrolled": true
   },
   "outputs": [],
   "source": [
    "%%capture\n",
    "active_display_to_pdf_fn(curr_active_pipeline, curr_display_function_name='_display_normal', filter_name=active_config_name) # 🟢✅ Working"
   ]
  },
  {
   "cell_type": "markdown",
   "id": "1b16c86e-5dc1-4918-a115-7ae99eae1084",
   "metadata": {
    "tags": []
   },
   "source": [
    "## 🐞👁️‍🗨️🔜 TODO: FINISH THIS UP AND FIGURE OUT WHATEVER THE HELL I'M DOING HERE"
   ]
  },
  {
   "cell_type": "code",
   "execution_count": null,
   "id": "0b62efd2-f8f3-4dc7-baa9-67fcbdf3f983",
   "metadata": {
    "scrolled": true
   },
   "outputs": [],
   "source": [
    "curr_display_function_name = '_display_2d_placefield_result_plot_ratemaps_2D'\n",
    "built_pdf_metadata, curr_pdf_save_path = _build_pdf_pages_output_info(curr_display_function_name)\n",
    "out_fig_list = []\n",
    "active_identifying_display_ctx = active_identifying_filtered_session_ctx.adding_context('display_fn', display_fn_name=curr_display_function_name)\n",
    "figure_format_config = _get_curr_figure_format_config() # Fetch the context from the GUI\n",
    "figure_format_config['enable_saving_to_disk'] = False # don't use the in-built figure export/saving to disk functionality as we want to wrap the output figure with the Pdf saving, not write to a .png\n",
    "with backend_pdf.PdfPages(curr_pdf_save_path, keep_empty=False, metadata=built_pdf_metadata) as pdf:\n",
    "    ## TypeError: neuropy.utils.debug_helpers.safely_accepts_kwargs.<locals>._safe_kwargs_fn() got multiple values for keyword argument 'computation_config'\n",
    "    for filter_name in curr_active_pipeline.filtered_session_names:\n",
    "        print(f'filter_name: {filter_name}')\n",
    "        active_identifying_ctx = active_identifying_display_ctx.adding_context('plot_variable', variable_name=enumTuningMap2DPlotVariables.SPIKES_MAPS)\n",
    "        active_identifying_ctx_string = active_identifying_ctx.get_description(separator='|') # Get final discription string\n",
    "        out_fig_list.extend(curr_active_pipeline.display(curr_display_function_name, filter_name, plot_variable=enumTuningMap2DPlotVariables.SPIKES_MAPS, fignum=active_identifying_ctx_string, **figure_format_config)) # works!\n",
    "        active_identifying_ctx = active_identifying_display_ctx.adding_context('plot_variable', variable_name=enumTuningMap2DPlotVariables.TUNING_MAPS)\n",
    "        active_identifying_ctx_string = active_identifying_ctx.get_description(separator='|') # Get final discription string\n",
    "        out_fig_list.extend(curr_active_pipeline.display(curr_display_function_name, filter_name, plot_variable=enumTuningMap2DPlotVariables.TUNING_MAPS, fignum=active_identifying_ctx_string, **figure_format_config))\n",
    "        for a_fig in out_fig_list:\n",
    "            pdf.savefig(a_fig, transparent=True)"
   ]
  },
  {
   "cell_type": "code",
   "execution_count": null,
   "id": "ee9fad5b-4871-46a6-b4a4-b50480bca489",
   "metadata": {
    "scrolled": true
   },
   "outputs": [],
   "source": [
    "%%capture\n",
    "curr_display_function_name = '_display_decoder_result'\n",
    "built_pdf_metadata, curr_pdf_save_path = _build_pdf_pages_output_info(curr_display_function_name)\n",
    "with backend_pdf.PdfPages(curr_pdf_save_path, keep_empty=False, metadata=built_pdf_metadata) as pdf:\n",
    "    plots = curr_active_pipeline.display(curr_display_function_name, filter_name)\n",
    "    print(plots)\n",
    "    # pdf.savefig(a_fig)"
   ]
  },
  {
   "cell_type": "markdown",
   "id": "c229b27a-32fb-4032-b0a1-f40034bf6bb5",
   "metadata": {
    "tags": []
   },
   "source": [
    "### PyQtGraph-based plots:"
   ]
  },
  {
   "cell_type": "markdown",
   "id": "d11a9839-3fd4-4fd8-988c-61144c84051a",
   "metadata": {
    "tags": []
   },
   "source": [
    "#### PyQtGraph-based Pf2D Viewers:"
   ]
  },
  {
   "cell_type": "code",
   "execution_count": null,
   "id": "68fa3058-24c9-49e1-af41-cad50df2d829",
   "metadata": {},
   "outputs": [],
   "source": [
    "# 🟢✅ Nearly Completely Working - Needs subplot labels changed to match standardized matplotlib version, needs color scheme set consistently to matplotlib version, needs colorbars removed\n",
    "from pyphoplacecellanalysis.GUI.PyQtPlot.BinnedImageRenderingWindow import BasicBinnedImageRenderingWindow, add_bin_ticks, build_binned_imageItem\n",
    "from neuropy.utils.matplotlib_helpers import _build_variable_max_value_label, enumTuningMap2DPlotMode, enumTuningMap2DPlotVariables, _determine_best_placefield_2D_layout, _scale_current_placefield_to_acceptable_range\n",
    "from pyphoplacecellanalysis.Pho2D.PyQtPlots.plot_placefields import display_all_pf_2D_pyqtgraph_binned_image_rendering\n",
    "\n",
    "# NOTE FILTER SPECIFIC: active_config_name and active_pf_2D depend on active_config_name\n",
    "\n",
    "## Get the figure_format_config from the figure_format_config widget:\n",
    "active_identifying_display_ctx = active_identifying_filtered_session_ctx.adding_context('display_fn', display_fn_name='display_all_pf_2D_pyqtgraph_binned_image_rendering')\n",
    "figure_format_config = _get_curr_figure_format_config() # Fetch the context from the GUI\n",
    "out_all_pf_2D_pyqtgraph_binned_image_fig = display_all_pf_2D_pyqtgraph_binned_image_rendering(active_pf_2D, figure_format_config)"
   ]
  },
  {
   "cell_type": "code",
   "execution_count": null,
   "id": "6cd7686d-b854-44bf-a6e3-fb7c338380b6",
   "metadata": {},
   "outputs": [],
   "source": [
    "out_all_pf_2D_pyqtgraph_binned_image_fig.setWindowTitle(f'{active_identifying_display_ctx.get_description()}')"
   ]
  },
  {
   "cell_type": "code",
   "execution_count": null,
   "id": "158ffab7-de5e-43af-8162-bff293df838b",
   "metadata": {},
   "outputs": [],
   "source": [
    "images = active_one_step_decoder.ratemap.normalized_tuning_curves\n",
    "images.shape # (66, 41, 63)"
   ]
  },
  {
   "cell_type": "code",
   "execution_count": null,
   "id": "1048f102-f9d2-4c2e-96d7-4d8eb820a7fe",
   "metadata": {},
   "outputs": [],
   "source": [
    "# 🟢🚧🟨 Almost Working - Needs subplot labels changed from Cell[i] to the appropriate standardized titles. Needs other minor refinements.\n",
    "# 🚧 pyqtplot_plot_image_array needs major improvements to achieve feature pairity with display_all_pf_2D_pyqtgraph_binned_image_rendering, so probably just use display_all_pf_2D_pyqtgraph_binned_image_rendering.  \n",
    "from pyphoplacecellanalysis.Pho2D.PyQtPlots.plot_placefields import pyqtplot_plot_image_array\n",
    "\n",
    "# Get the decoders from the computation result:       \n",
    "# Get flat list of images:\n",
    "images = active_one_step_decoder.ratemap.normalized_tuning_curves # (43, 63, 63)\n",
    "occupancy = active_one_step_decoder.ratemap.occupancy\n",
    "\n",
    "active_identifying_display_ctx = active_identifying_filtered_session_ctx.adding_context('display_fn', display_fn_name='pyqtplot_plot_image_array')\n",
    "figure_format_config = _get_curr_figure_format_config() # Fetch the context from the GUI\n",
    "## Get final discription string:\n",
    "active_identifying_ctx_string = active_identifying_display_ctx.get_description(separator='|')\n",
    "print(f'active_identifying_ctx_string: {active_identifying_ctx_string}')\n",
    "\n",
    "## Build the widget:\n",
    "app, parent_root_widget, root_render_widget, plot_array, img_item_array, other_components_array = pyqtplot_plot_image_array(active_one_step_decoder.xbin, active_one_step_decoder.ybin, images, occupancy, \n",
    "                                                                        app=None, parent_root_widget=None, root_render_widget=None, max_num_columns=8)\n",
    "parent_root_widget.show()\n",
    "if master_dock_win is not None:\n",
    "    # if there's an open master_dock_win, add this widget as a child dock\n",
    "    master_dock_win.add_display_dock(identifier=active_identifying_ctx_string, widget=parent_root_widget, dockIsClosable=True)"
   ]
  },
  {
   "cell_type": "markdown",
   "id": "9c4fc1d3-0100-4bf1-8a9e-1ea7203d2b9c",
   "metadata": {
    "tags": []
   },
   "source": [
    "#### Decoder Plots:"
   ]
  },
  {
   "cell_type": "code",
   "execution_count": null,
   "id": "23a1e343-5737-4435-be8b-369483624fa4",
   "metadata": {
    "pycharm": {
     "name": "#%%\n"
    }
   },
   "outputs": [],
   "source": [
    "# Must switch back to the interactive backend here for the interactive/animated decoder plots:\n",
    "matplotlib.use('Qt5Agg')\n",
    "# backend_qt5agg\n",
    "import matplotlib.pyplot as plt\n",
    "# plt.switch_backend('Qt5Agg')"
   ]
  },
  {
   "cell_type": "code",
   "execution_count": null,
   "id": "8180d131-f7a6-44f4-b63d-b1d3ef9bb409",
   "metadata": {
    "pycharm": {
     "name": "#%%\n"
    }
   },
   "outputs": [],
   "source": [
    "curr_active_pipeline.display('_display_two_step_decoder_prediction_error_animated_2D', active_config_name, variable_name='p_x_given_n')"
   ]
  },
  {
   "cell_type": "code",
   "execution_count": null,
   "id": "840af86d-030a-4ba5-973d-316e94c16a61",
   "metadata": {
    "pycharm": {
     "name": "#%%\n"
    }
   },
   "outputs": [],
   "source": [
    "# ## MATPLOTLIB Imports:\n",
    "# import matplotlib\n",
    "# # configure backend here\n",
    "# matplotlib.use('Qt5Agg')\n",
    "# import matplotlib.pyplot as plt\n",
    "# import matplotlib as mpl\n",
    "## This plot looks phenominal, and the slider works!\n",
    "curr_active_pipeline.display('_display_two_step_decoder_prediction_error_2D', active_config_name, variable_name='p_x_given_n') # NOW: TypeError: _temp_debug_two_step_plots_animated_imshow() missing 1 required positional argument: 'time_binned_position_df'"
   ]
  },
  {
   "cell_type": "code",
   "execution_count": null,
   "id": "cd163714-1838-4c8d-9796-dc3823b11f0f",
   "metadata": {
    "pycharm": {
     "name": "#%%\n"
    }
   },
   "outputs": [],
   "source": [
    "curr_active_pipeline.display('_display_two_step_decoder_prediction_error_2D', active_config_name, variable_name='p_x_given_n_and_x_prev')  # this one doesn't work!"
   ]
  },
  {
   "cell_type": "code",
   "execution_count": null,
   "id": "78308cc1-7dea-49aa-814a-d2784de14981",
   "metadata": {},
   "outputs": [],
   "source": [
    "# Get the decoders from the computation result:\n",
    "# active_one_step_decoder = computation_result.computed_data['pf2D_Decoder']\n",
    "# active_two_step_decoder = computation_result.computed_data.get('pf2D_TwoStepDecoder', None)\n",
    "# active_measured_positions = computation_result.sess.position.to_dataframe()\n",
    "\n",
    "active_one_step_decoder # BayesianPlacemapPositionDecoder\n",
    "active_two_step_decoder\n",
    "\n",
    "## SAVE OUT THE RESULTS of the decoder:"
   ]
  },
  {
   "cell_type": "code",
   "execution_count": null,
   "id": "7ea8058a-d9a2-4a75-9de8-a6a3af0e690a",
   "metadata": {},
   "outputs": [],
   "source": []
  },
  {
   "cell_type": "code",
   "execution_count": null,
   "id": "fd4cd691-4c3f-48d2-b5d3-150231fdba4e",
   "metadata": {},
   "outputs": [],
   "source": [
    "## PDF Output, NOTE this is single plot stuff: uses active_config_name\n",
    "from matplotlib.backends import backend_pdf, backend_pgf, backend_ps\n",
    "from pyphoplacecellanalysis.General.Mixins.ExportHelpers import create_daily_programmatic_display_function_testing_folder_if_needed, build_pdf_metadata_from_display_context, programmatic_display_to_PDF"
   ]
  },
  {
   "cell_type": "code",
   "execution_count": null,
   "id": "0f2967bd-dcf4-495c-8341-ae00e2230590",
   "metadata": {},
   "outputs": [],
   "source": [
    "## 2022-10-04 Modern Programmatic PDF outputs:\n",
    "# programmatic_display_to_PDF(curr_active_pipeline, curr_display_function_name='_display_plot_decoded_epoch_slices',  debug_print=False)\n",
    "programmatic_display_to_PDF(curr_active_pipeline, curr_display_function_name='_display_plot_decoded_epoch_slices', filter_epochs='ripple', decoding_time_bin_size=0.02, debug_test_max_num_slices=128, debug_print=True)"
   ]
  },
  {
   "cell_type": "code",
   "execution_count": null,
   "id": "fcf583b3-0a6b-44be-90ac-ed8803bdd100",
   "metadata": {},
   "outputs": [],
   "source": [
    "programmatic_display_to_PDF(curr_active_pipeline, curr_display_function_name='_display_plot_decoded_epoch_slices', filter_epochs='laps', debug_test_max_num_slices=128, debug_print=False)"
   ]
  },
  {
   "cell_type": "code",
   "execution_count": null,
   "id": "4188b50f-4c6e-454f-bc4a-0219e2b7e305",
   "metadata": {},
   "outputs": [],
   "source": [
    "## TODO: trying to hack up 'replay's which aren't working because of the overlaps, and strangely my overlaps code doesn't seem to work"
   ]
  },
  {
   "cell_type": "code",
   "execution_count": null,
   "id": "085c1f1e-498a-4483-b0fb-9667a94df3bc",
   "metadata": {},
   "outputs": [],
   "source": [
    "sess.replay"
   ]
  },
  {
   "cell_type": "code",
   "execution_count": null,
   "id": "c98dc17f-ab92-4835-89e2-3bc32400666a",
   "metadata": {},
   "outputs": [],
   "source": [
    "sess.replay.flat_replay_idx.unique()"
   ]
  },
  {
   "cell_type": "code",
   "execution_count": null,
   "id": "61ffb863-38c2-46af-ab78-845146996d35",
   "metadata": {},
   "outputs": [],
   "source": [
    "from neuropy.utils.efficient_interval_search import verify_non_overlapping, get_non_overlapping_epochs\n",
    "\n",
    "active_filter_epochs = deepcopy(sess.replay) # epoch object\n",
    "# filter_epochs.columns # ['epoch_id', 'rel_id', 'start', 'end', 'replay_r', 'replay_p', 'template_id', 'flat_replay_idx', 'duration']\n",
    "if not 'stop' in active_filter_epochs.columns:\n",
    "    active_filter_epochs['stop'] = active_filter_epochs['end'].copy()     # Make sure it has the 'stop' column which is expected as opposed to the 'end' column\n",
    "default_figure_name = f'Replay'"
   ]
  },
  {
   "cell_type": "code",
   "execution_count": null,
   "id": "b1ee2875-08e9-474b-a3f3-3679996fe86d",
   "metadata": {},
   "outputs": [],
   "source": [
    "# TODO 2022-10-04 - CORRECTNESS - AssertionError: Intervals in start_stop_times_arr must be non-overlapping. I believe this is due to the stop values overlapping somewhere\n",
    "print(f'active_filter_epochs: {active_filter_epochs}')\n",
    "## HANDLE OVERLAPPING EPOCHS: Note that there is a problem that occurs here with overlapping epochs for laps. Below we remove any overlapping epochs and leave only the valid ones.\n",
    "is_non_overlapping = get_non_overlapping_epochs(active_filter_epochs[['start','stop']].to_numpy()) # returns a boolean array of the same length as the number of epochs \n",
    "# Just drop the rows of the dataframe that are overlapping:\n",
    "# active_filter_epochs = active_filter_epochs[is_non_overlapping, :]\n",
    "active_filter_epochs = active_filter_epochs.loc[is_non_overlapping]\n",
    "print(f'active_filter_epochs: {active_filter_epochs}')"
   ]
  },
  {
   "cell_type": "code",
   "execution_count": null,
   "id": "7520af1b-2262-49e8-bc07-bc38b74a140a",
   "metadata": {},
   "outputs": [],
   "source": [
    "is_non_overlapping = get_non_overlapping_epochs(active_filter_epochs[['start','stop']].to_numpy()) # returns a boolean array of the same length as the number of epochs \n",
    "np.where(np.logical_not(is_non_overlapping))[0]"
   ]
  },
  {
   "cell_type": "code",
   "execution_count": null,
   "id": "629f345e-1b06-49d6-8ad3-8343bd5afa9f",
   "metadata": {},
   "outputs": [],
   "source": [
    "verify_non_overlapping(start_stop_times_arr=active_filter_epochs[['start','stop']].to_numpy())"
   ]
  },
  {
   "cell_type": "code",
   "execution_count": null,
   "id": "6071d5b0-7712-4987-86a0-8842593c03f9",
   "metadata": {},
   "outputs": [],
   "source": []
  },
  {
   "cell_type": "markdown",
   "id": "a15ed15f-c8ab-4b54-8d62-88bf414c2abc",
   "metadata": {},
   "source": [
    "### Piso-based interval overlap removal"
   ]
  },
  {
   "cell_type": "code",
   "execution_count": null,
   "id": "28b80ae6-c637-483a-84dc-f324ad7a9f2a",
   "metadata": {},
   "outputs": [],
   "source": [
    "## Build non-overlapping intervals with piso. Unsure of the computation efficiency, but the ouptuts are correct.\n",
    "import piso\n",
    "piso.register_accessors()\n",
    "\n",
    "print(f'pre: {active_filter_epochs.shape[0]}')\n",
    "valid_intervals = pd.arrays.IntervalArray.from_arrays(left=active_filter_epochs.start.values, right=active_filter_epochs.end.values).piso.symmetric_difference()\n",
    "valid_active_filter_epochs = np.vstack([valid_intervals.left.values.T, valid_intervals.right.values.T]).T\n",
    "print(f'post: {valid_active_filter_epochs.shape[0]}') # (37, 2)\n",
    "\n",
    "active_filter_epochs = valid_active_filter_epochs"
   ]
  },
  {
   "cell_type": "code",
   "execution_count": null,
   "id": "49dc2878-1e54-44df-a8f8-41eea865f7a9",
   "metadata": {},
   "outputs": [],
   "source": [
    "active_filter_epochs"
   ]
  },
  {
   "cell_type": "code",
   "execution_count": null,
   "id": "38d0b7be-3880-4e68-80d7-5ad76be1aeaf",
   "metadata": {},
   "outputs": [],
   "source": [
    "programmatic_display_to_PDF(curr_active_pipeline, curr_display_function_name='_display_plot_decoded_epoch_slices', filter_epochs='replay', debug_test_max_num_slices=128, debug_print=False) # Does not work due to overlap"
   ]
  },
  {
   "cell_type": "code",
   "execution_count": null,
   "id": "56208950-58ec-4d65-a757-f7259629bb59",
   "metadata": {},
   "outputs": [],
   "source": []
  },
  {
   "cell_type": "markdown",
   "id": "7aef1b4c-44bf-44ed-b0c3-9ecaa20ddb6a",
   "metadata": {
    "pycharm": {
     "name": "#%%\n"
    }
   },
   "source": [
    "### 🔜 2022-08-10 👁️‍🗨️ NOW: Plot animal positions on the computed posteriors:\n",
    "The process of plotting the animal position on the decoder plot needs to be refined. Currently it works by re-implementing \n",
    "\n",
    "🔜 NEXT STEP: TODO: Make a \"Datasource\" like approach perhaps to provide the actual animal position at each point in time?\n",
    "🐞🔜 BUG TODO: Noticed that for Bapun Day5 data, it looks like the current position point is being plotted incorrectly (it doesn't even move across the space much)"
   ]
  },
  {
   "cell_type": "code",
   "execution_count": null,
   "id": "2334b22e-4e6a-4c54-946e-2745f3ed2df5",
   "metadata": {
    "pycharm": {
     "name": "#%%\n"
    }
   },
   "outputs": [],
   "source": [
    "## Get the current positions at each of the time_window_centers:\n",
    "# active_resampled_measured_positions\n",
    "time_binned_pos_df = active_computed_data.extended_stats.time_binned_position_df\n",
    "active_resampled_pos_df = time_binned_pos_df  # 1717 rows × 16 columns\n",
    "active_resampled_measured_positions = active_resampled_pos_df[['x','y']].to_numpy() # The measured positions resampled (interpolated) at the window centers. \n",
    "# np.shape(active_resampled_measured_positions) # (1911, 2)\n",
    "active_one_step_decoder.active_time_window_centers.shape # (1911,)\n",
    "print(f'active_one_step_decoder.active_time_window_centers.shape: {active_one_step_decoder.active_time_window_centers.shape}')\n",
    "# Note this has 2900 rows × 24 columns and active_one_step_decoder.active_time_window_centers.shape is (2892,) for some reason. Shouldn't they be the same?"
   ]
  },
  {
   "cell_type": "code",
   "execution_count": null,
   "id": "52b41282-cdd9-4964-bbd0-2e0c809bc58e",
   "metadata": {
    "pycharm": {
     "name": "#%%\n"
    }
   },
   "outputs": [],
   "source": [
    "active_resampled_pos_df"
   ]
  },
  {
   "cell_type": "code",
   "execution_count": null,
   "id": "8a9393f2-0d56-46b5-ab94-eea2718d7e6a",
   "metadata": {},
   "outputs": [],
   "source": [
    "import matplotlib.pyplot as plt\n",
    "from matplotlib.widgets import Slider\n",
    "\n",
    "from PendingNotebookCode import _temp_debug_two_step_plots_animated_imshow\n",
    "\n",
    "# Get the decoders from the computation result:\n",
    "# active_one_step_decoder = computation_result.computed_data['pf2D_Decoder']\n",
    "# active_two_step_decoder = computation_result.computed_data.get('pf2D_TwoStepDecoder', None)\n",
    "# active_measured_positions = computation_result.sess.position.to_dataframe()\n",
    "\n",
    "def _debug_on_frame_update(new_frame_idx, ax):\n",
    "    print(f'_debug_on_frame_update(new_frame_idx: {new_frame_idx}, ax: {ax})')\n",
    "    pass\n",
    "\n",
    "# active_resampled_pos_df = active_computed_data.extended_stats.time_binned_position_df  # 1717 rows × 16 columns\n",
    "\n",
    "# Simple plot type 1:\n",
    "# plotted_variable_name = kwargs.get('variable_name', 'p_x_given_n') # Tries to get the user-provided variable name, otherwise defaults to 'p_x_given_n'\n",
    "plotted_variable_name = 'p_x_given_n' # Tries to get the user-provided variable name, otherwise defaults to 'p_x_given_n'\n",
    "_temp_debug_two_step_plots_animated_imshow(active_one_step_decoder, active_two_step_decoder, active_computed_data.extended_stats.time_binned_position_df, variable_name=plotted_variable_name, update_callback_function=_debug_on_frame_update) # Works"
   ]
  },
  {
   "cell_type": "code",
   "execution_count": null,
   "id": "5a7ef2e8-6e1c-48d5-9e76-b9f446ebe6ff",
   "metadata": {},
   "outputs": [],
   "source": []
  },
  {
   "cell_type": "code",
   "execution_count": null,
   "id": "991f9dbb-f65e-42b5-964a-3a88b5276bda",
   "metadata": {},
   "outputs": [],
   "source": []
  },
  {
   "cell_type": "code",
   "execution_count": null,
   "id": "792a48ab-9f8b-4215-b7e8-20e418c86518",
   "metadata": {},
   "outputs": [],
   "source": []
  },
  {
   "cell_type": "code",
   "execution_count": null,
   "id": "eef20765-0f3e-4348-a12f-fceccf0ccb85",
   "metadata": {
    "scrolled": true
   },
   "outputs": [],
   "source": [
    "curr_display_function_name = '_display_spike_rasters_pyqtplot_2D'\n",
    "curr_active_pipeline.display(curr_display_function_name, filter_name, debug_print=False, enable_saving_to_disk=enable_saving_to_disk) "
   ]
  },
  {
   "cell_type": "code",
   "execution_count": null,
   "id": "3b6322ea-88f5-475a-808d-340cd86ebff5",
   "metadata": {
    "scrolled": true
   },
   "outputs": [],
   "source": [
    "## Works, displays my velocity/density result for both 2D and 1D:\n",
    "# out_plot_1D, out_plot_2D = curr_active_pipeline.display('_display_speed_vs_PFoverlapDensity_plots', active_config_name)\n",
    "curr_display_function_name = '_display_speed_vs_PFoverlapDensity_plots'\n",
    "plots = curr_active_pipeline.display(curr_display_function_name, filter_name)\n",
    "plots"
   ]
  },
  {
   "cell_type": "code",
   "execution_count": null,
   "id": "01598d95-1b12-4d7f-9231-5c5384e68d77",
   "metadata": {
    "tags": []
   },
   "outputs": [],
   "source": [
    "curr_display_function_name = '_display_placemaps_pyqtplot_2D'\n",
    "out_plots = curr_active_pipeline.display(curr_display_function_name, filter_name, max_num_columns=8)    \n",
    "out_plots[1].show()"
   ]
  },
  {
   "cell_type": "code",
   "execution_count": null,
   "id": "ca6b380b-2741-4112-8947-8b6826d4df2b",
   "metadata": {
    "tags": []
   },
   "outputs": [],
   "source": [
    "out_plots[1].show()"
   ]
  },
  {
   "cell_type": "code",
   "execution_count": null,
   "id": "56cee75a-3fa1-4040-8826-04dd6567403a",
   "metadata": {
    "tags": []
   },
   "outputs": [],
   "source": [
    "out_plots[1].close()"
   ]
  },
  {
   "cell_type": "code",
   "execution_count": null,
   "id": "7e76fde1-3dfb-4e38-9c3f-8e5dce055333",
   "metadata": {
    "tags": []
   },
   "outputs": [],
   "source": [
    "## KNOWN BAD, locks up, do not execute:\n",
    "curr_display_function_name = 'display_firing_rate_trends'\n",
    "plots = curr_active_pipeline.display(curr_display_function_name, filter_name)"
   ]
  },
  {
   "cell_type": "code",
   "execution_count": null,
   "id": "e3321301-d9a1-46b9-b0a5-2d6a64e781c7",
   "metadata": {
    "tags": []
   },
   "outputs": [],
   "source": [
    "# a_plot = plots[0] # PlotWidget \n",
    "# a_plot_item = a_plot.plotItem # PlotItem\n",
    "# a_plot.scene() # GraphicsScene\n",
    "export_pyqtgraph_plot(plots[0])"
   ]
  },
  {
   "cell_type": "markdown",
   "id": "3884ef1e-81de-4326-a4e6-7b861105e8e4",
   "metadata": {
    "tags": []
   },
   "source": [
    "### 3D (PyVista/Vedo/etc)-based plots:"
   ]
  },
  {
   "cell_type": "code",
   "execution_count": null,
   "id": "e8a4ebfd-25d2-456f-abbe-38815e23a121",
   "metadata": {
    "pycharm": {
     "is_executing": false,
     "name": "#%%\n"
    }
   },
   "outputs": [],
   "source": [
    "curr_active_pipeline.display('_display_3d_interactive_spike_and_behavior_browser', active_config_name) # this works now!"
   ]
  },
  {
   "cell_type": "code",
   "execution_count": null,
   "id": "274e0f42-cffa-48ea-82f8-fc3731f158ba",
   "metadata": {
    "pycharm": {
     "is_executing": false,
     "name": "#%%\n"
    }
   },
   "outputs": [],
   "source": [
    "display_dict = curr_active_pipeline.display('_display_3d_interactive_custom_data_explorer', active_config_name) # does not work, missing color info?\n",
    "iplapsDataExplorer = display_dict['iplapsDataExplorer']\n",
    "# plotter is available at\n",
    "p = display_dict['plotter']\n",
    "iplapsDataExplorer"
   ]
  },
  {
   "cell_type": "code",
   "execution_count": null,
   "id": "05684d51-d8f1-4129-8232-89a4752b65c8",
   "metadata": {},
   "outputs": [],
   "source": [
    "# curr_kdiba_pipeline.display(DefaultDisplayFunctions._display_3d_interactive_custom_data_explorer, 'maze1') # works!\n",
    "curr_active_pipeline.display('_display_3d_interactive_tuning_curves_plotter', 'maze1_PYR') # works!"
   ]
  }
 ],
 "metadata": {
  "kernelspec": {
   "display_name": "Python 3 (ipykernel)",
   "language": "python",
   "name": "python3"
  },
  "language_info": {
   "codemirror_mode": {
    "name": "ipython",
    "version": 3
   },
   "file_extension": ".py",
   "mimetype": "text/x-python",
   "name": "python",
   "nbconvert_exporter": "python",
   "pygments_lexer": "ipython3",
   "version": "3.9.12"
  }
 },
 "nbformat": 4,
 "nbformat_minor": 5
}
