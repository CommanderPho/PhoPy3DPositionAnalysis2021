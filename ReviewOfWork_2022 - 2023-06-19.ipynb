{
 "cells": [
  {
   "cell_type": "code",
   "execution_count": 1,
   "id": "0056bc66-7629-4ef7-8c87-f28f8fcd9dc8",
   "metadata": {
    "autorun": true,
    "tags": [
     "imports",
     "REQUIRED",
     "ACTIVE"
    ]
   },
   "outputs": [
    {
     "name": "stdout",
     "output_type": "stream",
     "text": [
      "Automatic pdb calling has been turned OFF\n",
      "build_module_logger(module_name=\"Spike3D.pipeline\"):\n",
      "\t Module logger com.PhoHale.Spike3D.pipeline has file logging enabled and will log to EXTERNAL\\TESTING\\Logging\\debug_com.PhoHale.Spike3D.pipeline.log\n"
     ]
    }
   ],
   "source": [
    "%config IPCompleter.use_jedi = False\n",
    "%pdb off\n",
    "# %load_ext viztracer\n",
    "# from viztracer import VizTracer\n",
    "%load_ext autoreload\n",
    "%autoreload 3\n",
    "import sys\n",
    "from pathlib import Path\n",
    "import neptune # for logging progress and results\n",
    "from pyphoplacecellanalysis.General.Batch.NeptuneAiHelpers import set_environment_variables, neptune_output_figures\n",
    "neptune_kwargs = {'project':\"commander.pho/PhoDibaLongShort2023\",\n",
    "'api_token':\"eyJhcGlfYWRkcmVzcyI6Imh0dHBzOi8vYXBwLm5lcHR1bmUuYWkiLCJhcGlfdXJsIjoiaHR0cHM6Ly9hcHAubmVwdHVuZS5haSIsImFwaV9rZXkiOiIxOGIxODU2My1lZTNhLTQ2ZWMtOTkzNS02ZTRmNzM5YmNjNjIifQ==\"}\n",
    "\n",
    "# required to enable non-blocking interaction:\n",
    "%gui qt5\n",
    "\n",
    "from copy import deepcopy\n",
    "from numba import jit\n",
    "import numpy as np\n",
    "import pandas as pd\n",
    "from attrs import define, field, fields, Factory\n",
    "\n",
    "# Pho's Formatting Preferences\n",
    "# from pyphocorehelpers.preferences_helpers import set_pho_preferences, set_pho_preferences_concise, set_pho_preferences_verbose\n",
    "# set_pho_preferences_concise()\n",
    "\n",
    "## Pho's Custom Libraries:\n",
    "from pyphocorehelpers.general_helpers import CodeConversion\n",
    "from pyphocorehelpers.function_helpers import function_attributes\n",
    "from pyphocorehelpers.print_helpers import print_keys_if_possible, print_value_overview_only, document_active_variables, objsize, print_object_memory_usage, debug_dump_object_member_shapes, TypePrintMode\n",
    "from pyphocorehelpers.print_helpers import get_now_day_str, get_now_time_str, get_now_time_precise_str\n",
    "from pyphocorehelpers.programming_helpers import IPythonHelpers\n",
    "from pyphocorehelpers.Filesystem.path_helpers import find_first_extant_path\n",
    "from pyphocorehelpers.Filesystem.open_in_system_file_manager import reveal_in_system_file_manager\n",
    "\n",
    "# NeuroPy (Diba Lab Python Repo) Loading\n",
    "# from neuropy import core\n",
    "from neuropy.analyses.placefields import PlacefieldComputationParameters\n",
    "from neuropy.core.epoch import NamedTimerange, Epoch\n",
    "from neuropy.core.ratemap import Ratemap\n",
    "from neuropy.core.session.Formats.BaseDataSessionFormats import DataSessionFormatRegistryHolder\n",
    "from neuropy.core.session.Formats.Specific.BapunDataSessionFormat import BapunDataSessionFormatRegisteredClass\n",
    "from neuropy.core.session.Formats.Specific.KDibaOldDataSessionFormat import KDibaOldDataSessionFormatRegisteredClass\n",
    "from neuropy.core.session.Formats.Specific.RachelDataSessionFormat import RachelDataSessionFormat\n",
    "from neuropy.core.session.Formats.Specific.HiroDataSessionFormat import HiroDataSessionFormatRegisteredClass\n",
    "\n",
    "## For computation parameters:\n",
    "from neuropy.analyses.placefields import PlacefieldComputationParameters\n",
    "from neuropy.utils.dynamic_container import DynamicContainer\n",
    "from neuropy.utils.result_context import IdentifyingContext\n",
    "from neuropy.core.session.Formats.BaseDataSessionFormats import find_local_session_paths\n",
    "from neuropy.core.neurons import NeuronType\n",
    "\n",
    "from pyphocorehelpers.print_helpers import generate_html_string\n",
    "\n",
    "# pyPhoPlaceCellAnalysis:\n",
    "from pyphoplacecellanalysis.General.Pipeline.NeuropyPipeline import NeuropyPipeline # get_neuron_identities\n",
    "from pyphoplacecellanalysis.General.Mixins.ExportHelpers import export_pyqtgraph_plot, create_daily_programmatic_display_function_testing_folder_if_needed, session_context_to_relative_path\n",
    "from pyphoplacecellanalysis.General.Batch.NonInteractiveProcessing import batch_load_session, batch_extended_computations, SessionBatchProgress, batch_programmatic_figures, batch_extended_programmatic_figures\n",
    "from pyphoplacecellanalysis.General.Pipeline.NeuropyPipeline import PipelineSavingScheme\n",
    "from pyphoplacecellanalysis.Pho2D.matplotlib.visualize_heatmap import visualize_heatmap\n",
    "from pyphoplacecellanalysis.Pho2D.PyQtPlots.Extensions.pyqtgraph_helpers import build_pyqtgraph_epoch_indicator_regions # Add session indicators to pyqtgraph plot\n",
    "from pyphoplacecellanalysis.General.Pipeline.Stages.DisplayFunctions.MultiContextComparingDisplayFunctions.LongShortTrackComparingDisplayFunctions import _helper_add_long_short_session_indicator_regions\n",
    "import pyphoplacecellanalysis.External.pyqtgraph as pg\n",
    "# 'time_bin_indices': valid_time_bin_indicies, 'posterior_to_pf_mean_surprise': one_left_out_posterior_to_pf_surprises_mean, 'posterior_to_scrambled_pf_mean_surprise': one_left_out_posterior_to_scrambled_pf_surprises_mean}\n",
    "from pyphoplacecellanalysis.General.Pipeline.Stages.DisplayFunctions.MultiContextComparingDisplayFunctions.LongShortTrackComparingDisplayFunctions import plot_long_short_expected_vs_observed_firing_rates\n",
    "from pyphoplacecellanalysis.General.Pipeline.Stages.DisplayFunctions.MultiContextComparingDisplayFunctions.LongShortTrackComparingDisplayFunctions import plot_long_short_surprise_difference_plot\n",
    "\n",
    "from pyphoplacecellanalysis.General.Batch.NonInteractiveProcessing import _update_pipeline_missing_preprocessing_parameters\n",
    "from pyphoplacecellanalysis.General.Batch.NonInteractiveProcessing import batch_perform_all_plots\n",
    "from pyphoplacecellanalysis.General.Pipeline.Stages.ComputationFunctions.MultiContextComputationFunctions.LongShortTrackComputations import JonathanFiringRateAnalysisResult\n",
    "from pyphoplacecellanalysis.General.Mixins.CrossComputationComparisonHelpers import _find_any_context_neurons\n",
    "\n",
    "from scripts.run_BatchAnalysis import post_compute_validate, _on_complete_success_execution_session\n",
    "\n",
    "session_batch_status = {}\n",
    "session_batch_errors = {}\n",
    "enable_saving_to_disk = False\n",
    "\n",
    "global_data_root_parent_path = find_first_extant_path([Path(r'W:\\Data'), Path(r'/media/MAX/Data'), Path(r'/Volumes/MoverNew/data'), Path(r'/home/halechr/turbo/Data')])\n",
    "assert global_data_root_parent_path.exists(), f\"global_data_root_parent_path: {global_data_root_parent_path} does not exist! Is the right computer's config commented out above?\""
   ]
  },
  {
   "attachments": {},
   "cell_type": "markdown",
   "id": "a1538e2a-4e39-4d11-90b5-a9fef9258058",
   "metadata": {
    "tags": [
     "REQUIRED",
     "ACTIVE"
    ]
   },
   "source": [
    "# Load Pipeline"
   ]
  },
  {
   "cell_type": "code",
   "execution_count": 2,
   "id": "f917bad9-8fe7-4882-b83b-71cf878fffd2",
   "metadata": {
    "tags": [
     "load",
     "REQUIRED"
    ]
   },
   "outputs": [],
   "source": [
    "# ==================================================================================================================== #\n",
    "# Load Data                                                                                                            #\n",
    "# ==================================================================================================================== #\n",
    "\n",
    "active_data_mode_name = 'kdiba'\n",
    "\n",
    "## Data must be pre-processed using the MATLAB script located here: \n",
    "#     neuropy/data_session_pre_processing_scripts/KDIBA/IIDataMat_Export_ToPython_2022_08_01.m\n",
    "# From pre-computed .mat files:\n",
    "\n",
    "local_session_root_parent_context = IdentifyingContext(format_name=active_data_mode_name) # , animal_name='', configuration_name='one', session_name=self.session_name\n",
    "local_session_root_parent_path = global_data_root_parent_path.joinpath('KDIBA')\n",
    "\n",
    "good_contexts_list = [\n",
    "    IdentifyingContext(format_name='kdiba',animal='gor01',exper_name='one',session_name='2006-6-08_14-26-15'),\n",
    "    IdentifyingContext(format_name='kdiba',animal='gor01',exper_name='one',session_name='2006-6-09_1-22-43'),\n",
    "    IdentifyingContext(format_name='kdiba',animal='gor01',exper_name='one',session_name='2006-6-12_15-55-31'),\n",
    "    IdentifyingContext(format_name='kdiba',animal='gor01',exper_name='one',session_name='2006-6-13_14-42-6'),\n",
    "    IdentifyingContext(format_name='kdiba',animal='gor01',exper_name='two',session_name='2006-6-07_16-40-19'),\n",
    "    IdentifyingContext(format_name='kdiba',animal='gor01',exper_name='two',session_name='2006-6-08_21-16-25'),\n",
    "    IdentifyingContext(format_name='kdiba',animal='gor01',exper_name='two',session_name='2006-6-09_22-24-40'),\n",
    "    IdentifyingContext(format_name='kdiba',animal='gor01',exper_name='two',session_name='2006-6-12_16-53-46'),\n",
    "    IdentifyingContext(format_name='kdiba',animal='gor01',exper_name='two',session_name='2006-6-13_15-22-3'),\n",
    "    IdentifyingContext(format_name='kdiba',animal='vvp01',exper_name='one',session_name='2006-4-09_17-29-30'),\n",
    "    IdentifyingContext(format_name='kdiba',animal='vvp01',exper_name='one',session_name='2006-4-10_12-25-50'),\n",
    "    IdentifyingContext(format_name='kdiba',animal='vvp01',exper_name='one',session_name='2006-4-19_13-34-40'),\n",
    "    IdentifyingContext(format_name='kdiba',animal='vvp01',exper_name='two',session_name='2006-4-09_16-40-54'),\n",
    "    IdentifyingContext(format_name='kdiba',animal='vvp01',exper_name='two',session_name='2006-4-10_12-58-3'),\n",
    "    IdentifyingContext(format_name='kdiba',animal='vvp01',exper_name='two',session_name='2006-4-12_15-25-59'),\n",
    "    IdentifyingContext(format_name='kdiba',animal='vvp01',exper_name='two',session_name='2006-4-16_18-47-52'),\n",
    "    IdentifyingContext(format_name='kdiba',animal='vvp01',exper_name='two',session_name='2006-4-17_12-52-15'),\n",
    "    IdentifyingContext(format_name='kdiba',animal='vvp01',exper_name='two',session_name='2006-4-25_13-20-55'),\n",
    "    IdentifyingContext(format_name='kdiba',animal='vvp01',exper_name='two',session_name='2006-4-28_12-38-13'),\n",
    "    IdentifyingContext(format_name='kdiba',animal='pin01',exper_name='one',session_name='11-02_17-46-44'),\n",
    "    IdentifyingContext(format_name='kdiba',animal='pin01',exper_name='one',session_name='11-02_19-28-0'),\n",
    "    IdentifyingContext(format_name='kdiba',animal='pin01',exper_name='one',session_name='11-03_12-3-25'),\n",
    "    IdentifyingContext(format_name='kdiba',animal='pin01',exper_name='one',session_name='11-09_12-15-3'),\n",
    "    IdentifyingContext(format_name='kdiba',animal='pin01',exper_name='one',session_name='11-09_22-4-5'),\n",
    "    IdentifyingContext(format_name='kdiba',animal='pin01',exper_name='one',session_name='fet11-01_12-58-54')\n",
    "]\n",
    "\n",
    "from neuropy.core.session.Formats.Specific.KDibaOldDataSessionFormat import KDibaOldDataSessionFormatRegisteredClass\n",
    "\n",
    "\n"
   ]
  },
  {
   "cell_type": "code",
   "execution_count": 3,
   "id": "d13e68b4-03e0-4388-a35c-87a352a6e6b3",
   "metadata": {
    "scrolled": true,
    "tags": [
     "load",
     "single_session",
     "REQUIRED"
    ]
   },
   "outputs": [
    {
     "name": "stdout",
     "output_type": "stream",
     "text": [
      "Automatic pdb calling has been turned OFF\n",
      "basedir: W:\\Data\\KDIBA\\gor01\\two\\2006-6-07_16-40-19\n",
      "Skipping loading from pickled file because force_reload == True.\n",
      "Loading matlab import file results : W:\\Data\\KDIBA\\gor01\\two\\2006-6-07_16-40-19\\2006-6-07_16-40-19.epochs_info.mat... done.\n",
      "Loading matlab import file results : W:\\Data\\KDIBA\\gor01\\two\\2006-6-07_16-40-19\\2006-6-07_16-40-19.position_info.mat... done.\n",
      "Loading matlab import file results : W:\\Data\\KDIBA\\gor01\\two\\2006-6-07_16-40-19\\2006-6-07_16-40-19.spikes.mat... "
     ]
    },
    {
     "name": "stderr",
     "output_type": "stream",
     "text": [
      "C:\\Users\\pho\\repos\\Spike3DWorkEnv\\NeuroPy\\neuropy\\core\\session\\Formats\\SessionSpecifications.py:140: UserWarning: WARNING: Optional File: W:\\Data\\KDIBA\\gor01\\two\\2006-6-07_16-40-19\\2006-6-07_16-40-19.dat does not exist. Continuing without it.\n",
      "  warnings.warn(f'WARNING: Optional File: {an_optional_filepath} does not exist. Continuing without it.')\n"
     ]
    },
    {
     "name": "stdout",
     "output_type": "stream",
     "text": [
      "done.\n",
      "Failure loading .position.npy. Must recompute.\n",
      "\n"
     ]
    },
    {
     "name": "stderr",
     "output_type": "stream",
     "text": [
      "c:\\Users\\pho\\repos\\Spike3DWorkEnv\\Spike3D\\.venv\\lib\\site-packages\\sklearn\\manifold\\_isomap.py:352: UserWarning: The number of connected components of the neighbors graph is 2 > 1. Completing the graph to fit Isomap might be slow. Increase the number of neighbors to avoid this issue.\n",
      "  self._fit_transform(X)\n",
      "c:\\Users\\pho\\repos\\Spike3DWorkEnv\\Spike3D\\.venv\\lib\\site-packages\\scipy\\sparse\\_index.py:103: SparseEfficiencyWarning: Changing the sparsity structure of a csr_matrix is expensive. lil_matrix is more efficient.\n",
      "  self._set_intXint(row, col, x.flat[0])\n"
     ]
    },
    {
     "name": "stdout",
     "output_type": "stream",
     "text": [
      "Saving updated position results results : W:\\Data\\KDIBA\\gor01\\two\\2006-6-07_16-40-19\\2006-6-07_16-40-19.position.npy... 2006-6-07_16-40-19.position.npy saved\n",
      "done.\n",
      "\t force_recompute is True! Forcing recomputation of .interpolated_spike_positions.npy\n",
      "\n",
      "Computing interpolate_spike_positions columns results : spikes_df... done.\n",
      "\t Saving updated interpolated spike position results results : W:\\Data\\KDIBA\\gor01\\two\\2006-6-07_16-40-19\\2006-6-07_16-40-19.interpolated_spike_positions.npy... 2006-6-07_16-40-19.interpolated_spike_positions.npy saved\n",
      "done.\n",
      "Loading matlab import file results : W:\\Data\\KDIBA\\gor01\\two\\2006-6-07_16-40-19\\2006-6-07_16-40-19.laps_info.mat... done.\n",
      "setting laps object.\n",
      "session.laps loaded successfully!\n",
      "Loading matlab import file results : W:\\Data\\KDIBA\\gor01\\two\\2006-6-07_16-40-19\\2006-6-07_16-40-19.replay_info.mat... done.\n",
      "session.replays loaded successfully!\n",
      "Loading success: W:\\Data\\KDIBA\\gor01\\two\\2006-6-07_16-40-19\\ripple_df.pkl.\n",
      "Failure loading .mua.npy. Must recompute.\n",
      "\n",
      "computing neurons mua for session...\n",
      "\n",
      "Saving mua results results : W:\\Data\\KDIBA\\gor01\\two\\2006-6-07_16-40-19\\2006-6-07_16-40-19.mua.npy... 2006-6-07_16-40-19.mua.npy saved\n",
      "done.\n",
      "Failure loading .pbe.npy. Must recompute.\n",
      "\n",
      "computing PBE epochs for session...\n",
      "\n",
      "Saving pbe results results : W:\\Data\\KDIBA\\gor01\\two\\2006-6-07_16-40-19\\2006-6-07_16-40-19.pbe.npy... 2006-6-07_16-40-19.pbe.npy saved\n",
      "done.\n",
      "Computing spikes_df PBEs column results : spikes_df... done.\n",
      "Computing added spike scISI column results : spikes_df... done.\n",
      "POSTLOAD_estimate_laps_and_replays()...\n",
      "sane_midpoint_x: 137.60573860249627, hardcoded_track_midpoint_x: None, track_min_max_x: (18.67140495721134, 256.5400722477812)\n",
      "hardcoded_track_midpoint_x is None, falling back to sane_midpoint_x... 137.60573860249627\n",
      "desc_crossings_x: (41,), asc_crossings_x: (41,)\n",
      "computing PBE epochs for session...\n",
      "\n",
      "computing estimated replay epochs for session...\n",
      "\n",
      "\t using KnownFilterEpochs.PBE as surrogate replays...\n",
      "\t curr_replays: 384\n",
      "skip_save_on_initial_load is True so resultant pipeline will not be saved to the pickle file.\n",
      "Applying session filter named \"maze1\"...\n",
      "Constraining to epoch with times (start: 0.0, end: 1236.2662453636294)\n",
      "computing neurons mua for session...\n",
      "\n"
     ]
    },
    {
     "name": "stderr",
     "output_type": "stream",
     "text": [
      "C:\\Users\\pho\\repos\\Spike3DWorkEnv\\NeuroPy\\neuropy\\core\\laps.py:65: SettingWithCopyWarning: \n",
      "A value is trying to be set on a copy of a slice from a DataFrame.\n",
      "Try using .loc[row_indexer,col_indexer] = value instead\n",
      "\n",
      "See the caveats in the documentation: https://pandas.pydata.org/pandas-docs/stable/user_guide/indexing.html#returning-a-view-versus-a-copy\n",
      "  laps_df[['lap_id']] = laps_df[['lap_id']].astype('int')\n",
      "C:\\Users\\pho\\repos\\Spike3DWorkEnv\\NeuroPy\\neuropy\\core\\laps.py:69: SettingWithCopyWarning: \n",
      "A value is trying to be set on a copy of a slice from a DataFrame.\n",
      "Try using .loc[row_indexer,col_indexer] = value instead\n",
      "\n",
      "See the caveats in the documentation: https://pandas.pydata.org/pandas-docs/stable/user_guide/indexing.html#returning-a-view-versus-a-copy\n",
      "  laps_df[['start_spike_index', 'end_spike_index']] = laps_df[['start_spike_index', 'end_spike_index']].astype('int')\n",
      "C:\\Users\\pho\\repos\\Spike3DWorkEnv\\NeuroPy\\neuropy\\core\\laps.py:70: SettingWithCopyWarning: \n",
      "A value is trying to be set on a copy of a slice from a DataFrame.\n",
      "Try using .loc[row_indexer,col_indexer] = value instead\n",
      "\n",
      "See the caveats in the documentation: https://pandas.pydata.org/pandas-docs/stable/user_guide/indexing.html#returning-a-view-versus-a-copy\n",
      "  laps_df['num_spikes'] = laps_df['end_spike_index'] - laps_df['start_spike_index']\n",
      "C:\\Users\\pho\\repos\\Spike3DWorkEnv\\NeuroPy\\neuropy\\core\\laps.py:73: SettingWithCopyWarning: \n",
      "A value is trying to be set on a copy of a slice from a DataFrame.\n",
      "Try using .loc[row_indexer,col_indexer] = value instead\n",
      "\n",
      "See the caveats in the documentation: https://pandas.pydata.org/pandas-docs/stable/user_guide/indexing.html#returning-a-view-versus-a-copy\n",
      "  laps_df['lap_dir'] = laps_df['lap_dir'].astype('int')\n",
      "C:\\Users\\pho\\repos\\Spike3DWorkEnv\\NeuroPy\\neuropy\\core\\laps.py:81: SettingWithCopyWarning: \n",
      "A value is trying to be set on a copy of a slice from a DataFrame.\n",
      "Try using .loc[row_indexer,col_indexer] = value instead\n",
      "\n",
      "See the caveats in the documentation: https://pandas.pydata.org/pandas-docs/stable/user_guide/indexing.html#returning-a-view-versus-a-copy\n",
      "  laps_df['label'] = laps_df['lap_id'].astype('str') # add the string \"label\" column\n"
     ]
    },
    {
     "name": "stdout",
     "output_type": "stream",
     "text": [
      "Applying session filter named \"maze2\"...\n",
      "Constraining to epoch with times (start: 1236.2662453636294, end: 2587.801681999932)\n",
      "computing neurons mua for session...\n",
      "\n"
     ]
    },
    {
     "name": "stderr",
     "output_type": "stream",
     "text": [
      "C:\\Users\\pho\\repos\\Spike3DWorkEnv\\NeuroPy\\neuropy\\core\\laps.py:65: SettingWithCopyWarning: \n",
      "A value is trying to be set on a copy of a slice from a DataFrame.\n",
      "Try using .loc[row_indexer,col_indexer] = value instead\n",
      "\n",
      "See the caveats in the documentation: https://pandas.pydata.org/pandas-docs/stable/user_guide/indexing.html#returning-a-view-versus-a-copy\n",
      "  laps_df[['lap_id']] = laps_df[['lap_id']].astype('int')\n",
      "C:\\Users\\pho\\repos\\Spike3DWorkEnv\\NeuroPy\\neuropy\\core\\laps.py:69: SettingWithCopyWarning: \n",
      "A value is trying to be set on a copy of a slice from a DataFrame.\n",
      "Try using .loc[row_indexer,col_indexer] = value instead\n",
      "\n",
      "See the caveats in the documentation: https://pandas.pydata.org/pandas-docs/stable/user_guide/indexing.html#returning-a-view-versus-a-copy\n",
      "  laps_df[['start_spike_index', 'end_spike_index']] = laps_df[['start_spike_index', 'end_spike_index']].astype('int')\n",
      "C:\\Users\\pho\\repos\\Spike3DWorkEnv\\NeuroPy\\neuropy\\core\\laps.py:70: SettingWithCopyWarning: \n",
      "A value is trying to be set on a copy of a slice from a DataFrame.\n",
      "Try using .loc[row_indexer,col_indexer] = value instead\n",
      "\n",
      "See the caveats in the documentation: https://pandas.pydata.org/pandas-docs/stable/user_guide/indexing.html#returning-a-view-versus-a-copy\n",
      "  laps_df['num_spikes'] = laps_df['end_spike_index'] - laps_df['start_spike_index']\n",
      "C:\\Users\\pho\\repos\\Spike3DWorkEnv\\NeuroPy\\neuropy\\core\\laps.py:73: SettingWithCopyWarning: \n",
      "A value is trying to be set on a copy of a slice from a DataFrame.\n",
      "Try using .loc[row_indexer,col_indexer] = value instead\n",
      "\n",
      "See the caveats in the documentation: https://pandas.pydata.org/pandas-docs/stable/user_guide/indexing.html#returning-a-view-versus-a-copy\n",
      "  laps_df['lap_dir'] = laps_df['lap_dir'].astype('int')\n",
      "C:\\Users\\pho\\repos\\Spike3DWorkEnv\\NeuroPy\\neuropy\\core\\laps.py:81: SettingWithCopyWarning: \n",
      "A value is trying to be set on a copy of a slice from a DataFrame.\n",
      "Try using .loc[row_indexer,col_indexer] = value instead\n",
      "\n",
      "See the caveats in the documentation: https://pandas.pydata.org/pandas-docs/stable/user_guide/indexing.html#returning-a-view-versus-a-copy\n",
      "  laps_df['label'] = laps_df['lap_id'].astype('str') # add the string \"label\" column\n"
     ]
    },
    {
     "name": "stdout",
     "output_type": "stream",
     "text": [
      "Applying session filter named \"maze\"...\n",
      "Constraining to epoch with times (start: 0.0, end: 2587.801681999932)\n",
      "computing neurons mua for session...\n",
      "\n",
      "using provided computation_functions_name_includelist: ['_perform_baseline_placefield_computation', '_perform_extended_statistics_computation', '_perform_position_decoding_computation', '_perform_firing_rate_trends_computation', '_perform_pf_find_ratemap_peaks_computation', '_perform_two_step_position_decoding_computation']\n",
      "due to includelist, including only 6 out of 16 registered computation functions.\n",
      "Recomputing active_epoch_placefields... using self.config.grid_bin_bounds_1D: (22.397021260868584, 245.6584673739576)\n",
      "\t done.\n",
      "Recomputing active_epoch_placefields2D... using self.config.grid_bin_bounds: ((22.397021260868584, 245.6584673739576), (133.66465594522782, 155.97244934208123))\n",
      "\t done.\n",
      "WARNING: PREVIOUSLY ASSERT: \n",
      "\t spikes_df[time_variable_name]: (15034,) should be less than time_window_edges: (35780,)!\n",
      "WARNING: PREVIOUSLY ASSERT: \n",
      "\t spikes_df[time_variable_name]: (15034,) should be less than time_window_edges: (35780,)!\n"
     ]
    },
    {
     "name": "stderr",
     "output_type": "stream",
     "text": [
      "C:\\Users\\pho\\repos\\Spike3DWorkEnv\\pyPhoPlaceCellAnalysis\\src\\pyphoplacecellanalysis\\Analysis\\Decoder\\reconstruction.py:363: RuntimeWarning: divide by zero encountered in divide\n",
      "  return C * np.exp(numerator/denominator)\n"
     ]
    },
    {
     "name": "stdout",
     "output_type": "stream",
     "text": [
      "two_step_decoder_result['most_likely_position_flat_max_likelihood_values'].shape = (36136,)\n",
      "updating computation_results...\n",
      "done.\n",
      "due to includelist, including only 6 out of 16 registered computation functions.\n",
      "Recomputing active_epoch_placefields... using self.config.grid_bin_bounds_1D: (22.397021260868584, 245.6584673739576)\n",
      "\t done.\n",
      "Recomputing active_epoch_placefields2D... using self.config.grid_bin_bounds: ((22.397021260868584, 245.6584673739576), (133.66465594522782, 155.97244934208123))\n",
      "\t done.\n",
      "WARNING: PREVIOUSLY ASSERT: \n",
      "\t spikes_df[time_variable_name]: (12793,) should be less than time_window_edges: (38260,)!\n",
      "WARNING: PREVIOUSLY ASSERT: \n",
      "\t spikes_df[time_variable_name]: (12793,) should be less than time_window_edges: (38260,)!\n",
      "two_step_decoder_result['most_likely_position_flat_max_likelihood_values'].shape = (38641,)\n",
      "updating computation_results...\n",
      "done.\n",
      "due to includelist, including only 6 out of 16 registered computation functions.\n",
      "Recomputing active_epoch_placefields... using self.config.grid_bin_bounds_1D: (22.397021260868584, 245.6584673739576)\n",
      "\t done.\n",
      "Recomputing active_epoch_placefields2D... using self.config.grid_bin_bounds: ((22.397021260868584, 245.6584673739576), (133.66465594522782, 155.97244934208123))\n",
      "\t done.\n",
      "WARNING: PREVIOUSLY ASSERT: \n",
      "\t spikes_df[time_variable_name]: (27827,) should be less than time_window_edges: (76568,)!\n",
      "WARNING: PREVIOUSLY ASSERT: \n",
      "\t spikes_df[time_variable_name]: (27827,) should be less than time_window_edges: (76568,)!\n",
      "two_step_decoder_result['most_likely_position_flat_max_likelihood_values'].shape = (77332,)\n",
      "updating computation_results...\n",
      "done.\n",
      "finalized_loaded_sess_pickle_path: W:\\Data\\KDIBA\\gor01\\two\\2006-6-07_16-40-19\\loadedSessPickle.pkl\n",
      "WARNING: saving_mode is OVERWRITE_IN_PLACE so W:\\Data\\KDIBA\\gor01\\two\\2006-6-07_16-40-19\\loadedSessPickle.pkl will be overwritten even though exists.\n",
      "Saving (file mode 'w+b') saved session pickle file results : W:\\Data\\KDIBA\\gor01\\two\\2006-6-07_16-40-19\\loadedSessPickle.pkl... done.\n"
     ]
    }
   ],
   "source": [
    "%pdb off\n",
    "# %%viztracer\n",
    "# [*] - indicates bad or session with a problem\n",
    "# 0, 1, 2, 3, 4, 5, 6, 7, [8], [9], 10, 11, [12], 13, 14, [15], [16], 17, \n",
    "# curr_context: IdentifyingContext = good_contexts_list[1] # select the session from all of the good sessions here.\n",
    "# curr_context = IdentifyingContext(format_name='kdiba',animal='gor01',exper_name='one',session_name='2006-6-08_14-26-15') # DONE. Very good. Many good Pfs, many good replays.\n",
    "# curr_context = IdentifyingContext(format_name='kdiba',animal='gor01',exper_name='one',session_name='2006-6-09_1-22-43') # BAD\n",
    "# curr_context = IdentifyingContext(format_name='kdiba',animal='gor01',exper_name='one',session_name='2006-6-12_15-55-31') # DONE, Good Pfs but no good replays\n",
    "# curr_context = IdentifyingContext(format_name='kdiba',animal='gor01',exper_name='one',session_name='2006-6-13_14-42-6') # BAD\n",
    "curr_context = IdentifyingContext(format_name='kdiba',animal='gor01',exper_name='two',session_name='2006-6-07_16-40-19') # DONE\n",
    "# curr_context = IdentifyingContext(format_name='kdiba',animal='gor01',exper_name='two',session_name='2006-6-08_21-16-25') # DONE\n",
    "# curr_context = IdentifyingContext(format_name='kdiba',animal='gor01',exper_name='two',session_name='2006-6-09_22-24-40') # DONE\n",
    "# curr_context = IdentifyingContext(format_name='kdiba',animal='gor01',exper_name='two',session_name='2006-6-12_16-53-46') # DONE\n",
    "# curr_context = IdentifyingContext(format_name='kdiba',animal='gor01',exper_name='two',session_name='2006-6-13_15-22-3') # DONE, Good Pfs, no good epochs.\n",
    "# curr_context = IdentifyingContext(format_name='kdiba',animal='vvp01',exper_name='one',session_name='2006-4-09_17-29-30') # DONE\n",
    "# curr_context = IdentifyingContext(format_name='kdiba',animal='vvp01',exper_name='one',session_name='2006-4-10_12-25-50') # DONE\n",
    "# curr_context = IdentifyingContext(format_name='kdiba',animal='vvp01',exper_name='one',session_name='2006-4-19_13-34-40') # BAD\n",
    "# curr_context = IdentifyingContext(format_name='kdiba',animal='vvp01',exper_name='two',session_name='2006-4-09_16-40-54') # DONE\n",
    "# curr_context = IdentifyingContext(format_name='kdiba',animal='vvp01',exper_name='two',session_name='2006-4-10_12-58-3') # BAD, Good Pfs strangely despite horrible map, no good epochs\n",
    "# curr_context = IdentifyingContext(format_name='kdiba',animal='vvp01',exper_name='two',session_name='2006-4-12_15-25-59') # BAD, No Epochs\n",
    "# curr_context = IdentifyingContext(format_name='kdiba',animal='vvp01',exper_name='two',session_name='2006-4-16_18-47-52')\n",
    "# curr_context = IdentifyingContext(format_name='kdiba',animal='vvp01',exper_name='two',session_name='2006-4-17_12-52-15')\n",
    "# curr_context = IdentifyingContext(format_name='kdiba',animal='vvp01',exper_name='two',session_name='2006-4-25_13-20-55')\n",
    "# curr_context = IdentifyingContext(format_name='kdiba',animal='vvp01',exper_name='two',session_name='2006-4-28_12-38-13')\n",
    "# curr_context = IdentifyingContext(format_name='kdiba',animal='pin01',exper_name='one',session_name='11-02_17-46-44') # DONE\n",
    "# curr_context = IdentifyingContext(format_name='kdiba',animal='pin01',exper_name='one',session_name='11-02_19-28-0') # DONE\n",
    "# curr_context = IdentifyingContext(format_name='kdiba',animal='pin01',exper_name='one',session_name='11-03_12-3-25') # DONE\n",
    "# curr_context = IdentifyingContext(format_name='kdiba',animal='pin01',exper_name='one',session_name='11-09_12-15-3')\n",
    "# curr_context = IdentifyingContext(format_name='kdiba',animal='pin01',exper_name='one',session_name='11-09_22-4-5')\n",
    "# curr_context = IdentifyingContext(format_name='kdiba',animal='pin01',exper_name='one',session_name='fet11-01_12-58-54') # DONE\n",
    "\n",
    "\n",
    "local_session_parent_path: Path = local_session_root_parent_path.joinpath(curr_context.animal, curr_context.exper_name) # 'gor01', 'one' - probably not needed anymore\n",
    "basedir: Path = local_session_parent_path.joinpath(curr_context.session_name).resolve()\n",
    "print(f'basedir: {str(basedir)}')\n",
    "\n",
    "# Read if possible:\n",
    "# saving_mode = PipelineSavingScheme.SKIP_SAVING\n",
    "# force_reload = False\n",
    "\n",
    "# Force write:\n",
    "# saving_mode = PipelineSavingScheme.TEMP_THEN_OVERWRITE\n",
    "saving_mode = PipelineSavingScheme.OVERWRITE_IN_PLACE\n",
    "force_reload = True\n",
    "\n",
    "\n",
    "## TODO: if loading is not possible, we need to change the `saving_mode` so that the new results are properly saved.\n",
    "\n",
    "\n",
    "    # ==================================================================================================================== #\n",
    "    # Load Pipeline                                                                                                        #\n",
    "    # ==================================================================================================================== #\n",
    "# with VizTracer(output_file=f\"viztracer_{get_now_time_str()}-full_session_LOO_decoding_analysis.json\", min_duration=200, tracer_entries=3000000, ignore_frozen=True) as tracer:\n",
    "# epoch_name_includelist = ['maze']\n",
    "epoch_name_includelist = None\n",
    "active_computation_functions_name_includelist=[#'_perform_estimated_epochs_computation',  # AL:WAYS OFF\n",
    "                                            '_perform_baseline_placefield_computation',\n",
    "                                        # '_perform_time_dependent_placefield_computation', # AL:WAYS OFF\n",
    "                                        '_perform_extended_statistics_computation',\n",
    "                                        '_perform_position_decoding_computation', \n",
    "                                        '_perform_firing_rate_trends_computation',\n",
    "                                        '_perform_pf_find_ratemap_peaks_computation',\n",
    "                                        # '_perform_time_dependent_pf_sequential_surprise_computation' # AL:WAYS OFF\n",
    "                                        '_perform_two_step_position_decoding_computation',\n",
    "                                        # '_perform_recursive_latent_placefield_decoding' # AL:WAYS OFF\n",
    "                                    ]\n",
    "# active_computation_functions_name_includelist=['_perform_baseline_placefield_computation']\n",
    "\n",
    "curr_active_pipeline = batch_load_session(global_data_root_parent_path, active_data_mode_name, basedir, epoch_name_includelist=epoch_name_includelist,\n",
    "                                        computation_functions_name_includelist=active_computation_functions_name_includelist,\n",
    "                                        saving_mode=saving_mode, force_reload=force_reload,\n",
    "                                        skip_extended_batch_computations=True, debug_print=False, fail_on_exception=True) # , active_pickle_filename = 'loadedSessPickle_withParameters.pkl'\n",
    "\n",
    "\n",
    "if not force_reload: # not just force_reload, needs to recompute whenever the computation fails.\n",
    "    try:\n",
    "        curr_active_pipeline.load_pickled_global_computation_results()\n",
    "    except Exception as e:\n",
    "        print(f'cannot load global results: {e}')\n",
    "\n",
    "# 6m 1.1s\n",
    "# 12m 15.6s\n"
   ]
  },
  {
   "cell_type": "code",
   "execution_count": 4,
   "id": "ac8aab9a",
   "metadata": {},
   "outputs": [
    {
     "name": "stdout",
     "output_type": "stream",
     "text": [
      "blocking and waiting for user input. Press [enter] to confirm selection change or [esc] to revert with no change.\n",
      "user confirmed extents: (22.397021260868584, 245.3970212608686, 133.66465594522782, 155.97244934208123)\n",
      "Add this to `specific_session_override_dict`:\n",
      "\n",
      "IdentifyingContext(format_name='kdiba',animal='gor01',exper_name='two',session_name='2006-6-07_16-40-19'):dict(grid_bin_bounds=(((22.397021260868584, 245.3970212608686), (133.66465594522782, 155.97244934208123)))),\n",
      "\n",
      "grid_bin_bounds: (22.397021260868584, 245.3970212608686, 133.66465594522782, 155.97244934208123)\n",
      "Add this to `specific_session_override_dict`:\n",
      "\n",
      "IdentifyingContext(format_name='kdiba',animal='gor01',exper_name='two',session_name='2006-6-07_16-40-19'):dict(grid_bin_bounds=(((22.397021260868584, 245.3970212608686), (133.66465594522782, 155.97244934208123)))),\n",
      "\n"
     ]
    }
   ],
   "source": [
    "%matplotlib qt\n",
    "from neuropy.utils.matplotlib_helpers import interactive_select_grid_bin_bounds_2D\n",
    "# fig, ax, rect_selector, set_extents = interactive_select_grid_bin_bounds_2D(curr_active_pipeline, epoch_name='maze', should_block_for_input=True)\n",
    "\n",
    "grid_bin_bounds = interactive_select_grid_bin_bounds_2D(curr_active_pipeline, epoch_name='maze', should_block_for_input=True, should_apply_updates_to_pipeline=False)\n",
    "print(f'grid_bin_bounds: {grid_bin_bounds}')\n",
    "print(f\"Add this to `specific_session_override_dict`:\\n\\n{curr_active_pipeline.get_session_context().get_initialization_code_string()}:dict(grid_bin_bounds=({(grid_bin_bounds[0], grid_bin_bounds[1]), (grid_bin_bounds[2], grid_bin_bounds[3])})),\\n\")"
   ]
  },
  {
   "cell_type": "code",
   "execution_count": 5,
   "id": "3a29b890",
   "metadata": {
    "tags": []
   },
   "outputs": [
    {
     "name": "stdout",
     "output_type": "stream",
     "text": [
      "were pipeline preprocessing parameters missing and updated?: False\n"
     ]
    }
   ],
   "source": [
    "## Post Compute Validate 2023-05-16:\n",
    "from scripts.run_BatchAnalysis import post_compute_validate\n",
    "\n",
    "post_compute_validate(curr_active_pipeline)"
   ]
  },
  {
   "cell_type": "code",
   "execution_count": 6,
   "id": "b7f4bc79",
   "metadata": {
    "tags": []
   },
   "outputs": [
    {
     "name": "stdout",
     "output_type": "stream",
     "text": [
      "included includelist is specified: ['long_short_fr_indicies_analyses', 'jonathan_firing_rate_analysis', 'long_short_decoding_analyses', 'long_short_post_decoding'], so only performing these extended computations.\n",
      "Running batch_extended_computations(...) with global_epoch_name: \"maze\"\n",
      "jonathan_firing_rate_analysis missing.\n",
      "\t Recomputing jonathan_firing_rate_analysis...\n",
      "\t done.\n",
      "long_short_fr_indicies_analyses missing.\n",
      "\t Recomputing long_short_fr_indicies_analyses...\n",
      "\t done.\n",
      "long_short_decoding_analyses missing.\n",
      "\t Recomputing long_short_decoding_analyses...\n",
      "sane_midpoint_x: 137.60573860249627, hardcoded_track_midpoint_x: None, track_min_max_x: (18.67140495721134, 256.5400722477812)\n",
      "hardcoded_track_midpoint_x is None, falling back to sane_midpoint_x... 137.60573860249627\n",
      "desc_crossings_x: (21,), asc_crossings_x: (21,)\n",
      "setting new computation epochs because laps changed.\n",
      "using self.config.grid_bin_bounds_1D: (22.397021260868584, 245.6584673739576)\n",
      "using self.config.grid_bin_bounds: ((22.397021260868584, 245.6584673739576), (133.66465594522782, 155.97244934208123))\n",
      "Performing run_specific_computations_single_context on filtered_session with filter named \"maze1\"...\n",
      "Performing _execute_computation_functions(...) with 1 registered_computation_functions...\n",
      "WARNING: PREVIOUSLY ASSERT: \n",
      "\t spikes_df[time_variable_name]: (15034,) should be less than time_window_edges: (35780,)!\n",
      "WARNING: PREVIOUSLY ASSERT: \n",
      "\t spikes_df[time_variable_name]: (15034,) should be less than time_window_edges: (35780,)!\n",
      "_execute_computation_functions(...): \n",
      "\taccumulated_errors: None\n",
      "\tcomputation_times: {<function DefaultComputationFunctions._perform_position_decoding_computation at 0x000002ADFAB1A0D0>: datetime.datetime(2023, 6, 20, 4, 14, 40, 584397)}\n",
      "Performing run_specific_computations_single_context on filtered_session with filter named \"maze2\"...\n",
      "Performing _execute_computation_functions(...) with 1 registered_computation_functions...\n",
      "WARNING: PREVIOUSLY ASSERT: \n",
      "\t spikes_df[time_variable_name]: (12793,) should be less than time_window_edges: (38260,)!\n",
      "WARNING: PREVIOUSLY ASSERT: \n",
      "\t spikes_df[time_variable_name]: (12793,) should be less than time_window_edges: (38260,)!\n",
      "_execute_computation_functions(...): \n",
      "\taccumulated_errors: None\n",
      "\tcomputation_times: {<function DefaultComputationFunctions._perform_position_decoding_computation at 0x000002ADFAB1A0D0>: datetime.datetime(2023, 6, 20, 4, 15, 4, 972886)}\n",
      "self will be re-binned to match target_one_step_decoder...\n",
      "WARNING: PREVIOUSLY ASSERT: \n",
      "\t spikes_df[time_variable_name]: (12793,) should be less than time_window_edges: (38260,)!\n",
      "WARNING: PREVIOUSLY ASSERT: \n",
      "\t spikes_df[time_variable_name]: (12793,) should be less than time_window_edges: (38260,)!\n",
      "Performing run_specific_computations_single_context on filtered_session with filter named \"maze1\"...\n",
      "Performing _execute_computation_functions(...) with 1 registered_computation_functions...\n",
      "WARNING: PREVIOUSLY ASSERT: \n",
      "\t spikes_df[time_variable_name]: (15034,) should be less than time_window_edges: (35780,)!\n",
      "WARNING: PREVIOUSLY ASSERT: \n",
      "\t spikes_df[time_variable_name]: (15034,) should be less than time_window_edges: (35780,)!\n",
      "_execute_computation_functions(...): \n",
      "\taccumulated_errors: None\n",
      "\tcomputation_times: {<function DefaultComputationFunctions._perform_position_decoding_computation at 0x000002ADFAB1A0D0>: datetime.datetime(2023, 6, 20, 4, 15, 29, 862592)}\n",
      "Performing run_specific_computations_single_context on filtered_session with filter named \"maze2\"...\n",
      "Performing _execute_computation_functions(...) with 1 registered_computation_functions...\n",
      "WARNING: PREVIOUSLY ASSERT: \n",
      "\t spikes_df[time_variable_name]: (12793,) should be less than time_window_edges: (38260,)!\n",
      "WARNING: PREVIOUSLY ASSERT: \n",
      "\t spikes_df[time_variable_name]: (12793,) should be less than time_window_edges: (38260,)!\n",
      "_execute_computation_functions(...): \n",
      "\taccumulated_errors: None\n",
      "\tcomputation_times: {<function DefaultComputationFunctions._perform_position_decoding_computation at 0x000002ADFAB1A0D0>: datetime.datetime(2023, 6, 20, 4, 15, 54, 46473)}\n",
      "self will be re-binned to match target_one_step_decoder...\n",
      "WARNING: PREVIOUSLY ASSERT: \n",
      "\t spikes_df[time_variable_name]: (12793,) should be less than time_window_edges: (38260,)!\n",
      "WARNING: PREVIOUSLY ASSERT: \n",
      "\t spikes_df[time_variable_name]: (12793,) should be less than time_window_edges: (38260,)!\n",
      "reusing extant decoder.\n",
      "USING EXISTING original_1D_decoder.\n",
      "(n_neurons = 33, n_all_epoch_timebins = 789)\n",
      "reusing extant decoder.\n",
      "USING EXISTING original_1D_decoder.\n",
      "(n_neurons = 33, n_all_epoch_timebins = 789)\n",
      "\t done.\n",
      "long_short_post_decoding missing.\n",
      "\t Recomputing long_short_post_decoding...\n",
      "num_neurons: 33, num_epochs: 133, num_total_flat_timebins: 789\n",
      "num_neurons: 33, num_epochs: 133, num_total_flat_timebins: 789\n",
      "returned_shape_tuple_LONG: (33, array([5, 5, 5, 5, 5, 5, 6, 7, 5, 5, 8, 5, 6, 6, 8, 5, 8, 7, 7, 5, 6, 5,\n",
      "       7, 7, 7, 6, 6, 5, 7, 5, 7, 6, 7, 7, 5, 8, 6, 5, 6, 5, 5, 8, 5, 5,\n",
      "       7, 6, 5, 8, 5, 6, 5, 5, 6, 6, 6, 6, 5, 5, 5, 5, 7, 7, 7, 5, 7, 6,\n",
      "       5, 5, 5, 6, 6, 8, 5, 5, 7, 8, 6, 6, 6, 5, 6, 6, 7, 6, 5, 5, 5, 7,\n",
      "       7, 5, 8, 5, 6, 7, 5, 7, 6, 5, 6, 5, 5, 6, 7, 6, 8, 5, 5, 7, 7, 5,\n",
      "       6, 7, 5, 6, 5, 8, 5, 5, 5, 6, 6, 6, 6, 5, 6, 6, 6, 6, 6, 5, 6, 5,\n",
      "       5], dtype=int64), 789), returned_shape_tuple_SHORT: (33, array([5, 5, 5, 5, 5, 5, 6, 7, 5, 5, 8, 5, 6, 6, 8, 5, 8, 7, 7, 5, 6, 5,\n",
      "       7, 7, 7, 6, 6, 5, 7, 5, 7, 6, 7, 7, 5, 8, 6, 5, 6, 5, 5, 8, 5, 5,\n",
      "       7, 6, 5, 8, 5, 6, 5, 5, 6, 6, 6, 6, 5, 5, 5, 5, 7, 7, 7, 5, 7, 6,\n",
      "       5, 5, 5, 6, 6, 8, 5, 5, 7, 8, 6, 6, 6, 5, 6, 6, 7, 6, 5, 5, 5, 7,\n",
      "       7, 5, 8, 5, 6, 7, 5, 7, 6, 5, 6, 5, 5, 6, 7, 6, 8, 5, 5, 7, 7, 5,\n",
      "       6, 7, 5, 6, 5, 8, 5, 5, 5, 6, 6, 6, 6, 5, 6, 6, 6, 6, 6, 5, 6, 5,\n",
      "       5], dtype=int64), 789)\n",
      "long_test: 0.017545775147056093\n",
      "short_test: -0.014001659744368367\n",
      "\t done.\n",
      "done with all batch_extended_computations(...).\n",
      "newly_computed_values: ['jonathan_firing_rate_analysis', 'long_short_fr_indicies_analyses', 'long_short_decoding_analyses', 'long_short_post_decoding']. Saving global results...\n",
      "global_computation_results_pickle_path: W:\\Data\\KDIBA\\gor01\\two\\2006-6-07_16-40-19\\output\\global_computation_results.pkl\n",
      "Saving (file mode 'w+b') saved session pickle file results : W:\\Data\\KDIBA\\gor01\\two\\2006-6-07_16-40-19\\output\\global_computation_results.pkl... done.\n"
     ]
    }
   ],
   "source": [
    "curr_active_pipeline.reload_default_computation_functions()\n",
    "extended_computations_include_includelist=['long_short_fr_indicies_analyses', 'jonathan_firing_rate_analysis', 'long_short_decoding_analyses', 'long_short_post_decoding'] # do only specifiedl , 'long_short_rate_remapping'\n",
    "force_recompute_global = force_reload\n",
    "# force_recompute_global = True\n",
    "# extended_computations_include_includelist=['long_short_post_decoding'] # do only specifiedl\n",
    "newly_computed_values = batch_extended_computations(curr_active_pipeline, include_includelist=extended_computations_include_includelist, include_global_functions=True, fail_on_exception=True, progress_print=True, force_recompute=force_recompute_global, debug_print=False)\n",
    "if len(newly_computed_values) > 0:\n",
    "\tprint(f'newly_computed_values: {newly_computed_values}. Saving global results...')\n",
    "\ttry:\n",
    "\t\t# curr_active_pipeline.global_computation_results.persist_time = datetime.now()\n",
    "\t\t# Try to write out the global computation function results:\n",
    "\t\tcurr_active_pipeline.save_global_computation_results()\n",
    "\texcept Exception as e:\n",
    "\t\tprint(f'\\n\\n!!WARNING!!: saving the global results threw the exception: {e}')\n",
    "\t\tprint(f'\\tthe global results are currently unsaved! proceed with caution and save as soon as you can!\\n\\n\\n')\n",
    "else:\n",
    "\tprint(f'no changes in global results.')\n",
    "# 10m 29.5s"
   ]
  },
  {
   "cell_type": "code",
   "execution_count": 7,
   "id": "d3e3c3f3",
   "metadata": {},
   "outputs": [
    {
     "name": "stdout",
     "output_type": "stream",
     "text": [
      "https://app.neptune.ai/commander.pho/PhoDibaLongShortUpdated/\n",
      "https://app.neptune.ai/commander.pho/PhoDibaLongShortUpdated/e/LS2023-151\n",
      "shared_aclus: [2, 3, 4, 5, 6, 7, 8, 9, 10, 11, 13, 14, 15, 16, 17, 20, 22, 23, 24, 25, 26, 27, 28, 29, 30, 31, 32, 33, 34, 35, 36, 37, 38, 39, 40, 41, 42, 43, 44, 45, 46, 47, 49, 50, 51, 52, 53, 54, 55, 56, 57, 58, 59, 60, 61, 62, 63, 64]\n",
      "long_only_aclus: [12, 21, 48]\n",
      "short_only_aclus: [18, 19, 65]\n",
      "shared_aclus: [2, 3, 4, 5, 6, 7, 8, 9, 10, 11, 13, 14, 15, 16, 17, 20, 22, 23, 24, 25, 26, 27, 28, 29, 30, 31, 32, 33, 34, 35, 36, 37, 38, 39, 40, 41, 42, 43, 44, 45, 46, 47, 49, 50, 51, 52, 53, 54, 55, 56, 57, 58, 59, 60, 61, 62, 63, 64]\n",
      "long_only_aclus: [12, 21, 48]\n",
      "short_only_aclus: [18, 19, 65]\n",
      "include_includelist: ['maze1', 'maze2', 'maze']\n",
      "long_epoch_name: maze1, short_epoch_name: maze2, global_epoch_name: maze\n",
      "\t saved C:\\Users\\pho\\repos\\Spike3DWorkEnv\\Spike3D\\EXTERNAL\\Screenshots\\ProgrammaticDisplayFunctionTesting\\2023-06-20\\kdiba_gor01_two_2006-6-07_16-40-19_BatchPhoJonathanReplayFRC_long_only_[12, 21, 48].png\n",
      "include_includelist: ['maze1', 'maze2', 'maze']\n",
      "long_epoch_name: maze1, short_epoch_name: maze2, global_epoch_name: maze\n",
      "\t saved C:\\Users\\pho\\repos\\Spike3DWorkEnv\\Spike3D\\EXTERNAL\\Screenshots\\ProgrammaticDisplayFunctionTesting\\2023-06-20\\kdiba_gor01_two_2006-6-07_16-40-19_BatchPhoJonathanReplayFRC_short_only_[18, 19, 65].png\n",
      "include_includelist: ['maze1', 'maze2', 'maze']\n",
      "long_epoch_name: maze1, short_epoch_name: maze2, global_epoch_name: maze\n",
      "WARNING: aclu 2 is not present in the pf1D_all ratemaps. Which contain aclus: [5, 6, 7, 8, 11, 12, 15, 17, 18, 19, 20, 21, 24, 25, 26, 27, 28, 31, 34, 35, 39, 40, 41, 43, 44, 45, 48, 49, 50, 51, 52, 53, 55, 56, 60, 62, 63, 64, 65]\n",
      "WARNING: aclu 3 is not present in the pf1D_all ratemaps. Which contain aclus: [5, 6, 7, 8, 11, 12, 15, 17, 18, 19, 20, 21, 24, 25, 26, 27, 28, 31, 34, 35, 39, 40, 41, 43, 44, 45, 48, 49, 50, 51, 52, 53, 55, 56, 60, 62, 63, 64, 65]\n",
      "WARNING: aclu 4 is not present in the pf1D_all ratemaps. Which contain aclus: [5, 6, 7, 8, 11, 12, 15, 17, 18, 19, 20, 21, 24, 25, 26, 27, 28, 31, 34, 35, 39, 40, 41, 43, 44, 45, 48, 49, 50, 51, 52, 53, 55, 56, 60, 62, 63, 64, 65]\n",
      "WARNING: aclu 9 is not present in the pf1D_all ratemaps. Which contain aclus: [5, 6, 7, 8, 11, 12, 15, 17, 18, 19, 20, 21, 24, 25, 26, 27, 28, 31, 34, 35, 39, 40, 41, 43, 44, 45, 48, 49, 50, 51, 52, 53, 55, 56, 60, 62, 63, 64, 65]\n",
      "WARNING: aclu 10 is not present in the pf1D_all ratemaps. Which contain aclus: [5, 6, 7, 8, 11, 12, 15, 17, 18, 19, 20, 21, 24, 25, 26, 27, 28, 31, 34, 35, 39, 40, 41, 43, 44, 45, 48, 49, 50, 51, 52, 53, 55, 56, 60, 62, 63, 64, 65]\n",
      "\t saved C:\\Users\\pho\\repos\\Spike3DWorkEnv\\Spike3D\\EXTERNAL\\Screenshots\\ProgrammaticDisplayFunctionTesting\\2023-06-20\\kdiba_gor01_two_2006-6-07_16-40-19_BatchPhoJonathanReplayFRC_shared_1of6_[2, 3, 4, 5, 6, 7, 8, 9, 10, 11].png\n",
      "include_includelist: ['maze1', 'maze2', 'maze']\n",
      "long_epoch_name: maze1, short_epoch_name: maze2, global_epoch_name: maze\n",
      "WARNING: aclu 13 is not present in the pf1D_all ratemaps. Which contain aclus: [5, 6, 7, 8, 11, 12, 15, 17, 18, 19, 20, 21, 24, 25, 26, 27, 28, 31, 34, 35, 39, 40, 41, 43, 44, 45, 48, 49, 50, 51, 52, 53, 55, 56, 60, 62, 63, 64, 65]\n",
      "WARNING: aclu 14 is not present in the pf1D_all ratemaps. Which contain aclus: [5, 6, 7, 8, 11, 12, 15, 17, 18, 19, 20, 21, 24, 25, 26, 27, 28, 31, 34, 35, 39, 40, 41, 43, 44, 45, 48, 49, 50, 51, 52, 53, 55, 56, 60, 62, 63, 64, 65]\n",
      "WARNING: aclu 16 is not present in the pf1D_all ratemaps. Which contain aclus: [5, 6, 7, 8, 11, 12, 15, 17, 18, 19, 20, 21, 24, 25, 26, 27, 28, 31, 34, 35, 39, 40, 41, 43, 44, 45, 48, 49, 50, 51, 52, 53, 55, 56, 60, 62, 63, 64, 65]\n",
      "WARNING: aclu 22 is not present in the pf1D_all ratemaps. Which contain aclus: [5, 6, 7, 8, 11, 12, 15, 17, 18, 19, 20, 21, 24, 25, 26, 27, 28, 31, 34, 35, 39, 40, 41, 43, 44, 45, 48, 49, 50, 51, 52, 53, 55, 56, 60, 62, 63, 64, 65]\n",
      "WARNING: aclu 23 is not present in the pf1D_all ratemaps. Which contain aclus: [5, 6, 7, 8, 11, 12, 15, 17, 18, 19, 20, 21, 24, 25, 26, 27, 28, 31, 34, 35, 39, 40, 41, 43, 44, 45, 48, 49, 50, 51, 52, 53, 55, 56, 60, 62, 63, 64, 65]\n",
      "\t saved C:\\Users\\pho\\repos\\Spike3DWorkEnv\\Spike3D\\EXTERNAL\\Screenshots\\ProgrammaticDisplayFunctionTesting\\2023-06-20\\kdiba_gor01_two_2006-6-07_16-40-19_BatchPhoJonathanReplayFRC_shared_2of6_[13, 14, 15, 16, 17, 20, 22, 23, 24, 25].png\n",
      "include_includelist: ['maze1', 'maze2', 'maze']\n",
      "long_epoch_name: maze1, short_epoch_name: maze2, global_epoch_name: maze\n",
      "WARNING: aclu 29 is not present in the pf1D_all ratemaps. Which contain aclus: [5, 6, 7, 8, 11, 12, 15, 17, 18, 19, 20, 21, 24, 25, 26, 27, 28, 31, 34, 35, 39, 40, 41, 43, 44, 45, 48, 49, 50, 51, 52, 53, 55, 56, 60, 62, 63, 64, 65]\n",
      "WARNING: aclu 30 is not present in the pf1D_all ratemaps. Which contain aclus: [5, 6, 7, 8, 11, 12, 15, 17, 18, 19, 20, 21, 24, 25, 26, 27, 28, 31, 34, 35, 39, 40, 41, 43, 44, 45, 48, 49, 50, 51, 52, 53, 55, 56, 60, 62, 63, 64, 65]\n",
      "WARNING: aclu 32 is not present in the pf1D_all ratemaps. Which contain aclus: [5, 6, 7, 8, 11, 12, 15, 17, 18, 19, 20, 21, 24, 25, 26, 27, 28, 31, 34, 35, 39, 40, 41, 43, 44, 45, 48, 49, 50, 51, 52, 53, 55, 56, 60, 62, 63, 64, 65]\n",
      "WARNING: aclu 33 is not present in the pf1D_all ratemaps. Which contain aclus: [5, 6, 7, 8, 11, 12, 15, 17, 18, 19, 20, 21, 24, 25, 26, 27, 28, 31, 34, 35, 39, 40, 41, 43, 44, 45, 48, 49, 50, 51, 52, 53, 55, 56, 60, 62, 63, 64, 65]\n",
      "\t saved C:\\Users\\pho\\repos\\Spike3DWorkEnv\\Spike3D\\EXTERNAL\\Screenshots\\ProgrammaticDisplayFunctionTesting\\2023-06-20\\kdiba_gor01_two_2006-6-07_16-40-19_BatchPhoJonathanReplayFRC_shared_3of6_[26, 27, 28, 29, 30, 31, 32, 33, 34, 35].png\n",
      "include_includelist: ['maze1', 'maze2', 'maze']\n",
      "long_epoch_name: maze1, short_epoch_name: maze2, global_epoch_name: maze\n",
      "WARNING: aclu 36 is not present in the pf1D_all ratemaps. Which contain aclus: [5, 6, 7, 8, 11, 12, 15, 17, 18, 19, 20, 21, 24, 25, 26, 27, 28, 31, 34, 35, 39, 40, 41, 43, 44, 45, 48, 49, 50, 51, 52, 53, 55, 56, 60, 62, 63, 64, 65]\n",
      "WARNING: aclu 37 is not present in the pf1D_all ratemaps. Which contain aclus: [5, 6, 7, 8, 11, 12, 15, 17, 18, 19, 20, 21, 24, 25, 26, 27, 28, 31, 34, 35, 39, 40, 41, 43, 44, 45, 48, 49, 50, 51, 52, 53, 55, 56, 60, 62, 63, 64, 65]\n",
      "WARNING: aclu 38 is not present in the pf1D_all ratemaps. Which contain aclus: [5, 6, 7, 8, 11, 12, 15, 17, 18, 19, 20, 21, 24, 25, 26, 27, 28, 31, 34, 35, 39, 40, 41, 43, 44, 45, 48, 49, 50, 51, 52, 53, 55, 56, 60, 62, 63, 64, 65]\n",
      "WARNING: aclu 42 is not present in the pf1D_all ratemaps. Which contain aclus: [5, 6, 7, 8, 11, 12, 15, 17, 18, 19, 20, 21, 24, 25, 26, 27, 28, 31, 34, 35, 39, 40, 41, 43, 44, 45, 48, 49, 50, 51, 52, 53, 55, 56, 60, 62, 63, 64, 65]\n",
      "\t saved C:\\Users\\pho\\repos\\Spike3DWorkEnv\\Spike3D\\EXTERNAL\\Screenshots\\ProgrammaticDisplayFunctionTesting\\2023-06-20\\kdiba_gor01_two_2006-6-07_16-40-19_BatchPhoJonathanReplayFRC_shared_4of6_[36, 37, 38, 39, 40, 41, 42, 43, 44, 45].png\n",
      "include_includelist: ['maze1', 'maze2', 'maze']\n",
      "long_epoch_name: maze1, short_epoch_name: maze2, global_epoch_name: maze\n",
      "WARNING: aclu 46 is not present in the pf1D_all ratemaps. Which contain aclus: [5, 6, 7, 8, 11, 12, 15, 17, 18, 19, 20, 21, 24, 25, 26, 27, 28, 31, 34, 35, 39, 40, 41, 43, 44, 45, 48, 49, 50, 51, 52, 53, 55, 56, 60, 62, 63, 64, 65]\n",
      "WARNING: aclu 47 is not present in the pf1D_all ratemaps. Which contain aclus: [5, 6, 7, 8, 11, 12, 15, 17, 18, 19, 20, 21, 24, 25, 26, 27, 28, 31, 34, 35, 39, 40, 41, 43, 44, 45, 48, 49, 50, 51, 52, 53, 55, 56, 60, 62, 63, 64, 65]\n",
      "WARNING: aclu 54 is not present in the pf1D_all ratemaps. Which contain aclus: [5, 6, 7, 8, 11, 12, 15, 17, 18, 19, 20, 21, 24, 25, 26, 27, 28, 31, 34, 35, 39, 40, 41, 43, 44, 45, 48, 49, 50, 51, 52, 53, 55, 56, 60, 62, 63, 64, 65]\n",
      "\t saved C:\\Users\\pho\\repos\\Spike3DWorkEnv\\Spike3D\\EXTERNAL\\Screenshots\\ProgrammaticDisplayFunctionTesting\\2023-06-20\\kdiba_gor01_two_2006-6-07_16-40-19_BatchPhoJonathanReplayFRC_shared_5of6_[46, 47, 49, 50, 51, 52, 53, 54, 55, 56].png\n",
      "include_includelist: ['maze1', 'maze2', 'maze']\n",
      "long_epoch_name: maze1, short_epoch_name: maze2, global_epoch_name: maze\n",
      "WARNING: aclu 57 is not present in the pf1D_all ratemaps. Which contain aclus: [5, 6, 7, 8, 11, 12, 15, 17, 18, 19, 20, 21, 24, 25, 26, 27, 28, 31, 34, 35, 39, 40, 41, 43, 44, 45, 48, 49, 50, 51, 52, 53, 55, 56, 60, 62, 63, 64, 65]\n",
      "WARNING: aclu 58 is not present in the pf1D_all ratemaps. Which contain aclus: [5, 6, 7, 8, 11, 12, 15, 17, 18, 19, 20, 21, 24, 25, 26, 27, 28, 31, 34, 35, 39, 40, 41, 43, 44, 45, 48, 49, 50, 51, 52, 53, 55, 56, 60, 62, 63, 64, 65]\n",
      "WARNING: aclu 59 is not present in the pf1D_all ratemaps. Which contain aclus: [5, 6, 7, 8, 11, 12, 15, 17, 18, 19, 20, 21, 24, 25, 26, 27, 28, 31, 34, 35, 39, 40, 41, 43, 44, 45, 48, 49, 50, 51, 52, 53, 55, 56, 60, 62, 63, 64, 65]\n",
      "WARNING: aclu 61 is not present in the pf1D_all ratemaps. Which contain aclus: [5, 6, 7, 8, 11, 12, 15, 17, 18, 19, 20, 21, 24, 25, 26, 27, 28, 31, 34, 35, 39, 40, 41, 43, 44, 45, 48, 49, 50, 51, 52, 53, 55, 56, 60, 62, 63, 64, 65]\n",
      "\t saved C:\\Users\\pho\\repos\\Spike3DWorkEnv\\Spike3D\\EXTERNAL\\Screenshots\\ProgrammaticDisplayFunctionTesting\\2023-06-20\\kdiba_gor01_two_2006-6-07_16-40-19_BatchPhoJonathanReplayFRC_shared_6of6_[57, 58, 59, 60, 61, 62, 63, 64].png\n",
      "curr_session_parent_out_path: C:\\Users\\pho\\repos\\Spike3DWorkEnv\\Spike3D\\EXTERNAL\\Screenshots\\ProgrammaticDisplayFunctionTesting\\2023-06-20\n",
      "\t saved C:\\Users\\pho\\repos\\Spike3DWorkEnv\\Spike3D\\EXTERNAL\\Screenshots\\ProgrammaticDisplayFunctionTesting\\2023-06-20\\kdiba_gor01_two_2006-6-07_16-40-19_maze1_1d_placefields.png\n",
      "\t saved C:\\Users\\pho\\repos\\Spike3DWorkEnv\\Spike3D\\EXTERNAL\\Screenshots\\ProgrammaticDisplayFunctionTesting\\2023-06-20\\kdiba_gor01_two_2006-6-07_16-40-19_maze2_1d_placefields.png\n",
      "\t saved C:\\Users\\pho\\repos\\Spike3DWorkEnv\\Spike3D\\EXTERNAL\\Screenshots\\ProgrammaticDisplayFunctionTesting\\2023-06-20\\kdiba_gor01_two_2006-6-07_16-40-19_maze_1d_placefields.png\n",
      "\t saved C:\\Users\\pho\\repos\\Spike3DWorkEnv\\Spike3D\\EXTERNAL\\Screenshots\\ProgrammaticDisplayFunctionTesting\\2023-06-20\\kdiba_gor01_two_2006-6-07_16-40-19_maze1__display_2d_placefield_result_plot_ratemaps_2D.png\n",
      "\t saved C:\\Users\\pho\\repos\\Spike3DWorkEnv\\Spike3D\\EXTERNAL\\Screenshots\\ProgrammaticDisplayFunctionTesting\\2023-06-20\\kdiba_gor01_two_2006-6-07_16-40-19_maze2__display_2d_placefield_result_plot_ratemaps_2D.png\n",
      "\t saved C:\\Users\\pho\\repos\\Spike3DWorkEnv\\Spike3D\\EXTERNAL\\Screenshots\\ProgrammaticDisplayFunctionTesting\\2023-06-20\\kdiba_gor01_two_2006-6-07_16-40-19_maze__display_2d_placefield_result_plot_ratemaps_2D.png\n",
      "\t saved C:\\Users\\pho\\repos\\Spike3DWorkEnv\\Spike3D\\EXTERNAL\\Screenshots\\ProgrammaticDisplayFunctionTesting\\2023-06-20\\kdiba_gor01_two_2006-6-07_16-40-19_maze1_plot_occupancy_OCCUPANCY.png\n",
      "\t saved C:\\Users\\pho\\repos\\Spike3DWorkEnv\\Spike3D\\EXTERNAL\\Screenshots\\ProgrammaticDisplayFunctionTesting\\2023-06-20\\kdiba_gor01_two_2006-6-07_16-40-19_maze2_plot_occupancy_OCCUPANCY.png\n",
      "\t saved C:\\Users\\pho\\repos\\Spike3DWorkEnv\\Spike3D\\EXTERNAL\\Screenshots\\ProgrammaticDisplayFunctionTesting\\2023-06-20\\kdiba_gor01_two_2006-6-07_16-40-19_maze_plot_occupancy_OCCUPANCY.png\n",
      "\t saved C:\\Users\\pho\\repos\\Spike3DWorkEnv\\Spike3D\\EXTERNAL\\Screenshots\\ProgrammaticDisplayFunctionTesting\\2023-06-20\\kdiba_gor01_two_2006-6-07_16-40-19_long_short_firing_rate_indicies_display_long_short_laps.png\n",
      "global_y_min_SHORT: 1.3106317003597944e-06, global_y_max_SHORT: 6.638053195971556\n",
      "global_y_min_LONG: 0.0, global_y_max_LONG: 6.886917874099634\n",
      "global_y_min: 0.0, global_y_max: 6.886917874099634\n",
      "\t saved C:\\Users\\pho\\repos\\Spike3DWorkEnv\\Spike3D\\EXTERNAL\\Screenshots\\ProgrammaticDisplayFunctionTesting\\2023-06-20\\kdiba_gor01_two_2006-6-07_16-40-19_plot_expected_vs_observed_epoch_idx_obs_exp_diff_ptp.png\n",
      "\t saved C:\\Users\\pho\\repos\\Spike3DWorkEnv\\Spike3D\\EXTERNAL\\Screenshots\\ProgrammaticDisplayFunctionTesting\\2023-06-20\\kdiba_gor01_two_2006-6-07_16-40-19__display_grid_bin_bounds_validation.png\n",
      "\t saved C:\\Users\\pho\\repos\\Spike3DWorkEnv\\Spike3D\\EXTERNAL\\Screenshots\\ProgrammaticDisplayFunctionTesting\\2023-06-20\\kdiba_gor01_two_2006-6-07_16-40-19_running_and_replay_speeds_over_time.png\n",
      "\t saved C:\\Users\\pho\\repos\\Spike3DWorkEnv\\Spike3D\\EXTERNAL\\Screenshots\\ProgrammaticDisplayFunctionTesting\\2023-06-20\\kdiba_gor01_two_2006-6-07_16-40-19_display_long_short_laps.png\n",
      "\t saved C:\\Users\\pho\\repos\\Spike3DWorkEnv\\Spike3D\\EXTERNAL\\Screenshots\\ProgrammaticDisplayFunctionTesting\\2023-06-20\\kdiba_gor01_two_2006-6-07_16-40-19_maze1_plot_single_track_firing_rate_compare.png\n",
      "\t saved C:\\Users\\pho\\repos\\Spike3DWorkEnv\\Spike3D\\EXTERNAL\\Screenshots\\ProgrammaticDisplayFunctionTesting\\2023-06-20\\kdiba_gor01_two_2006-6-07_16-40-19_maze2_plot_single_track_firing_rate_compare.png\n",
      "DEBUG: new_all_aclus_sort_indicies: [ 5 22 36 10  6 30 29 34 28 16 14 27 17  0 21 35  4 15 32 25  2 12 31  7\n",
      "  1 33 18 19  3 26 11 13 20 37 24 23 38  9  8]\n",
      "\t saved C:\\Users\\pho\\repos\\Spike3DWorkEnv\\Spike3D\\EXTERNAL\\Screenshots\\ProgrammaticDisplayFunctionTesting\\2023-06-20\\kdiba_gor01_two_2006-6-07_16-40-19_display_short_long_pf1D_comparison_long.png\n",
      "\t saved C:\\Users\\pho\\repos\\Spike3DWorkEnv\\Spike3D\\EXTERNAL\\Screenshots\\ProgrammaticDisplayFunctionTesting\\2023-06-20\\kdiba_gor01_two_2006-6-07_16-40-19_display_short_long_pf1D_comparison_short.png\n",
      "active_identifying_ctx_string: \"kdiba|gor01|two|2006-6-07_16-40-19|DecodedEpochSlices|replays|long_results_obj|1of1|[  0   1   2   3   4   5   6   7   8   9  10  11  12  13  14  15  16  17\n",
      "  18  19  20  21  22  23  24  25  26  27  28  29  30  31  32  33  34  35\n",
      "  36  37  38  39  40  41  42  43  44  45  46  47  48  49  50  51  52  53\n",
      "  54  55  56  57  58  59  60  61  62  63  64  65  66  67  68  69  70  71\n",
      "  72  73  74  75  76  77  78  79  80  81  82  83  84  85  86  87  88  89\n",
      "  90  91  92  93  94  95  96  97  98  99 100 101 102 103 104 105 106 107\n",
      " 108 109 110 111 112 113 114 115 116 117 118 119 120 121 122 123 124 125\n",
      " 126 127 128 129 130 131 132]\"\n",
      "active_identifying_ctx_string: \"kdiba|gor01|two|2006-6-07_16-40-19|DecodedEpochSlices|replays|long_results_obj|1of1|[  0   1   2   3   4   5   6   7   8   9  10  11  12  13  14  15  16  17\n",
      "  18  19  20  21  22  23  24  25  26  27  28  29  30  31  32  33  34  35\n",
      "  36  37  38  39  40  41  42  43  44  45  46  47  48  49  50  51  52  53\n",
      "  54  55  56  57  58  59  60  61  62  63  64  65  66  67  68  69  70  71\n",
      "  72  73  74  75  76  77  78  79  80  81  82  83  84  85  86  87  88  89\n",
      "  90  91  92  93  94  95  96  97  98  99 100 101 102 103 104 105 106 107\n",
      " 108 109 110 111 112 113 114 115 116 117 118 119 120 121 122 123 124 125\n",
      " 126 127 128 129 130 131 132]\"\n",
      "\t saved C:\\Users\\pho\\repos\\Spike3DWorkEnv\\Spike3D\\EXTERNAL\\Screenshots\\ProgrammaticDisplayFunctionTesting\\2023-06-20\\kdiba_gor01_two_2006-6-07_16-40-19_DecodedEpochSlices_replays_long_results_obj.png\n",
      "active_identifying_ctx_string: \"kdiba|gor01|two|2006-6-07_16-40-19|DecodedEpochSlices|replays|short_results_obj|1of1|[  0   1   2   3   4   5   6   7   8   9  10  11  12  13  14  15  16  17\n",
      "  18  19  20  21  22  23  24  25  26  27  28  29  30  31  32  33  34  35\n",
      "  36  37  38  39  40  41  42  43  44  45  46  47  48  49  50  51  52  53\n",
      "  54  55  56  57  58  59  60  61  62  63  64  65  66  67  68  69  70  71\n",
      "  72  73  74  75  76  77  78  79  80  81  82  83  84  85  86  87  88  89\n",
      "  90  91  92  93  94  95  96  97  98  99 100 101 102 103 104 105 106 107\n",
      " 108 109 110 111 112 113 114 115 116 117 118 119 120 121 122 123 124 125\n",
      " 126 127 128 129 130 131 132]\"\n",
      "active_identifying_ctx_string: \"kdiba|gor01|two|2006-6-07_16-40-19|DecodedEpochSlices|replays|short_results_obj|1of1|[  0   1   2   3   4   5   6   7   8   9  10  11  12  13  14  15  16  17\n",
      "  18  19  20  21  22  23  24  25  26  27  28  29  30  31  32  33  34  35\n",
      "  36  37  38  39  40  41  42  43  44  45  46  47  48  49  50  51  52  53\n",
      "  54  55  56  57  58  59  60  61  62  63  64  65  66  67  68  69  70  71\n",
      "  72  73  74  75  76  77  78  79  80  81  82  83  84  85  86  87  88  89\n",
      "  90  91  92  93  94  95  96  97  98  99 100 101 102 103 104 105 106 107\n",
      " 108 109 110 111 112 113 114 115 116 117 118 119 120 121 122 123 124 125\n",
      " 126 127 128 129 130 131 132]\"\n",
      "\t saved C:\\Users\\pho\\repos\\Spike3DWorkEnv\\Spike3D\\EXTERNAL\\Screenshots\\ProgrammaticDisplayFunctionTesting\\2023-06-20\\kdiba_gor01_two_2006-6-07_16-40-19_DecodedEpochSlices_replays_short_results_obj.png\n",
      "Neptuner.stop() called!\n",
      "Shutting down background jobs, please wait a moment...\n",
      "Done!\n",
      "Waiting for the remaining 31 operations to synchronize with Neptune. Do not kill this process.\n",
      "All 31 operations synced, thanks for waiting!\n",
      "Explore the metadata in the Neptune app:\n",
      "https://app.neptune.ai/commander.pho/PhoDibaLongShortUpdated/e/LS2023-151/metadata\n",
      "Shutting down background jobs, please wait a moment...\n",
      "Done!\n",
      "All 0 operations synced, thanks for waiting!\n",
      "Explore the metadata in the Neptune app:\n",
      "https://app.neptune.ai/commander.pho/PhoDibaLongShortUpdated/metadata\n",
      "Neptuner stoppped.\n",
      "Neptuner.stop() called!\n",
      "Neptuner stoppped.\n"
     ]
    },
    {
     "name": "stdout",
     "output_type": "stream",
     "text": [
      "on_selected_epochs_changed(...)\n",
      "current_page_idx = 0, found_data_index =12\n",
      "\tselection_indicies: [12]\n",
      "on_selected_epochs_changed(...)\n",
      "current_page_idx = 0, found_data_index =13\n",
      "\tselection_indicies: [12 13]\n",
      "on_selected_epochs_changed(...)\n",
      "current_page_idx = 0, found_data_index =15\n",
      "\tselection_indicies: [12 13 15]\n",
      "on_selected_epochs_changed(...)\n",
      "current_page_idx = 0, found_data_index =17\n",
      "\tselection_indicies: [12 13 15 17]\n",
      "on_selected_epochs_changed(...)\n",
      "current_page_idx = 0, found_data_index =20\n",
      "\tselection_indicies: [12 13 15 17 20]\n",
      "on_selected_epochs_changed(...)\n",
      "current_page_idx = 0, found_data_index =24\n",
      "\tselection_indicies: [12 13 15 17 20 24]\n",
      "on_selected_epochs_changed(...)\n",
      "current_page_idx = 0, found_data_index =5\n",
      "\tselection_indicies: [5]\n",
      "on_selected_epochs_changed(...)\n",
      "current_page_idx = 0, found_data_index =13\n",
      "\tselection_indicies: [ 5 13]\n",
      "on_selected_epochs_changed(...)\n",
      "current_page_idx = 0, found_data_index =15\n",
      "\tselection_indicies: [ 5 13 15]\n",
      "on_selected_epochs_changed(...)\n",
      "current_page_idx = 0, found_data_index =30\n",
      "\tselection_indicies: [12 13 15 17 20 24 30]\n",
      "on_selected_epochs_changed(...)\n",
      "current_page_idx = 0, found_data_index =31\n",
      "\tselection_indicies: [12 13 15 17 20 24 30 31]\n",
      "on_selected_epochs_changed(...)\n",
      "current_page_idx = 0, found_data_index =32\n",
      "\tselection_indicies: [12 13 15 17 20 24 30 31 32]\n",
      "on_selected_epochs_changed(...)\n",
      "current_page_idx = 0, found_data_index =33\n",
      "\tselection_indicies: [12 13 15 17 20 24 30 31 32 33]\n",
      "on_selected_epochs_changed(...)\n",
      "current_page_idx = 0, found_data_index =41\n",
      "\tselection_indicies: [12 13 15 17 20 24 30 31 32 33 41]\n",
      "on_selected_epochs_changed(...)\n",
      "current_page_idx = 0, found_data_index =17\n",
      "\tselection_indicies: [ 5 13 15 17]\n",
      "on_selected_epochs_changed(...)\n",
      "current_page_idx = 0, found_data_index =49\n",
      "\tselection_indicies: [12 13 15 17 20 24 30 31 32 33 41 49]\n",
      "on_selected_epochs_changed(...)\n",
      "current_page_idx = 0, found_data_index =43\n",
      "\tselection_indicies: [12 13 15 17 20 24 30 31 32 33 41 43 49]\n",
      "on_selected_epochs_changed(...)\n",
      "current_page_idx = 0, found_data_index =54\n",
      "\tselection_indicies: [12 13 15 17 20 24 30 31 32 33 41 43 49 54]\n",
      "on_selected_epochs_changed(...)\n",
      "current_page_idx = 0, found_data_index =55\n",
      "\tselection_indicies: [12 13 15 17 20 24 30 31 32 33 41 43 49 54 55]\n",
      "on_selected_epochs_changed(...)\n",
      "current_page_idx = 0, found_data_index =68\n",
      "\tselection_indicies: [12 13 15 17 20 24 30 31 32 33 41 43 49 54 55 68]\n",
      "on_selected_epochs_changed(...)\n",
      "current_page_idx = 0, found_data_index =20\n",
      "\tselection_indicies: [ 5 13 15 17 20]\n",
      "on_selected_epochs_changed(...)\n",
      "current_page_idx = 0, found_data_index =21\n",
      "\tselection_indicies: [ 5 13 15 17 20 21]\n",
      "on_selected_epochs_changed(...)\n",
      "current_page_idx = 0, found_data_index =24\n",
      "\tselection_indicies: [ 5 13 15 17 20 21 24]\n",
      "on_selected_epochs_changed(...)\n",
      "current_page_idx = 0, found_data_index =70\n",
      "\tselection_indicies: [12 13 15 17 20 24 30 31 32 33 41 43 49 54 55 68 70]\n",
      "on_selected_epochs_changed(...)\n",
      "current_page_idx = 0, found_data_index =71\n",
      "\tselection_indicies: [12 13 15 17 20 24 30 31 32 33 41 43 49 54 55 68 70 71]\n",
      "on_selected_epochs_changed(...)\n",
      "current_page_idx = 0, found_data_index =31\n",
      "\tselection_indicies: [ 5 13 15 17 20 21 24 31]\n",
      "on_selected_epochs_changed(...)\n",
      "current_page_idx = 0, found_data_index =33\n",
      "\tselection_indicies: [ 5 13 15 17 20 21 24 31 33]\n",
      "on_selected_epochs_changed(...)\n",
      "current_page_idx = 0, found_data_index =73\n",
      "\tselection_indicies: [12 13 15 17 20 24 30 31 32 33 41 43 49 54 55 68 70 71 73]\n",
      "on_selected_epochs_changed(...)\n",
      "current_page_idx = 0, found_data_index =76\n",
      "\tselection_indicies: [12 13 15 17 20 24 30 31 32 33 41 43 49 54 55 68 70 71 73 76]\n",
      "on_selected_epochs_changed(...)\n",
      "current_page_idx = 0, found_data_index =43\n",
      "\tselection_indicies: [ 5 13 15 17 20 21 24 31 33 43]\n",
      "on_selected_epochs_changed(...)\n",
      "current_page_idx = 0, found_data_index =49\n",
      "\tselection_indicies: [ 5 13 15 17 20 21 24 31 33 43 49]\n",
      "on_selected_epochs_changed(...)\n",
      "current_page_idx = 0, found_data_index =78\n",
      "\tselection_indicies: [12 13 15 17 20 24 30 31 32 33 41 43 49 54 55 68 70 71 73 76 78]\n",
      "on_selected_epochs_changed(...)\n",
      "current_page_idx = 0, found_data_index =77\n",
      "\tselection_indicies: [12 13 15 17 20 24 30 31 32 33 41 43 49 54 55 68 70 71 73 76 77 78]\n",
      "on_selected_epochs_changed(...)\n",
      "current_page_idx = 0, found_data_index =44\n",
      "\tselection_indicies: [ 5 13 15 17 20 21 24 31 33 43 44 49]\n",
      "on_selected_epochs_changed(...)\n",
      "current_page_idx = 0, found_data_index =84\n",
      "\tselection_indicies: [12 13 15 17 20 24 30 31 32 33 41 43 49 54 55 68 70 71 73 76 77 78 84]\n",
      "on_selected_epochs_changed(...)\n",
      "current_page_idx = 0, found_data_index =89\n",
      "\tselection_indicies: [12 13 15 17 20 24 30 31 32 33 41 43 49 54 55 68 70 71 73 76 77 78 84 89]\n",
      "on_selected_epochs_changed(...)\n",
      "current_page_idx = 0, found_data_index =94\n",
      "\tselection_indicies: [12 13 15 17 20 24 30 31 32 33 41 43 49 54 55 68 70 71 73 76 77 78 84 89\n",
      " 94]\n",
      "on_selected_epochs_changed(...)\n",
      "current_page_idx = 0, found_data_index =66\n",
      "\tselection_indicies: [ 5 13 15 17 20 21 24 31 33 43 44 49 66]\n",
      "on_selected_epochs_changed(...)\n",
      "current_page_idx = 0, found_data_index =70\n",
      "\tselection_indicies: [ 5 13 15 17 20 21 24 31 33 43 44 49 66 70]\n",
      "on_selected_epochs_changed(...)\n",
      "current_page_idx = 0, found_data_index =71\n",
      "\tselection_indicies: [ 5 13 15 17 20 21 24 31 33 43 44 49 66 70 71]\n",
      "on_selected_epochs_changed(...)\n",
      "current_page_idx = 0, found_data_index =100\n",
      "\tselection_indicies: [ 12  13  15  17  20  24  30  31  32  33  41  43  49  54  55  68  70  71\n",
      "  73  76  77  78  84  89  94 100]\n",
      "on_selected_epochs_changed(...)\n",
      "current_page_idx = 0, found_data_index =104\n",
      "\tselection_indicies: [ 12  13  15  17  20  24  30  31  32  33  41  43  49  54  55  68  70  71\n",
      "  73  76  77  78  84  89  94 100 104]\n",
      "on_selected_epochs_changed(...)\n",
      "current_page_idx = 0, found_data_index =105\n",
      "\tselection_indicies: [ 12  13  15  17  20  24  30  31  32  33  41  43  49  54  55  68  70  71\n",
      "  73  76  77  78  84  89  94 100 104 105]\n"
     ]
    }
   ],
   "source": [
    "curr_active_pipeline.reload_default_display_functions()\n",
    "\n",
    "neptuner = batch_perform_all_plots(curr_active_pipeline, enable_neptune=True)\n"
   ]
  },
  {
   "attachments": {},
   "cell_type": "markdown",
   "id": "7e7106ef",
   "metadata": {},
   "source": [
    "### Pipeline Loading/Saving [Optional]"
   ]
  },
  {
   "cell_type": "code",
   "execution_count": null,
   "id": "5a7f3fa3",
   "metadata": {},
   "outputs": [],
   "source": [
    "curr_active_pipeline.save_pipeline(saving_mode=PipelineSavingScheme.TEMP_THEN_OVERWRITE) # AttributeError: 'PfND_TimeDependent' object has no attribute '_included_thresh_neurons_indx'\n",
    "# TypeError: cannot pickle 'MplMultiTab' object\n",
    "# PicklingError: Can't pickle .set_closure_cell at 0x000002BF248F50D0>: it's not found as attr._compat.make_set_closure_cell..set_closure_cell\n",
    "# TypeError: cannot pickle 'PyQt5.QtCore.pyqtSignal' object"
   ]
  },
  {
   "cell_type": "code",
   "execution_count": null,
   "id": "c09c2afd",
   "metadata": {},
   "outputs": [],
   "source": [
    "curr_active_pipeline.save_pipeline(saving_mode=PipelineSavingScheme.OVERWRITE_IN_PLACE)"
   ]
  },
  {
   "cell_type": "code",
   "execution_count": null,
   "id": "12c4c775",
   "metadata": {},
   "outputs": [],
   "source": [
    "curr_active_pipeline.save_global_computation_results() # PicklingError: Can't pickle .set_closure_cell at 0x000002BF248F50D0>: it's not found as attr._compat.make_set_closure_cell..set_closure_cell"
   ]
  },
  {
   "cell_type": "code",
   "execution_count": null,
   "id": "dc47d835",
   "metadata": {},
   "outputs": [],
   "source": [
    "curr_active_pipeline.load_pickled_global_computation_results()"
   ]
  },
  {
   "cell_type": "code",
   "execution_count": null,
   "id": "241dc49f",
   "metadata": {},
   "outputs": [],
   "source": [
    "curr_active_pipeline.clear_display_outputs()\n",
    "curr_active_pipeline.clear_registered_output_files()"
   ]
  },
  {
   "cell_type": "code",
   "execution_count": null,
   "id": "ba716fe2",
   "metadata": {},
   "outputs": [],
   "source": [
    "curr_active_pipeline.save_global_computation_results()"
   ]
  },
  {
   "attachments": {},
   "cell_type": "markdown",
   "id": "c850782f",
   "metadata": {},
   "source": [
    "# End Run"
   ]
  },
  {
   "cell_type": "code",
   "execution_count": 8,
   "id": "dda48261",
   "metadata": {
    "tags": [
     "load",
     "ACTIVE"
    ]
   },
   "outputs": [],
   "source": [
    "## long_short_decoding_analyses:\n",
    "curr_long_short_decoding_analyses = curr_active_pipeline.global_computation_results.computed_data['long_short_leave_one_out_decoding_analysis']\n",
    "## Extract variables from results object:\n",
    "long_one_step_decoder_1D, short_one_step_decoder_1D, long_replays, short_replays, global_replays, long_shared_aclus_only_decoder, short_shared_aclus_only_decoder, shared_aclus, long_short_pf_neurons_diff, n_neurons, long_results_obj, short_results_obj, is_global = curr_long_short_decoding_analyses.long_decoder, curr_long_short_decoding_analyses.short_decoder, curr_long_short_decoding_analyses.long_replays, curr_long_short_decoding_analyses.short_replays, curr_long_short_decoding_analyses.global_replays, curr_long_short_decoding_analyses.long_shared_aclus_only_decoder, curr_long_short_decoding_analyses.short_shared_aclus_only_decoder, curr_long_short_decoding_analyses.shared_aclus, curr_long_short_decoding_analyses.long_short_pf_neurons_diff, curr_long_short_decoding_analyses.n_neurons, curr_long_short_decoding_analyses.long_results_obj, curr_long_short_decoding_analyses.short_results_obj, curr_long_short_decoding_analyses.is_global\n",
    "\n",
    "# (long_one_step_decoder_1D, short_one_step_decoder_1D), (long_one_step_decoder_2D, short_one_step_decoder_2D) = compute_short_long_constrained_decoders(curr_active_pipeline, recalculate_anyway=True)\n",
    "long_epoch_name, short_epoch_name, global_epoch_name = curr_active_pipeline.find_LongShortGlobal_epoch_names()\n",
    "long_epoch_context, short_epoch_context, global_epoch_context = [curr_active_pipeline.filtered_contexts[a_name] for a_name in (long_epoch_name, short_epoch_name, global_epoch_name)]\n",
    "long_session, short_session, global_session = [curr_active_pipeline.filtered_sessions[an_epoch_name] for an_epoch_name in [long_epoch_name, short_epoch_name, global_epoch_name]]\n",
    "long_results, short_results, global_results = [curr_active_pipeline.computation_results[an_epoch_name]['computed_data'] for an_epoch_name in [long_epoch_name, short_epoch_name, global_epoch_name]]\n",
    "long_computation_config, short_computation_config, global_computation_config = [curr_active_pipeline.computation_results[an_epoch_name]['computation_config'] for an_epoch_name in [long_epoch_name, short_epoch_name, global_epoch_name]]\n",
    "long_pf1D, short_pf1D, global_pf1D = long_results.pf1D, short_results.pf1D, global_results.pf1D\n",
    "long_pf2D, short_pf2D, global_pf2D = long_results.pf2D, short_results.pf2D, global_results.pf2D\n",
    "decoding_time_bin_size = long_one_step_decoder_1D.time_bin_size # 1.0/30.0 # 0.03333333333333333\n",
    "\n",
    "## Get global 'long_short_post_decoding' results:\n",
    "curr_long_short_post_decoding = curr_active_pipeline.global_computation_results.computed_data['long_short_post_decoding']\n",
    "expected_v_observed_result, curr_long_short_rr = curr_long_short_post_decoding.expected_v_observed_result, curr_long_short_post_decoding.rate_remapping\n",
    "rate_remapping_df, high_remapping_cells_only = curr_long_short_rr.rr_df, curr_long_short_rr.high_only_rr_df\n",
    "Flat_epoch_time_bins_mean, Flat_decoder_time_bin_centers, num_neurons, num_timebins_in_epoch, num_total_flat_timebins, is_short_track_epoch, is_long_track_epoch, short_short_diff, long_long_diff = expected_v_observed_result['Flat_epoch_time_bins_mean'], expected_v_observed_result['Flat_decoder_time_bin_centers'], expected_v_observed_result['num_neurons'], expected_v_observed_result['num_timebins_in_epoch'], expected_v_observed_result['num_total_flat_timebins'], expected_v_observed_result['is_short_track_epoch'], expected_v_observed_result['is_long_track_epoch'], expected_v_observed_result['short_short_diff'], expected_v_observed_result['long_long_diff']\n",
    "\n",
    "jonathan_firing_rate_analysis_result = JonathanFiringRateAnalysisResult(**curr_active_pipeline.global_computation_results.computed_data.jonathan_firing_rate_analysis.to_dict())"
   ]
  },
  {
   "attachments": {},
   "cell_type": "markdown",
   "id": "8de2e3da",
   "metadata": {},
   "source": [
    "# 2023-05-19 - Testing S-only emergence, L-only replays in S, peak position remappings "
   ]
  },
  {
   "cell_type": "code",
   "execution_count": null,
   "id": "d082385f",
   "metadata": {},
   "outputs": [],
   "source": [
    "from pyphoplacecellanalysis.General.Pipeline.Stages.ComputationFunctions.MultiContextComputationFunctions.LongShortTrackComputations import JonathanFiringRateAnalysisResult\n",
    "\n",
    "jonathan_firing_rate_analysis_result = JonathanFiringRateAnalysisResult(**curr_active_pipeline.global_computation_results.computed_data.jonathan_firing_rate_analysis.to_dict())\n",
    "neuron_replay_stats_df = jonathan_firing_rate_analysis_result.neuron_replay_stats_df.copy()\n",
    "neuron_replay_stats_df"
   ]
  },
  {
   "cell_type": "code",
   "execution_count": null,
   "id": "5e3836e0",
   "metadata": {},
   "outputs": [],
   "source": [
    "neuron_replay_stats_df.sort_values(by=['long_pf_peak_x'], inplace=False, ascending=True)"
   ]
  },
  {
   "cell_type": "code",
   "execution_count": null,
   "id": "eabd5176",
   "metadata": {},
   "outputs": [],
   "source": [
    "from pyphoplacecellanalysis.General.Mixins.CrossComputationComparisonHelpers import SplitPartitionMembership, SetPartition\n",
    "@define(slots=False)\n",
    "class TrackPartitioningResult:\n",
    "\tis_S_pf_only: np.ndarray\n",
    "\tis_S_only: np.ndarray\n",
    "\tS_only_aclus: np.ndarray\n",
    "\tS_only_df: pd.DataFrame\n",
    "\n",
    "# Four distinct subgroups are formed:  pf on neither, pf on both, pf on only long, pf on only short\n",
    "# L_only_aclus, S_only_aclus"
   ]
  },
  {
   "cell_type": "code",
   "execution_count": null,
   "id": "d04d7549",
   "metadata": {},
   "outputs": [],
   "source": [
    "## 2023-05-19 - Get S-only pfs\n",
    "is_S_pf_only = np.logical_and(np.logical_not(neuron_replay_stats_df['has_long_pf']), neuron_replay_stats_df['has_short_pf'])\n",
    "is_S_only = neuron_replay_stats_df.track_membership == SplitPartitionMembership.RIGHT_ONLY\n",
    "assert (is_S_pf_only == is_S_only).all()\n",
    "S_only_aclus = neuron_replay_stats_df.index[is_S_only].to_numpy()\n",
    "neuron_replay_stats_df[is_S_pf_only]"
   ]
  },
  {
   "cell_type": "code",
   "execution_count": null,
   "id": "30347520",
   "metadata": {},
   "outputs": [],
   "source": [
    "## Show L-only pfs stop replaying on S\n",
    "is_L_pf_only = np.logical_and(np.logical_not(neuron_replay_stats_df['has_short_pf']), neuron_replay_stats_df['has_long_pf'])\n",
    "is_L_only = neuron_replay_stats_df.track_membership == SplitPartitionMembership.LEFT_ONLY\n",
    "assert (is_L_pf_only == is_L_only).all()\n",
    "L_only_aclus = neuron_replay_stats_df.index[is_L_only].to_numpy()\n",
    "neuron_replay_stats_df[is_L_only]\n",
    "\n",
    "\n",
    "## For ('kdiba', 'gor01', 'one', '2006-6-09_1-22-43') - Have L-only cells [24, 98] that have ['short_num_replays'] = [8, 7]. We were hoping that there would be few to no replays on the S-track that involved L-only cells."
   ]
  },
  {
   "cell_type": "code",
   "execution_count": null,
   "id": "4cacd3a7",
   "metadata": {},
   "outputs": [],
   "source": [
    "## 2023-05-23 - Get Common (SHARED) placefields\n",
    "## Goal 1: From the cells with the placefields on both tracks, compute the degree to which they remap in position and sort them according to their distance.\n",
    "is_BOTH_pf_only = np.logical_and(neuron_replay_stats_df['has_short_pf'], neuron_replay_stats_df['has_long_pf']) # (63,)\n",
    "BOTH_pf_only_aclus = neuron_replay_stats_df.index[is_BOTH_pf_only].to_numpy()\n",
    "\n",
    "## NOTE: is_BOTH_pf_only is a much more stringent requirement (and a strict subset) than `is_BOTH_only`\n",
    "is_BOTH_only = neuron_replay_stats_df.track_membership == SplitPartitionMembership.SHARED # (99,)\n",
    "BOTH_only_aclus = neuron_replay_stats_df.index[is_BOTH_only].to_numpy()\n",
    "assert BOTH_only_aclus.shape[0] >= BOTH_pf_only_aclus.shape[0]\n",
    "\n",
    "BOTH_pf_only_df = neuron_replay_stats_df[is_BOTH_pf_only].copy()\n",
    "BOTH_pf_only_df['long_short_pf_peak_x_displacement'] = BOTH_pf_only_df['long_pf_peak_x'].values - BOTH_pf_only_df['short_pf_peak_x'].values\n",
    "BOTH_pf_only_df['long_short_pf_peak_x_distance'] = BOTH_pf_only_df['long_short_pf_peak_x_displacement'].abs()\n",
    "BOTH_pf_only_df.sort_values(by=['long_short_pf_peak_x_distance'], inplace=True, ascending=False)\n",
    "BOTH_pf_only_df\n",
    "\n",
    "#TODO 2023-05-23 - Can do more detailed peaks analysis with: long_results.RatemapPeaksAnalysis and short_results.RatemapPeaksAnalysis\n",
    "\n"
   ]
  },
  {
   "cell_type": "code",
   "execution_count": null,
   "id": "2fd9988f",
   "metadata": {},
   "outputs": [],
   "source": [
    "# 2023-06-19 - Look at the Long and Short only aclus and find replays in which they replay\n",
    "# L_only_aclus, S_only_aclus\n",
    "\n",
    "# long_replays\n",
    "\n",
    "exclusive_aclus = np.hstack((L_only_aclus, S_only_aclus)) # [  2,   8,  19,  28,  36,  54,  63,  68,  73,  74, 109,   4,  13,  21,  23,  52,  58,  67,  70,  81]\n",
    "exclusive_aclus\n",
    "# find the cells that fire in each replay. I think this is already computed/used somewhere\n"
   ]
  },
  {
   "cell_type": "code",
   "execution_count": null,
   "id": "4bd91c45",
   "metadata": {},
   "outputs": [],
   "source": [
    "from pyphoplacecellanalysis.General.Pipeline.Stages.DisplayFunctions.SpikeRasters import _prepare_spikes_df_from_filter_epochs\n",
    "# approach copied from `pyphoplacecellanalysis.General.Pipeline.Stages.ComputationFunctions.MultiContextComputationFunctions.LongShortTrackComputations._epoch_unit_avg_firing_rates`\n",
    "from pyphocorehelpers.indexing_helpers import partition\n",
    "\n",
    "# included_neuron_ids = deepcopy(exclusive_aclus)\n",
    "included_neuron_ids = None\n",
    "spikes_df = deepcopy(curr_active_pipeline.sess.spikes_df)\n",
    "filter_epochs = deepcopy(curr_active_pipeline.sess.replay)\n",
    "\n",
    "if included_neuron_ids is None:\n",
    "\tincluded_neuron_ids = spikes_df.spikes.neuron_ids\n",
    "\n",
    "if isinstance(filter_epochs, pd.DataFrame):\n",
    "\tfilter_epochs_df = filter_epochs\n",
    "else:\n",
    "\tfilter_epochs_df = filter_epochs.to_dataframe()\n",
    "\t\n",
    "filter_epoch_spikes_df = deepcopy(spikes_df)\n",
    "filter_epoch_spikes_df = _prepare_spikes_df_from_filter_epochs(filter_epoch_spikes_df, filter_epochs=filter_epochs_df, included_neuron_ids=included_neuron_ids, epoch_id_key_name='replay_epoch_id', debug_print=False) # replay_epoch_id\n",
    "filter_epoch_spikes_df\n"
   ]
  },
  {
   "cell_type": "code",
   "execution_count": null,
   "id": "a98289e5",
   "metadata": {},
   "outputs": [],
   "source": [
    "filter_epochs # 364\n",
    "\n"
   ]
  },
  {
   "cell_type": "code",
   "execution_count": null,
   "id": "6816be87",
   "metadata": {},
   "outputs": [],
   "source": [
    "unique_replay_epoch_id_values, epoch_split_spikes_df_list = partition(filter_epoch_spikes_df, 'replay_epoch_id')\n",
    "# filter_epoch_spikes_df.groupby('replay_epoch_id')\n",
    "unique_replay_epoch_id_values # (198,)"
   ]
  },
  {
   "cell_type": "code",
   "execution_count": null,
   "id": "0ea4833d",
   "metadata": {},
   "outputs": [],
   "source": [
    "epoch_spikes_unique_aclus_list = []\n",
    "epoch_contains_any_exclusive_aclus = []\n",
    "\n",
    "for an_epoch_id, epoch_specific_spikes_df in zip(unique_replay_epoch_id_values, epoch_split_spikes_df_list):\n",
    "    # Loop through the epochs\n",
    "\t# find epochs containing at least one in `exclusive_aclus`:\n",
    "\t\n",
    "\tepoch_spikes_unique_aclus = epoch_specific_spikes_df.aclu.unique()\n",
    "\tepoch_spikes_unique_aclus_list.append(epoch_spikes_unique_aclus)\n",
    "\t# epoch_spikes_unique_aclus # finds lists of all the active aclus in the given epoch\n",
    "\tif len(epoch_spikes_unique_aclus) > 0:\t\n",
    "\t\tepoch_contains_any_exclusive_aclus.append(np.isin(epoch_spikes_unique_aclus, exclusive_aclus).any())\n",
    "\telse:\n",
    "\t\tepoch_contains_any_exclusive_aclus.append(False)\n",
    "\t# epoch_contains_any_exclusive_aclus # returns True if the epoch contains one ore more spikes from the search list `exclusive_aclus`\n",
    "\n",
    "epoch_contains_any_exclusive_aclus"
   ]
  },
  {
   "cell_type": "code",
   "execution_count": null,
   "id": "5ff4453e",
   "metadata": {},
   "outputs": [],
   "source": [
    "\n",
    "# find epochs containing at least one in `exclusive_aclus`:\n",
    "epoch_spikes_unique_aclus = [epoch_split_spikes_df.aclu.unique() for epoch_split_spikes_df in epoch_split_spikes_df_list]\n",
    "# epoch_spikes_unique_aclus # finds lists of all the active aclus in the given epoch\n",
    "epoch_contains_any_exclusive_aclus = [np.isin(epoch_aclus, exclusive_aclus).any() for epoch_aclus in epoch_spikes_unique_aclus]\n",
    "# epoch_contains_any_exclusive_aclus # returns True if the epoch contains one ore more spikes from the search list `exclusive_aclus`\n",
    "filter_epochs['contains_one_exclusive_aclu'] = epoch_contains_any_exclusive_aclus\n",
    "# epoch_contains_any_exclusive_aclus"
   ]
  },
  {
   "cell_type": "code",
   "execution_count": null,
   "id": "e3c1cf52",
   "metadata": {},
   "outputs": [],
   "source": [
    "replay_epoch_IDXs_with_exclusive_aclu = filter_epoch_spikes_df.replay_epoch_id.unique() # finds the epochs with at least one aclu from the `exclusive_aclus` list in them\n"
   ]
  },
  {
   "cell_type": "code",
   "execution_count": null,
   "id": "fc4269ae",
   "metadata": {},
   "outputs": [],
   "source": [
    "\n"
   ]
  },
  {
   "cell_type": "code",
   "execution_count": null,
   "id": "1e3890eb",
   "metadata": {},
   "outputs": [],
   "source": [
    "# first slice only to the neurons of interest:\n",
    "# filter_epoch_spikes_df\n"
   ]
  },
  {
   "cell_type": "code",
   "execution_count": null,
   "id": "b6fce367",
   "metadata": {},
   "outputs": [],
   "source": [
    "\"\"\" 24 cells, 133 Epochs, 789 Total Timebins\n",
    "# Other\n",
    "\t\n",
    "\t- is_non_firing_time_bin: numpy.ndarray - (24, 789)\n",
    "\t- all_epochs_num_epoch_time_bins: numpy.ndarray - (133,)\n",
    "\t\n",
    "    ## Indexing Helpers:\n",
    "\t\t- all_epochs_reverse_flat_epoch_indicies_array: numpy.ndarray - (789,)\n",
    "\t\t- split_by_epoch_reverse_flattened_time_bin_indicies: list - (133,)\n",
    "    \n",
    "\t- original_1D_decoder: pyphoplacecellanalysis.Analysis.Decoder.reconstruction.BasePositionDecoder\n",
    "\t\t- pf: neuropy.analyses.placefields.PfND\n",
    "\t\t- neuron_IDXs: numpy.ndarray - (24,)\n",
    "\t\t- neuron_IDs: numpy.ndarray - (24,)\n",
    "\t\t- F: numpy.ndarray - (119, 24)\n",
    "\t\t- P_x: numpy.ndarray - (119, 1)\n",
    "        \n",
    "\t- flat_all_epochs_decoded_epoch_time_bins: numpy.ndarray - (24, 789)\n",
    "\n",
    "# Measured\n",
    "\t- flat_all_epochs_measured_cell_spike_counts: numpy.ndarray - (24, 789)\n",
    "\t- flat_all_epochs_measured_cell_firing_rates: numpy.ndarray - (24, 789)\n",
    "\n",
    "\n",
    "# Expected\n",
    "\t- flat_all_epochs_computed_expected_cell_firing_rates: numpy.ndarray - (24, 789)\n",
    "\t- flat_all_epochs_difference_from_expected_cell_spike_counts: numpy.ndarray - (24, 789)\n",
    "\t- flat_all_epochs_difference_from_expected_cell_firing_rates: numpy.ndarray - (24, 789)\n",
    "    \n",
    "    \n",
    "    \n",
    "## Epoch-based\n",
    "\t- all_epochs_decoded_epoch_time_bins_mean: numpy.ndarray - (133, 24)\n",
    "\n",
    "    \n",
    "    \n",
    "    \n",
    "- flat_all_epochs_measured_cell_firing_rates: numpy.ndarray - .shape: (24, 789) \n",
    "- flat_all_epochs_computed_expected_cell_firing_rates: numpy.ndarray - .shape: (24, 789)\n",
    "\n",
    "\n",
    "\"\"\""
   ]
  },
  {
   "attachments": {},
   "cell_type": "markdown",
   "id": "2fe80559",
   "metadata": {},
   "source": [
    "# 2023-04-13 - Find Good looking epochs:"
   ]
  },
  {
   "cell_type": "code",
   "execution_count": null,
   "id": "5fa9a519",
   "metadata": {
    "tags": [
     "ACTIVE_NOW"
    ]
   },
   "outputs": [],
   "source": [
    "import matplotlib.pyplot as plt\n",
    "%matplotlib qt\n",
    "import matplotlib.patheffects as path_effects\n",
    "\n",
    "from pyphoplacecellanalysis.Pho2D.stacked_epoch_slices import DecodedEpochSlicesPaginatedFigureController\n",
    "\n",
    "curr_results_obj = long_results_obj\n",
    "active_identifying_session_ctx = curr_active_pipeline.sess.get_context()\n",
    "_out_pagination_controller = DecodedEpochSlicesPaginatedFigureController.init_from_decoder_data(curr_results_obj.active_filter_epochs, curr_results_obj.all_included_filter_epochs_decoder_result, \n",
    "\txbin=curr_results_obj.original_1D_decoder.xbin, global_pos_df=global_session.position.df, a_name='TestDecodedEpochSlicesPaginationController', active_context=active_identifying_session_ctx,  max_subplots_per_page=200) # 10\n",
    "# _out_pagination_controller"
   ]
  },
  {
   "cell_type": "code",
   "execution_count": 10,
   "id": "a498d482",
   "metadata": {},
   "outputs": [],
   "source": [
    "## Getting selections out of DecoedEpochSlicesPaginationController\n",
    "curr_active_pipeline.display_output_history_list\n",
    "# [IdentifyingContext<('kdiba', 'gor01', 'one', '2006-6-08_14-26-15', 'maze1')>,\n",
    "#  IdentifyingContext<('kdiba', 'gor01', 'one', '2006-6-08_14-26-15', 'maze')>,\n",
    "#  IdentifyingContext<('kdiba', 'gor01', 'one', '2006-6-08_14-26-15', 'BatchPhoJonathanReplayFRC', 'long_only', '[2, 8, 19, 28, 36, 54, 63, 68, 73, 74, 109]')>,\n",
    "#  IdentifyingContext<('kdiba', 'gor01', 'one', '2006-6-08_14-26-15', 'BatchPhoJonathanReplayFRC', 'short_only', '[4, 13, 21, 23, 52, 58, 67, 70, 81]')>,\n",
    "#  IdentifyingContext<('kdiba', 'gor01', 'one', '2006-6-08_14-26-15', 'BatchPhoJonathanReplayFRC', 'shared', '1of9', '[3, 5, 6, 7, 9, 10, 11, 12, 14, 15]')>,\n",
    "#  IdentifyingContext<('kdiba', 'gor01', 'one', '2006-6-08_14-26-15', 'BatchPhoJonathanReplayFRC', 'shared', '2of9', '[16, 17, 18, 20, 22, 24, 25, 26, 27, 29]')>,\n",
    "#  IdentifyingContext<('kdiba', 'gor01', 'one', '2006-6-08_14-26-15', 'BatchPhoJonathanReplayFRC', 'shared', '3of9', '[30, 31, 32, 33, 34, 35, 37, 38, 39, 40]')>,\n",
    "#  IdentifyingContext<('kdiba', 'gor01', 'one', '2006-6-08_14-26-15', 'BatchPhoJonathanReplayFRC', 'shared', '4of9', '[41, 42, 43, 44, 45, 46, 47, 48, 49, 50]')>,\n",
    "#  IdentifyingContext<('kdiba', 'gor01', 'one', '2006-6-08_14-26-15', 'BatchPhoJonathanReplayFRC', 'shared', '5of9', '[51, 53, 55, 56, 57, 59, 60, 61, 62, 64]')>,\n",
    "#  IdentifyingContext<('kdiba', 'gor01', 'one', '2006-6-08_14-26-15', 'BatchPhoJonathanReplayFRC', 'shared', '6of9', '[65, 66, 69, 71, 72, 75, 76, 77, 78, 79]')>,\n",
    "#  IdentifyingContext<('kdiba', 'gor01', 'one', '2006-6-08_14-26-15', 'BatchPhoJonathanReplayFRC', 'shared', '7of9', '[80, 82, 83, 84, 85, 86, 87, 88, 89, 90]')>,\n",
    "#  IdentifyingContext<('kdiba', 'gor01', 'one', '2006-6-08_14-26-15', 'BatchPhoJonathanReplayFRC', 'shared', '8of9', '[91, 92, 93, 94, 95, 96, 97, 98, 99, 100]')>,\n",
    "#  IdentifyingContext<('kdiba', 'gor01', 'one', '2006-6-08_14-26-15', 'BatchPhoJonathanReplayFRC', 'shared', '9of9', '[101, 102, 103, 104, 105, 106, 107, 108]')>,\n",
    "#  IdentifyingContext<('kdiba', 'gor01', 'one', '2006-6-08_14-26-15', 'maze1', '_display_1d_placefields')>,\n",
    "#  IdentifyingContext<('kdiba', 'gor01', 'one', '2006-6-08_14-26-15', 'maze2', '_display_1d_placefields')>,\n",
    "#  IdentifyingContext<('kdiba', 'gor01', 'one', '2006-6-08_14-26-15', 'maze', '_display_1d_placefields')>,\n",
    "#  IdentifyingContext<('kdiba', 'gor01', 'one', '2006-6-08_14-26-15', 'maze1', '_display_1d_placefield_validations')>,\n",
    "#  IdentifyingContext<('kdiba', 'gor01', 'one', '2006-6-08_14-26-15', 'maze2', '_display_1d_placefield_validations')>,\n",
    "#  IdentifyingContext<('kdiba', 'gor01', 'one', '2006-6-08_14-26-15', 'maze', '_display_1d_placefield_validations')>,\n",
    "#  IdentifyingContext<('kdiba', 'gor01', 'one', '2006-6-08_14-26-15', 'maze1', '_display_2d_placefield_result_plot_ratemaps_2D')>,\n",
    "#  IdentifyingContext<('kdiba', 'gor01', 'one', '2006-6-08_14-26-15', 'maze2', '_display_2d_placefield_result_plot_ratemaps_2D')>,\n",
    "#  IdentifyingContext<('kdiba', 'gor01', 'one', '2006-6-08_14-26-15', 'maze', '_display_2d_placefield_result_plot_ratemaps_2D')>,\n",
    "#  IdentifyingContext<('kdiba', 'gor01', 'one', '2006-6-08_14-26-15', 'maze1', '_display_2d_placefield_occupancy')>,\n",
    "#  IdentifyingContext<('kdiba', 'gor01', 'one', '2006-6-08_14-26-15', 'maze2', '_display_2d_placefield_occupancy')>,\n",
    "#  IdentifyingContext<('kdiba', 'gor01', 'one', '2006-6-08_14-26-15', 'maze', '_display_2d_placefield_occupancy')>,\n",
    "#  IdentifyingContext<('kdiba', 'gor01', 'one', '2006-6-08_14-26-15', '_display_short_long_firing_rate_index_comparison')>,\n",
    "#  IdentifyingContext<('kdiba', 'gor01', 'one', '2006-6-08_14-26-15', '_display_long_short_expected_v_observed_firing_rate')>,\n",
    "#  IdentifyingContext<('kdiba', 'gor01', 'one', '2006-6-08_14-26-15', '_display_grid_bin_bounds_validation')>,\n",
    "#  IdentifyingContext<('kdiba', 'gor01', 'one', '2006-6-08_14-26-15', '_display_running_and_replay_speeds_over_time')>,\n",
    "#  IdentifyingContext<('kdiba', 'gor01', 'one', '2006-6-08_14-26-15', '_display_long_short_laps')>,\n",
    "#  IdentifyingContext<('kdiba', 'gor01', 'one', '2006-6-08_14-26-15', '_display_long_and_short_firing_rate_replays_v_laps')>,\n",
    "#  IdentifyingContext<('kdiba', 'gor01', 'one', '2006-6-08_14-26-15', '_display_short_long_pf1D_comparison')>,\n",
    "#  IdentifyingContext<('kdiba', 'gor01', 'one', '2006-6-08_14-26-15', '_display_long_and_short_stacked_epoch_slices')>]\n",
    "\n",
    "# Ideally could search like: '_display_long_and_short_stacked_epoch_slices'\n",
    "active_result_backup = curr_active_pipeline.last_added_display_output"
   ]
  },
  {
   "cell_type": "code",
   "execution_count": 11,
   "id": "89f7829a",
   "metadata": {},
   "outputs": [],
   "source": [
    "list(active_result_backup.keys()) # ['name', 'context', 'figures', 'axes', 'plot_data']\n",
    "\n",
    "active_result_backup['context'] # (IdentifyingContext<('kdiba', 'gor01', 'one', '2006-6-08_14-26-15', 'DecodedEpochSlices', 'replays', 'long_results_obj')>,\n",
    "\t\t\t\t\t\t\t\t#  IdentifyingContext<('kdiba', 'gor01', 'one', '2006-6-08_14-26-15', 'DecodedEpochSlices', 'replays', 'short_results_obj')>)\n",
    "\n",
    "pagination_controllers = active_result_backup.plot_data['controllers']"
   ]
  },
  {
   "cell_type": "code",
   "execution_count": 12,
   "id": "5b91d332",
   "metadata": {},
   "outputs": [],
   "source": [
    "long_controller = pagination_controllers[0]\n",
    "short_controller = pagination_controllers[1]"
   ]
  },
  {
   "cell_type": "code",
   "execution_count": 32,
   "id": "a1e85d60",
   "metadata": {},
   "outputs": [
    {
     "data": {
      "text/plain": [
       "array([  5,  13,  15,  17,  20,  21,  24,  31,  33,  43,  44,  49,  63,\n",
       "        64,  66,  68,  70,  71,  74,  76,  77,  78,  84,  90,  94,  95,\n",
       "       104, 105, 122, 123])"
      ]
     },
     "execution_count": 32,
     "metadata": {},
     "output_type": "execute_result"
    }
   ],
   "source": [
    "long_controller.selected_indicies # array([ 13,  14,  15,  25,  27,  28,  31,  37,  42,  45,  48,  57,  61,  62,  63,  76,  79,  82,  89,  90, 111, 112, 113, 115])\n",
    "\n",
    "\n",
    "# np.array([  5,  13,  15,  17,  20,  21,  24,  31,  33,  43,  44,  49,  63, 64,  66,  68,  70,  71,  74,  76,  77,  78,  84,  90,  94,  95, 104, 105, 122, 123])"
   ]
  },
  {
   "cell_type": "code",
   "execution_count": 31,
   "id": "5030d511",
   "metadata": {},
   "outputs": [
    {
     "data": {
      "text/plain": [
       "array([ 12,  13,  15,  17,  20,  24,  30,  31,  32,  33,  41,  43,  49,\n",
       "        54,  55,  68,  70,  71,  73,  76,  77,  78,  84,  89,  94, 100,\n",
       "       104, 105, 111, 114, 115, 117, 118, 122, 123, 131])"
      ]
     },
     "execution_count": 31,
     "metadata": {},
     "output_type": "execute_result"
    }
   ],
   "source": [
    "short_controller.selected_indicies # array([  9,  11,  13,  14,  15,  20,  22,  25,  37,  40,  45,  48,  61, 62,  76,  79,  84,  89,  90,  93,  94, 111, 112, 113, 115, 121])\n",
    "\n",
    "# np.array([ 12,  13,  15,  17,  20,  24,  30,  31,  32,  33,  41,  43,  49, 54,  55,  68,  70,  71,  73,  76,  77,  78,  84,  89,  94, 100, 104, 105, 111, 114, 115, 117, 118, 122, 123, 131])"
   ]
  },
  {
   "cell_type": "code",
   "execution_count": 33,
   "id": "bd249e85",
   "metadata": {},
   "outputs": [],
   "source": [
    "assert long_controller.is_selected.shape[0] == long_results_obj.active_filter_epochs.n_epochs\n",
    "assert short_controller.is_selected.shape[0] == short_results_obj.active_filter_epochs.n_epochs\n",
    "# for some reason the active_filter_epochs on both the long and the short objects contain properties about the other one as well, so keep with tradition and add them to both as well\n",
    "long_results_obj.active_filter_epochs._df['long_is_user_included'] = long_controller.is_selected\n",
    "long_results_obj.active_filter_epochs._df['short_is_user_included'] = short_controller.is_selected\n",
    "short_results_obj.active_filter_epochs._df['long_is_user_included'] = long_controller.is_selected\n",
    "short_results_obj.active_filter_epochs._df['short_is_user_included'] = short_controller.is_selected"
   ]
  },
  {
   "cell_type": "code",
   "execution_count": null,
   "id": "63103161",
   "metadata": {},
   "outputs": [],
   "source": [
    "long_controller.is_selected, long_controller.selected_indicies, long_controller.plots_data.epoch_slices, long_controller.params.flat_all_data_indicies"
   ]
  },
  {
   "cell_type": "code",
   "execution_count": 21,
   "id": "636184b2",
   "metadata": {},
   "outputs": [
    {
     "name": "stdout",
     "output_type": "stream",
     "text": [
      "['name', 'window_title', 'num_slices', '_debug_test_max_num_slices', 'active_num_slices', 'global_epoch_start_t', 'global_epoch_end_t', 'single_plot_fixed_height', 'all_plots_height', 'epoch_labels', 'variable_name', 'xbin', 'enable_flat_line_drawing', 'debug_print', 'active_identifying_figure_ctx', 'flat_all_data_indicies', 'is_selected', 'callback_id', 'on_render_page_callbacks']\n"
     ]
    }
   ],
   "source": [
    "print(list(long_controller.params.keys())) # ['name', 'window_title', 'num_slices', '_debug_test_max_num_slices', 'active_num_slices', 'global_epoch_start_t', 'global_epoch_end_t', 'single_plot_fixed_height', 'all_plots_height', 'epoch_labels', 'variable_name', 'xbin', 'enable_flat_line_drawing', 'debug_print', 'active_identifying_figure_ctx', 'flat_all_data_indicies', 'is_selected', 'callback_id', 'on_render_page_callbacks']\n",
    "\n"
   ]
  },
  {
   "cell_type": "code",
   "execution_count": 23,
   "id": "f0924dda",
   "metadata": {},
   "outputs": [
    {
     "ename": "TypeError",
     "evalue": "adding_context() missing 1 required positional argument: 'collision_prefix'",
     "output_type": "error",
     "traceback": [
      "\u001b[1;31m---------------------------------------------------------------------------\u001b[0m",
      "\u001b[1;31mTypeError\u001b[0m                                 Traceback (most recent call last)",
      "Cell \u001b[1;32mIn[23], line 1\u001b[0m\n\u001b[1;32m----> 1\u001b[0m long_controller\u001b[39m.\u001b[39;49mparams\u001b[39m.\u001b[39;49mactive_identifying_figure_ctx\u001b[39m.\u001b[39;49madding_context(user_annotation\u001b[39m=\u001b[39;49m\u001b[39m\"\u001b[39;49m\u001b[39mselections\u001b[39;49m\u001b[39m\"\u001b[39;49m)\n",
      "\u001b[1;31mTypeError\u001b[0m: adding_context() missing 1 required positional argument: 'collision_prefix'"
     ]
    },
    {
     "name": "stdout",
     "output_type": "stream",
     "text": [
      "on_selected_epochs_changed(...)\n",
      "current_page_idx = 0, found_data_index =111\n",
      "\tselection_indicies: [ 12  13  15  17  20  24  30  31  32  33  41  43  49  54  55  68  70  71\n",
      "  73  76  77  78  84  89  94 100 104 105 111]\n",
      "on_selected_epochs_changed(...)\n",
      "current_page_idx = 0, found_data_index =68\n",
      "\tselection_indicies: [ 5 13 15 17 20 21 24 31 33 43 44 49 66 68 70 71]\n",
      "on_selected_epochs_changed(...)\n",
      "current_page_idx = 0, found_data_index =63\n",
      "\tselection_indicies: [ 5 13 15 17 20 21 24 31 33 43 44 49 63 66 68 70 71]\n",
      "on_selected_epochs_changed(...)\n",
      "current_page_idx = 0, found_data_index =64\n",
      "\tselection_indicies: [ 5 13 15 17 20 21 24 31 33 43 44 49 63 64 66 68 70 71]\n"
     ]
    }
   ],
   "source": [
    "long_controller.params.active_identifying_figure_ctx.adding_context(user_annotation=\"selections\")"
   ]
  },
  {
   "cell_type": "code",
   "execution_count": 16,
   "id": "f31d5dc6",
   "metadata": {},
   "outputs": [
    {
     "data": {
      "text/plain": [
       "array([[ 292.62367098,  292.80826736],\n",
       "       [ 528.48329294,  528.68561475],\n",
       "       [ 572.24842637,  572.44236163],\n",
       "       [ 677.99306343,  678.25522777],\n",
       "       [ 802.91157867,  803.11436129],\n",
       "       [ 831.70962856,  831.90743454],\n",
       "       [ 888.22678107,  888.46492239],\n",
       "       [ 945.48035303,  945.68543965],\n",
       "       [ 954.00517939,  954.2546871 ],\n",
       "       [1033.05203044, 1033.22639707],\n",
       "       [1061.35727035, 1061.5943979 ],\n",
       "       [1214.61082388, 1214.834834  ],\n",
       "       [1722.78022002, 1722.95406441],\n",
       "       [1741.58530479, 1741.79413924],\n",
       "       [1743.25171034, 1743.53445707]])"
      ]
     },
     "execution_count": 16,
     "metadata": {},
     "output_type": "execute_result"
    }
   ],
   "source": [
    "long_controller.selected_epoch_times"
   ]
  },
  {
   "cell_type": "code",
   "execution_count": 17,
   "id": "9387d85b",
   "metadata": {},
   "outputs": [
    {
     "data": {
      "text/plain": [
       "array([[ 489.42507549,  489.65575186],\n",
       "       [ 528.48329294,  528.68561475],\n",
       "       [ 572.24842637,  572.44236163],\n",
       "       [ 677.99306343,  678.25522777],\n",
       "       [ 802.91157867,  803.11436129],\n",
       "       [ 888.22678107,  888.46492239],\n",
       "       [ 931.21227202,  931.45262518],\n",
       "       [ 945.48035303,  945.68543965],\n",
       "       [ 950.18327543,  950.44046313],\n",
       "       [ 954.00517939,  954.2546871 ],\n",
       "       [1024.83173129, 1025.10320379],\n",
       "       [1033.05203044, 1033.22639707],\n",
       "       [1214.61082388, 1214.834834  ],\n",
       "       [1326.54476977, 1326.76506278],\n",
       "       [1329.84606216, 1330.0684134 ],\n",
       "       [1732.09310613, 1732.29060491],\n",
       "       [1741.58530479, 1741.79413924],\n",
       "       [1743.25171034, 1743.53445707],\n",
       "       [1751.03108555, 1751.22059714],\n",
       "       [1769.90424581, 1770.10497019],\n",
       "       [1776.56793264, 1776.78871716],\n",
       "       [1871.00426701, 1871.21629634],\n",
       "       [1917.09385877, 1917.2703758 ],\n",
       "       [1994.07242543, 1994.2525367 ],\n",
       "       [2038.53127755, 2038.70899266],\n",
       "       [2064.36693792, 2064.54016792],\n",
       "       [2111.52742834, 2111.80120484],\n",
       "       [2125.54830564, 2125.73772506]])"
      ]
     },
     "execution_count": 17,
     "metadata": {},
     "output_type": "execute_result"
    }
   ],
   "source": [
    "short_controller.selected_epoch_times"
   ]
  },
  {
   "cell_type": "code",
   "execution_count": 18,
   "id": "ab793819",
   "metadata": {},
   "outputs": [
    {
     "data": {
      "text/plain": [
       "133"
      ]
     },
     "execution_count": 18,
     "metadata": {},
     "output_type": "execute_result"
    }
   ],
   "source": [
    "long_results_obj.active_filter_epochs.n_epochs # 122"
   ]
  },
  {
   "cell_type": "code",
   "execution_count": null,
   "id": "9d792f78",
   "metadata": {},
   "outputs": [],
   "source": []
  },
  {
   "attachments": {},
   "cell_type": "markdown",
   "id": "eacd1d90",
   "metadata": {},
   "source": [
    "# TODO 2023-06-19 14:31: - [ ] Come up with system for storing user-annotations:\n",
    " Need to store user-annotations and labeled selections for Epochs:\n",
    "\n",
    "\tdate_annotated: datetime - the date the annotations were made\n",
    "\tannotation_author: str - the person who made the annotations\n",
    "\tannotation_content: Any - the content of the annotation\n",
    "\n"
   ]
  },
  {
   "cell_type": "code",
   "execution_count": null,
   "id": "fdf36a14",
   "metadata": {},
   "outputs": [],
   "source": [
    "# All epochs are shown for both decoders. So the result should be an epochs table with separate columns for the inclusion in each decoder.\n",
    "\n",
    "\n"
   ]
  },
  {
   "attachments": {},
   "cell_type": "markdown",
   "id": "e0409e08",
   "metadata": {},
   "source": [
    "# Other Programmatic Figures"
   ]
  },
  {
   "cell_type": "code",
   "execution_count": null,
   "id": "7608078a",
   "metadata": {},
   "outputs": [],
   "source": [
    "curr_active_pipeline.reload_default_display_functions()"
   ]
  },
  {
   "cell_type": "code",
   "execution_count": null,
   "id": "fe831b56",
   "metadata": {
    "tags": [
     "ACTIVE"
    ]
   },
   "outputs": [],
   "source": [
    "from pyphoplacecellanalysis.General.Mixins.CrossComputationComparisonHelpers import _find_any_context_neurons\n",
    "\n",
    "## Builds proper sort indicies for '_display_short_long_pf1D_comparison'\n",
    "long_ratemap = long_pf1D.ratemap\n",
    "short_ratemap = short_pf1D.ratemap\n",
    "\n",
    "curr_any_context_neurons = _find_any_context_neurons(*[k.neuron_ids for k in [long_ratemap, short_ratemap]])\n",
    "curr_any_context_neurons"
   ]
  },
  {
   "cell_type": "code",
   "execution_count": null,
   "id": "402834bd",
   "metadata": {},
   "outputs": [],
   "source": [
    "from neuropy.plotting.ratemaps import plot_ratemap_1D\n",
    "from pyphoplacecellanalysis.General.Pipeline.Stages.DisplayFunctions.MultiContextComparingDisplayFunctions.LongShortTrackComparingDisplayFunctions import plot_short_v_long_pf1D_comparison, LongShortTrackComparingDisplayFunctions\n",
    "\n",
    "curr_active_pipeline.reload_default_display_functions()\n",
    "\n",
    "%matplotlib qt\n",
    "active_identifying_session_ctx = curr_active_pipeline.sess.get_context() # 'bapun_RatN_Day4_2019-10-15_11-30-06'\n",
    "\n",
    "long_single_cell_pfmap_processing_fn = None\n",
    "short_single_cell_pfmap_processing_fn = None\n",
    "# sort_idx = None\n",
    "# sort_idx = sort_ind\n",
    "# sort_idx = sort_indicies\n",
    "# sort_idx = new_all_aclus_sort_indicies\n",
    "sort_idx = 'peak_long'\n",
    "# sort_idx = 'bad'\n",
    "\n",
    "# out = curr_active_pipeline.display('_display_short_long_pf1D_comparison', active_identifying_session_ctx, single_figure=False, debug_print=True, fignum='Short v Long pf1D Comparison',\n",
    "#                                    long_kwargs={'included_unit_neuron_IDs': curr_any_context_neurons, 'included_unit_indicies': None, 'sortby': sort_idx, 'single_cell_pfmap_processing_fn': long_single_cell_pfmap_processing_fn},\n",
    "#                                    short_kwargs={'included_unit_neuron_IDs': curr_any_context_neurons, 'included_unit_indicies': None,'sortby': sort_idx, 'single_cell_pfmap_processing_fn': short_single_cell_pfmap_processing_fn, 'curve_hatch_style': {'hatch':'///', 'edgecolor':'k'}},\n",
    "#                                   )\n",
    "\n",
    "out = curr_active_pipeline.display('_display_short_long_pf1D_comparison', active_identifying_session_ctx, single_figure=False, debug_print=False, fignum='Short v Long pf1D Comparison',\n",
    "                                   long_kwargs={'sortby': sort_idx, 'single_cell_pfmap_processing_fn': long_single_cell_pfmap_processing_fn},\n",
    "                                   short_kwargs={'sortby': sort_idx, 'single_cell_pfmap_processing_fn': short_single_cell_pfmap_processing_fn, 'curve_hatch_style': {'hatch':'///', 'edgecolor':'k'}},\n",
    "                                  )\n",
    "                                  \n",
    "\n",
    "# ax = out.axes[0]"
   ]
  },
  {
   "cell_type": "code",
   "execution_count": null,
   "id": "5653100d",
   "metadata": {},
   "outputs": [],
   "source": [
    "curr_active_pipeline.display('_display_short_long_pf1D_comparison', single_figure=False)"
   ]
  },
  {
   "attachments": {},
   "cell_type": "markdown",
   "id": "d1906e5a",
   "metadata": {},
   "source": [
    "# 2023-06-01 - Testing new metrics:"
   ]
  },
  {
   "cell_type": "code",
   "execution_count": null,
   "id": "ee3fb2f6",
   "metadata": {},
   "outputs": [],
   "source": [
    "\n",
    "curr_long_short_post_decoding = curr_active_pipeline.global_computation_results.computed_data['long_short_post_decoding']\n",
    "## Extract variables from results object:\n",
    "expected_v_observed_result, curr_long_short_rr = curr_long_short_post_decoding.expected_v_observed_result, curr_long_short_post_decoding.rate_remapping\n",
    "rate_remapping_df, high_remapping_cells_only = curr_long_short_rr.rr_df, curr_long_short_rr.high_only_rr_df\n",
    "Flat_epoch_time_bins_mean, Flat_decoder_time_bin_centers, num_neurons, num_timebins_in_epoch, num_total_flat_timebins, is_short_track_epoch, is_long_track_epoch, short_short_diff, long_long_diff = expected_v_observed_result['Flat_epoch_time_bins_mean'], expected_v_observed_result['Flat_decoder_time_bin_centers'], expected_v_observed_result['num_neurons'], expected_v_observed_result['num_timebins_in_epoch'], expected_v_observed_result['num_total_flat_timebins'], expected_v_observed_result['is_short_track_epoch'], expected_v_observed_result['is_long_track_epoch'], expected_v_observed_result['short_short_diff'], expected_v_observed_result['long_long_diff']\n",
    "\n",
    "print(f'long_test: {np.mean(long_long_diff)}')\n",
    "print(f'short_test: {np.mean(short_short_diff)}')"
   ]
  },
  {
   "cell_type": "code",
   "execution_count": null,
   "id": "9deb6292",
   "metadata": {},
   "outputs": [],
   "source": [
    "long_session.replay"
   ]
  },
  {
   "cell_type": "code",
   "execution_count": null,
   "id": "9e65f403",
   "metadata": {},
   "outputs": [],
   "source": [
    "# long_results_obj.original_1D_decoder\n",
    "replay_result_df = deepcopy(long_results_obj.active_filter_epochs.to_dataframe())\n",
    "replay_result_df"
   ]
  },
  {
   "cell_type": "code",
   "execution_count": null,
   "id": "f67e3b6d",
   "metadata": {},
   "outputs": [],
   "source": [
    "short_results_obj.active_filter_epochs.to_dataframe()"
   ]
  },
  {
   "cell_type": "code",
   "execution_count": null,
   "id": "59838cd9",
   "metadata": {},
   "outputs": [],
   "source": [
    "# Look at lap speed over time - doesn't look like there's a difference between the long and the short track speeds\n",
    "global_session.position.compute_higher_order_derivatives()\n",
    "running_pos_df = global_session.position.to_dataframe()\n",
    "ax = running_pos_df.plot(x='t', y=['lin_pos','speed'], title='Running Speed over Time')\n",
    "ax"
   ]
  },
  {
   "cell_type": "code",
   "execution_count": null,
   "id": "627282a9",
   "metadata": {},
   "outputs": [],
   "source": [
    "# Call the function\n",
    "fig, ax = plot_lines(replay_result_df)"
   ]
  },
  {
   "cell_type": "code",
   "execution_count": null,
   "id": "2080baef",
   "metadata": {},
   "outputs": [],
   "source": [
    "import matplotlib\n",
    "%matplotlib qt\n",
    "\n",
    "curr_active_pipeline.reload_default_display_functions()\n",
    "out_man = curr_active_pipeline.get_output_manager()\n",
    "out_man.get_figure_output_path\n",
    "curr_active_pipeline.write_figure_to_output_path\n",
    "\n"
   ]
  },
  {
   "cell_type": "code",
   "execution_count": null,
   "id": "a2ea2bed",
   "metadata": {},
   "outputs": [],
   "source": [
    "_out = curr_active_pipeline.display('_display_grid_bin_bounds_validation')\n",
    "# _display_running_and_replay_speeds_over_time\n"
   ]
  },
  {
   "attachments": {},
   "cell_type": "markdown",
   "id": "39e5020d",
   "metadata": {},
   "source": [
    "# 2023-06-13 11:01: - [ ] New display function testing"
   ]
  },
  {
   "cell_type": "code",
   "execution_count": null,
   "id": "f6008da8",
   "metadata": {},
   "outputs": [],
   "source": [
    "import matplotlib as mpl\n",
    "# from pyphoplacecellanalysis.General.Mixins.ExportHelpers import create_daily_programmatic_display_function_testing_folder_if_needed, session_context_to_relative_path, programmatic_display_to_PDF\n",
    "# from pyphoplacecellanalysis.General.Mixins.ExportHelpers import build_pdf_metadata_from_display_context # newer version of build_pdf_export_metadata\n",
    "from neuropy.core.neuron_identities import PlotStringBrevityModeEnum\n",
    "from neuropy.plotting.ratemaps import BackgroundRenderingOptions\n",
    "_bak_rcParams = mpl.rcParams.copy()\n",
    "# mpl.rcParams['toolbar'] = 'None' # disable toolbars\n",
    "# matplotlib.use('AGG') # non-interactive backend ## 2022-08-16 - Surprisingly this works to make the matplotlib figures render only to .png file, not appear on the screen!\n",
    "\n",
    "%matplotlib qt\n",
    "\n",
    "from pyphoplacecellanalysis.General.Mixins.ExportHelpers import programmatic_render_to_file"
   ]
  },
  {
   "cell_type": "code",
   "execution_count": null,
   "id": "808f47ba",
   "metadata": {},
   "outputs": [],
   "source": [
    "curr_active_pipeline.reload_default_display_functions()\n"
   ]
  },
  {
   "cell_type": "code",
   "execution_count": null,
   "id": "be73cef7",
   "metadata": {},
   "outputs": [],
   "source": [
    "from pyphoplacecellanalysis.Pho2D.matplotlib.visualize_heatmap import visualize_heatmap, visualize_heatmap_pyqtgraph # used in `plot_kourosh_activity_style_figure`\n",
    "from pyphoplacecellanalysis.General.Pipeline.Stages.DisplayFunctions.SpikeRasters import plot_raster_plot # used in `plot_kourosh_activity_style_figure`\n",
    "import pyphoplacecellanalysis.External.pyqtgraph as pg # used in `plot_kourosh_activity_style_figure`\n",
    "\n",
    "heatmap_pf1D_win, heatmap_pf1D_img = visualize_heatmap_pyqtgraph(long_pf1D.ratemap.normalized_tuning_curves, title=f\"pf1D Visualization\")\n",
    "# Apply the colormap\n",
    "# heatmap_pf1D_img.setLookupTable(lut)\n",
    "heatmap_pf1D_win.show()"
   ]
  },
  {
   "cell_type": "code",
   "execution_count": null,
   "id": "e9175b1b",
   "metadata": {},
   "outputs": [],
   "source": []
  },
  {
   "cell_type": "code",
   "execution_count": null,
   "id": "6d395262",
   "metadata": {},
   "outputs": [],
   "source": []
  },
  {
   "cell_type": "code",
   "execution_count": null,
   "id": "7dbecb66",
   "metadata": {},
   "outputs": [],
   "source": [
    "from pyphoplacecellanalysis.General.Mixins.CrossComputationComparisonHelpers import _find_any_context_neurons\n",
    "from pyphoplacecellanalysis.General.Pipeline.Stages.DisplayFunctions.SpikeRasters import _prepare_spikes_df_from_filter_epochs\n",
    "\n",
    "long_ratemap = long_pf1D.ratemap\n",
    "short_ratemap = short_pf1D.ratemap\n",
    "curr_any_context_neurons = _find_any_context_neurons(*[k.neuron_ids for k in [long_ratemap, short_ratemap]])\n",
    "\n",
    "filter_epochs = deepcopy(long_replays)\n",
    "\n",
    "filter_epoch_spikes_df = _prepare_spikes_df_from_filter_epochs(long_session.spikes_df, filter_epochs=filter_epochs, included_neuron_ids=curr_any_context_neurons, epoch_id_key_name='replay_epoch_id', debug_print=False) # replay_epoch_id\n",
    "filter_epoch_spikes_df"
   ]
  },
  {
   "cell_type": "code",
   "execution_count": null,
   "id": "68c501a5",
   "metadata": {},
   "outputs": [],
   "source": [
    "from pyphocorehelpers.indexing_helpers import partition\n",
    "\n",
    "unique_replay_epoch_id_values, epoch_split_spikes_df_list = partition(filter_epoch_spikes_df, 'replay_epoch_id')\n",
    "# filter_epoch_spikes_df.groupby('replay_epoch_id')\n",
    "unique_replay_epoch_id_values # (198,)"
   ]
  },
  {
   "cell_type": "code",
   "execution_count": null,
   "id": "019006c8",
   "metadata": {},
   "outputs": [],
   "source": [
    "len(epoch_split_spikes_df_list)"
   ]
  },
  {
   "cell_type": "code",
   "execution_count": null,
   "id": "16e5900c",
   "metadata": {},
   "outputs": [],
   "source": [
    "len(epoch_spikes_unique_aclus)\n",
    "len(epoch_contains_any_exclusive_aclus)\n",
    "len(filter_epochs)"
   ]
  },
  {
   "cell_type": "code",
   "execution_count": null,
   "id": "6ee780c0",
   "metadata": {},
   "outputs": [],
   "source": [
    "# find epochs containing at least one in `exclusive_aclus`:\n",
    "epoch_spikes_unique_aclus = [epoch_split_spikes_df.aclu.unique() for epoch_split_spikes_df in epoch_split_spikes_df_list]\n",
    "# epoch_spikes_unique_aclus # finds lists of all the active aclus in the given epoch\n",
    "epoch_contains_any_exclusive_aclus = [np.isin(epoch_aclus, exclusive_aclus).any() for epoch_aclus in epoch_spikes_unique_aclus]\n",
    "# epoch_contains_any_exclusive_aclus # returns True if the epoch contains one ore more spikes from the search list `exclusive_aclus`\n",
    "filter_epochs['contains_one_exclusive_aclu'] = epoch_contains_any_exclusive_aclus\n",
    "# epoch_contains_any_exclusive_aclus"
   ]
  },
  {
   "cell_type": "code",
   "execution_count": null,
   "id": "e5c36ed0",
   "metadata": {},
   "outputs": [],
   "source": []
  },
  {
   "cell_type": "code",
   "execution_count": null,
   "id": "4df49394",
   "metadata": {},
   "outputs": [],
   "source": [
    "from pyphoplacecellanalysis.General.Pipeline.Stages.DisplayFunctions.SpikeRasters import plot_multiple_raster_plot\n",
    "\n",
    "app, win, plots, plots_data = plot_multiple_raster_plot(filter_epochs_df, filter_epoch_spikes_df, included_neuron_ids=shared_aclus, epoch_id_key_name='replay_epoch_id', scatter_app_name=\"Pho Stacked Replays\")"
   ]
  },
  {
   "cell_type": "code",
   "execution_count": null,
   "id": "6039bb0f",
   "metadata": {},
   "outputs": [],
   "source": []
  }
 ],
 "metadata": {
  "kernelspec": {
   "display_name": "Python 3 (ipykernel)",
   "language": "python",
   "name": "python3"
  },
  "language_info": {
   "codemirror_mode": {
    "name": "ipython",
    "version": 3
   },
   "file_extension": ".py",
   "mimetype": "text/x-python",
   "name": "python",
   "nbconvert_exporter": "python",
   "pygments_lexer": "ipython3",
   "version": "3.9.13"
  },
  "toc-showmarkdowntxt": false,
  "toc-showtags": false
 },
 "nbformat": 4,
 "nbformat_minor": 5
}
