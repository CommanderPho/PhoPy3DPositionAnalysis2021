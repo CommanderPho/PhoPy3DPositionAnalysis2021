{
 "cells": [
  {
   "cell_type": "code",
   "execution_count": 1,
   "id": "0056bc66-7629-4ef7-8c87-f28f8fcd9dc8",
   "metadata": {
    "autorun": true,
    "tags": [
     "imports",
     "REQUIRED",
     "ACTIVE"
    ]
   },
   "outputs": [
    {
     "name": "stdout",
     "output_type": "stream",
     "text": [
      "Automatic pdb calling has been turned OFF\n",
      "build_module_logger(module_name=\"Spike3D.pipeline\"):\n",
      "\t Module logger com.PhoHale.Spike3D.pipeline has file logging enabled and will log to EXTERNAL\\TESTING\\Logging\\debug_com.PhoHale.Spike3D.pipeline.log\n"
     ]
    }
   ],
   "source": [
    "%config IPCompleter.use_jedi = False\n",
    "%pdb off\n",
    "# %load_ext viztracer\n",
    "# from viztracer import VizTracer\n",
    "%load_ext autoreload\n",
    "%autoreload 3\n",
    "import sys\n",
    "from pathlib import Path\n",
    "import neptune # for logging progress and results\n",
    "from pyphoplacecellanalysis.General.Batch.NeptuneAiHelpers import set_environment_variables, neptune_output_figures\n",
    "neptune_kwargs = {'project':\"commander.pho/PhoDibaLongShort2023\",\n",
    "'api_token':\"eyJhcGlfYWRkcmVzcyI6Imh0dHBzOi8vYXBwLm5lcHR1bmUuYWkiLCJhcGlfdXJsIjoiaHR0cHM6Ly9hcHAubmVwdHVuZS5haSIsImFwaV9rZXkiOiIxOGIxODU2My1lZTNhLTQ2ZWMtOTkzNS02ZTRmNzM5YmNjNjIifQ==\"}\n",
    "\n",
    "# required to enable non-blocking interaction:\n",
    "%gui qt5\n",
    "\n",
    "from copy import deepcopy\n",
    "from numba import jit\n",
    "import numpy as np\n",
    "import pandas as pd\n",
    "from attrs import define, field, fields, Factory\n",
    "\n",
    "# Pho's Formatting Preferences\n",
    "# from pyphocorehelpers.preferences_helpers import set_pho_preferences, set_pho_preferences_concise, set_pho_preferences_verbose\n",
    "# set_pho_preferences_concise()\n",
    "\n",
    "## Pho's Custom Libraries:\n",
    "from pyphocorehelpers.general_helpers import CodeConversion\n",
    "from pyphocorehelpers.function_helpers import function_attributes\n",
    "from pyphocorehelpers.print_helpers import print_keys_if_possible, print_value_overview_only, document_active_variables, objsize, print_object_memory_usage, debug_dump_object_member_shapes, TypePrintMode\n",
    "from pyphocorehelpers.print_helpers import get_now_day_str, get_now_time_str, get_now_time_precise_str\n",
    "from pyphocorehelpers.programming_helpers import IPythonHelpers\n",
    "from pyphocorehelpers.Filesystem.path_helpers import find_first_extant_path\n",
    "from pyphocorehelpers.Filesystem.open_in_system_file_manager import reveal_in_system_file_manager\n",
    "\n",
    "# NeuroPy (Diba Lab Python Repo) Loading\n",
    "# from neuropy import core\n",
    "from neuropy.analyses.placefields import PlacefieldComputationParameters\n",
    "from neuropy.core.epoch import NamedTimerange, Epoch\n",
    "from neuropy.core.ratemap import Ratemap\n",
    "from neuropy.core.session.Formats.BaseDataSessionFormats import DataSessionFormatRegistryHolder\n",
    "from neuropy.core.session.Formats.Specific.BapunDataSessionFormat import BapunDataSessionFormatRegisteredClass\n",
    "from neuropy.core.session.Formats.Specific.KDibaOldDataSessionFormat import KDibaOldDataSessionFormatRegisteredClass\n",
    "from neuropy.core.session.Formats.Specific.RachelDataSessionFormat import RachelDataSessionFormat\n",
    "from neuropy.core.session.Formats.Specific.HiroDataSessionFormat import HiroDataSessionFormatRegisteredClass\n",
    "\n",
    "## For computation parameters:\n",
    "from neuropy.analyses.placefields import PlacefieldComputationParameters\n",
    "from neuropy.utils.dynamic_container import DynamicContainer\n",
    "from neuropy.utils.result_context import IdentifyingContext\n",
    "from neuropy.core.session.Formats.BaseDataSessionFormats import find_local_session_paths\n",
    "from neuropy.core.neurons import NeuronType\n",
    "\n",
    "from pyphocorehelpers.print_helpers import generate_html_string\n",
    "\n",
    "# pyPhoPlaceCellAnalysis:\n",
    "from pyphoplacecellanalysis.General.Pipeline.NeuropyPipeline import NeuropyPipeline # get_neuron_identities\n",
    "from pyphoplacecellanalysis.General.Mixins.ExportHelpers import export_pyqtgraph_plot, create_daily_programmatic_display_function_testing_folder_if_needed, session_context_to_relative_path\n",
    "from pyphoplacecellanalysis.General.Batch.NonInteractiveProcessing import batch_load_session, batch_extended_computations, SessionBatchProgress, batch_programmatic_figures, batch_extended_programmatic_figures\n",
    "from pyphoplacecellanalysis.General.Pipeline.NeuropyPipeline import PipelineSavingScheme\n",
    "from pyphoplacecellanalysis.Pho2D.matplotlib.visualize_heatmap import visualize_heatmap\n",
    "from pyphoplacecellanalysis.Pho2D.PyQtPlots.Extensions.pyqtgraph_helpers import build_pyqtgraph_epoch_indicator_regions # Add session indicators to pyqtgraph plot\n",
    "from pyphoplacecellanalysis.General.Pipeline.Stages.DisplayFunctions.MultiContextComparingDisplayFunctions.LongShortTrackComparingDisplayFunctions import _helper_add_long_short_session_indicator_regions\n",
    "import pyphoplacecellanalysis.External.pyqtgraph as pg\n",
    "# 'time_bin_indices': valid_time_bin_indicies, 'posterior_to_pf_mean_surprise': one_left_out_posterior_to_pf_surprises_mean, 'posterior_to_scrambled_pf_mean_surprise': one_left_out_posterior_to_scrambled_pf_surprises_mean}\n",
    "from pyphoplacecellanalysis.General.Pipeline.Stages.DisplayFunctions.MultiContextComparingDisplayFunctions.LongShortTrackComparingDisplayFunctions import plot_long_short_expected_vs_observed_firing_rates\n",
    "from pyphoplacecellanalysis.General.Pipeline.Stages.DisplayFunctions.MultiContextComparingDisplayFunctions.LongShortTrackComparingDisplayFunctions import plot_long_short_surprise_difference_plot\n",
    "\n",
    "from pyphoplacecellanalysis.General.Batch.NonInteractiveProcessing import _update_pipeline_missing_preprocessing_parameters\n",
    "from pyphoplacecellanalysis.General.Batch.NonInteractiveProcessing import batch_perform_all_plots\n",
    "from pyphoplacecellanalysis.General.Pipeline.Stages.ComputationFunctions.MultiContextComputationFunctions.LongShortTrackComputations import JonathanFiringRateAnalysisResult\n",
    "from pyphoplacecellanalysis.General.Mixins.CrossComputationComparisonHelpers import _find_any_context_neurons\n",
    "\n",
    "from scripts.run_BatchAnalysis import post_compute_validate, _on_complete_success_execution_session\n",
    "\n",
    "session_batch_status = {}\n",
    "session_batch_errors = {}\n",
    "enable_saving_to_disk = False\n",
    "\n",
    "global_data_root_parent_path = find_first_extant_path([Path(r'W:\\Data'), Path(r'/media/MAX/Data'), Path(r'/Volumes/MoverNew/data'), Path(r'/home/halechr/turbo/Data')])\n",
    "assert global_data_root_parent_path.exists(), f\"global_data_root_parent_path: {global_data_root_parent_path} does not exist! Is the right computer's config commented out above?\""
   ]
  },
  {
   "attachments": {},
   "cell_type": "markdown",
   "id": "a1538e2a-4e39-4d11-90b5-a9fef9258058",
   "metadata": {
    "tags": [
     "REQUIRED",
     "ACTIVE"
    ]
   },
   "source": [
    "# Load Pipeline"
   ]
  },
  {
   "cell_type": "code",
   "execution_count": 2,
   "id": "f917bad9-8fe7-4882-b83b-71cf878fffd2",
   "metadata": {
    "tags": [
     "load",
     "REQUIRED"
    ]
   },
   "outputs": [],
   "source": [
    "# ==================================================================================================================== #\n",
    "# Load Data                                                                                                            #\n",
    "# ==================================================================================================================== #\n",
    "\n",
    "active_data_mode_name = 'kdiba'\n",
    "\n",
    "## Data must be pre-processed using the MATLAB script located here: \n",
    "#     neuropy/data_session_pre_processing_scripts/KDIBA/IIDataMat_Export_ToPython_2022_08_01.m\n",
    "# From pre-computed .mat files:\n",
    "\n",
    "local_session_root_parent_context = IdentifyingContext(format_name=active_data_mode_name) # , animal_name='', configuration_name='one', session_name=self.session_name\n",
    "local_session_root_parent_path = global_data_root_parent_path.joinpath('KDIBA')\n",
    "\n",
    "good_contexts_list = [\n",
    "    IdentifyingContext(format_name='kdiba',animal='gor01',exper_name='one',session_name='2006-6-08_14-26-15'),\n",
    "    IdentifyingContext(format_name='kdiba',animal='gor01',exper_name='one',session_name='2006-6-09_1-22-43'),\n",
    "    IdentifyingContext(format_name='kdiba',animal='gor01',exper_name='one',session_name='2006-6-12_15-55-31'),\n",
    "    IdentifyingContext(format_name='kdiba',animal='gor01',exper_name='one',session_name='2006-6-13_14-42-6'),\n",
    "    IdentifyingContext(format_name='kdiba',animal='gor01',exper_name='two',session_name='2006-6-07_16-40-19'),\n",
    "    IdentifyingContext(format_name='kdiba',animal='gor01',exper_name='two',session_name='2006-6-08_21-16-25'),\n",
    "    IdentifyingContext(format_name='kdiba',animal='gor01',exper_name='two',session_name='2006-6-09_22-24-40'),\n",
    "    IdentifyingContext(format_name='kdiba',animal='gor01',exper_name='two',session_name='2006-6-12_16-53-46'),\n",
    "    IdentifyingContext(format_name='kdiba',animal='gor01',exper_name='two',session_name='2006-6-13_15-22-3'),\n",
    "    IdentifyingContext(format_name='kdiba',animal='vvp01',exper_name='one',session_name='2006-4-09_17-29-30'),\n",
    "    IdentifyingContext(format_name='kdiba',animal='vvp01',exper_name='one',session_name='2006-4-10_12-25-50'),\n",
    "    IdentifyingContext(format_name='kdiba',animal='vvp01',exper_name='one',session_name='2006-4-19_13-34-40'),\n",
    "    IdentifyingContext(format_name='kdiba',animal='vvp01',exper_name='two',session_name='2006-4-09_16-40-54'),\n",
    "    IdentifyingContext(format_name='kdiba',animal='vvp01',exper_name='two',session_name='2006-4-10_12-58-3'),\n",
    "    IdentifyingContext(format_name='kdiba',animal='vvp01',exper_name='two',session_name='2006-4-12_15-25-59'),\n",
    "    IdentifyingContext(format_name='kdiba',animal='vvp01',exper_name='two',session_name='2006-4-16_18-47-52'),\n",
    "    IdentifyingContext(format_name='kdiba',animal='vvp01',exper_name='two',session_name='2006-4-17_12-52-15'),\n",
    "    IdentifyingContext(format_name='kdiba',animal='vvp01',exper_name='two',session_name='2006-4-25_13-20-55'),\n",
    "    IdentifyingContext(format_name='kdiba',animal='vvp01',exper_name='two',session_name='2006-4-28_12-38-13'),\n",
    "    IdentifyingContext(format_name='kdiba',animal='pin01',exper_name='one',session_name='11-02_17-46-44'),\n",
    "    IdentifyingContext(format_name='kdiba',animal='pin01',exper_name='one',session_name='11-02_19-28-0'),\n",
    "    IdentifyingContext(format_name='kdiba',animal='pin01',exper_name='one',session_name='11-03_12-3-25'),\n",
    "    IdentifyingContext(format_name='kdiba',animal='pin01',exper_name='one',session_name='11-09_12-15-3'),\n",
    "    IdentifyingContext(format_name='kdiba',animal='pin01',exper_name='one',session_name='11-09_22-4-5'),\n",
    "    IdentifyingContext(format_name='kdiba',animal='pin01',exper_name='one',session_name='fet11-01_12-58-54')\n",
    "]\n",
    "\n",
    "from neuropy.core.session.Formats.Specific.KDibaOldDataSessionFormat import KDibaOldDataSessionFormatRegisteredClass\n",
    "\n",
    "\n"
   ]
  },
  {
   "cell_type": "code",
   "execution_count": 3,
   "id": "d13e68b4-03e0-4388-a35c-87a352a6e6b3",
   "metadata": {
    "scrolled": true,
    "tags": [
     "load",
     "single_session",
     "REQUIRED"
    ]
   },
   "outputs": [
    {
     "name": "stdout",
     "output_type": "stream",
     "text": [
      "Automatic pdb calling has been turned OFF\n",
      "basedir: W:\\Data\\KDIBA\\gor01\\two\\2006-6-12_16-53-46\n",
      "Skipping loading from pickled file because force_reload == True.\n",
      "Loading matlab import file results : W:\\Data\\KDIBA\\gor01\\two\\2006-6-12_16-53-46\\2006-6-12_16-53-46.epochs_info.mat... done.\n",
      "Loading matlab import file results : W:\\Data\\KDIBA\\gor01\\two\\2006-6-12_16-53-46\\2006-6-12_16-53-46.position_info.mat... done.\n",
      "Loading matlab import file results : W:\\Data\\KDIBA\\gor01\\two\\2006-6-12_16-53-46\\2006-6-12_16-53-46.spikes.mat... "
     ]
    },
    {
     "name": "stderr",
     "output_type": "stream",
     "text": [
      "C:\\Users\\pho\\repos\\Spike3DWorkEnv\\NeuroPy\\neuropy\\core\\session\\Formats\\SessionSpecifications.py:140: UserWarning: WARNING: Optional File: W:\\Data\\KDIBA\\gor01\\two\\2006-6-12_16-53-46\\2006-6-12_16-53-46.dat does not exist. Continuing without it.\n",
      "  warnings.warn(f'WARNING: Optional File: {an_optional_filepath} does not exist. Continuing without it.')\n"
     ]
    },
    {
     "name": "stdout",
     "output_type": "stream",
     "text": [
      "done.\n",
      "Failure loading .position.npy. Must recompute.\n",
      "\n"
     ]
    },
    {
     "name": "stderr",
     "output_type": "stream",
     "text": [
      "c:\\Users\\pho\\repos\\Spike3DWorkEnv\\Spike3D\\.venv\\lib\\site-packages\\sklearn\\manifold\\_isomap.py:352: UserWarning: The number of connected components of the neighbors graph is 2 > 1. Completing the graph to fit Isomap might be slow. Increase the number of neighbors to avoid this issue.\n",
      "  self._fit_transform(X)\n",
      "c:\\Users\\pho\\repos\\Spike3DWorkEnv\\Spike3D\\.venv\\lib\\site-packages\\scipy\\sparse\\_index.py:103: SparseEfficiencyWarning: Changing the sparsity structure of a csr_matrix is expensive. lil_matrix is more efficient.\n",
      "  self._set_intXint(row, col, x.flat[0])\n"
     ]
    },
    {
     "name": "stdout",
     "output_type": "stream",
     "text": [
      "Saving updated position results results : W:\\Data\\KDIBA\\gor01\\two\\2006-6-12_16-53-46\\2006-6-12_16-53-46.position.npy... 2006-6-12_16-53-46.position.npy saved\n",
      "done.\n",
      "\t force_recompute is True! Forcing recomputation of .interpolated_spike_positions.npy\n",
      "\n",
      "Computing interpolate_spike_positions columns results : spikes_df... done.\n",
      "\t Saving updated interpolated spike position results results : W:\\Data\\KDIBA\\gor01\\two\\2006-6-12_16-53-46\\2006-6-12_16-53-46.interpolated_spike_positions.npy... 2006-6-12_16-53-46.interpolated_spike_positions.npy saved\n",
      "done.\n",
      "Loading matlab import file results : W:\\Data\\KDIBA\\gor01\\two\\2006-6-12_16-53-46\\2006-6-12_16-53-46.laps_info.mat... done.\n",
      "setting laps object.\n",
      "session.laps loaded successfully!\n",
      "Loading matlab import file results : W:\\Data\\KDIBA\\gor01\\two\\2006-6-12_16-53-46\\2006-6-12_16-53-46.replay_info.mat... done.\n",
      "session.replays loaded successfully!\n",
      "Loading success: W:\\Data\\KDIBA\\gor01\\two\\2006-6-12_16-53-46\\ripple_df.pkl.\n",
      "Failure loading .mua.npy. Must recompute.\n",
      "\n",
      "computing neurons mua for session...\n",
      "\n",
      "Saving mua results results : W:\\Data\\KDIBA\\gor01\\two\\2006-6-12_16-53-46\\2006-6-12_16-53-46.mua.npy... 2006-6-12_16-53-46.mua.npy saved\n",
      "done.\n",
      "Failure loading .pbe.npy. Must recompute.\n",
      "\n",
      "computing PBE epochs for session...\n",
      "\n",
      "Saving pbe results results : W:\\Data\\KDIBA\\gor01\\two\\2006-6-12_16-53-46\\2006-6-12_16-53-46.pbe.npy... 2006-6-12_16-53-46.pbe.npy saved\n",
      "done.\n",
      "Computing spikes_df PBEs column results : spikes_df... done.\n",
      "Computing added spike scISI column results : spikes_df... done.\n",
      "POSTLOAD_estimate_laps_and_replays()...\n",
      "sane_midpoint_x: 137.09687013828915, hardcoded_track_midpoint_x: None, track_min_max_x: (17.05521348401152, 257.1385267925668)\n",
      "hardcoded_track_midpoint_x is None, falling back to sane_midpoint_x... 137.09687013828915\n",
      "desc_crossings_x: (42,), asc_crossings_x: (42,)\n",
      "computing PBE epochs for session...\n",
      "\n",
      "computing estimated replay epochs for session...\n",
      "\n",
      "\t using KnownFilterEpochs.PBE as surrogate replays...\n",
      "\t curr_replays: 65\n",
      "skip_save_on_initial_load is True so resultant pipeline will not be saved to the pickle file.\n",
      "Applying session filter named \"maze1\"...\n",
      "Constraining to epoch with times (start: 0.0, end: 471.0674003356835)\n",
      "computing neurons mua for session...\n",
      "\n",
      "Applying session filter named \"maze2\"...\n",
      "Constraining to epoch with times (start: 471.0674003356835, end: 785.4513262689579)\n",
      "computing neurons mua for session...\n",
      "\n"
     ]
    },
    {
     "name": "stderr",
     "output_type": "stream",
     "text": [
      "C:\\Users\\pho\\repos\\Spike3DWorkEnv\\NeuroPy\\neuropy\\core\\laps.py:65: SettingWithCopyWarning: \n",
      "A value is trying to be set on a copy of a slice from a DataFrame.\n",
      "Try using .loc[row_indexer,col_indexer] = value instead\n",
      "\n",
      "See the caveats in the documentation: https://pandas.pydata.org/pandas-docs/stable/user_guide/indexing.html#returning-a-view-versus-a-copy\n",
      "  laps_df[['lap_id']] = laps_df[['lap_id']].astype('int')\n",
      "C:\\Users\\pho\\repos\\Spike3DWorkEnv\\NeuroPy\\neuropy\\core\\laps.py:69: SettingWithCopyWarning: \n",
      "A value is trying to be set on a copy of a slice from a DataFrame.\n",
      "Try using .loc[row_indexer,col_indexer] = value instead\n",
      "\n",
      "See the caveats in the documentation: https://pandas.pydata.org/pandas-docs/stable/user_guide/indexing.html#returning-a-view-versus-a-copy\n",
      "  laps_df[['start_spike_index', 'end_spike_index']] = laps_df[['start_spike_index', 'end_spike_index']].astype('int')\n",
      "C:\\Users\\pho\\repos\\Spike3DWorkEnv\\NeuroPy\\neuropy\\core\\laps.py:70: SettingWithCopyWarning: \n",
      "A value is trying to be set on a copy of a slice from a DataFrame.\n",
      "Try using .loc[row_indexer,col_indexer] = value instead\n",
      "\n",
      "See the caveats in the documentation: https://pandas.pydata.org/pandas-docs/stable/user_guide/indexing.html#returning-a-view-versus-a-copy\n",
      "  laps_df['num_spikes'] = laps_df['end_spike_index'] - laps_df['start_spike_index']\n",
      "C:\\Users\\pho\\repos\\Spike3DWorkEnv\\NeuroPy\\neuropy\\core\\laps.py:73: SettingWithCopyWarning: \n",
      "A value is trying to be set on a copy of a slice from a DataFrame.\n",
      "Try using .loc[row_indexer,col_indexer] = value instead\n",
      "\n",
      "See the caveats in the documentation: https://pandas.pydata.org/pandas-docs/stable/user_guide/indexing.html#returning-a-view-versus-a-copy\n",
      "  laps_df['lap_dir'] = laps_df['lap_dir'].astype('int')\n",
      "C:\\Users\\pho\\repos\\Spike3DWorkEnv\\NeuroPy\\neuropy\\core\\laps.py:81: SettingWithCopyWarning: \n",
      "A value is trying to be set on a copy of a slice from a DataFrame.\n",
      "Try using .loc[row_indexer,col_indexer] = value instead\n",
      "\n",
      "See the caveats in the documentation: https://pandas.pydata.org/pandas-docs/stable/user_guide/indexing.html#returning-a-view-versus-a-copy\n",
      "  laps_df['label'] = laps_df['lap_id'].astype('str') # add the string \"label\" column\n",
      "C:\\Users\\pho\\repos\\Spike3DWorkEnv\\NeuroPy\\neuropy\\core\\laps.py:65: SettingWithCopyWarning: \n",
      "A value is trying to be set on a copy of a slice from a DataFrame.\n",
      "Try using .loc[row_indexer,col_indexer] = value instead\n",
      "\n",
      "See the caveats in the documentation: https://pandas.pydata.org/pandas-docs/stable/user_guide/indexing.html#returning-a-view-versus-a-copy\n",
      "  laps_df[['lap_id']] = laps_df[['lap_id']].astype('int')\n",
      "C:\\Users\\pho\\repos\\Spike3DWorkEnv\\NeuroPy\\neuropy\\core\\laps.py:69: SettingWithCopyWarning: \n",
      "A value is trying to be set on a copy of a slice from a DataFrame.\n",
      "Try using .loc[row_indexer,col_indexer] = value instead\n",
      "\n",
      "See the caveats in the documentation: https://pandas.pydata.org/pandas-docs/stable/user_guide/indexing.html#returning-a-view-versus-a-copy\n",
      "  laps_df[['start_spike_index', 'end_spike_index']] = laps_df[['start_spike_index', 'end_spike_index']].astype('int')\n",
      "C:\\Users\\pho\\repos\\Spike3DWorkEnv\\NeuroPy\\neuropy\\core\\laps.py:70: SettingWithCopyWarning: \n",
      "A value is trying to be set on a copy of a slice from a DataFrame.\n",
      "Try using .loc[row_indexer,col_indexer] = value instead\n",
      "\n",
      "See the caveats in the documentation: https://pandas.pydata.org/pandas-docs/stable/user_guide/indexing.html#returning-a-view-versus-a-copy\n",
      "  laps_df['num_spikes'] = laps_df['end_spike_index'] - laps_df['start_spike_index']\n",
      "C:\\Users\\pho\\repos\\Spike3DWorkEnv\\NeuroPy\\neuropy\\core\\laps.py:73: SettingWithCopyWarning: \n",
      "A value is trying to be set on a copy of a slice from a DataFrame.\n",
      "Try using .loc[row_indexer,col_indexer] = value instead\n",
      "\n",
      "See the caveats in the documentation: https://pandas.pydata.org/pandas-docs/stable/user_guide/indexing.html#returning-a-view-versus-a-copy\n",
      "  laps_df['lap_dir'] = laps_df['lap_dir'].astype('int')\n",
      "C:\\Users\\pho\\repos\\Spike3DWorkEnv\\NeuroPy\\neuropy\\core\\laps.py:81: SettingWithCopyWarning: \n",
      "A value is trying to be set on a copy of a slice from a DataFrame.\n",
      "Try using .loc[row_indexer,col_indexer] = value instead\n",
      "\n",
      "See the caveats in the documentation: https://pandas.pydata.org/pandas-docs/stable/user_guide/indexing.html#returning-a-view-versus-a-copy\n",
      "  laps_df['label'] = laps_df['lap_id'].astype('str') # add the string \"label\" column\n"
     ]
    },
    {
     "name": "stdout",
     "output_type": "stream",
     "text": [
      "Applying session filter named \"maze\"...\n",
      "Constraining to epoch with times (start: 0.0, end: 785.4513262689579)\n",
      "computing neurons mua for session...\n",
      "\n"
     ]
    },
    {
     "name": "stderr",
     "output_type": "stream",
     "text": [
      "C:\\Users\\pho\\repos\\Spike3DWorkEnv\\NeuroPy\\neuropy\\core\\laps.py:65: SettingWithCopyWarning: \n",
      "A value is trying to be set on a copy of a slice from a DataFrame.\n",
      "Try using .loc[row_indexer,col_indexer] = value instead\n",
      "\n",
      "See the caveats in the documentation: https://pandas.pydata.org/pandas-docs/stable/user_guide/indexing.html#returning-a-view-versus-a-copy\n",
      "  laps_df[['lap_id']] = laps_df[['lap_id']].astype('int')\n",
      "C:\\Users\\pho\\repos\\Spike3DWorkEnv\\NeuroPy\\neuropy\\core\\laps.py:69: SettingWithCopyWarning: \n",
      "A value is trying to be set on a copy of a slice from a DataFrame.\n",
      "Try using .loc[row_indexer,col_indexer] = value instead\n",
      "\n",
      "See the caveats in the documentation: https://pandas.pydata.org/pandas-docs/stable/user_guide/indexing.html#returning-a-view-versus-a-copy\n",
      "  laps_df[['start_spike_index', 'end_spike_index']] = laps_df[['start_spike_index', 'end_spike_index']].astype('int')\n",
      "C:\\Users\\pho\\repos\\Spike3DWorkEnv\\NeuroPy\\neuropy\\core\\laps.py:70: SettingWithCopyWarning: \n",
      "A value is trying to be set on a copy of a slice from a DataFrame.\n",
      "Try using .loc[row_indexer,col_indexer] = value instead\n",
      "\n",
      "See the caveats in the documentation: https://pandas.pydata.org/pandas-docs/stable/user_guide/indexing.html#returning-a-view-versus-a-copy\n",
      "  laps_df['num_spikes'] = laps_df['end_spike_index'] - laps_df['start_spike_index']\n",
      "C:\\Users\\pho\\repos\\Spike3DWorkEnv\\NeuroPy\\neuropy\\core\\laps.py:73: SettingWithCopyWarning: \n",
      "A value is trying to be set on a copy of a slice from a DataFrame.\n",
      "Try using .loc[row_indexer,col_indexer] = value instead\n",
      "\n",
      "See the caveats in the documentation: https://pandas.pydata.org/pandas-docs/stable/user_guide/indexing.html#returning-a-view-versus-a-copy\n",
      "  laps_df['lap_dir'] = laps_df['lap_dir'].astype('int')\n",
      "C:\\Users\\pho\\repos\\Spike3DWorkEnv\\NeuroPy\\neuropy\\core\\laps.py:81: SettingWithCopyWarning: \n",
      "A value is trying to be set on a copy of a slice from a DataFrame.\n",
      "Try using .loc[row_indexer,col_indexer] = value instead\n",
      "\n",
      "See the caveats in the documentation: https://pandas.pydata.org/pandas-docs/stable/user_guide/indexing.html#returning-a-view-versus-a-copy\n",
      "  laps_df['label'] = laps_df['lap_id'].astype('str') # add the string \"label\" column\n"
     ]
    },
    {
     "name": "stdout",
     "output_type": "stream",
     "text": [
      "using provided computation_functions_name_includelist: ['_perform_baseline_placefield_computation', '_perform_extended_statistics_computation', '_perform_position_decoding_computation', '_perform_firing_rate_trends_computation', '_perform_pf_find_ratemap_peaks_computation', '_perform_two_step_position_decoding_computation']\n",
      "due to includelist, including only 6 out of 16 registered computation functions.\n",
      "Recomputing active_epoch_placefields... using self.config.grid_bin_bounds_1D: (24.481516142738176, 255.4815161427382)\n",
      "\t done.\n",
      "Recomputing active_epoch_placefields2D... using self.config.grid_bin_bounds: ((24.481516142738176, 255.4815161427382), (132.49260896751392, 155.30747604466447))\n",
      "\t done.\n"
     ]
    },
    {
     "name": "stderr",
     "output_type": "stream",
     "text": [
      "C:\\Users\\pho\\repos\\Spike3DWorkEnv\\pyPhoPlaceCellAnalysis\\src\\pyphoplacecellanalysis\\Analysis\\Decoder\\reconstruction.py:363: RuntimeWarning: divide by zero encountered in divide\n",
      "  return C * np.exp(numerator/denominator)\n"
     ]
    },
    {
     "name": "stdout",
     "output_type": "stream",
     "text": [
      "two_step_decoder_result['most_likely_position_flat_max_likelihood_values'].shape = (13126,)\n",
      "updating computation_results...\n",
      "done.\n",
      "due to includelist, including only 6 out of 16 registered computation functions.\n",
      "Recomputing active_epoch_placefields... using self.config.grid_bin_bounds_1D: (24.481516142738176, 255.4815161427382)\n",
      "\t done.\n",
      "Recomputing active_epoch_placefields2D... using self.config.grid_bin_bounds: ((24.481516142738176, 255.4815161427382), (132.49260896751392, 155.30747604466447))\n",
      "\t done.\n",
      "two_step_decoder_result['most_likely_position_flat_max_likelihood_values'].shape = (9198,)\n",
      "updating computation_results...\n",
      "done.\n",
      "due to includelist, including only 6 out of 16 registered computation functions.\n",
      "Recomputing active_epoch_placefields... using self.config.grid_bin_bounds_1D: (24.481516142738176, 255.4815161427382)\n",
      "\t done.\n",
      "Recomputing active_epoch_placefields2D... using self.config.grid_bin_bounds: ((24.481516142738176, 255.4815161427382), (132.49260896751392, 155.30747604466447))\n",
      "\t done.\n",
      "two_step_decoder_result['most_likely_position_flat_max_likelihood_values'].shape = (22940,)\n",
      "updating computation_results...\n",
      "done.\n",
      "finalized_loaded_sess_pickle_path: W:\\Data\\KDIBA\\gor01\\two\\2006-6-12_16-53-46\\loadedSessPickle.pkl\n",
      "WARNING: saving_mode is OVERWRITE_IN_PLACE so W:\\Data\\KDIBA\\gor01\\two\\2006-6-12_16-53-46\\loadedSessPickle.pkl will be overwritten even though exists.\n",
      "Saving (file mode 'w+b') saved session pickle file results : W:\\Data\\KDIBA\\gor01\\two\\2006-6-12_16-53-46\\loadedSessPickle.pkl... done.\n"
     ]
    }
   ],
   "source": [
    "%pdb off\n",
    "# %%viztracer\n",
    "# [*] - indicates bad or session with a problem\n",
    "# 0, 1, 2, 3, 4, 5, 6, 7, [8], [9], 10, 11, [12], 13, 14, [15], [16], 17, \n",
    "# curr_context: IdentifyingContext = good_contexts_list[1] # select the session from all of the good sessions here.\n",
    "# curr_context = IdentifyingContext(format_name='kdiba',animal='gor01',exper_name='one',session_name='2006-6-08_14-26-15')\n",
    "# curr_context = IdentifyingContext(format_name='kdiba',animal='gor01',exper_name='one',session_name='2006-6-09_1-22-43') # BAD\n",
    "# curr_context = IdentifyingContext(format_name='kdiba',animal='gor01',exper_name='one',session_name='2006-6-12_15-55-31')\n",
    "# curr_context = IdentifyingContext(format_name='kdiba',animal='gor01',exper_name='one',session_name='2006-6-13_14-42-6')\n",
    "# curr_context = IdentifyingContext(format_name='kdiba',animal='gor01',exper_name='two',session_name='2006-6-07_16-40-19') # DONE\n",
    "# curr_context = IdentifyingContext(format_name='kdiba',animal='gor01',exper_name='two',session_name='2006-6-08_21-16-25') # DONE\n",
    "# curr_context = IdentifyingContext(format_name='kdiba',animal='gor01',exper_name='two',session_name='2006-6-09_22-24-40') # DONE\n",
    "curr_context = IdentifyingContext(format_name='kdiba',animal='gor01',exper_name='two',session_name='2006-6-12_16-53-46') # DONE\n",
    "# curr_context = IdentifyingContext(format_name='kdiba',animal='gor01',exper_name='two',session_name='2006-6-13_15-22-3')\n",
    "# curr_context = IdentifyingContext(format_name='kdiba',animal='vvp01',exper_name='one',session_name='2006-4-09_17-29-30') # DONE\n",
    "# curr_context = IdentifyingContext(format_name='kdiba',animal='vvp01',exper_name='one',session_name='2006-4-10_12-25-50') # DONE\n",
    "# curr_context = IdentifyingContext(format_name='kdiba',animal='vvp01',exper_name='one',session_name='2006-4-19_13-34-40')\n",
    "# curr_context = IdentifyingContext(format_name='kdiba',animal='vvp01',exper_name='two',session_name='2006-4-09_16-40-54') # DONE\n",
    "# curr_context = IdentifyingContext(format_name='kdiba',animal='vvp01',exper_name='two',session_name='2006-4-10_12-58-3')\n",
    "# curr_context = IdentifyingContext(format_name='kdiba',animal='vvp01',exper_name='two',session_name='2006-4-12_15-25-59')\n",
    "# curr_context = IdentifyingContext(format_name='kdiba',animal='vvp01',exper_name='two',session_name='2006-4-16_18-47-52')\n",
    "# curr_context = IdentifyingContext(format_name='kdiba',animal='vvp01',exper_name='two',session_name='2006-4-17_12-52-15')\n",
    "# curr_context = IdentifyingContext(format_name='kdiba',animal='vvp01',exper_name='two',session_name='2006-4-25_13-20-55')\n",
    "# curr_context = IdentifyingContext(format_name='kdiba',animal='vvp01',exper_name='two',session_name='2006-4-28_12-38-13')\n",
    "# curr_context = IdentifyingContext(format_name='kdiba',animal='pin01',exper_name='one',session_name='11-02_17-46-44') # DONE\n",
    "# curr_context = IdentifyingContext(format_name='kdiba',animal='pin01',exper_name='one',session_name='11-02_19-28-0') # DONE\n",
    "# curr_context = IdentifyingContext(format_name='kdiba',animal='pin01',exper_name='one',session_name='11-03_12-3-25') # DONE\n",
    "# curr_context = IdentifyingContext(format_name='kdiba',animal='pin01',exper_name='one',session_name='11-09_12-15-3')\n",
    "# curr_context = IdentifyingContext(format_name='kdiba',animal='pin01',exper_name='one',session_name='11-09_22-4-5')\n",
    "# curr_context = IdentifyingContext(format_name='kdiba',animal='pin01',exper_name='one',session_name='fet11-01_12-58-54') # DONE\n",
    "\n",
    "\n",
    "local_session_parent_path: Path = local_session_root_parent_path.joinpath(curr_context.animal, curr_context.exper_name) # 'gor01', 'one' - probably not needed anymore\n",
    "basedir: Path = local_session_parent_path.joinpath(curr_context.session_name).resolve()\n",
    "print(f'basedir: {str(basedir)}')\n",
    "\n",
    "# Read if possible:\n",
    "# saving_mode = PipelineSavingScheme.SKIP_SAVING\n",
    "# force_reload = False\n",
    "\n",
    "# Force write:\n",
    "# saving_mode = PipelineSavingScheme.TEMP_THEN_OVERWRITE\n",
    "saving_mode = PipelineSavingScheme.OVERWRITE_IN_PLACE\n",
    "force_reload = True\n",
    "\n",
    "\n",
    "## TODO: if loading is not possible, we need to change the `saving_mode` so that the new results are properly saved.\n",
    "\n",
    "\n",
    "    # ==================================================================================================================== #\n",
    "    # Load Pipeline                                                                                                        #\n",
    "    # ==================================================================================================================== #\n",
    "# with VizTracer(output_file=f\"viztracer_{get_now_time_str()}-full_session_LOO_decoding_analysis.json\", min_duration=200, tracer_entries=3000000, ignore_frozen=True) as tracer:\n",
    "# epoch_name_includelist = ['maze']\n",
    "epoch_name_includelist = None\n",
    "active_computation_functions_name_includelist=[#'_perform_estimated_epochs_computation',  # AL:WAYS OFF\n",
    "                                            '_perform_baseline_placefield_computation',\n",
    "                                        # '_perform_time_dependent_placefield_computation', # AL:WAYS OFF\n",
    "                                        '_perform_extended_statistics_computation',\n",
    "                                        '_perform_position_decoding_computation', \n",
    "                                        '_perform_firing_rate_trends_computation',\n",
    "                                        '_perform_pf_find_ratemap_peaks_computation',\n",
    "                                        # '_perform_time_dependent_pf_sequential_surprise_computation' # AL:WAYS OFF\n",
    "                                        '_perform_two_step_position_decoding_computation',\n",
    "                                        # '_perform_recursive_latent_placefield_decoding' # AL:WAYS OFF\n",
    "                                    ]\n",
    "# active_computation_functions_name_includelist=['_perform_baseline_placefield_computation']\n",
    "\n",
    "curr_active_pipeline = batch_load_session(global_data_root_parent_path, active_data_mode_name, basedir, epoch_name_includelist=epoch_name_includelist,\n",
    "                                        computation_functions_name_includelist=active_computation_functions_name_includelist,\n",
    "                                        saving_mode=saving_mode, force_reload=force_reload,\n",
    "                                        skip_extended_batch_computations=True, debug_print=False, fail_on_exception=True) # , active_pickle_filename = 'loadedSessPickle_withParameters.pkl'\n",
    "\n",
    "\n",
    "if not force_reload: # not just force_reload, needs to recompute whenever the computation fails.\n",
    "    try:\n",
    "        curr_active_pipeline.load_pickled_global_computation_results()\n",
    "    except Exception as e:\n",
    "        print(f'cannot load global results: {e}')\n",
    "\n",
    "# 6m 1.1s\n",
    "# 12m 15.6s\n"
   ]
  },
  {
   "cell_type": "code",
   "execution_count": 4,
   "id": "ac8aab9a",
   "metadata": {},
   "outputs": [
    {
     "name": "stdout",
     "output_type": "stream",
     "text": [
      "blocking and waiting for user input. Press [enter] to confirm selection change or [esc] to revert with no change.\n",
      "user confirmed extents: (24.481516142738176, 255.4815161427382, 132.49260896751392, 155.30747604466447)\n",
      "Add this to `specific_session_override_dict`:\n",
      "\n",
      "IdentifyingContext(format_name='kdiba',animal='gor01',exper_name='two',session_name='2006-6-12_16-53-46'):dict(grid_bin_bounds=(((24.481516142738176, 255.4815161427382), (132.49260896751392, 155.30747604466447)))),\n",
      "\n",
      "grid_bin_bounds: (24.481516142738176, 255.4815161427382, 132.49260896751392, 155.30747604466447)\n",
      "Add this to `specific_session_override_dict`:\n",
      "\n",
      "IdentifyingContext(format_name='kdiba',animal='gor01',exper_name='two',session_name='2006-6-12_16-53-46'):dict(grid_bin_bounds=(((24.481516142738176, 255.4815161427382), (132.49260896751392, 155.30747604466447)))),\n",
      "\n"
     ]
    }
   ],
   "source": [
    "%matplotlib qt\n",
    "from neuropy.utils.matplotlib_helpers import interactive_select_grid_bin_bounds_2D\n",
    "# fig, ax, rect_selector, set_extents = interactive_select_grid_bin_bounds_2D(curr_active_pipeline, epoch_name='maze', should_block_for_input=True)\n",
    "\n",
    "grid_bin_bounds = interactive_select_grid_bin_bounds_2D(curr_active_pipeline, epoch_name='maze', should_block_for_input=True, should_apply_updates_to_pipeline=False)\n",
    "print(f'grid_bin_bounds: {grid_bin_bounds}')\n",
    "print(f\"Add this to `specific_session_override_dict`:\\n\\n{curr_active_pipeline.get_session_context().get_initialization_code_string()}:dict(grid_bin_bounds=({(grid_bin_bounds[0], grid_bin_bounds[1]), (grid_bin_bounds[2], grid_bin_bounds[3])})),\\n\")"
   ]
  },
  {
   "cell_type": "code",
   "execution_count": 5,
   "id": "3a29b890",
   "metadata": {
    "tags": []
   },
   "outputs": [
    {
     "name": "stdout",
     "output_type": "stream",
     "text": [
      "were pipeline preprocessing parameters missing and updated?: False\n"
     ]
    }
   ],
   "source": [
    "## Post Compute Validate 2023-05-16:\n",
    "from scripts.run_BatchAnalysis import post_compute_validate\n",
    "\n",
    "post_compute_validate(curr_active_pipeline)"
   ]
  },
  {
   "cell_type": "code",
   "execution_count": 6,
   "id": "b7f4bc79",
   "metadata": {
    "tags": []
   },
   "outputs": [
    {
     "name": "stdout",
     "output_type": "stream",
     "text": [
      "included includelist is specified: ['long_short_fr_indicies_analyses', 'jonathan_firing_rate_analysis', 'long_short_decoding_analyses', 'long_short_post_decoding'], so only performing these extended computations.\n",
      "Running batch_extended_computations(...) with global_epoch_name: \"maze\"\n",
      "jonathan_firing_rate_analysis missing.\n",
      "\t Recomputing jonathan_firing_rate_analysis...\n",
      "\t done.\n",
      "long_short_fr_indicies_analyses missing.\n",
      "\t Recomputing long_short_fr_indicies_analyses...\n",
      "\t done.\n",
      "long_short_decoding_analyses missing.\n",
      "\t Recomputing long_short_decoding_analyses...\n",
      "sane_midpoint_x: 137.09687013828915, hardcoded_track_midpoint_x: None, track_min_max_x: (17.05521348401152, 257.1385267925668)\n",
      "hardcoded_track_midpoint_x is None, falling back to sane_midpoint_x... 137.09687013828915\n",
      "desc_crossings_x: (21,), asc_crossings_x: (20,)\n",
      "WARNING: must drop last desc_crossing_midpoint.\n",
      "setting new computation epochs because laps changed.\n",
      "using self.config.grid_bin_bounds_1D: (24.481516142738176, 255.4815161427382)\n",
      "using self.config.grid_bin_bounds: ((24.481516142738176, 255.4815161427382), (132.49260896751392, 155.30747604466447))\n",
      "Performing run_specific_computations_single_context on filtered_session with filter named \"maze1\"...\n",
      "Performing _execute_computation_functions(...) with 1 registered_computation_functions...\n",
      "_execute_computation_functions(...): \n",
      "\taccumulated_errors: None\n",
      "\tcomputation_times: {<function DefaultComputationFunctions._perform_position_decoding_computation at 0x000001ABE7CD40D0>: datetime.datetime(2023, 6, 19, 8, 54, 7, 796874)}\n",
      "Performing run_specific_computations_single_context on filtered_session with filter named \"maze2\"...\n",
      "Performing _execute_computation_functions(...) with 1 registered_computation_functions...\n",
      "_execute_computation_functions(...): \n",
      "\taccumulated_errors: None\n",
      "\tcomputation_times: {<function DefaultComputationFunctions._perform_position_decoding_computation at 0x000001ABE7CD40D0>: datetime.datetime(2023, 6, 19, 8, 54, 13, 89875)}\n",
      "self will be re-binned to match target_one_step_decoder...\n",
      "Performing run_specific_computations_single_context on filtered_session with filter named \"maze1\"...\n",
      "Performing _execute_computation_functions(...) with 1 registered_computation_functions...\n",
      "_execute_computation_functions(...): \n",
      "\taccumulated_errors: None\n",
      "\tcomputation_times: {<function DefaultComputationFunctions._perform_position_decoding_computation at 0x000001ABE7CD40D0>: datetime.datetime(2023, 6, 19, 8, 54, 21, 536874)}\n",
      "Performing run_specific_computations_single_context on filtered_session with filter named \"maze2\"...\n",
      "Performing _execute_computation_functions(...) with 1 registered_computation_functions...\n",
      "_execute_computation_functions(...): \n",
      "\taccumulated_errors: None\n",
      "\tcomputation_times: {<function DefaultComputationFunctions._perform_position_decoding_computation at 0x000001ABE7CD40D0>: datetime.datetime(2023, 6, 19, 8, 54, 26, 837874)}\n",
      "self will be re-binned to match target_one_step_decoder...\n",
      "reusing extant decoder.\n",
      "USING EXISTING original_1D_decoder.\n",
      "(n_neurons = 34, n_all_epoch_timebins = 126)\n",
      "reusing extant decoder.\n",
      "USING EXISTING original_1D_decoder.\n",
      "(n_neurons = 34, n_all_epoch_timebins = 126)\n",
      "\t done.\n",
      "long_short_post_decoding missing.\n",
      "\t Recomputing long_short_post_decoding...\n",
      "num_neurons: 34, num_epochs: 20, num_total_flat_timebins: 126\n",
      "num_neurons: 34, num_epochs: 20, num_total_flat_timebins: 126\n",
      "returned_shape_tuple_LONG: (34, array([8, 5, 6, 7, 5, 5, 5, 8, 8, 6, 8, 6, 6, 6, 5, 8, 6, 7, 5, 6],\n",
      "      dtype=int64), 126), returned_shape_tuple_SHORT: (34, array([8, 5, 6, 7, 5, 5, 5, 8, 8, 6, 8, 6, 6, 6, 5, 8, 6, 7, 5, 6],\n",
      "      dtype=int64), 126)\n",
      "long_test: 0.0011310326418882807\n",
      "short_test: 0.0022831335276538808\n",
      "\t done.\n",
      "done with all batch_extended_computations(...).\n",
      "newly_computed_values: ['jonathan_firing_rate_analysis', 'long_short_fr_indicies_analyses', 'long_short_decoding_analyses', 'long_short_post_decoding']. Saving global results...\n",
      "global_computation_results_pickle_path: W:\\Data\\KDIBA\\gor01\\two\\2006-6-12_16-53-46\\output\\global_computation_results.pkl\n",
      "Saving (file mode 'w+b') saved session pickle file results : W:\\Data\\KDIBA\\gor01\\two\\2006-6-12_16-53-46\\output\\global_computation_results.pkl... done.\n"
     ]
    }
   ],
   "source": [
    "curr_active_pipeline.reload_default_computation_functions()\n",
    "extended_computations_include_includelist=['long_short_fr_indicies_analyses', 'jonathan_firing_rate_analysis', 'long_short_decoding_analyses', 'long_short_post_decoding'] # do only specifiedl , 'long_short_rate_remapping'\n",
    "force_recompute_global = force_reload\n",
    "# force_recompute_global = True\n",
    "# extended_computations_include_includelist=['long_short_post_decoding'] # do only specifiedl\n",
    "newly_computed_values = batch_extended_computations(curr_active_pipeline, include_includelist=extended_computations_include_includelist, include_global_functions=True, fail_on_exception=True, progress_print=True, force_recompute=force_recompute_global, debug_print=False)\n",
    "if len(newly_computed_values) > 0:\n",
    "\tprint(f'newly_computed_values: {newly_computed_values}. Saving global results...')\n",
    "\ttry:\n",
    "\t\t# curr_active_pipeline.global_computation_results.persist_time = datetime.now()\n",
    "\t\t# Try to write out the global computation function results:\n",
    "\t\tcurr_active_pipeline.save_global_computation_results()\n",
    "\texcept Exception as e:\n",
    "\t\tprint(f'\\n\\n!!WARNING!!: saving the global results threw the exception: {e}')\n",
    "\t\tprint(f'\\tthe global results are currently unsaved! proceed with caution and save as soon as you can!\\n\\n\\n')\n",
    "else:\n",
    "\tprint(f'no changes in global results.')\n",
    "# 10m 29.5s"
   ]
  },
  {
   "cell_type": "code",
   "execution_count": 7,
   "id": "d3e3c3f3",
   "metadata": {},
   "outputs": [
    {
     "name": "stdout",
     "output_type": "stream",
     "text": [
      "https://app.neptune.ai/commander.pho/PhoDibaLongShortUpdated/\n",
      "https://app.neptune.ai/commander.pho/PhoDibaLongShortUpdated/e/LS2023-145\n",
      "shared_aclus: [2, 3, 4, 5, 6, 9, 10, 11, 12, 13, 14, 15, 16, 17, 18, 19, 20, 21, 22, 23, 24, 25, 26, 27, 28, 29, 30, 31, 32, 33, 34, 35, 36, 37, 39, 40, 41, 42, 43, 44, 45, 46, 47, 48, 49, 50, 52, 54, 55, 56, 57, 58]\n",
      "long_only_aclus: [38, 51, 53, 59, 60]\n",
      "short_only_aclus: [7, 8]\n",
      "shared_aclus: [2, 3, 4, 5, 6, 9, 10, 11, 12, 13, 14, 15, 16, 17, 18, 19, 20, 21, 22, 23, 24, 25, 26, 27, 28, 29, 30, 31, 32, 33, 34, 35, 36, 37, 39, 40, 41, 42, 43, 44, 45, 46, 47, 48, 49, 50, 52, 54, 55, 56, 57, 58]\n",
      "long_only_aclus: [38, 51, 53, 59, 60]\n",
      "short_only_aclus: [7, 8]\n",
      "include_includelist: ['maze1', 'maze2', 'maze']\n",
      "long_epoch_name: maze1, short_epoch_name: maze2, global_epoch_name: maze\n",
      "\t saved C:\\Users\\pho\\repos\\Spike3DWorkEnv\\Spike3D\\EXTERNAL\\Screenshots\\ProgrammaticDisplayFunctionTesting\\2023-06-19\\kdiba_gor01_two_2006-6-12_16-53-46_BatchPhoJonathanReplayFRC_long_only_[38, 51, 53, 59, 60].png\n",
      "include_includelist: ['maze1', 'maze2', 'maze']\n",
      "long_epoch_name: maze1, short_epoch_name: maze2, global_epoch_name: maze\n",
      "\t saved C:\\Users\\pho\\repos\\Spike3DWorkEnv\\Spike3D\\EXTERNAL\\Screenshots\\ProgrammaticDisplayFunctionTesting\\2023-06-19\\kdiba_gor01_two_2006-6-12_16-53-46_BatchPhoJonathanReplayFRC_short_only_[7, 8].png\n",
      "include_includelist: ['maze1', 'maze2', 'maze']\n",
      "long_epoch_name: maze1, short_epoch_name: maze2, global_epoch_name: maze\n",
      "WARNING: aclu 4 is not present in the pf1D_all ratemaps. Which contain aclus: [2, 3, 5, 6, 7, 8, 11, 12, 13, 14, 15, 17, 19, 20, 21, 22, 23, 24, 27, 29, 31, 32, 33, 34, 35, 36, 37, 38, 39, 40, 41, 42, 43, 47, 49, 50, 51, 52, 53, 59, 60]\n",
      "WARNING: aclu 9 is not present in the pf1D_all ratemaps. Which contain aclus: [2, 3, 5, 6, 7, 8, 11, 12, 13, 14, 15, 17, 19, 20, 21, 22, 23, 24, 27, 29, 31, 32, 33, 34, 35, 36, 37, 38, 39, 40, 41, 42, 43, 47, 49, 50, 51, 52, 53, 59, 60]\n",
      "WARNING: aclu 10 is not present in the pf1D_all ratemaps. Which contain aclus: [2, 3, 5, 6, 7, 8, 11, 12, 13, 14, 15, 17, 19, 20, 21, 22, 23, 24, 27, 29, 31, 32, 33, 34, 35, 36, 37, 38, 39, 40, 41, 42, 43, 47, 49, 50, 51, 52, 53, 59, 60]\n",
      "\t saved C:\\Users\\pho\\repos\\Spike3DWorkEnv\\Spike3D\\EXTERNAL\\Screenshots\\ProgrammaticDisplayFunctionTesting\\2023-06-19\\kdiba_gor01_two_2006-6-12_16-53-46_BatchPhoJonathanReplayFRC_shared_1of6_[2, 3, 4, 5, 6, 9, 10, 11, 12, 13].png\n",
      "include_includelist: ['maze1', 'maze2', 'maze']\n",
      "long_epoch_name: maze1, short_epoch_name: maze2, global_epoch_name: maze\n",
      "WARNING: aclu 16 is not present in the pf1D_all ratemaps. Which contain aclus: [2, 3, 5, 6, 7, 8, 11, 12, 13, 14, 15, 17, 19, 20, 21, 22, 23, 24, 27, 29, 31, 32, 33, 34, 35, 36, 37, 38, 39, 40, 41, 42, 43, 47, 49, 50, 51, 52, 53, 59, 60]\n",
      "WARNING: aclu 18 is not present in the pf1D_all ratemaps. Which contain aclus: [2, 3, 5, 6, 7, 8, 11, 12, 13, 14, 15, 17, 19, 20, 21, 22, 23, 24, 27, 29, 31, 32, 33, 34, 35, 36, 37, 38, 39, 40, 41, 42, 43, 47, 49, 50, 51, 52, 53, 59, 60]\n",
      "\t saved C:\\Users\\pho\\repos\\Spike3DWorkEnv\\Spike3D\\EXTERNAL\\Screenshots\\ProgrammaticDisplayFunctionTesting\\2023-06-19\\kdiba_gor01_two_2006-6-12_16-53-46_BatchPhoJonathanReplayFRC_shared_2of6_[14, 15, 16, 17, 18, 19, 20, 21, 22, 23].png\n",
      "include_includelist: ['maze1', 'maze2', 'maze']\n",
      "long_epoch_name: maze1, short_epoch_name: maze2, global_epoch_name: maze\n",
      "WARNING: aclu 25 is not present in the pf1D_all ratemaps. Which contain aclus: [2, 3, 5, 6, 7, 8, 11, 12, 13, 14, 15, 17, 19, 20, 21, 22, 23, 24, 27, 29, 31, 32, 33, 34, 35, 36, 37, 38, 39, 40, 41, 42, 43, 47, 49, 50, 51, 52, 53, 59, 60]\n",
      "WARNING: aclu 26 is not present in the pf1D_all ratemaps. Which contain aclus: [2, 3, 5, 6, 7, 8, 11, 12, 13, 14, 15, 17, 19, 20, 21, 22, 23, 24, 27, 29, 31, 32, 33, 34, 35, 36, 37, 38, 39, 40, 41, 42, 43, 47, 49, 50, 51, 52, 53, 59, 60]\n",
      "WARNING: aclu 28 is not present in the pf1D_all ratemaps. Which contain aclus: [2, 3, 5, 6, 7, 8, 11, 12, 13, 14, 15, 17, 19, 20, 21, 22, 23, 24, 27, 29, 31, 32, 33, 34, 35, 36, 37, 38, 39, 40, 41, 42, 43, 47, 49, 50, 51, 52, 53, 59, 60]\n",
      "WARNING: aclu 30 is not present in the pf1D_all ratemaps. Which contain aclus: [2, 3, 5, 6, 7, 8, 11, 12, 13, 14, 15, 17, 19, 20, 21, 22, 23, 24, 27, 29, 31, 32, 33, 34, 35, 36, 37, 38, 39, 40, 41, 42, 43, 47, 49, 50, 51, 52, 53, 59, 60]\n",
      "\t saved C:\\Users\\pho\\repos\\Spike3DWorkEnv\\Spike3D\\EXTERNAL\\Screenshots\\ProgrammaticDisplayFunctionTesting\\2023-06-19\\kdiba_gor01_two_2006-6-12_16-53-46_BatchPhoJonathanReplayFRC_shared_3of6_[24, 25, 26, 27, 28, 29, 30, 31, 32, 33].png\n",
      "include_includelist: ['maze1', 'maze2', 'maze']\n",
      "long_epoch_name: maze1, short_epoch_name: maze2, global_epoch_name: maze\n",
      "WARNING: aclu 44 is not present in the pf1D_all ratemaps. Which contain aclus: [2, 3, 5, 6, 7, 8, 11, 12, 13, 14, 15, 17, 19, 20, 21, 22, 23, 24, 27, 29, 31, 32, 33, 34, 35, 36, 37, 38, 39, 40, 41, 42, 43, 47, 49, 50, 51, 52, 53, 59, 60]\n",
      "\t saved C:\\Users\\pho\\repos\\Spike3DWorkEnv\\Spike3D\\EXTERNAL\\Screenshots\\ProgrammaticDisplayFunctionTesting\\2023-06-19\\kdiba_gor01_two_2006-6-12_16-53-46_BatchPhoJonathanReplayFRC_shared_4of6_[34, 35, 36, 37, 39, 40, 41, 42, 43, 44].png\n",
      "include_includelist: ['maze1', 'maze2', 'maze']\n",
      "long_epoch_name: maze1, short_epoch_name: maze2, global_epoch_name: maze\n",
      "WARNING: aclu 45 is not present in the pf1D_all ratemaps. Which contain aclus: [2, 3, 5, 6, 7, 8, 11, 12, 13, 14, 15, 17, 19, 20, 21, 22, 23, 24, 27, 29, 31, 32, 33, 34, 35, 36, 37, 38, 39, 40, 41, 42, 43, 47, 49, 50, 51, 52, 53, 59, 60]\n",
      "WARNING: aclu 46 is not present in the pf1D_all ratemaps. Which contain aclus: [2, 3, 5, 6, 7, 8, 11, 12, 13, 14, 15, 17, 19, 20, 21, 22, 23, 24, 27, 29, 31, 32, 33, 34, 35, 36, 37, 38, 39, 40, 41, 42, 43, 47, 49, 50, 51, 52, 53, 59, 60]\n",
      "WARNING: aclu 48 is not present in the pf1D_all ratemaps. Which contain aclus: [2, 3, 5, 6, 7, 8, 11, 12, 13, 14, 15, 17, 19, 20, 21, 22, 23, 24, 27, 29, 31, 32, 33, 34, 35, 36, 37, 38, 39, 40, 41, 42, 43, 47, 49, 50, 51, 52, 53, 59, 60]\n",
      "WARNING: aclu 54 is not present in the pf1D_all ratemaps. Which contain aclus: [2, 3, 5, 6, 7, 8, 11, 12, 13, 14, 15, 17, 19, 20, 21, 22, 23, 24, 27, 29, 31, 32, 33, 34, 35, 36, 37, 38, 39, 40, 41, 42, 43, 47, 49, 50, 51, 52, 53, 59, 60]\n",
      "WARNING: aclu 55 is not present in the pf1D_all ratemaps. Which contain aclus: [2, 3, 5, 6, 7, 8, 11, 12, 13, 14, 15, 17, 19, 20, 21, 22, 23, 24, 27, 29, 31, 32, 33, 34, 35, 36, 37, 38, 39, 40, 41, 42, 43, 47, 49, 50, 51, 52, 53, 59, 60]\n",
      "WARNING: aclu 56 is not present in the pf1D_all ratemaps. Which contain aclus: [2, 3, 5, 6, 7, 8, 11, 12, 13, 14, 15, 17, 19, 20, 21, 22, 23, 24, 27, 29, 31, 32, 33, 34, 35, 36, 37, 38, 39, 40, 41, 42, 43, 47, 49, 50, 51, 52, 53, 59, 60]\n",
      "\t saved C:\\Users\\pho\\repos\\Spike3DWorkEnv\\Spike3D\\EXTERNAL\\Screenshots\\ProgrammaticDisplayFunctionTesting\\2023-06-19\\kdiba_gor01_two_2006-6-12_16-53-46_BatchPhoJonathanReplayFRC_shared_5of6_[45, 46, 47, 48, 49, 50, 52, 54, 55, 56].png\n",
      "include_includelist: ['maze1', 'maze2', 'maze']\n",
      "long_epoch_name: maze1, short_epoch_name: maze2, global_epoch_name: maze\n",
      "WARNING: aclu 57 is not present in the pf1D_all ratemaps. Which contain aclus: [2, 3, 5, 6, 7, 8, 11, 12, 13, 14, 15, 17, 19, 20, 21, 22, 23, 24, 27, 29, 31, 32, 33, 34, 35, 36, 37, 38, 39, 40, 41, 42, 43, 47, 49, 50, 51, 52, 53, 59, 60]\n",
      "WARNING: aclu 58 is not present in the pf1D_all ratemaps. Which contain aclus: [2, 3, 5, 6, 7, 8, 11, 12, 13, 14, 15, 17, 19, 20, 21, 22, 23, 24, 27, 29, 31, 32, 33, 34, 35, 36, 37, 38, 39, 40, 41, 42, 43, 47, 49, 50, 51, 52, 53, 59, 60]\n",
      "\t saved C:\\Users\\pho\\repos\\Spike3DWorkEnv\\Spike3D\\EXTERNAL\\Screenshots\\ProgrammaticDisplayFunctionTesting\\2023-06-19\\kdiba_gor01_two_2006-6-12_16-53-46_BatchPhoJonathanReplayFRC_shared_6of6_[57, 58].png\n",
      "curr_session_parent_out_path: C:\\Users\\pho\\repos\\Spike3DWorkEnv\\Spike3D\\EXTERNAL\\Screenshots\\ProgrammaticDisplayFunctionTesting\\2023-06-19\n",
      "\t saved C:\\Users\\pho\\repos\\Spike3DWorkEnv\\Spike3D\\EXTERNAL\\Screenshots\\ProgrammaticDisplayFunctionTesting\\2023-06-19\\kdiba_gor01_two_2006-6-12_16-53-46_maze1_1d_placefields.png\n",
      "\t saved C:\\Users\\pho\\repos\\Spike3DWorkEnv\\Spike3D\\EXTERNAL\\Screenshots\\ProgrammaticDisplayFunctionTesting\\2023-06-19\\kdiba_gor01_two_2006-6-12_16-53-46_maze2_1d_placefields.png\n",
      "\t saved C:\\Users\\pho\\repos\\Spike3DWorkEnv\\Spike3D\\EXTERNAL\\Screenshots\\ProgrammaticDisplayFunctionTesting\\2023-06-19\\kdiba_gor01_two_2006-6-12_16-53-46_maze_1d_placefields.png\n",
      "\t saved C:\\Users\\pho\\repos\\Spike3DWorkEnv\\Spike3D\\EXTERNAL\\Screenshots\\ProgrammaticDisplayFunctionTesting\\2023-06-19\\kdiba_gor01_two_2006-6-12_16-53-46_maze1__display_2d_placefield_result_plot_ratemaps_2D.png\n",
      "\t saved C:\\Users\\pho\\repos\\Spike3DWorkEnv\\Spike3D\\EXTERNAL\\Screenshots\\ProgrammaticDisplayFunctionTesting\\2023-06-19\\kdiba_gor01_two_2006-6-12_16-53-46_maze2__display_2d_placefield_result_plot_ratemaps_2D.png\n",
      "\t saved C:\\Users\\pho\\repos\\Spike3DWorkEnv\\Spike3D\\EXTERNAL\\Screenshots\\ProgrammaticDisplayFunctionTesting\\2023-06-19\\kdiba_gor01_two_2006-6-12_16-53-46_maze__display_2d_placefield_result_plot_ratemaps_2D.png\n",
      "\t saved C:\\Users\\pho\\repos\\Spike3DWorkEnv\\Spike3D\\EXTERNAL\\Screenshots\\ProgrammaticDisplayFunctionTesting\\2023-06-19\\kdiba_gor01_two_2006-6-12_16-53-46_maze1_plot_occupancy_OCCUPANCY.png\n",
      "\t saved C:\\Users\\pho\\repos\\Spike3DWorkEnv\\Spike3D\\EXTERNAL\\Screenshots\\ProgrammaticDisplayFunctionTesting\\2023-06-19\\kdiba_gor01_two_2006-6-12_16-53-46_maze2_plot_occupancy_OCCUPANCY.png\n",
      "\t saved C:\\Users\\pho\\repos\\Spike3DWorkEnv\\Spike3D\\EXTERNAL\\Screenshots\\ProgrammaticDisplayFunctionTesting\\2023-06-19\\kdiba_gor01_two_2006-6-12_16-53-46_maze_plot_occupancy_OCCUPANCY.png\n",
      "\t saved C:\\Users\\pho\\repos\\Spike3DWorkEnv\\Spike3D\\EXTERNAL\\Screenshots\\ProgrammaticDisplayFunctionTesting\\2023-06-19\\kdiba_gor01_two_2006-6-12_16-53-46_long_short_firing_rate_indicies_display_long_short_laps.png\n",
      "global_y_min_SHORT: 0.0, global_y_max_SHORT: 5.0080883093694935\n",
      "global_y_min_LONG: 0.0, global_y_max_LONG: 4.9743125085424165\n",
      "global_y_min: 0.0, global_y_max: 5.0080883093694935\n",
      "\t saved C:\\Users\\pho\\repos\\Spike3DWorkEnv\\Spike3D\\EXTERNAL\\Screenshots\\ProgrammaticDisplayFunctionTesting\\2023-06-19\\kdiba_gor01_two_2006-6-12_16-53-46_plot_expected_vs_observed_epoch_idx_obs_exp_diff_ptp.png\n",
      "\t saved C:\\Users\\pho\\repos\\Spike3DWorkEnv\\Spike3D\\EXTERNAL\\Screenshots\\ProgrammaticDisplayFunctionTesting\\2023-06-19\\kdiba_gor01_two_2006-6-12_16-53-46__display_grid_bin_bounds_validation.png\n",
      "\t saved C:\\Users\\pho\\repos\\Spike3DWorkEnv\\Spike3D\\EXTERNAL\\Screenshots\\ProgrammaticDisplayFunctionTesting\\2023-06-19\\kdiba_gor01_two_2006-6-12_16-53-46_running_and_replay_speeds_over_time.png\n",
      "\t saved C:\\Users\\pho\\repos\\Spike3DWorkEnv\\Spike3D\\EXTERNAL\\Screenshots\\ProgrammaticDisplayFunctionTesting\\2023-06-19\\kdiba_gor01_two_2006-6-12_16-53-46_display_long_short_laps.png\n",
      "\t saved C:\\Users\\pho\\repos\\Spike3DWorkEnv\\Spike3D\\EXTERNAL\\Screenshots\\ProgrammaticDisplayFunctionTesting\\2023-06-19\\kdiba_gor01_two_2006-6-12_16-53-46_maze1_plot_single_track_firing_rate_compare.png\n",
      "\t saved C:\\Users\\pho\\repos\\Spike3DWorkEnv\\Spike3D\\EXTERNAL\\Screenshots\\ProgrammaticDisplayFunctionTesting\\2023-06-19\\kdiba_gor01_two_2006-6-12_16-53-46_maze2_plot_single_track_firing_rate_compare.png\n",
      "DEBUG: new_all_aclus_sort_indicies: [32 36 38 16 20 10 37  7 17 23 39 29 24 11 35 31 34  6  0 18  9 28 14 12\n",
      "  1 22 40 21 15 13 30  8 26 33 25 27 19  2  3  5  4]\n",
      "\t saved C:\\Users\\pho\\repos\\Spike3DWorkEnv\\Spike3D\\EXTERNAL\\Screenshots\\ProgrammaticDisplayFunctionTesting\\2023-06-19\\kdiba_gor01_two_2006-6-12_16-53-46_display_short_long_pf1D_comparison_long.png\n",
      "\t saved C:\\Users\\pho\\repos\\Spike3DWorkEnv\\Spike3D\\EXTERNAL\\Screenshots\\ProgrammaticDisplayFunctionTesting\\2023-06-19\\kdiba_gor01_two_2006-6-12_16-53-46_display_short_long_pf1D_comparison_short.png\n",
      "active_identifying_ctx_string: \"kdiba|gor01|two|2006-6-12_16-53-46|DecodedEpochSlices|replays|long_results_obj|1of1|[ 0  1  2  3  4  5  6  7  8  9 10 11 12 13 14 15 16 17 18 19]\"\n",
      "active_identifying_ctx_string: \"kdiba|gor01|two|2006-6-12_16-53-46|DecodedEpochSlices|replays|long_results_obj|1of1|[ 0  1  2  3  4  5  6  7  8  9 10 11 12 13 14 15 16 17 18 19]\"\n",
      "\t saved C:\\Users\\pho\\repos\\Spike3DWorkEnv\\Spike3D\\EXTERNAL\\Screenshots\\ProgrammaticDisplayFunctionTesting\\2023-06-19\\kdiba_gor01_two_2006-6-12_16-53-46_DecodedEpochSlices_replays_long_results_obj.png\n",
      "active_identifying_ctx_string: \"kdiba|gor01|two|2006-6-12_16-53-46|DecodedEpochSlices|replays|short_results_obj|1of1|[ 0  1  2  3  4  5  6  7  8  9 10 11 12 13 14 15 16 17 18 19]\"\n",
      "active_identifying_ctx_string: \"kdiba|gor01|two|2006-6-12_16-53-46|DecodedEpochSlices|replays|short_results_obj|1of1|[ 0  1  2  3  4  5  6  7  8  9 10 11 12 13 14 15 16 17 18 19]\"\n",
      "\t saved C:\\Users\\pho\\repos\\Spike3DWorkEnv\\Spike3D\\EXTERNAL\\Screenshots\\ProgrammaticDisplayFunctionTesting\\2023-06-19\\kdiba_gor01_two_2006-6-12_16-53-46_DecodedEpochSlices_replays_short_results_obj.png\n",
      "Neptuner.stop() called!\n",
      "Shutting down background jobs, please wait a moment...\n",
      "Done!\n",
      "Waiting for the remaining 31 operations to synchronize with Neptune. Do not kill this process.\n",
      "All 31 operations synced, thanks for waiting!\n",
      "Explore the metadata in the Neptune app:\n",
      "https://app.neptune.ai/commander.pho/PhoDibaLongShortUpdated/e/LS2023-145/metadata\n",
      "Shutting down background jobs, please wait a moment...\n",
      "Done!\n",
      "All 0 operations synced, thanks for waiting!\n",
      "Explore the metadata in the Neptune app:\n",
      "https://app.neptune.ai/commander.pho/PhoDibaLongShortUpdated/metadata\n",
      "Neptuner stoppped.\n",
      "Neptuner.stop() called!\n",
      "Neptuner stoppped.\n"
     ]
    }
   ],
   "source": [
    "curr_active_pipeline.reload_default_display_functions()\n",
    "\n",
    "neptuner = batch_perform_all_plots(curr_active_pipeline, enable_neptune=True)\n"
   ]
  },
  {
   "cell_type": "code",
   "execution_count": 12,
   "id": "625fb457",
   "metadata": {},
   "outputs": [
    {
     "name": "stdout",
     "output_type": "stream",
     "text": [
      "https://app.neptune.ai/commander.pho/PhoDibaLongShortUpdated/\n",
      "https://app.neptune.ai/commander.pho/PhoDibaLongShortUpdated/e/LS2023-106\n",
      "Neptuner.stop() called!\n",
      "Shutting down background jobs, please wait a moment...\n",
      "Done!\n",
      "Waiting for the remaining 37 operations to synchronize with Neptune. Do not kill this process.\n",
      "All 37 operations synced, thanks for waiting!\n",
      "Explore the metadata in the Neptune app:\n",
      "https://app.neptune.ai/commander.pho/PhoDibaLongShortUpdated/e/LS2023-106/metadata\n",
      "Shutting down background jobs, please wait a moment...\n",
      "Done!\n",
      "All 0 operations synced, thanks for waiting!\n",
      "Explore the metadata in the Neptune app:\n",
      "https://app.neptune.ai/commander.pho/PhoDibaLongShortUpdated/metadata\n",
      "Neptuner stoppped.\n",
      "Neptuner.stop() called!\n",
      "Neptuner stoppped.\n"
     ]
    }
   ],
   "source": [
    "from pyphoplacecellanalysis.General.Batch.NeptuneAiHelpers import Neptuner\n",
    "neptuner = None\n",
    "if neptuner is None:\n",
    "\tneptuner = Neptuner.init_with_pipeline(curr_active_pipeline)\n",
    "try:\n",
    "\tsucceeded_fig_paths, failed_fig_paths = neptuner.upload_figures(curr_active_pipeline)\n",
    "\t# neptune_output_figures(curr_active_pipeline)\n",
    "except Exception as e:\n",
    "\tprint(f'in `_perform_plots(...)`: neptune_output_figures(...) failed with exception: {e}. Continuing.')\n",
    "finally:\n",
    "\tneptuner.stop()\n",
    "neptuner.stop()"
   ]
  },
  {
   "attachments": {},
   "cell_type": "markdown",
   "id": "7e7106ef",
   "metadata": {},
   "source": [
    "### Pipeline Loading/Saving [Optional]"
   ]
  },
  {
   "cell_type": "code",
   "execution_count": null,
   "id": "5a7f3fa3",
   "metadata": {},
   "outputs": [],
   "source": [
    "curr_active_pipeline.save_pipeline(saving_mode=PipelineSavingScheme.TEMP_THEN_OVERWRITE) # AttributeError: 'PfND_TimeDependent' object has no attribute '_included_thresh_neurons_indx'\n",
    "# TypeError: cannot pickle 'MplMultiTab' object\n",
    "# PicklingError: Can't pickle .set_closure_cell at 0x000002BF248F50D0>: it's not found as attr._compat.make_set_closure_cell..set_closure_cell\n",
    "# TypeError: cannot pickle 'PyQt5.QtCore.pyqtSignal' object"
   ]
  },
  {
   "cell_type": "code",
   "execution_count": null,
   "id": "c09c2afd",
   "metadata": {},
   "outputs": [],
   "source": [
    "curr_active_pipeline.save_pipeline(saving_mode=PipelineSavingScheme.OVERWRITE_IN_PLACE)"
   ]
  },
  {
   "cell_type": "code",
   "execution_count": null,
   "id": "12c4c775",
   "metadata": {},
   "outputs": [],
   "source": [
    "curr_active_pipeline.save_global_computation_results() # PicklingError: Can't pickle .set_closure_cell at 0x000002BF248F50D0>: it's not found as attr._compat.make_set_closure_cell..set_closure_cell"
   ]
  },
  {
   "cell_type": "code",
   "execution_count": null,
   "id": "dc47d835",
   "metadata": {},
   "outputs": [],
   "source": [
    "curr_active_pipeline.load_pickled_global_computation_results()"
   ]
  },
  {
   "cell_type": "code",
   "execution_count": null,
   "id": "241dc49f",
   "metadata": {},
   "outputs": [],
   "source": [
    "curr_active_pipeline.clear_display_outputs()\n",
    "curr_active_pipeline.clear_registered_output_files()"
   ]
  },
  {
   "cell_type": "code",
   "execution_count": null,
   "id": "ba716fe2",
   "metadata": {},
   "outputs": [],
   "source": [
    "curr_active_pipeline.save_global_computation_results()"
   ]
  },
  {
   "attachments": {},
   "cell_type": "markdown",
   "id": "1d819fa7",
   "metadata": {},
   "source": [
    "# Get output files:"
   ]
  },
  {
   "cell_type": "code",
   "execution_count": null,
   "id": "7ae44834",
   "metadata": {},
   "outputs": [],
   "source": [
    "from neuropy.core.session.Formats.BaseDataSessionFormats import DataSessionFormatBaseRegisteredClass\n",
    "from neuropy.core.session.KnownDataSessionTypeProperties import KnownDataSessionTypeProperties\n",
    "from neuropy.core.session.dataSession import DataSession\n",
    "from neuropy.core.session.Formats.SessionSpecifications import SessionFolderSpec, SessionFileSpec\n",
    "\n",
    "# 'ripple_df.pkl', .ripple.npy'\n",
    "\n",
    "# files_list = [curr_active_pipeline.sess.filePrefix.with_suffix(a_suffix) for a_suffix in session_folder_output_file_suffix_list]\n",
    "# files_list\n",
    "\n",
    "\"\"\"\n",
    "KDIBA/pin01/one/11-02_17-46-44/11-02_17-46-44.interpolated_spike_positions.npy,\"2023-06-07 01:03:36\",35290406\n",
    "KDIBA/pin01/one/11-02_17-46-44/11-02_17-46-44.mua.npy,\"2023-06-07 01:03:37\",7766554\n",
    "KDIBA/pin01/one/11-02_17-46-44/11-02_17-46-44.pbe.npy,\"2023-06-07 01:03:37\",10902\n",
    "KDIBA/pin01/one/11-02_17-46-44/11-02_17-46-44.position.npy,\"2023-06-07 01:03:36\",2446247\n",
    "\"\"\"\n",
    "\n",
    "session_name = curr_active_pipeline.session_name\n",
    "print(f'session_name: {session_name}')\n",
    "output_folder_spec: SessionFolderSpec = SessionFolderSpec(required=[\n",
    "        SessionFileSpec('loadedSessPickle.pkl', session_name, 'The primary .pkl file after computing the session', None),\n",
    "        SessionFileSpec('{}.interpolated_spike_positions.npy', session_name, 'A cached initial session computation', None),\n",
    "        SessionFileSpec('{}.mua.npy', session_name, 'A cached initial session computation', None),\n",
    "        SessionFileSpec('{}.pbe.npy', session_name, 'A cached initial session computation', None),\n",
    "        SessionFileSpec('{}.position.npy', session_name, 'A cached initial session computation', None),\n",
    "        SessionFileSpec('output/global_computation_results.pkl', session_name, 'The global_computation_results computed for the pipeline.', None),\n",
    "    ],\n",
    "    optional=[\n",
    "        SessionFileSpec('output/leave_one_out_results_short.pkl', session_name, 'Optional caching file.', None),\n",
    "        SessionFileSpec('output/leave_one_out_surprise_results_long.pkl', session_name, 'Optional caching file', None),\n",
    "        SessionFileSpec('ripple_df.pkl', session_name, 'SWR ripples computed by an external script from another repo.', None),\n",
    "        SessionFileSpec('{}.ripple.npy', session_name, 'Ripples computed by this repo and cached to the directory.', None),\n",
    "    ]\n",
    ")\n",
    "\n",
    "\n",
    "is_resolved, resolved_required_filespecs_dict, resolved_optional_filespecs_dict = output_folder_spec.validate(curr_active_pipeline.sess.basepath)\n",
    "\n",
    "if is_resolved:\n",
    "    print(f'resolved_required_filespecs_dict: {resolved_required_filespecs_dict}')\n",
    "    \n",
    "\n",
    "# out_dict = {}\n",
    "# out_dict['required_files'] = [str(a_path) for a_path in resolved_required_filespecs_dict.keys() if a_path.resolve().exists()]\n",
    "# out_dict['optional_files'] = [str(a_path) for a_path in resolved_optional_filespecs_dict.keys() if a_path.resolve().exists()]\n",
    "# out_dict\n",
    "\n",
    "# Get the list of strings for all output files that actually exist:\n",
    "all_output_file_paths: list[str] = [str(a_path) for a_path in resolved_required_filespecs_dict.keys() if a_path.resolve().exists()] + [str(a_path) for a_path in resolved_optional_filespecs_dict.keys() if a_path.resolve().exists()]\n",
    "all_output_file_paths\n"
   ]
  },
  {
   "cell_type": "code",
   "execution_count": null,
   "id": "5a0d80e0",
   "metadata": {},
   "outputs": [],
   "source": [
    "\n",
    "# curr_active_pipeline.register_output_file(output_path=output_path, \n",
    "curr_active_pipeline.registered_output_files_list\n",
    "curr_active_pipeline.registered_output_files\n",
    "# curr_active_pipeline.get_output_path()\n",
    "\n",
    "# reveal_in_system_file_manager(curr_active_pipeline.get_daily_programmatic_session_output_path())"
   ]
  },
  {
   "cell_type": "code",
   "execution_count": null,
   "id": "d15a17f8",
   "metadata": {},
   "outputs": [],
   "source": [
    "from pyphoplacecellanalysis.General.Pipeline.Stages.Loading import loadData, saveData\n",
    "\n",
    "# Save in case something goes wrong:\n",
    "temp_out_path = 'registered_output_files.pkl'\n"
   ]
  },
  {
   "cell_type": "code",
   "execution_count": null,
   "id": "20fea0fd",
   "metadata": {},
   "outputs": [],
   "source": [
    "saveData(temp_out_path, (curr_active_pipeline.registered_output_files.to_dict()))\n",
    "reveal_in_system_file_manager(temp_out_path)"
   ]
  },
  {
   "cell_type": "code",
   "execution_count": null,
   "id": "25050ca5",
   "metadata": {},
   "outputs": [],
   "source": [
    "test_registered_output_files = loadData(temp_out_path)\n",
    "test_registered_output_files\n",
    "curr_active_pipeline.registered_output_files = test_registered_output_files"
   ]
  },
  {
   "attachments": {},
   "cell_type": "markdown",
   "id": "c850782f",
   "metadata": {},
   "source": [
    "# End Run"
   ]
  },
  {
   "cell_type": "code",
   "execution_count": 8,
   "id": "dda48261",
   "metadata": {
    "tags": [
     "load",
     "ACTIVE"
    ]
   },
   "outputs": [],
   "source": [
    "## long_short_decoding_analyses:\n",
    "curr_long_short_decoding_analyses = curr_active_pipeline.global_computation_results.computed_data['long_short_leave_one_out_decoding_analysis']\n",
    "## Extract variables from results object:\n",
    "long_one_step_decoder_1D, short_one_step_decoder_1D, long_replays, short_replays, global_replays, long_shared_aclus_only_decoder, short_shared_aclus_only_decoder, shared_aclus, long_short_pf_neurons_diff, n_neurons, long_results_obj, short_results_obj, is_global = curr_long_short_decoding_analyses.long_decoder, curr_long_short_decoding_analyses.short_decoder, curr_long_short_decoding_analyses.long_replays, curr_long_short_decoding_analyses.short_replays, curr_long_short_decoding_analyses.global_replays, curr_long_short_decoding_analyses.long_shared_aclus_only_decoder, curr_long_short_decoding_analyses.short_shared_aclus_only_decoder, curr_long_short_decoding_analyses.shared_aclus, curr_long_short_decoding_analyses.long_short_pf_neurons_diff, curr_long_short_decoding_analyses.n_neurons, curr_long_short_decoding_analyses.long_results_obj, curr_long_short_decoding_analyses.short_results_obj, curr_long_short_decoding_analyses.is_global\n",
    "\n",
    "# (long_one_step_decoder_1D, short_one_step_decoder_1D), (long_one_step_decoder_2D, short_one_step_decoder_2D) = compute_short_long_constrained_decoders(curr_active_pipeline, recalculate_anyway=True)\n",
    "long_epoch_name, short_epoch_name, global_epoch_name = curr_active_pipeline.find_LongShortGlobal_epoch_names()\n",
    "long_epoch_context, short_epoch_context, global_epoch_context = [curr_active_pipeline.filtered_contexts[a_name] for a_name in (long_epoch_name, short_epoch_name, global_epoch_name)]\n",
    "long_session, short_session, global_session = [curr_active_pipeline.filtered_sessions[an_epoch_name] for an_epoch_name in [long_epoch_name, short_epoch_name, global_epoch_name]]\n",
    "long_results, short_results, global_results = [curr_active_pipeline.computation_results[an_epoch_name]['computed_data'] for an_epoch_name in [long_epoch_name, short_epoch_name, global_epoch_name]]\n",
    "long_computation_config, short_computation_config, global_computation_config = [curr_active_pipeline.computation_results[an_epoch_name]['computation_config'] for an_epoch_name in [long_epoch_name, short_epoch_name, global_epoch_name]]\n",
    "long_pf1D, short_pf1D, global_pf1D = long_results.pf1D, short_results.pf1D, global_results.pf1D\n",
    "long_pf2D, short_pf2D, global_pf2D = long_results.pf2D, short_results.pf2D, global_results.pf2D\n",
    "decoding_time_bin_size = long_one_step_decoder_1D.time_bin_size # 1.0/30.0 # 0.03333333333333333\n",
    "\n",
    "## Get global 'long_short_post_decoding' results:\n",
    "curr_long_short_post_decoding = curr_active_pipeline.global_computation_results.computed_data['long_short_post_decoding']\n",
    "expected_v_observed_result, curr_long_short_rr = curr_long_short_post_decoding.expected_v_observed_result, curr_long_short_post_decoding.rate_remapping\n",
    "rate_remapping_df, high_remapping_cells_only = curr_long_short_rr.rr_df, curr_long_short_rr.high_only_rr_df\n",
    "Flat_epoch_time_bins_mean, Flat_decoder_time_bin_centers, num_neurons, num_timebins_in_epoch, num_total_flat_timebins, is_short_track_epoch, is_long_track_epoch, short_short_diff, long_long_diff = expected_v_observed_result['Flat_epoch_time_bins_mean'], expected_v_observed_result['Flat_decoder_time_bin_centers'], expected_v_observed_result['num_neurons'], expected_v_observed_result['num_timebins_in_epoch'], expected_v_observed_result['num_total_flat_timebins'], expected_v_observed_result['is_short_track_epoch'], expected_v_observed_result['is_long_track_epoch'], expected_v_observed_result['short_short_diff'], expected_v_observed_result['long_long_diff']\n",
    "\n",
    "jonathan_firing_rate_analysis_result = JonathanFiringRateAnalysisResult(**curr_active_pipeline.global_computation_results.computed_data.jonathan_firing_rate_analysis.to_dict())"
   ]
  },
  {
   "cell_type": "code",
   "execution_count": null,
   "id": "eb2cef02",
   "metadata": {},
   "outputs": [],
   "source": [
    "# Clearing 'long_short_post_decoding'\n",
    "# del curr_active_pipeline.global_computation_results.computed_data['long_short_post_decoding']\n",
    "# drop_columns = [col for col in df2.columns if col in df1.columns]\n",
    "# df1 = df1.drop(drop_columns, axis=1)"
   ]
  },
  {
   "attachments": {},
   "cell_type": "markdown",
   "id": "48857334",
   "metadata": {},
   "source": [
    "# grid_bin_bounds calculation without user interaction"
   ]
  },
  {
   "cell_type": "code",
   "execution_count": null,
   "id": "dffb912e",
   "metadata": {},
   "outputs": [],
   "source": [
    "# global_session.laps.to_dataframe()\n",
    "lap_specific_epochs = curr_active_pipeline.sess.laps.as_epoch_obj().get_non_overlapping().filtered_by_duration(1.0, 30.0) # laps specifically for use in the placefields with non-overlapping, duration, constraints: the lap must be at least 1 second long and at most 30 seconds long\n",
    "\n",
    "pos_df = global_session.position.to_dataframe()\n",
    "# pos_df.time_slicer.slice("
   ]
  },
  {
   "cell_type": "code",
   "execution_count": null,
   "id": "70ebffc2",
   "metadata": {},
   "outputs": [],
   "source": [
    "\n",
    "laps_pos_df = global_session.position.to_dataframe()[global_session.position.to_dataframe().lap.notnull()]\n",
    "laps_only_grid_bin_bounds = PlacefieldComputationParameters.compute_grid_bin_bounds(laps_pos_df.x.to_numpy(), laps_pos_df.y.to_numpy())\n",
    "print(f'laps_only_grid_bin_bounds: {laps_only_grid_bin_bounds}')"
   ]
  },
  {
   "cell_type": "code",
   "execution_count": null,
   "id": "c0f6d500",
   "metadata": {},
   "outputs": [],
   "source": [
    "unfiltered_sess_grid_bin_bounds = PlacefieldComputationParameters.compute_grid_bin_bounds(curr_active_pipeline.sess.position.x, curr_active_pipeline.sess.position.y)\n",
    "print(f'unfiltered_sess_grid_bin_bounds: {unfiltered_sess_grid_bin_bounds}')\n",
    "# long_pos_df, short_pos_df, global_pos_df, all_pos_df = [a_sess.position.to_dataframe() for a_sess in (long_session, short_session, global_session, curr_active_pipeline.sess)]\n",
    "\n",
    "long_grid_bin_bounds, short_grid_bin_bounds, global_grid_bin_bounds, all_grid_bin_bounds = [PlacefieldComputationParameters.compute_grid_bin_bounds(a_sess.position.x, a_sess.position.y) for a_sess in (long_session, short_session, global_session, curr_active_pipeline.sess)]\n",
    "print(long_grid_bin_bounds, short_grid_bin_bounds, global_grid_bin_bounds, all_grid_bin_bounds, sep=\"\\n\")"
   ]
  },
  {
   "attachments": {},
   "cell_type": "markdown",
   "id": "d794a572",
   "metadata": {
    "tags": [
     "defer"
    ]
   },
   "source": [
    "# 2023-06-13 - Updating Object Persistance from the dates added to the local computations:\n",
    "TODO 2023-06-13 18:07: - [ ] The global_computation_results should check the `current_computation_completion_times` corresponding to the local functions that contribute results that they depend on (like 'pf1D', etc) to make sure they haven't changed. If they have changed, they should recompute."
   ]
  },
  {
   "cell_type": "code",
   "execution_count": null,
   "id": "cc28bcdb",
   "metadata": {},
   "outputs": [],
   "source": [
    "from pyphoplacecellanalysis.General.Pipeline.NeuropyPipeline import LoadedObjectPersistanceState\n",
    "from datetime import datetime\n",
    "# curr_active_pipeline.pipeline_compare_dict\n",
    "# curr_active_pipeline.computation_results['maze1']['computation_times']\n",
    "\t\n",
    "any_most_recent_computation_time, each_epoch_latest_computation_time, each_epoch_each_result_computation_completion_times = curr_active_pipeline.get_computation_times()\n",
    "each_epoch_each_result_computation_completion_times\n",
    "\n",
    "# any_latest_computation_time: 2023-06-13 17:40:44.628404\n",
    "# current_epoch_latest_computation_time: {'maze1': datetime.datetime(2023, 6, 13, 17, 39, 18, 195870), 'maze2': datetime.datetime(2023, 6, 13, 17, 40, 44, 628404), 'maze': datetime.datetime(2023, 6, 13, 17, 33, 33, 859610)}\n",
    "# current_computation_status: {'maze1': {'_perform_baseline_placefield_computation': datetime.datetime(2023, 6, 13, 17, 24, 17, 681574),\n",
    "#   '_perform_position_decoding_computation': datetime.datetime(2023, 6, 13, 17, 39, 18, 195870),\n",
    "#   '_perform_two_step_position_decoding_computation': datetime.datetime(2023, 6, 13, 17, 26, 17, 278340),\n",
    "#   '_perform_pf_find_ratemap_peaks_computation': datetime.datetime(2023, 6, 13, 17, 26, 21, 5364),\n",
    "#   '_perform_extended_statistics_computation': datetime.datetime(2023, 6, 13, 17, 26, 21, 31363),\n",
    "#   '_perform_firing_rate_trends_computation': datetime.datetime(2023, 6, 13, 17, 26, 22, 385595)},\n",
    "#  'maze2': {'_perform_baseline_placefield_computation': datetime.datetime(2023, 6, 13, 17, 26, 23, 665116),\n",
    "#   '_perform_position_decoding_computation': datetime.datetime(2023, 6, 13, 17, 40, 44, 628404),\n",
    "#   '_perform_two_step_position_decoding_computation': datetime.datetime(2023, 6, 13, 17, 28, 32, 360685),\n",
    "#   '_perform_pf_find_ratemap_peaks_computation': datetime.datetime(2023, 6, 13, 17, 28, 36, 25350),\n",
    "#   '_perform_extended_statistics_computation': datetime.datetime(2023, 6, 13, 17, 28, 36, 49351),\n",
    "#   '_perform_firing_rate_trends_computation': datetime.datetime(2023, 6, 13, 17, 28, 37, 302445)},\n",
    "#  'maze': {'_perform_baseline_placefield_computation': datetime.datetime(2023, 6, 13, 17, 28, 39, 869814),\n",
    "#   '_perform_position_decoding_computation': datetime.datetime(2023, 6, 13, 17, 31, 56, 800175),\n",
    "#   '_perform_two_step_position_decoding_computation': datetime.datetime(2023, 6, 13, 17, 33, 26, 857989),\n",
    "#   '_perform_pf_find_ratemap_peaks_computation': datetime.datetime(2023, 6, 13, 17, 33, 30, 796529),\n",
    "#   '_perform_extended_statistics_computation': datetime.datetime(2023, 6, 13, 17, 33, 30, 836528),\n",
    "#   '_perform_firing_rate_trends_computation': datetime.datetime(2023, 6, 13, 17, 33, 33, 859610)}}\n",
    "\n"
   ]
  },
  {
   "cell_type": "code",
   "execution_count": null,
   "id": "71b3b268",
   "metadata": {},
   "outputs": [],
   "source": [
    "curr_active_pipeline.active_completed_computation_result_names"
   ]
  },
  {
   "cell_type": "code",
   "execution_count": null,
   "id": "a37211a2",
   "metadata": {},
   "outputs": [],
   "source": [
    "curr_active_pipeline.pipeline_compare_dict"
   ]
  },
  {
   "cell_type": "code",
   "execution_count": null,
   "id": "c34fa1c2",
   "metadata": {},
   "outputs": [],
   "source": [
    "\n",
    "# ('computed_data', ('pf1D', 'pf2D', 'pf1D_Decoder', 'pf2D_Decoder', 'pf2D_TwoStepDecoder', 'RatemapPeaksAnalysis', 'extended_stats', 'firing_rate_trends'))\n"
   ]
  },
  {
   "attachments": {},
   "cell_type": "markdown",
   "id": "844354b4",
   "metadata": {
    "tags": []
   },
   "source": [
    "# 2023-05-26 - Expected vs Observed firing rates\n",
    "## 2023-05-30 Comments from Kourosh:\n",
    "- concern: is it valid to use the most-likely predicted position for each decoder for this? Isn't it a bit circular because the firing rates determine the likelihood of the position?\n",
    "- sign-rank is equivalent of paired t-test for non-parametric, use that to compare the means for each cell after averaging over replays to remove the noise from that\n",
    "- OPTION: could add a continuous plot that shows the difference between the two decoders and the animal's measured position as a function of time (observed_x - long_decoded_x), (observed_x - short_decoded_x).\n",
    "- [x] Plot just replay-to-replay series, removing the time axis"
   ]
  },
  {
   "cell_type": "code",
   "execution_count": null,
   "id": "bf1a25f4",
   "metadata": {},
   "outputs": [],
   "source": [
    "## Get global 'long_short_post_decoding' results:\n",
    "curr_long_short_post_decoding = curr_active_pipeline.global_computation_results.computed_data['long_short_post_decoding']\n",
    "expected_v_observed_result, curr_long_short_rr = curr_long_short_post_decoding.expected_v_observed_result, curr_long_short_post_decoding.rate_remapping\n",
    "rate_remapping_df, high_remapping_cells_only = curr_long_short_rr.rr_df, curr_long_short_rr.high_only_rr_df\n",
    "Flat_epoch_time_bins_mean, Flat_decoder_time_bin_centers, num_neurons, num_timebins_in_epoch, num_total_flat_timebins, is_short_track_epoch, is_long_track_epoch, short_short_diff, long_long_diff = expected_v_observed_result['Flat_epoch_time_bins_mean'], expected_v_observed_result['Flat_decoder_time_bin_centers'], expected_v_observed_result['num_neurons'], expected_v_observed_result['num_timebins_in_epoch'], expected_v_observed_result['num_total_flat_timebins'], expected_v_observed_result['is_short_track_epoch'], expected_v_observed_result['is_long_track_epoch'], expected_v_observed_result['short_short_diff'], expected_v_observed_result['long_long_diff']\n",
    "\n",
    "num_epochs: int = len(num_timebins_in_epoch)"
   ]
  },
  {
   "attachments": {},
   "cell_type": "markdown",
   "id": "70955f60",
   "metadata": {},
   "source": [
    "## 2023-05-30 - `plot_expected_vs_observed`"
   ]
  },
  {
   "cell_type": "code",
   "execution_count": null,
   "id": "29e4ab2e",
   "metadata": {},
   "outputs": [],
   "source": [
    "from pyphoplacecellanalysis.General.Pipeline.Stages.DisplayFunctions.MultiContextComparingDisplayFunctions.LongShortTrackComparingDisplayFunctions import _prepare_plot_expected_vs_observed\n",
    "\n",
    "fig, axes, final_context, active_out_figure_paths = _prepare_plot_expected_vs_observed(curr_active_pipeline, defer_render=False)"
   ]
  },
  {
   "cell_type": "code",
   "execution_count": null,
   "id": "4a2d06a7",
   "metadata": {},
   "outputs": [],
   "source": [
    "jonathan_firing_rate_analysis_result = JonathanFiringRateAnalysisResult(**curr_active_pipeline.global_computation_results.computed_data.jonathan_firing_rate_analysis.to_dict())"
   ]
  },
  {
   "cell_type": "code",
   "execution_count": null,
   "id": "33ac6c8d",
   "metadata": {},
   "outputs": [],
   "source": [
    "jonathan_firing_rate_analysis_result.rdf.rdf"
   ]
  },
  {
   "cell_type": "code",
   "execution_count": null,
   "id": "bdc9c2e5",
   "metadata": {},
   "outputs": [],
   "source": [
    "jonathan_firing_rate_analysis_result.time_binned_instantaneous_unit_specific_spike_rate.time_bins #.shape"
   ]
  },
  {
   "cell_type": "code",
   "execution_count": null,
   "id": "785ca961",
   "metadata": {},
   "outputs": [],
   "source": [
    "import matplotlib\n",
    "%matplotlib qt\n",
    "import matplotlib.pyplot as plt\n",
    "instantaneous_fr_df = deepcopy(jonathan_firing_rate_analysis_result.time_binned_instantaneous_unit_specific_spike_rate.instantaneous_unit_specific_spike_rate_values)\n",
    "instantaneous_fr_df['t'] = jonathan_firing_rate_analysis_result.time_binned_instantaneous_unit_specific_spike_rate.time_bins\n",
    "instantaneous_fr_df #.plot()\n",
    "\n",
    "smoothed_instantaneous_fr_df = instantaneous_fr_df.ewm(span=60).mean()\n",
    "\n",
    "smoothed_instantaneous_fr_df.plot(x='t')\n",
    "plt.title(\"Instantaneous Firing Rates\")\n",
    "plt.xlabel('time')\n",
    "plt.ylabel('Firing Rate (Hz)')"
   ]
  },
  {
   "cell_type": "code",
   "execution_count": null,
   "id": "345b3cca",
   "metadata": {},
   "outputs": [],
   "source": [
    "instantaneous_fr_df.set_index('t').to_clipboard()"
   ]
  },
  {
   "cell_type": "code",
   "execution_count": null,
   "id": "c7ff9bb5",
   "metadata": {},
   "outputs": [],
   "source": [
    "## Require placefield presence on either the long or the short\n",
    "jonathan_firing_rate_analysis_result.neuron_replay_stats_df = jonathan_firing_rate_analysis_result.neuron_replay_stats_df[np.logical_or(jonathan_firing_rate_analysis_result.neuron_replay_stats_df['has_long_pf'], jonathan_firing_rate_analysis_result.neuron_replay_stats_df['has_short_pf'])]"
   ]
  },
  {
   "cell_type": "code",
   "execution_count": null,
   "id": "87851fff",
   "metadata": {},
   "outputs": [],
   "source": [
    "jonathan_firing_rate_analysis_result.neuron_replay_stats_df[np.logical_or(jonathan_firing_rate_analysis_result.neuron_replay_stats_df['has_long_pf'], jonathan_firing_rate_analysis_result.neuron_replay_stats_df['has_short_pf'])].index.to_numpy()"
   ]
  },
  {
   "attachments": {},
   "cell_type": "markdown",
   "id": "8de2e3da",
   "metadata": {},
   "source": [
    "# 2023-05-19 - Testing S-only emergence, L-only replays in S, peak position remappings "
   ]
  },
  {
   "cell_type": "code",
   "execution_count": null,
   "id": "d082385f",
   "metadata": {},
   "outputs": [],
   "source": [
    "from pyphoplacecellanalysis.General.Pipeline.Stages.ComputationFunctions.MultiContextComputationFunctions.LongShortTrackComputations import JonathanFiringRateAnalysisResult\n",
    "\n",
    "jonathan_firing_rate_analysis_result = JonathanFiringRateAnalysisResult(**curr_active_pipeline.global_computation_results.computed_data.jonathan_firing_rate_analysis.to_dict())\n",
    "neuron_replay_stats_df = jonathan_firing_rate_analysis_result.neuron_replay_stats_df.copy()\n",
    "neuron_replay_stats_df"
   ]
  },
  {
   "cell_type": "code",
   "execution_count": null,
   "id": "5e3836e0",
   "metadata": {},
   "outputs": [],
   "source": [
    "neuron_replay_stats_df.sort_values(by=['long_pf_peak_x'], inplace=False, ascending=True)"
   ]
  },
  {
   "cell_type": "code",
   "execution_count": null,
   "id": "d23e5131",
   "metadata": {},
   "outputs": [],
   "source": [
    "\n",
    "from pyphoplacecellanalysis.General.Mixins.CrossComputationComparisonHelpers import SplitPartitionMembership, SetPartition\n",
    "## 2023-05-19 - Get S-only pfs\n",
    "is_S_pf_only = np.logical_and(np.logical_not(neuron_replay_stats_df['has_long_pf']), neuron_replay_stats_df['has_short_pf'])\n",
    "is_S_only = neuron_replay_stats_df.track_membership == SplitPartitionMembership.RIGHT_ONLY\n",
    "assert (is_S_pf_only == is_S_only).all()\n",
    "S_only_aclus = neuron_replay_stats_df.index[is_S_only].to_numpy()\n",
    "neuron_replay_stats_df[is_S_pf_only]\n"
   ]
  },
  {
   "cell_type": "code",
   "execution_count": null,
   "id": "3bc5b2a5",
   "metadata": {},
   "outputs": [],
   "source": [
    "\n",
    "## Show L-only pfs stop replaying on S\n",
    "is_L_pf_only = np.logical_and(np.logical_not(neuron_replay_stats_df['has_short_pf']), neuron_replay_stats_df['has_long_pf'])\n",
    "is_L_only = neuron_replay_stats_df.track_membership == SplitPartitionMembership.LEFT_ONLY\n",
    "assert (is_L_pf_only == is_L_only).all()\n",
    "L_only_aclus = neuron_replay_stats_df.index[is_L_only].to_numpy()\n",
    "neuron_replay_stats_df[is_L_only]\n",
    "\n",
    "\n",
    "## For ('kdiba', 'gor01', 'one', '2006-6-09_1-22-43') - Have L-only cells [24, 98] that have ['short_num_replays'] = [8, 7]. We were hoping that there would be few to no replays on the S-track that involved L-only cells."
   ]
  },
  {
   "cell_type": "code",
   "execution_count": null,
   "id": "5b3bdd19",
   "metadata": {},
   "outputs": [],
   "source": [
    "## 2023-05-23 - Get Common (SHARED) placefields\n",
    "## Goal 1: From the cells with the placefields on both tracks, compute the degree to which they remap in position and sort them according to their distance.\n",
    "is_BOTH_pf_only = np.logical_and(neuron_replay_stats_df['has_short_pf'], neuron_replay_stats_df['has_long_pf']) # (63,)\n",
    "BOTH_pf_only_aclus = neuron_replay_stats_df.index[is_BOTH_pf_only].to_numpy()\n",
    "\n",
    "## NOTE: is_BOTH_pf_only is a much more stringent requirement (and a strict subset) than `is_BOTH_only`\n",
    "is_BOTH_only = neuron_replay_stats_df.track_membership == SplitPartitionMembership.SHARED # (99,)\n",
    "BOTH_only_aclus = neuron_replay_stats_df.index[is_BOTH_only].to_numpy()\n",
    "assert BOTH_only_aclus.shape[0] >= BOTH_pf_only_aclus.shape[0]\n",
    "\n",
    "BOTH_pf_only_df = neuron_replay_stats_df[is_BOTH_pf_only].copy()\n",
    "BOTH_pf_only_df['long_short_pf_peak_x_displacement'] = BOTH_pf_only_df['long_pf_peak_x'].values - BOTH_pf_only_df['short_pf_peak_x'].values\n",
    "BOTH_pf_only_df['long_short_pf_peak_x_distance'] = BOTH_pf_only_df['long_short_pf_peak_x_displacement'].abs()\n",
    "BOTH_pf_only_df.sort_values(by=['long_short_pf_peak_x_distance'], inplace=True, ascending=False)\n",
    "BOTH_pf_only_df\n",
    "\n",
    "#TODO 2023-05-23 - Can do more detailed peaks analysis with: long_results.RatemapPeaksAnalysis and short_results.RatemapPeaksAnalysis\n",
    "\n"
   ]
  },
  {
   "cell_type": "code",
   "execution_count": null,
   "id": "e3f51c29",
   "metadata": {},
   "outputs": [],
   "source": [
    "\"\"\" 24 cells, 133 Epochs, 789 Total Timebins\n",
    "# Other\n",
    "\t\n",
    "\t- is_non_firing_time_bin: numpy.ndarray - (24, 789)\n",
    "\t- all_epochs_num_epoch_time_bins: numpy.ndarray - (133,)\n",
    "\t\n",
    "    ## Indexing Helpers:\n",
    "\t\t- all_epochs_reverse_flat_epoch_indicies_array: numpy.ndarray - (789,)\n",
    "\t\t- split_by_epoch_reverse_flattened_time_bin_indicies: list - (133,)\n",
    "    \n",
    "\t- original_1D_decoder: pyphoplacecellanalysis.Analysis.Decoder.reconstruction.BasePositionDecoder\n",
    "\t\t- pf: neuropy.analyses.placefields.PfND\n",
    "\t\t- neuron_IDXs: numpy.ndarray - (24,)\n",
    "\t\t- neuron_IDs: numpy.ndarray - (24,)\n",
    "\t\t- F: numpy.ndarray - (119, 24)\n",
    "\t\t- P_x: numpy.ndarray - (119, 1)\n",
    "        \n",
    "\t- flat_all_epochs_decoded_epoch_time_bins: numpy.ndarray - (24, 789)\n",
    "\n",
    "# Measured\n",
    "\t- flat_all_epochs_measured_cell_spike_counts: numpy.ndarray - (24, 789)\n",
    "\t- flat_all_epochs_measured_cell_firing_rates: numpy.ndarray - (24, 789)\n",
    "\n",
    "\n",
    "# Expected\n",
    "\t- flat_all_epochs_computed_expected_cell_firing_rates: numpy.ndarray - (24, 789)\n",
    "\t- flat_all_epochs_difference_from_expected_cell_spike_counts: numpy.ndarray - (24, 789)\n",
    "\t- flat_all_epochs_difference_from_expected_cell_firing_rates: numpy.ndarray - (24, 789)\n",
    "    \n",
    "    \n",
    "    \n",
    "## Epoch-based\n",
    "\t- all_epochs_decoded_epoch_time_bins_mean: numpy.ndarray - (133, 24)\n",
    "\n",
    "    \n",
    "    \n",
    "    \n",
    "- flat_all_epochs_measured_cell_firing_rates: numpy.ndarray - .shape: (24, 789) \n",
    "- flat_all_epochs_computed_expected_cell_firing_rates: numpy.ndarray - .shape: (24, 789)\n",
    "\n",
    "\n",
    "\"\"\""
   ]
  },
  {
   "cell_type": "code",
   "execution_count": null,
   "id": "f0b3a9f1",
   "metadata": {},
   "outputs": [],
   "source": [
    "long_results_obj.flat_all_epochs_computed_expected_cell_firing_rates\n",
    "long_results_obj.flat_all_epochs_measured_cell_firing_rates\n",
    "\n",
    "# long_results_obj.result_df_grouped\n",
    "\n",
    "measured_dfs = pd.DataFrame(long_results_obj.flat_all_epochs_measured_cell_firing_rates.T, columns=long_results_obj.original_1D_decoder.neuron_IDs)\n",
    "expected_dfs = pd.DataFrame(long_results_obj.flat_all_epochs_computed_expected_cell_firing_rates.T, columns=long_results_obj.original_1D_decoder.neuron_IDs)\n",
    "# pd.DataFrame(np.stack((long_results_obj.flat_all_epochs_measured_cell_firing_rates, long_results_obj.flat_all_epochs_computed_expected_cell_firing_rates)), columns=['measured_fr', 'expected_fr'])\n",
    "measured_dfs.plot()\n"
   ]
  },
  {
   "cell_type": "code",
   "execution_count": null,
   "id": "4d8566f2",
   "metadata": {},
   "outputs": [],
   "source": [
    "jonathan_firing_rate_analysis_result.neuron_replay_stats_df.to_clipboard()"
   ]
  },
  {
   "cell_type": "code",
   "execution_count": null,
   "id": "10cdb9f2",
   "metadata": {},
   "outputs": [],
   "source": [
    "from pyphoplacecellanalysis.General.Pipeline.Stages.ComputationFunctions.MultiContextComputationFunctions.LongShortTrackComputations import compute_evening_morning_parition\n",
    "\n",
    "difference_sorted_aclus, evening_sorted_aclus, morning_sorted_aclus = compute_evening_morning_parition(neuron_replay_stats_df, debug_print=True)\n",
    "sorted_neuron_replay_stats_df = neuron_replay_stats_df.reindex(difference_sorted_aclus).copy() # This seems to work to re-sort the dataframe by the sort indicies\n",
    "sorted_neuron_replay_stats_df"
   ]
  },
  {
   "cell_type": "code",
   "execution_count": null,
   "id": "7524856f",
   "metadata": {},
   "outputs": [],
   "source": [
    "from neuropy.core.neurons import NeuronType\n",
    "\n",
    "%matplotlib qt\n",
    "# Look at replays during ripples vs. those not during ripples. Also potentially PBEs vs. not PBEs.\n",
    "\n",
    "# NeuronType.from_any_string_series(['pyr','intr'])\n",
    "'pyr','cont','intr'\n",
    "\n",
    "active_identifying_session_ctx = curr_active_pipeline.sess.get_context() # 'bapun_RatN_Day4_2019-10-15_11-30-06'\n",
    "curr_active_pipeline.display('_display_jonathan_interactive_replay_firing_rate_comparison', active_identifying_session_ctx, included_neuron_types=NeuronType.from_any_string_series(['pyr'])) # only the pyramidal neurons"
   ]
  },
  {
   "cell_type": "code",
   "execution_count": null,
   "id": "bc7ebf69",
   "metadata": {},
   "outputs": [],
   "source": [
    "curr_active_pipeline.reload_default_display_functions()"
   ]
  },
  {
   "cell_type": "code",
   "execution_count": null,
   "id": "68f61971",
   "metadata": {},
   "outputs": [],
   "source": [
    "curr_active_pipeline.display('_display_jonathan_interactive_replay_firing_rate_comparison', active_identifying_session_ctx, included_neuron_types=NeuronType.from_any_string_series(['intr']), require_placefield=False) # only the pyramidal neurons"
   ]
  },
  {
   "cell_type": "code",
   "execution_count": null,
   "id": "0859e13d",
   "metadata": {},
   "outputs": [],
   "source": [
    "from pyphoplacecellanalysis.General.Mixins.CrossComputationComparisonHelpers import build_replays_custom_scatter_markers, CustomScatterMarkerMode\n",
    "\n",
    "_curr_included_aclus = jonathan_firing_rate_analysis_result.neuron_replay_stats_df[np.logical_or(jonathan_firing_rate_analysis_result.neuron_replay_stats_df['has_long_pf'], jonathan_firing_rate_analysis_result.neuron_replay_stats_df['has_short_pf'])].index.to_numpy()\n",
    "_curr_output = curr_active_pipeline.display('_display_batch_pho_jonathan_replay_firing_rate_comparison', active_identifying_session_ctx, included_unit_neuron_IDs=_curr_included_aclus, marker_split_mode=CustomScatterMarkerMode.NoSplit)"
   ]
  },
  {
   "attachments": {},
   "cell_type": "markdown",
   "id": "d69eed8a",
   "metadata": {},
   "source": [
    "## 2023-04-13 - Shuffled Surprise\n",
    "\"\"\" \n",
    "Relevant Functions:\n",
    "`perform_full_session_leave_one_out_decoding_analysis`:\n",
    "\t`perform_leave_one_aclu_out_decoding_analysis`:\tfrom pyphoplacecellanalysis.Analysis.Decoder.decoder_result import perform_leave_one_aclu_out_decoding_analysis\n",
    "\t`_analyze_leave_one_out_decoding_results`: from pyphoplacecellanalysis.General.Pipeline.Stages.ComputationFunctions.DefaultComputationFunctions import _analyze_leave_one_out_decoding_results\n",
    "\"\"\"\n"
   ]
  },
  {
   "cell_type": "code",
   "execution_count": null,
   "id": "0aac42d4",
   "metadata": {},
   "outputs": [],
   "source": [
    "# 2023-04-18 - Refactored into decoder_result\n",
    "result, result_df, result_df_grouped = long_results_obj.result, long_results_obj.result_df, long_results_obj.result_df_grouped"
   ]
  },
  {
   "cell_type": "code",
   "execution_count": null,
   "id": "c107570f",
   "metadata": {},
   "outputs": [],
   "source": [
    "from pyphoplacecellanalysis.Analysis.Decoder.decoder_result import DiagnosticDistanceMetricFigure\n",
    "\n",
    "## Render the internactive slider that allows selecting the timebin index to debug\n",
    "n_timebins = np.sum(long_results_obj.all_epochs_num_epoch_time_bins)\n",
    "timebinned_neuron_info = long_results_obj.timebinned_neuron_info\n",
    "result = long_results_obj.new_result\n",
    "active_fig_obj, update_function = DiagnosticDistanceMetricFigure.build_interactive_diagnostic_distance_metric_figure(long_results_obj, timebinned_neuron_info, result)\n",
    "active_fig_obj.integer_slider(n_timebins=n_timebins, update_func=update_function)"
   ]
  },
  {
   "cell_type": "code",
   "execution_count": null,
   "id": "7670bfae",
   "metadata": {},
   "outputs": [],
   "source": [
    "\n",
    "# 1. Get set of cells active in a given time bin, for each compute the surprise of its placefield with the leave-one-out decoded posterior.\n",
    "\n",
    "# 2. From the remainder of cells (those not active), randomly choose one to grab the placefield of and compute the surprise with that and the same posterior.\n",
    "\n",
    "# Expectation: The cells that are included in the time bin are expected to have a lower surprise (be less correlated with) the posterior."
   ]
  },
  {
   "cell_type": "code",
   "execution_count": null,
   "id": "c1692fd1",
   "metadata": {
    "tags": [
     "active"
    ]
   },
   "outputs": [],
   "source": [
    "win, plots = plot_long_short_surprise_difference_plot(curr_active_pipeline, long_results_obj, short_results_obj, long_epoch_name, short_epoch_name)\n"
   ]
  },
  {
   "cell_type": "code",
   "execution_count": null,
   "id": "118c3089",
   "metadata": {},
   "outputs": [],
   "source": [
    "long_results_obj.timebinned_neuron_info.n_timebins # 736\n",
    "short_results_obj.timebinned_neuron_info.n_timebins"
   ]
  },
  {
   "cell_type": "code",
   "execution_count": null,
   "id": "893964b2",
   "metadata": {},
   "outputs": [],
   "source": [
    "long_results_obj.flat_all_epochs_measured_cell_firing_rates.shape # (30, 736)\n",
    "# short_results_obj.flat_all_epochs_measured_cell_firing_rates.shape # (30, 736)\n",
    "\n"
   ]
  },
  {
   "cell_type": "code",
   "execution_count": null,
   "id": "bae2e695",
   "metadata": {
    "tags": [
     "active",
     "NOW_05-25",
     "expected_vs_observed"
    ]
   },
   "outputs": [],
   "source": [
    "win, plots_tuple, legend = plot_long_short_expected_vs_observed_firing_rates(long_results_obj, short_results_obj, limit_aclus=list(BOTH_pf_only_df.index[:2].values))\n",
    "long_epoch_indicator_region_items, short_epoch_indicator_region_items = _helper_add_long_short_session_indicator_regions(win, long_epoch=curr_active_pipeline.filtered_epochs[long_epoch_name], short_epoch=curr_active_pipeline.filtered_epochs[short_epoch_name])"
   ]
  },
  {
   "cell_type": "code",
   "execution_count": null,
   "id": "0f55bb1b",
   "metadata": {},
   "outputs": [],
   "source": [
    "from pyphoplacecellanalysis.General.Mixins.ExportHelpers import export_pyqtgraph_plot # works pretty well seemingly\n",
    "\n",
    "export_pyqtgraph_plot(win)\n",
    "# pg.setConfigOption('leftTitle', 'MathText')\n",
    "# win.setTitle(r'JSD(p_x_given_n, pf[<font size=\"4\"><b><span style=\"color:red;\">i</span></b></font>]) - JSD(p_x_given_n, pf[<font size=\"4\"><b>j</b></font>]) where <font size=\"4\"><b>j</b></font> non-firing')\n",
    "\n",
    "# win.setTitle(generate_html_string(f'JSD(p_x_given_n, pf[{i_str}]) - JSD(p_x_given_n, pf[{j_str}]) where {j_str} non-firing', font_size=8))\n",
    "\n",
    "# r'$\\fn{JSD}{\\matr{pf}_{i}, \\Pr{\\vec{x}_{t}|\\vec{n}_{t}}} - \\fn{JSD}{\\matr{pf}_{j}, \\Pr{\\vec{x}_{t}|\\vec{n}_{t}}}$'\n",
    "# title_str"
   ]
  },
  {
   "attachments": {},
   "cell_type": "markdown",
   "id": "1f996fd9",
   "metadata": {},
   "source": [
    "## Pre 2023-04-13"
   ]
  },
  {
   "cell_type": "code",
   "execution_count": null,
   "id": "33b6ac25",
   "metadata": {},
   "outputs": [],
   "source": [
    "import matplotlib\n",
    "import matplotlib.pyplot as plt\n",
    "%matplotlib qt\n",
    "\n",
    "from pyphoplacecellanalysis.Analysis.Decoder.decoder_result import plot_kourosh_activity_style_figure\n",
    "\n",
    "from neuropy.core.neurons import NeuronType\n",
    "# # Include only pyramidal aclus:\n",
    "# print(f'all shared_aclus: {len(shared_aclus)}\\nshared_aclus: {shared_aclus}')\n",
    "# shared_aclu_neuron_type = long_session.neurons.neuron_type[np.isin(long_session.neurons.neuron_ids, shared_aclus)]\n",
    "# assert len(shared_aclu_neuron_type) == len(shared_aclus)\n",
    "# # Find only the aclus that are pyramidal:\n",
    "# is_shared_aclu_pyramidal = (shared_aclu_neuron_type == NeuronType.PYRAMIDAL)\n",
    "# pyramidal_only_shared_aclus = shared_aclus[is_shared_aclu_pyramidal]\n",
    "# print(f'num pyramidal_only_shared_aclus: {len(pyramidal_only_shared_aclus)}\\npyramidal_only_shared_aclus: {pyramidal_only_shared_aclus}')\n",
    "\n",
    "\n",
    "## Drop Pyramidal but don't use only shared aclus:\n",
    "all_aclus = deepcopy(long_session.neurons.neuron_ids)\n",
    "neuron_type = long_session.neurons.neuron_type\n",
    "assert len(neuron_type) == len(all_aclus)\n",
    "# Find only the aclus that are pyramidal:\n",
    "is_aclu_pyramidal = (neuron_type == NeuronType.PYRAMIDAL)\n",
    "pyramidal_only_all_aclus = all_aclus[is_aclu_pyramidal]\n",
    "print(f'num pyramidal_only_all_aclus: {len(pyramidal_only_all_aclus)}\\npyramidal_only_all_aclus: {pyramidal_only_all_aclus}')\n",
    "\n",
    "is_aclu_interneuron = (neuron_type == NeuronType.INTERNEURONS)\n",
    "interneuron_only_all_aclus = all_aclus[is_aclu_interneuron]\n",
    "print(f'num interneuron_only_all_aclus: {len(interneuron_only_all_aclus)}\\ninterneurons: {interneuron_only_all_aclus}')\n",
    "\n",
    "# app, win, plots, plots_data = plot_kourosh_activity_style_figure(long_results_obj, long_session, shared_aclus, epoch_idx=5, callout_epoch_IDXs=[0,1,2,3], skip_rendering_callouts=True)\n",
    "# app, win, plots, plots_data = plot_kourosh_activity_style_figure(long_results_obj, long_session, pyramidal_only_shared_aclus, epoch_idx=2, callout_epoch_IDXs=[0,4], skip_rendering_callouts=False)\n",
    "app, win, plots, plots_data = plot_kourosh_activity_style_figure(long_results_obj, long_session, pyramidal_only_all_aclus, epoch_idx=6, callout_epoch_IDXs=[2,4,6], skip_rendering_callouts=False)"
   ]
  },
  {
   "cell_type": "code",
   "execution_count": null,
   "id": "985977d8",
   "metadata": {},
   "outputs": [],
   "source": [
    "\n",
    "# Use the Jupyter Index Thing\n",
    "from pyphoplacecellanalysis.Analysis.Decoder.decoder_result import DiagnosticDistanceMetricFigure\n",
    "\n",
    "## Render the internactive slider that allows selecting the timebin index to debug\n",
    "n_timebins = np.sum(long_results_obj.all_epochs_num_epoch_time_bins)\n",
    "timebinned_neuron_info = long_results_obj.timebinned_neuron_info\n",
    "result = long_results_obj.new_result\n",
    "active_fig_obj, update_function = DiagnosticDistanceMetricFigure.build_interactive_diagnostic_distance_metric_figure(long_results_obj, timebinned_neuron_info, result)\n",
    "active_fig_obj.integer_slider(n_timebins=n_timebins, update_func=update_function)"
   ]
  },
  {
   "cell_type": "code",
   "execution_count": null,
   "id": "3e1aa692",
   "metadata": {},
   "outputs": [],
   "source": [
    "active_fig_obj.export()"
   ]
  },
  {
   "cell_type": "code",
   "execution_count": null,
   "id": "5ea983fe",
   "metadata": {},
   "outputs": [],
   "source": [
    "app, win, plots, plots_data = plot_kourosh_activity_style_figure(long_results_obj, long_session, pyramidal_only_all_aclus, epoch_idx=11, callout_epoch_IDXs=[0,1,2, 3, 4, 5], skip_rendering_callouts=False)"
   ]
  },
  {
   "attachments": {},
   "cell_type": "markdown",
   "id": "2fe80559",
   "metadata": {},
   "source": [
    "# 2023-04-13 - Find Good looking epochs:"
   ]
  },
  {
   "cell_type": "code",
   "execution_count": null,
   "id": "5fa9a519",
   "metadata": {
    "tags": [
     "ACTIVE_NOW"
    ]
   },
   "outputs": [],
   "source": [
    "import matplotlib.pyplot as plt\n",
    "%matplotlib qt\n",
    "import matplotlib.patheffects as path_effects\n",
    "\n",
    "from pyphoplacecellanalysis.Pho2D.stacked_epoch_slices import DecodedEpochSlicesPaginatedFigureController\n",
    "\n",
    "curr_results_obj = long_results_obj\n",
    "active_identifying_session_ctx = curr_active_pipeline.sess.get_context()\n",
    "_out_pagination_controller = DecodedEpochSlicesPaginatedFigureController.init_from_decoder_data(curr_results_obj.active_filter_epochs, curr_results_obj.all_included_filter_epochs_decoder_result, \n",
    "\txbin=curr_results_obj.original_1D_decoder.xbin, global_pos_df=global_session.position.df, a_name='TestDecodedEpochSlicesPaginationController', active_context=active_identifying_session_ctx,  max_subplots_per_page=200) # 10\n",
    "# _out_pagination_controller"
   ]
  },
  {
   "attachments": {},
   "cell_type": "markdown",
   "id": "3f0018ec",
   "metadata": {},
   "source": [
    "### 2023-05-30 - Add the radon-transformed linear fits to each epoch to the stacked epoch plots:"
   ]
  },
  {
   "cell_type": "code",
   "execution_count": null,
   "id": "2443fed1",
   "metadata": {},
   "outputs": [],
   "source": [
    "from neuropy.utils.result_context import IdentifyingContext\n",
    "from pyphoplacecellanalysis.Pho2D.stacked_epoch_slices import DecodedEpochSlicesPaginatedFigureController\n",
    "from pyphoplacecellanalysis.General.Pipeline.Stages.DisplayFunctions.DecoderPredictionError import plot_decoded_epoch_slices_paginated\n",
    "\n",
    "_out_pagination_controller, active_out_figure_paths, final_context = plot_decoded_epoch_slices_paginated(curr_active_pipeline, long_results_obj, curr_active_pipeline.build_display_context_for_session(display_fn_name='DecodedEpochSlices', epochs='replays', decoder='long_results_obj'), save_figure=True)\n"
   ]
  },
  {
   "cell_type": "code",
   "execution_count": null,
   "id": "a8407362",
   "metadata": {},
   "outputs": [],
   "source": [
    "_out_pagination_controller, active_out_figure_paths, final_context = plot_decoded_epoch_slices_paginated(curr_active_pipeline, short_results_obj, curr_active_pipeline.build_display_context_for_session(display_fn_name='DecodedEpochSlices', epochs='replays', decoder='short_results_obj'), save_figure=True)\n"
   ]
  },
  {
   "cell_type": "code",
   "execution_count": null,
   "id": "053623be",
   "metadata": {},
   "outputs": [],
   "source": [
    "from pyphoplacecellanalysis.General.Pipeline.Stages.DisplayFunctions.MultiContextComparingDisplayFunctions.LongShortTrackComparingDisplayFunctions import _prepare_plot_long_and_short_epochs\n",
    "\n",
    "(pagination_controller_L, pagination_controller_S), (fig_L, fig_S), (ax_L, ax_S), (final_context_L, final_context_S), (active_out_figure_paths_L, active_out_figure_paths_S) = _prepare_plot_long_and_short_epochs(curr_active_pipeline, defer_render=False)"
   ]
  },
  {
   "attachments": {},
   "cell_type": "markdown",
   "id": "e0409e08",
   "metadata": {},
   "source": [
    "# Other Programmatic Figures"
   ]
  },
  {
   "cell_type": "code",
   "execution_count": null,
   "id": "d86bf7a0",
   "metadata": {},
   "outputs": [],
   "source": [
    "curr_active_pipeline.registered_output_files\n",
    "# curr_active_pipeline.registered_output_files_list"
   ]
  },
  {
   "cell_type": "code",
   "execution_count": 9,
   "id": "a4a5a83f",
   "metadata": {},
   "outputs": [
    {
     "name": "stdout",
     "output_type": "stream",
     "text": [
      "shared_aclus: [2, 3, 4, 5, 6, 9, 10, 11, 12, 13, 14, 15, 16, 17, 18, 19, 20, 21, 22, 23, 24, 25, 26, 27, 28, 29, 30, 31, 32, 33, 34, 35, 36, 37, 39, 40, 41, 42, 43, 44, 45, 46, 47, 48, 49, 50, 52, 54, 55, 56, 57, 58]\n",
      "long_only_aclus: [38, 51, 53, 59, 60]\n",
      "short_only_aclus: [7, 8]\n",
      "shared_aclus: [2, 3, 4, 5, 6, 9, 10, 11, 12, 13, 14, 15, 16, 17, 18, 19, 20, 21, 22, 23, 24, 25, 26, 27, 28, 29, 30, 31, 32, 33, 34, 35, 36, 37, 39, 40, 41, 42, 43, 44, 45, 46, 47, 48, 49, 50, 52, 54, 55, 56, 57, 58]\n",
      "long_only_aclus: [38, 51, 53, 59, 60]\n",
      "short_only_aclus: [7, 8]\n",
      "include_includelist: ['maze1', 'maze2', 'maze']\n",
      "long_epoch_name: maze1, short_epoch_name: maze2, global_epoch_name: maze\n",
      "\t saved C:\\Users\\pho\\repos\\Spike3DWorkEnv\\Spike3D\\EXTERNAL\\Screenshots\\ProgrammaticDisplayFunctionTesting\\2023-06-16\\kdiba_gor01_two_2006-6-12_16-53-46_BatchPhoJonathanReplayFRC_long_only_[38, 51, 53, 59, 60].png\n",
      "include_includelist: ['maze1', 'maze2', 'maze']\n",
      "long_epoch_name: maze1, short_epoch_name: maze2, global_epoch_name: maze\n",
      "\t saved C:\\Users\\pho\\repos\\Spike3DWorkEnv\\Spike3D\\EXTERNAL\\Screenshots\\ProgrammaticDisplayFunctionTesting\\2023-06-16\\kdiba_gor01_two_2006-6-12_16-53-46_BatchPhoJonathanReplayFRC_short_only_[7, 8].png\n",
      "include_includelist: ['maze1', 'maze2', 'maze']\n",
      "long_epoch_name: maze1, short_epoch_name: maze2, global_epoch_name: maze\n",
      "WARNING: aclu 4 is not present in the pf1D_all ratemaps. Which contain aclus: [2, 3, 5, 6, 7, 8, 11, 12, 13, 14, 15, 17, 19, 20, 21, 22, 23, 24, 27, 29, 31, 32, 33, 34, 35, 36, 37, 38, 39, 40, 41, 42, 43, 47, 49, 50, 51, 52, 53, 59, 60]\n",
      "WARNING: aclu 9 is not present in the pf1D_all ratemaps. Which contain aclus: [2, 3, 5, 6, 7, 8, 11, 12, 13, 14, 15, 17, 19, 20, 21, 22, 23, 24, 27, 29, 31, 32, 33, 34, 35, 36, 37, 38, 39, 40, 41, 42, 43, 47, 49, 50, 51, 52, 53, 59, 60]\n",
      "WARNING: aclu 10 is not present in the pf1D_all ratemaps. Which contain aclus: [2, 3, 5, 6, 7, 8, 11, 12, 13, 14, 15, 17, 19, 20, 21, 22, 23, 24, 27, 29, 31, 32, 33, 34, 35, 36, 37, 38, 39, 40, 41, 42, 43, 47, 49, 50, 51, 52, 53, 59, 60]\n",
      "\t saved C:\\Users\\pho\\repos\\Spike3DWorkEnv\\Spike3D\\EXTERNAL\\Screenshots\\ProgrammaticDisplayFunctionTesting\\2023-06-16\\kdiba_gor01_two_2006-6-12_16-53-46_BatchPhoJonathanReplayFRC_shared_1of6_[2, 3, 4, 5, 6, 9, 10, 11, 12, 13].png\n",
      "include_includelist: ['maze1', 'maze2', 'maze']\n",
      "long_epoch_name: maze1, short_epoch_name: maze2, global_epoch_name: maze\n",
      "WARNING: aclu 16 is not present in the pf1D_all ratemaps. Which contain aclus: [2, 3, 5, 6, 7, 8, 11, 12, 13, 14, 15, 17, 19, 20, 21, 22, 23, 24, 27, 29, 31, 32, 33, 34, 35, 36, 37, 38, 39, 40, 41, 42, 43, 47, 49, 50, 51, 52, 53, 59, 60]\n",
      "WARNING: aclu 18 is not present in the pf1D_all ratemaps. Which contain aclus: [2, 3, 5, 6, 7, 8, 11, 12, 13, 14, 15, 17, 19, 20, 21, 22, 23, 24, 27, 29, 31, 32, 33, 34, 35, 36, 37, 38, 39, 40, 41, 42, 43, 47, 49, 50, 51, 52, 53, 59, 60]\n",
      "\t saved C:\\Users\\pho\\repos\\Spike3DWorkEnv\\Spike3D\\EXTERNAL\\Screenshots\\ProgrammaticDisplayFunctionTesting\\2023-06-16\\kdiba_gor01_two_2006-6-12_16-53-46_BatchPhoJonathanReplayFRC_shared_2of6_[14, 15, 16, 17, 18, 19, 20, 21, 22, 23].png\n",
      "include_includelist: ['maze1', 'maze2', 'maze']\n",
      "long_epoch_name: maze1, short_epoch_name: maze2, global_epoch_name: maze\n",
      "WARNING: aclu 25 is not present in the pf1D_all ratemaps. Which contain aclus: [2, 3, 5, 6, 7, 8, 11, 12, 13, 14, 15, 17, 19, 20, 21, 22, 23, 24, 27, 29, 31, 32, 33, 34, 35, 36, 37, 38, 39, 40, 41, 42, 43, 47, 49, 50, 51, 52, 53, 59, 60]\n",
      "WARNING: aclu 26 is not present in the pf1D_all ratemaps. Which contain aclus: [2, 3, 5, 6, 7, 8, 11, 12, 13, 14, 15, 17, 19, 20, 21, 22, 23, 24, 27, 29, 31, 32, 33, 34, 35, 36, 37, 38, 39, 40, 41, 42, 43, 47, 49, 50, 51, 52, 53, 59, 60]\n",
      "WARNING: aclu 28 is not present in the pf1D_all ratemaps. Which contain aclus: [2, 3, 5, 6, 7, 8, 11, 12, 13, 14, 15, 17, 19, 20, 21, 22, 23, 24, 27, 29, 31, 32, 33, 34, 35, 36, 37, 38, 39, 40, 41, 42, 43, 47, 49, 50, 51, 52, 53, 59, 60]\n",
      "WARNING: aclu 30 is not present in the pf1D_all ratemaps. Which contain aclus: [2, 3, 5, 6, 7, 8, 11, 12, 13, 14, 15, 17, 19, 20, 21, 22, 23, 24, 27, 29, 31, 32, 33, 34, 35, 36, 37, 38, 39, 40, 41, 42, 43, 47, 49, 50, 51, 52, 53, 59, 60]\n",
      "\t saved C:\\Users\\pho\\repos\\Spike3DWorkEnv\\Spike3D\\EXTERNAL\\Screenshots\\ProgrammaticDisplayFunctionTesting\\2023-06-16\\kdiba_gor01_two_2006-6-12_16-53-46_BatchPhoJonathanReplayFRC_shared_3of6_[24, 25, 26, 27, 28, 29, 30, 31, 32, 33].png\n",
      "include_includelist: ['maze1', 'maze2', 'maze']\n",
      "long_epoch_name: maze1, short_epoch_name: maze2, global_epoch_name: maze\n",
      "WARNING: aclu 44 is not present in the pf1D_all ratemaps. Which contain aclus: [2, 3, 5, 6, 7, 8, 11, 12, 13, 14, 15, 17, 19, 20, 21, 22, 23, 24, 27, 29, 31, 32, 33, 34, 35, 36, 37, 38, 39, 40, 41, 42, 43, 47, 49, 50, 51, 52, 53, 59, 60]\n",
      "\t saved C:\\Users\\pho\\repos\\Spike3DWorkEnv\\Spike3D\\EXTERNAL\\Screenshots\\ProgrammaticDisplayFunctionTesting\\2023-06-16\\kdiba_gor01_two_2006-6-12_16-53-46_BatchPhoJonathanReplayFRC_shared_4of6_[34, 35, 36, 37, 39, 40, 41, 42, 43, 44].png\n",
      "include_includelist: ['maze1', 'maze2', 'maze']\n",
      "long_epoch_name: maze1, short_epoch_name: maze2, global_epoch_name: maze\n",
      "WARNING: aclu 45 is not present in the pf1D_all ratemaps. Which contain aclus: [2, 3, 5, 6, 7, 8, 11, 12, 13, 14, 15, 17, 19, 20, 21, 22, 23, 24, 27, 29, 31, 32, 33, 34, 35, 36, 37, 38, 39, 40, 41, 42, 43, 47, 49, 50, 51, 52, 53, 59, 60]\n",
      "WARNING: aclu 46 is not present in the pf1D_all ratemaps. Which contain aclus: [2, 3, 5, 6, 7, 8, 11, 12, 13, 14, 15, 17, 19, 20, 21, 22, 23, 24, 27, 29, 31, 32, 33, 34, 35, 36, 37, 38, 39, 40, 41, 42, 43, 47, 49, 50, 51, 52, 53, 59, 60]\n",
      "WARNING: aclu 48 is not present in the pf1D_all ratemaps. Which contain aclus: [2, 3, 5, 6, 7, 8, 11, 12, 13, 14, 15, 17, 19, 20, 21, 22, 23, 24, 27, 29, 31, 32, 33, 34, 35, 36, 37, 38, 39, 40, 41, 42, 43, 47, 49, 50, 51, 52, 53, 59, 60]\n",
      "WARNING: aclu 54 is not present in the pf1D_all ratemaps. Which contain aclus: [2, 3, 5, 6, 7, 8, 11, 12, 13, 14, 15, 17, 19, 20, 21, 22, 23, 24, 27, 29, 31, 32, 33, 34, 35, 36, 37, 38, 39, 40, 41, 42, 43, 47, 49, 50, 51, 52, 53, 59, 60]\n",
      "WARNING: aclu 55 is not present in the pf1D_all ratemaps. Which contain aclus: [2, 3, 5, 6, 7, 8, 11, 12, 13, 14, 15, 17, 19, 20, 21, 22, 23, 24, 27, 29, 31, 32, 33, 34, 35, 36, 37, 38, 39, 40, 41, 42, 43, 47, 49, 50, 51, 52, 53, 59, 60]\n",
      "WARNING: aclu 56 is not present in the pf1D_all ratemaps. Which contain aclus: [2, 3, 5, 6, 7, 8, 11, 12, 13, 14, 15, 17, 19, 20, 21, 22, 23, 24, 27, 29, 31, 32, 33, 34, 35, 36, 37, 38, 39, 40, 41, 42, 43, 47, 49, 50, 51, 52, 53, 59, 60]\n",
      "\t saved C:\\Users\\pho\\repos\\Spike3DWorkEnv\\Spike3D\\EXTERNAL\\Screenshots\\ProgrammaticDisplayFunctionTesting\\2023-06-16\\kdiba_gor01_two_2006-6-12_16-53-46_BatchPhoJonathanReplayFRC_shared_5of6_[45, 46, 47, 48, 49, 50, 52, 54, 55, 56].png\n",
      "include_includelist: ['maze1', 'maze2', 'maze']\n",
      "long_epoch_name: maze1, short_epoch_name: maze2, global_epoch_name: maze\n",
      "WARNING: aclu 57 is not present in the pf1D_all ratemaps. Which contain aclus: [2, 3, 5, 6, 7, 8, 11, 12, 13, 14, 15, 17, 19, 20, 21, 22, 23, 24, 27, 29, 31, 32, 33, 34, 35, 36, 37, 38, 39, 40, 41, 42, 43, 47, 49, 50, 51, 52, 53, 59, 60]\n",
      "WARNING: aclu 58 is not present in the pf1D_all ratemaps. Which contain aclus: [2, 3, 5, 6, 7, 8, 11, 12, 13, 14, 15, 17, 19, 20, 21, 22, 23, 24, 27, 29, 31, 32, 33, 34, 35, 36, 37, 38, 39, 40, 41, 42, 43, 47, 49, 50, 51, 52, 53, 59, 60]\n",
      "\t saved C:\\Users\\pho\\repos\\Spike3DWorkEnv\\Spike3D\\EXTERNAL\\Screenshots\\ProgrammaticDisplayFunctionTesting\\2023-06-16\\kdiba_gor01_two_2006-6-12_16-53-46_BatchPhoJonathanReplayFRC_shared_6of6_[57, 58].png\n",
      "curr_session_parent_out_path: C:\\Users\\pho\\repos\\Spike3DWorkEnv\\Spike3D\\EXTERNAL\\Screenshots\\ProgrammaticDisplayFunctionTesting\\2023-06-16\n",
      "\t saved C:\\Users\\pho\\repos\\Spike3DWorkEnv\\Spike3D\\EXTERNAL\\Screenshots\\ProgrammaticDisplayFunctionTesting\\2023-06-16\\kdiba_gor01_two_2006-6-12_16-53-46_maze1_1d_placefields.png\n",
      "\t saved C:\\Users\\pho\\repos\\Spike3DWorkEnv\\Spike3D\\EXTERNAL\\Screenshots\\ProgrammaticDisplayFunctionTesting\\2023-06-16\\kdiba_gor01_two_2006-6-12_16-53-46_maze2_1d_placefields.png\n",
      "\t saved C:\\Users\\pho\\repos\\Spike3DWorkEnv\\Spike3D\\EXTERNAL\\Screenshots\\ProgrammaticDisplayFunctionTesting\\2023-06-16\\kdiba_gor01_two_2006-6-12_16-53-46_maze_1d_placefields.png\n",
      "\t saved C:\\Users\\pho\\repos\\Spike3DWorkEnv\\Spike3D\\EXTERNAL\\Screenshots\\ProgrammaticDisplayFunctionTesting\\2023-06-16\\kdiba_gor01_two_2006-6-12_16-53-46_maze1__display_2d_placefield_result_plot_ratemaps_2D.png\n",
      "\t saved C:\\Users\\pho\\repos\\Spike3DWorkEnv\\Spike3D\\EXTERNAL\\Screenshots\\ProgrammaticDisplayFunctionTesting\\2023-06-16\\kdiba_gor01_two_2006-6-12_16-53-46_maze2__display_2d_placefield_result_plot_ratemaps_2D.png\n",
      "\t saved C:\\Users\\pho\\repos\\Spike3DWorkEnv\\Spike3D\\EXTERNAL\\Screenshots\\ProgrammaticDisplayFunctionTesting\\2023-06-16\\kdiba_gor01_two_2006-6-12_16-53-46_maze__display_2d_placefield_result_plot_ratemaps_2D.png\n",
      "\t saved C:\\Users\\pho\\repos\\Spike3DWorkEnv\\Spike3D\\EXTERNAL\\Screenshots\\ProgrammaticDisplayFunctionTesting\\2023-06-16\\kdiba_gor01_two_2006-6-12_16-53-46_maze1_plot_occupancy_OCCUPANCY.png\n",
      "\t saved C:\\Users\\pho\\repos\\Spike3DWorkEnv\\Spike3D\\EXTERNAL\\Screenshots\\ProgrammaticDisplayFunctionTesting\\2023-06-16\\kdiba_gor01_two_2006-6-12_16-53-46_maze2_plot_occupancy_OCCUPANCY.png\n",
      "\t saved C:\\Users\\pho\\repos\\Spike3DWorkEnv\\Spike3D\\EXTERNAL\\Screenshots\\ProgrammaticDisplayFunctionTesting\\2023-06-16\\kdiba_gor01_two_2006-6-12_16-53-46_maze_plot_occupancy_OCCUPANCY.png\n",
      "\t saved C:\\Users\\pho\\repos\\Spike3DWorkEnv\\Spike3D\\EXTERNAL\\Screenshots\\ProgrammaticDisplayFunctionTesting\\2023-06-16\\kdiba_gor01_two_2006-6-12_16-53-46_long_short_firing_rate_indicies_display_long_short_laps.png\n",
      "global_y_min_SHORT: 0.0, global_y_max_SHORT: 5.0080883093694935\n",
      "global_y_min_LONG: 0.0, global_y_max_LONG: 4.9743125085424165\n",
      "global_y_min: 0.0, global_y_max: 5.0080883093694935\n",
      "\t saved C:\\Users\\pho\\repos\\Spike3DWorkEnv\\Spike3D\\EXTERNAL\\Screenshots\\ProgrammaticDisplayFunctionTesting\\2023-06-16\\kdiba_gor01_two_2006-6-12_16-53-46_plot_expected_vs_observed_epoch_idx_obs_exp_diff_ptp.png\n",
      "\t saved C:\\Users\\pho\\repos\\Spike3DWorkEnv\\Spike3D\\EXTERNAL\\Screenshots\\ProgrammaticDisplayFunctionTesting\\2023-06-16\\kdiba_gor01_two_2006-6-12_16-53-46__display_grid_bin_bounds_validation.png\n",
      "\t saved C:\\Users\\pho\\repos\\Spike3DWorkEnv\\Spike3D\\EXTERNAL\\Screenshots\\ProgrammaticDisplayFunctionTesting\\2023-06-16\\kdiba_gor01_two_2006-6-12_16-53-46_running_and_replay_speeds_over_time.png\n",
      "\t saved C:\\Users\\pho\\repos\\Spike3DWorkEnv\\Spike3D\\EXTERNAL\\Screenshots\\ProgrammaticDisplayFunctionTesting\\2023-06-16\\kdiba_gor01_two_2006-6-12_16-53-46_display_long_short_laps.png\n",
      "\t saved C:\\Users\\pho\\repos\\Spike3DWorkEnv\\Spike3D\\EXTERNAL\\Screenshots\\ProgrammaticDisplayFunctionTesting\\2023-06-16\\kdiba_gor01_two_2006-6-12_16-53-46_maze1_plot_single_track_firing_rate_compare.png\n",
      "\t saved C:\\Users\\pho\\repos\\Spike3DWorkEnv\\Spike3D\\EXTERNAL\\Screenshots\\ProgrammaticDisplayFunctionTesting\\2023-06-16\\kdiba_gor01_two_2006-6-12_16-53-46_maze2_plot_single_track_firing_rate_compare.png\n",
      "DEBUG: new_all_aclus_sort_indicies: [32 36 38 16 20 10 37  7 17 23 39 29 24 11 35 31 34  6  0 18  9 28 14 12\n",
      "  1 22 40 21 15 13 30  8 26 33 25 27 19  2  3  5  4]\n",
      "\t saved C:\\Users\\pho\\repos\\Spike3DWorkEnv\\Spike3D\\EXTERNAL\\Screenshots\\ProgrammaticDisplayFunctionTesting\\2023-06-16\\kdiba_gor01_two_2006-6-12_16-53-46_display_short_long_pf1D_comparison_long.png\n",
      "\t saved C:\\Users\\pho\\repos\\Spike3DWorkEnv\\Spike3D\\EXTERNAL\\Screenshots\\ProgrammaticDisplayFunctionTesting\\2023-06-16\\kdiba_gor01_two_2006-6-12_16-53-46_display_short_long_pf1D_comparison_short.png\n",
      "active_identifying_ctx_string: \"kdiba|gor01|two|2006-6-12_16-53-46|DecodedEpochSlices|replays|long_results_obj|1of1|[ 0  1  2  3  4  5  6  7  8  9 10 11 12 13 14 15 16 17 18 19]\"\n",
      "active_identifying_ctx_string: \"kdiba|gor01|two|2006-6-12_16-53-46|DecodedEpochSlices|replays|long_results_obj|1of1|[ 0  1  2  3  4  5  6  7  8  9 10 11 12 13 14 15 16 17 18 19]\"\n",
      "\t saved C:\\Users\\pho\\repos\\Spike3DWorkEnv\\Spike3D\\EXTERNAL\\Screenshots\\ProgrammaticDisplayFunctionTesting\\2023-06-16\\kdiba_gor01_two_2006-6-12_16-53-46_DecodedEpochSlices_replays_long_results_obj.png\n",
      "active_identifying_ctx_string: \"kdiba|gor01|two|2006-6-12_16-53-46|DecodedEpochSlices|replays|short_results_obj|1of1|[ 0  1  2  3  4  5  6  7  8  9 10 11 12 13 14 15 16 17 18 19]\"\n",
      "active_identifying_ctx_string: \"kdiba|gor01|two|2006-6-12_16-53-46|DecodedEpochSlices|replays|short_results_obj|1of1|[ 0  1  2  3  4  5  6  7  8  9 10 11 12 13 14 15 16 17 18 19]\"\n",
      "\t saved C:\\Users\\pho\\repos\\Spike3DWorkEnv\\Spike3D\\EXTERNAL\\Screenshots\\ProgrammaticDisplayFunctionTesting\\2023-06-16\\kdiba_gor01_two_2006-6-12_16-53-46_DecodedEpochSlices_replays_short_results_obj.png\n"
     ]
    }
   ],
   "source": [
    "curr_active_pipeline.reload_default_display_functions()\n",
    "active_identifying_session_ctx, active_session_figures_out_path, active_out_figures_list = batch_programmatic_figures(curr_active_pipeline)\n",
    "batch_extended_programmatic_figures(curr_active_pipeline=curr_active_pipeline)"
   ]
  },
  {
   "cell_type": "code",
   "execution_count": null,
   "id": "7608078a",
   "metadata": {},
   "outputs": [],
   "source": [
    "curr_active_pipeline.reload_default_display_functions()"
   ]
  },
  {
   "cell_type": "code",
   "execution_count": null,
   "id": "fe831b56",
   "metadata": {
    "tags": [
     "ACTIVE"
    ]
   },
   "outputs": [],
   "source": [
    "from pyphoplacecellanalysis.General.Mixins.CrossComputationComparisonHelpers import _find_any_context_neurons\n",
    "\n",
    "## Builds proper sort indicies for '_display_short_long_pf1D_comparison'\n",
    "long_ratemap = long_pf1D.ratemap\n",
    "short_ratemap = short_pf1D.ratemap\n",
    "\n",
    "curr_any_context_neurons = _find_any_context_neurons(*[k.neuron_ids for k in [long_ratemap, short_ratemap]])\n",
    "curr_any_context_neurons"
   ]
  },
  {
   "cell_type": "code",
   "execution_count": null,
   "id": "402834bd",
   "metadata": {},
   "outputs": [],
   "source": [
    "from neuropy.plotting.ratemaps import plot_ratemap_1D\n",
    "from pyphoplacecellanalysis.General.Pipeline.Stages.DisplayFunctions.MultiContextComparingDisplayFunctions.LongShortTrackComparingDisplayFunctions import plot_short_v_long_pf1D_comparison, LongShortTrackComparingDisplayFunctions\n",
    "\n",
    "curr_active_pipeline.reload_default_display_functions()\n",
    "\n",
    "%matplotlib qt\n",
    "active_identifying_session_ctx = curr_active_pipeline.sess.get_context() # 'bapun_RatN_Day4_2019-10-15_11-30-06'\n",
    "\n",
    "long_single_cell_pfmap_processing_fn = None\n",
    "short_single_cell_pfmap_processing_fn = None\n",
    "# sort_idx = None\n",
    "# sort_idx = sort_ind\n",
    "# sort_idx = sort_indicies\n",
    "# sort_idx = new_all_aclus_sort_indicies\n",
    "sort_idx = 'peak_long'\n",
    "# sort_idx = 'bad'\n",
    "\n",
    "# out = curr_active_pipeline.display('_display_short_long_pf1D_comparison', active_identifying_session_ctx, single_figure=False, debug_print=True, fignum='Short v Long pf1D Comparison',\n",
    "#                                    long_kwargs={'included_unit_neuron_IDs': curr_any_context_neurons, 'included_unit_indicies': None, 'sortby': sort_idx, 'single_cell_pfmap_processing_fn': long_single_cell_pfmap_processing_fn},\n",
    "#                                    short_kwargs={'included_unit_neuron_IDs': curr_any_context_neurons, 'included_unit_indicies': None,'sortby': sort_idx, 'single_cell_pfmap_processing_fn': short_single_cell_pfmap_processing_fn, 'curve_hatch_style': {'hatch':'///', 'edgecolor':'k'}},\n",
    "#                                   )\n",
    "\n",
    "out = curr_active_pipeline.display('_display_short_long_pf1D_comparison', active_identifying_session_ctx, single_figure=False, debug_print=False, fignum='Short v Long pf1D Comparison',\n",
    "                                   long_kwargs={'sortby': sort_idx, 'single_cell_pfmap_processing_fn': long_single_cell_pfmap_processing_fn},\n",
    "                                   short_kwargs={'sortby': sort_idx, 'single_cell_pfmap_processing_fn': short_single_cell_pfmap_processing_fn, 'curve_hatch_style': {'hatch':'///', 'edgecolor':'k'}},\n",
    "                                  )\n",
    "                                  \n",
    "\n",
    "# ax = out.axes[0]"
   ]
  },
  {
   "cell_type": "code",
   "execution_count": null,
   "id": "5653100d",
   "metadata": {},
   "outputs": [],
   "source": [
    "curr_active_pipeline.display('_display_short_long_pf1D_comparison', single_figure=False)"
   ]
  },
  {
   "cell_type": "code",
   "execution_count": null,
   "id": "1d1abd9b",
   "metadata": {
    "tags": [
     "WORKING"
    ]
   },
   "outputs": [],
   "source": [
    "from neuropy.plotting.ratemaps import plot_ratemap_1D"
   ]
  },
  {
   "cell_type": "code",
   "execution_count": null,
   "id": "9348db6c",
   "metadata": {},
   "outputs": [],
   "source": [
    "new_all_aclus_sort_indicies"
   ]
  },
  {
   "cell_type": "code",
   "execution_count": null,
   "id": "ac90f1f5",
   "metadata": {},
   "outputs": [],
   "source": [
    "# sortby = np.arange(len(new_all_aclus_sort_indicies)) # just lienarly ascending\n",
    "sortby = new_all_aclus_sort_indicies # set correct sort indicies\n",
    "included_unit_neuron_IDs = curr_any_context_neurons # no pre-sort\n",
    "# included_unit_neuron_IDs = curr_any_context_neurons[new_all_aclus_sort_indicies] # pre-sort\n",
    "_out = plot_ratemap_1D(long_pf1D.ratemap, normalize_tuning_curve=True, included_unit_indicies=None, included_unit_neuron_IDs=included_unit_neuron_IDs, sortby=sortby)"
   ]
  },
  {
   "cell_type": "code",
   "execution_count": null,
   "id": "48e75ee6",
   "metadata": {},
   "outputs": [],
   "source": [
    "plot_ratemap_1D(short_pf1D.ratemap, normalize_tuning_curve=True, included_unit_indicies=None, included_unit_neuron_IDs=included_unit_neuron_IDs, sortby=sortby)"
   ]
  },
  {
   "attachments": {},
   "cell_type": "markdown",
   "id": "d1906e5a",
   "metadata": {},
   "source": [
    "# 2023-06-01 - Testing new metrics:"
   ]
  },
  {
   "cell_type": "code",
   "execution_count": null,
   "id": "ee3fb2f6",
   "metadata": {},
   "outputs": [],
   "source": [
    "\n",
    "curr_long_short_post_decoding = curr_active_pipeline.global_computation_results.computed_data['long_short_post_decoding']\n",
    "## Extract variables from results object:\n",
    "expected_v_observed_result, curr_long_short_rr = curr_long_short_post_decoding.expected_v_observed_result, curr_long_short_post_decoding.rate_remapping\n",
    "rate_remapping_df, high_remapping_cells_only = curr_long_short_rr.rr_df, curr_long_short_rr.high_only_rr_df\n",
    "Flat_epoch_time_bins_mean, Flat_decoder_time_bin_centers, num_neurons, num_timebins_in_epoch, num_total_flat_timebins, is_short_track_epoch, is_long_track_epoch, short_short_diff, long_long_diff = expected_v_observed_result['Flat_epoch_time_bins_mean'], expected_v_observed_result['Flat_decoder_time_bin_centers'], expected_v_observed_result['num_neurons'], expected_v_observed_result['num_timebins_in_epoch'], expected_v_observed_result['num_total_flat_timebins'], expected_v_observed_result['is_short_track_epoch'], expected_v_observed_result['is_long_track_epoch'], expected_v_observed_result['short_short_diff'], expected_v_observed_result['long_long_diff']\n",
    "\n",
    "\n",
    "print(f'long_test: {np.mean(long_long_diff)}')\n",
    "print(f'short_test: {np.mean(short_short_diff)}')"
   ]
  },
  {
   "cell_type": "code",
   "execution_count": null,
   "id": "9deb6292",
   "metadata": {},
   "outputs": [],
   "source": [
    "long_session.replay"
   ]
  },
  {
   "cell_type": "code",
   "execution_count": null,
   "id": "9e65f403",
   "metadata": {},
   "outputs": [],
   "source": [
    "# long_results_obj.original_1D_decoder\n",
    "replay_result_df = deepcopy(long_results_obj.active_filter_epochs.to_dataframe())\n",
    "replay_result_df"
   ]
  },
  {
   "cell_type": "code",
   "execution_count": null,
   "id": "f67e3b6d",
   "metadata": {},
   "outputs": [],
   "source": [
    "short_results_obj.active_filter_epochs.to_dataframe()"
   ]
  },
  {
   "cell_type": "code",
   "execution_count": null,
   "id": "59838cd9",
   "metadata": {},
   "outputs": [],
   "source": [
    "# Look at lap speed over time - doesn't look like there's a difference between the long and the short track speeds\n",
    "global_session.position.compute_higher_order_derivatives()\n",
    "running_pos_df = global_session.position.to_dataframe()\n",
    "ax = running_pos_df.plot(x='t', y=['lin_pos','speed'], title='Running Speed over Time')\n",
    "ax"
   ]
  },
  {
   "cell_type": "code",
   "execution_count": null,
   "id": "627282a9",
   "metadata": {},
   "outputs": [],
   "source": [
    "# Call the function\n",
    "fig, ax = plot_lines(replay_result_df)"
   ]
  },
  {
   "cell_type": "code",
   "execution_count": null,
   "id": "2080baef",
   "metadata": {},
   "outputs": [],
   "source": [
    "import matplotlib\n",
    "%matplotlib qt\n",
    "\n",
    "curr_active_pipeline.reload_default_display_functions()\n",
    "out_man = curr_active_pipeline.get_output_manager()\n",
    "out_man.get_figure_output_path\n",
    "curr_active_pipeline.write_figure_to_output_path\n",
    "\n"
   ]
  },
  {
   "cell_type": "code",
   "execution_count": null,
   "id": "a2ea2bed",
   "metadata": {},
   "outputs": [],
   "source": [
    "_out = curr_active_pipeline.display('_display_grid_bin_bounds_validation')\n",
    "# _display_running_and_replay_speeds_over_time\n"
   ]
  },
  {
   "attachments": {},
   "cell_type": "markdown",
   "id": "39e5020d",
   "metadata": {},
   "source": [
    "# 2023-06-13 11:01: - [ ] New display function testing"
   ]
  },
  {
   "cell_type": "code",
   "execution_count": 7,
   "id": "f6008da8",
   "metadata": {},
   "outputs": [],
   "source": [
    "import matplotlib as mpl\n",
    "# from pyphoplacecellanalysis.General.Mixins.ExportHelpers import create_daily_programmatic_display_function_testing_folder_if_needed, session_context_to_relative_path, programmatic_display_to_PDF\n",
    "# from pyphoplacecellanalysis.General.Mixins.ExportHelpers import build_pdf_metadata_from_display_context # newer version of build_pdf_export_metadata\n",
    "from neuropy.core.neuron_identities import PlotStringBrevityModeEnum\n",
    "from neuropy.plotting.ratemaps import BackgroundRenderingOptions\n",
    "_bak_rcParams = mpl.rcParams.copy()\n",
    "# mpl.rcParams['toolbar'] = 'None' # disable toolbars\n",
    "# matplotlib.use('AGG') # non-interactive backend ## 2022-08-16 - Surprisingly this works to make the matplotlib figures render only to .png file, not appear on the screen!\n",
    "\n",
    "%matplotlib qt\n",
    "\n",
    "from pyphoplacecellanalysis.General.Mixins.ExportHelpers import programmatic_render_to_file"
   ]
  },
  {
   "cell_type": "code",
   "execution_count": 8,
   "id": "808f47ba",
   "metadata": {},
   "outputs": [],
   "source": [
    "curr_active_pipeline.reload_default_display_functions()\n"
   ]
  },
  {
   "cell_type": "code",
   "execution_count": null,
   "id": "be73cef7",
   "metadata": {},
   "outputs": [],
   "source": [
    "from pyphoplacecellanalysis.Pho2D.matplotlib.visualize_heatmap import visualize_heatmap, visualize_heatmap_pyqtgraph # used in `plot_kourosh_activity_style_figure`\n",
    "from pyphoplacecellanalysis.General.Pipeline.Stages.DisplayFunctions.SpikeRasters import plot_raster_plot # used in `plot_kourosh_activity_style_figure`\n",
    "import pyphoplacecellanalysis.External.pyqtgraph as pg # used in `plot_kourosh_activity_style_figure`\n",
    "\n",
    "heatmap_pf1D_win, heatmap_pf1D_img = visualize_heatmap_pyqtgraph(long_pf1D.ratemap.normalized_tuning_curves, title=f\"pf1D Visualization\")\n",
    "# Apply the colormap\n",
    "# heatmap_pf1D_img.setLookupTable(lut)\n",
    "heatmap_pf1D_win.show()"
   ]
  },
  {
   "cell_type": "code",
   "execution_count": null,
   "id": "12558e98",
   "metadata": {},
   "outputs": [],
   "source": [
    "heatmap_pf1D_win.close()"
   ]
  },
  {
   "cell_type": "code",
   "execution_count": 18,
   "id": "7f0a17ba",
   "metadata": {},
   "outputs": [
    {
     "data": {
      "text/plain": [
       "array([ 2,  3,  5,  6,  7,  8, 11, 12, 13, 14, 15, 17, 19, 20, 21, 22, 23,\n",
       "       24, 27, 29, 31, 32, 33, 34, 35, 36, 37, 38, 39, 40, 41, 42, 43, 47,\n",
       "       49, 50, 51, 52, 53, 59, 60])"
      ]
     },
     "execution_count": 18,
     "metadata": {},
     "output_type": "execute_result"
    }
   ],
   "source": [
    "from pyphoplacecellanalysis.General.Mixins.CrossComputationComparisonHelpers import _find_any_context_neurons\n",
    "\n",
    "## Builds proper sort indicies for '_display_short_long_pf1D_comparison'\n",
    "long_ratemap = long_pf1D.ratemap\n",
    "short_ratemap = short_pf1D.ratemap\n",
    "\n",
    "curr_any_context_neurons = _find_any_context_neurons(*[k.neuron_ids for k in [long_ratemap, short_ratemap]])\n",
    "curr_any_context_neurons"
   ]
  },
  {
   "cell_type": "code",
   "execution_count": 35,
   "id": "078c33e0",
   "metadata": {},
   "outputs": [
    {
     "name": "stdout",
     "output_type": "stream",
     "text": [
      "filter_epochs: 41\n",
      "np.shape(filter_epoch_spikes_df): (29820, 24)\n",
      "np.shape(filter_epoch_spikes_df): (1086, 24)\n"
     ]
    },
    {
     "data": {
      "text/html": [
       "<div>\n",
       "<style scoped>\n",
       "    .dataframe tbody tr th:only-of-type {\n",
       "        vertical-align: middle;\n",
       "    }\n",
       "\n",
       "    .dataframe tbody tr th {\n",
       "        vertical-align: top;\n",
       "    }\n",
       "\n",
       "    .dataframe thead th {\n",
       "        text-align: right;\n",
       "    }\n",
       "</style>\n",
       "<table border=\"1\" class=\"dataframe\">\n",
       "  <thead>\n",
       "    <tr style=\"text-align: right;\">\n",
       "      <th></th>\n",
       "      <th>t</th>\n",
       "      <th>t_seconds</th>\n",
       "      <th>t_rel_seconds</th>\n",
       "      <th>shank</th>\n",
       "      <th>cluster</th>\n",
       "      <th>aclu</th>\n",
       "      <th>qclu</th>\n",
       "      <th>x</th>\n",
       "      <th>y</th>\n",
       "      <th>speed</th>\n",
       "      <th>...</th>\n",
       "      <th>cell_type</th>\n",
       "      <th>flat_spike_idx</th>\n",
       "      <th>x_loaded</th>\n",
       "      <th>y_loaded</th>\n",
       "      <th>lin_pos</th>\n",
       "      <th>fragile_linear_neuron_IDX</th>\n",
       "      <th>PBE_id</th>\n",
       "      <th>scISI</th>\n",
       "      <th>neuron_IDX</th>\n",
       "      <th>temp_epoch_id</th>\n",
       "    </tr>\n",
       "  </thead>\n",
       "  <tbody>\n",
       "    <tr>\n",
       "      <th>244</th>\n",
       "      <td>53178.0</td>\n",
       "      <td>957964.901891</td>\n",
       "      <td>1.633627</td>\n",
       "      <td>10</td>\n",
       "      <td>6</td>\n",
       "      <td>51</td>\n",
       "      <td>4</td>\n",
       "      <td>139.845040</td>\n",
       "      <td>85.765738</td>\n",
       "      <td>0.000000</td>\n",
       "      <td>...</td>\n",
       "      <td>NeuronType.PYRAMIDAL</td>\n",
       "      <td>244</td>\n",
       "      <td>0.513950</td>\n",
       "      <td>0.291450</td>\n",
       "      <td>189.626281</td>\n",
       "      <td>36</td>\n",
       "      <td>0</td>\n",
       "      <td>NaN</td>\n",
       "      <td>36</td>\n",
       "      <td>0</td>\n",
       "    </tr>\n",
       "    <tr>\n",
       "      <th>245</th>\n",
       "      <td>53214.0</td>\n",
       "      <td>957964.902997</td>\n",
       "      <td>1.634733</td>\n",
       "      <td>8</td>\n",
       "      <td>25</td>\n",
       "      <td>37</td>\n",
       "      <td>2</td>\n",
       "      <td>139.845040</td>\n",
       "      <td>85.765738</td>\n",
       "      <td>0.000000</td>\n",
       "      <td>...</td>\n",
       "      <td>NeuronType.PYRAMIDAL</td>\n",
       "      <td>245</td>\n",
       "      <td>0.513955</td>\n",
       "      <td>0.291444</td>\n",
       "      <td>189.626281</td>\n",
       "      <td>26</td>\n",
       "      <td>0</td>\n",
       "      <td>NaN</td>\n",
       "      <td>26</td>\n",
       "      <td>0</td>\n",
       "    </tr>\n",
       "    <tr>\n",
       "      <th>250</th>\n",
       "      <td>53349.0</td>\n",
       "      <td>957964.907144</td>\n",
       "      <td>1.638880</td>\n",
       "      <td>8</td>\n",
       "      <td>25</td>\n",
       "      <td>37</td>\n",
       "      <td>2</td>\n",
       "      <td>139.845040</td>\n",
       "      <td>85.765738</td>\n",
       "      <td>0.000000</td>\n",
       "      <td>...</td>\n",
       "      <td>NeuronType.PYRAMIDAL</td>\n",
       "      <td>250</td>\n",
       "      <td>0.513963</td>\n",
       "      <td>0.291432</td>\n",
       "      <td>189.626281</td>\n",
       "      <td>26</td>\n",
       "      <td>0</td>\n",
       "      <td>0.004147</td>\n",
       "      <td>26</td>\n",
       "      <td>0</td>\n",
       "    </tr>\n",
       "    <tr>\n",
       "      <th>251</th>\n",
       "      <td>53376.0</td>\n",
       "      <td>957964.907974</td>\n",
       "      <td>1.639710</td>\n",
       "      <td>8</td>\n",
       "      <td>27</td>\n",
       "      <td>39</td>\n",
       "      <td>2</td>\n",
       "      <td>139.845040</td>\n",
       "      <td>85.765738</td>\n",
       "      <td>0.000000</td>\n",
       "      <td>...</td>\n",
       "      <td>NeuronType.PYRAMIDAL</td>\n",
       "      <td>251</td>\n",
       "      <td>0.513963</td>\n",
       "      <td>0.291433</td>\n",
       "      <td>189.626281</td>\n",
       "      <td>28</td>\n",
       "      <td>0</td>\n",
       "      <td>0.083773</td>\n",
       "      <td>28</td>\n",
       "      <td>0</td>\n",
       "    </tr>\n",
       "    <tr>\n",
       "      <th>252</th>\n",
       "      <td>53389.0</td>\n",
       "      <td>957964.908373</td>\n",
       "      <td>1.640109</td>\n",
       "      <td>12</td>\n",
       "      <td>11</td>\n",
       "      <td>60</td>\n",
       "      <td>2</td>\n",
       "      <td>139.845040</td>\n",
       "      <td>85.765738</td>\n",
       "      <td>0.000000</td>\n",
       "      <td>...</td>\n",
       "      <td>NeuronType.PYRAMIDAL</td>\n",
       "      <td>252</td>\n",
       "      <td>0.513962</td>\n",
       "      <td>0.291433</td>\n",
       "      <td>189.626281</td>\n",
       "      <td>40</td>\n",
       "      <td>0</td>\n",
       "      <td>NaN</td>\n",
       "      <td>40</td>\n",
       "      <td>0</td>\n",
       "    </tr>\n",
       "    <tr>\n",
       "      <th>...</th>\n",
       "      <td>...</td>\n",
       "      <td>...</td>\n",
       "      <td>...</td>\n",
       "      <td>...</td>\n",
       "      <td>...</td>\n",
       "      <td>...</td>\n",
       "      <td>...</td>\n",
       "      <td>...</td>\n",
       "      <td>...</td>\n",
       "      <td>...</td>\n",
       "      <td>...</td>\n",
       "      <td>...</td>\n",
       "      <td>...</td>\n",
       "      <td>...</td>\n",
       "      <td>...</td>\n",
       "      <td>...</td>\n",
       "      <td>...</td>\n",
       "      <td>...</td>\n",
       "      <td>...</td>\n",
       "      <td>...</td>\n",
       "      <td>...</td>\n",
       "    </tr>\n",
       "    <tr>\n",
       "      <th>169807</th>\n",
       "      <td>14890542.0</td>\n",
       "      <td>958420.705480</td>\n",
       "      <td>457.437216</td>\n",
       "      <td>8</td>\n",
       "      <td>25</td>\n",
       "      <td>37</td>\n",
       "      <td>2</td>\n",
       "      <td>53.894168</td>\n",
       "      <td>144.405445</td>\n",
       "      <td>5.339469</td>\n",
       "      <td>...</td>\n",
       "      <td>NeuronType.PYRAMIDAL</td>\n",
       "      <td>169807</td>\n",
       "      <td>0.205339</td>\n",
       "      <td>0.497316</td>\n",
       "      <td>220.137327</td>\n",
       "      <td>26</td>\n",
       "      <td>44</td>\n",
       "      <td>0.017080</td>\n",
       "      <td>26</td>\n",
       "      <td>40</td>\n",
       "    </tr>\n",
       "    <tr>\n",
       "      <th>169808</th>\n",
       "      <td>14890624.0</td>\n",
       "      <td>958420.707999</td>\n",
       "      <td>457.439735</td>\n",
       "      <td>8</td>\n",
       "      <td>18</td>\n",
       "      <td>33</td>\n",
       "      <td>2</td>\n",
       "      <td>53.901467</td>\n",
       "      <td>144.421173</td>\n",
       "      <td>5.487224</td>\n",
       "      <td>...</td>\n",
       "      <td>NeuronType.PYRAMIDAL</td>\n",
       "      <td>169808</td>\n",
       "      <td>0.205321</td>\n",
       "      <td>0.497342</td>\n",
       "      <td>220.135362</td>\n",
       "      <td>22</td>\n",
       "      <td>44</td>\n",
       "      <td>0.009308</td>\n",
       "      <td>22</td>\n",
       "      <td>40</td>\n",
       "    </tr>\n",
       "    <tr>\n",
       "      <th>169814</th>\n",
       "      <td>14890773.0</td>\n",
       "      <td>958420.712576</td>\n",
       "      <td>457.444312</td>\n",
       "      <td>2</td>\n",
       "      <td>3</td>\n",
       "      <td>5</td>\n",
       "      <td>4</td>\n",
       "      <td>53.914729</td>\n",
       "      <td>144.449751</td>\n",
       "      <td>5.755707</td>\n",
       "      <td>...</td>\n",
       "      <td>NeuronType.PYRAMIDAL</td>\n",
       "      <td>169814</td>\n",
       "      <td>0.205287</td>\n",
       "      <td>0.497389</td>\n",
       "      <td>220.131790</td>\n",
       "      <td>2</td>\n",
       "      <td>44</td>\n",
       "      <td>3.627723</td>\n",
       "      <td>2</td>\n",
       "      <td>40</td>\n",
       "    </tr>\n",
       "    <tr>\n",
       "      <th>169816</th>\n",
       "      <td>14890891.0</td>\n",
       "      <td>958420.716201</td>\n",
       "      <td>457.447937</td>\n",
       "      <td>2</td>\n",
       "      <td>3</td>\n",
       "      <td>5</td>\n",
       "      <td>4</td>\n",
       "      <td>53.925232</td>\n",
       "      <td>144.472384</td>\n",
       "      <td>5.968331</td>\n",
       "      <td>...</td>\n",
       "      <td>NeuronType.PYRAMIDAL</td>\n",
       "      <td>169816</td>\n",
       "      <td>0.205261</td>\n",
       "      <td>0.497426</td>\n",
       "      <td>220.128962</td>\n",
       "      <td>2</td>\n",
       "      <td>44</td>\n",
       "      <td>0.003625</td>\n",
       "      <td>2</td>\n",
       "      <td>40</td>\n",
       "    </tr>\n",
       "    <tr>\n",
       "      <th>169819</th>\n",
       "      <td>14890952.0</td>\n",
       "      <td>958420.718075</td>\n",
       "      <td>457.449811</td>\n",
       "      <td>3</td>\n",
       "      <td>4</td>\n",
       "      <td>11</td>\n",
       "      <td>2</td>\n",
       "      <td>53.930661</td>\n",
       "      <td>144.484085</td>\n",
       "      <td>6.078247</td>\n",
       "      <td>...</td>\n",
       "      <td>NeuronType.PYRAMIDAL</td>\n",
       "      <td>169819</td>\n",
       "      <td>0.205247</td>\n",
       "      <td>0.497445</td>\n",
       "      <td>220.127500</td>\n",
       "      <td>6</td>\n",
       "      <td>44</td>\n",
       "      <td>0.014653</td>\n",
       "      <td>6</td>\n",
       "      <td>40</td>\n",
       "    </tr>\n",
       "  </tbody>\n",
       "</table>\n",
       "<p>1086 rows × 24 columns</p>\n",
       "</div>"
      ],
      "text/plain": [
       "                 t      t_seconds  t_rel_seconds  shank  cluster  aclu  qclu  \\\n",
       "244        53178.0  957964.901891       1.633627     10        6    51     4   \n",
       "245        53214.0  957964.902997       1.634733      8       25    37     2   \n",
       "250        53349.0  957964.907144       1.638880      8       25    37     2   \n",
       "251        53376.0  957964.907974       1.639710      8       27    39     2   \n",
       "252        53389.0  957964.908373       1.640109     12       11    60     2   \n",
       "...            ...            ...            ...    ...      ...   ...   ...   \n",
       "169807  14890542.0  958420.705480     457.437216      8       25    37     2   \n",
       "169808  14890624.0  958420.707999     457.439735      8       18    33     2   \n",
       "169814  14890773.0  958420.712576     457.444312      2        3     5     4   \n",
       "169816  14890891.0  958420.716201     457.447937      2        3     5     4   \n",
       "169819  14890952.0  958420.718075     457.449811      3        4    11     2   \n",
       "\n",
       "                 x           y     speed  ...             cell_type  \\\n",
       "244     139.845040   85.765738  0.000000  ...  NeuronType.PYRAMIDAL   \n",
       "245     139.845040   85.765738  0.000000  ...  NeuronType.PYRAMIDAL   \n",
       "250     139.845040   85.765738  0.000000  ...  NeuronType.PYRAMIDAL   \n",
       "251     139.845040   85.765738  0.000000  ...  NeuronType.PYRAMIDAL   \n",
       "252     139.845040   85.765738  0.000000  ...  NeuronType.PYRAMIDAL   \n",
       "...            ...         ...       ...  ...                   ...   \n",
       "169807   53.894168  144.405445  5.339469  ...  NeuronType.PYRAMIDAL   \n",
       "169808   53.901467  144.421173  5.487224  ...  NeuronType.PYRAMIDAL   \n",
       "169814   53.914729  144.449751  5.755707  ...  NeuronType.PYRAMIDAL   \n",
       "169816   53.925232  144.472384  5.968331  ...  NeuronType.PYRAMIDAL   \n",
       "169819   53.930661  144.484085  6.078247  ...  NeuronType.PYRAMIDAL   \n",
       "\n",
       "        flat_spike_idx  x_loaded  y_loaded     lin_pos  \\\n",
       "244                244  0.513950  0.291450  189.626281   \n",
       "245                245  0.513955  0.291444  189.626281   \n",
       "250                250  0.513963  0.291432  189.626281   \n",
       "251                251  0.513963  0.291433  189.626281   \n",
       "252                252  0.513962  0.291433  189.626281   \n",
       "...                ...       ...       ...         ...   \n",
       "169807          169807  0.205339  0.497316  220.137327   \n",
       "169808          169808  0.205321  0.497342  220.135362   \n",
       "169814          169814  0.205287  0.497389  220.131790   \n",
       "169816          169816  0.205261  0.497426  220.128962   \n",
       "169819          169819  0.205247  0.497445  220.127500   \n",
       "\n",
       "        fragile_linear_neuron_IDX  PBE_id     scISI  neuron_IDX  temp_epoch_id  \n",
       "244                            36       0       NaN          36              0  \n",
       "245                            26       0       NaN          26              0  \n",
       "250                            26       0  0.004147          26              0  \n",
       "251                            28       0  0.083773          28              0  \n",
       "252                            40       0       NaN          40              0  \n",
       "...                           ...     ...       ...         ...            ...  \n",
       "169807                         26      44  0.017080          26             40  \n",
       "169808                         22      44  0.009308          22             40  \n",
       "169814                          2      44  3.627723           2             40  \n",
       "169816                          2      44  0.003625           2             40  \n",
       "169819                          6      44  0.014653           6             40  \n",
       "\n",
       "[1086 rows x 24 columns]"
      ]
     },
     "execution_count": 35,
     "metadata": {},
     "output_type": "execute_result"
    }
   ],
   "source": [
    "from neuropy.utils.mixins.time_slicing import add_epochs_id_identity\n",
    "\n",
    "spikes_df = deepcopy(long_session.spikes_df)\n",
    "filter_epochs = deepcopy(long_replays)\n",
    "shared_aclus = curr_any_context_neurons # all aclus to use\n",
    "debug_print = True\n",
    "\n",
    "if isinstance(filter_epochs, pd.DataFrame):\n",
    "\tfilter_epochs_df = filter_epochs\n",
    "else:\n",
    "\tfilter_epochs_df = filter_epochs.to_dataframe()\n",
    "\t\n",
    "if debug_print:\n",
    "\tprint(f'filter_epochs: {filter_epochs.epochs.n_epochs}')\n",
    "## Get the spikes during these epochs to attempt to decode from:\n",
    "filter_epoch_spikes_df = deepcopy(spikes_df)\n",
    "filter_epoch_spikes_df = filter_epoch_spikes_df[filter_epoch_spikes_df['aclu'].isin(shared_aclus)] ## restrict to only the shared aclus for both short and long\n",
    "filter_epoch_spikes_df, _temp_neuron_id_to_new_IDX_map = filter_epoch_spikes_df.spikes.rebuild_fragile_linear_neuron_IDXs() # I think this must be done prior to restricting to the current epoch, but after restricting to the shared_aclus\n",
    "\n",
    "## Add the epoch ids to each spike so we can easily filter on them:\n",
    "filter_epoch_spikes_df = add_epochs_id_identity(filter_epoch_spikes_df, filter_epochs_df, epoch_id_key_name='temp_epoch_id', epoch_label_column_name=None, no_interval_fill_value=-1)\n",
    "if debug_print:\n",
    "\tprint(f'np.shape(filter_epoch_spikes_df): {np.shape(filter_epoch_spikes_df)}')\n",
    "filter_epoch_spikes_df = filter_epoch_spikes_df[filter_epoch_spikes_df['temp_epoch_id'] != -1] # Drop all non-included spikes\n",
    "if debug_print:\n",
    "\tprint(f'np.shape(filter_epoch_spikes_df): {np.shape(filter_epoch_spikes_df)}')\n",
    "\n",
    "# returns `filter_epoch_spikes_df`\n",
    "filter_epoch_spikes_df"
   ]
  },
  {
   "cell_type": "code",
   "execution_count": 51,
   "id": "c77f1a63",
   "metadata": {},
   "outputs": [],
   "source": [
    "from pyphoplacecellanalysis.General.Pipeline.Stages.DisplayFunctions.SpikeRasters import plot_raster_plot # used in `plot_kourosh_activity_style_figure`\n",
    "from pyphocorehelpers.DataStructure.RenderPlots.PyqtgraphRenderPlots import PyqtgraphRenderPlots\n",
    "from pyphoplacecellanalysis.General.Pipeline.Stages.DisplayFunctions.SpikeRasters import _plot_empty_raster_plot_frame\n",
    "import pyphoplacecellanalysis.External.pyqtgraph as pg\n",
    "from pyphoplacecellanalysis.External.pyqtgraph.Qt import QtGui # for QColor build_neurons_color_data\n",
    "from pyphoplacecellanalysis.GUI.PyQtPlot.Widgets.Mixins.Render2DScrollWindowPlot import Render2DScrollWindowPlotMixin\n",
    "from pyphoplacecellanalysis.General.Pipeline.Stages.DisplayFunctions.SpikeRasters import UnitSortOrderManager, RasterPlotParams, RasterScatterPlotManager, _add_spikes_df_visualization_columns\n",
    "\n",
    "# ## Create the raster plot for the replay:\n",
    "# app, win, plots, plots_data = plot_raster_plot(_active_epoch_spikes_df, shared_aclus, scatter_app_name=f\"Raster Epoch[{epoch_idx}]\")\n",
    "app, win, plots, plots_data = _plot_empty_raster_plot_frame(scatter_app_name=\"Pho Stacked Replays\", defer_show=False)\n",
    "callout_glw = win.addLayout()\n",
    "row_start_idx = 0\n",
    "# plots = PyqtgraphRenderPlots('plots', layout=None, posteriors=[], placefields=[])\n",
    "\n",
    "plots.layout = callout_glw\n",
    "plots.ax = {}\n",
    "plots_data.all_spots_dict = {}\n",
    "\n",
    "neuron_ids = deepcopy(shared_aclus)\n",
    "n_cells = len(shared_aclus)\n",
    "fragile_linear_neuron_IDXs = np.arange(n_cells)\n",
    "unit_sort_order = np.arange(n_cells) # in-line sort order\n",
    "params = RasterPlotParams()\n",
    "params.build_neurons_color_data(fragile_linear_neuron_IDXs=fragile_linear_neuron_IDXs)\n",
    "manager = UnitSortOrderManager(neuron_ids=neuron_ids, fragile_linear_neuron_IDXs=fragile_linear_neuron_IDXs, n_cells=n_cells, unit_sort_order=unit_sort_order, params=params)\n",
    "manager.update_series_identity_y_values()\n",
    "raster_plot_manager = RasterScatterPlotManager(unit_sort_manager=manager)\n",
    "raster_plot_manager._build_cell_configs()\n",
    "# Update the dataframe\n",
    "filter_epoch_spikes_df = _add_spikes_df_visualization_columns(manager, filter_epoch_spikes_df)\n",
    "\n",
    "## Build the individual epoch raster plot rows:\n",
    "for an_epoch in filter_epochs_df.itertuples():\n",
    "\t# print(f'an_epoch: {an_epoch}')\n",
    "\tif an_epoch.Index < 10:\n",
    "\t\t_active_epoch_spikes_df = filter_epoch_spikes_df[filter_epoch_spikes_df['temp_epoch_id'] == an_epoch.Index]\n",
    "\t\t_active_plot_title: str = f\"Epoch[{an_epoch.label}]\"\n",
    "\t\t\n",
    "\t\t## Create the raster plot for the replay:\n",
    "\t\t# if win is None:\n",
    "\t\t# \t# Initialize\n",
    "\t\t# \tapp, win, plots, plots_data = plot_raster_plot(_active_epoch_spikes_df, shared_aclus, scatter_app_name=f\"Raster Epoch[{an_epoch.label}]\")\n",
    "\t\t# else:\n",
    "\t\t# add a new row\n",
    "\t\tnew_ax = plots.layout.addPlot(row=int(an_epoch.Index), col=0)\n",
    "\t\tspots = Render2DScrollWindowPlotMixin.build_spikes_all_spots_from_df(_active_epoch_spikes_df, raster_plot_manager.config_fragile_linear_neuron_IDX_map)\n",
    "\t\tplots_data.all_spots_dict[an_epoch.Index] = spots\n",
    "\n",
    "\t\t# Common Tick Label\n",
    "\t\tvtick = QtGui.QPainterPath()\n",
    "\n",
    "\t\t# Thicker Tick Label:\n",
    "\t\ttick_width = 0.1\n",
    "\t\thalf_tick_width = 0.5 * tick_width\n",
    "\t\tvtick.moveTo(-half_tick_width, -0.5)\n",
    "\t\tvtick.addRect(-half_tick_width, -0.5, tick_width, 1.0) # x, y, width, height\n",
    "\n",
    "\t\tscatter_plot = pg.ScatterPlotItem(name='spikeRasterOverviewWindowScatterPlotItem', pxMode=True, symbol=vtick, size=10, pen={'color': 'w', 'width': 1})\n",
    "\t\tscatter_plot.setObjectName(f'scatter_plot_{_active_plot_title}') # this seems necissary, the 'name' parameter in addPlot(...) seems to only change some internal property related to the legend AND drastically slows down the plotting\n",
    "\t\tscatter_plot.opts['useCache'] = True\n",
    "\t\tscatter_plot.addPoints(plots_data.all_spots_dict[an_epoch.Index]) # , hoverable=True\n",
    "\t\tnew_ax.addItem(scatter_plot)\n",
    "\t\tnew_ax.setXRange(an_epoch.start, an_epoch.end)\n",
    "\t\tnew_ax.setYRange(0, len(shared_aclus)-1)\n",
    "\t\t# Disable Interactivity\n",
    "\t\tnew_ax.setMouseEnabled(x=False, y=False)\n",
    "\t\tnew_ax.setMenuEnabled(False)\n",
    "\t\tplots.ax[an_epoch.Index] = new_ax\n",
    "\t\t\n",
    "\t"
   ]
  },
  {
   "cell_type": "code",
   "execution_count": 46,
   "id": "ef6af344",
   "metadata": {},
   "outputs": [
    {
     "data": {
      "text/plain": [
       "(457.24942476837896, 457.449811225757)"
      ]
     },
     "execution_count": 46,
     "metadata": {},
     "output_type": "execute_result"
    }
   ],
   "source": [
    "an_epoch.start, an_epoch.end"
   ]
  },
  {
   "cell_type": "code",
   "execution_count": null,
   "id": "3aa10ddb",
   "metadata": {},
   "outputs": [],
   "source": [
    "long_replays\n",
    "\n",
    "_active_epoch_spikes_df = deepcopy(long_session.spikes_df)\n",
    "# _active_epoch_spikes_df = long_results_obj.original_1D_decoder.spikes_df.copy()\n",
    "\n",
    "_active_epoch_spikes_df = _active_epoch_spikes_df[_active_epoch_spikes_df['aclu'].isin(shared_aclus)] ## restrict to only the shared aclus for both short and long\n",
    "_active_epoch_spikes_df, _temp_neuron_id_to_new_IDX_map = _active_epoch_spikes_df.spikes.rebuild_fragile_linear_neuron_IDXs() # I think this must be done prior to restricting to the current epoch, but after restricting to the shared_aclus\n",
    "_active_epoch_spikes_df = _active_epoch_spikes_df.spikes.time_sliced(*active_epoch[0]) # restrict to the active epoch"
   ]
  },
  {
   "attachments": {},
   "cell_type": "markdown",
   "id": "4c04f8c4",
   "metadata": {},
   "source": [
    "# Work on converting `active_config.plotting_config` and `active_config.computation_config` to IdentifyingContext"
   ]
  },
  {
   "cell_type": "code",
   "execution_count": null,
   "id": "bbff31db",
   "metadata": {},
   "outputs": [],
   "source": [
    "active_config = curr_active_pipeline.active_configs['maze1']\n",
    "plotting_config = active_config.plotting_config\n",
    "computation_config = active_config.computation_config\n",
    "pf_params: PlacefieldComputationParameters = computation_config.pf_params\n",
    "spike_analysis: DynamicContainer = computation_config.spike_analysis\n",
    "session_config = active_config.active_session_config"
   ]
  },
  {
   "cell_type": "code",
   "execution_count": null,
   "id": "dd279a6b",
   "metadata": {},
   "outputs": [],
   "source": [
    "# computation_config.to_dict()\n",
    "\n",
    "pf_params_context = IdentifyingContext.init_from_dict(pf_params.to_dict())\n",
    "pf_params_context"
   ]
  },
  {
   "cell_type": "code",
   "execution_count": null,
   "id": "acdec5fa",
   "metadata": {},
   "outputs": [],
   "source": [
    "spike_analysis_context = IdentifyingContext.init_from_dict(spike_analysis.to_dict())\n",
    "spike_analysis_context"
   ]
  },
  {
   "cell_type": "code",
   "execution_count": null,
   "id": "3e183e56",
   "metadata": {},
   "outputs": [],
   "source": [
    "# not quite right:\n",
    "computation_config_context = IdentifyingContext(pf_params=pf_params_context, spike_analysis=spike_analysis_context)\n",
    "computation_config_context"
   ]
  },
  {
   "cell_type": "code",
   "execution_count": null,
   "id": "a6aed3d6",
   "metadata": {},
   "outputs": [],
   "source": [
    "plotting_config.get_figure_save_path()"
   ]
  },
  {
   "cell_type": "code",
   "execution_count": null,
   "id": "d14b34f6",
   "metadata": {},
   "outputs": [],
   "source": [
    "#TODO 2023-06-14 07:49: - [ ] Conceptual Arguments for specifying how to display a dict-like:\n",
    "keys_transformer=lambda k: k.to_lower()\n",
    "values_transformer=lambda v: np.array(v) # get precision and stuff"
   ]
  }
 ],
 "metadata": {
  "kernelspec": {
   "display_name": "Python 3 (ipykernel)",
   "language": "python",
   "name": "python3"
  },
  "language_info": {
   "codemirror_mode": {
    "name": "ipython",
    "version": 3
   },
   "file_extension": ".py",
   "mimetype": "text/x-python",
   "name": "python",
   "nbconvert_exporter": "python",
   "pygments_lexer": "ipython3",
   "version": "3.9.13"
  },
  "toc-showmarkdowntxt": false,
  "toc-showtags": false
 },
 "nbformat": 4,
 "nbformat_minor": 5
}
