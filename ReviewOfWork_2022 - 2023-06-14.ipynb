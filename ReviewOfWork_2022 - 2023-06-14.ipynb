{
 "cells": [
  {
   "cell_type": "code",
   "execution_count": 1,
   "id": "0056bc66-7629-4ef7-8c87-f28f8fcd9dc8",
   "metadata": {
    "autorun": true,
    "tags": [
     "imports",
     "REQUIRED",
     "ACTIVE"
    ]
   },
   "outputs": [
    {
     "name": "stdout",
     "output_type": "stream",
     "text": [
      "Automatic pdb calling has been turned OFF\n",
      "build_module_logger(module_name=\"Spike3D.pipeline\"):\n",
      "\t Module logger com.PhoHale.Spike3D.pipeline has file logging enabled and will log to EXTERNAL/TESTING/Logging/debug_com.PhoHale.Spike3D.pipeline.log\n"
     ]
    }
   ],
   "source": [
    "%config IPCompleter.use_jedi = False\n",
    "%pdb off\n",
    "# %load_ext viztracer\n",
    "# from viztracer import VizTracer\n",
    "%load_ext autoreload\n",
    "%autoreload 3\n",
    "import sys\n",
    "from pathlib import Path\n",
    "import neptune # for logging progress and results\n",
    "from pyphoplacecellanalysis.General.Batch.NeptuneAiHelpers import set_environment_variables, neptune_output_figures\n",
    "neptune_kwargs = {'project':\"commander.pho/PhoDibaLongShort2023\",\n",
    "'api_token':\"eyJhcGlfYWRkcmVzcyI6Imh0dHBzOi8vYXBwLm5lcHR1bmUuYWkiLCJhcGlfdXJsIjoiaHR0cHM6Ly9hcHAubmVwdHVuZS5haSIsImFwaV9rZXkiOiIxOGIxODU2My1lZTNhLTQ2ZWMtOTkzNS02ZTRmNzM5YmNjNjIifQ==\"}\n",
    "\n",
    "# required to enable non-blocking interaction:\n",
    "%gui qt5\n",
    "\n",
    "from copy import deepcopy\n",
    "from numba import jit\n",
    "import numpy as np\n",
    "import pandas as pd\n",
    "from attrs import define, field, fields, Factory\n",
    "\n",
    "# Pho's Formatting Preferences\n",
    "# from pyphocorehelpers.preferences_helpers import set_pho_preferences, set_pho_preferences_concise, set_pho_preferences_verbose\n",
    "# set_pho_preferences_concise()\n",
    "\n",
    "## Pho's Custom Libraries:\n",
    "from pyphocorehelpers.general_helpers import CodeConversion\n",
    "from pyphocorehelpers.function_helpers import function_attributes\n",
    "from pyphocorehelpers.print_helpers import print_keys_if_possible, print_value_overview_only, document_active_variables, objsize, print_object_memory_usage, debug_dump_object_member_shapes, TypePrintMode\n",
    "from pyphocorehelpers.print_helpers import get_now_day_str, get_now_time_str, get_now_time_precise_str\n",
    "from pyphocorehelpers.programming_helpers import IPythonHelpers\n",
    "from pyphocorehelpers.Filesystem.path_helpers import find_first_extant_path\n",
    "from pyphocorehelpers.Filesystem.open_in_system_file_manager import reveal_in_system_file_manager\n",
    "\n",
    "# NeuroPy (Diba Lab Python Repo) Loading\n",
    "# from neuropy import core\n",
    "from neuropy.analyses.placefields import PlacefieldComputationParameters\n",
    "from neuropy.core.epoch import NamedTimerange, Epoch\n",
    "from neuropy.core.ratemap import Ratemap\n",
    "from neuropy.core.session.Formats.BaseDataSessionFormats import DataSessionFormatRegistryHolder\n",
    "from neuropy.core.session.Formats.Specific.BapunDataSessionFormat import BapunDataSessionFormatRegisteredClass\n",
    "from neuropy.core.session.Formats.Specific.KDibaOldDataSessionFormat import KDibaOldDataSessionFormatRegisteredClass\n",
    "from neuropy.core.session.Formats.Specific.RachelDataSessionFormat import RachelDataSessionFormat\n",
    "from neuropy.core.session.Formats.Specific.HiroDataSessionFormat import HiroDataSessionFormatRegisteredClass\n",
    "\n",
    "## For computation parameters:\n",
    "from neuropy.analyses.placefields import PlacefieldComputationParameters\n",
    "from neuropy.utils.dynamic_container import DynamicContainer\n",
    "from neuropy.utils.result_context import IdentifyingContext\n",
    "from neuropy.core.session.Formats.BaseDataSessionFormats import find_local_session_paths\n",
    "from neuropy.core.neurons import NeuronType\n",
    "\n",
    "from pyphocorehelpers.print_helpers import generate_html_string\n",
    "\n",
    "# pyPhoPlaceCellAnalysis:\n",
    "from pyphoplacecellanalysis.General.Pipeline.NeuropyPipeline import NeuropyPipeline # get_neuron_identities\n",
    "from pyphoplacecellanalysis.General.Mixins.ExportHelpers import export_pyqtgraph_plot, create_daily_programmatic_display_function_testing_folder_if_needed, session_context_to_relative_path\n",
    "from pyphoplacecellanalysis.General.Batch.NonInteractiveProcessing import batch_load_session, batch_extended_computations, SessionBatchProgress, batch_programmatic_figures, batch_extended_programmatic_figures\n",
    "from pyphoplacecellanalysis.General.Pipeline.NeuropyPipeline import PipelineSavingScheme\n",
    "from pyphoplacecellanalysis.Pho2D.matplotlib.visualize_heatmap import visualize_heatmap\n",
    "from pyphoplacecellanalysis.Pho2D.PyQtPlots.Extensions.pyqtgraph_helpers import build_pyqtgraph_epoch_indicator_regions # Add session indicators to pyqtgraph plot\n",
    "from pyphoplacecellanalysis.General.Pipeline.Stages.DisplayFunctions.MultiContextComparingDisplayFunctions.LongShortTrackComparingDisplayFunctions import _helper_add_long_short_session_indicator_regions\n",
    "\n",
    "import pyphoplacecellanalysis.External.pyqtgraph as pg\n",
    "# 'time_bin_indices': valid_time_bin_indicies, 'posterior_to_pf_mean_surprise': one_left_out_posterior_to_pf_surprises_mean, 'posterior_to_scrambled_pf_mean_surprise': one_left_out_posterior_to_scrambled_pf_surprises_mean}\n",
    "from pyphoplacecellanalysis.General.Pipeline.Stages.DisplayFunctions.MultiContextComparingDisplayFunctions.LongShortTrackComparingDisplayFunctions import plot_long_short_expected_vs_observed_firing_rates\n",
    "from pyphoplacecellanalysis.General.Pipeline.Stages.DisplayFunctions.MultiContextComparingDisplayFunctions.LongShortTrackComparingDisplayFunctions import plot_long_short_surprise_difference_plot\n",
    "\n",
    "from pyphoplacecellanalysis.General.Batch.NonInteractiveProcessing import _update_pipeline_missing_preprocessing_parameters\n",
    "from pyphoplacecellanalysis.General.Mixins.ExportHelpers import perform_write_to_file\n",
    "\n",
    "from pyphoplacecellanalysis.General.Batch.NonInteractiveProcessing import batch_perform_all_plots\n",
    "\n",
    "from scripts.run_BatchAnalysis import post_compute_validate, _on_complete_success_execution_session\n",
    "\n",
    "session_batch_status = {}\n",
    "session_batch_errors = {}\n",
    "enable_saving_to_disk = False\n",
    "\n",
    "global_data_root_parent_path = find_first_extant_path([Path(r'W:\\Data'), Path(r'/media/MAX/Data'), Path(r'/Volumes/MoverNew/data'), Path(r'/home/halechr/turbo/Data')])\n",
    "assert global_data_root_parent_path.exists(), f\"global_data_root_parent_path: {global_data_root_parent_path} does not exist! Is the right computer's config commented out above?\""
   ]
  },
  {
   "attachments": {},
   "cell_type": "markdown",
   "id": "a1538e2a-4e39-4d11-90b5-a9fef9258058",
   "metadata": {
    "tags": [
     "REQUIRED",
     "ACTIVE"
    ]
   },
   "source": [
    "# Load Pipeline"
   ]
  },
  {
   "cell_type": "code",
   "execution_count": 2,
   "id": "f917bad9-8fe7-4882-b83b-71cf878fffd2",
   "metadata": {
    "tags": [
     "load",
     "REQUIRED"
    ]
   },
   "outputs": [],
   "source": [
    "# ==================================================================================================================== #\n",
    "# Load Data                                                                                                            #\n",
    "# ==================================================================================================================== #\n",
    "\n",
    "active_data_mode_name = 'kdiba'\n",
    "\n",
    "## Data must be pre-processed using the MATLAB script located here: \n",
    "#     neuropy/data_session_pre_processing_scripts/KDIBA/IIDataMat_Export_ToPython_2022_08_01.m\n",
    "# From pre-computed .mat files:\n",
    "\n",
    "local_session_root_parent_context = IdentifyingContext(format_name=active_data_mode_name) # , animal_name='', configuration_name='one', session_name=self.session_name\n",
    "local_session_root_parent_path = global_data_root_parent_path.joinpath('KDIBA')\n",
    "\n",
    "good_contexts_list = [\n",
    "    IdentifyingContext(format_name='kdiba',animal='gor01',exper_name='one',session_name='2006-6-08_14-26-15'),\n",
    "    IdentifyingContext(format_name='kdiba',animal='gor01',exper_name='one',session_name='2006-6-09_1-22-43'),\n",
    "    IdentifyingContext(format_name='kdiba',animal='gor01',exper_name='one',session_name='2006-6-12_15-55-31'),\n",
    "    IdentifyingContext(format_name='kdiba',animal='gor01',exper_name='one',session_name='2006-6-13_14-42-6'),\n",
    "    IdentifyingContext(format_name='kdiba',animal='gor01',exper_name='two',session_name='2006-6-07_16-40-19'),\n",
    "    IdentifyingContext(format_name='kdiba',animal='gor01',exper_name='two',session_name='2006-6-08_21-16-25'),\n",
    "    IdentifyingContext(format_name='kdiba',animal='gor01',exper_name='two',session_name='2006-6-09_22-24-40'),\n",
    "    IdentifyingContext(format_name='kdiba',animal='gor01',exper_name='two',session_name='2006-6-12_16-53-46'),\n",
    "    IdentifyingContext(format_name='kdiba',animal='gor01',exper_name='two',session_name='2006-6-13_15-22-3'),\n",
    "    IdentifyingContext(format_name='kdiba',animal='vvp01',exper_name='one',session_name='2006-4-09_17-29-30'),\n",
    "    IdentifyingContext(format_name='kdiba',animal='vvp01',exper_name='one',session_name='2006-4-10_12-25-50'),\n",
    "    IdentifyingContext(format_name='kdiba',animal='vvp01',exper_name='one',session_name='2006-4-19_13-34-40'),\n",
    "    IdentifyingContext(format_name='kdiba',animal='vvp01',exper_name='two',session_name='2006-4-09_16-40-54'),\n",
    "    IdentifyingContext(format_name='kdiba',animal='vvp01',exper_name='two',session_name='2006-4-10_12-58-3'),\n",
    "    IdentifyingContext(format_name='kdiba',animal='vvp01',exper_name='two',session_name='2006-4-12_15-25-59'),\n",
    "    IdentifyingContext(format_name='kdiba',animal='vvp01',exper_name='two',session_name='2006-4-16_18-47-52'),\n",
    "    IdentifyingContext(format_name='kdiba',animal='vvp01',exper_name='two',session_name='2006-4-17_12-52-15'),\n",
    "    IdentifyingContext(format_name='kdiba',animal='vvp01',exper_name='two',session_name='2006-4-25_13-20-55'),\n",
    "    IdentifyingContext(format_name='kdiba',animal='vvp01',exper_name='two',session_name='2006-4-28_12-38-13'),\n",
    "    IdentifyingContext(format_name='kdiba',animal='pin01',exper_name='one',session_name='11-02_17-46-44'),\n",
    "    IdentifyingContext(format_name='kdiba',animal='pin01',exper_name='one',session_name='11-02_19-28-0'),\n",
    "    IdentifyingContext(format_name='kdiba',animal='pin01',exper_name='one',session_name='11-03_12-3-25'),\n",
    "    IdentifyingContext(format_name='kdiba',animal='pin01',exper_name='one',session_name='11-09_12-15-3'),\n",
    "    IdentifyingContext(format_name='kdiba',animal='pin01',exper_name='one',session_name='11-09_22-4-5'),\n",
    "    IdentifyingContext(format_name='kdiba',animal='pin01',exper_name='one',session_name='fet11-01_12-58-54')\n",
    "]\n",
    "\n"
   ]
  },
  {
   "cell_type": "code",
   "execution_count": 3,
   "id": "d13e68b4-03e0-4388-a35c-87a352a6e6b3",
   "metadata": {
    "scrolled": true,
    "tags": [
     "load",
     "single_session",
     "REQUIRED"
    ]
   },
   "outputs": [
    {
     "name": "stdout",
     "output_type": "stream",
     "text": [
      "Automatic pdb calling has been turned OFF\n",
      "basedir: /media/MAX/Data/KDIBA/gor01/one/2006-6-08_14-26-15\n",
      "Skipping loading from pickled file because force_reload == True.\n",
      "Loading matlab import file results : /media/MAX/Data/KDIBA/gor01/one/2006-6-08_14-26-15/2006-6-08_14-26-15.epochs_info.mat... done.\n",
      "Loading matlab import file results : /media/MAX/Data/KDIBA/gor01/one/2006-6-08_14-26-15/2006-6-08_14-26-15.position_info.mat... done.\n",
      "Loading matlab import file results : /media/MAX/Data/KDIBA/gor01/one/2006-6-08_14-26-15/2006-6-08_14-26-15.spikes.mat... "
     ]
    },
    {
     "name": "stderr",
     "output_type": "stream",
     "text": [
      "/home/halechr/repo/NeuroPy/neuropy/core/session/Formats/SessionSpecifications.py:140: UserWarning: WARNING: Optional File: /media/MAX/Data/KDIBA/gor01/one/2006-6-08_14-26-15/2006-6-08_14-26-15.dat does not exist. Continuing without it.\n",
      "  warnings.warn(f'WARNING: Optional File: {an_optional_filepath} does not exist. Continuing without it.')\n"
     ]
    },
    {
     "name": "stdout",
     "output_type": "stream",
     "text": [
      "done.\n",
      "Failure loading .position.npy. Must recompute.\n",
      "\n",
      "Saving updated position results results : /media/MAX/Data/KDIBA/gor01/one/2006-6-08_14-26-15/2006-6-08_14-26-15.position.npy... 2006-6-08_14-26-15.position.npy saved\n",
      "done.\n",
      "\t force_recompute is True! Forcing recomputation of .interpolated_spike_positions.npy\n",
      "\n",
      "Computing interpolate_spike_positions columns results : spikes_df... done.\n",
      "\t Saving updated interpolated spike position results results : /media/MAX/Data/KDIBA/gor01/one/2006-6-08_14-26-15/2006-6-08_14-26-15.interpolated_spike_positions.npy... 2006-6-08_14-26-15.interpolated_spike_positions.npy saved\n",
      "done.\n",
      "Loading matlab import file results : /media/MAX/Data/KDIBA/gor01/one/2006-6-08_14-26-15/2006-6-08_14-26-15.laps_info.mat... done.\n",
      "setting laps object.\n",
      "session.laps loaded successfully!\n",
      "Loading matlab import file results : /media/MAX/Data/KDIBA/gor01/one/2006-6-08_14-26-15/2006-6-08_14-26-15.replay_info.mat... done.\n",
      "session.replays loaded successfully!\n",
      "Loading success: /media/MAX/Data/KDIBA/gor01/one/2006-6-08_14-26-15/ripple_df.pkl.\n",
      "Failure loading .mua.npy. Must recompute.\n",
      "\n",
      "computing neurons mua for session...\n",
      "\n",
      "Saving mua results results : /media/MAX/Data/KDIBA/gor01/one/2006-6-08_14-26-15/2006-6-08_14-26-15.mua.npy... 2006-6-08_14-26-15.mua.npy saved\n",
      "done.\n",
      "Failure loading .pbe.npy. Must recompute.\n",
      "\n",
      "computing PBE epochs for session...\n",
      "\n",
      "Saving pbe results results : /media/MAX/Data/KDIBA/gor01/one/2006-6-08_14-26-15/2006-6-08_14-26-15.pbe.npy... 2006-6-08_14-26-15.pbe.npy saved\n",
      "done.\n",
      "Computing spikes_df PBEs column results : spikes_df... done.\n",
      "Computing added spike scISI column results : spikes_df... done.\n",
      "POSTLOAD_estimate_laps_and_replays()...\n",
      "sane_midpoint_x: 142.21650629615837, hardcoded_track_midpoint_x: None, track_min_max_x: (22.736279243974774, 261.696733348342)\n",
      "hardcoded_track_midpoint_x is None, falling back to sane_midpoint_x... 142.21650629615837\n",
      "desc_crossings_x: (41,), asc_crossings_x: (41,)\n",
      "computing PBE epochs for session...\n",
      "\n",
      "computing estimated replay epochs for session...\n",
      "\n",
      "\t using KnownFilterEpochs.PBE as surrogate replays...\n",
      "\t curr_replays: 364\n",
      "skip_save_on_initial_load is True so resultant pipeline will not be saved to the pickle file.\n",
      "Applying session filter named \"maze1\"...\n",
      "Constraining to epoch with times (start: 0.0, end: 1211.5580800310709)\n",
      "computing neurons mua for session...\n",
      "\n"
     ]
    },
    {
     "name": "stderr",
     "output_type": "stream",
     "text": [
      "/home/halechr/repo/NeuroPy/neuropy/core/laps.py:65: SettingWithCopyWarning: \n",
      "A value is trying to be set on a copy of a slice from a DataFrame.\n",
      "Try using .loc[row_indexer,col_indexer] = value instead\n",
      "\n",
      "See the caveats in the documentation: https://pandas.pydata.org/pandas-docs/stable/user_guide/indexing.html#returning-a-view-versus-a-copy\n",
      "  laps_df[['lap_id']] = laps_df[['lap_id']].astype('int')\n",
      "/home/halechr/repo/NeuroPy/neuropy/core/laps.py:69: SettingWithCopyWarning: \n",
      "A value is trying to be set on a copy of a slice from a DataFrame.\n",
      "Try using .loc[row_indexer,col_indexer] = value instead\n",
      "\n",
      "See the caveats in the documentation: https://pandas.pydata.org/pandas-docs/stable/user_guide/indexing.html#returning-a-view-versus-a-copy\n",
      "  laps_df[['start_spike_index', 'end_spike_index']] = laps_df[['start_spike_index', 'end_spike_index']].astype('int')\n",
      "/home/halechr/repo/NeuroPy/neuropy/core/laps.py:70: SettingWithCopyWarning: \n",
      "A value is trying to be set on a copy of a slice from a DataFrame.\n",
      "Try using .loc[row_indexer,col_indexer] = value instead\n",
      "\n",
      "See the caveats in the documentation: https://pandas.pydata.org/pandas-docs/stable/user_guide/indexing.html#returning-a-view-versus-a-copy\n",
      "  laps_df['num_spikes'] = laps_df['end_spike_index'] - laps_df['start_spike_index']\n",
      "/home/halechr/repo/NeuroPy/neuropy/core/laps.py:73: SettingWithCopyWarning: \n",
      "A value is trying to be set on a copy of a slice from a DataFrame.\n",
      "Try using .loc[row_indexer,col_indexer] = value instead\n",
      "\n",
      "See the caveats in the documentation: https://pandas.pydata.org/pandas-docs/stable/user_guide/indexing.html#returning-a-view-versus-a-copy\n",
      "  laps_df['lap_dir'] = laps_df['lap_dir'].astype('int')\n",
      "/home/halechr/repo/NeuroPy/neuropy/core/laps.py:81: SettingWithCopyWarning: \n",
      "A value is trying to be set on a copy of a slice from a DataFrame.\n",
      "Try using .loc[row_indexer,col_indexer] = value instead\n",
      "\n",
      "See the caveats in the documentation: https://pandas.pydata.org/pandas-docs/stable/user_guide/indexing.html#returning-a-view-versus-a-copy\n",
      "  laps_df['label'] = laps_df['lap_id'].astype('str') # add the string \"label\" column\n"
     ]
    },
    {
     "name": "stdout",
     "output_type": "stream",
     "text": [
      "Applying session filter named \"maze2\"...\n",
      "Constraining to epoch with times (start: 1211.5580800310709, end: 2093.8978568242164)\n",
      "computing neurons mua for session...\n",
      "\n"
     ]
    },
    {
     "name": "stderr",
     "output_type": "stream",
     "text": [
      "/home/halechr/repo/NeuroPy/neuropy/core/laps.py:65: SettingWithCopyWarning: \n",
      "A value is trying to be set on a copy of a slice from a DataFrame.\n",
      "Try using .loc[row_indexer,col_indexer] = value instead\n",
      "\n",
      "See the caveats in the documentation: https://pandas.pydata.org/pandas-docs/stable/user_guide/indexing.html#returning-a-view-versus-a-copy\n",
      "  laps_df[['lap_id']] = laps_df[['lap_id']].astype('int')\n",
      "/home/halechr/repo/NeuroPy/neuropy/core/laps.py:69: SettingWithCopyWarning: \n",
      "A value is trying to be set on a copy of a slice from a DataFrame.\n",
      "Try using .loc[row_indexer,col_indexer] = value instead\n",
      "\n",
      "See the caveats in the documentation: https://pandas.pydata.org/pandas-docs/stable/user_guide/indexing.html#returning-a-view-versus-a-copy\n",
      "  laps_df[['start_spike_index', 'end_spike_index']] = laps_df[['start_spike_index', 'end_spike_index']].astype('int')\n",
      "/home/halechr/repo/NeuroPy/neuropy/core/laps.py:70: SettingWithCopyWarning: \n",
      "A value is trying to be set on a copy of a slice from a DataFrame.\n",
      "Try using .loc[row_indexer,col_indexer] = value instead\n",
      "\n",
      "See the caveats in the documentation: https://pandas.pydata.org/pandas-docs/stable/user_guide/indexing.html#returning-a-view-versus-a-copy\n",
      "  laps_df['num_spikes'] = laps_df['end_spike_index'] - laps_df['start_spike_index']\n",
      "/home/halechr/repo/NeuroPy/neuropy/core/laps.py:73: SettingWithCopyWarning: \n",
      "A value is trying to be set on a copy of a slice from a DataFrame.\n",
      "Try using .loc[row_indexer,col_indexer] = value instead\n",
      "\n",
      "See the caveats in the documentation: https://pandas.pydata.org/pandas-docs/stable/user_guide/indexing.html#returning-a-view-versus-a-copy\n",
      "  laps_df['lap_dir'] = laps_df['lap_dir'].astype('int')\n",
      "/home/halechr/repo/NeuroPy/neuropy/core/laps.py:81: SettingWithCopyWarning: \n",
      "A value is trying to be set on a copy of a slice from a DataFrame.\n",
      "Try using .loc[row_indexer,col_indexer] = value instead\n",
      "\n",
      "See the caveats in the documentation: https://pandas.pydata.org/pandas-docs/stable/user_guide/indexing.html#returning-a-view-versus-a-copy\n",
      "  laps_df['label'] = laps_df['lap_id'].astype('str') # add the string \"label\" column\n"
     ]
    },
    {
     "name": "stdout",
     "output_type": "stream",
     "text": [
      "Applying session filter named \"maze\"...\n",
      "Constraining to epoch with times (start: 0.0, end: 2093.8978568242164)\n",
      "computing neurons mua for session...\n",
      "\n"
     ]
    },
    {
     "name": "stderr",
     "output_type": "stream",
     "text": [
      "/home/halechr/repo/NeuroPy/neuropy/core/laps.py:65: SettingWithCopyWarning: \n",
      "A value is trying to be set on a copy of a slice from a DataFrame.\n",
      "Try using .loc[row_indexer,col_indexer] = value instead\n",
      "\n",
      "See the caveats in the documentation: https://pandas.pydata.org/pandas-docs/stable/user_guide/indexing.html#returning-a-view-versus-a-copy\n",
      "  laps_df[['lap_id']] = laps_df[['lap_id']].astype('int')\n",
      "/home/halechr/repo/NeuroPy/neuropy/core/laps.py:69: SettingWithCopyWarning: \n",
      "A value is trying to be set on a copy of a slice from a DataFrame.\n",
      "Try using .loc[row_indexer,col_indexer] = value instead\n",
      "\n",
      "See the caveats in the documentation: https://pandas.pydata.org/pandas-docs/stable/user_guide/indexing.html#returning-a-view-versus-a-copy\n",
      "  laps_df[['start_spike_index', 'end_spike_index']] = laps_df[['start_spike_index', 'end_spike_index']].astype('int')\n",
      "/home/halechr/repo/NeuroPy/neuropy/core/laps.py:70: SettingWithCopyWarning: \n",
      "A value is trying to be set on a copy of a slice from a DataFrame.\n",
      "Try using .loc[row_indexer,col_indexer] = value instead\n",
      "\n",
      "See the caveats in the documentation: https://pandas.pydata.org/pandas-docs/stable/user_guide/indexing.html#returning-a-view-versus-a-copy\n",
      "  laps_df['num_spikes'] = laps_df['end_spike_index'] - laps_df['start_spike_index']\n",
      "/home/halechr/repo/NeuroPy/neuropy/core/laps.py:73: SettingWithCopyWarning: \n",
      "A value is trying to be set on a copy of a slice from a DataFrame.\n",
      "Try using .loc[row_indexer,col_indexer] = value instead\n",
      "\n",
      "See the caveats in the documentation: https://pandas.pydata.org/pandas-docs/stable/user_guide/indexing.html#returning-a-view-versus-a-copy\n",
      "  laps_df['lap_dir'] = laps_df['lap_dir'].astype('int')\n",
      "/home/halechr/repo/NeuroPy/neuropy/core/laps.py:81: SettingWithCopyWarning: \n",
      "A value is trying to be set on a copy of a slice from a DataFrame.\n",
      "Try using .loc[row_indexer,col_indexer] = value instead\n",
      "\n",
      "See the caveats in the documentation: https://pandas.pydata.org/pandas-docs/stable/user_guide/indexing.html#returning-a-view-versus-a-copy\n",
      "  laps_df['label'] = laps_df['lap_id'].astype('str') # add the string \"label\" column\n"
     ]
    },
    {
     "name": "stdout",
     "output_type": "stream",
     "text": [
      "using provided computation_functions_name_includelist: ['_perform_baseline_placefield_computation', '_perform_extended_statistics_computation', '_perform_position_decoding_computation', '_perform_firing_rate_trends_computation', '_perform_pf_find_ratemap_peaks_computation']\n",
      "due to includelist, including only 5 out of 16 registered computation functions.\n",
      "Recomputing active_epoch_placefields... using self.config.grid_bin_bounds_1D: (29.16, 261.7)\n",
      "\t done.\n",
      "Recomputing active_epoch_placefields2D... using self.config.grid_bin_bounds: ((29.16, 261.7), (130.23, 150.99))\n",
      "\t done.\n",
      "WARNING: PREVIOUSLY ASSERT: \n",
      "\t spikes_df[time_variable_name]: (18947,) should be less than time_window_edges: (35889,)!\n",
      "WARNING: PREVIOUSLY ASSERT: \n",
      "\t spikes_df[time_variable_name]: (18947,) should be less than time_window_edges: (35889,)!\n",
      "updating computation_results...\n",
      "done.\n",
      "due to includelist, including only 5 out of 16 registered computation functions.\n",
      "Recomputing active_epoch_placefields... using self.config.grid_bin_bounds_1D: (29.16, 261.7)\n",
      "\t done.\n",
      "Recomputing active_epoch_placefields2D... using self.config.grid_bin_bounds: ((29.16, 261.7), (130.23, 150.99))\n",
      "\t done.\n",
      "WARNING: PREVIOUSLY ASSERT: \n",
      "\t spikes_df[time_variable_name]: (15487,) should be less than time_window_edges: (24848,)!\n",
      "WARNING: PREVIOUSLY ASSERT: \n",
      "\t spikes_df[time_variable_name]: (15487,) should be less than time_window_edges: (24848,)!\n",
      "updating computation_results...\n",
      "done.\n",
      "due to includelist, including only 5 out of 16 registered computation functions.\n",
      "Recomputing active_epoch_placefields... using self.config.grid_bin_bounds_1D: (29.16, 261.7)\n",
      "\t done.\n",
      "Recomputing active_epoch_placefields2D... using self.config.grid_bin_bounds: ((29.16, 261.7), (130.23, 150.99))\n",
      "\t done.\n",
      "WARNING: PREVIOUSLY ASSERT: \n",
      "\t spikes_df[time_variable_name]: (34434,) should be less than time_window_edges: (61862,)!\n",
      "WARNING: PREVIOUSLY ASSERT: \n",
      "\t spikes_df[time_variable_name]: (34434,) should be less than time_window_edges: (61862,)!\n",
      "updating computation_results...\n",
      "done.\n",
      "WARNING: saving_mode is SKIP_SAVING so pipeline will not be saved despite calling .save_pipeline(...).\n",
      "saving_mode.shouldSave == False, so not saving at the end of batch_load_session\n"
     ]
    }
   ],
   "source": [
    "%pdb off\n",
    "# %%viztracer\n",
    "# [*] - indicates bad or session with a problem\n",
    "# 0, 1, 2, 3, 4, 5, 6, 7, [8], [9], 10, 11, [12], 13, 14, [15], [16], 17, \n",
    "# curr_context: IdentifyingContext = good_contexts_list[1] # select the session from all of the good sessions here.\n",
    "curr_context = IdentifyingContext(format_name='kdiba',animal='gor01',exper_name='one',session_name='2006-6-08_14-26-15')\n",
    "# curr_context = IdentifyingContext(format_name='kdiba',animal='gor01',exper_name='one',session_name='2006-6-09_1-22-43')\n",
    "# curr_context = IdentifyingContext(format_name='kdiba',animal='gor01',exper_name='one',session_name='2006-6-12_15-55-31')\n",
    "# curr_context = IdentifyingContext(format_name='kdiba',animal='gor01',exper_name='one',session_name='2006-6-13_14-42-6')\n",
    "# curr_context = IdentifyingContext(format_name='kdiba',animal='gor01',exper_name='two',session_name='2006-6-07_16-40-19') # DONE\n",
    "# curr_context = IdentifyingContext(format_name='kdiba',animal='gor01',exper_name='two',session_name='2006-6-08_21-16-25') # DONE\n",
    "# curr_context = IdentifyingContext(format_name='kdiba',animal='gor01',exper_name='two',session_name='2006-6-09_22-24-40') # DONE\n",
    "# curr_context = IdentifyingContext(format_name='kdiba',animal='gor01',exper_name='two',session_name='2006-6-12_16-53-46')\n",
    "# curr_context = IdentifyingContext(format_name='kdiba',animal='gor01',exper_name='two',session_name='2006-6-13_15-22-3')\n",
    "# curr_context = IdentifyingContext(format_name='kdiba',animal='vvp01',exper_name='one',session_name='2006-4-09_17-29-30') # DONE\n",
    "# curr_context = IdentifyingContext(format_name='kdiba',animal='vvp01',exper_name='one',session_name='2006-4-10_12-25-50') # DONE\n",
    "# curr_context = IdentifyingContext(format_name='kdiba',animal='vvp01',exper_name='one',session_name='2006-4-19_13-34-40')\n",
    "# curr_context = IdentifyingContext(format_name='kdiba',animal='vvp01',exper_name='two',session_name='2006-4-09_16-40-54')\n",
    "# curr_context = IdentifyingContext(format_name='kdiba',animal='vvp01',exper_name='two',session_name='2006-4-10_12-58-3')\n",
    "# curr_context = IdentifyingContext(format_name='kdiba',animal='vvp01',exper_name='two',session_name='2006-4-12_15-25-59')\n",
    "# curr_context = IdentifyingContext(format_name='kdiba',animal='vvp01',exper_name='two',session_name='2006-4-16_18-47-52')\n",
    "# curr_context = IdentifyingContext(format_name='kdiba',animal='vvp01',exper_name='two',session_name='2006-4-17_12-52-15')\n",
    "# curr_context = IdentifyingContext(format_name='kdiba',animal='vvp01',exper_name='two',session_name='2006-4-25_13-20-55')\n",
    "# curr_context = IdentifyingContext(format_name='kdiba',animal='vvp01',exper_name='two',session_name='2006-4-28_12-38-13')\n",
    "# curr_context = IdentifyingContext(format_name='kdiba',animal='pin01',exper_name='one',session_name='11-02_17-46-44')\n",
    "# curr_context = IdentifyingContext(format_name='kdiba',animal='pin01',exper_name='one',session_name='11-02_19-28-0')\n",
    "# curr_context = IdentifyingContext(format_name='kdiba',animal='pin01',exper_name='one',session_name='11-03_12-3-25')\n",
    "# curr_context = IdentifyingContext(format_name='kdiba',animal='pin01',exper_name='one',session_name='11-09_12-15-3')\n",
    "# curr_context = IdentifyingContext(format_name='kdiba',animal='pin01',exper_name='one',session_name='11-09_22-4-5')\n",
    "# curr_context = IdentifyingContext(format_name='kdiba',animal='pin01',exper_name='one',session_name='fet11-01_12-58-54')\n",
    "\n",
    "# curr_context = IdentifyingContext(format_name='kdiba',animal='gor01',exper_name='one',session_name='2006-6-08_14-26-15')\n",
    "# curr_context = IdentifyingContext(format_name='kdiba',animal='gor01',exper_name='one',session_name='2006-6-09_1-22-43')\n",
    "# curr_context = IdentifyingContext(format_name='kdiba',animal='vvp01',exper_name='two',session_name='2006-4-09_16-40-54')\n",
    "# curr_context = IdentifyingContext(format_name='kdiba',animal='gor01',exper_name='two',session_name='2006-6-07_16-40-19')\n",
    "# curr_context = IdentifyingContext(format_name='kdiba',animal='gor01',exper_name='two',session_name='2006-6-08_21-16-25')\n",
    "# curr_context = IdentifyingContext(format_name='kdiba',animal='vvp01',exper_name='one',session_name='2006-4-09_17-29-30')\n",
    "# curr_context = IdentifyingContext(format_name='kdiba',animal='pin01',exper_name='one',session_name='11-02_17-46-44')\n",
    "# curr_context = IdentifyingContext(format_name='kdiba',animal='pin01',exper_name='one',session_name='11-02_19-28-0')\n",
    "# curr_context = IdentifyingContext(format_name='kdiba',animal='pin01',exper_name='one',session_name='fet11-01_12-58-54')\n",
    "# curr_context = IdentifyingContext(format_name='kdiba',animal='pin01',exper_name='one',session_name='11-03_12-3-25')\n",
    "\n",
    "local_session_parent_path: Path = local_session_root_parent_path.joinpath(curr_context.animal, curr_context.exper_name) # 'gor01', 'one' - probably not needed anymore\n",
    "basedir: Path = local_session_parent_path.joinpath(curr_context.session_name).resolve()\n",
    "print(f'basedir: {str(basedir)}')\n",
    "\n",
    "# Read if possible:\n",
    "saving_mode = PipelineSavingScheme.SKIP_SAVING\n",
    "# force_reload = False\n",
    "\n",
    "# Force write:\n",
    "# saving_mode = PipelineSavingScheme.TEMP_THEN_OVERWRITE\n",
    "# saving_mode = PipelineSavingScheme.OVERWRITE_IN_PLACE\n",
    "force_reload = True\n",
    "\n",
    "\n",
    "## TODO: if loading is not possible, we need to change the `saving_mode` so that the new results are properly saved.\n",
    "\n",
    "\n",
    "    # ==================================================================================================================== #\n",
    "    # Load Pipeline                                                                                                        #\n",
    "    # ==================================================================================================================== #\n",
    "# with VizTracer(output_file=f\"viztracer_{get_now_time_str()}-full_session_LOO_decoding_analysis.json\", min_duration=200, tracer_entries=3000000, ignore_frozen=True) as tracer:\n",
    "# epoch_name_includelist = ['maze']\n",
    "epoch_name_includelist = None\n",
    "active_computation_functions_name_includelist=[#'_perform_estimated_epochs_computation', \n",
    "                                            '_perform_baseline_placefield_computation',\n",
    "                                        # '_perform_time_dependent_placefield_computation',\n",
    "                                        '_perform_extended_statistics_computation',\n",
    "                                        '_perform_position_decoding_computation', \n",
    "                                        '_perform_firing_rate_trends_computation',\n",
    "                                        '_perform_pf_find_ratemap_peaks_computation',\n",
    "                                        # '_perform_time_dependent_pf_sequential_surprise_computation'\n",
    "                                        # '_perform_two_step_position_decoding_computation',\n",
    "                                        # '_perform_recursive_latent_placefield_decoding'\n",
    "                                    ]\n",
    "# active_computation_functions_name_includelist=['_perform_baseline_placefield_computation']\n",
    "\n",
    "curr_active_pipeline = batch_load_session(global_data_root_parent_path, active_data_mode_name, basedir, epoch_name_includelist=epoch_name_includelist,\n",
    "                                        computation_functions_name_includelist=active_computation_functions_name_includelist,\n",
    "                                        saving_mode=saving_mode, force_reload=force_reload,\n",
    "                                        skip_extended_batch_computations=True, debug_print=False, fail_on_exception=True) # , active_pickle_filename = 'loadedSessPickle_withParameters.pkl'\n",
    "\n",
    "\n",
    "if not force_reload: # not just force_reload, needs to recompute whenever the computation fails.\n",
    "    try:\n",
    "        curr_active_pipeline.load_pickled_global_computation_results()\n",
    "    except Exception as e:\n",
    "        print(f'cannot load global results: {e}')\n",
    "\n",
    "# 6m 1.1s\n",
    "# 12m 15.6s\n"
   ]
  },
  {
   "cell_type": "code",
   "execution_count": 4,
   "id": "ac8aab9a",
   "metadata": {},
   "outputs": [
    {
     "name": "stdout",
     "output_type": "stream",
     "text": [
      "blocking and waiting for user input. Press [enter] to confirm selection change or [esc] to revert with no change.\n"
     ]
    },
    {
     "name": "stderr",
     "output_type": "stream",
     "text": [
      "qt.qpa.wayland: Wayland does not support QWindow::requestActivate()\n",
      "qt.qpa.wayland: Wayland does not support QWindow::requestActivate()\n"
     ]
    },
    {
     "name": "stdout",
     "output_type": "stream",
     "text": [
      "(29.16, 130.23) --> (261.70, 150.99)\n",
      "(29.16, 261.70), (130.23, 150.99)\n",
      "The buttons you used were: 1 1\n",
      "user confirmed extents: (29.16, 261.7, 130.23, 150.99)\n",
      "_on_update_grid_bin_bounds(new_grid_bin_bounds: (29.16, 261.7, 130.23, 150.99))\n",
      "Add this to `specific_session_override_dict`:\n",
      "\n",
      "IdentifyingContext(format_name='kdiba',animal='gor01',exper_name='one',session_name='2006-6-08_14-26-15'):dict(grid_bin_bounds=(((29.16, 261.7), (130.23, 150.99)))),\n",
      "\n",
      "grid_bin_bounds: (29.16, 261.7, 130.23, 150.99)\n",
      "Add this to `specific_session_override_dict`:\n",
      "\n",
      "IdentifyingContext(format_name='kdiba',animal='gor01',exper_name='one',session_name='2006-6-08_14-26-15'):dict(grid_bin_bounds=(((29.16, 261.7), (130.23, 150.99)))),\n",
      "\n"
     ]
    }
   ],
   "source": [
    "%matplotlib qt\n",
    "from neuropy.utils.matplotlib_helpers import interactive_select_grid_bin_bounds_2D\n",
    "# fig, ax, rect_selector, set_extents = interactive_select_grid_bin_bounds_2D(curr_active_pipeline, epoch_name='maze', should_block_for_input=True)\n",
    "\n",
    "grid_bin_bounds = interactive_select_grid_bin_bounds_2D(curr_active_pipeline, epoch_name='maze', should_block_for_input=True)\n",
    "print(f'grid_bin_bounds: {grid_bin_bounds}')\n",
    "print(f\"Add this to `specific_session_override_dict`:\\n\\n{curr_active_pipeline.get_session_context().get_initialization_code_string()}:dict(grid_bin_bounds=({(grid_bin_bounds[0], grid_bin_bounds[1]), (grid_bin_bounds[2], grid_bin_bounds[3])})),\\n\")\n",
    "\n",
    "\n",
    "# IdentifyingContext(format_name='kdiba',animal='gor01',exper_name='one',session_name='2006-6-08_14-26-15'):dict(grid_bin_bounds=(((29.16, 261.7), (130.23, 150.99)))),"
   ]
  },
  {
   "cell_type": "code",
   "execution_count": 6,
   "id": "3a29b890",
   "metadata": {
    "tags": []
   },
   "outputs": [
    {
     "name": "stdout",
     "output_type": "stream",
     "text": [
      "were pipeline preprocessing parameters missing and updated?: False\n"
     ]
    }
   ],
   "source": [
    "## Post Compute Validate 2023-05-16:\n",
    "from scripts.run_BatchAnalysis import post_compute_validate\n",
    "\n",
    "post_compute_validate(curr_active_pipeline)"
   ]
  },
  {
   "cell_type": "code",
   "execution_count": 7,
   "id": "b7f4bc79",
   "metadata": {
    "tags": []
   },
   "outputs": [
    {
     "name": "stdout",
     "output_type": "stream",
     "text": [
      "included includelist is specified: ['long_short_fr_indicies_analyses', 'jonathan_firing_rate_analysis', 'long_short_decoding_analyses', 'long_short_post_decoding'], so only performing these extended computations.\n",
      "Running batch_extended_computations(...) with global_epoch_name: \"maze\"\n",
      "jonathan_firing_rate_analysis missing.\n",
      "\t Recomputing jonathan_firing_rate_analysis...\n",
      "\t done.\n",
      "long_short_fr_indicies_analyses missing.\n",
      "\t Recomputing long_short_fr_indicies_analyses...\n",
      "\t done.\n",
      "long_short_decoding_analyses missing.\n",
      "\t Recomputing long_short_decoding_analyses...\n",
      "sane_midpoint_x: 142.21650629615837, hardcoded_track_midpoint_x: None, track_min_max_x: (22.736279243974774, 261.696733348342)\n",
      "hardcoded_track_midpoint_x is None, falling back to sane_midpoint_x... 142.21650629615837\n",
      "desc_crossings_x: (20,), asc_crossings_x: (20,)\n",
      "setting new computation epochs because laps changed.\n",
      "using self.config.grid_bin_bounds_1D: (29.16, 261.7)\n",
      "using self.config.grid_bin_bounds: ((29.16, 261.7), (130.23, 150.99))\n",
      "Performing run_specific_computations_single_context on filtered_session with filter named \"maze1\"...\n",
      "Performing _execute_computation_functions(...) with 1 registered_computation_functions...\n",
      "WARNING: PREVIOUSLY ASSERT: \n",
      "\t spikes_df[time_variable_name]: (18947,) should be less than time_window_edges: (35889,)!\n",
      "WARNING: PREVIOUSLY ASSERT: \n",
      "\t spikes_df[time_variable_name]: (18947,) should be less than time_window_edges: (35889,)!\n",
      "_execute_computation_functions(...): \n",
      "\taccumulated_errors: None\n",
      "\tcomputation_times: {<function DefaultComputationFunctions._perform_position_decoding_computation at 0x7f0fcdd07430>: datetime.datetime(2023, 6, 14, 13, 14, 37, 707467)}\n",
      "Performing run_specific_computations_single_context on filtered_session with filter named \"maze2\"...\n",
      "Performing _execute_computation_functions(...) with 1 registered_computation_functions...\n",
      "WARNING: PREVIOUSLY ASSERT: \n",
      "\t spikes_df[time_variable_name]: (15487,) should be less than time_window_edges: (24848,)!\n",
      "WARNING: PREVIOUSLY ASSERT: \n",
      "\t spikes_df[time_variable_name]: (15487,) should be less than time_window_edges: (24848,)!\n",
      "_execute_computation_functions(...): \n",
      "\taccumulated_errors: None\n",
      "\tcomputation_times: {<function DefaultComputationFunctions._perform_position_decoding_computation at 0x7f0fcdd07430>: datetime.datetime(2023, 6, 14, 13, 15, 0, 78927)}\n",
      "self will be re-binned to match target_one_step_decoder...\n",
      "WARNING: PREVIOUSLY ASSERT: \n",
      "\t spikes_df[time_variable_name]: (15487,) should be less than time_window_edges: (24848,)!\n",
      "WARNING: PREVIOUSLY ASSERT: \n",
      "\t spikes_df[time_variable_name]: (15487,) should be less than time_window_edges: (24848,)!\n",
      "Performing run_specific_computations_single_context on filtered_session with filter named \"maze1\"...\n",
      "Performing _execute_computation_functions(...) with 1 registered_computation_functions...\n",
      "WARNING: PREVIOUSLY ASSERT: \n",
      "\t spikes_df[time_variable_name]: (18947,) should be less than time_window_edges: (35889,)!\n",
      "WARNING: PREVIOUSLY ASSERT: \n",
      "\t spikes_df[time_variable_name]: (18947,) should be less than time_window_edges: (35889,)!\n",
      "_execute_computation_functions(...): \n",
      "\taccumulated_errors: None\n",
      "\tcomputation_times: {<function DefaultComputationFunctions._perform_position_decoding_computation at 0x7f0fcdd07430>: datetime.datetime(2023, 6, 14, 13, 15, 35, 525200)}\n",
      "Performing run_specific_computations_single_context on filtered_session with filter named \"maze2\"...\n",
      "Performing _execute_computation_functions(...) with 1 registered_computation_functions...\n",
      "WARNING: PREVIOUSLY ASSERT: \n",
      "\t spikes_df[time_variable_name]: (15487,) should be less than time_window_edges: (24848,)!\n",
      "WARNING: PREVIOUSLY ASSERT: \n",
      "\t spikes_df[time_variable_name]: (15487,) should be less than time_window_edges: (24848,)!\n",
      "_execute_computation_functions(...): \n",
      "\taccumulated_errors: None\n",
      "\tcomputation_times: {<function DefaultComputationFunctions._perform_position_decoding_computation at 0x7f0fcdd07430>: datetime.datetime(2023, 6, 14, 13, 15, 57, 909081)}\n",
      "self will be re-binned to match target_one_step_decoder...\n",
      "WARNING: PREVIOUSLY ASSERT: \n",
      "\t spikes_df[time_variable_name]: (15487,) should be less than time_window_edges: (24848,)!\n",
      "WARNING: PREVIOUSLY ASSERT: \n",
      "\t spikes_df[time_variable_name]: (15487,) should be less than time_window_edges: (24848,)!\n",
      "reusing extant decoder.\n",
      "USING EXISTING original_1D_decoder.\n",
      "(n_neurons = 48, n_all_epoch_timebins = 745)\n",
      "reusing extant decoder.\n",
      "USING EXISTING original_1D_decoder.\n",
      "(n_neurons = 48, n_all_epoch_timebins = 745)\n",
      "\t done.\n",
      "long_short_post_decoding missing.\n",
      "\t Recomputing long_short_post_decoding...\n",
      "num_neurons: 48, num_epochs: 122, num_total_flat_timebins: 745\n",
      "num_neurons: 48, num_epochs: 122, num_total_flat_timebins: 745\n",
      "returned_shape_tuple_LONG: (48, array([7, 7, 8, 7, 5, 6, 8, 5, 7, 6, 5, 6, 5, 7, 5, 5, 6, 7, 5, 5, 6, 5,\n",
      "       8, 7, 7, 6, 8, 6, 6, 5, 7, 6, 5, 5, 5, 7, 5, 6, 5, 6, 6, 6, 5, 5,\n",
      "       5, 5, 5, 5, 6, 5, 7, 7, 5, 7, 7, 8, 5, 5, 6, 6, 8, 6, 7, 6, 5, 6,\n",
      "       7, 6, 6, 7, 6, 7, 6, 7, 5, 7, 5, 6, 7, 6, 5, 7, 6, 6, 6, 5, 5, 7,\n",
      "       6, 7, 6, 5, 7, 7, 7, 7, 7, 7, 7, 6, 8, 7, 7, 5, 5, 7, 5, 5, 7, 5,\n",
      "       6, 5, 7, 7, 7, 7, 5, 6, 5, 5, 5, 8]), 745), returned_shape_tuple_SHORT: (48, array([7, 7, 8, 7, 5, 6, 8, 5, 7, 6, 5, 6, 5, 7, 5, 5, 6, 7, 5, 5, 6, 5,\n",
      "       8, 7, 7, 6, 8, 6, 6, 5, 7, 6, 5, 5, 5, 7, 5, 6, 5, 6, 6, 6, 5, 5,\n",
      "       5, 5, 5, 5, 6, 5, 7, 7, 5, 7, 7, 8, 5, 5, 6, 6, 8, 6, 7, 6, 5, 6,\n",
      "       7, 6, 6, 7, 6, 7, 6, 7, 5, 7, 5, 6, 7, 6, 5, 7, 6, 6, 6, 5, 5, 7,\n",
      "       6, 7, 6, 5, 7, 7, 7, 7, 7, 7, 7, 6, 8, 7, 7, 5, 5, 7, 5, 5, 7, 5,\n",
      "       6, 5, 7, 7, 7, 7, 5, 6, 5, 5, 5, 8]), 745)\n",
      "long_test: -0.011141284250755012\n",
      "short_test: 0.012209625096480185\n",
      "\t done.\n",
      "done with all batch_extended_computations(...).\n",
      "newly_computed_values: ['jonathan_firing_rate_analysis', 'long_short_fr_indicies_analyses', 'long_short_decoding_analyses', 'long_short_post_decoding']. Saving global results...\n",
      "global_computation_results_pickle_path: /media/MAX/Data/KDIBA/gor01/one/2006-6-08_14-26-15/output/global_computation_results.pkl\n",
      "Saving (file mode 'w+b') saved session pickle file results : /media/MAX/Data/KDIBA/gor01/one/2006-6-08_14-26-15/output/global_computation_results.pkl... done.\n"
     ]
    }
   ],
   "source": [
    "curr_active_pipeline.reload_default_computation_functions()\n",
    "extended_computations_include_includelist=['long_short_fr_indicies_analyses', 'jonathan_firing_rate_analysis', 'long_short_decoding_analyses', 'long_short_post_decoding'] # do only specifiedl , 'long_short_rate_remapping'\n",
    "force_recompute_global = force_reload\n",
    "# force_recompute_global = True\n",
    "# extended_computations_include_includelist=['long_short_post_decoding'] # do only specifiedl\n",
    "newly_computed_values = batch_extended_computations(curr_active_pipeline, include_includelist=extended_computations_include_includelist, include_global_functions=True, fail_on_exception=True, progress_print=True, force_recompute=force_recompute_global, debug_print=False)\n",
    "if len(newly_computed_values) > 0:\n",
    "\tprint(f'newly_computed_values: {newly_computed_values}. Saving global results...')\n",
    "\ttry:\n",
    "\t\t# curr_active_pipeline.global_computation_results.persist_time = datetime.now()\n",
    "\t\t# Try to write out the global computation function results:\n",
    "\t\tcurr_active_pipeline.save_global_computation_results()\n",
    "\texcept Exception as e:\n",
    "\t\tprint(f'\\n\\n!!WARNING!!: saving the global results threw the exception: {e}')\n",
    "\t\tprint(f'\\tthe global results are currently unsaved! proceed with caution and save as soon as you can!\\n\\n\\n')\n",
    "else:\n",
    "\tprint(f'no changes in global results.')\n",
    "# 10m 29.5s"
   ]
  },
  {
   "cell_type": "code",
   "execution_count": 8,
   "id": "d3e3c3f3",
   "metadata": {},
   "outputs": [
    {
     "name": "stdout",
     "output_type": "stream",
     "text": [
      "https://app.neptune.ai/commander.pho/PhoDibaLongShortUpdated/\n",
      "https://app.neptune.ai/commander.pho/PhoDibaLongShortUpdated/e/LS2023-82\n",
      "shared_aclus: [3, 5, 6, 7, 9, 10, 11, 12, 14, 15, 16, 17, 18, 20, 22, 24, 25, 26, 27, 28, 29, 30, 31, 32, 33, 34, 35, 38, 39, 40, 41, 42, 43, 44, 45, 46, 47, 48, 49, 50, 51, 53, 55, 56, 57, 59, 60, 61, 62, 64, 65, 66, 69, 70, 71, 72, 75, 76, 77, 78, 79, 80, 82, 83, 84, 85, 86, 87, 88, 89, 90, 91, 92, 93, 94, 95, 96, 97, 98, 99, 100, 101, 102, 103, 104, 105, 106, 107, 108]\n",
      "long_only_aclus: [2, 8, 19, 36, 37, 54, 63, 68, 73, 74, 109]\n",
      "short_only_aclus: [4, 13, 21, 23, 52, 58, 67, 81]\n",
      "curr_session_parent_out_path: /home/halechr/repo/Spike3D/EXTERNAL/Screenshots/ProgrammaticDisplayFunctionTesting/2023-06-14/kdiba/gor01/one/2006-6-08_14-26-15\n",
      "shared_aclus: [3, 5, 6, 7, 9, 10, 11, 12, 14, 15, 16, 17, 18, 20, 22, 24, 25, 26, 27, 28, 29, 30, 31, 32, 33, 34, 35, 38, 39, 40, 41, 42, 43, 44, 45, 46, 47, 48, 49, 50, 51, 53, 55, 56, 57, 59, 60, 61, 62, 64, 65, 66, 69, 70, 71, 72, 75, 76, 77, 78, 79, 80, 82, 83, 84, 85, 86, 87, 88, 89, 90, 91, 92, 93, 94, 95, 96, 97, 98, 99, 100, 101, 102, 103, 104, 105, 106, 107, 108]\n",
      "long_only_aclus: [2, 8, 19, 36, 37, 54, 63, 68, 73, 74, 109]\n",
      "short_only_aclus: [4, 13, 21, 23, 52, 58, 67, 81]\n",
      "curr_session_parent_out_path: /home/halechr/repo/Spike3D/EXTERNAL/Screenshots/ProgrammaticDisplayFunctionTesting/2023-06-14/kdiba/gor01/one/2006-6-08_14-26-15\n",
      "include_includelist: ['maze1', 'maze2', 'maze']\n",
      "long_epoch_name: maze1, short_epoch_name: maze2, global_epoch_name: maze\n",
      "WARNING: aclu 2 is not present in the pf1D_all ratemaps. Which contain aclus: [3, 4, 5, 8, 10, 11, 14, 15, 16, 19, 23, 24, 25, 26, 31, 32, 33, 34, 36, 37, 41, 49, 50, 51, 52, 53, 54, 55, 56, 57, 58, 59, 60, 61, 62, 63, 64, 66, 67, 68, 69, 73, 74, 75, 76, 78, 82, 83, 85, 86, 87, 88, 89, 90, 92, 93, 96, 98, 100, 102, 108, 109]\n",
      "\t saved /home/halechr/repo/Spike3D/EXTERNAL/Screenshots/ProgrammaticDisplayFunctionTesting/2023-06-14/kdiba/gor01/one/2006-6-08_14-26-15/kdiba_gor01_one_2006-6-08_14-26-15_batch_pho_jonathan_replay_firing_rate_comparison.png\n",
      "WARNING: namespace collision in resolve_key! attr with name \"display_fn_name\" already exists and the value differs: existing_value: BatchPhoJonathanReplayFRC new_value: _display_batch_pho_jonathan_replay_firing_rate_comparison. Using collision_prefix to add new name: \"display_fndisplay_fn_name\"!\n",
      "\t saved /home/halechr/repo/Spike3D/EXTERNAL/Screenshots/ProgrammaticDisplayFunctionTesting/2023-06-14/kdiba/gor01/one/2006-6-08_14-26-15/kdiba_gor01_one_2006-6-08_14-26-15_BatchPhoJonathanReplayFRC_long_only_[2, 8, 19, 36, 37, 54, 63, 68, 73, 74, 109].png\n",
      "include_includelist: ['maze1', 'maze2', 'maze']\n",
      "long_epoch_name: maze1, short_epoch_name: maze2, global_epoch_name: maze\n",
      "WARNING: aclu 13 is not present in the pf1D_all ratemaps. Which contain aclus: [3, 4, 5, 8, 10, 11, 14, 15, 16, 19, 23, 24, 25, 26, 31, 32, 33, 34, 36, 37, 41, 49, 50, 51, 52, 53, 54, 55, 56, 57, 58, 59, 60, 61, 62, 63, 64, 66, 67, 68, 69, 73, 74, 75, 76, 78, 82, 83, 85, 86, 87, 88, 89, 90, 92, 93, 96, 98, 100, 102, 108, 109]\n",
      "WARNING: aclu 21 is not present in the pf1D_all ratemaps. Which contain aclus: [3, 4, 5, 8, 10, 11, 14, 15, 16, 19, 23, 24, 25, 26, 31, 32, 33, 34, 36, 37, 41, 49, 50, 51, 52, 53, 54, 55, 56, 57, 58, 59, 60, 61, 62, 63, 64, 66, 67, 68, 69, 73, 74, 75, 76, 78, 82, 83, 85, 86, 87, 88, 89, 90, 92, 93, 96, 98, 100, 102, 108, 109]\n",
      "WARNING: aclu 81 is not present in the pf1D_all ratemaps. Which contain aclus: [3, 4, 5, 8, 10, 11, 14, 15, 16, 19, 23, 24, 25, 26, 31, 32, 33, 34, 36, 37, 41, 49, 50, 51, 52, 53, 54, 55, 56, 57, 58, 59, 60, 61, 62, 63, 64, 66, 67, 68, 69, 73, 74, 75, 76, 78, 82, 83, 85, 86, 87, 88, 89, 90, 92, 93, 96, 98, 100, 102, 108, 109]\n",
      "\t saved /home/halechr/repo/Spike3D/EXTERNAL/Screenshots/ProgrammaticDisplayFunctionTesting/2023-06-14/kdiba/gor01/one/2006-6-08_14-26-15/kdiba_gor01_one_2006-6-08_14-26-15_batch_pho_jonathan_replay_firing_rate_comparison.png\n",
      "WARNING: namespace collision in resolve_key! attr with name \"display_fn_name\" already exists and the value differs: existing_value: BatchPhoJonathanReplayFRC new_value: _display_batch_pho_jonathan_replay_firing_rate_comparison. Using collision_prefix to add new name: \"display_fndisplay_fn_name\"!\n",
      "\t saved /home/halechr/repo/Spike3D/EXTERNAL/Screenshots/ProgrammaticDisplayFunctionTesting/2023-06-14/kdiba/gor01/one/2006-6-08_14-26-15/kdiba_gor01_one_2006-6-08_14-26-15_BatchPhoJonathanReplayFRC_short_only_[4, 13, 21, 23, 52, 58, 67, 81].png\n",
      "include_includelist: ['maze1', 'maze2', 'maze']\n",
      "long_epoch_name: maze1, short_epoch_name: maze2, global_epoch_name: maze\n",
      "WARNING: aclu 6 is not present in the pf1D_all ratemaps. Which contain aclus: [3, 4, 5, 8, 10, 11, 14, 15, 16, 19, 23, 24, 25, 26, 31, 32, 33, 34, 36, 37, 41, 49, 50, 51, 52, 53, 54, 55, 56, 57, 58, 59, 60, 61, 62, 63, 64, 66, 67, 68, 69, 73, 74, 75, 76, 78, 82, 83, 85, 86, 87, 88, 89, 90, 92, 93, 96, 98, 100, 102, 108, 109]\n",
      "WARNING: aclu 7 is not present in the pf1D_all ratemaps. Which contain aclus: [3, 4, 5, 8, 10, 11, 14, 15, 16, 19, 23, 24, 25, 26, 31, 32, 33, 34, 36, 37, 41, 49, 50, 51, 52, 53, 54, 55, 56, 57, 58, 59, 60, 61, 62, 63, 64, 66, 67, 68, 69, 73, 74, 75, 76, 78, 82, 83, 85, 86, 87, 88, 89, 90, 92, 93, 96, 98, 100, 102, 108, 109]\n",
      "WARNING: aclu 9 is not present in the pf1D_all ratemaps. Which contain aclus: [3, 4, 5, 8, 10, 11, 14, 15, 16, 19, 23, 24, 25, 26, 31, 32, 33, 34, 36, 37, 41, 49, 50, 51, 52, 53, 54, 55, 56, 57, 58, 59, 60, 61, 62, 63, 64, 66, 67, 68, 69, 73, 74, 75, 76, 78, 82, 83, 85, 86, 87, 88, 89, 90, 92, 93, 96, 98, 100, 102, 108, 109]\n",
      "WARNING: aclu 12 is not present in the pf1D_all ratemaps. Which contain aclus: [3, 4, 5, 8, 10, 11, 14, 15, 16, 19, 23, 24, 25, 26, 31, 32, 33, 34, 36, 37, 41, 49, 50, 51, 52, 53, 54, 55, 56, 57, 58, 59, 60, 61, 62, 63, 64, 66, 67, 68, 69, 73, 74, 75, 76, 78, 82, 83, 85, 86, 87, 88, 89, 90, 92, 93, 96, 98, 100, 102, 108, 109]\n",
      "\t saved /home/halechr/repo/Spike3D/EXTERNAL/Screenshots/ProgrammaticDisplayFunctionTesting/2023-06-14/kdiba/gor01/one/2006-6-08_14-26-15/kdiba_gor01_one_2006-6-08_14-26-15_batch_pho_jonathan_replay_firing_rate_comparison.png\n",
      "WARNING: namespace collision in resolve_key! attr with name \"display_fn_name\" already exists and the value differs: existing_value: BatchPhoJonathanReplayFRC new_value: _display_batch_pho_jonathan_replay_firing_rate_comparison. Using collision_prefix to add new name: \"display_fndisplay_fn_name\"!\n",
      "\t saved /home/halechr/repo/Spike3D/EXTERNAL/Screenshots/ProgrammaticDisplayFunctionTesting/2023-06-14/kdiba/gor01/one/2006-6-08_14-26-15/kdiba_gor01_one_2006-6-08_14-26-15_BatchPhoJonathanReplayFRC_shared_1of9_[3, 5, 6, 7, 9, 10, 11, 12, 14, 15].png\n",
      "include_includelist: ['maze1', 'maze2', 'maze']\n",
      "long_epoch_name: maze1, short_epoch_name: maze2, global_epoch_name: maze\n",
      "WARNING: aclu 17 is not present in the pf1D_all ratemaps. Which contain aclus: [3, 4, 5, 8, 10, 11, 14, 15, 16, 19, 23, 24, 25, 26, 31, 32, 33, 34, 36, 37, 41, 49, 50, 51, 52, 53, 54, 55, 56, 57, 58, 59, 60, 61, 62, 63, 64, 66, 67, 68, 69, 73, 74, 75, 76, 78, 82, 83, 85, 86, 87, 88, 89, 90, 92, 93, 96, 98, 100, 102, 108, 109]\n",
      "WARNING: aclu 18 is not present in the pf1D_all ratemaps. Which contain aclus: [3, 4, 5, 8, 10, 11, 14, 15, 16, 19, 23, 24, 25, 26, 31, 32, 33, 34, 36, 37, 41, 49, 50, 51, 52, 53, 54, 55, 56, 57, 58, 59, 60, 61, 62, 63, 64, 66, 67, 68, 69, 73, 74, 75, 76, 78, 82, 83, 85, 86, 87, 88, 89, 90, 92, 93, 96, 98, 100, 102, 108, 109]\n",
      "WARNING: aclu 20 is not present in the pf1D_all ratemaps. Which contain aclus: [3, 4, 5, 8, 10, 11, 14, 15, 16, 19, 23, 24, 25, 26, 31, 32, 33, 34, 36, 37, 41, 49, 50, 51, 52, 53, 54, 55, 56, 57, 58, 59, 60, 61, 62, 63, 64, 66, 67, 68, 69, 73, 74, 75, 76, 78, 82, 83, 85, 86, 87, 88, 89, 90, 92, 93, 96, 98, 100, 102, 108, 109]\n",
      "WARNING: aclu 22 is not present in the pf1D_all ratemaps. Which contain aclus: [3, 4, 5, 8, 10, 11, 14, 15, 16, 19, 23, 24, 25, 26, 31, 32, 33, 34, 36, 37, 41, 49, 50, 51, 52, 53, 54, 55, 56, 57, 58, 59, 60, 61, 62, 63, 64, 66, 67, 68, 69, 73, 74, 75, 76, 78, 82, 83, 85, 86, 87, 88, 89, 90, 92, 93, 96, 98, 100, 102, 108, 109]\n",
      "WARNING: aclu 27 is not present in the pf1D_all ratemaps. Which contain aclus: [3, 4, 5, 8, 10, 11, 14, 15, 16, 19, 23, 24, 25, 26, 31, 32, 33, 34, 36, 37, 41, 49, 50, 51, 52, 53, 54, 55, 56, 57, 58, 59, 60, 61, 62, 63, 64, 66, 67, 68, 69, 73, 74, 75, 76, 78, 82, 83, 85, 86, 87, 88, 89, 90, 92, 93, 96, 98, 100, 102, 108, 109]\n",
      "WARNING: aclu 28 is not present in the pf1D_all ratemaps. Which contain aclus: [3, 4, 5, 8, 10, 11, 14, 15, 16, 19, 23, 24, 25, 26, 31, 32, 33, 34, 36, 37, 41, 49, 50, 51, 52, 53, 54, 55, 56, 57, 58, 59, 60, 61, 62, 63, 64, 66, 67, 68, 69, 73, 74, 75, 76, 78, 82, 83, 85, 86, 87, 88, 89, 90, 92, 93, 96, 98, 100, 102, 108, 109]\n",
      "\t saved /home/halechr/repo/Spike3D/EXTERNAL/Screenshots/ProgrammaticDisplayFunctionTesting/2023-06-14/kdiba/gor01/one/2006-6-08_14-26-15/kdiba_gor01_one_2006-6-08_14-26-15_batch_pho_jonathan_replay_firing_rate_comparison.png\n",
      "WARNING: namespace collision in resolve_key! attr with name \"display_fn_name\" already exists and the value differs: existing_value: BatchPhoJonathanReplayFRC new_value: _display_batch_pho_jonathan_replay_firing_rate_comparison. Using collision_prefix to add new name: \"display_fndisplay_fn_name\"!\n",
      "\t saved /home/halechr/repo/Spike3D/EXTERNAL/Screenshots/ProgrammaticDisplayFunctionTesting/2023-06-14/kdiba/gor01/one/2006-6-08_14-26-15/kdiba_gor01_one_2006-6-08_14-26-15_BatchPhoJonathanReplayFRC_shared_2of9_[16, 17, 18, 20, 22, 24, 25, 26, 27, 28].png\n",
      "include_includelist: ['maze1', 'maze2', 'maze']\n",
      "long_epoch_name: maze1, short_epoch_name: maze2, global_epoch_name: maze\n",
      "WARNING: aclu 29 is not present in the pf1D_all ratemaps. Which contain aclus: [3, 4, 5, 8, 10, 11, 14, 15, 16, 19, 23, 24, 25, 26, 31, 32, 33, 34, 36, 37, 41, 49, 50, 51, 52, 53, 54, 55, 56, 57, 58, 59, 60, 61, 62, 63, 64, 66, 67, 68, 69, 73, 74, 75, 76, 78, 82, 83, 85, 86, 87, 88, 89, 90, 92, 93, 96, 98, 100, 102, 108, 109]\n",
      "WARNING: aclu 30 is not present in the pf1D_all ratemaps. Which contain aclus: [3, 4, 5, 8, 10, 11, 14, 15, 16, 19, 23, 24, 25, 26, 31, 32, 33, 34, 36, 37, 41, 49, 50, 51, 52, 53, 54, 55, 56, 57, 58, 59, 60, 61, 62, 63, 64, 66, 67, 68, 69, 73, 74, 75, 76, 78, 82, 83, 85, 86, 87, 88, 89, 90, 92, 93, 96, 98, 100, 102, 108, 109]\n",
      "WARNING: aclu 35 is not present in the pf1D_all ratemaps. Which contain aclus: [3, 4, 5, 8, 10, 11, 14, 15, 16, 19, 23, 24, 25, 26, 31, 32, 33, 34, 36, 37, 41, 49, 50, 51, 52, 53, 54, 55, 56, 57, 58, 59, 60, 61, 62, 63, 64, 66, 67, 68, 69, 73, 74, 75, 76, 78, 82, 83, 85, 86, 87, 88, 89, 90, 92, 93, 96, 98, 100, 102, 108, 109]\n",
      "WARNING: aclu 38 is not present in the pf1D_all ratemaps. Which contain aclus: [3, 4, 5, 8, 10, 11, 14, 15, 16, 19, 23, 24, 25, 26, 31, 32, 33, 34, 36, 37, 41, 49, 50, 51, 52, 53, 54, 55, 56, 57, 58, 59, 60, 61, 62, 63, 64, 66, 67, 68, 69, 73, 74, 75, 76, 78, 82, 83, 85, 86, 87, 88, 89, 90, 92, 93, 96, 98, 100, 102, 108, 109]\n",
      "WARNING: aclu 39 is not present in the pf1D_all ratemaps. Which contain aclus: [3, 4, 5, 8, 10, 11, 14, 15, 16, 19, 23, 24, 25, 26, 31, 32, 33, 34, 36, 37, 41, 49, 50, 51, 52, 53, 54, 55, 56, 57, 58, 59, 60, 61, 62, 63, 64, 66, 67, 68, 69, 73, 74, 75, 76, 78, 82, 83, 85, 86, 87, 88, 89, 90, 92, 93, 96, 98, 100, 102, 108, 109]\n",
      "WARNING: aclu 40 is not present in the pf1D_all ratemaps. Which contain aclus: [3, 4, 5, 8, 10, 11, 14, 15, 16, 19, 23, 24, 25, 26, 31, 32, 33, 34, 36, 37, 41, 49, 50, 51, 52, 53, 54, 55, 56, 57, 58, 59, 60, 61, 62, 63, 64, 66, 67, 68, 69, 73, 74, 75, 76, 78, 82, 83, 85, 86, 87, 88, 89, 90, 92, 93, 96, 98, 100, 102, 108, 109]\n",
      "\t saved /home/halechr/repo/Spike3D/EXTERNAL/Screenshots/ProgrammaticDisplayFunctionTesting/2023-06-14/kdiba/gor01/one/2006-6-08_14-26-15/kdiba_gor01_one_2006-6-08_14-26-15_batch_pho_jonathan_replay_firing_rate_comparison.png\n",
      "WARNING: namespace collision in resolve_key! attr with name \"display_fn_name\" already exists and the value differs: existing_value: BatchPhoJonathanReplayFRC new_value: _display_batch_pho_jonathan_replay_firing_rate_comparison. Using collision_prefix to add new name: \"display_fndisplay_fn_name\"!\n",
      "\t saved /home/halechr/repo/Spike3D/EXTERNAL/Screenshots/ProgrammaticDisplayFunctionTesting/2023-06-14/kdiba/gor01/one/2006-6-08_14-26-15/kdiba_gor01_one_2006-6-08_14-26-15_BatchPhoJonathanReplayFRC_shared_3of9_[29, 30, 31, 32, 33, 34, 35, 38, 39, 40].png\n",
      "include_includelist: ['maze1', 'maze2', 'maze']\n",
      "long_epoch_name: maze1, short_epoch_name: maze2, global_epoch_name: maze\n",
      "WARNING: aclu 42 is not present in the pf1D_all ratemaps. Which contain aclus: [3, 4, 5, 8, 10, 11, 14, 15, 16, 19, 23, 24, 25, 26, 31, 32, 33, 34, 36, 37, 41, 49, 50, 51, 52, 53, 54, 55, 56, 57, 58, 59, 60, 61, 62, 63, 64, 66, 67, 68, 69, 73, 74, 75, 76, 78, 82, 83, 85, 86, 87, 88, 89, 90, 92, 93, 96, 98, 100, 102, 108, 109]\n",
      "WARNING: aclu 43 is not present in the pf1D_all ratemaps. Which contain aclus: [3, 4, 5, 8, 10, 11, 14, 15, 16, 19, 23, 24, 25, 26, 31, 32, 33, 34, 36, 37, 41, 49, 50, 51, 52, 53, 54, 55, 56, 57, 58, 59, 60, 61, 62, 63, 64, 66, 67, 68, 69, 73, 74, 75, 76, 78, 82, 83, 85, 86, 87, 88, 89, 90, 92, 93, 96, 98, 100, 102, 108, 109]\n",
      "WARNING: aclu 44 is not present in the pf1D_all ratemaps. Which contain aclus: [3, 4, 5, 8, 10, 11, 14, 15, 16, 19, 23, 24, 25, 26, 31, 32, 33, 34, 36, 37, 41, 49, 50, 51, 52, 53, 54, 55, 56, 57, 58, 59, 60, 61, 62, 63, 64, 66, 67, 68, 69, 73, 74, 75, 76, 78, 82, 83, 85, 86, 87, 88, 89, 90, 92, 93, 96, 98, 100, 102, 108, 109]\n",
      "WARNING: aclu 45 is not present in the pf1D_all ratemaps. Which contain aclus: [3, 4, 5, 8, 10, 11, 14, 15, 16, 19, 23, 24, 25, 26, 31, 32, 33, 34, 36, 37, 41, 49, 50, 51, 52, 53, 54, 55, 56, 57, 58, 59, 60, 61, 62, 63, 64, 66, 67, 68, 69, 73, 74, 75, 76, 78, 82, 83, 85, 86, 87, 88, 89, 90, 92, 93, 96, 98, 100, 102, 108, 109]\n",
      "WARNING: aclu 46 is not present in the pf1D_all ratemaps. Which contain aclus: [3, 4, 5, 8, 10, 11, 14, 15, 16, 19, 23, 24, 25, 26, 31, 32, 33, 34, 36, 37, 41, 49, 50, 51, 52, 53, 54, 55, 56, 57, 58, 59, 60, 61, 62, 63, 64, 66, 67, 68, 69, 73, 74, 75, 76, 78, 82, 83, 85, 86, 87, 88, 89, 90, 92, 93, 96, 98, 100, 102, 108, 109]\n",
      "WARNING: aclu 47 is not present in the pf1D_all ratemaps. Which contain aclus: [3, 4, 5, 8, 10, 11, 14, 15, 16, 19, 23, 24, 25, 26, 31, 32, 33, 34, 36, 37, 41, 49, 50, 51, 52, 53, 54, 55, 56, 57, 58, 59, 60, 61, 62, 63, 64, 66, 67, 68, 69, 73, 74, 75, 76, 78, 82, 83, 85, 86, 87, 88, 89, 90, 92, 93, 96, 98, 100, 102, 108, 109]\n",
      "WARNING: aclu 48 is not present in the pf1D_all ratemaps. Which contain aclus: [3, 4, 5, 8, 10, 11, 14, 15, 16, 19, 23, 24, 25, 26, 31, 32, 33, 34, 36, 37, 41, 49, 50, 51, 52, 53, 54, 55, 56, 57, 58, 59, 60, 61, 62, 63, 64, 66, 67, 68, 69, 73, 74, 75, 76, 78, 82, 83, 85, 86, 87, 88, 89, 90, 92, 93, 96, 98, 100, 102, 108, 109]\n",
      "\t saved /home/halechr/repo/Spike3D/EXTERNAL/Screenshots/ProgrammaticDisplayFunctionTesting/2023-06-14/kdiba/gor01/one/2006-6-08_14-26-15/kdiba_gor01_one_2006-6-08_14-26-15_batch_pho_jonathan_replay_firing_rate_comparison.png\n",
      "WARNING: namespace collision in resolve_key! attr with name \"display_fn_name\" already exists and the value differs: existing_value: BatchPhoJonathanReplayFRC new_value: _display_batch_pho_jonathan_replay_firing_rate_comparison. Using collision_prefix to add new name: \"display_fndisplay_fn_name\"!\n",
      "\t saved /home/halechr/repo/Spike3D/EXTERNAL/Screenshots/ProgrammaticDisplayFunctionTesting/2023-06-14/kdiba/gor01/one/2006-6-08_14-26-15/kdiba_gor01_one_2006-6-08_14-26-15_BatchPhoJonathanReplayFRC_shared_4of9_[41, 42, 43, 44, 45, 46, 47, 48, 49, 50].png\n",
      "include_includelist: ['maze1', 'maze2', 'maze']\n",
      "long_epoch_name: maze1, short_epoch_name: maze2, global_epoch_name: maze\n",
      "\t saved /home/halechr/repo/Spike3D/EXTERNAL/Screenshots/ProgrammaticDisplayFunctionTesting/2023-06-14/kdiba/gor01/one/2006-6-08_14-26-15/kdiba_gor01_one_2006-6-08_14-26-15_batch_pho_jonathan_replay_firing_rate_comparison.png\n",
      "WARNING: namespace collision in resolve_key! attr with name \"display_fn_name\" already exists and the value differs: existing_value: BatchPhoJonathanReplayFRC new_value: _display_batch_pho_jonathan_replay_firing_rate_comparison. Using collision_prefix to add new name: \"display_fndisplay_fn_name\"!\n",
      "\t saved /home/halechr/repo/Spike3D/EXTERNAL/Screenshots/ProgrammaticDisplayFunctionTesting/2023-06-14/kdiba/gor01/one/2006-6-08_14-26-15/kdiba_gor01_one_2006-6-08_14-26-15_BatchPhoJonathanReplayFRC_shared_5of9_[51, 53, 55, 56, 57, 59, 60, 61, 62, 64].png\n",
      "include_includelist: ['maze1', 'maze2', 'maze']\n",
      "long_epoch_name: maze1, short_epoch_name: maze2, global_epoch_name: maze\n",
      "WARNING: aclu 65 is not present in the pf1D_all ratemaps. Which contain aclus: [3, 4, 5, 8, 10, 11, 14, 15, 16, 19, 23, 24, 25, 26, 31, 32, 33, 34, 36, 37, 41, 49, 50, 51, 52, 53, 54, 55, 56, 57, 58, 59, 60, 61, 62, 63, 64, 66, 67, 68, 69, 73, 74, 75, 76, 78, 82, 83, 85, 86, 87, 88, 89, 90, 92, 93, 96, 98, 100, 102, 108, 109]\n",
      "WARNING: aclu 70 is not present in the pf1D_all ratemaps. Which contain aclus: [3, 4, 5, 8, 10, 11, 14, 15, 16, 19, 23, 24, 25, 26, 31, 32, 33, 34, 36, 37, 41, 49, 50, 51, 52, 53, 54, 55, 56, 57, 58, 59, 60, 61, 62, 63, 64, 66, 67, 68, 69, 73, 74, 75, 76, 78, 82, 83, 85, 86, 87, 88, 89, 90, 92, 93, 96, 98, 100, 102, 108, 109]\n",
      "WARNING: aclu 71 is not present in the pf1D_all ratemaps. Which contain aclus: [3, 4, 5, 8, 10, 11, 14, 15, 16, 19, 23, 24, 25, 26, 31, 32, 33, 34, 36, 37, 41, 49, 50, 51, 52, 53, 54, 55, 56, 57, 58, 59, 60, 61, 62, 63, 64, 66, 67, 68, 69, 73, 74, 75, 76, 78, 82, 83, 85, 86, 87, 88, 89, 90, 92, 93, 96, 98, 100, 102, 108, 109]\n",
      "WARNING: aclu 72 is not present in the pf1D_all ratemaps. Which contain aclus: [3, 4, 5, 8, 10, 11, 14, 15, 16, 19, 23, 24, 25, 26, 31, 32, 33, 34, 36, 37, 41, 49, 50, 51, 52, 53, 54, 55, 56, 57, 58, 59, 60, 61, 62, 63, 64, 66, 67, 68, 69, 73, 74, 75, 76, 78, 82, 83, 85, 86, 87, 88, 89, 90, 92, 93, 96, 98, 100, 102, 108, 109]\n",
      "WARNING: aclu 77 is not present in the pf1D_all ratemaps. Which contain aclus: [3, 4, 5, 8, 10, 11, 14, 15, 16, 19, 23, 24, 25, 26, 31, 32, 33, 34, 36, 37, 41, 49, 50, 51, 52, 53, 54, 55, 56, 57, 58, 59, 60, 61, 62, 63, 64, 66, 67, 68, 69, 73, 74, 75, 76, 78, 82, 83, 85, 86, 87, 88, 89, 90, 92, 93, 96, 98, 100, 102, 108, 109]\n",
      "\t saved /home/halechr/repo/Spike3D/EXTERNAL/Screenshots/ProgrammaticDisplayFunctionTesting/2023-06-14/kdiba/gor01/one/2006-6-08_14-26-15/kdiba_gor01_one_2006-6-08_14-26-15_batch_pho_jonathan_replay_firing_rate_comparison.png\n",
      "WARNING: namespace collision in resolve_key! attr with name \"display_fn_name\" already exists and the value differs: existing_value: BatchPhoJonathanReplayFRC new_value: _display_batch_pho_jonathan_replay_firing_rate_comparison. Using collision_prefix to add new name: \"display_fndisplay_fn_name\"!\n",
      "\t saved /home/halechr/repo/Spike3D/EXTERNAL/Screenshots/ProgrammaticDisplayFunctionTesting/2023-06-14/kdiba/gor01/one/2006-6-08_14-26-15/kdiba_gor01_one_2006-6-08_14-26-15_BatchPhoJonathanReplayFRC_shared_6of9_[65, 66, 69, 70, 71, 72, 75, 76, 77, 78].png\n",
      "include_includelist: ['maze1', 'maze2', 'maze']\n",
      "long_epoch_name: maze1, short_epoch_name: maze2, global_epoch_name: maze\n",
      "WARNING: aclu 79 is not present in the pf1D_all ratemaps. Which contain aclus: [3, 4, 5, 8, 10, 11, 14, 15, 16, 19, 23, 24, 25, 26, 31, 32, 33, 34, 36, 37, 41, 49, 50, 51, 52, 53, 54, 55, 56, 57, 58, 59, 60, 61, 62, 63, 64, 66, 67, 68, 69, 73, 74, 75, 76, 78, 82, 83, 85, 86, 87, 88, 89, 90, 92, 93, 96, 98, 100, 102, 108, 109]\n",
      "WARNING: aclu 80 is not present in the pf1D_all ratemaps. Which contain aclus: [3, 4, 5, 8, 10, 11, 14, 15, 16, 19, 23, 24, 25, 26, 31, 32, 33, 34, 36, 37, 41, 49, 50, 51, 52, 53, 54, 55, 56, 57, 58, 59, 60, 61, 62, 63, 64, 66, 67, 68, 69, 73, 74, 75, 76, 78, 82, 83, 85, 86, 87, 88, 89, 90, 92, 93, 96, 98, 100, 102, 108, 109]\n",
      "WARNING: aclu 84 is not present in the pf1D_all ratemaps. Which contain aclus: [3, 4, 5, 8, 10, 11, 14, 15, 16, 19, 23, 24, 25, 26, 31, 32, 33, 34, 36, 37, 41, 49, 50, 51, 52, 53, 54, 55, 56, 57, 58, 59, 60, 61, 62, 63, 64, 66, 67, 68, 69, 73, 74, 75, 76, 78, 82, 83, 85, 86, 87, 88, 89, 90, 92, 93, 96, 98, 100, 102, 108, 109]\n",
      "\t saved /home/halechr/repo/Spike3D/EXTERNAL/Screenshots/ProgrammaticDisplayFunctionTesting/2023-06-14/kdiba/gor01/one/2006-6-08_14-26-15/kdiba_gor01_one_2006-6-08_14-26-15_batch_pho_jonathan_replay_firing_rate_comparison.png\n",
      "WARNING: namespace collision in resolve_key! attr with name \"display_fn_name\" already exists and the value differs: existing_value: BatchPhoJonathanReplayFRC new_value: _display_batch_pho_jonathan_replay_firing_rate_comparison. Using collision_prefix to add new name: \"display_fndisplay_fn_name\"!\n",
      "\t saved /home/halechr/repo/Spike3D/EXTERNAL/Screenshots/ProgrammaticDisplayFunctionTesting/2023-06-14/kdiba/gor01/one/2006-6-08_14-26-15/kdiba_gor01_one_2006-6-08_14-26-15_BatchPhoJonathanReplayFRC_shared_7of9_[79, 80, 82, 83, 84, 85, 86, 87, 88, 89].png\n",
      "include_includelist: ['maze1', 'maze2', 'maze']\n",
      "long_epoch_name: maze1, short_epoch_name: maze2, global_epoch_name: maze\n",
      "WARNING: aclu 91 is not present in the pf1D_all ratemaps. Which contain aclus: [3, 4, 5, 8, 10, 11, 14, 15, 16, 19, 23, 24, 25, 26, 31, 32, 33, 34, 36, 37, 41, 49, 50, 51, 52, 53, 54, 55, 56, 57, 58, 59, 60, 61, 62, 63, 64, 66, 67, 68, 69, 73, 74, 75, 76, 78, 82, 83, 85, 86, 87, 88, 89, 90, 92, 93, 96, 98, 100, 102, 108, 109]\n",
      "WARNING: aclu 94 is not present in the pf1D_all ratemaps. Which contain aclus: [3, 4, 5, 8, 10, 11, 14, 15, 16, 19, 23, 24, 25, 26, 31, 32, 33, 34, 36, 37, 41, 49, 50, 51, 52, 53, 54, 55, 56, 57, 58, 59, 60, 61, 62, 63, 64, 66, 67, 68, 69, 73, 74, 75, 76, 78, 82, 83, 85, 86, 87, 88, 89, 90, 92, 93, 96, 98, 100, 102, 108, 109]\n",
      "WARNING: aclu 95 is not present in the pf1D_all ratemaps. Which contain aclus: [3, 4, 5, 8, 10, 11, 14, 15, 16, 19, 23, 24, 25, 26, 31, 32, 33, 34, 36, 37, 41, 49, 50, 51, 52, 53, 54, 55, 56, 57, 58, 59, 60, 61, 62, 63, 64, 66, 67, 68, 69, 73, 74, 75, 76, 78, 82, 83, 85, 86, 87, 88, 89, 90, 92, 93, 96, 98, 100, 102, 108, 109]\n",
      "WARNING: aclu 97 is not present in the pf1D_all ratemaps. Which contain aclus: [3, 4, 5, 8, 10, 11, 14, 15, 16, 19, 23, 24, 25, 26, 31, 32, 33, 34, 36, 37, 41, 49, 50, 51, 52, 53, 54, 55, 56, 57, 58, 59, 60, 61, 62, 63, 64, 66, 67, 68, 69, 73, 74, 75, 76, 78, 82, 83, 85, 86, 87, 88, 89, 90, 92, 93, 96, 98, 100, 102, 108, 109]\n",
      "WARNING: aclu 99 is not present in the pf1D_all ratemaps. Which contain aclus: [3, 4, 5, 8, 10, 11, 14, 15, 16, 19, 23, 24, 25, 26, 31, 32, 33, 34, 36, 37, 41, 49, 50, 51, 52, 53, 54, 55, 56, 57, 58, 59, 60, 61, 62, 63, 64, 66, 67, 68, 69, 73, 74, 75, 76, 78, 82, 83, 85, 86, 87, 88, 89, 90, 92, 93, 96, 98, 100, 102, 108, 109]\n",
      "\t saved /home/halechr/repo/Spike3D/EXTERNAL/Screenshots/ProgrammaticDisplayFunctionTesting/2023-06-14/kdiba/gor01/one/2006-6-08_14-26-15/kdiba_gor01_one_2006-6-08_14-26-15_batch_pho_jonathan_replay_firing_rate_comparison.png\n",
      "WARNING: namespace collision in resolve_key! attr with name \"display_fn_name\" already exists and the value differs: existing_value: BatchPhoJonathanReplayFRC new_value: _display_batch_pho_jonathan_replay_firing_rate_comparison. Using collision_prefix to add new name: \"display_fndisplay_fn_name\"!\n",
      "\t saved /home/halechr/repo/Spike3D/EXTERNAL/Screenshots/ProgrammaticDisplayFunctionTesting/2023-06-14/kdiba/gor01/one/2006-6-08_14-26-15/kdiba_gor01_one_2006-6-08_14-26-15_BatchPhoJonathanReplayFRC_shared_8of9_[90, 91, 92, 93, 94, 95, 96, 97, 98, 99].png\n",
      "include_includelist: ['maze1', 'maze2', 'maze']\n",
      "long_epoch_name: maze1, short_epoch_name: maze2, global_epoch_name: maze\n",
      "WARNING: aclu 101 is not present in the pf1D_all ratemaps. Which contain aclus: [3, 4, 5, 8, 10, 11, 14, 15, 16, 19, 23, 24, 25, 26, 31, 32, 33, 34, 36, 37, 41, 49, 50, 51, 52, 53, 54, 55, 56, 57, 58, 59, 60, 61, 62, 63, 64, 66, 67, 68, 69, 73, 74, 75, 76, 78, 82, 83, 85, 86, 87, 88, 89, 90, 92, 93, 96, 98, 100, 102, 108, 109]\n",
      "WARNING: aclu 103 is not present in the pf1D_all ratemaps. Which contain aclus: [3, 4, 5, 8, 10, 11, 14, 15, 16, 19, 23, 24, 25, 26, 31, 32, 33, 34, 36, 37, 41, 49, 50, 51, 52, 53, 54, 55, 56, 57, 58, 59, 60, 61, 62, 63, 64, 66, 67, 68, 69, 73, 74, 75, 76, 78, 82, 83, 85, 86, 87, 88, 89, 90, 92, 93, 96, 98, 100, 102, 108, 109]\n",
      "WARNING: aclu 104 is not present in the pf1D_all ratemaps. Which contain aclus: [3, 4, 5, 8, 10, 11, 14, 15, 16, 19, 23, 24, 25, 26, 31, 32, 33, 34, 36, 37, 41, 49, 50, 51, 52, 53, 54, 55, 56, 57, 58, 59, 60, 61, 62, 63, 64, 66, 67, 68, 69, 73, 74, 75, 76, 78, 82, 83, 85, 86, 87, 88, 89, 90, 92, 93, 96, 98, 100, 102, 108, 109]\n",
      "WARNING: aclu 105 is not present in the pf1D_all ratemaps. Which contain aclus: [3, 4, 5, 8, 10, 11, 14, 15, 16, 19, 23, 24, 25, 26, 31, 32, 33, 34, 36, 37, 41, 49, 50, 51, 52, 53, 54, 55, 56, 57, 58, 59, 60, 61, 62, 63, 64, 66, 67, 68, 69, 73, 74, 75, 76, 78, 82, 83, 85, 86, 87, 88, 89, 90, 92, 93, 96, 98, 100, 102, 108, 109]\n",
      "WARNING: aclu 106 is not present in the pf1D_all ratemaps. Which contain aclus: [3, 4, 5, 8, 10, 11, 14, 15, 16, 19, 23, 24, 25, 26, 31, 32, 33, 34, 36, 37, 41, 49, 50, 51, 52, 53, 54, 55, 56, 57, 58, 59, 60, 61, 62, 63, 64, 66, 67, 68, 69, 73, 74, 75, 76, 78, 82, 83, 85, 86, 87, 88, 89, 90, 92, 93, 96, 98, 100, 102, 108, 109]\n",
      "WARNING: aclu 107 is not present in the pf1D_all ratemaps. Which contain aclus: [3, 4, 5, 8, 10, 11, 14, 15, 16, 19, 23, 24, 25, 26, 31, 32, 33, 34, 36, 37, 41, 49, 50, 51, 52, 53, 54, 55, 56, 57, 58, 59, 60, 61, 62, 63, 64, 66, 67, 68, 69, 73, 74, 75, 76, 78, 82, 83, 85, 86, 87, 88, 89, 90, 92, 93, 96, 98, 100, 102, 108, 109]\n",
      "\t saved /home/halechr/repo/Spike3D/EXTERNAL/Screenshots/ProgrammaticDisplayFunctionTesting/2023-06-14/kdiba/gor01/one/2006-6-08_14-26-15/kdiba_gor01_one_2006-6-08_14-26-15_batch_pho_jonathan_replay_firing_rate_comparison.png\n",
      "WARNING: namespace collision in resolve_key! attr with name \"display_fn_name\" already exists and the value differs: existing_value: BatchPhoJonathanReplayFRC new_value: _display_batch_pho_jonathan_replay_firing_rate_comparison. Using collision_prefix to add new name: \"display_fndisplay_fn_name\"!\n",
      "\t saved /home/halechr/repo/Spike3D/EXTERNAL/Screenshots/ProgrammaticDisplayFunctionTesting/2023-06-14/kdiba/gor01/one/2006-6-08_14-26-15/kdiba_gor01_one_2006-6-08_14-26-15_BatchPhoJonathanReplayFRC_shared_9of9_[100, 101, 102, 103, 104, 105, 106, 107, 108].png\n",
      "\t saved /home/halechr/repo/Spike3D/EXTERNAL/Screenshots/ProgrammaticDisplayFunctionTesting/2023-06-14/kdiba/gor01/one/2006-6-08_14-26-15/kdiba_gor01_one_2006-6-08_14-26-15_long_short_firing_rate_indicies_display_long_short_laps.png\n",
      "curr_session_parent_out_path: /home/halechr/repo/Spike3D/EXTERNAL/Screenshots/ProgrammaticDisplayFunctionTesting/2023-06-14/kdiba/gor01/one/2006-6-08_14-26-15\n",
      "filter_name: maze1: \"kdiba_gor01_one_2006-6-08_14-26-15_maze1\"\n",
      "extracted_context: kdiba_gor01_one_2006-6-08_14-26-15_maze1_1d_placefields\n",
      "final_context: kdiba_gor01_one_2006-6-08_14-26-15_maze1_1d_placefields\n",
      "\t saved /home/halechr/repo/Spike3D/EXTERNAL/Screenshots/ProgrammaticDisplayFunctionTesting/2023-06-14/kdiba/gor01/one/2006-6-08_14-26-15/kdiba_gor01_one_2006-6-08_14-26-15_maze1_1d_placefields.png\n",
      "filter_name: maze2: \"kdiba_gor01_one_2006-6-08_14-26-15_maze2\"\n",
      "extracted_context: kdiba_gor01_one_2006-6-08_14-26-15_maze2_1d_placefields\n",
      "final_context: kdiba_gor01_one_2006-6-08_14-26-15_maze2_1d_placefields\n",
      "\t saved /home/halechr/repo/Spike3D/EXTERNAL/Screenshots/ProgrammaticDisplayFunctionTesting/2023-06-14/kdiba/gor01/one/2006-6-08_14-26-15/kdiba_gor01_one_2006-6-08_14-26-15_maze2_1d_placefields.png\n",
      "filter_name: maze: \"kdiba_gor01_one_2006-6-08_14-26-15_maze\"\n",
      "extracted_context: kdiba_gor01_one_2006-6-08_14-26-15_maze_1d_placefields\n",
      "final_context: kdiba_gor01_one_2006-6-08_14-26-15_maze_1d_placefields\n",
      "\t saved /home/halechr/repo/Spike3D/EXTERNAL/Screenshots/ProgrammaticDisplayFunctionTesting/2023-06-14/kdiba/gor01/one/2006-6-08_14-26-15/kdiba_gor01_one_2006-6-08_14-26-15_maze_1d_placefields.png\n",
      "curr_session_parent_out_path: /home/halechr/repo/Spike3D/EXTERNAL/Screenshots/ProgrammaticDisplayFunctionTesting/2023-06-14/kdiba/gor01/one/2006-6-08_14-26-15\n",
      "filter_name: maze1: \"kdiba_gor01_one_2006-6-08_14-26-15_maze1\"\n",
      "active_identifying_ctx_string: \"kdiba|gor01|one|2006-6-08_14-26-15|maze1|_display_1d_placefield_validations\"\n",
      "active_pdf_save_path: /home/halechr/repo/Spike3D/EXTERNAL/Screenshots/ProgrammaticDisplayFunctionTesting/2023-06-14/kdiba/gor01/one/2006-6-08_14-26-15/kdiba_gor01_one_2006-6-08_14-26-15_maze1__display_1d_placefield_validations.pdf\n",
      "active_pdf_metadata: {'Creator': 'Spike3D - TestNeuroPyPipeline227', 'Author': 'Pho Hale', 'Title': 'kdiba_gor01_one_2006-6-08_14-26-15_maze1__display_1d_placefield_validations', 'Subject': '_display_1d_placefield_validations', 'Keywords': 'kdiba | gor01 | one | 2006-6-08_14-26-15 | maze1 | _display_1d_placefield_validations'}\n",
      "active_display_fn_kwargs: {}\n",
      "completed display(...) call. type(out_display_var): <class 'pyphocorehelpers.DataStructure.RenderPlots.MatplotLibRenderPlots.MatplotlibRenderPlots'>\n",
      " out_display_var: MatplotlibRenderPlots({'name': 'pf1D-lap_onlyspeedThresh_10.00-gridBin_2.00-smooth_2.00-frateThresh_1.00-grid_bin_bounds_((29.16, 261.7), (130.23, 150.99))', 'context': None, 'figures': [<Figure size 640x480 with 2 Axes>, <Figure size 640x480 with 2 Axes>, <Figure size 640x480 with 2 Axes>, <Figure size 640x480 with 2 Axes>, <Figure size 640x480 with 2 Axes>, <Figure size 640x480 with 2 Axes>, <Figure size 640x480 with 2 Axes>, <Figure size 640x480 with 2 Axes>, <Figure size 640x480 with 2 Axes>, <Figure size 640x480 with 2 Axes>, <Figure size 640x480 with 2 Axes>, <Figure size 640x480 with 2 Axes>, <Figure size 640x480 with 2 Axes>, <Figure size 640x480 with 2 Axes>, <Figure size 640x480 with 2 Axes>, <Figure size 640x480 with 2 Axes>, <Figure size 640x480 with 2 Axes>, <Figure size 640x480 with 2 Axes>, <Figure size 640x480 with 2 Axes>, <Figure size 640x480 with 2 Axes>, <Figure size 640x480 with 2 Axes>, <Figure size 640x480 with 2 Axes>, <Figure size 640x480 with 2 Axes>, <Figure size 640x480 with 2 Axes>, <Figure size 640x480 with 2 Axes>, <Figure size 640x480 with 2 Axes>, <Figure size 640x480 with 2 Axes>, <Figure size 640x480 with 2 Axes>, <Figure size 640x480 with 2 Axes>, <Figure size 640x480 with 2 Axes>, <Figure size 640x480 with 2 Axes>, <Figure size 640x480 with 2 Axes>, <Figure size 640x480 with 2 Axes>, <Figure size 640x480 with 2 Axes>, <Figure size 640x480 with 2 Axes>, <Figure size 640x480 with 2 Axes>, <Figure size 640x480 with 2 Axes>, <Figure size 640x480 with 2 Axes>, <Figure size 640x480 with 2 Axes>, <Figure size 640x480 with 2 Axes>, <Figure size 640x480 with 2 Axes>, <Figure size 640x480 with 2 Axes>, <Figure size 640x480 with 2 Axes>, <Figure size 640x480 with 2 Axes>, <Figure size 640x480 with 2 Axes>, <Figure size 640x480 with 2 Axes>, <Figure size 640x480 with 2 Axes>, <Figure size 640x480 with 2 Axes>, <Figure size 640x480 with 2 Axes>, <Figure size 640x480 with 2 Axes>, <Figure size 640x480 with 2 Axes>, <Figure size 640x480 with 2 Axes>, <Figure size 640x480 with 2 Axes>, <Figure size 640x480 with 2 Axes>, <Figure size 640x480 with 2 Axes>, <Figure size 640x480 with 2 Axes>, <Figure size 640x480 with 2 Axes>, <Figure size 640x480 with 2 Axes>, <Figure size 640x480 with 2 Axes>], 'axes': [[<Axes: title={'center': '(speedThresh_10.00, gridBin_2.00, smooth_2.00, frateThresh_1.00)grid_bin_bounds_((29.16, 261.7), (130.23, 150.99))'}, xlabel='Time (seconds)', ylabel='X position (cm)'>, <Axes: title={'center': 'Normalized Placefield'}>], [<Axes: title={'center': '(speedThresh_10.00, gridBin_2.00, smooth_2.00, frateThresh_1.00)grid_bin_bounds_((29.16, 261.7), (130.23, 150.99))'}, xlabel='Time (seconds)', ylabel='X position (cm)'>, <Axes: title={'center': 'Normalized Placefield'}>], [<Axes: title={'center': '(speedThresh_10.00, gridBin_2.00, smooth_2.00, frateThresh_1.00)grid_bin_bounds_((29.16, 261.7), (130.23, 150.99))'}, xlabel='Time (seconds)', ylabel='X position (cm)'>, <Axes: title={'center': 'Normalized Placefield'}>], [<Axes: title={'center': '(speedThresh_10.00, gridBin_2.00, smooth_2.00, frateThresh_1.00)grid_bin_bounds_((29.16, 261.7), (130.23, 150.99))'}, xlabel='Time (seconds)', ylabel='X position (cm)'>, <Axes: title={'center': 'Normalized Placefield'}>], [<Axes: title={'center': '(speedThresh_10.00, gridBin_2.00, smooth_2.00, frateThresh_1.00)grid_bin_bounds_((29.16, 261.7), (130.23, 150.99))'}, xlabel='Time (seconds)', ylabel='X position (cm)'>, <Axes: title={'center': 'Normalized Placefield'}>], [<Axes: title={'center': '(speedThresh_10.00, gridBin_2.00, smooth_2.00, frateThresh_1.00)grid_bin_bounds_((29.16, 261.7), (130.23, 150.99))'}, xlabel='Time (seconds)', ylabel='X position (cm)'>, <Axes: title={'center': 'Normalized Placefield'}>], [<Axes: title={'center': '(speedThresh_10.00, gridBin_2.00, smooth_2.00, frateThresh_1.00)grid_bin_bounds_((29.16, 261.7), (130.23, 150.99))'}, xlabel='Time (seconds)', ylabel='X position (cm)'>, <Axes: title={'center': 'Normalized Placefield'}>], [<Axes: title={'center': '(speedThresh_10.00, gridBin_2.00, smooth_2.00, frateThresh_1.00)grid_bin_bounds_((29.16, 261.7), (130.23, 150.99))'}, xlabel='Time (seconds)', ylabel='X position (cm)'>, <Axes: title={'center': 'Normalized Placefield'}>], [<Axes: title={'center': '(speedThresh_10.00, gridBin_2.00, smooth_2.00, frateThresh_1.00)grid_bin_bounds_((29.16, 261.7), (130.23, 150.99))'}, xlabel='Time (seconds)', ylabel='X position (cm)'>, <Axes: title={'center': 'Normalized Placefield'}>], [<Axes: title={'center': '(speedThresh_10.00, gridBin_2.00, smooth_2.00, frateThresh_1.00)grid_bin_bounds_((29.16, 261.7), (130.23, 150.99))'}, xlabel='Time (seconds)', ylabel='X position (cm)'>, <Axes: title={'center': 'Normalized Placefield'}>], [<Axes: title={'center': '(speedThresh_10.00, gridBin_2.00, smooth_2.00, frateThresh_1.00)grid_bin_bounds_((29.16, 261.7), (130.23, 150.99))'}, xlabel='Time (seconds)', ylabel='X position (cm)'>, <Axes: title={'center': 'Normalized Placefield'}>], [<Axes: title={'center': '(speedThresh_10.00, gridBin_2.00, smooth_2.00, frateThresh_1.00)grid_bin_bounds_((29.16, 261.7), (130.23, 150.99))'}, xlabel='Time (seconds)', ylabel='X position (cm)'>, <Axes: title={'center': 'Normalized Placefield'}>], [<Axes: title={'center': '(speedThresh_10.00, gridBin_2.00, smooth_2.00, frateThresh_1.00)grid_bin_bounds_((29.16, 261.7), (130.23, 150.99))'}, xlabel='Time (seconds)', ylabel='X position (cm)'>, <Axes: title={'center': 'Normalized Placefield'}>], [<Axes: title={'center': '(speedThresh_10.00, gridBin_2.00, smooth_2.00, frateThresh_1.00)grid_bin_bounds_((29.16, 261.7), (130.23, 150.99))'}, xlabel='Time (seconds)', ylabel='X position (cm)'>, <Axes: title={'center': 'Normalized Placefield'}>], [<Axes: title={'center': '(speedThresh_10.00, gridBin_2.00, smooth_2.00, frateThresh_1.00)grid_bin_bounds_((29.16, 261.7), (130.23, 150.99))'}, xlabel='Time (seconds)', ylabel='X position (cm)'>, <Axes: title={'center': 'Normalized Placefield'}>], [<Axes: title={'center': '(speedThresh_10.00, gridBin_2.00, smooth_2.00, frateThresh_1.00)grid_bin_bounds_((29.16, 261.7), (130.23, 150.99))'}, xlabel='Time (seconds)', ylabel='X position (cm)'>, <Axes: title={'center': 'Normalized Placefield'}>], [<Axes: title={'center': '(speedThresh_10.00, gridBin_2.00, smooth_2.00, frateThresh_1.00)grid_bin_bounds_((29.16, 261.7), (130.23, 150.99))'}, xlabel='Time (seconds)', ylabel='X position (cm)'>, <Axes: title={'center': 'Normalized Placefield'}>], [<Axes: title={'center': '(speedThresh_10.00, gridBin_2.00, smooth_2.00, frateThresh_1.00)grid_bin_bounds_((29.16, 261.7), (130.23, 150.99))'}, xlabel='Time (seconds)', ylabel='X position (cm)'>, <Axes: title={'center': 'Normalized Placefield'}>], [<Axes: title={'center': '(speedThresh_10.00, gridBin_2.00, smooth_2.00, frateThresh_1.00)grid_bin_bounds_((29.16, 261.7), (130.23, 150.99))'}, xlabel='Time (seconds)', ylabel='X position (cm)'>, <Axes: title={'center': 'Normalized Placefield'}>], [<Axes: title={'center': '(speedThresh_10.00, gridBin_2.00, smooth_2.00, frateThresh_1.00)grid_bin_bounds_((29.16, 261.7), (130.23, 150.99))'}, xlabel='Time (seconds)', ylabel='X position (cm)'>, <Axes: title={'center': 'Normalized Placefield'}>], [<Axes: title={'center': '(speedThresh_10.00, gridBin_2.00, smooth_2.00, frateThresh_1.00)grid_bin_bounds_((29.16, 261.7), (130.23, 150.99))'}, xlabel='Time (seconds)', ylabel='X position (cm)'>, <Axes: title={'center': 'Normalized Placefield'}>], [<Axes: title={'center': '(speedThresh_10.00, gridBin_2.00, smooth_2.00, frateThresh_1.00)grid_bin_bounds_((29.16, 261.7), (130.23, 150.99))'}, xlabel='Time (seconds)', ylabel='X position (cm)'>, <Axes: title={'center': 'Normalized Placefield'}>], [<Axes: title={'center': '(speedThresh_10.00, gridBin_2.00, smooth_2.00, frateThresh_1.00)grid_bin_bounds_((29.16, 261.7), (130.23, 150.99))'}, xlabel='Time (seconds)', ylabel='X position (cm)'>, <Axes: title={'center': 'Normalized Placefield'}>], [<Axes: title={'center': '(speedThresh_10.00, gridBin_2.00, smooth_2.00, frateThresh_1.00)grid_bin_bounds_((29.16, 261.7), (130.23, 150.99))'}, xlabel='Time (seconds)', ylabel='X position (cm)'>, <Axes: title={'center': 'Normalized Placefield'}>], [<Axes: title={'center': '(speedThresh_10.00, gridBin_2.00, smooth_2.00, frateThresh_1.00)grid_bin_bounds_((29.16, 261.7), (130.23, 150.99))'}, xlabel='Time (seconds)', ylabel='X position (cm)'>, <Axes: title={'center': 'Normalized Placefield'}>], [<Axes: title={'center': '(speedThresh_10.00, gridBin_2.00, smooth_2.00, frateThresh_1.00)grid_bin_bounds_((29.16, 261.7), (130.23, 150.99))'}, xlabel='Time (seconds)', ylabel='X position (cm)'>, <Axes: title={'center': 'Normalized Placefield'}>], [<Axes: title={'center': '(speedThresh_10.00, gridBin_2.00, smooth_2.00, frateThresh_1.00)grid_bin_bounds_((29.16, 261.7), (130.23, 150.99))'}, xlabel='Time (seconds)', ylabel='X position (cm)'>, <Axes: title={'center': 'Normalized Placefield'}>], [<Axes: title={'center': '(speedThresh_10.00, gridBin_2.00, smooth_2.00, frateThresh_1.00)grid_bin_bounds_((29.16, 261.7), (130.23, 150.99))'}, xlabel='Time (seconds)', ylabel='X position (cm)'>, <Axes: title={'center': 'Normalized Placefield'}>], [<Axes: title={'center': '(speedThresh_10.00, gridBin_2.00, smooth_2.00, frateThresh_1.00)grid_bin_bounds_((29.16, 261.7), (130.23, 150.99))'}, xlabel='Time (seconds)', ylabel='X position (cm)'>, <Axes: title={'center': 'Normalized Placefield'}>], [<Axes: title={'center': '(speedThresh_10.00, gridBin_2.00, smooth_2.00, frateThresh_1.00)grid_bin_bounds_((29.16, 261.7), (130.23, 150.99))'}, xlabel='Time (seconds)', ylabel='X position (cm)'>, <Axes: title={'center': 'Normalized Placefield'}>], [<Axes: title={'center': '(speedThresh_10.00, gridBin_2.00, smooth_2.00, frateThresh_1.00)grid_bin_bounds_((29.16, 261.7), (130.23, 150.99))'}, xlabel='Time (seconds)', ylabel='X position (cm)'>, <Axes: title={'center': 'Normalized Placefield'}>], [<Axes: title={'center': '(speedThresh_10.00, gridBin_2.00, smooth_2.00, frateThresh_1.00)grid_bin_bounds_((29.16, 261.7), (130.23, 150.99))'}, xlabel='Time (seconds)', ylabel='X position (cm)'>, <Axes: title={'center': 'Normalized Placefield'}>], [<Axes: title={'center': '(speedThresh_10.00, gridBin_2.00, smooth_2.00, frateThresh_1.00)grid_bin_bounds_((29.16, 261.7), (130.23, 150.99))'}, xlabel='Time (seconds)', ylabel='X position (cm)'>, <Axes: title={'center': 'Normalized Placefield'}>], [<Axes: title={'center': '(speedThresh_10.00, gridBin_2.00, smooth_2.00, frateThresh_1.00)grid_bin_bounds_((29.16, 261.7), (130.23, 150.99))'}, xlabel='Time (seconds)', ylabel='X position (cm)'>, <Axes: title={'center': 'Normalized Placefield'}>], [<Axes: title={'center': '(speedThresh_10.00, gridBin_2.00, smooth_2.00, frateThresh_1.00)grid_bin_bounds_((29.16, 261.7), (130.23, 150.99))'}, xlabel='Time (seconds)', ylabel='X position (cm)'>, <Axes: title={'center': 'Normalized Placefield'}>], [<Axes: title={'center': '(speedThresh_10.00, gridBin_2.00, smooth_2.00, frateThresh_1.00)grid_bin_bounds_((29.16, 261.7), (130.23, 150.99))'}, xlabel='Time (seconds)', ylabel='X position (cm)'>, <Axes: title={'center': 'Normalized Placefield'}>], [<Axes: title={'center': '(speedThresh_10.00, gridBin_2.00, smooth_2.00, frateThresh_1.00)grid_bin_bounds_((29.16, 261.7), (130.23, 150.99))'}, xlabel='Time (seconds)', ylabel='X position (cm)'>, <Axes: title={'center': 'Normalized Placefield'}>], [<Axes: title={'center': '(speedThresh_10.00, gridBin_2.00, smooth_2.00, frateThresh_1.00)grid_bin_bounds_((29.16, 261.7), (130.23, 150.99))'}, xlabel='Time (seconds)', ylabel='X position (cm)'>, <Axes: title={'center': 'Normalized Placefield'}>], [<Axes: title={'center': '(speedThresh_10.00, gridBin_2.00, smooth_2.00, frateThresh_1.00)grid_bin_bounds_((29.16, 261.7), (130.23, 150.99))'}, xlabel='Time (seconds)', ylabel='X position (cm)'>, <Axes: title={'center': 'Normalized Placefield'}>], [<Axes: title={'center': '(speedThresh_10.00, gridBin_2.00, smooth_2.00, frateThresh_1.00)grid_bin_bounds_((29.16, 261.7), (130.23, 150.99))'}, xlabel='Time (seconds)', ylabel='X position (cm)'>, <Axes: title={'center': 'Normalized Placefield'}>], [<Axes: title={'center': '(speedThresh_10.00, gridBin_2.00, smooth_2.00, frateThresh_1.00)grid_bin_bounds_((29.16, 261.7), (130.23, 150.99))'}, xlabel='Time (seconds)', ylabel='X position (cm)'>, <Axes: title={'center': 'Normalized Placefield'}>], [<Axes: title={'center': '(speedThresh_10.00, gridBin_2.00, smooth_2.00, frateThresh_1.00)grid_bin_bounds_((29.16, 261.7), (130.23, 150.99))'}, xlabel='Time (seconds)', ylabel='X position (cm)'>, <Axes: title={'center': 'Normalized Placefield'}>], [<Axes: title={'center': '(speedThresh_10.00, gridBin_2.00, smooth_2.00, frateThresh_1.00)grid_bin_bounds_((29.16, 261.7), (130.23, 150.99))'}, xlabel='Time (seconds)', ylabel='X position (cm)'>, <Axes: title={'center': 'Normalized Placefield'}>], [<Axes: title={'center': '(speedThresh_10.00, gridBin_2.00, smooth_2.00, frateThresh_1.00)grid_bin_bounds_((29.16, 261.7), (130.23, 150.99))'}, xlabel='Time (seconds)', ylabel='X position (cm)'>, <Axes: title={'center': 'Normalized Placefield'}>], [<Axes: title={'center': '(speedThresh_10.00, gridBin_2.00, smooth_2.00, frateThresh_1.00)grid_bin_bounds_((29.16, 261.7), (130.23, 150.99))'}, xlabel='Time (seconds)', ylabel='X position (cm)'>, <Axes: title={'center': 'Normalized Placefield'}>], [<Axes: title={'center': '(speedThresh_10.00, gridBin_2.00, smooth_2.00, frateThresh_1.00)grid_bin_bounds_((29.16, 261.7), (130.23, 150.99))'}, xlabel='Time (seconds)', ylabel='X position (cm)'>, <Axes: title={'center': 'Normalized Placefield'}>], [<Axes: title={'center': '(speedThresh_10.00, gridBin_2.00, smooth_2.00, frateThresh_1.00)grid_bin_bounds_((29.16, 261.7), (130.23, 150.99))'}, xlabel='Time (seconds)', ylabel='X position (cm)'>, <Axes: title={'center': 'Normalized Placefield'}>], [<Axes: title={'center': '(speedThresh_10.00, gridBin_2.00, smooth_2.00, frateThresh_1.00)grid_bin_bounds_((29.16, 261.7), (130.23, 150.99))'}, xlabel='Time (seconds)', ylabel='X position (cm)'>, <Axes: title={'center': 'Normalized Placefield'}>], [<Axes: title={'center': '(speedThresh_10.00, gridBin_2.00, smooth_2.00, frateThresh_1.00)grid_bin_bounds_((29.16, 261.7), (130.23, 150.99))'}, xlabel='Time (seconds)', ylabel='X position (cm)'>, <Axes: title={'center': 'Normalized Placefield'}>], [<Axes: title={'center': '(speedThresh_10.00, gridBin_2.00, smooth_2.00, frateThresh_1.00)grid_bin_bounds_((29.16, 261.7), (130.23, 150.99))'}, xlabel='Time (seconds)', ylabel='X position (cm)'>, <Axes: title={'center': 'Normalized Placefield'}>], [<Axes: title={'center': '(speedThresh_10.00, gridBin_2.00, smooth_2.00, frateThresh_1.00)grid_bin_bounds_((29.16, 261.7), (130.23, 150.99))'}, xlabel='Time (seconds)', ylabel='X position (cm)'>, <Axes: title={'center': 'Normalized Placefield'}>], [<Axes: title={'center': '(speedThresh_10.00, gridBin_2.00, smooth_2.00, frateThresh_1.00)grid_bin_bounds_((29.16, 261.7), (130.23, 150.99))'}, xlabel='Time (seconds)', ylabel='X position (cm)'>, <Axes: title={'center': 'Normalized Placefield'}>], [<Axes: title={'center': '(speedThresh_10.00, gridBin_2.00, smooth_2.00, frateThresh_1.00)grid_bin_bounds_((29.16, 261.7), (130.23, 150.99))'}, xlabel='Time (seconds)', ylabel='X position (cm)'>, <Axes: title={'center': 'Normalized Placefield'}>], [<Axes: title={'center': '(speedThresh_10.00, gridBin_2.00, smooth_2.00, frateThresh_1.00)grid_bin_bounds_((29.16, 261.7), (130.23, 150.99))'}, xlabel='Time (seconds)', ylabel='X position (cm)'>, <Axes: title={'center': 'Normalized Placefield'}>], [<Axes: title={'center': '(speedThresh_10.00, gridBin_2.00, smooth_2.00, frateThresh_1.00)grid_bin_bounds_((29.16, 261.7), (130.23, 150.99))'}, xlabel='Time (seconds)', ylabel='X position (cm)'>, <Axes: title={'center': 'Normalized Placefield'}>], [<Axes: title={'center': '(speedThresh_10.00, gridBin_2.00, smooth_2.00, frateThresh_1.00)grid_bin_bounds_((29.16, 261.7), (130.23, 150.99))'}, xlabel='Time (seconds)', ylabel='X position (cm)'>, <Axes: title={'center': 'Normalized Placefield'}>], [<Axes: title={'center': '(speedThresh_10.00, gridBin_2.00, smooth_2.00, frateThresh_1.00)grid_bin_bounds_((29.16, 261.7), (130.23, 150.99))'}, xlabel='Time (seconds)', ylabel='X position (cm)'>, <Axes: title={'center': 'Normalized Placefield'}>], [<Axes: title={'center': '(speedThresh_10.00, gridBin_2.00, smooth_2.00, frateThresh_1.00)grid_bin_bounds_((29.16, 261.7), (130.23, 150.99))'}, xlabel='Time (seconds)', ylabel='X position (cm)'>, <Axes: title={'center': 'Normalized Placefield'}>], [<Axes: title={'center': '(speedThresh_10.00, gridBin_2.00, smooth_2.00, frateThresh_1.00)grid_bin_bounds_((29.16, 261.7), (130.23, 150.99))'}, xlabel='Time (seconds)', ylabel='X position (cm)'>, <Axes: title={'center': 'Normalized Placefield'}>]], 'ui': <mpl_multitab.multitab.MplMultiTab object at 0x7fa9243e4e50>}), active_display_fn_kwargs: {}\n",
      "out_fig_list: [<Figure size 640x480 with 2 Axes>, <Figure size 640x480 with 2 Axes>, <Figure size 640x480 with 2 Axes>, <Figure size 640x480 with 2 Axes>, <Figure size 640x480 with 2 Axes>, <Figure size 640x480 with 2 Axes>, <Figure size 640x480 with 2 Axes>, <Figure size 640x480 with 2 Axes>, <Figure size 640x480 with 2 Axes>, <Figure size 640x480 with 2 Axes>, <Figure size 640x480 with 2 Axes>, <Figure size 640x480 with 2 Axes>, <Figure size 640x480 with 2 Axes>, <Figure size 640x480 with 2 Axes>, <Figure size 640x480 with 2 Axes>, <Figure size 640x480 with 2 Axes>, <Figure size 640x480 with 2 Axes>, <Figure size 640x480 with 2 Axes>, <Figure size 640x480 with 2 Axes>, <Figure size 640x480 with 2 Axes>, <Figure size 640x480 with 2 Axes>, <Figure size 640x480 with 2 Axes>, <Figure size 640x480 with 2 Axes>, <Figure size 640x480 with 2 Axes>, <Figure size 640x480 with 2 Axes>, <Figure size 640x480 with 2 Axes>, <Figure size 640x480 with 2 Axes>, <Figure size 640x480 with 2 Axes>, <Figure size 640x480 with 2 Axes>, <Figure size 640x480 with 2 Axes>, <Figure size 640x480 with 2 Axes>, <Figure size 640x480 with 2 Axes>, <Figure size 640x480 with 2 Axes>, <Figure size 640x480 with 2 Axes>, <Figure size 640x480 with 2 Axes>, <Figure size 640x480 with 2 Axes>, <Figure size 640x480 with 2 Axes>, <Figure size 640x480 with 2 Axes>, <Figure size 640x480 with 2 Axes>, <Figure size 640x480 with 2 Axes>, <Figure size 640x480 with 2 Axes>, <Figure size 640x480 with 2 Axes>, <Figure size 640x480 with 2 Axes>, <Figure size 640x480 with 2 Axes>, <Figure size 640x480 with 2 Axes>, <Figure size 640x480 with 2 Axes>, <Figure size 640x480 with 2 Axes>, <Figure size 640x480 with 2 Axes>, <Figure size 640x480 with 2 Axes>, <Figure size 640x480 with 2 Axes>, <Figure size 640x480 with 2 Axes>, <Figure size 640x480 with 2 Axes>, <Figure size 640x480 with 2 Axes>, <Figure size 640x480 with 2 Axes>, <Figure size 640x480 with 2 Axes>, <Figure size 640x480 with 2 Axes>, <Figure size 640x480 with 2 Axes>, <Figure size 640x480 with 2 Axes>, <Figure size 640x480 with 2 Axes>]\n",
      "filter_name: maze2: \"kdiba_gor01_one_2006-6-08_14-26-15_maze2\"\n",
      "active_identifying_ctx_string: \"kdiba|gor01|one|2006-6-08_14-26-15|maze2|_display_1d_placefield_validations\"\n",
      "active_pdf_save_path: /home/halechr/repo/Spike3D/EXTERNAL/Screenshots/ProgrammaticDisplayFunctionTesting/2023-06-14/kdiba/gor01/one/2006-6-08_14-26-15/kdiba_gor01_one_2006-6-08_14-26-15_maze2__display_1d_placefield_validations.pdf\n",
      "active_pdf_metadata: {'Creator': 'Spike3D - TestNeuroPyPipeline227', 'Author': 'Pho Hale', 'Title': 'kdiba_gor01_one_2006-6-08_14-26-15_maze2__display_1d_placefield_validations', 'Subject': '_display_1d_placefield_validations', 'Keywords': 'kdiba | gor01 | one | 2006-6-08_14-26-15 | maze2 | _display_1d_placefield_validations'}\n",
      "active_display_fn_kwargs: {}\n",
      "completed display(...) call. type(out_display_var): <class 'pyphocorehelpers.DataStructure.RenderPlots.MatplotLibRenderPlots.MatplotlibRenderPlots'>\n",
      " out_display_var: MatplotlibRenderPlots({'name': 'pf1D-lap_onlyspeedThresh_10.00-gridBin_2.00-smooth_2.00-frateThresh_1.00-grid_bin_bounds_((29.16, 261.7), (130.23, 150.99))', 'context': None, 'figures': [<Figure size 640x480 with 2 Axes>, <Figure size 640x480 with 2 Axes>, <Figure size 640x480 with 2 Axes>, <Figure size 640x480 with 2 Axes>, <Figure size 640x480 with 2 Axes>, <Figure size 640x480 with 2 Axes>, <Figure size 640x480 with 2 Axes>, <Figure size 640x480 with 2 Axes>, <Figure size 640x480 with 2 Axes>, <Figure size 640x480 with 2 Axes>, <Figure size 640x480 with 2 Axes>, <Figure size 640x480 with 2 Axes>, <Figure size 640x480 with 2 Axes>, <Figure size 640x480 with 2 Axes>, <Figure size 640x480 with 2 Axes>, <Figure size 640x480 with 2 Axes>, <Figure size 640x480 with 2 Axes>, <Figure size 640x480 with 2 Axes>, <Figure size 640x480 with 2 Axes>, <Figure size 640x480 with 2 Axes>, <Figure size 640x480 with 2 Axes>, <Figure size 640x480 with 2 Axes>, <Figure size 640x480 with 2 Axes>, <Figure size 640x480 with 2 Axes>, <Figure size 640x480 with 2 Axes>, <Figure size 640x480 with 2 Axes>, <Figure size 640x480 with 2 Axes>, <Figure size 640x480 with 2 Axes>, <Figure size 640x480 with 2 Axes>, <Figure size 640x480 with 2 Axes>, <Figure size 640x480 with 2 Axes>, <Figure size 640x480 with 2 Axes>, <Figure size 640x480 with 2 Axes>, <Figure size 640x480 with 2 Axes>, <Figure size 640x480 with 2 Axes>, <Figure size 640x480 with 2 Axes>, <Figure size 640x480 with 2 Axes>, <Figure size 640x480 with 2 Axes>, <Figure size 640x480 with 2 Axes>, <Figure size 640x480 with 2 Axes>, <Figure size 640x480 with 2 Axes>, <Figure size 640x480 with 2 Axes>, <Figure size 640x480 with 2 Axes>, <Figure size 640x480 with 2 Axes>, <Figure size 640x480 with 2 Axes>, <Figure size 640x480 with 2 Axes>, <Figure size 640x480 with 2 Axes>, <Figure size 640x480 with 2 Axes>, <Figure size 640x480 with 2 Axes>, <Figure size 640x480 with 2 Axes>, <Figure size 640x480 with 2 Axes>, <Figure size 640x480 with 2 Axes>, <Figure size 640x480 with 2 Axes>, <Figure size 640x480 with 2 Axes>, <Figure size 640x480 with 2 Axes>, <Figure size 640x480 with 2 Axes>], 'axes': [[<Axes: title={'center': '(speedThresh_10.00, gridBin_2.00, smooth_2.00, frateThresh_1.00)grid_bin_bounds_((29.16, 261.7), (130.23, 150.99))'}, xlabel='Time (seconds)', ylabel='X position (cm)'>, <Axes: title={'center': 'Normalized Placefield'}>], [<Axes: title={'center': '(speedThresh_10.00, gridBin_2.00, smooth_2.00, frateThresh_1.00)grid_bin_bounds_((29.16, 261.7), (130.23, 150.99))'}, xlabel='Time (seconds)', ylabel='X position (cm)'>, <Axes: title={'center': 'Normalized Placefield'}>], [<Axes: title={'center': '(speedThresh_10.00, gridBin_2.00, smooth_2.00, frateThresh_1.00)grid_bin_bounds_((29.16, 261.7), (130.23, 150.99))'}, xlabel='Time (seconds)', ylabel='X position (cm)'>, <Axes: title={'center': 'Normalized Placefield'}>], [<Axes: title={'center': '(speedThresh_10.00, gridBin_2.00, smooth_2.00, frateThresh_1.00)grid_bin_bounds_((29.16, 261.7), (130.23, 150.99))'}, xlabel='Time (seconds)', ylabel='X position (cm)'>, <Axes: title={'center': 'Normalized Placefield'}>], [<Axes: title={'center': '(speedThresh_10.00, gridBin_2.00, smooth_2.00, frateThresh_1.00)grid_bin_bounds_((29.16, 261.7), (130.23, 150.99))'}, xlabel='Time (seconds)', ylabel='X position (cm)'>, <Axes: title={'center': 'Normalized Placefield'}>], [<Axes: title={'center': '(speedThresh_10.00, gridBin_2.00, smooth_2.00, frateThresh_1.00)grid_bin_bounds_((29.16, 261.7), (130.23, 150.99))'}, xlabel='Time (seconds)', ylabel='X position (cm)'>, <Axes: title={'center': 'Normalized Placefield'}>], [<Axes: title={'center': '(speedThresh_10.00, gridBin_2.00, smooth_2.00, frateThresh_1.00)grid_bin_bounds_((29.16, 261.7), (130.23, 150.99))'}, xlabel='Time (seconds)', ylabel='X position (cm)'>, <Axes: title={'center': 'Normalized Placefield'}>], [<Axes: title={'center': '(speedThresh_10.00, gridBin_2.00, smooth_2.00, frateThresh_1.00)grid_bin_bounds_((29.16, 261.7), (130.23, 150.99))'}, xlabel='Time (seconds)', ylabel='X position (cm)'>, <Axes: title={'center': 'Normalized Placefield'}>], [<Axes: title={'center': '(speedThresh_10.00, gridBin_2.00, smooth_2.00, frateThresh_1.00)grid_bin_bounds_((29.16, 261.7), (130.23, 150.99))'}, xlabel='Time (seconds)', ylabel='X position (cm)'>, <Axes: title={'center': 'Normalized Placefield'}>], [<Axes: title={'center': '(speedThresh_10.00, gridBin_2.00, smooth_2.00, frateThresh_1.00)grid_bin_bounds_((29.16, 261.7), (130.23, 150.99))'}, xlabel='Time (seconds)', ylabel='X position (cm)'>, <Axes: title={'center': 'Normalized Placefield'}>], [<Axes: title={'center': '(speedThresh_10.00, gridBin_2.00, smooth_2.00, frateThresh_1.00)grid_bin_bounds_((29.16, 261.7), (130.23, 150.99))'}, xlabel='Time (seconds)', ylabel='X position (cm)'>, <Axes: title={'center': 'Normalized Placefield'}>], [<Axes: title={'center': '(speedThresh_10.00, gridBin_2.00, smooth_2.00, frateThresh_1.00)grid_bin_bounds_((29.16, 261.7), (130.23, 150.99))'}, xlabel='Time (seconds)', ylabel='X position (cm)'>, <Axes: title={'center': 'Normalized Placefield'}>], [<Axes: title={'center': '(speedThresh_10.00, gridBin_2.00, smooth_2.00, frateThresh_1.00)grid_bin_bounds_((29.16, 261.7), (130.23, 150.99))'}, xlabel='Time (seconds)', ylabel='X position (cm)'>, <Axes: title={'center': 'Normalized Placefield'}>], [<Axes: title={'center': '(speedThresh_10.00, gridBin_2.00, smooth_2.00, frateThresh_1.00)grid_bin_bounds_((29.16, 261.7), (130.23, 150.99))'}, xlabel='Time (seconds)', ylabel='X position (cm)'>, <Axes: title={'center': 'Normalized Placefield'}>], [<Axes: title={'center': '(speedThresh_10.00, gridBin_2.00, smooth_2.00, frateThresh_1.00)grid_bin_bounds_((29.16, 261.7), (130.23, 150.99))'}, xlabel='Time (seconds)', ylabel='X position (cm)'>, <Axes: title={'center': 'Normalized Placefield'}>], [<Axes: title={'center': '(speedThresh_10.00, gridBin_2.00, smooth_2.00, frateThresh_1.00)grid_bin_bounds_((29.16, 261.7), (130.23, 150.99))'}, xlabel='Time (seconds)', ylabel='X position (cm)'>, <Axes: title={'center': 'Normalized Placefield'}>], [<Axes: title={'center': '(speedThresh_10.00, gridBin_2.00, smooth_2.00, frateThresh_1.00)grid_bin_bounds_((29.16, 261.7), (130.23, 150.99))'}, xlabel='Time (seconds)', ylabel='X position (cm)'>, <Axes: title={'center': 'Normalized Placefield'}>], [<Axes: title={'center': '(speedThresh_10.00, gridBin_2.00, smooth_2.00, frateThresh_1.00)grid_bin_bounds_((29.16, 261.7), (130.23, 150.99))'}, xlabel='Time (seconds)', ylabel='X position (cm)'>, <Axes: title={'center': 'Normalized Placefield'}>], [<Axes: title={'center': '(speedThresh_10.00, gridBin_2.00, smooth_2.00, frateThresh_1.00)grid_bin_bounds_((29.16, 261.7), (130.23, 150.99))'}, xlabel='Time (seconds)', ylabel='X position (cm)'>, <Axes: title={'center': 'Normalized Placefield'}>], [<Axes: title={'center': '(speedThresh_10.00, gridBin_2.00, smooth_2.00, frateThresh_1.00)grid_bin_bounds_((29.16, 261.7), (130.23, 150.99))'}, xlabel='Time (seconds)', ylabel='X position (cm)'>, <Axes: title={'center': 'Normalized Placefield'}>], [<Axes: title={'center': '(speedThresh_10.00, gridBin_2.00, smooth_2.00, frateThresh_1.00)grid_bin_bounds_((29.16, 261.7), (130.23, 150.99))'}, xlabel='Time (seconds)', ylabel='X position (cm)'>, <Axes: title={'center': 'Normalized Placefield'}>], [<Axes: title={'center': '(speedThresh_10.00, gridBin_2.00, smooth_2.00, frateThresh_1.00)grid_bin_bounds_((29.16, 261.7), (130.23, 150.99))'}, xlabel='Time (seconds)', ylabel='X position (cm)'>, <Axes: title={'center': 'Normalized Placefield'}>], [<Axes: title={'center': '(speedThresh_10.00, gridBin_2.00, smooth_2.00, frateThresh_1.00)grid_bin_bounds_((29.16, 261.7), (130.23, 150.99))'}, xlabel='Time (seconds)', ylabel='X position (cm)'>, <Axes: title={'center': 'Normalized Placefield'}>], [<Axes: title={'center': '(speedThresh_10.00, gridBin_2.00, smooth_2.00, frateThresh_1.00)grid_bin_bounds_((29.16, 261.7), (130.23, 150.99))'}, xlabel='Time (seconds)', ylabel='X position (cm)'>, <Axes: title={'center': 'Normalized Placefield'}>], [<Axes: title={'center': '(speedThresh_10.00, gridBin_2.00, smooth_2.00, frateThresh_1.00)grid_bin_bounds_((29.16, 261.7), (130.23, 150.99))'}, xlabel='Time (seconds)', ylabel='X position (cm)'>, <Axes: title={'center': 'Normalized Placefield'}>], [<Axes: title={'center': '(speedThresh_10.00, gridBin_2.00, smooth_2.00, frateThresh_1.00)grid_bin_bounds_((29.16, 261.7), (130.23, 150.99))'}, xlabel='Time (seconds)', ylabel='X position (cm)'>, <Axes: title={'center': 'Normalized Placefield'}>], [<Axes: title={'center': '(speedThresh_10.00, gridBin_2.00, smooth_2.00, frateThresh_1.00)grid_bin_bounds_((29.16, 261.7), (130.23, 150.99))'}, xlabel='Time (seconds)', ylabel='X position (cm)'>, <Axes: title={'center': 'Normalized Placefield'}>], [<Axes: title={'center': '(speedThresh_10.00, gridBin_2.00, smooth_2.00, frateThresh_1.00)grid_bin_bounds_((29.16, 261.7), (130.23, 150.99))'}, xlabel='Time (seconds)', ylabel='X position (cm)'>, <Axes: title={'center': 'Normalized Placefield'}>], [<Axes: title={'center': '(speedThresh_10.00, gridBin_2.00, smooth_2.00, frateThresh_1.00)grid_bin_bounds_((29.16, 261.7), (130.23, 150.99))'}, xlabel='Time (seconds)', ylabel='X position (cm)'>, <Axes: title={'center': 'Normalized Placefield'}>], [<Axes: title={'center': '(speedThresh_10.00, gridBin_2.00, smooth_2.00, frateThresh_1.00)grid_bin_bounds_((29.16, 261.7), (130.23, 150.99))'}, xlabel='Time (seconds)', ylabel='X position (cm)'>, <Axes: title={'center': 'Normalized Placefield'}>], [<Axes: title={'center': '(speedThresh_10.00, gridBin_2.00, smooth_2.00, frateThresh_1.00)grid_bin_bounds_((29.16, 261.7), (130.23, 150.99))'}, xlabel='Time (seconds)', ylabel='X position (cm)'>, <Axes: title={'center': 'Normalized Placefield'}>], [<Axes: title={'center': '(speedThresh_10.00, gridBin_2.00, smooth_2.00, frateThresh_1.00)grid_bin_bounds_((29.16, 261.7), (130.23, 150.99))'}, xlabel='Time (seconds)', ylabel='X position (cm)'>, <Axes: title={'center': 'Normalized Placefield'}>], [<Axes: title={'center': '(speedThresh_10.00, gridBin_2.00, smooth_2.00, frateThresh_1.00)grid_bin_bounds_((29.16, 261.7), (130.23, 150.99))'}, xlabel='Time (seconds)', ylabel='X position (cm)'>, <Axes: title={'center': 'Normalized Placefield'}>], [<Axes: title={'center': '(speedThresh_10.00, gridBin_2.00, smooth_2.00, frateThresh_1.00)grid_bin_bounds_((29.16, 261.7), (130.23, 150.99))'}, xlabel='Time (seconds)', ylabel='X position (cm)'>, <Axes: title={'center': 'Normalized Placefield'}>], [<Axes: title={'center': '(speedThresh_10.00, gridBin_2.00, smooth_2.00, frateThresh_1.00)grid_bin_bounds_((29.16, 261.7), (130.23, 150.99))'}, xlabel='Time (seconds)', ylabel='X position (cm)'>, <Axes: title={'center': 'Normalized Placefield'}>], [<Axes: title={'center': '(speedThresh_10.00, gridBin_2.00, smooth_2.00, frateThresh_1.00)grid_bin_bounds_((29.16, 261.7), (130.23, 150.99))'}, xlabel='Time (seconds)', ylabel='X position (cm)'>, <Axes: title={'center': 'Normalized Placefield'}>], [<Axes: title={'center': '(speedThresh_10.00, gridBin_2.00, smooth_2.00, frateThresh_1.00)grid_bin_bounds_((29.16, 261.7), (130.23, 150.99))'}, xlabel='Time (seconds)', ylabel='X position (cm)'>, <Axes: title={'center': 'Normalized Placefield'}>], [<Axes: title={'center': '(speedThresh_10.00, gridBin_2.00, smooth_2.00, frateThresh_1.00)grid_bin_bounds_((29.16, 261.7), (130.23, 150.99))'}, xlabel='Time (seconds)', ylabel='X position (cm)'>, <Axes: title={'center': 'Normalized Placefield'}>], [<Axes: title={'center': '(speedThresh_10.00, gridBin_2.00, smooth_2.00, frateThresh_1.00)grid_bin_bounds_((29.16, 261.7), (130.23, 150.99))'}, xlabel='Time (seconds)', ylabel='X position (cm)'>, <Axes: title={'center': 'Normalized Placefield'}>], [<Axes: title={'center': '(speedThresh_10.00, gridBin_2.00, smooth_2.00, frateThresh_1.00)grid_bin_bounds_((29.16, 261.7), (130.23, 150.99))'}, xlabel='Time (seconds)', ylabel='X position (cm)'>, <Axes: title={'center': 'Normalized Placefield'}>], [<Axes: title={'center': '(speedThresh_10.00, gridBin_2.00, smooth_2.00, frateThresh_1.00)grid_bin_bounds_((29.16, 261.7), (130.23, 150.99))'}, xlabel='Time (seconds)', ylabel='X position (cm)'>, <Axes: title={'center': 'Normalized Placefield'}>], [<Axes: title={'center': '(speedThresh_10.00, gridBin_2.00, smooth_2.00, frateThresh_1.00)grid_bin_bounds_((29.16, 261.7), (130.23, 150.99))'}, xlabel='Time (seconds)', ylabel='X position (cm)'>, <Axes: title={'center': 'Normalized Placefield'}>], [<Axes: title={'center': '(speedThresh_10.00, gridBin_2.00, smooth_2.00, frateThresh_1.00)grid_bin_bounds_((29.16, 261.7), (130.23, 150.99))'}, xlabel='Time (seconds)', ylabel='X position (cm)'>, <Axes: title={'center': 'Normalized Placefield'}>], [<Axes: title={'center': '(speedThresh_10.00, gridBin_2.00, smooth_2.00, frateThresh_1.00)grid_bin_bounds_((29.16, 261.7), (130.23, 150.99))'}, xlabel='Time (seconds)', ylabel='X position (cm)'>, <Axes: title={'center': 'Normalized Placefield'}>], [<Axes: title={'center': '(speedThresh_10.00, gridBin_2.00, smooth_2.00, frateThresh_1.00)grid_bin_bounds_((29.16, 261.7), (130.23, 150.99))'}, xlabel='Time (seconds)', ylabel='X position (cm)'>, <Axes: title={'center': 'Normalized Placefield'}>], [<Axes: title={'center': '(speedThresh_10.00, gridBin_2.00, smooth_2.00, frateThresh_1.00)grid_bin_bounds_((29.16, 261.7), (130.23, 150.99))'}, xlabel='Time (seconds)', ylabel='X position (cm)'>, <Axes: title={'center': 'Normalized Placefield'}>], [<Axes: title={'center': '(speedThresh_10.00, gridBin_2.00, smooth_2.00, frateThresh_1.00)grid_bin_bounds_((29.16, 261.7), (130.23, 150.99))'}, xlabel='Time (seconds)', ylabel='X position (cm)'>, <Axes: title={'center': 'Normalized Placefield'}>], [<Axes: title={'center': '(speedThresh_10.00, gridBin_2.00, smooth_2.00, frateThresh_1.00)grid_bin_bounds_((29.16, 261.7), (130.23, 150.99))'}, xlabel='Time (seconds)', ylabel='X position (cm)'>, <Axes: title={'center': 'Normalized Placefield'}>], [<Axes: title={'center': '(speedThresh_10.00, gridBin_2.00, smooth_2.00, frateThresh_1.00)grid_bin_bounds_((29.16, 261.7), (130.23, 150.99))'}, xlabel='Time (seconds)', ylabel='X position (cm)'>, <Axes: title={'center': 'Normalized Placefield'}>], [<Axes: title={'center': '(speedThresh_10.00, gridBin_2.00, smooth_2.00, frateThresh_1.00)grid_bin_bounds_((29.16, 261.7), (130.23, 150.99))'}, xlabel='Time (seconds)', ylabel='X position (cm)'>, <Axes: title={'center': 'Normalized Placefield'}>], [<Axes: title={'center': '(speedThresh_10.00, gridBin_2.00, smooth_2.00, frateThresh_1.00)grid_bin_bounds_((29.16, 261.7), (130.23, 150.99))'}, xlabel='Time (seconds)', ylabel='X position (cm)'>, <Axes: title={'center': 'Normalized Placefield'}>], [<Axes: title={'center': '(speedThresh_10.00, gridBin_2.00, smooth_2.00, frateThresh_1.00)grid_bin_bounds_((29.16, 261.7), (130.23, 150.99))'}, xlabel='Time (seconds)', ylabel='X position (cm)'>, <Axes: title={'center': 'Normalized Placefield'}>], [<Axes: title={'center': '(speedThresh_10.00, gridBin_2.00, smooth_2.00, frateThresh_1.00)grid_bin_bounds_((29.16, 261.7), (130.23, 150.99))'}, xlabel='Time (seconds)', ylabel='X position (cm)'>, <Axes: title={'center': 'Normalized Placefield'}>], [<Axes: title={'center': '(speedThresh_10.00, gridBin_2.00, smooth_2.00, frateThresh_1.00)grid_bin_bounds_((29.16, 261.7), (130.23, 150.99))'}, xlabel='Time (seconds)', ylabel='X position (cm)'>, <Axes: title={'center': 'Normalized Placefield'}>], [<Axes: title={'center': '(speedThresh_10.00, gridBin_2.00, smooth_2.00, frateThresh_1.00)grid_bin_bounds_((29.16, 261.7), (130.23, 150.99))'}, xlabel='Time (seconds)', ylabel='X position (cm)'>, <Axes: title={'center': 'Normalized Placefield'}>], [<Axes: title={'center': '(speedThresh_10.00, gridBin_2.00, smooth_2.00, frateThresh_1.00)grid_bin_bounds_((29.16, 261.7), (130.23, 150.99))'}, xlabel='Time (seconds)', ylabel='X position (cm)'>, <Axes: title={'center': 'Normalized Placefield'}>]], 'ui': <mpl_multitab.multitab.MplMultiTab object at 0x7fa91d4281f0>}), active_display_fn_kwargs: {}\n",
      "out_fig_list: [<Figure size 640x480 with 2 Axes>, <Figure size 640x480 with 2 Axes>, <Figure size 640x480 with 2 Axes>, <Figure size 640x480 with 2 Axes>, <Figure size 640x480 with 2 Axes>, <Figure size 640x480 with 2 Axes>, <Figure size 640x480 with 2 Axes>, <Figure size 640x480 with 2 Axes>, <Figure size 640x480 with 2 Axes>, <Figure size 640x480 with 2 Axes>, <Figure size 640x480 with 2 Axes>, <Figure size 640x480 with 2 Axes>, <Figure size 640x480 with 2 Axes>, <Figure size 640x480 with 2 Axes>, <Figure size 640x480 with 2 Axes>, <Figure size 640x480 with 2 Axes>, <Figure size 640x480 with 2 Axes>, <Figure size 640x480 with 2 Axes>, <Figure size 640x480 with 2 Axes>, <Figure size 640x480 with 2 Axes>, <Figure size 640x480 with 2 Axes>, <Figure size 640x480 with 2 Axes>, <Figure size 640x480 with 2 Axes>, <Figure size 640x480 with 2 Axes>, <Figure size 640x480 with 2 Axes>, <Figure size 640x480 with 2 Axes>, <Figure size 640x480 with 2 Axes>, <Figure size 640x480 with 2 Axes>, <Figure size 640x480 with 2 Axes>, <Figure size 640x480 with 2 Axes>, <Figure size 640x480 with 2 Axes>, <Figure size 640x480 with 2 Axes>, <Figure size 640x480 with 2 Axes>, <Figure size 640x480 with 2 Axes>, <Figure size 640x480 with 2 Axes>, <Figure size 640x480 with 2 Axes>, <Figure size 640x480 with 2 Axes>, <Figure size 640x480 with 2 Axes>, <Figure size 640x480 with 2 Axes>, <Figure size 640x480 with 2 Axes>, <Figure size 640x480 with 2 Axes>, <Figure size 640x480 with 2 Axes>, <Figure size 640x480 with 2 Axes>, <Figure size 640x480 with 2 Axes>, <Figure size 640x480 with 2 Axes>, <Figure size 640x480 with 2 Axes>, <Figure size 640x480 with 2 Axes>, <Figure size 640x480 with 2 Axes>, <Figure size 640x480 with 2 Axes>, <Figure size 640x480 with 2 Axes>, <Figure size 640x480 with 2 Axes>, <Figure size 640x480 with 2 Axes>, <Figure size 640x480 with 2 Axes>, <Figure size 640x480 with 2 Axes>, <Figure size 640x480 with 2 Axes>, <Figure size 640x480 with 2 Axes>]\n",
      "filter_name: maze: \"kdiba_gor01_one_2006-6-08_14-26-15_maze\"\n",
      "active_identifying_ctx_string: \"kdiba|gor01|one|2006-6-08_14-26-15|maze|_display_1d_placefield_validations\"\n",
      "active_pdf_save_path: /home/halechr/repo/Spike3D/EXTERNAL/Screenshots/ProgrammaticDisplayFunctionTesting/2023-06-14/kdiba/gor01/one/2006-6-08_14-26-15/kdiba_gor01_one_2006-6-08_14-26-15_maze__display_1d_placefield_validations.pdf\n",
      "active_pdf_metadata: {'Creator': 'Spike3D - TestNeuroPyPipeline227', 'Author': 'Pho Hale', 'Title': 'kdiba_gor01_one_2006-6-08_14-26-15_maze__display_1d_placefield_validations', 'Subject': '_display_1d_placefield_validations', 'Keywords': 'kdiba | gor01 | one | 2006-6-08_14-26-15 | maze | _display_1d_placefield_validations'}\n",
      "active_display_fn_kwargs: {}\n",
      "completed display(...) call. type(out_display_var): <class 'pyphocorehelpers.DataStructure.RenderPlots.MatplotLibRenderPlots.MatplotlibRenderPlots'>\n",
      " out_display_var: MatplotlibRenderPlots({'name': 'pf1D-lap_onlyspeedThresh_10.00-gridBin_2.00-smooth_2.00-frateThresh_1.00-grid_bin_bounds_((29.16, 261.7), (130.23, 150.99))', 'context': None, 'figures': [<Figure size 640x480 with 2 Axes>, <Figure size 640x480 with 2 Axes>, <Figure size 640x480 with 2 Axes>, <Figure size 640x480 with 2 Axes>, <Figure size 640x480 with 2 Axes>, <Figure size 640x480 with 2 Axes>, <Figure size 640x480 with 2 Axes>, <Figure size 640x480 with 2 Axes>, <Figure size 640x480 with 2 Axes>, <Figure size 640x480 with 2 Axes>, <Figure size 640x480 with 2 Axes>, <Figure size 640x480 with 2 Axes>, <Figure size 640x480 with 2 Axes>, <Figure size 640x480 with 2 Axes>, <Figure size 640x480 with 2 Axes>, <Figure size 640x480 with 2 Axes>, <Figure size 640x480 with 2 Axes>, <Figure size 640x480 with 2 Axes>, <Figure size 640x480 with 2 Axes>, <Figure size 640x480 with 2 Axes>, <Figure size 640x480 with 2 Axes>, <Figure size 640x480 with 2 Axes>, <Figure size 640x480 with 2 Axes>, <Figure size 640x480 with 2 Axes>, <Figure size 640x480 with 2 Axes>, <Figure size 640x480 with 2 Axes>, <Figure size 640x480 with 2 Axes>, <Figure size 640x480 with 2 Axes>, <Figure size 640x480 with 2 Axes>, <Figure size 640x480 with 2 Axes>, <Figure size 640x480 with 2 Axes>, <Figure size 640x480 with 2 Axes>, <Figure size 640x480 with 2 Axes>, <Figure size 640x480 with 2 Axes>, <Figure size 640x480 with 2 Axes>, <Figure size 640x480 with 2 Axes>, <Figure size 640x480 with 2 Axes>, <Figure size 640x480 with 2 Axes>, <Figure size 640x480 with 2 Axes>, <Figure size 640x480 with 2 Axes>, <Figure size 640x480 with 2 Axes>, <Figure size 640x480 with 2 Axes>, <Figure size 640x480 with 2 Axes>, <Figure size 640x480 with 2 Axes>, <Figure size 640x480 with 2 Axes>, <Figure size 640x480 with 2 Axes>, <Figure size 640x480 with 2 Axes>, <Figure size 640x480 with 2 Axes>, <Figure size 640x480 with 2 Axes>, <Figure size 640x480 with 2 Axes>, <Figure size 640x480 with 2 Axes>, <Figure size 640x480 with 2 Axes>, <Figure size 640x480 with 2 Axes>, <Figure size 640x480 with 2 Axes>, <Figure size 640x480 with 2 Axes>, <Figure size 640x480 with 2 Axes>, <Figure size 640x480 with 2 Axes>, <Figure size 640x480 with 2 Axes>, <Figure size 640x480 with 2 Axes>, <Figure size 640x480 with 2 Axes>, <Figure size 640x480 with 2 Axes>, <Figure size 640x480 with 2 Axes>], 'axes': [[<Axes: title={'center': '(speedThresh_10.00, gridBin_2.00, smooth_2.00, frateThresh_1.00)grid_bin_bounds_((29.16, 261.7), (130.23, 150.99))'}, xlabel='Time (seconds)', ylabel='X position (cm)'>, <Axes: title={'center': 'Normalized Placefield'}>], [<Axes: title={'center': '(speedThresh_10.00, gridBin_2.00, smooth_2.00, frateThresh_1.00)grid_bin_bounds_((29.16, 261.7), (130.23, 150.99))'}, xlabel='Time (seconds)', ylabel='X position (cm)'>, <Axes: title={'center': 'Normalized Placefield'}>], [<Axes: title={'center': '(speedThresh_10.00, gridBin_2.00, smooth_2.00, frateThresh_1.00)grid_bin_bounds_((29.16, 261.7), (130.23, 150.99))'}, xlabel='Time (seconds)', ylabel='X position (cm)'>, <Axes: title={'center': 'Normalized Placefield'}>], [<Axes: title={'center': '(speedThresh_10.00, gridBin_2.00, smooth_2.00, frateThresh_1.00)grid_bin_bounds_((29.16, 261.7), (130.23, 150.99))'}, xlabel='Time (seconds)', ylabel='X position (cm)'>, <Axes: title={'center': 'Normalized Placefield'}>], [<Axes: title={'center': '(speedThresh_10.00, gridBin_2.00, smooth_2.00, frateThresh_1.00)grid_bin_bounds_((29.16, 261.7), (130.23, 150.99))'}, xlabel='Time (seconds)', ylabel='X position (cm)'>, <Axes: title={'center': 'Normalized Placefield'}>], [<Axes: title={'center': '(speedThresh_10.00, gridBin_2.00, smooth_2.00, frateThresh_1.00)grid_bin_bounds_((29.16, 261.7), (130.23, 150.99))'}, xlabel='Time (seconds)', ylabel='X position (cm)'>, <Axes: title={'center': 'Normalized Placefield'}>], [<Axes: title={'center': '(speedThresh_10.00, gridBin_2.00, smooth_2.00, frateThresh_1.00)grid_bin_bounds_((29.16, 261.7), (130.23, 150.99))'}, xlabel='Time (seconds)', ylabel='X position (cm)'>, <Axes: title={'center': 'Normalized Placefield'}>], [<Axes: title={'center': '(speedThresh_10.00, gridBin_2.00, smooth_2.00, frateThresh_1.00)grid_bin_bounds_((29.16, 261.7), (130.23, 150.99))'}, xlabel='Time (seconds)', ylabel='X position (cm)'>, <Axes: title={'center': 'Normalized Placefield'}>], [<Axes: title={'center': '(speedThresh_10.00, gridBin_2.00, smooth_2.00, frateThresh_1.00)grid_bin_bounds_((29.16, 261.7), (130.23, 150.99))'}, xlabel='Time (seconds)', ylabel='X position (cm)'>, <Axes: title={'center': 'Normalized Placefield'}>], [<Axes: title={'center': '(speedThresh_10.00, gridBin_2.00, smooth_2.00, frateThresh_1.00)grid_bin_bounds_((29.16, 261.7), (130.23, 150.99))'}, xlabel='Time (seconds)', ylabel='X position (cm)'>, <Axes: title={'center': 'Normalized Placefield'}>], [<Axes: title={'center': '(speedThresh_10.00, gridBin_2.00, smooth_2.00, frateThresh_1.00)grid_bin_bounds_((29.16, 261.7), (130.23, 150.99))'}, xlabel='Time (seconds)', ylabel='X position (cm)'>, <Axes: title={'center': 'Normalized Placefield'}>], [<Axes: title={'center': '(speedThresh_10.00, gridBin_2.00, smooth_2.00, frateThresh_1.00)grid_bin_bounds_((29.16, 261.7), (130.23, 150.99))'}, xlabel='Time (seconds)', ylabel='X position (cm)'>, <Axes: title={'center': 'Normalized Placefield'}>], [<Axes: title={'center': '(speedThresh_10.00, gridBin_2.00, smooth_2.00, frateThresh_1.00)grid_bin_bounds_((29.16, 261.7), (130.23, 150.99))'}, xlabel='Time (seconds)', ylabel='X position (cm)'>, <Axes: title={'center': 'Normalized Placefield'}>], [<Axes: title={'center': '(speedThresh_10.00, gridBin_2.00, smooth_2.00, frateThresh_1.00)grid_bin_bounds_((29.16, 261.7), (130.23, 150.99))'}, xlabel='Time (seconds)', ylabel='X position (cm)'>, <Axes: title={'center': 'Normalized Placefield'}>], [<Axes: title={'center': '(speedThresh_10.00, gridBin_2.00, smooth_2.00, frateThresh_1.00)grid_bin_bounds_((29.16, 261.7), (130.23, 150.99))'}, xlabel='Time (seconds)', ylabel='X position (cm)'>, <Axes: title={'center': 'Normalized Placefield'}>], [<Axes: title={'center': '(speedThresh_10.00, gridBin_2.00, smooth_2.00, frateThresh_1.00)grid_bin_bounds_((29.16, 261.7), (130.23, 150.99))'}, xlabel='Time (seconds)', ylabel='X position (cm)'>, <Axes: title={'center': 'Normalized Placefield'}>], [<Axes: title={'center': '(speedThresh_10.00, gridBin_2.00, smooth_2.00, frateThresh_1.00)grid_bin_bounds_((29.16, 261.7), (130.23, 150.99))'}, xlabel='Time (seconds)', ylabel='X position (cm)'>, <Axes: title={'center': 'Normalized Placefield'}>], [<Axes: title={'center': '(speedThresh_10.00, gridBin_2.00, smooth_2.00, frateThresh_1.00)grid_bin_bounds_((29.16, 261.7), (130.23, 150.99))'}, xlabel='Time (seconds)', ylabel='X position (cm)'>, <Axes: title={'center': 'Normalized Placefield'}>], [<Axes: title={'center': '(speedThresh_10.00, gridBin_2.00, smooth_2.00, frateThresh_1.00)grid_bin_bounds_((29.16, 261.7), (130.23, 150.99))'}, xlabel='Time (seconds)', ylabel='X position (cm)'>, <Axes: title={'center': 'Normalized Placefield'}>], [<Axes: title={'center': '(speedThresh_10.00, gridBin_2.00, smooth_2.00, frateThresh_1.00)grid_bin_bounds_((29.16, 261.7), (130.23, 150.99))'}, xlabel='Time (seconds)', ylabel='X position (cm)'>, <Axes: title={'center': 'Normalized Placefield'}>], [<Axes: title={'center': '(speedThresh_10.00, gridBin_2.00, smooth_2.00, frateThresh_1.00)grid_bin_bounds_((29.16, 261.7), (130.23, 150.99))'}, xlabel='Time (seconds)', ylabel='X position (cm)'>, <Axes: title={'center': 'Normalized Placefield'}>], [<Axes: title={'center': '(speedThresh_10.00, gridBin_2.00, smooth_2.00, frateThresh_1.00)grid_bin_bounds_((29.16, 261.7), (130.23, 150.99))'}, xlabel='Time (seconds)', ylabel='X position (cm)'>, <Axes: title={'center': 'Normalized Placefield'}>], [<Axes: title={'center': '(speedThresh_10.00, gridBin_2.00, smooth_2.00, frateThresh_1.00)grid_bin_bounds_((29.16, 261.7), (130.23, 150.99))'}, xlabel='Time (seconds)', ylabel='X position (cm)'>, <Axes: title={'center': 'Normalized Placefield'}>], [<Axes: title={'center': '(speedThresh_10.00, gridBin_2.00, smooth_2.00, frateThresh_1.00)grid_bin_bounds_((29.16, 261.7), (130.23, 150.99))'}, xlabel='Time (seconds)', ylabel='X position (cm)'>, <Axes: title={'center': 'Normalized Placefield'}>], [<Axes: title={'center': '(speedThresh_10.00, gridBin_2.00, smooth_2.00, frateThresh_1.00)grid_bin_bounds_((29.16, 261.7), (130.23, 150.99))'}, xlabel='Time (seconds)', ylabel='X position (cm)'>, <Axes: title={'center': 'Normalized Placefield'}>], [<Axes: title={'center': '(speedThresh_10.00, gridBin_2.00, smooth_2.00, frateThresh_1.00)grid_bin_bounds_((29.16, 261.7), (130.23, 150.99))'}, xlabel='Time (seconds)', ylabel='X position (cm)'>, <Axes: title={'center': 'Normalized Placefield'}>], [<Axes: title={'center': '(speedThresh_10.00, gridBin_2.00, smooth_2.00, frateThresh_1.00)grid_bin_bounds_((29.16, 261.7), (130.23, 150.99))'}, xlabel='Time (seconds)', ylabel='X position (cm)'>, <Axes: title={'center': 'Normalized Placefield'}>], [<Axes: title={'center': '(speedThresh_10.00, gridBin_2.00, smooth_2.00, frateThresh_1.00)grid_bin_bounds_((29.16, 261.7), (130.23, 150.99))'}, xlabel='Time (seconds)', ylabel='X position (cm)'>, <Axes: title={'center': 'Normalized Placefield'}>], [<Axes: title={'center': '(speedThresh_10.00, gridBin_2.00, smooth_2.00, frateThresh_1.00)grid_bin_bounds_((29.16, 261.7), (130.23, 150.99))'}, xlabel='Time (seconds)', ylabel='X position (cm)'>, <Axes: title={'center': 'Normalized Placefield'}>], [<Axes: title={'center': '(speedThresh_10.00, gridBin_2.00, smooth_2.00, frateThresh_1.00)grid_bin_bounds_((29.16, 261.7), (130.23, 150.99))'}, xlabel='Time (seconds)', ylabel='X position (cm)'>, <Axes: title={'center': 'Normalized Placefield'}>], [<Axes: title={'center': '(speedThresh_10.00, gridBin_2.00, smooth_2.00, frateThresh_1.00)grid_bin_bounds_((29.16, 261.7), (130.23, 150.99))'}, xlabel='Time (seconds)', ylabel='X position (cm)'>, <Axes: title={'center': 'Normalized Placefield'}>], [<Axes: title={'center': '(speedThresh_10.00, gridBin_2.00, smooth_2.00, frateThresh_1.00)grid_bin_bounds_((29.16, 261.7), (130.23, 150.99))'}, xlabel='Time (seconds)', ylabel='X position (cm)'>, <Axes: title={'center': 'Normalized Placefield'}>], [<Axes: title={'center': '(speedThresh_10.00, gridBin_2.00, smooth_2.00, frateThresh_1.00)grid_bin_bounds_((29.16, 261.7), (130.23, 150.99))'}, xlabel='Time (seconds)', ylabel='X position (cm)'>, <Axes: title={'center': 'Normalized Placefield'}>], [<Axes: title={'center': '(speedThresh_10.00, gridBin_2.00, smooth_2.00, frateThresh_1.00)grid_bin_bounds_((29.16, 261.7), (130.23, 150.99))'}, xlabel='Time (seconds)', ylabel='X position (cm)'>, <Axes: title={'center': 'Normalized Placefield'}>], [<Axes: title={'center': '(speedThresh_10.00, gridBin_2.00, smooth_2.00, frateThresh_1.00)grid_bin_bounds_((29.16, 261.7), (130.23, 150.99))'}, xlabel='Time (seconds)', ylabel='X position (cm)'>, <Axes: title={'center': 'Normalized Placefield'}>], [<Axes: title={'center': '(speedThresh_10.00, gridBin_2.00, smooth_2.00, frateThresh_1.00)grid_bin_bounds_((29.16, 261.7), (130.23, 150.99))'}, xlabel='Time (seconds)', ylabel='X position (cm)'>, <Axes: title={'center': 'Normalized Placefield'}>], [<Axes: title={'center': '(speedThresh_10.00, gridBin_2.00, smooth_2.00, frateThresh_1.00)grid_bin_bounds_((29.16, 261.7), (130.23, 150.99))'}, xlabel='Time (seconds)', ylabel='X position (cm)'>, <Axes: title={'center': 'Normalized Placefield'}>], [<Axes: title={'center': '(speedThresh_10.00, gridBin_2.00, smooth_2.00, frateThresh_1.00)grid_bin_bounds_((29.16, 261.7), (130.23, 150.99))'}, xlabel='Time (seconds)', ylabel='X position (cm)'>, <Axes: title={'center': 'Normalized Placefield'}>], [<Axes: title={'center': '(speedThresh_10.00, gridBin_2.00, smooth_2.00, frateThresh_1.00)grid_bin_bounds_((29.16, 261.7), (130.23, 150.99))'}, xlabel='Time (seconds)', ylabel='X position (cm)'>, <Axes: title={'center': 'Normalized Placefield'}>], [<Axes: title={'center': '(speedThresh_10.00, gridBin_2.00, smooth_2.00, frateThresh_1.00)grid_bin_bounds_((29.16, 261.7), (130.23, 150.99))'}, xlabel='Time (seconds)', ylabel='X position (cm)'>, <Axes: title={'center': 'Normalized Placefield'}>], [<Axes: title={'center': '(speedThresh_10.00, gridBin_2.00, smooth_2.00, frateThresh_1.00)grid_bin_bounds_((29.16, 261.7), (130.23, 150.99))'}, xlabel='Time (seconds)', ylabel='X position (cm)'>, <Axes: title={'center': 'Normalized Placefield'}>], [<Axes: title={'center': '(speedThresh_10.00, gridBin_2.00, smooth_2.00, frateThresh_1.00)grid_bin_bounds_((29.16, 261.7), (130.23, 150.99))'}, xlabel='Time (seconds)', ylabel='X position (cm)'>, <Axes: title={'center': 'Normalized Placefield'}>], [<Axes: title={'center': '(speedThresh_10.00, gridBin_2.00, smooth_2.00, frateThresh_1.00)grid_bin_bounds_((29.16, 261.7), (130.23, 150.99))'}, xlabel='Time (seconds)', ylabel='X position (cm)'>, <Axes: title={'center': 'Normalized Placefield'}>], [<Axes: title={'center': '(speedThresh_10.00, gridBin_2.00, smooth_2.00, frateThresh_1.00)grid_bin_bounds_((29.16, 261.7), (130.23, 150.99))'}, xlabel='Time (seconds)', ylabel='X position (cm)'>, <Axes: title={'center': 'Normalized Placefield'}>], [<Axes: title={'center': '(speedThresh_10.00, gridBin_2.00, smooth_2.00, frateThresh_1.00)grid_bin_bounds_((29.16, 261.7), (130.23, 150.99))'}, xlabel='Time (seconds)', ylabel='X position (cm)'>, <Axes: title={'center': 'Normalized Placefield'}>], [<Axes: title={'center': '(speedThresh_10.00, gridBin_2.00, smooth_2.00, frateThresh_1.00)grid_bin_bounds_((29.16, 261.7), (130.23, 150.99))'}, xlabel='Time (seconds)', ylabel='X position (cm)'>, <Axes: title={'center': 'Normalized Placefield'}>], [<Axes: title={'center': '(speedThresh_10.00, gridBin_2.00, smooth_2.00, frateThresh_1.00)grid_bin_bounds_((29.16, 261.7), (130.23, 150.99))'}, xlabel='Time (seconds)', ylabel='X position (cm)'>, <Axes: title={'center': 'Normalized Placefield'}>], [<Axes: title={'center': '(speedThresh_10.00, gridBin_2.00, smooth_2.00, frateThresh_1.00)grid_bin_bounds_((29.16, 261.7), (130.23, 150.99))'}, xlabel='Time (seconds)', ylabel='X position (cm)'>, <Axes: title={'center': 'Normalized Placefield'}>], [<Axes: title={'center': '(speedThresh_10.00, gridBin_2.00, smooth_2.00, frateThresh_1.00)grid_bin_bounds_((29.16, 261.7), (130.23, 150.99))'}, xlabel='Time (seconds)', ylabel='X position (cm)'>, <Axes: title={'center': 'Normalized Placefield'}>], [<Axes: title={'center': '(speedThresh_10.00, gridBin_2.00, smooth_2.00, frateThresh_1.00)grid_bin_bounds_((29.16, 261.7), (130.23, 150.99))'}, xlabel='Time (seconds)', ylabel='X position (cm)'>, <Axes: title={'center': 'Normalized Placefield'}>], [<Axes: title={'center': '(speedThresh_10.00, gridBin_2.00, smooth_2.00, frateThresh_1.00)grid_bin_bounds_((29.16, 261.7), (130.23, 150.99))'}, xlabel='Time (seconds)', ylabel='X position (cm)'>, <Axes: title={'center': 'Normalized Placefield'}>], [<Axes: title={'center': '(speedThresh_10.00, gridBin_2.00, smooth_2.00, frateThresh_1.00)grid_bin_bounds_((29.16, 261.7), (130.23, 150.99))'}, xlabel='Time (seconds)', ylabel='X position (cm)'>, <Axes: title={'center': 'Normalized Placefield'}>], [<Axes: title={'center': '(speedThresh_10.00, gridBin_2.00, smooth_2.00, frateThresh_1.00)grid_bin_bounds_((29.16, 261.7), (130.23, 150.99))'}, xlabel='Time (seconds)', ylabel='X position (cm)'>, <Axes: title={'center': 'Normalized Placefield'}>], [<Axes: title={'center': '(speedThresh_10.00, gridBin_2.00, smooth_2.00, frateThresh_1.00)grid_bin_bounds_((29.16, 261.7), (130.23, 150.99))'}, xlabel='Time (seconds)', ylabel='X position (cm)'>, <Axes: title={'center': 'Normalized Placefield'}>], [<Axes: title={'center': '(speedThresh_10.00, gridBin_2.00, smooth_2.00, frateThresh_1.00)grid_bin_bounds_((29.16, 261.7), (130.23, 150.99))'}, xlabel='Time (seconds)', ylabel='X position (cm)'>, <Axes: title={'center': 'Normalized Placefield'}>], [<Axes: title={'center': '(speedThresh_10.00, gridBin_2.00, smooth_2.00, frateThresh_1.00)grid_bin_bounds_((29.16, 261.7), (130.23, 150.99))'}, xlabel='Time (seconds)', ylabel='X position (cm)'>, <Axes: title={'center': 'Normalized Placefield'}>], [<Axes: title={'center': '(speedThresh_10.00, gridBin_2.00, smooth_2.00, frateThresh_1.00)grid_bin_bounds_((29.16, 261.7), (130.23, 150.99))'}, xlabel='Time (seconds)', ylabel='X position (cm)'>, <Axes: title={'center': 'Normalized Placefield'}>], [<Axes: title={'center': '(speedThresh_10.00, gridBin_2.00, smooth_2.00, frateThresh_1.00)grid_bin_bounds_((29.16, 261.7), (130.23, 150.99))'}, xlabel='Time (seconds)', ylabel='X position (cm)'>, <Axes: title={'center': 'Normalized Placefield'}>], [<Axes: title={'center': '(speedThresh_10.00, gridBin_2.00, smooth_2.00, frateThresh_1.00)grid_bin_bounds_((29.16, 261.7), (130.23, 150.99))'}, xlabel='Time (seconds)', ylabel='X position (cm)'>, <Axes: title={'center': 'Normalized Placefield'}>], [<Axes: title={'center': '(speedThresh_10.00, gridBin_2.00, smooth_2.00, frateThresh_1.00)grid_bin_bounds_((29.16, 261.7), (130.23, 150.99))'}, xlabel='Time (seconds)', ylabel='X position (cm)'>, <Axes: title={'center': 'Normalized Placefield'}>], [<Axes: title={'center': '(speedThresh_10.00, gridBin_2.00, smooth_2.00, frateThresh_1.00)grid_bin_bounds_((29.16, 261.7), (130.23, 150.99))'}, xlabel='Time (seconds)', ylabel='X position (cm)'>, <Axes: title={'center': 'Normalized Placefield'}>], [<Axes: title={'center': '(speedThresh_10.00, gridBin_2.00, smooth_2.00, frateThresh_1.00)grid_bin_bounds_((29.16, 261.7), (130.23, 150.99))'}, xlabel='Time (seconds)', ylabel='X position (cm)'>, <Axes: title={'center': 'Normalized Placefield'}>]], 'ui': <mpl_multitab.multitab.MplMultiTab object at 0x7fa9171a85e0>}), active_display_fn_kwargs: {}\n",
      "out_fig_list: [<Figure size 640x480 with 2 Axes>, <Figure size 640x480 with 2 Axes>, <Figure size 640x480 with 2 Axes>, <Figure size 640x480 with 2 Axes>, <Figure size 640x480 with 2 Axes>, <Figure size 640x480 with 2 Axes>, <Figure size 640x480 with 2 Axes>, <Figure size 640x480 with 2 Axes>, <Figure size 640x480 with 2 Axes>, <Figure size 640x480 with 2 Axes>, <Figure size 640x480 with 2 Axes>, <Figure size 640x480 with 2 Axes>, <Figure size 640x480 with 2 Axes>, <Figure size 640x480 with 2 Axes>, <Figure size 640x480 with 2 Axes>, <Figure size 640x480 with 2 Axes>, <Figure size 640x480 with 2 Axes>, <Figure size 640x480 with 2 Axes>, <Figure size 640x480 with 2 Axes>, <Figure size 640x480 with 2 Axes>, <Figure size 640x480 with 2 Axes>, <Figure size 640x480 with 2 Axes>, <Figure size 640x480 with 2 Axes>, <Figure size 640x480 with 2 Axes>, <Figure size 640x480 with 2 Axes>, <Figure size 640x480 with 2 Axes>, <Figure size 640x480 with 2 Axes>, <Figure size 640x480 with 2 Axes>, <Figure size 640x480 with 2 Axes>, <Figure size 640x480 with 2 Axes>, <Figure size 640x480 with 2 Axes>, <Figure size 640x480 with 2 Axes>, <Figure size 640x480 with 2 Axes>, <Figure size 640x480 with 2 Axes>, <Figure size 640x480 with 2 Axes>, <Figure size 640x480 with 2 Axes>, <Figure size 640x480 with 2 Axes>, <Figure size 640x480 with 2 Axes>, <Figure size 640x480 with 2 Axes>, <Figure size 640x480 with 2 Axes>, <Figure size 640x480 with 2 Axes>, <Figure size 640x480 with 2 Axes>, <Figure size 640x480 with 2 Axes>, <Figure size 640x480 with 2 Axes>, <Figure size 640x480 with 2 Axes>, <Figure size 640x480 with 2 Axes>, <Figure size 640x480 with 2 Axes>, <Figure size 640x480 with 2 Axes>, <Figure size 640x480 with 2 Axes>, <Figure size 640x480 with 2 Axes>, <Figure size 640x480 with 2 Axes>, <Figure size 640x480 with 2 Axes>, <Figure size 640x480 with 2 Axes>, <Figure size 640x480 with 2 Axes>, <Figure size 640x480 with 2 Axes>, <Figure size 640x480 with 2 Axes>, <Figure size 640x480 with 2 Axes>, <Figure size 640x480 with 2 Axes>, <Figure size 640x480 with 2 Axes>, <Figure size 640x480 with 2 Axes>, <Figure size 640x480 with 2 Axes>, <Figure size 640x480 with 2 Axes>]\n",
      "curr_session_parent_out_path: /home/halechr/repo/Spike3D/EXTERNAL/Screenshots/ProgrammaticDisplayFunctionTesting/2023-06-14/kdiba/gor01/one/2006-6-08_14-26-15\n",
      "filter_name: maze1: \"kdiba_gor01_one_2006-6-08_14-26-15_maze1\"\n",
      "extracted_context: kdiba_gor01_one_2006-6-08_14-26-15_maze1__display_2d_placefield_result_plot_ratemaps_2D\n",
      "final_context: kdiba_gor01_one_2006-6-08_14-26-15_maze1__display_2d_placefield_result_plot_ratemaps_2D\n",
      "\t saved /home/halechr/repo/Spike3D/EXTERNAL/Screenshots/ProgrammaticDisplayFunctionTesting/2023-06-14/kdiba/gor01/one/2006-6-08_14-26-15/kdiba_gor01_one_2006-6-08_14-26-15_maze1__display_2d_placefield_result_plot_ratemaps_2D.png\n",
      "filter_name: maze2: \"kdiba_gor01_one_2006-6-08_14-26-15_maze2\"\n",
      "extracted_context: kdiba_gor01_one_2006-6-08_14-26-15_maze2__display_2d_placefield_result_plot_ratemaps_2D\n",
      "final_context: kdiba_gor01_one_2006-6-08_14-26-15_maze2__display_2d_placefield_result_plot_ratemaps_2D\n",
      "\t saved /home/halechr/repo/Spike3D/EXTERNAL/Screenshots/ProgrammaticDisplayFunctionTesting/2023-06-14/kdiba/gor01/one/2006-6-08_14-26-15/kdiba_gor01_one_2006-6-08_14-26-15_maze2__display_2d_placefield_result_plot_ratemaps_2D.png\n",
      "filter_name: maze: \"kdiba_gor01_one_2006-6-08_14-26-15_maze\"\n",
      "extracted_context: kdiba_gor01_one_2006-6-08_14-26-15_maze__display_2d_placefield_result_plot_ratemaps_2D\n",
      "final_context: kdiba_gor01_one_2006-6-08_14-26-15_maze__display_2d_placefield_result_plot_ratemaps_2D\n",
      "\t saved /home/halechr/repo/Spike3D/EXTERNAL/Screenshots/ProgrammaticDisplayFunctionTesting/2023-06-14/kdiba/gor01/one/2006-6-08_14-26-15/kdiba_gor01_one_2006-6-08_14-26-15_maze__display_2d_placefield_result_plot_ratemaps_2D.png\n",
      "curr_session_parent_out_path: /home/halechr/repo/Spike3D/EXTERNAL/Screenshots/ProgrammaticDisplayFunctionTesting/2023-06-14/kdiba/gor01/one/2006-6-08_14-26-15\n",
      "filter_name: maze1: \"kdiba_gor01_one_2006-6-08_14-26-15_maze1\"\n",
      "extracted_context: kdiba_gor01_one_2006-6-08_14-26-15_maze1_plot_occupancy_OCCUPANCY\n",
      "final_context: kdiba_gor01_one_2006-6-08_14-26-15_maze1_plot_occupancy_OCCUPANCY\n",
      "\t saved /home/halechr/repo/Spike3D/EXTERNAL/Screenshots/ProgrammaticDisplayFunctionTesting/2023-06-14/kdiba/gor01/one/2006-6-08_14-26-15/kdiba_gor01_one_2006-6-08_14-26-15_maze1_plot_occupancy_OCCUPANCY.png\n",
      "filter_name: maze2: \"kdiba_gor01_one_2006-6-08_14-26-15_maze2\"\n",
      "extracted_context: kdiba_gor01_one_2006-6-08_14-26-15_maze2_plot_occupancy_OCCUPANCY\n",
      "final_context: kdiba_gor01_one_2006-6-08_14-26-15_maze2_plot_occupancy_OCCUPANCY\n",
      "\t saved /home/halechr/repo/Spike3D/EXTERNAL/Screenshots/ProgrammaticDisplayFunctionTesting/2023-06-14/kdiba/gor01/one/2006-6-08_14-26-15/kdiba_gor01_one_2006-6-08_14-26-15_maze2_plot_occupancy_OCCUPANCY.png\n",
      "filter_name: maze: \"kdiba_gor01_one_2006-6-08_14-26-15_maze\"\n",
      "extracted_context: kdiba_gor01_one_2006-6-08_14-26-15_maze_plot_occupancy_OCCUPANCY\n",
      "final_context: kdiba_gor01_one_2006-6-08_14-26-15_maze_plot_occupancy_OCCUPANCY\n",
      "\t saved /home/halechr/repo/Spike3D/EXTERNAL/Screenshots/ProgrammaticDisplayFunctionTesting/2023-06-14/kdiba/gor01/one/2006-6-08_14-26-15/kdiba_gor01_one_2006-6-08_14-26-15_maze_plot_occupancy_OCCUPANCY.png\n",
      "global_y_min_SHORT: 0.0, global_y_max_SHORT: 6.187167778849091\n",
      "global_y_min_LONG: 0.0, global_y_max_LONG: 5.702075514553831\n",
      "global_y_min: 0.0, global_y_max: 6.187167778849091\n",
      "active_identifying_ctx_string: \"kdiba|gor01|one|2006-6-08_14-26-15|DecodedEpochSlices|replays|long_results_obj|1of1|[  0   1   2   3   4   5   6   7   8   9  10  11  12  13  14  15  16  17\n",
      "  18  19  20  21  22  23  24  25  26  27  28  29  30  31  32  33  34  35\n",
      "  36  37  38  39  40  41  42  43  44  45  46  47  48  49  50  51  52  53\n",
      "  54  55  56  57  58  59  60  61  62  63  64  65  66  67  68  69  70  71\n",
      "  72  73  74  75  76  77  78  79  80  81  82  83  84  85  86  87  88  89\n",
      "  90  91  92  93  94  95  96  97  98  99 100 101 102 103 104 105 106 107\n",
      " 108 109 110 111 112 113 114 115 116 117 118 119 120 121]\"\n",
      "active_identifying_ctx_string: \"kdiba|gor01|one|2006-6-08_14-26-15|DecodedEpochSlices|replays|long_results_obj|1of1|[  0   1   2   3   4   5   6   7   8   9  10  11  12  13  14  15  16  17\n",
      "  18  19  20  21  22  23  24  25  26  27  28  29  30  31  32  33  34  35\n",
      "  36  37  38  39  40  41  42  43  44  45  46  47  48  49  50  51  52  53\n",
      "  54  55  56  57  58  59  60  61  62  63  64  65  66  67  68  69  70  71\n",
      "  72  73  74  75  76  77  78  79  80  81  82  83  84  85  86  87  88  89\n",
      "  90  91  92  93  94  95  96  97  98  99 100 101 102 103 104 105 106 107\n",
      " 108 109 110 111 112 113 114 115 116 117 118 119 120 121]\"\n",
      "final_context: kdiba_gor01_one_2006-6-08_14-26-15_DecodedEpochSlices_replays_long_results_obj\n",
      "\t saved /home/halechr/repo/Spike3D/EXTERNAL/Screenshots/ProgrammaticDisplayFunctionTesting/2023-06-14/kdiba/gor01/one/2006-6-08_14-26-15/kdiba_gor01_one_2006-6-08_14-26-15_DecodedEpochSlices_replays_long_results_obj.png\n",
      "active_identifying_ctx_string: \"kdiba|gor01|one|2006-6-08_14-26-15|DecodedEpochSlices|replays|short_results_obj|1of1|[  0   1   2   3   4   5   6   7   8   9  10  11  12  13  14  15  16  17\n",
      "  18  19  20  21  22  23  24  25  26  27  28  29  30  31  32  33  34  35\n",
      "  36  37  38  39  40  41  42  43  44  45  46  47  48  49  50  51  52  53\n",
      "  54  55  56  57  58  59  60  61  62  63  64  65  66  67  68  69  70  71\n",
      "  72  73  74  75  76  77  78  79  80  81  82  83  84  85  86  87  88  89\n",
      "  90  91  92  93  94  95  96  97  98  99 100 101 102 103 104 105 106 107\n",
      " 108 109 110 111 112 113 114 115 116 117 118 119 120 121]\"\n",
      "active_identifying_ctx_string: \"kdiba|gor01|one|2006-6-08_14-26-15|DecodedEpochSlices|replays|short_results_obj|1of1|[  0   1   2   3   4   5   6   7   8   9  10  11  12  13  14  15  16  17\n",
      "  18  19  20  21  22  23  24  25  26  27  28  29  30  31  32  33  34  35\n",
      "  36  37  38  39  40  41  42  43  44  45  46  47  48  49  50  51  52  53\n",
      "  54  55  56  57  58  59  60  61  62  63  64  65  66  67  68  69  70  71\n",
      "  72  73  74  75  76  77  78  79  80  81  82  83  84  85  86  87  88  89\n",
      "  90  91  92  93  94  95  96  97  98  99 100 101 102 103 104 105 106 107\n",
      " 108 109 110 111 112 113 114 115 116 117 118 119 120 121]\"\n",
      "final_context: kdiba_gor01_one_2006-6-08_14-26-15_DecodedEpochSlices_replays_short_results_obj\n",
      "\t saved /home/halechr/repo/Spike3D/EXTERNAL/Screenshots/ProgrammaticDisplayFunctionTesting/2023-06-14/kdiba/gor01/one/2006-6-08_14-26-15/kdiba_gor01_one_2006-6-08_14-26-15_DecodedEpochSlices_replays_short_results_obj.png\n",
      "Neptuner.stop() called!\n",
      "Shutting down background jobs, please wait a moment...\n",
      "Done!\n",
      "Waiting for the remaining 27 operations to synchronize with Neptune. Do not kill this process.\n",
      "All 27 operations synced, thanks for waiting!\n",
      "Explore the metadata in the Neptune app:\n",
      "https://app.neptune.ai/commander.pho/PhoDibaLongShortUpdated/e/LS2023-82/metadata\n",
      "Shutting down background jobs, please wait a moment...\n",
      "Done!\n",
      "All 0 operations synced, thanks for waiting!\n",
      "Explore the metadata in the Neptune app:\n",
      "https://app.neptune.ai/commander.pho/PhoDibaLongShortUpdated/metadata\n",
      "Neptuner stoppped.\n",
      "Neptuner.stop() called!\n",
      "Neptuner stoppped.\n"
     ]
    },
    {
     "name": "stderr",
     "output_type": "stream",
     "text": [
      "qt.qpa.wayland: Creating a fake screen in order for Qt not to crash\n"
     ]
    }
   ],
   "source": [
    "curr_active_pipeline.reload_default_display_functions()\n",
    "neptuner = batch_perform_all_plots(curr_active_pipeline, enable_neptune=True)\n"
   ]
  },
  {
   "attachments": {},
   "cell_type": "markdown",
   "id": "7e7106ef",
   "metadata": {},
   "source": [
    "### Pipeline Loading/Saving [Optional]"
   ]
  },
  {
   "cell_type": "code",
   "execution_count": null,
   "id": "77eb4fec",
   "metadata": {},
   "outputs": [],
   "source": [
    "curr_active_pipeline.save_pipeline(saving_mode=PipelineSavingScheme.TEMP_THEN_OVERWRITE) # AttributeError: 'PfND_TimeDependent' object has no attribute '_included_thresh_neurons_indx'\n",
    "# TypeError: cannot pickle 'MplMultiTab' object\n",
    "# PicklingError: Can't pickle .set_closure_cell at 0x000002BF248F50D0>: it's not found as attr._compat.make_set_closure_cell..set_closure_cell\n",
    "# TypeError: cannot pickle 'PyQt5.QtCore.pyqtSignal' object"
   ]
  },
  {
   "cell_type": "code",
   "execution_count": 8,
   "id": "c09c2afd",
   "metadata": {},
   "outputs": [
    {
     "name": "stdout",
     "output_type": "stream",
     "text": [
      "finalized_loaded_sess_pickle_path: /media/MAX/Data/KDIBA/gor01/one/2006-6-08_14-26-15/loadedSessPickle.pkl\n",
      "WARNING: saving_mode is OVERWRITE_IN_PLACE so /media/MAX/Data/KDIBA/gor01/one/2006-6-08_14-26-15/loadedSessPickle.pkl will be overwritten even though exists.\n",
      "Saving (file mode 'w+b') saved session pickle file results : /media/MAX/Data/KDIBA/gor01/one/2006-6-08_14-26-15/loadedSessPickle.pkl... done.\n"
     ]
    },
    {
     "data": {
      "text/plain": [
       "PosixPath('/media/MAX/Data/KDIBA/gor01/one/2006-6-08_14-26-15/loadedSessPickle.pkl')"
      ]
     },
     "execution_count": 8,
     "metadata": {},
     "output_type": "execute_result"
    }
   ],
   "source": [
    "curr_active_pipeline.save_pipeline(saving_mode=PipelineSavingScheme.OVERWRITE_IN_PLACE)"
   ]
  },
  {
   "cell_type": "code",
   "execution_count": null,
   "id": "12c4c775",
   "metadata": {},
   "outputs": [],
   "source": [
    "curr_active_pipeline.save_global_computation_results() # PicklingError: Can't pickle .set_closure_cell at 0x000002BF248F50D0>: it's not found as attr._compat.make_set_closure_cell..set_closure_cell"
   ]
  },
  {
   "cell_type": "code",
   "execution_count": null,
   "id": "dc47d835",
   "metadata": {},
   "outputs": [],
   "source": [
    "curr_active_pipeline.load_pickled_global_computation_results()"
   ]
  },
  {
   "cell_type": "code",
   "execution_count": null,
   "id": "241dc49f",
   "metadata": {},
   "outputs": [],
   "source": [
    "curr_active_pipeline.clear_display_outputs()\n",
    "curr_active_pipeline.clear_registered_output_files()"
   ]
  },
  {
   "cell_type": "code",
   "execution_count": null,
   "id": "ba716fe2",
   "metadata": {},
   "outputs": [],
   "source": [
    "curr_active_pipeline.save_global_computation_results()"
   ]
  },
  {
   "attachments": {},
   "cell_type": "markdown",
   "id": "1d819fa7",
   "metadata": {},
   "source": [
    "# Get output files:"
   ]
  },
  {
   "cell_type": "code",
   "execution_count": null,
   "id": "7ae44834",
   "metadata": {},
   "outputs": [],
   "source": [
    "from neuropy.core.session.Formats.BaseDataSessionFormats import DataSessionFormatBaseRegisteredClass\n",
    "from neuropy.core.session.KnownDataSessionTypeProperties import KnownDataSessionTypeProperties\n",
    "from neuropy.core.session.dataSession import DataSession\n",
    "from neuropy.core.session.Formats.SessionSpecifications import SessionFolderSpec, SessionFileSpec\n",
    "\n",
    "# 'ripple_df.pkl', .ripple.npy'\n",
    "\n",
    "# files_list = [curr_active_pipeline.sess.filePrefix.with_suffix(a_suffix) for a_suffix in session_folder_output_file_suffix_list]\n",
    "# files_list\n",
    "\n",
    "\"\"\"\n",
    "KDIBA/pin01/one/11-02_17-46-44/11-02_17-46-44.interpolated_spike_positions.npy,\"2023-06-07 01:03:36\",35290406\n",
    "KDIBA/pin01/one/11-02_17-46-44/11-02_17-46-44.mua.npy,\"2023-06-07 01:03:37\",7766554\n",
    "KDIBA/pin01/one/11-02_17-46-44/11-02_17-46-44.pbe.npy,\"2023-06-07 01:03:37\",10902\n",
    "KDIBA/pin01/one/11-02_17-46-44/11-02_17-46-44.position.npy,\"2023-06-07 01:03:36\",2446247\n",
    "\"\"\"\n",
    "\n",
    "session_name = curr_active_pipeline.session_name\n",
    "print(f'session_name: {session_name}')\n",
    "output_folder_spec: SessionFolderSpec = SessionFolderSpec(required=[\n",
    "        SessionFileSpec('loadedSessPickle.pkl', session_name, 'The primary .pkl file after computing the session', None),\n",
    "        SessionFileSpec('{}.interpolated_spike_positions.npy', session_name, 'A cached initial session computation', None),\n",
    "        SessionFileSpec('{}.mua.npy', session_name, 'A cached initial session computation', None),\n",
    "        SessionFileSpec('{}.pbe.npy', session_name, 'A cached initial session computation', None),\n",
    "        SessionFileSpec('{}.position.npy', session_name, 'A cached initial session computation', None),\n",
    "        SessionFileSpec('output/global_computation_results.pkl', session_name, 'The global_computation_results computed for the pipeline.', None),\n",
    "    ],\n",
    "    optional=[\n",
    "        SessionFileSpec('output/leave_one_out_results_short.pkl', session_name, 'Optional caching file.', None),\n",
    "        SessionFileSpec('output/leave_one_out_surprise_results_long.pkl', session_name, 'Optional caching file', None),\n",
    "        SessionFileSpec('ripple_df.pkl', session_name, 'SWR ripples computed by an external script from another repo.', None),\n",
    "        SessionFileSpec('{}.ripple.npy', session_name, 'Ripples computed by this repo and cached to the directory.', None),\n",
    "    ]\n",
    ")\n",
    "\n",
    "\n",
    "is_resolved, resolved_required_filespecs_dict, resolved_optional_filespecs_dict = output_folder_spec.validate(curr_active_pipeline.sess.basepath)\n",
    "\n",
    "if is_resolved:\n",
    "    print(f'resolved_required_filespecs_dict: {resolved_required_filespecs_dict}')\n",
    "    \n",
    "\n",
    "# out_dict = {}\n",
    "# out_dict['required_files'] = [str(a_path) for a_path in resolved_required_filespecs_dict.keys() if a_path.resolve().exists()]\n",
    "# out_dict['optional_files'] = [str(a_path) for a_path in resolved_optional_filespecs_dict.keys() if a_path.resolve().exists()]\n",
    "# out_dict\n",
    "\n",
    "# Get the list of strings for all output files that actually exist:\n",
    "all_output_file_paths: list[str] = [str(a_path) for a_path in resolved_required_filespecs_dict.keys() if a_path.resolve().exists()] + [str(a_path) for a_path in resolved_optional_filespecs_dict.keys() if a_path.resolve().exists()]\n",
    "all_output_file_paths\n"
   ]
  },
  {
   "cell_type": "code",
   "execution_count": null,
   "id": "5a0d80e0",
   "metadata": {},
   "outputs": [],
   "source": [
    "\n",
    "# curr_active_pipeline.register_output_file(output_path=output_path, \n",
    "curr_active_pipeline.registered_output_files_list\n",
    "curr_active_pipeline.registered_output_files\n",
    "# curr_active_pipeline.get_output_path()\n",
    "\n",
    "# reveal_in_system_file_manager(curr_active_pipeline.get_daily_programmatic_session_output_path())"
   ]
  },
  {
   "cell_type": "code",
   "execution_count": null,
   "id": "d15a17f8",
   "metadata": {},
   "outputs": [],
   "source": [
    "from pyphoplacecellanalysis.General.Pipeline.Stages.Loading import loadData, saveData\n",
    "\n",
    "# Save in case something goes wrong:\n",
    "temp_out_path = 'registered_output_files.pkl'\n"
   ]
  },
  {
   "cell_type": "code",
   "execution_count": null,
   "id": "20fea0fd",
   "metadata": {},
   "outputs": [],
   "source": [
    "saveData(temp_out_path, (curr_active_pipeline.registered_output_files.to_dict()))\n",
    "reveal_in_system_file_manager(temp_out_path)"
   ]
  },
  {
   "cell_type": "code",
   "execution_count": null,
   "id": "25050ca5",
   "metadata": {},
   "outputs": [],
   "source": [
    "test_registered_output_files = loadData(temp_out_path)\n",
    "test_registered_output_files\n",
    "curr_active_pipeline.registered_output_files = test_registered_output_files"
   ]
  },
  {
   "cell_type": "code",
   "execution_count": null,
   "id": "c72b7825",
   "metadata": {},
   "outputs": [],
   "source": [
    "# Neptune class:\n",
    "import neptune\n",
    "from neptune.types import File\n",
    "from pyphoplacecellanalysis.General.Batch.NeptuneAiHelpers import Neptuner\n",
    "neptuner = Neptuner.init_with_pipeline(curr_active_pipeline)\n",
    "neptuner"
   ]
  },
  {
   "cell_type": "code",
   "execution_count": null,
   "id": "5fbf16bc",
   "metadata": {},
   "outputs": [],
   "source": [
    "# succeeded_fig_paths\n",
    "succeeded_fig_paths, failed_fig_paths = neptuner.upload_figures(curr_active_pipeline)"
   ]
  },
  {
   "cell_type": "code",
   "execution_count": null,
   "id": "13113bd1",
   "metadata": {},
   "outputs": [],
   "source": [
    "# Set up all of the session properties as run context.\n",
    "# run['session'] = curr_active_pipeline.get_session_context()\n",
    "neptuner.stop()"
   ]
  },
  {
   "attachments": {},
   "cell_type": "markdown",
   "id": "c850782f",
   "metadata": {},
   "source": [
    "# End Run"
   ]
  },
  {
   "cell_type": "code",
   "execution_count": null,
   "id": "dda48261",
   "metadata": {
    "tags": [
     "load",
     "ACTIVE"
    ]
   },
   "outputs": [],
   "source": [
    "## long_short_decoding_analyses:\n",
    "curr_long_short_decoding_analyses = curr_active_pipeline.global_computation_results.computed_data['long_short_leave_one_out_decoding_analysis']\n",
    "## Extract variables from results object:\n",
    "long_one_step_decoder_1D, short_one_step_decoder_1D, long_replays, short_replays, global_replays, long_shared_aclus_only_decoder, short_shared_aclus_only_decoder, shared_aclus, long_short_pf_neurons_diff, n_neurons, long_results_obj, short_results_obj, is_global = curr_long_short_decoding_analyses.long_decoder, curr_long_short_decoding_analyses.short_decoder, curr_long_short_decoding_analyses.long_replays, curr_long_short_decoding_analyses.short_replays, curr_long_short_decoding_analyses.global_replays, curr_long_short_decoding_analyses.long_shared_aclus_only_decoder, curr_long_short_decoding_analyses.short_shared_aclus_only_decoder, curr_long_short_decoding_analyses.shared_aclus, curr_long_short_decoding_analyses.long_short_pf_neurons_diff, curr_long_short_decoding_analyses.n_neurons, curr_long_short_decoding_analyses.long_results_obj, curr_long_short_decoding_analyses.short_results_obj, curr_long_short_decoding_analyses.is_global\n",
    "\n",
    "# (long_one_step_decoder_1D, short_one_step_decoder_1D), (long_one_step_decoder_2D, short_one_step_decoder_2D) = compute_short_long_constrained_decoders(curr_active_pipeline, recalculate_anyway=True)\n",
    "long_epoch_name, short_epoch_name, global_epoch_name = curr_active_pipeline.find_LongShortGlobal_epoch_names()\n",
    "long_epoch_context, short_epoch_context, global_epoch_context = [curr_active_pipeline.filtered_contexts[a_name] for a_name in (long_epoch_name, short_epoch_name, global_epoch_name)]\n",
    "long_session, short_session, global_session = [curr_active_pipeline.filtered_sessions[an_epoch_name] for an_epoch_name in [long_epoch_name, short_epoch_name, global_epoch_name]]\n",
    "long_results, short_results, global_results = [curr_active_pipeline.computation_results[an_epoch_name]['computed_data'] for an_epoch_name in [long_epoch_name, short_epoch_name, global_epoch_name]]\n",
    "long_computation_config, short_computation_config, global_computation_config = [curr_active_pipeline.computation_results[an_epoch_name]['computation_config'] for an_epoch_name in [long_epoch_name, short_epoch_name, global_epoch_name]]\n",
    "long_pf1D, short_pf1D, global_pf1D = long_results.pf1D, short_results.pf1D, global_results.pf1D\n",
    "long_pf2D, short_pf2D, global_pf2D = long_results.pf2D, short_results.pf2D, global_results.pf2D\n",
    "decoding_time_bin_size = long_one_step_decoder_1D.time_bin_size # 1.0/30.0 # 0.03333333333333333\n",
    "\n",
    "## Get global 'long_short_post_decoding' results:\n",
    "curr_long_short_post_decoding = curr_active_pipeline.global_computation_results.computed_data['long_short_post_decoding']\n",
    "expected_v_observed_result, curr_long_short_rr = curr_long_short_post_decoding.expected_v_observed_result, curr_long_short_post_decoding.rate_remapping\n",
    "rate_remapping_df, high_remapping_cells_only = curr_long_short_rr.rr_df, curr_long_short_rr.high_only_rr_df\n",
    "Flat_epoch_time_bins_mean, Flat_decoder_time_bin_centers, num_neurons, num_timebins_in_epoch, num_total_flat_timebins, is_short_track_epoch, is_long_track_epoch, short_short_diff, long_long_diff = expected_v_observed_result['Flat_epoch_time_bins_mean'], expected_v_observed_result['Flat_decoder_time_bin_centers'], expected_v_observed_result['num_neurons'], expected_v_observed_result['num_timebins_in_epoch'], expected_v_observed_result['num_total_flat_timebins'], expected_v_observed_result['is_short_track_epoch'], expected_v_observed_result['is_long_track_epoch'], expected_v_observed_result['short_short_diff'], expected_v_observed_result['long_long_diff']\n"
   ]
  },
  {
   "cell_type": "code",
   "execution_count": null,
   "id": "b5b91b9b",
   "metadata": {},
   "outputs": [],
   "source": [
    "long_grid_bin_bounds, short_grid_bin_bounds, global_grid_bin_bounds = [curr_active_pipeline.computation_results[a_name].computation_config['pf_params'].grid_bin_bounds for a_name in (long_epoch_name, short_epoch_name, global_epoch_name)]\n",
    "print(long_grid_bin_bounds, short_grid_bin_bounds, global_grid_bin_bounds)\n",
    "long_pos_df, short_pos_df, global_pos_df, all_pos_df = [a_sess.position.to_dataframe() for a_sess in (long_session, short_session, global_session, curr_active_pipeline.sess)]\n",
    "combined_pos_df = deepcopy(all_pos_df)\n",
    "combined_pos_df.loc[long_pos_df.index, 'long_lin_pos'] = long_pos_df.lin_pos\n",
    "combined_pos_df.loc[short_pos_df.index, 'short_pos_df'] = short_pos_df.lin_pos\n",
    "combined_pos_df.loc[global_pos_df.index, 'global_lin_pos'] = global_pos_df.lin_pos\n",
    "\n",
    "# ['long_lin_pos', 'short_pos_df', 'global_lin_pos']\n",
    "combined_pos_df\n",
    "%matplotlib qt\n",
    "combined_pos_df.plot(x='t', y=['x', 'lin_pos', 'long_lin_pos', 'short_pos_df', 'global_lin_pos'])"
   ]
  },
  {
   "cell_type": "code",
   "execution_count": null,
   "id": "eb2cef02",
   "metadata": {},
   "outputs": [],
   "source": [
    "# Clearing 'long_short_post_decoding'\n",
    "# del curr_active_pipeline.global_computation_results.computed_data['long_short_post_decoding']\n",
    "# drop_columns = [col for col in df2.columns if col in df1.columns]\n",
    "# df1 = df1.drop(drop_columns, axis=1)"
   ]
  },
  {
   "cell_type": "code",
   "execution_count": null,
   "id": "dffb912e",
   "metadata": {},
   "outputs": [],
   "source": [
    "# global_session.laps.to_dataframe()\n",
    "lap_specific_epochs = curr_active_pipeline.sess.laps.as_epoch_obj().get_non_overlapping().filtered_by_duration(1.0, 30.0) # laps specifically for use in the placefields with non-overlapping, duration, constraints: the lap must be at least 1 second long and at most 30 seconds long\n",
    "\n",
    "pos_df = global_session.position.to_dataframe()\n",
    "# pos_df.time_slicer.slice("
   ]
  },
  {
   "cell_type": "code",
   "execution_count": null,
   "id": "1b90173d",
   "metadata": {},
   "outputs": [],
   "source": [
    "global_session.compute_laps_position_df()"
   ]
  },
  {
   "cell_type": "code",
   "execution_count": null,
   "id": "70ebffc2",
   "metadata": {},
   "outputs": [],
   "source": [
    "\n",
    "laps_pos_df = global_session.position.to_dataframe()[global_session.position.to_dataframe().lap.notnull()]\n",
    "laps_only_grid_bin_bounds = PlacefieldComputationParameters.compute_grid_bin_bounds(laps_pos_df.x.to_numpy(), laps_pos_df.y.to_numpy())\n",
    "print(f'laps_only_grid_bin_bounds: {laps_only_grid_bin_bounds}')"
   ]
  },
  {
   "cell_type": "code",
   "execution_count": null,
   "id": "39f8f738",
   "metadata": {},
   "outputs": [],
   "source": [
    "long_pf2D.plot_ratemaps_2D()"
   ]
  },
  {
   "cell_type": "code",
   "execution_count": null,
   "id": "5594b2f1",
   "metadata": {},
   "outputs": [],
   "source": [
    "# long_pf2D\n",
    "# global_pf2D.bin_info\n",
    "global_pf1D.bin_info"
   ]
  },
  {
   "cell_type": "code",
   "execution_count": null,
   "id": "c0f6d500",
   "metadata": {},
   "outputs": [],
   "source": [
    "unfiltered_sess_grid_bin_bounds = PlacefieldComputationParameters.compute_grid_bin_bounds(curr_active_pipeline.sess.position.x, curr_active_pipeline.sess.position.y)\n",
    "print(f'unfiltered_sess_grid_bin_bounds: {unfiltered_sess_grid_bin_bounds}')"
   ]
  },
  {
   "cell_type": "code",
   "execution_count": null,
   "id": "d11fa9b6",
   "metadata": {},
   "outputs": [],
   "source": [
    "# long_pos_df, short_pos_df, global_pos_df, all_pos_df = [a_sess.position.to_dataframe() for a_sess in (long_session, short_session, global_session, curr_active_pipeline.sess)]\n",
    "\n",
    "long_grid_bin_bounds, short_grid_bin_bounds, global_grid_bin_bounds, all_grid_bin_bounds = [PlacefieldComputationParameters.compute_grid_bin_bounds(a_sess.position.x, a_sess.position.y) for a_sess in (long_session, short_session, global_session, curr_active_pipeline.sess)]\n",
    "print(long_grid_bin_bounds, short_grid_bin_bounds, global_grid_bin_bounds, all_grid_bin_bounds, sep=\"\\n\")"
   ]
  },
  {
   "attachments": {},
   "cell_type": "markdown",
   "id": "d794a572",
   "metadata": {
    "tags": [
     "defer"
    ]
   },
   "source": [
    "# 2023-06-13 - Updating Object Persistance from the dates added to the local computations:\n",
    "TODO 2023-06-13 18:07: - [ ] The global_computation_results should check the `current_computation_completion_times` corresponding to the local functions that contribute results that they depend on (like 'pf1D', etc) to make sure they haven't changed. If they have changed, they should recompute."
   ]
  },
  {
   "cell_type": "code",
   "execution_count": null,
   "id": "cc28bcdb",
   "metadata": {},
   "outputs": [],
   "source": [
    "from pyphoplacecellanalysis.General.Pipeline.NeuropyPipeline import LoadedObjectPersistanceState\n",
    "from datetime import datetime\n",
    "# curr_active_pipeline.pipeline_compare_dict\n",
    "# curr_active_pipeline.computation_results['maze1']['computation_times']\n",
    "\n",
    "current_computation_completion_times = {}\n",
    "current_epoch_latest_computation_time = {} # the most recent computation for each of the epochs\n",
    "# find update time of latest function:\n",
    "for k, v in curr_active_pipeline.computation_results.items():\n",
    "\textracted_computation_times_dict = v['computation_times']\n",
    "\tcurrent_computation_completion_times[k] = {k.__name__:v for k,v in extracted_computation_times_dict.items()}\n",
    "\tcurrent_epoch_latest_computation_time[k] = max(list(current_computation_completion_times[k].values()))\n",
    "\n",
    "any_latest_computation_time: datetime = max(list(current_epoch_latest_computation_time.values())) # newest computation out of any of the epochs\n",
    "\n",
    "print(f'any_latest_computation_time: {any_latest_computation_time}')\n",
    "print(f'current_epoch_latest_computation_time: {current_epoch_latest_computation_time}')\n",
    "current_computation_completion_times\n",
    "\n",
    "# any_latest_computation_time: 2023-06-13 17:40:44.628404\n",
    "# current_epoch_latest_computation_time: {'maze1': datetime.datetime(2023, 6, 13, 17, 39, 18, 195870), 'maze2': datetime.datetime(2023, 6, 13, 17, 40, 44, 628404), 'maze': datetime.datetime(2023, 6, 13, 17, 33, 33, 859610)}\n",
    "# current_computation_status: {'maze1': {'_perform_baseline_placefield_computation': datetime.datetime(2023, 6, 13, 17, 24, 17, 681574),\n",
    "#   '_perform_position_decoding_computation': datetime.datetime(2023, 6, 13, 17, 39, 18, 195870),\n",
    "#   '_perform_two_step_position_decoding_computation': datetime.datetime(2023, 6, 13, 17, 26, 17, 278340),\n",
    "#   '_perform_pf_find_ratemap_peaks_computation': datetime.datetime(2023, 6, 13, 17, 26, 21, 5364),\n",
    "#   '_perform_extended_statistics_computation': datetime.datetime(2023, 6, 13, 17, 26, 21, 31363),\n",
    "#   '_perform_firing_rate_trends_computation': datetime.datetime(2023, 6, 13, 17, 26, 22, 385595)},\n",
    "#  'maze2': {'_perform_baseline_placefield_computation': datetime.datetime(2023, 6, 13, 17, 26, 23, 665116),\n",
    "#   '_perform_position_decoding_computation': datetime.datetime(2023, 6, 13, 17, 40, 44, 628404),\n",
    "#   '_perform_two_step_position_decoding_computation': datetime.datetime(2023, 6, 13, 17, 28, 32, 360685),\n",
    "#   '_perform_pf_find_ratemap_peaks_computation': datetime.datetime(2023, 6, 13, 17, 28, 36, 25350),\n",
    "#   '_perform_extended_statistics_computation': datetime.datetime(2023, 6, 13, 17, 28, 36, 49351),\n",
    "#   '_perform_firing_rate_trends_computation': datetime.datetime(2023, 6, 13, 17, 28, 37, 302445)},\n",
    "#  'maze': {'_perform_baseline_placefield_computation': datetime.datetime(2023, 6, 13, 17, 28, 39, 869814),\n",
    "#   '_perform_position_decoding_computation': datetime.datetime(2023, 6, 13, 17, 31, 56, 800175),\n",
    "#   '_perform_two_step_position_decoding_computation': datetime.datetime(2023, 6, 13, 17, 33, 26, 857989),\n",
    "#   '_perform_pf_find_ratemap_peaks_computation': datetime.datetime(2023, 6, 13, 17, 33, 30, 796529),\n",
    "#   '_perform_extended_statistics_computation': datetime.datetime(2023, 6, 13, 17, 33, 30, 836528),\n",
    "#   '_perform_firing_rate_trends_computation': datetime.datetime(2023, 6, 13, 17, 33, 33, 859610)}}\n",
    "\n"
   ]
  },
  {
   "cell_type": "code",
   "execution_count": null,
   "id": "71b3b268",
   "metadata": {},
   "outputs": [],
   "source": [
    "curr_active_pipeline.active_completed_computation_result_names"
   ]
  },
  {
   "cell_type": "code",
   "execution_count": null,
   "id": "a37211a2",
   "metadata": {},
   "outputs": [],
   "source": [
    "curr_active_pipeline.pipeline_compare_dict"
   ]
  },
  {
   "cell_type": "code",
   "execution_count": null,
   "id": "c34fa1c2",
   "metadata": {},
   "outputs": [],
   "source": [
    "\n",
    "# ('computed_data', ('pf1D', 'pf2D', 'pf1D_Decoder', 'pf2D_Decoder', 'pf2D_TwoStepDecoder', 'RatemapPeaksAnalysis', 'extended_stats', 'firing_rate_trends'))\n"
   ]
  },
  {
   "attachments": {},
   "cell_type": "markdown",
   "id": "844354b4",
   "metadata": {
    "tags": []
   },
   "source": [
    "# 2023-05-26 - Expected vs Observed firing rates\n",
    "## 2023-05-30 Comments from Kourosh:\n",
    "- concern: is it valid to use the most-likely predicted position for each decoder for this? Isn't it a bit circular because the firing rates determine the likelihood of the position?\n",
    "- sign-rank is equivalent of paired t-test for non-parametric, use that to compare the means for each cell after averaging over replays to remove the noise from that\n",
    "- OPTION: could add a continuous plot that shows the difference between the two decoders and the animal's measured position as a function of time (observed_x - long_decoded_x), (observed_x - short_decoded_x).\n",
    "- [x] Plot just replay-to-replay series, removing the time axis"
   ]
  },
  {
   "cell_type": "code",
   "execution_count": null,
   "id": "bf1a25f4",
   "metadata": {},
   "outputs": [],
   "source": [
    "## Get global 'long_short_post_decoding' results:\n",
    "curr_long_short_post_decoding = curr_active_pipeline.global_computation_results.computed_data['long_short_post_decoding']\n",
    "expected_v_observed_result, curr_long_short_rr = curr_long_short_post_decoding.expected_v_observed_result, curr_long_short_post_decoding.rate_remapping\n",
    "rate_remapping_df, high_remapping_cells_only = curr_long_short_rr.rr_df, curr_long_short_rr.high_only_rr_df\n",
    "Flat_epoch_time_bins_mean, Flat_decoder_time_bin_centers, num_neurons, num_timebins_in_epoch, num_total_flat_timebins, is_short_track_epoch, is_long_track_epoch, short_short_diff, long_long_diff = expected_v_observed_result['Flat_epoch_time_bins_mean'], expected_v_observed_result['Flat_decoder_time_bin_centers'], expected_v_observed_result['num_neurons'], expected_v_observed_result['num_timebins_in_epoch'], expected_v_observed_result['num_total_flat_timebins'], expected_v_observed_result['is_short_track_epoch'], expected_v_observed_result['is_long_track_epoch'], expected_v_observed_result['short_short_diff'], expected_v_observed_result['long_long_diff']\n",
    "\n",
    "num_epochs: int = len(num_timebins_in_epoch)"
   ]
  },
  {
   "attachments": {},
   "cell_type": "markdown",
   "id": "70955f60",
   "metadata": {},
   "source": [
    "## 2023-05-30 - `plot_expected_vs_observed`"
   ]
  },
  {
   "cell_type": "code",
   "execution_count": null,
   "id": "29e4ab2e",
   "metadata": {},
   "outputs": [],
   "source": [
    "from pyphoplacecellanalysis.General.Pipeline.Stages.DisplayFunctions.MultiContextComparingDisplayFunctions.LongShortTrackComparingDisplayFunctions import _prepare_plot_expected_vs_observed\n",
    "\n",
    "fig, axes, final_context, active_out_figure_paths = _prepare_plot_expected_vs_observed(curr_active_pipeline, defer_render=False)"
   ]
  },
  {
   "cell_type": "code",
   "execution_count": null,
   "id": "feeef8c0",
   "metadata": {},
   "outputs": [],
   "source": [
    "## 2023-05-31 - Reference Output of matplotlib figure to file, along with building appropriate context.\n",
    "active_session_figures_out_path = curr_active_pipeline.get_daily_programmatic_session_output_path()\n",
    "final_context = curr_active_pipeline.sess.get_context().adding_context('display_fn', display_fn_name='plot_expected_vs_observed').adding_context('display_kwargs', **display_kwargs)\n",
    "print(f'final_context: {final_context}')\n",
    "active_out_figure_paths = perform_write_to_file(fig, final_context, figures_parent_out_path=active_session_figures_out_path, register_output_file_fn=curr_active_pipeline.register_output_file)\n"
   ]
  },
  {
   "cell_type": "code",
   "execution_count": null,
   "id": "993412e0",
   "metadata": {},
   "outputs": [],
   "source": [
    "all_epochs_computed_observed_from_expected_difference_LONG[0] #.shape (42, 8)"
   ]
  },
  {
   "cell_type": "code",
   "execution_count": null,
   "id": "0319692c",
   "metadata": {},
   "outputs": [],
   "source": [
    "all_epochs_computed_observed_from_expected_difference_maximum_LONG[0] # .shape (42, 8)"
   ]
  },
  {
   "cell_type": "code",
   "execution_count": null,
   "id": "2fee52d0",
   "metadata": {},
   "outputs": [],
   "source": [
    "all_epochs_computed_expected_cell_firing_rates_mean_LONG[0] # .shape (42,)"
   ]
  },
  {
   "cell_type": "code",
   "execution_count": null,
   "id": "e21dbc64",
   "metadata": {},
   "outputs": [],
   "source": [
    "all_epochs_computed_observed_from_expected_difference_LONG[0].shape"
   ]
  },
  {
   "cell_type": "code",
   "execution_count": null,
   "id": "4a2d06a7",
   "metadata": {},
   "outputs": [],
   "source": [
    "from pyphoplacecellanalysis.General.Pipeline.Stages.ComputationFunctions.MultiContextComputationFunctions.LongShortTrackComputations import JonathanFiringRateAnalysisResult\n",
    "\n",
    "jonathan_firing_rate_analysis_result = JonathanFiringRateAnalysisResult(**curr_active_pipeline.global_computation_results.computed_data.jonathan_firing_rate_analysis.to_dict())"
   ]
  },
  {
   "cell_type": "code",
   "execution_count": null,
   "id": "33ac6c8d",
   "metadata": {},
   "outputs": [],
   "source": [
    "jonathan_firing_rate_analysis_result.rdf.rdf"
   ]
  },
  {
   "cell_type": "code",
   "execution_count": null,
   "id": "bdc9c2e5",
   "metadata": {},
   "outputs": [],
   "source": [
    "jonathan_firing_rate_analysis_result.time_binned_instantaneous_unit_specific_spike_rate.time_bins #.shape"
   ]
  },
  {
   "cell_type": "code",
   "execution_count": null,
   "id": "785ca961",
   "metadata": {},
   "outputs": [],
   "source": [
    "import matplotlib\n",
    "%matplotlib qt\n",
    "import matplotlib.pyplot as plt\n",
    "instantaneous_fr_df = deepcopy(jonathan_firing_rate_analysis_result.time_binned_instantaneous_unit_specific_spike_rate.instantaneous_unit_specific_spike_rate_values)\n",
    "instantaneous_fr_df['t'] = jonathan_firing_rate_analysis_result.time_binned_instantaneous_unit_specific_spike_rate.time_bins\n",
    "instantaneous_fr_df #.plot()\n",
    "\n",
    "smoothed_instantaneous_fr_df = instantaneous_fr_df.ewm(span=60).mean()\n",
    "\n",
    "smoothed_instantaneous_fr_df.plot(x='t')\n",
    "plt.title(\"Instantaneous Firing Rates\")\n",
    "plt.xlabel('time')\n",
    "plt.ylabel('Firing Rate (Hz)')"
   ]
  },
  {
   "cell_type": "code",
   "execution_count": null,
   "id": "0c8b7bbd",
   "metadata": {
    "tags": [
     "output",
     "figure",
     "display",
     "ACTIVE"
    ]
   },
   "outputs": [],
   "source": [
    "import matplotlib\n",
    "%matplotlib qt\n",
    "import matplotlib.pyplot as plt\n",
    "from pyphoplacecellanalysis.General.Mixins.ExportHelpers import build_figure_basename_from_display_context\n",
    "from pyphoplacecellanalysis.General.Pipeline.Stages.DisplayFunctions.MultiContextComparingDisplayFunctions.LongShortTrackComparingDisplayFunctions import _plot_session_long_short_track_firing_rate_figures\n",
    "from pyphoplacecellanalysis.General.Pipeline.Stages.ComputationFunctions.MultiContextComputationFunctions.LongShortTrackComputations import JonathanFiringRateAnalysisResult\n",
    "\n",
    "jonathan_firing_rate_analysis_result = JonathanFiringRateAnalysisResult(**curr_active_pipeline.global_computation_results.computed_data.jonathan_firing_rate_analysis.to_dict())\n",
    "long_plots, short_plots = _plot_session_long_short_track_firing_rate_figures(curr_active_pipeline, jonathan_firing_rate_analysis_result, figures_parent_out_path=curr_active_pipeline.get_output_path())"
   ]
  },
  {
   "cell_type": "code",
   "execution_count": null,
   "id": "345b3cca",
   "metadata": {},
   "outputs": [],
   "source": [
    "instantaneous_fr_df.set_index('t').to_clipboard()"
   ]
  },
  {
   "cell_type": "code",
   "execution_count": null,
   "id": "c7ff9bb5",
   "metadata": {},
   "outputs": [],
   "source": [
    "## Require placefield presence on either the long or the short\n",
    "jonathan_firing_rate_analysis_result.neuron_replay_stats_df = jonathan_firing_rate_analysis_result.neuron_replay_stats_df[np.logical_or(jonathan_firing_rate_analysis_result.neuron_replay_stats_df['has_long_pf'], jonathan_firing_rate_analysis_result.neuron_replay_stats_df['has_short_pf'])]"
   ]
  },
  {
   "cell_type": "code",
   "execution_count": null,
   "id": "87851fff",
   "metadata": {},
   "outputs": [],
   "source": [
    "jonathan_firing_rate_analysis_result.neuron_replay_stats_df[np.logical_or(jonathan_firing_rate_analysis_result.neuron_replay_stats_df['has_long_pf'], jonathan_firing_rate_analysis_result.neuron_replay_stats_df['has_short_pf'])].index.to_numpy()"
   ]
  },
  {
   "attachments": {},
   "cell_type": "markdown",
   "id": "8de2e3da",
   "metadata": {},
   "source": [
    "# 2023-05-19 - Testing S-only emergence, L-only replays in S, peak position remappings "
   ]
  },
  {
   "cell_type": "code",
   "execution_count": null,
   "id": "d082385f",
   "metadata": {},
   "outputs": [],
   "source": [
    "from pyphoplacecellanalysis.General.Pipeline.Stages.ComputationFunctions.MultiContextComputationFunctions.LongShortTrackComputations import JonathanFiringRateAnalysisResult\n",
    "\n",
    "jonathan_firing_rate_analysis_result = JonathanFiringRateAnalysisResult(**curr_active_pipeline.global_computation_results.computed_data.jonathan_firing_rate_analysis.to_dict())\n",
    "neuron_replay_stats_df = jonathan_firing_rate_analysis_result.neuron_replay_stats_df.copy()\n",
    "neuron_replay_stats_df"
   ]
  },
  {
   "cell_type": "code",
   "execution_count": null,
   "id": "d23e5131",
   "metadata": {},
   "outputs": [],
   "source": [
    "\n",
    "from pyphoplacecellanalysis.General.Mixins.CrossComputationComparisonHelpers import SplitPartitionMembership, SetPartition\n",
    "## 2023-05-19 - Get S-only pfs\n",
    "is_S_pf_only = np.logical_and(np.logical_not(neuron_replay_stats_df['has_long_pf']), neuron_replay_stats_df['has_short_pf'])\n",
    "is_S_only = neuron_replay_stats_df.track_membership == SplitPartitionMembership.RIGHT_ONLY\n",
    "assert (is_S_pf_only == is_S_only).all()\n",
    "S_only_aclus = neuron_replay_stats_df.index[is_S_only].to_numpy()\n",
    "neuron_replay_stats_df[is_S_pf_only]\n"
   ]
  },
  {
   "cell_type": "code",
   "execution_count": null,
   "id": "3bc5b2a5",
   "metadata": {},
   "outputs": [],
   "source": [
    "\n",
    "## Show L-only pfs stop replaying on S\n",
    "is_L_pf_only = np.logical_and(np.logical_not(neuron_replay_stats_df['has_short_pf']), neuron_replay_stats_df['has_long_pf'])\n",
    "is_L_only = neuron_replay_stats_df.track_membership == SplitPartitionMembership.LEFT_ONLY\n",
    "assert (is_L_pf_only == is_L_only).all()\n",
    "L_only_aclus = neuron_replay_stats_df.index[is_L_only].to_numpy()\n",
    "neuron_replay_stats_df[is_L_only]\n",
    "\n",
    "\n",
    "## For ('kdiba', 'gor01', 'one', '2006-6-09_1-22-43') - Have L-only cells [24, 98] that have ['short_num_replays'] = [8, 7]. We were hoping that there would be few to no replays on the S-track that involved L-only cells."
   ]
  },
  {
   "cell_type": "code",
   "execution_count": null,
   "id": "5b3bdd19",
   "metadata": {},
   "outputs": [],
   "source": [
    "## 2023-05-23 - Get Common (SHARED) placefields\n",
    "## Goal 1: From the cells with the placefields on both tracks, compute the degree to which they remap in position and sort them according to their distance.\n",
    "is_BOTH_pf_only = np.logical_and(neuron_replay_stats_df['has_short_pf'], neuron_replay_stats_df['has_long_pf']) # (63,)\n",
    "BOTH_pf_only_aclus = neuron_replay_stats_df.index[is_BOTH_pf_only].to_numpy()\n",
    "\n",
    "## NOTE: is_BOTH_pf_only is a much more stringent requirement (and a strict subset) than `is_BOTH_only`\n",
    "is_BOTH_only = neuron_replay_stats_df.track_membership == SplitPartitionMembership.SHARED # (99,)\n",
    "BOTH_only_aclus = neuron_replay_stats_df.index[is_BOTH_only].to_numpy()\n",
    "assert BOTH_only_aclus.shape[0] >= BOTH_pf_only_aclus.shape[0]\n",
    "\n",
    "BOTH_pf_only_df = neuron_replay_stats_df[is_BOTH_pf_only].copy()\n",
    "BOTH_pf_only_df['long_short_pf_peak_x_displacement'] = BOTH_pf_only_df['long_pf_peak_x'].values - BOTH_pf_only_df['short_pf_peak_x'].values\n",
    "BOTH_pf_only_df['long_short_pf_peak_x_distance'] = BOTH_pf_only_df['long_short_pf_peak_x_displacement'].abs()\n",
    "BOTH_pf_only_df.sort_values(by=['long_short_pf_peak_x_distance'], inplace=True, ascending=False)\n",
    "BOTH_pf_only_df\n",
    "\n",
    "#TODO 2023-05-23 - Can do more detailed peaks analysis with: long_results.RatemapPeaksAnalysis and short_results.RatemapPeaksAnalysis\n",
    "\n"
   ]
  },
  {
   "cell_type": "code",
   "execution_count": null,
   "id": "e3f51c29",
   "metadata": {},
   "outputs": [],
   "source": [
    "\"\"\" 24 cells, 133 Epochs, 789 Total Timebins\n",
    "# Other\n",
    "\t\n",
    "\t- is_non_firing_time_bin: numpy.ndarray - (24, 789)\n",
    "\t- all_epochs_num_epoch_time_bins: numpy.ndarray - (133,)\n",
    "\t\n",
    "    ## Indexing Helpers:\n",
    "\t\t- all_epochs_reverse_flat_epoch_indicies_array: numpy.ndarray - (789,)\n",
    "\t\t- split_by_epoch_reverse_flattened_time_bin_indicies: list - (133,)\n",
    "    \n",
    "\t- original_1D_decoder: pyphoplacecellanalysis.Analysis.Decoder.reconstruction.BasePositionDecoder\n",
    "\t\t- pf: neuropy.analyses.placefields.PfND\n",
    "\t\t- neuron_IDXs: numpy.ndarray - (24,)\n",
    "\t\t- neuron_IDs: numpy.ndarray - (24,)\n",
    "\t\t- F: numpy.ndarray - (119, 24)\n",
    "\t\t- P_x: numpy.ndarray - (119, 1)\n",
    "        \n",
    "\t- flat_all_epochs_decoded_epoch_time_bins: numpy.ndarray - (24, 789)\n",
    "\n",
    "# Measured\n",
    "\t- flat_all_epochs_measured_cell_spike_counts: numpy.ndarray - (24, 789)\n",
    "\t- flat_all_epochs_measured_cell_firing_rates: numpy.ndarray - (24, 789)\n",
    "\n",
    "\n",
    "# Expected\n",
    "\t- flat_all_epochs_computed_expected_cell_firing_rates: numpy.ndarray - (24, 789)\n",
    "\t- flat_all_epochs_difference_from_expected_cell_spike_counts: numpy.ndarray - (24, 789)\n",
    "\t- flat_all_epochs_difference_from_expected_cell_firing_rates: numpy.ndarray - (24, 789)\n",
    "    \n",
    "    \n",
    "    \n",
    "## Epoch-based\n",
    "\t- all_epochs_decoded_epoch_time_bins_mean: numpy.ndarray - (133, 24)\n",
    "\n",
    "    \n",
    "    \n",
    "    \n",
    "- flat_all_epochs_measured_cell_firing_rates: numpy.ndarray - .shape: (24, 789) \n",
    "- flat_all_epochs_computed_expected_cell_firing_rates: numpy.ndarray - .shape: (24, 789)\n",
    "\n",
    "\n",
    "\"\"\""
   ]
  },
  {
   "cell_type": "code",
   "execution_count": null,
   "id": "f0b3a9f1",
   "metadata": {},
   "outputs": [],
   "source": [
    "long_results_obj.flat_all_epochs_computed_expected_cell_firing_rates\n",
    "long_results_obj.flat_all_epochs_measured_cell_firing_rates\n",
    "\n",
    "# long_results_obj.result_df_grouped\n",
    "\n",
    "measured_dfs = pd.DataFrame(long_results_obj.flat_all_epochs_measured_cell_firing_rates.T, columns=long_results_obj.original_1D_decoder.neuron_IDs)\n",
    "expected_dfs = pd.DataFrame(long_results_obj.flat_all_epochs_computed_expected_cell_firing_rates.T, columns=long_results_obj.original_1D_decoder.neuron_IDs)\n",
    "# pd.DataFrame(np.stack((long_results_obj.flat_all_epochs_measured_cell_firing_rates, long_results_obj.flat_all_epochs_computed_expected_cell_firing_rates)), columns=['measured_fr', 'expected_fr'])\n",
    "measured_dfs.plot()\n"
   ]
  },
  {
   "cell_type": "code",
   "execution_count": null,
   "id": "4d8566f2",
   "metadata": {},
   "outputs": [],
   "source": [
    "jonathan_firing_rate_analysis_result.neuron_replay_stats_df.to_clipboard()"
   ]
  },
  {
   "cell_type": "code",
   "execution_count": null,
   "id": "10cdb9f2",
   "metadata": {},
   "outputs": [],
   "source": [
    "from pyphoplacecellanalysis.General.Pipeline.Stages.ComputationFunctions.MultiContextComputationFunctions.LongShortTrackComputations import compute_evening_morning_parition\n",
    "\n",
    "difference_sorted_aclus, evening_sorted_aclus, morning_sorted_aclus = compute_evening_morning_parition(neuron_replay_stats_df, debug_print=True)\n",
    "sorted_neuron_replay_stats_df = neuron_replay_stats_df.reindex(difference_sorted_aclus).copy() # This seems to work to re-sort the dataframe by the sort indicies\n",
    "sorted_neuron_replay_stats_df"
   ]
  },
  {
   "cell_type": "code",
   "execution_count": null,
   "id": "7524856f",
   "metadata": {},
   "outputs": [],
   "source": [
    "from neuropy.core.neurons import NeuronType\n",
    "\n",
    "%matplotlib qt\n",
    "# Look at replays during ripples vs. those not during ripples. Also potentially PBEs vs. not PBEs.\n",
    "\n",
    "# NeuronType.from_any_string_series(['pyr','intr'])\n",
    "'pyr','cont','intr'\n",
    "\n",
    "active_identifying_session_ctx = curr_active_pipeline.sess.get_context() # 'bapun_RatN_Day4_2019-10-15_11-30-06'\n",
    "curr_active_pipeline.display('_display_jonathan_interactive_replay_firing_rate_comparison', active_identifying_session_ctx, included_neuron_types=NeuronType.from_any_string_series(['pyr'])) # only the pyramidal neurons"
   ]
  },
  {
   "cell_type": "code",
   "execution_count": null,
   "id": "bc7ebf69",
   "metadata": {},
   "outputs": [],
   "source": [
    "curr_active_pipeline.reload_default_display_functions()"
   ]
  },
  {
   "cell_type": "code",
   "execution_count": null,
   "id": "68f61971",
   "metadata": {},
   "outputs": [],
   "source": [
    "curr_active_pipeline.display('_display_jonathan_interactive_replay_firing_rate_comparison', active_identifying_session_ctx, included_neuron_types=NeuronType.from_any_string_series(['intr']), require_placefield=False) # only the pyramidal neurons"
   ]
  },
  {
   "cell_type": "code",
   "execution_count": null,
   "id": "0859e13d",
   "metadata": {},
   "outputs": [],
   "source": [
    "from pyphoplacecellanalysis.General.Mixins.CrossComputationComparisonHelpers import build_replays_custom_scatter_markers, CustomScatterMarkerMode\n",
    "\n",
    "_curr_included_aclus = jonathan_firing_rate_analysis_result.neuron_replay_stats_df[np.logical_or(jonathan_firing_rate_analysis_result.neuron_replay_stats_df['has_long_pf'], jonathan_firing_rate_analysis_result.neuron_replay_stats_df['has_short_pf'])].index.to_numpy()\n",
    "_curr_output = curr_active_pipeline.display('_display_batch_pho_jonathan_replay_firing_rate_comparison', active_identifying_session_ctx, included_unit_neuron_IDs=_curr_included_aclus, marker_split_mode=CustomScatterMarkerMode.NoSplit)"
   ]
  },
  {
   "attachments": {},
   "cell_type": "markdown",
   "id": "d69eed8a",
   "metadata": {},
   "source": [
    "## 2023-04-13 - Shuffled Surprise\n",
    "\"\"\" \n",
    "Relevant Functions:\n",
    "`perform_full_session_leave_one_out_decoding_analysis`:\n",
    "\t`perform_leave_one_aclu_out_decoding_analysis`:\tfrom pyphoplacecellanalysis.Analysis.Decoder.decoder_result import perform_leave_one_aclu_out_decoding_analysis\n",
    "\t`_analyze_leave_one_out_decoding_results`: from pyphoplacecellanalysis.General.Pipeline.Stages.ComputationFunctions.DefaultComputationFunctions import _analyze_leave_one_out_decoding_results\n",
    "\"\"\"\n"
   ]
  },
  {
   "cell_type": "code",
   "execution_count": null,
   "id": "0aac42d4",
   "metadata": {},
   "outputs": [],
   "source": [
    "# 2023-04-18 - Refactored into decoder_result\n",
    "result, result_df, result_df_grouped = long_results_obj.result, long_results_obj.result_df, long_results_obj.result_df_grouped"
   ]
  },
  {
   "cell_type": "code",
   "execution_count": null,
   "id": "c107570f",
   "metadata": {},
   "outputs": [],
   "source": [
    "from pyphoplacecellanalysis.Analysis.Decoder.decoder_result import DiagnosticDistanceMetricFigure\n",
    "\n",
    "## Render the internactive slider that allows selecting the timebin index to debug\n",
    "n_timebins = np.sum(long_results_obj.all_epochs_num_epoch_time_bins)\n",
    "timebinned_neuron_info = long_results_obj.timebinned_neuron_info\n",
    "result = long_results_obj.new_result\n",
    "active_fig_obj, update_function = DiagnosticDistanceMetricFigure.build_interactive_diagnostic_distance_metric_figure(long_results_obj, timebinned_neuron_info, result)\n",
    "active_fig_obj.integer_slider(n_timebins=n_timebins, update_func=update_function)"
   ]
  },
  {
   "cell_type": "code",
   "execution_count": null,
   "id": "7670bfae",
   "metadata": {},
   "outputs": [],
   "source": [
    "\n",
    "# 1. Get set of cells active in a given time bin, for each compute the surprise of its placefield with the leave-one-out decoded posterior.\n",
    "\n",
    "# 2. From the remainder of cells (those not active), randomly choose one to grab the placefield of and compute the surprise with that and the same posterior.\n",
    "\n",
    "# Expectation: The cells that are included in the time bin are expected to have a lower surprise (be less correlated with) the posterior."
   ]
  },
  {
   "cell_type": "code",
   "execution_count": null,
   "id": "c1692fd1",
   "metadata": {
    "tags": [
     "active"
    ]
   },
   "outputs": [],
   "source": [
    "win, plots = plot_long_short_surprise_difference_plot(curr_active_pipeline, long_results_obj, short_results_obj, long_epoch_name, short_epoch_name)\n"
   ]
  },
  {
   "cell_type": "code",
   "execution_count": null,
   "id": "118c3089",
   "metadata": {},
   "outputs": [],
   "source": [
    "long_results_obj.timebinned_neuron_info.n_timebins # 736\n",
    "short_results_obj.timebinned_neuron_info.n_timebins"
   ]
  },
  {
   "cell_type": "code",
   "execution_count": null,
   "id": "893964b2",
   "metadata": {},
   "outputs": [],
   "source": [
    "long_results_obj.flat_all_epochs_measured_cell_firing_rates.shape # (30, 736)\n",
    "# short_results_obj.flat_all_epochs_measured_cell_firing_rates.shape # (30, 736)\n",
    "\n"
   ]
  },
  {
   "cell_type": "code",
   "execution_count": null,
   "id": "bae2e695",
   "metadata": {
    "tags": [
     "active",
     "NOW_05-25",
     "expected_vs_observed"
    ]
   },
   "outputs": [],
   "source": [
    "win, plots_tuple, legend = plot_long_short_expected_vs_observed_firing_rates(long_results_obj, short_results_obj, limit_aclus=list(BOTH_pf_only_df.index[:2].values))\n",
    "long_epoch_indicator_region_items, short_epoch_indicator_region_items = _helper_add_long_short_session_indicator_regions(win, long_epoch=curr_active_pipeline.filtered_epochs[long_epoch_name], short_epoch=curr_active_pipeline.filtered_epochs[short_epoch_name])"
   ]
  },
  {
   "cell_type": "code",
   "execution_count": null,
   "id": "0f55bb1b",
   "metadata": {},
   "outputs": [],
   "source": [
    "from pyphoplacecellanalysis.General.Mixins.ExportHelpers import export_pyqtgraph_plot # works pretty well seemingly\n",
    "\n",
    "export_pyqtgraph_plot(win)\n",
    "# pg.setConfigOption('leftTitle', 'MathText')\n",
    "# win.setTitle(r'JSD(p_x_given_n, pf[<font size=\"4\"><b><span style=\"color:red;\">i</span></b></font>]) - JSD(p_x_given_n, pf[<font size=\"4\"><b>j</b></font>]) where <font size=\"4\"><b>j</b></font> non-firing')\n",
    "\n",
    "# win.setTitle(generate_html_string(f'JSD(p_x_given_n, pf[{i_str}]) - JSD(p_x_given_n, pf[{j_str}]) where {j_str} non-firing', font_size=8))\n",
    "\n",
    "# r'$\\fn{JSD}{\\matr{pf}_{i}, \\Pr{\\vec{x}_{t}|\\vec{n}_{t}}} - \\fn{JSD}{\\matr{pf}_{j}, \\Pr{\\vec{x}_{t}|\\vec{n}_{t}}}$'\n",
    "# title_str"
   ]
  },
  {
   "attachments": {},
   "cell_type": "markdown",
   "id": "1f996fd9",
   "metadata": {},
   "source": [
    "## Pre 2023-04-13"
   ]
  },
  {
   "cell_type": "code",
   "execution_count": null,
   "id": "33b6ac25",
   "metadata": {},
   "outputs": [],
   "source": [
    "import matplotlib\n",
    "import matplotlib.pyplot as plt\n",
    "%matplotlib qt\n",
    "\n",
    "from pyphoplacecellanalysis.Analysis.Decoder.decoder_result import plot_kourosh_activity_style_figure\n",
    "\n",
    "from neuropy.core.neurons import NeuronType\n",
    "# # Include only pyramidal aclus:\n",
    "# print(f'all shared_aclus: {len(shared_aclus)}\\nshared_aclus: {shared_aclus}')\n",
    "# shared_aclu_neuron_type = long_session.neurons.neuron_type[np.isin(long_session.neurons.neuron_ids, shared_aclus)]\n",
    "# assert len(shared_aclu_neuron_type) == len(shared_aclus)\n",
    "# # Find only the aclus that are pyramidal:\n",
    "# is_shared_aclu_pyramidal = (shared_aclu_neuron_type == NeuronType.PYRAMIDAL)\n",
    "# pyramidal_only_shared_aclus = shared_aclus[is_shared_aclu_pyramidal]\n",
    "# print(f'num pyramidal_only_shared_aclus: {len(pyramidal_only_shared_aclus)}\\npyramidal_only_shared_aclus: {pyramidal_only_shared_aclus}')\n",
    "\n",
    "\n",
    "## Drop Pyramidal but don't use only shared aclus:\n",
    "all_aclus = deepcopy(long_session.neurons.neuron_ids)\n",
    "neuron_type = long_session.neurons.neuron_type\n",
    "assert len(neuron_type) == len(all_aclus)\n",
    "# Find only the aclus that are pyramidal:\n",
    "is_aclu_pyramidal = (neuron_type == NeuronType.PYRAMIDAL)\n",
    "pyramidal_only_all_aclus = all_aclus[is_aclu_pyramidal]\n",
    "print(f'num pyramidal_only_all_aclus: {len(pyramidal_only_all_aclus)}\\npyramidal_only_all_aclus: {pyramidal_only_all_aclus}')\n",
    "\n",
    "is_aclu_interneuron = (neuron_type == NeuronType.INTERNEURONS)\n",
    "interneuron_only_all_aclus = all_aclus[is_aclu_interneuron]\n",
    "print(f'num interneuron_only_all_aclus: {len(interneuron_only_all_aclus)}\\ninterneurons: {interneuron_only_all_aclus}')\n",
    "\n",
    "# app, win, plots, plots_data = plot_kourosh_activity_style_figure(long_results_obj, long_session, shared_aclus, epoch_idx=5, callout_epoch_IDXs=[0,1,2,3], skip_rendering_callouts=True)\n",
    "# app, win, plots, plots_data = plot_kourosh_activity_style_figure(long_results_obj, long_session, pyramidal_only_shared_aclus, epoch_idx=2, callout_epoch_IDXs=[0,4], skip_rendering_callouts=False)\n",
    "app, win, plots, plots_data = plot_kourosh_activity_style_figure(long_results_obj, long_session, pyramidal_only_all_aclus, epoch_idx=6, callout_epoch_IDXs=[2,4,6], skip_rendering_callouts=False)"
   ]
  },
  {
   "cell_type": "code",
   "execution_count": null,
   "id": "985977d8",
   "metadata": {},
   "outputs": [],
   "source": [
    "\n",
    "# Use the Jupyter Index Thing\n",
    "from pyphoplacecellanalysis.Analysis.Decoder.decoder_result import DiagnosticDistanceMetricFigure\n",
    "\n",
    "## Render the internactive slider that allows selecting the timebin index to debug\n",
    "n_timebins = np.sum(long_results_obj.all_epochs_num_epoch_time_bins)\n",
    "timebinned_neuron_info = long_results_obj.timebinned_neuron_info\n",
    "result = long_results_obj.new_result\n",
    "active_fig_obj, update_function = DiagnosticDistanceMetricFigure.build_interactive_diagnostic_distance_metric_figure(long_results_obj, timebinned_neuron_info, result)\n",
    "active_fig_obj.integer_slider(n_timebins=n_timebins, update_func=update_function)"
   ]
  },
  {
   "cell_type": "code",
   "execution_count": null,
   "id": "3e1aa692",
   "metadata": {},
   "outputs": [],
   "source": [
    "active_fig_obj.export()"
   ]
  },
  {
   "cell_type": "code",
   "execution_count": null,
   "id": "5ea983fe",
   "metadata": {},
   "outputs": [],
   "source": [
    "app, win, self.plots, self.plots_data = plot_kourosh_activity_style_figure(long_results_obj, long_session, pyramidal_only_all_aclus, epoch_idx=11, callout_epoch_IDXs=[0,1,2, 3, 4, 5], skip_rendering_callouts=False)"
   ]
  },
  {
   "attachments": {},
   "cell_type": "markdown",
   "id": "2fe80559",
   "metadata": {},
   "source": [
    "# 2023-04-13 - Find Good looking epochs:"
   ]
  },
  {
   "cell_type": "code",
   "execution_count": null,
   "id": "5fa9a519",
   "metadata": {
    "tags": [
     "ACTIVE_NOW"
    ]
   },
   "outputs": [],
   "source": [
    "import matplotlib.pyplot as plt\n",
    "%matplotlib qt\n",
    "import matplotlib.patheffects as path_effects\n",
    "\n",
    "from pyphoplacecellanalysis.Pho2D.stacked_epoch_slices import DecodedEpochSlicesPaginatedFigureController\n",
    "\n",
    "curr_results_obj = long_results_obj\n",
    "active_identifying_session_ctx = curr_active_pipeline.sess.get_context()\n",
    "_out_pagination_controller = DecodedEpochSlicesPaginatedFigureController.init_from_decoder_data(curr_results_obj.active_filter_epochs, curr_results_obj.all_included_filter_epochs_decoder_result, \n",
    "\txbin=curr_results_obj.original_1D_decoder.xbin, global_pos_df=global_session.position.df, a_name='TestDecodedEpochSlicesPaginationController', active_context=active_identifying_session_ctx,  max_subplots_per_page=200) # 10\n",
    "# _out_pagination_controller"
   ]
  },
  {
   "attachments": {},
   "cell_type": "markdown",
   "id": "3f0018ec",
   "metadata": {},
   "source": [
    "### 2023-05-30 - Add the radon-transformed linear fits to each epoch to the stacked epoch plots:"
   ]
  },
  {
   "cell_type": "code",
   "execution_count": null,
   "id": "2443fed1",
   "metadata": {},
   "outputs": [],
   "source": [
    "from neuropy.utils.result_context import IdentifyingContext\n",
    "from pyphoplacecellanalysis.Pho2D.stacked_epoch_slices import DecodedEpochSlicesPaginatedFigureController\n",
    "from pyphoplacecellanalysis.General.Pipeline.Stages.DisplayFunctions.DecoderPredictionError import plot_decoded_epoch_slices_paginated\n",
    "\n",
    "_out_pagination_controller, active_out_figure_paths, final_context = plot_decoded_epoch_slices_paginated(curr_active_pipeline, long_results_obj, curr_active_pipeline.build_display_context_for_session(display_fn_name='DecodedEpochSlices', epochs='replays', decoder='long_results_obj'), save_figure=True)\n"
   ]
  },
  {
   "cell_type": "code",
   "execution_count": null,
   "id": "a8407362",
   "metadata": {},
   "outputs": [],
   "source": [
    "_out_pagination_controller, active_out_figure_paths, final_context = plot_decoded_epoch_slices_paginated(curr_active_pipeline, short_results_obj, curr_active_pipeline.build_display_context_for_session(display_fn_name='DecodedEpochSlices', epochs='replays', decoder='short_results_obj'), save_figure=True)\n"
   ]
  },
  {
   "cell_type": "code",
   "execution_count": null,
   "id": "053623be",
   "metadata": {},
   "outputs": [],
   "source": [
    "from pyphoplacecellanalysis.General.Pipeline.Stages.DisplayFunctions.MultiContextComparingDisplayFunctions.LongShortTrackComparingDisplayFunctions import _prepare_plot_long_and_short_epochs\n",
    "\n",
    "(pagination_controller_L, pagination_controller_S), (fig_L, fig_S), (ax_L, ax_S), (final_context_L, final_context_S), (active_out_figure_paths_L, active_out_figure_paths_S) = _prepare_plot_long_and_short_epochs(curr_active_pipeline, defer_render=False)"
   ]
  },
  {
   "cell_type": "code",
   "execution_count": null,
   "id": "d8a9a5f4",
   "metadata": {
    "tags": [
     "ACTIVE_NOW"
    ]
   },
   "outputs": [],
   "source": [
    "## 2023-05-31 - Reference Output of matplotlib figure to file, along with building appropriate context.\n",
    "active_session_figures_out_path = curr_active_pipeline.get_daily_programmatic_session_output_path()\n",
    "final_context = curr_active_pipeline.sess.get_context().adding_context('display_fn', display_fn_name='DecodedEpochSlices').adding_context('display_kwargs', **dict(epochs='replays', decoder='long_results_obj'))\n",
    "print(f'final_context: {final_context}')\n",
    "fig = _out_pagination_controller.plots.fig # get the figure\n",
    "active_out_figure_paths = perform_write_to_file(fig, final_context, figures_parent_out_path=active_session_figures_out_path, register_output_file_fn=curr_active_pipeline.register_output_file)"
   ]
  },
  {
   "attachments": {},
   "cell_type": "markdown",
   "id": "1a13cccd",
   "metadata": {},
   "source": [
    "# Plot long|short firing rate index using 'long_short_fr_indicies_analyses':"
   ]
  },
  {
   "cell_type": "code",
   "execution_count": null,
   "id": "caab469b",
   "metadata": {},
   "outputs": [],
   "source": [
    "# fig_save_parent_path = Path(r'E:\\Dropbox (Personal)\\Active\\Kamran Diba Lab\\Results from 2023-01-20 - LongShort Firing Rate Indicies')\n",
    "## Get the output path (active_session_figures_out_path) for this session (and all of its filtered_contexts as well):\n",
    "active_identifying_session_ctx = curr_active_pipeline.sess.get_context() # 'bapun_RatN_Day4_2019-10-15_11-30-06'\n",
    "figures_parent_out_path = create_daily_programmatic_display_function_testing_folder_if_needed()\n",
    "active_session_figures_out_path = session_context_to_relative_path(figures_parent_out_path, active_identifying_session_ctx)\n",
    "print(f'curr_session_parent_out_path: {active_session_figures_out_path}')\n",
    "active_session_figures_out_path.mkdir(parents=True, exist_ok=True) # make folder if needed\n",
    "curr_active_pipeline.display('_display_short_long_firing_rate_index_comparison', curr_active_pipeline.sess.get_context(), fig_save_parent_path=active_session_figures_out_path)\n",
    "# plt.close() # closes the current figure"
   ]
  },
  {
   "cell_type": "code",
   "execution_count": null,
   "id": "a71511c3",
   "metadata": {},
   "outputs": [],
   "source": [
    "curr_active_pipeline.display('_display_short_long_firing_rate_index_comparison', long_short_fr_indicies_analysis_results['active_context'], fig_save_parent_path=None)\n"
   ]
  },
  {
   "cell_type": "code",
   "execution_count": null,
   "id": "53e5e3dc",
   "metadata": {
    "tags": [
     "NOW_05_25"
    ]
   },
   "outputs": [],
   "source": [
    "import matplotlib\n",
    "# configure backend here\n",
    "# matplotlib.use('Qt5Agg')\n",
    "# backend_qt5agg\n",
    "matplotlib.use('Qt5Agg') # non-interactive backend ## 2022-08-16 - Surprisingly this works to make the matplotlib figures render only to .png file, not appear on the screen!\n",
    "from pyphoplacecellanalysis.General.Pipeline.Stages.DisplayFunctions.MultiContextComparingDisplayFunctions.LongShortTrackComparingDisplayFunctions import _plot_long_short_firing_rate_indicies\n",
    "\n",
    "\n",
    "# Plot long|short firing rate index:\n",
    "long_short_fr_indicies_analysis_results = curr_active_pipeline.global_computation_results.computed_data['long_short_fr_indicies_analysis']\n",
    "x_frs_dict, y_frs_dict = long_short_fr_indicies_analysis_results['x_frs_index'], long_short_fr_indicies_analysis_results['y_frs_index'] # use the all_results_dict as the computed data value\n",
    "active_context = long_short_fr_indicies_analysis_results['active_context']\n",
    "fig, _temp_full_fig_save_path = _plot_long_short_firing_rate_indicies(x_frs_dict, y_frs_dict, active_context, fig_save_parent_path=None, debug_print=False)\n",
    "fig.show()"
   ]
  },
  {
   "cell_type": "code",
   "execution_count": null,
   "id": "e8fcb225",
   "metadata": {},
   "outputs": [],
   "source": [
    "ax = plt.gca()\n"
   ]
  },
  {
   "cell_type": "code",
   "execution_count": null,
   "id": "4f7a776e",
   "metadata": {},
   "outputs": [],
   "source": [
    "ax.spines[['top', 'right']].set_visible(True)"
   ]
  },
  {
   "cell_type": "code",
   "execution_count": null,
   "id": "0165676b",
   "metadata": {},
   "outputs": [],
   "source": [
    "# curr_active_pipeline.perform_specific_computation(computation_functions_name_includelist=['_perform_long_short_firing_rate_analyses'], fail_on_exception=True, debug_print=False) # fail_on_exception MUST be True or error handling is all messed up \n",
    "long_short_fr_indicies_analysis_results = curr_active_pipeline.global_computation_results.computed_data['long_short_fr_indicies_analysis']\n",
    "x_frs_dict, y_frs_dict = long_short_fr_indicies_analysis_results['x_frs_index'], long_short_fr_indicies_analysis_results['y_frs_index'] # use the all_results_dict as the computed data value\n",
    "active_context = long_short_fr_indicies_analysis_results['active_context']\n",
    "long_short_fr_indicies_analysis_results"
   ]
  },
  {
   "attachments": {},
   "cell_type": "markdown",
   "id": "e0409e08",
   "metadata": {},
   "source": [
    "# Other Programmatic Figures"
   ]
  },
  {
   "attachments": {},
   "cell_type": "markdown",
   "id": "3ecc42a2",
   "metadata": {},
   "source": [
    "### 2023-05-25 - Neptune Figure Uploads from `registered_output_files`\n"
   ]
  },
  {
   "cell_type": "code",
   "execution_count": null,
   "id": "8f32c5ea",
   "metadata": {
    "tags": [
     "NOW_05-25"
    ]
   },
   "outputs": [],
   "source": [
    "from pyphoplacecellanalysis.General.Batch.NeptuneAiHelpers import set_environment_variables, neptune_output_figures\n",
    "\n",
    "# curr_active_pipeline.registered_output_files\n",
    "# curr_active_pipeline.register_output_file(output_path=test_path, output_metadata={})\n",
    "\n",
    "neptune_output_figures(curr_active_pipeline)"
   ]
  },
  {
   "cell_type": "code",
   "execution_count": null,
   "id": "d86bf7a0",
   "metadata": {},
   "outputs": [],
   "source": [
    "curr_active_pipeline.registered_output_files\n",
    "# curr_active_pipeline.registered_output_files_list"
   ]
  },
  {
   "cell_type": "code",
   "execution_count": null,
   "id": "67a53d29",
   "metadata": {},
   "outputs": [],
   "source": [
    "import matplotlib as mpl\n",
    "from pyphoplacecellanalysis.General.Mixins.ExportHelpers import create_daily_programmatic_display_function_testing_folder_if_needed, session_context_to_relative_path, programmatic_display_to_PDF\n",
    "from pyphoplacecellanalysis.General.Mixins.ExportHelpers import build_pdf_metadata_from_display_context # newer version of build_pdf_export_metadata\n",
    "from neuropy.core.neuron_identities import PlotStringBrevityModeEnum\n",
    "from neuropy.plotting.ratemaps import BackgroundRenderingOptions\n",
    "_bak_rcParams = mpl.rcParams.copy()\n",
    "mpl.rcParams['toolbar'] = 'None' # disable toolbars\n",
    "matplotlib.use('AGG') # non-interactive backend ## 2022-08-16 - Surprisingly this works to make the matplotlib figures render only to .png file, not appear on the screen!\n",
    "# active_identifying_session_ctx = curr_active_pipeline.sess.get_context() # 'bapun_RatN_Day4_2019-10-15_11-30-06'\n",
    "# programmatic_display_to_PDF(curr_active_pipeline, curr_display_function_name='_display_1d_placefields', debug_print=False) # 🟢✅ Now seems to be working and saving to PDF!! Still using matplotlib.use('Qt5Agg') mode and plots still appear.\n",
    "# programmatic_display_to_PDF(curr_active_pipeline, curr_display_function_name='_display_1d_placefield_validations') # , filter_name=active_config_name 🟢✅ Now seems to be working and saving to PDF!! Still using matplotlib.use('Qt5Agg') mode and plots still appear. Moderate visual improvements can still be made (titles overlap and stuff). Works with %%capture\n",
    "# programmatic_display_to_PDF(curr_active_pipeline, curr_display_function_name='_display_2d_placefield_result_plot_ratemaps_2D') #  🟢✅ Now seems to be working and saving to PDF!! Still using matplotlib.use('Qt5Agg') mode and plots still appear.\n",
    "programmatic_display_to_PDF(curr_active_pipeline, curr_display_function_name='_display_2d_placefield_occupancy') #  🟢✅ Now seems to be working and saving to PDF!! Still using matplotlib.use('Qt5Agg') mode and plots still appear.\n"
   ]
  },
  {
   "cell_type": "code",
   "execution_count": null,
   "id": "a4a5a83f",
   "metadata": {},
   "outputs": [],
   "source": [
    "curr_active_pipeline.reload_default_display_functions()\n",
    "active_identifying_session_ctx, active_session_figures_out_path, active_out_figures_list = batch_programmatic_figures(curr_active_pipeline)\n",
    "batch_extended_programmatic_figures(curr_active_pipeline=curr_active_pipeline)"
   ]
  },
  {
   "cell_type": "code",
   "execution_count": null,
   "id": "7608078a",
   "metadata": {},
   "outputs": [],
   "source": [
    "grid_bin_bounds"
   ]
  },
  {
   "cell_type": "code",
   "execution_count": null,
   "id": "d2371bba",
   "metadata": {},
   "outputs": [],
   "source": [
    "f\"{curr_active_pipeline.get_session_context().get_initialization_code_string()}:dict(grid_bin_bounds=({(grid_bin_bounds[0], grid_bin_bounds[1]), (grid_bin_bounds[2], grid_bin_bounds[3])})),\"\n",
    "\n",
    "\n"
   ]
  },
  {
   "cell_type": "code",
   "execution_count": null,
   "id": "2471dcd4",
   "metadata": {},
   "outputs": [],
   "source": [
    "(28.36, 244.82), (138.74, 156.39)"
   ]
  },
  {
   "cell_type": "code",
   "execution_count": null,
   "id": "b0e21b79",
   "metadata": {},
   "outputs": [],
   "source": [
    "# plot_helper = curr_active_pipeline.plot\n",
    "curr_active_pipeline.registered_display_function_docs_dict"
   ]
  },
  {
   "cell_type": "code",
   "execution_count": null,
   "id": "d2926235",
   "metadata": {},
   "outputs": [],
   "source": [
    "curr_active_pipeline.display_output_history_list"
   ]
  },
  {
   "cell_type": "code",
   "execution_count": null,
   "id": "933f9937",
   "metadata": {},
   "outputs": [],
   "source": [
    "curr_active_pipeline.display_output"
   ]
  },
  {
   "cell_type": "code",
   "execution_count": null,
   "id": "64cbba87",
   "metadata": {},
   "outputs": [],
   "source": [
    "\n",
    "# '_display_2d_placefield_result_plot_ratemaps_2D'\n",
    "# %matplotlib inline\n",
    "%matplotlib qt\n",
    "# curr_active_pipeline.display('_display_2d_placefield_result_plot_ratemaps_2D', long_epoch_context) # MatplotlibRenderPlots\n",
    "\n",
    "# curr_active_pipeline.get_daily_programmatic_session_output_path()\n",
    "curr_active_pipeline.display_output"
   ]
  },
  {
   "cell_type": "code",
   "execution_count": null,
   "id": "48029c22",
   "metadata": {},
   "outputs": [],
   "source": [
    "\n",
    "# long_pf2D.plot_occupancy()\n",
    "_out = short_one_step_decoder_2D.pf.plot_ratemaps_2D(included_unit_neuron_IDs=[2,4,5], bg_rendering_mode=BackgroundRenderingOptions.EMPTY, use_special_overlayed_title=False, missing_aclu_string_formatter=None, debug_print=False, brev_mode=PlotStringBrevityModeEnum.NONE)\n",
    "\n",
    "## Single column output: subplots=(None, 9)\n"
   ]
  },
  {
   "cell_type": "code",
   "execution_count": null,
   "id": "14977e80",
   "metadata": {},
   "outputs": [],
   "source": [
    "# %%capture\n",
    "active_display_to_pdf_fn(curr_active_pipeline, curr_display_function_name='_display_1d_placefields', debug_print=False) # 🟢✅ Now seems to be working and saving to PDF!! Still using matplotlib.use('Qt5Agg') mode and plots still appear."
   ]
  },
  {
   "cell_type": "code",
   "execution_count": null,
   "id": "c2686e3f",
   "metadata": {},
   "outputs": [],
   "source": [
    "long_shared_aclus_only_decoder.pf.plot_occupancy()"
   ]
  },
  {
   "cell_type": "code",
   "execution_count": null,
   "id": "37ae6c7f",
   "metadata": {},
   "outputs": [],
   "source": [
    "%matplotlib qt\n",
    "long_one_step_decoder_2D.pf.plot_occupancy()"
   ]
  },
  {
   "cell_type": "code",
   "execution_count": null,
   "id": "a8006610",
   "metadata": {},
   "outputs": [],
   "source": [
    "long_one_step_decoder_2D.pf.plot_ratemaps_2D()"
   ]
  },
  {
   "cell_type": "code",
   "execution_count": null,
   "id": "d49dcc7e",
   "metadata": {},
   "outputs": [],
   "source": [
    "# curr_active_pipeline.display('_display_short_long_pf1D_comparison', active_session_configuration_context=global_epoch_context, single_figure=False)\n",
    "\n",
    "short_one_step_decoder_1D"
   ]
  },
  {
   "cell_type": "code",
   "execution_count": null,
   "id": "402834bd",
   "metadata": {},
   "outputs": [],
   "source": [
    "%matplotlib qt\n",
    "active_identifying_session_ctx = curr_active_pipeline.sess.get_context() # 'bapun_RatN_Day4_2019-10-15_11-30-06'\n",
    "\n",
    "long_single_cell_pfmap_processing_fn = None\n",
    "short_single_cell_pfmap_processing_fn = None\n",
    "sort_idx = None\n",
    "\n",
    "out = curr_active_pipeline.display('_display_short_long_pf1D_comparison', active_identifying_session_ctx, single_figure=False, debug_print=False, fignum='Short v Long pf1D Comparison',\n",
    "                                   long_kwargs={'sortby': sort_idx, 'single_cell_pfmap_processing_fn': long_single_cell_pfmap_processing_fn},\n",
    "                                   short_kwargs={'sortby': sort_idx, 'single_cell_pfmap_processing_fn': short_single_cell_pfmap_processing_fn, 'curve_hatch_style': {'hatch':'///', 'edgecolor':'k'}},\n",
    "                                  )\n",
    "\n",
    "# ax = out.axes[0]"
   ]
  },
  {
   "cell_type": "code",
   "execution_count": null,
   "id": "d0cfbb30",
   "metadata": {},
   "outputs": [],
   "source": [
    "sort_idx = np.argsort(product_overlap_scalars_df.prod_overlap.to_numpy())[::-1] # the `[::-1]` term reverses the array, which by defaul is returned in ascending order and we want descending\n",
    "sort_idx"
   ]
  },
  {
   "cell_type": "code",
   "execution_count": null,
   "id": "fe831b56",
   "metadata": {},
   "outputs": [],
   "source": [
    "curr_ratemap = long_one_step_decoder_1D.pf.ratemap\n",
    "curr_ratemap.get_sort_indicies()\n",
    "# .pf1D.ratemap"
   ]
  },
  {
   "cell_type": "code",
   "execution_count": null,
   "id": "23228854",
   "metadata": {},
   "outputs": [],
   "source": [
    "# Create `master_dock_win` - centralized plot output window to collect individual figures/controls in (2022-08-18)\n",
    "\n",
    "active_identifying_session_ctx = curr_active_pipeline.filtered_contexts['maze']\n",
    "display_output = curr_active_pipeline.display('_display_context_nested_docks', active_identifying_session_ctx, enable_gui=False, debug_print=True) # returns {'master_dock_win': master_dock_win, 'app': app, 'out_items': out_items}\n",
    "master_dock_win = display_output['master_dock_win']\n",
    "app = display_output['app']\n",
    "out_items = display_output['out_items']\n",
    "\n",
    "# def _get_curr_figure_format_config():\n",
    "# \t\"\"\" Aims to fetch the current figure_format_config and context from the figure_format_config widget:    \n",
    "# \tImplicitly captures: `out_items`, `active_config_name`, `active_identifying_filtered_session_ctx` \n",
    "# \t\"\"\"\n",
    "# \t## Get the figure_format_config from the figure_format_config widget:\n",
    "# \t# Fetch the context from the GUI:\n",
    "# \t_curr_gui_session_ctx, _curr_gui_out_display_items = out_items[active_config_name]\n",
    "# \t_curr_gui_figure_format_config_widget = _curr_gui_out_display_items[active_identifying_filtered_session_ctx.adding_context('display_fn', display_fn_name='figure_format_config_widget')] # [0] is seemingly not needed to unpack the tuple\n",
    "# \tif _curr_gui_figure_format_config_widget is not None:\n",
    "# \t\t# has GUI for config\n",
    "# \t\tfigure_format_config = _curr_gui_figure_format_config_widget.figure_format_config\n",
    "# \telse:\n",
    "# \t\t# has non-GUI provider of figure_format_config\n",
    "# \t\tfigure_format_config = _curr_gui_figure_format_config_widget.figure_format_config\n",
    "\n",
    "# \tif debug_print:\n",
    "# \t\tprint(f'recovered gui figure_format_config: {figure_format_config}')\n",
    "\n",
    "# \treturn figure_format_config\n",
    "\n",
    "# figure_format_config = _get_curr_figure_format_config()"
   ]
  },
  {
   "attachments": {},
   "cell_type": "markdown",
   "id": "8fad7d0f",
   "metadata": {
    "tags": [
     "radon_transform",
     "testing"
    ]
   },
   "source": [
    "# 2023-05-25 - Radon Transform approach to finding line of best fit for each replay Epoch"
   ]
  },
  {
   "cell_type": "code",
   "execution_count": null,
   "id": "d9b5fbd9",
   "metadata": {},
   "outputs": [],
   "source": [
    "from pyphoplacecellanalysis.General.Pipeline.Stages.ComputationFunctions.DefaultComputationFunctions import compute_radon_transforms\n",
    "\n",
    "## 2023-05-25 - Get the 1D Posteriors for each replay epoch so they can be analyzed via score_posterior(...) with a Radon Transform approch to find the line of best fit (which gives the velocity).\n",
    "epochs_linear_fit_df_LONG = compute_radon_transforms(long_results_obj.original_1D_decoder, long_results_obj.all_included_filter_epochs_decoder_result)\n",
    "assert long_results_obj.active_filter_epochs.n_epochs == np.shape(epochs_linear_fit_df_LONG)[0]\n",
    "long_results_obj.active_filter_epochs._df = long_results_obj.active_filter_epochs.to_dataframe().join(epochs_linear_fit_df_LONG) # add the newly computed columns to the Epochs object\n",
    "# epochs_linear_fit_df_LONG\n",
    "\n",
    "epochs_linear_fit_df_SHORT = compute_radon_transforms(short_results_obj.original_1D_decoder, short_results_obj.all_included_filter_epochs_decoder_result)\n",
    "assert short_results_obj.active_filter_epochs.n_epochs == np.shape(epochs_linear_fit_df_SHORT)[0]\n",
    "short_results_obj.active_filter_epochs._df = short_results_obj.active_filter_epochs.to_dataframe().join(epochs_linear_fit_df_SHORT) # add the newly computed columns to the Epochs object\n",
    "# epochs_linear_fit_df_SHORT\n",
    "\n",
    "# Join the columns of LONG and SHORT dataframes with suffixes\n",
    "assert np.shape(epochs_linear_fit_df_LONG)[0] == np.shape(epochs_linear_fit_df_SHORT)[0]\n",
    "combined_epochs_linear_fit_df = epochs_linear_fit_df_LONG.join(epochs_linear_fit_df_SHORT, lsuffix='_LONG', rsuffix='_SHORT')\n",
    "# combined_epochs_linear_fit_df\n",
    "\n",
    "assert active_filter_epochs.n_epochs == np.shape(combined_epochs_linear_fit_df)[0]\n",
    "active_filter_epochs._df = active_filter_epochs.to_dataframe().join(combined_epochs_linear_fit_df) # add the newly computed columns to the Epochs object\n",
    "active_filter_epochs"
   ]
  },
  {
   "attachments": {},
   "cell_type": "markdown",
   "id": "d1906e5a",
   "metadata": {},
   "source": [
    "# 2023-06-01 - Testing new metrics:"
   ]
  },
  {
   "cell_type": "code",
   "execution_count": null,
   "id": "ee3fb2f6",
   "metadata": {},
   "outputs": [],
   "source": [
    "\n",
    "curr_long_short_post_decoding = curr_active_pipeline.global_computation_results.computed_data['long_short_post_decoding']\n",
    "## Extract variables from results object:\n",
    "expected_v_observed_result, curr_long_short_rr = curr_long_short_post_decoding.expected_v_observed_result, curr_long_short_post_decoding.rate_remapping\n",
    "rate_remapping_df, high_remapping_cells_only = curr_long_short_rr.rr_df, curr_long_short_rr.high_only_rr_df\n",
    "Flat_epoch_time_bins_mean, Flat_decoder_time_bin_centers, num_neurons, num_timebins_in_epoch, num_total_flat_timebins, is_short_track_epoch, is_long_track_epoch, short_short_diff, long_long_diff = expected_v_observed_result['Flat_epoch_time_bins_mean'], expected_v_observed_result['Flat_decoder_time_bin_centers'], expected_v_observed_result['num_neurons'], expected_v_observed_result['num_timebins_in_epoch'], expected_v_observed_result['num_total_flat_timebins'], expected_v_observed_result['is_short_track_epoch'], expected_v_observed_result['is_long_track_epoch'], expected_v_observed_result['short_short_diff'], expected_v_observed_result['long_long_diff']\n",
    "\n",
    "\n",
    "print(f'long_test: {np.mean(long_long_diff)}')\n",
    "print(f'short_test: {np.mean(short_short_diff)}')"
   ]
  },
  {
   "cell_type": "code",
   "execution_count": null,
   "id": "9deb6292",
   "metadata": {},
   "outputs": [],
   "source": [
    "long_session.replay"
   ]
  },
  {
   "cell_type": "code",
   "execution_count": null,
   "id": "9e65f403",
   "metadata": {},
   "outputs": [],
   "source": [
    "# long_results_obj.original_1D_decoder\n",
    "replay_result_df = deepcopy(long_results_obj.active_filter_epochs.to_dataframe())\n",
    "replay_result_df"
   ]
  },
  {
   "cell_type": "code",
   "execution_count": null,
   "id": "f67e3b6d",
   "metadata": {},
   "outputs": [],
   "source": [
    "short_results_obj.active_filter_epochs.to_dataframe()"
   ]
  },
  {
   "cell_type": "code",
   "execution_count": null,
   "id": "59838cd9",
   "metadata": {},
   "outputs": [],
   "source": [
    "# Look at lap speed over time - doesn't look like there's a difference between the long and the short track speeds\n",
    "global_session.position.compute_higher_order_derivatives()\n",
    "running_pos_df = global_session.position.to_dataframe()\n",
    "ax = running_pos_df.plot(x='t', y=['lin_pos','speed'], title='Running Speed over Time')\n",
    "ax"
   ]
  },
  {
   "cell_type": "code",
   "execution_count": null,
   "id": "627282a9",
   "metadata": {},
   "outputs": [],
   "source": [
    "# Call the function\n",
    "fig, ax = plot_lines(replay_result_df)"
   ]
  },
  {
   "cell_type": "code",
   "execution_count": null,
   "id": "2080baef",
   "metadata": {},
   "outputs": [],
   "source": [
    "import matplotlib\n",
    "%matplotlib qt\n",
    "\n",
    "_display_running_and_replay_speeds_over_time\n"
   ]
  },
  {
   "cell_type": "code",
   "execution_count": null,
   "id": "669b5adb",
   "metadata": {},
   "outputs": [],
   "source": []
  },
  {
   "cell_type": "code",
   "execution_count": null,
   "id": "ad76625b",
   "metadata": {},
   "outputs": [],
   "source": [
    "from attrs import define"
   ]
  },
  {
   "cell_type": "code",
   "execution_count": null,
   "id": "d13b5d26",
   "metadata": {},
   "outputs": [],
   "source": [
    "@define(slots=False)\n",
    "class SelfContainedDisplayFunction:\n",
    "    \n"
   ]
  },
  {
   "cell_type": "code",
   "execution_count": null,
   "id": "3286b5c0",
   "metadata": {},
   "outputs": [],
   "source": [
    "curr_active_pipeline.get_daily_programmatic_session_output_path()"
   ]
  },
  {
   "attachments": {},
   "cell_type": "markdown",
   "id": "2d6bdfcc",
   "metadata": {},
   "source": [
    "# 2023-06-09 - Saving to .h5 instead of pickling"
   ]
  },
  {
   "cell_type": "code",
   "execution_count": null,
   "id": "17541dcd",
   "metadata": {},
   "outputs": [],
   "source": [
    "curr_active_pipeline.get_session_context().to_dict()"
   ]
  },
  {
   "attachments": {},
   "cell_type": "markdown",
   "id": "39e5020d",
   "metadata": {},
   "source": [
    "# 2023-06-13 11:01: - [ ] New display function testing"
   ]
  },
  {
   "cell_type": "code",
   "execution_count": null,
   "id": "2dfd1ae2",
   "metadata": {},
   "outputs": [],
   "source": []
  },
  {
   "cell_type": "code",
   "execution_count": null,
   "id": "f6008da8",
   "metadata": {},
   "outputs": [],
   "source": [
    "import matplotlib as mpl\n",
    "# from pyphoplacecellanalysis.General.Mixins.ExportHelpers import create_daily_programmatic_display_function_testing_folder_if_needed, session_context_to_relative_path, programmatic_display_to_PDF\n",
    "# from pyphoplacecellanalysis.General.Mixins.ExportHelpers import build_pdf_metadata_from_display_context # newer version of build_pdf_export_metadata\n",
    "from neuropy.core.neuron_identities import PlotStringBrevityModeEnum\n",
    "from neuropy.plotting.ratemaps import BackgroundRenderingOptions\n",
    "_bak_rcParams = mpl.rcParams.copy()\n",
    "# mpl.rcParams['toolbar'] = 'None' # disable toolbars\n",
    "# matplotlib.use('AGG') # non-interactive backend ## 2022-08-16 - Surprisingly this works to make the matplotlib figures render only to .png file, not appear on the screen!\n",
    "\n",
    "%matplotlib qt\n",
    "\n",
    "from pyphoplacecellanalysis.General.Mixins.ExportHelpers import programmatic_render_to_file"
   ]
  },
  {
   "cell_type": "code",
   "execution_count": null,
   "id": "808f47ba",
   "metadata": {},
   "outputs": [],
   "source": [
    "curr_active_pipeline.reload_default_display_functions()\n"
   ]
  },
  {
   "cell_type": "code",
   "execution_count": null,
   "id": "17194aa6",
   "metadata": {},
   "outputs": [],
   "source": [
    "# %%capture\n",
    "# active_display_to_pdf_fn(curr_active_pipeline, curr_display_function_name='_display_1d_placefields', debug_print=False) # 🟢✅ Now seems to be working and saving to PDF!! Still using matplotlib.use('Qt5Agg') mode and plots still appear.\n",
    "\n",
    "_out = programmatic_render_to_file(curr_active_pipeline, curr_display_function_name='_display_1d_placefields', write_pdf=True, write_png=True, debug_print=True)\n",
    "_out = programmatic_render_to_file(curr_active_pipeline, curr_display_function_name='_display_2d_placefield_occupancy', write_pdf=True, write_png=True, debug_print=True)\n",
    "_out = programmatic_render_to_file(curr_active_pipeline, curr_display_function_name='_display_2d_placefield_result_plot_ratemaps_2D', write_pdf=True, write_png=True, debug_print=True)\n"
   ]
  },
  {
   "cell_type": "code",
   "execution_count": null,
   "id": "ee919839",
   "metadata": {},
   "outputs": [],
   "source": [
    "_out = programmatic_render_to_file(curr_active_pipeline, curr_display_function_name='_display_1d_placefield_validations', write_pdf=True, write_png=True, debug_print=True)\n"
   ]
  },
  {
   "cell_type": "code",
   "execution_count": null,
   "id": "6bb23e88",
   "metadata": {},
   "outputs": [],
   "source": [
    "long_shared_aclus_only_decoder.pf.plot_occupancy()"
   ]
  },
  {
   "cell_type": "code",
   "execution_count": null,
   "id": "fed631b4",
   "metadata": {},
   "outputs": [],
   "source": [
    "_out = curr_active_pipeline.display('_display_1d_placefields', active_session_configuration_context=global_epoch_context)\n",
    "_out"
   ]
  },
  {
   "cell_type": "code",
   "execution_count": null,
   "id": "ab66e904",
   "metadata": {},
   "outputs": [],
   "source": [
    "_out = curr_active_pipeline.display('_display_2d_placefield_result_plot_ratemaps_2D', active_session_configuration_context=global_epoch_context)\n",
    "_out"
   ]
  },
  {
   "cell_type": "code",
   "execution_count": 19,
   "id": "f933a596",
   "metadata": {},
   "outputs": [
    {
     "name": "stdout",
     "output_type": "stream",
     "text": [
      "\t saved /home/halechr/repo/Spike3D/EXTERNAL/Screenshots/ProgrammaticDisplayFunctionTesting/2023-06-14/kdiba/gor01/one/2006-6-08_14-26-15/kdiba_gor01_one_2006-6-08_14-26-15_display_long_short_laps.png\n"
     ]
    },
    {
     "data": {
      "text/plain": [
       "MatplotlibRenderPlots({'name': '_display_long_short_laps', 'context': IdentifyingContext<('kdiba', 'gor01', 'one', '2006-6-08_14-26-15', 'display_long_short_laps')>, 'figures': (<Figure size 2400x1000 with 3 Axes>,), 'axes': [<Axes: title={'center': 'Estimated Laps'}, ylabel='pos_x'>, <Axes: ylabel='Velocity_x'>, <Axes: ylabel='Higher Order Terms'>], 'plot_data': {}, 'saved_figures': [PosixPath('/home/halechr/repo/Spike3D/EXTERNAL/Screenshots/ProgrammaticDisplayFunctionTesting/2023-06-14/kdiba/gor01/one/2006-6-08_14-26-15/kdiba_gor01_one_2006-6-08_14-26-15_display_long_short_laps.png')]})"
      ]
     },
     "execution_count": 19,
     "metadata": {},
     "output_type": "execute_result"
    }
   ],
   "source": [
    "from neuropy.utils.result_context import IdentifyingContext\n",
    "\n",
    "# _out = curr_active_pipeline.display('_display_2d_placefield_occupancy', active_session_configuration_context=global_epoch_context)\n",
    "_out = curr_active_pipeline.display('_display_long_short_laps')\n",
    "_out\n"
   ]
  },
  {
   "cell_type": "code",
   "execution_count": 24,
   "id": "e25a58b7",
   "metadata": {},
   "outputs": [
    {
     "name": "stderr",
     "output_type": "stream",
     "text": [
      "qt.qpa.wayland: Wayland does not support QWindow::requestActivate()\n",
      "qt.qpa.wayland: Wayland does not support QWindow::requestActivate()\n"
     ]
    },
    {
     "name": "stdout",
     "output_type": "stream",
     "text": [
      "\t saved /home/halechr/repo/Spike3D/EXTERNAL/Screenshots/ProgrammaticDisplayFunctionTesting/2023-06-14/kdiba/gor01/one/2006-6-08_14-26-15/kdiba_gor01_one_2006-6-08_14-26-15_maze1_plot_single_track_firing_rate_compare.png\n",
      "\t saved /home/halechr/repo/Spike3D/EXTERNAL/Screenshots/ProgrammaticDisplayFunctionTesting/2023-06-14/kdiba/gor01/one/2006-6-08_14-26-15/kdiba_gor01_one_2006-6-08_14-26-15_maze2_plot_single_track_firing_rate_compare.png\n"
     ]
    },
    {
     "data": {
      "text/plain": [
       "MatplotlibRenderPlots({'name': 'long_and_short_firing_rate_replays_v_laps', 'context': (IdentifyingContext<('kdiba', 'gor01', 'one', '2006-6-08_14-26-15', 'maze1', 'plot_single_track_firing_rate_compare')>, IdentifyingContext<('kdiba', 'gor01', 'one', '2006-6-08_14-26-15', 'maze2', 'plot_single_track_firing_rate_compare')>), 'figures': (<Figure size 850x725 with 1 Axes>, <Figure size 850x725 with 1 Axes>), 'axes': (<Axes: title={'center': 'Computed track_replay|track_laps firing rate'}, xlabel='Replay Firing Rate (Hz)', ylabel='Laps Firing Rate (Hz)'>, <Axes: title={'center': 'Computed track_replay|track_laps firing rate'}, xlabel='Replay Firing Rate (Hz)', ylabel='Laps Firing Rate (Hz)'>), 'plot_data': {'context': (IdentifyingContext<('kdiba', 'gor01', 'one', '2006-6-08_14-26-15', 'maze1', 'plot_single_track_firing_rate_compare')>, IdentifyingContext<('kdiba', 'gor01', 'one', '2006-6-08_14-26-15', 'maze2', 'plot_single_track_firing_rate_compare')>)}, 'saved_figures': None})"
      ]
     },
     "execution_count": 24,
     "metadata": {},
     "output_type": "execute_result"
    }
   ],
   "source": [
    "_out = curr_active_pipeline.display('_display_long_and_short_firing_rate_replays_v_laps')\n",
    "_out"
   ]
  },
  {
   "cell_type": "code",
   "execution_count": 29,
   "id": "aefae9bd",
   "metadata": {},
   "outputs": [
    {
     "data": {
      "text/plain": [
       "[\"IdentifyingContext(format_name='kdiba',animal='gor01',exper_name='one',session_name='2006-6-08_14-26-15',filter_name='maze1',display_fn_name='plot_single_track_firing_rate_compare')\",\n",
       " \"IdentifyingContext(format_name='kdiba',animal='gor01',exper_name='one',session_name='2006-6-08_14-26-15',filter_name='maze2',display_fn_name='plot_single_track_firing_rate_compare')\"]"
      ]
     },
     "execution_count": 29,
     "metadata": {},
     "output_type": "execute_result"
    }
   ],
   "source": [
    "\n",
    "[ctx.get_initialization_code_string() for ctx in _out.context]\n",
    "\n",
    "# [IdentifyingContext(format_name='kdiba',animal='gor01',exper_name='one',session_name='2006-6-08_14-26-15',filter_name='maze1',display_fn_name='plot_single_track_firing_rate_compare'),\n",
    "# IdentifyingContext(format_name='kdiba',animal='gor01',exper_name='one',session_name='2006-6-08_14-26-15',filter_name='maze2',display_fn_name='plot_single_track_firing_rate_compare')]"
   ]
  },
  {
   "cell_type": "code",
   "execution_count": null,
   "id": "3be1bd9c",
   "metadata": {},
   "outputs": [],
   "source": [
    "\n",
    "# list(zip(_out.context, _out.figures))\n",
    "dict(zip(_out.context, _out.figures))\n"
   ]
  },
  {
   "cell_type": "code",
   "execution_count": 23,
   "id": "4c9e7112",
   "metadata": {},
   "outputs": [
    {
     "data": {
      "text/plain": [
       "\"IdentifyingContext(format_name='kdiba',animal='gor01',exper_name='one',session_name='2006-6-08_14-26-15',display_fn_name='display_long_short_laps')\""
      ]
     },
     "execution_count": 23,
     "metadata": {},
     "output_type": "execute_result"
    }
   ],
   "source": [
    "a_context: IdentifyingContext = _out.context\n",
    "a_context.get_initialization_code_string()\n",
    "\n",
    "# IdentifyingContext(format_name='kdiba',animal='gor01',exper_name='one',session_name='2006-6-08_14-26-15',display_fn_name='display_long_short_laps')\n",
    "\n",
    "# [IdentifyingContext(format_name='kdiba',animal='gor01',exper_name='one',session_name='2006-6-08_14-26-15',filter_name='maze1',display_fn_name='plot_single_track_firing_rate_compare'),\n",
    "# IdentifyingContext(format_name='kdiba',animal='gor01',exper_name='one',session_name='2006-6-08_14-26-15',filter_name='maze2',display_fn_name='plot_single_track_firing_rate_compare')]\n"
   ]
  },
  {
   "cell_type": "code",
   "execution_count": 17,
   "id": "d9a24cd7",
   "metadata": {},
   "outputs": [
    {
     "data": {
      "text/plain": [
       "{'_display_1d_placefield_validations': ' Renders all of the flat 1D place cell validations with the yellow lines that trace across to their horizontally drawn placefield (rendered on the right of the plot) ',\n",
       " '_display_2d_placefield_result_plot_raw': ' produces a stupid figure ',\n",
       " '_display_1d_placefields': None,\n",
       " '_display_2d_placefield_occupancy': ' displays placefield occupancy in a MATPLOTLIB window \\n        \\n        Internally wraps `PfND.plot_ratemaps_2D` which itself wraps `neuropy.plotting.ratemaps.plot_ratemap_2D`\\n        \\n            optionally shows peak firing rates\\n            \\n        TODO: plot the information about the source of the data, such as the session information? Or perhaps we could just leave that encoded in the exported file name? It is hard to track the figures though\\n        \\n        ',\n",
       " '_display_2d_placefield_result_plot_ratemaps_2D': ' displays 2D placefields in a MATPLOTLIB window \\n        \\n        Internally wraps `PfND.plot_ratemaps_2D` which itself wraps `neuropy.plotting.ratemaps.plot_ratemap_2D`\\n        \\n            optionally shows peak firing rates\\n            \\n        TODO: plot the information about the source of the data, such as the session information? Or perhaps we could just leave that encoded in the exported file name? It is hard to track the figures though\\n        \\n        ',\n",
       " '_display_normal': \"\\n        \\n        Internally wraps `neuropy.plotting.placemaps.plot_all_placefields` which itself wraps `PfND.plot_ratemaps_2D` which itself wraps `neuropy.plotting.ratemaps.plot_ratemap_2D`\\n        \\n        Usage:\\n            _display_normal(curr_kdiba_pipeline.computation_results['maze1'], curr_kdiba_pipeline.active_configs['maze1'])\\n        \",\n",
       " '_display_placemaps_pyqtplot_2D': '  displays 2D placefields in a pyqtgraph window\\n        ',\n",
       " '_display_recurrsive_latent_placefield_comparisons': \" Create `master_dock_win` - centralized plot output window to collect individual figures/controls in (2022-08-18) \\n            NOTE: Ignores `active_config` because context_nested_docks is for all contexts\\n            \\n            Usage:\\n            \\n                _out = curr_active_pipeline.display('_display_recurrsive_latent_placefield_comparisons', active_identifying_filtered_session_ctx)\\n                master_dock_win = _out['master_dock_win']\\n                curr_out_items = _out['out_items']\\n\\n            \",\n",
       " '_display_decoder_result': None,\n",
       " '_display_plot_decoded_epoch_slices': \" renders a plot with the 1D Marginals either (x and y position axes): the computed posterior for the position from the Bayesian decoder and overlays the animal's actual position over the top. \\n        \\n        TODO: This display function is currently atypically implemented as it performs computations as needed.\\n\\n        Depends on `_compute_specific_decoded_epochs` to compute the decoder for the epochs.\\n        The final step, which is where most display functions start, is calling the actual plot function:\\n            plot_decoded_epoch_slices(...)\\n\\n        Inputs:\\n            most_likely_positions_mode: 'standard'|'corrected'\\n        \\n        \\n        ax = destination_plot.ui.matplotlib_view_widget.ax,\\n        variable_name = 'x',\\n        \\n        \",\n",
       " '_display_plot_marginal_1D_most_likely_position_comparisons': \" renders a plot with the 1D Marginals either (x and y position axes): the computed posterior for the position from the Bayesian decoder and overlays the animal's actual position over the top. \\n        \\n        most_likely_positions_mode: 'standard'|'corrected'\\n        posterior_name: 'p_x_given_n'|'p_x_given_n_and_x_prev'\\n        \\n        ax = destination_plot.ui.matplotlib_view_widget.ax,\\n        variable_name = 'x',\\n        \\n        \",\n",
       " '_display_plot_most_likely_position_comparisons': \" renders a 2D plot with separate subplots for the (x and y position axes): the computed posterior for the position from the Bayesian decoder and overlays the animal's actual position over the top. \",\n",
       " '_display_two_step_decoder_prediction_error_2D': ' Plots the prediction error for the two_step decoder at each point in time.\\n                Based off of \"_temp_debug_two_step_plots_animated_imshow\"\\n                \\n                THIS ONE WORKS. \\n            ',\n",
       " '_display_spike_rasters_pyqtplot_2D': ' Plots a standalone 2D raster plot\\n        ',\n",
       " '_display_spike_rasters_pyqtplot_3D': ' Plots a standalone 3D raster plot with independent/standalone controls built-in\\n        ',\n",
       " '_display_spike_rasters_pyqtplot_3D_with_2D_controls': ' Plots a standalone 3D raster plot (via pyqtgraph) with a separate 2D raster plot as the window with which you can adjust the viewed window. \\n        ',\n",
       " '_display_spike_rasters_vedo_3D': ' Plots a standalone 3D raster plot with independent/standalone controls built-in\\n        ',\n",
       " '_display_spike_rasters_vedo_3D_with_2D_controls': ' Plots a standalone 3D raster plot (via Vedo) with a separate 2D raster plot as the window with which you can adjust the viewed window. \\n        ',\n",
       " '_display_spike_rasters_window': ' Displays a Spike3DRasterWindowWidget with a configurable set of raster widgets and controls in it.\\n        ',\n",
       " '_display_pf_peak_prominence2d_default_quadrant_plots': \" Plots the 4-quadrant figure generated by default from peak_rpominence2d to show the found prominence peaks\\n            \\n            Usage:\\n                curr_display_function_name = '_display_pf_peak_prominence2d_plots'\\n                out_figs, out_axes, out_idxs = curr_active_pipeline.display(curr_display_function_name, active_config_name) \\n                curr_display_function_name = 'plot_Prominence'\\n                built_pdf_metadata, curr_pdf_save_path = _build_pdf_pages_output_info(curr_display_function_name)\\n                with backend_pdf.PdfPages(curr_pdf_save_path, keep_empty=False, metadata=built_pdf_metadata) as pdf:\\n                    for an_idx, a_fig in zip(active_peak_prominence_2d_results.neuron_extended_ids, out_figs):\\n                        a_fig.suptitle(f'neuron: {an_idx.id}', fontsize=16)\\n                        pdf.savefig(a_fig)\\n            \",\n",
       " '_display_pf_peak_prominence2d_plots': \" Plots a the custom placefield width/height results for each peak belonging to a single neuron/ratemap.\\n                Uses the prominence2d results\\n            Usage:\\n                curr_display_function_name = '_display_pf_peak_prominence2d_plots'\\n                figure, ax = curr_active_pipeline.display(curr_display_function_name, active_config_name, neuron_id=5) \\n\\n            \",\n",
       " '_display_speed_vs_PFoverlapDensity_plots': ' Plot the 1D and 2D sorted avg_speed_per_pos and PFoverlapDensity to reveal any trends\\n        ',\n",
       " '_display_3d_image_plotter': \" \\n        Inputs: {'extant_plotter': None} \\n        Outputs: {'plotter'}\\n        \",\n",
       " '_display_3d_interactive_custom_data_explorer': \" \\n        Inputs: {'extant_plotter': None} \\n        Outputs: {'iplapsDataExplorer', 'plotter'}\\n        \",\n",
       " '_display_3d_interactive_spike_and_behavior_browser': \" \\n        Inputs: {'extant_plotter': None} \\n        Outputs: {'ipspikesDataExplorer', 'plotter'}\\n        \",\n",
       " '_display_3d_interactive_tuning_curves_plotter': \" Tuning Curves 3D Plot\\n        Inputs: {'extant_plotter': None} \\n        Outputs: {'ipcDataExplorer', 'plotter', 'pane'}\\n        \\n        Optional Keywords:\\n            override_pf2D: the placefield PfND or PfND_TimeDependent object to use as the source data.\\n        \\n        \",\n",
       " 'display_firing_rate_trends': \" DOCTODO\\n        \\n        TODO: this sucks, it displays a beeswarm plot that locks everything up for minutes\\n        \\n        \\n        Usage:\\n        \\n            # np.shape(active_one_step_decoder.active_time_windows) # (2892, 2)\\n\\n            active_firing_rate_trends = computation_result.computed_data['firing_rate_trends']\\n\\n            active_rolling_window_times = active_firing_rate_trends['active_rolling_window_times']\\n            mean_firing_rates = active_firing_rate_trends['mean_firing_rates']\\n            moving_mean_firing_rates_df = active_firing_rate_trends['moving_mean_firing_rates_df']\\n            moving_mean_firing_rates_df # 3969 rows x 43 columns\\n\\n            # mean_firing_rates\\n            # pg.plot(mean_firing_rates)\\n\\n            np.shape(moving_mean_firing_rates_df) # (3969, 43)\\n            good_only_moving_mean_firing_rates_df = moving_mean_firing_rates_df.dropna() # 3910 rows x 43 columns\\n            good_only_moving_mean_firing_rates_df.T\\n            err, win = _display_firing_rate_trends(good_only_moving_mean_firing_rates_df.T)\\n            win.show()\\n\\n            # active_rolling_window_times # dtype='timedelta64[ns]', name='time_delta_sec', length=2900, freq='S'\\n            # pg.plot(moving_mean_firing_rates_df)\\n\\n        \",\n",
       " '_display_context_nested_docks': \" Create `master_dock_win` - centralized plot output window to collect individual figures/controls in (2022-08-18)\\n        NOTE: Ignores `active_config` because context_nested_docks is for all contexts\\n\\n        Input:\\n            owning_pipeline_reference: A reference to the pipeline upon which this display function is being called\\n\\n        Usage:\\n\\n        display_output = active_display_output | curr_active_pipeline.display('_display_context_nested_docks', active_identifying_filtered_session_ctx, enable_gui=False, debug_print=False) # returns {'master_dock_win': master_dock_win, 'app': app, 'out_items': out_items}\\n        master_dock_win = display_output['master_dock_win']\\n        app = display_output['app']\\n        out_items = display_output['out_items']\\n\\n        \",\n",
       " '_display_batch_pho_jonathan_replay_firing_rate_comparison': \" Stacked Jonathan-style firing-rate-across-epochs-plot. Pho's batch adaptation of the primary elements from Jonathan's interactive display.\\n                Usage:\\n\\n                    %matplotlib qt\\n                    active_identifying_session_ctx = curr_active_pipeline.sess.get_context() # 'bapun_RatN_Day4_2019-10-15_11-30-06'\\n\\n                    graphics_output_dict = curr_active_pipeline.display('_display_batch_pho_jonathan_replay_firing_rate_comparison', active_identifying_session_ctx)\\n                    fig, axs, plot_data = graphics_output_dict['fig'], graphics_output_dict['axs'], graphics_output_dict['plot_data']\\n                    neuron_df, rdf, aclu_to_idx, irdf = plot_data['df'], plot_data['rdf'], plot_data['aclu_to_idx'], plot_data['irdf']\\n                    # Grab the output axes:\\n                    curr_axs_dict = axs[0]\\n                    curr_firing_rate_ax, curr_lap_spikes_ax, curr_placefield_ax = curr_axs_dict['firing_rate'], curr_axs_dict['lap_spikes'], curr_axs_dict['placefield'] # Extract variables from the `curr_axs_dict` dictionary to the local workspace\\n\\n            \",\n",
       " '_display_jonathan_interactive_replay_firing_rate_comparison': \" Jonathan's interactive display. Currently hacked up to directly compute the results to display within this function\\n                Internally calls `_make_jonathan_interactive_plot(...)`\\n\\n                Usage:\\n                active_identifying_session_ctx = curr_active_pipeline.sess.get_context() # 'bapun_RatN_Day4_2019-10-15_11-30-06'\\n                curr_active_pipeline.display('_display_jonathan_interactive_replay_firing_rate_comparison', active_identifying_session_ctx)\\n\\n            \",\n",
       " '_display_long_and_short_firing_rate_replays_v_laps': \" Displays two figures, one for the long and one for the short track, that compare the firing rates during running (laps) and those during decoded replays.\\n            Usage:\\n            \\n            \\n            NOTE: this could be made non-global as it does operate on separate epochs independently ('maze1', 'maze2').\\n\\n        \",\n",
       " '_display_long_and_short_stacked_epoch_slices': ' Plots two figures showing the entire stack of decoded epochs for both the long and short, including their Radon transformed lines if that information is available.\\n\\n        ',\n",
       " '_display_long_short_expected_v_observed_firing_rate': ' Displays expected v observed firing rate for each cell independently\\n\\n        ',\n",
       " '_display_long_short_laps': \" Displays a figure displaying the 1D laps detected for both the long and short tracks.\\n                Usage:\\n\\n                    %matplotlib qt\\n                    active_identifying_session_ctx = curr_active_pipeline.sess.get_context() # 'bapun_RatN_Day4_2019-10-15_11-30-06'\\n\\n                    graphics_output_dict = curr_active_pipeline.display('_display_short_long_pf1D_comparison', active_identifying_session_ctx)\\n                    fig, axs, plot_data = graphics_output_dict['fig'], graphics_output_dict['axs'], graphics_output_dict['plot_data']\\n                    \\n\\n            \",\n",
       " '_display_running_and_replay_speeds_over_time': \" plots the animal's running speed and the decoded replay velocities (as computed by the Radon transform method) across the recording session. \\n        Renders a vertical stack of two subplots.\\n        \\n        %matplotlib qt\\n        _out = curr_active_pipeline.display('_display_running_and_replay_speeds_over_time', curr_active_pipeline.get_session_context())\\n        _out\\n        \\n        TODO 2023-06-07 - Do I need to set up defer_render:bool=True for non-interactive plotting (like when writing to a file)?\\n\\n        \",\n",
       " '_display_short_long_firing_rate_index_comparison': \" Displays a figure for comparing the 1D placefields across-epochs (between the short and long tracks)\\n                Usage:\\n\\n                    %matplotlib qt\\n                    active_identifying_session_ctx = curr_active_pipeline.sess.get_context() # 'bapun_RatN_Day4_2019-10-15_11-30-06'\\n\\n                    graphics_output_dict = curr_active_pipeline.display('_display_batch_pho_jonathan_replay_firing_rate_comparison', active_identifying_session_ctx)\\n                    fig, axs, plot_data = graphics_output_dict['fig'], graphics_output_dict['axs'], graphics_output_dict['plot_data']\\n                    neuron_df, rdf, aclu_to_idx, irdf = plot_data['df'], plot_data['rdf'], plot_data['aclu_to_idx'], plot_data['irdf']\\n                    # Grab the output axes:\\n                    curr_axs_dict = axs[0]\\n                    curr_firing_rate_ax, curr_lap_spikes_ax, curr_placefield_ax = curr_axs_dict['firing_rate'], curr_axs_dict['lap_spikes'], curr_axs_dict['placefield'] # Extract variables from the `curr_axs_dict` dictionary to the local workspace\\n\\n            \",\n",
       " '_display_short_long_pf1D_comparison': \" Displays a figure for comparing the 1D placefields across-epochs (between the short and long tracks). By default renders the second track's placefield flipped over the x-axis and hatched. \\n                Usage:\\n\\n                    %matplotlib qt\\n                    active_identifying_session_ctx = curr_active_pipeline.sess.get_context() # 'bapun_RatN_Day4_2019-10-15_11-30-06'\\n\\n                    graphics_output_dict = curr_active_pipeline.display('_display_short_long_pf1D_comparison', active_identifying_session_ctx)\\n                    fig, axs, plot_data = graphics_output_dict['fig'], graphics_output_dict['axs'], graphics_output_dict['plot_data']\\n                    \\n\\n            \",\n",
       " '_display_short_long_pf1D_scalar_overlap_comparison': \" Displays a figure for comparing the scalar comparison quantities computed for 1D placefields across-epochs (between the short and long tracks)\\n                This currently renders as a bar-graph\\n\\n                Usage:\\n\\n                    %matplotlib qt\\n                    active_identifying_session_ctx = curr_active_pipeline.sess.get_context() # 'bapun_RatN_Day4_2019-10-15_11-30-06'\\n\\n                    graphics_output_dict = curr_active_pipeline.display('_display_batch_pho_jonathan_replay_firing_rate_comparison', active_identifying_session_ctx)\\n                    fig, axs, plot_data = graphics_output_dict['fig'], graphics_output_dict['axs'], graphics_output_dict['plot_data']\\n                    neuron_df, rdf, aclu_to_idx, irdf = plot_data['df'], plot_data['rdf'], plot_data['aclu_to_idx'], plot_data['irdf']\\n                    # Grab the output axes:\\n                    curr_axs_dict = axs[0]\\n                    curr_firing_rate_ax, curr_lap_spikes_ax, curr_placefield_ax = curr_axs_dict['firing_rate'], curr_axs_dict['lap_spikes'], curr_axs_dict['placefield'] # Extract variables from the `curr_axs_dict` dictionary to the local workspace\\n\\n            \"}"
      ]
     },
     "execution_count": 17,
     "metadata": {},
     "output_type": "execute_result"
    }
   ],
   "source": [
    "curr_active_pipeline.registered_display_function_docs_dict"
   ]
  },
  {
   "cell_type": "code",
   "execution_count": null,
   "id": "62aa9cf4",
   "metadata": {},
   "outputs": [],
   "source": [
    "active_epoch_placefields = deepcopy(global_pf2D)\n",
    "(active_epoch_placefields.ratemap.xbin[0], active_epoch_placefields.ratemap.xbin[-1]), (active_epoch_placefields.ratemap.ybin[0], active_epoch_placefields.ratemap.ybin[-1])"
   ]
  },
  {
   "cell_type": "code",
   "execution_count": null,
   "id": "bbff31db",
   "metadata": {},
   "outputs": [],
   "source": [
    "active_config = curr_active_pipeline.active_configs['maze1']\n",
    "plotting_config = active_config.plotting_config\n",
    "computation_config = active_config.computation_config\n",
    "pf_params: PlacefieldComputationParameters = computation_config.pf_params\n",
    "spike_analysis: DynamicContainer = computation_config.spike_analysis\n",
    "session_config = active_config.active_session_config"
   ]
  },
  {
   "cell_type": "code",
   "execution_count": null,
   "id": "dd279a6b",
   "metadata": {},
   "outputs": [],
   "source": [
    "# computation_config.to_dict()\n",
    "\n",
    "pf_params_context = IdentifyingContext.init_from_dict(pf_params.to_dict())\n",
    "pf_params_context"
   ]
  },
  {
   "cell_type": "code",
   "execution_count": null,
   "id": "acdec5fa",
   "metadata": {},
   "outputs": [],
   "source": [
    "spike_analysis_context = IdentifyingContext.init_from_dict(spike_analysis.to_dict())\n",
    "spike_analysis_context"
   ]
  },
  {
   "cell_type": "code",
   "execution_count": null,
   "id": "3e183e56",
   "metadata": {},
   "outputs": [],
   "source": [
    "# not quite right:\n",
    "computation_config_context = IdentifyingContext(pf_params=pf_params_context, spike_analysis=spike_analysis_context)\n",
    "computation_config_context"
   ]
  },
  {
   "cell_type": "code",
   "execution_count": null,
   "id": "a6aed3d6",
   "metadata": {},
   "outputs": [],
   "source": [
    "plotting_config.get_figure_save_path()"
   ]
  },
  {
   "cell_type": "code",
   "execution_count": null,
   "id": "d14b34f6",
   "metadata": {},
   "outputs": [],
   "source": [
    "#TODO 2023-06-14 07:49: - [ ] Conceptual Arguments for specifying how to display a dict-like:\n",
    "keys_transformer=lambda k: k.to_lower()\n",
    "values_transformer=lambda v: np.array(v) # get precision and stuff"
   ]
  },
  {
   "cell_type": "code",
   "execution_count": 37,
   "id": "ac7a8a80",
   "metadata": {},
   "outputs": [
    {
     "data": {
      "text/plain": [
       "FigureOutputManager(figure_output_location=<FigureOutputLocation.DAILY_PROGRAMMATIC_OUTPUT_FOLDER: 'daily_programmatic_output_folder'>, context_to_path_mode=<ContextToPathMode.GLOBAL_UNIQUE: 'global_unique'>)"
      ]
     },
     "execution_count": 37,
     "metadata": {},
     "output_type": "execute_result"
    }
   ],
   "source": [
    "from pyphoplacecellanalysis.General.Mixins.ExportHelpers import FigureOutputManager, FigureOutputLocation, ContextToPathMode\n",
    "fig_man = FigureOutputManager(figure_output_location=FigureOutputLocation.DAILY_PROGRAMMATIC_OUTPUT_FOLDER, context_to_path_mode=ContextToPathMode.GLOBAL_UNIQUE)\n",
    "fig_man\n"
   ]
  },
  {
   "cell_type": "code",
   "execution_count": 30,
   "id": "045fc60e",
   "metadata": {},
   "outputs": [],
   "source": [
    "test_context = IdentifyingContext(format_name='kdiba',animal='gor01',exper_name='one',session_name='2006-6-08_14-26-15',display_fn_name='display_long_short_laps')\n",
    "test_contexts = [IdentifyingContext(format_name='kdiba',animal='gor01',exper_name='one',session_name='2006-6-08_14-26-15',filter_name='maze1',display_fn_name='plot_single_track_firing_rate_compare'),\n",
    "\tIdentifyingContext(format_name='kdiba',animal='gor01',exper_name='one',session_name='2006-6-08_14-26-15',filter_name='maze2',display_fn_name='plot_single_track_firing_rate_compare')]\n",
    "\n",
    "\n"
   ]
  },
  {
   "cell_type": "code",
   "execution_count": 31,
   "id": "418870cf",
   "metadata": {},
   "outputs": [
    {
     "data": {
      "text/plain": [
       "PosixPath('/home/halechr/repo/Spike3D/EXTERNAL/Screenshots/ProgrammaticDisplayFunctionTesting/2023-06-14/kdiba_gor01_one_2006-6-08_14-26-15_display_long_short_laps')"
      ]
     },
     "execution_count": 31,
     "metadata": {},
     "output_type": "execute_result"
    }
   ],
   "source": [
    "fig_man.get_figure_output_path(test_context, make_folder_if_needed=False)\n",
    "Path('/home/halechr/repo/Spike3D/EXTERNAL/Screenshots/ProgrammaticDisplayFunctionTesting/2023-06-14/kdiba_gor01_one_2006-6-08_14-26-15_display_long_short_laps')"
   ]
  },
  {
   "cell_type": "code",
   "execution_count": 32,
   "id": "bade5f43",
   "metadata": {},
   "outputs": [
    {
     "data": {
      "text/plain": [
       "PosixPath('/home/halechr/repo/Spike3D/EXTERNAL/Screenshots/ProgrammaticDisplayFunctionTesting/2023-06-14/kdiba_gor01_one_2006-6-08_14-26-15_maze1_plot_single_track_firing_rate_compare')"
      ]
     },
     "execution_count": 32,
     "metadata": {},
     "output_type": "execute_result"
    }
   ],
   "source": [
    "fig_man.get_figure_output_path(test_contexts[0], make_folder_if_needed=False)\n",
    "# Path('/home/halechr/repo/Spike3D/EXTERNAL/Screenshots/ProgrammaticDisplayFunctionTesting/2023-06-14/kdiba_gor01_one_2006-6-08_14-26-15_maze1_plot_single_track_firing_rate_compare')"
   ]
  },
  {
   "cell_type": "code",
   "execution_count": 14,
   "id": "aad1377e",
   "metadata": {},
   "outputs": [
    {
     "data": {
      "text/plain": [
       "DynamicParameters({IdentifyingContext<('kdiba', 'gor01', 'one', '2006-6-08_14-26-15', 'maze1')>: DynamicParameters({}), IdentifyingContext<('kdiba', 'gor01', 'one', '2006-6-08_14-26-15', 'maze')>: DynamicParameters({})})"
      ]
     },
     "execution_count": 14,
     "metadata": {},
     "output_type": "execute_result"
    }
   ],
   "source": [
    "curr_active_pipeline.display_output"
   ]
  },
  {
   "cell_type": "code",
   "execution_count": 15,
   "id": "324e8f5f",
   "metadata": {},
   "outputs": [
    {
     "data": {
      "text/plain": [
       "[]"
      ]
     },
     "execution_count": 15,
     "metadata": {},
     "output_type": "execute_result"
    }
   ],
   "source": [
    "curr_active_pipeline.registered_output_files_list"
   ]
  },
  {
   "cell_type": "code",
   "execution_count": 16,
   "id": "e1c10fad",
   "metadata": {},
   "outputs": [
    {
     "data": {
      "text/plain": [
       "DynamicParameters({})"
      ]
     },
     "execution_count": 16,
     "metadata": {},
     "output_type": "execute_result"
    }
   ],
   "source": [
    "curr_active_pipeline.registered_output_files"
   ]
  },
  {
   "cell_type": "code",
   "execution_count": null,
   "id": "be73cef7",
   "metadata": {},
   "outputs": [],
   "source": []
  }
 ],
 "metadata": {
  "kernelspec": {
   "display_name": "Python 3 (ipykernel)",
   "language": "python",
   "name": "python3"
  },
  "language_info": {
   "codemirror_mode": {
    "name": "ipython",
    "version": 3
   },
   "file_extension": ".py",
   "mimetype": "text/x-python",
   "name": "python",
   "nbconvert_exporter": "python",
   "pygments_lexer": "ipython3",
   "version": "3.9.13"
  },
  "toc-showmarkdowntxt": false,
  "toc-showtags": false
 },
 "nbformat": 4,
 "nbformat_minor": 5
}
