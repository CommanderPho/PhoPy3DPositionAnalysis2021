{
 "cells": [
  {
   "cell_type": "code",
   "execution_count": 1,
   "id": "0056bc66-7629-4ef7-8c87-f28f8fcd9dc8",
   "metadata": {
    "autorun": true,
    "tags": [
     "imports",
     "REQUIRED",
     "ACTIVE"
    ]
   },
   "outputs": [
    {
     "name": "stdout",
     "output_type": "stream",
     "text": [
      "Automatic pdb calling has been turned OFF\n",
      "build_module_logger(module_name=\"Spike3D.pipeline\"):\n",
      "\t Module logger com.PhoHale.Spike3D.pipeline has file logging enabled and will log to EXTERNAL\\TESTING\\Logging\\debug_com.PhoHale.Spike3D.pipeline.log\n"
     ]
    }
   ],
   "source": [
    "%config IPCompleter.use_jedi = False\n",
    "%pdb off\n",
    "%load_ext viztracer\n",
    "from viztracer import VizTracer\n",
    "%load_ext autoreload\n",
    "%autoreload 3\n",
    "import sys\n",
    "from pathlib import Path\n",
    "import neptune # for logging progress and results\n",
    "from pyphoplacecellanalysis.General.Batch.NeptuneAiHelpers import set_environment_variables, neptune_output_figures\n",
    "neptune_kwargs = {'project':\"commander.pho/PhoDibaLongShort2023\",\n",
    "'api_token':\"eyJhcGlfYWRkcmVzcyI6Imh0dHBzOi8vYXBwLm5lcHR1bmUuYWkiLCJhcGlfdXJsIjoiaHR0cHM6Ly9hcHAubmVwdHVuZS5haSIsImFwaV9rZXkiOiIxOGIxODU2My1lZTNhLTQ2ZWMtOTkzNS02ZTRmNzM5YmNjNjIifQ==\"}\n",
    "\n",
    "# required to enable non-blocking interaction:\n",
    "%gui qt5\n",
    "\n",
    "from copy import deepcopy\n",
    "from numba import jit\n",
    "import numpy as np\n",
    "import pandas as pd\n",
    "from attrs import define, field, fields, Factory\n",
    "\n",
    "# Pho's Formatting Preferences\n",
    "# from pyphocorehelpers.preferences_helpers import set_pho_preferences, set_pho_preferences_concise, set_pho_preferences_verbose\n",
    "# set_pho_preferences_concise()\n",
    "\n",
    "## Pho's Custom Libraries:\n",
    "from pyphocorehelpers.general_helpers import CodeConversion\n",
    "from pyphocorehelpers.function_helpers import function_attributes\n",
    "from pyphocorehelpers.print_helpers import print_keys_if_possible, print_value_overview_only, document_active_variables, objsize, print_object_memory_usage, debug_dump_object_member_shapes, TypePrintMode\n",
    "from pyphocorehelpers.print_helpers import get_now_day_str, get_now_time_str, get_now_time_precise_str\n",
    "from pyphocorehelpers.programming_helpers import IPythonHelpers\n",
    "from pyphocorehelpers.Filesystem.path_helpers import find_first_extant_path\n",
    "from pyphocorehelpers.Filesystem.open_in_system_file_manager import reveal_in_system_file_manager\n",
    "\n",
    "# NeuroPy (Diba Lab Python Repo) Loading\n",
    "# from neuropy import core\n",
    "from neuropy.analyses.placefields import PlacefieldComputationParameters\n",
    "from neuropy.core.epoch import NamedTimerange, Epoch\n",
    "from neuropy.core.ratemap import Ratemap\n",
    "from neuropy.core.session.Formats.BaseDataSessionFormats import DataSessionFormatRegistryHolder\n",
    "from neuropy.core.session.Formats.Specific.BapunDataSessionFormat import BapunDataSessionFormatRegisteredClass\n",
    "from neuropy.core.session.Formats.Specific.KDibaOldDataSessionFormat import KDibaOldDataSessionFormatRegisteredClass\n",
    "from neuropy.core.session.Formats.Specific.RachelDataSessionFormat import RachelDataSessionFormat\n",
    "from neuropy.core.session.Formats.Specific.HiroDataSessionFormat import HiroDataSessionFormatRegisteredClass\n",
    "\n",
    "## For computation parameters:\n",
    "from neuropy.analyses.placefields import PlacefieldComputationParameters\n",
    "from neuropy.utils.dynamic_container import DynamicContainer\n",
    "from neuropy.utils.result_context import IdentifyingContext\n",
    "from neuropy.core.session.Formats.BaseDataSessionFormats import find_local_session_paths\n",
    "from neuropy.core.neurons import NeuronType\n",
    "\n",
    "from pyphocorehelpers.print_helpers import generate_html_string\n",
    "\n",
    "# pyPhoPlaceCellAnalysis:\n",
    "from pyphoplacecellanalysis.General.Pipeline.NeuropyPipeline import NeuropyPipeline # get_neuron_identities\n",
    "from pyphoplacecellanalysis.General.Mixins.ExportHelpers import export_pyqtgraph_plot, create_daily_programmatic_display_function_testing_folder_if_needed, session_context_to_relative_path\n",
    "from pyphoplacecellanalysis.General.Batch.NonInteractiveProcessing import batch_load_session, batch_extended_computations, SessionBatchProgress, batch_programmatic_figures, batch_extended_programmatic_figures\n",
    "from pyphoplacecellanalysis.General.Pipeline.NeuropyPipeline import PipelineSavingScheme\n",
    "from pyphoplacecellanalysis.Pho2D.matplotlib.visualize_heatmap import visualize_heatmap\n",
    "from pyphoplacecellanalysis.Pho2D.PyQtPlots.Extensions.pyqtgraph_helpers import build_pyqtgraph_epoch_indicator_regions # Add session indicators to pyqtgraph plot\n",
    "from pyphoplacecellanalysis.General.Pipeline.Stages.DisplayFunctions.MultiContextComparingDisplayFunctions.LongShortTrackComparingDisplayFunctions import _helper_add_long_short_session_indicator_regions\n",
    "import pyphoplacecellanalysis.External.pyqtgraph as pg\n",
    "\n",
    "from pyphoplacecellanalysis.General.Batch.NonInteractiveProcessing import batch_perform_all_plots\n",
    "from pyphoplacecellanalysis.General.Pipeline.Stages.ComputationFunctions.MultiContextComputationFunctions.LongShortTrackComputations import JonathanFiringRateAnalysisResult\n",
    "from pyphoplacecellanalysis.General.Mixins.CrossComputationComparisonHelpers import _find_any_context_neurons\n",
    "\n",
    "# Plotting\n",
    "import pylustrator\n",
    "from pyphoplacecellanalysis.General.Pipeline.Stages.DisplayFunctions.SpikeRasters import plot_multiple_raster_plot, plot_raster_plot\n",
    "from pyphoplacecellanalysis.General.Mixins.DataSeriesColorHelpers import DataSeriesColorHelpers\n",
    "from pyphoplacecellanalysis.GUI.PyQtPlot.Widgets.helpers import _helper_make_scatterplot_clickable\n",
    "from pyphoplacecellanalysis.General.Mixins.DataSeriesColorHelpers import UnitColoringMode, DataSeriesColorHelpers\n",
    "from scripts.run_BatchAnalysis import post_compute_validate, _on_complete_success_execution_session\n",
    "from PendingNotebookCode import PAPER_FIGURE_figure_1_add_replay_epoch_rasters, PAPER_FIGURE_figure_1_full\n",
    "from PendingNotebookCode import PAPER_FIGURE_figure_3\n",
    "\n",
    "session_batch_status = {}\n",
    "session_batch_errors = {}\n",
    "enable_saving_to_disk = False\n",
    "\n",
    "global_data_root_parent_path = find_first_extant_path([Path(r'W:\\Data'), Path(r'/media/MAX/Data'), Path(r'/Volumes/MoverNew/data'), Path(r'/home/halechr/turbo/Data')])\n",
    "assert global_data_root_parent_path.exists(), f\"global_data_root_parent_path: {global_data_root_parent_path} does not exist! Is the right computer's config commented out above?\""
   ]
  },
  {
   "attachments": {},
   "cell_type": "markdown",
   "id": "a1538e2a-4e39-4d11-90b5-a9fef9258058",
   "metadata": {
    "tags": [
     "REQUIRED",
     "ACTIVE"
    ]
   },
   "source": [
    "# Load Pipeline"
   ]
  },
  {
   "cell_type": "code",
   "execution_count": 2,
   "id": "f917bad9-8fe7-4882-b83b-71cf878fffd2",
   "metadata": {
    "tags": [
     "load",
     "REQUIRED"
    ]
   },
   "outputs": [
    {
     "name": "stdout",
     "output_type": "stream",
     "text": [
      "Automatic pdb calling has been turned OFF\n",
      "basedir: W:\\Data\\KDIBA\\gor01\\one\\2006-6-08_14-26-15\n",
      "Loading loaded session pickle file results : W:\\Data\\KDIBA\\gor01\\one\\2006-6-08_14-26-15\\loadedSessPickle.pkl... done.\n",
      "Loading pickled pipeline success: W:\\Data\\KDIBA\\gor01\\one\\2006-6-08_14-26-15\\loadedSessPickle.pkl.\n",
      "property already present in pickled version. No need to save.\n",
      "using provided computation_functions_name_includelist: ['_perform_baseline_placefield_computation', '_perform_extended_statistics_computation', '_perform_position_decoding_computation', '_perform_firing_rate_trends_computation', '_perform_pf_find_ratemap_peaks_computation', '_perform_two_step_position_decoding_computation']\n",
      "WARNING: skipping computation because overwrite_extant_results=False and active_computation_results[maze1] already exists and is non-None\n",
      "\t TODO: this will prevent recomputation even when the excludelist/includelist or computation function definitions change. Rework so that this is smarter.\n",
      "updating computation_results...\n",
      "done.\n",
      "WARNING: skipping computation because overwrite_extant_results=False and active_computation_results[maze2] already exists and is non-None\n",
      "\t TODO: this will prevent recomputation even when the excludelist/includelist or computation function definitions change. Rework so that this is smarter.\n",
      "updating computation_results...\n",
      "done.\n",
      "WARNING: skipping computation because overwrite_extant_results=False and active_computation_results[maze] already exists and is non-None\n",
      "\t TODO: this will prevent recomputation even when the excludelist/includelist or computation function definitions change. Rework so that this is smarter.\n",
      "updating computation_results...\n",
      "done.\n",
      "WARNING: saving_mode is SKIP_SAVING so pipeline will not be saved despite calling .save_pipeline(...).\n",
      "saving_mode.shouldSave == False, so not saving at the end of batch_load_session\n",
      "Loading loaded session pickle file results : W:\\Data\\KDIBA\\gor01\\one\\2006-6-08_14-26-15\\output\\global_computation_results.pkl... done.\n"
     ]
    }
   ],
   "source": [
    "%pdb off\n",
    "# ==================================================================================================================== #\n",
    "# Load Data                                                                                                            #\n",
    "# ==================================================================================================================== #\n",
    "\n",
    "active_data_mode_name = 'kdiba'\n",
    "\n",
    "## Data must be pre-processed using the MATLAB script located here: \n",
    "#     neuropy/data_session_pre_processing_scripts/KDIBA/IIDataMat_Export_ToPython_2022_08_01.m\n",
    "# From pre-computed .mat files:\n",
    "\n",
    "local_session_root_parent_context = IdentifyingContext(format_name=active_data_mode_name) # , animal_name='', configuration_name='one', session_name=self.session_name\n",
    "local_session_root_parent_path = global_data_root_parent_path.joinpath('KDIBA')\n",
    "\n",
    "# [*] - indicates bad or session with a problem\n",
    "# 0, 1, 2, 3, 4, 5, 6, 7, [8], [9], 10, 11, [12], 13, 14, [15], [16], 17, \n",
    "# curr_context: IdentifyingContext = good_contexts_list[1] # select the session from all of the good sessions here.\n",
    "curr_context = IdentifyingContext(format_name='kdiba',animal='gor01',exper_name='one',session_name='2006-6-08_14-26-15') # DONE. Very good. Many good Pfs, many good replays.\n",
    "# curr_context = IdentifyingContext(format_name='kdiba',animal='gor01',exper_name='one',session_name='2006-6-09_1-22-43') # BAD\n",
    "# curr_context = IdentifyingContext(format_name='kdiba',animal='gor01',exper_name='one',session_name='2006-6-12_15-55-31') # DONE, Good Pfs but no good replays\n",
    "# curr_context = IdentifyingContext(format_name='kdiba',animal='gor01',exper_name='one',session_name='2006-6-13_14-42-6') # BAD\n",
    "# curr_context = IdentifyingContext(format_name='kdiba',animal='gor01',exper_name='two',session_name='2006-6-07_16-40-19') # DONE, GREAT, both good Pfs and replays!\n",
    "# curr_context = IdentifyingContext(format_name='kdiba',animal='gor01',exper_name='two',session_name='2006-6-08_21-16-25') # DONE\n",
    "# curr_context = IdentifyingContext(format_name='kdiba',animal='gor01',exper_name='two',session_name='2006-6-09_22-24-40') # DONE\n",
    "# curr_context = IdentifyingContext(format_name='kdiba',animal='gor01',exper_name='two',session_name='2006-6-12_16-53-46') # DONE\n",
    "# curr_context = IdentifyingContext(format_name='kdiba',animal='gor01',exper_name='two',session_name='2006-6-13_15-22-3') # DONE, Good Pfs, no good epochs.\n",
    "# curr_context = IdentifyingContext(format_name='kdiba',animal='vvp01',exper_name='one',session_name='2006-4-09_17-29-30') # DONE\n",
    "# curr_context = IdentifyingContext(format_name='kdiba',animal='vvp01',exper_name='one',session_name='2006-4-10_12-25-50') # DONE\n",
    "# curr_context = IdentifyingContext(format_name='kdiba',animal='vvp01',exper_name='one',session_name='2006-4-19_13-34-40') # BAD\n",
    "# curr_context = IdentifyingContext(format_name='kdiba',animal='vvp01',exper_name='two',session_name='2006-4-09_16-40-54') # DONE\n",
    "# curr_context = IdentifyingContext(format_name='kdiba',animal='vvp01',exper_name='two',session_name='2006-4-10_12-58-3') # BAD, Good Pfs strangely despite horrible map, no good epochs\n",
    "# curr_context = IdentifyingContext(format_name='kdiba',animal='vvp01',exper_name='two',session_name='2006-4-12_15-25-59') # BAD, No Epochs\n",
    "# curr_context = IdentifyingContext(format_name='kdiba',animal='vvp01',exper_name='two',session_name='2006-4-16_18-47-52')\n",
    "# curr_context = IdentifyingContext(format_name='kdiba',animal='vvp01',exper_name='two',session_name='2006-4-17_12-52-15')\n",
    "# curr_context = IdentifyingContext(format_name='kdiba',animal='vvp01',exper_name='two',session_name='2006-4-25_13-20-55')\n",
    "# curr_context = IdentifyingContext(format_name='kdiba',animal='vvp01',exper_name='two',session_name='2006-4-28_12-38-13')\n",
    "# curr_context = IdentifyingContext(format_name='kdiba',animal='pin01',exper_name='one',session_name='11-02_17-46-44') # DONE\n",
    "# curr_context = IdentifyingContext(format_name='kdiba',animal='pin01',exper_name='one',session_name='11-02_19-28-0') # DONE\n",
    "# curr_context = IdentifyingContext(format_name='kdiba',animal='pin01',exper_name='one',session_name='11-03_12-3-25') # DONE\n",
    "# curr_context = IdentifyingContext(format_name='kdiba',animal='pin01',exper_name='one',session_name='11-09_12-15-3')\n",
    "# curr_context = IdentifyingContext(format_name='kdiba',animal='pin01',exper_name='one',session_name='11-09_22-4-5')\n",
    "# curr_context = IdentifyingContext(format_name='kdiba',animal='pin01',exper_name='one',session_name='fet11-01_12-58-54') # DONE\n",
    "\n",
    "local_session_parent_path: Path = local_session_root_parent_path.joinpath(curr_context.animal, curr_context.exper_name) # 'gor01', 'one' - probably not needed anymore\n",
    "basedir: Path = local_session_parent_path.joinpath(curr_context.session_name).resolve()\n",
    "print(f'basedir: {str(basedir)}')\n",
    "\n",
    "# Read if possible:\n",
    "saving_mode = PipelineSavingScheme.SKIP_SAVING\n",
    "force_reload = False\n",
    "\n",
    "# Force write:\n",
    "# saving_mode = PipelineSavingScheme.TEMP_THEN_OVERWRITE\n",
    "# saving_mode = PipelineSavingScheme.OVERWRITE_IN_PLACE\n",
    "# force_reload = True\n",
    "\n",
    "\n",
    "## TODO: if loading is not possible, we need to change the `saving_mode` so that the new results are properly saved.\n",
    "\n",
    "\n",
    "    # ==================================================================================================================== #\n",
    "    # Load Pipeline                                                                                                        #\n",
    "    # ==================================================================================================================== #\n",
    "# with VizTracer(output_file=f\"viztracer_{get_now_time_str()}-full_session_LOO_decoding_analysis.json\", min_duration=200, tracer_entries=3000000, ignore_frozen=True) as tracer:\n",
    "# epoch_name_includelist = ['maze']\n",
    "epoch_name_includelist = None\n",
    "active_computation_functions_name_includelist=[#'_perform_estimated_epochs_computation',  # AL:WAYS OFF\n",
    "                                            '_perform_baseline_placefield_computation',\n",
    "                                        # '_perform_time_dependent_placefield_computation', # AL:WAYS OFF\n",
    "                                        '_perform_extended_statistics_computation',\n",
    "                                        '_perform_position_decoding_computation', \n",
    "                                        '_perform_firing_rate_trends_computation',\n",
    "                                        '_perform_pf_find_ratemap_peaks_computation',\n",
    "                                        # '_perform_time_dependent_pf_sequential_surprise_computation' # AL:WAYS OFF\n",
    "                                        '_perform_two_step_position_decoding_computation',\n",
    "                                        # '_perform_recursive_latent_placefield_decoding' # AL:WAYS OFF\n",
    "                                    ]\n",
    "# active_computation_functions_name_includelist=['_perform_baseline_placefield_computation']\n",
    "\n",
    "curr_active_pipeline = batch_load_session(global_data_root_parent_path, active_data_mode_name, basedir, epoch_name_includelist=epoch_name_includelist,\n",
    "                                        computation_functions_name_includelist=active_computation_functions_name_includelist,\n",
    "                                        saving_mode=saving_mode, force_reload=force_reload,\n",
    "                                        skip_extended_batch_computations=True, debug_print=False, fail_on_exception=True) # , active_pickle_filename = 'loadedSessPickle_withParameters.pkl'\n",
    "\n",
    "\n",
    "if not force_reload: # not just force_reload, needs to recompute whenever the computation fails.\n",
    "    try:\n",
    "        curr_active_pipeline.load_pickled_global_computation_results()\n",
    "    except Exception as e:\n",
    "        print(f'cannot load global results: {e}')\n",
    "\n",
    "# 6m 1.1s\n",
    "# 12m 15.6s\n"
   ]
  },
  {
   "cell_type": "code",
   "execution_count": null,
   "id": "ac8aab9a",
   "metadata": {},
   "outputs": [],
   "source": [
    "%matplotlib qt\n",
    "from neuropy.utils.matplotlib_helpers import interactive_select_grid_bin_bounds_2D\n",
    "# fig, ax, rect_selector, set_extents = interactive_select_grid_bin_bounds_2D(curr_active_pipeline, epoch_name='maze', should_block_for_input=True)\n",
    "\n",
    "grid_bin_bounds = interactive_select_grid_bin_bounds_2D(curr_active_pipeline, epoch_name='maze', should_block_for_input=True, should_apply_updates_to_pipeline=False)\n",
    "print(f'grid_bin_bounds: {grid_bin_bounds}')\n",
    "print(f\"Add this to `specific_session_override_dict`:\\n\\n{curr_active_pipeline.get_session_context().get_initialization_code_string()}:dict(grid_bin_bounds=({(grid_bin_bounds[0], grid_bin_bounds[1]), (grid_bin_bounds[2], grid_bin_bounds[3])})),\\n\")"
   ]
  },
  {
   "cell_type": "code",
   "execution_count": 3,
   "id": "3a29b890",
   "metadata": {
    "tags": []
   },
   "outputs": [
    {
     "name": "stdout",
     "output_type": "stream",
     "text": [
      "were pipeline preprocessing parameters missing and updated?: False\n",
      "included includelist is specified: ['long_short_fr_indicies_analyses', 'jonathan_firing_rate_analysis', 'long_short_decoding_analyses', 'long_short_post_decoding'], so only performing these extended computations.\n",
      "Running batch_extended_computations(...) with global_epoch_name: \"maze\"\n",
      "jonathan_firing_rate_analysis already computed.\n",
      "long_short_fr_indicies_analyses already computed.\n",
      "long_short_decoding_analyses already computed.\n",
      "long_short_post_decoding already computed.\n",
      "done with all batch_extended_computations(...).\n",
      "no changes in global results.\n"
     ]
    }
   ],
   "source": [
    "## Post Compute Validate 2023-05-16:\n",
    "from scripts.run_BatchAnalysis import post_compute_validate\n",
    "post_compute_validate(curr_active_pipeline)\n",
    "\n",
    "curr_active_pipeline.reload_default_computation_functions()\n",
    "extended_computations_include_includelist=['long_short_fr_indicies_analyses', 'jonathan_firing_rate_analysis', 'long_short_decoding_analyses', 'long_short_post_decoding'] # do only specifiedl , 'long_short_rate_remapping'\n",
    "force_recompute_global = force_reload\n",
    "# force_recompute_global = True\n",
    "# extended_computations_include_includelist=['long_short_post_decoding'] # do only specifiedl\n",
    "newly_computed_values = batch_extended_computations(curr_active_pipeline, include_includelist=extended_computations_include_includelist, include_global_functions=True, fail_on_exception=True, progress_print=True, force_recompute=force_recompute_global, debug_print=False)\n",
    "if len(newly_computed_values) > 0:\n",
    "\tprint(f'newly_computed_values: {newly_computed_values}. Saving global results...')\n",
    "\ttry:\n",
    "\t\t# curr_active_pipeline.global_computation_results.persist_time = datetime.now()\n",
    "\t\t# Try to write out the global computation function results:\n",
    "\t\tcurr_active_pipeline.save_global_computation_results()\n",
    "\texcept Exception as e:\n",
    "\t\tprint(f'\\n\\n!!WARNING!!: saving the global results threw the exception: {e}')\n",
    "\t\tprint(f'\\tthe global results are currently unsaved! proceed with caution and save as soon as you can!\\n\\n\\n')\n",
    "else:\n",
    "\tprint(f'no changes in global results.')\n",
    "# 10m 29.5s"
   ]
  },
  {
   "cell_type": "code",
   "execution_count": null,
   "id": "d3e3c3f3",
   "metadata": {},
   "outputs": [],
   "source": [
    "curr_active_pipeline.reload_default_display_functions()\n",
    "\n",
    "neptuner = batch_perform_all_plots(curr_active_pipeline, enable_neptune=True)\n"
   ]
  },
  {
   "attachments": {},
   "cell_type": "markdown",
   "id": "7e7106ef",
   "metadata": {},
   "source": [
    "### Pipeline Loading/Saving [Optional]"
   ]
  },
  {
   "cell_type": "code",
   "execution_count": null,
   "id": "5a7f3fa3",
   "metadata": {},
   "outputs": [],
   "source": [
    "curr_active_pipeline.save_pipeline(saving_mode=PipelineSavingScheme.TEMP_THEN_OVERWRITE) # AttributeError: 'PfND_TimeDependent' object has no attribute '_included_thresh_neurons_indx'\n",
    "# TypeError: cannot pickle 'MplMultiTab' object\n",
    "# PicklingError: Can't pickle .set_closure_cell at 0x000002BF248F50D0>: it's not found as attr._compat.make_set_closure_cell..set_closure_cell\n",
    "# TypeError: cannot pickle 'PyQt5.QtCore.pyqtSignal' object"
   ]
  },
  {
   "cell_type": "code",
   "execution_count": null,
   "id": "c09c2afd",
   "metadata": {},
   "outputs": [],
   "source": [
    "curr_active_pipeline.save_pipeline(saving_mode=PipelineSavingScheme.OVERWRITE_IN_PLACE)"
   ]
  },
  {
   "cell_type": "code",
   "execution_count": null,
   "id": "12c4c775",
   "metadata": {},
   "outputs": [],
   "source": [
    "curr_active_pipeline.save_global_computation_results() # PicklingError: Can't pickle .set_closure_cell at 0x000002BF248F50D0>: it's not found as attr._compat.make_set_closure_cell..set_closure_cell"
   ]
  },
  {
   "cell_type": "code",
   "execution_count": null,
   "id": "dc47d835",
   "metadata": {},
   "outputs": [],
   "source": [
    "curr_active_pipeline.load_pickled_global_computation_results()"
   ]
  },
  {
   "cell_type": "code",
   "execution_count": null,
   "id": "241dc49f",
   "metadata": {},
   "outputs": [],
   "source": [
    "curr_active_pipeline.clear_display_outputs()\n",
    "curr_active_pipeline.clear_registered_output_files()"
   ]
  },
  {
   "cell_type": "code",
   "execution_count": null,
   "id": "ba716fe2",
   "metadata": {},
   "outputs": [],
   "source": [
    "curr_active_pipeline.save_global_computation_results()"
   ]
  },
  {
   "attachments": {},
   "cell_type": "markdown",
   "id": "c850782f",
   "metadata": {},
   "source": [
    "# End Run"
   ]
  },
  {
   "cell_type": "code",
   "execution_count": 4,
   "id": "dda48261",
   "metadata": {
    "tags": [
     "load",
     "ACTIVE"
    ]
   },
   "outputs": [
    {
     "name": "stdout",
     "output_type": "stream",
     "text": [
      "good_example_epoch_indicies_L: [ 13  25  27  31  37  42  48  57  61  62  63  76  79  82  89  90 111 112\n",
      " 115]\n",
      "good_example_epoch_indicies_S: [ 25  37  40  45  61  62  76  79  84  93  94 111 112 113 115 121]\n"
     ]
    }
   ],
   "source": [
    "## long_short_decoding_analyses:\n",
    "curr_long_short_decoding_analyses = curr_active_pipeline.global_computation_results.computed_data['long_short_leave_one_out_decoding_analysis']\n",
    "## Extract variables from results object:\n",
    "long_one_step_decoder_1D, short_one_step_decoder_1D, long_replays, short_replays, global_replays, long_shared_aclus_only_decoder, short_shared_aclus_only_decoder, shared_aclus, long_short_pf_neurons_diff, n_neurons, long_results_obj, short_results_obj, is_global = curr_long_short_decoding_analyses.long_decoder, curr_long_short_decoding_analyses.short_decoder, curr_long_short_decoding_analyses.long_replays, curr_long_short_decoding_analyses.short_replays, curr_long_short_decoding_analyses.global_replays, curr_long_short_decoding_analyses.long_shared_aclus_only_decoder, curr_long_short_decoding_analyses.short_shared_aclus_only_decoder, curr_long_short_decoding_analyses.shared_aclus, curr_long_short_decoding_analyses.long_short_pf_neurons_diff, curr_long_short_decoding_analyses.n_neurons, curr_long_short_decoding_analyses.long_results_obj, curr_long_short_decoding_analyses.short_results_obj, curr_long_short_decoding_analyses.is_global\n",
    "\n",
    "# (long_one_step_decoder_1D, short_one_step_decoder_1D), (long_one_step_decoder_2D, short_one_step_decoder_2D) = compute_short_long_constrained_decoders(curr_active_pipeline, recalculate_anyway=True)\n",
    "long_epoch_name, short_epoch_name, global_epoch_name = curr_active_pipeline.find_LongShortGlobal_epoch_names()\n",
    "long_epoch_context, short_epoch_context, global_epoch_context = [curr_active_pipeline.filtered_contexts[a_name] for a_name in (long_epoch_name, short_epoch_name, global_epoch_name)]\n",
    "long_session, short_session, global_session = [curr_active_pipeline.filtered_sessions[an_epoch_name] for an_epoch_name in [long_epoch_name, short_epoch_name, global_epoch_name]]\n",
    "long_results, short_results, global_results = [curr_active_pipeline.computation_results[an_epoch_name]['computed_data'] for an_epoch_name in [long_epoch_name, short_epoch_name, global_epoch_name]]\n",
    "long_computation_config, short_computation_config, global_computation_config = [curr_active_pipeline.computation_results[an_epoch_name]['computation_config'] for an_epoch_name in [long_epoch_name, short_epoch_name, global_epoch_name]]\n",
    "long_pf1D, short_pf1D, global_pf1D = long_results.pf1D, short_results.pf1D, global_results.pf1D\n",
    "long_pf2D, short_pf2D, global_pf2D = long_results.pf2D, short_results.pf2D, global_results.pf2D\n",
    "decoding_time_bin_size = long_one_step_decoder_1D.time_bin_size # 1.0/30.0 # 0.03333333333333333\n",
    "\n",
    "## Get global 'long_short_post_decoding' results:\n",
    "curr_long_short_post_decoding = curr_active_pipeline.global_computation_results.computed_data['long_short_post_decoding']\n",
    "expected_v_observed_result, curr_long_short_rr = curr_long_short_post_decoding.expected_v_observed_result, curr_long_short_post_decoding.rate_remapping\n",
    "rate_remapping_df, high_remapping_cells_only = curr_long_short_rr.rr_df, curr_long_short_rr.high_only_rr_df\n",
    "Flat_epoch_time_bins_mean, Flat_decoder_time_bin_centers, num_neurons, num_timebins_in_epoch, num_total_flat_timebins, is_short_track_epoch, is_long_track_epoch, short_short_diff, long_long_diff = expected_v_observed_result['Flat_epoch_time_bins_mean'], expected_v_observed_result['Flat_decoder_time_bin_centers'], expected_v_observed_result['num_neurons'], expected_v_observed_result['num_timebins_in_epoch'], expected_v_observed_result['num_total_flat_timebins'], expected_v_observed_result['is_short_track_epoch'], expected_v_observed_result['is_long_track_epoch'], expected_v_observed_result['short_short_diff'], expected_v_observed_result['long_long_diff']\n",
    "\n",
    "jonathan_firing_rate_analysis_result = JonathanFiringRateAnalysisResult(**curr_active_pipeline.global_computation_results.computed_data.jonathan_firing_rate_analysis.to_dict())\n",
    "(epochs_df_L, epochs_df_S), (filter_epoch_spikes_df_L, filter_epoch_spikes_df_S), (good_example_epoch_indicies_L, good_example_epoch_indicies_S), (short_exclusive, long_exclusive, BOTH_subset, EITHER_subset, XOR_subset, NEITHER_subset), new_all_aclus_sort_indicies = PAPER_FIGURE_figure_1_add_replay_epoch_rasters(curr_active_pipeline)\n"
   ]
  },
  {
   "attachments": {},
   "cell_type": "markdown",
   "id": "f9e59bdb",
   "metadata": {},
   "source": [
    "# ***NOW*** TODO 2023-06-20 22:01: - [ ] DONE FACTORING OUT `PAPER_FIGURE_figure_1_add_replay_epoch_rasters` and got plots to show up.\n",
    "# - Just get both `plot_multiple_raster_plot` calls (long and short) to show up simultaneously"
   ]
  },
  {
   "cell_type": "code",
   "execution_count": null,
   "id": "f77377ba",
   "metadata": {},
   "outputs": [],
   "source": [
    "pf1d_compare_graphics, (example_epoch_rasters_L, example_epoch_rasters_S), example_stacked_epoch_graphics = PAPER_FIGURE_figure_1_full(curr_active_pipeline) # did not display the pf1"
   ]
  },
  {
   "cell_type": "code",
   "execution_count": 5,
   "id": "9f01ff9e",
   "metadata": {},
   "outputs": [
    {
     "name": "stdout",
     "output_type": "stream",
     "text": [
      "active_identifying_ctx_string: \"kdiba|gor01|one|2006-6-08_14-26-15|DecodedEpochSlices|replays|long_results_obj|[  0   1   2   3   4   5   6   7   8   9  10  11  12  13  14  15  16  17\n",
      "  18  19  20  21  22  23  24  25  26  27  28  29  30  31  32  33  34  35\n",
      "  36  37  38  39  40  41  42  43  44  45  46  47  48  49  50  51  52  53\n",
      "  54  55  56  57  58  59  60  61  62  63  64  65  66  67  68  69  70  71\n",
      "  72  73  74  75  76  77  78  79  80  81  82  83  84  85  86  87  88  89\n",
      "  90  91  92  93  94  95  96  97  98  99 100 101 102 103 104 105 106 107\n",
      " 108 109 110 111 112 113 114 115 116 117 118 119 120 121]\"\n",
      "active_identifying_ctx_string: \"kdiba|gor01|one|2006-6-08_14-26-15|DecodedEpochSlices|replays|long_results_obj|[  0   1   2   3   4   5   6   7   8   9  10  11  12  13  14  15  16  17\n",
      "  18  19  20  21  22  23  24  25  26  27  28  29  30  31  32  33  34  35\n",
      "  36  37  38  39  40  41  42  43  44  45  46  47  48  49  50  51  52  53\n",
      "  54  55  56  57  58  59  60  61  62  63  64  65  66  67  68  69  70  71\n",
      "  72  73  74  75  76  77  78  79  80  81  82  83  84  85  86  87  88  89\n",
      "  90  91  92  93  94  95  96  97  98  99 100 101 102 103 104 105 106 107\n",
      " 108 109 110 111 112 113 114 115 116 117 118 119 120 121]\"\n",
      "\t saved C:\\Users\\pho\\repos\\Spike3DWorkEnv\\Spike3D\\EXTERNAL\\Screenshots\\ProgrammaticDisplayFunctionTesting\\2023-06-27\\kdiba_gor01_one_2006-6-08_14-26-15_DecodedEpochSlices_replays_long_results_obj.png\n",
      "active_identifying_ctx_string: \"kdiba|gor01|one|2006-6-08_14-26-15|DecodedEpochSlices|replays|short_results_obj|[  0   1   2   3   4   5   6   7   8   9  10  11  12  13  14  15  16  17\n",
      "  18  19  20  21  22  23  24  25  26  27  28  29  30  31  32  33  34  35\n",
      "  36  37  38  39  40  41  42  43  44  45  46  47  48  49  50  51  52  53\n",
      "  54  55  56  57  58  59  60  61  62  63  64  65  66  67  68  69  70  71\n",
      "  72  73  74  75  76  77  78  79  80  81  82  83  84  85  86  87  88  89\n",
      "  90  91  92  93  94  95  96  97  98  99 100 101 102 103 104 105 106 107\n",
      " 108 109 110 111 112 113 114 115 116 117 118 119 120 121]\"\n",
      "active_identifying_ctx_string: \"kdiba|gor01|one|2006-6-08_14-26-15|DecodedEpochSlices|replays|short_results_obj|[  0   1   2   3   4   5   6   7   8   9  10  11  12  13  14  15  16  17\n",
      "  18  19  20  21  22  23  24  25  26  27  28  29  30  31  32  33  34  35\n",
      "  36  37  38  39  40  41  42  43  44  45  46  47  48  49  50  51  52  53\n",
      "  54  55  56  57  58  59  60  61  62  63  64  65  66  67  68  69  70  71\n",
      "  72  73  74  75  76  77  78  79  80  81  82  83  84  85  86  87  88  89\n",
      "  90  91  92  93  94  95  96  97  98  99 100 101 102 103 104 105 106 107\n",
      " 108 109 110 111 112 113 114 115 116 117 118 119 120 121]\"\n",
      "\t saved C:\\Users\\pho\\repos\\Spike3DWorkEnv\\Spike3D\\EXTERNAL\\Screenshots\\ProgrammaticDisplayFunctionTesting\\2023-06-27\\kdiba_gor01_one_2006-6-08_14-26-15_DecodedEpochSlices_replays_short_results_obj.png\n"
     ]
    }
   ],
   "source": [
    "## Stacked Epoch Plot\n",
    "example_stacked_epoch_graphics = curr_active_pipeline.display('_display_long_and_short_stacked_epoch_slices', defer_render=False, save_figure=True)"
   ]
  },
  {
   "cell_type": "code",
   "execution_count": 6,
   "id": "9c5f0066",
   "metadata": {
    "tags": [
     "unwrap_figure_output",
     "interactive"
    ]
   },
   "outputs": [],
   "source": [
    "from pyphoplacecellanalysis.Pho2D.stacked_epoch_slices import DecodedEpochSlicesPaginatedFigureController\n",
    "\n",
    "pagination_controller_L, pagination_controller_S = example_stacked_epoch_graphics.plot_data['controllers']\n",
    "ax_L, ax_S = example_stacked_epoch_graphics.axes\n",
    "final_figure_context_L, final_context_S = example_stacked_epoch_graphics.context"
   ]
  },
  {
   "cell_type": "code",
   "execution_count": 7,
   "id": "ea6b8b4b",
   "metadata": {
    "tags": [
     "selections",
     "user_annotations"
    ]
   },
   "outputs": [
    {
     "data": {
      "text/plain": [
       "{IdentifyingContext<('kdiba', 'gor01', 'one', '2006-6-08_14-26-15', 'DecodedEpochSlices', 'replays', 'long_results_obj', 'selections')>: array([ 13,  14,  15,  25,  27,  28,  31,  37,  42,  45,  48,  57,  61,\n",
       "         62,  63,  76,  79,  82,  89,  90, 111, 112, 113, 115]),\n",
       " IdentifyingContext<('kdiba', 'gor01', 'one', '2006-6-08_14-26-15', 'DecodedEpochSlices', 'replays', 'short_results_obj', 'selections')>: array([  9,  11,  13,  14,  15,  20,  22,  25,  37,  40,  45,  48,  61,\n",
       "         62,  76,  79,  84,  89,  90,  93,  94, 111, 112, 113, 115, 121]),\n",
       " IdentifyingContext<('kdiba', 'gor01', 'two', '2006-6-07_16-40-19', 'DecodedEpochSlices', 'replays', 'long_results_obj', 'selections')>: array([  5,  13,  15,  17,  20,  21,  24,  31,  33,  43,  44,  49,  63,\n",
       "         64,  66,  68,  70,  71,  74,  76,  77,  78,  84,  90,  94,  95,\n",
       "        104, 105, 122, 123]),\n",
       " IdentifyingContext<('kdiba', 'gor01', 'two', '2006-6-07_16-40-19', 'DecodedEpochSlices', 'replays', 'short_results_obj', 'selections')>: array([ 12,  13,  15,  17,  20,  24,  30,  31,  32,  33,  41,  43,  49,\n",
       "         54,  55,  68,  70,  71,  73,  76,  77,  78,  84,  89,  94, 100,\n",
       "        104, 105, 111, 114, 115, 117, 118, 122, 123, 131])}"
      ]
     },
     "execution_count": 7,
     "metadata": {},
     "output_type": "execute_result"
    }
   ],
   "source": [
    "from PendingNotebookCode import UserAnnotationsManager\n",
    "\n",
    "user_anootations = UserAnnotationsManager.get_user_annotations()\n",
    "user_anootations"
   ]
  },
  {
   "cell_type": "code",
   "execution_count": 8,
   "id": "c38e130b",
   "metadata": {
    "tags": [
     "selections",
     "user_annotations"
    ]
   },
   "outputs": [
    {
     "name": "stdout",
     "output_type": "stream",
     "text": [
      "{('user_annotation', 'selections')}\n",
      "\t1\n",
      "item found: kdiba_gor01_one_2006-6-08_14-26-15_DecodedEpochSlices_replays_long_results_obj_selections\n",
      "selections_array: [ 13  14  15  25  27  28  31  37  42  45  48  57  61  62  63  76  79  82\n",
      "  89  90 111 112 113 115]\n",
      "{('decoder', 'short_results_obj'), ('decoder', 'long_results_obj'), ('user_annotation', 'selections')}\n",
      "\t3\n",
      "{('user_annotation', 'selections')}\n",
      "\t1\n",
      "item found: kdiba_gor01_one_2006-6-08_14-26-15_DecodedEpochSlices_replays_short_results_obj_selections\n",
      "selections_array: [  9  11  13  14  15  20  22  25  37  40  45  48  61  62  76  79  84  89\n",
      "  90  93  94 111 112 113 115 121]\n"
     ]
    }
   ],
   "source": [
    "## Update the currently displayed selections with the user annotations:\n",
    "\n",
    "\n",
    "## Capture current user selection\n",
    "saved_selection_L = pagination_controller_L.save_selection()\n",
    "saved_selection_S = pagination_controller_S.save_selection()\n",
    "\n",
    "saved_selection_L = UserAnnotationsManager.update_selections_from_annotations(saved_selection_L, user_anootations)\n",
    "saved_selection_S = UserAnnotationsManager.update_selections_from_annotations(saved_selection_S, user_anootations)\n",
    "## re-apply the selections:\n",
    "pagination_controller_L.restore_selections(saved_selection_L)\n",
    "pagination_controller_S.restore_selections(saved_selection_S)\n"
   ]
  },
  {
   "cell_type": "code",
   "execution_count": 9,
   "id": "f8858abb",
   "metadata": {},
   "outputs": [],
   "source": [
    "# unit_colors_list = None # default rainbow of colors for the raster plots\n",
    "neuron_qcolors_list = [pg.mkColor('black') for aclu in EITHER_subset.track_exclusive_aclus] # solid green for all\n",
    "unit_colors_list = DataSeriesColorHelpers.qColorsList_to_NDarray(neuron_qcolors_list, is_255_array=True)\n",
    "\n",
    "# Copy and modify the colors for the cells that are long/short exclusive:\n",
    "unit_colors_list_L = deepcopy(unit_colors_list)\n",
    "is_L_exclusive = np.isin(EITHER_subset.track_exclusive_aclus, long_exclusive.track_exclusive_aclus) # get long exclusive\n",
    "unit_colors_list_L[0, is_L_exclusive] = 255 # [1.0, 0.0, 0.0, 1.0]\n",
    "unit_colors_list_L[1, is_L_exclusive] = 0.0\n",
    "unit_colors_list_L[2, is_L_exclusive] = 0.0\n",
    "\n",
    "unit_colors_list_S = deepcopy(unit_colors_list)\n",
    "is_S_exclusive = np.isin(EITHER_subset.track_exclusive_aclus, short_exclusive.track_exclusive_aclus) # get short exclusive\n",
    "unit_colors_list_S[0, is_S_exclusive] = 0.0 # [1.0, 0.0, 0.0, 1.0]\n",
    "unit_colors_list_S[1, is_S_exclusive] = 0.0\n",
    "unit_colors_list_S[2, is_S_exclusive] = 255.0\n",
    "\n",
    "override_scatter_plot_kwargs = None"
   ]
  },
  {
   "cell_type": "code",
   "execution_count": null,
   "id": "226bb530",
   "metadata": {},
   "outputs": [],
   "source": [
    "filter_epoch_spikes_df_L.spikes.rebuild_fragile_linear_neuron_IDXs()\n",
    "filter_epoch_spikes_df_S.spikes.rebuild_fragile_linear_neuron_IDXs()\n",
    "\n"
   ]
  },
  {
   "cell_type": "code",
   "execution_count": 10,
   "id": "b889b886",
   "metadata": {},
   "outputs": [],
   "source": [
    "app_L, win_L, plots_L, plots_data_L = plot_multiple_raster_plot(epochs_df_L, filter_epoch_spikes_df_L, included_neuron_ids=EITHER_subset.track_exclusive_aclus, unit_sort_order=new_all_aclus_sort_indicies, unit_colors_list=unit_colors_list, scatter_plot_kwargs=override_scatter_plot_kwargs,\n",
    "\t\t\t\t\t\t\t\t\t\tepoch_id_key_name='replay_epoch_id', scatter_app_name=\"Long Decoded Example Replays\")"
   ]
  },
  {
   "cell_type": "code",
   "execution_count": 11,
   "id": "ee132b60",
   "metadata": {},
   "outputs": [],
   "source": [
    "app_S, win_S, plots_S, plots_data_S = plot_multiple_raster_plot(epochs_df_S, filter_epoch_spikes_df_S, included_neuron_ids=EITHER_subset.track_exclusive_aclus, unit_sort_order=new_all_aclus_sort_indicies, unit_colors_list=unit_colors_list, scatter_plot_kwargs=override_scatter_plot_kwargs,\n",
    "                                                                 epoch_id_key_name='replay_epoch_id', scatter_app_name=\"Short Decoded Example Replays\")"
   ]
  },
  {
   "cell_type": "code",
   "execution_count": null,
   "id": "054cd7c8",
   "metadata": {},
   "outputs": [],
   "source": [
    "plot_item = list(plots_L.ax.values())[0]\n",
    "plot_item.showGrid(False, False, 100.0)"
   ]
  },
  {
   "cell_type": "code",
   "execution_count": null,
   "id": "c47918b2",
   "metadata": {},
   "outputs": [],
   "source": [
    "#TODO 2023-06-23 07:52: - [ ] This GridItem method seems to actually work unlike the other showGrid methods and stuff.\n",
    "# create a GridItem and add it to the plot\n",
    "grid = pg.GridItem()\n",
    "plot_item.addItem(grid)\n",
    " # set the properties of the grid\n",
    "grid.setTickSpacing([None], [1])\n",
    "grid.setPen(pg.mkPen('#888888', width=1))\n",
    "grid.setZValue(-100)"
   ]
  },
  {
   "cell_type": "code",
   "execution_count": null,
   "id": "dc1d40db",
   "metadata": {},
   "outputs": [],
   "source": []
  },
  {
   "cell_type": "code",
   "execution_count": null,
   "id": "d26dd0e4",
   "metadata": {},
   "outputs": [],
   "source": [
    "# Test single `plot_raster_plot` calls\n",
    "an_epoch = list(epochs_df_L.itertuples())[0]\n",
    "an_epoch_spikes_df = filter_epoch_spikes_df_L[filter_epoch_spikes_df_L['replay_epoch_id'] == an_epoch.Index]\n",
    "\n",
    "_out_single_raster_plot = plot_raster_plot(an_epoch_spikes_df, included_neuron_ids=EITHER_subset.track_exclusive_aclus, unit_sort_order=None, unit_colors_list=unit_colors_list, scatter_app_name=\"test1\")\n",
    "_out_single_raster_plot2 = plot_raster_plot(an_epoch_spikes_df, included_neuron_ids=EITHER_subset.track_exclusive_aclus, unit_sort_order=new_all_aclus_sort_indicies, unit_colors_list=unit_colors_list, scatter_app_name=\"test2\")"
   ]
  },
  {
   "cell_type": "code",
   "execution_count": null,
   "id": "fe6071c5",
   "metadata": {},
   "outputs": [],
   "source": [
    "app_alt, win_alt, plots_alt, plots_data_alt = plot_multiple_raster_plot(epochs_df_L, filter_epoch_spikes_df_L, included_neuron_ids=EITHER_subset.track_exclusive_aclus, unit_sort_order=None, unit_colors_list=unit_colors_list, scatter_plot_kwargs=override_scatter_plot_kwargs,\n",
    "                                                                         epoch_id_key_name='replay_epoch_id', scatter_app_name=\"ALT Long Decoded Example Replays\")"
   ]
  },
  {
   "attachments": {},
   "cell_type": "markdown",
   "id": "7d20407c",
   "metadata": {},
   "source": [
    "### Testing `plot_kourosh_activity_style_figure` for debugging:"
   ]
  },
  {
   "cell_type": "code",
   "execution_count": 25,
   "id": "69512447",
   "metadata": {},
   "outputs": [],
   "source": [
    "from pyphoplacecellanalysis.Analysis.Decoder.decoder_result import plot_kourosh_activity_style_figure\n",
    "\n",
    "# plot_aclus = EITHER_subset.track_exclusive_aclus.copy()\n",
    "plot_aclus = EITHER_subset.track_exclusive_aclus[new_all_aclus_sort_indicies].copy()\n",
    "_out_A = plot_kourosh_activity_style_figure(long_results_obj, long_session, plot_aclus, epoch_idx=13, callout_epoch_IDXs=None, skip_rendering_callouts=False)"
   ]
  },
  {
   "cell_type": "code",
   "execution_count": 17,
   "id": "326f29f6",
   "metadata": {},
   "outputs": [
    {
     "data": {
      "text/plain": [
       "RenderPlotsData({'name': 'Raster Epoch[13]', 'params': RasterPlotParams(center_mode='starting_at_zero', bin_position_mode='bin_center', side_bin_margins=0.0, neuron_qcolors=[<PyQt5.QtGui.QColor object at 0x0000029807DB05F0>, <PyQt5.QtGui.QColor object at 0x0000029807DB0660>, <PyQt5.QtGui.QColor object at 0x0000029807DB06D0>, <PyQt5.QtGui.QColor object at 0x0000029807DB0740>, <PyQt5.QtGui.QColor object at 0x0000029807DB07B0>, <PyQt5.QtGui.QColor object at 0x0000029807DB0820>, <PyQt5.QtGui.QColor object at 0x0000029807DB0890>, <PyQt5.QtGui.QColor object at 0x0000029807DB0900>, <PyQt5.QtGui.QColor object at 0x0000029807DB0970>, <PyQt5.QtGui.QColor object at 0x0000029807DB09E0>, <PyQt5.QtGui.QColor object at 0x0000029807DB0A50>, <PyQt5.QtGui.QColor object at 0x0000029807DB0AC0>, <PyQt5.QtGui.QColor object at 0x0000029807DB0B30>, <PyQt5.QtGui.QColor object at 0x0000029807DB0BA0>, <PyQt5.QtGui.QColor object at 0x0000029807DB0C10>, <PyQt5.QtGui.QColor object at 0x0000029807DB0C80>, <PyQt5.QtGui.QColor object at 0x0000029807DB0CF0>, <PyQt5.QtGui.QColor object at 0x0000029807DB0D60>, <PyQt5.QtGui.QColor object at 0x0000029807DB0DD0>, <PyQt5.QtGui.QColor object at 0x0000029807DB0E40>, <PyQt5.QtGui.QColor object at 0x0000029807DB0EB0>, <PyQt5.QtGui.QColor object at 0x0000029807DB0F20>, <PyQt5.QtGui.QColor object at 0x0000029807DB0F90>, <PyQt5.QtGui.QColor object at 0x00000298090F7F90>, <PyQt5.QtGui.QColor object at 0x00000298090F7F20>, <PyQt5.QtGui.QColor object at 0x00000298090F7EB0>, <PyQt5.QtGui.QColor object at 0x00000298090F7E40>, <PyQt5.QtGui.QColor object at 0x00000298090F7DD0>, <PyQt5.QtGui.QColor object at 0x00000298090F7D60>, <PyQt5.QtGui.QColor object at 0x00000298090F7CF0>, <PyQt5.QtGui.QColor object at 0x00000298090F7C80>, <PyQt5.QtGui.QColor object at 0x00000298090F7C10>, <PyQt5.QtGui.QColor object at 0x00000298090F7BA0>, <PyQt5.QtGui.QColor object at 0x00000298090F7B30>, <PyQt5.QtGui.QColor object at 0x00000298090F7AC0>, <PyQt5.QtGui.QColor object at 0x00000298090F7A50>, <PyQt5.QtGui.QColor object at 0x00000298090F79E0>, <PyQt5.QtGui.QColor object at 0x00000298090F7970>, <PyQt5.QtGui.QColor object at 0x00000298090F7900>, <PyQt5.QtGui.QColor object at 0x00000298090F7890>, <PyQt5.QtGui.QColor object at 0x00000298090F7820>, <PyQt5.QtGui.QColor object at 0x00000298090F77B0>, <PyQt5.QtGui.QColor object at 0x00000298090F7740>, <PyQt5.QtGui.QColor object at 0x00000298090F76D0>, <PyQt5.QtGui.QColor object at 0x00000298090F7660>, <PyQt5.QtGui.QColor object at 0x00000298090F75F0>, <PyQt5.QtGui.QColor object at 0x00000298090F7580>, <PyQt5.QtGui.QColor object at 0x00000298090F7510>, <PyQt5.QtGui.QColor object at 0x00000298090F74A0>, <PyQt5.QtGui.QColor object at 0x00000298090F7430>, <PyQt5.QtGui.QColor object at 0x00000298090F73C0>, <PyQt5.QtGui.QColor object at 0x00000298090F7350>, <PyQt5.QtGui.QColor object at 0x00000298090F72E0>, <PyQt5.QtGui.QColor object at 0x00000298090F7270>, <PyQt5.QtGui.QColor object at 0x00000298090F7200>, <PyQt5.QtGui.QColor object at 0x00000298090F7190>, <PyQt5.QtGui.QColor object at 0x00000298090F7120>, <PyQt5.QtGui.QColor object at 0x00000298090F70B0>, <PyQt5.QtGui.QColor object at 0x00000298090F7040>, <PyQt5.QtGui.QColor object at 0x00000298090FB040>, <PyQt5.QtGui.QColor object at 0x00000298090FB0B0>, <PyQt5.QtGui.QColor object at 0x00000298090FB120>, <PyQt5.QtGui.QColor object at 0x00000298090FB190>, <PyQt5.QtGui.QColor object at 0x00000298090FB200>, <PyQt5.QtGui.QColor object at 0x00000298090FB270>, <PyQt5.QtGui.QColor object at 0x00000298090FB2E0>, <PyQt5.QtGui.QColor object at 0x00000298090FB350>, <PyQt5.QtGui.QColor object at 0x00000298090FB3C0>], neuron_colors=array([[1.        , 1.        , 1.        , 1.        , 1.        ,\n",
       "        1.        , 1.        , 1.        , 1.        , 1.        ,\n",
       "        1.        , 1.        , 1.        , 1.        , 1.        ,\n",
       "        0.98431373, 0.91764706, 0.85098039, 0.78431373, 0.71764706,\n",
       "        0.65098039, 0.58431373, 0.50196078, 0.43529412, 0.36862745,\n",
       "        0.30196078, 0.23529412, 0.16862745, 0.10196078, 0.03529412,\n",
       "        0.        , 0.        , 0.        , 0.        , 0.        ,\n",
       "        0.        , 0.        , 0.        , 0.        , 0.        ,\n",
       "        0.        , 0.        , 0.        , 0.        , 0.        ,\n",
       "        0.        , 0.        , 0.        , 0.        , 0.        ,\n",
       "        0.        , 0.        , 0.        , 0.        , 0.        ,\n",
       "        0.        , 0.        , 0.        , 0.        , 0.01568627,\n",
       "        0.08235294, 0.14901961, 0.21568627, 0.28235294, 0.34901961,\n",
       "        0.41568627, 0.50196078, 0.56470588],\n",
       "       [0.        , 0.06666667, 0.13333333, 0.2       , 0.26666667,\n",
       "        0.33333333, 0.4       , 0.46666667, 0.53333333, 0.6       ,\n",
       "        0.66666667, 0.74901961, 0.81568627, 0.88235294, 0.94901961,\n",
       "        1.        , 1.        , 1.        , 1.        , 1.        ,\n",
       "        1.        , 1.        , 1.        , 1.        , 1.        ,\n",
       "        1.        , 1.        , 1.        , 1.        , 1.        ,\n",
       "        1.        , 1.        , 1.        , 1.        , 1.        ,\n",
       "        1.        , 1.        , 1.        , 1.        , 1.        ,\n",
       "        1.        , 1.        , 1.        , 1.        , 1.        ,\n",
       "        0.93333333, 0.86666667, 0.8       , 0.73333333, 0.66666667,\n",
       "        0.6       , 0.53333333, 0.46666667, 0.4       , 0.33333333,\n",
       "        0.25098039, 0.18431373, 0.11764706, 0.05098039, 0.        ,\n",
       "        0.        , 0.        , 0.        , 0.        , 0.        ,\n",
       "        0.        , 0.        , 0.        ],\n",
       "       [0.        , 0.        , 0.        , 0.        , 0.        ,\n",
       "        0.        , 0.        , 0.        , 0.        , 0.        ,\n",
       "        0.        , 0.        , 0.        , 0.        , 0.        ,\n",
       "        0.        , 0.        , 0.        , 0.        , 0.        ,\n",
       "        0.        , 0.        , 0.        , 0.        , 0.        ,\n",
       "        0.        , 0.        , 0.        , 0.        , 0.        ,\n",
       "        0.03137255, 0.10196078, 0.16470588, 0.25098039, 0.31764706,\n",
       "        0.38431373, 0.45098039, 0.51764706, 0.58431373, 0.65098039,\n",
       "        0.71764706, 0.78431373, 0.85098039, 0.91764706, 1.        ,\n",
       "        1.        , 1.        , 1.        , 1.        , 1.        ,\n",
       "        1.        , 1.        , 1.        , 1.        , 1.        ,\n",
       "        1.        , 1.        , 1.        , 1.        , 1.        ,\n",
       "        1.        , 1.        , 1.        , 1.        , 1.        ,\n",
       "        1.        , 1.        , 1.        ],\n",
       "       [0.50196078, 0.50196078, 0.50196078, 0.50196078, 0.50196078,\n",
       "        0.50196078, 0.50196078, 0.50196078, 0.50196078, 0.50196078,\n",
       "        0.50196078, 0.50196078, 0.50196078, 0.50196078, 0.50196078,\n",
       "        0.50196078, 0.50196078, 0.50196078, 0.50196078, 0.50196078,\n",
       "        0.50196078, 0.50196078, 0.50196078, 0.50196078, 0.50196078,\n",
       "        0.50196078, 0.50196078, 0.50196078, 0.50196078, 0.50196078,\n",
       "        0.50196078, 0.50196078, 0.50196078, 0.50196078, 0.50196078,\n",
       "        0.50196078, 0.50196078, 0.50196078, 0.50196078, 0.50196078,\n",
       "        0.50196078, 0.50196078, 0.50196078, 0.50196078, 0.50196078,\n",
       "        0.50196078, 0.50196078, 0.50196078, 0.50196078, 0.50196078,\n",
       "        0.50196078, 0.50196078, 0.50196078, 0.50196078, 0.50196078,\n",
       "        0.50196078, 0.50196078, 0.50196078, 0.50196078, 0.50196078,\n",
       "        0.50196078, 0.50196078, 0.50196078, 0.50196078, 0.50196078,\n",
       "        0.50196078, 0.50196078, 0.50196078]]), neuron_colors_hex=['#ff0000', '#ff1100', '#ff2200', '#ff3300', '#ff4400', '#ff5500', '#ff6600', '#ff7700', '#ff8800', '#ff9900', '#ffaa00', '#ffbf00', '#ffd000', '#ffe100', '#fff200', '#fbff00', '#eaff00', '#d9ff00', '#c8ff00', '#b7ff00', '#a6ff00', '#95ff00', '#80ff00', '#6fff00', '#5eff00', '#4dff00', '#3cff00', '#2bff00', '#1aff00', '#09ff00', '#00ff08', '#00ff1a', '#00ff2a', '#00ff40', '#00ff51', '#00ff62', '#00ff73', '#00ff84', '#00ff95', '#00ffa6', '#00ffb7', '#00ffc8', '#00ffd9', '#00ffea', '#00ffff', '#00eeff', '#00ddff', '#00ccff', '#00bbff', '#00aaff', '#0099ff', '#0088ff', '#0077ff', '#0066ff', '#0055ff', '#0040ff', '#002fff', '#001eff', '#000dff', '#0400ff', '#1500ff', '#2600ff', '#3700ff', '#4800ff', '#5900ff', '#6a00ff', '#8000ff', '#9000ff'], neuron_qcolors_map={0: <PyQt5.QtGui.QColor object at 0x00000298090FA0B0>, 1: <PyQt5.QtGui.QColor object at 0x00000298090FA120>, 2: <PyQt5.QtGui.QColor object at 0x00000298090FA190>, 3: <PyQt5.QtGui.QColor object at 0x00000298090FA200>, 4: <PyQt5.QtGui.QColor object at 0x00000298090FA270>, 5: <PyQt5.QtGui.QColor object at 0x00000298090FA2E0>, 6: <PyQt5.QtGui.QColor object at 0x00000298090FA350>, 7: <PyQt5.QtGui.QColor object at 0x00000298090FA3C0>, 8: <PyQt5.QtGui.QColor object at 0x00000298090FA430>, 9: <PyQt5.QtGui.QColor object at 0x00000298090FA4A0>, 10: <PyQt5.QtGui.QColor object at 0x00000298090FA510>, 11: <PyQt5.QtGui.QColor object at 0x00000298090FA580>, 12: <PyQt5.QtGui.QColor object at 0x00000298090F97B0>, 13: <PyQt5.QtGui.QColor object at 0x00000298090F9820>, 14: <PyQt5.QtGui.QColor object at 0x00000298090F9890>, 15: <PyQt5.QtGui.QColor object at 0x00000298090F9900>, 16: <PyQt5.QtGui.QColor object at 0x00000298090F9970>, 17: <PyQt5.QtGui.QColor object at 0x00000298090F99E0>, 18: <PyQt5.QtGui.QColor object at 0x00000298090F9A50>, 19: <PyQt5.QtGui.QColor object at 0x00000298090F9AC0>, 20: <PyQt5.QtGui.QColor object at 0x00000298090F9B30>, 21: <PyQt5.QtGui.QColor object at 0x00000298090F9BA0>, 22: <PyQt5.QtGui.QColor object at 0x00000298090F9C10>, 23: <PyQt5.QtGui.QColor object at 0x00000298090F9C80>, 24: <PyQt5.QtGui.QColor object at 0x00000298090F9CF0>, 25: <PyQt5.QtGui.QColor object at 0x00000298090F9D60>, 26: <PyQt5.QtGui.QColor object at 0x00000298090F9DD0>, 27: <PyQt5.QtGui.QColor object at 0x00000298090F9E40>, 28: <PyQt5.QtGui.QColor object at 0x00000298090F9EB0>, 29: <PyQt5.QtGui.QColor object at 0x00000298090F9F20>, 30: <PyQt5.QtGui.QColor object at 0x00000298090F9F90>, 31: <PyQt5.QtGui.QColor object at 0x00000298090F9740>, 32: <PyQt5.QtGui.QColor object at 0x00000298090FB430>, 33: <PyQt5.QtGui.QColor object at 0x00000298090FB4A0>, 34: <PyQt5.QtGui.QColor object at 0x00000298090FB510>, 35: <PyQt5.QtGui.QColor object at 0x00000298090FB580>, 36: <PyQt5.QtGui.QColor object at 0x00000298090FB5F0>, 37: <PyQt5.QtGui.QColor object at 0x00000298090FB660>, 38: <PyQt5.QtGui.QColor object at 0x00000298090FB6D0>, 39: <PyQt5.QtGui.QColor object at 0x00000298090FB740>, 40: <PyQt5.QtGui.QColor object at 0x00000298090FB7B0>, 41: <PyQt5.QtGui.QColor object at 0x00000298090FB820>, 42: <PyQt5.QtGui.QColor object at 0x00000298090FB890>, 43: <PyQt5.QtGui.QColor object at 0x00000298090FB900>, 44: <PyQt5.QtGui.QColor object at 0x00000298090FB970>, 45: <PyQt5.QtGui.QColor object at 0x00000298090FB9E0>, 46: <PyQt5.QtGui.QColor object at 0x00000298090FBA50>, 47: <PyQt5.QtGui.QColor object at 0x00000298090FBAC0>, 48: <PyQt5.QtGui.QColor object at 0x00000298090FBB30>, 49: <PyQt5.QtGui.QColor object at 0x00000298090FBBA0>, 50: <PyQt5.QtGui.QColor object at 0x00000298090FBC10>, 51: <PyQt5.QtGui.QColor object at 0x00000298090FBC80>, 52: <PyQt5.QtGui.QColor object at 0x00000298090FBCF0>, 53: <PyQt5.QtGui.QColor object at 0x00000298090FBD60>, 54: <PyQt5.QtGui.QColor object at 0x00000298090FBDD0>, 55: <PyQt5.QtGui.QColor object at 0x00000298090FBE40>, 56: <PyQt5.QtGui.QColor object at 0x00000298090FBEB0>, 57: <PyQt5.QtGui.QColor object at 0x00000298090FBF20>, 58: <PyQt5.QtGui.QColor object at 0x00000298090FBF90>, 59: <PyQt5.QtGui.QColor object at 0x0000029807DDE040>, 60: <PyQt5.QtGui.QColor object at 0x0000029807DDE0B0>, 61: <PyQt5.QtGui.QColor object at 0x0000029807DDE120>, 62: <PyQt5.QtGui.QColor object at 0x0000029807DDE190>, 63: <PyQt5.QtGui.QColor object at 0x0000029807DDE200>, 64: <PyQt5.QtGui.QColor object at 0x0000029807DDE270>, 65: <PyQt5.QtGui.QColor object at 0x0000029807DDE2E0>, 66: <PyQt5.QtGui.QColor object at 0x0000029807DDE350>, 67: <PyQt5.QtGui.QColor object at 0x0000029807DDE3C0>}, config_items=IndexedOrderedDict([(87, (None, None, {<SpikeEmphasisState.Hidden: 0>: <PyQt5.QtGui.QPen object at 0x0000029807DB0430>, <SpikeEmphasisState.Deemphasized: 1>: <PyQt5.QtGui.QPen object at 0x0000029807DB03C0>, <SpikeEmphasisState.Default: 2>: <PyQt5.QtGui.QPen object at 0x0000029807DB0350>, <SpikeEmphasisState.Emphasized: 3>: <PyQt5.QtGui.QPen object at 0x0000029807DB02E0>}, None, None)), (102, (None, None, {<SpikeEmphasisState.Hidden: 0>: <PyQt5.QtGui.QPen object at 0x0000029807DB0270>, <SpikeEmphasisState.Deemphasized: 1>: <PyQt5.QtGui.QPen object at 0x0000029807DB0200>, <SpikeEmphasisState.Default: 2>: <PyQt5.QtGui.QPen object at 0x0000029807DB0190>, <SpikeEmphasisState.Emphasized: 3>: <PyQt5.QtGui.QPen object at 0x0000029807DB0120>}, None, None)), (68, (None, None, {<SpikeEmphasisState.Hidden: 0>: <PyQt5.QtGui.QPen object at 0x0000029807DB00B0>, <SpikeEmphasisState.Deemphasized: 1>: <PyQt5.QtGui.QPen object at 0x0000029807DB0040>, <SpikeEmphasisState.Default: 2>: <PyQt5.QtGui.QPen object at 0x00000298090F9040>, <SpikeEmphasisState.Emphasized: 3>: <PyQt5.QtGui.QPen object at 0x00000298090F90B0>}, None, None)), (34, (None, None, {<SpikeEmphasisState.Hidden: 0>: <PyQt5.QtGui.QPen object at 0x00000298090F9120>, <SpikeEmphasisState.Deemphasized: 1>: <PyQt5.QtGui.QPen object at 0x00000298090F9190>, <SpikeEmphasisState.Default: 2>: <PyQt5.QtGui.QPen object at 0x00000298090F9200>, <SpikeEmphasisState.Emphasized: 3>: <PyQt5.QtGui.QPen object at 0x00000298090F9270>}, None, None)), (54, (None, None, {<SpikeEmphasisState.Hidden: 0>: <PyQt5.QtGui.QPen object at 0x00000298090F92E0>, <SpikeEmphasisState.Deemphasized: 1>: <PyQt5.QtGui.QPen object at 0x00000298090F9350>, <SpikeEmphasisState.Default: 2>: <PyQt5.QtGui.QPen object at 0x00000298090F93C0>, <SpikeEmphasisState.Emphasized: 3>: <PyQt5.QtGui.QPen object at 0x00000298090F9430>}, None, None)), (74, (None, None, {<SpikeEmphasisState.Hidden: 0>: <PyQt5.QtGui.QPen object at 0x00000298090F94A0>, <SpikeEmphasisState.Deemphasized: 1>: <PyQt5.QtGui.QPen object at 0x00000298090F9510>, <SpikeEmphasisState.Default: 2>: <PyQt5.QtGui.QPen object at 0x00000298090F9580>, <SpikeEmphasisState.Emphasized: 3>: <PyQt5.QtGui.QPen object at 0x00000298090F95F0>}, None, None)), (86, (None, None, {<SpikeEmphasisState.Hidden: 0>: <PyQt5.QtGui.QPen object at 0x00000298090F9660>, <SpikeEmphasisState.Deemphasized: 1>: <PyQt5.QtGui.QPen object at 0x00000298090F96D0>, <SpikeEmphasisState.Default: 2>: <PyQt5.QtGui.QPen object at 0x0000029807DC5AC0>, <SpikeEmphasisState.Emphasized: 3>: <PyQt5.QtGui.QPen object at 0x0000029807DC5A50>}, None, None)), (51, (None, None, {<SpikeEmphasisState.Hidden: 0>: <PyQt5.QtGui.QPen object at 0x0000029807DC59E0>, <SpikeEmphasisState.Deemphasized: 1>: <PyQt5.QtGui.QPen object at 0x0000029807DC5970>, <SpikeEmphasisState.Default: 2>: <PyQt5.QtGui.QPen object at 0x0000029807DC5900>, <SpikeEmphasisState.Emphasized: 3>: <PyQt5.QtGui.QPen object at 0x0000029807DC5890>}, None, None)), (92, (None, None, {<SpikeEmphasisState.Hidden: 0>: <PyQt5.QtGui.QPen object at 0x0000029807DC5820>, <SpikeEmphasisState.Deemphasized: 1>: <PyQt5.QtGui.QPen object at 0x0000029807DC57B0>, <SpikeEmphasisState.Default: 2>: <PyQt5.QtGui.QPen object at 0x0000029807DC5740>, <SpikeEmphasisState.Emphasized: 3>: <PyQt5.QtGui.QPen object at 0x0000029807DC56D0>}, None, None)), (109, (None, None, {<SpikeEmphasisState.Hidden: 0>: <PyQt5.QtGui.QPen object at 0x0000029807DC5660>, <SpikeEmphasisState.Deemphasized: 1>: <PyQt5.QtGui.QPen object at 0x0000029807DC55F0>, <SpikeEmphasisState.Default: 2>: <PyQt5.QtGui.QPen object at 0x0000029807DC5580>, <SpikeEmphasisState.Emphasized: 3>: <PyQt5.QtGui.QPen object at 0x0000029807DC54A0>}, None, None)), (63, (None, None, {<SpikeEmphasisState.Hidden: 0>: <PyQt5.QtGui.QPen object at 0x0000029807DC5510>, <SpikeEmphasisState.Deemphasized: 1>: <PyQt5.QtGui.QPen object at 0x0000029807DC52E0>, <SpikeEmphasisState.Default: 2>: <PyQt5.QtGui.QPen object at 0x0000029807DC5430>, <SpikeEmphasisState.Emphasized: 3>: <PyQt5.QtGui.QPen object at 0x0000029807DC53C0>}, None, None)), (5, (None, None, {<SpikeEmphasisState.Hidden: 0>: <PyQt5.QtGui.QPen object at 0x0000029807DC5350>, <SpikeEmphasisState.Deemphasized: 1>: <PyQt5.QtGui.QPen object at 0x0000029807DC5270>, <SpikeEmphasisState.Default: 2>: <PyQt5.QtGui.QPen object at 0x0000029807DC5200>, <SpikeEmphasisState.Emphasized: 3>: <PyQt5.QtGui.QPen object at 0x0000029807DC5040>}, None, None)), (83, (None, None, {<SpikeEmphasisState.Hidden: 0>: <PyQt5.QtGui.QPen object at 0x0000029807DC50B0>, <SpikeEmphasisState.Deemphasized: 1>: <PyQt5.QtGui.QPen object at 0x0000029807DC5190>, <SpikeEmphasisState.Default: 2>: <PyQt5.QtGui.QPen object at 0x0000029807DC5120>, <SpikeEmphasisState.Emphasized: 3>: <PyQt5.QtGui.QPen object at 0x0000029807BACF90>}, None, None)), (24, (None, None, {<SpikeEmphasisState.Hidden: 0>: <PyQt5.QtGui.QPen object at 0x0000029807BACE40>, <SpikeEmphasisState.Deemphasized: 1>: <PyQt5.QtGui.QPen object at 0x0000029807BACDD0>, <SpikeEmphasisState.Default: 2>: <PyQt5.QtGui.QPen object at 0x0000029807BACEB0>, <SpikeEmphasisState.Emphasized: 3>: <PyQt5.QtGui.QPen object at 0x0000029807BACF20>}, None, None)), (96, (None, None, {<SpikeEmphasisState.Hidden: 0>: <PyQt5.QtGui.QPen object at 0x0000029807BACD60>, <SpikeEmphasisState.Deemphasized: 1>: <PyQt5.QtGui.QPen object at 0x0000029807DDF0B0>, <SpikeEmphasisState.Default: 2>: <PyQt5.QtGui.QPen object at 0x0000029807DDFA50>, <SpikeEmphasisState.Emphasized: 3>: <PyQt5.QtGui.QPen object at 0x0000029807DDF900>}, None, None)), (69, (None, None, {<SpikeEmphasisState.Hidden: 0>: <PyQt5.QtGui.QPen object at 0x0000029807DDF970>, <SpikeEmphasisState.Deemphasized: 1>: <PyQt5.QtGui.QPen object at 0x0000029807DDF9E0>, <SpikeEmphasisState.Default: 2>: <PyQt5.QtGui.QPen object at 0x0000029807DDFB30>, <SpikeEmphasisState.Emphasized: 3>: <PyQt5.QtGui.QPen object at 0x0000029807DDFBA0>}, None, None)), (93, (None, None, {<SpikeEmphasisState.Hidden: 0>: <PyQt5.QtGui.QPen object at 0x0000029807DDFC10>, <SpikeEmphasisState.Deemphasized: 1>: <PyQt5.QtGui.QPen object at 0x0000029807DDFC80>, <SpikeEmphasisState.Default: 2>: <PyQt5.QtGui.QPen object at 0x0000029807DDFCF0>, <SpikeEmphasisState.Emphasized: 3>: <PyQt5.QtGui.QPen object at 0x0000029807DDFD60>}, None, None)), (49, (None, None, {<SpikeEmphasisState.Hidden: 0>: <PyQt5.QtGui.QPen object at 0x0000029807DDFDD0>, <SpikeEmphasisState.Deemphasized: 1>: <PyQt5.QtGui.QPen object at 0x0000029807DDFE40>, <SpikeEmphasisState.Default: 2>: <PyQt5.QtGui.QPen object at 0x0000029807DDFEB0>, <SpikeEmphasisState.Emphasized: 3>: <PyQt5.QtGui.QPen object at 0x0000029807DDFF20>}, None, None)), (15, (None, None, {<SpikeEmphasisState.Hidden: 0>: <PyQt5.QtGui.QPen object at 0x0000029807DDFF90>, <SpikeEmphasisState.Deemphasized: 1>: <PyQt5.QtGui.QPen object at 0x0000029807DDF820>, <SpikeEmphasisState.Default: 2>: <PyQt5.QtGui.QPen object at 0x00000298090FAF90>, <SpikeEmphasisState.Emphasized: 3>: <PyQt5.QtGui.QPen object at 0x00000298090FAF20>}, None, None)), (26, (None, None, {<SpikeEmphasisState.Hidden: 0>: <PyQt5.QtGui.QPen object at 0x00000298090FAEB0>, <SpikeEmphasisState.Deemphasized: 1>: <PyQt5.QtGui.QPen object at 0x00000298090FAE40>, <SpikeEmphasisState.Default: 2>: <PyQt5.QtGui.QPen object at 0x00000298090FADD0>, <SpikeEmphasisState.Emphasized: 3>: <PyQt5.QtGui.QPen object at 0x00000298090FAD60>}, None, None)), (32, (None, None, {<SpikeEmphasisState.Hidden: 0>: <PyQt5.QtGui.QPen object at 0x00000298090FACF0>, <SpikeEmphasisState.Deemphasized: 1>: <PyQt5.QtGui.QPen object at 0x00000298090FAC80>, <SpikeEmphasisState.Default: 2>: <PyQt5.QtGui.QPen object at 0x00000298090FAC10>, <SpikeEmphasisState.Emphasized: 3>: <PyQt5.QtGui.QPen object at 0x00000298090FABA0>}, None, None)), (14, (None, None, {<SpikeEmphasisState.Hidden: 0>: <PyQt5.QtGui.QPen object at 0x00000298090FAB30>, <SpikeEmphasisState.Deemphasized: 1>: <PyQt5.QtGui.QPen object at 0x00000298090FAAC0>, <SpikeEmphasisState.Default: 2>: <PyQt5.QtGui.QPen object at 0x00000298090FAA50>, <SpikeEmphasisState.Emphasized: 3>: <PyQt5.QtGui.QPen object at 0x00000298090FA9E0>}, None, None)), (31, (None, None, {<SpikeEmphasisState.Hidden: 0>: <PyQt5.QtGui.QPen object at 0x00000298090FA970>, <SpikeEmphasisState.Deemphasized: 1>: <PyQt5.QtGui.QPen object at 0x00000298090FA900>, <SpikeEmphasisState.Default: 2>: <PyQt5.QtGui.QPen object at 0x00000298090FA890>, <SpikeEmphasisState.Emphasized: 3>: <PyQt5.QtGui.QPen object at 0x00000298090FA820>}, None, None)), (33, (None, None, {<SpikeEmphasisState.Hidden: 0>: <PyQt5.QtGui.QPen object at 0x00000298090FA7B0>, <SpikeEmphasisState.Deemphasized: 1>: <PyQt5.QtGui.QPen object at 0x00000298090FA740>, <SpikeEmphasisState.Default: 2>: <PyQt5.QtGui.QPen object at 0x00000298090FA6D0>, <SpikeEmphasisState.Emphasized: 3>: <PyQt5.QtGui.QPen object at 0x00000298090FA660>}, None, None)), (55, (None, None, {<SpikeEmphasisState.Hidden: 0>: <PyQt5.QtGui.QPen object at 0x00000298090FA5F0>, <SpikeEmphasisState.Deemphasized: 1>: <PyQt5.QtGui.QPen object at 0x00000298090FA040>, <SpikeEmphasisState.Default: 2>: <PyQt5.QtGui.QPen object at 0x0000029807DDE430>, <SpikeEmphasisState.Emphasized: 3>: <PyQt5.QtGui.QPen object at 0x0000029807DDE4A0>}, None, None)), (76, (None, None, {<SpikeEmphasisState.Hidden: 0>: <PyQt5.QtGui.QPen object at 0x0000029807DDE510>, <SpikeEmphasisState.Deemphasized: 1>: <PyQt5.QtGui.QPen object at 0x0000029807DDE580>, <SpikeEmphasisState.Default: 2>: <PyQt5.QtGui.QPen object at 0x0000029807DDE5F0>, <SpikeEmphasisState.Emphasized: 3>: <PyQt5.QtGui.QPen object at 0x0000029807DDE660>}, None, None)), (3, (None, None, {<SpikeEmphasisState.Hidden: 0>: <PyQt5.QtGui.QPen object at 0x0000029807DDE6D0>, <SpikeEmphasisState.Deemphasized: 1>: <PyQt5.QtGui.QPen object at 0x0000029807DDE740>, <SpikeEmphasisState.Default: 2>: <PyQt5.QtGui.QPen object at 0x0000029807DDE7B0>, <SpikeEmphasisState.Emphasized: 3>: <PyQt5.QtGui.QPen object at 0x0000029807DDE820>}, None, None)), (25, (None, None, {<SpikeEmphasisState.Hidden: 0>: <PyQt5.QtGui.QPen object at 0x0000029807DDE890>, <SpikeEmphasisState.Deemphasized: 1>: <PyQt5.QtGui.QPen object at 0x0000029807DDE900>, <SpikeEmphasisState.Default: 2>: <PyQt5.QtGui.QPen object at 0x0000029807DDE970>, <SpikeEmphasisState.Emphasized: 3>: <PyQt5.QtGui.QPen object at 0x0000029807DDE9E0>}, None, None)), (50, (None, None, {<SpikeEmphasisState.Hidden: 0>: <PyQt5.QtGui.QPen object at 0x0000029807DDEA50>, <SpikeEmphasisState.Deemphasized: 1>: <PyQt5.QtGui.QPen object at 0x0000029807DDEAC0>, <SpikeEmphasisState.Default: 2>: <PyQt5.QtGui.QPen object at 0x0000029807DDEB30>, <SpikeEmphasisState.Emphasized: 3>: <PyQt5.QtGui.QPen object at 0x0000029807DDEBA0>}, None, None)), (82, (None, None, {<SpikeEmphasisState.Hidden: 0>: <PyQt5.QtGui.QPen object at 0x0000029807DDEC10>, <SpikeEmphasisState.Deemphasized: 1>: <PyQt5.QtGui.QPen object at 0x0000029807DDEC80>, <SpikeEmphasisState.Default: 2>: <PyQt5.QtGui.QPen object at 0x0000029807DDECF0>, <SpikeEmphasisState.Emphasized: 3>: <PyQt5.QtGui.QPen object at 0x0000029807DDED60>}, None, None)), (10, (None, None, {<SpikeEmphasisState.Hidden: 0>: <PyQt5.QtGui.QPen object at 0x0000029807DDEDD0>, <SpikeEmphasisState.Deemphasized: 1>: <PyQt5.QtGui.QPen object at 0x0000029807DDEE40>, <SpikeEmphasisState.Default: 2>: <PyQt5.QtGui.QPen object at 0x0000029807DDEEB0>, <SpikeEmphasisState.Emphasized: 3>: <PyQt5.QtGui.QPen object at 0x0000029807DDEF20>}, None, None)), (78, (None, None, {<SpikeEmphasisState.Hidden: 0>: <PyQt5.QtGui.QPen object at 0x0000029807DDEF90>, <SpikeEmphasisState.Deemphasized: 1>: <PyQt5.QtGui.QPen object at 0x00000298090FCF90>, <SpikeEmphasisState.Default: 2>: <PyQt5.QtGui.QPen object at 0x00000298090FCF20>, <SpikeEmphasisState.Emphasized: 3>: <PyQt5.QtGui.QPen object at 0x00000298090FCEB0>}, None, None)), (90, (None, None, {<SpikeEmphasisState.Hidden: 0>: <PyQt5.QtGui.QPen object at 0x00000298090FCE40>, <SpikeEmphasisState.Deemphasized: 1>: <PyQt5.QtGui.QPen object at 0x00000298090FCDD0>, <SpikeEmphasisState.Default: 2>: <PyQt5.QtGui.QPen object at 0x00000298090FCD60>, <SpikeEmphasisState.Emphasized: 3>: <PyQt5.QtGui.QPen object at 0x00000298090FCCF0>}, None, None)), (64, (None, None, {<SpikeEmphasisState.Hidden: 0>: <PyQt5.QtGui.QPen object at 0x00000298090FCC80>, <SpikeEmphasisState.Deemphasized: 1>: <PyQt5.QtGui.QPen object at 0x00000298090FCC10>, <SpikeEmphasisState.Default: 2>: <PyQt5.QtGui.QPen object at 0x00000298090FCBA0>, <SpikeEmphasisState.Emphasized: 3>: <PyQt5.QtGui.QPen object at 0x00000298090FCB30>}, None, None)), (61, (None, None, {<SpikeEmphasisState.Hidden: 0>: <PyQt5.QtGui.QPen object at 0x00000298090FCAC0>, <SpikeEmphasisState.Deemphasized: 1>: <PyQt5.QtGui.QPen object at 0x00000298090FCA50>, <SpikeEmphasisState.Default: 2>: <PyQt5.QtGui.QPen object at 0x00000298090FC9E0>, <SpikeEmphasisState.Emphasized: 3>: <PyQt5.QtGui.QPen object at 0x00000298090FC970>}, None, None)), (75, (None, None, {<SpikeEmphasisState.Hidden: 0>: <PyQt5.QtGui.QPen object at 0x00000298090FC900>, <SpikeEmphasisState.Deemphasized: 1>: <PyQt5.QtGui.QPen object at 0x00000298090FC890>, <SpikeEmphasisState.Default: 2>: <PyQt5.QtGui.QPen object at 0x00000298090FC820>, <SpikeEmphasisState.Emphasized: 3>: <PyQt5.QtGui.QPen object at 0x00000298090FC7B0>}, None, None)), (8, (None, None, {<SpikeEmphasisState.Hidden: 0>: <PyQt5.QtGui.QPen object at 0x00000298090FC740>, <SpikeEmphasisState.Deemphasized: 1>: <PyQt5.QtGui.QPen object at 0x00000298090FC6D0>, <SpikeEmphasisState.Default: 2>: <PyQt5.QtGui.QPen object at 0x00000298090FC660>, <SpikeEmphasisState.Emphasized: 3>: <PyQt5.QtGui.QPen object at 0x00000298090FC5F0>}, None, None)), (85, (None, None, {<SpikeEmphasisState.Hidden: 0>: <PyQt5.QtGui.QPen object at 0x00000298090FC580>, <SpikeEmphasisState.Deemphasized: 1>: <PyQt5.QtGui.QPen object at 0x00000298090FC510>, <SpikeEmphasisState.Default: 2>: <PyQt5.QtGui.QPen object at 0x00000298090FC4A0>, <SpikeEmphasisState.Emphasized: 3>: <PyQt5.QtGui.QPen object at 0x00000298090FC430>}, None, None)), (2, (None, None, {<SpikeEmphasisState.Hidden: 0>: <PyQt5.QtGui.QPen object at 0x00000298090FC3C0>, <SpikeEmphasisState.Deemphasized: 1>: <PyQt5.QtGui.QPen object at 0x00000298090FC350>, <SpikeEmphasisState.Default: 2>: <PyQt5.QtGui.QPen object at 0x00000298090FC2E0>, <SpikeEmphasisState.Emphasized: 3>: <PyQt5.QtGui.QPen object at 0x00000298090FC270>}, None, None)), (41, (None, None, {<SpikeEmphasisState.Hidden: 0>: <PyQt5.QtGui.QPen object at 0x00000298090FC200>, <SpikeEmphasisState.Deemphasized: 1>: <PyQt5.QtGui.QPen object at 0x00000298090FC190>, <SpikeEmphasisState.Default: 2>: <PyQt5.QtGui.QPen object at 0x00000298090FC120>, <SpikeEmphasisState.Emphasized: 3>: <PyQt5.QtGui.QPen object at 0x00000298090FC0B0>}, None, None)), (73, (None, None, {<SpikeEmphasisState.Hidden: 0>: <PyQt5.QtGui.QPen object at 0x00000298090FC040>, <SpikeEmphasisState.Deemphasized: 1>: <PyQt5.QtGui.QPen object at 0x00000298090FD040>, <SpikeEmphasisState.Default: 2>: <PyQt5.QtGui.QPen object at 0x00000298090FD0B0>, <SpikeEmphasisState.Emphasized: 3>: <PyQt5.QtGui.QPen object at 0x00000298090FD120>}, None, None)), (53, (None, None, {<SpikeEmphasisState.Hidden: 0>: <PyQt5.QtGui.QPen object at 0x00000298090FD190>, <SpikeEmphasisState.Deemphasized: 1>: <PyQt5.QtGui.QPen object at 0x00000298090FD200>, <SpikeEmphasisState.Default: 2>: <PyQt5.QtGui.QPen object at 0x00000298090FD270>, <SpikeEmphasisState.Emphasized: 3>: <PyQt5.QtGui.QPen object at 0x00000298090FD2E0>}, None, None)), (100, (None, None, {<SpikeEmphasisState.Hidden: 0>: <PyQt5.QtGui.QPen object at 0x00000298090FD350>, <SpikeEmphasisState.Deemphasized: 1>: <PyQt5.QtGui.QPen object at 0x00000298090FD3C0>, <SpikeEmphasisState.Default: 2>: <PyQt5.QtGui.QPen object at 0x00000298090FD430>, <SpikeEmphasisState.Emphasized: 3>: <PyQt5.QtGui.QPen object at 0x00000298090FD4A0>}, None, None)), (89, (None, None, {<SpikeEmphasisState.Hidden: 0>: <PyQt5.QtGui.QPen object at 0x00000298090FD510>, <SpikeEmphasisState.Deemphasized: 1>: <PyQt5.QtGui.QPen object at 0x00000298090FD580>, <SpikeEmphasisState.Default: 2>: <PyQt5.QtGui.QPen object at 0x00000298090FD5F0>, <SpikeEmphasisState.Emphasized: 3>: <PyQt5.QtGui.QPen object at 0x00000298090FD660>}, None, None)), (16, (None, None, {<SpikeEmphasisState.Hidden: 0>: <PyQt5.QtGui.QPen object at 0x00000298090FD6D0>, <SpikeEmphasisState.Deemphasized: 1>: <PyQt5.QtGui.QPen object at 0x00000298090FD740>, <SpikeEmphasisState.Default: 2>: <PyQt5.QtGui.QPen object at 0x00000298090FD7B0>, <SpikeEmphasisState.Emphasized: 3>: <PyQt5.QtGui.QPen object at 0x00000298090FD820>}, None, None)), (59, (None, None, {<SpikeEmphasisState.Hidden: 0>: <PyQt5.QtGui.QPen object at 0x00000298090FD890>, <SpikeEmphasisState.Deemphasized: 1>: <PyQt5.QtGui.QPen object at 0x00000298090FD900>, <SpikeEmphasisState.Default: 2>: <PyQt5.QtGui.QPen object at 0x00000298090FD970>, <SpikeEmphasisState.Emphasized: 3>: <PyQt5.QtGui.QPen object at 0x00000298090FD9E0>}, None, None)), (88, (None, None, {<SpikeEmphasisState.Hidden: 0>: <PyQt5.QtGui.QPen object at 0x00000298090FDA50>, <SpikeEmphasisState.Deemphasized: 1>: <PyQt5.QtGui.QPen object at 0x00000298090FDAC0>, <SpikeEmphasisState.Default: 2>: <PyQt5.QtGui.QPen object at 0x00000298090FDB30>, <SpikeEmphasisState.Emphasized: 3>: <PyQt5.QtGui.QPen object at 0x00000298090FDBA0>}, None, None)), (56, (None, None, {<SpikeEmphasisState.Hidden: 0>: <PyQt5.QtGui.QPen object at 0x00000298090FDC10>, <SpikeEmphasisState.Deemphasized: 1>: <PyQt5.QtGui.QPen object at 0x00000298090FDC80>, <SpikeEmphasisState.Default: 2>: <PyQt5.QtGui.QPen object at 0x00000298090FDCF0>, <SpikeEmphasisState.Emphasized: 3>: <PyQt5.QtGui.QPen object at 0x00000298090FDD60>}, None, None)), (108, (None, None, {<SpikeEmphasisState.Hidden: 0>: <PyQt5.QtGui.QPen object at 0x00000298090FDDD0>, <SpikeEmphasisState.Deemphasized: 1>: <PyQt5.QtGui.QPen object at 0x00000298090FDE40>, <SpikeEmphasisState.Default: 2>: <PyQt5.QtGui.QPen object at 0x00000298090FDEB0>, <SpikeEmphasisState.Emphasized: 3>: <PyQt5.QtGui.QPen object at 0x00000298090FDF20>}, None, None)), (66, (None, None, {<SpikeEmphasisState.Hidden: 0>: <PyQt5.QtGui.QPen object at 0x00000298090FDF90>, <SpikeEmphasisState.Deemphasized: 1>: <PyQt5.QtGui.QPen object at 0x00000298090FE040>, <SpikeEmphasisState.Default: 2>: <PyQt5.QtGui.QPen object at 0x00000298090FE0B0>, <SpikeEmphasisState.Emphasized: 3>: <PyQt5.QtGui.QPen object at 0x00000298090FE120>}, None, None)), (60, (None, None, {<SpikeEmphasisState.Hidden: 0>: <PyQt5.QtGui.QPen object at 0x00000298090FE190>, <SpikeEmphasisState.Deemphasized: 1>: <PyQt5.QtGui.QPen object at 0x00000298090FE200>, <SpikeEmphasisState.Default: 2>: <PyQt5.QtGui.QPen object at 0x00000298090FE270>, <SpikeEmphasisState.Emphasized: 3>: <PyQt5.QtGui.QPen object at 0x00000298090FE2E0>}, None, None)), (98, (None, None, {<SpikeEmphasisState.Hidden: 0>: <PyQt5.QtGui.QPen object at 0x00000298090FE350>, <SpikeEmphasisState.Deemphasized: 1>: <PyQt5.QtGui.QPen object at 0x00000298090FE3C0>, <SpikeEmphasisState.Default: 2>: <PyQt5.QtGui.QPen object at 0x00000298090FE430>, <SpikeEmphasisState.Emphasized: 3>: <PyQt5.QtGui.QPen object at 0x00000298090FE4A0>}, None, None)), (37, (None, None, {<SpikeEmphasisState.Hidden: 0>: <PyQt5.QtGui.QPen object at 0x00000298090FE510>, <SpikeEmphasisState.Deemphasized: 1>: <PyQt5.QtGui.QPen object at 0x00000298090FE580>, <SpikeEmphasisState.Default: 2>: <PyQt5.QtGui.QPen object at 0x00000298090FE5F0>, <SpikeEmphasisState.Emphasized: 3>: <PyQt5.QtGui.QPen object at 0x00000298090FE660>}, None, None)), (28, (None, None, {<SpikeEmphasisState.Hidden: 0>: <PyQt5.QtGui.QPen object at 0x00000298090FE6D0>, <SpikeEmphasisState.Deemphasized: 1>: <PyQt5.QtGui.QPen object at 0x00000298090FE740>, <SpikeEmphasisState.Default: 2>: <PyQt5.QtGui.QPen object at 0x00000298090FE7B0>, <SpikeEmphasisState.Emphasized: 3>: <PyQt5.QtGui.QPen object at 0x00000298090FE820>}, None, None)), (19, (None, None, {<SpikeEmphasisState.Hidden: 0>: <PyQt5.QtGui.QPen object at 0x00000298090FE890>, <SpikeEmphasisState.Deemphasized: 1>: <PyQt5.QtGui.QPen object at 0x00000298090FE900>, <SpikeEmphasisState.Default: 2>: <PyQt5.QtGui.QPen object at 0x00000298090FE970>, <SpikeEmphasisState.Emphasized: 3>: <PyQt5.QtGui.QPen object at 0x00000298090FE9E0>}, None, None)), (36, (None, None, {<SpikeEmphasisState.Hidden: 0>: <PyQt5.QtGui.QPen object at 0x00000298090FEA50>, <SpikeEmphasisState.Deemphasized: 1>: <PyQt5.QtGui.QPen object at 0x00000298090FEAC0>, <SpikeEmphasisState.Default: 2>: <PyQt5.QtGui.QPen object at 0x00000298090FEB30>, <SpikeEmphasisState.Emphasized: 3>: <PyQt5.QtGui.QPen object at 0x00000298090FEBA0>}, None, None)), (62, (None, None, {<SpikeEmphasisState.Hidden: 0>: <PyQt5.QtGui.QPen object at 0x00000298090FEC10>, <SpikeEmphasisState.Deemphasized: 1>: <PyQt5.QtGui.QPen object at 0x00000298090FEC80>, <SpikeEmphasisState.Default: 2>: <PyQt5.QtGui.QPen object at 0x00000298090FECF0>, <SpikeEmphasisState.Emphasized: 3>: <PyQt5.QtGui.QPen object at 0x00000298090FED60>}, None, None)), (57, (None, None, {<SpikeEmphasisState.Hidden: 0>: <PyQt5.QtGui.QPen object at 0x00000298090FEDD0>, <SpikeEmphasisState.Deemphasized: 1>: <PyQt5.QtGui.QPen object at 0x00000298090FEE40>, <SpikeEmphasisState.Default: 2>: <PyQt5.QtGui.QPen object at 0x00000298090FEEB0>, <SpikeEmphasisState.Emphasized: 3>: <PyQt5.QtGui.QPen object at 0x00000298090FEF20>}, None, None)), (11, (None, None, {<SpikeEmphasisState.Hidden: 0>: <PyQt5.QtGui.QPen object at 0x00000298090FEF90>, <SpikeEmphasisState.Deemphasized: 1>: <PyQt5.QtGui.QPen object at 0x00000298090FF040>, <SpikeEmphasisState.Default: 2>: <PyQt5.QtGui.QPen object at 0x00000298090FF0B0>, <SpikeEmphasisState.Emphasized: 3>: <PyQt5.QtGui.QPen object at 0x00000298090FF120>}, None, None)), (21, (None, None, {<SpikeEmphasisState.Hidden: 0>: <PyQt5.QtGui.QPen object at 0x00000298090FF190>, <SpikeEmphasisState.Deemphasized: 1>: <PyQt5.QtGui.QPen object at 0x00000298090FF200>, <SpikeEmphasisState.Default: 2>: <PyQt5.QtGui.QPen object at 0x00000298090FF270>, <SpikeEmphasisState.Emphasized: 3>: <PyQt5.QtGui.QPen object at 0x00000298090FF2E0>}, None, None)), (23, (None, None, {<SpikeEmphasisState.Hidden: 0>: <PyQt5.QtGui.QPen object at 0x00000298090FF350>, <SpikeEmphasisState.Deemphasized: 1>: <PyQt5.QtGui.QPen object at 0x00000298090FF3C0>, <SpikeEmphasisState.Default: 2>: <PyQt5.QtGui.QPen object at 0x00000298090FF430>, <SpikeEmphasisState.Emphasized: 3>: <PyQt5.QtGui.QPen object at 0x00000298090FF4A0>}, None, None)), (70, (None, None, {<SpikeEmphasisState.Hidden: 0>: <PyQt5.QtGui.QPen object at 0x00000298090FF510>, <SpikeEmphasisState.Deemphasized: 1>: <PyQt5.QtGui.QPen object at 0x00000298090FF580>, <SpikeEmphasisState.Default: 2>: <PyQt5.QtGui.QPen object at 0x00000298090FF5F0>, <SpikeEmphasisState.Emphasized: 3>: <PyQt5.QtGui.QPen object at 0x00000298090FF660>}, None, None)), (58, (None, None, {<SpikeEmphasisState.Hidden: 0>: <PyQt5.QtGui.QPen object at 0x00000298090FF6D0>, <SpikeEmphasisState.Deemphasized: 1>: <PyQt5.QtGui.QPen object at 0x00000298090FF740>, <SpikeEmphasisState.Default: 2>: <PyQt5.QtGui.QPen object at 0x00000298090FF7B0>, <SpikeEmphasisState.Emphasized: 3>: <PyQt5.QtGui.QPen object at 0x00000298090FF820>}, None, None)), (4, (None, None, {<SpikeEmphasisState.Hidden: 0>: <PyQt5.QtGui.QPen object at 0x00000298090FF890>, <SpikeEmphasisState.Deemphasized: 1>: <PyQt5.QtGui.QPen object at 0x00000298090FF900>, <SpikeEmphasisState.Default: 2>: <PyQt5.QtGui.QPen object at 0x00000298090FF970>, <SpikeEmphasisState.Emphasized: 3>: <PyQt5.QtGui.QPen object at 0x00000298090FF9E0>}, None, None)), (81, (None, None, {<SpikeEmphasisState.Hidden: 0>: <PyQt5.QtGui.QPen object at 0x00000298090FFA50>, <SpikeEmphasisState.Deemphasized: 1>: <PyQt5.QtGui.QPen object at 0x00000298090FFAC0>, <SpikeEmphasisState.Default: 2>: <PyQt5.QtGui.QPen object at 0x00000298090FFB30>, <SpikeEmphasisState.Emphasized: 3>: <PyQt5.QtGui.QPen object at 0x00000298090FFBA0>}, None, None)), (52, (None, None, {<SpikeEmphasisState.Hidden: 0>: <PyQt5.QtGui.QPen object at 0x00000298090FFC10>, <SpikeEmphasisState.Deemphasized: 1>: <PyQt5.QtGui.QPen object at 0x00000298090FFC80>, <SpikeEmphasisState.Default: 2>: <PyQt5.QtGui.QPen object at 0x00000298090FFCF0>, <SpikeEmphasisState.Emphasized: 3>: <PyQt5.QtGui.QPen object at 0x00000298090FFD60>}, None, None)), (67, (None, None, {<SpikeEmphasisState.Hidden: 0>: <PyQt5.QtGui.QPen object at 0x00000298090FFDD0>, <SpikeEmphasisState.Deemphasized: 1>: <PyQt5.QtGui.QPen object at 0x00000298090FFE40>, <SpikeEmphasisState.Default: 2>: <PyQt5.QtGui.QPen object at 0x00000298090FFEB0>, <SpikeEmphasisState.Emphasized: 3>: <PyQt5.QtGui.QPen object at 0x00000298090FFF20>}, None, None)), (13, (None, None, {<SpikeEmphasisState.Hidden: 0>: <PyQt5.QtGui.QPen object at 0x00000298090FFF90>, <SpikeEmphasisState.Deemphasized: 1>: <PyQt5.QtGui.QPen object at 0x0000029809100040>, <SpikeEmphasisState.Default: 2>: <PyQt5.QtGui.QPen object at 0x00000298091000B0>, <SpikeEmphasisState.Emphasized: 3>: <PyQt5.QtGui.QPen object at 0x0000029809100120>}, None, None))])), 'unit_sort_manager': UnitSortOrderManager(neuron_ids=array([ 87, 102,  68,  34,  54,  74,  86,  51,  92, 109,  63,   5,  83,\n",
       "        24,  96,  69,  93,  49,  15,  26,  32,  14,  31,  33,  55,  76,\n",
       "         3,  25,  50,  82,  10,  78,  90,  64,  61,  75,   8,  85,   2,\n",
       "        41,  73,  53, 100,  89,  16,  59,  88,  56, 108,  66,  60,  98,\n",
       "        37,  28,  19,  36,  62,  57,  11,  21,  23,  70,  58,   4,  81,\n",
       "        52,  67,  13], dtype=int64), fragile_linear_neuron_IDXs=array([ 0,  1,  2,  3,  4,  5,  6,  7,  8,  9, 10, 11, 12, 13, 14, 15, 16,\n",
       "       17, 18, 19, 20, 21, 22, 23, 24, 25, 26, 27, 28, 29, 30, 31, 32, 33,\n",
       "       34, 35, 36, 37, 38, 39, 40, 41, 42, 43, 44, 45, 46, 47, 48, 49, 50,\n",
       "       51, 52, 53, 54, 55, 56, 57, 58, 59, 60, 61, 62, 63, 64, 65, 66, 67]), n_cells=68, unit_sort_order=array([ 0,  1,  2,  3,  4,  5,  6,  7,  8,  9, 10, 11, 12, 13, 14, 15, 16,\n",
       "       17, 18, 19, 20, 21, 22, 23, 24, 25, 26, 27, 28, 29, 30, 31, 32, 33,\n",
       "       34, 35, 36, 37, 38, 39, 40, 41, 42, 43, 44, 45, 46, 47, 48, 49, 50,\n",
       "       51, 52, 53, 54, 55, 56, 57, 58, 59, 60, 61, 62, 63, 64, 65, 66, 67]), _series_identity_y_values=array([ 0.5,  1.5,  2.5,  3.5,  4.5,  5.5,  6.5,  7.5,  8.5,  9.5, 10.5,\n",
       "       11.5, 12.5, 13.5, 14.5, 15.5, 16.5, 17.5, 18.5, 19.5, 20.5, 21.5,\n",
       "       22.5, 23.5, 24.5, 25.5, 26.5, 27.5, 28.5, 29.5, 30.5, 31.5, 32.5,\n",
       "       33.5, 34.5, 35.5, 36.5, 37.5, 38.5, 39.5, 40.5, 41.5, 42.5, 43.5,\n",
       "       44.5, 45.5, 46.5, 47.5, 48.5, 49.5, 50.5, 51.5, 52.5, 53.5, 54.5,\n",
       "       55.5, 56.5, 57.5, 58.5, 59.5, 60.5, 61.5, 62.5, 63.5, 64.5, 65.5,\n",
       "       66.5, 67.5]), _series_identity_lower_y_values=array([0.        , 0.01470588, 0.02941176, 0.04411765, 0.05882353,\n",
       "       0.07352941, 0.08823529, 0.10294118, 0.11764706, 0.13235294,\n",
       "       0.14705882, 0.16176471, 0.17647059, 0.19117647, 0.20588235,\n",
       "       0.22058824, 0.23529412, 0.25      , 0.26470588, 0.27941176,\n",
       "       0.29411765, 0.30882353, 0.32352941, 0.33823529, 0.35294118,\n",
       "       0.36764706, 0.38235294, 0.39705882, 0.41176471, 0.42647059,\n",
       "       0.44117647, 0.45588235, 0.47058824, 0.48529412, 0.5       ,\n",
       "       0.51470588, 0.52941176, 0.54411765, 0.55882353, 0.57352941,\n",
       "       0.58823529, 0.60294118, 0.61764706, 0.63235294, 0.64705882,\n",
       "       0.66176471, 0.67647059, 0.69117647, 0.70588235, 0.72058824,\n",
       "       0.73529412, 0.75      , 0.76470588, 0.77941176, 0.79411765,\n",
       "       0.80882353, 0.82352941, 0.83823529, 0.85294118, 0.86764706,\n",
       "       0.88235294, 0.89705882, 0.91176471, 0.92647059, 0.94117647,\n",
       "       0.95588235, 0.97058824, 0.98529412]), _series_identity_upper_y_values=array([0.01470588, 0.02941176, 0.04411765, 0.05882353, 0.07352941,\n",
       "       0.08823529, 0.10294118, 0.11764706, 0.13235294, 0.14705882,\n",
       "       0.16176471, 0.17647059, 0.19117647, 0.20588235, 0.22058824,\n",
       "       0.23529412, 0.25      , 0.26470588, 0.27941176, 0.29411765,\n",
       "       0.30882353, 0.32352941, 0.33823529, 0.35294118, 0.36764706,\n",
       "       0.38235294, 0.39705882, 0.41176471, 0.42647059, 0.44117647,\n",
       "       0.45588235, 0.47058824, 0.48529412, 0.5       , 0.51470588,\n",
       "       0.52941176, 0.54411765, 0.55882353, 0.57352941, 0.58823529,\n",
       "       0.60294118, 0.61764706, 0.63235294, 0.64705882, 0.66176471,\n",
       "       0.67647059, 0.69117647, 0.70588235, 0.72058824, 0.73529412,\n",
       "       0.75      , 0.76470588, 0.77941176, 0.79411765, 0.80882353,\n",
       "       0.82352941, 0.83823529, 0.85294118, 0.86764706, 0.88235294,\n",
       "       0.89705882, 0.91176471, 0.92647059, 0.94117647, 0.95588235,\n",
       "       0.97058824, 0.98529412, 1.        ]), y_fragile_linear_neuron_IDX_map={0: 0.5, 1: 1.5, 2: 2.5, 3: 3.5, 4: 4.5, 5: 5.5, 6: 6.5, 7: 7.5, 8: 8.5, 9: 9.5, 10: 10.5, 11: 11.5, 12: 12.5, 13: 13.5, 14: 14.5, 15: 15.5, 16: 16.5, 17: 17.5, 18: 18.5, 19: 19.5, 20: 20.5, 21: 21.5, 22: 22.5, 23: 23.5, 24: 24.5, 25: 25.5, 26: 26.5, 27: 27.5, 28: 28.5, 29: 29.5, 30: 30.5, 31: 31.5, 32: 32.5, 33: 33.5, 34: 34.5, 35: 35.5, 36: 36.5, 37: 37.5, 38: 38.5, 39: 39.5, 40: 40.5, 41: 41.5, 42: 42.5, 43: 43.5, 44: 44.5, 45: 45.5, 46: 46.5, 47: 47.5, 48: 48.5, 49: 49.5, 50: 50.5, 51: 51.5, 52: 52.5, 53: 53.5, 54: 54.5, 55: 55.5, 56: 56.5, 57: 57.5, 58: 58.5, 59: 59.5, 60: 60.5, 61: 61.5, 62: 62.5, 63: 63.5, 64: 64.5, 65: 65.5, 66: 66.5, 67: 67.5}, params=RasterPlotParams(center_mode='starting_at_zero', bin_position_mode='bin_center', side_bin_margins=0.0, neuron_qcolors=[<PyQt5.QtGui.QColor object at 0x0000029807DB05F0>, <PyQt5.QtGui.QColor object at 0x0000029807DB0660>, <PyQt5.QtGui.QColor object at 0x0000029807DB06D0>, <PyQt5.QtGui.QColor object at 0x0000029807DB0740>, <PyQt5.QtGui.QColor object at 0x0000029807DB07B0>, <PyQt5.QtGui.QColor object at 0x0000029807DB0820>, <PyQt5.QtGui.QColor object at 0x0000029807DB0890>, <PyQt5.QtGui.QColor object at 0x0000029807DB0900>, <PyQt5.QtGui.QColor object at 0x0000029807DB0970>, <PyQt5.QtGui.QColor object at 0x0000029807DB09E0>, <PyQt5.QtGui.QColor object at 0x0000029807DB0A50>, <PyQt5.QtGui.QColor object at 0x0000029807DB0AC0>, <PyQt5.QtGui.QColor object at 0x0000029807DB0B30>, <PyQt5.QtGui.QColor object at 0x0000029807DB0BA0>, <PyQt5.QtGui.QColor object at 0x0000029807DB0C10>, <PyQt5.QtGui.QColor object at 0x0000029807DB0C80>, <PyQt5.QtGui.QColor object at 0x0000029807DB0CF0>, <PyQt5.QtGui.QColor object at 0x0000029807DB0D60>, <PyQt5.QtGui.QColor object at 0x0000029807DB0DD0>, <PyQt5.QtGui.QColor object at 0x0000029807DB0E40>, <PyQt5.QtGui.QColor object at 0x0000029807DB0EB0>, <PyQt5.QtGui.QColor object at 0x0000029807DB0F20>, <PyQt5.QtGui.QColor object at 0x0000029807DB0F90>, <PyQt5.QtGui.QColor object at 0x00000298090F7F90>, <PyQt5.QtGui.QColor object at 0x00000298090F7F20>, <PyQt5.QtGui.QColor object at 0x00000298090F7EB0>, <PyQt5.QtGui.QColor object at 0x00000298090F7E40>, <PyQt5.QtGui.QColor object at 0x00000298090F7DD0>, <PyQt5.QtGui.QColor object at 0x00000298090F7D60>, <PyQt5.QtGui.QColor object at 0x00000298090F7CF0>, <PyQt5.QtGui.QColor object at 0x00000298090F7C80>, <PyQt5.QtGui.QColor object at 0x00000298090F7C10>, <PyQt5.QtGui.QColor object at 0x00000298090F7BA0>, <PyQt5.QtGui.QColor object at 0x00000298090F7B30>, <PyQt5.QtGui.QColor object at 0x00000298090F7AC0>, <PyQt5.QtGui.QColor object at 0x00000298090F7A50>, <PyQt5.QtGui.QColor object at 0x00000298090F79E0>, <PyQt5.QtGui.QColor object at 0x00000298090F7970>, <PyQt5.QtGui.QColor object at 0x00000298090F7900>, <PyQt5.QtGui.QColor object at 0x00000298090F7890>, <PyQt5.QtGui.QColor object at 0x00000298090F7820>, <PyQt5.QtGui.QColor object at 0x00000298090F77B0>, <PyQt5.QtGui.QColor object at 0x00000298090F7740>, <PyQt5.QtGui.QColor object at 0x00000298090F76D0>, <PyQt5.QtGui.QColor object at 0x00000298090F7660>, <PyQt5.QtGui.QColor object at 0x00000298090F75F0>, <PyQt5.QtGui.QColor object at 0x00000298090F7580>, <PyQt5.QtGui.QColor object at 0x00000298090F7510>, <PyQt5.QtGui.QColor object at 0x00000298090F74A0>, <PyQt5.QtGui.QColor object at 0x00000298090F7430>, <PyQt5.QtGui.QColor object at 0x00000298090F73C0>, <PyQt5.QtGui.QColor object at 0x00000298090F7350>, <PyQt5.QtGui.QColor object at 0x00000298090F72E0>, <PyQt5.QtGui.QColor object at 0x00000298090F7270>, <PyQt5.QtGui.QColor object at 0x00000298090F7200>, <PyQt5.QtGui.QColor object at 0x00000298090F7190>, <PyQt5.QtGui.QColor object at 0x00000298090F7120>, <PyQt5.QtGui.QColor object at 0x00000298090F70B0>, <PyQt5.QtGui.QColor object at 0x00000298090F7040>, <PyQt5.QtGui.QColor object at 0x00000298090FB040>, <PyQt5.QtGui.QColor object at 0x00000298090FB0B0>, <PyQt5.QtGui.QColor object at 0x00000298090FB120>, <PyQt5.QtGui.QColor object at 0x00000298090FB190>, <PyQt5.QtGui.QColor object at 0x00000298090FB200>, <PyQt5.QtGui.QColor object at 0x00000298090FB270>, <PyQt5.QtGui.QColor object at 0x00000298090FB2E0>, <PyQt5.QtGui.QColor object at 0x00000298090FB350>, <PyQt5.QtGui.QColor object at 0x00000298090FB3C0>], neuron_colors=array([[1.        , 1.        , 1.        , 1.        , 1.        ,\n",
       "        1.        , 1.        , 1.        , 1.        , 1.        ,\n",
       "        1.        , 1.        , 1.        , 1.        , 1.        ,\n",
       "        0.98431373, 0.91764706, 0.85098039, 0.78431373, 0.71764706,\n",
       "        0.65098039, 0.58431373, 0.50196078, 0.43529412, 0.36862745,\n",
       "        0.30196078, 0.23529412, 0.16862745, 0.10196078, 0.03529412,\n",
       "        0.        , 0.        , 0.        , 0.        , 0.        ,\n",
       "        0.        , 0.        , 0.        , 0.        , 0.        ,\n",
       "        0.        , 0.        , 0.        , 0.        , 0.        ,\n",
       "        0.        , 0.        , 0.        , 0.        , 0.        ,\n",
       "        0.        , 0.        , 0.        , 0.        , 0.        ,\n",
       "        0.        , 0.        , 0.        , 0.        , 0.01568627,\n",
       "        0.08235294, 0.14901961, 0.21568627, 0.28235294, 0.34901961,\n",
       "        0.41568627, 0.50196078, 0.56470588],\n",
       "       [0.        , 0.06666667, 0.13333333, 0.2       , 0.26666667,\n",
       "        0.33333333, 0.4       , 0.46666667, 0.53333333, 0.6       ,\n",
       "        0.66666667, 0.74901961, 0.81568627, 0.88235294, 0.94901961,\n",
       "        1.        , 1.        , 1.        , 1.        , 1.        ,\n",
       "        1.        , 1.        , 1.        , 1.        , 1.        ,\n",
       "        1.        , 1.        , 1.        , 1.        , 1.        ,\n",
       "        1.        , 1.        , 1.        , 1.        , 1.        ,\n",
       "        1.        , 1.        , 1.        , 1.        , 1.        ,\n",
       "        1.        , 1.        , 1.        , 1.        , 1.        ,\n",
       "        0.93333333, 0.86666667, 0.8       , 0.73333333, 0.66666667,\n",
       "        0.6       , 0.53333333, 0.46666667, 0.4       , 0.33333333,\n",
       "        0.25098039, 0.18431373, 0.11764706, 0.05098039, 0.        ,\n",
       "        0.        , 0.        , 0.        , 0.        , 0.        ,\n",
       "        0.        , 0.        , 0.        ],\n",
       "       [0.        , 0.        , 0.        , 0.        , 0.        ,\n",
       "        0.        , 0.        , 0.        , 0.        , 0.        ,\n",
       "        0.        , 0.        , 0.        , 0.        , 0.        ,\n",
       "        0.        , 0.        , 0.        , 0.        , 0.        ,\n",
       "        0.        , 0.        , 0.        , 0.        , 0.        ,\n",
       "        0.        , 0.        , 0.        , 0.        , 0.        ,\n",
       "        0.03137255, 0.10196078, 0.16470588, 0.25098039, 0.31764706,\n",
       "        0.38431373, 0.45098039, 0.51764706, 0.58431373, 0.65098039,\n",
       "        0.71764706, 0.78431373, 0.85098039, 0.91764706, 1.        ,\n",
       "        1.        , 1.        , 1.        , 1.        , 1.        ,\n",
       "        1.        , 1.        , 1.        , 1.        , 1.        ,\n",
       "        1.        , 1.        , 1.        , 1.        , 1.        ,\n",
       "        1.        , 1.        , 1.        , 1.        , 1.        ,\n",
       "        1.        , 1.        , 1.        ],\n",
       "       [0.50196078, 0.50196078, 0.50196078, 0.50196078, 0.50196078,\n",
       "        0.50196078, 0.50196078, 0.50196078, 0.50196078, 0.50196078,\n",
       "        0.50196078, 0.50196078, 0.50196078, 0.50196078, 0.50196078,\n",
       "        0.50196078, 0.50196078, 0.50196078, 0.50196078, 0.50196078,\n",
       "        0.50196078, 0.50196078, 0.50196078, 0.50196078, 0.50196078,\n",
       "        0.50196078, 0.50196078, 0.50196078, 0.50196078, 0.50196078,\n",
       "        0.50196078, 0.50196078, 0.50196078, 0.50196078, 0.50196078,\n",
       "        0.50196078, 0.50196078, 0.50196078, 0.50196078, 0.50196078,\n",
       "        0.50196078, 0.50196078, 0.50196078, 0.50196078, 0.50196078,\n",
       "        0.50196078, 0.50196078, 0.50196078, 0.50196078, 0.50196078,\n",
       "        0.50196078, 0.50196078, 0.50196078, 0.50196078, 0.50196078,\n",
       "        0.50196078, 0.50196078, 0.50196078, 0.50196078, 0.50196078,\n",
       "        0.50196078, 0.50196078, 0.50196078, 0.50196078, 0.50196078,\n",
       "        0.50196078, 0.50196078, 0.50196078]]), neuron_colors_hex=['#ff0000', '#ff1100', '#ff2200', '#ff3300', '#ff4400', '#ff5500', '#ff6600', '#ff7700', '#ff8800', '#ff9900', '#ffaa00', '#ffbf00', '#ffd000', '#ffe100', '#fff200', '#fbff00', '#eaff00', '#d9ff00', '#c8ff00', '#b7ff00', '#a6ff00', '#95ff00', '#80ff00', '#6fff00', '#5eff00', '#4dff00', '#3cff00', '#2bff00', '#1aff00', '#09ff00', '#00ff08', '#00ff1a', '#00ff2a', '#00ff40', '#00ff51', '#00ff62', '#00ff73', '#00ff84', '#00ff95', '#00ffa6', '#00ffb7', '#00ffc8', '#00ffd9', '#00ffea', '#00ffff', '#00eeff', '#00ddff', '#00ccff', '#00bbff', '#00aaff', '#0099ff', '#0088ff', '#0077ff', '#0066ff', '#0055ff', '#0040ff', '#002fff', '#001eff', '#000dff', '#0400ff', '#1500ff', '#2600ff', '#3700ff', '#4800ff', '#5900ff', '#6a00ff', '#8000ff', '#9000ff'], neuron_qcolors_map={0: <PyQt5.QtGui.QColor object at 0x00000298090FA0B0>, 1: <PyQt5.QtGui.QColor object at 0x00000298090FA120>, 2: <PyQt5.QtGui.QColor object at 0x00000298090FA190>, 3: <PyQt5.QtGui.QColor object at 0x00000298090FA200>, 4: <PyQt5.QtGui.QColor object at 0x00000298090FA270>, 5: <PyQt5.QtGui.QColor object at 0x00000298090FA2E0>, 6: <PyQt5.QtGui.QColor object at 0x00000298090FA350>, 7: <PyQt5.QtGui.QColor object at 0x00000298090FA3C0>, 8: <PyQt5.QtGui.QColor object at 0x00000298090FA430>, 9: <PyQt5.QtGui.QColor object at 0x00000298090FA4A0>, 10: <PyQt5.QtGui.QColor object at 0x00000298090FA510>, 11: <PyQt5.QtGui.QColor object at 0x00000298090FA580>, 12: <PyQt5.QtGui.QColor object at 0x00000298090F97B0>, 13: <PyQt5.QtGui.QColor object at 0x00000298090F9820>, 14: <PyQt5.QtGui.QColor object at 0x00000298090F9890>, 15: <PyQt5.QtGui.QColor object at 0x00000298090F9900>, 16: <PyQt5.QtGui.QColor object at 0x00000298090F9970>, 17: <PyQt5.QtGui.QColor object at 0x00000298090F99E0>, 18: <PyQt5.QtGui.QColor object at 0x00000298090F9A50>, 19: <PyQt5.QtGui.QColor object at 0x00000298090F9AC0>, 20: <PyQt5.QtGui.QColor object at 0x00000298090F9B30>, 21: <PyQt5.QtGui.QColor object at 0x00000298090F9BA0>, 22: <PyQt5.QtGui.QColor object at 0x00000298090F9C10>, 23: <PyQt5.QtGui.QColor object at 0x00000298090F9C80>, 24: <PyQt5.QtGui.QColor object at 0x00000298090F9CF0>, 25: <PyQt5.QtGui.QColor object at 0x00000298090F9D60>, 26: <PyQt5.QtGui.QColor object at 0x00000298090F9DD0>, 27: <PyQt5.QtGui.QColor object at 0x00000298090F9E40>, 28: <PyQt5.QtGui.QColor object at 0x00000298090F9EB0>, 29: <PyQt5.QtGui.QColor object at 0x00000298090F9F20>, 30: <PyQt5.QtGui.QColor object at 0x00000298090F9F90>, 31: <PyQt5.QtGui.QColor object at 0x00000298090F9740>, 32: <PyQt5.QtGui.QColor object at 0x00000298090FB430>, 33: <PyQt5.QtGui.QColor object at 0x00000298090FB4A0>, 34: <PyQt5.QtGui.QColor object at 0x00000298090FB510>, 35: <PyQt5.QtGui.QColor object at 0x00000298090FB580>, 36: <PyQt5.QtGui.QColor object at 0x00000298090FB5F0>, 37: <PyQt5.QtGui.QColor object at 0x00000298090FB660>, 38: <PyQt5.QtGui.QColor object at 0x00000298090FB6D0>, 39: <PyQt5.QtGui.QColor object at 0x00000298090FB740>, 40: <PyQt5.QtGui.QColor object at 0x00000298090FB7B0>, 41: <PyQt5.QtGui.QColor object at 0x00000298090FB820>, 42: <PyQt5.QtGui.QColor object at 0x00000298090FB890>, 43: <PyQt5.QtGui.QColor object at 0x00000298090FB900>, 44: <PyQt5.QtGui.QColor object at 0x00000298090FB970>, 45: <PyQt5.QtGui.QColor object at 0x00000298090FB9E0>, 46: <PyQt5.QtGui.QColor object at 0x00000298090FBA50>, 47: <PyQt5.QtGui.QColor object at 0x00000298090FBAC0>, 48: <PyQt5.QtGui.QColor object at 0x00000298090FBB30>, 49: <PyQt5.QtGui.QColor object at 0x00000298090FBBA0>, 50: <PyQt5.QtGui.QColor object at 0x00000298090FBC10>, 51: <PyQt5.QtGui.QColor object at 0x00000298090FBC80>, 52: <PyQt5.QtGui.QColor object at 0x00000298090FBCF0>, 53: <PyQt5.QtGui.QColor object at 0x00000298090FBD60>, 54: <PyQt5.QtGui.QColor object at 0x00000298090FBDD0>, 55: <PyQt5.QtGui.QColor object at 0x00000298090FBE40>, 56: <PyQt5.QtGui.QColor object at 0x00000298090FBEB0>, 57: <PyQt5.QtGui.QColor object at 0x00000298090FBF20>, 58: <PyQt5.QtGui.QColor object at 0x00000298090FBF90>, 59: <PyQt5.QtGui.QColor object at 0x0000029807DDE040>, 60: <PyQt5.QtGui.QColor object at 0x0000029807DDE0B0>, 61: <PyQt5.QtGui.QColor object at 0x0000029807DDE120>, 62: <PyQt5.QtGui.QColor object at 0x0000029807DDE190>, 63: <PyQt5.QtGui.QColor object at 0x0000029807DDE200>, 64: <PyQt5.QtGui.QColor object at 0x0000029807DDE270>, 65: <PyQt5.QtGui.QColor object at 0x0000029807DDE2E0>, 66: <PyQt5.QtGui.QColor object at 0x0000029807DDE350>, 67: <PyQt5.QtGui.QColor object at 0x0000029807DDE3C0>}, config_items=IndexedOrderedDict([(87, (None, None, {<SpikeEmphasisState.Hidden: 0>: <PyQt5.QtGui.QPen object at 0x0000029807DB0430>, <SpikeEmphasisState.Deemphasized: 1>: <PyQt5.QtGui.QPen object at 0x0000029807DB03C0>, <SpikeEmphasisState.Default: 2>: <PyQt5.QtGui.QPen object at 0x0000029807DB0350>, <SpikeEmphasisState.Emphasized: 3>: <PyQt5.QtGui.QPen object at 0x0000029807DB02E0>}, None, None)), (102, (None, None, {<SpikeEmphasisState.Hidden: 0>: <PyQt5.QtGui.QPen object at 0x0000029807DB0270>, <SpikeEmphasisState.Deemphasized: 1>: <PyQt5.QtGui.QPen object at 0x0000029807DB0200>, <SpikeEmphasisState.Default: 2>: <PyQt5.QtGui.QPen object at 0x0000029807DB0190>, <SpikeEmphasisState.Emphasized: 3>: <PyQt5.QtGui.QPen object at 0x0000029807DB0120>}, None, None)), (68, (None, None, {<SpikeEmphasisState.Hidden: 0>: <PyQt5.QtGui.QPen object at 0x0000029807DB00B0>, <SpikeEmphasisState.Deemphasized: 1>: <PyQt5.QtGui.QPen object at 0x0000029807DB0040>, <SpikeEmphasisState.Default: 2>: <PyQt5.QtGui.QPen object at 0x00000298090F9040>, <SpikeEmphasisState.Emphasized: 3>: <PyQt5.QtGui.QPen object at 0x00000298090F90B0>}, None, None)), (34, (None, None, {<SpikeEmphasisState.Hidden: 0>: <PyQt5.QtGui.QPen object at 0x00000298090F9120>, <SpikeEmphasisState.Deemphasized: 1>: <PyQt5.QtGui.QPen object at 0x00000298090F9190>, <SpikeEmphasisState.Default: 2>: <PyQt5.QtGui.QPen object at 0x00000298090F9200>, <SpikeEmphasisState.Emphasized: 3>: <PyQt5.QtGui.QPen object at 0x00000298090F9270>}, None, None)), (54, (None, None, {<SpikeEmphasisState.Hidden: 0>: <PyQt5.QtGui.QPen object at 0x00000298090F92E0>, <SpikeEmphasisState.Deemphasized: 1>: <PyQt5.QtGui.QPen object at 0x00000298090F9350>, <SpikeEmphasisState.Default: 2>: <PyQt5.QtGui.QPen object at 0x00000298090F93C0>, <SpikeEmphasisState.Emphasized: 3>: <PyQt5.QtGui.QPen object at 0x00000298090F9430>}, None, None)), (74, (None, None, {<SpikeEmphasisState.Hidden: 0>: <PyQt5.QtGui.QPen object at 0x00000298090F94A0>, <SpikeEmphasisState.Deemphasized: 1>: <PyQt5.QtGui.QPen object at 0x00000298090F9510>, <SpikeEmphasisState.Default: 2>: <PyQt5.QtGui.QPen object at 0x00000298090F9580>, <SpikeEmphasisState.Emphasized: 3>: <PyQt5.QtGui.QPen object at 0x00000298090F95F0>}, None, None)), (86, (None, None, {<SpikeEmphasisState.Hidden: 0>: <PyQt5.QtGui.QPen object at 0x00000298090F9660>, <SpikeEmphasisState.Deemphasized: 1>: <PyQt5.QtGui.QPen object at 0x00000298090F96D0>, <SpikeEmphasisState.Default: 2>: <PyQt5.QtGui.QPen object at 0x0000029807DC5AC0>, <SpikeEmphasisState.Emphasized: 3>: <PyQt5.QtGui.QPen object at 0x0000029807DC5A50>}, None, None)), (51, (None, None, {<SpikeEmphasisState.Hidden: 0>: <PyQt5.QtGui.QPen object at 0x0000029807DC59E0>, <SpikeEmphasisState.Deemphasized: 1>: <PyQt5.QtGui.QPen object at 0x0000029807DC5970>, <SpikeEmphasisState.Default: 2>: <PyQt5.QtGui.QPen object at 0x0000029807DC5900>, <SpikeEmphasisState.Emphasized: 3>: <PyQt5.QtGui.QPen object at 0x0000029807DC5890>}, None, None)), (92, (None, None, {<SpikeEmphasisState.Hidden: 0>: <PyQt5.QtGui.QPen object at 0x0000029807DC5820>, <SpikeEmphasisState.Deemphasized: 1>: <PyQt5.QtGui.QPen object at 0x0000029807DC57B0>, <SpikeEmphasisState.Default: 2>: <PyQt5.QtGui.QPen object at 0x0000029807DC5740>, <SpikeEmphasisState.Emphasized: 3>: <PyQt5.QtGui.QPen object at 0x0000029807DC56D0>}, None, None)), (109, (None, None, {<SpikeEmphasisState.Hidden: 0>: <PyQt5.QtGui.QPen object at 0x0000029807DC5660>, <SpikeEmphasisState.Deemphasized: 1>: <PyQt5.QtGui.QPen object at 0x0000029807DC55F0>, <SpikeEmphasisState.Default: 2>: <PyQt5.QtGui.QPen object at 0x0000029807DC5580>, <SpikeEmphasisState.Emphasized: 3>: <PyQt5.QtGui.QPen object at 0x0000029807DC54A0>}, None, None)), (63, (None, None, {<SpikeEmphasisState.Hidden: 0>: <PyQt5.QtGui.QPen object at 0x0000029807DC5510>, <SpikeEmphasisState.Deemphasized: 1>: <PyQt5.QtGui.QPen object at 0x0000029807DC52E0>, <SpikeEmphasisState.Default: 2>: <PyQt5.QtGui.QPen object at 0x0000029807DC5430>, <SpikeEmphasisState.Emphasized: 3>: <PyQt5.QtGui.QPen object at 0x0000029807DC53C0>}, None, None)), (5, (None, None, {<SpikeEmphasisState.Hidden: 0>: <PyQt5.QtGui.QPen object at 0x0000029807DC5350>, <SpikeEmphasisState.Deemphasized: 1>: <PyQt5.QtGui.QPen object at 0x0000029807DC5270>, <SpikeEmphasisState.Default: 2>: <PyQt5.QtGui.QPen object at 0x0000029807DC5200>, <SpikeEmphasisState.Emphasized: 3>: <PyQt5.QtGui.QPen object at 0x0000029807DC5040>}, None, None)), (83, (None, None, {<SpikeEmphasisState.Hidden: 0>: <PyQt5.QtGui.QPen object at 0x0000029807DC50B0>, <SpikeEmphasisState.Deemphasized: 1>: <PyQt5.QtGui.QPen object at 0x0000029807DC5190>, <SpikeEmphasisState.Default: 2>: <PyQt5.QtGui.QPen object at 0x0000029807DC5120>, <SpikeEmphasisState.Emphasized: 3>: <PyQt5.QtGui.QPen object at 0x0000029807BACF90>}, None, None)), (24, (None, None, {<SpikeEmphasisState.Hidden: 0>: <PyQt5.QtGui.QPen object at 0x0000029807BACE40>, <SpikeEmphasisState.Deemphasized: 1>: <PyQt5.QtGui.QPen object at 0x0000029807BACDD0>, <SpikeEmphasisState.Default: 2>: <PyQt5.QtGui.QPen object at 0x0000029807BACEB0>, <SpikeEmphasisState.Emphasized: 3>: <PyQt5.QtGui.QPen object at 0x0000029807BACF20>}, None, None)), (96, (None, None, {<SpikeEmphasisState.Hidden: 0>: <PyQt5.QtGui.QPen object at 0x0000029807BACD60>, <SpikeEmphasisState.Deemphasized: 1>: <PyQt5.QtGui.QPen object at 0x0000029807DDF0B0>, <SpikeEmphasisState.Default: 2>: <PyQt5.QtGui.QPen object at 0x0000029807DDFA50>, <SpikeEmphasisState.Emphasized: 3>: <PyQt5.QtGui.QPen object at 0x0000029807DDF900>}, None, None)), (69, (None, None, {<SpikeEmphasisState.Hidden: 0>: <PyQt5.QtGui.QPen object at 0x0000029807DDF970>, <SpikeEmphasisState.Deemphasized: 1>: <PyQt5.QtGui.QPen object at 0x0000029807DDF9E0>, <SpikeEmphasisState.Default: 2>: <PyQt5.QtGui.QPen object at 0x0000029807DDFB30>, <SpikeEmphasisState.Emphasized: 3>: <PyQt5.QtGui.QPen object at 0x0000029807DDFBA0>}, None, None)), (93, (None, None, {<SpikeEmphasisState.Hidden: 0>: <PyQt5.QtGui.QPen object at 0x0000029807DDFC10>, <SpikeEmphasisState.Deemphasized: 1>: <PyQt5.QtGui.QPen object at 0x0000029807DDFC80>, <SpikeEmphasisState.Default: 2>: <PyQt5.QtGui.QPen object at 0x0000029807DDFCF0>, <SpikeEmphasisState.Emphasized: 3>: <PyQt5.QtGui.QPen object at 0x0000029807DDFD60>}, None, None)), (49, (None, None, {<SpikeEmphasisState.Hidden: 0>: <PyQt5.QtGui.QPen object at 0x0000029807DDFDD0>, <SpikeEmphasisState.Deemphasized: 1>: <PyQt5.QtGui.QPen object at 0x0000029807DDFE40>, <SpikeEmphasisState.Default: 2>: <PyQt5.QtGui.QPen object at 0x0000029807DDFEB0>, <SpikeEmphasisState.Emphasized: 3>: <PyQt5.QtGui.QPen object at 0x0000029807DDFF20>}, None, None)), (15, (None, None, {<SpikeEmphasisState.Hidden: 0>: <PyQt5.QtGui.QPen object at 0x0000029807DDFF90>, <SpikeEmphasisState.Deemphasized: 1>: <PyQt5.QtGui.QPen object at 0x0000029807DDF820>, <SpikeEmphasisState.Default: 2>: <PyQt5.QtGui.QPen object at 0x00000298090FAF90>, <SpikeEmphasisState.Emphasized: 3>: <PyQt5.QtGui.QPen object at 0x00000298090FAF20>}, None, None)), (26, (None, None, {<SpikeEmphasisState.Hidden: 0>: <PyQt5.QtGui.QPen object at 0x00000298090FAEB0>, <SpikeEmphasisState.Deemphasized: 1>: <PyQt5.QtGui.QPen object at 0x00000298090FAE40>, <SpikeEmphasisState.Default: 2>: <PyQt5.QtGui.QPen object at 0x00000298090FADD0>, <SpikeEmphasisState.Emphasized: 3>: <PyQt5.QtGui.QPen object at 0x00000298090FAD60>}, None, None)), (32, (None, None, {<SpikeEmphasisState.Hidden: 0>: <PyQt5.QtGui.QPen object at 0x00000298090FACF0>, <SpikeEmphasisState.Deemphasized: 1>: <PyQt5.QtGui.QPen object at 0x00000298090FAC80>, <SpikeEmphasisState.Default: 2>: <PyQt5.QtGui.QPen object at 0x00000298090FAC10>, <SpikeEmphasisState.Emphasized: 3>: <PyQt5.QtGui.QPen object at 0x00000298090FABA0>}, None, None)), (14, (None, None, {<SpikeEmphasisState.Hidden: 0>: <PyQt5.QtGui.QPen object at 0x00000298090FAB30>, <SpikeEmphasisState.Deemphasized: 1>: <PyQt5.QtGui.QPen object at 0x00000298090FAAC0>, <SpikeEmphasisState.Default: 2>: <PyQt5.QtGui.QPen object at 0x00000298090FAA50>, <SpikeEmphasisState.Emphasized: 3>: <PyQt5.QtGui.QPen object at 0x00000298090FA9E0>}, None, None)), (31, (None, None, {<SpikeEmphasisState.Hidden: 0>: <PyQt5.QtGui.QPen object at 0x00000298090FA970>, <SpikeEmphasisState.Deemphasized: 1>: <PyQt5.QtGui.QPen object at 0x00000298090FA900>, <SpikeEmphasisState.Default: 2>: <PyQt5.QtGui.QPen object at 0x00000298090FA890>, <SpikeEmphasisState.Emphasized: 3>: <PyQt5.QtGui.QPen object at 0x00000298090FA820>}, None, None)), (33, (None, None, {<SpikeEmphasisState.Hidden: 0>: <PyQt5.QtGui.QPen object at 0x00000298090FA7B0>, <SpikeEmphasisState.Deemphasized: 1>: <PyQt5.QtGui.QPen object at 0x00000298090FA740>, <SpikeEmphasisState.Default: 2>: <PyQt5.QtGui.QPen object at 0x00000298090FA6D0>, <SpikeEmphasisState.Emphasized: 3>: <PyQt5.QtGui.QPen object at 0x00000298090FA660>}, None, None)), (55, (None, None, {<SpikeEmphasisState.Hidden: 0>: <PyQt5.QtGui.QPen object at 0x00000298090FA5F0>, <SpikeEmphasisState.Deemphasized: 1>: <PyQt5.QtGui.QPen object at 0x00000298090FA040>, <SpikeEmphasisState.Default: 2>: <PyQt5.QtGui.QPen object at 0x0000029807DDE430>, <SpikeEmphasisState.Emphasized: 3>: <PyQt5.QtGui.QPen object at 0x0000029807DDE4A0>}, None, None)), (76, (None, None, {<SpikeEmphasisState.Hidden: 0>: <PyQt5.QtGui.QPen object at 0x0000029807DDE510>, <SpikeEmphasisState.Deemphasized: 1>: <PyQt5.QtGui.QPen object at 0x0000029807DDE580>, <SpikeEmphasisState.Default: 2>: <PyQt5.QtGui.QPen object at 0x0000029807DDE5F0>, <SpikeEmphasisState.Emphasized: 3>: <PyQt5.QtGui.QPen object at 0x0000029807DDE660>}, None, None)), (3, (None, None, {<SpikeEmphasisState.Hidden: 0>: <PyQt5.QtGui.QPen object at 0x0000029807DDE6D0>, <SpikeEmphasisState.Deemphasized: 1>: <PyQt5.QtGui.QPen object at 0x0000029807DDE740>, <SpikeEmphasisState.Default: 2>: <PyQt5.QtGui.QPen object at 0x0000029807DDE7B0>, <SpikeEmphasisState.Emphasized: 3>: <PyQt5.QtGui.QPen object at 0x0000029807DDE820>}, None, None)), (25, (None, None, {<SpikeEmphasisState.Hidden: 0>: <PyQt5.QtGui.QPen object at 0x0000029807DDE890>, <SpikeEmphasisState.Deemphasized: 1>: <PyQt5.QtGui.QPen object at 0x0000029807DDE900>, <SpikeEmphasisState.Default: 2>: <PyQt5.QtGui.QPen object at 0x0000029807DDE970>, <SpikeEmphasisState.Emphasized: 3>: <PyQt5.QtGui.QPen object at 0x0000029807DDE9E0>}, None, None)), (50, (None, None, {<SpikeEmphasisState.Hidden: 0>: <PyQt5.QtGui.QPen object at 0x0000029807DDEA50>, <SpikeEmphasisState.Deemphasized: 1>: <PyQt5.QtGui.QPen object at 0x0000029807DDEAC0>, <SpikeEmphasisState.Default: 2>: <PyQt5.QtGui.QPen object at 0x0000029807DDEB30>, <SpikeEmphasisState.Emphasized: 3>: <PyQt5.QtGui.QPen object at 0x0000029807DDEBA0>}, None, None)), (82, (None, None, {<SpikeEmphasisState.Hidden: 0>: <PyQt5.QtGui.QPen object at 0x0000029807DDEC10>, <SpikeEmphasisState.Deemphasized: 1>: <PyQt5.QtGui.QPen object at 0x0000029807DDEC80>, <SpikeEmphasisState.Default: 2>: <PyQt5.QtGui.QPen object at 0x0000029807DDECF0>, <SpikeEmphasisState.Emphasized: 3>: <PyQt5.QtGui.QPen object at 0x0000029807DDED60>}, None, None)), (10, (None, None, {<SpikeEmphasisState.Hidden: 0>: <PyQt5.QtGui.QPen object at 0x0000029807DDEDD0>, <SpikeEmphasisState.Deemphasized: 1>: <PyQt5.QtGui.QPen object at 0x0000029807DDEE40>, <SpikeEmphasisState.Default: 2>: <PyQt5.QtGui.QPen object at 0x0000029807DDEEB0>, <SpikeEmphasisState.Emphasized: 3>: <PyQt5.QtGui.QPen object at 0x0000029807DDEF20>}, None, None)), (78, (None, None, {<SpikeEmphasisState.Hidden: 0>: <PyQt5.QtGui.QPen object at 0x0000029807DDEF90>, <SpikeEmphasisState.Deemphasized: 1>: <PyQt5.QtGui.QPen object at 0x00000298090FCF90>, <SpikeEmphasisState.Default: 2>: <PyQt5.QtGui.QPen object at 0x00000298090FCF20>, <SpikeEmphasisState.Emphasized: 3>: <PyQt5.QtGui.QPen object at 0x00000298090FCEB0>}, None, None)), (90, (None, None, {<SpikeEmphasisState.Hidden: 0>: <PyQt5.QtGui.QPen object at 0x00000298090FCE40>, <SpikeEmphasisState.Deemphasized: 1>: <PyQt5.QtGui.QPen object at 0x00000298090FCDD0>, <SpikeEmphasisState.Default: 2>: <PyQt5.QtGui.QPen object at 0x00000298090FCD60>, <SpikeEmphasisState.Emphasized: 3>: <PyQt5.QtGui.QPen object at 0x00000298090FCCF0>}, None, None)), (64, (None, None, {<SpikeEmphasisState.Hidden: 0>: <PyQt5.QtGui.QPen object at 0x00000298090FCC80>, <SpikeEmphasisState.Deemphasized: 1>: <PyQt5.QtGui.QPen object at 0x00000298090FCC10>, <SpikeEmphasisState.Default: 2>: <PyQt5.QtGui.QPen object at 0x00000298090FCBA0>, <SpikeEmphasisState.Emphasized: 3>: <PyQt5.QtGui.QPen object at 0x00000298090FCB30>}, None, None)), (61, (None, None, {<SpikeEmphasisState.Hidden: 0>: <PyQt5.QtGui.QPen object at 0x00000298090FCAC0>, <SpikeEmphasisState.Deemphasized: 1>: <PyQt5.QtGui.QPen object at 0x00000298090FCA50>, <SpikeEmphasisState.Default: 2>: <PyQt5.QtGui.QPen object at 0x00000298090FC9E0>, <SpikeEmphasisState.Emphasized: 3>: <PyQt5.QtGui.QPen object at 0x00000298090FC970>}, None, None)), (75, (None, None, {<SpikeEmphasisState.Hidden: 0>: <PyQt5.QtGui.QPen object at 0x00000298090FC900>, <SpikeEmphasisState.Deemphasized: 1>: <PyQt5.QtGui.QPen object at 0x00000298090FC890>, <SpikeEmphasisState.Default: 2>: <PyQt5.QtGui.QPen object at 0x00000298090FC820>, <SpikeEmphasisState.Emphasized: 3>: <PyQt5.QtGui.QPen object at 0x00000298090FC7B0>}, None, None)), (8, (None, None, {<SpikeEmphasisState.Hidden: 0>: <PyQt5.QtGui.QPen object at 0x00000298090FC740>, <SpikeEmphasisState.Deemphasized: 1>: <PyQt5.QtGui.QPen object at 0x00000298090FC6D0>, <SpikeEmphasisState.Default: 2>: <PyQt5.QtGui.QPen object at 0x00000298090FC660>, <SpikeEmphasisState.Emphasized: 3>: <PyQt5.QtGui.QPen object at 0x00000298090FC5F0>}, None, None)), (85, (None, None, {<SpikeEmphasisState.Hidden: 0>: <PyQt5.QtGui.QPen object at 0x00000298090FC580>, <SpikeEmphasisState.Deemphasized: 1>: <PyQt5.QtGui.QPen object at 0x00000298090FC510>, <SpikeEmphasisState.Default: 2>: <PyQt5.QtGui.QPen object at 0x00000298090FC4A0>, <SpikeEmphasisState.Emphasized: 3>: <PyQt5.QtGui.QPen object at 0x00000298090FC430>}, None, None)), (2, (None, None, {<SpikeEmphasisState.Hidden: 0>: <PyQt5.QtGui.QPen object at 0x00000298090FC3C0>, <SpikeEmphasisState.Deemphasized: 1>: <PyQt5.QtGui.QPen object at 0x00000298090FC350>, <SpikeEmphasisState.Default: 2>: <PyQt5.QtGui.QPen object at 0x00000298090FC2E0>, <SpikeEmphasisState.Emphasized: 3>: <PyQt5.QtGui.QPen object at 0x00000298090FC270>}, None, None)), (41, (None, None, {<SpikeEmphasisState.Hidden: 0>: <PyQt5.QtGui.QPen object at 0x00000298090FC200>, <SpikeEmphasisState.Deemphasized: 1>: <PyQt5.QtGui.QPen object at 0x00000298090FC190>, <SpikeEmphasisState.Default: 2>: <PyQt5.QtGui.QPen object at 0x00000298090FC120>, <SpikeEmphasisState.Emphasized: 3>: <PyQt5.QtGui.QPen object at 0x00000298090FC0B0>}, None, None)), (73, (None, None, {<SpikeEmphasisState.Hidden: 0>: <PyQt5.QtGui.QPen object at 0x00000298090FC040>, <SpikeEmphasisState.Deemphasized: 1>: <PyQt5.QtGui.QPen object at 0x00000298090FD040>, <SpikeEmphasisState.Default: 2>: <PyQt5.QtGui.QPen object at 0x00000298090FD0B0>, <SpikeEmphasisState.Emphasized: 3>: <PyQt5.QtGui.QPen object at 0x00000298090FD120>}, None, None)), (53, (None, None, {<SpikeEmphasisState.Hidden: 0>: <PyQt5.QtGui.QPen object at 0x00000298090FD190>, <SpikeEmphasisState.Deemphasized: 1>: <PyQt5.QtGui.QPen object at 0x00000298090FD200>, <SpikeEmphasisState.Default: 2>: <PyQt5.QtGui.QPen object at 0x00000298090FD270>, <SpikeEmphasisState.Emphasized: 3>: <PyQt5.QtGui.QPen object at 0x00000298090FD2E0>}, None, None)), (100, (None, None, {<SpikeEmphasisState.Hidden: 0>: <PyQt5.QtGui.QPen object at 0x00000298090FD350>, <SpikeEmphasisState.Deemphasized: 1>: <PyQt5.QtGui.QPen object at 0x00000298090FD3C0>, <SpikeEmphasisState.Default: 2>: <PyQt5.QtGui.QPen object at 0x00000298090FD430>, <SpikeEmphasisState.Emphasized: 3>: <PyQt5.QtGui.QPen object at 0x00000298090FD4A0>}, None, None)), (89, (None, None, {<SpikeEmphasisState.Hidden: 0>: <PyQt5.QtGui.QPen object at 0x00000298090FD510>, <SpikeEmphasisState.Deemphasized: 1>: <PyQt5.QtGui.QPen object at 0x00000298090FD580>, <SpikeEmphasisState.Default: 2>: <PyQt5.QtGui.QPen object at 0x00000298090FD5F0>, <SpikeEmphasisState.Emphasized: 3>: <PyQt5.QtGui.QPen object at 0x00000298090FD660>}, None, None)), (16, (None, None, {<SpikeEmphasisState.Hidden: 0>: <PyQt5.QtGui.QPen object at 0x00000298090FD6D0>, <SpikeEmphasisState.Deemphasized: 1>: <PyQt5.QtGui.QPen object at 0x00000298090FD740>, <SpikeEmphasisState.Default: 2>: <PyQt5.QtGui.QPen object at 0x00000298090FD7B0>, <SpikeEmphasisState.Emphasized: 3>: <PyQt5.QtGui.QPen object at 0x00000298090FD820>}, None, None)), (59, (None, None, {<SpikeEmphasisState.Hidden: 0>: <PyQt5.QtGui.QPen object at 0x00000298090FD890>, <SpikeEmphasisState.Deemphasized: 1>: <PyQt5.QtGui.QPen object at 0x00000298090FD900>, <SpikeEmphasisState.Default: 2>: <PyQt5.QtGui.QPen object at 0x00000298090FD970>, <SpikeEmphasisState.Emphasized: 3>: <PyQt5.QtGui.QPen object at 0x00000298090FD9E0>}, None, None)), (88, (None, None, {<SpikeEmphasisState.Hidden: 0>: <PyQt5.QtGui.QPen object at 0x00000298090FDA50>, <SpikeEmphasisState.Deemphasized: 1>: <PyQt5.QtGui.QPen object at 0x00000298090FDAC0>, <SpikeEmphasisState.Default: 2>: <PyQt5.QtGui.QPen object at 0x00000298090FDB30>, <SpikeEmphasisState.Emphasized: 3>: <PyQt5.QtGui.QPen object at 0x00000298090FDBA0>}, None, None)), (56, (None, None, {<SpikeEmphasisState.Hidden: 0>: <PyQt5.QtGui.QPen object at 0x00000298090FDC10>, <SpikeEmphasisState.Deemphasized: 1>: <PyQt5.QtGui.QPen object at 0x00000298090FDC80>, <SpikeEmphasisState.Default: 2>: <PyQt5.QtGui.QPen object at 0x00000298090FDCF0>, <SpikeEmphasisState.Emphasized: 3>: <PyQt5.QtGui.QPen object at 0x00000298090FDD60>}, None, None)), (108, (None, None, {<SpikeEmphasisState.Hidden: 0>: <PyQt5.QtGui.QPen object at 0x00000298090FDDD0>, <SpikeEmphasisState.Deemphasized: 1>: <PyQt5.QtGui.QPen object at 0x00000298090FDE40>, <SpikeEmphasisState.Default: 2>: <PyQt5.QtGui.QPen object at 0x00000298090FDEB0>, <SpikeEmphasisState.Emphasized: 3>: <PyQt5.QtGui.QPen object at 0x00000298090FDF20>}, None, None)), (66, (None, None, {<SpikeEmphasisState.Hidden: 0>: <PyQt5.QtGui.QPen object at 0x00000298090FDF90>, <SpikeEmphasisState.Deemphasized: 1>: <PyQt5.QtGui.QPen object at 0x00000298090FE040>, <SpikeEmphasisState.Default: 2>: <PyQt5.QtGui.QPen object at 0x00000298090FE0B0>, <SpikeEmphasisState.Emphasized: 3>: <PyQt5.QtGui.QPen object at 0x00000298090FE120>}, None, None)), (60, (None, None, {<SpikeEmphasisState.Hidden: 0>: <PyQt5.QtGui.QPen object at 0x00000298090FE190>, <SpikeEmphasisState.Deemphasized: 1>: <PyQt5.QtGui.QPen object at 0x00000298090FE200>, <SpikeEmphasisState.Default: 2>: <PyQt5.QtGui.QPen object at 0x00000298090FE270>, <SpikeEmphasisState.Emphasized: 3>: <PyQt5.QtGui.QPen object at 0x00000298090FE2E0>}, None, None)), (98, (None, None, {<SpikeEmphasisState.Hidden: 0>: <PyQt5.QtGui.QPen object at 0x00000298090FE350>, <SpikeEmphasisState.Deemphasized: 1>: <PyQt5.QtGui.QPen object at 0x00000298090FE3C0>, <SpikeEmphasisState.Default: 2>: <PyQt5.QtGui.QPen object at 0x00000298090FE430>, <SpikeEmphasisState.Emphasized: 3>: <PyQt5.QtGui.QPen object at 0x00000298090FE4A0>}, None, None)), (37, (None, None, {<SpikeEmphasisState.Hidden: 0>: <PyQt5.QtGui.QPen object at 0x00000298090FE510>, <SpikeEmphasisState.Deemphasized: 1>: <PyQt5.QtGui.QPen object at 0x00000298090FE580>, <SpikeEmphasisState.Default: 2>: <PyQt5.QtGui.QPen object at 0x00000298090FE5F0>, <SpikeEmphasisState.Emphasized: 3>: <PyQt5.QtGui.QPen object at 0x00000298090FE660>}, None, None)), (28, (None, None, {<SpikeEmphasisState.Hidden: 0>: <PyQt5.QtGui.QPen object at 0x00000298090FE6D0>, <SpikeEmphasisState.Deemphasized: 1>: <PyQt5.QtGui.QPen object at 0x00000298090FE740>, <SpikeEmphasisState.Default: 2>: <PyQt5.QtGui.QPen object at 0x00000298090FE7B0>, <SpikeEmphasisState.Emphasized: 3>: <PyQt5.QtGui.QPen object at 0x00000298090FE820>}, None, None)), (19, (None, None, {<SpikeEmphasisState.Hidden: 0>: <PyQt5.QtGui.QPen object at 0x00000298090FE890>, <SpikeEmphasisState.Deemphasized: 1>: <PyQt5.QtGui.QPen object at 0x00000298090FE900>, <SpikeEmphasisState.Default: 2>: <PyQt5.QtGui.QPen object at 0x00000298090FE970>, <SpikeEmphasisState.Emphasized: 3>: <PyQt5.QtGui.QPen object at 0x00000298090FE9E0>}, None, None)), (36, (None, None, {<SpikeEmphasisState.Hidden: 0>: <PyQt5.QtGui.QPen object at 0x00000298090FEA50>, <SpikeEmphasisState.Deemphasized: 1>: <PyQt5.QtGui.QPen object at 0x00000298090FEAC0>, <SpikeEmphasisState.Default: 2>: <PyQt5.QtGui.QPen object at 0x00000298090FEB30>, <SpikeEmphasisState.Emphasized: 3>: <PyQt5.QtGui.QPen object at 0x00000298090FEBA0>}, None, None)), (62, (None, None, {<SpikeEmphasisState.Hidden: 0>: <PyQt5.QtGui.QPen object at 0x00000298090FEC10>, <SpikeEmphasisState.Deemphasized: 1>: <PyQt5.QtGui.QPen object at 0x00000298090FEC80>, <SpikeEmphasisState.Default: 2>: <PyQt5.QtGui.QPen object at 0x00000298090FECF0>, <SpikeEmphasisState.Emphasized: 3>: <PyQt5.QtGui.QPen object at 0x00000298090FED60>}, None, None)), (57, (None, None, {<SpikeEmphasisState.Hidden: 0>: <PyQt5.QtGui.QPen object at 0x00000298090FEDD0>, <SpikeEmphasisState.Deemphasized: 1>: <PyQt5.QtGui.QPen object at 0x00000298090FEE40>, <SpikeEmphasisState.Default: 2>: <PyQt5.QtGui.QPen object at 0x00000298090FEEB0>, <SpikeEmphasisState.Emphasized: 3>: <PyQt5.QtGui.QPen object at 0x00000298090FEF20>}, None, None)), (11, (None, None, {<SpikeEmphasisState.Hidden: 0>: <PyQt5.QtGui.QPen object at 0x00000298090FEF90>, <SpikeEmphasisState.Deemphasized: 1>: <PyQt5.QtGui.QPen object at 0x00000298090FF040>, <SpikeEmphasisState.Default: 2>: <PyQt5.QtGui.QPen object at 0x00000298090FF0B0>, <SpikeEmphasisState.Emphasized: 3>: <PyQt5.QtGui.QPen object at 0x00000298090FF120>}, None, None)), (21, (None, None, {<SpikeEmphasisState.Hidden: 0>: <PyQt5.QtGui.QPen object at 0x00000298090FF190>, <SpikeEmphasisState.Deemphasized: 1>: <PyQt5.QtGui.QPen object at 0x00000298090FF200>, <SpikeEmphasisState.Default: 2>: <PyQt5.QtGui.QPen object at 0x00000298090FF270>, <SpikeEmphasisState.Emphasized: 3>: <PyQt5.QtGui.QPen object at 0x00000298090FF2E0>}, None, None)), (23, (None, None, {<SpikeEmphasisState.Hidden: 0>: <PyQt5.QtGui.QPen object at 0x00000298090FF350>, <SpikeEmphasisState.Deemphasized: 1>: <PyQt5.QtGui.QPen object at 0x00000298090FF3C0>, <SpikeEmphasisState.Default: 2>: <PyQt5.QtGui.QPen object at 0x00000298090FF430>, <SpikeEmphasisState.Emphasized: 3>: <PyQt5.QtGui.QPen object at 0x00000298090FF4A0>}, None, None)), (70, (None, None, {<SpikeEmphasisState.Hidden: 0>: <PyQt5.QtGui.QPen object at 0x00000298090FF510>, <SpikeEmphasisState.Deemphasized: 1>: <PyQt5.QtGui.QPen object at 0x00000298090FF580>, <SpikeEmphasisState.Default: 2>: <PyQt5.QtGui.QPen object at 0x00000298090FF5F0>, <SpikeEmphasisState.Emphasized: 3>: <PyQt5.QtGui.QPen object at 0x00000298090FF660>}, None, None)), (58, (None, None, {<SpikeEmphasisState.Hidden: 0>: <PyQt5.QtGui.QPen object at 0x00000298090FF6D0>, <SpikeEmphasisState.Deemphasized: 1>: <PyQt5.QtGui.QPen object at 0x00000298090FF740>, <SpikeEmphasisState.Default: 2>: <PyQt5.QtGui.QPen object at 0x00000298090FF7B0>, <SpikeEmphasisState.Emphasized: 3>: <PyQt5.QtGui.QPen object at 0x00000298090FF820>}, None, None)), (4, (None, None, {<SpikeEmphasisState.Hidden: 0>: <PyQt5.QtGui.QPen object at 0x00000298090FF890>, <SpikeEmphasisState.Deemphasized: 1>: <PyQt5.QtGui.QPen object at 0x00000298090FF900>, <SpikeEmphasisState.Default: 2>: <PyQt5.QtGui.QPen object at 0x00000298090FF970>, <SpikeEmphasisState.Emphasized: 3>: <PyQt5.QtGui.QPen object at 0x00000298090FF9E0>}, None, None)), (81, (None, None, {<SpikeEmphasisState.Hidden: 0>: <PyQt5.QtGui.QPen object at 0x00000298090FFA50>, <SpikeEmphasisState.Deemphasized: 1>: <PyQt5.QtGui.QPen object at 0x00000298090FFAC0>, <SpikeEmphasisState.Default: 2>: <PyQt5.QtGui.QPen object at 0x00000298090FFB30>, <SpikeEmphasisState.Emphasized: 3>: <PyQt5.QtGui.QPen object at 0x00000298090FFBA0>}, None, None)), (52, (None, None, {<SpikeEmphasisState.Hidden: 0>: <PyQt5.QtGui.QPen object at 0x00000298090FFC10>, <SpikeEmphasisState.Deemphasized: 1>: <PyQt5.QtGui.QPen object at 0x00000298090FFC80>, <SpikeEmphasisState.Default: 2>: <PyQt5.QtGui.QPen object at 0x00000298090FFCF0>, <SpikeEmphasisState.Emphasized: 3>: <PyQt5.QtGui.QPen object at 0x00000298090FFD60>}, None, None)), (67, (None, None, {<SpikeEmphasisState.Hidden: 0>: <PyQt5.QtGui.QPen object at 0x00000298090FFDD0>, <SpikeEmphasisState.Deemphasized: 1>: <PyQt5.QtGui.QPen object at 0x00000298090FFE40>, <SpikeEmphasisState.Default: 2>: <PyQt5.QtGui.QPen object at 0x00000298090FFEB0>, <SpikeEmphasisState.Emphasized: 3>: <PyQt5.QtGui.QPen object at 0x00000298090FFF20>}, None, None)), (13, (None, None, {<SpikeEmphasisState.Hidden: 0>: <PyQt5.QtGui.QPen object at 0x00000298090FFF90>, <SpikeEmphasisState.Deemphasized: 1>: <PyQt5.QtGui.QPen object at 0x0000029809100040>, <SpikeEmphasisState.Default: 2>: <PyQt5.QtGui.QPen object at 0x00000298091000B0>, <SpikeEmphasisState.Emphasized: 3>: <PyQt5.QtGui.QPen object at 0x0000029809100120>}, None, None))]))), 'raster_plot_manager': RasterScatterPlotManager(unit_sort_manager=UnitSortOrderManager(neuron_ids=array([ 87, 102,  68,  34,  54,  74,  86,  51,  92, 109,  63,   5,  83,\n",
       "        24,  96,  69,  93,  49,  15,  26,  32,  14,  31,  33,  55,  76,\n",
       "         3,  25,  50,  82,  10,  78,  90,  64,  61,  75,   8,  85,   2,\n",
       "        41,  73,  53, 100,  89,  16,  59,  88,  56, 108,  66,  60,  98,\n",
       "        37,  28,  19,  36,  62,  57,  11,  21,  23,  70,  58,   4,  81,\n",
       "        52,  67,  13], dtype=int64), fragile_linear_neuron_IDXs=array([ 0,  1,  2,  3,  4,  5,  6,  7,  8,  9, 10, 11, 12, 13, 14, 15, 16,\n",
       "       17, 18, 19, 20, 21, 22, 23, 24, 25, 26, 27, 28, 29, 30, 31, 32, 33,\n",
       "       34, 35, 36, 37, 38, 39, 40, 41, 42, 43, 44, 45, 46, 47, 48, 49, 50,\n",
       "       51, 52, 53, 54, 55, 56, 57, 58, 59, 60, 61, 62, 63, 64, 65, 66, 67]), n_cells=68, unit_sort_order=array([ 0,  1,  2,  3,  4,  5,  6,  7,  8,  9, 10, 11, 12, 13, 14, 15, 16,\n",
       "       17, 18, 19, 20, 21, 22, 23, 24, 25, 26, 27, 28, 29, 30, 31, 32, 33,\n",
       "       34, 35, 36, 37, 38, 39, 40, 41, 42, 43, 44, 45, 46, 47, 48, 49, 50,\n",
       "       51, 52, 53, 54, 55, 56, 57, 58, 59, 60, 61, 62, 63, 64, 65, 66, 67]), _series_identity_y_values=array([ 0.5,  1.5,  2.5,  3.5,  4.5,  5.5,  6.5,  7.5,  8.5,  9.5, 10.5,\n",
       "       11.5, 12.5, 13.5, 14.5, 15.5, 16.5, 17.5, 18.5, 19.5, 20.5, 21.5,\n",
       "       22.5, 23.5, 24.5, 25.5, 26.5, 27.5, 28.5, 29.5, 30.5, 31.5, 32.5,\n",
       "       33.5, 34.5, 35.5, 36.5, 37.5, 38.5, 39.5, 40.5, 41.5, 42.5, 43.5,\n",
       "       44.5, 45.5, 46.5, 47.5, 48.5, 49.5, 50.5, 51.5, 52.5, 53.5, 54.5,\n",
       "       55.5, 56.5, 57.5, 58.5, 59.5, 60.5, 61.5, 62.5, 63.5, 64.5, 65.5,\n",
       "       66.5, 67.5]), _series_identity_lower_y_values=array([0.        , 0.01470588, 0.02941176, 0.04411765, 0.05882353,\n",
       "       0.07352941, 0.08823529, 0.10294118, 0.11764706, 0.13235294,\n",
       "       0.14705882, 0.16176471, 0.17647059, 0.19117647, 0.20588235,\n",
       "       0.22058824, 0.23529412, 0.25      , 0.26470588, 0.27941176,\n",
       "       0.29411765, 0.30882353, 0.32352941, 0.33823529, 0.35294118,\n",
       "       0.36764706, 0.38235294, 0.39705882, 0.41176471, 0.42647059,\n",
       "       0.44117647, 0.45588235, 0.47058824, 0.48529412, 0.5       ,\n",
       "       0.51470588, 0.52941176, 0.54411765, 0.55882353, 0.57352941,\n",
       "       0.58823529, 0.60294118, 0.61764706, 0.63235294, 0.64705882,\n",
       "       0.66176471, 0.67647059, 0.69117647, 0.70588235, 0.72058824,\n",
       "       0.73529412, 0.75      , 0.76470588, 0.77941176, 0.79411765,\n",
       "       0.80882353, 0.82352941, 0.83823529, 0.85294118, 0.86764706,\n",
       "       0.88235294, 0.89705882, 0.91176471, 0.92647059, 0.94117647,\n",
       "       0.95588235, 0.97058824, 0.98529412]), _series_identity_upper_y_values=array([0.01470588, 0.02941176, 0.04411765, 0.05882353, 0.07352941,\n",
       "       0.08823529, 0.10294118, 0.11764706, 0.13235294, 0.14705882,\n",
       "       0.16176471, 0.17647059, 0.19117647, 0.20588235, 0.22058824,\n",
       "       0.23529412, 0.25      , 0.26470588, 0.27941176, 0.29411765,\n",
       "       0.30882353, 0.32352941, 0.33823529, 0.35294118, 0.36764706,\n",
       "       0.38235294, 0.39705882, 0.41176471, 0.42647059, 0.44117647,\n",
       "       0.45588235, 0.47058824, 0.48529412, 0.5       , 0.51470588,\n",
       "       0.52941176, 0.54411765, 0.55882353, 0.57352941, 0.58823529,\n",
       "       0.60294118, 0.61764706, 0.63235294, 0.64705882, 0.66176471,\n",
       "       0.67647059, 0.69117647, 0.70588235, 0.72058824, 0.73529412,\n",
       "       0.75      , 0.76470588, 0.77941176, 0.79411765, 0.80882353,\n",
       "       0.82352941, 0.83823529, 0.85294118, 0.86764706, 0.88235294,\n",
       "       0.89705882, 0.91176471, 0.92647059, 0.94117647, 0.95588235,\n",
       "       0.97058824, 0.98529412, 1.        ]), y_fragile_linear_neuron_IDX_map={0: 0.5, 1: 1.5, 2: 2.5, 3: 3.5, 4: 4.5, 5: 5.5, 6: 6.5, 7: 7.5, 8: 8.5, 9: 9.5, 10: 10.5, 11: 11.5, 12: 12.5, 13: 13.5, 14: 14.5, 15: 15.5, 16: 16.5, 17: 17.5, 18: 18.5, 19: 19.5, 20: 20.5, 21: 21.5, 22: 22.5, 23: 23.5, 24: 24.5, 25: 25.5, 26: 26.5, 27: 27.5, 28: 28.5, 29: 29.5, 30: 30.5, 31: 31.5, 32: 32.5, 33: 33.5, 34: 34.5, 35: 35.5, 36: 36.5, 37: 37.5, 38: 38.5, 39: 39.5, 40: 40.5, 41: 41.5, 42: 42.5, 43: 43.5, 44: 44.5, 45: 45.5, 46: 46.5, 47: 47.5, 48: 48.5, 49: 49.5, 50: 50.5, 51: 51.5, 52: 52.5, 53: 53.5, 54: 54.5, 55: 55.5, 56: 56.5, 57: 57.5, 58: 58.5, 59: 59.5, 60: 60.5, 61: 61.5, 62: 62.5, 63: 63.5, 64: 64.5, 65: 65.5, 66: 66.5, 67: 67.5}, params=RasterPlotParams(center_mode='starting_at_zero', bin_position_mode='bin_center', side_bin_margins=0.0, neuron_qcolors=[<PyQt5.QtGui.QColor object at 0x0000029807DB05F0>, <PyQt5.QtGui.QColor object at 0x0000029807DB0660>, <PyQt5.QtGui.QColor object at 0x0000029807DB06D0>, <PyQt5.QtGui.QColor object at 0x0000029807DB0740>, <PyQt5.QtGui.QColor object at 0x0000029807DB07B0>, <PyQt5.QtGui.QColor object at 0x0000029807DB0820>, <PyQt5.QtGui.QColor object at 0x0000029807DB0890>, <PyQt5.QtGui.QColor object at 0x0000029807DB0900>, <PyQt5.QtGui.QColor object at 0x0000029807DB0970>, <PyQt5.QtGui.QColor object at 0x0000029807DB09E0>, <PyQt5.QtGui.QColor object at 0x0000029807DB0A50>, <PyQt5.QtGui.QColor object at 0x0000029807DB0AC0>, <PyQt5.QtGui.QColor object at 0x0000029807DB0B30>, <PyQt5.QtGui.QColor object at 0x0000029807DB0BA0>, <PyQt5.QtGui.QColor object at 0x0000029807DB0C10>, <PyQt5.QtGui.QColor object at 0x0000029807DB0C80>, <PyQt5.QtGui.QColor object at 0x0000029807DB0CF0>, <PyQt5.QtGui.QColor object at 0x0000029807DB0D60>, <PyQt5.QtGui.QColor object at 0x0000029807DB0DD0>, <PyQt5.QtGui.QColor object at 0x0000029807DB0E40>, <PyQt5.QtGui.QColor object at 0x0000029807DB0EB0>, <PyQt5.QtGui.QColor object at 0x0000029807DB0F20>, <PyQt5.QtGui.QColor object at 0x0000029807DB0F90>, <PyQt5.QtGui.QColor object at 0x00000298090F7F90>, <PyQt5.QtGui.QColor object at 0x00000298090F7F20>, <PyQt5.QtGui.QColor object at 0x00000298090F7EB0>, <PyQt5.QtGui.QColor object at 0x00000298090F7E40>, <PyQt5.QtGui.QColor object at 0x00000298090F7DD0>, <PyQt5.QtGui.QColor object at 0x00000298090F7D60>, <PyQt5.QtGui.QColor object at 0x00000298090F7CF0>, <PyQt5.QtGui.QColor object at 0x00000298090F7C80>, <PyQt5.QtGui.QColor object at 0x00000298090F7C10>, <PyQt5.QtGui.QColor object at 0x00000298090F7BA0>, <PyQt5.QtGui.QColor object at 0x00000298090F7B30>, <PyQt5.QtGui.QColor object at 0x00000298090F7AC0>, <PyQt5.QtGui.QColor object at 0x00000298090F7A50>, <PyQt5.QtGui.QColor object at 0x00000298090F79E0>, <PyQt5.QtGui.QColor object at 0x00000298090F7970>, <PyQt5.QtGui.QColor object at 0x00000298090F7900>, <PyQt5.QtGui.QColor object at 0x00000298090F7890>, <PyQt5.QtGui.QColor object at 0x00000298090F7820>, <PyQt5.QtGui.QColor object at 0x00000298090F77B0>, <PyQt5.QtGui.QColor object at 0x00000298090F7740>, <PyQt5.QtGui.QColor object at 0x00000298090F76D0>, <PyQt5.QtGui.QColor object at 0x00000298090F7660>, <PyQt5.QtGui.QColor object at 0x00000298090F75F0>, <PyQt5.QtGui.QColor object at 0x00000298090F7580>, <PyQt5.QtGui.QColor object at 0x00000298090F7510>, <PyQt5.QtGui.QColor object at 0x00000298090F74A0>, <PyQt5.QtGui.QColor object at 0x00000298090F7430>, <PyQt5.QtGui.QColor object at 0x00000298090F73C0>, <PyQt5.QtGui.QColor object at 0x00000298090F7350>, <PyQt5.QtGui.QColor object at 0x00000298090F72E0>, <PyQt5.QtGui.QColor object at 0x00000298090F7270>, <PyQt5.QtGui.QColor object at 0x00000298090F7200>, <PyQt5.QtGui.QColor object at 0x00000298090F7190>, <PyQt5.QtGui.QColor object at 0x00000298090F7120>, <PyQt5.QtGui.QColor object at 0x00000298090F70B0>, <PyQt5.QtGui.QColor object at 0x00000298090F7040>, <PyQt5.QtGui.QColor object at 0x00000298090FB040>, <PyQt5.QtGui.QColor object at 0x00000298090FB0B0>, <PyQt5.QtGui.QColor object at 0x00000298090FB120>, <PyQt5.QtGui.QColor object at 0x00000298090FB190>, <PyQt5.QtGui.QColor object at 0x00000298090FB200>, <PyQt5.QtGui.QColor object at 0x00000298090FB270>, <PyQt5.QtGui.QColor object at 0x00000298090FB2E0>, <PyQt5.QtGui.QColor object at 0x00000298090FB350>, <PyQt5.QtGui.QColor object at 0x00000298090FB3C0>], neuron_colors=array([[1.        , 1.        , 1.        , 1.        , 1.        ,\n",
       "        1.        , 1.        , 1.        , 1.        , 1.        ,\n",
       "        1.        , 1.        , 1.        , 1.        , 1.        ,\n",
       "        0.98431373, 0.91764706, 0.85098039, 0.78431373, 0.71764706,\n",
       "        0.65098039, 0.58431373, 0.50196078, 0.43529412, 0.36862745,\n",
       "        0.30196078, 0.23529412, 0.16862745, 0.10196078, 0.03529412,\n",
       "        0.        , 0.        , 0.        , 0.        , 0.        ,\n",
       "        0.        , 0.        , 0.        , 0.        , 0.        ,\n",
       "        0.        , 0.        , 0.        , 0.        , 0.        ,\n",
       "        0.        , 0.        , 0.        , 0.        , 0.        ,\n",
       "        0.        , 0.        , 0.        , 0.        , 0.        ,\n",
       "        0.        , 0.        , 0.        , 0.        , 0.01568627,\n",
       "        0.08235294, 0.14901961, 0.21568627, 0.28235294, 0.34901961,\n",
       "        0.41568627, 0.50196078, 0.56470588],\n",
       "       [0.        , 0.06666667, 0.13333333, 0.2       , 0.26666667,\n",
       "        0.33333333, 0.4       , 0.46666667, 0.53333333, 0.6       ,\n",
       "        0.66666667, 0.74901961, 0.81568627, 0.88235294, 0.94901961,\n",
       "        1.        , 1.        , 1.        , 1.        , 1.        ,\n",
       "        1.        , 1.        , 1.        , 1.        , 1.        ,\n",
       "        1.        , 1.        , 1.        , 1.        , 1.        ,\n",
       "        1.        , 1.        , 1.        , 1.        , 1.        ,\n",
       "        1.        , 1.        , 1.        , 1.        , 1.        ,\n",
       "        1.        , 1.        , 1.        , 1.        , 1.        ,\n",
       "        0.93333333, 0.86666667, 0.8       , 0.73333333, 0.66666667,\n",
       "        0.6       , 0.53333333, 0.46666667, 0.4       , 0.33333333,\n",
       "        0.25098039, 0.18431373, 0.11764706, 0.05098039, 0.        ,\n",
       "        0.        , 0.        , 0.        , 0.        , 0.        ,\n",
       "        0.        , 0.        , 0.        ],\n",
       "       [0.        , 0.        , 0.        , 0.        , 0.        ,\n",
       "        0.        , 0.        , 0.        , 0.        , 0.        ,\n",
       "        0.        , 0.        , 0.        , 0.        , 0.        ,\n",
       "        0.        , 0.        , 0.        , 0.        , 0.        ,\n",
       "        0.        , 0.        , 0.        , 0.        , 0.        ,\n",
       "        0.        , 0.        , 0.        , 0.        , 0.        ,\n",
       "        0.03137255, 0.10196078, 0.16470588, 0.25098039, 0.31764706,\n",
       "        0.38431373, 0.45098039, 0.51764706, 0.58431373, 0.65098039,\n",
       "        0.71764706, 0.78431373, 0.85098039, 0.91764706, 1.        ,\n",
       "        1.        , 1.        , 1.        , 1.        , 1.        ,\n",
       "        1.        , 1.        , 1.        , 1.        , 1.        ,\n",
       "        1.        , 1.        , 1.        , 1.        , 1.        ,\n",
       "        1.        , 1.        , 1.        , 1.        , 1.        ,\n",
       "        1.        , 1.        , 1.        ],\n",
       "       [0.50196078, 0.50196078, 0.50196078, 0.50196078, 0.50196078,\n",
       "        0.50196078, 0.50196078, 0.50196078, 0.50196078, 0.50196078,\n",
       "        0.50196078, 0.50196078, 0.50196078, 0.50196078, 0.50196078,\n",
       "        0.50196078, 0.50196078, 0.50196078, 0.50196078, 0.50196078,\n",
       "        0.50196078, 0.50196078, 0.50196078, 0.50196078, 0.50196078,\n",
       "        0.50196078, 0.50196078, 0.50196078, 0.50196078, 0.50196078,\n",
       "        0.50196078, 0.50196078, 0.50196078, 0.50196078, 0.50196078,\n",
       "        0.50196078, 0.50196078, 0.50196078, 0.50196078, 0.50196078,\n",
       "        0.50196078, 0.50196078, 0.50196078, 0.50196078, 0.50196078,\n",
       "        0.50196078, 0.50196078, 0.50196078, 0.50196078, 0.50196078,\n",
       "        0.50196078, 0.50196078, 0.50196078, 0.50196078, 0.50196078,\n",
       "        0.50196078, 0.50196078, 0.50196078, 0.50196078, 0.50196078,\n",
       "        0.50196078, 0.50196078, 0.50196078, 0.50196078, 0.50196078,\n",
       "        0.50196078, 0.50196078, 0.50196078]]), neuron_colors_hex=['#ff0000', '#ff1100', '#ff2200', '#ff3300', '#ff4400', '#ff5500', '#ff6600', '#ff7700', '#ff8800', '#ff9900', '#ffaa00', '#ffbf00', '#ffd000', '#ffe100', '#fff200', '#fbff00', '#eaff00', '#d9ff00', '#c8ff00', '#b7ff00', '#a6ff00', '#95ff00', '#80ff00', '#6fff00', '#5eff00', '#4dff00', '#3cff00', '#2bff00', '#1aff00', '#09ff00', '#00ff08', '#00ff1a', '#00ff2a', '#00ff40', '#00ff51', '#00ff62', '#00ff73', '#00ff84', '#00ff95', '#00ffa6', '#00ffb7', '#00ffc8', '#00ffd9', '#00ffea', '#00ffff', '#00eeff', '#00ddff', '#00ccff', '#00bbff', '#00aaff', '#0099ff', '#0088ff', '#0077ff', '#0066ff', '#0055ff', '#0040ff', '#002fff', '#001eff', '#000dff', '#0400ff', '#1500ff', '#2600ff', '#3700ff', '#4800ff', '#5900ff', '#6a00ff', '#8000ff', '#9000ff'], neuron_qcolors_map={0: <PyQt5.QtGui.QColor object at 0x00000298090FA0B0>, 1: <PyQt5.QtGui.QColor object at 0x00000298090FA120>, 2: <PyQt5.QtGui.QColor object at 0x00000298090FA190>, 3: <PyQt5.QtGui.QColor object at 0x00000298090FA200>, 4: <PyQt5.QtGui.QColor object at 0x00000298090FA270>, 5: <PyQt5.QtGui.QColor object at 0x00000298090FA2E0>, 6: <PyQt5.QtGui.QColor object at 0x00000298090FA350>, 7: <PyQt5.QtGui.QColor object at 0x00000298090FA3C0>, 8: <PyQt5.QtGui.QColor object at 0x00000298090FA430>, 9: <PyQt5.QtGui.QColor object at 0x00000298090FA4A0>, 10: <PyQt5.QtGui.QColor object at 0x00000298090FA510>, 11: <PyQt5.QtGui.QColor object at 0x00000298090FA580>, 12: <PyQt5.QtGui.QColor object at 0x00000298090F97B0>, 13: <PyQt5.QtGui.QColor object at 0x00000298090F9820>, 14: <PyQt5.QtGui.QColor object at 0x00000298090F9890>, 15: <PyQt5.QtGui.QColor object at 0x00000298090F9900>, 16: <PyQt5.QtGui.QColor object at 0x00000298090F9970>, 17: <PyQt5.QtGui.QColor object at 0x00000298090F99E0>, 18: <PyQt5.QtGui.QColor object at 0x00000298090F9A50>, 19: <PyQt5.QtGui.QColor object at 0x00000298090F9AC0>, 20: <PyQt5.QtGui.QColor object at 0x00000298090F9B30>, 21: <PyQt5.QtGui.QColor object at 0x00000298090F9BA0>, 22: <PyQt5.QtGui.QColor object at 0x00000298090F9C10>, 23: <PyQt5.QtGui.QColor object at 0x00000298090F9C80>, 24: <PyQt5.QtGui.QColor object at 0x00000298090F9CF0>, 25: <PyQt5.QtGui.QColor object at 0x00000298090F9D60>, 26: <PyQt5.QtGui.QColor object at 0x00000298090F9DD0>, 27: <PyQt5.QtGui.QColor object at 0x00000298090F9E40>, 28: <PyQt5.QtGui.QColor object at 0x00000298090F9EB0>, 29: <PyQt5.QtGui.QColor object at 0x00000298090F9F20>, 30: <PyQt5.QtGui.QColor object at 0x00000298090F9F90>, 31: <PyQt5.QtGui.QColor object at 0x00000298090F9740>, 32: <PyQt5.QtGui.QColor object at 0x00000298090FB430>, 33: <PyQt5.QtGui.QColor object at 0x00000298090FB4A0>, 34: <PyQt5.QtGui.QColor object at 0x00000298090FB510>, 35: <PyQt5.QtGui.QColor object at 0x00000298090FB580>, 36: <PyQt5.QtGui.QColor object at 0x00000298090FB5F0>, 37: <PyQt5.QtGui.QColor object at 0x00000298090FB660>, 38: <PyQt5.QtGui.QColor object at 0x00000298090FB6D0>, 39: <PyQt5.QtGui.QColor object at 0x00000298090FB740>, 40: <PyQt5.QtGui.QColor object at 0x00000298090FB7B0>, 41: <PyQt5.QtGui.QColor object at 0x00000298090FB820>, 42: <PyQt5.QtGui.QColor object at 0x00000298090FB890>, 43: <PyQt5.QtGui.QColor object at 0x00000298090FB900>, 44: <PyQt5.QtGui.QColor object at 0x00000298090FB970>, 45: <PyQt5.QtGui.QColor object at 0x00000298090FB9E0>, 46: <PyQt5.QtGui.QColor object at 0x00000298090FBA50>, 47: <PyQt5.QtGui.QColor object at 0x00000298090FBAC0>, 48: <PyQt5.QtGui.QColor object at 0x00000298090FBB30>, 49: <PyQt5.QtGui.QColor object at 0x00000298090FBBA0>, 50: <PyQt5.QtGui.QColor object at 0x00000298090FBC10>, 51: <PyQt5.QtGui.QColor object at 0x00000298090FBC80>, 52: <PyQt5.QtGui.QColor object at 0x00000298090FBCF0>, 53: <PyQt5.QtGui.QColor object at 0x00000298090FBD60>, 54: <PyQt5.QtGui.QColor object at 0x00000298090FBDD0>, 55: <PyQt5.QtGui.QColor object at 0x00000298090FBE40>, 56: <PyQt5.QtGui.QColor object at 0x00000298090FBEB0>, 57: <PyQt5.QtGui.QColor object at 0x00000298090FBF20>, 58: <PyQt5.QtGui.QColor object at 0x00000298090FBF90>, 59: <PyQt5.QtGui.QColor object at 0x0000029807DDE040>, 60: <PyQt5.QtGui.QColor object at 0x0000029807DDE0B0>, 61: <PyQt5.QtGui.QColor object at 0x0000029807DDE120>, 62: <PyQt5.QtGui.QColor object at 0x0000029807DDE190>, 63: <PyQt5.QtGui.QColor object at 0x0000029807DDE200>, 64: <PyQt5.QtGui.QColor object at 0x0000029807DDE270>, 65: <PyQt5.QtGui.QColor object at 0x0000029807DDE2E0>, 66: <PyQt5.QtGui.QColor object at 0x0000029807DDE350>, 67: <PyQt5.QtGui.QColor object at 0x0000029807DDE3C0>}, config_items=IndexedOrderedDict([(87, (None, None, {<SpikeEmphasisState.Hidden: 0>: <PyQt5.QtGui.QPen object at 0x0000029807DB0430>, <SpikeEmphasisState.Deemphasized: 1>: <PyQt5.QtGui.QPen object at 0x0000029807DB03C0>, <SpikeEmphasisState.Default: 2>: <PyQt5.QtGui.QPen object at 0x0000029807DB0350>, <SpikeEmphasisState.Emphasized: 3>: <PyQt5.QtGui.QPen object at 0x0000029807DB02E0>}, None, None)), (102, (None, None, {<SpikeEmphasisState.Hidden: 0>: <PyQt5.QtGui.QPen object at 0x0000029807DB0270>, <SpikeEmphasisState.Deemphasized: 1>: <PyQt5.QtGui.QPen object at 0x0000029807DB0200>, <SpikeEmphasisState.Default: 2>: <PyQt5.QtGui.QPen object at 0x0000029807DB0190>, <SpikeEmphasisState.Emphasized: 3>: <PyQt5.QtGui.QPen object at 0x0000029807DB0120>}, None, None)), (68, (None, None, {<SpikeEmphasisState.Hidden: 0>: <PyQt5.QtGui.QPen object at 0x0000029807DB00B0>, <SpikeEmphasisState.Deemphasized: 1>: <PyQt5.QtGui.QPen object at 0x0000029807DB0040>, <SpikeEmphasisState.Default: 2>: <PyQt5.QtGui.QPen object at 0x00000298090F9040>, <SpikeEmphasisState.Emphasized: 3>: <PyQt5.QtGui.QPen object at 0x00000298090F90B0>}, None, None)), (34, (None, None, {<SpikeEmphasisState.Hidden: 0>: <PyQt5.QtGui.QPen object at 0x00000298090F9120>, <SpikeEmphasisState.Deemphasized: 1>: <PyQt5.QtGui.QPen object at 0x00000298090F9190>, <SpikeEmphasisState.Default: 2>: <PyQt5.QtGui.QPen object at 0x00000298090F9200>, <SpikeEmphasisState.Emphasized: 3>: <PyQt5.QtGui.QPen object at 0x00000298090F9270>}, None, None)), (54, (None, None, {<SpikeEmphasisState.Hidden: 0>: <PyQt5.QtGui.QPen object at 0x00000298090F92E0>, <SpikeEmphasisState.Deemphasized: 1>: <PyQt5.QtGui.QPen object at 0x00000298090F9350>, <SpikeEmphasisState.Default: 2>: <PyQt5.QtGui.QPen object at 0x00000298090F93C0>, <SpikeEmphasisState.Emphasized: 3>: <PyQt5.QtGui.QPen object at 0x00000298090F9430>}, None, None)), (74, (None, None, {<SpikeEmphasisState.Hidden: 0>: <PyQt5.QtGui.QPen object at 0x00000298090F94A0>, <SpikeEmphasisState.Deemphasized: 1>: <PyQt5.QtGui.QPen object at 0x00000298090F9510>, <SpikeEmphasisState.Default: 2>: <PyQt5.QtGui.QPen object at 0x00000298090F9580>, <SpikeEmphasisState.Emphasized: 3>: <PyQt5.QtGui.QPen object at 0x00000298090F95F0>}, None, None)), (86, (None, None, {<SpikeEmphasisState.Hidden: 0>: <PyQt5.QtGui.QPen object at 0x00000298090F9660>, <SpikeEmphasisState.Deemphasized: 1>: <PyQt5.QtGui.QPen object at 0x00000298090F96D0>, <SpikeEmphasisState.Default: 2>: <PyQt5.QtGui.QPen object at 0x0000029807DC5AC0>, <SpikeEmphasisState.Emphasized: 3>: <PyQt5.QtGui.QPen object at 0x0000029807DC5A50>}, None, None)), (51, (None, None, {<SpikeEmphasisState.Hidden: 0>: <PyQt5.QtGui.QPen object at 0x0000029807DC59E0>, <SpikeEmphasisState.Deemphasized: 1>: <PyQt5.QtGui.QPen object at 0x0000029807DC5970>, <SpikeEmphasisState.Default: 2>: <PyQt5.QtGui.QPen object at 0x0000029807DC5900>, <SpikeEmphasisState.Emphasized: 3>: <PyQt5.QtGui.QPen object at 0x0000029807DC5890>}, None, None)), (92, (None, None, {<SpikeEmphasisState.Hidden: 0>: <PyQt5.QtGui.QPen object at 0x0000029807DC5820>, <SpikeEmphasisState.Deemphasized: 1>: <PyQt5.QtGui.QPen object at 0x0000029807DC57B0>, <SpikeEmphasisState.Default: 2>: <PyQt5.QtGui.QPen object at 0x0000029807DC5740>, <SpikeEmphasisState.Emphasized: 3>: <PyQt5.QtGui.QPen object at 0x0000029807DC56D0>}, None, None)), (109, (None, None, {<SpikeEmphasisState.Hidden: 0>: <PyQt5.QtGui.QPen object at 0x0000029807DC5660>, <SpikeEmphasisState.Deemphasized: 1>: <PyQt5.QtGui.QPen object at 0x0000029807DC55F0>, <SpikeEmphasisState.Default: 2>: <PyQt5.QtGui.QPen object at 0x0000029807DC5580>, <SpikeEmphasisState.Emphasized: 3>: <PyQt5.QtGui.QPen object at 0x0000029807DC54A0>}, None, None)), (63, (None, None, {<SpikeEmphasisState.Hidden: 0>: <PyQt5.QtGui.QPen object at 0x0000029807DC5510>, <SpikeEmphasisState.Deemphasized: 1>: <PyQt5.QtGui.QPen object at 0x0000029807DC52E0>, <SpikeEmphasisState.Default: 2>: <PyQt5.QtGui.QPen object at 0x0000029807DC5430>, <SpikeEmphasisState.Emphasized: 3>: <PyQt5.QtGui.QPen object at 0x0000029807DC53C0>}, None, None)), (5, (None, None, {<SpikeEmphasisState.Hidden: 0>: <PyQt5.QtGui.QPen object at 0x0000029807DC5350>, <SpikeEmphasisState.Deemphasized: 1>: <PyQt5.QtGui.QPen object at 0x0000029807DC5270>, <SpikeEmphasisState.Default: 2>: <PyQt5.QtGui.QPen object at 0x0000029807DC5200>, <SpikeEmphasisState.Emphasized: 3>: <PyQt5.QtGui.QPen object at 0x0000029807DC5040>}, None, None)), (83, (None, None, {<SpikeEmphasisState.Hidden: 0>: <PyQt5.QtGui.QPen object at 0x0000029807DC50B0>, <SpikeEmphasisState.Deemphasized: 1>: <PyQt5.QtGui.QPen object at 0x0000029807DC5190>, <SpikeEmphasisState.Default: 2>: <PyQt5.QtGui.QPen object at 0x0000029807DC5120>, <SpikeEmphasisState.Emphasized: 3>: <PyQt5.QtGui.QPen object at 0x0000029807BACF90>}, None, None)), (24, (None, None, {<SpikeEmphasisState.Hidden: 0>: <PyQt5.QtGui.QPen object at 0x0000029807BACE40>, <SpikeEmphasisState.Deemphasized: 1>: <PyQt5.QtGui.QPen object at 0x0000029807BACDD0>, <SpikeEmphasisState.Default: 2>: <PyQt5.QtGui.QPen object at 0x0000029807BACEB0>, <SpikeEmphasisState.Emphasized: 3>: <PyQt5.QtGui.QPen object at 0x0000029807BACF20>}, None, None)), (96, (None, None, {<SpikeEmphasisState.Hidden: 0>: <PyQt5.QtGui.QPen object at 0x0000029807BACD60>, <SpikeEmphasisState.Deemphasized: 1>: <PyQt5.QtGui.QPen object at 0x0000029807DDF0B0>, <SpikeEmphasisState.Default: 2>: <PyQt5.QtGui.QPen object at 0x0000029807DDFA50>, <SpikeEmphasisState.Emphasized: 3>: <PyQt5.QtGui.QPen object at 0x0000029807DDF900>}, None, None)), (69, (None, None, {<SpikeEmphasisState.Hidden: 0>: <PyQt5.QtGui.QPen object at 0x0000029807DDF970>, <SpikeEmphasisState.Deemphasized: 1>: <PyQt5.QtGui.QPen object at 0x0000029807DDF9E0>, <SpikeEmphasisState.Default: 2>: <PyQt5.QtGui.QPen object at 0x0000029807DDFB30>, <SpikeEmphasisState.Emphasized: 3>: <PyQt5.QtGui.QPen object at 0x0000029807DDFBA0>}, None, None)), (93, (None, None, {<SpikeEmphasisState.Hidden: 0>: <PyQt5.QtGui.QPen object at 0x0000029807DDFC10>, <SpikeEmphasisState.Deemphasized: 1>: <PyQt5.QtGui.QPen object at 0x0000029807DDFC80>, <SpikeEmphasisState.Default: 2>: <PyQt5.QtGui.QPen object at 0x0000029807DDFCF0>, <SpikeEmphasisState.Emphasized: 3>: <PyQt5.QtGui.QPen object at 0x0000029807DDFD60>}, None, None)), (49, (None, None, {<SpikeEmphasisState.Hidden: 0>: <PyQt5.QtGui.QPen object at 0x0000029807DDFDD0>, <SpikeEmphasisState.Deemphasized: 1>: <PyQt5.QtGui.QPen object at 0x0000029807DDFE40>, <SpikeEmphasisState.Default: 2>: <PyQt5.QtGui.QPen object at 0x0000029807DDFEB0>, <SpikeEmphasisState.Emphasized: 3>: <PyQt5.QtGui.QPen object at 0x0000029807DDFF20>}, None, None)), (15, (None, None, {<SpikeEmphasisState.Hidden: 0>: <PyQt5.QtGui.QPen object at 0x0000029807DDFF90>, <SpikeEmphasisState.Deemphasized: 1>: <PyQt5.QtGui.QPen object at 0x0000029807DDF820>, <SpikeEmphasisState.Default: 2>: <PyQt5.QtGui.QPen object at 0x00000298090FAF90>, <SpikeEmphasisState.Emphasized: 3>: <PyQt5.QtGui.QPen object at 0x00000298090FAF20>}, None, None)), (26, (None, None, {<SpikeEmphasisState.Hidden: 0>: <PyQt5.QtGui.QPen object at 0x00000298090FAEB0>, <SpikeEmphasisState.Deemphasized: 1>: <PyQt5.QtGui.QPen object at 0x00000298090FAE40>, <SpikeEmphasisState.Default: 2>: <PyQt5.QtGui.QPen object at 0x00000298090FADD0>, <SpikeEmphasisState.Emphasized: 3>: <PyQt5.QtGui.QPen object at 0x00000298090FAD60>}, None, None)), (32, (None, None, {<SpikeEmphasisState.Hidden: 0>: <PyQt5.QtGui.QPen object at 0x00000298090FACF0>, <SpikeEmphasisState.Deemphasized: 1>: <PyQt5.QtGui.QPen object at 0x00000298090FAC80>, <SpikeEmphasisState.Default: 2>: <PyQt5.QtGui.QPen object at 0x00000298090FAC10>, <SpikeEmphasisState.Emphasized: 3>: <PyQt5.QtGui.QPen object at 0x00000298090FABA0>}, None, None)), (14, (None, None, {<SpikeEmphasisState.Hidden: 0>: <PyQt5.QtGui.QPen object at 0x00000298090FAB30>, <SpikeEmphasisState.Deemphasized: 1>: <PyQt5.QtGui.QPen object at 0x00000298090FAAC0>, <SpikeEmphasisState.Default: 2>: <PyQt5.QtGui.QPen object at 0x00000298090FAA50>, <SpikeEmphasisState.Emphasized: 3>: <PyQt5.QtGui.QPen object at 0x00000298090FA9E0>}, None, None)), (31, (None, None, {<SpikeEmphasisState.Hidden: 0>: <PyQt5.QtGui.QPen object at 0x00000298090FA970>, <SpikeEmphasisState.Deemphasized: 1>: <PyQt5.QtGui.QPen object at 0x00000298090FA900>, <SpikeEmphasisState.Default: 2>: <PyQt5.QtGui.QPen object at 0x00000298090FA890>, <SpikeEmphasisState.Emphasized: 3>: <PyQt5.QtGui.QPen object at 0x00000298090FA820>}, None, None)), (33, (None, None, {<SpikeEmphasisState.Hidden: 0>: <PyQt5.QtGui.QPen object at 0x00000298090FA7B0>, <SpikeEmphasisState.Deemphasized: 1>: <PyQt5.QtGui.QPen object at 0x00000298090FA740>, <SpikeEmphasisState.Default: 2>: <PyQt5.QtGui.QPen object at 0x00000298090FA6D0>, <SpikeEmphasisState.Emphasized: 3>: <PyQt5.QtGui.QPen object at 0x00000298090FA660>}, None, None)), (55, (None, None, {<SpikeEmphasisState.Hidden: 0>: <PyQt5.QtGui.QPen object at 0x00000298090FA5F0>, <SpikeEmphasisState.Deemphasized: 1>: <PyQt5.QtGui.QPen object at 0x00000298090FA040>, <SpikeEmphasisState.Default: 2>: <PyQt5.QtGui.QPen object at 0x0000029807DDE430>, <SpikeEmphasisState.Emphasized: 3>: <PyQt5.QtGui.QPen object at 0x0000029807DDE4A0>}, None, None)), (76, (None, None, {<SpikeEmphasisState.Hidden: 0>: <PyQt5.QtGui.QPen object at 0x0000029807DDE510>, <SpikeEmphasisState.Deemphasized: 1>: <PyQt5.QtGui.QPen object at 0x0000029807DDE580>, <SpikeEmphasisState.Default: 2>: <PyQt5.QtGui.QPen object at 0x0000029807DDE5F0>, <SpikeEmphasisState.Emphasized: 3>: <PyQt5.QtGui.QPen object at 0x0000029807DDE660>}, None, None)), (3, (None, None, {<SpikeEmphasisState.Hidden: 0>: <PyQt5.QtGui.QPen object at 0x0000029807DDE6D0>, <SpikeEmphasisState.Deemphasized: 1>: <PyQt5.QtGui.QPen object at 0x0000029807DDE740>, <SpikeEmphasisState.Default: 2>: <PyQt5.QtGui.QPen object at 0x0000029807DDE7B0>, <SpikeEmphasisState.Emphasized: 3>: <PyQt5.QtGui.QPen object at 0x0000029807DDE820>}, None, None)), (25, (None, None, {<SpikeEmphasisState.Hidden: 0>: <PyQt5.QtGui.QPen object at 0x0000029807DDE890>, <SpikeEmphasisState.Deemphasized: 1>: <PyQt5.QtGui.QPen object at 0x0000029807DDE900>, <SpikeEmphasisState.Default: 2>: <PyQt5.QtGui.QPen object at 0x0000029807DDE970>, <SpikeEmphasisState.Emphasized: 3>: <PyQt5.QtGui.QPen object at 0x0000029807DDE9E0>}, None, None)), (50, (None, None, {<SpikeEmphasisState.Hidden: 0>: <PyQt5.QtGui.QPen object at 0x0000029807DDEA50>, <SpikeEmphasisState.Deemphasized: 1>: <PyQt5.QtGui.QPen object at 0x0000029807DDEAC0>, <SpikeEmphasisState.Default: 2>: <PyQt5.QtGui.QPen object at 0x0000029807DDEB30>, <SpikeEmphasisState.Emphasized: 3>: <PyQt5.QtGui.QPen object at 0x0000029807DDEBA0>}, None, None)), (82, (None, None, {<SpikeEmphasisState.Hidden: 0>: <PyQt5.QtGui.QPen object at 0x0000029807DDEC10>, <SpikeEmphasisState.Deemphasized: 1>: <PyQt5.QtGui.QPen object at 0x0000029807DDEC80>, <SpikeEmphasisState.Default: 2>: <PyQt5.QtGui.QPen object at 0x0000029807DDECF0>, <SpikeEmphasisState.Emphasized: 3>: <PyQt5.QtGui.QPen object at 0x0000029807DDED60>}, None, None)), (10, (None, None, {<SpikeEmphasisState.Hidden: 0>: <PyQt5.QtGui.QPen object at 0x0000029807DDEDD0>, <SpikeEmphasisState.Deemphasized: 1>: <PyQt5.QtGui.QPen object at 0x0000029807DDEE40>, <SpikeEmphasisState.Default: 2>: <PyQt5.QtGui.QPen object at 0x0000029807DDEEB0>, <SpikeEmphasisState.Emphasized: 3>: <PyQt5.QtGui.QPen object at 0x0000029807DDEF20>}, None, None)), (78, (None, None, {<SpikeEmphasisState.Hidden: 0>: <PyQt5.QtGui.QPen object at 0x0000029807DDEF90>, <SpikeEmphasisState.Deemphasized: 1>: <PyQt5.QtGui.QPen object at 0x00000298090FCF90>, <SpikeEmphasisState.Default: 2>: <PyQt5.QtGui.QPen object at 0x00000298090FCF20>, <SpikeEmphasisState.Emphasized: 3>: <PyQt5.QtGui.QPen object at 0x00000298090FCEB0>}, None, None)), (90, (None, None, {<SpikeEmphasisState.Hidden: 0>: <PyQt5.QtGui.QPen object at 0x00000298090FCE40>, <SpikeEmphasisState.Deemphasized: 1>: <PyQt5.QtGui.QPen object at 0x00000298090FCDD0>, <SpikeEmphasisState.Default: 2>: <PyQt5.QtGui.QPen object at 0x00000298090FCD60>, <SpikeEmphasisState.Emphasized: 3>: <PyQt5.QtGui.QPen object at 0x00000298090FCCF0>}, None, None)), (64, (None, None, {<SpikeEmphasisState.Hidden: 0>: <PyQt5.QtGui.QPen object at 0x00000298090FCC80>, <SpikeEmphasisState.Deemphasized: 1>: <PyQt5.QtGui.QPen object at 0x00000298090FCC10>, <SpikeEmphasisState.Default: 2>: <PyQt5.QtGui.QPen object at 0x00000298090FCBA0>, <SpikeEmphasisState.Emphasized: 3>: <PyQt5.QtGui.QPen object at 0x00000298090FCB30>}, None, None)), (61, (None, None, {<SpikeEmphasisState.Hidden: 0>: <PyQt5.QtGui.QPen object at 0x00000298090FCAC0>, <SpikeEmphasisState.Deemphasized: 1>: <PyQt5.QtGui.QPen object at 0x00000298090FCA50>, <SpikeEmphasisState.Default: 2>: <PyQt5.QtGui.QPen object at 0x00000298090FC9E0>, <SpikeEmphasisState.Emphasized: 3>: <PyQt5.QtGui.QPen object at 0x00000298090FC970>}, None, None)), (75, (None, None, {<SpikeEmphasisState.Hidden: 0>: <PyQt5.QtGui.QPen object at 0x00000298090FC900>, <SpikeEmphasisState.Deemphasized: 1>: <PyQt5.QtGui.QPen object at 0x00000298090FC890>, <SpikeEmphasisState.Default: 2>: <PyQt5.QtGui.QPen object at 0x00000298090FC820>, <SpikeEmphasisState.Emphasized: 3>: <PyQt5.QtGui.QPen object at 0x00000298090FC7B0>}, None, None)), (8, (None, None, {<SpikeEmphasisState.Hidden: 0>: <PyQt5.QtGui.QPen object at 0x00000298090FC740>, <SpikeEmphasisState.Deemphasized: 1>: <PyQt5.QtGui.QPen object at 0x00000298090FC6D0>, <SpikeEmphasisState.Default: 2>: <PyQt5.QtGui.QPen object at 0x00000298090FC660>, <SpikeEmphasisState.Emphasized: 3>: <PyQt5.QtGui.QPen object at 0x00000298090FC5F0>}, None, None)), (85, (None, None, {<SpikeEmphasisState.Hidden: 0>: <PyQt5.QtGui.QPen object at 0x00000298090FC580>, <SpikeEmphasisState.Deemphasized: 1>: <PyQt5.QtGui.QPen object at 0x00000298090FC510>, <SpikeEmphasisState.Default: 2>: <PyQt5.QtGui.QPen object at 0x00000298090FC4A0>, <SpikeEmphasisState.Emphasized: 3>: <PyQt5.QtGui.QPen object at 0x00000298090FC430>}, None, None)), (2, (None, None, {<SpikeEmphasisState.Hidden: 0>: <PyQt5.QtGui.QPen object at 0x00000298090FC3C0>, <SpikeEmphasisState.Deemphasized: 1>: <PyQt5.QtGui.QPen object at 0x00000298090FC350>, <SpikeEmphasisState.Default: 2>: <PyQt5.QtGui.QPen object at 0x00000298090FC2E0>, <SpikeEmphasisState.Emphasized: 3>: <PyQt5.QtGui.QPen object at 0x00000298090FC270>}, None, None)), (41, (None, None, {<SpikeEmphasisState.Hidden: 0>: <PyQt5.QtGui.QPen object at 0x00000298090FC200>, <SpikeEmphasisState.Deemphasized: 1>: <PyQt5.QtGui.QPen object at 0x00000298090FC190>, <SpikeEmphasisState.Default: 2>: <PyQt5.QtGui.QPen object at 0x00000298090FC120>, <SpikeEmphasisState.Emphasized: 3>: <PyQt5.QtGui.QPen object at 0x00000298090FC0B0>}, None, None)), (73, (None, None, {<SpikeEmphasisState.Hidden: 0>: <PyQt5.QtGui.QPen object at 0x00000298090FC040>, <SpikeEmphasisState.Deemphasized: 1>: <PyQt5.QtGui.QPen object at 0x00000298090FD040>, <SpikeEmphasisState.Default: 2>: <PyQt5.QtGui.QPen object at 0x00000298090FD0B0>, <SpikeEmphasisState.Emphasized: 3>: <PyQt5.QtGui.QPen object at 0x00000298090FD120>}, None, None)), (53, (None, None, {<SpikeEmphasisState.Hidden: 0>: <PyQt5.QtGui.QPen object at 0x00000298090FD190>, <SpikeEmphasisState.Deemphasized: 1>: <PyQt5.QtGui.QPen object at 0x00000298090FD200>, <SpikeEmphasisState.Default: 2>: <PyQt5.QtGui.QPen object at 0x00000298090FD270>, <SpikeEmphasisState.Emphasized: 3>: <PyQt5.QtGui.QPen object at 0x00000298090FD2E0>}, None, None)), (100, (None, None, {<SpikeEmphasisState.Hidden: 0>: <PyQt5.QtGui.QPen object at 0x00000298090FD350>, <SpikeEmphasisState.Deemphasized: 1>: <PyQt5.QtGui.QPen object at 0x00000298090FD3C0>, <SpikeEmphasisState.Default: 2>: <PyQt5.QtGui.QPen object at 0x00000298090FD430>, <SpikeEmphasisState.Emphasized: 3>: <PyQt5.QtGui.QPen object at 0x00000298090FD4A0>}, None, None)), (89, (None, None, {<SpikeEmphasisState.Hidden: 0>: <PyQt5.QtGui.QPen object at 0x00000298090FD510>, <SpikeEmphasisState.Deemphasized: 1>: <PyQt5.QtGui.QPen object at 0x00000298090FD580>, <SpikeEmphasisState.Default: 2>: <PyQt5.QtGui.QPen object at 0x00000298090FD5F0>, <SpikeEmphasisState.Emphasized: 3>: <PyQt5.QtGui.QPen object at 0x00000298090FD660>}, None, None)), (16, (None, None, {<SpikeEmphasisState.Hidden: 0>: <PyQt5.QtGui.QPen object at 0x00000298090FD6D0>, <SpikeEmphasisState.Deemphasized: 1>: <PyQt5.QtGui.QPen object at 0x00000298090FD740>, <SpikeEmphasisState.Default: 2>: <PyQt5.QtGui.QPen object at 0x00000298090FD7B0>, <SpikeEmphasisState.Emphasized: 3>: <PyQt5.QtGui.QPen object at 0x00000298090FD820>}, None, None)), (59, (None, None, {<SpikeEmphasisState.Hidden: 0>: <PyQt5.QtGui.QPen object at 0x00000298090FD890>, <SpikeEmphasisState.Deemphasized: 1>: <PyQt5.QtGui.QPen object at 0x00000298090FD900>, <SpikeEmphasisState.Default: 2>: <PyQt5.QtGui.QPen object at 0x00000298090FD970>, <SpikeEmphasisState.Emphasized: 3>: <PyQt5.QtGui.QPen object at 0x00000298090FD9E0>}, None, None)), (88, (None, None, {<SpikeEmphasisState.Hidden: 0>: <PyQt5.QtGui.QPen object at 0x00000298090FDA50>, <SpikeEmphasisState.Deemphasized: 1>: <PyQt5.QtGui.QPen object at 0x00000298090FDAC0>, <SpikeEmphasisState.Default: 2>: <PyQt5.QtGui.QPen object at 0x00000298090FDB30>, <SpikeEmphasisState.Emphasized: 3>: <PyQt5.QtGui.QPen object at 0x00000298090FDBA0>}, None, None)), (56, (None, None, {<SpikeEmphasisState.Hidden: 0>: <PyQt5.QtGui.QPen object at 0x00000298090FDC10>, <SpikeEmphasisState.Deemphasized: 1>: <PyQt5.QtGui.QPen object at 0x00000298090FDC80>, <SpikeEmphasisState.Default: 2>: <PyQt5.QtGui.QPen object at 0x00000298090FDCF0>, <SpikeEmphasisState.Emphasized: 3>: <PyQt5.QtGui.QPen object at 0x00000298090FDD60>}, None, None)), (108, (None, None, {<SpikeEmphasisState.Hidden: 0>: <PyQt5.QtGui.QPen object at 0x00000298090FDDD0>, <SpikeEmphasisState.Deemphasized: 1>: <PyQt5.QtGui.QPen object at 0x00000298090FDE40>, <SpikeEmphasisState.Default: 2>: <PyQt5.QtGui.QPen object at 0x00000298090FDEB0>, <SpikeEmphasisState.Emphasized: 3>: <PyQt5.QtGui.QPen object at 0x00000298090FDF20>}, None, None)), (66, (None, None, {<SpikeEmphasisState.Hidden: 0>: <PyQt5.QtGui.QPen object at 0x00000298090FDF90>, <SpikeEmphasisState.Deemphasized: 1>: <PyQt5.QtGui.QPen object at 0x00000298090FE040>, <SpikeEmphasisState.Default: 2>: <PyQt5.QtGui.QPen object at 0x00000298090FE0B0>, <SpikeEmphasisState.Emphasized: 3>: <PyQt5.QtGui.QPen object at 0x00000298090FE120>}, None, None)), (60, (None, None, {<SpikeEmphasisState.Hidden: 0>: <PyQt5.QtGui.QPen object at 0x00000298090FE190>, <SpikeEmphasisState.Deemphasized: 1>: <PyQt5.QtGui.QPen object at 0x00000298090FE200>, <SpikeEmphasisState.Default: 2>: <PyQt5.QtGui.QPen object at 0x00000298090FE270>, <SpikeEmphasisState.Emphasized: 3>: <PyQt5.QtGui.QPen object at 0x00000298090FE2E0>}, None, None)), (98, (None, None, {<SpikeEmphasisState.Hidden: 0>: <PyQt5.QtGui.QPen object at 0x00000298090FE350>, <SpikeEmphasisState.Deemphasized: 1>: <PyQt5.QtGui.QPen object at 0x00000298090FE3C0>, <SpikeEmphasisState.Default: 2>: <PyQt5.QtGui.QPen object at 0x00000298090FE430>, <SpikeEmphasisState.Emphasized: 3>: <PyQt5.QtGui.QPen object at 0x00000298090FE4A0>}, None, None)), (37, (None, None, {<SpikeEmphasisState.Hidden: 0>: <PyQt5.QtGui.QPen object at 0x00000298090FE510>, <SpikeEmphasisState.Deemphasized: 1>: <PyQt5.QtGui.QPen object at 0x00000298090FE580>, <SpikeEmphasisState.Default: 2>: <PyQt5.QtGui.QPen object at 0x00000298090FE5F0>, <SpikeEmphasisState.Emphasized: 3>: <PyQt5.QtGui.QPen object at 0x00000298090FE660>}, None, None)), (28, (None, None, {<SpikeEmphasisState.Hidden: 0>: <PyQt5.QtGui.QPen object at 0x00000298090FE6D0>, <SpikeEmphasisState.Deemphasized: 1>: <PyQt5.QtGui.QPen object at 0x00000298090FE740>, <SpikeEmphasisState.Default: 2>: <PyQt5.QtGui.QPen object at 0x00000298090FE7B0>, <SpikeEmphasisState.Emphasized: 3>: <PyQt5.QtGui.QPen object at 0x00000298090FE820>}, None, None)), (19, (None, None, {<SpikeEmphasisState.Hidden: 0>: <PyQt5.QtGui.QPen object at 0x00000298090FE890>, <SpikeEmphasisState.Deemphasized: 1>: <PyQt5.QtGui.QPen object at 0x00000298090FE900>, <SpikeEmphasisState.Default: 2>: <PyQt5.QtGui.QPen object at 0x00000298090FE970>, <SpikeEmphasisState.Emphasized: 3>: <PyQt5.QtGui.QPen object at 0x00000298090FE9E0>}, None, None)), (36, (None, None, {<SpikeEmphasisState.Hidden: 0>: <PyQt5.QtGui.QPen object at 0x00000298090FEA50>, <SpikeEmphasisState.Deemphasized: 1>: <PyQt5.QtGui.QPen object at 0x00000298090FEAC0>, <SpikeEmphasisState.Default: 2>: <PyQt5.QtGui.QPen object at 0x00000298090FEB30>, <SpikeEmphasisState.Emphasized: 3>: <PyQt5.QtGui.QPen object at 0x00000298090FEBA0>}, None, None)), (62, (None, None, {<SpikeEmphasisState.Hidden: 0>: <PyQt5.QtGui.QPen object at 0x00000298090FEC10>, <SpikeEmphasisState.Deemphasized: 1>: <PyQt5.QtGui.QPen object at 0x00000298090FEC80>, <SpikeEmphasisState.Default: 2>: <PyQt5.QtGui.QPen object at 0x00000298090FECF0>, <SpikeEmphasisState.Emphasized: 3>: <PyQt5.QtGui.QPen object at 0x00000298090FED60>}, None, None)), (57, (None, None, {<SpikeEmphasisState.Hidden: 0>: <PyQt5.QtGui.QPen object at 0x00000298090FEDD0>, <SpikeEmphasisState.Deemphasized: 1>: <PyQt5.QtGui.QPen object at 0x00000298090FEE40>, <SpikeEmphasisState.Default: 2>: <PyQt5.QtGui.QPen object at 0x00000298090FEEB0>, <SpikeEmphasisState.Emphasized: 3>: <PyQt5.QtGui.QPen object at 0x00000298090FEF20>}, None, None)), (11, (None, None, {<SpikeEmphasisState.Hidden: 0>: <PyQt5.QtGui.QPen object at 0x00000298090FEF90>, <SpikeEmphasisState.Deemphasized: 1>: <PyQt5.QtGui.QPen object at 0x00000298090FF040>, <SpikeEmphasisState.Default: 2>: <PyQt5.QtGui.QPen object at 0x00000298090FF0B0>, <SpikeEmphasisState.Emphasized: 3>: <PyQt5.QtGui.QPen object at 0x00000298090FF120>}, None, None)), (21, (None, None, {<SpikeEmphasisState.Hidden: 0>: <PyQt5.QtGui.QPen object at 0x00000298090FF190>, <SpikeEmphasisState.Deemphasized: 1>: <PyQt5.QtGui.QPen object at 0x00000298090FF200>, <SpikeEmphasisState.Default: 2>: <PyQt5.QtGui.QPen object at 0x00000298090FF270>, <SpikeEmphasisState.Emphasized: 3>: <PyQt5.QtGui.QPen object at 0x00000298090FF2E0>}, None, None)), (23, (None, None, {<SpikeEmphasisState.Hidden: 0>: <PyQt5.QtGui.QPen object at 0x00000298090FF350>, <SpikeEmphasisState.Deemphasized: 1>: <PyQt5.QtGui.QPen object at 0x00000298090FF3C0>, <SpikeEmphasisState.Default: 2>: <PyQt5.QtGui.QPen object at 0x00000298090FF430>, <SpikeEmphasisState.Emphasized: 3>: <PyQt5.QtGui.QPen object at 0x00000298090FF4A0>}, None, None)), (70, (None, None, {<SpikeEmphasisState.Hidden: 0>: <PyQt5.QtGui.QPen object at 0x00000298090FF510>, <SpikeEmphasisState.Deemphasized: 1>: <PyQt5.QtGui.QPen object at 0x00000298090FF580>, <SpikeEmphasisState.Default: 2>: <PyQt5.QtGui.QPen object at 0x00000298090FF5F0>, <SpikeEmphasisState.Emphasized: 3>: <PyQt5.QtGui.QPen object at 0x00000298090FF660>}, None, None)), (58, (None, None, {<SpikeEmphasisState.Hidden: 0>: <PyQt5.QtGui.QPen object at 0x00000298090FF6D0>, <SpikeEmphasisState.Deemphasized: 1>: <PyQt5.QtGui.QPen object at 0x00000298090FF740>, <SpikeEmphasisState.Default: 2>: <PyQt5.QtGui.QPen object at 0x00000298090FF7B0>, <SpikeEmphasisState.Emphasized: 3>: <PyQt5.QtGui.QPen object at 0x00000298090FF820>}, None, None)), (4, (None, None, {<SpikeEmphasisState.Hidden: 0>: <PyQt5.QtGui.QPen object at 0x00000298090FF890>, <SpikeEmphasisState.Deemphasized: 1>: <PyQt5.QtGui.QPen object at 0x00000298090FF900>, <SpikeEmphasisState.Default: 2>: <PyQt5.QtGui.QPen object at 0x00000298090FF970>, <SpikeEmphasisState.Emphasized: 3>: <PyQt5.QtGui.QPen object at 0x00000298090FF9E0>}, None, None)), (81, (None, None, {<SpikeEmphasisState.Hidden: 0>: <PyQt5.QtGui.QPen object at 0x00000298090FFA50>, <SpikeEmphasisState.Deemphasized: 1>: <PyQt5.QtGui.QPen object at 0x00000298090FFAC0>, <SpikeEmphasisState.Default: 2>: <PyQt5.QtGui.QPen object at 0x00000298090FFB30>, <SpikeEmphasisState.Emphasized: 3>: <PyQt5.QtGui.QPen object at 0x00000298090FFBA0>}, None, None)), (52, (None, None, {<SpikeEmphasisState.Hidden: 0>: <PyQt5.QtGui.QPen object at 0x00000298090FFC10>, <SpikeEmphasisState.Deemphasized: 1>: <PyQt5.QtGui.QPen object at 0x00000298090FFC80>, <SpikeEmphasisState.Default: 2>: <PyQt5.QtGui.QPen object at 0x00000298090FFCF0>, <SpikeEmphasisState.Emphasized: 3>: <PyQt5.QtGui.QPen object at 0x00000298090FFD60>}, None, None)), (67, (None, None, {<SpikeEmphasisState.Hidden: 0>: <PyQt5.QtGui.QPen object at 0x00000298090FFDD0>, <SpikeEmphasisState.Deemphasized: 1>: <PyQt5.QtGui.QPen object at 0x00000298090FFE40>, <SpikeEmphasisState.Default: 2>: <PyQt5.QtGui.QPen object at 0x00000298090FFEB0>, <SpikeEmphasisState.Emphasized: 3>: <PyQt5.QtGui.QPen object at 0x00000298090FFF20>}, None, None)), (13, (None, None, {<SpikeEmphasisState.Hidden: 0>: <PyQt5.QtGui.QPen object at 0x00000298090FFF90>, <SpikeEmphasisState.Deemphasized: 1>: <PyQt5.QtGui.QPen object at 0x0000029809100040>, <SpikeEmphasisState.Default: 2>: <PyQt5.QtGui.QPen object at 0x00000298091000B0>, <SpikeEmphasisState.Emphasized: 3>: <PyQt5.QtGui.QPen object at 0x0000029809100120>}, None, None))]))), config_fragile_linear_neuron_IDX_map={0: (None, None, {<SpikeEmphasisState.Hidden: 0>: <PyQt5.QtGui.QPen object at 0x0000029807DB0430>, <SpikeEmphasisState.Deemphasized: 1>: <PyQt5.QtGui.QPen object at 0x0000029807DB03C0>, <SpikeEmphasisState.Default: 2>: <PyQt5.QtGui.QPen object at 0x0000029807DB0350>, <SpikeEmphasisState.Emphasized: 3>: <PyQt5.QtGui.QPen object at 0x0000029807DB02E0>}, None, None), 1: (None, None, {<SpikeEmphasisState.Hidden: 0>: <PyQt5.QtGui.QPen object at 0x0000029807DB0270>, <SpikeEmphasisState.Deemphasized: 1>: <PyQt5.QtGui.QPen object at 0x0000029807DB0200>, <SpikeEmphasisState.Default: 2>: <PyQt5.QtGui.QPen object at 0x0000029807DB0190>, <SpikeEmphasisState.Emphasized: 3>: <PyQt5.QtGui.QPen object at 0x0000029807DB0120>}, None, None), 2: (None, None, {<SpikeEmphasisState.Hidden: 0>: <PyQt5.QtGui.QPen object at 0x0000029807DB00B0>, <SpikeEmphasisState.Deemphasized: 1>: <PyQt5.QtGui.QPen object at 0x0000029807DB0040>, <SpikeEmphasisState.Default: 2>: <PyQt5.QtGui.QPen object at 0x00000298090F9040>, <SpikeEmphasisState.Emphasized: 3>: <PyQt5.QtGui.QPen object at 0x00000298090F90B0>}, None, None), 3: (None, None, {<SpikeEmphasisState.Hidden: 0>: <PyQt5.QtGui.QPen object at 0x00000298090F9120>, <SpikeEmphasisState.Deemphasized: 1>: <PyQt5.QtGui.QPen object at 0x00000298090F9190>, <SpikeEmphasisState.Default: 2>: <PyQt5.QtGui.QPen object at 0x00000298090F9200>, <SpikeEmphasisState.Emphasized: 3>: <PyQt5.QtGui.QPen object at 0x00000298090F9270>}, None, None), 4: (None, None, {<SpikeEmphasisState.Hidden: 0>: <PyQt5.QtGui.QPen object at 0x00000298090F92E0>, <SpikeEmphasisState.Deemphasized: 1>: <PyQt5.QtGui.QPen object at 0x00000298090F9350>, <SpikeEmphasisState.Default: 2>: <PyQt5.QtGui.QPen object at 0x00000298090F93C0>, <SpikeEmphasisState.Emphasized: 3>: <PyQt5.QtGui.QPen object at 0x00000298090F9430>}, None, None), 5: (None, None, {<SpikeEmphasisState.Hidden: 0>: <PyQt5.QtGui.QPen object at 0x00000298090F94A0>, <SpikeEmphasisState.Deemphasized: 1>: <PyQt5.QtGui.QPen object at 0x00000298090F9510>, <SpikeEmphasisState.Default: 2>: <PyQt5.QtGui.QPen object at 0x00000298090F9580>, <SpikeEmphasisState.Emphasized: 3>: <PyQt5.QtGui.QPen object at 0x00000298090F95F0>}, None, None), 6: (None, None, {<SpikeEmphasisState.Hidden: 0>: <PyQt5.QtGui.QPen object at 0x00000298090F9660>, <SpikeEmphasisState.Deemphasized: 1>: <PyQt5.QtGui.QPen object at 0x00000298090F96D0>, <SpikeEmphasisState.Default: 2>: <PyQt5.QtGui.QPen object at 0x0000029807DC5AC0>, <SpikeEmphasisState.Emphasized: 3>: <PyQt5.QtGui.QPen object at 0x0000029807DC5A50>}, None, None), 7: (None, None, {<SpikeEmphasisState.Hidden: 0>: <PyQt5.QtGui.QPen object at 0x0000029807DC59E0>, <SpikeEmphasisState.Deemphasized: 1>: <PyQt5.QtGui.QPen object at 0x0000029807DC5970>, <SpikeEmphasisState.Default: 2>: <PyQt5.QtGui.QPen object at 0x0000029807DC5900>, <SpikeEmphasisState.Emphasized: 3>: <PyQt5.QtGui.QPen object at 0x0000029807DC5890>}, None, None), 8: (None, None, {<SpikeEmphasisState.Hidden: 0>: <PyQt5.QtGui.QPen object at 0x0000029807DC5820>, <SpikeEmphasisState.Deemphasized: 1>: <PyQt5.QtGui.QPen object at 0x0000029807DC57B0>, <SpikeEmphasisState.Default: 2>: <PyQt5.QtGui.QPen object at 0x0000029807DC5740>, <SpikeEmphasisState.Emphasized: 3>: <PyQt5.QtGui.QPen object at 0x0000029807DC56D0>}, None, None), 9: (None, None, {<SpikeEmphasisState.Hidden: 0>: <PyQt5.QtGui.QPen object at 0x0000029807DC5660>, <SpikeEmphasisState.Deemphasized: 1>: <PyQt5.QtGui.QPen object at 0x0000029807DC55F0>, <SpikeEmphasisState.Default: 2>: <PyQt5.QtGui.QPen object at 0x0000029807DC5580>, <SpikeEmphasisState.Emphasized: 3>: <PyQt5.QtGui.QPen object at 0x0000029807DC54A0>}, None, None), 10: (None, None, {<SpikeEmphasisState.Hidden: 0>: <PyQt5.QtGui.QPen object at 0x0000029807DC5510>, <SpikeEmphasisState.Deemphasized: 1>: <PyQt5.QtGui.QPen object at 0x0000029807DC52E0>, <SpikeEmphasisState.Default: 2>: <PyQt5.QtGui.QPen object at 0x0000029807DC5430>, <SpikeEmphasisState.Emphasized: 3>: <PyQt5.QtGui.QPen object at 0x0000029807DC53C0>}, None, None), 11: (None, None, {<SpikeEmphasisState.Hidden: 0>: <PyQt5.QtGui.QPen object at 0x0000029807DC5350>, <SpikeEmphasisState.Deemphasized: 1>: <PyQt5.QtGui.QPen object at 0x0000029807DC5270>, <SpikeEmphasisState.Default: 2>: <PyQt5.QtGui.QPen object at 0x0000029807DC5200>, <SpikeEmphasisState.Emphasized: 3>: <PyQt5.QtGui.QPen object at 0x0000029807DC5040>}, None, None), 12: (None, None, {<SpikeEmphasisState.Hidden: 0>: <PyQt5.QtGui.QPen object at 0x0000029807DC50B0>, <SpikeEmphasisState.Deemphasized: 1>: <PyQt5.QtGui.QPen object at 0x0000029807DC5190>, <SpikeEmphasisState.Default: 2>: <PyQt5.QtGui.QPen object at 0x0000029807DC5120>, <SpikeEmphasisState.Emphasized: 3>: <PyQt5.QtGui.QPen object at 0x0000029807BACF90>}, None, None), 13: (None, None, {<SpikeEmphasisState.Hidden: 0>: <PyQt5.QtGui.QPen object at 0x0000029807BACE40>, <SpikeEmphasisState.Deemphasized: 1>: <PyQt5.QtGui.QPen object at 0x0000029807BACDD0>, <SpikeEmphasisState.Default: 2>: <PyQt5.QtGui.QPen object at 0x0000029807BACEB0>, <SpikeEmphasisState.Emphasized: 3>: <PyQt5.QtGui.QPen object at 0x0000029807BACF20>}, None, None), 14: (None, None, {<SpikeEmphasisState.Hidden: 0>: <PyQt5.QtGui.QPen object at 0x0000029807BACD60>, <SpikeEmphasisState.Deemphasized: 1>: <PyQt5.QtGui.QPen object at 0x0000029807DDF0B0>, <SpikeEmphasisState.Default: 2>: <PyQt5.QtGui.QPen object at 0x0000029807DDFA50>, <SpikeEmphasisState.Emphasized: 3>: <PyQt5.QtGui.QPen object at 0x0000029807DDF900>}, None, None), 15: (None, None, {<SpikeEmphasisState.Hidden: 0>: <PyQt5.QtGui.QPen object at 0x0000029807DDF970>, <SpikeEmphasisState.Deemphasized: 1>: <PyQt5.QtGui.QPen object at 0x0000029807DDF9E0>, <SpikeEmphasisState.Default: 2>: <PyQt5.QtGui.QPen object at 0x0000029807DDFB30>, <SpikeEmphasisState.Emphasized: 3>: <PyQt5.QtGui.QPen object at 0x0000029807DDFBA0>}, None, None), 16: (None, None, {<SpikeEmphasisState.Hidden: 0>: <PyQt5.QtGui.QPen object at 0x0000029807DDFC10>, <SpikeEmphasisState.Deemphasized: 1>: <PyQt5.QtGui.QPen object at 0x0000029807DDFC80>, <SpikeEmphasisState.Default: 2>: <PyQt5.QtGui.QPen object at 0x0000029807DDFCF0>, <SpikeEmphasisState.Emphasized: 3>: <PyQt5.QtGui.QPen object at 0x0000029807DDFD60>}, None, None), 17: (None, None, {<SpikeEmphasisState.Hidden: 0>: <PyQt5.QtGui.QPen object at 0x0000029807DDFDD0>, <SpikeEmphasisState.Deemphasized: 1>: <PyQt5.QtGui.QPen object at 0x0000029807DDFE40>, <SpikeEmphasisState.Default: 2>: <PyQt5.QtGui.QPen object at 0x0000029807DDFEB0>, <SpikeEmphasisState.Emphasized: 3>: <PyQt5.QtGui.QPen object at 0x0000029807DDFF20>}, None, None), 18: (None, None, {<SpikeEmphasisState.Hidden: 0>: <PyQt5.QtGui.QPen object at 0x0000029807DDFF90>, <SpikeEmphasisState.Deemphasized: 1>: <PyQt5.QtGui.QPen object at 0x0000029807DDF820>, <SpikeEmphasisState.Default: 2>: <PyQt5.QtGui.QPen object at 0x00000298090FAF90>, <SpikeEmphasisState.Emphasized: 3>: <PyQt5.QtGui.QPen object at 0x00000298090FAF20>}, None, None), 19: (None, None, {<SpikeEmphasisState.Hidden: 0>: <PyQt5.QtGui.QPen object at 0x00000298090FAEB0>, <SpikeEmphasisState.Deemphasized: 1>: <PyQt5.QtGui.QPen object at 0x00000298090FAE40>, <SpikeEmphasisState.Default: 2>: <PyQt5.QtGui.QPen object at 0x00000298090FADD0>, <SpikeEmphasisState.Emphasized: 3>: <PyQt5.QtGui.QPen object at 0x00000298090FAD60>}, None, None), 20: (None, None, {<SpikeEmphasisState.Hidden: 0>: <PyQt5.QtGui.QPen object at 0x00000298090FACF0>, <SpikeEmphasisState.Deemphasized: 1>: <PyQt5.QtGui.QPen object at 0x00000298090FAC80>, <SpikeEmphasisState.Default: 2>: <PyQt5.QtGui.QPen object at 0x00000298090FAC10>, <SpikeEmphasisState.Emphasized: 3>: <PyQt5.QtGui.QPen object at 0x00000298090FABA0>}, None, None), 21: (None, None, {<SpikeEmphasisState.Hidden: 0>: <PyQt5.QtGui.QPen object at 0x00000298090FAB30>, <SpikeEmphasisState.Deemphasized: 1>: <PyQt5.QtGui.QPen object at 0x00000298090FAAC0>, <SpikeEmphasisState.Default: 2>: <PyQt5.QtGui.QPen object at 0x00000298090FAA50>, <SpikeEmphasisState.Emphasized: 3>: <PyQt5.QtGui.QPen object at 0x00000298090FA9E0>}, None, None), 22: (None, None, {<SpikeEmphasisState.Hidden: 0>: <PyQt5.QtGui.QPen object at 0x00000298090FA970>, <SpikeEmphasisState.Deemphasized: 1>: <PyQt5.QtGui.QPen object at 0x00000298090FA900>, <SpikeEmphasisState.Default: 2>: <PyQt5.QtGui.QPen object at 0x00000298090FA890>, <SpikeEmphasisState.Emphasized: 3>: <PyQt5.QtGui.QPen object at 0x00000298090FA820>}, None, None), 23: (None, None, {<SpikeEmphasisState.Hidden: 0>: <PyQt5.QtGui.QPen object at 0x00000298090FA7B0>, <SpikeEmphasisState.Deemphasized: 1>: <PyQt5.QtGui.QPen object at 0x00000298090FA740>, <SpikeEmphasisState.Default: 2>: <PyQt5.QtGui.QPen object at 0x00000298090FA6D0>, <SpikeEmphasisState.Emphasized: 3>: <PyQt5.QtGui.QPen object at 0x00000298090FA660>}, None, None), 24: (None, None, {<SpikeEmphasisState.Hidden: 0>: <PyQt5.QtGui.QPen object at 0x00000298090FA5F0>, <SpikeEmphasisState.Deemphasized: 1>: <PyQt5.QtGui.QPen object at 0x00000298090FA040>, <SpikeEmphasisState.Default: 2>: <PyQt5.QtGui.QPen object at 0x0000029807DDE430>, <SpikeEmphasisState.Emphasized: 3>: <PyQt5.QtGui.QPen object at 0x0000029807DDE4A0>}, None, None), 25: (None, None, {<SpikeEmphasisState.Hidden: 0>: <PyQt5.QtGui.QPen object at 0x0000029807DDE510>, <SpikeEmphasisState.Deemphasized: 1>: <PyQt5.QtGui.QPen object at 0x0000029807DDE580>, <SpikeEmphasisState.Default: 2>: <PyQt5.QtGui.QPen object at 0x0000029807DDE5F0>, <SpikeEmphasisState.Emphasized: 3>: <PyQt5.QtGui.QPen object at 0x0000029807DDE660>}, None, None), 26: (None, None, {<SpikeEmphasisState.Hidden: 0>: <PyQt5.QtGui.QPen object at 0x0000029807DDE6D0>, <SpikeEmphasisState.Deemphasized: 1>: <PyQt5.QtGui.QPen object at 0x0000029807DDE740>, <SpikeEmphasisState.Default: 2>: <PyQt5.QtGui.QPen object at 0x0000029807DDE7B0>, <SpikeEmphasisState.Emphasized: 3>: <PyQt5.QtGui.QPen object at 0x0000029807DDE820>}, None, None), 27: (None, None, {<SpikeEmphasisState.Hidden: 0>: <PyQt5.QtGui.QPen object at 0x0000029807DDE890>, <SpikeEmphasisState.Deemphasized: 1>: <PyQt5.QtGui.QPen object at 0x0000029807DDE900>, <SpikeEmphasisState.Default: 2>: <PyQt5.QtGui.QPen object at 0x0000029807DDE970>, <SpikeEmphasisState.Emphasized: 3>: <PyQt5.QtGui.QPen object at 0x0000029807DDE9E0>}, None, None), 28: (None, None, {<SpikeEmphasisState.Hidden: 0>: <PyQt5.QtGui.QPen object at 0x0000029807DDEA50>, <SpikeEmphasisState.Deemphasized: 1>: <PyQt5.QtGui.QPen object at 0x0000029807DDEAC0>, <SpikeEmphasisState.Default: 2>: <PyQt5.QtGui.QPen object at 0x0000029807DDEB30>, <SpikeEmphasisState.Emphasized: 3>: <PyQt5.QtGui.QPen object at 0x0000029807DDEBA0>}, None, None), 29: (None, None, {<SpikeEmphasisState.Hidden: 0>: <PyQt5.QtGui.QPen object at 0x0000029807DDEC10>, <SpikeEmphasisState.Deemphasized: 1>: <PyQt5.QtGui.QPen object at 0x0000029807DDEC80>, <SpikeEmphasisState.Default: 2>: <PyQt5.QtGui.QPen object at 0x0000029807DDECF0>, <SpikeEmphasisState.Emphasized: 3>: <PyQt5.QtGui.QPen object at 0x0000029807DDED60>}, None, None), 30: (None, None, {<SpikeEmphasisState.Hidden: 0>: <PyQt5.QtGui.QPen object at 0x0000029807DDEDD0>, <SpikeEmphasisState.Deemphasized: 1>: <PyQt5.QtGui.QPen object at 0x0000029807DDEE40>, <SpikeEmphasisState.Default: 2>: <PyQt5.QtGui.QPen object at 0x0000029807DDEEB0>, <SpikeEmphasisState.Emphasized: 3>: <PyQt5.QtGui.QPen object at 0x0000029807DDEF20>}, None, None), 31: (None, None, {<SpikeEmphasisState.Hidden: 0>: <PyQt5.QtGui.QPen object at 0x0000029807DDEF90>, <SpikeEmphasisState.Deemphasized: 1>: <PyQt5.QtGui.QPen object at 0x00000298090FCF90>, <SpikeEmphasisState.Default: 2>: <PyQt5.QtGui.QPen object at 0x00000298090FCF20>, <SpikeEmphasisState.Emphasized: 3>: <PyQt5.QtGui.QPen object at 0x00000298090FCEB0>}, None, None), 32: (None, None, {<SpikeEmphasisState.Hidden: 0>: <PyQt5.QtGui.QPen object at 0x00000298090FCE40>, <SpikeEmphasisState.Deemphasized: 1>: <PyQt5.QtGui.QPen object at 0x00000298090FCDD0>, <SpikeEmphasisState.Default: 2>: <PyQt5.QtGui.QPen object at 0x00000298090FCD60>, <SpikeEmphasisState.Emphasized: 3>: <PyQt5.QtGui.QPen object at 0x00000298090FCCF0>}, None, None), 33: (None, None, {<SpikeEmphasisState.Hidden: 0>: <PyQt5.QtGui.QPen object at 0x00000298090FCC80>, <SpikeEmphasisState.Deemphasized: 1>: <PyQt5.QtGui.QPen object at 0x00000298090FCC10>, <SpikeEmphasisState.Default: 2>: <PyQt5.QtGui.QPen object at 0x00000298090FCBA0>, <SpikeEmphasisState.Emphasized: 3>: <PyQt5.QtGui.QPen object at 0x00000298090FCB30>}, None, None), 34: (None, None, {<SpikeEmphasisState.Hidden: 0>: <PyQt5.QtGui.QPen object at 0x00000298090FCAC0>, <SpikeEmphasisState.Deemphasized: 1>: <PyQt5.QtGui.QPen object at 0x00000298090FCA50>, <SpikeEmphasisState.Default: 2>: <PyQt5.QtGui.QPen object at 0x00000298090FC9E0>, <SpikeEmphasisState.Emphasized: 3>: <PyQt5.QtGui.QPen object at 0x00000298090FC970>}, None, None), 35: (None, None, {<SpikeEmphasisState.Hidden: 0>: <PyQt5.QtGui.QPen object at 0x00000298090FC900>, <SpikeEmphasisState.Deemphasized: 1>: <PyQt5.QtGui.QPen object at 0x00000298090FC890>, <SpikeEmphasisState.Default: 2>: <PyQt5.QtGui.QPen object at 0x00000298090FC820>, <SpikeEmphasisState.Emphasized: 3>: <PyQt5.QtGui.QPen object at 0x00000298090FC7B0>}, None, None), 36: (None, None, {<SpikeEmphasisState.Hidden: 0>: <PyQt5.QtGui.QPen object at 0x00000298090FC740>, <SpikeEmphasisState.Deemphasized: 1>: <PyQt5.QtGui.QPen object at 0x00000298090FC6D0>, <SpikeEmphasisState.Default: 2>: <PyQt5.QtGui.QPen object at 0x00000298090FC660>, <SpikeEmphasisState.Emphasized: 3>: <PyQt5.QtGui.QPen object at 0x00000298090FC5F0>}, None, None), 37: (None, None, {<SpikeEmphasisState.Hidden: 0>: <PyQt5.QtGui.QPen object at 0x00000298090FC580>, <SpikeEmphasisState.Deemphasized: 1>: <PyQt5.QtGui.QPen object at 0x00000298090FC510>, <SpikeEmphasisState.Default: 2>: <PyQt5.QtGui.QPen object at 0x00000298090FC4A0>, <SpikeEmphasisState.Emphasized: 3>: <PyQt5.QtGui.QPen object at 0x00000298090FC430>}, None, None), 38: (None, None, {<SpikeEmphasisState.Hidden: 0>: <PyQt5.QtGui.QPen object at 0x00000298090FC3C0>, <SpikeEmphasisState.Deemphasized: 1>: <PyQt5.QtGui.QPen object at 0x00000298090FC350>, <SpikeEmphasisState.Default: 2>: <PyQt5.QtGui.QPen object at 0x00000298090FC2E0>, <SpikeEmphasisState.Emphasized: 3>: <PyQt5.QtGui.QPen object at 0x00000298090FC270>}, None, None), 39: (None, None, {<SpikeEmphasisState.Hidden: 0>: <PyQt5.QtGui.QPen object at 0x00000298090FC200>, <SpikeEmphasisState.Deemphasized: 1>: <PyQt5.QtGui.QPen object at 0x00000298090FC190>, <SpikeEmphasisState.Default: 2>: <PyQt5.QtGui.QPen object at 0x00000298090FC120>, <SpikeEmphasisState.Emphasized: 3>: <PyQt5.QtGui.QPen object at 0x00000298090FC0B0>}, None, None), 40: (None, None, {<SpikeEmphasisState.Hidden: 0>: <PyQt5.QtGui.QPen object at 0x00000298090FC040>, <SpikeEmphasisState.Deemphasized: 1>: <PyQt5.QtGui.QPen object at 0x00000298090FD040>, <SpikeEmphasisState.Default: 2>: <PyQt5.QtGui.QPen object at 0x00000298090FD0B0>, <SpikeEmphasisState.Emphasized: 3>: <PyQt5.QtGui.QPen object at 0x00000298090FD120>}, None, None), 41: (None, None, {<SpikeEmphasisState.Hidden: 0>: <PyQt5.QtGui.QPen object at 0x00000298090FD190>, <SpikeEmphasisState.Deemphasized: 1>: <PyQt5.QtGui.QPen object at 0x00000298090FD200>, <SpikeEmphasisState.Default: 2>: <PyQt5.QtGui.QPen object at 0x00000298090FD270>, <SpikeEmphasisState.Emphasized: 3>: <PyQt5.QtGui.QPen object at 0x00000298090FD2E0>}, None, None), 42: (None, None, {<SpikeEmphasisState.Hidden: 0>: <PyQt5.QtGui.QPen object at 0x00000298090FD350>, <SpikeEmphasisState.Deemphasized: 1>: <PyQt5.QtGui.QPen object at 0x00000298090FD3C0>, <SpikeEmphasisState.Default: 2>: <PyQt5.QtGui.QPen object at 0x00000298090FD430>, <SpikeEmphasisState.Emphasized: 3>: <PyQt5.QtGui.QPen object at 0x00000298090FD4A0>}, None, None), 43: (None, None, {<SpikeEmphasisState.Hidden: 0>: <PyQt5.QtGui.QPen object at 0x00000298090FD510>, <SpikeEmphasisState.Deemphasized: 1>: <PyQt5.QtGui.QPen object at 0x00000298090FD580>, <SpikeEmphasisState.Default: 2>: <PyQt5.QtGui.QPen object at 0x00000298090FD5F0>, <SpikeEmphasisState.Emphasized: 3>: <PyQt5.QtGui.QPen object at 0x00000298090FD660>}, None, None), 44: (None, None, {<SpikeEmphasisState.Hidden: 0>: <PyQt5.QtGui.QPen object at 0x00000298090FD6D0>, <SpikeEmphasisState.Deemphasized: 1>: <PyQt5.QtGui.QPen object at 0x00000298090FD740>, <SpikeEmphasisState.Default: 2>: <PyQt5.QtGui.QPen object at 0x00000298090FD7B0>, <SpikeEmphasisState.Emphasized: 3>: <PyQt5.QtGui.QPen object at 0x00000298090FD820>}, None, None), 45: (None, None, {<SpikeEmphasisState.Hidden: 0>: <PyQt5.QtGui.QPen object at 0x00000298090FD890>, <SpikeEmphasisState.Deemphasized: 1>: <PyQt5.QtGui.QPen object at 0x00000298090FD900>, <SpikeEmphasisState.Default: 2>: <PyQt5.QtGui.QPen object at 0x00000298090FD970>, <SpikeEmphasisState.Emphasized: 3>: <PyQt5.QtGui.QPen object at 0x00000298090FD9E0>}, None, None), 46: (None, None, {<SpikeEmphasisState.Hidden: 0>: <PyQt5.QtGui.QPen object at 0x00000298090FDA50>, <SpikeEmphasisState.Deemphasized: 1>: <PyQt5.QtGui.QPen object at 0x00000298090FDAC0>, <SpikeEmphasisState.Default: 2>: <PyQt5.QtGui.QPen object at 0x00000298090FDB30>, <SpikeEmphasisState.Emphasized: 3>: <PyQt5.QtGui.QPen object at 0x00000298090FDBA0>}, None, None), 47: (None, None, {<SpikeEmphasisState.Hidden: 0>: <PyQt5.QtGui.QPen object at 0x00000298090FDC10>, <SpikeEmphasisState.Deemphasized: 1>: <PyQt5.QtGui.QPen object at 0x00000298090FDC80>, <SpikeEmphasisState.Default: 2>: <PyQt5.QtGui.QPen object at 0x00000298090FDCF0>, <SpikeEmphasisState.Emphasized: 3>: <PyQt5.QtGui.QPen object at 0x00000298090FDD60>}, None, None), 48: (None, None, {<SpikeEmphasisState.Hidden: 0>: <PyQt5.QtGui.QPen object at 0x00000298090FDDD0>, <SpikeEmphasisState.Deemphasized: 1>: <PyQt5.QtGui.QPen object at 0x00000298090FDE40>, <SpikeEmphasisState.Default: 2>: <PyQt5.QtGui.QPen object at 0x00000298090FDEB0>, <SpikeEmphasisState.Emphasized: 3>: <PyQt5.QtGui.QPen object at 0x00000298090FDF20>}, None, None), 49: (None, None, {<SpikeEmphasisState.Hidden: 0>: <PyQt5.QtGui.QPen object at 0x00000298090FDF90>, <SpikeEmphasisState.Deemphasized: 1>: <PyQt5.QtGui.QPen object at 0x00000298090FE040>, <SpikeEmphasisState.Default: 2>: <PyQt5.QtGui.QPen object at 0x00000298090FE0B0>, <SpikeEmphasisState.Emphasized: 3>: <PyQt5.QtGui.QPen object at 0x00000298090FE120>}, None, None), 50: (None, None, {<SpikeEmphasisState.Hidden: 0>: <PyQt5.QtGui.QPen object at 0x00000298090FE190>, <SpikeEmphasisState.Deemphasized: 1>: <PyQt5.QtGui.QPen object at 0x00000298090FE200>, <SpikeEmphasisState.Default: 2>: <PyQt5.QtGui.QPen object at 0x00000298090FE270>, <SpikeEmphasisState.Emphasized: 3>: <PyQt5.QtGui.QPen object at 0x00000298090FE2E0>}, None, None), 51: (None, None, {<SpikeEmphasisState.Hidden: 0>: <PyQt5.QtGui.QPen object at 0x00000298090FE350>, <SpikeEmphasisState.Deemphasized: 1>: <PyQt5.QtGui.QPen object at 0x00000298090FE3C0>, <SpikeEmphasisState.Default: 2>: <PyQt5.QtGui.QPen object at 0x00000298090FE430>, <SpikeEmphasisState.Emphasized: 3>: <PyQt5.QtGui.QPen object at 0x00000298090FE4A0>}, None, None), 52: (None, None, {<SpikeEmphasisState.Hidden: 0>: <PyQt5.QtGui.QPen object at 0x00000298090FE510>, <SpikeEmphasisState.Deemphasized: 1>: <PyQt5.QtGui.QPen object at 0x00000298090FE580>, <SpikeEmphasisState.Default: 2>: <PyQt5.QtGui.QPen object at 0x00000298090FE5F0>, <SpikeEmphasisState.Emphasized: 3>: <PyQt5.QtGui.QPen object at 0x00000298090FE660>}, None, None), 53: (None, None, {<SpikeEmphasisState.Hidden: 0>: <PyQt5.QtGui.QPen object at 0x00000298090FE6D0>, <SpikeEmphasisState.Deemphasized: 1>: <PyQt5.QtGui.QPen object at 0x00000298090FE740>, <SpikeEmphasisState.Default: 2>: <PyQt5.QtGui.QPen object at 0x00000298090FE7B0>, <SpikeEmphasisState.Emphasized: 3>: <PyQt5.QtGui.QPen object at 0x00000298090FE820>}, None, None), 54: (None, None, {<SpikeEmphasisState.Hidden: 0>: <PyQt5.QtGui.QPen object at 0x00000298090FE890>, <SpikeEmphasisState.Deemphasized: 1>: <PyQt5.QtGui.QPen object at 0x00000298090FE900>, <SpikeEmphasisState.Default: 2>: <PyQt5.QtGui.QPen object at 0x00000298090FE970>, <SpikeEmphasisState.Emphasized: 3>: <PyQt5.QtGui.QPen object at 0x00000298090FE9E0>}, None, None), 55: (None, None, {<SpikeEmphasisState.Hidden: 0>: <PyQt5.QtGui.QPen object at 0x00000298090FEA50>, <SpikeEmphasisState.Deemphasized: 1>: <PyQt5.QtGui.QPen object at 0x00000298090FEAC0>, <SpikeEmphasisState.Default: 2>: <PyQt5.QtGui.QPen object at 0x00000298090FEB30>, <SpikeEmphasisState.Emphasized: 3>: <PyQt5.QtGui.QPen object at 0x00000298090FEBA0>}, None, None), 56: (None, None, {<SpikeEmphasisState.Hidden: 0>: <PyQt5.QtGui.QPen object at 0x00000298090FEC10>, <SpikeEmphasisState.Deemphasized: 1>: <PyQt5.QtGui.QPen object at 0x00000298090FEC80>, <SpikeEmphasisState.Default: 2>: <PyQt5.QtGui.QPen object at 0x00000298090FECF0>, <SpikeEmphasisState.Emphasized: 3>: <PyQt5.QtGui.QPen object at 0x00000298090FED60>}, None, None), 57: (None, None, {<SpikeEmphasisState.Hidden: 0>: <PyQt5.QtGui.QPen object at 0x00000298090FEDD0>, <SpikeEmphasisState.Deemphasized: 1>: <PyQt5.QtGui.QPen object at 0x00000298090FEE40>, <SpikeEmphasisState.Default: 2>: <PyQt5.QtGui.QPen object at 0x00000298090FEEB0>, <SpikeEmphasisState.Emphasized: 3>: <PyQt5.QtGui.QPen object at 0x00000298090FEF20>}, None, None), 58: (None, None, {<SpikeEmphasisState.Hidden: 0>: <PyQt5.QtGui.QPen object at 0x00000298090FEF90>, <SpikeEmphasisState.Deemphasized: 1>: <PyQt5.QtGui.QPen object at 0x00000298090FF040>, <SpikeEmphasisState.Default: 2>: <PyQt5.QtGui.QPen object at 0x00000298090FF0B0>, <SpikeEmphasisState.Emphasized: 3>: <PyQt5.QtGui.QPen object at 0x00000298090FF120>}, None, None), 59: (None, None, {<SpikeEmphasisState.Hidden: 0>: <PyQt5.QtGui.QPen object at 0x00000298090FF190>, <SpikeEmphasisState.Deemphasized: 1>: <PyQt5.QtGui.QPen object at 0x00000298090FF200>, <SpikeEmphasisState.Default: 2>: <PyQt5.QtGui.QPen object at 0x00000298090FF270>, <SpikeEmphasisState.Emphasized: 3>: <PyQt5.QtGui.QPen object at 0x00000298090FF2E0>}, None, None), 60: (None, None, {<SpikeEmphasisState.Hidden: 0>: <PyQt5.QtGui.QPen object at 0x00000298090FF350>, <SpikeEmphasisState.Deemphasized: 1>: <PyQt5.QtGui.QPen object at 0x00000298090FF3C0>, <SpikeEmphasisState.Default: 2>: <PyQt5.QtGui.QPen object at 0x00000298090FF430>, <SpikeEmphasisState.Emphasized: 3>: <PyQt5.QtGui.QPen object at 0x00000298090FF4A0>}, None, None), 61: (None, None, {<SpikeEmphasisState.Hidden: 0>: <PyQt5.QtGui.QPen object at 0x00000298090FF510>, <SpikeEmphasisState.Deemphasized: 1>: <PyQt5.QtGui.QPen object at 0x00000298090FF580>, <SpikeEmphasisState.Default: 2>: <PyQt5.QtGui.QPen object at 0x00000298090FF5F0>, <SpikeEmphasisState.Emphasized: 3>: <PyQt5.QtGui.QPen object at 0x00000298090FF660>}, None, None), 62: (None, None, {<SpikeEmphasisState.Hidden: 0>: <PyQt5.QtGui.QPen object at 0x00000298090FF6D0>, <SpikeEmphasisState.Deemphasized: 1>: <PyQt5.QtGui.QPen object at 0x00000298090FF740>, <SpikeEmphasisState.Default: 2>: <PyQt5.QtGui.QPen object at 0x00000298090FF7B0>, <SpikeEmphasisState.Emphasized: 3>: <PyQt5.QtGui.QPen object at 0x00000298090FF820>}, None, None), 63: (None, None, {<SpikeEmphasisState.Hidden: 0>: <PyQt5.QtGui.QPen object at 0x00000298090FF890>, <SpikeEmphasisState.Deemphasized: 1>: <PyQt5.QtGui.QPen object at 0x00000298090FF900>, <SpikeEmphasisState.Default: 2>: <PyQt5.QtGui.QPen object at 0x00000298090FF970>, <SpikeEmphasisState.Emphasized: 3>: <PyQt5.QtGui.QPen object at 0x00000298090FF9E0>}, None, None), 64: (None, None, {<SpikeEmphasisState.Hidden: 0>: <PyQt5.QtGui.QPen object at 0x00000298090FFA50>, <SpikeEmphasisState.Deemphasized: 1>: <PyQt5.QtGui.QPen object at 0x00000298090FFAC0>, <SpikeEmphasisState.Default: 2>: <PyQt5.QtGui.QPen object at 0x00000298090FFB30>, <SpikeEmphasisState.Emphasized: 3>: <PyQt5.QtGui.QPen object at 0x00000298090FFBA0>}, None, None), 65: (None, None, {<SpikeEmphasisState.Hidden: 0>: <PyQt5.QtGui.QPen object at 0x00000298090FFC10>, <SpikeEmphasisState.Deemphasized: 1>: <PyQt5.QtGui.QPen object at 0x00000298090FFC80>, <SpikeEmphasisState.Default: 2>: <PyQt5.QtGui.QPen object at 0x00000298090FFCF0>, <SpikeEmphasisState.Emphasized: 3>: <PyQt5.QtGui.QPen object at 0x00000298090FFD60>}, None, None), 66: (None, None, {<SpikeEmphasisState.Hidden: 0>: <PyQt5.QtGui.QPen object at 0x00000298090FFDD0>, <SpikeEmphasisState.Deemphasized: 1>: <PyQt5.QtGui.QPen object at 0x00000298090FFE40>, <SpikeEmphasisState.Default: 2>: <PyQt5.QtGui.QPen object at 0x00000298090FFEB0>, <SpikeEmphasisState.Emphasized: 3>: <PyQt5.QtGui.QPen object at 0x00000298090FFF20>}, None, None), 67: (None, None, {<SpikeEmphasisState.Hidden: 0>: <PyQt5.QtGui.QPen object at 0x00000298090FFF90>, <SpikeEmphasisState.Deemphasized: 1>: <PyQt5.QtGui.QPen object at 0x0000029809100040>, <SpikeEmphasisState.Default: 2>: <PyQt5.QtGui.QPen object at 0x00000298091000B0>, <SpikeEmphasisState.Emphasized: 3>: <PyQt5.QtGui.QPen object at 0x0000029809100120>}, None, None)}), 'all_spots': [{'pos': array([193.64762949,  29.5       ]), 'data': 0, 'pen': <PyQt5.QtGui.QPen object at 0x0000029807DDECF0>}, {'pos': array([193.64772165,  55.5       ]), 'data': 1, 'pen': <PyQt5.QtGui.QPen object at 0x00000298090FEB30>}, {'pos': array([193.65724485,  55.5       ]), 'data': 2, 'pen': <PyQt5.QtGui.QPen object at 0x00000298090FEB30>}, {'pos': array([193.66093125,  60.5       ]), 'data': 3, 'pen': <PyQt5.QtGui.QPen object at 0x00000298090FF430>}, {'pos': array([193.67076164,  37.5       ]), 'data': 4, 'pen': <PyQt5.QtGui.QPen object at 0x00000298090FC4A0>}, {'pos': array([193.67122244,  48.5       ]), 'data': 5, 'pen': <PyQt5.QtGui.QPen object at 0x00000298090FDEB0>}, {'pos': array([193.67678276,  48.5       ]), 'data': 6, 'pen': <PyQt5.QtGui.QPen object at 0x00000298090FDEB0>}, {'pos': array([193.67798084,  55.5       ]), 'data': 7, 'pen': <PyQt5.QtGui.QPen object at 0x00000298090FEB30>}, {'pos': array([193.6785338,   0.5      ]), 'data': 8, 'pen': <PyQt5.QtGui.QPen object at 0x0000029807DB0350>}, {'pos': array([193.68025412,  46.5       ]), 'data': 9, 'pen': <PyQt5.QtGui.QPen object at 0x00000298090FDB30>}, {'pos': array([193.68271171,  48.5       ]), 'data': 10, 'pen': <PyQt5.QtGui.QPen object at 0x00000298090FDEB0>}, {'pos': array([193.68698179,  48.5       ]), 'data': 11, 'pen': <PyQt5.QtGui.QPen object at 0x00000298090FDEB0>}, {'pos': array([193.69091395,  54.5       ]), 'data': 12, 'pen': <PyQt5.QtGui.QPen object at 0x00000298090FE970>}, {'pos': array([193.69183555,  48.5       ]), 'data': 13, 'pen': <PyQt5.QtGui.QPen object at 0x00000298090FDEB0>}, {'pos': array([193.70572098,  50.5       ]), 'data': 14, 'pen': <PyQt5.QtGui.QPen object at 0x00000298090FE270>}, {'pos': array([193.71324738,  40.5       ]), 'data': 15, 'pen': <PyQt5.QtGui.QPen object at 0x00000298090FD0B0>}, {'pos': array([193.71416898,  31.5       ]), 'data': 16, 'pen': <PyQt5.QtGui.QPen object at 0x00000298090FCF20>}, {'pos': array([193.71518274,  50.5       ]), 'data': 17, 'pen': <PyQt5.QtGui.QPen object at 0x00000298090FE270>}, {'pos': array([193.72461377,  50.5       ]), 'data': 18, 'pen': <PyQt5.QtGui.QPen object at 0x00000298090FE270>}, {'pos': array([193.73932865,  48.5       ]), 'data': 19, 'pen': <PyQt5.QtGui.QPen object at 0x00000298090FDEB0>}, {'pos': array([193.74123328,   5.5       ]), 'data': 20, 'pen': <PyQt5.QtGui.QPen object at 0x00000298090F9580>}, {'pos': array([193.7426464,  48.5      ]), 'data': 21, 'pen': <PyQt5.QtGui.QPen object at 0x00000298090FDEB0>}, {'pos': array([193.74476608,  50.5       ]), 'data': 22, 'pen': <PyQt5.QtGui.QPen object at 0x00000298090FE270>}, {'pos': array([193.74559552,  53.5       ]), 'data': 23, 'pen': <PyQt5.QtGui.QPen object at 0x00000298090FE7B0>}, {'pos': array([193.74645568,   5.5       ]), 'data': 24, 'pen': <PyQt5.QtGui.QPen object at 0x00000298090F9580>}, {'pos': array([193.7487904,  48.5      ]), 'data': 25, 'pen': <PyQt5.QtGui.QPen object at 0x00000298090FDEB0>}, {'pos': array([193.74943552,  53.5       ]), 'data': 26, 'pen': <PyQt5.QtGui.QPen object at 0x00000298090FE7B0>}, {'pos': array([193.7529376,  53.5      ]), 'data': 27, 'pen': <PyQt5.QtGui.QPen object at 0x00000298090FE7B0>}, {'pos': array([193.75487296,   5.5       ]), 'data': 28, 'pen': <PyQt5.QtGui.QPen object at 0x00000298090F9580>}, {'pos': array([193.75828288,  53.5       ]), 'data': 29, 'pen': <PyQt5.QtGui.QPen object at 0x00000298090FE7B0>}, {'pos': array([193.7595424,  59.5      ]), 'data': 30, 'pen': <PyQt5.QtGui.QPen object at 0x00000298090FF270>}, {'pos': array([193.76279871,   5.5       ]), 'data': 31, 'pen': <PyQt5.QtGui.QPen object at 0x00000298090F9580>}, {'pos': array([193.76436543,  53.5       ]), 'data': 32, 'pen': <PyQt5.QtGui.QPen object at 0x00000298090FE7B0>}, {'pos': array([193.76670015,   5.5       ]), 'data': 33, 'pen': <PyQt5.QtGui.QPen object at 0x00000298090F9580>}, {'pos': array([193.77078591,  59.5       ]), 'data': 34, 'pen': <PyQt5.QtGui.QPen object at 0x00000298090FF270>}, {'pos': array([193.78371902,  18.5       ]), 'data': 35, 'pen': <PyQt5.QtGui.QPen object at 0x00000298090FAF90>}, {'pos': array([193.78749758,  20.5       ]), 'data': 36, 'pen': <PyQt5.QtGui.QPen object at 0x00000298090FAC10>}, {'pos': array([193.7875283,  26.5      ]), 'data': 37, 'pen': <PyQt5.QtGui.QPen object at 0x0000029807DDE7B0>}, {'pos': array([193.7915219,  26.5      ]), 'data': 38, 'pen': <PyQt5.QtGui.QPen object at 0x0000029807DDE7B0>}, {'pos': array([193.7929043,  20.5      ]), 'data': 39, 'pen': <PyQt5.QtGui.QPen object at 0x00000298090FAC10>}, {'pos': array([193.7956691,  26.5      ]), 'data': 40, 'pen': <PyQt5.QtGui.QPen object at 0x0000029807DDE7B0>}, {'pos': array([193.80052285,  26.5       ]), 'data': 41, 'pen': <PyQt5.QtGui.QPen object at 0x0000029807DDE7B0>}, {'pos': array([193.80374845,  25.5       ]), 'data': 42, 'pen': <PyQt5.QtGui.QPen object at 0x0000029807DDE5F0>}, {'pos': array([193.80884797,  25.5       ]), 'data': 43, 'pen': <PyQt5.QtGui.QPen object at 0x0000029807DDE5F0>}, {'pos': array([193.81400893,  18.5       ]), 'data': 44, 'pen': <PyQt5.QtGui.QPen object at 0x00000298090FAF90>}, {'pos': array([193.81554493,  26.5       ]), 'data': 45, 'pen': <PyQt5.QtGui.QPen object at 0x0000029807DDE7B0>}, {'pos': array([193.81665085,  61.5       ]), 'data': 46, 'pen': <PyQt5.QtGui.QPen object at 0x00000298090FF5F0>}, {'pos': array([193.81861692,  18.5       ]), 'data': 47, 'pen': <PyQt5.QtGui.QPen object at 0x00000298090FAF90>}, {'pos': array([193.82132028,  25.5       ]), 'data': 48, 'pen': <PyQt5.QtGui.QPen object at 0x0000029807DDE5F0>}, {'pos': array([193.82390076,  48.5       ]), 'data': 49, 'pen': <PyQt5.QtGui.QPen object at 0x00000298090FDEB0>}, {'pos': array([193.82632764,  18.5       ]), 'data': 50, 'pen': <PyQt5.QtGui.QPen object at 0x00000298090FAF90>}, {'pos': array([193.8276486,  25.5      ]), 'data': 51, 'pen': <PyQt5.QtGui.QPen object at 0x0000029807DDE5F0>}, {'pos': array([193.83145788,  66.5       ]), 'data': 52, 'pen': <PyQt5.QtGui.QPen object at 0x00000298090FFEB0>}, {'pos': array([193.83766332,  61.5       ]), 'data': 53, 'pen': <PyQt5.QtGui.QPen object at 0x00000298090FF5F0>}, {'pos': array([193.83809339,  48.5       ]), 'data': 54, 'pen': <PyQt5.QtGui.QPen object at 0x00000298090FDEB0>}, {'pos': array([193.84909115,  60.5       ]), 'data': 55, 'pen': <PyQt5.QtGui.QPen object at 0x00000298090FF430>}, {'pos': array([193.86159418,  33.5       ]), 'data': 56, 'pen': <PyQt5.QtGui.QPen object at 0x00000298090FCBA0>}, {'pos': array([193.86356026,  48.5       ]), 'data': 57, 'pen': <PyQt5.QtGui.QPen object at 0x00000298090FDEB0>}, {'pos': array([193.86819898,  37.5       ]), 'data': 58, 'pen': <PyQt5.QtGui.QPen object at 0x00000298090FC4A0>}, {'pos': array([193.87898169,   8.5       ]), 'data': 59, 'pen': <PyQt5.QtGui.QPen object at 0x0000029807DC5740>}, {'pos': array([193.89308217,  56.5       ]), 'data': 60, 'pen': <PyQt5.QtGui.QPen object at 0x00000298090FECF0>}], 'callout_flat_timebin_IDXs': array([82, 83, 84, 85, 86, 87, 88]), 'callout_time_bins': [array([193.64762949, 193.68062949, 193.71362949, 193.74662949,\n",
       "       193.77962949, 193.81262949, 193.84562949]), array([193.68062949, 193.71362949, 193.74662949, 193.77962949,\n",
       "       193.81262949, 193.84562949, 193.87862949])]})"
      ]
     },
     "execution_count": 17,
     "metadata": {},
     "output_type": "execute_result"
    }
   ],
   "source": [
    "app, win, plots, plots_data = _out_A\n",
    "plots_data"
   ]
  },
  {
   "cell_type": "code",
   "execution_count": null,
   "id": "e6d18d26",
   "metadata": {},
   "outputs": [],
   "source": [
    "# Generate testing data with only 1 neuron active during the period to see where it is sorted.\n",
    "\n",
    "\n",
    "# Add neuron IDs to each of the callout placefields for a given time bin. Could also color them by the neuron ID.\n"
   ]
  },
  {
   "cell_type": "code",
   "execution_count": null,
   "id": "338d4092",
   "metadata": {},
   "outputs": [],
   "source": [
    "#TODO 2023-06-27 10:42: - [ ] Desperitely need a class that \"explodes\" the important variables and their types out of a DynamicParameters (dict-like) or other object.\n"
   ]
  },
  {
   "cell_type": "code",
   "execution_count": null,
   "id": "517cdee6",
   "metadata": {},
   "outputs": [],
   "source": [
    "_out_n = plot_kourosh_activity_style_figure(long_results_obj, long_session, EITHER_subset.track_exclusive_aclus, epoch_idx=49, callout_epoch_IDXs=np.arange(6), skip_rendering_callouts=False)"
   ]
  },
  {
   "attachments": {},
   "cell_type": "markdown",
   "id": "7a7c05d1",
   "metadata": {},
   "source": [
    "# Figure 2) Firing Rate Bar Graphs"
   ]
  },
  {
   "cell_type": "code",
   "execution_count": null,
   "id": "21cf1ff1",
   "metadata": {},
   "outputs": [],
   "source": [
    "# Instantaneous versions:\n",
    "from pyphoplacecellanalysis.General.Pipeline.Stages.ComputationFunctions.SpikeAnalysis import SpikeRateTrends\n",
    "from PendingNotebookCode import PaperFigureTwo\n",
    "import matplotlib\n",
    "import matplotlib.pyplot as plt\n",
    "\n",
    "_out_fig_2 = PaperFigureTwo(instantaneous_time_bin_size_seconds=0.01) # 10ms\n",
    "_out_fig_2.compute(curr_active_pipeline=curr_active_pipeline)\n",
    "_out_fig_2.display()"
   ]
  },
  {
   "attachments": {},
   "cell_type": "markdown",
   "id": "9d7b230c",
   "metadata": {},
   "source": [
    "# Figure 3) `PAPER_FIGURE_figure_3`: Firing Rate Index and Long/Short Firing Rate Replays v. Laps"
   ]
  },
  {
   "cell_type": "code",
   "execution_count": null,
   "id": "f6008da8",
   "metadata": {
    "tags": [
     "figure_3",
     "active"
    ]
   },
   "outputs": [],
   "source": [
    "import matplotlib as mpl\n",
    "import matplotlib.pyplot as plt\n",
    "from neuropy.core.neuron_identities import PlotStringBrevityModeEnum\n",
    "from neuropy.plotting.ratemaps import BackgroundRenderingOptions\n",
    "from pyphocorehelpers.DataStructure.RenderPlots.MatplotLibRenderPlots import MatplotlibRenderPlots\n",
    "\n",
    "_bak_rcParams = mpl.rcParams.copy()\n",
    "# mpl.rcParams['toolbar'] = 'None' # disable toolbars\n",
    "%matplotlib qt\n",
    "\n",
    "_out, _out2 = PAPER_FIGURE_figure_3(curr_active_pipeline, defer_render=False, save_figure=True)"
   ]
  },
  {
   "cell_type": "code",
   "execution_count": null,
   "id": "bcd3546f",
   "metadata": {},
   "outputs": [],
   "source": [
    "_out2.figures\n",
    "_out.axes\n",
    "_out."
   ]
  },
  {
   "cell_type": "code",
   "execution_count": null,
   "id": "acd17dcc",
   "metadata": {},
   "outputs": [],
   "source": [
    "fig = _out.figures\n",
    "fig\n",
    "\n",
    "\n",
    "# Computed long ($L$)|short($S$) firing rate indicies\n",
    "\n",
    "\n"
   ]
  },
  {
   "cell_type": "code",
   "execution_count": null,
   "id": "12e08475",
   "metadata": {},
   "outputs": [],
   "source": [
    "title_text = \"Computed track_replay|track_laps firing rate\"\n"
   ]
  },
  {
   "cell_type": "code",
   "execution_count": null,
   "id": "82f2d1ec",
   "metadata": {},
   "outputs": [],
   "source": [
    "plt.figure(fig)  # Set the specified figure as the current one\n"
   ]
  },
  {
   "cell_type": "code",
   "execution_count": null,
   "id": "2f93139b",
   "metadata": {},
   "outputs": [],
   "source": [
    "\"Computed track_replay|track_laps firing rate\""
   ]
  },
  {
   "cell_type": "code",
   "execution_count": null,
   "id": "3e723612",
   "metadata": {},
   "outputs": [],
   "source": [
    "fig.title"
   ]
  },
  {
   "cell_type": "code",
   "execution_count": null,
   "id": "e403366a",
   "metadata": {},
   "outputs": [],
   "source": [
    "# 'kdiba/gor01/one/2006-6-08_14-26-15/long_short_firing_rate_indicies/display_long_short_laps'\n",
    "\n",
    "formatted_text = (\n",
    "    \"<size:10>kdiba/gor01/one/<weight:bold>2006-6-08_14-26-15</>/long_short_firing_rate_indicies/display_long_short_laps\\n\"\n",
    "    \"<size:18>the values for the \"\n",
    "    \"<color:royalblue, weight:bold>blues</> and the <color:crimson, weight:bold>reds</></></>\"\n",
    ")\n",
    "\n",
    "\n",
    "\n"
   ]
  },
  {
   "cell_type": "code",
   "execution_count": null,
   "id": "f8fb3785",
   "metadata": {},
   "outputs": [],
   "source": [
    "from flexitext import flexitext ## flexitext version\n",
    "\n",
    "# Add flexitext\n",
    "text = (\n",
    "    \"<size:24>A <weight:bold>great chart</> showing\\n\"\n",
    "    \"<size:18>the values for the \"\n",
    "    \"<color:royalblue, weight:bold>blues</> and the <color:crimson, weight:bold>reds</></></>\"\n",
    ")\n",
    "flexitext(0.025, 0.8, text, va=\"bottom\", xycoords=\"figure fraction\")\n",
    "# fig.sca()"
   ]
  },
  {
   "cell_type": "code",
   "execution_count": null,
   "id": "b4bd9328",
   "metadata": {},
   "outputs": [],
   "source": [
    "fig"
   ]
  },
  {
   "attachments": {},
   "cell_type": "markdown",
   "id": "2fe80559",
   "metadata": {},
   "source": [
    "# 2023-04-13 - Find Good looking epochs:"
   ]
  },
  {
   "cell_type": "code",
   "execution_count": null,
   "id": "5fa9a519",
   "metadata": {
    "tags": [
     "ACTIVE_NOW"
    ]
   },
   "outputs": [],
   "source": [
    "import matplotlib.pyplot as plt\n",
    "%matplotlib qt\n",
    "import matplotlib.patheffects as path_effects\n",
    "\n",
    "from pyphoplacecellanalysis.Pho2D.stacked_epoch_slices import DecodedEpochSlicesPaginatedFigureController\n",
    "from pyphoplacecellanalysis.Analysis.Decoder.reconstruction import DecodedFilterEpochsResult\n",
    "from pyphoplacecellanalysis.Analysis.Decoder.decoder_result import LeaveOneOutDecodingAnalysisResult\n"
   ]
  },
  {
   "cell_type": "code",
   "execution_count": null,
   "id": "b8dfa486",
   "metadata": {
    "tags": [
     "decoded_epochs",
     "figure_1"
    ]
   },
   "outputs": [],
   "source": [
    "_out_pagination_controller_L = DecodedEpochSlicesPaginatedFigureController.init_from_decoder_data(long_results_obj.active_filter_epochs, long_results_obj.all_included_filter_epochs_decoder_result, included_epoch_indicies=good_epoch_indicies_L, \n",
    "\txbin=long_results_obj.original_1D_decoder.xbin, global_pos_df=global_session.position.df, a_name='Long SubsetEpochs', active_context=long_epoch_context,  max_subplots_per_page=200) # 10"
   ]
  },
  {
   "cell_type": "code",
   "execution_count": null,
   "id": "d8054d5e",
   "metadata": {
    "tags": [
     "figure_1",
     "decoded_epochs"
    ]
   },
   "outputs": [],
   "source": [
    "_out_pagination_controller_S = DecodedEpochSlicesPaginatedFigureController.init_from_decoder_data(short_results_obj.active_filter_epochs, short_results_obj.all_included_filter_epochs_decoder_result, included_epoch_indicies=good_epoch_indicies_S, \n",
    "\txbin=short_results_obj.original_1D_decoder.xbin, global_pos_df=global_session.position.df, a_name='Short SubsetEpochs', active_context=short_epoch_context,  max_subplots_per_page=200) # 10"
   ]
  },
  {
   "cell_type": "code",
   "execution_count": null,
   "id": "e5280cf9",
   "metadata": {},
   "outputs": [],
   "source": [
    "_out = curr_active_pipeline.display('_display_long_and_short_stacked_epoch_slices')\n"
   ]
  },
  {
   "cell_type": "code",
   "execution_count": null,
   "id": "a498d482",
   "metadata": {},
   "outputs": [],
   "source": [
    "## Getting selections out of DecoedEpochSlicesPaginationController\n",
    "curr_active_pipeline.display_output_history_list\n",
    "# Ideally could search like: '_display_long_and_short_stacked_epoch_slices'\n",
    "active_result_backup = curr_active_pipeline.last_added_display_output"
   ]
  },
  {
   "cell_type": "code",
   "execution_count": null,
   "id": "89f7829a",
   "metadata": {},
   "outputs": [],
   "source": [
    "list(active_result_backup.keys()) # ['name', 'context', 'figures', 'axes', 'plot_data']\n",
    "\n",
    "active_result_backup['context'] # (IdentifyingContext<('kdiba', 'gor01', 'one', '2006-6-08_14-26-15', 'DecodedEpochSlices', 'replays', 'long_results_obj')>,\n",
    "\t\t\t\t\t\t\t\t#  IdentifyingContext<('kdiba', 'gor01', 'one', '2006-6-08_14-26-15', 'DecodedEpochSlices', 'replays', 'short_results_obj')>)\n",
    "\n",
    "pagination_controllers = active_result_backup.plot_data['controllers']\n",
    "long_controller = pagination_controllers[0]\n",
    "short_controller = pagination_controllers[1]"
   ]
  },
  {
   "cell_type": "code",
   "execution_count": null,
   "id": "a1e85d60",
   "metadata": {},
   "outputs": [],
   "source": [
    "long_controller.selected_indicies # np.array([ 13,  14,  15,  25,  27,  28,  31,  37,  42,  45,  48,  57,  61,  62,  63,  76,  79,  82,  89,  90, 111, 112, 113, 115])\n",
    "\n",
    "# np.array([5,  13,  15,  17,  20,  21,  24,  31,  33,  43,  44,  49,  63, 64,  66,  68,  70,  71,  74,  76,  77,  78,  84,  90,  94,  95, 104, 105, 122, 123])"
   ]
  },
  {
   "cell_type": "code",
   "execution_count": null,
   "id": "5030d511",
   "metadata": {},
   "outputs": [],
   "source": [
    "short_controller.selected_indicies # np.array([  9,  11,  13,  14,  15,  20,  22,  25,  37,  40,  45,  48,  61, 62,  76,  79,  84,  89,  90,  93,  94, 111, 112, 113, 115, 121])\n",
    "\n",
    "# np.array([ 12,  13,  15,  17,  20,  24,  30,  31,  32,  33,  41,  43,  49, 54,  55,  68,  70,  71,  73,  76,  77,  78,  84,  89,  94, 100, 104, 105, 111, 114, 115, 117, 118, 122, 123, 131])"
   ]
  },
  {
   "cell_type": "code",
   "execution_count": null,
   "id": "bd5bcc43",
   "metadata": {},
   "outputs": [],
   "source": [
    "final_context_L = curr_active_pipeline.build_display_context_for_session(display_fn_name='DecodedEpochSlices', epochs='replays', decoder='long_results_obj')\n",
    "final_context_S = curr_active_pipeline.build_display_context_for_session(display_fn_name='DecodedEpochSlices', epochs='replays', decoder='short_results_obj')\n",
    "# _out_pagination_controller.params.active_identifying_figure_ctx.adding_context(None,  user_annotation=\"selections\")\n",
    "selections_context_L = final_context_L.adding_context(None,  user_annotation=\"selections\")\n",
    "selections_context_S = final_context_S.adding_context(None,  user_annotation=\"selections\")\n",
    "\n",
    "# IdentifyingContext(format_name='kdiba',animal='gor01',exper_name='two',session_name='2006-6-07_16-40-19',display_fn_name='DecodedEpochSlices',epochs='replays',decoder='long_results_obj',user_annotation='selections')\n",
    "# IdentifyingContext(format_name='kdiba',animal='gor01',exper_name='two',session_name='2006-6-07_16-40-19',display_fn_name='DecodedEpochSlices',epochs='replays',decoder='short_results_obj')"
   ]
  },
  {
   "cell_type": "code",
   "execution_count": null,
   "id": "bd249e85",
   "metadata": {},
   "outputs": [],
   "source": [
    "# Update the `long_results_obj.active_filter_epochs` and `short_results_obj.active_filter_epochs` objects with the selection information\n",
    "assert long_controller.is_selected.shape[0] == long_results_obj.active_filter_epochs.n_epochs\n",
    "assert short_controller.is_selected.shape[0] == short_results_obj.active_filter_epochs.n_epochs\n",
    "# for some reason the active_filter_epochs on both the long and the short objects contain properties about the other one as well, so keep with tradition and add them to both as well\n",
    "long_results_obj.active_filter_epochs._df['long_is_user_included'] = long_controller.is_selected\n",
    "long_results_obj.active_filter_epochs._df['short_is_user_included'] = short_controller.is_selected\n",
    "short_results_obj.active_filter_epochs._df['long_is_user_included'] = long_controller.is_selected\n",
    "short_results_obj.active_filter_epochs._df['short_is_user_included'] = short_controller.is_selected"
   ]
  },
  {
   "cell_type": "code",
   "execution_count": null,
   "id": "636184b2",
   "metadata": {},
   "outputs": [],
   "source": [
    "print(list(long_controller.params.keys())) # ['name', 'window_title', 'num_slices', '_debug_test_max_num_slices', 'active_num_slices', 'global_epoch_start_t', 'global_epoch_end_t', 'single_plot_fixed_height', 'all_plots_height', 'epoch_labels', 'variable_name', 'xbin', 'enable_flat_line_drawing', 'debug_print', 'active_identifying_figure_ctx', 'flat_all_data_indicies', 'is_selected', 'callback_id', 'on_render_page_callbacks']"
   ]
  },
  {
   "attachments": {},
   "cell_type": "markdown",
   "id": "eacd1d90",
   "metadata": {},
   "source": [
    "# TODO 2023-06-19 14:31: - [ ] Come up with system for storing user-annotations:\n",
    " Need to store user-annotations and labeled selections for Epochs:\n",
    "\n",
    "\tdate_annotated: datetime - the date the annotations were made\n",
    "\tannotation_author: str - the person who made the annotations\n",
    "\tannotation_content: Any - the content of the annotation\n",
    "\n"
   ]
  },
  {
   "cell_type": "code",
   "execution_count": null,
   "id": "fdf36a14",
   "metadata": {},
   "outputs": [],
   "source": [
    "from PendingNotebookCode import UserAnnotationsManager\n",
    "\n",
    "# Get the manual user annotations to determine the good replays for both long/short decoding:\n",
    "user_annotations = UserAnnotationsManager.get_user_annotations()\n",
    "\n",
    "final_context_L = curr_active_pipeline.build_display_context_for_session(display_fn_name='DecodedEpochSlices', epochs='replays', decoder='long_results_obj')\n",
    "final_context_S = curr_active_pipeline.build_display_context_for_session(display_fn_name='DecodedEpochSlices', epochs='replays', decoder='short_results_obj')\n",
    "# _out_pagination_controller.params.active_identifying_figure_ctx.adding_context(None,  user_annotation=\"selections\")\n",
    "selections_context_L = final_context_L.adding_context(None,  user_annotation=\"selections\")\n",
    "selections_context_S = final_context_S.adding_context(None,  user_annotation=\"selections\")\n",
    "\n",
    "## try to get the user annotations for this session:\n",
    "selection_idxs_L = user_annotations[selections_context_L]\n",
    "selection_idxs_S = user_annotations[selections_context_S]\n",
    "\n",
    "selection_idxs_L"
   ]
  },
  {
   "cell_type": "code",
   "execution_count": null,
   "id": "9e794a6a",
   "metadata": {},
   "outputs": [],
   "source": [
    "selection_idxs_S"
   ]
  },
  {
   "cell_type": "code",
   "execution_count": null,
   "id": "c20f58d5",
   "metadata": {
    "tags": [
     "LEGACY"
    ]
   },
   "outputs": [],
   "source": [
    "# For updating the controller from the selected indicies:\n",
    "for a_selected_index in selection_idxs_L:\n",
    "\t_out_pagination_controller.params.is_selected[a_selected_index] = True\n",
    "\n",
    "_out_pagination_controller.perform_update_selections(defer_render=False)"
   ]
  },
  {
   "attachments": {},
   "cell_type": "markdown",
   "id": "e0409e08",
   "metadata": {},
   "source": [
    "# Other Programmatic Figures"
   ]
  },
  {
   "cell_type": "code",
   "execution_count": null,
   "id": "7608078a",
   "metadata": {},
   "outputs": [],
   "source": [
    "curr_active_pipeline.reload_default_display_functions()"
   ]
  },
  {
   "cell_type": "code",
   "execution_count": null,
   "id": "fe831b56",
   "metadata": {
    "tags": [
     "ACTIVE"
    ]
   },
   "outputs": [],
   "source": [
    "from pyphoplacecellanalysis.General.Mixins.CrossComputationComparisonHelpers import _find_any_context_neurons\n",
    "\n",
    "## Builds proper sort indicies for '_display_short_long_pf1D_comparison'\n",
    "long_ratemap = long_pf1D.ratemap\n",
    "short_ratemap = short_pf1D.ratemap\n",
    "\n",
    "curr_any_context_neurons = _find_any_context_neurons(*[k.neuron_ids for k in [long_ratemap, short_ratemap]])\n",
    "curr_any_context_neurons"
   ]
  },
  {
   "cell_type": "code",
   "execution_count": null,
   "id": "402834bd",
   "metadata": {},
   "outputs": [],
   "source": [
    "from neuropy.plotting.ratemaps import plot_ratemap_1D\n",
    "from pyphoplacecellanalysis.General.Pipeline.Stages.DisplayFunctions.MultiContextComparingDisplayFunctions.LongShortTrackComparingDisplayFunctions import plot_short_v_long_pf1D_comparison, LongShortTrackComparingDisplayFunctions\n",
    "\n",
    "curr_active_pipeline.reload_default_display_functions()\n",
    "\n",
    "%matplotlib qt\n",
    "active_identifying_session_ctx = curr_active_pipeline.sess.get_context() # 'bapun_RatN_Day4_2019-10-15_11-30-06'\n",
    "\n",
    "long_single_cell_pfmap_processing_fn = None\n",
    "short_single_cell_pfmap_processing_fn = None\n",
    "# sort_idx = None\n",
    "# sort_idx = sort_ind\n",
    "# sort_idx = sort_indicies\n",
    "# sort_idx = new_all_aclus_sort_indicies\n",
    "sort_idx = 'peak_long'\n",
    "# sort_idx = 'bad'\n",
    "\n",
    "# out = curr_active_pipeline.display('_display_short_long_pf1D_comparison', active_identifying_session_ctx, single_figure=False, debug_print=True, fignum='Short v Long pf1D Comparison',\n",
    "#                                    long_kwargs={'included_unit_neuron_IDs': curr_any_context_neurons, 'included_unit_indicies': None, 'sortby': sort_idx, 'single_cell_pfmap_processing_fn': long_single_cell_pfmap_processing_fn},\n",
    "#                                    short_kwargs={'included_unit_neuron_IDs': curr_any_context_neurons, 'included_unit_indicies': None,'sortby': sort_idx, 'single_cell_pfmap_processing_fn': short_single_cell_pfmap_processing_fn, 'curve_hatch_style': {'hatch':'///', 'edgecolor':'k'}},\n",
    "#                                   )\n",
    "\n",
    "out = curr_active_pipeline.display('_display_short_long_pf1D_comparison', active_identifying_session_ctx, single_figure=False, debug_print=False, fignum='Short v Long pf1D Comparison',\n",
    "                                   long_kwargs={'sortby': sort_idx, 'single_cell_pfmap_processing_fn': long_single_cell_pfmap_processing_fn},\n",
    "                                   short_kwargs={'sortby': sort_idx, 'single_cell_pfmap_processing_fn': short_single_cell_pfmap_processing_fn, 'curve_hatch_style': {'hatch':'///', 'edgecolor':'k'}},\n",
    "                                  )\n",
    "                                  \n",
    "\n",
    "# ax = out.axes[0]"
   ]
  },
  {
   "cell_type": "code",
   "execution_count": null,
   "id": "6af0f2ac",
   "metadata": {},
   "outputs": [],
   "source": [
    "import matplotlib.pyplot as plt\n",
    "plt.show()"
   ]
  },
  {
   "cell_type": "code",
   "execution_count": null,
   "id": "5653100d",
   "metadata": {},
   "outputs": [],
   "source": [
    "curr_active_pipeline.display('_display_short_long_pf1D_comparison', single_figure=True)"
   ]
  },
  {
   "attachments": {},
   "cell_type": "markdown",
   "id": "d1906e5a",
   "metadata": {},
   "source": [
    "# 2023-06-01 - Testing new metrics:"
   ]
  },
  {
   "cell_type": "code",
   "execution_count": null,
   "id": "ee3fb2f6",
   "metadata": {},
   "outputs": [],
   "source": [
    "\n",
    "curr_long_short_post_decoding = curr_active_pipeline.global_computation_results.computed_data['long_short_post_decoding']\n",
    "## Extract variables from results object:\n",
    "expected_v_observed_result, curr_long_short_rr = curr_long_short_post_decoding.expected_v_observed_result, curr_long_short_post_decoding.rate_remapping\n",
    "rate_remapping_df, high_remapping_cells_only = curr_long_short_rr.rr_df, curr_long_short_rr.high_only_rr_df\n",
    "Flat_epoch_time_bins_mean, Flat_decoder_time_bin_centers, num_neurons, num_timebins_in_epoch, num_total_flat_timebins, is_short_track_epoch, is_long_track_epoch, short_short_diff, long_long_diff = expected_v_observed_result['Flat_epoch_time_bins_mean'], expected_v_observed_result['Flat_decoder_time_bin_centers'], expected_v_observed_result['num_neurons'], expected_v_observed_result['num_timebins_in_epoch'], expected_v_observed_result['num_total_flat_timebins'], expected_v_observed_result['is_short_track_epoch'], expected_v_observed_result['is_long_track_epoch'], expected_v_observed_result['short_short_diff'], expected_v_observed_result['long_long_diff']\n",
    "\n",
    "print(f'long_test: {np.mean(long_long_diff)}')\n",
    "print(f'short_test: {np.mean(short_short_diff)}')"
   ]
  },
  {
   "cell_type": "code",
   "execution_count": null,
   "id": "9e65f403",
   "metadata": {},
   "outputs": [],
   "source": [
    "# long_results_obj.original_1D_decoder\n",
    "replay_result_df = deepcopy(long_results_obj.active_filter_epochs.to_dataframe())\n",
    "replay_result_df"
   ]
  },
  {
   "cell_type": "code",
   "execution_count": null,
   "id": "f67e3b6d",
   "metadata": {},
   "outputs": [],
   "source": [
    "short_results_obj.active_filter_epochs.to_dataframe()"
   ]
  },
  {
   "cell_type": "code",
   "execution_count": null,
   "id": "59838cd9",
   "metadata": {},
   "outputs": [],
   "source": [
    "# Look at lap speed over time - doesn't look like there's a difference between the long and the short track speeds\n",
    "global_session.position.compute_higher_order_derivatives()\n",
    "running_pos_df = global_session.position.to_dataframe()\n",
    "ax = running_pos_df.plot(x='t', y=['lin_pos','speed'], title='Running Speed over Time')\n",
    "ax"
   ]
  },
  {
   "cell_type": "code",
   "execution_count": null,
   "id": "627282a9",
   "metadata": {},
   "outputs": [],
   "source": [
    "# Call the function\n",
    "fig, ax = plot_lines(replay_result_df)"
   ]
  },
  {
   "cell_type": "code",
   "execution_count": null,
   "id": "b3d92a6d",
   "metadata": {},
   "outputs": [],
   "source": []
  },
  {
   "cell_type": "code",
   "execution_count": null,
   "id": "a36fd092",
   "metadata": {},
   "outputs": [],
   "source": []
  },
  {
   "cell_type": "code",
   "execution_count": null,
   "id": "0f84b582",
   "metadata": {},
   "outputs": [],
   "source": []
  }
 ],
 "metadata": {
  "kernelspec": {
   "display_name": "Python 3 (ipykernel)",
   "language": "python",
   "name": "python3"
  },
  "language_info": {
   "codemirror_mode": {
    "name": "ipython",
    "version": 3
   },
   "file_extension": ".py",
   "mimetype": "text/x-python",
   "name": "python",
   "nbconvert_exporter": "python",
   "pygments_lexer": "ipython3",
   "version": "3.9.13"
  },
  "toc-showmarkdowntxt": false,
  "toc-showtags": false
 },
 "nbformat": 4,
 "nbformat_minor": 5
}
