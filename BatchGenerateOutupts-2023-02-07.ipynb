{
 "cells": [
  {
   "cell_type": "markdown",
   "id": "7dd392e0-1cc6-407a-8c0c-18f66153a51b",
   "metadata": {
    "tags": []
   },
   "source": [
    "# Imports"
   ]
  },
  {
   "cell_type": "code",
   "execution_count": 2,
   "id": "e8063c28-10a2-4e3d-a524-a09b38b4db06",
   "metadata": {
    "tags": [
     "imports"
    ]
   },
   "outputs": [
    {
     "name": "stdout",
     "output_type": "stream",
     "text": [
      "Automatic pdb calling has been turned OFF\n",
      "The viztracer extension is already loaded. To reload it, use:\n",
      "  %reload_ext viztracer\n",
      "The autoreload extension is already loaded. To reload it, use:\n",
      "  %reload_ext autoreload\n",
      "build_module_logger(module_name=\"Spike3D.pipeline\"):\n",
      "\t Module logger com.PhoHale.Spike3D.pipeline has file logging enabled and will log to EXTERNAL\\TESTING\\Logging\\debug_com.PhoHale.Spike3D.pipeline.log\n"
     ]
    }
   ],
   "source": [
    "%config IPCompleter.use_jedi = False\n",
    "%pdb off\n",
    "%load_ext viztracer\n",
    "from viztracer import VizTracer\n",
    "%load_ext autoreload\n",
    "%autoreload 2\n",
    "import sys\n",
    "import traceback # for stack trace formatting\n",
    "import importlib\n",
    "from pathlib import Path\n",
    "from benedict import benedict\n",
    "import numpy as np\n",
    "import pandas as pd\n",
    "# from pandas_profiling import ProfileReport ## for dataframe viewing\n",
    "\n",
    "# required to enable non-blocking interaction:\n",
    "# %gui qt\n",
    "# !env QT_API=\"pyqt5\"\n",
    "%gui qt5\n",
    "# %gui qt6\n",
    "# from PyQt5.Qt import QApplication\n",
    "# # start qt event loop\n",
    "# _instance = QApplication.instance()\n",
    "# if not _instance:\n",
    "#     _instance = QApplication([])\n",
    "# app = _instance\n",
    "\n",
    "from copy import deepcopy\n",
    "from numba import jit\n",
    "import numpy as np\n",
    "import pandas as pd\n",
    "from benedict import benedict # https://github.com/fabiocaccamo/python-benedict#usage\n",
    "\n",
    "from klepto.archives import file_archive, sql_archive, dict_archive\n",
    "\n",
    "# Pho's Formatting Preferences\n",
    "# from pyphocorehelpers.preferences_helpers import set_pho_preferences, set_pho_preferences_concise, set_pho_preferences_verbose\n",
    "# set_pho_preferences_concise()\n",
    "\n",
    "## Pho's Custom Libraries:\n",
    "from pyphocorehelpers.general_helpers import CodeConversion\n",
    "from pyphocorehelpers.print_helpers import print_keys_if_possible, print_value_overview_only, document_active_variables, objsize, print_object_memory_usage, debug_dump_object_member_shapes, TypePrintMode\n",
    "from pyphocorehelpers.print_helpers import get_now_day_str, get_now_time_str, get_now_time_precise_str\n",
    "\n",
    "# pyPhoPlaceCellAnalysis:\n",
    "from pyphoplacecellanalysis.General.Pipeline.NeuropyPipeline import NeuropyPipeline # get_neuron_identities\n",
    "\n",
    "# NeuroPy (Diba Lab Python Repo) Loading\n",
    "# from neuropy import core\n",
    "from neuropy.analyses.placefields import PlacefieldComputationParameters\n",
    "from neuropy.core.epoch import NamedTimerange\n",
    "from neuropy.core.session.Formats.BaseDataSessionFormats import DataSessionFormatRegistryHolder\n",
    "from neuropy.core.session.Formats.Specific.BapunDataSessionFormat import BapunDataSessionFormatRegisteredClass\n",
    "from neuropy.core.session.Formats.Specific.KDibaOldDataSessionFormat import KDibaOldDataSessionFormatRegisteredClass\n",
    "from neuropy.core.session.Formats.Specific.RachelDataSessionFormat import RachelDataSessionFormat\n",
    "from neuropy.core.session.Formats.Specific.HiroDataSessionFormat import HiroDataSessionFormatRegisteredClass\n",
    "\n",
    "## For computation parameters:\n",
    "from neuropy.analyses.placefields import PlacefieldComputationParameters\n",
    "from neuropy.utils.dynamic_container import DynamicContainer\n",
    "from neuropy.utils.result_context import IdentifyingContext\n",
    "from neuropy.core.session.Formats.BaseDataSessionFormats import find_local_session_paths\n",
    "\n",
    "# from PendingNotebookCode import _perform_batch_plot, _build_batch_plot_kwargs\n",
    "from pyphoplacecellanalysis.General.NonInteractiveWrapper import batch_load_session, batch_extended_computations, SessionBatchProgress, batch_programmatic_figures, batch_extended_programmatic_figures\n",
    "from pyphoplacecellanalysis.General.Pipeline.NeuropyPipeline import PipelineSavingScheme\n",
    "\n",
    "session_batch_status = {}\n",
    "session_batch_errors = {}\n",
    "enable_saving_to_disk = False\n",
    "\n",
    "global_data_root_parent_path = Path(r'W:\\Data') # Windows Apogee\n",
    "# global_data_root_parent_path = Path(r'/media/MAX/Data') # Diba Lab Workstation Linux\n",
    "# global_data_root_parent_path = Path(r'/Volumes/MoverNew/data') # rMBP\n",
    "assert global_data_root_parent_path.exists(), f\"global_data_root_parent_path: {global_data_root_parent_path} does not exist! Is the right computer's config commented out above?\""
   ]
  },
  {
   "cell_type": "markdown",
   "id": "60fde1ef-b6bc-4500-866e-00a69be7f8de",
   "metadata": {
    "tags": []
   },
   "source": [
    "# Load Pipeline"
   ]
  },
  {
   "cell_type": "code",
   "execution_count": 3,
   "id": "207f768d-7ae8-4b14-9a18-62ea2ba861d5",
   "metadata": {
    "tags": [
     "load"
    ]
   },
   "outputs": [
    {
     "name": "stdout",
     "output_type": "stream",
     "text": [
      "local_session_names_list: ['2006-6-07_16-40-19', '2006-6-08_15-46-47', '2006-6-08_21-16-25', '2006-6-09_22-24-40', '2006-6-12_16-53-46', '2006-6-13_15-22-3']\n"
     ]
    },
    {
     "data": {
      "text/plain": [
       "{WindowsPath('W:/Data/KDIBA/gor01/two/2006-6-07_16-40-19'): <SessionBatchProgress.NOT_STARTED: 'NOT_STARTED'>,\n",
       " WindowsPath('W:/Data/KDIBA/gor01/two/2006-6-08_15-46-47'): <SessionBatchProgress.NOT_STARTED: 'NOT_STARTED'>,\n",
       " WindowsPath('W:/Data/KDIBA/gor01/two/2006-6-08_21-16-25'): <SessionBatchProgress.NOT_STARTED: 'NOT_STARTED'>,\n",
       " WindowsPath('W:/Data/KDIBA/gor01/two/2006-6-09_22-24-40'): <SessionBatchProgress.NOT_STARTED: 'NOT_STARTED'>,\n",
       " WindowsPath('W:/Data/KDIBA/gor01/two/2006-6-12_16-53-46'): <SessionBatchProgress.NOT_STARTED: 'NOT_STARTED'>,\n",
       " WindowsPath('W:/Data/KDIBA/gor01/two/2006-6-13_15-22-3'): <SessionBatchProgress.NOT_STARTED: 'NOT_STARTED'>}"
      ]
     },
     "execution_count": 3,
     "metadata": {},
     "output_type": "execute_result"
    }
   ],
   "source": [
    "# ==================================================================================================================== #\n",
    "# Load Data                                                                                                            #\n",
    "# ==================================================================================================================== #\n",
    "\n",
    "active_data_mode_name = 'kdiba'\n",
    "\n",
    "## Data must be pre-processed using the MATLAB script located here: \n",
    "#     neuropy/data_session_pre_processing_scripts/KDIBA/IIDataMat_Export_ToPython_2022_08_01.m\n",
    "# From pre-computed .mat files:\n",
    "\n",
    "local_session_root_parent_context = IdentifyingContext(format_name=active_data_mode_name) # , animal_name='', configuration_name='one', session_name=self.session_name\n",
    "local_session_root_parent_path = global_data_root_parent_path.joinpath('KDIBA')\n",
    "\n",
    "## Animal `gor01`:\n",
    "# local_session_parent_context = local_session_root_parent_context.adding_context(collision_prefix='animal', animal='gor01', exper_name='one') # IdentifyingContext<('kdiba', 'gor01', 'one')>\n",
    "# local_session_parent_path = local_session_root_parent_path.joinpath(local_session_parent_context.animal, local_session_parent_context.exper_name) # 'gor01', 'one'\n",
    "# local_session_paths_list, local_session_names_list =  find_local_session_paths(local_session_parent_path, blacklist=['PhoHelpers', 'Spike3D-Minimal-Test', 'Unused'])\n",
    "\n",
    "local_session_parent_context = local_session_root_parent_context.adding_context(collision_prefix='animal', animal='gor01', exper_name='two')\n",
    "local_session_parent_path = local_session_root_parent_path.joinpath(local_session_parent_context.animal, local_session_parent_context.exper_name)\n",
    "local_session_paths_list, local_session_names_list =  find_local_session_paths(local_session_parent_path, blacklist=[])\n",
    "\n",
    "### Animal `vvp01`:\n",
    "# local_session_parent_context = local_session_root_parent_context.adding_context(collision_prefix='animal', animal='vvp01', exper_name='one')\n",
    "# local_session_parent_path = local_session_root_parent_path.joinpath(local_session_parent_context.animal, local_session_parent_context.exper_name)\n",
    "# local_session_paths_list, local_session_names_list =  find_local_session_paths(local_session_parent_path, blacklist=[])\n",
    "\n",
    "# local_session_parent_context = local_session_root_parent_context.adding_context(collision_prefix='animal', animal='vvp01', exper_name='two')\n",
    "# local_session_parent_path = local_session_root_parent_path.joinpath(local_session_parent_context.animal, local_session_parent_context.exper_name)\n",
    "# local_session_paths_list, local_session_names_list =  find_local_session_paths(local_session_parent_path, blacklist=[])\n",
    "\n",
    "# ### Animal `pin01`:\n",
    "# local_session_parent_context = local_session_root_parent_context.adding_context(collision_prefix='animal', animal='pin01', exper_name='one')\n",
    "# local_session_parent_path = local_session_root_parent_path.joinpath(local_session_parent_context.animal, local_session_parent_context.exper_name) # no exper_name ('one' or 'two') folders for this animal.\n",
    "# local_session_paths_list, local_session_names_list =  find_local_session_paths(local_session_parent_path, blacklist=['redundant','showclus','sleep','tmaze'])\n",
    "\n",
    "## Build session contexts list:\n",
    "local_session_contexts_list = [local_session_parent_context.adding_context(collision_prefix='sess', session_name=a_name) for a_name in local_session_names_list] # [IdentifyingContext<('kdiba', 'gor01', 'one', '2006-6-07_11-26-53')>, ..., IdentifyingContext<('kdiba', 'gor01', 'one', '2006-6-13_14-42-6')>]\n",
    "\n",
    "## Initialize `session_batch_status` with the NOT_STARTED status if it doesn't already have a different status\n",
    "for curr_session_basedir in local_session_paths_list:\n",
    "    curr_session_status = session_batch_status.get(curr_session_basedir, None)\n",
    "    if curr_session_status is None:\n",
    "        session_batch_status[curr_session_basedir] = SessionBatchProgress.NOT_STARTED # set to not started if not present\n",
    "        # session_batch_status[curr_session_basedir] = SessionBatchProgress.COMPLETED # set to not started if not present\n",
    "\n",
    "session_batch_status"
   ]
  },
  {
   "cell_type": "code",
   "execution_count": null,
   "id": "b40f70a7-d035-484b-8976-0e8b229eee20",
   "metadata": {
    "scrolled": true,
    "tags": [
     "batch",
     "load"
    ]
   },
   "outputs": [],
   "source": [
    "from pyphocorehelpers.DataStructure.dynamic_parameters import DynamicParameters # to replace simple PlacefieldComputationParameters\n",
    "from pyphoplacecellanalysis.General.Pipeline.Stages.Computation import ComputedPipelineStage\n",
    "%matplotlib qt\n",
    "import matplotlib.pyplot as plt\n",
    "\n",
    "include_programmatic_figures = False # if True, batch_programmatic_figures and batch_extended_programmatic_figures will be ran for each session. Othewise only the computations will be done and the data saved.\n",
    "# batch_saving_mode = PipelineSavingScheme.TEMP_THEN_OVERWRITE\n",
    "# batch_saving_mode = PipelineSavingScheme.OVERWRITE_IN_PLACE\n",
    "batch_saving_mode = PipelineSavingScheme.SKIP_SAVING # useful for just loading the pipelines and doing something with the result (like plotting)\n",
    "\n",
    "active_computation_functions_name_whitelist=['_perform_baseline_placefield_computation', '_perform_time_dependent_placefield_computation', '_perform_extended_statistics_computation',\n",
    "                                            # '_perform_position_decoding_computation', \n",
    "                                            '_perform_firing_rate_trends_computation',\n",
    "                                            # '_perform_pf_find_ratemap_peaks_computation',\n",
    "                                            # '_perform_time_dependent_pf_sequential_surprise_computation'\n",
    "                                            # '_perform_two_step_position_decoding_computation',\n",
    "                                            # '_perform_recursive_latent_placefield_decoding'\n",
    "                                        ]\n",
    "        \n",
    "# extended_computations_include_whitelist=None # do all\n",
    "extended_computations_include_whitelist=['long_short_fr_indicies_analyses'] # do only specifiedl\n",
    "\n",
    "## Run batch queue\n",
    "for curr_sess_ctx, curr_session_basedir, curr_session_name in zip(local_session_contexts_list, local_session_paths_list, local_session_names_list):\n",
    "    print(f'curr_session_basedir: {str(curr_session_basedir)}')\n",
    "    curr_session_status = session_batch_status.get(curr_session_basedir, None)\n",
    "    if curr_session_status.name != SessionBatchProgress.COMPLETED.name:\n",
    "        session_batch_status[curr_session_basedir] = SessionBatchProgress.NOT_STARTED\n",
    "        try:\n",
    "            session_batch_status[curr_session_basedir] = SessionBatchProgress.RUNNING\n",
    "            curr_active_pipeline = batch_load_session(global_data_root_parent_path, active_data_mode_name, curr_session_basedir,\n",
    "                                                      computation_functions_name_whitelist=active_computation_functions_name_whitelist,\n",
    "                                                      force_reload=True, saving_mode=batch_saving_mode, fail_on_exception=True, skip_extended_batch_computations=True, time_bin_size=5.0)\n",
    "            \n",
    "            ## 2023-02-08 - Compute estimated replay intervals from the PBEs and export them to a neuroscope file\n",
    "            active_sess = curr_active_pipeline.filtered_sessions['maze']\n",
    "            out = active_sess.perform_compute_estimated_replay_epochs(min_epoch_included_duration=0.01, maximum_speed_thresh=2.0)\n",
    "            out.filename = active_sess.basepath.joinpath(active_sess.name).with_suffix('.derived')\n",
    "            final_export_path = out.to_neuroscope(ext='PHO')\n",
    "            print(f'Exporting estimated replays to Neuroscope .evt file: {final_export_path}')\n",
    "\n",
    "#             ## 2023-01-* - Call extended computations to build `_display_short_long_firing_rate_index_comparison` figures:\n",
    "#             # newly_computed_values = batch_extended_computations(curr_active_pipeline, fail_on_exception=True, progress_print=True, debug_print=False) # doing extended batch computations in batch_load_session does not work for some strange reason.\n",
    "#             # if len(newly_computed_values) > 0:\n",
    "#             #         curr_active_pipeline.save_pipeline(saving_mode=PipelineSavingScheme.OVERWRITE_IN_PLACE)\n",
    "                \n",
    "#             newly_computed_values = batch_extended_computations(curr_active_pipeline, include_whitelist=extended_computations_include_whitelist, include_global_functions=True, fail_on_exception=True, progress_print=True, debug_print=False)\n",
    "            \n",
    "#             # Plot long|short firing rate index:\n",
    "#             fig_save_parent_path = Path(r'E:\\Dropbox (Personal)\\Active\\Kamran Diba Lab\\Results from 2023-01-20 - LongShort Firing Rate Indicies')\n",
    "#             curr_active_pipeline.display('_display_short_long_firing_rate_index_comparison', curr_active_pipeline.sess.get_context(), fig_save_parent_path=fig_save_parent_path)\n",
    "#             plt.close() # closes the current figure\n",
    "            \n",
    "            if include_programmatic_figures:\n",
    "                active_identifying_session_ctx, active_session_figures_out_path, active_out_figures_list = batch_programmatic_figures(curr_active_pipeline)\n",
    "                batch_extended_programmatic_figures(curr_active_pipeline)\n",
    "                \n",
    "            session_batch_status[curr_session_basedir] = SessionBatchProgress.COMPLETED\n",
    "            session_batch_errors[curr_session_basedir] = None # clear any error entry\n",
    "            print(f'completed processing for {curr_session_basedir}.') # : {active_identifying_session_ctx}\n",
    "        except Exception as e:\n",
    "            tb = traceback.format_exc()\n",
    "            print(f'ERROR processing {curr_session_basedir} with error {e}\\n{tb}')\n",
    "            session_batch_status[curr_session_basedir] = SessionBatchProgress.ABORTED\n",
    "            session_batch_errors[curr_session_basedir] = (e, tb)\n",
    "            # raise e\n",
    "    else:\n",
    "        print(f'\\t already completed')\n",
    "\n",
    "print(f'session_batch_status: {session_batch_status}')\n",
    "print('!!! done running batch !!!')"
   ]
  },
  {
   "cell_type": "markdown",
   "id": "e1ab8feb-f917-4ac4-be40-20083a25f005",
   "metadata": {
    "tags": []
   },
   "source": [
    "# Single basedir (non-batch) testing:"
   ]
  },
  {
   "cell_type": "code",
   "execution_count": 4,
   "id": "27739067-20b5-4b5c-a7f5-92d8fc52d2d3",
   "metadata": {
    "tags": [
     "load",
     "single_session"
    ]
   },
   "outputs": [
    {
     "name": "stdout",
     "output_type": "stream",
     "text": [
      "Automatic pdb calling has been turned OFF\n",
      "basedir: W:\\Data\\KDIBA\\gor01\\two\\2006-6-08_15-46-47\n",
      "Skipping loading from pickled file because force_reload == True.\n",
      "Loading matlab import file results : W:\\Data\\KDIBA\\gor01\\two\\2006-6-08_15-46-47\\2006-6-08_15-46-47.epochs_info.mat... done.\n",
      "Loading matlab import file results : W:\\Data\\KDIBA\\gor01\\two\\2006-6-08_15-46-47\\2006-6-08_15-46-47.position_info.mat... done.\n",
      "Loading matlab import file results : W:\\Data\\KDIBA\\gor01\\two\\2006-6-08_15-46-47\\2006-6-08_15-46-47.spikes.mat... "
     ]
    },
    {
     "name": "stderr",
     "output_type": "stream",
     "text": [
      "C:\\Users\\pho\\repos\\NeuroPy\\neuropy\\core\\session\\Formats\\SessionSpecifications.py:140: UserWarning: WARNING: Optional File: W:\\Data\\KDIBA\\gor01\\two\\2006-6-08_15-46-47\\2006-6-08_15-46-47.dat does not exist. Continuing without it.\n",
      "  warnings.warn(f'WARNING: Optional File: {an_optional_filepath} does not exist. Continuing without it.')\n"
     ]
    },
    {
     "name": "stdout",
     "output_type": "stream",
     "text": [
      "done.\n",
      "Failure loading .position.npy. Must recompute.\n",
      "\n",
      "Computing linear positions for all active epochs for session... Saving updated position results results : W:\\Data\\KDIBA\\gor01\\two\\2006-6-08_15-46-47\\2006-6-08_15-46-47.position.npy... 2006-6-08_15-46-47.position.npy saved\n",
      "done.\n",
      "\t force_recompute is True! Forcing recomputation of .interpolated_spike_positions.npy\n",
      "\n",
      "Computing interpolate_spike_positions columns results : spikes_df... done.\n",
      "\t Saving updated interpolated spike position results results : W:\\Data\\KDIBA\\gor01\\two\\2006-6-08_15-46-47\\2006-6-08_15-46-47.interpolated_spike_positions.npy... 2006-6-08_15-46-47.interpolated_spike_positions.npy saved\n",
      "done.\n",
      "Loading matlab import file results : W:\\Data\\KDIBA\\gor01\\two\\2006-6-08_15-46-47\\2006-6-08_15-46-47.laps_info.mat... done.\n",
      "setting laps object.\n",
      "session.laps loaded successfully!\n",
      "Loading matlab import file results : W:\\Data\\KDIBA\\gor01\\two\\2006-6-08_15-46-47\\2006-6-08_15-46-47.replay_info.mat... done.\n",
      "session.replays loaded successfully!\n",
      "Loading success: W:\\Data\\KDIBA\\gor01\\two\\2006-6-08_15-46-47\\ripple_df.pkl.\n",
      "Loading success: .mua.npy.\n",
      "Loading success: .pbe.npy.\n",
      "Computing spikes_df PBEs column results : spikes_df... done.\n",
      "Computing added spike scISI column results : spikes_df... done.\n",
      "skip_save_on_initial_load is True so resultant pipeline will not be saved to the pickle file.\n",
      "Applying session filter named \"maze1\"...\n",
      "Constraining to epoch with times (start: 0.0, end: 2418.679292062996)\n",
      "computing neurons mua for session...\n",
      "\n",
      "Applying session filter named \"maze2\"...\n",
      "Constraining to epoch with times (start: 2418.679292062996, end: 2642.663178000017)\n",
      "computing neurons mua for session...\n",
      "\n",
      "Applying session filter named \"maze\"...\n",
      "Constraining to epoch with times (start: 0.0, end: 2642.663178000017)\n",
      "computing neurons mua for session...\n",
      "\n",
      "using provided computation_functions_name_whitelist: ['_perform_baseline_placefield_computation', '_perform_time_dependent_placefield_computation', '_perform_extended_statistics_computation', '_perform_firing_rate_trends_computation']\n",
      "due to whitelist, including only 4 out of 15 registered computation functions.\n",
      "Recomputing active_epoch_placefields... \t done.\n",
      "Recomputing active_epoch_placefields2D... \t done.\n",
      "Recomputing active_epoch_time_dependent_placefields... \t done.\n",
      "Recomputing active_epoch_time_dependent_placefields2D... \t done.\n",
      "updating computation_results...\n",
      "done.\n",
      "due to whitelist, including only 4 out of 15 registered computation functions.\n",
      "Recomputing active_epoch_placefields... \t done.\n",
      "Recomputing active_epoch_placefields2D... \t done.\n",
      "Recomputing active_epoch_time_dependent_placefields... \t done.\n",
      "Recomputing active_epoch_time_dependent_placefields2D... \t done.\n",
      "updating computation_results...\n",
      "done.\n",
      "due to whitelist, including only 4 out of 15 registered computation functions.\n",
      "Recomputing active_epoch_placefields... \t done.\n",
      "Recomputing active_epoch_placefields2D... \t done.\n",
      "Recomputing active_epoch_time_dependent_placefields... \t done.\n",
      "Recomputing active_epoch_time_dependent_placefields2D... \t done.\n",
      "updating computation_results...\n",
      "done.\n",
      "WARNING: saving_mode is SKIP_SAVING so pipeline will not be saved despite calling .save_pipeline(...).\n",
      "saving_mode.shouldSave == False, so not saving at the end of batch_load_session\n"
     ]
    }
   ],
   "source": [
    "%pdb off\n",
    "# %%viztracer\n",
    "basedir = local_session_paths_list[1] # NOT 3\n",
    "print(f'basedir: {str(basedir)}')\n",
    "\n",
    "# ==================================================================================================================== #\n",
    "# Load Pipeline                                                                                                        #\n",
    "# ==================================================================================================================== #\n",
    "# with VizTracer(output_file=f\"viztracer_{get_now_time_str()}-batch_load_session.json\", min_duration=200, tracer_entries=3000000, ignore_frozen=True) as tracer:\n",
    "    # curr_active_pipeline = batch_load_session(global_data_root_parent_path, active_data_mode_name, basedir, saving_mode=PipelineSavingScheme.TEMP_THEN_OVERWRITE, force_reload=False, skip_extended_batch_computations=False)\n",
    "    # curr_active_pipeline = batch_load_session(global_data_root_parent_path, active_data_mode_name, basedir, saving_mode=PipelineSavingScheme.SKIP_SAVING, force_reload=False, skip_extended_batch_computations=True, debug_print=False)\n",
    "    # curr_active_pipeline = batch_load_session(global_data_root_parent_path, active_data_mode_name, basedir, saving_mode=PipelineSavingScheme.SKIP_SAVING, force_reload=True, skip_extended_batch_computations=False) # temp no-save\n",
    "    # SAVE AFTERWARDS!\n",
    "\n",
    "active_computation_functions_name_whitelist=['_perform_baseline_placefield_computation', '_perform_time_dependent_placefield_computation', '_perform_extended_statistics_computation',\n",
    "                                        # '_perform_position_decoding_computation', \n",
    "                                        '_perform_firing_rate_trends_computation',\n",
    "                                        # '_perform_pf_find_ratemap_peaks_computation',\n",
    "                                        # '_perform_time_dependent_pf_sequential_surprise_computation'\n",
    "                                        # '_perform_two_step_position_decoding_computation',\n",
    "                                        # '_perform_recursive_latent_placefield_decoding'\n",
    "                                    ]\n",
    "\n",
    "curr_active_pipeline = batch_load_session(global_data_root_parent_path, active_data_mode_name, basedir,\n",
    "                                          computation_functions_name_whitelist=active_computation_functions_name_whitelist,\n",
    "                                          saving_mode=PipelineSavingScheme.SKIP_SAVING, force_reload=True, skip_extended_batch_computations=True, debug_print=False, fail_on_exception=True)\n",
    "\n",
    "    # curr_active_pipeline = batch_load_session(global_data_root_parent_path, active_data_mode_name, basedir, saving_mode=PipelineSavingScheme.SKIP_SAVING, force_reload=False, active_pickle_filename='20221214200324-loadedSessPickle.pkl', skip_extended_batch_computations=True)\n",
    "\n",
    "    # Load custom-parameters pipeline ('loadedSessPickle_customParams_2023-01-18.pkl'):\n",
    "    # curr_active_pipeline = batch_load_session(global_data_root_parent_path, active_data_mode_name, basedir, saving_mode=PipelineSavingScheme.SKIP_SAVING, force_reload=False, active_pickle_filename='loadedSessPickle_customParams_2023-01-18.pkl', skip_extended_batch_computations=False, fail_on_exception=False)"
   ]
  },
  {
   "cell_type": "code",
   "execution_count": null,
   "id": "5555ad06-35c4-49f7-88d1-2fb80bc16819",
   "metadata": {
    "tags": [
     "load",
     "single_session"
    ]
   },
   "outputs": [],
   "source": [
    "newly_computed_values = batch_extended_computations(curr_active_pipeline, include_global_functions=True, fail_on_exception=True, progress_print=True, debug_print=True)\n",
    "newly_computed_values"
   ]
  },
  {
   "cell_type": "code",
   "execution_count": null,
   "id": "b77aa9b4-dc29-46d1-beca-da80350c910d",
   "metadata": {
    "tags": [
     "load",
     "single_session"
    ]
   },
   "outputs": [],
   "source": [
    "# Plot long|short firing rate index:\n",
    "long_short_fr_indicies_analysis_results = curr_active_pipeline.global_computation_results.computed_data['long_short_fr_indicies_analysis']\n",
    "x_frs_index, y_frs_index = long_short_fr_indicies_analysis_results['x_frs_index'], long_short_fr_indicies_analysis_results['y_frs_index'] # use the all_results_dict as the computed data value\n",
    "# active_context = long_short_fr_indicies_analysis_results['active_context']\n",
    "# fig, _temp_full_fig_save_path = _plot_long_short_firing_rate_indicies(x_frs_index, y_frs_index, active_context, fig_save_parent_path=fig_save_parent_path, debug_print=debug_print)"
   ]
  },
  {
   "cell_type": "code",
   "execution_count": null,
   "id": "55fcc88b-7690-4f2e-9ed7-28d8ca32a389",
   "metadata": {
    "tags": [
     "load",
     "single_session"
    ]
   },
   "outputs": [],
   "source": [
    "long_mean_laps_all_frs, long_mean_replays_all_frs, short_mean_laps_all_frs, short_mean_replays_all_frs = [long_short_fr_indicies_analysis_results[k] for k in ['long_mean_laps_all_frs', 'long_mean_replays_all_frs', 'short_mean_laps_all_frs', 'short_mean_replays_all_frs']]"
   ]
  },
  {
   "cell_type": "code",
   "execution_count": null,
   "id": "21f57c83-cf6b-4a0c-9253-80838282a2f9",
   "metadata": {
    "tags": [
     "load",
     "single_session"
    ]
   },
   "outputs": [],
   "source": [
    "from pyphoplacecellanalysis.General.Pipeline.Stages.ComputationFunctions.MultiContextComputationFunctions.MultiContextComputationFunctions import _unwrap_aclu_epoch_values_dict_to_array, _compute_epochs_num_aclu_inclusions\n",
    "\n",
    "aclus_long, long_mean_replays_all_frs_mat = _unwrap_aclu_epoch_values_dict_to_array(long_mean_replays_all_frs)\n",
    "aclus_short, short_mean_replays_all_frs_mat = _unwrap_aclu_epoch_values_dict_to_array(short_mean_replays_all_frs)\n",
    "assert aclus_long == aclus_short\n",
    "n_aclus = len(aclus_long)\n",
    "print(f'{n_aclus = }')\n",
    "n_long_epochs = np.shape(long_mean_replays_all_frs_mat)[1]\n",
    "n_short_epochs = np.shape(short_mean_replays_all_frs_mat)[1]\n",
    "n_combined_epochs = n_long_epochs + n_short_epochs\n",
    "print(f'{n_long_epochs = }, {n_short_epochs = }, {n_combined_epochs = }')\n",
    "n_min_cells_for_epoch_included_as_replay_candidate = int(0.30 * float(n_aclus))\n",
    "print(f'{n_min_cells_for_epoch_included_as_replay_candidate = }')"
   ]
  },
  {
   "cell_type": "code",
   "execution_count": null,
   "id": "ed446c7d-0943-4ba9-813b-4f194bc526e3",
   "metadata": {
    "tags": [
     "load",
     "single_session"
    ]
   },
   "outputs": [],
   "source": [
    "min_inclusion_fr_thresh = 19.01 # Hz\n",
    "is_cell_included_in_epoch_mat = long_mean_replays_all_frs_mat > min_inclusion_fr_thresh\n",
    "is_cell_included_in_epoch_mat\n",
    "# num_cells_included_in_epoch_mat: the num unique cells included in each epoch that mean the min_inclusion_fr_thresh criteria. Should have one value per epoch of interest.\n",
    "num_cells_included_in_epoch_mat = np.sum(is_cell_included_in_epoch_mat, 0)\n",
    "num_cells_included_in_epoch_mat\n",
    "\n",
    "\n",
    "_compute_epochs_num_aclu_inclusions(long_mean_replays_all_frs_mat, min_inclusion_fr_thresh=1.0)"
   ]
  },
  {
   "cell_type": "code",
   "execution_count": null,
   "id": "6c14b93e-b52c-48e3-acf7-4b846880b1ff",
   "metadata": {
    "tags": [
     "load",
     "single_session"
    ]
   },
   "outputs": [],
   "source": [
    "_compute_epochs_num_aclu_inclusions(short_mean_replays_all_frs_mat, min_inclusion_fr_thresh=1.0)"
   ]
  },
  {
   "cell_type": "code",
   "execution_count": null,
   "id": "23b650f1-e957-4f4a-a675-ddf4c3877a9f",
   "metadata": {
    "lines_to_next_cell": 2,
    "tags": [
     "load",
     "single_session"
    ]
   },
   "outputs": [],
   "source": []
  },
  {
   "cell_type": "code",
   "execution_count": null,
   "id": "1f5d5c87-0828-4c08-a067-3b935811138e",
   "metadata": {
    "tags": [
     "load",
     "single_session"
    ]
   },
   "outputs": [],
   "source": [
    "%pdb on\n",
    "fail_on_exception=False\n",
    "progress_print=True \n",
    "debug_print=False\n",
    "newly_computed_values = []\n",
    "\n",
    "_comp_name = 'long_short_fr_indicies_analyses'\n",
    "try:\n",
    "    ## Get global `long_short_fr_indicies_analysis` results:\n",
    "    long_short_fr_indicies_analysis_results = curr_active_pipeline.global_computation_results.computed_data['long_short_fr_indicies_analysis']\n",
    "    x_frs_index, y_frs_index = long_short_fr_indicies_analysis_results['x_frs_index'], long_short_fr_indicies_analysis_results['y_frs_index'] # use the all_results_dict as the computed data value\n",
    "    active_context = long_short_fr_indicies_analysis_results['active_context']\n",
    "    if progress_print:\n",
    "        print(f'{_comp_name} already computed.')\n",
    "except (AttributeError, KeyError) as e:\n",
    "    if progress_print or debug_print:\n",
    "        print(f'{_comp_name} missing.')\n",
    "    if debug_print:\n",
    "        print(f'\\t encountered error: {e}\\n{traceback.format_exc()}\\n.')\n",
    "    if progress_print or debug_print:\n",
    "        print(f'\\t Recomputing {_comp_name}...')\n",
    "    curr_active_pipeline.perform_specific_computation(computation_functions_name_whitelist=['_perform_short_long_firing_rate_analyses'], fail_on_exception=True, debug_print=False) # fail_on_exception MUST be True or error handling is all messed up \n",
    "    print(f'\\t done.')\n",
    "    long_short_fr_indicies_analysis_results = curr_active_pipeline.global_computation_results.computed_data['long_short_fr_indicies_analysis']\n",
    "    x_frs_index, y_frs_index = long_short_fr_indicies_analysis_results['x_frs_index'], long_short_fr_indicies_analysis_results['y_frs_index'] # use the all_results_dict as the computed data value\n",
    "    active_context = long_short_fr_indicies_analysis_results['active_context']\n",
    "    newly_computed_values.append(_comp_name)\n",
    "except Exception as e:\n",
    "    raise e"
   ]
  },
  {
   "cell_type": "code",
   "execution_count": null,
   "id": "de2fb5a5-85d5-443e-ba37-14f0ac5143ae",
   "metadata": {
    "tags": [
     "load",
     "single_session"
    ]
   },
   "outputs": [],
   "source": [
    "newly_computed_values"
   ]
  },
  {
   "cell_type": "code",
   "execution_count": null,
   "id": "52fdbf8f-bc70-4044-bc5d-fdb366667848",
   "metadata": {
    "lines_to_next_cell": 2,
    "tags": [
     "load",
     "single_session"
    ]
   },
   "outputs": [],
   "source": []
  },
  {
   "cell_type": "code",
   "execution_count": null,
   "id": "e0bcfcd9-1fc0-4d3c-aac5-f716ea9909f1",
   "metadata": {
    "tags": [
     "load",
     "single_session"
    ]
   },
   "outputs": [],
   "source": [
    "%pdb off\n",
    "curr_active_pipeline.display('_display_short_long_firing_rate_index_comparison', curr_active_pipeline.sess.get_context())"
   ]
  },
  {
   "cell_type": "code",
   "execution_count": null,
   "id": "39154129-742d-4983-bc45-d87932d1a48d",
   "metadata": {
    "tags": [
     "load",
     "single_session"
    ]
   },
   "outputs": [],
   "source": [
    "# Plot long|short firing rate index:\n",
    "fig_save_parent_path = Path(r'E:\\Dropbox (Personal)\\Active\\Kamran Diba Lab\\Results from 2023-01-20 - LongShort Firing Rate Indicies')\n",
    "curr_active_pipeline.display('_display_short_long_firing_rate_index_comparison', curr_active_pipeline.sess.get_context(), fig_save_parent_path=fig_save_parent_path)"
   ]
  },
  {
   "cell_type": "code",
   "execution_count": null,
   "id": "eb580ea6-ba5b-46da-8a5b-6d63c5740685",
   "metadata": {
    "tags": [
     "load",
     "single_session"
    ]
   },
   "outputs": [],
   "source": [
    "long_short_fr_indicies_analysis_results = curr_active_pipeline.global_computation_results.computed_data['long_short_fr_indicies_analysis']\n",
    "x_frs_index, y_frs_index = long_short_fr_indicies_analysis_results['x_frs_index'], long_short_fr_indicies_analysis_results['y_frs_index'] # use the all_results_dict as the computed data value\n",
    "active_context = long_short_fr_indicies_analysis_results['active_context']"
   ]
  },
  {
   "cell_type": "code",
   "execution_count": null,
   "id": "5b6dc6c8-51be-4e3e-a58f-8386e20933f5",
   "metadata": {
    "tags": [
     "load",
     "single_session"
    ]
   },
   "outputs": [],
   "source": [
    "curr_act"
   ]
  },
  {
   "cell_type": "code",
   "execution_count": null,
   "id": "8f37f9c8-1c80-435c-8df1-9fcfd61c26bd",
   "metadata": {
    "tags": [
     "load",
     "single_session"
    ]
   },
   "outputs": [],
   "source": [
    "curr_active_pipeline.save_pipeline(saving_mode=PipelineSavingScheme.OVERWRITE_IN_PLACE)"
   ]
  },
  {
   "cell_type": "code",
   "execution_count": null,
   "id": "7ed67d38-bb75-4d8d-a753-c86811996a2b",
   "metadata": {
    "tags": [
     "load",
     "single_session"
    ]
   },
   "outputs": [],
   "source": [
    "curr_active_pipeline.save_pipeline(saving_mode=PipelineSavingScheme.OVERWRITE_IN_PLACE, active_pickle_filename='loadedSessPickle_customParams_2023-01-18.pkl')"
   ]
  },
  {
   "cell_type": "code",
   "execution_count": null,
   "id": "7d9a7ba9-a398-4e16-9ffc-a89acbf29399",
   "metadata": {
    "lines_to_next_cell": 2,
    "tags": [
     "load",
     "single_session"
    ]
   },
   "outputs": [],
   "source": [
    "from pyphoplacecellanalysis.General.Mixins.ExportHelpers import _test_save_pipeline_data_to_h5\n",
    "finalized_output_cache_file='./pipeline_cache_store_2023-01-19.h5'"
   ]
  },
  {
   "cell_type": "code",
   "execution_count": null,
   "id": "cfa82d75-c6a0-4551-b65c-7582a0ab442a",
   "metadata": {
    "lines_to_next_cell": 2,
    "tags": [
     "load",
     "single_session"
    ]
   },
   "outputs": [],
   "source": [
    "finalized_output_cache_file = _test_save_pipeline_data_to_h5(curr_active_pipeline, finalized_output_cache_file=finalized_output_cache_file, enable_dry_run=False, enable_debug_print=True)\n",
    "finalized_output_cache_file"
   ]
  },
  {
   "cell_type": "code",
   "execution_count": null,
   "id": "1debbda4-5735-44f8-805d-5d9de44ae937",
   "metadata": {
    "lines_to_next_cell": 2,
    "tags": [
     "load",
     "single_session"
    ]
   },
   "outputs": [],
   "source": [
    "from pyphocorehelpers.DataStructure.dynamic_parameters import DynamicParameters # to replace simple PlacefieldComputationParameters\n",
    "from pyphoplacecellanalysis.General.Pipeline.Stages.Computation import ComputedPipelineStage\n",
    "\n",
    "# build global_computation_results to hold results:\n",
    "if curr_active_pipeline.global_computation_results is None:\n",
    "    print(f'global_computation_results is None. Building initial global_computation_results...')\n",
    "    curr_active_pipeline.global_computation_results = DynamicParameters()\n",
    "    curr_active_pipeline.global_computation_results = curr_active_pipeline._build_initial_computationResult(curr_active_pipeline.sess, None) # returns a computation result. This stores the computation config used to compute it.\n",
    "    \n",
    "curr_active_pipeline.global_computation_results # .computed_data = \n",
    "curr_active_pipeline.global_computation_results.computed_data = DynamicParameters()\n",
    "curr_active_pipeline.global_computation_results.accumulated_errors = DynamicParameters()"
   ]
  },
  {
   "cell_type": "code",
   "execution_count": null,
   "id": "24205b6c-339a-4102-b5e0-1286297803c7",
   "metadata": {
    "lines_to_next_cell": 2,
    "tags": [
     "load",
     "single_session"
    ]
   },
   "outputs": [],
   "source": [
    "newly_computed_values = batch_extended_computations(curr_active_pipeline, include_global_functions=True, fail_on_exception=True, progress_print=True, debug_print=False)"
   ]
  },
  {
   "cell_type": "code",
   "execution_count": null,
   "id": "44a48517-f0c3-40be-a3ec-50586b4aa3f3",
   "metadata": {
    "lines_to_next_cell": 2,
    "tags": [
     "load",
     "single_session"
    ]
   },
   "outputs": [],
   "source": [
    "%matplotlib qt\n",
    "from pyphoplacecellanalysis.temp import plot_long_short_firing_rate_indicies # used in `batch_extended_programmatic_figures()`\n",
    "\n",
    "# Plot long|short firing rate index:\n",
    "fig_save_parent_path = Path(r'E:\\Dropbox (Personal)\\Active\\Kamran Diba Lab\\Results from 2023-01-20 - LongShort Firing Rate Indicies')\n",
    "long_short_fr_indicies_analysis_results = curr_active_pipeline.global_computation_results.computed_data['long_short_fr_indicies_analysis']\n",
    "x_frs_index, y_frs_index = long_short_fr_indicies_analysis_results['x_frs_index'], long_short_fr_indicies_analysis_results['y_frs_index'] # use the all_results_dict as the computed data value\n",
    "active_context = long_short_fr_indicies_analysis_results['active_context']\n",
    "plot_long_short_firing_rate_indicies(x_frs_index, y_frs_index, active_context, fig_save_parent_path=fig_save_parent_path)"
   ]
  },
  {
   "cell_type": "code",
   "execution_count": null,
   "id": "8723b3d8-0558-439f-b1cc-324b2e7a5f5b",
   "metadata": {
    "lines_to_next_cell": 2,
    "tags": [
     "load",
     "single_session"
    ]
   },
   "outputs": [],
   "source": [
    "## Call `batch_extended_programmatic_figures(curr_active_pipeline)` to run `plot_long_short_firing_rate_indicies`\n",
    "batch_extended_programmatic_figures(curr_active_pipeline)"
   ]
  },
  {
   "cell_type": "code",
   "execution_count": null,
   "id": "084b144b-32bd-4176-a2e0-c0c3b251a537",
   "metadata": {
    "lines_to_next_cell": 2,
    "tags": [
     "load",
     "single_session"
    ]
   },
   "outputs": [],
   "source": [
    "# IDEA: Convert the computation configs into a context."
   ]
  },
  {
   "cell_type": "markdown",
   "id": "faac0644-e306-494f-b947-35e2264de2bc",
   "metadata": {
    "incorrectly_encoded_metadata": "tags=[\"load\", \"single_session\"] jp-MarkdownHeadingCollapsed=true jp-MarkdownHeadingCollapsed=true",
    "tags": []
   },
   "source": [
    "## Computing with custom computation config:"
   ]
  },
  {
   "cell_type": "code",
   "execution_count": null,
   "id": "3625a3bd-6be2-4922-95ad-df28933ec7a9",
   "metadata": {
    "collapsed": false,
    "jupyter": {
     "outputs_hidden": false
    }
   },
   "outputs": [],
   "source": [
    "## From https://github.com/CommanderPho/pyPhoPlaceCellAnalysis/blob/master/src/pyphoplacecellanalysis/General/NonInteractiveWrapper.py#L256\n",
    "\n",
    "fail_on_exception = True\n",
    "debug_print = False\n",
    "time_bin_size = 0.03333 # 0.03333 = 1.0/30.0 # decode at 30fps to match the position sampling frequency\n",
    "known_data_session_type_properties_dict = DataSessionFormatRegistryHolder.get_registry_known_data_session_type_dict()\n",
    "active_data_session_types_registered_classes_dict = DataSessionFormatRegistryHolder.get_registry_data_session_type_class_name_dict()\n",
    "\n",
    "active_data_mode_registered_class = active_data_session_types_registered_classes_dict[active_data_mode_name]\n",
    "active_data_mode_type_properties = known_data_session_type_properties_dict[active_data_mode_name]\n",
    "\n",
    "# ## Compute shared grid_bin_bounds for all epochs from the global positions:\n",
    "# global_unfiltered_session = curr_active_pipeline.sess\n",
    "# # ((22.736279243974774, 261.696733348342), (49.989466271998936, 151.2870218547401))\n",
    "# first_filtered_session = curr_active_pipeline.filtered_sessions[curr_active_pipeline.filtered_session_names[0]]\n",
    "# # ((22.736279243974774, 261.696733348342), (125.5644705153173, 151.21507349463707))\n",
    "# second_filtered_session = curr_active_pipeline.filtered_sessions[curr_active_pipeline.filtered_session_names[1]]\n",
    "# # ((71.67666779621361, 224.37820920766043), (110.51617463644946, 151.2870218547401))\n",
    "\n",
    "# grid_bin_bounding_session = first_filtered_session\n",
    "# grid_bin_bounds = PlacefieldComputationParameters.compute_grid_bin_bounds(grid_bin_bounding_session.position.x, grid_bin_bounding_session.position.y)\n",
    "\n",
    "## OR use no grid_bin_bounds meaning they will be determined dynamically for each epoch:\n",
    "grid_bin_bounds = None\n",
    "\n",
    "# time_bin_size = 0.03333 #1.0/30.0 # decode at 30fps to match the position sampling frequency\n",
    "# time_bin_size = 0.1 # 10 fps\n",
    "\n",
    "active_computation_configs_list = active_data_mode_registered_class.build_default_computation_configs(sess=curr_active_pipeline.sess, time_bin_size=time_bin_size, grid_bin_bounds=grid_bin_bounds) #1.0/30.0 # decode at 30fps to match the position sampling frequency\n",
    "active_computation_configs_list\n",
    "\n",
    "active_computation_configs_dict = {'default': active_computation_configs_list[0]}\n",
    "\n",
    "## Duplicate the default computation config to modify it:\n",
    "# temp_comp_params = deepcopy(active_session_computation_configs[0])\n",
    "temp_comp_params = deepcopy(active_computation_configs_dict['default'])\n",
    "\n",
    "# temp_comp_params = PlacefieldComputationParameters(speed_thresh=4)\n",
    "temp_comp_params.pf_params.speed_thresh = 4 # 4.0 cm/sec\n",
    "temp_comp_params.pf_params.grid_bin = (2, 2) # (2cm x 2cm)\n",
    "temp_comp_params.pf_params.smooth = (0.0, 0.0) # No smoothing\n",
    "temp_comp_params.pf_params.frate_thresh = 1 # Minimum for non-smoothed peak is 1Hz\n",
    "temp_comp_params\n",
    "\n",
    "# Add it to the array of computation configs:\n",
    "# active_session_computation_configs.append(temp_comp_params)\n",
    "active_computation_configs_dict['custom'] = temp_comp_params\n",
    "active_computation_configs_dict\n",
    "\n",
    "# {'default': DynamicContainer({'pf_params': <PlacefieldComputationParameters: {'speed_thresh': 10.0, 'grid_bin': (3.8185290701194465, 2.036075534862613), 'grid_bin_bounds': (None, None), 'smooth': (2.0, 2.0), 'frate_thresh': 0.2, 'time_bin_size': 0.03333, 'computation_epochs': None};>, 'spike_analysis': DynamicContainer({'max_num_spikes_per_neuron': 20000, 'kleinberg_parameters': DynamicContainer({'s': 2, 'gamma': 0.2}), 'use_progress_bar': False, 'debug_print': False})}),\n",
    "#  'custom': DynamicContainer({'pf_params': <PlacefieldComputationParameters: {'speed_thresh': 4, 'grid_bin': (2, 2), 'grid_bin_bounds': (None, None), 'smooth': (0.0, 0.0), 'frate_thresh': 1, 'time_bin_size': 0.03333, 'computation_epochs': None};>, 'spike_analysis': DynamicContainer({'max_num_spikes_per_neuron': 20000, 'kleinberg_parameters': DynamicContainer({'s': 2, 'gamma': 0.2}), 'use_progress_bar': False, 'debug_print': False})})}"
   ]
  },
  {
   "cell_type": "code",
   "execution_count": null,
   "id": "e3a3ab00-b36a-4b71-851d-11c86d771590",
   "metadata": {
    "tags": [
     "load",
     "single_session"
    ]
   },
   "outputs": [],
   "source": [
    "# Compute with the new computation config:\n",
    "computation_functions_name_whitelist=['_perform_baseline_placefield_computation', '_perform_time_dependent_placefield_computation', '_perform_extended_statistics_computation',\n",
    "                                    '_perform_position_decoding_computation', \n",
    "                                    '_perform_firing_rate_trends_computation',\n",
    "                                    '_perform_pf_find_ratemap_peaks_computation',\n",
    "                                    '_perform_time_dependent_pf_sequential_surprise_computation'\n",
    "                                    '_perform_two_step_position_decoding_computation',\n",
    "                                    # '_perform_recursive_latent_placefield_decoding'\n",
    "                                 ]  # '_perform_pf_find_ratemap_peaks_peak_prominence2d_computation'\n",
    "\n",
    "curr_active_pipeline.perform_computations(active_computation_configs_dict['custom'], computation_functions_name_whitelist=computation_functions_name_whitelist, computation_functions_name_blacklist=None, fail_on_exception=fail_on_exception, debug_print=debug_print, overwrite_extant_results=True) #, overwrite_extant_results=False  ], fail_on_exception=True, debug_print=False)"
   ]
  },
  {
   "cell_type": "code",
   "execution_count": null,
   "id": "e8a1cb1e-3807-4d83-8089-425e7b5b8cc3",
   "metadata": {
    "tags": [
     "load",
     "single_session"
    ]
   },
   "outputs": [],
   "source": [
    "curr_active_pipeline.save_pipeline(saving_mode=PipelineSavingScheme.OVERWRITE_IN_PLACE, active_pickle_filename='loadedSessPickle_customParams_2023-01-18.pkl')"
   ]
  },
  {
   "cell_type": "code",
   "execution_count": null,
   "id": "67bc29ed-221c-4870-98a2-68aad057065a",
   "metadata": {
    "lines_to_next_cell": 2,
    "tags": [
     "load",
     "single_session"
    ]
   },
   "outputs": [],
   "source": [
    "batch_extended_computations(curr_active_pipeline, include_global_functions=False, fail_on_exception=True, progress_print=True, debug_print=False)"
   ]
  },
  {
   "cell_type": "markdown",
   "id": "eb6cc346-60ee-4d65-bbf5-f384e193d13a",
   "metadata": {
    "incorrectly_encoded_metadata": "tags=[\"load\", \"single_session\"] jp-MarkdownHeadingCollapsed=true",
    "lines_to_next_cell": 2
   },
   "source": [
    "# 🔜✳️🐞🔟 2023-01-20 - NeuropyPipeline pickling issues and potential solution\n",
    "See \"C:\\Users\\pho\\repos\\PhoPy3DPositionAnalysis2021\\EXTERNAL\\DEVELOPER_NOTES\\2023-01-20 pickling errors\" folder\n",
    "\n",
    "and \n",
    "\n",
    "obsidian://open?vault=PhoGlobalObsidian2022&file=DailyObsidianLog%2F%F0%9F%94%9C%E2%9C%B3%EF%B8%8F%F0%9F%90%9E%F0%9F%94%9F%20NeuropyPipeline%20pickling%20issues%20-%202023-01-20"
   ]
  },
  {
   "cell_type": "code",
   "execution_count": null,
   "id": "2baac604-b1cc-464d-8d0a-de0b85eab35a",
   "metadata": {
    "tags": [
     "load",
     "single_session"
    ]
   },
   "outputs": [],
   "source": [
    "%pdb on\n",
    "import dill\n",
    "\n",
    "# some code that creates curr_active_pipeline\n",
    "\n",
    "bad_types = dill.detect.badtypes(curr_active_pipeline)\n",
    "if bad_types:\n",
    "    print(\"Problematic types found: \", bad_types)\n",
    "else:\n",
    "    print(\"No problematic types found.\")"
   ]
  },
  {
   "cell_type": "code",
   "execution_count": null,
   "id": "1e840ab8-305f-4f87-aef5-444cfe1bb1ec",
   "metadata": {
    "tags": [
     "load",
     "single_session"
    ]
   },
   "outputs": [],
   "source": [
    "import dill\n",
    "import io\n",
    "\n",
    "# some code that creates curr_active_pipeline\n",
    "\n",
    "# Create a file-like object to receive pickled data.\n",
    "file_obj = io.BytesIO()\n",
    "\n",
    "# pickle the object\n",
    "dill.dump(curr_active_pipeline, file_obj)\n",
    "\n",
    "# reset the file object\n",
    "file_obj.seek(0)\n",
    "\n",
    "badness = dill.detect.badness(curr_active_pipeline, file_obj)\n",
    "if badness:\n",
    "    print(\"Problem with pickling process: \", badness)\n",
    "else:\n",
    "    print(\"No problem with pickling process.\")\n",
    "\n",
    "file_obj.close()"
   ]
  },
  {
   "cell_type": "code",
   "execution_count": null,
   "id": "42690621-cf40-441a-bb17-6118bb0b2929",
   "metadata": {
    "tags": [
     "load",
     "single_session"
    ]
   },
   "outputs": [],
   "source": [
    "curr_active_pipeline.pickle_path"
   ]
  },
  {
   "cell_type": "code",
   "execution_count": null,
   "id": "99b6a36f-0875-4444-b774-4152c64c7111",
   "metadata": {
    "tags": [
     "load",
     "single_session"
    ]
   },
   "outputs": [],
   "source": [
    "global_data_root_parent_path.joinpath('loadedSessPickle.pkl')"
   ]
  },
  {
   "cell_type": "code",
   "execution_count": null,
   "id": "61d43b09-a43a-4d57-84c7-480c45dd462a",
   "metadata": {
    "lines_to_next_cell": 2,
    "tags": [
     "load",
     "single_session"
    ]
   },
   "outputs": [],
   "source": [
    "import dill as pickle # requires mamba install dill -c conda-forge\n",
    "import dill.detect\n",
    "# from dill import detect\n",
    "dill.detect.trace(True)\n",
    "ignore=False\n",
    "\n",
    "import dill.settings\n",
    "dumps(absolute) == dumps(absolute, recurse=True)\n",
    "False\n",
    "dill.settings['recurse'] = True\n",
    "dumps(absolute) == dumps(absolute, recurse=True)\n",
    "True"
   ]
  },
  {
   "cell_type": "code",
   "execution_count": null,
   "id": "dab52af4-a983-4dbd-b1da-86ee672d0363",
   "metadata": {
    "tags": [
     "load",
     "single_session"
    ]
   },
   "outputs": [],
   "source": [
    "pickle_log_file = 'pickle_log_2023-01-20_ignore_false.md'\n",
    "with dill.detect.trace(pickle_log_file, mode='w') as log:\n",
    "    log(\"> curr_active_pipeline = %r\", curr_active_pipeline)\n",
    "    dill.dumps(curr_active_pipeline, ignore=False)\n",
    "    # undill\n",
    "    # log('done')\n",
    "    # log(\"> squared = %r\", squared)\n",
    "    # dumps(squared)"
   ]
  },
  {
   "cell_type": "code",
   "execution_count": null,
   "id": "328425f2-0538-4dae-ae6d-b7f572c8fc64",
   "metadata": {
    "tags": [
     "load",
     "single_session"
    ]
   },
   "outputs": [],
   "source": [
    "pickle_log_file = 'pickle_log_2023-01-20_subtypes.md'\n",
    "with dill.detect.trace(pickle_log_file, mode='w') as log:\n",
    "    log(\"> curr_active_pipeline = %r\", curr_active_pipeline)\n",
    "    dill.dumps(curr_active_pipeline, ignore=False)"
   ]
  },
  {
   "cell_type": "code",
   "execution_count": null,
   "id": "ea1eec64-ed44-4b71-84bc-2c395f746f24",
   "metadata": {
    "scrolled": true,
    "tags": [
     "load",
     "single_session"
    ]
   },
   "outputs": [],
   "source": [
    "pickle_log_file = 'pickle_log_2023-01-20_badtypes.md'\n",
    "with dill.detect.trace(pickle_log_file, mode='w') as log:\n",
    "    log(\"> curr_active_pipeline = %r\", curr_active_pipeline)\n",
    "    # log(\"> BADTYPES = %r\", dill.detect.badtypes(curr_active_pipeline))"
   ]
  },
  {
   "cell_type": "markdown",
   "id": "4c05b6c0-76f9-427a-914f-3b21defbe947",
   "metadata": {
    "incorrectly_encoded_metadata": "jupyter={\"outputs_hidden\": false} jp-MarkdownHeadingCollapsed=true tags=[] jp-MarkdownHeadingCollapsed=true",
    "lines_to_next_cell": 2
   },
   "source": [
    "## Test getting FULL context from pipeline\n",
    "2023-01-24 - TODO: either add a decorator that declares each set of parameters (computation params, filter params, session, etc) as a context-adhering class (basically dict-convertable) or refactor"
   ]
  },
  {
   "cell_type": "code",
   "execution_count": null,
   "id": "6f57ce6e-db69-4ea5-9b22-c0d8e42eac2c",
   "metadata": {
    "collapsed": false,
    "jupyter": {
     "outputs_hidden": false
    },
    "lines_to_next_cell": 2
   },
   "outputs": [],
   "source": [
    "# Helpful references: https://github.com/CommanderPho/pyPhoPlaceCellAnalysis/blob/feature%2Frefactor-to-klepto/src/pyphoplacecellanalysis/General/Mixins/ExportHelpers.py#L271\n",
    "# active_session_figures_out_path = session_context_to_relative_path(figures_parent_out_path, active_identifying_session_ctx)\n",
    "\n",
    "# Perform for each filtered context:\n",
    "debug_print = True\n",
    "for filter_name, a_filtered_context in curr_active_pipeline.filtered_contexts.items():\n",
    "    if debug_print:\n",
    "        print(f'filter_name: {filter_name}: \"{a_filtered_context.get_description()}\"')\n",
    "    # Get the desired computation function context:\n",
    "    \n",
    "    active_identifying_ctx = a_filtered_context\n",
    "    # for a_key, a_value in a_computation_config.items():\n",
    "    #     # IdentifyingContext.init_from_dict(a_value.__dict__) \n",
    "    #     active_identifying_ctx = active_identifying_ctx.adding_context(a_key, **a_value.__dict__) # a_key is collision_prefix\n",
    "\n",
    "    # hard-coded version:\n",
    "    a_pf_params = a_computation_config['pf_params'].to_dict() # .__dict__\n",
    "    active_identifying_ctx = active_identifying_ctx.adding_context('pf_params', **a_pf_params) # a_key is collision_prefix\n",
    "    a_spike_analysis = a_computation_config['spike_analysis'].to_dict()\n",
    "    active_identifying_ctx = active_identifying_ctx.adding_context('spike_analysis', **a_spike_analysis) # a_key is collision_prefix\n",
    "\n",
    "    # # Add in the desired display variable:\n",
    "    # active_identifying_ctx = active_identifying_display_ctx.adding_context('filter_epochs', **active_display_fn_kwargs) # , filter_epochs='ripple' ## TODO: this is only right for a single function!\n",
    "    \n",
    "    final_context = active_identifying_ctx # Display/Variable context mode\n",
    "    active_identifying_ctx_string = final_context.get_description(separator='_', include_property_names=True, replace_separator_in_property_names='-') # Get final discription string\n",
    "    if debug_print:\n",
    "        print(f'active_identifying_ctx_string: \"{active_identifying_ctx_string}\"')\n",
    "        \n",
    "        \n",
    "# # Finally, add the display function to the active context\n",
    "# active_identifying_ctx = active_identifying_filtered_session_ctx.adding_context('display_fn', display_fn_name='figure_format_config_widget')\n",
    "# active_identifying_ctx_string = active_identifying_ctx.get_description(separator='|') # Get final discription string:\n",
    "# if debug_print:\n",
    "#     print(f'active_identifying_ctx_string: {active_identifying_ctx_string}')"
   ]
  },
  {
   "cell_type": "code",
   "execution_count": null,
   "id": "bef2a952-4710-44d5-ba17-d68fc2fb3da6",
   "metadata": {
    "collapsed": false,
    "jupyter": {
     "outputs_hidden": false
    },
    "lines_to_next_cell": 2
   },
   "outputs": [],
   "source": [
    "curr_active_pipeline.filtered_contexts"
   ]
  },
  {
   "cell_type": "code",
   "execution_count": null,
   "id": "aebb244e-1aca-4e86-8786-1b63508c3bc6",
   "metadata": {
    "collapsed": false,
    "jupyter": {
     "outputs_hidden": false
    },
    "lines_to_next_cell": 2
   },
   "outputs": [],
   "source": [
    "filter_name = 'maze1'\n",
    "a_computation_result = curr_active_pipeline.computation_results[filter_name]\n",
    "a_computation_config = a_computation_result.computation_config # DynamicContainer({'pf_params': <PlacefieldComputationParameters: {'speed_thresh': 4, 'grid_bin': (2, 2), 'grid_bin_bounds': (None, None), 'smooth': (0.0, 0.0), 'frate_thresh': 1, 'time_bin_size': 0.03333, 'computation_epochs': None};>, 'spike_analysis': DynamicContainer({'max_num_spikes_per_neuron': 20000, 'kleinberg_parameters': DynamicContainer({'s': 2, 'gamma': 0.2}), 'use_progress_bar': False, 'debug_print': False})})\n"
   ]
  },
  {
   "cell_type": "code",
   "execution_count": null,
   "id": "8f0b26b8-7588-48fd-8532-d69cb94d4bed",
   "metadata": {
    "collapsed": false,
    "jupyter": {
     "outputs_hidden": false
    },
    "lines_to_next_cell": 2
   },
   "outputs": [],
   "source": [
    "a_pf_params = a_computation_config['pf_params'].__dict__\n",
    "# a_pf_params.str_for_attributes_list_display()\n",
    "\n",
    "a_spike_analysis = a_computation_config['spike_analysis'].to_dict()\n",
    "# a_spike_analysis.str_for_attributes_list_display()"
   ]
  },
  {
   "cell_type": "code",
   "execution_count": null,
   "id": "3f0caf34-6c5f-466b-a690-0e28da0d62ff",
   "metadata": {
    "collapsed": false,
    "jupyter": {
     "outputs_hidden": false
    },
    "lines_to_next_cell": 2
   },
   "outputs": [],
   "source": [
    "a_spike_analysis.to_dict()"
   ]
  },
  {
   "cell_type": "code",
   "execution_count": null,
   "id": "b094db40-9140-4c62-9ebf-71741556dc4a",
   "metadata": {
    "collapsed": false,
    "jupyter": {
     "outputs_hidden": false
    },
    "lines_to_next_cell": 2
   },
   "outputs": [],
   "source": [
    "a_computation_config_context = IdentifyingContext.init_from_dict(a_pf_params.__dict__)\n",
    "a_computation_config_context.keypaths()"
   ]
  },
  {
   "cell_type": "code",
   "execution_count": null,
   "id": "2adf57ef-b76c-4a16-99ca-016368a392ca",
   "metadata": {
    "collapsed": false,
    "jupyter": {
     "outputs_hidden": false
    },
    "lines_to_next_cell": 2
   },
   "outputs": [],
   "source": [
    "# a_computation_config_context = IdentifyingContext.init_from_dict({a_key:a_value for a_key, a_value in a_computation_config.items()})\n",
    "\n",
    "a_computation_config_context = IdentifyingContext.init_from_dict({a_key:IdentifyingContext.init_from_dict(a_value.__dict__) for a_key, a_value in a_computation_config.items()})\n",
    "a_computation_config_context.keypaths()\n",
    "a_computation_config_context"
   ]
  },
  {
   "cell_type": "code",
   "execution_count": null,
   "id": "b8d74a0e-1b8d-4164-a28f-2c1e2207b367",
   "metadata": {
    "collapsed": false,
    "jupyter": {
     "outputs_hidden": false
    },
    "lines_to_next_cell": 2
   },
   "outputs": [],
   "source": [
    "a_computation_config.__dict__"
   ]
  },
  {
   "cell_type": "code",
   "execution_count": null,
   "id": "d9de3d9e-c4cb-4028-a8da-85251b1d3a77",
   "metadata": {
    "collapsed": false,
    "jupyter": {
     "outputs_hidden": false
    },
    "lines_to_next_cell": 2
   },
   "outputs": [],
   "source": [
    "a_computation_config # DynamicContainer({'pf_params': <PlacefieldComputationParameters: {'speed_thresh': 4, 'grid_bin': (2, 2), 'grid_bin_bounds': (None, None), 'smooth': (0.0, 0.0), 'frate_thresh': 1, 'time_bin_size': 0.03333, 'computation_epochs': None};>, 'spike_analysis': DynamicContainer({'max_num_spikes_per_neuron': 20000, 'kleinberg_parameters': DynamicContainer({'s': 2, 'gamma': 0.2}), 'use_progress_bar': False, 'debug_print': False})})"
   ]
  },
  {
   "cell_type": "code",
   "execution_count": null,
   "id": "8f568828-b6c5-4349-8cb0-cc4897373e26",
   "metadata": {
    "collapsed": false,
    "jupyter": {
     "outputs_hidden": false
    },
    "lines_to_next_cell": 2
   },
   "outputs": [],
   "source": [
    "# def recursively_dictify(obj):\n",
    "#     if isinstance(obj, dict):\n",
    "#         for key, value in obj.items():\n",
    "#             obj[key] = recursively_dictify(value)\n",
    "#         return obj\n",
    "#     elif hasattr(obj, '__dict__'):\n",
    "#         return recursively_dictify(obj.__dict__)\n",
    "#     elif hasattr(obj, '__iter__'):\n",
    "#         return [recursively_dictify(v) for v in obj]\n",
    "#     else:\n",
    "#         return obj\n",
    "\n",
    "# a_dictified_computation_config = recursively_dictify(a_computation_config)\n",
    "# a_dictified_computation_config"
   ]
  },
  {
   "cell_type": "markdown",
   "id": "a0d53f05-05c4-45e4-87ed-20a0e56420a3",
   "metadata": {
    "jupyter": {
     "outputs_hidden": false
    },
    "lines_to_next_cell": 2
   },
   "source": [
    "## 2023-01-19 - Test `klepto` for persistance framework:"
   ]
  },
  {
   "cell_type": "code",
   "execution_count": null,
   "id": "47f12e6d-3d59-4643-b811-d345ad7f9032",
   "metadata": {
    "collapsed": false,
    "jupyter": {
     "outputs_hidden": false
    },
    "lines_to_next_cell": 2
   },
   "outputs": [],
   "source": [
    "import klepto\n",
    "from klepto.archives import dir_archive\n",
    "\n",
    "# dir_archive("
   ]
  },
  {
   "cell_type": "code",
   "execution_count": null,
   "id": "50119136-dd3c-421b-bb96-a1785382e566",
   "metadata": {
    "collapsed": false,
    "jupyter": {
     "outputs_hidden": false
    },
    "lines_to_next_cell": 2
   },
   "outputs": [],
   "source": [
    "# Use klepto's `dump` function to save the object to disk\n",
    "# klepto.dump(curr_active_pipeline, 'my_custom_object.pkl')\n",
    "_subfield_value = dir_archive('curr_active_pipeline', curr_active_pipeline.__getstate__(), serialized=True)\n",
    "_subfield_value.dump()\n",
    "\n",
    "# computation_results = dir_archive('computation_results', curr_active_pipeline.computation_results, serialized=True) # TypeError: 'NeuropyPipeline' object is not iterable\n",
    "# computation_results.dump()"
   ]
  },
  {
   "cell_type": "code",
   "execution_count": null,
   "id": "00a9a938-7a0b-4864-9fbd-82c5cbffc6d3",
   "metadata": {
    "collapsed": false,
    "jupyter": {
     "outputs_hidden": false
    },
    "lines_to_next_cell": 2
   },
   "outputs": [],
   "source": [
    "## Load the pipeline:\n",
    "curr_active_pipeline = dir_archive('curr_active_pipeline', {}, serialized=False)\n",
    "curr_active_pipeline.load()"
   ]
  },
  {
   "cell_type": "markdown",
   "id": "cc42cdda-579f-4fc1-9f81-2b0aba6a9ac6",
   "metadata": {
    "jupyter": {
     "outputs_hidden": false
    },
    "lines_to_next_cell": 2,
    "tags": []
   },
   "source": [
    "### Dump the whole pipeline to dir_archive at once:"
   ]
  },
  {
   "cell_type": "code",
   "execution_count": null,
   "id": "29c022c8-9b2b-4620-ab19-d49a561803b5",
   "metadata": {
    "collapsed": false,
    "jupyter": {
     "outputs_hidden": false
    },
    "lines_to_next_cell": 2
   },
   "outputs": [],
   "source": [
    "_subfield_value = dir_archive('curr_active_pipeline', curr_active_pipeline.__getstate__(), serialized=True)\n",
    "_subfield_value.dump()"
   ]
  },
  {
   "cell_type": "markdown",
   "id": "6a4053b2-2155-41f5-bcc6-1fd5a19d8ccf",
   "metadata": {
    "jupyter": {
     "outputs_hidden": false
    },
    "lines_to_next_cell": 2,
    "tags": []
   },
   "source": [
    "### Dump the member variables individually (not needed if the above works):"
   ]
  },
  {
   "cell_type": "code",
   "execution_count": null,
   "id": "919ee25e-8803-4e37-bc1e-380e571777e4",
   "metadata": {
    "collapsed": false,
    "jupyter": {
     "outputs_hidden": false
    },
    "lines_to_next_cell": 2
   },
   "outputs": [],
   "source": [
    "['computation_results','global_computation_results']\n",
    "['active_sess_config','stage','active_configs']"
   ]
  },
  {
   "cell_type": "code",
   "execution_count": null,
   "id": "80d9a89f-c173-44e2-8169-13e7b38b0eb0",
   "metadata": {
    "collapsed": false,
    "jupyter": {
     "outputs_hidden": false
    },
    "lines_to_next_cell": 2
   },
   "outputs": [],
   "source": [
    "for a_subfield in ['active_sess_config','active_configs']:\n",
    "    print(f\"serializing '{a_subfield}'...\")\n",
    "    # .to_dict()\n",
    "    try:\n",
    "        _subfield_value = dir_archive(a_subfield, getattr(curr_active_pipeline, a_subfield), serialized=True)\n",
    "    except TypeError:\n",
    "         _subfield_value = dir_archive(a_subfield, getattr(curr_active_pipeline, a_subfield).to_dict(), serialized=True)\n",
    "    _subfield_value.dump()"
   ]
  },
  {
   "cell_type": "code",
   "execution_count": null,
   "id": "70cd7b9a-6c45-447a-8c6a-3ef0f37d9b7b",
   "metadata": {
    "collapsed": false,
    "jupyter": {
     "outputs_hidden": false
    },
    "lines_to_next_cell": 2
   },
   "outputs": [],
   "source": [
    "a_subfield = 'stage'\n",
    "print(f\"serializing '{a_subfield}'...\")\n",
    "# .to_dict()\n",
    "try:\n",
    "    _subfield_value = dir_archive(a_subfield, getattr(curr_active_pipeline, a_subfield), serialized=True)\n",
    "except TypeError:\n",
    "     _subfield_value = dir_archive(a_subfield, getattr(curr_active_pipeline, a_subfield).to_dict(), serialized=True)\n",
    "_subfield_value.dump()"
   ]
  },
  {
   "cell_type": "code",
   "execution_count": null,
   "id": "2755998f-c2eb-4cba-902a-b01c74ff3c1f",
   "metadata": {
    "collapsed": false,
    "jupyter": {
     "outputs_hidden": false
    },
    "lines_to_next_cell": 2
   },
   "outputs": [],
   "source": []
  },
  {
   "cell_type": "code",
   "execution_count": null,
   "id": "6e245060-d66f-426f-88b1-74ea35237f69",
   "metadata": {
    "collapsed": false,
    "jupyter": {
     "outputs_hidden": false
    },
    "lines_to_next_cell": 2
   },
   "outputs": [],
   "source": [
    "del demo"
   ]
  },
  {
   "cell_type": "code",
   "execution_count": null,
   "id": "57028aad-255d-42b9-aed8-524a3a9917cc",
   "metadata": {
    "collapsed": false,
    "jupyter": {
     "outputs_hidden": false
    },
    "lines_to_next_cell": 2
   },
   "outputs": [],
   "source": [
    "global_computation_results = dir_archive('global_computation_results', curr_active_pipeline.global_computation_results, serialized=True)\n",
    "global_computation_results.dump()"
   ]
  },
  {
   "cell_type": "code",
   "execution_count": null,
   "id": "54a4147c-98f2-4ae9-bd3a-3d2dc4f19456",
   "metadata": {
    "collapsed": false,
    "jupyter": {
     "outputs_hidden": false
    },
    "lines_to_next_cell": 2
   },
   "outputs": [],
   "source": [
    "curr_active_pipeline\n",
    "\n",
    "active_configs"
   ]
  },
  {
   "cell_type": "code",
   "execution_count": null,
   "id": "6c45e66b-2e93-47b4-a798-0c90530c80f9",
   "metadata": {
    "collapsed": false,
    "jupyter": {
     "outputs_hidden": false
    },
    "lines_to_next_cell": 2
   },
   "outputs": [],
   "source": [
    "# demo is empty, load from disk\n",
    "demo = dir_archive('computation_results', {}, serialized=True)\n",
    "demo.load() # load from disk\n",
    "demo"
   ]
  },
  {
   "cell_type": "code",
   "execution_count": null,
   "id": "d434685a-5e56-45aa-97d2-1d7f27cbe09e",
   "metadata": {
    "collapsed": false,
    "jupyter": {
     "outputs_hidden": false
    },
    "lines_to_next_cell": 2
   },
   "outputs": [],
   "source": [
    "# @memoize(keymap=hasher, ignore=('self','**'))\n"
   ]
  },
  {
   "cell_type": "markdown",
   "id": "6d039d57-d17a-4965-ad65-64d21a55aebd",
   "metadata": {
    "jupyter": {
     "outputs_hidden": false
    },
    "lines_to_next_cell": 2,
    "tags": []
   },
   "source": [
    "# Other"
   ]
  },
  {
   "cell_type": "markdown",
   "id": "b64b1584-98ec-4337-b535-4709b4b35f31",
   "metadata": {
    "jupyter": {
     "outputs_hidden": false
    },
    "lines_to_next_cell": 2,
    "tags": []
   },
   "source": [
    "## Printing/Docs generation"
   ]
  },
  {
   "cell_type": "code",
   "execution_count": null,
   "id": "2aa049c4-6dc1-4b9d-b60f-60c4e9575c39",
   "metadata": {
    "collapsed": false,
    "jupyter": {
     "outputs_hidden": false
    },
    "lines_to_next_cell": 2
   },
   "outputs": [],
   "source": [
    "from pyphocorehelpers.print_helpers import DocumentationFilePrinter, print_keys_if_possible"
   ]
  },
  {
   "cell_type": "code",
   "execution_count": null,
   "id": "7ac90a55-3c1c-4fa1-a5c5-d2b9b2ac43e5",
   "metadata": {},
   "outputs": [],
   "source": [
    "doc_printer = DocumentationFilePrinter(doc_output_parent_folder=Path('C:/Users/pho/repos/PhoPy3DPositionAnalysis2021/EXTERNAL/DEVELOPER_NOTES/DataStructureDocumentation'), doc_name='NeuropyPipeline')\n",
    "doc_printer.save_documentation('NeuropyPipeline', curr_active_pipeline, non_expanded_item_keys=['stage','_reverse_cellID_index_map', 'pf_listed_colormap', 'computation_results', 'active_configs', 'logger', 'plot', '_plot_object'],\n",
    "                               additional_excluded_item_classes=[\"<class 'pyphoplacecellanalysis.General.Pipeline.Stages.Display.Plot'>\"], max_depth=16) # 'Logger'"
   ]
  },
  {
   "cell_type": "code",
   "execution_count": null,
   "id": "79cec67a-11ce-4d19-bf71-1778c4b808e0",
   "metadata": {},
   "outputs": [],
   "source": []
  },
  {
   "cell_type": "code",
   "execution_count": null,
   "id": "4c302c9b-072d-4f2f-b22d-4adced975796",
   "metadata": {},
   "outputs": [],
   "source": []
  },
  {
   "cell_type": "code",
   "execution_count": null,
   "id": "ed51bcf1-d904-4c09-99a7-7c39227604d3",
   "metadata": {
    "collapsed": false,
    "jupyter": {
     "outputs_hidden": false
    },
    "lines_to_next_cell": 2
   },
   "outputs": [],
   "source": [
    "str(type(curr_active_pipeline.plot))"
   ]
  },
  {
   "cell_type": "code",
   "execution_count": null,
   "id": "97d6cc28-b041-4938-8c21-bcc40062c858",
   "metadata": {
    "collapsed": false,
    "jupyter": {
     "outputs_hidden": false
    },
    "lines_to_next_cell": 2
   },
   "outputs": [],
   "source": [
    "curr_active_pipeline.active_configs['maze1'].filter_config"
   ]
  },
  {
   "cell_type": "code",
   "execution_count": null,
   "id": "4d976b45-3f1d-4c49-9670-b0949d4eb442",
   "metadata": {
    "collapsed": false,
    "jupyter": {
     "outputs_hidden": false
    },
    "lines_to_next_cell": 2
   },
   "outputs": [],
   "source": [
    "curr_active_pipeline.active_configs['maze1'].computation_config"
   ]
  },
  {
   "cell_type": "code",
   "execution_count": null,
   "id": "e5372cea-3bc6-4235-8ac5-bc1c2777ff7f",
   "metadata": {
    "tags": [
     "load",
     "single_session"
    ]
   },
   "outputs": [],
   "source": [
    "curr_active_pipeline.active_sess_config.get_description()"
   ]
  },
  {
   "cell_type": "code",
   "execution_count": null,
   "id": "9d292562-818b-442f-804d-5513c2bd17a7",
   "metadata": {
    "tags": [
     "load",
     "single_session"
    ]
   },
   "outputs": [],
   "source": [
    "curr_active_pipeline.computation_results['maze1'].computation_config"
   ]
  },
  {
   "cell_type": "code",
   "execution_count": null,
   "id": "40e52a0d",
   "metadata": {
    "collapsed": false,
    "jupyter": {
     "outputs_hidden": false
    }
   },
   "outputs": [],
   "source": [
    "print_keys_if_possible('computation_config', curr_active_pipeline.computation_results['maze1'].computation_config)"
   ]
  },
  {
   "cell_type": "code",
   "execution_count": null,
   "id": "8d4247c0",
   "metadata": {
    "collapsed": false,
    "jupyter": {
     "outputs_hidden": false
    }
   },
   "outputs": [],
   "source": [
    "debug_dump_object_member_shapes(curr_active_pipeline.computation_results['maze1'].computation_config)"
   ]
  },
  {
   "cell_type": "code",
   "execution_count": null,
   "id": "8ca5cbb2-0670-4b6c-92c0-ea6fa1805bab",
   "metadata": {
    "collapsed": false,
    "jupyter": {
     "outputs_hidden": false
    }
   },
   "outputs": [],
   "source": [
    "print(list(curr_active_pipeline.__dict__.keys())) # ['pipeline_name', 'session_data_type', '_stage', '_logger', '_persistance_state', '_plot_object']"
   ]
  },
  {
   "cell_type": "code",
   "execution_count": null,
   "id": "10f87a82-97ca-475c-bf68-e44993458785",
   "metadata": {
    "collapsed": false,
    "jupyter": {
     "outputs_hidden": false
    }
   },
   "outputs": [],
   "source": [
    "print_keys_if_possible('"
   ]
  },
  {
   "cell_type": "code",
   "execution_count": null,
   "id": "0bde35e0-5db6-4105-a28c-3ffed2de9daa",
   "metadata": {
    "collapsed": false,
    "jupyter": {
     "outputs_hidden": false
    }
   },
   "outputs": [],
   "source": [
    "document_active_variables(curr_active_pipeline, enable_print=True)"
   ]
  },
  {
   "cell_type": "code",
   "execution_count": null,
   "id": "05fe701f-855b-4415-a431-1970060ec4cf",
   "metadata": {
    "tags": [
     "load",
     "single_session"
    ]
   },
   "outputs": [],
   "source": [
    "curr_active_pipeline.computation_results['maze1'].computation_config.pf_params"
   ]
  },
  {
   "cell_type": "code",
   "execution_count": null,
   "id": "f44b7d6e-bb4b-4bee-aaaa-2142592467c9",
   "metadata": {
    "tags": [
     "load",
     "single_session"
    ]
   },
   "outputs": [],
   "source": [
    "curr_active_pipeline.computation_results['maze1'].computation_config.spike_analysis"
   ]
  },
  {
   "cell_type": "code",
   "execution_count": null,
   "id": "b3f6dd0b-b6e8-40cc-bebf-32c597cb7d41",
   "metadata": {
    "tags": [
     "load",
     "single_session"
    ]
   },
   "outputs": [],
   "source": [
    "print_keys_if_possible('computation_config', curr_active_pipeline.computation_results['maze1'].computation_config, custom_item_formatter=(lambda depth_string, curr_key, type_string, type_name: f\"{depth_string}- {curr_key}: {_test_convert(type_string)}\"))"
   ]
  },
  {
   "cell_type": "code",
   "execution_count": null,
   "id": "589bd6c5-bc56-47bf-aeae-2562d0a93877",
   "metadata": {
    "tags": [
     "load",
     "single_session"
    ]
   },
   "outputs": [],
   "source": [
    "print_keys_if_possible('computation_config', curr_active_pipeline.computation_results['maze1'].computation_config, custom_item_formatter=(lambda depth_string, curr_key, type_string, type_name: f\"{depth_string}- {curr_key}: <{TypePrintMode.FULL_TYPE_STRING.convert(type_string, new_type=TypePrintMode.TYPE_NAME_ONLY)}>\"))"
   ]
  },
  {
   "cell_type": "code",
   "execution_count": null,
   "id": "3e12f16f-8487-426b-a1e2-3ff768967419",
   "metadata": {
    "tags": [
     "load",
     "single_session"
    ]
   },
   "outputs": [],
   "source": [
    "type(PlacefieldComputationParameters)"
   ]
  },
  {
   "cell_type": "code",
   "execution_count": null,
   "id": "b7a1145e",
   "metadata": {
    "collapsed": false,
    "jupyter": {
     "outputs_hidden": false
    }
   },
   "outputs": [],
   "source": [
    "curr_active_pipeline.perform_specific_computation()"
   ]
  },
  {
   "cell_type": "code",
   "execution_count": null,
   "id": "86e2a504-c183-4c0d-a618-4cc9070cc1c4",
   "metadata": {
    "tags": [
     "load",
     "single_session"
    ]
   },
   "outputs": [],
   "source": [
    "TypePrintMode.FULL_TYPE_STRING.convert(\"<class 'neuropy.utils.dynamic_container.DynamicContainer'>\", new_type=TypePrintMode.TYPE_NAME_ONLY)"
   ]
  },
  {
   "cell_type": "code",
   "execution_count": null,
   "id": "9a5a3126-29e4-4cd4-986a-ca3b8daecd28",
   "metadata": {
    "tags": [
     "load",
     "single_session"
    ]
   },
   "outputs": [],
   "source": [
    "print_keys_if_possible('computation_config', curr_active_pipeline.computation_results['maze1'].computation_config, custom_item_formatter=(lambda depth_string, curr_key, type_string, type_name: f\"{depth_string}- {curr_key}: {TypePrintMode.FULL_TYPE_STRING.convert(type_name, new_type=TypePrintMode.TYPE_NAME_ONLY)}\"))"
   ]
  },
  {
   "cell_type": "code",
   "execution_count": null,
   "id": "5016d9ba-baac-4a4b-8fbf-fe9aba121fd0",
   "metadata": {
    "tags": [
     "load",
     "single_session"
    ]
   },
   "outputs": [],
   "source": [
    "PlacefieldComputationParameters"
   ]
  },
  {
   "cell_type": "code",
   "execution_count": null,
   "id": "b8e1dba1-5880-4367-93b8-5cd75e44344a",
   "metadata": {
    "tags": [
     "load",
     "single_session"
    ]
   },
   "outputs": [],
   "source": [
    "curr_active_pipeline.active_configs"
   ]
  },
  {
   "cell_type": "code",
   "execution_count": null,
   "id": "a73240d1-0b4d-4f18-b488-244a9557528b",
   "metadata": {
    "tags": [
     "load",
     "single_session"
    ]
   },
   "outputs": [],
   "source": [
    "InteractivePlaceCellConfig"
   ]
  },
  {
   "cell_type": "code",
   "execution_count": null,
   "id": "8348b7e1-e13a-4cd4-a178-dc34a0602017",
   "metadata": {
    "tags": [
     "load",
     "single_session"
    ]
   },
   "outputs": [],
   "source": [
    "print_object_memory_usage(curr_active_pipeline)"
   ]
  },
  {
   "cell_type": "code",
   "execution_count": null,
   "id": "6175d33c-324c-40b1-ab63-6217fa5fe83b",
   "metadata": {
    "tags": [
     "load",
     "single_session"
    ]
   },
   "outputs": [],
   "source": [
    "print_object_memory_usage(curr_active_pipeline.sess)"
   ]
  },
  {
   "cell_type": "code",
   "execution_count": null,
   "id": "50361ea3-b8bd-4a24-9b54-bb5c25b35462",
   "metadata": {
    "tags": [
     "load",
     "single_session"
    ]
   },
   "outputs": [],
   "source": [
    "print_object_memory_usage(curr_active_pipeline.computation_results) # 22240.691080 MB"
   ]
  },
  {
   "cell_type": "code",
   "execution_count": null,
   "id": "a5a30734-aaa5-4efd-a583-b9b2b50d0aec",
   "metadata": {
    "tags": [
     "load",
     "single_session"
    ]
   },
   "outputs": [],
   "source": [
    "print_object_memory_usage(curr_active_pipeline.computation_results['maze1'])"
   ]
  },
  {
   "cell_type": "code",
   "execution_count": null,
   "id": "5c0436b7-b596-4b9c-9bd7-23f1811fbeb1",
   "metadata": {
    "tags": [
     "load",
     "single_session"
    ]
   },
   "outputs": [],
   "source": [
    "print_object_memory_usage(curr_active_pipeline.computation_results['maze'])"
   ]
  },
  {
   "cell_type": "code",
   "execution_count": null,
   "id": "36952334-acd1-4d8a-a7dc-a185e6b38226",
   "metadata": {},
   "outputs": [],
   "source": [
    "newly_computed_values = batch_extended_computations(curr_active_pipeline, include_global_functions=True, fail_on_exception=True, progress_print=True, debug_print=False)"
   ]
  },
  {
   "cell_type": "code",
   "execution_count": null,
   "id": "30a4d8c8",
   "metadata": {
    "collapsed": false,
    "jupyter": {
     "outputs_hidden": false
    }
   },
   "outputs": [],
   "source": [
    "PlacefieldComputationParameters"
   ]
  },
  {
   "cell_type": "code",
   "execution_count": null,
   "id": "b72f875d",
   "metadata": {
    "collapsed": false,
    "jupyter": {
     "outputs_hidden": false
    }
   },
   "outputs": [],
   "source": [
    "_test_new_comp_params = PlacefieldComputationParameters(speed_thresh=4)\n",
    "_test_new_comp_params"
   ]
  },
  {
   "cell_type": "markdown",
   "id": "4e25c428-3a70-40f5-98bb-a1dbf7e459a3",
   "metadata": {
    "incorrectly_encoded_metadata": "jp-MarkdownHeadingCollapsed=true",
    "tags": []
   },
   "source": [
    "# Continued previous..."
   ]
  },
  {
   "cell_type": "markdown",
   "id": "716889b1-b230-46c5-818e-7afa09301102",
   "metadata": {
    "incorrectly_encoded_metadata": "jp-MarkdownHeadingCollapsed=true tags=[] jp-MarkdownHeadingCollapsed=true tags=[] jp-MarkdownHeadingCollapsed=true jp-MarkdownHeadingCollapsed=true tags=[] jp-MarkdownHeadingCollapsed=true jp-MarkdownHeadingCollapsed=true tags=[] jp-MarkdownHeadingCollapsed=true jp-MarkdownHeadingCollapsed=true",
    "tags": []
   },
   "source": [
    "### Burst Detection"
   ]
  },
  {
   "cell_type": "code",
   "execution_count": null,
   "id": "ccf152a1-b22e-4fc5-98fb-7dd52cba8b24",
   "metadata": {},
   "outputs": [],
   "source": [
    "global_epoch_name = curr_active_pipeline.active_completed_computation_result_names[-1] # 'maze'\n",
    "global_results = curr_active_pipeline.computation_results[global_epoch_name]['computed_data']    \n",
    "curr_active_pipeline.perform_specific_computation(computation_functions_name_whitelist=['_perform_spike_burst_detection_computation'], enabled_filter_names=[global_epoch_name], fail_on_exception=True, debug_print=False)\n",
    "active_burst_info = global_results['burst_detection']\n",
    "active_burst_intervals = active_burst_info['burst_intervals']\n",
    "active_burst_intervals"
   ]
  },
  {
   "cell_type": "code",
   "execution_count": null,
   "id": "b297fe56-d302-4655-8551-943a1c249709",
   "metadata": {},
   "outputs": [],
   "source": [
    "## Add the burst_detection burst_intervals to the active_2d_plot:\n",
    "from pyphoplacecellanalysis.GUI.PyQtPlot.Widgets.Mixins.RenderTimeEpochs.Render2DEventRectanglesHelper import Render2DEventRectanglesHelper\n",
    "active_burst_info = global_results['burst_detection']\n",
    "active_burst_intervals = active_burst_info['burst_intervals']\n",
    "output_display_items = Render2DEventRectanglesHelper.add_event_rectangles(active_2d_plot, active_burst_intervals) # {'interval_rects_item': active_interval_rects_item}\n",
    "active_interval_rects_item = output_display_items['interval_rects_item']\n",
    "active_interval_rects_item"
   ]
  },
  {
   "cell_type": "code",
   "execution_count": null,
   "id": "4524b0c5-bb3a-47d8-bc03-f3ef6b3f500a",
   "metadata": {},
   "outputs": [],
   "source": [
    "from pyphocorehelpers.print_helpers import print_object_memory_usage\n",
    "\n",
    "print_object_memory_usage(active_burst_info) # object size: 14.190922 MB"
   ]
  },
  {
   "cell_type": "code",
   "execution_count": null,
   "id": "bb18f903-b04b-4957-8cd6-45c093b18b33",
   "metadata": {},
   "outputs": [],
   "source": [
    "# global_results.pf1D_dt.restore_from_snapshot(global_results.pf1D_dt.last_t)\n",
    "global_results.pf1D_dt.reset()"
   ]
  },
  {
   "cell_type": "code",
   "execution_count": null,
   "id": "344e287a-8533-458c-b7fd-2591312f1aee",
   "metadata": {},
   "outputs": [],
   "source": [
    "global_results.pf1D_dt.curr_num_pos_samples_occupancy_map"
   ]
  },
  {
   "cell_type": "code",
   "execution_count": null,
   "id": "0ae448cf-e5f2-45bb-a2d8-30f028357a0a",
   "metadata": {},
   "outputs": [],
   "source": [
    "test_snapshot = global_results.pf1D_dt.historical_snapshots[0.0]\n",
    "test_snapshot"
   ]
  },
  {
   "cell_type": "code",
   "execution_count": null,
   "id": "0500d00a-ae74-4ce0-897d-72d30007f92e",
   "metadata": {},
   "outputs": [],
   "source": [
    "active_identifying_session_ctx, curr_session_figures_out_path, active_out_figures_list = batch_programmatic_figures(curr_active_pipeline)"
   ]
  },
  {
   "cell_type": "code",
   "execution_count": null,
   "id": "429fd1cd-6efb-4b2c-9037-ad3aa3adf96a",
   "metadata": {},
   "outputs": [],
   "source": [
    "batch_extended_programmatic_figures(curr_active_pipeline)"
   ]
  },
  {
   "cell_type": "code",
   "execution_count": null,
   "id": "2936d7d5-7190-4e94-aff6-322329453f64",
   "metadata": {},
   "outputs": [],
   "source": [
    "for a_name, a_result in curr_active_pipeline.computation_results.items():\n",
    "    print(f'{a_name}')\n",
    "    a_result.computed_data.pf1D_dt.reset() # clears the snapshots\n",
    "    print(a_result.computed_data.pf1D_dt.historical_snapshots)\n",
    "\n",
    "# global_results.extended_stats.relative_entropy_analyses.historical_snapshots\n",
    "del global_results.extended_stats.relative_entropy_analyses['historical_snapshots']\n",
    "\n",
    "# global_results.extended_stats.relative_entropy_analyses.snapshot_differences_result_dict\n",
    "del global_results.extended_stats.relative_entropy_analyses['snapshot_differences_result_dict']"
   ]
  },
  {
   "cell_type": "code",
   "execution_count": null,
   "id": "33e66b93-4c66-4ded-8fc4-c0abcd44ae49",
   "metadata": {},
   "outputs": [],
   "source": [
    "# %pdb on\n",
    "# curr_active_pipeline.save_pipeline(saving_mode=PipelineSavingScheme.OVERWRITE_IN_PLACE)\n",
    "curr_active_pipeline.save_pipeline(saving_mode=PipelineSavingScheme.TEMP_THEN_OVERWRITE)"
   ]
  },
  {
   "cell_type": "markdown",
   "id": "9ec4e913-d02a-40bd-9a9d-d109af03c087",
   "metadata": {
    "incorrectly_encoded_metadata": "jp-MarkdownHeadingCollapsed=true tags=[] jp-MarkdownHeadingCollapsed=true jp-MarkdownHeadingCollapsed=true tags=[] jp-MarkdownHeadingCollapsed=true jp-MarkdownHeadingCollapsed=true tags=[] jp-MarkdownHeadingCollapsed=true"
   },
   "source": [
    "###  Compute Required Global Computations Manually:"
   ]
  },
  {
   "cell_type": "code",
   "execution_count": null,
   "id": "cedf96f0-601c-4064-b844-f32384c6429b",
   "metadata": {
    "lines_to_end_of_cell_marker": 2
   },
   "outputs": [],
   "source": [
    "from pyphoplacecellanalysis.General.Mixins.CrossComputationComparisonHelpers import SplitPartitionMembership # for batch_extended_computations\n",
    "# ==================================================================================================================== #\n",
    "# Perform missing global computations                                                                                  #\n",
    "# ==================================================================================================================== #\n",
    "\n",
    "## Get computed relative entropy measures:\n",
    "global_epoch_name = curr_active_pipeline.active_completed_computation_result_names[-1] # 'maze'\n",
    "global_results = curr_active_pipeline.computation_results[global_epoch_name]['computed_data']\n",
    "\n",
    "## Get existing `pf1D_dt`:\n",
    "active_pf_1D = global_results.pf1D\n",
    "active_pf_1D_dt = global_results.pf1D_dt\n",
    "\n",
    "## firing_rate_trends:\n",
    "try:\n",
    "    active_extended_stats = curr_active_pipeline.computation_results[global_epoch_name].computed_data['extended_stats']\n",
    "    time_binned_pos_df = active_extended_stats['time_binned_position_df']\n",
    "except (AttributeError, KeyError) as e:\n",
    "    print(f'encountered error: {e}. Recomputing...')\n",
    "    curr_active_pipeline.perform_specific_computation(computation_functions_name_whitelist=['_perform_firing_rate_trends_computation'], enabled_filter_names=[global_epoch_name], fail_on_exception=True, debug_print=False) \n",
    "    print(f'\\t done.')\n",
    "    active_extended_stats = curr_active_pipeline.computation_results[global_epoch_name].computed_data['extended_stats']\n",
    "    time_binned_pos_df = active_extended_stats['time_binned_position_df']\n",
    "except Exception as e:\n",
    "    raise e\n",
    "\n",
    "## relative_entropy_analyses:\n",
    "try:\n",
    "    active_relative_entropy_results = active_extended_stats['relative_entropy_analyses']\n",
    "    post_update_times = active_relative_entropy_results['post_update_times'] # (4152,) = (n_post_update_times,)\n",
    "    snapshot_differences_result_dict = active_relative_entropy_results['snapshot_differences_result_dict']\n",
    "    time_intervals = active_relative_entropy_results['time_intervals']\n",
    "    long_short_rel_entr_curves_frames = active_relative_entropy_results['long_short_rel_entr_curves_frames'] # (4152, 108, 63) = (n_post_update_times, n_neurons, n_xbins)\n",
    "    short_long_rel_entr_curves_frames = active_relative_entropy_results['short_long_rel_entr_curves_frames'] # (4152, 108, 63) = (n_post_update_times, n_neurons, n_xbins)\n",
    "    flat_relative_entropy_results = active_relative_entropy_results['flat_relative_entropy_results'] # (149, 63) - (nSnapshots, nXbins)\n",
    "    flat_jensen_shannon_distance_results = active_relative_entropy_results['flat_jensen_shannon_distance_results'] # (149, 63) - (nSnapshots, nXbins)\n",
    "    flat_jensen_shannon_distance_across_all_positions = np.sum(flat_jensen_shannon_distance_results, axis=1) # sum across all position bins # (4152,) - (nSnapshots)\n",
    "    flat_surprise_across_all_positions = np.sum(flat_relative_entropy_results, axis=1) # sum across all position bins # (4152,) - (nSnapshots)\n",
    "except (AttributeError, KeyError) as e:\n",
    "    print(f'encountered error: {e}. Recomputing...')\n",
    "    curr_active_pipeline.perform_specific_computation(computation_functions_name_whitelist=['_perform_time_dependent_pf_sequential_surprise_computation'], enabled_filter_names=[global_epoch_name], fail_on_exception=True, debug_print=False)\n",
    "    print(f'\\t done.')\n",
    "    active_relative_entropy_results = active_extended_stats['relative_entropy_analyses']\n",
    "    post_update_times = active_relative_entropy_results['post_update_times'] # (4152,) = (n_post_update_times,)\n",
    "    snapshot_differences_result_dict = active_relative_entropy_results['snapshot_differences_result_dict']\n",
    "    time_intervals = active_relative_entropy_results['time_intervals']\n",
    "    long_short_rel_entr_curves_frames = active_relative_entropy_results['long_short_rel_entr_curves_frames'] # (4152, 108, 63) = (n_post_update_times, n_neurons, n_xbins)\n",
    "    short_long_rel_entr_curves_frames = active_relative_entropy_results['short_long_rel_entr_curves_frames'] # (4152, 108, 63) = (n_post_update_times, n_neurons, n_xbins)\n",
    "    flat_relative_entropy_results = active_relative_entropy_results['flat_relative_entropy_results'] # (149, 63) - (nSnapshots, nXbins)\n",
    "    flat_jensen_shannon_distance_results = active_relative_entropy_results['flat_jensen_shannon_distance_results'] # (149, 63) - (nSnapshots, nXbins)\n",
    "    flat_jensen_shannon_distance_across_all_positions = np.sum(np.abs(flat_jensen_shannon_distance_results), axis=1) # sum across all position bins # (4152,) - (nSnapshots)\n",
    "    flat_surprise_across_all_positions = np.sum(np.abs(flat_relative_entropy_results), axis=1) # sum across all position bins # (4152,) - (nSnapshots)\n",
    "except Exception as e:\n",
    "    raise e\n",
    "    \n",
    "    \n",
    "## jonathan_firing_rate_analysis:\n",
    "try:\n",
    "    ## Get global 'jonathan_firing_rate_analysis' results:\n",
    "    curr_jonathan_firing_rate_analysis = curr_active_pipeline.global_computation_results.computed_data['jonathan_firing_rate_analysis']\n",
    "    neuron_replay_stats_df, rdf, aclu_to_idx, irdf = curr_jonathan_firing_rate_analysis['neuron_replay_stats_df'], curr_jonathan_firing_rate_analysis['rdf']['rdf'], curr_jonathan_firing_rate_analysis['rdf']['aclu_to_idx'], curr_jonathan_firing_rate_analysis['irdf']['irdf']\n",
    "except (AttributeError, KeyError) as e:\n",
    "    print(f'encountered error: {e}. Recomputing...')\n",
    "    curr_active_pipeline.perform_specific_computation(computation_functions_name_whitelist=['_perform_jonathan_replay_firing_rate_analyses'], fail_on_exception=False, debug_print=False) \n",
    "    print(f'\\t done.')\n",
    "    curr_jonathan_firing_rate_analysis = curr_active_pipeline.global_computation_results.computed_data['jonathan_firing_rate_analysis']\n",
    "    neuron_replay_stats_df, rdf, aclu_to_idx, irdf = curr_jonathan_firing_rate_analysis['neuron_replay_stats_df'], curr_jonathan_firing_rate_analysis['rdf']['rdf'], curr_jonathan_firing_rate_analysis['rdf']['aclu_to_idx'], curr_jonathan_firing_rate_analysis['irdf']['irdf']\n",
    "except Exception as e:\n",
    "    raise e\n",
    "\n",
    "## short_long_pf_overlap_analyses:\n",
    "try:\n",
    "    ## Get global `short_long_pf_overlap_analyses` results:\n",
    "    short_long_pf_overlap_analyses = curr_active_pipeline.global_computation_results.computed_data.short_long_pf_overlap_analyses\n",
    "    conv_overlap_dict = short_long_pf_overlap_analyses['conv_overlap_dict']\n",
    "    conv_overlap_scalars_df = short_long_pf_overlap_analyses['conv_overlap_scalars_df']\n",
    "    prod_overlap_dict = short_long_pf_overlap_analyses['product_overlap_dict']\n",
    "    relative_entropy_overlap_dict = short_long_pf_overlap_analyses['relative_entropy_overlap_dict']\n",
    "    relative_entropy_overlap_scalars_df = short_long_pf_overlap_analyses['relative_entropy_overlap_scalars_df']\n",
    "\n",
    "except (AttributeError, KeyError) as e:\n",
    "    print(f'encountered error: {e}. Recomputing...')\n",
    "    curr_active_pipeline.perform_specific_computation(computation_functions_name_whitelist=['_perform_short_long_pf_overlap_analyses'], fail_on_exception=False, debug_print=False)\n",
    "    print(f'\\t done.')\n",
    "    short_long_pf_overlap_analyses = curr_active_pipeline.global_computation_results.computed_data.short_long_pf_overlap_analyses\n",
    "    conv_overlap_dict = short_long_pf_overlap_analyses['conv_overlap_dict']\n",
    "    conv_overlap_scalars_df = short_long_pf_overlap_analyses['conv_overlap_scalars_df']\n",
    "    prod_overlap_dict = short_long_pf_overlap_analyses['product_overlap_dict']\n",
    "    relative_entropy_overlap_dict = short_long_pf_overlap_analyses['relative_entropy_overlap_dict']\n",
    "    relative_entropy_overlap_scalars_df = short_long_pf_overlap_analyses['relative_entropy_overlap_scalars_df']\n",
    "except Exception as e:\n",
    "    raise e\n",
    "\n",
    "\n",
    "short_only_df = neuron_replay_stats_df[neuron_replay_stats_df.track_membership == SplitPartitionMembership.RIGHT_ONLY]\n",
    "short_only_aclus = short_only_df.index.values.tolist()\n",
    "long_only_df = neuron_replay_stats_df[neuron_replay_stats_df.track_membership == SplitPartitionMembership.LEFT_ONLY]\n",
    "long_only_aclus = long_only_df.index.values.tolist()\n",
    "shared_df = neuron_replay_stats_df[neuron_replay_stats_df.track_membership == SplitPartitionMembership.SHARED]\n",
    "shared_aclus = shared_df.index.values.tolist()\n",
    "print(f'shared_aclus: {shared_aclus}')\n",
    "print(f'long_only_aclus: {long_only_aclus}')\n",
    "print(f'short_only_aclus: {short_only_aclus}')\n",
    "\n",
    "active_identifying_session_ctx = curr_active_pipeline.sess.get_context() # 'bapun_RatN_Day4_2019-10-15_11-30-06'"
   ]
  },
  {
   "cell_type": "code",
   "execution_count": null,
   "id": "a320d69e-23cc-4c14-b36c-d547757a3c70",
   "metadata": {},
   "outputs": [],
   "source": [
    "flat_relative_entropy_results.shape # (149, 63) - (nSnapshots, nXbins)"
   ]
  },
  {
   "cell_type": "code",
   "execution_count": null,
   "id": "a986997f-2862-46f9-881d-c4092433fb3b",
   "metadata": {},
   "outputs": [],
   "source": [
    "flat_jensen_shannon_distance_results.shape # (149, 63) - (nSnapshots, nXbins)"
   ]
  },
  {
   "cell_type": "code",
   "execution_count": null,
   "id": "8cc28ea8-9552-48a4-a976-62c1dd3bdb9f",
   "metadata": {},
   "outputs": [],
   "source": [
    "post_update_times.shape"
   ]
  },
  {
   "cell_type": "code",
   "execution_count": null,
   "id": "e1996503-2b3b-4623-a603-8918e37cb4f2",
   "metadata": {},
   "outputs": [],
   "source": [
    "\n",
    "# surprise_across_all_positions"
   ]
  },
  {
   "cell_type": "code",
   "execution_count": null,
   "id": "3cab241e-2656-46a0-9e14-03ae4701893b",
   "metadata": {},
   "outputs": [],
   "source": [
    "post_update_times.shape # (149,)"
   ]
  },
  {
   "cell_type": "code",
   "execution_count": null,
   "id": "caf8673a-bac6-404b-a4d7-7242eef630e1",
   "metadata": {},
   "outputs": [],
   "source": [
    "flat_relative_entropy_results"
   ]
  },
  {
   "cell_type": "code",
   "execution_count": null,
   "id": "08cdbdd9-8b43-4497-a351-d3e604ba8a41",
   "metadata": {},
   "outputs": [],
   "source": [
    "pf_overlap_results"
   ]
  },
  {
   "cell_type": "code",
   "execution_count": null,
   "id": "ae9a2c34-5cc2-4c42-ab6d-3beb2afd2a39",
   "metadata": {},
   "outputs": [],
   "source": [
    "difference_snapshots"
   ]
  },
  {
   "cell_type": "code",
   "execution_count": null,
   "id": "1b22f972-13b0-4c72-9d32-8238502d36d2",
   "metadata": {},
   "outputs": [],
   "source": [
    "curr_active_pipeline.display"
   ]
  },
  {
   "cell_type": "code",
   "execution_count": null,
   "id": "6bc27d20-67b4-42ff-80d2-4c9bf7122908",
   "metadata": {},
   "outputs": [],
   "source": [
    "%matplotlib qt\n",
    "import matplotlib as mpl\n",
    "import matplotlib.pyplot as plt\n",
    "def _simple_surprise_plot():\n",
    "    plt.plot(post_update_times, flat_relative_entropy_results)"
   ]
  },
  {
   "cell_type": "code",
   "execution_count": null,
   "id": "8d4b9f88-b41b-4111-879b-a92e4585776d",
   "metadata": {},
   "outputs": [],
   "source": []
  },
  {
   "cell_type": "code",
   "execution_count": null,
   "id": "47b14a1f-a885-44e5-8267-78fa04444623",
   "metadata": {},
   "outputs": [],
   "source": [
    "plt.plot(post_update_times, flat_relative_entropy_results)"
   ]
  },
  {
   "cell_type": "code",
   "execution_count": null,
   "id": "329dfa38-76ee-4448-b6bb-13ad76c5dc71",
   "metadata": {},
   "outputs": [],
   "source": [
    "plt.plot(post_update_times.T, surprise_across_all_positions)"
   ]
  },
  {
   "cell_type": "code",
   "execution_count": null,
   "id": "455c53f5-26cf-4935-be1e-30ff7d0de486",
   "metadata": {},
   "outputs": [],
   "source": [
    "plt.plot(post_update_times.T, flat_jensen_shannon_distance_across_all_positions)"
   ]
  },
  {
   "cell_type": "code",
   "execution_count": null,
   "id": "2699a721-61dd-4006-9a9f-cceffa41bf87",
   "metadata": {},
   "outputs": [],
   "source": [
    "# flat_relative_entropy_results.shape # (1, 63)"
   ]
  },
  {
   "cell_type": "markdown",
   "id": "3c429125-a200-4d1a-937f-6a4c064cfef2",
   "metadata": {
    "incorrectly_encoded_metadata": "tags=[] jp-MarkdownHeadingCollapsed=true jp-MarkdownHeadingCollapsed=true tags=[] jp-MarkdownHeadingCollapsed=true",
    "tags": []
   },
   "source": [
    "## 2022-11-21 - 1D Ratemaps Before and After Track change (Long vs. Short track)\n",
    "Working metrics for comparing overlaps of 1D placefields before and after track change"
   ]
  },
  {
   "cell_type": "code",
   "execution_count": null,
   "id": "be611d78-3afa-4847-89bc-27f81fa352b5",
   "metadata": {},
   "outputs": [],
   "source": [
    "long_one_step_decoder_1D.debug_dump_print()"
   ]
  },
  {
   "cell_type": "code",
   "execution_count": null,
   "id": "b33590f9-e401-45b3-ba8d-d04ef74470e3",
   "metadata": {},
   "outputs": [],
   "source": [
    "long_one_step_decoder_1D.ndim"
   ]
  },
  {
   "cell_type": "code",
   "execution_count": null,
   "id": "d4909f9b-ea1a-42cd-b947-8244eb72e81b",
   "metadata": {},
   "outputs": [],
   "source": [
    "long_one_step_decoder_2D.ndim"
   ]
  },
  {
   "cell_type": "code",
   "execution_count": null,
   "id": "503785be-f38a-45c4-a00e-fd80b7b0486d",
   "metadata": {},
   "outputs": [],
   "source": [
    "long_one_step_decoder_1D.num_time_windows"
   ]
  },
  {
   "cell_type": "code",
   "execution_count": null,
   "id": "02321e11-35af-4315-bd41-d4896865ae22",
   "metadata": {},
   "outputs": [],
   "source": [
    "long_one_step_decoder_1D.xbin_centers"
   ]
  },
  {
   "cell_type": "code",
   "execution_count": null,
   "id": "6a44600e",
   "metadata": {},
   "outputs": [],
   "source": []
  },
  {
   "cell_type": "code",
   "execution_count": null,
   "id": "701c1af7-4dfe-4e19-a628-11a8f4f20d6b",
   "metadata": {},
   "outputs": [],
   "source": [
    "short_one_step_decoder_1D.debug_dump_print()"
   ]
  },
  {
   "cell_type": "code",
   "execution_count": null,
   "id": "f52d466a-3fde-457f-b27b-3f7c5adcdb25",
   "metadata": {},
   "outputs": [],
   "source": [
    "curr_active_pipeline.display('_display_plot_most_likely_position_comparisons', long_epoch_name) ## Current plot"
   ]
  },
  {
   "cell_type": "code",
   "execution_count": null,
   "id": "93d77613-5199-4006-b6e3-9571bfa8769f",
   "metadata": {
    "tags": []
   },
   "outputs": [],
   "source": [
    "from pyphoplacecellanalysis.General.Pipeline.Stages.DisplayFunctions.DecoderPredictionError import plot_spike_count_and_firing_rate_normalizations\n",
    "active_decoder = long_one_step_decoder_1D\n",
    "fig, axs = plot_spike_count_and_firing_rate_normalizations(active_decoder)"
   ]
  },
  {
   "cell_type": "markdown",
   "id": "44746620-37f2-4a2b-9e7e-0ba70a221ab0",
   "metadata": {
    "incorrectly_encoded_metadata": "tags=[] jp-MarkdownHeadingCollapsed=true jp-MarkdownHeadingCollapsed=true",
    "tags": []
   },
   "source": [
    "# 2022-09-23 Decoder Testing"
   ]
  },
  {
   "cell_type": "code",
   "execution_count": null,
   "id": "25dafe9c-808f-4b46-ab71-e1002d0ec71e",
   "metadata": {},
   "outputs": [],
   "source": [
    "from pyphoplacecellanalysis.General.Pipeline.Stages.DisplayFunctions.DecoderPredictionError import plot_most_likely_position_comparsions, plot_1D_most_likely_position_comparsions\n",
    "from pyphocorehelpers.print_helpers import print_value_overview_only, print_keys_if_possible, debug_dump_object_member_shapes, safe_get_variable_shape\n",
    "from pyphoplacecellanalysis.Analysis.Decoder.reconstruction import BayesianPlacemapPositionDecoder, Zhang_Two_Step\n",
    "from pyphocorehelpers.indexing_helpers import BinningInfo, compute_spanning_bins, get_bin_centers, get_bin_edges, debug_print_1D_bin_infos, interleave_elements, build_spanning_grid_matrix\n",
    "from pyphocorehelpers.indexing_helpers import build_spanning_grid_matrix\n",
    "# from pyphoplacecellanalysis.Pho2D.PyQtPlots.Extensions.pyqtgraph_helpers import stacked_epoch_basic_setup\n",
    "\n",
    "active_computation_config = curr_active_pipeline.active_configs[long_epoch_name].computation_config\n",
    "active_pf_1D = long_results.pf1D\n",
    "\n",
    "# active_computation_config.computation_config.pf_params"
   ]
  },
  {
   "cell_type": "code",
   "execution_count": null,
   "id": "94fd5e40-61fc-4e15-9390-5d449a85792b",
   "metadata": {},
   "outputs": [],
   "source": [
    "%pdb on\n",
    "## Build the new decoder with custom params:\n",
    "new_decoder_pf_params = deepcopy(active_computation_config.pf_params) # should be a PlacefieldComputationParameters\n",
    "# override some settings before computation:\n",
    "new_decoder_pf_params.time_bin_size = time_bin_size\n",
    "\n",
    "## 1D Decoder\n",
    "new_decoder_pf1D = active_pf_1D\n",
    "new_1D_decoder_spikes_df = new_decoder_pf1D.filtered_spikes_df.copy()\n",
    "# new_1D_decoder_spikes_df = new_1D_decoder_spikes_df.spikes.add_binned_time_column(manual_time_window_edges, manual_time_window_edges_binning_info, debug_print=False)\n",
    "# new_1D_decoder = BayesianPlacemapPositionDecoder(new_decoder_pf_params.time_bin_size, new_decoder_pf1D, new_1D_decoder_spikes_df, manual_time_window_edges=manual_time_window_edges, manual_time_window_edges_binning_info=manual_time_window_edges_binning_info, debug_print=False)\n",
    "new_1D_decoder = BayesianPlacemapPositionDecoder(new_decoder_pf_params.time_bin_size, new_decoder_pf1D, new_1D_decoder_spikes_df, debug_print=False)\n",
    "new_1D_decoder.compute_all() #  --> n = self.\n",
    "\n",
    "# long_results['pf1D_Decoder'] = BayesianPlacemapPositionDecoder(new_decoder_pf_params.time_bin_size, new_decoder_pf1D, new_decoder_pf1D.filtered_spikes_df.copy(), debug_print=False)\n",
    "# long_results['pf1D_Decoder'].compute_all() #  --> n = self.\n",
    "\n",
    "print(f'done!')\n",
    "\n",
    "# ## Custom Manual 2D Decoder:\n",
    "# new_decoder_pf2D = active_pf_2D # \n",
    "# new_decoder_spikes_df = new_decoder_pf2D.filtered_spikes_df.copy()\n",
    "# new_decoder_spikes_df = new_decoder_spikes_df.spikes.add_binned_time_column(manual_time_window_edges, manual_time_window_edges_binning_info, debug_print=False)\n",
    "# new_2D_decoder = BayesianPlacemapPositionDecoder(new_decoder_pf_params.time_bin_size, new_decoder_pf2D, new_decoder_spikes_df, manual_time_window_edges=manual_time_window_edges, manual_time_window_edges_binning_info=manual_time_window_edges_binning_info, debug_print=False)\n",
    "# new_2D_decoder.compute_all() #  --> n = self."
   ]
  },
  {
   "cell_type": "code",
   "execution_count": null,
   "id": "4d843e08-3ff9-4168-8431-8182dd8f750c",
   "metadata": {},
   "outputs": [],
   "source": [
    "# new_1D_decoder.p_x_given_n\n",
    "new_1D_decoder.most_likely_positions"
   ]
  },
  {
   "cell_type": "code",
   "execution_count": null,
   "id": "53269045-1f0f-44d3-aaac-9a825261bc5f",
   "metadata": {},
   "outputs": [],
   "source": [
    "long_one_step_decoder_1D.p_x_given_n"
   ]
  },
  {
   "cell_type": "code",
   "execution_count": null,
   "id": "093c42e4-b5a9-4e8d-bc76-ac4c41bbaa0a",
   "metadata": {},
   "outputs": [],
   "source": [
    "global_results.pf2D_Decoder.time_window_edges.shape # (62912,)"
   ]
  },
  {
   "cell_type": "code",
   "execution_count": null,
   "id": "68ec533c-311e-482a-beb6-2a4d751f7a64",
   "metadata": {},
   "outputs": [],
   "source": [
    "curr_active_pipeline.sess.spikes_df"
   ]
  },
  {
   "cell_type": "code",
   "execution_count": null,
   "id": "1ac5f589-e2f2-4349-bf29-7495eb0bed58",
   "metadata": {},
   "outputs": [],
   "source": [
    "global_results.pf2D_Decoder.spikes_df.binned_time"
   ]
  },
  {
   "cell_type": "code",
   "execution_count": null,
   "id": "d775893e-3217-4f39-b188-3f302d6c4b90",
   "metadata": {},
   "outputs": [],
   "source": [
    "from pyphoplacecellanalysis.General.Pipeline.Stages.ComputationFunctions.MultiContextComputationFunctions.MultiContextComputationFunctions import compute_relative_entropy_divergence_overlap\n",
    "\n",
    "relative_entropy_overlap_dict, relative_entropy_overlap_scalars_df = compute_relative_entropy_divergence_overlap(long_results, short_results, debug_print=False)\n",
    "relative_entropy_overlap_scalars_df\n",
    "\n",
    "aclu_keys = [k for k,v in relative_entropy_overlap_dict.items() if v is not None]\n",
    "# len(aclu_keys) # 101\n",
    "short_long_rel_entr_curves = np.vstack([v['short_long_rel_entr_curve'] for k,v in relative_entropy_overlap_dict.items() if v is not None])\n",
    "short_long_rel_entr_curves # .shape # (101, 63)"
   ]
  },
  {
   "cell_type": "markdown",
   "id": "49c95b1d-2a47-4e3c-b8ee-d439198e9a7d",
   "metadata": {
    "incorrectly_encoded_metadata": "jp-MarkdownHeadingCollapsed=true tags=[] jp-MarkdownHeadingCollapsed=true"
   },
   "source": [
    "## `active_pf_nD`, `active_pf_nD_dt` visualizations"
   ]
  },
  {
   "cell_type": "code",
   "execution_count": null,
   "id": "64faa259-d3fa-4df0-8f65-d3fc20132314",
   "metadata": {},
   "outputs": [],
   "source": [
    "from pyphoplacecellanalysis.Pho2D.PyQtPlots.TimeSynchronizedPlotters.TimeSynchronizedOccupancyPlotter import TimeSynchronizedOccupancyPlotter\n",
    "\n",
    "curr_sync_occupancy_plotter = TimeSynchronizedOccupancyPlotter(active_pf_2D_dt)\n",
    "curr_sync_occupancy_plotter.show()"
   ]
  },
  {
   "cell_type": "code",
   "execution_count": null,
   "id": "cab755fe-3b7a-4797-bafd-d33d666c84b3",
   "metadata": {},
   "outputs": [],
   "source": [
    "active_pf_1D_dt.plot_ratemaps_1D(**({'subplots': (None, 9), 'resolution_multiplier': 1.0, 'enable_spike_overlay': False}));"
   ]
  },
  {
   "cell_type": "code",
   "execution_count": null,
   "id": "27682783-c1f0-487b-abda-231d0faf7de7",
   "metadata": {},
   "outputs": [],
   "source": [
    "active_pf_1D.plot_ratemaps_1D(**({'subplots': (None, 9), 'resolution_multiplier': 1.0, 'enable_spike_overlay': False}));"
   ]
  },
  {
   "cell_type": "code",
   "execution_count": null,
   "id": "bf582372-8835-4cad-ba36-6478441d195d",
   "metadata": {},
   "outputs": [],
   "source": [
    "active_pf_2D_dt.update(t=3000000.0)"
   ]
  },
  {
   "cell_type": "code",
   "execution_count": null,
   "id": "8273f9b8-5e95-4713-97ca-02cc5843644d",
   "metadata": {},
   "outputs": [],
   "source": [
    "active_pf_2D_dt.plot_ratemaps_2D(**({'subplots': (None, 9), 'resolution_multiplier': 1.0, 'enable_spike_overlay': False}));"
   ]
  },
  {
   "cell_type": "code",
   "execution_count": null,
   "id": "f4ef9219-087b-43df-a56f-d640385b9374",
   "metadata": {},
   "outputs": [],
   "source": [
    "active_pf_2D.plot_ratemaps_2D(**({'subplots': (None, 9), 'resolution_multiplier': 1.0, 'enable_spike_overlay': False}));"
   ]
  },
  {
   "cell_type": "code",
   "execution_count": null,
   "id": "ec0e0852-84c1-4e02-bae8-6e59d079c122",
   "metadata": {},
   "outputs": [],
   "source": [
    "active_pf_2D_dt.plot_ratemaps_2D(**({'subplots': (None, 9), 'resolution_multiplier': 1.0, 'enable_spike_overlay': False}))"
   ]
  },
  {
   "cell_type": "code",
   "execution_count": null,
   "id": "00ba5ca1-5263-4ed6-b7fa-ea1cba869715",
   "metadata": {},
   "outputs": [],
   "source": [
    "active_pf_2D.plot_ratemaps_2D(**({'subplots': (None, 9), 'resolution_multiplier': 1.0, 'enable_spike_overlay': False}))"
   ]
  },
  {
   "cell_type": "markdown",
   "id": "6d633f44-df72-4e3c-a1c2-4272558f508d",
   "metadata": {
    "incorrectly_encoded_metadata": "jp-MarkdownHeadingCollapsed=true",
    "tags": []
   },
   "source": [
    "## Laps and `stacked_epoch_slices_view`"
   ]
  },
  {
   "cell_type": "code",
   "execution_count": 5,
   "id": "0a571409-905a-4107-8978-fe77e5c1632f",
   "metadata": {},
   "outputs": [
    {
     "name": "stderr",
     "output_type": "stream",
     "text": [
      "C:\\Users\\pho\\repos\\pyPhoPlaceCellAnalysis\\src\\pyphoplacecellanalysis\\Pho2D\\matplotlib\\CustomMatplotlibWidget.py:157: UserWarning: constrained_layout not applied because axes sizes collapsed to zero.  Try making figure larger or axes decorations smaller.\n",
      "  self.ui.canvas.draw()\n",
      "C:\\Users\\pho\\AppData\\Local\\pypoetry\\Cache\\virtualenvs\\spike3d-pZq3eobA-py3.9\\lib\\site-packages\\ipykernel\\eventloops.py:128: UserWarning: constrained_layout not applied because axes sizes collapsed to zero.  Try making figure larger or axes decorations smaller.\n",
      "  el.exec() if hasattr(el, 'exec') else el.exec_()\n"
     ]
    }
   ],
   "source": [
    "from pyphoplacecellanalysis.GUI.PyVista.InteractivePlotter.Mixins.LapsVisualizationMixin import LapsVisualizationMixin\n",
    "# from pyphoplacecellanalysis.Pho2D.stacked_epoch_slices import stacked_epoch_slices_view, stacked_epoch_slices_view_viewbox # pyqtgraph versions (don't work)\n",
    "from pyphoplacecellanalysis.Pho2D.stacked_epoch_slices import stacked_epoch_slices_matplotlib_build_view, stacked_epoch_slices_matplotlib_build_insets_view\n",
    "\n",
    "sess = curr_active_pipeline.sess\n",
    "curr_position_df, lap_specific_position_dfs = LapsVisualizationMixin._compute_laps_specific_position_dfs(sess)\n",
    "lap_specific_position_dfs = [curr_position_df.groupby('lap').get_group(i)[['t','x','y','lin_pos']] for i in sess.laps.lap_id] # dataframes split for each ID:\n",
    "laps_position_times_list = [np.squeeze(lap_pos_df[['t']].to_numpy()) for lap_pos_df in lap_specific_position_dfs]\n",
    "laps_position_traces_list = [lap_pos_df[['x','y']].to_numpy().T for lap_pos_df in lap_specific_position_dfs]\n",
    "\n",
    "## Build Epochs:\n",
    "epochs = sess.laps.to_dataframe()\n",
    "epoch_slices = epochs[['start', 'stop']].to_numpy()\n",
    "epoch_description_list = [f'lap {epoch_tuple.lap_id} (maze: {epoch_tuple.maze_id}, direction: {epoch_tuple.lap_dir})' for epoch_tuple in epochs[['lap_id','maze_id','lap_dir']].itertuples()]\n",
    "# print(f'epoch_description_list: {epoch_description_list}') # epoch_descriptions: ['lap 41 (maze: 2, direction: 1)', 'lap 42 (maze: 2, direction: 0)', ..., 'lap 79 (maze: 2, direction: 1)']\n",
    "\n",
    "stacked_epoch_slices_view_laps_containers = stacked_epoch_slices_matplotlib_build_view(epoch_slices, laps_position_times_list, laps_position_traces_list, epoch_description_list) # name='stacked_epoch_slices_view_laps'\n",
    "# params, plots_data, plots, ui = stacked_epoch_slices_view_laps_containers"
   ]
  },
  {
   "cell_type": "code",
   "execution_count": null,
   "id": "67dff39a-2af8-48cb-9158-78dd8377569e",
   "metadata": {},
   "outputs": [],
   "source": [
    "from neuropy.utils.matplotlib_helpers import plot_overlapping_epoch_analysis_diagnoser\n",
    "\n",
    "fig, out_axes_list = plot_overlapping_epoch_analysis_diagnoser(sess.position, curr_active_pipeline.sess.laps.as_epoch_obj())\n",
    "        "
   ]
  },
  {
   "cell_type": "code",
   "execution_count": null,
   "id": "e4bbf355-7ec0-4bd4-9ea8-5a5e17953ed6",
   "metadata": {},
   "outputs": [],
   "source": [
    "out_axes_list"
   ]
  },
  {
   "cell_type": "markdown",
   "id": "05348578-ac0c-4da1-a9c9-36794e5997c8",
   "metadata": {
    "incorrectly_encoded_metadata": "tags=[] jp-MarkdownHeadingCollapsed=true tags=[] jp-MarkdownHeadingCollapsed=true tags=[] jp-MarkdownHeadingCollapsed=true"
   },
   "source": [
    "# `_display_short_long_pf1D_comparison` and `_display_short_long_pf1D_scalar_overlap_comparison`"
   ]
  },
  {
   "cell_type": "code",
   "execution_count": null,
   "id": "28739947-375a-4c68-95fa-ccc54eb9824a",
   "metadata": {},
   "outputs": [],
   "source": [
    "active_identifying_session_ctx = curr_active_pipeline.sess.get_context() # 'bapun_RatN_Day4_2019-10-15_11-30-06'\n",
    "\n",
    "long_single_cell_pfmap_processing_fn = None\n",
    "short_single_cell_pfmap_processing_fn = None\n",
    "\n",
    "# long_single_cell_pfmap_processing_fn = lambda i, aclu, pfmap: 0.5 * pfmap # flip over the y-axis\n",
    "# short_single_cell_pfmap_processing_fn = lambda i, aclu, pfmap: -0.5 * pfmap # flip over the y-axis\n",
    "\n",
    "# pad = 1\n",
    "# long_single_cell_pfmap_processing_fn = lambda i, aclu, pfmap: (0.5 * pfmap) + (0.5*pad) # shift the baseline up by half\n",
    "# short_single_cell_pfmap_processing_fn = lambda i, aclu, pfmap: (-0.5 * pfmap * pad) + (0.5*pad) # flip over the y-axis, shift the baseline down by half\n",
    "\n",
    "# pad = 1\n",
    "# long_single_cell_pfmap_processing_fn = lambda i, aclu, pfmap: (0.5 * pfmap * pad) + (0.5*pad) # shift the baseline up by half\n",
    "# short_single_cell_pfmap_processing_fn = lambda i, aclu, pfmap: (0.5 * pfmap * pad) + (0.5*pad) # flip over the y-axis, shift the baseline down by half\n",
    "# long_single_cell_pfmap_processing_fn = lambda i, aclu, pfmap: (0.5 * pfmap * pad) # shift the baseline up by half\n",
    "# short_single_cell_pfmap_processing_fn = lambda i, aclu, pfmap: (0.5 * pfmap * pad) # flip over the y-axis, shift the baseline down by half\n",
    "\n",
    "\n",
    "# long_single_cell_pfmap_processing_fn = lambda i, aclu, pfmap: (1.0 * pfmap * pad) # shift the baseline up by half\n",
    "# short_single_cell_pfmap_processing_fn = lambda i, aclu, pfmap: (-1.0 * pfmap * pad) + (1.0*pad) # this does not work and results in short being fully filled. I think this is because the fill_between gets reversed since everything is below baseline\n",
    "\n",
    "\n",
    "out = curr_active_pipeline.display('_display_short_long_pf1D_comparison', active_identifying_session_ctx, single_figure=True, debug_print=False, fignum='Short v Long pf1D Comparison',\n",
    "                                   long_kwargs={'sortby': sort_idx, 'single_cell_pfmap_processing_fn': long_single_cell_pfmap_processing_fn},\n",
    "                                   short_kwargs={'sortby': sort_idx, 'single_cell_pfmap_processing_fn': short_single_cell_pfmap_processing_fn, 'curve_hatch_style': {'hatch':'///', 'edgecolor':'k'}},\n",
    "                                  )\n",
    "ax = out.axes[0]"
   ]
  },
  {
   "cell_type": "code",
   "execution_count": null,
   "id": "065cc02d-e42c-4995-9b8b-2c8d86b6dda3",
   "metadata": {},
   "outputs": [],
   "source": [
    "widget, fig, ax = active_2d_plot.add_new_matplotlib_render_plot_widget(name='RelativeEntropy')\n",
    "\n",
    "## plot the `post_update_times`, and `flat_relative_entropy_results`\n",
    "_temp_out = ax.plot(post_update_times, flat_relative_entropy_results)\n",
    "\n",
    "# Perform Initial (one-time) update from source -> controlled:\n",
    "# This syncs the new widget up to the full data window (the entire session), not the active window:\n",
    "widget.on_window_changed(active_2d_plot.spikes_window.total_data_start_time, active_2d_plot.spikes_window.total_data_end_time)\n",
    "widget.draw()"
   ]
  },
  {
   "cell_type": "code",
   "execution_count": null,
   "id": "e882c022-7426-4143-bade-93ee7802d1b1",
   "metadata": {},
   "outputs": [],
   "source": [
    "## Overlap Scalar Comparisons: plots a comparison of a specific type of scalar values for all cells\n",
    "from pyphoplacecellanalysis.General.Pipeline.Stages.DisplayFunctions.MultiContextComparingDisplayFunctions.MultiContextComparingDisplayFunctions import PlacefieldOverlapMetricMode\n",
    "\n",
    "active_identifying_session_ctx = curr_active_pipeline.sess.get_context() # 'bapun_RatN_Day4_2019-10-15_11-30-06'\n",
    "\n",
    "# overlap_metric_mode = PlacefieldOverlapMetricMode.POLY\n",
    "# overlap_metric_mode = PlacefieldOverlapMetricMode.PRODUCT\n",
    "# overlap_metric_mode = PlacefieldOverlapMetricMode.CONVOLUTION\n",
    "overlap_metric_mode = PlacefieldOverlapMetricMode.REL_ENTROPY\n",
    "\n",
    "out = curr_active_pipeline.display('_display_short_long_pf1D_scalar_overlap_comparison', active_identifying_session_ctx, overlap_metric_mode=overlap_metric_mode, variant_name='_area')"
   ]
  },
  {
   "cell_type": "code",
   "execution_count": null,
   "id": "2ff7d434-25c8-425e-8578-00ba8f333588",
   "metadata": {
    "tags": [
     "plot",
     "visualization"
    ]
   },
   "outputs": [],
   "source": [
    "from pyphoplacecellanalysis.Pho2D.PyQtPlots.TimeSynchronizedPlotters.TimeSynchronizedOccupancyPlotter import TimeSynchronizedOccupancyPlotter\n",
    "from pyphoplacecellanalysis.Pho2D.PyQtPlots.TimeSynchronizedPlotters.TimeSynchronizedPlacefieldsPlotter import TimeSynchronizedPlacefieldsPlotter\n",
    "\n",
    "curr_placefields_plotter = TimeSynchronizedPlacefieldsPlotter(active_pf_2D_dt)\n",
    "curr_placefields_plotter.show()"
   ]
  },
  {
   "cell_type": "markdown",
   "id": "53cd05b7-ade9-420e-8b14-3e71474431f5",
   "metadata": {
    "incorrectly_encoded_metadata": "jp-MarkdownHeadingCollapsed=true pycharm={\"name\": \"#%%\\n\"} tags=[] jp-MarkdownHeadingCollapsed=true jp-MarkdownHeadingCollapsed=true tags=[] jp-MarkdownHeadingCollapsed=true jp-MarkdownHeadingCollapsed=true tags=[] jp-MarkdownHeadingCollapsed=true tags=[] jp-MarkdownHeadingCollapsed=true"
   },
   "source": [
    "## ❌🆖 BROKEN Individual Plotting Outputs:"
   ]
  },
  {
   "cell_type": "markdown",
   "id": "9655181f-dc58-470a-b496-0fc9cd3c0883",
   "metadata": {
    "tags": []
   },
   "source": [
    "### Common Config"
   ]
  },
  {
   "cell_type": "code",
   "execution_count": null,
   "id": "ad892ba6-4657-4370-957c-d2926c32826c",
   "metadata": {
    "tags": []
   },
   "outputs": [],
   "source": [
    "## MATPLOTLIB Imports:\n",
    "import matplotlib\n",
    "# configure backend here\n",
    "matplotlib.use('Qt5Agg')\n",
    "# backend_qt5agg\n",
    "# matplotlib.use('AGG') # non-interactive backend\n",
    "## 2022-08-16 - Surprisingly this works to make the matplotlib figures render only to .png file, not appear on the screen!\n",
    "import matplotlib.pyplot as plt\n",
    "import matplotlib as mpl\n",
    "from matplotlib.backends import backend_pdf\n",
    "\n",
    "from neuropy.utils.matplotlib_helpers import enumTuningMap2DPlotVariables # for getting the variant name from the dict\n",
    "_bak_rcParams = mpl.rcParams.copy()\n",
    "mpl.rcParams['toolbar'] = 'None' # disable toolbars\n",
    "\n",
    "from pyphoplacecellanalysis.General.Mixins.ExportHelpers import create_daily_programmatic_display_function_testing_folder_if_needed, build_pdf_metadata_from_display_context, programmatic_display_to_PDF\n",
    "\n",
    "# from pyphocorehelpers.plotting.figure_management import PhoActiveFigureManager2D, capture_new_figures_decorator\n",
    "# fig_man = PhoActiveFigureManager2D(name=f'fig_man') # Initialize a new figure manager\n",
    "\n",
    "active_identifying_session_ctx = curr_active_pipeline.sess.get_context() # 'bapun_RatN_Day4_2019-10-15_11-30-06'"
   ]
  },
  {
   "cell_type": "code",
   "execution_count": null,
   "id": "260ea375",
   "metadata": {
    "lines_to_next_cell": 2,
    "tags": []
   },
   "outputs": [],
   "source": []
  },
  {
   "cell_type": "markdown",
   "id": "44dd1ae1-a5cd-4a03-bc11-dbb77dc161b8",
   "metadata": {
    "incorrectly_encoded_metadata": "jp-MarkdownHeadingCollapsed=true",
    "tags": []
   },
   "source": [
    "### Single (Session, Filter) Context Plotting:"
   ]
  },
  {
   "cell_type": "markdown",
   "id": "774fe569-bbb0-4112-816d-bdbcba78dab5",
   "metadata": {
    "tags": []
   },
   "source": [
    "#### Utility:"
   ]
  },
  {
   "cell_type": "code",
   "execution_count": null,
   "id": "cc39ef8c-731a-47e5-9471-8f64d9e5511d",
   "metadata": {
    "scrolled": true
   },
   "outputs": [],
   "source": [
    "# Reload display functions:\n",
    "curr_active_pipeline.reload_default_display_functions()\n",
    "curr_active_pipeline.registered_display_function_names # ['_display_1d_placefield_validations', '_display_2d_placefield_result_plot_ratemaps_2D', '_display_2d_placefield_result_plot_raw', '_display_normal', '_display_placemaps_pyqtplot_2D', '_display_decoder_result', '_display_plot_most_likely_position_comparisons', '_display_two_step_decoder_prediction_error_2D', '_display_two_step_decoder_prediction_error_animated_2D', '_display_spike_rasters_pyqtplot_2D', '_display_spike_rasters_pyqtplot_3D', '_display_spike_rasters_pyqtplot_3D_with_2D_controls', '_display_spike_rasters_vedo_3D', '_display_spike_rasters_vedo_3D_with_2D_controls', '_display_spike_rasters_window', '_display_speed_vs_PFoverlapDensity_plots', '_display_3d_image_plotter', '_display_3d_interactive_custom_data_explorer', '_display_3d_interactive_spike_and_behavior_browser', '_display_3d_interactive_tuning_curves_plotter']\n",
    "print(curr_active_pipeline.registered_display_function_names)"
   ]
  },
  {
   "cell_type": "code",
   "execution_count": null,
   "id": "6f563259-19f3-4d85-bb53-ae88e389cde9",
   "metadata": {},
   "outputs": [],
   "source": [
    "%matplotlib --list \n",
    "# Available matplotlib backends: ['tk', 'gtk', 'gtk3', 'gtk4', 'wx', 'qt4', 'qt5', 'qt6', 'qt', 'osx', 'nbagg', 'notebook', 'agg', 'svg', 'pdf', 'ps', 'inline', 'ipympl', 'widget']"
   ]
  },
  {
   "cell_type": "code",
   "execution_count": null,
   "id": "e3ed2748-0817-42dc-93b8-6648d3c16caf",
   "metadata": {},
   "outputs": [],
   "source": [
    "%matplotlib qt\n",
    "## NOTE THAT ONCE THIS IS SET TO qt, it cannot be undone!"
   ]
  },
  {
   "cell_type": "markdown",
   "id": "4a062f0e-dfdf-4f95-a412-7cb8bbafb7c0",
   "metadata": {
    "incorrectly_encoded_metadata": "jp-MarkdownHeadingCollapsed=true tags=[] jp-MarkdownHeadingCollapsed=true"
   },
   "source": [
    "### Systematic Display Function Testing"
   ]
  },
  {
   "cell_type": "markdown",
   "id": "7811d710-3ada-437f-827d-0eeacbcbe16b",
   "metadata": {
    "tags": []
   },
   "source": [
    "#### Matplotlib-based plots:"
   ]
  },
  {
   "cell_type": "code",
   "execution_count": null,
   "id": "de4d9f10-e1ca-485d-af0f-4cd9a40562ae",
   "metadata": {},
   "outputs": [],
   "source": [
    "import matplotlib\n",
    "# matplotlib.use('AGG') # non-interactive backend\n",
    "# %matplotlib -l\n",
    "\n",
    "matplotlib.use('Qt5Agg') # non-interactive backend\n",
    "## 2022-08-16 - Surprisingly this works to make the matplotlib figures render only to .png file, not appear on the screen!\n",
    "\n",
    "curr_active_pipeline.filtered_session_names # ['maze', 'sprinkle']\n",
    "active_config_name = 'maze'\n",
    "\n",
    "active_display_to_pdf_fn = programmatic_display_to_PDF"
   ]
  },
  {
   "cell_type": "code",
   "execution_count": null,
   "id": "0217fa1d-86bd-4a3f-9413-3ae52901aef9",
   "metadata": {
    "scrolled": true
   },
   "outputs": [],
   "source": [
    "%%capture\n",
    "active_display_to_pdf_fn(curr_active_pipeline, curr_display_function_name='_display_1d_placefield_validations') # 🟢✅ Now seems to be working and saving to PDF!! Still using matplotlib.use('Qt5Agg') mode and plots still appear. Moderate visual improvements can still be made (titles overlap and stuff). Works with %%capture\n",
    "\n",
    "# active_display_to_pdf_fn(curr_active_pipeline, curr_display_function_name='_display_1d_placefield_validations', filter_name=active_config_name) # 🟢✅ Now seems to be working and saving to PDF!! Still using matplotlib.use('Qt5Agg') mode and plots still appear. Moderate visual improvements can still be made (titles overlap and stuff). Works with %%capture"
   ]
  },
  {
   "cell_type": "code",
   "execution_count": null,
   "id": "b0d9db48-c37b-4e67-8486-ddc1b0c7fba0",
   "metadata": {
    "scrolled": true
   },
   "outputs": [],
   "source": [
    "# %%capture\n",
    "active_display_to_pdf_fn(curr_active_pipeline, curr_display_function_name='_display_2d_placefield_result_plot_raw', debug_print=False) # 🔇🆖❌ IndexError: index 80 is out of bounds for GridSpec with size 80"
   ]
  },
  {
   "cell_type": "code",
   "execution_count": null,
   "id": "24c52598-3352-4b11-bb72-9dea8e55e527",
   "metadata": {
    "scrolled": true
   },
   "outputs": [],
   "source": [
    "# %%capture\n",
    "active_display_to_pdf_fn(curr_active_pipeline, curr_display_function_name='_display_1d_placefields', debug_print=False) # 🟢✅ Now seems to be working and saving to PDF!! Still using matplotlib.use('Qt5Agg') mode and plots still appear."
   ]
  },
  {
   "cell_type": "code",
   "execution_count": null,
   "id": "282bf408-5a13-47a3-a3c9-5c3d55454b4a",
   "metadata": {
    "tags": []
   },
   "outputs": [],
   "source": [
    "active_display_to_pdf_fn(curr_active_pipeline, curr_display_function_name='_display_1d_placefields', debug_print=True)"
   ]
  },
  {
   "cell_type": "code",
   "execution_count": null,
   "id": "bca4c701-a343-44c4-a2d7-68d6b975b6a6",
   "metadata": {
    "tags": []
   },
   "outputs": [],
   "source": [
    "active_display_to_pdf_fn(curr_active_pipeline, curr_display_function_name='_display_normal', debug_print=True) # 🐞❌ TypeError: unhashable type: 'list'"
   ]
  },
  {
   "cell_type": "code",
   "execution_count": null,
   "id": "e7038ae4-17ce-491c-a1d3-e934537ed550",
   "metadata": {
    "tags": []
   },
   "outputs": [],
   "source": [
    "# %%capture\n",
    "active_display_to_pdf_fn(curr_active_pipeline, curr_display_function_name='_display_2d_placefield_result_plot_ratemaps_2D') #  🟢✅ Now seems to be working and saving to PDF!! Still using matplotlib.use('Qt5Agg') mode and plots still appear."
   ]
  },
  {
   "cell_type": "code",
   "execution_count": null,
   "id": "c2f8696f-45c6-4870-93f6-713246d455fe",
   "metadata": {
    "scrolled": true
   },
   "outputs": [],
   "source": [
    "%%capture\n",
    "active_display_to_pdf_fn(curr_active_pipeline, curr_display_function_name='_display_normal', filter_name=active_config_name) # 🐞❌ TypeError: unhashable type: 'list'"
   ]
  },
  {
   "cell_type": "markdown",
   "id": "1b16c86e-5dc1-4918-a115-7ae99eae1084",
   "metadata": {
    "incorrectly_encoded_metadata": "jp-MarkdownHeadingCollapsed=true",
    "tags": []
   },
   "source": [
    "### 🐞👁️‍🗨️🔜 TODO: FINISH THIS UP AND FIGURE OUT WHATEVER THE HELL I'M DOING HERE"
   ]
  },
  {
   "cell_type": "code",
   "execution_count": null,
   "id": "0b62efd2-f8f3-4dc7-baa9-67fcbdf3f983",
   "metadata": {
    "scrolled": true
   },
   "outputs": [],
   "source": [
    "curr_display_function_name = '_display_2d_placefield_result_plot_ratemaps_2D'\n",
    "built_pdf_metadata, curr_pdf_save_path = _build_pdf_pages_output_info(curr_display_function_name)\n",
    "out_fig_list = []\n",
    "active_identifying_display_ctx = active_identifying_filtered_session_ctx.adding_context('display_fn', display_fn_name=curr_display_function_name)\n",
    "figure_format_config = _get_curr_figure_format_config() # Fetch the context from the GUI\n",
    "figure_format_config['enable_saving_to_disk'] = False # don't use the in-built figure export/saving to disk functionality as we want to wrap the output figure with the Pdf saving, not write to a .png\n",
    "with backend_pdf.PdfPages(curr_pdf_save_path, keep_empty=False, metadata=built_pdf_metadata) as pdf:\n",
    "    ## TypeError: neuropy.utils.debug_helpers.safely_accepts_kwargs.<locals>._safe_kwargs_fn() got multiple values for keyword argument 'computation_config'\n",
    "    for filter_name in curr_active_pipeline.filtered_session_names:\n",
    "        print(f'filter_name: {filter_name}')\n",
    "        active_identifying_ctx = active_identifying_display_ctx.adding_context('plot_variable', variable_name=enumTuningMap2DPlotVariables.SPIKES_MAPS)\n",
    "        active_identifying_ctx_string = active_identifying_ctx.get_description(separator='|') # Get final discription string\n",
    "        out_fig_list.extend(curr_active_pipeline.display(curr_display_function_name, filter_name, plot_variable=enumTuningMap2DPlotVariables.SPIKES_MAPS, fignum=active_identifying_ctx_string, **figure_format_config)) # works!\n",
    "        active_identifying_ctx = active_identifying_display_ctx.adding_context('plot_variable', variable_name=enumTuningMap2DPlotVariables.TUNING_MAPS)\n",
    "        active_identifying_ctx_string = active_identifying_ctx.get_description(separator='|') # Get final discription string\n",
    "        out_fig_list.extend(curr_active_pipeline.display(curr_display_function_name, filter_name, plot_variable=enumTuningMap2DPlotVariables.TUNING_MAPS, fignum=active_identifying_ctx_string, **figure_format_config))\n",
    "        for a_fig in out_fig_list:\n",
    "            pdf.savefig(a_fig, transparent=True)\n",
    "            \n",
    "# 🐞🔇🆖❌ NameError: name '_build_pdf_pages_output_info' is not defined"
   ]
  },
  {
   "cell_type": "code",
   "execution_count": null,
   "id": "ee9fad5b-4871-46a6-b4a4-b50480bca489",
   "metadata": {
    "scrolled": true
   },
   "outputs": [],
   "source": [
    "%%capture\n",
    "curr_display_function_name = '_display_decoder_result'\n",
    "built_pdf_metadata, curr_pdf_save_path = _build_pdf_pages_output_info(curr_display_function_name)\n",
    "with backend_pdf.PdfPages(curr_pdf_save_path, keep_empty=False, metadata=built_pdf_metadata) as pdf:\n",
    "    plots = curr_active_pipeline.display(curr_display_function_name, filter_name)\n",
    "    print(plots)\n",
    "    # pdf.savefig(a_fig)\n",
    "    \n",
    "    \n",
    "# 🐞🔇🆖❌ NameError: name '_build_pdf_pages_output_info' is not defined"
   ]
  },
  {
   "cell_type": "markdown",
   "id": "d11a9839-3fd4-4fd8-988c-61144c84051a",
   "metadata": {
    "tags": []
   },
   "source": [
    "#### PyQtGraph-based Pf2D Viewers:"
   ]
  },
  {
   "cell_type": "code",
   "execution_count": null,
   "id": "68fa3058-24c9-49e1-af41-cad50df2d829",
   "metadata": {},
   "outputs": [],
   "source": [
    "# 🟢✅ Nearly Completely Working - Needs subplot labels changed to match standardized matplotlib version, needs color scheme set consistently to matplotlib version, needs colorbars removed\n",
    "from pyphoplacecellanalysis.GUI.PyQtPlot.BinnedImageRenderingWindow import BasicBinnedImageRenderingWindow, add_bin_ticks, build_binned_imageItem\n",
    "from neuropy.utils.matplotlib_helpers import _build_variable_max_value_label, enumTuningMap2DPlotMode, enumTuningMap2DPlotVariables, _determine_best_placefield_2D_layout, _scale_current_placefield_to_acceptable_range\n",
    "from pyphoplacecellanalysis.Pho2D.PyQtPlots.plot_placefields import display_all_pf_2D_pyqtgraph_binned_image_rendering\n",
    "\n",
    "# NOTE FILTER SPECIFIC: active_config_name and active_pf_2D depend on active_config_name\n",
    "\n",
    "## Get the figure_format_config from the figure_format_config widget:\n",
    "active_identifying_display_ctx = active_identifying_filtered_session_ctx.adding_context('display_fn', display_fn_name='display_all_pf_2D_pyqtgraph_binned_image_rendering')\n",
    "figure_format_config = _get_curr_figure_format_config() # Fetch the context from the GUI\n",
    "out_all_pf_2D_pyqtgraph_binned_image_fig = display_all_pf_2D_pyqtgraph_binned_image_rendering(active_pf_2D, figure_format_config)"
   ]
  },
  {
   "cell_type": "code",
   "execution_count": null,
   "id": "6cd7686d-b854-44bf-a6e3-fb7c338380b6",
   "metadata": {},
   "outputs": [],
   "source": [
    "out_all_pf_2D_pyqtgraph_binned_image_fig.setWindowTitle(f'{active_identifying_display_ctx.get_description()}')"
   ]
  },
  {
   "cell_type": "code",
   "execution_count": null,
   "id": "158ffab7-de5e-43af-8162-bff293df838b",
   "metadata": {},
   "outputs": [],
   "source": [
    "images = active_one_step_decoder.ratemap.normalized_tuning_curves\n",
    "images.shape # (66, 41, 63)"
   ]
  },
  {
   "cell_type": "code",
   "execution_count": null,
   "id": "1048f102-f9d2-4c2e-96d7-4d8eb820a7fe",
   "metadata": {},
   "outputs": [],
   "source": [
    "# 🟢🚧🟨 Almost Working - Needs subplot labels changed from Cell[i] to the appropriate standardized titles. Needs other minor refinements.\n",
    "# 🚧 pyqtplot_plot_image_array needs major improvements to achieve feature pairity with display_all_pf_2D_pyqtgraph_binned_image_rendering, so probably just use display_all_pf_2D_pyqtgraph_binned_image_rendering.  \n",
    "from pyphoplacecellanalysis.Pho2D.PyQtPlots.plot_placefields import pyqtplot_plot_image_array\n",
    "\n",
    "# Get the decoders from the computation result:       \n",
    "# Get flat list of images:\n",
    "images = active_one_step_decoder.ratemap.normalized_tuning_curves # (43, 63, 63)\n",
    "occupancy = active_one_step_decoder.ratemap.occupancy\n",
    "\n",
    "active_identifying_display_ctx = active_identifying_filtered_session_ctx.adding_context('display_fn', display_fn_name='pyqtplot_plot_image_array')\n",
    "figure_format_config = _get_curr_figure_format_config() # Fetch the context from the GUI\n",
    "## Get final discription string:\n",
    "active_identifying_ctx_string = active_identifying_display_ctx.get_description(separator='|')\n",
    "print(f'active_identifying_ctx_string: {active_identifying_ctx_string}')\n",
    "\n",
    "## Build the widget:\n",
    "app, parent_root_widget, root_render_widget, plot_array, img_item_array, other_components_array = pyqtplot_plot_image_array(active_one_step_decoder.xbin, active_one_step_decoder.ybin, images, occupancy, \n",
    "                                                                        app=None, parent_root_widget=None, root_render_widget=None, max_num_columns=8)\n",
    "parent_root_widget.show()\n",
    "if master_dock_win is not None:\n",
    "    # if there's an open master_dock_win, add this widget as a child dock\n",
    "    master_dock_win.add_display_dock(identifier=active_identifying_ctx_string, widget=parent_root_widget, dockIsClosable=True)"
   ]
  },
  {
   "cell_type": "markdown",
   "id": "9c4fc1d3-0100-4bf1-8a9e-1ea7203d2b9c",
   "metadata": {
    "tags": []
   },
   "source": [
    "#### Decoder Plots:"
   ]
  },
  {
   "cell_type": "code",
   "execution_count": null,
   "id": "23a1e343-5737-4435-be8b-369483624fa4",
   "metadata": {},
   "outputs": [],
   "source": [
    "# Must switch back to the interactive backend here for the interactive/animated decoder plots:\n",
    "matplotlib.use('Qt5Agg')\n",
    "# backend_qt5agg\n",
    "import matplotlib.pyplot as plt\n",
    "# plt.switch_backend('Qt5Agg')"
   ]
  },
  {
   "cell_type": "code",
   "execution_count": null,
   "id": "8180d131-f7a6-44f4-b63d-b1d3ef9bb409",
   "metadata": {},
   "outputs": [],
   "source": [
    "curr_active_pipeline.display('_display_two_step_decoder_prediction_error_animated_2D', active_config_name, variable_name='p_x_given_n')"
   ]
  },
  {
   "cell_type": "code",
   "execution_count": null,
   "id": "840af86d-030a-4ba5-973d-316e94c16a61",
   "metadata": {},
   "outputs": [],
   "source": [
    "# ## MATPLOTLIB Imports:\n",
    "# import matplotlib\n",
    "# # configure backend here\n",
    "# matplotlib.use('Qt5Agg')\n",
    "# import matplotlib.pyplot as plt\n",
    "# import matplotlib as mpl\n",
    "## This plot looks phenominal, and the slider works!\n",
    "curr_active_pipeline.display('_display_two_step_decoder_prediction_error_2D', active_config_name, variable_name='p_x_given_n') # NOW: TypeError: _temp_debug_two_step_plots_animated_imshow() missing 1 required positional argument: 'time_binned_position_df'"
   ]
  },
  {
   "cell_type": "code",
   "execution_count": null,
   "id": "cd163714-1838-4c8d-9796-dc3823b11f0f",
   "metadata": {},
   "outputs": [],
   "source": [
    "curr_active_pipeline.display('_display_two_step_decoder_prediction_error_2D', active_config_name, variable_name='p_x_given_n_and_x_prev')  # this one doesn't work!"
   ]
  },
  {
   "cell_type": "code",
   "execution_count": null,
   "id": "78308cc1-7dea-49aa-814a-d2784de14981",
   "metadata": {
    "lines_to_next_cell": 0
   },
   "outputs": [],
   "source": [
    "# Get the decoders from the computation result:\n",
    "# active_one_step_decoder = computation_result.computed_data['pf2D_Decoder']\n",
    "# active_two_step_decoder = computation_result.computed_data.get('pf2D_TwoStepDecoder', None)\n",
    "# active_measured_positions = computation_result.sess.position.to_dataframe()\n",
    "\n",
    "active_one_step_decoder # BayesianPlacemapPositionDecoder\n",
    "active_two_step_decoder\n",
    "\n",
    "## SAVE OUT THE RESULTS of the decoder:"
   ]
  },
  {
   "cell_type": "code",
   "execution_count": null,
   "id": "58d129b9-2885-4531-8e91-117a5c54e6a6",
   "metadata": {
    "lines_to_next_cell": 2
   },
   "outputs": [],
   "source": []
  },
  {
   "cell_type": "code",
   "execution_count": null,
   "id": "fd4cd691-4c3f-48d2-b5d3-150231fdba4e",
   "metadata": {},
   "outputs": [],
   "source": [
    "## PDF Output, NOTE this is single plot stuff: uses active_config_name\n",
    "from matplotlib.backends import backend_pdf\n",
    "from pyphoplacecellanalysis.General.Mixins.ExportHelpers import create_daily_programmatic_display_function_testing_folder_if_needed, build_pdf_metadata_from_display_context, programmatic_display_to_PDF"
   ]
  },
  {
   "cell_type": "code",
   "execution_count": null,
   "id": "0f2967bd-dcf4-495c-8341-ae00e2230590",
   "metadata": {},
   "outputs": [],
   "source": [
    "## 2022-10-04 Modern Programmatic PDF outputs:\n",
    "# programmatic_display_to_PDF(curr_active_pipeline, curr_display_function_name='_display_plot_decoded_epoch_slices',  debug_print=False)\n",
    "programmatic_display_to_PDF(curr_active_pipeline, curr_display_function_name='_display_plot_decoded_epoch_slices', filter_epochs='ripple', decoding_time_bin_size=0.02, debug_test_max_num_slices=128, debug_print=True)"
   ]
  },
  {
   "cell_type": "code",
   "execution_count": null,
   "id": "fcf583b3-0a6b-44be-90ac-ed8803bdd100",
   "metadata": {},
   "outputs": [],
   "source": [
    "programmatic_display_to_PDF(curr_active_pipeline, curr_display_function_name='_display_plot_decoded_epoch_slices', filter_epochs='laps', debug_test_max_num_slices=128, debug_print=False)"
   ]
  },
  {
   "cell_type": "code",
   "execution_count": null,
   "id": "2d5ca7b0",
   "metadata": {
    "collapsed": false,
    "jupyter": {
     "outputs_hidden": false
    }
   },
   "outputs": [],
   "source": [
    "### 2022-08-10: Plot animal positions on the computed posteriors:\n",
    "The process of plotting the animal position on the decoder plot needs to be refined. Currently it works by re-implementing \n",
    "🔜 NEXT STEP: TODO: Make a \"Datasource\" like approach perhaps to provide the actual animal position at each point in time?\n",
    "🐞🔜 BUG TODO: Noticed that for Bapun Day5 data, it looks like the current position point is being plotted incorrectly (it doesn't even move across the space much)"
   ]
  },
  {
   "cell_type": "code",
   "execution_count": null,
   "id": "0625d7d6-4d56-4231-9fbc-1dd51b525714",
   "metadata": {},
   "outputs": [],
   "source": [
    "from pyphoplacecellanalysis.Analysis.Decoder.reconstruction import ZhangReconstructionImplementation\n",
    "from neuropy.utils.mixins.binning_helpers import BinningContainer\n",
    "from pyphocorehelpers.indexing_helpers import build_pairwise_indicies\n",
    "\n",
    "global_epoch_name = curr_active_pipeline.active_completed_computation_result_names[-1] # 'maze'\n",
    "global_results = curr_active_pipeline.computation_results[global_epoch_name]['computed_data']\n",
    "sess =  curr_active_pipeline.computation_results[global_epoch_name].sess\n",
    "active_one_step_decoder_2D = curr_active_pipeline.computation_results[global_epoch_name].computed_data.get('pf2D_Decoder', None)\n",
    "active_two_step_decoder_2D = curr_active_pipeline.computation_results[global_epoch_name].computed_data.get('pf2D_TwoStepDecoder', None)\n",
    "active_extended_stats = curr_active_pipeline.computation_results[global_epoch_name].computed_data.get('extended_stats', None)\n",
    "active_firing_rate_trends = curr_active_pipeline.computation_results[global_epoch_name].computed_data.get('firing_rate_trends', None)\n",
    "time_bin_size_seconds, all_session_spikes, pf_included_spikes_only = active_firing_rate_trends['time_bin_size_seconds'], active_firing_rate_trends['all_session_spikes'], active_firing_rate_trends['pf_included_spikes_only']\n",
    "\n",
    "active_time_binning_container, active_time_window_edges, active_time_window_edges_binning_info, active_time_binned_unit_specific_binned_spike_rate, active_time_binned_unit_specific_binned_spike_counts = pf_included_spikes_only['time_binning_container'], pf_included_spikes_only['time_window_edges'], pf_included_spikes_only['time_window_edges_binning_info'], pf_included_spikes_only['time_binned_unit_specific_binned_spike_rate'], pf_included_spikes_only['time_binned_unit_specific_binned_spike_counts']\n",
    "\n",
    "ZhangReconstructionImplementation._validate_time_binned_spike_rate_df(active_time_binning_container.centers, active_time_binned_unit_specific_binned_spike_counts)"
   ]
  },
  {
   "cell_type": "code",
   "execution_count": null,
   "id": "87772009-fb19-44f0-828e-dfcc3c46a869",
   "metadata": {},
   "outputs": [],
   "source": [
    "active_one_step_decoder.p_x_given_n"
   ]
  },
  {
   "cell_type": "code",
   "execution_count": null,
   "id": "e3e970db-653e-48d6-b484-eb2a41df2af7",
   "metadata": {},
   "outputs": [],
   "source": [
    "## time_binned_unit_specific_binned_spike_rate mode:\n",
    "try:  \n",
    "    time_bins = active_firing_rate_trends.all_session_spikes.time_binning_container.centers # .shape # (4188,)\n",
    "    time_binned_unit_specific_binned_spike_rate_df = active_firing_rate_trends.all_session_spikes.time_binned_unit_specific_binned_spike_rate\n",
    "except KeyError:\n",
    "    time_bins, time_binned_unit_specific_binned_spike_rate_df = {}, {}\n",
    "\n",
    "ZhangReconstructionImplementation._validate_time_binned_spike_rate_df(time_bins, time_binned_unit_specific_binned_spike_rate_df)"
   ]
  },
  {
   "cell_type": "code",
   "execution_count": null,
   "id": "21afb753-1577-47b4-b0e7-75ed40136238",
   "metadata": {
    "lines_to_next_cell": 0
   },
   "outputs": [],
   "source": [
    "cum_time = active_time_binning_container.centers.cumsum()\n",
    "cum_spike_counts = time_binned_unit_specific_binned_spike_counts.cumsum(axis=0)\n",
    "cum_spike_counts\n",
    "\n",
    "cum_spike_rates = cum_spike_counts.astype('float').copy()\n",
    "cum_spike_rates = cum_spike_rates / cum_time[:,None] # not sure this is right: no this is wrong, as not all time (cummulative time) is spent in this bine\n",
    "cum_spike_rates"
   ]
  },
  {
   "cell_type": "code",
   "execution_count": null,
   "id": "e046f73d-57b8-4836-a953-7bdb62125ae8",
   "metadata": {},
   "outputs": [],
   "source": []
  },
  {
   "cell_type": "code",
   "execution_count": null,
   "id": "9547e07f-7107-4f32-a49b-f22cc5bd8553",
   "metadata": {},
   "outputs": [],
   "source": []
  },
  {
   "cell_type": "code",
   "execution_count": null,
   "id": "2519c589-4158-45dc-980e-6649d5944ad1",
   "metadata": {},
   "outputs": [],
   "source": [
    "cum_spike_rates.plot(x='index', y='2')"
   ]
  },
  {
   "cell_type": "markdown",
   "id": "ff70fc8b-1214-4902-bbb9-873e82b072b4",
   "metadata": {
    "incorrectly_encoded_metadata": "pycharm={\"name\": \"#%%\\n\"} tags=[] jp-MarkdownHeadingCollapsed=true"
   },
   "source": [
    "### Testing `ZhangReconstructionImplementation.time_bin_spike_counts_N_i(...)` and `ZhangReconstructionImplementation.compute_time_binned_spiking_activity(...)`"
   ]
  },
  {
   "cell_type": "code",
   "execution_count": null,
   "id": "36b2709a-d331-4b78-946a-30a08e07b071",
   "metadata": {},
   "outputs": [],
   "source": [
    "time_bin_size_seconds = 0.5"
   ]
  },
  {
   "cell_type": "code",
   "execution_count": null,
   "id": "5d016bbf-f949-418c-adb0-6ae7ed08ccc9",
   "metadata": {},
   "outputs": [],
   "source": [
    "# from `_setup_time_bin_spike_counts_N_i`: using `ZhangReconstructionImplementation.time_bin_spike_counts_N_i(...)` this one now works too, but its output is transposed compared to the `_perform_firing_rate_trends_computation` version:\n",
    "active_session_spikes_df = sess.spikes_df.copy()\n",
    "unit_specific_binned_spike_counts, time_window_edges, time_window_edges_binning_info = ZhangReconstructionImplementation.time_bin_spike_counts_N_i(active_session_spikes_df.copy(), time_bin_size=time_bin_size_seconds, debug_print=False)  # np.shape(unit_specific_spike_counts): (4188, 108)\n",
    "time_binning_container = BinningContainer(edges=time_window_edges, edge_info=time_window_edges_binning_info)\n",
    "ZhangReconstructionImplementation._validate_time_binned_spike_counts(time_binning_container, unit_specific_binned_spike_counts)"
   ]
  },
  {
   "cell_type": "code",
   "execution_count": null,
   "id": "37434deb-7978-4857-afa0-058969f6f743",
   "metadata": {},
   "outputs": [],
   "source": [
    "# Test `ZhangReconstructionImplementation.time_bin_spike_counts_N_i(...)` with manual bins -- `_setup_time_bin_spike_counts_N_i`: using `ZhangReconstructionImplementation.time_bin_spike_counts_N_i(...)` this one now works too, but its output is transposed compared to the `_perform_firing_rate_trends_computation` version:\n",
    "extant_time_window_edges = deepcopy(time_binning_container.edges)\n",
    "extant_time_window_edges_binning_info = deepcopy(time_binning_container.edge_info)\n",
    "active_session_spikes_df = sess.spikes_df.copy()\n",
    "unit_specific_binned_spike_counts, time_window_edges, time_window_edges_binning_info = ZhangReconstructionImplementation.time_bin_spike_counts_N_i(active_session_spikes_df.copy(), time_bin_size=time_bin_size_seconds,\n",
    "                                                                                                                                                   time_window_edges=extant_time_window_edges, time_window_edges_binning_info=extant_time_window_edges_binning_info, debug_print=False)  # np.shape(unit_specific_spike_counts): (4188, 108)\n",
    "time_binning_container = BinningContainer(edges=time_window_edges, edge_info=time_window_edges_binning_info)\n",
    "ZhangReconstructionImplementation._validate_time_binned_spike_counts(time_binning_container, unit_specific_binned_spike_counts)"
   ]
  },
  {
   "cell_type": "code",
   "execution_count": null,
   "id": "374ead33-f492-41f3-ba32-c9484b31f9cb",
   "metadata": {},
   "outputs": [],
   "source": [
    "# from `_perform_firing_rate_trends_computation`: using `ZhangReconstructionImplementation.compute_time_binned_spiking_activity(...)` this one now all makes sense:\n",
    "active_session_spikes_df = sess.spikes_df.copy()\n",
    "unit_specific_binned_spike_count_df, sess_time_window_edges, sess_time_window_edges_binning_info = ZhangReconstructionImplementation.compute_time_binned_spiking_activity(active_session_spikes_df.copy(), max_time_bin_size=time_bin_size_seconds, debug_print=False) # np.shape(unit_specific_spike_counts): (4188, 108)\n",
    "sess_time_binning_container = BinningContainer(edges=sess_time_window_edges, edge_info=sess_time_window_edges_binning_info)\n",
    "ZhangReconstructionImplementation._validate_time_binned_spike_rate_df(sess_time_binning_container.centers, unit_specific_binned_spike_count_df)"
   ]
  },
  {
   "cell_type": "code",
   "execution_count": null,
   "id": "7cb60eb2",
   "metadata": {
    "lines_to_next_cell": 2
   },
   "outputs": [],
   "source": []
  },
  {
   "cell_type": "markdown",
   "id": "4396a90f-c52d-4860-901a-3fe8fb87c838",
   "metadata": {
    "incorrectly_encoded_metadata": "pycharm={\"name\": \"#%%\\n\"} tags=[] jp-MarkdownHeadingCollapsed=true tags=[] jp-MarkdownHeadingCollapsed=true jp-MarkdownHeadingCollapsed=true tags=[] jp-MarkdownHeadingCollapsed=true tags=[] jp-MarkdownHeadingCollapsed=true tags=[] jp-MarkdownHeadingCollapsed=true"
   },
   "source": [
    "# NEW 2022-12-14 - Efficient PfND_TimeDependent batch entropy computations:"
   ]
  },
  {
   "cell_type": "code",
   "execution_count": null,
   "id": "428f533d-35d2-42e2-9480-8b9509fe391f",
   "metadata": {},
   "outputs": [],
   "source": [
    "## Get computed relative entropy measures:\n",
    "global_epoch_name = curr_active_pipeline.active_completed_computation_result_names[-1] # 'maze'\n",
    "global_results = curr_active_pipeline.computation_results[global_epoch_name]['computed_data']\n",
    "\n",
    "## Get existing `pf1D_dt`:\n",
    "active_pf_1D = global_results.pf1D\n",
    "active_pf_1D_dt = global_results.pf1D_dt\n",
    "\n",
    "## firing_rate_trends:\n",
    "try:\n",
    "    active_extended_stats = curr_active_pipeline.computation_results[global_epoch_name].computed_data['extended_stats']\n",
    "    time_binned_pos_df = active_extended_stats['time_binned_position_df']\n",
    "except (AttributeError, KeyError) as e:\n",
    "    print(f'encountered error: {e}. Recomputing...')\n",
    "    curr_active_pipeline.perform_specific_computation(computation_functions_name_whitelist=['_perform_firing_rate_trends_computation'], enabled_filter_names=[global_epoch_name], fail_on_exception=True, debug_print=False) \n",
    "    print(f'\\t done.')\n",
    "    active_extended_stats = curr_active_pipeline.computation_results[global_epoch_name].computed_data['extended_stats']\n",
    "    time_binned_pos_df = active_extended_stats['time_binned_position_df']\n",
    "except Exception as e:\n",
    "    raise e\n",
    "\n",
    "## relative_entropy_analyses:\n",
    "try:\n",
    "    active_relative_entropy_results = active_extended_stats['relative_entropy_analyses']\n",
    "    post_update_times = active_relative_entropy_results['post_update_times'] # (4152,) = (n_post_update_times,)\n",
    "    snapshot_differences_result_dict = active_relative_entropy_results['snapshot_differences_result_dict']\n",
    "    time_intervals = active_relative_entropy_results['time_intervals']\n",
    "    long_short_rel_entr_curves_frames = active_relative_entropy_results['long_short_rel_entr_curves_frames'] # (4152, 108, 63) = (n_post_update_times, n_neurons, n_xbins)\n",
    "    short_long_rel_entr_curves_frames = active_relative_entropy_results['short_long_rel_entr_curves_frames'] # (4152, 108, 63) = (n_post_update_times, n_neurons, n_xbins)\n",
    "    flat_relative_entropy_results = active_relative_entropy_results['flat_relative_entropy_results'] # (149, 63) - (nSnapshots, nXbins)\n",
    "    flat_jensen_shannon_distance_results = active_relative_entropy_results['flat_jensen_shannon_distance_results'] # (149, 63) - (nSnapshots, nXbins)\n",
    "    flat_jensen_shannon_distance_across_all_positions = np.sum(flat_jensen_shannon_distance_results, axis=1) # sum across all position bins # (4152,) - (nSnapshots)\n",
    "    flat_surprise_across_all_positions = np.sum(flat_relative_entropy_results, axis=1) # sum across all position bins # (4152,) - (nSnapshots)\n",
    "except (AttributeError, KeyError) as e:\n",
    "    print(f'encountered error: {e}. Recomputing...')\n",
    "    curr_active_pipeline.perform_specific_computation(computation_functions_name_whitelist=['_perform_time_dependent_pf_sequential_surprise_computation'], enabled_filter_names=[global_epoch_name], fail_on_exception=True, debug_print=False)\n",
    "    print(f'\\t done.')\n",
    "    active_relative_entropy_results = active_extended_stats['relative_entropy_analyses']\n",
    "    post_update_times = active_relative_entropy_results['post_update_times'] # (4152,) = (n_post_update_times,)\n",
    "    snapshot_differences_result_dict = active_relative_entropy_results['snapshot_differences_result_dict']\n",
    "    time_intervals = active_relative_entropy_results['time_intervals']\n",
    "    long_short_rel_entr_curves_frames = active_relative_entropy_results['long_short_rel_entr_curves_frames'] # (4152, 108, 63) = (n_post_update_times, n_neurons, n_xbins)\n",
    "    short_long_rel_entr_curves_frames = active_relative_entropy_results['short_long_rel_entr_curves_frames'] # (4152, 108, 63) = (n_post_update_times, n_neurons, n_xbins)\n",
    "    flat_relative_entropy_results = active_relative_entropy_results['flat_relative_entropy_results'] # (149, 63) - (nSnapshots, nXbins)\n",
    "    flat_jensen_shannon_distance_results = active_relative_entropy_results['flat_jensen_shannon_distance_results'] # (149, 63) - (nSnapshots, nXbins)\n",
    "    flat_jensen_shannon_distance_across_all_positions = np.sum(np.abs(flat_jensen_shannon_distance_results), axis=1) # sum across all position bins # (4152,) - (nSnapshots)\n",
    "    flat_surprise_across_all_positions = np.sum(np.abs(flat_relative_entropy_results), axis=1) # sum across all position bins # (4152,) - (nSnapshots)\n",
    "except Exception as e:\n",
    "    raise e"
   ]
  },
  {
   "cell_type": "code",
   "execution_count": null,
   "id": "6b0e0d90-a7d1-4090-ad3f-5300adcae38f",
   "metadata": {},
   "outputs": [],
   "source": [
    "short_long_rel_entr_curves_frames.shape"
   ]
  },
  {
   "cell_type": "code",
   "execution_count": null,
   "id": "568dc997-ba02-4e80-875a-68576bf4d853",
   "metadata": {},
   "outputs": [],
   "source": [
    "active_pf_1D_dt.included_neuron_IDXs.shape"
   ]
  },
  {
   "cell_type": "code",
   "execution_count": null,
   "id": "1e4c8360-5770-48bc-b692-2badf10aa585",
   "metadata": {},
   "outputs": [],
   "source": [
    "active_pf_1D.included_neuron_IDs.shape"
   ]
  },
  {
   "cell_type": "code",
   "execution_count": null,
   "id": "2dacc090-4724-41a4-a43e-3e4f78e228fb",
   "metadata": {},
   "outputs": [],
   "source": [
    "len(active_pf_1D.ratemap.neuron_ids)"
   ]
  },
  {
   "cell_type": "code",
   "execution_count": null,
   "id": "5e2f915d-df89-4a35-806f-0d7d3e346186",
   "metadata": {},
   "outputs": [],
   "source": [
    "active_pf_1D.ratemap.n_neurons"
   ]
  },
  {
   "cell_type": "code",
   "execution_count": null,
   "id": "7f719436-2a6c-45a3-9623-b64a5ab2e5dd",
   "metadata": {},
   "outputs": [],
   "source": [
    "neurons_obj = curr_active_pipeline.sess.neurons\n",
    "neurons_obj"
   ]
  },
  {
   "cell_type": "code",
   "execution_count": null,
   "id": "c13cfcad-a43d-41e3-8cf1-b565b374b247",
   "metadata": {},
   "outputs": [],
   "source": [
    "neurons_obj.neuron_type"
   ]
  },
  {
   "cell_type": "code",
   "execution_count": null,
   "id": "92f51d50-f21d-437c-87f0-5ca1bbca6f75",
   "metadata": {},
   "outputs": [],
   "source": [
    "neurons_obj = None"
   ]
  },
  {
   "cell_type": "code",
   "execution_count": null,
   "id": "536b2577-8df8-4e62-92d7-6069abcd658c",
   "metadata": {},
   "outputs": [],
   "source": [
    "from neuropy.core.neurons import NeuronType\n",
    "neurons_obj_PYR = neurons_obj.get_neuron_type(NeuronType.CONTAMINATED)\n",
    "neurons_obj_PYR"
   ]
  },
  {
   "cell_type": "code",
   "execution_count": null,
   "id": "19d7a0bc-3207-463e-a60e-dfd3740391b1",
   "metadata": {},
   "outputs": [],
   "source": [
    "get_neuron_type"
   ]
  },
  {
   "cell_type": "code",
   "execution_count": null,
   "id": "b5b1cf8c-989f-4348-a53f-58e775b04d0b",
   "metadata": {},
   "outputs": [],
   "source": [
    "# Compare by value:\n",
    "np.array([v.value for v in neurons_obj._neuron_type]) == NeuronType.INTERNEURONS.value"
   ]
  },
  {
   "cell_type": "code",
   "execution_count": null,
   "id": "2fab9fda-c5ae-4146-9224-148dc4583a0c",
   "metadata": {},
   "outputs": [],
   "source": [
    "neurons_obj.neuron_type == NeuronType.INTERNEURONS"
   ]
  },
  {
   "cell_type": "code",
   "execution_count": null,
   "id": "9f1d3b99-51bc-4a5a-8e5e-79f9432d9c22",
   "metadata": {},
   "outputs": [],
   "source": [
    "neurons_obj_PYR.spiketrains"
   ]
  },
  {
   "cell_type": "code",
   "execution_count": null,
   "id": "547d8050-41b4-4523-a113-1ea749a622e5",
   "metadata": {},
   "outputs": [],
   "source": [
    "neurons_obj_PYR.neuron_ids"
   ]
  },
  {
   "cell_type": "code",
   "execution_count": null,
   "id": "dfe04274-2384-4a74-975d-7497e8e7c476",
   "metadata": {},
   "outputs": [],
   "source": [
    "neurons_obj_PYR.get_above_firing_rate(1.0)"
   ]
  },
  {
   "cell_type": "code",
   "execution_count": null,
   "id": "7e6939d8-2bf6-4fff-8096-9db728d35581",
   "metadata": {},
   "outputs": [],
   "source": [
    "from neuropy.utils.matplotlib_helpers import draw_epoch_regions\n",
    "from neuropy.core.epoch import Epoch"
   ]
  },
  {
   "cell_type": "code",
   "execution_count": null,
   "id": "7ee4ea8d-049b-4e59-937e-d380fa281660",
   "metadata": {},
   "outputs": [],
   "source": [
    "active_filter_epochs = curr_active_pipeline.sess.replay\n",
    "active_filter_epochs\n",
    "\n",
    "if not 'stop' in active_filter_epochs.columns:\n",
    "    # Make sure it has the 'stop' column which is expected as opposed to the 'end' column\n",
    "    active_filter_epochs['stop'] = active_filter_epochs['end'].copy()\n",
    "    \n",
    "if not 'label' in active_filter_epochs.columns:\n",
    "    # Make sure it has the 'stop' column which is expected as opposed to the 'end' column\n",
    "    active_filter_epochs['label'] = active_filter_epochs['flat_replay_idx'].copy()\n",
    "\n",
    "active_filter_epoch_obj = Epoch(active_filter_epochs)\n",
    "active_filter_epoch_obj"
   ]
  },
  {
   "cell_type": "code",
   "execution_count": null,
   "id": "fdb892d3-435d-4ddf-8f3f-3435c464c664",
   "metadata": {
    "tags": [
     "plot",
     "visualization"
    ]
   },
   "outputs": [],
   "source": [
    "fig, ax = plt.subplots()\n",
    "# ax.plot(post_update_times, flat_surprise_across_all_positions)\n",
    "ax.set_ylabel('Relative Entropy across all positions')\n",
    "ax.set_xlabel('t (seconds)')\n",
    "epochs_collection, epoch_labels = draw_epoch_regions(curr_active_pipeline.sess.epochs, ax, facecolor=('red','cyan'), alpha=0.1, edgecolors=None, labels_kwargs={'y_offset': -0.05, 'size': 14}, defer_render=True, debug_print=False)\n",
    "laps_epochs_collection, laps_epoch_labels = draw_epoch_regions(curr_active_pipeline.sess.laps.as_epoch_obj(), ax, facecolor='red', edgecolors='black', labels_kwargs={'y_offset': -16.0, 'size':8}, defer_render=True, debug_print=False)\n",
    "replays_epochs_collection, replays_epoch_labels = draw_epoch_regions(active_filter_epoch_obj, ax, facecolor='orange', edgecolors=None, labels_kwargs=None, defer_render=False, debug_print=False)\n",
    "fig.suptitle('flat_surprise_across_all_positions')\n",
    "fig.show()"
   ]
  },
  {
   "cell_type": "code",
   "execution_count": null,
   "id": "4e2fca82-ce2b-465b-9c00-a836d85d2faa",
   "metadata": {},
   "outputs": [],
   "source": [
    "type(curr_active_pipeline.sess.pbe)"
   ]
  },
  {
   "cell_type": "code",
   "execution_count": null,
   "id": "707f5d39-efd4-4f9f-986a-43d82eee61e0",
   "metadata": {
    "tags": [
     "plot",
     "visualization"
    ]
   },
   "outputs": [],
   "source": [
    "# heatmap\n",
    "fig, ax = plt.subplots()\n",
    "# ax.plot(post_update_times, flat_relative_entropy_results)\n",
    "extents = (post_update_times[0], post_update_times[-1], active_pf_1D_dt.xbin[0], active_pf_1D_dt.xbin[-1]) # (left, right, bottom, top)\n",
    "ax.imshow(flat_relative_entropy_results.T, extent=extents)\n",
    "ax.set_ylabel('Relative Entropy')\n",
    "ax.set_xlabel('t (seconds)')\n",
    "fig.suptitle('flat_relative_entropy_results.T')\n",
    "epochs_collection, epoch_labels = draw_epoch_regions(curr_active_pipeline.sess.epochs, ax, defer_render=False, debug_print=False)\n",
    "fig.show()"
   ]
  },
  {
   "cell_type": "code",
   "execution_count": null,
   "id": "bffc34a2-1926-4f26-bb40-536fc0012648",
   "metadata": {},
   "outputs": [],
   "source": [
    "active_pf_1D_dt.xbin"
   ]
  },
  {
   "cell_type": "code",
   "execution_count": null,
   "id": "0a465995-b639-4bee-a0b2-2ab5f91199e7",
   "metadata": {},
   "outputs": [],
   "source": [
    "ax"
   ]
  },
  {
   "cell_type": "code",
   "execution_count": null,
   "id": "7c9e83f0-0b64-473e-adf3-cd4bc9e5e637",
   "metadata": {
    "tags": [
     "visualization",
     "plot"
    ]
   },
   "outputs": [],
   "source": [
    "# Show basic relative entropy vs. time plot:\n",
    "import matplotlib.pyplot as plt\n",
    "fig, ax = plt.subplots()\n",
    "ax.plot(post_update_times, flat_relative_entropy_results)\n",
    "ax.set_ylabel('Relative Entropy')\n",
    "ax.set_xlabel('t (seconds)')\n",
    "fig.suptitle('flat_relative_entropy_results')\n",
    "epochs_collection, epoch_labels = draw_epoch_regions(curr_active_pipeline.sess.epochs, ax, defer_render=False, debug_print=False)\n",
    "fig.show()"
   ]
  },
  {
   "cell_type": "code",
   "execution_count": null,
   "id": "43328043-b1cf-4f3b-abcf-744745656831",
   "metadata": {},
   "outputs": [],
   "source": [
    "curr_active_pipeline.sess.epochs.labels"
   ]
  },
  {
   "cell_type": "code",
   "execution_count": null,
   "id": "002740ae-e395-4de4-8045-b53a180e3fff",
   "metadata": {},
   "outputs": [],
   "source": [
    "trans = transforms.Affine2D().scale(fig.dpi/72.0)\n",
    "collection.set_transform(trans)  # the points to pixels transform\n",
    "# ax2.add_collection(col, autolim=True)\n",
    "# epoch_mid_t\n",
    "curr_ax.get_figure().canvas.draw()"
   ]
  },
  {
   "cell_type": "code",
   "execution_count": null,
   "id": "8db3de38-5eb4-485c-b055-740e2e1b162b",
   "metadata": {},
   "outputs": [],
   "source": [
    "\n",
    "epoch_labels\n",
    "curr_ax.get_figure().canvas.draw()"
   ]
  },
  {
   "cell_type": "code",
   "execution_count": null,
   "id": "b472ed67-da1e-4a55-b040-1ade129726d7",
   "metadata": {},
   "outputs": [],
   "source": [
    "a_label = epoch_labels[0] # Text\n",
    "a_label.get_position()"
   ]
  },
  {
   "cell_type": "code",
   "execution_count": null,
   "id": "b68f92e4-37eb-4be8-b6fe-56e5e0337ffa",
   "metadata": {},
   "outputs": [],
   "source": [
    "a_label.get_size()"
   ]
  },
  {
   "cell_type": "code",
   "execution_count": null,
   "id": "20f0c69b-7506-4310-8630-733366dc202e",
   "metadata": {},
   "outputs": [],
   "source": [
    "a_label.get_verticalalignment()"
   ]
  },
  {
   "cell_type": "code",
   "execution_count": null,
   "id": "83a9602a-df5a-4d26-921a-a7cc744fe8e2",
   "metadata": {},
   "outputs": [],
   "source": [
    "a_label.set_verticalalignment('top')\n",
    "curr_ax.get_figure().canvas.draw()"
   ]
  },
  {
   "cell_type": "code",
   "execution_count": null,
   "id": "1912af2e-6cd9-454f-ab1b-a50900e75f23",
   "metadata": {},
   "outputs": [],
   "source": [
    "bb = a_label.get_extents()\n",
    "bb"
   ]
  },
  {
   "cell_type": "code",
   "execution_count": null,
   "id": "4d046c62-8d2e-43c0-8513-cd39e0b00f9e",
   "metadata": {},
   "outputs": [],
   "source": [
    "out = curr_ax.broken_barh([epoch_tuples[0]], (0, 1), facecolors='tab:blue')\n",
    "out"
   ]
  },
  {
   "cell_type": "code",
   "execution_count": null,
   "id": "b8c51902-71e7-44e7-b2e9-8c5663965df6",
   "metadata": {},
   "outputs": [],
   "source": [
    "curr_ax.get_figure().canvas.draw()"
   ]
  },
  {
   "cell_type": "code",
   "execution_count": null,
   "id": "aac5f7c4-6c31-49a8-882b-2d15621c5708",
   "metadata": {
    "tags": [
     "temp"
    ]
   },
   "outputs": [],
   "source": [
    "from numpy import inf\n",
    "from sklearn.preprocessing import minmax_scale\n",
    "from PendingNotebookCode import _normalize_flat_relative_entropy_infs\n",
    "\n",
    "# # Replace np.inf with a maximally high value.\n",
    "# inf_value_mask = np.isinf(flat_relative_entropy_results) # all the infinte values\n",
    "\n",
    "# normalized_flat_relative_entropy_results = flat_relative_entropy_results.copy()\n",
    "# normalized_flat_relative_entropy_results[normalized_flat_relative_entropy_results == inf] = 0  # zero out the infinite values for normalization to the feature range (-1, 1)\n",
    "# normalized_flat_relative_entropy_results = minmax_scale(normalized_flat_relative_entropy_results, feature_range=(-1, 1)) # normalize to the feature_range (-1, 1)\n",
    "\n",
    "# # Restore the infinite values at the specified value:\n",
    "# # normalized_flat_relative_entropy_results[inf_value_mask] = 0.0\n",
    "\n",
    "normalized_flat_relative_entropy_results = _normalize_flat_relative_entropy_infs(flat_relative_entropy_results)"
   ]
  },
  {
   "cell_type": "code",
   "execution_count": null,
   "id": "304dc728-b4cf-44f9-ab5e-38ada98d79e9",
   "metadata": {
    "tags": [
     "visualization",
     "plot"
    ]
   },
   "outputs": [],
   "source": [
    "import matplotlib.pyplot as plt\n",
    "fig, ax = plt.subplots()\n",
    "ax.plot(post_update_times, normalized_flat_relative_entropy_results)\n",
    "ax.set_ylabel('Normalized Relative Entropy')\n",
    "ax.set_xlabel('t (seconds)')\n",
    "fig.suptitle('Normalized Relative Entropy')\n",
    "epochs_collection, epoch_labels = draw_epoch_regions(curr_active_pipeline.sess.epochs, ax, defer_render=False, debug_print=False)\n",
    "fig.show()"
   ]
  },
  {
   "cell_type": "code",
   "execution_count": null,
   "id": "e8f2b1f5",
   "metadata": {
    "collapsed": false,
    "jupyter": {
     "outputs_hidden": false
    }
   },
   "outputs": [],
   "source": [
    "## Plotting Crap"
   ]
  },
  {
   "cell_type": "code",
   "execution_count": null,
   "id": "921a96cc",
   "metadata": {
    "collapsed": false,
    "jupyter": {
     "outputs_hidden": false
    }
   },
   "outputs": [],
   "source": [
    "### one_step_decoder"
   ]
  },
  {
   "cell_type": "code",
   "execution_count": null,
   "id": "3840d86e-d06d-4bfc-a321-b1df7e0a377c",
   "metadata": {
    "tags": [
     "plot",
     "temp"
    ]
   },
   "outputs": [],
   "source": [
    "## THE CORE WORKING VERSION - 2022-09-27 @ 4pm\n",
    "from pyphocorehelpers.gui.PhoUIContainer import PhoUIContainer\n",
    "from pyphoplacecellanalysis.General.Pipeline.Stages.DisplayFunctions.DecoderPredictionError import plot_most_likely_position_comparsions, plot_1D_most_likely_position_comparsions\n",
    "\n",
    "active_one_step_decoder = long_one_step_decoder_1D\n",
    "\n",
    "## Test Plotting just a single dimension of the 2D posterior:\n",
    "pho_custom_decoder = active_one_step_decoder # active_pf_2D\n",
    "# pho_custom_decoder = new_2D_decoder\n",
    "active_posterior = pho_custom_decoder.p_x_given_n\n",
    "# Collapse the 2D position posterior into two separate 1D (X & Y) marginal posteriors. Be sure to re-normalize each marginal after summing\n",
    "marginal_posterior_x = np.squeeze(np.sum(active_posterior, 1)) # sum over all y. Result should be [x_bins x time_bins]\n",
    "marginal_posterior_x = marginal_posterior_x / np.sum(marginal_posterior_x, axis=0) # sum over all positions for each time_bin (so there's a normalized distribution at each timestep)\n",
    "# np.shape(marginal_posterior_x) # (41, 3464)\n",
    "custom_2D_decoder_container = PhoUIContainer('active_pf_2D_decoder', figure_id=f'active_pf_2D_decoder_most_likely')\n",
    "# custom_2D_decoder_container.fig, custom_2D_decoder_container.ax = plt.subplots(num=custom_2D_decoder_container.figure_id, ncols=1, nrows=1, figsize=(15,15), clear=True, sharex=True, sharey=False, constrained_layout=True)\n",
    "\n",
    "custom_2D_decoder_container.fig = active_2d_plot.ui.matplotlib_view_widget.getFigure()\n",
    "custom_2D_decoder_container.ax = active_2d_plot.ui.matplotlib_view_widget.ax #getFigure().add_subplot(111)\n",
    "custom_2D_decoder_container.fig.suptitle(custom_2D_decoder_container.name)\n",
    "custom_2D_decoder_container.fig, custom_2D_decoder_container.ax = plot_1D_most_likely_position_comparsions(sess.position.to_dataframe(), ax=custom_2D_decoder_container.ax, time_window_centers=pho_custom_decoder.active_time_window_centers, xbin=pho_custom_decoder.xbin,\n",
    "                                                   posterior=marginal_posterior_x,\n",
    "                                                   active_most_likely_positions_1D=pho_custom_decoder.most_likely_positions[:,0].T,\n",
    "                                                   enable_flat_line_drawing=False, debug_print=False)\n",
    "\n",
    "active_2d_plot.ui.matplotlib_view_widget.draw()"
   ]
  },
  {
   "cell_type": "code",
   "execution_count": null,
   "id": "d5f4b638",
   "metadata": {
    "collapsed": false,
    "jupyter": {
     "outputs_hidden": false
    }
   },
   "outputs": [],
   "source": [
    "### Other"
   ]
  },
  {
   "cell_type": "code",
   "execution_count": null,
   "id": "b1b504c3-6f03-4ddb-a762-2eeec7d692fa",
   "metadata": {
    "tags": [
     "imports"
    ]
   },
   "outputs": [],
   "source": [
    "# Python\n",
    "import pandas as pd\n",
    "# from prophet import Prophet\n",
    "import matplotlib.pyplot as plt"
   ]
  },
  {
   "cell_type": "code",
   "execution_count": null,
   "id": "a6237067-21a1-4e52-a84b-d34bff1e39ac",
   "metadata": {
    "tags": [
     "plot",
     "visualization"
    ]
   },
   "outputs": [],
   "source": [
    "fig, ax = plt.subplots(figsize=(10, 7))\n",
    "ax.stackplot(post_update_times, flat_relative_entropy_results.T, baseline=\"sym\")\n",
    "ax.axhline(0, color=\"black\", ls=\"--\");"
   ]
  },
  {
   "cell_type": "code",
   "execution_count": null,
   "id": "cd3ac66a-c9b7-4dc9-a1c4-1100c2d0a15b",
   "metadata": {},
   "outputs": [],
   "source": [
    "fig.show()"
   ]
  },
  {
   "cell_type": "code",
   "execution_count": null,
   "id": "d47dd52c-e03e-428e-99c5-bf3d213c72f1",
   "metadata": {
    "tags": [
     "visualization"
    ]
   },
   "outputs": [],
   "source": [
    "from pyphoplacecellanalysis.GUI.PyQtPlot.BinnedImageRenderingWindow import BasicBinnedImageRenderingWindow, LayoutScrollability\n",
    "\n",
    "out = BasicBinnedImageRenderingWindow(flat_relative_entropy_results, post_update_times, active_pf_1D_dt.xbin_labels, name='relative_entropy', title=\"Relative Entropy per Pos (X) @ time (t)\", variable_label='Rel Entropy', scrollability_mode=LayoutScrollability.NON_SCROLLABLE)\n",
    "out\n",
    "# out.add_data(row=1, col=0, matrix=active_eloy_analysis.pf_overlapDensity_2D, xbins=active_pf_2D_dt.xbin_labels, ybins=active_pf_2D_dt.ybin_labels, name='pf_overlapDensity', title='pf overlapDensity metric', variable_label='pf overlapDensity')"
   ]
  },
  {
   "cell_type": "code",
   "execution_count": null,
   "id": "67e26fcf-a3d3-4753-9b13-d72781d871f6",
   "metadata": {
    "tags": [
     "visualization"
    ]
   },
   "outputs": [],
   "source": [
    "from pyphoplacecellanalysis.GUI.PyQtPlot.Examples.pyqtplot_Matrix import MatrixRenderingWindow\n",
    "from pyphoplacecellanalysis.External.pyqtgraph.Qt import QtCore, QtGui, QtWidgets\n",
    "\n",
    "# QtWidgets\n",
    "# out_old = MatrixRenderingWindow("
   ]
  },
  {
   "cell_type": "code",
   "execution_count": null,
   "id": "4d7be914-2eea-4ccb-9d04-dec7ebea2e42",
   "metadata": {},
   "outputs": [],
   "source": [
    "out.ui.graphics_layout.setMinimumHeight(out.params.all_plots_height)\n",
    "# out.ui.graphics_layout.setSizeAdjustPolicy()\n",
    "out.ui.graphics_layout.setSizePolicy(QtWidgets.QSizePolicy.Expanding, QtWidgets.QSizePolicy.MinimumExpanding)\n",
    "# out.ui.graphics_layout.setSizeAdjustPolicy()"
   ]
  },
  {
   "cell_type": "code",
   "execution_count": null,
   "id": "7c2292f2-46ef-4c73-b512-af61382bcf59",
   "metadata": {},
   "outputs": [],
   "source": [
    "# sizePolicy = QtWidgets.QSizePolicy(QtWidgets.QSizePolicy.Expanding, QtWidgets.QSizePolicy.MinimumExpanding)\n",
    "# sizePolicy.setHorizontalStretch(0)\n",
    "# sizePolicy.setVerticalStretch(0)\n",
    "# sizePolicy.setHeightForWidth(self.scroll_area.sizePolicy().hasHeightForWidth())\n",
    "# self.scroll_area.setSizePolicy(sizePolicy)"
   ]
  },
  {
   "cell_type": "code",
   "execution_count": null,
   "id": "79868d6d-a926-47de-98a9-673aed56890d",
   "metadata": {
    "tags": [
     "visualization",
     "plot"
    ]
   },
   "outputs": [],
   "source": [
    "ax.pcolormesh(xgrid, ygrid, temp, cmap=\"magma\", vmin=MIN_TEMP, vmax=MAX_TEMP)\n",
    "# Invert the vertical axis\n",
    "ax.set_ylim(24, 0)\n",
    "# Set tick positions for both axes\n",
    "ax.yaxis.set_ticks([i for i in range(24)])\n",
    "ax.xaxis.set_ticks([10, 20, 30])\n",
    "# Remove ticks by setting their length to 0\n",
    "ax.yaxis.set_tick_params(length=0)\n",
    "ax.xaxis.set_tick_params(length=0)"
   ]
  },
  {
   "cell_type": "code",
   "execution_count": null,
   "id": "e4205079-dbba-40b9-b2a7-e5e9379e55a6",
   "metadata": {},
   "outputs": [],
   "source": [
    "post_update_times.shape # (4152,)"
   ]
  },
  {
   "cell_type": "code",
   "execution_count": null,
   "id": "e3930c21-fd29-40c4-9c13-bc53fdb2272c",
   "metadata": {},
   "outputs": [],
   "source": [
    "len(flat_relative_entropy_results) # len(flat_relative_entropy_results) # 4152"
   ]
  },
  {
   "cell_type": "code",
   "execution_count": null,
   "id": "429b9a3e-c041-4d7a-80bf-47d8524f69be",
   "metadata": {},
   "outputs": [],
   "source": [
    "flat_relative_entropy_results.shape # (4152, 63)"
   ]
  },
  {
   "cell_type": "code",
   "execution_count": null,
   "id": "668b2908-3a94-46eb-ae4e-a5be44d293c3",
   "metadata": {},
   "outputs": [],
   "source": [
    "flat_jensen_shannon_distance_results"
   ]
  },
  {
   "cell_type": "code",
   "execution_count": null,
   "id": "f79d7998-fcdc-49be-b163-e1d47544abc0",
   "metadata": {},
   "outputs": [],
   "source": [
    "np.unique(flat_relative_entropy_results)"
   ]
  },
  {
   "cell_type": "code",
   "execution_count": null,
   "id": "5f82cd21-7590-4518-b005-cd53ecb313e2",
   "metadata": {},
   "outputs": [],
   "source": [
    "np.unique(flat_jensen_shannon_distance_results)"
   ]
  },
  {
   "cell_type": "code",
   "execution_count": null,
   "id": "cd173afc-d14f-4a22-9a81-f6a045e1b647",
   "metadata": {
    "tags": [
     "visualization",
     "plot"
    ]
   },
   "outputs": [],
   "source": [
    "ax.plot(flat_jensen_shannon_distance_results[:,0])"
   ]
  },
  {
   "cell_type": "code",
   "execution_count": null,
   "id": "05ffdd5a-6108-4cc3-9f32-001d123fa356",
   "metadata": {},
   "outputs": [],
   "source": [
    "plt.plot(post_update_times, flat_relative_entropy_results)"
   ]
  },
  {
   "cell_type": "code",
   "execution_count": null,
   "id": "c914e532-93c4-42d9-969a-fd7128b0b1f2",
   "metadata": {},
   "outputs": [],
   "source": [
    "fig, ax = plt.subplots()\n",
    "ax.plot(post_update_times, flat_relative_entropy_results)\n",
    "fig.show()"
   ]
  },
  {
   "cell_type": "code",
   "execution_count": null,
   "id": "55d43581-e9c6-43cb-81c6-e3d597cd0456",
   "metadata": {},
   "outputs": [],
   "source": [
    "long_short_rel_entr_curves_frames"
   ]
  },
  {
   "cell_type": "code",
   "execution_count": null,
   "id": "a25837e0-7f86-4c47-bc9b-3d41dde32378",
   "metadata": {},
   "outputs": [],
   "source": [
    "flat_relative_entropy_results"
   ]
  },
  {
   "cell_type": "code",
   "execution_count": null,
   "id": "9b184be5-5afa-4b9c-8b1f-249282304da2",
   "metadata": {},
   "outputs": [],
   "source": [
    "flat_jensen_shannon_distance_results.shape # (4152, 63)"
   ]
  },
  {
   "cell_type": "code",
   "execution_count": null,
   "id": "72cad45c-2745-4bf1-8a8c-bac85b2dff7b",
   "metadata": {
    "tags": [
     "temp"
    ]
   },
   "outputs": [],
   "source": [
    "from pyphocorehelpers.print_helpers import print_object_memory_usage, print_dataframe_memory_usage"
   ]
  },
  {
   "cell_type": "code",
   "execution_count": null,
   "id": "58e8f8c9-1a10-4f1c-b0e0-ea327d358a1b",
   "metadata": {
    "tags": [
     "temp"
    ]
   },
   "outputs": [],
   "source": [
    "print_object_memory_usage(long_short_rel_entr_curves_frames)"
   ]
  },
  {
   "cell_type": "code",
   "execution_count": null,
   "id": "50d0fcc7-e87f-47b0-b86b-b6a606621fe6",
   "metadata": {
    "tags": [
     "temp"
    ]
   },
   "outputs": [],
   "source": [
    "print_object_memory_usage(out_list) # object size: 331.506809 MB"
   ]
  },
  {
   "cell_type": "code",
   "execution_count": null,
   "id": "d01dedd6-ebf3-4532-a06b-350eee24c032",
   "metadata": {
    "tags": [
     "temp"
    ]
   },
   "outputs": [],
   "source": [
    "print_object_memory_usage(out_list_t)"
   ]
  },
  {
   "cell_type": "code",
   "execution_count": null,
   "id": "ec0e72f3-3325-4cd5-8b21-a0e9cf1be205",
   "metadata": {
    "tags": [
     "temp"
    ]
   },
   "outputs": [],
   "source": [
    "print_object_memory_usage(out_list[0])"
   ]
  },
  {
   "cell_type": "code",
   "execution_count": null,
   "id": "5e421a11-caee-4e62-b186-ffca03c0cbc3",
   "metadata": {},
   "outputs": [],
   "source": [
    "a_snapshot = out_list[0]\n",
    "a_snapshot"
   ]
  },
  {
   "cell_type": "code",
   "execution_count": null,
   "id": "e951c955-2bc6-40b4-b7f5-51920be2dd78",
   "metadata": {},
   "outputs": [],
   "source": [
    "a_snapshot.to_dict()"
   ]
  },
  {
   "cell_type": "code",
   "execution_count": null,
   "id": "0027d9bf-1a19-41a9-b4e8-ae136c0b2c6e",
   "metadata": {},
   "outputs": [],
   "source": [
    "len(out_list) # 4153"
   ]
  },
  {
   "cell_type": "code",
   "execution_count": null,
   "id": "3025f6b5-b492-42c0-84cd-85abce1c1e8c",
   "metadata": {},
   "outputs": [],
   "source": [
    "out_list_t = np.array(out_list_t)\n",
    "out_list_t.shape"
   ]
  },
  {
   "cell_type": "code",
   "execution_count": null,
   "id": "b1564fee-1741-4342-9862-02f40256b379",
   "metadata": {
    "tags": [
     "temp"
    ]
   },
   "outputs": [],
   "source": [
    "print_object_memory_usage(active_pf_1D_dt) # object size: 200.256337 MB"
   ]
  },
  {
   "cell_type": "code",
   "execution_count": null,
   "id": "4cf28ec1-2fff-4214-944d-5b51b785a186",
   "metadata": {},
   "outputs": [],
   "source": [
    "# active_one_step_decoder.time_binning_container\n",
    "n_neurons = np.shape(self.unit_specific_time_binned_spike_counts)[0] > len(self.neuron_IDXs)"
   ]
  },
  {
   "cell_type": "code",
   "execution_count": null,
   "id": "58abd918-6a97-4189-b23c-be5be28750aa",
   "metadata": {},
   "outputs": [],
   "source": [
    "## Get the current positions at each of the time_window_centers:\n",
    "# active_resampled_measured_positions\n",
    "# active_extended_stats = active_computed_data.extended_stats\n",
    "time_binned_pos_df = active_extended_stats.time_binned_position_df\n",
    "active_resampled_pos_df = time_binned_pos_df  # 1717 rows × 16 columns\n",
    "active_resampled_pos_df"
   ]
  },
  {
   "cell_type": "code",
   "execution_count": null,
   "id": "c3c0a808-f99d-43ce-b8e1-0fc5bf21e552",
   "metadata": {},
   "outputs": [],
   "source": [
    "active_extended_stats.time_binned_position_mean"
   ]
  },
  {
   "cell_type": "code",
   "execution_count": null,
   "id": "f1c89f30-1512-4b6b-9683-a6dfccd49f38",
   "metadata": {},
   "outputs": [],
   "source": [
    "active_resampled_measured_positions = active_resampled_pos_df[['x','y']].to_numpy() # The measured positions resampled (interpolated) at the window centers. \n",
    "# np.shape(active_resampled_measured_positions) # (1911, 2)\n",
    "active_one_step_decoder.active_time_window_centers.shape # (1911,)\n",
    "print(f'active_one_step_decoder.active_time_window_centers.shape: {active_one_step_decoder.active_time_window_centers.shape}')\n",
    "# Note this has 2900 rows × 24 columns and active_one_step_decoder.active_time_window_centers.shape is (2892,) for some reason. Shouldn't they be the same?"
   ]
  },
  {
   "cell_type": "code",
   "execution_count": null,
   "id": "4960d6eb-3b33-440f-b326-35f5449c5f32",
   "metadata": {},
   "outputs": [],
   "source": [
    "active_resampled_pos_df # (62911,)"
   ]
  },
  {
   "cell_type": "code",
   "execution_count": null,
   "id": "9d081d0e-5077-4961-823f-45e29047c3d8",
   "metadata": {},
   "outputs": [],
   "source": [
    "active_resampled_measured_positions.shape"
   ]
  },
  {
   "cell_type": "code",
   "execution_count": null,
   "id": "8a9393f2-0d56-46b5-ab94-eea2718d7e6a",
   "metadata": {
    "tags": [
     "visualization"
    ]
   },
   "outputs": [],
   "source": [
    "import matplotlib.pyplot as plt\n",
    "from matplotlib.widgets import Slider\n",
    "\n",
    "from PendingNotebookCode import _temp_debug_two_step_plots_animated_imshow\n",
    "\n",
    "# Get the decoders from the computation result:\n",
    "# active_one_step_decoder = computation_result.computed_data['pf2D_Decoder']\n",
    "# active_two_step_decoder = computation_result.computed_data.get('pf2D_TwoStepDecoder', None)\n",
    "# active_measured_positions = computation_result.sess.position.to_dataframe()\n",
    "\n",
    "def _debug_on_frame_update(new_frame_idx, ax):\n",
    "    print(f'_debug_on_frame_update(new_frame_idx: {new_frame_idx}, ax: {ax})')\n",
    "    pass\n",
    "\n",
    "# active_resampled_pos_df = active_computed_data.extended_stats.time_binned_position_df  # 1717 rows × 16 columns\n",
    "\n",
    "# Simple plot type 1:\n",
    "# plotted_variable_name = kwargs.get('variable_name', 'p_x_given_n') # Tries to get the user-provided variable name, otherwise defaults to 'p_x_given_n'\n",
    "plotted_variable_name = 'p_x_given_n' # Tries to get the user-provided variable name, otherwise defaults to 'p_x_given_n'\n",
    "_temp_debug_two_step_plots_animated_imshow(active_one_step_decoder, active_two_step_decoder, active_computed_data.extended_stats.time_binned_position_df, variable_name=plotted_variable_name, update_callback_function=_debug_on_frame_update) # Works"
   ]
  },
  {
   "cell_type": "code",
   "execution_count": null,
   "id": "eef20765-0f3e-4348-a12f-fceccf0ccb85",
   "metadata": {
    "scrolled": true,
    "tags": [
     "visualization"
    ]
   },
   "outputs": [],
   "source": [
    "curr_display_function_name = '_display_spike_rasters_pyqtplot_2D'\n",
    "curr_active_pipeline.display(curr_display_function_name, global_epoch_name, debug_print=False, enable_saving_to_disk=enable_saving_to_disk) "
   ]
  },
  {
   "cell_type": "code",
   "execution_count": null,
   "id": "3b6322ea-88f5-475a-808d-340cd86ebff5",
   "metadata": {
    "scrolled": true,
    "tags": [
     "visualization"
    ]
   },
   "outputs": [],
   "source": [
    "## Works, displays my velocity/density result for both 2D and 1D:\n",
    "# out_plot_1D, out_plot_2D = curr_active_pipeline.display('_display_speed_vs_PFoverlapDensity_plots', active_config_name)\n",
    "curr_display_function_name = '_display_speed_vs_PFoverlapDensity_plots'\n",
    "plots = curr_active_pipeline.display(curr_display_function_name, global_epoch_name)\n",
    "plots"
   ]
  },
  {
   "cell_type": "code",
   "execution_count": null,
   "id": "01598d95-1b12-4d7f-9231-5c5384e68d77",
   "metadata": {
    "tags": [
     "visualization"
    ]
   },
   "outputs": [],
   "source": [
    "curr_display_function_name = '_display_placemaps_pyqtplot_2D'\n",
    "out_plots = curr_active_pipeline.display(curr_display_function_name, global_epoch_name, max_num_columns=8)    \n",
    "out_plots[1].show()"
   ]
  },
  {
   "cell_type": "code",
   "execution_count": null,
   "id": "86b64e53-1d01-43b7-818e-3f0c32b20e9b",
   "metadata": {
    "tags": [
     "plot",
     "export/save"
    ]
   },
   "outputs": [],
   "source": [
    "# a_plot = plots[0] # PlotWidget \n",
    "# a_plot_item = a_plot.plotItem # PlotItem\n",
    "# a_plot.scene() # GraphicsScene\n",
    "export_pyqtgraph_plot(plots[0])"
   ]
  },
  {
   "cell_type": "markdown",
   "id": "a80051ed-8a89-4c83-a6e7-1095793d270f",
   "metadata": {
    "incorrectly_encoded_metadata": "tags=[] jp-MarkdownHeadingCollapsed=true jp-MarkdownHeadingCollapsed=true tags=[] jp-MarkdownHeadingCollapsed=true jp-MarkdownHeadingCollapsed=true tags=[] jp-MarkdownHeadingCollapsed=true tags=[] jp-MarkdownHeadingCollapsed=true",
    "tags": []
   },
   "source": [
    "# GUI/Widget Helpers"
   ]
  },
  {
   "cell_type": "code",
   "execution_count": 6,
   "id": "2fd28810-9e6d-461d-8d3e-1a2732b15b53",
   "metadata": {},
   "outputs": [
    {
     "name": "stdout",
     "output_type": "stream",
     "text": [
      "build_module_logger(module_name=\"Spike3D.display.SpikeRasterBase\"):\n",
      "\t Module logger com.PhoHale.Spike3D.display.SpikeRasterBase has file logging enabled and will log to EXTERNAL\\TESTING\\Logging\\debug_com.PhoHale.Spike3D.display.SpikeRasterBase.log\n"
     ]
    },
    {
     "data": {
      "text/plain": [
       "{'spike_raster_plt_2d': <pyphoplacecellanalysis.GUI.PyQtPlot.Widgets.SpikeRasterWidgets.Spike2DRaster.Spike2DRaster at 0x258d4a65940>,\n",
       " 'spike_raster_plt_3d': None,\n",
       " 'spike_raster_window': <pyphoplacecellanalysis.GUI.Qt.SpikeRasterWindows.Spike3DRasterWindowWidget.Spike3DRasterWindowWidget at 0x258c5ec2b80>}"
      ]
     },
     "execution_count": 6,
     "metadata": {},
     "output_type": "execute_result"
    },
    {
     "name": "stdout",
     "output_type": "stream",
     "text": [
      "_run_delayed_gui_load_code() called!\n",
      "num_plot_items: 2\n",
      "plotting item\n",
      "plotting item\n"
     ]
    }
   ],
   "source": [
    "curr_active_pipeline.plot._display_spike_rasters_pyqtplot_2D"
   ]
  },
  {
   "cell_type": "code",
   "execution_count": 7,
   "id": "efb16ef1-8c0a-40df-9255-6e100877402a",
   "metadata": {},
   "outputs": [],
   "source": [
    "from pyphocorehelpers.gui.Qt.TopLevelWindowHelper import TopLevelWindowHelper\n",
    "import pyphoplacecellanalysis.External.pyqtgraph as pg # Used to get the app for TopLevelWindowHelper.top_level_windows\n",
    "## For searching with `TopLevelWindowHelper.all_widgets(...)`:\n",
    "from pyphoplacecellanalysis.GUI.PyQtPlot.Widgets.SpikeRasterWidgets.Spike2DRaster import Spike2DRaster\n",
    "from pyphoplacecellanalysis.GUI.PyQtPlot.Widgets.SpikeRasterWidgets.Spike3DRaster import Spike3DRaster\n",
    "from pyphoplacecellanalysis.GUI.Qt.SpikeRasterWindows.Spike3DRasterWindowWidget import Spike3DRasterWindowWidget\n",
    "\n",
    "found_spike_raster_windows = TopLevelWindowHelper.all_widgets(pg.mkQApp(), searchType=Spike3DRasterWindowWidget)\n",
    "assert len(found_spike_raster_windows) == 1, f\"found {len(found_spike_raster_windows)} Spike3DRasterWindowWidget windows using TopLevelWindowHelper.all_widgets(...) but require exactly one.\"\n",
    "spike_raster_window = found_spike_raster_windows[0]\n",
    "# Extras:\n",
    "active_2d_plot = spike_raster_window.spike_raster_plt_2d # <pyphoplacecellanalysis.GUI.PyQtPlot.Widgets.SpikeRasterWidgets.Spike2DRaster.Spike2DRaster at 0x196c7244280>\n",
    "active_3d_plot = spike_raster_window.spike_raster_plt_3d # <pyphoplacecellanalysis.GUI.PyQtPlot.Widgets.SpikeRasterWidgets.Spike2DRaster.Spike2DRaster at 0x196c7244280>\n",
    "main_graphics_layout_widget = active_2d_plot.ui.main_graphics_layout_widget # GraphicsLayoutWidget\n",
    "main_plot_widget = active_2d_plot.plots.main_plot_widget # PlotItem\n",
    "background_static_scroll_plot_widget = active_2d_plot.plots.background_static_scroll_window_plot # PlotItem"
   ]
  },
  {
   "cell_type": "code",
   "execution_count": null,
   "id": "fcb2c247-0eff-4bd0-99e7-3967e6b9486a",
   "metadata": {},
   "outputs": [],
   "source": [
    "widget, fig, ax = active_2d_plot.add_new_matplotlib_render_plot_widget(name='RelativeEntropy')\n",
    "\n",
    "## plot the `post_update_times`, and `flat_relative_entropy_results`\n",
    "_temp_out = ax.plot(post_update_times, flat_relative_entropy_results)\n",
    "\n",
    "# Perform Initial (one-time) update from source -> controlled:\n",
    "# This syncs the new widget up to the full data window (the entire session), not the active window:\n",
    "widget.on_window_changed(active_2d_plot.spikes_window.total_data_start_time, active_2d_plot.spikes_window.total_data_end_time)\n",
    "widget.draw()"
   ]
  },
  {
   "cell_type": "code",
   "execution_count": null,
   "id": "22ae6bac-5ad1-4f81-9090-e3c745630b5d",
   "metadata": {},
   "outputs": [],
   "source": [
    "active_2d_plot.ui.matplotlib_view_widgets"
   ]
  },
  {
   "cell_type": "code",
   "execution_count": null,
   "id": "fcb9773e-cb26-4089-a380-27d732b770c9",
   "metadata": {},
   "outputs": [],
   "source": [
    "widget.draw()"
   ]
  },
  {
   "cell_type": "code",
   "execution_count": null,
   "id": "8cf2a236-a7fd-47dc-9940-6621e9f667d5",
   "metadata": {},
   "outputs": [],
   "source": [
    "main_plot_widget"
   ]
  },
  {
   "cell_type": "markdown",
   "id": "12a7dc36-942c-4289-bb70-807e34bc6d2f",
   "metadata": {
    "tags": []
   },
   "source": [
    "## 🎨 Exploring 'Plot' Helper class:"
   ]
  },
  {
   "cell_type": "code",
   "execution_count": null,
   "id": "8eea2dc7-339f-4a21-af2f-b8532a10feab",
   "metadata": {},
   "outputs": [],
   "source": [
    "curr_active_pipeline.plot._display_1d_placefields"
   ]
  },
  {
   "cell_type": "code",
   "execution_count": null,
   "id": "8ce008ec-4d9e-438b-a8ec-d1769c2d177e",
   "metadata": {},
   "outputs": [],
   "source": [
    "curr_active_pipeline.plot._display_1d_placefields"
   ]
  },
  {
   "cell_type": "code",
   "execution_count": null,
   "id": "243e135f-5b8c-4114-91f9-2d9d2dc80c94",
   "metadata": {},
   "outputs": [],
   "source": [
    "curr_active_pipeline.plot._display_spike_rasters_pyqtplot_2D"
   ]
  },
  {
   "cell_type": "code",
   "execution_count": null,
   "id": "8fb69475-7add-4c96-afd2-37bb93b27b8c",
   "metadata": {},
   "outputs": [],
   "source": [
    "curr_active_pipeline.plot._display_3d_image_plotter"
   ]
  },
  {
   "cell_type": "code",
   "execution_count": null,
   "id": "5f721be2-3aa0-4914-8e03-96ae8291ffdd",
   "metadata": {},
   "outputs": [],
   "source": [
    "curr_active_pipeline.display('_display_1d_placefield_validations', active_session_configuration_context=curr_active_pipeline.filtered_contexts.maze)"
   ]
  },
  {
   "cell_type": "code",
   "execution_count": null,
   "id": "14790c1d-45a4-4acc-98d7-b372daf6560e",
   "metadata": {},
   "outputs": [],
   "source": [
    "list(curr_active_pipeline.filtered_contexts.values())[-1]"
   ]
  },
  {
   "cell_type": "markdown",
   "id": "d21f3eb0-236b-4291-bc05-25ce5e4f8b41",
   "metadata": {
    "tags": []
   },
   "source": [
    "### `matplotlib_view_widget` examples from 241 notebook:"
   ]
  },
  {
   "cell_type": "code",
   "execution_count": null,
   "id": "f8acbb10-6078-4d96-afcb-95854a06a17d",
   "metadata": {},
   "outputs": [],
   "source": [
    "active_2d_plot.sync_matplotlib_render_plot_widget()"
   ]
  },
  {
   "cell_type": "code",
   "execution_count": null,
   "id": "e1a2a54d-a442-4cf3-9a64-f642de3f7967",
   "metadata": {},
   "outputs": [],
   "source": [
    "active_2d_plot.sync_matplotlib_render_plot_widget()"
   ]
  },
  {
   "cell_type": "code",
   "execution_count": null,
   "id": "346f5f94-80d0-418c-85f0-316bb506e4f2",
   "metadata": {},
   "outputs": [],
   "source": [
    "active_2d_plot."
   ]
  },
  {
   "cell_type": "code",
   "execution_count": null,
   "id": "52827ed6-4873-4cf3-ae70-0e29ed0b2308",
   "metadata": {},
   "outputs": [],
   "source": [
    "active_2d_plot.ui.matplotlib_view_widget # MatplotlibTimeSynchronizedWidget "
   ]
  },
  {
   "cell_type": "code",
   "execution_count": null,
   "id": "39e68889-3a48-4bce-98ad-f0e6e042a315",
   "metadata": {},
   "outputs": [],
   "source": [
    "active_2d_plot.ui.matplotlib_view_widget.ax"
   ]
  },
  {
   "cell_type": "code",
   "execution_count": null,
   "id": "9d90c8ec-572a-44ef-97a4-b442e40f9060",
   "metadata": {},
   "outputs": [],
   "source": [
    "active_2d_plot.ui.dynamic_docked_widget_container.dynamic_display_dict"
   ]
  },
  {
   "cell_type": "code",
   "execution_count": null,
   "id": "555f78e1-af9c-41fc-938d-f86c5b936611",
   "metadata": {},
   "outputs": [],
   "source": [
    "# dDisplayItem = active_2d_plot.ui.dynamic_docked_widget_container.find_display_dock(identifier=\"matplotlib_view_widget\") # Dock\n",
    "dDisplayItem = active_2d_plot.ui.dynamic_docked_widget_container.find_display_dock(identifier=\"RelativeEntropy\") # Dock\n",
    "dDisplayItem"
   ]
  },
  {
   "cell_type": "code",
   "execution_count": null,
   "id": "99be5320-b281-461e-b3ed-2b7504f24e8b",
   "metadata": {},
   "outputs": [],
   "source": [
    "from pyphoplacecellanalysis.General.Pipeline.Stages.DisplayFunctions.DecoderPredictionError import plot_most_likely_position_comparsions, plot_1D_most_likely_position_comparsions\n",
    "\n",
    "active_decoder = active_one_step_decoder\n",
    "# marginals_x, marginals_y = active_decoder.perform_build_marginals(p_x_given_n=active_decoder.p_x_given_n, most_likely_positions=active_decoder.most_likely_positions)\n",
    "marginals_x = active_decoder.marginal.x\n",
    "\n",
    "## Get the previously created matplotlib_view_widget figure/ax:\n",
    "# active_positions = marginals_x.most_likely_positions_1D\n",
    "active_positions = marginals_x.revised_most_likely_positions_1D\n",
    "fig, curr_ax = plot_1D_most_likely_position_comparsions(sess.position.to_dataframe(), ax=active_2d_plot.ui.matplotlib_view_widget.ax, time_window_centers=active_decoder.time_window_centers, xbin=active_decoder.xbin,\n",
    "                                                   posterior=marginals_x.p_x_given_n,\n",
    "                                                   active_most_likely_positions_1D=active_positions,\n",
    "                                                   enable_flat_line_drawing=False, debug_print=False)\n",
    "active_2d_plot.ui.matplotlib_view_widget.draw()\n",
    "active_2d_plot.sync_matplotlib_render_plot_widget()"
   ]
  },
  {
   "cell_type": "code",
   "execution_count": null,
   "id": "69e00d39-760b-4c3e-bd50-e8aa55df38da",
   "metadata": {},
   "outputs": [],
   "source": [
    "active_2d_plot.ui.matplotlib_view_widget.fig.clear()\n",
    "active_2d_plot.ui.matplotlib_view_widget.draw()"
   ]
  },
  {
   "cell_type": "code",
   "execution_count": null,
   "id": "48fd86a2-3b77-4e1c-a650-ac3af4ac4f80",
   "metadata": {},
   "outputs": [],
   "source": [
    "currFig, currAx = curr_active_pipeline.display('_display_plot_marginal_1D_most_likely_position_comparisons', active_config_name, variable_name='x', posterior_name='p_x_given_n_and_x_prev', ax=active_2d_plot.ui.matplotlib_view_widget.ax) ## Current plot"
   ]
  },
  {
   "cell_type": "code",
   "execution_count": null,
   "id": "159be975-e999-4cb3-baa9-215e169552e5",
   "metadata": {},
   "outputs": [],
   "source": [
    "dDisplayItem = active_2d_plot.ui.dynamic_docked_widget_container.find_display_dock(identifier=\"matplotlib_view_widget\") # Dock\n",
    "# dDisplayItem.setOrientation('vertical', force=True)\n",
    "# dDisplayItem.setOrientation('horizontal', force=True)\n",
    "# dDisplayItem.updateStyle()\n",
    "# dDisplayItem.update()\n",
    "dDisplayItem"
   ]
  },
  {
   "cell_type": "code",
   "execution_count": null,
   "id": "2f79e786-01e9-471d-8323-ba0d9d1c061b",
   "metadata": {},
   "outputs": [],
   "source": [
    "## THE CORE WORKING VERSION - 2022-09-27 @ 4pm\n",
    "\n",
    "from pyphoplacecellanalysis.General.Pipeline.Stages.DisplayFunctions.DecoderPredictionError import plot_most_likely_position_comparsions, plot_1D_most_likely_position_comparsions\n",
    "\n",
    "## Test Plotting just a single dimension of the 2D posterior:\n",
    "pho_custom_decoder = active_one_step_decoder # active_pf_2D\n",
    "# pho_custom_decoder = new_2D_decoder\n",
    "active_posterior = pho_custom_decoder.p_x_given_n\n",
    "# Collapse the 2D position posterior into two separate 1D (X & Y) marginal posteriors. Be sure to re-normalize each marginal after summing\n",
    "marginal_posterior_x = np.squeeze(np.sum(active_posterior, 1)) # sum over all y. Result should be [x_bins x time_bins]\n",
    "marginal_posterior_x = marginal_posterior_x / np.sum(marginal_posterior_x, axis=0) # sum over all positions for each time_bin (so there's a normalized distribution at each timestep)\n",
    "# np.shape(marginal_posterior_x) # (41, 3464)\n",
    "custom_2D_decoder_container = PhoUIContainer('active_pf_2D_decoder', figure_id=f'active_pf_2D_decoder_most_likely')\n",
    "# custom_2D_decoder_container.fig, custom_2D_decoder_container.ax = plt.subplots(num=custom_2D_decoder_container.figure_id, ncols=1, nrows=1, figsize=(15,15), clear=True, sharex=True, sharey=False, constrained_layout=True)\n",
    "\n",
    "custom_2D_decoder_container.fig = active_2d_plot.ui.matplotlib_view_widget.getFigure()\n",
    "custom_2D_decoder_container.ax = active_2d_plot.ui.matplotlib_view_widget.ax #getFigure().add_subplot(111)\n",
    "custom_2D_decoder_container.fig.suptitle(custom_2D_decoder_container.name)\n",
    "custom_2D_decoder_container.fig, custom_2D_decoder_container.ax = plot_1D_most_likely_position_comparsions(sess.position.to_dataframe(), ax=custom_2D_decoder_container.ax, time_window_centers=pho_custom_decoder.active_time_window_centers, xbin=pho_custom_decoder.xbin,\n",
    "                                                   posterior=marginal_posterior_x,\n",
    "                                                   active_most_likely_positions_1D=pho_custom_decoder.most_likely_positions[:,0].T,\n",
    "                                                   enable_flat_line_drawing=False, debug_print=False)\n",
    "\n",
    "active_2d_plot.ui.matplotlib_view_widget.draw()"
   ]
  },
  {
   "cell_type": "code",
   "execution_count": null,
   "id": "46c2240d-2421-42be-908d-9c7b85b227ec",
   "metadata": {},
   "outputs": [],
   "source": [
    "active_2d_plot.add_new_matplotlib_render_plot_widget('Custom Decoder')"
   ]
  },
  {
   "cell_type": "code",
   "execution_count": null,
   "id": "37b4e5ab-3f5c-4e08-94b5-7be249ac6992",
   "metadata": {},
   "outputs": [],
   "source": [
    "curr_widget, curr_fig, curr_ax = active_2d_plot.find_matplotlib_render_plot_widget('Custom Decoder')"
   ]
  },
  {
   "cell_type": "markdown",
   "id": "5deb5b60-6325-4ba7-9a2e-13704932cd15",
   "metadata": {
    "tags": []
   },
   "source": [
    "# 🔜✳️ 2022-12-16 - Get 1D one_step_decoder for both short/long\n",
    "Compute the relative entropy between those posteriors and \n",
    "\n",
    "replay sequence activity? but no posterior? \n",
    "There is a posterior computed by the decoder during the replays.\n",
    "\n"
   ]
  },
  {
   "cell_type": "code",
   "execution_count": null,
   "id": "ecbf0975-bf9f-42bc-b0cc-e67933de68c7",
   "metadata": {
    "lines_to_next_cell": 2,
    "tags": [
     "decoder"
    ]
   },
   "outputs": [],
   "source": [
    "from PendingNotebookCode import find_epoch_names\n",
    "\n",
    "long_epoch_name, short_epoch_name, global_epoch_name = find_epoch_names(curr_active_pipeline)\n",
    "long_results, short_results, global_results = [curr_active_pipeline.computation_results[an_epoch_name]['computed_data'] for an_epoch_name in [long_epoch_name, short_epoch_name, global_epoch_name]]\n",
    "\n",
    "recalculate_anyway = False"
   ]
  },
  {
   "cell_type": "code",
   "execution_count": null,
   "id": "f5727e1e-9639-4cbc-a186-3f5f42ebee48",
   "metadata": {
    "lines_to_next_cell": 0,
    "tags": [
     "decoder"
    ]
   },
   "outputs": [],
   "source": [
    "# Make the 1D Placefields and Decoders conform between the long and the short epochs:\n",
    "long_pf1D = long_results.pf1D\n",
    "short_pf1D = short_results.pf1D\n",
    "global_pf1D = global_results.pf1D\n",
    "\n",
    "# short_pf1D, did_update_bins = short_pf1D.conform_to_position_bins(long_pf1D, force_recompute=True) # not needed because it's done in one_step_decoder_1D.conform_to_position_bins(...)\n",
    "long_one_step_decoder_1D, short_one_step_decoder_1D  = [results_data.get('pf1D_Decoder', None) for results_data in (long_results, short_results)]\n",
    "short_one_step_decoder_1D, did_recompute = short_one_step_decoder_1D.conform_to_position_bins(long_one_step_decoder_1D, force_recompute=True)\n",
    "\n",
    "## Build or get the two-step decoders for both the long and short:\n",
    "long_two_step_decoder_1D, short_two_step_decoder_1D  = [results_data.get('pf1D_TwoStepDecoder', None) for results_data in (long_results, short_results)]\n",
    "if recalculate_anyway or did_recompute or (long_two_step_decoder_1D is None) or (short_two_step_decoder_1D is None):\n",
    "    curr_active_pipeline.perform_specific_computation(computation_functions_name_whitelist=['_perform_two_step_position_decoding_computation'], computation_kwargs_list=[dict(ndim=1)], enabled_filter_names=[long_epoch_name, short_epoch_name], fail_on_exception=True, debug_print=True)\n",
    "    long_two_step_decoder_1D, short_two_step_decoder_1D  = [results_data.get('pf1D_TwoStepDecoder', None) for results_data in (long_results, short_results)]\n",
    "    assert (long_two_step_decoder_1D is not None and short_two_step_decoder_1D is not None)\n",
    "\n",
    "decoding_time_bin_size = long_one_step_decoder_1D.time_bin_size # 1.0/30.0 # 0.03333333333333333\n",
    "# decoding_time_bin_size = 0.03 # 0.03333333333333333\n",
    "print(f'decoding_time_bin_size: {decoding_time_bin_size}')"
   ]
  },
  {
   "cell_type": "code",
   "execution_count": null,
   "id": "c06403c3-a0d6-4987-b4ab-4c4db6f51e7a",
   "metadata": {},
   "outputs": [],
   "source": [
    "np.shape(long_one_step_decoder_1D.P_x) # (63, 1)\n",
    "np.shape(long_one_step_decoder_1D.F) # (63, 62)\n",
    "long_one_step_decoder_1D.num_time_windows\n",
    "long_one_step_decoder_1D.ndim\n",
    "np.shape(long_one_step_decoder_1D.neuron_IDs) # (62,)"
   ]
  },
  {
   "cell_type": "code",
   "execution_count": null,
   "id": "57916e85-8866-4487-84c0-b41a841b42f1",
   "metadata": {
    "lines_to_next_cell": 2
   },
   "outputs": [],
   "source": [
    "long_one_step_decoder_1D.debug_dump_print()"
   ]
  },
  {
   "cell_type": "markdown",
   "id": "f9c8cacc-93c2-4909-8267-23ab5db2cfdb",
   "metadata": {
    "incorrectly_encoded_metadata": "jp-MarkdownHeadingCollapsed=true tags=[] jp-MarkdownHeadingCollapsed=true jp-MarkdownHeadingCollapsed=true",
    "lines_to_next_cell": 2,
    "tags": []
   },
   "source": [
    "#### Get 2D Decoders for validation and comparisons:"
   ]
  },
  {
   "cell_type": "code",
   "execution_count": null,
   "id": "52aac64f-3154-418b-b3cc-d244d7f3304d",
   "metadata": {
    "lines_to_next_cell": 2
   },
   "outputs": [],
   "source": [
    "# Make the 2D Placefields and Decoders conform between the long and the short epochs:\n",
    "long_pf2D = long_results.pf2D\n",
    "short_pf2D = short_results.pf2D\n",
    "global_pf2D = global_results.pf2D\n",
    "\n",
    "# long_one_step_decoder_2D, short_one_step_decoder_2D  = [results_data.get('pf2D_Decoder', None) for results_data in (long_results, short_results)]\n",
    "# long_two_step_decoder_2D, short_two_step_decoder_2D  = [results_data.get('pf2D_TwoStepDecoder', None) for results_data in (long_results, short_results)]\n",
    "\n",
    "# short_pf2D, did_update_bins = short_pf2D.conform_to_position_bins(long_pf2D)\n",
    "long_one_step_decoder_2D, short_one_step_decoder_2D  = [results_data.get('pf2D_Decoder', None) for results_data in (long_results, short_results)]\n",
    "short_one_step_decoder_2D, did_recompute = short_one_step_decoder_2D.conform_to_position_bins(long_one_step_decoder_2D)\n",
    "\n",
    "## Build or get the two-step decoders for both the long and short:\n",
    "long_two_step_decoder_2D, short_two_step_decoder_2D  = [results_data.get('pf2D_TwoStepDecoder', None) for results_data in (long_results, short_results)]\n",
    "if recalculate_anyway or did_recompute or (long_two_step_decoder_2D is None) or (short_two_step_decoder_2D is None):\n",
    "    curr_active_pipeline.perform_specific_computation(computation_functions_name_whitelist=['_perform_two_step_position_decoding_computation'], computation_kwargs_list=[dict(ndim=1)], enabled_filter_names=[long_epoch_name, short_epoch_name], fail_on_exception=True, debug_print=True)\n",
    "    long_two_step_decoder_2D, short_two_step_decoder_2D  = [results_data.get('pf2D_TwoStepDecoder', None) for results_data in (long_results, short_results)]\n",
    "    assert (long_two_step_decoder_2D is not None and short_two_step_decoder_2D is not None)"
   ]
  },
  {
   "cell_type": "code",
   "execution_count": null,
   "id": "8a0bca56-451e-4b1e-b33c-0a4b6c1c9917",
   "metadata": {
    "lines_to_next_cell": 2
   },
   "outputs": [],
   "source": [
    "long_pf2D.xbin"
   ]
  },
  {
   "cell_type": "code",
   "execution_count": null,
   "id": "b53bc92c-db25-4dec-9b9b-5baf470a45fa",
   "metadata": {
    "lines_to_next_cell": 2
   },
   "outputs": [],
   "source": [
    "short_pf2D.xbin"
   ]
  },
  {
   "cell_type": "code",
   "execution_count": null,
   "id": "28a81288-3cff-4926-bcf9-15c32eeb5f63",
   "metadata": {
    "lines_to_next_cell": 2
   },
   "outputs": [],
   "source": [
    "long_one_step_decoder_2D.marginal.x.p_x_given_n.shape # .shape # (63, 31182)"
   ]
  },
  {
   "cell_type": "code",
   "execution_count": null,
   "id": "26750d9c-7040-45d9-ade1-03d9113be505",
   "metadata": {
    "lines_to_next_cell": 2
   },
   "outputs": [],
   "source": [
    "long_one_step_decoder_1D.marginal.x.p_x_given_n.shape # (63, 1) THIS IS THE ERROR AGAIN?"
   ]
  },
  {
   "cell_type": "code",
   "execution_count": null,
   "id": "bcd5f86c-dab5-4c4a-aeb4-e13563eb0670",
   "metadata": {
    "lines_to_next_cell": 2
   },
   "outputs": [],
   "source": [
    "long_one_step_decoder_1D.p_x_given_n.shape # (63, 31182)"
   ]
  },
  {
   "cell_type": "code",
   "execution_count": null,
   "id": "40ff1087-74cc-4c2e-87a4-3007d3b90e5d",
   "metadata": {
    "lines_to_next_cell": 2
   },
   "outputs": [],
   "source": [
    "long_one_step_decoder_1D.p_x_given_n"
   ]
  },
  {
   "cell_type": "code",
   "execution_count": null,
   "id": "c0311bd0-51cb-465e-a09b-956f1b8084a3",
   "metadata": {
    "lines_to_next_cell": 2
   },
   "outputs": [],
   "source": [
    "long_one_step_decoder_2D.marginal.x.most_likely_positions_1D.shape"
   ]
  },
  {
   "cell_type": "code",
   "execution_count": null,
   "id": "0217ab56-fdfe-4da9-9c54-723f5b13a210",
   "metadata": {
    "lines_to_next_cell": 2
   },
   "outputs": [],
   "source": [
    "long_one_step_decoder_1D.most_likely_positions.shape"
   ]
  },
  {
   "cell_type": "code",
   "execution_count": null,
   "id": "97421324-810c-4d54-9d53-01a310a71a4b",
   "metadata": {
    "lines_to_next_cell": 2
   },
   "outputs": [],
   "source": [
    "long_one_step_decoder_2D.most_likely_position_flat_indicies.shape"
   ]
  },
  {
   "cell_type": "code",
   "execution_count": null,
   "id": "f6a3f366-2d30-43aa-8705-8d8179dec628",
   "metadata": {
    "lines_to_next_cell": 2
   },
   "outputs": [],
   "source": [
    "# 1D ranges from (-81.3368451302749, 154.59901609304995) but 2D from (22.441708698961214, 258.3775699222863)\n",
    "print(f'{long_one_step_decoder_2D.most_likely_positions[:,0].min() = },\\t {long_one_step_decoder_2D.most_likely_positions[:,0].max() = }')\n",
    "print(f'{long_one_step_decoder_1D.most_likely_positions.min()  = },\\t {long_one_step_decoder_1D.most_likely_positions.max() = }')"
   ]
  },
  {
   "cell_type": "code",
   "execution_count": null,
   "id": "28971bca-ae11-4246-b7ca-03f18ebbda32",
   "metadata": {
    "lines_to_next_cell": 2
   },
   "outputs": [],
   "source": [
    "long_one_step_decoder_2D.xbin"
   ]
  },
  {
   "cell_type": "code",
   "execution_count": null,
   "id": "35e1e19a-7e09-455e-beca-235e9ae5a6c5",
   "metadata": {
    "lines_to_next_cell": 2
   },
   "outputs": [],
   "source": [
    "long_one_step_decoder_1D.xbin"
   ]
  },
  {
   "cell_type": "code",
   "execution_count": null,
   "id": "19847b0e-adeb-4c22-a8d9-d490be3ad076",
   "metadata": {
    "lines_to_next_cell": 2
   },
   "outputs": [],
   "source": [
    "long_one_step_decoder_2D.xbin_centers"
   ]
  },
  {
   "cell_type": "code",
   "execution_count": null,
   "id": "dc8b8157-cf45-46ef-87de-b5d885cc1692",
   "metadata": {
    "lines_to_next_cell": 2
   },
   "outputs": [],
   "source": [
    "long_one_step_decoder_1D.xbin_centers"
   ]
  },
  {
   "cell_type": "code",
   "execution_count": null,
   "id": "0204e4aa-f0b4-4f27-9364-72e0fe510c69",
   "metadata": {
    "lines_to_next_cell": 2
   },
   "outputs": [],
   "source": [
    "# Sums are similar:\n",
    "print(f'{np.sum(long_one_step_decoder_2D.marginal.x.p_x_given_n) =},\\t {np.sum(long_one_step_decoder_1D.p_x_given_n) = }') # 31181.999999999996 vs 31181.99999999999"
   ]
  },
  {
   "cell_type": "code",
   "execution_count": null,
   "id": "d3baa34a-a048-46c4-b8c2-4692344d8caa",
   "metadata": {
    "lines_to_next_cell": 2
   },
   "outputs": [],
   "source": [
    "## Validate:\n",
    "assert long_one_step_decoder_2D.marginal.x.p_x_given_n.shape == long_one_step_decoder_1D.p_x_given_n.shape, f\"Must equal but: {long_one_step_decoder_2D.marginal.x.p_x_given_n.shape =} and {long_one_step_decoder_1D.p_x_given_n.shape =}\"\n",
    "assert long_one_step_decoder_2D.marginal.x.most_likely_positions_1D.shape == long_one_step_decoder_1D.most_likely_positions.shape, f\"Must equal but: {long_one_step_decoder_2D.marginal.x.most_likely_positions_1D.shape =} and {long_one_step_decoder_1D.most_likely_positions.shape =}\""
   ]
  },
  {
   "cell_type": "code",
   "execution_count": null,
   "id": "273fc802-6e85-4ac4-9a1d-f76b0e3c07a5",
   "metadata": {
    "lines_to_next_cell": 2
   },
   "outputs": [],
   "source": [
    "## validate values:\n",
    "assert np.allclose(long_one_step_decoder_2D.marginal.x.p_x_given_n, long_one_step_decoder_1D.p_x_given_n), f\"1D Decoder should have an x-posterior equal to its own posterior\""
   ]
  },
  {
   "cell_type": "code",
   "execution_count": null,
   "id": "4c67d16c-ce6c-41f6-9e52-e604e5572d43",
   "metadata": {},
   "outputs": [],
   "source": [
    "assert np.allclose(curr_epoch_result['marginal_x']['most_likely_positions_1D'], curr_epoch_result['most_likely_positions']), f\"1D Decoder should have an x-posterior with most_likely_positions_1D equal to its own most_likely_positions\"\n",
    "curr_epoch_result"
   ]
  },
  {
   "cell_type": "markdown",
   "id": "21afa6fc",
   "metadata": {
    "incorrectly_encoded_metadata": "tags=[] jp-MarkdownHeadingCollapsed=true",
    "tags": []
   },
   "source": [
    "# Use the two-step decoder to decode the replay events:"
   ]
  },
  {
   "cell_type": "code",
   "execution_count": null,
   "id": "b5926295-9a97-4abb-8c83-b3a67f4c9810",
   "metadata": {
    "lines_to_next_cell": 0
   },
   "outputs": [],
   "source": [
    "curr_active_pipeline.display('_display_plot_decoded_epoch_slices', active_session_configuration_context=curr_active_pipeline.filtered_contexts[long_epoch_name], filter_epochs='replay', decoding_time_bin_size=decoding_time_bin_size, decoder_ndim=2);\n",
    "config_name = long_epoch_name\n",
    "computation_result = curr_active_pipeline.computation_results[config_name]\n",
    "filter_epochs_decoder_result, active_filter_epochs, default_figure_name = computation_result.computed_data['specific_epochs_decoding'][('replay', 0.03333, 2)]\n",
    "if isinstance(active_filter_epochs, pd.DataFrame):\n",
    "    n_epochs = np.shape(active_filter_epochs)[0]\n",
    "else:\n",
    "    n_epochs = active_filter_epochs.n_epochs\n",
    "print(f'{n_epochs = }')\n",
    "filter_epochs_decoder_result.most_likely_position_indicies_list[0,:]"
   ]
  },
  {
   "cell_type": "code",
   "execution_count": null,
   "id": "a98e3df5-148a-4eb1-8cfd-e98908c05b22",
   "metadata": {
    "lines_to_next_cell": 0
   },
   "outputs": [],
   "source": [
    "# unwrap for a given epoch\n",
    "filter_epochs_decoder_result_epoch_lists = {a_key:a_list_variable for a_key, a_list_variable in filter_epochs_decoder_result.items() if not np.isscalar(a_list_variable)}\n",
    "filter_epochs_decoder_result_epoch_unwrapped_items = [{a_key.removesuffix('_list'):a_list_variable[an_epoch_idx] for a_key, a_list_variable in filter_epochs_decoder_result_epoch_lists.items()} for an_epoch_idx in np.arange(filter_epochs_decoder_result.num_filter_epochs)] # make separate dict for each epoch\n",
    "\n",
    "# curr_epoch_result = [filter_epochs_decoder_result_epoch_unwrapped_items[epoch_idx]['most_likely_position_indicies'][0,:] for epoch_idx in np.arange(n_epochs)]\n",
    "\n",
    "# marginal_x_max_likelihoods = np.array([np.max(filter_epochs_decoder_result_epoch_unwrapped_items[epoch_idx]['marginal_x']['p_x_given_n'], axis=1) for epoch_idx in np.arange(n_epochs)]) # get the maximum likelihood of the most-likely decoded position to determine how confident we are about the decoding.\n",
    "marginal_x_max_likelihoods = [np.max(filter_epochs_decoder_result_epoch_unwrapped_items[epoch_idx]['marginal_x']['p_x_given_n'], axis=1) for epoch_idx in np.arange(n_epochs)] # get the maximum likelihood of the most-likely decoded position to determine how confident we are about the decoding.\n",
    "# print(f'{marginal_x_max_likelihoods.shape = }') # (307, 64)\n",
    "marginal_x_max_likelihoods\n",
    "# ## Validate:\n",
    "# assert np.allclose(curr_epoch_result['marginal_x']['p_x_given_n'], curr_epoch_result['p_x_given_n']), f\"1D Decoder should have an x-posterior equal to its own posterior\"\n",
    "# assert np.allclose(curr_epoch_result['marginal_x']['most_likely_positions_1D'], curr_epoch_result['most_likely_positions']), f\"1D Decoder should have an x-posterior with most_likely_positions_1D equal to its own most_likely_positions\"\n",
    "# curr_epoch_result"
   ]
  },
  {
   "cell_type": "code",
   "execution_count": null,
   "id": "98dea33c-2e08-4fad-8a42-2a2b6442b8ca",
   "metadata": {
    "lines_to_next_cell": 0
   },
   "outputs": [],
   "source": [
    "filter_epochs_decoder_result.most_likely_positions_list"
   ]
  },
  {
   "cell_type": "code",
   "execution_count": null,
   "id": "1cf7877b-e99a-4b4a-b2ed-99aa3b987426",
   "metadata": {},
   "outputs": [],
   "source": [
    "%matplotlib qt\n",
    "import matplotlib as mpl\n",
    "import matplotlib.pyplot as plt\n",
    "from pyphocorehelpers.plotting.figure_management import PhoActiveFigureManager2D\n",
    "from neuropy.core.neuron_identities import PlotStringBrevityModeEnum\n",
    "from neuropy.plotting.figure import Fig\n",
    "from neuropy.plotting.ratemaps import plot_ratemap_1D\n",
    "from pyphoplacecellanalysis.General.Pipeline.Stages.DisplayFunctions.DecoderPredictionError import plot_decoded_epoch_slices\n",
    "from neuropy.utils.matplotlib_helpers import plot_overlapping_epoch_analysis_diagnoser\n",
    "\n",
    "from neuropy.core.epoch import EpochsAccessor, Epoch\n",
    "from pyphoplacecellanalysis.General.Pipeline.Stages.ComputationFunctions.DefaultComputationFunctions import DefaultComputationFunctions"
   ]
  },
  {
   "cell_type": "code",
   "execution_count": null,
   "id": "1b845192-6c5d-4bfe-bbeb-13d84f45f909",
   "metadata": {},
   "outputs": [],
   "source": [
    "# fig, out_axes_list = plot_overlapping_epoch_analysis_diagnoser(sess.position, curr_active_pipeline.sess.laps.as_epoch_obj())\n",
    "fig, out_axes_list = plot_overlapping_epoch_analysis_diagnoser(sess.position, curr_active_pipeline.sess.ripple)"
   ]
  },
  {
   "cell_type": "code",
   "execution_count": null,
   "id": "68296ebc-84d3-43a3-a6ad-e4eda6f96782",
   "metadata": {
    "lines_to_next_cell": 0
   },
   "outputs": [],
   "source": [
    "config_name = 'maze1'\n",
    "# config_name = 'maze2'\n",
    "\n",
    "computation_result = curr_active_pipeline.computation_results[config_name]\n",
    "computation_result = DefaultComputationFunctions._perform_specific_epochs_decoding(computation_result, curr_active_pipeline.active_configs[config_name], filter_epochs='ripple', decoding_time_bin_size=decoding_time_bin_size, decoder_ndim=1);\n",
    "# filter_epochs_decoder_result, active_filter_epochs, default_figure_name = computation_result.computed_data['specific_epochs_decoding'][('Ripples', decoding_time_bin_size)]\n",
    "# curr_active_pipeline.display('_display_plot_decoded_epoch_slices', active_session_configuration_context=curr_active_pipeline.filtered_contexts[config_name], filter_epochs='lap', decoding_time_bin_size=decoding_time_bin_size, force_recompute=True, decoder_ndim=1);"
   ]
  },
  {
   "cell_type": "code",
   "execution_count": null,
   "id": "330a6bbc-e236-4e4e-ab26-589e75ed3398",
   "metadata": {
    "lines_to_next_cell": 0
   },
   "outputs": [],
   "source": [
    "epochs_df = curr_active_pipeline.sess.replay.epochs.get_valid_df()\n",
    "epochs_df\n",
    "epochs_df = curr_active_pipeline.sess.replay.epochs.get_non_overlapping_df()\n",
    "epochs_df\n",
    "min_epoch_included_duration = decoding_time_bin_size * float(2) # 0.06666\n",
    "min_epoch_included_duration = 0.06666\n",
    "min_epoch_included_duration\n",
    "curr_active_pipeline.reload_default_display_functions()\n",
    "epochs_df[epochs_df.duration >= min_epoch_included_duration] # drop those epochs which are less than two decoding time bins\n",
    "epochs_df.duration.min()\n",
    "epochs_df.duration.max()\n",
    "epochs_df.shape # (54, 9)\n",
    "%pdb off\n",
    "('lap', 0.03333, 1)\n",
    "curr_active_pipeline.display('_display_plot_decoded_epoch_slices', active_session_configuration_context=curr_active_pipeline.filtered_contexts[config_name], filter_epochs='lap', decoding_time_bin_size=decoding_time_bin_size, decoder_ndim=1);\n",
    "epochs_df = curr_active_pipeline.sess.replay.epochs.get_valid_df()\n",
    "epochs_df\n",
    "epochs_df = curr_active_pipeline.sess.ripple.to_dataframe().epochs.get_valid_df()\n",
    "epochs_df\n",
    "epochs_df = curr_active_pipeline.sess.pbe.to_dataframe().epochs.get_valid_df()\n",
    "epochs_df\n",
    "epochs_df = curr_active_pipeline.sess.pbe.to_dataframe().epochs.get_valid_df()\n",
    "epochs_df\n",
    "computation_result = DefaultComputationFunctions._perform_specific_epochs_decoding(computation_result, curr_active_pipeline.active_configs[config_name], filter_epochs='replays', decoding_time_bin_size=decoding_time_bin_size, decoder_ndim=1)\n",
    "filter_epochs_decoder_result, active_filter_epochs, default_figure_name = computation_result.computed_data['specific_epochs_decoding'][('Replays', decoding_time_bin_size)]"
   ]
  },
  {
   "cell_type": "code",
   "execution_count": null,
   "id": "1b110193-6424-4343-9d6b-da1688d23b85",
   "metadata": {
    "lines_to_next_cell": 0
   },
   "outputs": [],
   "source": [
    "## Perform a decoding for the specific epoch types\n",
    "computation_result = DefaultComputationFunctions._perform_specific_epochs_decoding(computation_result, curr_active_pipeline.active_configs[config_name], filter_epochs='lap', decoding_time_bin_size=decoding_time_bin_size, decoder_ndim=2)\n",
    "filter_epochs_decoder_result, active_filter_epochs, default_figure_name = computation_result.computed_data['specific_epochs_decoding'][('Laps', decoding_time_bin_size)]\n",
    "n_epochs = active_filter_epochs.n_epochs\n",
    "print(f'{n_epochs = }')\n",
    "\n",
    "# unwrap for a given epoch\n",
    "filter_epochs_decoder_result_epoch_lists = {a_key:a_list_variable for a_key, a_list_variable in filter_epochs_decoder_result.items() if not np.isscalar(a_list_variable)}\n",
    "filter_epochs_decoder_result_epoch_unwrapped_items = [{a_key.removesuffix('_list'):a_list_variable[an_epoch_idx] for a_key, a_list_variable in filter_epochs_decoder_result_epoch_lists.items()} for an_epoch_idx in np.arange(filter_epochs_decoder_result.num_filter_epochs)] # make separate dict for each epoch"
   ]
  },
  {
   "cell_type": "code",
   "execution_count": null,
   "id": "0c56864e-2ef5-4b56-8c50-2dee8016c940",
   "metadata": {},
   "outputs": [],
   "source": [
    "## Works to show the stacked decoded epochs plot!!\n",
    "if not isinstance(active_filter_epochs, pd.DataFrame):\n",
    "    active_filter_epochs = active_filter_epochs.to_dataframe()\n",
    "# filter_epochs.columns # ['epoch_id', 'rel_id', 'start', 'end', 'replay_r', 'replay_p', 'template_id', 'flat_replay_idx', 'duration']\n",
    "if not 'stop' in active_filter_epochs.columns:\n",
    "    # Make sure it has the 'stop' column which is expected as opposed to the 'end' column\n",
    "    active_filter_epochs['stop'] = active_filter_epochs['end'].copy()\n",
    "## Actual plotting portion:\n",
    "# Workaround Requirements:\n",
    "active_decoder = computation_result.computed_data['pf1D_Decoder']\n",
    "# active_decoder = computation_result.computed_data['pf2D_Decoder']\n",
    "out_plot_tuple = plot_decoded_epoch_slices(active_filter_epochs, filter_epochs_decoder_result, global_pos_df=computation_result.sess.position.to_dataframe(), xbin=active_decoder.xbin,\n",
    "                                                        **{'name':default_figure_name, 'debug_test_max_num_slices':1024, 'enable_flat_line_drawing':False, 'debug_print': False})\n",
    "params, plots_data, plots, ui = out_plot_tuple\n",
    "\n",
    "ui.mw.setWindowTitle(default_figure_name)"
   ]
  },
  {
   "cell_type": "code",
   "execution_count": null,
   "id": "7d71960f-5de1-4765-83ad-7b96961187aa",
   "metadata": {},
   "outputs": [],
   "source": [
    "epoch_idx = 14 # show the epoch at index 0\n",
    "curr_epoch_result = filter_epochs_decoder_result_epoch_unwrapped_items[epoch_idx]\n",
    "## Validate:\n",
    "# assert np.allclose(curr_epoch_result['marginal_x']['p_x_given_n'], curr_epoch_result['p_x_given_n']), f\"1D Decoder should have an x-posterior equal to its own posterior\"\n",
    "# assert np.allclose(curr_epoch_result['marginal_x']['most_likely_positions_1D'], curr_epoch_result['most_likely_positions']), f\"1D Decoder should have an x-posterior with most_likely_positions_1D equal to its own most_likely_positions\"\n",
    "curr_epoch_result\n",
    "# filter_epochs_decoder_result: holds several lists of equal length\n",
    "print(list(filter_epochs_decoder_result.keys()))\n",
    "# filter_epochs_decoder_result: a container holding several lists with an item for each filter_epoch:\n",
    "# i = None # show the root list\n",
    "i = 0 # show the epoch at index 0\n",
    "for a_key, a_list_variable in filter_epochs_decoder_result.items():\n",
    "    if not np.isscalar(a_list_variable):\n",
    "        if i is not None:\n",
    "            a_list_variable = a_list_variable[i]\n",
    "        if isinstance(a_list_variable, (list, tuple)):\n",
    "            print(f'{a_key}: len:\\t {len(a_list_variable)}')\n",
    "        else:\n",
    "            print(f'{a_key}: shape:\\t {np.shape(a_list_variable)}')"
   ]
  },
  {
   "cell_type": "code",
   "execution_count": null,
   "id": "b175508c-2a88-48d6-85f2-b53ca9217f7d",
   "metadata": {},
   "outputs": [],
   "source": [
    "active_decoder.most_likely_positions.shape # (21209,) this seems wrong, isn't there supposed to be one at each timestep?"
   ]
  },
  {
   "cell_type": "code",
   "execution_count": null,
   "id": "44a0bcf9-fbd4-487b-8610-51bc049e98d8",
   "metadata": {},
   "outputs": [],
   "source": [
    "active_decoder.debug_dump_print()"
   ]
  },
  {
   "cell_type": "code",
   "execution_count": null,
   "id": "5cea6d5f-c4e6-4300-af4d-f76ca985e1bc",
   "metadata": {},
   "outputs": [],
   "source": [
    "active_decoder.marginal.x.p_x_given_n.shape"
   ]
  },
  {
   "cell_type": "code",
   "execution_count": null,
   "id": "a4e7c97a-6c39-4343-80cc-84514f7223f5",
   "metadata": {},
   "outputs": [],
   "source": [
    "active_decoder.marginal.x.most_likely_positions_1D"
   ]
  },
  {
   "cell_type": "code",
   "execution_count": null,
   "id": "8ed46e78-3c2b-46b6-a8f4-5b6e2290a279",
   "metadata": {},
   "outputs": [],
   "source": [
    "curr_marginal_x = filter_epochs_decoder_result.marginal_x_list[i]\n",
    "curr_marginal_x"
   ]
  },
  {
   "cell_type": "code",
   "execution_count": null,
   "id": "39949e5b-6ab0-4902-938a-a46ac4408309",
   "metadata": {},
   "outputs": [],
   "source": [
    "curr_p_x_given_n = filter_epochs_decoder_result.p_x_given_n_list[i]\n",
    "curr_p_x_given_n.shape"
   ]
  },
  {
   "cell_type": "code",
   "execution_count": null,
   "id": "7ea8058a-d9a2-4a75-9de8-a6a3af0e690a",
   "metadata": {
    "lines_to_next_cell": 0
   },
   "outputs": [],
   "source": [
    "from scipy import stats\n",
    "u = [0.5,0.2,0.3]\n",
    "v = [0.5,0.3,0.2]\n",
    "\n",
    "# create and array with cardinality 3 (your metric space is 3-dimensional and\n",
    "# where distance between each pair of adjacent elements is 1\n",
    "dists = [i for i in range(len(w1))]\n",
    "\n",
    "stats.wasserstein_distance(dists, dists, u, v)"
   ]
  },
  {
   "cell_type": "code",
   "execution_count": null,
   "id": "09f3a726-cc49-46e5-a716-f18f71ee384d",
   "metadata": {},
   "outputs": [],
   "source": [
    "# p_x_given_n.shape # (63, 12100)"
   ]
  },
  {
   "cell_type": "code",
   "execution_count": null,
   "id": "e61ef541-8b60-4592-9931-a9bba0204aed",
   "metadata": {},
   "outputs": [],
   "source": [
    "long_one_step_decoder_1D.p_x_given_n.shape # .shape: (63, 12100)"
   ]
  },
  {
   "cell_type": "code",
   "execution_count": null,
   "id": "ae5485d4-ff5a-4a58-b36a-35e60d75c352",
   "metadata": {},
   "outputs": [],
   "source": [
    "short_one_step_decoder_1D.p_x_given_n.shape # .shape: (40, 8659)"
   ]
  },
  {
   "cell_type": "markdown",
   "id": "84b60802-7848-47b2-9ec8-630a72a40134",
   "metadata": {
    "incorrectly_encoded_metadata": "jp-MarkdownHeadingCollapsed=true tags=[] jp-MarkdownHeadingCollapsed=true"
   },
   "source": [
    "# Compute Kayla's suggested \"confidence\" metric regarding the decoded positions from the 2D x posteriors"
   ]
  },
  {
   "cell_type": "code",
   "execution_count": null,
   "id": "a234ef0c-ee3d-4b94-90ab-30cfb637212e",
   "metadata": {},
   "outputs": [],
   "source": [
    "long_one_step_decoder_2D.marginal.x.p_x_given_n.shape # (64, 37172)\n",
    "# Get the most probable position and the bins to either side of it"
   ]
  },
  {
   "cell_type": "code",
   "execution_count": null,
   "id": "fefe55f2-6d88-4781-bf55-44cd8f2a9339",
   "metadata": {},
   "outputs": [],
   "source": [
    "long_one_step_decoder_2D.marginal.x.two_step_most_likely_positions_1D.shape # (37172,)"
   ]
  },
  {
   "cell_type": "code",
   "execution_count": null,
   "id": "68221d58-2fed-4c56-b7bd-2a7d776fe84f",
   "metadata": {},
   "outputs": [],
   "source": [
    "long_one_step_decoder_2D.most_likely_position_flat_indicies"
   ]
  },
  {
   "cell_type": "markdown",
   "id": "a21b9dae-425c-46b3-bed8-4412a2a2271b",
   "metadata": {
    "incorrectly_encoded_metadata": "jp-MarkdownHeadingCollapsed=true tags=[] jp-MarkdownHeadingCollapsed=true"
   },
   "source": [
    "# NEXT 2022-12-20:\n",
    "- [X] TODO: Need to convert `_subfn_compute_decoded_epochs` to work with 1D. Currently hardcoded to use active_decoder = computation_result.computed_data['pf2D_Decoder']\n",
    "    https://github.com/CommanderPho/pyPhoPlaceCellAnalysis/blob/master/src/pyphoplacecellanalysis/General/Pipeline/Stages/ComputationFunctions/DefaultComputationFunctions.py#L398\n",
    "    \n",
    "- [ ] Look at Theta Idea in separate notebook\n",
    "See:\n",
    "- [X] TODO 2022-12-20 - Get Dropping overlapping epochs (both literal duplicates and overlapping) working reliably:\n",
    "- [ ] TODO: get visual/interactive helper working (it's in the matplotlib_helpers):\n",
    "        `plot_overlapping_epoch_analysis_diagnoser`\n",
    "- [X] TODO: finish `KnownFilterEpochs`"
   ]
  },
  {
   "cell_type": "markdown",
   "id": "1529e2c1-af19-416d-a21e-8ca800079931",
   "metadata": {},
   "source": [
    "- [ ] TODO: debug why 1D outputs completely fail to match the actual animal's plotted position. Are they just inverted or something?\n",
    "    - pretty sure it's 'lin_pos' vs. 'x' in the position dataframe"
   ]
  },
  {
   "attachments": {
    "5533ad6e-3817-46c9-b530-f498fd94be05.png": {
     "image/png": "[encoded data removed]"
    },
    "95a4211c-a02f-4735-8fd6-8d37e6c19e4a.png": {
     "image/png": "[encoded data removed]"
    }
   },
   "cell_type": "markdown",
   "id": "16d95bab-04c5-41f8-a861-242765c7a53f",
   "metadata": {},
   "source": [
    "![python_wptgOJmtDI.png](attachment:95a4211c-a02f-4735-8fd6-8d37e6c19e4a.png)\n",
    "![python_uGZXim3aru.png](attachment:5533ad6e-3817-46c9-b530-f498fd94be05.png)\n",
    "\n",
    "2D is left, 1D is right. Both for 'maze1' so it's not a re-binning issue."
   ]
  },
  {
   "cell_type": "code",
   "execution_count": null,
   "id": "c593ecc0-fc08-4242-9598-8ff063f4d3af",
   "metadata": {
    "lines_to_next_cell": 0
   },
   "outputs": [],
   "source": [
    "# Let $x$ be the position\n",
    "#\n",
    "# https://notesonai.com/KL+Divergence\n",
    "# https://observablehq.com/@stwind/forward-and-reverse-kl-divergences\n",
    "# https://notesonai.com/Maximum+Likelihood+Estimation\n",
    "#\n",
    "# Alternative Measures:\n",
    "#     https://notesonai.com/Jensen%E2%80%93Shannon+Divergence - overcomes becoming infinity when the distributions don't overlap\n",
    "#\n",
    "# https://stats.stackexchange.com/questions/188903/intuition-on-the-kullback-leibler-kl-divergence\n",
    "# https://blogs.rstudio.com/ai/posts/2020-02-19-kl-divergence/\n",
    "# https://www.linkedin.com/pulse/kl-divergence-some-interesting-facts-niraj-kumar\n",
    "#\n",
    "# - [ ] Try Wasserstein distance: https://stats.stackexchange.com/questions/351947/whats-the-maximum-value-of-kullback-leibler-kl-divergence/352008#352008\n",
    "#"
   ]
  },
  {
   "attachments": {
    "a0eece65-37ef-4023-a717-c91b6f5e467f.png": {
     "image/png": "[encoded data removed]"
    }
   },
   "cell_type": "markdown",
   "id": "e3a07c9d-bbfa-4e00-802c-6c531df55b00",
   "metadata": {
    "lines_to_next_cell": 2,
    "tags": []
   },
   "source": [
    "# 🔝 2022-12-21 - For Tomorrow\n",
    "- [ ] Got decoded replays for each respective epoch, but now need to decode the opposite epoch's replays to see how much better/worse they are. \n",
    "![python_tEnURoUa4v.png](attachment:a0eece65-37ef-4023-a717-c91b6f5e467f.png)"
   ]
  },
  {
   "cell_type": "markdown",
   "id": "7ae37bc7-aa7e-49bb-9484-6ef6a36644b5",
   "metadata": {
    "lines_to_next_cell": 2
   },
   "source": [
    "## we need to finish DA computations for DA other epoch. DECODE ON FUTURE MAYNE."
   ]
  },
  {
   "cell_type": "code",
   "execution_count": null,
   "id": "cca66eef-83a1-4ce4-b5f7-fc9841a266fd",
   "metadata": {
    "lines_to_next_cell": 2,
    "tags": [
     "decoder"
    ]
   },
   "outputs": [],
   "source": [
    "from PendingNotebookCode import find_epoch_names\n",
    "\n",
    "long_epoch_name, short_epoch_name, global_epoch_name = find_epoch_names(curr_active_pipeline)\n",
    "long_results, short_results, global_results = [curr_active_pipeline.computation_results[an_epoch_name]['computed_data'] for an_epoch_name in [long_epoch_name, short_epoch_name, global_epoch_name]]\n",
    "long_session, short_session, global_session = [curr_active_pipeline.filtered_sessions[an_epoch_name] for an_epoch_name in [long_epoch_name, short_epoch_name, global_epoch_name]]\n",
    "long_replay_df, short_replay_df, global_replay_df = [a_session.replay.epochs.get_non_overlapping_df(debug_print=True).epochs.get_epochs_longer_than(decoding_time_bin_size*2.0, debug_print=True) for a_session in [long_session, short_session, global_session]]"
   ]
  },
  {
   "cell_type": "code",
   "execution_count": null,
   "id": "821a3780-2f3b-4341-aa2e-252a6a19168b",
   "metadata": {
    "lines_to_next_cell": 2
   },
   "outputs": [],
   "source": [
    "curr_active_pipeline.sess.epochs"
   ]
  },
  {
   "cell_type": "code",
   "execution_count": null,
   "id": "ed76a310-c2fb-42c7-8244-03b202f0103b",
   "metadata": {
    "lines_to_next_cell": 2
   },
   "outputs": [],
   "source": [
    "curr_active_pipeline.sess.replay"
   ]
  },
  {
   "cell_type": "code",
   "execution_count": null,
   "id": "e86abc64-1a3b-4740-9ee0-2c28eb4bff0c",
   "metadata": {
    "lines_to_next_cell": 2
   },
   "outputs": [],
   "source": [
    "long_replay_df"
   ]
  },
  {
   "cell_type": "code",
   "execution_count": null,
   "id": "f8ca9350-ad43-444e-8ad4-243d3ba10aa5",
   "metadata": {
    "lines_to_next_cell": 2,
    "tags": [
     "decoder"
    ]
   },
   "outputs": [],
   "source": [
    "## Decode on the replays of the opposite epoch:\n",
    "long_decoding_of_short_epochs_results = long_one_step_decoder_1D.decode_specific_epochs(spikes_df=global_pf1D.filtered_spikes_df, filter_epochs=short_replay_df, decoding_time_bin_size=decoding_time_bin_size)\n",
    "short_decoding_of_long_epochs_results = short_one_step_decoder_1D.decode_specific_epochs(spikes_df=global_pf1D.filtered_spikes_df, filter_epochs=long_replay_df, decoding_time_bin_size=decoding_time_bin_size)\n",
    "## Decode on congruent epoch:\n",
    "long_decoding_of_long_epochs_results = long_one_step_decoder_1D.decode_specific_epochs(spikes_df=global_pf1D.filtered_spikes_df, filter_epochs=long_replay_df, decoding_time_bin_size=decoding_time_bin_size)\n",
    "short_decoding_of_short_epochs_results = short_one_step_decoder_1D.decode_specific_epochs(spikes_df=global_pf1D.filtered_spikes_df, filter_epochs=short_replay_df, decoding_time_bin_size=decoding_time_bin_size)"
   ]
  },
  {
   "cell_type": "code",
   "execution_count": null,
   "id": "b57035fd-b09b-4f26-b00b-229adcea0d7f",
   "metadata": {},
   "outputs": [],
   "source": [
    "from PendingNotebookCode import _compute_epoch_posterior_confidences\n",
    "## Opposite:\n",
    "long_decoding_of_short_epochs_results = _compute_epoch_posterior_confidences(long_decoding_of_short_epochs_results)\n",
    "short_decoding_of_long_epochs_results = _compute_epoch_posterior_confidences(short_decoding_of_long_epochs_results)\n",
    "## Congruent:\n",
    "long_decoding_of_long_epochs_results = _compute_epoch_posterior_confidences(long_decoding_of_long_epochs_results)\n",
    "short_decoding_of_short_epochs_results = _compute_epoch_posterior_confidences(short_decoding_of_short_epochs_results)"
   ]
  },
  {
   "cell_type": "code",
   "execution_count": null,
   "id": "00de85b7-8793-48d2-b996-005bebb89baa",
   "metadata": {
    "lines_to_next_cell": 2
   },
   "outputs": [],
   "source": [
    "# Self (long-long and short-short) confidence calculations:\n",
    "# These posteriors are decoded over the entire epoch time, not just during replays:\n",
    "# also: reciprocal measure: `posterior_uncertainty_measure = 1.0/posterior_uncertainty_measure` so by dividing by this value gives you a value in the range (+Inf, 1.0)\n",
    "short_posterior_uncertainty_measure = np.max(short_one_step_decoder_1D.p_x_given_n, axis=0) # each value will be between (0.0, 1.0]\n",
    "assert short_posterior_uncertainty_measure.shape == (short_one_step_decoder_1D.num_time_windows, ), f\"{short_posterior_uncertainty_measure.shape = } must be of shape {(short_one_step_decoder_1D.num_time_windows, ) = }\"\n",
    "long_posterior_uncertainty_measure = np.max(long_one_step_decoder_1D.p_x_given_n, axis=0) # each value will be between (0.0, 1.0]\n",
    "assert long_posterior_uncertainty_measure.shape == (long_one_step_decoder_1D.num_time_windows, ), f\"{long_posterior_uncertainty_measure.shape = } must be of shape {(long_one_step_decoder_1D.num_time_windows, ) = }\""
   ]
  },
  {
   "cell_type": "code",
   "execution_count": null,
   "id": "530ec3f5-d5d7-4cf9-8d62-69bba1f24438",
   "metadata": {},
   "outputs": [],
   "source": [
    "# Set the overflow property to scroll\n",
    "long_replay_df.style.set_properties(overflow='scroll', max_height='200px')"
   ]
  },
  {
   "cell_type": "code",
   "execution_count": null,
   "id": "4002265c",
   "metadata": {},
   "outputs": [],
   "source": []
  },
  {
   "cell_type": "code",
   "execution_count": null,
   "id": "ddd14756-0f0a-4b5c-894f-c5deec87cd56",
   "metadata": {},
   "outputs": [],
   "source": []
  },
  {
   "cell_type": "code",
   "execution_count": null,
   "id": "9186203a-763b-408d-b72f-c4d67cf1e228",
   "metadata": {
    "lines_to_next_cell": 2
   },
   "outputs": [],
   "source": [
    "np.min(short_posterior_uncertainty_measure) # 0.18..."
   ]
  },
  {
   "cell_type": "code",
   "execution_count": null,
   "id": "cec92d85-6831-4bb0-8f24-569cac31e131",
   "metadata": {
    "lines_to_next_cell": 2
   },
   "outputs": [],
   "source": [
    "np.median(short_posterior_uncertainty_measure)"
   ]
  },
  {
   "cell_type": "code",
   "execution_count": null,
   "id": "b81537a1-e374-43cb-9d88-843af07248e8",
   "metadata": {
    "lines_to_next_cell": 2
   },
   "outputs": [],
   "source": [
    "np.max(short_posterior_uncertainty_measure)"
   ]
  },
  {
   "cell_type": "code",
   "execution_count": null,
   "id": "3e185cfb-9869-468c-874e-bbf62d54a6b3",
   "metadata": {
    "lines_to_next_cell": 2
   },
   "outputs": [],
   "source": [
    "## https://github.com/ydataai/pandas-profiling\n",
    "# profile = ProfileReport(long_replay_df, title=\"Pandas Profiling Report\") ## try out the new profiler\n",
    "# profile.to_notebook_iframe()\n",
    "# don't like this one."
   ]
  },
  {
   "cell_type": "code",
   "execution_count": null,
   "id": "56ab888c-f89b-49b0-99d6-3716951196ee",
   "metadata": {
    "lines_to_next_cell": 2
   },
   "outputs": [],
   "source": [
    "# also have https://github.com/fbdesignpro/sweetviz to try"
   ]
  },
  {
   "cell_type": "code",
   "execution_count": null,
   "id": "9062239c-3005-4a77-ac44-eb2c55d00be1",
   "metadata": {
    "lines_to_next_cell": 2
   },
   "outputs": [],
   "source": [
    "display(long_replay_df)"
   ]
  },
  {
   "cell_type": "code",
   "execution_count": null,
   "id": "71741a9f-ff3e-4677-b112-8e0a9ca29b14",
   "metadata": {
    "lines_to_next_cell": 2
   },
   "outputs": [],
   "source": [
    "import dtale # https://github.com/man-group/dtale"
   ]
  },
  {
   "cell_type": "code",
   "execution_count": null,
   "id": "f4b0b275-f6f8-4c9c-b444-d2b53ae7666b",
   "metadata": {
    "lines_to_next_cell": 2
   },
   "outputs": [],
   "source": [
    "# Assigning a reference to a running D-Tale process.\n",
    "d = dtale.show(long_one_step_decoder_1D.p_x_given_n, notebook=True)"
   ]
  },
  {
   "cell_type": "code",
   "execution_count": null,
   "id": "a371b458-ea34-4d16-b458-b9b9dac65c69",
   "metadata": {
    "lines_to_next_cell": 2
   },
   "outputs": [],
   "source": [
    "long_one_step_decoder_1D_df = pd.DataFrame(dict(time_window_centers=long_one_step_decoder_1D.time_window_centers, p_x_given_n=long_one_step_decoder_1D.p_x_given_n))\n",
    "long_one_step_decoder_1D_df"
   ]
  },
  {
   "cell_type": "code",
   "execution_count": null,
   "id": "88ebafae-1109-4555-b0de-dc4c835b3268",
   "metadata": {
    "lines_to_next_cell": 2
   },
   "outputs": [],
   "source": [
    "long_one_step_decoder_1D.p_x_given_n.shape"
   ]
  },
  {
   "cell_type": "code",
   "execution_count": null,
   "id": "5469c273-8173-4225-abc9-3f91a7d058b1",
   "metadata": {
    "lines_to_next_cell": 2
   },
   "outputs": [],
   "source": [
    "# Using Python's `webbrowser` package it will try and open your server's default browser to this process.\n",
    "d.open_browser()"
   ]
  },
  {
   "cell_type": "code",
   "execution_count": null,
   "id": "10aecef2-0cca-49a0-b302-027a0a04c52d",
   "metadata": {},
   "outputs": [],
   "source": [
    "# Accessing data associated with D-Tale process.\n",
    "# tmp = d.data.copy()\n",
    "# tmp['d'] = 4\n",
    "\n",
    "# Altering data associated with D-Tale process\n",
    "# FYI: this will clear any front-end settings you have at the time for this process (filter, sorts, formatting)\n",
    "d.data = long_one_step_decoder_1D.p_x_given_n\n",
    "\n",
    "# Shutting down D-Tale process\n",
    "d.kill()"
   ]
  },
  {
   "cell_type": "code",
   "execution_count": null,
   "id": "ddaa9e39-1b58-495d-8d72-92761e4e6882",
   "metadata": {},
   "outputs": [],
   "source": [
    "%matplotlib qt\n",
    "import matplotlib as mpl\n",
    "import matplotlib.pyplot as plt\n",
    "fig, ax = plt.subplots()\n",
    "\n",
    "### Old entire posterior decoding for same:\n",
    "# ax.plot(long_one_step_decoder_1D.active_time_window_centers, long_posterior_uncertainty_measure, linestyle='', marker='o',  markersize=2, label='long') # , color='k'\n",
    "# ax.plot(short_one_step_decoder_1D.active_time_window_centers, short_posterior_uncertainty_measure, linestyle='', marker='o',  markersize=2, label='short')\n",
    "\n",
    "## Plot Congruent Decodings:\n",
    "ax.plot(np.concatenate(long_decoding_of_long_epochs_results.combined_plottables_x), np.concatenate(long_decoding_of_long_epochs_results.combined_plottables_y), linestyle='', marker='o',  markersize=2, label='long_decoding_of_long')\n",
    "ax.plot(np.concatenate(short_decoding_of_short_epochs_results.combined_plottables_x), np.concatenate(short_decoding_of_short_epochs_results.combined_plottables_y), linestyle='', marker='o',  markersize=2, label='short_decoding_of_short') \n",
    "# Plot Oppposite Decodings:\n",
    "ax.plot(np.concatenate(long_decoding_of_short_epochs_results.combined_plottables_x), np.concatenate(long_decoding_of_short_epochs_results.combined_plottables_y), linestyle='', marker='o',  markersize=2, label='long_decoding_of_short')\n",
    "ax.plot(np.concatenate(short_decoding_of_long_epochs_results.combined_plottables_x), np.concatenate(short_decoding_of_long_epochs_results.combined_plottables_y), linestyle='', marker='o',  markersize=2, label='short_decoding_of_long') \n",
    "\n",
    "plt.legend()\n",
    "plt.title('Decoding Maximum Posterior Confidence')\n",
    "plt.xlabel('Time [sec]')\n",
    "plt.ylabel('Maximum Confidence')"
   ]
  },
  {
   "cell_type": "code",
   "execution_count": null,
   "id": "1de1731e-cd74-4d8e-9add-dfafe4584e5a",
   "metadata": {
    "lines_to_next_cell": 2
   },
   "outputs": [],
   "source": [
    "# custom_2D_decoder_container.ax\n",
    "\n",
    "def _temp_most_likely_position_decoder_plot_sync_window(start_t, end_t):\n",
    "    global ax\n",
    "    with plt.ion():\n",
    "        ax.set_xlim(start_t, end_t)    \n",
    "        plt.draw()\n",
    "\n",
    "ax.set_xlim(active_2d_plot.spikes_window.active_window_start_time, active_2d_plot.spikes_window.active_window_end_time)\n",
    "\n",
    "sync_connection = active_2d_plot.window_scrolled.connect(_temp_most_likely_position_decoder_plot_sync_window) # connect the window_scrolled event to the _on_window_updated function"
   ]
  },
  {
   "cell_type": "code",
   "execution_count": null,
   "id": "9361f004-7dd7-49b4-aaed-27c59ed7ebc7",
   "metadata": {},
   "outputs": [],
   "source": [
    "ax.plot(np.concatenate(long_decoding_of_long_epochs_results.combined_plottables_x), np.concatenate(long_decoding_of_long_epochs_results.combined_plottables_y), linestyle='', marker='o',  markersize=2, label='long_decoding_of_long')\n",
    "ax.plot(np.concatenate(short_decoding_of_short_epochs_results.combined_plottables_x), np.concatenate(short_decoding_of_short_epochs_results.combined_plottables_y), linestyle='', marker='o',  markersize=2, label='short_decoding_of_short') \n",
    "# Plot Oppposite Decodings:\n",
    "ax.plot(np.concatenate(long_decoding_of_short_epochs_results.combined_plottables_x), np.concatenate(long_decoding_of_short_epochs_results.combined_plottables_y), linestyle='', marker='o',  markersize=2, label='long_decoding_of_short')\n",
    "ax.plot(np.concatenate(short_decoding_of_long_epochs_results.combined_plottables_x), np.concatenate(short_decoding_of_long_epochs_results.combined_plottables_y), linestyle='', marker='o',  markersize=2, label='short_decoding_of_long')\n",
    "widget.draw()"
   ]
  },
  {
   "cell_type": "code",
   "execution_count": null,
   "id": "d22b1239-9296-4e80-be55-0073b59da08a",
   "metadata": {},
   "outputs": [],
   "source": [
    "active_2d_plot.sync_matplotlib_render_plot_widget()"
   ]
  },
  {
   "cell_type": "markdown",
   "id": "4201f63b",
   "metadata": {},
   "source": [
    "# Dataframe holds each epoch and the decoding confidence for each decoder"
   ]
  },
  {
   "cell_type": "code",
   "execution_count": null,
   "id": "a32e054c-cfe3-4632-bcdf-97aec0230a35",
   "metadata": {},
   "outputs": [],
   "source": [
    "long_decoding_of_long_epochs_results"
   ]
  },
  {
   "cell_type": "code",
   "execution_count": null,
   "id": "6035d94e-d4aa-4e4c-a57f-430807442195",
   "metadata": {},
   "outputs": [],
   "source": []
  },
  {
   "cell_type": "markdown",
   "id": "35ebb2b6-c067-4d35-8546-1fcac6dba15b",
   "metadata": {},
   "source": [
    "# Custom Decoder Plotting 2022-12-23:"
   ]
  },
  {
   "cell_type": "code",
   "execution_count": null,
   "id": "08071f7a-0ded-48a9-8103-c1537e1ad604",
   "metadata": {},
   "outputs": [],
   "source": [
    "from pyphoplacecellanalysis.General.Pipeline.Stages.DisplayFunctions.DecoderPredictionError import plot_1D_most_likely_position_comparsions"
   ]
  },
  {
   "cell_type": "code",
   "execution_count": null,
   "id": "c4120760-7648-43d7-941a-3b9c47dd810a",
   "metadata": {},
   "outputs": [],
   "source": [
    "widget, fig, ax = active_2d_plot.add_new_matplotlib_render_plot_widget(name='CustomDecoder')"
   ]
  },
  {
   "cell_type": "code",
   "execution_count": null,
   "id": "82393bbf-10dc-4e0e-8e34-42388fbb8b63",
   "metadata": {},
   "outputs": [],
   "source": [
    "## plot the `post_update_times`, and `flat_relative_entropy_results`\n",
    "_temp_out = ax.plot(post_update_times, flat_relative_entropy_results)\n",
    "\n",
    "# Perform Initial (one-time) update from source -> controlled:\n",
    "# This syncs the new widget up to the full data window (the entire session), not the active window:\n",
    "widget.on_window_changed(active_2d_plot.spikes_window.total_data_start_time, active_2d_plot.spikes_window.total_data_end_time)\n",
    "widget.draw()"
   ]
  },
  {
   "cell_type": "code",
   "execution_count": null,
   "id": "b1d73edb-82d8-4f9a-aa09-57e9d018e693",
   "metadata": {},
   "outputs": [],
   "source": [
    "# curr_widget, curr_fig, curr_ax = active_2d_plot.find_matplotlib_render_plot_widget('CustomDecoder')\n",
    "widget, fig, ax = active_2d_plot.find_matplotlib_render_plot_widget('CustomDecoder')"
   ]
  },
  {
   "cell_type": "code",
   "execution_count": null,
   "id": "a3a95026-669c-4235-979e-06094b7a663a",
   "metadata": {},
   "outputs": [],
   "source": [
    "## Build the custom decoder:\n",
    "pho_custom_decoder = long_one_step_decoder_1D\n",
    "marginal_posterior_x = pho_custom_decoder.marginal.x.p_x_given_n"
   ]
  },
  {
   "cell_type": "code",
   "execution_count": null,
   "id": "77646c26-8d5c-4a32-97c3-e8717dc27c59",
   "metadata": {},
   "outputs": [],
   "source": [
    "curr_fig, curr_ax = plot_1D_most_likely_position_comparsions(sess.position.to_dataframe(), time_window_centers=pho_custom_decoder.active_time_window_centers, xbin=pho_custom_decoder.xbin,\n",
    "                                                        posterior=marginal_posterior_x,\n",
    "                                                        active_most_likely_positions_1D=pho_custom_decoder.marginal.x.most_likely_positions_1D,\n",
    "                                                        enable_flat_line_drawing=False, debug_print=False, ax=curr_ax)"
   ]
  },
  {
   "cell_type": "code",
   "execution_count": null,
   "id": "0d09605c-a666-4a5d-922d-6ace2ee065f3",
   "metadata": {},
   "outputs": [],
   "source": [
    "widget.draw()"
   ]
  },
  {
   "cell_type": "code",
   "execution_count": null,
   "id": "067fb5d0-0cdf-4fd1-a982-ef2a6a0d47ae",
   "metadata": {},
   "outputs": [],
   "source": [
    "from pyphoplacecellanalysis.GUI.PyQtPlot.Widgets.SpikeRasterWidgets.Spike2DRaster import SynchronizedPlotMode\n",
    "active_2d_plot.sync_matplotlib_render_plot_widget('CustomDecoder', sync_mode=SynchronizedPlotMode.TO_GLOBAL_DATA)"
   ]
  },
  {
   "cell_type": "code",
   "execution_count": null,
   "id": "e06e0f2f-64ee-4b78-ba22-9f5906a554a3",
   "metadata": {},
   "outputs": [],
   "source": [
    "_test_connection = active_2d_plot.sync_matplotlib_render_plot_widget('CustomDecoder', sync_mode=SynchronizedPlotMode.TO_WINDOW)\n",
    "_test_connection"
   ]
  },
  {
   "cell_type": "code",
   "execution_count": null,
   "id": "85a6ec92-ff6f-4619-a00b-ed33dba939ff",
   "metadata": {},
   "outputs": [],
   "source": [
    "active_2d_plot.ui.matplotlib_view_widgets"
   ]
  },
  {
   "cell_type": "code",
   "execution_count": null,
   "id": "4bc09ead-7e83-4b19-8a4d-389089e6d877",
   "metadata": {},
   "outputs": [],
   "source": [
    "curr_ax.get_xlim()"
   ]
  },
  {
   "cell_type": "code",
   "execution_count": null,
   "id": "b566b801-2896-49c1-a3eb-a5d4bd7fa73a",
   "metadata": {},
   "outputs": [],
   "source": [
    "np.save('marginal_posterior_x.npy', marginal_posterior_x)"
   ]
  },
  {
   "cell_type": "code",
   "execution_count": null,
   "id": "c18a7539-fe75-44f3-a854-9973238814d6",
   "metadata": {},
   "outputs": [],
   "source": [
    "marginal_posterior_x"
   ]
  },
  {
   "cell_type": "code",
   "execution_count": null,
   "id": "55b77cec-591d-4b3f-8102-30348760fb52",
   "metadata": {},
   "outputs": [],
   "source": [
    "from pandas_profiling import ProfileReport"
   ]
  },
  {
   "cell_type": "markdown",
   "id": "42f87679-b972-4cad-9e2c-cf02b0ac16c0",
   "metadata": {},
   "source": [
    "# 🔝✳️ 2023-01-19 - Replay Fr vs. Lap Fr.\n",
    "\n",
    "Upon review it looks like much of this is very similar to `compute_evening_morning_parition` and `FiringRateActivitySource`\n",
    "\n",
    "2023-01-24 - I think `compute_evening_morning_parition` would be great to have across laps in addition to replays. It could pretty easily be epoch general so long as the epochs don't overlap.\n",
    "\n",
    "❓❗❇️🔜👁️‍🗨️ 2023-01-24 - Do we want to include replays or laps where a unit isn't active at all in that cell's firing rate average? These points would drag down the average rather quickly and could reflect the animal not visiting that cell's place instead of some property of the cell itself."
   ]
  },
  {
   "cell_type": "code",
   "execution_count": null,
   "id": "32fc8814-efd1-43cc-ad11-01437ea5643f",
   "metadata": {},
   "outputs": [],
   "source": [
    "from pyphoplacecellanalysis.temp import pipeline_complete_compute_long_short_fr_indicies, plot_long_short_firing_rate_indicies # , compute_long_short_firing_rate_indicies\n",
    "\n",
    "# New unified `pipeline_complete_compute_long_short_fr_indicies(...)` method for entire pipeline:\n",
    "x_frs_index, y_frs_index, active_context, all_results_dict = pipeline_complete_compute_long_short_fr_indicies(curr_active_pipeline)"
   ]
  },
  {
   "cell_type": "code",
   "execution_count": null,
   "id": "96a14419-f95f-4790-a979-65fb453ce352",
   "metadata": {},
   "outputs": [],
   "source": [
    "# objsize.get_deep_size(all_results_dict)"
   ]
  },
  {
   "cell_type": "code",
   "execution_count": null,
   "id": "21384804-f6f8-4492-a856-09f74cc7d031",
   "metadata": {},
   "outputs": [],
   "source": [
    "# Plot long|short firing rate index:\n",
    "%matplotlib qt\n",
    "import matplotlib as mpl\n",
    "import matplotlib.pyplot as plt\n",
    "from pyphoplacecellanalysis.temp import plot_long_short_firing_rate_indicies\n",
    "from neuropy.utils.mixins.print_helpers import ProgressMessagePrinter\n",
    "\n",
    "fig_save_parent_path = Path(r'E:\\Dropbox (Personal)\\Active\\Kamran Diba Lab\\Results from 2023-01-20 - LongShort Firing Rate Indicies')\n",
    "plot_long_short_firing_rate_indicies(x_frs_index, y_frs_index, active_context, fig_save_parent_path=fig_save_parent_path)\n",
    "\n",
    "# _temp_full_fig_save_path = fig_save_parent_path.joinpath(temp_fig_filename)\n",
    "# with ProgressMessagePrinter(_temp_full_fig_save_path, 'Saving', 'plot_long_short_firing_rate_indicies results'):\n",
    "#     plot_long_short_firing_rate_indicies(x_frs_index, y_frs_index, active_identifying_session_ctx)  "
   ]
  },
  {
   "cell_type": "markdown",
   "id": "50fa0d32-ede2-4c51-bff4-d1fcb349ca09",
   "metadata": {},
   "source": [
    "### Backup prev long-winded way:"
   ]
  },
  {
   "cell_type": "code",
   "execution_count": null,
   "id": "2d03e536-b9d2-40e0-8310-ca16fb81a405",
   "metadata": {},
   "outputs": [],
   "source": [
    "%pdb off\n",
    "# %pdb on\n",
    "from pyphoplacecellanalysis.General.Pipeline.Stages.ComputationFunctions.DefaultComputationFunctions import KnownFilterEpochs\n",
    "from PendingNotebookCode import find_epoch_names\n",
    "from neuropy.core import Epoch\n",
    "from neuropy.core.session.dataSession import DataSession\n",
    "from pyphoplacecellanalysis.temp import compute_long_short_firing_rate_indicies, plot_long_short_firing_rate_indicies\n",
    "\n",
    "with VizTracer(output_file=f\"viztracer_{get_now_time_str()}-compute_long_short_firing_rate_indicies.json\", min_duration=200, tracer_entries=3000000, ignore_frozen=True) as tracer:\n",
    "    active_identifying_session_ctx = curr_active_pipeline.sess.get_context() # 'bapun_RatN_Day4_2019-10-15_11-30-06' # curr_sess_ctx # IdentifyingContext<('kdiba', 'gor01', 'one', '2006-6-07_11-26-53')>\n",
    "    long_epoch_name, short_epoch_name, global_epoch_name = find_epoch_names(curr_active_pipeline)\n",
    "    long_session, short_session, global_session = [curr_active_pipeline.filtered_sessions[an_epoch_name] for an_epoch_name in [long_epoch_name, short_epoch_name, global_epoch_name]]\n",
    "    long_computation_results, short_computation_results, global_computation_results = [curr_active_pipeline.computation_results[an_epoch_name] for an_epoch_name in [long_epoch_name, short_epoch_name, global_epoch_name]]\n",
    "    long_results, short_results, global_results = [curr_active_pipeline.computation_results[an_epoch_name]['computed_data'] for an_epoch_name in [long_epoch_name, short_epoch_name, global_epoch_name]] # *_results just shortcut for computation_result['computed_data']\n",
    "\n",
    "    active_context = active_identifying_session_ctx.adding_context(collision_prefix='fn', fn_name='long_short_firing_rate_indicies')\n",
    "\n",
    "    spikes_df = curr_active_pipeline.sess.spikes_df\n",
    "    long_laps, short_laps, global_laps = [curr_active_pipeline.filtered_sessions[an_epoch_name].laps.as_epoch_obj() for an_epoch_name in [long_epoch_name, short_epoch_name, global_epoch_name]]\n",
    "\n",
    "    # try:\n",
    "    #     long_replays, short_replays, global_replays = [Epoch(curr_active_pipeline.filtered_sessions[an_epoch_name].replay.epochs.get_valid_df()) for an_epoch_name in [long_epoch_name, short_epoch_name, global_epoch_name]] # NOTE: this includes a few overlapping   epochs since the function to remove overlapping ones seems to be broken\n",
    "    # except (AttributeError, KeyError) as e:\n",
    "        # print(f'e: {e}')\n",
    "    # AttributeError: 'DataSession' object has no attribute 'replay'. Fallback to PBEs?\n",
    "    # filter_epochs = a_session.pbe # Epoch object\n",
    "    filter_epoch_replacement_type = KnownFilterEpochs.PBE\n",
    "\n",
    "    # filter_epochs = a_session.ripple # Epoch object\n",
    "    # filter_epoch_replacement_type = KnownFilterEpochs.RIPPLE\n",
    "\n",
    "    decoding_time_bin_size = 0.03333\n",
    "    min_epoch_included_duration = decoding_time_bin_size * float(2) # 0.06666 # all epochs shorter than min_epoch_included_duration will be excluded from analysis\n",
    "    print(f'missing .replay epochs, using {filter_epoch_replacement_type} as surrogate replays...')\n",
    "    active_context = active_context.adding_context(collision_prefix='replay_surrogate', replays=filter_epoch_replacement_type.name)\n",
    "\n",
    "    ## Working:\n",
    "    # long_replays, short_replays, global_replays = [KnownFilterEpochs.perform_get_filter_epochs_df(sess=a_computation_result.sess, filter_epochs=filter_epochs, min_epoch_included_duration=min_epoch_included_duration) for a_computation_result in [long_computation_results, short_computation_results, global_computation_results]] # returns Epoch objects\n",
    "    # New sess.compute_estimated_replay_epochs(...) based method:\n",
    "    long_replays, short_replays, global_replays = [DataSession.compute_estimated_replay_epochs(curr_active_pipeline.filtered_sessions[an_epoch_name]) for an_epoch_name in [long_epoch_name, short_epoch_name, global_epoch_name]] # NOTE: this includes a few overlapping epochs since the function to remove overlapping ones seems to be broken\n",
    "\n",
    "# backup_dict = loadData(r\"C:\\Users\\pho\\repos\\PhoPy3DPositionAnalysis2021\\temp_2023-01-20.pkl\")\n",
    "# spikes_df, long_laps, short_laps, global_laps, long_replays, short_replays, global_replays = backup_dict.values()\n",
    "\n",
    "# temp_save_filename = f'{active_context.get_description()}_results.pkl'\n",
    "temp_save_filename = None # disable caching the `compute_long_short_firing_rate_indicies` results.\n",
    "temp_fig_filename = f'{active_context.get_description()}.png'\n",
    "print(f'temp_save_filename: {temp_save_filename},\\ntemp_fig_filename: {temp_fig_filename}')\n",
    "\n",
    "x_frs_index, y_frs_index = compute_long_short_firing_rate_indicies(spikes_df, long_laps, long_replays, short_laps, short_replays, save_path=temp_save_filename) # 'temp_2023-01-24_results.pkl'"
   ]
  },
  {
   "cell_type": "markdown",
   "id": "3a7d0cbd-0b47-4d33-951e-78dca0367028",
   "metadata": {},
   "source": [
    "# 2023-01-26 - 'portion' interval library for doing efficient interval calculations:"
   ]
  },
  {
   "cell_type": "code",
   "execution_count": null,
   "id": "b2ec0dcd-c469-4121-9ecb-eec137cc6009",
   "metadata": {},
   "outputs": [],
   "source": [
    "import portion as P\n",
    "from neuropy.utils.efficient_interval_search import filter_epochs_by_speed\n",
    "from neuropy.utils.efficient_interval_search import convert_Intervals_to_Epoch_obj, convert_Intervals_to_epochs_df\n",
    "\n",
    "# Filter *_replays_Interval by requiring them to be below the speed:\n",
    "speed_thresh = 2.0\n",
    "speed_df = global_session.position.to_dataframe()\n",
    "long_replays, short_replays, global_replays, above_speed_threshold_intervals, below_speed_threshold_intervals = filter_epochs_by_speed(speed_df, long_replays, short_replays, global_replays, speed_thresh=speed_thresh, debug_print=True)"
   ]
  },
  {
   "cell_type": "code",
   "execution_count": null,
   "id": "e9b4171b-3c36-4b97-ab6f-5747b9564cc5",
   "metadata": {},
   "outputs": [],
   "source": [
    "# Store associated values with `P.IntervalDict()`:\n",
    "d = P.IntervalDict()\n",
    "d"
   ]
  },
  {
   "cell_type": "code",
   "execution_count": null,
   "id": "4bb1d793-8c8b-475d-9fad-7b578a5e3a26",
   "metadata": {},
   "outputs": [],
   "source": [
    "# i = 0\n",
    "# for i in range(len(df)):\n",
    "#     print(f'i: {i}')\n",
    "#     print(f'df.index[i]: {df.index[i]}')\n",
    "#     print(f\"df.loc[i, 'speed']: {df.loc[i, 'speed']}\")\n",
    "#     print(f\"df.loc[df.index[i], 'speed']: {df.loc[df.index[i], 'speed']}\")\n",
    "#     assert df.loc[df.index[i], 'speed'] == df.loc[i, 'speed']"
   ]
  },
  {
   "cell_type": "markdown",
   "id": "97e3d0be-a3a1-4311-98a6-7e85b762151d",
   "metadata": {},
   "source": [
    "# Other experimentation:\n",
    "+ [markdown] tags=[\"BROKEN\"]\n",
    "from pyphoplacecellanalysis.General.Mixins.ExportHelpers import create_daily_programmatic_display_function_testing_folder_if_needed, session_context_to_relative_path\n",
    "\n",
    "figures_parent_out_path = create_daily_programmatic_display_function_testing_folder_if_needed()\n",
    "active_session_figures_out_path = session_context_to_relative_path(figures_parent_out_path, active_identifying_session_ctx)\n",
    "print(f'curr_session_parent_out_path: {active_session_figures_out_path}')\n",
    "active_session_figures_out_path.mkdir(parents=True, exist_ok=True) # make folder if needed\n",
    "\n",
    "active_session_figures_out_path.joinpath()"
   ]
  },
  {
   "cell_type": "markdown",
   "id": "4abe6473-9b33-458f-ba02-540b194f182d",
   "metadata": {
    "tags": [
     "BROKEN"
    ]
   },
   "source": [
    "def build_labels_if_empty(df):\n",
    "    print(f\"df: {df}\")\n",
    "    if np.alltrue([(str(a_lbl)=='') for a_lbl in df['label']]):\n",
    "        df['label'] = [str(an_idx) for an_idx in df.index] # regular str label\n",
    "        # df = df.reset_index(drop=True) # do we need this for some reason?\n",
    "        df['integer_label'] = [int(float(an_idx)) for an_idx in df.index] # integer_label label\n",
    "        print(f'labels were missing. Adding \"label\" and \"integer_label\".')\n",
    "    else:\n",
    "        print(f\"df['label']: {df['label']}\")\n",
    "    return df\n",
    "\n",
    "short_session.ripple._df = build_labels_if_empty(short_session.ripple.to_dataframe())\n",
    "\n",
    "short_session.ripple._df.epochs.get_valid_df()\n",
    "\n",
    "external_computed_ripple_df['label'] = [str(an_idx) for an_idx in external_computed_ripple_df.index]\n",
    "external_computed_ripple_df = external_computed_ripple_df.reset_index(drop=True)\n",
    "\n",
    "long_session.replay\n",
    "\n",
    "# # # # # # # # # # # # # # # %pdb off\n",
    "\n",
    "\n",
    "# # long_replay_df = KnownFilterEpochs.PBE.get_filter_epochs_df(sess=long_session, min_epoch_included_duration=None, debug_print=True)\n",
    "# long_replay_df = KnownFilterEpochs.RIPPLE.get_filter_epochs_df(sess=long_session, min_epoch_included_duration=None, debug_print=True)\n",
    "# long_replay_df\n",
    "\n",
    "# long_replay_df, short_replay_df, global_replay_df = [KnownFilterEpochs.LAP.get_filter_epochs_df(sess=a_session, min_epoch_included_duration=None, debug_print=False) for a_session in [long_session, short_session, global_session]]\n",
    "\n",
    "str(curr_active_pipeline.active_sess_config.get_context())\n",
    "\n",
    "create_daily_programmatic_display_function_testing_folder_if_needed"
   ]
  },
  {
   "cell_type": "code",
   "execution_count": null,
   "id": "5648111f",
   "metadata": {},
   "outputs": [],
   "source": [
    "from pyphoplacecellanalysis.General.Pipeline.Stages.Loading import saveData, loadData\n",
    "# Load previously computed from data:\n",
    "long_mean_laps_frs, long_mean_replays_frs, short_mean_laps_frs, short_mean_replays_frs, x_frs_index, y_frs_index = loadData(r\"C:\\Users\\pho\\repos\\PhoPy3DPositionAnalysis2021\\data\\temp_2023-01-20_results_final.pkl\").values()"
   ]
  },
  {
   "cell_type": "code",
   "execution_count": null,
   "id": "312adf4e-8a5f-40b6-9507-9661164f2b4d",
   "metadata": {},
   "outputs": [],
   "source": []
  },
  {
   "cell_type": "code",
   "execution_count": 36,
   "id": "674e7d25-589f-43ab-a057-8f2bf7aa4e8e",
   "metadata": {},
   "outputs": [],
   "source": [
    "active_sess = curr_active_pipeline.filtered_sessions['maze']"
   ]
  },
  {
   "cell_type": "code",
   "execution_count": null,
   "id": "8ba0577a-b95e-478f-aeea-aef0ed591583",
   "metadata": {
    "lines_to_next_cell": 2
   },
   "outputs": [],
   "source": [
    "# perform_compute_estimated_replay_epochs\n",
    "out = active_sess.perform_compute_estimated_replay_epochs()\n",
    "out"
   ]
  },
  {
   "cell_type": "code",
   "execution_count": 39,
   "id": "5a82b703-c32e-4d86-a86f-4e36ee517b80",
   "metadata": {},
   "outputs": [
    {
     "name": "stdout",
     "output_type": "stream",
     "text": [
      "Automatic pdb calling has been turned OFF\n",
      "computing estimated replay epochs for session...\n",
      "\n",
      "missing .replay epochs, using KnownFilterEpochs.PBE as surrogate replays...\n"
     ]
    },
    {
     "data": {
      "text/plain": [
       "          start         stop label  duration\n",
       "0     74.818000    74.974000     0  0.156000\n",
       "1    366.718000   366.916000     1  0.198000\n",
       "2    373.934000   374.200000     2  0.266000\n",
       "3    380.865000   381.156000     3  0.291000\n",
       "4    387.922000   388.073000     4  0.151000\n",
       "5    439.812000   440.163000     5  0.351000\n",
       "6    449.663000   449.769000     6  0.106000\n",
       "7    457.423000   457.587580     7  0.164580\n",
       "8    477.481000   477.789000     8  0.308000\n",
       "9    518.061000   518.278000     9  0.217000\n",
       "10   523.993000   524.164000    10  0.171000\n",
       "11   553.283000   553.528000    11  0.245000\n",
       "12   558.266000   558.524000    12  0.258000\n",
       "13   574.531000   574.673000    13  0.142000\n",
       "14   578.858000   579.156000    14  0.298000\n",
       "15   658.843000   658.988000    15  0.145000\n",
       "16   683.405000   683.416248    16  0.011248\n",
       "17   683.614630   683.648348    17  0.033718\n",
       "18   718.969000   719.160000    18  0.191000\n",
       "19   725.979000   726.183000    19  0.204000\n",
       "20   823.600000   823.750000    20  0.150000\n",
       "21   855.319000   855.528000    21  0.209000\n",
       "22   870.510000   870.570985    22  0.060985\n",
       "23   881.993000   882.095000    23  0.102000\n",
       "24   906.708000   906.846000    24  0.138000\n",
       "25   938.372342   938.405849    25  0.033507\n",
       "26   938.473349   938.496000    26  0.022651\n",
       "27   952.905000   953.012000    27  0.107000\n",
       "28   991.727000   992.083000    28  0.356000\n",
       "29  1014.472000  1014.733000    29  0.261000\n",
       "30  1022.333000  1022.560000    30  0.227000\n",
       "31  1271.363000  1271.594000    31  0.231000\n",
       "32  1417.915000  1418.056537    32  0.141537\n",
       "33  1569.568000  1569.742529    33  0.174529\n",
       "34  1590.797580  1590.829921    34  0.032341\n",
       "35  1668.976000  1669.149000    35  0.173000\n",
       "36  1808.423000  1808.723000    36  0.300000\n",
       "37  1971.724000  1971.969000    37  0.245000\n",
       "38  1988.703000  1988.816000    38  0.113000\n",
       "39  2011.910000  2012.083000    39  0.173000\n",
       "40  2056.635000  2056.787000    40  0.152000\n",
       "41  2060.021000  2060.435000    41  0.414000\n",
       "42  2100.052000  2100.208000    42  0.156000\n",
       "43  2133.060000  2133.190000    43  0.130000\n",
       "44  2139.591000  2139.773000    44  0.182000\n",
       "45  2284.278000  2284.380000    45  0.102000\n",
       "46  2341.552738  2341.588000    46  0.035262\n",
       "47  2437.567000  2437.821000    47  0.254000\n",
       "48  2570.016798  2570.050879    48  0.034081\n",
       "49  2634.169000  2634.611000    49  0.442000"
      ]
     },
     "execution_count": 39,
     "metadata": {},
     "output_type": "execute_result"
    }
   ],
   "source": [
    "%pdb off\n",
    "out2 = active_sess.perform_compute_estimated_replay_epochs(min_epoch_included_duration=0.06, max_epoch_included_duration=0.600, maximum_speed_thresh=2.0)\n",
    "# out2 = active_sess.perform_compute_estimated_replay_epochs(min_epoch_included_duration=None, max_epoch_included_duration=None, maximum_speed_thresh=2.0)\n",
    "out2"
   ]
  },
  {
   "cell_type": "code",
   "execution_count": 34,
   "id": "2e0870cc-9e71-4db3-88d2-41bc93e110a1",
   "metadata": {},
   "outputs": [
    {
     "data": {
      "text/plain": [
       "neuropy.core.epoch.Epoch"
      ]
     },
     "execution_count": 34,
     "metadata": {},
     "output_type": "execute_result"
    }
   ],
   "source": [
    "type(out2)"
   ]
  },
  {
   "cell_type": "code",
   "execution_count": 30,
   "id": "74c09d86-c27f-485d-a695-f4fa5461c4e1",
   "metadata": {},
   "outputs": [],
   "source": [
    "%pdb off\n",
    "max_duration = 0.6\n",
    "min_duration = 0.06\n",
    "an_epoch = deepcopy(out2)"
   ]
  },
  {
   "cell_type": "code",
   "execution_count": 30,
   "id": "80ac7dc1-78d3-489a-8020-1fd99d603350",
   "metadata": {},
   "outputs": [
    {
     "name": "stdout",
     "output_type": "stream",
     "text": [
      "Automatic pdb calling has been turned OFF\n"
     ]
    }
   ],
   "source": [
    "an_epoch.to_dataframe()"
   ]
  },
  {
   "cell_type": "code",
   "execution_count": 31,
   "id": "404f4469-d797-4194-bf49-86409c5ee633",
   "metadata": {},
   "outputs": [
    {
     "data": {
      "text/html": [
       "<div>\n",
       "<style scoped>\n",
       "    .dataframe tbody tr th:only-of-type {\n",
       "        vertical-align: middle;\n",
       "    }\n",
       "\n",
       "    .dataframe tbody tr th {\n",
       "        vertical-align: top;\n",
       "    }\n",
       "\n",
       "    .dataframe thead th {\n",
       "        text-align: right;\n",
       "    }\n",
       "</style>\n",
       "<table border=\"1\" class=\"dataframe\">\n",
       "  <thead>\n",
       "    <tr style=\"text-align: right;\">\n",
       "      <th></th>\n",
       "      <th>start</th>\n",
       "      <th>stop</th>\n",
       "      <th>label</th>\n",
       "      <th>duration</th>\n",
       "    </tr>\n",
       "  </thead>\n",
       "  <tbody>\n",
       "    <tr>\n",
       "      <th>0</th>\n",
       "      <td>74.818000</td>\n",
       "      <td>74.974000</td>\n",
       "      <td>0</td>\n",
       "      <td>0.156000</td>\n",
       "    </tr>\n",
       "    <tr>\n",
       "      <th>2</th>\n",
       "      <td>366.718000</td>\n",
       "      <td>366.916000</td>\n",
       "      <td>2</td>\n",
       "      <td>0.198000</td>\n",
       "    </tr>\n",
       "    <tr>\n",
       "      <th>3</th>\n",
       "      <td>373.934000</td>\n",
       "      <td>374.200000</td>\n",
       "      <td>3</td>\n",
       "      <td>0.266000</td>\n",
       "    </tr>\n",
       "    <tr>\n",
       "      <th>4</th>\n",
       "      <td>380.865000</td>\n",
       "      <td>381.156000</td>\n",
       "      <td>4</td>\n",
       "      <td>0.291000</td>\n",
       "    </tr>\n",
       "    <tr>\n",
       "      <th>5</th>\n",
       "      <td>387.922000</td>\n",
       "      <td>388.073000</td>\n",
       "      <td>5</td>\n",
       "      <td>0.151000</td>\n",
       "    </tr>\n",
       "    <tr>\n",
       "      <th>6</th>\n",
       "      <td>439.812000</td>\n",
       "      <td>440.163000</td>\n",
       "      <td>6</td>\n",
       "      <td>0.351000</td>\n",
       "    </tr>\n",
       "    <tr>\n",
       "      <th>7</th>\n",
       "      <td>449.663000</td>\n",
       "      <td>449.769000</td>\n",
       "      <td>7</td>\n",
       "      <td>0.106000</td>\n",
       "    </tr>\n",
       "    <tr>\n",
       "      <th>8</th>\n",
       "      <td>457.423000</td>\n",
       "      <td>457.587580</td>\n",
       "      <td>8</td>\n",
       "      <td>0.164580</td>\n",
       "    </tr>\n",
       "    <tr>\n",
       "      <th>9</th>\n",
       "      <td>477.481000</td>\n",
       "      <td>477.789000</td>\n",
       "      <td>9</td>\n",
       "      <td>0.308000</td>\n",
       "    </tr>\n",
       "    <tr>\n",
       "      <th>10</th>\n",
       "      <td>518.061000</td>\n",
       "      <td>518.278000</td>\n",
       "      <td>10</td>\n",
       "      <td>0.217000</td>\n",
       "    </tr>\n",
       "    <tr>\n",
       "      <th>11</th>\n",
       "      <td>523.993000</td>\n",
       "      <td>524.164000</td>\n",
       "      <td>11</td>\n",
       "      <td>0.171000</td>\n",
       "    </tr>\n",
       "    <tr>\n",
       "      <th>12</th>\n",
       "      <td>553.283000</td>\n",
       "      <td>553.528000</td>\n",
       "      <td>12</td>\n",
       "      <td>0.245000</td>\n",
       "    </tr>\n",
       "    <tr>\n",
       "      <th>13</th>\n",
       "      <td>558.266000</td>\n",
       "      <td>558.524000</td>\n",
       "      <td>13</td>\n",
       "      <td>0.258000</td>\n",
       "    </tr>\n",
       "    <tr>\n",
       "      <th>14</th>\n",
       "      <td>574.531000</td>\n",
       "      <td>574.673000</td>\n",
       "      <td>14</td>\n",
       "      <td>0.142000</td>\n",
       "    </tr>\n",
       "    <tr>\n",
       "      <th>15</th>\n",
       "      <td>578.858000</td>\n",
       "      <td>579.156000</td>\n",
       "      <td>15</td>\n",
       "      <td>0.298000</td>\n",
       "    </tr>\n",
       "    <tr>\n",
       "      <th>16</th>\n",
       "      <td>658.843000</td>\n",
       "      <td>658.988000</td>\n",
       "      <td>16</td>\n",
       "      <td>0.145000</td>\n",
       "    </tr>\n",
       "    <tr>\n",
       "      <th>17</th>\n",
       "      <td>683.405000</td>\n",
       "      <td>683.416248</td>\n",
       "      <td>17</td>\n",
       "      <td>0.011248</td>\n",
       "    </tr>\n",
       "    <tr>\n",
       "      <th>18</th>\n",
       "      <td>683.614630</td>\n",
       "      <td>683.648348</td>\n",
       "      <td>18</td>\n",
       "      <td>0.033718</td>\n",
       "    </tr>\n",
       "    <tr>\n",
       "      <th>19</th>\n",
       "      <td>718.969000</td>\n",
       "      <td>719.160000</td>\n",
       "      <td>19</td>\n",
       "      <td>0.191000</td>\n",
       "    </tr>\n",
       "    <tr>\n",
       "      <th>20</th>\n",
       "      <td>725.979000</td>\n",
       "      <td>726.183000</td>\n",
       "      <td>20</td>\n",
       "      <td>0.204000</td>\n",
       "    </tr>\n",
       "    <tr>\n",
       "      <th>21</th>\n",
       "      <td>823.600000</td>\n",
       "      <td>823.750000</td>\n",
       "      <td>21</td>\n",
       "      <td>0.150000</td>\n",
       "    </tr>\n",
       "    <tr>\n",
       "      <th>22</th>\n",
       "      <td>855.319000</td>\n",
       "      <td>855.528000</td>\n",
       "      <td>22</td>\n",
       "      <td>0.209000</td>\n",
       "    </tr>\n",
       "    <tr>\n",
       "      <th>23</th>\n",
       "      <td>870.510000</td>\n",
       "      <td>870.570985</td>\n",
       "      <td>23</td>\n",
       "      <td>0.060985</td>\n",
       "    </tr>\n",
       "    <tr>\n",
       "      <th>24</th>\n",
       "      <td>881.993000</td>\n",
       "      <td>882.095000</td>\n",
       "      <td>24</td>\n",
       "      <td>0.102000</td>\n",
       "    </tr>\n",
       "    <tr>\n",
       "      <th>25</th>\n",
       "      <td>906.708000</td>\n",
       "      <td>906.846000</td>\n",
       "      <td>25</td>\n",
       "      <td>0.138000</td>\n",
       "    </tr>\n",
       "    <tr>\n",
       "      <th>26</th>\n",
       "      <td>938.372342</td>\n",
       "      <td>938.405849</td>\n",
       "      <td>26</td>\n",
       "      <td>0.033507</td>\n",
       "    </tr>\n",
       "    <tr>\n",
       "      <th>27</th>\n",
       "      <td>938.473349</td>\n",
       "      <td>938.496000</td>\n",
       "      <td>27</td>\n",
       "      <td>0.022651</td>\n",
       "    </tr>\n",
       "    <tr>\n",
       "      <th>28</th>\n",
       "      <td>952.905000</td>\n",
       "      <td>953.012000</td>\n",
       "      <td>28</td>\n",
       "      <td>0.107000</td>\n",
       "    </tr>\n",
       "    <tr>\n",
       "      <th>29</th>\n",
       "      <td>991.727000</td>\n",
       "      <td>992.083000</td>\n",
       "      <td>29</td>\n",
       "      <td>0.356000</td>\n",
       "    </tr>\n",
       "    <tr>\n",
       "      <th>30</th>\n",
       "      <td>1014.472000</td>\n",
       "      <td>1014.733000</td>\n",
       "      <td>30</td>\n",
       "      <td>0.261000</td>\n",
       "    </tr>\n",
       "    <tr>\n",
       "      <th>31</th>\n",
       "      <td>1022.333000</td>\n",
       "      <td>1022.560000</td>\n",
       "      <td>31</td>\n",
       "      <td>0.227000</td>\n",
       "    </tr>\n",
       "    <tr>\n",
       "      <th>32</th>\n",
       "      <td>1271.363000</td>\n",
       "      <td>1271.594000</td>\n",
       "      <td>32</td>\n",
       "      <td>0.231000</td>\n",
       "    </tr>\n",
       "    <tr>\n",
       "      <th>33</th>\n",
       "      <td>1293.796568</td>\n",
       "      <td>1293.897104</td>\n",
       "      <td>33</td>\n",
       "      <td>0.100536</td>\n",
       "    </tr>\n",
       "    <tr>\n",
       "      <th>34</th>\n",
       "      <td>1409.681273</td>\n",
       "      <td>1409.858000</td>\n",
       "      <td>34</td>\n",
       "      <td>0.176727</td>\n",
       "    </tr>\n",
       "    <tr>\n",
       "      <th>35</th>\n",
       "      <td>1417.915000</td>\n",
       "      <td>1418.056537</td>\n",
       "      <td>35</td>\n",
       "      <td>0.141537</td>\n",
       "    </tr>\n",
       "    <tr>\n",
       "      <th>36</th>\n",
       "      <td>1569.568000</td>\n",
       "      <td>1569.742529</td>\n",
       "      <td>36</td>\n",
       "      <td>0.174529</td>\n",
       "    </tr>\n",
       "    <tr>\n",
       "      <th>37</th>\n",
       "      <td>1590.797580</td>\n",
       "      <td>1590.829921</td>\n",
       "      <td>37</td>\n",
       "      <td>0.032341</td>\n",
       "    </tr>\n",
       "    <tr>\n",
       "      <th>38</th>\n",
       "      <td>1668.976000</td>\n",
       "      <td>1669.149000</td>\n",
       "      <td>38</td>\n",
       "      <td>0.173000</td>\n",
       "    </tr>\n",
       "    <tr>\n",
       "      <th>39</th>\n",
       "      <td>1808.423000</td>\n",
       "      <td>1808.723000</td>\n",
       "      <td>39</td>\n",
       "      <td>0.300000</td>\n",
       "    </tr>\n",
       "    <tr>\n",
       "      <th>40</th>\n",
       "      <td>1971.724000</td>\n",
       "      <td>1971.969000</td>\n",
       "      <td>40</td>\n",
       "      <td>0.245000</td>\n",
       "    </tr>\n",
       "    <tr>\n",
       "      <th>41</th>\n",
       "      <td>1988.703000</td>\n",
       "      <td>1988.816000</td>\n",
       "      <td>41</td>\n",
       "      <td>0.113000</td>\n",
       "    </tr>\n",
       "    <tr>\n",
       "      <th>42</th>\n",
       "      <td>2011.910000</td>\n",
       "      <td>2012.083000</td>\n",
       "      <td>42</td>\n",
       "      <td>0.173000</td>\n",
       "    </tr>\n",
       "    <tr>\n",
       "      <th>43</th>\n",
       "      <td>2056.635000</td>\n",
       "      <td>2056.787000</td>\n",
       "      <td>43</td>\n",
       "      <td>0.152000</td>\n",
       "    </tr>\n",
       "    <tr>\n",
       "      <th>44</th>\n",
       "      <td>2060.021000</td>\n",
       "      <td>2060.435000</td>\n",
       "      <td>44</td>\n",
       "      <td>0.414000</td>\n",
       "    </tr>\n",
       "    <tr>\n",
       "      <th>45</th>\n",
       "      <td>2100.052000</td>\n",
       "      <td>2100.208000</td>\n",
       "      <td>45</td>\n",
       "      <td>0.156000</td>\n",
       "    </tr>\n",
       "    <tr>\n",
       "      <th>46</th>\n",
       "      <td>2133.060000</td>\n",
       "      <td>2133.190000</td>\n",
       "      <td>46</td>\n",
       "      <td>0.130000</td>\n",
       "    </tr>\n",
       "    <tr>\n",
       "      <th>47</th>\n",
       "      <td>2139.591000</td>\n",
       "      <td>2139.773000</td>\n",
       "      <td>47</td>\n",
       "      <td>0.182000</td>\n",
       "    </tr>\n",
       "    <tr>\n",
       "      <th>48</th>\n",
       "      <td>2284.278000</td>\n",
       "      <td>2284.380000</td>\n",
       "      <td>48</td>\n",
       "      <td>0.102000</td>\n",
       "    </tr>\n",
       "    <tr>\n",
       "      <th>49</th>\n",
       "      <td>2341.552738</td>\n",
       "      <td>2341.588000</td>\n",
       "      <td>49</td>\n",
       "      <td>0.035262</td>\n",
       "    </tr>\n",
       "    <tr>\n",
       "      <th>50</th>\n",
       "      <td>2437.567000</td>\n",
       "      <td>2437.821000</td>\n",
       "      <td>50</td>\n",
       "      <td>0.254000</td>\n",
       "    </tr>\n",
       "    <tr>\n",
       "      <th>51</th>\n",
       "      <td>2570.016798</td>\n",
       "      <td>2570.050879</td>\n",
       "      <td>51</td>\n",
       "      <td>0.034081</td>\n",
       "    </tr>\n",
       "    <tr>\n",
       "      <th>52</th>\n",
       "      <td>2634.169000</td>\n",
       "      <td>2634.611000</td>\n",
       "      <td>52</td>\n",
       "      <td>0.442000</td>\n",
       "    </tr>\n",
       "  </tbody>\n",
       "</table>\n",
       "</div>"
      ],
      "text/plain": [
       "          start         stop label  duration\n",
       "0     74.818000    74.974000     0  0.156000\n",
       "2    366.718000   366.916000     2  0.198000\n",
       "3    373.934000   374.200000     3  0.266000\n",
       "4    380.865000   381.156000     4  0.291000\n",
       "5    387.922000   388.073000     5  0.151000\n",
       "6    439.812000   440.163000     6  0.351000\n",
       "7    449.663000   449.769000     7  0.106000\n",
       "8    457.423000   457.587580     8  0.164580\n",
       "9    477.481000   477.789000     9  0.308000\n",
       "10   518.061000   518.278000    10  0.217000\n",
       "11   523.993000   524.164000    11  0.171000\n",
       "12   553.283000   553.528000    12  0.245000\n",
       "13   558.266000   558.524000    13  0.258000\n",
       "14   574.531000   574.673000    14  0.142000\n",
       "15   578.858000   579.156000    15  0.298000\n",
       "16   658.843000   658.988000    16  0.145000\n",
       "17   683.405000   683.416248    17  0.011248\n",
       "18   683.614630   683.648348    18  0.033718\n",
       "19   718.969000   719.160000    19  0.191000\n",
       "20   725.979000   726.183000    20  0.204000\n",
       "21   823.600000   823.750000    21  0.150000\n",
       "22   855.319000   855.528000    22  0.209000\n",
       "23   870.510000   870.570985    23  0.060985\n",
       "24   881.993000   882.095000    24  0.102000\n",
       "25   906.708000   906.846000    25  0.138000\n",
       "26   938.372342   938.405849    26  0.033507\n",
       "27   938.473349   938.496000    27  0.022651\n",
       "28   952.905000   953.012000    28  0.107000\n",
       "29   991.727000   992.083000    29  0.356000\n",
       "30  1014.472000  1014.733000    30  0.261000\n",
       "31  1022.333000  1022.560000    31  0.227000\n",
       "32  1271.363000  1271.594000    32  0.231000\n",
       "33  1293.796568  1293.897104    33  0.100536\n",
       "34  1409.681273  1409.858000    34  0.176727\n",
       "35  1417.915000  1418.056537    35  0.141537\n",
       "36  1569.568000  1569.742529    36  0.174529\n",
       "37  1590.797580  1590.829921    37  0.032341\n",
       "38  1668.976000  1669.149000    38  0.173000\n",
       "39  1808.423000  1808.723000    39  0.300000\n",
       "40  1971.724000  1971.969000    40  0.245000\n",
       "41  1988.703000  1988.816000    41  0.113000\n",
       "42  2011.910000  2012.083000    42  0.173000\n",
       "43  2056.635000  2056.787000    43  0.152000\n",
       "44  2060.021000  2060.435000    44  0.414000\n",
       "45  2100.052000  2100.208000    45  0.156000\n",
       "46  2133.060000  2133.190000    46  0.130000\n",
       "47  2139.591000  2139.773000    47  0.182000\n",
       "48  2284.278000  2284.380000    48  0.102000\n",
       "49  2341.552738  2341.588000    49  0.035262\n",
       "50  2437.567000  2437.821000    50  0.254000\n",
       "51  2570.016798  2570.050879    51  0.034081\n",
       "52  2634.169000  2634.611000    52  0.442000"
      ]
     },
     "execution_count": 31,
     "metadata": {},
     "output_type": "execute_result"
    }
   ],
   "source": [
    "Epoch\n",
    "\n",
    "an_epoch = an_epoch.to_dataframe()[an_epoch.durations <= max_duration]\n",
    "an_epoch"
   ]
  },
  {
   "cell_type": "code",
   "execution_count": 28,
   "id": "ed9e7a7f-38d2-425b-b6af-ec1bd4eb480d",
   "metadata": {},
   "outputs": [],
   "source": []
  },
  {
   "cell_type": "code",
   "execution_count": 29,
   "id": "cb00c98a-82f3-40c1-812f-f2dae7f9f81b",
   "metadata": {},
   "outputs": [
    {
     "data": {
      "text/plain": [
       "array([[  74.818   ,   74.974   ],\n",
       "       [ 366.718   ,  366.916   ],\n",
       "       [ 373.934   ,  374.2     ],\n",
       "       [ 380.865   ,  381.156   ],\n",
       "       [ 387.922   ,  388.073   ],\n",
       "       [ 439.812   ,  440.163   ],\n",
       "       [ 449.663   ,  449.769   ],\n",
       "       [ 457.423   ,  457.58758 ],\n",
       "       [ 477.481   ,  477.789   ],\n",
       "       [ 518.061   ,  518.278   ],\n",
       "       [ 523.993   ,  524.164   ],\n",
       "       [ 553.283   ,  553.528   ],\n",
       "       [ 558.266   ,  558.524   ],\n",
       "       [ 574.531   ,  574.673   ],\n",
       "       [ 578.858   ,  579.156   ],\n",
       "       [ 658.843   ,  658.988   ],\n",
       "       [ 683.405   ,  683.416248],\n",
       "       [ 683.61463 ,  683.648348],\n",
       "       [ 718.969   ,  719.16    ],\n",
       "       [ 725.979   ,  726.183   ],\n",
       "       [ 823.6     ,  823.75    ],\n",
       "       [ 855.319   ,  855.528   ],\n",
       "       [ 870.51    ,  870.570985],\n",
       "       [ 881.993   ,  882.095   ],\n",
       "       [ 906.708   ,  906.846   ],\n",
       "       [ 938.372342,  938.405849],\n",
       "       [ 938.473349,  938.496   ],\n",
       "       [ 952.905   ,  953.012   ],\n",
       "       [ 991.727   ,  992.083   ],\n",
       "       [1014.472   , 1014.733   ],\n",
       "       [1022.333   , 1022.56    ],\n",
       "       [1271.363   , 1271.594   ],\n",
       "       [1293.796568, 1293.897104],\n",
       "       [1409.681273, 1409.858   ],\n",
       "       [1417.915   , 1418.056537],\n",
       "       [1569.568   , 1569.742529],\n",
       "       [1590.79758 , 1590.829921],\n",
       "       [1668.976   , 1669.149   ],\n",
       "       [1808.423   , 1808.723   ],\n",
       "       [1971.724   , 1971.969   ],\n",
       "       [1988.703   , 1988.816   ],\n",
       "       [2011.91    , 2012.083   ],\n",
       "       [2056.635   , 2056.787   ],\n",
       "       [2060.021   , 2060.435   ],\n",
       "       [2100.052   , 2100.208   ],\n",
       "       [2133.06    , 2133.19    ],\n",
       "       [2139.591   , 2139.773   ],\n",
       "       [2284.278   , 2284.38    ],\n",
       "       [2341.552738, 2341.588   ],\n",
       "       [2437.567   , 2437.821   ],\n",
       "       [2570.016798, 2570.050879],\n",
       "       [2634.169   , 2634.611   ]])"
      ]
     },
     "execution_count": 29,
     "metadata": {},
     "output_type": "execute_result"
    }
   ],
   "source": [
    "an_epoch."
   ]
  },
  {
   "cell_type": "code",
   "execution_count": 13,
   "id": "b3c25591-fd23-4f48-915c-e615dcea9d56",
   "metadata": {},
   "outputs": [
    {
     "name": "stdout",
     "output_type": "stream",
     "text": [
      "Automatic pdb calling has been turned ON\n",
      "computing estimated replay epochs for session...\n",
      "\n",
      "missing .replay epochs, using KnownFilterEpochs.PBE as surrogate replays...\n"
     ]
    },
    {
     "ename": "AttributeError",
     "evalue": "'numpy.ndarray' object has no attribute 'duration'",
     "output_type": "error",
     "traceback": [
      "\u001b[1;31m---------------------------------------------------------------------------\u001b[0m",
      "\u001b[1;31mKeyError\u001b[0m                                  Traceback (most recent call last)",
      "File \u001b[1;32m~\\repos\\NeuroPy\\neuropy\\utils\\result_context.py:382\u001b[0m, in \u001b[0;36mcontext_extraction.__call__.<locals>.wrapper\u001b[1;34m(*args, **kwds)\u001b[0m\n\u001b[0;32m    380\u001b[0m \u001b[38;5;28;01mtry\u001b[39;00m:\n\u001b[0;32m    381\u001b[0m     \u001b[38;5;66;03m# get cache entry\u001b[39;00m\n\u001b[1;32m--> 382\u001b[0m     result \u001b[38;5;241m=\u001b[39m \u001b[43mcache\u001b[49m\u001b[43m[\u001b[49m\u001b[43mkey\u001b[49m\u001b[43m]\u001b[49m\n\u001b[0;32m    383\u001b[0m     \u001b[38;5;28;01mraise\u001b[39;00m \u001b[38;5;167;01mKeyError\u001b[39;00m \u001b[38;5;66;03m# Disable loading from cache by raising a key error no matter what. TODO: potentially enable cache.\u001b[39;00m\n",
      "\u001b[1;31mKeyError\u001b[0m: \"((), {'min_epoch_included_duration': 0.06, 'max_epoch_included_duration': 0.6, 'maximum_speed_thresh': 2.0, 'save_on_compute': NULL, 'debug_print': NULL})\"",
      "\nDuring handling of the above exception, another exception occurred:\n",
      "\u001b[1;31mKeyError\u001b[0m                                  Traceback (most recent call last)",
      "File \u001b[1;32m~\\repos\\NeuroPy\\neuropy\\utils\\result_context.py:390\u001b[0m, in \u001b[0;36mcontext_extraction.__call__.<locals>.wrapper\u001b[1;34m(*args, **kwds)\u001b[0m\n\u001b[0;32m    389\u001b[0m \u001b[38;5;28;01mtry\u001b[39;00m:\n\u001b[1;32m--> 390\u001b[0m     result \u001b[38;5;241m=\u001b[39m \u001b[43mcache\u001b[49m\u001b[43m[\u001b[49m\u001b[43mkey\u001b[49m\u001b[43m]\u001b[49m\n\u001b[0;32m    391\u001b[0m     \u001b[38;5;28;01mraise\u001b[39;00m \u001b[38;5;167;01mKeyError\u001b[39;00m \u001b[38;5;66;03m# Disable loading from cache by raising a key error no matter what. TODO: potentially enable cache.\u001b[39;00m\n",
      "\u001b[1;31mKeyError\u001b[0m: \"((), {'min_epoch_included_duration': 0.06, 'max_epoch_included_duration': 0.6, 'maximum_speed_thresh': 2.0, 'save_on_compute': NULL, 'debug_print': NULL})\"",
      "\nDuring handling of the above exception, another exception occurred:\n",
      "\u001b[1;31mAttributeError\u001b[0m                            Traceback (most recent call last)",
      "Cell \u001b[1;32mIn[13], line 2\u001b[0m\n\u001b[0;32m      1\u001b[0m get_ipython()\u001b[38;5;241m.\u001b[39mrun_line_magic(\u001b[38;5;124m'\u001b[39m\u001b[38;5;124mpdb\u001b[39m\u001b[38;5;124m'\u001b[39m, \u001b[38;5;124m'\u001b[39m\u001b[38;5;124mon\u001b[39m\u001b[38;5;124m'\u001b[39m)\n\u001b[1;32m----> 2\u001b[0m out2 \u001b[38;5;241m=\u001b[39m \u001b[43mactive_sess\u001b[49m\u001b[38;5;241;43m.\u001b[39;49m\u001b[43mperform_compute_estimated_replay_epochs\u001b[49m\u001b[43m(\u001b[49m\u001b[43mmin_epoch_included_duration\u001b[49m\u001b[38;5;241;43m=\u001b[39;49m\u001b[38;5;241;43m0.06\u001b[39;49m\u001b[43m,\u001b[49m\u001b[43m \u001b[49m\u001b[43mmax_epoch_included_duration\u001b[49m\u001b[38;5;241;43m=\u001b[39;49m\u001b[38;5;241;43m0.600\u001b[39;49m\u001b[43m,\u001b[49m\u001b[43m \u001b[49m\u001b[43mmaximum_speed_thresh\u001b[49m\u001b[38;5;241;43m=\u001b[39;49m\u001b[38;5;241;43m2.0\u001b[39;49m\u001b[43m)\u001b[49m\n\u001b[0;32m      3\u001b[0m out2\n",
      "File \u001b[1;32m~\\repos\\NeuroPy\\neuropy\\utils\\result_context.py:395\u001b[0m, in \u001b[0;36mcontext_extraction.__call__.<locals>.wrapper\u001b[1;34m(*args, **kwds)\u001b[0m\n\u001b[0;32m    392\u001b[0m     stats[LOAD] \u001b[38;5;241m+\u001b[39m\u001b[38;5;241m=\u001b[39m \u001b[38;5;241m1\u001b[39m\n\u001b[0;32m    393\u001b[0m \u001b[38;5;28;01mexcept\u001b[39;00m \u001b[38;5;167;01mKeyError\u001b[39;00m:\n\u001b[0;32m    394\u001b[0m     \u001b[38;5;66;03m# if not found, then compute\u001b[39;00m\n\u001b[1;32m--> 395\u001b[0m     result \u001b[38;5;241m=\u001b[39m user_function(\u001b[38;5;241m*\u001b[39margs, \u001b[38;5;241m*\u001b[39m\u001b[38;5;241m*\u001b[39mkwds)\n\u001b[0;32m    396\u001b[0m     cache[key] \u001b[38;5;241m=\u001b[39m result\n\u001b[0;32m    397\u001b[0m     stats[MISS] \u001b[38;5;241m+\u001b[39m\u001b[38;5;241m=\u001b[39m \u001b[38;5;241m1\u001b[39m\n",
      "File \u001b[1;32m~\\repos\\NeuroPy\\neuropy\\core\\session\\dataSession.py:399\u001b[0m, in \u001b[0;36mDataSession.perform_compute_estimated_replay_epochs\u001b[1;34m(self, min_epoch_included_duration, max_epoch_included_duration, maximum_speed_thresh, save_on_compute, debug_print)\u001b[0m\n\u001b[0;32m    385\u001b[0m \u001b[38;5;129m@memoized\u001b[39m(cache\u001b[38;5;241m=\u001b[39m_context_cache, keymap\u001b[38;5;241m=\u001b[39m_context_keymap, ignore\u001b[38;5;241m=\u001b[39m(\u001b[38;5;124m'\u001b[39m\u001b[38;5;124mself\u001b[39m\u001b[38;5;124m'\u001b[39m, \u001b[38;5;124m'\u001b[39m\u001b[38;5;124msave_on_compute\u001b[39m\u001b[38;5;124m'\u001b[39m, \u001b[38;5;124m'\u001b[39m\u001b[38;5;124mdebug_print\u001b[39m\u001b[38;5;124m'\u001b[39m))\n\u001b[0;32m    386\u001b[0m \u001b[38;5;28;01mdef\u001b[39;00m \u001b[38;5;21mperform_compute_estimated_replay_epochs\u001b[39m(\u001b[38;5;28mself\u001b[39m, min_epoch_included_duration\u001b[38;5;241m=\u001b[39m\u001b[38;5;241m0.06\u001b[39m, max_epoch_included_duration\u001b[38;5;241m=\u001b[39m\u001b[38;5;241m0.6\u001b[39m, maximum_speed_thresh\u001b[38;5;241m=\u001b[39m\u001b[38;5;241m2.0\u001b[39m, save_on_compute\u001b[38;5;241m=\u001b[39m\u001b[38;5;28;01mFalse\u001b[39;00m, debug_print\u001b[38;5;241m=\u001b[39m\u001b[38;5;28;01mFalse\u001b[39;00m):\n\u001b[0;32m    387\u001b[0m \u001b[38;5;250m    \u001b[39m\u001b[38;5;124;03m\"\"\"estimates replay epochs from PBE and Position data.\u001b[39;00m\n\u001b[0;32m    388\u001b[0m \n\u001b[0;32m    389\u001b[0m \u001b[38;5;124;03m    Args:\u001b[39;00m\n\u001b[1;32m   (...)\u001b[0m\n\u001b[0;32m    397\u001b[0m \u001b[38;5;124;03m        _type_: _description_\u001b[39;00m\n\u001b[0;32m    398\u001b[0m \u001b[38;5;124;03m    \"\"\"\u001b[39;00m\n\u001b[1;32m--> 399\u001b[0m     \u001b[38;5;28;01mreturn\u001b[39;00m \u001b[43mDataSession\u001b[49m\u001b[38;5;241;43m.\u001b[39;49m\u001b[43mcompute_estimated_replay_epochs\u001b[49m\u001b[43m(\u001b[49m\u001b[38;5;28;43mself\u001b[39;49m\u001b[43m,\u001b[49m\u001b[43m \u001b[49m\u001b[43mmin_epoch_included_duration\u001b[49m\u001b[38;5;241;43m=\u001b[39;49m\u001b[43mmin_epoch_included_duration\u001b[49m\u001b[43m,\u001b[49m\u001b[43m \u001b[49m\u001b[43mmax_epoch_included_duration\u001b[49m\u001b[38;5;241;43m=\u001b[39;49m\u001b[43mmax_epoch_included_duration\u001b[49m\u001b[43m,\u001b[49m\u001b[43m \u001b[49m\u001b[43mmaximum_speed_thresh\u001b[49m\u001b[38;5;241;43m=\u001b[39;49m\u001b[43mmaximum_speed_thresh\u001b[49m\u001b[43m,\u001b[49m\u001b[43m \u001b[49m\u001b[43msave_on_compute\u001b[49m\u001b[38;5;241;43m=\u001b[39;49m\u001b[43msave_on_compute\u001b[49m\u001b[43m,\u001b[49m\u001b[43m \u001b[49m\u001b[43mdebug_print\u001b[49m\u001b[38;5;241;43m=\u001b[39;49m\u001b[43mdebug_print\u001b[49m\u001b[43m)\u001b[49m\n",
      "File \u001b[1;32m~\\repos\\NeuroPy\\neuropy\\core\\session\\dataSession.py:436\u001b[0m, in \u001b[0;36mDataSession.compute_estimated_replay_epochs\u001b[1;34m(a_session, min_epoch_included_duration, max_epoch_included_duration, maximum_speed_thresh, save_on_compute, debug_print)\u001b[0m\n\u001b[0;32m    434\u001b[0m curr_replays \u001b[38;5;241m=\u001b[39m KnownFilterEpochs\u001b[38;5;241m.\u001b[39mperform_get_filter_epochs_df(sess\u001b[38;5;241m=\u001b[39ma_session, filter_epochs\u001b[38;5;241m=\u001b[39mfilter_epochs, min_epoch_included_duration\u001b[38;5;241m=\u001b[39m\u001b[38;5;28;01mNone\u001b[39;00m) \u001b[38;5;66;03m# returns Epoch object, don't use min_epoch_included_duration here, we'll do it in the next step.\u001b[39;00m\n\u001b[0;32m    435\u001b[0m \u001b[38;5;66;03m# Filter by duration bounds:\u001b[39;00m\n\u001b[1;32m--> 436\u001b[0m curr_replays \u001b[38;5;241m=\u001b[39m \u001b[43mfilter_epochs_by_duration\u001b[49m\u001b[43m(\u001b[49m\u001b[43mcurr_replays\u001b[49m\u001b[43m,\u001b[49m\u001b[43m \u001b[49m\u001b[43mmin_duration\u001b[49m\u001b[38;5;241;43m=\u001b[39;49m\u001b[43mmin_epoch_included_duration\u001b[49m\u001b[43m,\u001b[49m\u001b[43m \u001b[49m\u001b[43mmax_duration\u001b[49m\u001b[38;5;241;43m=\u001b[39;49m\u001b[43mmax_epoch_included_duration\u001b[49m\u001b[43m)\u001b[49m\n\u001b[0;32m    437\u001b[0m \u001b[38;5;66;03m# Filter *_replays_Interval by requiring them to be below the speed:\u001b[39;00m\n\u001b[0;32m    438\u001b[0m curr_replays, above_speed_threshold_intervals, below_speed_threshold_intervals \u001b[38;5;241m=\u001b[39m filter_epochs_by_speed(a_session\u001b[38;5;241m.\u001b[39mposition\u001b[38;5;241m.\u001b[39mto_dataframe(), curr_replays, speed_thresh\u001b[38;5;241m=\u001b[39mmaximum_speed_thresh, debug_print\u001b[38;5;241m=\u001b[39mdebug_print)\n",
      "File \u001b[1;32m~\\repos\\NeuroPy\\neuropy\\utils\\efficient_interval_search.py:503\u001b[0m, in \u001b[0;36mfilter_epochs_by_duration\u001b[1;34m(an_epoch, min_duration, max_duration)\u001b[0m\n\u001b[0;32m    501\u001b[0m     an_epoch \u001b[38;5;241m=\u001b[39m an_epoch[an_epoch\u001b[38;5;241m.\u001b[39mduration \u001b[38;5;241m>\u001b[39m\u001b[38;5;241m=\u001b[39m min_duration] \u001b[38;5;66;03m# only include those epochs which are greater than or equal to two decoding time bins\u001b[39;00m\n\u001b[0;32m    502\u001b[0m \u001b[38;5;28;01mif\u001b[39;00m max_duration \u001b[38;5;129;01mis\u001b[39;00m \u001b[38;5;129;01mnot\u001b[39;00m \u001b[38;5;28;01mNone\u001b[39;00m:\n\u001b[1;32m--> 503\u001b[0m     an_epoch \u001b[38;5;241m=\u001b[39m an_epoch[\u001b[43man_epoch\u001b[49m\u001b[38;5;241;43m.\u001b[39;49m\u001b[43mduration\u001b[49m \u001b[38;5;241m<\u001b[39m\u001b[38;5;241m=\u001b[39m max_duration]  \u001b[38;5;66;03m# only include those epochs which are greater than or equal to two decoding time bins\u001b[39;00m\n\u001b[0;32m    504\u001b[0m \u001b[38;5;28;01mreturn\u001b[39;00m an_epoch\n",
      "\u001b[1;31mAttributeError\u001b[0m: 'numpy.ndarray' object has no attribute 'duration'"
     ]
    },
    {
     "name": "stdout",
     "output_type": "stream",
     "text": [
      "> \u001b[1;32mc:\\users\\pho\\repos\\neuropy\\neuropy\\utils\\efficient_interval_search.py\u001b[0m(503)\u001b[0;36mfilter_epochs_by_duration\u001b[1;34m()\u001b[0m\n",
      "\u001b[1;32m    501 \u001b[1;33m        \u001b[0man_epoch\u001b[0m \u001b[1;33m=\u001b[0m \u001b[0man_epoch\u001b[0m\u001b[1;33m[\u001b[0m\u001b[0man_epoch\u001b[0m\u001b[1;33m.\u001b[0m\u001b[0mduration\u001b[0m \u001b[1;33m>=\u001b[0m \u001b[0mmin_duration\u001b[0m\u001b[1;33m]\u001b[0m \u001b[1;31m# only include those epochs which are greater than or equal to two decoding time bins\u001b[0m\u001b[1;33m\u001b[0m\u001b[1;33m\u001b[0m\u001b[0m\n",
      "\u001b[0m\u001b[1;32m    502 \u001b[1;33m    \u001b[1;32mif\u001b[0m \u001b[0mmax_duration\u001b[0m \u001b[1;32mis\u001b[0m \u001b[1;32mnot\u001b[0m \u001b[1;32mNone\u001b[0m\u001b[1;33m:\u001b[0m\u001b[1;33m\u001b[0m\u001b[1;33m\u001b[0m\u001b[0m\n",
      "\u001b[0m\u001b[1;32m--> 503 \u001b[1;33m        \u001b[0man_epoch\u001b[0m \u001b[1;33m=\u001b[0m \u001b[0man_epoch\u001b[0m\u001b[1;33m[\u001b[0m\u001b[0man_epoch\u001b[0m\u001b[1;33m.\u001b[0m\u001b[0mduration\u001b[0m \u001b[1;33m<=\u001b[0m \u001b[0mmax_duration\u001b[0m\u001b[1;33m]\u001b[0m  \u001b[1;31m# only include those epochs which are greater than or equal to two decoding time bins\u001b[0m\u001b[1;33m\u001b[0m\u001b[1;33m\u001b[0m\u001b[0m\n",
      "\u001b[0m\u001b[1;32m    504 \u001b[1;33m    \u001b[1;32mreturn\u001b[0m \u001b[0man_epoch\u001b[0m\u001b[1;33m\u001b[0m\u001b[1;33m\u001b[0m\u001b[0m\n",
      "\u001b[0m\u001b[1;32m    505 \u001b[1;33m\u001b[1;33m\u001b[0m\u001b[0m\n",
      "\u001b[0m\n"
     ]
    },
    {
     "name": "stdin",
     "output_type": "stream",
     "text": [
      "ipdb>  continue\n"
     ]
    }
   ],
   "source": [
    "out2"
   ]
  },
  {
   "cell_type": "code",
   "execution_count": null,
   "id": "4ebd1089-e115-4659-8272-b9f3cdb79bb9",
   "metadata": {},
   "outputs": [],
   "source": [
    "out3 = active_sess.perform_compute_estimated_replay_epochs(min_epoch_included_duration=0.1, maximum_speed_thresh=2.0)\n",
    "out3"
   ]
  },
  {
   "cell_type": "code",
   "execution_count": null,
   "id": "8b25db68-1a3f-4ecd-afe6-bb305185dd20",
   "metadata": {},
   "outputs": [],
   "source": [
    "import os\n",
    "import pynapple as nap\n",
    "from pynapple.core.interval_set import IntervalSet\n",
    "\n",
    "def write_neuroscope_intervals(isets, name, parent_path, basename, extension='derived.evt'):\n",
    "    \"\"\"Write events to load with neuroscope (e.g. ripples start and ends)\n",
    "    \n",
    "    Written 2023-02-08 to save computed replays out to .evt file to be read in by Neuroscope, but unfortunately it looks like the Epoch.to_neuroscope(...) function already works just as well (if not better) and doesn't require pynapple...\n",
    "\n",
    "    Parameters\n",
    "    ----------\n",
    "    extension : str\n",
    "        The extension of the file (e.g. basename.evt.py.rip)\n",
    "    isets : IntervalSet\n",
    "        The IntervalSet to write\n",
    "    name : str\n",
    "        The name of the events (e.g. Ripples)\n",
    "    \"\"\"\n",
    "    start = isets.as_units(\"ms\")[\"start\"].values\n",
    "    ends = isets.as_units(\"ms\")[\"end\"].values\n",
    "\n",
    "    datatowrite = np.vstack((start, ends)).T.flatten()\n",
    "\n",
    "    n = len(isets)\n",
    "\n",
    "    texttowrite = np.vstack(\n",
    "        (\n",
    "            (np.repeat(np.array([name + \" start\"]), n)),\n",
    "            (np.repeat(np.array([name + \" end\"]), n)),\n",
    "        )\n",
    "    ).T.flatten()\n",
    "\n",
    "    evt_file = os.path.join(parent_path, basename + extension)\n",
    "\n",
    "    f = open(evt_file, \"w\")\n",
    "    for t, n in zip(datatowrite, texttowrite):\n",
    "        f.writelines(\"{:1.6f}\".format(t) + \"\\t\" + n + \"\\n\")\n",
    "    f.close()\n",
    "\n",
    "    return evt_file\n",
    "\n",
    "outIntervalSet = IntervalSet(start=out.starts, end=out.stops, time_units=\"s\")\n",
    "write_neuroscope_intervals(outIntervalSet, 'pho_replays', str(active_sess.basepath), active_sess.name, extension='.PHO.evt')"
   ]
  },
  {
   "cell_type": "code",
   "execution_count": null,
   "id": "f635dc3b-7cc6-43c2-a89e-67c78a940d77",
   "metadata": {},
   "outputs": [],
   "source": [
    "active_sess.name"
   ]
  },
  {
   "cell_type": "code",
   "execution_count": null,
   "id": "dc785e26-0518-44bf-ad70-709ef6288b4c",
   "metadata": {},
   "outputs": [],
   "source": [
    "active_sess.basepath"
   ]
  },
  {
   "cell_type": "code",
   "execution_count": null,
   "id": "a0f2e2b5-cfa5-4eb7-9715-24822787a03d",
   "metadata": {},
   "outputs": [],
   "source": [
    "parent_path = active_sess.basepath\n",
    "\n",
    "# parent_path.with_suffix"
   ]
  },
  {
   "cell_type": "code",
   "execution_count": null,
   "id": "1fe46772-aa1c-42fb-abaa-82dcc2cf529c",
   "metadata": {},
   "outputs": [],
   "source": [
    "## Compute estimated replay intervals from the PBEs and export them to a neuroscope file\n",
    "active_sess = curr_active_pipeline.filtered_sessions['maze']\n",
    "out = active_sess.perform_compute_estimated_replay_epochs(min_epoch_included_duration=0.06, maximum_speed_thresh=2.0)\n",
    "out.filename = active_sess.basepath.joinpath(active_sess.name).with_suffix('.derived')\n",
    "final_export_path = out.to_neuroscope()\n",
    "print(f'Exporting estimated replays to Neuroscope .evt file: {final_export_path}')\n"
   ]
  },
  {
   "cell_type": "code",
   "execution_count": null,
   "id": "e054173e-43a5-4b53-8a51-be6ad39719d7",
   "metadata": {},
   "outputs": [],
   "source": [
    "nap_session = nap.load_session(str(active_sess.basepath), 'neurosuite')\n",
    "nap_session"
   ]
  },
  {
   "cell_type": "code",
   "execution_count": null,
   "id": "09852909-4d8f-48de-91fb-8bab5b4a4d5c",
   "metadata": {},
   "outputs": [],
   "source": [
    "from pynapple.io import write_neuroscope_intervals\n",
    "neurosuite"
   ]
  },
  {
   "cell_type": "code",
   "execution_count": null,
   "id": "b2f935d8-43fe-499b-838b-9bffb978791c",
   "metadata": {},
   "outputs": [],
   "source": [
    "write_neuroscope_intervals"
   ]
  },
  {
   "cell_type": "code",
   "execution_count": null,
   "id": "2c62eeff-ffb4-40db-b7b8-909002e54f87",
   "metadata": {},
   "outputs": [],
   "source": [
    "_context_cache = active_sess.perform_compute_estimated_replay_epochs.__cache__()\n",
    "_context_cache"
   ]
  },
  {
   "cell_type": "code",
   "execution_count": null,
   "id": "4b649806-312e-4f21-ab1b-7d0033d2a83e",
   "metadata": {},
   "outputs": [],
   "source": []
  },
  {
   "cell_type": "code",
   "execution_count": null,
   "id": "bc3ee527-b146-456a-9a1a-250e2465c316",
   "metadata": {},
   "outputs": [],
   "source": [
    "_context_cache.to_frame()"
   ]
  },
  {
   "cell_type": "code",
   "execution_count": null,
   "id": "4a188f8f-5a1f-4503-b2e8-6103487e8420",
   "metadata": {},
   "outputs": [],
   "source": [
    "def rebuild_arguments_from_stringmap_key(a_tuple_str):\n",
    "    \"\"\" rebuilds the arg, kwargs from a cached function call that was cached using the keymap 'stringmap' \"\"\"\n",
    "    NULL = 'NULL'\n",
    "    # each key is a tuple containing (args, kwargs) for the function\n",
    "    # print(f'{a_tuple_str =}, len: {len(a_tuple_str)}')\n",
    "    a_tuple = eval(a_tuple_str) # eval the string back into a real Python tuple\n",
    "    args, kwargs = a_tuple\n",
    "    # remove NULL entries\n",
    "    kwargs = {k:v for k, v in kwargs.items() if v != 'NULL'}\n",
    "    # print(kwargs)\n",
    "    # print(f'{(args, kwargs) =}')\n",
    "    return args, kwargs\n",
    "    \n",
    "_context_cache_recovered_args = {}\n",
    "\n",
    "for a_key_str in _context_cache.keys():\n",
    "    args, kwargs = rebuild_arguments_from_stringmap_key(a_key_str)\n",
    "    _context_cache_recovered_args[a_key_str] = (args, kwargs)\n",
    "    \n",
    "_context_cache_recovered_args"
   ]
  },
  {
   "cell_type": "code",
   "execution_count": null,
   "id": "f632a0f8-ff1c-4322-86fa-91b2e50218f3",
   "metadata": {},
   "outputs": [],
   "source": [
    "active_sess.replay"
   ]
  },
  {
   "cell_type": "code",
   "execution_count": null,
   "id": "87c4c45d-3003-4e0a-bb55-2049a08433bd",
   "metadata": {},
   "outputs": [],
   "source": [
    "active_sess.pbe"
   ]
  },
  {
   "cell_type": "code",
   "execution_count": null,
   "id": "68712788-6729-4e37-8879-10a1460632b7",
   "metadata": {},
   "outputs": [],
   "source": [
    "active_sess.custom_replay = deepcopy(out2)"
   ]
  },
  {
   "cell_type": "code",
   "execution_count": null,
   "id": "3274aeaa-f3d4-48eb-bb9f-521a3ceb4e56",
   "metadata": {},
   "outputs": [],
   "source": [
    "active_sess.custom_replay"
   ]
  },
  {
   "cell_type": "code",
   "execution_count": null,
   "id": "5b998924-0bbe-4c19-9ac0-4659edd94b09",
   "metadata": {},
   "outputs": [],
   "source": [
    "active_sess.epochs"
   ]
  },
  {
   "cell_type": "code",
   "execution_count": null,
   "id": "3cd13e68-70e2-42e3-876a-96857a95448b",
   "metadata": {},
   "outputs": [],
   "source": [
    "active_sess.comput\n",
    "# Ideally could access all of the 'Epoch'-type members (or Epoch-convertable dataframes) the object (session in this case) has. This allows visualizations to \"discover\" the possible types of data they can visualize without having to code a custom menu-item/visualization/etc for each type of epoch. Ideally this like a \"trait\" or something, perhaps a property decorator?\n",
    "# Makes the most sense for computed data?"
   ]
  },
  {
   "cell_type": "code",
   "execution_count": null,
   "id": "4aaf4ecf-5f8a-4a60-ba49-f98968736d00",
   "metadata": {},
   "outputs": [],
   "source": [
    "active_sess.perform_compute_estimated_replay_epochs.dump()"
   ]
  },
  {
   "cell_type": "code",
   "execution_count": null,
   "id": "ead89d28-f1a8-4123-9b1e-7a206fb213bb",
   "metadata": {},
   "outputs": [],
   "source": [
    "active_sess.perform_compute_estimated_replay_epochs.info()"
   ]
  },
  {
   "cell_type": "code",
   "execution_count": null,
   "id": "aab8f5cf-ea46-4e9a-ba3b-a408c4932a3e",
   "metadata": {},
   "outputs": [],
   "source": [
    "active_sess.perform_compute_estimated_replay_epochs.__map__()"
   ]
  },
  {
   "cell_type": "code",
   "execution_count": null,
   "id": "0bf6ab15-c4d6-4d92-8b60-8a3cba1a1056",
   "metadata": {},
   "outputs": [],
   "source": [
    "active_sess.perform_compute_estimated_replay_epochs.__mask__()"
   ]
  },
  {
   "cell_type": "code",
   "execution_count": null,
   "id": "e98c99fd-a9b5-44f4-939e-d05f1954eb00",
   "metadata": {},
   "outputs": [],
   "source": []
  },
  {
   "cell_type": "code",
   "execution_count": null,
   "id": "d4778233-26b3-4274-8657-33a28975df2c",
   "metadata": {},
   "outputs": [],
   "source": [
    "# Converting Shit"
   ]
  },
  {
   "cell_type": "code",
   "execution_count": null,
   "id": "52bff333-bddd-41bd-bee5-ff20bcab55a2",
   "metadata": {},
   "outputs": [],
   "source": [
    "\n",
    "active_2d_plot.add_rendered_intervals(new_PBEs_interval_datasource, name='PBEs', child_plots=[background_static_scroll_plot_widget, main_plot_widget], debug_print=False)"
   ]
  }
 ],
 "metadata": {
  "jupytext": {
   "formats": "ipynb,py:light"
  },
  "kernelspec": {
   "display_name": "spike3d-poetry",
   "language": "python",
   "name": "spike3d-poetry"
  },
  "language_info": {
   "codemirror_mode": {
    "name": "ipython",
    "version": 3
   },
   "file_extension": ".py",
   "mimetype": "text/x-python",
   "name": "python",
   "nbconvert_exporter": "python",
   "pygments_lexer": "ipython3",
   "version": "3.9.13"
  },
  "toc-showtags": false
 },
 "nbformat": 4,
 "nbformat_minor": 5
}
