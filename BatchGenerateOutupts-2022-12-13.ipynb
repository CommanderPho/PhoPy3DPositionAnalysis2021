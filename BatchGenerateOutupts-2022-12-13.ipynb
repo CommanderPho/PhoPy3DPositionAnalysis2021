{
 "cells": [
  {
   "cell_type": "markdown",
   "id": "7dd392e0-1cc6-407a-8c0c-18f66153a51b",
   "metadata": {},
   "source": [
    "# Imports"
   ]
  },
  {
   "cell_type": "code",
   "execution_count": 80,
   "id": "e8063c28-10a2-4e3d-a524-a09b38b4db06",
   "metadata": {},
   "outputs": [
    {
     "name": "stdout",
     "output_type": "stream",
     "text": [
      "Automatic pdb calling has been turned OFF\n",
      "The autoreload extension is already loaded. To reload it, use:\n",
      "  %reload_ext autoreload\n"
     ]
    }
   ],
   "source": [
    "%pdb off\n",
    "# %load_ext viztracer\n",
    "%load_ext autoreload\n",
    "%autoreload 2\n",
    "import sys\n",
    "import importlib\n",
    "from pathlib import Path\n",
    "from benedict import benedict\n",
    "import numpy as np\n",
    "\n",
    "# required to enable non-blocking interaction:\n",
    "# %gui qt\n",
    "# !env QT_API=\"pyqt5\"\n",
    "%gui qt5\n",
    "# %gui qt6\n",
    "# from PyQt5.Qt import QApplication\n",
    "# # start qt event loop\n",
    "# _instance = QApplication.instance()\n",
    "# if not _instance:\n",
    "#     _instance = QApplication([])\n",
    "# app = _instance\n",
    "\n",
    "from copy import deepcopy\n",
    "from numba import jit\n",
    "import numpy as np\n",
    "import pandas as pd\n",
    "from benedict import benedict # https://github.com/fabiocaccamo/python-benedict#usage\n",
    "\n",
    "# Pho's Formatting Preferences\n",
    "# from pyphocorehelpers.preferences_helpers import set_pho_preferences, set_pho_preferences_concise, set_pho_preferences_verbose\n",
    "# set_pho_preferences_concise()\n",
    "\n",
    "## Pho's Custom Libraries:\n",
    "from pyphocorehelpers.general_helpers import CodeConversion\n",
    "from pyphocorehelpers.print_helpers import print_keys_if_possible, print_value_overview_only, document_active_variables\n",
    "\n",
    "# pyPhoPlaceCellAnalysis:\n",
    "from pyphoplacecellanalysis.General.Pipeline.NeuropyPipeline import NeuropyPipeline # get_neuron_identities\n",
    "\n",
    "# NeuroPy (Diba Lab Python Repo) Loading\n",
    "# from neuropy import core\n",
    "from neuropy.analyses.placefields import PlacefieldComputationParameters\n",
    "from neuropy.core.epoch import NamedTimerange\n",
    "from neuropy.core.session.Formats.BaseDataSessionFormats import DataSessionFormatRegistryHolder\n",
    "from neuropy.core.session.Formats.Specific.BapunDataSessionFormat import BapunDataSessionFormatRegisteredClass\n",
    "from neuropy.core.session.Formats.Specific.KDibaOldDataSessionFormat import KDibaOldDataSessionFormatRegisteredClass\n",
    "from neuropy.core.session.Formats.Specific.RachelDataSessionFormat import RachelDataSessionFormat\n",
    "from neuropy.core.session.Formats.Specific.HiroDataSessionFormat import HiroDataSessionFormatRegisteredClass\n",
    "\n",
    "## For computation parameters:\n",
    "from neuropy.analyses.placefields import PlacefieldComputationParameters\n",
    "from neuropy.utils.dynamic_container import DynamicContainer\n",
    "from neuropy.utils.result_context import IdentifyingContext\n",
    "\n",
    "from PendingNotebookCode import _perform_batch_plot, _build_batch_plot_kwargs, find_local_session_paths, batch_load_session, batch_programmatic_figures, SessionBatchProgress, batch_extended_programmatic_figures\n",
    "\n",
    "session_batch_status = {}\n",
    "enable_saving_to_disk = False\n",
    "\n",
    "global_data_root_parent_path = Path(r'W:\\Data') # Windows Apogee\n",
    "# global_data_root_parent_path = Path(r'/media/MAX/Data') # Diba Lab Workstation Linux\n",
    "# global_data_root_parent_path = Path(r'/Volumes/MoverNew/data') # rMBP\n",
    "assert global_data_root_parent_path.exists(), f\"global_data_root_parent_path: {global_data_root_parent_path} does not exist! Is the right computer's config commented out above?\""
   ]
  },
  {
   "cell_type": "markdown",
   "id": "60fde1ef-b6bc-4500-866e-00a69be7f8de",
   "metadata": {},
   "source": [
    "# Load Pipeline"
   ]
  },
  {
   "cell_type": "code",
   "execution_count": 2,
   "id": "d9983bae-c681-4fed-a552-e59630485b0f",
   "metadata": {},
   "outputs": [
    {
     "name": "stdout",
     "output_type": "stream",
     "text": [
      "local_session_names_list: ['2006-6-07_11-26-53', '2006-6-08_14-26-15', '2006-6-09_1-22-43', '2006-6-09_3-23-37', '2006-6-12_15-55-31', '2006-6-13_14-42-6']\n"
     ]
    },
    {
     "data": {
      "text/plain": [
       "{WindowsPath('W:/Data/KDIBA/gor01/one/2006-6-07_11-26-53'): <SessionBatchProgress.NOT_STARTED: 'NOT_STARTED'>,\n",
       " WindowsPath('W:/Data/KDIBA/gor01/one/2006-6-08_14-26-15'): <SessionBatchProgress.NOT_STARTED: 'NOT_STARTED'>,\n",
       " WindowsPath('W:/Data/KDIBA/gor01/one/2006-6-09_1-22-43'): <SessionBatchProgress.NOT_STARTED: 'NOT_STARTED'>,\n",
       " WindowsPath('W:/Data/KDIBA/gor01/one/2006-6-09_3-23-37'): <SessionBatchProgress.NOT_STARTED: 'NOT_STARTED'>,\n",
       " WindowsPath('W:/Data/KDIBA/gor01/one/2006-6-12_15-55-31'): <SessionBatchProgress.NOT_STARTED: 'NOT_STARTED'>,\n",
       " WindowsPath('W:/Data/KDIBA/gor01/one/2006-6-13_14-42-6'): <SessionBatchProgress.NOT_STARTED: 'NOT_STARTED'>}"
      ]
     },
     "execution_count": 2,
     "metadata": {},
     "output_type": "execute_result"
    }
   ],
   "source": [
    "# ==================================================================================================================== #\n",
    "# Load Data                                                                                                            #\n",
    "# ==================================================================================================================== #\n",
    "\n",
    "active_data_mode_name = 'kdiba'\n",
    "\n",
    "## Data must be pre-processed using the MATLAB script located here: \n",
    "#     neuropy/data_session_pre_processing_scripts/KDIBA/IIDataMat_Export_ToPython_2022_08_01.m\n",
    "# From pre-computed .mat files:\n",
    "\n",
    "local_session_root_parent_context = IdentifyingContext(format_name=active_data_mode_name) # , animal_name='', configuration_name='one', session_name=self.session_name\n",
    "local_session_root_parent_path = global_data_root_parent_path.joinpath('KDIBA')\n",
    "\n",
    "## Animal `gor01`:\n",
    "local_session_parent_context = local_session_root_parent_context.adding_context(collision_prefix='animal', animal='gor01', exper_name='one') # IdentifyingContext<('kdiba', 'gor01', 'one')>\n",
    "local_session_parent_path = local_session_root_parent_path.joinpath(local_session_parent_context.animal, local_session_parent_context.exper_name) # 'gor01', 'one'\n",
    "local_session_paths_list, local_session_names_list =  find_local_session_paths(local_session_parent_path, blacklist=['PhoHelpers', 'Spike3D-Minimal-Test', 'Unused'])\n",
    "\n",
    "# local_session_parent_context = local_session_root_parent_context.adding_context(collision_prefix='animal', animal='gor01', exper_name='two')\n",
    "# local_session_parent_path = local_session_root_parent_path.joinpath(local_session_parent_context.animal, local_session_parent_context.exper_name)\n",
    "# local_session_paths_list, local_session_names_list =  find_local_session_paths(local_session_parent_path, blacklist=[])\n",
    "\n",
    "### Animal `vvp01`:\n",
    "# local_session_parent_context = local_session_root_parent_context.adding_context(collision_prefix='animal', animal='vvp01', exper_name='one')\n",
    "# local_session_parent_path = local_session_root_parent_path.joinpath(local_session_parent_context.animal, local_session_parent_context.exper_name)\n",
    "# local_session_paths_list, local_session_names_list =  find_local_session_paths(local_session_parent_path, blacklist=[])\n",
    "\n",
    "# local_session_parent_context = local_session_root_parent_context.adding_context(collision_prefix='animal', animal='vvp01', exper_name='two')\n",
    "# local_session_parent_path = local_session_root_parent_path.joinpath(local_session_parent_context.animal, local_session_parent_context.exper_name)\n",
    "# local_session_paths_list, local_session_names_list =  find_local_session_paths(local_session_parent_path, blacklist=[])\n",
    "\n",
    "## Build session contexts list:\n",
    "local_session_contexts_list = [local_session_parent_context.adding_context(collision_prefix='sess', session_name=a_name) for a_name in local_session_names_list] # [IdentifyingContext<('kdiba', 'gor01', 'one', '2006-6-07_11-26-53')>, ..., IdentifyingContext<('kdiba', 'gor01', 'one', '2006-6-13_14-42-6')>]\n",
    "\n",
    "## Initialize `session_batch_status` with the NOT_STARTED status if it doesn't already have a different status\n",
    "for curr_session_basedir in local_session_paths_list:\n",
    "    curr_session_status = session_batch_status.get(curr_session_basedir, None)\n",
    "    if curr_session_status is None:\n",
    "        session_batch_status[curr_session_basedir] = SessionBatchProgress.NOT_STARTED # set to not started if not present\n",
    "        # session_batch_status[curr_session_basedir] = SessionBatchProgress.COMPLETED # set to not started if not present\n",
    "        \n",
    "\n",
    "session_batch_status"
   ]
  },
  {
   "cell_type": "code",
   "execution_count": null,
   "id": "dd04382a-07bb-4270-a3c5-7ca0c0a71518",
   "metadata": {
    "scrolled": true,
    "tags": []
   },
   "outputs": [],
   "source": [
    "## Run batch queue\n",
    "for curr_sess_ctx, curr_session_basedir, curr_session_name in zip(local_session_contexts_list, local_session_paths_list, local_session_names_list):\n",
    "    print(f'curr_session_basedir: {str(curr_session_basedir)}')\n",
    "    curr_session_status = session_batch_status.get(curr_session_basedir, None)\n",
    "    if curr_session_status.name != SessionBatchProgress.COMPLETED.name:\n",
    "        session_batch_status[curr_session_basedir] = SessionBatchProgress.NOT_STARTED\n",
    "        try:\n",
    "            session_batch_status[curr_session_basedir] = SessionBatchProgress.RUNNING\n",
    "            curr_active_pipeline = batch_load_session(global_data_root_parent_path, active_data_mode_name, curr_session_basedir, force_reload=False)\n",
    "            active_identifying_session_ctx, active_session_figures_out_path, active_out_figures_list = batch_programmatic_figures(curr_active_pipeline)\n",
    "            batch_extended_programmatic_figures(curr_active_pipeline)\n",
    "            session_batch_status[curr_session_basedir] = SessionBatchProgress.COMPLETED\n",
    "            print(f'completed processing for {curr_session_basedir}: {active_identifying_session_ctx}')\n",
    "        except Exception as e:\n",
    "            print(f'ERROR processing {curr_session_basedir} with error {e}')\n",
    "            session_batch_status[curr_session_basedir] = SessionBatchProgress.ABORTED\n",
    "            # raise e\n",
    "    else:\n",
    "        print(f'\\t already completed')\n",
    "\n",
    "print(f'session_batch_status: {session_batch_status}')\n",
    "print('!!! done running batch !!!')"
   ]
  },
  {
   "cell_type": "markdown",
   "id": "e1ab8feb-f917-4ac4-be40-20083a25f005",
   "metadata": {
    "tags": []
   },
   "source": [
    "# 🟢 Single basedir (non-batch) testing:"
   ]
  },
  {
   "cell_type": "code",
   "execution_count": 3,
   "id": "cba147e2-ff54-49c8-8229-8fe69391fad7",
   "metadata": {
    "tags": []
   },
   "outputs": [
    {
     "name": "stdout",
     "output_type": "stream",
     "text": [
      "basedir: W:\\Data\\KDIBA\\gor01\\one\\2006-6-08_14-26-15\n",
      "Loading loaded session pickle file results : W:\\Data\\KDIBA\\gor01\\one\\2006-6-08_14-26-15\\loadedSessPickle.pkl... done.\n",
      "Loading pickled pipeline success: W:\\Data\\KDIBA\\gor01\\one\\2006-6-08_14-26-15\\loadedSessPickle.pkl.\n",
      "property already present in pickled version. No need to save.\n",
      "is_common_filter_name: [ True  True  True]\n",
      "is_novel_filter_name: [False False False]\n",
      "common_filter_names: ['maze1' 'maze2' 'maze']\n",
      "changed_filters_names_list: []\n",
      "WARNING: skipping computation because overwrite_extant_results=False and active_computation_results[maze1] already exists and is non-None\n",
      "\t TODO: this will prevent recomputation even when the blacklist/whitelist or computation function definitions change. Rework so that this is smarter.\n",
      "updating computation_results...\n",
      "done.\n",
      "WARNING: skipping computation because overwrite_extant_results=False and active_computation_results[maze2] already exists and is non-None\n",
      "\t TODO: this will prevent recomputation even when the blacklist/whitelist or computation function definitions change. Rework so that this is smarter.\n",
      "updating computation_results...\n",
      "done.\n",
      "WARNING: skipping computation because overwrite_extant_results=False and active_computation_results[maze] already exists and is non-None\n",
      "\t TODO: this will prevent recomputation even when the blacklist/whitelist or computation function definitions change. Rework so that this is smarter.\n",
      "updating computation_results...\n",
      "done.\n",
      "finalized_loaded_sess_pickle_path: W:\\Data\\KDIBA\\gor01\\one\\2006-6-08_14-26-15\\loadedSessPickle.pkl\n",
      "Saving (file mode 'w+b') saved session pickle file results : W:\\Data\\KDIBA\\gor01\\one\\2006-6-08_14-26-15\\20221213002236-loadedSessPickle.pkl... done.\n",
      "moving new output at 'W:\\Data\\KDIBA\\gor01\\one\\2006-6-08_14-26-15\\20221213002236-loadedSessPickle.pkl' -> to desired location: 'W:\\Data\\KDIBA\\gor01\\one\\2006-6-08_14-26-15\\loadedSessPickle.pkl'\n"
     ]
    }
   ],
   "source": [
    "basedir = local_session_paths_list[1] # NOT 3\n",
    "print(f'basedir: {str(basedir)}')\n",
    "\n",
    "# ==================================================================================================================== #\n",
    "# Load Pipeline                                                                                                        #\n",
    "# ==================================================================================================================== #\n",
    "curr_active_pipeline = batch_load_session(global_data_root_parent_path, active_data_mode_name, basedir, skip_save=False, force_reload=False)\n",
    "## SAVE AFTERWARDS!\n",
    "# curr_active_pipeline = batch_load_session(global_data_root_parent_path, active_data_mode_name, basedir, skip_save=False, force_reload=False, active_pickle_filename='loadedSessPickle - full-good.pkl')"
   ]
  },
  {
   "cell_type": "code",
   "execution_count": null,
   "id": "0500d00a-ae74-4ce0-897d-72d30007f92e",
   "metadata": {},
   "outputs": [],
   "source": [
    "active_identifying_session_ctx, curr_session_figures_out_path, active_out_figures_list = batch_programmatic_figures(curr_active_pipeline)"
   ]
  },
  {
   "cell_type": "code",
   "execution_count": null,
   "id": "af76646b-2701-442e-84b3-14ffcf3c0c57",
   "metadata": {},
   "outputs": [],
   "source": [
    "batch_extended_programmatic_figures(curr_active_pipeline)"
   ]
  },
  {
   "cell_type": "markdown",
   "id": "9ec4e913-d02a-40bd-9a9d-d109af03c087",
   "metadata": {
    "tags": []
   },
   "source": [
    "###  Compute Required Global Computations Manually:"
   ]
  },
  {
   "cell_type": "code",
   "execution_count": 4,
   "id": "d9a228fb-4a9d-4980-8657-325fcddfd23d",
   "metadata": {},
   "outputs": [
    {
     "name": "stdout",
     "output_type": "stream",
     "text": [
      "global_computation_results is None. Building initial global_computation_results...\n",
      "Performing _execute_computation_functions(...) with 2 registered_computation_functions...\n",
      "include_whitelist: ['maze1', 'maze2', 'maze']\n",
      "long_epoch_name: maze1, short_epoch_name: maze2, global_epoch_name: maze\n",
      "Time window 375 has no spikes.\n",
      "Time window 690 has no spikes.\n",
      "include_whitelist: ['maze1', 'maze2', 'maze']\n",
      "long_epoch_name: maze1, short_epoch_name: maze2, global_epoch_name: maze\n",
      "_execute_computation_functions(...): \n",
      "\taccumulated_errors: None\n",
      "shared_aclus: [3, 5, 6, 7, 9, 10, 11, 12, 14, 15, 17, 18, 19, 20, 21, 22, 23, 24, 25, 26, 27, 28, 29, 30, 31, 32, 33, 34, 35, 36, 37, 38, 39, 40, 41, 42, 43, 44, 45, 46, 47, 48, 49, 50, 51, 52, 53, 54, 55, 56, 57, 59, 60, 61, 62, 63, 64, 65, 66, 67, 68, 69, 70, 71, 72, 73, 74, 75, 76, 77, 78, 79, 80, 81, 82, 83, 84, 85, 86, 87, 88, 89, 90, 91, 92, 93, 94, 95, 96, 98, 99, 100, 101, 102, 103, 104, 106, 107, 108]\n",
      "long_only_aclus: [2, 8, 16, 97, 105, 109]\n",
      "short_only_aclus: [4, 13, 58]\n"
     ]
    }
   ],
   "source": [
    "# ==================================================================================================================== #\n",
    "# Perform missing global computations                                                                                  #\n",
    "# ==================================================================================================================== #\n",
    "curr_active_pipeline.perform_specific_computation(computation_functions_name_whitelist=['_perform_jonathan_replay_firing_rate_analyses', '_perform_short_long_pf_overlap_analyses'], fail_on_exception=True, debug_print=True) # \n",
    "\n",
    "## Get global 'jonathan_firing_rate_analysis' results:\n",
    "curr_jonathan_firing_rate_analysis = curr_active_pipeline.global_computation_results.computed_data['jonathan_firing_rate_analysis']\n",
    "neuron_replay_stats_df, rdf, aclu_to_idx, irdf = curr_jonathan_firing_rate_analysis['neuron_replay_stats_df'], curr_jonathan_firing_rate_analysis['rdf']['rdf'], curr_jonathan_firing_rate_analysis['rdf']['aclu_to_idx'], curr_jonathan_firing_rate_analysis['irdf']['irdf']\n",
    "\n",
    "## Get global `short_long_pf_overlap_analyses` results:\n",
    "short_long_pf_overlap_analyses = curr_active_pipeline.global_computation_results.computed_data.short_long_pf_overlap_analyses\n",
    "conv_overlap_dict = short_long_pf_overlap_analyses['conv_overlap_dict']\n",
    "conv_overlap_scalars_df = short_long_pf_overlap_analyses['conv_overlap_scalars_df']\n",
    "prod_overlap_dict = short_long_pf_overlap_analyses['product_overlap_dict']\n",
    "relative_entropy_overlap_dict = short_long_pf_overlap_analyses['relative_entropy_overlap_dict']\n",
    "relative_entropy_overlap_scalars_df = short_long_pf_overlap_analyses['relative_entropy_overlap_scalars_df']\n",
    "\n",
    "from pyphoplacecellanalysis.General.Mixins.CrossComputationComparisonHelpers import SplitPartitionMembership\n",
    "short_only_df = neuron_replay_stats_df[neuron_replay_stats_df.track_membership == SplitPartitionMembership.RIGHT_ONLY]\n",
    "short_only_aclus = short_only_df.index.values.tolist()\n",
    "long_only_df = neuron_replay_stats_df[neuron_replay_stats_df.track_membership == SplitPartitionMembership.LEFT_ONLY]\n",
    "long_only_aclus = long_only_df.index.values.tolist()\n",
    "shared_df = neuron_replay_stats_df[neuron_replay_stats_df.track_membership == SplitPartitionMembership.SHARED]\n",
    "shared_aclus = shared_df.index.values.tolist()\n",
    "print(f'shared_aclus: {shared_aclus}')\n",
    "print(f'long_only_aclus: {long_only_aclus}')\n",
    "print(f'short_only_aclus: {short_only_aclus}')\n",
    "\n",
    "active_identifying_session_ctx = curr_active_pipeline.sess.get_context() # 'bapun_RatN_Day4_2019-10-15_11-30-06'"
   ]
  },
  {
   "cell_type": "code",
   "execution_count": null,
   "id": "23b1b3af-acea-40f3-b48e-e993b9fa04b8",
   "metadata": {},
   "outputs": [],
   "source": []
  },
  {
   "cell_type": "markdown",
   "id": "3c429125-a200-4d1a-937f-6a4c064cfef2",
   "metadata": {
    "tags": []
   },
   "source": [
    "## 🟢 2022-11-21 - 1D Ratemaps Before and After Track change (Long vs. Short track)\n",
    "Working metrics for comparing overlaps of 1D placefields before and after track change"
   ]
  },
  {
   "cell_type": "code",
   "execution_count": 5,
   "id": "a29cf70c-0f80-4c6d-90c7-67072df8b85a",
   "metadata": {},
   "outputs": [
    {
     "name": "stdout",
     "output_type": "stream",
     "text": [
      "Automatic pdb calling has been turned OFF\n",
      "short_pf1D will be re-binned to match long_pf1D...\n",
      "done.\n",
      "shared_aclus: [  3   5   6   7   9  10  11  12  14  15  17  18  20  21  22  23  24  25\n",
      "  26  27  28  29  30  31  32  33  34  35  36  37  38  39  40  41  42  43\n",
      "  44  45  46  47  48  49  50  51  52  53  54  55  56  57  59  60  61  62\n",
      "  63  64  65  66  67  68  69  70  71  72  73  74  75  76  77  78  79  80\n",
      "  81  82  83  84  85  86  88  89  90  91  92  93  94  95  96  98  99 100\n",
      " 101 102 103 104 106 107 108].\t np.shape: (97,)\n",
      "long_only_aclus: [  2   8  16  87  97 105 109].\t np.shape: (7,)\n",
      "short_only_aclus: [ 4 13 58].\t np.shape: (3,)\n"
     ]
    }
   ],
   "source": [
    "%pdb off\n",
    "%matplotlib qt\n",
    "import matplotlib as mpl\n",
    "import matplotlib.pyplot as plt\n",
    "from pyphocorehelpers.plotting.figure_management import PhoActiveFigureManager2D\n",
    "from pyphoplacecellanalysis.General.Mixins.CrossComputationComparisonHelpers import _find_any_context_neurons, _compare_computation_results\n",
    "from neuropy.utils.colors_util import get_neuron_colors\n",
    "from neuropy.core.neuron_identities import PlotStringBrevityModeEnum\n",
    "\n",
    "from neuropy.analyses.placefields import PfND # for re-binning pf1D\n",
    "\n",
    "from neuropy.plotting.figure import Fig\n",
    "from neuropy.plotting.ratemaps import plot_ratemap_1D\n",
    "\n",
    "from pyphoplacecellanalysis.General.Mixins.CrossComputationComparisonHelpers import build_neurons_color_map\n",
    "\n",
    "include_whitelist = curr_active_pipeline.active_completed_computation_result_names # ['maze', 'sprinkle']\n",
    "long_epoch_name = include_whitelist[0] # 'maze1_PYR'\n",
    "short_epoch_name = include_whitelist[1] # 'maze2_PYR'\n",
    "global_epoch_name = include_whitelist[-1] # 'maze_PYR'\n",
    "\n",
    "long_results = curr_active_pipeline.computation_results[long_epoch_name]['computed_data']\n",
    "short_results = curr_active_pipeline.computation_results[short_epoch_name]['computed_data']\n",
    "global_results = curr_active_pipeline.computation_results[global_epoch_name]['computed_data']\n",
    "\n",
    "long_pf1D = long_results.pf1D\n",
    "short_pf1D = short_results.pf1D\n",
    "global_pf1D = global_results.pf1D\n",
    "\n",
    "## Allow overriding PfND's bins:\n",
    "# TODO: 2022-12-09 - We want to be able to have both long/short track placefields have the same bins. \n",
    "if (len(short_pf1D.xbin) < len(long_pf1D.xbin)):\n",
    "    print(f'short_pf1D will be re-binned to match long_pf1D...')\n",
    "    bak_short_pf1D = deepcopy(short_pf1D) # Backup the original first\n",
    "    xbin, ybin, bin_info, grid_bin = long_pf1D.xbin, long_pf1D.ybin, long_pf1D.bin_info, long_pf1D.config.grid_bin\n",
    "    ## Apply to the short dataframe:\n",
    "    short_pf1D.xbin, short_pf1D.ybin, short_pf1D.bin_info, short_pf1D.config.grid_bin = xbin, ybin, bin_info, grid_bin\n",
    "    ## Updates (replacing) the 'binned_x' (and if 2D 'binned_y') columns to the position dataframe:\n",
    "    short_pf1D._filtered_pos_df, _, _, _ = PfND.build_position_df_discretized_binned_positions(short_pf1D._filtered_pos_df, short_pf1D.config, xbin_values=short_pf1D.xbin, ybin_values=short_pf1D.ybin, debug_print=False) # Finishes setup\n",
    "    short_pf1D.compute() # does compute\n",
    "    print(f'done.') ## Successfully re-bins pf1D:\n",
    "\n",
    "    \n",
    "## get shared neuron info:\n",
    "# this must be done after we rebuild the short_pf1D bins (if we need to) so they continue to match:\n",
    "pf_neurons_diff = _compare_computation_results(long_results.pf1D.ratemap.neuron_ids, short_results.pf1D.ratemap.neuron_ids)\n",
    "\n",
    "shared_aclus = pf_neurons_diff.intersection #.shape (56,)\n",
    "print(f'shared_aclus: {shared_aclus}.\\t np.shape: {np.shape(shared_aclus)}')\n",
    "# curr_any_context_neurons = pf_neurons_diff.either\n",
    "long_only_aclus = pf_neurons_diff.lhs_only\n",
    "short_only_aclus = pf_neurons_diff.rhs_only\n",
    "print(f'long_only_aclus: {long_only_aclus}.\\t np.shape: {np.shape(long_only_aclus)}')\n",
    "print(f'short_only_aclus: {short_only_aclus}.\\t np.shape: {np.shape(short_only_aclus)}')\n",
    "\n",
    "## Get the normalized_tuning_curves only for the shared aclus (that are common across (long/short/global):\n",
    "long_is_included = np.isin(long_pf1D.ratemap.neuron_ids, shared_aclus)  #.shape # (104, 63)\n",
    "long_incl_aclus = np.array(long_pf1D.ratemap.neuron_ids)[long_is_included] #.shape # (98,)\n",
    "long_incl_curves = long_pf1D.ratemap.normalized_tuning_curves[long_is_included]  #.shape # (98, 63)\n",
    "assert long_incl_aclus.shape[0] == long_incl_curves.shape[0] # (98,) == (98, 63)\n",
    "\n",
    "short_is_included = np.isin(short_pf1D.ratemap.neuron_ids, shared_aclus)\n",
    "short_incl_aclus = np.array(short_pf1D.ratemap.neuron_ids)[short_is_included] #.shape (98,)\n",
    "short_incl_curves = short_pf1D.ratemap.normalized_tuning_curves[short_is_included]  #.shape # (98, 40)\n",
    "assert short_incl_aclus.shape[0] == short_incl_curves.shape[0] # (98,) == (98, 63)\n",
    "# assert short_incl_curves.shape[1] == long_incl_curves.shape[1] # short and long should have the same bins\n",
    "\n",
    "global_is_included = np.isin(global_pf1D.ratemap.neuron_ids, shared_aclus)\n",
    "global_incl_aclus = np.array(global_pf1D.ratemap.neuron_ids)[global_is_included] #.shape (98,)\n",
    "global_incl_curves = global_pf1D.ratemap.normalized_tuning_curves[global_is_included]  #.shape # (98, 63)\n",
    "assert global_incl_aclus.shape[0] == global_incl_curves.shape[0] # (98,) == (98, 63)\n",
    "assert global_incl_curves.shape[1] == long_incl_curves.shape[1] # global and long should have the same bins\n",
    "\n",
    "assert np.alltrue(np.isin(long_incl_aclus, short_incl_aclus))\n",
    "assert np.alltrue(np.isin(long_incl_aclus, global_incl_aclus))"
   ]
  },
  {
   "cell_type": "code",
   "execution_count": 6,
   "id": "da515c28-9f72-4fb0-948d-53930ad8b225",
   "metadata": {},
   "outputs": [
    {
     "data": {
      "text/plain": [
       "array([[ 0.00000000e+00,  0.00000000e+00, -2.40821621e-06, ...,\n",
       "         0.00000000e+00,  0.00000000e+00,  0.00000000e+00],\n",
       "       [ 0.00000000e+00,  0.00000000e+00, -5.70975366e-06, ...,\n",
       "         0.00000000e+00,  0.00000000e+00,  0.00000000e+00],\n",
       "       [ 0.00000000e+00, -1.04427497e-05, -5.98916509e-05, ...,\n",
       "         0.00000000e+00,  0.00000000e+00,  0.00000000e+00],\n",
       "       ...,\n",
       "       [ 0.00000000e+00, -1.48970538e-05, -7.92848790e-05, ...,\n",
       "         0.00000000e+00,  0.00000000e+00,  0.00000000e+00],\n",
       "       [ 0.00000000e+00,  0.00000000e+00,  0.00000000e+00, ...,\n",
       "         0.00000000e+00,  0.00000000e+00,  0.00000000e+00],\n",
       "       [ 0.00000000e+00,  0.00000000e+00, -5.15961210e-05, ...,\n",
       "         0.00000000e+00,  0.00000000e+00,  0.00000000e+00]])"
      ]
     },
     "execution_count": 6,
     "metadata": {},
     "output_type": "execute_result"
    }
   ],
   "source": [
    "from pyphoplacecellanalysis.General.Pipeline.Stages.ComputationFunctions.MultiContextComputationFunctions.MultiContextComputationFunctions import compute_relative_entropy_divergence_overlap\n",
    "\n",
    "relative_entropy_overlap_dict, relative_entropy_overlap_scalars_df = compute_relative_entropy_divergence_overlap(long_results, short_results, debug_print=False)\n",
    "relative_entropy_overlap_scalars_df\n",
    "\n",
    "aclu_keys = [k for k,v in relative_entropy_overlap_dict.items() if v is not None]\n",
    "# len(aclu_keys) # 101\n",
    "short_long_rel_entr_curves = np.vstack([v['short_long_rel_entr_curve'] for k,v in relative_entropy_overlap_dict.items() if v is not None])\n",
    "short_long_rel_entr_curves # .shape # (101, 63)"
   ]
  },
  {
   "cell_type": "code",
   "execution_count": null,
   "id": "65245955-6cab-498e-89fc-3278e2b8ff1b",
   "metadata": {},
   "outputs": [],
   "source": []
  },
  {
   "cell_type": "markdown",
   "id": "7ef4cb47-ecbc-42eb-91bf-4ce8d62e2b06",
   "metadata": {
    "tags": []
   },
   "source": [
    "# Time Dependent 1D Placefields:"
   ]
  },
  {
   "cell_type": "code",
   "execution_count": 7,
   "id": "cf26806f-3c93-49fc-bd64-69914f446e6a",
   "metadata": {},
   "outputs": [],
   "source": [
    "from neuropy.analyses.time_dependent_placefields import PfND_TimeDependent\n",
    "\n",
    "\n",
    "## Build pf_1D_dt\n",
    "active_pf_1D = global_pf1D\n",
    "active_pf_2D = global_results.pf2D\n",
    "\n",
    "# computation_result = curr_active_pipeline.computation_results[global_epoch_name]\n",
    "# active_session, pf_computation_config = computation_result.sess, computation_result.computation_config.pf_params\n",
    "# active_session_spikes_df, active_pos, computation_config, active_epoch_placefields1D, active_epoch_placefields2D, included_epochs, should_force_recompute_placefields = active_session.spikes_df, active_session.position, pf_computation_config, None, None, pf_computation_config.computation_epochs, True\n",
    "# active_pf_1D_dt = PfND_TimeDependent(deepcopy(active_session_spikes_df), deepcopy(active_pos.linear_pos_obj), epochs=included_epochs,\n",
    "#                                     speed_thresh=computation_config.speed_thresh, frate_thresh=computation_config.frate_thresh,\n",
    "#                                     grid_bin=computation_config.grid_bin, grid_bin_bounds=computation_config.grid_bin_bounds, smooth=computation_config.smooth)\n",
    "\n",
    "active_pf_1D_dt = global_results.pf1D_dt\n",
    "active_pf_2D_dt = global_results.pf2D_dt # just for testing\n",
    "\n",
    "# active_pf_1D_dt = curr_active_pipeline"
   ]
  },
  {
   "cell_type": "code",
   "execution_count": null,
   "id": "d2c73387-deb9-4b68-acf1-bbaced503abd",
   "metadata": {},
   "outputs": [],
   "source": [
    "active_pf_1D_dt"
   ]
  },
  {
   "cell_type": "code",
   "execution_count": 8,
   "id": "edde03ad-93cc-43f4-ac30-b6431e1a9cfa",
   "metadata": {},
   "outputs": [
    {
     "name": "stdout",
     "output_type": "stream",
     "text": [
      "earliest_pos_t: 0.030453999992460012\n",
      "last_pos_t: 2093.8745349999517\n",
      "post-update time: 3000000.0\n"
     ]
    }
   ],
   "source": [
    "## Update the time-dependent pf:\n",
    "active_pf_1D_dt.reset()\n",
    "\n",
    "## Find the neuron_IDs that are included in the active_pf_1D for filtering the active_pf_1D_dt's results:\n",
    "is_pf_1D_included_neuron = np.isin(active_pf_1D_dt.included_neuron_IDs, active_pf_1D.included_neuron_IDs)\n",
    "pf_1D_included_neuron_indx = active_pf_1D_dt._included_thresh_neurons_indx[is_pf_1D_included_neuron]\n",
    "active_pf_1D_dt._included_thresh_neurons_indx = pf_1D_included_neuron_indx\n",
    "active_pf_1D_dt._peak_frate_filter_function = lambda list_: [list_[_] for _ in active_pf_1D_dt._included_thresh_neurons_indx]\n",
    "\n",
    "earliest_pos_t = active_pf_1D_dt.all_time_filtered_pos_df['t'].values[0]\n",
    "print(f'earliest_pos_t: {earliest_pos_t}')\n",
    "# active_pf_1D_dt.update(t=earliest_pos_t)\n",
    "# active_pf_1D_dt.step(num_seconds_to_advance=6000.0)\n",
    "\n",
    "last_pos_t = active_pf_1D_dt.all_time_filtered_pos_df['t'].values[-1]\n",
    "print(f'last_pos_t: {last_pos_t}')\n",
    "# active_pf_1D_dt.update(t=last_pos_t)\n",
    "\n",
    "# active_pf_1D_dt.update(t=earliest_pos_t+(60.0 * 5.0))\n",
    "active_pf_1D_dt.update(t=3000000.0)\n",
    "print(f'post-update time: {active_pf_1D_dt.last_t}')\n",
    "\n",
    "# earliest_pos_t: 22.26785500004189\n",
    "# last_pos_t: 1739.1316560000414\n",
    "# post-update time: 322.2678550000419"
   ]
  },
  {
   "cell_type": "code",
   "execution_count": 11,
   "id": "798389cb-54f6-4cfd-85d9-f049b012c1f3",
   "metadata": {},
   "outputs": [
    {
     "data": {
      "text/plain": [
       "(1, 108)"
      ]
     },
     "execution_count": 11,
     "metadata": {},
     "output_type": "execute_result"
    }
   ],
   "source": [
    "active_pf_1D.included_neuron_IDs.shape # (1, 108)"
   ]
  },
  {
   "cell_type": "code",
   "execution_count": 10,
   "id": "f6314c2c-0456-423d-a05e-34a2d0353334",
   "metadata": {},
   "outputs": [
    {
     "data": {
      "text/plain": [
       "(108,)"
      ]
     },
     "execution_count": 10,
     "metadata": {},
     "output_type": "execute_result"
    }
   ],
   "source": [
    "active_pf_1D_dt.included_neuron_IDs.shape # (108,)"
   ]
  },
  {
   "cell_type": "code",
   "execution_count": 12,
   "id": "39646b92-d7f1-4e20-bc66-9f924a60cf4c",
   "metadata": {},
   "outputs": [
    {
     "data": {
      "text/plain": [
       "(108,)"
      ]
     },
     "execution_count": 12,
     "metadata": {},
     "output_type": "execute_result"
    }
   ],
   "source": [
    "is_pf_1D_included_neuron.shape"
   ]
  },
  {
   "cell_type": "code",
   "execution_count": 13,
   "id": "455e31b8-f02d-4bdd-ac3a-929c386222a1",
   "metadata": {},
   "outputs": [
    {
     "data": {
      "text/plain": [
       "(108,)"
      ]
     },
     "execution_count": 13,
     "metadata": {},
     "output_type": "execute_result"
    }
   ],
   "source": [
    "pf_1D_included_neuron_indx.shape"
   ]
  },
  {
   "cell_type": "code",
   "execution_count": null,
   "id": "c136c1e5-953a-4a6b-b75b-4d3c27f33f1b",
   "metadata": {},
   "outputs": [],
   "source": [
    "def validate_pf_dt_equivalent(active_pf_nD, active_pf_nD_dt):\n",
    "        ## Asserts to make sure that the fully-updated dt is equal to the normal:\n",
    "        assert active_pf_nD_dt.all_time_filtered_pos_df.shape == active_pf_nD_dt.filtered_pos_df.shape, f\"active_pf_nD_dt.all_time_filtered_pos_df.shape: {active_pf_nD_dt.all_time_filtered_pos_df.shape}\\nactive_pf_nD_dt.filtered_pos_df.shape: {active_pf_nD_dt.filtered_pos_df.shape} \"\n",
    "        assert active_pf_nD_dt.all_time_filtered_spikes_df.shape == active_pf_nD_dt.filtered_spikes_df.shape, f\"active_pf_nD_dt.all_time_filtered_spikes_df.shape: {active_pf_nD_dt.all_time_filtered_spikes_df.shape}\\nactive_pf_nD_dt.filtered_spikes_df.shape: {active_pf_nD_dt.filtered_spikes_df.shape} \"\n",
    "        # Occupancies are equal:\n",
    "\n",
    "        assert np.isclose(active_pf_nD_dt.ratemap.occupancy, active_pf_nD.ratemap.occupancy).all(), f\"active_pf_nD_dt.ratemap.occupancy: {active_pf_nD_dt.ratemap.occupancy}\\nactive_pf_nD.ratemap.occupancy: {active_pf_nD.ratemap.occupancy}\"\n",
    "        # assert (active_pf_nD_dt.ratemap.occupancy == active_pf_nD.ratemap.occupancy).all(), f\"active_pf_nD_dt.ratemap.occupancy: {active_pf_nD_dt.ratemap.occupancy}\\nactive_pf_nD.ratemap.occupancy: {active_pf_nD.ratemap.occupancy}\"\n",
    "        \n",
    "        \n",
    "        # assert (active_pf_nD_dt.ratemap.spikes_maps == active_pf_nD.ratemap.spikes_maps).all(), f\"active_pf_nD_dt.ratemap.spikes_maps: {active_pf_nD_dt.ratemap.spikes_maps}\\nactive_pf_nD.ratemap.spikes_maps: {active_pf_nD.ratemap.spikes_maps}\"\n",
    "        assert np.isclose(active_pf_nD_dt.ratemap.spikes_maps, active_pf_nD.ratemap.spikes_maps).all(), f\"active_pf_nD_dt.ratemap.spikes_maps: {active_pf_nD_dt.ratemap.spikes_maps}\\nactive_pf_nD.ratemap.spikes_maps: {active_pf_nD.ratemap.spikes_maps}\"\n",
    "        \n",
    "validate_pf_dt_equivalent(active_pf_1D, active_pf_1D_dt)"
   ]
  },
  {
   "cell_type": "code",
   "execution_count": null,
   "id": "c51e82ed-8777-4365-ac68-3021ee192c84",
   "metadata": {},
   "outputs": [],
   "source": [
    "# validate_pf_dt_equivalent(active_pf_2D, active_pf_2D_dt)"
   ]
  },
  {
   "cell_type": "code",
   "execution_count": null,
   "id": "2f3af47d-a01c-47f9-a451-c1e07a23ba45",
   "metadata": {},
   "outputs": [],
   "source": [
    "active_pf_1D_dt.curr_occupancy_weighted_tuning_maps_matrix[active_pf_1D_dt._included_thresh_neurons_indx,:,:] # IndexError: too many indices for array: array is 2-dimensional, but 3 were indexed"
   ]
  },
  {
   "cell_type": "code",
   "execution_count": null,
   "id": "781d2374-e984-47c3-807f-f07e8380d7b2",
   "metadata": {},
   "outputs": [],
   "source": [
    "active_pf_1D_dt.curr_occupancy_weighted_tuning_maps_matrix[active_pf_1D_dt._included_thresh_neurons_indx] #.shape # (108, 63)"
   ]
  },
  {
   "cell_type": "code",
   "execution_count": null,
   "id": "ff82c1bd-837f-43ae-997e-4bfd71059b74",
   "metadata": {},
   "outputs": [],
   "source": [
    "active_pf_1D.ratemap.spikes_maps.shape # (105, 63)"
   ]
  },
  {
   "cell_type": "code",
   "execution_count": null,
   "id": "cc5004cb-1d40-4309-9b5a-15849f1a746f",
   "metadata": {},
   "outputs": [],
   "source": [
    "active_pf_1D_dt.ratemap.spikes_maps.shape # (108, 63)"
   ]
  },
  {
   "cell_type": "code",
   "execution_count": null,
   "id": "fb99555c-1ee7-42e2-8f46-dfce3d96828a",
   "metadata": {},
   "outputs": [],
   "source": [
    "(active_pf_1D_dt.ratemap.spikes_maps == active_pf_1D.ratemap.spikes_maps)"
   ]
  },
  {
   "cell_type": "code",
   "execution_count": null,
   "id": "2961a527-72f7-486d-9737-fa6bfcae3027",
   "metadata": {},
   "outputs": [],
   "source": [
    "active_pf_1D_dt.reset()\n",
    "active_pf_1D_dt.update(t=45.0, start_relative_t=True)"
   ]
  },
  {
   "cell_type": "code",
   "execution_count": null,
   "id": "cf112b5d-6e71-4e38-8998-cbd7b52c0240",
   "metadata": {},
   "outputs": [],
   "source": [
    "active_pf_1D_dt.snapshot()"
   ]
  },
  {
   "cell_type": "code",
   "execution_count": null,
   "id": "ce585f12-2f55-4f49-8bfd-3cb33992c768",
   "metadata": {},
   "outputs": [],
   "source": [
    "active_pf_1D_dt.update(t=90.0, start_relative_t=True)\n",
    "active_pf_1D_dt.snapshot()"
   ]
  },
  {
   "cell_type": "code",
   "execution_count": null,
   "id": "29fa2d29-03a6-4a47-b175-0b9cd31ab971",
   "metadata": {},
   "outputs": [],
   "source": [
    "active_pf_1D_dt.historical_snapshots"
   ]
  },
  {
   "cell_type": "code",
   "execution_count": null,
   "id": "1cc20478-8f24-4aa0-9544-bcf84f9278f8",
   "metadata": {},
   "outputs": [],
   "source": [
    "from benedict import benedict"
   ]
  },
  {
   "cell_type": "code",
   "execution_count": 82,
   "id": "e063a2ff-365c-4dd4-b3c5-9ef359d8f1a4",
   "metadata": {},
   "outputs": [],
   "source": [
    "from neuropy.analyses.time_dependent_placefields import PlacefieldSnapshot"
   ]
  },
  {
   "cell_type": "code",
   "execution_count": 82,
   "id": "f3ce9d3d-859b-44eb-bcc0-c2fe806086c7",
   "metadata": {},
   "outputs": [],
   "source": [
    "PlacefieldSnapshot(num_position_samples_occupancy="
   ]
  },
  {
   "cell_type": "code",
   "execution_count": 82,
   "id": "291e4be0-d9a1-45fc-925b-b108f88adae3",
   "metadata": {},
   "outputs": [],
   "source": [
    "def __init__(self, arg):\n",
    "        super(ClassName, self).__init__()"
   ]
  },
  {
   "cell_type": "markdown",
   "id": "4213a9ce-5f73-475a-be83-22fea1a4eebc",
   "metadata": {
    "tags": []
   },
   "source": [
    "# 🚀📌✳️⛳ 2022-12-09 Almost got relative entropy working for iterative `pf_1D_dt` (to see how much surprise a given lap, or intra-lap period, generates):\n",
    "\n",
    "ACTIVE FOR MONDAY: \n",
    "Only running into a small issue where I'm not sure what the correct neuron_IDs for the snapshotted-values are."
   ]
  },
  {
   "cell_type": "code",
   "execution_count": 23,
   "id": "823c75e0-e6e5-400d-9be6-caea8ed4cee3",
   "metadata": {},
   "outputs": [
    {
     "data": {
      "text/plain": [
       "[['intra', '0.0', '8.806375011103228', '0'],\n",
       " ['lap', '8.806375011103228', '16.146792372805066', '1'],\n",
       " ['intra', '16.146792372805066', '33.77391934779007', '1'],\n",
       " ['lap', '33.77391934779007', '39.23866662976798', '2'],\n",
       " ['intra', '39.23866662976798', '136.07198921125382', '2'],\n",
       " ['lap', '136.07198921125382', '143.75791423593182', '3'],\n",
       " ['intra', '143.75791423593182', '161.30074557394255', '3'],\n",
       " ['lap', '161.30074557394255', '166.2680134307593', '4'],\n",
       " ['intra', '166.2680134307593', '220.11821049952414', '4'],\n",
       " ['lap', '220.11821049952414', '238.50805324397516', '5'],\n",
       " ['intra', '238.50805324397516', '256.8825974361971', '5'],\n",
       " ['lap', '256.8825974361971', '261.3277177201817', '6'],\n",
       " ['intra', '261.3277177201817', '294.6606209737947', '6'],\n",
       " ['lap', '294.6606209737947', '299.2990006789332', '7'],\n",
       " ['intra', '299.2990006789332', '313.91520055546425', '7'],\n",
       " ['lap', '313.91520055546425', '318.18939484702423', '8'],\n",
       " ['intra', '318.18939484702423', '496.1723821198102', '8'],\n",
       " ['lap', '496.1723821198102', '503.8102918091463', '9'],\n",
       " ['intra', '503.8102918091463', '511.74403494701255', '9'],\n",
       " ['lap', '511.74403494701255', '516.3841964112362', '10'],\n",
       " ['intra', '516.3841964112362', '532.2339265362825', '10'],\n",
       " ['lap', '532.2339265362825', '539.1001809407026', '11'],\n",
       " ['intra', '539.1001809407026', '560.2944817692041', '11'],\n",
       " ['lap', '560.2944817692041', '564.2663914156146', '12'],\n",
       " ['intra', '564.2663914156146', '584.1836010579718', '12'],\n",
       " ['lap', '584.1836010579718', '590.1926757413894', '13'],\n",
       " ['intra', '590.1926757413894', '598.7391904055839', '13'],\n",
       " ['lap', '598.7391904055839', '603.5415533867199', '14'],\n",
       " ['intra', '603.5415533867199', '617.4948774426011', '14'],\n",
       " ['lap', '617.4948774426011', '624.3982415881474', '15'],\n",
       " ['intra', '624.3982415881474', '645.5496265986003', '15'],\n",
       " ['lap', '645.5496265986003', '656.9554345188662', '16'],\n",
       " ['intra', '656.9554345188662', '679.4887273018248', '16'],\n",
       " ['lap', '679.4887273018248', '683.7216032146243', '17'],\n",
       " ['intra', '683.7216032146243', '692.1883995195385', '17'],\n",
       " ['lap', '692.1883995195385', '697.1656820912613', '18'],\n",
       " ['intra', '697.1656820912613', '711.5807582307607', '18'],\n",
       " ['lap', '711.5807582307607', '719.9882649660576', '19'],\n",
       " ['intra', '719.9882649660576', '729.7034292718163', '19'],\n",
       " ['lap', '729.7034292718163', '739.3415171371307', '20'],\n",
       " ['intra', '739.3415171371307', '748.0460554003948', '20'],\n",
       " ['lap', '748.0460554003948', '755.0861849159701', '21'],\n",
       " ['intra', '755.0861849159701', '763.0070563803893', '21'],\n",
       " ['lap', '763.0070563803893', '767.8027838449925', '22'],\n",
       " ['intra', '767.8027838449925', '777.9118090692209', '22'],\n",
       " ['lap', '777.9118090692209', '787.5002227198565', '23'],\n",
       " ['intra', '787.5002227198565', '805.9137812921545', '23'],\n",
       " ['lap', '805.9137812921545', '810.5513008377748', '24'],\n",
       " ['intra', '810.5513008377748', '824.5929141284432', '24'],\n",
       " ['lap', '824.5929141284432', '831.2680595107377', '25'],\n",
       " ['intra', '831.2680595107377', '849.0752670334186', '25'],\n",
       " ['lap', '849.0752670334186', '853.0172861351166', '26'],\n",
       " ['intra', '853.0172861351166', '923.7930578979431', '26'],\n",
       " ['lap', '923.7930578979431', '931.7649859763915', '27'],\n",
       " ['intra', '931.7649859763915', '942.3068250590004', '27'],\n",
       " ['lap', '942.3068250590004', '946.7478903051233', '28'],\n",
       " ['intra', '946.7478903051233', '974.8387047225842', '28'],\n",
       " ['lap', '974.8387047225842', '982.8553610980744', '29'],\n",
       " ['intra', '982.8553610980744', '997.1314293087926', '29'],\n",
       " ['lap', '997.1314293087926', '1001.1402029361343', '30'],\n",
       " ['intra', '1001.1402029361343', '1008.1491209476953', '30'],\n",
       " ['lap', '1008.1491209476953', '1021.9291842922103', '31'],\n",
       " ['intra', '1021.9291842922103', '1035.238955397741', '31'],\n",
       " ['lap', '1035.238955397741', '1039.9479910667287', '32'],\n",
       " ['intra', '1039.9479910667287', '1053.4878548543202', '32'],\n",
       " ['lap', '1053.4878548543202', '1060.2615499460371', '33'],\n",
       " ['intra', '1060.2615499460371', '1068.9365048644831', '33'],\n",
       " ['lap', '1068.9365048644831', '1073.6461549332598', '34'],\n",
       " ['intra', '1073.6461549332598', '1081.3861471302807', '34'],\n",
       " ['lap', '1081.3861471302807', '1091.5941521438072', '35'],\n",
       " ['intra', '1091.5941521438072', '1105.3454615831142', '35'],\n",
       " ['lap', '1105.3454615831142', '1109.5104770506732', '36'],\n",
       " ['intra', '1109.5104770506732', '1123.260557690519', '36'],\n",
       " ['lap', '1123.260557690519', '1128.8930668068351', '37'],\n",
       " ['intra', '1128.8930668068351', '1163.5695392923662', '37'],\n",
       " ['lap', '1163.5695392923662', '1167.2103489482542', '38'],\n",
       " ['intra', '1167.2103489482542', '1179.2833949269261', '38'],\n",
       " ['lap', '1179.2833949269261', '1186.0599162573926', '39'],\n",
       " ['intra', '1186.0599162573926', '1194.999708160176', '39'],\n",
       " ['lap', '1194.999708160176', '1201.7748778113164', '40'],\n",
       " ['intra', '1201.7748778113164', '1238.0739798661089', '40'],\n",
       " ['lap', '1238.0739798661089', '1243.8496441090247', '41'],\n",
       " ['intra', '1243.8496441090247', '1260.3668580520898', '41'],\n",
       " ['lap', '1260.3668580520898', '1264.8312704864657', '42'],\n",
       " ['intra', '1264.8312704864657', '1323.1963836434297', '42'],\n",
       " ['lap', '1323.1963836434297', '1334.2086992851691', '43'],\n",
       " ['intra', '1334.2086992851691', '1342.683943585842', '43'],\n",
       " ['lap', '1342.683943585842', '1345.489261829527', '44'],\n",
       " ['intra', '1345.489261829527', '1362.6036722669378', '44'],\n",
       " ['lap', '1362.6036722669378', '1366.8702480024658', '45'],\n",
       " ['intra', '1366.8702480024658', '1380.0246681473218', '45'],\n",
       " ['lap', '1380.0246681473218', '1383.1532527855597', '46'],\n",
       " ['intra', '1383.1532527855597', '1394.3035625965567', '46'],\n",
       " ['lap', '1394.3035625965567', '1398.4722337422427', '47'],\n",
       " ['intra', '1398.4722337422427', '1406.6447633178905', '47'],\n",
       " ['lap', '1406.6447633178905', '1409.3848937548464', '48'],\n",
       " ['intra', '1409.3848937548464', '1416.9855708234245', '48'],\n",
       " ['lap', '1416.9855708234245', '1420.2632395451656', '49'],\n",
       " ['intra', '1420.2632395451656', '1431.802372197155', '49'],\n",
       " ['lap', '1431.802372197155', '1434.872312385356', '50'],\n",
       " ['intra', '1434.872312385356', '1551.0508385020075', '50'],\n",
       " ['lap', '1551.0508385020075', '1558.3240405380493', '51'],\n",
       " ['intra', '1558.3240405380493', '1562.933512738091', '51'],\n",
       " ['lap', '1562.933512738091', '1565.9750983807025', '52'],\n",
       " ['intra', '1565.9750983807025', '1577.0827995736618', '52'],\n",
       " ['lap', '1577.0827995736618', '1582.3908442159882', '53'],\n",
       " ['intra', '1582.3908442159882', '1588.498714368674', '53'],\n",
       " ['lap', '1588.498714368674', '1591.466971408925', '54'],\n",
       " ['intra', '1591.466971408925', '1603.682128034765', '54'],\n",
       " ['lap', '1603.682128034765', '1608.47078990296', '55'],\n",
       " ['intra', '1608.47078990296', '1613.5888314425247', '55'],\n",
       " ['lap', '1613.5888314425247', '1616.5891294264002', '56'],\n",
       " ['intra', '1616.5891294264002', '1628.3995502594626', '56'],\n",
       " ['lap', '1628.3995502594626', '1632.373456704896', '57'],\n",
       " ['intra', '1632.373456704896', '1637.8721188495401', '57'],\n",
       " ['lap', '1637.8721188495401', '1642.783046255121', '58'],\n",
       " ['intra', '1642.783046255121', '1650.154644400929', '58'],\n",
       " ['lap', '1650.154644400929', '1654.2028932081303', '59'],\n",
       " ['intra', '1654.2028932081303', '1665.138316729106', '59'],\n",
       " ['lap', '1665.138316729106', '1667.6860171848675', '60'],\n",
       " ['intra', '1667.6860171848675', '1674.2136452026898', '60'],\n",
       " ['lap', '1674.2136452026898', '1681.2558943970362', '61'],\n",
       " ['intra', '1681.2558943970362', '1691.962054675445', '61'],\n",
       " ['lap', '1691.962054675445', '1696.1700781210093', '62'],\n",
       " ['intra', '1696.1700781210093', '1706.045508584706', '62'],\n",
       " ['lap', '1706.045508584706', '1709.7531649264274', '63'],\n",
       " ['intra', '1709.7531649264274', '1716.186728352448', '63'],\n",
       " ['lap', '1716.186728352448', '1719.9323853146052', '64'],\n",
       " ['intra', '1719.9323853146052', '1744.310781792854', '64'],\n",
       " ['lap', '1744.310781792854', '1747.4530675440328', '65'],\n",
       " ['intra', '1747.4530675440328', '1751.886268474278', '65'],\n",
       " ['lap', '1751.886268474278', '1755.3601764555788', '66'],\n",
       " ['intra', '1755.3601764555788', '1888.2332015446154', '66'],\n",
       " ['lap', '1888.2332015446154', '1899.0407992111286', '67'],\n",
       " ['intra', '1899.0407992111286', '1900.642047671252', '67'],\n",
       " ['lap', '1900.642047671252', '1906.0735866503092', '68'],\n",
       " ['intra', '1906.0735866503092', '1914.9586355411448', '68'],\n",
       " ['lap', '1914.9586355411448', '1922.3731187849771', '69'],\n",
       " ['intra', '1922.3731187849771', '1930.2070219740272', '69'],\n",
       " ['lap', '1930.2070219740272', '1932.6085567444097', '70'],\n",
       " ['intra', '1932.6085567444097', '1940.9808583778795', '70'],\n",
       " ['lap', '1940.9808583778795', '1945.9921479721088', '71'],\n",
       " ['intra', '1945.9921479721088', '1960.1715711122379', '71'],\n",
       " ['lap', '1960.1715711122379', '1962.671501992154', '72'],\n",
       " ['intra', '1962.671501992154', '1971.9133635003818', '72'],\n",
       " ['lap', '1971.9133635003818', '1975.4521520885173', '73'],\n",
       " ['intra', '1975.4521520885173', '1978.5230138762854', '73'],\n",
       " ['lap', '1978.5230138762854', '1988.0340438865824', '74'],\n",
       " ['intra', 1988.0340438865824, 2093.8978568242164, 74]]"
      ]
     },
     "execution_count": 23,
     "metadata": {},
     "output_type": "execute_result"
    }
   ],
   "source": [
    "## Newest way of dropping bad laps:\n",
    "from neuropy.utils.efficient_interval_search import get_non_overlapping_epochs, drop_overlapping\n",
    "from neuropy.core.laps import Laps\n",
    "from pyphocorehelpers.indexing_helpers import interleave_elements\n",
    "from pyphocorehelpers.print_helpers import print_object_memory_usage\n",
    "\n",
    "sess = curr_active_pipeline.sess\n",
    "\n",
    "## Backup original laps object if it hasn't already been done:\n",
    "if not hasattr(sess, 'old_laps_obj'):\n",
    "    print(f'backing up laps object to sess.old_laps_obj.')\n",
    "    sess.old_laps_obj = deepcopy(sess.laps)\n",
    "    \n",
    "## Get only the non-overlapping laps (dropping the overlapping ones) and replace the old laps object in sess.laps with this new good one:\n",
    "is_non_overlapping_lap = get_non_overlapping_epochs(curr_active_pipeline.sess.laps.to_dataframe()[['start','stop']].to_numpy())\n",
    "only_good_laps_df = curr_active_pipeline.sess.laps.to_dataframe()[is_non_overlapping_lap]\n",
    "curr_active_pipeline.sess.laps = Laps(only_good_laps_df) # replace the laps object with the filtered one\n",
    "## Extract the epochs from the new good (non-overlapping) laps:\n",
    "lap_specific_epochs = curr_active_pipeline.sess.laps.as_epoch_obj()\n",
    "any_lap_specific_epochs = lap_specific_epochs.label_slice(lap_specific_epochs.labels[np.arange(len(curr_active_pipeline.sess.laps.lap_id))])\n",
    "even_lap_specific_epochs = lap_specific_epochs.label_slice(lap_specific_epochs.labels[np.arange(0, len(curr_active_pipeline.sess.laps.lap_id), 2)])\n",
    "odd_lap_specific_epochs = lap_specific_epochs.label_slice(lap_specific_epochs.labels[np.arange(1, len(curr_active_pipeline.sess.laps.lap_id), 2)])\n",
    "\n",
    "only_good_laps_df['epoch_type'] = 'lap'\n",
    "laps_records_list = list(only_good_laps_df[['epoch_type','start','stop','lap_id']].itertuples(index=False, name='lap')) # len(laps_records_list) # 74\n",
    "\n",
    "## Build the intra-lap periods and make a dataframe for them (`intra_lap_df`)\n",
    "starts = [sess.paradigm[0][0,0]]\n",
    "stops = []\n",
    "preceeding_lap_ids = [-1]\n",
    "for i, row in only_good_laps_df.iterrows():\n",
    "    # print(f'row: {row}')\n",
    "    stops.append(row.start)\n",
    "    starts.append(row.stop)\n",
    "    preceeding_lap_ids.append(row.lap_id)\n",
    "stops.append(sess.paradigm[1][0,1])\n",
    "intra_lap_df = pd.DataFrame(dict(start=starts, stop=stops, preceding_lap_id=preceeding_lap_ids))\n",
    "intra_lap_df['intra_lap_interval_id'] = intra_lap_df.index.astype(int)\n",
    "intra_lap_df['epoch_type'] = 'intra'\n",
    "\n",
    "intra_lap_interval_records = list(intra_lap_df[['epoch_type','start','stop','intra_lap_interval_id']].itertuples(index=False, name='intera_lap')) # len(intra_lap_interval_records) # 75\n",
    "# intra_lap_interval_records\n",
    "\n",
    "## interleave the two lists to get alternting tuples: [(inter-lap), (lap 1), (inter-lap), (lap 2), ...]\n",
    "combined_records_list = interleave_elements(intra_lap_interval_records[:-1], laps_records_list).tolist()\n",
    "combined_records_list.append(list(intra_lap_interval_records[-1])) # add the last element which was omitted so they would be the same length.\n",
    "combined_records_list"
   ]
  },
  {
   "cell_type": "code",
   "execution_count": null,
   "id": "52c5d1ac-1ccd-453f-89b6-00adba4a3784",
   "metadata": {},
   "outputs": [],
   "source": [
    "from neuropy.analyses.time_dependent_placefields import PfND_TimeDependent\n",
    "\n",
    "\n",
    "## Build pf_1D_dt\n",
    "active_pf_1D = global_pf1D\n",
    "\n",
    "# computation_result = curr_active_pipeline.computation_results[global_epoch_name]\n",
    "# active_session, pf_computation_config = computation_result.sess, computation_result.computation_config.pf_params\n",
    "# active_session_spikes_df, active_pos, computation_config, active_epoch_placefields1D, active_epoch_placefields2D, included_epochs, should_force_recompute_placefields = active_session.spikes_df, active_session.position, pf_computation_config, None, None, pf_computation_config.computation_epochs, True\n",
    "# active_pf_1D_dt = PfND_TimeDependent(deepcopy(active_session_spikes_df), deepcopy(active_pos.linear_pos_obj), epochs=included_epochs,\n",
    "#                                     speed_thresh=computation_config.speed_thresh, frate_thresh=computation_config.frate_thresh,\n",
    "#                                     grid_bin=computation_config.grid_bin, grid_bin_bounds=computation_config.grid_bin_bounds, smooth=computation_config.smooth)\n",
    "\n",
    "active_pf_1D_dt = global_results.pf1D_dt\n",
    "active_pf_2D_dt = global_results.pf2D_dt # just for testing"
   ]
  },
  {
   "cell_type": "code",
   "execution_count": 24,
   "id": "06f486ae-35b1-4cf7-8035-ded0ab79ed7d",
   "metadata": {},
   "outputs": [],
   "source": [
    "_out = active_pf_1D_dt.complete_time_range_computation(0.0, 100.0, assign_results_to_member_variables=False)\n",
    "_out"
   ]
  },
  {
   "cell_type": "code",
   "execution_count": 36,
   "id": "76f06eec-51df-4e57-a168-b3966d5c68fc",
   "metadata": {},
   "outputs": [
    {
     "data": {
      "text/plain": [
       "{'num_position_samples_occupancy': array([ 39,  28,  34,  86, 880, 842, 127,  54,  42,   6,   8,   6,   6,\n",
       "          6,   7,   7,   6,   6,   5,   6,   6,   5,   5,   5,   5,   5,\n",
       "          6,   4,   5,   5,   5,   6,   6,   7,   6,   6,   8,   6,   6,\n",
       "          7,   8,   6,   7,   7,   7,  27,  18,  10,  10,   9,   9,   7,\n",
       "          6,   7,  16,  17,  38, 133, 171,  72,  21,  28,  48]),\n",
       " 'seconds_occupancy': array([ 1.30131182,  0.93427515,  1.13447697,  2.86955939, 29.36293331,\n",
       "        28.09498847,  4.23760515,  1.80181636,  1.40141273,  0.20020182,\n",
       "         0.26693576,  0.20020182,  0.20020182,  0.20020182,  0.23356879,\n",
       "         0.23356879,  0.20020182,  0.20020182,  0.16683485,  0.20020182,\n",
       "         0.20020182,  0.16683485,  0.16683485,  0.16683485,  0.16683485,\n",
       "         0.16683485,  0.20020182,  0.13346788,  0.16683485,  0.16683485,\n",
       "         0.16683485,  0.20020182,  0.20020182,  0.23356879,  0.20020182,\n",
       "         0.20020182,  0.26693576,  0.20020182,  0.20020182,  0.23356879,\n",
       "         0.26693576,  0.20020182,  0.23356879,  0.23356879,  0.23356879,\n",
       "         0.90090818,  0.60060545,  0.3336697 ,  0.3336697 ,  0.30030273,\n",
       "         0.30030273,  0.23356879,  0.20020182,  0.23356879,  0.53387151,\n",
       "         0.56723848,  1.26794485,  4.43780697,  5.70575181,  2.40242182,\n",
       "         0.70070636,  0.93427515,  1.60161454]),\n",
       " 'spikes_maps_matrix': array([[7, 0, 0, ..., 0, 0, 0],\n",
       "        [0, 0, 0, ..., 0, 0, 0],\n",
       "        [0, 0, 0, ..., 0, 0, 0],\n",
       "        ...,\n",
       "        [0, 0, 0, ..., 0, 0, 1],\n",
       "        [0, 1, 0, ..., 0, 0, 0],\n",
       "        [0, 0, 0, ..., 0, 0, 0]]),\n",
       " 'smoothed_spikes_maps_matrix': None,\n",
       " 'occupancy_weighted_tuning_maps_matrix': array([[2.01994081e+00, 1.59774369e+00, 9.99170197e-01, ...,\n",
       "         0.00000000e+00, 0.00000000e+00, 0.00000000e+00],\n",
       "        [0.00000000e+00, 0.00000000e+00, 0.00000000e+00, ...,\n",
       "         0.00000000e+00, 0.00000000e+00, 0.00000000e+00],\n",
       "        [0.00000000e+00, 0.00000000e+00, 0.00000000e+00, ...,\n",
       "         0.00000000e+00, 0.00000000e+00, 0.00000000e+00],\n",
       "        ...,\n",
       "        [1.04244476e-01, 1.58433253e-01, 2.56497233e-01, ...,\n",
       "         1.16643600e-01, 1.85452392e-01, 2.34457416e-01],\n",
       "        [5.50013170e-01, 6.46038771e-01, 8.03747166e-01, ...,\n",
       "         1.86818207e-03, 2.86494999e-04, 0.00000000e+00],\n",
       "        [1.06096310e-03, 3.18267527e-03, 9.47898353e-03, ...,\n",
       "         4.25720672e-02, 1.87033008e-02, 8.35922570e-03]])}"
      ]
     },
     "execution_count": 36,
     "metadata": {},
     "output_type": "execute_result"
    }
   ],
   "source": [
    "_out.to_dict()"
   ]
  },
  {
   "cell_type": "code",
   "execution_count": 77,
   "id": "ee2ceeb9-7cd5-43ef-925b-ccb2dc9feb03",
   "metadata": {},
   "outputs": [],
   "source": [
    "_out_dict = _out.to_dict()\n",
    "_out_dict"
   ]
  },
  {
   "cell_type": "code",
   "execution_count": 78,
   "id": "6d492777-42fc-479e-80b8-72b88623afba",
   "metadata": {},
   "outputs": [],
   "source": [
    "_out_dict['spikes_maps_matrix']"
   ]
  },
  {
   "cell_type": "code",
   "execution_count": 78,
   "id": "0e0f2157-cec8-4245-87b3-4de5a47ed00d",
   "metadata": {},
   "outputs": [
    {
     "data": {
      "text/plain": [
       "array([[7, 0, 0, ..., 0, 0, 0],\n",
       "       [0, 0, 0, ..., 0, 0, 0],\n",
       "       [0, 0, 0, ..., 0, 0, 0],\n",
       "       ...,\n",
       "       [0, 0, 0, ..., 0, 0, 1],\n",
       "       [0, 1, 0, ..., 0, 0, 0],\n",
       "       [0, 0, 0, ..., 0, 0, 0]])"
      ]
     },
     "execution_count": 78,
     "metadata": {},
     "output_type": "execute_result"
    }
   ],
   "source": []
  },
  {
   "cell_type": "code",
   "execution_count": 66,
   "id": "3b4df60e-416f-466b-be86-0bdf8055bdd8",
   "metadata": {},
   "outputs": [
    {
     "data": {
      "text/plain": [
       "type"
      ]
     },
     "execution_count": 66,
     "metadata": {},
     "output_type": "execute_result"
    }
   ],
   "source": [
    "type(type(_out.seconds_occupancy))\n",
    "    "
   ]
  },
  {
   "cell_type": "code",
   "execution_count": 37,
   "id": "29cfc19e-c80d-4f62-8c82-2b7c4496d61e",
   "metadata": {},
   "outputs": [
    {
     "name": "stdout",
     "output_type": "stream",
     "text": [
      "- _out: dict\n",
      "\t- num_position_samples_occupancy: numpy.ndarray - (63,)\n",
      "\t- seconds_occupancy: numpy.ndarray - (63,)\n",
      "\t- spikes_maps_matrix: numpy.ndarray - (108, 63)\n",
      "\t- smoothed_spikes_maps_matrix: NoneType\n",
      "\t- occupancy_weighted_tuning_maps_matrix: numpy.ndarray - (108, 63)\n"
     ]
    }
   ],
   "source": [
    "print_keys_if_possible(\"_out\", _out.to_dict())"
   ]
  },
  {
   "cell_type": "code",
   "execution_count": 124,
   "id": "c51df5f6-00e5-424d-8a21-e83fac02010a",
   "metadata": {},
   "outputs": [
    {
     "name": "stdout",
     "output_type": "stream",
     "text": [
      "WARNING: class_definition_mode (GeneratedClassDefinitionType.STANDARD_CLASS) was provided, overriding the `class_decorators`,  `include_init_fcn`, `include_properties_defns` settings!\n",
      "Copied \"\n",
      "class PlacefieldSnapshot(object):\n",
      "    # Docstring for PlacefieldSnapshot.\n",
      "\n",
      "    def __init__(self, num_position_samples_occupancy, seconds_occupancy, spikes_maps_matrix, smoothed_spikes_maps_matrix, occupancy_weighted_tuning_maps_matrix):\n",
      "        super(PlacefieldSnapshot, self).__init__()        self.num_position_samples_occupancy = num_position_samples_occupancy\n",
      "        self.seconds_occupancy = seconds_occupancy\n",
      "        self.spikes_maps_matrix = spikes_maps_matrix\n",
      "        self.smoothed_spikes_maps_matrix = smoothed_spikes_maps_matrix\n",
      "        self.occupancy_weighted_tuning_maps_matrix = occupancy_weighted_tuning_maps_matrix\n",
      "\n",
      "\" to clipboard!\n"
     ]
    },
    {
     "data": {
      "text/plain": [
       "'\\nclass PlacefieldSnapshot(object):\\n    # Docstring for PlacefieldSnapshot.\\n\\n    def __init__(self, num_position_samples_occupancy, seconds_occupancy, spikes_maps_matrix, smoothed_spikes_maps_matrix, occupancy_weighted_tuning_maps_matrix):\\n        super(PlacefieldSnapshot, self).__init__()        self.num_position_samples_occupancy = num_position_samples_occupancy\\n        self.seconds_occupancy = seconds_occupancy\\n        self.spikes_maps_matrix = spikes_maps_matrix\\n        self.smoothed_spikes_maps_matrix = smoothed_spikes_maps_matrix\\n        self.occupancy_weighted_tuning_maps_matrix = occupancy_weighted_tuning_maps_matrix\\n\\n'"
      ]
     },
     "execution_count": 124,
     "metadata": {},
     "output_type": "execute_result"
    }
   ],
   "source": [
    "from pyphocorehelpers.general_helpers import CodeConversion, GeneratedClassDefinitionType\n",
    "CodeConversion.convert_dictionary_to_class_defn(_out.to_dict(), class_name='PlacefieldSnapshot', class_definition_mode=GeneratedClassDefinitionType.STANDARD_CLASS, include_types=False)"
   ]
  },
  {
   "cell_type": "code",
   "execution_count": 108,
   "id": "c020444e-2d7f-4489-9d87-2d65ae104854",
   "metadata": {},
   "outputs": [
    {
     "data": {
      "text/plain": [
       "{<GeneratedClassDefinitionType.STANDARD_CLASS: 'STANDARD_CLASS'>: None,\n",
       " <GeneratedClassDefinitionType.DATACLASS: 'DATACLASS'>: '@dataclass'}"
      ]
     },
     "execution_count": 108,
     "metadata": {},
     "output_type": "execute_result"
    }
   ],
   "source": [
    "\"\n",
    "class PlacefieldSnapshot(object):\n",
    "    # Docstring for PlacefieldSnapshot.\n",
    "\n",
    "    def __init__(self, num_position_samples_occupancy, seconds_occupancy, spikes_maps_matrix, smoothed_spikes_maps_matrix, occupancy_weighted_tuning_maps_matrix):\n",
    "        super(PlacefieldSnapshot, self).__init__()        self.num_position_samples_occupancy = num_position_samples_occupancy\n",
    "        self.seconds_occupancy = seconds_occupancy\n",
    "        self.spikes_maps_matrix = spikes_maps_matrix\n",
    "        self.smoothed_spikes_maps_matrix = smoothed_spikes_maps_matrix\n",
    "        self.occupancy_weighted_tuning_maps_matrix = occupancy_weighted_tuning_maps_matrix\n",
    "\n",
    "\"\n"
   ]
  },
  {
   "cell_type": "code",
   "execution_count": 107,
   "id": "67b23e7b-f0a5-43c9-b571-9510fa61c180",
   "metadata": {},
   "outputs": [
    {
     "data": {
      "text/plain": [
       "{<GeneratedClassDefinitionType.STANDARD_CLASS: 'STANDARD_CLASS'>: None,\n",
       " <GeneratedClassDefinitionType.DATACLASS: 'DATACLASS'>: '@dataclass'}"
      ]
     },
     "execution_count": 107,
     "metadata": {},
     "output_type": "execute_result"
    }
   ],
   "source": [
    "class_definition_mode.decoratorsList()"
   ]
  },
  {
   "cell_type": "code",
   "execution_count": 117,
   "id": "91ef3e97-d92d-4d37-b8f4-dc378dbb6209",
   "metadata": {},
   "outputs": [
    {
     "data": {
      "text/plain": [
       "<GeneratedClassDefinitionType.STANDARD_CLASS: 'STANDARD_CLASS'>"
      ]
     },
     "execution_count": 117,
     "metadata": {},
     "output_type": "execute_result"
    }
   ],
   "source": [
    "class_definition_mode = GeneratedClassDefinitionType.STANDARD_CLASS\n",
    "class_definition_mode"
   ]
  },
  {
   "cell_type": "code",
   "execution_count": 118,
   "id": "38301100-7e1b-4092-909b-f718798f8b1c",
   "metadata": {},
   "outputs": [
    {
     "data": {
      "text/plain": [
       "True"
      ]
     },
     "execution_count": 118,
     "metadata": {},
     "output_type": "execute_result"
    }
   ],
   "source": [
    "class_definition_mode.include_init_fcn"
   ]
  },
  {
   "cell_type": "code",
   "execution_count": 119,
   "id": "ad0119d0-d085-43c5-a2f3-842c5442c66d",
   "metadata": {},
   "outputs": [
    {
     "data": {
      "text/plain": [
       "{<GeneratedClassDefinitionType.STANDARD_CLASS: 'STANDARD_CLASS'>: None,\n",
       " <GeneratedClassDefinitionType.DATACLASS: 'DATACLASS'>: '@dataclass'}"
      ]
     },
     "execution_count": 119,
     "metadata": {},
     "output_type": "execute_result"
    }
   ],
   "source": [
    "GeneratedClassDefinitionType.decoratorsList()"
   ]
  },
  {
   "cell_type": "code",
   "execution_count": 120,
   "id": "31aaa5e1-600f-47cc-906a-12456584b603",
   "metadata": {},
   "outputs": [
    {
     "data": {
      "text/plain": [
       "False"
      ]
     },
     "execution_count": 120,
     "metadata": {},
     "output_type": "execute_result"
    }
   ],
   "source": [
    "class_definition_mode.include_properties_defns"
   ]
  },
  {
   "cell_type": "code",
   "execution_count": 121,
   "id": "14a45030-0de5-42ff-b841-87431525f8d7",
   "metadata": {},
   "outputs": [
    {
     "data": {
      "text/plain": [
       "'    def __init__(self, num_position_samples_occupancy, seconds_occupancy, spikes_maps_matrix, smoothed_spikes_maps_matrix, occupancy_weighted_tuning_maps_matrix):\\n        super(PlacefieldSnapshot, self).__init__()        self.num_position_samples_occupancy = num_position_samples_occupancy\\n        self.seconds_occupancy = seconds_occupancy\\n        self.spikes_maps_matrix = spikes_maps_matrix\\n        self.smoothed_spikes_maps_matrix = smoothed_spikes_maps_matrix\\n        self.occupancy_weighted_tuning_maps_matrix = occupancy_weighted_tuning_maps_matrix'"
      ]
     },
     "execution_count": 121,
     "metadata": {},
     "output_type": "execute_result"
    }
   ],
   "source": [
    "init_fcn_code_str = CodeConversion._build_class_init_fcn(_out.to_dict(), class_name='PlacefieldSnapshot', include_type_hinting=False, include_default_values=False)\n",
    "init_fcn_code_str"
   ]
  },
  {
   "cell_type": "code",
   "execution_count": 62,
   "id": "3f530cdd-b96d-447a-8485-f2a6a4447248",
   "metadata": {},
   "outputs": [
    {
     "ename": "SyntaxError",
     "evalue": "EOL while scanning string literal (584461677.py, line 1)",
     "output_type": "error",
     "traceback": [
      "\u001b[1;36m  Cell \u001b[1;32mIn [62], line 1\u001b[1;36m\u001b[0m\n\u001b[1;33m    \"@dataclass\u001b[0m\n\u001b[1;37m               ^\u001b[0m\n\u001b[1;31mSyntaxError\u001b[0m\u001b[1;31m:\u001b[0m EOL while scanning string literal\n"
     ]
    }
   ],
   "source": [
    "class PlacefieldSnapshot(object):\n",
    "    # Docstring for PlacefieldSnapshot.\n",
    "    num_position_samples_occupancy: type\n",
    "    seconds_occupancy: type\n",
    "    spikes_maps_matrix: type\n",
    "    smoothed_spikes_maps_matrix: type\n",
    "    occupancy_weighted_tuning_maps_matrix: type\n",
    "\n",
    "    def __init__(self, num_position_samples_occupancy, seconds_occupancy, spikes_maps_matrix, smoothed_spikes_maps_matrix, occupancy_weighted_tuning_maps_matrix):\n",
    "        super(PlacefieldSnapshot, self).__init__()        self.num_position_samples_occupancy = num_position_samples_occupancy\n",
    "        self.seconds_occupancy = seconds_occupancy\n",
    "        self.spikes_maps_matrix = spikes_maps_matrix\n",
    "        self.smoothed_spikes_maps_matrix = smoothed_spikes_maps_matrix\n",
    "        self.occupancy_weighted_tuning_maps_matrix = occupancy_weighted_tuning_maps_matrix\n",
    "\n"
   ]
  },
  {
   "cell_type": "code",
   "execution_count": 38,
   "id": "5b9b3999-5a3e-4085-b447-c41f43dbf6b3",
   "metadata": {},
   "outputs": [
    {
     "name": "stdout",
     "output_type": "stream",
     "text": [
      "Copied \"num_position_samples_occupancy, seconds_occupancy, spikes_maps_matrix, smoothed_spikes_maps_matrix, occupancy_weighted_tuning_maps_matrix = target_dict['num_position_samples_occupancy'], target_dict['seconds_occupancy'], target_dict['spikes_maps_matrix'], target_dict['smoothed_spikes_maps_matrix'], target_dict['occupancy_weighted_tuning_maps_matrix'] # Extract variables from the `target_dict` dictionary to the local workspace\" to clipboard!\n"
     ]
    },
    {
     "data": {
      "text/plain": [
       "\"num_position_samples_occupancy, seconds_occupancy, spikes_maps_matrix, smoothed_spikes_maps_matrix, occupancy_weighted_tuning_maps_matrix = target_dict['num_position_samples_occupancy'], target_dict['seconds_occupancy'], target_dict['spikes_maps_matrix'], target_dict['smoothed_spikes_maps_matrix'], target_dict['occupancy_weighted_tuning_maps_matrix'] # Extract variables from the `target_dict` dictionary to the local workspace\""
      ]
     },
     "execution_count": 38,
     "metadata": {},
     "output_type": "execute_result"
    }
   ],
   "source": [
    "# num_position_samples_occupancy, seconds_occupancy, spikes_maps_matrix, smoothed_spikes_maps_matrix, occupancy_weighted_tuning_maps_matrix = target_dict['num_position_samples_occupancy'], target_dict['seconds_occupancy'], target_dict['spikes_maps_matrix'], target_dict['smoothed_spikes_maps_matrix'], target_dict['occupancy_weighted_tuning_maps_matrix'] # Extract variables from the `target_dict` dictionary to the local workspace\n",
    "\n"
   ]
  },
  {
   "cell_type": "code",
   "execution_count": 34,
   "id": "e7daab6c-efaa-4fab-a0f5-163b71e70b4b",
   "metadata": {},
   "outputs": [
    {
     "name": "stdout",
     "output_type": "stream",
     "text": [
      "Copied \"_mapping, _keys_at_init = target_dict['_mapping'], target_dict['_keys_at_init'] # Extract variables from the `target_dict` dictionary to the local workspace\" to clipboard!\n"
     ]
    },
    {
     "data": {
      "text/plain": [
       "\"_mapping, _keys_at_init = target_dict['_mapping'], target_dict['_keys_at_init'] # Extract variables from the `target_dict` dictionary to the local workspace\""
      ]
     },
     "execution_count": 34,
     "metadata": {},
     "output_type": "execute_result"
    }
   ],
   "source": []
  },
  {
   "cell_type": "code",
   "execution_count": 29,
   "id": "b2db9885-57b0-4229-b9e1-7ba2051a5766",
   "metadata": {},
   "outputs": [
    {
     "ename": "AssertionError",
     "evalue": "",
     "output_type": "error",
     "traceback": [
      "\u001b[1;31m---------------------------------------------------------------------------\u001b[0m",
      "\u001b[1;31mAssertionError\u001b[0m                            Traceback (most recent call last)",
      "Cell \u001b[1;32mIn [29], line 1\u001b[0m\n\u001b[1;32m----> 1\u001b[0m \u001b[43mCodeConversion\u001b[49m\u001b[38;5;241;43m.\u001b[39;49m\u001b[43mget_arguments_as_optional_dict\u001b[49m\u001b[43m(\u001b[49m\u001b[43m_out\u001b[49m\u001b[43m)\u001b[49m\n",
      "File \u001b[1;32mc:\\users\\pho\\repos\\pyphocorehelpers\\src\\pyphocorehelpers\\general_helpers.py:589\u001b[0m, in \u001b[0;36mCodeConversion.get_arguments_as_optional_dict\u001b[1;34m(cls, *args, **kwargs)\u001b[0m\n\u001b[0;32m    587\u001b[0m \u001b[38;5;28;01massert\u001b[39;00m \u001b[38;5;28mlen\u001b[39m(args) \u001b[38;5;241m==\u001b[39m \u001b[38;5;241m1\u001b[39m, \u001b[38;5;124mf\u001b[39m\u001b[38;5;124m\"\u001b[39m\u001b[38;5;124monly string-represented kwargs are allowed as a non-keyword argument, but args: \u001b[39m\u001b[38;5;132;01m{\u001b[39;00margs\u001b[38;5;132;01m}\u001b[39;00m\u001b[38;5;124m (with length \u001b[39m\u001b[38;5;132;01m{\u001b[39;00m\u001b[38;5;28mlen\u001b[39m(args)\u001b[38;5;132;01m}\u001b[39;00m\u001b[38;5;124m instead of 1) were passed.\u001b[39m\u001b[38;5;124m\"\u001b[39m\n\u001b[0;32m    588\u001b[0m str_rep_kwargs \u001b[38;5;241m=\u001b[39m args[\u001b[38;5;241m0\u001b[39m]\n\u001b[1;32m--> 589\u001b[0m \u001b[38;5;28;01massert\u001b[39;00m \u001b[38;5;28misinstance\u001b[39m(str_rep_kwargs, \u001b[38;5;28mstr\u001b[39m)\n\u001b[0;32m    590\u001b[0m \u001b[38;5;66;03m## Try and parse the kwargs to a valid kwargs dict, ignoring NameErrors using\u001b[39;00m\n\u001b[0;32m    591\u001b[0m code_dict_defn\u001b[38;5;241m=\u001b[39m\u001b[38;5;124mf\u001b[39m\u001b[38;5;124m\"\u001b[39m\u001b[38;5;124mdict(\u001b[39m\u001b[38;5;132;01m{\u001b[39;00mstr_rep_kwargs\u001b[38;5;132;01m}\u001b[39;00m\u001b[38;5;124m)\u001b[39m\u001b[38;5;124m\"\u001b[39m\n",
      "\u001b[1;31mAssertionError\u001b[0m: "
     ]
    }
   ],
   "source": [
    "CodeConversion.get_arguments_as_optional_dict(_out)"
   ]
  },
  {
   "cell_type": "code",
   "execution_count": null,
   "id": "8b2d3ce2-3379-40f9-922b-4babaf39420a",
   "metadata": {},
   "outputs": [],
   "source": [
    "def snapshot_at_epochs(combined_records_list, debug_print=False):\n",
    "\n",
    "    active_pf_1D_dt.reset() ## Reset completely to start\n",
    "    initial_start_t = float(combined_records_list[0][1])\n",
    "    active_pf_1D_dt.update(t=initial_start_t, start_relative_t=True, should_snapshot=True)\n",
    "\n",
    "    ## Use the combined records list (which is a list of tuples) to update the active_pf_1D_dt:\n",
    "    for epoch_type, start_t, stop_t, item_id in combined_records_list:\n",
    "        if debug_print:\n",
    "            print(f'{epoch_type}, start_t: {start_t}, stop_t: {stop_t}, item_id: {item_id}')\n",
    "        active_pf_1D_dt.update(t=float(stop_t), start_relative_t=True, should_snapshot=True) # advance the active_pf_1D_dt to the current start time\n",
    "    if debug_print:\n",
    "        print(f'done.')\n",
    "    active_pf_1D_dt\n",
    "    if debug_print\n",
    "        print(f'active_pf_1D_dt took {len(active_pf_1D_dt.historical_snapshots)} snapshots.') # 150 snapshots\n",
    "        print(f'\\t of {len(combined_records_list)} combined records') # 149 combined records\n",
    "        print_object_memory_usage(active_pf_1D_dt) # object size: 204.464939 MB for 150 snapshots of a 1D track\n",
    "\n",
    "    return active_pf_1D_dt\n"
   ]
  },
  {
   "cell_type": "code",
   "execution_count": 22,
   "id": "98dff342-6c92-4827-84da-9f281cf95f18",
   "metadata": {},
   "outputs": [
    {
     "name": "stdout",
     "output_type": "stream",
     "text": [
      "(63,)\n"
     ]
    }
   ],
   "source": [
    "from pyphocorehelpers.indexing_helpers import build_pairwise_indicies\n",
    "from pyphoplacecellanalysis.General.Pipeline.Stages.ComputationFunctions.MultiContextComputationFunctions.MultiContextComputationFunctions import compute_relative_entropy_divergence_overlap\n",
    "from scipy import stats # for compute_relative_entropy_divergence_overlap\n",
    "from scipy.special import rel_entr # alternative for compute_relative_entropy_divergence_overlap\n",
    "\n",
    "def compute_surprise_relative_entropy_divergence(long_curve, short_curve):\n",
    "    \"\"\"\n",
    "    Given two tuning maps, computes the surprise (in terms of the KL-divergence a.k.a. relative entropy) between the two\n",
    "    Returns a dictionary containing the results in both directions\n",
    "    \"\"\"\n",
    "    long_short_rel_entr_curve = rel_entr(long_curve, short_curve)\n",
    "    long_short_relative_entropy = sum(long_short_rel_entr_curve) \n",
    "    short_long_rel_entr_curve = rel_entr(short_curve, long_curve)\n",
    "    short_long_relative_entropy = sum(short_long_rel_entr_curve) \n",
    "    return dict(long_short_rel_entr_curve=long_short_rel_entr_curve, long_short_relative_entropy=long_short_relative_entropy, short_long_rel_entr_curve=short_long_rel_entr_curve, short_long_relative_entropy=short_long_relative_entropy)\n",
    "\n",
    "\n",
    "def compute_snapshot_differences(active_pf_1D_dt):\n",
    "    \"\"\"\n",
    "    Computes the surprise between consecutive pairs of placefield snapshots extracted from a computed `active_pf_1D_dt`\n",
    "    \"\"\"\n",
    "    pf_overlap_results = []\n",
    "    flat_relative_entropy_results = []\n",
    "    n_snapshots = len(active_pf_1D_dt.historical_snapshots)\n",
    "    snapshot_times = list(active_pf_1D_dt.historical_snapshots.keys())\n",
    "    snapshots = list(active_pf_1D_dt.historical_snapshots.values())\n",
    "    snapshot_indicies = np.arange(n_snapshots) # [0, 1, 2, 3, 4]\n",
    "\n",
    "    snapshot_pair_indicies = build_pairwise_indicies(snapshot_indicies) # [(0, 1), (1, 2), (2, 3), ... , (146, 147), (147, 148), (148, 149)]\n",
    "    for earlier_snapshot_idx, later_snapshot_idx in snapshot_pair_indicies:\n",
    "        ## Extract the two sequential snapshots for this period:\n",
    "        # earlier_snapshot, later_snapshot = active_pf_1D_dt.historical_snapshots[earlier_snapshot_idx], active_pf_1D_dt.historical_snapshots[later_snapshot_idx]\n",
    "        earlier_snapshot, later_snapshot = snapshots[earlier_snapshot_idx], snapshots[later_snapshot_idx]\n",
    "        earlier_snapshot_t, later_snapshot_t = snapshot_times[earlier_snapshot_idx], snapshot_times[later_snapshot_idx]\n",
    "\n",
    "        ## Proof of concept, comute surprise between the two snapshots:\n",
    "        # relative_entropy_overlap_dict, relative_entropy_overlap_scalars_df = compute_relative_entropy_divergence_overlap(earlier_snapshot, later_snapshot, debug_print=False)\n",
    "        # print(earlier_snapshot['occupancy_weighted_tuning_maps_matrix'].shape) # (108, 63)\n",
    "        # print(later_snapshot['occupancy_weighted_tuning_maps_matrix'].shape) # (108, 63)\n",
    "        relative_entropy_result_dict = compute_surprise_relative_entropy_divergence(earlier_snapshot['occupancy_weighted_tuning_maps_matrix'], later_snapshot['occupancy_weighted_tuning_maps_matrix'])\n",
    "\n",
    "        # 'long_short_relative_entropy'\n",
    "\n",
    "        # aclu_keys = [k for k,v in relative_entropy_result_dict.items() if v is not None] # len(aclu_keys) # 101\n",
    "        # short_long_rel_entr_curves = np.vstack([v['short_long_rel_entr_curve'] for k,v in relative_entropy_result_dict.items() if v is not None])\n",
    "\n",
    "        # np.vstack(relative_entropy_result_dict['short_long_relative_entropy'])\n",
    "\n",
    "\n",
    "        # short_long_rel_entr_curves # .shape # (101, 63)\n",
    "        # print(f\"{relative_entropy_result_dict['short_long_rel_entr_curve'].shape}\") # (108, 63)\n",
    "        print(f\"{relative_entropy_result_dict['short_long_relative_entropy'].shape}\") # (63,)\n",
    "        flat_relative_entropy_results.append(relative_entropy_result_dict['short_long_relative_entropy'])\n",
    "        pf_overlap_results.append({'t': (earlier_snapshot_t, later_snapshot_t),\n",
    "                                   'snapshots': (earlier_snapshot, later_snapshot),\n",
    "                                   'relative_entropy_result_dict': relative_entropy_result_dict,\n",
    "            # 'short_long_rel_entr_curves': short_long_rel_entr_curves,\n",
    "            # 'relative_entropy_overlap_scalars_df': relative_entropy_overlap_scalars_df,        \n",
    "        })\n",
    "\n",
    "        return pf_overlap_results, flat_relative_entropy_results\n",
    "    \n",
    "pf_overlap_results, flat_relative_entropy_results = compute_snapshot_differences(active_pf_1D_dt)"
   ]
  },
  {
   "cell_type": "code",
   "execution_count": 12,
   "id": "2e571080-2b8e-4924-98cc-dc7fdb608be1",
   "metadata": {},
   "outputs": [],
   "source": [
    "flat_relative_entropy_results = np.vstack(flat_relative_entropy_results)"
   ]
  },
  {
   "cell_type": "code",
   "execution_count": 18,
   "id": "3db12532-ba56-4e8f-b64f-bfac5a73afdc",
   "metadata": {},
   "outputs": [],
   "source": [
    "sess.epochs"
   ]
  },
  {
   "cell_type": "code",
   "execution_count": 18,
   "id": "8eefaffa-d9a6-4499-86a9-03414ae1abad",
   "metadata": {},
   "outputs": [
    {
     "data": {
      "text/plain": [
       "        start         stop  label     duration\n",
       "0     0.00000  1211.558080  maze1  1211.558080\n",
       "1  1211.55808  2093.897857  maze2   882.339777"
      ]
     },
     "execution_count": 18,
     "metadata": {},
     "output_type": "execute_result"
    }
   ],
   "source": []
  },
  {
   "cell_type": "code",
   "execution_count": 13,
   "id": "cd730158-4d91-4a37-8d94-4d33ce5ade99",
   "metadata": {},
   "outputs": [],
   "source": [
    "flat_relative_entropy_results.shape # (149, 63) (n_windows, n_locations)"
   ]
  },
  {
   "cell_type": "code",
   "execution_count": 15,
   "id": "2082c157-b481-4691-93b7-275fa7f29b98",
   "metadata": {},
   "outputs": [],
   "source": [
    "len(snapshot_times) # we'll call the time being analyzed between snapshots: t, t+1 the snapshot t+1 since it incldues the contribution of these timepoints"
   ]
  },
  {
   "cell_type": "code",
   "execution_count": 17,
   "id": "bdb05d09-251a-43e8-b493-d7cd50250ddb",
   "metadata": {},
   "outputs": [],
   "source": [
    "plt.plot(snapshot_times[1:], flat_relative_entropy_results)"
   ]
  },
  {
   "cell_type": "code",
   "execution_count": 21,
   "id": "77243e72-28e4-418d-a797-db3871057c8c",
   "metadata": {},
   "outputs": [
    {
     "data": {
      "text/plain": [
       "<matplotlib.lines.Line2D at 0x19e56e92820>"
      ]
     },
     "execution_count": 21,
     "metadata": {},
     "output_type": "execute_result"
    }
   ],
   "source": [
    "plt.axvline(1211.55808)"
   ]
  },
  {
   "cell_type": "code",
   "execution_count": null,
   "id": "918ecd43-a269-4b56-ba5e-679727efa235",
   "metadata": {},
   "outputs": [],
   "source": [
    "# relative_entropy_result_dict"
   ]
  },
  {
   "cell_type": "code",
   "execution_count": null,
   "id": "f936a2d4-987b-4c22-a515-d970a8721da9",
   "metadata": {},
   "outputs": [],
   "source": [
    "pf_overlap_results"
   ]
  },
  {
   "cell_type": "markdown",
   "id": "094b3cb0-0e16-458a-b6a2-5acaa00f666d",
   "metadata": {
    "tags": []
   },
   "source": [
    "# Time-Dependent Placefields Documentation:\n",
    "\n",
    "## Resetting State:\n",
    "reset(self): \"\"\" used to reset the calculations to an initial value. \"\"\"\n",
    "    setup_time_varying(self): \"\"\" Initialize for the 0th timestamp \"\"\"\n",
    "\n",
    "## Making Snapshots:\n",
    "snapshot(self): \"\"\" takes a snapshot of the current values at this time.\"\"\"    \n",
    "        \n",
    "## Restore Snapshots:\n",
    "restore_from_snapshot(self, snapshot_t)\n",
    "    apply_snapshot_data(self, snapshot_t, snapshot_data)\n",
    "\n",
    "\n",
    "    "
   ]
  },
  {
   "cell_type": "code",
   "execution_count": null,
   "id": "962bbd04-62a8-4046-bca7-4d2f5bcd438b",
   "metadata": {},
   "outputs": [],
   "source": [
    "# Reset the rebuild_fragile_linear_neuron_IDXs:\n",
    "self._filtered_spikes_df, _reverse_cellID_index_map = self._filtered_spikes_df.spikes.rebuild_fragile_linear_neuron_IDXs()\n",
    "self.fragile_linear_neuron_IDXs = np.unique(self._filtered_spikes_df.fragile_linear_neuron_IDX) # array([ 0,  1,  2,  3,  4,  5,  6,  7,  8,  9, 10, 11, 12, 13, 14, 15, 16, 17, 18, 19, 20, 21, 22, 23, 24, 25, 26, 27, 28, 29, 30, 31, 32, 33, 34, 35, 36, 37, 38, 39, 40, 41, 42, 43, 44, 45, 46, 47, 48, 49, 50, 51, 52, 53, 54, 55, 56, 57, 58, 59, 60, 61, 62, 63])\n",
    "self.n_fragile_linear_neuron_IDXs = len(self.fragile_linear_neuron_IDXs)\n",
    "self._included_thresh_neurons_indx = np.arange(self.n_fragile_linear_neuron_IDXs)\n",
    "self._peak_frate_filter_function = lambda list_: [list_[_] for _ in self._included_thresh_neurons_indx] # filter_function: takes any list of length n_neurons (original number of neurons) and returns only the elements that met the firing rate criteria\n",
    "# ...\n",
    "self.setup_time_varying()"
   ]
  },
  {
   "cell_type": "code",
   "execution_count": null,
   "id": "ce95a88f-e0cf-4f21-ada4-e87da2089bf6",
   "metadata": {},
   "outputs": [],
   "source": [
    "## reset(...)\n",
    "self.curr_spikes_maps_matrix = np.zeros((self.n_fragile_linear_neuron_IDXs, *dims_coord_tuple), dtype=int) # create an initially zero occupancy map\n",
    "self.curr_smoothed_spikes_maps_matrix = None\n",
    "self.curr_num_pos_samples_occupancy_map = np.zeros(dims_coord_tuple, dtype=int) # create an initially zero occupancy map\n",
    "self.curr_num_pos_samples_smoothed_occupancy_map = None\n",
    "self.last_t = 0.0\n",
    "self.curr_seconds_occupancy = np.zeros(dims_coord_tuple, dtype=float)\n",
    "self.curr_normalized_occupancy = self.curr_seconds_occupancy.copy()\n",
    "self.curr_occupancy_weighted_tuning_maps_matrix = np.zeros((self.n_fragile_linear_neuron_IDXs, *dims_coord_tuple), dtype=float) # will have units of # spikes/sec\n",
    "self.historical_snapshots = OrderedDict({})"
   ]
  },
  {
   "cell_type": "code",
   "execution_count": null,
   "id": "439a1509-afef-440b-b9b6-9971858edf50",
   "metadata": {},
   "outputs": [],
   "source": [
    "active_pf_1D_dt"
   ]
  },
  {
   "cell_type": "code",
   "execution_count": null,
   "id": "b10b1714-7a83-4eb5-b0e4-efa07b5df055",
   "metadata": {},
   "outputs": [],
   "source": []
  },
  {
   "cell_type": "code",
   "execution_count": null,
   "id": "419bda27-7f28-4bd9-9f32-9dd8162f9947",
   "metadata": {},
   "outputs": [],
   "source": [
    "# Feynnmann - allow negative probabilities"
   ]
  },
  {
   "cell_type": "code",
   "execution_count": null,
   "id": "eb7c9d7d-1e83-4caa-9889-b1bb28649599",
   "metadata": {},
   "outputs": [],
   "source": []
  },
  {
   "cell_type": "code",
   "execution_count": null,
   "id": "af125bad-3d8b-47c9-b68b-b07b2b015b56",
   "metadata": {},
   "outputs": [],
   "source": []
  },
  {
   "cell_type": "code",
   "execution_count": 17,
   "id": "0e80c5fa-7f64-4a0a-9db2-247edb76c9b1",
   "metadata": {},
   "outputs": [
    {
     "data": {
      "text/plain": [
       "array([  0,   1,   2,   3,   4,   5,   6,   7,   8,   9,  10,  11,  12,\n",
       "        13,  14,  15,  16,  17,  18,  19,  20,  21,  22,  23,  24,  25,\n",
       "        26,  27,  28,  29,  30,  31,  32,  33,  34,  35,  36,  37,  38,\n",
       "        39,  40,  41,  42,  43,  44,  45,  46,  47,  48,  49,  50,  51,\n",
       "        52,  53,  54,  55,  56,  57,  58,  59,  60,  61,  62,  63,  64,\n",
       "        65,  66,  67,  68,  69,  70,  71,  72,  73,  74,  75,  76,  77,\n",
       "        78,  79,  80,  81,  82,  83,  84,  85,  86,  87,  88,  89,  90,\n",
       "        91,  92,  93,  94,  95,  96,  97,  98,  99, 100, 101, 102, 103,\n",
       "       104, 105, 106, 107])"
      ]
     },
     "execution_count": 17,
     "metadata": {},
     "output_type": "execute_result"
    }
   ],
   "source": [
    "active_pf_1D_dt._included_thresh_neurons_indx"
   ]
  },
  {
   "cell_type": "code",
   "execution_count": null,
   "id": "df2d1fae-472d-4a78-96a1-7d4e2dd521ae",
   "metadata": {},
   "outputs": [],
   "source": []
  },
  {
   "cell_type": "code",
   "execution_count": null,
   "id": "65f64cf2-ca5f-4cd0-b462-ffa5865043c0",
   "metadata": {},
   "outputs": [],
   "source": [
    "active_pf_1D_dt."
   ]
  },
  {
   "cell_type": "code",
   "execution_count": null,
   "id": "586f39a1-8aa1-49be-bd37-8cddc8c89ab8",
   "metadata": {},
   "outputs": [],
   "source": []
  },
  {
   "cell_type": "code",
   "execution_count": null,
   "id": "e12c4d17-51c9-4322-bb67-a32f96ea0c3d",
   "metadata": {},
   "outputs": [],
   "source": [
    "active_pf_1D_dt.ratemap"
   ]
  },
  {
   "cell_type": "code",
   "execution_count": null,
   "id": "4b7907b1-0392-4712-8c89-dae217de761f",
   "metadata": {},
   "outputs": [],
   "source": [
    "relative_entropy_result_dict['short_long_relative_entropy'].shape # (63,)"
   ]
  },
  {
   "cell_type": "code",
   "execution_count": null,
   "id": "7ef0b035-bcc6-4cd5-bf1f-ed4758ede70d",
   "metadata": {},
   "outputs": [],
   "source": [
    "active_pf_1D_dt.ratemap.neuron_ids # (108,)\n",
    "active_pf_1D_dt.included_neuron_IDs.shape\n",
    "\n",
    "## Almost working! G"
   ]
  },
  {
   "cell_type": "code",
   "execution_count": null,
   "id": "58a5f4a6-ae0b-4e54-ae46-0ae83481543e",
   "metadata": {},
   "outputs": [],
   "source": [
    "pf_overlap_results"
   ]
  },
  {
   "cell_type": "code",
   "execution_count": null,
   "id": "81225edb-0b5e-4634-9aa9-77cd13fc3c65",
   "metadata": {},
   "outputs": [],
   "source": [
    "compute_surprise_relative_entropy_divergence(earlier_snapshot['occupancy_weighted_tuning_maps_matrix'], later_snapshot['occupancy_weighted_tuning_maps_matrix'])"
   ]
  },
  {
   "cell_type": "markdown",
   "id": "49c95b1d-2a47-4e3c-b8ee-d439198e9a7d",
   "metadata": {
    "jp-MarkdownHeadingCollapsed": true,
    "tags": []
   },
   "source": [
    "## `active_pf_nD`, `active_pf_nD_dt` visualizations"
   ]
  },
  {
   "cell_type": "code",
   "execution_count": null,
   "id": "64faa259-d3fa-4df0-8f65-d3fc20132314",
   "metadata": {},
   "outputs": [],
   "source": [
    "from pyphoplacecellanalysis.Pho2D.PyQtPlots.TimeSynchronizedPlotters.TimeSynchronizedOccupancyPlotter import TimeSynchronizedOccupancyPlotter\n",
    "\n",
    "curr_sync_occupancy_plotter = TimeSynchronizedOccupancyPlotter(active_pf_2D_dt)\n",
    "curr_sync_occupancy_plotter.show()"
   ]
  },
  {
   "cell_type": "code",
   "execution_count": null,
   "id": "cab755fe-3b7a-4797-bafd-d33d666c84b3",
   "metadata": {},
   "outputs": [],
   "source": [
    "active_pf_1D_dt.plot_ratemaps_1D(**({'subplots': (None, 9), 'resolution_multiplier': 1.0, 'enable_spike_overlay': False}));"
   ]
  },
  {
   "cell_type": "code",
   "execution_count": null,
   "id": "27682783-c1f0-487b-abda-231d0faf7de7",
   "metadata": {},
   "outputs": [],
   "source": [
    "active_pf_1D.plot_ratemaps_1D(**({'subplots': (None, 9), 'resolution_multiplier': 1.0, 'enable_spike_overlay': False}));"
   ]
  },
  {
   "cell_type": "code",
   "execution_count": null,
   "id": "bf582372-8835-4cad-ba36-6478441d195d",
   "metadata": {},
   "outputs": [],
   "source": [
    "active_pf_2D_dt.update(t=3000000.0)"
   ]
  },
  {
   "cell_type": "code",
   "execution_count": null,
   "id": "8273f9b8-5e95-4713-97ca-02cc5843644d",
   "metadata": {},
   "outputs": [],
   "source": [
    "active_pf_2D_dt.plot_ratemaps_2D(**({'subplots': (None, 9), 'resolution_multiplier': 1.0, 'enable_spike_overlay': False}));"
   ]
  },
  {
   "cell_type": "code",
   "execution_count": null,
   "id": "f4ef9219-087b-43df-a56f-d640385b9374",
   "metadata": {},
   "outputs": [],
   "source": [
    "active_pf_2D.plot_ratemaps_2D(**({'subplots': (None, 9), 'resolution_multiplier': 1.0, 'enable_spike_overlay': False}));"
   ]
  },
  {
   "cell_type": "code",
   "execution_count": null,
   "id": "ec0e0852-84c1-4e02-bae8-6e59d079c122",
   "metadata": {},
   "outputs": [],
   "source": [
    "active_pf_2D_dt.plot_ratemaps_2D(**({'subplots': (None, 9), 'resolution_multiplier': 1.0, 'enable_spike_overlay': False}))"
   ]
  },
  {
   "cell_type": "code",
   "execution_count": null,
   "id": "00ba5ca1-5263-4ed6-b7fa-ea1cba869715",
   "metadata": {},
   "outputs": [],
   "source": [
    "active_pf_2D.plot_ratemaps_2D(**({'subplots': (None, 9), 'resolution_multiplier': 1.0, 'enable_spike_overlay': False}))"
   ]
  },
  {
   "cell_type": "markdown",
   "id": "6d633f44-df72-4e3c-a1c2-4272558f508d",
   "metadata": {
    "jp-MarkdownHeadingCollapsed": true,
    "tags": []
   },
   "source": [
    "## Laps and `stacked_epoch_slices_view`"
   ]
  },
  {
   "cell_type": "code",
   "execution_count": null,
   "id": "32253045-63dd-4385-ab61-cb73aa24996e",
   "metadata": {},
   "outputs": [],
   "source": [
    "from pyphoplacecellanalysis.GUI.PyVista.InteractivePlotter.Mixins.LapsVisualizationMixin import LapsVisualizationMixin\n",
    "from pyphoplacecellanalysis.Pho2D.PyQtPlots.Extensions.pyqtgraph_helpers import stacked_epoch_slices_view, stacked_epoch_slices_view_viewbox\n",
    "\n",
    "curr_position_df, lap_specific_position_dfs = LapsVisualizationMixin._compute_laps_specific_position_dfs(curr_active_pipeline.sess)\n",
    "lap_specific_position_dfs = [curr_position_df.groupby('lap').get_group(i)[['t','x','y','lin_pos']] for i in sess.laps.lap_id] # dataframes split for each ID:\n",
    "laps_position_times_list = [np.squeeze(lap_pos_df[['t']].to_numpy()) for lap_pos_df in lap_specific_position_dfs]\n",
    "laps_position_traces_list = [lap_pos_df[['x','y']].to_numpy().T for lap_pos_df in lap_specific_position_dfs]\n",
    "## Build Epochs:\n",
    "epochs = sess.laps.to_dataframe()\n",
    "epoch_slices = epochs[['start', 'stop']].to_numpy()\n",
    "epoch_description_list = [f'lap {epoch_tuple.lap_id} (maze: {epoch_tuple.maze_id}, direction: {epoch_tuple.lap_dir})' for epoch_tuple in epochs[['lap_id','maze_id','lap_dir']].itertuples()]\n",
    "# print(f'epoch_description_list: {epoch_description_list}') # epoch_descriptions: ['lap 41 (maze: 2, direction: 1)', 'lap 42 (maze: 2, direction: 0)', 'lap 43 (maze: 2, direction: 1)', 'lap 44 (maze: 2, direction: 0)', 'lap 45 (maze: 2, direction: 1)', 'lap 46 (maze: 2, direction: 0)', 'lap 47 (maze: 2, direction: 1)', 'lap 48 (maze: 2, direction: 0)', 'lap 49 (maze: 2, direction: 1)', 'lap 50 (maze: 2, direction: 0)', 'lap 51 (maze: 2, direction: 1)', 'lap 52 (maze: 2, direction: 0)', 'lap 53 (maze: 2, direction: 1)', 'lap 54 (maze: 2, direction: 0)', 'lap 55 (maze: 2, direction: 1)', 'lap 56 (maze: 2, direction: 0)', 'lap 57 (maze: 2, direction: 1)', 'lap 58 (maze: 2, direction: 0)', 'lap 59 (maze: 2, direction: 1)', 'lap 60 (maze: 2, direction: 0)', 'lap 61 (maze: 2, direction: 1)', 'lap 62 (maze: 2, direction: 0)', 'lap 63 (maze: 2, direction: 1)', 'lap 64 (maze: 2, direction: 0)', 'lap 65 (maze: 2, direction: 1)', 'lap 66 (maze: 2, direction: 0)', 'lap 67 (maze: 2, direction: 1)', 'lap 68 (maze: 2, direction: 0)', 'lap 69 (maze: 2, direction: 1)', 'lap 70 (maze: 2, direction: 0)', 'lap 71 (maze: 2, direction: 1)', 'lap 72 (maze: 2, direction: 0)', 'lap 73 (maze: 2, direction: 1)', 'lap 74 (maze: 2, direction: 0)', 'lap 75 (maze: 2, direction: 1)', 'lap 76 (maze: 2, direction: 0)', 'lap 77 (maze: 2, direction: 1)', 'lap 78 (maze: 2, direction: 0)', 'lap 79 (maze: 2, direction: 1)']\n",
    "\n",
    "stacked_epoch_slices_view_laps_containers = stacked_epoch_slices_view(epoch_slices, laps_position_times_list, laps_position_traces_list, epoch_description_list, name='stacked_epoch_slices_view_laps')\n",
    "# params, plots_data, plots, ui = stacked_epoch_slices_view_laps_containers"
   ]
  },
  {
   "cell_type": "code",
   "execution_count": null,
   "id": "f21f3dc0-a3f0-4596-bf8d-6195a0ab400f",
   "metadata": {},
   "outputs": [],
   "source": []
  },
  {
   "cell_type": "code",
   "execution_count": null,
   "id": "a9f9df68-e032-4176-9381-5deb899b87f5",
   "metadata": {},
   "outputs": [],
   "source": [
    "import matplotlib.pyplot as plt\n",
    "from neuropy.utils.misc import is_iterable\n",
    "from neuropy.plotting.figure import pretty_plot\n",
    "from scipy.ndimage import gaussian_filter, gaussian_filter1d, interpolation\n",
    "\n",
    "from neuropy.analyses.laps import estimation_session_laps # Newest pho laps estimation\n",
    "from pyphoplacecellanalysis.Analysis.reliability import compute_lap_to_lap_reliability\n",
    "\n",
    "from pyphoplacecellanalysis.PhoPositionalData.plotting.laps import _plot_position_curves_figure\n",
    "from pyphoplacecellanalysis.PhoPositionalData.plotting.laps import plot_laps_2d\n",
    "\n",
    "curr_result_label = 'maze1'\n",
    "sess = curr_active_pipeline.filtered_sessions[curr_result_label]\n",
    "sess = curr_active_pipeline.sess"
   ]
  },
  {
   "cell_type": "code",
   "execution_count": null,
   "id": "fad99826-10ab-4979-ab0e-f186016b3b50",
   "metadata": {},
   "outputs": [],
   "source": [
    "# ## Approach: try to compute brand-new laps using estimation_session_laps(sess):\n",
    "# sess = estimation_session_laps(sess)"
   ]
  },
  {
   "cell_type": "code",
   "execution_count": null,
   "id": "d608ab32-6ddc-4cd3-92eb-02fd41333906",
   "metadata": {},
   "outputs": [],
   "source": [
    "active_pf_1D_dt.snapshot()"
   ]
  },
  {
   "cell_type": "code",
   "execution_count": null,
   "id": "73669756-4a9d-4bc7-8d41-72d4d807104d",
   "metadata": {},
   "outputs": [],
   "source": [
    "even_lap_specific_epochs.to_dataframe()"
   ]
  },
  {
   "cell_type": "code",
   "execution_count": null,
   "id": "6c67af28-8cd8-46e8-a683-7e2f4ccd8a76",
   "metadata": {},
   "outputs": [],
   "source": [
    "curr_active_pipeline.sess.laps.to_dataframe()"
   ]
  },
  {
   "cell_type": "code",
   "execution_count": null,
   "id": "bab47e75-79d4-419e-b181-8ca27e277d66",
   "metadata": {},
   "outputs": [],
   "source": [
    "pos_df = sess.position.to_dataframe()\n",
    "hardcoded_track_midpoint_x = 150.0"
   ]
  },
  {
   "cell_type": "code",
   "execution_count": null,
   "id": "f881cd5d-2dcd-42bc-ae8f-3bb67daf3c1b",
   "metadata": {},
   "outputs": [],
   "source": [
    "pos_df.x.aggregate(['nanmin','mean', 'median','nanmax'])"
   ]
  },
  {
   "cell_type": "code",
   "execution_count": null,
   "id": "62324d83-c5da-40cc-ae99-37771b916c28",
   "metadata": {},
   "outputs": [],
   "source": [
    "# %pdb off\n",
    "fig, out_axes_list = _plot_position_curves_figure(sess.position, include_velocity=True, include_accel=True, figsize=(24, 10))\n",
    "ax0 = out_axes_list[0]"
   ]
  },
  {
   "cell_type": "code",
   "execution_count": null,
   "id": "d1644c1d-8704-4c98-b272-e5901b9b0e85",
   "metadata": {},
   "outputs": [],
   "source": [
    "assert set(['x','velocity_x_smooth']).issubset(pos_df.columns), 'pos_df requires the columns \"x\", and \"velocity_x_smooth\" at a minimum'\n",
    "zero_centered_x = pos_df['x'] - hardcoded_track_midpoint_x\n",
    "zero_crossings_x = np.diff(np.sign(zero_centered_x))\n",
    "# Find ascending crossings:\n",
    "asc_crossing_midpoints = np.where(zero_crossings_x > 0)[0] # (24,), corresponding to increasing positions\n",
    "# find descending crossings:\n",
    "desc_crossing_midpoints = np.where(zero_crossings_x < 0)[0] # (24,)\n",
    "print(f'desc_crossings_x: {np.shape(desc_crossing_midpoints)}, asc_crossings_x: {np.shape(asc_crossing_midpoints)}') # desc_crossings_x: (24,), asc_crossings_x: (24,)\n",
    "# desc_crossings_x: (43,), asc_crossings_x: (42,)\n",
    "\n",
    "desc_crossing_beginings = np.zeros_like(desc_crossing_midpoints)\n",
    "desc_crossing_endings = np.zeros_like(desc_crossing_midpoints)\n",
    "\n",
    "asc_crossing_beginings = np.zeros_like(asc_crossing_midpoints)\n",
    "asc_crossing_endings = np.zeros_like(asc_crossing_midpoints)"
   ]
  },
  {
   "cell_type": "code",
   "execution_count": null,
   "id": "c284cc55-aaa2-44e1-b630-65d0f4e5b0eb",
   "metadata": {},
   "outputs": [],
   "source": [
    "# desc_crossings_x: (43,), asc_crossings_x: (42,)"
   ]
  },
  {
   "cell_type": "code",
   "execution_count": null,
   "id": "a4354dc6-3d81-4e53-a116-353a0a2372ba",
   "metadata": {},
   "outputs": [],
   "source": [
    "zero_crossings_x.nonzero()[0].shape # (85,)"
   ]
  },
  {
   "cell_type": "code",
   "execution_count": null,
   "id": "6c0f63d1-aa70-4514-92eb-dd5bc174aacf",
   "metadata": {},
   "outputs": [],
   "source": [
    "if len(desc_crossing_midpoints) > len(asc_crossing_midpoints):\n",
    "    print(f'WARNING: must drop last desc_crossing_midpoint.')\n",
    "    assert len(desc_crossing_midpoints) > 1\n",
    "    desc_crossing_midpoints = desc_crossing_midpoints[:-1] # all but the very last which is dropped\n",
    "    \n",
    "elif len(asc_crossing_midpoints) > len(desc_crossing_midpoints):\n",
    "    print(f'WARNING: must drop last asc_crossing_midpoints.')\n",
    "    assert len(asc_crossing_midpoints) > 1\n",
    "    asc_crossing_midpoints = asc_crossing_midpoints[:-1] # all but the very last which is dropped\n",
    "    \n",
    "assert len(asc_crossing_midpoints) == len(desc_crossing_midpoints), f\"desc_crossings_x: {np.shape(desc_crossing_midpoints)}, asc_crossings_x: {np.shape(asc_crossing_midpoints)}\"\n",
    "desc_crossing_midpoints, asc_crossing_midpoints"
   ]
  },
  {
   "cell_type": "code",
   "execution_count": null,
   "id": "64e34273-05a7-4e86-9b03-f0e059aad7f7",
   "metadata": {},
   "outputs": [],
   "source": [
    "is_starting_with_ascend = (asc_crossing_midpoints[0] < desc_crossing_midpoints[0]) # True if the animal is starting at the lower half (bottom) of the track, meaning the first motion is an ascending one\n",
    "is_starting_with_ascend"
   ]
  },
  {
   "cell_type": "code",
   "execution_count": null,
   "id": "87ca1a8d-d5c4-4056-bd2c-2e8918dce99f",
   "metadata": {},
   "outputs": [],
   "source": [
    "desc_crossing_midpoints, asc_crossing_midpoints"
   ]
  },
  {
   "cell_type": "code",
   "execution_count": null,
   "id": "d6f3b8f1-0c0a-4890-bea4-744373dacb33",
   "metadata": {},
   "outputs": [],
   "source": [
    "debug_draw = False\n",
    "\n",
    "# testing-only, work on a single crossing:\n",
    "for a_desc_crossing_i in np.arange(len(desc_crossing_midpoints)):\n",
    "    a_desc_crossing = desc_crossing_midpoints[a_desc_crossing_i]\n",
    "    # print(f'a_desc_crossing: {a_desc_crossing}')\n",
    "    # pos_df.loc[a_desc_crossing:, :]\n",
    "    curr_remainder_pos_df = pos_df.loc[a_desc_crossing:, :]\n",
    "    # pos_df.loc[a_desc_crossing:, ['velocity_x_smooth']]\n",
    "    curr_next_transition_points = curr_remainder_pos_df[curr_remainder_pos_df['velocity_x_smooth'] > 0.0].index # the first increasing\n",
    "    curr_next_transition_point = curr_next_transition_points[0] # desc endings\n",
    "    desc_crossing_endings[a_desc_crossing_i] = curr_next_transition_point\n",
    "\n",
    "    # Preceeding points:\n",
    "    curr_preceeding_pos_df = pos_df.loc[0:a_desc_crossing, :]\n",
    "    curr_prev_transition_points = curr_preceeding_pos_df[curr_preceeding_pos_df['velocity_x_smooth'] > 0.0].index # the last increasing # TODO: this is not quite right.\n",
    "    curr_prev_transition_point = curr_prev_transition_points[-1] # Get last (nearest to curr_preceeding_pos_df's end) point. desc beginings\n",
    "    desc_crossing_beginings[a_desc_crossing_i] = curr_prev_transition_point\n",
    "    if debug_draw:\n",
    "        ax0.scatter(curr_points[curr_next_transition_point,0], curr_points[curr_next_transition_point,1], s=15, c='orange')\n",
    "        ax0.vlines(curr_points[curr_next_transition_point,0], 0, 1, transform=ax0.get_xaxis_transform(), colors='r')"
   ]
  },
  {
   "cell_type": "code",
   "execution_count": null,
   "id": "3cddb042-579a-4fe7-bb5d-6e1f55f023a8",
   "metadata": {},
   "outputs": [],
   "source": [
    "for a_asc_crossing_i in np.arange(len(asc_crossing_midpoints)):\n",
    "    an_asc_crossing = asc_crossing_midpoints[a_asc_crossing_i]\n",
    "    # print(f'a_desc_crossing: {a_desc_crossing}')\n",
    "    # pos_df.loc[a_desc_crossing:, :]\n",
    "    curr_remainder_pos_df = pos_df.loc[an_asc_crossing:, :]\n",
    "    # pos_df.loc[a_desc_crossing:, ['velocity_x_smooth']]\n",
    "    curr_next_transition_points = curr_remainder_pos_df[curr_remainder_pos_df['velocity_x_smooth'] < 0.0].index # the first decreasing\n",
    "    curr_next_transition_point = curr_next_transition_points[0] # asc endings\n",
    "    asc_crossing_endings[a_asc_crossing_i] = curr_next_transition_point\n",
    "    if debug_draw:\n",
    "        ax0.scatter(curr_points[curr_next_transition_point,0], curr_points[curr_next_transition_point,1], s=15, c='orange')\n",
    "        ax0.vlines(curr_points[curr_next_transition_point,0], 0, 1, transform=ax0.get_xaxis_transform(), colors='g')\n",
    "\n",
    "    # Preceeding points:\n",
    "    curr_preceeding_pos_df = pos_df.loc[0:an_asc_crossing, :]\n",
    "    curr_prev_transition_points = curr_preceeding_pos_df[curr_preceeding_pos_df['velocity_x_smooth'] < 0.0].index #\n",
    "    curr_prev_transition_point = curr_prev_transition_points[-1] # Get last (nearest to curr_preceeding_pos_df's end) point. desc beginings\n",
    "    asc_crossing_beginings[a_asc_crossing_i] = curr_prev_transition_point"
   ]
  },
  {
   "cell_type": "code",
   "execution_count": null,
   "id": "49375f96-3fc4-4165-8b31-802c8b193ab0",
   "metadata": {},
   "outputs": [],
   "source": [
    "## Outputs\n",
    "desc_crossing_beginings, desc_crossing_midpoints, desc_crossing_endings, asc_crossing_beginings, asc_crossing_midpoints, asc_crossing_endings"
   ]
  },
  {
   "cell_type": "code",
   "execution_count": null,
   "id": "556f657e-3b3e-4257-92c9-59d1cde7e56c",
   "metadata": {},
   "outputs": [],
   "source": []
  },
  {
   "cell_type": "code",
   "execution_count": null,
   "id": "1d9ee62a-91c9-4ac9-b1fc-92586c8d82ff",
   "metadata": {},
   "outputs": [],
   "source": [
    "curr_laps = sess.laps\n",
    "curr_laps.from_estimated_laps()"
   ]
  },
  {
   "cell_type": "code",
   "execution_count": null,
   "id": "273e02a3-057c-44cb-bc6f-44e7baadc567",
   "metadata": {},
   "outputs": [],
   "source": [
    "curr_laps_df = sess.laps.to_dataframe()\n",
    "curr_laps_df"
   ]
  },
  {
   "cell_type": "code",
   "execution_count": null,
   "id": "ab44ff03-dd61-4e18-b75f-2739bb562918",
   "metadata": {},
   "outputs": [],
   "source": []
  },
  {
   "cell_type": "code",
   "execution_count": null,
   "id": "2ec15352-ca62-4be7-952e-128f8b7dde45",
   "metadata": {},
   "outputs": [],
   "source": [
    "pos_df = sess.compute_position_laps() # ensures the laps are computed if they need to be:\n",
    "position_obj = sess.position\n",
    "position_obj.compute_higher_order_derivatives()\n",
    "pos_df = position_obj.compute_smoothed_position_info(N=20) ## Smooth the velocity curve to apply meaningful logic to it\n",
    "pos_df = position_obj.to_dataframe()\n",
    "pos_df"
   ]
  },
  {
   "cell_type": "markdown",
   "id": "3a7d35f7-e385-4a17-a91c-abc8b67e4dbb",
   "metadata": {
    "jp-MarkdownHeadingCollapsed": true,
    "tags": []
   },
   "source": [
    "## Missing 'start_position_index' and 'end_position_index' for laps:"
   ]
  },
  {
   "cell_type": "code",
   "execution_count": null,
   "id": "b3b9e07d-bdeb-4494-979b-3b0b3cec0f4c",
   "metadata": {},
   "outputs": [],
   "source": [
    "# fig, out_axes_list = plot_laps_2d(sess, legacy_plotting_mode=True)\n",
    "fig, out_axes_list = plot_laps_2d(sess, legacy_plotting_mode=False)\n",
    "out_axes_list[0].set_title('New Pho Position Thresholding Estimated Laps')\n",
    "\n",
    "curr_cell_idx = 2 \n",
    "# curr_cell_idx = 3 # good for end platform analysis\n",
    "curr_cell_ID = sess.spikes_df.spikes.neuron_ids[curr_cell_idx]\n",
    "print(f'curr_cell_idx: {curr_cell_idx}, curr_cell_ID: {curr_cell_ID}')\n",
    "\n",
    "# pre-filter by spikes that occur in one of the included laps for the filtered_spikes_df\n",
    "filtered_spikes_df = sess.spikes_df.copy()\n",
    "time_variable_name = filtered_spikes_df.spikes.time_variable_name # 't_rel_seconds'\n",
    "\n",
    "lap_ids = sess.laps.lap_id\n",
    "# lap_flat_idxs = sess.laps.get_lap_flat_indicies(lap_ids)\n",
    "\n",
    "out_indicies, out_digitized_position_bins, out_within_lap_spikes_overlap = compute_lap_to_lap_reliability(curr_active_pipeline.computation_results[curr_result_label].computed_data['pf2D'], filtered_spikes_df, lap_ids, curr_cell_idx, debug_print=False, plot_results=True);\n",
    "\n",
    "# compute_reliability_metrics(out_indicies, out_digitized_position_bins, out_within_lap_spikes_overlap, debug_print=False, plot_results=False)\n",
    "\n",
    "# # curr_kdiba_pipeline.computation_results['maze1'].computed_data['pf2D'].plotRaw_v_time(curr_cell_idx)\n",
    "# _test_plotRaw_v_time(curr_kdiba_pipeline.computation_results[curr_result_label].computed_data['pf2D'], curr_cell_idx)"
   ]
  },
  {
   "cell_type": "code",
   "execution_count": null,
   "id": "2db190a7-2b3d-4f63-be72-a5204a43dad7",
   "metadata": {},
   "outputs": [],
   "source": []
  },
  {
   "cell_type": "markdown",
   "id": "05348578-ac0c-4da1-a9c9-36794e5997c8",
   "metadata": {
    "jp-MarkdownHeadingCollapsed": true,
    "tags": []
   },
   "source": [
    "# `_display_short_long_pf1D_comparison` and `_display_short_long_pf1D_scalar_overlap_comparison`"
   ]
  },
  {
   "cell_type": "code",
   "execution_count": null,
   "id": "28739947-375a-4c68-95fa-ccc54eb9824a",
   "metadata": {},
   "outputs": [],
   "source": [
    "active_identifying_session_ctx = curr_active_pipeline.sess.get_context() # 'bapun_RatN_Day4_2019-10-15_11-30-06'\n",
    "\n",
    "long_single_cell_pfmap_processing_fn = None\n",
    "short_single_cell_pfmap_processing_fn = None\n",
    "\n",
    "# long_single_cell_pfmap_processing_fn = lambda i, aclu, pfmap: 0.5 * pfmap # flip over the y-axis\n",
    "# short_single_cell_pfmap_processing_fn = lambda i, aclu, pfmap: -0.5 * pfmap # flip over the y-axis\n",
    "\n",
    "# pad = 1\n",
    "# long_single_cell_pfmap_processing_fn = lambda i, aclu, pfmap: (0.5 * pfmap) + (0.5*pad) # shift the baseline up by half\n",
    "# short_single_cell_pfmap_processing_fn = lambda i, aclu, pfmap: (-0.5 * pfmap * pad) + (0.5*pad) # flip over the y-axis, shift the baseline down by half\n",
    "\n",
    "# pad = 1\n",
    "# long_single_cell_pfmap_processing_fn = lambda i, aclu, pfmap: (0.5 * pfmap * pad) + (0.5*pad) # shift the baseline up by half\n",
    "# short_single_cell_pfmap_processing_fn = lambda i, aclu, pfmap: (0.5 * pfmap * pad) + (0.5*pad) # flip over the y-axis, shift the baseline down by half\n",
    "# long_single_cell_pfmap_processing_fn = lambda i, aclu, pfmap: (0.5 * pfmap * pad) # shift the baseline up by half\n",
    "# short_single_cell_pfmap_processing_fn = lambda i, aclu, pfmap: (0.5 * pfmap * pad) # flip over the y-axis, shift the baseline down by half\n",
    "\n",
    "\n",
    "# long_single_cell_pfmap_processing_fn = lambda i, aclu, pfmap: (1.0 * pfmap * pad) # shift the baseline up by half\n",
    "# short_single_cell_pfmap_processing_fn = lambda i, aclu, pfmap: (-1.0 * pfmap * pad) + (1.0*pad) # this does not work and results in short being fully filled. I think this is because the fill_between gets reversed since everything is below baseline\n",
    "\n",
    "\n",
    "out = curr_active_pipeline.display('_display_short_long_pf1D_comparison', active_identifying_session_ctx, single_figure=True, debug_print=False, fignum='Short v Long pf1D Comparison',\n",
    "                                   long_kwargs={'sortby': sort_idx, 'single_cell_pfmap_processing_fn': long_single_cell_pfmap_processing_fn},\n",
    "                                   short_kwargs={'sortby': sort_idx, 'single_cell_pfmap_processing_fn': short_single_cell_pfmap_processing_fn, 'curve_hatch_style': {'hatch':'///', 'edgecolor':'k'}},\n",
    "                                  )\n",
    "ax = out.axes[0]"
   ]
  },
  {
   "cell_type": "code",
   "execution_count": null,
   "id": "e882c022-7426-4143-bade-93ee7802d1b1",
   "metadata": {},
   "outputs": [],
   "source": [
    "## Overlap Scalar Comparisons: plots a comparison of a specific type of scalar values for all cells\n",
    "from pyphoplacecellanalysis.General.Pipeline.Stages.DisplayFunctions.MultiContextComparingDisplayFunctions.MultiContextComparingDisplayFunctions import PlacefieldOverlapMetricMode\n",
    "\n",
    "active_identifying_session_ctx = curr_active_pipeline.sess.get_context() # 'bapun_RatN_Day4_2019-10-15_11-30-06'\n",
    "\n",
    "# overlap_metric_mode = PlacefieldOverlapMetricMode.POLY\n",
    "# overlap_metric_mode = PlacefieldOverlapMetricMode.PRODUCT\n",
    "# overlap_metric_mode = PlacefieldOverlapMetricMode.CONVOLUTION\n",
    "overlap_metric_mode = PlacefieldOverlapMetricMode.REL_ENTROPY\n",
    "\n",
    "out = curr_active_pipeline.display('_display_short_long_pf1D_scalar_overlap_comparison', active_identifying_session_ctx, overlap_metric_mode=overlap_metric_mode, variant_name='_area')"
   ]
  },
  {
   "cell_type": "code",
   "execution_count": null,
   "id": "2ff7d434-25c8-425e-8578-00ba8f333588",
   "metadata": {},
   "outputs": [],
   "source": [
    "from pyphoplacecellanalysis.Pho2D.PyQtPlots.TimeSynchronizedPlotters.TimeSynchronizedOccupancyPlotter import TimeSynchronizedOccupancyPlotter\n",
    "from pyphoplacecellanalysis.Pho2D.PyQtPlots.TimeSynchronizedPlotters.TimeSynchronizedPlacefieldsPlotter import TimeSynchronizedPlacefieldsPlotter\n",
    "\n",
    "curr_placefields_plotter = TimeSynchronizedPlacefieldsPlotter(active_pf_2D_dt)\n",
    "curr_placefields_plotter.show()"
   ]
  },
  {
   "cell_type": "markdown",
   "id": "100b3e55-3243-4346-aa00-9b6fd705e7ff",
   "metadata": {
    "tags": []
   },
   "source": [
    "## 2022-12-09 - Pho Surprise/KL-Divergence Metrics"
   ]
  },
  {
   "cell_type": "code",
   "execution_count": null,
   "id": "07d0fd4f-060a-4dbc-bf3b-d37ab376800f",
   "metadata": {},
   "outputs": [],
   "source": [
    "short_pf1D.ratemap.never_visited_occupancy_mask"
   ]
  },
  {
   "cell_type": "code",
   "execution_count": null,
   "id": "52f14a19-5e61-4b75-8f44-428a95cff0e7",
   "metadata": {},
   "outputs": [],
   "source": [
    "short_pf1D.nan_never_visited_occupancy"
   ]
  },
  {
   "cell_type": "code",
   "execution_count": null,
   "id": "f3a26839-a44d-4332-b673-c98f21a2f993",
   "metadata": {},
   "outputs": [],
   "source": [
    "short_pf1D.xbin"
   ]
  },
  {
   "cell_type": "code",
   "execution_count": null,
   "id": "e11fe6ac-c585-4816-817f-5034ca2cd21e",
   "metadata": {},
   "outputs": [],
   "source": [
    "long_pf1D.xbin"
   ]
  },
  {
   "cell_type": "code",
   "execution_count": null,
   "id": "3d8d7db4-85c4-4d21-b28a-26bbba7c53c8",
   "metadata": {},
   "outputs": [],
   "source": [
    "short_pf1D.bin_info # {'mode': 'bin_size', 'xstep': 3.793023081021702, 'xnum_bins': 41}"
   ]
  },
  {
   "cell_type": "code",
   "execution_count": null,
   "id": "19763c91-6e4a-404b-a483-42cd735b6aac",
   "metadata": {},
   "outputs": [],
   "source": [
    "short_pf1D.config"
   ]
  },
  {
   "cell_type": "code",
   "execution_count": null,
   "id": "100fc13d-05a7-412a-a993-72c60e10e40f",
   "metadata": {},
   "outputs": [],
   "source": [
    "long_pf1D.bin_info"
   ]
  },
  {
   "cell_type": "code",
   "execution_count": null,
   "id": "3ef9f6c1-71e4-4445-8805-75b70b28516f",
   "metadata": {},
   "outputs": [],
   "source": [
    "long_pf1D.config"
   ]
  },
  {
   "cell_type": "code",
   "execution_count": null,
   "id": "5bddad26-d6dc-4ec1-9310-43d2351b43ae",
   "metadata": {},
   "outputs": [],
   "source": []
  },
  {
   "cell_type": "code",
   "execution_count": null,
   "id": "bf0d5ffb-7ba4-4653-afa0-e37a7226e603",
   "metadata": {},
   "outputs": [],
   "source": []
  },
  {
   "cell_type": "code",
   "execution_count": null,
   "id": "c92754a2-8390-4d47-bd04-bc6bcdc61aea",
   "metadata": {},
   "outputs": [],
   "source": [
    "short_pf1D.bin_info"
   ]
  },
  {
   "cell_type": "code",
   "execution_count": null,
   "id": "b00c7059-4ca0-4ea4-8ec9-c4347194e139",
   "metadata": {},
   "outputs": [],
   "source": [
    "short_pf1D.xbin.shape"
   ]
  },
  {
   "cell_type": "code",
   "execution_count": null,
   "id": "ddd7a575-1f5a-408d-89ac-aa33f32a0058",
   "metadata": {},
   "outputs": [],
   "source": [
    "short_pf1D.config"
   ]
  },
  {
   "cell_type": "code",
   "execution_count": null,
   "id": "53f8481c-f4cc-4682-8348-6cff71e8ae2b",
   "metadata": {},
   "outputs": [],
   "source": [
    "long_incl_curves"
   ]
  },
  {
   "cell_type": "code",
   "execution_count": null,
   "id": "da99033c-8875-4e4c-b7c1-748cf27ec27a",
   "metadata": {},
   "outputs": [],
   "source": [
    "short_incl_curves"
   ]
  },
  {
   "cell_type": "code",
   "execution_count": null,
   "id": "c14714b0-1254-461f-8bcd-ffba4526876f",
   "metadata": {},
   "outputs": [],
   "source": []
  },
  {
   "cell_type": "code",
   "execution_count": null,
   "id": "87836f58-68a1-40eb-9b00-663605df8913",
   "metadata": {},
   "outputs": [],
   "source": []
  },
  {
   "cell_type": "code",
   "execution_count": null,
   "id": "c3662f09-f5df-4a2f-ae1e-92567823c5d7",
   "metadata": {},
   "outputs": [],
   "source": [
    "# %matplotlib qt\n",
    "\n",
    "# ==================================================================================================================== #\n",
    "# Output Figures to File                                                                                               #\n",
    "# ==================================================================================================================== #\n",
    "## PDF Output\n",
    "# %matplotlib qtagg\n",
    "import matplotlib\n",
    "# configure backend here\n",
    "# matplotlib.use('Qt5Agg')\n",
    "# backend_qt5agg\n",
    "matplotlib.use('AGG') # non-interactive backend ## 2022-08-16 - Surprisingly this works to make the matplotlib figures render only to .png file, not appear on the screen!\n",
    "\n",
    "n_max_page_rows = 10\n",
    "_batch_plot_kwargs_list = _build_batch_plot_kwargs(long_only_aclus, short_only_aclus, shared_aclus, active_identifying_session_ctx, n_max_page_rows=n_max_page_rows)\n",
    "active_out_figures_list = _perform_batch_plot(curr_active_pipeline, _batch_plot_kwargs_list, figures_parent_out_path=None, write_pdf=False, write_png=True, progress_print=True, debug_print=False)"
   ]
  },
  {
   "cell_type": "markdown",
   "id": "53cd05b7-ade9-420e-8b14-3e71474431f5",
   "metadata": {
    "pycharm": {
     "name": "#%%\n"
    },
    "tags": []
   },
   "source": [
    "## ❌🆖 BROKEN Individual Plotting Outputs:"
   ]
  },
  {
   "cell_type": "markdown",
   "id": "9655181f-dc58-470a-b496-0fc9cd3c0883",
   "metadata": {
    "tags": []
   },
   "source": [
    "### Common Config"
   ]
  },
  {
   "cell_type": "code",
   "execution_count": null,
   "id": "ad892ba6-4657-4370-957c-d2926c32826c",
   "metadata": {
    "tags": []
   },
   "outputs": [],
   "source": [
    "## MATPLOTLIB Imports:\n",
    "import matplotlib\n",
    "# configure backend here\n",
    "matplotlib.use('Qt5Agg')\n",
    "# backend_qt5agg\n",
    "# matplotlib.use('AGG') # non-interactive backend\n",
    "## 2022-08-16 - Surprisingly this works to make the matplotlib figures render only to .png file, not appear on the screen!\n",
    "import matplotlib.pyplot as plt\n",
    "import matplotlib as mpl\n",
    "from matplotlib.backends import backend_pdf\n",
    "\n",
    "from neuropy.utils.matplotlib_helpers import enumTuningMap2DPlotVariables # for getting the variant name from the dict\n",
    "_bak_rcParams = mpl.rcParams.copy()\n",
    "mpl.rcParams['toolbar'] = 'None' # disable toolbars\n",
    "\n",
    "from pyphoplacecellanalysis.General.Mixins.ExportHelpers import create_daily_programmatic_display_function_testing_folder_if_needed, build_pdf_metadata_from_display_context, programmatic_display_to_PDF\n",
    "\n",
    "# from pyphocorehelpers.plotting.figure_management import PhoActiveFigureManager2D, capture_new_figures_decorator\n",
    "# fig_man = PhoActiveFigureManager2D(name=f'fig_man') # Initialize a new figure manager\n",
    "\n",
    "active_identifying_session_ctx = curr_active_pipeline.sess.get_context() # 'bapun_RatN_Day4_2019-10-15_11-30-06'"
   ]
  },
  {
   "cell_type": "code",
   "execution_count": null,
   "id": "ff0e2d2e-b547-4fc9-a610-9cb834776a16",
   "metadata": {
    "tags": []
   },
   "outputs": [],
   "source": [
    "def process_session_plots(curr_active_pipeline, active_config_name, debug_print=False):\n",
    "    \"\"\" Unwrap single config \n",
    "    UNUSED AND UNTESTED\n",
    "    \"\"\"\n",
    "    print(f'active_config_name: {active_config_name}')\n",
    "\n",
    "    ## Add the filter to the active context\n",
    "    # active_identifying_filtered_session_ctx = active_identifying_session_ctx.adding_context('filter', filter_name=active_config_name) # 'bapun_RatN_Day4_2019-10-15_11-30-06_maze'\n",
    "    active_identifying_filtered_session_ctx = curr_active_pipeline.filtered_contexts[active_config_name] # 'bapun_RatN_Day4_2019-10-15_11-30-06_maze'\n",
    "\n",
    "    # Get relevant variables:\n",
    "    # curr_active_pipeline is set above, and usable here\n",
    "    sess: DataSession = curr_active_pipeline.filtered_sessions[active_config_name]\n",
    "\n",
    "    active_computation_results = curr_active_pipeline.computation_results[active_config_name]\n",
    "    active_computed_data = curr_active_pipeline.computation_results[active_config_name].computed_data\n",
    "    active_computation_config = curr_active_pipeline.computation_results[active_config_name].computation_config\n",
    "    active_computation_errors = curr_active_pipeline.computation_results[active_config_name].accumulated_errors\n",
    "    print(f'active_computed_data.keys(): {list(active_computed_data.keys())}')\n",
    "    print(f'active_computation_errors: {active_computation_errors}')\n",
    "    active_pf_1D = curr_active_pipeline.computation_results[active_config_name].computed_data['pf1D']\n",
    "    active_pf_2D = curr_active_pipeline.computation_results[active_config_name].computed_data['pf2D']\n",
    "    active_pf_1D_dt = curr_active_pipeline.computation_results[active_config_name].computed_data.get('pf1D_dt', None)\n",
    "    active_pf_2D_dt = curr_active_pipeline.computation_results[active_config_name].computed_data.get('pf2D_dt', None)\n",
    "    active_firing_rate_trends = curr_active_pipeline.computation_results[active_config_name].computed_data.get('firing_rate_trends', None)\n",
    "    active_one_step_decoder = curr_active_pipeline.computation_results[active_config_name].computed_data.get('pf2D_Decoder', None)\n",
    "    active_two_step_decoder = curr_active_pipeline.computation_results[active_config_name].computed_data.get('pf2D_TwoStepDecoder', None)\n",
    "    active_extended_stats = curr_active_pipeline.computation_results[active_config_name].computed_data.get('extended_stats', None)\n",
    "    active_eloy_analysis = curr_active_pipeline.computation_results[active_config_name].computed_data.get('EloyAnalysis', None)\n",
    "    active_simpler_pf_densities_analysis = curr_active_pipeline.computation_results[active_config_name].computed_data.get('SimplerNeuronMeetingThresholdFiringAnalysis', None)\n",
    "    active_ratemap_peaks_analysis = curr_active_pipeline.computation_results[active_config_name].computed_data.get('RatemapPeaksAnalysis', None)\n",
    "    active_peak_prominence_2d_results = curr_active_pipeline.computation_results[active_config_name].computed_data.get('RatemapPeaksAnalysis', {}).get('PeakProminence2D', None)\n",
    "    active_measured_positions = curr_active_pipeline.computation_results[active_config_name].sess.position.to_dataframe()\n",
    "    curr_spikes_df = sess.spikes_df\n",
    "\n",
    "    curr_active_config = curr_active_pipeline.active_configs[active_config_name]\n",
    "    curr_active_display_config = curr_active_config.plotting_config\n",
    "\n",
    "    active_display_output = curr_active_pipeline.display_output[active_identifying_filtered_session_ctx]\n",
    "    print(f'active_display_output: {active_display_output}')\n",
    "\n",
    "    # Create `master_dock_win` - centralized plot output window to collect individual figures/controls in (2022-08-18)\n",
    "    display_output = active_display_output | curr_active_pipeline.display('_display_context_nested_docks', active_identifying_session_ctx, enable_gui=False, debug_print=True) # returns {'master_dock_win': master_dock_win, 'app': app, 'out_items': out_items}\n",
    "    master_dock_win = display_output['master_dock_win']\n",
    "    app = display_output['app']\n",
    "    out_items = display_output['out_items']\n",
    "\n",
    "    def _get_curr_figure_format_config():\n",
    "        \"\"\" Aims to fetch the current figure_format_config and context from the figure_format_config widget:    \n",
    "        Implicitly captures: `out_items`, `active_config_name`, `active_identifying_filtered_session_ctx` \n",
    "        \"\"\"\n",
    "        ## Get the figure_format_config from the figure_format_config widget:\n",
    "        # Fetch the context from the GUI:\n",
    "        _curr_gui_session_ctx, _curr_gui_out_display_items = out_items[active_config_name]\n",
    "        _curr_gui_figure_format_config_widget = _curr_gui_out_display_items[active_identifying_filtered_session_ctx.adding_context('display_fn', display_fn_name='figure_format_config_widget')] # [0] is seemingly not needed to unpack the tuple\n",
    "        if _curr_gui_figure_format_config_widget is not None:\n",
    "            # has GUI for config\n",
    "            figure_format_config = _curr_gui_figure_format_config_widget.figure_format_config\n",
    "        else:\n",
    "            # has non-GUI provider of figure_format_config\n",
    "            figure_format_config = _curr_gui_figure_format_config_widget.figure_format_config\n",
    "\n",
    "        if debug_print:\n",
    "            print(f'recovered gui figure_format_config: {figure_format_config}')\n",
    "\n",
    "        return figure_format_config\n",
    "\n",
    "    figure_format_config = _get_curr_figure_format_config()\n",
    "\n",
    "    ## PDF Output, NOTE this is single plot stuff: uses active_config_name\n",
    "    from matplotlib.backends import backend_pdf\n",
    "    from pyphoplacecellanalysis.General.Mixins.ExportHelpers import build_pdf_export_metadata\n",
    "\n",
    "    filter_name = active_config_name\n",
    "    _build_pdf_pages_output_info, programmatic_display_function_testing_output_parent_path = build_pdf_export_metadata(curr_active_pipeline.sess.get_description(), filter_name=filter_name)\n",
    "    print(f'Figure Output path: {str(programmatic_display_function_testing_output_parent_path)}')\n",
    "    \n",
    "    \n",
    "    ## Test getting figure save paths:\n",
    "    _test_fig_path = curr_active_config.plotting_config.get_figure_save_path('test')\n",
    "    print(f'_test_fig_path: {_test_fig_path}\\n\\t exists? {_test_fig_path.exists()}')\n",
    "\n",
    "    return active_identifying_filtered_session_ctx, programmatic_display_function_testing_output_parent_path\n",
    "    \n",
    "\n",
    "# active_config_name = 'maze1'\n",
    "# active_config_name = 'maze2'\n",
    "# active_config_name = 'maze'\n",
    "# active_config_name = 'sprinkle'\n",
    "\n",
    "# active_config_name = 'maze_PYR'\n",
    "\n",
    "# active_config_name = 'maze1_rippleOnly'\n",
    "# active_config_name = 'maze2_rippleOnly'\n",
    "\n",
    "# active_config_name = curr_active_pipeline.active_config_names[0] # get the first name by default\n",
    "active_config_name = curr_active_pipeline.active_config_names[-1] # get the last name\n",
    "\n",
    "active_identifying_filtered_session_ctx, programmatic_display_function_testing_output_parent_path = process_session_plots(curr_active_pipeline, active_config_name)"
   ]
  },
  {
   "cell_type": "markdown",
   "id": "44dd1ae1-a5cd-4a03-bc11-dbb77dc161b8",
   "metadata": {
    "tags": []
   },
   "source": [
    "### Single (Session, Filter) Context Plotting:"
   ]
  },
  {
   "cell_type": "markdown",
   "id": "774fe569-bbb0-4112-816d-bdbcba78dab5",
   "metadata": {
    "tags": []
   },
   "source": [
    "#### Utility:"
   ]
  },
  {
   "cell_type": "code",
   "execution_count": null,
   "id": "cc39ef8c-731a-47e5-9471-8f64d9e5511d",
   "metadata": {
    "scrolled": true
   },
   "outputs": [],
   "source": [
    "# Reload display functions:\n",
    "curr_active_pipeline.reload_default_display_functions()\n",
    "curr_active_pipeline.registered_display_function_names # ['_display_1d_placefield_validations', '_display_2d_placefield_result_plot_ratemaps_2D', '_display_2d_placefield_result_plot_raw', '_display_normal', '_display_placemaps_pyqtplot_2D', '_display_decoder_result', '_display_plot_most_likely_position_comparisons', '_display_two_step_decoder_prediction_error_2D', '_display_two_step_decoder_prediction_error_animated_2D', '_display_spike_rasters_pyqtplot_2D', '_display_spike_rasters_pyqtplot_3D', '_display_spike_rasters_pyqtplot_3D_with_2D_controls', '_display_spike_rasters_vedo_3D', '_display_spike_rasters_vedo_3D_with_2D_controls', '_display_spike_rasters_window', '_display_speed_vs_PFoverlapDensity_plots', '_display_3d_image_plotter', '_display_3d_interactive_custom_data_explorer', '_display_3d_interactive_spike_and_behavior_browser', '_display_3d_interactive_tuning_curves_plotter']\n",
    "print(curr_active_pipeline.registered_display_function_names)"
   ]
  },
  {
   "cell_type": "code",
   "execution_count": null,
   "id": "6f563259-19f3-4d85-bb53-ae88e389cde9",
   "metadata": {},
   "outputs": [],
   "source": [
    "%matplotlib --list \n",
    "# Available matplotlib backends: ['tk', 'gtk', 'gtk3', 'gtk4', 'wx', 'qt4', 'qt5', 'qt6', 'qt', 'osx', 'nbagg', 'notebook', 'agg', 'svg', 'pdf', 'ps', 'inline', 'ipympl', 'widget']"
   ]
  },
  {
   "cell_type": "code",
   "execution_count": null,
   "id": "e3ed2748-0817-42dc-93b8-6648d3c16caf",
   "metadata": {},
   "outputs": [],
   "source": [
    "%matplotlib qt\n",
    "## NOTE THAT ONCE THIS IS SET TO qt, it cannot be undone!"
   ]
  },
  {
   "cell_type": "markdown",
   "id": "4a062f0e-dfdf-4f95-a412-7cb8bbafb7c0",
   "metadata": {
    "tags": []
   },
   "source": [
    "### Systematic Display Function Testing"
   ]
  },
  {
   "cell_type": "markdown",
   "id": "7811d710-3ada-437f-827d-0eeacbcbe16b",
   "metadata": {
    "tags": []
   },
   "source": [
    "#### Matplotlib-based plots:"
   ]
  },
  {
   "cell_type": "code",
   "execution_count": null,
   "id": "de4d9f10-e1ca-485d-af0f-4cd9a40562ae",
   "metadata": {
    "pycharm": {
     "name": "#%%\n"
    }
   },
   "outputs": [],
   "source": [
    "import matplotlib\n",
    "# matplotlib.use('AGG') # non-interactive backend\n",
    "# %matplotlib -l\n",
    "\n",
    "matplotlib.use('Qt5Agg') # non-interactive backend\n",
    "## 2022-08-16 - Surprisingly this works to make the matplotlib figures render only to .png file, not appear on the screen!\n",
    "\n",
    "curr_active_pipeline.filtered_session_names # ['maze', 'sprinkle']\n",
    "active_config_name = 'maze'\n",
    "\n",
    "active_display_to_pdf_fn = programmatic_display_to_PDF"
   ]
  },
  {
   "cell_type": "code",
   "execution_count": null,
   "id": "0217fa1d-86bd-4a3f-9413-3ae52901aef9",
   "metadata": {
    "scrolled": true
   },
   "outputs": [],
   "source": [
    "%%capture\n",
    "active_display_to_pdf_fn(curr_active_pipeline, curr_display_function_name='_display_1d_placefield_validations') # 🟢✅ Now seems to be working and saving to PDF!! Still using matplotlib.use('Qt5Agg') mode and plots still appear. Moderate visual improvements can still be made (titles overlap and stuff). Works with %%capture\n",
    "\n",
    "# active_display_to_pdf_fn(curr_active_pipeline, curr_display_function_name='_display_1d_placefield_validations', filter_name=active_config_name) # 🟢✅ Now seems to be working and saving to PDF!! Still using matplotlib.use('Qt5Agg') mode and plots still appear. Moderate visual improvements can still be made (titles overlap and stuff). Works with %%capture"
   ]
  },
  {
   "cell_type": "code",
   "execution_count": null,
   "id": "b0d9db48-c37b-4e67-8486-ddc1b0c7fba0",
   "metadata": {
    "scrolled": true
   },
   "outputs": [],
   "source": [
    "# %%capture\n",
    "active_display_to_pdf_fn(curr_active_pipeline, curr_display_function_name='_display_2d_placefield_result_plot_raw', debug_print=False) # 🔇🆖❌ IndexError: index 80 is out of bounds for GridSpec with size 80"
   ]
  },
  {
   "cell_type": "code",
   "execution_count": null,
   "id": "24c52598-3352-4b11-bb72-9dea8e55e527",
   "metadata": {
    "scrolled": true
   },
   "outputs": [],
   "source": [
    "# %%capture\n",
    "active_display_to_pdf_fn(curr_active_pipeline, curr_display_function_name='_display_1d_placefields', debug_print=False) # 🟢✅ Now seems to be working and saving to PDF!! Still using matplotlib.use('Qt5Agg') mode and plots still appear."
   ]
  },
  {
   "cell_type": "code",
   "execution_count": null,
   "id": "282bf408-5a13-47a3-a3c9-5c3d55454b4a",
   "metadata": {
    "tags": []
   },
   "outputs": [],
   "source": [
    "active_display_to_pdf_fn(curr_active_pipeline, curr_display_function_name='_display_1d_placefields', debug_print=True)"
   ]
  },
  {
   "cell_type": "code",
   "execution_count": null,
   "id": "bca4c701-a343-44c4-a2d7-68d6b975b6a6",
   "metadata": {
    "tags": []
   },
   "outputs": [],
   "source": [
    "active_display_to_pdf_fn(curr_active_pipeline, curr_display_function_name='_display_normal', debug_print=True) # 🐞❌ TypeError: unhashable type: 'list'"
   ]
  },
  {
   "cell_type": "code",
   "execution_count": null,
   "id": "e7038ae4-17ce-491c-a1d3-e934537ed550",
   "metadata": {
    "tags": []
   },
   "outputs": [],
   "source": [
    "# %%capture\n",
    "active_display_to_pdf_fn(curr_active_pipeline, curr_display_function_name='_display_2d_placefield_result_plot_ratemaps_2D') #  🟢✅ Now seems to be working and saving to PDF!! Still using matplotlib.use('Qt5Agg') mode and plots still appear."
   ]
  },
  {
   "cell_type": "code",
   "execution_count": null,
   "id": "c2f8696f-45c6-4870-93f6-713246d455fe",
   "metadata": {
    "scrolled": true
   },
   "outputs": [],
   "source": [
    "%%capture\n",
    "active_display_to_pdf_fn(curr_active_pipeline, curr_display_function_name='_display_normal', filter_name=active_config_name) # 🐞❌ TypeError: unhashable type: 'list'"
   ]
  },
  {
   "cell_type": "markdown",
   "id": "1b16c86e-5dc1-4918-a115-7ae99eae1084",
   "metadata": {
    "tags": []
   },
   "source": [
    "### 🐞👁️‍🗨️🔜 TODO: FINISH THIS UP AND FIGURE OUT WHATEVER THE HELL I'M DOING HERE"
   ]
  },
  {
   "cell_type": "code",
   "execution_count": null,
   "id": "0b62efd2-f8f3-4dc7-baa9-67fcbdf3f983",
   "metadata": {
    "scrolled": true
   },
   "outputs": [],
   "source": [
    "curr_display_function_name = '_display_2d_placefield_result_plot_ratemaps_2D'\n",
    "built_pdf_metadata, curr_pdf_save_path = _build_pdf_pages_output_info(curr_display_function_name)\n",
    "out_fig_list = []\n",
    "active_identifying_display_ctx = active_identifying_filtered_session_ctx.adding_context('display_fn', display_fn_name=curr_display_function_name)\n",
    "figure_format_config = _get_curr_figure_format_config() # Fetch the context from the GUI\n",
    "figure_format_config['enable_saving_to_disk'] = False # don't use the in-built figure export/saving to disk functionality as we want to wrap the output figure with the Pdf saving, not write to a .png\n",
    "with backend_pdf.PdfPages(curr_pdf_save_path, keep_empty=False, metadata=built_pdf_metadata) as pdf:\n",
    "    ## TypeError: neuropy.utils.debug_helpers.safely_accepts_kwargs.<locals>._safe_kwargs_fn() got multiple values for keyword argument 'computation_config'\n",
    "    for filter_name in curr_active_pipeline.filtered_session_names:\n",
    "        print(f'filter_name: {filter_name}')\n",
    "        active_identifying_ctx = active_identifying_display_ctx.adding_context('plot_variable', variable_name=enumTuningMap2DPlotVariables.SPIKES_MAPS)\n",
    "        active_identifying_ctx_string = active_identifying_ctx.get_description(separator='|') # Get final discription string\n",
    "        out_fig_list.extend(curr_active_pipeline.display(curr_display_function_name, filter_name, plot_variable=enumTuningMap2DPlotVariables.SPIKES_MAPS, fignum=active_identifying_ctx_string, **figure_format_config)) # works!\n",
    "        active_identifying_ctx = active_identifying_display_ctx.adding_context('plot_variable', variable_name=enumTuningMap2DPlotVariables.TUNING_MAPS)\n",
    "        active_identifying_ctx_string = active_identifying_ctx.get_description(separator='|') # Get final discription string\n",
    "        out_fig_list.extend(curr_active_pipeline.display(curr_display_function_name, filter_name, plot_variable=enumTuningMap2DPlotVariables.TUNING_MAPS, fignum=active_identifying_ctx_string, **figure_format_config))\n",
    "        for a_fig in out_fig_list:\n",
    "            pdf.savefig(a_fig, transparent=True)\n",
    "            \n",
    "# 🐞🔇🆖❌ NameError: name '_build_pdf_pages_output_info' is not defined"
   ]
  },
  {
   "cell_type": "code",
   "execution_count": null,
   "id": "ee9fad5b-4871-46a6-b4a4-b50480bca489",
   "metadata": {
    "scrolled": true
   },
   "outputs": [],
   "source": [
    "%%capture\n",
    "curr_display_function_name = '_display_decoder_result'\n",
    "built_pdf_metadata, curr_pdf_save_path = _build_pdf_pages_output_info(curr_display_function_name)\n",
    "with backend_pdf.PdfPages(curr_pdf_save_path, keep_empty=False, metadata=built_pdf_metadata) as pdf:\n",
    "    plots = curr_active_pipeline.display(curr_display_function_name, filter_name)\n",
    "    print(plots)\n",
    "    # pdf.savefig(a_fig)\n",
    "    \n",
    "    \n",
    "# 🐞🔇🆖❌ NameError: name '_build_pdf_pages_output_info' is not defined"
   ]
  },
  {
   "cell_type": "markdown",
   "id": "c229b27a-32fb-4032-b0a1-f40034bf6bb5",
   "metadata": {
    "tags": []
   },
   "source": [
    "#### PyQtGraph-based plots:"
   ]
  },
  {
   "cell_type": "markdown",
   "id": "d11a9839-3fd4-4fd8-988c-61144c84051a",
   "metadata": {
    "tags": []
   },
   "source": [
    "#### PyQtGraph-based Pf2D Viewers:"
   ]
  },
  {
   "cell_type": "code",
   "execution_count": null,
   "id": "68fa3058-24c9-49e1-af41-cad50df2d829",
   "metadata": {},
   "outputs": [],
   "source": [
    "# 🟢✅ Nearly Completely Working - Needs subplot labels changed to match standardized matplotlib version, needs color scheme set consistently to matplotlib version, needs colorbars removed\n",
    "from pyphoplacecellanalysis.GUI.PyQtPlot.BinnedImageRenderingWindow import BasicBinnedImageRenderingWindow, add_bin_ticks, build_binned_imageItem\n",
    "from neuropy.utils.matplotlib_helpers import _build_variable_max_value_label, enumTuningMap2DPlotMode, enumTuningMap2DPlotVariables, _determine_best_placefield_2D_layout, _scale_current_placefield_to_acceptable_range\n",
    "from pyphoplacecellanalysis.Pho2D.PyQtPlots.plot_placefields import display_all_pf_2D_pyqtgraph_binned_image_rendering\n",
    "\n",
    "# NOTE FILTER SPECIFIC: active_config_name and active_pf_2D depend on active_config_name\n",
    "\n",
    "## Get the figure_format_config from the figure_format_config widget:\n",
    "active_identifying_display_ctx = active_identifying_filtered_session_ctx.adding_context('display_fn', display_fn_name='display_all_pf_2D_pyqtgraph_binned_image_rendering')\n",
    "figure_format_config = _get_curr_figure_format_config() # Fetch the context from the GUI\n",
    "out_all_pf_2D_pyqtgraph_binned_image_fig = display_all_pf_2D_pyqtgraph_binned_image_rendering(active_pf_2D, figure_format_config)"
   ]
  },
  {
   "cell_type": "code",
   "execution_count": null,
   "id": "6cd7686d-b854-44bf-a6e3-fb7c338380b6",
   "metadata": {},
   "outputs": [],
   "source": [
    "out_all_pf_2D_pyqtgraph_binned_image_fig.setWindowTitle(f'{active_identifying_display_ctx.get_description()}')"
   ]
  },
  {
   "cell_type": "code",
   "execution_count": null,
   "id": "158ffab7-de5e-43af-8162-bff293df838b",
   "metadata": {},
   "outputs": [],
   "source": [
    "images = active_one_step_decoder.ratemap.normalized_tuning_curves\n",
    "images.shape # (66, 41, 63)"
   ]
  },
  {
   "cell_type": "code",
   "execution_count": null,
   "id": "1048f102-f9d2-4c2e-96d7-4d8eb820a7fe",
   "metadata": {},
   "outputs": [],
   "source": [
    "# 🟢🚧🟨 Almost Working - Needs subplot labels changed from Cell[i] to the appropriate standardized titles. Needs other minor refinements.\n",
    "# 🚧 pyqtplot_plot_image_array needs major improvements to achieve feature pairity with display_all_pf_2D_pyqtgraph_binned_image_rendering, so probably just use display_all_pf_2D_pyqtgraph_binned_image_rendering.  \n",
    "from pyphoplacecellanalysis.Pho2D.PyQtPlots.plot_placefields import pyqtplot_plot_image_array\n",
    "\n",
    "# Get the decoders from the computation result:       \n",
    "# Get flat list of images:\n",
    "images = active_one_step_decoder.ratemap.normalized_tuning_curves # (43, 63, 63)\n",
    "occupancy = active_one_step_decoder.ratemap.occupancy\n",
    "\n",
    "active_identifying_display_ctx = active_identifying_filtered_session_ctx.adding_context('display_fn', display_fn_name='pyqtplot_plot_image_array')\n",
    "figure_format_config = _get_curr_figure_format_config() # Fetch the context from the GUI\n",
    "## Get final discription string:\n",
    "active_identifying_ctx_string = active_identifying_display_ctx.get_description(separator='|')\n",
    "print(f'active_identifying_ctx_string: {active_identifying_ctx_string}')\n",
    "\n",
    "## Build the widget:\n",
    "app, parent_root_widget, root_render_widget, plot_array, img_item_array, other_components_array = pyqtplot_plot_image_array(active_one_step_decoder.xbin, active_one_step_decoder.ybin, images, occupancy, \n",
    "                                                                        app=None, parent_root_widget=None, root_render_widget=None, max_num_columns=8)\n",
    "parent_root_widget.show()\n",
    "if master_dock_win is not None:\n",
    "    # if there's an open master_dock_win, add this widget as a child dock\n",
    "    master_dock_win.add_display_dock(identifier=active_identifying_ctx_string, widget=parent_root_widget, dockIsClosable=True)"
   ]
  },
  {
   "cell_type": "markdown",
   "id": "9c4fc1d3-0100-4bf1-8a9e-1ea7203d2b9c",
   "metadata": {
    "tags": []
   },
   "source": [
    "#### Decoder Plots:"
   ]
  },
  {
   "cell_type": "code",
   "execution_count": null,
   "id": "23a1e343-5737-4435-be8b-369483624fa4",
   "metadata": {
    "pycharm": {
     "name": "#%%\n"
    }
   },
   "outputs": [],
   "source": [
    "# Must switch back to the interactive backend here for the interactive/animated decoder plots:\n",
    "matplotlib.use('Qt5Agg')\n",
    "# backend_qt5agg\n",
    "import matplotlib.pyplot as plt\n",
    "# plt.switch_backend('Qt5Agg')"
   ]
  },
  {
   "cell_type": "code",
   "execution_count": null,
   "id": "8180d131-f7a6-44f4-b63d-b1d3ef9bb409",
   "metadata": {
    "pycharm": {
     "name": "#%%\n"
    }
   },
   "outputs": [],
   "source": [
    "curr_active_pipeline.display('_display_two_step_decoder_prediction_error_animated_2D', active_config_name, variable_name='p_x_given_n')"
   ]
  },
  {
   "cell_type": "code",
   "execution_count": null,
   "id": "840af86d-030a-4ba5-973d-316e94c16a61",
   "metadata": {
    "pycharm": {
     "name": "#%%\n"
    }
   },
   "outputs": [],
   "source": [
    "# ## MATPLOTLIB Imports:\n",
    "# import matplotlib\n",
    "# # configure backend here\n",
    "# matplotlib.use('Qt5Agg')\n",
    "# import matplotlib.pyplot as plt\n",
    "# import matplotlib as mpl\n",
    "## This plot looks phenominal, and the slider works!\n",
    "curr_active_pipeline.display('_display_two_step_decoder_prediction_error_2D', active_config_name, variable_name='p_x_given_n') # NOW: TypeError: _temp_debug_two_step_plots_animated_imshow() missing 1 required positional argument: 'time_binned_position_df'"
   ]
  },
  {
   "cell_type": "code",
   "execution_count": null,
   "id": "cd163714-1838-4c8d-9796-dc3823b11f0f",
   "metadata": {
    "pycharm": {
     "name": "#%%\n"
    }
   },
   "outputs": [],
   "source": [
    "curr_active_pipeline.display('_display_two_step_decoder_prediction_error_2D', active_config_name, variable_name='p_x_given_n_and_x_prev')  # this one doesn't work!"
   ]
  },
  {
   "cell_type": "code",
   "execution_count": null,
   "id": "78308cc1-7dea-49aa-814a-d2784de14981",
   "metadata": {},
   "outputs": [],
   "source": [
    "# Get the decoders from the computation result:\n",
    "# active_one_step_decoder = computation_result.computed_data['pf2D_Decoder']\n",
    "# active_two_step_decoder = computation_result.computed_data.get('pf2D_TwoStepDecoder', None)\n",
    "# active_measured_positions = computation_result.sess.position.to_dataframe()\n",
    "\n",
    "active_one_step_decoder # BayesianPlacemapPositionDecoder\n",
    "active_two_step_decoder\n",
    "\n",
    "## SAVE OUT THE RESULTS of the decoder:"
   ]
  },
  {
   "cell_type": "code",
   "execution_count": null,
   "id": "7ea8058a-d9a2-4a75-9de8-a6a3af0e690a",
   "metadata": {},
   "outputs": [],
   "source": []
  },
  {
   "cell_type": "code",
   "execution_count": null,
   "id": "fd4cd691-4c3f-48d2-b5d3-150231fdba4e",
   "metadata": {},
   "outputs": [],
   "source": [
    "## PDF Output, NOTE this is single plot stuff: uses active_config_name\n",
    "from matplotlib.backends import backend_pdf\n",
    "from pyphoplacecellanalysis.General.Mixins.ExportHelpers import create_daily_programmatic_display_function_testing_folder_if_needed, build_pdf_metadata_from_display_context, programmatic_display_to_PDF"
   ]
  },
  {
   "cell_type": "code",
   "execution_count": null,
   "id": "0f2967bd-dcf4-495c-8341-ae00e2230590",
   "metadata": {},
   "outputs": [],
   "source": [
    "## 2022-10-04 Modern Programmatic PDF outputs:\n",
    "# programmatic_display_to_PDF(curr_active_pipeline, curr_display_function_name='_display_plot_decoded_epoch_slices',  debug_print=False)\n",
    "programmatic_display_to_PDF(curr_active_pipeline, curr_display_function_name='_display_plot_decoded_epoch_slices', filter_epochs='ripple', decoding_time_bin_size=0.02, debug_test_max_num_slices=128, debug_print=True)"
   ]
  },
  {
   "cell_type": "code",
   "execution_count": null,
   "id": "fcf583b3-0a6b-44be-90ac-ed8803bdd100",
   "metadata": {},
   "outputs": [],
   "source": [
    "programmatic_display_to_PDF(curr_active_pipeline, curr_display_function_name='_display_plot_decoded_epoch_slices', filter_epochs='laps', debug_test_max_num_slices=128, debug_print=False)"
   ]
  },
  {
   "cell_type": "markdown",
   "id": "7aef1b4c-44bf-44ed-b0c3-9ecaa20ddb6a",
   "metadata": {
    "jp-MarkdownHeadingCollapsed": true,
    "pycharm": {
     "name": "#%%\n"
    },
    "tags": []
   },
   "source": [
    "### 🔜 2022-08-10 👁️‍🗨️ NOW: Plot animal positions on the computed posteriors:\n",
    "The process of plotting the animal position on the decoder plot needs to be refined. Currently it works by re-implementing \n",
    "\n",
    "🔜 NEXT STEP: TODO: Make a \"Datasource\" like approach perhaps to provide the actual animal position at each point in time?\n",
    "🐞🔜 BUG TODO: Noticed that for Bapun Day5 data, it looks like the current position point is being plotted incorrectly (it doesn't even move across the space much)"
   ]
  },
  {
   "cell_type": "code",
   "execution_count": null,
   "id": "2334b22e-4e6a-4c54-946e-2745f3ed2df5",
   "metadata": {
    "pycharm": {
     "name": "#%%\n"
    }
   },
   "outputs": [],
   "source": [
    "## Get the current positions at each of the time_window_centers:\n",
    "# active_resampled_measured_positions\n",
    "time_binned_pos_df = active_computed_data.extended_stats.time_binned_position_df\n",
    "active_resampled_pos_df = time_binned_pos_df  # 1717 rows × 16 columns\n",
    "active_resampled_measured_positions = active_resampled_pos_df[['x','y']].to_numpy() # The measured positions resampled (interpolated) at the window centers. \n",
    "# np.shape(active_resampled_measured_positions) # (1911, 2)\n",
    "active_one_step_decoder.active_time_window_centers.shape # (1911,)\n",
    "print(f'active_one_step_decoder.active_time_window_centers.shape: {active_one_step_decoder.active_time_window_centers.shape}')\n",
    "# Note this has 2900 rows × 24 columns and active_one_step_decoder.active_time_window_centers.shape is (2892,) for some reason. Shouldn't they be the same?"
   ]
  },
  {
   "cell_type": "code",
   "execution_count": null,
   "id": "52b41282-cdd9-4964-bbd0-2e0c809bc58e",
   "metadata": {
    "pycharm": {
     "name": "#%%\n"
    }
   },
   "outputs": [],
   "source": [
    "active_resampled_pos_df"
   ]
  },
  {
   "cell_type": "code",
   "execution_count": null,
   "id": "8a9393f2-0d56-46b5-ab94-eea2718d7e6a",
   "metadata": {},
   "outputs": [],
   "source": [
    "import matplotlib.pyplot as plt\n",
    "from matplotlib.widgets import Slider\n",
    "\n",
    "from PendingNotebookCode import _temp_debug_two_step_plots_animated_imshow\n",
    "\n",
    "# Get the decoders from the computation result:\n",
    "# active_one_step_decoder = computation_result.computed_data['pf2D_Decoder']\n",
    "# active_two_step_decoder = computation_result.computed_data.get('pf2D_TwoStepDecoder', None)\n",
    "# active_measured_positions = computation_result.sess.position.to_dataframe()\n",
    "\n",
    "def _debug_on_frame_update(new_frame_idx, ax):\n",
    "    print(f'_debug_on_frame_update(new_frame_idx: {new_frame_idx}, ax: {ax})')\n",
    "    pass\n",
    "\n",
    "# active_resampled_pos_df = active_computed_data.extended_stats.time_binned_position_df  # 1717 rows × 16 columns\n",
    "\n",
    "# Simple plot type 1:\n",
    "# plotted_variable_name = kwargs.get('variable_name', 'p_x_given_n') # Tries to get the user-provided variable name, otherwise defaults to 'p_x_given_n'\n",
    "plotted_variable_name = 'p_x_given_n' # Tries to get the user-provided variable name, otherwise defaults to 'p_x_given_n'\n",
    "_temp_debug_two_step_plots_animated_imshow(active_one_step_decoder, active_two_step_decoder, active_computed_data.extended_stats.time_binned_position_df, variable_name=plotted_variable_name, update_callback_function=_debug_on_frame_update) # Works"
   ]
  },
  {
   "cell_type": "code",
   "execution_count": null,
   "id": "5a7ef2e8-6e1c-48d5-9e76-b9f446ebe6ff",
   "metadata": {},
   "outputs": [],
   "source": []
  },
  {
   "cell_type": "code",
   "execution_count": null,
   "id": "991f9dbb-f65e-42b5-964a-3a88b5276bda",
   "metadata": {},
   "outputs": [],
   "source": []
  },
  {
   "cell_type": "code",
   "execution_count": null,
   "id": "792a48ab-9f8b-4215-b7e8-20e418c86518",
   "metadata": {},
   "outputs": [],
   "source": []
  },
  {
   "cell_type": "code",
   "execution_count": null,
   "id": "eef20765-0f3e-4348-a12f-fceccf0ccb85",
   "metadata": {
    "scrolled": true
   },
   "outputs": [],
   "source": [
    "curr_display_function_name = '_display_spike_rasters_pyqtplot_2D'\n",
    "curr_active_pipeline.display(curr_display_function_name, filter_name, debug_print=False, enable_saving_to_disk=enable_saving_to_disk) "
   ]
  },
  {
   "cell_type": "code",
   "execution_count": null,
   "id": "3b6322ea-88f5-475a-808d-340cd86ebff5",
   "metadata": {
    "scrolled": true
   },
   "outputs": [],
   "source": [
    "## Works, displays my velocity/density result for both 2D and 1D:\n",
    "# out_plot_1D, out_plot_2D = curr_active_pipeline.display('_display_speed_vs_PFoverlapDensity_plots', active_config_name)\n",
    "curr_display_function_name = '_display_speed_vs_PFoverlapDensity_plots'\n",
    "plots = curr_active_pipeline.display(curr_display_function_name, filter_name)\n",
    "plots"
   ]
  },
  {
   "cell_type": "code",
   "execution_count": null,
   "id": "01598d95-1b12-4d7f-9231-5c5384e68d77",
   "metadata": {
    "tags": []
   },
   "outputs": [],
   "source": [
    "curr_display_function_name = '_display_placemaps_pyqtplot_2D'\n",
    "out_plots = curr_active_pipeline.display(curr_display_function_name, filter_name, max_num_columns=8)    \n",
    "out_plots[1].show()"
   ]
  },
  {
   "cell_type": "code",
   "execution_count": null,
   "id": "e3321301-d9a1-46b9-b0a5-2d6a64e781c7",
   "metadata": {
    "tags": []
   },
   "outputs": [],
   "source": [
    "# a_plot = plots[0] # PlotWidget \n",
    "# a_plot_item = a_plot.plotItem # PlotItem\n",
    "# a_plot.scene() # GraphicsScene\n",
    "export_pyqtgraph_plot(plots[0])"
   ]
  }
 ],
 "metadata": {
  "kernelspec": {
   "display_name": "Python [conda env:phoviz_ultimate]",
   "language": "python",
   "name": "conda-env-phoviz_ultimate-py"
  },
  "language_info": {
   "codemirror_mode": {
    "name": "ipython",
    "version": 3
   },
   "file_extension": ".py",
   "mimetype": "text/x-python",
   "name": "python",
   "nbconvert_exporter": "python",
   "pygments_lexer": "ipython3",
   "version": "3.9.13"
  }
 },
 "nbformat": 4,
 "nbformat_minor": 5
}
