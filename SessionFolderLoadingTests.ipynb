{
 "cells": [
  {
   "cell_type": "code",
   "execution_count": 11,
   "id": "f6088dc9",
   "metadata": {
    "tags": []
   },
   "outputs": [
    {
     "name": "stdout",
     "output_type": "stream",
     "text": [
      "The autoreload extension is already loaded. To reload it, use:\n",
      "  %reload_ext autoreload\n"
     ]
    }
   ],
   "source": [
    "#!/usr/bin/env python3\n",
    "# -*- coding: utf-8 -*-\n",
    "\"\"\"\n",
    "@author: pho\n",
    "\"\"\"\n",
    "%load_ext autoreload\n",
    "%autoreload 2\n",
    "import sys\n",
    "import importlib\n",
    "from threading import Thread\n",
    "import time # for time.sleep\n",
    "import numpy as np\n",
    "import h5py\n",
    "import hdf5storage # conda install hdf5storage\n",
    "from pathlib import Path"
   ]
  },
  {
   "cell_type": "code",
   "execution_count": 12,
   "id": "313eba69-5c27-4e2d-8563-2220af614aea",
   "metadata": {},
   "outputs": [],
   "source": [
    "# import PhoPositionalData as pdp\n",
    "# from PhoPositionalData import load_exported, process_data\n",
    "# import PhoPositionalData\n",
    "# import PhoGui\n",
    "\n",
    "# sys.path\n",
    "# sys.cwd\n",
    "# Path.cwd()\n",
    "# Path.cd('PhoPy3DPositionAnalysis2021')\n",
    "# import PhoPy3DPositionAnalysis2021.PhoPositionalData as phoPD\n",
    "\n",
    "from PhoPositionalData.analysis.interactive_placeCell_config import *\n",
    "\n",
    "\n",
    "# from phoPD.load_exported import *\n",
    "# from PhoPositionalData.process_data import process_positionalAnalysis_data, gen_2d_histrogram, get_heatmap_color_vectors, process_chunk_equal_poritions_data, extract_spike_timeseries\n",
    "# from PhoPositionalData.process_data import *\n",
    "# from PhoPositionalData.plot_data import *\n",
    "# from PhoPositionalData.plotting.animations import * # make_mp4_from_plotter\n",
    "# from PhoPositionalData.import_data import * # build_spike_positions_list, build_cellID_reverse_lookup_map\n",
    "# from PhoPositionalData.analysis.interactive_placeCell_config import InteractivePlaceCellConfig, VideoOutputModeConfig, PlottingConfig, PlacefieldComputationParameters, NamedEpoch, SessionConfig  # VideoOutputModeConfig, InteractivePlaceCellConfigs\n",
    "# from PhoPositionalData.analysis.interactive_placeCell_config import get_subsession_for_epoch, print_subsession_neuron_differences\n",
    "\n",
    "# from PhoPositionalData.load_exported import *\n",
    "# # from PhoPositionalData.process_data import process_positionalAnalysis_data, gen_2d_histrogram, get_heatmap_color_vectors, process_chunk_equal_poritions_data, extract_spike_timeseries\n",
    "# from PhoPositionalData.process_data import *\n",
    "# from PhoPositionalData.plot_data import *\n",
    "# from PhoPositionalData.plotting.animations import * # make_mp4_from_plotter\n",
    "# from PhoPositionalData.import_data import * # build_spike_positions_list, build_cellID_reverse_lookup_map\n",
    "# from PhoPositionalData.analysis.interactive_placeCell_config import InteractivePlaceCellConfig, VideoOutputModeConfig, PlottingConfig, PlacefieldComputationParameters, NamedEpoch, SessionConfig  # VideoOutputModeConfig, InteractivePlaceCellConfigs\n",
    "# from PhoPositionalData.analysis.interactive_placeCell_config import get_subsession_for_epoch, print_subsession_neuron_differences"
   ]
  },
  {
   "cell_type": "code",
   "execution_count": 13,
   "id": "7e52165d-0476-4375-b16e-960818c4d170",
   "metadata": {},
   "outputs": [],
   "source": [
    "# NeuroPy (Diba Lab Python Repo) Loading\n",
    "try:\n",
    "    from neuropy import core\n",
    "    importlib.reload(core)\n",
    "except ImportError:\n",
    "    sys.path.append(r'C:\\Users\\Pho\\repos\\NeuroPy') # Windows\n",
    "    # sys.path.append('/home/pho/repo/BapunAnalysis2021/NeuroPy') # Linux\n",
    "    # sys.path.append(r'/Users/pho/repo/Python Projects/NeuroPy') # MacOS\n",
    "    print('neuropy module not found, adding directory to sys.path. \\n >> Updated sys.path.')\n",
    "    from neuropy import core\n",
    "from neuropy.core.dataSession import SessionFolderSpec, DataSessionLoader, DataSession, processDataSession\n",
    "\n",
    "## Data must be pre-processed using the MATLAB script located here: \n",
    "# R:\\data\\KDIBA\\gor01\\one\\IIDataMat_Export_ToPython_2021_11_23.m\n",
    "\n",
    "# From pre-computed .mat files:\n",
    "## 07: \n",
    "basedir = r'R:\\data\\KDIBA\\gor01\\one\\2006-6-07_11-26-53'\n",
    "# spike_file = r'R:\\data\\KDIBA\\gor01\\one\\2006-6-07_11-26-53\\2006-6-07_11-26-53.spikeII.mat'\n",
    "# neuroscope_xml_file = Path(basedir).joinpath('2006-6-07_11-26-53.xml')\n",
    "\n",
    "# ## 08:\n",
    "# basedir = r'R:\\data\\KDIBA\\gor01\\one\\2006-6-08_14-26-15'\n",
    "# spike_file = r'R:\\data\\KDIBA\\gor01\\one\\2006-6-08_14-26-15\\2006-6-08_14-26-15.spikeII.mat' # '2006-6-08_14-26-15.spikeII.mat' # Contains 'spike' flat structure\n",
    "# neuroscope_xml_file = Path(basedir).joinpath('2006-6-08_14-26-15.xml')\n",
    "\n",
    "# sess = core.processDataSession(basedir)\n",
    "session_name = Path(basedir).parts[-1]"
   ]
  },
  {
   "cell_type": "markdown",
   "id": "5fd7e839-3e80-4c82-aced-952c1f76c1d6",
   "metadata": {
    "tags": []
   },
   "source": [
    "## KDiba Old Format:"
   ]
  },
  {
   "cell_type": "code",
   "execution_count": 21,
   "id": "c20ad004-4968-48b1-befb-55399ab721dc",
   "metadata": {},
   "outputs": [
    {
     "data": {
      "text/plain": [
       "True"
      ]
     },
     "execution_count": 21,
     "metadata": {},
     "output_type": "execute_result"
    }
   ],
   "source": [
    "# KDiba Old Format:\n",
    "\n",
    "def kdiba_old_format_session(basedir):\n",
    "    def kdiba_old_format_get_session_name(basedir):\n",
    "        return Path(basedir).parts[-1]\n",
    "    session_name = kdiba_old_format_get_session_name(basedir) # session_name = '2006-6-07_11-26-53'\n",
    "    session_spec = SessionFolderSpec(required=[fname.format(session_name) for fname in ['{}.xml','{}.spikeII.mat','{}.position_info.mat','{}.epochs_info.mat']])\n",
    "    # session_spec = SessionFolderSpec(required=['{}.xml'.format(session_name),\n",
    "    #                             '{}.spikeII.mat'.format(session_name), \n",
    "    #                             '{}.position_info.mat'.format(session_name),\n",
    "    #                             '{}.epochs_info.mat'.format(session_name), \n",
    "    # ])\n",
    "    active_sess_config = SessionConfig(basedir, session_name=session_name, session_spec=session_spec)\n",
    "    \n",
    "active_sess_config = kdiba_old_format_session(r'R:\\data\\KDIBA\\gor01\\one\\2006-6-07_11-26-53')\n",
    "active_sess_config.is_resolved"
   ]
  },
  {
   "cell_type": "markdown",
   "id": "a1b847b0-7a81-4153-82fa-748fd9bd6c14",
   "metadata": {},
   "source": [
    "## Bapun Format:"
   ]
  },
  {
   "cell_type": "code",
   "execution_count": 19,
   "id": "ff5cd8e6-1b1f-4466-8038-5b0654d2d436",
   "metadata": {},
   "outputs": [
    {
     "data": {
      "text/plain": [
       "True"
      ]
     },
     "execution_count": 19,
     "metadata": {},
     "output_type": "execute_result"
    }
   ],
   "source": [
    "## Bapun Format:\n",
    "# basedir = '/media/share/data/Bapun/Day5TwoNovel' # Linux\n",
    "basedir = Path('R:\\data\\Bapun\\Day5TwoNovel') # Windows\n",
    "# basedir = '/Volumes/iNeo/Data/Bapun/Day5TwoNovel' # MacOS\n",
    "\n",
    "def bapun_data_get_session_name(basedir):\n",
    "    # Find the only .xml file to obtain the session name\n",
    "    xml_files = sorted(basedir.glob(\"*.xml\"))        \n",
    "    assert len(xml_files) == 1, \"Found more than one .xml file\"\n",
    "    file_prefix = xml_files[0].with_suffix(\"\") # gets the session name (basically) without the .xml extension. (R:\\data\\Bapun\\Day5TwoNovel\\RatS-Day5TwoNovel-2020-12-04_07-55-09)   \n",
    "    file_basename = xml_files[0].stem # file_basename: (RatS-Day5TwoNovel-2020-12-04_07-55-09)\n",
    "    # print('file_prefix: {}\\nfile_basename: {}'.format(file_prefix, file_basename))\n",
    "    return file_basename # 'RatS-Day5TwoNovel-2020-12-04_07-55-09'\n",
    "\n",
    "    \n",
    "session_name = bapun_data_get_session_name(basedir) # 'RatS-Day5TwoNovel-2020-12-04_07-55-09'\n",
    "session_spec = SessionFolderSpec(required=[fname.format(session_name) for fname in ['{}.xml','{}.neurons.npy','{}.probegroup.npy','{}.position.npy','{}.paradigm.npy']])\n",
    "active_sess_config = SessionConfig(basedir, session_spec=session_spec, session_name=session_name)\n",
    "active_sess_config.is_resolved"
   ]
  },
  {
   "cell_type": "code",
   "execution_count": null,
   "id": "2ab3ca17-6979-427e-a1a6-f352813f25e9",
   "metadata": {},
   "outputs": [],
   "source": [
    "curr_args_dict = dict()\n",
    "curr_args_dict['basepath'] = basedir\n",
    "# curr_args_dict['session_obj'] = DataSession()\n",
    "# curr_session = DataSessionLoader.default_load_bapun_npy_session_folder(curr_args_dict)\n",
    "sess = DataSessionLoader.default_load_kamran_flat_spikes_mat_session_folder(curr_args_dict)\n",
    "sess\n",
    "\n",
    "\n",
    "\n",
    "\n",
    "\n"
   ]
  },
  {
   "cell_type": "markdown",
   "id": "d4bca1e4-77d4-4a42-9883-57f0ff6431d4",
   "metadata": {},
   "source": [
    "## Main Spike/Placemap plotting:"
   ]
  },
  {
   "cell_type": "code",
   "execution_count": null,
   "id": "adefc737-be86-4dc4-b165-7eefbd03788b",
   "metadata": {},
   "outputs": [],
   "source": []
  }
 ],
 "metadata": {
  "celltoolbar": "Tags",
  "interpreter": {
   "hash": "fde6e68fa8f5f4f0920a88ee99edd8d4121f14a57a7800ceb19ed197f25c05dc"
  },
  "kernelspec": {
   "display_name": "Python 3 (ipykernel)",
   "language": "python",
   "name": "python3"
  },
  "language_info": {
   "codemirror_mode": {
    "name": "ipython",
    "version": 3
   },
   "file_extension": ".py",
   "mimetype": "text/x-python",
   "name": "python",
   "nbconvert_exporter": "python",
   "pygments_lexer": "ipython3",
   "version": "3.9.7"
  }
 },
 "nbformat": 4,
 "nbformat_minor": 5
}
