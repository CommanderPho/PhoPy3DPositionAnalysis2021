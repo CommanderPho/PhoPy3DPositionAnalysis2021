{
 "cells": [
  {
   "cell_type": "code",
   "execution_count": 1,
   "id": "initial_id",
   "metadata": {
    "ExecuteTime": {
     "end_time": "2023-11-16T23:21:20.608442900Z",
     "start_time": "2023-11-16T23:21:20.217442100Z"
    },
    "collapsed": true,
    "notebookRunGroups": {
     "groupValue": "1"
    }
   },
   "outputs": [
    {
     "name": "stdout",
     "output_type": "stream",
     "text": [
      "Automatic pdb calling has been turned OFF\n",
      "build_module_logger(module_name=\"Spike3D.pipeline\"):\n",
      "\t Module logger com.PhoHale.Spike3D.pipeline has file logging enabled and will log to EXTERNAL\\TESTING\\Logging\\debug_com.PhoHale.Spike3D.pipeline.log\n"
     ]
    }
   ],
   "source": [
    "%config IPCompleter.use_jedi = False\n",
    "%pdb off\n",
    "%load_ext viztracer\n",
    "from viztracer import VizTracer\n",
    "%load_ext autoreload\n",
    "%autoreload 3\n",
    "import sys\n",
    "from typing import Dict, List, Tuple, Optional\n",
    "from pathlib import Path\n",
    "\n",
    "# required to enable non-blocking interaction:\n",
    "%gui qt5\n",
    "\n",
    "from copy import deepcopy\n",
    "from numba import jit\n",
    "import numpy as np\n",
    "import pandas as pd\n",
    "pd.options.mode.chained_assignment = None  # default='warn'\n",
    "# pd.options.mode.dtype_backend = 'pyarrow' # use new pyarrow backend instead of numpy\n",
    "from attrs import define, field, fields, Factory\n",
    "import tables as tb\n",
    "from datetime import datetime, timedelta\n",
    "\n",
    "# Pho's Formatting Preferences\n",
    "from pyphocorehelpers.preferences_helpers import set_pho_preferences, set_pho_preferences_concise, set_pho_preferences_verbose\n",
    "set_pho_preferences_concise()\n",
    "from pyphocorehelpers.print_helpers import get_now_time_str, get_now_day_str\n",
    "\n",
    "## Pho's Custom Libraries:\n",
    "from pyphocorehelpers.Filesystem.path_helpers import find_first_extant_path\n",
    "from pyphocorehelpers.Filesystem.open_in_system_file_manager import reveal_in_system_file_manager\n",
    "\n",
    "# NeuroPy (Diba Lab Python Repo) Loading\n",
    "# from neuropy import core\n",
    "from neuropy.analyses.placefields import PlacefieldComputationParameters\n",
    "from neuropy.core.epoch import NamedTimerange, Epoch\n",
    "from neuropy.core.ratemap import Ratemap\n",
    "from neuropy.core.session.Formats.BaseDataSessionFormats import DataSessionFormatRegistryHolder\n",
    "from neuropy.core.session.Formats.Specific.KDibaOldDataSessionFormat import KDibaOldDataSessionFormatRegisteredClass\n",
    "from neuropy.utils.matplotlib_helpers import matplotlib_file_only, matplotlib_configuration, matplotlib_configuration_update\n",
    "from neuropy.core.neuron_identities import NeuronIdentityTable, neuronTypesList, neuronTypesEnum\n",
    "from neuropy.utils.mixins.AttrsClassHelpers import AttrsBasedClassHelperMixin, serialized_field, serialized_attribute_field, non_serialized_field, custom_define\n",
    "from neuropy.utils.mixins.HDF5_representable import HDF_DeserializationMixin, post_deserialize, HDF_SerializationMixin, HDFMixin, HDF_Converter\n",
    "\n",
    "## For computation parameters:\n",
    "from neuropy.analyses.placefields import PlacefieldComputationParameters\n",
    "from neuropy.utils.dynamic_container import DynamicContainer\n",
    "from neuropy.utils.result_context import IdentifyingContext\n",
    "from neuropy.core.session.Formats.BaseDataSessionFormats import find_local_session_paths\n",
    "from neuropy.core.neurons import NeuronType\n",
    "from neuropy.core.user_annotations import UserAnnotationsManager\n",
    "from neuropy.core.position import Position\n",
    "from neuropy.core.session.dataSession import DataSession\n",
    "from neuropy.analyses.time_dependent_placefields import PfND_TimeDependent, PlacefieldSnapshot\n",
    "from neuropy.utils.debug_helpers import debug_print_placefield, debug_print_subsession_neuron_differences, debug_print_ratemap, debug_print_spike_counts, debug_plot_2d_binning, print_aligned_columns\n",
    "from neuropy.utils.debug_helpers import parameter_sweeps, _plot_parameter_sweep, compare_placefields_info\n",
    "\n",
    "from pyphocorehelpers.print_helpers import print_object_memory_usage, print_dataframe_memory_usage, print_value_overview_only, DocumentationFilePrinter, print_keys_if_possible, generate_html_string, CapturedException, document_active_variables\n",
    "from pyphocorehelpers.general_helpers import GeneratedClassDefinitionType, CodeConversion, inspect_callable_arguments\n",
    "\n",
    "## Pho Programming Helpers:\n",
    "import inspect\n",
    "from pyphocorehelpers.general_helpers import inspect_callable_arguments, get_arguments_as_optional_dict, GeneratedClassDefinitionType, CodeConversion\n",
    "from pyphocorehelpers.print_helpers import DocumentationFilePrinter, TypePrintMode, print_keys_if_possible, debug_dump_object_member_shapes, print_value_overview_only, document_active_variables, CapturedException\n",
    "from pyphocorehelpers.programming_helpers import IPythonHelpers, PythonDictionaryDefinitionFormat, MemoryManagement\n",
    "from pyphocorehelpers.gui.Qt.TopLevelWindowHelper import TopLevelWindowHelper, print_widget_hierarchy\n",
    "\n",
    "# pyPhoPlaceCellAnalysis:\n",
    "from pyphoplacecellanalysis.General.Pipeline.NeuropyPipeline import NeuropyPipeline # get_neuron_identities\n",
    "from pyphoplacecellanalysis.General.Mixins.ExportHelpers import export_pyqtgraph_plot\n",
    "from pyphoplacecellanalysis.General.Batch.NonInteractiveProcessing import batch_load_session, batch_extended_computations, batch_extended_programmatic_figures\n",
    "from pyphoplacecellanalysis.General.Pipeline.NeuropyPipeline import PipelineSavingScheme\n",
    "\n",
    "import pyphoplacecellanalysis.External.pyqtgraph as pg\n",
    "\n",
    "from pyphoplacecellanalysis.General.Batch.NonInteractiveProcessing import batch_perform_all_plots\n",
    "from pyphoplacecellanalysis.General.Pipeline.Stages.ComputationFunctions.MultiContextComputationFunctions.LongShortTrackComputations import JonathanFiringRateAnalysisResult\n",
    "from pyphoplacecellanalysis.General.Mixins.CrossComputationComparisonHelpers import _find_any_context_neurons\n",
    "from pyphoplacecellanalysis.General.Batch.runBatch import BatchSessionCompletionHandler # for `post_compute_validate(...)`\n",
    "from pyphoplacecellanalysis.Analysis.Decoder.reconstruction import BasePositionDecoder\n",
    "from pyphoplacecellanalysis.SpecificResults.AcrossSessionResults import AcrossSessionsResults\n",
    "from pyphoplacecellanalysis.General.Pipeline.Stages.ComputationFunctions.SpikeAnalysis import SpikeRateTrends # for `_perform_long_short_instantaneous_spike_rate_groups_analysis`\n",
    "from pyphoplacecellanalysis.General.Pipeline.Stages.ComputationFunctions.MultiContextComputationFunctions.LongShortTrackComputations import SingleBarResult, InstantaneousSpikeRateGroupsComputation, TruncationCheckingResults # for `BatchSessionCompletionHandler`, `AcrossSessionsAggregator`\n",
    "from pyphoplacecellanalysis.General.Mixins.CrossComputationComparisonHelpers import SplitPartitionMembership\n",
    "from pyphoplacecellanalysis.General.Pipeline.Stages.ComputationFunctions.MultiContextComputationFunctions.DirectionalPlacefieldGlobalComputationFunctions import DirectionalPlacefieldGlobalComputationFunctions, DirectionalLapsResult, TrackTemplates\n",
    "from pyphoplacecellanalysis.General.Pipeline.Stages.ComputationFunctions.MultiContextComputationFunctions.RankOrderComputations import RankOrderGlobalComputationFunctions\n",
    "from neuropy.utils.indexing_helpers import union_of_arrays, intersection_of_arrays, find_desired_sort_indicies, paired_incremental_sorting\n",
    "\n",
    "\n",
    "# Plotting\n",
    "# import pylustrator # customization of figures\n",
    "import matplotlib\n",
    "import matplotlib as mpl\n",
    "import matplotlib.pyplot as plt\n",
    "_bak_rcParams = mpl.rcParams.copy()\n",
    "\n",
    "matplotlib.use('Qt5Agg')\n",
    "# %matplotlib inline\n",
    "\n",
    "# _restore_previous_matplotlib_settings_callback = matplotlib_configuration_update(is_interactive=True, backend='Qt5Agg')\n",
    "_restore_previous_matplotlib_settings_callback = matplotlib_configuration_update(is_interactive=True, backend='Qt5Agg')\n",
    "\n",
    "\n",
    "# import pylustrator # call `pylustrator.start()` before creating your first figure in code.\n",
    "from pyphoplacecellanalysis.Pho2D.matplotlib.visualize_heatmap import visualize_heatmap\n",
    "from pyphoplacecellanalysis.Pho2D.matplotlib.visualize_heatmap import visualize_heatmap_pyqtgraph # used in `plot_kourosh_activity_style_figure`\n",
    "from pyphoplacecellanalysis.General.Pipeline.Stages.DisplayFunctions.SpikeRasters import plot_multiple_raster_plot, plot_raster_plot\n",
    "from pyphoplacecellanalysis.General.Mixins.DataSeriesColorHelpers import UnitColoringMode, DataSeriesColorHelpers\n",
    "from pyphoplacecellanalysis.General.Pipeline.Stages.DisplayFunctions.SpikeRasters import _build_default_tick, build_scatter_plot_kwargs\n",
    "from pyphoplacecellanalysis.GUI.PyQtPlot.Widgets.Mixins.Render2DScrollWindowPlot import Render2DScrollWindowPlotMixin, ScatterItemData\n",
    "from pyphoplacecellanalysis.General.Batch.NonInteractiveProcessing import batch_extended_programmatic_figures, batch_programmatic_figures\n",
    "from pyphoplacecellanalysis.General.Pipeline.Stages.ComputationFunctions.SpikeAnalysis import SpikeRateTrends\n",
    "from pyphoplacecellanalysis.General.Mixins.SpikesRenderingBaseMixin import SpikeEmphasisState\n",
    "\n",
    "from pyphoplacecellanalysis.SpecificResults.PhoDiba2023Paper import PAPER_FIGURE_figure_1_add_replay_epoch_rasters, PAPER_FIGURE_figure_1_full, PAPER_FIGURE_figure_3, main_complete_figure_generations\n",
    "from pyphoplacecellanalysis.SpecificResults.fourthYearPresentation import *\n",
    "\n",
    "# Jupyter Widget Interactive\n",
    "import ipywidgets as widgets\n",
    "from IPython.display import display, HTML\n",
    "from pyphocorehelpers.Filesystem.open_in_system_file_manager import reveal_in_system_file_manager\n",
    "from pyphoplacecellanalysis.GUI.IPyWidgets.pipeline_ipywidgets import interactive_pipeline_widget, fullwidth_path_widget, interactive_pipeline_files\n",
    "from pyphocorehelpers.gui.Jupyter.simple_widgets import render_colors\n",
    "\n",
    "global_data_root_parent_path = find_first_extant_path([Path(r'W:\\Data'), Path(r'/media/MAX/Data'), Path(r'/home/halechr/FastData'), Path(r'/Volumes/MoverNew/data'), Path(r'/home/halechr/turbo/Data'), Path(r'/home/halechr/cloud/turbo/Data')])\n",
    "assert global_data_root_parent_path.exists(), f\"global_data_root_parent_path: {global_data_root_parent_path} does not exist! Is the right computer's config commented out above?\""
   ]
  },
  {
   "cell_type": "markdown",
   "id": "30db844b",
   "metadata": {},
   "source": [
    "# Load Pipeline"
   ]
  },
  {
   "cell_type": "code",
   "execution_count": 2,
   "id": "233d2b8a",
   "metadata": {
    "ExecuteTime": {
     "end_time": "2023-11-16T23:21:36.073368600Z",
     "start_time": "2023-11-16T23:21:27.575793Z"
    },
    "notebookRunGroups": {
     "groupValue": "1"
    }
   },
   "outputs": [
    {
     "name": "stdout",
     "output_type": "stream",
     "text": [
      "basedir: W:\\Data\\KDIBA\\gor01\\one\\2006-6-09_1-22-43\n",
      "Loading loaded session pickle file results : W:\\Data\\KDIBA\\gor01\\one\\2006-6-09_1-22-43\\loadedSessPickle.pkl... "
     ]
    },
    {
     "name": "stderr",
     "output_type": "stream",
     "text": [
      "INFO:com.PhoHale.Spike3D.pipeline:NeuropyPipeline.__setstate__(state=\"{'pipeline_name': 'kdiba_pipeline', 'session_data_type': 'kdiba', '_stage': <pyphoplacecellanalysis.General.Pipeline.Stages.Display.DisplayPipelineStage object at 0x000001BC531BBE50>}\")\n",
      "INFO:com.PhoHale.Spike3D.pipeline:select_filters(...) with: []\n",
      "INFO:com.PhoHale.Spike3D.pipeline:Performing perform_action_for_all_contexts with action EvaluationActions.EVALUATE_COMPUTATIONS on filtered_session with filter named \"maze1_odd\"...\n",
      "INFO:com.PhoHale.Spike3D.pipeline:WARNING: skipping computation because overwrite_extant_results=False and active_computation_results[maze1_odd] already exists and is non-None\n",
      "INFO:com.PhoHale.Spike3D.pipeline:\t TODO: this will prevent recomputation even when the excludelist/includelist or computation function definitions change. Rework so that this is smarter.\n",
      "INFO:com.PhoHale.Spike3D.pipeline:Performing perform_action_for_all_contexts with action EvaluationActions.EVALUATE_COMPUTATIONS on filtered_session with filter named \"maze2_odd\"...\n",
      "INFO:com.PhoHale.Spike3D.pipeline:WARNING: skipping computation because overwrite_extant_results=False and active_computation_results[maze2_odd] already exists and is non-None\n",
      "INFO:com.PhoHale.Spike3D.pipeline:\t TODO: this will prevent recomputation even when the excludelist/includelist or computation function definitions change. Rework so that this is smarter.\n",
      "INFO:com.PhoHale.Spike3D.pipeline:Performing perform_action_for_all_contexts with action EvaluationActions.EVALUATE_COMPUTATIONS on filtered_session with filter named \"maze_odd\"...\n",
      "INFO:com.PhoHale.Spike3D.pipeline:WARNING: skipping computation because overwrite_extant_results=False and active_computation_results[maze_odd] already exists and is non-None\n",
      "INFO:com.PhoHale.Spike3D.pipeline:\t TODO: this will prevent recomputation even when the excludelist/includelist or computation function definitions change. Rework so that this is smarter.\n",
      "INFO:com.PhoHale.Spike3D.pipeline:Performing perform_action_for_all_contexts with action EvaluationActions.EVALUATE_COMPUTATIONS on filtered_session with filter named \"maze1_even\"...\n",
      "INFO:com.PhoHale.Spike3D.pipeline:WARNING: skipping computation because overwrite_extant_results=False and active_computation_results[maze1_even] already exists and is non-None\n",
      "INFO:com.PhoHale.Spike3D.pipeline:\t TODO: this will prevent recomputation even when the excludelist/includelist or computation function definitions change. Rework so that this is smarter.\n",
      "INFO:com.PhoHale.Spike3D.pipeline:Performing perform_action_for_all_contexts with action EvaluationActions.EVALUATE_COMPUTATIONS on filtered_session with filter named \"maze2_even\"...\n",
      "INFO:com.PhoHale.Spike3D.pipeline:WARNING: skipping computation because overwrite_extant_results=False and active_computation_results[maze2_even] already exists and is non-None\n",
      "INFO:com.PhoHale.Spike3D.pipeline:\t TODO: this will prevent recomputation even when the excludelist/includelist or computation function definitions change. Rework so that this is smarter.\n",
      "INFO:com.PhoHale.Spike3D.pipeline:Performing perform_action_for_all_contexts with action EvaluationActions.EVALUATE_COMPUTATIONS on filtered_session with filter named \"maze_even\"...\n",
      "INFO:com.PhoHale.Spike3D.pipeline:WARNING: skipping computation because overwrite_extant_results=False and active_computation_results[maze_even] already exists and is non-None\n",
      "INFO:com.PhoHale.Spike3D.pipeline:\t TODO: this will prevent recomputation even when the excludelist/includelist or computation function definitions change. Rework so that this is smarter.\n",
      "INFO:com.PhoHale.Spike3D.pipeline:Performing perform_action_for_all_contexts with action EvaluationActions.EVALUATE_COMPUTATIONS on filtered_session with filter named \"maze1_any\"...\n",
      "INFO:com.PhoHale.Spike3D.pipeline:WARNING: skipping computation because overwrite_extant_results=False and active_computation_results[maze1_any] already exists and is non-None\n",
      "INFO:com.PhoHale.Spike3D.pipeline:\t TODO: this will prevent recomputation even when the excludelist/includelist or computation function definitions change. Rework so that this is smarter.\n",
      "INFO:com.PhoHale.Spike3D.pipeline:Performing perform_action_for_all_contexts with action EvaluationActions.EVALUATE_COMPUTATIONS on filtered_session with filter named \"maze2_any\"...\n",
      "INFO:com.PhoHale.Spike3D.pipeline:WARNING: skipping computation because overwrite_extant_results=False and active_computation_results[maze2_any] already exists and is non-None\n",
      "INFO:com.PhoHale.Spike3D.pipeline:\t TODO: this will prevent recomputation even when the excludelist/includelist or computation function definitions change. Rework so that this is smarter.\n",
      "INFO:com.PhoHale.Spike3D.pipeline:Performing perform_action_for_all_contexts with action EvaluationActions.EVALUATE_COMPUTATIONS on filtered_session with filter named \"maze_any\"...\n",
      "INFO:com.PhoHale.Spike3D.pipeline:WARNING: skipping computation because overwrite_extant_results=False and active_computation_results[maze_any] already exists and is non-None\n",
      "INFO:com.PhoHale.Spike3D.pipeline:\t TODO: this will prevent recomputation even when the excludelist/includelist or computation function definitions change. Rework so that this is smarter.\n",
      "INFO:com.PhoHale.Spike3D.pipeline:Performing global computations...\n",
      "INFO:com.PhoHale.Spike3D.pipeline:select_filters(...) with: []\n",
      "INFO:com.PhoHale.Spike3D.pipeline:Performing perform_action_for_all_contexts with action EvaluationActions.EVALUATE_COMPUTATIONS on filtered_session with filter named \"maze1_odd\"...\n",
      "INFO:com.PhoHale.Spike3D.pipeline:WARNING: skipping computation because overwrite_extant_results=False and active_computation_results[maze1_odd] already exists and is non-None\n",
      "INFO:com.PhoHale.Spike3D.pipeline:\t TODO: this will prevent recomputation even when the excludelist/includelist or computation function definitions change. Rework so that this is smarter.\n",
      "INFO:com.PhoHale.Spike3D.pipeline:Performing perform_action_for_all_contexts with action EvaluationActions.EVALUATE_COMPUTATIONS on filtered_session with filter named \"maze2_odd\"...\n",
      "INFO:com.PhoHale.Spike3D.pipeline:WARNING: skipping computation because overwrite_extant_results=False and active_computation_results[maze2_odd] already exists and is non-None\n",
      "INFO:com.PhoHale.Spike3D.pipeline:\t TODO: this will prevent recomputation even when the excludelist/includelist or computation function definitions change. Rework so that this is smarter.\n",
      "INFO:com.PhoHale.Spike3D.pipeline:Performing perform_action_for_all_contexts with action EvaluationActions.EVALUATE_COMPUTATIONS on filtered_session with filter named \"maze_odd\"...\n",
      "INFO:com.PhoHale.Spike3D.pipeline:WARNING: skipping computation because overwrite_extant_results=False and active_computation_results[maze_odd] already exists and is non-None\n",
      "INFO:com.PhoHale.Spike3D.pipeline:\t TODO: this will prevent recomputation even when the excludelist/includelist or computation function definitions change. Rework so that this is smarter.\n",
      "INFO:com.PhoHale.Spike3D.pipeline:Performing perform_action_for_all_contexts with action EvaluationActions.EVALUATE_COMPUTATIONS on filtered_session with filter named \"maze1_even\"...\n",
      "INFO:com.PhoHale.Spike3D.pipeline:WARNING: skipping computation because overwrite_extant_results=False and active_computation_results[maze1_even] already exists and is non-None\n",
      "INFO:com.PhoHale.Spike3D.pipeline:\t TODO: this will prevent recomputation even when the excludelist/includelist or computation function definitions change. Rework so that this is smarter.\n",
      "INFO:com.PhoHale.Spike3D.pipeline:Performing perform_action_for_all_contexts with action EvaluationActions.EVALUATE_COMPUTATIONS on filtered_session with filter named \"maze2_even\"...\n",
      "INFO:com.PhoHale.Spike3D.pipeline:WARNING: skipping computation because overwrite_extant_results=False and active_computation_results[maze2_even] already exists and is non-None\n",
      "INFO:com.PhoHale.Spike3D.pipeline:\t TODO: this will prevent recomputation even when the excludelist/includelist or computation function definitions change. Rework so that this is smarter.\n",
      "INFO:com.PhoHale.Spike3D.pipeline:Performing perform_action_for_all_contexts with action EvaluationActions.EVALUATE_COMPUTATIONS on filtered_session with filter named \"maze_even\"...\n",
      "INFO:com.PhoHale.Spike3D.pipeline:WARNING: skipping computation because overwrite_extant_results=False and active_computation_results[maze_even] already exists and is non-None\n",
      "INFO:com.PhoHale.Spike3D.pipeline:\t TODO: this will prevent recomputation even when the excludelist/includelist or computation function definitions change. Rework so that this is smarter.\n",
      "INFO:com.PhoHale.Spike3D.pipeline:Performing perform_action_for_all_contexts with action EvaluationActions.EVALUATE_COMPUTATIONS on filtered_session with filter named \"maze1_any\"...\n",
      "INFO:com.PhoHale.Spike3D.pipeline:WARNING: skipping computation because overwrite_extant_results=False and active_computation_results[maze1_any] already exists and is non-None\n",
      "INFO:com.PhoHale.Spike3D.pipeline:\t TODO: this will prevent recomputation even when the excludelist/includelist or computation function definitions change. Rework so that this is smarter.\n",
      "INFO:com.PhoHale.Spike3D.pipeline:Performing perform_action_for_all_contexts with action EvaluationActions.EVALUATE_COMPUTATIONS on filtered_session with filter named \"maze2_any\"...\n",
      "INFO:com.PhoHale.Spike3D.pipeline:WARNING: skipping computation because overwrite_extant_results=False and active_computation_results[maze2_any] already exists and is non-None\n",
      "INFO:com.PhoHale.Spike3D.pipeline:\t TODO: this will prevent recomputation even when the excludelist/includelist or computation function definitions change. Rework so that this is smarter.\n",
      "INFO:com.PhoHale.Spike3D.pipeline:Performing perform_action_for_all_contexts with action EvaluationActions.EVALUATE_COMPUTATIONS on filtered_session with filter named \"maze_any\"...\n",
      "INFO:com.PhoHale.Spike3D.pipeline:WARNING: skipping computation because overwrite_extant_results=False and active_computation_results[maze_any] already exists and is non-None\n",
      "INFO:com.PhoHale.Spike3D.pipeline:\t TODO: this will prevent recomputation even when the excludelist/includelist or computation function definitions change. Rework so that this is smarter.\n",
      "INFO:com.PhoHale.Spike3D.pipeline:Performing global computations...\n",
      "INFO:com.PhoHale.Spike3D.pipeline:select_filters(...) with: []\n",
      "INFO:com.PhoHale.Spike3D.pipeline:Performing perform_action_for_all_contexts with action EvaluationActions.EVALUATE_COMPUTATIONS on filtered_session with filter named \"maze1_odd\"...\n",
      "INFO:com.PhoHale.Spike3D.pipeline:WARNING: skipping computation because overwrite_extant_results=False and active_computation_results[maze1_odd] already exists and is non-None\n",
      "INFO:com.PhoHale.Spike3D.pipeline:\t TODO: this will prevent recomputation even when the excludelist/includelist or computation function definitions change. Rework so that this is smarter.\n",
      "INFO:com.PhoHale.Spike3D.pipeline:Performing perform_action_for_all_contexts with action EvaluationActions.EVALUATE_COMPUTATIONS on filtered_session with filter named \"maze2_odd\"...\n",
      "INFO:com.PhoHale.Spike3D.pipeline:WARNING: skipping computation because overwrite_extant_results=False and active_computation_results[maze2_odd] already exists and is non-None\n",
      "INFO:com.PhoHale.Spike3D.pipeline:\t TODO: this will prevent recomputation even when the excludelist/includelist or computation function definitions change. Rework so that this is smarter.\n",
      "INFO:com.PhoHale.Spike3D.pipeline:Performing perform_action_for_all_contexts with action EvaluationActions.EVALUATE_COMPUTATIONS on filtered_session with filter named \"maze_odd\"...\n",
      "INFO:com.PhoHale.Spike3D.pipeline:WARNING: skipping computation because overwrite_extant_results=False and active_computation_results[maze_odd] already exists and is non-None\n",
      "INFO:com.PhoHale.Spike3D.pipeline:\t TODO: this will prevent recomputation even when the excludelist/includelist or computation function definitions change. Rework so that this is smarter.\n",
      "INFO:com.PhoHale.Spike3D.pipeline:Performing perform_action_for_all_contexts with action EvaluationActions.EVALUATE_COMPUTATIONS on filtered_session with filter named \"maze1_even\"...\n",
      "INFO:com.PhoHale.Spike3D.pipeline:WARNING: skipping computation because overwrite_extant_results=False and active_computation_results[maze1_even] already exists and is non-None\n",
      "INFO:com.PhoHale.Spike3D.pipeline:\t TODO: this will prevent recomputation even when the excludelist/includelist or computation function definitions change. Rework so that this is smarter.\n",
      "INFO:com.PhoHale.Spike3D.pipeline:Performing perform_action_for_all_contexts with action EvaluationActions.EVALUATE_COMPUTATIONS on filtered_session with filter named \"maze2_even\"...\n",
      "INFO:com.PhoHale.Spike3D.pipeline:WARNING: skipping computation because overwrite_extant_results=False and active_computation_results[maze2_even] already exists and is non-None\n",
      "INFO:com.PhoHale.Spike3D.pipeline:\t TODO: this will prevent recomputation even when the excludelist/includelist or computation function definitions change. Rework so that this is smarter.\n",
      "INFO:com.PhoHale.Spike3D.pipeline:Performing perform_action_for_all_contexts with action EvaluationActions.EVALUATE_COMPUTATIONS on filtered_session with filter named \"maze_even\"...\n",
      "INFO:com.PhoHale.Spike3D.pipeline:WARNING: skipping computation because overwrite_extant_results=False and active_computation_results[maze_even] already exists and is non-None\n",
      "INFO:com.PhoHale.Spike3D.pipeline:\t TODO: this will prevent recomputation even when the excludelist/includelist or computation function definitions change. Rework so that this is smarter.\n",
      "INFO:com.PhoHale.Spike3D.pipeline:Performing perform_action_for_all_contexts with action EvaluationActions.EVALUATE_COMPUTATIONS on filtered_session with filter named \"maze1_any\"...\n"
     ]
    },
    {
     "name": "stdout",
     "output_type": "stream",
     "text": [
      "done.\n",
      "Loading pickled pipeline success: W:\\Data\\KDIBA\\gor01\\one\\2006-6-09_1-22-43\\loadedSessPickle.pkl.\n",
      "properties already present in pickled version. No need to save.\n",
      "pipeline load success!\n",
      "using provided computation_functions_name_includelist: ['pf_computation', 'firing_rate_trends', 'position_decoding']\n",
      "WARNING: skipping computation because overwrite_extant_results=False and active_computation_results[maze1_odd] already exists and is non-None\n",
      "\t TODO: this will prevent recomputation even when the excludelist/includelist or computation function definitions change. Rework so that this is smarter.\n",
      "WARNING: skipping computation because overwrite_extant_results=False and active_computation_results[maze2_odd] already exists and is non-None\n",
      "\t TODO: this will prevent recomputation even when the excludelist/includelist or computation function definitions change. Rework so that this is smarter.\n",
      "WARNING: skipping computation because overwrite_extant_results=False and active_computation_results[maze_odd] already exists and is non-None\n",
      "\t TODO: this will prevent recomputation even when the excludelist/includelist or computation function definitions change. Rework so that this is smarter.\n",
      "WARNING: skipping computation because overwrite_extant_results=False and active_computation_results[maze1_even] already exists and is non-None\n",
      "\t TODO: this will prevent recomputation even when the excludelist/includelist or computation function definitions change. Rework so that this is smarter.\n",
      "WARNING: skipping computation because overwrite_extant_results=False and active_computation_results[maze2_even] already exists and is non-None\n",
      "\t TODO: this will prevent recomputation even when the excludelist/includelist or computation function definitions change. Rework so that this is smarter.\n",
      "WARNING: skipping computation because overwrite_extant_results=False and active_computation_results[maze_even] already exists and is non-None\n",
      "\t TODO: this will prevent recomputation even when the excludelist/includelist or computation function definitions change. Rework so that this is smarter.\n",
      "WARNING: skipping computation because overwrite_extant_results=False and active_computation_results[maze1_any] already exists and is non-None\n",
      "\t TODO: this will prevent recomputation even when the excludelist/includelist or computation function definitions change. Rework so that this is smarter.\n",
      "WARNING: skipping computation because overwrite_extant_results=False and active_computation_results[maze2_any] already exists and is non-None\n",
      "\t TODO: this will prevent recomputation even when the excludelist/includelist or computation function definitions change. Rework so that this is smarter.\n",
      "WARNING: skipping computation because overwrite_extant_results=False and active_computation_results[maze_any] already exists and is non-None\n",
      "\t TODO: this will prevent recomputation even when the excludelist/includelist or computation function definitions change. Rework so that this is smarter.\n",
      "WARNING: skipping computation because overwrite_extant_results=False and active_computation_results[maze1_odd] already exists and is non-None\n",
      "\t TODO: this will prevent recomputation even when the excludelist/includelist or computation function definitions change. Rework so that this is smarter.\n",
      "WARNING: skipping computation because overwrite_extant_results=False and active_computation_results[maze2_odd] already exists and is non-None\n",
      "\t TODO: this will prevent recomputation even when the excludelist/includelist or computation function definitions change. Rework so that this is smarter.\n",
      "WARNING: skipping computation because overwrite_extant_results=False and active_computation_results[maze_odd] already exists and is non-None\n",
      "\t TODO: this will prevent recomputation even when the excludelist/includelist or computation function definitions change. Rework so that this is smarter.\n",
      "WARNING: skipping computation because overwrite_extant_results=False and active_computation_results[maze1_even] already exists and is non-None\n",
      "\t TODO: this will prevent recomputation even when the excludelist/includelist or computation function definitions change. Rework so that this is smarter.\n",
      "WARNING: skipping computation because overwrite_extant_results=False and active_computation_results[maze2_even] already exists and is non-None\n",
      "\t TODO: this will prevent recomputation even when the excludelist/includelist or computation function definitions change. Rework so that this is smarter.\n",
      "WARNING: skipping computation because overwrite_extant_results=False and active_computation_results[maze_even] already exists and is non-None\n",
      "\t TODO: this will prevent recomputation even when the excludelist/includelist or computation function definitions change. Rework so that this is smarter.\n",
      "WARNING: skipping computation because overwrite_extant_results=False and active_computation_results[maze1_any] already exists and is non-None\n",
      "\t TODO: this will prevent recomputation even when the excludelist/includelist or computation function definitions change. Rework so that this is smarter.\n",
      "WARNING: skipping computation because overwrite_extant_results=False and active_computation_results[maze2_any] already exists and is non-None\n",
      "\t TODO: this will prevent recomputation even when the excludelist/includelist or computation function definitions change. Rework so that this is smarter.\n",
      "WARNING: skipping computation because overwrite_extant_results=False and active_computation_results[maze_any] already exists and is non-None\n",
      "\t TODO: this will prevent recomputation even when the excludelist/includelist or computation function definitions change. Rework so that this is smarter.\n",
      "WARNING: skipping computation because overwrite_extant_results=False and active_computation_results[maze1_odd] already exists and is non-None\n",
      "\t TODO: this will prevent recomputation even when the excludelist/includelist or computation function definitions change. Rework so that this is smarter.\n",
      "WARNING: skipping computation because overwrite_extant_results=False and active_computation_results[maze2_odd] already exists and is non-None\n",
      "\t TODO: this will prevent recomputation even when the excludelist/includelist or computation function definitions change. Rework so that this is smarter.\n",
      "WARNING: skipping computation because overwrite_extant_results=False and active_computation_results[maze_odd] already exists and is non-None\n",
      "\t TODO: this will prevent recomputation even when the excludelist/includelist or computation function definitions change. Rework so that this is smarter.\n",
      "WARNING: skipping computation because overwrite_extant_results=False and active_computation_results[maze1_even] already exists and is non-None\n",
      "\t TODO: this will prevent recomputation even when the excludelist/includelist or computation function definitions change. Rework so that this is smarter.\n",
      "WARNING: skipping computation because overwrite_extant_results=False and active_computation_results[maze2_even] already exists and is non-None\n",
      "\t TODO: this will prevent recomputation even when the excludelist/includelist or computation function definitions change. Rework so that this is smarter.\n",
      "WARNING: skipping computation because overwrite_extant_results=False and active_computation_results[maze_even] already exists and is non-None\n",
      "\t TODO: this will prevent recomputation even when the excludelist/includelist or computation function definitions change. Rework so that this is smarter.\n"
     ]
    },
    {
     "name": "stderr",
     "output_type": "stream",
     "text": [
      "INFO:com.PhoHale.Spike3D.pipeline:WARNING: skipping computation because overwrite_extant_results=False and active_computation_results[maze1_any] already exists and is non-None\n",
      "INFO:com.PhoHale.Spike3D.pipeline:\t TODO: this will prevent recomputation even when the excludelist/includelist or computation function definitions change. Rework so that this is smarter.\n",
      "INFO:com.PhoHale.Spike3D.pipeline:Performing perform_action_for_all_contexts with action EvaluationActions.EVALUATE_COMPUTATIONS on filtered_session with filter named \"maze2_any\"...\n",
      "INFO:com.PhoHale.Spike3D.pipeline:WARNING: skipping computation because overwrite_extant_results=False and active_computation_results[maze2_any] already exists and is non-None\n",
      "INFO:com.PhoHale.Spike3D.pipeline:\t TODO: this will prevent recomputation even when the excludelist/includelist or computation function definitions change. Rework so that this is smarter.\n",
      "INFO:com.PhoHale.Spike3D.pipeline:Performing perform_action_for_all_contexts with action EvaluationActions.EVALUATE_COMPUTATIONS on filtered_session with filter named \"maze_any\"...\n",
      "INFO:com.PhoHale.Spike3D.pipeline:WARNING: skipping computation because overwrite_extant_results=False and active_computation_results[maze_any] already exists and is non-None\n",
      "INFO:com.PhoHale.Spike3D.pipeline:\t TODO: this will prevent recomputation even when the excludelist/includelist or computation function definitions change. Rework so that this is smarter.\n",
      "INFO:com.PhoHale.Spike3D.pipeline:Performing global computations...\n",
      "INFO:com.PhoHale.Spike3D.pipeline:NeuropyPipeline.on_stage_changed(new_stage=\"PipelineStage.Displayed\")\n",
      "WARNING:com.PhoHale.Spike3D.pipeline:WARNING: saving_mode is SKIP_SAVING so pipeline will not be saved despite calling .save_pipeline(...).\n"
     ]
    },
    {
     "name": "stdout",
     "output_type": "stream",
     "text": [
      "WARNING: skipping computation because overwrite_extant_results=False and active_computation_results[maze1_any] already exists and is non-None\n",
      "\t TODO: this will prevent recomputation even when the excludelist/includelist or computation function definitions change. Rework so that this is smarter.\n",
      "WARNING: skipping computation because overwrite_extant_results=False and active_computation_results[maze2_any] already exists and is non-None\n",
      "\t TODO: this will prevent recomputation even when the excludelist/includelist or computation function definitions change. Rework so that this is smarter.\n",
      "WARNING: skipping computation because overwrite_extant_results=False and active_computation_results[maze_any] already exists and is non-None\n",
      "\t TODO: this will prevent recomputation even when the excludelist/includelist or computation function definitions change. Rework so that this is smarter.\n",
      "WARNING: saving_mode is SKIP_SAVING so pipeline will not be saved despite calling .save_pipeline(...).\n",
      "saving_mode.shouldSave == False, so not saving at the end of batch_load_session\n",
      "DEPRICATION WARNING: workaround to allow subscripting ComputationResult objects. Will be depricated. key: computed_data\n",
      "DEPRICATION WARNING: workaround to allow subscripting ComputationResult objects. Will be depricated. key: computed_data\n",
      "DEPRICATION WARNING: workaround to allow subscripting ComputationResult objects. Will be depricated. key: computed_data\n",
      "DEPRICATION WARNING: workaround to allow subscripting ComputationResult objects. Will be depricated. key: computed_data\n",
      "DEPRICATION WARNING: workaround to allow subscripting ComputationResult objects. Will be depricated. key: computed_data\n",
      "DEPRICATION WARNING: workaround to allow subscripting ComputationResult objects. Will be depricated. key: computed_data\n",
      "were pipeline preprocessing parameters missing and updated?: False\n"
     ]
    }
   ],
   "source": [
    "# ==================================================================================================================== #\n",
    "# Load Data                                                                                                            #\n",
    "# ==================================================================================================================== #\n",
    "\n",
    "active_data_mode_name = 'kdiba'\n",
    "local_session_root_parent_context = IdentifyingContext(format_name=active_data_mode_name) # , animal_name='', configuration_name='one', session_name=a_sess.session_name\n",
    "local_session_root_parent_path = global_data_root_parent_path.joinpath('KDIBA')\n",
    "\n",
    "# [*] - indicates bad or session with a problem\n",
    "# 0, 1, 2, 3, 4, 5, 6, 7, [8], [9], 10, 11, [12], 13, 14, [15], [16], 17, \n",
    "# curr_context: IdentifyingContext = good_contexts_list[1] # select the session from all of the good sessions here.\n",
    "# curr_context = IdentifyingContext(format_name='kdiba',animal='gor01',exper_name='one',session_name='2006-6-08_14-26-15') # DONE. Very good. Many good Pfs, many good replays.\n",
    "curr_context = IdentifyingContext(format_name='kdiba',animal='gor01',exper_name='one',session_name='2006-6-09_1-22-43') # DONE, might be the BEST SESSION, good example session with lots of place cells, clean replays, and clear bar graphs.\n",
    "# curr_context = IdentifyingContext(format_name='kdiba',animal='gor01',exper_name='one',session_name='2006-6-12_15-55-31') # DONE, Good Pfs but no good replays\n",
    "# curr_context = IdentifyingContext(format_name='kdiba',animal='gor01',exper_name='one',session_name='2006-6-13_14-42-6') # BAD, 2023-07-14, unsure why still.\n",
    "# curr_context = IdentifyingContext(format_name='kdiba',animal='gor01',exper_name='two',session_name='2006-6-07_16-40-19') # DONE, GREAT, both good Pfs and replays!\n",
    "# curr_context = IdentifyingContext(format_name='kdiba',animal='gor01',exper_name='two',session_name='2006-6-08_21-16-25') # DONE, Added replay selections. Very \"jumpy\" between the starts and ends of the track.\n",
    "# curr_context = IdentifyingContext(format_name='kdiba',animal='gor01',exper_name='two',session_name='2006-6-09_22-24-40') # DONE, Added replay selections. A TON of putative replays in general, most bad, but some good.\n",
    "# curr_context = IdentifyingContext(format_name='kdiba',animal='gor01',exper_name='two',session_name='2006-6-12_16-53-46') # DONE, added replay selections. Very few (like 12) replays each.\n",
    "# curr_context = IdentifyingContext(format_name='kdiba',animal='gor01',exper_name='two',session_name='2006-6-13_15-22-3') # DONE, Good Pfs, no good epochs.\n",
    "# curr_context = IdentifyingContext(format_name='kdiba',animal='vvp01',exper_name='one',session_name='2006-4-09_17-29-30') # DONE, okay replays (selected)\n",
    "# curr_context = IdentifyingContext(format_name='kdiba',animal='vvp01',exper_name='one',session_name='2006-4-10_12-25-50') # DONE, very few replays (selected)\n",
    "# curr_context = IdentifyingContext(format_name='kdiba',animal='vvp01',exper_name='one',session_name='2006-4-19_13-34-40') # BAD\n",
    "# curr_context = IdentifyingContext(format_name='kdiba',animal='vvp01',exper_name='two',session_name='2006-4-09_16-40-54') # DONE, one replay each (selected)\n",
    "# curr_context = IdentifyingContext(format_name='kdiba',animal='vvp01',exper_name='two',session_name='2006-4-10_12-58-3') # BAD, Good Pfs strangely despite horrible map, no good epochs\n",
    "# curr_context = IdentifyingContext(format_name='kdiba',animal='vvp01',exper_name='two',session_name='2006-4-12_15-25-59') # BAD, No Epochs\n",
    "# curr_context = IdentifyingContext(format_name='kdiba',animal='vvp01',exper_name='two',session_name='2006-4-16_18-47-52')\n",
    "# curr_context = IdentifyingContext(format_name='kdiba',animal='vvp01',exper_name='two',session_name='2006-4-17_12-52-15')\n",
    "# curr_context = IdentifyingContext(format_name='kdiba',animal='vvp01',exper_name='two',session_name='2006-4-25_13-20-55')\n",
    "# curr_context = IdentifyingContext(format_name='kdiba',animal='vvp01',exper_name='two',session_name='2006-4-28_12-38-13')\n",
    "# curr_context = IdentifyingContext(format_name='kdiba',animal='pin01',exper_name='one',session_name='11-02_17-46-44') # DONE, good. Many good pfs, many good replays. Noticed very strange jumping off the track in the 3D behavior/spikes viewer. Is there something wrong with this session?\n",
    "# curr_context = IdentifyingContext(format_name='kdiba',animal='pin01',exper_name='one',session_name='11-02_19-28-0') # DONE, good?, replays selected, few\n",
    "# curr_context = IdentifyingContext(format_name='kdiba',animal='pin01',exper_name='one',session_name='11-03_12-3-25') # DONE, very few replays\n",
    "# curr_context = IdentifyingContext(format_name='kdiba',animal='pin01',exper_name='one',session_name='11-09_12-15-3')\n",
    "# curr_context = IdentifyingContext(format_name='kdiba',animal='pin01',exper_name='one',session_name='11-09_22-4-5')\n",
    "# curr_context = IdentifyingContext(format_name='kdiba',animal='pin01',exper_name='one',session_name='fet11-01_12-58-54') # DONE, replays selected, quite a few replays but few are very good.\n",
    "\n",
    "# curr_context = IdentifyingContext(format_name='kdiba',animal='gor01',exper_name='two',session_name='2006-6-08_21-16-25')\n",
    "\n",
    "local_session_parent_path: Path = local_session_root_parent_path.joinpath(curr_context.animal, curr_context.exper_name) # 'gor01', 'one' - probably not needed anymore\n",
    "basedir: Path = local_session_parent_path.joinpath(curr_context.session_name).resolve()\n",
    "print(f'basedir: {str(basedir)}')\n",
    "\n",
    "# Read if possible:\n",
    "saving_mode = PipelineSavingScheme.SKIP_SAVING\n",
    "force_reload = False\n",
    "\n",
    "# # Force write:\n",
    "# saving_mode = PipelineSavingScheme.TEMP_THEN_OVERWRITE\n",
    "# saving_mode = PipelineSavingScheme.OVERWRITE_IN_PLACE\n",
    "# force_reload = True\n",
    "\n",
    "## TODO: if loading is not possible, we need to change the `saving_mode` so that the new results are properly saved.\n",
    "\n",
    "# ==================================================================================================================== #\n",
    "# Load Pipeline                                                                                                        #\n",
    "# ==================================================================================================================== #\n",
    "# with VizTracer(output_file=f\"viztracer_{get_now_time_str()}-full_session_LOO_decoding_analysis.json\", min_duration=200, tracer_entries=3000000, ignore_frozen=True) as tracer:\n",
    "# epoch_name_includelist = ['maze']\n",
    "epoch_name_includelist = None\n",
    "active_computation_functions_name_includelist=['pf_computation',\n",
    "                                            #    'pfdt_computation',\n",
    "                                                'firing_rate_trends',\n",
    "                                                # 'pf_dt_sequential_surprise', \n",
    "                                            #    'ratemap_peaks_prominence2d',\n",
    "                                                'position_decoding', \n",
    "                                                # 'position_decoding_two_step', \n",
    "                                            #    'long_short_decoding_analyses', 'jonathan_firing_rate_analysis', 'long_short_fr_indicies_analyses', 'short_long_pf_overlap_analyses', 'long_short_post_decoding', 'long_short_rate_remapping',\n",
    "                                            #     'long_short_inst_spike_rate_groups',\n",
    "                                            #     'long_short_endcap_analysis',\n",
    "                                            # 'split_to_directional_laps',\n",
    "]\n",
    "\n",
    "curr_active_pipeline: NeuropyPipeline = batch_load_session(global_data_root_parent_path, active_data_mode_name, basedir, epoch_name_includelist=epoch_name_includelist,\n",
    "                                        computation_functions_name_includelist=active_computation_functions_name_includelist,\n",
    "                                        saving_mode=saving_mode, force_reload=force_reload,\n",
    "                                        skip_extended_batch_computations=True, debug_print=False, fail_on_exception=True) # , active_pickle_filename = 'loadedSessPickle_withParameters.pkl'\n",
    "\n",
    "\n",
    "\n",
    "## Post Compute Validate 2023-05-16:\n",
    "was_updated = BatchSessionCompletionHandler.post_compute_validate(curr_active_pipeline) ## TODO: need to potentially re-save if was_updated. This will fail because constained versions not ran yet.\n",
    "if was_updated:\n",
    "    print(f'was_updated: {was_updated}')\n",
    "    try:\n",
    "        curr_active_pipeline.save_pipeline(saving_mode=saving_mode)\n",
    "    except Exception as e:\n",
    "        ## TODO: catch/log saving error and indicate that it isn't saved.\n",
    "        exception_info = sys.exc_info()\n",
    "        e = CapturedException(e, exception_info)\n",
    "        print(f'ERROR RE-SAVING PIPELINE after update. error: {e}')\n"
   ]
  },
  {
   "cell_type": "code",
   "execution_count": 3,
   "id": "acba46b6",
   "metadata": {
    "ExecuteTime": {
     "end_time": "2023-11-16T23:21:40.574268400Z",
     "start_time": "2023-11-16T23:21:35.966373700Z"
    },
    "notebookRunGroups": {
     "groupValue": "1"
    }
   },
   "outputs": [
    {
     "name": "stdout",
     "output_type": "stream",
     "text": [
      "Loading loaded session pickle file results : W:\\Data\\KDIBA\\gor01\\one\\2006-6-09_1-22-43\\output\\global_computation_results.pkl... done.\n",
      "included includelist is specified: ['pf_computation', 'firing_rate_trends', 'long_short_decoding_analyses', 'jonathan_firing_rate_analysis', 'long_short_fr_indicies_analyses', 'short_long_pf_overlap_analyses', 'long_short_post_decoding', 'long_short_endcap_analysis', 'split_to_directional_laps', 'rank_order_shuffle_analysis'], so only performing these extended computations.\n",
      "Running batch_extended_computations(...) with global_epoch_name: \"maze_any\"\n",
      "pf_computation, maze_any already computed.\n",
      "firing_rate_trends, maze_any already computed.\n",
      "split_to_directional_laps, maze_any already computed.\n",
      "rank_order_shuffle_analysis, maze_any already computed.\n",
      "long_short_decoding_analyses, maze_any already computed.\n",
      "short_long_pf_overlap_analyses, maze_any already computed.\n",
      "long_short_fr_indicies_analyses, maze_any already computed.\n",
      "jonathan_firing_rate_analysis, maze_any already computed.\n",
      "long_short_post_decoding, maze_any already computed.\n",
      "long_short_endcap_analysis, maze_any already computed.\n",
      "done with all batch_extended_computations(...).\n",
      "no changes in global results.\n"
     ]
    },
    {
     "data": {
      "application/vnd.jupyter.widget-view+json": {
       "model_id": "5a720eb30085425abdacb69460352848",
       "version_major": 2,
       "version_minor": 0
      },
      "text/plain": [
       "VBox(children=(Box(children=(Label(value='session path:', layout=Layout(width='auto')), Label(value='W:\\\\Data\\…"
      ]
     },
     "execution_count": 3,
     "metadata": {},
     "output_type": "execute_result"
    }
   ],
   "source": [
    "### GLOBAL COMPUTATIONS:\n",
    "if not force_reload: # not just force_reload, needs to recompute whenever the computation fails.\n",
    "    try:\n",
    "        curr_active_pipeline.load_pickled_global_computation_results()\n",
    "    except Exception as e:\n",
    "        exception_info = sys.exc_info()\n",
    "        e = CapturedException(e, exception_info)\n",
    "        print(f'cannot load global results: {e}')\n",
    "        raise\n",
    "\n",
    "curr_active_pipeline.reload_default_computation_functions()\n",
    "\n",
    "extended_computations_include_includelist=['pf_computation', 'firing_rate_trends', # 'pfdt_computation',\n",
    "    # 'pf_dt_sequential_surprise',\n",
    "    #  'ratemap_peaks_prominence2d',\n",
    "    'long_short_decoding_analyses', 'jonathan_firing_rate_analysis', 'long_short_fr_indicies_analyses', 'short_long_pf_overlap_analyses', 'long_short_post_decoding',\n",
    "    # 'long_short_rate_remapping',\n",
    "    # 'long_short_inst_spike_rate_groups',\n",
    "    'long_short_endcap_analysis',\n",
    "    # 'spike_burst_detection',\n",
    "    'split_to_directional_laps',\n",
    "    'rank_order_shuffle_analysis'\n",
    "] # do only specified\n",
    "\n",
    "force_recompute_global = force_reload\n",
    "# force_recompute_global = True\n",
    "newly_computed_values = batch_extended_computations(curr_active_pipeline, include_includelist=extended_computations_include_includelist, include_global_functions=True, fail_on_exception=False, progress_print=True, force_recompute=force_recompute_global, debug_print=False)\n",
    "if (len(newly_computed_values) > 0):\n",
    "    print(f'newly_computed_values: {newly_computed_values}.')\n",
    "    if (saving_mode.value != 'skip_saving'):\n",
    "        print(f'Saving global results...')\n",
    "        try:\n",
    "            # curr_active_pipeline.global_computation_results.persist_time = datetime.now()\n",
    "            # Try to write out the global computation function results:\n",
    "            curr_active_pipeline.save_global_computation_results()\n",
    "        except Exception as e:\n",
    "            exception_info = sys.exc_info()\n",
    "            e = CapturedException(e, exception_info)\n",
    "            print(f'\\n\\n!!WARNING!!: saving the global results threw the exception: {e}')\n",
    "            print(f'\\tthe global results are currently unsaved! proceed with caution and save as soon as you can!\\n\\n\\n')\n",
    "    else:\n",
    "        print(f'\\n\\n!!WARNING!!: changes to global results have been made but they will not be saved since saving_mode.value == \"skip_saving\"')\n",
    "        print(f'\\tthe global results are currently unsaved! proceed with caution and save as soon as you can!\\n\\n\\n')\n",
    "else:\n",
    "    print(f'no changes in global results.')\n",
    "\n",
    "# except Exception as e:\n",
    "#     exception_info = sys.exc_info()\n",
    "#     e = CapturedException(e, exception_info)\n",
    "#     print(f'second half threw: {e}')\n",
    "\n",
    "\n",
    "# 4m 5.2s for inst fr computations\n",
    "# Jupyter Widget Interactive\n",
    "import ipywidgets as widgets\n",
    "from IPython.display import display\n",
    "from pyphocorehelpers.Filesystem.open_in_system_file_manager import reveal_in_system_file_manager\n",
    "from pyphoplacecellanalysis.GUI.IPyWidgets.pipeline_ipywidgets import interactive_pipeline_widget, fullwidth_path_widget, interactive_pipeline_files\n",
    "\n",
    "_pipeline_jupyter_widget = interactive_pipeline_widget(curr_active_pipeline=curr_active_pipeline)\n",
    "# display(_pipeline_jupyter_widget)\n",
    "_pipeline_jupyter_widget"
   ]
  },
  {
   "cell_type": "code",
   "execution_count": null,
   "id": "ee3d4f61",
   "metadata": {},
   "outputs": [],
   "source": [
    "curr_active_pipeline.save_global_computation_results()"
   ]
  },
  {
   "cell_type": "code",
   "execution_count": null,
   "id": "e5cbb6cf",
   "metadata": {},
   "outputs": [],
   "source": [
    "curr_active_pipeline.export_pipeline_to_h5()"
   ]
  },
  {
   "cell_type": "code",
   "execution_count": null,
   "id": "e3f06d1f",
   "metadata": {},
   "outputs": [],
   "source": [
    "curr_active_pipeline.clear_display_outputs()\n",
    "curr_active_pipeline.clear_registered_output_files()"
   ]
  },
  {
   "cell_type": "code",
   "execution_count": null,
   "id": "837f39f2",
   "metadata": {},
   "outputs": [],
   "source": [
    "curr_active_pipeline.save_pipeline(saving_mode=PipelineSavingScheme.TEMP_THEN_OVERWRITE)"
   ]
  },
  {
   "cell_type": "markdown",
   "id": "1fe54599",
   "metadata": {},
   "source": [
    "# End Run"
   ]
  },
  {
   "cell_type": "code",
   "execution_count": 4,
   "id": "1a533ba8",
   "metadata": {
    "ExecuteTime": {
     "end_time": "2023-11-16T23:21:40.700275900Z",
     "start_time": "2023-11-16T23:21:40.584273Z"
    },
    "notebookRunGroups": {
     "groupValue": "1"
    }
   },
   "outputs": [],
   "source": [
    "# (long_one_step_decoder_1D, short_one_step_decoder_1D), (long_one_step_decoder_2D, short_one_step_decoder_2D) = compute_short_long_constrained_decoders(curr_active_pipeline, recalculate_anyway=True)\n",
    "long_epoch_name, short_epoch_name, global_epoch_name = curr_active_pipeline.find_LongShortGlobal_epoch_names()\n",
    "long_epoch_context, short_epoch_context, global_epoch_context = [curr_active_pipeline.filtered_contexts[a_name] for a_name in (long_epoch_name, short_epoch_name, global_epoch_name)]\n",
    "long_epoch_obj, short_epoch_obj = [Epoch(curr_active_pipeline.sess.epochs.to_dataframe().epochs.label_slice(an_epoch_name.removesuffix('_any'))) for an_epoch_name in [long_epoch_name, short_epoch_name]] #TODO 2023-11-10 20:41: - [ ] Issue with getting actual Epochs from sess.epochs for directional laps: emerges because long_epoch_name: 'maze1_any' and the actual epoch label in curr_active_pipeline.sess.epochs is 'maze1' without the '_any' part.\n",
    "long_session, short_session, global_session = [curr_active_pipeline.filtered_sessions[an_epoch_name] for an_epoch_name in [long_epoch_name, short_epoch_name, global_epoch_name]]\n",
    "long_results, short_results, global_results = [curr_active_pipeline.computation_results[an_epoch_name].computed_data for an_epoch_name in [long_epoch_name, short_epoch_name, global_epoch_name]]\n",
    "long_computation_config, short_computation_config, global_computation_config = [curr_active_pipeline.computation_results[an_epoch_name].computation_config for an_epoch_name in [long_epoch_name, short_epoch_name, global_epoch_name]]\n",
    "long_pf1D, short_pf1D, global_pf1D = long_results.pf1D, short_results.pf1D, global_results.pf1D\n",
    "long_pf2D, short_pf2D, global_pf2D = long_results.pf2D, short_results.pf2D, global_results.pf2D\n",
    "\n",
    "assert short_epoch_obj.n_epochs > 0, f'long_epoch_obj: {long_epoch_obj}, short_epoch_obj: {short_epoch_obj}'\n",
    "assert long_epoch_obj.n_epochs > 0, f'long_epoch_obj: {long_epoch_obj}, short_epoch_obj: {short_epoch_obj}'"
   ]
  },
  {
   "cell_type": "code",
   "execution_count": 5,
   "id": "9071e94f",
   "metadata": {
    "ExecuteTime": {
     "end_time": "2023-11-16T23:21:43.601382Z",
     "start_time": "2023-11-16T23:21:40.702275600Z"
    },
    "notebookRunGroups": {
     "groupValue": "1"
    }
   },
   "outputs": [
    {
     "name": "stdout",
     "output_type": "stream",
     "text": [
      "WARN: 2023-09-28 16:15: - [ ] fix the combination properties. Would work if we directly used the computed _is_L_only and _is_S_only above\n",
      "WARNING: PAPER_FIGURE_figure_1_add_replay_epoch_rasters(...): no user-assigned manually labeled replay epochs. Reeturning all epochs.\n",
      "WARN: 2023-09-28 16:15: - [ ] fix the combination properties. Would work if we directly used the computed _is_L_only and _is_S_only above\n"
     ]
    }
   ],
   "source": [
    "## long_short_decoding_analyses:\n",
    "curr_long_short_decoding_analyses = curr_active_pipeline.global_computation_results.computed_data['long_short_leave_one_out_decoding_analysis']\n",
    "long_one_step_decoder_1D, short_one_step_decoder_1D, long_replays, short_replays, global_replays, long_shared_aclus_only_decoder, short_shared_aclus_only_decoder, shared_aclus, long_short_pf_neurons_diff, n_neurons, long_results_obj, short_results_obj, is_global = curr_long_short_decoding_analyses.long_decoder, curr_long_short_decoding_analyses.short_decoder, curr_long_short_decoding_analyses.long_replays, curr_long_short_decoding_analyses.short_replays, curr_long_short_decoding_analyses.global_replays, curr_long_short_decoding_analyses.long_shared_aclus_only_decoder, curr_long_short_decoding_analyses.short_shared_aclus_only_decoder, curr_long_short_decoding_analyses.shared_aclus, curr_long_short_decoding_analyses.long_short_pf_neurons_diff, curr_long_short_decoding_analyses.n_neurons, curr_long_short_decoding_analyses.long_results_obj, curr_long_short_decoding_analyses.short_results_obj, curr_long_short_decoding_analyses.is_global \n",
    "decoding_time_bin_size = long_one_step_decoder_1D.time_bin_size # 1.0/30.0 # 0.03333333333333333\n",
    "\n",
    "## Get global `long_short_fr_indicies_analysis`:\n",
    "long_short_fr_indicies_analysis_results = curr_active_pipeline.global_computation_results.computed_data['long_short_fr_indicies_analysis']\n",
    "long_laps, long_replays, short_laps, short_replays, global_laps, global_replays = [long_short_fr_indicies_analysis_results[k] for k in ['long_laps', 'long_replays', 'short_laps', 'short_replays', 'global_laps', 'global_replays']]\n",
    "long_short_fr_indicies_df = long_short_fr_indicies_analysis_results['long_short_fr_indicies_df']\n",
    "\n",
    "## Get global 'long_short_post_decoding' results:\n",
    "curr_long_short_post_decoding = curr_active_pipeline.global_computation_results.computed_data['long_short_post_decoding']\n",
    "expected_v_observed_result, curr_long_short_rr = curr_long_short_post_decoding.expected_v_observed_result, curr_long_short_post_decoding.rate_remapping\n",
    "rate_remapping_df, high_remapping_cells_only = curr_long_short_rr.rr_df, curr_long_short_rr.high_only_rr_df\n",
    "Flat_epoch_time_bins_mean, Flat_decoder_time_bin_centers, num_neurons, num_timebins_in_epoch, num_total_flat_timebins, is_short_track_epoch, is_long_track_epoch, short_short_diff, long_long_diff = expected_v_observed_result.Flat_epoch_time_bins_mean, expected_v_observed_result.Flat_decoder_time_bin_centers, expected_v_observed_result.num_neurons, expected_v_observed_result.num_timebins_in_epoch, expected_v_observed_result.num_total_flat_timebins, expected_v_observed_result.is_short_track_epoch, expected_v_observed_result.is_long_track_epoch, expected_v_observed_result.short_short_diff, expected_v_observed_result.long_long_diff\n",
    "\n",
    "jonathan_firing_rate_analysis_result: JonathanFiringRateAnalysisResult = curr_active_pipeline.global_computation_results.computed_data.jonathan_firing_rate_analysis\n",
    "(epochs_df_L, epochs_df_S), (filter_epoch_spikes_df_L, filter_epoch_spikes_df_S), (good_example_epoch_indicies_L, good_example_epoch_indicies_S), (short_exclusive, long_exclusive, BOTH_subset, EITHER_subset, XOR_subset, NEITHER_subset), new_all_aclus_sort_indicies, assigning_epochs_obj = PAPER_FIGURE_figure_1_add_replay_epoch_rasters(curr_active_pipeline)\n",
    "neuron_replay_stats_df, short_exclusive, long_exclusive, BOTH_subset, EITHER_subset, XOR_subset, NEITHER_subset = jonathan_firing_rate_analysis_result.get_cell_track_partitions(frs_index_inclusion_magnitude=0.05)\n",
    "\n",
    "## Update long_exclusive/short_exclusive properties with `long_short_fr_indicies_df`\n",
    "# long_exclusive.refine_exclusivity_by_inst_frs_index(long_short_fr_indicies_df, frs_index_inclusion_magnitude=0.5)\n",
    "# short_exclusive.refine_exclusivity_by_inst_frs_index(long_short_fr_indicies_df, frs_index_inclusion_magnitude=0.5)\n"
   ]
  },
  {
   "cell_type": "code",
   "execution_count": 6,
   "id": "395e294e98e2f59e",
   "metadata": {
    "ExecuteTime": {
     "end_time": "2023-11-16T23:21:43.820890500Z",
     "start_time": "2023-11-16T23:21:43.722893300Z"
    },
    "notebookRunGroups": {
     "groupValue": "1"
    }
   },
   "outputs": [],
   "source": [
    "# Unpack all directional variables:\n",
    "## {\"even\": \"RL\", \"odd\": \"LR\"}\n",
    "long_LR_name, short_LR_name, global_LR_name, long_RL_name, short_RL_name, global_RL_name, long_any_name, short_any_name, global_any_name = ['maze1_odd', 'maze2_odd', 'maze_odd', 'maze1_even', 'maze2_even', 'maze_even', 'maze1_any', 'maze2_any', 'maze_any']\n",
    "\n",
    "# Most popular\n",
    "# long_LR_name, short_LR_name, long_RL_name, short_RL_name, global_any_name\n",
    "\n",
    "# Unpacking for `(long_LR_name, long_RL_name, short_LR_name, short_RL_name)`\n",
    "(long_LR_context, long_RL_context, short_LR_context, short_RL_context) = [curr_active_pipeline.filtered_contexts[a_name] for a_name in (long_LR_name, long_RL_name, short_LR_name, short_RL_name)]\n",
    "long_LR_epochs_obj, long_RL_epochs_obj, short_LR_epochs_obj, short_RL_epochs_obj, global_any_laps_epochs_obj = [curr_active_pipeline.computation_results[an_epoch_name].computation_config.pf_params.computation_epochs for an_epoch_name in (long_LR_name, long_RL_name, short_LR_name, short_RL_name, global_any_name)] # note has global also\n",
    "(long_LR_session, long_RL_session, short_LR_session, short_RL_session) = [curr_active_pipeline.filtered_sessions[an_epoch_name] for an_epoch_name in (long_LR_name, long_RL_name, short_LR_name, short_RL_name)] # sessions are correct at least, seems like just the computation parameters are messed up\n",
    "(long_LR_results, long_RL_results, short_LR_results, short_RL_results) = [curr_active_pipeline.computation_results[an_epoch_name].computed_data for an_epoch_name in (long_LR_name, long_RL_name, short_LR_name, short_RL_name)]\n",
    "(long_LR_computation_config, long_RL_computation_config, short_LR_computation_config, short_RL_computation_config) = [curr_active_pipeline.computation_results[an_epoch_name].computation_config for an_epoch_name in (long_LR_name, long_RL_name, short_LR_name, short_RL_name)]\n",
    "(long_LR_pf1D, long_RL_pf1D, short_LR_pf1D, short_RL_pf1D) = (long_LR_results.pf1D, long_RL_results.pf1D, short_LR_results.pf1D, short_RL_results.pf1D)\n",
    "(long_LR_pf2D, long_RL_pf2D, short_LR_pf2D, short_RL_pf2D) = (long_LR_results.pf2D, long_RL_results.pf2D, short_LR_results.pf2D, short_RL_results.pf2D)\n",
    "(long_LR_pf1D_Decoder, long_RL_pf1D_Decoder, short_LR_pf1D_Decoder, short_RL_pf1D_Decoder) = (long_LR_results.pf1D_Decoder, long_RL_results.pf1D_Decoder, short_LR_results.pf1D_Decoder, short_RL_results.pf1D_Decoder)\n"
   ]
  },
  {
   "cell_type": "code",
   "execution_count": null,
   "id": "c260739a4f36c662",
   "metadata": {},
   "outputs": [],
   "source": [
    "active_burst_intervals = curr_active_pipeline.computation_results[global_epoch_name].computed_data['burst_detection']['burst_intervals']\n",
    "# active_burst_intervals"
   ]
  },
  {
   "cell_type": "code",
   "execution_count": null,
   "id": "769a1c6006aba5b7",
   "metadata": {},
   "outputs": [],
   "source": [
    "# Relative Entropy/Surprise Results:\n",
    "active_extended_stats = global_results['extended_stats']\n",
    "active_relative_entropy_results = active_extended_stats['pf_dt_sequential_surprise'] # DynamicParameters\n",
    "historical_snapshots = active_relative_entropy_results['historical_snapshots']\n",
    "post_update_times: np.ndarray = active_relative_entropy_results['post_update_times'] # (4152,) = (n_post_update_times,)\n",
    "snapshot_differences_result_dict = active_relative_entropy_results['snapshot_differences_result_dict']\n",
    "time_intervals: np.ndarray = active_relative_entropy_results['time_intervals']\n",
    "surprise_time_bin_duration = (post_update_times[2]-post_update_times[1])\n",
    "long_short_rel_entr_curves_frames: np.ndarray = active_relative_entropy_results['long_short_rel_entr_curves_frames'] # (4152, 108, 63) = (n_post_update_times, n_neurons, n_xbins)\n",
    "short_long_rel_entr_curves_frames: np.ndarray = active_relative_entropy_results['short_long_rel_entr_curves_frames'] # (4152, 108, 63) = (n_post_update_times, n_neurons, n_xbins)\n",
    "flat_relative_entropy_results: np.ndarray = active_relative_entropy_results['flat_relative_entropy_results'] # (149, 63) - (nSnapshots, nXbins)\n",
    "flat_jensen_shannon_distance_results: np.ndarray = active_relative_entropy_results['flat_jensen_shannon_distance_results'] # (149, 63) - (nSnapshots, nXbins)\n",
    "flat_jensen_shannon_distance_across_all_positions: np.ndarray = np.sum(np.abs(flat_jensen_shannon_distance_results), axis=1) # sum across all position bins # (4152,) - (nSnapshots)\n",
    "flat_surprise_across_all_positions: np.ndarray = np.sum(np.abs(flat_relative_entropy_results), axis=1) # sum across all position bins # (4152,) - (nSnapshots)\n",
    "\n",
    "## Get the placefield dt matrix:\n",
    "if 'snapshot_occupancy_weighted_tuning_maps' not in active_relative_entropy_results:\n",
    "\t## Compute it if missing:\n",
    "\toccupancy_weighted_tuning_maps_over_time = np.stack([placefield_snapshot.occupancy_weighted_tuning_maps_matrix for placefield_snapshot in historical_snapshots.values()])\n",
    "\tactive_relative_entropy_results['snapshot_occupancy_weighted_tuning_maps'] = occupancy_weighted_tuning_maps_over_time\n",
    "else:\n",
    "\toccupancy_weighted_tuning_maps_over_time = active_relative_entropy_results['snapshot_occupancy_weighted_tuning_maps'] # (n_post_update_times, n_neurons, n_xbins)\n"
   ]
  },
  {
   "cell_type": "code",
   "execution_count": null,
   "id": "9554d3bf5955d9d3",
   "metadata": {},
   "outputs": [],
   "source": [
    "# Time-dependent\n",
    "long_pf1D_dt, short_pf1D_dt, global_pf1D_dt = long_results.pf1D_dt, short_results.pf1D_dt, global_results.pf1D_dt\n",
    "long_pf2D_dt, short_pf2D_dt, global_pf2D_dt = long_results.pf2D_dt, short_results.pf2D_dt, global_results.pf2D_dt\n",
    "global_pf1D_dt: PfND_TimeDependent = global_results.pf1D_dt\n",
    "global_pf2D_dt: PfND_TimeDependent = global_results.pf2D_dt"
   ]
  },
  {
   "cell_type": "code",
   "execution_count": null,
   "id": "8624c62d5c18c556",
   "metadata": {},
   "outputs": [],
   "source": [
    "## long_short_endcap_analysis: checks for cells localized to the endcaps that have their placefields truncated after shortening the track\n",
    "truncation_checking_result: TruncationCheckingResults = curr_active_pipeline.global_computation_results.computed_data.long_short_endcap\n",
    "disappearing_endcap_aclus = truncation_checking_result.disappearing_endcap_aclus\n",
    "# disappearing_endcap_aclus\n",
    "trivially_remapping_endcap_aclus = truncation_checking_result.minor_remapping_endcap_aclus\n",
    "# trivially_remapping_endcap_aclus\n",
    "significant_distant_remapping_endcap_aclus = truncation_checking_result.significant_distant_remapping_endcap_aclus\n",
    "# significant_distant_remapping_endcap_aclus\n",
    "appearing_aclus = jonathan_firing_rate_analysis_result.neuron_replay_stats_df[jonathan_firing_rate_analysis_result.neuron_replay_stats_df['track_membership'] == SplitPartitionMembership.RIGHT_ONLY].index\n",
    "# appearing_aclus"
   ]
  },
  {
   "cell_type": "code",
   "execution_count": null,
   "id": "aabbbaf1",
   "metadata": {},
   "outputs": [],
   "source": [
    "epoch_active_aclus = np.array([9,  26,  31,  39,  40,  43,  47,  52,  53,  54,  60,  61,  65,  68,  72,  75,  77,  78,  81,  82,  84,  85,  90,  92,  93,  98, 102])\n",
    "\n",
    "\n",
    "curr_active_pipeline.filtered_contexts['maze1_odd']\n",
    "curr_active_pipeline.computation_results['maze1_odd']"
   ]
  },
  {
   "cell_type": "code",
   "execution_count": null,
   "id": "cbf30c04",
   "metadata": {},
   "outputs": [],
   "source": [
    "curr_active_pipeline.prepare_for_display()\n",
    "curr_active_pipeline.display('_display_1d_placefields') # , 'maze1_odd'\n"
   ]
  },
  {
   "cell_type": "code",
   "execution_count": null,
   "id": "bcc832fb",
   "metadata": {},
   "outputs": [],
   "source": [
    "from pyphoplacecellanalysis.General.Mixins.ExportHelpers import programmatic_render_to_file\n",
    "\n",
    "programmatic_render_to_file(curr_active_pipeline, curr_display_function_name='_display_1d_placefields', write_vector_format=True, write_png=True, debug_print=True)"
   ]
  },
  {
   "cell_type": "code",
   "execution_count": null,
   "id": "6314950a",
   "metadata": {},
   "outputs": [],
   "source": [
    "curr_active_pipeline.reload_default_display_functions()\n",
    "curr_active_pipeline.prepare_for_display()"
   ]
  },
  {
   "cell_type": "code",
   "execution_count": null,
   "id": "b0ccab8b",
   "metadata": {},
   "outputs": [],
   "source": [
    "\n",
    "curr_active_pipeline.display('_display_1d_placefields', 'maze1_even')\n",
    "\n"
   ]
  },
  {
   "cell_type": "code",
   "execution_count": null,
   "id": "ff5d7994",
   "metadata": {},
   "outputs": [],
   "source": [
    "curr_active_pipeline.display('_display_1d_placefields', 'maze1_odd')"
   ]
  },
  {
   "cell_type": "code",
   "execution_count": null,
   "id": "77344ed3",
   "metadata": {},
   "outputs": [],
   "source": [
    "curr_active_pipeline.display('_display_1d_placefields', 'maze2_even')"
   ]
  },
  {
   "cell_type": "code",
   "execution_count": null,
   "id": "a66fdc07",
   "metadata": {},
   "outputs": [],
   "source": [
    "\n",
    "#TODO 2023-11-29 09:18: - [ ] Not good, the self.filtered_contexts are not unique!\n",
    "list(curr_active_pipeline.filtered_contexts.values())\n",
    "# [IdentifyingContext<(... 'maze2')>, IdentifyingContext<(... 'maze2')>, IdentifyingContext<(..., 'maze')>, IdentifyingContext<(... 'maze2')>, IdentifyingContext<(... 'maze2')>, IdentifyingContext<(..., 'maze')>, IdentifyingContext<(...ze1_any')>, IdentifyingContext<(... 'maze2')>, IdentifyingContext<(..., 'maze')>]\n",
    "[(v == curr_active_pipeline.filtered_contexts['maze1_even']) for v in list(curr_active_pipeline.filtered_contexts.values())]\n",
    "# [True, True, False, True, True, False, False, True, False]\n",
    "# meaning `curr_active_pipeline.display('_display_1d_placefields', curr_active_pipeline.filtered_contexts['maze1_even'])` doesn't work\n",
    "curr_active_pipeline.filtered_contexts.index(curr_active_pipeline.filtered_contexts['maze1_even'])"
   ]
  },
  {
   "cell_type": "code",
   "execution_count": null,
   "id": "8c4e9d82",
   "metadata": {},
   "outputs": [],
   "source": [
    "curr_active_pipeline.display('_display_1d_placefields', 'maze2_odd')\n"
   ]
  },
  {
   "cell_type": "code",
   "execution_count": null,
   "id": "3a44c478",
   "metadata": {},
   "outputs": [],
   "source": [
    "curr_active_pipeline.filtered_contexts['maze1_even']"
   ]
  },
  {
   "cell_type": "markdown",
   "id": "1fcd14e5",
   "metadata": {},
   "source": [
    "# TODO 2023-11-27 18:20: - [ ] 💚 Generalized ordered sort"
   ]
  },
  {
   "cell_type": "code",
   "execution_count": null,
   "id": "ac58b0ca",
   "metadata": {},
   "outputs": [],
   "source": [
    "from pyphoplacecellanalysis.General.Pipeline.Stages.ComputationFunctions.MultiContextComputationFunctions.DirectionalPlacefieldGlobalComputationFunctions import DirectionalPlacefieldGlobalDisplayFunctions\n",
    "\n",
    "curr_active_pipeline.reload_default_display_functions()\n",
    "curr_active_pipeline.prepare_for_display()\n",
    "_out = curr_active_pipeline.display(DirectionalPlacefieldGlobalDisplayFunctions._display_directional_laps_overview)\n"
   ]
  },
  {
   "cell_type": "code",
   "execution_count": null,
   "id": "b38faf55",
   "metadata": {},
   "outputs": [],
   "source": [
    "\n",
    "# recieves lists of identities (such as cell aclus) and a function that returns a sortable value for each identity:\n",
    "directional_laps_results = curr_active_pipeline.global_computation_results.computed_data['DirectionalLaps']\n",
    "track_templates: TrackTemplates = directional_laps_results.get_templates(minimum_inclusion_fr_Hz=None) # non-shared-only\n",
    "decoders_dict = track_templates.get_decoders_dict() # decoders_dict = {'long_LR': track_templates.long_LR_decoder, 'long_RL': track_templates.long_RL_decoder, 'short_LR': track_templates.short_LR_decoder, 'short_RL': track_templates.short_RL_decoder, }\n",
    "\n",
    "neuron_IDs_lists = [a_decoder.neuron_IDs for a_decoder in decoders_dict.values()] # [A, B, C, D, ...]\n",
    "neuron_ID_sets = [set(a_list) for a_list in neuron_IDs_lists]\n",
    "individual_List_sort_indicies = [a_decoder.pf.ratemap.get_sort_indicies() for a_decoder in decoders_dict.values()] # [a_s, b_s, c_s, d_s, ...] individual sort indicies that can be applied to A, B, C, D, ..\n",
    "individual_sorted_neuron_IDs_lists = [a_list[a_sort] for a_list, a_sort in zip(neuron_IDs_lists, individual_List_sort_indicies)] # [A[a_s], B[b_s], C[c_s], D[d_s], ...]\n",
    "sortable_values_lists = [np.argmax(a_decoder.pf.ratemap.normalized_tuning_curves, axis=1) for a_decoder in decoders_dict.values()]\n",
    "# decoders_dict"
   ]
  },
  {
   "cell_type": "code",
   "execution_count": null,
   "id": "28d3acbe",
   "metadata": {},
   "outputs": [],
   "source": [
    "from neuropy.utils.indexing_helpers import paired_incremental_sorting\n",
    "\n",
    "# epoch_active_aclus = np.array([9,  26,  31,  39,  40,  43,  47,  52,  53,  54,  60,  61,  65,  68,  72,  75,  77,  78,  81,  82,  84,  85,  90,  92,  93,  98, 102])\n",
    "\n",
    "neuron_IDs_lists = [a_decoder.neuron_IDs for a_decoder in decoders_dict.values()] # [A, B, C, D, ...]\n",
    "sort_helper_original_neuron_id_to_IDX_dicts = [dict(zip(neuron_ids, np.arange(len(neuron_ids)))) for neuron_ids in neuron_IDs_lists] # just maps each neuron_id in the list to a fragile_linear_IDX \n",
    "sortable_values_lists = [np.argmax(a_decoder.pf.ratemap.normalized_tuning_curves, axis=1) for a_decoder in decoders_dict.values()]\n",
    "sorted_neuron_IDs_lists = paired_incremental_sorting(neuron_IDs_lists, sortable_values_lists)\n",
    "# `sort_helper_neuron_id_to_sort_IDX_dicts` dictionaries in the appropriate order (sorted order) with appropriate indexes. Its .values() can be used to index into things originally indexed with aclus.\n",
    "sort_helper_neuron_id_to_sort_IDX_dicts = [{aclu:a_sort_helper_neuron_id_to_IDX_map[aclu] for aclu in sorted_neuron_ids} for a_sort_helper_neuron_id_to_IDX_map, sorted_neuron_ids in zip(sort_helper_original_neuron_id_to_IDX_dicts, sorted_neuron_IDs_lists)]\n",
    "\n",
    "print(sorted_neuron_IDs_lists)\n"
   ]
  },
  {
   "cell_type": "code",
   "execution_count": null,
   "id": "01b05dff",
   "metadata": {},
   "outputs": [],
   "source": [
    "# If you have a set of values that can be larger than the entries in each list:\n",
    "any_list_neuron_IDs = np.sort(union_of_arrays(*neuron_IDs_lists)) # neuron_IDs as they appear in any list\n",
    "## build color values from these:\n",
    "n_neurons = len(any_list_neuron_IDs)\n",
    "_neuron_qcolors_list, neuron_colors_ndarray = DataSeriesColorHelpers.build_cell_colors(n_neurons, colormap_name='PAL-relaxed_bright', colormap_source=None)\n",
    "unit_colors_map: Dict = dict(zip(any_list_neuron_IDs, neuron_colors_ndarray.copy().T)) # Int:NDArray[(4,)] - {5: array([255, 157, 0.278431, 1]), 7: array([252.817, 175.545, 0.202502, 1]), ...}\n",
    "\n",
    "# `unit_colors_map` is main output\n",
    "# So unlike other attempts, these colors are sorted along with the aclus for each decoder, and we don't try to keep them separate. Since they're actually in a dict (where conceptually the order doesn't really matter) this should be indistinguishable performance-wise from other implementation.\n",
    "sort_helper_neuron_id_to_sort_IDX_dicts = [{aclu:unit_colors_map[aclu] for aclu in sorted_neuron_ids} for sorted_neuron_ids in sorted_neuron_IDs_lists] # [{72: array([11.2724, 145.455, 0.815335, 1]), 84: array([165, 77, 1, 1]), ...}, {72: array([11.2724, 145.455, 0.815335, 1]), 84: array([165, 77, 1, 1]), ...}, ...]\n",
    "sort_helper_neuron_id_to_sort_IDX_dicts\n",
    "# `sort_helper_neuron_id_to_sort_IDX_dicts` is main output here:\n"
   ]
  },
  {
   "cell_type": "code",
   "execution_count": null,
   "id": "604c2b18",
   "metadata": {},
   "outputs": [],
   "source": [
    "\n",
    "\n",
    "# sorted_pf_tuning_curves = [a_decoder.pf.ratemap.pdf_normalized_tuning_curves[a_sort_list, :] for a_decoder, a_sort_list in zip(decoders_dict.values(), sorted_neuron_IDs_lists)]\n",
    "\n",
    "sorted_pf_tuning_curves = [a_decoder.pf.ratemap.pdf_normalized_tuning_curves[np.array(list(a_sort_helper_neuron_id_to_IDX_dict.values())), :] for a_decoder, a_sort_helper_neuron_id_to_IDX_dict in zip(decoders_dict.values(), sort_helper_neuron_id_to_sort_IDX_dicts)]\n",
    "sorted_pf_tuning_curves"
   ]
  },
  {
   "cell_type": "code",
   "execution_count": null,
   "id": "f0fbdb06",
   "metadata": {},
   "outputs": [],
   "source": [
    "# shared_sort_IDX = _get_decoder_sorted_pfs(track_templates.long_LR_decoder)\n",
    "# track_templates.long_LR_decoder"
   ]
  },
  {
   "cell_type": "markdown",
   "id": "5a572825",
   "metadata": {},
   "source": [
    "# EVEN: \"RL\", ODD: \"LR\"\n",
    "Starts with Even (idx=0)\n",
    "- EVEN: \"RL\"\n",
    "shared_RL_aclus_only_neuron_IDs\n",
    "`is_even = (an_epoch.lap_dir == 0)`\n",
    "- ODD: \"LR\"\n",
    "shared_LR_aclus_only_neuron_IDs\n",
    "`is_odd = (an_epoch.lap_dir == 1)`"
   ]
  },
  {
   "cell_type": "markdown",
   "id": "9ac0ef2b",
   "metadata": {},
   "source": [
    "# 🟢 2023-10-20 - Z-Score Comparisons with Neuron_ID Shuffled templates\n",
    "1. Take the intersection of the long and short templates to get only the common cells\n",
    "2. Determine the long and short \"tempaltes\": this is done by ranking the aclus for each by their placefields' center of mass. `compute_placefield_center_of_masses`\n",
    "\t2a. `long_pf_peak_ranks`, `short_pf_peak_ranks` - there are one of each of these for each shared aclu.\n",
    "3. Generate the unit_id shuffled (`shuffled_aclus`, `shuffle_IDXs`) ahead of time to use to shuffle the two templates during the epochs.\n",
    "4. For each replay event, take each shuffled template\n",
    "\t4a. Iterate through each shuffle and obtain the shuffled templates like `long_pf_peak_ranks[epoch_specific_shuffled_indicies]`, `short_pf_peak_ranks[epoch_specific_shuffled_indicies]`\n",
    "\t4b. compute the spearman rank-order of the event and each shuffled template, and accumulate the results in `long_spearmanr_rank_stats_results`, `short_spearmanr_rank_stats_results`\n",
    "\n",
    "5. After we're done with the shuffle loop, accumulate the results and convert to the right output format.\n",
    "\n",
    "6. When all epochs are done, loop through the results (the epochs again) and compute the z-scores for each epoch so they can be compared to each other. Keep track of the means and std_dev for comparisons later, and subtract the two sets of z-scores (long/short) to get the delta_Z for each template.\n",
    "\n",
    "7. TODO: Next figure out what to do with the array of z-scores and delta_Z. We have:\n",
    "\tn_epochs sets of results\n",
    "\t\tn_shuffles scores of delta_Z\n",
    "\n"
   ]
  },
  {
   "cell_type": "markdown",
   "id": "87fd9d61",
   "metadata": {},
   "source": [
    "## Convo with Kamran 2023-10-23:\n",
    "- Use directional templates **\n",
    "- No need to worry about re-ranking\n",
    "[X] Plot the long and short separately in addition to the difference, so we show significant reqplay on each as a sanity check\n",
    "[X] Absolute value difference?\n",
    "[X] Fisher transform the correlation values (check if there is a difference) because correlation coefficients aren't going to be normally distributed.\n",
    "\t[ ] Then Z-score releative to fisher.\n",
    "\n",
    "- T-test to compare to mean of zero (if looking at the difference)"
   ]
  },
  {
   "cell_type": "code",
   "execution_count": null,
   "id": "419ffd4a",
   "metadata": {},
   "outputs": [],
   "source": [
    "## Concerns:\n",
    "# 1. Permutation recommended over shuffling for small numbers of ids\n",
    "# 2.\n",
    "\n",
    "# 5Hz thresholding of templates\n"
   ]
  },
  {
   "cell_type": "markdown",
   "id": "ec58689d",
   "metadata": {},
   "source": [
    "## Resume"
   ]
  },
  {
   "cell_type": "code",
   "execution_count": 7,
   "id": "fd86cb20",
   "metadata": {
    "ExecuteTime": {
     "end_time": "2023-11-16T23:22:34.093953500Z",
     "start_time": "2023-11-16T23:22:33.960957900Z"
    },
    "notebookRunGroups": {
     "groupValue": "1"
    },
    "slideshow": {
     "slide_type": "fragment"
    }
   },
   "outputs": [],
   "source": [
    "from nptyping import NDArray\n",
    "from attrs import define, field, Factory, astuple\n",
    "import scipy.stats\n",
    "from scipy import ndimage\n",
    "from neuropy.utils.misc import build_shuffled_ids # used in _SHELL_analyze_leave_one_out_decoding_results\n",
    "from pyphoplacecellanalysis.SpecificResults.PhoDiba2023Paper import pho_stats_paired_t_test\n",
    "from pyphoplacecellanalysis.General.Pipeline.Stages.ComputationFunctions.MultiContextComputationFunctions.DirectionalPlacefieldGlobalComputationFunctions import TrackTemplates\n",
    "from pyphoplacecellanalysis.General.Pipeline.Stages.ComputationFunctions.MultiContextComputationFunctions.RankOrderComputations import RankOrderComputationsContainer, RankOrderResult\n",
    "\n",
    "# minimum_inclusion_fr_Hz: float = 2.0\n",
    "rank_order_results: RankOrderComputationsContainer = curr_active_pipeline.global_computation_results.computed_data['RankOrder']\n",
    "minimum_inclusion_fr_Hz: float = rank_order_results.minimum_inclusion_fr_Hz\n",
    "\n",
    "# Recover from the saved global result:\n",
    "directional_laps_results = curr_active_pipeline.global_computation_results.computed_data['DirectionalLaps']\n",
    "# NEW 2023-11-22 method: Get the templates (which can be filtered by frate first) and the from those get the decoders):        \n",
    "# track_templates: TrackTemplates = directional_laps_results.get_shared_aclus_only_templates(minimum_inclusion_fr_Hz=minimum_inclusion_fr_Hz) # shared-only\n",
    "track_templates: TrackTemplates = directional_laps_results.get_templates(minimum_inclusion_fr_Hz=minimum_inclusion_fr_Hz) # non-shared-only\n",
    "long_LR_decoder, long_RL_decoder, short_LR_decoder, short_RL_decoder = track_templates.get_decoders()\n",
    "\n",
    "## Pre 2023-11-22 method: building a TrackTemplates object after getting the raw decoders:\n",
    "# long_LR_one_step_decoder_1D, long_RL_one_step_decoder_1D, short_LR_one_step_decoder_1D, short_RL_one_step_decoder_1D = directional_laps_results.get_decoders()\n",
    "# long_LR_decoder, long_RL_decoder, short_LR_decoder, short_RL_decoder = directional_laps_results.get_shared_aclus_only_decoders()\n",
    "# track_templates: TrackTemplates = TrackTemplates.init_from_paired_decoders(LR_decoder_pair=(long_LR_decoder, short_LR_decoder), RL_decoder_pair=(long_RL_decoder, short_RL_decoder))\n",
    "# # track_templates: TrackTemplates = TrackTemplates.init_from_paired_decoders(LR_decoder_pair=(long_LR_one_step_decoder_1D, short_LR_one_step_decoder_1D), RL_decoder_pair=(long_RL_one_step_decoder_1D, short_RL_one_step_decoder_1D)) # NOTE: now use the un-constrained versions\n",
    "\n",
    "# Unpack all directional variables:\n",
    "## {\"even\": \"RL\", \"odd\": \"LR\"}\n",
    "long_LR_name, short_LR_name, global_LR_name, long_RL_name, short_RL_name, global_RL_name, long_any_name, short_any_name, global_any_name = ['maze1_odd', 'maze2_odd', 'maze_odd', 'maze1_even', 'maze2_even', 'maze_even', 'maze1_any', 'maze2_any', 'maze_any']\n",
    "# Unpacking for `(long_LR_name, long_RL_name, short_LR_name, short_RL_name)`\n",
    "(long_LR_context, long_RL_context, short_LR_context, short_RL_context) = [curr_active_pipeline.filtered_contexts[a_name] for a_name in (long_LR_name, long_RL_name, short_LR_name, short_RL_name)]\n",
    "long_LR_epochs_obj, long_RL_epochs_obj, short_LR_epochs_obj, short_RL_epochs_obj, global_any_laps_epochs_obj = [curr_active_pipeline.computation_results[an_epoch_name].computation_config.pf_params.computation_epochs for an_epoch_name in (long_LR_name, long_RL_name, short_LR_name, short_RL_name, global_any_name)] # note has global also\n",
    "(long_LR_session, long_RL_session, short_LR_session, short_RL_session) = [curr_active_pipeline.filtered_sessions[an_epoch_name] for an_epoch_name in (long_LR_name, long_RL_name, short_LR_name, short_RL_name)] # sessions are correct at least, seems like just the computation parameters are messed up\n",
    "(long_LR_results, long_RL_results, short_LR_results, short_RL_results) = [curr_active_pipeline.computation_results[an_epoch_name].computed_data for an_epoch_name in (long_LR_name, long_RL_name, short_LR_name, short_RL_name)]\n",
    "(long_LR_computation_config, long_RL_computation_config, short_LR_computation_config, short_RL_computation_config) = [curr_active_pipeline.computation_results[an_epoch_name].computation_config for an_epoch_name in (long_LR_name, long_RL_name, short_LR_name, short_RL_name)]\n",
    "(long_LR_pf1D, long_RL_pf1D, short_LR_pf1D, short_RL_pf1D) = (long_LR_results.pf1D, long_RL_results.pf1D, short_LR_results.pf1D, short_RL_results.pf1D)\n",
    "(long_LR_pf2D, long_RL_pf2D, short_LR_pf2D, short_RL_pf2D) = (long_LR_results.pf2D, long_RL_results.pf2D, short_LR_results.pf2D, short_RL_results.pf2D)\n",
    "(long_LR_pf1D_Decoder, long_RL_pf1D_Decoder, short_LR_pf1D_Decoder, short_RL_pf1D_Decoder) = (long_LR_results.pf1D_Decoder, long_RL_results.pf1D_Decoder, short_LR_results.pf1D_Decoder, short_RL_results.pf1D_Decoder)\n",
    "\n",
    "LR_results_real_values = np.array([(long_stats_z_scorer.real_value, short_stats_z_scorer.real_value) for epoch_id, (long_stats_z_scorer, short_stats_z_scorer, long_short_z_diff) in rank_order_results.LR_ripple.ranked_aclus_stats_dict.items()])\n",
    "RL_results_real_values = np.array([(long_stats_z_scorer.real_value, short_stats_z_scorer.real_value) for epoch_id, (long_stats_z_scorer, short_stats_z_scorer, long_short_z_diff) in rank_order_results.RL_ripple.ranked_aclus_stats_dict.items()])\n",
    "# LR_results_real_values"
   ]
  },
  {
   "cell_type": "code",
   "execution_count": null,
   "id": "3ebb454c",
   "metadata": {},
   "outputs": [],
   "source": [
    "# Plot histograms:\n",
    "\n",
    "def plot_rank_order_histograms(number_of_bins: int = 21):\n",
    "    \"\"\" plots 1D histograms from the rank-order shuffled data during the ripples. \n",
    "    \n",
    "    https://pandas.pydata.org/pandas-docs/version/0.24.1/user_guide/visualization.html\n",
    "    \n",
    "    Captures: rank_order_results, minimum_inclusion_fr_Hz, curr_active_pipeline.get_session_context().get_description()\n",
    "    \n",
    "    \"\"\"\n",
    "    \n",
    "    # fig = build_or_reuse_figure(fignum=f'1D Histograms')\n",
    "    # ax1 = fig.add_subplot(3, 1, 1)\n",
    "    # ax2 = fig.add_subplot(3, 1, 2)\n",
    "    # ax3 = fig.add_subplot(3, 1, 3)\n",
    "\n",
    "    ax1, ax2, ax3 = None, None, None\n",
    "    _out_z_score = pd.DataFrame({'LR_long_z_scores': rank_order_results.LR_ripple.long_z_score, 'LR_short_z_scores': rank_order_results.LR_ripple.short_z_score,\n",
    "              'RL_long_z_scores': rank_order_results.RL_ripple.long_z_score, 'RL_short_z_scores': rank_order_results.RL_ripple.short_z_score}).hist(bins=number_of_bins, ax=ax1, sharex=True, sharey=True)\n",
    "    plt.suptitle(f'Ripple Z-scores: {minimum_inclusion_fr_Hz} Hz\\n{curr_active_pipeline.get_session_context().get_description()}')\n",
    "\n",
    "    _out_real = pd.DataFrame({'LR_long_real_corr': np.squeeze(LR_results_real_values[:,0]), 'LR_short_real_corr': np.squeeze(LR_results_real_values[:,1]),\n",
    "              'RL_long_real_corr': np.squeeze(RL_results_real_values[:,0]), 'RL_short_real_corr': np.squeeze(RL_results_real_values[:,1])}).hist(bins=number_of_bins, ax=ax2, sharex=True, sharey=True)\n",
    "    plt.suptitle(f'Ripple real correlations: {minimum_inclusion_fr_Hz} Hz\\n{curr_active_pipeline.get_session_context().get_description()}')\n",
    "\n",
    "    _out_most_likely_z = pd.DataFrame({'most_likely_long_z_scores': rank_order_results.ripple_most_likely_result_tuple.long_best_dir_z_score_values, 'most_likely_short_z_scores': rank_order_results.ripple_most_likely_result_tuple.short_best_dir_z_score_values}).hist(bins=number_of_bins, ax=ax3, sharex=True, sharey=True)\n",
    "    plt.suptitle(f'Ripple Most-likely z-scores: {minimum_inclusion_fr_Hz} Hz\\n{curr_active_pipeline.get_session_context().get_description()}')\n",
    "\n",
    "    return _out_z_score, _out_real, _out_most_likely_z\n",
    "\n",
    "_out_z_score, _out_real, _out_most_likely_z = plot_rank_order_histograms()\n"
   ]
  },
  {
   "cell_type": "code",
   "execution_count": null,
   "id": "d9036d3a",
   "metadata": {},
   "outputs": [],
   "source": [
    "\n",
    "curr_active_pipeline.get_session_context().get_description()\n"
   ]
  },
  {
   "cell_type": "code",
   "execution_count": null,
   "id": "59639f2d",
   "metadata": {},
   "outputs": [],
   "source": [
    "from qtpy import QtGui # for QColor\n",
    "from qtpy.QtGui import QColor, QBrush, QPen\n",
    "from pyphocorehelpers.gui.Qt.color_helpers import ColorFormatConverter\n",
    "from pyphoplacecellanalysis.General.Mixins.DataSeriesColorHelpers import DataSeriesColorHelpers\n",
    "\n",
    "[ColorFormatConverter.qColor_to_hexstring(a_qcolor, include_alpha=False) for a_qcolor in RL_unit_colors_list]\n",
    "\n",
    "['#ff9d47', '#fdab39', '#fcb82b', '#fac61c', '#f9d30e', '#f7e100', '#e9dd00', '#dcda00', '#ced600', '#c1d300', '#b3cf00', '#95cc0c', '#77ca17', '#5ac723', '#3cc52e', '#1ec23a', '#18bb53', '#12b46b', '#0cae84', '#06a79c', '#00a0b5', '#0698c4', '#0c90d3', '#1388e1', '#1980f0', '#1f78ff', '#3a6fff', '#5567ff', '#6f5eff', '#8a56ff', '#a54dff', '#b146ee', '#bd40dc', '#ca39cb', '#d633b9', '#e22ca8', '#e8348f', '#ee3c76', '#f3435d', '#f94b44', '#ff532b', '#ff6231', '#ff7136', '#ff7f3c', '#ff8e41', '#ff9d47']\n",
    "\n",
    "\n",
    "render_colors([ColorFormatConverter.qColor_to_hexstring(a_qcolor, include_alpha=False) for a_qcolor in RL_unit_colors_list])"
   ]
  },
  {
   "cell_type": "code",
   "execution_count": null,
   "id": "c33ed6d2",
   "metadata": {},
   "outputs": [],
   "source": [
    "# filtered_decoder_list = [filtered_by_frate(a_decoder, minimum_inclusion_fr_Hz=minimum_inclusion_fr_Hz, debug_print=True) for a_decoder in (long_LR_one_step_decoder_1D, long_RL_one_step_decoder_1D, short_LR_one_step_decoder_1D, short_RL_one_step_decoder_1D)]\n",
    "original_neuron_ids_list = [a_decoder.pf.ratemap.neuron_ids for a_decoder in (long_LR_decoder, long_RL_decoder, short_LR_decoder, short_RL_decoder)]\n",
    "is_aclu_included_list = [a_decoder.pf.ratemap.tuning_curve_unsmoothed_peak_firing_rates >= minimum_inclusion_fr_Hz for a_decoder in (long_LR_decoder, long_RL_decoder, short_LR_decoder, short_RL_decoder)]\n",
    "filtered_aclus_list = [np.array(a_decoder.pf.ratemap.neuron_ids)[a_decoder.pf.ratemap.tuning_curve_unsmoothed_peak_firing_rates >= minimum_inclusion_fr_Hz] for a_decoder in (long_LR_decoder, long_RL_decoder, short_LR_decoder, short_RL_decoder)]\n",
    "\n",
    "## For a given run direction (LR/RL) let's require inclusion in either (OR) long v. short to be included.\n",
    "filtered_included_LR_aclus = np.union1d(filtered_aclus_list[0], filtered_aclus_list[2])\n",
    "filtered_included_RL_aclus = np.union1d(filtered_aclus_list[1], filtered_aclus_list[3])\n",
    "# build the final shared aclus:\n",
    "filtered_direction_shared_aclus_list = [filtered_included_LR_aclus, filtered_included_RL_aclus, filtered_included_LR_aclus, filtered_included_RL_aclus] # contains the shared aclus for that direction\n",
    "# rebuild the is_aclu_included_list from the shared aclus\n",
    "is_aclu_included_list = [np.isin(an_original_neuron_ids, a_filtered_neuron_ids) for an_original_neuron_ids, a_filtered_neuron_ids in zip(original_neuron_ids_list, filtered_direction_shared_aclus_list)]\n",
    "\n",
    "# is_aclu_included_list[0]\n",
    "filtered_direction_shared_aclus_list"
   ]
  },
  {
   "cell_type": "code",
   "execution_count": null,
   "id": "017813cc",
   "metadata": {},
   "outputs": [],
   "source": [
    "# # for 5Hz:\n",
    "# [array([  5,   7,  31,  39,  41,  45,  46,  48,  50,  55,  61,  62,  64,  69,  72,  75,  76,  78,  79,  83,  84,  86,  88,  90,  91,  92,  95,  99, 100, 108]),\n",
    "#  array([  5,   7,   9,  31,  32,  39,  41,  45,  46,  48,  50,  55,  61,  62,  64,  69,  72,  75,  76,  78,  79,  83,  84,  86,  88,  90,  91,  92,  93,  95,  99, 101, 108]),\n",
    "#  array([  5,   7,  31,  39,  41,  45,  46,  48,  50,  55,  61,  62,  64,  69,  72,  75,  76,  78,  79,  83,  84,  86,  88,  90,  91,  92,  95,  99, 100, 108]),\n",
    "#  array([  5,   7,   9,  31,  32,  39,  41,  45,  46,  48,  50,  55,  61,  62,  64,  69,  72,  75,  76,  78,  79,  83,  84,  86,  88,  90,  91,  92,  93,  95,  99, 101, 108])]\n",
    "\n",
    "# # for 20Hz:\n",
    "# [array([  5,  41,  46,  48,  69,  78,  79,  83,  86,  88,  90, 108]),\n",
    "#  array([ 62,  64,  75,  78,  83,  91, 101]),\n",
    "#  array([  5,  41,  46,  48,  69,  78,  79,  83,  86,  88,  90, 108]),\n",
    "#  array([ 62,  64,  75,  78,  83,  91, 101])]"
   ]
  },
  {
   "cell_type": "markdown",
   "id": "f6ccfe1f",
   "metadata": {},
   "source": [
    "# 2023-11-22 - RECOMPUTE"
   ]
  },
  {
   "cell_type": "code",
   "execution_count": null,
   "id": "c22e7090",
   "metadata": {},
   "outputs": [],
   "source": [
    "from pyphoplacecellanalysis.General.Pipeline.Stages.ComputationFunctions.MultiContextComputationFunctions.DirectionalPlacefieldGlobalComputationFunctions import DirectionalLapsHelpers\n",
    "from pyphoplacecellanalysis.General.Pipeline.Stages.ComputationFunctions.MultiContextComputationFunctions.RankOrderComputations import RankOrderGlobalComputationFunctions\n",
    "\n",
    "curr_active_pipeline.reload_default_computation_functions()\n",
    "\n",
    "## clear the old values to prepare for the new ones:\n",
    "curr_active_pipeline.global_computation_results.computed_data['DirectionalLaps'] = None\n",
    "curr_active_pipeline.global_computation_results.computed_data['RankOrder'] = None\n",
    "del curr_active_pipeline.global_computation_results.computed_data['DirectionalLaps']\n",
    "del curr_active_pipeline.global_computation_results.computed_data['RankOrder']\n",
    "\n",
    "\n",
    "curr_active_pipeline.global_computation_results.computed_data['DirectionalLaps'] = DirectionalLapsHelpers.build_global_directional_result_from_natural_epochs(curr_active_pipeline, progress_print=True) # repalce the directional laps object\n",
    "\n",
    "# perform_rank_order_shuffle_analysis\n",
    "# with VizTracer(output_file=f\"viztracer_{get_now_time_str()}-perform_rank_order_shuffle_analysis_{curr_active_pipeline.session_name}.json\", min_duration=200, tracer_entries=3000000, ignore_frozen=True) as tracer:\n",
    "RankOrderGlobalComputationFunctions.perform_rank_order_shuffle_analysis(curr_active_pipeline, curr_active_pipeline.global_computation_results, None, None, include_includelist=None, debug_print=False, num_shuffles=1000, minimum_inclusion_fr_Hz=minimum_inclusion_fr_Hz)\n",
    "\n",
    "\n",
    "# 10m 29.5s for 1000 shuffles.  c:\\Users\\pho\\repos\\Spike3DWorkEnv\\Spike3D\\viztracer_2023-11-22_16-11-perform_rank_order_shuffle_analysis.json\n",
    "\n",
    "# 3m 33.9s - 500\n",
    "# 3m 26.4s - 1000"
   ]
  },
  {
   "cell_type": "code",
   "execution_count": null,
   "id": "fb8cd6c4",
   "metadata": {},
   "outputs": [],
   "source": [
    "# 2023-11-27 - I'd like to be able to save/load single results a time, (meaning specific to their parameters):\n",
    "\n",
    "from pyphoplacecellanalysis.General.Pipeline.Stages.Loading import saveData\n",
    "\n",
    "# list = ['2Hz', '12Hz']\n",
    "\n",
    "directional_laps_output_path = curr_active_pipeline.get_output_path().joinpath('DirectionalLaps_2Hz.pkl').resolve()\n",
    "saveData(directional_laps_output_path, (curr_active_pipeline.global_computation_results.computed_data['DirectionalLaps'], curr_active_pipeline.global_computation_results.computed_data['RankOrder']))"
   ]
  },
  {
   "cell_type": "code",
   "execution_count": null,
   "id": "d2230163",
   "metadata": {},
   "outputs": [],
   "source": [
    "from pyphoplacecellanalysis.General.Pipeline.Stages.Loading import loadData\n",
    "\n",
    "# Load the data from a file into the pipeline:\n",
    "directional_laps_output_path = curr_active_pipeline.get_output_path().joinpath('DirectionalLaps_2Hz.pkl').resolve()\n",
    "assert directional_laps_output_path.exists()\n",
    "loaded_directional_laps, loaded_rank_order = loadData(directional_laps_output_path)\n",
    "assert (loaded_directional_laps is not None)\n",
    "assert (loaded_rank_order is not None)\n",
    "# Apply the loaded data to the pipeline:\n",
    "curr_active_pipeline.global_computation_results.computed_data['DirectionalLaps'], curr_active_pipeline.global_computation_results.computed_data['RankOrder'] = loaded_directional_laps, loaded_rank_order\n",
    "curr_active_pipeline.global_computation_results.computed_data['RankOrder']"
   ]
  },
  {
   "cell_type": "markdown",
   "id": "f4ec24467335a760",
   "metadata": {},
   "source": [
    "# POST-Compute:"
   ]
  },
  {
   "cell_type": "code",
   "execution_count": 8,
   "id": "728c46e6",
   "metadata": {
    "notebookRunGroups": {
     "groupValue": "12"
    }
   },
   "outputs": [
    {
     "name": "stdout",
     "output_type": "stream",
     "text": [
      "minimum_inclusion_fr_Hz: 2.0\n",
      "included_neuron_ids: [  9  10  11  15  16  18  24  25  26  31  39  40  43  44  47  48  51  52  53  54  56  60  61  65  66  68  70  72  75  77  78  79  80  81  82  84  85  87  89  90  92  93  98 101 102 104], n_neurons: 46\n",
      "unit_sort_order: [ 7 14 20 26 38 40 43  3 12 35 37  1 16 18 13 15 31 33 27 42  0 41 34  9  2 24 39 30  4 45 32  6 28 11 21 36 17 44 23  5  8 10 19 22 25 29]\n",
      "desired_sort_arr: [ 25  47  56  70  89  92 101  15  43  84  87  10  51  53  44  48  79  81  72  98   9  93  82  31  11  66  90  78  16 104  80  24  75  40  60  85  52 102  65  18  26  39  54  61  68  77]\n",
      "merged_kwargs: {'name': 'spikeRasterOverviewWindowScatterPlotItem', 'pxMode': True, 'symbol': <PyQt5.QtGui.QPainterPath object at 0x000001BFD93E3A50>, 'size': 2, 'pen': {'color': 'w', 'width': 1}, 'hoverable': True}\n",
      "unit_sort_order: [ 7 20 26 38 14  3 37 19 35 12 16 40 13 27 31 15  6 10 18 32 42  9 28  2 24 33 34 39 45  0 41  1 30 43  4  5  8 11 17 21 22 23 25 29 36 44]\n",
      "desired_sort_arr: [ 25  56  70  89  47  15  87  54  84  43  51  92  44  72  79  48  24  39  53  80  98  31  75  11  66  81  82  90 104   9  93  10  78 101  16  18  26  40  52  60  61  65  68  77  85 102]\n",
      "merged_kwargs: {'name': 'spikeRasterOverviewWindowScatterPlotItem', 'pxMode': True, 'symbol': <PyQt5.QtGui.QPainterPath object at 0x000001BF68FB3040>, 'size': 2, 'pen': {'color': 'w', 'width': 1}, 'hoverable': True}\n",
      "unit_sort_order: [ 2 14 37  7 20 26 40  3 38 12 45  1 35 33  6 13 15 31  0 27 41  9 42 24 39 34  4 16 22 28 18 32 23 30 11 21 36 44 10 17 43  8 25  5 19 29]\n",
      "desired_sort_arr: [ 11  47  87  25  56  70  92  15  89  43 104  10  84  81  24  44  48  79   9  72  93  31  98  66  90  82  16  51  61  75  53  80  65  78  40  60  85 102  39  52 101  26  68  18  54  77]\n",
      "merged_kwargs: {'name': 'spikeRasterOverviewWindowScatterPlotItem', 'pxMode': True, 'symbol': <PyQt5.QtGui.QPainterPath object at 0x000001BF404F4EB0>, 'size': 2, 'pen': {'color': 'w', 'width': 1}, 'hoverable': True}\n",
      "unit_sort_order: [26  7 14 16 20 37  3 40 25 13 15 31  6 32 18 10 38  0 41 42 24  2 33 34 45 39 22 23 35  9 28  1 27 43 11 12 21  4  8 17 19 29 30 36 44  5]\n",
      "desired_sort_arr: [ 70  25  47  51  56  87  15  92  68  44  48  79  24  80  53  39  89   9  93  98  66  11  81  82 104  90  61  65  84  31  75  10  72 101  40  43  60  16  26  52  54  77  78  85 102  18]\n",
      "merged_kwargs: {'name': 'spikeRasterOverviewWindowScatterPlotItem', 'pxMode': True, 'symbol': <PyQt5.QtGui.QPainterPath object at 0x000001BF7825F740>, 'size': 2, 'pen': {'color': 'w', 'width': 1}, 'hoverable': True}\n",
      "PhoDockAreaContainingWindow.GlobalConnectionManagerAccessingMixin_on_setup()\n",
      "PhoDockAreaContainingWindow.try_register_any_control_widgets()\n",
      "\tflat_widgets_list contains 0 items\n",
      "using overriden dock location.\n",
      "WARN: self.disable_emit_changed = True\n",
      "WARN: self.disable_emit_changed = True\n",
      "emitChanged(): self.val: 10\n",
      "WARN: the selected spikes did not work properly, so none will be shown.\n"
     ]
    }
   ],
   "source": [
    "from pyphoplacecellanalysis.General.Pipeline.Stages.ComputationFunctions.MultiContextComputationFunctions.DirectionalPlacefieldGlobalComputationFunctions import DirectionalPlacefieldGlobalDisplayFunctions\n",
    "from pyphoplacecellanalysis.General.Pipeline.Stages.DisplayFunctions.SpikeRasters import plot_multi_sort_raster_browser\n",
    "from pyphoplacecellanalysis.GUI.PyQtPlot.Widgets.ContainerBased.RankOrderRastersDebugger import RankOrderRastersDebugger\n",
    "\n",
    "from pyphoplacecellanalysis.General.Pipeline.Stages.DisplayFunctions.SpikeRasters import paired_separately_sort_neurons, paired_incremental_sort_neurons # _display_directional_template_debugger\n",
    "from neuropy.utils.indexing_helpers import paired_incremental_sorting, union_of_arrays, intersection_of_arrays, find_desired_sort_indicies\n",
    "from pyphoplacecellanalysis.GUI.Qt.Widgets.ScrollBarWithSpinBox.ScrollBarWithSpinBox import ScrollBarWithSpinBox\n",
    "\n",
    "# pg.setConfigOption('background', 'w')\n",
    "# pg.setConfigOption('foreground', 'k')\n",
    "\n",
    "def _validate_RankOrderRastersDebugger():\n",
    "\tspikes_df = curr_active_pipeline.sess.spikes_df\n",
    "\trank_order_results: RankOrderComputationsContainer = curr_active_pipeline.global_computation_results.computed_data['RankOrder']\n",
    "\tminimum_inclusion_fr_Hz: float = rank_order_results.minimum_inclusion_fr_Hz\n",
    "\tripple_result_tuple, laps_result_tuple = rank_order_results.ripple_most_likely_result_tuple, rank_order_results.laps_most_likely_result_tuple\n",
    "\tdirectional_laps_results = curr_active_pipeline.global_computation_results.computed_data['DirectionalLaps']\n",
    "\ttrack_templates: TrackTemplates = directional_laps_results.get_templates(minimum_inclusion_fr_Hz=minimum_inclusion_fr_Hz) # non-shared-only -- !! Is minimum_inclusion_fr_Hz=None the issue/difference?\n",
    "\n",
    "\n",
    "curr_active_pipeline.reload_default_display_functions()\n",
    "_validate_RankOrderRastersDebugger()\n",
    "\n",
    "spikes_df = curr_active_pipeline.sess.spikes_df\n",
    "rank_order_results: RankOrderComputationsContainer = curr_active_pipeline.global_computation_results.computed_data['RankOrder']\n",
    "minimum_inclusion_fr_Hz: float = rank_order_results.minimum_inclusion_fr_Hz\n",
    "ripple_result_tuple, laps_result_tuple = rank_order_results.ripple_most_likely_result_tuple, rank_order_results.laps_most_likely_result_tuple\n",
    "directional_laps_results = curr_active_pipeline.global_computation_results.computed_data['DirectionalLaps']\n",
    "track_templates: TrackTemplates = directional_laps_results.get_templates(minimum_inclusion_fr_Hz=minimum_inclusion_fr_Hz) # non-shared-only -- !! Is minimum_inclusion_fr_Hz=None the issue/difference?\n",
    "print(f'minimum_inclusion_fr_Hz: {minimum_inclusion_fr_Hz}')\n",
    "\n",
    "\n",
    "## RankOrderRastersDebugger: \n",
    "\n",
    "_out_rank_order_event_raster_debugger = RankOrderRastersDebugger.init_rank_order_debugger(spikes_df, ripple_result_tuple.active_epochs, track_templates, rank_order_results.RL_ripple.selected_spikes_fragile_linear_neuron_IDX_dict, rank_order_results.LR_ripple.selected_spikes_fragile_linear_neuron_IDX_dict)"
   ]
  },
  {
   "cell_type": "markdown",
   "id": "aac746d8",
   "metadata": {},
   "source": [
    "## Connects TemplatesDebugger to RasterDebugger"
   ]
  },
  {
   "cell_type": "code",
   "execution_count": 9,
   "id": "bdc4e5be",
   "metadata": {
    "notebookRunGroups": {
     "groupValue": "1"
    }
   },
   "outputs": [
    {
     "name": "stdout",
     "output_type": "stream",
     "text": [
      "PhoDockAreaContainingWindow.GlobalConnectionManagerAccessingMixin_on_setup()\n",
      "PhoDockAreaContainingWindow.try_register_any_control_widgets()\n",
      "\tflat_widgets_list contains 0 items\n",
      "using overriden dock location.\n"
     ]
    }
   ],
   "source": [
    "from pyphocorehelpers.print_helpers import generate_html_string\n",
    "\n",
    "## Unpacks `rank_order_results`: \n",
    "spikes_df = curr_active_pipeline.sess.spikes_df\n",
    "global_replays = Epoch(deepcopy(curr_active_pipeline.filtered_sessions[global_epoch_name].replay))\n",
    "# global_replays.filename = Path('output/2023-11-16_phoEvents.mew.evt').resolve()\n",
    "# global_replays.to_neuroscope()\n",
    "\n",
    "rank_order_results: RankOrderComputationsContainer = curr_active_pipeline.global_computation_results.computed_data['RankOrder']\n",
    "ripple_result_tuple, laps_result_tuple = rank_order_results.ripple_most_likely_result_tuple, rank_order_results.laps_most_likely_result_tuple\n",
    "\n",
    "# Extract the real spearman-values/p-values:\n",
    "LR_long_relative_real_p_values = np.array([x[0].real_p_value for x in rank_order_results.LR_ripple.ranked_aclus_stats_dict.values()])\n",
    "LR_long_relative_real_values = np.array([x[0].real_value for x in rank_order_results.LR_ripple.ranked_aclus_stats_dict.values()])\n",
    "\n",
    "LR_short_relative_real_p_values = np.array([x[1].real_p_value for x in rank_order_results.LR_ripple.ranked_aclus_stats_dict.values()])\n",
    "LR_short_relative_real_values = np.array([x[1].real_value for x in rank_order_results.LR_ripple.ranked_aclus_stats_dict.values()])\n",
    "\n",
    "LR_template_epoch_actually_included_aclus = [v[1] for v in rank_order_results.LR_ripple.extra_info_dict.values()] # (template_epoch_neuron_IDXs, template_epoch_actually_included_aclus, epoch_neuron_IDX_ranks)\n",
    "LR_relative_num_cells = np.array([len(v[1]) for v in rank_order_results.LR_ripple.extra_info_dict.values()])\n",
    "\n",
    "RL_long_relative_real_p_values = np.array([x[0].real_p_value for x in rank_order_results.RL_ripple.ranked_aclus_stats_dict.values()])\n",
    "RL_long_relative_real_values = np.array([x[0].real_value for x in rank_order_results.RL_ripple.ranked_aclus_stats_dict.values()])\n",
    "\n",
    "RL_short_relative_real_p_values = np.array([x[1].real_p_value for x in rank_order_results.RL_ripple.ranked_aclus_stats_dict.values()])\n",
    "RL_short_relative_real_values = np.array([x[1].real_value for x in rank_order_results.RL_ripple.ranked_aclus_stats_dict.values()])\n",
    "\n",
    "RL_template_epoch_actually_included_aclus = [v[1] for v in rank_order_results.RL_ripple.extra_info_dict.values()] # (template_epoch_neuron_IDXs, template_epoch_actually_included_aclus, epoch_neuron_IDX_ranks)\n",
    "RL_relative_num_cells = np.array([len(v[1]) for v in rank_order_results.RL_ripple.extra_info_dict.values()])\n",
    "\n",
    "# LR_relative_num_cells = np.array([len(x) for x in rank_order_results.LR_ripple.selected_spikes_fragile_linear_neuron_IDX_dict.values()])\n",
    "# RL_relative_num_cells = np.array([len(x) for x in rank_order_results.RL_ripple.selected_spikes_fragile_linear_neuron_IDX_dict.values()])\n",
    "\n",
    "rank_order_results_debug_values = dict(zip(('long_LR', 'long_RL', 'short_LR', 'short_RL'), ([LR_long_relative_real_values, LR_long_relative_real_p_values], [RL_long_relative_real_values, RL_long_relative_real_p_values], [LR_short_relative_real_values, LR_short_relative_real_p_values], [RL_short_relative_real_values, RL_short_relative_real_p_values])))\n",
    "\n",
    "def debug_update_plot_titles(a_plotter, an_idx: int):\n",
    "\t\"\"\" Updates the titles of each of the four rasters with the appropriate spearman rho value.\n",
    "\tcaptures: rank_order_results_debug_values, \n",
    "\t\"\"\"\n",
    "\tfor a_decoder_name, a_root_plot in a_plotter.plots.root_plots.items():\n",
    "\t\ta_real_value = rank_order_results_debug_values[a_decoder_name][0][an_idx]\n",
    "\t\tprint(f'a_decoder_name: {a_decoder_name}, a_real_value: {a_real_value:0.3f}')\n",
    "\t\treal_value_str = generate_html_string(f'{a_real_value:0.3f}', color='white', bold=True)\n",
    "\t\t# j_str = generate_html_string('j', color='red', bold=True)\n",
    "\t\ttitle_str = generate_html_string(f'{a_decoder_name}: spearman: {real_value_str}')\n",
    "\t\ta_root_plot.setTitle(title=title_str)\n",
    "\n",
    "\n",
    "def debug_update_long_short_info_titles(a_plotter, an_idx: int):\n",
    "\t\"\"\" Updates the titles of each of the four rasters with the appropriate spearman rho value.\n",
    "\tcaptures: ripple_result_tuple, \n",
    "\t\"\"\"\n",
    "\thas_long_short_info_labels = (hasattr(a_plotter.ui, 'long_info_label') and hasattr(a_plotter.ui, 'short_info_label'))\n",
    "\tif has_long_short_info_labels:\n",
    "\t\tlong_best_dir_z_score_value_str = generate_html_string(f'{float(ripple_result_tuple.long_best_dir_z_score_values[an_idx]):0.3f}', color='black', bold=True)\n",
    "\t\tshort_best_dir_z_score_value_str = generate_html_string(f'{float(ripple_result_tuple.short_best_dir_z_score_values[an_idx]):0.3f}', color='black', bold=True)\n",
    "\t\t# j_str = generate_html_string('j', color='red', bold=True)\n",
    "\t\ta_plotter.ui.long_info_label.setText(generate_html_string(f'LONG best_dir_z_score_value: {long_best_dir_z_score_value_str}'))\n",
    "\t\ta_plotter.ui.short_info_label.setText(generate_html_string(f'SHORT best_dir_z_score_value: {short_best_dir_z_score_value_str}'))\n",
    "\telse:\n",
    "\t\tprint(f'WARN: debug_update_long_short_info_titles(...) but plotter does not have the `a_plotter.ui.long_info_label`')\n",
    "\t\t\n",
    "\n",
    "\n",
    "curr_active_pipeline.reload_default_display_functions()\n",
    "# epoch_active_aclus = np.array([9,  26,  31,  39,  40,  43,  47,  52,  53,  54,  60,  61,  65,  68,  72,  75,  77,  78,  81,  82,  84,  85,  90,  92,  93,  98, 102]) # some test indicies\n",
    "epoch_active_aclus = None\n",
    "_out_directional_template_pfs_debugger = curr_active_pipeline.display(DirectionalPlacefieldGlobalDisplayFunctions._display_directional_template_debugger, included_any_context_neuron_ids=epoch_active_aclus, figure_name=f'<Controlled by RankOrderRastersDebugger>')\n",
    "\n",
    "\n",
    "def debug_update_paired_directional_template_pfs_debugger(a_plotter, an_idx: int):\n",
    "\t\"\"\" captures: _out_directional_template_pfs_debugger, \"\"\"\n",
    "\tepoch_active_aclus = deepcopy(a_plotter.get_epoch_active_aclus())\n",
    "\t# update the displayed cells:\n",
    "\tdirectional_template_pfs_debugger_on_update_callback = _out_directional_template_pfs_debugger.get('ui').on_update_callback\n",
    "\tdirectional_template_pfs_debugger_on_update_callback(epoch_active_aclus)\n",
    "\n",
    "\n",
    "\n",
    "\n",
    "import io\n",
    "from contextlib import redirect_stdout # used by DocumentationFilePrinter to capture print output\n",
    "\n",
    "def a_debug_callback_fn(a_plotter, an_idx: int):\n",
    "\tglobal epoch_active_aclus, _out_directional_template_pfs_debugger\n",
    "\tout = io.StringIO()\n",
    "\t# _out.on_update_epoch_IDX(an_idx)\n",
    "\twith redirect_stdout(out):\n",
    "\t\tprint(f'active_epoch_IDX: {an_idx}')\n",
    "\t\tprint(f'')\n",
    "\t\tprint(f'LR_long_relative_real_values[an_idx]: {LR_long_relative_real_values[an_idx]}, LR_long_relative_real_p_values[an_idx]: {LR_long_relative_real_p_values[an_idx]}')\n",
    "\t\tprint(f'LR_short_relative_real_values[an_idx]: {LR_short_relative_real_values[an_idx]}, LR_short_relative_real_p_values[an_idx]: {LR_short_relative_real_p_values[an_idx]}')\n",
    "\t\tprint(f'LR_ripple.long_z_score[an_idx]: {rank_order_results.LR_ripple.long_z_score[an_idx]}, LR_ripple.short_z_score[an_idx]: {rank_order_results.LR_ripple.short_z_score[an_idx]}')\n",
    "\t\tprint(f'RL_long_relative_real_values[an_idx]: {RL_long_relative_real_values[an_idx]}, RL_long_relative_real_p_values[an_idx]: {RL_long_relative_real_p_values[an_idx]}')\n",
    "\t\tprint(f'RL_short_relative_real_values[an_idx]: {RL_short_relative_real_values[an_idx]}, RL_short_relative_real_p_values[an_idx]: {RL_short_relative_real_p_values[an_idx]}')\n",
    "\t\tprint(f'RL_ripple.long_z_score[an_idx]: {rank_order_results.RL_ripple.long_z_score[an_idx]}, RL_ripple.short_z_score[an_idx]: {rank_order_results.RL_ripple.short_z_score[an_idx]}')\n",
    "\t\tprint(f'LR_relative_num_cells[an_idx]: {LR_relative_num_cells[an_idx]}, RL_relative_num_cells[an_idx]: {RL_relative_num_cells[an_idx]}')\n",
    "\t\tprint(f'LR_template_epoch_actually_included_aclus[an_idx]: {LR_template_epoch_actually_included_aclus[an_idx]}, RL_template_epoch_actually_included_aclus[an_idx]: {RL_template_epoch_actually_included_aclus[an_idx]}')\n",
    "\t\t# display(LR_template_epoch_actually_included_aclus[an_idx])\n",
    "\t\t# display(RL_template_epoch_actually_included_aclus[an_idx])\n",
    "\t\tepoch_active_aclus = np.sort(union_of_arrays(LR_template_epoch_actually_included_aclus[an_idx], RL_template_epoch_actually_included_aclus[an_idx]))\n",
    "\t\tprint(f'epoch_active_aclus: {epoch_active_aclus}')\n",
    "\t\t\n",
    "\ta_plotter.write_to_log(str(out.getvalue()))\n",
    "\t# # update the displayed cells:\n",
    "\t# directional_template_pfs_debugger_on_update_callback = _out_directional_template_pfs_debugger.get('ui').on_update_callback\n",
    "\t# directional_template_pfs_debugger_on_update_callback(epoch_active_aclus)\n",
    "\t# _out_directional_template_pfs_debugger = curr_active_pipeline.display(DirectionalPlacefieldGlobalDisplayFunctions._display_directional_template_debugger, included_any_context_neuron_ids=epoch_active_aclus)\n",
    "\t\n",
    "\t# rank_order_results.ripple_most_likely_result_tuple.long_short_best_dir_z_score_diff_values[an_idx]\n",
    "\t# display(LR_template_epoch_actually_included_aclus[an_idx])\n",
    "\t# display(RL_template_epoch_actually_included_aclus[an_idx])\n",
    "\n",
    "\n",
    "_out_rank_order_event_raster_debugger.on_idx_changed_callback_function_dict['a_debug_callback'] = a_debug_callback_fn\n",
    "_out_rank_order_event_raster_debugger.on_idx_changed_callback_function_dict['debug_update_plot_titles_callback'] = debug_update_plot_titles\n",
    "_out_rank_order_event_raster_debugger.on_idx_changed_callback_function_dict['debug_update_paired_directional_template_pfs_debugger'] = debug_update_paired_directional_template_pfs_debugger\n",
    "_out_rank_order_event_raster_debugger.on_idx_changed_callback_function_dict['debug_update_long_short_info_titles'] = debug_update_long_short_info_titles\n"
   ]
  },
  {
   "cell_type": "code",
   "execution_count": 10,
   "id": "32db858d",
   "metadata": {
    "notebookRunGroups": {
     "groupValue": "1"
    }
   },
   "outputs": [
    {
     "name": "stdout",
     "output_type": "stream",
     "text": [
      "a_df_idx: 298\n",
      "a_decoder_name: long_LR, a_real_value: 0.623\n",
      "a_decoder_name: long_RL, a_real_value: 0.311\n",
      "a_decoder_name: short_LR, a_real_value: 0.542\n",
      "a_decoder_name: short_RL, a_real_value: 0.210\n",
      "len(included_any_context_neuron_ids_dict_dict) != len(decoders_dict), assuming this is a single included_any_context_neuron_ids_dict for all decoders like used in `paired_incremental_sort_neurons(...)`. Fixing. \n"
     ]
    }
   ],
   "source": [
    "_out_rank_order_event_raster_debugger.on_update_epoch_IDX(298)"
   ]
  },
  {
   "cell_type": "code",
   "execution_count": null,
   "id": "32cef07a",
   "metadata": {},
   "outputs": [],
   "source": [
    "from pyphoplacecellanalysis.GUI.PyQtPlot.DockingWidgets.DynamicDockDisplayAreaContent import CustomDockDisplayConfig\n",
    "\n",
    "root_dockAreaWindow = _out_rank_order_event_raster_debugger.ui.root_dockAreaWindow"
   ]
  },
  {
   "cell_type": "code",
   "execution_count": 12,
   "id": "4f75bafe",
   "metadata": {},
   "outputs": [
    {
     "data": {
      "text/plain": [
       "DirectionalRankOrderResult(active_epochs=           start         stop label  duration\n",
       "0      42.658077    42.690456     0  0.032379\n",
       "1      55.723809    55.897899     1  0.174090\n",
       "2      73.681176    73.949576     2  0.268401\n",
       "3      92.642502    92.770758     3  0.128256\n",
       "4      93.027055    93.465245     4  0.438190\n",
       "5      93.924754    94.080320     5  0.155566\n",
       "..           ...          ...   ...       ...\n",
       "409  1729.689083  1730.227666   417  0.538583\n",
       "410  1731.111480  1731.287905   418  0.176425\n",
       "411  1731.779578  1731.848606   419  0.069028\n",
       "412  1733.729959  1733.857078   420  0.127119\n",
       "413  1734.961032  1735.034760   421  0.073728\n",
       "414  1736.892796  1736.958814   422  0.066017\n",
       "\n",
       "[415 rows x 4 columns], long_best_dir_z_score_values=array([-0.511514, 0.112196, -2.20105, 2.48575, 1.91613, 0.969802, 2.14045, 0.906663, 2.85731, 0.516661, 0.341008, -3.40529, 0.587579, -0.801822, -3.09048, -0.653221, 0.189693, -3.55923, 0.666999, -1.44337, -1.91074, 0.892501, 2.77347, -1.0557, -0.6428, -0.779985, -1.02757, -1.20163, -2.05477, -0.00538332, 0.28339, -2.07176, 0.463556, -1.0538, 0.766966, 1.06995, -1.61053, -0.280241, -0.418186, -0.510751, 0.0753441, -0.0135995, -0.752705, -0.903229, -1.5074, -0.011688, 0.209242, -2.43862, -4.52632, -1.64558, 2.1703, -0.149941, -1.43856, 0.164747, 1.20394, 0.432062, 0.323133, 1.16867, 0.809314, -2.52271, 0.201071, -0.824742, 0.75105, 2.49789, 0.755043, 0.977858, -0.374847, 0.330246, 1.19276, -0.206535, 2.49806, 1.48274, -1.07824, -0.98296, -0.862842, -1.78914, 0.289878, 0.29752, -1.99943, 0.349477, -0.757389, -1.79362, -2.12076, -1.25954, 2.67403, 2.59914, 1.687, 1.62483, 0.338907, 1.4339, -0.0184753, 3.4403, -0.855463, 1.85943, -0.473452, 1.35491, 1.29424, -0.116486, 1.25004, -0.526561, -0.0948353, 3.20525, 0.0797026, -1.28629, 2.6319, 1.39698, 2.98872, -2.51502, -1.21669, -2.82118, -3.06496, -0.900012, 0.556696, 2.87788, 0.23766, -0.174993, -0.316561, -0.63084, 1.48183, 0.73184, -0.390924, -1.75672, 1.64712, 0.409291, -1.47577, 2.52767, -1.80099, -3.84813, -1.01485, -0.332113, 0.463228, -1.38617, -0.306288, -1.56843, -1.35487, -3.87507, -1.66848, 0.712063, -0.417261, 0.104712, 0.286268, -1.34594, 0.0917354, -0.591911, 2.65389, 0.0315655, 0.733174, 1.13065, -0.750233, 0.689879, 2.51833, 1.88575, 1.5109, -2.20267, -2.25165, 2.28362, -1.1413, -2.40624, -1.67145, -0.761892, 0.841483, 1.86143, 0.804046, -1.79902, 2.71543, -1.45097, 1.80074, -0.177429, -1.43626, -1.38455, -0.769521, -2.02572, -0.498533, -0.626011, -0.248659, 0.134536, -0.994517, -2.18231, 0.339271, -0.303541, -1.69934, 2.43139, 0.374607, -3.18487, -0.510787, -0.210525, 0.566473, -1.63996, 1.35667, -0.823606, 1.48528, 1.84846, -0.967573, 1.24806, -0.829984, -0.603675, -1.4559, -1.71926, 0.997628, -2.82444, 0.85794, 0.321463, 1.05197, -1.1743, 2.40329, -1.60401, 0.3819, 0.518646, -1.05791, 1.04827, -0.486918, -1.43895, 0.272228, -0.447509, -0.190691, 0.945649, 0.509517, 1.16, -0.149547, -0.531466, 0.571041, 0.259078, 0.679819, -1.97324, -0.969787, -1.52669, -1.9208, 0.553155, -0.691313, -1.46336, 2.90881, -1.19614, 2.47303, -2.10444, 2.34616, 2.03206, -1.97094, -2.46191, -1.42837, 0.323454, 0.544469, -0.932561, 2.47988, 1.96266, 0.998547, 1.39497, 2.68915, 1.06532, -0.597271, 0.654781, 1.54636, -0.720114, -0.536363, 2.11248, -1.62763, 0.165569, -2.09604, -0.880691, 0.311924, -0.654339, 1.48849, 2.33806, 0.176116, 0.237345, 4.19394, 0.197528, 1.11767, -2.40213, 0.097648, 1.60882, 1.06819, -2.18215, 0.703942, -0.447923, 0.952689, 0.110921, -1.08195, -1.26491, -0.644111, 1.46364, 2.84173, -0.826189, 0.255712, -1.33686, 0.0727486, -0.329885, 0.381346, 1.90085, 1.74588, -2.54296, 1.65534, -0.443455, -0.0703715, 0.414549, 1.51276, -2.93221, -0.281885, -3.01238, 3.12169, -0.0588809, 2.70564, -1.33712, 3.72203, -1.59812, -2.81059, -0.00737431, 0.344685, 2.87112, -1.96806, -1.65839, 0.0728149, 1.72772, -0.882511, -3.01444, -2.27708, -0.331787, -3.76175, -4.59651, -0.622046, 0.683369, -1.48442, 1.5253, 1.27904, -2.14122, 2.1344, 1.15473, 3.40349, 1.70845, 1.44058, -0.868382, -1.72942, -1.00014, -1.35089, 2.8243, -0.146722, -2.72216, -0.947627, -1.61107, 0.90108, -1.39009, -0.408467, -0.566409, -0.908552, 1.35494, -1.17973, -2.00962, -1.44475, 1.26811, 0.676337, -4.76253, -1.00512, 2.43181, 1.28474, -0.801412, 0.0350919, -2.74363, -0.729012, -1.47821, -1.82975, -1.66263, -0.791528, 1.85375, -1.8551, 0.00362711, -2.41008, 1.62372, -1.32319, 0.0667078, -0.397974, -1.86737, -0.55481, -1.96388, 1.20703, -0.596126, 0.13135, -2.11217, 1.42315, -2.26905, 0.68767, 1.80458, 0.291318, -3.09918, 1.53957, 0.905166, -0.488455, 1.19307, 0.494855, -1.1811, 0.88667, 1.27495, -1.80201, -0.670729, 0.949981, 0.558554, 0.635464, -3.1649, -0.942472, -1.75103, -1.93798, 0.210233, -0.61763, -0.820858, 1.50799, -2.03489, -1.57841, -0.498839, -1.13763, -0.598492, -0.209433, 1.31391, -0.433552, 0.347229, 1.52543, 1.87565, -0.160283]), short_best_dir_z_score_values=array([-0.698993, -0.75477, -2.00045, 2.70712, 1.40668, 0.969802, 1.47674, 1.76509, 2.4337, -0.370126, -0.0186792, -4.15864, -1.42125, -0.994084, -2.98622, -0.384844, 0.190525, -3.46907, -0.0562808, -1.34708, -1.73285, 0.694314, 1.85955, -1.22318, -1.03156, -0.0400746, -0.933009, -1.50356, -1.65671, 0.139232, 0.28141, -2.29831, -0.189545, -0.488452, 1.01083, 0.0828504, -1.31155, -0.173363, 0.367587, -1.04262, 0.141368, 0.689485, -1.17287, -0.392385, -1.35311, -1.22842, -0.550673, -2.39577, -4.36139, -1.0767, 1.92522, -1.42487, -1.49498, 0.954869, 0.63527, -0.133039, 0.568429, 0.995957, 1.23402, -2.18248, 0.201071, -0.615481, 0.829488, 0.724752, -0.673118, 1.57967, 1.09915, 0.00268834, 0.224141, 0.435791, 2.56022, 2.08279, -0.281491, -1.23819, -1.55866, -2.0621, 0.824983, 1.13484, -2.0168, 0.314457, -1.43045, -1.74156, -1.80418, -0.247413, 2.68843, 2.9988, 1.79725, 2.77153, 0.503683, 1.81819, 0.745967, 3.29447, -1.71532, 2.0631, -0.390211, 1.89254, 1.71743, -0.73371, 0.0353275, -1.13096, 0.654948, 3.14709, 0.517721, -1.42568, 1.79659, 1.31069, 2.08646, -1.53733, -1.50697, -3.12873, -2.44057, -1.43995, 0.747121, 2.59178, 1.08569, 0.10224, -1.33913, -1.14764, 2.27615, 0.73184, -0.50911, -1.32734, 1.4053, -0.0757433, -0.928039, 1.52934, -2.19514, -3.32347, -0.0825207, -0.795378, 0.380253, -2.09806, 0.00459666, -1.09665, -1.19876, -3.60441, -1.60077, 0.462967, -1.01233, 0.370343, 1.06913, -1.43953, 1.4741, 0.183681, 1.49328, -2.02095, 0.942726, 0.833542, 0.250685, -0.559567, 2.60818, 2.21073, 1.5839, -2.50606, -1.84771, 1.97449, 1.37961, -1.42478, -1.23502, -0.91081, 1.65279, 1.30675, 0.699051, -1.31735, 2.59145, -0.727548, 2.06983, 0.887557, -1.35923, -1.26096, -0.456351, -1.7492, -0.40283, -0.266038, 1.01818, -0.417348, -1.04151, -1.70728, -0.458137, -0.108328, -1.55594, 2.58679, 0.883815, -3.07395, 0.132026, -0.334589, 0.958743, -1.52236, -0.555989, -0.517835, 1.32227, 2.30016, -1.16259, 0.55079, -0.55485, -1.2213, -0.513835, -2.03641, -0.0693318, -2.72218, 0.218777, -0.497604, 1.06397, -2.08394, 1.85212, -0.969803, -0.069779, -0.313743, -0.751122, 1.22147, -0.552633, -0.789945, 0.0408385, 0.228175, 0.311716, 1.05489, 0.923246, 0.879282, -0.476411, -0.542539, 0.20469, 0.404216, -0.193797, -1.56771, -1.83447, -1.83272, -2.24449, -0.490108, 0.218013, -1.15851, 3.35494, -1.76487, 2.47654, -1.45278, 1.79632, 2.00707, -0.234939, -1.32456, -1.10065, -0.023231, 1.2661, 1.07997, 2.35203, 1.80353, 0.998547, 1.64744, 2.57113, 0.419799, -1.16842, 1.32582, 1.7881, -0.881057, 0.756787, 1.31219, -1.81185, 0.695197, -1.76736, -0.579653, 0.12438, -0.215146, 1.55894, 2.63945, -1.1561, -0.618455, 3.84904, 0.457744, 1.25551, -1.93228, -0.428872, 1.56208, 1.755, -2.5482, 0.619677, -0.211712, 0.684935, 0.535195, -1.87785, -0.663342, -0.84456, 1.05119, 2.20445, 0.337365, -0.609072, -0.857083, -0.0963987, 0.211059, 0.00114651, 1.63337, 1.97009, -2.69546, 1.40579, -0.818393, 0.673392, -1.13667, 1.56822, -3.52865, -0.354855, -2.6056, 2.70568, 0.200488, 1.98908, -0.98442, 3.32038, -1.98735, -2.34411, -0.372765, 1.30926, 3.12858, -1.68154, -0.646339, 0.270855, 2.13458, -0.456019, -2.27113, -1.67912, 0.710927, -4.36159, -4.74103, -0.747883, 0.9449, -1.40288, 0.0421208, 1.52202, -2.77028, 2.72056, 1.4063, 4.08194, 1.29382, 2.2611, -0.345122, -2.73869, -0.799525, -0.693074, 3.36996, -0.611487, -2.42274, -0.517072, -1.29469, 0.694459, -1.39009, 0.274011, 1.07226, 0.013836, 1.09411, -1.1387, -2.05574, -1.08894, 0.422973, 1.32479, -4.76114, -0.580138, 2.19441, 1.04756, -0.731125, -1.01172, -2.9784, -1.49227, -1.24285, -0.662681, -1.76915, -0.440495, 1.32395, -2.29872, 1.00122, -2.2316, 2.13561, -1.22382, 0.372335, -1.06947, -1.24895, -0.533561, -1.82827, 1.9519, 0.306677, 0.935788, -2.4593, 0.18418, -1.52315, 1.40057, 1.83538, 0.773447, -3.53997, 2.04974, -0.919771, -0.120728, 1.62369, -0.0873087, -0.924619, 1.94452, -0.767478, -1.37588, 0.794198, 1.57226, 0.3754, -0.359546, -3.62745, -0.306713, -1.5697, -1.52344, 0.229658, -1.42756, 0.690591, 0.677336, -1.68709, -1.76545, -0.592532, -2.30141, -1.02344, -2.05466, 1.68805, -1.61228, 0.48274, 1.48407, 2.45937, -0.0997994]), long_short_best_dir_z_score_diff_values=array([0.187478, 0.866966, -0.200602, -0.221373, 0.509457, 0, 0.663716, -0.858431, 0.423609, 0.886787, 0.359687, 0.75335, 2.00883, 0.192262, -0.104262, -0.268377, -0.000831706, -0.0901562, 0.72328, -0.0962954, -0.17789, 0.198187, 0.913929, 0.16748, 0.388762, -0.73991, -0.0945577, 0.301929, -0.398052, -0.144616, 0.00198079, 0.226542, 0.653101, -0.565349, -0.243862, 0.987102, -0.298977, -0.106878, -0.785773, 0.531873, -0.0660242, -0.703085, 0.420168, -0.510843, -0.154298, 1.21673, 0.759915, -0.0428557, -0.164929, -0.56888, 0.245085, 1.27493, 0.0564179, -0.790122, 0.568674, 0.565101, -0.245296, 0.172716, -0.424701, -0.340229, 0, -0.20926, -0.0784379, 1.77314, 1.42816, -0.601808, -1.474, 0.327558, 0.968623, -0.642326, -0.0621654, -0.600056, -0.796749, 0.255232, 0.695818, 0.272962, -0.535105, -0.837322, 0.0173624, 0.0350205, 0.673061, -0.0520676, -0.316582, -1.01213, -0.014396, -0.399662, -0.110249, -1.14671, -0.164777, -0.384291, -0.764443, 0.145824, 0.859857, -0.203671, -0.0832412, -0.537626, -0.423189, 0.617224, 1.21471, 0.604403, -0.749784, 0.0581687, -0.438018, 0.139387, 0.835306, 0.0862877, 0.902259, -0.977694, 0.290279, 0.307555, -0.624386, 0.539937, -0.190425, 0.286097, -0.848028, -0.277233, 1.02257, 0.516796, -0.794316, 0, 0.118186, -0.429377, 0.241816, 0.485034, -0.547729, 0.998328, 0.394144, -0.524661, -0.932327, 0.463265, 0.0829751, 0.711892, -0.310884, -0.471783, -0.156112, -0.270658, -0.0677121, 0.249096, 0.595067, -0.265631, -0.782864, 0.0935917, -1.38236, -0.775592, 1.16062, 2.05251, -0.209553, 0.297103, -1.00092, 1.24945, -0.0898475, -0.324986, -0.0729905, 0.30339, -0.403938, 0.309134, -2.52091, -0.981463, -0.436435, 0.148918, -0.811308, 0.554685, 0.104994, -0.481667, 0.123977, -0.723424, -0.269087, -1.06499, -0.0770292, -0.123585, -0.31317, -0.276519, -0.0957025, -0.359973, -1.26684, 0.551884, 0.0469957, -0.475024, 0.797408, -0.195213, -0.143404, -0.155399, -0.509208, -0.110919, -0.642814, 0.124064, -0.39227, -0.117597, 1.91266, -0.305771, 0.163007, -0.451697, 0.19502, 0.697271, -0.275134, 0.617627, -0.94207, 0.31715, 1.06696, -0.102261, 0.639163, 0.819066, -0.0120044, 0.909641, 0.551166, -0.634205, 0.451679, 0.832389, -0.306785, -0.1732, 0.0657146, -0.649002, 0.23139, -0.675684, -0.502407, -0.109242, -0.413729, 0.280715, 0.326864, 0.0110727, 0.366352, -0.145138, 0.873616, -0.405524, 0.864687, 0.306027, 0.323691, 1.04326, -0.909327, -0.304852, -0.446135, 0.568737, -0.00351357, -0.651657, 0.54984, 0.0249859, -1.736, -1.13734, -0.327716, 0.346685, -0.721628, -2.01253, 0.127849, 0.159132, 0, -0.252477, 0.118021, 0.645519, 0.57115, -0.671042, -0.241738, 0.160943, -1.29315, 0.800291, 0.184227, -0.529627, -0.328686, -0.301038, 0.187544, -0.439193, -0.0704502, -0.301389, 1.33221, 0.8558, 0.344897, -0.260216, -0.137842, -0.469848, 0.52652, 0.0467378, -0.686808, 0.366056, 0.0842654, -0.236211, 0.267753, -0.424274, 0.7959, -0.60157, 0.200449, 0.412449, 0.637283, -1.16355, 0.864783, -0.479778, 0.169147, -0.540944, 0.380199, 0.267476, -0.224206, 0.152496, 0.249556, 0.374938, -0.743763, 1.55122, -0.0554619, 0.596442, 0.0729694, -0.406779, 0.41601, -0.259369, 0.716556, -0.3527, 0.401645, 0.389236, -0.466485, 0.365391, -0.964574, -0.257457, -0.286527, -1.01205, -0.19804, -0.406861, -0.426492, -0.743309, -0.597958, -1.04271, 0.599833, 0.144521, 0.125838, -0.261531, -0.0815327, 1.48318, -0.242982, 0.62906, -0.586157, -0.251572, -0.678455, 0.414621, -0.820518, -0.52326, 1.00927, -0.200616, -0.657813, -0.545656, 0.464765, -0.299425, -0.430554, -0.316381, 0.20662, 0, -0.682478, -1.63867, -0.922388, 0.260831, -0.0410342, 0.0461248, -0.355811, 0.845141, -0.648456, -0.0013915, -0.424984, 0.237406, 0.237179, -0.0702871, 1.04681, 0.234778, 0.763255, -0.235369, -1.16706, 0.106516, -0.351033, 0.529798, 0.443621, -0.997595, -0.178486, -0.511886, -0.0993679, -0.305628, 0.671499, -0.618416, -0.021249, -0.135613, -0.744866, -0.902803, -0.804437, 0.34713, 1.23897, -0.7459, -0.712897, -0.0307985, -0.482129, 0.440792, -0.510171, 1.82494, -0.367728, -0.430618, 0.582164, -0.256479, -1.05785, 2.04243, -0.426131, -1.46493, -0.622282, 0.183154, 0.99501, 0.462554, -0.635759, -0.181333, -0.414541, -0.0194242, 0.809929, -1.51145, 0.830653, -0.347802, 0.187041, 0.0936932, 1.16378, 0.424953, 1.84522, -0.374145, 1.17872, -0.135511, 0.0413659, -0.583718, -0.0604837]), directional_likelihoods_tuple=DirectionalRankOrderLikelihoods(long_relative_direction_likelihoods=array([[0, 1],\n",
       "       [0.284838, 0.715162],\n",
       "       [0.37248, 0.62752],\n",
       "       [0.269014, 0.730986],\n",
       "       [0.262758, 0.737242],\n",
       "       [0.161408, 0.838592],\n",
       "       [0.358685, 0.641315],\n",
       "       [0, 1],\n",
       "       [0, 1],\n",
       "       [0.242112, 0.757888],\n",
       "       [0.30264, 0.69736],\n",
       "       [0.110051, 0.889949],\n",
       "       [0, 1],\n",
       "       [0, 1],\n",
       "       [0, 1],\n",
       "       [0.288229, 0.711771],\n",
       "       [0, 1],\n",
       "       [0, 1],\n",
       "       [0, 1],\n",
       "       [0.134507, 0.865493],\n",
       "       [0.0807041, 0.919296],\n",
       "       [0, 1],\n",
       "       [0.146735, 0.853265],\n",
       "       [0.0620801, 0.93792],\n",
       "       [0.470774, 0.529226],\n",
       "       [0, 1],\n",
       "       [0.374698, 0.625302],\n",
       "       [0.225971, 0.774029],\n",
       "       [0.194803, 0.805197],\n",
       "       [0, 1],\n",
       "       [0, 1],\n",
       "       [0.115292, 0.884708],\n",
       "       [0.0672534, 0.932747],\n",
       "       [0, 1],\n",
       "       [0, 1],\n",
       "       [0.24832, 0.75168],\n",
       "       [0, 1],\n",
       "       [0.10088, 0.89912],\n",
       "       [0, 1],\n",
       "       [0.361777, 0.638223],\n",
       "       [0.480381, 0.519619],\n",
       "       [0, 1],\n",
       "       [0.10088, 0.89912],\n",
       "       [0.220102, 0.779898],\n",
       "       [0.146735, 0.853265],\n",
       "       [0.134507, 0.865493],\n",
       "       [0.237365, 0.762635],\n",
       "       [0.288229, 0.711771],\n",
       "       [0.0712095, 0.928791],\n",
       "       [0.134507, 0.865493],\n",
       "       [0.382283, 0.617717],\n",
       "       [0.115292, 0.884708],\n",
       "       [0.10088, 0.89912],\n",
       "       [0.293469, 0.706531],\n",
       "       [0, 1],\n",
       "       [0.237365, 0.762635],\n",
       "       [0.188882, 0.811118],\n",
       "       [0.269014, 0.730986],\n",
       "       [0.220102, 0.779898],\n",
       "       [0, 1],\n",
       "       [0.0733674, 0.926633],\n",
       "       [0.388, 0.612],\n",
       "       [0.331094, 0.668906],\n",
       "       [0, 1],\n",
       "       [0.134507, 0.865493],\n",
       "       [0.0672534, 0.932747],\n",
       "       [0.0896712, 0.910329],\n",
       "       [0.20176, 0.79824],\n",
       "       [0, 1],\n",
       "       [0.236207, 0.763793],\n",
       "       [0, 1],\n",
       "       [0.297331, 0.702669],\n",
       "       [0.258253, 0.741747],\n",
       "       [0.293469, 0.706531],\n",
       "       [0.18624, 0.81376],\n",
       "       [0.269014, 0.730986],\n",
       "       [0.489989, 0.510011],\n",
       "       [0.10088, 0.89912],\n",
       "       [0.348495, 0.651505],\n",
       "       [0.115292, 0.884708],\n",
       "       [nan, nan],\n",
       "       [0.225971, 0.774029],\n",
       "       [0.168134, 0.831866],\n",
       "       [0.161408, 0.838592],\n",
       "       [0.10088, 0.89912],\n",
       "       [0.166155, 0.833845],\n",
       "       [0.220102, 0.779898],\n",
       "       [0.179342, 0.820658],\n",
       "       [0.394553, 0.605447],\n",
       "       [0.256786, 0.743214],\n",
       "       [0.20176, 0.79824],\n",
       "       [0.22698, 0.77302],\n",
       "       [0.269014, 0.730986],\n",
       "       [0, 1],\n",
       "       [0.0384305, 0.961569],\n",
       "       [0.130168, 0.869832],\n",
       "       [0.283555, 0.716445],\n",
       "       [0.269014, 0.730986],\n",
       "       [0.368933, 0.631067],\n",
       "       [0.171711, 0.828289],\n",
       "       [0.172937, 0.827063],\n",
       "       [0.166974, 0.833026],\n",
       "       [0.10088, 0.89912],\n",
       "       [0.0672534, 0.932747],\n",
       "       [0.0807041, 0.919296],\n",
       "       [0, 1],\n",
       "       [0, 1],\n",
       "       [0.122279, 0.877721],\n",
       "       [0.172937, 0.827063],\n",
       "       [0, 1],\n",
       "       [0.127428, 0.872572],\n",
       "       [0.0896712, 0.910329],\n",
       "       [0.358685, 0.641315],\n",
       "       [0.189892, 0.810108],\n",
       "       [0.24832, 0.75168],\n",
       "       [0.127428, 0.872572],\n",
       "       [0, 1],\n",
       "       [0, 1],\n",
       "       [0.448356, 0.551644],\n",
       "       [0.10088, 0.89912],\n",
       "       [0.318569, 0.681431],\n",
       "       [0.421065, 0.578935],\n",
       "       [0.140355, 0.859645],\n",
       "       [0.245621, 0.754379],\n",
       "       [0.20176, 0.79824],\n",
       "       [0, 1],\n",
       "       [0, 1],\n",
       "       [0.0298904, 0.97011],\n",
       "       [0.421065, 0.578935],\n",
       "       [0.0896712, 0.910329],\n",
       "       [0.094946, 0.905054],\n",
       "       [0.415748, 0.584252],\n",
       "       [0, 1],\n",
       "       [0.0733674, 0.926633],\n",
       "       [0.358685, 0.641315],\n",
       "       [0.18624, 0.81376],\n",
       "       [0.0576458, 0.942354],\n",
       "       [0.0896712, 0.910329],\n",
       "       [0.12416, 0.87584],\n",
       "       [0.12416, 0.87584],\n",
       "       [0, 1],\n",
       "       [0.0896712, 0.910329],\n",
       "       [0.115292, 0.884708],\n",
       "       [0, 1],\n",
       "       [0.040352, 0.959648],\n",
       "       [0.443873, 0.556127],\n",
       "       [0, 1],\n",
       "       [0, 1],\n",
       "       [0.313849, 0.686151],\n",
       "       [0.230583, 0.769417],\n",
       "       [0.317052, 0.682948],\n",
       "       [0.307444, 0.692556],\n",
       "       [0.107605, 0.892395],\n",
       "       [0, 1],\n",
       "       [0, 1],\n",
       "       [0.32786, 0.67214],\n",
       "       [0, 1],\n",
       "       [0.134507, 0.865493],\n",
       "       [0, 1],\n",
       "       [0.333948, 0.666052],\n",
       "       [0.119562, 0.880438],\n",
       "       [0.161408, 0.838592],\n",
       "       [0.242112, 0.757888],\n",
       "       [0.169903, 0.830097],\n",
       "       [0.094946, 0.905054],\n",
       "       [0.19369, 0.80631],\n",
       "       [0.161408, 0.838592],\n",
       "       [0.134507, 0.865493],\n",
       "       [0, 1],\n",
       "       [0.212379, 0.787621],\n",
       "       [0, 1],\n",
       "       [0.15132, 0.84868],\n",
       "       [0.336267, 0.663733],\n",
       "       [0.134507, 0.865493],\n",
       "       [nan, nan],\n",
       "       [0.172937, 0.827063],\n",
       "       [0.18624, 0.81376],\n",
       "       [0, 1],\n",
       "       [0.484225, 0.515775],\n",
       "       [0.144114, 0.855886],\n",
       "       [0.15132, 0.84868],\n",
       "       [0.0733674, 0.926633],\n",
       "       [0.20176, 0.79824],\n",
       "       [0.0620801, 0.93792],\n",
       "       [0, 1],\n",
       "       [0.0733674, 0.926633],\n",
       "       [0.142419, 0.857581],\n",
       "       [0.142419, 0.857581],\n",
       "       [0.115292, 0.884708],\n",
       "       [0, 1],\n",
       "       [0.30264, 0.69736],\n",
       "       [0.24832, 0.75168],\n",
       "       [0, 1],\n",
       "       [0.0896712, 0.910329],\n",
       "       [0, 1],\n",
       "       [0.350887, 0.649113],\n",
       "       [0.115292, 0.884708],\n",
       "       [0.358685, 0.641315],\n",
       "       [0, 1],\n",
       "       [0, 1],\n",
       "       [0.222632, 0.777368],\n",
       "       [0.43456, 0.56544],\n",
       "       [0.423696, 0.576304],\n",
       "       [0.30264, 0.69736],\n",
       "       [0, 1],\n",
       "       [0.115292, 0.884708],\n",
       "       [0, 1],\n",
       "       [0, 1],\n",
       "       [0, 1],\n",
       "       [0.0896712, 0.910329],\n",
       "       [0, 1],\n",
       "       [0.0298904, 0.97011],\n",
       "       [0.0849517, 0.915048],\n",
       "       [0.142419, 0.857581],\n",
       "       [0.24832, 0.75168],\n",
       "       [0.169903, 0.830097],\n",
       "       [0.230583, 0.769417],\n",
       "       [0.0733674, 0.926633],\n",
       "       [0.0701775, 0.929823],\n",
       "       [0.134507, 0.865493],\n",
       "       [0, 1],\n",
       "       [0.269014, 0.730986],\n",
       "       [0.18624, 0.81376],\n",
       "       [0.306119, 0.693881],\n",
       "       [0.254855, 0.745145],\n",
       "       [0, 1],\n",
       "       [0.236207, 0.763793],\n",
       "       [0.37248, 0.62752],\n",
       "       [0.256786, 0.743214],\n",
       "       [0.094946, 0.905054],\n",
       "       [0.156201, 0.843799],\n",
       "       [0, 1],\n",
       "       [0.291431, 0.708569],\n",
       "       [0.40352, 0.59648],\n",
       "       [0.33749, 0.66251],\n",
       "       [0, 1],\n",
       "       [0.10088, 0.89912],\n",
       "       [0, 1],\n",
       "       [0.18624, 0.81376],\n",
       "       [0.115292, 0.884708],\n",
       "       [0.1552, 0.8448],\n",
       "       [0.230583, 0.769417],\n",
       "       [0, 1],\n",
       "       [0.293469, 0.706531],\n",
       "       [0, 1],\n",
       "       [0.237365, 0.762635],\n",
       "       [0.269014, 0.730986],\n",
       "       [0, 1],\n",
       "       [0.269014, 0.730986],\n",
       "       [0.189892, 0.810108],\n",
       "       [0, 1],\n",
       "       [0.20176, 0.79824],\n",
       "       [0.345875, 0.654125],\n",
       "       [0.2522, 0.7478],\n",
       "       [0, 1],\n",
       "       [0.379784, 0.620216],\n",
       "       [0.0620801, 0.93792],\n",
       "       [0, 1],\n",
       "       [0, 1],\n",
       "       [0, 1],\n",
       "       [0.27829, 0.72171],\n",
       "       [0.242112, 0.757888],\n",
       "       [0.269014, 0.730986],\n",
       "       [0.172937, 0.827063],\n",
       "       [0.0896712, 0.910329],\n",
       "       [0.134507, 0.865493],\n",
       "       [0.161408, 0.838592],\n",
       "       [0.322816, 0.677184],\n",
       "       [0.0807041, 0.919296],\n",
       "       [0.0672534, 0.932747],\n",
       "       [0.269014, 0.730986],\n",
       "       [0, 1],\n",
       "       [0, 1],\n",
       "       [0.37248, 0.62752],\n",
       "       [0.470774, 0.529226],\n",
       "       [0.18624, 0.81376],\n",
       "       [0, 1],\n",
       "       [0, 1],\n",
       "       [0, 1],\n",
       "       [0, 1],\n",
       "       [0.149452, 0.850548],\n",
       "       [0, 1],\n",
       "       [0, 1],\n",
       "       [nan, nan],\n",
       "       [0, 1],\n",
       "       [0, 1],\n",
       "       [0.0807041, 0.919296],\n",
       "       [0, 1],\n",
       "       [0, 1],\n",
       "       [0.115292, 0.884708],\n",
       "       [0.10088, 0.89912],\n",
       "       [0.322816, 0.677184],\n",
       "       [0.168134, 0.831866],\n",
       "       [0.230583, 0.769417],\n",
       "       [0, 1],\n",
       "       [0, 1],\n",
       "       [0.40352, 0.59648],\n",
       "       [0.094946, 0.905054],\n",
       "       [0.047473, 0.952527],\n",
       "       [0.307444, 0.692556],\n",
       "       [0, 1],\n",
       "       [0, 1],\n",
       "       [0.020176, 0.979824],\n",
       "       [0.239123, 0.760877],\n",
       "       [0.234302, 0.765698],\n",
       "       [0.269014, 0.730986],\n",
       "       [0.115292, 0.884708],\n",
       "       [0.179342, 0.820658],\n",
       "       [0, 1],\n",
       "       [0.134507, 0.865493],\n",
       "       [0.216523, 0.783477],\n",
       "       [0.269014, 0.730986],\n",
       "       [0.389606, 0.610394],\n",
       "       [0.0538027, 0.946197],\n",
       "       [0.0538027, 0.946197],\n",
       "       [0.339807, 0.660193],\n",
       "       [0, 1],\n",
       "       [0, 1],\n",
       "       [0.134507, 0.865493],\n",
       "       [0.1261, 0.8739],\n",
       "       [0.331094, 0.668906],\n",
       "       [0.0807041, 0.919296],\n",
       "       [0.0576458, 0.942354],\n",
       "       [0, 1],\n",
       "       [0.0896712, 0.910329],\n",
       "       [0.258253, 0.741747],\n",
       "       [0.239931, 0.760069],\n",
       "       [0, 1],\n",
       "       [0, 1],\n",
       "       [0.284838, 0.715162],\n",
       "       [nan, nan],\n",
       "       [0.269014, 0.730986],\n",
       "       [0, 1],\n",
       "       [0, 1],\n",
       "       [0.161408, 0.838592],\n",
       "       [0.0620801, 0.93792],\n",
       "       [0.10088, 0.89912],\n",
       "       [0.0733674, 0.926633],\n",
       "       [0, 1],\n",
       "       [0, 1],\n",
       "       [0.458546, 0.541454],\n",
       "       [0, 1],\n",
       "       [0, 1],\n",
       "       [0.282464, 0.717536],\n",
       "       [0, 1],\n",
       "       [0.076861, 0.923139],\n",
       "       [0.20176, 0.79824],\n",
       "       [0.172937, 0.827063],\n",
       "       [0.258253, 0.741747],\n",
       "       [0.0858554, 0.914145],\n",
       "       [0.34144, 0.65856],\n",
       "       [0, 1],\n",
       "       [0.388575, 0.611425],\n",
       "       [0, 1],\n",
       "       [0.189892, 0.810108],\n",
       "       [0.0620801, 0.93792],\n",
       "       [0.134507, 0.865493],\n",
       "       [0, 1],\n",
       "       [0, 1],\n",
       "       [0, 1],\n",
       "       [0.12416, 0.87584],\n",
       "       [0, 1],\n",
       "       [0.233145, 0.766855],\n",
       "       [0.239123, 0.760877],\n",
       "       [0.2522, 0.7478],\n",
       "       [0, 1],\n",
       "       [0.121056, 0.878944],\n",
       "       [0.233145, 0.766855],\n",
       "       [0.522203, 0.477797],\n",
       "       [0.242112, 0.757888],\n",
       "       [0.183418, 0.816582],\n",
       "       [0, 1],\n",
       "       [0, 1],\n",
       "       [0.520093, 0.479907],\n",
       "       [0.0896712, 0.910329],\n",
       "       [0.0576458, 0.942354],\n",
       "       [0.10088, 0.89912],\n",
       "       [0.30264, 0.69736],\n",
       "       [0, 1],\n",
       "       [0.0968449, 0.903155],\n",
       "       [0.0436238, 0.956376],\n",
       "       [0.179342, 0.820658],\n",
       "       [0.184947, 0.815053],\n",
       "       [nan, nan],\n",
       "       [0.115292, 0.884708],\n",
       "       [0.28071, 0.71929],\n",
       "       [nan, nan],\n",
       "       [0.134507, 0.865493],\n",
       "       [0.40352, 0.59648],\n",
       "       [0.499597, 0.500403],\n",
       "       [0.20176, 0.79824],\n",
       "       [0.313849, 0.686151],\n",
       "       [0, 1],\n",
       "       [0, 1],\n",
       "       [0.215211, 0.784789],\n",
       "       [0.0620801, 0.93792],\n",
       "       [0.356599, 0.643401],\n",
       "       [0.10088, 0.89912],\n",
       "       [0.121056, 0.878944],\n",
       "       [0, 1],\n",
       "       [0.254855, 0.745145],\n",
       "       [0.142419, 0.857581],\n",
       "       [0.430422, 0.569578],\n",
       "       [0.134507, 0.865493],\n",
       "       [0, 1],\n",
       "       [0, 1],\n",
       "       [0.208269, 0.791731],\n",
       "       [0.288229, 0.711771],\n",
       "       [0.0896712, 0.910329],\n",
       "       [0.274089, 0.725911],\n",
       "       [0.094946, 0.905054],\n",
       "       [0, 1],\n",
       "       [0.134507, 0.865493],\n",
       "       [0, 1],\n",
       "       [0.134507, 0.865493]]), short_relative_direction_likelihoods=array([[0, 1],\n",
       "       [0.241735, 0.758265],\n",
       "       [0.316115, 0.683885],\n",
       "       [0.228305, 0.771695],\n",
       "       [0.238924, 0.761076],\n",
       "       [0.273966, 0.726034],\n",
       "       [0.329774, 0.670226],\n",
       "       [0, 1],\n",
       "       [0, 1],\n",
       "       [0.222597, 0.777403],\n",
       "       [0.256843, 0.743157],\n",
       "       [0.0933975, 0.906602],\n",
       "       [0, 1],\n",
       "       [0, 1],\n",
       "       [0, 1],\n",
       "       [0.269074, 0.730926],\n",
       "       [0, 1],\n",
       "       [0, 1],\n",
       "       [0, 1],\n",
       "       [0.114153, 0.885847],\n",
       "       [0.136983, 0.863017],\n",
       "       [0, 1],\n",
       "       [0.12453, 0.87547],\n",
       "       [0.0526858, 0.947314],\n",
       "       [0.399534, 0.600466],\n",
       "       [0, 1],\n",
       "       [0.317996, 0.682004],\n",
       "       [0.191776, 0.808224],\n",
       "       [0.165324, 0.834676],\n",
       "       [0, 1],\n",
       "       [0.114153, 0.885847],\n",
       "       [0.117414, 0.882586],\n",
       "       [0.114153, 0.885847],\n",
       "       [0, 1],\n",
       "       [0, 1],\n",
       "       [0.210743, 0.789257],\n",
       "       [0, 1],\n",
       "       [0.0856144, 0.914386],\n",
       "       [0, 1],\n",
       "       [0.307031, 0.692969],\n",
       "       [0.407688, 0.592312],\n",
       "       [0, 1],\n",
       "       [0.0856144, 0.914386],\n",
       "       [0.186795, 0.813205],\n",
       "       [0.12453, 0.87547],\n",
       "       [0.114153, 0.885847],\n",
       "       [0.241735, 0.758265],\n",
       "       [0.244613, 0.755387],\n",
       "       [0.0604337, 0.939566],\n",
       "       [0.114153, 0.885847],\n",
       "       [0.324434, 0.675566],\n",
       "       [0.097845, 0.902155],\n",
       "       [0.0856144, 0.914386],\n",
       "       [0.24906, 0.75094],\n",
       "       [0, 1],\n",
       "       [0.201446, 0.798554],\n",
       "       [0.189445, 0.810555],\n",
       "       [0.228305, 0.771695],\n",
       "       [0.186795, 0.813205],\n",
       "       [0, 1],\n",
       "       [0.062265, 0.937735],\n",
       "       [0.342458, 0.657542],\n",
       "       [0.280991, 0.719009],\n",
       "       [0, 1],\n",
       "       [0.114153, 0.885847],\n",
       "       [0.0570763, 0.942924],\n",
       "       [0.0761017, 0.923898],\n",
       "       [0.171229, 0.828771],\n",
       "       [0.0684915, 0.931508],\n",
       "       [0.200463, 0.799537],\n",
       "       [0, 1],\n",
       "       [0.252337, 0.747663],\n",
       "       [0.246569, 0.753431],\n",
       "       [0.24906, 0.75094],\n",
       "       [0.158057, 0.841943],\n",
       "       [0.228305, 0.771695],\n",
       "       [0.415841, 0.584159],\n",
       "       [0.0856144, 0.914386],\n",
       "       [0.295759, 0.704241],\n",
       "       [0.244613, 0.755387],\n",
       "       [nan, nan],\n",
       "       [0.191776, 0.808224],\n",
       "       [0.142691, 0.857309],\n",
       "       [0.136983, 0.863017],\n",
       "       [0.0856144, 0.914386],\n",
       "       [0.161157, 0.838843],\n",
       "       [0.186795, 0.813205],\n",
       "       [0.114153, 0.885847],\n",
       "       [0.334847, 0.665153],\n",
       "       [0.217928, 0.782072],\n",
       "       [0.171229, 0.828771],\n",
       "       [0.192632, 0.807368],\n",
       "       [0.228305, 0.771695],\n",
       "       [0, 1],\n",
       "       [0.032615, 0.967385],\n",
       "       [0.11047, 0.88953],\n",
       "       [0.259157, 0.740843],\n",
       "       [0.228305, 0.771695],\n",
       "       [0.313104, 0.686896],\n",
       "       [0.160299, 0.839701],\n",
       "       [0.146768, 0.853232],\n",
       "       [0.0944711, 0.905529],\n",
       "       [0.0856144, 0.914386],\n",
       "       [0.0570763, 0.942924],\n",
       "       [0.0684915, 0.931508],\n",
       "       [0, 1],\n",
       "       [0, 1],\n",
       "       [0.103775, 0.896225],\n",
       "       [0.146768, 0.853232],\n",
       "       [0, 1],\n",
       "       [0.108145, 0.891855],\n",
       "       [0.0761017, 0.923898],\n",
       "       [0.304407, 0.695593],\n",
       "       [0.161157, 0.838843],\n",
       "       [0.210743, 0.789257],\n",
       "       [0.108145, 0.891855],\n",
       "       [0, 1],\n",
       "       [0, 1],\n",
       "       [0.380508, 0.619492],\n",
       "       [0.0856144, 0.914386],\n",
       "       [0.252337, 0.747663],\n",
       "       [0.357347, 0.642653],\n",
       "       [0.119116, 0.880884],\n",
       "       [0.208452, 0.791548],\n",
       "       [0.171229, 0.828771],\n",
       "       [0, 1],\n",
       "       [0, 1],\n",
       "       [0.0253672, 0.974633],\n",
       "       [0.357347, 0.642653],\n",
       "       [0.0761017, 0.923898],\n",
       "       [0.0805783, 0.919422],\n",
       "       [0.352835, 0.647165],\n",
       "       [0, 1],\n",
       "       [0.062265, 0.937735],\n",
       "       [0.304407, 0.695593],\n",
       "       [0.158057, 0.841943],\n",
       "       [0.0489225, 0.951077],\n",
       "       [0.0761017, 0.923898],\n",
       "       [0.105372, 0.894628],\n",
       "       [0.105372, 0.894628],\n",
       "       [0, 1],\n",
       "       [0.0761017, 0.923898],\n",
       "       [0.097845, 0.902155],\n",
       "       [0, 1],\n",
       "       [0.0342458, 0.965754],\n",
       "       [0.376703, 0.623297],\n",
       "       [0, 1],\n",
       "       [0, 1],\n",
       "       [0.266356, 0.733644],\n",
       "       [0.19569, 0.80431],\n",
       "       [0.269074, 0.730926],\n",
       "       [0.26092, 0.73908],\n",
       "       [0.091322, 0.908678],\n",
       "       [0, 1],\n",
       "       [0, 1],\n",
       "       [nan, nan],\n",
       "       [0, 1],\n",
       "       [0.114153, 0.885847],\n",
       "       [0, 1],\n",
       "       [0.283413, 0.716587],\n",
       "       [0.101469, 0.898531],\n",
       "       [0.136983, 0.863017],\n",
       "       [0.136983, 0.863017],\n",
       "       [0.144193, 0.855807],\n",
       "       [0.0805783, 0.919422],\n",
       "       [0.16438, 0.83562],\n",
       "       [0.136983, 0.863017],\n",
       "       [0.114153, 0.885847],\n",
       "       [0, 1],\n",
       "       [0.180241, 0.819759],\n",
       "       [0, 1],\n",
       "       [0.128422, 0.871578],\n",
       "       [0.285381, 0.714619],\n",
       "       [0.114153, 0.885847],\n",
       "       [0.108145, 0.891855],\n",
       "       [0.146768, 0.853232],\n",
       "       [0.158057, 0.841943],\n",
       "       [0, 1],\n",
       "       [0.410949, 0.589051],\n",
       "       [0.122306, 0.877694],\n",
       "       [0.128422, 0.871578],\n",
       "       [0.062265, 0.937735],\n",
       "       [0.210743, 0.789257],\n",
       "       [0.0526858, 0.947314],\n",
       "       [0, 1],\n",
       "       [0.062265, 0.937735],\n",
       "       [0.120867, 0.879133],\n",
       "       [0.120867, 0.879133],\n",
       "       [0.097845, 0.902155],\n",
       "       [0, 1],\n",
       "       [0.256843, 0.743157],\n",
       "       [0.316115, 0.683885],\n",
       "       [0.105372, 0.894628],\n",
       "       [0.0761017, 0.923898],\n",
       "       [0, 1],\n",
       "       [0.297789, 0.702211],\n",
       "       [0.097845, 0.902155],\n",
       "       [0.380508, 0.619492],\n",
       "       [0, 1],\n",
       "       [0, 1],\n",
       "       [0.188942, 0.811058],\n",
       "       [0.368801, 0.631199],\n",
       "       [0.359581, 0.640419],\n",
       "       [0.269074, 0.730926],\n",
       "       [0, 1],\n",
       "       [0.097845, 0.902155],\n",
       "       [0.0428072, 0.957193],\n",
       "       [0, 1],\n",
       "       [0, 1],\n",
       "       [0.0761017, 0.923898],\n",
       "       [0, 1],\n",
       "       [0.0253672, 0.974633],\n",
       "       [0.108145, 0.891855],\n",
       "       [0.120867, 0.879133],\n",
       "       [0.210743, 0.789257],\n",
       "       [0.162217, 0.837783],\n",
       "       [0.19569, 0.80431],\n",
       "       [0.062265, 0.937735],\n",
       "       [0.0595579, 0.940442],\n",
       "       [0.114153, 0.885847],\n",
       "       [0, 1],\n",
       "       [0.247331, 0.752669],\n",
       "       [0.193181, 0.806819],\n",
       "       [0.259795, 0.740205],\n",
       "       [0.216289, 0.783711],\n",
       "       [0, 1],\n",
       "       [0.200463, 0.799537],\n",
       "       [0.316115, 0.683885],\n",
       "       [0.186795, 0.813205],\n",
       "       [0.0805783, 0.919422],\n",
       "       [0.132564, 0.867436],\n",
       "       [0, 1],\n",
       "       [0.266356, 0.733644],\n",
       "       [0.342458, 0.657542],\n",
       "       [0.286419, 0.713581],\n",
       "       [0, 1],\n",
       "       [0.0856144, 0.914386],\n",
       "       [0, 1],\n",
       "       [0.158057, 0.841943],\n",
       "       [0.097845, 0.902155],\n",
       "       [0.158057, 0.841943],\n",
       "       [0.19569, 0.80431],\n",
       "       [0, 1],\n",
       "       [0.217928, 0.782072],\n",
       "       [0, 1],\n",
       "       [0.201446, 0.798554],\n",
       "       [0.285381, 0.714619],\n",
       "       [0, 1],\n",
       "       [0.228305, 0.771695],\n",
       "       [0.161157, 0.838843],\n",
       "       [0, 1],\n",
       "       [0.142691, 0.857309],\n",
       "       [0.293535, 0.706465],\n",
       "       [0.214036, 0.785964],\n",
       "       [0, 1],\n",
       "       [0.322313, 0.677687],\n",
       "       [0.0526858, 0.947314],\n",
       "       [0, 1],\n",
       "       [0, 1],\n",
       "       [0, 1],\n",
       "       [0.259795, 0.740205],\n",
       "       [0.205475, 0.794525],\n",
       "       [0.228305, 0.771695],\n",
       "       [0.097845, 0.902155],\n",
       "       [0.0761017, 0.923898],\n",
       "       [0.114153, 0.885847],\n",
       "       [0.102737, 0.897263],\n",
       "       [0.273966, 0.726034],\n",
       "       [0.0684915, 0.931508],\n",
       "       [0.0570763, 0.942924],\n",
       "       [0.228305, 0.771695],\n",
       "       [0, 1],\n",
       "       [0, 1],\n",
       "       [0.316115, 0.683885],\n",
       "       [0.399534, 0.600466],\n",
       "       [0.210743, 0.789257],\n",
       "       [0, 1],\n",
       "       [0, 1],\n",
       "       [0, 1],\n",
       "       [0, 1],\n",
       "       [0.126836, 0.873164],\n",
       "       [0, 1],\n",
       "       [0, 1],\n",
       "       [0, 1],\n",
       "       [0, 1],\n",
       "       [0, 1],\n",
       "       [0.0684915, 0.931508],\n",
       "       [0, 1],\n",
       "       [0, 1],\n",
       "       [0.097845, 0.902155],\n",
       "       [0.0856144, 0.914386],\n",
       "       [0.273966, 0.726034],\n",
       "       [0.142691, 0.857309],\n",
       "       [0.19569, 0.80431],\n",
       "       [0, 1],\n",
       "       [0, 1],\n",
       "       [0.342458, 0.657542],\n",
       "       [0.120867, 0.879133],\n",
       "       [0.0402891, 0.959711],\n",
       "       [0.309843, 0.690157],\n",
       "       [0, 1],\n",
       "       [0, 1],\n",
       "       [0.0171229, 0.982877],\n",
       "       [0.202938, 0.797062],\n",
       "       [0.198846, 0.801154],\n",
       "       [0.228305, 0.771695],\n",
       "       [0.097845, 0.902155],\n",
       "       [0.152203, 0.847797],\n",
       "       [0, 1],\n",
       "       [0.114153, 0.885847],\n",
       "       [0.200463, 0.799537],\n",
       "       [0.228305, 0.771695],\n",
       "       [0.330649, 0.669351],\n",
       "       [0.045661, 0.954339],\n",
       "       [0.045661, 0.954339],\n",
       "       [0.288385, 0.711615],\n",
       "       [0, 1],\n",
       "       [0, 1],\n",
       "       [0.114153, 0.885847],\n",
       "       [0.128422, 0.871578],\n",
       "       [0.280991, 0.719009],\n",
       "       [0.0684915, 0.931508],\n",
       "       [0.0489225, 0.951077],\n",
       "       [0, 1],\n",
       "       [0.190254, 0.809746],\n",
       "       [0.219173, 0.780827],\n",
       "       [0.222135, 0.777865],\n",
       "       [0, 1],\n",
       "       [0, 1],\n",
       "       [0.241735, 0.758265],\n",
       "       [0.0761017, 0.923898],\n",
       "       [0.243525, 0.756475],\n",
       "       [0, 1],\n",
       "       [0, 1],\n",
       "       [0.136983, 0.863017],\n",
       "       [0.0526858, 0.947314],\n",
       "       [0.0856144, 0.914386],\n",
       "       [0.12453, 0.87547],\n",
       "       [0, 1],\n",
       "       [0, 1],\n",
       "       [0.389156, 0.610844],\n",
       "       [0, 1],\n",
       "       [0, 1],\n",
       "       [0.23972, 0.76028],\n",
       "       [0, 1],\n",
       "       [0.032615, 0.967385],\n",
       "       [0.171229, 0.828771],\n",
       "       [0.171229, 0.828771],\n",
       "       [0.246569, 0.753431],\n",
       "       [0.0728633, 0.927137],\n",
       "       [0.289772, 0.710228],\n",
       "       [0, 1],\n",
       "       [0.329774, 0.670226],\n",
       "       [0, 1],\n",
       "       [0.161157, 0.838843],\n",
       "       [0.0526858, 0.947314],\n",
       "       [0.114153, 0.885847],\n",
       "       [0, 1],\n",
       "       [0, 1],\n",
       "       [0, 1],\n",
       "       [0.105372, 0.894628],\n",
       "       [0, 1],\n",
       "       [0.197864, 0.802136],\n",
       "       [0.202938, 0.797062],\n",
       "       [0.214036, 0.785964],\n",
       "       [0, 1],\n",
       "       [0.102737, 0.897263],\n",
       "       [0.213085, 0.786915],\n",
       "       [0.44318, 0.55682],\n",
       "       [0.205475, 0.794525],\n",
       "       [0.155663, 0.844337],\n",
       "       [0.032615, 0.967385],\n",
       "       [0, 1],\n",
       "       [0.44139, 0.55861],\n",
       "       [0.0761017, 0.923898],\n",
       "       [0.0489225, 0.951077],\n",
       "       [0.0856144, 0.914386],\n",
       "       [0.256843, 0.743157],\n",
       "       [0, 1],\n",
       "       [0.0821898, 0.91781],\n",
       "       [0.0555337, 0.944466],\n",
       "       [0.152203, 0.847797],\n",
       "       [0.15696, 0.84304],\n",
       "       [0.211998, 0.788002],\n",
       "       [0.097845, 0.902155],\n",
       "       [0.238231, 0.761769],\n",
       "       [0.152203, 0.847797],\n",
       "       [0.114153, 0.885847],\n",
       "       [0.342458, 0.657542],\n",
       "       [0.358765, 0.641235],\n",
       "       [0.171229, 0.828771],\n",
       "       [0.266356, 0.733644],\n",
       "       [0, 1],\n",
       "       [0, 1],\n",
       "       [0.182644, 0.817356],\n",
       "       [0.0526858, 0.947314],\n",
       "       [0.318565, 0.681435],\n",
       "       [0.0856144, 0.914386],\n",
       "       [0.102737, 0.897263],\n",
       "       [0, 1],\n",
       "       [0.216289, 0.783711],\n",
       "       [0.120867, 0.879133],\n",
       "       [0.273966, 0.726034],\n",
       "       [0.114153, 0.885847],\n",
       "       [0, 1],\n",
       "       [0, 1],\n",
       "       [0.176752, 0.823248],\n",
       "       [0.244613, 0.755387],\n",
       "       [0.0761017, 0.923898],\n",
       "       [0.232613, 0.767387],\n",
       "       [0.0402891, 0.959711],\n",
       "       [0, 1],\n",
       "       [0.114153, 0.885847],\n",
       "       [0, 1],\n",
       "       [0.114153, 0.885847]]), long_best_direction_indices=array([1, 1, 1, 1, 1, 1, 1, 1, 1, 1, 1, 1, 1, 1, 1, 1, 1, 1, 1, 1, 1, 1, 1, 1, 1, 1, 1, 1, 1, 1, 1, 1, 1, 1, 1, 1, 1, 1, 1, 1, 1, 1, 1, 1, 1, 1, 1, 1, 1, 1, 1, 1, 1, 1, 1, 1, 1, 1, 1, 1, 1, 1, 1, 1, 1, 1, 1, 1, 1, 1, 1, 1, 1, 1, 1, 1, 1, 1, 1, 1, 0, 1, 1, 1, 1, 1, 1, 1, 1, 1, 1, 1, 1, 1, 1, 1, 1, 1, 1, 1, 1, 1, 1, 1, 1, 1, 1, 1, 1, 1, 1, 1, 1, 1, 1, 1, 1, 1, 1, 1, 1, 1, 1, 1, 1, 1, 1, 1, 1, 1, 1, 1, 1, 1, 1, 1, 1, 1, 1, 1, 1, 1, 1, 1, 1, 1, 1, 1, 1, 1, 1, 1, 1, 1, 1, 1, 1, 1, 1, 1, 1, 1, 1, 1, 1, 1, 1, 1, 1, 1, 1, 1, 1, 1, 0, 1, 1, 1, 1, 1, 1, 1, 1, 1, 1, 1, 1, 1, 1, 1, 1, 1, 1, 1, 1, 1, 1, 1, 1, 1, 1, 1, 1, 1, 1, 1, 1, 1, 1, 1, 1, 1, 1, 1, 1, 1, 1, 1, 1, 1, 1, 1, 1, 1, 1, 1, 1, 1, 1, 1, 1, 1, 1, 1, 1, 1, 1, 1, 1, 1, 1, 1, 1, 1, 1, 1, 1, 1, 1, 1, 1, 1, 1, 1, 1, 1, 1, 1, 1, 1, 1, 1, 1, 1, 1, 1, 1, 1, 1, 1, 1, 1, 1, 1, 1, 1, 1, 1, 1, 1, 1, 1, 1, 0, 1, 1, 1, 1, 1, 1, 1, 1, 1, 1, 1, 1, 1, 1, 1, 1, 1, 1, 1, 1, 1, 1, 1, 1, 1, 1, 1, 1, 1, 1, 1, 1, 1, 1, 1, 1, 1, 1, 1, 1, 1, 1, 1, 1, 1, 1, 0, 1, 1, 1, 1, 1, 1, 1, 1, 1, 1, 1, 1, 1, 1, 1, 1, 1, 1, 1, 1, 1, 1, 1, 1, 1, 1, 1, 1, 1, 1, 1, 1, 1, 1, 1, 1, 1, 0, 1, 1, 1, 1, 0, 1, 1, 1, 1, 1, 1, 1, 1, 1, 0, 1, 1, 0, 1, 1, 1, 1, 1, 1, 1, 1, 1, 1, 1, 1, 1, 1, 1, 1, 1, 1, 1, 1, 1, 1, 1, 1, 1, 1, 1, 1], dtype=int64), short_best_direction_indices=array([1, 1, 1, 1, 1, 1, 1, 1, 1, 1, 1, 1, 1, 1, 1, 1, 1, 1, 1, 1, 1, 1, 1, 1, 1, 1, 1, 1, 1, 1, 1, 1, 1, 1, 1, 1, 1, 1, 1, 1, 1, 1, 1, 1, 1, 1, 1, 1, 1, 1, 1, 1, 1, 1, 1, 1, 1, 1, 1, 1, 1, 1, 1, 1, 1, 1, 1, 1, 1, 1, 1, 1, 1, 1, 1, 1, 1, 1, 1, 1, 0, 1, 1, 1, 1, 1, 1, 1, 1, 1, 1, 1, 1, 1, 1, 1, 1, 1, 1, 1, 1, 1, 1, 1, 1, 1, 1, 1, 1, 1, 1, 1, 1, 1, 1, 1, 1, 1, 1, 1, 1, 1, 1, 1, 1, 1, 1, 1, 1, 1, 1, 1, 1, 1, 1, 1, 1, 1, 1, 1, 1, 1, 1, 1, 1, 1, 1, 1, 1, 1, 1, 1, 1, 1, 1, 0, 1, 1, 1, 1, 1, 1, 1, 1, 1, 1, 1, 1, 1, 1, 1, 1, 1, 1, 1, 1, 1, 1, 1, 1, 1, 1, 1, 1, 1, 1, 1, 1, 1, 1, 1, 1, 1, 1, 1, 1, 1, 1, 1, 1, 1, 1, 1, 1, 1, 1, 1, 1, 1, 1, 1, 1, 1, 1, 1, 1, 1, 1, 1, 1, 1, 1, 1, 1, 1, 1, 1, 1, 1, 1, 1, 1, 1, 1, 1, 1, 1, 1, 1, 1, 1, 1, 1, 1, 1, 1, 1, 1, 1, 1, 1, 1, 1, 1, 1, 1, 1, 1, 1, 1, 1, 1, 1, 1, 1, 1, 1, 1, 1, 1, 1, 1, 1, 1, 1, 1, 1, 1, 1, 1, 1, 1, 1, 1, 1, 1, 1, 1, 1, 1, 1, 1, 1, 1, 1, 1, 1, 1, 1, 1, 1, 1, 1, 1, 1, 1, 1, 1, 1, 1, 1, 1, 1, 1, 1, 1, 1, 1, 1, 1, 1, 1, 1, 1, 1, 1, 1, 1, 1, 1, 1, 1, 1, 1, 1, 1, 1, 1, 1, 1, 1, 1, 1, 1, 1, 1, 1, 1, 1, 1, 1, 1, 1, 1, 1, 1, 1, 1, 1, 1, 1, 1, 1, 1, 1, 1, 1, 1, 1, 1, 1, 1, 1, 1, 1, 1, 1, 1, 1, 1, 1, 1, 1, 1, 1, 1, 1, 1, 1, 1, 1, 1, 1, 1, 1, 1, 1, 1, 1, 1, 1, 1, 1, 1, 1, 1, 1, 1, 1, 1, 1, 1, 1, 1, 1], dtype=int64)), masked_z_score_values_list=[masked_array(data=[--, --, --, --, --, --, --, --, --, --, --, --, --, --, --, --, --, --, --, --, --, --, --, --, --, --, --, --, --, --, --, --, --, --, --, --, --, --, --, --, --, --, --, --, --, --, --, --, --, --, --, --, --, --, --, --, --, --, --, --, --, --, --, --, --, --, --, --, --, --, --, --, --, --, --, --, --, --, --, --, -1.1184676111046774, --, --, --, --, --, --, --, --, --, --, --, --, --, --, --, --, --, --, --, --, --, --, --, --, --, --, --, --, --, --, --, --, --, --, --, --, --, --, --, --, --, --, --, --, --, --, --, --, --, --, --, --, --, --, --, --, --, --, --, --, --, --, --, --, --, --, --, --, --, --, --, --, --, --, --, --, --, --, --, --, --, --, --, --, --, --, --, --, --, --, --, --, --, 0.3789326866769894, --, --, --, --, --, --, --, --, --, --, --, --, --, --, --, --, --, --, --, --, --, --, --, --, --, --, --, --, --, --, --, --, --, --, --, --, --, --, --, --, --, --, --, --, --, --, --, --, --, --, --, --, --, --, --, --, --, --, --, --, --, --, --, --, --, --, --, --, --, --, --, --, --, --, --, --, --, --, --, --, --, --, --, --, --, --, --, --, --, --, --, --, --, --, --, --, --, --, --, --, --, --, --, --, --, --, --, --, -1.4997001234004175, --, --, --, --, --, --, --, --, --, --, --, --, --, --, --, --, --, --, --, --, --, --, --, --, --, --, --, --, --, --, --, --, --, --, --, --, --, --, --, --, --, --, --, --, --, --, -3.0417067527283983, --, --, --, --, --, --, --, --, --, --, --, --, --, --, --, --, --, --, --, --, --, --, --, --, --, --, --, --, --, --, --, --, --, --, --, --, --, -0.5530871722234904, --, --, --, --, -0.666354410574731, --, --, --, --, --, --, --, --, --, 0.26055957883043995, --, --, 0.64487492036832, --, --, --, --, --, --, --, --, --, --, --, --, --, --, --, --, --, --, --, --, --, --, --, --, --, --, --, --],\n",
       "             mask=[ True,  True,  True,  True,  True,  True,  True,  True,  True,  True,  True,  True,  True,  True,  True,  True,  True,  True,  True,  True,  True,  True,  True,  True,  True,  True,  True,  True,  True,  True,  True,  True,  True,  True,  True,  True,  True,  True,  True,  True,  True,  True,  True,  True,  True,  True,  True,  True,  True,  True,  True,  True,  True,  True,  True,  True,  True,  True,  True,  True,  True,  True,  True,  True,  True,  True,  True,  True,  True,  True,  True,  True,  True,  True,  True,  True,  True,  True,  True,  True, False,  True,  True,  True,  True,  True,  True,  True,  True,  True,  True,  True,  True,  True,  True,  True,  True,  True,  True,  True,  True,  True,  True,  True,  True,  True,  True,  True,  True,  True,  True,  True,  True,  True,  True,  True,  True,  True,  True,  True,  True,  True,  True,  True,  True,  True,  True,  True,  True,  True,  True,  True,  True,  True,  True,  True,  True,  True,  True,  True,  True,  True,  True,  True,  True,  True,  True,  True,  True,  True,  True,  True,  True,  True,  True,  True,  True,  True,  True,  True,  True,  True,  True,  True,  True,  True,  True,  True,  True,  True,  True,  True,  True,  True, False,  True,  True,  True,  True,  True,  True,  True,  True,  True,  True,  True,  True,  True,  True,  True,  True,  True,  True,  True,  True,  True,  True,  True,  True,  True,  True,  True,  True,  True,  True,  True,  True,  True,  True,  True,  True,  True,  True,  True,  True,  True,  True,  True,  True,  True,  True,  True,  True,  True,  True,  True,  True,  True,  True,  True,  True,  True,  True,  True,  True,  True,  True,  True,  True,  True,  True,  True,  True,  True,  True,  True,  True,  True,  True,  True,  True,  True,  True,  True,  True,  True,  True,  True,  True,  True,  True,  True,  True,  True,  True,  True,  True,  True,  True,  True,  True,  True,  True,  True,  True,  True,  True,  True,  True,  True,  True,  True,  True, False,  True,  True,  True,  True,  True,  True,  True,  True,  True,  True,  True,  True,  True,  True,  True,  True,  True,  True,  True,  True,  True,  True,  True,  True,  True,  True,  True,  True,  True,  True,  True,  True,  True,  True,  True,  True,  True,  True,  True,  True,  True,  True,  True,  True,  True,  True, False,  True,  True,  True,  True,  True,  True,  True,  True,  True,  True,  True,  True,  True,  True,  True,  True,  True,  True,  True,  True,  True,  True,  True,  True,  True,  True,  True,  True,  True,  True,  True,  True,  True,  True,  True,  True,  True, False,  True,  True,  True,  True, False,  True,  True,  True,  True,  True,  True,  True,  True,  True, False,  True,  True, False,  True,  True,  True,  True,  True,  True,  True,  True,  True,  True,  True,  True,  True,  True,  True,  True,  True,  True,  True,  True,  True,  True,  True,  True,  True,  True,  True,  True],\n",
       "       fill_value=1e+20), masked_array(data=[-0.6989926935763114, -0.7547700061978255, -2.0004455728068398, 2.707123020791643, 1.4066755939952895, 0.9698022603306432, 1.4767369467998106, 1.7650947397231336, 2.4337040843554307, -0.37012560521405513, -0.01867916764621258, -4.158642525312524, -1.4212493925954544, -0.9940843409038361, -2.9862151335593823, -0.384844478728281, 0.19052475364765709, -3.4690743803606647, -0.056280774689009216, -1.3470794237261374, -1.732845881557919, 0.6943140756796493, 1.8595456564392132, -1.223182529678746, -1.031561841121573, -0.04007461974512754, -0.9330086479448525, -1.503562287231533, -1.6567146659102938, 0.13923234250452224, 0.28140952104068606, -2.2983056155057606, -0.18954539990190172, -0.4884516191070662, 1.0108276001378793, 0.08285035800388384, -1.3115512436234107, -0.1733628482026891, 0.36758709715151283, -1.0426242788954554, 0.141368322283758, 0.6894852326108099, -1.1728734497614548, -0.39238526941512253, -1.353106101258375, -1.2284182110236845, -0.5506728442217603, -2.3957673443560945, -4.361393384881355, -1.0767047275286246, 1.9252180217916413, -1.424868155155804, -1.4949775283701758, 0.9548691844278804, 0.6352704520078756, -0.1330386531145174, 0.5684288182748494, 0.9959569595213034, 1.2340153015389597, -2.182484884098909, 0.20107096908678587, -0.6154814248736775, 0.8294880287734661, 0.724751807956697, -0.673118160934441, 1.5796666971128184, 1.099148964769289, 0.0026883364480150855, 0.2241411551638387, 0.4357911338096671, 2.560223453679269, 2.0827941652642723, -0.28149128847879484, -1.2381923461319133, -1.5586591073368816, -2.062100425917731, 0.8249830004412267, 1.1348416032114437, -2.01679672626203, 0.3144565798246526, --, -1.7415554205486268, -1.8041769572767405, -0.2474126203068156, 2.6884251241559527, 2.998803300563908, 1.7972470772064721, 2.771532066104783, 0.5036834276483295, 1.8181873643626152, 0.7459674478825853, 3.2944717216671466, -1.7153203559149963, 2.06310416873882, -0.39021096743229317, 1.892541217260921, 1.7174319101542077, -0.7337103772618687, 0.03532753157449631, -1.1309640966778214, 0.6549483574813264, 3.147085481916972, 0.5177209618538735, -1.4256772871839742, 1.7965897919868106, 1.3106876264041936, 2.0864603457513864, -1.5373285070636844, -1.5069709773848967, -3.128734403679795, -2.4405693488389684, -1.4399492767824016, 0.7471206072270028, 2.5917842326810625, 1.0856876156023612, 0.10224005035546486, -1.3391325283020141, -1.1476360177008074, 2.276148198625732, 0.7318403848580693, -0.509110210987576, -1.3273448331251376, 1.4053035308370831, -0.07574329274285298, -0.928038533518927, 1.529339772886624, -2.195135630915393, -3.3234703695389385, -0.08252066204284207, -0.7953778737607224, 0.3802525959624033, -2.0980582516190305, 0.004596662585839993, -1.096647628796006, -1.1987583423453407, -3.604414201264868, -1.6007702793585357, 0.4629668392658695, -1.0123271111587155, 0.37034306576447085, 1.0691321664640792, -1.439527700035617, 1.474100034249997, 0.18368052337647425, 1.4932772441536473, -2.0209483096460996, 0.9427264873934695, 0.8335418227790806, 0.25068508657039107, -0.5595666011342166, 2.6081775132186875, 2.210731190441312, 1.5838953972122978, -2.506060694282445, -1.847708006283342, 2.715788676042987, 1.3796141397294213, -1.4247751873852, -1.235018216292349, -0.9108102144496062, 1.6527906429558408, 1.3067480982740705, 0.6990514891480735, -1.3173533669234807, 2.5914534227204107, -0.727548265567325, 2.0698291339700154, 0.8875572206165637, -1.3592271226601709, -1.2609600313588, -0.45635107214781884, -1.7491955442065157, -0.40283012058927187, -0.2660380819594406, --, -0.4173483193047268, -1.0415127294290973, -1.707283086045775, -0.45813684386700126, -0.10832765850383408, -1.55593879198469, 2.586785391960466, 0.8838148958174723, -3.07394683454151, 0.13202645566791182, -0.3345885442189027, 0.9587430146281927, -1.5223646362059853, -0.5559892309231598, -0.5178353731253257, 1.322270083850269, 2.300158347124273, -1.1625938400132143, 0.5507896548869967, -0.5548500265706385, -1.2213024851170227, -0.5138346541434878, -2.036412795596396, -0.06933182779417564, -2.722177837597108, 0.21877679571299152, -0.49760370939799214, 1.063972278989795, -2.0839396611587206, 1.8521208697080607, -0.969802561218571, -0.06977901325953585, -0.31374328927732403, -0.7511220744970859, 1.2214725746624737, -0.5526330073721156, -0.7899445541741045, 0.04083845246837443, 0.2281749455916411, 0.31171599489431806, 1.0548905517716831, 0.9232455608379145, 0.8792816547405359, -0.47641069967823235, -0.5425389057075998, 0.20468995394934794, 0.4042160983185605, -0.19379708719195005, -1.5677126741973124, -1.8344744067781553, -1.8327205373458022, -2.24448920716028, -0.49010820227854474, 0.2180134556208412, -1.1585055752441906, 3.3549416370899063, -1.764873573944001, 2.4765433577428415, -1.4527786449236337, 1.7963233111542312, 2.0070746433394517, -0.23493901387947005, -1.324562891767303, -1.1006531564314812, -0.023231009233162323, 1.2660974043662716, 1.079971806213092, 2.352032704055661, 1.8035259180527876, 0.9985465356713775, 1.6474431504442104, 2.5711254871497133, 0.41979884397362, -1.1684209681695177, 1.3258229761350262, 1.7880970903333964, -0.8810569067547748, 0.7567867215950941, 1.312193371199554, -1.811852981008459, 0.6951965169638955, -1.7673579537139135, -0.579652930238374, 0.12437964492091988, -0.2151455804761093, 1.5589361822397658, 2.6394489411757123, -1.1560989434507278, -0.6184546755203072, 3.849038054998643, 0.45774428994345434, 1.2555098152738866, -1.9322844544809656, -0.42887202585109335, 1.5620824969140472, 1.7549972942320633, -2.5482041806202997, 0.6196769290439241, -0.21171213683882042, 0.6849350683148072, 0.5351946772678399, -1.8778497316829825, -0.6633415737621798, -0.8445600307378238, 1.0511889774332888, 2.204446066853313, 0.33736479986479617, -0.6090717286176324, --, -0.09639867639529091, 0.2110591116905385, 0.0011465127339886515, 1.6333730171764158, 1.9700865402064796, -2.6954554608218357, 1.4057869813688761, -0.8183929351643606, 0.6733917181712686, -1.1366726221725187, 1.5682218809417552, -3.5286478214680197, -0.3548548291169732, -2.6056023210651658, 2.7056762250675983, 0.2004883570254514, 1.989082362875316, -0.9844195366976001, 3.320383830815791, -1.9873534304578515, -2.34410740486559, -0.3727654510510185, 1.3092585109794233, 3.128576441293585, -1.6815375374447572, -0.646339224420123, 0.27085519759961474, 2.134583629079982, -0.4560191997355035, -2.2711333591697014, -1.6791224922088772, 0.7109272381525515, -4.361585290289286, -4.741026132681976, -0.7478834107150679, 0.9449001300935549, -1.4028842427278663, 0.042120824352668916, 1.522019056311433, -2.7702810637230044, 2.720557510786759, 1.4063040598213272, 4.081941283753898, 1.2938247135481509, 2.261102440302954, -0.3451220744765398, --, -0.7995246802541662, -0.6930740586896211, 3.369955342077982, -0.6114870260433187, -2.422737822381574, -0.5170724836661444, -1.2946887577113473, 0.694459439564477, -1.3900943009196505, 0.274010697516382, 1.072257427770451, 0.013836031048464726, 1.0941081605364642, -1.1387005935103567, -2.055744444770799, -1.0889379574739244, 0.42297289678332306, 1.3247928331552297, -4.761141267667344, -0.5801382173095946, 2.194406216923825, 1.0475562564588357, -0.7311249251609466, -1.0117205537549943, -2.97840382567977, -1.4922671322713104, -1.2428459207836615, -0.6626810753964755, -1.7691461721770836, -0.44049478599595066, 1.323954772530453, -2.29872198227611, 1.0012218612336905, -2.231598386631333, 2.1356063560506606, -1.223818648711999, 0.37233548407099515, --, -1.2489542710106114, -0.5335614082963162, -1.828271547342568, 1.9519003940309003, --, 0.9357877439591346, -2.459301444881054, 0.18418018764559865, -1.5231536198285232, 1.4005668774496807, 1.8353814188694768, 0.7734468107216083, -3.5399719896513315, 2.0497430621813306, --, -0.12072776454335059, 1.6236880166235343, --, -0.9246186205652052, 1.944523832407299, -0.7674779697916392, -1.3758776990030135, 0.7941975134297664, 1.5722630573026684, 0.37539974156848555, -0.35954604200953444, -3.627453572103236, -0.3067129191888675, -1.5696965107838063, -1.5234352941444886, 0.2296575891856828, -1.4275598361563775, 0.6905911961591706, 0.6773357933422873, -1.6870914351625184, -1.7654522872146485, -0.5925320098309816, -2.3014110421396885, -1.0234449461744002, -2.0546562962250943, 1.6880510692211368, -1.612276688150105, 0.48273968201003437, 1.4840688791641983, 2.4593708270526986, -0.09979940286793658],\n",
       "             mask=[False, False, False, False, False, False, False, False, False, False, False, False, False, False, False, False, False, False, False, False, False, False, False, False, False, False, False, False, False, False, False, False, False, False, False, False, False, False, False, False, False, False, False, False, False, False, False, False, False, False, False, False, False, False, False, False, False, False, False, False, False, False, False, False, False, False, False, False, False, False, False, False, False, False, False, False, False, False, False, False,  True, False, False, False, False, False, False, False, False, False, False, False, False, False, False, False, False, False, False, False, False, False, False, False, False, False, False, False, False, False, False, False, False, False, False, False, False, False, False, False, False, False, False, False, False, False, False, False, False, False, False, False, False, False, False, False, False, False, False, False, False, False, False, False, False, False, False, False, False, False, False, False, False, False, False, False, False, False, False, False, False, False, False, False, False, False, False, False, False, False, False, False, False, False,  True, False, False, False, False, False, False, False, False, False, False, False, False, False, False, False, False, False, False, False, False, False, False, False, False, False, False, False, False, False, False, False, False, False, False, False, False, False, False, False, False, False, False, False, False, False, False, False, False, False, False, False, False, False, False, False, False, False, False, False, False, False, False, False, False, False, False, False, False, False, False, False, False, False, False, False, False, False, False, False, False, False, False, False, False, False, False, False, False, False, False, False, False, False, False, False, False, False, False, False, False, False, False, False, False, False, False, False, False,  True, False, False, False, False, False, False, False, False, False, False, False, False, False, False, False, False, False, False, False, False, False, False, False, False, False, False, False, False, False, False, False, False, False, False, False, False, False, False, False, False, False, False, False, False, False, False,  True, False, False, False, False, False, False, False, False, False, False, False, False, False, False, False, False, False, False, False, False, False, False, False, False, False, False, False, False, False, False, False, False, False, False, False, False, False,  True, False, False, False, False,  True, False, False, False, False, False, False, False, False, False,  True, False, False,  True, False, False, False, False, False, False, False, False, False, False, False, False, False, False, False, False, False, False, False, False, False, False, False, False, False, False, False, False],\n",
       "       fill_value=1e+20), masked_array(data=[--, --, --, --, --, --, --, --, --, --, --, --, --, --, --, --, --, --, --, --, --, --, --, --, --, --, --, --, --, --, --, --, --, --, --, --, --, --, --, --, --, --, --, --, --, --, --, --, --, --, --, --, --, --, --, --, --, --, --, --, --, --, --, --, --, --, --, --, --, --, --, --, --, --, --, --, --, --, --, --, -0.7573887248782621, --, --, --, --, --, --, --, --, --, --, --, --, --, --, --, --, --, --, --, --, --, --, --, --, --, --, --, --, --, --, --, --, --, --, --, --, --, --, --, --, --, --, --, --, --, --, --, --, --, --, --, --, --, --, --, --, --, --, --, --, --, --, --, --, --, --, --, --, --, --, --, --, --, --, 1.8230825292014345, --, --, --, --, --, --, --, --, --, --, --, --, --, --, --, --, --, --, --, --, --, --, --, --, --, --, --, --, --, --, --, --, --, --, --, --, --, --, --, --, --, --, --, --, --, --, --, --, --, --, --, --, --, --, --, --, --, --, --, --, --, --, --, --, --, --, --, --, --, --, --, --, --, --, --, --, --, --, --, --, --, --, --, --, --, --, --, --, --, --, --, --, --, --, --, --, --, --, --, --, --, --, --, --, --, --, --, --, --, --, --, --, --, --, --, --, --, --, --, --, --, --, --, --, --, --, --, --, --, --, --, --, --, --, --, --, --, --, --, --, --, --, --, --, --, --, --, --, --, --, --, --, --, --, --, --, --, --, --, --, --, --, --, --, --, --, --, --, --, --, --, --, --, --, --, --, --, --, --, --, --, --, --, --, --, --, --, --, --, --, --, --, --, --, --, --, --, --, --, --, --, --, --, --, --, --, --, --, --, --, --, --, --, --, --, --, --, --, --, --, --, --, --, --, --, --, --, --, --, --, --, --, --, --, --, --, --, --, --, --, --, --, --, --, --, --, --, --, --, --, --, --, --, --, --, --, --, --, --],\n",
       "             mask=[ True,  True,  True,  True,  True,  True,  True,  True,  True,  True,  True,  True,  True,  True,  True,  True,  True,  True,  True,  True,  True,  True,  True,  True,  True,  True,  True,  True,  True,  True,  True,  True,  True,  True,  True,  True,  True,  True,  True,  True,  True,  True,  True,  True,  True,  True,  True,  True,  True,  True,  True,  True,  True,  True,  True,  True,  True,  True,  True,  True,  True,  True,  True,  True,  True,  True,  True,  True,  True,  True,  True,  True,  True,  True,  True,  True,  True,  True,  True,  True, False,  True,  True,  True,  True,  True,  True,  True,  True,  True,  True,  True,  True,  True,  True,  True,  True,  True,  True,  True,  True,  True,  True,  True,  True,  True,  True,  True,  True,  True,  True,  True,  True,  True,  True,  True,  True,  True,  True,  True,  True,  True,  True,  True,  True,  True,  True,  True,  True,  True,  True,  True,  True,  True,  True,  True,  True,  True,  True,  True,  True,  True,  True,  True,  True,  True,  True,  True,  True,  True,  True,  True,  True,  True,  True, False,  True,  True,  True,  True,  True,  True,  True,  True,  True,  True,  True,  True,  True,  True,  True,  True,  True,  True,  True,  True,  True,  True,  True,  True,  True,  True,  True,  True,  True,  True,  True,  True,  True,  True,  True,  True,  True,  True,  True,  True,  True,  True,  True,  True,  True,  True,  True,  True,  True,  True,  True,  True,  True,  True,  True,  True,  True,  True,  True,  True,  True,  True,  True,  True,  True,  True,  True,  True,  True,  True,  True,  True,  True,  True,  True,  True,  True,  True,  True,  True,  True,  True,  True,  True,  True,  True,  True,  True,  True,  True,  True,  True,  True,  True,  True,  True,  True,  True,  True,  True,  True,  True,  True,  True,  True,  True,  True,  True,  True,  True,  True,  True,  True,  True,  True,  True,  True,  True,  True,  True,  True,  True,  True,  True,  True,  True,  True,  True,  True,  True,  True,  True,  True,  True,  True,  True,  True,  True,  True,  True,  True,  True,  True,  True,  True,  True,  True,  True,  True,  True,  True,  True,  True,  True,  True,  True,  True,  True,  True,  True,  True,  True,  True,  True,  True,  True,  True,  True,  True,  True,  True,  True,  True,  True,  True,  True,  True,  True,  True,  True,  True,  True,  True,  True,  True,  True,  True,  True,  True,  True,  True,  True,  True,  True,  True,  True,  True,  True,  True,  True,  True,  True,  True,  True,  True,  True,  True,  True,  True,  True,  True,  True,  True,  True,  True,  True,  True,  True,  True,  True,  True,  True,  True,  True,  True,  True,  True,  True,  True,  True,  True,  True,  True,  True,  True,  True,  True,  True,  True,  True,  True,  True,  True,  True,  True,  True,  True,  True,  True,  True,  True,  True,  True,  True,  True,  True,  True,  True,  True],\n",
       "       fill_value=1e+20), masked_array(data=[-0.06811033725578079, -0.13388952884986793, -0.31054142496555404, 1.7614884617628603, 0.7796629690958615, 0.6273234667527094, 1.2227016360719198, 1.6181749245975399, 2.744436081745756, 1.206116945838788, -0.40704985379351455, -3.1917387671198107, -1.4212493925954544, -0.9786461565793494, -1.901044122809748, -1.6381100267219746, -0.3888513089764952, -2.0753520607776563, 0.22661445628628288, -0.5747851970442465, -0.0938105569211545, 0.649941498998545, 1.727999679499455, 0.5991422005552964, 0.04598182714737954, 0.3522732633270163, -1.4522028694528264, -1.2650025978845147, -3.713643615673266, 1.954172617484427, 0.5229114362947942, -1.209309767411145, -0.4279636708349727, 0.6211361300227757, -0.23046118863091417, 0.9845245676993752, 0.05417956835624241, -1.5375322919902417, -0.5053465748764241, 0.0007086755319873066, 1.480568210392249, 0.8693625281773609, 1.26700179003646, 1.1797826219149938, -1.7985637140632404, -0.6067575451905214, 0.32704661402436325, -1.6843266704258892, -4.279031762388065, 0.2056321342186054, 2.2577239013469916, -2.0464738790661183, -1.631638854324789, 0.5168994472319152, 0.8900016411302408, -0.6388042609105479, -0.5800271888300995, 1.264652452753366, -0.6012978982889989, -1.2765368835042623, -1.7995681554578178, -0.1857584116591276, 0.1335126961224204, 1.8761283519269425, 0.10366375600598589, 0.7265825563767397, 2.10516887654748, -1.112052370379278, 0.06942530343935532, -0.047812307936695664, 1.7243606681003065, 2.2748674443562793, -1.2861897802170674, 0.6815968579553714, -0.1620504645281533, -1.9942973387816734, 0.02498434767935887, 0.5977308223237386, -0.6276081150924487, -0.5491362742877147, --, -1.3645704592589538, -1.2090092863478836, 0.4814361164948905, 1.568211026910862, 2.1717101752300954, 1.107730573787426, 1.5676408857724928, 0.5425100118764624, 1.3674483431460918, 1.3792984859442174, 2.9174683008932947, -1.6622615529406926, 1.438323610822971, -0.7089484877990753, 0.7939325697216586, 2.182390926635691, -0.17214302061366105, 1.1657910023721443, 0.6187146662660791, 0.4404399888080698, 3.183953893811668, 1.687149701850393, -1.6407263903475011, 1.837321370838152, 1.5804724739147096, 1.5827090995599362, 0.07015253176597376, -2.0144886042130103, -1.1451555584136766, -0.9996365757856279, -1.6898264775335867, -0.041665252036036396, 2.535585099432832, 0.6527189364268683, 0.909819190022581, -1.6069025267398322, -1.528397451669478, 0.6989421186810336, 0.7318403848580693, -1.377500968207737, -1.6032757754341656, 0.27909592172894687, -0.5584417892170839, -0.10800596840915624, 1.0116051022275563, -2.667367629438693, -2.3226487069341335, 1.2476590462174384, -1.0478378615002546, 0.6949529981778969, -0.44315856132779824, 0.047050858735502805, 0.11080045797092207, -0.074494947442739, -3.143633092885476, -0.28854033977915833, -0.3076076293033982, 0.11151233271325119, 1.1581803482115107, 0.32092011889275746, -0.9958813432989775, 0.5982078830094373, 0.6459271110023949, 2.8896653772239884, -0.7149084915014247, 1.2126656040464574, 1.4333186371934312, 0.6430433836706462, -0.9310230107936702, 2.635230450893471, 3.1138993167640825, -0.4716030325645847, -1.2300435576187612, -0.36303912698450574, --, -0.03887268034394255, -1.2337917389030801, -1.5229582268621054, 0.5018795722193474, -0.6078677545226921, 1.8129070619912815, 0.5732404377262719, -0.20543064817143766, 1.0847884203693705, -0.32476212941968685, 0.36123082238472887, 1.1634483076297606, 0.2779372179606293, -1.1321400755452782, 1.0947716890541883, -0.5482613790841229, -1.5612801645876226, -1.793258915981094, -0.6869534588117996, -0.6059100007789551, 0.21753946056423853, -2.0626624486022216, 1.3418174403588286, -1.4095282942310032, 0.4097986851457321, 0.948854686194856, -0.9269846133373347, -1.0710221110965275, -1.8848346221611256, 0.5158803917307923, 0.76989533260897, -0.6562679554459945, 0.8240514501649263, 1.4236321065764572, 1.9484997839518572, 1.7177042014876027, -0.13498574228838386, 0.09378671453162486, 1.3777080997093878, -0.6162574768175263, 1.4983244871952328, -0.6488631555051115, -1.2978925638975765, -1.0590645083336663, 1.006170273660909, 1.3108450024064597, 0.517554697963503, -1.2916010436592527, 1.387854988577086, -2.1500493314439764, 0.26990180884851334, -0.858112002012328, 0.992580541541081, 2.138885449028179, -1.9735292944894678, -1.3455248494553438, -0.36110729456156077, -0.9189626967511441, -1.9300177439289283, 1.845461614324148, 1.6743144577651217, 0.3231588054471829, 0.34053025111007507, -1.19870793566781, 1.4212193478152426, 0.08801305677080948, 1.312513815750653, 0.23489032550927783, -0.9457506900385528, -0.3668162976291973, -1.8854342131807582, 0.4717048683214521, -0.7471370543056614, -1.9200462149098858, 1.447504335193824, 0.021752961492341908, 2.209684574324981, -1.901145610157981, 0.2599942720403525, 0.5318349989243031, -1.2747441906767703, -2.330979160126131, -1.810883870815234, 1.2229695334151984, 0.49533995103678224, 1.2840578250550654, 0.8481316600183544, 0.8064936874909056, 1.643022370698894, 0.044276312297087624, 1.9706032416053627, 0.6782388492659128, -1.8952201647482654, -0.07359065191746858, -0.6292820173938143, -1.068441757645346, -0.13643034540363747, 1.2045064558789977, -1.9604817452633312, 0.5288677444712622, -3.101005433524632, -0.2681799332596679, 0.9148195225276355, 0.41033954810674717, 0.8829412541537994, 0.874438029794461, 0.09450991717378616, -1.0630106466823825, 3.908601632976015, -0.29232538149230597, 0.4079263948107423, -1.559604290497873, 0.3750571878967388, 1.8703703803170366, 2.0647564253789197, -2.1925350017790928, 0.26451512878488564, 0.5426492116265181, -0.5728804796191462, -1.1863106101365992, -1.2194472207289304, -1.9046074961580661, 0.5826990555897582, 0.5928951689451183, 1.6711702453438602, 0.7131773493739518, 0.5752354241154524, -0.08257040572954016, -1.4309826671487629, 0.3726537257589222, 0.33511520819401835, 0.38750055421773977, 2.5782554803490787, -1.7678000346421876, 1.1552449430091971, -0.5692569427141198, 0.48014632337265256, -0.8894340926226915, 1.19699644332513, -2.5115775650513843, -1.0805277065363816, -3.0696965136746472, 1.0494633306774137, 0.19892559561969358, 0.6440375768042917, -1.346145341990361, 3.1492646017260824, -1.4779461748891605, -1.4467608030226509, -0.5020892168567502, 1.7566267082318359, 1.085500676414935, -0.7473892775953468, 0.8830054321537337, 0.46261115763017263, 0.955099270797662, -0.10814669775205976, -2.027939966098049, -0.6752177060004997, 1.6221767970114653, -2.1891603550311576, -3.8832804798499856, -1.8442375220299527, 0.40855670734430477, -1.132539103852587, -0.35404899373169973, 0.9421740046634652, -2.2963188617779453, 1.2319702984199603, 2.3994043038291086, 1.654950421762701, 0.18527964175864434, 1.4382986236938196, -0.6338756325170167, -1.4559441497972325, 0.12968901887312703, -1.0187302082444105, 1.7497541247525796, -0.5472744242757304, -1.0308152079758208, -0.25995261817866017, -0.5602675598858053, 0.5487423319434519, -1.2500318016456837, -1.1247268935651797, 0.9743896489518318, 0.19728875975095644, 1.5185880715015718, 0.7764006543799178, -1.6924944288985444, -1.6556977128287307, -1.5498180065409413, -0.055450057830678974, -3.63565937856318, -0.4237970594526641, 1.4603805315698437, 0.5434549868287867, 0.7362971183252731, -1.656088190225763, -3.3939196850439037, -1.2967905876883266, -0.02034040849182571, -2.0632382942945586, -0.19848108779640752, 1.401841578795855, 0.6909995243302627, -2.9929450380779277, 1.1097179332785305, -1.0970500227616389, 1.786808120069843, -0.7806773508675307, -1.3868719628758672, -0.5794986824787247, 0.32649874807167034, -0.939467359455078, -1.5060627058469462, 0.45385546264865934, -0.08547125355976563, 1.5177336625725482, -0.8776034846053057, 1.4003298082442988, -1.0004498964575905, 0.5176329841240208, 1.6577329952378206, 0.099604400916755, -3.391684474972412, 2.0367359800158282, 0.13082804349699523, -0.397026520312776, 1.5685158730685906, 0.901183599018471, -1.6608776244797114, 0.8164358341944217, -0.7866925682616206, -1.152410829392809, 0.920091442396469, 1.4626213777382213, 0.643038377661016, -1.006169267794163, -3.076577080454429, 0.7784786702969106, -2.500968243313337, -2.7394237157855765, -0.923705812132914, -0.5399740593507958, -0.2581376137157504, 0.6877810080361326, -1.1318262231667051, -1.7856433210333742, 0.5305892389419429, -1.9763251545528504, -0.8776844673177183, -0.015331481414889032, 2.061799080572634, -2.0354261547052923, 0.3640013928791707, 0.6729223539029172, 2.2620787908851843, -0.8778473763644402],\n",
       "             mask=[False, False, False, False, False, False, False, False, False, False, False, False, False, False, False, False, False, False, False, False, False, False, False, False, False, False, False, False, False, False, False, False, False, False, False, False, False, False, False, False, False, False, False, False, False, False, False, False, False, False, False, False, False, False, False, False, False, False, False, False, False, False, False, False, False, False, False, False, False, False, False, False, False, False, False, False, False, False, False, False,  True, False, False, False, False, False, False, False, False, False, False, False, False, False, False, False, False, False, False, False, False, False, False, False, False, False, False, False, False, False, False, False, False, False, False, False, False, False, False, False, False, False, False, False, False, False, False, False, False, False, False, False, False, False, False, False, False, False, False, False, False, False, False, False, False, False, False, False, False, False, False, False, False, False, False,  True, False, False, False, False, False, False, False, False, False, False, False, False, False, False, False, False, False, False, False, False, False, False, False, False, False, False, False, False, False, False, False, False, False, False, False, False, False, False, False, False, False, False, False, False, False, False, False, False, False, False, False, False, False, False, False, False, False, False, False, False, False, False, False, False, False, False, False, False, False, False, False, False, False, False, False, False, False, False, False, False, False, False, False, False, False, False, False, False, False, False, False, False, False, False, False, False, False, False, False, False, False, False, False, False, False, False, False, False, False, False, False, False, False, False, False, False, False, False, False, False, False, False, False, False, False, False, False, False, False, False, False, False, False, False, False, False, False, False, False, False, False, False, False, False, False, False, False, False, False, False, False, False, False, False, False, False, False, False, False, False, False, False, False, False, False, False, False, False, False, False, False, False, False, False, False, False, False, False, False, False, False, False, False, False, False, False, False, False, False, False, False, False, False, False, False, False, False, False, False, False, False, False, False, False, False, False, False, False, False, False, False, False, False, False, False, False, False, False, False, False, False, False, False, False, False, False, False, False, False, False, False, False, False, False, False, False, False, False, False, False, False, False, False, False, False, False, False, False, False, False, False, False, False, False, False, False, False, False, False],\n",
       "       fill_value=1e+20)])"
      ]
     },
     "execution_count": 12,
     "metadata": {},
     "output_type": "execute_result"
    }
   ],
   "source": [
    "ripple_result_tuple."
   ]
  },
  {
   "cell_type": "code",
   "execution_count": null,
   "id": "3e9ab10c",
   "metadata": {},
   "outputs": [],
   "source": [
    "long_LR_dock = root_dockAreaWindow.find_display_dock('long_LR')\n",
    "short_LR_dock = root_dockAreaWindow.find_display_dock('short_LR')\n",
    "\n",
    "\n",
    "long_short_info_layout = pg.LayoutWidget()\n",
    "\n",
    "long_info_label = long_short_info_layout.addLabel(text='LONG', row=0, col=0)\n",
    "short_info_label = long_short_info_layout.addLabel(text='SHORT', row=0, col=1)\n",
    "\n",
    "# ['left', long_LR_dock]\n",
    "# \n",
    "_out_rank_order_event_raster_debugger.plots.dock_widgets['left_Long_best_result_dock'] = root_dockAreaWindow.add_display_dock(identifier='left_Long_best_result_dock', widget=long_short_info_layout, dockSize=(600,60), dockAddLocationOpts=['top'], display_config=CustomDockDisplayConfig(showCloseButton=False, corner_radius='0px'))\n",
    "_out_rank_order_event_raster_debugger.plots.dock_widgets['left_Long_best_result_dock'][1].hideTitleBar() # hide the dock title bar\n",
    "\n",
    "# Add the widgets to the .ui:\n",
    "_out_rank_order_event_raster_debugger.ui.long_short_info_layout = long_short_info_layout\n",
    "_out_rank_order_event_raster_debugger.ui.long_info_label = long_info_label\n",
    "_out_rank_order_event_raster_debugger.ui.short_info_label = short_info_label"
   ]
  },
  {
   "cell_type": "code",
   "execution_count": null,
   "id": "47a7a00a",
   "metadata": {},
   "outputs": [],
   "source": [
    "\n"
   ]
  },
  {
   "cell_type": "code",
   "execution_count": null,
   "id": "a839f9e3",
   "metadata": {},
   "outputs": [],
   "source": [
    "_out_rank_order_event_raster_debugger.ui.ctrls_widget.setValue(298)"
   ]
  },
  {
   "cell_type": "code",
   "execution_count": null,
   "id": "2a91522b",
   "metadata": {},
   "outputs": [],
   "source": [
    "\n",
    "unit_sort_orders_dict = dict(zip(['long_LR', 'long_RL', 'short_LR', 'short_RL'], (long_LR, long_RL, short_LR, short_RL)))\n",
    "display('unit_sort_orders_dict')\n",
    "display(unit_sort_orders_dict)\n",
    "unit_unordered_neuron_IDs_dict = dict(zip(['long_LR', 'long_RL', 'short_LR', 'short_RL'], (track_templates.long_LR_decoder.neuron_IDs, track_templates.long_RL_decoder.neuron_IDs, track_templates.short_LR_decoder.neuron_IDs, track_templates.short_RL_decoder.neuron_IDs)))\n",
    "unit_ordered_neuron_IDs_dict = {a_decoder_name:neuron_IDs[unit_sort_orders_dict[a_decoder_name]] for a_decoder_name, neuron_IDs in unit_unordered_neuron_IDs_dict.items()}\n",
    "unit_ordered_neuron_IDs_dict\n",
    "\n",
    "display(f'unit_unordered_neuron_IDs_dict')\n",
    "display(unit_unordered_neuron_IDs_dict)\n",
    "# unit_unordered_neuron_IDs_dict:\n",
    "# {'long_RL': array([  9,  10,  11,  15,  16,  18,  24,  25,  26,  31,  39,  40,  43,  44,  47,  48,  51,  52,  53,  54,  56,  60,  61,  65,  66,  68,  70,  72,  75,  77,  78,  79,  80,  81,  82,  84,  85,  87,  89,  90,  92,  93,  98, 101, 102, 104]),\n",
    "#  'long_LR': array([  9,  10,  11,  15,  16,  18,  24,  25,  26,  31,  39,  40,  43,  44,  47,  48,  51,  52,  53,  54,  56,  60,  61,  65,  66,  68,  70,  72,  75,  77,  78,  79,  80,  81,  82,  84,  85,  87,  89,  90,  92,  93,  98, 101, 102, 104]),\n",
    "#  'short_RL': array([  9,  10,  11,  15,  16,  18,  24,  25,  26,  31,  39,  40,  43,  44,  47,  48,  51,  52,  53,  54,  56,  60,  61,  65,  66,  68,  70,  72,  75,  77,  78,  79,  80,  81,  82,  84,  85,  87,  89,  90,  92,  93,  98, 101, 102, 104]),\n",
    "#  'short_LR': array([  9,  10,  11,  15,  16,  18,  24,  25,  26,  31,  39,  40,  43,  44,  47,  48,  51,  52,  53,  54,  56,  60,  61,  65,  66,  68,  70,  72,  75,  77,  78,  79,  80,  81,  82,  84,  85,  87,  89,  90,  92,  93,  98, 101, 102, 104])}\n",
    "\n",
    "# unit_ordered_neuron_IDs_dict:\n",
    "# {'long_RL': np.array([ 81,  70,  60,  11, 101,  85,  52,  10, 102,  77,  56,  82,  31,  44,  39,  47,  16,  78,  61,  43,  24,  92,  87,  80,  75,  84,   9,  54,  72, 104,  89,  40,  51,  79,  48,  25,  90,  15,  18,  65,  26,  68,  53,  93,  98,  66]),\n",
    "#  'long_LR': np.array([ 53,  52,  54,  18,  84,  65,  79,  16, 104,  60,  87,  85,  39,  25,  51,  31,  11,  92,  56,  75,  44,  93,  89,  68,  77,  98,   9,  47,  82, 102,  80,  40,  78,  43,  66,  15,  90,  10,  24,  72,  26,  61,  48,  81, 101,  70]),\n",
    "#  'short_RL': np.array([ 68,  75,  54,  10, 104,  90,  44,  15,  93,  79,  56,  84,  78,  31,  16,  40,  25,  81,  70,  66,  24,  98,  80,  77,  60,  39,   9,  82,  85, 101,  87,  26,  43,  65,  48,  52,  92,  11,  51,  72,  18,  53,  47,  89, 102,  61]),\n",
    "#  'short_LR': np.array([ 53,  51,  16,  15,  81,  87,  54,  11, 104,  65,  82,  84,  31,  26,  24,  40,  61, 101,  80,  77,  44,  90,  79,  70,  75,  93,  10,  52,  85, 102,  89,  47,  78,  43,  72,  48,  92,   9,  18,  66,  25,  60,  56,  68,  98,  39])}\n",
    "\n",
    "## TemplateDebugger way of getting neuron_ids:\n",
    "rank_order_results: RankOrderComputationsContainer = curr_active_pipeline.global_computation_results.computed_data['RankOrder']\n",
    "minimum_inclusion_fr_Hz: float = rank_order_results.minimum_inclusion_fr_Hz\n",
    "track_templates: TrackTemplates = directional_laps_results.get_templates(minimum_inclusion_fr_Hz=minimum_inclusion_fr_Hz) # non-shared-only -- !! Is minimum_inclusion_fr_Hz=None the issue/difference?\n",
    "decoders_dict = track_templates.get_decoders_dict() # decoders_dict = {'long_LR': track_templates.long_LR_decoder, 'long_RL': track_templates.long_RL_decoder, 'short_LR': track_templates.short_LR_decoder, 'short_RL': track_templates.short_RL_decoder, }\n",
    "\n",
    "# INDIVIDUAL SORTING:\n",
    "sorted_neuron_IDs_lists, sort_helper_neuron_id_to_neuron_colors_dicts, sort_helper_neuron_id_to_sort_IDX_dicts = paired_separately_sort_neurons(decoders_dict, None)\n",
    "\n",
    "display(sorted_neuron_IDs_lists)\n",
    "\n",
    "# [array([ 25,  47,  56,  70,  89,  92, 101,  15,  43,  84,  87,  10,  51,  53,  44,  48,  79,  81,  72,  98,   9,  93,  82,  31,  11,  66,  90,  78,  16, 104,  80,  24,  75,  40,  60,  85,  52, 102,  65,  18,  26,  39,  54,  61,  68,  77]),\n",
    "#  array([ 25,  56,  70,  89,  47,  15,  87,  54,  84,  43,  51,  92,  44,  72,  79,  48,  24,  39,  53,  80,  98,  31,  75,  11,  66,  81,  82,  90, 104,   9,  93,  10,  78, 101,  16,  18,  26,  40,  52,  60,  61,  65,  68,  77,  85, 102]),\n",
    "#  array([ 11,  47,  87,  25,  56,  70,  92,  15,  89,  43, 104,  10,  84,  81,  24,  44,  48,  79,   9,  72,  93,  31,  98,  66,  90,  82,  16,  51,  61,  75,  53,  80,  65,  78,  40,  60,  85, 102,  39,  52, 101,  26,  68,  18,  54,  77]),\n",
    "#  array([ 70,  25,  47,  51,  56,  87,  15,  92,  68,  44,  48,  79,  24,  80,  53,  39,  89,   9,  93,  98,  66,  11,  81,  82, 104,  90,  61,  65,  84,  31,  75,  10,  72, 101,  40,  43,  60,  16,  26,  52,  54,  77,  78,  85, 102,  18])]\n",
    "\n",
    "required_sort_indicies = [find_desired_sort_indicies(neuron_ids, sorted_neuron_IDs)[0] for neuron_ids, sorted_neuron_IDs in zip(list(unit_unordered_neuron_IDs_dict.values()), sorted_neuron_IDs_lists)]   \n",
    "display(required_sort_indicies)\n",
    "# [array([ 7, 14, 20, 26, 38, 40, 43,  3, 12, 35, 37,  1, 16, 18, 13, 15, 31, 33, 27, 42,  0, 41, 34,  9,  2, 24, 39, 30,  4, 45, 32,  6, 28, 11, 21, 36, 17, 44, 23,  5,  8, 10, 19, 22, 25, 29]),\n",
    "#  array([ 7, 20, 26, 38, 14,  3, 37, 19, 35, 12, 16, 40, 13, 27, 31, 15,  6, 10, 18, 32, 42,  9, 28,  2, 24, 33, 34, 39, 45,  0, 41,  1, 30, 43,  4,  5,  8, 11, 17, 21, 22, 23, 25, 29, 36, 44]),\n",
    "#  array([ 2, 14, 37,  7, 20, 26, 40,  3, 38, 12, 45,  1, 35, 33,  6, 13, 15, 31,  0, 27, 41,  9, 42, 24, 39, 34,  4, 16, 22, 28, 18, 32, 23, 30, 11, 21, 36, 44, 10, 17, 43,  8, 25,  5, 19, 29]),\n",
    "#  array([26,  7, 14, 16, 20, 37,  3, 40, 25, 13, 15, 31,  6, 32, 18, 10, 38,  0, 41, 42, 24,  2, 33, 34, 45, 39, 22, 23, 35,  9, 28,  1, 27, 43, 11, 12, 21,  4,  8, 17, 19, 29, 30, 36, 44,  5])]\n"
   ]
  },
  {
   "cell_type": "code",
   "execution_count": null,
   "id": "7e66edd1",
   "metadata": {},
   "outputs": [],
   "source": [
    "# a_sorted_neuron_ids, unit_sort_orders_dict=an_unit_sort_orders, unit_colors_list=a_decoder_color_list\n",
    "\n",
    "\n",
    "# Get only the spikes for the shared_aclus:\n",
    "a_spikes_df = deepcopy(spikes_df).spikes.sliced_by_neuron_id(LR_neuron_ids)\n",
    "a_spikes_df, neuron_id_to_new_IDX_map = a_spikes_df.spikes.rebuild_fragile_linear_neuron_IDXs() # rebuild the fragile indicies afterwards\n",
    "\n",
    "rasters_display_outputs = plot_raster_plot(a_spikes_df, LR_neuron_ids, unit_sort_order=np.arange(len(LR_neuron_ids)), scatter_app_name=f'pho_directional_laps_rasters', defer_show=False, active_context=None)\n"
   ]
  },
  {
   "cell_type": "code",
   "execution_count": null,
   "id": "fec97c43",
   "metadata": {},
   "outputs": [],
   "source": [
    "# Passing no colors at all, passing a different `unit_sort_order` produces a different location for the color rows (the color stays with the spikes), as desired but perhaps not expected.\n",
    "rasters_display_outputs2 = plot_raster_plot(a_spikes_df, LR_neuron_ids, unit_sort_order=np.array(list(reversed(np.arange(len(LR_neuron_ids))))), scatter_app_name=f'pho_directional_laps_rasters2', defer_show=False, active_context=None)\n"
   ]
  },
  {
   "cell_type": "markdown",
   "metadata": {},
   "source": [
    "# 2023-12-01 - Working manual 4 raster plots??"
   ]
  },
  {
   "cell_type": "code",
   "execution_count": null,
   "id": "7d7d158e",
   "metadata": {},
   "outputs": [],
   "source": [
    "active_neuron_ids = np.array([  9,  10,  11,  15,  16,  18,  24,  25,  26,  31,  39,  40,  43,  44,  47,  48,  51,  52,  53,  54,  56,  60,  61,  65,  66,  68,  70,  72,  75,  77,  78,  79,  80,  81,  82,  84,  85,  87,  89,  90,  92,  93,  98, 101, 102, 104])\n",
    "active_sort_idxs = np.arange(len(active_neuron_ids))\n",
    "# Get only the spikes for the shared_aclus:\n",
    "a_spikes_df = deepcopy(spikes_df).spikes.sliced_by_neuron_id(active_neuron_ids)\n",
    "a_spikes_df, neuron_id_to_new_IDX_map = a_spikes_df.spikes.rebuild_fragile_linear_neuron_IDXs() # rebuild the fragile indicies afterwards\n",
    "\n",
    "rasters_display_outputs_unsorted = plot_raster_plot(a_spikes_df, active_neuron_ids, unit_sort_order=active_sort_idxs, scatter_app_name=f'pho_directional_laps_rasters_unsorted', defer_show=False, active_context=None)"
   ]
  },
  {
   "cell_type": "code",
   "execution_count": null,
   "id": "06a51a2a",
   "metadata": {
    "notebookRunGroups": {
     "groupValue": "3"
    }
   },
   "outputs": [],
   "source": [
    "from attrs import asdict\n",
    "from qtpy import QtGui # for QColor\n",
    "from qtpy.QtGui import QColor, QBrush, QPen\n",
    "from pyphocorehelpers.gui.Qt.color_helpers import ColorFormatConverter\n",
    "from pyphoplacecellanalysis.General.Mixins.DataSeriesColorHelpers import DataSeriesColorHelpers\n",
    "from pyphoplacecellanalysis.General.Pipeline.Stages.DisplayFunctions.SpikeRasters import DataSeriesToSpatial, RasterPlotSetupTuple, _build_scatter_plotting_managers, _build_units_y_grid, _plot_empty_raster_plot_frame\n",
    "from pyphoplacecellanalysis.General.Pipeline.Stages.DisplayFunctions.SpikeRasters import new_plot_raster_plot, NewSimpleRaster\n",
    "\n",
    "active_neuron_ids = np.array([  9,  10,  11,  15,  16,  18,  24,  25,  26,  31,  39,  40,  43,  44,  47,  48,  51,  52,  53,  54,  56,  60,  61,  65,  66,  68,  70,  72,  75,  77,  78,  79,  80,  81,  82,  84,  85,  87,  89,  90,  92,  93,  98, 101, 102, 104])\n",
    "active_sort_idxs = np.array([18, 17, 19,  5, 35, 23, 31,  4, 45, 21, 37, 36, 10,  7, 16,  9,  2, 40, 20, 28, 13, 41, 38, 25, 29, 42,  0, 14, 34, 44, 32, 11, 30, 12, 24,  3, 39,  1,  6, 27,  8, 22, 15, 33, 43, 26])\n",
    "active_sorted_neuron_ids = active_neuron_ids[active_sort_idxs] # [ 53  52  54  18  84  65  79  16 104  60  87  85  39  25  51  31  11  92  56  75  44  93  89  68  77  98   9  47  82 102  80  40  78  43  66  15  90  10  24  72  26  61  48  81 101  70]\n",
    "print(f\"active_sorted_neuron_ids: {active_sorted_neuron_ids}\")\n",
    "\n",
    "## Do this just once:\n",
    "global_neuron_qcolors_list = DataSeriesColorHelpers._build_cell_qcolor_list(np.arange(len(active_neuron_ids)), mode=UnitColoringMode.PRESERVE_FRAGILE_LINEAR_NEURON_IDXS, provided_cell_colors=None)\n",
    "global_neuron_colors_dict = dict(zip(active_neuron_ids, global_neuron_qcolors_list))\n",
    "\n",
    "# # test_raster = NewRaster.init_from_neuron_ids(active_neuron_ids)\n",
    "# test_sorted_raster = NewRaster.init_from_neuron_ids(active_sorted_neuron_ids, neuron_colors=global_neuron_colors_dict)\n",
    "# # test_sorted_raster\n",
    "\n",
    "# a_spikes_df = test_sorted_raster.update_spikes_df_visualization_columns(spikes_df=spikes_df)\n",
    "# display(a_spikes_df)\n",
    "# all_spots, all_scatterplot_tooltips_kwargs = test_sorted_raster.build_spikes_all_spots_from_df(spikes_df=a_spikes_df, should_return_data_tooltips_kwargs=True, generate_debug_tuples=False)\n",
    "# rasters_display_outputs3 = new_plot_raster_plot(spikes_df, active_neuron_ids, unit_sort_order=active_sort_idxs, unit_colors_list=global_neuron_colors_dict, scatter_plot_kwargs=None, scatter_app_name='pho_directional_laps_rasters3', defer_show=False, active_context=None)"
   ]
  },
  {
   "cell_type": "code",
   "execution_count": null,
   "id": "6bf647d0",
   "metadata": {
    "notebookRunGroups": {
     "groupValue": "3"
    }
   },
   "outputs": [],
   "source": [
    "active_neuron_ids = np.array([  9,  10,  11,  15,  16,  18,  24,  25,  26,  31,  39,  40,  43,  44,  47,  48,  51,  52,  53,  54,  56,  60,  61,  65,  66,  68,  70,  72,  75,  77,  78,  79,  80,  81,  82,  84,  85,  87,  89,  90,  92,  93,  98, 101, 102, 104])\n",
    "active_sort_idxs = np.array([18, 17, 19,  5, 35, 23, 31,  4, 45, 21, 37, 36, 10,  7, 16,  9,  2, 40, 20, 28, 13, 41, 38, 25, 29, 42,  0, 14, 34, 44, 32, 11, 30, 12, 24,  3, 39,  1,  6, 27,  8, 22, 15, 33, 43, 26])\n",
    "active_sorted_neuron_ids = active_neuron_ids[active_sort_idxs] # [ 53  52  54  18  84  65  79  16 104  60  87  85  39  25  51  31  11  92  56  75  44  93  89  68  77  98   9  47  82 102  80  40  78  43  66  15  90  10  24  72  26  61  48  81 101  70]\n",
    "print(f\"active_sorted_neuron_ids: {active_sorted_neuron_ids}\")\n",
    "# Get only the spikes for the shared_aclus:\n",
    "# a_spikes_df = deepcopy(spikes_df).spikes.sliced_by_neuron_id(active_neuron_ids)\n",
    "# a_spikes_df, neuron_id_to_new_IDX_map = a_spikes_df.spikes.rebuild_fragile_linear_neuron_IDXs() # rebuild the fragile indicies afterwards\n",
    "# a_spikes_df = deepcopy(spikes_df).spikes.sliced_by_neuron_id(active_neuron_ids)\n",
    "\n",
    "rasters_display_outputs3 = new_plot_raster_plot(spikes_df, active_neuron_ids, unit_sort_order=active_sort_idxs, unit_colors_list=global_neuron_colors_dict, scatter_plot_kwargs=None, scatter_app_name='pho_directional_laps_rasters3', defer_show=False, active_context=None)\n",
    "# rasters_display_outputs3 = plot_raster_plot(a_spikes_df, active_neuron_ids, unit_sort_order=active_sort_idxs, scatter_app_name=f'pho_directional_laps_rasters3', defer_show=False, active_context=None)"
   ]
  },
  {
   "cell_type": "code",
   "execution_count": null,
   "id": "f9e32625",
   "metadata": {},
   "outputs": [],
   "source": [
    "# rasters_display_outputs3.plots_data\n",
    "rasters_display_outputs3.plots.debug_header_label.setText('TEST LABEL')"
   ]
  },
  {
   "cell_type": "code",
   "execution_count": null,
   "id": "558cce3f",
   "metadata": {
    "notebookRunGroups": {
     "groupValue": "3"
    }
   },
   "outputs": [],
   "source": [
    "active_neuron_ids = np.array([  9,  10,  11,  15,  16,  18,  24,  25,  26,  31,  39,  40,  43,  44,  47,  48,  51,  52,  53,  54,  56,  60,  61,  65,  66,  68,  70,  72,  75,  77,  78,  79,  80,  81,  82,  84,  85,  87,  89,  90,  92,  93,  98, 101, 102, 104])\n",
    "active_sort_idxs = np.array([33, 26, 21,  2, 43, 36, 17,  1, 44, 29, 20, 34,  9, 13, 10, 14,  4, 30, 22, 12,  6, 40, 37, 32, 28, 35,  0, 19, 27, 45, 38, 11, 16, 31, 15,  7, 39,  3,  5, 23,  8, 25, 18, 41, 42, 24])\n",
    "# Get only the spikes for the shared_aclus:\n",
    "# a_spikes_df = deepcopy(spikes_df).spikes.sliced_by_neuron_id(active_neuron_ids)\n",
    "# a_spikes_df, neuron_id_to_new_IDX_map = a_spikes_df.spikes.rebuild_fragile_linear_neuron_IDXs() # rebuild the fragile indicies afterwards\n",
    "\n",
    "# rasters_display_outputs4 = plot_raster_plot(a_spikes_df, active_neuron_ids, unit_sort_order=active_sort_idxs, scatter_app_name=f'pho_directional_laps_rasters4', defer_show=False, active_context=None)\n",
    "rasters_display_outputs4 = new_plot_raster_plot(spikes_df, active_neuron_ids, unit_sort_order=active_sort_idxs, unit_colors_list=global_neuron_colors_dict, scatter_plot_kwargs=None, scatter_app_name='pho_directional_laps_rasters4', defer_show=False, active_context=None)\n"
   ]
  },
  {
   "cell_type": "code",
   "execution_count": null,
   "id": "f5394427",
   "metadata": {
    "notebookRunGroups": {
     "groupValue": "3"
    }
   },
   "outputs": [],
   "source": [
    "active_neuron_ids = np.array([  9,  10,  11,  15,  16,  18,  24,  25,  26,  31,  39,  40,  43,  44,  47,  48,  51,  52,  53,  54,  56,  60,  61,  65,  66,  68,  70,  72,  75,  77,  78,  79,  80,  81,  82,  84,  85,  87,  89,  90,  92,  93,  98, 101, 102, 104])\n",
    "active_sort_idxs = np.array([18, 16,  4,  3, 33, 37, 19,  2, 45, 23, 34, 35,  9,  8,  6, 11, 22, 43, 32, 29, 13, 39, 31, 26, 28, 41,  1, 17, 36, 44, 38, 14, 30, 12, 27, 15, 40,  0,  5, 24,  7, 21, 20, 25, 42, 10])\n",
    "# Get only the spikes for the shared_aclus:\n",
    "# a_spikes_df = deepcopy(spikes_df).spikes.sliced_by_neuron_id(active_neuron_ids)\n",
    "# a_spikes_df, neuron_id_to_new_IDX_map = a_spikes_df.spikes.rebuild_fragile_linear_neuron_IDXs() # rebuild the fragile indicies afterwards\n",
    "\n",
    "# rasters_display_outputs5 = plot_raster_plot(a_spikes_df, active_neuron_ids, unit_sort_order=active_sort_idxs, scatter_app_name=f'pho_directional_laps_rasters5', defer_show=False, active_context=None)\n",
    "rasters_display_outputs5 = new_plot_raster_plot(spikes_df, active_neuron_ids, unit_sort_order=active_sort_idxs, unit_colors_list=global_neuron_colors_dict, scatter_plot_kwargs=None, scatter_app_name='pho_directional_laps_rasters5', defer_show=False, active_context=None)"
   ]
  },
  {
   "cell_type": "code",
   "execution_count": null,
   "id": "1271b2a0",
   "metadata": {
    "notebookRunGroups": {
     "groupValue": "3"
    }
   },
   "outputs": [],
   "source": [
    "active_neuron_ids = np.array([  9,  10,  11,  15,  16,  18,  24,  25,  26,  31,  39,  40,  43,  44,  47,  48,  51,  52,  53,  54,  56,  60,  61,  65,  66,  68,  70,  72,  75,  77,  78,  79,  80,  81,  82,  84,  85,  87,  89,  90,  92,  93,  98, 101, 102, 104])\n",
    "active_sort_idxs = np.array([25, 28, 19,  1, 45, 39, 13,  3, 41, 31, 20, 35, 30,  9,  4, 11,  7, 33, 26, 24,  6, 42, 32, 29, 21, 10,  0, 34, 36, 43, 37,  8, 12, 23, 15, 17, 40,  2, 16, 27,  5, 18, 14, 38, 44, 22])\n",
    "# Get only the spikes for the shared_aclus:\n",
    "# a_spikes_df = deepcopy(spikes_df).spikes.sliced_by_neuron_id(active_neuron_ids)\n",
    "# a_spikes_df, neuron_id_to_new_IDX_map = a_spikes_df.spikes.rebuild_fragile_linear_neuron_IDXs() # rebuild the fragile indicies afterwards\n",
    "\n",
    "# rasters_display_outputs6 = plot_raster_plot(a_spikes_df, active_neuron_ids, unit_sort_order=active_sort_idxs, scatter_app_name=f'pho_directional_laps_rasters6', defer_show=False, active_context=None)\n",
    "rasters_display_outputs6 = new_plot_raster_plot(spikes_df, active_neuron_ids, unit_sort_order=active_sort_idxs, unit_colors_list=global_neuron_colors_dict, scatter_plot_kwargs=None, scatter_app_name='pho_directional_laps_rasters6', defer_show=False, active_context=None)"
   ]
  },
  {
   "cell_type": "code",
   "execution_count": null,
   "id": "59ecdc2d",
   "metadata": {
    "notebookRunGroups": {
     "groupValue": "3"
    }
   },
   "outputs": [],
   "source": [
    "main_plot3 = rasters_display_outputs3[2]['root_plot']\n",
    "main_plot4 = rasters_display_outputs4[2]['root_plot']\n",
    "main_plot5 = rasters_display_outputs5[2]['root_plot']\n",
    "main_plot6 = rasters_display_outputs6[2]['root_plot']\n",
    "\n",
    "# Link em' up my friend:\n",
    "main_plot4.setXLink(main_plot3)\n",
    "main_plot5.setXLink(main_plot3)\n",
    "main_plot6.setXLink(main_plot3)\n",
    "\n",
    "# y-links, yum:\n",
    "main_plot4.setYLink(main_plot3)\n",
    "main_plot5.setYLink(main_plot3)\n",
    "main_plot6.setYLink(main_plot3)\n",
    "\n"
   ]
  },
  {
   "cell_type": "code",
   "execution_count": null,
   "id": "c04326fe",
   "metadata": {},
   "outputs": [],
   "source": [
    "# if index > 0 and index < len(data1):\n",
    "debug_footer_label.setText(\"test\")\n",
    "# <span style='font-size: 12pt'>x=%0.1f,   <span style='color: red'>y1=%0.1f</span>,   <span style='color: green'>y2=%0.1f</span>\" % (mousePoint.x(), data1[index], data2[index]))\n",
    "            \n"
   ]
  },
  {
   "cell_type": "code",
   "execution_count": null,
   "id": "e9c42f1c",
   "metadata": {},
   "outputs": [],
   "source": [
    "rasters_display_outputs_unsorted.plots_data.raster_plot_manager.unit_sort_manager.y_fragile_linear_neuron_IDX_map\n",
    "# rasters_display_outputs_unsorted.plots_data.raster_plot_manager.unit_sort_manager.params.config_items\n",
    "# rasters_display_outputs_unsorted.plots_data.raster_plot_manager.config_fragile_linear_neuron_IDX_map"
   ]
  },
  {
   "cell_type": "code",
   "execution_count": null,
   "id": "7700bdb9",
   "metadata": {},
   "outputs": [],
   "source": [
    "rasters_display_outputs3.plots_data.raster_plot_manager.unit_sort_manager.y_fragile_linear_neuron_IDX_map\n",
    "# rasters_display_outputs3.plots_data.raster_plot_manager.unit_sort_manager.params.config_items\n",
    "# rasters_display_outputs3.plots_data.raster_plot_manager.config_fragile_linear_neuron_IDX_map"
   ]
  },
  {
   "cell_type": "code",
   "execution_count": null,
   "id": "15364325",
   "metadata": {},
   "outputs": [],
   "source": [
    "from pyphoplacecellanalysis.GUI.PyQtPlot.Widgets.GraphicsObjects.CustomLinearRegionItem import CustomLinearRegionItem\n",
    "\n",
    "kwargs = {}\n",
    "\n",
    "neuron_label = f\"{9}\"\n",
    "epoch_linear_region:CustomLinearRegionItem = CustomLinearRegionItem(**(dict(pen=pg.mkPen('#fff'), brush=pg.mkBrush('#f004'), hoverBrush=pg.mkBrush('#fff4'), hoverPen=pg.mkPen('#f00'))|kwargs), movable=False) #, clipItem=plots['difference']  bound the LinearRegionItem to the plotted data\n",
    "epoch_linear_region.setObjectName(f'neuron_region[{neuron_label}]')\n",
    "epoch_linear_region.setZValue(-3) # put it in the back\n",
    "epoch_region_label:pg.InfLineLabel = pg.InfLineLabel(epoch_linear_region.lines[0], f\"{neuron_label}\", position=0.95, rotateAxis=(1,0), anchor=(1, 1)) # add the label for the short epoch\n",
    "# Add the LinearRegionItem to the ViewBox, but tell the ViewBox to exclude this item when doing auto-range calculations.\n",
    "a_main_plot.addItem(epoch_linear_region, ignoreBounds=True)\n",
    "# Set the position:\n",
    "\n"
   ]
  },
  {
   "cell_type": "code",
   "execution_count": null,
   "id": "380ce211",
   "metadata": {},
   "outputs": [],
   "source": [
    "\n",
    "lower_uppder_y_pairs = [(lower_y, upper_y) for lower_y, upper_y in zip(a_raster_plot_manager.unit_sort_manager._series_identity_lower_y_values, a_raster_plot_manager.unit_sort_manager._series_identity_upper_y_values)]\n",
    "lower_uppder_y_pairs\n"
   ]
  },
  {
   "cell_type": "code",
   "execution_count": null,
   "id": "02de5ef6",
   "metadata": {},
   "outputs": [],
   "source": [
    "\n",
    "epoch_linear_region.setRegion([t_start, t_stop]) # adjust scroll control"
   ]
  },
  {
   "cell_type": "code",
   "execution_count": null,
   "id": "347ab55b",
   "metadata": {},
   "outputs": [],
   "source": [
    "## One issue seems to be just ascending vs. descending expectation order!\n",
    "sorted_neuron_ids"
   ]
  },
  {
   "cell_type": "code",
   "execution_count": null,
   "id": "6347c1cc",
   "metadata": {},
   "outputs": [],
   "source": [
    "curr_neuron_ids_list = a_raster_plot_manager.unit_sort_manager.find_cell_ids_from_neuron_IDXs(a_raster_plot_manager.unit_sort_manager.fragile_linear_neuron_IDXs)\n",
    "curr_neuron_ids_list"
   ]
  },
  {
   "cell_type": "code",
   "execution_count": null,
   "id": "55b48f2a",
   "metadata": {},
   "outputs": [],
   "source": [
    "sorted_neuron_ids = a_raster_plot_manager.unit_sort_manager.neuron_ids[a_raster_plot_manager.unit_sort_manager.unit_sort_order] ## This finally matches the order of the labels\n",
    "sorted_neuron_ids\n"
   ]
  },
  {
   "cell_type": "code",
   "execution_count": null,
   "id": "d9416c94",
   "metadata": {},
   "outputs": [],
   "source": [
    "# `y_fragile_linear_neuron_IDX_map` gives map for fragile_linear_neuron_IDXs, not neuron_IDs\n",
    "sorted_y_fragile_linear_neuron_IDX_map = dict(sorted(deepcopy(a_raster_plot_manager.unit_sort_manager.y_fragile_linear_neuron_IDX_map).items(), key=lambda item: item[1]))\n",
    "print(sorted_y_fragile_linear_neuron_IDX_map) # {26: 0.5, 37: 1.5, 16: 2.5, 35: 3.5, 7: 4.5, 3: 5.5, 38: 6.5, 13: 7.5, 40: 8.5, 15: 9.5, 12: 10.5, 31: 11.5, 33: 12.5, 20: 13.5, 27: 14.5, 42: 15.5, 14: 16.5, 1: 17.5, 0: 18.5, 2: 19.5, 18: 20.5, 9: 21.5, 41: 22.5, 5: 23.5, 34: 24.5, 23: 25.5, 45: 26.5, 39: 27.5, 19: 28.5, 24: 29.5, 32: 30.5, 6: 31.5, 30: 32.5, 43: 33.5, 28: 34.5, 4: 35.5, 11: 36.5, 10: 37.5, 22: 38.5, 36: 39.5, 17: 40.5, 21: 41.5, 25: 42.5, 44: 43.5, 29: 44.5, 8: 45.5}\n"
   ]
  },
  {
   "cell_type": "code",
   "execution_count": null,
   "id": "699ceaa8",
   "metadata": {},
   "outputs": [],
   "source": [
    "win = rasters_display_outputs_list[0].win # GraphicsLayoutWidget \n",
    "saved_window_geometry = []\n",
    "\n",
    "\n",
    "saved_pos0 = win.saveGeometry() # QByteArray\n",
    "saved_pos0"
   ]
  },
  {
   "cell_type": "code",
   "execution_count": null,
   "id": "9f357d8c",
   "metadata": {},
   "outputs": [],
   "source": [
    "saved_window_geometry = [deepcopy(a_rasters_display_output.win.saveGeometry()) for a_rasters_display_output in rasters_display_outputs_list] # QByteArray\n"
   ]
  },
  {
   "cell_type": "code",
   "execution_count": null,
   "id": "74b0aa29",
   "metadata": {},
   "outputs": [],
   "source": [
    "win.restoreGeometry(saved_pos0)"
   ]
  },
  {
   "cell_type": "code",
   "execution_count": null,
   "id": "51b1dd08",
   "metadata": {},
   "outputs": [],
   "source": [
    "custom_font = pg.QtGui.QFont()\n",
    "custom_font.setPixelSize(30)\n",
    "\n",
    "a_main_plot.getAxis(\"bottom\").tickFont = custom_font\n",
    "a_main_plot.getAxis(\"bottom\").setStyle(tickTextOffset = 30)"
   ]
  },
  {
   "cell_type": "code",
   "execution_count": null,
   "id": "aeb0f7ea",
   "metadata": {},
   "outputs": [],
   "source": [
    "# ay.tickSpacing() # tickSpacing() missing 3 required positional arguments: 'minVal', 'maxVal', and 'size'\n",
    "# ay.tickValues() # tickValues() missing 3 required positional arguments: 'minVal', 'maxVal', and 'size'\n",
    "\n"
   ]
  },
  {
   "cell_type": "code",
   "execution_count": null,
   "id": "87fd2831",
   "metadata": {},
   "outputs": [],
   "source": [
    "\n",
    "unsorted_neuron_ids = np.array([  9,  10,  11,  15,  16,  18,  24,  25,  26,  31,  39,  40,  43,  44,  47,  48,  51,  52,  53,  54,  56,  60,  61,  65,  66,  68,  70,  72,  75,  77,  78,  79,  80,  81,  82,  84,  85,  87,  89,  90,  92,  93,  98, 101, 102, 104])\n",
    "\n",
    "sort_list = np.array([ 7, 14, 20, 26, 38, 40, 43,  3, 12, 35, 37,  1, 16, 18, 13, 15, 31, 33, 27, 42,  0, 41, 34,  9,  2, 24, 39, 30,  4, 45, 32,  6, 28, 11, 21, 36, 17, 44, 23,  5,  8, 10, 19, 22, 25, 29])\n",
    "\n",
    "\n",
    "# np.all(\n",
    "\n"
   ]
  },
  {
   "cell_type": "code",
   "execution_count": null,
   "id": "90f22dc7",
   "metadata": {},
   "outputs": [],
   "source": [
    "_out_rank_order_event_raster_debugger.get_epoch_active_aclus()"
   ]
  },
  {
   "cell_type": "code",
   "execution_count": null,
   "id": "93f02e24",
   "metadata": {},
   "outputs": [],
   "source": [
    "_out_rank_order_event_raster_debugger.active_epoch_tuple"
   ]
  },
  {
   "cell_type": "code",
   "execution_count": null,
   "id": "a7931c5b",
   "metadata": {},
   "outputs": [],
   "source": [
    "debug_update_plot_titles(_out_rank_order_event_raster_debugger, an_idx=309)"
   ]
  },
  {
   "cell_type": "code",
   "execution_count": null,
   "id": "0536617f",
   "metadata": {},
   "outputs": [],
   "source": [
    "from pyphoplacecellanalysis.General.Pipeline.Stages.ComputationFunctions.MultiContextComputationFunctions.DirectionalPlacefieldGlobalComputationFunctions import DirectionalPlacefieldGlobalDisplayFunctions\n",
    "\n",
    "curr_active_pipeline.reload_default_display_functions()\n",
    "epoch_active_aclus = None\n",
    "_out_directional_template_pfs_debugger = curr_active_pipeline.display(DirectionalPlacefieldGlobalDisplayFunctions._display_directional_template_debugger, included_any_context_neuron_ids=epoch_active_aclus)\n",
    "directional_template_pfs_debugger_on_update_callback = _out_directional_template_pfs_debugger.get('ui').on_update_callback\n",
    "directional_template_pfs_debugger_on_update_callback"
   ]
  },
  {
   "cell_type": "code",
   "execution_count": null,
   "id": "bd973981",
   "metadata": {},
   "outputs": [],
   "source": [
    "# directional_template_pfs_debugger_on_update_callback(np.array([77, 18, 25]))\n",
    "\n",
    "directional_template_pfs_debugger_on_update_callback(np.array([9,  26,  31,  39,  40,  43,  47,  52,  53,  54,  60,  61,  65,  68,  72,  75,  77,  78,  81,  82,  84,  85,  90,  92,  93,  98, 102]))\n",
    "\n"
   ]
  },
  {
   "cell_type": "code",
   "execution_count": null,
   "id": "04124521",
   "metadata": {},
   "outputs": [],
   "source": [
    "# _out_directional_template_pfs_debugger\n",
    "\n",
    "win = _out_directional_template_pfs_debugger.get('win')\n",
    "app = _out_directional_template_pfs_debugger.get('app')\n",
    "ui = _out_directional_template_pfs_debugger.get('ui')\n",
    "plots = _out_directional_template_pfs_debugger.get('plots')\n",
    "data = _out_directional_template_pfs_debugger.get('data')\n"
   ]
  },
  {
   "cell_type": "code",
   "execution_count": null,
   "id": "6ce86d90",
   "metadata": {},
   "outputs": [],
   "source": [
    "data.unsorted_included_any_context_neuron_ids"
   ]
  },
  {
   "cell_type": "code",
   "execution_count": null,
   "id": "1220d352",
   "metadata": {},
   "outputs": [],
   "source": [
    "a_decoder_name = 'short_RL'\n",
    "curr_win, curr_img = plots.pf1D_heatmaps[a_decoder_name] # pyphoplacecellanalysis.External.pyqtgraph.widgets.PlotWidget.PlotWidget\n",
    "\n",
    "# a_text_item = ui.text_items_dict[a_decoder_name][31] # pyqtgraph.graphicsItems.TextItem.TextItem\n",
    "\n",
    "unused_text_items_dict = {aclu:a_text_item for aclu, a_text_item in ui.text_items_dict[a_decoder_name].items() if aclu not in data.unsorted_included_any_context_neuron_ids}\n",
    "\n",
    "for aclu, a_text_item in unused_text_items_dict.items():\n",
    "\ta_text_item.hide()\n"
   ]
  },
  {
   "cell_type": "code",
   "execution_count": null,
   "id": "ee16d641",
   "metadata": {},
   "outputs": [],
   "source": [
    "\n",
    "for aclu, a_text_item in ui.text_items_dict[a_decoder_name].items():\n",
    "\tcurr_win.removeItem(a_text_item)\n",
    "\ta_text_item.deleteLater()\n",
    "\n",
    "# curr_win.addItem(text)\n",
    "# curr_win.add"
   ]
  },
  {
   "cell_type": "code",
   "execution_count": null,
   "id": "a6027b20",
   "metadata": {},
   "outputs": [],
   "source": [
    "data #'sorted_neuron_IDs_lists'"
   ]
  },
  {
   "cell_type": "code",
   "execution_count": null,
   "id": "b1f353f3",
   "metadata": {},
   "outputs": [],
   "source": [
    "LR_short_relative_real_values"
   ]
  },
  {
   "cell_type": "markdown",
   "id": "1e4b438c",
   "metadata": {
    "notebookRunGroups": {
     "groupValue": "21"
    }
   },
   "source": [
    "### Independent DirectionalTemplatePFsDebugger for testing"
   ]
  },
  {
   "cell_type": "code",
   "execution_count": 11,
   "id": "a5f7ac4e",
   "metadata": {
    "notebookRunGroups": {
     "groupValue": "31"
    }
   },
   "outputs": [
    {
     "name": "stderr",
     "output_type": "stream",
     "text": [
      "INFO:com.PhoHale.Spike3D.pipeline:NeuropyPipeline.on_stage_changed(new_stage=\"PipelineStage.Displayed\")\n"
     ]
    },
    {
     "name": "stdout",
     "output_type": "stream",
     "text": [
      "PhoDockAreaContainingWindow.GlobalConnectionManagerAccessingMixin_on_setup()\n",
      "PhoDockAreaContainingWindow.try_register_any_control_widgets()\n",
      "\tflat_widgets_list contains 0 items\n",
      "using overriden dock location.\n"
     ]
    },
    {
     "name": "stdout",
     "output_type": "stream",
     "text": [
      "emitChanged(): self.val: 298\n",
      "valueChanged(new_val: 298)\n",
      "a_df_idx: 298\n",
      "a_decoder_name: long_LR, a_real_value: 0.623\n",
      "a_decoder_name: long_RL, a_real_value: 0.311\n",
      "a_decoder_name: short_LR, a_real_value: 0.542\n",
      "a_decoder_name: short_RL, a_real_value: 0.210\n",
      "len(included_any_context_neuron_ids_dict_dict) != len(decoders_dict), assuming this is a single included_any_context_neuron_ids_dict for all decoders like used in `paired_incremental_sort_neurons(...)`. Fixing. \n",
      "emitChanged(): self.val: 289\n",
      "valueChanged(new_val: 289)\n",
      "a_df_idx: 289\n",
      "a_decoder_name: long_LR, a_real_value: -0.725\n",
      "a_decoder_name: long_RL, a_real_value: -0.247\n",
      "a_decoder_name: short_LR, a_real_value: -0.775\n",
      "a_decoder_name: short_RL, a_real_value: -0.505\n",
      "len(included_any_context_neuron_ids_dict_dict) != len(decoders_dict), assuming this is a single included_any_context_neuron_ids_dict for all decoders like used in `paired_incremental_sort_neurons(...)`. Fixing. \n",
      "emitChanged(): self.val: 298\n",
      "valueChanged(new_val: 298)\n",
      "a_df_idx: 298\n",
      "a_decoder_name: long_LR, a_real_value: 0.623\n",
      "a_decoder_name: long_RL, a_real_value: 0.311\n",
      "a_decoder_name: short_LR, a_real_value: 0.542\n",
      "a_decoder_name: short_RL, a_real_value: 0.210\n",
      "len(included_any_context_neuron_ids_dict_dict) != len(decoders_dict), assuming this is a single included_any_context_neuron_ids_dict for all decoders like used in `paired_incremental_sort_neurons(...)`. Fixing. \n",
      "PhoDockAreaContainingWindow.closeEvent(event: <PyQt5.QtGui.QCloseEvent object at 0x000001BFD4D21280>)\n",
      "PhoDockAreaContainingWindow.GlobalConnectionManagerAccessingMixin_on_destroy()\n",
      "\tflat_widgets_list contains 4 items\n",
      "Found a group with the identifier long_LR containing 1 items. Removing all...\n",
      "on_dock_closed(closing_dock: <Dock long_LR (300, 200)>)\n",
      "\t closing_dock_identifier: long_LR\n",
      "\t found by simple title identifier and removed!\n",
      "Uncaught Exception in slot\n"
     ]
    },
    {
     "name": "stderr",
     "output_type": "stream",
     "text": [
      "Traceback (most recent call last):\n",
      "  File \"C:\\Users\\pho\\repos\\Spike3DWorkEnv\\pyPhoCoreHelpers\\src\\pyphocorehelpers\\gui\\Qt\\ExceptionPrintingSlot.py\", line 41, in wrapper\n",
      "    func(*args)\n",
      "  File \"C:\\Users\\pho\\repos\\Spike3DWorkEnv\\pyPhoPlaceCellAnalysis\\src\\pyphoplacecellanalysis\\GUI\\PyQtPlot\\DockingWidgets\\DynamicDockDisplayAreaContent.py\", line 229, in DynamicDockDisplayAreaContentMixin_on_destroy\n",
      "    self.clear_all_display_docks()\n",
      "  File \"C:\\Users\\pho\\repos\\Spike3DWorkEnv\\pyPhoPlaceCellAnalysis\\src\\pyphoplacecellanalysis\\GUI\\PyQtPlot\\DockingWidgets\\DynamicDockDisplayAreaContent.py\", line 398, in clear_all_display_docks\n",
      "    self.remove_display_dock(group_identifier)\n",
      "  File \"C:\\Users\\pho\\repos\\Spike3DWorkEnv\\pyPhoPlaceCellAnalysis\\src\\pyphoplacecellanalysis\\GUI\\PyQtPlot\\DockingWidgets\\DynamicDockDisplayAreaContent.py\", line 382, in remove_display_dock\n",
      "    del self.dynamic_display_dict[identifier]\n",
      "KeyError: 'long_LR'\n"
     ]
    }
   ],
   "source": [
    "# _display_directional_laps_overview:\n",
    "curr_active_pipeline.prepare_for_display()\n",
    "curr_active_pipeline.reload_default_display_functions()\n",
    "# _out = curr_active_pipeline.display(DirectionalPlacefieldGlobalDisplayFunctions._display_directional_laps_overview)\n",
    "_out_all_cells_directional_template_pfs_debugger = curr_active_pipeline.display(DirectionalPlacefieldGlobalDisplayFunctions._display_directional_template_debugger, included_any_context_neuron_ids=None, figure_name='All Cells (Independent)')"
   ]
  },
  {
   "cell_type": "code",
   "execution_count": null,
   "id": "6b612abf",
   "metadata": {},
   "outputs": [],
   "source": [
    "_out_rank_order_event_raster_debugger.on_update_epoch_IDX(298)"
   ]
  },
  {
   "cell_type": "code",
   "execution_count": null,
   "id": "aeb7f089",
   "metadata": {},
   "outputs": [],
   "source": [
    "def convert_to_seconds(minutes: int, seconds: float) -> float:\n",
    "\t\"\"\" returns fractional seconds \"\"\"\n",
    "\treturn (60.0 * float(minutes)) + seconds\n",
    "\n",
    "convert_to_seconds(18, 37.5) # 1117.5"
   ]
  },
  {
   "cell_type": "code",
   "execution_count": null,
   "id": "01b8607b",
   "metadata": {},
   "outputs": [],
   "source": [
    "# Set spike emphasis on debug rasters?\n",
    "\n",
    "# Get debug rasters to match the colors in template viewer?\n"
   ]
  },
  {
   "cell_type": "code",
   "execution_count": null,
   "id": "cec3c149",
   "metadata": {},
   "outputs": [],
   "source": [
    "# 2023-11-20 - Finding high-significance periods for Kamran:\n",
    "is_greater_than_2std_long = (np.abs(ripple_result_tuple.long_best_dir_z_score_values) > 2.0)\n",
    "is_greater_than_2std_short = (np.abs(ripple_result_tuple.short_best_dir_z_score_values) > 2.0)\n",
    "is_significant_either = np.logical_or(is_greater_than_2std_long, is_greater_than_2std_short)\n",
    "\n",
    "# is_greater_than_3std_long = (np.abs(ripple_result_tuple.long_best_dir_z_score_values) >= 3.0)\n",
    "# is_greater_than_3std_short = (np.abs(ripple_result_tuple.short_best_dir_z_score_values) >= 3.0)\n",
    "# is_significant_either = np.logical_or(is_greater_than_3std_long, is_greater_than_3std_short)\n",
    "\n",
    "significant_ripple_epochs = deepcopy(global_replays).boolean_indicies_slice(is_significant_either)\n",
    "significant_ripple_epochs.to_dataframe()\n",
    "\n",
    "# significant_ripple_epochs.filename = Path(f'output/2023-11-27_SignificantReplayRipples').resolve()\n",
    "# significant_ripple_epochs.to_neuroscope()\n"
   ]
  },
  {
   "cell_type": "code",
   "execution_count": null,
   "id": "973dd266",
   "metadata": {},
   "outputs": [],
   "source": [
    "import ipywidgets as widgets\n",
    "\n",
    "# 2023-11-17: Displays a slider that allows the user to select the epoch_IDX instead of having to type it and call it manually\n",
    "# https://ipywidgets.readthedocs.io/en/latest/examples/Widget%20Events.html#throttling\n",
    "\n",
    "active_epoch_IDX = 0\n",
    "# Define the update function\n",
    "def update_function(change):\n",
    "    global active_epoch_IDX\n",
    "    new_value = change['new']\n",
    "    active_epoch_IDX = new_value\n",
    "    # convert to good value:\n",
    "\n",
    "    # significant_ripple_epochs = deepcopy(global_replays)\n",
    "    active_epoch_IDX = significant_ripple_epochs.to_dataframe().index[new_value]\n",
    "\n",
    "    # Add your update logic here\n",
    "    print(f\"Slider value updated to: {new_value}\")\n",
    "    _out.on_update_epoch_IDX(active_epoch_IDX) # call the update\n",
    "    # print(f'n_unique_cells_participating_in_replay[{active_epoch_IDX}]: {n_unique_cells_participating_in_replay[active_epoch_IDX]}')\n",
    "    selected_epoch_df = global_replays.to_dataframe()[global_replays.to_dataframe().index == active_epoch_IDX] # should only contain one entry, the selected epoch.\n",
    "    curr_epoch = list(selected_epoch_df.itertuples())[0] # extract the interval of interest as a namedtuple object\n",
    "    print(f\"curr_epoch: {curr_epoch}\")\n",
    "\n",
    "    \n",
    "# Create a slider widget\n",
    "slider = widgets.IntSlider(value=0, min=0, max=np.shape(_out.active_epochs_df)[0], step=1, description='Test Slider')\n",
    "\n",
    "# Link the update function to value changes in the slider\n",
    "slider.observe(update_function, names='value')\n",
    "\n",
    "# Display the slider\n",
    "display(slider)\n"
   ]
  },
  {
   "cell_type": "markdown",
   "id": "220c19f9",
   "metadata": {
    "notebookRunGroups": {
     "groupValue": "2"
    }
   },
   "source": [
    "# Plot the z-scores differences and their raw-values"
   ]
  },
  {
   "cell_type": "code",
   "execution_count": null,
   "id": "c36856cb",
   "metadata": {},
   "outputs": [],
   "source": [
    "# ripple_result_tuple.directional_likelihoods_tuple\n",
    "ripple_result_tuple.directional_likelihoods_tuple.long_best_direction_indices[105] # 1, "
   ]
  },
  {
   "cell_type": "code",
   "execution_count": null,
   "id": "23ac85b9",
   "metadata": {},
   "outputs": [],
   "source": [
    "ripple_result_tuple.directional_likelihoods_tuple.short_best_direction_indices[105]"
   ]
  },
  {
   "cell_type": "code",
   "execution_count": null,
   "id": "751e2ba3",
   "metadata": {},
   "outputs": [],
   "source": [
    "ripple_result_tuple.long_best_dir_z_score_values[105]"
   ]
  },
  {
   "cell_type": "code",
   "execution_count": null,
   "id": "9372e0f2",
   "metadata": {},
   "outputs": [],
   "source": [
    "ripple_result_tuple.short_best_dir_z_score_values[105]"
   ]
  },
  {
   "cell_type": "code",
   "execution_count": null,
   "id": "8a1cad5d",
   "metadata": {},
   "outputs": [],
   "source": [
    "from pyphoplacecellanalysis.General.Pipeline.Stages.ComputationFunctions.MultiContextComputationFunctions.RankOrderComputations import plot_rank_order_epoch_inst_fr_result_tuples\n",
    "\n",
    "\n",
    "ripple_outputs = plot_rank_order_epoch_inst_fr_result_tuples(curr_active_pipeline, ripple_result_tuple, 'Ripple')\n",
    "\n",
    "# Usage of the function for Lap\n",
    "lap_outputs = plot_rank_order_epoch_inst_fr_result_tuples(curr_active_pipeline, laps_result_tuple, 'Lap')"
   ]
  },
  {
   "cell_type": "code",
   "execution_count": null,
   "id": "905e6b71",
   "metadata": {},
   "outputs": [],
   "source": [
    "np.shape(ripple_result_tuple.long_best_dir_z_score_values)"
   ]
  },
  {
   "cell_type": "code",
   "execution_count": null,
   "id": "ff13302a",
   "metadata": {},
   "outputs": [],
   "source": [
    "np.shape(ripple_result_tuple.short_best_dir_z_score_values)"
   ]
  },
  {
   "cell_type": "code",
   "execution_count": null,
   "id": "c18e3936",
   "metadata": {},
   "outputs": [],
   "source": [
    "global_replays.n_epochs"
   ]
  },
  {
   "cell_type": "code",
   "execution_count": null,
   "id": "9e99e913",
   "metadata": {},
   "outputs": [],
   "source": [
    "global_replays"
   ]
  },
  {
   "cell_type": "code",
   "execution_count": null,
   "id": "c6b025f2",
   "metadata": {},
   "outputs": [],
   "source": [
    "from pyphoplacecellanalysis.General.Pipeline.Stages.ComputationFunctions.MultiContextComputationFunctions.RankOrderComputations import DirectionalRankOrderResult\n",
    "\n",
    "type(ripple_result_tuple)\n",
    "ripple_result_tuple.plot_histogram()"
   ]
  },
  {
   "cell_type": "code",
   "execution_count": null,
   "id": "5965ce17bb581dd3",
   "metadata": {
    "ExecuteTime": {
     "end_time": "2023-11-16T23:23:47.022252100Z",
     "start_time": "2023-11-16T23:23:46.862250100Z"
    }
   },
   "outputs": [],
   "source": [
    "pd.DataFrame({'long_z_scores': ripple_result_tuple.long_best_dir_z_score_values, 'short_z_scores': ripple_result_tuple.short_best_dir_z_score_values}).hist()"
   ]
  },
  {
   "cell_type": "code",
   "execution_count": null,
   "id": "3213cd164073dbb3",
   "metadata": {
    "ExecuteTime": {
     "end_time": "2023-11-16T23:24:06.810860500Z",
     "start_time": "2023-11-16T23:24:06.644858700Z"
    }
   },
   "outputs": [],
   "source": [
    "# 2023-11-16_LapsRankOrderHistogram Figure:\n",
    "pd.DataFrame({'long_z_scores': laps_result_tuple.long_best_dir_z_score_values, 'short_z_scores': laps_result_tuple.short_best_dir_z_score_values}).hist()"
   ]
  },
  {
   "cell_type": "markdown",
   "id": "f1f2a9a6",
   "metadata": {},
   "source": [
    "# Create a new `SpikeRaster2D` instance using `_display_spike_raster_pyqtplot_2D` and capture its outputs:\n"
   ]
  },
  {
   "cell_type": "code",
   "execution_count": null,
   "id": "7cc87fb8",
   "metadata": {},
   "outputs": [],
   "source": [
    "curr_active_pipeline.prepare_for_display()"
   ]
  },
  {
   "cell_type": "code",
   "execution_count": null,
   "id": "82cc7400",
   "metadata": {},
   "outputs": [],
   "source": [
    "# Create a new `SpikeRaster2D` instance using `_display_spike_raster_pyqtplot_2D` and capture its outputs:\n",
    "# active_2d_plot, active_3d_plot, spike_raster_window = curr_active_pipeline.plot._display_spike_rasters_pyqtplot_2D()\n",
    "\n",
    "active_2d_plot, active_3d_plot, spike_raster_window = curr_active_pipeline.display('_display_spike_rasters_pyqtplot_2D', 'maze_any') # 'maze_any'\n"
   ]
  },
  {
   "cell_type": "code",
   "execution_count": null,
   "id": "39840338",
   "metadata": {},
   "outputs": [],
   "source": [
    "active_2d_plot, active_3d_plot, spike_raster_window = curr_active_pipeline.plot._display_spike_rasters_pyqtplot_2D()\n"
   ]
  },
  {
   "cell_type": "code",
   "execution_count": null,
   "id": "e75eb376",
   "metadata": {},
   "outputs": [],
   "source": [
    "spike_raster_window"
   ]
  },
  {
   "cell_type": "code",
   "execution_count": null,
   "id": "10b7afeb",
   "metadata": {},
   "outputs": [],
   "source": [
    "spikes_window = spike_raster_window.spikes_window # SpikesDataframeWindow\n",
    "\n",
    "bottomPlaybackControlBarWidget = spike_raster_window.ui.bottomPlaybackControlBarWidget # Spike3DRasterBottomPlaybackControlBar \n",
    "\n",
    "doubleSpinBox_ActiveWindowStartTime = bottomPlaybackControlBarWidget.ui.doubleSpinBox_ActiveWindowStartTime\n",
    "doubleSpinBox_ActiveWindowEndTime = bottomPlaybackControlBarWidget.ui.doubleSpinBox_ActiveWindowEndTime\n",
    "\n",
    "\n",
    "# spikes_window.timeWindow.start\n",
    "# spikes_window.active_window_start_time\n",
    "# spikes_window.update_window_start_end(451.8908457518555, 451.9895490613999) ## Works but does not trigger refresh/update of the window. The changes are reflected as soon as you try to scroll at all though.\n",
    "# spikes_window.active_window_end_time\n",
    "\n",
    "print(f'spikes_window.active_window_start_time: {spikes_window.active_window_start_time}, spikes_window.active_window_end_time: {spikes_window.active_window_end_time}')\n",
    "# need to block signals:\n",
    "# doubleSpinBox_ActiveWindowStartTime.blockSignals(True)\n",
    "# doubleSpinBox_ActiveWindowEndTime.blockSignals(True)\n",
    "doubleSpinBox_ActiveWindowStartTime.setValue(spikes_window.active_window_start_time)\n",
    "doubleSpinBox_ActiveWindowEndTime.setValue(spikes_window.active_window_end_time)\n",
    "# doubleSpinBox_ActiveWindowStartTime.blockSignals(False) # unblock the signals when done\n",
    "# doubleSpinBox_ActiveWindowEndTime.blockSignals(False)\n",
    "\n",
    "\n",
    "# @pyqtExceptionPrintingSlot(float, float)\n",
    "def on_active_window_changed(start_t, end_t, _obj):\n",
    "\t# need to block signals:\n",
    "\t# doubleSpinBox_ActiveWindowStartTime.blockSignals(True)\n",
    "\t# doubleSpinBox_ActiveWindowEndTime.blockSignals(True)\n",
    "\tif start_t is not None:\n",
    "\t\tdoubleSpinBox_ActiveWindowStartTime.setValue(start_t)\n",
    "\tif end_t is not None:\n",
    "\t\tdoubleSpinBox_ActiveWindowEndTime.setValue(end_t)\n",
    "\t# doubleSpinBox_ActiveWindowStartTime.blockSignals(False) # unblock the signals when done\n",
    "\t# doubleSpinBox_ActiveWindowEndTime.blockSignals(False)\n",
    "\n",
    "curr_window_ctrls_connection = spikes_window.windowed_data_window_updated_signal.connect(on_active_window_changed)\n"
   ]
  },
  {
   "cell_type": "code",
   "execution_count": null,
   "id": "113a3acd",
   "metadata": {},
   "outputs": [],
   "source": [
    "doubleSpinBox_ActiveWindowStartTime.setReadOnly(True)\n",
    "doubleSpinBox_ActiveWindowEndTime.setReadOnly(True)\n",
    "\n",
    "spikes_window.on_window_changed.connect("
   ]
  },
  {
   "cell_type": "code",
   "execution_count": null,
   "id": "8319e362",
   "metadata": {},
   "outputs": [],
   "source": [
    "doubleSpinBox_ActiveWindowStartTime.setVisible(False)\n",
    "bottomPlaybackControlBarWidget.setVisible(False)"
   ]
  },
  {
   "cell_type": "code",
   "execution_count": null,
   "id": "01d043d6",
   "metadata": {},
   "outputs": [],
   "source": [
    "# global_epoch_context\n",
    "curr_active_pipeline.reload_default_display_functions()\n",
    "# curr_active_pipeline.prepare_for_display()\n",
    "curr_active_pipeline.clear_display_outputs()\n"
   ]
  },
  {
   "cell_type": "code",
   "execution_count": null,
   "id": "2441e547",
   "metadata": {},
   "outputs": [],
   "source": [
    "# Gets the existing SpikeRasterWindow or creates a new one if one doesn't already exist:\n",
    "from pyphocorehelpers.gui.Qt.TopLevelWindowHelper import TopLevelWindowHelper\n",
    "import pyphoplacecellanalysis.External.pyqtgraph as pg # Used to get the app for TopLevelWindowHelper.top_level_windows\n",
    "## For searching with `TopLevelWindowHelper.all_widgets(...)`:\n",
    "from pyphoplacecellanalysis.GUI.PyQtPlot.Widgets.SpikeRasterWidgets.Spike2DRaster import Spike2DRaster\n",
    "from pyphoplacecellanalysis.GUI.PyQtPlot.Widgets.SpikeRasterWidgets.Spike3DRaster import Spike3DRaster\n",
    "from pyphoplacecellanalysis.GUI.Qt.SpikeRasterWindows.Spike3DRasterWindowWidget import Spike3DRasterWindowWidget\n",
    "\n",
    "found_spike_raster_windows = TopLevelWindowHelper.all_widgets(pg.mkQApp(), searchType=Spike3DRasterWindowWidget)\n",
    "\n",
    "if len(found_spike_raster_windows) < 1:\n",
    "\t# no existing spike_raster_windows. Make a new one\n",
    "\tprint(f'no existing SpikeRasterWindow. Creating a new one.')\n",
    "\t# Create a new `SpikeRaster2D` instance using `_display_spike_raster_pyqtplot_2D` and capture its outputs:\n",
    "\t# active_2d_plot, active_3d_plot, spike_raster_window = curr_active_pipeline.plot._display_spike_rasters_pyqtplot_2D()\n",
    "\n",
    "\tactive_2d_plot, active_3d_plot, spike_raster_window = curr_active_pipeline.plot._display_spike_rasters_pyqtplot_2D()\n",
    "\n",
    "else:\n",
    "\tprint(f'found {len(found_spike_raster_windows)} existing Spike3DRasterWindowWidget windows using TopLevelWindowHelper.all_widgets(...). Will use the most recent.')\n",
    "\t# assert len(found_spike_raster_windows) == 1, f\"found {len(found_spike_raster_windows)} Spike3DRasterWindowWidget windows using TopLevelWindowHelper.all_widgets(...) but require exactly one.\"\n",
    "\t# Get the most recent existing one and reuse that:\n",
    "\tspike_raster_window = found_spike_raster_windows[0]\n",
    "\n",
    "\n",
    "# Extras:\n",
    "active_2d_plot = spike_raster_window.spike_raster_plt_2d # <pyphoplacecellanalysis.GUI.PyQtPlot.Widgets.SpikeRasterWidgets.Spike2DRaster.Spike2DRaster at 0x196c7244280>\n",
    "active_3d_plot = spike_raster_window.spike_raster_plt_3d # <pyphoplacecellanalysis.GUI.PyQtPlot.Widgets.SpikeRasterWidgets.Spike2DRaster.Spike2DRaster at 0x196c7244280>\n",
    "main_graphics_layout_widget = active_2d_plot.ui.main_graphics_layout_widget # GraphicsLayoutWidget\n",
    "main_plot_widget = active_2d_plot.plots.main_plot_widget # PlotItem\n",
    "background_static_scroll_plot_widget = active_2d_plot.plots.background_static_scroll_window_plot # PlotItem"
   ]
  },
  {
   "cell_type": "code",
   "execution_count": null,
   "id": "7c6338da",
   "metadata": {},
   "outputs": [],
   "source": [
    "spike_raster_window.isVisible() # False\n",
    "# spike_raster_window.show()\n",
    "spike_raster_window.close()"
   ]
  },
  {
   "cell_type": "code",
   "execution_count": null,
   "id": "0bafe4df",
   "metadata": {},
   "outputs": [],
   "source": [
    "spike_raster_window.connection_man.active_connections"
   ]
  },
  {
   "cell_type": "code",
   "execution_count": null,
   "id": "0a801d59",
   "metadata": {},
   "outputs": [],
   "source": [
    "found_any_window = TopLevelWindowHelper.top_level_windows(pg.mkQApp())\n",
    "found_any_window"
   ]
  },
  {
   "cell_type": "code",
   "execution_count": null,
   "id": "17d815bb",
   "metadata": {},
   "outputs": [],
   "source": [
    "# print windows:\n",
    "[print_widget_hierarchy(v) for k, v in found_any_window.items()]"
   ]
  },
  {
   "cell_type": "code",
   "execution_count": null,
   "id": "5c00e166",
   "metadata": {},
   "outputs": [],
   "source": [
    "_display_out = curr_active_pipeline.last_added_display_output\n"
   ]
  },
  {
   "cell_type": "code",
   "execution_count": null,
   "id": "b06ea13e",
   "metadata": {},
   "outputs": [],
   "source": [
    "ipspikesDataExplorer = _display_out['ipspikesDataExplorer']\n",
    "pActiveSpikesBehaviorPlotter = _display_out['plotter']\n"
   ]
  },
  {
   "cell_type": "code",
   "execution_count": null,
   "id": "0d0cd1f5",
   "metadata": {},
   "outputs": [],
   "source": [
    "ipspikesDataExplorer\n",
    "\n"
   ]
  },
  {
   "cell_type": "code",
   "execution_count": null,
   "id": "2c92cd2f",
   "metadata": {},
   "outputs": [],
   "source": [
    " = curr_active_pipeline.last_added_display_output\n",
    "_display_out\n"
   ]
  },
  {
   "cell_type": "code",
   "execution_count": null,
   "id": "e02ac639",
   "metadata": {},
   "outputs": [],
   "source": [
    "\n",
    "\n",
    "ipspikesDataExplorer = self._display_output['ipspikesDataExplorer']"
   ]
  },
  {
   "cell_type": "code",
   "execution_count": null,
   "id": "bd461fb3",
   "metadata": {},
   "outputs": [],
   "source": [
    "### Adjusting Spike Emphasis:\n",
    "#### Usage Examples:\n",
    "from pyphoplacecellanalysis.General.Mixins.SpikesRenderingBaseMixin import SpikeEmphasisState\n",
    "from neuropy.core.neuron_identities import NeuronType\n"
   ]
  },
  {
   "cell_type": "code",
   "execution_count": null,
   "id": "b1dd5449",
   "metadata": {},
   "outputs": [],
   "source": [
    "\n",
    "## Example 1: De-emphasize spikes excluded from the placefield calculations:\n",
    "is_spike_included_in_pf = np.isin(spike_raster_window.spike_raster_plt_2d.spikes_df.index, active_pf_2D.filtered_spikes_df.index)\n",
    "spike_raster_window.spike_raster_plt_2d.update_spike_emphasis(np.logical_not(is_spike_included_in_pf), SpikeEmphasisState.Deemphasized)\n",
    "\n",
    "## Example 2: De-emphasize spikes that don't have their 'aclu' from a given set of indicies:\n",
    "is_spike_included = spike_raster_window.spike_raster_plt_2d.spikes_df.aclu.to_numpy() == 2\n",
    "spike_raster_window.spike_raster_plt_2d.update_spike_emphasis(np.logical_not(is_spike_included), SpikeEmphasisState.Deemphasized)\n",
    "\n",
    "## Example 3: De-emphasize all spikes \n",
    "active_2d_plot.update_spike_emphasis(new_emphasis_state=SpikeEmphasisState.Deemphasized)\n",
    "\n",
    "## Example 4: Hide all spikes entirely\n",
    "active_2d_plot.update_spike_emphasis(new_emphasis_state=SpikeEmphasisState.Hidden)\n"
   ]
  },
  {
   "cell_type": "code",
   "execution_count": null,
   "id": "98b9a61d",
   "metadata": {},
   "outputs": [],
   "source": [
    "## Setup: Hide all non-pyramidal spikes entirely\n",
    "spikes_df = spike_raster_window.spikes_df\n",
    "spike_raster_window.spike_raster_plt_2d.update_spike_emphasis(np.logical_not((spikes_df.neuron_type == NeuronType.from_string('pyr'))), SpikeEmphasisState.Hidden)"
   ]
  },
  {
   "cell_type": "code",
   "execution_count": null,
   "id": "f3feb699",
   "metadata": {},
   "outputs": [],
   "source": [
    "spikes_window = spike_raster_window.spikes_window # SpikesDataframeWindow\n",
    "# spikes_window.update_window_start_end(451.8908457518555, 451.9895490613999) ## Works but does not trigger refresh/update of the window. The changes are reflected as soon as you try to scroll at all though.\n"
   ]
  },
  {
   "cell_type": "code",
   "execution_count": null,
   "id": "1ae85b4a",
   "metadata": {},
   "outputs": [],
   "source": [
    "# 20*60.0 + 50.0 +  0.218 = 1250.218\n",
    "\n",
    "spikes_window.update_window_start_end(1250.218, (1250.218 + 3.0))\n",
    "\n"
   ]
  },
  {
   "cell_type": "code",
   "execution_count": null,
   "id": "325548b0",
   "metadata": {},
   "outputs": [],
   "source": [
    "spikes_window.window_duration # Prints the current window's duration. The win. dur. label control in the left bar is not updated.\n",
    "\n",
    "desired_window_fraction: float = 0.1 # 10% of the window is the default jump size\n",
    "relevant_jump_duration: float = spikes_window.window_duration * desired_window_fraction\n",
    "relevant_jump_duration\n"
   ]
  },
  {
   "cell_type": "code",
   "execution_count": null,
   "id": "7bc81002",
   "metadata": {},
   "outputs": [],
   "source": [
    "from pyphoplacecellanalysis.PhoPositionalData.plotting.mixins.spikes_mixins import SpikeRenderingPyVistaMixin\n",
    "from pyphoplacecellanalysis.GUI.PyVista.InteractivePlotter.InteractivePlaceCellTuningCurvesDataExplorer import InteractivePlaceCellTuningCurvesDataExplorer\n",
    "# from pyphoplacecellanalysis.GUI.PyVista.InteractivePlotter.InteractivePlaceCellTuningCurvesDataExplorer import InteractivePlaceCellTuningCurvesDataExplorer\n",
    "from pyphoplacecellanalysis.GUI.PyVista.InteractivePlotter.InteractivePlaceCellDataExplorer import InteractivePlaceCellDataExplorer\n",
    "\n",
    "found_windows_of_type = TopLevelWindowHelper.all_widgets(pg.mkQApp(), searchType=InteractivePlaceCellDataExplorer)\n",
    "found_windows_of_type\n",
    "TopLevelWindowHelper.top_level_windows(pg.mkQApp(), only_visible=True)"
   ]
  },
  {
   "cell_type": "code",
   "execution_count": null,
   "id": "e2abd93f",
   "metadata": {},
   "outputs": [],
   "source": [
    "(451.8908457518555, 451.9895490613999)"
   ]
  },
  {
   "cell_type": "code",
   "execution_count": null,
   "id": "6c418968",
   "metadata": {},
   "outputs": [],
   "source": [
    "from pyphoplacecellanalysis.SpecificResults.PhoDiba2023Paper import BatchPhoJonathanFiguresHelper\n",
    "\n",
    "fig_1c_figures_out_dict = BatchPhoJonathanFiguresHelper.run(curr_active_pipeline, neuron_replay_stats_df, included_unit_neuron_IDs=XOR_subset.track_exclusive_aclus, n_max_page_rows=20, write_vector_format=False, write_png=True, disable_top_row=True) # active_out_figures_dict: {IdentifyingContext<('kdiba', 'gor01', 'two', '2006-6-07_16-40-19', 'BatchPhoJonathanReplayFRC', 'long_only', '(12,21,48)')>: <Figure size 1920x660 with 12 Axes>, IdentifyingContext<('kdiba', 'gor01', 'two', '2006-6-07_16-40-19', 'BatchPhoJonathanReplayFRC', 'short_only', '(18,19,65)')>: <Figure size 1920x660 with 12 Axes>}"
   ]
  },
  {
   "cell_type": "markdown",
   "id": "2ea2f309",
   "metadata": {},
   "source": [
    "# PhoKamran2023Paper Results"
   ]
  },
  {
   "cell_type": "code",
   "execution_count": null,
   "id": "85a7dd8b",
   "metadata": {},
   "outputs": [],
   "source": [
    "pg.setConfigOptions(background='white', foreground='black') # black on white background (more traditional) color scheme"
   ]
  },
  {
   "cell_type": "markdown",
   "id": "162d813d",
   "metadata": {},
   "source": [
    "## Figure 1) pf1D Ratemaps, Active set, etc"
   ]
  },
  {
   "cell_type": "code",
   "execution_count": null,
   "id": "273696fc",
   "metadata": {},
   "outputs": [],
   "source": [
    "from pyphoplacecellanalysis.General.Pipeline.Stages.DisplayFunctions.SpikeRasters import plot_multiple_raster_plot, plot_raster_plot\n",
    "from pyphoplacecellanalysis.Pho2D.matplotlib.visualize_heatmap import visualize_heatmap_pyqtgraph # used in `plot_kourosh_activity_style_figure`\n",
    "from pyphoplacecellanalysis.SpecificResults.PhoDiba2023Paper import PAPER_FIGURE_figure_1_full, PAPER_FIGURE_figure_1_add_replay_epoch_rasters\n",
    "\n",
    "curr_active_pipeline.prepare_for_display()\n",
    "pf1d_compare_graphics, (example_epoch_rasters_L, example_epoch_rasters_S), example_stacked_epoch_graphics, fig_1c_figures_out_dict = PAPER_FIGURE_figure_1_full(curr_active_pipeline) # did not display the pf1"
   ]
  },
  {
   "cell_type": "code",
   "execution_count": null,
   "id": "84fa9acc",
   "metadata": {},
   "outputs": [],
   "source": [
    "# rdf = jonathan_firing_rate_analysis_result.rdf.rdf\n",
    "# rdf\n",
    "# ==================================================================================================================== #\n",
    "# Fig 1c) 2023-07-14 - LxC and SxC PhoJonathanSession plots                                                            #\n",
    "# ==================================================================================================================== #\n",
    "from pyphoplacecellanalysis.General.Batch.NonInteractiveProcessing import BatchPhoJonathanFiguresHelper\n",
    "\n",
    "## Get global 'jonathan_firing_rate_analysis' results:\n",
    "curr_jonathan_firing_rate_analysis = curr_active_pipeline.global_computation_results.computed_data['jonathan_firing_rate_analysis']\n",
    "neuron_replay_stats_df, rdf, aclu_to_idx, irdf = curr_jonathan_firing_rate_analysis.neuron_replay_stats_df, curr_jonathan_firing_rate_analysis.rdf.rdf, curr_jonathan_firing_rate_analysis.rdf.aclu_to_idx, curr_jonathan_firing_rate_analysis.irdf.irdf\n",
    "\n",
    "fig_1c_figures_out_dict = BatchPhoJonathanFiguresHelper.run(curr_active_pipeline, neuron_replay_stats_df, included_unit_neuron_IDs=XOR_subset.track_exclusive_aclus, n_max_page_rows=20, write_vector_format=False, write_png=True, disable_top_row=True) # active_out_figures_dict: {IdentifyingContext<('kdiba', 'gor01', 'two', '2006-6-07_16-40-19', 'BatchPhoJonathanReplayFRC', 'long_only', '(12,21,48)')>: <Figure size 1920x660 with 12 Axes>, IdentifyingContext<('kdiba', 'gor01', 'two', '2006-6-07_16-40-19', 'BatchPhoJonathanReplayFRC', 'short_only', '(18,19,65)')>: <Figure size 1920x660 with 12 Axes>}\n"
   ]
  },
  {
   "cell_type": "markdown",
   "id": "5cba3c7a",
   "metadata": {},
   "source": [
    "## Figure 2) `PaperFigureTwo`: LxC/SxC Analyses\n",
    "Note: this fails when SxC or LxC are empty for this session (as it's not meaningful to produce a comparison bar plot). In this case, aggregate across multiple sessions."
   ]
  },
  {
   "cell_type": "code",
   "execution_count": null,
   "id": "97d3e1ff",
   "metadata": {},
   "outputs": [],
   "source": [
    "from pyphoplacecellanalysis.SpecificResults.PhoDiba2023Paper import PaperFigureTwo\n",
    "\n",
    "_out_fig_2 = PaperFigureTwo(instantaneous_time_bin_size_seconds=0.01) # 10ms\n",
    "_out_fig_2.compute(curr_active_pipeline=curr_active_pipeline)\n",
    "_out_fig_2.display()"
   ]
  },
  {
   "cell_type": "markdown",
   "id": "14a52142",
   "metadata": {},
   "source": [
    "## Figure 3) `PAPER_FIGURE_figure_3`: Firing Rate Index and Long/Short Firing Rate Replays v. Laps"
   ]
  },
  {
   "cell_type": "code",
   "execution_count": null,
   "id": "5f765ed6",
   "metadata": {},
   "outputs": [],
   "source": [
    "from neuropy.utils.matplotlib_helpers import FormattedFigureText\n",
    "from pyphoplacecellanalysis.General.Pipeline.Stages.DisplayFunctions.MultiContextComparingDisplayFunctions.LongShortTrackComparingDisplayFunctions import _plot_long_short_firing_rate_indicies\n",
    "# curr_active_pipeline.reload_default_display_functions()\n",
    "\n",
    "_out, _out2 = PAPER_FIGURE_figure_3(curr_active_pipeline, defer_render=False, save_figure=True)"
   ]
  }
 ],
 "metadata": {
  "kernelspec": {
   "display_name": ".venv",
   "language": "python",
   "name": "python3"
  },
  "language_info": {
   "codemirror_mode": {
    "name": "ipython",
    "version": 3
   },
   "file_extension": ".py",
   "mimetype": "text/x-python",
   "name": "python",
   "nbconvert_exporter": "python",
   "pygments_lexer": "ipython3",
   "version": "3.9.13"
  }
 },
 "nbformat": 4,
 "nbformat_minor": 5
}
