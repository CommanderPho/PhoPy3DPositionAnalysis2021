{
 "cells": [
  {
   "cell_type": "code",
   "execution_count": 1,
   "id": "a832c382-7f3e-42e3-91db-828709729862",
   "metadata": {},
   "outputs": [
    {
     "name": "stdout",
     "output_type": "stream",
     "text": [
      "neuropy module not found, adding directory to sys.path. \n",
      " >> Updated sys.path.\n"
     ]
    }
   ],
   "source": [
    "\"\"\"\n",
    "@author: pho\n",
    "\"\"\"\n",
    "%load_ext autoreload\n",
    "%autoreload 2\n",
    "import sys\n",
    "import importlib\n",
    "\n",
    "import numpy as np\n",
    "import pandas as pd\n",
    "\n",
    "## Panel:\n",
    "import param\n",
    "import panel as pn\n",
    "from panel.viewable import Viewer\n",
    "\n",
    "## Pho's Custom Libraries:\n",
    "from pyphocorehelpers.general_helpers import PrettyPrintable, get_arguments_as_optional_dict\n",
    "from pyphocorehelpers.function_helpers import compose_functions\n",
    "\n",
    "from pyphoplacecellanalysis.General.Pipeline.NeuropyPipeline import * # get_neuron_identities\n",
    "from pyphoplacecellanalysis.General.SessionSelectionAndFiltering import batch_filter_session\n",
    "from pyphoplacecellanalysis.General.ComputationResults import ComputationResult\n",
    "# from PendingNotebookCode import estimation_session_laps\n",
    "\n",
    "\n",
    "from neuropy.analyses.laps import estimation_session_laps\n",
    "from neuropy.core.epoch import NamedTimerange\n",
    "\n",
    "# Neuropy:\n",
    "from neuropy.analyses.placefields import PlacefieldComputationParameters, perform_compute_placefields\n",
    "from neuropy.core.neuron_identities import NeuronIdentity, build_units_colormap, PlotStringBrevityModeEnum\n",
    "from neuropy.utils.debug_helpers import debug_print_placefield, debug_print_spike_counts, debug_print_subsession_neuron_differences\n",
    "\n",
    "# def estimate_session_laps_load_function(regular_load_function, a_base_dir):\n",
    "#     session = regular_load_function(a_base_dir)\n",
    "#     ## Estimate the Session's Laps data using my algorithm from the loaded position data.\n",
    "#     session = estimation_session_laps(session)\n",
    "#     return session\n",
    "\n",
    "known_data_session_type_dict = {'kdiba':KnownDataSessionTypeProperties(load_function=(lambda a_base_dir: DataSessionLoader.kdiba_old_format_session(a_base_dir)),\n",
    "                               basedir=Path(r'R:\\data\\KDIBA\\gor01\\one\\2006-6-07_11-26-53')),\n",
    "                'bapun':KnownDataSessionTypeProperties(load_function=(lambda a_base_dir: DataSessionLoader.bapun_data_session(a_base_dir)),\n",
    "                               basedir=Path('R:\\data\\Bapun\\Day5TwoNovel'))\n",
    "               }\n",
    "\n",
    "known_data_session_type_dict['kdiba'].post_load_functions = [lambda a_loaded_sess: estimation_session_laps(a_loaded_sess)]\n",
    "# known_data_session_type_dict = {'kdiba':KnownDataSessionTypeProperties(load_function=(lambda a_base_dir: estimation_session_laps(DataSessionLoader.kdiba_old_format_session(a_base_dir))),\n",
    "#                                basedir=Path(r'R:\\data\\KDIBA\\gor01\\one\\2006-6-07_11-26-53')),\n",
    "#                 'bapun':KnownDataSessionTypeProperties(load_function=(lambda a_base_dir: DataSessionLoader.bapun_data_session(a_base_dir)),\n",
    "#                                basedir=Path('R:\\data\\Bapun\\Day5TwoNovel'))\n",
    "#                }\n",
    "\n",
    "# known_data_session_type_dict['kdiba'].name"
   ]
  },
  {
   "cell_type": "code",
   "execution_count": 2,
   "id": "b1ba78ec-e674-492b-bf68-4733ba7beae6",
   "metadata": {},
   "outputs": [],
   "source": [
    "# Truely Common:\n",
    "def _display_result(computation_result):\n",
    "    pf_neuron_identities, pf_sort_ind, pf_colors, pf_colormap, pf_listed_colormap = get_neuron_identities(computation_result.computed_data['pf2D'])\n",
    "    computation_result.computed_data['pf2D'].plot_raw(label_cells=True); # Plots an overview of each cell all in one figure\n",
    "    computation_result.computed_data['pf2D'].plot_ratemaps_2D(resolution_multiplier=2.5, brev_mode=PlotStringBrevityModeEnum.MINIMAL)\n",
    "\n",
    "    "
   ]
  },
  {
   "cell_type": "markdown",
   "id": "8eceb354-7fa7-4064-ba26-4e989b9f3354",
   "metadata": {},
   "source": [
    "# Bapun Format:"
   ]
  },
  {
   "cell_type": "code",
   "execution_count": null,
   "id": "20843de4-9a94-42f7-80a9-f2c8d5704b62",
   "metadata": {},
   "outputs": [],
   "source": [
    "# curr_bapun_pipeline = NeuropyPipeline(name='bapun_pipeline', session_data_type='bapun', basedir=known_data_session_type_dict['bapun'].basedir, load_function=known_data_session_type_dict['bapun'].load_function)\n",
    "curr_bapun_pipeline = NeuropyPipeline.init_from_known_data_session_type('bapun', known_data_session_type_dict['bapun'])\n",
    "\n",
    "# curr_bapun_pipeline = NeuropyPipeline.init_from_known_data_session_type('bapun', known_data_session_type_dict['bapun'])\n",
    "curr_bapun_pipeline.is_loaded\n",
    "size_bytes = curr_bapun_pipeline.sess.__sizeof__() # 1753723032\n",
    "f'object size: {size_bytes/(1024*1024)} MB'"
   ]
  },
  {
   "cell_type": "code",
   "execution_count": null,
   "id": "4ca2caf3-dfcd-439f-9561-33124d9c7cd9",
   "metadata": {},
   "outputs": [],
   "source": [
    "# Bapun/DataFrame style session filter functions:\n",
    "def _temp_filter_session_by_epoch1(sess):\n",
    "    \"\"\" \n",
    "    Usage:\n",
    "        active_session, active_epoch = _temp_filter_session(curr_bapun_pipeline.sess)\n",
    "    \"\"\"\n",
    "    active_epoch = sess.epochs.get_named_timerange('maze1')\n",
    "    ## All Spikes:\n",
    "    # active_epoch_session = sess.filtered_by_epoch(active_epoch) # old\n",
    "    active_session = batch_filter_session(sess, sess.position, sess.spikes_df, active_epoch.to_Epoch())\n",
    "    return active_session, active_epoch\n",
    "\n",
    "def _temp_filter_session_by_epoch2(sess):\n",
    "    \"\"\" \n",
    "    Usage:\n",
    "        active_session, active_epoch = _temp_filter_session(curr_bapun_pipeline.sess)\n",
    "    \"\"\"\n",
    "    active_epoch = sess.epochs.get_named_timerange('maze2')\n",
    "    ## All Spikes:\n",
    "    # active_epoch_session = sess.filtered_by_epoch(active_epoch) # old\n",
    "    active_session = batch_filter_session(sess, sess.position, sess.spikes_df, active_epoch.to_Epoch())\n",
    "    return active_session, active_epoch\n",
    "\n",
    "\n",
    "active_session_filter_configurations = {'maze1':_temp_filter_session_by_epoch1,\n",
    "                                        'maze2':_temp_filter_session_by_epoch2\n",
    "                                       }\n",
    "\n",
    "curr_bapun_pipeline.filter_sessions(active_session_filter_configurations)\n",
    "curr_bapun_pipeline.perform_computations(PlacefieldComputationParameters(speed_thresh=0.0, grid_bin=(5, 3), smooth=(0.0, 0.0), frate_thresh=0.1))"
   ]
  },
  {
   "cell_type": "code",
   "execution_count": null,
   "id": "cbd88698-7e83-4f09-9026-7a6a48910a68",
   "metadata": {},
   "outputs": [],
   "source": [
    "_display_result(curr_bapun_pipeline.computation_results['maze1'])"
   ]
  },
  {
   "cell_type": "code",
   "execution_count": null,
   "id": "c62c4907-c242-4908-80dd-0c7d49e89b80",
   "metadata": {},
   "outputs": [],
   "source": [
    "_display_result(curr_bapun_pipeline.computation_results['maze2'])"
   ]
  },
  {
   "cell_type": "markdown",
   "id": "a4940269-23e4-46dc-a4ae-61d512ac5e41",
   "metadata": {},
   "source": [
    "# KDiba Format:"
   ]
  },
  {
   "cell_type": "code",
   "execution_count": 13,
   "id": "69a69581-2f38-4d64-bc21-d38041e2b068",
   "metadata": {},
   "outputs": [
    {
     "name": "stderr",
     "output_type": "stream",
     "text": [
      "C:\\Users\\Pho\\repos\\NeuroPy\\neuropy\\core\\position.py:23: UserWarning: registration of accessor <class 'neuropy.core.position.PositionAccessor'> under name 'position' for type <class 'pandas.core.frame.DataFrame'> is overriding a preexisting attribute with the same name.\n",
      "  class PositionAccessor(TimeSlicedMixin):\n"
     ]
    },
    {
     "name": "stdout",
     "output_type": "stream",
     "text": [
      "basedir is already Path object.\n",
      "\t basepath: R:\\data\\KDIBA\\gor01\\one\\2006-6-07_11-26-53\n",
      "\t session_name: 2006-6-07_11-26-53\n",
      "Loading matlab import file results to R:\\data\\KDIBA\\gor01\\one\\2006-6-07_11-26-53\\2006-6-07_11-26-53.epochs_info.mat... done.\n",
      "Loading matlab import file results to R:\\data\\KDIBA\\gor01\\one\\2006-6-07_11-26-53\\2006-6-07_11-26-53.position_info.mat... done.\n",
      "Loading matlab import file results to R:\\data\\KDIBA\\gor01\\one\\2006-6-07_11-26-53\\2006-6-07_11-26-53.spikes.mat... done.\n",
      "Failure loading .position.npy. Must recompute.\n",
      "\n",
      "Computing linear positions for all active epochs for session... Saving updated position results results to R:\\data\\KDIBA\\gor01\\one\\2006-6-07_11-26-53\\2006-6-07_11-26-53.position.npy... 2006-6-07_11-26-53.position.npy saved\n",
      "done.\n",
      "\t Failure loading .interpolated_spike_positions.npy. Must recompute.\n",
      "\n",
      "\t Saving updated interpolated spike position results results to R:\\data\\KDIBA\\gor01\\one\\2006-6-07_11-26-53\\2006-6-07_11-26-53.interpolated_spike_positions.npy... 2006-6-07_11-26-53.interpolated_spike_positions.npy saved\n",
      "done.\n",
      "Loading matlab import file results to R:\\data\\KDIBA\\gor01\\one\\2006-6-07_11-26-53\\2006-6-07_11-26-53.laps_info.mat... done.\n",
      "setting laps object.\n",
      "session.laps loaded successfully!\n",
      "desc_crossings_x: (24,), asc_crossings_x: (24,)\n"
     ]
    },
    {
     "data": {
      "text/plain": [
       "         start         stop  label     duration\n",
       "0     0.000000  1739.153364  maze1  1739.153364\n",
       "1  1739.153364  1932.420005  maze2   193.266641"
      ]
     },
     "execution_count": 13,
     "metadata": {},
     "output_type": "execute_result"
    }
   ],
   "source": [
    "## Data must be pre-processed using the MATLAB script located here: \n",
    "# R:\\data\\KDIBA\\gor01\\one\\IIDataMat_Export_ToPython_2021_11_23.m\n",
    "# From pre-computed .mat files:\n",
    "## 07: \n",
    "# basedir = r'R:\\data\\KDIBA\\gor01\\one\\2006-6-07_11-26-53'\n",
    "# # ## 08:\n",
    "# basedir = r'R:\\data\\KDIBA\\gor01\\one\\2006-6-08_14-26-15'\n",
    "# curr_kdiba_pipeline = NeuropyPipeline(name='kdiba_pipeline', session_data_type='kdiba', basedir=known_data_session_type_dict['kdiba'].basedir, load_function=known_data_session_type_dict['kdiba'].load_function)\n",
    "curr_kdiba_pipeline = NeuropyPipeline.init_from_known_data_session_type('kdiba', known_data_session_type_dict['kdiba'])\n",
    "\n",
    "# curr_bapun_pipeline\n",
    "curr_kdiba_pipeline.is_loaded\n",
    "size_bytes = curr_kdiba_pipeline.sess.__sizeof__() # 1753723032\n",
    "f'object size: {size_bytes/(1024*1024)} MB'\n",
    "# ## Estimate the Session's Laps data using my algorithm from the loaded position data.\n",
    "# curr_kdiba_pipeline.sess = estimation_session_laps(curr_kdiba_pipeline.sess)\n",
    "curr_kdiba_pipeline.sess.epochs"
   ]
  },
  {
   "cell_type": "code",
   "execution_count": 14,
   "id": "1c2623c6-1e30-433b-bf88-8841037a7283",
   "metadata": {},
   "outputs": [
    {
     "name": "stdout",
     "output_type": "stream",
     "text": [
      "Applying session filter named \"maze1\"...\n",
      "Constraining to epoch with times (start: 0.0, end: 1739.1533641185379)\n",
      "Applying session filter named \"maze2\"...\n",
      "Constraining to epoch with times (start: 1739.1533641185379, end: 1932.4200048116618)\n",
      "Performing single_computation on filtered_session with filter named \"maze1\"...\n",
      "Recomputing active_epoch_placefields... \t done.\n",
      "Recomputing active_epoch_placefields2D... \t done.\n",
      "Performing single_computation on filtered_session with filter named \"maze2\"...\n",
      "Recomputing active_epoch_placefields... \t done.\n",
      "Recomputing active_epoch_placefields2D... \t done.\n"
     ]
    }
   ],
   "source": [
    "def _temp_filter_session_by_epoch1(sess):\n",
    "    \"\"\" \n",
    "    Usage:\n",
    "        active_session, active_epoch = _temp_filter_session(curr_bapun_pipeline.sess)\n",
    "    \"\"\"\n",
    "    active_epoch = sess.epochs.get_named_timerange('maze1')\n",
    "    ## All Spikes:\n",
    "    active_session = sess.filtered_by_epoch(active_epoch) # kdiba\n",
    "    # active_session = batch_filter_session(sess, sess.position, sess.spikes_df, active_epoch.to_Epoch())\n",
    "    return active_session, active_epoch\n",
    "\n",
    "def _temp_filter_session_by_epoch2(sess):\n",
    "    \"\"\" \n",
    "    Usage:\n",
    "        active_session, active_epoch = _temp_filter_session(curr_bapun_pipeline.sess)\n",
    "    \"\"\"\n",
    "    active_epoch = sess.epochs.get_named_timerange('maze2')\n",
    "    ## All Spikes:\n",
    "    active_session = sess.filtered_by_epoch(active_epoch) # kdiba\n",
    "    # active_session = batch_filter_session(sess, sess.position, sess.spikes_df, active_epoch.to_Epoch()) # new Bapun/Df\n",
    "    return active_session, active_epoch\n",
    "\n",
    "active_session_filter_configurations = {'maze1':_temp_filter_session_by_epoch1,\n",
    "                                        'maze2':_temp_filter_session_by_epoch2\n",
    "                                       }\n",
    "\n",
    "# active_config = build_configs(sess.config, active_epoch)\n",
    "\n",
    "curr_kdiba_pipeline.filter_sessions(active_session_filter_configurations)\n",
    "curr_kdiba_pipeline.perform_computations(PlacefieldComputationParameters(speed_thresh=0.0, grid_bin=(5, 3), smooth=(0.0, 0.0), frate_thresh=0.1))"
   ]
  },
  {
   "cell_type": "code",
   "execution_count": 15,
   "id": "1e0f2e8a-82e5-40b1-b524-006dfb59cffd",
   "metadata": {},
   "outputs": [
    {
     "name": "stdout",
     "output_type": "stream",
     "text": [
      "Applying session filter named \"maze1\"...\n",
      "Constraining to units with type: pyramidal\n",
      "Constraining to epoch with times (start: 22.26, end: 1739.1533641185379)\n",
      "Applying session filter named \"maze2\"...\n",
      "Constraining to units with type: pyramidal\n",
      "Constraining to epoch with times (start: 1739.1533641185379, end: 1932.4200048116618)\n",
      "Applying session filter named \"maze\"...\n",
      "Constraining to units with type: pyramidal\n",
      "Constraining to epoch with times (start: 22.26, end: 1932.4200048116618)\n"
     ]
    }
   ],
   "source": [
    "def build_lap_epochs_filters(sess):\n",
    "    lap_specific_epochs = sess.laps.as_epoch_obj()\n",
    "    # lap_specific_epochs.to_dataframe()\n",
    "    any_lap_specific_epochs = lap_specific_epochs.label_slice(lap_specific_epochs.labels[np.arange(len(sess.laps.lap_id))])\n",
    "    even_lap_specific_epochs = lap_specific_epochs.label_slice(lap_specific_epochs.labels[np.arange(0, len(sess.laps.lap_id), 2)])\n",
    "    odd_lap_specific_epochs = lap_specific_epochs.label_slice(lap_specific_epochs.labels[np.arange(1, len(sess.laps.lap_id), 2)])\n",
    "    \n",
    "    ## All Spikes:\n",
    "    sess.epochs.t_start = 22.26 # exclude the first short period where the animal isn't on the maze yet\n",
    "    # sess.epochs.to_dataframe()\n",
    "    # active_epoch = sess.epochs.get_named_timerange('maze1')\n",
    "    # print('active_epoch: {}'.format(active_epoch))\n",
    "    # active_epoch = sess.epochs.get_named_timerange('maze2')\n",
    "    # active_epoch_maze_all = NamedTimerange(name='maze', start_end_times=[sess.epochs['maze1'][0], sess.epochs['maze2'][1]])\n",
    "\n",
    "    # active_epoch_session = sess.filtered_by_neuron_type('pyramidal').filtered_by_epoch(active_epoch)\n",
    "    # print_subsession_neuron_differences(sess.neurons, active_epoch_session.neurons)\n",
    "\n",
    "    active_session_filter_configurations = {'maze1': lambda x: (x.filtered_by_neuron_type('pyramidal').filtered_by_epoch(x.epochs.get_named_timerange('maze1')), x.epochs.get_named_timerange('maze1')),\n",
    "                                        'maze2': lambda x: (x.filtered_by_neuron_type('pyramidal').filtered_by_epoch(x.epochs.get_named_timerange('maze2')), x.epochs.get_named_timerange('maze2')),\n",
    "                                        'maze': lambda x: (x.filtered_by_neuron_type('pyramidal').filtered_by_epoch(NamedTimerange(name='maze', start_end_times=[x.epochs['maze1'][0], x.epochs['maze2'][1]])), NamedTimerange(name='maze', start_end_times=[x.epochs['maze1'][0], x.epochs['maze2'][1]]))\n",
    "                                       }\n",
    "    return active_session_filter_configurations\n",
    "    \n",
    "active_session_filter_configurations = build_lap_epochs_filters(curr_kdiba_pipeline.sess)\n",
    "curr_kdiba_pipeline.filter_sessions(active_session_filter_configurations)"
   ]
  },
  {
   "cell_type": "code",
   "execution_count": null,
   "id": "96637cdd-8aa7-4a83-9bab-eedcb5363dde",
   "metadata": {},
   "outputs": [],
   "source": [
    "def debug_plot_filtered_subsession_neuron_differences(sess, filtered_sess):\n",
    "    print_subsession_neuron_differences(sess.neurons, active_epoch_session.neurons)\n",
    "\n",
    "[debug_plot_filtered_subsession_neuron_differences(curr_kdiba_pipeline.sess, a_filtered_sess) for a_filtered_sess in curr_kdiba_pipeline.filtered_sessions]"
   ]
  },
  {
   "cell_type": "code",
   "execution_count": null,
   "id": "d47c981e-7259-4a8e-acfd-5d9146e6b3b0",
   "metadata": {},
   "outputs": [],
   "source": [
    "curr_kdiba_pipeline.computation_results['maze2']"
   ]
  },
  {
   "cell_type": "code",
   "execution_count": null,
   "id": "16cace13-54be-40a7-bb8c-05d6bb25ffc3",
   "metadata": {},
   "outputs": [],
   "source": [
    "_display_result(curr_kdiba_pipeline.computation_results['maze1'])\n",
    "_display_result(curr_kdiba_pipeline.computation_results['maze2'])"
   ]
  },
  {
   "cell_type": "code",
   "execution_count": null,
   "id": "1a847f37-968c-4695-8feb-607e9f2af44d",
   "metadata": {},
   "outputs": [],
   "source": [
    "def _display_normal(computation_result, active_config):\n",
    "    from neuropy.plotting.placemaps import plot_all_placefields\n",
    "    # from neuropy.core.neuron_identities import build_units_colormap\n",
    "    # print(f'active_config: {active_config}')\n",
    "    # active_config = computation_result.sess.config\n",
    "    if active_config.computation_config is None:\n",
    "        active_config.computation_config = computation_result.computation_config\n",
    "\n",
    "    pf_neuron_identities, pf_sort_ind, pf_colors, pf_colormap, pf_listed_colormap = get_neuron_identities(computation_result.computed_data['pf2D'])\n",
    "    ax_pf_1D, occupancy_fig, active_pf_2D_figures, active_pf_2D_gs = plot_all_placefields(computation_result.computed_data['pf1D'], computation_result.computed_data['pf2D'], active_config, should_save_to_disk=False)\n",
    "    \n",
    "# curr_kdiba_pipeline.computation_results['maze1'].computation_config\n",
    "# curr_kdiba_pipeline.computation_results['maze1'].sess.config\n",
    "# curr_kdiba_pipeline.active_configs['maze1']\n",
    "_display_normal(curr_kdiba_pipeline.computation_results['maze1'], curr_kdiba_pipeline.active_configs['maze1'])"
   ]
  },
  {
   "cell_type": "code",
   "execution_count": null,
   "id": "7b2cdd42-1624-48e7-9b03-187968f4665a",
   "metadata": {},
   "outputs": [],
   "source": [
    "def _display_testing(sess, computation_result, active_config):\n",
    "    \"\"\" Testing of plot_lap_trajectories_2d \"\"\"\n",
    "    # from PhoPositionalData.plotting.laps import plot_lap_trajectories_2d\n",
    "    # fig, axs, laps_pages = plot_lap_trajectories_2d(sess, curr_num_subplots=len(sess.laps.lap_id), active_page_index=0)\n",
    "    # fig.suptitle('Lap Trajectories 2D', fontsize=22)\n",
    "    # # fig_out_path = active_config.plotting_config.get_figure_save_path('lap_trajectories_2D').with_suffix('.png')\n",
    "    # # fig.savefig(fig_out_path)\n",
    "    # # plt.show()\n",
    "\n",
    "    from PhoPositionalData.plotting.laps import plot_lap_trajectories_3d\n",
    "    p, laps_pages = plot_lap_trajectories_3d(sess, curr_num_subplots=10, active_page_index=1)\n",
    "    return p\n",
    "\n",
    "\n",
    "    \n",
    "# curr_kdiba_pipeline.computation_results['maze1'].computation_config\n",
    "# curr_kdiba_pipeline.computation_results['maze1'].sess.config\n",
    "# curr_kdiba_pipeline.active_configs['maze1']\n",
    "p = _display_testing(curr_kdiba_pipeline.sess, curr_kdiba_pipeline.computation_results['maze1'], curr_kdiba_pipeline.active_configs['maze1'])\n",
    "p.show()\n",
    "\n",
    "\n",
    "\n",
    "\n"
   ]
  },
  {
   "cell_type": "code",
   "execution_count": 43,
   "id": "88d1d238-3cd0-4068-a2dc-cd02ed0321cd",
   "metadata": {},
   "outputs": [],
   "source": [
    "from itertools import islice # for Pagination class\n",
    "import pyvista as pv\n",
    "import pyvistaqt as pvqt\n",
    "from PhoGui.InteractivePlotter.LapsVisualizationMixin import LapsVisualizationMixin\n",
    "from PhoGui.PhoCustomVtkWidgets import PhoWidgetHelper\n",
    "from PhoPositionalData.plotting.spikeAndPositions import perform_plot_flat_arena"
   ]
  },
  {
   "cell_type": "code",
   "execution_count": 41,
   "id": "9a3b569e-5627-445a-ab45-b7dc0805d53f",
   "metadata": {},
   "outputs": [
    {
     "name": "stdout",
     "output_type": "stream",
     "text": [
      ", **({'name': 'maze_bg', 'label': 'maze', 'scalars': 'traversal_order_scalars', 'render': True} | kwargs)\n"
     ]
    }
   ],
   "source": [
    "\"\"\" Test Drawing Spike Lines \"\"\"\n",
    "from pyphoplacecellanalysis.Pho3D.spikes import draw_line_spike\n",
    "# draw_line_spike(p, \n",
    "\n",
    "get_arguments_as_optional_dict(name='maze_bg', label='maze', scalars='traversal_order_scalars', render=True)"
   ]
  },
  {
   "cell_type": "code",
   "execution_count": 48,
   "id": "7c61c46b-38e0-4ddb-b555-94c3763382ea",
   "metadata": {},
   "outputs": [
    {
     "ename": "NameError",
     "evalue": "name 'curr_row' is not defined",
     "output_type": "error",
     "traceback": [
      "\u001b[1;31m---------------------------------------------------------------------------\u001b[0m",
      "\u001b[1;31mNameError\u001b[0m                                 Traceback (most recent call last)",
      "\u001b[1;32m~\\AppData\\Local\\Temp/ipykernel_13868/2834813792.py\u001b[0m in \u001b[0;36m<module>\u001b[1;34m\u001b[0m\n\u001b[0;32m    100\u001b[0m \u001b[1;33m\u001b[0m\u001b[0m\n\u001b[0;32m    101\u001b[0m \u001b[1;33m\u001b[0m\u001b[0m\n\u001b[1;32m--> 102\u001b[1;33m \u001b[0mp\u001b[0m\u001b[1;33m,\u001b[0m \u001b[0mlaps_pages\u001b[0m \u001b[1;33m=\u001b[0m \u001b[0m_plot_lap_trajectories_combined_plot_3d\u001b[0m\u001b[1;33m(\u001b[0m\u001b[0mcurr_kdiba_pipeline\u001b[0m\u001b[1;33m.\u001b[0m\u001b[0msess\u001b[0m\u001b[1;33m,\u001b[0m \u001b[0mcurr_num_subplots\u001b[0m\u001b[1;33m=\u001b[0m\u001b[1;36m1\u001b[0m\u001b[1;33m)\u001b[0m\u001b[1;33m\u001b[0m\u001b[1;33m\u001b[0m\u001b[0m\n\u001b[0m\u001b[0;32m    103\u001b[0m \u001b[0mp\u001b[0m\u001b[1;33m.\u001b[0m\u001b[0mshow\u001b[0m\u001b[1;33m(\u001b[0m\u001b[1;33m)\u001b[0m\u001b[1;33m\u001b[0m\u001b[1;33m\u001b[0m\u001b[0m\n\u001b[0;32m    104\u001b[0m \u001b[0mlaps_pages\u001b[0m\u001b[1;33m\u001b[0m\u001b[1;33m\u001b[0m\u001b[0m\n",
      "\u001b[1;32m~\\AppData\\Local\\Temp/ipykernel_13868/2834813792.py\u001b[0m in \u001b[0;36m_plot_lap_trajectories_combined_plot_3d\u001b[1;34m(sess, curr_num_subplots, active_page_index, single_combined_plot)\u001b[0m\n\u001b[0;32m     88\u001b[0m             \u001b[0mperform_plot_flat_arena\u001b[0m\u001b[1;33m(\u001b[0m\u001b[0mp\u001b[0m\u001b[1;33m[\u001b[0m\u001b[1;36m0\u001b[0m\u001b[1;33m,\u001b[0m\u001b[1;36m0\u001b[0m\u001b[1;33m]\u001b[0m\u001b[1;33m,\u001b[0m \u001b[0mall_maze_data\u001b[0m\u001b[1;33m[\u001b[0m\u001b[1;36m0\u001b[0m\u001b[1;33m]\u001b[0m\u001b[1;33m,\u001b[0m \u001b[0mall_maze_data\u001b[0m\u001b[1;33m[\u001b[0m\u001b[1;36m1\u001b[0m\u001b[1;33m]\u001b[0m\u001b[1;33m,\u001b[0m \u001b[0mz\u001b[0m\u001b[1;33m=\u001b[0m\u001b[0mcurr_maze_z_offset\u001b[0m\u001b[1;33m,\u001b[0m \u001b[0mname\u001b[0m\u001b[1;33m=\u001b[0m\u001b[1;34mf'maze_offset[{curr_lap_idx}]'\u001b[0m\u001b[1;33m,\u001b[0m \u001b[0mrender\u001b[0m\u001b[1;33m=\u001b[0m\u001b[1;32mFalse\u001b[0m\u001b[1;33m)\u001b[0m\u001b[1;33m\u001b[0m\u001b[1;33m\u001b[0m\u001b[0m\n\u001b[0;32m     89\u001b[0m \u001b[1;33m\u001b[0m\u001b[0m\n\u001b[1;32m---> 90\u001b[1;33m             \u001b[0mLapsVisualizationMixin\u001b[0m\u001b[1;33m.\u001b[0m\u001b[0mplot_lap_trajectory_path_spline\u001b[0m\u001b[1;33m(\u001b[0m\u001b[0mp\u001b[0m\u001b[1;33m[\u001b[0m\u001b[0mcurr_row\u001b[0m\u001b[1;33m,\u001b[0m \u001b[0mcurr_col\u001b[0m\u001b[1;33m]\u001b[0m\u001b[1;33m,\u001b[0m \u001b[0mcurr_lap_position_traces\u001b[0m\u001b[1;33m[\u001b[0m\u001b[0mcurr_lap_idx\u001b[0m\u001b[1;33m]\u001b[0m\u001b[1;33m,\u001b[0m \u001b[0mcurr_lap_id\u001b[0m\u001b[1;33m,\u001b[0m \u001b[0mlap_id_dependent_z_offset\u001b[0m\u001b[1;33m=\u001b[0m\u001b[0mlap_id_dependent_z_offset\u001b[0m\u001b[1;33m)\u001b[0m\u001b[1;33m\u001b[0m\u001b[1;33m\u001b[0m\u001b[0m\n\u001b[0m\u001b[0;32m     91\u001b[0m             \u001b[1;31m# curr_lap_label_text = 'Lap[{}]: t({:.2f}, {:.2f})'.format(curr_lap_id, curr_lap_time_range[curr_lap_id][0], curr_lap_time_range[curr_lap_id][1])\u001b[0m\u001b[1;33m\u001b[0m\u001b[1;33m\u001b[0m\u001b[0m\n\u001b[0;32m     92\u001b[0m             \u001b[1;31m# PhoWidgetHelper.perform_add_text(p[curr_row, curr_col], curr_lap_label_text, name='lblLapIdIndicator')\u001b[0m\u001b[1;33m\u001b[0m\u001b[1;33m\u001b[0m\u001b[0m\n",
      "\u001b[1;31mNameError\u001b[0m: name 'curr_row' is not defined"
     ]
    }
   ],
   "source": [
    "def _plot_lap_trajectories_combined_plot_3d(sess, curr_num_subplots=1, active_page_index=0, single_combined_plot=True):\n",
    "    \"\"\" Plots a PyVista Qt Multiplotter with several overhead 3D views, each showing a specific lap over the maze in one of its subplots \n",
    "    Usage: \n",
    "        p, laps_pages = plot_lap_trajectories_3d(sess, curr_num_subplots=10, active_page_index=1)\n",
    "        p.show()\n",
    "    \"\"\"\n",
    "    def _chunks(iterable, size=10):\n",
    "        iterator = iter(iterable)\n",
    "        for first in iterator:    # stops when iterator is depleted\n",
    "            def chunk():          # construct generator for next chunk\n",
    "                yield first       # yield element from for loop\n",
    "                for more in islice(iterator, size - 1):\n",
    "                    yield more    # yield more elements from the iterator\n",
    "            yield chunk()         # in outer generator, yield next chunk\n",
    "\n",
    "    def _compute_laps_position_data(sess):\n",
    "        curr_position_df = sess.compute_position_laps()\n",
    "        lap_specific_position_dfs = [curr_position_df.groupby('lap').get_group(i)[['t','x','y','lin_pos']] for i in sess.laps.lap_id] # dataframes split for each ID:\n",
    "        return curr_position_df, lap_specific_position_dfs\n",
    "        \n",
    "    def _build_laps_multiplotter(nfields, linear_plot_data=None, maximum_fixed_columns:int=5):\n",
    "        linear_plotter_indicies = np.arange(nfields)\n",
    "        fixed_columns = min(maximum_fixed_columns, nfields)\n",
    "        needed_rows = int(np.ceil(nfields / fixed_columns))\n",
    "        row_column_indicies = np.unravel_index(linear_plotter_indicies, (needed_rows, fixed_columns)) # inverse is: np.ravel_multi_index(row_column_indicies, (needed_rows, fixed_columns))\n",
    "        mp = pvqt.MultiPlotter(nrows=needed_rows, ncols=fixed_columns, show=False, title='Laps Muliplotter', toolbar=False, menu_bar=False, editor=False)\n",
    "        # print('linear_plotter_indicies: {}\\n row_column_indicies: {}\\n'.format(linear_plotter_indicies, row_column_indicies))\n",
    "        for a_linear_index in linear_plotter_indicies:\n",
    "            # print('a_linear_index: {}, row_column_indicies[0][a_linear_index]: {}, row_column_indicies[1][a_linear_index]: {}'.format(a_linear_index, row_column_indicies[0][a_linear_index], row_column_indicies[1][a_linear_index]))\n",
    "            curr_row = row_column_indicies[0][a_linear_index]\n",
    "            curr_col = row_column_indicies[1][a_linear_index]\n",
    "            if linear_plot_data is None:\n",
    "                mp[curr_row, curr_col].add_mesh(pv.Sphere())\n",
    "            else:\n",
    "                # mp[curr_row, curr_col].add_mesh(linear_plot_data[a_linear_index], name='maze_bg', color=\"black\", render=False)\n",
    "                perform_plot_flat_arena(mp[curr_row, curr_col], linear_plot_data[0], linear_plot_data[1], z=-0.01, name='maze_bg', render=False)\n",
    "        return mp, linear_plotter_indicies, row_column_indicies\n",
    "\n",
    "    \n",
    "    def _add_specific_lap_trajectory(p, linear_plotter_indicies, row_column_indicies, active_page_laps_ids, curr_lap_position_traces, curr_lap_time_range, single_combined_plot: bool):\n",
    "        # Add the lap trajectory:\n",
    "        for a_linear_index in linear_plotter_indicies:\n",
    "            curr_row = row_column_indicies[0][a_linear_index]\n",
    "            curr_col = row_column_indicies[1][a_linear_index]\n",
    "            if single_combined_plot:\n",
    "                # curr_lap_id = active_page_laps_ids[a_linear_index]\n",
    "                # print(f'curr_lap_id: {curr_lap_id}')\n",
    "                for curr_lap_idx, curr_lap_id in enumerate(active_page_laps_ids):\n",
    "                    LapsVisualizationMixin.plot_lap_trajectory_path_spline(p[curr_row, curr_col], curr_lap_position_traces[curr_lap_idx], curr_lap_id, lap_id_dependent_z_offset=1.0)\n",
    "                    # curr_lap_label_text = 'Lap[{}]: t({:.2f}, {:.2f})'.format(curr_lap_id, curr_lap_time_range[curr_lap_id][0], curr_lap_time_range[curr_lap_id][1]) \n",
    "                    # PhoWidgetHelper.perform_add_text(p[curr_row, curr_col], curr_lap_label_text, name='lblLapIdIndicator')\n",
    "            else:\n",
    "                curr_lap_id = active_page_laps_ids[a_linear_index]\n",
    "                LapsVisualizationMixin.plot_lap_trajectory_path_spline(p[curr_row, curr_col], curr_lap_position_traces[curr_lap_id], a_linear_index)\n",
    "                curr_lap_label_text = 'Lap[{}]: t({:.2f}, {:.2f})'.format(curr_lap_id, curr_lap_time_range[curr_lap_id][0], curr_lap_time_range[curr_lap_id][1]) \n",
    "                PhoWidgetHelper.perform_add_text(p[curr_row, curr_col], curr_lap_label_text, name='lblLapIdIndicator')\n",
    "\n",
    "    # Compute required data from session:\n",
    "    curr_position_df, lap_specific_position_dfs = _compute_laps_position_data(sess)\n",
    "    curr_lap_position_traces = [lap_pos_df[['x','y']].to_numpy().T for lap_pos_df in lap_specific_position_dfs]\n",
    "    curr_lap_time_range = [[lap_pos_df[['t']].to_numpy()[0].item(), lap_pos_df[['t']].to_numpy()[-1].item()] for lap_pos_df in lap_specific_position_dfs]\n",
    "\n",
    "    all_maze_positions = curr_position_df[['x','y']].to_numpy().T # (2, 59308)\n",
    "    # np.shape(all_maze_positions)\n",
    "    \n",
    "    # perform_plot_flat_arena(all_maze_positions[0,:], all_maze_positions[1,:], z=-0.01, smoothing=True)\n",
    "    \n",
    "    \n",
    "\n",
    "    if single_combined_plot:\n",
    "        all_maze_data = (all_maze_positions[0,:], all_maze_positions[1,:])\n",
    "    else:\n",
    "        pdata_maze_shared, pc_maze_shared = __build_flat_map_plot_data(all_maze_positions[0,:], all_maze_positions[1,:])\n",
    "        all_maze_data = np.full((curr_num_subplots,), pc_maze_shared) # repeat the maze data for each subplot\n",
    "        \n",
    "    p, linear_plotter_indicies, row_column_indicies = _build_laps_multiplotter(curr_num_subplots, all_maze_data)\n",
    "    # generate the pages\n",
    "    if single_combined_plot:\n",
    "        laps_pages = [list(sess.laps.lap_id)] # single 'page'\n",
    "    else:\n",
    "        laps_pages = [list(chunk) for chunk in _chunks(sess.laps.lap_id, curr_num_subplots)]\n",
    "    active_page_laps_ids = laps_pages[active_page_index]\n",
    "    # print(f'active_page_laps_ids: {active_page_laps_ids}, curr_lap_position_traces: {curr_lap_position_traces}')\n",
    "    if single_combined_plot:\n",
    "        lap_id_dependent_z_offset = 1.0\n",
    "        for curr_lap_idx, curr_lap_id in enumerate(active_page_laps_ids):\n",
    "            curr_maze_z_offset = -0.01 + (lap_id_dependent_z_offset * (curr_lap_idx + 1))\n",
    "            perform_plot_flat_arena(p[0,0], all_maze_data[0], all_maze_data[1], z=curr_maze_z_offset, name=f'maze_offset[{curr_lap_idx}]', render=False)\n",
    "\n",
    "    # add the laps\n",
    "    _add_specific_lap_trajectory(p, linear_plotter_indicies, row_column_indicies, active_page_laps_ids, curr_lap_position_traces, curr_lap_time_range, single_combined_plot=single_combined_plot)\n",
    "    return p, laps_pages\n",
    "\n",
    "\n",
    "\n",
    "\n",
    "\n",
    "p, laps_pages = _plot_lap_trajectories_combined_plot_3d(curr_kdiba_pipeline.sess, curr_num_subplots=1)\n",
    "p.show()\n",
    "laps_pages"
   ]
  }
 ],
 "metadata": {
  "kernelspec": {
   "display_name": "Python 3 (ipykernel)",
   "language": "python",
   "name": "python3"
  },
  "language_info": {
   "codemirror_mode": {
    "name": "ipython",
    "version": 3
   },
   "file_extension": ".py",
   "mimetype": "text/x-python",
   "name": "python",
   "nbconvert_exporter": "python",
   "pygments_lexer": "ipython3",
   "version": "3.9.7"
  }
 },
 "nbformat": 4,
 "nbformat_minor": 5
}
