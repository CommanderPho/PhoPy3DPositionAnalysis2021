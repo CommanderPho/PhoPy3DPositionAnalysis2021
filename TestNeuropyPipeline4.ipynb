{
 "cells": [
  {
   "cell_type": "code",
   "execution_count": 1,
   "id": "a832c382-7f3e-42e3-91db-828709729862",
   "metadata": {},
   "outputs": [
    {
     "name": "stdout",
     "output_type": "stream",
     "text": [
      "neuropy module not found, adding directory to sys.path. \n",
      " >> Updated sys.path.\n"
     ]
    }
   ],
   "source": [
    "\"\"\"\n",
    "@author: pho\n",
    "\"\"\"\n",
    "%load_ext autoreload\n",
    "%autoreload 2\n",
    "import sys\n",
    "import importlib\n",
    "\n",
    "import numpy as np\n",
    "import pandas as pd\n",
    "\n",
    "## Panel:\n",
    "import param\n",
    "import panel as pn\n",
    "from panel.viewable import Viewer\n",
    "\n",
    "## Pho's Custom Libraries:\n",
    "from pyphocorehelpers.general_helpers import PrettyPrintable, get_arguments_as_optional_dict\n",
    "from pyphocorehelpers.function_helpers import compose_functions\n",
    "\n",
    "from pyphoplacecellanalysis.General.Pipeline.NeuropyPipeline import * # get_neuron_identities\n",
    "from pyphoplacecellanalysis.General.SessionSelectionAndFiltering import batch_filter_session\n",
    "from pyphoplacecellanalysis.General.ComputationResults import ComputationResult\n",
    "# from PendingNotebookCode import estimation_session_laps\n",
    "\n",
    "\n",
    "from neuropy.analyses.laps import estimation_session_laps\n",
    "from neuropy.core.epoch import NamedTimerange\n",
    "\n",
    "# Neuropy:\n",
    "from neuropy.analyses.placefields import PlacefieldComputationParameters, perform_compute_placefields\n",
    "from neuropy.core.neuron_identities import NeuronIdentity, build_units_colormap, PlotStringBrevityModeEnum\n",
    "from neuropy.utils.debug_helpers import debug_print_placefield, debug_print_spike_counts, debug_print_subsession_neuron_differences\n",
    "\n",
    "# def estimate_session_laps_load_function(regular_load_function, a_base_dir):\n",
    "#     session = regular_load_function(a_base_dir)\n",
    "#     ## Estimate the Session's Laps data using my algorithm from the loaded position data.\n",
    "#     session = estimation_session_laps(session)\n",
    "#     return session\n",
    "\n",
    "known_data_session_type_dict = {'kdiba':KnownDataSessionTypeProperties(load_function=(lambda a_base_dir: DataSessionLoader.kdiba_old_format_session(a_base_dir)),\n",
    "                               basedir=Path(r'R:\\data\\KDIBA\\gor01\\one\\2006-6-07_11-26-53')),\n",
    "                'bapun':KnownDataSessionTypeProperties(load_function=(lambda a_base_dir: DataSessionLoader.bapun_data_session(a_base_dir)),\n",
    "                               basedir=Path('R:\\data\\Bapun\\Day5TwoNovel'))\n",
    "               }\n",
    "\n",
    "known_data_session_type_dict['kdiba'].post_load_functions = [lambda a_loaded_sess: estimation_session_laps(a_loaded_sess)]\n",
    "# known_data_session_type_dict = {'kdiba':KnownDataSessionTypeProperties(load_function=(lambda a_base_dir: estimation_session_laps(DataSessionLoader.kdiba_old_format_session(a_base_dir))),\n",
    "#                                basedir=Path(r'R:\\data\\KDIBA\\gor01\\one\\2006-6-07_11-26-53')),\n",
    "#                 'bapun':KnownDataSessionTypeProperties(load_function=(lambda a_base_dir: DataSessionLoader.bapun_data_session(a_base_dir)),\n",
    "#                                basedir=Path('R:\\data\\Bapun\\Day5TwoNovel'))\n",
    "#                }\n",
    "\n",
    "# known_data_session_type_dict['kdiba'].name"
   ]
  },
  {
   "cell_type": "code",
   "execution_count": 2,
   "id": "b1ba78ec-e674-492b-bf68-4733ba7beae6",
   "metadata": {},
   "outputs": [],
   "source": [
    "# Truely Common:\n",
    "def _display_result(computation_result):\n",
    "    pf_neuron_identities, pf_sort_ind, pf_colors, pf_colormap, pf_listed_colormap = get_neuron_identities(computation_result.computed_data['pf2D'])\n",
    "    computation_result.computed_data['pf2D'].plot_raw(label_cells=True); # Plots an overview of each cell all in one figure\n",
    "    computation_result.computed_data['pf2D'].plot_ratemaps_2D(resolution_multiplier=2.5, brev_mode=PlotStringBrevityModeEnum.MINIMAL)\n",
    "\n",
    "    "
   ]
  },
  {
   "cell_type": "markdown",
   "id": "8eceb354-7fa7-4064-ba26-4e989b9f3354",
   "metadata": {},
   "source": [
    "# Bapun Format:"
   ]
  },
  {
   "cell_type": "code",
   "execution_count": null,
   "id": "20843de4-9a94-42f7-80a9-f2c8d5704b62",
   "metadata": {},
   "outputs": [],
   "source": [
    "# curr_bapun_pipeline = NeuropyPipeline(name='bapun_pipeline', session_data_type='bapun', basedir=known_data_session_type_dict['bapun'].basedir, load_function=known_data_session_type_dict['bapun'].load_function)\n",
    "curr_bapun_pipeline = NeuropyPipeline.init_from_known_data_session_type('bapun', known_data_session_type_dict['bapun'])\n",
    "\n",
    "# curr_bapun_pipeline = NeuropyPipeline.init_from_known_data_session_type('bapun', known_data_session_type_dict['bapun'])\n",
    "curr_bapun_pipeline.is_loaded\n",
    "size_bytes = curr_bapun_pipeline.sess.__sizeof__() # 1753723032\n",
    "f'object size: {size_bytes/(1024*1024)} MB'"
   ]
  },
  {
   "cell_type": "code",
   "execution_count": null,
   "id": "4ca2caf3-dfcd-439f-9561-33124d9c7cd9",
   "metadata": {},
   "outputs": [],
   "source": [
    "# Bapun/DataFrame style session filter functions:\n",
    "def _temp_filter_session_by_epoch1(sess):\n",
    "    \"\"\" \n",
    "    Usage:\n",
    "        active_session, active_epoch = _temp_filter_session(curr_bapun_pipeline.sess)\n",
    "    \"\"\"\n",
    "    active_epoch = sess.epochs.get_named_timerange('maze1')\n",
    "    ## All Spikes:\n",
    "    # active_epoch_session = sess.filtered_by_epoch(active_epoch) # old\n",
    "    active_session = batch_filter_session(sess, sess.position, sess.spikes_df, active_epoch.to_Epoch())\n",
    "    return active_session, active_epoch\n",
    "\n",
    "def _temp_filter_session_by_epoch2(sess):\n",
    "    \"\"\" \n",
    "    Usage:\n",
    "        active_session, active_epoch = _temp_filter_session(curr_bapun_pipeline.sess)\n",
    "    \"\"\"\n",
    "    active_epoch = sess.epochs.get_named_timerange('maze2')\n",
    "    ## All Spikes:\n",
    "    # active_epoch_session = sess.filtered_by_epoch(active_epoch) # old\n",
    "    active_session = batch_filter_session(sess, sess.position, sess.spikes_df, active_epoch.to_Epoch())\n",
    "    return active_session, active_epoch\n",
    "\n",
    "\n",
    "active_session_filter_configurations = {'maze1':_temp_filter_session_by_epoch1,\n",
    "                                        'maze2':_temp_filter_session_by_epoch2\n",
    "                                       }\n",
    "\n",
    "curr_bapun_pipeline.filter_sessions(active_session_filter_configurations)\n",
    "curr_bapun_pipeline.perform_computations(PlacefieldComputationParameters(speed_thresh=0.0, grid_bin=(5, 3), smooth=(0.0, 0.0), frate_thresh=0.1))"
   ]
  },
  {
   "cell_type": "code",
   "execution_count": null,
   "id": "cbd88698-7e83-4f09-9026-7a6a48910a68",
   "metadata": {},
   "outputs": [],
   "source": [
    "_display_result(curr_bapun_pipeline.computation_results['maze1'])"
   ]
  },
  {
   "cell_type": "code",
   "execution_count": null,
   "id": "c62c4907-c242-4908-80dd-0c7d49e89b80",
   "metadata": {},
   "outputs": [],
   "source": [
    "_display_result(curr_bapun_pipeline.computation_results['maze2'])"
   ]
  },
  {
   "cell_type": "markdown",
   "id": "a4940269-23e4-46dc-a4ae-61d512ac5e41",
   "metadata": {},
   "source": [
    "# KDiba Format:"
   ]
  },
  {
   "cell_type": "code",
   "execution_count": 3,
   "id": "69a69581-2f38-4d64-bc21-d38041e2b068",
   "metadata": {},
   "outputs": [
    {
     "name": "stdout",
     "output_type": "stream",
     "text": [
      "basedir is already Path object.\n",
      "\t basepath: R:\\data\\KDIBA\\gor01\\one\\2006-6-07_11-26-53\n",
      "\t session_name: 2006-6-07_11-26-53\n",
      "Loading matlab import file results to R:\\data\\KDIBA\\gor01\\one\\2006-6-07_11-26-53\\2006-6-07_11-26-53.epochs_info.mat... done.\n",
      "Loading matlab import file results to R:\\data\\KDIBA\\gor01\\one\\2006-6-07_11-26-53\\2006-6-07_11-26-53.position_info.mat... done.\n",
      "Loading matlab import file results to R:\\data\\KDIBA\\gor01\\one\\2006-6-07_11-26-53\\2006-6-07_11-26-53.spikes.mat... done.\n",
      "Failure loading .position.npy. Must recompute.\n",
      "\n",
      "Computing linear positions for all active epochs for session... Saving updated position results results to R:\\data\\KDIBA\\gor01\\one\\2006-6-07_11-26-53\\2006-6-07_11-26-53.position.npy... 2006-6-07_11-26-53.position.npy saved\n",
      "done.\n",
      "\t Failure loading .interpolated_spike_positions.npy. Must recompute.\n",
      "\n",
      "\t Saving updated interpolated spike position results results to R:\\data\\KDIBA\\gor01\\one\\2006-6-07_11-26-53\\2006-6-07_11-26-53.interpolated_spike_positions.npy... 2006-6-07_11-26-53.interpolated_spike_positions.npy saved\n",
      "done.\n",
      "Loading matlab import file results to R:\\data\\KDIBA\\gor01\\one\\2006-6-07_11-26-53\\2006-6-07_11-26-53.laps_info.mat... done.\n",
      "setting laps object.\n",
      "session.laps loaded successfully!\n",
      "desc_crossings_x: (24,), asc_crossings_x: (24,)\n"
     ]
    },
    {
     "data": {
      "text/plain": [
       "         start         stop  label     duration\n",
       "0     0.000000  1739.153364  maze1  1739.153364\n",
       "1  1739.153364  1932.420005  maze2   193.266641"
      ]
     },
     "execution_count": 3,
     "metadata": {},
     "output_type": "execute_result"
    }
   ],
   "source": [
    "## Data must be pre-processed using the MATLAB script located here: \n",
    "# R:\\data\\KDIBA\\gor01\\one\\IIDataMat_Export_ToPython_2021_11_23.m\n",
    "# From pre-computed .mat files:\n",
    "## 07: \n",
    "# basedir = r'R:\\data\\KDIBA\\gor01\\one\\2006-6-07_11-26-53'\n",
    "# # ## 08:\n",
    "# basedir = r'R:\\data\\KDIBA\\gor01\\one\\2006-6-08_14-26-15'\n",
    "# curr_kdiba_pipeline = NeuropyPipeline(name='kdiba_pipeline', session_data_type='kdiba', basedir=known_data_session_type_dict['kdiba'].basedir, load_function=known_data_session_type_dict['kdiba'].load_function)\n",
    "curr_kdiba_pipeline = NeuropyPipeline.init_from_known_data_session_type('kdiba', known_data_session_type_dict['kdiba'])\n",
    "\n",
    "# curr_bapun_pipeline\n",
    "curr_kdiba_pipeline.is_loaded\n",
    "size_bytes = curr_kdiba_pipeline.sess.__sizeof__() # 1753723032\n",
    "f'object size: {size_bytes/(1024*1024)} MB'\n",
    "# ## Estimate the Session's Laps data using my algorithm from the loaded position data.\n",
    "# curr_kdiba_pipeline.sess = estimation_session_laps(curr_kdiba_pipeline.sess)\n",
    "curr_kdiba_pipeline.sess.epochs"
   ]
  },
  {
   "cell_type": "code",
   "execution_count": 4,
   "id": "1c2623c6-1e30-433b-bf88-8841037a7283",
   "metadata": {},
   "outputs": [
    {
     "name": "stdout",
     "output_type": "stream",
     "text": [
      "Applying session filter named \"maze1\"...\n",
      "Constraining to epoch with times (start: 0.0, end: 1739.1533641185379)\n",
      "Applying session filter named \"maze2\"...\n",
      "Constraining to epoch with times (start: 1739.1533641185379, end: 1932.4200048116618)\n",
      "Performing single_computation on filtered_session with filter named \"maze1\"...\n",
      "Recomputing active_epoch_placefields... \t done.\n",
      "Recomputing active_epoch_placefields2D... \t done.\n",
      "Performing single_computation on filtered_session with filter named \"maze2\"...\n",
      "Recomputing active_epoch_placefields... \t done.\n",
      "Recomputing active_epoch_placefields2D... \t done.\n"
     ]
    }
   ],
   "source": [
    "def _temp_filter_session_by_epoch1(sess):\n",
    "    \"\"\" \n",
    "    Usage:\n",
    "        active_session, active_epoch = _temp_filter_session(curr_bapun_pipeline.sess)\n",
    "    \"\"\"\n",
    "    active_epoch = sess.epochs.get_named_timerange('maze1')\n",
    "    ## All Spikes:\n",
    "    active_session = sess.filtered_by_epoch(active_epoch) # kdiba\n",
    "    # active_session = batch_filter_session(sess, sess.position, sess.spikes_df, active_epoch.to_Epoch())\n",
    "    return active_session, active_epoch\n",
    "\n",
    "def _temp_filter_session_by_epoch2(sess):\n",
    "    \"\"\" \n",
    "    Usage:\n",
    "        active_session, active_epoch = _temp_filter_session(curr_bapun_pipeline.sess)\n",
    "    \"\"\"\n",
    "    active_epoch = sess.epochs.get_named_timerange('maze2')\n",
    "    ## All Spikes:\n",
    "    active_session = sess.filtered_by_epoch(active_epoch) # kdiba\n",
    "    # active_session = batch_filter_session(sess, sess.position, sess.spikes_df, active_epoch.to_Epoch()) # new Bapun/Df\n",
    "    return active_session, active_epoch\n",
    "\n",
    "active_session_filter_configurations = {'maze1':_temp_filter_session_by_epoch1,\n",
    "                                        'maze2':_temp_filter_session_by_epoch2\n",
    "                                       }\n",
    "\n",
    "# active_config = build_configs(sess.config, active_epoch)\n",
    "\n",
    "curr_kdiba_pipeline.filter_sessions(active_session_filter_configurations)\n",
    "curr_kdiba_pipeline.perform_computations(PlacefieldComputationParameters(speed_thresh=0.0, grid_bin=(5, 3), smooth=(0.0, 0.0), frate_thresh=0.1))"
   ]
  },
  {
   "cell_type": "code",
   "execution_count": 116,
   "id": "1e0f2e8a-82e5-40b1-b524-006dfb59cffd",
   "metadata": {},
   "outputs": [
    {
     "name": "stdout",
     "output_type": "stream",
     "text": [
      "Applying session filter named \"maze1\"...\n",
      "Constraining to units with type: pyramidal\n",
      "Constraining to epoch with times (start: 22.26, end: 1739.1533641185379)\n",
      "Applying session filter named \"maze2\"...\n",
      "Constraining to units with type: pyramidal\n",
      "Constraining to epoch with times (start: 1739.1533641185379, end: 1932.4200048116618)\n",
      "Applying session filter named \"maze\"...\n",
      "Constraining to units with type: pyramidal\n",
      "Constraining to epoch with times (start: 22.26, end: 1932.4200048116618)\n",
      "Performing single_computation on filtered_session with filter named \"maze1\"...\n",
      "Recomputing active_epoch_placefields... \t done.\n",
      "Recomputing active_epoch_placefields2D... \t done.\n",
      "Performing single_computation on filtered_session with filter named \"maze2\"...\n",
      "Recomputing active_epoch_placefields... \t done.\n",
      "Recomputing active_epoch_placefields2D... \t done.\n",
      "Performing single_computation on filtered_session with filter named \"maze\"...\n",
      "Recomputing active_epoch_placefields... \t done.\n",
      "Recomputing active_epoch_placefields2D... \t done.\n"
     ]
    }
   ],
   "source": [
    "def build_lap_epochs_filters(sess):\n",
    "    lap_specific_epochs = sess.laps.as_epoch_obj()\n",
    "    # lap_specific_epochs.to_dataframe()\n",
    "    any_lap_specific_epochs = lap_specific_epochs.label_slice(lap_specific_epochs.labels[np.arange(len(sess.laps.lap_id))])\n",
    "    even_lap_specific_epochs = lap_specific_epochs.label_slice(lap_specific_epochs.labels[np.arange(0, len(sess.laps.lap_id), 2)])\n",
    "    odd_lap_specific_epochs = lap_specific_epochs.label_slice(lap_specific_epochs.labels[np.arange(1, len(sess.laps.lap_id), 2)])\n",
    "    \n",
    "    ## All Spikes:\n",
    "    sess.epochs.t_start = 22.26 # exclude the first short period where the animal isn't on the maze yet\n",
    "    # sess.epochs.to_dataframe()\n",
    "    # active_epoch = sess.epochs.get_named_timerange('maze1')\n",
    "    # print('active_epoch: {}'.format(active_epoch))\n",
    "    # active_epoch = sess.epochs.get_named_timerange('maze2')\n",
    "    # active_epoch_maze_all = NamedTimerange(name='maze', start_end_times=[sess.epochs['maze1'][0], sess.epochs['maze2'][1]])\n",
    "\n",
    "    # active_epoch_session = sess.filtered_by_neuron_type('pyramidal').filtered_by_epoch(active_epoch)\n",
    "    # print_subsession_neuron_differences(sess.neurons, active_epoch_session.neurons)\n",
    "\n",
    "    active_session_filter_configurations = {'maze1': lambda x: (x.filtered_by_neuron_type('pyramidal').filtered_by_epoch(x.epochs.get_named_timerange('maze1')), x.epochs.get_named_timerange('maze1')),\n",
    "                                        'maze2': lambda x: (x.filtered_by_neuron_type('pyramidal').filtered_by_epoch(x.epochs.get_named_timerange('maze2')), x.epochs.get_named_timerange('maze2')),\n",
    "                                        'maze': lambda x: (x.filtered_by_neuron_type('pyramidal').filtered_by_epoch(NamedTimerange(name='maze', start_end_times=[x.epochs['maze1'][0], x.epochs['maze2'][1]])), NamedTimerange(name='maze', start_end_times=[x.epochs['maze1'][0], x.epochs['maze2'][1]]))\n",
    "                                       }\n",
    "    return active_session_filter_configurations\n",
    "    \n",
    "active_session_filter_configurations = build_lap_epochs_filters(curr_kdiba_pipeline.sess)\n",
    "curr_kdiba_pipeline.filter_sessions(active_session_filter_configurations)\n",
    "curr_kdiba_pipeline.perform_computations(PlacefieldComputationParameters(speed_thresh=0.0, grid_bin=(5, 3), smooth=(0.0, 0.0), frate_thresh=0.1))\n"
   ]
  },
  {
   "cell_type": "code",
   "execution_count": null,
   "id": "96637cdd-8aa7-4a83-9bab-eedcb5363dde",
   "metadata": {},
   "outputs": [],
   "source": [
    "def debug_plot_filtered_subsession_neuron_differences(sess, filtered_sess):\n",
    "    print_subsession_neuron_differences(sess.neurons, active_epoch_session.neurons)\n",
    "\n",
    "[debug_plot_filtered_subsession_neuron_differences(curr_kdiba_pipeline.sess, a_filtered_sess) for a_filtered_sess in curr_kdiba_pipeline.filtered_sessions]"
   ]
  },
  {
   "cell_type": "code",
   "execution_count": null,
   "id": "d47c981e-7259-4a8e-acfd-5d9146e6b3b0",
   "metadata": {},
   "outputs": [],
   "source": [
    "curr_kdiba_pipeline.computation_results['maze2']"
   ]
  },
  {
   "cell_type": "code",
   "execution_count": null,
   "id": "16cace13-54be-40a7-bb8c-05d6bb25ffc3",
   "metadata": {},
   "outputs": [],
   "source": [
    "_display_result(curr_kdiba_pipeline.computation_results['maze1'])\n",
    "_display_result(curr_kdiba_pipeline.computation_results['maze2'])"
   ]
  },
  {
   "cell_type": "code",
   "execution_count": null,
   "id": "1a847f37-968c-4695-8feb-607e9f2af44d",
   "metadata": {},
   "outputs": [],
   "source": [
    "def _display_normal(computation_result, active_config):\n",
    "    from neuropy.plotting.placemaps import plot_all_placefields\n",
    "    # from neuropy.core.neuron_identities import build_units_colormap\n",
    "    # print(f'active_config: {active_config}')\n",
    "    # active_config = computation_result.sess.config\n",
    "    if active_config.computation_config is None:\n",
    "        active_config.computation_config = computation_result.computation_config\n",
    "\n",
    "    pf_neuron_identities, pf_sort_ind, pf_colors, pf_colormap, pf_listed_colormap = get_neuron_identities(computation_result.computed_data['pf2D'])\n",
    "    ax_pf_1D, occupancy_fig, active_pf_2D_figures, active_pf_2D_gs = plot_all_placefields(computation_result.computed_data['pf1D'], computation_result.computed_data['pf2D'], active_config, should_save_to_disk=False)\n",
    "    \n",
    "# curr_kdiba_pipeline.computation_results['maze1'].computation_config\n",
    "# curr_kdiba_pipeline.computation_results['maze1'].sess.config\n",
    "# curr_kdiba_pipeline.active_configs['maze1']\n",
    "_display_normal(curr_kdiba_pipeline.computation_results['maze1'], curr_kdiba_pipeline.active_configs['maze1'])"
   ]
  },
  {
   "cell_type": "code",
   "execution_count": 132,
   "id": "7b2cdd42-1624-48e7-9b03-187968f4665a",
   "metadata": {},
   "outputs": [
    {
     "name": "stdout",
     "output_type": "stream",
     "text": [
      "active_config.plotting_config: <PlottingConfig: {'subplots_shape': (1, 1), 'active_output_parent_dir': WindowsPath('output/2006-6-07_11-26-53/maze1'), 'use_age_proportional_spike_scale': False, 'plotter_type': 'MultiPlotter'};>\n",
      "active_config.plotting_config: <PlottingConfig: {'subplots_shape': (1, 1), 'active_output_parent_dir': WindowsPath('output/2006-6-07_11-26-53/maze1'), 'use_age_proportional_spike_scale': False, 'plotter_type': 'MultiPlotter'};>\n",
      "Applying custom Pyvista theme.\n",
      "done.\n",
      "No open BackgroundPlotter, p is a <class 'pyvistaqt.plotting.MultiPlotter'> object\n",
      "Creating a new MultiPlotter\n"
     ]
    },
    {
     "ename": "AttributeError",
     "evalue": "'PlottingConfig' object has no attribute 'lap_id_dependent_z_offset'",
     "output_type": "error",
     "traceback": [
      "\u001b[1;31m---------------------------------------------------------------------------\u001b[0m",
      "\u001b[1;31mAttributeError\u001b[0m                            Traceback (most recent call last)",
      "\u001b[1;32m~\\AppData\\Local\\Temp/ipykernel_6884/2655462329.py\u001b[0m in \u001b[0;36m<module>\u001b[1;34m\u001b[0m\n\u001b[0;32m     36\u001b[0m \u001b[1;32mtry\u001b[0m\u001b[1;33m:\u001b[0m \u001b[0mpActiveInteractiveLapsPlotter\u001b[0m\u001b[1;33m\u001b[0m\u001b[1;33m\u001b[0m\u001b[0m\n\u001b[0;32m     37\u001b[0m \u001b[1;32mexcept\u001b[0m \u001b[0mNameError\u001b[0m\u001b[1;33m:\u001b[0m \u001b[0mpActiveInteractiveLapsPlotter\u001b[0m \u001b[1;33m=\u001b[0m \u001b[1;32mNone\u001b[0m \u001b[1;31m# Checks variable p's existance, and sets its value to None if it doesn't exist so it can be checked in the next step\u001b[0m\u001b[1;33m\u001b[0m\u001b[1;33m\u001b[0m\u001b[0m\n\u001b[1;32m---> 38\u001b[1;33m iplapsDataExplorer, pActiveInteractiveLapsPlotter = _display_testing(curr_kdiba_pipeline.sess, curr_kdiba_pipeline.computation_results['maze1'], curr_kdiba_pipeline.active_configs['maze1'],\n\u001b[0m\u001b[0;32m     39\u001b[0m                                                                      extant_plotter=pActiveInteractiveLapsPlotter)\n\u001b[0;32m     40\u001b[0m \u001b[0mpActiveInteractiveLapsPlotter\u001b[0m\u001b[1;33m.\u001b[0m\u001b[0mshow\u001b[0m\u001b[1;33m(\u001b[0m\u001b[1;33m)\u001b[0m\u001b[1;33m\u001b[0m\u001b[1;33m\u001b[0m\u001b[0m\n",
      "\u001b[1;32m~\\AppData\\Local\\Temp/ipykernel_6884/2655462329.py\u001b[0m in \u001b[0;36m_display_testing\u001b[1;34m(sess, computation_result, active_config, extant_plotter)\u001b[0m\n\u001b[0;32m     25\u001b[0m \u001b[1;33m\u001b[0m\u001b[0m\n\u001b[0;32m     26\u001b[0m     \u001b[1;32mfrom\u001b[0m \u001b[0mPhoPositionalData\u001b[0m\u001b[1;33m.\u001b[0m\u001b[0mplotting\u001b[0m\u001b[1;33m.\u001b[0m\u001b[0mlaps\u001b[0m \u001b[1;32mimport\u001b[0m \u001b[0mplot_lap_trajectories_3d\u001b[0m\u001b[1;33m\u001b[0m\u001b[1;33m\u001b[0m\u001b[0m\n\u001b[1;32m---> 27\u001b[1;33m     pActiveInteractiveLapsPlotter, laps_pages = plot_lap_trajectories_3d(sess, curr_num_subplots=10, active_page_index=1, single_combined_plot=True, lap_id_dependent_z_offset = active_config.plotting_config.lap_id_dependent_z_offset,\n\u001b[0m\u001b[0;32m     28\u001b[0m                                                                          existing_plotter=pActiveInteractiveLapsPlotter)\n\u001b[0;32m     29\u001b[0m     \u001b[1;32mreturn\u001b[0m \u001b[0miplapsDataExplorer\u001b[0m\u001b[1;33m,\u001b[0m \u001b[0mpActiveInteractiveLapsPlotter\u001b[0m\u001b[1;33m\u001b[0m\u001b[1;33m\u001b[0m\u001b[0m\n",
      "\u001b[1;31mAttributeError\u001b[0m: 'PlottingConfig' object has no attribute 'lap_id_dependent_z_offset'"
     ]
    }
   ],
   "source": [
    "from PhoGui.InteractivePlotter.InteractiveCustomDataExplorer import InteractiveCustomDataExplorer\n",
    "\n",
    "lap_id_dependent_z_offset = 3.0\n",
    "# curr_kdiba_pipeline.active_configs['maze1'].lap_id_dependent_z_offset = 3.0\n",
    "\n",
    "def _display_testing(sess, computation_result, active_config, extant_plotter=None):\n",
    "    \"\"\" Testing of plot_lap_trajectories_2d \"\"\"\n",
    "    # from PhoPositionalData.plotting.laps import plot_lap_trajectories_2d\n",
    "    # fig, axs, laps_pages = plot_lap_trajectories_2d(sess, curr_num_subplots=len(sess.laps.lap_id), active_page_index=0)\n",
    "    # fig.suptitle('Lap Trajectories 2D', fontsize=22)\n",
    "    # # fig_out_path = active_config.plotting_config.get_figure_save_path('lap_trajectories_2D').with_suffix('.png')\n",
    "    # # fig.savefig(fig_out_path)\n",
    "    # # plt.show()\n",
    "\n",
    "    # active_laps_config = InteractivePlaceCellConfig(active_session_config=active_config.active_session_config, active_epochs=None, video_output_config=None, plotting_config=None) # '3|1    \n",
    "    \n",
    "    # active_laps_config = active_config\n",
    "    # active_laps_config.plotting_config = PlottingConfig(output_subplots_shape='1|5', output_parent_dir=Path('output', sess.config.session_name, 'custom_laps'))\n",
    "    print(f'active_config.plotting_config: {active_config.plotting_config}')\n",
    "    # active_config.plotting_config = PlottingConfig(output_subplots_shape='1|5', output_parent_dir=Path('output', sess.config.session_name, 'custom_laps'))\n",
    "    \n",
    "    # if active_config.plotting_config.plotter_type is None:\n",
    "    active_config.plotting_config.plotter_type = 'MultiPlotter'\n",
    "    print(f'active_config.plotting_config: {active_config.plotting_config}')\n",
    "    iplapsDataExplorer = InteractiveCustomDataExplorer(active_config, sess, extant_plotter=extant_plotter)\n",
    "    pActiveInteractiveLapsPlotter = iplapsDataExplorer.plot(pActivePlotter=extant_plotter, default_plotting=False)\n",
    "\n",
    "    \n",
    "    from PhoPositionalData.plotting.laps import plot_lap_trajectories_3d\n",
    "    pActiveInteractiveLapsPlotter, laps_pages = plot_lap_trajectories_3d(sess, curr_num_subplots=10, active_page_index=1, single_combined_plot=True, lap_id_dependent_z_offset = lap_id_dependent_z_offset,\n",
    "                                                                         existing_plotter=pActiveInteractiveLapsPlotter)\n",
    "    return iplapsDataExplorer, pActiveInteractiveLapsPlotter\n",
    "\n",
    "\n",
    "\n",
    "# curr_kdiba_pipeline.computation_results['maze1'].computation_config\n",
    "# curr_kdiba_pipeline.computation_results['maze1'].sess.config\n",
    "# curr_kdiba_pipeline.active_configs['maze1']\n",
    "try: pActiveInteractiveLapsPlotter\n",
    "except NameError: pActiveInteractiveLapsPlotter = None # Checks variable p's existance, and sets its value to None if it doesn't exist so it can be checked in the next step\n",
    "iplapsDataExplorer, pActiveInteractiveLapsPlotter = _display_testing(curr_kdiba_pipeline.sess, curr_kdiba_pipeline.computation_results['maze1'], curr_kdiba_pipeline.active_configs['maze1'],\n",
    "                                                                     extant_plotter=pActiveInteractiveLapsPlotter)\n",
    "pActiveInteractiveLapsPlotter.show()\n",
    "\n",
    "\n",
    "\n",
    "\n"
   ]
  },
  {
   "cell_type": "code",
   "execution_count": 131,
   "id": "6cd1df18-c111-4e65-bebf-1f6e195d6676",
   "metadata": {},
   "outputs": [
    {
     "name": "stdout",
     "output_type": "stream",
     "text": [
      "sess.laps.lap_id: [ 1  2  3  4  5  6  7  8  9 10 11 12 13 14 15 16 17 18 19 20 21 22 23 24\n",
      " 25 26 27 28 29 30 31 32 33 34 35 36 37 38 39 40 41 42 43 44 45 46 47 48]\n",
      "np.unique(sess.spikes_df.lap.values): [-1  1  2  3  4  5  6  7  8  9 10 11 12 13 14 15 16 17 18 19 20 21 22 23\n",
      " 24 25 26 27 28 29 30 31 32 33 34 35 36 37 38 39 40 41 42 43 44]\n",
      "included_lap_ids: [ 1  2  3  4  5  6  7  8  9 10 11 12 13 14 15 16 17 18 19 20 21 22 23 24\n",
      " 25 26 27 28 29 30 31 32 33 34 35 36 37 38 39 40 41 42 43 44]\n",
      "False\n",
      "build_active_spikes_plot_pointdata_df(...): Found custom z column! Using Data!!\n",
      "no custom render_opacity set on dataframe.\n",
      "WARNING: DATAFRAME LACKS RGB VALUES!\n"
     ]
    }
   ],
   "source": [
    "from itertools import islice # for Pagination class\n",
    "import pyvista as pv\n",
    "import pyvistaqt as pvqt\n",
    "from PhoGui.InteractivePlotter.LapsVisualizationMixin import LapsVisualizationMixin\n",
    "from PhoGui.PhoCustomVtkWidgets import PhoWidgetHelper\n",
    "from PhoPositionalData.plotting.spikeAndPositions import perform_plot_flat_arena, _build_flat_arena_data\n",
    "\n",
    "\"\"\" Test Drawing Spike Lines \"\"\"\n",
    "# from pyphoplacecellanalysis.Pho3D.spikes import draw_line_spike, lines_from_points\n",
    "from pyphoplacecellanalysis import Pho3D\n",
    "\n",
    "from PhoPositionalData.plotting.spikeAndPositions import build_active_spikes_plot_pointdata_df\n",
    "\n",
    "\n",
    "np.unique(curr_kdiba_pipeline.sess.spikes_df.lap.values)\n",
    "\n",
    "sess = curr_kdiba_pipeline.filtered_sessions['maze']\n",
    "print(f'sess.laps.lap_id: {sess.laps.lap_id}')\n",
    "\n",
    "included_lap_ids = np.unique(sess.spikes_df.lap.values)\n",
    "print(f'np.unique(sess.spikes_df.lap.values): {np.unique(sess.spikes_df.lap.values)}')\n",
    "included_lap_ids = included_lap_ids[np.isin(included_lap_ids, sess.laps.lap_id)]\n",
    "print(f'included_lap_ids: {included_lap_ids}')\n",
    "# curr_cell_spike_times = active_epoch_placefields1D.ratemap_spiketrains[placefield_cell_index]  # (271,)\n",
    "# curr_cell_spike_positions = active_epoch_placefields1D.ratemap_spiketrains_pos[placefield_cell_index]  # (271,)\n",
    "\n",
    "time_variable_name = sess.spikes_df.spikes.time_variable_name # 't_rel_seconds'\n",
    "\n",
    "# sets the 'z_fixed' value for all spikes in sess.spikes_df, which will be used to plot them as points\n",
    "sess.spikes_df['z'] = 0.9 + (lap_id_dependent_z_offset * sess.spikes_df.lap.to_numpy())\n",
    "\n",
    "\n",
    "print(np.isin(['R','G','B','render_opacity'], sess.spikes_df.columns).all())\n",
    "\n",
    "# grouped by lap\n",
    "lap_grouped_spikes_df = sess.spikes_df.groupby('lap')\n",
    "lap_specific_spikes_dfs = [lap_grouped_spikes_df.get_group(i)[[time_variable_name,'aclu','lap','flat_spike_idx','cell_type','x','y','lin_pos','z']] for i in included_lap_ids] # dataframes split for each ID:\n",
    "\n",
    "# grouped by cell\n",
    "cell_grouped_spikes_df = sess.spikes_df.groupby('aclu')\n",
    "cell_specific_spikes_dfs = [cell_grouped_spikes_df.get_group(i)[[time_variable_name,'aclu','lap','flat_spike_idx','cell_type','x','y','lin_pos','z']] for i in sess.spikes_df.spikes.neuron_ids] # dataframes split for each ID:\n",
    "\n",
    "\n",
    "# lap_specific_position_dfs = _compute_laps_position_data(sess)\n",
    "\n",
    "\n",
    "# # Positions:\n",
    "# curr_position_df = sess.compute_position_laps()\n",
    "# included_pos_lap_ids = np.unique(curr_position_df.lap.values)\n",
    "# print(f'np.unique(curr_position_df.lap.values): {np.unique(curr_position_df.lap.values)}')\n",
    "# included_pos_lap_ids = included_pos_lap_ids[np.isin(included_pos_lap_ids, sess.laps.lap_id)]\n",
    "# included_pos_lap_ids\n",
    "\n",
    "# print(f'included_pos_lap_ids: {included_pos_lap_ids}')\n",
    "\n",
    "# lap_grouped_position_df = curr_position_df.groupby('lap')\n",
    "# lap_specific_position_dfs = [lap_grouped_position_df.get_group(i)[['t','aclu','x','y','lin_pos']] for i in included_lap_ids] # dataframes split for each ID:\n",
    "\n",
    "# def plot_points(p, x, y, z):\n",
    "#     z = np.full_like(x, z) # offset just slightly in the z direction to account for the thickness of the caps that are added upon extrude\n",
    "#     point_cloud = np.vstack((x, y, z)).T\n",
    "#     pdata = pv.PolyData(point_cloud)\n",
    "#     return pdata\n",
    "\n",
    "\n",
    "\n",
    "def _plot_single_spikes(p, cell_specific_spikes_dfs, placefield_cell_index):\n",
    "    curr_cell_spike_df = cell_specific_spikes_dfs[placefield_cell_index]\n",
    "    # curr_cell_spike_df['z_fixed'] = np.full_like(active_flat_df['x'].values, 1.1)\n",
    "    pdata = build_active_spikes_plot_pointdata_df(curr_cell_spike_df)\n",
    "    \n",
    "    # curr_cell_spike_times = curr_cell_spike_df[curr_cell_spike_df.spikes.time_variable_name].to_numpy()  # (271,)\n",
    "    # curr_cell_spike_positions = curr_cell_spike_df['x','y'].to_numpy()  # (271,)\n",
    "    \n",
    "    # lines_from_points(\n",
    "    # p[0,0].add_points(pdata, name='plot_single_spikes_points', render_points_as_spheres=True, point_size=5.0)\n",
    "\n",
    "    # Build offset points and spike data:\n",
    "    spike_height = (lap_id_dependent_z_offset * 0.6) # half the line height\n",
    "\n",
    "    start_points = pdata.points.copy()\n",
    "    end_points = start_points.copy()\n",
    "    # end_points[:,2] # get z values\n",
    "    end_points[:,2] = end_points[:,2] + spike_height\n",
    "    all_points = interlieve_points(start_points, end_points)\n",
    "\n",
    "    lines_poly_data = pv.PolyData()\n",
    "    lines_poly_data.points = all_points\n",
    "    # cells = np.hstack(([2, 0, 1],[2, 1, 2]))\n",
    "    num_lines = np.shape(start_points)[0]\n",
    "    cells = [[2, 2*i, 2*i+1] for i in np.arange(num_lines)]\n",
    "    lines_poly_data.lines = cells\n",
    "    p[0,0].add_points(pdata, name='plot_single_spikes_points', render_points_as_spheres=True, point_size=5.0,)\n",
    "    p[0,0].add_mesh(lines_poly_data, name='plot_single_spikes_lines', render_points_as_spheres=False, point_size=5.0)\n",
    "    return pdata\n",
    "\n",
    "pdata = _plot_single_spikes(pActiveInteractiveLapsPlotter, cell_specific_spikes_dfs, 6)\n",
    "\n",
    "\n",
    "# pdata = build_active_spikes_plot_pointdata_df(sess.spikes_df)\n",
    "# p[0,0].add_points(pdata, name='plot_single_spikes_points', render_points_as_spheres=True, point_size=5.0, color='black')\n",
    "\n",
    "# p.show()\n",
    "\n",
    "# lap_specific_spikes_dfs[2]\n",
    "\n",
    "\n",
    "\n",
    "# curr_laps_df = sess.laps.to_dataframe()\n",
    "\n",
    "# partition(sess.spikes_df, 'lap') 'maze_id'\n",
    "# draw_line_spike(p, \n",
    "\n",
    "# get_arguments_as_optional_dict(name='maze_bg', label='maze', scalars='traversal_order_scalars', render=True)\n"
   ]
  },
  {
   "cell_type": "code",
   "execution_count": 86,
   "id": "17e5881e-3e37-4d8b-b5c3-0c8837cbd1bc",
   "metadata": {},
   "outputs": [
    {
     "data": {
      "text/plain": [
       "(2312, 3)"
      ]
     },
     "execution_count": 86,
     "metadata": {},
     "output_type": "execute_result"
    }
   ],
   "source": [
    "# lines_from_points(pdata.points)\n",
    "\n",
    "\n",
    "np.shape(all_points)"
   ]
  },
  {
   "cell_type": "code",
   "execution_count": null,
   "id": "c580c6e6-38b1-4d6e-bf09-6b60842a922a",
   "metadata": {},
   "outputs": [],
   "source": []
  },
  {
   "cell_type": "code",
   "execution_count": 24,
   "id": "fd3a0d93-16ac-4240-a373-7bd9f337f6b1",
   "metadata": {},
   "outputs": [],
   "source": [
    "p, laps_pages = _plot_lap_trajectories_combined_plot_3d(curr_kdiba_pipeline.sess, curr_num_subplots=5, single_combined_plot=False)\n",
    "p.show()"
   ]
  },
  {
   "cell_type": "code",
   "execution_count": null,
   "id": "86802581-69ea-4aca-a673-e4e306d6e17b",
   "metadata": {},
   "outputs": [],
   "source": []
  }
 ],
 "metadata": {
  "kernelspec": {
   "display_name": "Python 3 (ipykernel)",
   "language": "python",
   "name": "python3"
  },
  "language_info": {
   "codemirror_mode": {
    "name": "ipython",
    "version": 3
   },
   "file_extension": ".py",
   "mimetype": "text/x-python",
   "name": "python",
   "nbconvert_exporter": "python",
   "pygments_lexer": "ipython3",
   "version": "3.9.7"
  }
 },
 "nbformat": 4,
 "nbformat_minor": 5
}
