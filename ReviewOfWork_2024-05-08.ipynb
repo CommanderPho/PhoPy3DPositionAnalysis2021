{
 "cells": [
  {
   "cell_type": "code",
   "execution_count": 1,
   "id": "initial_id",
   "metadata": {
    "ExecuteTime": {
     "end_time": "2023-11-16T23:21:20.608442900Z",
     "start_time": "2023-11-16T23:21:20.217442100Z"
    },
    "collapsed": true,
    "notebookRunGroups": {
     "groupValue": "1"
    }
   },
   "outputs": [
    {
     "name": "stdout",
     "output_type": "stream",
     "text": [
      "Automatic pdb calling has been turned OFF\n",
      "doc_output_parent_folder: C:\\Users\\pho\\repos\\Spike3DWorkEnv\\Spike3D\\EXTERNAL\\DEVELOPER_NOTES\\DataStructureDocumentation\n",
      "DAY_DATE_STR: 2024-05-08, DAY_DATE_TO_USE: 2024-05-08\n",
      "NOW_DATETIME: 2024-05-08_1207PM, NOW_DATETIME_TO_USE: 2024-05-08_1207PM\n",
      "global_data_root_parent_path changed to W:\\Data\n"
     ]
    },
    {
     "data": {
      "application/vnd.jupyter.widget-view+json": {
       "model_id": "0f222c857e524dc4812cf2bfc6d80756",
       "version_major": 2,
       "version_minor": 0
      },
      "text/plain": [
       "ToggleButtons(description='Data Root:', layout=Layout(width='auto'), options=(WindowsPath('W:/Data'),), style=ToggleButtonsStyle(button_width='max-content'), tooltip='global_data_root_parent_path', value=WindowsPath('W:/Data'))"
      ]
     },
     "execution_count": 1,
     "metadata": {},
     "output_type": "execute_result"
    }
   ],
   "source": [
    "%config IPCompleter.use_jedi = False\n",
    "# %xmode Verbose\n",
    "# %xmode context\n",
    "%pdb off\n",
    "# %load_ext viztracer\n",
    "# from viztracer import VizTracer\n",
    "%load_ext autoreload\n",
    "%autoreload 3\n",
    "import sys\n",
    "from pathlib import Path\n",
    "\n",
    "# required to enable non-blocking interaction:\n",
    "%gui qt5\n",
    "\n",
    "from copy import deepcopy\n",
    "from numba import jit\n",
    "import numpy as np\n",
    "import pandas as pd\n",
    "pd.options.mode.chained_assignment = None  # default='warn'\n",
    "# pd.options.mode.dtype_backend = 'pyarrow' # use new pyarrow backend instead of numpy\n",
    "from attrs import define, field, fields, Factory, make_class\n",
    "import tables as tb\n",
    "from datetime import datetime, timedelta\n",
    "\n",
    "# Pho's Formatting Preferences\n",
    "import builtins\n",
    "\n",
    "import IPython\n",
    "from IPython.core.formatters import PlainTextFormatter\n",
    "from IPython import get_ipython\n",
    "\n",
    "from pyphocorehelpers.preferences_helpers import set_pho_preferences, set_pho_preferences_concise, set_pho_preferences_verbose\n",
    "set_pho_preferences_concise()\n",
    "# Jupyter-lab enable printing for any line on its own (instead of just the last one in the cell)\n",
    "from IPython.core.interactiveshell import InteractiveShell\n",
    "InteractiveShell.ast_node_interactivity = \"all\"\n",
    "\n",
    "# BEGIN PPRINT CUSTOMIZATION ___________________________________________________________________________________________ #\n",
    "\n",
    "\n",
    "## IPython pprint\n",
    "from pyphocorehelpers.pprint import wide_pprint, wide_pprint_ipython, wide_pprint_jupyter, MAX_LINE_LENGTH\n",
    "\n",
    "# Override default pprint\n",
    "builtins.pprint = wide_pprint\n",
    "\n",
    "text_formatter: PlainTextFormatter = IPython.get_ipython().display_formatter.formatters['text/plain']\n",
    "text_formatter.max_width = MAX_LINE_LENGTH\n",
    "text_formatter.for_type(object, wide_pprint_jupyter)\n",
    "\n",
    "\n",
    "# END PPRINT CUSTOMIZATION ___________________________________________________________________________________________ #\n",
    "\n",
    "from pyphocorehelpers.print_helpers import get_now_time_str, get_now_day_str\n",
    "\n",
    "## Pho's Custom Libraries:\n",
    "from pyphocorehelpers.Filesystem.path_helpers import find_first_extant_path, file_uri_from_path\n",
    "from pyphocorehelpers.Filesystem.open_in_system_file_manager import reveal_in_system_file_manager\n",
    "import pyphocorehelpers.programming_helpers as programming_helpers\n",
    "\n",
    "# NeuroPy (Diba Lab Python Repo) Loading\n",
    "# from neuropy import core\n",
    "from typing import Dict, List, Tuple, Optional, Callable, Union, Any\n",
    "from typing_extensions import TypeAlias\n",
    "from nptyping import NDArray\n",
    "import neuropy.utils.type_aliases as types\n",
    "\n",
    "from neuropy.analyses.placefields import PlacefieldComputationParameters\n",
    "from neuropy.core.epoch import NamedTimerange, Epoch\n",
    "from neuropy.core.ratemap import Ratemap\n",
    "from neuropy.core.session.Formats.BaseDataSessionFormats import DataSessionFormatRegistryHolder\n",
    "from neuropy.core.session.Formats.Specific.KDibaOldDataSessionFormat import KDibaOldDataSessionFormatRegisteredClass\n",
    "from neuropy.utils.matplotlib_helpers import matplotlib_file_only, matplotlib_configuration, matplotlib_configuration_update\n",
    "from neuropy.core.neuron_identities import NeuronIdentityTable, neuronTypesList, neuronTypesEnum\n",
    "from neuropy.utils.mixins.AttrsClassHelpers import AttrsBasedClassHelperMixin, serialized_field, serialized_attribute_field, non_serialized_field, custom_define\n",
    "from neuropy.utils.mixins.HDF5_representable import HDF_DeserializationMixin, post_deserialize, HDF_SerializationMixin, HDFMixin, HDF_Converter\n",
    "\n",
    "## For computation parameters:\n",
    "from neuropy.analyses.placefields import PlacefieldComputationParameters\n",
    "from neuropy.utils.dynamic_container import DynamicContainer\n",
    "from neuropy.utils.result_context import IdentifyingContext\n",
    "from neuropy.core.session.Formats.BaseDataSessionFormats import find_local_session_paths\n",
    "from neuropy.core.neurons import NeuronType\n",
    "from neuropy.core.user_annotations import UserAnnotationsManager\n",
    "from neuropy.core.position import Position\n",
    "from neuropy.core.session.dataSession import DataSession\n",
    "from neuropy.analyses.time_dependent_placefields import PfND_TimeDependent, PlacefieldSnapshot\n",
    "from neuropy.utils.debug_helpers import debug_print_placefield, debug_print_subsession_neuron_differences, debug_print_ratemap, debug_print_spike_counts, debug_plot_2d_binning, print_aligned_columns, parameter_sweeps, _plot_parameter_sweep, compare_placefields_info\n",
    "from neuropy.utils.indexing_helpers import NumpyHelpers, union_of_arrays, intersection_of_arrays, find_desired_sort_indicies, paired_incremental_sorting\n",
    "from pyphocorehelpers.print_helpers import print_object_memory_usage, print_dataframe_memory_usage, print_value_overview_only, DocumentationFilePrinter, print_keys_if_possible, generate_html_string, document_active_variables\n",
    "\n",
    "## Pho Programming Helpers:\n",
    "import inspect\n",
    "from pyphocorehelpers.print_helpers import DocumentationFilePrinter, TypePrintMode, print_keys_if_possible, debug_dump_object_member_shapes, print_value_overview_only, document_active_variables\n",
    "from pyphocorehelpers.programming_helpers import IPythonHelpers, PythonDictionaryDefinitionFormat, MemoryManagement, inspect_callable_arguments, get_arguments_as_optional_dict, GeneratedClassDefinitionType, CodeConversion\n",
    "from pyphocorehelpers.gui.Qt.TopLevelWindowHelper import TopLevelWindowHelper, print_widget_hierarchy\n",
    "from pyphocorehelpers.indexing_helpers import reorder_columns, reorder_columns_relative, dict_to_full_array\n",
    "doc_output_parent_folder: Path = Path('EXTERNAL/DEVELOPER_NOTES/DataStructureDocumentation').resolve() # ../.\n",
    "print(f\"doc_output_parent_folder: {doc_output_parent_folder}\")\n",
    "assert doc_output_parent_folder.exists()\n",
    "\n",
    "# pyPhoPlaceCellAnalysis:\n",
    "from pyphoplacecellanalysis.General.Pipeline.NeuropyPipeline import NeuropyPipeline # get_neuron_identities\n",
    "from pyphoplacecellanalysis.General.Mixins.ExportHelpers import export_pyqtgraph_plot\n",
    "from pyphoplacecellanalysis.General.Batch.NonInteractiveProcessing import batch_load_session, batch_extended_computations, batch_evaluate_required_computations, batch_extended_programmatic_figures\n",
    "from pyphoplacecellanalysis.General.Pipeline.NeuropyPipeline import PipelineSavingScheme\n",
    "\n",
    "import pyphoplacecellanalysis.External.pyqtgraph as pg\n",
    "\n",
    "from pyphocorehelpers.exception_helpers import ExceptionPrintingContext, CapturedException\n",
    "from pyphoplacecellanalysis.General.Batch.NonInteractiveProcessing import batch_perform_all_plots\n",
    "from pyphoplacecellanalysis.General.Pipeline.Stages.ComputationFunctions.MultiContextComputationFunctions.LongShortTrackComputations import JonathanFiringRateAnalysisResult\n",
    "from pyphoplacecellanalysis.General.Mixins.CrossComputationComparisonHelpers import _find_any_context_neurons\n",
    "from pyphoplacecellanalysis.General.Batch.runBatch import BatchSessionCompletionHandler # for `post_compute_validate(...)`\n",
    "from pyphoplacecellanalysis.Analysis.Decoder.reconstruction import BasePositionDecoder\n",
    "from pyphoplacecellanalysis.SpecificResults.AcrossSessionResults import AcrossSessionsResults\n",
    "from pyphoplacecellanalysis.General.Pipeline.Stages.ComputationFunctions.SpikeAnalysis import SpikeRateTrends # for `_perform_long_short_instantaneous_spike_rate_groups_analysis`\n",
    "from pyphoplacecellanalysis.General.Pipeline.Stages.ComputationFunctions.MultiContextComputationFunctions.LongShortTrackComputations import SingleBarResult, InstantaneousSpikeRateGroupsComputation, TruncationCheckingResults # for `BatchSessionCompletionHandler`, `AcrossSessionsAggregator`\n",
    "from pyphoplacecellanalysis.General.Mixins.CrossComputationComparisonHelpers import SplitPartitionMembership\n",
    "from pyphoplacecellanalysis.General.Pipeline.Stages.ComputationFunctions.MultiContextComputationFunctions.DirectionalPlacefieldGlobalComputationFunctions import DirectionalPlacefieldGlobalComputationFunctions, DirectionalLapsResult, TrackTemplates, DecoderDecodedEpochsResult\n",
    "from pyphoplacecellanalysis.General.Pipeline.Stages.ComputationFunctions.MultiContextComputationFunctions.RankOrderComputations import RankOrderGlobalComputationFunctions,  RankOrderComputationsContainer, RankOrderResult, RankOrderAnalyses\n",
    "from pyphoplacecellanalysis.General.Pipeline.Stages.ComputationFunctions.MultiContextComputationFunctions.DirectionalPlacefieldGlobalComputationFunctions import TrackTemplates\n",
    "from pyphoplacecellanalysis.General.Pipeline.Stages.ComputationFunctions.ComputationFunctionRegistryHolder import ComputationFunctionRegistryHolder, computation_precidence_specifying_function, global_function\n",
    "\n",
    "\n",
    "# Plotting\n",
    "# import pylustrator # customization of figures\n",
    "import matplotlib\n",
    "import matplotlib as mpl\n",
    "import matplotlib.pyplot as plt\n",
    "_bak_rcParams = mpl.rcParams.copy()\n",
    "\n",
    "matplotlib.use('Qt5Agg')\n",
    "# %matplotlib inline\n",
    "# %matplotlib auto\n",
    "\n",
    "# _restore_previous_matplotlib_settings_callback = matplotlib_configuration_update(is_interactive=True, backend='Qt5Agg')\n",
    "_restore_previous_matplotlib_settings_callback = matplotlib_configuration_update(is_interactive=True, backend='Qt5Agg')\n",
    "\n",
    "# import pylustrator # call `pylustrator.start()` before creating your first figure in code.\n",
    "from pyphoplacecellanalysis.Pho2D.matplotlib.visualize_heatmap import visualize_heatmap\n",
    "from pyphoplacecellanalysis.Pho2D.matplotlib.visualize_heatmap import visualize_heatmap_pyqtgraph # used in `plot_kourosh_activity_style_figure`\n",
    "from pyphoplacecellanalysis.General.Pipeline.Stages.DisplayFunctions.SpikeRasters import plot_multiple_raster_plot, plot_raster_plot\n",
    "from pyphoplacecellanalysis.General.Mixins.DataSeriesColorHelpers import UnitColoringMode, DataSeriesColorHelpers\n",
    "from pyphoplacecellanalysis.General.Pipeline.Stages.DisplayFunctions.SpikeRasters import _build_default_tick, build_scatter_plot_kwargs\n",
    "from pyphoplacecellanalysis.GUI.PyQtPlot.Widgets.Mixins.Render2DScrollWindowPlot import Render2DScrollWindowPlotMixin, ScatterItemData\n",
    "from pyphoplacecellanalysis.General.Batch.NonInteractiveProcessing import batch_extended_programmatic_figures, batch_programmatic_figures\n",
    "from pyphoplacecellanalysis.General.Pipeline.Stages.ComputationFunctions.SpikeAnalysis import SpikeRateTrends\n",
    "from pyphoplacecellanalysis.General.Mixins.SpikesRenderingBaseMixin import SpikeEmphasisState\n",
    "\n",
    "from pyphoplacecellanalysis.SpecificResults.PhoDiba2023Paper import PAPER_FIGURE_figure_1_add_replay_epoch_rasters, PAPER_FIGURE_figure_1_full, PAPER_FIGURE_figure_3, main_complete_figure_generations\n",
    "# from pyphoplacecellanalysis.SpecificResults.fourthYearPresentation import *\n",
    "\n",
    "# Jupyter Widget Interactive\n",
    "import ipywidgets as widgets\n",
    "from IPython.display import display, HTML\n",
    "from pyphocorehelpers.Filesystem.open_in_system_file_manager import reveal_in_system_file_manager\n",
    "from pyphoplacecellanalysis.GUI.IPyWidgets.pipeline_ipywidgets import interactive_pipeline_widget, interactive_pipeline_files\n",
    "from pyphocorehelpers.gui.Jupyter.simple_widgets import fullwidth_path_widget, render_colors\n",
    "\n",
    "from datetime import datetime, date, timedelta\n",
    "from pyphocorehelpers.print_helpers import get_now_day_str, get_now_rounded_time_str\n",
    "\n",
    "DAY_DATE_STR: str = date.today().strftime(\"%Y-%m-%d\")\n",
    "DAY_DATE_TO_USE = f'{DAY_DATE_STR}' # used for filenames throught the notebook\n",
    "print(f'DAY_DATE_STR: {DAY_DATE_STR}, DAY_DATE_TO_USE: {DAY_DATE_TO_USE}')\n",
    "\n",
    "NOW_DATETIME: str = get_now_rounded_time_str()\n",
    "NOW_DATETIME_TO_USE = f'{NOW_DATETIME}' # used for filenames throught the notebook\n",
    "print(f'NOW_DATETIME: {NOW_DATETIME}, NOW_DATETIME_TO_USE: {NOW_DATETIME_TO_USE}')\n",
    "\n",
    "from pyphocorehelpers.gui.Jupyter.simple_widgets import build_global_data_root_parent_path_selection_widget\n",
    "all_paths = [Path('/Volumes/SwapSSD/Data'), Path('/Users/pho/data'), Path(r'/Users/pho/cloud/turbo/Data'), Path(r'/media/halechr/MAX/Data'), Path(r'/home/halechr/FastData'), Path(r'W:\\Data'), Path(r'/home/halechr/cloud/turbo/Data'), Path(r'/Volumes/MoverNew/data'), Path(r'/home/halechr/turbo/Data')] # Path('/Volumes/FedoraSSD/FastData'), \n",
    "global_data_root_parent_path = None\n",
    "def on_user_update_path_selection(new_path: Path):\n",
    "\tglobal global_data_root_parent_path\n",
    "\tnew_global_data_root_parent_path = new_path.resolve()\n",
    "\tglobal_data_root_parent_path = new_global_data_root_parent_path\n",
    "\tprint(f'global_data_root_parent_path changed to {global_data_root_parent_path}')\n",
    "\tassert global_data_root_parent_path.exists(), f\"global_data_root_parent_path: {global_data_root_parent_path} does not exist! Is the right computer's config commented out above?\"\n",
    "\t\t\t\n",
    "global_data_root_parent_path_widget = build_global_data_root_parent_path_selection_widget(all_paths, on_user_update_path_selection)\n",
    "global_data_root_parent_path_widget"
   ]
  },
  {
   "cell_type": "markdown",
   "id": "30db844b",
   "metadata": {},
   "source": [
    "# Load Pipeline"
   ]
  },
  {
   "cell_type": "code",
   "execution_count": 2,
   "id": "7f07773d",
   "metadata": {
    "notebookRunGroups": {
     "groupValue": "1"
    }
   },
   "outputs": [
    {
     "name": "stdout",
     "output_type": "stream",
     "text": [
      "basedir: W:\\Data\\KDIBA\\gor01\\one\\2006-6-09_1-22-43\n",
      "Loading loaded session pickle file results : W:\\Data\\KDIBA\\gor01\\one\\2006-6-09_1-22-43\\loadedSessPickle.pkl... "
     ]
    },
    {
     "name": "stderr",
     "output_type": "stream",
     "text": [
      "INFO:2024-05-08_12-05-24.Apogee.pipeline.kdiba.gor01.one.2006-6-09_1-22-43:==========================================================================================\n",
      "========== Logger INIT \"2024-05-08_12-05-24.Apogee.pipeline.kdiba.gor01.one.2006-6-09_1-22-43\" ==============================\n",
      "INFO:2024-05-08_12-05-24.Apogee.pipeline.kdiba.gor01.one.2006-6-09_1-22-43:NeuropyPipeline.__setstate__(state=\"{'pipeline_name': 'kdiba_pipeline', 'session_data_type': 'kdiba', '_stage': <pyphoplacecellanalysis.General.Pipeline.Stages.Display.DisplayPipelineStage object at 0x000001C3B282F0D0>}\")\n"
     ]
    },
    {
     "name": "stdout",
     "output_type": "stream",
     "text": [
      "build_logger(full_logger_string=\"2024-05-08_12-05-24.Apogee.pipeline.kdiba.gor01.one.2006-6-09_1-22-43\", file_logging_dir: None):\n",
      "done.\n",
      "Loading pickled pipeline success: W:\\Data\\KDIBA\\gor01\\one\\2006-6-09_1-22-43\\loadedSessPickle.pkl.\n",
      "properties already present in pickled version. No need to save.\n",
      "pipeline load success!\n"
     ]
    },
    {
     "name": "stderr",
     "output_type": "stream",
     "text": [
      "INFO:2024-05-08_12-05-24.Apogee.pipeline.kdiba.gor01.one.2006-6-09_1-22-43:select_filters(...) with: []\n",
      "INFO:2024-05-08_12-05-24.Apogee.pipeline.kdiba.gor01.one.2006-6-09_1-22-43:Performing perform_action_for_all_contexts with action EvaluationActions.EVALUATE_COMPUTATIONS on filtered_session with filter named \"maze1_odd\"...\n",
      "INFO:2024-05-08_12-05-24.Apogee.pipeline.kdiba.gor01.one.2006-6-09_1-22-43:WARNING: skipping computation because overwrite_extant_results=False and active_computation_results[maze1_odd] already exists and is non-None\n",
      "INFO:2024-05-08_12-05-24.Apogee.pipeline.kdiba.gor01.one.2006-6-09_1-22-43:\t TODO: this will prevent recomputation even when the excludelist/includelist or computation function definitions change. Rework so that this is smarter.\n",
      "INFO:2024-05-08_12-05-24.Apogee.pipeline.kdiba.gor01.one.2006-6-09_1-22-43:Performing perform_action_for_all_contexts with action EvaluationActions.EVALUATE_COMPUTATIONS on filtered_session with filter named \"maze2_odd\"...\n",
      "INFO:2024-05-08_12-05-24.Apogee.pipeline.kdiba.gor01.one.2006-6-09_1-22-43:WARNING: skipping computation because overwrite_extant_results=False and active_computation_results[maze2_odd] already exists and is non-None\n",
      "INFO:2024-05-08_12-05-24.Apogee.pipeline.kdiba.gor01.one.2006-6-09_1-22-43:\t TODO: this will prevent recomputation even when the excludelist/includelist or computation function definitions change. Rework so that this is smarter.\n",
      "INFO:2024-05-08_12-05-24.Apogee.pipeline.kdiba.gor01.one.2006-6-09_1-22-43:Performing perform_action_for_all_contexts with action EvaluationActions.EVALUATE_COMPUTATIONS on filtered_session with filter named \"maze_odd\"...\n",
      "INFO:2024-05-08_12-05-24.Apogee.pipeline.kdiba.gor01.one.2006-6-09_1-22-43:WARNING: skipping computation because overwrite_extant_results=False and active_computation_results[maze_odd] already exists and is non-None\n",
      "INFO:2024-05-08_12-05-24.Apogee.pipeline.kdiba.gor01.one.2006-6-09_1-22-43:\t TODO: this will prevent recomputation even when the excludelist/includelist or computation function definitions change. Rework so that this is smarter.\n",
      "INFO:2024-05-08_12-05-24.Apogee.pipeline.kdiba.gor01.one.2006-6-09_1-22-43:Performing perform_action_for_all_contexts with action EvaluationActions.EVALUATE_COMPUTATIONS on filtered_session with filter named \"maze1_even\"...\n",
      "INFO:2024-05-08_12-05-24.Apogee.pipeline.kdiba.gor01.one.2006-6-09_1-22-43:WARNING: skipping computation because overwrite_extant_results=False and active_computation_results[maze1_even] already exists and is non-None\n",
      "INFO:2024-05-08_12-05-24.Apogee.pipeline.kdiba.gor01.one.2006-6-09_1-22-43:\t TODO: this will prevent recomputation even when the excludelist/includelist or computation function definitions change. Rework so that this is smarter.\n",
      "INFO:2024-05-08_12-05-24.Apogee.pipeline.kdiba.gor01.one.2006-6-09_1-22-43:Performing perform_action_for_all_contexts with action EvaluationActions.EVALUATE_COMPUTATIONS on filtered_session with filter named \"maze2_even\"...\n",
      "INFO:2024-05-08_12-05-24.Apogee.pipeline.kdiba.gor01.one.2006-6-09_1-22-43:WARNING: skipping computation because overwrite_extant_results=False and active_computation_results[maze2_even] already exists and is non-None\n",
      "INFO:2024-05-08_12-05-24.Apogee.pipeline.kdiba.gor01.one.2006-6-09_1-22-43:\t TODO: this will prevent recomputation even when the excludelist/includelist or computation function definitions change. Rework so that this is smarter.\n",
      "INFO:2024-05-08_12-05-24.Apogee.pipeline.kdiba.gor01.one.2006-6-09_1-22-43:Performing perform_action_for_all_contexts with action EvaluationActions.EVALUATE_COMPUTATIONS on filtered_session with filter named \"maze_even\"...\n",
      "INFO:2024-05-08_12-05-24.Apogee.pipeline.kdiba.gor01.one.2006-6-09_1-22-43:WARNING: skipping computation because overwrite_extant_results=False and active_computation_results[maze_even] already exists and is non-None\n",
      "INFO:2024-05-08_12-05-24.Apogee.pipeline.kdiba.gor01.one.2006-6-09_1-22-43:\t TODO: this will prevent recomputation even when the excludelist/includelist or computation function definitions change. Rework so that this is smarter.\n",
      "INFO:2024-05-08_12-05-24.Apogee.pipeline.kdiba.gor01.one.2006-6-09_1-22-43:Performing perform_action_for_all_contexts with action EvaluationActions.EVALUATE_COMPUTATIONS on filtered_session with filter named \"maze1_any\"...\n",
      "INFO:2024-05-08_12-05-24.Apogee.pipeline.kdiba.gor01.one.2006-6-09_1-22-43:WARNING: skipping computation because overwrite_extant_results=False and active_computation_results[maze1_any] already exists and is non-None\n",
      "INFO:2024-05-08_12-05-24.Apogee.pipeline.kdiba.gor01.one.2006-6-09_1-22-43:\t TODO: this will prevent recomputation even when the excludelist/includelist or computation function definitions change. Rework so that this is smarter.\n",
      "INFO:2024-05-08_12-05-24.Apogee.pipeline.kdiba.gor01.one.2006-6-09_1-22-43:Performing perform_action_for_all_contexts with action EvaluationActions.EVALUATE_COMPUTATIONS on filtered_session with filter named \"maze2_any\"...\n",
      "INFO:2024-05-08_12-05-24.Apogee.pipeline.kdiba.gor01.one.2006-6-09_1-22-43:WARNING: skipping computation because overwrite_extant_results=False and active_computation_results[maze2_any] already exists and is non-None\n",
      "INFO:2024-05-08_12-05-24.Apogee.pipeline.kdiba.gor01.one.2006-6-09_1-22-43:\t TODO: this will prevent recomputation even when the excludelist/includelist or computation function definitions change. Rework so that this is smarter.\n",
      "INFO:2024-05-08_12-05-24.Apogee.pipeline.kdiba.gor01.one.2006-6-09_1-22-43:Performing perform_action_for_all_contexts with action EvaluationActions.EVALUATE_COMPUTATIONS on filtered_session with filter named \"maze_any\"...\n",
      "INFO:2024-05-08_12-05-24.Apogee.pipeline.kdiba.gor01.one.2006-6-09_1-22-43:WARNING: skipping computation because overwrite_extant_results=False and active_computation_results[maze_any] already exists and is non-None\n",
      "INFO:2024-05-08_12-05-24.Apogee.pipeline.kdiba.gor01.one.2006-6-09_1-22-43:\t TODO: this will prevent recomputation even when the excludelist/includelist or computation function definitions change. Rework so that this is smarter.\n",
      "INFO:2024-05-08_12-05-24.Apogee.pipeline.kdiba.gor01.one.2006-6-09_1-22-43:Performing global computations...\n",
      "INFO:2024-05-08_12-05-24.Apogee.pipeline.kdiba.gor01.one.2006-6-09_1-22-43:select_filters(...) with: []\n",
      "INFO:2024-05-08_12-05-24.Apogee.pipeline.kdiba.gor01.one.2006-6-09_1-22-43:Performing perform_action_for_all_contexts with action EvaluationActions.EVALUATE_COMPUTATIONS on filtered_session with filter named \"maze1_odd\"...\n",
      "INFO:2024-05-08_12-05-24.Apogee.pipeline.kdiba.gor01.one.2006-6-09_1-22-43:WARNING: skipping computation because overwrite_extant_results=False and active_computation_results[maze1_odd] already exists and is non-None\n",
      "INFO:2024-05-08_12-05-24.Apogee.pipeline.kdiba.gor01.one.2006-6-09_1-22-43:\t TODO: this will prevent recomputation even when the excludelist/includelist or computation function definitions change. Rework so that this is smarter.\n",
      "INFO:2024-05-08_12-05-24.Apogee.pipeline.kdiba.gor01.one.2006-6-09_1-22-43:Performing perform_action_for_all_contexts with action EvaluationActions.EVALUATE_COMPUTATIONS on filtered_session with filter named \"maze2_odd\"...\n",
      "INFO:2024-05-08_12-05-24.Apogee.pipeline.kdiba.gor01.one.2006-6-09_1-22-43:WARNING: skipping computation because overwrite_extant_results=False and active_computation_results[maze2_odd] already exists and is non-None\n",
      "INFO:2024-05-08_12-05-24.Apogee.pipeline.kdiba.gor01.one.2006-6-09_1-22-43:\t TODO: this will prevent recomputation even when the excludelist/includelist or computation function definitions change. Rework so that this is smarter.\n",
      "INFO:2024-05-08_12-05-24.Apogee.pipeline.kdiba.gor01.one.2006-6-09_1-22-43:Performing perform_action_for_all_contexts with action EvaluationActions.EVALUATE_COMPUTATIONS on filtered_session with filter named \"maze_odd\"...\n",
      "INFO:2024-05-08_12-05-24.Apogee.pipeline.kdiba.gor01.one.2006-6-09_1-22-43:WARNING: skipping computation because overwrite_extant_results=False and active_computation_results[maze_odd] already exists and is non-None\n",
      "INFO:2024-05-08_12-05-24.Apogee.pipeline.kdiba.gor01.one.2006-6-09_1-22-43:\t TODO: this will prevent recomputation even when the excludelist/includelist or computation function definitions change. Rework so that this is smarter.\n",
      "INFO:2024-05-08_12-05-24.Apogee.pipeline.kdiba.gor01.one.2006-6-09_1-22-43:Performing perform_action_for_all_contexts with action EvaluationActions.EVALUATE_COMPUTATIONS on filtered_session with filter named \"maze1_even\"...\n",
      "INFO:2024-05-08_12-05-24.Apogee.pipeline.kdiba.gor01.one.2006-6-09_1-22-43:WARNING: skipping computation because overwrite_extant_results=False and active_computation_results[maze1_even] already exists and is non-None\n",
      "INFO:2024-05-08_12-05-24.Apogee.pipeline.kdiba.gor01.one.2006-6-09_1-22-43:\t TODO: this will prevent recomputation even when the excludelist/includelist or computation function definitions change. Rework so that this is smarter.\n",
      "INFO:2024-05-08_12-05-24.Apogee.pipeline.kdiba.gor01.one.2006-6-09_1-22-43:Performing perform_action_for_all_contexts with action EvaluationActions.EVALUATE_COMPUTATIONS on filtered_session with filter named \"maze2_even\"...\n",
      "INFO:2024-05-08_12-05-24.Apogee.pipeline.kdiba.gor01.one.2006-6-09_1-22-43:WARNING: skipping computation because overwrite_extant_results=False and active_computation_results[maze2_even] already exists and is non-None\n",
      "INFO:2024-05-08_12-05-24.Apogee.pipeline.kdiba.gor01.one.2006-6-09_1-22-43:\t TODO: this will prevent recomputation even when the excludelist/includelist or computation function definitions change. Rework so that this is smarter.\n",
      "INFO:2024-05-08_12-05-24.Apogee.pipeline.kdiba.gor01.one.2006-6-09_1-22-43:Performing perform_action_for_all_contexts with action EvaluationActions.EVALUATE_COMPUTATIONS on filtered_session with filter named \"maze_even\"...\n",
      "INFO:2024-05-08_12-05-24.Apogee.pipeline.kdiba.gor01.one.2006-6-09_1-22-43:WARNING: skipping computation because overwrite_extant_results=False and active_computation_results[maze_even] already exists and is non-None\n",
      "INFO:2024-05-08_12-05-24.Apogee.pipeline.kdiba.gor01.one.2006-6-09_1-22-43:\t TODO: this will prevent recomputation even when the excludelist/includelist or computation function definitions change. Rework so that this is smarter.\n",
      "INFO:2024-05-08_12-05-24.Apogee.pipeline.kdiba.gor01.one.2006-6-09_1-22-43:Performing perform_action_for_all_contexts with action EvaluationActions.EVALUATE_COMPUTATIONS on filtered_session with filter named \"maze1_any\"...\n",
      "INFO:2024-05-08_12-05-24.Apogee.pipeline.kdiba.gor01.one.2006-6-09_1-22-43:WARNING: skipping computation because overwrite_extant_results=False and active_computation_results[maze1_any] already exists and is non-None\n",
      "INFO:2024-05-08_12-05-24.Apogee.pipeline.kdiba.gor01.one.2006-6-09_1-22-43:\t TODO: this will prevent recomputation even when the excludelist/includelist or computation function definitions change. Rework so that this is smarter.\n",
      "INFO:2024-05-08_12-05-24.Apogee.pipeline.kdiba.gor01.one.2006-6-09_1-22-43:Performing perform_action_for_all_contexts with action EvaluationActions.EVALUATE_COMPUTATIONS on filtered_session with filter named \"maze2_any\"...\n",
      "INFO:2024-05-08_12-05-24.Apogee.pipeline.kdiba.gor01.one.2006-6-09_1-22-43:WARNING: skipping computation because overwrite_extant_results=False and active_computation_results[maze2_any] already exists and is non-None\n",
      "INFO:2024-05-08_12-05-24.Apogee.pipeline.kdiba.gor01.one.2006-6-09_1-22-43:\t TODO: this will prevent recomputation even when the excludelist/includelist or computation function definitions change. Rework so that this is smarter.\n",
      "INFO:2024-05-08_12-05-24.Apogee.pipeline.kdiba.gor01.one.2006-6-09_1-22-43:Performing perform_action_for_all_contexts with action EvaluationActions.EVALUATE_COMPUTATIONS on filtered_session with filter named \"maze_any\"...\n",
      "INFO:2024-05-08_12-05-24.Apogee.pipeline.kdiba.gor01.one.2006-6-09_1-22-43:WARNING: skipping computation because overwrite_extant_results=False and active_computation_results[maze_any] already exists and is non-None\n",
      "INFO:2024-05-08_12-05-24.Apogee.pipeline.kdiba.gor01.one.2006-6-09_1-22-43:\t TODO: this will prevent recomputation even when the excludelist/includelist or computation function definitions change. Rework so that this is smarter.\n",
      "INFO:2024-05-08_12-05-24.Apogee.pipeline.kdiba.gor01.one.2006-6-09_1-22-43:Performing global computations...\n",
      "INFO:2024-05-08_12-05-24.Apogee.pipeline.kdiba.gor01.one.2006-6-09_1-22-43:select_filters(...) with: []\n",
      "INFO:2024-05-08_12-05-24.Apogee.pipeline.kdiba.gor01.one.2006-6-09_1-22-43:Performing perform_action_for_all_contexts with action EvaluationActions.EVALUATE_COMPUTATIONS on filtered_session with filter named \"maze1_odd\"...\n",
      "INFO:2024-05-08_12-05-24.Apogee.pipeline.kdiba.gor01.one.2006-6-09_1-22-43:WARNING: skipping computation because overwrite_extant_results=False and active_computation_results[maze1_odd] already exists and is non-None\n",
      "INFO:2024-05-08_12-05-24.Apogee.pipeline.kdiba.gor01.one.2006-6-09_1-22-43:\t TODO: this will prevent recomputation even when the excludelist/includelist or computation function definitions change. Rework so that this is smarter.\n",
      "INFO:2024-05-08_12-05-24.Apogee.pipeline.kdiba.gor01.one.2006-6-09_1-22-43:Performing perform_action_for_all_contexts with action EvaluationActions.EVALUATE_COMPUTATIONS on filtered_session with filter named \"maze2_odd\"...\n",
      "INFO:2024-05-08_12-05-24.Apogee.pipeline.kdiba.gor01.one.2006-6-09_1-22-43:WARNING: skipping computation because overwrite_extant_results=False and active_computation_results[maze2_odd] already exists and is non-None\n",
      "INFO:2024-05-08_12-05-24.Apogee.pipeline.kdiba.gor01.one.2006-6-09_1-22-43:\t TODO: this will prevent recomputation even when the excludelist/includelist or computation function definitions change. Rework so that this is smarter.\n",
      "INFO:2024-05-08_12-05-24.Apogee.pipeline.kdiba.gor01.one.2006-6-09_1-22-43:Performing perform_action_for_all_contexts with action EvaluationActions.EVALUATE_COMPUTATIONS on filtered_session with filter named \"maze_odd\"...\n",
      "INFO:2024-05-08_12-05-24.Apogee.pipeline.kdiba.gor01.one.2006-6-09_1-22-43:WARNING: skipping computation because overwrite_extant_results=False and active_computation_results[maze_odd] already exists and is non-None\n",
      "INFO:2024-05-08_12-05-24.Apogee.pipeline.kdiba.gor01.one.2006-6-09_1-22-43:\t TODO: this will prevent recomputation even when the excludelist/includelist or computation function definitions change. Rework so that this is smarter.\n",
      "INFO:2024-05-08_12-05-24.Apogee.pipeline.kdiba.gor01.one.2006-6-09_1-22-43:Performing perform_action_for_all_contexts with action EvaluationActions.EVALUATE_COMPUTATIONS on filtered_session with filter named \"maze1_even\"...\n",
      "INFO:2024-05-08_12-05-24.Apogee.pipeline.kdiba.gor01.one.2006-6-09_1-22-43:WARNING: skipping computation because overwrite_extant_results=False and active_computation_results[maze1_even] already exists and is non-None\n",
      "INFO:2024-05-08_12-05-24.Apogee.pipeline.kdiba.gor01.one.2006-6-09_1-22-43:\t TODO: this will prevent recomputation even when the excludelist/includelist or computation function definitions change. Rework so that this is smarter.\n",
      "INFO:2024-05-08_12-05-24.Apogee.pipeline.kdiba.gor01.one.2006-6-09_1-22-43:Performing perform_action_for_all_contexts with action EvaluationActions.EVALUATE_COMPUTATIONS on filtered_session with filter named \"maze2_even\"...\n",
      "INFO:2024-05-08_12-05-24.Apogee.pipeline.kdiba.gor01.one.2006-6-09_1-22-43:WARNING: skipping computation because overwrite_extant_results=False and active_computation_results[maze2_even] already exists and is non-None\n",
      "INFO:2024-05-08_12-05-24.Apogee.pipeline.kdiba.gor01.one.2006-6-09_1-22-43:\t TODO: this will prevent recomputation even when the excludelist/includelist or computation function definitions change. Rework so that this is smarter.\n",
      "INFO:2024-05-08_12-05-24.Apogee.pipeline.kdiba.gor01.one.2006-6-09_1-22-43:Performing perform_action_for_all_contexts with action EvaluationActions.EVALUATE_COMPUTATIONS on filtered_session with filter named \"maze_even\"...\n",
      "INFO:2024-05-08_12-05-24.Apogee.pipeline.kdiba.gor01.one.2006-6-09_1-22-43:WARNING: skipping computation because overwrite_extant_results=False and active_computation_results[maze_even] already exists and is non-None\n",
      "INFO:2024-05-08_12-05-24.Apogee.pipeline.kdiba.gor01.one.2006-6-09_1-22-43:\t TODO: this will prevent recomputation even when the excludelist/includelist or computation function definitions change. Rework so that this is smarter.\n",
      "INFO:2024-05-08_12-05-24.Apogee.pipeline.kdiba.gor01.one.2006-6-09_1-22-43:Performing perform_action_for_all_contexts with action EvaluationActions.EVALUATE_COMPUTATIONS on filtered_session with filter named \"maze1_any\"...\n",
      "INFO:2024-05-08_12-05-24.Apogee.pipeline.kdiba.gor01.one.2006-6-09_1-22-43:WARNING: skipping computation because overwrite_extant_results=False and active_computation_results[maze1_any] already exists and is non-None\n",
      "INFO:2024-05-08_12-05-24.Apogee.pipeline.kdiba.gor01.one.2006-6-09_1-22-43:\t TODO: this will prevent recomputation even when the excludelist/includelist or computation function definitions change. Rework so that this is smarter.\n",
      "INFO:2024-05-08_12-05-24.Apogee.pipeline.kdiba.gor01.one.2006-6-09_1-22-43:Performing perform_action_for_all_contexts with action EvaluationActions.EVALUATE_COMPUTATIONS on filtered_session with filter named \"maze2_any\"...\n",
      "INFO:2024-05-08_12-05-24.Apogee.pipeline.kdiba.gor01.one.2006-6-09_1-22-43:WARNING: skipping computation because overwrite_extant_results=False and active_computation_results[maze2_any] already exists and is non-None\n",
      "INFO:2024-05-08_12-05-24.Apogee.pipeline.kdiba.gor01.one.2006-6-09_1-22-43:\t TODO: this will prevent recomputation even when the excludelist/includelist or computation function definitions change. Rework so that this is smarter.\n",
      "INFO:2024-05-08_12-05-24.Apogee.pipeline.kdiba.gor01.one.2006-6-09_1-22-43:Performing perform_action_for_all_contexts with action EvaluationActions.EVALUATE_COMPUTATIONS on filtered_session with filter named \"maze_any\"...\n",
      "INFO:2024-05-08_12-05-24.Apogee.pipeline.kdiba.gor01.one.2006-6-09_1-22-43:WARNING: skipping computation because overwrite_extant_results=False and active_computation_results[maze_any] already exists and is non-None\n",
      "INFO:2024-05-08_12-05-24.Apogee.pipeline.kdiba.gor01.one.2006-6-09_1-22-43:\t TODO: this will prevent recomputation even when the excludelist/includelist or computation function definitions change. Rework so that this is smarter.\n",
      "INFO:2024-05-08_12-05-24.Apogee.pipeline.kdiba.gor01.one.2006-6-09_1-22-43:Performing global computations...\n",
      "INFO:2024-05-08_12-05-24.Apogee.pipeline.kdiba.gor01.one.2006-6-09_1-22-43:NeuropyPipeline.on_stage_changed(new_stage=\"PipelineStage.Displayed\")\n",
      "WARNING:2024-05-08_12-05-24.Apogee.pipeline.kdiba.gor01.one.2006-6-09_1-22-43:WARNING: saving_mode is SKIP_SAVING so pipeline will not be saved despite calling .save_pipeline(...).\n"
     ]
    },
    {
     "name": "stdout",
     "output_type": "stream",
     "text": [
      "using provided computation_functions_name_includelist: ['lap_direction_determination', 'pf_computation', 'firing_rate_trends', 'position_decoding']\n",
      "WARNING: skipping computation because overwrite_extant_results=False and active_computation_results[maze1_odd] already exists and is non-None\n",
      "\t TODO: this will prevent recomputation even when the excludelist/includelist or computation function definitions change. Rework so that this is smarter.\n",
      "WARNING: skipping computation because overwrite_extant_results=False and active_computation_results[maze2_odd] already exists and is non-None\n",
      "\t TODO: this will prevent recomputation even when the excludelist/includelist or computation function definitions change. Rework so that this is smarter.\n",
      "WARNING: skipping computation because overwrite_extant_results=False and active_computation_results[maze_odd] already exists and is non-None\n",
      "\t TODO: this will prevent recomputation even when the excludelist/includelist or computation function definitions change. Rework so that this is smarter.\n",
      "WARNING: skipping computation because overwrite_extant_results=False and active_computation_results[maze1_even] already exists and is non-None\n",
      "\t TODO: this will prevent recomputation even when the excludelist/includelist or computation function definitions change. Rework so that this is smarter.\n",
      "WARNING: skipping computation because overwrite_extant_results=False and active_computation_results[maze2_even] already exists and is non-None\n",
      "\t TODO: this will prevent recomputation even when the excludelist/includelist or computation function definitions change. Rework so that this is smarter.\n",
      "WARNING: skipping computation because overwrite_extant_results=False and active_computation_results[maze_even] already exists and is non-None\n",
      "\t TODO: this will prevent recomputation even when the excludelist/includelist or computation function definitions change. Rework so that this is smarter.\n",
      "WARNING: skipping computation because overwrite_extant_results=False and active_computation_results[maze1_any] already exists and is non-None\n",
      "\t TODO: this will prevent recomputation even when the excludelist/includelist or computation function definitions change. Rework so that this is smarter.\n",
      "WARNING: skipping computation because overwrite_extant_results=False and active_computation_results[maze2_any] already exists and is non-None\n",
      "\t TODO: this will prevent recomputation even when the excludelist/includelist or computation function definitions change. Rework so that this is smarter.\n",
      "WARNING: skipping computation because overwrite_extant_results=False and active_computation_results[maze_any] already exists and is non-None\n",
      "\t TODO: this will prevent recomputation even when the excludelist/includelist or computation function definitions change. Rework so that this is smarter.\n",
      "WARNING: skipping computation because overwrite_extant_results=False and active_computation_results[maze1_odd] already exists and is non-None\n",
      "\t TODO: this will prevent recomputation even when the excludelist/includelist or computation function definitions change. Rework so that this is smarter.\n",
      "WARNING: skipping computation because overwrite_extant_results=False and active_computation_results[maze2_odd] already exists and is non-None\n",
      "\t TODO: this will prevent recomputation even when the excludelist/includelist or computation function definitions change. Rework so that this is smarter.\n",
      "WARNING: skipping computation because overwrite_extant_results=False and active_computation_results[maze_odd] already exists and is non-None\n",
      "\t TODO: this will prevent recomputation even when the excludelist/includelist or computation function definitions change. Rework so that this is smarter.\n",
      "WARNING: skipping computation because overwrite_extant_results=False and active_computation_results[maze1_even] already exists and is non-None\n",
      "\t TODO: this will prevent recomputation even when the excludelist/includelist or computation function definitions change. Rework so that this is smarter.\n",
      "WARNING: skipping computation because overwrite_extant_results=False and active_computation_results[maze2_even] already exists and is non-None\n",
      "\t TODO: this will prevent recomputation even when the excludelist/includelist or computation function definitions change. Rework so that this is smarter.\n",
      "WARNING: skipping computation because overwrite_extant_results=False and active_computation_results[maze_even] already exists and is non-None\n",
      "\t TODO: this will prevent recomputation even when the excludelist/includelist or computation function definitions change. Rework so that this is smarter.\n",
      "WARNING: skipping computation because overwrite_extant_results=False and active_computation_results[maze1_any] already exists and is non-None\n",
      "\t TODO: this will prevent recomputation even when the excludelist/includelist or computation function definitions change. Rework so that this is smarter.\n",
      "WARNING: skipping computation because overwrite_extant_results=False and active_computation_results[maze2_any] already exists and is non-None\n",
      "\t TODO: this will prevent recomputation even when the excludelist/includelist or computation function definitions change. Rework so that this is smarter.\n",
      "WARNING: skipping computation because overwrite_extant_results=False and active_computation_results[maze_any] already exists and is non-None\n",
      "\t TODO: this will prevent recomputation even when the excludelist/includelist or computation function definitions change. Rework so that this is smarter.\n",
      "WARNING: skipping computation because overwrite_extant_results=False and active_computation_results[maze1_odd] already exists and is non-None\n",
      "\t TODO: this will prevent recomputation even when the excludelist/includelist or computation function definitions change. Rework so that this is smarter.\n",
      "WARNING: skipping computation because overwrite_extant_results=False and active_computation_results[maze2_odd] already exists and is non-None\n",
      "\t TODO: this will prevent recomputation even when the excludelist/includelist or computation function definitions change. Rework so that this is smarter.\n",
      "WARNING: skipping computation because overwrite_extant_results=False and active_computation_results[maze_odd] already exists and is non-None\n",
      "\t TODO: this will prevent recomputation even when the excludelist/includelist or computation function definitions change. Rework so that this is smarter.\n",
      "WARNING: skipping computation because overwrite_extant_results=False and active_computation_results[maze1_even] already exists and is non-None\n",
      "\t TODO: this will prevent recomputation even when the excludelist/includelist or computation function definitions change. Rework so that this is smarter.\n",
      "WARNING: skipping computation because overwrite_extant_results=False and active_computation_results[maze2_even] already exists and is non-None\n",
      "\t TODO: this will prevent recomputation even when the excludelist/includelist or computation function definitions change. Rework so that this is smarter.\n",
      "WARNING: skipping computation because overwrite_extant_results=False and active_computation_results[maze_even] already exists and is non-None\n",
      "\t TODO: this will prevent recomputation even when the excludelist/includelist or computation function definitions change. Rework so that this is smarter.\n",
      "WARNING: skipping computation because overwrite_extant_results=False and active_computation_results[maze1_any] already exists and is non-None\n",
      "\t TODO: this will prevent recomputation even when the excludelist/includelist or computation function definitions change. Rework so that this is smarter.\n",
      "WARNING: skipping computation because overwrite_extant_results=False and active_computation_results[maze2_any] already exists and is non-None\n",
      "\t TODO: this will prevent recomputation even when the excludelist/includelist or computation function definitions change. Rework so that this is smarter.\n",
      "WARNING: skipping computation because overwrite_extant_results=False and active_computation_results[maze_any] already exists and is non-None\n",
      "\t TODO: this will prevent recomputation even when the excludelist/includelist or computation function definitions change. Rework so that this is smarter.\n",
      "WARNING: saving_mode is SKIP_SAVING so pipeline will not be saved despite calling .save_pipeline(...).\n",
      "saving_mode.shouldSave == False, so not saving at the end of batch_load_session\n",
      "DEPRICATION WARNING: workaround to allow subscripting ComputationResult objects. Will be depricated. key: computed_data\n",
      "DEPRICATION WARNING: workaround to allow subscripting ComputationResult objects. Will be depricated. key: computed_data\n",
      "DEPRICATION WARNING: workaround to allow subscripting ComputationResult objects. Will be depricated. key: computed_data\n",
      "DEPRICATION WARNING: workaround to allow subscripting ComputationResult objects. Will be depricated. key: computed_data\n",
      "DEPRICATION WARNING: workaround to allow subscripting ComputationResult objects. Will be depricated. key: computed_data\n",
      "DEPRICATION WARNING: workaround to allow subscripting ComputationResult objects. Will be depricated. key: computed_data\n",
      "were pipeline preprocessing parameters missing and updated?: False\n"
     ]
    }
   ],
   "source": [
    "# ==================================================================================================================== #\n",
    "# Load Data                                                                                                            #\n",
    "# ==================================================================================================================== #\n",
    "\n",
    "active_data_mode_name = 'kdiba'\n",
    "local_session_root_parent_context = IdentifyingContext(format_name=active_data_mode_name) # , animal_name='', configuration_name='one', session_name=a_sess.session_name\n",
    "local_session_root_parent_path = global_data_root_parent_path.joinpath('KDIBA')\n",
    "\n",
    "# [*] - indicates bad or session with a problem\n",
    "# 0, 1, 2, 3, 4, 5, 6, 7, [8], [9], 10, 11, [12], 13, 14, [15], [16], 17, \n",
    "# curr_context: IdentifyingContext = good_contexts_list[1] # select the session from all of the good sessions here.\n",
    "# curr_context = IdentifyingContext(format_name='kdiba',animal='gor01',exper_name='one',session_name='2006-6-08_14-26-15') # 2024-04-30 - Completely cleaned.\n",
    "curr_context = IdentifyingContext(format_name='kdiba',animal='gor01',exper_name='one',session_name='2006-6-09_1-22-43') # DONE, might be the BEST SESSION, good example session with lots of place cells, clean replays, and clear bar graphs.\n",
    "# curr_context = IdentifyingContext(format_name='kdiba',animal='gor01',exper_name='one',session_name='2006-6-12_15-55-31') # DONE, Good Pfs but no good replays ---- VERY weird effect of the replays, a sharp drop to strongly negative values more than 3/4 through the experiment.\n",
    "\n",
    "# curr_context = IdentifyingContext(format_name='kdiba',animal='gor01',exper_name='one',session_name='2006-6-13_14-42-6') # BAD, 2023-07-14, unsure why still.\n",
    "# curr_context = IdentifyingContext(format_name='kdiba',animal='gor01',exper_name='two',session_name='2006-6-07_16-40-19') # DONE, GREAT, both good Pfs and replays! Interesting see-saw!\n",
    "\n",
    "# curr_context = IdentifyingContext(format_name='kdiba',animal='gor01',exper_name='two',session_name='2006-6-08_21-16-25') # DONE, Added replay selections. Very \"jumpy\" between the starts and ends of the track.\n",
    "# curr_context = IdentifyingContext(format_name='kdiba',animal='gor01',exper_name='two',session_name='2006-6-09_22-24-40') # 2024-01-10 new RANKORDER APOGEE | DONE, Added replay selections. A TON of putative replays in general, most bad, but some good. LOOKIN GOOD!\n",
    "# curr_context = IdentifyingContext(format_name='kdiba',animal='gor01',exper_name='twolong_LR_pf1Dsession_name='2006-4-12_15-25-59') # BAD, No Epochs\n",
    "# curr_context = IdentifyingContext(format_name='kdiba',animal='vvp01',exper_name='two',session_name='2006-4-16_18-47-52')\n",
    "# curr_context = IdentifyingContext(format_name='kdiba',animal='vvp01',exper_name='two',session_name='2006-4-17_12-52-15')\n",
    "# curr_context = IdentifyingContext(format_name='kdiba',animal='vvp01',exper_name='two',session_name='2006-4-25_13-20-55')\n",
    "# curr_context = IdentifyingContext(format_name='kdiba',animal='vvp01',exper_name='two',session_name='2006-4-28_12-38-13')\n",
    "# curr_context = IdentifyingContext(format_name='kdiba',animal='pin01',exper_name='one',session_name='11-02_17-46-44') # BAD: Confirmed frequent jumping off of the track in this session. DONE, good. Many good pfs, many good replays. Noticed very strange jumping off the track in the 3D behavior/spikes viewer. Is there something wrong with this session?\n",
    "# curr_context = IdentifyingContext(format_name='kdiba',animal='pin01',exper_name='one',session_name='11-02_19-28-0') # DONE, good?, replays selected, few  # BAD: Seems like in 3D view there's also jumping off of the track in this session.\n",
    "# curr_context = IdentifyingContext(format_name='kdiba',animal='pin01',exper_name='one',session_name='11-03_12-3-25') # DONE, very few replays\n",
    "\n",
    "# curr_context = IdentifyingContext(format_name='kdiba',animal='pin01',exper_name='one',session_name='11-09_12-15-3') ### KeyError: 'maze1_odd'\n",
    "# curr_context = IdentifyingContext(format_name='kdiba',animal='pin01',exper_name='one',session_name='11-09_22-4-5') ### \n",
    "\n",
    "# curr_context = IdentifyingContext(format_name='kdiba',animal='pin01',exper_name='one',session_name='fet11-01_12-58-54') # NEWDONE, replays selected, quite a few replays but few are very good.\n",
    "\n",
    "# curr_context = IdentifyingContext(format_name='kdiba',animal='gor01',exper_name='two',session_name='2006-6-08_21-16-25')\n",
    "\n",
    "local_session_parent_path: Path = local_session_root_parent_path.joinpath(curr_context.animal, curr_context.exper_name) # 'gor01', 'one' - probably not needed anymore\n",
    "basedir: Path = local_session_parent_path.joinpath(curr_context.session_name).resolve()\n",
    "print(f'basedir: {str(basedir)}')\n",
    "\n",
    "# Read if possible:\n",
    "saving_mode = PipelineSavingScheme.SKIP_SAVING\n",
    "force_reload = False\n",
    "\n",
    "# \n",
    "# # Force write:\n",
    "# saving_mode = PipelineSavingScheme.TEMP_THEN_OVERWRITE\n",
    "# saving_mode = PipelineSavingScheme.OVERWRITE_IN_PLACE\n",
    "# force_reload = True\n",
    "\n",
    "## TODO: if loading is not possible, we need to change the `saving_mode` so that the new results are properly saved.\n",
    "\n",
    "# ==================================================================================================================== #\n",
    "# Load Pipeline                                                                                                        #\n",
    "# ==================================================================================================================== #\n",
    "# with VizTracer(output_file=f\"viztracer_{get_now_time_str()}-full_session_LOO_decoding_analysis.json\", min_duration=200, tracer_entries=3000000, ignore_frozen=True) as tracer:\n",
    "# epoch_name_includelist = ['maze']\n",
    "epoch_name_includelist = None\n",
    "active_computation_functions_name_includelist=['lap_direction_determination', 'pf_computation',\n",
    "                                            #    'pfdt_computation',\n",
    "                                                'firing_rate_trends',\n",
    "                                                # 'pf_dt_sequential_surprise', \n",
    "                                            #    'ratemap_peaks_prominence2d',\n",
    "                                                'position_decoding', \n",
    "                                                # 'position_decoding_two_step', \n",
    "                                            #    'long_short_decoding_analyses', 'jonathan_firing_rate_analysis', 'long_short_fr_indicies_analyses', 'short_long_pf_overlap_analyses', 'long_short_post_decoding', 'long_short_rate_remapping',\n",
    "                                            #     'long_short_inst_spike_rate_groups',\n",
    "                                            #     'long_short_endcap_analysis',\n",
    "                                            # 'split_to_directional_laps',\n",
    "]\n",
    "\n",
    "curr_active_pipeline: NeuropyPipeline = batch_load_session(global_data_root_parent_path, active_data_mode_name, basedir, epoch_name_includelist=epoch_name_includelist,\n",
    "                                        computation_functions_name_includelist=active_computation_functions_name_includelist,\n",
    "                                        saving_mode=saving_mode, force_reload=force_reload,\n",
    "                                        skip_extended_batch_computations=True, debug_print=False, fail_on_exception=True) # , active_pickle_filename = 'loadedSessPickle_withParameters.pkl'\n",
    "\n",
    "\n",
    "\n",
    "## Post Compute Validate 2023-05-16:\n",
    "was_updated = BatchSessionCompletionHandler.post_compute_validate(curr_active_pipeline) ## TODO: need to potentially re-save if was_updated. This will fail because constained versions not ran yet.\n",
    "if was_updated:\n",
    "    print(f'was_updated: {was_updated}')\n",
    "    try:\n",
    "        curr_active_pipeline.save_pipeline(saving_mode=saving_mode)\n",
    "    except Exception as e:\n",
    "        ## TODO: catch/log saving error and indicate that it isn't saved.\n",
    "        exception_info = sys.exc_info()\n",
    "        e = CapturedException(e, exception_info)\n",
    "        print(f'ERROR RE-SAVING PIPELINE after update. error: {e}')\n"
   ]
  },
  {
   "cell_type": "code",
   "execution_count": null,
   "id": "188ed6fa",
   "metadata": {
    "notebookRunGroups": {
     "groupValue": "2"
    }
   },
   "outputs": [],
   "source": [
    "# BATCH_DATE_TO_USE: str = f'{DAY_DATE_TO_USE}_GL'\n",
    "BATCH_DATE_TO_USE: str = f'{DAY_DATE_TO_USE}_Apogee' # TODO: Change this as needed, templating isn't actually doing anything rn.\n",
    "\n",
    "known_collected_output_paths = [Path(v).resolve() for v in ['/nfs/turbo/umms-kdiba/Data/Output/collected_outputs', '/home/halechr/FastData/collected_outputs/',\n",
    "                                                           '/home/halechr/cloud/turbo/Data/Output/collected_outputs',\n",
    "                                                           r'C:\\Users\\pho\\repos\\Spike3DWorkEnv\\Spike3D\\output\\collected_outputs',\n",
    "                                                          'output/gen_scripts/']]\n",
    "collected_outputs_path = find_first_extant_path(known_collected_output_paths)\n",
    "assert collected_outputs_path.exists(), f\"collected_outputs_path: {collected_outputs_path} does not exist! Is the right computer's config commented out above?\"\n",
    "# fullwidth_path_widget(scripts_output_path, file_name_label='Scripts Output Path:')\n",
    "print(f'collected_outputs_path: {collected_outputs_path}')\n",
    "# collected_outputs_path.mkdir(exist_ok=True)\n",
    "# assert collected_outputs_path.exists()\n",
    "\n",
    "## Build the output prefix from the session context:\n",
    "active_context = curr_active_pipeline.get_session_context()\n",
    "curr_session_name: str = curr_active_pipeline.session_name # '2006-6-08_14-26-15'\n",
    "CURR_BATCH_OUTPUT_PREFIX: str = f\"{BATCH_DATE_TO_USE}-{curr_session_name}\"\n",
    "print(f'CURR_BATCH_OUTPUT_PREFIX: \"{CURR_BATCH_OUTPUT_PREFIX}\"')"
   ]
  },
  {
   "cell_type": "code",
   "execution_count": null,
   "id": "122bf3d1",
   "metadata": {},
   "outputs": [],
   "source": [
    "\n",
    "\n",
    "list(curr_active_pipeline.global_computation_results.computed_data.keys())\n",
    "\n",
    "\n",
    "# 2024-01-22 ERROR: when the pipeline is manually saved, its global_computations seem to be saved to the pickle too. After modifying how global computations are loaded from pickle, the following global computations code block no longer appropriately overwrites the existing results."
   ]
  },
  {
   "cell_type": "code",
   "execution_count": null,
   "id": "1597f339",
   "metadata": {},
   "outputs": [],
   "source": [
    "# pickle_problem_result_names = ['directional_decoders_evaluate_epochs', 'directional_decoders_decode_continuous']\n",
    "pickle_problem_global_result_key_names = ['DirectionalDecodersDecoded', 'DirectionalDecodersEpochsEvaluations']\n",
    "# pickle_problem_global_result_key_names = ['DirectionalLaps', 'DirectionalMergedDecoders', 'RankOrder', 'DirectionalDecodersDecoded']\n",
    "global_dropped_keys, local_dropped_keys = curr_active_pipeline.perform_drop_computed_result(computed_data_keys_to_drop=pickle_problem_global_result_key_names, debug_print=True)"
   ]
  },
  {
   "cell_type": "markdown",
   "id": "acba46b6",
   "metadata": {
    "ExecuteTime": {
     "end_time": "2023-11-16T23:21:40.574268400Z",
     "start_time": "2023-11-16T23:21:35.966373700Z"
    },
    "notebookRunGroups": {
     "groupValue": "1"
    }
   },
   "source": [
    "#### GLOBAL COMPUTE via `batch_extended_computations(...)`:"
   ]
  },
  {
   "cell_type": "code",
   "execution_count": 3,
   "id": "05b6c927",
   "metadata": {
    "notebookRunGroups": {
     "groupValue": "1"
    }
   },
   "outputs": [],
   "source": [
    "# extended_computations_include_includelist = ['lap_direction_determination', 'pf_computation', 'firing_rate_trends', 'pfdt_computation',\n",
    "#     'extended_stats',\n",
    "#     # 'pf_dt_sequential_surprise',\n",
    "#     #  'ratemap_peaks_prominence2d',\n",
    "#     'long_short_decoding_analyses', 'jonathan_firing_rate_analysis', 'long_short_fr_indicies_analyses', 'short_long_pf_overlap_analyses', \n",
    "#     'long_short_post_decoding', # #TODO 2024-01-19 05:49: - [ ] `'long_short_post_decoding' is broken for some reason `AttributeError: 'NoneType' object has no attribute 'active_filter_epochs'``\n",
    "#     # 'long_short_rate_remapping',\n",
    "#     'long_short_inst_spike_rate_groups',\n",
    "#     'long_short_endcap_analysis',\n",
    "#     # 'spike_burst_detection',\n",
    "#     'split_to_directional_laps',\n",
    "#     'merged_directional_placefields',\n",
    "#     # 'rank_order_shuffle_analysis',\n",
    "#     # 'directional_train_test_split',\n",
    "#     # 'directional_decoders_decode_continuous',\n",
    "#     # 'directional_decoders_evaluate_epochs',\n",
    "#     # 'directional_decoders_epoch_heuristic_scoring',\n",
    "# ] # do only specified\n",
    "\n",
    "\n",
    "extended_computations_include_includelist = ['lap_direction_determination', 'pf_computation', 'firing_rate_trends', 'pfdt_computation',\n",
    "    'extended_stats',\n",
    "    # 'pf_dt_sequential_surprise',\n",
    "    #  'ratemap_peaks_prominence2d',\n",
    "    'long_short_decoding_analyses', 'jonathan_firing_rate_analysis', 'long_short_fr_indicies_analyses', 'short_long_pf_overlap_analyses', \n",
    "    'long_short_post_decoding', # #TODO 2024-01-19 05:49: - [ ] `'long_short_post_decoding' is broken for some reason `AttributeError: 'NoneType' object has no attribute 'active_filter_epochs'``\n",
    "    # 'long_short_rate_remapping',\n",
    "    'long_short_inst_spike_rate_groups',\n",
    "    'long_short_endcap_analysis',\n",
    "    # 'spike_burst_detection',\n",
    "    'split_to_directional_laps',\n",
    "    'merged_directional_placefields',\n",
    "    'rank_order_shuffle_analysis',\n",
    "    # 'directional_train_test_split',\n",
    "    # 'directional_decoders_decode_continuous',\n",
    "    'directional_decoders_evaluate_epochs',\n",
    "    # 'directional_decoders_epoch_heuristic_scoring',\n",
    "] # do only specified\n",
    "\n",
    "\n",
    "\n",
    "# extended_computations_include_includelist = ['lap_direction_determination', # needs to be first. Directly changes the laps\n",
    "# \t\t\t\t\t\t\t\t\t\t\t  'pf_computation',\n",
    "#     'split_to_directional_laps', # must come after `lap_direction_determination`\n",
    "#     'merged_directional_placefields',\n",
    "# \t] # do only specified\n",
    "\n",
    "\n",
    "\n",
    "force_recompute_override_computations_includelist = None\n",
    "# force_recompute_override_computations_includelist = ['merged_directional_placefields']\n",
    "# force_recompute_override_computations_includelist = ['split_to_directional_laps', 'merged_directional_placefields', 'rank_order_shuffle_analysis'] # , 'directional_decoders_decode_continuous'\n",
    "# force_recompute_override_computations_includelist = ['directional_decoders_decode_continuous'] # \n"
   ]
  },
  {
   "cell_type": "code",
   "execution_count": 4,
   "id": "cb47e03a",
   "metadata": {
    "notebookRunGroups": {
     "groupValue": "1"
    }
   },
   "outputs": [
    {
     "name": "stdout",
     "output_type": "stream",
     "text": [
      "included includelist is specified: ['lap_direction_determination', 'pf_computation', 'firing_rate_trends', 'pfdt_computation', 'extended_stats', 'long_short_decoding_analyses', 'jonathan_firing_rate_analysis', 'long_short_fr_indicies_analyses', 'short_long_pf_overlap_analyses', 'long_short_post_decoding', 'long_short_inst_spike_rate_groups', 'long_short_endcap_analysis', 'split_to_directional_laps', 'merged_directional_placefields', 'rank_order_shuffle_analysis', 'directional_decoders_evaluate_epochs'], so only performing these extended computations.\n",
      "Running batch_evaluate_required_computations(...) with global_epoch_name: \"maze_any\"\n",
      "WARNING: FIXME TODO 2024-05-08 08:20: - [ ] Disabled checking for 'combined_best_direction_indicies', which is missing from both the laps and ripple dataframes after fresh computation for some reason.\n",
      "done with all batch_evaluate_required_computations(...).\n",
      "Pre-load global computations: needs_computation_output_dict: []\n"
     ]
    }
   ],
   "source": [
    "force_recompute_global = force_reload\n",
    "needs_computation_output_dict, valid_computed_results_output_list, remaining_include_function_names = batch_evaluate_required_computations(curr_active_pipeline, include_includelist=extended_computations_include_includelist, include_global_functions=True, fail_on_exception=False, progress_print=True,\n",
    "                                                    force_recompute=force_recompute_global, force_recompute_override_computations_includelist=force_recompute_override_computations_includelist, debug_print=False)\n",
    "print(f'Pre-load global computations: needs_computation_output_dict: {[k for k,v in needs_computation_output_dict.items() if (v is not None)]}')\n",
    "# valid_computed_results_output_list"
   ]
  },
  {
   "cell_type": "code",
   "execution_count": 5,
   "id": "28cf10d2",
   "metadata": {
    "notebookRunGroups": {
     "groupValue": "1"
    }
   },
   "outputs": [
    {
     "name": "stdout",
     "output_type": "stream",
     "text": [
      "Loading loaded session pickle file results : W:\\Data\\KDIBA\\gor01\\one\\2006-6-09_1-22-43\\output\\global_computation_results.pkl... done.\n",
      "sucessfully_updated_keys: ['DirectionalLaps', 'DirectionalMergedDecoders', 'RankOrder', 'DirectionalDecodersDecoded', 'DirectionalDecodersEpochsEvaluations', 'TrainTestSplit', 'long_short_leave_one_out_decoding_analysis', 'short_long_pf_overlap_analyses', 'long_short_fr_indicies_analysis', 'jonathan_firing_rate_analysis', 'long_short_post_decoding', 'long_short_inst_spike_rate_groups', 'long_short_endcap']\n",
      "successfully_loaded_keys: ['DirectionalLaps', 'DirectionalMergedDecoders', 'RankOrder', 'DirectionalDecodersDecoded', 'DirectionalDecodersEpochsEvaluations', 'TrainTestSplit', 'long_short_leave_one_out_decoding_analysis', 'short_long_pf_overlap_analyses', 'long_short_fr_indicies_analysis', 'jonathan_firing_rate_analysis', 'long_short_post_decoding', 'long_short_inst_spike_rate_groups', 'long_short_endcap']\n"
     ]
    }
   ],
   "source": [
    "if not force_reload: # not just force_reload, needs to recompute whenever the computation fails.\n",
    "    try:\n",
    "        # curr_active_pipeline.load_pickled_global_computation_results()\n",
    "        sucessfully_updated_keys, successfully_loaded_keys = curr_active_pipeline.load_pickled_global_computation_results(allow_overwrite_existing=True, allow_overwrite_existing_allow_keys=extended_computations_include_includelist) # is new\n",
    "        print(f'sucessfully_updated_keys: {sucessfully_updated_keys}\\nsuccessfully_loaded_keys: {successfully_loaded_keys}')\n",
    "    except FileNotFoundError as e:\n",
    "        exception_info = sys.exc_info()\n",
    "        e = CapturedException(e, exception_info)\n",
    "        print(f'cannot load global results because pickle file does not exist! Maybe it has never been created? {e}')\n",
    "    except BaseException as e:\n",
    "        exception_info = sys.exc_info()\n",
    "        e = CapturedException(e, exception_info)\n",
    "        print(f'Unhandled exception: cannot load global results: {e}')\n",
    "        raise\n"
   ]
  },
  {
   "cell_type": "code",
   "execution_count": null,
   "id": "8e0d5ec4",
   "metadata": {},
   "outputs": [],
   "source": [
    "curr_active_pipeline.global_computation_results.computed_data['RankOrder'].ripple_most_likely_result_tuple, curr_active_pipeline.global_computation_results.computed_data['RankOrder'].laps_most_likely_result_tuple = RankOrderAnalyses.most_likely_directional_rank_order_shuffling(curr_active_pipeline)"
   ]
  },
  {
   "cell_type": "code",
   "execution_count": 6,
   "id": "02cdcca0",
   "metadata": {
    "notebookRunGroups": {
     "groupValue": "1"
    }
   },
   "outputs": [
    {
     "name": "stdout",
     "output_type": "stream",
     "text": [
      "included includelist is specified: ['lap_direction_determination', 'pf_computation', 'firing_rate_trends', 'pfdt_computation', 'extended_stats', 'long_short_decoding_analyses', 'jonathan_firing_rate_analysis', 'long_short_fr_indicies_analyses', 'short_long_pf_overlap_analyses', 'long_short_post_decoding', 'long_short_inst_spike_rate_groups', 'long_short_endcap_analysis', 'split_to_directional_laps', 'merged_directional_placefields', 'rank_order_shuffle_analysis', 'directional_decoders_evaluate_epochs'], so only performing these extended computations.\n",
      "Running batch_evaluate_required_computations(...) with global_epoch_name: \"maze_any\"\n",
      "WARNING: FIXME TODO 2024-05-08 08:20: - [ ] Disabled checking for 'combined_best_direction_indicies', which is missing from both the laps and ripple dataframes after fresh computation for some reason.\n",
      "done with all batch_evaluate_required_computations(...).\n",
      "Post-load global computations: needs_computation_output_dict: []\n"
     ]
    }
   ],
   "source": [
    "force_recompute_global = force_reload\n",
    "needs_computation_output_dict, valid_computed_results_output_list, remaining_include_function_names = batch_evaluate_required_computations(curr_active_pipeline, include_includelist=extended_computations_include_includelist, include_global_functions=True, fail_on_exception=False, progress_print=True,\n",
    "                                                    force_recompute=force_recompute_global, force_recompute_override_computations_includelist=force_recompute_override_computations_includelist, debug_print=False)\n",
    "print(f'Post-load global computations: needs_computation_output_dict: {[k for k,v in needs_computation_output_dict.items() if (v is not None)]}')"
   ]
  },
  {
   "cell_type": "code",
   "execution_count": null,
   "id": "81782608",
   "metadata": {},
   "outputs": [],
   "source": [
    "# ['split_to_directional_laps', 'rank_order_shuffle_analysis', 'extended_stats', 'pfdt_computation']\n",
    "# ['split_to_directional_laps', 'extended_stats', 'pfdt_computation']"
   ]
  },
  {
   "cell_type": "code",
   "execution_count": null,
   "id": "76313826",
   "metadata": {},
   "outputs": [],
   "source": [
    "needs_computation_output_dict"
   ]
  },
  {
   "cell_type": "code",
   "execution_count": 7,
   "id": "9e0fe66c",
   "metadata": {
    "notebookRunGroups": {
     "groupValue": "1"
    }
   },
   "outputs": [
    {
     "name": "stdout",
     "output_type": "stream",
     "text": [
      "included includelist is specified: ['lap_direction_determination', 'pf_computation', 'firing_rate_trends', 'pfdt_computation', 'extended_stats', 'long_short_decoding_analyses', 'jonathan_firing_rate_analysis', 'long_short_fr_indicies_analyses', 'short_long_pf_overlap_analyses', 'long_short_post_decoding', 'long_short_inst_spike_rate_groups', 'long_short_endcap_analysis', 'split_to_directional_laps', 'merged_directional_placefields', 'rank_order_shuffle_analysis', 'directional_decoders_evaluate_epochs'], so only performing these extended computations.\n",
      "Running batch_extended_computations(...) with global_epoch_name: \"maze_any\"\n",
      "WARNING: FIXME TODO 2024-05-08 08:20: - [ ] Disabled checking for 'combined_best_direction_indicies', which is missing from both the laps and ripple dataframes after fresh computation for some reason.\n",
      "done with all batch_extended_computations(...).\n",
      "no changes in global results.\n"
     ]
    }
   ],
   "source": [
    "curr_active_pipeline.reload_default_computation_functions()\n",
    "force_recompute_global = force_reload\n",
    "# force_recompute_global = True\n",
    "newly_computed_values = batch_extended_computations(curr_active_pipeline, include_includelist=extended_computations_include_includelist, include_global_functions=True, fail_on_exception=True, progress_print=True,\n",
    "                                                    force_recompute=force_recompute_global, force_recompute_override_computations_includelist=force_recompute_override_computations_includelist, debug_print=False)\n",
    "if (len(newly_computed_values) > 0):\n",
    "    print(f'newly_computed_values: {newly_computed_values}.')\n",
    "    if (saving_mode.value != 'skip_saving'):\n",
    "        print(f'Saving global results...')\n",
    "        try:\n",
    "            # curr_active_pipeline.global_computation_results.persist_time = datetime.now()\n",
    "            # Try to write out the global computation function results:\n",
    "            curr_active_pipeline.save_global_computation_results()\n",
    "        except Exception as e:\n",
    "            exception_info = sys.exc_info()\n",
    "            e = CapturedException(e, exception_info)\n",
    "            print(f'\\n\\n!!WARNING!!: saving the global results threw the exception: {e}')\n",
    "            print(f'\\tthe global results are currently unsaved! proceed with caution and save as soon as you can!\\n\\n\\n')\n",
    "    else:\n",
    "        print(f'\\n\\n!!WARNING!!: changes to global results have been made but they will not be saved since saving_mode.value == \"skip_saving\"')\n",
    "        print(f'\\tthe global results are currently unsaved! proceed with caution and save as soon as you can!\\n\\n\\n')\n",
    "else:\n",
    "    print(f'no changes in global results.')\n",
    "\n",
    "# except Exception as e:\n",
    "#     exception_info = sys.exc_info()\n",
    "#     e = CapturedException(e, exception_info)\n",
    "#     print(f'second half threw: {e}')\n",
    "\n",
    "# 4m 5.2s for inst fr computations\n",
    "\n",
    "#34m 6.7s"
   ]
  },
  {
   "cell_type": "code",
   "execution_count": null,
   "id": "7b4793f3",
   "metadata": {},
   "outputs": [],
   "source": [
    "# Post-hoc verification that the computations worked and that the validators reflect that. The list should be empty now.\n",
    "needs_computation_output_dict, valid_computed_results_output_list, remaining_include_function_names = batch_evaluate_required_computations(curr_active_pipeline, include_includelist=extended_computations_include_includelist, include_global_functions=True, fail_on_exception=False, progress_print=True,\n",
    "                                                    force_recompute=False, force_recompute_override_computations_includelist=[], debug_print=True)\n",
    "print(f'Post-compute validation: needs_computation_output_dict: {[k for k,v in needs_computation_output_dict.items() if (v is not None)]}')"
   ]
  },
  {
   "cell_type": "code",
   "execution_count": null,
   "id": "299233a7",
   "metadata": {},
   "outputs": [],
   "source": [
    "# _directional_laps_overview = curr_active_pipeline.plot._display_directional_laps_overview(curr_active_pipeline.computation_results, a)\n",
    "# _directional_laps_overview = curr_active_pipeline.display('_display_directional_laps_overview')\n",
    "# _directional_laps_overview = curr_active_pipeline.display('_display_grid_bin_bounds_validation')\n",
    "_directional_laps_overview = curr_active_pipeline.display('_display_long_short_pf1D_comparison')\n",
    "\n",
    "_directional_laps_overview\n",
    "\n"
   ]
  },
  {
   "cell_type": "code",
   "execution_count": null,
   "id": "804fca4b",
   "metadata": {},
   "outputs": [],
   "source": [
    "curr_active_pipeline.registered_display_function_docs_dict"
   ]
  },
  {
   "cell_type": "code",
   "execution_count": null,
   "id": "7aa213c2",
   "metadata": {},
   "outputs": [],
   "source": [
    "'_display_long_short_laps', '_display_long_short_pf1D_comparison', "
   ]
  },
  {
   "cell_type": "code",
   "execution_count": null,
   "id": "453083dd",
   "metadata": {},
   "outputs": [],
   "source": [
    "%matplotlib qt\n",
    "active_identifying_session_ctx = curr_active_pipeline.sess.get_context() # 'bapun_RatN_Day4_2019-10-15_11-30-06'\n",
    "\n",
    "graphics_output_dict = curr_active_pipeline.display('_display_long_short_laps')\n",
    "graphics_output_dict"
   ]
  },
  {
   "cell_type": "code",
   "execution_count": null,
   "id": "a311a62d",
   "metadata": {},
   "outputs": [],
   "source": [
    "fig, axs, plot_data = graphics_output_dict['fig'], graphics_output_dict['axs'], graphics_output_dict['plot_data']"
   ]
  },
  {
   "cell_type": "code",
   "execution_count": null,
   "id": "7e937216",
   "metadata": {},
   "outputs": [],
   "source": [
    "_display_grid_bin_bounds_validation"
   ]
  },
  {
   "cell_type": "code",
   "execution_count": null,
   "id": "7a9de9e1",
   "metadata": {},
   "outputs": [],
   "source": [
    "curr_active_pipeline.plot._display_long_short_laps()\n"
   ]
  },
  {
   "cell_type": "code",
   "execution_count": null,
   "id": "f91b4947",
   "metadata": {},
   "outputs": [],
   "source": [
    "from pyphoplacecellanalysis.General.Pipeline.Stages.ComputationFunctions.ComputationFunctionRegistryHolder import ComputationFunctionRegistryHolder, computation_precidence_specifying_function, global_function\n",
    "\n",
    "# for (a_computation_class_name, a_computation_class) in reversed(ComputationFunctionRegistryHolder.get_non_global_registry_items().items()):\n",
    "# \tfor (a_computation_fn_name, a_computation_fn) in reversed(a_computation_class.get_all_functions(use_definition_order=True)):\n",
    "# \t\tself.register_computation(a_computation_fn_name, a_computation_fn, is_global=False\n",
    "\n",
    "_out_all = ComputationFunctionRegistryHolder.get_ordered_registry_items_functions_list(include_local=True, include_global=True)\n",
    "_out_all\n"
   ]
  },
  {
   "cell_type": "code",
   "execution_count": null,
   "id": "0de23fd2",
   "metadata": {},
   "outputs": [],
   "source": [
    "\n",
    "# Non-Global Items:\n",
    "_out_non_global_only = ComputationFunctionRegistryHolder.get_non_global_registry_items()\n",
    "_out_non_global_only\n",
    "\n",
    "# for (a_computation_class_name, a_computation_class) in reversed(ComputationFunctionRegistryHolder.get_non_global_registry_items().items()):\n",
    "# \tfor (a_computation_fn_name, a_computation_fn) in reversed(a_computation_class.get_all_functions(use_definition_order=True)):\n",
    "# \t\tself.register_computation(a_computation_fn_name, a_computation_fn, is_global=False)\n",
    "# Global Items:\n",
    "_out_global_only = ComputationFunctionRegistryHolder.get_global_registry_items()\n",
    "_out_global_only\n",
    "\n"
   ]
  },
  {
   "cell_type": "code",
   "execution_count": null,
   "id": "c51846f0",
   "metadata": {},
   "outputs": [],
   "source": [
    "[k.split('.', maxsplit=1)[-1] for k,v in _out_global_only.items()]\n"
   ]
  },
  {
   "cell_type": "code",
   "execution_count": null,
   "id": "bdcc6471",
   "metadata": {},
   "outputs": [],
   "source": [
    "_non_global_comp_names = ['lap_direction_determination', 'pf_computation', 'pfdt_computation', 'firing_rate_trends', 'pf_dt_sequential_surprise', 'ratemap_peaks_prominence2d', 'position_decoding', 'position_decoding_two_step', 'spike_burst_detection']\n",
    "_global_comp_names = ['long_short_decoding_analyses', 'jonathan_firing_rate_analysis', 'long_short_fr_indicies_analyses', 'short_long_pf_overlap_analyses', 'long_short_post_decoding', 'long_short_rate_remapping', 'long_short_inst_spike_rate_groups', 'long_short_endcap_analysis',\n",
    "                    'split_to_directional_laps', 'merged_directional_placefields', 'rank_order_shuffle_analysis', 'directional_train_test_split', 'directional_decoders_decode_continuous', 'directional_decoders_evaluate_epochs', 'directional_decoders_epoch_heuristic_scoring'] # , 'long_short_rate_remapping'\n",
    "\n",
    "\n",
    "# exclude_list = ['EloyAnalysis', '_DEP_ratemap_peaks', '_perform_specific_epochs_decoding','recursive_latent_pf_decoding', 'velocity_vs_pf_simplified_count_density']\n",
    "\n",
    "non_global_all_exclude_list = ['EloyAnalysis', '_DEP_ratemap_peaks', '_perform_specific_epochs_decoding', 'extended_stats', 'placefield_overlap', 'recursive_latent_pf_decoding', 'velocity_vs_pf_simplified_count_density']\n",
    "global_all_exclude_list = ['PBE_stats']\n",
    "\n",
    "exclude_list = non_global_all_exclude_list + global_all_exclude_list\n",
    "\n",
    "global_comp_names = [getattr(v, 'short_name', v.__name__) for k,v in ComputationFunctionRegistryHolder.get_global_registry_items().items() if ((getattr(v, 'short_name', v.__name__) not in exclude_list) and (v.__name__ not in exclude_list))]\n",
    "non_global_comp_names = [getattr(v, 'short_name', v.__name__) for k,v in ComputationFunctionRegistryHolder.get_non_global_registry_items().items() if ((getattr(v, 'short_name', v.__name__) not in exclude_list) and (v.__name__ not in exclude_list))]\n",
    "\n",
    "global_comp_names\n",
    "non_global_comp_names\n",
    "\n",
    "set(_non_global_comp_names).difference(non_global_comp_names)\n",
    "set(_global_comp_names).difference(global_comp_names)\n",
    "\n",
    "set(non_global_comp_names).difference(_non_global_comp_names)\n",
    "set(global_comp_names).difference(_global_comp_names)"
   ]
  },
  {
   "cell_type": "code",
   "execution_count": null,
   "id": "91d7617d",
   "metadata": {},
   "outputs": [],
   "source": [
    "\n",
    "_unsorted_test = ComputationFunctionRegistryHolder.get_registry()\n",
    "_unsorted_test\n",
    "# for (a_computation_class_name, a_computation_class) in reversed(ComputationFunctionRegistryHolder.get_global_registry_items().items()):\n",
    "# \tfor (a_computation_fn_name, a_computation_fn) in reversed(a_computation_class.get_all_functions(use_definition_order=True)):\n",
    "# \t\tself.register_computation(a_computation_fn_name, a_computation_fn, is_global=True)\n"
   ]
  },
  {
   "cell_type": "code",
   "execution_count": null,
   "id": "75b2409a",
   "metadata": {},
   "outputs": [],
   "source": [
    "_out_global_only"
   ]
  },
  {
   "cell_type": "code",
   "execution_count": null,
   "id": "c9467af8",
   "metadata": {},
   "outputs": [],
   "source": [
    "type(list(_out_global_only.values())[0])\n",
    "\n",
    "\n",
    "# Dict[str, function]\n"
   ]
  },
  {
   "cell_type": "markdown",
   "id": "d42e0148",
   "metadata": {},
   "source": [
    "## Specific Recomputations"
   ]
  },
  {
   "cell_type": "code",
   "execution_count": null,
   "id": "f010d1a9",
   "metadata": {},
   "outputs": [],
   "source": [
    "any_most_recent_computation_time, each_epoch_latest_computation_time, each_epoch_each_result_computation_completion_times, (global_computations_latest_computation_time, global_computation_completion_times) = curr_active_pipeline.get_computation_times(debug_print=False)\n",
    "# each_epoch_latest_computation_time\n",
    "each_epoch_each_result_computation_completion_times"
   ]
  },
  {
   "cell_type": "code",
   "execution_count": null,
   "id": "ee3d4f61",
   "metadata": {},
   "outputs": [],
   "source": [
    "curr_active_pipeline.reload_default_computation_functions()"
   ]
  },
  {
   "cell_type": "code",
   "execution_count": null,
   "id": "a8ff30b7",
   "metadata": {},
   "outputs": [],
   "source": [
    "curr_active_pipeline.global_computation_results.computation_config.instantaneous_time_bin_size_seconds = 0.01"
   ]
  },
  {
   "cell_type": "code",
   "execution_count": null,
   "id": "47820977",
   "metadata": {},
   "outputs": [],
   "source": [
    "extended_computations_include_includelist=['lap_direction_determination', 'pf_computation', 'firing_rate_trends', 'pfdt_computation',\n",
    "    # 'pf_dt_sequential_surprise',\n",
    "    #  'ratemap_peaks_prominence2d',\n",
    "    'extended_stats',\n",
    "    'long_short_decoding_analyses',\n",
    "    'jonathan_firing_rate_analysis',\n",
    "    'long_short_fr_indicies_analyses',\n",
    "    'short_long_pf_overlap_analyses',\n",
    "    'long_short_post_decoding',\n",
    "    # 'long_short_rate_remapping',\n",
    "    'long_short_inst_spike_rate_groups',\n",
    "    'long_short_endcap_analysis',\n",
    "    # 'spike_burst_detection',\n",
    "    'split_to_directional_laps',\n",
    "    'merged_directional_placefields',\n",
    "    # 'rank_order_shuffle_analysis',\n",
    "    # 'directional_decoders_decode_continuous',\n",
    "    # 'directional_decoders_evaluate_epochs',\n",
    "    # 'directional_decoders_epoch_heuristic_scoring',\n",
    "] # do only specified\n",
    "\n",
    "force_recompute_override_computations_includelist = [\n",
    "    # 'directional_decoders_evaluate_epochs', 'directional_decoders_epoch_heuristic_scoring',\n",
    "    # 'lap_direction_determination', 'DirectionalLaps',\n",
    "    # 'merged_directional_placefields',\n",
    "    # 'directional_decoders_decode_continuous',\n",
    "]\n",
    "# force_recompute_override_computations_includelist = None\n",
    "\n",
    "newly_computed_values = batch_extended_computations(curr_active_pipeline, include_includelist=extended_computations_include_includelist, include_global_functions=True, fail_on_exception=True, progress_print=True,\n",
    "                                                    force_recompute=force_recompute_global, force_recompute_override_computations_includelist=force_recompute_override_computations_includelist, debug_print=False)\n",
    "newly_computed_values\n"
   ]
  },
  {
   "cell_type": "code",
   "execution_count": null,
   "id": "db62d145",
   "metadata": {},
   "outputs": [],
   "source": [
    "force_recompute_global"
   ]
  },
  {
   "cell_type": "code",
   "execution_count": null,
   "id": "272e20f8",
   "metadata": {},
   "outputs": [],
   "source": [
    "# curr_active_pipeline.reload_default_computation_functions()\n",
    "# force_recompute_override_computations_includelist = ['_decode_continuous_using_directional_decoders']\n",
    "# curr_active_pipeline.perform_specific_computation(computation_functions_name_includelist=['_decode_continuous_using_directional_decoders'], force_recompute_override_computations_includelist=force_recompute_override_computations_includelist,\n",
    "# \t\t\t\t\t\t\t\t\t\t\t\t   enabled_filter_names=None, fail_on_exception=True, debug_print=False)\n",
    "# curr_active_pipeline.perform_specific_computation(computation_functions_name_includelist=['_decode_continuous_using_directional_decoders'], computation_kwargs_list=[{'time_bin_size': 0.025}], enabled_filter_names=None, fail_on_exception=True, debug_print=False)\n",
    "# curr_active_pipeline.perform_specific_computation(extended_computations_include_includelist=['_decode_continuous_using_directional_decoders'], computation_kwargs_list=[{'time_bin_size': 0.02}], enabled_filter_names=None, fail_on_exception=True, debug_print=False)\n",
    "# curr_active_pipeline.perform_specific_computation(computation_functions_name_includelist=['merged_directional_placefields', 'directional_decoders_decode_continuous'], computation_kwargs_list=[{'laps_decoding_time_bin_size': 0.20}, {'time_bin_size': 0.20}], enabled_filter_names=None, fail_on_exception=True, debug_print=False)\n",
    "\n",
    "curr_active_pipeline.perform_specific_computation(computation_functions_name_includelist=['merged_directional_placefields'], computation_kwargs_list=[{'laps_decoding_time_bin_size': 0.025}], enabled_filter_names=None, fail_on_exception=True, debug_print=False)\n",
    "\n",
    "# 2024-04-20 - HACK -- FIXME: Invert the 'is_LR_dir' column since it is clearly reversed. No clue why.\n",
    "# fails due to some types thing?\n",
    "# \terr: Length of values (82) does not match length of index (80)\n"
   ]
  },
  {
   "cell_type": "code",
   "execution_count": null,
   "id": "bfd3dca2",
   "metadata": {},
   "outputs": [],
   "source": [
    "curr_active_pipeline.reload_default_computation_functions()"
   ]
  },
  {
   "cell_type": "code",
   "execution_count": null,
   "id": "f748deeb",
   "metadata": {},
   "outputs": [],
   "source": [
    "curr_active_pipeline.perform_specific_computation(computation_functions_name_includelist=['directional_decoders_evaluate_epochs'], computation_kwargs_list=[{'should_skip_radon_transform': False}], enabled_filter_names=None, fail_on_exception=True, debug_print=True)"
   ]
  },
  {
   "cell_type": "code",
   "execution_count": null,
   "id": "fe380f10",
   "metadata": {
    "notebookRunGroups": {
     "groupValue": ""
    }
   },
   "outputs": [],
   "source": [
    "curr_active_pipeline.perform_specific_computation(computation_functions_name_includelist=['directional_decoders_epoch_heuristic_scoring'], enabled_filter_names=None, fail_on_exception=True, debug_print=False) # OK FOR PICKLE"
   ]
  },
  {
   "cell_type": "code",
   "execution_count": null,
   "id": "f372737e",
   "metadata": {
    "notebookRunGroups": {
     "groupValue": ""
    }
   },
   "outputs": [],
   "source": [
    "curr_active_pipeline.perform_specific_computation(computation_functions_name_includelist=['directional_train_test_split'], enabled_filter_names=None, fail_on_exception=True, debug_print=False)"
   ]
  },
  {
   "cell_type": "code",
   "execution_count": null,
   "id": "39417243",
   "metadata": {},
   "outputs": [],
   "source": [
    "curr_active_pipeline.perform_specific_computation(computation_functions_name_includelist=['lap_direction_determination'], enabled_filter_names=None, fail_on_exception=True, debug_print=False)"
   ]
  },
  {
   "cell_type": "code",
   "execution_count": null,
   "id": "89757a66",
   "metadata": {},
   "outputs": [],
   "source": [
    "curr_active_pipeline.perform_specific_computation(computation_functions_name_includelist=['extended_stats'], enabled_filter_names=None, fail_on_exception=True, debug_print=False)"
   ]
  },
  {
   "cell_type": "code",
   "execution_count": null,
   "id": "a52a8eb8",
   "metadata": {},
   "outputs": [],
   "source": [
    "curr_active_pipeline.perform_specific_computation(computation_functions_name_includelist=['merged_directional_placefields', 'directional_decoders_decode_continuous', 'directional_decoders_evaluate_epochs', 'directional_decoders_epoch_heuristic_scoring'], computation_kwargs_list=[{'laps_decoding_time_bin_size': 0.2}, {'time_bin_size': 0.025}, {'should_skip_radon_transform': False}, {}], enabled_filter_names=None, fail_on_exception=True, debug_print=False)"
   ]
  },
  {
   "cell_type": "code",
   "execution_count": null,
   "id": "62493eb3",
   "metadata": {},
   "outputs": [],
   "source": [
    "curr_active_pipeline.perform_specific_computation(computation_functions_name_includelist=['long_short_decoding_analyses',\n",
    "    'jonathan_firing_rate_analysis',\n",
    "    'long_short_fr_indicies_analyses',\n",
    "    'short_long_pf_overlap_analyses',\n",
    "    'long_short_post_decoding',\n",
    "    'long_short_rate_remapping',\n",
    "    'long_short_inst_spike_rate_groups',\n",
    "    'long_short_endcap_analysis',\n",
    "    ], enabled_filter_names=None, fail_on_exception=True, debug_print=False) # , computation_kwargs_list=[{'should_skip_radon_transform': False}]"
   ]
  },
  {
   "cell_type": "code",
   "execution_count": 8,
   "id": "c267dae5",
   "metadata": {
    "notebookRunGroups": {
     "groupValue": "1"
    }
   },
   "outputs": [],
   "source": [
    "# directional_merged_decoders_result = deepcopy(directional_decoders_epochs_decode_result)\n",
    "from pyphoplacecellanalysis.General.Pipeline.Stages.ComputationFunctions.MultiContextComputationFunctions.DirectionalPlacefieldGlobalComputationFunctions import DirectionalMergedDecodersResult\n",
    "\n",
    "spikes_df = deepcopy(curr_active_pipeline.sess.spikes_df)\n",
    "\n",
    "global_computation_results = curr_active_pipeline.global_computation_results\n",
    "\n",
    " # spikes_df = curr_active_pipeline.sess.spikes_df\n",
    "rank_order_results = global_computation_results.computed_data['RankOrder'] # : \"RankOrderComputationsContainer\"\n",
    "minimum_inclusion_fr_Hz: float = rank_order_results.minimum_inclusion_fr_Hz\n",
    "# included_qclu_values: List[int] = rank_order_results.included_qclu_values\n",
    "directional_laps_results: DirectionalLapsResult = global_computation_results.computed_data['DirectionalLaps']\n",
    "track_templates: TrackTemplates = directional_laps_results.get_templates(minimum_inclusion_fr_Hz=minimum_inclusion_fr_Hz) # non-shared-only -- !! Is minimum_inclusion_fr_Hz=None the issue/difference?\n",
    "# print(f'minimum_inclusion_fr_Hz: {minimum_inclusion_fr_Hz}')\n",
    "# print(f'included_qclu_values: {included_qclu_values}')\n",
    "\n",
    "# DirectionalMergedDecoders: Get the result after computation:\n",
    "directional_merged_decoders_result: DirectionalMergedDecodersResult = global_computation_results.computed_data['DirectionalMergedDecoders']\n",
    "ripple_decoding_time_bin_size: float = directional_merged_decoders_result.ripple_decoding_time_bin_size\n",
    "laps_decoding_time_bin_size: float = directional_merged_decoders_result.laps_decoding_time_bin_size\n",
    "# pos_bin_size = _recover_position_bin_size(track_templates.get_decoders()[0]) # 3.793023081021702\n",
    "# print(f'laps_decoding_time_bin_size: {laps_decoding_time_bin_size}, ripple_decoding_time_bin_size: {ripple_decoding_time_bin_size}, pos_bin_size: {pos_bin_size}')\n",
    "# pos_bin_size: float = directional_decoders_epochs_decode_result.pos_bin_size\n",
    "\n",
    "## Simple Pearson Correlation\n",
    "assert spikes_df is not None\n",
    "(laps_simple_pf_pearson_merged_df, ripple_simple_pf_pearson_merged_df), corr_column_names = directional_merged_decoders_result.compute_simple_spike_time_v_pf_peak_x_by_epoch(track_templates=track_templates, spikes_df=deepcopy(spikes_df))\n",
    "## OUTPUTS: (laps_simple_pf_pearson_merged_df, ripple_simple_pf_pearson_merged_df), corr_column_names\n",
    "## Computes the highest-valued decoder for this score:\n",
    "best_decoder_index_col_name: str = 'best_decoder_index'\n",
    "laps_simple_pf_pearson_merged_df[best_decoder_index_col_name] = laps_simple_pf_pearson_merged_df[corr_column_names].abs().apply(lambda row: np.argmax(row.values), axis=1)\n",
    "ripple_simple_pf_pearson_merged_df[best_decoder_index_col_name] = ripple_simple_pf_pearson_merged_df[corr_column_names].abs().apply(lambda row: np.argmax(row.values), axis=1)\n"
   ]
  },
  {
   "cell_type": "code",
   "execution_count": 9,
   "id": "2a452a66",
   "metadata": {
    "notebookRunGroups": {
     "groupValue": "1"
    }
   },
   "outputs": [
    {
     "name": "stdout",
     "output_type": "stream",
     "text": [
      "len(active_epochs_df): 412\n",
      "min_num_unique_aclu_inclusions: 18\n",
      "len(active_epochs_df): 136\n",
      "pos_bin_size: 3.8054171165052444\n",
      "ripple_decoding_time_bin_size: 0.025\n",
      "laps_decoding_time_bin_size: 0.2\n"
     ]
    }
   ],
   "source": [
    "from pyphoplacecellanalysis.Analysis.Decoder.reconstruction import DecodedFilterEpochsResult, SingleEpochDecodedResult\n",
    "from pyphoplacecellanalysis.General.Pipeline.Stages.ComputationFunctions.MultiContextComputationFunctions.DirectionalPlacefieldGlobalComputationFunctions import DecoderDecodedEpochsResult\n",
    "\n",
    "directional_decoders_epochs_decode_result: DecoderDecodedEpochsResult = curr_active_pipeline.global_computation_results.computed_data['DirectionalDecodersEpochsEvaluations']\n",
    "directional_decoders_epochs_decode_result.add_all_extra_epoch_columns(curr_active_pipeline, track_templates=track_templates, required_min_percentage_of_active_cells=0.33333333, debug_print=False)\n",
    "\n",
    "pos_bin_size: float = directional_decoders_epochs_decode_result.pos_bin_size\n",
    "ripple_decoding_time_bin_size: float = directional_decoders_epochs_decode_result.ripple_decoding_time_bin_size\n",
    "laps_decoding_time_bin_size: float = directional_decoders_epochs_decode_result.laps_decoding_time_bin_size\n",
    "decoder_laps_filter_epochs_decoder_result_dict: Dict[str, DecodedFilterEpochsResult] = directional_decoders_epochs_decode_result.decoder_laps_filter_epochs_decoder_result_dict\n",
    "decoder_ripple_filter_epochs_decoder_result_dict: Dict[str, DecodedFilterEpochsResult] = directional_decoders_epochs_decode_result.decoder_ripple_filter_epochs_decoder_result_dict\n",
    "\n",
    "print(f'pos_bin_size: {pos_bin_size}')\n",
    "print(f'ripple_decoding_time_bin_size: {ripple_decoding_time_bin_size}')\n",
    "print(f'laps_decoding_time_bin_size: {laps_decoding_time_bin_size}')\n",
    "\n",
    "# Radon Transforms:\n",
    "decoder_laps_radon_transform_df_dict = directional_decoders_epochs_decode_result.decoder_laps_radon_transform_df_dict\n",
    "decoder_ripple_radon_transform_df_dict = directional_decoders_epochs_decode_result.decoder_ripple_radon_transform_df_dict\n",
    "decoder_laps_radon_transform_extras_dict = directional_decoders_epochs_decode_result.decoder_laps_radon_transform_extras_dict\n",
    "decoder_ripple_radon_transform_extras_dict = directional_decoders_epochs_decode_result.decoder_ripple_radon_transform_extras_dict\n",
    "\n",
    "# Weighted correlations:\n",
    "laps_weighted_corr_merged_df: pd.DataFrame = directional_decoders_epochs_decode_result.laps_weighted_corr_merged_df\n",
    "ripple_weighted_corr_merged_df: pd.DataFrame = directional_decoders_epochs_decode_result.ripple_weighted_corr_merged_df\n",
    "decoder_laps_weighted_corr_df_dict: Dict[str, pd.DataFrame] = directional_decoders_epochs_decode_result.decoder_laps_weighted_corr_df_dict\n",
    "decoder_ripple_weighted_corr_df_dict: Dict[str, pd.DataFrame] = directional_decoders_epochs_decode_result.decoder_ripple_weighted_corr_df_dict\n",
    "\n",
    "# Pearson's correlations:\n",
    "laps_simple_pf_pearson_merged_df: pd.DataFrame = directional_decoders_epochs_decode_result.laps_simple_pf_pearson_merged_df\n",
    "ripple_simple_pf_pearson_merged_df: pd.DataFrame = directional_decoders_epochs_decode_result.ripple_simple_pf_pearson_merged_df\n",
    "\n",
    "# laps_simple_pf_pearson_merged_df\n",
    "# ripple_simple_pf_pearson_merged_df\n",
    "\n",
    "## Drop rows where all are missing\n",
    "corr_column_names = ['long_LR_pf_peak_x_pearsonr', 'long_RL_pf_peak_x_pearsonr', 'short_LR_pf_peak_x_pearsonr', 'short_RL_pf_peak_x_pearsonr']\n",
    "# ripple_simple_pf_pearson_merged_df.dropna(subset=corr_column_names, axis='index', how='all') # 350/412 rows\n",
    "filtered_laps_simple_pf_pearson_merged_df: pd.DataFrame = laps_simple_pf_pearson_merged_df.dropna(subset=corr_column_names, axis='index', how='any') # 320/412 rows\n",
    "filtered_ripple_simple_pf_pearson_merged_df: pd.DataFrame = ripple_simple_pf_pearson_merged_df.dropna(subset=corr_column_names, axis='index', how='any') # 320/412 rows\n",
    "\n",
    "## Update the `decoder_ripple_filter_epochs_decoder_result_dict` with the included epochs:\n",
    "# decoder_ripple_filter_epochs_decoder_result_dict: Dict[str, DecodedFilterEpochsResult] = {a_name:decoder_ripple_filter_epochs_decoder_result_dict[a_name].filtered_by_epochs(filtered_ripple_simple_pf_pearson_merged_df.index) for a_name, a_df in decoder_ripple_filter_epochs_decoder_result_dict.items()}\n",
    "# decoder_laps_filter_epochs_decoder_result_dict: Dict[str, DecodedFilterEpochsResult] = {a_name:decoder_laps_filter_epochs_decoder_result_dict[a_name].filtered_by_epochs(filtered_laps_simple_pf_pearson_merged_df.index) for a_name, a_df in decoder_laps_filter_epochs_decoder_result_dict.items()}\n",
    "# decoder_ripple_filter_epochs_decoder_result_dict: Dict[str, DecodedFilterEpochsResult] = {a_name:decoder_ripple_filter_epochs_decoder_result_dict[a_name].filtered_by_epoch_times(filtered_ripple_simple_pf_pearson_merged_df[['start', 'stop']].to_numpy()) for a_name, a_df in decoder_ripple_filter_epochs_decoder_result_dict.items()}\n",
    "# decoder_laps_filter_epochs_decoder_result_dict: Dict[str, DecodedFilterEpochsResult] = {a_name:decoder_laps_filter_epochs_decoder_result_dict[a_name].filtered_by_epoch_times(filtered_laps_simple_pf_pearson_merged_df[['start', 'stop']].to_numpy()) for a_name, a_df in decoder_laps_filter_epochs_decoder_result_dict.items()}\n",
    "# decoder_ripple_filter_epochs_decoder_result_dict: Dict[str, DecodedFilterEpochsResult] = {a_name:decoder_ripple_filter_epochs_decoder_result_dict[a_name].filtered_by_epoch_times(filtered_ripple_simple_pf_pearson_merged_df['start'].to_numpy()) for a_name, a_df in decoder_ripple_filter_epochs_decoder_result_dict.items()}\n",
    "# decoder_laps_filter_epochs_decoder_result_dict: Dict[str, DecodedFilterEpochsResult] = {a_name:decoder_laps_filter_epochs_decoder_result_dict[a_name].filtered_by_epoch_times(filtered_laps_simple_pf_pearson_merged_df['start'].to_numpy()) for a_name, a_df in decoder_laps_filter_epochs_decoder_result_dict.items()}\n"
   ]
  },
  {
   "cell_type": "code",
   "execution_count": null,
   "id": "6ed38171",
   "metadata": {},
   "outputs": [],
   "source": [
    "from pyphoplacecellanalysis.General.Pipeline.Stages.Loading import saveData\n",
    "\n",
    "# directional_decoders_epochs_decode_result\n",
    "# save_path = Path(\"/Users/pho/data/KDIBA/gor01/one/2006-6-09_1-22-43/output/2024-04-25_CustomDecodingResults.pkl\").resolve()\n",
    "# save_path = curr_active_pipeline.get_output_path().joinpath(\"2024-04-28_CustomDecodingResults.pkl\").resolve()\n",
    "save_path = curr_active_pipeline.get_output_path().joinpath(f\"{DAY_DATE_TO_USE}_CustomDecodingResults.pkl\").resolve()\n",
    "\n",
    "xbin = deepcopy(long_pf2D.xbin)\n",
    "xbin_centers = deepcopy(long_pf2D.xbin_centers)\n",
    "ybin = deepcopy(long_pf2D.ybin)\n",
    "ybin_centers = deepcopy(long_pf2D.ybin_centers)\n",
    "\n",
    "print(xbin_centers)\n",
    "save_dict = {\n",
    "'directional_decoders_epochs_decode_result': directional_decoders_epochs_decode_result.__getstate__(),\n",
    "'xbin': xbin, 'xbin_centers': xbin_centers}\n",
    "\n",
    "saveData(save_path, save_dict)\n",
    "print(f'save_path: {save_path}')"
   ]
  },
  {
   "cell_type": "code",
   "execution_count": null,
   "id": "464b4531",
   "metadata": {
    "notebookRunGroups": {
     "groupValue": "2"
    }
   },
   "outputs": [],
   "source": [
    "# 💾 Export CSVs: \n",
    "## INPUTS: directional_decoders_epochs_decode_result,\n",
    "\n",
    "extracted_merged_scores_df = directional_decoders_epochs_decode_result.build_complete_all_scores_merged_df()\n",
    "# extracted_merged_scores_df\n",
    "\n",
    "print(f'\\tAll scores df CSV exporting...')\n",
    "\n",
    "## Export CSVs:\n",
    "t_start, t_delta, t_end = curr_active_pipeline.find_LongShortDelta_times()\n",
    "export_df_dict = {'ripple_all_scores_merged_df': extracted_merged_scores_df}\n",
    "_csv_export_paths = directional_decoders_epochs_decode_result.perform_export_dfs_dict_to_csvs(extracted_dfs_dict=export_df_dict, parent_output_path=collected_outputs_path.resolve(), active_context=active_context, session_name=curr_session_name, curr_session_t_delta=t_delta,\n",
    "                                                                            #   user_annotation_selections={'ripple': any_good_selected_epoch_times},\n",
    "                                                                            #   valid_epochs_selections={'ripple': filtered_valid_epoch_times},\n",
    "                                                                            )\n",
    "\n",
    "print(f'\\t\\tsuccessfully exported ripple_all_scores_merged_df to {collected_outputs_path}!')\n",
    "_output_csv_paths_info_str: str = '\\n'.join([f'{a_name}: \"{file_uri_from_path(a_path)}\"' for a_name, a_path in _csv_export_paths.items()])\n",
    "print(f'\\t\\t\\tCSV Paths: {_output_csv_paths_info_str}\\n')"
   ]
  },
  {
   "cell_type": "code",
   "execution_count": null,
   "id": "1a98fc6f",
   "metadata": {},
   "outputs": [],
   "source": [
    "\n",
    "# extracted_merged_scores_df.to_csv('test_(ripple_all_scores_merged_df).csv')"
   ]
  },
  {
   "cell_type": "code",
   "execution_count": null,
   "id": "16a860a1",
   "metadata": {},
   "outputs": [],
   "source": [
    " decoder_ripple_radon_transform_df_dict\n",
    "decoder_ripple_radon_transform_extras_dict"
   ]
  },
  {
   "cell_type": "code",
   "execution_count": null,
   "id": "74cbf34d",
   "metadata": {},
   "outputs": [],
   "source": [
    "decoder_ripple_radon_transform_df_dict\n",
    "decoder_ripple_radon_transform_extras_dict"
   ]
  },
  {
   "cell_type": "code",
   "execution_count": null,
   "id": "bbbcbb0c",
   "metadata": {},
   "outputs": [],
   "source": [
    "# filtered_laps_simple_pf_pearson_merged_df\n",
    "# filtered_ripple_simple_pf_pearson_merged_df\n",
    "# decoder_ripple_weighted_corr_df_dict\n",
    "ripple_weighted_corr_merged_df['ripple_start_t']\n"
   ]
  },
  {
   "cell_type": "code",
   "execution_count": null,
   "id": "76a95450",
   "metadata": {},
   "outputs": [],
   "source": [
    "wcorr_column_names = ['wcorr_long_LR', 'wcorr_long_RL', 'wcorr_short_LR', 'wcorr_short_RL']\n",
    "filtered_ripple_simple_pf_pearson_merged_df.label = filtered_ripple_simple_pf_pearson_merged_df.label.astype('int64')\n",
    "ripple_weighted_corr_merged_df['label'] = ripple_weighted_corr_merged_df['ripple_idx'].astype('int64')\n",
    "\n",
    "filtered_ripple_simple_pf_pearson_merged_df.join(ripple_weighted_corr_merged_df[wcorr_column_names], on='start') # , on='label'\n",
    "# filtered_ripple_simple_pf_pearson_merged_df.merge"
   ]
  },
  {
   "cell_type": "code",
   "execution_count": null,
   "id": "ca4bc77f",
   "metadata": {},
   "outputs": [],
   "source": [
    "ripple_weighted_corr_merged_df"
   ]
  },
  {
   "cell_type": "code",
   "execution_count": null,
   "id": "ac433aac",
   "metadata": {},
   "outputs": [],
   "source": [
    "print(list(ripple_weighted_corr_merged_df.columns))"
   ]
  },
  {
   "cell_type": "code",
   "execution_count": null,
   "id": "d98e2381",
   "metadata": {},
   "outputs": [],
   "source": [
    "a_decoded_filter_epochs_decoder_result_dict: Dict[str, DecodedFilterEpochsResult] = deepcopy(decoder_ripple_filter_epochs_decoder_result_dict)\n",
    "a_decoded_filter_epochs_decoder_result_dict"
   ]
  },
  {
   "cell_type": "code",
   "execution_count": null,
   "id": "8e3599f8",
   "metadata": {},
   "outputs": [],
   "source": [
    "# paginated_multi_decoder_decoded_epochs_window.save_selections()\n",
    "\n",
    "a_decoded_filter_epochs_decoder_result_dict.epochs.find_data_indicies_from_epoch_times([380.75])"
   ]
  },
  {
   "cell_type": "markdown",
   "id": "77babf98",
   "metadata": {},
   "source": [
    "## 💾 Continue Saving/Exporting stuff"
   ]
  },
  {
   "cell_type": "code",
   "execution_count": null,
   "id": "ea89da89",
   "metadata": {},
   "outputs": [],
   "source": [
    "curr_active_pipeline.save_global_computation_results() # newly_computed_values: [('pfdt_computation', 'maze_any')]"
   ]
  },
  {
   "cell_type": "code",
   "execution_count": null,
   "id": "9d849751",
   "metadata": {},
   "outputs": [],
   "source": []
  },
  {
   "cell_type": "code",
   "execution_count": null,
   "id": "4f2ff7aa",
   "metadata": {},
   "outputs": [],
   "source": [
    "# curr_active_pipeline.to_dict()\n",
    "# curr_active_pipeline.__dict__\n",
    "\n",
    "curr_active_pipeline.global_computation_results.__dict__\n"
   ]
  },
  {
   "cell_type": "code",
   "execution_count": null,
   "id": "88c97129",
   "metadata": {},
   "outputs": [],
   "source": [
    "# global_computation_results = deepcopy(curr_active_pipeline.__dict__['global_computation_results'].__dict__) # .to_dict()\n",
    "global_computation_results = deepcopy(curr_active_pipeline.global_computation_results.__dict__) # .to_dict()\n",
    "global_computation_results\n"
   ]
  },
  {
   "cell_type": "code",
   "execution_count": null,
   "id": "e975be55",
   "metadata": {},
   "outputs": [],
   "source": [
    "save_path = Path(r'W:\\Data\\KDIBA\\gor01\\one\\2006-6-08_14-26-15\\output\\global_computation_results.pkl').resolve()\n",
    "save_save(\n",
    "saveData(global_computation_results_pickle_path, (self.global_computation_results.to_dict()))\n",
    "\n",
    "safe_save("
   ]
  },
  {
   "cell_type": "code",
   "execution_count": null,
   "id": "3fae91a7",
   "metadata": {},
   "outputs": [],
   "source": [
    "type(curr_active_pipeline)"
   ]
  },
  {
   "cell_type": "code",
   "execution_count": null,
   "id": "ec7af96d",
   "metadata": {},
   "outputs": [],
   "source": [
    "split_save_folder, split_save_paths, split_save_output_types, failed_keys = curr_active_pipeline.save_split_global_computation_results(debug_print=True)"
   ]
  },
  {
   "cell_type": "code",
   "execution_count": null,
   "id": "1d07da12",
   "metadata": {},
   "outputs": [],
   "source": [
    "load_pickled_global_computation_results"
   ]
  },
  {
   "cell_type": "code",
   "execution_count": null,
   "id": "3f38439f",
   "metadata": {},
   "outputs": [],
   "source": [
    "## If it really is the function attribute .validate_computation_test value, we should be able to strip it and pickle!\n",
    "global_computation_results\n"
   ]
  },
  {
   "cell_type": "code",
   "execution_count": null,
   "id": "c2a869b1",
   "metadata": {},
   "outputs": [],
   "source": [
    "curr_active_pipeline.export_pipeline_to_h5()"
   ]
  },
  {
   "cell_type": "code",
   "execution_count": null,
   "id": "e3f06d1f",
   "metadata": {},
   "outputs": [],
   "source": [
    "curr_active_pipeline.clear_display_outputs()\n",
    "curr_active_pipeline.clear_registered_output_files()"
   ]
  },
  {
   "cell_type": "code",
   "execution_count": null,
   "id": "837f39f2",
   "metadata": {},
   "outputs": [],
   "source": [
    "curr_active_pipeline.save_pipeline(saving_mode=PipelineSavingScheme.TEMP_THEN_OVERWRITE) ## #TODO 2024-02-16 14:25: - [ ] PicklingError: Can't pickle <function make_set_closure_cell.<locals>.set_closure_cell at 0x7fd35e66b700>: it's not found as attr._compat.make_set_closure_cell.<locals>.set_closure_cell\n"
   ]
  },
  {
   "cell_type": "code",
   "execution_count": null,
   "id": "96f0316a",
   "metadata": {},
   "outputs": [],
   "source": [
    "# ---------------------------------------------------------------------------\n",
    "# TypeError                                 Traceback (most recent call last)\n",
    "# Cell In[28], line 1\n",
    "# ----> 1 curr_active_pipeline.save_pipeline(saving_mode=PipelineSavingScheme.TEMP_THEN_OVERWRITE) ## #TODO 2024-02-16 14:25: - [ ] PicklingError: Can't pickle <function make_set_closure_cell.<locals>.set_closure_cell at 0x7fd35e66b700>: it's not found as attr._compat.make_set_closure_cell.<locals>.set_closure_cell\n",
    "\n",
    "# File ~\\repos\\Spike3DWorkEnv\\pyPhoPlaceCellAnalysis\\src\\pyphoplacecellanalysis\\General\\Pipeline\\NeuropyPipeline.py:693, in NeuropyPipeline.save_pipeline(self, saving_mode, active_pickle_filename, override_pickle_path)\n",
    "#     691     saveData(finalized_loaded_sess_pickle_path, db=self) # Save the pipeline out to pickle.\n",
    "#     692 except Exception as e:\n",
    "# --> 693     raise e\n",
    "#     695 # If we saved to a temporary name, now see if we should overwrite or backup and then replace:\n",
    "#     696 if (is_temporary_file_used and (saving_mode.name == PipelineSavingScheme.TEMP_THEN_OVERWRITE.name)):\n",
    "\n",
    "# File ~\\repos\\Spike3DWorkEnv\\pyPhoPlaceCellAnalysis\\src\\pyphoplacecellanalysis\\General\\Pipeline\\NeuropyPipeline.py:691, in NeuropyPipeline.save_pipeline(self, saving_mode, active_pickle_filename, override_pickle_path)\n",
    "#     689 # Save reloaded pipeline out to pickle for future loading\n",
    "#     690 try:\n",
    "# --> 691     saveData(finalized_loaded_sess_pickle_path, db=self) # Save the pipeline out to pickle.\n",
    "#     692 except Exception as e:\n",
    "#     693     raise e\n",
    "\n",
    "# File ~\\repos\\Spike3DWorkEnv\\pyPhoPlaceCellAnalysis\\src\\pyphoplacecellanalysis\\General\\Pipeline\\Stages\\Loading.py:108, in saveData(pkl_path, db, should_append, safe_save)\n",
    "#     101 \"\"\" \n",
    "#     102 \n",
    "#     103 safe_save: If True, a temporary extension is added to the save path if the file already exists and the file is only overwritten if pickling doesn't throw an exception.\n",
    "#     104     This temporarily requires double the disk space.\n",
    "#     105     \n",
    "#     106 \"\"\"\n",
    "#     107 if safe_save:\n",
    "# --> 108     safeSaveData(pkl_path, db=db, should_append=should_append)\n",
    "#     109 else:\n",
    "#     110     if should_append:\n",
    "\n",
    "# File ~\\repos\\Spike3DWorkEnv\\pyPhoPlaceCellAnalysis\\src\\pyphoplacecellanalysis\\General\\Pipeline\\Stages\\Loading.py:94, in safeSaveData(pkl_path, db, should_append, backup_file_if_smaller_than_original, backup_minimum_difference_MB)\n",
    "#      92 if is_temporary_file_used:\n",
    "#      93     pkl_path.unlink(missing_ok=True) # removes the incomplete file. The user's file located at _desired_final_pickle_path is still intact.\n",
    "# ---> 94 raise e\n",
    "\n",
    "# File ~\\repos\\Spike3DWorkEnv\\pyPhoPlaceCellAnalysis\\src\\pyphoplacecellanalysis\\General\\Pipeline\\Stages\\Loading.py:70, in safeSaveData(pkl_path, db, should_append, backup_file_if_smaller_than_original, backup_minimum_difference_MB)\n",
    "#      67 try:\n",
    "#      68     with open(pkl_path, file_mode) as dbfile: \n",
    "#      69         # source, destination\n",
    "# ---> 70         pickle.dump(db, dbfile)\n",
    "#      71         dbfile.close()\n",
    "#      72     # Pickling succeeded\n",
    "#      73 \n",
    "#      74     # If we saved to a temporary name, now see if we should overwrite or backup and then replace:\n",
    "\n",
    "# File k:\\FastSwap\\AppData\\VSCode\\yellow\\.venv_yellow\\lib\\site-packages\\dill\\_dill.py:336, in dump(obj, file, protocol, byref, fmode, recurse, **kwds)\n",
    "#     334 _kwds = kwds.copy()\n",
    "#     335 _kwds.update(dict(byref=byref, fmode=fmode, recurse=recurse))\n",
    "# --> 336 Pickler(file, protocol, **_kwds).dump(obj)\n",
    "#     337 return\n",
    "\n",
    "# File k:\\FastSwap\\AppData\\VSCode\\yellow\\.venv_yellow\\lib\\site-packages\\dill\\_dill.py:620, in Pickler.dump(self, obj)\n",
    "#     618     raise PicklingError(msg)\n",
    "#     619 else:\n",
    "# --> 620     StockPickler.dump(self, obj)\n",
    "#     621 return\n",
    "\n",
    "# File ~\\.pyenv\\pyenv-win\\versions\\3.9.13\\lib\\pickle.py:487, in _Pickler.dump(self, obj)\n",
    "#     485 if self.proto >= 4:\n",
    "#     486     self.framer.start_framing()\n",
    "# --> 487 self.save(obj)\n",
    "#     488 self.write(STOP)\n",
    "#     489 self.framer.end_framing()\n",
    "\n",
    "# File ~\\.pyenv\\pyenv-win\\versions\\3.9.13\\lib\\pickle.py:603, in _Pickler.save(self, obj, save_persistent_id)\n",
    "#     599     raise PicklingError(\"Tuple returned by %s must have \"\n",
    "#     600                         \"two to six elements\" % reduce)\n",
    "#     602 # Save the reduce() output and finally memoize the object\n",
    "# --> 603 self.save_reduce(obj=obj, *rv)\n",
    "\n",
    "# File ~\\.pyenv\\pyenv-win\\versions\\3.9.13\\lib\\pickle.py:687, in _Pickler.save_reduce(self, func, args, state, listitems, dictitems, state_setter, obj)\n",
    "#     684     raise PicklingError(\n",
    "#     685         \"args[0] from __newobj__ args has the wrong class\")\n",
    "#     686 args = args[1:]\n",
    "# --> 687 save(cls)\n",
    "#     688 save(args)\n",
    "#     689 write(NEWOBJ)\n",
    "\n",
    "# File ~\\.pyenv\\pyenv-win\\versions\\3.9.13\\lib\\pickle.py:560, in _Pickler.save(self, obj, save_persistent_id)\n",
    "#     558 f = self.dispatch.get(t)\n",
    "#     559 if f is not None:\n",
    "# --> 560     f(self, obj)  # Call unbound method with explicit self\n",
    "#     561     return\n",
    "#     563 # Check private dispatch table if any, or else\n",
    "#     564 # copyreg.dispatch_table\n",
    "\n",
    "# File k:\\FastSwap\\AppData\\VSCode\\yellow\\.venv_yellow\\lib\\site-packages\\dill\\_dill.py:1838, in save_type(pickler, obj, postproc_list)\n",
    "#    1836             postproc_list = []\n",
    "#    1837         postproc_list.append((setattr, (obj, '__qualname__', obj_name)))\n",
    "# -> 1838     _save_with_postproc(pickler, (_create_type, (\n",
    "#    1839         type(obj), obj.__name__, obj.__bases__, _dict\n",
    "#    1840     )), obj=obj, postproc_list=postproc_list)\n",
    "#    1841     log.info(\"# %s\" % _t)\n",
    "#    1842 else:\n",
    "\n",
    "# File k:\\FastSwap\\AppData\\VSCode\\yellow\\.venv_yellow\\lib\\site-packages\\dill\\_dill.py:1140, in _save_with_postproc(pickler, reduction, is_pickler_dill, obj, postproc_list)\n",
    "#    1137     pickler._postproc[id(obj)] = postproc_list\n",
    "#    1139 # TODO: Use state_setter in Python 3.8 to allow for faster cPickle implementations\n",
    "# -> 1140 pickler.save_reduce(*reduction, obj=obj)\n",
    "#    1142 if is_pickler_dill:\n",
    "#    1143     # pickler.x -= 1\n",
    "#    1144     # print(pickler.x*' ', 'pop', obj, id(obj))\n",
    "#    1145     postproc = pickler._postproc.pop(id(obj))\n",
    "\n",
    "# File ~\\.pyenv\\pyenv-win\\versions\\3.9.13\\lib\\pickle.py:692, in _Pickler.save_reduce(self, func, args, state, listitems, dictitems, state_setter, obj)\n",
    "#     690 else:\n",
    "#     691     save(func)\n",
    "# --> 692     save(args)\n",
    "#     693     write(REDUCE)\n",
    "#     695 if obj is not None:\n",
    "#     696     # If the object is already in the memo, this means it is\n",
    "#     697     # recursive. In this case, throw away everything we put on the\n",
    "#     698     # stack, and fetch the object back from the memo.\n",
    "\n",
    "# File ~\\.pyenv\\pyenv-win\\versions\\3.9.13\\lib\\pickle.py:560, in _Pickler.save(self, obj, save_persistent_id)\n",
    "#     558 f = self.dispatch.get(t)\n",
    "#     559 if f is not None:\n",
    "# --> 560     f(self, obj)  # Call unbound method with explicit self\n",
    "#     561     return\n",
    "#     563 # Check private dispatch table if any, or else\n",
    "#     564 # copyreg.dispatch_table\n",
    "\n",
    "# File ~\\.pyenv\\pyenv-win\\versions\\3.9.13\\lib\\pickle.py:901, in _Pickler.save_tuple(self, obj)\n",
    "#     899 write(MARK)\n",
    "#     900 for element in obj:\n",
    "# --> 901     save(element)\n",
    "#     903 if id(obj) in memo:\n",
    "#     904     # Subtle.  d was not in memo when we entered save_tuple(), so\n",
    "#     905     # the process of saving the tuple's elements must have saved\n",
    "#    (...)\n",
    "#     909     # could have been done in the \"for element\" loop instead, but\n",
    "#     910     # recursive tuples are a rare thing.\n",
    "#     911     get = self.get(memo[id(obj)][0])\n",
    "\n",
    "# File ~\\.pyenv\\pyenv-win\\versions\\3.9.13\\lib\\pickle.py:560, in _Pickler.save(self, obj, save_persistent_id)\n",
    "#     558 f = self.dispatch.get(t)\n",
    "#     559 if f is not None:\n",
    "# --> 560     f(self, obj)  # Call unbound method with explicit self\n",
    "#     561     return\n",
    "#     563 # Check private dispatch table if any, or else\n",
    "#     564 # copyreg.dispatch_table\n",
    "\n",
    "# File k:\\FastSwap\\AppData\\VSCode\\yellow\\.venv_yellow\\lib\\site-packages\\dill\\_dill.py:1251, in save_module_dict(pickler, obj)\n",
    "#    1248     if is_dill(pickler, child=False) and pickler._session:\n",
    "#    1249         # we only care about session the first pass thru\n",
    "#    1250         pickler._first_pass = False\n",
    "# -> 1251     StockPickler.save_dict(pickler, obj)\n",
    "#    1252     log.info(\"# D2\")\n",
    "#    1253 return\n",
    "\n",
    "# File ~\\.pyenv\\pyenv-win\\versions\\3.9.13\\lib\\pickle.py:971, in _Pickler.save_dict(self, obj)\n",
    "#     968     self.write(MARK + DICT)\n",
    "#     970 self.memoize(obj)\n",
    "# --> 971 self._batch_setitems(obj.items())\n",
    "\n",
    "# File ~\\.pyenv\\pyenv-win\\versions\\3.9.13\\lib\\pickle.py:997, in _Pickler._batch_setitems(self, items)\n",
    "#     995     for k, v in tmp:\n",
    "#     996         save(k)\n",
    "# --> 997         save(v)\n",
    "#     998     write(SETITEMS)\n",
    "#     999 elif n:\n",
    "\n",
    "# File ~\\.pyenv\\pyenv-win\\versions\\3.9.13\\lib\\pickle.py:578, in _Pickler.save(self, obj, save_persistent_id)\n",
    "#     576 reduce = getattr(obj, \"__reduce_ex__\", None)\n",
    "#     577 if reduce is not None:\n",
    "# --> 578     rv = reduce(self.proto)\n",
    "#     579 else:\n",
    "#     580     reduce = getattr(obj, \"__reduce__\", None)\n",
    "\n",
    "# TypeError: cannot pickle 'PyQt5.QtCore.pyqtSignal' object"
   ]
  },
  {
   "cell_type": "code",
   "execution_count": null,
   "id": "b5536eb0",
   "metadata": {},
   "outputs": [],
   "source": [
    "# curr_active_pipeline.save_pipeline()"
   ]
  },
  {
   "cell_type": "markdown",
   "id": "a10989b4",
   "metadata": {},
   "source": [
    "#### Get computation times/info:"
   ]
  },
  {
   "cell_type": "code",
   "execution_count": null,
   "id": "f31cab8e",
   "metadata": {},
   "outputs": [],
   "source": [
    "any_most_recent_computation_time, each_epoch_latest_computation_time, each_epoch_each_result_computation_completion_times, (global_computations_latest_computation_time, global_computation_completion_times) = curr_active_pipeline.get_computation_times(debug_print=False)\n",
    "# each_epoch_latest_computation_time\n",
    "# each_epoch_each_result_computation_completion_times\n",
    "# global_computation_completion_times\n",
    "\n",
    "# curr_active_pipeline.get_merged_computation_function_validators()\n",
    "# Get the names of the global and non-global computations:\n",
    "all_validators_dict = curr_active_pipeline.get_merged_computation_function_validators()\n",
    "global_only_validators_dict = {k:v for k, v in all_validators_dict.items() if v.is_global}\n",
    "non_global_only_validators_dict = {k:v for k, v in all_validators_dict.items() if (not v.is_global)}\n",
    "non_global_comp_names: List[str] = [v.short_name for k, v in non_global_only_validators_dict.items() if (not v.short_name.startswith('_DEP'))] # ['firing_rate_trends', 'spike_burst_detection', 'pf_dt_sequential_surprise', 'extended_stats', 'placefield_overlap', 'ratemap_peaks_prominence2d', 'velocity_vs_pf_simplified_count_density', 'EloyAnalysis', '_perform_specific_epochs_decoding', 'recursive_latent_pf_decoding', 'position_decoding_two_step', 'position_decoding', 'lap_direction_determination', 'pfdt_computation', 'pf_computation']\n",
    "global_comp_names: List[str] = [v.short_name for k, v in global_only_validators_dict.items() if (not v.short_name.startswith('_DEP'))] # ['long_short_endcap_analysis', 'long_short_inst_spike_rate_groups', 'long_short_post_decoding', 'jonathan_firing_rate_analysis', 'long_short_fr_indicies_analyses', 'short_long_pf_overlap_analyses', 'long_short_decoding_analyses', 'PBE_stats', 'rank_order_shuffle_analysis', 'directional_decoders_epoch_heuristic_scoring', 'directional_decoders_evaluate_epochs', 'directional_decoders_decode_continuous', 'merged_directional_placefields', 'split_to_directional_laps']\n",
    "\n",
    "# mappings between the long computation function names and their short names:\n",
    "non_global_comp_names_map: Dict[str, str] = {v.computation_fn_name:v.short_name for k, v in non_global_only_validators_dict.items() if (not v.short_name.startswith('_DEP'))}\n",
    "global_comp_names_map: Dict[str, str] = {v.computation_fn_name:v.short_name for k, v in global_only_validators_dict.items() if (not v.short_name.startswith('_DEP'))} # '_perform_long_short_endcap_analysis': 'long_short_endcap_analysis', '_perform_long_short_instantaneous_spike_rate_groups_analysis': 'long_short_inst_spike_rate_groups', ...}\n",
    "\n",
    "# convert long function names to short-names:\n",
    "each_epoch_each_result_computation_completion_times = {an_epoch:{non_global_comp_names_map.get(k, k):v for k,v in a_results_dict.items()} for an_epoch, a_results_dict in each_epoch_each_result_computation_completion_times.items()}\n",
    "global_computation_completion_times = {global_comp_names_map.get(k, k):v for k,v in global_computation_completion_times.items()}\n",
    "\n",
    "each_epoch_each_result_computation_completion_times\n",
    "global_computation_completion_times"
   ]
  },
  {
   "cell_type": "code",
   "execution_count": null,
   "id": "967369f1",
   "metadata": {},
   "outputs": [],
   "source": [
    "from pyphoplacecellanalysis.General.Batch.NonInteractiveProcessing import batch_evaluate_required_computations\n",
    "\n",
    "force_recompute_global = force_reload\n",
    "\n",
    "active_probe_includelist = extended_computations_include_includelist\n",
    "# active_probe_includelist = ['lap_direction_determination']\n",
    "needs_computation_output_dict, valid_computed_results_output_list, remaining_include_function_names = batch_evaluate_required_computations(curr_active_pipeline, include_includelist=active_probe_includelist, include_global_functions=True, fail_on_exception=False, progress_print=True,\n",
    "                                                    force_recompute=force_recompute_global, force_recompute_override_computations_includelist=force_recompute_override_computations_includelist, debug_print=False)\n",
    "needs_computation_output_dict\n",
    "# valid_computed_results_output_list\n",
    "# remaining_include_function_names"
   ]
  },
  {
   "cell_type": "code",
   "execution_count": null,
   "id": "59374622",
   "metadata": {},
   "outputs": [],
   "source": [
    "'lap_direction_determination'"
   ]
  },
  {
   "cell_type": "code",
   "execution_count": null,
   "id": "3799ab99",
   "metadata": {},
   "outputs": [],
   "source": [
    "\n",
    "recompute_earlier_than_date = datetime(2024, 4, 1, 0, 0, 0)\n",
    "recompute_earlier_than_date\n",
    "\n",
    "each_epoch_needing_recompute = [an_epoch for an_epoch, last_computed_datetime in each_epoch_latest_computation_time.items() if (last_computed_datetime < recompute_earlier_than_date)]\n",
    "each_epoch_needing_recompute\n",
    "each_epoch_each_result_needing_recompute = {an_epoch:{a_computation_name:last_computed_datetime for a_computation_name, last_computed_datetime in last_computed_datetimes_dict.items() if (last_computed_datetime < recompute_earlier_than_date)} for an_epoch, last_computed_datetimes_dict in each_epoch_each_result_computation_completion_times.items()}\n",
    "each_epoch_each_result_needing_recompute"
   ]
  },
  {
   "cell_type": "code",
   "execution_count": null,
   "id": "7d7ffa0a",
   "metadata": {},
   "outputs": [],
   "source": [
    "curr_active_pipeline.global_computation_results.computation_times\n",
    "curr_active_pipeline.global_computation_results\n",
    "# curr_active_pipeline.try_load_split_pickled_global_computation_results\n",
    "\n",
    "global_computation_times = deepcopy(curr_active_pipeline.global_computation_results.computation_times.to_dict()) # DynamicParameters({'perform_rank_order_shuffle_analysis': datetime.datetime(2024, 4, 3, 5, 41, 31, 287680), '_decode_continuous_using_directional_decoders': datetime.datetime(2024, 4, 3, 5, 12, 7, 337326), '_perform_long_short_decoding_analyses': datetime.datetime(2024, 4, 3, 5, 43, 10, 361685), '_perform_long_short_pf_overlap_analyses': datetime.datetime(2024, 4, 3, 5, 43, 10, 489296), '_perform_long_short_firing_rate_analyses': datetime.datetime(2024, 4, 3, 5, 45, 3, 73472), '_perform_jonathan_replay_firing_rate_analyses': datetime.datetime(2024, 4, 3, 5, 45, 5, 168790), '_perform_long_short_post_decoding_analysis': datetime.datetime(2024, 2, 16, 18, 13, 4, 734621), '_perform_long_short_endcap_analysis': datetime.datetime(2024, 4, 3, 5, 45, 24, 274261), '_decode_and_evaluate_epochs_using_directional_decoders': datetime.datetime(2024, 4, 3, 5, 14, 37, 935482), '_perform_long_short_instantaneous_spike_rate_groups_analysis': datetime.datetime(2024, 4, 3, 5, 45, 24, 131955), '_split_to_directional_laps': datetime.datetime(2024, 4, 3, 5, 11, 22, 627789), '_build_merged_directional_placefields': datetime.datetime(2024, 4, 3, 5, 11, 28, 376078)})\n",
    "global_computation_times"
   ]
  },
  {
   "cell_type": "markdown",
   "id": "693db067",
   "metadata": {},
   "source": [
    "# Pho Interactive Pipeline Jupyter Widget"
   ]
  },
  {
   "cell_type": "code",
   "execution_count": 10,
   "id": "e275e3bb",
   "metadata": {
    "notebookRunGroups": {
     "groupValue": "1"
    }
   },
   "outputs": [
    {
     "data": {
      "application/vnd.jupyter.widget-view+json": {
       "model_id": "ccb8702dd2194915acaf1b746e4c034e",
       "version_major": 2,
       "version_minor": 0
      },
      "text/plain": [
       "VBox(children=(Box(children=(Label(value='session path:', layout=Layout(width='auto')), HTML(value=\"<b style='font-size: larger;'>W:\\\\Data\\\\KDIBA\\\\gor01\\\\one\\\\2006-6-09_1-22-43\\\\output</b>\", layout=Layout(flex='1 1 auto', margin='2px', width='auto')), Button(button_style='info', description='Copy', icon='clipboard', layout=Layout(flex='0 1 auto', margin='1px', width='auto'), style=ButtonStyle(), tooltip='Copy to Clipboard'), Button(button_style='info', description='Reveal', icon='folder-open-o', layout=Layout(flex='0 1 auto', margin='1px', width='auto'), style=ButtonStyle(), tooltip='Reveal in System Explorer')), layout=Layout(align_items='center', display='flex', flex_flow='row nowrap', justify_content='flex-start', width='70%')), HBox(children=(Button(description='Output Folder', style=ButtonStyle()), Button(description='global pickle', style=ButtonStyle()), Button(description='pipeline pickle', style=ButtonStyle()), Button(description='.h5 export', style=ButtonStyle()), Button(description='TEST - Dialog', style=ButtonStyle()), Button(description='Save Pipeline', style=ButtonStyle()))), HBox(children=(Button(description='Reload display functions...', style=ButtonStyle()), Button(description='Reload computation functions...', style=ButtonStyle()))), ToggleButton(value=True, description='Figures Displaying')))"
      ]
     },
     "execution_count": 10,
     "metadata": {},
     "output_type": "execute_result"
    }
   ],
   "source": [
    "import ipywidgets as widgets\n",
    "from IPython.display import display\n",
    "from pyphocorehelpers.Filesystem.open_in_system_file_manager import reveal_in_system_file_manager\n",
    "from pyphoplacecellanalysis.GUI.IPyWidgets.pipeline_ipywidgets import interactive_pipeline_widget, interactive_pipeline_files\n",
    "\n",
    "_pipeline_jupyter_widget = interactive_pipeline_widget(curr_active_pipeline=curr_active_pipeline)\n",
    "# display(_pipeline_jupyter_widget)\n",
    "_pipeline_jupyter_widget"
   ]
  },
  {
   "cell_type": "markdown",
   "id": "1fe54599",
   "metadata": {},
   "source": [
    "# End Run"
   ]
  },
  {
   "cell_type": "code",
   "execution_count": 11,
   "id": "1a533ba8",
   "metadata": {
    "ExecuteTime": {
     "end_time": "2023-11-16T23:21:40.700275900Z",
     "start_time": "2023-11-16T23:21:40.584273Z"
    },
    "notebookRunGroups": {
     "groupValue": "1"
    }
   },
   "outputs": [
    {
     "data": {
      "text/plain": [
       "(0.0, 1029.316608761903, 1737.1968310000375)"
      ]
     },
     "execution_count": 11,
     "metadata": {},
     "output_type": "execute_result"
    }
   ],
   "source": [
    "# (long_one_step_decoder_1D, short_one_step_decoder_1D), (long_one_step_decoder_2D, short_one_step_decoder_2D) = compute_short_long_constrained_decoders(curr_active_pipeline, recalculate_anyway=True)\n",
    "long_epoch_name, short_epoch_name, global_epoch_name = curr_active_pipeline.find_LongShortGlobal_epoch_names()\n",
    "long_epoch_context, short_epoch_context, global_epoch_context = [curr_active_pipeline.filtered_contexts[a_name] for a_name in (long_epoch_name, short_epoch_name, global_epoch_name)]\n",
    "long_epoch_obj, short_epoch_obj = [Epoch(curr_active_pipeline.sess.epochs.to_dataframe().epochs.label_slice(an_epoch_name.removesuffix('_any'))) for an_epoch_name in [long_epoch_name, short_epoch_name]] #TODO 2023-11-10 20:41: - [ ] Issue with getting actual Epochs from sess.epochs for directional laps: emerges because long_epoch_name: 'maze1_any' and the actual epoch label in curr_active_pipeline.sess.epochs is 'maze1' without the '_any' part.\n",
    "long_session, short_session, global_session = [curr_active_pipeline.filtered_sessions[an_epoch_name] for an_epoch_name in [long_epoch_name, short_epoch_name, global_epoch_name]]\n",
    "long_results, short_results, global_results = [curr_active_pipeline.computation_results[an_epoch_name].computed_data for an_epoch_name in [long_epoch_name, short_epoch_name, global_epoch_name]]\n",
    "long_computation_config, short_computation_config, global_computation_config = [curr_active_pipeline.computation_results[an_epoch_name].computation_config for an_epoch_name in [long_epoch_name, short_epoch_name, global_epoch_name]]\n",
    "long_pf1D, short_pf1D, global_pf1D = long_results.pf1D, short_results.pf1D, global_results.pf1D\n",
    "long_pf2D, short_pf2D, global_pf2D = long_results.pf2D, short_results.pf2D, global_results.pf2D\n",
    "\n",
    "assert short_epoch_obj.n_epochs > 0, f'long_epoch_obj: {long_epoch_obj}, short_epoch_obj: {short_epoch_obj}'\n",
    "assert long_epoch_obj.n_epochs > 0, f'long_epoch_obj: {long_epoch_obj}, short_epoch_obj: {short_epoch_obj}'\n",
    "\n",
    "t_start, t_delta, t_end = curr_active_pipeline.find_LongShortDelta_times()\n",
    "t_start, t_delta, t_end"
   ]
  },
  {
   "cell_type": "code",
   "execution_count": null,
   "id": "a8d0aba1",
   "metadata": {},
   "outputs": [],
   "source": [
    "global_epoch_name"
   ]
  },
  {
   "cell_type": "code",
   "execution_count": null,
   "id": "92b35196",
   "metadata": {},
   "outputs": [],
   "source": [
    "# I have several python variables I want to print: t_start, t_delta, t_end\n",
    "# I want to generate a print statement that explicitly lists the variable name prior to its value like `print(f't_start: {t_start}, t_delta: {t_delta}, t_end: {t_end}')`\n",
    "# Currently I have to t_start, t_delta, t_end\n",
    "curr_active_pipeline.get_session_context()\n",
    "\n",
    "print(f'{curr_active_pipeline.session_name}:\\tt_start: {t_start}, t_delta: {t_delta}, t_end: {t_end}')"
   ]
  },
  {
   "cell_type": "code",
   "execution_count": 12,
   "id": "9071e94f",
   "metadata": {
    "ExecuteTime": {
     "end_time": "2023-11-16T23:21:43.601382Z",
     "start_time": "2023-11-16T23:21:40.702275600Z"
    },
    "notebookRunGroups": {
     "groupValue": "1"
    }
   },
   "outputs": [
    {
     "name": "stdout",
     "output_type": "stream",
     "text": [
      "WARN: 2023-09-28 16:15: - [ ] fix the combination properties. Would work if we directly used the computed _is_L_only and _is_S_only above\n",
      "WARNING: PAPER_FIGURE_figure_1_add_replay_epoch_rasters(...): no user-assigned manually labeled replay epochs. Reeturning all epochs.\n",
      "WARN: 2023-09-28 16:15: - [ ] fix the combination properties. Would work if we directly used the computed _is_L_only and _is_S_only above\n"
     ]
    }
   ],
   "source": [
    "## long_short_decoding_analyses:\n",
    "from attrs import astuple\n",
    "from pyphoplacecellanalysis.General.Pipeline.Stages.ComputationFunctions.MultiContextComputationFunctions.LongShortTrackComputations import LeaveOneOutDecodingAnalysis\n",
    "\n",
    "curr_long_short_decoding_analyses: LeaveOneOutDecodingAnalysis = curr_active_pipeline.global_computation_results.computed_data['long_short_leave_one_out_decoding_analysis']\n",
    "long_one_step_decoder_1D, short_one_step_decoder_1D, long_replays, short_replays, global_replays, long_shared_aclus_only_decoder, short_shared_aclus_only_decoder, shared_aclus, long_short_pf_neurons_diff, n_neurons, long_results_obj, short_results_obj, is_global = curr_long_short_decoding_analyses.long_decoder, curr_long_short_decoding_analyses.short_decoder, curr_long_short_decoding_analyses.long_replays, curr_long_short_decoding_analyses.short_replays, curr_long_short_decoding_analyses.global_replays, curr_long_short_decoding_analyses.long_shared_aclus_only_decoder, curr_long_short_decoding_analyses.short_shared_aclus_only_decoder, curr_long_short_decoding_analyses.shared_aclus, curr_long_short_decoding_analyses.long_short_pf_neurons_diff, curr_long_short_decoding_analyses.n_neurons, curr_long_short_decoding_analyses.long_results_obj, curr_long_short_decoding_analyses.short_results_obj, curr_long_short_decoding_analyses.is_global \n",
    "decoding_time_bin_size = long_one_step_decoder_1D.time_bin_size # 1.0/30.0 # 0.03333333333333333\n",
    "\n",
    "## Get global `long_short_fr_indicies_analysis`:\n",
    "long_short_fr_indicies_analysis_results = curr_active_pipeline.global_computation_results.computed_data['long_short_fr_indicies_analysis']\n",
    "long_laps, long_replays, short_laps, short_replays, global_laps, global_replays = [long_short_fr_indicies_analysis_results[k] for k in ['long_laps', 'long_replays', 'short_laps', 'short_replays', 'global_laps', 'global_replays']]\n",
    "long_short_fr_indicies_df = long_short_fr_indicies_analysis_results['long_short_fr_indicies_df']\n",
    "\n",
    "## Get global 'long_short_post_decoding' results:\n",
    "curr_long_short_post_decoding = curr_active_pipeline.global_computation_results.computed_data['long_short_post_decoding']\n",
    "expected_v_observed_result, curr_long_short_rr = curr_long_short_post_decoding.expected_v_observed_result, curr_long_short_post_decoding.rate_remapping\n",
    "rate_remapping_df, high_remapping_cells_only = curr_long_short_rr.rr_df, curr_long_short_rr.high_only_rr_df\n",
    "Flat_epoch_time_bins_mean, Flat_decoder_time_bin_centers, num_neurons, num_timebins_in_epoch, num_total_flat_timebins, is_short_track_epoch, is_long_track_epoch, short_short_diff, long_long_diff = expected_v_observed_result.Flat_epoch_time_bins_mean, expected_v_observed_result.Flat_decoder_time_bin_centers, expected_v_observed_result.num_neurons, expected_v_observed_result.num_timebins_in_epoch, expected_v_observed_result.num_total_flat_timebins, expected_v_observed_result.is_short_track_epoch, expected_v_observed_result.is_long_track_epoch, expected_v_observed_result.short_short_diff, expected_v_observed_result.long_long_diff\n",
    "\n",
    "jonathan_firing_rate_analysis_result: JonathanFiringRateAnalysisResult = curr_active_pipeline.global_computation_results.computed_data.jonathan_firing_rate_analysis\n",
    "(epochs_df_L, epochs_df_S), (filter_epoch_spikes_df_L, filter_epoch_spikes_df_S), (good_example_epoch_indicies_L, good_example_epoch_indicies_S), (short_exclusive, long_exclusive, BOTH_subset, EITHER_subset, XOR_subset, NEITHER_subset), new_all_aclus_sort_indicies, assigning_epochs_obj = PAPER_FIGURE_figure_1_add_replay_epoch_rasters(curr_active_pipeline)\n",
    "neuron_replay_stats_df, short_exclusive, long_exclusive, BOTH_subset, EITHER_subset, XOR_subset, NEITHER_subset = jonathan_firing_rate_analysis_result.get_cell_track_partitions(frs_index_inclusion_magnitude=0.05)\n",
    "\n",
    "## Update long_exclusive/short_exclusive properties with `long_short_fr_indicies_df`\n",
    "# long_exclusive.refine_exclusivity_by_inst_frs_index(long_short_fr_indicies_df, frs_index_inclusion_magnitude=0.5)\n",
    "# short_exclusive.refine_exclusivity_by_inst_frs_index(long_short_fr_indicies_df, frs_index_inclusion_magnitude=0.5)\n"
   ]
  },
  {
   "cell_type": "code",
   "execution_count": 13,
   "id": "c49f5d4f",
   "metadata": {
    "notebookRunGroups": {
     "groupValue": "1"
    }
   },
   "outputs": [],
   "source": [
    "# Unpack all directional variables:\n",
    "## {\"even\": \"RL\", \"odd\": \"LR\"}\n",
    "long_LR_name, short_LR_name, global_LR_name, long_RL_name, short_RL_name, global_RL_name, long_any_name, short_any_name, global_any_name = ['maze1_odd', 'maze2_odd', 'maze_odd', 'maze1_even', 'maze2_even', 'maze_even', 'maze1_any', 'maze2_any', 'maze_any']\n",
    "\n",
    "# Most popular\n",
    "# long_LR_name, short_LR_name, long_RL_name, short_RL_name, global_any_name\n",
    "\n",
    "# Unpacking for `(long_LR_name, long_RL_name, short_LR_name, short_RL_name)`\n",
    "(long_LR_context, long_RL_context, short_LR_context, short_RL_context) = [curr_active_pipeline.filtered_contexts[a_name] for a_name in (long_LR_name, long_RL_name, short_LR_name, short_RL_name)]\n",
    "long_LR_epochs_obj, long_RL_epochs_obj, short_LR_epochs_obj, short_RL_epochs_obj, global_any_laps_epochs_obj = [curr_active_pipeline.computation_results[an_epoch_name].computation_config.pf_params.computation_epochs for an_epoch_name in (long_LR_name, long_RL_name, short_LR_name, short_RL_name, global_any_name)] # note has global also\n",
    "(long_LR_session, long_RL_session, short_LR_session, short_RL_session) = [curr_active_pipeline.filtered_sessions[an_epoch_name] for an_epoch_name in (long_LR_name, long_RL_name, short_LR_name, short_RL_name)] # sessions are correct at least, seems like just the computation parameters are messed up\n",
    "(long_LR_results, long_RL_results, short_LR_results, short_RL_results) = [curr_active_pipeline.computation_results[an_epoch_name].computed_data for an_epoch_name in (long_LR_name, long_RL_name, short_LR_name, short_RL_name)]\n",
    "(long_LR_computation_config, long_RL_computation_config, short_LR_computation_config, short_RL_computation_config) = [curr_active_pipeline.computation_results[an_epoch_name].computation_config for an_epoch_name in (long_LR_name, long_RL_name, short_LR_name, short_RL_name)]\n",
    "(long_LR_pf1D, long_RL_pf1D, short_LR_pf1D, short_RL_pf1D) = (long_LR_results.pf1D, long_RL_results.pf1D, short_LR_results.pf1D, short_RL_results.pf1D)\n",
    "(long_LR_pf2D, long_RL_pf2D, short_LR_pf2D, short_RL_pf2D) = (long_LR_results.pf2D, long_RL_results.pf2D, short_LR_results.pf2D, short_RL_results.pf2D)\n",
    "(long_LR_pf1D_Decoder, long_RL_pf1D_Decoder, short_LR_pf1D_Decoder, short_RL_pf1D_Decoder) = (long_LR_results.pf1D_Decoder, long_RL_results.pf1D_Decoder, short_LR_results.pf1D_Decoder, short_RL_results.pf1D_Decoder)\n"
   ]
  },
  {
   "cell_type": "code",
   "execution_count": 14,
   "id": "7104fc37",
   "metadata": {
    "notebookRunGroups": {
     "groupValue": "1"
    }
   },
   "outputs": [
    {
     "name": "stdout",
     "output_type": "stream",
     "text": [
      "minimum_inclusion_fr_Hz: 5.0\n",
      "included_qclu_values: [1, 2]\n"
     ]
    }
   ],
   "source": [
    "from pyphoplacecellanalysis.General.Pipeline.Stages.ComputationFunctions.MultiContextComputationFunctions.DirectionalPlacefieldGlobalComputationFunctions import DirectionalMergedDecodersResult, DirectionalLapsResult, DirectionalDecodersDecodedResult\n",
    "\n",
    "directional_laps_results: DirectionalLapsResult = curr_active_pipeline.global_computation_results.computed_data['DirectionalLaps']\n",
    "directional_merged_decoders_result: DirectionalMergedDecodersResult = curr_active_pipeline.global_computation_results.computed_data['DirectionalMergedDecoders']   \n",
    "rank_order_results: RankOrderComputationsContainer = curr_active_pipeline.global_computation_results.computed_data['RankOrder']\n",
    "minimum_inclusion_fr_Hz: float = rank_order_results.minimum_inclusion_fr_Hz\n",
    "included_qclu_values: float = rank_order_results.included_qclu_values\n",
    "print(f'minimum_inclusion_fr_Hz: {minimum_inclusion_fr_Hz}')\n",
    "print(f'included_qclu_values: {included_qclu_values}')"
   ]
  },
  {
   "cell_type": "code",
   "execution_count": null,
   "id": "93346114",
   "metadata": {},
   "outputs": [],
   "source": [
    "from pyphoplacecellanalysis.General.Batch.BatchJobCompletion.BatchCompletionHandler import BatchSessionCompletionHandler\n",
    "\n",
    "BatchSessionCompletionHandler.post_compute_validate(curr_active_pipeline=curr_active_pipeline)"
   ]
  },
  {
   "cell_type": "code",
   "execution_count": null,
   "id": "0617e7a3",
   "metadata": {},
   "outputs": [],
   "source": [
    "list(directional_laps_results.directional_lap_specific_configs.keys()) # ['maze1_odd', 'maze1_even', 'maze2_odd', 'maze2_even']\n",
    "\n"
   ]
  },
  {
   "cell_type": "code",
   "execution_count": null,
   "id": "912656a7",
   "metadata": {},
   "outputs": [],
   "source": [
    "from pyphoplacecellanalysis.General.Pipeline.Stages.ComputationFunctions.MultiContextComputationFunctions.DirectionalPlacefieldGlobalComputationFunctions import DecoderDecodedEpochsResult\n",
    "\n",
    "directional_decoders_epochs_decode_result: DecoderDecodedEpochsResult = curr_active_pipeline.global_computation_results.computed_data['DirectionalDecodersEpochsEvaluations']\n",
    "\n",
    "## UNPACK HERE via direct property access:\n",
    "pos_bin_size: float = directional_decoders_epochs_decode_result.pos_bin_size\n",
    "ripple_decoding_time_bin_size = directional_decoders_epochs_decode_result.ripple_decoding_time_bin_size\n",
    "laps_decoding_time_bin_size = directional_decoders_epochs_decode_result.laps_decoding_time_bin_size\n",
    "decoder_laps_filter_epochs_decoder_result_dict = directional_decoders_epochs_decode_result.decoder_laps_filter_epochs_decoder_result_dict\n",
    "decoder_ripple_filter_epochs_decoder_result_dict = directional_decoders_epochs_decode_result.decoder_ripple_filter_epochs_decoder_result_dict\n",
    "decoder_laps_radon_transform_df_dict = directional_decoders_epochs_decode_result.decoder_laps_radon_transform_df_dict\n",
    "decoder_ripple_radon_transform_df_dict = directional_decoders_epochs_decode_result.decoder_ripple_radon_transform_df_dict\n",
    "\n",
    "# New items:\n",
    "decoder_laps_radon_transform_extras_dict = directional_decoders_epochs_decode_result.decoder_laps_radon_transform_extras_dict\n",
    "decoder_ripple_radon_transform_extras_dict = directional_decoders_epochs_decode_result.decoder_ripple_radon_transform_extras_dict\n",
    "\n",
    "# Weighted correlations:\n",
    "laps_weighted_corr_merged_df = directional_decoders_epochs_decode_result.laps_weighted_corr_merged_df\n",
    "ripple_weighted_corr_merged_df = directional_decoders_epochs_decode_result.ripple_weighted_corr_merged_df\n",
    "decoder_laps_weighted_corr_df_dict = directional_decoders_epochs_decode_result.decoder_laps_weighted_corr_df_dict\n",
    "decoder_ripple_weighted_corr_df_dict = directional_decoders_epochs_decode_result.decoder_ripple_weighted_corr_df_dict\n",
    "\n",
    "# Pearson's correlations:\n",
    "laps_simple_pf_pearson_merged_df = directional_decoders_epochs_decode_result.laps_simple_pf_pearson_merged_df\n",
    "ripple_simple_pf_pearson_merged_df = directional_decoders_epochs_decode_result.ripple_simple_pf_pearson_merged_df"
   ]
  },
  {
   "cell_type": "code",
   "execution_count": null,
   "id": "06f1c291",
   "metadata": {},
   "outputs": [],
   "source": [
    "decoder_laps_filter_epochs_decoder_result_dict['long_LR'].filter_epochs"
   ]
  },
  {
   "cell_type": "code",
   "execution_count": 15,
   "id": "238f67cb",
   "metadata": {
    "notebookRunGroups": {
     "groupValue": "1"
    }
   },
   "outputs": [
    {
     "name": "stdout",
     "output_type": "stream",
     "text": [
      "previously_decoded time_bin_sizes: [0.025]\n"
     ]
    }
   ],
   "source": [
    "from pyphoplacecellanalysis.General.Pipeline.Stages.ComputationFunctions.MultiContextComputationFunctions.DirectionalPlacefieldGlobalComputationFunctions import DirectionalDecodersDecodedResult\n",
    "\n",
    "if 'DirectionalDecodersDecoded' in curr_active_pipeline.global_computation_results.computed_data:\n",
    "    directional_decoders_decode_result: DirectionalDecodersDecodedResult = curr_active_pipeline.global_computation_results.computed_data['DirectionalDecodersDecoded']\n",
    "    all_directional_pf1D_Decoder_dict: Dict[str, BasePositionDecoder] = directional_decoders_decode_result.pf1D_Decoder_dict\n",
    "    pseudo2D_decoder: BasePositionDecoder = directional_decoders_decode_result.pseudo2D_decoder\n",
    "    spikes_df = directional_decoders_decode_result.spikes_df\n",
    "    continuously_decoded_result_cache_dict = directional_decoders_decode_result.continuously_decoded_result_cache_dict\n",
    "    previously_decoded_keys: List[float] = list(continuously_decoded_result_cache_dict.keys()) # [0.03333]\n",
    "    print(F'previously_decoded time_bin_sizes: {previously_decoded_keys}')\n"
   ]
  },
  {
   "cell_type": "code",
   "execution_count": null,
   "id": "e3ed0870",
   "metadata": {},
   "outputs": [],
   "source": [
    "from pyphoplacecellanalysis.Analysis.Decoder.reconstruction import DecodedFilterEpochsResult\n",
    "\n",
    "\n",
    "most_recent_time_bin_size: float = directional_decoders_decode_result.most_recent_decoding_time_bin_size\n",
    "# most_recent_time_bin_size\n",
    "most_recent_continuously_decoded_dict = deepcopy(directional_decoders_decode_result.most_recent_continuously_decoded_dict)\n",
    "# most_recent_continuously_decoded_dict\n",
    "\n",
    "## Adds in the 'pseudo2D' decoder in:\n",
    "time_bin_size: float = directional_decoders_decode_result.most_recent_decoding_time_bin_size\n",
    "# time_bin_size: float = 0.01\n",
    "print(f'time_bin_size: {time_bin_size}')\n",
    "continuously_decoded_dict = continuously_decoded_result_cache_dict[time_bin_size]\n",
    "pseudo2D_decoder_continuously_decoded_result = continuously_decoded_dict.get('pseudo2D', None)\n",
    "if pseudo2D_decoder_continuously_decoded_result is None:\n",
    "\t# compute here...\n",
    "\t## Currently used for both cases to decode:\n",
    "\tt_start, t_delta, t_end = curr_active_pipeline.find_LongShortDelta_times()\n",
    "\tsingle_global_epoch_df: pd.DataFrame = pd.DataFrame({'start': [t_start], 'stop': [t_end], 'label': [0]}) # Build an Epoch object containing a single epoch, corresponding to the global epoch for the entire session:\n",
    "\tsingle_global_epoch: Epoch = Epoch(single_global_epoch_df)\n",
    "\tspikes_df = directional_decoders_decode_result.spikes_df\n",
    "\tpseudo2D_decoder_continuously_decoded_result: DecodedFilterEpochsResult = pseudo2D_decoder.decode_specific_epochs(spikes_df=deepcopy(spikes_df), filter_epochs=single_global_epoch, decoding_time_bin_size=time_bin_size, debug_print=False)\n",
    "\tcontinuously_decoded_dict['pseudo2D'] = pseudo2D_decoder_continuously_decoded_result\n",
    "\tcontinuously_decoded_dict"
   ]
  },
  {
   "cell_type": "code",
   "execution_count": 16,
   "id": "fa2dc5fe",
   "metadata": {
    "notebookRunGroups": {
     "groupValue": "1"
    }
   },
   "outputs": [],
   "source": [
    "# NEW 2023-11-22 method: Get the templates (which can be filtered by frate first) and the from those get the decoders):        \n",
    "# track_templates: TrackTemplates = directional_laps_results.get_shared_aclus_only_templates(minimum_inclusion_fr_Hz=minimum_inclusion_fr_Hz) # shared-only\n",
    "track_templates: TrackTemplates = directional_laps_results.get_templates(minimum_inclusion_fr_Hz=minimum_inclusion_fr_Hz) # non-shared-only\n",
    "long_LR_decoder, long_RL_decoder, short_LR_decoder, short_RL_decoder = track_templates.get_decoders()\n",
    "\n",
    "# Unpack all directional variables:\n",
    "## {\"even\": \"RL\", \"odd\": \"LR\"}\n",
    "long_LR_name, short_LR_name, global_LR_name, long_RL_name, short_RL_name, global_RL_name, long_any_name, short_any_name, global_any_name = ['maze1_odd', 'maze2_odd', 'maze_odd', 'maze1_even', 'maze2_even', 'maze_even', 'maze1_any', 'maze2_any', 'maze_any']\n",
    "# Unpacking for `(long_LR_name, long_RL_name, short_LR_name, short_RL_name)`\n",
    "(long_LR_context, long_RL_context, short_LR_context, short_RL_context) = [curr_active_pipeline.filtered_contexts[a_name] for a_name in (long_LR_name, long_RL_name, short_LR_name, short_RL_name)]\n",
    "long_LR_epochs_obj, long_RL_epochs_obj, short_LR_epochs_obj, short_RL_epochs_obj, global_any_laps_epochs_obj = [curr_active_pipeline.computation_results[an_epoch_name].computation_config.pf_params.computation_epochs for an_epoch_name in (long_LR_name, long_RL_name, short_LR_name, short_RL_name, global_any_name)] # note has global also\n",
    "(long_LR_session, long_RL_session, short_LR_session, short_RL_session) = [curr_active_pipeline.filtered_sessions[an_epoch_name] for an_epoch_name in (long_LR_name, long_RL_name, short_LR_name, short_RL_name)] # sessions are correct at least, seems like just the computation parameters are messed up\n",
    "(long_LR_results, long_RL_results, short_LR_results, short_RL_results) = [curr_active_pipeline.computation_results[an_epoch_name].computed_data for an_epoch_name in (long_LR_name, long_RL_name, short_LR_name, short_RL_name)]\n",
    "(long_LR_computation_config, long_RL_computation_config, short_LR_computation_config, short_RL_computation_config) = [curr_active_pipeline.computation_results[an_epoch_name].computation_config for an_epoch_name in (long_LR_name, long_RL_name, short_LR_name, short_RL_name)]\n",
    "(long_LR_pf1D, long_RL_pf1D, short_LR_pf1D, short_RL_pf1D) = (long_LR_results.pf1D, long_RL_results.pf1D, short_LR_results.pf1D, short_RL_results.pf1D)\n",
    "(long_LR_pf2D, long_RL_pf2D, short_LR_pf2D, short_RL_pf2D) = (long_LR_results.pf2D, long_RL_results.pf2D, short_LR_results.pf2D, short_RL_results.pf2D)\n",
    "(long_LR_pf1D_Decoder, long_RL_pf1D_Decoder, short_LR_pf1D_Decoder, short_RL_pf1D_Decoder) = (long_LR_results.pf1D_Decoder, long_RL_results.pf1D_Decoder, short_LR_results.pf1D_Decoder, short_RL_results.pf1D_Decoder)\n",
    "\n",
    "# `LongShortStatsItem` form (2024-01-02):\n",
    "# LR_results_real_values = np.array([(a_result_item.long_stats_z_scorer.real_value, a_result_item.short_stats_z_scorer.real_value) for epoch_id, a_result_item in rank_order_results.LR_ripple.ranked_aclus_stats_dict.items()])\n",
    "# RL_results_real_values = np.array([(a_result_item.long_stats_z_scorer.real_value, a_result_item.short_stats_z_scorer.real_value) for epoch_id, a_result_item in rank_order_results.RL_ripple.ranked_aclus_stats_dict.items()])\n",
    "LR_results_long_short_z_diffs = np.array([a_result_item.long_short_z_diff for epoch_id, a_result_item in rank_order_results.LR_ripple.ranked_aclus_stats_dict.items()])\n",
    "RL_results_long_short_z_diff = np.array([a_result_item.long_short_z_diff for epoch_id, a_result_item in rank_order_results.RL_ripple.ranked_aclus_stats_dict.items()])\n"
   ]
  },
  {
   "cell_type": "code",
   "execution_count": 17,
   "id": "c260739a4f36c662",
   "metadata": {
    "notebookRunGroups": {
     "groupValue": "1"
    }
   },
   "outputs": [],
   "source": [
    "from pyphoplacecellanalysis.General.Pipeline.Stages.ComputationFunctions.MultiContextComputationFunctions.DirectionalPlacefieldGlobalComputationFunctions import TrainTestSplitResult\n",
    "\n",
    "directional_train_test_split_result: TrainTestSplitResult = curr_active_pipeline.global_computation_results.computed_data.get('TrainTestSplit', None)\n",
    "training_data_portion: float = directional_train_test_split_result.training_data_portion\n",
    "test_data_portion: float = directional_train_test_split_result.test_data_portion\n",
    "test_epochs_dict: Dict[str, pd.DataFrame] = directional_train_test_split_result.test_epochs_dict\n",
    "train_epochs_dict: Dict[str, pd.DataFrame] = directional_train_test_split_result.train_epochs_dict\n",
    "train_lap_specific_pf1D_Decoder_dict: Dict[str, BasePositionDecoder] = directional_train_test_split_result.train_lap_specific_pf1D_Decoder_dict"
   ]
  },
  {
   "cell_type": "code",
   "execution_count": null,
   "id": "ec18cf18",
   "metadata": {},
   "outputs": [],
   "source": [
    "active_burst_intervals = curr_active_pipeline.computation_results[global_epoch_name].computed_data['burst_detection']['burst_intervals']\n",
    "# active_burst_intervals"
   ]
  },
  {
   "cell_type": "code",
   "execution_count": null,
   "id": "5d31f37d",
   "metadata": {},
   "outputs": [],
   "source": [
    "active_extended_stats = global_results['extended_stats']"
   ]
  },
  {
   "cell_type": "code",
   "execution_count": null,
   "id": "769a1c6006aba5b7",
   "metadata": {},
   "outputs": [],
   "source": [
    "# Relative Entropy/Surprise Results:\n",
    "active_extended_stats = global_results['extended_stats']\n",
    "active_relative_entropy_results = active_extended_stats['pf_dt_sequential_surprise'] # DynamicParameters\n",
    "historical_snapshots = active_relative_entropy_results['historical_snapshots']\n",
    "post_update_times: np.ndarray = active_relative_entropy_results['post_update_times'] # (4152,) = (n_post_update_times,)\n",
    "snapshot_differences_result_dict = active_relative_entropy_results['snapshot_differences_result_dict']\n",
    "time_intervals: np.ndarray = active_relative_entropy_results['time_intervals']\n",
    "surprise_time_bin_duration = (post_update_times[2]-post_update_times[1])\n",
    "long_short_rel_entr_curves_frames: np.ndarray = active_relative_entropy_results['long_short_rel_entr_curves_frames'] # (4152, 108, 63) = (n_post_update_times, n_neurons, n_xbins)\n",
    "short_long_rel_entr_curves_frames: np.ndarray = active_relative_entropy_results['short_long_rel_entr_curves_frames'] # (4152, 108, 63) = (n_post_update_times, n_neurons, n_xbins)\n",
    "flat_relative_entropy_results: np.ndarray = active_relative_entropy_results['flat_relative_entropy_results'] # (149, 63) - (nSnapshots, nXbins)\n",
    "flat_jensen_shannon_distance_results: np.ndarray = active_relative_entropy_results['flat_jensen_shannon_distance_results'] # (149, 63) - (nSnapshots, nXbins)\n",
    "flat_jensen_shannon_distance_across_all_positions: np.ndarray = np.sum(np.abs(flat_jensen_shannon_distance_results), axis=1) # sum across all position bins # (4152,) - (nSnapshots)\n",
    "flat_surprise_across_all_positions: np.ndarray = np.sum(np.abs(flat_relative_entropy_results), axis=1) # sum across all position bins # (4152,) - (nSnapshots)\n",
    "\n",
    "## Get the placefield dt matrix:\n",
    "if 'snapshot_occupancy_weighted_tuning_maps' not in active_relative_entropy_results:\n",
    "\t## Compute it if missing:\n",
    "\toccupancy_weighted_tuning_maps_over_time = np.stack([placefield_snapshot.occupancy_weighted_tuning_maps_matrix for placefield_snapshot in historical_snapshots.values()])\n",
    "\tactive_relative_entropy_results['snapshot_occupancy_weighted_tuning_maps'] = occupancy_weighted_tuning_maps_over_time\n",
    "else:\n",
    "\toccupancy_weighted_tuning_maps_over_time = active_relative_entropy_results['snapshot_occupancy_weighted_tuning_maps'] # (n_post_update_times, n_neurons, n_xbins)\n"
   ]
  },
  {
   "cell_type": "code",
   "execution_count": null,
   "id": "9554d3bf5955d9d3",
   "metadata": {},
   "outputs": [],
   "source": [
    "# Time-dependent\n",
    "long_pf1D_dt, short_pf1D_dt, global_pf1D_dt = long_results.pf1D_dt, short_results.pf1D_dt, global_results.pf1D_dt\n",
    "long_pf2D_dt, short_pf2D_dt, global_pf2D_dt = long_results.pf2D_dt, short_results.pf2D_dt, global_results.pf2D_dt\n",
    "global_pf1D_dt: PfND_TimeDependent = global_results.pf1D_dt\n",
    "global_pf2D_dt: PfND_TimeDependent = global_results.pf2D_dt"
   ]
  },
  {
   "cell_type": "code",
   "execution_count": null,
   "id": "8624c62d5c18c556",
   "metadata": {},
   "outputs": [],
   "source": [
    "## long_short_endcap_analysis: checks for cells localized to the endcaps that have their placefields truncated after shortening the track\n",
    "truncation_checking_result: TruncationCheckingResults = curr_active_pipeline.global_computation_results.computed_data.long_short_endcap\n",
    "disappearing_endcap_aclus = truncation_checking_result.disappearing_endcap_aclus\n",
    "# disappearing_endcap_aclus\n",
    "trivially_remapping_endcap_aclus = truncation_checking_result.minor_remapping_endcap_aclus\n",
    "# trivially_remapping_endcap_aclus\n",
    "significant_distant_remapping_endcap_aclus = truncation_checking_result.significant_distant_remapping_endcap_aclus\n",
    "# significant_distant_remapping_endcap_aclus\n",
    "appearing_aclus = jonathan_firing_rate_analysis_result.neuron_replay_stats_df[jonathan_firing_rate_analysis_result.neuron_replay_stats_df['track_membership'] == SplitPartitionMembership.RIGHT_ONLY].index\n",
    "# appearing_aclus"
   ]
  },
  {
   "cell_type": "markdown",
   "id": "f4ec24467335a760",
   "metadata": {},
   "source": [
    "# POST-Compute:"
   ]
  },
  {
   "cell_type": "code",
   "execution_count": 18,
   "id": "728c46e6",
   "metadata": {
    "notebookRunGroups": {
     "groupValue": "21"
    },
    "tags": [
     "unwrap"
    ]
   },
   "outputs": [
    {
     "name": "stdout",
     "output_type": "stream",
     "text": [
      "minimum_inclusion_fr_Hz: 5.0\n",
      "included_qclu_values: [1, 2]\n",
      "laps_decoding_time_bin_size: 0.2, ripple_decoding_time_bin_size: 0.025\n"
     ]
    }
   ],
   "source": [
    "from pyphoplacecellanalysis.General.Pipeline.Stages.ComputationFunctions.MultiContextComputationFunctions.DirectionalPlacefieldGlobalComputationFunctions import DirectionalPlacefieldGlobalDisplayFunctions\n",
    "from pyphoplacecellanalysis.General.Pipeline.Stages.DisplayFunctions.SpikeRasters import plot_multi_sort_raster_browser\n",
    "from pyphoplacecellanalysis.GUI.PyQtPlot.Widgets.ContainerBased.RankOrderRastersDebugger import RankOrderRastersDebugger\n",
    "\n",
    "from pyphoplacecellanalysis.General.Pipeline.Stages.DisplayFunctions.SpikeRasters import paired_separately_sort_neurons, paired_incremental_sort_neurons # _display_directional_template_debugger\n",
    "from neuropy.utils.indexing_helpers import paired_incremental_sorting, union_of_arrays, intersection_of_arrays, find_desired_sort_indicies\n",
    "from pyphoplacecellanalysis.GUI.Qt.Widgets.ScrollBarWithSpinBox.ScrollBarWithSpinBox import ScrollBarWithSpinBox\n",
    "\n",
    "from neuropy.utils.mixins.HDF5_representable import HDF_SerializationMixin\n",
    "from pyphoplacecellanalysis.General.Model.ComputationResults import ComputedResult\n",
    "from pyphoplacecellanalysis.General.Pipeline.Stages.ComputationFunctions.MultiContextComputationFunctions.DirectionalPlacefieldGlobalComputationFunctions import TrackTemplates\n",
    "from pyphoplacecellanalysis.General.Pipeline.Stages.ComputationFunctions.MultiContextComputationFunctions.RankOrderComputations import RankOrderAnalyses, RankOrderResult, ShuffleHelper, Zscorer, LongShortStatsTuple, DirectionalRankOrderLikelihoods, DirectionalRankOrderResult, RankOrderComputationsContainer\n",
    "from pyphoplacecellanalysis.General.Pipeline.Stages.ComputationFunctions.MultiContextComputationFunctions.RankOrderComputations import TimeColumnAliasesProtocol\n",
    "from pyphoplacecellanalysis.General.Pipeline.Stages.ComputationFunctions.MultiContextComputationFunctions.RankOrderComputations import RankOrderComputationsContainer\n",
    "from pyphoplacecellanalysis.General.Pipeline.Stages.ComputationFunctions.MultiContextComputationFunctions.RankOrderComputations import DirectionalRankOrderResult\n",
    "from pyphoplacecellanalysis.General.Pipeline.Stages.ComputationFunctions.MultiContextComputationFunctions.DirectionalPlacefieldGlobalComputationFunctions import DirectionalMergedDecodersResult\n",
    "\n",
    "## Display Testing\n",
    "# from pyphoplacecellanalysis.External.pyqtgraph import QtGui\n",
    "from pyphoplacecellanalysis.Pho2D.PyQtPlots.Extensions.pyqtgraph_helpers import pyqtplot_build_image_bounds_extent, pyqtplot_plot_image\n",
    "\n",
    "spikes_df = curr_active_pipeline.sess.spikes_df\n",
    "rank_order_results: RankOrderComputationsContainer = curr_active_pipeline.global_computation_results.computed_data['RankOrder']\n",
    "minimum_inclusion_fr_Hz: float = rank_order_results.minimum_inclusion_fr_Hz\n",
    "included_qclu_values: List[int] = rank_order_results.included_qclu_values\n",
    "ripple_result_tuple, laps_result_tuple = rank_order_results.ripple_most_likely_result_tuple, rank_order_results.laps_most_likely_result_tuple\n",
    "directional_laps_results: DirectionalLapsResult = curr_active_pipeline.global_computation_results.computed_data['DirectionalLaps']\n",
    "track_templates: TrackTemplates = directional_laps_results.get_templates(minimum_inclusion_fr_Hz=minimum_inclusion_fr_Hz) # non-shared-only -- !! Is minimum_inclusion_fr_Hz=None the issue/difference?\n",
    "print(f'minimum_inclusion_fr_Hz: {minimum_inclusion_fr_Hz}')\n",
    "print(f'included_qclu_values: {included_qclu_values}')\n",
    "# ripple_result_tuple\n",
    "\n",
    "## Unpacks `rank_order_results`: \n",
    "# global_replays = Epoch(deepcopy(curr_active_pipeline.filtered_sessions[global_epoch_name].replay))\n",
    "# global_replays = TimeColumnAliasesProtocol.renaming_synonym_columns_if_needed(deepcopy(curr_active_pipeline.filtered_sessions[global_epoch_name].replay))\n",
    "# active_replay_epochs, active_epochs_df, active_selected_spikes_df = combine_rank_order_results(rank_order_results, global_replays, track_templates=track_templates)\n",
    "# active_epochs_df\n",
    "\n",
    "# ripple_result_tuple.directional_likelihoods_tuple.long_best_direction_indices\n",
    "dir_index_to_direction_name_map: Dict[int, str] = {0:'LR', 1:\"RL\"}\n",
    "\n",
    "\n",
    "## All three DataFrames are the same number of rows, each with one row corresponding to an Epoch:\n",
    "active_replay_epochs_df = deepcopy(rank_order_results.LR_ripple.epochs_df)\n",
    "# active_replay_epochs_df\n",
    "\n",
    "# Change column type to int8 for columns: 'long_best_direction_indices', 'short_best_direction_indices'\n",
    "# directional_likelihoods_df = pd.DataFrame.from_dict(ripple_result_tuple.directional_likelihoods_tuple._asdict()).astype({'long_best_direction_indices': 'int8', 'short_best_direction_indices': 'int8'})\n",
    "directional_likelihoods_df = ripple_result_tuple.directional_likelihoods_df\n",
    "# directional_likelihoods_df\n",
    "\n",
    "# 2023-12-15 - Newest method:\n",
    "# laps_combined_epoch_stats_df = rank_order_results.laps_combined_epoch_stats_df\n",
    "\n",
    "# ripple_combined_epoch_stats_df: pd.DataFrame  = rank_order_results.ripple_combined_epoch_stats_df\n",
    "# ripple_combined_epoch_stats_df\n",
    "\n",
    "\n",
    "# # Concatenate the three DataFrames along the columns axis:\n",
    "# # Assert that all DataFrames have the same number of rows:\n",
    "# assert len(active_replay_epochs_df) == len(directional_likelihoods_df) == len(ripple_combined_epoch_stats_df), \"DataFrames have different numbers of rows.\"\n",
    "# # Assert that all DataFrames have at least one row:\n",
    "# assert len(active_replay_epochs_df) > 0, \"active_replay_epochs_df is empty.\"\n",
    "# assert len(directional_likelihoods_df) > 0, \"directional_likelihoods_df is empty.\"\n",
    "# assert len(ripple_combined_epoch_stats_df) > 0, \"ripple_combined_epoch_stats_df is empty.\"\n",
    "# merged_complete_epoch_stats_df: pd.DataFrame = pd.concat([active_replay_epochs_df.reset_index(drop=True, inplace=False), directional_likelihoods_df.reset_index(drop=True, inplace=False), ripple_combined_epoch_stats_df.reset_index(drop=True, inplace=False)], axis=1)\n",
    "# merged_complete_epoch_stats_df = merged_complete_epoch_stats_df.set_index(active_replay_epochs_df.index, inplace=False)\n",
    "\n",
    "# merged_complete_epoch_stats_df: pd.DataFrame = rank_order_results.ripple_merged_complete_epoch_stats_df ## New method\n",
    "# merged_complete_epoch_stats_df.to_csv('output/2023-12-21_merged_complete_epoch_stats_df.csv')\n",
    "# merged_complete_epoch_stats_df\n",
    "\n",
    "laps_merged_complete_epoch_stats_df: pd.DataFrame = rank_order_results.laps_merged_complete_epoch_stats_df ## New method\n",
    "ripple_merged_complete_epoch_stats_df: pd.DataFrame = rank_order_results.ripple_merged_complete_epoch_stats_df ## New method\n",
    "\n",
    "# DirectionalMergedDecoders: Get the result after computation:\n",
    "directional_merged_decoders_result: DirectionalMergedDecodersResult = curr_active_pipeline.global_computation_results.computed_data['DirectionalMergedDecoders']\n",
    "\n",
    "all_directional_decoder_dict_value = directional_merged_decoders_result.all_directional_decoder_dict\n",
    "all_directional_pf1D_Decoder_value = directional_merged_decoders_result.all_directional_pf1D_Decoder\n",
    "# long_directional_pf1D_Decoder_value = directional_merged_decoders_result.long_directional_pf1D_Decoder\n",
    "# long_directional_decoder_dict_value = directional_merged_decoders_result.long_directional_decoder_dict\n",
    "# short_directional_pf1D_Decoder_value = directional_merged_decoders_result.short_directional_pf1D_Decoder\n",
    "# short_directional_decoder_dict_value = directional_merged_decoders_result.short_directional_decoder_dict\n",
    "\n",
    "all_directional_laps_filter_epochs_decoder_result_value = directional_merged_decoders_result.all_directional_laps_filter_epochs_decoder_result\n",
    "all_directional_ripple_filter_epochs_decoder_result_value = directional_merged_decoders_result.all_directional_ripple_filter_epochs_decoder_result\n",
    "\n",
    "laps_directional_marginals, laps_directional_all_epoch_bins_marginal, laps_most_likely_direction_from_decoder, laps_is_most_likely_direction_LR_dir  = directional_merged_decoders_result.laps_directional_marginals_tuple\n",
    "laps_track_identity_marginals, laps_track_identity_all_epoch_bins_marginal, laps_most_likely_track_identity_from_decoder, laps_is_most_likely_track_identity_Long = directional_merged_decoders_result.laps_track_identity_marginals_tuple\n",
    "ripple_directional_marginals, ripple_directional_all_epoch_bins_marginal, ripple_most_likely_direction_from_decoder, ripple_is_most_likely_direction_LR_dir  = directional_merged_decoders_result.ripple_directional_marginals_tuple\n",
    "ripple_track_identity_marginals, ripple_track_identity_all_epoch_bins_marginal, ripple_most_likely_track_identity_from_decoder, ripple_is_most_likely_track_identity_Long = directional_merged_decoders_result.ripple_track_identity_marginals_tuple\n",
    "\n",
    "ripple_decoding_time_bin_size: float = directional_merged_decoders_result.ripple_decoding_time_bin_size\n",
    "laps_decoding_time_bin_size: float = directional_merged_decoders_result.laps_decoding_time_bin_size\n",
    "\n",
    "print(f'laps_decoding_time_bin_size: {laps_decoding_time_bin_size}, ripple_decoding_time_bin_size: {ripple_decoding_time_bin_size}')\n",
    "\n",
    "laps_all_epoch_bins_marginals_df = directional_merged_decoders_result.laps_all_epoch_bins_marginals_df\n",
    "ripple_all_epoch_bins_marginals_df = directional_merged_decoders_result.ripple_all_epoch_bins_marginals_df\n"
   ]
  },
  {
   "cell_type": "code",
   "execution_count": 19,
   "id": "753ca336",
   "metadata": {
    "notebookRunGroups": {
     "groupValue": "1"
    }
   },
   "outputs": [
    {
     "name": "stdout",
     "output_type": "stream",
     "text": [
      "len(active_epochs_df): 412\n",
      "min_num_unique_aclu_inclusions: 18\n",
      "len(active_epochs_df): 136\n",
      "df_column_names: [['start', 'stop', 'label', 'duration', 'score', 'velocity', 'intercept', 'speed', 'wcorr', 'P_decoder', 'pearsonr', 'travel', 'coverage', 'jump', 'sequential_correlation', 'monotonicity_score', 'laplacian_smoothness', 'longest_sequence_length', 'longest_sequence_length_ratio', 'direction_change_bin_ratio', 'congruent_dir_bins_ratio', 'total_congruent_direction_change', 'is_user_annotated_epoch', 'is_valid_epoch'], ['start', 'stop', 'label', 'duration', 'score', 'velocity', 'intercept', 'speed', 'wcorr', 'P_decoder', 'pearsonr', 'travel', 'coverage', 'jump', 'sequential_correlation', 'monotonicity_score', 'laplacian_smoothness', 'longest_sequence_length', 'longest_sequence_length_ratio', 'direction_change_bin_ratio', 'congruent_dir_bins_ratio', 'total_congruent_direction_change', 'is_user_annotated_epoch', 'is_valid_epoch'], ['start', 'stop', 'label', 'duration', 'score', 'velocity', 'intercept', 'speed', 'wcorr', 'P_decoder', 'pearsonr', 'travel', 'coverage', 'jump', 'sequential_correlation', 'monotonicity_score', 'laplacian_smoothness', 'longest_sequence_length', 'longest_sequence_length_ratio', 'direction_change_bin_ratio', 'congruent_dir_bins_ratio', 'total_congruent_direction_change', 'is_user_annotated_epoch', 'is_valid_epoch'], ['start', 'stop', 'label', 'duration', 'score', 'velocity', 'intercept', 'speed', 'wcorr', 'P_decoder', 'pearsonr', 'travel', 'coverage', 'jump', 'sequential_correlation', 'monotonicity_score', 'laplacian_smoothness', 'longest_sequence_length', 'longest_sequence_length_ratio', 'direction_change_bin_ratio', 'congruent_dir_bins_ratio', 'total_congruent_direction_change', 'is_user_annotated_epoch', 'is_valid_epoch']]\n"
     ]
    },
    {
     "data": {
      "text/html": [
       "<div>\n",
       "<style scoped>\n",
       "    .dataframe tbody tr th:only-of-type {\n",
       "        vertical-align: middle;\n",
       "    }\n",
       "\n",
       "    .dataframe tbody tr th {\n",
       "        vertical-align: top;\n",
       "    }\n",
       "\n",
       "    .dataframe thead th {\n",
       "        text-align: right;\n",
       "    }\n",
       "</style>\n",
       "<table border=\"1\" class=\"dataframe\">\n",
       "  <thead>\n",
       "    <tr style=\"text-align: right;\">\n",
       "      <th></th>\n",
       "      <th>start</th>\n",
       "      <th>stop</th>\n",
       "      <th>label</th>\n",
       "      <th>duration</th>\n",
       "      <th>n_unique_aclus</th>\n",
       "    </tr>\n",
       "  </thead>\n",
       "  <tbody>\n",
       "    <tr>\n",
       "      <th>0</th>\n",
       "      <td>105.400143</td>\n",
       "      <td>105.562560</td>\n",
       "      <td>8</td>\n",
       "      <td>0.162417</td>\n",
       "      <td>26</td>\n",
       "    </tr>\n",
       "    <tr>\n",
       "      <th>1</th>\n",
       "      <td>132.511389</td>\n",
       "      <td>132.791003</td>\n",
       "      <td>17</td>\n",
       "      <td>0.279613</td>\n",
       "      <td>33</td>\n",
       "    </tr>\n",
       "    <tr>\n",
       "      <th>2</th>\n",
       "      <td>149.959357</td>\n",
       "      <td>150.254392</td>\n",
       "      <td>28</td>\n",
       "      <td>0.295035</td>\n",
       "      <td>30</td>\n",
       "    </tr>\n",
       "    <tr>\n",
       "      <th>3</th>\n",
       "      <td>191.608560</td>\n",
       "      <td>191.948753</td>\n",
       "      <td>48</td>\n",
       "      <td>0.340193</td>\n",
       "      <td>34</td>\n",
       "    </tr>\n",
       "    <tr>\n",
       "      <th>4</th>\n",
       "      <td>251.416775</td>\n",
       "      <td>251.811957</td>\n",
       "      <td>62</td>\n",
       "      <td>0.395182</td>\n",
       "      <td>23</td>\n",
       "    </tr>\n",
       "    <tr>\n",
       "      <th>5</th>\n",
       "      <td>438.266686</td>\n",
       "      <td>438.448211</td>\n",
       "      <td>87</td>\n",
       "      <td>0.181524</td>\n",
       "      <td>21</td>\n",
       "    </tr>\n",
       "    <tr>\n",
       "      <th>...</th>\n",
       "      <td>...</td>\n",
       "      <td>...</td>\n",
       "      <td>...</td>\n",
       "      <td>...</td>\n",
       "      <td>...</td>\n",
       "    </tr>\n",
       "    <tr>\n",
       "      <th>33</th>\n",
       "      <td>1693.342058</td>\n",
       "      <td>1693.481926</td>\n",
       "      <td>400</td>\n",
       "      <td>0.139868</td>\n",
       "      <td>23</td>\n",
       "    </tr>\n",
       "    <tr>\n",
       "      <th>34</th>\n",
       "      <td>1699.225242</td>\n",
       "      <td>1699.356969</td>\n",
       "      <td>403</td>\n",
       "      <td>0.131727</td>\n",
       "      <td>31</td>\n",
       "    </tr>\n",
       "    <tr>\n",
       "      <th>35</th>\n",
       "      <td>1705.053099</td>\n",
       "      <td>1705.140866</td>\n",
       "      <td>405</td>\n",
       "      <td>0.087767</td>\n",
       "      <td>18</td>\n",
       "    </tr>\n",
       "    <tr>\n",
       "      <th>36</th>\n",
       "      <td>1707.712068</td>\n",
       "      <td>1707.918998</td>\n",
       "      <td>406</td>\n",
       "      <td>0.206930</td>\n",
       "      <td>24</td>\n",
       "    </tr>\n",
       "    <tr>\n",
       "      <th>37</th>\n",
       "      <td>1725.278891</td>\n",
       "      <td>1725.595092</td>\n",
       "      <td>414</td>\n",
       "      <td>0.316201</td>\n",
       "      <td>30</td>\n",
       "    </tr>\n",
       "    <tr>\n",
       "      <th>38</th>\n",
       "      <td>1731.111480</td>\n",
       "      <td>1731.287905</td>\n",
       "      <td>418</td>\n",
       "      <td>0.176425</td>\n",
       "      <td>21</td>\n",
       "    </tr>\n",
       "  </tbody>\n",
       "</table>\n",
       "<p>39 rows × 5 columns</p>\n",
       "</div>"
      ],
      "text/plain": [
       "          start         stop label  duration  n_unique_aclus\n",
       "0    105.400143   105.562560     8  0.162417              26\n",
       "1    132.511389   132.791003    17  0.279613              33\n",
       "2    149.959357   150.254392    28  0.295035              30\n",
       "3    191.608560   191.948753    48  0.340193              34\n",
       "4    251.416775   251.811957    62  0.395182              23\n",
       "5    438.266686   438.448211    87  0.181524              21\n",
       "..          ...          ...   ...       ...             ...\n",
       "33  1693.342058  1693.481926   400  0.139868              23\n",
       "34  1699.225242  1699.356969   403  0.131727              31\n",
       "35  1705.053099  1705.140866   405  0.087767              18\n",
       "36  1707.712068  1707.918998   406  0.206930              24\n",
       "37  1725.278891  1725.595092   414  0.316201              30\n",
       "38  1731.111480  1731.287905   418  0.176425              21\n",
       "\n",
       "[39 rows x 5 columns]"
      ]
     },
     "execution_count": 19,
     "metadata": {},
     "output_type": "execute_result"
    }
   ],
   "source": [
    "from pyphoplacecellanalysis.General.Pipeline.Stages.ComputationFunctions.MultiContextComputationFunctions.DirectionalPlacefieldGlobalComputationFunctions import filter_and_update_epochs_and_spikes\n",
    "# from pyphoplacecellanalysis.SpecificResults.PendingNotebookCode import HeuristicReplayScoring\n",
    "from neuropy.core.epoch import find_data_indicies_from_epoch_times\n",
    "from pyphoplacecellanalysis.SpecificResults.PendingNotebookCode import _perform_filter_replay_epochs\n",
    "\n",
    "filtered_epochs_df, filtered_decoder_filter_epochs_decoder_result_dict, filtered_ripple_all_epoch_bins_marginals_df = _perform_filter_replay_epochs(curr_active_pipeline, global_epoch_name, track_templates, decoder_ripple_filter_epochs_decoder_result_dict, ripple_all_epoch_bins_marginals_df, ripple_decoding_time_bin_size=ripple_decoding_time_bin_size)\n",
    "filtered_epochs_df\n",
    "# filtered_ripple_all_epoch_bins_marginals_df"
   ]
  },
  {
   "cell_type": "markdown",
   "id": "1ae6e077",
   "metadata": {},
   "source": [
    "### 2024-02-29 - 4pm - Filter the events for those meeting wcorr criteria:\n"
   ]
  },
  {
   "cell_type": "code",
   "execution_count": null,
   "id": "3ec8cd0c",
   "metadata": {},
   "outputs": [],
   "source": [
    "min_wcorr_threshold: float = 0.33\n",
    "min_wcorr_diff_threshold: float = 0.2\n",
    "\n",
    "is_included_large_wcorr_diff = np.any((filtered_ripple_all_epoch_bins_marginals_df[['wcorr_abs_diff']].abs() > min_wcorr_diff_threshold), axis=1)\n",
    "# is_included_large_wcorr_diff\n",
    "is_included_high_wcorr = np.any((filtered_ripple_all_epoch_bins_marginals_df[['long_best_wcorr', 'short_best_wcorr']].abs() > min_wcorr_threshold), axis=1)\n",
    "\n",
    "df = filtered_ripple_all_epoch_bins_marginals_df[is_included_large_wcorr_diff]\n",
    "# df = filtered_ripple_all_epoch_bins_marginals_df[is_included_high_wcorr]\n",
    "df\n",
    "\n",
    "# delta_aligned_start_t\n",
    "\n",
    "significant_epochs_start_ts = np.squeeze(df['ripple_start_t'].to_numpy()) ## for filtering\n",
    "\n",
    "filtered_decoder_filter_epochs_decoder_result_dict: Dict[str, DecodedFilterEpochsResult] = {a_name:a_result.filtered_by_epoch_times(significant_epochs_start_ts) for a_name, a_result in filtered_decoder_filter_epochs_decoder_result_dict.items()} # working filtered\n",
    "filtered_decoder_filter_epochs_decoder_result_dict\n",
    "filtered_epochs_df = filtered_epochs_df.epochs.matching_epoch_times_slice(significant_epochs_start_ts)\n",
    "# filtered_ripple_all_epoch_bins_marginals_df = filtered_ripple_all_epoch_bins_marginals_df.epochs.matching_epoch_times_slice(significant_epochs_start_ts)\n"
   ]
  },
  {
   "cell_type": "code",
   "execution_count": null,
   "id": "15332e73",
   "metadata": {},
   "outputs": [],
   "source": [
    "included_qclu_values: List[int] = rank_order_results.included_qclu_values\n",
    "included_qclu_values"
   ]
  },
  {
   "cell_type": "code",
   "execution_count": null,
   "id": "35edc67f",
   "metadata": {},
   "outputs": [],
   "source": [
    "import seaborn as sns\n",
    "from pyphoplacecellanalysis.General.Pipeline.Stages.ComputationFunctions.MultiContextComputationFunctions.RankOrderComputations import plot_quantile_diffs\n",
    "\n",
    "_restore_previous_matplotlib_settings_callback = matplotlib_configuration_update(is_interactive=True, backend='Qt5Agg')\n",
    "global_epoch = curr_active_pipeline.filtered_epochs[global_epoch_name]\n",
    "short_epoch = curr_active_pipeline.filtered_epochs[short_epoch_name]\n",
    "split_time_t: float = short_epoch.t_start\n",
    "active_context = curr_active_pipeline.sess.get_context()\n",
    "\n",
    "collector = plot_quantile_diffs(filtered_ripple_all_epoch_bins_marginals_df, t_split=split_time_t, active_context=active_context)\n",
    "\n",
    "\n"
   ]
  },
  {
   "cell_type": "code",
   "execution_count": null,
   "id": "8b53c5af",
   "metadata": {},
   "outputs": [],
   "source": [
    "# ripple_merged_complete_epoch_stats_df\n",
    "laps_merged_complete_epoch_stats_df\n",
    "['long_best_direction_indices', 'short_best_direction_indices', 'combined_best_direction_indicies', 'long_relative_direction_likelihoods', 'short_relative_direction_likelihoods']"
   ]
  },
  {
   "cell_type": "code",
   "execution_count": null,
   "id": "7433b81f",
   "metadata": {},
   "outputs": [],
   "source": [
    "## Find the time series of Long-likely events\n",
    "# type(long_RL_results) # DynamicParameters\n",
    "long_LR_pf1D_Decoder\n",
    "\n"
   ]
  },
  {
   "cell_type": "code",
   "execution_count": null,
   "id": "e8d2363d",
   "metadata": {},
   "outputs": [],
   "source": [
    "type(all_directional_decoder_dict_value)\n",
    "list(all_directional_decoder_dict_value.keys()) # ['long_LR', 'long_RL', 'short_LR', 'short_RL']"
   ]
  },
  {
   "cell_type": "code",
   "execution_count": null,
   "id": "634e6027",
   "metadata": {},
   "outputs": [],
   "source": [
    "laps_all_epoch_bins_marginals_df\n",
    "laps_most_likely_direction_from_decoder\n",
    "long_"
   ]
  },
  {
   "cell_type": "code",
   "execution_count": null,
   "id": "8cdabd71",
   "metadata": {},
   "outputs": [],
   "source": [
    "type(ripple_result_tuple) # pyphoplacecellanalysis.General.Pipeline.Stages.ComputationFunctions.MultiContextComputationFunctions.RankOrderComputations.DirectionalRankOrderResult\n"
   ]
  },
  {
   "cell_type": "code",
   "execution_count": null,
   "id": "8fca534c",
   "metadata": {},
   "outputs": [],
   "source": [
    "assert isinstance(ripple_result_tuple, DirectionalRankOrderResult) \n",
    "\n",
    "ripple_result_tuple.plot_histograms(num='test')"
   ]
  },
  {
   "cell_type": "code",
   "execution_count": null,
   "id": "15629dae",
   "metadata": {},
   "outputs": [],
   "source": [
    "from pyphoplacecellanalysis.General.Pipeline.Stages.ComputationFunctions.MultiContextComputationFunctions.RankOrderComputations import DirectionalRankOrderResult\n",
    "from pyphocorehelpers.DataStructure.RenderPlots.MatplotLibRenderPlots import MatplotlibRenderPlots \n",
    "\n",
    "# @register_type_display(DirectionalRankOrderResult)\n",
    "def plot_histograms(self: DirectionalRankOrderResult, **kwargs) -> \"MatplotlibRenderPlots\":\n",
    "\t\"\"\" \n",
    "\tnum='RipplesRankOrderZscore'\n",
    "\t\"\"\"\n",
    "\tprint(f'.plot_histograms(..., kwargs: {kwargs})')\n",
    "\tfig = plt.figure(layout=\"constrained\", **kwargs)\n",
    "\tax_dict = fig.subplot_mosaic(\n",
    "\t\t[\n",
    "\t\t\t[\"long_short_best_z_score_diff\", \"long_short_best_z_score_diff\"],\n",
    "\t\t\t[\"long_best_z_scores\", \"short_best_z_scores\"],\n",
    "\t\t],\n",
    "\t)\n",
    "\tplots = (pd.DataFrame({'long_best_z_scores': self.long_best_dir_z_score_values}).hist(ax=ax_dict['long_best_z_scores'], bins=21, alpha=0.8),\n",
    "\t\tpd.DataFrame({'short_best_z_scores': self.short_best_dir_z_score_values}).hist(ax=ax_dict['short_best_z_scores'], bins=21, alpha=0.8),\n",
    "\t\tpd.DataFrame({'long_short_best_z_score_diff': self.long_short_best_dir_z_score_diff_values}).hist(ax=ax_dict['long_short_best_z_score_diff'], bins=21, alpha=0.8),\n",
    "\t)\n",
    "\treturn MatplotlibRenderPlots(name='plot_histogram_figure', figures=[fig], axes=ax_dict)\n",
    "\n",
    "\n",
    "register_type_display(plot_histograms, DirectionalRankOrderResult)\n",
    "## Call the newly added `plot_histograms` function on the `ripple_result_tuple` object which is of type `DirectionalRankOrderResult`:\n",
    "assert isinstance(ripple_result_tuple, DirectionalRankOrderResult) \n",
    "ripple_result_tuple.plot_histograms(num='test')"
   ]
  },
  {
   "cell_type": "code",
   "execution_count": null,
   "id": "1c291690",
   "metadata": {},
   "outputs": [],
   "source": [
    "ripple_result_tuple.plot_histograms()"
   ]
  },
  {
   "cell_type": "code",
   "execution_count": null,
   "id": "33b30bcb",
   "metadata": {},
   "outputs": [],
   "source": [
    "# 💾 CSVs \n",
    "print(f'\\t try saving to CSV...')\n",
    "merged_complete_epoch_stats_df = rank_order_results.ripple_merged_complete_epoch_stats_df ## New method\n",
    "merged_complete_epoch_stats_df\n",
    "merged_complete_ripple_epoch_stats_df_output_path = curr_active_pipeline.get_output_path().joinpath(f'{DAY_DATE_TO_USE}_merged_complete_epoch_stats_df.csv').resolve()\n",
    "merged_complete_epoch_stats_df.to_csv(merged_complete_ripple_epoch_stats_df_output_path)\n",
    "print(f'\\t saving to CSV: {merged_complete_ripple_epoch_stats_df_output_path} done.')"
   ]
  },
  {
   "cell_type": "code",
   "execution_count": null,
   "id": "732743e6",
   "metadata": {},
   "outputs": [],
   "source": [
    "ripple_combined_epoch_stats_df = deepcopy(merged_complete_epoch_stats_df)\n",
    "\n",
    "# Filter rows based on columns: 'Long_BestDir_quantile', 'Short_BestDir_quantile'\n",
    "quantile_significance_threshold: float = 0.95\n",
    "significant_BestDir_quantile_stats_df = ripple_combined_epoch_stats_df[(ripple_combined_epoch_stats_df['Long_BestDir_quantile'] > quantile_significance_threshold) | (ripple_combined_epoch_stats_df['Short_BestDir_quantile'] > quantile_significance_threshold)]\n",
    "LR_likely_active_df = ripple_combined_epoch_stats_df[(ripple_combined_epoch_stats_df['combined_best_direction_indicies']==0) & ((ripple_combined_epoch_stats_df['LR_Long_rank_percentile'] > quantile_significance_threshold) | (ripple_combined_epoch_stats_df['LR_Short_rank_percentile'] > quantile_significance_threshold))]\n",
    "RL_likely_active_df = ripple_combined_epoch_stats_df[(ripple_combined_epoch_stats_df['combined_best_direction_indicies']==1) & ((ripple_combined_epoch_stats_df['RL_Long_rank_percentile'] > quantile_significance_threshold) | (ripple_combined_epoch_stats_df['RL_Short_rank_percentile'] > quantile_significance_threshold))]\n",
    "\n",
    "# significant_ripple_combined_epoch_stats_df = ripple_combined_epoch_stats_df[(ripple_combined_epoch_stats_df['LR_Long_rank_percentile'] > quantile_significance_threshold) | (ripple_combined_epoch_stats_df['LR_Short_rank_percentile'] > quantile_significance_threshold) | (ripple_combined_epoch_stats_df['RL_Long_rank_percentile'] > quantile_significance_threshold) | (ripple_combined_epoch_stats_df['RL_Short_rank_percentile'] > quantile_significance_threshold)]\n",
    "# significant_ripple_combined_epoch_stats_df\n",
    "is_epoch_significant = np.isin(ripple_combined_epoch_stats_df.index, significant_BestDir_quantile_stats_df.index)\n",
    "active_replay_epochs_df = rank_order_results.LR_ripple.epochs_df\n",
    "significant_ripple_epochs: Epoch = Epoch(deepcopy(active_replay_epochs_df).epochs.get_valid_df()).boolean_indicies_slice(is_epoch_significant)\n",
    "epoch_identifiers = significant_ripple_epochs._df.label.astype({'label': RankOrderAnalyses._label_column_type}).values #.labels\n",
    "x_values = significant_ripple_epochs.midtimes\n",
    "x_axis_name_suffix = 'Mid-time (Sec)'\n",
    "\n",
    "# significant_ripple_epochs_df = significant_ripple_epochs.to_dataframe()\n",
    "# significant_ripple_epochs_df\n",
    "\n",
    "significant_BestDir_quantile_stats_df['midtimes'] = significant_ripple_epochs.midtimes\n",
    "significant_BestDir_quantile_stats_df\n"
   ]
  },
  {
   "cell_type": "code",
   "execution_count": null,
   "id": "ee47f176",
   "metadata": {},
   "outputs": [],
   "source": [
    "from pyphocorehelpers.indexing_helpers import reorder_columns\n",
    "\n",
    "dict(zip(['Long_LR_evidence', 'Long_RL_evidence', 'Short_LR_evidence', 'Short_RL_evidence'], np.arange(4)+4))\n",
    "reorder_columns(merged_complete_epoch_stats_df, column_name_desired_index_dict=dict(zip(['Long_LR_evidence', 'Long_RL_evidence', 'Short_LR_evidence', 'Short_RL_evidence'], np.arange(4)+4)))\n"
   ]
  },
  {
   "cell_type": "code",
   "execution_count": null,
   "id": "a618ac40",
   "metadata": {},
   "outputs": [],
   "source": [
    "import seaborn as sns\n",
    "from pyphoplacecellanalysis.General.Pipeline.Stages.ComputationFunctions.MultiContextComputationFunctions.RankOrderComputations import plot_quantile_diffs\n",
    "\n",
    "_restore_previous_matplotlib_settings_callback = matplotlib_configuration_update(is_interactive=True, backend='Qt5Agg')\n",
    "global_epoch = curr_active_pipeline.filtered_epochs[global_epoch_name]\n",
    "short_epoch = curr_active_pipeline.filtered_epochs[short_epoch_name]\n",
    "split_time_t: float = short_epoch.t_start\n",
    "active_context = curr_active_pipeline.sess.get_context()\n",
    "\n",
    "collector = plot_quantile_diffs(ripple_merged_complete_epoch_stats_df, t_split=split_time_t, active_context=active_context)\n"
   ]
  },
  {
   "cell_type": "code",
   "execution_count": null,
   "id": "43327521",
   "metadata": {},
   "outputs": [],
   "source": [
    "np.logical_not(np.isnan(rank_order_results.ripple_combined_epoch_stats_df.index).any())\n",
    "# ripple_combined_epoch_stats_df.label.isna()"
   ]
  },
  {
   "cell_type": "code",
   "execution_count": null,
   "id": "bb3c142b",
   "metadata": {},
   "outputs": [],
   "source": [
    "ripple_combined_epoch_stats_df"
   ]
  },
  {
   "cell_type": "code",
   "execution_count": null,
   "id": "4f3cedf8",
   "metadata": {},
   "outputs": [],
   "source": [
    "np.isnan(ripple_combined_epoch_stats_df.label).any()"
   ]
  },
  {
   "cell_type": "code",
   "execution_count": null,
   "id": "31224e10",
   "metadata": {},
   "outputs": [],
   "source": [
    "np.isnan(ripple_combined_epoch_stats_df.index).any()"
   ]
  },
  {
   "cell_type": "code",
   "execution_count": 20,
   "id": "60749347",
   "metadata": {
    "notebookRunGroups": {
     "groupValue": "1"
    }
   },
   "outputs": [
    {
     "name": "stdout",
     "output_type": "stream",
     "text": [
      "\tdone. building global result.\n"
     ]
    }
   ],
   "source": [
    "print(f'\\tdone. building global result.')\n",
    "directional_laps_results: DirectionalLapsResult = curr_active_pipeline.global_computation_results.computed_data['DirectionalLaps']\n",
    "selected_spikes_df = deepcopy(curr_active_pipeline.global_computation_results.computed_data['RankOrder'].LR_ripple.selected_spikes_df)\n",
    "# active_epochs = global_computation_results.computed_data['RankOrder'].ripple_most_likely_result_tuple.active_epochs\n",
    "active_epochs = deepcopy(curr_active_pipeline.global_computation_results.computed_data['RankOrder'].LR_ripple.epochs_df)\n",
    "track_templates = directional_laps_results.get_templates(minimum_inclusion_fr_Hz=minimum_inclusion_fr_Hz)\n"
   ]
  },
  {
   "cell_type": "code",
   "execution_count": null,
   "id": "97ab4052",
   "metadata": {},
   "outputs": [],
   "source": [
    "ripple_combined_epoch_stats_df, ripple_new_output_tuple = RankOrderAnalyses.pandas_df_based_correlation_computations(selected_spikes_df=selected_spikes_df, active_epochs_df=active_epochs, track_templates=track_templates, num_shuffles=100)\n"
   ]
  },
  {
   "cell_type": "code",
   "execution_count": null,
   "id": "313886d9",
   "metadata": {},
   "outputs": [],
   "source": [
    "# new_output_tuple (output_active_epoch_computed_values, valid_stacked_arrays, real_stacked_arrays, n_valid_shuffles) = ripple_new_output_tuple\n",
    "curr_active_pipeline.global_computation_results.computed_data['RankOrder'].ripple_combined_epoch_stats_df, curr_active_pipeline.global_computation_results.computed_data['RankOrder'].ripple_new_output_tuple = ripple_combined_epoch_stats_df, ripple_new_output_tuple\n",
    "print(f'done!')"
   ]
  },
  {
   "cell_type": "markdown",
   "id": "fc018065",
   "metadata": {},
   "source": [
    "# Call perform_sweep_decoding_time_bin_sizes_marginals_dfs_completion_function"
   ]
  },
  {
   "cell_type": "code",
   "execution_count": null,
   "id": "82c6522e",
   "metadata": {
    "notebookRunGroups": {
     "groupValue": ""
    }
   },
   "outputs": [],
   "source": [
    "from attrs import make_class\n",
    "from pyphoplacecellanalysis.General.Batch.BatchJobCompletion.UserCompletionHelpers.batch_user_completion_helpers import perform_sweep_decoding_time_bin_sizes_marginals_dfs_completion_function\n",
    "\n",
    "## Settings:\n",
    "return_full_decoding_results: bool = True\n",
    "desired_shared_decoding_time_bin_sizes = np.linspace(start=0.030, stop=0.5, num=10)\n",
    "save_hdf: bool = False\n",
    "\n",
    "SimpleBatchComputationDummy = make_class('SimpleBatchComputationDummy', attrs=['BATCH_DATE_TO_USE', 'collected_outputs_path'])\n",
    "a_dummy = SimpleBatchComputationDummy(BATCH_DATE_TO_USE, collected_outputs_path)\n",
    "\n",
    "_across_session_results_extended_dict = {}\n",
    "## Combine the output of `perform_sweep_decoding_time_bin_sizes_marginals_dfs_completion_function` into two dataframes for the laps, one per-epoch and one per-time-bin\n",
    "_across_session_results_extended_dict = _across_session_results_extended_dict | perform_sweep_decoding_time_bin_sizes_marginals_dfs_completion_function(a_dummy, None,\n",
    "\t\t\t\t\t\t\t\t\t\t\t\tcurr_session_context=curr_active_pipeline.get_session_context(), curr_session_basedir=curr_active_pipeline.sess.basepath.resolve(), curr_active_pipeline=curr_active_pipeline,\n",
    "\t\t\t\t\t\t\t\t\t\t\t\tacross_session_results_extended_dict=_across_session_results_extended_dict, save_hdf=save_hdf, return_full_decoding_results=return_full_decoding_results,\n",
    "                                                desired_shared_decoding_time_bin_sizes=desired_shared_decoding_time_bin_sizes,\n",
    "                                                )\n",
    "if return_full_decoding_results:\n",
    "    # with `return_full_decoding_results == True`\n",
    "    out_path, output_laps_decoding_accuracy_results_df, output_extracted_result_tuples, combined_multi_timebin_outputs_tuple, output_full_directional_merged_decoders_result = _across_session_results_extended_dict['perform_sweep_decoding_time_bin_sizes_marginals_dfs_completion_function']\n",
    "    # validate the result:\n",
    "    {k:v.all_directional_laps_filter_epochs_decoder_result.decoding_time_bin_size for k,v in output_full_directional_merged_decoders_result.items()}\n",
    "    assert np.all([np.isclose(dict(k)['desired_shared_decoding_time_bin_size'], v.all_directional_laps_filter_epochs_decoder_result.decoding_time_bin_size) for k,v in output_full_directional_merged_decoders_result.items()]), f\"the desired time_bin_size in the parameters should match the one used that will appear in the decoded result\"\n",
    "\n",
    "else:\n",
    "    # with `return_full_decoding_results == False`\n",
    "    out_path, output_laps_decoding_accuracy_results_df, output_extracted_result_tuples, combined_multi_timebin_outputs_tuple = _across_session_results_extended_dict['perform_sweep_decoding_time_bin_sizes_marginals_dfs_completion_function']\n",
    "    output_full_directional_merged_decoders_result = None\n",
    "\n",
    "\n",
    "(several_time_bin_sizes_laps_df, laps_out_path, several_time_bin_sizes_time_bin_laps_df, laps_time_bin_marginals_out_path), (several_time_bin_sizes_ripple_df, ripple_out_path, several_time_bin_sizes_time_bin_ripple_df, ripple_time_bin_marginals_out_path) = combined_multi_timebin_outputs_tuple\n"
   ]
  },
  {
   "cell_type": "code",
   "execution_count": null,
   "id": "d7a3ebcc",
   "metadata": {},
   "outputs": [],
   "source": [
    "output_full_directional_merged_decoders_result"
   ]
  },
  {
   "cell_type": "code",
   "execution_count": null,
   "id": "5b9603a0",
   "metadata": {},
   "outputs": [],
   "source": [
    "# print_keys_if_possible('several_time_bin_sizes_laps_df', several_time_bin_sizes_laps_df)\n",
    "print_keys_if_possible('output_full_directional_merged_decoders_result', output_full_directional_merged_decoders_result)"
   ]
  },
  {
   "cell_type": "code",
   "execution_count": null,
   "id": "09a71abd",
   "metadata": {},
   "outputs": [],
   "source": [
    "# get_file_pat\n",
    "collected_outputs_path"
   ]
  },
  {
   "cell_type": "code",
   "execution_count": null,
   "id": "97c0f606",
   "metadata": {},
   "outputs": [],
   "source": [
    "output_laps_decoding_accuracy_results_df"
   ]
  },
  {
   "cell_type": "code",
   "execution_count": null,
   "id": "dd970d51",
   "metadata": {},
   "outputs": [],
   "source": [
    "import matplotlib.pyplot as plt\n",
    "\n",
    "# def plot_histograms( data_type: str, session_spec: str, data_results_df: pd.DataFrame, time_bin_duration_str: str ) -> None:\n",
    "#     # get the pre-delta epochs\n",
    "#     pre_delta_df = data_results_df[data_results_df['delta_aligned_start_t'] <= 0]\n",
    "#     post_delta_df = data_results_df[data_results_df['delta_aligned_start_t'] > 0]\n",
    "\n",
    "#     descriptor_str: str = '|'.join([data_type, session_spec, time_bin_duration_str])\n",
    "    \n",
    "#     # plot pre-delta histogram\n",
    "#     pre_delta_df.hist(column='P_Long')\n",
    "#     plt.title(f'{descriptor_str} - pre-$\\Delta$ time bins')\n",
    "#     plt.show()\n",
    "\n",
    "#     # plot post-delta histogram\n",
    "#     post_delta_df.hist(column='P_Long')\n",
    "#     plt.title(f'{descriptor_str} - post-$\\Delta$ time bins')\n",
    "#     plt.show()\n",
    "    \n",
    "\n",
    "def plot_histograms(data_type: str, session_spec: str, data_results_df: pd.DataFrame, time_bin_duration_str: str) -> None:\n",
    "    \"\"\" plots a stacked histogram of the many time-bin sizes \"\"\"\n",
    "    # get the pre-delta epochs\n",
    "    pre_delta_df = data_results_df[data_results_df['delta_aligned_start_t'] <= 0]\n",
    "    post_delta_df = data_results_df[data_results_df['delta_aligned_start_t'] > 0]\n",
    "\n",
    "    descriptor_str: str = '|'.join([data_type, session_spec, time_bin_duration_str])\n",
    "    \n",
    "    # plot pre-delta histogram\n",
    "    time_bin_sizes = pre_delta_df['time_bin_size'].unique()\n",
    "    \n",
    "    figure_identifier: str = f\"{descriptor_str}_preDelta\"\n",
    "    plt.figure(num=figure_identifier, clear=True, figsize=(6, 2))\n",
    "    for time_bin_size in time_bin_sizes:\n",
    "        df_tbs = pre_delta_df[pre_delta_df['time_bin_size']==time_bin_size]\n",
    "        df_tbs['P_Long'].hist(alpha=0.5, label=str(time_bin_size)) \n",
    "    \n",
    "    plt.title(f'{descriptor_str} - pre-$\\Delta$ time bins')\n",
    "    plt.legend()\n",
    "    plt.show()\n",
    "\n",
    "    # plot post-delta histogram\n",
    "    time_bin_sizes = post_delta_df['time_bin_size'].unique()\n",
    "    figure_identifier: str = f\"{descriptor_str}_postDelta\"\n",
    "    plt.figure(num=figure_identifier, clear=True, figsize=(6, 2))\n",
    "    for time_bin_size in time_bin_sizes:\n",
    "        df_tbs = post_delta_df[post_delta_df['time_bin_size']==time_bin_size]\n",
    "        df_tbs['P_Long'].hist(alpha=0.5, label=str(time_bin_size)) \n",
    "    \n",
    "    plt.title(f'{descriptor_str} - post-$\\Delta$ time bins')\n",
    "    plt.legend()\n",
    "    plt.show()\n",
    "\n",
    "# # You can use it like this:\n",
    "# plot_histograms('Laps', 'All Sessions', all_sessions_laps_time_bin_df, \"75 ms\")\n",
    "# plot_histograms('Ripples', 'All Sessions', all_sessions_ripple_time_bin_df, \"75 ms\")\n"
   ]
  },
  {
   "cell_type": "code",
   "execution_count": null,
   "id": "49dd6f87",
   "metadata": {},
   "outputs": [],
   "source": [
    "import seaborn as sns\n",
    "# from neuropy.utils.matplotlib_helpers import pho_jointplot\n",
    "from pyphoplacecellanalysis.SpecificResults.PendingNotebookCode import pho_jointplot\n",
    "sns.set_theme(style=\"ticks\")\n",
    "\n",
    "# def pho_jointplot(*args, **kwargs):\n",
    "# \t\"\"\" wraps sns.jointplot to allow adding titles/axis labels/etc.\"\"\"\n",
    "# \ttitle = kwargs.pop('title', None)\n",
    "# \t_out = sns.jointplot(*args, **kwargs)\n",
    "# \tif title is not None:\n",
    "# \t\tplt.suptitle(title)\n",
    "# \treturn _out\n",
    "\n",
    "common_kwargs = dict(ylim=(0,1), hue='time_bin_size') # , marginal_kws=dict(bins=25, fill=True)\n",
    "# sns.jointplot(data=a_laps_all_epoch_bins_marginals_df, x='lap_start_t', y='P_Long', kind=\"scatter\", color=\"#4CB391\")\n",
    "pho_jointplot(data=several_time_bin_sizes_laps_df, x='delta_aligned_start_t', y='P_Long', kind=\"scatter\", **common_kwargs, title='Laps: per epoch') #color=\"#4CB391\")\n",
    "pho_jointplot(data=several_time_bin_sizes_ripple_df, x='delta_aligned_start_t', y='P_Long', kind=\"scatter\", **common_kwargs, title='Ripple: per epoch')\n",
    "pho_jointplot(data=several_time_bin_sizes_time_bin_ripple_df, x='delta_aligned_start_t', y='P_Long', kind=\"scatter\", **common_kwargs, title='Ripple: per time bin')\n",
    "pho_jointplot(data=several_time_bin_sizes_time_bin_laps_df, x='delta_aligned_start_t', y='P_Long', kind=\"scatter\", **common_kwargs, title='Laps: per time bin')"
   ]
  },
  {
   "cell_type": "code",
   "execution_count": null,
   "id": "c43311ee",
   "metadata": {},
   "outputs": [],
   "source": [
    "from pyphoplacecellanalysis.SpecificResults.PendingNotebookCode import plot_histograms\n",
    "\n",
    "# You can use it like this:\n",
    "plot_histograms('Laps', 'One Session', several_time_bin_sizes_time_bin_laps_df, \"several\")\n",
    "plot_histograms('Ripples', 'One Session', several_time_bin_sizes_time_bin_ripple_df, \"several\")"
   ]
  },
  {
   "cell_type": "code",
   "execution_count": null,
   "id": "6a33b924",
   "metadata": {},
   "outputs": [],
   "source": [
    "several_time_bin_sizes_ripple_df"
   ]
  },
  {
   "cell_type": "code",
   "execution_count": null,
   "id": "e102212a",
   "metadata": {},
   "outputs": [],
   "source": [
    "# sns.displot(\n",
    "#     several_time_bin_sizes_laps_df, x=\"P_Long\", col=\"species\", row=\"time_bin_size\",\n",
    "#     binwidth=3, height=3, facet_kws=dict(margin_titles=True),\n",
    "# )\n",
    "\n",
    "sns.displot(\n",
    "    several_time_bin_sizes_laps_df, x='delta_aligned_start_t', y='P_Long', row=\"time_bin_size\",\n",
    "    binwidth=3, height=3, facet_kws=dict(margin_titles=True),\n",
    ")\n"
   ]
  },
  {
   "cell_type": "markdown",
   "id": "be351c18",
   "metadata": {},
   "source": [
    "# 2024-01-31 - Reinvestigation regarding remapping"
   ]
  },
  {
   "cell_type": "code",
   "execution_count": 21,
   "id": "911d7495",
   "metadata": {
    "notebookRunGroups": {
     "groupValue": "1"
    }
   },
   "outputs": [
    {
     "data": {
      "text/plain": [
       "TruncationCheckingResults(_VersionedResultMixin_version='2024.01.10_0', disappearing_endcap_aclus=Int64Index([], dtype='int64'), non_disappearing_endcap_aclus=Int64Index([14, 15, 18, 19, 25, 26, 28, 32, 33, 34, 40, 47, 52, 57, 58, 59, 60, 61, 67, 68, 70, 77, 85, 87, 92, 95, 101, 102], dtype='int64'), significant_distant_remapping_endcap_aclus=Int64Index([14, 25, 47, 58, 61, 70, 77], dtype='int64'), minor_remapping_endcap_aclus=Int64Index([15, 18, 19, 26, 28, 32, 33, 34, 40, 52, 57, 59, 60, 67, 68, 85, 87, 92, 95, 101, 102], dtype='int64'))"
      ]
     },
     "execution_count": 21,
     "metadata": {},
     "output_type": "execute_result"
    }
   ],
   "source": [
    "## long_short_endcap_analysis:\n",
    "truncation_checking_result: TruncationCheckingResults = curr_active_pipeline.global_computation_results.computed_data.long_short_endcap\n",
    "truncation_checking_result"
   ]
  },
  {
   "cell_type": "markdown",
   "id": "1a5d9b54",
   "metadata": {
    "notebookRunGroups": {
     "groupValue": "1"
    }
   },
   "source": [
    "## From Jonathan Long/Short Peaks"
   ]
  },
  {
   "cell_type": "code",
   "execution_count": null,
   "id": "7a3641aa",
   "metadata": {},
   "outputs": [],
   "source": [
    "jonathan_firing_rate_analysis_result: JonathanFiringRateAnalysisResult = curr_active_pipeline.global_computation_results.computed_data.jonathan_firing_rate_analysis\n",
    "neuron_replay_stats_df = deepcopy(jonathan_firing_rate_analysis_result.neuron_replay_stats_df)\n",
    "\n",
    "## try to add the 2D peak information to the cells in `neuron_replay_stats_df`:\n",
    "neuron_replay_stats_df['long_pf2D_peak_x'] = pd.NA\n",
    "neuron_replay_stats_df['short_pf2D_peak_x'] = pd.NA\n",
    "neuron_replay_stats_df['long_pf2D_peak_y'] = pd.NA\n",
    "neuron_replay_stats_df['short_pf2D_peak_y'] = pd.NA\n",
    "\n",
    "# flat_peaks_df: pd.DataFrame = deepcopy(active_peak_prominence_2d_results['flat_peaks_df']).reset_index(drop=True)\n",
    "long_filtered_flat_peaks_df: pd.DataFrame = deepcopy(curr_active_pipeline.computation_results[long_any_name].computed_data['RatemapPeaksAnalysis']['PeakProminence2D']['filtered_flat_peaks_df']).reset_index(drop=True)\n",
    "short_filtered_flat_peaks_df: pd.DataFrame = deepcopy(curr_active_pipeline.computation_results[short_any_name].computed_data['RatemapPeaksAnalysis']['PeakProminence2D']['filtered_flat_peaks_df']).reset_index(drop=True)\n",
    "\n",
    "neuron_replay_stats_df.loc[np.isin(neuron_replay_stats_df['aclu'].to_numpy(), long_filtered_flat_peaks_df.neuron_id.to_numpy()), ['long_pf2D_peak_x', 'long_pf2D_peak_y']] = long_filtered_flat_peaks_df[['peak_center_x', 'peak_center_y']].to_numpy()\n",
    "neuron_replay_stats_df.loc[np.isin(neuron_replay_stats_df['aclu'].to_numpy(), short_filtered_flat_peaks_df.neuron_id.to_numpy()), ['short_pf2D_peak_x', 'short_pf2D_peak_y']] = short_filtered_flat_peaks_df[['peak_center_x', 'peak_center_y']].to_numpy()\n",
    "\n",
    "both_included_neuron_stats_df = deepcopy(neuron_replay_stats_df[neuron_replay_stats_df['LS_pf_peak_x_diff'].notnull()]).drop(columns=['track_membership', 'neuron_type'])\n",
    "both_included_neuron_stats_df\n",
    "# both_included_neuron_stats_df['LS_pf_peak_x_diff'].plot()\n",
    "\n",
    "# both_included_neuron_stats_df['LS_pf_peak_x_diff'].plot()\n",
    "\n",
    "# _out_scatter = sns.scatterplot(both_included_neuron_stats_df, x='LS_pf_peak_x_diff', y='aclu') # , hue='aclu'\n",
    "# _out_scatter.show()\n",
    "# _out_hist = sns.histplot(both_included_neuron_stats_df, x='LS_pf_peak_x_diff', bins=25)\n"
   ]
  },
  {
   "cell_type": "code",
   "execution_count": null,
   "id": "1325198f",
   "metadata": {},
   "outputs": [],
   "source": [
    "type(jonathan_firing_rate_analysis_result) # pyphoplacecellanalysis.General.Pipeline.Stages.ComputationFunctions.MultiContextComputationFunctions.LongShortTrackComputations.JonathanFiringRateAnalysisResult\n",
    "\n",
    "rdf_df: pd.DataFrame = deepcopy(jonathan_firing_rate_analysis_result.rdf.rdf)\n",
    "rdf_df"
   ]
  },
  {
   "cell_type": "code",
   "execution_count": null,
   "id": "d371a5e5",
   "metadata": {},
   "outputs": [],
   "source": [
    "# Save DataFrame to JSON\n",
    "output_path = Path('output/rdf_df.json').resolve()\n",
    "rdf_df.to_json(output_path, orient='records', lines=True) ## This actually looks pretty good!\n",
    "output_path"
   ]
  },
  {
   "cell_type": "code",
   "execution_count": null,
   "id": "41b794a2",
   "metadata": {},
   "outputs": [],
   "source": [
    "join_columns = ['start', 'end']\n",
    "invalid_columns = ['active_aclus', 'is_neuron_active', 'firing_rates']\n",
    "invalid_df_subset = rdf_df[join_columns + invalid_columns]\n",
    "invalid_df_subset\n"
   ]
  },
  {
   "cell_type": "code",
   "execution_count": null,
   "id": "9db8e81a",
   "metadata": {},
   "outputs": [],
   "source": [
    "# Reload DataFrame from JSON\n",
    "df_read: pd.DataFrame = pd.read_json(output_path, orient='records', lines=True)\n",
    "df_read\n"
   ]
  },
  {
   "cell_type": "code",
   "execution_count": null,
   "id": "b6170689",
   "metadata": {},
   "outputs": [],
   "source": [
    "\n",
    "rdf_df.convert_dtypes().dtypes"
   ]
  },
  {
   "cell_type": "code",
   "execution_count": null,
   "id": "429bb6a8",
   "metadata": {},
   "outputs": [],
   "source": [
    "rdf_df.dtypes\n",
    "\n",
    "# firing_rates                            object\n",
    "\n",
    "\n"
   ]
  },
  {
   "cell_type": "code",
   "execution_count": null,
   "id": "9e7b50ca",
   "metadata": {},
   "outputs": [],
   "source": [
    "long_pf_aclus = both_included_neuron_stats_df.aclu[both_included_neuron_stats_df.has_long_pf].to_numpy()\n",
    "short_pf_aclus = both_included_neuron_stats_df.aclu[both_included_neuron_stats_df.has_short_pf].to_numpy()\n",
    "\n",
    "long_pf_aclus, short_pf_aclus"
   ]
  },
  {
   "cell_type": "markdown",
   "id": "7d18cfba",
   "metadata": {},
   "source": [
    "## 2024-02-06 - `directional_compute_trial_by_trial_correlation_matrix`"
   ]
  },
  {
   "cell_type": "code",
   "execution_count": null,
   "id": "c383e8ea",
   "metadata": {
    "notebookRunGroups": {
     "groupValue": ""
    }
   },
   "outputs": [],
   "source": [
    "from neuropy.analyses.time_dependent_placefields import PfND_TimeDependent\n",
    "from pyphoplacecellanalysis.Analysis.reliability import TrialByTrialActivity\n",
    "\n",
    "\n",
    "## INPUTS: curr_active_pipeline, track_templates, global_epoch_name, (long_LR_epochs_obj, long_RL_epochs_obj, short_LR_epochs_obj, short_RL_epochs_obj)\n",
    "any_decoder_neuron_IDs = deepcopy(track_templates.any_decoder_neuron_IDs)\n",
    "any_decoder_neuron_IDs\n",
    "\n",
    "# track_templates.shared_LR_aclus_only_neuron_IDs\n",
    "# track_templates.shared_RL_aclus_only_neuron_IDs\n",
    "\n",
    "## Directional Trial-by-Trial Activity:\n",
    "if 'pf1D_dt' not in curr_active_pipeline.computation_results[global_epoch_name].computed_data:\n",
    "\t# if `KeyError: 'pf1D_dt'` recompute\n",
    "\tcurr_active_pipeline.perform_specific_computation(computation_functions_name_includelist=['pfdt_computation'], enabled_filter_names=None, fail_on_exception=True, debug_print=False)\n",
    "\n",
    "active_pf_1D_dt: PfND_TimeDependent = deepcopy(curr_active_pipeline.computation_results[global_epoch_name].computed_data['pf1D_dt'])\n",
    "active_pf_2D_dt: PfND_TimeDependent = deepcopy(curr_active_pipeline.computation_results[global_epoch_name].computed_data['pf2D_dt'])\n",
    "\n",
    "active_pf_dt: PfND_TimeDependent = deepcopy(active_pf_1D_dt)\n",
    "# active_pf_dt.res\n",
    "# Limit only to the placefield aclus:\n",
    "active_pf_dt = active_pf_dt.get_by_id(ids=any_decoder_neuron_IDs)\n",
    "\n",
    "# active_pf_dt: PfND_TimeDependent = deepcopy(active_pf_2D_dt) # 2D\n",
    "long_LR_name, long_RL_name, short_LR_name, short_RL_name = track_templates.get_decoder_names()\n",
    "\n",
    "directional_lap_epochs_dict = dict(zip((long_LR_name, long_RL_name, short_LR_name, short_RL_name), (long_LR_epochs_obj, long_RL_epochs_obj, short_LR_epochs_obj, short_RL_epochs_obj)))\n",
    "directional_active_lap_pf_results_dicts: Dict[str, TrialByTrialActivity] = TrialByTrialActivity.directional_compute_trial_by_trial_correlation_matrix(active_pf_dt=active_pf_dt, directional_lap_epochs_dict=directional_lap_epochs_dict, included_neuron_IDs=any_decoder_neuron_IDs)"
   ]
  },
  {
   "cell_type": "code",
   "execution_count": 22,
   "id": "a3c34fd9",
   "metadata": {
    "notebookRunGroups": {
     "groupValue": "1"
    }
   },
   "outputs": [
    {
     "data": {
      "text/html": [
       "<div>\n",
       "<style scoped>\n",
       "    .dataframe tbody tr th:only-of-type {\n",
       "        vertical-align: middle;\n",
       "    }\n",
       "\n",
       "    .dataframe tbody tr th {\n",
       "        vertical-align: top;\n",
       "    }\n",
       "\n",
       "    .dataframe thead th {\n",
       "        text-align: right;\n",
       "    }\n",
       "</style>\n",
       "<table border=\"1\" class=\"dataframe\">\n",
       "  <thead>\n",
       "    <tr style=\"text-align: right;\">\n",
       "      <th></th>\n",
       "      <th>aclu</th>\n",
       "      <th>subpeak_idx</th>\n",
       "      <th>long_LR_peak</th>\n",
       "      <th>long_RL_peak</th>\n",
       "      <th>short_LR_peak</th>\n",
       "      <th>short_RL_peak</th>\n",
       "      <th>long_LR_peak_height</th>\n",
       "      <th>long_RL_peak_height</th>\n",
       "      <th>short_LR_peak_height</th>\n",
       "      <th>short_RL_peak_height</th>\n",
       "    </tr>\n",
       "  </thead>\n",
       "  <tbody>\n",
       "    <tr>\n",
       "      <th>0</th>\n",
       "      <td>2</td>\n",
       "      <td>0</td>\n",
       "      <td>NaN</td>\n",
       "      <td>136.018235</td>\n",
       "      <td>NaN</td>\n",
       "      <td>139.823652</td>\n",
       "      <td>NaN</td>\n",
       "      <td>1.000000</td>\n",
       "      <td>NaN</td>\n",
       "      <td>1.000000</td>\n",
       "    </tr>\n",
       "    <tr>\n",
       "      <th>1</th>\n",
       "      <td>2</td>\n",
       "      <td>1</td>\n",
       "      <td>NaN</td>\n",
       "      <td>NaN</td>\n",
       "      <td>NaN</td>\n",
       "      <td>82.742395</td>\n",
       "      <td>NaN</td>\n",
       "      <td>NaN</td>\n",
       "      <td>NaN</td>\n",
       "      <td>0.618361</td>\n",
       "    </tr>\n",
       "    <tr>\n",
       "      <th>2</th>\n",
       "      <td>4</td>\n",
       "      <td>0</td>\n",
       "      <td>155.045320</td>\n",
       "      <td>NaN</td>\n",
       "      <td>155.045320</td>\n",
       "      <td>NaN</td>\n",
       "      <td>1.0</td>\n",
       "      <td>NaN</td>\n",
       "      <td>1.000000</td>\n",
       "      <td>NaN</td>\n",
       "    </tr>\n",
       "    <tr>\n",
       "      <th>3</th>\n",
       "      <td>4</td>\n",
       "      <td>1</td>\n",
       "      <td>NaN</td>\n",
       "      <td>NaN</td>\n",
       "      <td>204.515743</td>\n",
       "      <td>NaN</td>\n",
       "      <td>NaN</td>\n",
       "      <td>NaN</td>\n",
       "      <td>0.323535</td>\n",
       "      <td>NaN</td>\n",
       "    </tr>\n",
       "    <tr>\n",
       "      <th>4</th>\n",
       "      <td>5</td>\n",
       "      <td>0</td>\n",
       "      <td>NaN</td>\n",
       "      <td>155.045320</td>\n",
       "      <td>NaN</td>\n",
       "      <td>147.434486</td>\n",
       "      <td>NaN</td>\n",
       "      <td>1.000000</td>\n",
       "      <td>NaN</td>\n",
       "      <td>1.000000</td>\n",
       "    </tr>\n",
       "    <tr>\n",
       "      <th>5</th>\n",
       "      <td>6</td>\n",
       "      <td>0</td>\n",
       "      <td>NaN</td>\n",
       "      <td>181.683240</td>\n",
       "      <td>NaN</td>\n",
       "      <td>212.126577</td>\n",
       "      <td>NaN</td>\n",
       "      <td>1.000000</td>\n",
       "      <td>NaN</td>\n",
       "      <td>1.000000</td>\n",
       "    </tr>\n",
       "    <tr>\n",
       "      <th>...</th>\n",
       "      <td>...</td>\n",
       "      <td>...</td>\n",
       "      <td>...</td>\n",
       "      <td>...</td>\n",
       "      <td>...</td>\n",
       "      <td>...</td>\n",
       "      <td>...</td>\n",
       "      <td>...</td>\n",
       "      <td>...</td>\n",
       "      <td>...</td>\n",
       "    </tr>\n",
       "    <tr>\n",
       "      <th>171</th>\n",
       "      <td>101</td>\n",
       "      <td>0</td>\n",
       "      <td>231.153663</td>\n",
       "      <td>NaN</td>\n",
       "      <td>200.710326</td>\n",
       "      <td>NaN</td>\n",
       "      <td>1.0</td>\n",
       "      <td>NaN</td>\n",
       "      <td>1.000000</td>\n",
       "      <td>NaN</td>\n",
       "    </tr>\n",
       "    <tr>\n",
       "      <th>172</th>\n",
       "      <td>102</td>\n",
       "      <td>0</td>\n",
       "      <td>NaN</td>\n",
       "      <td>231.153663</td>\n",
       "      <td>NaN</td>\n",
       "      <td>200.710326</td>\n",
       "      <td>NaN</td>\n",
       "      <td>1.000000</td>\n",
       "      <td>NaN</td>\n",
       "      <td>1.000000</td>\n",
       "    </tr>\n",
       "    <tr>\n",
       "      <th>173</th>\n",
       "      <td>102</td>\n",
       "      <td>0</td>\n",
       "      <td>242.569914</td>\n",
       "      <td>NaN</td>\n",
       "      <td>208.321160</td>\n",
       "      <td>NaN</td>\n",
       "      <td>1.0</td>\n",
       "      <td>NaN</td>\n",
       "      <td>1.000000</td>\n",
       "      <td>NaN</td>\n",
       "    </tr>\n",
       "    <tr>\n",
       "      <th>174</th>\n",
       "      <td>104</td>\n",
       "      <td>0</td>\n",
       "      <td>NaN</td>\n",
       "      <td>193.099492</td>\n",
       "      <td>NaN</td>\n",
       "      <td>94.158646</td>\n",
       "      <td>NaN</td>\n",
       "      <td>1.000000</td>\n",
       "      <td>NaN</td>\n",
       "      <td>1.000000</td>\n",
       "    </tr>\n",
       "    <tr>\n",
       "      <th>175</th>\n",
       "      <td>104</td>\n",
       "      <td>1</td>\n",
       "      <td>NaN</td>\n",
       "      <td>56.104475</td>\n",
       "      <td>NaN</td>\n",
       "      <td>147.434486</td>\n",
       "      <td>NaN</td>\n",
       "      <td>0.668107</td>\n",
       "      <td>NaN</td>\n",
       "      <td>0.240141</td>\n",
       "    </tr>\n",
       "    <tr>\n",
       "      <th>176</th>\n",
       "      <td>104</td>\n",
       "      <td>0</td>\n",
       "      <td>158.850737</td>\n",
       "      <td>NaN</td>\n",
       "      <td>151.239903</td>\n",
       "      <td>NaN</td>\n",
       "      <td>1.0</td>\n",
       "      <td>NaN</td>\n",
       "      <td>1.000000</td>\n",
       "      <td>NaN</td>\n",
       "    </tr>\n",
       "  </tbody>\n",
       "</table>\n",
       "<p>177 rows × 10 columns</p>\n",
       "</div>"
      ],
      "text/plain": [
       "     aclu  subpeak_idx  long_LR_peak  long_RL_peak  short_LR_peak  short_RL_peak  long_LR_peak_height  long_RL_peak_height  short_LR_peak_height  short_RL_peak_height\n",
       "0       2            0           NaN    136.018235            NaN     139.823652                  NaN             1.000000                   NaN              1.000000\n",
       "1       2            1           NaN           NaN            NaN      82.742395                  NaN                  NaN                   NaN              0.618361\n",
       "2       4            0    155.045320           NaN     155.045320            NaN                  1.0                  NaN              1.000000                   NaN\n",
       "3       4            1           NaN           NaN     204.515743            NaN                  NaN                  NaN              0.323535                   NaN\n",
       "4       5            0           NaN    155.045320            NaN     147.434486                  NaN             1.000000                   NaN              1.000000\n",
       "5       6            0           NaN    181.683240            NaN     212.126577                  NaN             1.000000                   NaN              1.000000\n",
       "..    ...          ...           ...           ...            ...            ...                  ...                  ...                   ...                   ...\n",
       "171   101            0    231.153663           NaN     200.710326            NaN                  1.0                  NaN              1.000000                   NaN\n",
       "172   102            0           NaN    231.153663            NaN     200.710326                  NaN             1.000000                   NaN              1.000000\n",
       "173   102            0    242.569914           NaN     208.321160            NaN                  1.0                  NaN              1.000000                   NaN\n",
       "174   104            0           NaN    193.099492            NaN      94.158646                  NaN             1.000000                   NaN              1.000000\n",
       "175   104            1           NaN     56.104475            NaN     147.434486                  NaN             0.668107                   NaN              0.240141\n",
       "176   104            0    158.850737           NaN     151.239903            NaN                  1.0                  NaN              1.000000                   NaN\n",
       "\n",
       "[177 rows x 10 columns]"
      ]
     },
     "execution_count": 22,
     "metadata": {},
     "output_type": "execute_result"
    }
   ],
   "source": [
    "\n",
    "decoder_aclu_peak_location_df_merged = deepcopy(track_templates.get_decoders_aclu_peak_location_df(width=None)).drop(columns=['series_idx', 'LR_peak_diff', 'RL_peak_diff'])\n",
    "# decoder_aclu_peak_location_df_merged[np.isin(decoder_aclu_peak_location_df_merged['aclu'], both_included_neuron_stats_df.aclu.to_numpy())]\n",
    "decoder_aclu_peak_location_df_merged\n",
    "\n",
    "## OUTPUTS: directional_lap_epochs_dict, directional_active_lap_pf_results_dicts: Dict[str, TrialByTrialActivity], decoder_aclu_peak_location_df_merged"
   ]
  },
  {
   "cell_type": "code",
   "execution_count": 23,
   "id": "b01804af",
   "metadata": {
    "notebookRunGroups": {
     "groupValue": "1"
    }
   },
   "outputs": [
    {
     "data": {
      "text/html": [
       "<div>\n",
       "<style scoped>\n",
       "    .dataframe tbody tr th:only-of-type {\n",
       "        vertical-align: middle;\n",
       "    }\n",
       "\n",
       "    .dataframe tbody tr th {\n",
       "        vertical-align: top;\n",
       "    }\n",
       "\n",
       "    .dataframe thead th {\n",
       "        text-align: right;\n",
       "    }\n",
       "</style>\n",
       "<table border=\"1\" class=\"dataframe\">\n",
       "  <thead>\n",
       "    <tr style=\"text-align: right;\">\n",
       "      <th></th>\n",
       "      <th>aclu</th>\n",
       "      <th>long_LR_num_peaks</th>\n",
       "      <th>long_RL_num_peaks</th>\n",
       "      <th>short_LR_num_peaks</th>\n",
       "      <th>short_RL_num_peaks</th>\n",
       "    </tr>\n",
       "  </thead>\n",
       "  <tbody>\n",
       "    <tr>\n",
       "      <th>0</th>\n",
       "      <td>2</td>\n",
       "      <td>0</td>\n",
       "      <td>1</td>\n",
       "      <td>0</td>\n",
       "      <td>2</td>\n",
       "    </tr>\n",
       "    <tr>\n",
       "      <th>1</th>\n",
       "      <td>4</td>\n",
       "      <td>1</td>\n",
       "      <td>0</td>\n",
       "      <td>2</td>\n",
       "      <td>0</td>\n",
       "    </tr>\n",
       "    <tr>\n",
       "      <th>2</th>\n",
       "      <td>5</td>\n",
       "      <td>0</td>\n",
       "      <td>1</td>\n",
       "      <td>0</td>\n",
       "      <td>1</td>\n",
       "    </tr>\n",
       "    <tr>\n",
       "      <th>3</th>\n",
       "      <td>6</td>\n",
       "      <td>0</td>\n",
       "      <td>1</td>\n",
       "      <td>0</td>\n",
       "      <td>1</td>\n",
       "    </tr>\n",
       "    <tr>\n",
       "      <th>4</th>\n",
       "      <td>8</td>\n",
       "      <td>0</td>\n",
       "      <td>1</td>\n",
       "      <td>0</td>\n",
       "      <td>2</td>\n",
       "    </tr>\n",
       "    <tr>\n",
       "      <th>5</th>\n",
       "      <td>9</td>\n",
       "      <td>1</td>\n",
       "      <td>1</td>\n",
       "      <td>2</td>\n",
       "      <td>1</td>\n",
       "    </tr>\n",
       "    <tr>\n",
       "      <th>...</th>\n",
       "      <td>...</td>\n",
       "      <td>...</td>\n",
       "      <td>...</td>\n",
       "      <td>...</td>\n",
       "      <td>...</td>\n",
       "    </tr>\n",
       "    <tr>\n",
       "      <th>65</th>\n",
       "      <td>93</td>\n",
       "      <td>2</td>\n",
       "      <td>1</td>\n",
       "      <td>1</td>\n",
       "      <td>1</td>\n",
       "    </tr>\n",
       "    <tr>\n",
       "      <th>66</th>\n",
       "      <td>95</td>\n",
       "      <td>1</td>\n",
       "      <td>0</td>\n",
       "      <td>1</td>\n",
       "      <td>0</td>\n",
       "    </tr>\n",
       "    <tr>\n",
       "      <th>67</th>\n",
       "      <td>98</td>\n",
       "      <td>1</td>\n",
       "      <td>2</td>\n",
       "      <td>1</td>\n",
       "      <td>1</td>\n",
       "    </tr>\n",
       "    <tr>\n",
       "      <th>68</th>\n",
       "      <td>101</td>\n",
       "      <td>1</td>\n",
       "      <td>0</td>\n",
       "      <td>1</td>\n",
       "      <td>2</td>\n",
       "    </tr>\n",
       "    <tr>\n",
       "      <th>69</th>\n",
       "      <td>102</td>\n",
       "      <td>0</td>\n",
       "      <td>1</td>\n",
       "      <td>1</td>\n",
       "      <td>1</td>\n",
       "    </tr>\n",
       "    <tr>\n",
       "      <th>70</th>\n",
       "      <td>104</td>\n",
       "      <td>1</td>\n",
       "      <td>2</td>\n",
       "      <td>1</td>\n",
       "      <td>2</td>\n",
       "    </tr>\n",
       "  </tbody>\n",
       "</table>\n",
       "<p>71 rows × 5 columns</p>\n",
       "</div>"
      ],
      "text/plain": [
       "    aclu  long_LR_num_peaks  long_RL_num_peaks  short_LR_num_peaks  short_RL_num_peaks\n",
       "0      2                  0                  1                   0                   2\n",
       "1      4                  1                  0                   2                   0\n",
       "2      5                  0                  1                   0                   1\n",
       "3      6                  0                  1                   0                   1\n",
       "4      8                  0                  1                   0                   2\n",
       "5      9                  1                  1                   2                   1\n",
       "..   ...                ...                ...                 ...                 ...\n",
       "65    93                  2                  1                   1                   1\n",
       "66    95                  1                  0                   1                   0\n",
       "67    98                  1                  2                   1                   1\n",
       "68   101                  1                  0                   1                   2\n",
       "69   102                  0                  1                   1                   1\n",
       "70   104                  1                  2                   1                   2\n",
       "\n",
       "[71 rows x 5 columns]"
      ]
     },
     "execution_count": 23,
     "metadata": {},
     "output_type": "execute_result"
    }
   ],
   "source": [
    "decoder_aclu_num_peaks_df: pd.DataFrame = track_templates.get_decoders_aclu_num_peaks_df()\n",
    "decoder_aclu_num_peaks_df"
   ]
  },
  {
   "cell_type": "markdown",
   "id": "604b90dc",
   "metadata": {},
   "source": [
    "## 2024-02-08 - Filter to find only the clear remap examples"
   ]
  },
  {
   "cell_type": "code",
   "execution_count": null,
   "id": "4aa2a67a",
   "metadata": {},
   "outputs": [],
   "source": [
    "from pyphoplacecellanalysis.Analysis.reliability import TrialByTrialActivity\n",
    "from pyphocorehelpers.indexing_helpers import dict_to_full_array\n",
    "\n",
    "any_decoder_neuron_IDs = deepcopy(track_templates.any_decoder_neuron_IDs)\n",
    "any_decoder_neuron_IDs"
   ]
  },
  {
   "cell_type": "markdown",
   "id": "eed0cf56",
   "metadata": {},
   "source": [
    "### Get num peaks exclusion:"
   ]
  },
  {
   "cell_type": "code",
   "execution_count": null,
   "id": "30c849dd",
   "metadata": {},
   "outputs": [],
   "source": [
    "neuron_ids_dict = {k:v.neuron_ids for k,v in directional_active_lap_pf_results_dicts.items()}\n",
    "neuron_ids_dict"
   ]
  },
  {
   "cell_type": "markdown",
   "id": "0ec42a8d",
   "metadata": {},
   "source": [
    "### Get stability for each cell"
   ]
  },
  {
   "cell_type": "markdown",
   "id": "6f5ec2d7",
   "metadata": {},
   "source": [
    "#### 2024-02-08 - 3pm - new stability dataframe to look at stability of each cell across decoders\n"
   ]
  },
  {
   "cell_type": "code",
   "execution_count": null,
   "id": "57869e27",
   "metadata": {
    "notebookRunGroups": {
     "groupValue": ""
    }
   },
   "outputs": [],
   "source": [
    "# for k,v in directional_active_lap_pf_results_dicts.items():\n",
    "# stability_dict = {k:v.aclu_to_stability_score_dict for k,v in directional_active_lap_pf_results_dicts.items()}\n",
    "# stability_dict = {k:dict_to_full_array(v.aclu_to_stability_score_dict, full_indicies=any_decoder_neuron_IDs, fill_value=0.0) for k,v in directional_active_lap_pf_results_dicts.items()}\n",
    "# stability_dict\n",
    "\n",
    "\n",
    "# list(stability_dict.values())\n",
    "\n",
    "stability_dict = {k:list(v.aclu_to_stability_score_dict.values()) for k,v in directional_active_lap_pf_results_dicts.items()}\n",
    "# stability_dict\n",
    "## all the same size hopefully!\n",
    "# [len(v) for v in list(stability_dict.values())]\n",
    "\n",
    "stability_df: pd.DataFrame = pd.DataFrame({'aclu': any_decoder_neuron_IDs, **stability_dict})\n",
    "# stability_df.rename(dict(zip([], [])))\n",
    "stability_df\n",
    "\n",
    "## OUTPUTS: stability_df, stability_dict"
   ]
  },
  {
   "cell_type": "markdown",
   "id": "1a3308ff",
   "metadata": {},
   "source": [
    "### Ensure that we're only getting the location of the maximum peak."
   ]
  },
  {
   "cell_type": "code",
   "execution_count": null,
   "id": "c32d1dcd",
   "metadata": {
    "tags": [
     "df_method_bad",
     "bad"
    ]
   },
   "outputs": [],
   "source": [
    "decoder_aclu_MAX_peak_location_df_merged = decoder_aclu_peak_location_df_merged[decoder_aclu_peak_location_df_merged['subpeak_idx'] == 0]\n",
    "decoder_aclu_MAX_peak_location_df_merged\n",
    "# decoder_aclu_MAX_peak_location_df_merged.columns # ['aclu', 'subpeak_idx', 'long_LR_peak', 'long_RL_peak', 'short_LR_peak', 'short_RL_peak', 'long_LR_peak_height', 'long_RL_peak_height', 'short_LR_peak_height', 'short_RL_peak_height', 'LR_peak_diff', 'RL_peak_diff']\n",
    "\n",
    "common_drop_column_names = ['subpeak_idx', 'LR_peak_diff', 'RL_peak_diff']\n",
    "RL_column_names = [col for col in list(decoder_aclu_MAX_peak_location_df_merged.columns) if (str(col).find('RL_') != -1)] # ['long_RL_peak', 'short_RL_peak', 'long_RL_peak_height', 'short_RL_peak_height', 'RL_peak_diff']\n",
    "LR_column_names = [col for col in list(decoder_aclu_MAX_peak_location_df_merged.columns) if (str(col).find('LR_') != -1)] # ['long_LR_peak', 'short_LR_peak', 'long_LR_peak_height', 'short_LR_peak_height', 'LR_peak_diff']\n",
    "\n",
    "LR_only_decoder_aclu_MAX_peak_location_df_merged = decoder_aclu_MAX_peak_location_df_merged.drop(columns=(RL_column_names+common_drop_column_names), inplace=False, errors='ignore').dropna(axis='index')\n",
    "LR_only_decoder_aclu_MAX_peak_location_df_merged\n",
    "\n",
    "\n",
    "## OUTPUTS: decoder_aclu_MAX_peak_location_df_merged, LR_only_decoder_aclu_MAX_peak_location_df_merged, "
   ]
  },
  {
   "cell_type": "code",
   "execution_count": null,
   "id": "57d2bef5",
   "metadata": {},
   "outputs": [],
   "source": [
    "# decoder_aclu_peak_location_df_merged\n",
    "\n",
    "valid_aclus = deepcopy(decoder_aclu_peak_location_df_merged.aclu.unique())\n",
    "peaks_df_subset: pd.DataFrame = decoder_aclu_peak_location_df_merged.copy()\n",
    "\n",
    "# active_IDX = 1\n",
    "\n",
    "import ipywidgets as widgets\n",
    "from IPython.display import display\n",
    "\n",
    "def integer_slider(update_func):\n",
    "    \"\"\" Captures: valid_aclus\n",
    "    \"\"\"\n",
    "    slider = widgets.IntSlider(description='cell_IDX:', min=0, max=len(valid_aclus)-1, value=0)\n",
    "    def on_slider_change(change):\n",
    "        if change['type'] == 'change' and change['name'] == 'value':\n",
    "            # Call the user-provided update function with the current slider index\n",
    "            update_func(change['new'])\n",
    "    slider.observe(on_slider_change)\n",
    "    display(slider)\n",
    "\n",
    "\n",
    "\n",
    "\n",
    "def update_function(index):\n",
    "    \"\"\" Define an update function that will be called with the current slider index \n",
    "    Captures decoder_aclu_peak_location_df_merged, valid_aclus\n",
    "    \"\"\"\n",
    "    global peaks_df_subset\n",
    "    print(f'Slider index: {index}')\n",
    "    active_aclu = int(valid_aclus[int(index)])\n",
    "    peaks_df_subset = decoder_aclu_peak_location_df_merged[decoder_aclu_peak_location_df_merged.aclu == active_aclu].copy()\n",
    "    display(peaks_df_subset)\n",
    "\n",
    "\n",
    "# timebinned_neuron_info = long_results_obj.timebinned_neuron_info\n",
    "# active_fig_obj, update_function = DiagnosticDistanceMetricFigure.build_interactive_diagnostic_distance_metric_figure(long_results_obj, timebinned_neuron_info, result)\n",
    "\n",
    "\n",
    "# Call the integer_slider function with the update function\n",
    "integer_slider(update_function)\n",
    "\n"
   ]
  },
  {
   "cell_type": "code",
   "execution_count": null,
   "id": "539eb198",
   "metadata": {},
   "outputs": [],
   "source": [
    "peaks_df_subset[['long_LR_peak', 'short_LR_peak']]\n",
    "peaks_df_subset[['long_LR_peak_height', 'short_LR_peak_height']]\n",
    "peaks_df_subset['LR_peak_diff']\n",
    "\n",
    "\n",
    "## #TODO 2024-02-16 06:50: - [ ] ERROR discovered in `decoder_aclu_peak_location_df_merged` - the columns 'LR_peak_diff', 'RL_peak_diff' are incorrect as they aren't comparing the maximum peak (supposed to be at `subpeak_idx == 0`, but better given by `height == 1.0`) of long decoder to maximum peak of short. The comparison logic is wrong.\n"
   ]
  },
  {
   "cell_type": "code",
   "execution_count": null,
   "id": "663f287c",
   "metadata": {
    "tags": [
     "good",
     "active",
     "proper"
    ]
   },
   "outputs": [],
   "source": [
    "from pyphocorehelpers.indexing_helpers import NumpyHelpers\n",
    "from neuropy.utils.indexing_helpers import intersection_of_arrays, union_of_arrays\n",
    "from neuropy.utils.indexing_helpers import unwrap_single_item\n",
    "\n",
    "from typing import Dict, List, Tuple, Optional, Callable, Union, Any\n",
    "from typing import NewType\n",
    "from typing_extensions import TypeAlias\n",
    "from nptyping import NDArray\n",
    "import neuropy.utils.type_aliases as types\n",
    "DecoderName = NewType('DecoderName', str)\n",
    "\n",
    "from pyphoplacecellanalysis.SpecificResults.PendingNotebookCode import _get_directional_pf_peaks_dfs\n",
    "\n",
    "LR_only_decoder_aclu_MAX_peak_maps_df, RL_only_decoder_aclu_MAX_peak_maps_df = _get_directional_pf_peaks_dfs(track_templates, drop_aclu_if_missing_long_or_short=True)\n",
    "\n",
    "LR_only_decoder_aclu_MAX_peak_maps_df\n",
    "RL_only_decoder_aclu_MAX_peak_maps_df\n",
    "\n",
    "long_peak_x = LR_only_decoder_aclu_MAX_peak_maps_df['long_LR'].to_numpy()\n",
    "short_peak_x = LR_only_decoder_aclu_MAX_peak_maps_df['short_LR'].to_numpy()\n",
    "peak_x_diff = LR_only_decoder_aclu_MAX_peak_maps_df['peak_diff'].to_numpy()\n",
    "# decoder_aclu_peak_maps_dict\n",
    "\n",
    "\n",
    "## OUTPUTS: LR_only_decoder_aclu_MAX_peak_maps_df, long_peak_x, long_peak_x, peak_x_diff\n",
    "## OUTPUTS: RL_only_decoder_aclu_MAX_peak_maps_df, long_peak_x, long_peak_x, peak_x_diff\n"
   ]
  },
  {
   "cell_type": "code",
   "execution_count": null,
   "id": "fc77c168",
   "metadata": {},
   "outputs": [],
   "source": [
    "# maximal_peak_only_decoder_aclu_peak_location_df_merged = deepcopy(decoder_aclu_peak_location_df_merged)[decoder_aclu_peak_location_df_merged['long_LR_peak_height'] == 1.0]\n",
    "\n",
    "LR_height_column_names = ['long_LR_peak_height', 'short_LR_peak_height']\n",
    "\n",
    "# [decoder_aclu_peak_location_df_merged[a_name] == 1.0 for a_name in LR_height_column_names]\n",
    "\n",
    "LR_max_peak_dfs = [deepcopy(decoder_aclu_peak_location_df_merged)[decoder_aclu_peak_location_df_merged[a_name] == 1.0].drop(columns=['subpeak_idx', 'series_idx', 'LR_peak_diff', 'RL_peak_diff', a_name], errors='ignore') for a_name in LR_height_column_names]\n",
    "\n",
    "aclus_with_LR_peaks = intersection_of_arrays(*[a_df.aclu.unique() for a_df in LR_max_peak_dfs])\n",
    "aclus_with_LR_peaks\n",
    "\n",
    "\n",
    "## Align them now:\n",
    "LR_max_peak_dfs = [a_df[a_df.aclu.isin(aclus_with_LR_peaks)] for a_df in LR_max_peak_dfs]\n",
    "LR_max_peak_dfs\n",
    "\n",
    "# aclus_with_LR_peaks = aclu"
   ]
  },
  {
   "cell_type": "code",
   "execution_count": null,
   "id": "096dda8c",
   "metadata": {},
   "outputs": [],
   "source": [
    "maximal_peak_only_decoder_aclu_peak_location_df_merged = deepcopy(decoder_aclu_peak_location_df_merged)[decoder_aclu_peak_location_df_merged[LR_height_column_names] == 1.0]\n",
    "maximal_peak_only_decoder_aclu_peak_location_df_merged"
   ]
  },
  {
   "cell_type": "markdown",
   "id": "0ef13541",
   "metadata": {},
   "source": [
    "# 2024-02-02 - napari_plot_directional_trial_by_trial_activity_viz Trial-by-trial Correlation Matrix C"
   ]
  },
  {
   "cell_type": "markdown",
   "id": "1ddd735e",
   "metadata": {},
   "source": [
    "### 🎨 Show Trial-by-trial Correlation Matrix C in `napari`"
   ]
  },
  {
   "cell_type": "code",
   "execution_count": null,
   "id": "ad72df59",
   "metadata": {
    "notebookRunGroups": {
     "groupValue": ""
    }
   },
   "outputs": [],
   "source": [
    "import napari\n",
    "# import afinder\n",
    "from pyphoplacecellanalysis.GUI.Napari.napari_helpers import napari_plot_directional_trial_by_trial_activity_viz, napari_trial_by_trial_activity_viz, napari_export_image_sequence\n",
    "\n",
    "## Directional\n",
    "directional_viewer, directional_image_layer_dict, custom_direction_split_layers_dict = napari_plot_directional_trial_by_trial_activity_viz(directional_active_lap_pf_results_dicts, include_trial_by_trial_correlation_matrix=True)"
   ]
  },
  {
   "cell_type": "code",
   "execution_count": null,
   "id": "f9934d4a",
   "metadata": {},
   "outputs": [],
   "source": [
    "## Global:\n",
    "viewer, image_layer_dict = napari_trial_by_trial_activity_viz(z_scored_tuning_map_matrix, C_trial_by_trial_correlation_matrix, title='Trial-by-trial Correlation Matrix C', axis_labels=('aclu', 'lap', 'xbin')) # GLOBAL"
   ]
  },
  {
   "cell_type": "markdown",
   "id": "40b4ec86",
   "metadata": {},
   "source": [
    "# 2023-09-07 - Track Graphics Testing"
   ]
  },
  {
   "cell_type": "code",
   "execution_count": null,
   "id": "07993325",
   "metadata": {},
   "outputs": [],
   "source": [
    "from neuropy.analyses.placefields import compute_grid_bin_bounds\n",
    "from pyphocorehelpers.geometry_helpers import map_value\n",
    "\n",
    "pos_df = deepcopy(global_session.position).to_dataframe()\n",
    "# xlinear = deepcopy(global_session.position.linear_pos_obj.x)\n",
    "xlinear = deepcopy(global_session.position.to_dataframe()['lin_pos'].to_numpy())\n",
    "# xlinear = -1.0 * xlinear # flip over the y-axis first\n",
    "lin_pos_bounds = compute_grid_bin_bounds(xlinear)[0]\n",
    "x_bounds = compute_grid_bin_bounds(pos_df['x'].to_numpy())[0]\n",
    "print(f'lin_pos_bounds: {lin_pos_bounds}, x_bounds: {x_bounds}')\n",
    "xlinear = map_value(xlinear, lin_pos_bounds, x_bounds) # map xlinear from its current bounds range to the xbounds range\n",
    "\n",
    "## Confirmed they match: lin_pos_bounds: (20.53900014070859, 260.280278480539), x_bounds: (20.53900014070859, 260.280278480539)"
   ]
  },
  {
   "cell_type": "markdown",
   "id": "40b53254",
   "metadata": {},
   "source": [
    "## 🔝🖼️🎨 2024-02-16 - NOW - Working Track Remapping Diagram Figure!!"
   ]
  },
  {
   "cell_type": "code",
   "execution_count": 37,
   "id": "89b6d987",
   "metadata": {},
   "outputs": [
    {
     "name": "stdout",
     "output_type": "stream",
     "text": [
      "WARNING: namespace collision in resolve_key! attr with name \"display_fn_name\" already exists and the value differs: existing_value: plot_bidirectional_track_remapping_diagram new_value: plot_quantile_diffs. Using collision_prefix to add new name: \"display_fndisplay_fn_name\"!\n"
     ]
    }
   ],
   "source": [
    "from pyphoplacecellanalysis.Pho2D.track_shape_drawing import plot_bidirectional_track_remapping_diagram\n",
    "\n",
    "collector = plot_bidirectional_track_remapping_diagram(track_templates, grid_bin_bounds=long_pf2D.config.grid_bin_bounds, active_context=curr_active_pipeline.build_display_context_for_session(display_fn_name='plot_bidirectional_track_remapping_diagram'))"
   ]
  },
  {
   "cell_type": "code",
   "execution_count": null,
   "id": "99d1e9ad",
   "metadata": {},
   "outputs": [],
   "source": [
    "curr_active_pipeline.prepare_for_display()\n",
    "curr_active_pipeline.reload_default_display_functions()\n",
    "\n",
    "curr_active_pipeline.display('_display_directional_track_remapping_diagram', save_figure=False)"
   ]
  },
  {
   "cell_type": "code",
   "execution_count": null,
   "id": "f940aa5b",
   "metadata": {},
   "outputs": [],
   "source": [
    "curr_active_pipeline.clear_display_outputs()"
   ]
  },
  {
   "cell_type": "code",
   "execution_count": null,
   "id": "20a9a147",
   "metadata": {},
   "outputs": [],
   "source": [
    "## INPUTS:\n",
    "neuron_replay_stats_df\n",
    "\n",
    "_active_LR_aclus = np.array(list(_output_by_aclu_dict_LR.keys()))\n",
    "_active_LR_aclus\n",
    "\n",
    "is_active_LR_aclus = np.isin(neuron_replay_stats_df.aclu, _active_LR_aclus)\n",
    "_temp_neuron_replay_stats_df = neuron_replay_stats_df[is_active_LR_aclus]\n",
    "\n",
    "is_active_LR_long_peak_either_cap_dict = _temp_neuron_replay_stats_df['is_long_peak_either_cap'].to_dict()\n",
    "is_active_LR_long_peak_either_cap_dict\n",
    "\n",
    "\n",
    "# either_cap_aclu = {k:v for k,v in is_active_LR_long_peak_either_cap_dict.items() if (v is True)}\n",
    "\n",
    "active_LR_either_cap_aclus = np.array([k for k,v in is_active_LR_long_peak_either_cap_dict.items() if (v is True)])\n",
    "active_LR_either_cap_aclus\n"
   ]
  },
  {
   "cell_type": "code",
   "execution_count": null,
   "id": "32dac9ad",
   "metadata": {},
   "outputs": [],
   "source": [
    "# Set Selected ACLUS manually:\n",
    "\n",
    "## `FakePickEvent` is used to highlight specified aclus by emulating a selection event.\n",
    "#  matplotlib.backend_bases.PickEvent\n",
    "import attrs\n",
    "FakePickEvent = attrs.make_class(\"FakePickEvent\", {k:field() for k in (\"ind\", )})\n",
    "\n",
    "included_aclus = [45, 24, 17, 64]"
   ]
  },
  {
   "cell_type": "code",
   "execution_count": null,
   "id": "1689f191",
   "metadata": {},
   "outputs": [],
   "source": [
    "## INPUTS: included_aclus, LR_only_decoder_aclu_MAX_peak_maps_df, RL_only_decoder_aclu_MAX_peak_maps_df, _outputs_tuple_LR, _outputs_tuple_RL\n",
    "included_aclus = active_LR_either_cap_aclus\n",
    "# LR:\n",
    "LR_included_indicies = np.where(np.isin(LR_only_decoder_aclu_MAX_peak_maps_df.index, included_aclus))[0] # LR_included_indicies # [ 6,  9, 22, 36]\n",
    "LR_fake_event: FakePickEvent = FakePickEvent(ind=np.array(LR_included_indicies))\n",
    "_output_dict_LR, _output_by_aclu_dict_LR = _outputs_tuple_LR\n",
    "scatter_select_function_LR = _output_dict_LR['scatter_select_function']\n",
    "scatter_select_function_LR(LR_fake_event)\n",
    "\n",
    "## RL:\n",
    "RL_included_indicies = np.where(np.isin(RL_only_decoder_aclu_MAX_peak_maps_df.index, included_aclus))[0]\n",
    "RL_fake_event: FakePickEvent = FakePickEvent(ind=np.array(RL_included_indicies))\n",
    "_output_dict_RL, _output_by_aclu_dict_RL = _outputs_tuple_RL\n",
    "scatter_select_function_RL = _output_dict_RL['scatter_select_function']\n",
    "scatter_select_function_RL(RL_fake_event)"
   ]
  },
  {
   "cell_type": "markdown",
   "id": "2ee6fcb1",
   "metadata": {},
   "source": [
    "# 🎨 2024-02-06 - Other Plotting"
   ]
  },
  {
   "cell_type": "code",
   "execution_count": 38,
   "id": "5d5623a2",
   "metadata": {
    "notebookRunGroups": {
     "groupValue": "2"
    }
   },
   "outputs": [
    {
     "name": "stderr",
     "output_type": "stream",
     "text": [
      "INFO:2024-05-08_12-05-24.Apogee.pipeline.kdiba.gor01.one.2006-6-09_1-22-43:NeuropyPipeline.on_stage_changed(new_stage=\"PipelineStage.Displayed\")\n"
     ]
    }
   ],
   "source": [
    "from pyphoplacecellanalysis.Pho2D.PyQtPlots.TimeSynchronizedPlotters.TimeSynchronizedPlacefieldsPlotter import TimeSynchronizedPlacefieldsPlotter\n",
    "\n",
    "#  Create a new `SpikeRaster2D` instance using `_display_spike_raster_pyqtplot_2D` and capture its outputs:\n",
    "curr_active_pipeline.reload_default_display_functions()\n",
    "curr_active_pipeline.prepare_for_display()"
   ]
  },
  {
   "cell_type": "code",
   "execution_count": null,
   "id": "685113bf",
   "metadata": {},
   "outputs": [],
   "source": [
    "# Create a new `SpikeRaster2D` instance using `_display_spike_raster_pyqtplot_2D` and capture its outputs:\n",
    "# active_2d_plot, active_3d_plot, spike_raster_window = curr_active_pipeline.plot._display_spike_rasters_pyqtplot_2D()\n",
    "\n",
    "_out_graphics_dict = curr_active_pipeline.display('_display_spike_rasters_pyqtplot_2D', 'maze_any') # 'maze_any'\n",
    "assert isinstance(_out_graphics_dict, dict)\n",
    "active_2d_plot, active_3d_plot, spike_raster_window = _out_graphics_dict['spike_raster_plt_2d'], _out_graphics_dict['spike_raster_plt_3d'], _out_graphics_dict['spike_raster_window']"
   ]
  },
  {
   "cell_type": "code",
   "execution_count": null,
   "id": "30d3db27",
   "metadata": {},
   "outputs": [],
   "source": [
    "add_renderables_menu = active_2d_plot.ui.menus.custom_context_menus.add_renderables[0].programmatic_actions_dict\n",
    "menu_commands = ['AddTimeIntervals.PBEs', 'AddTimeIntervals.Ripples', 'AddTimeIntervals.Replays', 'AddTimeIntervals.Laps', 'AddTimeIntervals.SessionEpochs']\n",
    "for a_command in menu_commands:\n",
    "    add_renderables_menu[a_command].trigger()"
   ]
  },
  {
   "cell_type": "code",
   "execution_count": null,
   "id": "eb5650ac",
   "metadata": {},
   "outputs": [],
   "source": [
    "print(list(add_renderables_menu.keys()))\n"
   ]
  },
  {
   "cell_type": "code",
   "execution_count": null,
   "id": "cb9a83aa",
   "metadata": {},
   "outputs": [],
   "source": [
    "print_keys_if_possible('add_renderables_menu', add_renderables_menu)"
   ]
  },
  {
   "cell_type": "code",
   "execution_count": null,
   "id": "fdfbad2e",
   "metadata": {},
   "outputs": [],
   "source": [
    "# 3d_interactive_tuning_curves_plotter\n",
    "t_start, t_delta, t_end = curr_active_pipeline.find_LongShortDelta_times()\n",
    "active_config_modifiying_kwargs = {\n",
    "    'plotting_config': {'should_use_linear_track_geometry': True, \n",
    "                        't_start': t_start, 't_delta': t_delta, 't_end': t_end,\n",
    "                        }\n",
    "}\n",
    "_out_graphics_dict = curr_active_pipeline.display('_display_3d_interactive_tuning_curves_plotter', active_session_configuration_context=global_epoch_context,\n",
    "                                            active_config_modifiying_kwargs=active_config_modifiying_kwargs,\n",
    "                                            params_kwargs=dict(should_use_linear_track_geometry=True, **{'t_start': t_start, 't_delta': t_delta, 't_end': t_end}),\n",
    "                                           )\n",
    "ipcDataExplorer = _out_graphics_dict['ipcDataExplorer'] # InteractivePlaceCellTuningCurvesDataExplorer \n",
    "p = _out_graphics_dict['plotter']\n",
    "pane = _out_graphics_dict['pane']"
   ]
  },
  {
   "cell_type": "code",
   "execution_count": null,
   "id": "8a16e010",
   "metadata": {},
   "outputs": [],
   "source": [
    "curr_active_pipeline.prepare_for_display()\n",
    "_out = curr_active_pipeline.display(display_function='_display_3d_interactive_spike_and_behavior_browser', active_session_configuration_context=global_epoch_context) # , computation_kwargs_list=[{'laps_decoding_time_bin_size': 0.025}]\n",
    "ipspikesDataExplorer = _out['ipspikesDataExplorer']\n",
    "p = _out['plotter']"
   ]
  },
  {
   "cell_type": "code",
   "execution_count": null,
   "id": "8ccc5550",
   "metadata": {},
   "outputs": [],
   "source": [
    "iplapsDataExplorer"
   ]
  },
  {
   "cell_type": "code",
   "execution_count": null,
   "id": "5e8d3f4b",
   "metadata": {},
   "outputs": [],
   "source": [
    "curr_active_pipeline.prepare_for_display()\n",
    "\n",
    "an_image_file_path = Path('an_image.png').resolve()\n",
    "_out = curr_active_pipeline.display(display_function='_display_3d_image_plotter', active_session_configuration_context=global_epoch_context, image_file=an_image_file_path)\n"
   ]
  },
  {
   "cell_type": "code",
   "execution_count": null,
   "id": "a74ce93e",
   "metadata": {},
   "outputs": [],
   "source": [
    "for a_name, a_config in curr_active_pipeline.active_configs.items():\n",
    "    print(f'a_config.plotting_config.should_use_linear_track_geometry: {a_config.plotting_config.should_use_linear_track_geometry}')\n",
    "    a_config.plotting_config.should_use_linear_track_geometry = True\n",
    "\n"
   ]
  },
  {
   "cell_type": "code",
   "execution_count": null,
   "id": "38d560b4",
   "metadata": {},
   "outputs": [],
   "source": [
    "from pyphoplacecellanalysis.GUI.PyQtPlot.Widgets.ContainerBased.TemplateDebugger import TemplateDebugger\n",
    "\n",
    "\n",
    "_out = TemplateDebugger.init_templates_debugger(track_templates) # , included_any_context_neuron_ids\n"
   ]
  },
  {
   "cell_type": "code",
   "execution_count": null,
   "id": "5a1323cc",
   "metadata": {},
   "outputs": [],
   "source": [
    "from pyphoplacecellanalysis.General.Batch.NonInteractiveProcessing import batch_perform_all_plots\n",
    "\n",
    "\n",
    "_out = batch_perform_all_plots(curr_active_pipeline=curr_active_pipeline, enable_neptune=False)\n"
   ]
  },
  {
   "cell_type": "code",
   "execution_count": null,
   "id": "23611eac",
   "metadata": {},
   "outputs": [],
   "source": [
    "curr_active_pipeline.plot.display_function_items\n",
    "\n",
    "# '_display_directional_template_debugger'\n"
   ]
  },
  {
   "cell_type": "code",
   "execution_count": null,
   "id": "cf9d9ea5",
   "metadata": {},
   "outputs": [],
   "source": [
    "curr_active_pipeline.reload_default_display_functions()"
   ]
  },
  {
   "cell_type": "code",
   "execution_count": null,
   "id": "1f2b60f6",
   "metadata": {},
   "outputs": [],
   "source": [
    "curr_active_pipeline.prepare_for_display()\n",
    "directional_laps_overview = curr_active_pipeline.display(display_function='_display_directional_laps_overview')"
   ]
  },
  {
   "cell_type": "code",
   "execution_count": null,
   "id": "e2f93040",
   "metadata": {},
   "outputs": [],
   "source": [
    "curr_active_pipeline.registered_display_function_docs_dict"
   ]
  },
  {
   "cell_type": "code",
   "execution_count": null,
   "id": "3285686d",
   "metadata": {},
   "outputs": [],
   "source": [
    "'_display_directional_laps_overview'"
   ]
  },
  {
   "cell_type": "markdown",
   "id": "8ddd15f5",
   "metadata": {},
   "source": [
    "# 🎨 2024-04-23 - 3D Posterior Plot\n",
    "<!-- t_delta -->\n"
   ]
  },
  {
   "cell_type": "code",
   "execution_count": 57,
   "id": "9ba7ac95",
   "metadata": {
    "notebookRunGroups": {
     "groupValue": "2"
    }
   },
   "outputs": [
    {
     "name": "stderr",
     "output_type": "stream",
     "text": [
      "INFO:2024-05-08_12-05-24.Apogee.pipeline.kdiba.gor01.one.2006-6-09_1-22-43:NeuropyPipeline.on_stage_changed(new_stage=\"PipelineStage.Displayed\")\n"
     ]
    },
    {
     "name": "stdout",
     "output_type": "stream",
     "text": [
      "Applying custom Pyvista theme.\n",
      "done.\n",
      "No extant BackgroundPlotter\n",
      "Creating a new BackgroundPlotter\n"
     ]
    },
    {
     "name": "stderr",
     "output_type": "stream",
     "text": [
      "k:\\FastSwap\\AppData\\VSCode\\yellow\\.venv_yellow\\lib\\site-packages\\pyvista\\core\\pointset.py:205: PyvistaDeprecationWarning: You did not specify a value for `inplace` and the default value will be changing to `False` in future versions for point-based meshes (e.g., `PolyData`). Please make sure you are not assuming this to be an inplace operation.\n",
      "  warnings.warn(DEFAULT_INPLACE_WARNING, PyvistaDeprecationWarning)\n"
     ]
    }
   ],
   "source": [
    "from pyphoplacecellanalysis.GUI.PyVista.InteractivePlotter.InteractiveCustomDataExplorer import InteractiveCustomDataExplorer\n",
    "\n",
    "curr_active_pipeline.prepare_for_display()\n",
    "t_start, t_delta, t_end = curr_active_pipeline.find_LongShortDelta_times()\n",
    "_out = curr_active_pipeline.display(display_function='_display_3d_interactive_custom_data_explorer', active_session_configuration_context=global_epoch_context,\n",
    "                                    params_kwargs=dict(should_use_linear_track_geometry=True, **{'t_start': t_start, 't_delta': t_delta, 't_end': t_end}),\n",
    "                                    )\n",
    "iplapsDataExplorer: InteractiveCustomDataExplorer = _out['iplapsDataExplorer']\n",
    "pActiveInteractiveLapsPlotter = _out['plotter']\n"
   ]
  },
  {
   "cell_type": "code",
   "execution_count": null,
   "id": "516f2530",
   "metadata": {},
   "outputs": [],
   "source": [
    "pActiveInteractiveLapsPlotter[1]"
   ]
  },
  {
   "cell_type": "code",
   "execution_count": null,
   "id": "e3f5df77",
   "metadata": {},
   "outputs": [],
   "source": [
    "iplapsDataExplorer.active_config.plotting_config.subplots_shape # '1|5'\n",
    "iplapsDataExplorer.active_config.plotting_config.plotter_type # 'BackgroundPlotter'"
   ]
  },
  {
   "cell_type": "code",
   "execution_count": null,
   "id": "0ec1058f",
   "metadata": {},
   "outputs": [],
   "source": [
    "subplots_shape_str: str = '1|5'\n",
    "subplots_shape_arr_strs = subplots_shape_str.split('|')\n",
    "\n",
    "subplots_shape = [int(k) for k in subplots_shape_arr_strs]\n",
    "subplots_shape\n",
    "\n",
    "total_n_plots: int = np.prod(subplots_shape)\n",
    "if total_n_plots > 1:\n",
    "    iplapsDataExplorer.active_config.plotting_config.plotter_type = 'BackgroundPlotter'"
   ]
  },
  {
   "cell_type": "code",
   "execution_count": null,
   "id": "a8a2ac94",
   "metadata": {},
   "outputs": [],
   "source": [
    "# iplapsDataExplorer.p.\n",
    "\n",
    "p = iplapsDataExplorer.p[0,0]\n",
    "p\n",
    "# p = self.p[0,0]"
   ]
  },
  {
   "cell_type": "code",
   "execution_count": null,
   "id": "3d86b20f",
   "metadata": {},
   "outputs": [],
   "source": [
    "# _out_global = curr_active_pipeline.display(display_function='_display_3d_interactive_spike_and_behavior_browser', active_session_configuration_context=global_epoch_context) # , config_override_kwargs={'plotting_config': {'should_use_linear_track_geometry': True}}\n",
    "# ipspikesDataExplorer = _out_global['ipspikesDataExplorer']\n",
    "# p = _out_global['plotter']"
   ]
  },
  {
   "cell_type": "code",
   "execution_count": 40,
   "id": "a693d0e0",
   "metadata": {},
   "outputs": [
    {
     "name": "stdout",
     "output_type": "stream",
     "text": [
      "computation_result.sess: kdiba_gor01_one_2006-6-09_1-22-43_sess\n",
      "active_epoch_pos.sampling_rate (Hz): 29.96972244523928\n",
      "longer_spikes_window - curr_view_window_length_samples - 30688\n",
      "recent_spikes_window - curr_view_window_length_samples - 299\n",
      "Applying custom Pyvista theme.\n",
      "done.\n",
      "No extant BackgroundPlotter\n",
      "Creating a new BackgroundPlotter\n"
     ]
    },
    {
     "name": "stderr",
     "output_type": "stream",
     "text": [
      "k:\\FastSwap\\AppData\\VSCode\\yellow\\.venv_yellow\\lib\\site-packages\\pyvista\\core\\filters\\data_set.py:2037: UserWarning: No vector-like data to use for orient. orient will be set to False.\n",
      "  warnings.warn(\"No vector-like data to use for orient. orient will be set to False.\")\n"
     ]
    },
    {
     "name": "stdout",
     "output_type": "stream",
     "text": [
      "WARNING: on_update_current_window_MazeRenderingMixin(...): no `long_maze_bg` or `short_maze_bg`.\n",
      "[f] - Focus and zoom in on the last clicked point\n",
      "shift+click - Drag to pan the rendering scene\n",
      "ctrl+click - Rotate the scene in 2D\n"
     ]
    },
    {
     "name": "stderr",
     "output_type": "stream",
     "text": [
      "k:\\FastSwap\\AppData\\VSCode\\yellow\\.venv_yellow\\lib\\site-packages\\pyvista\\core\\pointset.py:205: PyvistaDeprecationWarning: You did not specify a value for `inplace` and the default value will be changing to `False` in future versions for point-based meshes (e.g., `PolyData`). Please make sure you are not assuming this to be an inplace operation.\n",
      "  warnings.warn(DEFAULT_INPLACE_WARNING, PyvistaDeprecationWarning)\n"
     ]
    }
   ],
   "source": [
    "## INPUTS: active_config\n",
    "\n",
    "t_start, t_delta, t_end = curr_active_pipeline.find_LongShortDelta_times()\n",
    "active_config_modifiying_kwargs = {\n",
    "    'plotting_config': {'should_use_linear_track_geometry': True, \n",
    "                        't_start': t_start, 't_delta': t_delta, 't_end': t_end,\n",
    "                        }\n",
    "}\n",
    "_out_global = curr_active_pipeline.display(display_function='_display_3d_interactive_spike_and_behavior_browser', active_session_configuration_context=global_epoch_context,\n",
    "                                            active_config_modifiying_kwargs=active_config_modifiying_kwargs,\n",
    "                                            params_kwargs=dict(enable_historical_spikes=False, enable_recent_spikes=False, should_use_linear_track_geometry=True, **{'t_start': t_start, 't_delta': t_delta, 't_end': t_end}),\n",
    "                                           )\n",
    "ipspikesDataExplorer = _out_global['ipspikesDataExplorer']\n",
    "p = _out_global['plotter']\n"
   ]
  },
  {
   "cell_type": "code",
   "execution_count": 49,
   "id": "5394f895",
   "metadata": {},
   "outputs": [
    {
     "ename": "NameError",
     "evalue": "name 'active_config' is not defined",
     "output_type": "error",
     "traceback": [
      "\u001b[1;31m---------------------------------------------------------------------------\u001b[0m",
      "\u001b[1;31mNameError\u001b[0m                                 Traceback (most recent call last)",
      "Cell \u001b[1;32mIn[49], line 2\u001b[0m\n\u001b[0;32m      1\u001b[0m \u001b[38;5;28;01mfor\u001b[39;00m k, v \u001b[38;5;129;01min\u001b[39;00m active_config_modifiying_kwargs\u001b[38;5;241m.\u001b[39mitems():\n\u001b[1;32m----> 2\u001b[0m     curr_subdict \u001b[38;5;241m=\u001b[39m \u001b[43mactive_config\u001b[49m\u001b[38;5;241m.\u001b[39mget(k, {})\n\u001b[0;32m      3\u001b[0m     \u001b[38;5;28;01mfor\u001b[39;00m sub_k, sub_v \u001b[38;5;129;01min\u001b[39;00m v\u001b[38;5;241m.\u001b[39mitems():\n\u001b[0;32m      4\u001b[0m         \u001b[38;5;28;01mtry\u001b[39;00m:\n",
      "\u001b[1;31mNameError\u001b[0m: name 'active_config' is not defined"
     ]
    }
   ],
   "source": [
    "\n",
    "for k, v in active_config_modifiying_kwargs.items():\n",
    "    curr_subdict = active_config.get(k, {})\n",
    "    for sub_k, sub_v in v.items():\n",
    "        try:\n",
    "            curr_subdict[sub_k] = sub_v # apply the update\n",
    "        except TypeError as err:\n",
    "            # TypeError: 'PlottingConfig' object does not support item assignment\n",
    "            setattr(curr_subdict, sub_k, sub_v)\n",
    "\n"
   ]
  },
  {
   "cell_type": "code",
   "execution_count": 50,
   "id": "27140db7",
   "metadata": {},
   "outputs": [
    {
     "ename": "NameError",
     "evalue": "name 'active_config' is not defined",
     "output_type": "error",
     "traceback": [
      "\u001b[1;31m---------------------------------------------------------------------------\u001b[0m",
      "\u001b[1;31mNameError\u001b[0m                                 Traceback (most recent call last)",
      "Cell \u001b[1;32mIn[50], line 1\u001b[0m\n\u001b[1;32m----> 1\u001b[0m \u001b[43mactive_config\u001b[49m\u001b[38;5;241m.\u001b[39mplotting_config\u001b[38;5;241m.\u001b[39mshould_use_linear_track_geometry\n\u001b[0;32m      2\u001b[0m active_config\u001b[38;5;241m.\u001b[39mplotting_config\u001b[38;5;241m.\u001b[39mt_delta\n",
      "\u001b[1;31mNameError\u001b[0m: name 'active_config' is not defined"
     ]
    }
   ],
   "source": [
    "\n",
    "active_config.plotting_config.should_use_linear_track_geometry\n",
    "active_config.plotting_config.t_delta\n"
   ]
  },
  {
   "cell_type": "code",
   "execution_count": 51,
   "id": "d6e6a036",
   "metadata": {},
   "outputs": [
    {
     "data": {
      "text/plain": [
       "True"
      ]
     },
     "execution_count": 51,
     "metadata": {},
     "output_type": "execute_result"
    },
    {
     "name": "stderr",
     "output_type": "stream",
     "text": [
      "k:\\FastSwap\\AppData\\VSCode\\yellow\\.venv_yellow\\lib\\site-packages\\pyvista\\core\\pointset.py:205: PyvistaDeprecationWarning: You did not specify a value for `inplace` and the default value will be changing to `False` in future versions for point-based meshes (e.g., `PolyData`). Please make sure you are not assuming this to be an inplace operation.\n",
      "  warnings.warn(DEFAULT_INPLACE_WARNING, PyvistaDeprecationWarning)\n"
     ]
    },
    {
     "ename": "IndexError",
     "evalue": "",
     "output_type": "error",
     "traceback": [
      "\u001b[1;31m---------------------------------------------------------------------------\u001b[0m",
      "\u001b[1;31mIndexError\u001b[0m                                Traceback (most recent call last)",
      "Cell \u001b[1;32mIn[51], line 12\u001b[0m\n\u001b[0;32m      7\u001b[0m \u001b[38;5;66;03m# enable_historical_spikes = ipspikesDataExplorer.params.get('enable_historical_spikes', True)\u001b[39;00m\n\u001b[0;32m      8\u001b[0m \u001b[38;5;66;03m# enable_recent_spikes = ipspikesDataExplorer.params.get('enable_recent_spikes', True)\u001b[39;00m\n\u001b[0;32m      9\u001b[0m \u001b[38;5;66;03m# print(list(ipspikesDataExplorer.plots.keys()))\u001b[39;00m\n\u001b[0;32m     11\u001b[0m \u001b[38;5;28;01mfor\u001b[39;00m a_plot_key \u001b[38;5;129;01min\u001b[39;00m [\u001b[38;5;124m'\u001b[39m\u001b[38;5;124mspikes_main_historical\u001b[39m\u001b[38;5;124m'\u001b[39m, \u001b[38;5;124m'\u001b[39m\u001b[38;5;124mspikes_main_recent_only\u001b[39m\u001b[38;5;124m'\u001b[39m]:\n\u001b[1;32m---> 12\u001b[0m     \u001b[43mipspikesDataExplorer\u001b[49m\u001b[38;5;241;43m.\u001b[39;49m\u001b[43mset_plot_visibility\u001b[49m\u001b[43m(\u001b[49m\u001b[43ma_plot_key\u001b[49m\u001b[43m,\u001b[49m\u001b[43m \u001b[49m\u001b[43mis_visibie\u001b[49m\u001b[38;5;241;43m=\u001b[39;49m\u001b[38;5;28;43;01mFalse\u001b[39;49;00m\u001b[43m)\u001b[49m\n",
      "File \u001b[1;32m~\\repos\\Spike3DWorkEnv\\pyPhoPlaceCellAnalysis\\src\\pyphoplacecellanalysis\\GUI\\PyVista\\InteractivePlotter\\Mixins\\InteractivePlotterMixins.py:94\u001b[0m, in \u001b[0;36mInteractivePyvistaPlotter_ObjectManipulationMixin.set_plot_visibility\u001b[1;34m(self, plot_key, is_visibie)\u001b[0m\n\u001b[0;32m     93\u001b[0m \u001b[38;5;28;01mdef\u001b[39;00m \u001b[38;5;21mset_plot_visibility\u001b[39m(\u001b[38;5;28mself\u001b[39m, plot_key, is_visibie):\n\u001b[1;32m---> 94\u001b[0m     \u001b[38;5;28;43mself\u001b[39;49m\u001b[38;5;241;43m.\u001b[39;49m\u001b[43msafe_get_plot\u001b[49m\u001b[43m(\u001b[49m\u001b[43mplot_key\u001b[49m\u001b[43m)\u001b[49m\u001b[38;5;241m.\u001b[39mSetVisibility(is_visibie)\n",
      "File \u001b[1;32m~\\repos\\Spike3DWorkEnv\\pyPhoPlaceCellAnalysis\\src\\pyphoplacecellanalysis\\GUI\\PyVista\\InteractivePlotter\\Mixins\\InteractivePlotterMixins.py:91\u001b[0m, in \u001b[0;36mInteractivePyvistaPlotter_ObjectManipulationMixin.safe_get_plot\u001b[1;34m(self, plot_key)\u001b[0m\n\u001b[0;32m     89\u001b[0m     \u001b[38;5;28;01mreturn\u001b[39;00m a_plot\n\u001b[0;32m     90\u001b[0m \u001b[38;5;28;01melse\u001b[39;00m:\n\u001b[1;32m---> 91\u001b[0m     \u001b[38;5;28;01mraise\u001b[39;00m \u001b[38;5;167;01mIndexError\u001b[39;00m\n",
      "\u001b[1;31mIndexError\u001b[0m: "
     ]
    }
   ],
   "source": [
    "ipspikesDataExplorer.params['should_use_linear_track_geometry'] = True\n",
    "ipspikesDataExplorer.perform_remove_maze_actor()\n",
    "ipspikesDataExplorer.perform_plot_maze()\n",
    "ipspikesDataExplorer.params.enable_historical_spikes = False\n",
    "ipspikesDataExplorer.params.enable_recent_spikes = False\n",
    "\n",
    "# enable_historical_spikes = ipspikesDataExplorer.params.get('enable_historical_spikes', True)\n",
    "# enable_recent_spikes = ipspikesDataExplorer.params.get('enable_recent_spikes', True)\n",
    "# print(list(ipspikesDataExplorer.plots.keys()))\n",
    "\n",
    "for a_plot_key in ['spikes_main_historical', 'spikes_main_recent_only']:\n",
    "    ipspikesDataExplorer.set_plot_visibility(a_plot_key, is_visibie=False)"
   ]
  },
  {
   "cell_type": "code",
   "execution_count": 63,
   "id": "ae00b4c7",
   "metadata": {},
   "outputs": [
    {
     "name": "stdout",
     "output_type": "stream",
     "text": [
      "removed object with key CellSpikePositionDataExplorer from drivable list.\n"
     ]
    }
   ],
   "source": [
    "from pyphoplacecellanalysis.PhoPositionalData.plotting.time_animations import TrackConfigurationTimeAnimationRoutine\n",
    "\n",
    "t_start, t_delta, t_end = curr_active_pipeline.find_LongShortDelta_times()\n",
    "custom_track_animatior: TrackConfigurationTimeAnimationRoutine = CustomTimeAnimationRoutine(t_start=t_start, t_delta=t_delta, t_end=t_end, \n",
    "        long_maze_bg=ipspikesDataExplorer.plots['long_maze_bg'], short_maze_bg=ipspikesDataExplorer.plots['short_maze_bg'],\n",
    "    )\n",
    "\n"
   ]
  },
  {
   "cell_type": "code",
   "execution_count": 43,
   "id": "010c8de3",
   "metadata": {},
   "outputs": [
    {
     "data": {
      "text/plain": [
       "26027.5"
      ]
     },
     "execution_count": 43,
     "metadata": {},
     "output_type": "execute_result"
    },
    {
     "data": {
      "text/plain": [
       "26027"
      ]
     },
     "execution_count": 43,
     "metadata": {},
     "output_type": "execute_result"
    },
    {
     "data": {
      "text/plain": [
       "(868.5935920000775, 878.5358930000803)"
      ]
     },
     "execution_count": 43,
     "metadata": {},
     "output_type": "execute_result"
    }
   ],
   "source": [
    "from pyphoplacecellanalysis.GUI.PyVista.InteractivePlotter.InteractiveSliderWrapper import InteractiveSliderWrapper\n",
    "\n",
    "# interactive_plotter = ipspikesDataExplorer.ui.interactive_plotter # PhoInteractivePlotter\n",
    "\n",
    "active_timestamp_slider_wrapper: InteractiveSliderWrapper = ipspikesDataExplorer.ui.interactive_plotter.interface_properties.active_timestamp_slider_wrapper # InteractiveSliderWrapper \n",
    "active_timestamp_slider_wrapper.curr_value # 17659.517659\n",
    "active_timestamp_slider_wrapper.curr_index # 17659\n",
    "\n",
    "\n",
    "curr_i: int = int(active_timestamp_slider_wrapper.curr_index)\n",
    "active_window_sample_indicies = np.squeeze(ipspikesDataExplorer.params.pre_computed_window_sample_indicies[curr_i,:]) # Get the current precomputed indicies for this curr_i\n",
    "\n",
    "## Spike Plotting:\n",
    "# Get the times that fall within the current plot window:\n",
    "curr_time_fixedSegments = ipspikesDataExplorer.t[active_window_sample_indicies] # New Way\n",
    "t_start = curr_time_fixedSegments[0]\n",
    "t_stop = curr_time_fixedSegments[-1]\n",
    "\n",
    "# \n",
    "t_start, t_stop\n",
    "# custom_track_animatior.on_update_current_window(t_start=t_start, t_stop=t_stop)\n",
    "# curr_index"
   ]
  },
  {
   "cell_type": "code",
   "execution_count": null,
   "id": "26fcc044",
   "metadata": {},
   "outputs": [],
   "source": [
    "long_maze_bg = ipspikesDataExplorer.plots['long_maze_bg'] # vtkOpenGLActor\n",
    "short_maze_bg = ipspikesDataExplorer.plots['short_maze_bg'] # vtkOpenGLActor\n",
    "long_maze_bg\n"
   ]
  },
  {
   "cell_type": "code",
   "execution_count": null,
   "id": "cbf811cf",
   "metadata": {},
   "outputs": [],
   "source": [
    "## Get the times\n",
    "t_delta = \n"
   ]
  },
  {
   "cell_type": "code",
   "execution_count": 44,
   "id": "295b5cef",
   "metadata": {},
   "outputs": [
    {
     "name": "stdout",
     "output_type": "stream",
     "text": [
      "for current time t=0.15079400001559407\n",
      "\tlast_window_index: 0\n",
      "\tlast_window_time: 4.339846266406594\n",
      "\tdisplayed_time_offset: -4.189052266391\n",
      "tcurr_debug_point: [145.5317775642336, 143.2309536245798, 1.1]\n"
     ]
    },
    {
     "name": "stdout",
     "output_type": "stream",
     "text": [
      "for current time t=873.5987880000612\n",
      "\tlast_window_index: 26342\n",
      "\tlast_window_time: 873.625846266697\n",
      "\tdisplayed_time_offset: -0.027058266635776818\n",
      "tcurr_debug_point: [225.4455370108438, 144.6786616173447, 1.1]\n",
      "for current time t=779.8051330000162\n",
      "\tlast_window_index: 23499\n",
      "\tlast_window_time: 779.8068462666656\n",
      "\tdisplayed_time_offset: -0.001713266649403522\n",
      "tcurr_debug_point: [252.08345682638054, 146.12636961010963, 1.1]\n",
      "for current time t=778.8039300000528\n",
      "\tlast_window_index: 23469\n",
      "\tlast_window_time: 778.8168462666652\n",
      "\tdisplayed_time_offset: -0.01291626661236478\n",
      "tcurr_debug_point: [252.08345682638054, 146.12636961010963, 1.1]\n",
      "for current time t=763.987712000031\n",
      "\tlast_window_index: 23020\n",
      "\tlast_window_time: 763.9998462666604\n",
      "\tdisplayed_time_offset: -0.012134266629345802\n",
      "tcurr_debug_point: [252.08345682638054, 146.12636961010963, 1.1]\n",
      "for current time t=762.0190880000591\n",
      "\tlast_window_index: 22960\n",
      "\tlast_window_time: 762.0198462666597\n",
      "\tdisplayed_time_offset: -0.0007582666005419014\n",
      "tcurr_debug_point: [252.08345682638054, 146.12636961010963, 1.1]\n",
      "for current time t=761.0190320000984\n",
      "\tlast_window_index: 22930\n",
      "\tlast_window_time: 761.0298462666592\n",
      "\tdisplayed_time_offset: -0.0108142665608284\n",
      "tcurr_debug_point: [252.08345682638054, 146.12636961010963, 1.1]\n",
      "for current time t=752.1433149999939\n",
      "\tlast_window_index: 22661\n",
      "\tlast_window_time: 752.1528462666563\n",
      "\tdisplayed_time_offset: -0.009531266662406779\n",
      "tcurr_debug_point: [252.08345682638054, 146.12636961010963, 1.1]\n",
      "for current time t=749.17353800009\n",
      "\tlast_window_index: 22571\n",
      "\tlast_window_time: 749.1828462666554\n",
      "\tdisplayed_time_offset: -0.009308266565312806\n",
      "tcurr_debug_point: [252.08345682638054, 146.12636961010963, 1.1]\n",
      "for current time t=745.2371680000797\n",
      "\tlast_window_index: 22452\n",
      "\tlast_window_time: 745.2558462666541\n",
      "\tdisplayed_time_offset: -0.01867826657439764\n",
      "tcurr_debug_point: [252.08345682638054, 146.12636961010963, 1.1]\n",
      "for current time t=724.4823170000454\n",
      "\tlast_window_index: 21823\n",
      "\tlast_window_time: 724.4988462666472\n",
      "\tdisplayed_time_offset: -0.016529266601764903\n",
      "tcurr_debug_point: [252.08345682638054, 146.12636961010963, 1.1]\n",
      "for current time t=723.5146360000363\n",
      "\tlast_window_index: 21794\n",
      "\tlast_window_time: 723.5418462666469\n",
      "\tdisplayed_time_offset: -0.027210266610609324\n",
      "tcurr_debug_point: [252.08345682638054, 146.12636961010963, 1.1]\n",
      "for current time t=720.5455520000542\n",
      "\tlast_window_index: 21704\n",
      "\tlast_window_time: 720.5718462666457\n",
      "\tdisplayed_time_offset: -0.026294266591548876\n",
      "tcurr_debug_point: [252.08345682638054, 146.12636961010963, 1.1]\n",
      "for current time t=720.5455520000542\n",
      "\tlast_window_index: 21704\n",
      "\tlast_window_time: 720.5718462666457\n",
      "\tdisplayed_time_offset: -0.026294266591548876\n",
      "tcurr_debug_point: [252.08345682638054, 146.12636961010963, 1.1]\n",
      "for current time t=719.5439610000467\n",
      "\tlast_window_index: 21673\n",
      "\tlast_window_time: 719.5488462666453\n",
      "\tdisplayed_time_offset: -0.004885266598648741\n",
      "tcurr_debug_point: [252.08345682638054, 146.12636961010963, 1.1]\n",
      "for current time t=718.576097000041\n",
      "\tlast_window_index: 21644\n",
      "\tlast_window_time: 718.5918462666451\n",
      "\tdisplayed_time_offset: -0.015749266604075274\n",
      "tcurr_debug_point: [252.08345682638054, 146.12636961010963, 1.1]\n",
      "for current time t=717.5751410000958\n",
      "\tlast_window_index: 21614\n",
      "\tlast_window_time: 717.6018462666448\n",
      "\tdisplayed_time_offset: -0.026705266549015505\n",
      "tcurr_debug_point: [252.08345682638054, 146.12636961010963, 1.1]\n",
      "for current time t=716.5746750000399\n",
      "\tlast_window_index: 21583\n",
      "\tlast_window_time: 716.5788462666444\n",
      "\tdisplayed_time_offset: -0.004171266604544144\n",
      "tcurr_debug_point: [252.08345682638054, 146.12636961010963, 1.1]\n",
      "for current time t=715.6062830000883\n",
      "\tlast_window_index: 21554\n",
      "\tlast_window_time: 715.6218462666441\n",
      "\tdisplayed_time_offset: -0.015563266555773225\n",
      "tcurr_debug_point: [252.08345682638054, 146.12636961010963, 1.1]\n",
      "for current time t=714.6056840000674\n",
      "\tlast_window_index: 21524\n",
      "\tlast_window_time: 714.6318462666438\n",
      "\tdisplayed_time_offset: -0.026162266576420734\n",
      "tcurr_debug_point: [252.08345682638054, 146.12636961010963, 1.1]\n",
      "for current time t=713.6381490000058\n",
      "\tlast_window_index: 21494\n",
      "\tlast_window_time: 713.6418462666434\n",
      "\tdisplayed_time_offset: -0.0036972666375731933\n",
      "tcurr_debug_point: [252.08345682638054, 146.12636961010963, 1.1]\n",
      "for current time t=712.6366620000917\n",
      "\tlast_window_index: 21464\n",
      "\tlast_window_time: 712.6518462666431\n",
      "\tdisplayed_time_offset: -0.015184266551386827\n",
      "tcurr_debug_point: [252.08345682638054, 146.12636961010963, 1.1]\n",
      "for current time t=710.6677950000158\n",
      "\tlast_window_index: 21404\n",
      "\tlast_window_time: 710.6718462666424\n",
      "\tdisplayed_time_offset: -0.0040512666266749875\n",
      "tcurr_debug_point: [252.08345682638054, 146.12636961010963, 1.1]\n",
      "for current time t=704.7287900000811\n",
      "\tlast_window_index: 21224\n",
      "\tlast_window_time: 704.7318462666406\n",
      "\tdisplayed_time_offset: -0.0030562665594970895\n",
      "tcurr_debug_point: [252.08345682638054, 146.12636961010963, 1.1]\n",
      "for current time t=697.8202959999908\n",
      "\tlast_window_index: 21015\n",
      "\tlast_window_time: 697.8348462666381\n",
      "\tdisplayed_time_offset: -0.014550266647347598\n",
      "tcurr_debug_point: [252.08345682638054, 146.12636961010963, 1.1]\n",
      "for current time t=676.0991880000802\n",
      "\tlast_window_index: 20357\n",
      "\tlast_window_time: 676.1208462666309\n",
      "\tdisplayed_time_offset: -0.021658266550730332\n",
      "tcurr_debug_point: [252.08345682638054, 146.12636961010963, 1.1]\n",
      "for current time t=674.1325720000314\n",
      "\tlast_window_index: 20297\n",
      "\tlast_window_time: 674.1408462666302\n",
      "\tdisplayed_time_offset: -0.008274266598846225\n",
      "tcurr_debug_point: [252.08345682638054, 146.12636961010963, 1.1]\n",
      "for current time t=655.3783150000963\n",
      "\tlast_window_index: 19729\n",
      "\tlast_window_time: 655.3968462666239\n",
      "\tdisplayed_time_offset: -0.01853126652758874\n",
      "tcurr_debug_point: [252.08345682638054, 146.12636961010963, 1.1]\n",
      "for current time t=652.4093690000009\n",
      "\tlast_window_index: 19639\n",
      "\tlast_window_time: 652.426846266623\n",
      "\tdisplayed_time_offset: -0.0174772666221088\n",
      "tcurr_debug_point: [252.08345682638054, 146.12636961010963, 1.1]\n",
      "for current time t=646.4697620000225\n",
      "\tlast_window_index: 19459\n",
      "\tlast_window_time: 646.4868462666211\n",
      "\tdisplayed_time_offset: -0.01708426659865836\n",
      "tcurr_debug_point: [225.4455370108438, 144.6786616173447, 1.1]\n",
      "for current time t=647.4704040000215\n",
      "\tlast_window_index: 19489\n",
      "\tlast_window_time: 647.4768462666214\n",
      "\tdisplayed_time_offset: -0.0064422665998336015\n",
      "tcurr_debug_point: [225.4455370108438, 146.12636961010963, 1.1]\n",
      "for current time t=652.4093690000009\n",
      "\tlast_window_index: 19639\n",
      "\tlast_window_time: 652.426846266623\n",
      "\tdisplayed_time_offset: -0.0174772666221088\n",
      "tcurr_debug_point: [252.08345682638054, 146.12636961010963, 1.1]\n",
      "for current time t=653.3762600000482\n",
      "\tlast_window_index: 19668\n",
      "\tlast_window_time: 653.3838462666233\n",
      "\tdisplayed_time_offset: -0.007586266575117406\n",
      "tcurr_debug_point: [252.08345682638054, 146.12636961010963, 1.1]\n",
      "for current time t=654.3771570000099\n",
      "\tlast_window_index: 19699\n",
      "\tlast_window_time: 654.4068462666237\n",
      "\tdisplayed_time_offset: -0.029689266613786458\n",
      "tcurr_debug_point: [252.08345682638054, 146.12636961010963, 1.1]\n",
      "for current time t=657.3464340000646\n",
      "\tlast_window_index: 19789\n",
      "\tlast_window_time: 657.3768462666246\n",
      "\tdisplayed_time_offset: -0.030412266560006174\n",
      "tcurr_debug_point: [252.08345682638054, 146.12636961010963, 1.1]\n",
      "for current time t=660.3168460000306\n",
      "\tlast_window_index: 19879\n",
      "\tlast_window_time: 660.3468462666256\n",
      "\tdisplayed_time_offset: -0.03000026659492505\n",
      "tcurr_debug_point: [252.08345682638054, 146.12636961010963, 1.1]\n",
      "for current time t=661.2837520000758\n",
      "\tlast_window_index: 19908\n",
      "\tlast_window_time: 661.3038462666259\n",
      "\tdisplayed_time_offset: -0.02009426655013158\n",
      "tcurr_debug_point: [252.08345682638054, 146.12636961010963, 1.1]\n",
      "for current time t=666.2235210000072\n",
      "\tlast_window_index: 20058\n",
      "\tlast_window_time: 666.2538462666275\n",
      "\tdisplayed_time_offset: -0.030325266620366165\n",
      "tcurr_debug_point: [252.08345682638054, 146.12636961010963, 1.1]\n",
      "for current time t=671.1606770000653\n",
      "\tlast_window_index: 20207\n",
      "\tlast_window_time: 671.1708462666293\n",
      "\tdisplayed_time_offset: -0.010169266563934798\n",
      "tcurr_debug_point: [252.08345682638054, 146.12636961010963, 1.1]\n",
      "for current time t=673.1296400000574\n",
      "\tlast_window_index: 20267\n",
      "\tlast_window_time: 673.15084626663\n",
      "\tdisplayed_time_offset: -0.021206266572562527\n",
      "tcurr_debug_point: [252.08345682638054, 146.12636961010963, 1.1]\n",
      "for current time t=676.0991880000802\n",
      "\tlast_window_index: 20357\n",
      "\tlast_window_time: 676.1208462666309\n",
      "\tdisplayed_time_offset: -0.021658266550730332\n",
      "tcurr_debug_point: [252.08345682638054, 146.12636961010963, 1.1]\n",
      "for current time t=683.0064120000461\n",
      "\tlast_window_index: 20566\n",
      "\tlast_window_time: 683.0178462666333\n",
      "\tdisplayed_time_offset: -0.011434266587230013\n",
      "tcurr_debug_point: [252.08345682638054, 146.12636961010963, 1.1]\n",
      "for current time t=691.9171290000668\n",
      "\tlast_window_index: 20836\n",
      "\tlast_window_time: 691.9278462666362\n",
      "\tdisplayed_time_offset: -0.010717266569372441\n",
      "tcurr_debug_point: [252.08345682638054, 146.12636961010963, 1.1]\n",
      "for current time t=693.8851690000156\n",
      "\tlast_window_index: 20896\n",
      "\tlast_window_time: 693.9078462666369\n",
      "\tdisplayed_time_offset: -0.02267726662125824\n",
      "tcurr_debug_point: [252.08345682638054, 146.12636961010963, 1.1]\n",
      "for current time t=699.7891300000483\n",
      "\tlast_window_index: 21075\n",
      "\tlast_window_time: 699.8148462666388\n",
      "\tdisplayed_time_offset: -0.025716266590507075\n",
      "tcurr_debug_point: [252.08345682638054, 146.12636961010963, 1.1]\n",
      "for current time t=720.5455520000542\n",
      "\tlast_window_index: 21704\n",
      "\tlast_window_time: 720.5718462666457\n",
      "\tdisplayed_time_offset: -0.026294266591548876\n",
      "tcurr_debug_point: [252.08345682638054, 146.12636961010963, 1.1]\n",
      "for current time t=721.5128249999834\n",
      "\tlast_window_index: 21733\n",
      "\tlast_window_time: 721.528846266646\n",
      "\tdisplayed_time_offset: -0.016021266662619382\n",
      "tcurr_debug_point: [252.08345682638054, 146.12636961010963, 1.1]\n",
      "for current time t=726.4503290000139\n",
      "\tlast_window_index: 21883\n",
      "\tlast_window_time: 726.4788462666477\n",
      "\tdisplayed_time_offset: -0.0285172666337985\n",
      "tcurr_debug_point: [252.08345682638054, 146.12636961010963, 1.1]\n",
      "for current time t=856.8143880000571\n",
      "\tlast_window_index: 25833\n",
      "\tlast_window_time: 856.8288462666912\n",
      "\tdisplayed_time_offset: -0.01445826663416483\n",
      "tcurr_debug_point: [252.08345682638054, 146.12636961010963, 1.1]\n",
      "for current time t=858.7845190000953\n",
      "\tlast_window_index: 25893\n",
      "\tlast_window_time: 858.808846266692\n",
      "\tdisplayed_time_offset: -0.02432726659662876\n",
      "tcurr_debug_point: [252.08345682638054, 146.12636961010963, 1.1]\n",
      "for current time t=891.3825560000259\n",
      "\tlast_window_index: 26881\n",
      "\tlast_window_time: 891.4128462667029\n",
      "\tdisplayed_time_offset: -0.03029026667695689\n",
      "tcurr_debug_point: [61.812601001118196, 146.12636961010963, 1.1]\n",
      "for current time t=893.3513500000117\n",
      "\tlast_window_index: 26940\n",
      "\tlast_window_time: 893.3598462667035\n",
      "\tdisplayed_time_offset: -0.00849626669173631\n",
      "tcurr_debug_point: [164.55886314675985, 146.12636961010963, 1.1]\n",
      "for current time t=898.2898810000625\n",
      "\tlast_window_index: 27090\n",
      "\tlast_window_time: 898.3098462667051\n",
      "\tdisplayed_time_offset: -0.019965266642657298\n",
      "tcurr_debug_point: [252.08345682638054, 146.12636961010963, 1.1]\n",
      "for current time t=899.2576300000073\n",
      "\tlast_window_index: 27119\n",
      "\tlast_window_time: 899.2668462667054\n",
      "\tdisplayed_time_offset: -0.009216266698103937\n",
      "tcurr_debug_point: [252.08345682638054, 146.12636961010963, 1.1]\n",
      "for current time t=925.951155000017\n",
      "\tlast_window_index: 27928\n",
      "\tlast_window_time: 925.9638462667144\n",
      "\tdisplayed_time_offset: -0.01269126669740217\n",
      "tcurr_debug_point: [233.0563712438543, 138.887829646285, 1.1]\n",
      "for current time t=936.7962660000194\n",
      "\tlast_window_index: 28257\n",
      "\tlast_window_time: 936.820846266718\n",
      "\tdisplayed_time_offset: -0.02458026669864921\n",
      "tcurr_debug_point: [252.08345682638054, 146.12636961010963, 1.1]\n",
      "for current time t=937.7957400000887\n",
      "\tlast_window_index: 28287\n",
      "\tlast_window_time: 937.8108462667183\n",
      "\tdisplayed_time_offset: -0.015106266629572929\n",
      "tcurr_debug_point: [252.08345682638054, 146.12636961010963, 1.1]\n",
      "for current time t=989.1486870000372\n",
      "\tlast_window_index: 29843\n",
      "\tlast_window_time: 989.1588462667355\n",
      "\tdisplayed_time_offset: -0.010159266698337888\n",
      "tcurr_debug_point: [168.3642802632651, 146.12636961010963, 1.1]\n",
      "for current time t=991.1177870000247\n",
      "\tlast_window_index: 29903\n",
      "\tlast_window_time: 991.1388462667362\n",
      "\tdisplayed_time_offset: -0.02105926671151792\n",
      "tcurr_debug_point: [225.4455370108438, 141.78324563181485, 1.1]\n",
      "for current time t=1003.9627510000719\n",
      "\tlast_window_index: 30292\n",
      "\tlast_window_time: 1003.9758462667405\n",
      "\tdisplayed_time_offset: -0.01309526666864258\n",
      "tcurr_debug_point: [252.08345682638054, 146.12636961010963, 1.1]\n",
      "for current time t=1020.746664000093\n",
      "\tlast_window_index: 30801\n",
      "\tlast_window_time: 1020.772846266746\n",
      "\tdisplayed_time_offset: -0.026182266652995168\n",
      "tcurr_debug_point: [252.08345682638054, 146.12636961010963, 1.1]\n",
      "for current time t=1032.5923700000858\n",
      "\tlast_window_index: 31160\n",
      "\tlast_window_time: 1032.6198462667498\n",
      "\tdisplayed_time_offset: -0.027476266664052673\n",
      "tcurr_debug_point: [252.08345682638054, 146.12636961010963, 1.1]\n",
      "for current time t=1033.5608190000057\n",
      "\tlast_window_index: 31189\n",
      "\tlast_window_time: 1033.5768462667502\n",
      "\tdisplayed_time_offset: -0.016027266744458757\n",
      "tcurr_debug_point: [252.08345682638054, 146.12636961010963, 1.1]\n",
      "for current time t=1053.3129310000222\n",
      "\tlast_window_index: 31788\n",
      "\tlast_window_time: 1053.3438462667568\n",
      "\tdisplayed_time_offset: -0.03091526673460976\n",
      "tcurr_debug_point: [195.00220007880182, 141.78324563181485, 1.1]\n",
      "for current time t=1070.097265999997\n",
      "\tlast_window_index: 32296\n",
      "\tlast_window_time: 1070.1078462667624\n",
      "\tdisplayed_time_offset: -0.01058026676537338\n",
      "tcurr_debug_point: [58.00718388461296, 146.12636961010963, 1.1]\n",
      "for current time t=1072.0986510000657\n",
      "\tlast_window_index: 32357\n",
      "\tlast_window_time: 1072.1208462667632\n",
      "\tdisplayed_time_offset: -0.022195266697508487\n",
      "tcurr_debug_point: [96.06135504966542, 146.12636961010963, 1.1]\n",
      "for current time t=1077.038331000018\n",
      "\tlast_window_index: 32507\n",
      "\tlast_window_time: 1077.0708462667649\n",
      "\tdisplayed_time_offset: -0.03251526674694105\n",
      "tcurr_debug_point: [252.08345682638054, 146.12636961010963, 1.1]\n",
      "for current time t=1076.0369090000167\n",
      "\tlast_window_index: 32476\n",
      "\tlast_window_time: 1076.0478462667645\n",
      "\tdisplayed_time_offset: -0.010937266747760077\n",
      "tcurr_debug_point: [252.08345682638054, 146.12636961010963, 1.1]\n",
      "for current time t=1073.0666970000602\n",
      "\tlast_window_index: 32386\n",
      "\tlast_window_time: 1073.0778462667636\n",
      "\tdisplayed_time_offset: -0.01114926670334171\n",
      "tcurr_debug_point: [168.3642802632651, 143.2309536245798, 1.1]\n",
      "for current time t=1072.0986510000657\n",
      "\tlast_window_index: 32357\n",
      "\tlast_window_time: 1072.1208462667632\n",
      "\tdisplayed_time_offset: -0.022195266697508487\n",
      "tcurr_debug_point: [96.06135504966542, 146.12636961010963, 1.1]\n",
      "for current time t=1063.1897600000957\n",
      "\tlast_window_index: 32087\n",
      "\tlast_window_time: 1063.2108462667602\n",
      "\tdisplayed_time_offset: -0.02108626666449709\n",
      "tcurr_debug_point: [252.08345682638054, 146.12636961010963, 1.1]\n",
      "for current time t=1062.2227089999942\n",
      "\tlast_window_index: 32058\n",
      "\tlast_window_time: 1062.2538462667599\n",
      "\tdisplayed_time_offset: -0.031137266765654203\n",
      "tcurr_debug_point: [252.08345682638054, 146.12636961010963, 1.1]\n",
      "for current time t=1061.2204930000007\n",
      "\tlast_window_index: 32027\n",
      "\tlast_window_time: 1061.2308462667595\n",
      "\tdisplayed_time_offset: -0.01035326675878423\n",
      "tcurr_debug_point: [252.08345682638054, 146.12636961010963, 1.1]\n",
      "for current time t=1052.3459590000566\n",
      "\tlast_window_index: 31758\n",
      "\tlast_window_time: 1052.3538462667566\n",
      "\tdisplayed_time_offset: -0.00788726669998141\n",
      "tcurr_debug_point: [160.75344603025462, 141.78324563181485, 1.1]\n",
      "for current time t=1051.3452910000924\n",
      "\tlast_window_index: 31728\n",
      "\tlast_window_time: 1051.3638462667564\n",
      "\tdisplayed_time_offset: -0.018555266663952352\n",
      "tcurr_debug_point: [122.69927486520214, 143.2309536245798, 1.1]\n",
      "for current time t=1047.4075970000122\n",
      "\tlast_window_index: 31609\n",
      "\tlast_window_time: 1047.4368462667549\n",
      "\tdisplayed_time_offset: -0.029249266742681357\n",
      "tcurr_debug_point: [252.08345682638054, 146.12636961010963, 1.1]\n",
      "for current time t=1045.4048770000227\n",
      "\tlast_window_index: 31548\n",
      "\tlast_window_time: 1045.4238462667543\n",
      "\tdisplayed_time_offset: -0.018969266731573953\n",
      "tcurr_debug_point: [38.980098302086716, 146.12636961010963, 1.1]\n",
      "for current time t=1044.4368310000282\n",
      "\tlast_window_index: 31519\n",
      "\tlast_window_time: 1044.466846266754\n",
      "\tdisplayed_time_offset: -0.03001526672574073\n",
      "tcurr_debug_point: [77.03426946713918, 138.887829646285, 1.1]\n",
      "for current time t=1043.4368729999987\n",
      "\tlast_window_index: 31488\n",
      "\tlast_window_time: 1043.4438462667536\n",
      "\tdisplayed_time_offset: -0.006973266754812357\n",
      "tcurr_debug_point: [210.2238685448228, 138.887829646285, 1.1]\n",
      "for current time t=1042.4690709999995\n",
      "\tlast_window_index: 31459\n",
      "\tlast_window_time: 1042.4868462667532\n",
      "\tdisplayed_time_offset: -0.0177752667536879\n",
      "tcurr_debug_point: [164.55886314675985, 138.887829646285, 1.1]\n",
      "for current time t=1037.530647000065\n",
      "\tlast_window_index: 31309\n",
      "\tlast_window_time: 1037.5368462667516\n",
      "\tdisplayed_time_offset: -0.006199266686508054\n",
      "tcurr_debug_point: [252.08345682638054, 146.12636961010963, 1.1]\n",
      "for current time t=1035.562508000061\n",
      "\tlast_window_index: 31250\n",
      "\tlast_window_time: 1035.589846266751\n",
      "\tdisplayed_time_offset: -0.027338266690094315\n",
      "tcurr_debug_point: [252.08345682638054, 146.12636961010963, 1.1]\n",
      "for current time t=1015.8091120000463\n",
      "\tlast_window_index: 30651\n",
      "\tlast_window_time: 1015.8228462667444\n",
      "\tdisplayed_time_offset: -0.013734266698065767\n",
      "tcurr_debug_point: [252.08345682638054, 146.12636961010963, 1.1]\n",
      "for current time t=1014.8071080000373\n",
      "\tlast_window_index: 30621\n",
      "\tlast_window_time: 1014.8328462667441\n",
      "\tdisplayed_time_offset: -0.025738266706866852\n",
      "tcurr_debug_point: [252.08345682638054, 146.12636961010963, 1.1]\n",
      "for current time t=1013.8060120000737\n",
      "\tlast_window_index: 30590\n",
      "\tlast_window_time: 1013.8098462667438\n",
      "\tdisplayed_time_offset: -0.0038342666700827976\n",
      "tcurr_debug_point: [252.08345682638054, 146.12636961010963, 1.1]\n",
      "for current time t=1012.8399540000828\n",
      "\tlast_window_index: 30561\n",
      "\tlast_window_time: 1012.8528462667434\n",
      "\tdisplayed_time_offset: -0.012892266660628593\n",
      "tcurr_debug_point: [252.08345682638054, 146.12636961010963, 1.1]\n",
      "for current time t=1013.8060120000737\n",
      "\tlast_window_index: 30590\n",
      "\tlast_window_time: 1013.8098462667438\n",
      "\tdisplayed_time_offset: -0.0038342666700827976\n",
      "tcurr_debug_point: [252.08345682638054, 146.12636961010963, 1.1]\n",
      "for current time t=1034.5612020000117\n",
      "\tlast_window_index: 31219\n",
      "\tlast_window_time: 1034.5668462667506\n",
      "\tdisplayed_time_offset: -0.005644266738954684\n",
      "tcurr_debug_point: [252.08345682638054, 146.12636961010963, 1.1]\n",
      "for current time t=1035.562508000061\n",
      "\tlast_window_index: 31250\n",
      "\tlast_window_time: 1035.589846266751\n",
      "\tdisplayed_time_offset: -0.027338266690094315\n",
      "tcurr_debug_point: [252.08345682638054, 146.12636961010963, 1.1]\n",
      "for current time t=1048.3746460000984\n",
      "\tlast_window_index: 31638\n",
      "\tlast_window_time: 1048.3938462667552\n",
      "\tdisplayed_time_offset: -0.01920026665675323\n",
      "tcurr_debug_point: [252.08345682638054, 146.12636961010963, 1.1]\n",
      "for current time t=1049.3757520000217\n",
      "\tlast_window_index: 31668\n",
      "\tlast_window_time: 1049.3838462667554\n",
      "\tdisplayed_time_offset: -0.008094266733678523\n",
      "tcurr_debug_point: [198.80761719530707, 146.12636961010963, 1.1]\n",
      "for current time t=1053.3129310000222\n",
      "\tlast_window_index: 31788\n",
      "\tlast_window_time: 1053.3438462667568\n",
      "\tdisplayed_time_offset: -0.03091526673460976\n",
      "tcurr_debug_point: [195.00220007880182, 141.78324563181485, 1.1]\n",
      "for current time t=1054.314878000063\n",
      "\tlast_window_index: 31818\n",
      "\tlast_window_time: 1054.3338462667573\n",
      "\tdisplayed_time_offset: -0.01896826669440088\n",
      "tcurr_debug_point: [252.08345682638054, 146.12636961010963, 1.1]\n",
      "for current time t=1055.2819470000686\n",
      "\tlast_window_index: 31847\n",
      "\tlast_window_time: 1055.2908462667574\n",
      "\tdisplayed_time_offset: -0.008899266688786156\n",
      "tcurr_debug_point: [252.08345682638054, 146.12636961010963, 1.1]\n",
      "for current time t=1059.2520610000938\n",
      "\tlast_window_index: 31968\n",
      "\tlast_window_time: 1059.283846266759\n",
      "\tdisplayed_time_offset: -0.03178526666511061\n",
      "tcurr_debug_point: [252.08345682638054, 146.12636961010963, 1.1]\n",
      "for current time t=1060.2190399999963\n",
      "\tlast_window_index: 31997\n",
      "\tlast_window_time: 1060.2408462667593\n",
      "\tdisplayed_time_offset: -0.021806266762951054\n",
      "tcurr_debug_point: [252.08345682638054, 146.12636961010963, 1.1]\n",
      "for current time t=1077.038331000018\n",
      "\tlast_window_index: 32507\n",
      "\tlast_window_time: 1077.0708462667649\n",
      "\tdisplayed_time_offset: -0.03251526674694105\n",
      "tcurr_debug_point: [252.08345682638054, 146.12636961010963, 1.1]\n",
      "for current time t=1086.8812340000877\n",
      "\tlast_window_index: 32805\n",
      "\tlast_window_time: 1086.9048462667681\n",
      "\tdisplayed_time_offset: -0.023612266680402172\n",
      "tcurr_debug_point: [252.08345682638054, 146.12636961010963, 1.1]\n",
      "for current time t=1100.728235000046\n",
      "\tlast_window_index: 33224\n",
      "\tlast_window_time: 1100.7318462667727\n",
      "\tdisplayed_time_offset: -0.0036112667266934295\n",
      "tcurr_debug_point: [252.08345682638054, 146.12636961010963, 1.1]\n",
      "for current time t=1123.4167000000598\n",
      "\tlast_window_index: 33912\n",
      "\tlast_window_time: 1123.4358462667803\n",
      "\tdisplayed_time_offset: -0.019146266720554195\n",
      "tcurr_debug_point: [214.02928566132806, 143.2309536245798, 1.1]\n",
      "for current time t=1125.418505000067\n",
      "\tlast_window_index: 33973\n",
      "\tlast_window_time: 1125.448846266781\n",
      "\tdisplayed_time_offset: -0.030341266714003723\n",
      "tcurr_debug_point: [252.08345682638054, 146.12636961010963, 1.1]\n",
      "for current time t=1136.2640410000458\n",
      "\tlast_window_index: 34301\n",
      "\tlast_window_time: 1136.2728462667847\n",
      "\tdisplayed_time_offset: -0.008805266738818318\n",
      "tcurr_debug_point: [252.08345682638054, 146.12636961010963, 1.1]\n",
      "for current time t=1137.2635550000705\n",
      "\tlast_window_index: 34332\n",
      "\tlast_window_time: 1137.2958462667848\n",
      "\tdisplayed_time_offset: -0.03229126671431004\n",
      "tcurr_debug_point: [252.08345682638054, 146.12636961010963, 1.1]\n",
      "for current time t=1150.0774440000532\n",
      "\tlast_window_index: 34720\n",
      "\tlast_window_time: 1150.0998462667892\n",
      "\tdisplayed_time_offset: -0.022402266735980447\n",
      "tcurr_debug_point: [252.08345682638054, 146.12636961010963, 1.1]\n",
      "for current time t=1151.0775670000585\n",
      "\tlast_window_index: 34750\n",
      "\tlast_window_time: 1151.0898462667897\n",
      "\tdisplayed_time_offset: -0.01227926673118418\n",
      "tcurr_debug_point: [252.08345682638054, 146.12636961010963, 1.1]\n",
      "for current time t=1152.0804190000053\n",
      "\tlast_window_index: 34781\n",
      "\tlast_window_time: 1152.1128462667898\n",
      "\tdisplayed_time_offset: -0.03242726678445251\n",
      "tcurr_debug_point: [236.86178836035953, 146.12636961010963, 1.1]\n",
      "for current time t=1168.862216000096\n",
      "\tlast_window_index: 35289\n",
      "\tlast_window_time: 1168.8768462667954\n",
      "\tdisplayed_time_offset: -0.014630266699441563\n",
      "tcurr_debug_point: [252.08345682638054, 146.12636961010963, 1.1]\n",
      "for current time t=1169.8302690000273\n",
      "\tlast_window_index: 35318\n",
      "\tlast_window_time: 1169.8338462667957\n",
      "\tdisplayed_time_offset: -0.003577266768388654\n",
      "tcurr_debug_point: [252.08345682638054, 146.12636961010963, 1.1]\n",
      "for current time t=1179.7067710000556\n",
      "\tlast_window_index: 35618\n",
      "\tlast_window_time: 1179.733846266799\n",
      "\tdisplayed_time_offset: -0.027075266743395332\n",
      "tcurr_debug_point: [252.08345682638054, 146.12636961010963, 1.1]\n",
      "for current time t=1180.7088579999981\n",
      "\tlast_window_index: 35648\n",
      "\tlast_window_time: 1180.7238462667995\n",
      "\tdisplayed_time_offset: -0.014988266801310601\n",
      "tcurr_debug_point: [252.08345682638054, 146.12636961010963, 1.1]\n",
      "for current time t=1188.6163660000311\n",
      "\tlast_window_index: 35888\n",
      "\tlast_window_time: 1188.643846266802\n",
      "\tdisplayed_time_offset: -0.0274802667709082\n",
      "tcurr_debug_point: [252.08345682638054, 146.12636961010963, 1.1]\n"
     ]
    }
   ],
   "source": [
    "\n",
    "active_one_step_decoder = deepcopy(global_results.pf2D_Decoder)\n",
    "# _update_nearest_decoded_most_likely_position_callback, _conn = add_nearest_decoded_position_indicator_circle(self, active_one_step_decoder, _debug_print = False)\n",
    "\n",
    "_update_nearest_decoded_most_likely_position_callback, _conn = ipspikesDataExplorer.add_nearest_decoded_position_indicator_circle(active_one_step_decoder=active_one_step_decoder, debug_print=True)\n"
   ]
  },
  {
   "cell_type": "code",
   "execution_count": 55,
   "id": "0e8d5529",
   "metadata": {},
   "outputs": [
    {
     "name": "stderr",
     "output_type": "stream",
     "text": [
      "WARNING:root:Encountered issue in callback (most recent call last):\n",
      "  File \"C:\\Users\\pho\\repos\\Spike3DWorkEnv\\pyPhoPlaceCellAnalysis\\src\\pyphoplacecellanalysis\\PhoPositionalData\\plotting\\mixins\\decoder_plotting_mixins.py\", line 538, in <lambda>\n",
      "    callback=lambda value: self.on_update_slider_epoch_idx(int(value)), #storage_engine('epoch', int(value)), # triggering .__call__(self, param='epoch', value)....\n",
      "  File \"C:\\Users\\pho\\repos\\Spike3DWorkEnv\\pyPhoPlaceCellAnalysis\\src\\pyphoplacecellanalysis\\PhoPositionalData\\plotting\\mixins\\decoder_plotting_mixins.py\", line 606, in on_update_slider_epoch_idx\n",
      "    self.perform_update_plot_epoch_time_bin_range(self.curr_time_bin_index)\n",
      "  File \"C:\\Users\\pho\\repos\\Spike3DWorkEnv\\pyPhoPlaceCellAnalysis\\src\\pyphoplacecellanalysis\\PhoPositionalData\\plotting\\mixins\\decoder_plotting_mixins.py\", line 643, in perform_update_plot_epoch_time_bin_range\n",
      "    a_posterior_p_x_given_n, a_time_bin_centers = self.get_curr_posterior(an_epoch_idx=self.curr_epoch_idx, time_bin_index=value)\n",
      "  File \"C:\\Users\\pho\\repos\\Spike3DWorkEnv\\pyPhoPlaceCellAnalysis\\src\\pyphoplacecellanalysis\\PhoPositionalData\\plotting\\mixins\\decoder_plotting_mixins.py\", line 671, in get_curr_posterior\n",
      "    a_posterior_p_x_given_n, a_time_bin_centers = self._perform_get_curr_posterior(a_result=self.a_result, an_epoch_idx=an_epoch_idx, time_bin_index=time_bin_index)\n",
      "  File \"C:\\Users\\pho\\repos\\Spike3DWorkEnv\\pyPhoPlaceCellAnalysis\\src\\pyphoplacecellanalysis\\PhoPositionalData\\plotting\\mixins\\decoder_plotting_mixins.py\", line 699, in _perform_get_curr_posterior\n",
      "    n_xbins, n_ybins, n_epoch_timebins = np.shape(a_posterior_p_x_given_n_all_t)\n",
      "ValueError: not enough values to unpack (expected 3, got 2)\n"
     ]
    }
   ],
   "source": [
    "from pyphoplacecellanalysis.PhoPositionalData.plotting.mixins.decoder_plotting_mixins import DecodedTrajectoryPyVistaPlotter\n",
    "\n",
    "a_result: DecodedFilterEpochsResult = deepcopy(decoder_laps_filter_epochs_decoder_result_dict['long_LR'])\n",
    "\n",
    "a_decoded_trajectory_pyvista_plotter: DecodedTrajectoryPyVistaPlotter = ipspikesDataExplorer.add_decoded_posterior_bars(a_result=a_result,\n",
    "                                                                                                                         xbin=active_one_step_decoder.xbin, xbin_centers=active_one_step_decoder.xbin_centers, ybin=active_one_step_decoder.ybin, ybin_centers=active_one_step_decoder.ybin_centers)\n"
   ]
  },
  {
   "cell_type": "code",
   "execution_count": null,
   "id": "4df7c0c1",
   "metadata": {},
   "outputs": [],
   "source": [
    "ipspikesDataExplorer.params.curr_view_window_length_samples"
   ]
  },
  {
   "cell_type": "code",
   "execution_count": null,
   "id": "352c3d2c",
   "metadata": {},
   "outputs": [],
   "source": [
    "\n",
    "# ipspikesDataExplorer.params.curr_view_window_length_samples # 299\n",
    "ipspikesDataExplorer.params.curr_view_window_length_samples = 60.0 * 5.0 * ipspikesDataExplorer.active_session.position.sampling_rate # 5 minutes\n",
    "\n"
   ]
  },
  {
   "cell_type": "code",
   "execution_count": null,
   "id": "a2a1e903",
   "metadata": {},
   "outputs": [],
   "source": [
    "ipspikesDataExplorer.params"
   ]
  },
  {
   "cell_type": "code",
   "execution_count": null,
   "id": "186e8883",
   "metadata": {},
   "outputs": [],
   "source": [
    "from mpl_interactions.widgets import RangeSlider"
   ]
  },
  {
   "cell_type": "code",
   "execution_count": null,
   "id": "acebce7c",
   "metadata": {},
   "outputs": [],
   "source": [
    "# ipspikesDataExplorer.add_grid_bin_bounds_box(\n",
    "ipspikesDataExplorer.on_slider_update_mesh"
   ]
  },
  {
   "cell_type": "markdown",
   "id": "7f59bafd",
   "metadata": {},
   "source": [
    "# 🖼️🎨:🟢 2024-02-28 - WE gotta see the replays on the 3D track. Or the 2D track.\n",
    "2024-04-28 - This is working in both 3D and 2D!"
   ]
  },
  {
   "cell_type": "code",
   "execution_count": null,
   "id": "714ad549",
   "metadata": {},
   "outputs": [],
   "source": [
    "## INPUTS: directional_laps_results, global_replays, decoder_ripple_filter_epochs_decoder_result_dict\n",
    "\n",
    "# global_pf1D\n",
    "# long_replays\n",
    "# direction_max_indices = ripple_all_epoch_bins_marginals_df[['P_Long', 'P_Short']].values.argmax(axis=1)\n",
    "# track_identity_max_indices = ripple_all_epoch_bins_marginals_df[['P_Long', 'P_Short']].values.argmax(axis=1)\n",
    "\n",
    "## How do I get the replays?\n",
    "# long_replay_df: pd.DataFrame = long_replays.to_dataframe() ## These work.\n",
    "# global_replay_df: pd.DataFrame = global_replays.to_dataframe() ## These work.\n",
    "# global_replay_df"
   ]
  },
  {
   "cell_type": "code",
   "execution_count": null,
   "id": "721e8e2b",
   "metadata": {},
   "outputs": [],
   "source": [
    "## 1D version:\n",
    "## INPUTS: directional_laps_results, decoder_ripple_filter_epochs_decoder_result_dict\n",
    "xbin = deepcopy(directional_laps_results.get_decoders()[0].xbin)\n",
    "xbin_centers = deepcopy(directional_laps_results.get_decoders()[0].xbin_centers)\n",
    "ybin_centers = None\n",
    "ybin = None\n",
    "\n",
    "a_decoded_filter_epochs_decoder_result_dict: Dict[str, DecodedFilterEpochsResult] = deepcopy(decoder_laps_filter_epochs_decoder_result_dict)\n",
    "# a_decoded_filter_epochs_decoder_result_dict: Dict[str, DecodedFilterEpochsResult] = deepcopy(decoder_ripple_filter_epochs_decoder_result_dict)\n",
    "# a_decoded_filter_epochs_decoder_result_dict\n",
    "\n",
    "## 1D:\n",
    "a_result: DecodedFilterEpochsResult = a_decoded_filter_epochs_decoder_result_dict['long_LR'] # 1D\n",
    "\n",
    "## OUTPUTS: a_decoded_filter_epochs_decoder_result_dict, xbin_centers, ybin_centers"
   ]
  },
  {
   "cell_type": "code",
   "execution_count": null,
   "id": "b31cdc1d",
   "metadata": {},
   "outputs": [
    {
     "name": "stdout",
     "output_type": "stream",
     "text": [
      "laps_decoding_time_bin_size: 0.2, ripple_decoding_time_bin_size: 0.025, pos_bin_size: (3.8054171165052444, 1.4477079927649104)\n"
     ]
    },
    {
     "name": "stderr",
     "output_type": "stream",
     "text": [
      "C:\\Users\\pho\\repos\\Spike3DWorkEnv\\pyPhoPlaceCellAnalysis\\src\\pyphoplacecellanalysis\\Analysis\\Decoder\\reconstruction.py:333: RuntimeWarning: invalid value encountered in divide\n",
      "  posterior /= np.sum(posterior, axis=0) # C(tau, n) = np.sum(posterior, axis=0): normalization condition mentioned in eqn 36 to convert to P_x_given_n\n",
      "C:\\Users\\pho\\repos\\Spike3DWorkEnv\\pyPhoPlaceCellAnalysis\\src\\pyphoplacecellanalysis\\Analysis\\Decoder\\reconstruction.py:333: RuntimeWarning: invalid value encountered in divide\n",
      "  posterior /= np.sum(posterior, axis=0) # C(tau, n) = np.sum(posterior, axis=0): normalization condition mentioned in eqn 36 to convert to P_x_given_n\n"
     ]
    }
   ],
   "source": [
    "## 2D version:\n",
    "from neuropy.analyses.placefields import PfND\n",
    "from pyphoplacecellanalysis.Analysis.Decoder.reconstruction import BayesianPlacemapPositionDecoder\n",
    "from pyphoplacecellanalysis.General.Pipeline.Stages.ComputationFunctions.MultiContextComputationFunctions.DirectionalPlacefieldGlobalComputationFunctions import _compute_lap_and_ripple_epochs_decoding_for_decoder\n",
    "\n",
    "## INPUTS: long_results, short_results\n",
    "# long_one_step_decoder_2D\n",
    "\n",
    "long_one_step_decoder_2D, short_one_step_decoder_2D  = [results_data.get('pf2D_Decoder', None) for results_data in (long_results, short_results)]\n",
    "one_step_decoder_dict_2D: Dict[str, BayesianPlacemapPositionDecoder] = dict(zip(('long', 'short'), (long_one_step_decoder_2D, short_one_step_decoder_2D)))\n",
    "long_pf2D = long_results.pf2D\n",
    "# short_pf2D = short_results.pf2D\n",
    "\n",
    "xbin = deepcopy(long_pf2D.xbin)\n",
    "xbin_centers = deepcopy(long_pf2D.xbin_centers)\n",
    "ybin = deepcopy(long_pf2D.ybin)\n",
    "ybin_centers = deepcopy(long_pf2D.ybin_centers)\n",
    "\n",
    "## OUTPUTS: one_step_decoder_dict_2D, xbin_centers, ybin_centers\n",
    "\n",
    "## INPUTS: one_step_decoder_dict_2D\n",
    "\n",
    "# DirectionalMergedDecoders: Get the result after computation:\n",
    "directional_merged_decoders_result: DirectionalMergedDecodersResult = curr_active_pipeline.global_computation_results.computed_data['DirectionalMergedDecoders']\n",
    "ripple_decoding_time_bin_size: float = directional_merged_decoders_result.ripple_decoding_time_bin_size\n",
    "laps_decoding_time_bin_size: float = directional_merged_decoders_result.laps_decoding_time_bin_size\n",
    "pos_bin_size: Tuple[float, float] = list(one_step_decoder_dict_2D.values())[0].pos_bin_size\n",
    "\n",
    "print(f'laps_decoding_time_bin_size: {laps_decoding_time_bin_size}, ripple_decoding_time_bin_size: {ripple_decoding_time_bin_size}, pos_bin_size: {pos_bin_size}')\n",
    "\n",
    "## Decode epochs for the two decoders ('long', 'short'):\n",
    "LS_decoder_laps_filter_epochs_decoder_result_dict: Dict[str, DecodedFilterEpochsResult] = {}\n",
    "LS_decoder_ripple_filter_epochs_decoder_result_dict: Dict[str, DecodedFilterEpochsResult] = {}\n",
    "\n",
    "for a_name, a_decoder in one_step_decoder_dict_2D.items():\n",
    "    LS_decoder_laps_filter_epochs_decoder_result_dict[a_name], LS_decoder_ripple_filter_epochs_decoder_result_dict[a_name] = _compute_lap_and_ripple_epochs_decoding_for_decoder(a_decoder, curr_active_pipeline, desired_laps_decoding_time_bin_size=laps_decoding_time_bin_size, desired_ripple_decoding_time_bin_size=ripple_decoding_time_bin_size)\n",
    "\n",
    "# LS_decoder_ripple_filter_epochs_decoder_result_dict\n"
   ]
  },
  {
   "cell_type": "code",
   "execution_count": null,
   "id": "e591738c",
   "metadata": {},
   "outputs": [],
   "source": [
    "## 2D:\n",
    "# Choose the ripple epochs to plot:\n",
    "a_decoded_filter_epochs_decoder_result_dict: Dict[str, DecodedFilterEpochsResult] = deepcopy(LS_decoder_ripple_filter_epochs_decoder_result_dict)\n",
    "a_result: DecodedFilterEpochsResult = a_decoded_filter_epochs_decoder_result_dict['long'] # 2D\n",
    "# Choose the laps epochs to plot:\n",
    "# a_decoded_filter_epochs_decoder_result_dict: Dict[str, DecodedFilterEpochsResult] = deepcopy(LS_decoder_laps_filter_epochs_decoder_result_dict)\n",
    "# a_decoded_filter_epochs_decoder_result_dict\n",
    "\n",
    "\n",
    "# a_result: DecodedFilterEpochsResult = LS_decoder_laps_filter_epochs_decoder_result_dict['long'] # 2D"
   ]
  },
  {
   "cell_type": "code",
   "execution_count": null,
   "id": "ffdd1b42",
   "metadata": {},
   "outputs": [
    {
     "data": {
      "application/vnd.jupyter.widget-view+json": {
       "model_id": "fa35b583e1a740ac9a0db344dd81182b",
       "version_major": 2,
       "version_minor": 0
      },
      "text/plain": [
       "IntSlider(value=0, description='time bin:', max=16)"
      ]
     },
     "metadata": {},
     "output_type": "display_data"
    }
   ],
   "source": [
    "from pyphoplacecellanalysis.PhoPositionalData.plotting.mixins.decoder_plotting_mixins import DecodedTrajectoryMatplotlibPlotter\n",
    "\n",
    "## INPUTS: a_result: DecodedFilterEpochsResult, an_epoch_idx: int = 18\n",
    "# e.g. `a_result: DecodedFilterEpochsResult = a_decoded_filter_epochs_decoder_result_dict['long_LR']`\n",
    "\n",
    "# a_result: DecodedFilterEpochsResult = a_decoded_filter_epochs_decoder_result_dict['long_LR'] # 1D\n",
    "\n",
    "## Convert to plottable posteriors\n",
    "# an_epoch_idx: int = 0\n",
    "\n",
    "# valid_aclus = deepcopy(decoder_aclu_peak_location_df_merged.aclu.unique())\n",
    "num_filter_epochs: int = a_result.num_filter_epochs\n",
    "a_decoded_traj_plotter = DecodedTrajectoryMatplotlibPlotter(a_result=a_result, xbin=xbin, xbin_centers=xbin_centers, ybin=ybin, ybin_centers=ybin_centers)\n",
    "fig, axs, laps_pages = a_decoded_traj_plotter.plot_decoded_trajectories_2d(global_session, curr_num_subplots=8, active_page_index=0, plot_actual_lap_lines=False, use_theoretical_tracks_instead=True)\n",
    "\n",
    "integer_slider = a_decoded_traj_plotter.plot_epoch_with_slider_widget(an_epoch_idx=6)\n",
    "integer_slider"
   ]
  },
  {
   "cell_type": "code",
   "execution_count": null,
   "id": "8f60583e",
   "metadata": {},
   "outputs": [],
   "source": [
    "type(laps_pages)"
   ]
  },
  {
   "cell_type": "code",
   "execution_count": null,
   "id": "e2ff87b5",
   "metadata": {},
   "outputs": [],
   "source": [
    "heatmaps[0].remove()\n",
    "\n",
    "# an_ax.remove(heatmaps[0])"
   ]
  },
  {
   "cell_type": "code",
   "execution_count": null,
   "id": "ebfd94ef",
   "metadata": {},
   "outputs": [],
   "source": [
    "an_ax = axs[0][0]"
   ]
  },
  {
   "cell_type": "markdown",
   "id": "dd9cfc42",
   "metadata": {},
   "source": [
    "## add to 3D plotter:"
   ]
  },
  {
   "cell_type": "code",
   "execution_count": null,
   "id": "4cf94f11",
   "metadata": {},
   "outputs": [],
   "source": [
    "from pyphoplacecellanalysis.PhoPositionalData.plotting.mixins.decoder_plotting_mixins import DecodedTrajectoryPyVistaPlotter\n",
    "\n",
    "## INPUTS: a_result, xbin_centers, ybin_centers, iplapsDataExplorer\n",
    "# a_decoded_trajectory_pyvista_plotter: DecodedTrajectoryPyVistaPlotter = DecodedTrajectoryPyVistaPlotter(a_result=a_result, xbin=xbin, xbin_centers=xbin_centers, ybin=ybin, ybin_centers=ybin_centers, p=iplapsDataExplorer.p)\n",
    "# a_decoded_trajectory_pyvista_plotter.build_ui()\n",
    "a_decoded_trajectory_pyvista_plotter: DecodedTrajectoryPyVistaPlotter = iplapsDataExplorer.add_decoded_posterior_bars(a_result=a_result, xbin=xbin, xbin_centers=xbin_centers, ybin=ybin, ybin_centers=ybin_centers, enable_plot_all_time_bins_in_epoch_mode=True)"
   ]
  },
  {
   "cell_type": "code",
   "execution_count": null,
   "id": "3038982b",
   "metadata": {},
   "outputs": [],
   "source": [
    "# a_posterior_p_x_given_n, n_epoch_timebins = a_decoded_trajectory_pyvista_plotter._perform_get_curr_posterior(a_result=a_result, an_epoch_idx=a_decoded_trajectory_pyvista_plotter.curr_epoch_idx, time_bin_index=np.arange(a_decoded_trajectory_pyvista_plotter.curr_n_time_bins))\n",
    "# np.shape(a_posterior_p_x_given_n)\n",
    "\n",
    "\n",
    "a_posterior_p_x_given_n, n_epoch_timebins = a_decoded_trajectory_pyvista_plotter.get_curr_posterior(an_epoch_idx=a_decoded_trajectory_pyvista_plotter.curr_epoch_idx, time_bin_index=np.arange(a_decoded_trajectory_pyvista_plotter.curr_n_time_bins))\n",
    "np.shape(a_posterior_p_x_given_n)\n",
    "\n",
    "n_epoch_timebins"
   ]
  },
  {
   "cell_type": "code",
   "execution_count": null,
   "id": "9878ed8b",
   "metadata": {},
   "outputs": [],
   "source": [
    "v = a_decoded_trajectory_pyvista_plotter.plotActors['plot_3d_binned_bars[49.11980797704307]']\n",
    "# v['main'].remove()\n",
    "\n",
    "a_decoded_trajectory_pyvista_plotter.p.remove_actor(v['main'])"
   ]
  },
  {
   "cell_type": "code",
   "execution_count": null,
   "id": "7c6dc498",
   "metadata": {},
   "outputs": [],
   "source": [
    "from pyphoplacecellanalysis.Pho3D.PyVista.graphs import clear_3d_binned_bars_plots\n",
    "\n",
    "clear_3d_binned_bars_plots(p=a_decoded_trajectory_pyvista_plotter.p, plotActors=a_decoded_trajectory_pyvista_plotter.plotActors)\n"
   ]
  },
  {
   "cell_type": "code",
   "execution_count": null,
   "id": "1026b38b",
   "metadata": {},
   "outputs": [],
   "source": [
    "a_decoded_trajectory_pyvista_plotter.plotActors_CenterLabels"
   ]
  },
  {
   "cell_type": "code",
   "execution_count": null,
   "id": "0aec258c",
   "metadata": {},
   "outputs": [],
   "source": [
    "a_decoded_trajectory_pyvista_plotter.perform_update_plot_epoch_time_bin_range(value=None) # select all"
   ]
  },
  {
   "cell_type": "code",
   "execution_count": null,
   "id": "e721a086",
   "metadata": {},
   "outputs": [],
   "source": [
    "a_decoded_trajectory_pyvista_plotter.perform_clear_existing_decoded_trajectory_plots()\n",
    "iplapsDataExplorer.p.update()\n",
    "iplapsDataExplorer.p.render()"
   ]
  },
  {
   "cell_type": "code",
   "execution_count": null,
   "id": "4795182a",
   "metadata": {},
   "outputs": [],
   "source": [
    "time_bin_index = np.arange(a_decoded_trajectory_pyvista_plotter.curr_n_time_bins)\n",
    "type(time_bin_index)"
   ]
  },
  {
   "cell_type": "code",
   "execution_count": null,
   "id": "7059eeac",
   "metadata": {},
   "outputs": [],
   "source": [
    "a_decoded_trajectory_pyvista_plotter.slider_epoch.RemoveAllObservers()\n",
    "a_decoded_trajectory_pyvista_plotter.slider_epoch.Off()\n",
    "# a_decoded_trajectory_pyvista_plotter.slider_epoch.FastDelete()\n",
    "a_decoded_trajectory_pyvista_plotter.slider_epoch = None\n",
    "\n",
    "a_decoded_trajectory_pyvista_plotter.slider_epoch_time_bin.RemoveAllObservers()\n",
    "a_decoded_trajectory_pyvista_plotter.slider_epoch_time_bin.Off()\n",
    "# a_decoded_trajectory_pyvista_plotter.slider_epoch_time_bin.FastDelete()\n",
    "a_decoded_trajectory_pyvista_plotter.slider_epoch_time_bin = None\n",
    "iplapsDataExplorer.p.clear_slider_widgets()\n",
    "iplapsDataExplorer.p.update()\n",
    "iplapsDataExplorer.p.render()"
   ]
  },
  {
   "cell_type": "code",
   "execution_count": null,
   "id": "d66de9f2",
   "metadata": {},
   "outputs": [],
   "source": [
    "from pyphoplacecellanalysis.PhoPositionalData.plotting.mixins.decoder_plotting_mixins import DecoderRenderingPyVistaMixin\n",
    "\n",
    "(plotActors, data_dict), (plotActors_CenterLabels, data_dict_CenterLabels) = DecoderRenderingPyVistaMixin.perform_plot_posterior_bars(iplapsDataExplorer.p, xbin=xbin, ybin=ybin, xbin_centers=xbin_centers, ybin_centers=ybin_centers,\n",
    "                                               posterior_p_x_given_n=a_posterior_p_x_given_n)\n"
   ]
  },
  {
   "cell_type": "code",
   "execution_count": null,
   "id": "d6d46f84",
   "metadata": {},
   "outputs": [],
   "source": [
    "0.20720657697753883 * 24.130508176591324"
   ]
  },
  {
   "cell_type": "markdown",
   "id": "293adac0",
   "metadata": {},
   "source": [
    "# 🖼️🎨 Rasters Debugger (via `RankOrderRastersDebugger`)\n",
    "<!-- ![image.png|350](attachment:image.png) -->\n",
    "![image.png](attachment:image.png){ width=300; max-width: 300px; }\n",
    "<!-- <img src=\"path_to_your_image.png\" style=\"max-width: 300px;\" /> -->"
   ]
  },
  {
   "cell_type": "code",
   "execution_count": null,
   "id": "393c0898",
   "metadata": {},
   "outputs": [],
   "source": [
    "from pyphoplacecellanalysis.GUI.PyQtPlot.Widgets.ContainerBased.RankOrderRastersDebugger import RankOrderRastersDebugger\n",
    "\n",
    "long_epoch_name, short_epoch_name, global_epoch_name = curr_active_pipeline.find_LongShortGlobal_epoch_names()\n",
    "global_spikes_df = deepcopy(curr_active_pipeline.computation_results[global_epoch_name]['computed_data'].pf1D.spikes_df)"
   ]
  },
  {
   "cell_type": "code",
   "execution_count": null,
   "id": "ff576652",
   "metadata": {},
   "outputs": [],
   "source": [
    "global_laps = deepcopy(curr_active_pipeline.filtered_sessions[global_epoch_name].laps) # .trimmed_to_non_overlapping()\n",
    "global_laps_epochs_df = global_laps.to_dataframe()\n",
    "\n",
    "RL_active_epoch_selected_spikes_fragile_linear_neuron_IDX_dict = None\n",
    "LR_active_epoch_selected_spikes_fragile_linear_neuron_IDX_dict = None\n",
    "_out_laps_rasters: RankOrderRastersDebugger = RankOrderRastersDebugger.init_rank_order_debugger(global_spikes_df, global_laps_epochs_df, track_templates, rank_order_results, RL_active_epoch_selected_spikes_fragile_linear_neuron_IDX_dict, LR_active_epoch_selected_spikes_fragile_linear_neuron_IDX_dict)\n",
    "_out_laps_rasters"
   ]
  },
  {
   "cell_type": "code",
   "execution_count": null,
   "id": "8a586d06",
   "metadata": {},
   "outputs": [],
   "source": [
    "# long_epoch_name, short_epoch_name, global_epoch_name = curr_active_pipeline.find_LongShortGlobal_epoch_names()\n",
    "# global_spikes_df = deepcopy(curr_active_pipeline.computation_results[global_epoch_name]['computed_data'].pf1D.spikes_df)\n",
    "# global_laps = deepcopy(curr_active_pipeline.filtered_sessions[global_epoch_name].laps) # .trimmed_to_non_overlapping()\n",
    "# global_laps_epochs_df = global_laps.to_dataframe()\n",
    "global_ripple_epochs_df = global_replays.to_dataframe()\n",
    "\n",
    "RL_active_epoch_selected_spikes_fragile_linear_neuron_IDX_dict = None\n",
    "LR_active_epoch_selected_spikes_fragile_linear_neuron_IDX_dict = None\n",
    "_out_ripple_rasters: RankOrderRastersDebugger = RankOrderRastersDebugger.init_rank_order_debugger(global_spikes_df, global_ripple_epochs_df, track_templates, rank_order_results, RL_active_epoch_selected_spikes_fragile_linear_neuron_IDX_dict, LR_active_epoch_selected_spikes_fragile_linear_neuron_IDX_dict)\n",
    "_out_ripple_rasters"
   ]
  },
  {
   "cell_type": "code",
   "execution_count": null,
   "id": "c01a20ec",
   "metadata": {},
   "outputs": [],
   "source": [
    "RL_active_epoch_selected_spikes_fragile_linear_neuron_IDX_dict = None\n",
    "LR_active_epoch_selected_spikes_fragile_linear_neuron_IDX_dict = None\n",
    "# rank_order_results\n",
    "# used_rank_order_results = deepcopy(rank_order_results)\n",
    "used_rank_order_results = None\n",
    "_out_ripple_rasters: RankOrderRastersDebugger = RankOrderRastersDebugger.init_rank_order_debugger(global_spikes_df, deepcopy(filtered_ripple_simple_pf_pearson_merged_df),\n",
    "                                                                                                   track_templates, used_rank_order_results,\n",
    "                                                                                                    RL_active_epoch_selected_spikes_fragile_linear_neuron_IDX_dict, LR_active_epoch_selected_spikes_fragile_linear_neuron_IDX_dict)\n",
    "_out_ripple_rasters"
   ]
  },
  {
   "cell_type": "code",
   "execution_count": null,
   "id": "34ff2177",
   "metadata": {},
   "outputs": [],
   "source": [
    "\n",
    "long_epoch_name, short_epoch_name, global_epoch_name = curr_active_pipeline.find_LongShortGlobal_epoch_names()\n",
    "global_spikes_df = deepcopy(curr_active_pipeline.computation_results[global_epoch_name]['computed_data'].pf1D.spikes_df)\n",
    "_out_ripple_rasters: RankOrderRastersDebugger = RankOrderRastersDebugger.init_rank_order_debugger(global_spikes_df, deepcopy(filtered_ripple_simple_pf_pearson_merged_df),\n",
    "                                                                                                   track_templates, None,\n",
    "                                                                                                    None, None,\n",
    "                                                                                                    dock_add_locations = dict(zip(('long_LR', 'long_RL', 'short_LR', 'short_RL'), (['right'], ['right'], ['right'], ['right']))),\n",
    "                                                                                                    )\n",
    "_out_ripple_rasters.set_top_info_bar_visibility(False)\n"
   ]
  },
  {
   "cell_type": "code",
   "execution_count": null,
   "id": "6a0e4ff8",
   "metadata": {},
   "outputs": [],
   "source": [
    "_out_ripple_rasters.set_top_info_bar_visibility(False)"
   ]
  },
  {
   "cell_type": "code",
   "execution_count": null,
   "id": "700afa66",
   "metadata": {},
   "outputs": [],
   "source": [
    "# Hide top info bar:\n",
    "LongShortColumnsInfo_dock_layout, LongShortColumnsInfo_dock_Dock = _out_ripple_rasters.plots.dock_widgets['LongShortColumnsInfo_dock']\n",
    "# LongShortColumnsInfo_dock_layout.hide() # No use\n",
    "# _out_ripple_rasters.ui.long_short_info_layout.hide() # No use\n",
    "LongShortColumnsInfo_dock_Dock.hide()"
   ]
  },
  {
   "cell_type": "code",
   "execution_count": null,
   "id": "95532207",
   "metadata": {},
   "outputs": [],
   "source": [
    "LongShortColumnsInfo_dock_Dock.hide()"
   ]
  },
  {
   "cell_type": "code",
   "execution_count": null,
   "id": "174f3c29",
   "metadata": {},
   "outputs": [],
   "source": [
    "# found_IDX = _out_ripple_rasters.find_nearest_time_index(193.65)\n",
    "# if found_IDX is not None:\n",
    "#     print(f'found_IDX: {found_IDX}')\n",
    "#     _out_ripple_rasters.programmatically_update_epoch_IDX(found_IDX)\n",
    "\n",
    "\n",
    "_out_ripple_rasters.programmatically_update_epoch_IDX_from_epoch_start_time(193.65)\n",
    "\n"
   ]
  },
  {
   "cell_type": "code",
   "execution_count": null,
   "id": "965556b9",
   "metadata": {},
   "outputs": [],
   "source": [
    "_out_ripple_rasters.on_update_epoch_IDX(45)\n",
    "# on_update_epoch_IDX\n"
   ]
  },
  {
   "cell_type": "code",
   "execution_count": null,
   "id": "cada3aef",
   "metadata": {},
   "outputs": [],
   "source": [
    "_a_ScrollBarWithSpinBox = _out_ripple_rasters.ui.ctrls_widget # ScrollBarWithSpinBox \n",
    "_a_ScrollBarWithSpinBox.setValue(45)"
   ]
  },
  {
   "cell_type": "code",
   "execution_count": null,
   "id": "521bba12",
   "metadata": {},
   "outputs": [],
   "source": [
    "curr_active_pipeline.plot._display_directional_template_debugger()"
   ]
  },
  {
   "cell_type": "code",
   "execution_count": null,
   "id": "14a7fec5",
   "metadata": {},
   "outputs": [],
   "source": [
    "_out = curr_active_pipeline.display('_display_directional_template_debugger')\n"
   ]
  },
  {
   "cell_type": "code",
   "execution_count": null,
   "id": "c50f2ef8",
   "metadata": {},
   "outputs": [],
   "source": [
    "_out = curr_active_pipeline.display('_display_directional_track_template_pf1Ds')\n"
   ]
  },
  {
   "cell_type": "code",
   "execution_count": null,
   "id": "6eb3c80c",
   "metadata": {},
   "outputs": [],
   "source": [
    "curr_active_pipeline.reload_default_display_functions()"
   ]
  },
  {
   "cell_type": "code",
   "execution_count": null,
   "id": "080c1041",
   "metadata": {},
   "outputs": [],
   "source": [
    "_out = curr_active_pipeline.display('_display_two_step_decoder_prediction_error_2D', global_epoch_context, variable_name='p_x_given_n')\n"
   ]
  },
  {
   "cell_type": "code",
   "execution_count": null,
   "id": "9e05b045",
   "metadata": {},
   "outputs": [],
   "source": [
    "_out = curr_active_pipeline.display('_display_plot_most_likely_position_comparisons', global_epoch_context) # , variable_name='p_x_given_n'\n"
   ]
  },
  {
   "cell_type": "code",
   "execution_count": null,
   "id": "dddebd9e",
   "metadata": {},
   "outputs": [],
   "source": [
    "_out = curr_active_pipeline.display('_display_directional_laps_overview')\n"
   ]
  },
  {
   "cell_type": "code",
   "execution_count": null,
   "id": "4d805c37",
   "metadata": {},
   "outputs": [],
   "source": [
    "_out = curr_active_pipeline.display('_display_directional_laps_overview')\n"
   ]
  },
  {
   "cell_type": "code",
   "execution_count": null,
   "id": "1b3c3cea",
   "metadata": {},
   "outputs": [],
   "source": [
    "'_display_directional_laps_overview'"
   ]
  },
  {
   "cell_type": "code",
   "execution_count": null,
   "id": "cb98e796",
   "metadata": {},
   "outputs": [],
   "source": [
    "# '_display_directional_merged_pfs'\n",
    "_out = curr_active_pipeline.display('_display_directional_merged_pfs', plot_all_directions=False, plot_long_directional=True, )"
   ]
  },
  {
   "cell_type": "code",
   "execution_count": null,
   "id": "47076a61",
   "metadata": {},
   "outputs": [],
   "source": [
    "'_display_1d_placefield_occupancy'\n",
    "'_display_placemaps_pyqtplot_2D'\n",
    " '_display_2d_placefield_occupancy'"
   ]
  },
  {
   "cell_type": "code",
   "execution_count": null,
   "id": "481df233",
   "metadata": {},
   "outputs": [],
   "source": [
    "_out = curr_active_pipeline.display('_display_2d_placefield_occupancy', global_any_name)"
   ]
  },
  {
   "cell_type": "code",
   "execution_count": null,
   "id": "694d0a20",
   "metadata": {},
   "outputs": [],
   "source": [
    "_out = curr_active_pipeline.display('_display_grid_bin_bounds_validation')"
   ]
  },
  {
   "cell_type": "code",
   "execution_count": null,
   "id": "58951b11",
   "metadata": {},
   "outputs": [],
   "source": [
    "from neuropy.utils.matplotlib_helpers import add_rectangular_selector, add_range_selector\n",
    "\n",
    "\n",
    "# epoch_name = global_any_name\n",
    "epoch_name = short_epoch_name\n",
    "computation_result = curr_active_pipeline.computation_results[epoch_name]\n",
    "grid_bin_bounds = computation_result.computation_config['pf_params'].grid_bin_bounds\n",
    "epoch_context = curr_active_pipeline.filtered_contexts[epoch_name]\n",
    "            \n",
    "fig, ax = computation_result.computed_data.pf2D.plot_occupancy(identifier_details_list=[epoch_name], active_context=epoch_context) \n",
    "\n",
    "# rect_selector, set_extents, reset_extents = add_rectangular_selector(fig, ax, initial_selection=grid_bin_bounds) # (24.82, 257.88), (125.52, 149.19)"
   ]
  },
  {
   "cell_type": "code",
   "execution_count": null,
   "id": "ada4720b",
   "metadata": {},
   "outputs": [],
   "source": [
    "from pyphoplacecellanalysis.Pho2D.track_shape_drawing import add_vertical_track_bounds_lines\n",
    "\n",
    "grid_bin_bounds = deepcopy(long_pf2D.config.grid_bin_bounds)\n",
    "long_track_line_collection, short_track_line_collection = add_vertical_track_bounds_lines(grid_bin_bounds=grid_bin_bounds, ax=ax)"
   ]
  },
  {
   "cell_type": "code",
   "execution_count": null,
   "id": "2b862a66",
   "metadata": {},
   "outputs": [],
   "source": [
    "from neuropy.utils.mixins.peak_location_representing import compute_placefield_center_of_mass_positions\n",
    "\n",
    "\n",
    "epoch_name = global_any_name\n",
    "computation_result = curr_active_pipeline.computation_results[epoch_name]\n",
    "grid_bin_bounds = deepcopy(computation_result.computation_config['pf_params'].grid_bin_bounds)\n",
    "epoch_context = curr_active_pipeline.filtered_contexts[epoch_name]\n"
   ]
  },
  {
   "cell_type": "code",
   "execution_count": null,
   "id": "5905e90b",
   "metadata": {},
   "outputs": [],
   "source": [
    "grid_bin_bounds = deepcopy(long_pf2D.config.grid_bin_bounds)\n",
    "long_pf2D.xbin\n",
    "long_pf2D.ybin"
   ]
  },
  {
   "cell_type": "code",
   "execution_count": null,
   "id": "befc3d1d",
   "metadata": {},
   "outputs": [],
   "source": [
    "occupancy = deepcopy(long_pf2D.occupancy) # occupancy.shape # (60, 15)\n",
    "xbin = deepcopy(long_pf2D.xbin)\n",
    "ybin = deepcopy(long_pf2D.ybin)\n"
   ]
  },
  {
   "cell_type": "code",
   "execution_count": null,
   "id": "ab0416d4",
   "metadata": {},
   "outputs": [],
   "source": [
    "from scipy import ndimage # used for `compute_placefield_center_of_masses`\n",
    "from neuropy.utils.mixins.peak_location_representing import compute_occupancy_center_of_mass_positions\n"
   ]
  },
  {
   "cell_type": "code",
   "execution_count": null,
   "id": "f6352663",
   "metadata": {},
   "outputs": [],
   "source": [
    "occupancy_x_center_dict = {k:compute_occupancy_center_of_mass_positions(v.pf.occupancy, xbin=v.pf.xbin, ybin=v.pf.ybin).item() for k, v in track_templates.get_decoders_dict().items()}\n",
    "occupancy_x_center_dict # {'long_LR': 162.99271603199625, 'long_RL': 112.79866056603696, 'short_LR': 138.45611791646, 'short_RL': 130.78889937230684}\n",
    "\n",
    "occupancy_mask_x_center_dict = {k:compute_occupancy_center_of_mass_positions(v.pf.visited_occupancy_mask, xbin=v.pf.xbin, ybin=v.pf.ybin).item() for k, v in track_templates.get_decoders_dict().items()}\n",
    "occupancy_mask_x_center_dict # {'long_LR': 135.66781520875904, 'long_RL': 130.0042755113645, 'short_LR': 133.77996864296085, 'short_RL': 143.21920147195175}\n",
    "\n",
    "\n",
    "# {k:compute_occupancy_center_of_mass_positions(v.pf.occupancy, xbin=v.pf.xbin, ybin=v.pf.ybin).item() for k, v in track_templates.get_decoders_dict().items()}\n"
   ]
  },
  {
   "cell_type": "code",
   "execution_count": null,
   "id": "5bb029d8",
   "metadata": {},
   "outputs": [],
   "source": [
    "occupancy = deepcopy(long_pf2D.occupancy) # occupancy.shape # (60, 15)\n",
    "xbin = deepcopy(long_pf2D.xbin)\n",
    "ybin = deepcopy(long_pf2D.ybin)\n",
    "\n",
    "# masked_nonzero_occupancy = deepcopy(long_pf2D.nan_never_visited_occupancy)\n",
    "\n",
    "masked_nonzero_occupancy = deepcopy(long_pf2D.visited_occupancy_mask)\n",
    "\n",
    "# occupancy_CoM_positions = compute_occupancy_center_of_mass_positions(occupancy, xbin=long_pf2D.xbin, ybin=long_pf2D.ybin)\n",
    "occupancy_CoM_positions = compute_occupancy_center_of_mass_positions(masked_nonzero_occupancy, xbin=long_pf2D.xbin, ybin=long_pf2D.ybin) # array([127.704, 145.63])\n",
    "occupancy_CoM_positions\n"
   ]
  },
  {
   "cell_type": "code",
   "execution_count": null,
   "id": "fd1e7e09",
   "metadata": {},
   "outputs": [],
   "source": [
    "occupancy"
   ]
  },
  {
   "cell_type": "code",
   "execution_count": null,
   "id": "097c3b06",
   "metadata": {},
   "outputs": [],
   "source": [
    "long_pf2D.nan_never_visited_occupancy\n",
    "\n"
   ]
  },
  {
   "cell_type": "code",
   "execution_count": null,
   "id": "9f4caa06",
   "metadata": {},
   "outputs": [],
   "source": [
    "curr_active_pipeline.registered_display_function_docs_dict\n",
    "\n",
    "\n",
    "'_display_grid_bin_bounds_validation'"
   ]
  },
  {
   "cell_type": "code",
   "execution_count": null,
   "id": "84f963a7",
   "metadata": {},
   "outputs": [],
   "source": [
    "## Extracting on 2024-02-06 to display the LR/RL directions instead of the All/Long/Short pfs:\n",
    "def _display_directional_merged_pfs(owning_pipeline_reference, global_computation_results, computation_results, active_configs, include_includelist=None, save_figure=True, included_any_context_neuron_ids=None,\n",
    "\t\t\t\t\t\t\t\t\tplot_all_directions=True, plot_long_directional=False, plot_short_directional=False, **kwargs):\n",
    "\t\"\"\" Plots the merged pseduo-2D pfs/ratemaps. Plots: All-Directions, Long-Directional, Short-Directional in seperate windows. \n",
    "\t\n",
    "\tHistory: this is the Post 2022-10-22 display_all_pf_2D_pyqtgraph_binned_image_rendering-based method:\n",
    "\t\"\"\"\n",
    "\tfrom pyphoplacecellanalysis.Pho2D.PyQtPlots.plot_placefields import pyqtplot_plot_image_array, display_all_pf_2D_pyqtgraph_binned_image_rendering\n",
    "\tfrom pyphoplacecellanalysis.GUI.PyQtPlot.BinnedImageRenderingWindow import BasicBinnedImageRenderingWindow \n",
    "\tfrom pyphoplacecellanalysis.General.Pipeline.Stages.ComputationFunctions.MultiContextComputationFunctions.DirectionalPlacefieldGlobalComputationFunctions import LayoutScrollability\n",
    "\n",
    "\tdefer_render = kwargs.pop('defer_render', False)\n",
    "\tdirectional_merged_decoders_result: DirectionalMergedDecodersResult = global_computation_results.computed_data['DirectionalMergedDecoders']\n",
    "\tactive_merged_pf_plots_data_dict = {} #empty dict\n",
    "\t\n",
    "\tif plot_all_directions:\n",
    "\t\tactive_merged_pf_plots_data_dict[owning_pipeline_reference.build_display_context_for_session(track_config='All-Directions', display_fn_name='display_all_pf_2D_pyqtgraph_binned_image_rendering')] = directional_merged_decoders_result.all_directional_pf1D_Decoder.pf # all-directions\n",
    "\tif plot_long_directional:\n",
    "\t\tactive_merged_pf_plots_data_dict[owning_pipeline_reference.build_display_context_for_session(track_config='Long-Directional', display_fn_name='display_all_pf_2D_pyqtgraph_binned_image_rendering')] = directional_merged_decoders_result.long_directional_pf1D_Decoder.pf # Long-only\n",
    "\tif plot_short_directional:\n",
    "\t\tactive_merged_pf_plots_data_dict[owning_pipeline_reference.build_display_context_for_session(track_config='Short-Directional', display_fn_name='display_all_pf_2D_pyqtgraph_binned_image_rendering')] = directional_merged_decoders_result.short_directional_pf1D_Decoder.pf # Short-only\n",
    "\n",
    "\tout_plots_dict = {}\n",
    "\t\n",
    "\tfor active_context, active_pf_2D in active_merged_pf_plots_data_dict.items():\n",
    "\t\t# figure_format_config = {} # empty dict for config\n",
    "\t\tfigure_format_config = {'scrollability_mode': LayoutScrollability.NON_SCROLLABLE} # kwargs # kwargs as default figure_format_config\n",
    "\t\tout_all_pf_2D_pyqtgraph_binned_image_fig: BasicBinnedImageRenderingWindow  = display_all_pf_2D_pyqtgraph_binned_image_rendering(active_pf_2D, figure_format_config) # output is BasicBinnedImageRenderingWindow\n",
    "\t\n",
    "\t\t# Set the window title from the context\n",
    "\t\tout_all_pf_2D_pyqtgraph_binned_image_fig.setWindowTitle(f'{active_context.get_description()}')\n",
    "\t\tout_plots_dict[active_context] = out_all_pf_2D_pyqtgraph_binned_image_fig\n",
    "\n",
    "\t\t# Tries to update the display of the item:\n",
    "\t\tnames_list = [v for v in list(out_all_pf_2D_pyqtgraph_binned_image_fig.plots.keys()) if v not in ('name', 'context')]\n",
    "\t\tfor a_name in names_list:\n",
    "\t\t\t# Adjust the size of the text for the item by passing formatted text\n",
    "\t\t\ta_plot: pg.PlotItem = out_all_pf_2D_pyqtgraph_binned_image_fig.plots[a_name].mainPlotItem # PlotItem \n",
    "\t\t\t# no clue why 2 is a good value for this...\n",
    "\t\t\ta_plot.titleLabel.setMaximumHeight(2)\n",
    "\t\t\ta_plot.layout.setRowFixedHeight(0, 2)\n",
    "\t\t\t\n",
    "\n",
    "\t\tif not defer_render:\n",
    "\t\t\tout_all_pf_2D_pyqtgraph_binned_image_fig.show()\n",
    "\n",
    "\treturn out_plots_dict"
   ]
  },
  {
   "cell_type": "markdown",
   "id": "0e434945",
   "metadata": {},
   "source": [
    "# 2023-12-18 - Simpily detect bimodal cells:"
   ]
  },
  {
   "cell_type": "code",
   "execution_count": null,
   "id": "e3cd3ad6",
   "metadata": {},
   "outputs": [],
   "source": [
    "from neuropy.utils.mixins.peak_location_representing import ContinuousPeakLocationRepresentingMixin\n",
    "from neuropy.core.ratemap import Ratemap\n",
    "from scipy.signal import find_peaks\n",
    "from pyphocorehelpers.indexing_helpers import reorder_columns, reorder_columns_relative\n",
    "\n",
    "_restore_previous_matplotlib_settings_callback = matplotlib_configuration_update(is_interactive=True, backend='Qt5Agg')\n",
    "# curr_active_pipeline.display('_display_1d_placefields', 'maze1_any', sortby=None)\n",
    "\n",
    "# active_ratemap = deepcopy(long_pf1D.ratemap)\n",
    "active_ratemap: Ratemap = deepcopy(long_LR_pf1D.ratemap)\n",
    "peaks_dict, aclu_n_peaks_dict, peaks_results_df = active_ratemap.compute_tuning_curve_modes(height=0.2, width=None)\n",
    "\n",
    "\n",
    "included_columns = ['pos', 'peak_heights'] # the columns of interest that you want in the final dataframe.\n",
    "included_columns_renamed = dict(zip(included_columns, ['peak', 'peak_height']))\n",
    "decoder_peaks_results_dfs = [a_decoder.pf.ratemap.get_tuning_curve_peak_df(height=0.2, width=None) for a_decoder in (track_templates.long_LR_decoder, track_templates.long_RL_decoder, track_templates.short_LR_decoder, track_templates.short_RL_decoder)]\n",
    "prefix_names = [f'{a_decoder_name}_' for a_decoder_name in track_templates.get_decoder_names()]\n",
    "all_included_columns = ['aclu', 'series_idx', 'subpeak_idx'] + included_columns # Used to filter out the unwanted columns from the output\n",
    "\n",
    "# [['aclu', 'series_idx', 'subpeak_idx', 'pos']]\n",
    "\n",
    "# rename_list_fn = lambda a_prefix: {'pos': f\"{a_prefix}pos\"}\n",
    "rename_list_fn = lambda a_prefix: {a_col_name:f\"{a_prefix}{included_columns_renamed[a_col_name]}\" for a_col_name in included_columns}\n",
    "\n",
    "# column_names = [f'{a_decoder_name}_peak' for a_decoder_name in track_templates.get_decoder_names()]\n",
    "\n",
    "# dataFrames = decoder_peaks_results_dfs\n",
    "# names = self.get_decoder_names()\n",
    "\n",
    "# rename 'pos' column in each dataframe and then reduce to perform cumulative outer merge\n",
    "result_df = decoder_peaks_results_dfs[0][all_included_columns].rename(columns=rename_list_fn(prefix_names[0]))\n",
    "for df, a_prefix in zip(decoder_peaks_results_dfs[1:], prefix_names[1:]):\n",
    "    result_df = pd.merge(result_df, df[all_included_columns].rename(columns=rename_list_fn(a_prefix)), on=['aclu', 'series_idx', 'subpeak_idx'], how='outer')\n",
    "\n",
    "# result = reorder_columns(result, column_name_desired_index_dict=dict(zip(['Long_LR_evidence', 'Long_RL_evidence', 'Short_LR_evidence', 'Short_RL_evidence'], np.arange(4)+4)))\n",
    "\n",
    "## Move the \"height\" columns to the end\n",
    "# list(filter(lambda column: column.endswith('_peak_heights'), result.columns))\n",
    "# result_df = reorder_columns(result_df, column_name_desired_index_dict=dict(zip(list(filter(lambda column: column.endswith('_peak_heights'), result_df.columns)), np.arange(len(result_df.columns)-4, len(result_df.columns)))))\n",
    "# result_df\n",
    "\n",
    "# print(list(result.columns))\n",
    "\n",
    "## Move the \"height\" columns to the end\n",
    "result_df: pd.DataFrame = reorder_columns_relative(result_df, column_names=list(filter(lambda column: column.endswith('_peak_heights'), result_df.columns)), relative_mode='end').sort_values(['aclu', 'series_idx', 'subpeak_idx']).reset_index(drop=True)\n",
    "result_df"
   ]
  },
  {
   "cell_type": "code",
   "execution_count": null,
   "id": "a292dc1e",
   "metadata": {},
   "outputs": [],
   "source": [
    "## Manually Excluded endcap aclus:\n",
    "IdentifyingContext(format_name='kdiba',animal='gor01',exper_name='one',session_name='2006-6-09_1-22-43')\n",
    "excluded_endcap_aclus: NDArray = np.array(list(set([40, 60, 85, 102, 52, 6] + [83, 60, 52, 102, 40] + [59, 67, 95, 28, 101] + [14, 15, 87, 71] + [43, 84, 87, 19, 33, 51, 53])))\n",
    "excluded_endcap_aclus\n",
    "\n",
    "\n",
    "np.array([  6,  14,  15,  19,  28,  33,  40,  43,  51,  52,  53,  59,  60,  67,  71,  83,  84,  85,  87,  95, 101, 102])\n",
    "\n",
    "\n"
   ]
  },
  {
   "cell_type": "code",
   "execution_count": null,
   "id": "e878598a",
   "metadata": {},
   "outputs": [],
   "source": [
    "peaks_results_df = track_templates.get_decoders_aclu_peak_location_df().sort_values(['aclu', 'series_idx', 'subpeak_idx']).reset_index(drop=True) ## Does not seem to merge entries as I would expect via intution. It keeps LR/RL peaks distinct and leaves pd.NA values for the entries.\n",
    "peaks_results_df"
   ]
  },
  {
   "cell_type": "code",
   "execution_count": null,
   "id": "57c29838",
   "metadata": {},
   "outputs": [],
   "source": [
    "aclu_n_peaks_dict: Dict = peaks_results_df.groupby(['aclu']).agg(subpeak_idx_count=('subpeak_idx', 'count')).reset_index().set_index('aclu').to_dict()['subpeak_idx_count'] # number of peaks (\"models\" for each aclu)\n",
    "aclu_n_peaks_dict\n",
    "\n",
    "# peaks_results_df = peaks_results_df.groupby(['aclu']).agg(subpeak_idx_count=('subpeak_idx', 'count')).reset_index()\n",
    "\n",
    "# peaks_results_df[peaks_results_df.aclu == 5]\n",
    "# peaks_results_df.aclu.value_counts()"
   ]
  },
  {
   "cell_type": "code",
   "execution_count": null,
   "id": "3e14bb47",
   "metadata": {},
   "outputs": [],
   "source": [
    "active_ratemap.n_neurons\n",
    "curr_active_pipeline.display('_display_1d_placefields', 'maze1_any', included_unit_neuron_IDs=active_ratemap.neuron_ids, sortby=np.arange(active_ratemap.n_neurons))"
   ]
  },
  {
   "cell_type": "code",
   "execution_count": null,
   "id": "912f7edd",
   "metadata": {},
   "outputs": [],
   "source": [
    "\n",
    "aclu_n_peaks_dict\n",
    "unimodal_only_aclus = np.array(list(unimodal_peaks_dict.keys()))\n",
    "unimodal_only_aclus\n",
    "curr_active_pipeline.display('_display_1d_placefields', 'maze1_any', included_unit_neuron_IDs=unimodal_only_aclus, sortby=np.arange(active_ratemap.n_neurons))"
   ]
  },
  {
   "cell_type": "markdown",
   "id": "166c9e39",
   "metadata": {},
   "source": [
    "# 🖼️🎨 2024-02-08 - `PhoPaginatedMultiDecoderDecodedEpochsWindow` - Plot Ripple Metrics like Radon Transforms, WCorr, Simple Pearson, etc."
   ]
  },
  {
   "cell_type": "code",
   "execution_count": null,
   "id": "bf989bf6",
   "metadata": {},
   "outputs": [
    {
     "name": "stdout",
     "output_type": "stream",
     "text": [
      "len(active_epochs_df): 412\n",
      "min_num_unique_aclu_inclusions: 18\n",
      "len(active_epochs_df): 136\n",
      "num_user_selected_times: 49\n",
      "adding user annotation column!\n",
      "len(active_epochs_df): 412\n",
      "min_num_unique_aclu_inclusions: 18\n",
      "len(active_epochs_df): 136\n"
     ]
    }
   ],
   "source": [
    "from pyphoplacecellanalysis.Pho2D.stacked_epoch_slices import PhoPaginatedMultiDecoderDecodedEpochsWindow\n",
    "from pyphoplacecellanalysis.General.Pipeline.Stages.DisplayFunctions.DecoderPredictionError import RadonTransformPlotDataProvider\n",
    "from pyphoplacecellanalysis.General.Pipeline.Stages.ComputationFunctions.MultiContextComputationFunctions.DirectionalPlacefieldGlobalComputationFunctions import filter_and_update_epochs_and_spikes\n",
    "from pyphoplacecellanalysis.Analysis.Decoder.heuristic_replay_scoring import HeuristicReplayScoring\n",
    "\n",
    "## INPUTS: decoder_ripple_filter_epochs_decoder_result_dict\n",
    "\n",
    "# 2024-03-04 - Filter out the epochs based on the criteria:\n",
    "filtered_epochs_df, active_spikes_df = filter_and_update_epochs_and_spikes(curr_active_pipeline, global_epoch_name, track_templates, epoch_id_key_name='ripple_epoch_id', no_interval_fill_value=-1)\n",
    "\n",
    "## filter the epochs by something and only show those:\n",
    "# INPUTS: filtered_epochs_df\n",
    "# filtered_ripple_simple_pf_pearson_merged_df = filtered_ripple_simple_pf_pearson_merged_df.epochs.matching_epoch_times_slice(active_epochs_df[['start', 'stop']].to_numpy())\n",
    "## Update the `decoder_ripple_filter_epochs_decoder_result_dict` with the included epochs:\n",
    "filtered_decoder_filter_epochs_decoder_result_dict: Dict[str, DecodedFilterEpochsResult] = {a_name:a_result.filtered_by_epoch_times(filtered_epochs_df[['start', 'stop']].to_numpy()) for a_name, a_result in decoder_ripple_filter_epochs_decoder_result_dict.items()} # working filtered\n",
    "# print(f\"any_good_selected_epoch_times.shape: {any_good_selected_epoch_times.shape}\") # (142, 2)\n",
    "\n",
    "pre_cols = {a_name:set(a_result.filter_epochs.columns) for a_name, a_result in filtered_decoder_filter_epochs_decoder_result_dict.items()}\n",
    "\n",
    "# 🟪 2024-02-29 - `compute_pho_heuristic_replay_scores`\n",
    "filtered_decoder_filter_epochs_decoder_result_dict, _out_new_scores = HeuristicReplayScoring.compute_all_heuristic_scores(track_templates=track_templates, a_decoded_filter_epochs_decoder_result_dict=filtered_decoder_filter_epochs_decoder_result_dict)\n",
    "\n",
    "## 2024-03-08 - Also constrain the user-selected ones (just to try it):\n",
    "decoder_user_selected_epoch_times_dict, any_good_selected_epoch_times = DecoderDecodedEpochsResult.load_user_selected_epoch_times(curr_active_pipeline, track_templates=track_templates)\n",
    "# ## Constrain again now by the user selections\n",
    "# filtered_decoder_filter_epochs_decoder_result_dict: Dict[str, DecodedFilterEpochsResult] = {a_name:a_result.filtered_by_epoch_times(any_good_selected_epoch_times) for a_name, a_result in filtered_decoder_filter_epochs_decoder_result_dict.items()}\n",
    "# filtered_decoder_filter_epochs_decoder_result_dict\n",
    "\n",
    "## Instead, add in the 'is_user_annotated_epoch' column instead of filtering\n",
    "## INPUTS: any_good_selected_epoch_times\n",
    "num_user_selected_times: int = len(any_good_selected_epoch_times)\n",
    "print(f'num_user_selected_times: {num_user_selected_times}')\n",
    "any_good_selected_epoch_indicies = None\n",
    "print(f'adding user annotation column!')\n",
    "\n",
    "directional_decoders_epochs_decode_result.add_all_extra_epoch_columns(curr_active_pipeline, track_templates=track_templates, required_min_percentage_of_active_cells=0.33333333, debug_print=False)\n",
    "\n",
    "\n",
    "## OUT: filtered_decoder_filter_epochs_decoder_result_dict"
   ]
  },
  {
   "cell_type": "code",
   "execution_count": null,
   "id": "fc04fc5e",
   "metadata": {},
   "outputs": [],
   "source": [
    "filter_epochs = deepcopy(filtered_decoder_filter_epochs_decoder_result_dict['long_LR'].filter_epochs)\n",
    "filter_epochs\n",
    "\n",
    "np.sum(filter_epochs['pearsonr'].isna())\n"
   ]
  },
  {
   "cell_type": "code",
   "execution_count": null,
   "id": "fcea0bb6",
   "metadata": {},
   "outputs": [],
   "source": [
    "filter_epochs_df_dict = {k:deepcopy(v.filter_epochs) for k,v in filtered_decoder_filter_epochs_decoder_result_dict.items()}\n",
    "# filter_epochs_df_dict\n",
    "\n",
    "high_wcorr_filter_epochs_dict = {k:np.where((v['wcorr'].abs() >= 0.9))[0] for k,v in filter_epochs_df_dict.items()}\n",
    "# high_wcorr_filter_epochs_dict\n",
    "\n",
    "high_wcorr_any_epochs = union_of_arrays(*[v for k,v in high_wcorr_filter_epochs_dict.items()]) # get unique indicies\n",
    "# high_wcorr_any_epochs\n",
    "\n",
    "# high_wcorr_only_filtered_decoder_filter_epochs_decoder_result_dict = deepcopy(filtered_decoder_filter_epochs_decoder_result_dict)\n",
    "high_wcorr_included_epoch_times = {k:v.iloc[high_wcorr_any_epochs][['start', 'stop']].to_numpy() for k,v in filter_epochs_df_dict.items()}\n",
    "# high_wcorr_included_epoch_times\n",
    "\n",
    "high_wcorr_only_filtered_decoder_filter_epochs_decoder_result_dict: Dict[str, DecodedFilterEpochsResult] = {a_name:a_result.filtered_by_epoch_times(high_wcorr_included_epoch_times[a_name]) for a_name, a_result in filtered_decoder_filter_epochs_decoder_result_dict.items()} # working filtered\n",
    "high_wcorr_only_filtered_decoder_filter_epochs_decoder_result_dict"
   ]
  },
  {
   "cell_type": "code",
   "execution_count": null,
   "id": "6cb0cf21",
   "metadata": {},
   "outputs": [],
   "source": [
    "## Find high wcorr values:\n",
    "filter_epochs = deepcopy(filtered_decoder_filter_epochs_decoder_result_dict['long_LR'].filter_epochs)\n",
    "\n",
    "# np.sum((filter_epochs['wcorr'].abs() > 0.9))\n",
    "\n",
    "np.where((filter_epochs['wcorr'].abs() > 0.9))"
   ]
  },
  {
   "cell_type": "code",
   "execution_count": null,
   "id": "7620d2fc",
   "metadata": {},
   "outputs": [],
   "source": [
    "# filtered_decoder_filter_epochs_decoder_result_dict['long_LR'].filter_epochs.directionality_ratio.unique()\n",
    "# filtered_decoder_filter_epochs_decoder_result_dict['long_LR'].filter_epochs.sweep_score.unique()\n",
    "# filtered_decoder_filter_epochs_decoder_result_dict['long_LR'].filter_epochs.laplacian_smoothness.unique()"
   ]
  },
  {
   "cell_type": "code",
   "execution_count": null,
   "id": "6d94fe9b",
   "metadata": {},
   "outputs": [],
   "source": [
    "## Build a merged (single df) frame\n",
    "decoder_ripple_filter_epochs_decoder_result_dict['long_LR'].filter_epochs"
   ]
  },
  {
   "cell_type": "code",
   "execution_count": null,
   "id": "eb235522",
   "metadata": {},
   "outputs": [],
   "source": [
    "filtered_epochs_df\n",
    "filtered_epochs_df[filtered_epochs_df['start'] >= t_delta]\n",
    "filtered_decoder_filter_epochs_decoder_result_dict['long_LR'].filter_epochs"
   ]
  },
  {
   "cell_type": "code",
   "execution_count": null,
   "id": "b1fdcf95",
   "metadata": {},
   "outputs": [
    {
     "name": "stdout",
     "output_type": "stream",
     "text": [
      "target_height: 1030.0,   desired_final_height = 1030\n",
      "target_height: 1030.0,   desired_final_height = 1030\n",
      "target_height: 1030.0,   desired_final_height = 1030\n",
      "target_height: 1030.0,   desired_final_height = 1030\n",
      "PhoDockAreaContainingWindow.GlobalConnectionManagerAccessingMixin_on_setup()\n",
      "PhoDockAreaContainingWindow.try_register_any_control_widgets()\n",
      "\tflat_widgets_list contains 0 items\n"
     ]
    }
   ],
   "source": [
    "# decoder_decoded_epochs_result_dict: generic\n",
    "app, paginated_multi_decoder_decoded_epochs_window, pagination_controller_dict = PhoPaginatedMultiDecoderDecodedEpochsWindow.init_from_track_templates(curr_active_pipeline, track_templates,\n",
    "                                                                                                # decoder_decoded_epochs_result_dict=decoder_ripple_filter_epochs_decoder_result_dict,\n",
    "                                                                                                decoder_decoded_epochs_result_dict=filtered_decoder_filter_epochs_decoder_result_dict,\n",
    "                                                                                                # decoder_decoded_epochs_result_dict=high_wcorr_only_filtered_decoder_filter_epochs_decoder_result_dict,\n",
    "                                                                                                epochs_name='ripple',\n",
    "                                                                                                included_epoch_indicies=None, debug_print=False,\n",
    "                                                                                                params_kwargs={'enable_per_epoch_action_buttons': False,\n",
    "                                                                                                    'skip_plotting_most_likely_positions': True, 'skip_plotting_measured_positions': True, \n",
    "                                                                                                    'enable_decoded_most_likely_position_curve': False, 'enable_radon_transform_info': True, 'enable_weighted_correlation_info': False,\n",
    "                                                                                                    # 'enable_radon_transform_info': False, 'enable_weighted_correlation_info': False,\n",
    "                                                                                                    # 'disable_y_label': True,\n",
    "                                                                                                    'isPaginatorControlWidgetBackedMode': True,\n",
    "                                                                                                    'enable_update_window_title_on_page_change': False, 'build_internal_callbacks': True,\n",
    "                                                                                                    # 'debug_print': True,\n",
    "                                                                                                    'max_subplots_per_page': 10,\n",
    "                                                                                                    'scrollable_figure': False,\n",
    "                                                                                                    # 'posterior_heatmap_imshow_kwargs': dict(vmin=0.0075),\n",
    "                                                                                                    'use_AnchoredCustomText': False,\n",
    "                                                                                                })\n",
    "\n"
   ]
  },
  {
   "cell_type": "code",
   "execution_count": null,
   "id": "2fc7ea63",
   "metadata": {},
   "outputs": [
    {
     "name": "stdout",
     "output_type": "stream",
     "text": [
      "actual_time_bins: [93.0351 93.0511 93.0671 93.0831 93.0991 93.1151 93.1311 93.1471 93.1631 93.1791 93.1951 93.2111 93.2271 93.2431 93.2591 93.2751 93.2911 93.3071 93.3231 93.3391 93.3551 93.3711 93.3871 93.4031 93.4191 93.4351 93.4511]\n",
      "curr_time_bins: [93.0351 93.0511 93.0671 93.0831 93.0991 93.1151 93.1311 93.1471 93.1631 93.1791 93.1951 93.2111 93.2271 93.2431 93.2591 93.2751 93.2911 93.3071 93.3231 93.3391 93.3551 93.3711 93.3871 93.4031 93.4191 93.4351 93.4511]\n",
      "actual_time_bins: [105.408 105.424 105.44 105.456 105.472 105.488 105.504 105.52 105.536 105.552]\n",
      "curr_time_bins: [105.408 105.424 105.44 105.456 105.472 105.488 105.504 105.52 105.536 105.552]\n",
      "actual_time_bins: [113.221 113.237 113.253 113.269 113.285 113.301 113.317 113.333 113.349 113.365 113.381 113.397 113.413 113.429 113.445 113.461 113.477 113.493 113.509 113.525 113.541 113.557 113.573 113.589 113.605]\n",
      "curr_time_bins: [113.221 113.237 113.253 113.269 113.285 113.301 113.317 113.333 113.349 113.365 113.381 113.397 113.413 113.429 113.445 113.461 113.477 113.493 113.509 113.525 113.541 113.557 113.573 113.589 113.605]\n",
      "actual_time_bins: [120.653 120.669 120.685 120.701 120.717 120.733 120.749 120.765 120.781 120.797 120.813 120.829 120.845]\n",
      "curr_time_bins: [120.653 120.669 120.685 120.701 120.717 120.733 120.749 120.765 120.781 120.797 120.813 120.829 120.845]\n",
      "actual_time_bins: [125.068 125.084 125.1 125.116 125.132 125.148 125.164 125.18 125.196]\n",
      "curr_time_bins: [125.068 125.084 125.1 125.116 125.132 125.148 125.164 125.18 125.196]\n",
      "actual_time_bins: [132.519 132.535 132.551 132.567 132.583 132.599 132.615 132.631 132.647 132.663 132.679 132.695 132.711 132.727 132.743 132.759 132.775]\n",
      "curr_time_bins: [132.519 132.535 132.551 132.567 132.583 132.599 132.615 132.631 132.647 132.663 132.679 132.695 132.711 132.727 132.743 132.759 132.775]\n",
      "actual_time_bins: [144.273 144.289 144.305 144.321 144.337 144.353 144.369 144.385]\n",
      "curr_time_bins: [144.273 144.289 144.305 144.321 144.337 144.353 144.369 144.385]\n",
      "actual_time_bins: [149.967 149.983 149.999 150.015 150.031 150.047 150.063 150.079 150.095 150.111 150.127 150.143 150.159 150.175 150.191 150.207 150.223 150.239]\n",
      "curr_time_bins: [149.967 149.983 149.999 150.015 150.031 150.047 150.063 150.079 150.095 150.111 150.127 150.143 150.159 150.175 150.191 150.207 150.223 150.239]\n",
      "actual_time_bins: [154.507 154.523 154.539 154.555 154.571 154.587 154.603 154.619 154.635 154.651 154.667 154.683 154.699 154.715 154.731 154.747 154.763 154.779 154.795 154.811 154.827 154.843]\n",
      "curr_time_bins: [154.507 154.523 154.539 154.555 154.571 154.587 154.603 154.619 154.635 154.651 154.667 154.683 154.699 154.715 154.731 154.747 154.763 154.779 154.795 154.811 154.827 154.843]\n",
      "actual_time_bins: [169.964 169.98 169.996 170.012 170.028 170.044 170.06 170.076 170.092 170.108 170.124 170.14]\n",
      "curr_time_bins: [169.964 169.98 169.996 170.012 170.028 170.044 170.06 170.076 170.092 170.108 170.124 170.14]\n",
      "actual_time_bins: [93.0351 93.0511 93.0671 93.0831 93.0991 93.1151 93.1311 93.1471 93.1631 93.1791 93.1951 93.2111 93.2271 93.2431 93.2591 93.2751 93.2911 93.3071 93.3231 93.3391 93.3551 93.3711 93.3871 93.4031 93.4191 93.4351 93.4511]\n",
      "curr_time_bins: [93.0351 93.0511 93.0671 93.0831 93.0991 93.1151 93.1311 93.1471 93.1631 93.1791 93.1951 93.2111 93.2271 93.2431 93.2591 93.2751 93.2911 93.3071 93.3231 93.3391 93.3551 93.3711 93.3871 93.4031 93.4191 93.4351 93.4511]\n",
      "actual_time_bins: [105.408 105.424 105.44 105.456 105.472 105.488 105.504 105.52 105.536 105.552]\n",
      "curr_time_bins: [105.408 105.424 105.44 105.456 105.472 105.488 105.504 105.52 105.536 105.552]\n",
      "actual_time_bins: [113.221 113.237 113.253 113.269 113.285 113.301 113.317 113.333 113.349 113.365 113.381 113.397 113.413 113.429 113.445 113.461 113.477 113.493 113.509 113.525 113.541 113.557 113.573 113.589 113.605]\n",
      "curr_time_bins: [113.221 113.237 113.253 113.269 113.285 113.301 113.317 113.333 113.349 113.365 113.381 113.397 113.413 113.429 113.445 113.461 113.477 113.493 113.509 113.525 113.541 113.557 113.573 113.589 113.605]\n",
      "actual_time_bins: [120.653 120.669 120.685 120.701 120.717 120.733 120.749 120.765 120.781 120.797 120.813 120.829 120.845]\n",
      "curr_time_bins: [120.653 120.669 120.685 120.701 120.717 120.733 120.749 120.765 120.781 120.797 120.813 120.829 120.845]\n",
      "actual_time_bins: [125.068 125.084 125.1 125.116 125.132 125.148 125.164 125.18 125.196]\n",
      "curr_time_bins: [125.068 125.084 125.1 125.116 125.132 125.148 125.164 125.18 125.196]\n",
      "actual_time_bins: [132.519 132.535 132.551 132.567 132.583 132.599 132.615 132.631 132.647 132.663 132.679 132.695 132.711 132.727 132.743 132.759 132.775]\n",
      "curr_time_bins: [132.519 132.535 132.551 132.567 132.583 132.599 132.615 132.631 132.647 132.663 132.679 132.695 132.711 132.727 132.743 132.759 132.775]\n",
      "actual_time_bins: [144.273 144.289 144.305 144.321 144.337 144.353 144.369 144.385]\n",
      "curr_time_bins: [144.273 144.289 144.305 144.321 144.337 144.353 144.369 144.385]\n",
      "actual_time_bins: [149.967 149.983 149.999 150.015 150.031 150.047 150.063 150.079 150.095 150.111 150.127 150.143 150.159 150.175 150.191 150.207 150.223 150.239]\n",
      "curr_time_bins: [149.967 149.983 149.999 150.015 150.031 150.047 150.063 150.079 150.095 150.111 150.127 150.143 150.159 150.175 150.191 150.207 150.223 150.239]\n",
      "actual_time_bins: [154.507 154.523 154.539 154.555 154.571 154.587 154.603 154.619 154.635 154.651 154.667 154.683 154.699 154.715 154.731 154.747 154.763 154.779 154.795 154.811 154.827 154.843]\n",
      "curr_time_bins: [154.507 154.523 154.539 154.555 154.571 154.587 154.603 154.619 154.635 154.651 154.667 154.683 154.699 154.715 154.731 154.747 154.763 154.779 154.795 154.811 154.827 154.843]\n",
      "actual_time_bins: [169.964 169.98 169.996 170.012 170.028 170.044 170.06 170.076 170.092 170.108 170.124 170.14]\n",
      "curr_time_bins: [169.964 169.98 169.996 170.012 170.028 170.044 170.06 170.076 170.092 170.108 170.124 170.14]\n",
      "actual_time_bins: [93.0351 93.0511 93.0671 93.0831 93.0991 93.1151 93.1311 93.1471 93.1631 93.1791 93.1951 93.2111 93.2271 93.2431 93.2591 93.2751 93.2911 93.3071 93.3231 93.3391 93.3551 93.3711 93.3871 93.4031 93.4191 93.4351 93.4511]\n",
      "curr_time_bins: [93.0351 93.0511 93.0671 93.0831 93.0991 93.1151 93.1311 93.1471 93.1631 93.1791 93.1951 93.2111 93.2271 93.2431 93.2591 93.2751 93.2911 93.3071 93.3231 93.3391 93.3551 93.3711 93.3871 93.4031 93.4191 93.4351 93.4511]\n",
      "actual_time_bins: [105.408 105.424 105.44 105.456 105.472 105.488 105.504 105.52 105.536 105.552]\n",
      "curr_time_bins: [105.408 105.424 105.44 105.456 105.472 105.488 105.504 105.52 105.536 105.552]\n",
      "actual_time_bins: [113.221 113.237 113.253 113.269 113.285 113.301 113.317 113.333 113.349 113.365 113.381 113.397 113.413 113.429 113.445 113.461 113.477 113.493 113.509 113.525 113.541 113.557 113.573 113.589 113.605]\n",
      "curr_time_bins: [113.221 113.237 113.253 113.269 113.285 113.301 113.317 113.333 113.349 113.365 113.381 113.397 113.413 113.429 113.445 113.461 113.477 113.493 113.509 113.525 113.541 113.557 113.573 113.589 113.605]\n",
      "actual_time_bins: [120.653 120.669 120.685 120.701 120.717 120.733 120.749 120.765 120.781 120.797 120.813 120.829 120.845]\n",
      "curr_time_bins: [120.653 120.669 120.685 120.701 120.717 120.733 120.749 120.765 120.781 120.797 120.813 120.829 120.845]\n",
      "actual_time_bins: [125.068 125.084 125.1 125.116 125.132 125.148 125.164 125.18 125.196]\n",
      "curr_time_bins: [125.068 125.084 125.1 125.116 125.132 125.148 125.164 125.18 125.196]\n",
      "actual_time_bins: [132.519 132.535 132.551 132.567 132.583 132.599 132.615 132.631 132.647 132.663 132.679 132.695 132.711 132.727 132.743 132.759 132.775]\n",
      "curr_time_bins: [132.519 132.535 132.551 132.567 132.583 132.599 132.615 132.631 132.647 132.663 132.679 132.695 132.711 132.727 132.743 132.759 132.775]\n",
      "actual_time_bins: [144.273 144.289 144.305 144.321 144.337 144.353 144.369 144.385]\n",
      "curr_time_bins: [144.273 144.289 144.305 144.321 144.337 144.353 144.369 144.385]\n",
      "actual_time_bins: [149.967 149.983 149.999 150.015 150.031 150.047 150.063 150.079 150.095 150.111 150.127 150.143 150.159 150.175 150.191 150.207 150.223 150.239]\n",
      "curr_time_bins: [149.967 149.983 149.999 150.015 150.031 150.047 150.063 150.079 150.095 150.111 150.127 150.143 150.159 150.175 150.191 150.207 150.223 150.239]\n",
      "actual_time_bins: [154.507 154.523 154.539 154.555 154.571 154.587 154.603 154.619 154.635 154.651 154.667 154.683 154.699 154.715 154.731 154.747 154.763 154.779 154.795 154.811 154.827 154.843]\n",
      "curr_time_bins: [154.507 154.523 154.539 154.555 154.571 154.587 154.603 154.619 154.635 154.651 154.667 154.683 154.699 154.715 154.731 154.747 154.763 154.779 154.795 154.811 154.827 154.843]\n",
      "actual_time_bins: [169.964 169.98 169.996 170.012 170.028 170.044 170.06 170.076 170.092 170.108 170.124 170.14]\n",
      "curr_time_bins: [169.964 169.98 169.996 170.012 170.028 170.044 170.06 170.076 170.092 170.108 170.124 170.14]\n",
      "actual_time_bins: [93.0351 93.0511 93.0671 93.0831 93.0991 93.1151 93.1311 93.1471 93.1631 93.1791 93.1951 93.2111 93.2271 93.2431 93.2591 93.2751 93.2911 93.3071 93.3231 93.3391 93.3551 93.3711 93.3871 93.4031 93.4191 93.4351 93.4511]\n",
      "curr_time_bins: [93.0351 93.0511 93.0671 93.0831 93.0991 93.1151 93.1311 93.1471 93.1631 93.1791 93.1951 93.2111 93.2271 93.2431 93.2591 93.2751 93.2911 93.3071 93.3231 93.3391 93.3551 93.3711 93.3871 93.4031 93.4191 93.4351 93.4511]\n",
      "actual_time_bins: [105.408 105.424 105.44 105.456 105.472 105.488 105.504 105.52 105.536 105.552]\n",
      "curr_time_bins: [105.408 105.424 105.44 105.456 105.472 105.488 105.504 105.52 105.536 105.552]\n",
      "actual_time_bins: [113.221 113.237 113.253 113.269 113.285 113.301 113.317 113.333 113.349 113.365 113.381 113.397 113.413 113.429 113.445 113.461 113.477 113.493 113.509 113.525 113.541 113.557 113.573 113.589 113.605]\n",
      "curr_time_bins: [113.221 113.237 113.253 113.269 113.285 113.301 113.317 113.333 113.349 113.365 113.381 113.397 113.413 113.429 113.445 113.461 113.477 113.493 113.509 113.525 113.541 113.557 113.573 113.589 113.605]\n",
      "actual_time_bins: [120.653 120.669 120.685 120.701 120.717 120.733 120.749 120.765 120.781 120.797 120.813 120.829 120.845]\n",
      "curr_time_bins: [120.653 120.669 120.685 120.701 120.717 120.733 120.749 120.765 120.781 120.797 120.813 120.829 120.845]\n",
      "actual_time_bins: [125.068 125.084 125.1 125.116 125.132 125.148 125.164 125.18 125.196]\n",
      "curr_time_bins: [125.068 125.084 125.1 125.116 125.132 125.148 125.164 125.18 125.196]\n",
      "actual_time_bins: [132.519 132.535 132.551 132.567 132.583 132.599 132.615 132.631 132.647 132.663 132.679 132.695 132.711 132.727 132.743 132.759 132.775]\n",
      "curr_time_bins: [132.519 132.535 132.551 132.567 132.583 132.599 132.615 132.631 132.647 132.663 132.679 132.695 132.711 132.727 132.743 132.759 132.775]\n",
      "actual_time_bins: [144.273 144.289 144.305 144.321 144.337 144.353 144.369 144.385]\n",
      "curr_time_bins: [144.273 144.289 144.305 144.321 144.337 144.353 144.369 144.385]\n",
      "actual_time_bins: [149.967 149.983 149.999 150.015 150.031 150.047 150.063 150.079 150.095 150.111 150.127 150.143 150.159 150.175 150.191 150.207 150.223 150.239]\n",
      "curr_time_bins: [149.967 149.983 149.999 150.015 150.031 150.047 150.063 150.079 150.095 150.111 150.127 150.143 150.159 150.175 150.191 150.207 150.223 150.239]\n",
      "actual_time_bins: [154.507 154.523 154.539 154.555 154.571 154.587 154.603 154.619 154.635 154.651 154.667 154.683 154.699 154.715 154.731 154.747 154.763 154.779 154.795 154.811 154.827 154.843]\n",
      "curr_time_bins: [154.507 154.523 154.539 154.555 154.571 154.587 154.603 154.619 154.635 154.651 154.667 154.683 154.699 154.715 154.731 154.747 154.763 154.779 154.795 154.811 154.827 154.843]\n",
      "actual_time_bins: [169.964 169.98 169.996 170.012 170.028 170.044 170.06 170.076 170.092 170.108 170.124 170.14]\n",
      "curr_time_bins: [169.964 169.98 169.996 170.012 170.028 170.044 170.06 170.076 170.092 170.108 170.124 170.14]\n"
     ]
    },
    {
     "name": "stdout",
     "output_type": "stream",
     "text": [
      "actual_time_bins: [186.467 186.483 186.499 186.515 186.531 186.547 186.563 186.579 186.595 186.611 186.627 186.643 186.659 186.675 186.691 186.707 186.723 186.739 186.755 186.771]\n",
      "curr_time_bins: [186.467 186.483 186.499 186.515 186.531 186.547 186.563 186.579 186.595 186.611 186.627 186.643 186.659 186.675 186.691 186.707 186.723 186.739 186.755 186.771]\n",
      "actual_time_bins: [191.617 191.633 191.649 191.665 191.681 191.697 191.713 191.729 191.745 191.761 191.777 191.793 191.809 191.825 191.841 191.857 191.873 191.889 191.905 191.921 191.937]\n",
      "curr_time_bins: [191.617 191.633 191.649 191.665 191.681 191.697 191.713 191.729 191.745 191.761 191.777 191.793 191.809 191.825 191.841 191.857 191.873 191.889 191.905 191.921 191.937]\n",
      "actual_time_bins: [202.731 202.747 202.763 202.779 202.795 202.811 202.827 202.843 202.859 202.875 202.891 202.907 202.923 202.939 202.955 202.971 202.987 203.003 203.019 203.035]\n",
      "curr_time_bins: [202.731 202.747 202.763 202.779 202.795 202.811 202.827 202.843 202.859 202.875 202.891 202.907 202.923 202.939 202.955 202.971 202.987 203.003 203.019 203.035]\n",
      "actual_time_bins: [209.661 209.677 209.693 209.709 209.725 209.741 209.757 209.773 209.789 209.805 209.821 209.837 209.853 209.869 209.885 209.901 209.917 209.933 209.949 209.965 209.981 209.997 210.013 210.029 210.045 210.061 210.077 210.093 210.109]\n",
      "curr_time_bins: [209.661 209.677 209.693 209.709 209.725 209.741 209.757 209.773 209.789 209.805 209.821 209.837 209.853 209.869 209.885 209.901 209.917 209.933 209.949 209.965 209.981 209.997 210.013 210.029 210.045 210.061 210.077 210.093 210.109]\n",
      "actual_time_bins: [251.425 251.441 251.457 251.473 251.489 251.505 251.521 251.537 251.553 251.569 251.585 251.601 251.617 251.633 251.649 251.665 251.681 251.697 251.713 251.729 251.745 251.761 251.777 251.793]\n",
      "curr_time_bins: [251.425 251.441 251.457 251.473 251.489 251.505 251.521 251.537 251.553 251.569 251.585 251.601 251.617 251.633 251.649 251.665 251.681 251.697 251.713 251.729 251.745 251.761 251.777 251.793]\n",
      "actual_time_bins: [301.965 301.981 301.997 302.013 302.029 302.045 302.061 302.077 302.093 302.109 302.125 302.141 302.157 302.173 302.189 302.205 302.221 302.237 302.253 302.269 302.285 302.301 302.317 302.333 302.349]\n",
      "curr_time_bins: [301.965 301.981 301.997 302.013 302.029 302.045 302.061 302.077 302.093 302.109 302.125 302.141 302.157 302.173 302.189 302.205 302.221 302.237 302.253 302.269 302.285 302.301 302.317 302.333 302.349]\n",
      "actual_time_bins: [307.437 307.453 307.469 307.485 307.501 307.517 307.533 307.549 307.565 307.581 307.597 307.613 307.629 307.645 307.661 307.677 307.693 307.709 307.725 307.741 307.757 307.773 307.789 307.805]\n",
      "curr_time_bins: [307.437 307.453 307.469 307.485 307.501 307.517 307.533 307.549 307.565 307.581 307.597 307.613 307.629 307.645 307.661 307.677 307.693 307.709 307.725 307.741 307.757 307.773 307.789 307.805]\n",
      "actual_time_bins: [315.654 315.67 315.686 315.702 315.718 315.734 315.75 315.766 315.782 315.798 315.814 315.83 315.846]\n",
      "curr_time_bins: [315.654 315.67 315.686 315.702 315.718 315.734 315.75 315.766 315.782 315.798 315.814 315.83 315.846]\n",
      "actual_time_bins: [357.172 357.188 357.204 357.22 357.236 357.252 357.268 357.284 357.3 357.316 357.332 357.348 357.364 357.38 357.396 357.412 357.428 357.444 357.46 357.476 357.492 357.508 357.524 357.54 357.556 357.572 357.588]\n",
      "curr_time_bins: [357.172 357.188 357.204 357.22 357.236 357.252 357.268 357.284 357.3 357.316 357.332 357.348 357.364 357.38 357.396 357.412 357.428 357.444 357.46 357.476 357.492 357.508 357.524 357.54 357.556 357.572 357.588]\n",
      "actual_time_bins: [376.601 376.617 376.633 376.649 376.665 376.681 376.697 376.713 376.729 376.745 376.761 376.777 376.793 376.809 376.825 376.841 376.857 376.873 376.889 376.905 376.921 376.937 376.953 376.969 376.985 377.001 377.017 377.033 377.049 377.065 377.081 377.097 377.113 377.129 377.145 377.161 377.177]\n",
      "curr_time_bins: [376.601 376.617 376.633 376.649 376.665 376.681 376.697 376.713 376.729 376.745 376.761 376.777 376.793 376.809 376.825 376.841 376.857 376.873 376.889 376.905 376.921 376.937 376.953 376.969 376.985 377.001 377.017 377.033 377.049 377.065 377.081 377.097 377.113 377.129 377.145 377.161 377.177]\n",
      "actual_time_bins: [186.467 186.483 186.499 186.515 186.531 186.547 186.563 186.579 186.595 186.611 186.627 186.643 186.659 186.675 186.691 186.707 186.723 186.739 186.755 186.771]\n",
      "curr_time_bins: [186.467 186.483 186.499 186.515 186.531 186.547 186.563 186.579 186.595 186.611 186.627 186.643 186.659 186.675 186.691 186.707 186.723 186.739 186.755 186.771]\n",
      "actual_time_bins: [191.617 191.633 191.649 191.665 191.681 191.697 191.713 191.729 191.745 191.761 191.777 191.793 191.809 191.825 191.841 191.857 191.873 191.889 191.905 191.921 191.937]\n",
      "curr_time_bins: [191.617 191.633 191.649 191.665 191.681 191.697 191.713 191.729 191.745 191.761 191.777 191.793 191.809 191.825 191.841 191.857 191.873 191.889 191.905 191.921 191.937]\n",
      "actual_time_bins: [202.731 202.747 202.763 202.779 202.795 202.811 202.827 202.843 202.859 202.875 202.891 202.907 202.923 202.939 202.955 202.971 202.987 203.003 203.019 203.035]\n",
      "curr_time_bins: [202.731 202.747 202.763 202.779 202.795 202.811 202.827 202.843 202.859 202.875 202.891 202.907 202.923 202.939 202.955 202.971 202.987 203.003 203.019 203.035]\n",
      "actual_time_bins: [209.661 209.677 209.693 209.709 209.725 209.741 209.757 209.773 209.789 209.805 209.821 209.837 209.853 209.869 209.885 209.901 209.917 209.933 209.949 209.965 209.981 209.997 210.013 210.029 210.045 210.061 210.077 210.093 210.109]\n",
      "curr_time_bins: [209.661 209.677 209.693 209.709 209.725 209.741 209.757 209.773 209.789 209.805 209.821 209.837 209.853 209.869 209.885 209.901 209.917 209.933 209.949 209.965 209.981 209.997 210.013 210.029 210.045 210.061 210.077 210.093 210.109]\n",
      "actual_time_bins: [251.425 251.441 251.457 251.473 251.489 251.505 251.521 251.537 251.553 251.569 251.585 251.601 251.617 251.633 251.649 251.665 251.681 251.697 251.713 251.729 251.745 251.761 251.777 251.793]\n",
      "curr_time_bins: [251.425 251.441 251.457 251.473 251.489 251.505 251.521 251.537 251.553 251.569 251.585 251.601 251.617 251.633 251.649 251.665 251.681 251.697 251.713 251.729 251.745 251.761 251.777 251.793]\n",
      "actual_time_bins: [301.965 301.981 301.997 302.013 302.029 302.045 302.061 302.077 302.093 302.109 302.125 302.141 302.157 302.173 302.189 302.205 302.221 302.237 302.253 302.269 302.285 302.301 302.317 302.333 302.349]\n",
      "curr_time_bins: [301.965 301.981 301.997 302.013 302.029 302.045 302.061 302.077 302.093 302.109 302.125 302.141 302.157 302.173 302.189 302.205 302.221 302.237 302.253 302.269 302.285 302.301 302.317 302.333 302.349]\n",
      "actual_time_bins: [307.437 307.453 307.469 307.485 307.501 307.517 307.533 307.549 307.565 307.581 307.597 307.613 307.629 307.645 307.661 307.677 307.693 307.709 307.725 307.741 307.757 307.773 307.789 307.805]\n",
      "curr_time_bins: [307.437 307.453 307.469 307.485 307.501 307.517 307.533 307.549 307.565 307.581 307.597 307.613 307.629 307.645 307.661 307.677 307.693 307.709 307.725 307.741 307.757 307.773 307.789 307.805]\n",
      "actual_time_bins: [315.654 315.67 315.686 315.702 315.718 315.734 315.75 315.766 315.782 315.798 315.814 315.83 315.846]\n",
      "curr_time_bins: [315.654 315.67 315.686 315.702 315.718 315.734 315.75 315.766 315.782 315.798 315.814 315.83 315.846]\n",
      "actual_time_bins: [357.172 357.188 357.204 357.22 357.236 357.252 357.268 357.284 357.3 357.316 357.332 357.348 357.364 357.38 357.396 357.412 357.428 357.444 357.46 357.476 357.492 357.508 357.524 357.54 357.556 357.572 357.588]\n",
      "curr_time_bins: [357.172 357.188 357.204 357.22 357.236 357.252 357.268 357.284 357.3 357.316 357.332 357.348 357.364 357.38 357.396 357.412 357.428 357.444 357.46 357.476 357.492 357.508 357.524 357.54 357.556 357.572 357.588]\n",
      "actual_time_bins: [376.601 376.617 376.633 376.649 376.665 376.681 376.697 376.713 376.729 376.745 376.761 376.777 376.793 376.809 376.825 376.841 376.857 376.873 376.889 376.905 376.921 376.937 376.953 376.969 376.985 377.001 377.017 377.033 377.049 377.065 377.081 377.097 377.113 377.129 377.145 377.161 377.177]\n",
      "curr_time_bins: [376.601 376.617 376.633 376.649 376.665 376.681 376.697 376.713 376.729 376.745 376.761 376.777 376.793 376.809 376.825 376.841 376.857 376.873 376.889 376.905 376.921 376.937 376.953 376.969 376.985 377.001 377.017 377.033 377.049 377.065 377.081 377.097 377.113 377.129 377.145 377.161 377.177]\n",
      "actual_time_bins: [186.467 186.483 186.499 186.515 186.531 186.547 186.563 186.579 186.595 186.611 186.627 186.643 186.659 186.675 186.691 186.707 186.723 186.739 186.755 186.771]\n",
      "curr_time_bins: [186.467 186.483 186.499 186.515 186.531 186.547 186.563 186.579 186.595 186.611 186.627 186.643 186.659 186.675 186.691 186.707 186.723 186.739 186.755 186.771]\n",
      "actual_time_bins: [191.617 191.633 191.649 191.665 191.681 191.697 191.713 191.729 191.745 191.761 191.777 191.793 191.809 191.825 191.841 191.857 191.873 191.889 191.905 191.921 191.937]\n",
      "curr_time_bins: [191.617 191.633 191.649 191.665 191.681 191.697 191.713 191.729 191.745 191.761 191.777 191.793 191.809 191.825 191.841 191.857 191.873 191.889 191.905 191.921 191.937]\n",
      "actual_time_bins: [202.731 202.747 202.763 202.779 202.795 202.811 202.827 202.843 202.859 202.875 202.891 202.907 202.923 202.939 202.955 202.971 202.987 203.003 203.019 203.035]\n",
      "curr_time_bins: [202.731 202.747 202.763 202.779 202.795 202.811 202.827 202.843 202.859 202.875 202.891 202.907 202.923 202.939 202.955 202.971 202.987 203.003 203.019 203.035]\n",
      "actual_time_bins: [209.661 209.677 209.693 209.709 209.725 209.741 209.757 209.773 209.789 209.805 209.821 209.837 209.853 209.869 209.885 209.901 209.917 209.933 209.949 209.965 209.981 209.997 210.013 210.029 210.045 210.061 210.077 210.093 210.109]\n",
      "curr_time_bins: [209.661 209.677 209.693 209.709 209.725 209.741 209.757 209.773 209.789 209.805 209.821 209.837 209.853 209.869 209.885 209.901 209.917 209.933 209.949 209.965 209.981 209.997 210.013 210.029 210.045 210.061 210.077 210.093 210.109]\n",
      "actual_time_bins: [251.425 251.441 251.457 251.473 251.489 251.505 251.521 251.537 251.553 251.569 251.585 251.601 251.617 251.633 251.649 251.665 251.681 251.697 251.713 251.729 251.745 251.761 251.777 251.793]\n",
      "curr_time_bins: [251.425 251.441 251.457 251.473 251.489 251.505 251.521 251.537 251.553 251.569 251.585 251.601 251.617 251.633 251.649 251.665 251.681 251.697 251.713 251.729 251.745 251.761 251.777 251.793]\n",
      "actual_time_bins: [301.965 301.981 301.997 302.013 302.029 302.045 302.061 302.077 302.093 302.109 302.125 302.141 302.157 302.173 302.189 302.205 302.221 302.237 302.253 302.269 302.285 302.301 302.317 302.333 302.349]\n",
      "curr_time_bins: [301.965 301.981 301.997 302.013 302.029 302.045 302.061 302.077 302.093 302.109 302.125 302.141 302.157 302.173 302.189 302.205 302.221 302.237 302.253 302.269 302.285 302.301 302.317 302.333 302.349]\n",
      "actual_time_bins: [307.437 307.453 307.469 307.485 307.501 307.517 307.533 307.549 307.565 307.581 307.597 307.613 307.629 307.645 307.661 307.677 307.693 307.709 307.725 307.741 307.757 307.773 307.789 307.805]\n",
      "curr_time_bins: [307.437 307.453 307.469 307.485 307.501 307.517 307.533 307.549 307.565 307.581 307.597 307.613 307.629 307.645 307.661 307.677 307.693 307.709 307.725 307.741 307.757 307.773 307.789 307.805]\n",
      "actual_time_bins: [315.654 315.67 315.686 315.702 315.718 315.734 315.75 315.766 315.782 315.798 315.814 315.83 315.846]\n",
      "curr_time_bins: [315.654 315.67 315.686 315.702 315.718 315.734 315.75 315.766 315.782 315.798 315.814 315.83 315.846]\n",
      "actual_time_bins: [357.172 357.188 357.204 357.22 357.236 357.252 357.268 357.284 357.3 357.316 357.332 357.348 357.364 357.38 357.396 357.412 357.428 357.444 357.46 357.476 357.492 357.508 357.524 357.54 357.556 357.572 357.588]\n",
      "curr_time_bins: [357.172 357.188 357.204 357.22 357.236 357.252 357.268 357.284 357.3 357.316 357.332 357.348 357.364 357.38 357.396 357.412 357.428 357.444 357.46 357.476 357.492 357.508 357.524 357.54 357.556 357.572 357.588]\n",
      "actual_time_bins: [376.601 376.617 376.633 376.649 376.665 376.681 376.697 376.713 376.729 376.745 376.761 376.777 376.793 376.809 376.825 376.841 376.857 376.873 376.889 376.905 376.921 376.937 376.953 376.969 376.985 377.001 377.017 377.033 377.049 377.065 377.081 377.097 377.113 377.129 377.145 377.161 377.177]\n",
      "curr_time_bins: [376.601 376.617 376.633 376.649 376.665 376.681 376.697 376.713 376.729 376.745 376.761 376.777 376.793 376.809 376.825 376.841 376.857 376.873 376.889 376.905 376.921 376.937 376.953 376.969 376.985 377.001 377.017 377.033 377.049 377.065 377.081 377.097 377.113 377.129 377.145 377.161 377.177]\n",
      "actual_time_bins: [186.467 186.483 186.499 186.515 186.531 186.547 186.563 186.579 186.595 186.611 186.627 186.643 186.659 186.675 186.691 186.707 186.723 186.739 186.755 186.771]\n",
      "curr_time_bins: [186.467 186.483 186.499 186.515 186.531 186.547 186.563 186.579 186.595 186.611 186.627 186.643 186.659 186.675 186.691 186.707 186.723 186.739 186.755 186.771]\n",
      "actual_time_bins: [191.617 191.633 191.649 191.665 191.681 191.697 191.713 191.729 191.745 191.761 191.777 191.793 191.809 191.825 191.841 191.857 191.873 191.889 191.905 191.921 191.937]\n",
      "curr_time_bins: [191.617 191.633 191.649 191.665 191.681 191.697 191.713 191.729 191.745 191.761 191.777 191.793 191.809 191.825 191.841 191.857 191.873 191.889 191.905 191.921 191.937]\n",
      "actual_time_bins: [202.731 202.747 202.763 202.779 202.795 202.811 202.827 202.843 202.859 202.875 202.891 202.907 202.923 202.939 202.955 202.971 202.987 203.003 203.019 203.035]\n",
      "curr_time_bins: [202.731 202.747 202.763 202.779 202.795 202.811 202.827 202.843 202.859 202.875 202.891 202.907 202.923 202.939 202.955 202.971 202.987 203.003 203.019 203.035]\n",
      "actual_time_bins: [209.661 209.677 209.693 209.709 209.725 209.741 209.757 209.773 209.789 209.805 209.821 209.837 209.853 209.869 209.885 209.901 209.917 209.933 209.949 209.965 209.981 209.997 210.013 210.029 210.045 210.061 210.077 210.093 210.109]\n",
      "curr_time_bins: [209.661 209.677 209.693 209.709 209.725 209.741 209.757 209.773 209.789 209.805 209.821 209.837 209.853 209.869 209.885 209.901 209.917 209.933 209.949 209.965 209.981 209.997 210.013 210.029 210.045 210.061 210.077 210.093 210.109]\n",
      "actual_time_bins: [251.425 251.441 251.457 251.473 251.489 251.505 251.521 251.537 251.553 251.569 251.585 251.601 251.617 251.633 251.649 251.665 251.681 251.697 251.713 251.729 251.745 251.761 251.777 251.793]\n",
      "curr_time_bins: [251.425 251.441 251.457 251.473 251.489 251.505 251.521 251.537 251.553 251.569 251.585 251.601 251.617 251.633 251.649 251.665 251.681 251.697 251.713 251.729 251.745 251.761 251.777 251.793]\n",
      "actual_time_bins: [301.965 301.981 301.997 302.013 302.029 302.045 302.061 302.077 302.093 302.109 302.125 302.141 302.157 302.173 302.189 302.205 302.221 302.237 302.253 302.269 302.285 302.301 302.317 302.333 302.349]\n",
      "curr_time_bins: [301.965 301.981 301.997 302.013 302.029 302.045 302.061 302.077 302.093 302.109 302.125 302.141 302.157 302.173 302.189 302.205 302.221 302.237 302.253 302.269 302.285 302.301 302.317 302.333 302.349]\n",
      "actual_time_bins: [307.437 307.453 307.469 307.485 307.501 307.517 307.533 307.549 307.565 307.581 307.597 307.613 307.629 307.645 307.661 307.677 307.693 307.709 307.725 307.741 307.757 307.773 307.789 307.805]\n",
      "curr_time_bins: [307.437 307.453 307.469 307.485 307.501 307.517 307.533 307.549 307.565 307.581 307.597 307.613 307.629 307.645 307.661 307.677 307.693 307.709 307.725 307.741 307.757 307.773 307.789 307.805]\n",
      "actual_time_bins: [315.654 315.67 315.686 315.702 315.718 315.734 315.75 315.766 315.782 315.798 315.814 315.83 315.846]\n",
      "curr_time_bins: [315.654 315.67 315.686 315.702 315.718 315.734 315.75 315.766 315.782 315.798 315.814 315.83 315.846]\n",
      "actual_time_bins: [357.172 357.188 357.204 357.22 357.236 357.252 357.268 357.284 357.3 357.316 357.332 357.348 357.364 357.38 357.396 357.412 357.428 357.444 357.46 357.476 357.492 357.508 357.524 357.54 357.556 357.572 357.588]\n",
      "curr_time_bins: [357.172 357.188 357.204 357.22 357.236 357.252 357.268 357.284 357.3 357.316 357.332 357.348 357.364 357.38 357.396 357.412 357.428 357.444 357.46 357.476 357.492 357.508 357.524 357.54 357.556 357.572 357.588]\n",
      "actual_time_bins: [376.601 376.617 376.633 376.649 376.665 376.681 376.697 376.713 376.729 376.745 376.761 376.777 376.793 376.809 376.825 376.841 376.857 376.873 376.889 376.905 376.921 376.937 376.953 376.969 376.985 377.001 377.017 377.033 377.049 377.065 377.081 377.097 377.113 377.129 377.145 377.161 377.177]\n",
      "curr_time_bins: [376.601 376.617 376.633 376.649 376.665 376.681 376.697 376.713 376.729 376.745 376.761 376.777 376.793 376.809 376.825 376.841 376.857 376.873 376.889 376.905 376.921 376.937 376.953 376.969 376.985 377.001 377.017 377.033 377.049 377.065 377.081 377.097 377.113 377.129 377.145 377.161 377.177]\n",
      "actual_time_bins: [386.288 386.304 386.32 386.336 386.352 386.368 386.384 386.4 386.416 386.432 386.448 386.464 386.48 386.496 386.512]\n",
      "curr_time_bins: [386.288 386.304 386.32 386.336 386.352 386.368 386.384 386.4 386.416 386.432 386.448 386.464 386.48 386.496 386.512]\n",
      "actual_time_bins: [407.355 407.371 407.387 407.403 407.419 407.435 407.451 407.467 407.483 407.499 407.515 407.531 407.547 407.563 407.579 407.595 407.611 407.627 407.643 407.659 407.675]\n",
      "curr_time_bins: [407.355 407.371 407.387 407.403 407.419 407.435 407.451 407.467 407.483 407.499 407.515 407.531 407.547 407.563 407.579 407.595 407.611 407.627 407.643 407.659 407.675]\n",
      "actual_time_bins: [438.275 438.291 438.307 438.323 438.339 438.355 438.371 438.387 438.403 438.419 438.435]\n",
      "curr_time_bins: [438.275 438.291 438.307 438.323 438.339 438.355 438.371 438.387 438.403 438.419 438.435]\n",
      "actual_time_bins: [473.431 473.447 473.463 473.479 473.495 473.511 473.527 473.543 473.559 473.575 473.591 473.607 473.623 473.639 473.655 473.671 473.687 473.703 473.719 473.735]\n",
      "curr_time_bins: [473.431 473.447 473.463 473.479 473.495 473.511 473.527 473.543 473.559 473.575 473.591 473.607 473.623 473.639 473.655 473.671 473.687 473.703 473.719 473.735]\n",
      "actual_time_bins: [510.951 510.967 510.983 510.999 511.015 511.031 511.047 511.063 511.079 511.095 511.111 511.127]\n",
      "curr_time_bins: [510.951 510.967 510.983 510.999 511.015 511.031 511.047 511.063 511.079 511.095 511.111 511.127]\n",
      "actual_time_bins: [522.509 522.525 522.541 522.557 522.573 522.589 522.605 522.621 522.637 522.653 522.669 522.685 522.701 522.717 522.733 522.749 522.765 522.781 522.797]\n",
      "curr_time_bins: [522.509 522.525 522.541 522.557 522.573 522.589 522.605 522.621 522.637 522.653 522.669 522.685 522.701 522.717 522.733 522.749 522.765 522.781 522.797]\n",
      "actual_time_bins: [523.473 523.489 523.505 523.521 523.537 523.553 523.569 523.585 523.601 523.617 523.633 523.649 523.665 523.681 523.697 523.713 523.729 523.745 523.761 523.777 523.793 523.809 523.825]\n",
      "curr_time_bins: [523.473 523.489 523.505 523.521 523.537 523.553 523.569 523.585 523.601 523.617 523.633 523.649 523.665 523.681 523.697 523.713 523.729 523.745 523.761 523.777 523.793 523.809 523.825]\n",
      "actual_time_bins: [534.592 534.608 534.624 534.64 534.656 534.672 534.688 534.704 534.72 534.736 534.752 534.768 534.784 534.8 534.816 534.832 534.848 534.864 534.88 534.896 534.912 534.928]\n",
      "curr_time_bins: [534.592 534.608 534.624 534.64 534.656 534.672 534.688 534.704 534.72 534.736 534.752 534.768 534.784 534.8 534.816 534.832 534.848 534.864 534.88 534.896 534.912 534.928]\n",
      "actual_time_bins: [553.446 553.462 553.478 553.494 553.51 553.526 553.542 553.558 553.574 553.59 553.606 553.622 553.638 553.654 553.67 553.686 553.702]\n",
      "curr_time_bins: [553.446 553.462 553.478 553.494 553.51 553.526 553.542 553.558 553.574 553.59 553.606 553.622 553.638 553.654 553.67 553.686 553.702]\n",
      "actual_time_bins: [564.157 564.173 564.189 564.205 564.221 564.237 564.253 564.269 564.285 564.301 564.317 564.333 564.349 564.365 564.381 564.397 564.413 564.429]\n",
      "curr_time_bins: [564.157 564.173 564.189 564.205 564.221 564.237 564.253 564.269 564.285 564.301 564.317 564.333 564.349 564.365 564.381 564.397 564.413 564.429]\n",
      "actual_time_bins: [386.288 386.304 386.32 386.336 386.352 386.368 386.384 386.4 386.416 386.432 386.448 386.464 386.48 386.496 386.512]\n",
      "curr_time_bins: [386.288 386.304 386.32 386.336 386.352 386.368 386.384 386.4 386.416 386.432 386.448 386.464 386.48 386.496 386.512]\n",
      "actual_time_bins: [407.355 407.371 407.387 407.403 407.419 407.435 407.451 407.467 407.483 407.499 407.515 407.531 407.547 407.563 407.579 407.595 407.611 407.627 407.643 407.659 407.675]\n",
      "curr_time_bins: [407.355 407.371 407.387 407.403 407.419 407.435 407.451 407.467 407.483 407.499 407.515 407.531 407.547 407.563 407.579 407.595 407.611 407.627 407.643 407.659 407.675]\n",
      "actual_time_bins: [438.275 438.291 438.307 438.323 438.339 438.355 438.371 438.387 438.403 438.419 438.435]\n",
      "curr_time_bins: [438.275 438.291 438.307 438.323 438.339 438.355 438.371 438.387 438.403 438.419 438.435]\n",
      "actual_time_bins: [473.431 473.447 473.463 473.479 473.495 473.511 473.527 473.543 473.559 473.575 473.591 473.607 473.623 473.639 473.655 473.671 473.687 473.703 473.719 473.735]\n",
      "curr_time_bins: [473.431 473.447 473.463 473.479 473.495 473.511 473.527 473.543 473.559 473.575 473.591 473.607 473.623 473.639 473.655 473.671 473.687 473.703 473.719 473.735]\n",
      "actual_time_bins: [510.951 510.967 510.983 510.999 511.015 511.031 511.047 511.063 511.079 511.095 511.111 511.127]\n",
      "curr_time_bins: [510.951 510.967 510.983 510.999 511.015 511.031 511.047 511.063 511.079 511.095 511.111 511.127]\n",
      "actual_time_bins: [522.509 522.525 522.541 522.557 522.573 522.589 522.605 522.621 522.637 522.653 522.669 522.685 522.701 522.717 522.733 522.749 522.765 522.781 522.797]\n",
      "curr_time_bins: [522.509 522.525 522.541 522.557 522.573 522.589 522.605 522.621 522.637 522.653 522.669 522.685 522.701 522.717 522.733 522.749 522.765 522.781 522.797]\n",
      "actual_time_bins: [523.473 523.489 523.505 523.521 523.537 523.553 523.569 523.585 523.601 523.617 523.633 523.649 523.665 523.681 523.697 523.713 523.729 523.745 523.761 523.777 523.793 523.809 523.825]\n",
      "curr_time_bins: [523.473 523.489 523.505 523.521 523.537 523.553 523.569 523.585 523.601 523.617 523.633 523.649 523.665 523.681 523.697 523.713 523.729 523.745 523.761 523.777 523.793 523.809 523.825]\n",
      "actual_time_bins: [534.592 534.608 534.624 534.64 534.656 534.672 534.688 534.704 534.72 534.736 534.752 534.768 534.784 534.8 534.816 534.832 534.848 534.864 534.88 534.896 534.912 534.928]\n",
      "curr_time_bins: [534.592 534.608 534.624 534.64 534.656 534.672 534.688 534.704 534.72 534.736 534.752 534.768 534.784 534.8 534.816 534.832 534.848 534.864 534.88 534.896 534.912 534.928]\n",
      "actual_time_bins: [553.446 553.462 553.478 553.494 553.51 553.526 553.542 553.558 553.574 553.59 553.606 553.622 553.638 553.654 553.67 553.686 553.702]\n",
      "curr_time_bins: [553.446 553.462 553.478 553.494 553.51 553.526 553.542 553.558 553.574 553.59 553.606 553.622 553.638 553.654 553.67 553.686 553.702]\n",
      "actual_time_bins: [564.157 564.173 564.189 564.205 564.221 564.237 564.253 564.269 564.285 564.301 564.317 564.333 564.349 564.365 564.381 564.397 564.413 564.429]\n",
      "curr_time_bins: [564.157 564.173 564.189 564.205 564.221 564.237 564.253 564.269 564.285 564.301 564.317 564.333 564.349 564.365 564.381 564.397 564.413 564.429]\n",
      "actual_time_bins: [386.288 386.304 386.32 386.336 386.352 386.368 386.384 386.4 386.416 386.432 386.448 386.464 386.48 386.496 386.512]\n",
      "curr_time_bins: [386.288 386.304 386.32 386.336 386.352 386.368 386.384 386.4 386.416 386.432 386.448 386.464 386.48 386.496 386.512]\n",
      "actual_time_bins: [407.355 407.371 407.387 407.403 407.419 407.435 407.451 407.467 407.483 407.499 407.515 407.531 407.547 407.563 407.579 407.595 407.611 407.627 407.643 407.659 407.675]\n",
      "curr_time_bins: [407.355 407.371 407.387 407.403 407.419 407.435 407.451 407.467 407.483 407.499 407.515 407.531 407.547 407.563 407.579 407.595 407.611 407.627 407.643 407.659 407.675]\n",
      "actual_time_bins: [438.275 438.291 438.307 438.323 438.339 438.355 438.371 438.387 438.403 438.419 438.435]\n",
      "curr_time_bins: [438.275 438.291 438.307 438.323 438.339 438.355 438.371 438.387 438.403 438.419 438.435]\n",
      "actual_time_bins: [473.431 473.447 473.463 473.479 473.495 473.511 473.527 473.543 473.559 473.575 473.591 473.607 473.623 473.639 473.655 473.671 473.687 473.703 473.719 473.735]\n",
      "curr_time_bins: [473.431 473.447 473.463 473.479 473.495 473.511 473.527 473.543 473.559 473.575 473.591 473.607 473.623 473.639 473.655 473.671 473.687 473.703 473.719 473.735]\n",
      "actual_time_bins: [510.951 510.967 510.983 510.999 511.015 511.031 511.047 511.063 511.079 511.095 511.111 511.127]\n",
      "curr_time_bins: [510.951 510.967 510.983 510.999 511.015 511.031 511.047 511.063 511.079 511.095 511.111 511.127]\n",
      "actual_time_bins: [522.509 522.525 522.541 522.557 522.573 522.589 522.605 522.621 522.637 522.653 522.669 522.685 522.701 522.717 522.733 522.749 522.765 522.781 522.797]\n",
      "curr_time_bins: [522.509 522.525 522.541 522.557 522.573 522.589 522.605 522.621 522.637 522.653 522.669 522.685 522.701 522.717 522.733 522.749 522.765 522.781 522.797]\n",
      "actual_time_bins: [523.473 523.489 523.505 523.521 523.537 523.553 523.569 523.585 523.601 523.617 523.633 523.649 523.665 523.681 523.697 523.713 523.729 523.745 523.761 523.777 523.793 523.809 523.825]\n",
      "curr_time_bins: [523.473 523.489 523.505 523.521 523.537 523.553 523.569 523.585 523.601 523.617 523.633 523.649 523.665 523.681 523.697 523.713 523.729 523.745 523.761 523.777 523.793 523.809 523.825]\n",
      "actual_time_bins: [534.592 534.608 534.624 534.64 534.656 534.672 534.688 534.704 534.72 534.736 534.752 534.768 534.784 534.8 534.816 534.832 534.848 534.864 534.88 534.896 534.912 534.928]\n",
      "curr_time_bins: [534.592 534.608 534.624 534.64 534.656 534.672 534.688 534.704 534.72 534.736 534.752 534.768 534.784 534.8 534.816 534.832 534.848 534.864 534.88 534.896 534.912 534.928]\n",
      "actual_time_bins: [553.446 553.462 553.478 553.494 553.51 553.526 553.542 553.558 553.574 553.59 553.606 553.622 553.638 553.654 553.67 553.686 553.702]\n",
      "curr_time_bins: [553.446 553.462 553.478 553.494 553.51 553.526 553.542 553.558 553.574 553.59 553.606 553.622 553.638 553.654 553.67 553.686 553.702]\n",
      "actual_time_bins: [564.157 564.173 564.189 564.205 564.221 564.237 564.253 564.269 564.285 564.301 564.317 564.333 564.349 564.365 564.381 564.397 564.413 564.429]\n",
      "curr_time_bins: [564.157 564.173 564.189 564.205 564.221 564.237 564.253 564.269 564.285 564.301 564.317 564.333 564.349 564.365 564.381 564.397 564.413 564.429]\n",
      "actual_time_bins: [386.288 386.304 386.32 386.336 386.352 386.368 386.384 386.4 386.416 386.432 386.448 386.464 386.48 386.496 386.512]\n",
      "curr_time_bins: [386.288 386.304 386.32 386.336 386.352 386.368 386.384 386.4 386.416 386.432 386.448 386.464 386.48 386.496 386.512]\n",
      "actual_time_bins: [407.355 407.371 407.387 407.403 407.419 407.435 407.451 407.467 407.483 407.499 407.515 407.531 407.547 407.563 407.579 407.595 407.611 407.627 407.643 407.659 407.675]\n",
      "curr_time_bins: [407.355 407.371 407.387 407.403 407.419 407.435 407.451 407.467 407.483 407.499 407.515 407.531 407.547 407.563 407.579 407.595 407.611 407.627 407.643 407.659 407.675]\n",
      "actual_time_bins: [438.275 438.291 438.307 438.323 438.339 438.355 438.371 438.387 438.403 438.419 438.435]\n",
      "curr_time_bins: [438.275 438.291 438.307 438.323 438.339 438.355 438.371 438.387 438.403 438.419 438.435]\n",
      "actual_time_bins: [473.431 473.447 473.463 473.479 473.495 473.511 473.527 473.543 473.559 473.575 473.591 473.607 473.623 473.639 473.655 473.671 473.687 473.703 473.719 473.735]\n",
      "curr_time_bins: [473.431 473.447 473.463 473.479 473.495 473.511 473.527 473.543 473.559 473.575 473.591 473.607 473.623 473.639 473.655 473.671 473.687 473.703 473.719 473.735]\n",
      "actual_time_bins: [510.951 510.967 510.983 510.999 511.015 511.031 511.047 511.063 511.079 511.095 511.111 511.127]\n",
      "curr_time_bins: [510.951 510.967 510.983 510.999 511.015 511.031 511.047 511.063 511.079 511.095 511.111 511.127]\n",
      "actual_time_bins: [522.509 522.525 522.541 522.557 522.573 522.589 522.605 522.621 522.637 522.653 522.669 522.685 522.701 522.717 522.733 522.749 522.765 522.781 522.797]\n",
      "curr_time_bins: [522.509 522.525 522.541 522.557 522.573 522.589 522.605 522.621 522.637 522.653 522.669 522.685 522.701 522.717 522.733 522.749 522.765 522.781 522.797]\n",
      "actual_time_bins: [523.473 523.489 523.505 523.521 523.537 523.553 523.569 523.585 523.601 523.617 523.633 523.649 523.665 523.681 523.697 523.713 523.729 523.745 523.761 523.777 523.793 523.809 523.825]\n",
      "curr_time_bins: [523.473 523.489 523.505 523.521 523.537 523.553 523.569 523.585 523.601 523.617 523.633 523.649 523.665 523.681 523.697 523.713 523.729 523.745 523.761 523.777 523.793 523.809 523.825]\n",
      "actual_time_bins: [534.592 534.608 534.624 534.64 534.656 534.672 534.688 534.704 534.72 534.736 534.752 534.768 534.784 534.8 534.816 534.832 534.848 534.864 534.88 534.896 534.912 534.928]\n",
      "curr_time_bins: [534.592 534.608 534.624 534.64 534.656 534.672 534.688 534.704 534.72 534.736 534.752 534.768 534.784 534.8 534.816 534.832 534.848 534.864 534.88 534.896 534.912 534.928]\n",
      "actual_time_bins: [553.446 553.462 553.478 553.494 553.51 553.526 553.542 553.558 553.574 553.59 553.606 553.622 553.638 553.654 553.67 553.686 553.702]\n",
      "curr_time_bins: [553.446 553.462 553.478 553.494 553.51 553.526 553.542 553.558 553.574 553.59 553.606 553.622 553.638 553.654 553.67 553.686 553.702]\n",
      "actual_time_bins: [564.157 564.173 564.189 564.205 564.221 564.237 564.253 564.269 564.285 564.301 564.317 564.333 564.349 564.365 564.381 564.397 564.413 564.429]\n",
      "curr_time_bins: [564.157 564.173 564.189 564.205 564.221 564.237 564.253 564.269 564.285 564.301 564.317 564.333 564.349 564.365 564.381 564.397 564.413 564.429]\n",
      "actual_time_bins: [599.718 599.734 599.75 599.766 599.782 599.798 599.814 599.83 599.846 599.862 599.878 599.894]\n",
      "curr_time_bins: [599.718 599.734 599.75 599.766 599.782 599.798 599.814 599.83 599.846 599.862 599.878 599.894]\n",
      "actual_time_bins: [602.58 602.596 602.612 602.628 602.644 602.66 602.676 602.692 602.708 602.724 602.74]\n",
      "curr_time_bins: [602.58 602.596 602.612 602.628 602.644 602.66 602.676 602.692 602.708 602.724 602.74]\n",
      "actual_time_bins: [604.179 604.195 604.211 604.227 604.243 604.259 604.275 604.291 604.307 604.323 604.339 604.355 604.371 604.387 604.403 604.419 604.435 604.451 604.467 604.483 604.499 604.515 604.531 604.547]\n",
      "curr_time_bins: [604.179 604.195 604.211 604.227 604.243 604.259 604.275 604.291 604.307 604.323 604.339 604.355 604.371 604.387 604.403 604.419 604.435 604.451 604.467 604.483 604.499 604.515 604.531 604.547]\n",
      "actual_time_bins: [610.451 610.467 610.483 610.499 610.515 610.531 610.547 610.563 610.579 610.595 610.611 610.627 610.643 610.659 610.675 610.691 610.707 610.723 610.739 610.755 610.771 610.787 610.803]\n",
      "curr_time_bins: [610.451 610.467 610.483 610.499 610.515 610.531 610.547 610.563 610.579 610.595 610.611 610.627 610.643 610.659 610.675 610.691 610.707 610.723 610.739 610.755 610.771 610.787 610.803]\n",
      "actual_time_bins: [613.153 613.169 613.185 613.201 613.217 613.233 613.249 613.265 613.281 613.297 613.313 613.329 613.345 613.361]\n",
      "curr_time_bins: [613.153 613.169 613.185 613.201 613.217 613.233 613.249 613.265 613.281 613.297 613.313 613.329 613.345 613.361]\n",
      "actual_time_bins: [616.552 616.568 616.584 616.6 616.616 616.632 616.648 616.664 616.68 616.696 616.712 616.728 616.744 616.76 616.776 616.792 616.808 616.824 616.84 616.856 616.872 616.888 616.904 616.92 616.936 616.952 616.968 616.984 617 617.016]\n",
      "curr_time_bins: [616.552 616.568 616.584 616.6 616.616 616.632 616.648 616.664 616.68 616.696 616.712 616.728 616.744 616.76 616.776 616.792 616.808 616.824 616.84 616.856 616.872 616.888 616.904 616.92 616.936 616.952 616.968 616.984 617 617.016]\n",
      "actual_time_bins: [624.234 624.25 624.266 624.282 624.298 624.314 624.33 624.346 624.362 624.378 624.394 624.41 624.426 624.442 624.458 624.474 624.49]\n",
      "curr_time_bins: [624.234 624.25 624.266 624.282 624.298 624.314 624.33 624.346 624.362 624.378 624.394 624.41 624.426 624.442 624.458 624.474 624.49]\n",
      "actual_time_bins: [630.124 630.14 630.156 630.172 630.188 630.204 630.22 630.236 630.252 630.268 630.284]\n",
      "curr_time_bins: [630.124 630.14 630.156 630.172 630.188 630.204 630.22 630.236 630.252 630.268 630.284]\n",
      "actual_time_bins: [637.793 637.809 637.825 637.841 637.857 637.873 637.889 637.905 637.921 637.937 637.953 637.969 637.985 638.001 638.017 638.033 638.049 638.065 638.081 638.097 638.113 638.129 638.145 638.161]\n",
      "curr_time_bins: [637.793 637.809 637.825 637.841 637.857 637.873 637.889 637.905 637.921 637.937 637.953 637.969 637.985 638.001 638.017 638.033 638.049 638.065 638.081 638.097 638.113 638.129 638.145 638.161]\n",
      "actual_time_bins: [670.224 670.24 670.256 670.272 670.288 670.304 670.32 670.336 670.352 670.368 670.384 670.4]\n",
      "curr_time_bins: [670.224 670.24 670.256 670.272 670.288 670.304 670.32 670.336 670.352 670.368 670.384 670.4]\n",
      "actual_time_bins: [599.718 599.734 599.75 599.766 599.782 599.798 599.814 599.83 599.846 599.862 599.878 599.894]\n",
      "curr_time_bins: [599.718 599.734 599.75 599.766 599.782 599.798 599.814 599.83 599.846 599.862 599.878 599.894]\n",
      "actual_time_bins: [602.58 602.596 602.612 602.628 602.644 602.66 602.676 602.692 602.708 602.724 602.74]\n",
      "curr_time_bins: [602.58 602.596 602.612 602.628 602.644 602.66 602.676 602.692 602.708 602.724 602.74]\n",
      "actual_time_bins: [604.179 604.195 604.211 604.227 604.243 604.259 604.275 604.291 604.307 604.323 604.339 604.355 604.371 604.387 604.403 604.419 604.435 604.451 604.467 604.483 604.499 604.515 604.531 604.547]\n",
      "curr_time_bins: [604.179 604.195 604.211 604.227 604.243 604.259 604.275 604.291 604.307 604.323 604.339 604.355 604.371 604.387 604.403 604.419 604.435 604.451 604.467 604.483 604.499 604.515 604.531 604.547]\n",
      "actual_time_bins: [610.451 610.467 610.483 610.499 610.515 610.531 610.547 610.563 610.579 610.595 610.611 610.627 610.643 610.659 610.675 610.691 610.707 610.723 610.739 610.755 610.771 610.787 610.803]\n",
      "curr_time_bins: [610.451 610.467 610.483 610.499 610.515 610.531 610.547 610.563 610.579 610.595 610.611 610.627 610.643 610.659 610.675 610.691 610.707 610.723 610.739 610.755 610.771 610.787 610.803]\n",
      "actual_time_bins: [613.153 613.169 613.185 613.201 613.217 613.233 613.249 613.265 613.281 613.297 613.313 613.329 613.345 613.361]\n",
      "curr_time_bins: [613.153 613.169 613.185 613.201 613.217 613.233 613.249 613.265 613.281 613.297 613.313 613.329 613.345 613.361]\n",
      "actual_time_bins: [616.552 616.568 616.584 616.6 616.616 616.632 616.648 616.664 616.68 616.696 616.712 616.728 616.744 616.76 616.776 616.792 616.808 616.824 616.84 616.856 616.872 616.888 616.904 616.92 616.936 616.952 616.968 616.984 617 617.016]\n",
      "curr_time_bins: [616.552 616.568 616.584 616.6 616.616 616.632 616.648 616.664 616.68 616.696 616.712 616.728 616.744 616.76 616.776 616.792 616.808 616.824 616.84 616.856 616.872 616.888 616.904 616.92 616.936 616.952 616.968 616.984 617 617.016]\n",
      "actual_time_bins: [624.234 624.25 624.266 624.282 624.298 624.314 624.33 624.346 624.362 624.378 624.394 624.41 624.426 624.442 624.458 624.474 624.49]\n",
      "curr_time_bins: [624.234 624.25 624.266 624.282 624.298 624.314 624.33 624.346 624.362 624.378 624.394 624.41 624.426 624.442 624.458 624.474 624.49]\n",
      "actual_time_bins: [630.124 630.14 630.156 630.172 630.188 630.204 630.22 630.236 630.252 630.268 630.284]\n",
      "curr_time_bins: [630.124 630.14 630.156 630.172 630.188 630.204 630.22 630.236 630.252 630.268 630.284]\n",
      "actual_time_bins: [637.793 637.809 637.825 637.841 637.857 637.873 637.889 637.905 637.921 637.937 637.953 637.969 637.985 638.001 638.017 638.033 638.049 638.065 638.081 638.097 638.113 638.129 638.145 638.161]\n",
      "curr_time_bins: [637.793 637.809 637.825 637.841 637.857 637.873 637.889 637.905 637.921 637.937 637.953 637.969 637.985 638.001 638.017 638.033 638.049 638.065 638.081 638.097 638.113 638.129 638.145 638.161]\n",
      "actual_time_bins: [670.224 670.24 670.256 670.272 670.288 670.304 670.32 670.336 670.352 670.368 670.384 670.4]\n",
      "curr_time_bins: [670.224 670.24 670.256 670.272 670.288 670.304 670.32 670.336 670.352 670.368 670.384 670.4]\n",
      "actual_time_bins: [599.718 599.734 599.75 599.766 599.782 599.798 599.814 599.83 599.846 599.862 599.878 599.894]\n",
      "curr_time_bins: [599.718 599.734 599.75 599.766 599.782 599.798 599.814 599.83 599.846 599.862 599.878 599.894]\n",
      "actual_time_bins: [602.58 602.596 602.612 602.628 602.644 602.66 602.676 602.692 602.708 602.724 602.74]\n",
      "curr_time_bins: [602.58 602.596 602.612 602.628 602.644 602.66 602.676 602.692 602.708 602.724 602.74]\n",
      "actual_time_bins: [604.179 604.195 604.211 604.227 604.243 604.259 604.275 604.291 604.307 604.323 604.339 604.355 604.371 604.387 604.403 604.419 604.435 604.451 604.467 604.483 604.499 604.515 604.531 604.547]\n",
      "curr_time_bins: [604.179 604.195 604.211 604.227 604.243 604.259 604.275 604.291 604.307 604.323 604.339 604.355 604.371 604.387 604.403 604.419 604.435 604.451 604.467 604.483 604.499 604.515 604.531 604.547]\n",
      "actual_time_bins: [610.451 610.467 610.483 610.499 610.515 610.531 610.547 610.563 610.579 610.595 610.611 610.627 610.643 610.659 610.675 610.691 610.707 610.723 610.739 610.755 610.771 610.787 610.803]\n",
      "curr_time_bins: [610.451 610.467 610.483 610.499 610.515 610.531 610.547 610.563 610.579 610.595 610.611 610.627 610.643 610.659 610.675 610.691 610.707 610.723 610.739 610.755 610.771 610.787 610.803]\n",
      "actual_time_bins: [613.153 613.169 613.185 613.201 613.217 613.233 613.249 613.265 613.281 613.297 613.313 613.329 613.345 613.361]\n",
      "curr_time_bins: [613.153 613.169 613.185 613.201 613.217 613.233 613.249 613.265 613.281 613.297 613.313 613.329 613.345 613.361]\n",
      "actual_time_bins: [616.552 616.568 616.584 616.6 616.616 616.632 616.648 616.664 616.68 616.696 616.712 616.728 616.744 616.76 616.776 616.792 616.808 616.824 616.84 616.856 616.872 616.888 616.904 616.92 616.936 616.952 616.968 616.984 617 617.016]\n",
      "curr_time_bins: [616.552 616.568 616.584 616.6 616.616 616.632 616.648 616.664 616.68 616.696 616.712 616.728 616.744 616.76 616.776 616.792 616.808 616.824 616.84 616.856 616.872 616.888 616.904 616.92 616.936 616.952 616.968 616.984 617 617.016]\n",
      "actual_time_bins: [624.234 624.25 624.266 624.282 624.298 624.314 624.33 624.346 624.362 624.378 624.394 624.41 624.426 624.442 624.458 624.474 624.49]\n",
      "curr_time_bins: [624.234 624.25 624.266 624.282 624.298 624.314 624.33 624.346 624.362 624.378 624.394 624.41 624.426 624.442 624.458 624.474 624.49]\n",
      "actual_time_bins: [630.124 630.14 630.156 630.172 630.188 630.204 630.22 630.236 630.252 630.268 630.284]\n",
      "curr_time_bins: [630.124 630.14 630.156 630.172 630.188 630.204 630.22 630.236 630.252 630.268 630.284]\n",
      "actual_time_bins: [637.793 637.809 637.825 637.841 637.857 637.873 637.889 637.905 637.921 637.937 637.953 637.969 637.985 638.001 638.017 638.033 638.049 638.065 638.081 638.097 638.113 638.129 638.145 638.161]\n",
      "curr_time_bins: [637.793 637.809 637.825 637.841 637.857 637.873 637.889 637.905 637.921 637.937 637.953 637.969 637.985 638.001 638.017 638.033 638.049 638.065 638.081 638.097 638.113 638.129 638.145 638.161]\n",
      "actual_time_bins: [670.224 670.24 670.256 670.272 670.288 670.304 670.32 670.336 670.352 670.368 670.384 670.4]\n",
      "curr_time_bins: [670.224 670.24 670.256 670.272 670.288 670.304 670.32 670.336 670.352 670.368 670.384 670.4]\n",
      "actual_time_bins: [599.718 599.734 599.75 599.766 599.782 599.798 599.814 599.83 599.846 599.862 599.878 599.894]\n",
      "curr_time_bins: [599.718 599.734 599.75 599.766 599.782 599.798 599.814 599.83 599.846 599.862 599.878 599.894]\n",
      "actual_time_bins: [602.58 602.596 602.612 602.628 602.644 602.66 602.676 602.692 602.708 602.724 602.74]\n",
      "curr_time_bins: [602.58 602.596 602.612 602.628 602.644 602.66 602.676 602.692 602.708 602.724 602.74]\n",
      "actual_time_bins: [604.179 604.195 604.211 604.227 604.243 604.259 604.275 604.291 604.307 604.323 604.339 604.355 604.371 604.387 604.403 604.419 604.435 604.451 604.467 604.483 604.499 604.515 604.531 604.547]\n",
      "curr_time_bins: [604.179 604.195 604.211 604.227 604.243 604.259 604.275 604.291 604.307 604.323 604.339 604.355 604.371 604.387 604.403 604.419 604.435 604.451 604.467 604.483 604.499 604.515 604.531 604.547]\n",
      "actual_time_bins: [610.451 610.467 610.483 610.499 610.515 610.531 610.547 610.563 610.579 610.595 610.611 610.627 610.643 610.659 610.675 610.691 610.707 610.723 610.739 610.755 610.771 610.787 610.803]\n",
      "curr_time_bins: [610.451 610.467 610.483 610.499 610.515 610.531 610.547 610.563 610.579 610.595 610.611 610.627 610.643 610.659 610.675 610.691 610.707 610.723 610.739 610.755 610.771 610.787 610.803]\n",
      "actual_time_bins: [613.153 613.169 613.185 613.201 613.217 613.233 613.249 613.265 613.281 613.297 613.313 613.329 613.345 613.361]\n",
      "curr_time_bins: [613.153 613.169 613.185 613.201 613.217 613.233 613.249 613.265 613.281 613.297 613.313 613.329 613.345 613.361]\n",
      "actual_time_bins: [616.552 616.568 616.584 616.6 616.616 616.632 616.648 616.664 616.68 616.696 616.712 616.728 616.744 616.76 616.776 616.792 616.808 616.824 616.84 616.856 616.872 616.888 616.904 616.92 616.936 616.952 616.968 616.984 617 617.016]\n",
      "curr_time_bins: [616.552 616.568 616.584 616.6 616.616 616.632 616.648 616.664 616.68 616.696 616.712 616.728 616.744 616.76 616.776 616.792 616.808 616.824 616.84 616.856 616.872 616.888 616.904 616.92 616.936 616.952 616.968 616.984 617 617.016]\n",
      "actual_time_bins: [624.234 624.25 624.266 624.282 624.298 624.314 624.33 624.346 624.362 624.378 624.394 624.41 624.426 624.442 624.458 624.474 624.49]\n",
      "curr_time_bins: [624.234 624.25 624.266 624.282 624.298 624.314 624.33 624.346 624.362 624.378 624.394 624.41 624.426 624.442 624.458 624.474 624.49]\n",
      "actual_time_bins: [630.124 630.14 630.156 630.172 630.188 630.204 630.22 630.236 630.252 630.268 630.284]\n",
      "curr_time_bins: [630.124 630.14 630.156 630.172 630.188 630.204 630.22 630.236 630.252 630.268 630.284]\n",
      "actual_time_bins: [637.793 637.809 637.825 637.841 637.857 637.873 637.889 637.905 637.921 637.937 637.953 637.969 637.985 638.001 638.017 638.033 638.049 638.065 638.081 638.097 638.113 638.129 638.145 638.161]\n",
      "curr_time_bins: [637.793 637.809 637.825 637.841 637.857 637.873 637.889 637.905 637.921 637.937 637.953 637.969 637.985 638.001 638.017 638.033 638.049 638.065 638.081 638.097 638.113 638.129 638.145 638.161]\n",
      "actual_time_bins: [670.224 670.24 670.256 670.272 670.288 670.304 670.32 670.336 670.352 670.368 670.384 670.4]\n",
      "curr_time_bins: [670.224 670.24 670.256 670.272 670.288 670.304 670.32 670.336 670.352 670.368 670.384 670.4]\n",
      "actual_time_bins: [675.98 675.996 676.012 676.028 676.044 676.06 676.076 676.092 676.108 676.124 676.14]\n",
      "curr_time_bins: [675.98 675.996 676.012 676.028 676.044 676.06 676.076 676.092 676.108 676.124 676.14]\n",
      "actual_time_bins: [681.681 681.697 681.713 681.729 681.745 681.761 681.777 681.793 681.809 681.825 681.841 681.857 681.873]\n",
      "curr_time_bins: [681.681 681.697 681.713 681.729 681.745 681.761 681.777 681.793 681.809 681.825 681.841 681.857 681.873]\n",
      "actual_time_bins: [697.864 697.88 697.896 697.912 697.928 697.944 697.96 697.976]\n",
      "curr_time_bins: [697.864 697.88 697.896 697.912 697.928 697.944 697.96 697.976]\n",
      "actual_time_bins: [700.296 700.312 700.328 700.344 700.36 700.376 700.392 700.408]\n",
      "curr_time_bins: [700.296 700.312 700.328 700.344 700.36 700.376 700.392 700.408]\n",
      "actual_time_bins: [701.51 701.526 701.542 701.558 701.574 701.59 701.606 701.622 701.638 701.654 701.67 701.686 701.702 701.718 701.734 701.75 701.766 701.782 701.798 701.814]\n",
      "curr_time_bins: [701.51 701.526 701.542 701.558 701.574 701.59 701.606 701.622 701.638 701.654 701.67 701.686 701.702 701.718 701.734 701.75 701.766 701.782 701.798 701.814]\n",
      "actual_time_bins: [706.78 706.796 706.812 706.828 706.844 706.86 706.876 706.892 706.908 706.924 706.94 706.956 706.972 706.988 707.004 707.02]\n",
      "curr_time_bins: [706.78 706.796 706.812 706.828 706.844 706.86 706.876 706.892 706.908 706.924 706.94 706.956 706.972 706.988 707.004 707.02]\n",
      "actual_time_bins: [721.993 722.009 722.025 722.041 722.057 722.073 722.089 722.105 722.121 722.137 722.153]\n",
      "curr_time_bins: [721.993 722.009 722.025 722.041 722.057 722.073 722.089 722.105 722.121 722.137 722.153]\n",
      "actual_time_bins: [722.686 722.702 722.718 722.734 722.75 722.766 722.782 722.798 722.814 722.83 722.846 722.862 722.878 722.894 722.91]\n",
      "curr_time_bins: [722.686 722.702 722.718 722.734 722.75 722.766 722.782 722.798 722.814 722.83 722.846 722.862 722.878 722.894 722.91]\n",
      "actual_time_bins: [742.316 742.332 742.348 742.364 742.38 742.396 742.412 742.428 742.444 742.46 742.476 742.492]\n",
      "curr_time_bins: [742.316 742.332 742.348 742.364 742.38 742.396 742.412 742.428 742.444 742.46 742.476 742.492]\n",
      "actual_time_bins: [743.258 743.274 743.29 743.306 743.322 743.338 743.354 743.37 743.386]\n",
      "curr_time_bins: [743.258 743.274 743.29 743.306 743.322 743.338 743.354 743.37 743.386]\n",
      "actual_time_bins: [675.98 675.996 676.012 676.028 676.044 676.06 676.076 676.092 676.108 676.124 676.14]\n",
      "curr_time_bins: [675.98 675.996 676.012 676.028 676.044 676.06 676.076 676.092 676.108 676.124 676.14]\n",
      "actual_time_bins: [681.681 681.697 681.713 681.729 681.745 681.761 681.777 681.793 681.809 681.825 681.841 681.857 681.873]\n",
      "curr_time_bins: [681.681 681.697 681.713 681.729 681.745 681.761 681.777 681.793 681.809 681.825 681.841 681.857 681.873]\n",
      "actual_time_bins: [697.864 697.88 697.896 697.912 697.928 697.944 697.96 697.976]\n",
      "curr_time_bins: [697.864 697.88 697.896 697.912 697.928 697.944 697.96 697.976]\n",
      "actual_time_bins: [700.296 700.312 700.328 700.344 700.36 700.376 700.392 700.408]\n",
      "curr_time_bins: [700.296 700.312 700.328 700.344 700.36 700.376 700.392 700.408]\n",
      "actual_time_bins: [701.51 701.526 701.542 701.558 701.574 701.59 701.606 701.622 701.638 701.654 701.67 701.686 701.702 701.718 701.734 701.75 701.766 701.782 701.798 701.814]\n",
      "curr_time_bins: [701.51 701.526 701.542 701.558 701.574 701.59 701.606 701.622 701.638 701.654 701.67 701.686 701.702 701.718 701.734 701.75 701.766 701.782 701.798 701.814]\n",
      "actual_time_bins: [706.78 706.796 706.812 706.828 706.844 706.86 706.876 706.892 706.908 706.924 706.94 706.956 706.972 706.988 707.004 707.02]\n",
      "curr_time_bins: [706.78 706.796 706.812 706.828 706.844 706.86 706.876 706.892 706.908 706.924 706.94 706.956 706.972 706.988 707.004 707.02]\n",
      "actual_time_bins: [721.993 722.009 722.025 722.041 722.057 722.073 722.089 722.105 722.121 722.137 722.153]\n",
      "curr_time_bins: [721.993 722.009 722.025 722.041 722.057 722.073 722.089 722.105 722.121 722.137 722.153]\n",
      "actual_time_bins: [722.686 722.702 722.718 722.734 722.75 722.766 722.782 722.798 722.814 722.83 722.846 722.862 722.878 722.894 722.91]\n",
      "curr_time_bins: [722.686 722.702 722.718 722.734 722.75 722.766 722.782 722.798 722.814 722.83 722.846 722.862 722.878 722.894 722.91]\n",
      "actual_time_bins: [742.316 742.332 742.348 742.364 742.38 742.396 742.412 742.428 742.444 742.46 742.476 742.492]\n",
      "curr_time_bins: [742.316 742.332 742.348 742.364 742.38 742.396 742.412 742.428 742.444 742.46 742.476 742.492]\n",
      "actual_time_bins: [743.258 743.274 743.29 743.306 743.322 743.338 743.354 743.37 743.386]\n",
      "curr_time_bins: [743.258 743.274 743.29 743.306 743.322 743.338 743.354 743.37 743.386]\n",
      "actual_time_bins: [675.98 675.996 676.012 676.028 676.044 676.06 676.076 676.092 676.108 676.124 676.14]\n",
      "curr_time_bins: [675.98 675.996 676.012 676.028 676.044 676.06 676.076 676.092 676.108 676.124 676.14]\n",
      "actual_time_bins: [681.681 681.697 681.713 681.729 681.745 681.761 681.777 681.793 681.809 681.825 681.841 681.857 681.873]\n",
      "curr_time_bins: [681.681 681.697 681.713 681.729 681.745 681.761 681.777 681.793 681.809 681.825 681.841 681.857 681.873]\n",
      "actual_time_bins: [697.864 697.88 697.896 697.912 697.928 697.944 697.96 697.976]\n",
      "curr_time_bins: [697.864 697.88 697.896 697.912 697.928 697.944 697.96 697.976]\n",
      "actual_time_bins: [700.296 700.312 700.328 700.344 700.36 700.376 700.392 700.408]\n",
      "curr_time_bins: [700.296 700.312 700.328 700.344 700.36 700.376 700.392 700.408]\n",
      "actual_time_bins: [701.51 701.526 701.542 701.558 701.574 701.59 701.606 701.622 701.638 701.654 701.67 701.686 701.702 701.718 701.734 701.75 701.766 701.782 701.798 701.814]\n",
      "curr_time_bins: [701.51 701.526 701.542 701.558 701.574 701.59 701.606 701.622 701.638 701.654 701.67 701.686 701.702 701.718 701.734 701.75 701.766 701.782 701.798 701.814]\n",
      "actual_time_bins: [706.78 706.796 706.812 706.828 706.844 706.86 706.876 706.892 706.908 706.924 706.94 706.956 706.972 706.988 707.004 707.02]\n",
      "curr_time_bins: [706.78 706.796 706.812 706.828 706.844 706.86 706.876 706.892 706.908 706.924 706.94 706.956 706.972 706.988 707.004 707.02]\n",
      "actual_time_bins: [721.993 722.009 722.025 722.041 722.057 722.073 722.089 722.105 722.121 722.137 722.153]\n",
      "curr_time_bins: [721.993 722.009 722.025 722.041 722.057 722.073 722.089 722.105 722.121 722.137 722.153]\n",
      "actual_time_bins: [722.686 722.702 722.718 722.734 722.75 722.766 722.782 722.798 722.814 722.83 722.846 722.862 722.878 722.894 722.91]\n",
      "curr_time_bins: [722.686 722.702 722.718 722.734 722.75 722.766 722.782 722.798 722.814 722.83 722.846 722.862 722.878 722.894 722.91]\n",
      "actual_time_bins: [742.316 742.332 742.348 742.364 742.38 742.396 742.412 742.428 742.444 742.46 742.476 742.492]\n",
      "curr_time_bins: [742.316 742.332 742.348 742.364 742.38 742.396 742.412 742.428 742.444 742.46 742.476 742.492]\n",
      "actual_time_bins: [743.258 743.274 743.29 743.306 743.322 743.338 743.354 743.37 743.386]\n",
      "curr_time_bins: [743.258 743.274 743.29 743.306 743.322 743.338 743.354 743.37 743.386]\n",
      "actual_time_bins: [675.98 675.996 676.012 676.028 676.044 676.06 676.076 676.092 676.108 676.124 676.14]\n",
      "curr_time_bins: [675.98 675.996 676.012 676.028 676.044 676.06 676.076 676.092 676.108 676.124 676.14]\n",
      "actual_time_bins: [681.681 681.697 681.713 681.729 681.745 681.761 681.777 681.793 681.809 681.825 681.841 681.857 681.873]\n",
      "curr_time_bins: [681.681 681.697 681.713 681.729 681.745 681.761 681.777 681.793 681.809 681.825 681.841 681.857 681.873]\n",
      "actual_time_bins: [697.864 697.88 697.896 697.912 697.928 697.944 697.96 697.976]\n",
      "curr_time_bins: [697.864 697.88 697.896 697.912 697.928 697.944 697.96 697.976]\n",
      "actual_time_bins: [700.296 700.312 700.328 700.344 700.36 700.376 700.392 700.408]\n",
      "curr_time_bins: [700.296 700.312 700.328 700.344 700.36 700.376 700.392 700.408]\n",
      "actual_time_bins: [701.51 701.526 701.542 701.558 701.574 701.59 701.606 701.622 701.638 701.654 701.67 701.686 701.702 701.718 701.734 701.75 701.766 701.782 701.798 701.814]\n",
      "curr_time_bins: [701.51 701.526 701.542 701.558 701.574 701.59 701.606 701.622 701.638 701.654 701.67 701.686 701.702 701.718 701.734 701.75 701.766 701.782 701.798 701.814]\n",
      "actual_time_bins: [706.78 706.796 706.812 706.828 706.844 706.86 706.876 706.892 706.908 706.924 706.94 706.956 706.972 706.988 707.004 707.02]\n",
      "curr_time_bins: [706.78 706.796 706.812 706.828 706.844 706.86 706.876 706.892 706.908 706.924 706.94 706.956 706.972 706.988 707.004 707.02]\n",
      "actual_time_bins: [721.993 722.009 722.025 722.041 722.057 722.073 722.089 722.105 722.121 722.137 722.153]\n",
      "curr_time_bins: [721.993 722.009 722.025 722.041 722.057 722.073 722.089 722.105 722.121 722.137 722.153]\n",
      "actual_time_bins: [722.686 722.702 722.718 722.734 722.75 722.766 722.782 722.798 722.814 722.83 722.846 722.862 722.878 722.894 722.91]\n",
      "curr_time_bins: [722.686 722.702 722.718 722.734 722.75 722.766 722.782 722.798 722.814 722.83 722.846 722.862 722.878 722.894 722.91]\n",
      "actual_time_bins: [742.316 742.332 742.348 742.364 742.38 742.396 742.412 742.428 742.444 742.46 742.476 742.492]\n",
      "curr_time_bins: [742.316 742.332 742.348 742.364 742.38 742.396 742.412 742.428 742.444 742.46 742.476 742.492]\n",
      "actual_time_bins: [743.258 743.274 743.29 743.306 743.322 743.338 743.354 743.37 743.386]\n",
      "curr_time_bins: [743.258 743.274 743.29 743.306 743.322 743.338 743.354 743.37 743.386]\n",
      "actual_time_bins: [745.819 745.835 745.851 745.867 745.883 745.899 745.915 745.931 745.947 745.963 745.979 745.995 746.011 746.027 746.043 746.059 746.075]\n",
      "curr_time_bins: [745.819 745.835 745.851 745.867 745.883 745.899 745.915 745.931 745.947 745.963 745.979 745.995 746.011 746.027 746.043 746.059 746.075]\n",
      "actual_time_bins: [753.518 753.534 753.55 753.566 753.582 753.598 753.614 753.63 753.646 753.662 753.678 753.694 753.71 753.726 753.742 753.758 753.774 753.79 753.806 753.822 753.838 753.854 753.87 753.886 753.902 753.918 753.934 753.95 753.966 753.982 753.998 754.014]\n",
      "curr_time_bins: [753.518 753.534 753.55 753.566 753.582 753.598 753.614 753.63 753.646 753.662 753.678 753.694 753.71 753.726 753.742 753.758 753.774 753.79 753.806 753.822 753.838 753.854 753.87 753.886 753.902 753.918 753.934 753.95 753.966 753.982 753.998 754.014]\n",
      "actual_time_bins: [760.989 761.005 761.021 761.037 761.053 761.069 761.085 761.101]\n",
      "curr_time_bins: [760.989 761.005 761.021 761.037 761.053 761.069 761.085 761.101]\n",
      "actual_time_bins: [764.16 764.176 764.192 764.208 764.224 764.24 764.256]\n",
      "curr_time_bins: [764.16 764.176 764.192 764.208 764.224 764.24 764.256]\n",
      "actual_time_bins: [767.833 767.849 767.865 767.881 767.897 767.913 767.929 767.945 767.961 767.977 767.993]\n",
      "curr_time_bins: [767.833 767.849 767.865 767.881 767.897 767.913 767.929 767.945 767.961 767.977 767.993]\n",
      "actual_time_bins: [783.924 783.94 783.956 783.972 783.988 784.004 784.02]\n",
      "curr_time_bins: [783.924 783.94 783.956 783.972 783.988 784.004 784.02]\n",
      "actual_time_bins: [785.094 785.11 785.126 785.142 785.158 785.174 785.19 785.206 785.222 785.238 785.254 785.27 785.286 785.302 785.318 785.334 785.35 785.366]\n",
      "curr_time_bins: [785.094 785.11 785.126 785.142 785.158 785.174 785.19 785.206 785.222 785.238 785.254 785.27 785.286 785.302 785.318 785.334 785.35 785.366]\n",
      "actual_time_bins: [786.781 786.797 786.813 786.829 786.845 786.861 786.877 786.893 786.909 786.925 786.941 786.957 786.973 786.989 787.005 787.021 787.037 787.053 787.069 787.085 787.101 787.117 787.133 787.149]\n",
      "curr_time_bins: [786.781 786.797 786.813 786.829 786.845 786.861 786.877 786.893 786.909 786.925 786.941 786.957 786.973 786.989 787.005 787.021 787.037 787.053 787.069 787.085 787.101 787.117 787.133 787.149]\n",
      "actual_time_bins: [805.558 805.574 805.59 805.606 805.622 805.638 805.654 805.67 805.686 805.702 805.718 805.734 805.75 805.766 805.782 805.798 805.814 805.83 805.846 805.862 805.878 805.894 805.91 805.926 805.942 805.958 805.974 805.99 806.006 806.022 806.038 806.054 806.07 806.086 806.102]\n",
      "curr_time_bins: [805.558 805.574 805.59 805.606 805.622 805.638 805.654 805.67 805.686 805.702 805.718 805.734 805.75 805.766 805.782 805.798 805.814 805.83 805.846 805.862 805.878 805.894 805.91 805.926 805.942 805.958 805.974 805.99 806.006 806.022 806.038 806.054 806.07 806.086 806.102]\n",
      "actual_time_bins: [808.807 808.823 808.839 808.855 808.871 808.887 808.903 808.919 808.935]\n",
      "curr_time_bins: [808.807 808.823 808.839 808.855 808.871 808.887 808.903 808.919 808.935]\n",
      "actual_time_bins: [745.819 745.835 745.851 745.867 745.883 745.899 745.915 745.931 745.947 745.963 745.979 745.995 746.011 746.027 746.043 746.059 746.075]\n",
      "curr_time_bins: [745.819 745.835 745.851 745.867 745.883 745.899 745.915 745.931 745.947 745.963 745.979 745.995 746.011 746.027 746.043 746.059 746.075]\n",
      "actual_time_bins: [753.518 753.534 753.55 753.566 753.582 753.598 753.614 753.63 753.646 753.662 753.678 753.694 753.71 753.726 753.742 753.758 753.774 753.79 753.806 753.822 753.838 753.854 753.87 753.886 753.902 753.918 753.934 753.95 753.966 753.982 753.998 754.014]\n",
      "curr_time_bins: [753.518 753.534 753.55 753.566 753.582 753.598 753.614 753.63 753.646 753.662 753.678 753.694 753.71 753.726 753.742 753.758 753.774 753.79 753.806 753.822 753.838 753.854 753.87 753.886 753.902 753.918 753.934 753.95 753.966 753.982 753.998 754.014]\n",
      "actual_time_bins: [760.989 761.005 761.021 761.037 761.053 761.069 761.085 761.101]\n",
      "curr_time_bins: [760.989 761.005 761.021 761.037 761.053 761.069 761.085 761.101]\n",
      "actual_time_bins: [764.16 764.176 764.192 764.208 764.224 764.24 764.256]\n",
      "curr_time_bins: [764.16 764.176 764.192 764.208 764.224 764.24 764.256]\n",
      "actual_time_bins: [767.833 767.849 767.865 767.881 767.897 767.913 767.929 767.945 767.961 767.977 767.993]\n",
      "curr_time_bins: [767.833 767.849 767.865 767.881 767.897 767.913 767.929 767.945 767.961 767.977 767.993]\n",
      "actual_time_bins: [783.924 783.94 783.956 783.972 783.988 784.004 784.02]\n",
      "curr_time_bins: [783.924 783.94 783.956 783.972 783.988 784.004 784.02]\n",
      "actual_time_bins: [785.094 785.11 785.126 785.142 785.158 785.174 785.19 785.206 785.222 785.238 785.254 785.27 785.286 785.302 785.318 785.334 785.35 785.366]\n",
      "curr_time_bins: [785.094 785.11 785.126 785.142 785.158 785.174 785.19 785.206 785.222 785.238 785.254 785.27 785.286 785.302 785.318 785.334 785.35 785.366]\n",
      "actual_time_bins: [786.781 786.797 786.813 786.829 786.845 786.861 786.877 786.893 786.909 786.925 786.941 786.957 786.973 786.989 787.005 787.021 787.037 787.053 787.069 787.085 787.101 787.117 787.133 787.149]\n",
      "curr_time_bins: [786.781 786.797 786.813 786.829 786.845 786.861 786.877 786.893 786.909 786.925 786.941 786.957 786.973 786.989 787.005 787.021 787.037 787.053 787.069 787.085 787.101 787.117 787.133 787.149]\n",
      "actual_time_bins: [805.558 805.574 805.59 805.606 805.622 805.638 805.654 805.67 805.686 805.702 805.718 805.734 805.75 805.766 805.782 805.798 805.814 805.83 805.846 805.862 805.878 805.894 805.91 805.926 805.942 805.958 805.974 805.99 806.006 806.022 806.038 806.054 806.07 806.086 806.102]\n",
      "curr_time_bins: [805.558 805.574 805.59 805.606 805.622 805.638 805.654 805.67 805.686 805.702 805.718 805.734 805.75 805.766 805.782 805.798 805.814 805.83 805.846 805.862 805.878 805.894 805.91 805.926 805.942 805.958 805.974 805.99 806.006 806.022 806.038 806.054 806.07 806.086 806.102]\n",
      "actual_time_bins: [808.807 808.823 808.839 808.855 808.871 808.887 808.903 808.919 808.935]\n",
      "curr_time_bins: [808.807 808.823 808.839 808.855 808.871 808.887 808.903 808.919 808.935]\n",
      "actual_time_bins: [745.819 745.835 745.851 745.867 745.883 745.899 745.915 745.931 745.947 745.963 745.979 745.995 746.011 746.027 746.043 746.059 746.075]\n",
      "curr_time_bins: [745.819 745.835 745.851 745.867 745.883 745.899 745.915 745.931 745.947 745.963 745.979 745.995 746.011 746.027 746.043 746.059 746.075]\n",
      "actual_time_bins: [753.518 753.534 753.55 753.566 753.582 753.598 753.614 753.63 753.646 753.662 753.678 753.694 753.71 753.726 753.742 753.758 753.774 753.79 753.806 753.822 753.838 753.854 753.87 753.886 753.902 753.918 753.934 753.95 753.966 753.982 753.998 754.014]\n",
      "curr_time_bins: [753.518 753.534 753.55 753.566 753.582 753.598 753.614 753.63 753.646 753.662 753.678 753.694 753.71 753.726 753.742 753.758 753.774 753.79 753.806 753.822 753.838 753.854 753.87 753.886 753.902 753.918 753.934 753.95 753.966 753.982 753.998 754.014]\n",
      "actual_time_bins: [760.989 761.005 761.021 761.037 761.053 761.069 761.085 761.101]\n",
      "curr_time_bins: [760.989 761.005 761.021 761.037 761.053 761.069 761.085 761.101]\n",
      "actual_time_bins: [764.16 764.176 764.192 764.208 764.224 764.24 764.256]\n",
      "curr_time_bins: [764.16 764.176 764.192 764.208 764.224 764.24 764.256]\n",
      "actual_time_bins: [767.833 767.849 767.865 767.881 767.897 767.913 767.929 767.945 767.961 767.977 767.993]\n",
      "curr_time_bins: [767.833 767.849 767.865 767.881 767.897 767.913 767.929 767.945 767.961 767.977 767.993]\n",
      "actual_time_bins: [783.924 783.94 783.956 783.972 783.988 784.004 784.02]\n",
      "curr_time_bins: [783.924 783.94 783.956 783.972 783.988 784.004 784.02]\n",
      "actual_time_bins: [785.094 785.11 785.126 785.142 785.158 785.174 785.19 785.206 785.222 785.238 785.254 785.27 785.286 785.302 785.318 785.334 785.35 785.366]\n",
      "curr_time_bins: [785.094 785.11 785.126 785.142 785.158 785.174 785.19 785.206 785.222 785.238 785.254 785.27 785.286 785.302 785.318 785.334 785.35 785.366]\n",
      "actual_time_bins: [786.781 786.797 786.813 786.829 786.845 786.861 786.877 786.893 786.909 786.925 786.941 786.957 786.973 786.989 787.005 787.021 787.037 787.053 787.069 787.085 787.101 787.117 787.133 787.149]\n",
      "curr_time_bins: [786.781 786.797 786.813 786.829 786.845 786.861 786.877 786.893 786.909 786.925 786.941 786.957 786.973 786.989 787.005 787.021 787.037 787.053 787.069 787.085 787.101 787.117 787.133 787.149]\n",
      "actual_time_bins: [805.558 805.574 805.59 805.606 805.622 805.638 805.654 805.67 805.686 805.702 805.718 805.734 805.75 805.766 805.782 805.798 805.814 805.83 805.846 805.862 805.878 805.894 805.91 805.926 805.942 805.958 805.974 805.99 806.006 806.022 806.038 806.054 806.07 806.086 806.102]\n",
      "curr_time_bins: [805.558 805.574 805.59 805.606 805.622 805.638 805.654 805.67 805.686 805.702 805.718 805.734 805.75 805.766 805.782 805.798 805.814 805.83 805.846 805.862 805.878 805.894 805.91 805.926 805.942 805.958 805.974 805.99 806.006 806.022 806.038 806.054 806.07 806.086 806.102]\n",
      "actual_time_bins: [808.807 808.823 808.839 808.855 808.871 808.887 808.903 808.919 808.935]\n",
      "curr_time_bins: [808.807 808.823 808.839 808.855 808.871 808.887 808.903 808.919 808.935]\n",
      "actual_time_bins: [745.819 745.835 745.851 745.867 745.883 745.899 745.915 745.931 745.947 745.963 745.979 745.995 746.011 746.027 746.043 746.059 746.075]\n",
      "curr_time_bins: [745.819 745.835 745.851 745.867 745.883 745.899 745.915 745.931 745.947 745.963 745.979 745.995 746.011 746.027 746.043 746.059 746.075]\n",
      "actual_time_bins: [753.518 753.534 753.55 753.566 753.582 753.598 753.614 753.63 753.646 753.662 753.678 753.694 753.71 753.726 753.742 753.758 753.774 753.79 753.806 753.822 753.838 753.854 753.87 753.886 753.902 753.918 753.934 753.95 753.966 753.982 753.998 754.014]\n",
      "curr_time_bins: [753.518 753.534 753.55 753.566 753.582 753.598 753.614 753.63 753.646 753.662 753.678 753.694 753.71 753.726 753.742 753.758 753.774 753.79 753.806 753.822 753.838 753.854 753.87 753.886 753.902 753.918 753.934 753.95 753.966 753.982 753.998 754.014]\n",
      "actual_time_bins: [760.989 761.005 761.021 761.037 761.053 761.069 761.085 761.101]\n",
      "curr_time_bins: [760.989 761.005 761.021 761.037 761.053 761.069 761.085 761.101]\n",
      "actual_time_bins: [764.16 764.176 764.192 764.208 764.224 764.24 764.256]\n",
      "curr_time_bins: [764.16 764.176 764.192 764.208 764.224 764.24 764.256]\n",
      "actual_time_bins: [767.833 767.849 767.865 767.881 767.897 767.913 767.929 767.945 767.961 767.977 767.993]\n",
      "curr_time_bins: [767.833 767.849 767.865 767.881 767.897 767.913 767.929 767.945 767.961 767.977 767.993]\n",
      "actual_time_bins: [783.924 783.94 783.956 783.972 783.988 784.004 784.02]\n",
      "curr_time_bins: [783.924 783.94 783.956 783.972 783.988 784.004 784.02]\n",
      "actual_time_bins: [785.094 785.11 785.126 785.142 785.158 785.174 785.19 785.206 785.222 785.238 785.254 785.27 785.286 785.302 785.318 785.334 785.35 785.366]\n",
      "curr_time_bins: [785.094 785.11 785.126 785.142 785.158 785.174 785.19 785.206 785.222 785.238 785.254 785.27 785.286 785.302 785.318 785.334 785.35 785.366]\n",
      "actual_time_bins: [786.781 786.797 786.813 786.829 786.845 786.861 786.877 786.893 786.909 786.925 786.941 786.957 786.973 786.989 787.005 787.021 787.037 787.053 787.069 787.085 787.101 787.117 787.133 787.149]\n",
      "curr_time_bins: [786.781 786.797 786.813 786.829 786.845 786.861 786.877 786.893 786.909 786.925 786.941 786.957 786.973 786.989 787.005 787.021 787.037 787.053 787.069 787.085 787.101 787.117 787.133 787.149]\n",
      "actual_time_bins: [805.558 805.574 805.59 805.606 805.622 805.638 805.654 805.67 805.686 805.702 805.718 805.734 805.75 805.766 805.782 805.798 805.814 805.83 805.846 805.862 805.878 805.894 805.91 805.926 805.942 805.958 805.974 805.99 806.006 806.022 806.038 806.054 806.07 806.086 806.102]\n",
      "curr_time_bins: [805.558 805.574 805.59 805.606 805.622 805.638 805.654 805.67 805.686 805.702 805.718 805.734 805.75 805.766 805.782 805.798 805.814 805.83 805.846 805.862 805.878 805.894 805.91 805.926 805.942 805.958 805.974 805.99 806.006 806.022 806.038 806.054 806.07 806.086 806.102]\n",
      "actual_time_bins: [808.807 808.823 808.839 808.855 808.871 808.887 808.903 808.919 808.935]\n",
      "curr_time_bins: [808.807 808.823 808.839 808.855 808.871 808.887 808.903 808.919 808.935]\n",
      "actual_time_bins: [826.554 826.57 826.586 826.602 826.618 826.634 826.65 826.666 826.682 826.698 826.714 826.73 826.746 826.762 826.778 826.794 826.81]\n",
      "curr_time_bins: [826.554 826.57 826.586 826.602 826.618 826.634 826.65 826.666 826.682 826.698 826.714 826.73 826.746 826.762 826.778 826.794 826.81]\n",
      "actual_time_bins: [880.237 880.253 880.269 880.285 880.301 880.317 880.333 880.349 880.365 880.381 880.397 880.413 880.429 880.445 880.461 880.477 880.493 880.509 880.525 880.541 880.557 880.573 880.589 880.605]\n",
      "curr_time_bins: [880.237 880.253 880.269 880.285 880.301 880.317 880.333 880.349 880.365 880.381 880.397 880.413 880.429 880.445 880.461 880.477 880.493 880.509 880.525 880.541 880.557 880.573 880.589 880.605]\n",
      "actual_time_bins: [896.862 896.878 896.894 896.91 896.926 896.942 896.958 896.974 896.99 897.006 897.022 897.038 897.054 897.07]\n",
      "curr_time_bins: [896.862 896.878 896.894 896.91 896.926 896.942 896.958 896.974 896.99 897.006 897.022 897.038 897.054 897.07]\n",
      "actual_time_bins: [933.101 933.117 933.133 933.149 933.165 933.181 933.197 933.213 933.229 933.245 933.261 933.277 933.293 933.309 933.325 933.341 933.357 933.373 933.389 933.405 933.421 933.437]\n",
      "curr_time_bins: [933.101 933.117 933.133 933.149 933.165 933.181 933.197 933.213 933.229 933.245 933.261 933.277 933.293 933.309 933.325 933.341 933.357 933.373 933.389 933.405 933.421 933.437]\n",
      "actual_time_bins: [933.707 933.723 933.739 933.755 933.771 933.787 933.803 933.819 933.835 933.851 933.867 933.883 933.899 933.915 933.931 933.947 933.963 933.979 933.995 934.011 934.027 934.043 934.059 934.075]\n",
      "curr_time_bins: [933.707 933.723 933.739 933.755 933.771 933.787 933.803 933.819 933.835 933.851 933.867 933.883 933.899 933.915 933.931 933.947 933.963 933.979 933.995 934.011 934.027 934.043 934.059 934.075]\n",
      "actual_time_bins: [942.078 942.094 942.11 942.126 942.142 942.158 942.174 942.19 942.206 942.222 942.238 942.254 942.27 942.286 942.302 942.318 942.334 942.35]\n",
      "curr_time_bins: [942.078 942.094 942.11 942.126 942.142 942.158 942.174 942.19 942.206 942.222 942.238 942.254 942.27 942.286 942.302 942.318 942.334 942.35]\n",
      "actual_time_bins: [963.981 963.997 964.013 964.029 964.045 964.061 964.077 964.093 964.109 964.125 964.141 964.157 964.173 964.189 964.205 964.221 964.237 964.253 964.269 964.285 964.301 964.317 964.333 964.349 964.365 964.381]\n",
      "curr_time_bins: [963.981 963.997 964.013 964.029 964.045 964.061 964.077 964.093 964.109 964.125 964.141 964.157 964.173 964.189 964.205 964.221 964.237 964.253 964.269 964.285 964.301 964.317 964.333 964.349 964.365 964.381]\n",
      "actual_time_bins: [992.637 992.653 992.669 992.685 992.701 992.717 992.733 992.749 992.765 992.781 992.797]\n",
      "curr_time_bins: [992.637 992.653 992.669 992.685 992.701 992.717 992.733 992.749 992.765 992.781 992.797]\n",
      "actual_time_bins: [993.876 993.892 993.908 993.924 993.94 993.956 993.972 993.988 994.004 994.02 994.036 994.052 994.068 994.084 994.1 994.116 994.132 994.148 994.164]\n",
      "curr_time_bins: [993.876 993.892 993.908 993.924 993.94 993.956 993.972 993.988 994.004 994.02 994.036 994.052 994.068 994.084 994.1 994.116 994.132 994.148 994.164]\n",
      "actual_time_bins: [1022.04 1022.06 1022.08 1022.09 1022.11 1022.12 1022.14 1022.16 1022.17 1022.19 1022.2 1022.22 1022.24 1022.25 1022.27 1022.28 1022.3 1022.32 1022.33 1022.35 1022.36 1022.38 1022.4 1022.41 1022.43 1022.44 1022.46 1022.48 1022.49 1022.51 1022.52 1022.54 1022.56 1022.57]\n",
      "curr_time_bins: [1022.04 1022.06 1022.08 1022.09 1022.11 1022.12 1022.14 1022.16 1022.17 1022.19 1022.2 1022.22 1022.24 1022.25 1022.27 1022.28 1022.3 1022.32 1022.33 1022.35 1022.36 1022.38 1022.4 1022.41 1022.43 1022.44 1022.46 1022.48 1022.49 1022.51 1022.52 1022.54 1022.56 1022.57]\n",
      "actual_time_bins: [826.554 826.57 826.586 826.602 826.618 826.634 826.65 826.666 826.682 826.698 826.714 826.73 826.746 826.762 826.778 826.794 826.81]\n",
      "curr_time_bins: [826.554 826.57 826.586 826.602 826.618 826.634 826.65 826.666 826.682 826.698 826.714 826.73 826.746 826.762 826.778 826.794 826.81]\n",
      "actual_time_bins: [880.237 880.253 880.269 880.285 880.301 880.317 880.333 880.349 880.365 880.381 880.397 880.413 880.429 880.445 880.461 880.477 880.493 880.509 880.525 880.541 880.557 880.573 880.589 880.605]\n",
      "curr_time_bins: [880.237 880.253 880.269 880.285 880.301 880.317 880.333 880.349 880.365 880.381 880.397 880.413 880.429 880.445 880.461 880.477 880.493 880.509 880.525 880.541 880.557 880.573 880.589 880.605]\n",
      "actual_time_bins: [896.862 896.878 896.894 896.91 896.926 896.942 896.958 896.974 896.99 897.006 897.022 897.038 897.054 897.07]\n",
      "curr_time_bins: [896.862 896.878 896.894 896.91 896.926 896.942 896.958 896.974 896.99 897.006 897.022 897.038 897.054 897.07]\n",
      "actual_time_bins: [933.101 933.117 933.133 933.149 933.165 933.181 933.197 933.213 933.229 933.245 933.261 933.277 933.293 933.309 933.325 933.341 933.357 933.373 933.389 933.405 933.421 933.437]\n",
      "curr_time_bins: [933.101 933.117 933.133 933.149 933.165 933.181 933.197 933.213 933.229 933.245 933.261 933.277 933.293 933.309 933.325 933.341 933.357 933.373 933.389 933.405 933.421 933.437]\n",
      "actual_time_bins: [933.707 933.723 933.739 933.755 933.771 933.787 933.803 933.819 933.835 933.851 933.867 933.883 933.899 933.915 933.931 933.947 933.963 933.979 933.995 934.011 934.027 934.043 934.059 934.075]\n",
      "curr_time_bins: [933.707 933.723 933.739 933.755 933.771 933.787 933.803 933.819 933.835 933.851 933.867 933.883 933.899 933.915 933.931 933.947 933.963 933.979 933.995 934.011 934.027 934.043 934.059 934.075]\n",
      "actual_time_bins: [942.078 942.094 942.11 942.126 942.142 942.158 942.174 942.19 942.206 942.222 942.238 942.254 942.27 942.286 942.302 942.318 942.334 942.35]\n",
      "curr_time_bins: [942.078 942.094 942.11 942.126 942.142 942.158 942.174 942.19 942.206 942.222 942.238 942.254 942.27 942.286 942.302 942.318 942.334 942.35]\n",
      "actual_time_bins: [963.981 963.997 964.013 964.029 964.045 964.061 964.077 964.093 964.109 964.125 964.141 964.157 964.173 964.189 964.205 964.221 964.237 964.253 964.269 964.285 964.301 964.317 964.333 964.349 964.365 964.381]\n",
      "curr_time_bins: [963.981 963.997 964.013 964.029 964.045 964.061 964.077 964.093 964.109 964.125 964.141 964.157 964.173 964.189 964.205 964.221 964.237 964.253 964.269 964.285 964.301 964.317 964.333 964.349 964.365 964.381]\n",
      "actual_time_bins: [992.637 992.653 992.669 992.685 992.701 992.717 992.733 992.749 992.765 992.781 992.797]\n",
      "curr_time_bins: [992.637 992.653 992.669 992.685 992.701 992.717 992.733 992.749 992.765 992.781 992.797]\n",
      "actual_time_bins: [993.876 993.892 993.908 993.924 993.94 993.956 993.972 993.988 994.004 994.02 994.036 994.052 994.068 994.084 994.1 994.116 994.132 994.148 994.164]\n",
      "curr_time_bins: [993.876 993.892 993.908 993.924 993.94 993.956 993.972 993.988 994.004 994.02 994.036 994.052 994.068 994.084 994.1 994.116 994.132 994.148 994.164]\n",
      "actual_time_bins: [1022.04 1022.06 1022.08 1022.09 1022.11 1022.12 1022.14 1022.16 1022.17 1022.19 1022.2 1022.22 1022.24 1022.25 1022.27 1022.28 1022.3 1022.32 1022.33 1022.35 1022.36 1022.38 1022.4 1022.41 1022.43 1022.44 1022.46 1022.48 1022.49 1022.51 1022.52 1022.54 1022.56 1022.57]\n",
      "curr_time_bins: [1022.04 1022.06 1022.08 1022.09 1022.11 1022.12 1022.14 1022.16 1022.17 1022.19 1022.2 1022.22 1022.24 1022.25 1022.27 1022.28 1022.3 1022.32 1022.33 1022.35 1022.36 1022.38 1022.4 1022.41 1022.43 1022.44 1022.46 1022.48 1022.49 1022.51 1022.52 1022.54 1022.56 1022.57]\n",
      "actual_time_bins: [826.554 826.57 826.586 826.602 826.618 826.634 826.65 826.666 826.682 826.698 826.714 826.73 826.746 826.762 826.778 826.794 826.81]\n",
      "curr_time_bins: [826.554 826.57 826.586 826.602 826.618 826.634 826.65 826.666 826.682 826.698 826.714 826.73 826.746 826.762 826.778 826.794 826.81]\n",
      "actual_time_bins: [880.237 880.253 880.269 880.285 880.301 880.317 880.333 880.349 880.365 880.381 880.397 880.413 880.429 880.445 880.461 880.477 880.493 880.509 880.525 880.541 880.557 880.573 880.589 880.605]\n",
      "curr_time_bins: [880.237 880.253 880.269 880.285 880.301 880.317 880.333 880.349 880.365 880.381 880.397 880.413 880.429 880.445 880.461 880.477 880.493 880.509 880.525 880.541 880.557 880.573 880.589 880.605]\n",
      "actual_time_bins: [896.862 896.878 896.894 896.91 896.926 896.942 896.958 896.974 896.99 897.006 897.022 897.038 897.054 897.07]\n",
      "curr_time_bins: [896.862 896.878 896.894 896.91 896.926 896.942 896.958 896.974 896.99 897.006 897.022 897.038 897.054 897.07]\n",
      "actual_time_bins: [933.101 933.117 933.133 933.149 933.165 933.181 933.197 933.213 933.229 933.245 933.261 933.277 933.293 933.309 933.325 933.341 933.357 933.373 933.389 933.405 933.421 933.437]\n",
      "curr_time_bins: [933.101 933.117 933.133 933.149 933.165 933.181 933.197 933.213 933.229 933.245 933.261 933.277 933.293 933.309 933.325 933.341 933.357 933.373 933.389 933.405 933.421 933.437]\n",
      "actual_time_bins: [933.707 933.723 933.739 933.755 933.771 933.787 933.803 933.819 933.835 933.851 933.867 933.883 933.899 933.915 933.931 933.947 933.963 933.979 933.995 934.011 934.027 934.043 934.059 934.075]\n",
      "curr_time_bins: [933.707 933.723 933.739 933.755 933.771 933.787 933.803 933.819 933.835 933.851 933.867 933.883 933.899 933.915 933.931 933.947 933.963 933.979 933.995 934.011 934.027 934.043 934.059 934.075]\n",
      "actual_time_bins: [942.078 942.094 942.11 942.126 942.142 942.158 942.174 942.19 942.206 942.222 942.238 942.254 942.27 942.286 942.302 942.318 942.334 942.35]\n",
      "curr_time_bins: [942.078 942.094 942.11 942.126 942.142 942.158 942.174 942.19 942.206 942.222 942.238 942.254 942.27 942.286 942.302 942.318 942.334 942.35]\n",
      "actual_time_bins: [963.981 963.997 964.013 964.029 964.045 964.061 964.077 964.093 964.109 964.125 964.141 964.157 964.173 964.189 964.205 964.221 964.237 964.253 964.269 964.285 964.301 964.317 964.333 964.349 964.365 964.381]\n",
      "curr_time_bins: [963.981 963.997 964.013 964.029 964.045 964.061 964.077 964.093 964.109 964.125 964.141 964.157 964.173 964.189 964.205 964.221 964.237 964.253 964.269 964.285 964.301 964.317 964.333 964.349 964.365 964.381]\n",
      "actual_time_bins: [992.637 992.653 992.669 992.685 992.701 992.717 992.733 992.749 992.765 992.781 992.797]\n",
      "curr_time_bins: [992.637 992.653 992.669 992.685 992.701 992.717 992.733 992.749 992.765 992.781 992.797]\n",
      "actual_time_bins: [993.876 993.892 993.908 993.924 993.94 993.956 993.972 993.988 994.004 994.02 994.036 994.052 994.068 994.084 994.1 994.116 994.132 994.148 994.164]\n",
      "curr_time_bins: [993.876 993.892 993.908 993.924 993.94 993.956 993.972 993.988 994.004 994.02 994.036 994.052 994.068 994.084 994.1 994.116 994.132 994.148 994.164]\n",
      "actual_time_bins: [1022.04 1022.06 1022.08 1022.09 1022.11 1022.12 1022.14 1022.16 1022.17 1022.19 1022.2 1022.22 1022.24 1022.25 1022.27 1022.28 1022.3 1022.32 1022.33 1022.35 1022.36 1022.38 1022.4 1022.41 1022.43 1022.44 1022.46 1022.48 1022.49 1022.51 1022.52 1022.54 1022.56 1022.57]\n",
      "curr_time_bins: [1022.04 1022.06 1022.08 1022.09 1022.11 1022.12 1022.14 1022.16 1022.17 1022.19 1022.2 1022.22 1022.24 1022.25 1022.27 1022.28 1022.3 1022.32 1022.33 1022.35 1022.36 1022.38 1022.4 1022.41 1022.43 1022.44 1022.46 1022.48 1022.49 1022.51 1022.52 1022.54 1022.56 1022.57]\n",
      "actual_time_bins: [826.554 826.57 826.586 826.602 826.618 826.634 826.65 826.666 826.682 826.698 826.714 826.73 826.746 826.762 826.778 826.794 826.81]\n",
      "curr_time_bins: [826.554 826.57 826.586 826.602 826.618 826.634 826.65 826.666 826.682 826.698 826.714 826.73 826.746 826.762 826.778 826.794 826.81]\n",
      "actual_time_bins: [880.237 880.253 880.269 880.285 880.301 880.317 880.333 880.349 880.365 880.381 880.397 880.413 880.429 880.445 880.461 880.477 880.493 880.509 880.525 880.541 880.557 880.573 880.589 880.605]\n",
      "curr_time_bins: [880.237 880.253 880.269 880.285 880.301 880.317 880.333 880.349 880.365 880.381 880.397 880.413 880.429 880.445 880.461 880.477 880.493 880.509 880.525 880.541 880.557 880.573 880.589 880.605]\n",
      "actual_time_bins: [896.862 896.878 896.894 896.91 896.926 896.942 896.958 896.974 896.99 897.006 897.022 897.038 897.054 897.07]\n",
      "curr_time_bins: [896.862 896.878 896.894 896.91 896.926 896.942 896.958 896.974 896.99 897.006 897.022 897.038 897.054 897.07]\n",
      "actual_time_bins: [933.101 933.117 933.133 933.149 933.165 933.181 933.197 933.213 933.229 933.245 933.261 933.277 933.293 933.309 933.325 933.341 933.357 933.373 933.389 933.405 933.421 933.437]\n",
      "curr_time_bins: [933.101 933.117 933.133 933.149 933.165 933.181 933.197 933.213 933.229 933.245 933.261 933.277 933.293 933.309 933.325 933.341 933.357 933.373 933.389 933.405 933.421 933.437]\n",
      "actual_time_bins: [933.707 933.723 933.739 933.755 933.771 933.787 933.803 933.819 933.835 933.851 933.867 933.883 933.899 933.915 933.931 933.947 933.963 933.979 933.995 934.011 934.027 934.043 934.059 934.075]\n",
      "curr_time_bins: [933.707 933.723 933.739 933.755 933.771 933.787 933.803 933.819 933.835 933.851 933.867 933.883 933.899 933.915 933.931 933.947 933.963 933.979 933.995 934.011 934.027 934.043 934.059 934.075]\n",
      "actual_time_bins: [942.078 942.094 942.11 942.126 942.142 942.158 942.174 942.19 942.206 942.222 942.238 942.254 942.27 942.286 942.302 942.318 942.334 942.35]\n",
      "curr_time_bins: [942.078 942.094 942.11 942.126 942.142 942.158 942.174 942.19 942.206 942.222 942.238 942.254 942.27 942.286 942.302 942.318 942.334 942.35]\n",
      "actual_time_bins: [963.981 963.997 964.013 964.029 964.045 964.061 964.077 964.093 964.109 964.125 964.141 964.157 964.173 964.189 964.205 964.221 964.237 964.253 964.269 964.285 964.301 964.317 964.333 964.349 964.365 964.381]\n",
      "curr_time_bins: [963.981 963.997 964.013 964.029 964.045 964.061 964.077 964.093 964.109 964.125 964.141 964.157 964.173 964.189 964.205 964.221 964.237 964.253 964.269 964.285 964.301 964.317 964.333 964.349 964.365 964.381]\n",
      "actual_time_bins: [992.637 992.653 992.669 992.685 992.701 992.717 992.733 992.749 992.765 992.781 992.797]\n",
      "curr_time_bins: [992.637 992.653 992.669 992.685 992.701 992.717 992.733 992.749 992.765 992.781 992.797]\n",
      "actual_time_bins: [993.876 993.892 993.908 993.924 993.94 993.956 993.972 993.988 994.004 994.02 994.036 994.052 994.068 994.084 994.1 994.116 994.132 994.148 994.164]\n",
      "curr_time_bins: [993.876 993.892 993.908 993.924 993.94 993.956 993.972 993.988 994.004 994.02 994.036 994.052 994.068 994.084 994.1 994.116 994.132 994.148 994.164]\n",
      "actual_time_bins: [1022.04 1022.06 1022.08 1022.09 1022.11 1022.12 1022.14 1022.16 1022.17 1022.19 1022.2 1022.22 1022.24 1022.25 1022.27 1022.28 1022.3 1022.32 1022.33 1022.35 1022.36 1022.38 1022.4 1022.41 1022.43 1022.44 1022.46 1022.48 1022.49 1022.51 1022.52 1022.54 1022.56 1022.57]\n",
      "curr_time_bins: [1022.04 1022.06 1022.08 1022.09 1022.11 1022.12 1022.14 1022.16 1022.17 1022.19 1022.2 1022.22 1022.24 1022.25 1022.27 1022.28 1022.3 1022.32 1022.33 1022.35 1022.36 1022.38 1022.4 1022.41 1022.43 1022.44 1022.46 1022.48 1022.49 1022.51 1022.52 1022.54 1022.56 1022.57]\n",
      "actual_time_bins: [1085.09 1085.1 1085.12 1085.14 1085.15 1085.17]\n",
      "curr_time_bins: [1085.09 1085.1 1085.12 1085.14 1085.15 1085.17]\n",
      "actual_time_bins: [1085.6 1085.62 1085.64 1085.65 1085.67 1085.68 1085.7 1085.72 1085.73 1085.75 1085.76 1085.78 1085.8 1085.81 1085.83 1085.84 1085.86 1085.88 1085.89 1085.91 1085.92 1085.94 1085.96 1085.97 1085.99 1086 1086.02 1086.04]\n",
      "curr_time_bins: [1085.6 1085.62 1085.64 1085.65 1085.67 1085.68 1085.7 1085.72 1085.73 1085.75 1085.76 1085.78 1085.8 1085.81 1085.83 1085.84 1085.86 1085.88 1085.89 1085.91 1085.92 1085.94 1085.96 1085.97 1085.99 1086 1086.02 1086.04]\n",
      "actual_time_bins: [1115.85 1115.87 1115.89 1115.9 1115.92 1115.93 1115.95 1115.97 1115.98 1116]\n",
      "curr_time_bins: [1115.85 1115.87 1115.89 1115.9 1115.92 1115.93 1115.95 1115.97 1115.98 1116]\n",
      "actual_time_bins: [1117.66 1117.67 1117.69 1117.71 1117.72 1117.74 1117.75 1117.77 1117.79 1117.8 1117.82 1117.83 1117.85 1117.87 1117.88 1117.9 1117.91 1117.93 1117.95 1117.96 1117.98 1117.99 1118.01]\n",
      "curr_time_bins: [1117.66 1117.67 1117.69 1117.71 1117.72 1117.74 1117.75 1117.77 1117.79 1117.8 1117.82 1117.83 1117.85 1117.87 1117.88 1117.9 1117.91 1117.93 1117.95 1117.96 1117.98 1117.99 1118.01]\n",
      "actual_time_bins: [1129.17 1129.18 1129.2 1129.22 1129.23 1129.25 1129.26 1129.28 1129.3 1129.31 1129.33 1129.34 1129.36 1129.38 1129.39 1129.41 1129.42 1129.44 1129.46 1129.47 1129.49]\n",
      "curr_time_bins: [1129.17 1129.18 1129.2 1129.22 1129.23 1129.25 1129.26 1129.28 1129.3 1129.31 1129.33 1129.34 1129.36 1129.38 1129.39 1129.41 1129.42 1129.44 1129.46 1129.47 1129.49]\n",
      "actual_time_bins: [1131.65 1131.66 1131.68 1131.7 1131.71 1131.73 1131.74 1131.76 1131.78 1131.79 1131.81 1131.82 1131.84 1131.86 1131.87]\n",
      "curr_time_bins: [1131.65 1131.66 1131.68 1131.7 1131.71 1131.73 1131.74 1131.76 1131.78 1131.79 1131.81 1131.82 1131.84 1131.86 1131.87]\n",
      "actual_time_bins: [1132.89 1132.9 1132.92 1132.93 1132.95 1132.97 1132.98 1133 1133.01 1133.03]\n",
      "curr_time_bins: [1132.89 1132.9 1132.92 1132.93 1132.95 1132.97 1132.98 1133 1133.01 1133.03]\n",
      "actual_time_bins: [1136.2 1136.22 1136.23 1136.25 1136.26 1136.28 1136.3 1136.31 1136.33 1136.34 1136.36 1136.38 1136.39 1136.41 1136.42 1136.44]\n",
      "curr_time_bins: [1136.2 1136.22 1136.23 1136.25 1136.26 1136.28 1136.3 1136.31 1136.33 1136.34 1136.36 1136.38 1136.39 1136.41 1136.42 1136.44]\n",
      "actual_time_bins: [1143.08 1143.1 1143.11 1143.13 1143.15 1143.16 1143.18 1143.19 1143.21 1143.23 1143.24 1143.26 1143.27 1143.29 1143.31 1143.32 1143.34 1143.35 1143.37 1143.39 1143.4 1143.42 1143.43 1143.45 1143.47]\n",
      "curr_time_bins: [1143.08 1143.1 1143.11 1143.13 1143.15 1143.16 1143.18 1143.19 1143.21 1143.23 1143.24 1143.26 1143.27 1143.29 1143.31 1143.32 1143.34 1143.35 1143.37 1143.39 1143.4 1143.42 1143.43 1143.45 1143.47]\n",
      "actual_time_bins: [1161.01 1161.03 1161.04 1161.06 1161.07 1161.09 1161.11 1161.12 1161.14 1161.15 1161.17 1161.19 1161.2 1161.22 1161.23 1161.25 1161.27]\n",
      "curr_time_bins: [1161.01 1161.03 1161.04 1161.06 1161.07 1161.09 1161.11 1161.12 1161.14 1161.15 1161.17 1161.19 1161.2 1161.22 1161.23 1161.25 1161.27]\n",
      "actual_time_bins: [1085.09 1085.1 1085.12 1085.14 1085.15 1085.17]\n",
      "curr_time_bins: [1085.09 1085.1 1085.12 1085.14 1085.15 1085.17]\n",
      "actual_time_bins: [1085.6 1085.62 1085.64 1085.65 1085.67 1085.68 1085.7 1085.72 1085.73 1085.75 1085.76 1085.78 1085.8 1085.81 1085.83 1085.84 1085.86 1085.88 1085.89 1085.91 1085.92 1085.94 1085.96 1085.97 1085.99 1086 1086.02 1086.04]\n",
      "curr_time_bins: [1085.6 1085.62 1085.64 1085.65 1085.67 1085.68 1085.7 1085.72 1085.73 1085.75 1085.76 1085.78 1085.8 1085.81 1085.83 1085.84 1085.86 1085.88 1085.89 1085.91 1085.92 1085.94 1085.96 1085.97 1085.99 1086 1086.02 1086.04]\n",
      "actual_time_bins: [1115.85 1115.87 1115.89 1115.9 1115.92 1115.93 1115.95 1115.97 1115.98 1116]\n",
      "curr_time_bins: [1115.85 1115.87 1115.89 1115.9 1115.92 1115.93 1115.95 1115.97 1115.98 1116]\n",
      "actual_time_bins: [1117.66 1117.67 1117.69 1117.71 1117.72 1117.74 1117.75 1117.77 1117.79 1117.8 1117.82 1117.83 1117.85 1117.87 1117.88 1117.9 1117.91 1117.93 1117.95 1117.96 1117.98 1117.99 1118.01]\n",
      "curr_time_bins: [1117.66 1117.67 1117.69 1117.71 1117.72 1117.74 1117.75 1117.77 1117.79 1117.8 1117.82 1117.83 1117.85 1117.87 1117.88 1117.9 1117.91 1117.93 1117.95 1117.96 1117.98 1117.99 1118.01]\n",
      "actual_time_bins: [1129.17 1129.18 1129.2 1129.22 1129.23 1129.25 1129.26 1129.28 1129.3 1129.31 1129.33 1129.34 1129.36 1129.38 1129.39 1129.41 1129.42 1129.44 1129.46 1129.47 1129.49]\n",
      "curr_time_bins: [1129.17 1129.18 1129.2 1129.22 1129.23 1129.25 1129.26 1129.28 1129.3 1129.31 1129.33 1129.34 1129.36 1129.38 1129.39 1129.41 1129.42 1129.44 1129.46 1129.47 1129.49]\n",
      "actual_time_bins: [1131.65 1131.66 1131.68 1131.7 1131.71 1131.73 1131.74 1131.76 1131.78 1131.79 1131.81 1131.82 1131.84 1131.86 1131.87]\n",
      "curr_time_bins: [1131.65 1131.66 1131.68 1131.7 1131.71 1131.73 1131.74 1131.76 1131.78 1131.79 1131.81 1131.82 1131.84 1131.86 1131.87]\n",
      "actual_time_bins: [1132.89 1132.9 1132.92 1132.93 1132.95 1132.97 1132.98 1133 1133.01 1133.03]\n",
      "curr_time_bins: [1132.89 1132.9 1132.92 1132.93 1132.95 1132.97 1132.98 1133 1133.01 1133.03]\n",
      "actual_time_bins: [1136.2 1136.22 1136.23 1136.25 1136.26 1136.28 1136.3 1136.31 1136.33 1136.34 1136.36 1136.38 1136.39 1136.41 1136.42 1136.44]\n",
      "curr_time_bins: [1136.2 1136.22 1136.23 1136.25 1136.26 1136.28 1136.3 1136.31 1136.33 1136.34 1136.36 1136.38 1136.39 1136.41 1136.42 1136.44]\n",
      "actual_time_bins: [1143.08 1143.1 1143.11 1143.13 1143.15 1143.16 1143.18 1143.19 1143.21 1143.23 1143.24 1143.26 1143.27 1143.29 1143.31 1143.32 1143.34 1143.35 1143.37 1143.39 1143.4 1143.42 1143.43 1143.45 1143.47]\n",
      "curr_time_bins: [1143.08 1143.1 1143.11 1143.13 1143.15 1143.16 1143.18 1143.19 1143.21 1143.23 1143.24 1143.26 1143.27 1143.29 1143.31 1143.32 1143.34 1143.35 1143.37 1143.39 1143.4 1143.42 1143.43 1143.45 1143.47]\n",
      "actual_time_bins: [1161.01 1161.03 1161.04 1161.06 1161.07 1161.09 1161.11 1161.12 1161.14 1161.15 1161.17 1161.19 1161.2 1161.22 1161.23 1161.25 1161.27]\n",
      "curr_time_bins: [1161.01 1161.03 1161.04 1161.06 1161.07 1161.09 1161.11 1161.12 1161.14 1161.15 1161.17 1161.19 1161.2 1161.22 1161.23 1161.25 1161.27]\n",
      "actual_time_bins: [1085.09 1085.1 1085.12 1085.14 1085.15 1085.17]\n",
      "curr_time_bins: [1085.09 1085.1 1085.12 1085.14 1085.15 1085.17]\n",
      "actual_time_bins: [1085.6 1085.62 1085.64 1085.65 1085.67 1085.68 1085.7 1085.72 1085.73 1085.75 1085.76 1085.78 1085.8 1085.81 1085.83 1085.84 1085.86 1085.88 1085.89 1085.91 1085.92 1085.94 1085.96 1085.97 1085.99 1086 1086.02 1086.04]\n",
      "curr_time_bins: [1085.6 1085.62 1085.64 1085.65 1085.67 1085.68 1085.7 1085.72 1085.73 1085.75 1085.76 1085.78 1085.8 1085.81 1085.83 1085.84 1085.86 1085.88 1085.89 1085.91 1085.92 1085.94 1085.96 1085.97 1085.99 1086 1086.02 1086.04]\n",
      "actual_time_bins: [1115.85 1115.87 1115.89 1115.9 1115.92 1115.93 1115.95 1115.97 1115.98 1116]\n",
      "curr_time_bins: [1115.85 1115.87 1115.89 1115.9 1115.92 1115.93 1115.95 1115.97 1115.98 1116]\n",
      "actual_time_bins: [1117.66 1117.67 1117.69 1117.71 1117.72 1117.74 1117.75 1117.77 1117.79 1117.8 1117.82 1117.83 1117.85 1117.87 1117.88 1117.9 1117.91 1117.93 1117.95 1117.96 1117.98 1117.99 1118.01]\n",
      "curr_time_bins: [1117.66 1117.67 1117.69 1117.71 1117.72 1117.74 1117.75 1117.77 1117.79 1117.8 1117.82 1117.83 1117.85 1117.87 1117.88 1117.9 1117.91 1117.93 1117.95 1117.96 1117.98 1117.99 1118.01]\n",
      "actual_time_bins: [1129.17 1129.18 1129.2 1129.22 1129.23 1129.25 1129.26 1129.28 1129.3 1129.31 1129.33 1129.34 1129.36 1129.38 1129.39 1129.41 1129.42 1129.44 1129.46 1129.47 1129.49]\n",
      "curr_time_bins: [1129.17 1129.18 1129.2 1129.22 1129.23 1129.25 1129.26 1129.28 1129.3 1129.31 1129.33 1129.34 1129.36 1129.38 1129.39 1129.41 1129.42 1129.44 1129.46 1129.47 1129.49]\n",
      "actual_time_bins: [1131.65 1131.66 1131.68 1131.7 1131.71 1131.73 1131.74 1131.76 1131.78 1131.79 1131.81 1131.82 1131.84 1131.86 1131.87]\n",
      "curr_time_bins: [1131.65 1131.66 1131.68 1131.7 1131.71 1131.73 1131.74 1131.76 1131.78 1131.79 1131.81 1131.82 1131.84 1131.86 1131.87]\n",
      "actual_time_bins: [1132.89 1132.9 1132.92 1132.93 1132.95 1132.97 1132.98 1133 1133.01 1133.03]\n",
      "curr_time_bins: [1132.89 1132.9 1132.92 1132.93 1132.95 1132.97 1132.98 1133 1133.01 1133.03]\n",
      "actual_time_bins: [1136.2 1136.22 1136.23 1136.25 1136.26 1136.28 1136.3 1136.31 1136.33 1136.34 1136.36 1136.38 1136.39 1136.41 1136.42 1136.44]\n",
      "curr_time_bins: [1136.2 1136.22 1136.23 1136.25 1136.26 1136.28 1136.3 1136.31 1136.33 1136.34 1136.36 1136.38 1136.39 1136.41 1136.42 1136.44]\n",
      "actual_time_bins: [1143.08 1143.1 1143.11 1143.13 1143.15 1143.16 1143.18 1143.19 1143.21 1143.23 1143.24 1143.26 1143.27 1143.29 1143.31 1143.32 1143.34 1143.35 1143.37 1143.39 1143.4 1143.42 1143.43 1143.45 1143.47]\n",
      "curr_time_bins: [1143.08 1143.1 1143.11 1143.13 1143.15 1143.16 1143.18 1143.19 1143.21 1143.23 1143.24 1143.26 1143.27 1143.29 1143.31 1143.32 1143.34 1143.35 1143.37 1143.39 1143.4 1143.42 1143.43 1143.45 1143.47]\n",
      "actual_time_bins: [1161.01 1161.03 1161.04 1161.06 1161.07 1161.09 1161.11 1161.12 1161.14 1161.15 1161.17 1161.19 1161.2 1161.22 1161.23 1161.25 1161.27]\n",
      "curr_time_bins: [1161.01 1161.03 1161.04 1161.06 1161.07 1161.09 1161.11 1161.12 1161.14 1161.15 1161.17 1161.19 1161.2 1161.22 1161.23 1161.25 1161.27]\n",
      "actual_time_bins: [1085.09 1085.1 1085.12 1085.14 1085.15 1085.17]\n",
      "curr_time_bins: [1085.09 1085.1 1085.12 1085.14 1085.15 1085.17]\n",
      "actual_time_bins: [1085.6 1085.62 1085.64 1085.65 1085.67 1085.68 1085.7 1085.72 1085.73 1085.75 1085.76 1085.78 1085.8 1085.81 1085.83 1085.84 1085.86 1085.88 1085.89 1085.91 1085.92 1085.94 1085.96 1085.97 1085.99 1086 1086.02 1086.04]\n",
      "curr_time_bins: [1085.6 1085.62 1085.64 1085.65 1085.67 1085.68 1085.7 1085.72 1085.73 1085.75 1085.76 1085.78 1085.8 1085.81 1085.83 1085.84 1085.86 1085.88 1085.89 1085.91 1085.92 1085.94 1085.96 1085.97 1085.99 1086 1086.02 1086.04]\n",
      "actual_time_bins: [1115.85 1115.87 1115.89 1115.9 1115.92 1115.93 1115.95 1115.97 1115.98 1116]\n",
      "curr_time_bins: [1115.85 1115.87 1115.89 1115.9 1115.92 1115.93 1115.95 1115.97 1115.98 1116]\n",
      "actual_time_bins: [1117.66 1117.67 1117.69 1117.71 1117.72 1117.74 1117.75 1117.77 1117.79 1117.8 1117.82 1117.83 1117.85 1117.87 1117.88 1117.9 1117.91 1117.93 1117.95 1117.96 1117.98 1117.99 1118.01]\n",
      "curr_time_bins: [1117.66 1117.67 1117.69 1117.71 1117.72 1117.74 1117.75 1117.77 1117.79 1117.8 1117.82 1117.83 1117.85 1117.87 1117.88 1117.9 1117.91 1117.93 1117.95 1117.96 1117.98 1117.99 1118.01]\n",
      "actual_time_bins: [1129.17 1129.18 1129.2 1129.22 1129.23 1129.25 1129.26 1129.28 1129.3 1129.31 1129.33 1129.34 1129.36 1129.38 1129.39 1129.41 1129.42 1129.44 1129.46 1129.47 1129.49]\n",
      "curr_time_bins: [1129.17 1129.18 1129.2 1129.22 1129.23 1129.25 1129.26 1129.28 1129.3 1129.31 1129.33 1129.34 1129.36 1129.38 1129.39 1129.41 1129.42 1129.44 1129.46 1129.47 1129.49]\n",
      "actual_time_bins: [1131.65 1131.66 1131.68 1131.7 1131.71 1131.73 1131.74 1131.76 1131.78 1131.79 1131.81 1131.82 1131.84 1131.86 1131.87]\n",
      "curr_time_bins: [1131.65 1131.66 1131.68 1131.7 1131.71 1131.73 1131.74 1131.76 1131.78 1131.79 1131.81 1131.82 1131.84 1131.86 1131.87]\n",
      "actual_time_bins: [1132.89 1132.9 1132.92 1132.93 1132.95 1132.97 1132.98 1133 1133.01 1133.03]\n",
      "curr_time_bins: [1132.89 1132.9 1132.92 1132.93 1132.95 1132.97 1132.98 1133 1133.01 1133.03]\n",
      "actual_time_bins: [1136.2 1136.22 1136.23 1136.25 1136.26 1136.28 1136.3 1136.31 1136.33 1136.34 1136.36 1136.38 1136.39 1136.41 1136.42 1136.44]\n",
      "curr_time_bins: [1136.2 1136.22 1136.23 1136.25 1136.26 1136.28 1136.3 1136.31 1136.33 1136.34 1136.36 1136.38 1136.39 1136.41 1136.42 1136.44]\n",
      "actual_time_bins: [1143.08 1143.1 1143.11 1143.13 1143.15 1143.16 1143.18 1143.19 1143.21 1143.23 1143.24 1143.26 1143.27 1143.29 1143.31 1143.32 1143.34 1143.35 1143.37 1143.39 1143.4 1143.42 1143.43 1143.45 1143.47]\n",
      "curr_time_bins: [1143.08 1143.1 1143.11 1143.13 1143.15 1143.16 1143.18 1143.19 1143.21 1143.23 1143.24 1143.26 1143.27 1143.29 1143.31 1143.32 1143.34 1143.35 1143.37 1143.39 1143.4 1143.42 1143.43 1143.45 1143.47]\n",
      "actual_time_bins: [1161.01 1161.03 1161.04 1161.06 1161.07 1161.09 1161.11 1161.12 1161.14 1161.15 1161.17 1161.19 1161.2 1161.22 1161.23 1161.25 1161.27]\n",
      "curr_time_bins: [1161.01 1161.03 1161.04 1161.06 1161.07 1161.09 1161.11 1161.12 1161.14 1161.15 1161.17 1161.19 1161.2 1161.22 1161.23 1161.25 1161.27]\n",
      "actual_time_bins: [1178.27 1178.29 1178.3 1178.32 1178.33 1178.35 1178.37 1178.38 1178.4 1178.41 1178.43 1178.45]\n",
      "curr_time_bins: [1178.27 1178.29 1178.3 1178.32 1178.33 1178.35 1178.37 1178.38 1178.4 1178.41 1178.43 1178.45]\n",
      "actual_time_bins: [1191.57 1191.59 1191.6 1191.62 1191.63 1191.65 1191.67 1191.68 1191.7 1191.71 1191.73 1191.75 1191.76 1191.78 1191.79 1191.81 1191.83 1191.84]\n",
      "curr_time_bins: [1191.57 1191.59 1191.6 1191.62 1191.63 1191.65 1191.67 1191.68 1191.7 1191.71 1191.73 1191.75 1191.76 1191.78 1191.79 1191.81 1191.83 1191.84]\n",
      "actual_time_bins: [1208.85 1208.86 1208.88 1208.9 1208.91 1208.93 1208.94 1208.96 1208.98 1208.99 1209.01 1209.02 1209.04 1209.06 1209.07 1209.09 1209.1 1209.12 1209.14 1209.15 1209.17 1209.18 1209.2 1209.22 1209.23 1209.25 1209.26 1209.28 1209.3 1209.31 1209.33 1209.34]\n",
      "curr_time_bins: [1208.85 1208.86 1208.88 1208.9 1208.91 1208.93 1208.94 1208.96 1208.98 1208.99 1209.01 1209.02 1209.04 1209.06 1209.07 1209.09 1209.1 1209.12 1209.14 1209.15 1209.17 1209.18 1209.2 1209.22 1209.23 1209.25 1209.26 1209.28 1209.3 1209.31 1209.33 1209.34]\n",
      "actual_time_bins: [1217.35 1217.37 1217.39 1217.4 1217.42 1217.43 1217.45 1217.47 1217.48 1217.5 1217.51 1217.53 1217.55 1217.56 1217.58 1217.59]\n",
      "curr_time_bins: [1217.35 1217.37 1217.39 1217.4 1217.42 1217.43 1217.45 1217.47 1217.48 1217.5 1217.51 1217.53 1217.55 1217.56 1217.58 1217.59]\n",
      "actual_time_bins: [1233.98 1233.99 1234.01 1234.02 1234.04 1234.06 1234.07 1234.09 1234.1 1234.12 1234.14 1234.15 1234.17]\n",
      "curr_time_bins: [1233.98 1233.99 1234.01 1234.02 1234.04 1234.06 1234.07 1234.09 1234.1 1234.12 1234.14 1234.15 1234.17]\n",
      "actual_time_bins: [1244.05 1244.06 1244.08 1244.09 1244.11 1244.13 1244.14 1244.16]\n",
      "curr_time_bins: [1244.05 1244.06 1244.08 1244.09 1244.11 1244.13 1244.14 1244.16]\n",
      "actual_time_bins: [1250.98 1250.99 1251.01 1251.02 1251.04 1251.06 1251.07 1251.09 1251.1 1251.12 1251.14]\n",
      "curr_time_bins: [1250.98 1250.99 1251.01 1251.02 1251.04 1251.06 1251.07 1251.09 1251.1 1251.12 1251.14]\n",
      "actual_time_bins: [1252.57 1252.59 1252.6 1252.62 1252.63 1252.65 1252.67 1252.68 1252.7 1252.71 1252.73]\n",
      "curr_time_bins: [1252.57 1252.59 1252.6 1252.62 1252.63 1252.65 1252.67 1252.68 1252.7 1252.71 1252.73]\n",
      "actual_time_bins: [1261.35 1261.37 1261.38 1261.4 1261.42 1261.43 1261.45 1261.46 1261.48]\n",
      "curr_time_bins: [1261.35 1261.37 1261.38 1261.4 1261.42 1261.43 1261.45 1261.46 1261.48]\n",
      "actual_time_bins: [1262.1 1262.11 1262.13 1262.14 1262.16 1262.18 1262.19 1262.21]\n",
      "curr_time_bins: [1262.1 1262.11 1262.13 1262.14 1262.16 1262.18 1262.19 1262.21]\n",
      "actual_time_bins: [1178.27 1178.29 1178.3 1178.32 1178.33 1178.35 1178.37 1178.38 1178.4 1178.41 1178.43 1178.45]\n",
      "curr_time_bins: [1178.27 1178.29 1178.3 1178.32 1178.33 1178.35 1178.37 1178.38 1178.4 1178.41 1178.43 1178.45]\n",
      "actual_time_bins: [1191.57 1191.59 1191.6 1191.62 1191.63 1191.65 1191.67 1191.68 1191.7 1191.71 1191.73 1191.75 1191.76 1191.78 1191.79 1191.81 1191.83 1191.84]\n",
      "curr_time_bins: [1191.57 1191.59 1191.6 1191.62 1191.63 1191.65 1191.67 1191.68 1191.7 1191.71 1191.73 1191.75 1191.76 1191.78 1191.79 1191.81 1191.83 1191.84]\n",
      "actual_time_bins: [1208.85 1208.86 1208.88 1208.9 1208.91 1208.93 1208.94 1208.96 1208.98 1208.99 1209.01 1209.02 1209.04 1209.06 1209.07 1209.09 1209.1 1209.12 1209.14 1209.15 1209.17 1209.18 1209.2 1209.22 1209.23 1209.25 1209.26 1209.28 1209.3 1209.31 1209.33 1209.34]\n",
      "curr_time_bins: [1208.85 1208.86 1208.88 1208.9 1208.91 1208.93 1208.94 1208.96 1208.98 1208.99 1209.01 1209.02 1209.04 1209.06 1209.07 1209.09 1209.1 1209.12 1209.14 1209.15 1209.17 1209.18 1209.2 1209.22 1209.23 1209.25 1209.26 1209.28 1209.3 1209.31 1209.33 1209.34]\n",
      "actual_time_bins: [1217.35 1217.37 1217.39 1217.4 1217.42 1217.43 1217.45 1217.47 1217.48 1217.5 1217.51 1217.53 1217.55 1217.56 1217.58 1217.59]\n",
      "curr_time_bins: [1217.35 1217.37 1217.39 1217.4 1217.42 1217.43 1217.45 1217.47 1217.48 1217.5 1217.51 1217.53 1217.55 1217.56 1217.58 1217.59]\n",
      "actual_time_bins: [1233.98 1233.99 1234.01 1234.02 1234.04 1234.06 1234.07 1234.09 1234.1 1234.12 1234.14 1234.15 1234.17]\n",
      "curr_time_bins: [1233.98 1233.99 1234.01 1234.02 1234.04 1234.06 1234.07 1234.09 1234.1 1234.12 1234.14 1234.15 1234.17]\n",
      "actual_time_bins: [1244.05 1244.06 1244.08 1244.09 1244.11 1244.13 1244.14 1244.16]\n",
      "curr_time_bins: [1244.05 1244.06 1244.08 1244.09 1244.11 1244.13 1244.14 1244.16]\n",
      "actual_time_bins: [1250.98 1250.99 1251.01 1251.02 1251.04 1251.06 1251.07 1251.09 1251.1 1251.12 1251.14]\n",
      "curr_time_bins: [1250.98 1250.99 1251.01 1251.02 1251.04 1251.06 1251.07 1251.09 1251.1 1251.12 1251.14]\n",
      "actual_time_bins: [1252.57 1252.59 1252.6 1252.62 1252.63 1252.65 1252.67 1252.68 1252.7 1252.71 1252.73]\n",
      "curr_time_bins: [1252.57 1252.59 1252.6 1252.62 1252.63 1252.65 1252.67 1252.68 1252.7 1252.71 1252.73]\n",
      "actual_time_bins: [1261.35 1261.37 1261.38 1261.4 1261.42 1261.43 1261.45 1261.46 1261.48]\n",
      "curr_time_bins: [1261.35 1261.37 1261.38 1261.4 1261.42 1261.43 1261.45 1261.46 1261.48]\n",
      "actual_time_bins: [1262.1 1262.11 1262.13 1262.14 1262.16 1262.18 1262.19 1262.21]\n",
      "curr_time_bins: [1262.1 1262.11 1262.13 1262.14 1262.16 1262.18 1262.19 1262.21]\n",
      "actual_time_bins: [1178.27 1178.29 1178.3 1178.32 1178.33 1178.35 1178.37 1178.38 1178.4 1178.41 1178.43 1178.45]\n",
      "curr_time_bins: [1178.27 1178.29 1178.3 1178.32 1178.33 1178.35 1178.37 1178.38 1178.4 1178.41 1178.43 1178.45]\n",
      "actual_time_bins: [1191.57 1191.59 1191.6 1191.62 1191.63 1191.65 1191.67 1191.68 1191.7 1191.71 1191.73 1191.75 1191.76 1191.78 1191.79 1191.81 1191.83 1191.84]\n",
      "curr_time_bins: [1191.57 1191.59 1191.6 1191.62 1191.63 1191.65 1191.67 1191.68 1191.7 1191.71 1191.73 1191.75 1191.76 1191.78 1191.79 1191.81 1191.83 1191.84]\n",
      "actual_time_bins: [1208.85 1208.86 1208.88 1208.9 1208.91 1208.93 1208.94 1208.96 1208.98 1208.99 1209.01 1209.02 1209.04 1209.06 1209.07 1209.09 1209.1 1209.12 1209.14 1209.15 1209.17 1209.18 1209.2 1209.22 1209.23 1209.25 1209.26 1209.28 1209.3 1209.31 1209.33 1209.34]\n",
      "curr_time_bins: [1208.85 1208.86 1208.88 1208.9 1208.91 1208.93 1208.94 1208.96 1208.98 1208.99 1209.01 1209.02 1209.04 1209.06 1209.07 1209.09 1209.1 1209.12 1209.14 1209.15 1209.17 1209.18 1209.2 1209.22 1209.23 1209.25 1209.26 1209.28 1209.3 1209.31 1209.33 1209.34]\n",
      "actual_time_bins: [1217.35 1217.37 1217.39 1217.4 1217.42 1217.43 1217.45 1217.47 1217.48 1217.5 1217.51 1217.53 1217.55 1217.56 1217.58 1217.59]\n",
      "curr_time_bins: [1217.35 1217.37 1217.39 1217.4 1217.42 1217.43 1217.45 1217.47 1217.48 1217.5 1217.51 1217.53 1217.55 1217.56 1217.58 1217.59]\n",
      "actual_time_bins: [1233.98 1233.99 1234.01 1234.02 1234.04 1234.06 1234.07 1234.09 1234.1 1234.12 1234.14 1234.15 1234.17]\n",
      "curr_time_bins: [1233.98 1233.99 1234.01 1234.02 1234.04 1234.06 1234.07 1234.09 1234.1 1234.12 1234.14 1234.15 1234.17]\n",
      "actual_time_bins: [1244.05 1244.06 1244.08 1244.09 1244.11 1244.13 1244.14 1244.16]\n",
      "curr_time_bins: [1244.05 1244.06 1244.08 1244.09 1244.11 1244.13 1244.14 1244.16]\n",
      "actual_time_bins: [1250.98 1250.99 1251.01 1251.02 1251.04 1251.06 1251.07 1251.09 1251.1 1251.12 1251.14]\n",
      "curr_time_bins: [1250.98 1250.99 1251.01 1251.02 1251.04 1251.06 1251.07 1251.09 1251.1 1251.12 1251.14]\n",
      "actual_time_bins: [1252.57 1252.59 1252.6 1252.62 1252.63 1252.65 1252.67 1252.68 1252.7 1252.71 1252.73]\n",
      "curr_time_bins: [1252.57 1252.59 1252.6 1252.62 1252.63 1252.65 1252.67 1252.68 1252.7 1252.71 1252.73]\n",
      "actual_time_bins: [1261.35 1261.37 1261.38 1261.4 1261.42 1261.43 1261.45 1261.46 1261.48]\n",
      "curr_time_bins: [1261.35 1261.37 1261.38 1261.4 1261.42 1261.43 1261.45 1261.46 1261.48]\n",
      "actual_time_bins: [1262.1 1262.11 1262.13 1262.14 1262.16 1262.18 1262.19 1262.21]\n",
      "curr_time_bins: [1262.1 1262.11 1262.13 1262.14 1262.16 1262.18 1262.19 1262.21]\n",
      "actual_time_bins: [1178.27 1178.29 1178.3 1178.32 1178.33 1178.35 1178.37 1178.38 1178.4 1178.41 1178.43 1178.45]\n",
      "curr_time_bins: [1178.27 1178.29 1178.3 1178.32 1178.33 1178.35 1178.37 1178.38 1178.4 1178.41 1178.43 1178.45]\n",
      "actual_time_bins: [1191.57 1191.59 1191.6 1191.62 1191.63 1191.65 1191.67 1191.68 1191.7 1191.71 1191.73 1191.75 1191.76 1191.78 1191.79 1191.81 1191.83 1191.84]\n",
      "curr_time_bins: [1191.57 1191.59 1191.6 1191.62 1191.63 1191.65 1191.67 1191.68 1191.7 1191.71 1191.73 1191.75 1191.76 1191.78 1191.79 1191.81 1191.83 1191.84]\n",
      "actual_time_bins: [1208.85 1208.86 1208.88 1208.9 1208.91 1208.93 1208.94 1208.96 1208.98 1208.99 1209.01 1209.02 1209.04 1209.06 1209.07 1209.09 1209.1 1209.12 1209.14 1209.15 1209.17 1209.18 1209.2 1209.22 1209.23 1209.25 1209.26 1209.28 1209.3 1209.31 1209.33 1209.34]\n",
      "curr_time_bins: [1208.85 1208.86 1208.88 1208.9 1208.91 1208.93 1208.94 1208.96 1208.98 1208.99 1209.01 1209.02 1209.04 1209.06 1209.07 1209.09 1209.1 1209.12 1209.14 1209.15 1209.17 1209.18 1209.2 1209.22 1209.23 1209.25 1209.26 1209.28 1209.3 1209.31 1209.33 1209.34]\n",
      "actual_time_bins: [1217.35 1217.37 1217.39 1217.4 1217.42 1217.43 1217.45 1217.47 1217.48 1217.5 1217.51 1217.53 1217.55 1217.56 1217.58 1217.59]\n",
      "curr_time_bins: [1217.35 1217.37 1217.39 1217.4 1217.42 1217.43 1217.45 1217.47 1217.48 1217.5 1217.51 1217.53 1217.55 1217.56 1217.58 1217.59]\n",
      "actual_time_bins: [1233.98 1233.99 1234.01 1234.02 1234.04 1234.06 1234.07 1234.09 1234.1 1234.12 1234.14 1234.15 1234.17]\n",
      "curr_time_bins: [1233.98 1233.99 1234.01 1234.02 1234.04 1234.06 1234.07 1234.09 1234.1 1234.12 1234.14 1234.15 1234.17]\n",
      "actual_time_bins: [1244.05 1244.06 1244.08 1244.09 1244.11 1244.13 1244.14 1244.16]\n",
      "curr_time_bins: [1244.05 1244.06 1244.08 1244.09 1244.11 1244.13 1244.14 1244.16]\n",
      "actual_time_bins: [1250.98 1250.99 1251.01 1251.02 1251.04 1251.06 1251.07 1251.09 1251.1 1251.12 1251.14]\n",
      "curr_time_bins: [1250.98 1250.99 1251.01 1251.02 1251.04 1251.06 1251.07 1251.09 1251.1 1251.12 1251.14]\n",
      "actual_time_bins: [1252.57 1252.59 1252.6 1252.62 1252.63 1252.65 1252.67 1252.68 1252.7 1252.71 1252.73]\n",
      "curr_time_bins: [1252.57 1252.59 1252.6 1252.62 1252.63 1252.65 1252.67 1252.68 1252.7 1252.71 1252.73]\n",
      "actual_time_bins: [1261.35 1261.37 1261.38 1261.4 1261.42 1261.43 1261.45 1261.46 1261.48]\n",
      "curr_time_bins: [1261.35 1261.37 1261.38 1261.4 1261.42 1261.43 1261.45 1261.46 1261.48]\n",
      "actual_time_bins: [1262.1 1262.11 1262.13 1262.14 1262.16 1262.18 1262.19 1262.21]\n",
      "curr_time_bins: [1262.1 1262.11 1262.13 1262.14 1262.16 1262.18 1262.19 1262.21]\n",
      "actual_time_bins: [1262.53 1262.55 1262.56 1262.58 1262.59 1262.61 1262.63 1262.64 1262.66 1262.67 1262.69 1262.71 1262.72 1262.74 1262.75 1262.77 1262.79 1262.8 1262.82 1262.83 1262.85 1262.87 1262.88 1262.9 1262.91]\n",
      "curr_time_bins: [1262.53 1262.55 1262.56 1262.58 1262.59 1262.61 1262.63 1262.64 1262.66 1262.67 1262.69 1262.71 1262.72 1262.74 1262.75 1262.77 1262.79 1262.8 1262.82 1262.83 1262.85 1262.87 1262.88 1262.9 1262.91]\n",
      "actual_time_bins: [1264.44 1264.45 1264.47 1264.48 1264.5 1264.52 1264.53 1264.55 1264.56 1264.58 1264.6 1264.61 1264.63 1264.64 1264.66 1264.68]\n",
      "curr_time_bins: [1264.44 1264.45 1264.47 1264.48 1264.5 1264.52 1264.53 1264.55 1264.56 1264.58 1264.6 1264.61 1264.63 1264.64 1264.66 1264.68]\n",
      "actual_time_bins: [1267.93 1267.94 1267.96 1267.97 1267.99 1268.01 1268.02 1268.04 1268.05 1268.07 1268.09 1268.1 1268.12 1268.13 1268.15 1268.17 1268.18 1268.2 1268.21]\n",
      "curr_time_bins: [1267.93 1267.94 1267.96 1267.97 1267.99 1268.01 1268.02 1268.04 1268.05 1268.07 1268.09 1268.1 1268.12 1268.13 1268.15 1268.17 1268.18 1268.2 1268.21]\n",
      "actual_time_bins: [1273.43 1273.45 1273.46 1273.48 1273.5 1273.51 1273.53 1273.54 1273.56 1273.58 1273.59 1273.61 1273.62 1273.64 1273.66 1273.67 1273.69 1273.7 1273.72]\n",
      "curr_time_bins: [1273.43 1273.45 1273.46 1273.48 1273.5 1273.51 1273.53 1273.54 1273.56 1273.58 1273.59 1273.61 1273.62 1273.64 1273.66 1273.67 1273.69 1273.7 1273.72]\n",
      "actual_time_bins: [1281.42 1281.43 1281.45 1281.47 1281.48 1281.5 1281.51 1281.53 1281.55 1281.56 1281.58]\n",
      "curr_time_bins: [1281.42 1281.43 1281.45 1281.47 1281.48 1281.5 1281.51 1281.53 1281.55 1281.56 1281.58]\n",
      "actual_time_bins: [1286.22 1286.24 1286.26 1286.27 1286.29 1286.3 1286.32 1286.34 1286.35 1286.37 1286.38 1286.4 1286.42 1286.43 1286.45 1286.46 1286.48 1286.5 1286.51 1286.53 1286.54 1286.56 1286.58 1286.59 1286.61]\n",
      "curr_time_bins: [1286.22 1286.24 1286.26 1286.27 1286.29 1286.3 1286.32 1286.34 1286.35 1286.37 1286.38 1286.4 1286.42 1286.43 1286.45 1286.46 1286.48 1286.5 1286.51 1286.53 1286.54 1286.56 1286.58 1286.59 1286.61]\n",
      "actual_time_bins: [1302.66 1302.67 1302.69 1302.71 1302.72 1302.74 1302.75 1302.77 1302.79]\n",
      "curr_time_bins: [1302.66 1302.67 1302.69 1302.71 1302.72 1302.74 1302.75 1302.77 1302.79]\n",
      "actual_time_bins: [1316.06 1316.08 1316.1 1316.11 1316.13 1316.14 1316.16 1316.18 1316.19 1316.21 1316.22 1316.24 1316.26]\n",
      "curr_time_bins: [1316.06 1316.08 1316.1 1316.11 1316.13 1316.14 1316.16 1316.18 1316.19 1316.21 1316.22 1316.24 1316.26]\n",
      "actual_time_bins: [1317.99 1318 1318.02 1318.03 1318.05 1318.07 1318.08 1318.1 1318.11 1318.13 1318.15 1318.16]\n",
      "curr_time_bins: [1317.99 1318 1318.02 1318.03 1318.05 1318.07 1318.08 1318.1 1318.11 1318.13 1318.15 1318.16]\n",
      "actual_time_bins: [1324.23 1324.25 1324.26 1324.28 1324.3 1324.31 1324.33 1324.34 1324.36 1324.38 1324.39 1324.41 1324.42 1324.44 1324.46 1324.47 1324.49 1324.5 1324.52 1324.54]\n",
      "curr_time_bins: [1324.23 1324.25 1324.26 1324.28 1324.3 1324.31 1324.33 1324.34 1324.36 1324.38 1324.39 1324.41 1324.42 1324.44 1324.46 1324.47 1324.49 1324.5 1324.52 1324.54]\n",
      "actual_time_bins: [1262.53 1262.55 1262.56 1262.58 1262.59 1262.61 1262.63 1262.64 1262.66 1262.67 1262.69 1262.71 1262.72 1262.74 1262.75 1262.77 1262.79 1262.8 1262.82 1262.83 1262.85 1262.87 1262.88 1262.9 1262.91]\n",
      "curr_time_bins: [1262.53 1262.55 1262.56 1262.58 1262.59 1262.61 1262.63 1262.64 1262.66 1262.67 1262.69 1262.71 1262.72 1262.74 1262.75 1262.77 1262.79 1262.8 1262.82 1262.83 1262.85 1262.87 1262.88 1262.9 1262.91]\n",
      "actual_time_bins: [1264.44 1264.45 1264.47 1264.48 1264.5 1264.52 1264.53 1264.55 1264.56 1264.58 1264.6 1264.61 1264.63 1264.64 1264.66 1264.68]\n",
      "curr_time_bins: [1264.44 1264.45 1264.47 1264.48 1264.5 1264.52 1264.53 1264.55 1264.56 1264.58 1264.6 1264.61 1264.63 1264.64 1264.66 1264.68]\n",
      "actual_time_bins: [1267.93 1267.94 1267.96 1267.97 1267.99 1268.01 1268.02 1268.04 1268.05 1268.07 1268.09 1268.1 1268.12 1268.13 1268.15 1268.17 1268.18 1268.2 1268.21]\n",
      "curr_time_bins: [1267.93 1267.94 1267.96 1267.97 1267.99 1268.01 1268.02 1268.04 1268.05 1268.07 1268.09 1268.1 1268.12 1268.13 1268.15 1268.17 1268.18 1268.2 1268.21]\n",
      "actual_time_bins: [1273.43 1273.45 1273.46 1273.48 1273.5 1273.51 1273.53 1273.54 1273.56 1273.58 1273.59 1273.61 1273.62 1273.64 1273.66 1273.67 1273.69 1273.7 1273.72]\n",
      "curr_time_bins: [1273.43 1273.45 1273.46 1273.48 1273.5 1273.51 1273.53 1273.54 1273.56 1273.58 1273.59 1273.61 1273.62 1273.64 1273.66 1273.67 1273.69 1273.7 1273.72]\n",
      "actual_time_bins: [1281.42 1281.43 1281.45 1281.47 1281.48 1281.5 1281.51 1281.53 1281.55 1281.56 1281.58]\n",
      "curr_time_bins: [1281.42 1281.43 1281.45 1281.47 1281.48 1281.5 1281.51 1281.53 1281.55 1281.56 1281.58]\n",
      "actual_time_bins: [1286.22 1286.24 1286.26 1286.27 1286.29 1286.3 1286.32 1286.34 1286.35 1286.37 1286.38 1286.4 1286.42 1286.43 1286.45 1286.46 1286.48 1286.5 1286.51 1286.53 1286.54 1286.56 1286.58 1286.59 1286.61]\n",
      "curr_time_bins: [1286.22 1286.24 1286.26 1286.27 1286.29 1286.3 1286.32 1286.34 1286.35 1286.37 1286.38 1286.4 1286.42 1286.43 1286.45 1286.46 1286.48 1286.5 1286.51 1286.53 1286.54 1286.56 1286.58 1286.59 1286.61]\n",
      "actual_time_bins: [1302.66 1302.67 1302.69 1302.71 1302.72 1302.74 1302.75 1302.77 1302.79]\n",
      "curr_time_bins: [1302.66 1302.67 1302.69 1302.71 1302.72 1302.74 1302.75 1302.77 1302.79]\n",
      "actual_time_bins: [1316.06 1316.08 1316.1 1316.11 1316.13 1316.14 1316.16 1316.18 1316.19 1316.21 1316.22 1316.24 1316.26]\n",
      "curr_time_bins: [1316.06 1316.08 1316.1 1316.11 1316.13 1316.14 1316.16 1316.18 1316.19 1316.21 1316.22 1316.24 1316.26]\n",
      "actual_time_bins: [1317.99 1318 1318.02 1318.03 1318.05 1318.07 1318.08 1318.1 1318.11 1318.13 1318.15 1318.16]\n",
      "curr_time_bins: [1317.99 1318 1318.02 1318.03 1318.05 1318.07 1318.08 1318.1 1318.11 1318.13 1318.15 1318.16]\n",
      "actual_time_bins: [1324.23 1324.25 1324.26 1324.28 1324.3 1324.31 1324.33 1324.34 1324.36 1324.38 1324.39 1324.41 1324.42 1324.44 1324.46 1324.47 1324.49 1324.5 1324.52 1324.54]\n",
      "curr_time_bins: [1324.23 1324.25 1324.26 1324.28 1324.3 1324.31 1324.33 1324.34 1324.36 1324.38 1324.39 1324.41 1324.42 1324.44 1324.46 1324.47 1324.49 1324.5 1324.52 1324.54]\n",
      "actual_time_bins: [1262.53 1262.55 1262.56 1262.58 1262.59 1262.61 1262.63 1262.64 1262.66 1262.67 1262.69 1262.71 1262.72 1262.74 1262.75 1262.77 1262.79 1262.8 1262.82 1262.83 1262.85 1262.87 1262.88 1262.9 1262.91]\n",
      "curr_time_bins: [1262.53 1262.55 1262.56 1262.58 1262.59 1262.61 1262.63 1262.64 1262.66 1262.67 1262.69 1262.71 1262.72 1262.74 1262.75 1262.77 1262.79 1262.8 1262.82 1262.83 1262.85 1262.87 1262.88 1262.9 1262.91]\n",
      "actual_time_bins: [1264.44 1264.45 1264.47 1264.48 1264.5 1264.52 1264.53 1264.55 1264.56 1264.58 1264.6 1264.61 1264.63 1264.64 1264.66 1264.68]\n",
      "curr_time_bins: [1264.44 1264.45 1264.47 1264.48 1264.5 1264.52 1264.53 1264.55 1264.56 1264.58 1264.6 1264.61 1264.63 1264.64 1264.66 1264.68]\n",
      "actual_time_bins: [1267.93 1267.94 1267.96 1267.97 1267.99 1268.01 1268.02 1268.04 1268.05 1268.07 1268.09 1268.1 1268.12 1268.13 1268.15 1268.17 1268.18 1268.2 1268.21]\n",
      "curr_time_bins: [1267.93 1267.94 1267.96 1267.97 1267.99 1268.01 1268.02 1268.04 1268.05 1268.07 1268.09 1268.1 1268.12 1268.13 1268.15 1268.17 1268.18 1268.2 1268.21]\n",
      "actual_time_bins: [1273.43 1273.45 1273.46 1273.48 1273.5 1273.51 1273.53 1273.54 1273.56 1273.58 1273.59 1273.61 1273.62 1273.64 1273.66 1273.67 1273.69 1273.7 1273.72]\n",
      "curr_time_bins: [1273.43 1273.45 1273.46 1273.48 1273.5 1273.51 1273.53 1273.54 1273.56 1273.58 1273.59 1273.61 1273.62 1273.64 1273.66 1273.67 1273.69 1273.7 1273.72]\n",
      "actual_time_bins: [1281.42 1281.43 1281.45 1281.47 1281.48 1281.5 1281.51 1281.53 1281.55 1281.56 1281.58]\n",
      "curr_time_bins: [1281.42 1281.43 1281.45 1281.47 1281.48 1281.5 1281.51 1281.53 1281.55 1281.56 1281.58]\n",
      "actual_time_bins: [1286.22 1286.24 1286.26 1286.27 1286.29 1286.3 1286.32 1286.34 1286.35 1286.37 1286.38 1286.4 1286.42 1286.43 1286.45 1286.46 1286.48 1286.5 1286.51 1286.53 1286.54 1286.56 1286.58 1286.59 1286.61]\n",
      "curr_time_bins: [1286.22 1286.24 1286.26 1286.27 1286.29 1286.3 1286.32 1286.34 1286.35 1286.37 1286.38 1286.4 1286.42 1286.43 1286.45 1286.46 1286.48 1286.5 1286.51 1286.53 1286.54 1286.56 1286.58 1286.59 1286.61]\n",
      "actual_time_bins: [1302.66 1302.67 1302.69 1302.71 1302.72 1302.74 1302.75 1302.77 1302.79]\n",
      "curr_time_bins: [1302.66 1302.67 1302.69 1302.71 1302.72 1302.74 1302.75 1302.77 1302.79]\n",
      "actual_time_bins: [1316.06 1316.08 1316.1 1316.11 1316.13 1316.14 1316.16 1316.18 1316.19 1316.21 1316.22 1316.24 1316.26]\n",
      "curr_time_bins: [1316.06 1316.08 1316.1 1316.11 1316.13 1316.14 1316.16 1316.18 1316.19 1316.21 1316.22 1316.24 1316.26]\n",
      "actual_time_bins: [1317.99 1318 1318.02 1318.03 1318.05 1318.07 1318.08 1318.1 1318.11 1318.13 1318.15 1318.16]\n",
      "curr_time_bins: [1317.99 1318 1318.02 1318.03 1318.05 1318.07 1318.08 1318.1 1318.11 1318.13 1318.15 1318.16]\n",
      "actual_time_bins: [1324.23 1324.25 1324.26 1324.28 1324.3 1324.31 1324.33 1324.34 1324.36 1324.38 1324.39 1324.41 1324.42 1324.44 1324.46 1324.47 1324.49 1324.5 1324.52 1324.54]\n",
      "curr_time_bins: [1324.23 1324.25 1324.26 1324.28 1324.3 1324.31 1324.33 1324.34 1324.36 1324.38 1324.39 1324.41 1324.42 1324.44 1324.46 1324.47 1324.49 1324.5 1324.52 1324.54]\n",
      "actual_time_bins: [1262.53 1262.55 1262.56 1262.58 1262.59 1262.61 1262.63 1262.64 1262.66 1262.67 1262.69 1262.71 1262.72 1262.74 1262.75 1262.77 1262.79 1262.8 1262.82 1262.83 1262.85 1262.87 1262.88 1262.9 1262.91]\n",
      "curr_time_bins: [1262.53 1262.55 1262.56 1262.58 1262.59 1262.61 1262.63 1262.64 1262.66 1262.67 1262.69 1262.71 1262.72 1262.74 1262.75 1262.77 1262.79 1262.8 1262.82 1262.83 1262.85 1262.87 1262.88 1262.9 1262.91]\n",
      "actual_time_bins: [1264.44 1264.45 1264.47 1264.48 1264.5 1264.52 1264.53 1264.55 1264.56 1264.58 1264.6 1264.61 1264.63 1264.64 1264.66 1264.68]\n",
      "curr_time_bins: [1264.44 1264.45 1264.47 1264.48 1264.5 1264.52 1264.53 1264.55 1264.56 1264.58 1264.6 1264.61 1264.63 1264.64 1264.66 1264.68]\n",
      "actual_time_bins: [1267.93 1267.94 1267.96 1267.97 1267.99 1268.01 1268.02 1268.04 1268.05 1268.07 1268.09 1268.1 1268.12 1268.13 1268.15 1268.17 1268.18 1268.2 1268.21]\n",
      "curr_time_bins: [1267.93 1267.94 1267.96 1267.97 1267.99 1268.01 1268.02 1268.04 1268.05 1268.07 1268.09 1268.1 1268.12 1268.13 1268.15 1268.17 1268.18 1268.2 1268.21]\n",
      "actual_time_bins: [1273.43 1273.45 1273.46 1273.48 1273.5 1273.51 1273.53 1273.54 1273.56 1273.58 1273.59 1273.61 1273.62 1273.64 1273.66 1273.67 1273.69 1273.7 1273.72]\n",
      "curr_time_bins: [1273.43 1273.45 1273.46 1273.48 1273.5 1273.51 1273.53 1273.54 1273.56 1273.58 1273.59 1273.61 1273.62 1273.64 1273.66 1273.67 1273.69 1273.7 1273.72]\n",
      "actual_time_bins: [1281.42 1281.43 1281.45 1281.47 1281.48 1281.5 1281.51 1281.53 1281.55 1281.56 1281.58]\n",
      "curr_time_bins: [1281.42 1281.43 1281.45 1281.47 1281.48 1281.5 1281.51 1281.53 1281.55 1281.56 1281.58]\n",
      "actual_time_bins: [1286.22 1286.24 1286.26 1286.27 1286.29 1286.3 1286.32 1286.34 1286.35 1286.37 1286.38 1286.4 1286.42 1286.43 1286.45 1286.46 1286.48 1286.5 1286.51 1286.53 1286.54 1286.56 1286.58 1286.59 1286.61]\n",
      "curr_time_bins: [1286.22 1286.24 1286.26 1286.27 1286.29 1286.3 1286.32 1286.34 1286.35 1286.37 1286.38 1286.4 1286.42 1286.43 1286.45 1286.46 1286.48 1286.5 1286.51 1286.53 1286.54 1286.56 1286.58 1286.59 1286.61]\n",
      "actual_time_bins: [1302.66 1302.67 1302.69 1302.71 1302.72 1302.74 1302.75 1302.77 1302.79]\n",
      "curr_time_bins: [1302.66 1302.67 1302.69 1302.71 1302.72 1302.74 1302.75 1302.77 1302.79]\n",
      "actual_time_bins: [1316.06 1316.08 1316.1 1316.11 1316.13 1316.14 1316.16 1316.18 1316.19 1316.21 1316.22 1316.24 1316.26]\n",
      "curr_time_bins: [1316.06 1316.08 1316.1 1316.11 1316.13 1316.14 1316.16 1316.18 1316.19 1316.21 1316.22 1316.24 1316.26]\n",
      "actual_time_bins: [1317.99 1318 1318.02 1318.03 1318.05 1318.07 1318.08 1318.1 1318.11 1318.13 1318.15 1318.16]\n",
      "curr_time_bins: [1317.99 1318 1318.02 1318.03 1318.05 1318.07 1318.08 1318.1 1318.11 1318.13 1318.15 1318.16]\n",
      "actual_time_bins: [1324.23 1324.25 1324.26 1324.28 1324.3 1324.31 1324.33 1324.34 1324.36 1324.38 1324.39 1324.41 1324.42 1324.44 1324.46 1324.47 1324.49 1324.5 1324.52 1324.54]\n",
      "curr_time_bins: [1324.23 1324.25 1324.26 1324.28 1324.3 1324.31 1324.33 1324.34 1324.36 1324.38 1324.39 1324.41 1324.42 1324.44 1324.46 1324.47 1324.49 1324.5 1324.52 1324.54]\n",
      "PhoDockAreaContainingWindow.closeEvent(event: <PyQt5.QtGui.QCloseEvent object at 0x000001C5C8D9A670>)\n",
      "PhoDockAreaContainingWindow.GlobalConnectionManagerAccessingMixin_on_destroy()\n",
      "\tflat_widgets_list contains 4 items\n",
      "Found a group with the identifier long_LR containing 1 items. Removing all...\n",
      "on_dock_closed(closing_dock: <Dock long_LR (430, 780)>)\n",
      "\t closing_dock_identifier: long_LR\n",
      "\t found by simple title identifier and removed!\n",
      "WARNING: identifier: long_LR not found in dynamic_display_dict.keys(): ['long_RL', 'short_LR', 'short_RL']\n",
      "Uncaught Exception in slot\n"
     ]
    },
    {
     "name": "stderr",
     "output_type": "stream",
     "text": [
      "Traceback (most recent call last):\n",
      "  File \"C:\\Users\\pho\\repos\\Spike3DWorkEnv\\pyPhoCoreHelpers\\src\\pyphocorehelpers\\gui\\Qt\\ExceptionPrintingSlot.py\", line 41, in wrapper\n",
      "    func(*args)\n",
      "  File \"C:\\Users\\pho\\repos\\Spike3DWorkEnv\\pyPhoPlaceCellAnalysis\\src\\pyphoplacecellanalysis\\GUI\\PyQtPlot\\DockingWidgets\\DynamicDockDisplayAreaContent.py\", line 260, in DynamicDockDisplayAreaContentMixin_on_destroy\n",
      "    self.clear_all_display_docks()\n",
      "  File \"C:\\Users\\pho\\repos\\Spike3DWorkEnv\\pyPhoPlaceCellAnalysis\\src\\pyphoplacecellanalysis\\GUI\\PyQtPlot\\DockingWidgets\\DynamicDockDisplayAreaContent.py\", line 449, in clear_all_display_docks\n",
      "    for group_identifier, extant_group_items in self.dynamic_display_dict.items():\n",
      "RuntimeError: OrderedDict mutated during iteration\n"
     ]
    }
   ],
   "source": [
    "paginated_multi_decoder_decoded_epochs_window.add_data_overlays(decoder_laps_filter_epochs_decoder_result_dict, filtered_decoder_filter_epochs_decoder_result_dict)\n",
    "# _tmp_out_selections = paginated_multi_decoder_decoded_epochs_window.restore_selections_from_user_annotations()"
   ]
  },
  {
   "cell_type": "code",
   "execution_count": null,
   "id": "0ca820df",
   "metadata": {},
   "outputs": [],
   "source": [
    "paginated_multi_decoder_decoded_epochs_window.remove_data_overlays()"
   ]
  },
  {
   "cell_type": "code",
   "execution_count": null,
   "id": "073c1bd7",
   "metadata": {},
   "outputs": [],
   "source": [
    "_tmp_out_selections = paginated_multi_decoder_decoded_epochs_window.restore_selections_from_user_annotations()\n",
    "\n",
    "paginated_multi_decoder_decoded_epochs_window.any_good_selected_epoch_times"
   ]
  },
  {
   "cell_type": "code",
   "execution_count": null,
   "id": "289385ce",
   "metadata": {},
   "outputs": [],
   "source": [
    "filtered_decoder_filter_epochs_decoder_result_dict['long_LR'].filter_epochs\n"
   ]
  },
  {
   "cell_type": "code",
   "execution_count": null,
   "id": "5e6097ba",
   "metadata": {},
   "outputs": [],
   "source": [
    "## Get radon transform data:\n",
    "a_pagination_controller = pagination_controller_dict['long_LR']\n",
    "radon_transform_data = a_pagination_controller.plots_data['radon_transform_data']\n",
    "radon_transform_data"
   ]
  },
  {
   "cell_type": "code",
   "execution_count": null,
   "id": "30830fa4",
   "metadata": {},
   "outputs": [],
   "source": [
    "paginated_multi_decoder_decoded_epochs_window.restore_selections_from_user_annotations()\n"
   ]
  },
  {
   "cell_type": "code",
   "execution_count": null,
   "id": "120293e6",
   "metadata": {},
   "outputs": [],
   "source": [
    "# active_selections_dict = paginated_multi_decoder_decoded_epochs_window.save_selections()\n",
    "# paginated_multi_decoder_decoded_epochs_window.ui.print = print\n",
    "_annotations = paginated_multi_decoder_decoded_epochs_window.print_user_annotations()\n"
   ]
  },
  {
   "cell_type": "code",
   "execution_count": null,
   "id": "43d82308",
   "metadata": {},
   "outputs": [],
   "source": [
    "pagination_controller_dict['long_LR'].params.xbin"
   ]
  },
  {
   "cell_type": "code",
   "execution_count": null,
   "id": "05eeaad9",
   "metadata": {},
   "outputs": [],
   "source": [
    "import mpldatacursor"
   ]
  },
  {
   "cell_type": "code",
   "execution_count": null,
   "id": "4f785638",
   "metadata": {},
   "outputs": [],
   "source": [
    "paginated_multi_decoder_decoded_epochs_window.remove_data_overlays()"
   ]
  },
  {
   "cell_type": "code",
   "execution_count": null,
   "id": "0a8ee5dc",
   "metadata": {},
   "outputs": [],
   "source": [
    "paginated_multi_decoder_decoded_epochs_window.add_data_overlays(decoder_laps_filter_epochs_decoder_result_dict, filtered_decoder_filter_epochs_decoder_result_dict)"
   ]
  },
  {
   "cell_type": "code",
   "execution_count": null,
   "id": "a3435812",
   "metadata": {},
   "outputs": [],
   "source": [
    "paginated_multi_decoder_decoded_epochs_window.params.xbin"
   ]
  },
  {
   "cell_type": "code",
   "execution_count": null,
   "id": "6fd64912",
   "metadata": {},
   "outputs": [],
   "source": [
    "# Show crosshair at cursor position\n",
    "plt.connect('motion_notify_event', lambda event: plt.gcf().gca().format_coord(event.xdata, event.ydata))"
   ]
  },
  {
   "cell_type": "code",
   "execution_count": null,
   "id": "8c382b69",
   "metadata": {},
   "outputs": [],
   "source": [
    "paginated_multi_decoder_decoded_epochs_window.add_data_overlays(decoder_laps_filter_epochs_decoder_result_dict, filtered_decoder_filter_epochs_decoder_result_dict)"
   ]
  },
  {
   "cell_type": "code",
   "execution_count": null,
   "id": "4f1c4d6a",
   "metadata": {},
   "outputs": [],
   "source": [
    "from pyphoplacecellanalysis.GUI.PyQtPlot.Widgets.ContainerBased.RankOrderRastersDebugger import RankOrderRastersDebugger\n",
    "from pyphoplacecellanalysis.SpecificResults.PendingNotebookCode import _build_attached_raster_viewer\n",
    "\n",
    "_out_ripple_rasters = _build_attached_raster_viewer(paginated_multi_decoder_decoded_epochs_window, track_templates=track_templates, active_spikes_df=active_spikes_df, filtered_ripple_simple_pf_pearson_merged_df=filtered_ripple_simple_pf_pearson_merged_df)\n",
    "\n",
    "## Enable programmatically updating the rasters viewer to the clicked epoch index when middle clicking on a posterior.\n",
    "@function_attributes(short_name=None, tags=['callback', 'raster'], input_requires=[], output_provides=[], uses=[], used_by=[], creation_date='2024-04-29 17:13', related_items=[])\n",
    "def update_attached_raster_viewer_epoch_callback(self, event, clicked_ax, clicked_data_index, clicked_epoch_is_selected, clicked_epoch_start_stop_time):\n",
    "    \"\"\" Enable programmatically updating the rasters viewer to the clicked epoch index when middle clicking on a posterior. \n",
    "    called when the user middle-clicks an epoch \n",
    "    \n",
    "    captures: _out_ripple_rasters\n",
    "    \"\"\"\n",
    "    print(f'update_attached_raster_viewer_epoch_callback(clicked_data_index: {clicked_data_index}, clicked_epoch_is_selected: {clicked_epoch_is_selected}, clicked_epoch_start_stop_time: {clicked_epoch_start_stop_time})')\n",
    "    if clicked_epoch_start_stop_time is not None:\n",
    "        if len(clicked_epoch_start_stop_time) == 2:\n",
    "            start_t, end_t = clicked_epoch_start_stop_time\n",
    "            print(f'start_t: {start_t}')\n",
    "            _out_ripple_rasters.programmatically_update_epoch_IDX_from_epoch_start_time(start_t)\n",
    "\n",
    "\n",
    "for a_name, a_pagination_controller in paginated_multi_decoder_decoded_epochs_window.pagination_controllers.items():\n",
    "    # a_pagination_controller.params.debug_print = True\n",
    "    if not a_pagination_controller.params.has_attr('on_middle_click_item_callbacks'):\n",
    "        a_pagination_controller.params['on_middle_click_item_callbacks'] = {}\n",
    "    a_pagination_controller.params.on_middle_click_item_callbacks['update_attached_raster_viewer_epoch_callback'] = update_attached_raster_viewer_epoch_callback\n"
   ]
  },
  {
   "cell_type": "code",
   "execution_count": null,
   "id": "8800a416",
   "metadata": {},
   "outputs": [],
   "source": [
    "clicked_epoch_start_stop_time = [488.296 488.484]\n",
    "start_t = 488.29642327222973\n",
    "found_IDX = 24\n",
    "\n",
    "# ripple_idx=80, ripple_start_t=488.29642327222973\n"
   ]
  },
  {
   "cell_type": "code",
   "execution_count": null,
   "id": "6e1998f5",
   "metadata": {},
   "outputs": [],
   "source": [
    "## Enable programmatically updating the rasters viewer to the clicked epoch index when middle clicking on a posterior.\n",
    "@function_attributes(short_name=None, tags=['callback'], input_requires=[], output_provides=[], uses=[], used_by=[], creation_date='2024-04-29 17:16', related_items=[])\n",
    "def an_alt_clicked_epoch_callback(self, event, clicked_ax, clicked_data_index, clicked_epoch_is_selected, clicked_epoch_start_stop_time):\n",
    "    \"\"\" called when the user middle-clicks an epoch \n",
    "    \n",
    "    captures: _out_ripple_rasters\n",
    "    \"\"\"\n",
    "    print(f'an_alt_clicked_epoch_callback(clicked_data_index: {clicked_data_index}, clicked_epoch_is_selected: {clicked_epoch_is_selected}, clicked_epoch_start_stop_time: {clicked_epoch_start_stop_time})')\n",
    "    if clicked_epoch_start_stop_time is not None:\n",
    "        if len(clicked_epoch_start_stop_time) == 2:\n",
    "            start_t, end_t = clicked_epoch_start_stop_time\n",
    "            print(f'start_t: {start_t}')\n",
    "            _out_ripple_rasters.programmatically_update_epoch_IDX_from_epoch_start_time(start_t)\n",
    "\n",
    "\n",
    "for a_name, a_pagination_controller in paginated_multi_decoder_decoded_epochs_window.pagination_controllers.items():\n",
    "    # a_pagination_controller.params.debug_print = True\n",
    "    if not a_pagination_controller.params.has_attr('on_middle_click_item_callbacks'):\n",
    "        a_pagination_controller.params['on_middle_click_item_callbacks'] = {}    \n",
    "    a_pagination_controller.params.on_middle_click_item_callbacks['an_alt_clicked_epoch_callback'] = an_alt_clicked_epoch_callback\n",
    "\n"
   ]
  },
  {
   "cell_type": "code",
   "execution_count": null,
   "id": "f2db798a",
   "metadata": {},
   "outputs": [],
   "source": [
    "# Attempting to set identical low and high xlims makes transformation singular; automatically expanding. Is this what is causing the white posteriors?\n"
   ]
  },
  {
   "cell_type": "code",
   "execution_count": null,
   "id": "0f80c795",
   "metadata": {},
   "outputs": [],
   "source": [
    "paginated_multi_decoder_decoded_epochs_window.draw()"
   ]
  },
  {
   "cell_type": "code",
   "execution_count": null,
   "id": "b6ddc065",
   "metadata": {},
   "outputs": [],
   "source": [
    "# paginated_multi_decoder_decoded_epochs_window.pagination_controllers['long_LR'].params.posterior_heatmap_imshow_kwargs = dict(vmin=0.0)\n"
   ]
  },
  {
   "cell_type": "code",
   "execution_count": null,
   "id": "23369f63",
   "metadata": {},
   "outputs": [],
   "source": [
    "\n",
    "# paginated_multi_decoder_decoded_epochs_window.update_params(posterior_heatmap_imshow_kwargs = dict(vmin=0.0))\n",
    "\n",
    "paginated_multi_decoder_decoded_epochs_window.update_params(enable_per_epoch_action_buttons = True)\n",
    "paginated_multi_decoder_decoded_epochs_window.refresh_current_page()\n"
   ]
  },
  {
   "cell_type": "code",
   "execution_count": null,
   "id": "5370bef3",
   "metadata": {},
   "outputs": [],
   "source": [
    "paginated_multi_decoder_decoded_epochs_window.get_children_props('params')\n",
    "# paginated_multi_decoder_decoded_epochs_window.get_children_props('plots')\n",
    "# paginated_multi_decoder_decoded_epochs_window.get_children_props('plots.fig')\n",
    "paginated_multi_decoder_decoded_epochs_window.get_children_props('plots.fig')\n",
    "# paginated_multi_decoder_decoded_epochs_window.get_children_props('params.posterior_heatmap_imshow_kwargs')"
   ]
  },
  {
   "cell_type": "code",
   "execution_count": null,
   "id": "701ca528",
   "metadata": {},
   "outputs": [],
   "source": [
    "# paginated_multi_decoder_decoded_epochs_window# AttributeError: 'PhoPaginatedMultiDecoderDecodedEpochsWindow' object has no attribute 'params'\n",
    "\n",
    "paginated_multi_decoder_decoded_epochs_window.pagination_controllers['long_LR'].params.should_suppress_callback_exceptions = False "
   ]
  },
  {
   "cell_type": "code",
   "execution_count": null,
   "id": "e6a19394",
   "metadata": {},
   "outputs": [],
   "source": [
    "paginated_multi_decoder_decoded_epochs_window.jump_to_page(3)"
   ]
  },
  {
   "cell_type": "code",
   "execution_count": null,
   "id": "fea69a1c",
   "metadata": {},
   "outputs": [],
   "source": [
    "paginated_multi_decoder_decoded_epochs_window.draw()"
   ]
  },
  {
   "cell_type": "code",
   "execution_count": null,
   "id": "8f136d94",
   "metadata": {},
   "outputs": [],
   "source": [
    "paginated_multi_decoder_decoded_epochs_window.debug_print = True"
   ]
  },
  {
   "cell_type": "code",
   "execution_count": null,
   "id": "a2150f30",
   "metadata": {},
   "outputs": [],
   "source": [
    "for k, v in paginated_multi_decoder_decoded_epochs_window.pagination_controllers.items():\n",
    "    # v.params.enable_radon_transform_info = False\n",
    "    # v.params.enable_weighted_correlation_info = False\n",
    "    v._subfn_clear_selectability_rects()\n",
    "    \n",
    "# paginated_multi_decoder_decoded_epochs_window.draw()"
   ]
  },
  {
   "cell_type": "code",
   "execution_count": null,
   "id": "860d5ece",
   "metadata": {},
   "outputs": [],
   "source": [
    "for a_name, a_ctrlr in paginated_multi_decoder_decoded_epochs_window.pagination_controllers.items():\n",
    "    a_ctrlr.perform_update_selections(defer_render=False)\n"
   ]
  },
  {
   "cell_type": "code",
   "execution_count": null,
   "id": "15fb8eea",
   "metadata": {},
   "outputs": [],
   "source": [
    "paginated_multi_decoder_decoded_epochs_window.draw()"
   ]
  },
  {
   "cell_type": "code",
   "execution_count": null,
   "id": "009775d7",
   "metadata": {},
   "outputs": [],
   "source": [
    "\n",
    "# with Ctx(format_name='kdiba',animal='gor01',exper_name='two',session_name='2006-6-08_21-16-25',display_fn_name='DecodedEpochSlices',epochs='ripple',user_annotation='selections') as ctx:\n",
    "# \tuser_annotations[ctx + Ctx(decoder='long_LR')] = [[785.7379401021171, 785.9232737672282]]\n",
    "# \tuser_annotations[ctx + Ctx(decoder='long_RL')] = [[427.4610240198672, 427.55720829055645]]\n",
    "# \tuser_annotations[ctx + Ctx(decoder='short_LR')] = [[833.3391086903866, 833.4508065531263]]\n",
    "# \tuser_annotations[ctx + Ctx(decoder='short_RL')] = [[491.7975491596153, 492.17844624456484], [940.0164351915009, 940.2191870877286]]\n",
    "\n",
    "# with Ctx(format_name='kdiba',animal='gor01',exper_name='two',session_name='2006-6-08_21-16-25',display_fn_name='DecodedEpochSlices',epochs='ripple',user_annotation='selections') as ctx:\n",
    "# \tuser_annotations[ctx + Ctx(decoder='long_LR')] = [array([785.738, 785.923])]\n",
    "# \tuser_annotations[ctx + Ctx(decoder='long_RL')] = [array([427.461, 427.557])]\n",
    "# \tuser_annotations[ctx + Ctx(decoder='short_LR')] = [array([833.339, 833.451])]\n",
    "# \tuser_annotations[ctx + Ctx(decoder='short_RL')] = [array([491.798, 492.178]), array([940.016, 940.219])]\n",
    "\n",
    "# with Ctx(format_name='kdiba',animal='gor01',exper_name='two',session_name='2006-6-08_21-16-25',display_fn_name='DecodedEpochSlices',epochs='ripple',user_annotation='selections') as ctx:\n",
    "# \tuser_annotations[ctx + Ctx(decoder='long_LR')] = [[785.7379401021171, 785.9232737672282]]\n",
    "# \tuser_annotations[ctx + Ctx(decoder='long_RL')] = [[427.4610240198672, 427.55720829055645]]\n",
    "# \tuser_annotations[ctx + Ctx(decoder='short_LR')] = [[833.3391086903866, 833.4508065531263]]\n",
    "# \tuser_annotations[ctx + Ctx(decoder='short_RL')] = [[491.7975491596153, 492.17844624456484], [940.0164351915009, 940.2191870877286]]\n",
    "\n",
    "# with Ctx(format_name='kdiba',animal='pin01',exper_name='one',session_name='11-02_19-28-0',display_fn_name='DecodedEpochSlices',epochs='ripple',user_annotation='selections') as ctx:\n",
    "# \tuser_annotations[ctx + Ctx(decoder='long_LR')] = [[208.356, 208.523], [693.842, 693.975], [954.574, 954.679]]\n",
    "# \tuser_annotations[ctx + Ctx(decoder='long_RL')] = [[224.037, 224.312]]\n",
    "# \tuser_annotations[ctx + Ctx(decoder='short_LR')] = [[145.776, 146.022], [198.220, 198.582], [220.041, 220.259], [511.570, 511.874], [865.238, 865.373]]\n",
    "# \tuser_annotations[ctx + Ctx(decoder='short_RL')] = [[191.817, 192.100], [323.147, 323.297]]\n",
    "\n"
   ]
  },
  {
   "cell_type": "code",
   "execution_count": null,
   "id": "a776e895",
   "metadata": {},
   "outputs": [],
   "source": [
    "with VizTracer(output_file=f\"viztracer_{get_now_time_str()}-paginated_multi_decoder_decoded_epochs_window_page.json\", min_duration=200, tracer_entries=3000000, ignore_frozen=True) as tracer:\n",
    "    paginated_multi_decoder_decoded_epochs_window.jump_to_page(2)"
   ]
  },
  {
   "cell_type": "code",
   "execution_count": null,
   "id": "0f513296",
   "metadata": {},
   "outputs": [],
   "source": [
    "paginated_multi_decoder_decoded_epochs_window.jump_to_page(1)"
   ]
  },
  {
   "cell_type": "code",
   "execution_count": null,
   "id": "970b6ed4",
   "metadata": {},
   "outputs": [],
   "source": [
    "decoder_ripple_filter_epochs_decoder_result_dict['long_LR'].filter_epochs"
   ]
  },
  {
   "cell_type": "code",
   "execution_count": null,
   "id": "98478063",
   "metadata": {},
   "outputs": [],
   "source": [
    "track_templates.get_decoder_names()"
   ]
  },
  {
   "cell_type": "code",
   "execution_count": null,
   "id": "90ec6078",
   "metadata": {},
   "outputs": [],
   "source": [
    "for k, v in paginated_multi_decoder_decoded_epochs_window.pagination_controllers.items():\n",
    "    # v.params.enable_radon_transform_info = False\n",
    "    # v.params.enable_weighted_correlation_info = False\n",
    "    v.params.enable_radon_transform_info = True\n",
    "    v.params.enable_weighted_correlation_info = True\n",
    "    v.params.debug_enabled = True\n",
    "\n",
    "paginated_multi_decoder_decoded_epochs_window.draw()"
   ]
  },
  {
   "cell_type": "code",
   "execution_count": null,
   "id": "6904027b",
   "metadata": {},
   "outputs": [],
   "source": [
    "for k, v in paginated_multi_decoder_decoded_epochs_window.pagination_controllers.items():\n",
    "    print(f'decoder[{k}]:')\n",
    "    v.params.name\n",
    "    # v.params.on_render_page_callbacks\n",
    "    # v.params.enable_radon_transform_info\n",
    "    len(v.plots_data.radon_transform_data)\n"
   ]
  },
  {
   "cell_type": "code",
   "execution_count": null,
   "id": "6e1ff3b7",
   "metadata": {},
   "outputs": [],
   "source": [
    "paginated_multi_decoder_decoded_epochs_window.debug_print = True"
   ]
  },
  {
   "cell_type": "code",
   "execution_count": null,
   "id": "dd7cc2a9",
   "metadata": {},
   "outputs": [],
   "source": [
    "paginated_multi_decoder_decoded_epochs_window.debug_print = True"
   ]
  },
  {
   "cell_type": "code",
   "execution_count": null,
   "id": "3263a3d8",
   "metadata": {},
   "outputs": [],
   "source": [
    "paginated_multi_decoder_decoded_epochs_window.add_data_overlays(decoder_laps_filter_epochs_decoder_result_dict, decoder_ripple_filter_epochs_decoder_result_dict)\n",
    "paginated_multi_decoder_decoded_epochs_window.draw()"
   ]
  },
  {
   "cell_type": "code",
   "execution_count": null,
   "id": "f6b447b8",
   "metadata": {},
   "outputs": [],
   "source": [
    "paginated_multi_decoder_decoded_epochs_window.refresh_current_page()"
   ]
  },
  {
   "cell_type": "code",
   "execution_count": null,
   "id": "30ec3540",
   "metadata": {},
   "outputs": [],
   "source": [
    "def _sub_subfn_wrapped_in_brackets(s: str, bracket_strings = (\"[\", \"]\")) -> str:\n",
    "        return bracket_strings[0] + s + bracket_strings[1]\n",
    "    \n",
    "def _sub_subfn_format_nested_list(arr, precision:int=3, num_sep=\", \", array_sep=', ') -> str:\n",
    "    \"\"\"\n",
    "    Converts a nested list of floats into a single string,\n",
    "    with each float formatted to the specified precision.\n",
    "    \n",
    "    arr = np.array([[491.798, 492.178], [940.016, 940.219]])\n",
    "    _sub_subfn_format_nested_list(arr)\n",
    "\n",
    "    >> '[[491.798, 492.178], [940.016, 940.219]]'\n",
    "\n",
    "    arr = np.array([[785.738, 785.923]])\n",
    "    _sub_subfn_format_nested_list(arr)\n",
    "    >> '[[785.738, 785.923]]'\n",
    "    \"\"\"\n",
    "    return _sub_subfn_wrapped_in_brackets(array_sep.join([_sub_subfn_wrapped_in_brackets(num_sep.join([f\"{num:.{precision}f}\" for num in row])) for row in arr]))\n",
    "    \n",
    "# arr = np.array([[491.798, 492.178], [940.016, 940.219]])\n",
    "arr = np.array([[785.738, 785.923]])\n",
    "_sub_subfn_format_nested_list(arr)"
   ]
  },
  {
   "cell_type": "markdown",
   "id": "a6f0ab5d",
   "metadata": {},
   "source": [
    "### 2024-02-29 3pm - Get the active user-annotated epoch times from the `paginated_multi_decoder_decoded_epochs_window` and use these to filter `filtered_ripple_simple_pf_pearson_merged_df`"
   ]
  },
  {
   "cell_type": "code",
   "execution_count": null,
   "id": "8c982e52",
   "metadata": {},
   "outputs": [],
   "source": [
    "\n",
    "# Inputs: paginated_multi_decoder_decoded_epochs_window, filtered_ripple_simple_pf_pearson_merged_df\n",
    "any_good_selected_epoch_times = deepcopy(paginated_multi_decoder_decoded_epochs_window.any_good_selected_epoch_times)\n",
    "any_good_selected_epoch_indicies = deepcopy(paginated_multi_decoder_decoded_epochs_window.find_data_indicies_from_epoch_times(paginated_multi_decoder_decoded_epochs_window.any_good_selected_epoch_times))\n"
   ]
  },
  {
   "cell_type": "markdown",
   "id": "faa1f903",
   "metadata": {},
   "source": [
    "## 🔶 2024-03-01 - Get the active user-annotated epoch times from the `UserAnnotationsManager` and use these to filter `filtered_ripple_simple_pf_pearson_merged_df`"
   ]
  },
  {
   "cell_type": "code",
   "execution_count": null,
   "id": "fbc751d6",
   "metadata": {},
   "outputs": [],
   "source": [
    "from neuropy.utils.misc import numpyify_array\n",
    "from neuropy.utils.result_context import IdentifyingContext\n",
    "from neuropy.core.epoch import EpochsAccessor\n",
    "from neuropy.core.epoch import find_data_indicies_from_epoch_times\n",
    "from pyphoplacecellanalysis.General.Pipeline.Stages.ComputationFunctions.MultiContextComputationFunctions.DirectionalPlacefieldGlobalComputationFunctions import DecoderDecodedEpochsResult\n",
    "## Get from UserAnnotations directly instead of the intermediate viewer\n",
    "\n",
    "## # inputs: any_good_selected_epoch_times, any_good_selected_epoch_times, any_good_selected_epoch_indicies \n",
    "\n",
    "decoder_user_selected_epoch_times_dict, any_good_selected_epoch_times = DecoderDecodedEpochsResult.load_user_selected_epoch_times(curr_active_pipeline, track_templates=track_templates)\n",
    "# any_good_selected_epoch_indicies = filtered_ripple_simple_pf_pearson_merged_df.epochs.matching_epoch_times_slice(any_good_selected_epoch_times)\n",
    "# any_good_selected_epoch_indicies = filtered_ripple_simple_pf_pearson_merged_df.epochs.find_data_indicies_from_epoch_times(any_good_selected_epoch_times)\n",
    "# any_good_selected_epoch_indicies\n",
    "# Add user-selection columns to df\n",
    "a_df = deepcopy(filtered_ripple_simple_pf_pearson_merged_df)\n",
    "# a_df = deepcopy(ripple_weighted_corr_merged_df)\n",
    "a_df['is_user_annotated_epoch'] = False\n",
    "# any_good_selected_epoch_indicies = a_df.epochs.find_data_indicies_from_epoch_times(any_good_selected_epoch_times)\n",
    "any_good_selected_epoch_indicies = find_data_indicies_from_epoch_times(a_df, np.squeeze(any_good_selected_epoch_times[:,0]), t_column_names=['ripple_start_t',])\n",
    "# any_good_selected_epoch_indicies = find_data_indicies_from_epoch_times(a_df, any_good_selected_epoch_times, t_column_names=['ripple_start_t',])\n",
    "any_good_selected_epoch_indicies\n",
    "# a_df['is_user_annotated_epoch'] = np.isin(a_df.index.to_numpy(), any_good_selected_epoch_indicies)\n",
    "a_df['is_user_annotated_epoch'].loc[any_good_selected_epoch_indicies] = True # Here's another .iloc issue! Changing to .loc\n",
    "a_df\n"
   ]
  },
  {
   "cell_type": "code",
   "execution_count": null,
   "id": "d1f3a540",
   "metadata": {},
   "outputs": [],
   "source": [
    "df = DecoderDecodedEpochsResult.filter_epochs_dfs_by_annotation_times(curr_active_pipeline, any_good_selected_epoch_times, ripple_decoding_time_bin_size, filtered_ripple_simple_pf_pearson_merged_df, ripple_weighted_corr_merged_df)\n",
    "df"
   ]
  },
  {
   "cell_type": "markdown",
   "id": "26dee7b3",
   "metadata": {},
   "source": [
    "### 2024-02-29 - 4pm - Filter the events for those meeting wcorr criteria:\n"
   ]
  },
  {
   "cell_type": "code",
   "execution_count": null,
   "id": "5ed7e67e",
   "metadata": {},
   "outputs": [],
   "source": [
    "min_wcorr_threshold: float = 0.33\n",
    "min_wcorr_diff_threshold: float = 0.2\n",
    "\n",
    "is_included_large_wcorr_diff = np.any((df[['wcorr_abs_diff']].abs() > min_wcorr_diff_threshold), axis=1)\n",
    "is_included_high_wcorr = np.any((df[['long_best_wcorr', 'short_best_wcorr']].abs() > min_wcorr_threshold), axis=1)\n",
    "\n",
    "df = df[is_included_high_wcorr]\n",
    "df\n",
    "\n",
    "# delta_aligned_start_t"
   ]
  },
  {
   "cell_type": "code",
   "execution_count": null,
   "id": "64fc554d",
   "metadata": {},
   "outputs": [],
   "source": [
    "# Shifts the absolute times to delta-relative values, as would be needed to draw on a 'delta_aligned_start_t' axis:\n",
    "delta_relative_t_start, delta_relative_t_delta, delta_relative_t_end = np.array([earliest_delta_aligned_t_start, t_delta, latest_delta_aligned_t_end]) - t_delta\n",
    "delta_relative_t_start, delta_relative_t_delta, delta_relative_t_end"
   ]
  },
  {
   "cell_type": "code",
   "execution_count": null,
   "id": "8c9f5cbf",
   "metadata": {},
   "outputs": [],
   "source": [
    "df['_wcorr_y_col'] = df['long_best_wcorr'].abs()\n",
    "df['_wcorr_y_col_y_diff_col'] = df['long_best_wcorr'].abs() - df['short_best_wcorr'].abs()\n",
    "# df.plot.scatter(x='ripple_start_t', y='wcorr_y_col')\n",
    "df.plot.scatter(x='delta_aligned_start_t', y='_wcorr_y_col_y_diff_col')\n",
    "\n"
   ]
  },
  {
   "cell_type": "code",
   "execution_count": null,
   "id": "c5438dce",
   "metadata": {},
   "outputs": [],
   "source": [
    "# df['pearsonr_long_abs'] = df['long_best_pf_peak_x_pearsonr'].abs()\n",
    "# df['pearsonr_short_abs'] = df['short_best_pf_peak_x_pearsonr'].abs()\n",
    "# df['pearsonr_diff'] = df['long_best_pf_peak_x_pearsonr'].abs() - df['short_best_pf_peak_x_pearsonr'].abs()\n",
    "\n",
    "# df.plot.scatter(x='delta_aligned_start_t', y='pearsonr_long_abs')\n",
    "# df.plot.scatter(x='delta_aligned_start_t', y='pearsonr_short_abs')\n",
    "df.plot.scatter(x='delta_aligned_start_t', y='pearsonr_abs_diff')"
   ]
  },
  {
   "cell_type": "code",
   "execution_count": null,
   "id": "1f951c0e",
   "metadata": {},
   "outputs": [],
   "source": [
    "ripple_weighted_corr_merged_df"
   ]
  },
  {
   "cell_type": "code",
   "execution_count": null,
   "id": "271d716b",
   "metadata": {},
   "outputs": [],
   "source": [
    "paginated_multi_decoder_decoded_epochs_window.debug_print = True"
   ]
  },
  {
   "cell_type": "markdown",
   "id": "d02556ea",
   "metadata": {},
   "source": [
    "### Add utility footer"
   ]
  },
  {
   "cell_type": "code",
   "execution_count": null,
   "id": "c3888f6e",
   "metadata": {},
   "outputs": [],
   "source": [
    "from pyphoplacecellanalysis.GUI.PyQtPlot.DockingWidgets.DynamicDockDisplayAreaContent import CustomDockDisplayConfig, get_utility_dock_colors\n",
    "from pyphoplacecellanalysis.GUI.Qt.Widgets.ThinButtonBar.ThinButtonBarWidget import ThinButtonBarWidget\n",
    "\n",
    "ui = paginated_multi_decoder_decoded_epochs_window.ui._contents\n",
    "# ui.dock_widgets\n",
    "# ui.dock_configs\n",
    "\n",
    "\n",
    "## Build the utility controls at the bottom:\n",
    "ctrls_dock_config = CustomDockDisplayConfig(custom_get_colors_callback_fn=get_utility_dock_colors, showCloseButton=False)\n",
    "\n",
    "button_bar_height = 21\n",
    "ctrls_button_bar_widget = ThinButtonBarWidget()\n",
    "ctrls_button_bar_widget.setObjectName(\"ctrls_button_bar\")\n",
    "\n",
    "ctrl_layout = pg.LayoutWidget()\n",
    "ctrl_layout.addWidget(ctrls_button_bar_widget, row=1, rowspan=1, col=1, colspan=2)\n",
    "ctrl_widgets_dict = dict(ctrls_widget=ctrls_button_bar_widget)\n",
    "# ctrl_layout.setSizePolicy(\n",
    "\n",
    "def onCopySelectionsClicked():\n",
    "    print(f'onCopySelectionsClicked()')\n",
    "    saved_selections_contexts_dict = paginated_multi_decoder_decoded_epochs_window.print_user_annotations()\n",
    "\n",
    "ctrl_widgets_dict['copy_selection_connection'] = ctrls_button_bar_widget.sigCopySelections.connect(onCopySelectionsClicked)\n",
    "\n",
    "ui.dock_widgets['bottom_controls'] = paginated_multi_decoder_decoded_epochs_window.add_display_dock(identifier='bottom_controls', widget=ctrl_layout, dockSize=(600, button_bar_height), dockAddLocationOpts=['bottom'], display_config=ctrls_dock_config)\n",
    "ui.dock_widgets['bottom_controls'][1].hideTitleBar()\n",
    "ui.dock_widgets['bottom_controls']\n",
    "\n",
    "button_bar_height = 21\n",
    "\n",
    "a_layout = ui.dock_widgets['bottom_controls'][0]\n",
    "a_layout.size()\n",
    "a_layout.setContentsMargins(0,0,0,0)\n",
    "a_layout.setFixedHeight(21)\n",
    "ui.dock_widgets['bottom_controls'][1].size()\n",
    "ui.dock_widgets['bottom_controls'][1].setContentsMargins(0,0,0,0)\n",
    "# ui.dock_widgets['bottom_controls'][1].hideTitleBar()\n",
    "# ui.dock_widgets['bottom_controls'][1].size"
   ]
  },
  {
   "cell_type": "code",
   "execution_count": null,
   "id": "5dec982d",
   "metadata": {},
   "outputs": [],
   "source": [
    "setMargin"
   ]
  },
  {
   "cell_type": "code",
   "execution_count": null,
   "id": "9cf3d78a",
   "metadata": {},
   "outputs": [],
   "source": [
    "ui.dock_widgets['bottom_controls'][0].resize(600, 21)\n"
   ]
  },
  {
   "cell_type": "code",
   "execution_count": null,
   "id": "d39be52f",
   "metadata": {},
   "outputs": [],
   "source": [
    "paginated_multi_decoder_decoded_epochs_window.find_display_dock('bottom_controls')"
   ]
  },
  {
   "cell_type": "code",
   "execution_count": null,
   "id": "1f1f454f",
   "metadata": {},
   "outputs": [],
   "source": [
    "paginated_multi_decoder_decoded_epochs_window.remove_display_dock('bottom_controls')"
   ]
  },
  {
   "cell_type": "code",
   "execution_count": null,
   "id": "c426375f",
   "metadata": {},
   "outputs": [],
   "source": [
    "from neuropy.core.user_annotations import UserAnnotationsManager\n",
    "\n",
    "## Set epoch annotations from selections epochs \n",
    "annotations_man = UserAnnotationsManager()\n",
    "user_annotations = annotations_man.get_user_annotations()\n",
    "new_selections_dict = paginated_multi_decoder_decoded_epochs_window.restore_selections_from_user_annotations(user_annotations)\n"
   ]
  },
  {
   "cell_type": "code",
   "execution_count": null,
   "id": "cf471332",
   "metadata": {},
   "outputs": [],
   "source": [
    "loaded_selections_objs_dict = {a_name:EpochSelectionsObject(epoch_times=a_selections_values) for a_name, a_selections_values in loaded_selections_dict.items()}\n",
    "loaded_selections_objs_dict\n",
    "\n",
    "## Select just the selected epoch times\n"
   ]
  },
  {
   "cell_type": "code",
   "execution_count": null,
   "id": "b8e0b733",
   "metadata": {},
   "outputs": [],
   "source": [
    "saved_selections_context_dict = {a_name:v.figure_ctx.adding_context_if_missing(user_annotation='selections') for a_name, v in saved_selections_dict.items()}"
   ]
  },
  {
   "cell_type": "code",
   "execution_count": null,
   "id": "ff74f8ee",
   "metadata": {},
   "outputs": [],
   "source": [
    "user_annotations"
   ]
  },
  {
   "cell_type": "code",
   "execution_count": null,
   "id": "60d312d9",
   "metadata": {},
   "outputs": [],
   "source": [
    "paginated_multi_decoder_decoded_epochs_window.print_user_annotations()"
   ]
  },
  {
   "cell_type": "code",
   "execution_count": null,
   "id": "244ee6f5",
   "metadata": {},
   "outputs": [],
   "source": [
    "## Remove the excessively long plot titles?\n",
    "# root_dockAreaWindow.update\n",
    "pagination_controller_dict = paginated_multi_decoder_decoded_epochs_window.pagination_controllers\n",
    "all_widgets = {a_decoder_name:a_pagination_controller.ui.mw for a_decoder_name, a_pagination_controller in pagination_controller_dict.items()}\n",
    "all_windows = {a_decoder_name:a_pagination_controller.ui.mw.window() for a_decoder_name, a_pagination_controller in pagination_controller_dict.items()}\n",
    "all_separate_plots = {a_decoder_name:a_pagination_controller.plots for a_decoder_name, a_pagination_controller in pagination_controller_dict.items()}\n",
    "all_separate_plots_data = {a_decoder_name:a_pagination_controller.plots_data for a_decoder_name, a_pagination_controller in pagination_controller_dict.items()}\n",
    "all_separate_params = {a_decoder_name:a_pagination_controller.params for a_decoder_name, a_pagination_controller in pagination_controller_dict.items()}\n",
    "all_separate_current_page_idx = {a_decoder_name:a_pagination_controller.current_page_idx for a_decoder_name, a_pagination_controller in pagination_controller_dict.items()}\n",
    "all_separate_current_page_idx"
   ]
  },
  {
   "cell_type": "code",
   "execution_count": null,
   "id": "61cfebd7",
   "metadata": {},
   "outputs": [],
   "source": [
    "# all_separate_plots\n",
    "\n",
    "all_separate_weighted_corr_plots = {a_decoder_name:a_pagination_controller.plots.get('weighted_corr', {}) for a_decoder_name, a_pagination_controller in pagination_controller_dict.items()}\n",
    "all_separate_weighted_corr_plots"
   ]
  },
  {
   "cell_type": "code",
   "execution_count": null,
   "id": "dc1d02b9",
   "metadata": {},
   "outputs": [],
   "source": [
    "self.ui.print = self.private_print # builtins.print # the print function to use"
   ]
  },
  {
   "cell_type": "code",
   "execution_count": null,
   "id": "69313c31",
   "metadata": {},
   "outputs": [],
   "source": [
    "from neuropy.core.epoch import EpochsAccessor\n",
    "\n",
    "# MLM\n",
    "# {a_name:a_ctrlr.params.is_selected for a_name, a_ctrlr in root_dockAreaWindow.pagination_controllers.items()}\n",
    "# {a_name:a_ctrlr.selected_epoch_times for a_name, a_ctrlr in root_dockAreaWindow.pagination_controllers.items()}\n",
    "\n",
    "any_good_selected_epoch_times: NDArray = paginated_multi_decoder_decoded_epochs_window.any_good_selected_epoch_times # drops duplicate rows (present in multiple decoders), and sorts them ascending\n",
    "# any_good_selected_epoch_times\n",
    "# Only at the decoder-level\n",
    "any_good_epoch_idxs_list = [a_ctrlr.find_data_indicies_from_epoch_times(any_good_selected_epoch_times) for a_name, a_ctrlr in paginated_multi_decoder_decoded_epochs_window.pagination_controllers.items()]\n",
    "any_good_epoch_idxs: NDArray = any_good_epoch_idxs_list[0]\n",
    "any_good_epoch_idxs"
   ]
  },
  {
   "cell_type": "code",
   "execution_count": null,
   "id": "29282203",
   "metadata": {},
   "outputs": [],
   "source": [
    "filtered_ripple_simple_pf_pearson_merged_df"
   ]
  },
  {
   "cell_type": "code",
   "execution_count": null,
   "id": "531db971",
   "metadata": {},
   "outputs": [],
   "source": [
    "\n",
    "# filtered_ripple_simple_pf_pearson_merged_df.epochs.find_data_indicies_from_epoch_times(any_good_selected_epoch_times)\n",
    "# filtered_ripple_simple_pf_pearson_merged_df.epochs.matching_epoch_times_slice(any_good_selected_epoch_times)\n",
    "\n",
    "found_data_indicies = filtered_ripple_simple_pf_pearson_merged_df.epochs.find_data_indicies_from_epoch_times(epoch_times=any_good_selected_epoch_times)\n",
    "df = filtered_ripple_simple_pf_pearson_merged_df.epochs._obj.iloc[found_data_indicies].copy().reset_index(drop=True)\n",
    "df"
   ]
  },
  {
   "cell_type": "code",
   "execution_count": null,
   "id": "1a78ed2c",
   "metadata": {},
   "outputs": [],
   "source": [
    "filtered_ripple_simple_pf_pearson_merged_df\n"
   ]
  },
  {
   "cell_type": "code",
   "execution_count": null,
   "id": "e1677479",
   "metadata": {},
   "outputs": [],
   "source": [
    "hand_selected_ripple_simple_pf_pearson_merged_df = filtered_ripple_simple_pf_pearson_merged_df.iloc[any_good_epoch_idxs, :].reset_index(drop=True)\n",
    "hand_selected_ripple_simple_pf_pearson_merged_df"
   ]
  },
  {
   "cell_type": "code",
   "execution_count": null,
   "id": "a1d400bd",
   "metadata": {},
   "outputs": [],
   "source": [
    "# hand_selected_ripple_simple_pf_pearson_merged_df['best_decoder_index']\n",
    "\n",
    "is_most_likely_long = (hand_selected_ripple_simple_pf_pearson_merged_df['P_Long'] >= 0.5)\n",
    "# is_most_likely_long\n",
    "\n",
    "long_likely_hand_selected_ripple_simple_pf_pearson_merged_df = hand_selected_ripple_simple_pf_pearson_merged_df[is_most_likely_long]\n",
    "long_likely_hand_selected_ripple_simple_pf_pearson_merged_df\n"
   ]
  },
  {
   "cell_type": "markdown",
   "id": "89d33190",
   "metadata": {},
   "source": [
    "## 🖼️🎨 Plot laps to compare between decoders:"
   ]
  },
  {
   "cell_type": "code",
   "execution_count": null,
   "id": "b4873ebb",
   "metadata": {},
   "outputs": [],
   "source": [
    "from neuropy.core.epoch import Epoch, ensure_dataframe\n",
    "from pyphoplacecellanalysis.General.Pipeline.Stages.ComputationFunctions.MultiContextComputationFunctions.DirectionalPlacefieldGlobalComputationFunctions import add_laps_groundtruth_information_to_dataframe\n",
    "\n",
    "# decoder_laps_filter_epochs_decoder_result_dict['long_LR'].filter_epochs # looks like 'lap_dir' column is wrong\n",
    "updated_laps_dfs_dict = {}\n",
    "\n",
    "## Update the .filter_epochs:\n",
    "for k, v in decoder_laps_filter_epochs_decoder_result_dict.items():\n",
    "    updated_laps_dfs_dict[k] = Epoch(add_laps_groundtruth_information_to_dataframe(curr_active_pipeline=curr_active_pipeline, result_laps_epochs_df=ensure_dataframe(v.filter_epochs)))\n",
    "    decoder_laps_filter_epochs_decoder_result_dict[k].filter_epochs =  updated_laps_dfs_dict[k]\n",
    "\n",
    "# updated_laps_dfs_dict['long_LR']\n",
    "decoder_laps_filter_epochs_decoder_result_dict['long_LR'].filter_epochs\n"
   ]
  },
  {
   "cell_type": "code",
   "execution_count": null,
   "id": "3cab7bcc",
   "metadata": {},
   "outputs": [],
   "source": [
    "laps_app, laps_paginated_multi_decoder_decoded_epochs_window, laps_pagination_controller_dict = PhoPaginatedMultiDecoderDecodedEpochsWindow.init_from_track_templates(curr_active_pipeline, track_templates,\n",
    "                                                                                                                                                                           decoder_decoded_epochs_result_dict=decoder_laps_filter_epochs_decoder_result_dict, epochs_name='laps', included_epoch_indicies=None, \n",
    "                                                                                                                                                    params_kwargs={'enable_per_epoch_action_buttons': False,\n",
    "                                                                                                                                                    'skip_plotting_most_likely_positions': True, 'skip_plotting_measured_positions': False, \n",
    "                                                                                                                                                    # 'enable_decoded_most_likely_position_curve': False, 'enable_radon_transform_info': True, 'enable_weighted_correlation_info': False,\n",
    "                                                                                                                                                    'enable_decoded_most_likely_position_curve': False, 'enable_radon_transform_info': True, 'enable_weighted_correlation_info': True,\n",
    "                                                                                                                                                    # 'disable_y_label': True,\n",
    "                                                                                                                                                    # 'isPaginatorControlWidgetBackedMode': True,\n",
    "                                                                                                                                                    # 'enable_update_window_title_on_page_change': False, 'build_internal_callbacks': True,\n",
    "                                                                                                                                                    # 'debug_print': True,\n",
    "                                                                                                                                                    'max_subplots_per_page': 10,\n",
    "                                                                                                                                                    'scrollable_figure': True,\n",
    "                                                                                                                                                    # 'posterior_heatmap_imshow_kwargs': dict(vmin=0.0075),\n",
    "                                                                                                                                                    'use_AnchoredCustomText': False,\n",
    "                                                                                                                                                })\n"
   ]
  },
  {
   "cell_type": "code",
   "execution_count": null,
   "id": "9ec05d21",
   "metadata": {},
   "outputs": [],
   "source": [
    "from neuropy.core.epoch import Epoch, ensure_dataframe\n",
    "\n",
    "## INPUTS: decoder_laps_filter_epochs_decoder_result_dict\n",
    "\n",
    "## Highlight the correct ones:\n",
    "# {k:Epoch(add_laps_groundtruth_information_to_dataframe(curr_active_pipeline=curr_active_pipeline, result_laps_epochs_df=ensure_dataframe(v.filter_epochs))) for k, v in decoder_laps_filter_epochs_decoder_result_dict.items()}\n",
    "\n",
    "## Select the true laps by emulating user_annotations:\n",
    "filter_epochs = ensure_dataframe(deepcopy(decoder_laps_filter_epochs_decoder_result_dict['long_LR'].filter_epochs)) \n",
    "# filter_epochs\n",
    "\n",
    "decoder_name_idx_map = {'long_LR': 0, 'long_RL': 1, 'short_LR': 2, 'short_RL': 3} \n",
    "selections_dict = {}\n",
    "figure_ctx_dict = laps_paginated_multi_decoder_decoded_epochs_window.figure_ctx_dict\n",
    "loaded_selections_context_dict = {a_name:a_figure_ctx.adding_context_if_missing(user_annotation='selections') for a_name, a_figure_ctx in figure_ctx_dict.items()}\n",
    "\n",
    "for a_name, an_idx in decoder_name_idx_map.items():\n",
    "    a_selections_context = loaded_selections_context_dict[a_name]\n",
    "    selections_dict[a_selections_context] = filter_epochs[filter_epochs['true_decoder_index'] == an_idx][['start', 'stop']].to_numpy()\n",
    "\n",
    "\n",
    "## Clearing the existing selection rects and them having them rebuilt when the selection is updated fixes them being shifted.\n",
    "for k, v in laps_pagination_controller_dict.items():\n",
    "    v._subfn_clear_selectability_rects()\n",
    "\n",
    "# _tmp_out_selections = laps_paginated_multi_decoder_decoded_epochs_window.restore_selections_from_user_annotations(user_annotations=selections_dict)"
   ]
  },
  {
   "cell_type": "code",
   "execution_count": null,
   "id": "5a6607cc",
   "metadata": {},
   "outputs": [],
   "source": [
    "laps_paginated_multi_decoder_decoded_epochs_window.add_data_overlays(decoder_laps_filter_epochs_decoder_result_dict, decoder_ripple_filter_epochs_decoder_result_dict)\n"
   ]
  },
  {
   "cell_type": "code",
   "execution_count": null,
   "id": "c29e840a",
   "metadata": {},
   "outputs": [],
   "source": []
  },
  {
   "cell_type": "code",
   "execution_count": null,
   "id": "30f558fe",
   "metadata": {},
   "outputs": [],
   "source": []
  },
  {
   "cell_type": "code",
   "execution_count": null,
   "id": "89caf8fc",
   "metadata": {},
   "outputs": [],
   "source": []
  },
  {
   "cell_type": "code",
   "execution_count": null,
   "id": "d15bba6c",
   "metadata": {},
   "outputs": [],
   "source": []
  },
  {
   "cell_type": "code",
   "execution_count": null,
   "id": "e364cc14",
   "metadata": {},
   "outputs": [],
   "source": [
    "laps_paginated_multi_decoder_decoded_epochs_window.remove_data_overlays(defer_refresh=False)"
   ]
  },
  {
   "cell_type": "code",
   "execution_count": null,
   "id": "225e23e2",
   "metadata": {},
   "outputs": [],
   "source": [
    "laps_paginated_multi_decoder_decoded_epochs_window.remov"
   ]
  },
  {
   "cell_type": "code",
   "execution_count": null,
   "id": "46e4fe0c",
   "metadata": {},
   "outputs": [],
   "source": [
    "## Clearing the existing selection rects and them having them rebuilt when the selection is updated fixes them being shifted.\n",
    "for k, v in laps_pagination_controller_dict.items():\n",
    "    v._subfn_clear_selectability_rects()\n",
    "\n"
   ]
  },
  {
   "cell_type": "code",
   "execution_count": null,
   "id": "5675f133",
   "metadata": {},
   "outputs": [],
   "source": [
    "laps_paginated_multi_decoder_decoded_epochs_window.draw()"
   ]
  },
  {
   "cell_type": "code",
   "execution_count": null,
   "id": "b603bc41",
   "metadata": {},
   "outputs": [],
   "source": [
    "filtered_ripple_simple_pf_pearson_merged_df"
   ]
  },
  {
   "cell_type": "code",
   "execution_count": null,
   "id": "20f847f0",
   "metadata": {},
   "outputs": [],
   "source": [
    "decoder_laps_filter_epochs_decoder_result_dict"
   ]
  },
  {
   "cell_type": "code",
   "execution_count": null,
   "id": "f1556870",
   "metadata": {},
   "outputs": [],
   "source": [
    "# list(decoder_laps_filter_epochs_decoder_result_dict.keys())\n",
    "decoder_laps_filter_epochs_decoder_result_dict['long_LR'].filter_epochs"
   ]
  },
  {
   "cell_type": "code",
   "execution_count": null,
   "id": "dbba2a38",
   "metadata": {},
   "outputs": [],
   "source": [
    "## Get the figure from the axes:\n",
    "a_fig = ax.get_figure()\n",
    "a_fig.canvas.draw()"
   ]
  },
  {
   "cell_type": "code",
   "execution_count": null,
   "id": "3e1b177a",
   "metadata": {},
   "outputs": [],
   "source": [
    "a_controlling_pagination_controller = laps_paginated_multi_decoder_decoded_epochs_window.contents.pagination_controllers['long_LR'] # DecodedEpochSlicesPaginatedFigureController\n",
    "a_pagination_controller_figure_widget = paginator_controller_widget = a_controlling_pagination_controller.ui.mw # MatplotlibTimeSynchronizedWidget\n",
    "paginator_controller_widget = a_controlling_pagination_controller.ui.mw.ui.paginator_controller_widget # PaginationControlWidget\n",
    "# paginator_controller_widget\n",
    "a_pagination_controller_figure_widget.draw()"
   ]
  },
  {
   "cell_type": "code",
   "execution_count": null,
   "id": "c92048bc",
   "metadata": {},
   "outputs": [],
   "source": [
    "axs = a_controlling_pagination_controller.plots.axs"
   ]
  },
  {
   "cell_type": "code",
   "execution_count": null,
   "id": "a0ab273d",
   "metadata": {},
   "outputs": [],
   "source": [
    "ax.get_figure().canvas.draw()\n"
   ]
  },
  {
   "cell_type": "code",
   "execution_count": null,
   "id": "47481538",
   "metadata": {},
   "outputs": [],
   "source": [
    "selection_rectangles_dict = a_controlling_pagination_controller.plots.get('selection_rectangles_dict', None)\n",
    "selection_rectangles_dict\n"
   ]
  },
  {
   "cell_type": "code",
   "execution_count": null,
   "id": "bfa452e4",
   "metadata": {},
   "outputs": [],
   "source": [
    "# a_controlling_pagination_controller.plots.fig.canvas.draw_idle()\n",
    "# a_controlling_pagination_controller.plots.fig.canvas.draw()\n",
    "# paginator_controller_widget.update()\n",
    "a_pagination_controller_figure_widget.draw()"
   ]
  },
  {
   "cell_type": "code",
   "execution_count": null,
   "id": "72db1753",
   "metadata": {},
   "outputs": [],
   "source": [
    "paginator_controller_widget.go_to_page(3)\n",
    "# paginator_controller_widget.jump_to_page(3)"
   ]
  },
  {
   "cell_type": "code",
   "execution_count": null,
   "id": "635fbe9f",
   "metadata": {},
   "outputs": [],
   "source": [
    "a_controlling_pagination_controller.ui.mw.ui.paginator_controller_widget.jump_to_page\n",
    "\n",
    "new_obj.plots_data.paginator\n",
    "new_obj.params.active_identifying_figure_ctx\n",
    "new_obj.on_paginator_control_widget_jump_to_page(page_idx=0)\n",
    "new_obj.ui.connections['paginator_controller_widget_jump_to_page']\n"
   ]
  },
  {
   "cell_type": "code",
   "execution_count": null,
   "id": "64c54dc7",
   "metadata": {},
   "outputs": [],
   "source": [
    "for i, extant_plots in a_plots['weighted_corr'].items():\n",
    "    extant_wcorr_text = extant_plots.get('wcorr_text', None)\n",
    "    # extant_wcorr_text = extant_plots.pop('wcorr_text', None)\n",
    "    print(f'extant_wcorr_text: {extant_wcorr_text}')\n",
    "    # plot the radon transform line on the epoch:\n",
    "    if (extant_wcorr_text is not None):\n",
    "        # already exists, clear the existing ones. \n",
    "        # Let's assume we want to remove the 'Quadratic' line (line2)\n",
    "        print(f'removing extant text object at index: {i}.')\n",
    "        # extant_wcorr_text.remove()\n",
    "        extant_wcorr_text.remove()"
   ]
  },
  {
   "cell_type": "code",
   "execution_count": null,
   "id": "30b7e27b",
   "metadata": {},
   "outputs": [],
   "source": [
    "for a_name, a_pagination_controller in pagination_controller_dict.items():\n",
    "    display_context = a_pagination_controller.params.get('active_identifying_figure_ctx', IdentifyingContext())\n",
    "\n",
    "    # Get context for current page of items:\n",
    "    current_page_idx: int = int(a_pagination_controller.current_page_idx)\n",
    "    a_paginator = a_pagination_controller.paginator\n",
    "    total_num_pages = int(a_paginator.num_pages)\n",
    "    page_context = display_context.overwriting_context(page=current_page_idx, num_pages=total_num_pages)\n",
    "    print(page_context)\n",
    "\n",
    "    ## Get the figure/axes:\n",
    "    a_plots = a_pagination_controller.plots # RenderPlots\n",
    "    a_plot_data = a_pagination_controller.plots_data\n",
    "\n",
    "    a_params = a_pagination_controller.params\n",
    "    a_params.skip_plotting_measured_positions\n",
    "\n",
    "    figs = a_plots.fig\n",
    "    axs = a_plots.axs\n",
    "\n",
    "    # # with mpl.rc_context({'figure.figsize': (8.4, 4.8), 'figure.dpi': '220', 'savefig.transparent': True, 'ps.fonttype': 42, }):\n",
    "    # with mpl.rc_context({'figure.figsize': (16.8, 4.8), 'figure.dpi': '420', 'savefig.transparent': True, 'ps.fonttype': 42, }):\n",
    "    #     curr_active_pipeline.output_figure(final_context=page_context, fig=figs, write_vector_format=True)"
   ]
  },
  {
   "cell_type": "markdown",
   "id": "14d32342",
   "metadata": {},
   "source": [
    "## 💾 Export Paginated Content"
   ]
  },
  {
   "cell_type": "code",
   "execution_count": null,
   "id": "afec0488",
   "metadata": {},
   "outputs": [],
   "source": [
    "# laps_paginated_multi_decoder_decoded_epochs_window.export_all_pages(curr_active_pipeline)\n",
    "paginated_multi_decoder_decoded_epochs_window.export_all_pages(curr_active_pipeline)"
   ]
  },
  {
   "cell_type": "code",
   "execution_count": null,
   "id": "8be8a471",
   "metadata": {},
   "outputs": [],
   "source": [
    "paginated_multi_decoder_decoded_epochs_window.export_decoder_pagination_controller_figure_page(curr_active_pipeline)"
   ]
  },
  {
   "cell_type": "markdown",
   "id": "31cd2637",
   "metadata": {},
   "source": [
    "## 🔷🎨 Single Decoder Version (`DecodedEpochSlicesPaginatedFigureController`)"
   ]
  },
  {
   "cell_type": "code",
   "execution_count": null,
   "id": "6d880d1c",
   "metadata": {},
   "outputs": [],
   "source": [
    "from pyphoplacecellanalysis.General.Pipeline.Stages.DisplayFunctions.DecoderPredictionError import plot_1D_most_likely_position_comparsions\n",
    "from pyphoplacecellanalysis.General.Pipeline.Stages.DisplayFunctions.DecoderPredictionError import _subfn_update_decoded_epoch_slices\n",
    "from pyphoplacecellanalysis.Pho2D.stacked_epoch_slices import DecodedEpochSlicesPaginatedFigureController # `plot_decoded_epoch_slices_paginated`\n",
    "from pyphoplacecellanalysis.General.Pipeline.Stages.DisplayFunctions.DecoderPredictionError import WeightedCorrelationPaginatedPlotDataProvider\n",
    "from pyphoplacecellanalysis.General.Pipeline.Stages.DisplayFunctions.DecoderPredictionError import DecodedPositionsPlotDataProvider, DecodedAndActualPositionsPlotData\n",
    "from pyphoplacecellanalysis.General.Pipeline.Stages.DisplayFunctions.DecoderPredictionError import perform_plot_1D_single_most_likely_position_curve\n",
    "\n",
    "# Inputs: epochs_name, decoder_ripple_filter_epochs_decoder_result_dict, curr_active_pipeline\n",
    "epochs_name = 'ripple'\n",
    "\n",
    "(a_name, a_decoder) = tuple(track_templates.get_decoders_dict().items())[0]\n",
    "\n",
    "# a_decoder_decoded_epochs_result = decoder_ripple_filter_epochs_decoder_result_dict[a_name]\n",
    "\n",
    "# a_decoder_decoded_epochs_result = decoder_ripple_filter_epochs_decoder_result_dict[a_name]\n",
    "a_decoder_decoded_epochs_result = deepcopy(filtered_decoder_filter_epochs_decoder_result_dict[a_name]) ## FILTERED\n",
    "\n",
    "_out_pagination_controller = DecodedEpochSlicesPaginatedFigureController.init_from_decoder_data(active_filter_epochs=a_decoder_decoded_epochs_result.filter_epochs,\n",
    "                                                                                    filter_epochs_decoder_result= a_decoder_decoded_epochs_result,\n",
    "                                                                                    xbin=a_decoder.xbin, global_pos_df=curr_active_pipeline.sess.position.df,\n",
    "                                                                                    a_name=f'DecodedEpochSlices[{a_name}]', active_context=curr_active_pipeline.build_display_context_for_session(display_fn_name='DecodedEpochSlices', epochs=epochs_name, decoder=a_name),\n",
    "                                                                                    max_subplots_per_page=32,\n",
    "                                                                                    params_kwargs={'skip_plotting_most_likely_positions': True, 'skip_plotting_measured_positions': True, 'enable_per_epoch_action_buttons': False,\n",
    "                                                                                                    'enable_decoded_most_likely_position_curve': True, #'enable_radon_transform_info': True, 'enable_weighted_correlation_info': True,\n",
    "                                                                                                    'enable_radon_transform_info': True, 'enable_weighted_correlation_info': True,\n",
    "                                                                                                    # 'disable_y_label': True,\n",
    "                                                                                                    'isPaginatorControlWidgetBackedMode': True,\n",
    "                                                                                                    'enable_update_window_title_on_page_change': False, 'build_internal_callbacks': True,\n",
    "                                                                                                    # 'debug_print': True,\n",
    "                                                                                                    'max_subplots_per_page': 32,\n",
    "                                                                                                    'scrollable_figure': True,\n",
    "                                                                                                    # 'posterior_heatmap_imshow_kwargs': dict(vmin=0.0075),\n",
    "                                                                                                    'use_AnchoredCustomText': True,\n",
    "                                                                                                    'disable_toolbar': False,\n",
    "                                                                                    }, \n",
    "                                                                                    # disable_toolbar=False\n",
    "                                                                                    )\n",
    "\n",
    "_out_pagination_controller.params.should_suppress_callback_exceptions = False\n",
    "_out_pagination_controller.add_data_overlays(a_decoder_decoded_epochs_result)\n",
    "_tmp_out_selections = _out_pagination_controller.restore_selections_from_user_annotations()"
   ]
  },
  {
   "cell_type": "code",
   "execution_count": null,
   "id": "7c780e52",
   "metadata": {},
   "outputs": [],
   "source": [
    "fig = _out_pagination_controller.plots.fig\n",
    "# fig.toolbar"
   ]
  },
  {
   "cell_type": "code",
   "execution_count": null,
   "id": "4d3f46ef",
   "metadata": {},
   "outputs": [],
   "source": [
    "# type(_out_pagination_controller)\n",
    "\n",
    "_out_pagination_controller.plot_widget._buildUI_setup_statusbar()"
   ]
  },
  {
   "cell_type": "markdown",
   "id": "dff74414",
   "metadata": {},
   "source": [
    "single_epoch_field_names\n"
   ]
  },
  {
   "cell_type": "code",
   "execution_count": null,
   "id": "4e429a68",
   "metadata": {},
   "outputs": [],
   "source": [
    "# on_selected_epochs_changed\n",
    "\n",
    "active_captured_single_epoch_result: SingleEpochDecodedResult = a_decoder_decoded_epochs_result.get_result_for_epoch(active_epoch_idx=3)\n",
    "\n",
    "def get_selected_posterior_on_secondary_clicked_callback(self, event, clicked_ax, clicked_data_index, clicked_epoch_is_selected, clicked_epoch_start_stop_time):\n",
    "    \"\"\" called when the user alt-clicks an epoch \n",
    "    \n",
    "    captures: active_captured_single_epoch_result\n",
    "    \"\"\"\n",
    "    global active_captured_single_epoch_result\n",
    "    if self.params.debug_print:\n",
    "        print(f'get_selected_posterior_on_secondary_clicked_callback(clicked_data_index: {clicked_data_index}, clicked_epoch_is_selected: {clicked_epoch_is_selected}, clicked_epoch_start_stop_time: {clicked_epoch_start_stop_time})')\n",
    "    if clicked_epoch_start_stop_time is not None:\n",
    "        if len(clicked_epoch_start_stop_time) == 2:\n",
    "            start_t, end_t = clicked_epoch_start_stop_time\n",
    "            # print(f'start_t: {start_t}')\n",
    "            clicked_data_index: int = _out_pagination_controller.find_data_indicies_from_epoch_times(epoch_times=np.array([start_t, end_t]))[0]\n",
    "            if self.params.debug_print:\n",
    "                print(f'\\tclicked_data_index: {clicked_data_index}')            \n",
    "            active_captured_single_epoch_result = a_decoder_decoded_epochs_result.get_result_for_epoch(active_epoch_idx=clicked_data_index)\n",
    "            if self.params.debug_print:\n",
    "                print(f'\\tactive_captured_single_epoch_result.epoch_info_tuple: {active_captured_single_epoch_result.epoch_info_tuple}')\n",
    "                print(f'\\tdone.')\n",
    "\n",
    "\n",
    "# BEGIN FUNCTION BODY ________________________________________________________________________________________________ #\n",
    "if not _out_pagination_controller.params.has_attr('on_middle_click_item_callbacks'):\n",
    "    _out_pagination_controller.params['on_middle_click_item_callbacks'] = {}\n",
    "\n",
    "_out_pagination_controller.params.on_middle_click_item_callbacks['get_selected_posterior_on_secondary_clicked_callback'] = get_selected_posterior_on_secondary_clicked_callback\n"
   ]
  },
  {
   "cell_type": "code",
   "execution_count": null,
   "id": "f68a4cd3",
   "metadata": {},
   "outputs": [],
   "source": [
    "a_decoder_decoded_epochs_result.active_filter_epochs"
   ]
  },
  {
   "cell_type": "code",
   "execution_count": null,
   "id": "6a619872",
   "metadata": {},
   "outputs": [],
   "source": [
    "from pyphocorehelpers.plotting.media_output_helpers import get_array_as_image\n",
    "\n",
    "posterior_image = active_captured_single_epoch_result.get_posterior_as_image(desired_width=2048)\n",
    "posterior_image\n"
   ]
  },
  {
   "cell_type": "code",
   "execution_count": null,
   "id": "5c51bb30",
   "metadata": {},
   "outputs": [],
   "source": [
    "from scipy.signal import convolve2d\n",
    "\n",
    "# Define 8x8 blur filter kernel\n",
    "blur_kernel = np.ones((8, 8)) / 64\n",
    "\n",
    "# Apply blur to a 2D matrix\n",
    "blurred_matrix = convolve2d(active_captured_single_epoch_result.p_x_given_n, blur_kernel, mode='same', boundary='wrap')\n",
    "\n",
    "get_array_as_image(blurred_matrix, desired_height=400)\n",
    "\n"
   ]
  },
  {
   "cell_type": "code",
   "execution_count": null,
   "id": "e8a8ca93",
   "metadata": {},
   "outputs": [],
   "source": [
    "{i:col for i, col in enumerate(a_decoder_decoded_epochs_result.active_filter_epochs.columns)}\n",
    "\n",
    "column_indicies = np.arange(12, 19)\n",
    "column_indicies"
   ]
  },
  {
   "cell_type": "code",
   "execution_count": null,
   "id": "c9b8451e",
   "metadata": {},
   "outputs": [],
   "source": [
    "_out_pagination_controller.params.debug_print\n"
   ]
  },
  {
   "cell_type": "markdown",
   "id": "ffbc81f8",
   "metadata": {},
   "source": [
    "## 2024-04-30 Heuristic "
   ]
  },
  {
   "cell_type": "code",
   "execution_count": null,
   "id": "b21abb21",
   "metadata": {},
   "outputs": [],
   "source": [
    "# *position_relative\": mapped between the ends of the track, 0.0 to 1.0\n",
    "most_likely_position_relative = (np.squeeze(active_captured_single_epoch_result.most_likely_position_indicies) / float(active_captured_single_epoch_result.n_xbins-1))\n",
    "most_likely_position_relative\n",
    "\n",
    "\n",
    "plt.hlines([0], colors='k', xmin=active_captured_single_epoch_result.time_bin_edges[0], xmax=active_captured_single_epoch_result.time_bin_edges[-1])\n",
    "plt.step(active_captured_single_epoch_result.time_bin_container.centers[1:], np.diff(most_likely_position_relative))\n",
    "plt.scatter(active_captured_single_epoch_result.time_bin_container.centers, most_likely_position_relative, color='r')\n"
   ]
  },
  {
   "cell_type": "code",
   "execution_count": null,
   "id": "64c52d60",
   "metadata": {},
   "outputs": [],
   "source": [
    "import pyphoplacecellanalysis.External.pyqtgraph as pg\n",
    "from pyphoplacecellanalysis.External.pyqtgraph.Qt import QtGui, QtCore, QtWidgets\n",
    "# from pyphoplacecellanalysis.External.pyqtgraph.parametertree.parameterTypes.file import popupFilePicker\n",
    "from pyphoplacecellanalysis.External.pyqtgraph.widgets.FileDialog import FileDialog\n",
    "\n",
    "from silx.gui import qt\n",
    "from silx.gui.dialog.ImageFileDialog import ImageFileDialog\n",
    "from silx.gui.dialog.DataFileDialog import DataFileDialog\n",
    "import silx.io\n",
    "\n",
    "from pyphoplacecellanalysis.GUI.IPyWidgets.pipeline_ipywidgets import saveFile\n",
    "\n",
    "app = pg.mkQApp('silx_testing')\n",
    "app"
   ]
  },
  {
   "cell_type": "code",
   "execution_count": null,
   "id": "fc644214",
   "metadata": {},
   "outputs": [],
   "source": [
    "import numpy as np\n",
    "from silx.gui.plot import Plot2D\n",
    "\n",
    "matrix = np.random.rand(10, 10)  # Example 2D matrix\n",
    "plot = Plot2D()\n",
    "plot.addImage(matrix, colormap=\"viridis\", vmin=0, vmax=1)\n",
    "plot.show()"
   ]
  },
  {
   "cell_type": "code",
   "execution_count": null,
   "id": "e29c941e",
   "metadata": {},
   "outputs": [],
   "source": [
    "from pyphoplacecellanalysis.Analysis.Decoder.heuristic_replay_scoring import HeuristicReplayScoring\n",
    "\n",
    "HeuristicReplayScoring.bin_wise_track_coverage_score_fn(a_result=a_decoder_decoded_epochs_result, an_epoch_idx=active_captured_single_epoch_result.epoch_data_index, a_decoder_track_length=170.0)\n",
    "\n",
    "# np.diff(active_captured_single_epoch_result.most_likely_position_indicies)"
   ]
  },
  {
   "cell_type": "code",
   "execution_count": null,
   "id": "ba5407a6",
   "metadata": {},
   "outputs": [],
   "source": []
  },
  {
   "cell_type": "code",
   "execution_count": null,
   "id": "edaeb866",
   "metadata": {},
   "outputs": [],
   "source": [
    "\n",
    "\n",
    "# CodeConversion.convert_dictionary_to_class_defn(\n",
    "    "
   ]
  },
  {
   "cell_type": "code",
   "execution_count": null,
   "id": "2549b6af",
   "metadata": {},
   "outputs": [],
   "source": [
    "ax = _out_pagination_controller.plots.axs[0]\n",
    "ax"
   ]
  },
  {
   "cell_type": "code",
   "execution_count": null,
   "id": "d3d52d45",
   "metadata": {},
   "outputs": [],
   "source": [
    "ax.format_coord"
   ]
  },
  {
   "cell_type": "code",
   "execution_count": null,
   "id": "53f28b01",
   "metadata": {},
   "outputs": [],
   "source": [
    "# Find ascending sequences of most-likely positions\n",
    "\n",
    "\n",
    "\n",
    "\n",
    "def format_coord(x, y):\n",
    "    col = round(x)\n",
    "    row = round(y)\n",
    "    nrows, ncols = X.shape\n",
    "    if 0 <= col < ncols and 0 <= row < nrows:\n",
    "        z = X[row, col]\n",
    "        return f'x={x:1.4f}, y={y:1.4f}, z={z:1.4f}'\n",
    "    else:\n",
    "        return f'x={x:1.4f}, y={y:1.4f}'\n",
    "\n",
    "\n",
    "ax.format_coord = format_coord\n"
   ]
  },
  {
   "cell_type": "code",
   "execution_count": null,
   "id": "4de603c0",
   "metadata": {},
   "outputs": [],
   "source": [
    "# _out_pagination_controller.plot_widget.setStatusTip('LONG STATUS TIP TEST')\n",
    "\n",
    "_out_pagination_controller.plot_widget.update_status('LONG STATUS TIP TEST')\n"
   ]
  },
  {
   "cell_type": "code",
   "execution_count": null,
   "id": "07b187c8",
   "metadata": {},
   "outputs": [],
   "source": [
    "# _out_pagination_controller.plots.radon_transform\n",
    "fig = _out_pagination_controller.plots.fig\n",
    "\n",
    "# plt.subplots_adjust(left=0.15, right=0.85, top=0.9, bottom=0.1)\n",
    "# Adjust the margins using subplots_adjust\n",
    "fig.subplots_adjust(left=0.15, right=0.85, bottom=0.15, top=0.85)\n",
    "\n",
    "# Adjust the margins using the Figure object\n",
    "# fig.set_tight_layout(dict(rect=[0.1, 0.2, 0.8, 0.8]))\n",
    "# fig.tight_layout(dict(rect=[0.1, 0.2, 0.8, 0.8]))\n",
    "# fig.tight_layout(pad=1.0, rect=[0.1, 0.1, 0.8, 0.8])\n",
    "_out_pagination_controller.draw()"
   ]
  },
  {
   "cell_type": "code",
   "execution_count": null,
   "id": "4e9643ed",
   "metadata": {},
   "outputs": [],
   "source": [
    "(a_name, a_decoder) = tuple(track_templates.get_decoders_dict().items())[0]\n",
    "a_name"
   ]
  },
  {
   "cell_type": "markdown",
   "id": "9e8d1a25",
   "metadata": {},
   "source": [
    "## 🔷🎨 2024-03-06 - Uni Page Scrollable Version"
   ]
  },
  {
   "cell_type": "code",
   "execution_count": null,
   "id": "3be9e880",
   "metadata": {},
   "outputs": [],
   "source": [
    "# decoder_decoded_epochs_result_dict: generic\n",
    "single_page_app, single_page_paginated_multi_decoder_decoded_epochs_window, single_page_pagination_controller_dict = PhoPaginatedMultiDecoderDecodedEpochsWindow.init_from_track_templates(curr_active_pipeline, track_templates,\n",
    "                                                                                                decoder_decoded_epochs_result_dict=decoder_ripple_filter_epochs_decoder_result_dict, epochs_name='ripple',\n",
    "                                                                                                included_epoch_indicies=None, debug_print=False,\n",
    "                                                                                                params_kwargs={'skip_plotting_most_likely_positions': False, 'enable_per_epoch_action_buttons': False,\n",
    "                                                                                                               'enable_radon_transform_info': False, 'enable_weighted_correlation_info': True,\n",
    "                                                                                                                # 'enable_radon_transform_info': False, 'enable_weighted_correlation_info': False,\n",
    "                                                                                                                # 'disable_y_label': True,\n",
    "                                                                                                                'isPaginatorControlWidgetBackedMode': True,\n",
    "                                                                                                                'enable_update_window_title_on_page_change': False, 'build_internal_callbacks': True,\n",
    "                                                                                                                # 'debug_print': True,\n",
    "                                                                                                                'max_subplots_per_page': 64,\n",
    "                                                                                                                'scrollable_figure': True,\n",
    "                                                                                                                })\n"
   ]
  },
  {
   "cell_type": "code",
   "execution_count": null,
   "id": "0f2565e3",
   "metadata": {},
   "outputs": [],
   "source": [
    "single_page_paginated_multi_decoder_decoded_epochs_window.add_data_overlays(decoder_laps_filter_epochs_decoder_result_dict, decoder_ripple_filter_epochs_decoder_result_dict)\n",
    "_tmp_out_selections = single_page_paginated_multi_decoder_decoded_epochs_window.restore_selections_from_user_annotations()"
   ]
  },
  {
   "cell_type": "code",
   "execution_count": null,
   "id": "90abee48",
   "metadata": {},
   "outputs": [],
   "source": [
    "# for curr_results_obj: LeaveOneOutDecodingAnalysisResult object\n",
    "num_filter_epochs:int = curr_results_obj.active_filter_epochs.n_epochs\n",
    "\n",
    "# `active_filter_epochs_df` native columns approach\n",
    "active_filter_epochs_df = curr_results_obj.active_filter_epochs.to_dataframe().copy()\n",
    "assert np.isin(['score', 'velocity', 'intercept', 'speed'], active_filter_epochs_df.columns).all()\n",
    "epochs_linear_fit_df = active_filter_epochs_df[['score', 'velocity', 'intercept', 'speed']].copy() # get the `epochs_linear_fit_df` as a subset of the filter epochs df\n",
    "# epochs_linear_fit_df approach\n",
    "assert curr_results_obj.all_included_filter_epochs_decoder_result.num_filter_epochs == np.shape(epochs_linear_fit_df)[0]\n",
    "\n",
    "num_filter_epochs:int = curr_results_obj.all_included_filter_epochs_decoder_result.num_filter_epochs # curr_results_obj.num_filter_epochs\n",
    "try:\n",
    "    time_bin_containers: List[BinningContainer] = deepcopy(curr_results_obj.time_bin_containers)\n",
    "except AttributeError as e:\n",
    "    # AttributeError: 'LeaveOneOutDecodingAnalysisResult' object has no attribute 'time_bin_containers' is expected when `curr_results_obj: LeaveOneOutDecodingAnalysisResult - for Long/Short plotting`\n",
    "    time_bin_containers: List[BinningContainer] = deepcopy(curr_results_obj.all_included_filter_epochs_decoder_result.time_bin_containers) # for curr_results_obj: LeaveOneOutDecodingAnalysisResult - for Long/Short plotting\n",
    "\n",
    "radon_transform_data = RadonTransformPlotDataProvider._subfn_build_radon_transform_plotting_data(active_filter_epochs_df=active_filter_epochs_df,\n",
    "            num_filter_epochs = num_filter_epochs, time_bin_containers = time_bin_containers, radon_transform_column_names=['score', 'velocity', 'intercept', 'speed'])\n",
    "    "
   ]
  },
  {
   "cell_type": "code",
   "execution_count": null,
   "id": "4d17b087",
   "metadata": {},
   "outputs": [],
   "source": [
    "paginated_multi_decoder_decoded_epochs_window.export"
   ]
  },
  {
   "cell_type": "code",
   "execution_count": null,
   "id": "592fa458",
   "metadata": {},
   "outputs": [],
   "source": [
    "# _display_long_and_short_stacked_epoch_slices\n",
    "curr_active_pipeline.reload_default_display_functions()\n",
    "_out_dict = curr_active_pipeline.display('_display_long_and_short_stacked_epoch_slices', save_figure=True)"
   ]
  },
  {
   "cell_type": "markdown",
   "id": "ab3f3190",
   "metadata": {},
   "source": [
    "## Other:"
   ]
  },
  {
   "cell_type": "code",
   "execution_count": null,
   "id": "b18d1c13",
   "metadata": {},
   "outputs": [],
   "source": [
    "_out = _out_pagination_controller.plots['radon_transform'][7]\n",
    "extant_line = _out['line'] # matplotlib.lines.Line2D\n",
    "extant_line.linestyle = 'none'\n",
    "# extant_line.draw()\n",
    "\n"
   ]
  },
  {
   "cell_type": "code",
   "execution_count": null,
   "id": "b7e00165",
   "metadata": {},
   "outputs": [],
   "source": [
    "print(list(curr_active_pipeline.filtered_contexts.keys())) # ['maze1_odd', 'maze2_odd', 'maze_odd', 'maze1_even', 'maze2_even', 'maze_even', 'maze1_any', 'maze2_any', 'maze_any']\n",
    "\n",
    "# Converting between decoder names and filtered epoch names:\n",
    "# {'long':'maze1', 'short':'maze2'}\n",
    "# {'LR':'odd', 'RL':'even'}\n",
    "long_LR_name, short_LR_name, long_RL_name, short_RL_name = ['maze1_odd', 'maze2_odd', 'maze1_even', 'maze2_even']\n",
    "decoder_name_to_session_context_name: Dict[str,str] = dict(zip(track_templates.get_decoder_names(), (long_LR_name, long_RL_name, short_LR_name, short_RL_name))) # {'long_LR': 'maze1_odd', 'long_RL': 'maze1_even', 'short_LR': 'maze2_odd', 'short_RL': 'maze2_even'}\n",
    "session_context_to_decoder_name: Dict[str,str] = dict(zip((long_LR_name, long_RL_name, short_LR_name, short_RL_name), track_templates.get_decoder_names())) # {'maze1_odd': 'long_LR', 'maze1_even': 'long_RL', 'maze2_odd': 'short_LR', 'maze2_even': 'short_RL'}\n",
    "\n",
    "decoder_name_to_session_context_name\n",
    "session_context_to_decoder_name"
   ]
  },
  {
   "cell_type": "code",
   "execution_count": null,
   "id": "5896f620",
   "metadata": {},
   "outputs": [],
   "source": [
    "active_num_slices: int = _out_pagination_controller.params.active_num_slices\n",
    "single_plot_fixed_height: float = _out_pagination_controller.params.single_plot_fixed_height\n",
    "all_plots_height: float = _out_pagination_controller.params.all_plots_height\n",
    "print(f'all_plots_height: {all_plots_height}')"
   ]
  },
  {
   "cell_type": "code",
   "execution_count": null,
   "id": "ad67f5d1",
   "metadata": {},
   "outputs": [],
   "source": [
    "laps_weighted_corr_merged_df"
   ]
  },
  {
   "cell_type": "code",
   "execution_count": null,
   "id": "64fed6b8",
   "metadata": {},
   "outputs": [],
   "source": [
    "from PendingNotebookCode import _add_maze_id_to_epochs\n",
    "\n",
    "\n",
    "## Add new weighted correlation results as new columns in existing filter_epochs df:\n",
    "active_filter_epochs = long_results_obj.active_filter_epochs\n",
    "# Add the maze_id to the active_filter_epochs so we can see how properties change as a function of which track the replay event occured on:\n",
    "active_filter_epochs = _add_maze_id_to_epochs(active_filter_epochs, short_session.t_start)\n",
    "active_filter_epochs._df['weighted_corr_LONG'] = epoch_long_weighted_corr_results[:,0]\n",
    "active_filter_epochs._df['weighted_corr_SHORT'] = epoch_short_weighted_corr_results[:,0]\n",
    "active_filter_epochs._df['weighted_corr_spearman_LONG'] = epoch_long_weighted_corr_results[:,1]\n",
    "active_filter_epochs._df['weighted_corr_spearman_SHORT'] = epoch_short_weighted_corr_results[:,1]\n",
    "\n",
    "\n",
    "active_filter_epochs\n",
    "active_filter_epochs.to_dataframe()\n",
    "## plot the `weighted_corr_LONG` over time\n",
    "\n",
    "# fig, axes = plt.subplots(ncols=1, nrows=active_num_rows, sharex=True, sharey=sharey, figsize=figsize)\n",
    "\n",
    "## Weighted Correlation during replay epochs:\n",
    "_out_ax = active_filter_epochs._df.plot.scatter(x='start', y='weighted_corr_LONG', title='weighted_corr during replay events', marker=\"s\",  s=5, label=f'Long', alpha=0.8)\n",
    "active_filter_epochs._df.plot.scatter(x='start', y='weighted_corr_SHORT', xlabel='Replay Epoch Time', ylabel='Weighted Correlation', ax=_out_ax, marker=\"s\", c='r', s=5, label=f'Short', alpha=0.8)\n",
    "_out_ax.axhline(y=0.0, linewidth=1, color='k') # the y=0.0 line\n",
    "## Weighted Spearman Correlation during replay epochs:\n",
    "_out_ax = active_filter_epochs._df.plot.scatter(x='start', y='weighted_corr_spearman_LONG', title='weighted_spearman_corr during replay events', marker=\"s\",  s=5, label=f'Long', alpha=0.8)\n",
    "active_filter_epochs._df.plot.scatter(x='start', y='weighted_corr_spearman_SHORT', xlabel='Replay Epoch Time', ylabel='Weighted Spearman Correlation', ax=_out_ax, marker=\"s\", c='r', s=5, label=f'Short', alpha=0.8)\n",
    "_out_ax.axhline(y=0.0, linewidth=1, color='k') # the y=0.0 line\n",
    "_out_ax = active_filter_epochs._df.plot.scatter(x='start', y='score_LONG', title='Radon Transform Score during replay events', marker=\"s\",  s=5, label=f'Long', alpha=0.8)\n",
    "active_filter_epochs._df.plot.scatter(x='start', y='score_SHORT', xlabel='Replay Epoch Time', ylabel='Replay Radon Transform Score', ax=_out_ax, marker=\"s\", c='r', s=5, label=f'Short', alpha=0.8)\n",
    "_out_ax.axhline(y=0.0, linewidth=1, color='k') # the y=0.0 line\n"
   ]
  },
  {
   "cell_type": "code",
   "execution_count": null,
   "id": "dfe3e18e",
   "metadata": {},
   "outputs": [],
   "source": [
    "curr_active_pipeline.reload_default_display_functions()\n",
    "example_stacked_epoch_graphics = curr_active_pipeline.display('_display_long_and_short_stacked_epoch_slices', defer_render=False, save_figure=False)\n"
   ]
  },
  {
   "cell_type": "markdown",
   "id": "7ad4f9a0",
   "metadata": {},
   "source": [
    "# 2024-02-15 - Do simple spike-t vs. template pf peak correlation like Kamran suggested this morning\n",
    "\n",
    "Replays can be of trajectories on either the current track configuration or on a temporally distant one (such as a trajectory on the long track after the track has been shortened). \n",
    "The goal of the decoder scoring methods are to evaluate how likely each decoder was. This means for each Epoch we obtain a score for all four decoders: Long_LR, Long_RL, Short_LR, Short_RL\n",
    "\n",
    "#### `posterior decoder likelihoods` - This scoring method produces a probability that the\n",
    "\n",
    "#### Radon Transform - TODO\n",
    "\n",
    "#### `compute_simple_spike_time_v_pf_peak_x_by_epoch` - This epoch scoring metric plots the placefield peak x position against the time in seconds of each spike relative to the start of the epoch. \n",
    "\n"
   ]
  },
  {
   "cell_type": "markdown",
   "id": "b8d1e967",
   "metadata": {},
   "source": [
    "## TODO 2024-02-15 8pm - Add in to previous result:"
   ]
  },
  {
   "cell_type": "code",
   "execution_count": null,
   "id": "9dd539a1",
   "metadata": {},
   "outputs": [],
   "source": [
    "# (laps_radon_transform_merged_df, ripple_radon_transform_merged_df, laps_weighted_corr_merged_df, ripple_weighted_corr_merged_df)\n",
    "# (laps_radon_transform_merged_df, ripple_radon_transform_merged_df, laps_weighted_corr_merged_df, ripple_weighted_corr_merged_df)\n",
    "laps_simple_pf_pearson_merged_df\n",
    "# laps_radon_transform_merged_df"
   ]
  },
  {
   "cell_type": "code",
   "execution_count": null,
   "id": "57565cbb",
   "metadata": {},
   "outputs": [],
   "source": [
    "directional_lap_epochs_dict = dict(zip((long_LR_name, long_RL_name, short_LR_name, short_RL_name), (long_LR_epochs_obj, long_RL_epochs_obj, short_LR_epochs_obj, short_RL_epochs_obj)))\n",
    "directional_active_lap_pf_results_dicts = TrialByTrialActivity.directional_compute_trial_by_trial_correlation_matrix(active_pf_dt=active_pf_dt, directional_lap_epochs_dict=directional_lap_epochs_dict, included_neuron_IDs=any_decoder_neuron_IDs)\n",
    "\n",
    "decoder_aclu_peak_location_df_merged = deepcopy(track_templates.get_decoders_aclu_peak_location_df(width=None))\n",
    "# decoder_aclu_peak_location_df_merged[np.isin(decoder_aclu_peak_location_df_merged['aclu'], both_included_neuron_stats_df.aclu.to_numpy())]\n",
    "decoder_aclu_peak_location_df_merged\n"
   ]
  },
  {
   "cell_type": "code",
   "execution_count": null,
   "id": "74381521",
   "metadata": {},
   "outputs": [],
   "source": [
    "a_result: TrialByTrialActivity = directional_active_lap_pf_results_dicts['long_LR']\n",
    "# a_result.sp\n"
   ]
  },
  {
   "cell_type": "markdown",
   "id": "8421fd1a",
   "metadata": {},
   "source": [
    "# 💾 2024-03-04 - Export `DecoderDecodedEpochsResult` CSVs with user annotations for epochs:"
   ]
  },
  {
   "cell_type": "code",
   "execution_count": null,
   "id": "6ae0ae73",
   "metadata": {
    "notebookRunGroups": {
     "groupValue": ""
    }
   },
   "outputs": [],
   "source": [
    "from neuropy.core.epoch import ensure_dataframe\n",
    "from pyphoplacecellanalysis.General.Pipeline.Stages.ComputationFunctions.MultiContextComputationFunctions.DirectionalPlacefieldGlobalComputationFunctions import DecoderDecodedEpochsResult\n",
    "\n",
    "# 2024-03-04 - Filter out the epochs based on the criteria:\n",
    "_, _, global_epoch_name = curr_active_pipeline.find_LongShortGlobal_epoch_names()\n",
    "filtered_epochs_df, active_spikes_df = filter_and_update_epochs_and_spikes(curr_active_pipeline, global_epoch_name, track_templates, epoch_id_key_name='ripple_epoch_id', no_interval_fill_value=-1)\n",
    "filtered_valid_epoch_times = filtered_epochs_df[['start', 'stop']].to_numpy()\n",
    "\n",
    "## 2024-03-08 - Also constrain the user-selected ones (just to try it):\n",
    "decoder_user_selected_epoch_times_dict, any_user_selected_epoch_times = DecoderDecodedEpochsResult.load_user_selected_epoch_times(curr_active_pipeline, track_templates=track_templates)\n",
    "\n",
    "a_result_dict = deepcopy(directional_decoders_epochs_decode_result.decoder_ripple_filter_epochs_decoder_result_dict)\n",
    "# {a_name:ensure_dataframe(a_result.filter_epochs) for a_name, a_result in a_result_dict.items()}\n",
    "\n",
    "directional_decoders_epochs_decode_result.add_all_extra_epoch_columns(curr_active_pipeline, track_templates=track_templates, required_min_percentage_of_active_cells=0.33333333, debug_print=True)\n",
    "\n",
    "# 🟪 2024-02-29 - `compute_pho_heuristic_replay_scores`\n",
    "directional_decoders_epochs_decode_result.decoder_ripple_filter_epochs_decoder_result_dict, _out_new_scores = HeuristicReplayScoring.compute_all_heuristic_scores(track_templates=track_templates, a_decoded_filter_epochs_decoder_result_dict=directional_decoders_epochs_decode_result.decoder_ripple_filter_epochs_decoder_result_dict)\n",
    "\n",
    "## Merge the heuristic columns into the wcorr df columns for exports\n",
    "directional_decoders_epochs_decode_result.ripple_weighted_corr_merged_df\n",
    "\n",
    "# {a_name:DecoderDecodedEpochsResult.try_add_is_user_annotated_epoch_column(ensure_dataframe(a_result.filter_epochs), any_good_selected_epoch_times=filtered_valid_epoch_times) for a_name, a_result in a_result_dict.items()}\n",
    "\n",
    "for a_name, a_result in a_result_dict.items():\n",
    "    # a_result.add_all_extra_epoch_columns(curr_active_pipeline, track_templates=track_templates, required_min_percentage_of_active_cells=0.33333333, debug_print=True)\n",
    "\n",
    "    ## Merge the heuristic columns into the wcorr df columns for exports\n",
    "    # directional_decoders_epochs_decode_result.ripple_weighted_corr_merged_df\n",
    "    a_wcorr_result = directional_decoders_epochs_decode_result.decoder_ripple_weighted_corr_df_dict[a_name]\n",
    "    \n",
    "    # did_update_user_annotation_col = DecoderDecodedEpochsResult.try_add_is_user_annotated_epoch_column(ensure_dataframe(a_result.filter_epochs), any_good_selected_epoch_times=any_user_selected_epoch_times, t_column_names=None)\n",
    "    # print(f'did_update_user_annotation_col: {did_update_user_annotation_col}')\n",
    "    # did_update_is_valid = DecoderDecodedEpochsResult.try_add_is_valid_epoch_column(ensure_dataframe(a_result.filter_epochs), any_good_selected_epoch_times=filtered_valid_epoch_times, t_column_names=None)\n",
    "    # print(f'did_update_is_valid: {did_update_is_valid}')\n",
    "\n",
    "# ['start',]\n",
    "\n",
    "a_result_dict = deepcopy(directional_decoders_epochs_decode_result.decoder_ripple_filter_epochs_decoder_result_dict)\n",
    "\n",
    "# {a_name:ensure_dataframe(a_result.filter_epochs) for a_name, a_result in a_result_dict.items()}"
   ]
  },
  {
   "cell_type": "code",
   "execution_count": null,
   "id": "e04fb7e8",
   "metadata": {},
   "outputs": [],
   "source": [
    "_out_new_scores "
   ]
  },
  {
   "cell_type": "code",
   "execution_count": 25,
   "id": "7ba9f746",
   "metadata": {
    "notebookRunGroups": {
     "groupValue": "1"
    }
   },
   "outputs": [
    {
     "name": "stdout",
     "output_type": "stream",
     "text": [
      "collected_outputs_path: \"K:\\scratch\\collected_outputs\"\n",
      "CURR_BATCH_OUTPUT_PREFIX: 2024-04-24_APOGEE-2006-6-09_1-22-43\n",
      "\tComputation complete. Exporting .CSVs...\n",
      "len(active_epochs_df): 412\n",
      "min_num_unique_aclu_inclusions: 18\n",
      "len(active_epochs_df): 136\n",
      "num_user_selected_times: 49\n",
      "adding user annotation column!\n",
      "\t succeded at getting 49 selected indicies (of 49 user selections) for ripple_weighted_corr_merged_df. got 49 indicies!\n",
      "num_valid_epoch_times: 136\n",
      "adding valid filtered epochs column!\n",
      "\t succeded at getting 136 selected indicies (of 136 valid filter epoch times) for ripple_weighted_corr_merged_df. got 136 indicies!\n",
      "num_user_selected_times: 49\n",
      "adding user annotation column!\n",
      "\t succeded at getting 49 selected indicies (of 49 user selections) for ripple_simple_pf_pearson_merged_df. got 49 indicies!\n",
      "num_valid_epoch_times: 136\n",
      "adding valid filtered epochs column!\n",
      "\t succeded at getting 136 selected indicies (of 136 valid filter epoch times) for ripple_simple_pf_pearson_merged_df. got 136 indicies!\n",
      "\t\tsuccessfully exported directional_decoders_epochs_decode_result to K:\\scratch\\collected_outputs!\n",
      "\t\t\tCSV Paths: laps_weighted_corr_merged_df: \"file:///K:/scratch/collected_outputs/2024-05-08_1200PM-kdiba_gor01_one_2006-6-09_1-22-43-%28laps_weighted_corr_merged_df%29_tbin-0.2.csv\"\n",
      "ripple_weighted_corr_merged_df: \"file:///K:/scratch/collected_outputs/2024-05-08_1200PM-kdiba_gor01_one_2006-6-09_1-22-43-%28ripple_weighted_corr_merged_df%29_tbin-0.025.csv\"\n",
      "laps_simple_pf_pearson_merged_df: \"file:///K:/scratch/collected_outputs/2024-05-08_1200PM-kdiba_gor01_one_2006-6-09_1-22-43-%28laps_simple_pf_pearson_merged_df%29_tbin-0.2.csv\"\n",
      "ripple_simple_pf_pearson_merged_df: \"file:///K:/scratch/collected_outputs/2024-05-08_1200PM-kdiba_gor01_one_2006-6-09_1-22-43-%28ripple_simple_pf_pearson_merged_df%29_tbin-0.025.csv\"\n",
      "ripple_all_scores_merged_df: \"file:///K:/scratch/collected_outputs/2024-05-08_1200PM-kdiba_gor01_one_2006-6-09_1-22-43-%28ripple_all_scores_merged_df%29_tbin-0.025.csv\"\n",
      "\n"
     ]
    }
   ],
   "source": [
    "from pyphoplacecellanalysis.General.Pipeline.Stages.ComputationFunctions.MultiContextComputationFunctions.DirectionalPlacefieldGlobalComputationFunctions import DecoderDecodedEpochsResult\n",
    "from pathlib import Path\n",
    "\n",
    "# 💾 export_csvs\n",
    "\n",
    "BATCH_DATE_TO_USE: str = '2024-04-24_APOGEE' # TODO: Change this as needed, templating isn't actually doing anything rn.\n",
    "\n",
    "known_collected_outputs_paths = [Path(v).resolve() for v in ('C:/Users/pho/repos/Spike3DWorkEnv/Spike3D/output/collected_outputs', '/Users/pho/Dropbox (University of Michigan)/MED-DibaLabDropbox/Data/Pho/Outputs/output/collected_outputs', '/home/halechr/cloud/turbo/Data/Output/collected_outputs', '/home/halechr/FastData/gen_scripts/', '/home/halechr/FastData/collected_outputs/', 'output/gen_scripts/')]\n",
    "collected_outputs_path = find_first_extant_path(known_collected_outputs_paths)\n",
    "assert collected_outputs_path.exists(), f\"collected_outputs_path: '{collected_outputs_path}' does not exist! Is the right computer's config commented out above?\"\n",
    "print(f'collected_outputs_path: \"{collected_outputs_path}\"')\n",
    "active_context = curr_active_pipeline.get_session_context()\n",
    "curr_session_name: str = curr_active_pipeline.session_name # '2006-6-08_14-26-15'\n",
    "CURR_BATCH_OUTPUT_PREFIX: str = f\"{BATCH_DATE_TO_USE}-{curr_session_name}\"\n",
    "print(f'CURR_BATCH_OUTPUT_PREFIX: {CURR_BATCH_OUTPUT_PREFIX}')\n",
    "\n",
    "decoder_user_selected_epoch_times_dict, any_good_selected_epoch_times = DecoderDecodedEpochsResult.load_user_selected_epoch_times(curr_active_pipeline, track_templates=track_templates)\n",
    "print(f'\\tComputation complete. Exporting .CSVs...')\n",
    "\n",
    "# 2024-03-04 - Filter out the epochs based on the criteria:\n",
    "_, _, global_epoch_name = curr_active_pipeline.find_LongShortGlobal_epoch_names()\n",
    "filtered_epochs_df, active_spikes_df = filter_and_update_epochs_and_spikes(curr_active_pipeline, global_epoch_name, track_templates, epoch_id_key_name='ripple_epoch_id', no_interval_fill_value=-1)\n",
    "filtered_valid_epoch_times = filtered_epochs_df[['start', 'stop']].to_numpy()\n",
    "\n",
    "## Export CSVs:\n",
    "t_start, t_delta, t_end = curr_active_pipeline.find_LongShortDelta_times()\n",
    "_output_csv_paths = directional_decoders_epochs_decode_result.export_csvs(parent_output_path=collected_outputs_path.resolve(), active_context=active_context, session_name=curr_session_name, curr_session_t_delta=t_delta,\n",
    "                                                                              user_annotation_selections={'ripple': any_good_selected_epoch_times},\n",
    "                                                                              valid_epochs_selections={'ripple': filtered_valid_epoch_times})\n",
    "\n",
    "print(f'\\t\\tsuccessfully exported directional_decoders_epochs_decode_result to {collected_outputs_path}!')\n",
    "_output_csv_paths_info_str: str = '\\n'.join([f'{a_name}: \"{file_uri_from_path(a_path)}\"' for a_name, a_path in _output_csv_paths.items()])\n",
    "# print(f'\\t\\t\\tCSV Paths: {_output_csv_paths}\\n')\n",
    "print(f'\\t\\t\\tCSV Paths: {_output_csv_paths_info_str}\\n')\n",
    "\n",
    "# {'laps_weighted_corr_merged_df': WindowsPath('C:/Users/pho/repos/Spike3DWorkEnv/Spike3D/output/collected_outputs/2024-02-16_0750PM-kdiba_gor01_two_2006-6-07_16-40-19-(laps_weighted_corr_merged_df)_tbin-0.025.csv'),\n",
    "#  'ripple_weighted_corr_merged_df': WindowsPath('C:/Users/pho/repos/Spike3DWorkEnv/Spike3D/output/collected_outputs/2024-02-16_0750PM-kdiba_gor01_two_2006-6-07_16-40-19-(ripple_weighted_corr_merged_df)_tbin-0.025.csv'),\n",
    "#  'laps_simple_pf_pearson_merged_df': WindowsPath('C:/Users/pho/repos/Spike3DWorkEnv/Spike3D/output/collected_outputs/2024-02-16_0750PM-kdiba_gor01_two_2006-6-07_16-40-19-(laps_simple_pf_pearson_merged_df)_tbin-0.025.csv'),\n",
    "#  'ripple_simple_pf_pearson_merged_df': WindowsPath('C:/Users/pho/repos/Spike3DWorkEnv/Spike3D/output/collected_outputs/2024-02-16_0750PM-kdiba_gor01_two_2006-6-07_16-40-19-(ripple_simple_pf_pearson_merged_df)_tbin-0.025.csv')}\n"
   ]
  },
  {
   "cell_type": "code",
   "execution_count": null,
   "id": "88335249",
   "metadata": {},
   "outputs": [],
   "source": [
    "any_good_selected_epoch_times"
   ]
  },
  {
   "cell_type": "markdown",
   "id": "f7420982",
   "metadata": {},
   "source": [
    "# 2024-03-04 - Filter out the epochs based on the criteria:"
   ]
  },
  {
   "cell_type": "code",
   "execution_count": null,
   "id": "4dcb021f",
   "metadata": {},
   "outputs": [],
   "source": [
    "# from neuropy.utils.mixins.time_slicing import add_epochs_id_identity\n",
    "from pyphoplacecellanalysis.General.Pipeline.Stages.ComputationFunctions.MultiContextComputationFunctions.DirectionalPlacefieldGlobalComputationFunctions import filter_and_update_epochs_and_spikes\n",
    "\n",
    "# 2024-03-04 - Filter out the epochs based on the criteria:\n",
    "filtered_epochs_df, active_spikes_df = filter_and_update_epochs_and_spikes(curr_active_pipeline, global_epoch_name, track_templates, required_min_percentage_of_active_cells=0.333333, epoch_id_key_name='ripple_epoch_id', no_interval_fill_value=-1)\n",
    "filtered_epochs_df"
   ]
  },
  {
   "cell_type": "markdown",
   "id": "4c68233f",
   "metadata": {},
   "source": [
    "# 2024-03-27 - Look at active set cells"
   ]
  },
  {
   "cell_type": "code",
   "execution_count": null,
   "id": "7674b4e5",
   "metadata": {},
   "outputs": [],
   "source": [
    "track_templates"
   ]
  },
  {
   "cell_type": "code",
   "execution_count": null,
   "id": "b7a0cb5e",
   "metadata": {},
   "outputs": [],
   "source": [
    "from neuropy.utils.mixins.HDF5_representable import HDFConvertableEnum\n",
    "from pyphoplacecellanalysis.General.Pipeline.Stages.ComputationFunctions.MultiContextComputationFunctions.LongShortTrackComputations import JonathanFiringRateAnalysisResult\n",
    "from pyphoplacecellanalysis.General.Pipeline.Stages.ComputationFunctions.MultiContextComputationFunctions.LongShortTrackComputations import TruncationCheckingResults\n",
    "\n",
    "\n",
    "## long_short_endcap_analysis:\n",
    "truncation_checking_result: TruncationCheckingResults = curr_active_pipeline.global_computation_results.computed_data.long_short_endcap\n",
    "\n",
    "truncation_checking_result: TruncationCheckingResults = curr_active_pipeline.global_computation_results.computed_data.long_short_endcap\n",
    "truncation_checking_aclus_dict, jonathan_firing_rate_analysis_result.neuron_replay_stats_df = truncation_checking_result.build_truncation_checking_aclus_dict(neuron_replay_stats_df=jonathan_firing_rate_analysis_result.neuron_replay_stats_df)\n",
    "\n",
    "frs_index_inclusion_magnitude:float = 0.5\n",
    "\n",
    "jonathan_firing_rate_analysis_result = JonathanFiringRateAnalysisResult(**curr_active_pipeline.global_computation_results.computed_data.jonathan_firing_rate_analysis.to_dict())\n",
    "\n",
    "## Unrefined:\n",
    "# neuron_replay_stats_df, short_exclusive, long_exclusive, BOTH_subset, EITHER_subset, XOR_subset, NEITHER_subset = jonathan_firing_rate_analysis_result.get_cell_track_partitions(frs_index_inclusion_magnitude=frs_index_inclusion_magnitude)\n",
    "\n",
    "## Refine the LxC/SxC designators using the firing rate index metric:\n",
    "\n",
    "## Get global `long_short_fr_indicies_analysis`:\n",
    "long_short_fr_indicies_analysis_results = curr_active_pipeline.global_computation_results.computed_data['long_short_fr_indicies_analysis']\n",
    "long_short_fr_indicies_df = long_short_fr_indicies_analysis_results['long_short_fr_indicies_df']\n",
    "jonathan_firing_rate_analysis_result.refine_exclusivity_by_inst_frs_index(long_short_fr_indicies_df, frs_index_inclusion_magnitude=frs_index_inclusion_magnitude)\n",
    "\n",
    "neuron_replay_stats_df, *exclusivity_tuple = jonathan_firing_rate_analysis_result.get_cell_track_partitions(frs_index_inclusion_magnitude=frs_index_inclusion_magnitude)\n",
    "# short_exclusive, long_exclusive, BOTH_subset, EITHER_subset, XOR_subset, NEITHER_subset = exclusivity_tuple\n",
    "exclusivity_aclus_tuple = [v.track_exclusive_aclus for v in exclusivity_tuple]\n",
    "exclusivity_aclus_dict = dict(zip(['short_exclusive', 'long_exclusive', 'BOTH', 'EITHER', 'XOR', 'NEITHER'], exclusivity_aclus_tuple))\n",
    "any_aclus = union_of_arrays(*exclusivity_aclus_tuple)\n",
    "exclusivity_aclus_dict['any'] = any_aclus\n",
    "refined_exclusivity_aclus_tuple = [v.get_refined_track_exclusive_aclus() for v in exclusivity_tuple]\n",
    "neuron_replay_stats_df: pd.DataFrame = HDFConvertableEnum.convert_dataframe_columns_for_hdf(neuron_replay_stats_df)\n",
    "\n",
    "# These keys exhaustively span all aclus:\n",
    "exhaustive_key_names = ['short_exclusive', 'long_exclusive', 'BOTH', 'NEITHER']\n",
    "assert np.all(any_aclus == union_of_arrays(*[exclusivity_aclus_dict[k] for k in exhaustive_key_names]))\n",
    "exhaustive_key_dict = {k:v for k, v in exclusivity_aclus_dict.items() if k in exhaustive_key_names}\n",
    "\n",
    "\n",
    "neuron_replay_stats_df"
   ]
  },
  {
   "cell_type": "code",
   "execution_count": null,
   "id": "2294094c",
   "metadata": {},
   "outputs": [],
   "source": [
    "old_any_aclus = np.array([  3,   4,   5,   7,  10,  11,  13,  14,  15,  17,  23,  24,  25,  26,  31,  32,  33,  34,  45,  49,  50,  51,  52,  54,  55,  58,  61,  64,  68,  69,  70,  71,  73,  74,  75,  76,  78,  81,  82,  83,  84,  85,  87,  90,  92,  93,  96,  97, 102, 109])\n",
    "old_appearing_aclus = np.array([ 4, 11, 13, 23, 52, 58, 87])"
   ]
  },
  {
   "cell_type": "code",
   "execution_count": null,
   "id": "af361ab4",
   "metadata": {},
   "outputs": [],
   "source": [
    "any_aclus = union_of_arrays(*[v for v in truncation_checking_aclus_dict.values() if len(v) > 0])\n",
    "any_aclus\n"
   ]
  },
  {
   "cell_type": "code",
   "execution_count": null,
   "id": "2385b808",
   "metadata": {},
   "outputs": [],
   "source": [
    "neuron_replay_stats_df"
   ]
  },
  {
   "cell_type": "code",
   "execution_count": null,
   "id": "520650ce",
   "metadata": {},
   "outputs": [],
   "source": [
    "from neuropy.core.ratemap import Ratemap\n",
    "from neuropy.analyses.placefields import PfND\n",
    "from pyphoplacecellanalysis.SpecificResults.PendingNotebookCode import perform_sweep_lap_groud_truth_performance_testing, _perform_variable_time_bin_lap_groud_truth_performance_testing\n",
    "\n",
    "desired_laps_decoding_time_bin_size: float = 0.75\n",
    "\n",
    "## INPUTS: exclusivity_aclus_tuple, desired_laps_decoding_time_bin_size: float\n",
    "# short_exclusive, long_exclusive, BOTH_subset, EITHER_subset, XOR_subset, NEITHER_subset = exclusivity_aclus_tuple\n",
    "# included_neuron_ids_list = [short_exclusive, long_exclusive, BOTH_subset, EITHER_subset, XOR_subset, NEITHER_subset]\n",
    "\n",
    "# included_neuron_ids_list = [*exclusivity_aclus_tuple]\n",
    "\n",
    "## INPUTS: truncation_checking_aclus_dict\n",
    "included_neuron_ids_list = list(truncation_checking_aclus_dict.values())\n",
    "row_names = list(truncation_checking_aclus_dict.keys())\n",
    "\n",
    "_output_tuples_list = perform_sweep_lap_groud_truth_performance_testing(curr_active_pipeline, \n",
    "                                                                        included_neuron_ids_list=included_neuron_ids_list,\n",
    "                                                                        desired_laps_decoding_time_bin_size=desired_laps_decoding_time_bin_size)\n",
    "\n",
    "percent_laps_correctness_df: pd.DataFrame = pd.DataFrame.from_records([complete_decoded_context_correctness_tuple.percent_correct_tuple for (a_directional_merged_decoders_result, result_laps_epochs_df, complete_decoded_context_correctness_tuple) in _output_tuples_list],\n",
    "                          columns=(\"track_ID_correct\", \"dir_correct\", \"complete_correct\"), index=row_names)\n",
    "percent_laps_correctness_df\n"
   ]
  },
  {
   "cell_type": "markdown",
   "id": "0fb00384",
   "metadata": {},
   "source": [
    "# 2024-03-29 - Rigorous Decoder Performance assessment\n",
    "Quantify cell contributions to decoders"
   ]
  },
  {
   "cell_type": "code",
   "execution_count": 26,
   "id": "1f9715a6",
   "metadata": {
    "notebookRunGroups": {
     "groupValue": "1"
    }
   },
   "outputs": [
    {
     "name": "stdout",
     "output_type": "stream",
     "text": [
      "training_data_portion: 0.8333333333333334, test_data_portion: 0.16666666666666663\n"
     ]
    }
   ],
   "source": [
    "# Inputs: all_directional_pf1D_Decoder, alt_directional_merged_decoders_result\n",
    "from pyphoplacecellanalysis.General.Pipeline.Stages.ComputationFunctions.MultiContextComputationFunctions.DirectionalPlacefieldGlobalComputationFunctions import TrainTestLapsSplitting, CustomDecodeEpochsResult, decoder_name, epoch_split_key, get_proper_global_spikes_df\n",
    "\n",
    "## INPUTS: directional_laps_results, track_templates, directional_laps_results\n",
    "\n",
    "## Split the lap epochs into training and test periods.\n",
    "##### Ideally we could test the lap decoding error by sampling randomly from the time bins and omitting 1/6 of time bins from the placefield building (effectively the training data). These missing bins will be used as the \"test data\" and the decoding error will be computed by decoding them and subtracting the actual measured position during these bins.\n",
    "\n",
    "# ### Get the laps to train on\n",
    "# training_data_portion: float = 9.0/10.0\n",
    "# test_data_portion: float = 1.0 - training_data_portion # test data portion is 1/6 of the total duration\n",
    "# print(f'training_data_portion: {training_data_portion}, test_data_portion: {test_data_portion}')\n",
    "\n",
    "# decoders_dict = deepcopy(track_templates.get_decoders_dict())\n",
    "\n",
    "# # debug_output_hdf5_file_path = Path('output', 'laps_train_test_split.h5').resolve()\n",
    "# debug_output_hdf5_file_path = None\n",
    "\n",
    "# # (train_epochs_dict, test_epochs_dict), train_lap_specific_pf1D_Decoder_dict, split_train_test_lap_specific_configs = TrainTestLapsSplitting.compute_train_test_split_laps_decoders(directional_laps_results, track_templates, training_data_portion=training_data_portion,\n",
    "# #                                                                                                                                                              debug_output_hdf5_file_path=debug_output_hdf5_file_path, debug_plot=False, debug_print=True)  # type: Tuple[Tuple[Dict[str, Any], Dict[str, Any]], Dict[str, BasePositionDecoder], Any]\n",
    "\n",
    "# train_lap_specific_pf1D_Decoder_dict: Dict[str, BasePositionDecoder] = train_lap_specific_pf1D_Decoder_dict\n",
    "\n",
    "\n",
    "from pyphoplacecellanalysis.General.Pipeline.Stages.ComputationFunctions.MultiContextComputationFunctions.DirectionalPlacefieldGlobalComputationFunctions import TrainTestSplitResult\n",
    "\n",
    "directional_train_test_split_result: TrainTestSplitResult = curr_active_pipeline.global_computation_results.computed_data.get('TrainTestSplit', None)\n",
    "\n",
    "training_data_portion: float = directional_train_test_split_result.training_data_portion\n",
    "test_data_portion: float = directional_train_test_split_result.test_data_portion\n",
    "print(f'training_data_portion: {training_data_portion}, test_data_portion: {test_data_portion}')\n",
    "\n",
    "test_epochs_dict: Dict[str, pd.DataFrame] = directional_train_test_split_result.test_epochs_dict\n",
    "train_epochs_dict: Dict[str, pd.DataFrame] = directional_train_test_split_result.train_epochs_dict\n",
    "train_lap_specific_pf1D_Decoder_dict: Dict[str, BasePositionDecoder] = directional_train_test_split_result.train_lap_specific_pf1D_Decoder_dict\n",
    "\n",
    "\n",
    "# Tuple[Tuple[Dict, Dict], Dict[str, BasePositionDecoder], Dict]\n",
    "\n",
    "# OUTPUTS: train_test_split_laps_df_dict\n",
    "\n",
    "# ## Get test epochs:\n",
    "# train_epoch_names: List[str] = [k for k in train_test_split_laps_df_dict.keys() if k.endswith('_train')]\n",
    "# test_epoch_names: List[str] = [k for k in train_test_split_laps_df_dict.keys() if k.endswith('_test')]\n",
    "# train_lap_specific_pf1D_Decoder_dict: Dict[str,BasePositionDecoder] = {k.split('_train', maxsplit=1)[0]:split_train_test_lap_specific_pf1D_Decoder_dict[k] for k in train_epoch_names} # the `k.split('_train', maxsplit=1)[0]` part just gets the original key like 'long_LR'\n",
    "# test_epochs_dict: Dict[str,Epoch] = {k.split('_test', maxsplit=1)[0]:v for k,v in train_test_split_laps_epoch_obj_dict.items() if k.endswith('_test')} # the `k.split('_test', maxsplit=1)[0]` part just gets the original key like 'long_LR'\n",
    "\n",
    "# a_training_test_split_laps_epoch_obj_dict[a_training_test_names[0]].to_hdf('output/laps_train_test_split.h5', f'{a_train_epoch_name}/laps_training_df')\n"
   ]
  },
  {
   "cell_type": "code",
   "execution_count": null,
   "id": "e5d0456a",
   "metadata": {},
   "outputs": [],
   "source": [
    "from pyphoplacecellanalysis.General.Pipeline.Stages.ComputationFunctions.MultiContextComputationFunctions.DirectionalPlacefieldGlobalComputationFunctions import _do_custom_decode_epochs_dict\n",
    "\n",
    "active_laps_decoding_time_bin_size: float = 0.75\n",
    "\n",
    "global_spikes_df: pd.DataFrame = get_proper_global_spikes_df(curr_active_pipeline)\n",
    "global_measured_position_df: pd.DataFrame = deepcopy(curr_active_pipeline.sess.position.to_dataframe()).dropna(subset=['lap']) # computation_result.sess.position.to_dataframe()\n",
    "\n",
    "# Dict[epoch_split_key, Dict[decoder_name, CustomDecodeEpochsResult]]\n",
    "\n",
    "## INPUTS: flat_epochs_to_decode_dict, active_laps_decoding_time_bin_size\n",
    "## Decoding of the test epochs (what matters):\n",
    "test_decoder_results_dict: Dict[decoder_name, CustomDecodeEpochsResult] = _do_custom_decode_epochs_dict(global_spikes_df=global_spikes_df, global_measured_position_df=global_measured_position_df,\n",
    "                                                                                                                                 pf1D_Decoder_dict=train_lap_specific_pf1D_Decoder_dict,\n",
    "                                                                                                                                 epochs_to_decode_dict=test_epochs_dict, \n",
    "                                                                                                                                 decoding_time_bin_size=active_laps_decoding_time_bin_size,\n",
    "                                                                                                                                 decoder_and_epoch_keys_independent=False)\n",
    "\n",
    "\n",
    "# flat_epochs_to_decode_dict = {f'{k}_train':v for k,v in train_epochs_dict.items()} | {f'{k}_test':v for k,v in test_epochs_dict.items()} # (train_epochs_dict, test_epochs_dict)\n",
    "# final_decoder_results_dict: Dict[epoch_split_key, Dict[decoder_name, CustomDecodeEpochsResult]] = _do_custom_decode_epochs_dict(curr_active_pipeline,\n",
    "#                                                                                                                                  pf1D_Decoder_dict=train_lap_specific_pf1D_Decoder_dict,\n",
    "#                                                                                                                                  epochs_to_decode_dict=flat_epochs_to_decode_dict,\n",
    "#                                                                                                                                  decoding_time_bin_size=active_laps_decoding_time_bin_size,\n",
    "#                                                                                                                                  decoder_and_epoch_keys_independent=True) # epochs_to_decode_dict.keys(): ['long_LR_train', 'long_RL_train', 'short_LR_train', 'short_RL_train', 'long_LR_test', 'long_RL_test', 'short_LR_test', 'short_RL_test']\n",
    "# matched_decoder_epochs_final_decoder_results_dict: Dict[decoder_name, CustomDecodeEpochsResult] = {k:v[k.replace('_train', '').replace('_test', '')] for k, v in final_decoder_results_dict.items()} # flatten down to only the matching decoder\n",
    "# matched_decoder_epochs_final_decoder_results_dict\n",
    "# print(list(matched_decoder_epochs_final_decoder_results_dict.keys())) # ['long_LR_train', 'long_RL_train', 'short_LR_train', 'short_RL_train', 'long_LR_test', 'long_RL_test', 'short_LR_test', 'short_RL_test']\n"
   ]
  },
  {
   "cell_type": "code",
   "execution_count": null,
   "id": "e034df19",
   "metadata": {},
   "outputs": [],
   "source": [
    "from pyphoplacecellanalysis.General.Pipeline.Stages.ComputationFunctions.MultiContextComputationFunctions.DirectionalPlacefieldGlobalComputationFunctions import compute_weighted_correlations\n",
    "\n",
    "train_decoded_results_dict: Dict[str, DecodedFilterEpochsResult] = {k:v.decoder_result for k, v in test_decoder_results_dict.items()}\n",
    "\n",
    "weighted_corr_data_dict = compute_weighted_correlations(train_decoded_results_dict, debug_print=True)\n",
    "weighted_corr_data_dict\n"
   ]
  },
  {
   "cell_type": "code",
   "execution_count": null,
   "id": "ca7a3a04",
   "metadata": {},
   "outputs": [],
   "source": [
    "\n",
    "train_decoded_wcorr_df = pd.concat(weighted_corr_data_dict)\n",
    "train_decoded_wcorr_df"
   ]
  },
  {
   "cell_type": "code",
   "execution_count": null,
   "id": "3c1f3b28",
   "metadata": {},
   "outputs": [],
   "source": [
    "a_result.p_x_given_n_list\n",
    "\n"
   ]
  },
  {
   "cell_type": "code",
   "execution_count": null,
   "id": "b40f1a39",
   "metadata": {},
   "outputs": [],
   "source": [
    "# a_decoded_measured_diff_df: pd.DataFrame = test_decoder_results_dict['long_LR'].measured_decoded_position_comparion.decoded_measured_diff_df\n",
    "\n",
    "\n",
    "train_decoded_measured_diff_df_dict: Dict[str, pd.DataFrame] = {k:v.measured_decoded_position_comparion.decoded_measured_diff_df for k, v in test_decoder_results_dict.items()}"
   ]
  },
  {
   "cell_type": "code",
   "execution_count": null,
   "id": "ce176e84",
   "metadata": {},
   "outputs": [],
   "source": [
    "from pyphoplacecellanalysis.SpecificResults.PendingNotebookCode import pho_jointplot\n",
    "import seaborn as sns\n",
    "\n",
    "plot_key: str = 'err_cm'\n",
    "\n",
    "# Plot each list as a separate time series\n",
    "plt.figure(figsize=(10, 6))\n",
    "for key, value in train_decoded_measured_diff_df_dict.items():\n",
    "    # sns.lineplot(x=range(len(value)), y=value, label=key)\n",
    "    _out_line = sns.lineplot(data=value, x='t', y=plot_key, label=key)\n",
    "    _out_scatter = sns.scatterplot(data=value, x='t', y=plot_key) # no `, label=key` because we only want one entry in the legend\n",
    "\n",
    "plt.xlabel('lap_center_t (sec)')\n",
    "plt.ylabel('mean_error [cm]')\n",
    "plt.title('LAp Decoding Error')\n",
    "plt.legend()\n",
    "plt.show()\n",
    "\n"
   ]
  },
  {
   "cell_type": "code",
   "execution_count": null,
   "id": "10117f91",
   "metadata": {},
   "outputs": [],
   "source": [
    "active_epochs_dict = {k:Epoch(ensure_dataframe(v.measured_decoded_position_comparion.decoded_measured_diff_df)) for k, v in test_decoder_results_dict.items()}\n",
    "active_epochs_dict"
   ]
  },
  {
   "cell_type": "code",
   "execution_count": null,
   "id": "ea20e747",
   "metadata": {},
   "outputs": [],
   "source": [
    "active_epochs_dict = {k:Epoch(ensure_dataframe(v)) for k, v in train_decoded_measured_diff_df_dict.items()}\n",
    "active_epochs_dict"
   ]
  },
  {
   "cell_type": "markdown",
   "id": "48f8f168",
   "metadata": {},
   "source": [
    "# 2024-04-03 - Time-bin effect on lap decoding:"
   ]
  },
  {
   "cell_type": "code",
   "execution_count": null,
   "id": "ea00ca28",
   "metadata": {},
   "outputs": [],
   "source": [
    "from attrs import make_class\n",
    "from pyphoplacecellanalysis.General.Batch.BatchJobCompletion.UserCompletionHelpers.batch_user_completion_helpers import perform_sweep_decoding_time_bin_sizes_marginals_dfs_completion_function\n",
    "\n",
    "return_full_decoding_results: bool = True\n",
    "desired_laps_decoding_time_bin_size = np.linspace(start=0.030, stop=1.0, num=4)\n",
    "\n",
    "\n",
    "SimpleBatchComputationDummy = make_class('SimpleBatchComputationDummy', attrs=['BATCH_DATE_TO_USE', 'collected_outputs_path'])\n",
    "a_dummy = SimpleBatchComputationDummy(BATCH_DATE_TO_USE, collected_outputs_path)\n",
    "\n",
    "custom_all_param_sweep_options, param_sweep_option_n_values = parameter_sweeps(desired_laps_decoding_time_bin_size=desired_laps_decoding_time_bin_size,\n",
    "                                                                        use_single_time_bin_per_epoch=[False],\n",
    "                                                                        minimum_event_duration=[desired_laps_decoding_time_bin_size[-1]])\n",
    "\n",
    "\n",
    "_across_session_results_extended_dict = {}\n",
    "## Combine the output of `perform_sweep_decoding_time_bin_sizes_marginals_dfs_completion_function` into two dataframes for the laps, one per-epoch and one per-time-bin\n",
    "_across_session_results_extended_dict = _across_session_results_extended_dict | perform_sweep_decoding_time_bin_sizes_marginals_dfs_completion_function(a_dummy, None,\n",
    "\t\t\t\t\t\t\t\t\t\t\t\tcurr_session_context=curr_active_pipeline.get_session_context(), curr_session_basedir=curr_active_pipeline.sess.basepath.resolve(), curr_active_pipeline=curr_active_pipeline,\n",
    "\t\t\t\t\t\t\t\t\t\t\t\tacross_session_results_extended_dict=_across_session_results_extended_dict, return_full_decoding_results=return_full_decoding_results,\n",
    "                                                save_hdf=True, save_csvs=True,\n",
    "                                                # desired_shared_decoding_time_bin_sizes = np.linspace(start=0.030, stop=0.5, num=4),\n",
    "                                                custom_all_param_sweep_options=custom_all_param_sweep_options, # directly provide the parameter sweeps\n",
    "                                                )\n",
    "if return_full_decoding_results:\n",
    "    # with `return_full_decoding_results == True`\n",
    "    out_path, output_laps_decoding_accuracy_results_df, output_extracted_result_tuples, combined_multi_timebin_outputs_tuple, output_full_directional_merged_decoders_result = _across_session_results_extended_dict['perform_sweep_decoding_time_bin_sizes_marginals_dfs_completion_function']\n",
    "    # validate the result:\n",
    "    # {k:v.all_directional_laps_filter_epochs_decoder_result.decoding_time_bin_size for k,v in output_full_directional_merged_decoders_result.items()}\n",
    "    # assert np.all([np.isclose(dict(k)['desired_shared_decoding_time_bin_size'], v.all_directional_laps_filter_epochs_decoder_result.decoding_time_bin_size) for k,v in output_full_directional_merged_decoders_result.items()]), f\"the desired time_bin_size in the parameters should match the one used that will appear in the decoded result\"\n",
    "\n",
    "\n",
    "else:\n",
    "    # with `return_full_decoding_results == False`\n",
    "    out_path, output_laps_decoding_accuracy_results_df, output_extracted_result_tuples, combined_multi_timebin_outputs_tuple = _across_session_results_extended_dict['perform_sweep_decoding_time_bin_sizes_marginals_dfs_completion_function']\n",
    "    output_full_directional_merged_decoders_result = None\n",
    "\n",
    "(several_time_bin_sizes_laps_df, laps_out_path, several_time_bin_sizes_time_bin_laps_df, laps_time_bin_marginals_out_path), (several_time_bin_sizes_ripple_df, ripple_out_path, several_time_bin_sizes_time_bin_ripple_df, ripple_time_bin_marginals_out_path) = combined_multi_timebin_outputs_tuple\n"
   ]
  },
  {
   "cell_type": "code",
   "execution_count": null,
   "id": "01d97fe2",
   "metadata": {},
   "outputs": [],
   "source": [
    "from pyphoplacecellanalysis.General.Pipeline.Stages.ComputationFunctions.MultiContextComputationFunctions.DirectionalPlacefieldGlobalComputationFunctions import _show_sweep_result\n",
    "\n",
    "## INPUTS: output_full_directional_merged_decoders_result\n",
    "\n",
    "\n",
    "## RUN\n",
    "global_measured_position_df: pd.DataFrame = deepcopy(curr_active_pipeline.sess.position.to_dataframe()).dropna(subset=['lap']) # computation_result.sess.position.to_dataframe()\n",
    "# sweep_key_name: str=\"desired_shared_decoding_time_bin_size\"\n",
    "sweep_key_name: str=\"desired_laps_decoding_time_bin_size\"\n",
    "_out_pagination_controller, (all_swept_measured_positions_dfs_dict, all_swept_decoded_positions_df_dict, all_swept_decoded_measured_diff_df_dict) = _show_sweep_result(output_full_directional_merged_decoders_result, global_measured_position_df=global_measured_position_df,\n",
    "                                                                                                                                                        xbin=long_results_obj.original_1D_decoder.xbin,\n",
    "                                                                                                                                                        active_context=curr_active_pipeline.build_display_context_for_session(display_fn_name='DecodedEpochSlices', epochs='laps', decoder='all_dir'),\n",
    "                                                                                                                                                        sweep_params_idx=2, sweep_key_name=sweep_key_name, max_subplots_per_page=4)\n",
    "# _out_pagination_controller\n",
    "\n"
   ]
  },
  {
   "cell_type": "code",
   "execution_count": null,
   "id": "ed630cfc",
   "metadata": {},
   "outputs": [],
   "source": [
    "desired_laps_decoding_time_bin_size"
   ]
  },
  {
   "cell_type": "code",
   "execution_count": null,
   "id": "150e8f9a",
   "metadata": {},
   "outputs": [],
   "source": [
    "## Context Mask - provides additional information about an Identifying context, like whether a certain component of it should print:\n",
    "# has tags like 'print_debug', 'print_session', 'print_across_sessions'\n"
   ]
  },
  {
   "cell_type": "code",
   "execution_count": null,
   "id": "f52d49a3",
   "metadata": {},
   "outputs": [],
   "source": [
    "from pyphoplacecellanalysis.General.Pipeline.Stages.ComputationFunctions.MultiContextComputationFunctions.DirectionalPlacefieldGlobalComputationFunctions import CustomDecodeEpochsResult\n",
    "\n",
    "\n",
    "## INPUTS: output_full_directional_merged_decoders_result\n",
    "\n",
    "# Interpolated measured position DataFrame - looks good\n",
    "global_measured_position_df: pd.DataFrame = deepcopy(curr_active_pipeline.sess.position.to_dataframe()).dropna(subset=['lap']) # computation_result.sess.position.to_dataframe()\n",
    "all_swept_measured_positions_dfs_dict, all_swept_decoded_positions_df_dict, all_swept_decoded_measured_diff_df_dict = CustomDecodeEpochsResult.build_measured_decoded_position_comparison({k:deepcopy(v.all_directional_laps_filter_epochs_decoder_result) for k, v in output_full_directional_merged_decoders_result.items()}, global_measured_position_df=global_measured_position_df)\n",
    "# all_swept_decoded_measured_diff_df_dict = {k:pd.DataFrame(v, columns=['t', 'err']) for k, v in all_swept_decoded_measured_diff_df_dict.items()}\n",
    "\n",
    "# global_measured_position_df: pd.DataFrame = deepcopy(curr_active_pipeline.sess.position.to_dataframe()).dropna(subset=['lap']) # computation_result.sess.position.to_dataframe()\n",
    "# test_measured_positions_dfs_dict, test_decoded_positions_df_dict, test_decoded_measured_diff_df_dict = CustomDecodeEpochsResult.build_measured_decoded_position_comparison(test_laps_decoder_results_dict, global_measured_position_df=global_measured_position_df)\n",
    "# train_measured_positions_dfs_dict, train_decoded_positions_df_dict, train_decoded_measured_diff_df_dict = CustomDecodeEpochsResult.build_measured_decoded_position_comparison(train_laps_decoder_results_dict, global_measured_position_df=global_measured_position_df)\n",
    "\n",
    "\n",
    "## OUTPUTS: all_swept_measured_positions_dfs_dict, all_swept_decoded_positions_df_dict, all_swept_decoded_measured_diff_df_dict\n",
    "all_swept_decoded_measured_diff_df_dict"
   ]
  },
  {
   "cell_type": "code",
   "execution_count": null,
   "id": "bdca7685",
   "metadata": {},
   "outputs": [],
   "source": [
    "import seaborn as sns\n",
    "\n",
    "# # Plot the time series using Seaborn\n",
    "# plt.figure(figsize=(10, 6))\n",
    "# sns.lineplot(data=df_melted, x=df_melted.index, y='value', hue='type')\n",
    "# plt.xlabel('Index')\n",
    "# plt.ylabel('Value')\n",
    "# plt.title('Time Series Plot')\n",
    "# plt.show()\n",
    "\n",
    "sweep_key_name: str=\"desired_laps_decoding_time_bin_size\"\n",
    "\n",
    "## INPUTS: all_swept_decoded_measured_diff_df_dict, sweep_key_name,\n",
    "\n",
    "\n",
    "# Plot each list as a separate time series\n",
    "plt.figure(figsize=(10, 6))\n",
    "for key, error_df in all_swept_decoded_measured_diff_df_dict.items():\n",
    "    # convert frozenset back to dict\n",
    "    a_sweep_params_dict = {s[0]:s[1] for i, s in enumerate(key)}\n",
    "    # error_df['err_cm'] = np.sqrt(error_df['err'])\n",
    "\n",
    "    # plot_key: str = 'err'\n",
    "    plot_key: str = 'err_cm'\n",
    "    \n",
    "    key_label = f'{round(a_sweep_params_dict[sweep_key_name], ndigits=3)}s'\n",
    "    # sns.lineplot(x=range(len(value)), y=value, label=key)\n",
    "    _out_line = sns.lineplot(data=error_df, x='t', y=plot_key, label=key_label)\n",
    "    _out_scatter = sns.scatterplot(data=error_df, x='t', y=plot_key) #  label=key_label, legend=None\n",
    "\n",
    "\n",
    "plt.xlabel('lap_center_t (sec)')\n",
    "plt.ylabel('mean_squared_error')\n",
    "plt.title('All Swept Time Bin Sizes Lap Decoding Error')\n",
    "plt.legend()\n",
    "plt.show()\n"
   ]
  },
  {
   "cell_type": "code",
   "execution_count": null,
   "id": "d321945c",
   "metadata": {},
   "outputs": [],
   "source": [
    "#### 2024-04-03 - Interactively show the lap decoding performance for a single time bin size:\n",
    "from pyphoplacecellanalysis.Pho2D.stacked_epoch_slices import DecodedEpochSlicesPaginatedFigureController\n",
    "\n",
    "\n",
    "_out_pagination_controller = DecodedEpochSlicesPaginatedFigureController.init_from_decoder_data(an_all_directional_laps_filter_epochs_decoder_result.active_filter_epochs,\n",
    "                                                                                            an_all_directional_laps_filter_epochs_decoder_result,\n",
    "                                                                                            xbin=long_results_obj.original_1D_decoder.xbin, global_pos_df=global_session.position.df,\n",
    "                                                                                            active_context=curr_active_pipeline.build_display_context_for_session(display_fn_name='DecodedEpochSlices',\n",
    "                                                                                                                                                                #   t_bin=f'{an_all_directional_laps_filter_epochs_decoder_result.decoding_time_bin_size}s',\n",
    "                                                                                                                                                                  t_bin=f\"{a_sweep_params_dict['desired_shared_decoding_time_bin_size']}s\",\n",
    "                                                                                                                                                                   epochs='laps', decoder='all_dir'),\n",
    "                                                                                            a_name='an_all_directional_laps_filter_epochs_decoder_result', max_subplots_per_page=20)\n",
    "_out_pagination_controller"
   ]
  },
  {
   "cell_type": "code",
   "execution_count": null,
   "id": "9fbcd125",
   "metadata": {},
   "outputs": [],
   "source": [
    "from pyphoplacecellanalysis.General.Pipeline.Stages.ComputationFunctions.MultiContextComputationFunctions.DirectionalPlacefieldGlobalComputationFunctions import compute_weighted_correlations\n",
    "\n",
    "\n",
    "# out_wcorr_df_dict = compute_weighted_correlations({k:[a_p_x_given_n for a_p_x_given_n in deepcopy(v.all_directional_laps_filter_epochs_decoder_result.p_x_given_n_list)] for k, v in output_full_directional_merged_decoders_result.items()})\n",
    "\n"
   ]
  },
  {
   "cell_type": "code",
   "execution_count": null,
   "id": "c2f59e68",
   "metadata": {},
   "outputs": [],
   "source": [
    "a_result: DirectionalMergedDecodersResult = list(output_full_directional_merged_decoders_result.values())[-2]\n",
    "all_directional_laps_filter_epochs_decoder_result: DecodedFilterEpochsResult = a_result.all_directional_laps_filter_epochs_decoder_result\n",
    "\n",
    "# out_wcorr_df_dict = compute_weighted_correlations({k:deepcopy(v.all_directional_laps_filter_epochs_decoder_result) for k, v in output_full_directional_merged_decoders_result.items()})\n",
    "# out_wcorr_df_dict = compute_weighted_correlations({'out': all_directional_laps_filter_epochs_decoder_result})\n",
    "\n"
   ]
  },
  {
   "cell_type": "markdown",
   "id": "4997b1e4",
   "metadata": {},
   "source": [
    "# Completely Different"
   ]
  },
  {
   "cell_type": "code",
   "execution_count": null,
   "id": "2b61ed49",
   "metadata": {},
   "outputs": [],
   "source": [
    "from pyphoplacecellanalysis.General.Pipeline.Stages.ComputationFunctions.MultiContextComputationFunctions.DirectionalPlacefieldGlobalComputationFunctions import add_laps_groundtruth_information_to_dataframe\n",
    "\n",
    "laps_weighted_corr_merged_df = add_laps_groundtruth_information_to_dataframe(curr_active_pipeline=curr_active_pipeline, result_laps_epochs_df=laps_weighted_corr_merged_df)\n",
    "laps_weighted_corr_merged_df"
   ]
  },
  {
   "cell_type": "code",
   "execution_count": null,
   "id": "d5436c6a",
   "metadata": {},
   "outputs": [],
   "source": [
    "laps_weighted_corr_merged_df[laps_weighted_corr_merged_df['best_decoder_index'] != laps_weighted_corr_merged_df['true_decoder_index']]"
   ]
  },
  {
   "cell_type": "code",
   "execution_count": null,
   "id": "4744404a",
   "metadata": {},
   "outputs": [],
   "source": [
    "laps_weighted_corr_merged_df[laps_weighted_corr_merged_df['best_decoder_index'] == laps_weighted_corr_merged_df['true_decoder_index']]"
   ]
  },
  {
   "cell_type": "code",
   "execution_count": null,
   "id": "f8e57782",
   "metadata": {},
   "outputs": [],
   "source": [
    "laps_weighted_corr_merged_df.to_clipboard(excel=True)"
   ]
  },
  {
   "cell_type": "code",
   "execution_count": null,
   "id": "325be3c2",
   "metadata": {},
   "outputs": [],
   "source": [
    "## INPUTS: decoder_laps_filter_epochs_decoder_result_dict: Dict[str, DecodedFilterEpochsResult], decoder_laps_radon_transform_df_dict, decoder_laps_radon_transform_extras_dict,\n",
    "# laps_weighted_corr_merged_df: pd.DataFrame, decoder_laps_weighted_corr_df_dict: Dict[str, pd.DataFrame],\n",
    "# laps_simple_pf_pearson_merged_df: pd.DataFrame\n",
    "# laps_simple_pf_pearson_merged_df\n",
    "laps_weighted_corr_merged_df\n",
    "\n",
    "# ['best_decoder_index'] # gives the index of the decoder with the best value of wcorr\n"
   ]
  },
  {
   "cell_type": "code",
   "execution_count": null,
   "id": "88c477ab",
   "metadata": {},
   "outputs": [],
   "source": [
    "## Get the ground truth for the decoded laps:\n",
    "groudtruth_laps_epochs_df: pd.DataFrame = directional_merged_decoders_result.add_groundtruth_information(curr_active_pipeline=curr_active_pipeline)\n",
    "groudtruth_laps_epochs_df\n"
   ]
  },
  {
   "cell_type": "code",
   "execution_count": null,
   "id": "f465051a",
   "metadata": {},
   "outputs": [],
   "source": [
    "groundtruth_column_names = ['maze_id', 'is_LR_dir', 'is_most_likely_track_identity_Long', 'is_most_likely_direction_LR']\n",
    "groudtruth_laps_epochs_df[groundtruth_column_names]\n",
    "\n",
    "lap_idxs = groudtruth_laps_epochs_df['lap_id'] - 1\n",
    "lap_idxs\n",
    "## add the truth columns to `laps_weighted_corr_merged_df`:\n",
    "laps_weighted_corr_merged_df[groundtruth_column_names] = groudtruth_laps_epochs_df[groundtruth_column_names]\n",
    "laps_weighted_corr_merged_df"
   ]
  },
  {
   "cell_type": "markdown",
   "id": "a6402fe8",
   "metadata": {},
   "source": [
    "## 📈 2024-03-07 - measured v. best-decoded Position + Derivatives Plotting\n"
   ]
  },
  {
   "cell_type": "code",
   "execution_count": null,
   "id": "6505da18",
   "metadata": {},
   "outputs": [],
   "source": [
    "from pyphoplacecellanalysis.Analysis.position_derivatives import _compute_pos_derivs\n",
    "\n",
    "measured_position_df = deepcopy(curr_active_pipeline.sess.position.to_dataframe())\n",
    "# # lap positions only:\n",
    "# measured_position_df = measured_position_df[~measured_position_df['lap'].isnull()] # only get the positions during the laps\n",
    "# measured_position_df['lap'] = measured_position_df['lap'].astype('int64')\n",
    "measured_position_df\n",
    "\n",
    "new_measured_pos_df: pd.DataFrame = _compute_pos_derivs(measured_position_df['t'].to_numpy(), position = deepcopy(measured_position_df['lin_pos'].to_numpy()), decoding_time_bin_size=laps_decoding_time_bin_size) \n",
    "# new_measured_pos_df\n",
    "\n",
    "extra_column_names = ['lap', 'lap_dir'] # 'y', \n",
    "assert np.shape(new_measured_pos_df)[0] == np.shape(measured_position_df)[0]\n",
    "new_measured_pos_df[extra_column_names] = measured_position_df[extra_column_names].copy()\n",
    "\n",
    "# lap positions only:\n",
    "new_measured_pos_df = new_measured_pos_df[~new_measured_pos_df['lap'].isnull()] # only get the positions during the laps\n",
    "new_measured_pos_df['lap'] = new_measured_pos_df['lap'].astype('int64')\n",
    "new_measured_pos_df\n",
    "\n",
    "\n",
    "# new_measured_pos_df['lap_dir'] = new_measured_pos_df['lap_dir'].astype('int64')\n",
    "\n",
    "# new_measured_pos_df\n",
    "\n",
    "# new_measured_pos_df.describe()\n",
    "\n",
    "\n",
    "# a_decoded_filter_epochs_decoder_result_dict: Dict[str, DecodedFilterEpochsResult] = deepcopy(decoder_ripple_filter_epochs_decoder_result_dict)\n",
    "a_decoded_filter_epochs_decoder_result_dict: Dict[str, DecodedFilterEpochsResult] = deepcopy(decoder_laps_filter_epochs_decoder_result_dict)\n",
    "\n",
    "# any_good_selected_epoch_times = deepcopy(paginated_multi_decoder_decoded_epochs_window.any_good_selected_epoch_times)\n",
    "# any_good_selected_epoch_indicies = deepcopy(paginated_multi_decoder_decoded_epochs_window.find_data_indicies_from_epoch_times(paginated_multi_decoder_decoded_epochs_window.any_good_selected_epoch_times))\n",
    "# any_good_selected_epoch_indicies\n",
    "\n",
    "# with suppress_print_context():\n",
    "# with disable_function_context(builtins, \"print\"):\n",
    "_out_new_scores = {}\n",
    "# an_epoch_idx: int = 0 # 7\n",
    "\n",
    "all_epochs_position_derivatives_df_dict: Dict[str, pd.DataFrame] = {}\n",
    "for a_name, a_result in a_decoded_filter_epochs_decoder_result_dict.items():\n",
    "    # print(f'\\na_name: {a_name}')\n",
    "    # 🟪 2024-02-29 - `compute_pho_heuristic_replay_scores`\n",
    "    # directional_decoders_epochs_decode_result.decoder_ripple_filter_epochs_decoder_result_dict, _out_new_scores = HeuristicReplayScoring.compute_all_heuristic_scores(track_templates=track_templates, a_decoded_filter_epochs_decoder_result_dict=directional_decoders_epochs_decode_result.decoder_ripple_filter_epochs_decoder_result_dict)\n",
    "    _out_new_scores[a_name] = [HeuristicReplayScoring.compute_pho_heuristic_replay_scores(a_result=a_result, an_epoch_idx=an_epoch_idx, enable_debug_plot=False, debug_plot_axs=axs, debug_plot_name=a_name) for an_epoch_idx in np.arange(a_result.num_filter_epochs)]\n",
    "    all_epochs_position_derivatives_df_dict[a_name] = pd.concat([a_scores.position_derivatives_df for a_scores in _out_new_scores[a_name]], ignore_index=True)\n",
    "\n",
    "_out_new_scores\n",
    "    "
   ]
  },
  {
   "cell_type": "code",
   "execution_count": null,
   "id": "a41abbe7",
   "metadata": {},
   "outputs": [],
   "source": [
    "from pyphoplacecellanalysis.Analysis.position_derivatives import debug_plot_helper_add_position_and_derivatives\n",
    "\n",
    "\n",
    "fig, debug_plot_axs = debug_plot_helper_add_position_and_derivatives(new_measured_pos_df['t'].to_numpy(), new_measured_pos_df['x'].to_numpy(), new_measured_pos_df['vel_x'].to_numpy(), new_measured_pos_df['accel_x'].to_numpy(),\n",
    "                                                                        debug_plot_axs=None, debug_plot_name='measured', common_plot_kwargs=dict(color='k', markersize='5', marker='.', linestyle='None', alpha=0.35))\n"
   ]
  },
  {
   "cell_type": "code",
   "execution_count": null,
   "id": "fc1bdd9a",
   "metadata": {},
   "outputs": [],
   "source": [
    "from pyphoplacecellanalysis.Analysis.position_derivatives import debug_plot_position_and_derivatives_figure\n",
    "\n",
    "## INPUTS: new_measured_pos_df, all_epochs_position_derivatives_df_dict\n",
    "fig, debug_plot_axs = debug_plot_position_and_derivatives_figure(new_measured_pos_df, all_epochs_position_derivatives_df_dict, debug_plot_axs=None, debug_figure_title=None, enable_debug_plot = True)\n"
   ]
  },
  {
   "cell_type": "code",
   "execution_count": null,
   "id": "e1f5c15e",
   "metadata": {},
   "outputs": [],
   "source": [
    "from pyphoplacecellanalysis.Analysis.position_derivatives import debug_plot_position_derivatives_stack\n",
    "\n",
    "# fig = debug_plot_position_derivatives_stack(new_measured_pos_df, all_epochs_position_derivatives_df_dict)\n",
    "fig = debug_plot_position_derivatives_stack(new_measured_pos_df, all_epochs_position_derivatives_df_dict, show_scatter=True)\n",
    "fig"
   ]
  },
  {
   "cell_type": "markdown",
   "id": "2b7fbba6",
   "metadata": {},
   "source": [
    "## Other"
   ]
  },
  {
   "cell_type": "code",
   "execution_count": null,
   "id": "693d7aef",
   "metadata": {},
   "outputs": [],
   "source": [
    "## INPUTS: df1, df2\n",
    "position_deriv_column_names1 = pos_deriv_column_names\n",
    "df1 = measured_position_df[position_deriv_column_names1]\n",
    "\n",
    "position_deriv_column_names2 = ['x', 'vel_x', 'accel_x']\n",
    "df2 = deepcopy(all_epochs_position_derivatives_df[position_deriv_column_names2])\n",
    "\n",
    "# Set up the figure and axes.\n",
    "fig, axes = plt.subplots(nrows=3, ncols=1, figsize=(8, 6))\n",
    "\n",
    "# List of columns to compare\n",
    "columns_to_compare = ['col1', 'col2', 'col3']\n",
    "\n",
    "\n",
    "# Loop through the list of columns and create a histogram for each.\n",
    "for i, (col1, col2) in enumerate(zip(position_deriv_column_names1, position_deriv_column_names2)):\n",
    "# for i, col in enumerate(columns_to_compare):\n",
    "    # Use the same bin edges for both histograms by computing them from the combined range of both DataFrames\n",
    "    combined_range = pd.concat([df1[col1], df2[col2]])\n",
    "    bins = np.histogram_bin_edges(combined_range, bins='auto')\n",
    "\n",
    "    # Plot the first DataFrame histogram\n",
    "    df1[col1].hist(bins=bins, ax=axes[i], alpha=0.5, label='Decoded')\n",
    "\n",
    "    # Plot the second DataFrame histogram\n",
    "    df2[col2].hist(bins=bins, ax=axes[i], alpha=0.5, label='Measured')\n",
    "\n",
    "    # Set the title and labels\n",
    "    axes[i].set_title(f'Histogram of {col1}')\n",
    "    axes[i].set_xlabel(col1)\n",
    "    axes[i].set_ylabel('Frequency')\n",
    "\n",
    "    # Add a legend\n",
    "    axes[i].legend()\n",
    "\n",
    "# Adjust layout for readability\n",
    "plt.tight_layout()\n",
    "\n",
    "# Show the plot\n",
    "plt.show()"
   ]
  },
  {
   "cell_type": "markdown",
   "id": "1f5670d2",
   "metadata": {},
   "source": [
    "# 💾🖼️ 2024-04-27 - Save Posteriors as Yellow-Blue plots to file:"
   ]
  },
  {
   "cell_type": "code",
   "execution_count": null,
   "id": "22c7718c",
   "metadata": {},
   "outputs": [],
   "source": [
    "from pyphoplacecellanalysis.SpecificResults.PendingNotebookCode import save_posterior\n",
    "\n",
    "\n",
    "directional_decoders_decode_result\n",
    "\n",
    "collapsed_per_lap_epoch_marginal_track_identity_point = laps_marginals_df[['P_Long', 'P_Short']].to_numpy().astype(float)\n",
    "collapsed_per_lap_epoch_marginal_dir_point = laps_marginals_df[['P_LR', 'P_RL']].to_numpy().astype(float)\n",
    "\n",
    "for epoch_id in np.arange(laps_filter_epochs_decoder_result.num_filter_epochs):\n",
    "\traw_tuple, marginal_dir_tuple, marginal_track_identity_tuple, marginal_dir_point_tuple, marginal_track_identity_point_tuple = save_posterior(raw_posterior_laps_marginals, laps_directional_marginals, laps_track_identity_marginals, collapsed_per_lap_epoch_marginal_dir_point, collapsed_per_lap_epoch_marginal_track_identity_point,\n",
    "\t\t\t\t\t\t\t\t\t\t\t\t\t\t\t\t\t\t\t\tparent_array_as_image_output_folder=parent_array_as_image_output_folder, epoch_id_identifier_str='lap', epoch_id=epoch_id)\n",
    "\t"
   ]
  }
 ],
 "metadata": {
  "kernelspec": {
   "display_name": "spike3d-yellow",
   "language": "python",
   "name": "spike3d-yellow"
  },
  "language_info": {
   "codemirror_mode": {
    "name": "ipython",
    "version": 3
   },
   "file_extension": ".py",
   "mimetype": "text/x-python",
   "name": "python",
   "nbconvert_exporter": "python",
   "pygments_lexer": "ipython3",
   "version": "3.9.13"
  }
 },
 "nbformat": 4,
 "nbformat_minor": 5
}
