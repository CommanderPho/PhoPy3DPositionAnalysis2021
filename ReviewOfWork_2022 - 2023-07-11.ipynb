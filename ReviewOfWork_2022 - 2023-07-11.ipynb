{
 "cells": [
  {
   "cell_type": "code",
   "execution_count": 1,
   "id": "0056bc66-7629-4ef7-8c87-f28f8fcd9dc8",
   "metadata": {
    "autorun": true,
    "tags": [
     "imports",
     "REQUIRED",
     "ACTIVE"
    ]
   },
   "outputs": [
    {
     "name": "stdout",
     "output_type": "stream",
     "text": [
      "Automatic pdb calling has been turned OFF\n",
      "build_module_logger(module_name=\"Spike3D.pipeline\"):\n",
      "\t Module logger com.PhoHale.Spike3D.pipeline has file logging enabled and will log to EXTERNAL\\TESTING\\Logging\\debug_com.PhoHale.Spike3D.pipeline.log\n"
     ]
    }
   ],
   "source": [
    "%config IPCompleter.use_jedi = False\n",
    "%pdb off\n",
    "# %load_ext viztracer\n",
    "# from viztracer import VizTracer\n",
    "%load_ext autoreload\n",
    "%autoreload 3\n",
    "import sys\n",
    "from pathlib import Path\n",
    "import neptune # for logging progress and results\n",
    "from pyphoplacecellanalysis.General.Batch.NeptuneAiHelpers import set_environment_variables, neptune_output_figures\n",
    "neptune_kwargs = {'project':\"commander.pho/PhoDibaLongShort2023\",\n",
    "'api_token':\"eyJhcGlfYWRkcmVzcyI6Imh0dHBzOi8vYXBwLm5lcHR1bmUuYWkiLCJhcGlfdXJsIjoiaHR0cHM6Ly9hcHAubmVwdHVuZS5haSIsImFwaV9rZXkiOiIxOGIxODU2My1lZTNhLTQ2ZWMtOTkzNS02ZTRmNzM5YmNjNjIifQ==\"}\n",
    "\n",
    "# required to enable non-blocking interaction:\n",
    "%gui qt5\n",
    "\n",
    "from copy import deepcopy\n",
    "from numba import jit\n",
    "import numpy as np\n",
    "import pandas as pd\n",
    "from attrs import define, field, fields, Factory\n",
    "\n",
    "# Pho's Formatting Preferences\n",
    "# from pyphocorehelpers.preferences_helpers import set_pho_preferences, set_pho_preferences_concise, set_pho_preferences_verbose\n",
    "# set_pho_preferences_concise()\n",
    "\n",
    "## Pho's Custom Libraries:\n",
    "from pyphocorehelpers.Filesystem.path_helpers import find_first_extant_path\n",
    "from pyphocorehelpers.Filesystem.open_in_system_file_manager import reveal_in_system_file_manager\n",
    "\n",
    "# NeuroPy (Diba Lab Python Repo) Loading\n",
    "# from neuropy import core\n",
    "from neuropy.analyses.placefields import PlacefieldComputationParameters\n",
    "from neuropy.core.epoch import NamedTimerange, Epoch\n",
    "from neuropy.core.ratemap import Ratemap\n",
    "from neuropy.core.session.Formats.BaseDataSessionFormats import DataSessionFormatRegistryHolder\n",
    "from neuropy.core.session.Formats.Specific.KDibaOldDataSessionFormat import KDibaOldDataSessionFormatRegisteredClass\n",
    "from neuropy.utils.matplotlib_helpers import matplotlib_file_only, matplotlib_configuration\n",
    "\n",
    "## For computation parameters:\n",
    "from neuropy.analyses.placefields import PlacefieldComputationParameters\n",
    "from neuropy.utils.dynamic_container import DynamicContainer\n",
    "from neuropy.utils.result_context import IdentifyingContext\n",
    "from neuropy.core.session.Formats.BaseDataSessionFormats import find_local_session_paths\n",
    "from neuropy.core.neurons import NeuronType\n",
    "\n",
    "from pyphocorehelpers.print_helpers import generate_html_string\n",
    "\n",
    "# pyPhoPlaceCellAnalysis:\n",
    "from pyphoplacecellanalysis.General.Pipeline.NeuropyPipeline import NeuropyPipeline # get_neuron_identities\n",
    "from pyphoplacecellanalysis.General.Mixins.ExportHelpers import export_pyqtgraph_plot\n",
    "from pyphoplacecellanalysis.General.Batch.NonInteractiveProcessing import batch_load_session, batch_extended_computations, SessionBatchProgress, batch_programmatic_figures, batch_extended_programmatic_figures\n",
    "from pyphoplacecellanalysis.General.Pipeline.NeuropyPipeline import PipelineSavingScheme\n",
    "from pyphoplacecellanalysis.Pho2D.matplotlib.visualize_heatmap import visualize_heatmap\n",
    "import pyphoplacecellanalysis.External.pyqtgraph as pg\n",
    "\n",
    "from pyphoplacecellanalysis.General.Batch.NonInteractiveProcessing import batch_perform_all_plots\n",
    "from pyphoplacecellanalysis.General.Pipeline.Stages.ComputationFunctions.MultiContextComputationFunctions.LongShortTrackComputations import JonathanFiringRateAnalysisResult\n",
    "from pyphoplacecellanalysis.General.Mixins.CrossComputationComparisonHelpers import _find_any_context_neurons\n",
    "\n",
    "# Plotting\n",
    "import matplotlib\n",
    "import matplotlib as mpl\n",
    "import matplotlib.pyplot as plt\n",
    "_bak_rcParams = mpl.rcParams.copy()\n",
    "import pylustrator\n",
    "from pyphoplacecellanalysis.General.Pipeline.Stages.DisplayFunctions.SpikeRasters import plot_multiple_raster_plot, plot_raster_plot\n",
    "from pyphoplacecellanalysis.General.Mixins.DataSeriesColorHelpers import DataSeriesColorHelpers\n",
    "from pyphoplacecellanalysis.General.Mixins.DataSeriesColorHelpers import UnitColoringMode, DataSeriesColorHelpers\n",
    "from pyphoplacecellanalysis.General.Pipeline.Stages.DisplayFunctions.SpikeRasters import _build_default_tick, build_scatter_plot_kwargs\n",
    "from pyphoplacecellanalysis.GUI.PyQtPlot.Widgets.Mixins.Render2DScrollWindowPlot import Render2DScrollWindowPlotMixin, ScatterItemData\n",
    "from pyphoplacecellanalysis.General.Batch.NonInteractiveProcessing import batch_extended_programmatic_figures, batch_programmatic_figures\n",
    "\n",
    "from pyphoplacecellanalysis.General.Batch.PhoDiba2023Paper import PAPER_FIGURE_figure_1_add_replay_epoch_rasters, PAPER_FIGURE_figure_1_full, PAPER_FIGURE_figure_3, main_complete_figure_generations\n",
    "\n",
    "\n",
    "global_data_root_parent_path = find_first_extant_path([Path(r'W:\\Data'), Path(r'/media/MAX/Data'), Path(r'/Volumes/MoverNew/data'), Path(r'/home/halechr/turbo/Data')])\n",
    "assert global_data_root_parent_path.exists(), f\"global_data_root_parent_path: {global_data_root_parent_path} does not exist! Is the right computer's config commented out above?\""
   ]
  },
  {
   "attachments": {},
   "cell_type": "markdown",
   "id": "a1538e2a-4e39-4d11-90b5-a9fef9258058",
   "metadata": {
    "tags": [
     "REQUIRED",
     "ACTIVE"
    ]
   },
   "source": [
    "# Load Pipeline"
   ]
  },
  {
   "cell_type": "code",
   "execution_count": 2,
   "id": "f917bad9-8fe7-4882-b83b-71cf878fffd2",
   "metadata": {
    "tags": [
     "load",
     "REQUIRED"
    ]
   },
   "outputs": [
    {
     "name": "stdout",
     "output_type": "stream",
     "text": [
      "Automatic pdb calling has been turned OFF\n",
      "basedir: W:\\Data\\KDIBA\\gor01\\one\\2006-6-12_15-55-31\n",
      "Loading loaded session pickle file results : W:\\Data\\KDIBA\\gor01\\one\\2006-6-12_15-55-31\\loadedSessPickle.pkl... done.\n",
      "Loading pickled pipeline success: W:\\Data\\KDIBA\\gor01\\one\\2006-6-12_15-55-31\\loadedSessPickle.pkl.\n",
      "property already present in pickled version. No need to save.\n",
      "build_lap_only_short_long_bin_aligned_computation_configs(...):\n",
      "\tlen(active_session_computation_configs): 1\n",
      "\tlen(final_active_session_computation_configs): 1\n",
      "using provided computation_functions_name_includelist: ['_perform_baseline_placefield_computation', '_perform_extended_statistics_computation', '_perform_position_decoding_computation', '_perform_firing_rate_trends_computation', '_perform_pf_find_ratemap_peaks_computation', '_perform_two_step_position_decoding_computation']\n",
      "WARNING: skipping computation because overwrite_extant_results=False and active_computation_results[maze1] already exists and is non-None\n",
      "\t TODO: this will prevent recomputation even when the excludelist/includelist or computation function definitions change. Rework so that this is smarter.\n",
      "updating computation_results...\n",
      "done.\n",
      "WARNING: skipping computation because overwrite_extant_results=False and active_computation_results[maze2] already exists and is non-None\n",
      "\t TODO: this will prevent recomputation even when the excludelist/includelist or computation function definitions change. Rework so that this is smarter.\n",
      "updating computation_results...\n",
      "done.\n",
      "WARNING: skipping computation because overwrite_extant_results=False and active_computation_results[maze] already exists and is non-None\n",
      "\t TODO: this will prevent recomputation even when the excludelist/includelist or computation function definitions change. Rework so that this is smarter.\n",
      "updating computation_results...\n",
      "done.\n",
      "WARNING: saving_mode is SKIP_SAVING so pipeline will not be saved despite calling .save_pipeline(...).\n",
      "saving_mode.shouldSave == False, so not saving at the end of batch_load_session\n",
      "Loading loaded session pickle file results : W:\\Data\\KDIBA\\gor01\\one\\2006-6-12_15-55-31\\output\\global_computation_results.pkl... done.\n",
      "included includelist is specified: ['long_short_fr_indicies_analyses', 'jonathan_firing_rate_analysis', 'long_short_decoding_analyses', 'long_short_post_decoding'], so only performing these extended computations.\n",
      "Running batch_extended_computations(...) with global_epoch_name: \"maze\"\n",
      "jonathan_firing_rate_analysis already computed.\n",
      "long_short_fr_indicies_analyses already computed.\n",
      "long_short_decoding_analyses already computed.\n",
      "long_short_post_decoding already computed.\n",
      "done with all batch_extended_computations(...).\n",
      "no changes in global results.\n"
     ]
    }
   ],
   "source": [
    "%pdb off\n",
    "# ==================================================================================================================== #\n",
    "# Load Data                                                                                                            #\n",
    "# ==================================================================================================================== #\n",
    "\n",
    "active_data_mode_name = 'kdiba'\n",
    "local_session_root_parent_context = IdentifyingContext(format_name=active_data_mode_name) # , animal_name='', configuration_name='one', session_name=self.session_name\n",
    "local_session_root_parent_path = global_data_root_parent_path.joinpath('KDIBA')\n",
    "\n",
    "# [*] - indicates bad or session with a problem\n",
    "# 0, 1, 2, 3, 4, 5, 6, 7, [8], [9], 10, 11, [12], 13, 14, [15], [16], 17, \n",
    "# curr_context: IdentifyingContext = good_contexts_list[1] # select the session from all of the good sessions here.\n",
    "# curr_context = IdentifyingContext(format_name='kdiba',animal='gor01',exper_name='one',session_name='2006-6-08_14-26-15') # DONE. Very good. Many good Pfs, many good replays.\n",
    "# curr_context = IdentifyingContext(format_name='kdiba',animal='gor01',exper_name='one',session_name='2006-6-09_1-22-43') # BAD\n",
    "curr_context = IdentifyingContext(format_name='kdiba',animal='gor01',exper_name='one',session_name='2006-6-12_15-55-31') # DONE, Good Pfs but no good replays\n",
    "# curr_context = IdentifyingContext(format_name='kdiba',animal='gor01',exper_name='one',session_name='2006-6-13_14-42-6') # BAD\n",
    "# curr_context = IdentifyingContext(format_name='kdiba',animal='gor01',exper_name='two',session_name='2006-6-07_16-40-19') # DONE, GREAT, both good Pfs and replays!\n",
    "# curr_context = IdentifyingContext(format_name='kdiba',animal='gor01',exper_name='two',session_name='2006-6-08_21-16-25') # DONE\n",
    "# curr_context = IdentifyingContext(format_name='kdiba',animal='gor01',exper_name='two',session_name='2006-6-09_22-24-40') # DONE\n",
    "# curr_context = IdentifyingContext(format_name='kdiba',animal='gor01',exper_name='two',session_name='2006-6-12_16-53-46') # DONE\n",
    "# curr_context = IdentifyingContext(format_name='kdiba',animal='gor01',exper_name='two',session_name='2006-6-13_15-22-3') # DONE, Good Pfs, no good epochs.\n",
    "# curr_context = IdentifyingContext(format_name='kdiba',animal='vvp01',exper_name='one',session_name='2006-4-09_17-29-30') # DONE\n",
    "# curr_context = IdentifyingContext(format_name='kdiba',animal='vvp01',exper_name='one',session_name='2006-4-10_12-25-50') # DONE\n",
    "# curr_context = IdentifyingContext(format_name='kdiba',animal='vvp01',exper_name='one',session_name='2006-4-19_13-34-40') # BAD\n",
    "# curr_context = IdentifyingContext(format_name='kdiba',animal='vvp01',exper_name='two',session_name='2006-4-09_16-40-54') # DONE\n",
    "# curr_context = IdentifyingContext(format_name='kdiba',animal='vvp01',exper_name='two',session_name='2006-4-10_12-58-3') # BAD, Good Pfs strangely despite horrible map, no good epochs\n",
    "# curr_context = IdentifyingContext(format_name='kdiba',animal='vvp01',exper_name='two',session_name='2006-4-12_15-25-59') # BAD, No Epochs\n",
    "# curr_context = IdentifyingContext(format_name='kdiba',animal='vvp01',exper_name='two',session_name='2006-4-16_18-47-52')\n",
    "# curr_context = IdentifyingContext(format_name='kdiba',animal='vvp01',exper_name='two',session_name='2006-4-17_12-52-15')\n",
    "# curr_context = IdentifyingContext(format_name='kdiba',animal='vvp01',exper_name='two',session_name='2006-4-25_13-20-55')\n",
    "# curr_context = IdentifyingContext(format_name='kdiba',animal='vvp01',exper_name='two',session_name='2006-4-28_12-38-13')\n",
    "# curr_context = IdentifyingContext(format_name='kdiba',animal='pin01',exper_name='one',session_name='11-02_17-46-44') # DONE, good. Many good pfs, many good replays.\n",
    "# curr_context = IdentifyingContext(format_name='kdiba',animal='pin01',exper_name='one',session_name='11-02_19-28-0') # DONE, good?\n",
    "# curr_context = IdentifyingContext(format_name='kdiba',animal='pin01',exper_name='one',session_name='11-03_12-3-25') # DONE\n",
    "# curr_context = IdentifyingContext(format_name='kdiba',animal='pin01',exper_name='one',session_name='11-09_12-15-3')\n",
    "# curr_context = IdentifyingContext(format_name='kdiba',animal='pin01',exper_name='one',session_name='11-09_22-4-5')\n",
    "# curr_context = IdentifyingContext(format_name='kdiba',animal='pin01',exper_name='one',session_name='fet11-01_12-58-54') # DONE\n",
    "\n",
    "local_session_parent_path: Path = local_session_root_parent_path.joinpath(curr_context.animal, curr_context.exper_name) # 'gor01', 'one' - probably not needed anymore\n",
    "basedir: Path = local_session_parent_path.joinpath(curr_context.session_name).resolve()\n",
    "print(f'basedir: {str(basedir)}')\n",
    "\n",
    "# Read if possible:\n",
    "saving_mode = PipelineSavingScheme.SKIP_SAVING\n",
    "force_reload = False\n",
    "\n",
    "# Force write:\n",
    "# saving_mode = PipelineSavingScheme.TEMP_THEN_OVERWRITE\n",
    "# saving_mode = PipelineSavingScheme.OVERWRITE_IN_PLACE\n",
    "# force_reload = True\n",
    "\n",
    "\n",
    "## TODO: if loading is not possible, we need to change the `saving_mode` so that the new results are properly saved.\n",
    "\n",
    "\n",
    "    # ==================================================================================================================== #\n",
    "    # Load Pipeline                                                                                                        #\n",
    "    # ==================================================================================================================== #\n",
    "# with VizTracer(output_file=f\"viztracer_{get_now_time_str()}-full_session_LOO_decoding_analysis.json\", min_duration=200, tracer_entries=3000000, ignore_frozen=True) as tracer:\n",
    "# epoch_name_includelist = ['maze']\n",
    "epoch_name_includelist = None\n",
    "active_computation_functions_name_includelist=[#'_perform_estimated_epochs_computation',  # AL:WAYS OFF\n",
    "                                            '_perform_baseline_placefield_computation',\n",
    "                                        # '_perform_time_dependent_placefield_computation', # AL:WAYS OFF\n",
    "                                        '_perform_extended_statistics_computation',\n",
    "                                        '_perform_position_decoding_computation', \n",
    "                                        '_perform_firing_rate_trends_computation',\n",
    "                                        '_perform_pf_find_ratemap_peaks_computation',\n",
    "                                        # '_perform_time_dependent_pf_sequential_surprise_computation' # AL:WAYS OFF\n",
    "                                        '_perform_two_step_position_decoding_computation',\n",
    "                                        # '_perform_recursive_latent_placefield_decoding' # AL:WAYS OFF\n",
    "                                    ]\n",
    "# active_computation_functions_name_includelist=['_perform_baseline_placefield_computation']\n",
    "\n",
    "curr_active_pipeline = batch_load_session(global_data_root_parent_path, active_data_mode_name, basedir, epoch_name_includelist=epoch_name_includelist,\n",
    "                                        computation_functions_name_includelist=active_computation_functions_name_includelist,\n",
    "                                        saving_mode=saving_mode, force_reload=force_reload,\n",
    "                                        skip_extended_batch_computations=True, debug_print=False, fail_on_exception=False) # , active_pickle_filename = 'loadedSessPickle_withParameters.pkl'\n",
    "\n",
    "\n",
    "if not force_reload: # not just force_reload, needs to recompute whenever the computation fails.\n",
    "    try:\n",
    "        curr_active_pipeline.load_pickled_global_computation_results()\n",
    "    except Exception as e:\n",
    "        print(f'cannot load global results: {e}')\n",
    "\n",
    "# 6m 1.1s\n",
    "# 12m 15.6s\n",
    "\n",
    "## Post Compute Validate 2023-05-16:\n",
    "# from scripts.run_BatchAnalysis import post_compute_validate\n",
    "# post_compute_validate(curr_active_pipeline)\n",
    "\n",
    "\n",
    "curr_active_pipeline.reload_default_computation_functions()\n",
    "extended_computations_include_includelist=['long_short_fr_indicies_analyses', 'jonathan_firing_rate_analysis', 'long_short_decoding_analyses', 'long_short_post_decoding'] # do only specifiedl , 'long_short_rate_remapping'\n",
    "force_recompute_global = force_reload\n",
    "newly_computed_values = batch_extended_computations(curr_active_pipeline, include_includelist=extended_computations_include_includelist, include_global_functions=True, fail_on_exception=True, progress_print=True, force_recompute=force_recompute_global, debug_print=False)\n",
    "if (len(newly_computed_values) > 0) and (saving_mode.value != 'skip_saving'):\n",
    "\tprint(f'newly_computed_values: {newly_computed_values}. Saving global results...')\n",
    "\ttry:\n",
    "\t\t# curr_active_pipeline.global_computation_results.persist_time = datetime.now()\n",
    "\t\t# Try to write out the global computation function results:\n",
    "\t\tcurr_active_pipeline.save_global_computation_results()\n",
    "\texcept Exception as e:\n",
    "\t\tprint(f'\\n\\n!!WARNING!!: saving the global results threw the exception: {e}')\n",
    "\t\tprint(f'\\tthe global results are currently unsaved! proceed with caution and save as soon as you can!\\n\\n\\n')\n",
    "else:\n",
    "\tprint(f'no changes in global results.')\n",
    "# 10m 29.5s"
   ]
  },
  {
   "attachments": {},
   "cell_type": "markdown",
   "id": "c850782f",
   "metadata": {},
   "source": [
    "# End Run"
   ]
  },
  {
   "cell_type": "code",
   "execution_count": 3,
   "id": "87dc7ae9",
   "metadata": {},
   "outputs": [
    {
     "name": "stdout",
     "output_type": "stream",
     "text": [
      "good_example_epoch_indicies_L: [10 12 17]\n",
      "good_example_epoch_indicies_S: [16 18]\n"
     ]
    }
   ],
   "source": [
    "## long_short_decoding_analyses:\n",
    "curr_long_short_decoding_analyses = curr_active_pipeline.global_computation_results.computed_data['long_short_leave_one_out_decoding_analysis']\n",
    "## Extract variables from results object:\n",
    "long_one_step_decoder_1D, short_one_step_decoder_1D, long_replays, short_replays, global_replays, long_shared_aclus_only_decoder, short_shared_aclus_only_decoder, shared_aclus, long_short_pf_neurons_diff, n_neurons, long_results_obj, short_results_obj, is_global = curr_long_short_decoding_analyses.long_decoder, curr_long_short_decoding_analyses.short_decoder, curr_long_short_decoding_analyses.long_replays, curr_long_short_decoding_analyses.short_replays, curr_long_short_decoding_analyses.global_replays, curr_long_short_decoding_analyses.long_shared_aclus_only_decoder, curr_long_short_decoding_analyses.short_shared_aclus_only_decoder, curr_long_short_decoding_analyses.shared_aclus, curr_long_short_decoding_analyses.long_short_pf_neurons_diff, curr_long_short_decoding_analyses.n_neurons, curr_long_short_decoding_analyses.long_results_obj, curr_long_short_decoding_analyses.short_results_obj, curr_long_short_decoding_analyses.is_global\n",
    "\n",
    "# (long_one_step_decoder_1D, short_one_step_decoder_1D), (long_one_step_decoder_2D, short_one_step_decoder_2D) = compute_short_long_constrained_decoders(curr_active_pipeline, recalculate_anyway=True)\n",
    "long_epoch_name, short_epoch_name, global_epoch_name = curr_active_pipeline.find_LongShortGlobal_epoch_names()\n",
    "long_epoch_context, short_epoch_context, global_epoch_context = [curr_active_pipeline.filtered_contexts[a_name] for a_name in (long_epoch_name, short_epoch_name, global_epoch_name)]\n",
    "long_session, short_session, global_session = [curr_active_pipeline.filtered_sessions[an_epoch_name] for an_epoch_name in [long_epoch_name, short_epoch_name, global_epoch_name]]\n",
    "long_results, short_results, global_results = [curr_active_pipeline.computation_results[an_epoch_name]['computed_data'] for an_epoch_name in [long_epoch_name, short_epoch_name, global_epoch_name]]\n",
    "long_computation_config, short_computation_config, global_computation_config = [curr_active_pipeline.computation_results[an_epoch_name]['computation_config'] for an_epoch_name in [long_epoch_name, short_epoch_name, global_epoch_name]]\n",
    "long_pf1D, short_pf1D, global_pf1D = long_results.pf1D, short_results.pf1D, global_results.pf1D\n",
    "long_pf2D, short_pf2D, global_pf2D = long_results.pf2D, short_results.pf2D, global_results.pf2D\n",
    "decoding_time_bin_size = long_one_step_decoder_1D.time_bin_size # 1.0/30.0 # 0.03333333333333333\n",
    "\n",
    "## Get global 'long_short_post_decoding' results:\n",
    "curr_long_short_post_decoding = curr_active_pipeline.global_computation_results.computed_data['long_short_post_decoding']\n",
    "expected_v_observed_result, curr_long_short_rr = curr_long_short_post_decoding.expected_v_observed_result, curr_long_short_post_decoding.rate_remapping\n",
    "rate_remapping_df, high_remapping_cells_only = curr_long_short_rr.rr_df, curr_long_short_rr.high_only_rr_df\n",
    "Flat_epoch_time_bins_mean, Flat_decoder_time_bin_centers, num_neurons, num_timebins_in_epoch, num_total_flat_timebins, is_short_track_epoch, is_long_track_epoch, short_short_diff, long_long_diff = expected_v_observed_result['Flat_epoch_time_bins_mean'], expected_v_observed_result['Flat_decoder_time_bin_centers'], expected_v_observed_result['num_neurons'], expected_v_observed_result['num_timebins_in_epoch'], expected_v_observed_result['num_total_flat_timebins'], expected_v_observed_result['is_short_track_epoch'], expected_v_observed_result['is_long_track_epoch'], expected_v_observed_result['short_short_diff'], expected_v_observed_result['long_long_diff']\n",
    "\n",
    "jonathan_firing_rate_analysis_result = JonathanFiringRateAnalysisResult(**curr_active_pipeline.global_computation_results.computed_data.jonathan_firing_rate_analysis.to_dict())\n",
    "(epochs_df_L, epochs_df_S), (filter_epoch_spikes_df_L, filter_epoch_spikes_df_S), (good_example_epoch_indicies_L, good_example_epoch_indicies_S), (short_exclusive, long_exclusive, BOTH_subset, EITHER_subset, XOR_subset, NEITHER_subset), new_all_aclus_sort_indicies, assigning_epochs_obj = PAPER_FIGURE_figure_1_add_replay_epoch_rasters(curr_active_pipeline)\n"
   ]
  },
  {
   "cell_type": "code",
   "execution_count": null,
   "id": "bcc30a2b",
   "metadata": {},
   "outputs": [],
   "source": [
    "## To file only:\n",
    "with matplotlib_file_only():\n",
    "\t# Perform non-interactive Matplotlib operations with 'AGG' backend\n",
    "\tmain_complete_figure_generations(curr_active_pipeline, save_figures_only=True, save_figure=True)\n",
    "\n",
    "## Clear the Programmatically open figures:\n",
    "plt.close('all') # this takes care of the matplotlib-backed figures.\n",
    "curr_active_pipeline.clear_display_outputs()\n",
    "curr_active_pipeline.clear_registered_output_files()\n"
   ]
  },
  {
   "cell_type": "code",
   "execution_count": null,
   "id": "44783dac",
   "metadata": {},
   "outputs": [],
   "source": [
    "# Showing\n",
    "with matplotlib_configuration(is_interactive=True, backend='Qt5Agg'):\n",
    "\t# Perform interactive Matplotlib operations with 'Qt5Agg' backend\n",
    "\tmain_complete_figure_generations(curr_active_pipeline, save_figures_only=False, save_figure=True)"
   ]
  },
  {
   "cell_type": "code",
   "execution_count": null,
   "id": "10171ac9",
   "metadata": {},
   "outputs": [],
   "source": [
    "# the core desire is actually to be able to suppress figure display and interaction for batch saving to file only ('AGG' mode)\n",
    "\n",
    "from pyphoplacecellanalysis.General.Batch.PhoDiba2023Paper import AssigningEpochs, TrackAssignmentDecision, TrackAssignmentState\n",
    "\n",
    "with matplotlib_configuration(is_interactive=True, backend='Qt5Agg'):\n",
    "\t# Perform interactive Matplotlib operations with 'Qt5Agg' backend\n",
    "\tfig, axs = AssigningEpochs.main_plot_iterative_epoch_track_assignments(curr_active_pipeline=curr_active_pipeline, defer_render=False)\n"
   ]
  },
  {
   "cell_type": "code",
   "execution_count": null,
   "id": "64444d5c",
   "metadata": {},
   "outputs": [],
   "source": [
    "# Save the manual user selections for the replays:\n",
    "\n",
    "# [13 23 41 46]\n",
    "IdentifyingContext<('kdiba', 'pin01', 'one', '11-02_17-46-44', 'DecodedEpochSlices', 'replays', 'long_results_obj', 'selections')>\n",
    "# [ 4  7 10 15 21 23 41]"
   ]
  },
  {
   "cell_type": "code",
   "execution_count": null,
   "id": "e7386d34",
   "metadata": {},
   "outputs": [],
   "source": [
    "## Interactively get the user selections for the good replays and generate the two entries to add to the UserAnnotations class:\n"
   ]
  },
  {
   "cell_type": "code",
   "execution_count": null,
   "id": "80a64dbc",
   "metadata": {},
   "outputs": [],
   "source": []
  },
  {
   "cell_type": "code",
   "execution_count": null,
   "id": "9185a971",
   "metadata": {},
   "outputs": [],
   "source": [
    "# curr_active_pipeline.active_config_names\n",
    "curr_active_pipeline.active_configs"
   ]
  },
  {
   "cell_type": "code",
   "execution_count": null,
   "id": "a38e232e",
   "metadata": {},
   "outputs": [],
   "source": [
    "curr_active_pipeline.active_config_names\n",
    "\n",
    "# ['maze1_odd', 'maze2_odd',  'maze_odd',\n",
    "#  'maze1_even','maze2_even', 'maze_even',\n",
    "#  'maze1_any', 'maze2_any', 'maze_any']\n"
   ]
  },
  {
   "cell_type": "code",
   "execution_count": null,
   "id": "5bf44ecd",
   "metadata": {},
   "outputs": [],
   "source": [
    "curr_active_pipeline.reload_default_display_functions()"
   ]
  },
  {
   "cell_type": "code",
   "execution_count": null,
   "id": "28f2ed1f",
   "metadata": {},
   "outputs": [],
   "source": [
    "plt.show()"
   ]
  },
  {
   "cell_type": "code",
   "execution_count": null,
   "id": "f3dd09a9",
   "metadata": {
    "tags": [
     "interactive"
    ]
   },
   "outputs": [],
   "source": [
    "# ==================================================================================================================== #\n",
    "# HELPERS: Interactive Components                                                                                      #\n",
    "# ==================================================================================================================== #\n",
    "from neuropy.utils.matplotlib_helpers import interactive_select_grid_bin_bounds_2D\n",
    "# fig, ax, rect_selector, set_extents = interactive_select_grid_bin_bounds_2D(curr_active_pipeline, epoch_name='maze', should_block_for_input=True)\n",
    "# required to enable non-blocking interaction:\n",
    "# %gui qt5\n",
    "\n",
    "# %lsmagic\n",
    "\n",
    "# with plt.ion():\n",
    "grid_bin_bounds = interactive_select_grid_bin_bounds_2D(curr_active_pipeline, epoch_name='maze', should_block_for_input=True, should_apply_updates_to_pipeline=False)\n",
    "print(f'grid_bin_bounds: {grid_bin_bounds}')\n",
    "print(f\"Add this to `specific_session_override_dict`:\\n\\n{curr_active_pipeline.get_session_context().get_initialization_code_string()}:dict(grid_bin_bounds=({(grid_bin_bounds[0], grid_bin_bounds[1]), (grid_bin_bounds[2], grid_bin_bounds[3])})),\\n\")\n",
    "\n"
   ]
  },
  {
   "cell_type": "code",
   "execution_count": null,
   "id": "ba6767f1",
   "metadata": {},
   "outputs": [],
   "source": [
    "## Common matplotlib figure needs:\n",
    "\n",
    "# - [ ] Rendering to PyQt5-backed window (for display or potentially interaction)\n",
    "\n",
    "# - [ ] Saving to file\n",
    "\n",
    "# - [ ] Blocking for input (for interaction), only occasionally.\n",
    "\n",
    "from neuropy.utils.result_context import overwriting_display_context"
   ]
  },
  {
   "cell_type": "code",
   "execution_count": null,
   "id": "02f8808b",
   "metadata": {},
   "outputs": [],
   "source": [
    "# Display Helpers:\n",
    "\n",
    "# [ ] Changing the Window Title\n",
    "\n",
    "# [ ] Changing the Save File Path/Name\n",
    "\n",
    "# [ ] Changing the various suptitle/titles/axes-titles displayed on the graph in various places\n",
    "\n"
   ]
  },
  {
   "cell_type": "markdown",
   "id": "7edfc40b",
   "metadata": {},
   "source": [
    "# NOW: 2023-07-11 - Testing Batch-computed inst_firing_rates"
   ]
  },
  {
   "cell_type": "code",
   "execution_count": 33,
   "id": "a020d71b",
   "metadata": {},
   "outputs": [
    {
     "name": "stdout",
     "output_type": "stream",
     "text": [
      "global_batch_result_inst_fr_file_path: W:\\Data\\long_short_inst_firing_rates.pkl\n",
      "Loading loaded session pickle file results : W:\\Data\\long_short_inst_firing_rates.pkl... done.\n",
      "num_sessions: 4\n"
     ]
    },
    {
     "data": {
      "text/plain": [
       "[InstantaneousSpikeRateGroupsComputation(instantaneous_time_bin_size_seconds=0.01, active_identifying_session_ctx=IdentifyingContext<('kdiba', 'gor01', 'one', '2006-6-08_14-26-15')>, Fig2_Replay_FR=[(6.950917791324081, 4.62046548426577, array([ 7.093618  ,  3.08721243,  4.48981595,  0.22412488, 15.67256105,\n",
       "         6.92456472, 14.23257373,  5.67337562,  8.02776793,  9.55379352,\n",
       "         1.48068787])), (7.878032102945666, 6.639342509038159, array([ 0.        ,  6.9990123 ,  8.15975438,  1.23061842, 21.90127715,\n",
       "         5.66273019, 18.98462078,  7.85107846,  5.84914309,  9.02895741,\n",
       "         0.99116095])), (2.393934688174453, 1.503684997812152, array([0.        , 1.34474926, 3.18550061, 0.76787931, 4.9380657 ,\n",
       "        2.28900111, 4.26576626, 2.01712389, 2.73732605])), (11.045302132497005, 7.0164202583217925, array([22.91736103,  3.12377521,  4.21243402,  5.20051755, 20.21270298,\n",
       "        18.34746342,  8.59409545,  7.63954668,  9.15982286]))], Fig2_Laps_FR=[(44.152542031551576, 22.52100967591375, array([35.15251441, 41.66069477,  4.98677851, 15.37395496, 35.26129489,\n",
       "        59.11900795, 72.06217233, 78.23503774, 33.38138055, 71.42532107,\n",
       "        39.01980517])), (30.715642311703633, 23.461102688577956, array([ 1.04984811,  4.83615749, 37.52227742,  8.22104659, 46.18848211,\n",
       "        57.02860977, 60.23678129, 67.14828879, 13.05720408, 34.18458494,\n",
       "         8.39878485])), (25.06361650588731, 16.283850148108478, array([ 3.9894228 ,  2.9920671 , 28.57453673,  7.72139413, 46.71840499,\n",
       "        21.985472  , 30.21114823, 35.19616098, 48.18394158])), (53.993932172078885, 23.191943462265804, array([64.86207382, 15.55832058, 32.5795723 , 54.43506117, 89.47034065,\n",
       "        87.56794323, 56.39326417, 34.39523235, 50.68358128]))]),\n",
       " InstantaneousSpikeRateGroupsComputation(instantaneous_time_bin_size_seconds=0.01, active_identifying_session_ctx=IdentifyingContext<('kdiba', 'gor01', 'one', '2006-6-12_15-55-31')>, Fig2_Replay_FR=[(27.660525091286075, 27.660525091286075, array([55.32105018,  0.        ])), (9.768390942272681, 6.248311997554158, array([16.01670294,  3.52007894])), (14.236141825430147, 18.155292115943297, array([ 0.        , 39.85883776,  2.84958772])), (8.89006965759685, 10.955047937508509, array([ 0.        , 24.32348968,  2.3467193 ]))], Fig2_Laps_FR=[(44.225569084323325, 9.690677335295572, array([53.91624642, 34.53489175])), (26.649820830013656, 16.08958399585809, array([42.73940483, 10.56023683])), (16.46178092086152, 18.260259784367754, array([ 2.04586166, 42.22483648,  5.11464462])), (60.21253986170104, 13.08112605301457, array([55.32011319, 78.10938131, 47.20812508]))]),\n",
       " InstantaneousSpikeRateGroupsComputation(instantaneous_time_bin_size_seconds=0.01, active_identifying_session_ctx=IdentifyingContext<('kdiba', 'gor01', 'two', '2006-6-07_16-40-19')>, Fig2_Replay_FR=[(9.23677620700864, 11.884596627973854, array([ 0.33524561, 26.03410055,  1.34098246])), (4.649986910247452, 5.974123056804803, array([ 0.86609866, 13.08386208,  0.        ])), (1.7440069833447154, 1.2343744045722898, array([2.55005604, 0.        , 2.68196491])), (11.280622996849827, 9.941556859565734, array([ 5.39704077, 25.28086899,  3.16395923]))], Fig2_Laps_FR=[(33.28543336904013, 21.43023755945603, array([ 2.9920671 , 47.64688215, 49.21735085])), (23.944269058721233, 11.28808804243783, array([11.19271548, 38.63748587, 22.00260583])), (12.053651149676085, 8.067478755367544, array([ 8.79627034,  4.21300035, 23.15168276])), (70.64769596676105, 31.105126111481923, array([ 37.93185138, 112.47223249,  61.53900402]))]),\n",
       " InstantaneousSpikeRateGroupsComputation(instantaneous_time_bin_size_seconds=0.01, active_identifying_session_ctx=IdentifyingContext<('kdiba', 'pin01', 'one', '11-02_17-46-44')>, Fig2_Replay_FR=[(8.697013637670503, 5.711021390809969, array([ 7.97884561,  7.98018391,  3.9894228 , 19.54719306,  3.9894228 ])), (10.692050553076307, 11.83393990055223, array([ 5.3911119 ,  2.15644476,  0.        , 32.55083135, 13.36186476])), (4.202255301170874, 4.212953380588738, array([7.98018391, 0.        , 0.        , 8.82883729])), (12.714132409505956, 2.780773604301583, array([12.98585404, 15.70085151,  8.20153159, 13.9682925 ]))], Fig2_Laps_FR=[(46.366753039107394, 17.763126847873313, array([76.60168106, 31.05681328, 55.70569052, 39.10887724, 29.3607031 ])), (6.2218273112365035, 3.5858440000875116, array([ 8.62577904,  2.81041969,  1.07822238,  8.43125907, 10.16345638])), (6.563356593303122, 6.028757991544125, array([ 3.71376888,  4.27438158, 16.84048206,  1.42479386])), (37.80259921252198, 12.546765120199497, array([58.20747888, 25.6821346 , 29.65385221, 37.66693116]))])]"
      ]
     },
     "execution_count": 33,
     "metadata": {},
     "output_type": "execute_result"
    }
   ],
   "source": [
    "from typing import List, Dict, Optional\n",
    "from pyphoplacecellanalysis.General.Pipeline.Stages.Loading import saveData, loadData\n",
    "from pyphoplacecellanalysis.General.Batch.PhoDiba2023Paper import PaperFigureTwo, InstantaneousSpikeRateGroupsComputation\n",
    "from pyphoplacecellanalysis.General.Pipeline.Stages.ComputationFunctions.SpikeAnalysis import SpikeRateTrends\n",
    "\n",
    "## Save the instantaneous firing rate results dict: (# Dict[IdentifyingContext] = InstantaneousSpikeRateGroupsComputation)\n",
    "inst_fr_output_filename = 'long_short_inst_firing_rates.pkl'\n",
    "global_batch_result_inst_fr_file_path = Path(global_data_root_parent_path).joinpath(inst_fr_output_filename).resolve() # Use Default\n",
    "print(f'global_batch_result_inst_fr_file_path: {global_batch_result_inst_fr_file_path}')\n",
    "\n",
    "across_sessions_instantaneous_fr_dict = loadData(global_batch_result_inst_fr_file_path)\n",
    "num_sessions = len(across_sessions_instantaneous_fr_dict)\n",
    "print(f'num_sessions: {num_sessions}')\n",
    "across_sessions_instantaneous_fr_dict\n",
    "\n",
    "across_sessions_instantaneous_frs_list: List[InstantaneousSpikeRateGroupsComputation] = list(across_sessions_instantaneous_fr_dict.values())\n",
    "across_sessions_instantaneous_frs_list"
   ]
  },
  {
   "cell_type": "code",
   "execution_count": 45,
   "id": "2fa7e8fc",
   "metadata": {},
   "outputs": [
    {
     "data": {
      "text/plain": [
       "InstantaneousSpikeRateGroupsComputation(instantaneous_time_bin_size_seconds=0.01, active_identifying_session_ctx=IdentifyingContext<('kdiba',)>, Fig2_Replay_FR=[(9.665549652215025, 12.121991758827198, array([ 7.093618  ,  3.08721243,  4.48981595,  0.22412488, 15.67256105,\n",
       "        6.92456472, 14.23257373,  5.67337562,  8.02776793,  9.55379352,\n",
       "        1.48068787, 55.32105018,  0.        ,  0.33524561, 26.03410055,\n",
       "        1.34098246,  7.97884561,  7.98018391,  3.9894228 , 19.54719306,\n",
       "        3.9894228 ])), (8.266921357765314, 8.295376734528158, array([ 0.        ,  6.9990123 ,  8.15975438,  1.23061842, 21.90127715,\n",
       "        5.66273019, 18.98462078,  7.85107846,  5.84914309,  9.02895741,\n",
       "        0.99116095, 16.01670294,  3.52007894,  0.86609866, 13.08386208,\n",
       "        0.        ,  5.3911119 ,  2.15644476,  0.        , 32.55083135,\n",
       "       13.36186476])), (4.541835780240955, 8.681999758732276, array([ 0.        ,  1.34474926,  3.18550061,  0.76787931,  4.9380657 ,\n",
       "        2.28900111,  4.26576626,  2.01712389,  2.73732605,  0.        ,\n",
       "       39.85883776,  2.84958772,  2.55005604,  0.        ,  2.68196491,\n",
       "        7.98018391,  0.        ,  0.        ,  8.82883729])), (11.093490883886153, 7.799264933804818, array([22.91736103,  3.12377521,  4.21243402,  5.20051755, 20.21270298,\n",
       "       18.34746342,  8.59409545,  7.63954668,  9.15982286,  0.        ,\n",
       "       24.32348968,  2.3467193 ,  5.39704077, 25.28086899,  3.16395923,\n",
       "       12.98585404, 15.70085151,  8.20153159, 13.9682925 ]))], Fig2_Laps_FR=[(43.13424599135102, 20.79309950630211, array([35.15251441, 41.66069477,  4.98677851, 15.37395496, 35.26129489,\n",
       "       59.11900795, 72.06217233, 78.23503774, 33.38138055, 71.42532107,\n",
       "       39.01980517, 53.91624642, 34.53489175,  2.9920671 , 47.64688215,\n",
       "       49.21735085, 76.60168106, 31.05681328, 55.70569052, 39.10887724,\n",
       "       29.3607031 ])), (23.52922146767207, 20.822119610979623, array([ 1.04984811,  4.83615749, 37.52227742,  8.22104659, 46.18848211,\n",
       "       57.02860977, 60.23678129, 67.14828879, 13.05720408, 34.18458494,\n",
       "        8.39878485, 42.73940483, 10.56023683, 11.19271548, 38.63748587,\n",
       "       22.00260583,  8.62577904,  2.81041969,  1.07822238,  8.43125907,\n",
       "       10.16345638])), (17.75643532304269, 15.913763199917197, array([ 3.9894228 ,  2.9920671 , 28.57453673,  7.72139413, 46.71840499,\n",
       "       21.985472  , 30.21114823, 35.19616098, 48.18394158,  2.04586166,\n",
       "       42.22483648,  5.11464462,  8.79627034,  4.21300035, 23.15168276,\n",
       "        3.71376888,  4.27438158, 16.84048206,  1.42479386])), (54.19665757285179, 23.93228232660969, array([ 64.86207382,  15.55832058,  32.5795723 ,  54.43506117,\n",
       "        89.47034065,  87.56794323,  56.39326417,  34.39523235,\n",
       "        50.68358128,  55.32011319,  78.10938131,  47.20812508,\n",
       "        37.93185138, 112.47223249,  61.53900402,  58.20747888,\n",
       "        25.6821346 ,  29.65385221,  37.66693116]))])"
      ]
     },
     "execution_count": 45,
     "metadata": {},
     "output_type": "execute_result"
    }
   ],
   "source": [
    "## Aggregate across all of the sessions to build a new combined `InstantaneousSpikeRateGroupsComputation`, which can be used to plot the \"PaperFigureTwo\", bar plots for many sessions.\n",
    "global_multi_session_context = IdentifyingContext(format_name='kdiba', num_sessions=num_sessions) # some global context across all of the sessions, not sure what to put here.\n",
    "# _out.cell_agg_inst_fr_list = cell_agg_firing_rates_list # .shape (n_cells,)\n",
    "_out = InstantaneousSpikeRateGroupsComputation()\n",
    "_out.active_identifying_session_ctx = global_multi_session_context \n",
    "\n",
    "# Note that in general LxC and SxC might have differing numbers of cells.\n",
    "_out.Fig2_Laps_FR = [(v.mean(), v.std(), v) for v in (np.concatenate([across_sessions_instantaneous_frs_list[i].LxC_ThetaDeltaMinus.cell_agg_inst_fr_list for i in np.arange(num_sessions)]),\n",
    "\t\t\t\t\t\t\t\t\t\t\t\tnp.concatenate([across_sessions_instantaneous_frs_list[i].LxC_ThetaDeltaPlus.cell_agg_inst_fr_list for i in np.arange(num_sessions)]),\n",
    "\t\t\t\t\t\t\t\t\t\t\t\tnp.concatenate([across_sessions_instantaneous_frs_list[i].SxC_ThetaDeltaMinus.cell_agg_inst_fr_list for i in np.arange(num_sessions)]),\n",
    "\t\t\t\t\t\t\t\t\t\t\t\tnp.concatenate([across_sessions_instantaneous_frs_list[i].SxC_ThetaDeltaPlus.cell_agg_inst_fr_list for i in np.arange(num_sessions)]))]\n",
    "\n",
    "\n",
    "_out.Fig2_Replay_FR = [(v.mean(), v.std(), v) for v in (np.concatenate([across_sessions_instantaneous_frs_list[i].LxC_ReplayDeltaMinus.cell_agg_inst_fr_list for i in np.arange(num_sessions)]),\n",
    "\t\t\t\t\t\t\t\t\t\t\t\tnp.concatenate([across_sessions_instantaneous_frs_list[i].LxC_ReplayDeltaPlus.cell_agg_inst_fr_list for i in np.arange(num_sessions)]),\n",
    "\t\t\t\t\t\t\t\t\t\t\t\tnp.concatenate([across_sessions_instantaneous_frs_list[i].SxC_ReplayDeltaMinus.cell_agg_inst_fr_list for i in np.arange(num_sessions)]),\n",
    "\t\t\t\t\t\t\t\t\t\t\t\tnp.concatenate([across_sessions_instantaneous_frs_list[i].SxC_ReplayDeltaPlus.cell_agg_inst_fr_list for i in np.arange(num_sessions)]))]\n",
    "\n",
    "_out\n",
    "\n",
    "\n",
    "# To correctly aggregate results across sessions, it only makes sense to combine entries at the `.cell_agg_inst_fr_list` variable and lower (as the number of cells can be added across sessions, treated as unique for each session).\n",
    "\n",
    "## Display the aggregate across sessions:\n",
    "_out_fig_2 = PaperFigureTwo(instantaneous_time_bin_size_seconds=0.01) # WARNING: we didn't save this info\n",
    "# _out_fig_2.compute(curr_active_pipeline=curr_active_pipeline)\n",
    "# Cannot call `.compute(curr_active_pipeline=curr_active_pipeline)` like we normally would because everything is manually set.\n",
    "_out_fig_2.computation_result = _out\n",
    "_out_fig_2.active_identifying_session_ctx = _out.active_identifying_session_ctx\n",
    "# Set callback, the only self-specific property\n",
    "_out_fig_2._pipeline_file_callback_fn = curr_active_pipeline.output_figure # lambda args, kwargs: self.write_to_file(args, kwargs, curr_active_pipeline)\n",
    "_out_fig_2.display(active_context=global_multi_session_context)"
   ]
  },
  {
   "attachments": {},
   "cell_type": "markdown",
   "id": "f18ee7c5",
   "metadata": {},
   "source": [
    "# 2023-07-03 - Looking at directional placefields\n",
    "The purpose of looking at this was to see if the bimodality actually should have belonged to directional placecells, and if splitting on direction would result in cleaner time spike rasters during replays instead of the strange bimodal setup I see now.\n",
    "- [ ] I realized why my replay rasters don't look as clean and simple as yours despite the replays looking good. I think your unidirectional filter results in less bimodal placefields. \n"
   ]
  },
  {
   "cell_type": "code",
   "execution_count": null,
   "id": "c3cc7478",
   "metadata": {},
   "outputs": [],
   "source": [
    "# ==================================================================================================================== #\n",
    "# Show 1D Placefields for both Short and Long (top half of the figure)                                                 #\n",
    "# ==================================================================================================================== #\n",
    "active_identifying_session_ctx = curr_active_pipeline.sess.get_context() # 'bapun_RatN_Day4_2019-10-15_11-30-06'\n",
    "\n",
    "long_single_cell_pfmap_processing_fn = None\n",
    "short_single_cell_pfmap_processing_fn = None\n",
    "# sort_idx = None\n",
    "# sort_idx = sort_ind\n",
    "# sort_idx = sort_indicies\n",
    "# sort_idx = new_all_aclus_sort_indicies\n",
    "sort_idx = 'peak_long'\n",
    "# sort_idx = 'bad'\n",
    "\n",
    "# include_includelist = ['maze1_odd', 'maze2_odd', 'maze_odd'] # Odd Only\n",
    "# include_includelist = ['maze1_even','maze2_even', 'maze_even'] # Even laps only\n",
    "# include_includelist = ['maze1_any','maze2_any', 'maze_any']\n",
    "\n",
    "# active_identifying_session_ctx\n",
    "\n",
    "# with plt.ion():\n",
    "with plt.ioff():\n",
    "\tpf1d_compare_graphics = curr_active_pipeline.display('_display_short_long_pf1D_comparison', active_identifying_session_ctx.overwriting_context(laps='all'), include_includelist=['maze1_any','maze2_any', 'maze_any'], single_figure=False, debug_print=False, fignum='Short v Long pf1D Comparison - all laps',\n",
    "\t\t\t\t\t\t\t\t\tlong_kwargs={'sortby': sort_idx, 'single_cell_pfmap_processing_fn': long_single_cell_pfmap_processing_fn},\n",
    "\t\t\t\t\t\t\t\t\tshort_kwargs={'sortby': sort_idx, 'single_cell_pfmap_processing_fn': short_single_cell_pfmap_processing_fn, 'curve_hatch_style': {'hatch':'///', 'edgecolor':'k'}},\n",
    "\t\t\t\t\t\t\t\t\tsave_figure=True,\n",
    "\t\t\t\t\t\t\t\t\tdefer_render=False\n",
    "\t\t\t\t\t\t\t\t\t)"
   ]
  },
  {
   "cell_type": "code",
   "execution_count": null,
   "id": "8a5f6a24",
   "metadata": {},
   "outputs": [],
   "source": [
    "with plt.ion():\n",
    "\tpf1d_compare_graphics = curr_active_pipeline.display('_display_short_long_pf1D_comparison', active_identifying_session_ctx.overwriting_context(laps='even'), include_includelist=['maze1_even','maze2_even', 'maze_even'], single_figure=False, debug_print=False, fignum='Short v Long pf1D Comparison - EVEN laps only',\n",
    "\t\t\t\t\t\t\t\t\tlong_kwargs={'sortby': sort_idx, 'single_cell_pfmap_processing_fn': long_single_cell_pfmap_processing_fn},\n",
    "\t\t\t\t\t\t\t\t\tshort_kwargs={'sortby': sort_idx, 'single_cell_pfmap_processing_fn': short_single_cell_pfmap_processing_fn, 'curve_hatch_style': {'hatch':'///', 'edgecolor':'k'}},\n",
    "\t\t\t\t\t\t\t\t\tsave_figure=True,\n",
    "\t\t\t\t\t\t\t\t\tdefer_render=False\n",
    "\t\t\t\t\t\t\t\t\t)"
   ]
  },
  {
   "cell_type": "code",
   "execution_count": null,
   "id": "af4f75a1",
   "metadata": {},
   "outputs": [],
   "source": [
    "with plt.ion():\n",
    "\tpf1d_compare_graphics = curr_active_pipeline.display('_display_short_long_pf1D_comparison', active_identifying_session_ctx.overwriting_context(laps='odd'), include_includelist=['maze1_odd', 'maze2_odd', 'maze_odd'], single_figure=False, debug_print=False, fignum='Short v Long pf1D Comparison - ODD laps only',\n",
    "\t\t\t\t\t\t\t\t\tlong_kwargs={'sortby': sort_idx, 'single_cell_pfmap_processing_fn': long_single_cell_pfmap_processing_fn},\n",
    "\t\t\t\t\t\t\t\t\tshort_kwargs={'sortby': sort_idx, 'single_cell_pfmap_processing_fn': short_single_cell_pfmap_processing_fn, 'curve_hatch_style': {'hatch':'///', 'edgecolor':'k'}},\n",
    "\t\t\t\t\t\t\t\t\tsave_figure=True,\n",
    "\t\t\t\t\t\t\t\t\tdefer_render=False\n",
    "\t\t\t\t\t\t\t\t\t)"
   ]
  },
  {
   "cell_type": "code",
   "execution_count": null,
   "id": "4bdbe714",
   "metadata": {},
   "outputs": [],
   "source": [
    "long_epoch_name, short_epoch_name, global_epoch_name = curr_active_pipeline.find_LongShortGlobal_epoch_names()\n",
    "\n",
    "print(long_epoch_name, short_epoch_name, global_epoch_name)"
   ]
  },
  {
   "attachments": {},
   "cell_type": "markdown",
   "id": "943b8f18",
   "metadata": {},
   "source": [
    "# Common Display Setup"
   ]
  },
  {
   "cell_type": "code",
   "execution_count": null,
   "id": "6ef70fb2",
   "metadata": {},
   "outputs": [],
   "source": [
    "import matplotlib\n",
    "# configure backend here\n",
    "matplotlib.use('Qt5Agg')\n",
    "# backend_qt5agg\n",
    "# %matplotlib qt5\n",
    "# %matplotlib qt\n",
    "# matplotlib.use('AGG') # non-interactive backend ## 2022-08-16 - Surprisingly this works to make the matplotlib figures render only to .png file, not appear on the screen!\n",
    "\n",
    "import matplotlib as mpl\n",
    "import matplotlib.pyplot as plt\n",
    "_bak_rcParams = mpl.rcParams.copy()\n",
    "# mpl.rcParams['toolbar'] = 'None' # disable toolbars"
   ]
  },
  {
   "cell_type": "code",
   "execution_count": null,
   "id": "421aa51e",
   "metadata": {},
   "outputs": [],
   "source": [
    "curr_active_pipeline.filtered_contexts['maze1']"
   ]
  },
  {
   "attachments": {},
   "cell_type": "markdown",
   "id": "f9e59bdb",
   "metadata": {},
   "source": [
    "# Figure 1) pf1D Ratemaps, Active set, etc"
   ]
  },
  {
   "cell_type": "code",
   "execution_count": null,
   "id": "f77377ba",
   "metadata": {},
   "outputs": [],
   "source": [
    "from pyphoplacecellanalysis.General.Pipeline.Stages.DisplayFunctions.SpikeRasters import plot_multiple_raster_plot, plot_raster_plot\n",
    "from pyphoplacecellanalysis.Pho2D.matplotlib.visualize_heatmap import visualize_heatmap_pyqtgraph # used in `plot_kourosh_activity_style_figure`\n",
    "from pyphoplacecellanalysis.General.Batch.PhoDiba2023Paper import PAPER_FIGURE_figure_1_full, PAPER_FIGURE_figure_1_add_replay_epoch_rasters\n",
    "\n",
    "pf1d_compare_graphics, (example_epoch_rasters_L, example_epoch_rasters_S), example_stacked_epoch_graphics = PAPER_FIGURE_figure_1_full(curr_active_pipeline) # did not display the pf1"
   ]
  },
  {
   "cell_type": "code",
   "execution_count": null,
   "id": "3877d9aa",
   "metadata": {},
   "outputs": [],
   "source": [
    "pf1d_compare_fig_L, pf1d_compare_fig_S = pf1d_compare_graphics.figures\n"
   ]
  },
  {
   "cell_type": "code",
   "execution_count": null,
   "id": "46626313",
   "metadata": {},
   "outputs": [],
   "source": [
    "pf1d_compare_fig_L.show()"
   ]
  },
  {
   "cell_type": "code",
   "execution_count": null,
   "id": "999442a4",
   "metadata": {},
   "outputs": [],
   "source": [
    "plt.show()"
   ]
  },
  {
   "cell_type": "code",
   "execution_count": null,
   "id": "d44ffa57",
   "metadata": {
    "tags": [
     "active"
    ]
   },
   "outputs": [],
   "source": [
    "from pyphoplacecellanalysis.General.Batch.PhoDiba2023Paper import build_shared_sorted_neuronIDs\n",
    "\n",
    "ratemap = long_pf1D.ratemap\n",
    "included_unit_neuron_IDs = EITHER_subset.track_exclusive_aclus\n",
    "rediculous_final_sorted_all_included_neuron_ID, rediculous_final_sorted_all_included_pfmap = build_shared_sorted_neuronIDs(ratemap, included_unit_neuron_IDs, sort_ind=new_all_aclus_sort_indicies.copy())"
   ]
  },
  {
   "cell_type": "code",
   "execution_count": null,
   "id": "17c7755b",
   "metadata": {},
   "outputs": [],
   "source": [
    "heatmap_pf1D_win, heatmap_pf1D_img = visualize_heatmap_pyqtgraph(rediculous_final_sorted_all_included_pfmap, show_yticks=False, title=f\"pf1D Sorted Visualization\", defer_show=True)"
   ]
  },
  {
   "cell_type": "code",
   "execution_count": null,
   "id": "e66369f5",
   "metadata": {},
   "outputs": [],
   "source": [
    "active_curves_sorted = long_pf1D.ratemap.normalized_tuning_curves[is_included][included_new_all_aclus_sort_indicies]\n",
    "heatmap_pf1D_win, heatmap_pf1D_img = visualize_heatmap_pyqtgraph(active_curves_sorted, show_yticks=False, title=f\"pf1D Sorted Visualization\", defer_show=True)"
   ]
  },
  {
   "cell_type": "code",
   "execution_count": null,
   "id": "9f01ff9e",
   "metadata": {},
   "outputs": [],
   "source": []
  },
  {
   "cell_type": "code",
   "execution_count": null,
   "id": "9c5f0066",
   "metadata": {
    "tags": [
     "unwrap_figure_output",
     "interactive"
    ]
   },
   "outputs": [],
   "source": [
    "from pyphoplacecellanalysis.Pho2D.stacked_epoch_slices import DecodedEpochSlicesPaginatedFigureController\n",
    "\n",
    "## Stacked Epoch Plot\n",
    "example_stacked_epoch_graphics = curr_active_pipeline.display('_display_long_and_short_stacked_epoch_slices', defer_render=False, save_figure=True)\n",
    "pagination_controller_L, pagination_controller_S = example_stacked_epoch_graphics.plot_data['controllers']\n",
    "ax_L, ax_S = example_stacked_epoch_graphics.axes\n",
    "final_figure_context_L, final_context_S = example_stacked_epoch_graphics.context"
   ]
  },
  {
   "cell_type": "code",
   "execution_count": null,
   "id": "ea6b8b4b",
   "metadata": {
    "tags": [
     "selections",
     "user_annotations"
    ]
   },
   "outputs": [],
   "source": [
    "from pyphoplacecellanalysis.GUI.Qt.Mixins.PaginationMixins import SelectionsObject\n",
    "from pyphoplacecellanalysis.General.Model.user_annotations import UserAnnotationsManager\n",
    "\n",
    "user_annotations = UserAnnotationsManager.get_user_annotations()\n",
    "user_annotations"
   ]
  },
  {
   "cell_type": "code",
   "execution_count": null,
   "id": "faaf1f98",
   "metadata": {},
   "outputs": [],
   "source": [
    "## Capture current user selection\n",
    "saved_selection_L: SelectionsObject = pagination_controller_L.save_selection()\n",
    "saved_selection_S: SelectionsObject = pagination_controller_S.save_selection()\n",
    "final_L_context = saved_selection_L.figure_ctx.adding_context_if_missing(user_annotation='selections')\n",
    "final_S_context = saved_selection_S.figure_ctx.adding_context_if_missing(user_annotation='selections')\n",
    "user_annotations[final_L_context] = saved_selection_L.flat_all_data_indicies[saved_selection_L.is_selected]\n",
    "user_annotations[final_S_context] = saved_selection_S.flat_all_data_indicies[saved_selection_S.is_selected]\n",
    "# Updates the context. Needs to generate the code.\n",
    "\n",
    "## Generate code to insert int user_annotations:\n",
    "print('Add the following code to UserAnnotationsManager.get_user_annotations() function body:')\n",
    "print(f\"\\t\\tuser_annotations[{final_L_context.get_initialization_code_string()}] = np.array({list(saved_selection_L.flat_all_data_indicies[saved_selection_L.is_selected])})\")\n",
    "print(f\"\\t\\tuser_annotations[{final_S_context.get_initialization_code_string()}] = np.array({list(saved_selection_S.flat_all_data_indicies[saved_selection_S.is_selected])})\")\n"
   ]
  },
  {
   "cell_type": "code",
   "execution_count": null,
   "id": "c38e130b",
   "metadata": {
    "tags": [
     "selections",
     "user_annotations"
    ]
   },
   "outputs": [],
   "source": [
    "## Update the currently displayed selections with the user annotations:\n",
    "\n",
    "\n",
    "## Capture current user selection\n",
    "saved_selection_L = pagination_controller_L.save_selection()\n",
    "saved_selection_S = pagination_controller_S.save_selection()\n",
    "\n",
    "saved_selection_L = UserAnnotationsManager.update_selections_from_annotations(saved_selection_L, user_annotations)\n",
    "saved_selection_S = UserAnnotationsManager.update_selections_from_annotations(saved_selection_S, user_annotations)\n",
    "## re-apply the selections:\n",
    "pagination_controller_L.restore_selections(saved_selection_L)\n",
    "pagination_controller_S.restore_selections(saved_selection_S)\n"
   ]
  },
  {
   "cell_type": "code",
   "execution_count": null,
   "id": "f8858abb",
   "metadata": {},
   "outputs": [],
   "source": [
    "# unit_colors_list = None # default rainbow of colors for the raster plots\n",
    "neuron_qcolors_list = [pg.mkColor('black') for aclu in EITHER_subset.track_exclusive_aclus] # solid green for all\n",
    "unit_colors_list = DataSeriesColorHelpers.qColorsList_to_NDarray(neuron_qcolors_list, is_255_array=True)\n",
    "\n",
    "# Copy and modify the colors for the cells that are long/short exclusive:\n",
    "unit_colors_list_L = deepcopy(unit_colors_list)\n",
    "is_L_exclusive = np.isin(EITHER_subset.track_exclusive_aclus, long_exclusive.track_exclusive_aclus) # get long exclusive\n",
    "unit_colors_list_L[0, is_L_exclusive] = 255 # [1.0, 0.0, 0.0, 1.0]\n",
    "unit_colors_list_L[1, is_L_exclusive] = 0.0\n",
    "unit_colors_list_L[2, is_L_exclusive] = 0.0\n",
    "\n",
    "unit_colors_list_S = deepcopy(unit_colors_list)\n",
    "is_S_exclusive = np.isin(EITHER_subset.track_exclusive_aclus, short_exclusive.track_exclusive_aclus) # get short exclusive\n",
    "unit_colors_list_S[0, is_S_exclusive] = 0.0 # [1.0, 0.0, 0.0, 1.0]\n",
    "unit_colors_list_S[1, is_S_exclusive] = 0.0\n",
    "unit_colors_list_S[2, is_S_exclusive] = 255.0\n"
   ]
  },
  {
   "cell_type": "code",
   "execution_count": null,
   "id": "f88c7d73",
   "metadata": {},
   "outputs": [],
   "source": [
    "\n",
    "spikes_df = an_epoch_spikes_df.copy()\n",
    "scatterplot_tooltips_kwargs = Render2DScrollWindowPlotMixin._build_spike_data_tuples_from_spikes_df(spikes_df)\n",
    "override_scatter_plot_kwargs = {**scatterplot_tooltips_kwargs}"
   ]
  },
  {
   "cell_type": "code",
   "execution_count": null,
   "id": "7e594d66",
   "metadata": {},
   "outputs": [],
   "source": [
    "override_scatter_plot_kwargs = {} "
   ]
  },
  {
   "cell_type": "code",
   "execution_count": null,
   "id": "1d10d246",
   "metadata": {},
   "outputs": [],
   "source": [
    "\n",
    "vtick = _build_default_tick(tick_width=1.0)\n",
    "\n",
    "# pxMode: If True, spots are always the same size regardless of scaling, and size is given in px. Otherwise, size is in scene coordinates and the spots scale with the view. To ensure effective caching, QPen and QBrush objects should be reused as much as possible. Default is True\n",
    "\n",
    "# size: The size (or list of sizes) of spots. If pxMode is True, this value is in pixels. Otherwise, it is in the item’s local coordinate system.\n",
    "\n",
    "override_scatter_plot_kwargs = dict(pxMode=True, symbol=vtick, size=10, pen={'color': 'w', 'width': 1.0})\n",
    "\n",
    "# override_scatter_plot_kwargs = dict(pxMode=False, symbol=vtick, size=1, pen={'color': 'w', 'width': 1.0})\n"
   ]
  },
  {
   "cell_type": "code",
   "execution_count": null,
   "id": "a26f364b",
   "metadata": {},
   "outputs": [],
   "source": [
    "# Set the symbol properties\n",
    "# symbol = pg.mkPen('w', width=1)  # Pen for the lines\n",
    "size = 1.0  # Fixed x-width\n",
    "symbol_brush = None  # No brush for the symbol (transparent fill)\n",
    "\n",
    "# override_scatter_plot_kwargs = dict(pxMode=False, symbol='|', size=size, pen={'color': 'w', 'width': 1.0}) # , brush=symbol_brush\n",
    "\n",
    "override_scatter_plot_kwargs = dict(pxMode=False, symbol='arrow_up', size=1.0, pen={'color': 'w', 'width': 1.0}, hoverable=True) # "
   ]
  },
  {
   "cell_type": "code",
   "execution_count": null,
   "id": "226bb530",
   "metadata": {},
   "outputs": [],
   "source": [
    "filter_epoch_spikes_df_L.spikes.rebuild_fragile_linear_neuron_IDXs();\n",
    "filter_epoch_spikes_df_S.spikes.rebuild_fragile_linear_neuron_IDXs();"
   ]
  },
  {
   "cell_type": "code",
   "execution_count": null,
   "id": "b889b886",
   "metadata": {},
   "outputs": [],
   "source": [
    "app_L, win_L, plots_L, plots_data_L = plot_multiple_raster_plot(epochs_df_L, filter_epoch_spikes_df_L, included_neuron_ids=EITHER_subset.track_exclusive_aclus, unit_sort_order=new_all_aclus_sort_indicies, unit_colors_list=unit_colors_list, scatter_plot_kwargs=override_scatter_plot_kwargs,\n",
    "\t\t\t\t\t\t\t\t\t\tepoch_id_key_name='replay_epoch_id', scatter_app_name=\"Long Decoded Example Replays\")"
   ]
  },
  {
   "cell_type": "code",
   "execution_count": null,
   "id": "ee132b60",
   "metadata": {},
   "outputs": [],
   "source": [
    "app_S, win_S, plots_S, plots_data_S = plot_multiple_raster_plot(epochs_df_S, filter_epoch_spikes_df_S, included_neuron_ids=EITHER_subset.track_exclusive_aclus, unit_sort_order=new_all_aclus_sort_indicies, unit_colors_list=unit_colors_list, scatter_plot_kwargs=override_scatter_plot_kwargs,\n",
    "                                                                 epoch_id_key_name='replay_epoch_id', scatter_app_name=\"Short Decoded Example Replays\")"
   ]
  },
  {
   "cell_type": "code",
   "execution_count": null,
   "id": "d26dd0e4",
   "metadata": {},
   "outputs": [],
   "source": [
    "# Test single `plot_raster_plot` calls\n",
    "an_epoch = list(epochs_df_L.itertuples())[0]\n",
    "an_epoch_spikes_df = filter_epoch_spikes_df_L[filter_epoch_spikes_df_L['replay_epoch_id'] == an_epoch.Index]\n",
    "\n",
    "_out_single_raster_plot = plot_raster_plot(an_epoch_spikes_df, included_neuron_ids=EITHER_subset.track_exclusive_aclus, unit_sort_order=None, unit_colors_list=unit_colors_list, scatter_plot_kwargs=override_scatter_plot_kwargs, scatter_app_name=\"test1\")\n",
    "_out_single_raster_plot2 = plot_raster_plot(an_epoch_spikes_df, included_neuron_ids=EITHER_subset.track_exclusive_aclus, unit_sort_order=new_all_aclus_sort_indicies, unit_colors_list=unit_colors_list, scatter_plot_kwargs=override_scatter_plot_kwargs, scatter_app_name=\"test2\")"
   ]
  },
  {
   "cell_type": "code",
   "execution_count": null,
   "id": "fe6071c5",
   "metadata": {},
   "outputs": [],
   "source": [
    "app_alt, win_alt, plots_alt, plots_data_alt = plot_multiple_raster_plot(epochs_df_L, filter_epoch_spikes_df_L, included_neuron_ids=EITHER_subset.track_exclusive_aclus, unit_sort_order=None, unit_colors_list=unit_colors_list, scatter_plot_kwargs=override_scatter_plot_kwargs,\n",
    "                                                                         epoch_id_key_name='replay_epoch_id', scatter_app_name=\"ALT Long Decoded Example Replays\")"
   ]
  },
  {
   "attachments": {},
   "cell_type": "markdown",
   "id": "7d20407c",
   "metadata": {},
   "source": [
    "### Testing `plot_kourosh_activity_style_figure` for debugging:"
   ]
  },
  {
   "cell_type": "code",
   "execution_count": null,
   "id": "69512447",
   "metadata": {},
   "outputs": [],
   "source": [
    "from pyphoplacecellanalysis.Analysis.Decoder.decoder_result import plot_kourosh_activity_style_figure\n",
    "from pyphoplacecellanalysis.GUI.PyQtPlot.Widgets.helpers import _helper_make_scatterplot_clickable\n",
    "\n",
    "plot_aclus = EITHER_subset.track_exclusive_aclus.copy()\n",
    "# plot_aclus = EITHER_subset.track_exclusive_aclus[new_all_aclus_sort_indicies].copy()\n",
    "_out_A = plot_kourosh_activity_style_figure(long_results_obj, long_session, plot_aclus, unit_sort_order=new_all_aclus_sort_indicies, epoch_idx=13, callout_epoch_IDXs=None, skip_rendering_callouts=False)"
   ]
  },
  {
   "cell_type": "code",
   "execution_count": null,
   "id": "326f29f6",
   "metadata": {},
   "outputs": [],
   "source": [
    "app, win, plots, plots_data = _out_A\n",
    "# plots"
   ]
  },
  {
   "cell_type": "code",
   "execution_count": null,
   "id": "338d4092",
   "metadata": {},
   "outputs": [],
   "source": [
    "#TODO 2023-06-27 10:42: - [ ] Desperitely need a class that \"explodes\" the important variables and their types out of a DynamicParameters (dict-like) or other object.\n"
   ]
  },
  {
   "cell_type": "code",
   "execution_count": null,
   "id": "517cdee6",
   "metadata": {},
   "outputs": [],
   "source": [
    "_out_n = plot_kourosh_activity_style_figure(long_results_obj, long_session, EITHER_subset.track_exclusive_aclus, unit_sort_order=new_all_aclus_sort_indicies, epoch_idx=49, callout_epoch_IDXs=np.arange(6), skip_rendering_callouts=False)"
   ]
  },
  {
   "attachments": {},
   "cell_type": "markdown",
   "id": "7a7c05d1",
   "metadata": {},
   "source": [
    "# Figure 2) Firing Rate Bar Graphs"
   ]
  },
  {
   "cell_type": "code",
   "execution_count": null,
   "id": "21cf1ff1",
   "metadata": {},
   "outputs": [],
   "source": [
    "# Instantaneous versions:\n",
    "from pyphocorehelpers.mixins.serialized import SerializedAttributesAllowBlockSpecifyingClass\n",
    "from pyphoplacecellanalysis.General.Batch.PhoDiba2023Paper import PaperFigureTwo, InstantaneousSpikeRateGroupsComputation\n",
    "from pyphoplacecellanalysis.General.Pipeline.Stages.ComputationFunctions.SpikeAnalysis import SpikeRateTrends\n",
    "\n",
    "_out_fig_2 = PaperFigureTwo(instantaneous_time_bin_size_seconds=0.01) # 10ms\n",
    "_out_fig_2.compute(curr_active_pipeline=curr_active_pipeline, active_context=curr_active_pipeline.sess.get_context())\n",
    "\n",
    "_out_fig_2_figs = {}\n",
    "\n",
    "with matplotlib_configuration(is_interactive=True, backend='Qt5Agg'):\n",
    "\t# Perform interactive Matplotlib operations with 'Qt5Agg' backend\n",
    "\t_out_fig_2_figs = _out_fig_2.display(defer_show=True, save_figure=True, active_context=curr_active_pipeline.sess.get_context())\n",
    "\n",
    "\n",
    "## Extract for debugging/checking:\n",
    "_out_inst_fr_comps = _out_fig_2.computation_result\n",
    "LxC_ReplayDeltaMinus, LxC_ReplayDeltaPlus, SxC_ReplayDeltaMinus, SxC_ReplayDeltaPlus = _out_inst_fr_comps.LxC_ReplayDeltaMinus, _out_inst_fr_comps.LxC_ReplayDeltaPlus, _out_inst_fr_comps.SxC_ReplayDeltaMinus, _out_inst_fr_comps.SxC_ReplayDeltaPlus\n",
    "LxC_ThetaDeltaMinus, LxC_ThetaDeltaPlus, SxC_ThetaDeltaMinus, SxC_ThetaDeltaPlus = _out_inst_fr_comps.LxC_ThetaDeltaMinus, _out_inst_fr_comps.LxC_ThetaDeltaPlus, _out_inst_fr_comps.SxC_ThetaDeltaMinus, _out_inst_fr_comps.SxC_ThetaDeltaPlus\n",
    "# LxC_ThetaDeltaMinus # cell_agg_inst_fr_list\n"
   ]
  },
  {
   "cell_type": "code",
   "execution_count": null,
   "id": "beca328b",
   "metadata": {},
   "outputs": [],
   "source": [
    "_out_inst_fr_comps = InstantaneousSpikeRateGroupsComputation(instantaneous_time_bin_size_seconds=0.01) # 10ms\n",
    "_out_inst_fr_comps.compute(curr_active_pipeline=curr_active_pipeline, active_context=curr_active_pipeline.sess.get_context())\n",
    "LxC_ReplayDeltaMinus, LxC_ReplayDeltaPlus, SxC_ReplayDeltaMinus, SxC_ReplayDeltaPlus = _out_inst_fr_comps.LxC_ReplayDeltaMinus, _out_inst_fr_comps.LxC_ReplayDeltaPlus, _out_inst_fr_comps.SxC_ReplayDeltaMinus, _out_inst_fr_comps.SxC_ReplayDeltaPlus\n",
    "LxC_ThetaDeltaMinus, LxC_ThetaDeltaPlus, SxC_ThetaDeltaMinus, SxC_ThetaDeltaPlus = _out_inst_fr_comps.LxC_ThetaDeltaMinus, _out_inst_fr_comps.LxC_ThetaDeltaPlus, _out_inst_fr_comps.SxC_ThetaDeltaMinus, _out_inst_fr_comps.SxC_ThetaDeltaPlus"
   ]
  },
  {
   "cell_type": "code",
   "execution_count": null,
   "id": "64f34b33",
   "metadata": {},
   "outputs": [],
   "source": [
    "inst_fr_output_filename = 'long_short_inst_firing_rates.pkl'\n",
    "inst_fr_output_path = curr_active_pipeline.get_output_path().joinpath(inst_fr_output_filename).resolve()\n",
    "inst_fr_output_path"
   ]
  },
  {
   "cell_type": "code",
   "execution_count": null,
   "id": "455ed1b9",
   "metadata": {},
   "outputs": [],
   "source": [
    "from pyphoplacecellanalysis.General.Pipeline.Stages.Loading import saveData, loadData\n",
    "\n",
    "# saveData(inst_fr_output_path, _out_fig_2)\n",
    "saveData(inst_fr_output_path, _out_fig_2.to_dict())\n"
   ]
  },
  {
   "cell_type": "code",
   "execution_count": null,
   "id": "204e0139",
   "metadata": {},
   "outputs": [],
   "source": [
    "\n",
    "\n",
    "# saveData(inst_fr_output_path, (LxC_ReplayDeltaMinus, LxC_ReplayDeltaPlus, SxC_ReplayDeltaMinus, SxC_ReplayDeltaPlus, LxC_ThetaDeltaMinus, LxC_ThetaDeltaPlus, SxC_ThetaDeltaMinus, SxC_ThetaDeltaPlus))\n"
   ]
  },
  {
   "cell_type": "code",
   "execution_count": null,
   "id": "8e77486f",
   "metadata": {},
   "outputs": [],
   "source": [
    "from pyphocorehelpers.print_helpers import print_filesystem_file_size, print_object_memory_usage\n",
    "\n",
    "\n",
    "print_object_memory_usage(_out_fig_2) #  2743.397699 MB\n",
    "# print_object_memory_usage(_out_fig_2.to_dict()) #  2743.397699 MB\n",
    "# print_object_memory_usage(_out_fig_2._pipeline_file_callback_fn) #  2737.983306 MB\n",
    "print(print_object_memory_usage(_out_inst_fr_comps)) #  5.489502 MB\n"
   ]
  },
  {
   "cell_type": "code",
   "execution_count": null,
   "id": "f2adc047",
   "metadata": {},
   "outputs": [],
   "source": [
    "\n",
    "print_object_memory_usage((LxC_ReplayDeltaMinus, LxC_ReplayDeltaPlus, SxC_ReplayDeltaMinus, SxC_ReplayDeltaPlus, LxC_ThetaDeltaMinus, LxC_ThetaDeltaPlus, SxC_ThetaDeltaMinus, SxC_ThetaDeltaPlus))"
   ]
  },
  {
   "cell_type": "code",
   "execution_count": null,
   "id": "3de48d09",
   "metadata": {},
   "outputs": [],
   "source": [
    "from pyphoplacecellanalysis.General.Pipeline.Stages.ComputationFunctions.SpikeAnalysis import SpikeRateTrends\n",
    "\n",
    "\n",
    "srt1 = PaperFigureTwo(**loadData(inst_fr_output_path))\n"
   ]
  },
  {
   "cell_type": "code",
   "execution_count": null,
   "id": "e61bee29",
   "metadata": {},
   "outputs": [],
   "source": [
    "srt2 = loadData(inst_fr_output_path)\n",
    "\n",
    "# When combining two `SpikeRateTrends` objects, they may differ in any/all (n_timebins, n_epochs, n_cells) making it difficult to safely concatenate them. \n",
    "# `LxC_ThetaDeltaMinus`\n",
    "# srt1: SpikeRateTrends = deepcopy(LxC_ThetaDeltaMinus) # SpikeRateTrends(...)\n",
    "# srt2: SpikeRateTrends = deepcopy(LxC_ThetaDeltaMinus) # SpikeRateTrends(...)\n",
    "# concatenated = srt1 + srt2\n",
    "# concatenated = srt1.concatenate(srt2)\n",
    "concatenated = SpikeRateTrends.concatenate(srt1, srt2)\n"
   ]
  },
  {
   "cell_type": "code",
   "execution_count": null,
   "id": "cc507cc7",
   "metadata": {},
   "outputs": [],
   "source": [
    "plt.show()"
   ]
  },
  {
   "cell_type": "code",
   "execution_count": null,
   "id": "9edea79a",
   "metadata": {},
   "outputs": [],
   "source": [
    "long_epoch_name, short_epoch_name, global_epoch_name = curr_active_pipeline.find_LongShortGlobal_epoch_names()\n",
    "long_session, short_session, global_session = [curr_active_pipeline.filtered_sessions[an_epoch_name] for an_epoch_name in [long_epoch_name, short_epoch_name, global_epoch_name]] # only uses global_session\n",
    "(epochs_df_L, epochs_df_S), (filter_epoch_spikes_df_L, filter_epoch_spikes_df_S), (good_example_epoch_indicies_L, good_example_epoch_indicies_S), (short_exclusive, long_exclusive, BOTH_subset, EITHER_subset, XOR_subset, NEITHER_subset), new_all_aclus_sort_indicies, assigning_epochs_obj = PAPER_FIGURE_figure_1_add_replay_epoch_rasters(curr_active_pipeline)\n",
    "\n",
    "long_short_fr_indicies_analysis_results = curr_active_pipeline.global_computation_results.computed_data['long_short_fr_indicies_analysis']\n",
    "long_laps, long_replays, short_laps, short_replays, global_laps, global_replays = [long_short_fr_indicies_analysis_results[k] for k in ['long_laps', 'long_replays', 'short_laps', 'short_replays', 'global_laps', 'global_replays']]\n"
   ]
  },
  {
   "cell_type": "code",
   "execution_count": null,
   "id": "5d085cad",
   "metadata": {},
   "outputs": [],
   "source": [
    "jonathan_firing_rate_analysis_result.neuron_replay_stats_df"
   ]
  },
  {
   "cell_type": "code",
   "execution_count": null,
   "id": "813ab296",
   "metadata": {},
   "outputs": [],
   "source": [
    "long_exclusive.track_exclusive_df"
   ]
  },
  {
   "cell_type": "code",
   "execution_count": null,
   "id": "05be832a",
   "metadata": {},
   "outputs": [],
   "source": [
    "long_exclusive.track_exclusive_df['lap_delta_minus_inst_fr'] = LxC_ThetaDeltaMinus.cell_agg_inst_fr_list # (n_cells, )\n",
    "long_exclusive.track_exclusive_df['lap_delta_plus_inst_fr'] = LxC_ThetaDeltaPlus.cell_agg_inst_fr_list # (n_cells, )\n",
    "long_exclusive.track_exclusive_df\n"
   ]
  },
  {
   "cell_type": "code",
   "execution_count": null,
   "id": "d3077438",
   "metadata": {},
   "outputs": [],
   "source": [
    "# d = LxC_ThetaDeltaMinus.epoch_agg_inst_fr_list # (n_epochs, n_cells)\n",
    "# d = d[:,1]\n",
    "d = LxC_ThetaDeltaMinus.cell_agg_inst_fr_list # (n_cells, )\n",
    "d\n",
    "long_exclusive.track_exclusive_df['lap_delta_minus_inst_fr'] = LxC_ThetaDeltaMinus.cell_agg_inst_fr_list # (n_cells, )\n"
   ]
  },
  {
   "cell_type": "code",
   "execution_count": null,
   "id": "6984de2f",
   "metadata": {},
   "outputs": [],
   "source": [
    "## Drop out the very low (inactive) Epochs... I guess? But we want it to be influenced by the inactive epochs.\n",
    "curr_active_pipeline.\t"
   ]
  },
  {
   "cell_type": "code",
   "execution_count": null,
   "id": "41d3f4dd",
   "metadata": {},
   "outputs": [],
   "source": [
    "\n",
    "len(LxC_ThetaDeltaMinus.inst_fr_signals_list) # n_epochs\n",
    "d = LxC_ThetaDeltaMinus.inst_fr_df_list\n",
    "d[0]\n",
    "# (n_epochs, n_cells)\n",
    "# print(f'{d.shape}')"
   ]
  },
  {
   "cell_type": "code",
   "execution_count": null,
   "id": "a2e9b0fc",
   "metadata": {},
   "outputs": [],
   "source": [
    "%matplotlib qt\n",
    "import seaborn as sns\n",
    "\n",
    "sns.set_theme()\n",
    "\n",
    "plt.clf()\n",
    "\n",
    "# https://seaborn.pydata.org/generated/seaborn.violinplot.html#seaborn.violinplot\n",
    "# Show each distribution with both violins and points\n",
    "sns.violinplot(data=d, palette=\"light:g\", inner=\"point\", orient=\"h\") # , split=True\n",
    "\n",
    "# sns.violinplot(data=LxC_ThetaDeltaMinus.inst_fr_df_list, x=\"deck\", y=\"age\", hue=\"alive\", split=True)\n",
    "\n",
    "plt.show()\n"
   ]
  },
  {
   "cell_type": "code",
   "execution_count": null,
   "id": "2cfd716a",
   "metadata": {},
   "outputs": [],
   "source": [
    "LxC_ThetaDeltaPlus\n",
    "# Look at percent change\n",
    "(LxC_ThetaDeltaPlus.cell_agg_inst_fr_list - LxC_ThetaDeltaMinus.cell_agg_inst_fr_list) / LxC_ThetaDeltaMinus.cell_agg_inst_fr_list"
   ]
  },
  {
   "attachments": {},
   "cell_type": "markdown",
   "id": "9d7b230c",
   "metadata": {},
   "source": [
    "# Figure 3) `PAPER_FIGURE_figure_3`: Firing Rate Index and Long/Short Firing Rate Replays v. Laps"
   ]
  },
  {
   "cell_type": "code",
   "execution_count": null,
   "id": "f6008da8",
   "metadata": {
    "tags": [
     "figure_3",
     "active"
    ]
   },
   "outputs": [],
   "source": [
    "from neuropy.utils.matplotlib_helpers import FormattedFigureText\n",
    "from pyphoplacecellanalysis.General.Pipeline.Stages.DisplayFunctions.MultiContextComparingDisplayFunctions.LongShortTrackComparingDisplayFunctions import _plot_long_short_firing_rate_indicies\n",
    "curr_active_pipeline.reload_default_display_functions()\n",
    "\n",
    "_out, _out2 = PAPER_FIGURE_figure_3(curr_active_pipeline, defer_render=False, save_figure=True)"
   ]
  },
  {
   "cell_type": "code",
   "execution_count": null,
   "id": "bcd3546f",
   "metadata": {},
   "outputs": [],
   "source": [
    "_out2.figures\n",
    "_out.axes"
   ]
  },
  {
   "cell_type": "code",
   "execution_count": null,
   "id": "0c49f148",
   "metadata": {},
   "outputs": [],
   "source": [
    "1.0-0.090"
   ]
  },
  {
   "cell_type": "code",
   "execution_count": null,
   "id": "acd17dcc",
   "metadata": {},
   "outputs": [],
   "source": [
    "fig = _out.figures\n",
    "fig\n",
    "# Computed long ($L$)|short($S$) firing rate indicies"
   ]
  },
  {
   "cell_type": "markdown",
   "id": "14388eec",
   "metadata": {},
   "source": [
    "# 2023-07-07 - `batch_extended_programmatic_figures` Testing"
   ]
  },
  {
   "cell_type": "code",
   "execution_count": null,
   "id": "d3e3c3f3",
   "metadata": {},
   "outputs": [],
   "source": [
    "curr_active_pipeline.reload_default_display_functions()\n",
    "\n",
    "neptuner = batch_perform_all_plots(curr_active_pipeline, enable_neptune=True)"
   ]
  },
  {
   "cell_type": "code",
   "execution_count": null,
   "id": "126028b8",
   "metadata": {},
   "outputs": [],
   "source": [
    "\n",
    "batch_extended_programmatic_figures(curr_active_pipeline, write_vector_format=False, write_png=False, debug_print=False)"
   ]
  },
  {
   "cell_type": "code",
   "execution_count": null,
   "id": "9415e3e7",
   "metadata": {},
   "outputs": [],
   "source": [
    "from pyphoplacecellanalysis.General.Batch.NonInteractiveProcessing import BatchPhoJonathanFiguresHelper\n",
    "\n",
    "## Get global 'jonathan_firing_rate_analysis' results:\n",
    "curr_jonathan_firing_rate_analysis = curr_active_pipeline.global_computation_results.computed_data['jonathan_firing_rate_analysis']\n",
    "neuron_replay_stats_df, rdf, aclu_to_idx, irdf = curr_jonathan_firing_rate_analysis['neuron_replay_stats_df'], curr_jonathan_firing_rate_analysis['rdf']['rdf'], curr_jonathan_firing_rate_analysis['rdf']['aclu_to_idx'], curr_jonathan_firing_rate_analysis['irdf']['irdf']\n",
    "\n",
    "# with VizTracer(output_file=f\"viztracer_display_BatchPhoJonathanFiguresHelper_PlusPDF_20.json\", min_duration=200, tracer_entries=3000000, ignore_frozen=True) as tracer:\n",
    "active_out_figures_list, active_session_figures_out_path = BatchPhoJonathanFiguresHelper.run(curr_active_pipeline, neuron_replay_stats_df, included_unit_neuron_IDs=XOR_subset.track_exclusive_aclus, n_max_page_rows=20, write_vector_format=False, write_png=True)\n",
    "print(f'curr_session_parent_out_path: {active_session_figures_out_path}')"
   ]
  },
  {
   "cell_type": "code",
   "execution_count": null,
   "id": "0eb4dcda",
   "metadata": {},
   "outputs": [],
   "source": []
  }
 ],
 "metadata": {
  "kernelspec": {
   "display_name": "Python 3 (ipykernel)",
   "language": "python",
   "name": "python3"
  },
  "language_info": {
   "codemirror_mode": {
    "name": "ipython",
    "version": 3
   },
   "file_extension": ".py",
   "mimetype": "text/x-python",
   "name": "python",
   "nbconvert_exporter": "python",
   "pygments_lexer": "ipython3",
   "version": "3.9.13"
  },
  "toc-showmarkdowntxt": false,
  "toc-showtags": false
 },
 "nbformat": 4,
 "nbformat_minor": 5
}
