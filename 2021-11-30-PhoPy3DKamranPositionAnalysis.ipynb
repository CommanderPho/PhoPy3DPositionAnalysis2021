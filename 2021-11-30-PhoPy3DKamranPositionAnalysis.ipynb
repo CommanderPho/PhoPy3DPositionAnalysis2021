{
 "cells": [
  {
   "cell_type": "code",
   "execution_count": 1,
   "id": "f6088dc9",
   "metadata": {
    "tags": []
   },
   "outputs": [
    {
     "data": {
      "application/javascript": [
       "\n",
       "(function(root) {\n",
       "  function now() {\n",
       "    return new Date();\n",
       "  }\n",
       "\n",
       "  var force = true;\n",
       "\n",
       "  if (typeof root._bokeh_onload_callbacks === \"undefined\" || force === true) {\n",
       "    root._bokeh_onload_callbacks = [];\n",
       "    root._bokeh_is_loading = undefined;\n",
       "  }\n",
       "\n",
       "  if (typeof (root._bokeh_timeout) === \"undefined\" || force === true) {\n",
       "    root._bokeh_timeout = Date.now() + 5000;\n",
       "    root._bokeh_failed_load = false;\n",
       "  }\n",
       "\n",
       "  function run_callbacks() {\n",
       "    try {\n",
       "      root._bokeh_onload_callbacks.forEach(function(callback) {\n",
       "        if (callback != null)\n",
       "          callback();\n",
       "      });\n",
       "    } finally {\n",
       "      delete root._bokeh_onload_callbacks\n",
       "    }\n",
       "    console.debug(\"Bokeh: all callbacks have finished\");\n",
       "  }\n",
       "\n",
       "  function load_libs(css_urls, js_urls, js_modules, callback) {\n",
       "    if (css_urls == null) css_urls = [];\n",
       "    if (js_urls == null) js_urls = [];\n",
       "    if (js_modules == null) js_modules = [];\n",
       "\n",
       "    root._bokeh_onload_callbacks.push(callback);\n",
       "    if (root._bokeh_is_loading > 0) {\n",
       "      console.debug(\"Bokeh: BokehJS is being loaded, scheduling callback at\", now());\n",
       "      return null;\n",
       "    }\n",
       "    if (js_urls.length === 0 && js_modules.length === 0) {\n",
       "      run_callbacks();\n",
       "      return null;\n",
       "    }\n",
       "    console.debug(\"Bokeh: BokehJS not loaded, scheduling load and callback at\", now());\n",
       "    root._bokeh_is_loading = css_urls.length + js_urls.length + js_modules.length;\n",
       "\n",
       "    function on_load() {\n",
       "      root._bokeh_is_loading--;\n",
       "      if (root._bokeh_is_loading === 0) {\n",
       "        console.debug(\"Bokeh: all BokehJS libraries/stylesheets loaded\");\n",
       "        run_callbacks()\n",
       "      }\n",
       "    }\n",
       "\n",
       "    function on_error() {\n",
       "      console.error(\"failed to load \" + url);\n",
       "    }\n",
       "\n",
       "    for (var i = 0; i < css_urls.length; i++) {\n",
       "      var url = css_urls[i];\n",
       "      const element = document.createElement(\"link\");\n",
       "      element.onload = on_load;\n",
       "      element.onerror = on_error;\n",
       "      element.rel = \"stylesheet\";\n",
       "      element.type = \"text/css\";\n",
       "      element.href = url;\n",
       "      console.debug(\"Bokeh: injecting link tag for BokehJS stylesheet: \", url);\n",
       "      document.body.appendChild(element);\n",
       "    }\n",
       "\n",
       "    var skip = [];\n",
       "    if (window.requirejs) {\n",
       "      window.requirejs.config({'packages': {}, 'paths': {}, 'shim': {}});\n",
       "      \n",
       "    }\n",
       "    for (var i = 0; i < js_urls.length; i++) {\n",
       "      var url = js_urls[i];\n",
       "      if (skip.indexOf(url) >= 0) { on_load(); continue; }\n",
       "      var element = document.createElement('script');\n",
       "      element.onload = on_load;\n",
       "      element.onerror = on_error;\n",
       "      element.async = false;\n",
       "      element.src = url;\n",
       "      console.debug(\"Bokeh: injecting script tag for BokehJS library: \", url);\n",
       "      document.head.appendChild(element);\n",
       "    }\n",
       "    for (var i = 0; i < js_modules.length; i++) {\n",
       "      var url = js_modules[i];\n",
       "      if (skip.indexOf(url) >= 0) { on_load(); continue; }\n",
       "      var element = document.createElement('script');\n",
       "      element.onload = on_load;\n",
       "      element.onerror = on_error;\n",
       "      element.async = false;\n",
       "      element.src = url;\n",
       "      element.type = \"module\";\n",
       "      console.debug(\"Bokeh: injecting script tag for BokehJS library: \", url);\n",
       "      document.head.appendChild(element);\n",
       "    }\n",
       "    if (!js_urls.length && !js_modules.length) {\n",
       "      on_load()\n",
       "    }\n",
       "  };\n",
       "\n",
       "  function inject_raw_css(css) {\n",
       "    const element = document.createElement(\"style\");\n",
       "    element.appendChild(document.createTextNode(css));\n",
       "    document.body.appendChild(element);\n",
       "  }\n",
       "\n",
       "  var js_urls = [\"https://cdn.bokeh.org/bokeh/release/bokeh-2.4.0.min.js\", \"https://cdn.bokeh.org/bokeh/release/bokeh-gl-2.4.0.min.js\", \"https://cdn.bokeh.org/bokeh/release/bokeh-widgets-2.4.0.min.js\", \"https://cdn.bokeh.org/bokeh/release/bokeh-tables-2.4.0.min.js\", \"https://cdn.bokeh.org/bokeh/release/bokeh-mathjax-2.4.0.min.js\", \"https://unpkg.com/@holoviz/panel@0.12.4/dist/panel.min.js\"];\n",
       "  var js_modules = [];\n",
       "  var css_urls = [\"https://unpkg.com/@holoviz/panel@0.12.4/dist/css/alerts.css\", \"https://unpkg.com/@holoviz/panel@0.12.4/dist/css/card.css\", \"https://unpkg.com/@holoviz/panel@0.12.4/dist/css/dataframe.css\", \"https://unpkg.com/@holoviz/panel@0.12.4/dist/css/json.css\", \"https://unpkg.com/@holoviz/panel@0.12.4/dist/css/loading.css\", \"https://unpkg.com/@holoviz/panel@0.12.4/dist/css/markdown.css\", \"https://unpkg.com/@holoviz/panel@0.12.4/dist/css/widgets.css\"];\n",
       "  var inline_js = [\n",
       "    function(Bokeh) {\n",
       "      inject_raw_css(\"\\n    .bk.pn-loading.arcs:before {\\n      background-image: url(\\\"data:image/svg+xml;base64,PHN2ZyB4bWxucz0iaHR0cDovL3d3dy53My5vcmcvMjAwMC9zdmciIHhtbG5zOnhsaW5rPSJodHRwOi8vd3d3LnczLm9yZy8xOTk5L3hsaW5rIiBzdHlsZT0ibWFyZ2luOiBhdXRvOyBiYWNrZ3JvdW5kOiBub25lOyBkaXNwbGF5OiBibG9jazsgc2hhcGUtcmVuZGVyaW5nOiBhdXRvOyIgdmlld0JveD0iMCAwIDEwMCAxMDAiIHByZXNlcnZlQXNwZWN0UmF0aW89InhNaWRZTWlkIj4gIDxjaXJjbGUgY3g9IjUwIiBjeT0iNTAiIHI9IjMyIiBzdHJva2Utd2lkdGg9IjgiIHN0cm9rZT0iI2MzYzNjMyIgc3Ryb2tlLWRhc2hhcnJheT0iNTAuMjY1NDgyNDU3NDM2NjkgNTAuMjY1NDgyNDU3NDM2NjkiIGZpbGw9Im5vbmUiIHN0cm9rZS1saW5lY2FwPSJyb3VuZCI+ICAgIDxhbmltYXRlVHJhbnNmb3JtIGF0dHJpYnV0ZU5hbWU9InRyYW5zZm9ybSIgdHlwZT0icm90YXRlIiByZXBlYXRDb3VudD0iaW5kZWZpbml0ZSIgZHVyPSIxcyIga2V5VGltZXM9IjA7MSIgdmFsdWVzPSIwIDUwIDUwOzM2MCA1MCA1MCI+PC9hbmltYXRlVHJhbnNmb3JtPiAgPC9jaXJjbGU+PC9zdmc+\\\")\\n    }\\n    \");\n",
       "    },\n",
       "    function(Bokeh) {\n",
       "      Bokeh.set_log_level(\"info\");\n",
       "    },\n",
       "    function(Bokeh) {} // ensure no trailing comma for IE\n",
       "  ];\n",
       "\n",
       "  function run_inline_js() {\n",
       "    if ((root.Bokeh !== undefined) || (force === true)) {\n",
       "      for (var i = 0; i < inline_js.length; i++) {\n",
       "        inline_js[i].call(root, root.Bokeh);\n",
       "      }} else if (Date.now() < root._bokeh_timeout) {\n",
       "      setTimeout(run_inline_js, 100);\n",
       "    } else if (!root._bokeh_failed_load) {\n",
       "      console.log(\"Bokeh: BokehJS failed to load within specified timeout.\");\n",
       "      root._bokeh_failed_load = true;\n",
       "    }\n",
       "  }\n",
       "\n",
       "  if (root._bokeh_is_loading === 0) {\n",
       "    console.debug(\"Bokeh: BokehJS loaded, going straight to plotting\");\n",
       "    run_inline_js();\n",
       "  } else {\n",
       "    load_libs(css_urls, js_urls, js_modules, function() {\n",
       "      console.debug(\"Bokeh: BokehJS plotting callback run at\", now());\n",
       "      run_inline_js();\n",
       "    });\n",
       "  }\n",
       "}(window));"
      ],
      "application/vnd.holoviews_load.v0+json": "\n(function(root) {\n  function now() {\n    return new Date();\n  }\n\n  var force = true;\n\n  if (typeof root._bokeh_onload_callbacks === \"undefined\" || force === true) {\n    root._bokeh_onload_callbacks = [];\n    root._bokeh_is_loading = undefined;\n  }\n\n  if (typeof (root._bokeh_timeout) === \"undefined\" || force === true) {\n    root._bokeh_timeout = Date.now() + 5000;\n    root._bokeh_failed_load = false;\n  }\n\n  function run_callbacks() {\n    try {\n      root._bokeh_onload_callbacks.forEach(function(callback) {\n        if (callback != null)\n          callback();\n      });\n    } finally {\n      delete root._bokeh_onload_callbacks\n    }\n    console.debug(\"Bokeh: all callbacks have finished\");\n  }\n\n  function load_libs(css_urls, js_urls, js_modules, callback) {\n    if (css_urls == null) css_urls = [];\n    if (js_urls == null) js_urls = [];\n    if (js_modules == null) js_modules = [];\n\n    root._bokeh_onload_callbacks.push(callback);\n    if (root._bokeh_is_loading > 0) {\n      console.debug(\"Bokeh: BokehJS is being loaded, scheduling callback at\", now());\n      return null;\n    }\n    if (js_urls.length === 0 && js_modules.length === 0) {\n      run_callbacks();\n      return null;\n    }\n    console.debug(\"Bokeh: BokehJS not loaded, scheduling load and callback at\", now());\n    root._bokeh_is_loading = css_urls.length + js_urls.length + js_modules.length;\n\n    function on_load() {\n      root._bokeh_is_loading--;\n      if (root._bokeh_is_loading === 0) {\n        console.debug(\"Bokeh: all BokehJS libraries/stylesheets loaded\");\n        run_callbacks()\n      }\n    }\n\n    function on_error() {\n      console.error(\"failed to load \" + url);\n    }\n\n    for (var i = 0; i < css_urls.length; i++) {\n      var url = css_urls[i];\n      const element = document.createElement(\"link\");\n      element.onload = on_load;\n      element.onerror = on_error;\n      element.rel = \"stylesheet\";\n      element.type = \"text/css\";\n      element.href = url;\n      console.debug(\"Bokeh: injecting link tag for BokehJS stylesheet: \", url);\n      document.body.appendChild(element);\n    }\n\n    var skip = [];\n    if (window.requirejs) {\n      window.requirejs.config({'packages': {}, 'paths': {}, 'shim': {}});\n      \n    }\n    for (var i = 0; i < js_urls.length; i++) {\n      var url = js_urls[i];\n      if (skip.indexOf(url) >= 0) { on_load(); continue; }\n      var element = document.createElement('script');\n      element.onload = on_load;\n      element.onerror = on_error;\n      element.async = false;\n      element.src = url;\n      console.debug(\"Bokeh: injecting script tag for BokehJS library: \", url);\n      document.head.appendChild(element);\n    }\n    for (var i = 0; i < js_modules.length; i++) {\n      var url = js_modules[i];\n      if (skip.indexOf(url) >= 0) { on_load(); continue; }\n      var element = document.createElement('script');\n      element.onload = on_load;\n      element.onerror = on_error;\n      element.async = false;\n      element.src = url;\n      element.type = \"module\";\n      console.debug(\"Bokeh: injecting script tag for BokehJS library: \", url);\n      document.head.appendChild(element);\n    }\n    if (!js_urls.length && !js_modules.length) {\n      on_load()\n    }\n  };\n\n  function inject_raw_css(css) {\n    const element = document.createElement(\"style\");\n    element.appendChild(document.createTextNode(css));\n    document.body.appendChild(element);\n  }\n\n  var js_urls = [\"https://cdn.bokeh.org/bokeh/release/bokeh-2.4.0.min.js\", \"https://cdn.bokeh.org/bokeh/release/bokeh-gl-2.4.0.min.js\", \"https://cdn.bokeh.org/bokeh/release/bokeh-widgets-2.4.0.min.js\", \"https://cdn.bokeh.org/bokeh/release/bokeh-tables-2.4.0.min.js\", \"https://cdn.bokeh.org/bokeh/release/bokeh-mathjax-2.4.0.min.js\", \"https://unpkg.com/@holoviz/panel@0.12.4/dist/panel.min.js\"];\n  var js_modules = [];\n  var css_urls = [\"https://unpkg.com/@holoviz/panel@0.12.4/dist/css/alerts.css\", \"https://unpkg.com/@holoviz/panel@0.12.4/dist/css/card.css\", \"https://unpkg.com/@holoviz/panel@0.12.4/dist/css/dataframe.css\", \"https://unpkg.com/@holoviz/panel@0.12.4/dist/css/json.css\", \"https://unpkg.com/@holoviz/panel@0.12.4/dist/css/loading.css\", \"https://unpkg.com/@holoviz/panel@0.12.4/dist/css/markdown.css\", \"https://unpkg.com/@holoviz/panel@0.12.4/dist/css/widgets.css\"];\n  var inline_js = [\n    function(Bokeh) {\n      inject_raw_css(\"\\n    .bk.pn-loading.arcs:before {\\n      background-image: url(\\\"data:image/svg+xml;base64,PHN2ZyB4bWxucz0iaHR0cDovL3d3dy53My5vcmcvMjAwMC9zdmciIHhtbG5zOnhsaW5rPSJodHRwOi8vd3d3LnczLm9yZy8xOTk5L3hsaW5rIiBzdHlsZT0ibWFyZ2luOiBhdXRvOyBiYWNrZ3JvdW5kOiBub25lOyBkaXNwbGF5OiBibG9jazsgc2hhcGUtcmVuZGVyaW5nOiBhdXRvOyIgdmlld0JveD0iMCAwIDEwMCAxMDAiIHByZXNlcnZlQXNwZWN0UmF0aW89InhNaWRZTWlkIj4gIDxjaXJjbGUgY3g9IjUwIiBjeT0iNTAiIHI9IjMyIiBzdHJva2Utd2lkdGg9IjgiIHN0cm9rZT0iI2MzYzNjMyIgc3Ryb2tlLWRhc2hhcnJheT0iNTAuMjY1NDgyNDU3NDM2NjkgNTAuMjY1NDgyNDU3NDM2NjkiIGZpbGw9Im5vbmUiIHN0cm9rZS1saW5lY2FwPSJyb3VuZCI+ICAgIDxhbmltYXRlVHJhbnNmb3JtIGF0dHJpYnV0ZU5hbWU9InRyYW5zZm9ybSIgdHlwZT0icm90YXRlIiByZXBlYXRDb3VudD0iaW5kZWZpbml0ZSIgZHVyPSIxcyIga2V5VGltZXM9IjA7MSIgdmFsdWVzPSIwIDUwIDUwOzM2MCA1MCA1MCI+PC9hbmltYXRlVHJhbnNmb3JtPiAgPC9jaXJjbGU+PC9zdmc+\\\")\\n    }\\n    \");\n    },\n    function(Bokeh) {\n      Bokeh.set_log_level(\"info\");\n    },\n    function(Bokeh) {} // ensure no trailing comma for IE\n  ];\n\n  function run_inline_js() {\n    if ((root.Bokeh !== undefined) || (force === true)) {\n      for (var i = 0; i < inline_js.length; i++) {\n        inline_js[i].call(root, root.Bokeh);\n      }} else if (Date.now() < root._bokeh_timeout) {\n      setTimeout(run_inline_js, 100);\n    } else if (!root._bokeh_failed_load) {\n      console.log(\"Bokeh: BokehJS failed to load within specified timeout.\");\n      root._bokeh_failed_load = true;\n    }\n  }\n\n  if (root._bokeh_is_loading === 0) {\n    console.debug(\"Bokeh: BokehJS loaded, going straight to plotting\");\n    run_inline_js();\n  } else {\n    load_libs(css_urls, js_urls, js_modules, function() {\n      console.debug(\"Bokeh: BokehJS plotting callback run at\", now());\n      run_inline_js();\n    });\n  }\n}(window));"
     },
     "metadata": {},
     "output_type": "display_data"
    },
    {
     "data": {
      "application/javascript": [
       "\n",
       "if ((window.PyViz === undefined) || (window.PyViz instanceof HTMLElement)) {\n",
       "  window.PyViz = {comms: {}, comm_status:{}, kernels:{}, receivers: {}, plot_index: []}\n",
       "}\n",
       "\n",
       "\n",
       "    function JupyterCommManager() {\n",
       "    }\n",
       "\n",
       "    JupyterCommManager.prototype.register_target = function(plot_id, comm_id, msg_handler) {\n",
       "      if (window.comm_manager || ((window.Jupyter !== undefined) && (Jupyter.notebook.kernel != null))) {\n",
       "        var comm_manager = window.comm_manager || Jupyter.notebook.kernel.comm_manager;\n",
       "        comm_manager.register_target(comm_id, function(comm) {\n",
       "          comm.on_msg(msg_handler);\n",
       "        });\n",
       "      } else if ((plot_id in window.PyViz.kernels) && (window.PyViz.kernels[plot_id])) {\n",
       "        window.PyViz.kernels[plot_id].registerCommTarget(comm_id, function(comm) {\n",
       "          comm.onMsg = msg_handler;\n",
       "        });\n",
       "      } else if (typeof google != 'undefined' && google.colab.kernel != null) {\n",
       "        google.colab.kernel.comms.registerTarget(comm_id, (comm) => {\n",
       "          var messages = comm.messages[Symbol.asyncIterator]();\n",
       "          function processIteratorResult(result) {\n",
       "            var message = result.value;\n",
       "            console.log(message)\n",
       "            var content = {data: message.data, comm_id};\n",
       "            var buffers = []\n",
       "            for (var buffer of message.buffers || []) {\n",
       "              buffers.push(new DataView(buffer))\n",
       "            }\n",
       "            var metadata = message.metadata || {};\n",
       "            var msg = {content, buffers, metadata}\n",
       "            msg_handler(msg);\n",
       "            return messages.next().then(processIteratorResult);\n",
       "          }\n",
       "          return messages.next().then(processIteratorResult);\n",
       "        })\n",
       "      }\n",
       "    }\n",
       "\n",
       "    JupyterCommManager.prototype.get_client_comm = function(plot_id, comm_id, msg_handler) {\n",
       "      if (comm_id in window.PyViz.comms) {\n",
       "        return window.PyViz.comms[comm_id];\n",
       "      } else if (window.comm_manager || ((window.Jupyter !== undefined) && (Jupyter.notebook.kernel != null))) {\n",
       "        var comm_manager = window.comm_manager || Jupyter.notebook.kernel.comm_manager;\n",
       "        var comm = comm_manager.new_comm(comm_id, {}, {}, {}, comm_id);\n",
       "        if (msg_handler) {\n",
       "          comm.on_msg(msg_handler);\n",
       "        }\n",
       "      } else if ((plot_id in window.PyViz.kernels) && (window.PyViz.kernels[plot_id])) {\n",
       "        var comm = window.PyViz.kernels[plot_id].connectToComm(comm_id);\n",
       "        comm.open();\n",
       "        if (msg_handler) {\n",
       "          comm.onMsg = msg_handler;\n",
       "        }\n",
       "      } else if (typeof google != 'undefined' && google.colab.kernel != null) {\n",
       "        var comm_promise = google.colab.kernel.comms.open(comm_id)\n",
       "        comm_promise.then((comm) => {\n",
       "          window.PyViz.comms[comm_id] = comm;\n",
       "          if (msg_handler) {\n",
       "            var messages = comm.messages[Symbol.asyncIterator]();\n",
       "            function processIteratorResult(result) {\n",
       "              var message = result.value;\n",
       "              var content = {data: message.data};\n",
       "              var metadata = message.metadata || {comm_id};\n",
       "              var msg = {content, metadata}\n",
       "              msg_handler(msg);\n",
       "              return messages.next().then(processIteratorResult);\n",
       "            }\n",
       "            return messages.next().then(processIteratorResult);\n",
       "          }\n",
       "        }) \n",
       "        var sendClosure = (data, metadata, buffers, disposeOnDone) => {\n",
       "          return comm_promise.then((comm) => {\n",
       "            comm.send(data, metadata, buffers, disposeOnDone);\n",
       "          });\n",
       "        };\n",
       "        var comm = {\n",
       "          send: sendClosure\n",
       "        };\n",
       "      }\n",
       "      window.PyViz.comms[comm_id] = comm;\n",
       "      return comm;\n",
       "    }\n",
       "    window.PyViz.comm_manager = new JupyterCommManager();\n",
       "    \n",
       "\n",
       "\n",
       "var JS_MIME_TYPE = 'application/javascript';\n",
       "var HTML_MIME_TYPE = 'text/html';\n",
       "var EXEC_MIME_TYPE = 'application/vnd.holoviews_exec.v0+json';\n",
       "var CLASS_NAME = 'output';\n",
       "\n",
       "/**\n",
       " * Render data to the DOM node\n",
       " */\n",
       "function render(props, node) {\n",
       "  var div = document.createElement(\"div\");\n",
       "  var script = document.createElement(\"script\");\n",
       "  node.appendChild(div);\n",
       "  node.appendChild(script);\n",
       "}\n",
       "\n",
       "/**\n",
       " * Handle when a new output is added\n",
       " */\n",
       "function handle_add_output(event, handle) {\n",
       "  var output_area = handle.output_area;\n",
       "  var output = handle.output;\n",
       "  if ((output.data == undefined) || (!output.data.hasOwnProperty(EXEC_MIME_TYPE))) {\n",
       "    return\n",
       "  }\n",
       "  var id = output.metadata[EXEC_MIME_TYPE][\"id\"];\n",
       "  var toinsert = output_area.element.find(\".\" + CLASS_NAME.split(' ')[0]);\n",
       "  if (id !== undefined) {\n",
       "    var nchildren = toinsert.length;\n",
       "    var html_node = toinsert[nchildren-1].children[0];\n",
       "    html_node.innerHTML = output.data[HTML_MIME_TYPE];\n",
       "    var scripts = [];\n",
       "    var nodelist = html_node.querySelectorAll(\"script\");\n",
       "    for (var i in nodelist) {\n",
       "      if (nodelist.hasOwnProperty(i)) {\n",
       "        scripts.push(nodelist[i])\n",
       "      }\n",
       "    }\n",
       "\n",
       "    scripts.forEach( function (oldScript) {\n",
       "      var newScript = document.createElement(\"script\");\n",
       "      var attrs = [];\n",
       "      var nodemap = oldScript.attributes;\n",
       "      for (var j in nodemap) {\n",
       "        if (nodemap.hasOwnProperty(j)) {\n",
       "          attrs.push(nodemap[j])\n",
       "        }\n",
       "      }\n",
       "      attrs.forEach(function(attr) { newScript.setAttribute(attr.name, attr.value) });\n",
       "      newScript.appendChild(document.createTextNode(oldScript.innerHTML));\n",
       "      oldScript.parentNode.replaceChild(newScript, oldScript);\n",
       "    });\n",
       "    if (JS_MIME_TYPE in output.data) {\n",
       "      toinsert[nchildren-1].children[1].textContent = output.data[JS_MIME_TYPE];\n",
       "    }\n",
       "    output_area._hv_plot_id = id;\n",
       "    if ((window.Bokeh !== undefined) && (id in Bokeh.index)) {\n",
       "      window.PyViz.plot_index[id] = Bokeh.index[id];\n",
       "    } else {\n",
       "      window.PyViz.plot_index[id] = null;\n",
       "    }\n",
       "  } else if (output.metadata[EXEC_MIME_TYPE][\"server_id\"] !== undefined) {\n",
       "    var bk_div = document.createElement(\"div\");\n",
       "    bk_div.innerHTML = output.data[HTML_MIME_TYPE];\n",
       "    var script_attrs = bk_div.children[0].attributes;\n",
       "    for (var i = 0; i < script_attrs.length; i++) {\n",
       "      toinsert[toinsert.length - 1].childNodes[1].setAttribute(script_attrs[i].name, script_attrs[i].value);\n",
       "    }\n",
       "    // store reference to server id on output_area\n",
       "    output_area._bokeh_server_id = output.metadata[EXEC_MIME_TYPE][\"server_id\"];\n",
       "  }\n",
       "}\n",
       "\n",
       "/**\n",
       " * Handle when an output is cleared or removed\n",
       " */\n",
       "function handle_clear_output(event, handle) {\n",
       "  var id = handle.cell.output_area._hv_plot_id;\n",
       "  var server_id = handle.cell.output_area._bokeh_server_id;\n",
       "  if (((id === undefined) || !(id in PyViz.plot_index)) && (server_id !== undefined)) { return; }\n",
       "  var comm = window.PyViz.comm_manager.get_client_comm(\"hv-extension-comm\", \"hv-extension-comm\", function () {});\n",
       "  if (server_id !== null) {\n",
       "    comm.send({event_type: 'server_delete', 'id': server_id});\n",
       "    return;\n",
       "  } else if (comm !== null) {\n",
       "    comm.send({event_type: 'delete', 'id': id});\n",
       "  }\n",
       "  delete PyViz.plot_index[id];\n",
       "  if ((window.Bokeh !== undefined) & (id in window.Bokeh.index)) {\n",
       "    var doc = window.Bokeh.index[id].model.document\n",
       "    doc.clear();\n",
       "    const i = window.Bokeh.documents.indexOf(doc);\n",
       "    if (i > -1) {\n",
       "      window.Bokeh.documents.splice(i, 1);\n",
       "    }\n",
       "  }\n",
       "}\n",
       "\n",
       "/**\n",
       " * Handle kernel restart event\n",
       " */\n",
       "function handle_kernel_cleanup(event, handle) {\n",
       "  delete PyViz.comms[\"hv-extension-comm\"];\n",
       "  window.PyViz.plot_index = {}\n",
       "}\n",
       "\n",
       "/**\n",
       " * Handle update_display_data messages\n",
       " */\n",
       "function handle_update_output(event, handle) {\n",
       "  handle_clear_output(event, {cell: {output_area: handle.output_area}})\n",
       "  handle_add_output(event, handle)\n",
       "}\n",
       "\n",
       "function register_renderer(events, OutputArea) {\n",
       "  function append_mime(data, metadata, element) {\n",
       "    // create a DOM node to render to\n",
       "    var toinsert = this.create_output_subarea(\n",
       "    metadata,\n",
       "    CLASS_NAME,\n",
       "    EXEC_MIME_TYPE\n",
       "    );\n",
       "    this.keyboard_manager.register_events(toinsert);\n",
       "    // Render to node\n",
       "    var props = {data: data, metadata: metadata[EXEC_MIME_TYPE]};\n",
       "    render(props, toinsert[0]);\n",
       "    element.append(toinsert);\n",
       "    return toinsert\n",
       "  }\n",
       "\n",
       "  events.on('output_added.OutputArea', handle_add_output);\n",
       "  events.on('output_updated.OutputArea', handle_update_output);\n",
       "  events.on('clear_output.CodeCell', handle_clear_output);\n",
       "  events.on('delete.Cell', handle_clear_output);\n",
       "  events.on('kernel_ready.Kernel', handle_kernel_cleanup);\n",
       "\n",
       "  OutputArea.prototype.register_mime_type(EXEC_MIME_TYPE, append_mime, {\n",
       "    safe: true,\n",
       "    index: 0\n",
       "  });\n",
       "}\n",
       "\n",
       "if (window.Jupyter !== undefined) {\n",
       "  try {\n",
       "    var events = require('base/js/events');\n",
       "    var OutputArea = require('notebook/js/outputarea').OutputArea;\n",
       "    if (OutputArea.prototype.mime_types().indexOf(EXEC_MIME_TYPE) == -1) {\n",
       "      register_renderer(events, OutputArea);\n",
       "    }\n",
       "  } catch(err) {\n",
       "  }\n",
       "}\n"
      ],
      "application/vnd.holoviews_load.v0+json": "\nif ((window.PyViz === undefined) || (window.PyViz instanceof HTMLElement)) {\n  window.PyViz = {comms: {}, comm_status:{}, kernels:{}, receivers: {}, plot_index: []}\n}\n\n\n    function JupyterCommManager() {\n    }\n\n    JupyterCommManager.prototype.register_target = function(plot_id, comm_id, msg_handler) {\n      if (window.comm_manager || ((window.Jupyter !== undefined) && (Jupyter.notebook.kernel != null))) {\n        var comm_manager = window.comm_manager || Jupyter.notebook.kernel.comm_manager;\n        comm_manager.register_target(comm_id, function(comm) {\n          comm.on_msg(msg_handler);\n        });\n      } else if ((plot_id in window.PyViz.kernels) && (window.PyViz.kernels[plot_id])) {\n        window.PyViz.kernels[plot_id].registerCommTarget(comm_id, function(comm) {\n          comm.onMsg = msg_handler;\n        });\n      } else if (typeof google != 'undefined' && google.colab.kernel != null) {\n        google.colab.kernel.comms.registerTarget(comm_id, (comm) => {\n          var messages = comm.messages[Symbol.asyncIterator]();\n          function processIteratorResult(result) {\n            var message = result.value;\n            console.log(message)\n            var content = {data: message.data, comm_id};\n            var buffers = []\n            for (var buffer of message.buffers || []) {\n              buffers.push(new DataView(buffer))\n            }\n            var metadata = message.metadata || {};\n            var msg = {content, buffers, metadata}\n            msg_handler(msg);\n            return messages.next().then(processIteratorResult);\n          }\n          return messages.next().then(processIteratorResult);\n        })\n      }\n    }\n\n    JupyterCommManager.prototype.get_client_comm = function(plot_id, comm_id, msg_handler) {\n      if (comm_id in window.PyViz.comms) {\n        return window.PyViz.comms[comm_id];\n      } else if (window.comm_manager || ((window.Jupyter !== undefined) && (Jupyter.notebook.kernel != null))) {\n        var comm_manager = window.comm_manager || Jupyter.notebook.kernel.comm_manager;\n        var comm = comm_manager.new_comm(comm_id, {}, {}, {}, comm_id);\n        if (msg_handler) {\n          comm.on_msg(msg_handler);\n        }\n      } else if ((plot_id in window.PyViz.kernels) && (window.PyViz.kernels[plot_id])) {\n        var comm = window.PyViz.kernels[plot_id].connectToComm(comm_id);\n        comm.open();\n        if (msg_handler) {\n          comm.onMsg = msg_handler;\n        }\n      } else if (typeof google != 'undefined' && google.colab.kernel != null) {\n        var comm_promise = google.colab.kernel.comms.open(comm_id)\n        comm_promise.then((comm) => {\n          window.PyViz.comms[comm_id] = comm;\n          if (msg_handler) {\n            var messages = comm.messages[Symbol.asyncIterator]();\n            function processIteratorResult(result) {\n              var message = result.value;\n              var content = {data: message.data};\n              var metadata = message.metadata || {comm_id};\n              var msg = {content, metadata}\n              msg_handler(msg);\n              return messages.next().then(processIteratorResult);\n            }\n            return messages.next().then(processIteratorResult);\n          }\n        }) \n        var sendClosure = (data, metadata, buffers, disposeOnDone) => {\n          return comm_promise.then((comm) => {\n            comm.send(data, metadata, buffers, disposeOnDone);\n          });\n        };\n        var comm = {\n          send: sendClosure\n        };\n      }\n      window.PyViz.comms[comm_id] = comm;\n      return comm;\n    }\n    window.PyViz.comm_manager = new JupyterCommManager();\n    \n\n\nvar JS_MIME_TYPE = 'application/javascript';\nvar HTML_MIME_TYPE = 'text/html';\nvar EXEC_MIME_TYPE = 'application/vnd.holoviews_exec.v0+json';\nvar CLASS_NAME = 'output';\n\n/**\n * Render data to the DOM node\n */\nfunction render(props, node) {\n  var div = document.createElement(\"div\");\n  var script = document.createElement(\"script\");\n  node.appendChild(div);\n  node.appendChild(script);\n}\n\n/**\n * Handle when a new output is added\n */\nfunction handle_add_output(event, handle) {\n  var output_area = handle.output_area;\n  var output = handle.output;\n  if ((output.data == undefined) || (!output.data.hasOwnProperty(EXEC_MIME_TYPE))) {\n    return\n  }\n  var id = output.metadata[EXEC_MIME_TYPE][\"id\"];\n  var toinsert = output_area.element.find(\".\" + CLASS_NAME.split(' ')[0]);\n  if (id !== undefined) {\n    var nchildren = toinsert.length;\n    var html_node = toinsert[nchildren-1].children[0];\n    html_node.innerHTML = output.data[HTML_MIME_TYPE];\n    var scripts = [];\n    var nodelist = html_node.querySelectorAll(\"script\");\n    for (var i in nodelist) {\n      if (nodelist.hasOwnProperty(i)) {\n        scripts.push(nodelist[i])\n      }\n    }\n\n    scripts.forEach( function (oldScript) {\n      var newScript = document.createElement(\"script\");\n      var attrs = [];\n      var nodemap = oldScript.attributes;\n      for (var j in nodemap) {\n        if (nodemap.hasOwnProperty(j)) {\n          attrs.push(nodemap[j])\n        }\n      }\n      attrs.forEach(function(attr) { newScript.setAttribute(attr.name, attr.value) });\n      newScript.appendChild(document.createTextNode(oldScript.innerHTML));\n      oldScript.parentNode.replaceChild(newScript, oldScript);\n    });\n    if (JS_MIME_TYPE in output.data) {\n      toinsert[nchildren-1].children[1].textContent = output.data[JS_MIME_TYPE];\n    }\n    output_area._hv_plot_id = id;\n    if ((window.Bokeh !== undefined) && (id in Bokeh.index)) {\n      window.PyViz.plot_index[id] = Bokeh.index[id];\n    } else {\n      window.PyViz.plot_index[id] = null;\n    }\n  } else if (output.metadata[EXEC_MIME_TYPE][\"server_id\"] !== undefined) {\n    var bk_div = document.createElement(\"div\");\n    bk_div.innerHTML = output.data[HTML_MIME_TYPE];\n    var script_attrs = bk_div.children[0].attributes;\n    for (var i = 0; i < script_attrs.length; i++) {\n      toinsert[toinsert.length - 1].childNodes[1].setAttribute(script_attrs[i].name, script_attrs[i].value);\n    }\n    // store reference to server id on output_area\n    output_area._bokeh_server_id = output.metadata[EXEC_MIME_TYPE][\"server_id\"];\n  }\n}\n\n/**\n * Handle when an output is cleared or removed\n */\nfunction handle_clear_output(event, handle) {\n  var id = handle.cell.output_area._hv_plot_id;\n  var server_id = handle.cell.output_area._bokeh_server_id;\n  if (((id === undefined) || !(id in PyViz.plot_index)) && (server_id !== undefined)) { return; }\n  var comm = window.PyViz.comm_manager.get_client_comm(\"hv-extension-comm\", \"hv-extension-comm\", function () {});\n  if (server_id !== null) {\n    comm.send({event_type: 'server_delete', 'id': server_id});\n    return;\n  } else if (comm !== null) {\n    comm.send({event_type: 'delete', 'id': id});\n  }\n  delete PyViz.plot_index[id];\n  if ((window.Bokeh !== undefined) & (id in window.Bokeh.index)) {\n    var doc = window.Bokeh.index[id].model.document\n    doc.clear();\n    const i = window.Bokeh.documents.indexOf(doc);\n    if (i > -1) {\n      window.Bokeh.documents.splice(i, 1);\n    }\n  }\n}\n\n/**\n * Handle kernel restart event\n */\nfunction handle_kernel_cleanup(event, handle) {\n  delete PyViz.comms[\"hv-extension-comm\"];\n  window.PyViz.plot_index = {}\n}\n\n/**\n * Handle update_display_data messages\n */\nfunction handle_update_output(event, handle) {\n  handle_clear_output(event, {cell: {output_area: handle.output_area}})\n  handle_add_output(event, handle)\n}\n\nfunction register_renderer(events, OutputArea) {\n  function append_mime(data, metadata, element) {\n    // create a DOM node to render to\n    var toinsert = this.create_output_subarea(\n    metadata,\n    CLASS_NAME,\n    EXEC_MIME_TYPE\n    );\n    this.keyboard_manager.register_events(toinsert);\n    // Render to node\n    var props = {data: data, metadata: metadata[EXEC_MIME_TYPE]};\n    render(props, toinsert[0]);\n    element.append(toinsert);\n    return toinsert\n  }\n\n  events.on('output_added.OutputArea', handle_add_output);\n  events.on('output_updated.OutputArea', handle_update_output);\n  events.on('clear_output.CodeCell', handle_clear_output);\n  events.on('delete.Cell', handle_clear_output);\n  events.on('kernel_ready.Kernel', handle_kernel_cleanup);\n\n  OutputArea.prototype.register_mime_type(EXEC_MIME_TYPE, append_mime, {\n    safe: true,\n    index: 0\n  });\n}\n\nif (window.Jupyter !== undefined) {\n  try {\n    var events = require('base/js/events');\n    var OutputArea = require('notebook/js/outputarea').OutputArea;\n    if (OutputArea.prototype.mime_types().indexOf(EXEC_MIME_TYPE) == -1) {\n      register_renderer(events, OutputArea);\n    }\n  } catch(err) {\n  }\n}\n"
     },
     "metadata": {},
     "output_type": "display_data"
    }
   ],
   "source": [
    "#!/usr/bin/env python3\n",
    "# -*- coding: utf-8 -*-\n",
    "\"\"\"\n",
    "@author: pho\n",
    "\"\"\"\n",
    "%load_ext autoreload\n",
    "%autoreload 2\n",
    "import sys\n",
    "import importlib\n",
    "from threading import Thread\n",
    "import time # for time.sleep\n",
    "from ipygany import PolyMesh, Scene, IsoColor, WarpByScalar\n",
    "import pyvista as pv\n",
    "# from pyvista import _vtk\n",
    "import pyvistaqt as pvqt\n",
    "import colorcet as cc # Colormaps:\n",
    "import numpy as np\n",
    "import pandas as pd\n",
    "import h5py\n",
    "import hdf5storage # conda install hdf5storage\n",
    "from pathlib import Path\n",
    "import bqplot.scales\n",
    "import seaborn as sns\n",
    "from mpl_toolkits import mplot3d\n",
    "import matplotlib.pyplot as plt\n",
    "import matplotlib.cm as cm\n",
    "from matplotlib.colors import Normalize, to_rgba_array\n",
    "# import mplcursors\n",
    "import math # For color map generation\n",
    "from matplotlib.colors import ListedColormap\n",
    "from matplotlib.cm import hsv\n",
    "\n",
    "import ipywidgets as widgets\n",
    "# from PyQt5 import QtWidgets, uic\n",
    "from pyvistaqt import QtInteractor, MainWindow\n",
    "# from pyqt6 import QApplication\n",
    "from IPython.external.qt_for_kernel import QtGui\n",
    "from PyQt5.QtWidgets import QApplication\n",
    "\n",
    "import datetime as dt\n",
    "import panel as pn # for interactive widgets\n",
    "pn.extension()"
   ]
  },
  {
   "cell_type": "code",
   "execution_count": 2,
   "id": "313eba69-5c27-4e2d-8563-2220af614aea",
   "metadata": {},
   "outputs": [],
   "source": [
    "# import PhoPositionalData as pdp\n",
    "# from PhoPositionalData import load_exported, process_data\n",
    "from PhoPositionalData.load_exported import *\n",
    "# from PhoPositionalData.process_data import process_positionalAnalysis_data, gen_2d_histrogram, get_heatmap_color_vectors, process_chunk_equal_poritions_data, extract_spike_timeseries\n",
    "from PhoPositionalData.process_data import *\n",
    "from PhoPositionalData.plot_data import *\n",
    "from PhoPositionalData.plotting.animations import * # make_mp4_from_plotter\n",
    "from PhoPositionalData.import_data import * # build_spike_positions_list, build_cellID_reverse_lookup_map\n",
    "from PhoPositionalData.analysis.interactive_placeCell_config import InteractivePlaceCellConfig, VideoOutputModeConfig, PlottingConfig, PlacefieldComputationParameters  # VideoOutputModeConfig, InteractivePlaceCellConfigs\n",
    "from PhoPositionalData.analysis.interactive_placeCell_config import print_subsession_neuron_differences\n",
    "\n",
    "def debug_print_spike_counts(session):\n",
    "    uniques, indicies, inverse_indicies, count_arr = np.unique(active_epoch_session.spikes_df['aclu'].values, return_index=True, return_inverse=True, return_counts=True)\n",
    "    # count_arr = np.bincount(active_epoch_session.spikes_df['aclu'].values)\n",
    "    print('active_epoch_session.spikes_df unique aclu values: {}'.format(uniques))\n",
    "    print('active_epoch_session.spikes_df unique aclu value counts: {}'.format(count_arr))\n",
    "    print(len(uniques)) # 69 \n",
    "    uniques, indicies, inverse_indicies, count_arr = np.unique(active_epoch_session.spikes_df['unit_id'].values, return_index=True, return_inverse=True, return_counts=True)\n",
    "    # count_arr = np.bincount(active_epoch_session.spikes_df['unit_id'].values)\n",
    "    print('active_epoch_session.spikes_df unique unit_id values: {}'.format(uniques))\n",
    "    print('active_epoch_session.spikes_df unique unit_id value counts: {}'.format(count_arr))\n",
    "    \n",
    "    print(len(uniques)) # 69 \n",
    "    "
   ]
  },
  {
   "cell_type": "code",
   "execution_count": 3,
   "id": "7773a93a-d1a0-4403-93dd-755468f86751",
   "metadata": {},
   "outputs": [
    {
     "name": "stdout",
     "output_type": "stream",
     "text": [
      "neuropy module not found, adding directory to sys.path. \n",
      " >> Updated sys.path.\n"
     ]
    }
   ],
   "source": [
    "# NeuroPy (Diba Lab Python Repo) Loading\n",
    "try:\n",
    "    from neuropy import core\n",
    "    importlib.reload(core)\n",
    "except ImportError:\n",
    "    sys.path.append(r'C:\\Users\\Pho\\repos\\NeuroPy') # Windows\n",
    "    # sys.path.append('/home/pho/repo/BapunAnalysis2021/NeuroPy') # Linux\n",
    "    # sys.path.append(r'/Users/pho/repo/Python Projects/NeuroPy') # MacOS\n",
    "    print('neuropy module not found, adding directory to sys.path. \\n >> Updated sys.path.')\n",
    "    from neuropy import core\n",
    "# from neuropy.core.session.dataSession import SessionConfig, DataSessionLoader, DataSession, processDataSssion\n",
    "\n",
    "from neuropy.core.session.data_session_loader import DataSessionLoader\n",
    "from neuropy.core.session.dataSession import DataSession\n",
    "from neuropy.core.epoch import Epoch, NamedTimerange\n",
    "from neuropy.core import Laps\n",
    "from neuropy.core import Position\n",
    "from neuropy.core import FlattenedSpiketrains\n",
    "from neuropy.core import Neurons\n",
    "from neuropy.utils.misc import print_seconds_human_readable\n",
    "\n",
    "## Data must be pre-processed using the MATLAB script located here: \n",
    "# R:\\data\\KDIBA\\gor01\\one\\IIDataMat_Export_ToPython_2021_11_23.m\n",
    "\n",
    "# From pre-computed .mat files:\n",
    "## 07: \n",
    "# basedir = r'R:\\data\\KDIBA\\gor01\\one\\2006-6-07_11-26-53'\n",
    "\n",
    "# ## 08:\n",
    "basedir = r'R:\\data\\KDIBA\\gor01\\one\\2006-6-08_14-26-15'"
   ]
  },
  {
   "cell_type": "code",
   "execution_count": 4,
   "id": "66abf4fd-c432-4d07-89e1-6ab4b1920da0",
   "metadata": {
    "scrolled": true,
    "tags": []
   },
   "outputs": [],
   "source": [
    "from neuropy.analyses import Pf1D, Pf2D, perform_compute_placefields, plot_all_placefields\n",
    "from neuropy.plotting.spikes import get_neuron_colors\n",
    "\n",
    "should_force_recompute_placefields = True\n",
    "should_display_2D_plots = True\n",
    "\n",
    "def compute_placefields_as_needed(active_session, computation_config=None, active_epoch_placefields1D = None, active_epoch_placefields2D = None, should_force_recompute_placefields=False, should_display_2D_plots=False):\n",
    "    if computation_config is None:\n",
    "        computation_config = PlacefieldComputationParameters(speed_thresh=9, grid_bin=2, smooth=0.5)\n",
    "    active_epoch_placefields1D, active_epoch_placefields2D = perform_compute_placefields(active_session.neurons, active_session.position, computation_config, active_epoch_placefields1D, active_epoch_placefields2D, should_force_recompute_placefields=True)\n",
    "    # Plot the placefields computed and save them out to files:\n",
    "    if should_display_2D_plots:\n",
    "        ax_pf_1D, occupancy_fig, active_pf_2D_figures = plot_all_placefields(active_epoch_placefields1D, active_epoch_placefields2D, active_config)\n",
    "    else:\n",
    "        print('skipping 2D placefield plots')\n",
    "    return active_epoch_placefields1D, active_epoch_placefields2D\n",
    "\n",
    "## Plotting Colors:\n",
    "def build_units_colormap(session):\n",
    "    pf_sort_ind = np.array([int(i) for i in np.arange(len(session.neuron_ids))]) # convert to integer scalar array\n",
    "    pf_colors = get_neuron_colors(pf_sort_ind) # [4 x n_neurons]: colors are by ascending index ID\n",
    "    pf_colormap = pf_colors.T # [n_neurons x 4] Make the colormap from the listed colors, used seemingly only by 'runAnalysis_PCAandICA(...)'\n",
    "    pf_listed_colormap = ListedColormap(pf_colormap)\n",
    "    return pf_sort_ind, pf_colors, pf_colormap, pf_listed_colormap\n",
    "\n",
    "def process_by_good_placefields(session, active_config, active_placefields):\n",
    "    \"\"\"  Filters the session by the units in active_placefields that have good placefields and return an updated session. Also adds generated colors for each good unit to active_config \"\"\"\n",
    "    # Get the cell IDs that have a good place field mapping:\n",
    "    good_placefield_neuronIDs = np.array(active_placefields.ratemap.neuron_ids) # in order of ascending ID\n",
    "    print('good_placefield_neuronIDs: {}; ({} good)'.format(good_placefield_neuronIDs, len(good_placefield_neuronIDs)))\n",
    "\n",
    "    ## Filter by neurons with good placefields only:\n",
    "    good_placefields_session = active_epoch_session.get_by_id(good_placefield_neuronIDs) # Filter by good placefields only, and this fetch also ensures they're returned in the order of sorted ascending index ([ 2  3  5  7  9 12 18 21 22 23 26 27 29 34 38 45 48 53 57])\n",
    "\n",
    "    pf_sort_ind, pf_colors, pf_colormap, pf_listed_colormap = build_units_colormap(session)\n",
    "    active_config.plotting_config.pf_sort_ind = pf_sort_ind\n",
    "    active_config.plotting_config.pf_colors = pf_colors\n",
    "    active_config.plotting_config.active_cells_colormap = pf_colormap\n",
    "    active_config.plotting_config.active_cells_listed_colormap = ListedColormap(active_config.plotting_config.active_cells_colormap)\n",
    "    \n",
    "    return good_placefields_session, active_config, good_placefield_neuronIDs\n",
    "\n",
    "\n",
    "## For building the configs used to filter the session by epoch: \n",
    "def build_configs(session_config, active_epoch, active_subplots_shape = (1,1)):\n",
    "    ## Get the config corresponding to this epoch/session settings:\n",
    "    active_config = InteractivePlaceCellConfig(active_session_config=session_config, active_epochs=active_epoch, video_output_config=None, plotting_config=None) # '3|1    \n",
    "\n",
    "    active_config.video_output_config = VideoOutputModeConfig(active_frame_range=np.arange(100.0, 120.0), \n",
    "                                                              video_output_parent_dir=Path('output', active_sess_config.session_name, active_epoch.name),\n",
    "                                                              active_is_video_output_mode=False)\n",
    "    active_config.plotting_config = PlottingConfig(output_subplots_shape=active_subplots_shape,\n",
    "                                                   output_parent_dir=Path('output', active_sess_config.session_name, active_epoch.name)\n",
    "                                                  )\n",
    "    # Make the directories:\n",
    "    active_config.plotting_config.active_output_parent_dir.mkdir(parents=True, exist_ok=True) # makes the directory if it isn't already there\n",
    "    return active_config\n"
   ]
  },
  {
   "cell_type": "code",
   "execution_count": 34,
   "id": "ccb78ee2-837f-48d6-96fd-10e17c4fbc8d",
   "metadata": {},
   "outputs": [
    {
     "name": "stdout",
     "output_type": "stream",
     "text": [
      "\t basepath: R:\\data\\KDIBA\\gor01\\one\\2006-6-08_14-26-15\n",
      "\t session_name: 2006-6-08_14-26-15\n",
      "Loading matlab import file: R:\\data\\KDIBA\\gor01\\one\\2006-6-08_14-26-15\\2006-6-08_14-26-15.epochs_info.mat...\n",
      "done.\n",
      "Loading matlab import file: R:\\data\\KDIBA\\gor01\\one\\2006-6-08_14-26-15\\2006-6-08_14-26-15.position_info.mat...\n",
      "done.\n",
      "Loading matlab import file: R:\\data\\KDIBA\\gor01\\one\\2006-6-08_14-26-15\\2006-6-08_14-26-15.spikeII.mat...\n",
      "done.\n"
     ]
    },
    {
     "name": "stderr",
     "output_type": "stream",
     "text": [
      "C:\\Users\\Pho\\repos\\NeuroPy\\neuropy\\core\\session\\data_session_loader.py:679: SettingWithCopyWarning: \n",
      "A value is trying to be set on a copy of a slice from a DataFrame\n",
      "\n",
      "See the caveats in the documentation: https://pandas.pydata.org/pandas-docs/stable/user_guide/indexing.html#returning-a-view-versus-a-copy\n",
      "  spikes_df.lap_maze[0:split_index] = 1\n",
      "C:\\Users\\Pho\\repos\\NeuroPy\\neuropy\\core\\session\\data_session_loader.py:680: SettingWithCopyWarning: \n",
      "A value is trying to be set on a copy of a slice from a DataFrame\n",
      "\n",
      "See the caveats in the documentation: https://pandas.pydata.org/pandas-docs/stable/user_guide/indexing.html#returning-a-view-versus-a-copy\n",
      "  spikes_df.lap_maze[split_index:] = 2 # maze 2\n",
      "C:\\Users\\Pho\\repos\\NeuroPy\\neuropy\\core\\session\\data_session_loader.py:681: SettingWithCopyWarning: \n",
      "A value is trying to be set on a copy of a slice from a DataFrame\n",
      "\n",
      "See the caveats in the documentation: https://pandas.pydata.org/pandas-docs/stable/user_guide/indexing.html#returning-a-view-versus-a-copy\n",
      "  spikes_df.lap_maze[neg_one_indicies] = np.nan # make sure all the -1 entries are not assigned a maze\n"
     ]
    },
    {
     "name": "stdout",
     "output_type": "stream",
     "text": [
      "setting laps object.\n",
      "computing linear positions for all active epochs for session...\n",
      "Saving updated position results to R:\\data\\KDIBA\\gor01\\one\\2006-6-08_14-26-15\\2006-6-08_14-26-15.position.npy...\n",
      "2006-6-08_14-26-15.position.npy saved\n",
      "done.\n",
      "\n",
      "session.position linear positions computed!\n"
     ]
    }
   ],
   "source": [
    "# KDiba Old Format:\n",
    "sess = DataSessionLoader.kdiba_old_format_session(basedir)"
   ]
  },
  {
   "cell_type": "code",
   "execution_count": 35,
   "id": "04c8f548-198e-45fc-99ca-27770fa99ad7",
   "metadata": {},
   "outputs": [
    {
     "data": {
      "text/html": [
       "<div>\n",
       "<style scoped>\n",
       "    .dataframe tbody tr th:only-of-type {\n",
       "        vertical-align: middle;\n",
       "    }\n",
       "\n",
       "    .dataframe tbody tr th {\n",
       "        vertical-align: top;\n",
       "    }\n",
       "\n",
       "    .dataframe thead th {\n",
       "        text-align: right;\n",
       "    }\n",
       "</style>\n",
       "<table border=\"1\" class=\"dataframe\">\n",
       "  <thead>\n",
       "    <tr style=\"text-align: right;\">\n",
       "      <th></th>\n",
       "      <th>start</th>\n",
       "      <th>stop</th>\n",
       "      <th>label</th>\n",
       "      <th>duration</th>\n",
       "    </tr>\n",
       "  </thead>\n",
       "  <tbody>\n",
       "    <tr>\n",
       "      <th>0</th>\n",
       "      <td>0.00000</td>\n",
       "      <td>1211.558080</td>\n",
       "      <td>maze1</td>\n",
       "      <td>1211.558080</td>\n",
       "    </tr>\n",
       "    <tr>\n",
       "      <th>1</th>\n",
       "      <td>1211.55808</td>\n",
       "      <td>2093.897857</td>\n",
       "      <td>maze2</td>\n",
       "      <td>882.339777</td>\n",
       "    </tr>\n",
       "  </tbody>\n",
       "</table>\n",
       "</div>"
      ],
      "text/plain": [
       "        start         stop  label     duration\n",
       "0     0.00000  1211.558080  maze1  1211.558080\n",
       "1  1211.55808  2093.897857  maze2   882.339777"
      ]
     },
     "execution_count": 35,
     "metadata": {},
     "output_type": "execute_result"
    }
   ],
   "source": [
    "active_sess_config = sess.config\n",
    "session_name = sess.name\n",
    "# Setup the placefield computation config\n",
    "# active_config.computation_config = PlacefieldComputationParameters(speed_thresh=3, grid_bin=2, smooth=2)\n",
    "sess.epochs.to_dataframe()"
   ]
  },
  {
   "cell_type": "code",
   "execution_count": 36,
   "id": "ec7286f0-b334-47a8-bb67-c85e62e40fa7",
   "metadata": {
    "scrolled": true,
    "tags": []
   },
   "outputs": [
    {
     "name": "stdout",
     "output_type": "stream",
     "text": [
      "session dataframe spikes: (1014937, 20)\n",
      " session.neurons.n_spikes summed: 1014937\n",
      "\n"
     ]
    }
   ],
   "source": [
    "# sess.spikes_df.size # (1014937, 18)\n",
    "# np.sum(sess.neurons.n_spikes) # 1014937\n",
    "print('session dataframe spikes: {}\\n session.neurons.n_spikes summed: {}\\n'.format(sess.spikes_df.shape, np.sum(sess.neurons.n_spikes)))"
   ]
  },
  {
   "cell_type": "markdown",
   "id": "ad898964-122c-40e6-8b4f-7ea60294a87c",
   "metadata": {
    "tags": []
   },
   "source": [
    "## Debugging"
   ]
  },
  {
   "cell_type": "code",
   "execution_count": 21,
   "id": "d9783830-35dc-417a-9941-2c49b5efc819",
   "metadata": {
    "scrolled": true,
    "tags": []
   },
   "outputs": [],
   "source": [
    "# debug_print_spike_counts(sess)\n",
    "\n",
    "# sess.spikes_df unique aclu values: [ 2  3  4  5  6  7  8  9 10 11 12 13 14 15 16 17 18 19 20 21 22 23 24 25\n",
    "#  26 27 28 29 30 31 32 33 34 35 36 37 38 39 40 41 42 43 44 45 46 47 48 49\n",
    "#  50 51 52 53 54 55 56 57 58 59 60 61 62 63 64 65]\n",
    "# sess.spikes_df unique aclu value counts: [    0     0  1707  1359   554  3066 91337  2707   294  2991   913  1278\n",
    "#   1221  5475  2880 36760 48449   523  2595  3025 34729  3958  5263   790\n",
    "#    663  1070  1078  2954  4044  2581 73951  4871 13444   476  1234 89854\n",
    "#   5822 14961  2682  1184 13575 83972   795 22769  1559  8307  2098   438\n",
    "#   3476 28370 43854  1355  2552  2875 59011  1440 75786  3656   875 17727\n",
    "#  77247   550   408  2627  1734  2799]\n",
    "\n",
    "# sess.spikes_df unique unit_id values: [ 0  1  2  3  4  5  6  7  8  9 10 11 12 13 14 15 16 17 18 19 20 21 22 23\n",
    "#  24 25 26 27 28 29 30 31 32 33 34 35 36 37 38 39 40 41 42 43 44 45 46 47\n",
    "#  48 49 50 51 52 53 54 55 56 57 58 59 60 61 62 63]\n",
    "# sess.spikes_df unique unit_id value counts: [ 1707  1359   554  3066 91337  2707   294  2991   913  1278  1221  5475\n",
    "#   2880 36760 48449   523  2595  3025 34729  3958  5263   790   663  1070\n",
    "#   1078  2954  4044  2581 73951  4871 13444   476  1234 89854  5822 14961\n",
    "#   2682  1184 13575 83972   795 22769  1559  8307  2098   438  3476 28370\n",
    "#  43854  1355  2552  2875 59011  1440 75786  3656   875 17727 77247   550\n",
    "#    408  2627  1734  2799]\n",
    "\n",
    "# sess.neurons.spiketrains\n",
    "# sess.neurons.n_spikes\n",
    "\n",
    "## Note the unit_id seems to have valid spikes for all of them, while the aclu does not!\n",
    "sess.spikes_df # 1014937\n",
    "\n",
    "# np.where(np.logical_and((sess.spikes_df.maze_relative_lap == 1), (sess.spikes_df.lap_maze == 2)))\n",
    "# sess.spikes_df.lap.values[np.logical_and((sess.spikes_df.maze_relative_lap == 1), (sess.spikes_df.lap_maze == 2))]\n",
    "\n",
    "\n",
    "# test_df = sess.spikes_df\n",
    "# test_df"
   ]
  },
  {
   "cell_type": "code",
   "execution_count": 59,
   "id": "065881f6-218a-4e92-a0d8-9e2b7ae9519d",
   "metadata": {
    "scrolled": true,
    "tags": []
   },
   "outputs": [],
   "source": [
    "lap_specific_subsessions = list()\n",
    "lap_grouped_spikes_df = sess.spikes_df.groupby(['lap']) #  as_index=False keeps the original index"
   ]
  },
  {
   "cell_type": "code",
   "execution_count": 61,
   "id": "6566deba-051e-4fac-805b-734d4a75d3db",
   "metadata": {
    "scrolled": true,
    "tags": []
   },
   "outputs": [],
   "source": [
    "i = 2\n",
    "curr_lap_id = sess.laps.lap_id[i]\n",
    "curr_lap_times = sess.laps.get_lap_times(i)\n",
    "print('curr_lap_id: {}'.format(curr_lap_id))\n",
    "print('curr_lap_times: {}'.format(curr_lap_times))\n",
    "\n",
    "lap_specific_subsessions.append(sess.time_slice(curr_lap_times[0], curr_lap_times[-1]))\n",
    "# lap_specific_subsessions.append(sess.time_slice(curr_lap_dataframe.t_seconds.values[0], curr_lap_dataframe.t_seconds.values[-1]))"
   ]
  },
  {
   "cell_type": "code",
   "execution_count": 62,
   "id": "11c43d53-dcfc-430f-8c14-022549261d8d",
   "metadata": {
    "scrolled": true,
    "tags": []
   },
   "outputs": [
    {
     "name": "stdout",
     "output_type": "stream",
     "text": [
      "curr_lap_id: 4\n",
      "curr_lap_times: (525.0678, 541.2292)\n",
      "Constraining to epoch with times (start: 525.0678, end: 541.2292)\n"
     ]
    }
   ],
   "source": [
    "i = 3\n",
    "curr_lap_id = sess.laps.lap_id[i]\n",
    "curr_lap_times = sess.laps.get_lap_times(i)\n",
    "print('curr_lap_id: {}'.format(curr_lap_id))\n",
    "print('curr_lap_times: {}'.format(curr_lap_times))\n",
    "\n",
    "lap_specific_subsessions.append(sess.time_slice(curr_lap_times[0], curr_lap_times[-1]))"
   ]
  },
  {
   "cell_type": "code",
   "execution_count": 63,
   "id": "3f48e028-51c4-4b4f-ab6e-cdb8dde958d4",
   "metadata": {},
   "outputs": [
    {
     "name": "stdout",
     "output_type": "stream",
     "text": [
      "!! WARNING: Session.concat(...) is not yet fully implemented, meaning the returned session is not fully valid. Continue with caution.\n"
     ]
    },
    {
     "data": {
      "text/plain": [
       "DataSession(2006-6-08_14-26-15.xml)"
      ]
     },
     "execution_count": 63,
     "metadata": {},
     "output_type": "execute_result"
    }
   ],
   "source": [
    "lap_specific_session = DataSession.concat(lap_specific_subsessions)\n",
    "lap_specific_session"
   ]
  },
  {
   "cell_type": "code",
   "execution_count": 67,
   "id": "f2700b62-aad3-4252-beeb-fb55cb284e4c",
   "metadata": {},
   "outputs": [
    {
     "name": "stdout",
     "output_type": "stream",
     "text": [
      "<core.Position :: np.shape(traces): (2, 1232)\t time: [442.9429     442.97629406 443.00968812 ... 483.98419837 484.01759243\n",
      " 484.05098649]\n",
      " duration: 41.10808648548039\n",
      " time[-1]: 484.0509864854804\n",
      " time[0]: 442.9429\n",
      " sampling_rate: 29.96977250291495\n",
      " t_start: 442.9429\n",
      " t_stop: 484.0509864854804\n",
      ">\n",
      "\n"
     ]
    }
   ],
   "source": [
    "lap_specific_session.neurons.n_spikes # this looks right.\n",
    "\n",
    "lap_specific_session.position.print_debug_str() # this looks right.\n",
    "\n",
    "# len(sess.neurons.n_spikes) # 64 items long\n",
    "# sess.neurons.n_spikes\n",
    "# array([ 1707,  1359,   554,  3066, 91337,  2707,   294,  2991,   913,\n",
    "#         1278,  1221,  5475,  2880, 36760, 48449,   523,  2595,  3025,\n",
    "#        34729,  3958,  5263,   790,   663,  1070,  1078,  2954,  4044,\n",
    "#         2581, 73951,  4871, 13444,   476,  1234, 89854,  5822, 14961,\n",
    "#         2682,  1184, 13575, 83972,   795, 22769,  1559,  8307,  2098,\n",
    "#          438,  3476, 28370, 43854,  1355,  2552,  2875, 59011,  1440,\n",
    "#        75786,  3656,   875, 17727, 77247,   550,   408,  2627,  1734,\n",
    "#         2799])\n",
    "\n"
   ]
  },
  {
   "cell_type": "markdown",
   "id": "d8312b63-1ef4-423c-9bec-59e98f46d0d7",
   "metadata": {
    "tags": []
   },
   "source": [
    "## Laps: Create version of Session that only includes activity during the laps"
   ]
  },
  {
   "cell_type": "code",
   "execution_count": 30,
   "id": "a06200b9-acbc-420a-9a67-0a75b777f704",
   "metadata": {
    "scrolled": true,
    "tags": []
   },
   "outputs": [
    {
     "data": {
      "text/plain": [
       "array([ 1,  2,  3,  4,  5,  6,  7,  8,  9, 10, 11, 12, 13, 14, 15, 16, 17,\n",
       "       18, 19, 20, 21, 22, 23, 24, 25, 26, 27, 28, 29, 30, 31, 32, 33, 34,\n",
       "       35, 36, 37, 38, 39, 40, 41, 42, 43, 44, 45, 46, 47, 48, 49, 50, 51,\n",
       "       52, 53, 54, 55, 56, 57, 58, 59, 60, 61, 62, 63, 64, 65, 66, 67, 68,\n",
       "       69, 70, 71, 72, 73, 74, 75, 76, 77, 78, 79, 80], dtype=int64)"
      ]
     },
     "execution_count": 30,
     "metadata": {},
     "output_type": "execute_result"
    }
   ],
   "source": [
    "sess.laps.lap_id # 1-80\n",
    "\n",
    "# np.unique(sess.spikes_df.lap)"
   ]
  },
  {
   "cell_type": "code",
   "execution_count": 38,
   "id": "b29c46a8-47e4-4833-8651-ac2dafdb7fb6",
   "metadata": {
    "scrolled": true,
    "tags": []
   },
   "outputs": [],
   "source": [
    "lap_specific_session = sess.filtered_by_laps(lap_indicies=np.arange(3, 81))\n",
    "print(lap_specific_session.neurons.n_spikes)"
   ]
  },
  {
   "cell_type": "code",
   "execution_count": 48,
   "id": "29565afb-95ac-437b-92ab-77d1d3d5b546",
   "metadata": {
    "scrolled": true,
    "tags": []
   },
   "outputs": [
    {
     "name": "stdout",
     "output_type": "stream",
     "text": [
      "Constraining to epoch with times (start: 28.666600000000003, end: 4048.9707000000003)\n",
      "Constraining to epoch with times (start: 109.94120000000001, end: 127.7231)\n",
      "Constraining to epoch with times (start: 442.9429, end: 467.8911)\n",
      "Constraining to epoch with times (start: 525.0678, end: 541.2292)\n",
      "Constraining to epoch with times (start: 716.5310000000001, end: 776.3871)\n",
      "Constraining to epoch with times (start: 836.2068, end: 850.6622)\n",
      "Constraining to epoch with times (start: 959.1822000000001, end: 974.2764000000001)\n",
      "Constraining to epoch with times (start: 1021.8599, end: 1035.771)\n",
      "Constraining to epoch with times (start: 1615.1453000000001, end: 1640.0033)\n",
      "Constraining to epoch with times (start: 1665.8343, end: 1680.9245)\n",
      "Constraining to epoch with times (start: 1732.5332, end: 1754.8831)\n",
      "Constraining to epoch with times (start: 1823.8762000000002, end: 1836.7985)\n",
      "Constraining to epoch with times (start: 1901.6403, end: 1921.1926)\n",
      "Constraining to epoch with times (start: 1949.0218, end: 1964.6481)\n",
      "Constraining to epoch with times (start: 2010.0755000000001, end: 2032.536)\n",
      "Constraining to epoch with times (start: 2101.3996, end: 2138.4849)\n",
      "Constraining to epoch with times (start: 2211.8785000000003, end: 2225.6515)\n",
      "Constraining to epoch with times (start: 2253.2186, end: 2269.4024)\n",
      "Constraining to epoch with times (start: 2316.3448000000003, end: 2343.7067)\n",
      "Constraining to epoch with times (start: 2375.3379, end: 2406.6886)\n",
      "Constraining to epoch with times (start: 2435.047, end: 2457.9622)\n",
      "Constraining to epoch with times (start: 2483.7482, end: 2499.329)\n",
      "Constraining to epoch with times (start: 2532.2663000000002, end: 2563.4344)\n",
      "Constraining to epoch with times (start: 2623.4186, end: 2638.5099)\n",
      "Constraining to epoch with times (start: 2684.2231, end: 2705.9431)\n",
      "Constraining to epoch with times (start: 2763.9183000000003, end: 2776.7341)\n",
      "Constraining to epoch with times (start: 3007.1404, end: 3033.0896000000002)\n",
      "Constraining to epoch with times (start: 3067.4066000000003, end: 3081.8499)\n",
      "Constraining to epoch with times (start: 3173.3047, end: 3199.398)\n",
      "Constraining to epoch with times (start: 3245.8722000000002, end: 3258.8899)\n",
      "Constraining to epoch with times (start: 3281.7371000000003, end: 3326.5928000000004)\n",
      "Constraining to epoch with times (start: 3369.9202, end: 3385.2401)\n",
      "Constraining to epoch with times (start: 3429.3242, end: 3451.3707)\n",
      "Constraining to epoch with times (start: 3479.6128000000003, end: 3494.9346)\n",
      "Constraining to epoch with times (start: 3520.139, end: 3553.367)\n",
      "Constraining to epoch with times (start: 3598.1316, end: 3611.6658)\n",
      "Constraining to epoch with times (start: 3656.449, end: 3674.7799)\n",
      "Constraining to epoch with times (start: 3787.6632, end: 3799.5036)\n",
      "Constraining to epoch with times (start: 3838.8151000000003, end: 3860.8662000000004)\n",
      "Constraining to epoch with times (start: 3889.9750000000004, end: 3912.0254)\n",
      "Constraining to epoch with times (start: 4048.9798, end: 4048.9798)\n",
      "Constraining to epoch with times (start: 4102.7588000000005, end: 4117.2561000000005)\n",
      "Constraining to epoch with times (start: 4307.2821, end: 4343.1119)\n",
      "Constraining to epoch with times (start: 4370.7182, end: 4379.8361)\n",
      "Constraining to epoch with times (start: 4435.5611, end: 4449.4476)\n",
      "Constraining to epoch with times (start: 4492.270100000001, end: 4502.4529)\n",
      "Constraining to epoch with times (start: 4538.7509, end: 4552.3067)\n",
      "Constraining to epoch with times (start: 4578.9241, end: 4587.8126)\n",
      "Constraining to epoch with times (start: 4612.5856, end: 4623.2447)\n",
      "Constraining to epoch with times (start: 4660.8174, end: 4670.7889000000005)\n",
      "Constraining to epoch with times (start: 5048.9962000000005, end: 5072.6579)\n",
      "Constraining to epoch with times (start: 5087.6768, end: 5097.568200000001)\n",
      "Constraining to epoch with times (start: 5133.7357, end: 5151.0085)\n",
      "Constraining to epoch with times (start: 5170.896900000001, end: 5180.5467)\n",
      "Constraining to epoch with times (start: 5220.3221, end: 5235.799)\n",
      "Constraining to epoch with times (start: 5252.5705, end: 5262.3234)\n",
      "Constraining to epoch with times (start: 5300.7825, end: 5313.7116000000005)\n",
      "Constraining to epoch with times (start: 5331.617700000001, end: 5347.588000000001)\n",
      "Constraining to epoch with times (start: 5371.5999, end: 5384.7553)\n",
      "Constraining to epoch with times (start: 5420.374900000001, end: 5428.6383000000005)\n",
      "Constraining to epoch with times (start: 5449.917, end: 5472.8305)\n",
      "Constraining to epoch with times (start: 5507.6918000000005, end: 5521.3875)\n",
      "Constraining to epoch with times (start: 5553.5364, end: 5565.6044)\n",
      "Constraining to epoch with times (start: 5586.5482, end: 5598.721100000001)\n",
      "Constraining to epoch with times (start: 5678.097900000001, end: 5688.321800000001)\n",
      "Constraining to epoch with times (start: 5702.7577, end: 5714.0623000000005)\n",
      "Constraining to epoch with times (start: 6146.595600000001, end: 6181.772400000001)\n",
      "Constraining to epoch with times (start: 6186.9890000000005, end: 6204.6652)\n",
      "Constraining to epoch with times (start: 6233.592500000001, end: 6257.6945000000005)\n",
      "Constraining to epoch with times (start: 6283.229200000001, end: 6291.0108)\n",
      "Constraining to epoch with times (start: 6318.3003, end: 6334.6009)\n",
      "Constraining to epoch with times (start: 6380.770100000001, end: 6388.8921)\n",
      "Constraining to epoch with times (start: 6418.9921, end: 6430.4916)\n",
      "Constraining to epoch with times (start: 6440.5079000000005, end: 6471.4514)\n",
      "Constraining to epoch with times (start: 6502.1921, end: 6518.267900000001)\n",
      "Constraining to epoch with times (start: 6518.304700000001, end: 6536.3086)\n",
      "Constraining to epoch with times (start: 6572.7802, end: 6583.7771)\n",
      "Constraining to epoch with times (start: 6595.0634, end: 6608.0656)\n",
      "Constraining to epoch with times (start: 6635.7838, end: 6645.782)\n",
      "Constraining to epoch with times (start: 6715.5122, end: 6730.040800000001)\n"
     ]
    }
   ],
   "source": [
    "# # lap_specific_session.spikes_df\n",
    "lap_specific_subsessions, lap_specific_dataframes, lap_spike_indicies, lap_spike_t_seconds = Laps.build_lap_specific_lists(sess, include_empty_lists=True)\n",
    "# sess.neurons.n_spikes"
   ]
  },
  {
   "cell_type": "code",
   "execution_count": 50,
   "id": "19d03820-7722-4d0b-b341-7c6df690c98a",
   "metadata": {
    "scrolled": true,
    "tags": []
   },
   "outputs": [
    {
     "name": "stdout",
     "output_type": "stream",
     "text": [
      "filtering by laps: [ 4  5  6  7  8  9 10 11 12 13 14 15 16 17 18 19 20 21 22 23 24 25 26 27\n",
      " 28 29 30 31 32 33 34 35 36 37 38 39 40 41 42 43 44 45 46 47 48 49 50 51\n",
      " 52 53 54 55 56 57 58 59 60 61 62 63 64 65 66 67 68 69 70 71 72 73 74 75\n",
      " 76 77 78]\n",
      "!! WARNING: Session.concat(...) is not yet fully implemented, meaning the returned session is not fully valid. Continue with caution.\n"
     ]
    }
   ],
   "source": [
    "# lap_specific_subsessions, lap_specific_dataframes, lap_spike_indicies, lap_spike_t_seconds = Laps.build_lap_specific_lists(sess, include_empty_lists=True)\n",
    "lap_indices = np.arange(4, 79)\n",
    "if lap_indices is None:\n",
    "    lap_indices = np.arange(1, len(lap_specific_subsessions)) # all laps by default\n",
    "\n",
    "print('filtering by laps: {}'.format(lap_indices)) \n",
    "active_lap_specific_subsessions = [lap_specific_subsessions[i] for i in lap_indices] # filter by the desired number of laps \n",
    "## Effectively build the new session using only the lap-specific spiketimes:\n",
    "lap_specific_session = DataSession.concat(active_lap_specific_subsessions)"
   ]
  },
  {
   "cell_type": "code",
   "execution_count": 33,
   "id": "a414b3b3-f563-49f2-82f0-4378fa81afc5",
   "metadata": {
    "scrolled": true,
    "tags": []
   },
   "outputs": [
    {
     "data": {
      "text/plain": [
       "array([[  5902., 616654.],\n",
       "       [ 19997.,  24024.],\n",
       "       [ 69332.,  74904.],\n",
       "       [ 83437.,  87077.],\n",
       "       [110178., 121020.],\n",
       "       [130178., 133426.],\n",
       "       [151439., 154900.],\n",
       "       [161637., 164631.],\n",
       "       [237338., 242785.],\n",
       "       [246320., 249661.],\n",
       "       [257345., 262028.],\n",
       "       [271252., 274188.],\n",
       "       [283338., 287617.],\n",
       "       [291221., 294602.],\n",
       "       [300854., 305618.],\n",
       "       [315173., 321830.],\n",
       "       [334006., 337261.],\n",
       "       [340252., 343644.],\n",
       "       [349941., 355254.],\n",
       "       [359228., 365760.],\n",
       "       [369715., 374067.],\n",
       "       [377128., 380411.],\n",
       "       [384921., 390892.],\n",
       "       [398722., 402036.],\n",
       "       [408858., 413187.],\n",
       "       [420226., 423145.],\n",
       "       [447896., 453724.],\n",
       "       [458076., 461317.],\n",
       "       [474023., 479216.],\n",
       "       [484643., 487689.],\n",
       "       [490852., 499415.],\n",
       "       [504498., 507865.],\n",
       "       [513772., 518362.],\n",
       "       [521745., 525010.],\n",
       "       [528403., 535106.],\n",
       "       [540908., 543908.],\n",
       "       [549996., 553886.],\n",
       "       [568832., 571537.],\n",
       "       [577575., 582582.],\n",
       "       [586211., 591136.],\n",
       "       [616655., 616655.],\n",
       "       [624241., 627964.],\n",
       "       [653447., 660582.],\n",
       "       [665262., 667458.],\n",
       "       [676536., 679622.],\n",
       "       [684480., 686974.],\n",
       "       [692650., 695668.],\n",
       "       [699713., 701716.],\n",
       "       [705302., 707610.],\n",
       "       [712895., 715099.],\n",
       "       [753148., 758097.],\n",
       "       [760421., 762664.],\n",
       "       [768773., 771977.],\n",
       "       [774494., 776698.],\n",
       "       [783108., 786307.],\n",
       "       [788520., 790708.],\n",
       "       [796975., 799486.],\n",
       "       [801373., 804549.],\n",
       "       [808312., 810894.],\n",
       "       [815922., 817870.],\n",
       "       [820943., 825586.],\n",
       "       [829147., 832237.],\n",
       "       [837570., 840036.],\n",
       "       [843131., 845751.],\n",
       "       [856135., 858452.],\n",
       "       [860478., 863010.],\n",
       "       [903363., 909411.],\n",
       "       [910073., 913588.],\n",
       "       [917621., 921641.],\n",
       "       [925238., 926936.],\n",
       "       [930711., 933817.],\n",
       "       [939096., 940986.],\n",
       "       [945124., 947506.],\n",
       "       [948755., 953338.],\n",
       "       [957586., 960475.],\n",
       "       [960476., 963574.],\n",
       "       [968467., 970860.],\n",
       "       [972045., 974662.],\n",
       "       [978264., 980285.],\n",
       "       [987850., 990752.]])"
      ]
     },
     "execution_count": 33,
     "metadata": {},
     "output_type": "execute_result"
    }
   ],
   "source": [
    "len(lap_specific_subsessions) # 80\n",
    "sess.laps.lap_start_stop_flat_idx"
   ]
  },
  {
   "cell_type": "code",
   "execution_count": 12,
   "id": "7704856b-c6c8-4c9d-9622-7d2c43ad91c7",
   "metadata": {
    "scrolled": true,
    "tags": []
   },
   "outputs": [
    {
     "data": {
      "text/plain": [
       "array([array([  32.8037,   33.1626,   33.1946, ..., 3903.2451, 3996.1426,\n",
       "              4500.2168])                                                ,\n",
       "       array([  37.5993,  767.5956, 1632.1545, ..., 6727.8332, 6727.8555,\n",
       "              6727.934 ])                                                ,\n",
       "       array([2444.4685, 3014.7803, 3907.1512, ..., 6677.2467, 6725.8469,\n",
       "              6726.2247])                                                ,\n",
       "       array([  29.0388,   37.6272,   40.5232, ..., 6719.4075, 6722.0643,\n",
       "              6722.3732])                                                ,\n",
       "       array([  28.8534,   29.0705,   29.1722, ..., 6728.1872, 6728.5898,\n",
       "              6729.7497])                                                ,\n",
       "       array([  98.2777,   98.3084,  133.803 , ..., 6686.1221, 6718.9951,\n",
       "              6719.0194])                                                ,\n",
       "       array([ 120.5338,  120.566 ,  120.9416, ..., 6501.9797, 6620.1819,\n",
       "              6620.1984])                                                ,\n",
       "       array([ 133.5377,  136.0597,  136.1096, ..., 6729.6909, 6729.7366,\n",
       "              6729.7697])                                                ,\n",
       "       array([  34.8263,   35.1884,   35.1995, ..., 6684.2516, 6684.2634,\n",
       "              6684.2982])                                                ,\n",
       "       array([  33.2579,   45.7501,   45.8373, ..., 6638.1285, 6638.1902,\n",
       "              6713.6368])                                                ,\n",
       "       array([  28.7253,   28.8676,   29.2139, ..., 6729.775 , 6729.809 ,\n",
       "              6730.0105])                                                ,\n",
       "       array([ 145.3535,  227.6879,  339.2947, ..., 6625.612 , 6625.9026,\n",
       "              6626.2766])                                                ,\n",
       "       array([  34.8412,   35.9703,   48.3205, ..., 6684.2094, 6723.623 ,\n",
       "              6723.6557])                                                ,\n",
       "       array([  36.2484,   37.2007,   37.9817, ..., 6664.1394, 6684.1364,\n",
       "              6684.1618])                                                ,\n",
       "       array([  28.7156,   29.5376,   98.3145, ..., 6636.3149, 6636.3852,\n",
       "              6637.9568])                                                ,\n",
       "       array([  45.7312,   45.741 ,   45.8781, ..., 6720.5393, 6721.1166,\n",
       "              6721.4896])                                                ,\n",
       "       array([  28.731 ,   28.8765,   29.0938, ..., 6729.1764, 6729.227 ,\n",
       "              6729.8777])                                                ,\n",
       "       array([ 131.7954,  145.3754,  227.8611, ..., 6625.9656, 6626.3241,\n",
       "              6629.8816])                                                ,\n",
       "       array([  28.8198,   29.1703,   29.2277, ..., 6728.0354, 6729.641 ,\n",
       "              6729.9604])                                                ,\n",
       "       array([  46.4486,   86.1461,  125.9717, ..., 6673.7708, 6684.8048,\n",
       "              6715.6251])                                                ,\n",
       "       array([  35.2266,   68.1372,   71.8589, ..., 6723.9566, 6723.9724,\n",
       "              6724.5941])                                                ,\n",
       "       array([  63.1418,   63.3098,   78.8824, ..., 6723.7723, 6723.819 ,\n",
       "              6724.1985])                                                ,\n",
       "       array([  74.2948,  492.4883,  507.3395, ..., 6724.9832, 6725.3082,\n",
       "              6725.3558])                                                ,\n",
       "       array([ 118.1069,  118.2321,  118.4004, ..., 6725.6009, 6726.3308,\n",
       "              6726.6947])                                                ,\n",
       "       array([ 115.199 ,  115.5616,  115.5798, ..., 6722.108 , 6723.1649,\n",
       "              6724.6851])                                                ,\n",
       "       array([  39.6558,   41.326 ,   41.5334, ..., 6680.4555, 6712.5316,\n",
       "              6720.3566])                                                ,\n",
       "       array([  57.2226,   78.8746,   78.8891, ..., 6497.2644, 6497.5163,\n",
       "              6649.4484])                                                ,\n",
       "       array([  28.8753,   30.5584,   30.9124, ..., 6727.6847, 6729.0317,\n",
       "              6729.7617])                                                ,\n",
       "       array([  28.7317,   28.7471,   28.8682, ..., 6729.485 , 6729.7999,\n",
       "              6729.9428])                                                ,\n",
       "       array([  36.7349,   38.83  ,   39.2283, ..., 6725.4112, 6725.8871,\n",
       "              6726.6768])                                                ,\n",
       "       array([  37.168 ,   37.1793,   37.5291, ..., 6627.3586, 6632.6158,\n",
       "              6664.1463])                                                ,\n",
       "       array([  37.1938,   37.5852,   37.9306, ..., 6684.1822, 6720.1156,\n",
       "              6725.1588])                                                ,\n",
       "       array([ 145.713 ,  145.7773,  145.8102, ..., 6720.1498, 6720.4886,\n",
       "              6720.5343])                                                ,\n",
       "       array([ 125.1728,  164.8442,  183.7478, ..., 6630.4804, 6630.8976,\n",
       "              6631.1313])                                                ,\n",
       "       array([ 125.1488,  125.1678,  125.1802, ..., 6624.9103, 6625.9664,\n",
       "              6626.0077])                                                ,\n",
       "       array([ 125.5117,  125.5292,  126.2551, ..., 6612.648 , 6630.2255,\n",
       "              6723.7033])                                                ,\n",
       "       array([  29.1975,   30.3345,   51.01  , ..., 6726.6683, 6728.107 ,\n",
       "              6729.8993])                                                ,\n",
       "       array([  29.8258,   30.9012,   34.5963, ..., 6725.0972, 6725.1123,\n",
       "              6728.9783])                                                ,\n",
       "       array([  28.7451,   29.0688,   29.6774, ..., 6729.4465, 6729.5358,\n",
       "              6729.7067])                                                ,\n",
       "       array([  29.2095,   29.5619,   57.385 , ..., 6728.1835, 6728.2107,\n",
       "              6728.2863])                                                ,\n",
       "       array([  28.725 ,   29.571 ,   29.6077, ..., 6729.6157, 6729.9232,\n",
       "              6729.9959])                                                ,\n",
       "       array([  28.6793,   29.2841,   29.4129, ..., 6727.7464, 6729.6872,\n",
       "              6729.7509])                                                ,\n",
       "       array([  28.9311,   31.1674,   31.5194, ..., 6729.6203, 6729.8893,\n",
       "              6729.986 ])                                                ,\n",
       "       array([  33.8689,   34.2904,   39.5817, ..., 6720.572 , 6726.8474,\n",
       "              6729.6729])                                                ,\n",
       "       array([  35.5722,   46.9981,   47.1131, ..., 6724.3225, 6729.5217,\n",
       "              6729.5675])                                                ,\n",
       "       array([  28.7296,   28.8818,   29.0863, ..., 6729.8479, 6729.9021,\n",
       "              6729.9355])                                                ,\n",
       "       array([  68.4013,   73.5354,   98.2668, ..., 6729.7887, 6729.8771,\n",
       "              6730.0269])                                                ,\n",
       "       array([  36.8209,   37.2149,   37.2414, ..., 6705.447 , 6715.7476,\n",
       "              6715.7818])                                                ,\n",
       "       array([  32.4744,   36.4119,   37.167 , ..., 6715.7355, 6715.7695,\n",
       "              6723.6159])                                                ,\n",
       "       array([  78.9032,  109.7883,  110.1461, ..., 6721.9267, 6722.5756,\n",
       "              6722.5936])                                                ,\n",
       "       array([  32.8102,  126.0168,  132.6576, ..., 6728.1766, 6728.1987,\n",
       "              6728.8124])                                                ,\n",
       "       array([  29.7012,   30.4917,   30.507 , ..., 6725.8871, 6727.286 ,\n",
       "              6729.8958])                                                ,\n",
       "       array([  50.2207,   50.2437,   50.9334, ..., 6684.3144, 6686.1425,\n",
       "              6724.4344])                                                ,\n",
       "       array([  34.8023,   35.4906,   35.6407, ..., 6724.7146, 6725.077 ,\n",
       "              6729.6699])                                                ,\n",
       "       array([  89.7409,  117.0692,  121.9327, ..., 6729.2814, 6729.3979,\n",
       "              6729.8795])                                                ,\n",
       "       array([  29.7568,   29.8812,   30.2997, ..., 6727.9322, 6728.0048,\n",
       "              6728.7812])                                                ,\n",
       "       array([  29.0733,  101.9841,  102.7431, ..., 6727.2483, 6727.4701,\n",
       "              6727.5782])                                                ,\n",
       "       array([  86.6236,   86.7314,  124.0196, ..., 6728.0655, 6728.2652,\n",
       "              6728.5007])                                                ,\n",
       "       array([ 163.0754,  165.1791,  175.7983, ..., 6630.6262, 6630.8797,\n",
       "              6631.1717])                                                ,\n",
       "       array([  30.5618,   30.8884,   31.6318, ..., 6724.8384, 6728.1232,\n",
       "              6728.3659])                                                ,\n",
       "       array([  28.7438,   29.0078,   29.0435, ..., 6725.8069, 6725.9157,\n",
       "              6727.    ])                                                ,\n",
       "       array([  42.3013,   47.5445,   49.4879, ..., 6715.6971, 6719.3436,\n",
       "              6719.7588])                                                ,\n",
       "       array([  32.1872,   34.0851,   34.7584, ..., 6684.3235, 6684.3367,\n",
       "              6684.3612])                                                ,\n",
       "       array([  28.8338,   28.8934,   28.9891, ..., 6729.3818, 6729.5121,\n",
       "              6729.6354])                                                ,\n",
       "       array([  52.0721,   57.2297,  102.0177, ..., 6729.5923, 6729.6314,\n",
       "              6729.9886])                                                ,\n",
       "       array([  57.1843,  101.4794,  102.1527, ..., 6729.6237, 6729.6886,\n",
       "              6729.8861])                                                ,\n",
       "       array([  50.9377,   50.9532,   50.9714, ..., 6686.1867, 6697.1412,\n",
       "              6699.5823])                                                ,\n",
       "       array([  36.0457,  115.5602,  115.5733, ..., 6726.7184, 6727.0673,\n",
       "              6727.0818])                                                ,\n",
       "       array([  45.7307,   71.609 ,   71.6361, ..., 6656.013 , 6660.03  ,\n",
       "              6665.6451])                                                ,\n",
       "       array([  45.9704,   48.3401,   50.1995, ..., 6666.9124, 6672.7291,\n",
       "              6680.5031])                                                ,\n",
       "       array([  35.5472,   36.4221,   37.5542, ..., 6718.7763, 6720.2023,\n",
       "              6720.2523])                                                ,\n",
       "       array([  31.7433,   32.8148,   32.8412, ..., 6626.9695, 6626.99  ,\n",
       "              6687.3084])                                                ,\n",
       "       array([  33.2789,   33.6489,   34.411 , ..., 6653.5213, 6673.9787,\n",
       "              6704.8642])                                                ,\n",
       "       array([  30.9557,   31.6913,   32.0901, ..., 6726.3008, 6726.3144,\n",
       "              6726.3366])                                                ,\n",
       "       array([  30.8734,   34.8188,   34.8725, ..., 6718.3174, 6722.3168,\n",
       "              6724.7569])                                                ,\n",
       "       array([  28.7393,   28.7595,   28.796 , ..., 6729.6441, 6729.6843,\n",
       "              6730.0226])                                                ,\n",
       "       array([  29.3971,   29.4115,   29.5943, ..., 6723.9916, 6725.2787,\n",
       "              6726.3406])                                                ,\n",
       "       array([  32.83  ,   88.688 ,   90.6873, ..., 6726.9764, 6727.2534,\n",
       "              6727.8072])                                                ,\n",
       "       array([  28.7568,   28.8848,   29.0828, ..., 6729.9352, 6729.9704,\n",
       "              6729.9854])                                                ,\n",
       "       array([  30.7545,   53.8271,   61.097 , ..., 6685.499 , 6710.3211,\n",
       "              6718.9812])                                                ,\n",
       "       array([  37.6301,   37.6477,  120.2104, ..., 6679.7176, 6723.9774,\n",
       "              6724.8044])                                                ,\n",
       "       array([  35.253 ,   35.2772,   35.6298, ..., 6724.1289, 6724.2651,\n",
       "              6724.5628])                                                ,\n",
       "       array([  50.2161,   50.6478,   50.6615, ..., 6674.399 , 6674.4206,\n",
       "              6684.821 ])                                                ,\n",
       "       array([ 115.467 ,  120.7261,  432.3942, ..., 6640.4814, 6684.2918,\n",
       "              6684.3343])                                                ,\n",
       "       array([  29.2645,   29.2846,   29.6485, ..., 6726.1963, 6726.5083,\n",
       "              6726.7566])                                                ,\n",
       "       array([  52.0702,   52.4406,   52.7041, ..., 6187.2195, 6358.3691,\n",
       "              6440.4055])                                                ,\n",
       "       array([  32.7985,   32.8406,   33.2188, ..., 6728.7888, 6728.8338,\n",
       "              6728.8498])                                                ,\n",
       "       array([  29.0903,   40.1331,   40.1503, ..., 6726.6716, 6727.7048,\n",
       "              6728.8845])                                                ,\n",
       "       array([  35.2272,   35.8864,   35.8993, ..., 6726.0685, 6726.412 ,\n",
       "              6726.4378])                                                ,\n",
       "       array([  30.4839,   32.212 ,   35.9197, ..., 6720.8532, 6723.1131,\n",
       "              6724.787 ])                                                ,\n",
       "       array([  31.5455,   32.3142,   33.4252, ..., 6723.04  , 6723.6675,\n",
       "              6723.7358])                                                ,\n",
       "       array([  33.3127,   38.9863,   41.3354, ..., 6664.0621, 6664.1042,\n",
       "              6680.4975])                                                ,\n",
       "       array([  28.7503,   29.0151,   29.2572, ..., 6729.5795, 6729.6727,\n",
       "              6729.7902])                                                ,\n",
       "       array([  28.6749,   28.7138,   29.1436, ..., 6720.7762, 6721.4114,\n",
       "              6723.8986])                                                ,\n",
       "       array([ 110.4512,  110.4807,  116.5706, ..., 6723.8934, 6723.9063,\n",
       "              6724.597 ])                                                ,\n",
       "       array([  54.37  ,   54.4221,   54.8529, ..., 5252.4223, 5417.3364,\n",
       "              5991.5061])                                                ,\n",
       "       array([  29.4282,   52.1074,   58.4033, ..., 6717.2442, 6717.6501,\n",
       "              6728.0822])                                                ,\n",
       "       array([  29.0095,   29.6226,   31.3824, ..., 6721.9772, 6727.0261,\n",
       "              6727.1074])                                                ,\n",
       "       array([  29.6554,   29.9885,   30.0212, ..., 6727.0611, 6727.1508,\n",
       "              6727.1931])                                                ,\n",
       "       array([  28.999 ,   32.4645,   34.7998, ..., 6684.352 , 6684.3751,\n",
       "              6723.3805])                                                ,\n",
       "       array([  31.3249,   39.9067,   40.1764, ..., 6718.9829, 6721.6646,\n",
       "              6730.0373])                                                ,\n",
       "       array([  28.7876,   29.1818,   29.5387, ..., 6729.6062, 6729.9121,\n",
       "              6729.9458])                                                ,\n",
       "       array([  28.7545,   29.2234,   30.4788, ..., 6729.6311, 6729.7091,\n",
       "              6729.7613])                                                ,\n",
       "       array([  30.962 ,   32.4518,   32.8219,   32.8433,   33.1744,   33.1992,\n",
       "                33.2165,   33.5514,   33.5637,   33.6276,   33.9135,   33.9914,\n",
       "                34.3092,   94.4443,   94.4647,   94.4927,   95.2383,   95.2522,\n",
       "                95.9224,   95.9376,  150.3828,  150.4056,  150.4263,  402.0992,\n",
       "               425.9828,  448.2425,  449.7975,  740.7268,  741.652 ,  748.553 ,\n",
       "               989.24  , 1093.3854, 1366.2351, 1485.6392, 1907.5796, 2216.3258,\n",
       "              2352.7227, 2396.2951, 2396.3255, 2516.54  , 2550.9316, 2551.4881,\n",
       "              2551.5018, 2551.5189, 2977.1005, 3014.5216, 3014.5749, 3014.9404,\n",
       "              3178.1446, 3536.0085, 3966.9554,  150.3828,  150.4056,  150.4263,\n",
       "               402.0992,  425.9828,  448.2425,  449.7975,  740.7268,  741.652 ,\n",
       "               748.553 ,  989.24  , 1093.3854, 1366.2351, 1485.6392, 1907.5796,\n",
       "              2216.3258, 2352.7227, 2396.2951, 2396.3255, 2516.54  , 2550.9316,\n",
       "              2551.4881, 2551.5018, 2551.5189, 2977.1005, 3014.5216, 3014.5749,\n",
       "              3014.9404, 3178.1446, 3536.0085, 3966.9554,  448.2425,  449.7975,\n",
       "               740.7268,  741.652 ,  748.553 ,  989.24  , 1093.3854, 1366.2351,\n",
       "              1485.6392, 1907.5796, 2216.3258, 2352.7227, 2396.2951, 2396.3255,\n",
       "              2516.54  , 2550.9316, 2551.4881, 2551.5018, 2551.5189, 2977.1005,\n",
       "              3014.5216, 3014.5749, 3014.9404, 3178.1446, 3536.0085, 3966.9554,\n",
       "              4238.4819,  740.7268,  741.652 ,  748.553 ,  989.24  , 1093.3854,\n",
       "              1366.2351, 1485.6392, 1907.5796, 2216.3258, 2352.7227, 2396.2951,\n",
       "              2396.3255, 2516.54  , 2550.9316, 2551.4881, 2551.5018, 2551.5189,\n",
       "              2977.1005, 3014.5216, 3014.5749, 3014.9404, 3178.1446, 3536.0085,\n",
       "              3966.9554, 4238.4819,  740.7268,  741.652 ,  748.553 ,  989.24  ,\n",
       "              1093.3854, 1366.2351, 1485.6392, 1907.5796, 2216.3258, 2352.7227,\n",
       "              2396.2951, 2396.3255, 2516.54  , 2550.9316, 2551.4881, 2551.5018,\n",
       "              2551.5189, 2977.1005, 3014.5216, 3014.5749, 3014.9404, 3178.1446,\n",
       "              3536.0085, 3966.9554, 4238.4819,  989.24  , 1093.3854, 1366.2351,\n",
       "              1485.6392, 1907.5796, 2216.3258, 2352.7227, 2396.2951, 2396.3255,\n",
       "              2516.54  , 2550.9316, 2551.4881, 2551.5018, 2551.5189, 2977.1005,\n",
       "              3014.5216, 3014.5749, 3014.9404, 3178.1446, 3536.0085, 3966.9554,\n",
       "              4238.4819,  989.24  , 1093.3854, 1366.2351, 1485.6392, 1907.5796,\n",
       "              2216.3258, 2352.7227, 2396.2951, 2396.3255, 2516.54  , 2550.9316,\n",
       "              2551.4881, 2551.5018, 2551.5189, 2977.1005, 3014.5216, 3014.5749,\n",
       "              3014.9404, 3178.1446, 3536.0085, 3966.9554, 4238.4819, 1093.3854,\n",
       "              1366.2351, 1485.6392, 1907.5796, 2216.3258, 2352.7227, 2396.2951,\n",
       "              2396.3255, 2516.54  , 2550.9316, 2551.4881, 2551.5018, 2551.5189,\n",
       "              2977.1005, 3014.5216, 3014.5749, 3014.9404, 3178.1446, 3536.0085,\n",
       "              3966.9554, 4238.4819, 1907.5796, 2216.3258, 2352.7227, 2396.2951,\n",
       "              2396.3255, 2516.54  , 2550.9316, 2551.4881, 2551.5018, 2551.5189,\n",
       "              2977.1005, 3014.5216, 3014.5749, 3014.9404, 3178.1446, 3536.0085,\n",
       "              3966.9554, 4238.4819, 1907.5796, 2216.3258, 2352.7227, 2396.2951,\n",
       "              2396.3255, 2516.54  , 2550.9316, 2551.4881, 2551.5018, 2551.5189,\n",
       "              2977.1005, 3014.5216, 3014.5749, 3014.9404, 3178.1446, 3536.0085,\n",
       "              3966.9554, 4238.4819, 1907.5796, 2216.3258, 2352.7227, 2396.2951,\n",
       "              2396.3255, 2516.54  , 2550.9316, 2551.4881, 2551.5018, 2551.5189,\n",
       "              2977.1005, 3014.5216, 3014.5749, 3014.9404, 3178.1446, 3536.0085,\n",
       "              3966.9554, 4238.4819, 4968.5774, 5026.7223, 5026.7593, 1907.5796,\n",
       "              2216.3258, 2352.7227, 2396.2951, 2396.3255, 2516.54  , 2550.9316,\n",
       "              2551.4881, 2551.5018, 2551.5189, 2977.1005, 3014.5216, 3014.5749,\n",
       "              3014.9404, 3178.1446, 3536.0085, 3966.9554, 4238.4819, 4968.5774,\n",
       "              5026.7223, 5026.7593, 1907.5796, 2216.3258, 2352.7227, 2396.2951,\n",
       "              2396.3255, 2516.54  , 2550.9316, 2551.4881, 2551.5018, 2551.5189,\n",
       "              2977.1005, 3014.5216, 3014.5749, 3014.9404, 3178.1446, 3536.0085,\n",
       "              3966.9554, 4238.4819, 4968.5774, 5026.7223, 5026.7593, 2216.3258,\n",
       "              2352.7227, 2396.2951, 2396.3255, 2516.54  , 2550.9316, 2551.4881,\n",
       "              2551.5018, 2551.5189, 2977.1005, 3014.5216, 3014.5749, 3014.9404,\n",
       "              3178.1446, 3536.0085, 3966.9554, 4238.4819, 4968.5774, 5026.7223,\n",
       "              5026.7593, 2216.3258, 2352.7227, 2396.2951, 2396.3255, 2516.54  ,\n",
       "              2550.9316, 2551.4881, 2551.5018, 2551.5189, 2977.1005, 3014.5216,\n",
       "              3014.5749, 3014.9404, 3178.1446, 3536.0085, 3966.9554, 4238.4819,\n",
       "              4968.5774, 5026.7223, 5026.7593, 2216.3258, 2352.7227, 2396.2951,\n",
       "              2396.3255, 2516.54  , 2550.9316, 2551.4881, 2551.5018, 2551.5189,\n",
       "              2977.1005, 3014.5216, 3014.5749, 3014.9404, 3178.1446, 3536.0085,\n",
       "              3966.9554, 4238.4819, 4968.5774, 5026.7223, 5026.7593, 2216.3258,\n",
       "              2352.7227, 2396.2951, 2396.3255, 2516.54  , 2550.9316, 2551.4881,\n",
       "              2551.5018, 2551.5189, 2977.1005, 3014.5216, 3014.5749, 3014.9404,\n",
       "              3178.1446, 3536.0085, 3966.9554, 4238.4819, 4968.5774, 5026.7223,\n",
       "              5026.7593, 2352.7227, 2396.2951, 2396.3255, 2516.54  , 2550.9316,\n",
       "              2551.4881, 2551.5018, 2551.5189, 2977.1005, 3014.5216, 3014.5749,\n",
       "              3014.9404, 3178.1446, 3536.0085, 3966.9554, 4238.4819, 4968.5774,\n",
       "              5026.7223, 5026.7593, 2352.7227, 2396.2951, 2396.3255, 2516.54  ,\n",
       "              2550.9316, 2551.4881, 2551.5018, 2551.5189, 2977.1005, 3014.5216,\n",
       "              3014.5749, 3014.9404, 3178.1446, 3536.0085, 3966.9554, 4238.4819,\n",
       "              4968.5774, 5026.7223, 5026.7593, 2396.2951, 2396.3255, 2516.54  ,\n",
       "              2550.9316, 2551.4881, 2551.5018, 2551.5189, 2977.1005, 3014.5216,\n",
       "              3014.5749, 3014.9404, 3178.1446, 3536.0085, 3966.9554, 4238.4819,\n",
       "              4968.5774, 5026.7223, 5026.7593, 2516.54  , 2550.9316, 2551.4881,\n",
       "              2551.5018, 2551.5189, 2977.1005, 3014.5216, 3014.5749, 3014.9404,\n",
       "              3178.1446, 3536.0085, 3966.9554, 4238.4819, 4968.5774, 5026.7223,\n",
       "              5026.7593, 2516.54  , 2550.9316, 2551.4881, 2551.5018, 2551.5189,\n",
       "              2977.1005, 3014.5216, 3014.5749, 3014.9404, 3178.1446, 3536.0085,\n",
       "              3966.9554, 4238.4819, 4968.5774, 5026.7223, 5026.7593, 2550.9316,\n",
       "              2551.4881, 2551.5018, 2551.5189, 2977.1005, 3014.5216, 3014.5749,\n",
       "              3014.9404, 3178.1446, 3536.0085, 3966.9554, 4238.4819, 4968.5774,\n",
       "              5026.7223, 5026.7593, 2977.1005, 3014.5216, 3014.5749, 3014.9404,\n",
       "              3178.1446, 3536.0085, 3966.9554, 4238.4819, 4968.5774, 5026.7223,\n",
       "              5026.7593, 2977.1005, 3014.5216, 3014.5749, 3014.9404, 3178.1446,\n",
       "              3536.0085, 3966.9554, 4238.4819, 4968.5774, 5026.7223, 5026.7593,\n",
       "              5638.5682, 2977.1005, 3014.5216, 3014.5749, 3014.9404, 3178.1446,\n",
       "              3536.0085, 3966.9554, 4238.4819, 4968.5774, 5026.7223, 5026.7593,\n",
       "              5638.5682, 3014.5216, 3014.5749, 3014.9404, 3178.1446, 3536.0085,\n",
       "              3966.9554, 4238.4819, 4968.5774, 5026.7223, 5026.7593, 5638.5682,\n",
       "              5977.5074, 6016.2869, 3178.1446, 3536.0085, 3966.9554, 4238.4819,\n",
       "              4968.5774, 5026.7223, 5026.7593, 5638.5682, 5977.5074, 6016.2869,\n",
       "              3178.1446, 3536.0085, 3966.9554, 4238.4819, 4968.5774, 5026.7223,\n",
       "              5026.7593, 5638.5682, 5977.5074, 6016.2869, 3536.0085, 3966.9554,\n",
       "              4238.4819, 4968.5774, 5026.7223, 5026.7593, 5638.5682, 5977.5074,\n",
       "              6016.2869, 3536.0085, 3966.9554, 4238.4819, 4968.5774, 5026.7223,\n",
       "              5026.7593, 5638.5682, 5977.5074, 6016.2869, 3536.0085, 3966.9554,\n",
       "              4238.4819, 4968.5774, 5026.7223, 5026.7593, 5638.5682, 5977.5074,\n",
       "              6016.2869, 3536.0085, 3966.9554, 4238.4819, 4968.5774, 5026.7223,\n",
       "              5026.7593, 5638.5682, 5977.5074, 6016.2869, 3536.0085, 3966.9554,\n",
       "              4238.4819, 4968.5774, 5026.7223, 5026.7593, 5638.5682, 5977.5074,\n",
       "              6016.2869, 3536.0085, 3966.9554, 4238.4819, 4968.5774, 5026.7223,\n",
       "              5026.7593, 5638.5682, 5977.5074, 6016.2869, 3966.9554, 4238.4819,\n",
       "              4968.5774, 5026.7223, 5026.7593, 5638.5682, 5977.5074, 6016.2869,\n",
       "              3966.9554, 4238.4819, 4968.5774, 5026.7223, 5026.7593, 5638.5682,\n",
       "              5977.5074, 6016.2869, 6544.6988, 3966.9554, 4238.4819, 4968.5774,\n",
       "              5026.7223, 5026.7593, 5638.5682, 5977.5074, 6016.2869, 6544.6988,\n",
       "              3966.9554, 4238.4819, 4968.5774, 5026.7223, 5026.7593, 5638.5682,\n",
       "              5977.5074, 6016.2869, 6544.6988, 6620.6389, 3966.9554, 4238.4819,\n",
       "              4968.5774, 5026.7223, 5026.7593, 5638.5682, 5977.5074, 6016.2869,\n",
       "              6544.6988, 6620.6389])                                           ,\n",
       "       array([  29.194 ,   29.2626,   29.582 , ..., 6729.0541, 6729.2454,\n",
       "              6729.4831])                                                ,\n",
       "       array([  36.4893,   37.5257,   39.0572, ..., 6679.832 , 6684.2155,\n",
       "              6729.6758])                                                ,\n",
       "       array([  32.4949,   34.82  ,   37.3826, ..., 6729.6218, 6729.6368,\n",
       "              6729.6585])                                                ,\n",
       "       array([  28.8228,   38.4883,   38.5192, ..., 6579.2799, 6580.3115,\n",
       "              6683.2455])                                                ],\n",
       "      dtype=object)"
      ]
     },
     "execution_count": 12,
     "metadata": {},
     "output_type": "execute_result"
    }
   ],
   "source": [
    "spiketrains_list = list()\n",
    "num_neurons = lap_specific_subsessions[0].neurons.n_neurons\n",
    "objList = [aSession.neurons for aSession in lap_specific_subsessions]\n",
    "\n",
    "nSpikesList = [aSession.neurons.n_spikes for aSession in lap_specific_subsessions]\n",
    "# np.shape(objList[0].spiketrains) # (108,)\n",
    "# neuron_idx = 0\n",
    "# test = [obj.spiketrains[neuron_idx] for obj in objList]\n",
    "# np.shape(test[0]) # (219,) not correct\n",
    "\n",
    "spiketrains_list = objList[0].spiketrains\n",
    "for neuron_idx in np.arange(num_neurons):\n",
    "    for obj_idx in np.arange(1, len(objList)):\n",
    "        # spiketrains_list[neuron_idx].append(objList[obj_idx].spiketrains[neuron_idx])\n",
    "        spiketrains_list[neuron_idx] = np.append(spiketrains_list[neuron_idx], objList[obj_idx].spiketrains[neuron_idx])\n",
    "spiketrains_list"
   ]
  },
  {
   "cell_type": "code",
   "execution_count": 54,
   "id": "d66beff8-6d30-47bf-bb82-04ab72b7a1c4",
   "metadata": {
    "scrolled": true,
    "tags": []
   },
   "outputs": [],
   "source": [
    "# for neuron_idx in np.arange(num_neurons):\n",
    "#     curr_neuron_spiketrains_list = np.concatenate([obj.spiketrains[neuron_idx] for obj in objList], axis=0)\n",
    "#     spiketrains_list.append(curr_neuron_spiketrains_list)\n",
    "    \n",
    "# # curr_neuron_spiketrains_list\n",
    "# spiketrains_list"
   ]
  },
  {
   "cell_type": "markdown",
   "id": "fd7aeaa7-ec07-4f3d-b665-2874cd4a589f",
   "metadata": {
    "tags": []
   },
   "source": [
    "# Filter Session by Epoch:"
   ]
  },
  {
   "cell_type": "code",
   "execution_count": 51,
   "id": "5451ee3a-f6c5-46af-943e-d1ef32563fa6",
   "metadata": {},
   "outputs": [
    {
     "name": "stdout",
     "output_type": "stream",
     "text": [
      "Constraining to units with type: pyramidal\n",
      "Constraining to epoch with times (start: 0.0, end: 2093.8978568242164)\n",
      "34301/1014937 total spikes spanning 70/108 units remain in subsession\n",
      "Constraining to units with type: pyramidal\n",
      "Constraining to epoch with times (start: 0.0, end: 2093.8978568242164)\n",
      "10626/541639 total spikes spanning 70/108 units remain in subsession\n"
     ]
    }
   ],
   "source": [
    "# active_epoch = sess.epochs.get_named_timerange('maze1')\n",
    "# active_epoch = sess.epochs.get_named_timerange('maze2')\n",
    "active_epoch = NamedTimerange(name='maze', start_end_times=[sess.epochs['maze1'][0], sess.epochs['maze2'][1]])\n",
    "\n",
    "active_subplots_shape = (1,1) # Single subplot\n",
    "# active_subplots_shape = '1|2' # 1 subplot on left, two on right                                                   \n",
    "active_config = build_configs(active_sess_config, active_epoch, active_subplots_shape = active_subplots_shape)                                  \n",
    "active_config.computation_config = PlacefieldComputationParameters(speed_thresh=9, grid_bin=2, smooth=0.5)\n",
    "\n",
    "## All Spikes:\n",
    "active_epoch_session = sess.filtered_by_neuron_type('pyramidal').filtered_by_epoch(active_epoch)\n",
    "print_subsession_neuron_differences(sess.neurons, active_epoch_session.neurons)\n",
    "## Lap_specific Spikes Only:\n",
    "active_lap_specific_epoch_session = lap_specific_session.filtered_by_neuron_type('pyramidal').filtered_by_epoch(active_epoch)\n",
    "print_subsession_neuron_differences(lap_specific_session.neurons, active_lap_specific_epoch_session.neurons)"
   ]
  },
  {
   "cell_type": "code",
   "execution_count": 52,
   "id": "2302da1f-6988-4d2a-ab74-a758bc61dac3",
   "metadata": {},
   "outputs": [
    {
     "name": "stdout",
     "output_type": "stream",
     "text": [
      "[  235   902   521  3465 60228  2845   586  3962  1493  1334 48712   280\n",
      "  1843   426  1575  1875 45467   653 33885   396  1459   527   738   933\n",
      "   248   911   728 16975 79907  1429  4175  1035  1509  3416  1519  2585\n",
      "  2224  3315 38546  1840 26964 17665 18591  2292  1903 92936  7552  1990\n",
      "  1783  1069  2004  1806  1055  2006  1668  2423   939  2841  2642  3351\n",
      "  5160  2659  1499 65675  3247  1511  1357  1679  1137  1440  2901   447\n",
      "  1252  4626  1185 72724  3365  1154 74260  1238   813  2871  1977  1408\n",
      "  3434   396  2839  1817  2562  5025  1517  1355 38643  3113   847   810\n",
      "  4654  1466  1604  3435  1870 32017 32190    63 42001  2784  6489   239]\n",
      "[  192   987   426  1575 25936  1890   271   322  1784   663 26457    26\n",
      "  1062   618   215  1203 30953    14 12115   242   878   462  1282  1131\n",
      "   335   150    22  8783 42988  1333   570   910   982   332    62   108\n",
      "   636  1696 15806  1003 13852  8638 10386  1160   956 48286  2651  1785\n",
      "  1750   403   940   851   414  1653  1009   737  1034  1044   206  1533\n",
      "  2203   663  1475 35600   744   365   482  2436   369  1401  2492   132\n",
      "   745  4923  1106 49308  3373   609 29250   477   983  4294   795  2224\n",
      "  3079    42  1781   487  3708  2791  1737  1560 21498  1504  1102   452\n",
      "   562   906  1130  3580   701 14620 19864    29 23379  1646  3085   239]\n"
     ]
    }
   ],
   "source": [
    "print(sess.neurons.n_spikes)\n",
    "print(lap_specific_session.neurons.n_spikes)"
   ]
  },
  {
   "cell_type": "markdown",
   "id": "212608eb-26af-425d-92c0-a3309bf4727d",
   "metadata": {
    "tags": []
   },
   "source": [
    "## Compute Placefields if needed:"
   ]
  },
  {
   "cell_type": "code",
   "execution_count": 53,
   "id": "7e3ca3f8-c2f4-4d8f-94e9-b2f5de765092",
   "metadata": {},
   "outputs": [
    {
     "ename": "AttributeError",
     "evalue": "'PlottingConfig' object has no attribute 'active_cells_colormap'",
     "output_type": "error",
     "traceback": [
      "\u001b[1;31m---------------------------------------------------------------------------\u001b[0m",
      "\u001b[1;31mAttributeError\u001b[0m                            Traceback (most recent call last)",
      "\u001b[1;32m~\\AppData\\Local\\Temp/ipykernel_17136/3870316973.py\u001b[0m in \u001b[0;36m<module>\u001b[1;34m\u001b[0m\n\u001b[0;32m      2\u001b[0m \u001b[0mshould_show_2D_ICA_plots\u001b[0m \u001b[1;33m=\u001b[0m \u001b[1;32mFalse\u001b[0m\u001b[1;33m\u001b[0m\u001b[1;33m\u001b[0m\u001b[0m\n\u001b[0;32m      3\u001b[0m \u001b[1;32mfrom\u001b[0m \u001b[0mPhoPositionalData\u001b[0m\u001b[1;33m.\u001b[0m\u001b[0manalysis\u001b[0m\u001b[1;33m.\u001b[0m\u001b[0mneuronal_dimensionality_reduction\u001b[0m \u001b[1;32mimport\u001b[0m \u001b[0mrunAnalysis_PCAandICA\u001b[0m\u001b[1;33m\u001b[0m\u001b[1;33m\u001b[0m\u001b[0m\n\u001b[1;32m----> 4\u001b[1;33m \u001b[0mactive_session_ensembles\u001b[0m\u001b[1;33m,\u001b[0m \u001b[0mtemplate\u001b[0m\u001b[1;33m,\u001b[0m \u001b[0mzsc_template\u001b[0m\u001b[1;33m,\u001b[0m \u001b[0mpca_data\u001b[0m \u001b[1;33m=\u001b[0m \u001b[0mrunAnalysis_PCAandICA\u001b[0m\u001b[1;33m(\u001b[0m\u001b[0mactive_epoch_session\u001b[0m\u001b[1;33m.\u001b[0m\u001b[0mneurons\u001b[0m\u001b[1;33m,\u001b[0m \u001b[0mbin_size\u001b[0m\u001b[1;33m=\u001b[0m\u001b[1;36m0.250\u001b[0m\u001b[1;33m,\u001b[0m \u001b[0mfrate_thresh\u001b[0m\u001b[1;33m=\u001b[0m\u001b[1;36m0.1\u001b[0m\u001b[1;33m,\u001b[0m \u001b[0mshould_plot\u001b[0m\u001b[1;33m=\u001b[0m\u001b[0mshould_show_2D_ICA_plots\u001b[0m\u001b[1;33m,\u001b[0m \u001b[0mactive_cells_colormap\u001b[0m\u001b[1;33m=\u001b[0m\u001b[0mactive_config\u001b[0m\u001b[1;33m.\u001b[0m\u001b[0mplotting_config\u001b[0m\u001b[1;33m.\u001b[0m\u001b[0mactive_cells_colormap\u001b[0m\u001b[1;33m)\u001b[0m\u001b[1;33m\u001b[0m\u001b[1;33m\u001b[0m\u001b[0m\n\u001b[0m",
      "\u001b[1;31mAttributeError\u001b[0m: 'PlottingConfig' object has no attribute 'active_cells_colormap'"
     ]
    }
   ],
   "source": [
    "## ICA and PCA Analysis\n",
    "should_show_2D_ICA_plots = False\n",
    "from PhoPositionalData.analysis.neuronal_dimensionality_reduction import runAnalysis_PCAandICA\n",
    "active_session_ensembles, template, zsc_template, pca_data = runAnalysis_PCAandICA(active_epoch_session.neurons, bin_size=0.250, frate_thresh=0.1, should_plot=should_show_2D_ICA_plots, active_cells_colormap=active_config.plotting_config.active_cells_colormap)"
   ]
  },
  {
   "cell_type": "code",
   "execution_count": 54,
   "id": "f48a9b28-84be-44bd-b6d0-445c8369ad82",
   "metadata": {
    "scrolled": true,
    "tags": []
   },
   "outputs": [
    {
     "name": "stdout",
     "output_type": "stream",
     "text": [
      "Recomputing active_epoch_placefields...\n",
      "\t done.\n",
      "Recomputing active_epoch_placefields2D...\n",
      "\t done.\n",
      "Saving 1D Placefield image out to \"output\\2006-6-08_14-26-15\\maze\\1D Placefields - maze.pdf\"...\n",
      "done.\n"
     ]
    },
    {
     "data": {
      "image/png": "[encoded data removed]",
      "text/plain": [
       "<Figure size 324x792 with 1 Axes>"
      ]
     },
     "metadata": {
      "needs_background": "light"
     },
     "output_type": "display_data"
    },
    {
     "data": {
      "image/png": "[encoded data removed]",
      "text/plain": [
       "<Figure size 432x288 with 1 Axes>"
      ]
     },
     "metadata": {
      "needs_background": "light"
     },
     "output_type": "display_data"
    },
    {
     "name": "stdout",
     "output_type": "stream",
     "text": [
      "Saving 2D Placefield image out to \"output\\2006-6-08_14-26-15\\maze\\2D Occupancy - maze.pdf\"...\n",
      "\t done.\n",
      "Saving 2D Placefield image out to \"output\\2006-6-08_14-26-15\\maze\\2D Placefields - maze.pdf\"...\n",
      "\t done.\n",
      "good_placefield_neuronIDs: [  2   5   8  10  11  13  14  16  19  21  23  24  25  26  27  28  31  32\n",
      "  33  34  36  37  41  49  50  51  52  53  54  55  56  57  58  59  60  61\n",
      "  62  63  64  66  67  68  69  70  73  74  75  76  78  81  82  83  85  86\n",
      "  87  88  89  90  92  93  96  98 100 102 105 108 109]; (67 good)\n"
     ]
    },
    {
     "data": {
      "image/png": "[encoded data removed]",
      "text/plain": [
       "<Figure size 720x720 with 49 Axes>"
      ]
     },
     "metadata": {
      "needs_background": "light"
     },
     "output_type": "display_data"
    },
    {
     "data": {
      "image/png": "[encoded data removed]",
      "text/plain": [
       "<Figure size 720x720 with 18 Axes>"
      ]
     },
     "metadata": {
      "needs_background": "light"
     },
     "output_type": "display_data"
    }
   ],
   "source": [
    "try: active_epoch_placefields1D\n",
    "except NameError: active_epoch_placefields1D = None # Checks variable active_epoch_placefields's existance, and sets its value to None if it doesn't exist so it can be checked in the next step\n",
    "try: active_epoch_placefields2D\n",
    "except NameError: active_epoch_placefields2D = None # Checks variable active_epoch_placefields's existance, and sets its value to None if it doesn't exist so it can be checked in the next step\n",
    "\n",
    "active_epoch_placefields1D, active_epoch_placefields2D = compute_placefields_as_needed(active_epoch_session, active_config.computation_config, active_epoch_placefields1D, active_epoch_placefields2D, should_force_recompute_placefields=should_force_recompute_placefields, should_display_2D_plots=should_display_2D_plots)\n",
    "# Focus on the 2D placefields:\n",
    "active_epoch_placefields = active_epoch_placefields2D\n",
    "# Get the updated session using the units that have good placefields\n",
    "active_epoch_session, active_config, good_placefield_neuronIDs = process_by_good_placefields(active_epoch_session, active_config, active_epoch_placefields)"
   ]
  },
  {
   "cell_type": "markdown",
   "id": "6742e705-6578-4b58-bdba-20cb5c4e870a",
   "metadata": {
    "tags": []
   },
   "source": [
    "## Compute the placefields for lap-only filtered Session:"
   ]
  },
  {
   "cell_type": "code",
   "execution_count": 57,
   "id": "76c6d208-5a08-440d-b0b9-7e9ba5475ad3",
   "metadata": {
    "scrolled": true,
    "tags": []
   },
   "outputs": [
    {
     "name": "stdout",
     "output_type": "stream",
     "text": [
      "Recomputing active_epoch_placefields...\n"
     ]
    },
    {
     "ename": "TypeError",
     "evalue": "Cannot cast array data from dtype('O') to dtype('float64') according to the rule 'safe'",
     "output_type": "error",
     "traceback": [
      "\u001b[1;31m---------------------------------------------------------------------------\u001b[0m",
      "\u001b[1;31mTypeError\u001b[0m                                 Traceback (most recent call last)",
      "\u001b[1;32m~\\AppData\\Local\\Temp/ipykernel_17136/1281983115.py\u001b[0m in \u001b[0;36m<module>\u001b[1;34m\u001b[0m\n\u001b[0;32m      5\u001b[0m \u001b[1;33m\u001b[0m\u001b[0m\n\u001b[0;32m      6\u001b[0m \u001b[0mlap_specific_config\u001b[0m \u001b[1;33m=\u001b[0m \u001b[0mactive_config\u001b[0m\u001b[1;33m\u001b[0m\u001b[1;33m\u001b[0m\u001b[0m\n\u001b[1;32m----> 7\u001b[1;33m \u001b[0mactive_lap_only_placefields1D\u001b[0m\u001b[1;33m,\u001b[0m \u001b[0mactive_lap_only_placefields2D\u001b[0m \u001b[1;33m=\u001b[0m \u001b[0mcompute_placefields_as_needed\u001b[0m\u001b[1;33m(\u001b[0m\u001b[0mlap_specific_session\u001b[0m\u001b[1;33m,\u001b[0m \u001b[0mlap_specific_config\u001b[0m\u001b[1;33m.\u001b[0m\u001b[0mcomputation_config\u001b[0m\u001b[1;33m,\u001b[0m \u001b[0mactive_lap_only_placefields1D\u001b[0m\u001b[1;33m,\u001b[0m \u001b[0mactive_lap_only_placefields2D\u001b[0m\u001b[1;33m,\u001b[0m \u001b[0mshould_force_recompute_placefields\u001b[0m\u001b[1;33m=\u001b[0m\u001b[0mshould_force_recompute_placefields\u001b[0m\u001b[1;33m,\u001b[0m \u001b[0mshould_display_2D_plots\u001b[0m\u001b[1;33m=\u001b[0m\u001b[0mshould_display_2D_plots\u001b[0m\u001b[1;33m)\u001b[0m\u001b[1;33m\u001b[0m\u001b[1;33m\u001b[0m\u001b[0m\n\u001b[0m\u001b[0;32m      8\u001b[0m \u001b[1;31m# Focus on the 2D placefields:\u001b[0m\u001b[1;33m\u001b[0m\u001b[1;33m\u001b[0m\u001b[0m\n\u001b[0;32m      9\u001b[0m \u001b[0mactive_lap_only_placefields\u001b[0m \u001b[1;33m=\u001b[0m \u001b[0mactive_lap_only_placefields2D\u001b[0m\u001b[1;33m\u001b[0m\u001b[1;33m\u001b[0m\u001b[0m\n",
      "\u001b[1;32m~\\AppData\\Local\\Temp/ipykernel_17136/3306555902.py\u001b[0m in \u001b[0;36mcompute_placefields_as_needed\u001b[1;34m(active_session, computation_config, active_epoch_placefields1D, active_epoch_placefields2D, should_force_recompute_placefields, should_display_2D_plots)\u001b[0m\n\u001b[0;32m      8\u001b[0m     \u001b[1;32mif\u001b[0m \u001b[0mcomputation_config\u001b[0m \u001b[1;32mis\u001b[0m \u001b[1;32mNone\u001b[0m\u001b[1;33m:\u001b[0m\u001b[1;33m\u001b[0m\u001b[1;33m\u001b[0m\u001b[0m\n\u001b[0;32m      9\u001b[0m         \u001b[0mcomputation_config\u001b[0m \u001b[1;33m=\u001b[0m \u001b[0mPlacefieldComputationParameters\u001b[0m\u001b[1;33m(\u001b[0m\u001b[0mspeed_thresh\u001b[0m\u001b[1;33m=\u001b[0m\u001b[1;36m9\u001b[0m\u001b[1;33m,\u001b[0m \u001b[0mgrid_bin\u001b[0m\u001b[1;33m=\u001b[0m\u001b[1;36m2\u001b[0m\u001b[1;33m,\u001b[0m \u001b[0msmooth\u001b[0m\u001b[1;33m=\u001b[0m\u001b[1;36m0.5\u001b[0m\u001b[1;33m)\u001b[0m\u001b[1;33m\u001b[0m\u001b[1;33m\u001b[0m\u001b[0m\n\u001b[1;32m---> 10\u001b[1;33m     \u001b[0mactive_epoch_placefields1D\u001b[0m\u001b[1;33m,\u001b[0m \u001b[0mactive_epoch_placefields2D\u001b[0m \u001b[1;33m=\u001b[0m \u001b[0mperform_compute_placefields\u001b[0m\u001b[1;33m(\u001b[0m\u001b[0mactive_session\u001b[0m\u001b[1;33m.\u001b[0m\u001b[0mneurons\u001b[0m\u001b[1;33m,\u001b[0m \u001b[0mactive_session\u001b[0m\u001b[1;33m.\u001b[0m\u001b[0mposition\u001b[0m\u001b[1;33m,\u001b[0m \u001b[0mcomputation_config\u001b[0m\u001b[1;33m,\u001b[0m \u001b[0mactive_epoch_placefields1D\u001b[0m\u001b[1;33m,\u001b[0m \u001b[0mactive_epoch_placefields2D\u001b[0m\u001b[1;33m,\u001b[0m \u001b[0mshould_force_recompute_placefields\u001b[0m\u001b[1;33m=\u001b[0m\u001b[1;32mTrue\u001b[0m\u001b[1;33m)\u001b[0m\u001b[1;33m\u001b[0m\u001b[1;33m\u001b[0m\u001b[0m\n\u001b[0m\u001b[0;32m     11\u001b[0m     \u001b[1;31m# Plot the placefields computed and save them out to files:\u001b[0m\u001b[1;33m\u001b[0m\u001b[1;33m\u001b[0m\u001b[0m\n\u001b[0;32m     12\u001b[0m     \u001b[1;32mif\u001b[0m \u001b[0mshould_display_2D_plots\u001b[0m\u001b[1;33m:\u001b[0m\u001b[1;33m\u001b[0m\u001b[1;33m\u001b[0m\u001b[0m\n",
      "\u001b[1;32m~\\repos\\NeuroPy\\neuropy\\analyses\\placefields.py\u001b[0m in \u001b[0;36mperform_compute_placefields\u001b[1;34m(active_epoch_session_Neurons, active_epoch_pos, computation_config, active_epoch_placefields1D, active_epoch_placefields2D, should_force_recompute_placefields)\u001b[0m\n\u001b[0;32m     25\u001b[0m     \u001b[1;32mif\u001b[0m \u001b[1;33m(\u001b[0m\u001b[1;33m(\u001b[0m\u001b[0mactive_epoch_placefields1D\u001b[0m \u001b[1;32mis\u001b[0m \u001b[1;32mNone\u001b[0m\u001b[1;33m)\u001b[0m \u001b[1;32mor\u001b[0m \u001b[0mshould_force_recompute_placefields\u001b[0m\u001b[1;33m)\u001b[0m\u001b[1;33m:\u001b[0m\u001b[1;33m\u001b[0m\u001b[1;33m\u001b[0m\u001b[0m\n\u001b[0;32m     26\u001b[0m         \u001b[0mprint\u001b[0m\u001b[1;33m(\u001b[0m\u001b[1;34m'Recomputing active_epoch_placefields...'\u001b[0m\u001b[1;33m)\u001b[0m\u001b[1;33m\u001b[0m\u001b[1;33m\u001b[0m\u001b[0m\n\u001b[1;32m---> 27\u001b[1;33m         active_epoch_placefields1D = Pf1D(neurons=active_epoch_session_Neurons, position=active_epoch_pos.linear_pos_obj,\n\u001b[0m\u001b[0;32m     28\u001b[0m                                           speed_thresh=computation_config.speed_thresh, grid_bin=computation_config.grid_bin, smooth=computation_config.smooth)\n\u001b[0;32m     29\u001b[0m         \u001b[0mprint\u001b[0m\u001b[1;33m(\u001b[0m\u001b[1;34m'\\t done.'\u001b[0m\u001b[1;33m)\u001b[0m\u001b[1;33m\u001b[0m\u001b[1;33m\u001b[0m\u001b[0m\n",
      "\u001b[1;32m~\\repos\\NeuroPy\\neuropy\\analyses\\placefields.py\u001b[0m in \u001b[0;36m__init__\u001b[1;34m(self, neurons, position, epochs, frate_thresh, speed_thresh, grid_bin, smooth)\u001b[0m\n\u001b[0;32m    200\u001b[0m \u001b[1;33m\u001b[0m\u001b[0m\n\u001b[0;32m    201\u001b[0m             \u001b[1;32mfor\u001b[0m \u001b[0mcell\u001b[0m \u001b[1;32min\u001b[0m \u001b[0mspks\u001b[0m\u001b[1;33m:\u001b[0m\u001b[1;33m\u001b[0m\u001b[1;33m\u001b[0m\u001b[0m\n\u001b[1;32m--> 202\u001b[1;33m                 \u001b[0mspk_spd\u001b[0m \u001b[1;33m=\u001b[0m \u001b[0mnp\u001b[0m\u001b[1;33m.\u001b[0m\u001b[0minterp\u001b[0m\u001b[1;33m(\u001b[0m\u001b[0mcell\u001b[0m\u001b[1;33m,\u001b[0m \u001b[0mt\u001b[0m\u001b[1;33m,\u001b[0m \u001b[0mspeed\u001b[0m\u001b[1;33m)\u001b[0m\u001b[1;33m\u001b[0m\u001b[1;33m\u001b[0m\u001b[0m\n\u001b[0m\u001b[0;32m    203\u001b[0m                 \u001b[0mspk_x\u001b[0m \u001b[1;33m=\u001b[0m \u001b[0mnp\u001b[0m\u001b[1;33m.\u001b[0m\u001b[0minterp\u001b[0m\u001b[1;33m(\u001b[0m\u001b[0mcell\u001b[0m\u001b[1;33m,\u001b[0m \u001b[0mt\u001b[0m\u001b[1;33m,\u001b[0m \u001b[0mx\u001b[0m\u001b[1;33m)\u001b[0m\u001b[1;33m\u001b[0m\u001b[1;33m\u001b[0m\u001b[0m\n\u001b[0;32m    204\u001b[0m \u001b[1;33m\u001b[0m\u001b[0m\n",
      "\u001b[1;32m<__array_function__ internals>\u001b[0m in \u001b[0;36minterp\u001b[1;34m(*args, **kwargs)\u001b[0m\n",
      "\u001b[1;32m~\\anaconda3\\envs\\phoviz_test\\lib\\site-packages\\numpy\\lib\\function_base.py\u001b[0m in \u001b[0;36minterp\u001b[1;34m(x, xp, fp, left, right, period)\u001b[0m\n\u001b[0;32m   1437\u001b[0m         \u001b[0mfp\u001b[0m \u001b[1;33m=\u001b[0m \u001b[0mnp\u001b[0m\u001b[1;33m.\u001b[0m\u001b[0mconcatenate\u001b[0m\u001b[1;33m(\u001b[0m\u001b[1;33m(\u001b[0m\u001b[0mfp\u001b[0m\u001b[1;33m[\u001b[0m\u001b[1;33m-\u001b[0m\u001b[1;36m1\u001b[0m\u001b[1;33m:\u001b[0m\u001b[1;33m]\u001b[0m\u001b[1;33m,\u001b[0m \u001b[0mfp\u001b[0m\u001b[1;33m,\u001b[0m \u001b[0mfp\u001b[0m\u001b[1;33m[\u001b[0m\u001b[1;36m0\u001b[0m\u001b[1;33m:\u001b[0m\u001b[1;36m1\u001b[0m\u001b[1;33m]\u001b[0m\u001b[1;33m)\u001b[0m\u001b[1;33m)\u001b[0m\u001b[1;33m\u001b[0m\u001b[1;33m\u001b[0m\u001b[0m\n\u001b[0;32m   1438\u001b[0m \u001b[1;33m\u001b[0m\u001b[0m\n\u001b[1;32m-> 1439\u001b[1;33m     \u001b[1;32mreturn\u001b[0m \u001b[0minterp_func\u001b[0m\u001b[1;33m(\u001b[0m\u001b[0mx\u001b[0m\u001b[1;33m,\u001b[0m \u001b[0mxp\u001b[0m\u001b[1;33m,\u001b[0m \u001b[0mfp\u001b[0m\u001b[1;33m,\u001b[0m \u001b[0mleft\u001b[0m\u001b[1;33m,\u001b[0m \u001b[0mright\u001b[0m\u001b[1;33m)\u001b[0m\u001b[1;33m\u001b[0m\u001b[1;33m\u001b[0m\u001b[0m\n\u001b[0m\u001b[0;32m   1440\u001b[0m \u001b[1;33m\u001b[0m\u001b[0m\n\u001b[0;32m   1441\u001b[0m \u001b[1;33m\u001b[0m\u001b[0m\n",
      "\u001b[1;31mTypeError\u001b[0m: Cannot cast array data from dtype('O') to dtype('float64') according to the rule 'safe'"
     ]
    }
   ],
   "source": [
    "try: active_lap_only_placefields1D\n",
    "except NameError: active_lap_only_placefields1D = None # Checks variable active_epoch_placefields's existance, and sets its value to None if it doesn't exist so it can be checked in the next step\n",
    "try: active_lap_only_placefields2D\n",
    "except NameError: active_lap_only_placefields2D = None # Checks variable active_epoch_placefields's existance, and sets its value to None if it doesn't exist so it can be checked in the next step\n",
    "\n",
    "lap_specific_config = active_config\n",
    "active_lap_only_placefields1D, active_lap_only_placefields2D = compute_placefields_as_needed(lap_specific_session, lap_specific_config.computation_config, active_lap_only_placefields1D, active_lap_only_placefields2D, should_force_recompute_placefields=should_force_recompute_placefields, should_display_2D_plots=should_display_2D_plots)\n",
    "# Focus on the 2D placefields:\n",
    "active_lap_only_placefields = active_lap_only_placefields2D\n",
    "# Get the updated session using the units that have good placefields\n",
    "lap_specific_session, lap_specific_config, lap_specific_good_placefield_neuronIDs = process_by_good_placefields(lap_specific_session, lap_specific_config, active_lap_only_placefields)"
   ]
  },
  {
   "cell_type": "markdown",
   "id": "bf3f80a3-8ea2-44af-a814-cc6a9f099748",
   "metadata": {
    "jp-MarkdownHeadingCollapsed": true,
    "tags": [
     "debug"
    ]
   },
   "source": [
    "## Debug"
   ]
  },
  {
   "cell_type": "code",
   "execution_count": null,
   "id": "208d9a2f-b950-4945-825d-b663db3e7ecb",
   "metadata": {
    "tags": [
     "debug"
    ]
   },
   "outputs": [],
   "source": [
    "debug_print_spike_counts(active_epoch_session)\n",
    "# active_epoch_session.spikes_df unique aclu values: [ 2  3  4  5  7  8  9 10 11 12 14 17 18 21 22 23 24 25 26 27 28 29 33 34\n",
    "#  38 39 42 44 45 46 47 48 53 55 57 58 61 62 63 64]\n",
    "# active_epoch_session.spikes_df unique aclu value counts: [   0    0  513  473   33  630    0  130  100  631   70  150  349    0\n",
    "#    52    0    0  308  952    0    0 1436  898  342  223   89  109 1261\n",
    "#   684  916    0    0    0  137  293    0    0    0  687  394    0    0\n",
    "#   225    0  495 2123  316  111  396    0    0    0    0  458    0  576\n",
    "#     0  927  382    0    0   89   90   55  370]\n",
    "# active_epoch_session.spikes_df unique unit_id values: [ 0  1  2  3  5  6  7  8  9 10 12 15 16 19 20 21 22 23 24 25 26 27 31 32\n",
    "#  36 37 40 42 43 44 45 46 51 53 55 56 59 60 61 62]\n",
    "# active_epoch_session.spikes_df unique unit_id value counts: [ 513  473   33  630    0  130  100  631   70  150  349    0   52    0\n",
    "#     0  308  952    0    0 1436  898  342  223   89  109 1261  684  916\n",
    "#     0    0    0  137  293    0    0    0  687  394    0    0  225    0\n",
    "#   495 2123  316  111  396    0    0    0    0  458    0  576    0  927\n",
    "#   382    0    0   89   90   55  370]\n",
    "\n",
    "\n",
    "# print(active_epoch_session.epochs.to_dataframe())\n",
    "# print(sess.spikes_df) # max is in 4.2305 x 10^4\n",
    "# print(sess.position.to_dataframe()) # max is in 4.2305 x 10^4 ## NOTE: The only place that I need to be careful with indexing is with sess.position properties, as these appear to be represented in terms of the number of 60Hz samples instead of in seconds like the Neurons and other classes.\n",
    "# print(sess.flattened_spiketrains.spikes_df) # t_seconds is in the same units as the position dataframe, which is NOT seconds, and 't' is a factor of 1x10^4 larger than 't_seconds'\n",
    "# # Get only the rows with a lap != -1:\n",
    "# # spikes_df = spikes_df[(spikes_df.lap != -1)] # 229887 rows × 13 columns\n",
    "# # spikes_df # 932598 rows × 14 columns"
   ]
  },
  {
   "cell_type": "code",
   "execution_count": null,
   "id": "20a62623-e071-45e8-ba19-eb99915b1217",
   "metadata": {},
   "outputs": [],
   "source": [
    "print('pix2cm: {}'.format(DataSessionLoader.pix2cm))"
   ]
  },
  {
   "cell_type": "code",
   "execution_count": null,
   "id": "513c142d-bf5e-4f72-ac00-1e6662a6bf74",
   "metadata": {},
   "outputs": [],
   "source": [
    "active_epoch_session.spikes_df"
   ]
  },
  {
   "cell_type": "code",
   "execution_count": null,
   "id": "833a850f-68bd-4f90-a614-b509cf595dd3",
   "metadata": {},
   "outputs": [],
   "source": [
    "debug_print_spike_counts(active_epoch_session) # 46 neurons after filtering, much better\n",
    "\n",
    "# count_arr = np.bincount(active_epoch_session.spikes_df['unit_id'])\n",
    "# count_arr\n",
    "valid_indicies = np.nonzero(active_epoch_session.spikes_df['unit_id'].values)\n",
    "valid_indicies\n",
    "# count_arr = np.bincount(active_epoch_session.spikes_df['aclu'])\n",
    "# count_arr\n",
    "\n",
    "# len(active_epoch_session.spikes_df['unit_id'].values) # 17766\n",
    "active_epoch_session.neurons.n_spikes\n",
    "\n",
    "# active_epoch_session.neurons.n_spikes # array([ 513,  473,   33,  630,  130,  631,  150,  349,  308,  952, 1436,\n",
    "#         # 898,  342,  223, 1261,  684,  916,  137,  293,  687,  394,  225,\n",
    "#         # 495, 2123,  316,  111,  396,  458,  576,  927,  382])\n",
    "        \n",
    "# array([   0,    0,  513,  473,   33,  630,    0,  130,    0,  631,    0,\n",
    "#         150,  349,    0,    0,    0,    0,  308,  952,    0,    0, 1436,\n",
    "#         898,  342,  223,    0,    0, 1261,  684,  916,    0,    0,    0,\n",
    "#         137,  293,    0,    0,    0,  687,  394,    0,    0,  225,    0,\n",
    "#         495, 2123,  316,  111,  396,    0,    0,    0,    0,  458,    0,\n",
    "#         576,    0,  927,  382], dtype=int64)"
   ]
  },
  {
   "cell_type": "code",
   "execution_count": null,
   "id": "c57fccde-9f7e-47b1-869d-122b0ebfc8bc",
   "metadata": {},
   "outputs": [],
   "source": [
    "active_epoch_session.spikes_df"
   ]
  },
  {
   "cell_type": "markdown",
   "id": "d4bca1e4-77d4-4a42-9883-57f0ff6431d4",
   "metadata": {
    "tags": []
   },
   "source": [
    "## Main Spike/Placemap plotting:"
   ]
  },
  {
   "cell_type": "markdown",
   "id": "3ad08080-abb6-4373-b426-520cb0ac95f3",
   "metadata": {
    "tags": []
   },
   "source": [
    "# Plot Placemaps on 3D Plot"
   ]
  },
  {
   "cell_type": "markdown",
   "id": "8dd9ebb1-1e31-44e1-8600-339b06db84a0",
   "metadata": {
    "tags": []
   },
   "source": [
    "## Tuning Curves 3D Plot:"
   ]
  },
  {
   "cell_type": "code",
   "execution_count": null,
   "id": "dc59a148-4799-48e5-ba8a-69516a44ec4c",
   "metadata": {
    "scrolled": true,
    "tags": []
   },
   "outputs": [],
   "source": [
    "from PhoGui.InteractivePlotter.InteractivePlaceCellTuningCurvesDataExplorer import InteractivePlaceCellTuningCurvesDataExplorer\n",
    "try: pActiveTuningCurvesPlotter\n",
    "except NameError: pActiveTuningCurvesPlotter = None # Checks variable p's existance, and sets its value to None if it doesn't exist so it can be checked in the next step\n",
    "ipcDataExplorer = InteractivePlaceCellTuningCurvesDataExplorer(active_config, active_epoch_session, active_epoch_placefields, pf_colors, extant_plotter=pActiveTuningCurvesPlotter)\n",
    "pActiveTuningCurvesPlotter = ipcDataExplorer.plot(pActiveTuningCurvesPlotter) # [2, 17449]"
   ]
  },
  {
   "cell_type": "markdown",
   "id": "44166cc3-20d5-4c7e-a2c0-1b205c874174",
   "metadata": {
    "jp-MarkdownHeadingCollapsed": true,
    "tags": []
   },
   "source": [
    "## Debugging Index Issues:"
   ]
  },
  {
   "cell_type": "code",
   "execution_count": null,
   "id": "646febe2-b13c-4657-846c-779aa7c05fff",
   "metadata": {
    "scrolled": true,
    "tags": []
   },
   "outputs": [],
   "source": [
    "# def plot_placefields2D(pTuningCurves, active_placefields, pf_colors: np.ndarray, zScalingFactor=10.0, show_legend=False):\n",
    "\n",
    "#     # .threshold().elevation()\n",
    "\n",
    "#     curr_tuning_curves = active_placefields.ratemap.normalized_tuning_curves\n",
    "#     # curr_tuning_curves[curr_tuning_curves < 0.1] = np.nan\n",
    "#     curr_tuning_curves = curr_tuning_curves * zScalingFactor\n",
    "\n",
    "#     num_curr_tuning_curves = len(curr_tuning_curves)\n",
    "#     # Get the cell IDs that have a good place field mapping:\n",
    "#     good_placefield_neuronIDs = np.array(active_placefields.ratemap.neuron_ids) # in order of ascending ID\n",
    "#     tuningCurvePlot_x, tuningCurvePlot_y = np.meshgrid(active_placefields.ratemap.xbin_centers, active_placefields.ratemap.ybin_centers)\n",
    "\n",
    "#     pdata_currActiveNeuronTuningCurve = pv.StructuredGrid(tuningCurvePlot_x, tuningCurvePlot_y, curr_active_neuron_tuning_Curve)\n",
    "#     pdata_currActiveNeuronTuningCurve[\"Elevation\"] = curr_active_neuron_tuning_Curve.ravel(order=\"F\")\n",
    "        \n",
    "#     return pTuningCurves\n",
    "\n",
    "# plot_placefields2D(pTuningCurves, active_epoch_placefields\n",
    "\n",
    "# ipcDataExplorer.plots['spikes_pf_active']['cellID']\n",
    "\n",
    "# only_active_colormap = ipcDataExplorer.active_config.plotting_config.active_cells_listed_colormap.copy()\n",
    "# only_active_colormap\n",
    "test_full_pc_data = ipcDataExplorer.plots_data['spikes_pf_active']['historical_spikes_pc']\n",
    "\n",
    "# test_subset = test_full_pc_data.GetCellGhostArray()\n",
    "# test_subset = test_full_pc_data.GetCellData() # vtkmodules.vtkCommonDataModel.vtkCellData\n",
    "# test_subset = test_full_pc_data[test_full_pc_data['cellID'] == 55] # vtkmodules.vtkCommonDataModel.vtkCellData\n",
    "\n",
    "# test_subset = test_full_pc_data.GetGhostArray() # [test_full_pc_data['cellID'] == 55] # vtkmodules.vtkCommonDataModel.vtkCellData\n",
    "\n",
    "\n",
    "unique_ids = np.unique(test_full_pc_data['cellID']) # array([ 0,  1,  2,  3,  5,  7,  9, 10, 15, 16, 19, 20, 21, 22, 25, 26, 27, 31, 32, 36, 37, 40, 42, 43, 44, 45, 46, 51, 53, 55, 56])\n",
    "# count_arr = np.bincount(test_full_pc_data['cellID'])\n",
    "count_arr\n",
    "# array([ 3591,  3311,   231,  4410,     0,   910,     0,  4417,     0,\n",
    "#         1050,  2443,     0,     0,     0,     0,  2156,  6664,     0,\n",
    "#            0, 10052,  6286,  2394,  1561,     0,     0,  8827,  4788,\n",
    "#         6412,     0,     0,     0,   959,  2051,     0,     0,     0,\n",
    "#         4809,  2758,     0,     0,  1575,     0,  3465, 14861,  2212,\n",
    "#          777,  2772,     0,     0,     0,     0,  3206,     0,  4032,\n",
    "#            0,  6489,  2674], dtype=int64)\n",
    "\n",
    "# good_placefield_neuronIDs: [  5   8  10  13  14  16  19  21  23  25  28  31  32  33  36  37  41  49\n",
    "#   52  53  54  55  57  59  60  61  62  63  64  66  68  69  74  75  76  78\n",
    "#   83  86  88  89  90  92  96  98 105 108]; (46 good)\n",
    "\n",
    "# 1, 4, 6, 7, 8, 11, 18, 19, 21 ## CONCLUSION: the ones that work are indeed the non-zero entries, but the checkboxes work in reverse order to this array that's printed. Meaning you start at the end and work back.\n",
    "# len(count_arr) # 107\n",
    "print(unique_ids) # [  3   6   8  11  12  14  17  19  21  23  26  29  30  31  34  35  39  47\n",
    "  # 50  51  52  53  55  57  58  59  60  61  62  64  66  67  72  73  74  76\n",
    "  # 81  84  86  87  88  90  94  96 103 106]\n",
    "\n",
    "\n",
    "# uniques, indicies, inverse_indicies, count_arr = np.unique(active_epoch_session.spikes_df['aclu'].values, return_index=True, return_inverse=True, return_counts=True)\n",
    "# # count_arr = np.bincount(active_epoch_session.spikes_df['aclu'].values)\n",
    "# print('active_epoch_session.spikes_df unique aclu values: {}'.format(uniques))\n",
    "# print('active_epoch_session.spikes_df unique aclu value counts: {}'.format(count_arr))\n",
    "# print(len(uniques)) # 46 \n",
    "# uniques, indicies, inverse_indicies, count_arr = np.unique(active_epoch_session.spikes_df['unit_id'].values, return_index=True, return_inverse=True, return_counts=True)\n",
    "# # count_arr = np.bincount(active_epoch_session.spikes_df['unit_id'].values)\n",
    "# print('active_epoch_session.spikes_df unique unit_id values: {}'.format(uniques))\n",
    "# print('active_epoch_session.spikes_df unique unit_id value counts: {}'.format(count_arr))\n",
    "# print(len(uniques)) # 46 "
   ]
  },
  {
   "cell_type": "code",
   "execution_count": null,
   "id": "53837d28-4831-4655-8db6-f6b104ab0e38",
   "metadata": {},
   "outputs": [],
   "source": [
    "# pActiveTuningCurvesPlotter.export_obj('export.obj')\n",
    "# pActiveTuningCurvesPlotter.export_gltf('export.gltf')\n",
    "\n",
    "ipcDataExplorer.update_placefield_spike_visibility([38], True) # seems to work"
   ]
  },
  {
   "cell_type": "code",
   "execution_count": null,
   "id": "b9b25f57-c2f7-424d-8ba2-95d15deb3522",
   "metadata": {},
   "outputs": [],
   "source": [
    "ipcDataExplorer.update_placefield_spike_visibility([53], True) # seems to work"
   ]
  },
  {
   "cell_type": "code",
   "execution_count": null,
   "id": "b4ac6e02-fee8-4c30-811f-4d29de766b01",
   "metadata": {},
   "outputs": [],
   "source": [
    "ipcDataExplorer.update_placefield_spike_visibility([44, 53], True) # seems to work\n",
    "\n",
    "# test_subset\n",
    "# test_subset"
   ]
  },
  {
   "cell_type": "code",
   "execution_count": null,
   "id": "4fc26f9e-d03b-42c0-90e0-dfe4dfd3b2de",
   "metadata": {},
   "outputs": [],
   "source": [
    "ipcDataExplorer.update_placefield_spike_visibility([53, 44], False) # seems to work"
   ]
  },
  {
   "cell_type": "code",
   "execution_count": null,
   "id": "5e1bdbd9-9d3a-4c55-8b22-417adb733cad",
   "metadata": {},
   "outputs": [],
   "source": [
    "ipcDataExplorer.gui['tuningCurveSpikeVisibilityCallbacks'][1](False)\n",
    "# ipcDataExplorer.get_cell_index([2, 3])"
   ]
  },
  {
   "cell_type": "code",
   "execution_count": null,
   "id": "9e00b059-3073-45fb-94df-3b0c7b818d07",
   "metadata": {},
   "outputs": [],
   "source": [
    "mesh = ipcDataExplorer.plots_data['spikes_pf_active']['historical_spikes_pc'].cast_to_unstructured_grid()\n",
    "# mesh.n_cells\n",
    "mesh_unique_ids = np.unique(mesh['cellID'])\n",
    "print('n_cells: {}'.format(mesh.n_cells)) # 122143\n",
    "print('cellIDs of mesh: {}'.format(mesh_unique_ids))\n",
    "# np.unique(mesh['cellID']) # array([ 0,  1,  2,  3,  5,  7,  9, 10, 15, 16, 19, 20, 21, 22, 25, 26, 27, 31, 32, 36, 37, 40, 42, 43, 44, 45, 46, 51, 53, 55, 56])\n",
    "# ipcDataExplorer.hide_placefield_spikes([0,1,2,3], should_invert=True)\n",
    "# ipcDataExplorer.hide_placefield_spikes([23,2,34], should_invert=True)\n",
    "\n",
    "# ipcDataExplorer.hide_placefield_spikes([34], should_invert=True)\n",
    "ipcDataExplorer.hide_placefield_spikes([38], should_invert=False)"
   ]
  },
  {
   "cell_type": "code",
   "execution_count": null,
   "id": "182a1565-0a1f-423a-900f-c97e9cbbbb15",
   "metadata": {},
   "outputs": [],
   "source": [
    "# the list of spike times that occured for this cell:\n",
    "i = 2\n",
    "active_epoch_session.neurons.neuron_ids[i]\n",
    "active_epoch_session.neurons.spiketrains[i]\n",
    "\n",
    "# spikes_df = FlattenedSpiketrains.build_spike_dataframe(sess)\n"
   ]
  },
  {
   "cell_type": "markdown",
   "id": "57076118-8e5f-496e-b06f-d1be2491d590",
   "metadata": {
    "pycharm": {
     "name": "#%%\n"
    },
    "tags": []
   },
   "source": [
    "## Interactive 3D Spike and Behavior Browser: "
   ]
  },
  {
   "cell_type": "code",
   "execution_count": null,
   "id": "1e5a5206-caba-4d75-9ff4-36f0e9249248",
   "metadata": {
    "pycharm": {
     "name": "#%%\n"
    },
    "tags": []
   },
   "outputs": [],
   "source": [
    "import PhoGui\n",
    "from PhoGui.InteractivePlotter.PhoInteractivePlotter import PhoInteractivePlotter\n",
    "from PhoGui.InteractivePlotter.shared_helpers import InteractivePyvistaPlotterBuildIfNeededMixin\n",
    "from PhoGui.InteractivePlotter.InteractivePlaceCellDataExplorer import InteractivePlaceCellDataExplorer\n",
    "\n",
    "active_config.plotting_config.show_legend = True\n",
    "\n",
    "try: pActiveInteractivePlaceSpikesPlotter\n",
    "except NameError: pActiveInteractivePlaceSpikesPlotter = None # Checks variable p's existance, and sets its value to None if it doesn't exist so it can be checked in the next step\n",
    "ipspikesDataExplorer = InteractivePlaceCellDataExplorer(active_config, active_epoch_session, extant_plotter=pActiveInteractivePlaceSpikesPlotter)\n",
    "pActiveInteractivePlaceSpikesPlotter = ipspikesDataExplorer.plot(pActivePlotter=pActiveInteractivePlaceSpikesPlotter)"
   ]
  },
  {
   "cell_type": "markdown",
   "id": "239326ba-1294-4655-9f34-10f25316b656",
   "metadata": {
    "jp-MarkdownHeadingCollapsed": true,
    "tags": []
   },
   "source": [
    "# Programmatically change the animal position trail:"
   ]
  },
  {
   "cell_type": "code",
   "execution_count": null,
   "id": "ca1e2162-1f3e-4829-b5d5-bbe1f80ea39b",
   "metadata": {},
   "outputs": [],
   "source": [
    "def plot_lap_trajectory_path(ipspikesDataExplorer, curr_lap_position_traces):\n",
    "    num_lap_samples = np.shape(curr_lap_position_traces)[1]\n",
    "    lap_fixed_z = np.full_like(curr_lap_position_traces[0,:], 0.9)\n",
    "    plot_name = 'lap_location_trail'\n",
    "    # fade_values = ipspikesDataExplorer.params.active_trail_opacity_values\n",
    "    # size_values = ipspikesDataExplorer.params.active_trail_size_values\n",
    "    trail_fade_values = None\n",
    "    size_values = None\n",
    "    # trail_fade_values = np.linspace(0.0, 0.6, num_lap_samples)\n",
    "    size_values = np.linspace(0.2, 0.6, num_lap_samples) # fade from a scale of 0.2 to 0.6\n",
    "    ipspikesDataExplorer.perform_plot_location_trail(plot_name, curr_lap_position_traces[0,:], curr_lap_position_traces[1,:], lap_fixed_z,\n",
    "                                                 trail_fade_values=trail_fade_values, trail_point_size_values=size_values,\n",
    "                                                 render=True, color='red')\n",
    "\n",
    "# def hide_lap_trajectory_path(ipspikesDataExplorer):\n",
    "    \n",
    "\n",
    "\n",
    "\n",
    "    \n",
    "## ACTIVE: Laps and Spikes:\n",
    "\n",
    "# def visually_indicate_current_lap(\n",
    "curr_lap_id = 0\n",
    "\n",
    "curr_lap_t_start, curr_lap_t_stop = get_lap_times(curr_lap_id)\n",
    "curr_lap_subsession = lap_specific_subsessions[curr_lap_id]\n",
    "curr_lap_dataframe = lap_specific_dataframes[curr_lap_id] # the subset dataframe for this lap\n",
    "curr_lap_spike_t_seconds = curr_lap_dataframe.t_seconds\n",
    "curr_lap_spike_indicies = lap_spike_indicies[curr_lap_id] # all spike indicies that occured within the lap\n",
    "curr_lap_position_traces = curr_lap_subsession.position.traces # the animal positions that were traversed during this lap\n",
    "\n",
    "curr_lap_num_spikes = len(curr_lap_spike_indicies)\n",
    "print('lap[{}]: ({}, {}): {} spikes.'.format(curr_lap_id, curr_lap_t_start, curr_lap_t_stop, curr_lap_num_spikes))\n",
    "\n",
    "test_flat_times = active_epoch_session.flattened_spiketrains.flattened_spike_times\n",
    "print(test_flat_times)\n",
    "    \n",
    "plot_lap_trajectory_path(ipspikesDataExplorer, curr_lap_position_traces)\n",
    "# curr_lap_t_start\n",
    "## TODO: enable showing/hiding the spikes for this data range programmatically in InteractivePlaceCellDataExplorer. \n",
    "# ipspikesDataExplorer.\n",
    "# curr_lap_spike_t_seconds\n",
    "# curr_lap_spike_indicies\n",
    "# active_epoch_session.flattened_spiketrains.spikes_df.t_seconds.values[curr_lap_spike_indicies] # index 145937 is out of bounds for axis 0 with size 19647"
   ]
  },
  {
   "cell_type": "code",
   "execution_count": null,
   "id": "adefc737-be86-4dc4-b165-7eefbd03788b",
   "metadata": {},
   "outputs": [],
   "source": [
    "renderWindow.SetWindowName('Test')\n",
    "# ipspikesDataExplorer.on_programmatic_data_update(active_included_all_historical_indicies=curr_lap_spike_indicies, active_included_recent_only_indicies=curr_lap_spike_indicies) # index 145937 is out of bounds for axis 0 with size 19647\n",
    "# ipspikesDataExplorer.on_programmatic_data_update(active_included_all_historical_indicies=curr_lap_spike_t_seconds, active_included_recent_only_indicies=curr_lap_spike_t_seconds) # \n",
    "# ipspikesDataExplorer.on_programmatic_data_update(active_included_all_historical_indicies=curr_lap_spike_t_seconds.values, active_included_recent_only_indicies=curr_lap_spike_t_seconds.values) # "
   ]
  },
  {
   "cell_type": "code",
   "execution_count": null,
   "id": "89fe6623-5cad-4dee-b43a-26df0b9259ac",
   "metadata": {},
   "outputs": [],
   "source": [
    "# ipspikesDataExplorer.spikes_main_historical.SetVisibility(0)\n",
    "\n",
    "# ipspikesDataExplorer.spikes_main_historical.SetVisibility(1)\n",
    "# bool(ipspikesDataExplorer.spikes_main_historical.GetVisibility())\n",
    "\n",
    "ipspikesDataExplorer.toggle_plot_visibility('spikes_main_historical')\n",
    "# toggle_visibility(ipspikesDataExplorer.spikes_main_historical)"
   ]
  },
  {
   "cell_type": "code",
   "execution_count": null,
   "id": "8438878a-e656-4e88-b768-65a796dd76c4",
   "metadata": {},
   "outputs": [],
   "source": [
    "ipspikesDataExplorer.toggle_plot_visibility('lap_location_trail')"
   ]
  },
  {
   "cell_type": "code",
   "execution_count": null,
   "id": "1ab035fb-3417-463f-aa54-2021466569ac",
   "metadata": {},
   "outputs": [],
   "source": [
    "# ipspikesDataExplorer.spikes_main_recent_only.SetVisibility(True)\n",
    "toggle_visibility(ipspikesDataExplorer.spikes_main_recent_only)"
   ]
  },
  {
   "cell_type": "code",
   "execution_count": null,
   "id": "70dcef6a-bee6-4739-9eef-bbfa7d62cae4",
   "metadata": {},
   "outputs": [],
   "source": [
    "# ipspikesDataExplorer.animal_location_trail.SetVisibility(0)\n",
    "toggle_visibility(ipspikesDataExplorer.animal_location_trail)"
   ]
  },
  {
   "cell_type": "code",
   "execution_count": null,
   "id": "0ffa678b-9334-4811-82fd-69ac23c0ad7a",
   "metadata": {},
   "outputs": [],
   "source": [
    "# ipspikesDataExplorer.animal_location_trail.SetVisibility(0)\n",
    "toggle_visibility(ipspikesDataExplorer.animal_current_location_point)"
   ]
  },
  {
   "cell_type": "markdown",
   "id": "cb1c336e-45c0-4eae-8a71-fced00d17313",
   "metadata": {
    "jp-MarkdownHeadingCollapsed": true,
    "tags": []
   },
   "source": [
    "# Programmatically change the animals location point indicator:"
   ]
  },
  {
   "cell_type": "code",
   "execution_count": null,
   "id": "90554b89-1a4f-43c0-a888-920d262d9557",
   "metadata": {},
   "outputs": [],
   "source": [
    "# .GetPosition() returns the actor's position, which is usually (0.0, 0.0, 0.0), and does not relate to the actor's data points\n",
    "# curr_animal_point = ipspikesDataExplorer.animal_location_trail.GetPosition()\n",
    "# curr_animal_point = ipspikesDataExplorer.animal_location_trail.GetXRange() # (44.23604202270508, 245.9059600830078)\n",
    "# print(curr_animal_point)\n",
    "# curr_animal_point = ipspikesDataExplorer.animal_location_trail.GetYRange() # (135.27638244628906, 145.448974609375)\n",
    "# print(curr_animal_point)\n",
    "# curr_animal_point = ipspikesDataExplorer.animal_location_trail.GetZRange() # (1.100000023841858, 1.100000023841858)\n",
    "\n",
    "curr_animal_point = np.array(ipspikesDataExplorer.animal_location_trail.GetCenter()) # (206.27755737304688, 140.15452575683594, 1.100000023841858)\n",
    "print('curr_animal_point: {}'.format(curr_animal_point))\n",
    "curr_animal_point # curr_animal_poin\n",
    "\n",
    "# curr_animal_point = np.array([0, 0, 0])\n",
    "\n",
    "# curr_animal_point = np.column_stack((self.x[active_window_sample_indicies], self.y[active_window_sample_indicies], self.z_fixed))\n",
    "# ipspikesDataExplorer.on_programmatic_data_update(curr_animal_point=curr_animal_point)\n",
    "\n",
    "curr_debug_point = np.array(ipspikesDataExplorer.animal_location_trail.GetCenter()) # (206.27755737304688, 140.15452575683594, 1.100000023841858)\n",
    "ipspikesDataExplorer.perform_plot_location_point('debug_point_plot', curr_animal_point, color='r')\n",
    "\n",
    "curr_animal_point = np.array(ipspikesDataExplorer.animal_location_trail.GetCenter()) # not updated\n",
    "print('new curr_animal_point: {}'.format(curr_animal_point))"
   ]
  },
  {
   "cell_type": "code",
   "execution_count": null,
   "id": "64ac6391-89e5-4452-bbdb-12338332da7f",
   "metadata": {},
   "outputs": [],
   "source": [
    "# ipspikesDataExplorer.flattened_spike_positions_list\n",
    "\n",
    "active_epoch_session.flattened_spiketrains.time_slice(curr_lap_spike_t_seconds.values[0], curr_lap_spike_t_seconds.values[-1]).spikes_df"
   ]
  },
  {
   "cell_type": "code",
   "execution_count": null,
   "id": "176ffb93-dd70-4eae-86dc-4498d39f7c64",
   "metadata": {},
   "outputs": [],
   "source": [
    "curr_lap_dataframe"
   ]
  },
  {
   "cell_type": "code",
   "execution_count": null,
   "id": "964a1bec-6aa9-4942-b590-5b9e407106ee",
   "metadata": {},
   "outputs": [],
   "source": [
    "active_epoch_session.time_slice"
   ]
  },
  {
   "cell_type": "code",
   "execution_count": null,
   "id": "f9639c15-312d-4bbb-938a-0bc8a0d51a0e",
   "metadata": {},
   "outputs": [],
   "source": []
  },
  {
   "cell_type": "code",
   "execution_count": null,
   "id": "c5b81d4e-b4ff-4e2f-bb2b-dc753c1a0ff0",
   "metadata": {},
   "outputs": [],
   "source": []
  }
 ],
 "metadata": {
  "celltoolbar": "Tags",
  "interpreter": {
   "hash": "fde6e68fa8f5f4f0920a88ee99edd8d4121f14a57a7800ceb19ed197f25c05dc"
  },
  "kernelspec": {
   "display_name": "Python 3 (ipykernel)",
   "language": "python",
   "name": "python3"
  },
  "language_info": {
   "codemirror_mode": {
    "name": "ipython",
    "version": 3
   },
   "file_extension": ".py",
   "mimetype": "text/x-python",
   "name": "python",
   "nbconvert_exporter": "python",
   "pygments_lexer": "ipython3",
   "version": "3.9.7"
  }
 },
 "nbformat": 4,
 "nbformat_minor": 5
}
