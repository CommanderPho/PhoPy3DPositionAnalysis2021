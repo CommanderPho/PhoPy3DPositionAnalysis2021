{
 "cells": [
  {
   "cell_type": "code",
   "execution_count": null,
   "id": "f6088dc9",
   "metadata": {
    "tags": []
   },
   "outputs": [],
   "source": [
    "#!/usr/bin/env python3\n",
    "# -*- coding: utf-8 -*-\n",
    "\"\"\"\n",
    "@author: pho\n",
    "\"\"\"\n",
    "%load_ext autoreload\n",
    "%autoreload 2\n",
    "import sys\n",
    "import importlib\n",
    "from threading import Thread\n",
    "import time # for time.sleep\n",
    "from ipygany import PolyMesh, Scene, IsoColor, WarpByScalar\n",
    "import pyvista as pv\n",
    "# from pyvista import _vtk\n",
    "import pyvistaqt as pvqt\n",
    "import colorcet as cc # Colormaps:\n",
    "import numpy as np\n",
    "import pandas as pd\n",
    "import h5py\n",
    "import hdf5storage # conda install hdf5storage\n",
    "from pathlib import Path\n",
    "import bqplot.scales\n",
    "import seaborn as sns\n",
    "from mpl_toolkits import mplot3d\n",
    "import matplotlib.pyplot as plt\n",
    "import matplotlib.cm as cm\n",
    "from matplotlib.colors import Normalize, to_rgba_array\n",
    "# import mplcursors\n",
    "import math # For color map generation\n",
    "from matplotlib.colors import ListedColormap\n",
    "from matplotlib.cm import hsv\n",
    "\n",
    "import ipywidgets as widgets\n",
    "# from PyQt5 import QtWidgets, uic\n",
    "from pyvistaqt import QtInteractor, MainWindow\n",
    "# from pyqt6 import QApplication\n",
    "from IPython.external.qt_for_kernel import QtGui\n",
    "from PyQt5.QtWidgets import QApplication\n",
    "\n",
    "import datetime as dt\n",
    "import panel as pn # for interactive widgets\n",
    "pn.extension()"
   ]
  },
  {
   "cell_type": "code",
   "execution_count": null,
   "id": "313eba69-5c27-4e2d-8563-2220af614aea",
   "metadata": {},
   "outputs": [],
   "source": [
    "# import PhoPositionalData as pdp\n",
    "# from PhoPositionalData import load_exported, process_data\n",
    "from PhoPositionalData.load_exported import *\n",
    "# from PhoPositionalData.process_data import process_positionalAnalysis_data, gen_2d_histrogram, get_heatmap_color_vectors, process_chunk_equal_poritions_data, extract_spike_timeseries\n",
    "from PhoPositionalData.process_data import *\n",
    "from PhoPositionalData.plot_data import *\n",
    "from PhoPositionalData.plotting.animations import * # make_mp4_from_plotter\n",
    "from PhoPositionalData.import_data import * # build_spike_positions_list, build_cellID_reverse_lookup_map\n",
    "from PhoPositionalData.analysis.interactive_placeCell_config import InteractivePlaceCellConfig, VideoOutputModeConfig, PlottingConfig, PlacefieldComputationParameters  # VideoOutputModeConfig, InteractivePlaceCellConfigs\n",
    "from PhoPositionalData.analysis.interactive_placeCell_config import print_subsession_neuron_differences\n"
   ]
  },
  {
   "cell_type": "code",
   "execution_count": null,
   "id": "7773a93a-d1a0-4403-93dd-755468f86751",
   "metadata": {},
   "outputs": [],
   "source": [
    "# NeuroPy (Diba Lab Python Repo) Loading\n",
    "try:\n",
    "    from neuropy import core\n",
    "    importlib.reload(core)\n",
    "except ImportError:\n",
    "    sys.path.append(r'C:\\Users\\Pho\\repos\\NeuroPy') # Windows\n",
    "    # sys.path.append('/home/pho/repo/BapunAnalysis2021/NeuroPy') # Linux\n",
    "    # sys.path.append(r'/Users/pho/repo/Python Projects/NeuroPy') # MacOS\n",
    "    print('neuropy module not found, adding directory to sys.path. \\n >> Updated sys.path.')\n",
    "    from neuropy import core\n",
    "# from neuropy.core.session.dataSession import SessionConfig, DataSessionLoader, DataSession, processDataSssion\n",
    "\n",
    "from neuropy.core.session.data_session_loader import DataSessionLoader\n",
    "from neuropy.core.session.dataSession import DataSession\n",
    "from neuropy.core.epoch import NamedTimerange\n",
    "from neuropy.utils.misc import print_seconds_human_readable\n",
    "\n",
    "## Data must be pre-processed using the MATLAB script located here: \n",
    "# R:\\data\\KDIBA\\gor01\\one\\IIDataMat_Export_ToPython_2021_11_23.m\n",
    "\n",
    "# From pre-computed .mat files:\n",
    "## 07: \n",
    "basedir = r'R:\\data\\KDIBA\\gor01\\one\\2006-6-07_11-26-53'\n",
    "\n",
    "# ## 08:\n",
    "# basedir = r'R:\\data\\KDIBA\\gor01\\one\\2006-6-08_14-26-15'"
   ]
  },
  {
   "cell_type": "code",
   "execution_count": null,
   "id": "0ad1f80a-de13-400c-b32c-f60914a9da54",
   "metadata": {},
   "outputs": [],
   "source": [
    "# KDiba Old Format:\n",
    "sess = DataSessionLoader.kdiba_old_format_session(r'R:\\data\\KDIBA\\gor01\\one\\2006-6-07_11-26-53')\n",
    "active_sess_config = sess.config\n",
    "session_name = sess.name\n",
    "sess.epochs.to_dataframe()"
   ]
  },
  {
   "cell_type": "code",
   "execution_count": null,
   "id": "ad09c9d1-56d7-427d-921c-0b7b7e081b8e",
   "metadata": {},
   "outputs": [],
   "source": [
    "# count_arr = np.bincount(sess.spikes_df['aclu'])\n",
    "# print('sess.spikes_df unique aclu values: {}'.format(np.unique(sess.spikes_df['aclu'])))\n",
    "# print('sess.spikes_df unique aclu value counts: {}'.format(count_arr))\n",
    "\n",
    "# sess.spikes_df unique aclu values: [ 2  3  4  5  6  7  8  9 10 11 12 13 14 15 16 17 18 19 20 21 22 23 24 25\n",
    "#  26 27 28 29 30 31 32 33 34 35 36 37 38 39 40 41 42 43 44 45 46 47 48 49\n",
    "#  50 51 52 53 54 55 56 57 58 59 60 61 62 63 64 65]\n",
    "# sess.spikes_df unique aclu value counts: [    0     0  1707  1359   554  3066 91337  2707   294  2991   913  1278\n",
    "#   1221  5475  2880 36760 48449   523  2595  3025 34729  3958  5263   790\n",
    "#    663  1070  1078  2954  4044  2581 73951  4871 13444   476  1234 89854\n",
    "#   5822 14961  2682  1184 13575 83972   795 22769  1559  8307  2098   438\n",
    "#   3476 28370 43854  1355  2552  2875 59011  1440 75786  3656   875 17727\n",
    "#  77247   550   408  2627  1734  2799]\n",
    "\n",
    "\n",
    "count_arr = np.bincount(sess.spikes_df['unit_id'])\n",
    "print('sess.spikes_df unique unit_id values: {}'.format(np.unique(sess.spikes_df['unit_id'])))\n",
    "print('sess.spikes_df unique unit_id value counts: {}'.format(count_arr))\n",
    "\n",
    "# sess.spikes_df unique unit_id values: [ 0  1  2  3  4  5  6  7  8  9 10 11 12 13 14 15 16 17 18 19 20 21 22 23\n",
    "#  24 25 26 27 28 29 30 31 32 33 34 35 36 37 38 39 40 41 42 43 44 45 46 47\n",
    "#  48 49 50 51 52 53 54 55 56 57 58 59 60 61 62 63]\n",
    "# sess.spikes_df unique unit_id value counts: [ 1707  1359   554  3066 91337  2707   294  2991   913  1278  1221  5475\n",
    "#   2880 36760 48449   523  2595  3025 34729  3958  5263   790   663  1070\n",
    "#   1078  2954  4044  2581 73951  4871 13444   476  1234 89854  5822 14961\n",
    "#   2682  1184 13575 83972   795 22769  1559  8307  2098   438  3476 28370\n",
    "#  43854  1355  2552  2875 59011  1440 75786  3656   875 17727 77247   550\n",
    "#    408  2627  1734  2799]\n",
    "\n",
    "## Note the unit_id seems to have valid spikes for all of them, while the aclu does not!"
   ]
  },
  {
   "cell_type": "markdown",
   "id": "fd7aeaa7-ec07-4f3d-b665-2874cd4a589f",
   "metadata": {
    "tags": []
   },
   "source": [
    "# Filter Session by Epoch:"
   ]
  },
  {
   "cell_type": "code",
   "execution_count": null,
   "id": "bf228906-46dc-4157-9ea0-f5448183aeb6",
   "metadata": {},
   "outputs": [],
   "source": [
    "\n",
    "active_epoch = sess.epochs.get_named_timerange('maze1')\n",
    "# active_epoch = sess.epochs.get_named_timerange('maze2')\n",
    "# active_epoch = NamedTimerange(name='maze', start_end_times=[sess.epochs['maze1'][0], sess.epochs['maze2'][1]])\n",
    "\n",
    "active_subplots_shape = (1,1) # Single subplot\n",
    "# active_subplots_shape = '1|2' # 1 subplot on left, two on right\n",
    "\n",
    "## Get the config corresponding to this epoch/session settings:\n",
    "active_config = InteractivePlaceCellConfig(active_session_config=active_sess_config, active_epochs=active_epoch,\n",
    "                        video_output_config=VideoOutputModeConfig(active_frame_range=np.arange(100.0, 120.0), video_output_parent_dir=Path('output', active_sess_config.session_name, active_epoch.name), active_is_video_output_mode=False),\n",
    "                        plotting_config=PlottingConfig(output_subplots_shape=active_subplots_shape, output_parent_dir=Path('output', active_sess_config.session_name, active_epoch.name))) # '3|1    \n",
    "active_config.plotting_config.active_output_parent_dir.mkdir(parents=True, exist_ok=True) # makes the directory if it isn't already there\n",
    "\n",
    "active_epoch_session = sess.filtered_by_neuron_type('pyramidal').filtered_by_epoch(active_epoch)\n",
    "print_subsession_neuron_differences(sess.neurons, active_epoch_session.neurons)"
   ]
  },
  {
   "cell_type": "code",
   "execution_count": null,
   "id": "29a23786-6896-4cb5-8c05-94034738fcc3",
   "metadata": {},
   "outputs": [],
   "source": [
    "# print(active_epoch_session.epochs.to_dataframe())\n",
    "# print(sess.spikes_df) # max is in 4.2305 x 10^4\n",
    "# print(sess.position.to_dataframe()) # max is in 4.2305 x 10^4 ## NOTE: The only place that I need to be careful with indexing is with sess.position properties, as these appear to be represented in terms of the number of 60Hz samples instead of in seconds like the Neurons and other classes.\n",
    "# print(sess.flattened_spiketrains.spikes_df) # t_seconds is in the same units as the position dataframe, which is NOT seconds, and 't' is a factor of 1x10^4 larger than 't_seconds'\n",
    "# # Get only the rows with a lap != -1:\n",
    "# # spikes_df = spikes_df[(spikes_df.lap != -1)] # 229887 rows × 13 columns\n",
    "# # spikes_df # 932598 rows × 14 columns"
   ]
  },
  {
   "cell_type": "code",
   "execution_count": null,
   "id": "20a62623-e071-45e8-ba19-eb99915b1217",
   "metadata": {},
   "outputs": [],
   "source": [
    "print('pix2cm: {}'.format(DataSessionLoader.pix2cm))"
   ]
  },
  {
   "cell_type": "markdown",
   "id": "212608eb-26af-425d-92c0-a3309bf4727d",
   "metadata": {
    "tags": []
   },
   "source": [
    "## Compute Placefields if needed:"
   ]
  },
  {
   "cell_type": "code",
   "execution_count": null,
   "id": "c7acf536-5dcf-4275-9a5f-b8d86220a91d",
   "metadata": {
    "scrolled": true,
    "tags": []
   },
   "outputs": [],
   "source": [
    "from neuropy.analyses import Pf1D, Pf2D, perform_compute_placefields, plot_all_placefields\n",
    "from neuropy.plotting.spikes import get_neuron_colors\n",
    "\n",
    "should_force_recompute_placefields = True\n",
    "should_display_2D_plots = True\n",
    "# Setup the placefield computation config\n",
    "active_config.computation_config = PlacefieldComputationParameters(speed_thresh=3, grid_bin=2, smooth=2)\n",
    "\n",
    "def compute_placefields_as_needed(active_epoch_placefields1D = None, active_epoch_placefields2D = None, should_force_recompute_placefields=False, should_display_2D_plots=False):\n",
    "    active_epoch_placefields1D, active_epoch_placefields2D = perform_compute_placefields(active_epoch_session.neurons, active_epoch_session.position, active_config.computation_config, active_epoch_placefields1D, active_epoch_placefields2D, should_force_recompute_placefields=True)\n",
    "    # Plot the placefields computed and save them out to files:\n",
    "    if should_display_2D_plots:\n",
    "        ax_pf_1D, occupancy_fig, active_pf_2D_figures = plot_all_placefields(active_epoch_placefields1D, active_epoch_placefields2D, active_config)\n",
    "    else:\n",
    "        print('skipping 2D placefield plots')\n",
    "    return active_epoch_placefields1D, active_epoch_placefields2D\n",
    "        \n",
    "try: active_epoch_placefields1D\n",
    "except NameError: active_epoch_placefields1D = None # Checks variable active_epoch_placefields's existance, and sets its value to None if it doesn't exist so it can be checked in the next step\n",
    "try: active_epoch_placefields2D\n",
    "except NameError: active_epoch_placefields2D = None # Checks variable active_epoch_placefields's existance, and sets its value to None if it doesn't exist so it can be checked in the next step\n",
    "\n",
    "active_epoch_placefields1D, active_epoch_placefields2D = compute_placefields_as_needed(active_epoch_placefields1D, active_epoch_placefields2D, should_force_recompute_placefields=True, should_display_2D_plots=should_display_2D_plots)\n",
    "    \n",
    "# Focus on the 2D placefields:\n",
    "active_epoch_placefields = active_epoch_placefields2D\n",
    "# Get the cell IDs that have a good place field mapping:\n",
    "good_placefield_neuronIDs = np.array(active_epoch_placefields.ratemap.neuron_ids) # in order of ascending ID\n",
    "print('good_placefield_neuronIDs: {}; ({} good)'.format(good_placefield_neuronIDs, len(good_placefield_neuronIDs)))\n",
    "\n",
    "## Filter by neurons with good placefields only:\n",
    "active_epoch_session = active_epoch_session.get_by_id(good_placefield_neuronIDs) # Filter by good placefields only, and this fetch also ensures they're returned in the order of sorted ascending index ([ 2  3  5  7  9 12 18 21 22 23 26 27 29 34 38 45 48 53 57])\n",
    "# active_epoch_session_Neurons = active_epoch_session.neurons\n",
    "\n",
    "## Plotting Colors:\n",
    "def build_units_colormap(session):\n",
    "    pf_sort_ind = np.array([int(i) for i in np.arange(len(session.neuron_ids))]) # convert to integer scalar array\n",
    "    pf_colors = get_neuron_colors(pf_sort_ind) # [4 x n_neurons]: colors are by ascending index ID\n",
    "    pf_colormap = pf_colors.T # [n_neurons x 4] Make the colormap from the listed colors, used seemingly only by 'runAnalysis_PCAandICA(...)'\n",
    "    pf_listed_colormap = ListedColormap(pf_colormap)\n",
    "    return pf_sort_ind, pf_colors, pf_colormap, pf_listed_colormap\n",
    "\n",
    "\n",
    "pf_sort_ind, pf_colors, pf_colormap, pf_listed_colormap = build_units_colormap(active_epoch_session)\n",
    "active_config.plotting_config.pf_sort_ind = pf_sort_ind\n",
    "active_config.plotting_config.pf_colors = pf_colors\n",
    "active_config.plotting_config.active_cells_colormap = pf_colormap\n",
    "active_config.plotting_config.active_cells_listed_colormap = ListedColormap(active_config.plotting_config.active_cells_colormap)\n"
   ]
  },
  {
   "cell_type": "code",
   "execution_count": null,
   "id": "7e3ca3f8-c2f4-4d8f-94e9-b2f5de765092",
   "metadata": {},
   "outputs": [],
   "source": [
    "## ICA and PCA Analysis\n",
    "should_show_2D_ICA_plots = False\n",
    "from PhoPositionalData.analysis.neuronal_dimensionality_reduction import runAnalysis_PCAandICA\n",
    "active_session_ensembles, template, zsc_template, pca_data = runAnalysis_PCAandICA(active_epoch_session.neurons, bin_size=0.250, frate_thresh=0.1, should_plot=should_show_2D_ICA_plots, active_cells_colormap=active_config.plotting_config.active_cells_colormap)"
   ]
  },
  {
   "cell_type": "code",
   "execution_count": null,
   "id": "ee58581e-b087-4493-9fdd-6e891913326e",
   "metadata": {},
   "outputs": [],
   "source": [
    "active_epoch_session.spikes_df"
   ]
  },
  {
   "cell_type": "code",
   "execution_count": null,
   "id": "ec6fa922-4d48-49bd-bd64-4c4c4709e5f2",
   "metadata": {},
   "outputs": [],
   "source": [
    "# count_arr = np.bincount(active_epoch_session.spikes_df['unit_id'])\n",
    "# count_arr\n",
    "\n",
    "count_arr = np.bincount(active_epoch_session.spikes_df['aclu'])\n",
    "count_arr\n",
    "\n",
    "# array([   0,    0,  513,  473,   33,  630,    0,  130,    0,  631,    0,\n",
    "#         150,  349,    0,    0,    0,    0,  308,  952,    0,    0, 1436,\n",
    "#         898,  342,  223,    0,    0, 1261,  684,  916,    0,    0,    0,\n",
    "#         137,  293,    0,    0,    0,  687,  394,    0,    0,  225,    0,\n",
    "#         495, 2123,  316,  111,  396,    0,    0,    0,    0,  458,    0,\n",
    "#         576,    0,  927,  382], dtype=int64)"
   ]
  },
  {
   "cell_type": "markdown",
   "id": "d8312b63-1ef4-423c-9bec-59e98f46d0d7",
   "metadata": {
    "jp-MarkdownHeadingCollapsed": true,
    "tags": []
   },
   "source": [
    "## Laps"
   ]
  },
  {
   "cell_type": "code",
   "execution_count": null,
   "id": "1e0c22d9-bfa8-4ccf-aa48-af7e13067972",
   "metadata": {},
   "outputs": [],
   "source": [
    "# active_sess_laps_bak = sess.laps\n",
    "active_epoch_session.laps = sess.laps\n",
    "# active_epoch_session.flattened_spiketrains.spikes_df\n",
    "# active_epoch_session.laps\n",
    "# active_epoch_session.laps.lap_start_stop_time goes from 190.4446 to 5607.2581, and looks like it would match the value on my \"curr_i\" slider in the plotter if I multiplied it by 10, as the max value on the plotter is \"57912.00\"\n",
    "# Plotter's slider: \"57912.00\": curr_i: 57265, t_start: 1910.79, t_stop: 1920.74. Note the slider fails to update at the end, so curr_i is probably a full value.\n",
    "active_epoch_session.laps.lap_start_stop_slider_values = active_epoch_session.laps.lap_start_stop_time * 10.0\n",
    "# active_epoch_session.laps"
   ]
  },
  {
   "cell_type": "code",
   "execution_count": null,
   "id": "a6be0f35-3d8c-4f90-ad48-90e004951559",
   "metadata": {},
   "outputs": [],
   "source": [
    "active_sess_laps = active_epoch_session.laps\n",
    "print('active_epoch_session.laps.n_laps: {}'.format(active_epoch_session.laps.n_laps))\n",
    "# print('active_sess_laps: {}'.format(active_sess_laps))\n",
    "active_sess_laps.lap_start_stop_time # [  96.0589, 6223.86  ], [ 190.4446, 6285.0087], ... these values look like 't' format, not 't_seconds'\n",
    "# active_sess_laps.laps_spike_counts\n",
    "# active_sess_laps.lap_start_stop_flat_idx\n",
    "def get_lap_flat_indicies(lap_id):\n",
    "    start_stop = active_sess_laps.lap_start_stop_flat_idx[lap_id,:] # array([ 15841., 900605.]) the start_stop time for the first lap\n",
    "    return start_stop[0], start_stop[1]\n",
    "\n",
    "def get_lap_times(lap_id):\n",
    "    start_stop = active_sess_laps.lap_start_stop_time[lap_id,:] # array([ 886.4489000000001, 931.6386]) the start_stop time for the first lap\n",
    "    return start_stop[0], start_stop[1]\n",
    "\n",
    "def build_lap_specific_lists(active_epoch_session):\n",
    "    # Group by the lap column:\n",
    "    lap_grouped_spikes_df = active_epoch_session.flattened_spiketrains.spikes_df.groupby(['lap']) #  as_index=False keeps the original index\n",
    "    \n",
    "    lap_specific_subsessions = list()\n",
    "    lap_specific_dataframes = list()\n",
    "    lap_spike_indicies = list()\n",
    "    lap_spike_t_seconds = list()\n",
    "    for i in np.arange(active_epoch_session.laps.n_laps):\n",
    "        curr_lap_id = active_epoch_session.laps.lap_id[i]\n",
    "        #curr_flat_cell_indicies = (flat_spikes_out_dict['aclu'] == active_epoch_placefields1D, active_epoch_placefields2D) # the indicies where the cell_id matches the current one\n",
    "        # print('curr_lap_id: {}'.format(curr_lap_id))\n",
    "        if curr_lap_id in lap_grouped_spikes_df.groups.keys():\n",
    "            curr_lap_dataframe = lap_grouped_spikes_df.get_group(curr_lap_id)\n",
    "            lap_specific_dataframes.append(curr_lap_dataframe)\n",
    "            lap_spike_indicies.append(curr_lap_dataframe.flat_spike_idx.values)\n",
    "            lap_spike_t_seconds.append(curr_lap_dataframe.t_seconds.values)\n",
    "            lap_specific_subsessions.append(active_epoch_session.time_slice(curr_lap_dataframe.t_seconds.values[0], curr_lap_dataframe.t_seconds.values[-1]))\n",
    "        else:\n",
    "            # curr_lap_dataframe = pd.DataFrame()\n",
    "            lap_specific_dataframes.append([])\n",
    "            lap_spike_indicies.append([])\n",
    "            lap_spike_t_seconds.append([])\n",
    "            lap_specific_subsessions.append(None)\n",
    "        # curr_lap_spike_indicies = curr_lap_dataframe.flat_spike_idx.values\n",
    "        # lap_spike_indicies.append(curr_lap_dataframe.flat_spike_idx.values)\n",
    "        # spiketrains.append(curr_cell_dataframe[time_variable_name].to_numpy())\n",
    "        # shank_ids[i] = curr_cell_dataframe['shank'].to_numpy()[0] # get the first shank identifier, which should be the same for all of this curr_cell_id\n",
    "        # cell_quality[i] = curr_cell_dataframe['qclu'].mean() # should be the same for all instances of curr_cell_id, but use mean just to make sure\n",
    "        # cell_type.append(curr_cell_dataframe['cell_type'].to_numpy()[0])\n",
    "    return lap_specific_subsessions, lap_specific_dataframes, lap_spike_indicies, lap_spike_t_seconds\n",
    "        \n",
    "    \n",
    "    \n",
    "# curr_lap_id = 4\n",
    "# curr_lap_t_start, curr_lap_t_stop = get_lap_times(curr_lap_id)\n",
    "# print('lap[{}]: ({}, {})'.format(curr_lap_id, curr_lap_t_start, curr_lap_t_stop))\n",
    "print('lap_ids: {}'.format(active_epoch_session.laps.lap_id))\n",
    "lap_specific_subsessions, lap_specific_dataframes, lap_spike_indicies, lap_spike_t_seconds = build_lap_specific_lists(active_epoch_session)\n",
    "# print('lap_spike_indicies: {}'.format(lap_spike_indicies))\n",
    "# lap_spike_indicies[4] # all spike indicies that occured within the lap\n",
    "# sess.laps.n_laps\n",
    "# lap_specific_dataframes[4]\n",
    "# lap_specific_subsessions[4].position.traces\n",
    "# np.shape(lap_specific_subsessions[4].position.traces) # (2, 1299)"
   ]
  },
  {
   "cell_type": "code",
   "execution_count": null,
   "id": "c57fccde-9f7e-47b1-869d-122b0ebfc8bc",
   "metadata": {},
   "outputs": [],
   "source": [
    "active_epoch_session.spikes_df"
   ]
  },
  {
   "cell_type": "markdown",
   "id": "d4bca1e4-77d4-4a42-9883-57f0ff6431d4",
   "metadata": {
    "jp-MarkdownHeadingCollapsed": true,
    "tags": []
   },
   "source": [
    "## Main Spike/Placemap plotting:"
   ]
  },
  {
   "cell_type": "markdown",
   "id": "3ad08080-abb6-4373-b426-520cb0ac95f3",
   "metadata": {
    "tags": []
   },
   "source": [
    "# Plot Placemaps on 3D Plot"
   ]
  },
  {
   "cell_type": "markdown",
   "id": "8dd9ebb1-1e31-44e1-8600-339b06db84a0",
   "metadata": {
    "tags": []
   },
   "source": [
    "## Tuning Curves 3D Plot:"
   ]
  },
  {
   "cell_type": "code",
   "execution_count": null,
   "id": "dc59a148-4799-48e5-ba8a-69516a44ec4c",
   "metadata": {},
   "outputs": [],
   "source": [
    "from PhoGui.InteractivePlotter.InteractivePlaceCellTuningCurvesDataExplorer import InteractivePlaceCellTuningCurvesDataExplorer\n",
    "try: pActiveTuningCurvesPlotter\n",
    "except NameError: pActiveTuningCurvesPlotter = None # Checks variable p's existance, and sets its value to None if it doesn't exist so it can be checked in the next step\n",
    "ipcDataExplorer = InteractivePlaceCellTuningCurvesDataExplorer(active_config, active_epoch_session, active_epoch_placefields, pf_colors, extant_plotter=pActiveTuningCurvesPlotter)\n",
    "pActiveTuningCurvesPlotter = ipcDataExplorer.plot(pActiveTuningCurvesPlotter) # [2, 17449]"
   ]
  },
  {
   "cell_type": "code",
   "execution_count": null,
   "id": "a9d18e50-c389-490d-b3dd-86102d8b79a5",
   "metadata": {},
   "outputs": [],
   "source": [
    "# def plot_placefields2D(pTuningCurves, active_placefields, pf_colors: np.ndarray, zScalingFactor=10.0, show_legend=False):\n",
    "\n",
    "#     # .threshold().elevation()\n",
    "\n",
    "#     curr_tuning_curves = active_placefields.ratemap.normalized_tuning_curves\n",
    "#     # curr_tuning_curves[curr_tuning_curves < 0.1] = np.nan\n",
    "#     curr_tuning_curves = curr_tuning_curves * zScalingFactor\n",
    "\n",
    "#     num_curr_tuning_curves = len(curr_tuning_curves)\n",
    "#     # Get the cell IDs that have a good place field mapping:\n",
    "#     good_placefield_neuronIDs = np.array(active_placefields.ratemap.neuron_ids) # in order of ascending ID\n",
    "#     tuningCurvePlot_x, tuningCurvePlot_y = np.meshgrid(active_placefields.ratemap.xbin_centers, active_placefields.ratemap.ybin_centers)\n",
    "\n",
    "#     pdata_currActiveNeuronTuningCurve = pv.StructuredGrid(tuningCurvePlot_x, tuningCurvePlot_y, curr_active_neuron_tuning_Curve)\n",
    "#     pdata_currActiveNeuronTuningCurve[\"Elevation\"] = curr_active_neuron_tuning_Curve.ravel(order=\"F\")\n",
    "        \n",
    "#     return pTuningCurves\n",
    "\n",
    "# plot_placefields2D(pTuningCurves, active_epoch_placefields\n",
    "\n",
    "# ipcDataExplorer.plots['spikes_pf_active']['cellID']\n",
    "\n",
    "# only_active_colormap = ipcDataExplorer.active_config.plotting_config.active_cells_listed_colormap.copy()\n",
    "# only_active_colormap\n",
    "test_full_pc_data = ipcDataExplorer.plots_data['spikes_pf_active']['historical_spikes_pc']\n",
    "\n",
    "# test_subset = test_full_pc_data.GetCellGhostArray()\n",
    "# test_subset = test_full_pc_data.GetCellData() # vtkmodules.vtkCommonDataModel.vtkCellData\n",
    "# test_subset = test_full_pc_data[test_full_pc_data['cellID'] == 55] # vtkmodules.vtkCommonDataModel.vtkCellData\n",
    "\n",
    "# test_subset = test_full_pc_data.GetGhostArray() # [test_full_pc_data['cellID'] == 55] # vtkmodules.vtkCommonDataModel.vtkCellData\n",
    "\n",
    "\n",
    "unique_ids = np.unique(test_full_pc_data['cellID']) # array([ 0,  1,  2,  3,  5,  7,  9, 10, 15, 16, 19, 20, 21, 22, 25, 26, 27, 31, 32, 36, 37, 40, 42, 43, 44, 45, 46, 51, 53, 55, 56])\n",
    "count_arr = np.bincount(test_full_pc_data['cellID'])\n",
    "count_arr\n",
    "# array([ 3591,  3311,   231,  4410,     0,   910,     0,  4417,     0,\n",
    "#         1050,  2443,     0,     0,     0,     0,  2156,  6664,     0,\n",
    "#            0, 10052,  6286,  2394,  1561,     0,     0,  8827,  4788,\n",
    "#         6412,     0,     0,     0,   959,  2051,     0,     0,     0,\n",
    "#         4809,  2758,     0,     0,  1575,     0,  3465, 14861,  2212,\n",
    "#          777,  2772,     0,     0,     0,     0,  3206,     0,  4032,\n",
    "#            0,  6489,  2674], dtype=int64)"
   ]
  },
  {
   "cell_type": "code",
   "execution_count": null,
   "id": "53837d28-4831-4655-8db6-f6b104ab0e38",
   "metadata": {},
   "outputs": [],
   "source": [
    "# pActiveTuningCurvesPlotter.export_obj('export.obj')\n",
    "# pActiveTuningCurvesPlotter.export_gltf('export.gltf')\n",
    "\n",
    "ipcDataExplorer.update_placefield_spike_visibility([38], True) # seems to work"
   ]
  },
  {
   "cell_type": "code",
   "execution_count": null,
   "id": "b9b25f57-c2f7-424d-8ba2-95d15deb3522",
   "metadata": {},
   "outputs": [],
   "source": [
    "ipcDataExplorer.update_placefield_spike_visibility([53], True) # seems to work"
   ]
  },
  {
   "cell_type": "code",
   "execution_count": null,
   "id": "b4ac6e02-fee8-4c30-811f-4d29de766b01",
   "metadata": {},
   "outputs": [],
   "source": [
    "ipcDataExplorer.update_placefield_spike_visibility([44, 53], True) # seems to work\n",
    "\n",
    "# test_subset\n",
    "# test_subset"
   ]
  },
  {
   "cell_type": "code",
   "execution_count": null,
   "id": "4fc26f9e-d03b-42c0-90e0-dfe4dfd3b2de",
   "metadata": {},
   "outputs": [],
   "source": [
    "ipcDataExplorer.update_placefield_spike_visibility([53, 44], False) # seems to work"
   ]
  },
  {
   "cell_type": "code",
   "execution_count": null,
   "id": "5e1bdbd9-9d3a-4c55-8b22-417adb733cad",
   "metadata": {},
   "outputs": [],
   "source": [
    "ipcDataExplorer.gui['tuningCurveSpikeVisibilityCallbacks'][1](False)\n",
    "# ipcDataExplorer.get_cell_index([2, 3])"
   ]
  },
  {
   "cell_type": "code",
   "execution_count": null,
   "id": "9e00b059-3073-45fb-94df-3b0c7b818d07",
   "metadata": {},
   "outputs": [],
   "source": [
    "mesh = ipcDataExplorer.plots_data['spikes_pf_active']['historical_spikes_pc'].cast_to_unstructured_grid()\n",
    "# mesh.n_cells\n",
    "mesh_unique_ids = np.unique(mesh['cellID'])\n",
    "print('n_cells: {}'.format(mesh.n_cells)) # 122143\n",
    "print('cellIDs of mesh: {}'.format(mesh_unique_ids))\n",
    "# np.unique(mesh['cellID']) # array([ 0,  1,  2,  3,  5,  7,  9, 10, 15, 16, 19, 20, 21, 22, 25, 26, 27, 31, 32, 36, 37, 40, 42, 43, 44, 45, 46, 51, 53, 55, 56])\n",
    "# ipcDataExplorer.hide_placefield_spikes([0,1,2,3], should_invert=True)\n",
    "# ipcDataExplorer.hide_placefield_spikes([23,2,34], should_invert=True)\n",
    "\n",
    "# ipcDataExplorer.hide_placefield_spikes([34], should_invert=True)\n",
    "ipcDataExplorer.hide_placefield_spikes([38], should_invert=False)"
   ]
  },
  {
   "cell_type": "code",
   "execution_count": null,
   "id": "182a1565-0a1f-423a-900f-c97e9cbbbb15",
   "metadata": {},
   "outputs": [],
   "source": [
    "# the list of spike times that occured for this cell:\n",
    "i = 2\n",
    "active_epoch_session.neurons.neuron_ids[i]\n",
    "active_epoch_session.neurons.spiketrains[i]\n",
    "\n",
    "# spikes_df = FlattenedSpiketrains.build_spike_dataframe(sess)\n"
   ]
  },
  {
   "cell_type": "markdown",
   "id": "57076118-8e5f-496e-b06f-d1be2491d590",
   "metadata": {
    "pycharm": {
     "name": "#%%\n"
    },
    "tags": []
   },
   "source": [
    "## Interactive 3D Spike and Behavior Browser: "
   ]
  },
  {
   "cell_type": "code",
   "execution_count": null,
   "id": "1e5a5206-caba-4d75-9ff4-36f0e9249248",
   "metadata": {
    "pycharm": {
     "name": "#%%\n"
    },
    "tags": []
   },
   "outputs": [],
   "source": [
    "import PhoGui\n",
    "from PhoGui.InteractivePlotter.PhoInteractivePlotter import PhoInteractivePlotter\n",
    "from PhoGui.InteractivePlotter.shared_helpers import InteractivePyvistaPlotterBuildIfNeededMixin\n",
    "from PhoGui.InteractivePlotter.InteractivePlaceCellDataExplorer import InteractivePlaceCellDataExplorer\n",
    "\n",
    "active_config.plotting_config.show_legend = True\n",
    "\n",
    "try: pActiveInteractivePlaceSpikesPlotter\n",
    "except NameError: pActiveInteractivePlaceSpikesPlotter = None # Checks variable p's existance, and sets its value to None if it doesn't exist so it can be checked in the next step\n",
    "ipspikesDataExplorer = InteractivePlaceCellDataExplorer(active_config, active_epoch_session, extant_plotter=pActiveInteractivePlaceSpikesPlotter)\n",
    "pActiveInteractivePlaceSpikesPlotter = ipspikesDataExplorer.plot(pActivePlotter=pActiveInteractivePlaceSpikesPlotter)"
   ]
  },
  {
   "cell_type": "markdown",
   "id": "239326ba-1294-4655-9f34-10f25316b656",
   "metadata": {
    "tags": []
   },
   "source": [
    "# Programmatically change the animal position trail:"
   ]
  },
  {
   "cell_type": "code",
   "execution_count": null,
   "id": "ca1e2162-1f3e-4829-b5d5-bbe1f80ea39b",
   "metadata": {},
   "outputs": [],
   "source": [
    "def plot_lap_trajectory_path(ipspikesDataExplorer, curr_lap_position_traces):\n",
    "    num_lap_samples = np.shape(curr_lap_position_traces)[1]\n",
    "    lap_fixed_z = np.full_like(curr_lap_position_traces[0,:], 0.9)\n",
    "    plot_name = 'lap_location_trail'\n",
    "    # fade_values = ipspikesDataExplorer.params.active_trail_opacity_values\n",
    "    # size_values = ipspikesDataExplorer.params.active_trail_size_values\n",
    "    trail_fade_values = None\n",
    "    size_values = None\n",
    "    # trail_fade_values = np.linspace(0.0, 0.6, num_lap_samples)\n",
    "    size_values = np.linspace(0.2, 0.6, num_lap_samples) # fade from a scale of 0.2 to 0.6\n",
    "    ipspikesDataExplorer.perform_plot_location_trail(plot_name, curr_lap_position_traces[0,:], curr_lap_position_traces[1,:], lap_fixed_z,\n",
    "                                                 trail_fade_values=trail_fade_values, trail_point_size_values=size_values,\n",
    "                                                 render=True, color='red')\n",
    "\n",
    "# def hide_lap_trajectory_path(ipspikesDataExplorer):\n",
    "    \n",
    "\n",
    "\n",
    "\n",
    "    \n",
    "## ACTIVE: Laps and Spikes:\n",
    "\n",
    "# def visually_indicate_current_lap(\n",
    "curr_lap_id = 0\n",
    "\n",
    "curr_lap_t_start, curr_lap_t_stop = get_lap_times(curr_lap_id)\n",
    "curr_lap_subsession = lap_specific_subsessions[curr_lap_id]\n",
    "curr_lap_dataframe = lap_specific_dataframes[curr_lap_id] # the subset dataframe for this lap\n",
    "curr_lap_spike_t_seconds = curr_lap_dataframe.t_seconds\n",
    "curr_lap_spike_indicies = lap_spike_indicies[curr_lap_id] # all spike indicies that occured within the lap\n",
    "curr_lap_position_traces = curr_lap_subsession.position.traces # the animal positions that were traversed during this lap\n",
    "\n",
    "curr_lap_num_spikes = len(curr_lap_spike_indicies)\n",
    "print('lap[{}]: ({}, {}): {} spikes.'.format(curr_lap_id, curr_lap_t_start, curr_lap_t_stop, curr_lap_num_spikes))\n",
    "\n",
    "test_flat_times = active_epoch_session.flattened_spiketrains.flattened_spike_times\n",
    "print(test_flat_times)\n",
    "    \n",
    "plot_lap_trajectory_path(ipspikesDataExplorer, curr_lap_position_traces)\n",
    "# curr_lap_t_start\n",
    "## TODO: enable showing/hiding the spikes for this data range programmatically in InteractivePlaceCellDataExplorer. \n",
    "# ipspikesDataExplorer.\n",
    "# curr_lap_spike_t_seconds\n",
    "# curr_lap_spike_indicies\n",
    "# active_epoch_session.flattened_spiketrains.spikes_df.t_seconds.values[curr_lap_spike_indicies] # index 145937 is out of bounds for axis 0 with size 19647"
   ]
  },
  {
   "cell_type": "code",
   "execution_count": null,
   "id": "adefc737-be86-4dc4-b165-7eefbd03788b",
   "metadata": {},
   "outputs": [],
   "source": [
    "renderWindow.SetWindowName('Test')\n",
    "# ipspikesDataExplorer.on_programmatic_data_update(active_included_all_historical_indicies=curr_lap_spike_indicies, active_included_recent_only_indicies=curr_lap_spike_indicies) # index 145937 is out of bounds for axis 0 with size 19647\n",
    "# ipspikesDataExplorer.on_programmatic_data_update(active_included_all_historical_indicies=curr_lap_spike_t_seconds, active_included_recent_only_indicies=curr_lap_spike_t_seconds) # \n",
    "# ipspikesDataExplorer.on_programmatic_data_update(active_included_all_historical_indicies=curr_lap_spike_t_seconds.values, active_included_recent_only_indicies=curr_lap_spike_t_seconds.values) # "
   ]
  },
  {
   "cell_type": "code",
   "execution_count": null,
   "id": "89fe6623-5cad-4dee-b43a-26df0b9259ac",
   "metadata": {},
   "outputs": [],
   "source": [
    "# ipspikesDataExplorer.spikes_main_historical.SetVisibility(0)\n",
    "\n",
    "# ipspikesDataExplorer.spikes_main_historical.SetVisibility(1)\n",
    "# bool(ipspikesDataExplorer.spikes_main_historical.GetVisibility())\n",
    "\n",
    "ipspikesDataExplorer.toggle_plot_visibility('spikes_main_historical')\n",
    "# toggle_visibility(ipspikesDataExplorer.spikes_main_historical)"
   ]
  },
  {
   "cell_type": "code",
   "execution_count": null,
   "id": "8438878a-e656-4e88-b768-65a796dd76c4",
   "metadata": {},
   "outputs": [],
   "source": [
    "ipspikesDataExplorer.toggle_plot_visibility('lap_location_trail')"
   ]
  },
  {
   "cell_type": "code",
   "execution_count": null,
   "id": "1ab035fb-3417-463f-aa54-2021466569ac",
   "metadata": {},
   "outputs": [],
   "source": [
    "# ipspikesDataExplorer.spikes_main_recent_only.SetVisibility(True)\n",
    "toggle_visibility(ipspikesDataExplorer.spikes_main_recent_only)"
   ]
  },
  {
   "cell_type": "code",
   "execution_count": null,
   "id": "70dcef6a-bee6-4739-9eef-bbfa7d62cae4",
   "metadata": {},
   "outputs": [],
   "source": [
    "# ipspikesDataExplorer.animal_location_trail.SetVisibility(0)\n",
    "toggle_visibility(ipspikesDataExplorer.animal_location_trail)"
   ]
  },
  {
   "cell_type": "code",
   "execution_count": null,
   "id": "0ffa678b-9334-4811-82fd-69ac23c0ad7a",
   "metadata": {},
   "outputs": [],
   "source": [
    "# ipspikesDataExplorer.animal_location_trail.SetVisibility(0)\n",
    "toggle_visibility(ipspikesDataExplorer.animal_current_location_point)"
   ]
  },
  {
   "cell_type": "markdown",
   "id": "cb1c336e-45c0-4eae-8a71-fced00d17313",
   "metadata": {
    "tags": []
   },
   "source": [
    "# Programmatically change the animals location point indicator:"
   ]
  },
  {
   "cell_type": "code",
   "execution_count": null,
   "id": "90554b89-1a4f-43c0-a888-920d262d9557",
   "metadata": {},
   "outputs": [],
   "source": [
    "# .GetPosition() returns the actor's position, which is usually (0.0, 0.0, 0.0), and does not relate to the actor's data points\n",
    "# curr_animal_point = ipspikesDataExplorer.animal_location_trail.GetPosition()\n",
    "# curr_animal_point = ipspikesDataExplorer.animal_location_trail.GetXRange() # (44.23604202270508, 245.9059600830078)\n",
    "# print(curr_animal_point)\n",
    "# curr_animal_point = ipspikesDataExplorer.animal_location_trail.GetYRange() # (135.27638244628906, 145.448974609375)\n",
    "# print(curr_animal_point)\n",
    "# curr_animal_point = ipspikesDataExplorer.animal_location_trail.GetZRange() # (1.100000023841858, 1.100000023841858)\n",
    "\n",
    "curr_animal_point = np.array(ipspikesDataExplorer.animal_location_trail.GetCenter()) # (206.27755737304688, 140.15452575683594, 1.100000023841858)\n",
    "print('curr_animal_point: {}'.format(curr_animal_point))\n",
    "curr_animal_point # curr_animal_poin\n",
    "\n",
    "# curr_animal_point = np.array([0, 0, 0])\n",
    "\n",
    "# curr_animal_point = np.column_stack((self.x[active_window_sample_indicies], self.y[active_window_sample_indicies], self.z_fixed))\n",
    "# ipspikesDataExplorer.on_programmatic_data_update(curr_animal_point=curr_animal_point)\n",
    "\n",
    "curr_debug_point = np.array(ipspikesDataExplorer.animal_location_trail.GetCenter()) # (206.27755737304688, 140.15452575683594, 1.100000023841858)\n",
    "ipspikesDataExplorer.perform_plot_location_point('debug_point_plot', curr_animal_point, color='r')\n",
    "\n",
    "curr_animal_point = np.array(ipspikesDataExplorer.animal_location_trail.GetCenter()) # not updated\n",
    "print('new curr_animal_point: {}'.format(curr_animal_point))"
   ]
  },
  {
   "cell_type": "code",
   "execution_count": null,
   "id": "64ac6391-89e5-4452-bbdb-12338332da7f",
   "metadata": {},
   "outputs": [],
   "source": [
    "# ipspikesDataExplorer.flattened_spike_positions_list\n",
    "\n",
    "active_epoch_session.flattened_spiketrains.time_slice(curr_lap_spike_t_seconds.values[0], curr_lap_spike_t_seconds.values[-1]).spikes_df"
   ]
  },
  {
   "cell_type": "code",
   "execution_count": null,
   "id": "176ffb93-dd70-4eae-86dc-4498d39f7c64",
   "metadata": {},
   "outputs": [],
   "source": [
    "curr_lap_dataframe"
   ]
  },
  {
   "cell_type": "code",
   "execution_count": null,
   "id": "964a1bec-6aa9-4942-b590-5b9e407106ee",
   "metadata": {},
   "outputs": [],
   "source": [
    "active_epoch_session.time_slice"
   ]
  },
  {
   "cell_type": "code",
   "execution_count": null,
   "id": "f9639c15-312d-4bbb-938a-0bc8a0d51a0e",
   "metadata": {},
   "outputs": [],
   "source": []
  },
  {
   "cell_type": "code",
   "execution_count": null,
   "id": "c5b81d4e-b4ff-4e2f-bb2b-dc753c1a0ff0",
   "metadata": {},
   "outputs": [],
   "source": []
  }
 ],
 "metadata": {
  "celltoolbar": "Tags",
  "interpreter": {
   "hash": "fde6e68fa8f5f4f0920a88ee99edd8d4121f14a57a7800ceb19ed197f25c05dc"
  },
  "kernelspec": {
   "display_name": "Python 3 (ipykernel)",
   "language": "python",
   "name": "python3"
  },
  "language_info": {
   "codemirror_mode": {
    "name": "ipython",
    "version": 3
   },
   "file_extension": ".py",
   "mimetype": "text/x-python",
   "name": "python",
   "nbconvert_exporter": "python",
   "pygments_lexer": "ipython3",
   "version": "3.9.7"
  }
 },
 "nbformat": 4,
 "nbformat_minor": 5
}
