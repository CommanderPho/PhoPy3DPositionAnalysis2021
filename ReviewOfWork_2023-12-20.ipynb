{
 "cells": [
  {
   "cell_type": "code",
   "execution_count": 12,
   "id": "initial_id",
   "metadata": {
    "ExecuteTime": {
     "end_time": "2023-11-16T23:21:20.608442900Z",
     "start_time": "2023-11-16T23:21:20.217442100Z"
    },
    "collapsed": true,
    "notebookRunGroups": {
     "groupValue": "1"
    }
   },
   "outputs": [
    {
     "name": "stdout",
     "output_type": "stream",
     "text": [
      "Exception reporting mode: Context\n",
      "Automatic pdb calling has been turned OFF\n",
      "The viztracer extension is already loaded. To reload it, use:\n",
      "  %reload_ext viztracer\n",
      "The autoreload extension is already loaded. To reload it, use:\n",
      "  %reload_ext autoreload\n"
     ]
    }
   ],
   "source": [
    "%config IPCompleter.use_jedi = False\n",
    "# %xmode Verbose\n",
    "%xmode context\n",
    "%pdb off\n",
    "%load_ext viztracer\n",
    "from viztracer import VizTracer\n",
    "%load_ext autoreload\n",
    "%autoreload 3\n",
    "import sys\n",
    "from typing import Dict, List, Tuple, Optional\n",
    "from pathlib import Path\n",
    "\n",
    "# required to enable non-blocking interaction:\n",
    "%gui qt5\n",
    "\n",
    "from copy import deepcopy\n",
    "from numba import jit\n",
    "import numpy as np\n",
    "import pandas as pd\n",
    "pd.options.mode.chained_assignment = None  # default='warn'\n",
    "# pd.options.mode.dtype_backend = 'pyarrow' # use new pyarrow backend instead of numpy\n",
    "from attrs import define, field, fields, Factory\n",
    "import tables as tb\n",
    "from datetime import datetime, timedelta\n",
    "\n",
    "# Pho's Formatting Preferences\n",
    "from pyphocorehelpers.preferences_helpers import set_pho_preferences, set_pho_preferences_concise, set_pho_preferences_verbose\n",
    "set_pho_preferences_concise()\n",
    "from pyphocorehelpers.print_helpers import get_now_time_str, get_now_day_str\n",
    "\n",
    "## Pho's Custom Libraries:\n",
    "from pyphocorehelpers.Filesystem.path_helpers import find_first_extant_path\n",
    "from pyphocorehelpers.Filesystem.open_in_system_file_manager import reveal_in_system_file_manager\n",
    "\n",
    "# NeuroPy (Diba Lab Python Repo) Loading\n",
    "# from neuropy import core\n",
    "from neuropy.analyses.placefields import PlacefieldComputationParameters\n",
    "from neuropy.core.epoch import NamedTimerange, Epoch\n",
    "from neuropy.core.ratemap import Ratemap\n",
    "from neuropy.core.session.Formats.BaseDataSessionFormats import DataSessionFormatRegistryHolder\n",
    "from neuropy.core.session.Formats.Specific.KDibaOldDataSessionFormat import KDibaOldDataSessionFormatRegisteredClass\n",
    "from neuropy.utils.matplotlib_helpers import matplotlib_file_only, matplotlib_configuration, matplotlib_configuration_update\n",
    "from neuropy.core.neuron_identities import NeuronIdentityTable, neuronTypesList, neuronTypesEnum\n",
    "from neuropy.utils.mixins.AttrsClassHelpers import AttrsBasedClassHelperMixin, serialized_field, serialized_attribute_field, non_serialized_field, custom_define\n",
    "from neuropy.utils.mixins.HDF5_representable import HDF_DeserializationMixin, post_deserialize, HDF_SerializationMixin, HDFMixin, HDF_Converter\n",
    "\n",
    "## For computation parameters:\n",
    "from neuropy.analyses.placefields import PlacefieldComputationParameters\n",
    "from neuropy.utils.dynamic_container import DynamicContainer\n",
    "from neuropy.utils.result_context import IdentifyingContext\n",
    "from neuropy.core.session.Formats.BaseDataSessionFormats import find_local_session_paths\n",
    "from neuropy.core.neurons import NeuronType\n",
    "from neuropy.core.user_annotations import UserAnnotationsManager\n",
    "from neuropy.core.position import Position\n",
    "from neuropy.core.session.dataSession import DataSession\n",
    "from neuropy.analyses.time_dependent_placefields import PfND_TimeDependent, PlacefieldSnapshot\n",
    "from neuropy.utils.debug_helpers import debug_print_placefield, debug_print_subsession_neuron_differences, debug_print_ratemap, debug_print_spike_counts, debug_plot_2d_binning, print_aligned_columns\n",
    "from neuropy.utils.debug_helpers import parameter_sweeps, _plot_parameter_sweep, compare_placefields_info\n",
    "from neuropy.utils.indexing_helpers import union_of_arrays, intersection_of_arrays, find_desired_sort_indicies, paired_incremental_sorting\n",
    "\n",
    "from pyphocorehelpers.print_helpers import print_object_memory_usage, print_dataframe_memory_usage, print_value_overview_only, DocumentationFilePrinter, print_keys_if_possible, generate_html_string, CapturedException, document_active_variables\n",
    "from pyphocorehelpers.general_helpers import GeneratedClassDefinitionType, CodeConversion, inspect_callable_arguments\n",
    "\n",
    "## Pho Programming Helpers:\n",
    "import inspect\n",
    "from pyphocorehelpers.general_helpers import inspect_callable_arguments, get_arguments_as_optional_dict, GeneratedClassDefinitionType, CodeConversion\n",
    "from pyphocorehelpers.print_helpers import DocumentationFilePrinter, TypePrintMode, print_keys_if_possible, debug_dump_object_member_shapes, print_value_overview_only, document_active_variables, CapturedException\n",
    "from pyphocorehelpers.programming_helpers import IPythonHelpers, PythonDictionaryDefinitionFormat, MemoryManagement\n",
    "from pyphocorehelpers.gui.Qt.TopLevelWindowHelper import TopLevelWindowHelper, print_widget_hierarchy\n",
    "\n",
    "# pyPhoPlaceCellAnalysis:\n",
    "from pyphoplacecellanalysis.General.Pipeline.NeuropyPipeline import NeuropyPipeline # get_neuron_identities\n",
    "from pyphoplacecellanalysis.General.Mixins.ExportHelpers import export_pyqtgraph_plot\n",
    "from pyphoplacecellanalysis.General.Batch.NonInteractiveProcessing import batch_load_session, batch_extended_computations, batch_extended_programmatic_figures\n",
    "from pyphoplacecellanalysis.General.Pipeline.NeuropyPipeline import PipelineSavingScheme\n",
    "\n",
    "import pyphoplacecellanalysis.External.pyqtgraph as pg\n",
    "\n",
    "from pyphoplacecellanalysis.General.Batch.NonInteractiveProcessing import batch_perform_all_plots\n",
    "from pyphoplacecellanalysis.General.Pipeline.Stages.ComputationFunctions.MultiContextComputationFunctions.LongShortTrackComputations import JonathanFiringRateAnalysisResult\n",
    "from pyphoplacecellanalysis.General.Mixins.CrossComputationComparisonHelpers import _find_any_context_neurons\n",
    "from pyphoplacecellanalysis.General.Batch.runBatch import BatchSessionCompletionHandler # for `post_compute_validate(...)`\n",
    "from pyphoplacecellanalysis.Analysis.Decoder.reconstruction import BasePositionDecoder\n",
    "from pyphoplacecellanalysis.SpecificResults.AcrossSessionResults import AcrossSessionsResults\n",
    "from pyphoplacecellanalysis.General.Pipeline.Stages.ComputationFunctions.SpikeAnalysis import SpikeRateTrends # for `_perform_long_short_instantaneous_spike_rate_groups_analysis`\n",
    "from pyphoplacecellanalysis.General.Pipeline.Stages.ComputationFunctions.MultiContextComputationFunctions.LongShortTrackComputations import SingleBarResult, InstantaneousSpikeRateGroupsComputation, TruncationCheckingResults # for `BatchSessionCompletionHandler`, `AcrossSessionsAggregator`\n",
    "from pyphoplacecellanalysis.General.Mixins.CrossComputationComparisonHelpers import SplitPartitionMembership\n",
    "from pyphoplacecellanalysis.General.Pipeline.Stages.ComputationFunctions.MultiContextComputationFunctions.DirectionalPlacefieldGlobalComputationFunctions import DirectionalPlacefieldGlobalComputationFunctions, DirectionalLapsResult, TrackTemplates\n",
    "from pyphoplacecellanalysis.General.Pipeline.Stages.ComputationFunctions.MultiContextComputationFunctions.RankOrderComputations import RankOrderGlobalComputationFunctions\n",
    "from pyphoplacecellanalysis.General.Pipeline.Stages.ComputationFunctions.MultiContextComputationFunctions.DirectionalPlacefieldGlobalComputationFunctions import TrackTemplates\n",
    "from pyphoplacecellanalysis.General.Pipeline.Stages.ComputationFunctions.MultiContextComputationFunctions.RankOrderComputations import RankOrderComputationsContainer, RankOrderResult\n",
    "\n",
    "\n",
    "# Plotting\n",
    "# import pylustrator # customization of figures\n",
    "import matplotlib\n",
    "import matplotlib as mpl\n",
    "import matplotlib.pyplot as plt\n",
    "_bak_rcParams = mpl.rcParams.copy()\n",
    "\n",
    "matplotlib.use('Qt5Agg')\n",
    "# %matplotlib inline\n",
    "\n",
    "# _restore_previous_matplotlib_settings_callback = matplotlib_configuration_update(is_interactive=True, backend='Qt5Agg')\n",
    "_restore_previous_matplotlib_settings_callback = matplotlib_configuration_update(is_interactive=True, backend='Qt5Agg')\n",
    "\n",
    "\n",
    "# import pylustrator # call `pylustrator.start()` before creating your first figure in code.\n",
    "from pyphoplacecellanalysis.Pho2D.matplotlib.visualize_heatmap import visualize_heatmap\n",
    "from pyphoplacecellanalysis.Pho2D.matplotlib.visualize_heatmap import visualize_heatmap_pyqtgraph # used in `plot_kourosh_activity_style_figure`\n",
    "from pyphoplacecellanalysis.General.Pipeline.Stages.DisplayFunctions.SpikeRasters import plot_multiple_raster_plot, plot_raster_plot\n",
    "from pyphoplacecellanalysis.General.Mixins.DataSeriesColorHelpers import UnitColoringMode, DataSeriesColorHelpers\n",
    "from pyphoplacecellanalysis.General.Pipeline.Stages.DisplayFunctions.SpikeRasters import _build_default_tick, build_scatter_plot_kwargs\n",
    "from pyphoplacecellanalysis.GUI.PyQtPlot.Widgets.Mixins.Render2DScrollWindowPlot import Render2DScrollWindowPlotMixin, ScatterItemData\n",
    "from pyphoplacecellanalysis.General.Batch.NonInteractiveProcessing import batch_extended_programmatic_figures, batch_programmatic_figures\n",
    "from pyphoplacecellanalysis.General.Pipeline.Stages.ComputationFunctions.SpikeAnalysis import SpikeRateTrends\n",
    "from pyphoplacecellanalysis.General.Mixins.SpikesRenderingBaseMixin import SpikeEmphasisState\n",
    "\n",
    "from pyphoplacecellanalysis.SpecificResults.PhoDiba2023Paper import PAPER_FIGURE_figure_1_add_replay_epoch_rasters, PAPER_FIGURE_figure_1_full, PAPER_FIGURE_figure_3, main_complete_figure_generations\n",
    "from pyphoplacecellanalysis.SpecificResults.fourthYearPresentation import *\n",
    "\n",
    "# Jupyter Widget Interactive\n",
    "import ipywidgets as widgets\n",
    "from IPython.display import display, HTML\n",
    "from pyphocorehelpers.Filesystem.open_in_system_file_manager import reveal_in_system_file_manager\n",
    "from pyphoplacecellanalysis.GUI.IPyWidgets.pipeline_ipywidgets import interactive_pipeline_widget, interactive_pipeline_files\n",
    "from pyphocorehelpers.gui.Jupyter.simple_widgets import fullwidth_path_widget, render_colors\n",
    "\n",
    "global_data_root_parent_path = find_first_extant_path([Path(r'/home/halechr/FastData'), Path(r'/media/MAX/Data'), Path(r'W:\\Data'), Path(r'/home/halechr/cloud/turbo/Data'), Path(r'/Volumes/MoverNew/data'), Path(r'/home/halechr/turbo/Data')])\n",
    "assert global_data_root_parent_path.exists(), f\"global_data_root_parent_path: {global_data_root_parent_path} does not exist! Is the right computer's config commented out above?\""
   ]
  },
  {
   "cell_type": "markdown",
   "id": "30db844b",
   "metadata": {},
   "source": [
    "# Load Pipeline"
   ]
  },
  {
   "cell_type": "code",
   "execution_count": 13,
   "id": "233d2b8a",
   "metadata": {
    "ExecuteTime": {
     "end_time": "2023-11-16T23:21:36.073368600Z",
     "start_time": "2023-11-16T23:21:27.575793Z"
    },
    "notebookRunGroups": {
     "groupValue": "1"
    }
   },
   "outputs": [
    {
     "name": "stdout",
     "output_type": "stream",
     "text": [
      "basedir: W:\\Data\\KDIBA\\gor01\\one\\2006-6-09_1-22-43\n",
      "Loading loaded session pickle file results : W:\\Data\\KDIBA\\gor01\\one\\2006-6-09_1-22-43\\loadedSessPickle.pkl... "
     ]
    },
    {
     "name": "stderr",
     "output_type": "stream",
     "text": [
      "INFO:com.PhoHale.Spike3D.pipeline:NeuropyPipeline.__setstate__(state=\"{'pipeline_name': 'kdiba_pipeline', 'session_data_type': 'kdiba', '_stage': <pyphoplacecellanalysis.General.Pipeline.Stages.Display.DisplayPipelineStage object at 0x000001CFD1266FA0>}\")\n",
      "INFO:com.PhoHale.Spike3D.pipeline:select_filters(...) with: []\n",
      "INFO:com.PhoHale.Spike3D.pipeline:Performing perform_action_for_all_contexts with action EvaluationActions.EVALUATE_COMPUTATIONS on filtered_session with filter named \"maze1_odd\"...\n",
      "INFO:com.PhoHale.Spike3D.pipeline:WARNING: skipping computation because overwrite_extant_results=False and active_computation_results[maze1_odd] already exists and is non-None\n",
      "INFO:com.PhoHale.Spike3D.pipeline:\t TODO: this will prevent recomputation even when the excludelist/includelist or computation function definitions change. Rework so that this is smarter.\n",
      "INFO:com.PhoHale.Spike3D.pipeline:Performing perform_action_for_all_contexts with action EvaluationActions.EVALUATE_COMPUTATIONS on filtered_session with filter named \"maze2_odd\"...\n",
      "INFO:com.PhoHale.Spike3D.pipeline:WARNING: skipping computation because overwrite_extant_results=False and active_computation_results[maze2_odd] already exists and is non-None\n",
      "INFO:com.PhoHale.Spike3D.pipeline:\t TODO: this will prevent recomputation even when the excludelist/includelist or computation function definitions change. Rework so that this is smarter.\n",
      "INFO:com.PhoHale.Spike3D.pipeline:Performing perform_action_for_all_contexts with action EvaluationActions.EVALUATE_COMPUTATIONS on filtered_session with filter named \"maze_odd\"...\n",
      "INFO:com.PhoHale.Spike3D.pipeline:WARNING: skipping computation because overwrite_extant_results=False and active_computation_results[maze_odd] already exists and is non-None\n",
      "INFO:com.PhoHale.Spike3D.pipeline:\t TODO: this will prevent recomputation even when the excludelist/includelist or computation function definitions change. Rework so that this is smarter.\n",
      "INFO:com.PhoHale.Spike3D.pipeline:Performing perform_action_for_all_contexts with action EvaluationActions.EVALUATE_COMPUTATIONS on filtered_session with filter named \"maze1_even\"...\n",
      "INFO:com.PhoHale.Spike3D.pipeline:WARNING: skipping computation because overwrite_extant_results=False and active_computation_results[maze1_even] already exists and is non-None\n",
      "INFO:com.PhoHale.Spike3D.pipeline:\t TODO: this will prevent recomputation even when the excludelist/includelist or computation function definitions change. Rework so that this is smarter.\n",
      "INFO:com.PhoHale.Spike3D.pipeline:Performing perform_action_for_all_contexts with action EvaluationActions.EVALUATE_COMPUTATIONS on filtered_session with filter named \"maze2_even\"...\n",
      "INFO:com.PhoHale.Spike3D.pipeline:WARNING: skipping computation because overwrite_extant_results=False and active_computation_results[maze2_even] already exists and is non-None\n",
      "INFO:com.PhoHale.Spike3D.pipeline:\t TODO: this will prevent recomputation even when the excludelist/includelist or computation function definitions change. Rework so that this is smarter.\n",
      "INFO:com.PhoHale.Spike3D.pipeline:Performing perform_action_for_all_contexts with action EvaluationActions.EVALUATE_COMPUTATIONS on filtered_session with filter named \"maze_even\"...\n",
      "INFO:com.PhoHale.Spike3D.pipeline:WARNING: skipping computation because overwrite_extant_results=False and active_computation_results[maze_even] already exists and is non-None\n",
      "INFO:com.PhoHale.Spike3D.pipeline:\t TODO: this will prevent recomputation even when the excludelist/includelist or computation function definitions change. Rework so that this is smarter.\n",
      "INFO:com.PhoHale.Spike3D.pipeline:Performing perform_action_for_all_contexts with action EvaluationActions.EVALUATE_COMPUTATIONS on filtered_session with filter named \"maze1_any\"...\n",
      "INFO:com.PhoHale.Spike3D.pipeline:WARNING: skipping computation because overwrite_extant_results=False and active_computation_results[maze1_any] already exists and is non-None\n",
      "INFO:com.PhoHale.Spike3D.pipeline:\t TODO: this will prevent recomputation even when the excludelist/includelist or computation function definitions change. Rework so that this is smarter.\n",
      "INFO:com.PhoHale.Spike3D.pipeline:Performing perform_action_for_all_contexts with action EvaluationActions.EVALUATE_COMPUTATIONS on filtered_session with filter named \"maze2_any\"...\n",
      "INFO:com.PhoHale.Spike3D.pipeline:WARNING: skipping computation because overwrite_extant_results=False and active_computation_results[maze2_any] already exists and is non-None\n",
      "INFO:com.PhoHale.Spike3D.pipeline:\t TODO: this will prevent recomputation even when the excludelist/includelist or computation function definitions change. Rework so that this is smarter.\n",
      "INFO:com.PhoHale.Spike3D.pipeline:Performing perform_action_for_all_contexts with action EvaluationActions.EVALUATE_COMPUTATIONS on filtered_session with filter named \"maze_any\"...\n",
      "INFO:com.PhoHale.Spike3D.pipeline:WARNING: skipping computation because overwrite_extant_results=False and active_computation_results[maze_any] already exists and is non-None\n",
      "INFO:com.PhoHale.Spike3D.pipeline:\t TODO: this will prevent recomputation even when the excludelist/includelist or computation function definitions change. Rework so that this is smarter.\n",
      "INFO:com.PhoHale.Spike3D.pipeline:Performing global computations...\n",
      "INFO:com.PhoHale.Spike3D.pipeline:select_filters(...) with: []\n",
      "INFO:com.PhoHale.Spike3D.pipeline:Performing perform_action_for_all_contexts with action EvaluationActions.EVALUATE_COMPUTATIONS on filtered_session with filter named \"maze1_odd\"...\n",
      "INFO:com.PhoHale.Spike3D.pipeline:WARNING: skipping computation because overwrite_extant_results=False and active_computation_results[maze1_odd] already exists and is non-None\n",
      "INFO:com.PhoHale.Spike3D.pipeline:\t TODO: this will prevent recomputation even when the excludelist/includelist or computation function definitions change. Rework so that this is smarter.\n",
      "INFO:com.PhoHale.Spike3D.pipeline:Performing perform_action_for_all_contexts with action EvaluationActions.EVALUATE_COMPUTATIONS on filtered_session with filter named \"maze2_odd\"...\n",
      "INFO:com.PhoHale.Spike3D.pipeline:WARNING: skipping computation because overwrite_extant_results=False and active_computation_results[maze2_odd] already exists and is non-None\n",
      "INFO:com.PhoHale.Spike3D.pipeline:\t TODO: this will prevent recomputation even when the excludelist/includelist or computation function definitions change. Rework so that this is smarter.\n",
      "INFO:com.PhoHale.Spike3D.pipeline:Performing perform_action_for_all_contexts with action EvaluationActions.EVALUATE_COMPUTATIONS on filtered_session with filter named \"maze_odd\"...\n",
      "INFO:com.PhoHale.Spike3D.pipeline:WARNING: skipping computation because overwrite_extant_results=False and active_computation_results[maze_odd] already exists and is non-None\n",
      "INFO:com.PhoHale.Spike3D.pipeline:\t TODO: this will prevent recomputation even when the excludelist/includelist or computation function definitions change. Rework so that this is smarter.\n",
      "INFO:com.PhoHale.Spike3D.pipeline:Performing perform_action_for_all_contexts with action EvaluationActions.EVALUATE_COMPUTATIONS on filtered_session with filter named \"maze1_even\"...\n",
      "INFO:com.PhoHale.Spike3D.pipeline:WARNING: skipping computation because overwrite_extant_results=False and active_computation_results[maze1_even] already exists and is non-None\n",
      "INFO:com.PhoHale.Spike3D.pipeline:\t TODO: this will prevent recomputation even when the excludelist/includelist or computation function definitions change. Rework so that this is smarter.\n",
      "INFO:com.PhoHale.Spike3D.pipeline:Performing perform_action_for_all_contexts with action EvaluationActions.EVALUATE_COMPUTATIONS on filtered_session with filter named \"maze2_even\"...\n",
      "INFO:com.PhoHale.Spike3D.pipeline:WARNING: skipping computation because overwrite_extant_results=False and active_computation_results[maze2_even] already exists and is non-None\n",
      "INFO:com.PhoHale.Spike3D.pipeline:\t TODO: this will prevent recomputation even when the excludelist/includelist or computation function definitions change. Rework so that this is smarter.\n",
      "INFO:com.PhoHale.Spike3D.pipeline:Performing perform_action_for_all_contexts with action EvaluationActions.EVALUATE_COMPUTATIONS on filtered_session with filter named \"maze_even\"...\n",
      "INFO:com.PhoHale.Spike3D.pipeline:WARNING: skipping computation because overwrite_extant_results=False and active_computation_results[maze_even] already exists and is non-None\n",
      "INFO:com.PhoHale.Spike3D.pipeline:\t TODO: this will prevent recomputation even when the excludelist/includelist or computation function definitions change. Rework so that this is smarter.\n",
      "INFO:com.PhoHale.Spike3D.pipeline:Performing perform_action_for_all_contexts with action EvaluationActions.EVALUATE_COMPUTATIONS on filtered_session with filter named \"maze1_any\"...\n",
      "INFO:com.PhoHale.Spike3D.pipeline:WARNING: skipping computation because overwrite_extant_results=False and active_computation_results[maze1_any] already exists and is non-None\n",
      "INFO:com.PhoHale.Spike3D.pipeline:\t TODO: this will prevent recomputation even when the excludelist/includelist or computation function definitions change. Rework so that this is smarter.\n",
      "INFO:com.PhoHale.Spike3D.pipeline:Performing perform_action_for_all_contexts with action EvaluationActions.EVALUATE_COMPUTATIONS on filtered_session with filter named \"maze2_any\"...\n",
      "INFO:com.PhoHale.Spike3D.pipeline:WARNING: skipping computation because overwrite_extant_results=False and active_computation_results[maze2_any] already exists and is non-None\n",
      "INFO:com.PhoHale.Spike3D.pipeline:\t TODO: this will prevent recomputation even when the excludelist/includelist or computation function definitions change. Rework so that this is smarter.\n",
      "INFO:com.PhoHale.Spike3D.pipeline:Performing perform_action_for_all_contexts with action EvaluationActions.EVALUATE_COMPUTATIONS on filtered_session with filter named \"maze_any\"...\n",
      "INFO:com.PhoHale.Spike3D.pipeline:WARNING: skipping computation because overwrite_extant_results=False and active_computation_results[maze_any] already exists and is non-None\n",
      "INFO:com.PhoHale.Spike3D.pipeline:\t TODO: this will prevent recomputation even when the excludelist/includelist or computation function definitions change. Rework so that this is smarter.\n",
      "INFO:com.PhoHale.Spike3D.pipeline:Performing global computations...\n",
      "INFO:com.PhoHale.Spike3D.pipeline:select_filters(...) with: []\n",
      "INFO:com.PhoHale.Spike3D.pipeline:Performing perform_action_for_all_contexts with action EvaluationActions.EVALUATE_COMPUTATIONS on filtered_session with filter named \"maze1_odd\"...\n",
      "INFO:com.PhoHale.Spike3D.pipeline:WARNING: skipping computation because overwrite_extant_results=False and active_computation_results[maze1_odd] already exists and is non-None\n",
      "INFO:com.PhoHale.Spike3D.pipeline:\t TODO: this will prevent recomputation even when the excludelist/includelist or computation function definitions change. Rework so that this is smarter.\n",
      "INFO:com.PhoHale.Spike3D.pipeline:Performing perform_action_for_all_contexts with action EvaluationActions.EVALUATE_COMPUTATIONS on filtered_session with filter named \"maze2_odd\"...\n",
      "INFO:com.PhoHale.Spike3D.pipeline:WARNING: skipping computation because overwrite_extant_results=False and active_computation_results[maze2_odd] already exists and is non-None\n",
      "INFO:com.PhoHale.Spike3D.pipeline:\t TODO: this will prevent recomputation even when the excludelist/includelist or computation function definitions change. Rework so that this is smarter.\n",
      "INFO:com.PhoHale.Spike3D.pipeline:Performing perform_action_for_all_contexts with action EvaluationActions.EVALUATE_COMPUTATIONS on filtered_session with filter named \"maze_odd\"...\n",
      "INFO:com.PhoHale.Spike3D.pipeline:WARNING: skipping computation because overwrite_extant_results=False and active_computation_results[maze_odd] already exists and is non-None\n",
      "INFO:com.PhoHale.Spike3D.pipeline:\t TODO: this will prevent recomputation even when the excludelist/includelist or computation function definitions change. Rework so that this is smarter.\n",
      "INFO:com.PhoHale.Spike3D.pipeline:Performing perform_action_for_all_contexts with action EvaluationActions.EVALUATE_COMPUTATIONS on filtered_session with filter named \"maze1_even\"...\n",
      "INFO:com.PhoHale.Spike3D.pipeline:WARNING: skipping computation because overwrite_extant_results=False and active_computation_results[maze1_even] already exists and is non-None\n",
      "INFO:com.PhoHale.Spike3D.pipeline:\t TODO: this will prevent recomputation even when the excludelist/includelist or computation function definitions change. Rework so that this is smarter.\n",
      "INFO:com.PhoHale.Spike3D.pipeline:Performing perform_action_for_all_contexts with action EvaluationActions.EVALUATE_COMPUTATIONS on filtered_session with filter named \"maze2_even\"...\n",
      "INFO:com.PhoHale.Spike3D.pipeline:WARNING: skipping computation because overwrite_extant_results=False and active_computation_results[maze2_even] already exists and is non-None\n",
      "INFO:com.PhoHale.Spike3D.pipeline:\t TODO: this will prevent recomputation even when the excludelist/includelist or computation function definitions change. Rework so that this is smarter.\n",
      "INFO:com.PhoHale.Spike3D.pipeline:Performing perform_action_for_all_contexts with action EvaluationActions.EVALUATE_COMPUTATIONS on filtered_session with filter named \"maze_even\"...\n",
      "INFO:com.PhoHale.Spike3D.pipeline:WARNING: skipping computation because overwrite_extant_results=False and active_computation_results[maze_even] already exists and is non-None\n",
      "INFO:com.PhoHale.Spike3D.pipeline:\t TODO: this will prevent recomputation even when the excludelist/includelist or computation function definitions change. Rework so that this is smarter.\n",
      "INFO:com.PhoHale.Spike3D.pipeline:Performing perform_action_for_all_contexts with action EvaluationActions.EVALUATE_COMPUTATIONS on filtered_session with filter named \"maze1_any\"...\n",
      "INFO:com.PhoHale.Spike3D.pipeline:WARNING: skipping computation because overwrite_extant_results=False and active_computation_results[maze1_any] already exists and is non-None\n"
     ]
    },
    {
     "name": "stdout",
     "output_type": "stream",
     "text": [
      "done.\n",
      "Loading pickled pipeline success: W:\\Data\\KDIBA\\gor01\\one\\2006-6-09_1-22-43\\loadedSessPickle.pkl.\n",
      "properties already present in pickled version. No need to save.\n",
      "pipeline load success!\n",
      "using provided computation_functions_name_includelist: ['pf_computation', 'firing_rate_trends', 'position_decoding']\n",
      "WARNING: skipping computation because overwrite_extant_results=False and active_computation_results[maze1_odd] already exists and is non-None\n",
      "\t TODO: this will prevent recomputation even when the excludelist/includelist or computation function definitions change. Rework so that this is smarter.\n",
      "WARNING: skipping computation because overwrite_extant_results=False and active_computation_results[maze2_odd] already exists and is non-None\n",
      "\t TODO: this will prevent recomputation even when the excludelist/includelist or computation function definitions change. Rework so that this is smarter.\n",
      "WARNING: skipping computation because overwrite_extant_results=False and active_computation_results[maze_odd] already exists and is non-None\n",
      "\t TODO: this will prevent recomputation even when the excludelist/includelist or computation function definitions change. Rework so that this is smarter.\n",
      "WARNING: skipping computation because overwrite_extant_results=False and active_computation_results[maze1_even] already exists and is non-None\n",
      "\t TODO: this will prevent recomputation even when the excludelist/includelist or computation function definitions change. Rework so that this is smarter.\n",
      "WARNING: skipping computation because overwrite_extant_results=False and active_computation_results[maze2_even] already exists and is non-None\n",
      "\t TODO: this will prevent recomputation even when the excludelist/includelist or computation function definitions change. Rework so that this is smarter.\n",
      "WARNING: skipping computation because overwrite_extant_results=False and active_computation_results[maze_even] already exists and is non-None\n",
      "\t TODO: this will prevent recomputation even when the excludelist/includelist or computation function definitions change. Rework so that this is smarter.\n",
      "WARNING: skipping computation because overwrite_extant_results=False and active_computation_results[maze1_any] already exists and is non-None\n",
      "\t TODO: this will prevent recomputation even when the excludelist/includelist or computation function definitions change. Rework so that this is smarter.\n",
      "WARNING: skipping computation because overwrite_extant_results=False and active_computation_results[maze2_any] already exists and is non-None\n",
      "\t TODO: this will prevent recomputation even when the excludelist/includelist or computation function definitions change. Rework so that this is smarter.\n",
      "WARNING: skipping computation because overwrite_extant_results=False and active_computation_results[maze_any] already exists and is non-None\n",
      "\t TODO: this will prevent recomputation even when the excludelist/includelist or computation function definitions change. Rework so that this is smarter.\n",
      "WARNING: skipping computation because overwrite_extant_results=False and active_computation_results[maze1_odd] already exists and is non-None\n",
      "\t TODO: this will prevent recomputation even when the excludelist/includelist or computation function definitions change. Rework so that this is smarter.\n",
      "WARNING: skipping computation because overwrite_extant_results=False and active_computation_results[maze2_odd] already exists and is non-None\n",
      "\t TODO: this will prevent recomputation even when the excludelist/includelist or computation function definitions change. Rework so that this is smarter.\n",
      "WARNING: skipping computation because overwrite_extant_results=False and active_computation_results[maze_odd] already exists and is non-None\n",
      "\t TODO: this will prevent recomputation even when the excludelist/includelist or computation function definitions change. Rework so that this is smarter.\n",
      "WARNING: skipping computation because overwrite_extant_results=False and active_computation_results[maze1_even] already exists and is non-None\n",
      "\t TODO: this will prevent recomputation even when the excludelist/includelist or computation function definitions change. Rework so that this is smarter.\n",
      "WARNING: skipping computation because overwrite_extant_results=False and active_computation_results[maze2_even] already exists and is non-None\n",
      "\t TODO: this will prevent recomputation even when the excludelist/includelist or computation function definitions change. Rework so that this is smarter.\n",
      "WARNING: skipping computation because overwrite_extant_results=False and active_computation_results[maze_even] already exists and is non-None\n",
      "\t TODO: this will prevent recomputation even when the excludelist/includelist or computation function definitions change. Rework so that this is smarter.\n",
      "WARNING: skipping computation because overwrite_extant_results=False and active_computation_results[maze1_any] already exists and is non-None\n",
      "\t TODO: this will prevent recomputation even when the excludelist/includelist or computation function definitions change. Rework so that this is smarter.\n",
      "WARNING: skipping computation because overwrite_extant_results=False and active_computation_results[maze2_any] already exists and is non-None\n",
      "\t TODO: this will prevent recomputation even when the excludelist/includelist or computation function definitions change. Rework so that this is smarter.\n",
      "WARNING: skipping computation because overwrite_extant_results=False and active_computation_results[maze_any] already exists and is non-None\n",
      "\t TODO: this will prevent recomputation even when the excludelist/includelist or computation function definitions change. Rework so that this is smarter.\n",
      "WARNING: skipping computation because overwrite_extant_results=False and active_computation_results[maze1_odd] already exists and is non-None\n",
      "\t TODO: this will prevent recomputation even when the excludelist/includelist or computation function definitions change. Rework so that this is smarter.\n",
      "WARNING: skipping computation because overwrite_extant_results=False and active_computation_results[maze2_odd] already exists and is non-None\n",
      "\t TODO: this will prevent recomputation even when the excludelist/includelist or computation function definitions change. Rework so that this is smarter.\n",
      "WARNING: skipping computation because overwrite_extant_results=False and active_computation_results[maze_odd] already exists and is non-None\n",
      "\t TODO: this will prevent recomputation even when the excludelist/includelist or computation function definitions change. Rework so that this is smarter.\n",
      "WARNING: skipping computation because overwrite_extant_results=False and active_computation_results[maze1_even] already exists and is non-None\n",
      "\t TODO: this will prevent recomputation even when the excludelist/includelist or computation function definitions change. Rework so that this is smarter.\n",
      "WARNING: skipping computation because overwrite_extant_results=False and active_computation_results[maze2_even] already exists and is non-None\n",
      "\t TODO: this will prevent recomputation even when the excludelist/includelist or computation function definitions change. Rework so that this is smarter.\n",
      "WARNING: skipping computation because overwrite_extant_results=False and active_computation_results[maze_even] already exists and is non-None\n",
      "\t TODO: this will prevent recomputation even when the excludelist/includelist or computation function definitions change. Rework so that this is smarter.\n"
     ]
    },
    {
     "name": "stderr",
     "output_type": "stream",
     "text": [
      "INFO:com.PhoHale.Spike3D.pipeline:\t TODO: this will prevent recomputation even when the excludelist/includelist or computation function definitions change. Rework so that this is smarter.\n",
      "INFO:com.PhoHale.Spike3D.pipeline:Performing perform_action_for_all_contexts with action EvaluationActions.EVALUATE_COMPUTATIONS on filtered_session with filter named \"maze2_any\"...\n",
      "INFO:com.PhoHale.Spike3D.pipeline:WARNING: skipping computation because overwrite_extant_results=False and active_computation_results[maze2_any] already exists and is non-None\n",
      "INFO:com.PhoHale.Spike3D.pipeline:\t TODO: this will prevent recomputation even when the excludelist/includelist or computation function definitions change. Rework so that this is smarter.\n",
      "INFO:com.PhoHale.Spike3D.pipeline:Performing perform_action_for_all_contexts with action EvaluationActions.EVALUATE_COMPUTATIONS on filtered_session with filter named \"maze_any\"...\n",
      "INFO:com.PhoHale.Spike3D.pipeline:WARNING: skipping computation because overwrite_extant_results=False and active_computation_results[maze_any] already exists and is non-None\n",
      "INFO:com.PhoHale.Spike3D.pipeline:\t TODO: this will prevent recomputation even when the excludelist/includelist or computation function definitions change. Rework so that this is smarter.\n",
      "INFO:com.PhoHale.Spike3D.pipeline:Performing global computations...\n",
      "INFO:com.PhoHale.Spike3D.pipeline:NeuropyPipeline.on_stage_changed(new_stage=\"PipelineStage.Displayed\")\n",
      "WARNING:com.PhoHale.Spike3D.pipeline:WARNING: saving_mode is SKIP_SAVING so pipeline will not be saved despite calling .save_pipeline(...).\n"
     ]
    },
    {
     "name": "stdout",
     "output_type": "stream",
     "text": [
      "WARNING: skipping computation because overwrite_extant_results=False and active_computation_results[maze1_any] already exists and is non-None\n",
      "\t TODO: this will prevent recomputation even when the excludelist/includelist or computation function definitions change. Rework so that this is smarter.\n",
      "WARNING: skipping computation because overwrite_extant_results=False and active_computation_results[maze2_any] already exists and is non-None\n",
      "\t TODO: this will prevent recomputation even when the excludelist/includelist or computation function definitions change. Rework so that this is smarter.\n",
      "WARNING: skipping computation because overwrite_extant_results=False and active_computation_results[maze_any] already exists and is non-None\n",
      "\t TODO: this will prevent recomputation even when the excludelist/includelist or computation function definitions change. Rework so that this is smarter.\n",
      "WARNING: saving_mode is SKIP_SAVING so pipeline will not be saved despite calling .save_pipeline(...).\n",
      "saving_mode.shouldSave == False, so not saving at the end of batch_load_session\n",
      "DEPRICATION WARNING: workaround to allow subscripting ComputationResult objects. Will be depricated. key: computed_data\n",
      "DEPRICATION WARNING: workaround to allow subscripting ComputationResult objects. Will be depricated. key: computed_data\n",
      "DEPRICATION WARNING: workaround to allow subscripting ComputationResult objects. Will be depricated. key: computed_data\n",
      "DEPRICATION WARNING: workaround to allow subscripting ComputationResult objects. Will be depricated. key: computed_data\n",
      "DEPRICATION WARNING: workaround to allow subscripting ComputationResult objects. Will be depricated. key: computed_data\n",
      "DEPRICATION WARNING: workaround to allow subscripting ComputationResult objects. Will be depricated. key: computed_data\n",
      "were pipeline preprocessing parameters missing and updated?: False\n"
     ]
    }
   ],
   "source": [
    "# ==================================================================================================================== #\n",
    "# Load Data                                                                                                            #\n",
    "# ==================================================================================================================== #\n",
    "\n",
    "active_data_mode_name = 'kdiba'\n",
    "local_session_root_parent_context = IdentifyingContext(format_name=active_data_mode_name) # , animal_name='', configuration_name='one', session_name=a_sess.session_name\n",
    "local_session_root_parent_path = global_data_root_parent_path.joinpath('KDIBA')\n",
    "\n",
    "# [*] - indicates bad or session with a problem\n",
    "# 0, 1, 2, 3, 4, 5, 6, 7, [8], [9], 10, 11, [12], 13, 14, [15], [16], 17, \n",
    "# curr_context: IdentifyingContext = good_contexts_list[1] # select the session from all of the good sessions here.\n",
    "# curr_context = IdentifyingContext(format_name='kdiba',animal='gor01',exper_name='one',session_name='2006-6-08_14-26-15') # DONE. Very good. Many good Pfs, many good replays.\n",
    "curr_context = IdentifyingContext(format_name='kdiba',animal='gor01',exper_name='one',session_name='2006-6-09_1-22-43') # DONE, might be the BEST SESSION, good example session with lots of place cells, clean replays, and clear bar graphs.\n",
    "# curr_context = IdentifyingContext(format_name='kdiba',animal='gor01',exper_name='one',session_name='2006-6-12_15-55-31') # DONE, Good Pfs but no good replays\n",
    "# curr_context = IdentifyingContext(format_name='kdiba',animal='gor01',exper_name='one',session_name='2006-6-13_14-42-6') # BAD, 2023-07-14, unsure why still.\n",
    "# curr_context = IdentifyingContext(format_name='kdiba',animal='gor01',exper_name='two',session_name='2006-6-07_16-40-19') # DONE, GREAT, both good Pfs and replays!\n",
    "# curr_context = IdentifyingContext(format_name='kdiba',animal='gor01',exper_name='two',session_name='2006-6-08_21-16-25') # DONE, Added replay selections. Very \"jumpy\" between the starts and ends of the track.\n",
    "# curr_context = IdentifyingContext(format_name='kdiba',animal='gor01',exper_name='two',session_name='2006-6-09_22-24-40') # DONE, Added replay selections. A TON of putative replays in general, most bad, but some good.\n",
    "# curr_context = IdentifyingContext(format_name='kdiba',animal='gor01',exper_name='twolong_LR_pf1Dsession_name='2006-4-12_15-25-59') # BAD, No Epochs\n",
    "# curr_context = IdentifyingContext(format_name='kdiba',animal='vvp01',exper_name='two',session_name='2006-4-16_18-47-52')\n",
    "# curr_context = IdentifyingContext(format_name='kdiba',animal='vvp01',exper_name='two',session_name='2006-4-17_12-52-15')\n",
    "# curr_context = IdentifyingContext(format_name='kdiba',animal='vvp01',exper_name='two',session_name='2006-4-25_13-20-55')\n",
    "# curr_context = IdentifyingContext(format_name='kdiba',animal='vvp01',exper_name='two',session_name='2006-4-28_12-38-13')\n",
    "# curr_context = IdentifyingContext(format_name='kdiba',animal='pin01',exper_name='one',session_name='11-02_17-46-44') # DONE, good. Many good pfs, many good replays. Noticed very strange jumping off the track in the 3D behavior/spikes viewer. Is there something wrong with this session?\n",
    "# curr_context = IdentifyingContext(format_name='kdiba',animal='pin01',exper_name='one',session_name='11-02_19-28-0') # DONE, good?, replays selected, few\n",
    "# curr_context = IdentifyingContext(format_name='kdiba',animal='pin01',exper_name='one',session_name='11-03_12-3-25') # DONE, very few replays\n",
    "# curr_context = IdentifyingContext(format_name='kdiba',animal='pin01',exper_name='one',session_name='11-09_12-15-3')\n",
    "# curr_context = IdentifyingContext(format_name='kdiba',animal='pin01',exper_name='one',session_name='11-09_22-4-5')\n",
    "# curr_context = IdentifyingContext(format_name='kdiba',animal='pin01',exper_name='one',session_name='fet11-01_12-58-54') # DONE, replays selected, quite a few replays but few are very good.\n",
    "\n",
    "# curr_context = IdentifyingContext(format_name='kdiba',animal='gor01',exper_name='two',session_name='2006-6-08_21-16-25')\n",
    "\n",
    "local_session_parent_path: Path = local_session_root_parent_path.joinpath(curr_context.animal, curr_context.exper_name) # 'gor01', 'one' - probably not needed anymore\n",
    "basedir: Path = local_session_parent_path.joinpath(curr_context.session_name).resolve()\n",
    "print(f'basedir: {str(basedir)}')\n",
    "\n",
    "# Read if possible:\n",
    "saving_mode = PipelineSavingScheme.SKIP_SAVING\n",
    "force_reload = False\n",
    "# \n",
    "# # Force write:\n",
    "# saving_mode = PipelineSavingScheme.TEMP_THEN_OVERWRITE\n",
    "# saving_mode = PipelineSavingScheme.OVERWRITE_IN_PLACE\n",
    "# force_reload = True\n",
    "\n",
    "## TODO: if loading is not possible, we need to change the `saving_mode` so that the new results are properly saved.\n",
    "\n",
    "# ==================================================================================================================== #\n",
    "# Load Pipeline                                                                                                        #\n",
    "# ==================================================================================================================== #\n",
    "# with VizTracer(output_file=f\"viztracer_{get_now_time_str()}-full_session_LOO_decoding_analysis.json\", min_duration=200, tracer_entries=3000000, ignore_frozen=True) as tracer:\n",
    "# epoch_name_includelist = ['maze']\n",
    "epoch_name_includelist = None\n",
    "active_computation_functions_name_includelist=['pf_computation',\n",
    "                                            #    'pfdt_computation',\n",
    "                                                'firing_rate_trends',\n",
    "                                                # 'pf_dt_sequential_surprise', \n",
    "                                            #    'ratemap_peaks_prominence2d',\n",
    "                                                'position_decoding', \n",
    "                                                # 'position_decoding_two_step', \n",
    "                                            #    'long_short_decoding_analyses', 'jonathan_firing_rate_analysis', 'long_short_fr_indicies_analyses', 'short_long_pf_overlap_analyses', 'long_short_post_decoding', 'long_short_rate_remapping',\n",
    "                                            #     'long_short_inst_spike_rate_groups',\n",
    "                                            #     'long_short_endcap_analysis',\n",
    "                                            # 'split_to_directional_laps',\n",
    "]\n",
    "\n",
    "curr_active_pipeline: NeuropyPipeline = batch_load_session(global_data_root_parent_path, active_data_mode_name, basedir, epoch_name_includelist=epoch_name_includelist,\n",
    "                                        computation_functions_name_includelist=active_computation_functions_name_includelist,\n",
    "                                        saving_mode=saving_mode, force_reload=force_reload,\n",
    "                                        skip_extended_batch_computations=True, debug_print=False, fail_on_exception=True) # , active_pickle_filename = 'loadedSessPickle_withParameters.pkl'\n",
    "\n",
    "\n",
    "\n",
    "## Post Compute Validate 2023-05-16:\n",
    "was_updated = BatchSessionCompletionHandler.post_compute_validate(curr_active_pipeline) ## TODO: need to potentially re-save if was_updated. This will fail because constained versions not ran yet.\n",
    "if was_updated:\n",
    "    print(f'was_updated: {was_updated}')\n",
    "    try:\n",
    "        curr_active_pipeline.save_pipeline(saving_mode=saving_mode)\n",
    "    except Exception as e:\n",
    "        ## TODO: catch/log saving error and indicate that it isn't saved.\n",
    "        exception_info = sys.exc_info()\n",
    "        e = CapturedException(e, exception_info)\n",
    "        print(f'ERROR RE-SAVING PIPELINE after update. error: {e}')\n"
   ]
  },
  {
   "cell_type": "code",
   "execution_count": 14,
   "id": "acba46b6",
   "metadata": {
    "ExecuteTime": {
     "end_time": "2023-11-16T23:21:40.574268400Z",
     "start_time": "2023-11-16T23:21:35.966373700Z"
    },
    "notebookRunGroups": {
     "groupValue": "1"
    }
   },
   "outputs": [
    {
     "name": "stdout",
     "output_type": "stream",
     "text": [
      "Loading loaded session pickle file results : W:\\Data\\KDIBA\\gor01\\one\\2006-6-09_1-22-43\\output\\global_computation_results.pkl... done.\n",
      "included includelist is specified: ['pf_computation', 'firing_rate_trends', 'long_short_decoding_analyses', 'jonathan_firing_rate_analysis', 'long_short_fr_indicies_analyses', 'short_long_pf_overlap_analyses', 'long_short_post_decoding', 'long_short_endcap_analysis', 'split_to_directional_laps', 'rank_order_shuffle_analysis'], so only performing these extended computations.\n",
      "Running batch_extended_computations(...) with global_epoch_name: \"maze_any\"\n",
      "pf_computation, maze_any already computed.\n",
      "firing_rate_trends, maze_any already computed.\n",
      "split_to_directional_laps, maze_any already computed.\n",
      "rank_order_shuffle_analysis, maze_any already computed.\n",
      "long_short_decoding_analyses, maze_any already computed.\n",
      "short_long_pf_overlap_analyses, maze_any already computed.\n",
      "long_short_fr_indicies_analyses, maze_any already computed.\n",
      "jonathan_firing_rate_analysis, maze_any already computed.\n",
      "long_short_post_decoding, maze_any already computed.\n",
      "long_short_endcap_analysis, maze_any already computed.\n",
      "done with all batch_extended_computations(...).\n",
      "no changes in global results.\n"
     ]
    },
    {
     "data": {
      "application/vnd.jupyter.widget-view+json": {
       "model_id": "0988f221720b42d79a12b155e8fe4d2d",
       "version_major": 2,
       "version_minor": 0
      },
      "text/plain": [
       "VBox(children=(Box(children=(Label(value='session path:', layout=Layout(width='auto')), Label(value='W:\\\\Data\\…"
      ]
     },
     "execution_count": 14,
     "metadata": {},
     "output_type": "execute_result"
    }
   ],
   "source": [
    "### GLOBAL COMPUTATIONS:\n",
    "if not force_reload: # not just force_reload, needs to recompute whenever the computation fails.\n",
    "    try:\n",
    "        curr_active_pipeline.load_pickled_global_computation_results()\n",
    "    except Exception as e:\n",
    "        exception_info = sys.exc_info()\n",
    "        e = CapturedException(e, exception_info)\n",
    "        print(f'cannot load global results: {e}')\n",
    "        raise\n",
    "\n",
    "curr_active_pipeline.reload_default_computation_functions()\n",
    "\n",
    "extended_computations_include_includelist=['pf_computation', 'firing_rate_trends', # 'pfdt_computation',\n",
    "    # 'pf_dt_sequential_surprise',\n",
    "    #  'ratemap_peaks_prominence2d',\n",
    "    'long_short_decoding_analyses', 'jonathan_firing_rate_analysis', 'long_short_fr_indicies_analyses', 'short_long_pf_overlap_analyses', 'long_short_post_decoding',\n",
    "    # 'long_short_rate_remapping',\n",
    "    # 'long_short_inst_spike_rate_groups',\n",
    "    'long_short_endcap_analysis',\n",
    "    # 'spike_burst_detection',\n",
    "    'split_to_directional_laps',\n",
    "    'rank_order_shuffle_analysis'\n",
    "] # do only specified\n",
    "\n",
    "force_recompute_global = force_reload\n",
    "# force_recompute_global = True\n",
    "newly_computed_values = batch_extended_computations(curr_active_pipeline, include_includelist=extended_computations_include_includelist, include_global_functions=True, fail_on_exception=True, progress_print=True, force_recompute=force_recompute_global, debug_print=False)\n",
    "if (len(newly_computed_values) > 0):\n",
    "    print(f'newly_computed_values: {newly_computed_values}.')\n",
    "    if (saving_mode.value != 'skip_saving'):\n",
    "        print(f'Saving global results...')\n",
    "        try:\n",
    "            # curr_active_pipeline.global_computation_results.persist_time = datetime.now()\n",
    "            # Try to write out the global computation function results:\n",
    "            curr_active_pipeline.save_global_computation_results()\n",
    "        except Exception as e:\n",
    "            exception_info = sys.exc_info()\n",
    "            e = CapturedException(e, exception_info)\n",
    "            print(f'\\n\\n!!WARNING!!: saving the global results threw the exception: {e}')\n",
    "            print(f'\\tthe global results are currently unsaved! proceed with caution and save as soon as you can!\\n\\n\\n')\n",
    "    else:\n",
    "        print(f'\\n\\n!!WARNING!!: changes to global results have been made but they will not be saved since saving_mode.value == \"skip_saving\"')\n",
    "        print(f'\\tthe global results are currently unsaved! proceed with caution and save as soon as you can!\\n\\n\\n')\n",
    "else:\n",
    "    print(f'no changes in global results.')\n",
    "\n",
    "# except Exception as e:\n",
    "#     exception_info = sys.exc_info()\n",
    "#     e = CapturedException(e, exception_info)\n",
    "#     print(f'second half threw: {e}')\n",
    "\n",
    "\n",
    "# 4m 5.2s for inst fr computations\n",
    "# Jupyter Widget Interactive\n",
    "import ipywidgets as widgets\n",
    "from IPython.display import display\n",
    "from pyphocorehelpers.Filesystem.open_in_system_file_manager import reveal_in_system_file_manager\n",
    "from pyphoplacecellanalysis.GUI.IPyWidgets.pipeline_ipywidgets import interactive_pipeline_widget, interactive_pipeline_files\n",
    "\n",
    "_pipeline_jupyter_widget = interactive_pipeline_widget(curr_active_pipeline=curr_active_pipeline)\n",
    "# display(_pipeline_jupyter_widget)\n",
    "_pipeline_jupyter_widget"
   ]
  },
  {
   "cell_type": "code",
   "execution_count": null,
   "id": "ee3d4f61",
   "metadata": {},
   "outputs": [],
   "source": [
    "curr_active_pipeline.save_global_computation_results()"
   ]
  },
  {
   "cell_type": "code",
   "execution_count": null,
   "id": "e5cbb6cf",
   "metadata": {},
   "outputs": [],
   "source": [
    "curr_active_pipeline.export_pipeline_to_h5()"
   ]
  },
  {
   "cell_type": "code",
   "execution_count": null,
   "id": "e3f06d1f",
   "metadata": {},
   "outputs": [],
   "source": [
    "curr_active_pipeline.clear_display_outputs()\n",
    "curr_active_pipeline.clear_registered_output_files()"
   ]
  },
  {
   "cell_type": "code",
   "execution_count": null,
   "id": "837f39f2",
   "metadata": {},
   "outputs": [],
   "source": [
    "curr_active_pipeline.save_pipeline(saving_mode=PipelineSavingScheme.TEMP_THEN_OVERWRITE)"
   ]
  },
  {
   "cell_type": "markdown",
   "id": "1fe54599",
   "metadata": {},
   "source": [
    "# End Run"
   ]
  },
  {
   "cell_type": "code",
   "execution_count": 15,
   "id": "1a533ba8",
   "metadata": {
    "ExecuteTime": {
     "end_time": "2023-11-16T23:21:40.700275900Z",
     "start_time": "2023-11-16T23:21:40.584273Z"
    },
    "notebookRunGroups": {
     "groupValue": "1"
    }
   },
   "outputs": [],
   "source": [
    "# (long_one_step_decoder_1D, short_one_step_decoder_1D), (long_one_step_decoder_2D, short_one_step_decoder_2D) = compute_short_long_constrained_decoders(curr_active_pipeline, recalculate_anyway=True)\n",
    "long_epoch_name, short_epoch_name, global_epoch_name = curr_active_pipeline.find_LongShortGlobal_epoch_names()\n",
    "long_epoch_context, short_epoch_context, global_epoch_context = [curr_active_pipeline.filtered_contexts[a_name] for a_name in (long_epoch_name, short_epoch_name, global_epoch_name)]\n",
    "long_epoch_obj, short_epoch_obj = [Epoch(curr_active_pipeline.sess.epochs.to_dataframe().epochs.label_slice(an_epoch_name.removesuffix('_any'))) for an_epoch_name in [long_epoch_name, short_epoch_name]] #TODO 2023-11-10 20:41: - [ ] Issue with getting actual Epochs from sess.epochs for directional laps: emerges because long_epoch_name: 'maze1_any' and the actual epoch label in curr_active_pipeline.sess.epochs is 'maze1' without the '_any' part.\n",
    "long_session, short_session, global_session = [curr_active_pipeline.filtered_sessions[an_epoch_name] for an_epoch_name in [long_epoch_name, short_epoch_name, global_epoch_name]]\n",
    "long_results, short_results, global_results = [curr_active_pipeline.computation_results[an_epoch_name].computed_data for an_epoch_name in [long_epoch_name, short_epoch_name, global_epoch_name]]\n",
    "long_computation_config, short_computation_config, global_computation_config = [curr_active_pipeline.computation_results[an_epoch_name].computation_config for an_epoch_name in [long_epoch_name, short_epoch_name, global_epoch_name]]\n",
    "long_pf1D, short_pf1D, global_pf1D = long_results.pf1D, short_results.pf1D, global_results.pf1D\n",
    "long_pf2D, short_pf2D, global_pf2D = long_results.pf2D, short_results.pf2D, global_results.pf2D\n",
    "\n",
    "assert short_epoch_obj.n_epochs > 0, f'long_epoch_obj: {long_epoch_obj}, short_epoch_obj: {short_epoch_obj}'\n",
    "assert long_epoch_obj.n_epochs > 0, f'long_epoch_obj: {long_epoch_obj}, short_epoch_obj: {short_epoch_obj}'"
   ]
  },
  {
   "cell_type": "code",
   "execution_count": 16,
   "id": "9071e94f",
   "metadata": {
    "ExecuteTime": {
     "end_time": "2023-11-16T23:21:43.601382Z",
     "start_time": "2023-11-16T23:21:40.702275600Z"
    },
    "notebookRunGroups": {
     "groupValue": "1"
    }
   },
   "outputs": [
    {
     "name": "stdout",
     "output_type": "stream",
     "text": [
      "WARN: 2023-09-28 16:15: - [ ] fix the combination properties. Would work if we directly used the computed _is_L_only and _is_S_only above\n",
      "WARNING: PAPER_FIGURE_figure_1_add_replay_epoch_rasters(...): no user-assigned manually labeled replay epochs. Reeturning all epochs.\n",
      "WARN: 2023-09-28 16:15: - [ ] fix the combination properties. Would work if we directly used the computed _is_L_only and _is_S_only above\n"
     ]
    }
   ],
   "source": [
    "## long_short_decoding_analyses:\n",
    "curr_long_short_decoding_analyses = curr_active_pipeline.global_computation_results.computed_data['long_short_leave_one_out_decoding_analysis']\n",
    "long_one_step_decoder_1D, short_one_step_decoder_1D, long_replays, short_replays, global_replays, long_shared_aclus_only_decoder, short_shared_aclus_only_decoder, shared_aclus, long_short_pf_neurons_diff, n_neurons, long_results_obj, short_results_obj, is_global = curr_long_short_decoding_analyses.long_decoder, curr_long_short_decoding_analyses.short_decoder, curr_long_short_decoding_analyses.long_replays, curr_long_short_decoding_analyses.short_replays, curr_long_short_decoding_analyses.global_replays, curr_long_short_decoding_analyses.long_shared_aclus_only_decoder, curr_long_short_decoding_analyses.short_shared_aclus_only_decoder, curr_long_short_decoding_analyses.shared_aclus, curr_long_short_decoding_analyses.long_short_pf_neurons_diff, curr_long_short_decoding_analyses.n_neurons, curr_long_short_decoding_analyses.long_results_obj, curr_long_short_decoding_analyses.short_results_obj, curr_long_short_decoding_analyses.is_global \n",
    "decoding_time_bin_size = long_one_step_decoder_1D.time_bin_size # 1.0/30.0 # 0.03333333333333333\n",
    "\n",
    "## Get global `long_short_fr_indicies_analysis`:\n",
    "long_short_fr_indicies_analysis_results = curr_active_pipeline.global_computation_results.computed_data['long_short_fr_indicies_analysis']\n",
    "long_laps, long_replays, short_laps, short_replays, global_laps, global_replays = [long_short_fr_indicies_analysis_results[k] for k in ['long_laps', 'long_replays', 'short_laps', 'short_replays', 'global_laps', 'global_replays']]\n",
    "long_short_fr_indicies_df = long_short_fr_indicies_analysis_results['long_short_fr_indicies_df']\n",
    "\n",
    "## Get global 'long_short_post_decoding' results:\n",
    "curr_long_short_post_decoding = curr_active_pipeline.global_computation_results.computed_data['long_short_post_decoding']\n",
    "expected_v_observed_result, curr_long_short_rr = curr_long_short_post_decoding.expected_v_observed_result, curr_long_short_post_decoding.rate_remapping\n",
    "rate_remapping_df, high_remapping_cells_only = curr_long_short_rr.rr_df, curr_long_short_rr.high_only_rr_df\n",
    "Flat_epoch_time_bins_mean, Flat_decoder_time_bin_centers, num_neurons, num_timebins_in_epoch, num_total_flat_timebins, is_short_track_epoch, is_long_track_epoch, short_short_diff, long_long_diff = expected_v_observed_result.Flat_epoch_time_bins_mean, expected_v_observed_result.Flat_decoder_time_bin_centers, expected_v_observed_result.num_neurons, expected_v_observed_result.num_timebins_in_epoch, expected_v_observed_result.num_total_flat_timebins, expected_v_observed_result.is_short_track_epoch, expected_v_observed_result.is_long_track_epoch, expected_v_observed_result.short_short_diff, expected_v_observed_result.long_long_diff\n",
    "\n",
    "jonathan_firing_rate_analysis_result: JonathanFiringRateAnalysisResult = curr_active_pipeline.global_computation_results.computed_data.jonathan_firing_rate_analysis\n",
    "(epochs_df_L, epochs_df_S), (filter_epoch_spikes_df_L, filter_epoch_spikes_df_S), (good_example_epoch_indicies_L, good_example_epoch_indicies_S), (short_exclusive, long_exclusive, BOTH_subset, EITHER_subset, XOR_subset, NEITHER_subset), new_all_aclus_sort_indicies, assigning_epochs_obj = PAPER_FIGURE_figure_1_add_replay_epoch_rasters(curr_active_pipeline)\n",
    "neuron_replay_stats_df, short_exclusive, long_exclusive, BOTH_subset, EITHER_subset, XOR_subset, NEITHER_subset = jonathan_firing_rate_analysis_result.get_cell_track_partitions(frs_index_inclusion_magnitude=0.05)\n",
    "\n",
    "## Update long_exclusive/short_exclusive properties with `long_short_fr_indicies_df`\n",
    "# long_exclusive.refine_exclusivity_by_inst_frs_index(long_short_fr_indicies_df, frs_index_inclusion_magnitude=0.5)\n",
    "# short_exclusive.refine_exclusivity_by_inst_frs_index(long_short_fr_indicies_df, frs_index_inclusion_magnitude=0.5)\n"
   ]
  },
  {
   "cell_type": "code",
   "execution_count": 17,
   "id": "c49f5d4f",
   "metadata": {
    "notebookRunGroups": {
     "groupValue": "1"
    }
   },
   "outputs": [],
   "source": [
    "# Unpack all directional variables:\n",
    "## {\"even\": \"RL\", \"odd\": \"LR\"}\n",
    "long_LR_name, short_LR_name, global_LR_name, long_RL_name, short_RL_name, global_RL_name, long_any_name, short_any_name, global_any_name = ['maze1_odd', 'maze2_odd', 'maze_odd', 'maze1_even', 'maze2_even', 'maze_even', 'maze1_any', 'maze2_any', 'maze_any']\n",
    "\n",
    "# Most popular\n",
    "# long_LR_name, short_LR_name, long_RL_name, short_RL_name, global_any_name\n",
    "\n",
    "# Unpacking for `(long_LR_name, long_RL_name, short_LR_name, short_RL_name)`\n",
    "(long_LR_context, long_RL_context, short_LR_context, short_RL_context) = [curr_active_pipeline.filtered_contexts[a_name] for a_name in (long_LR_name, long_RL_name, short_LR_name, short_RL_name)]\n",
    "long_LR_epochs_obj, long_RL_epochs_obj, short_LR_epochs_obj, short_RL_epochs_obj, global_any_laps_epochs_obj = [curr_active_pipeline.computation_results[an_epoch_name].computation_config.pf_params.computation_epochs for an_epoch_name in (long_LR_name, long_RL_name, short_LR_name, short_RL_name, global_any_name)] # note has global also\n",
    "(long_LR_session, long_RL_session, short_LR_session, short_RL_session) = [curr_active_pipeline.filtered_sessions[an_epoch_name] for an_epoch_name in (long_LR_name, long_RL_name, short_LR_name, short_RL_name)] # sessions are correct at least, seems like just the computation parameters are messed up\n",
    "(long_LR_results, long_RL_results, short_LR_results, short_RL_results) = [curr_active_pipeline.computation_results[an_epoch_name].computed_data for an_epoch_name in (long_LR_name, long_RL_name, short_LR_name, short_RL_name)]\n",
    "(long_LR_computation_config, long_RL_computation_config, short_LR_computation_config, short_RL_computation_config) = [curr_active_pipeline.computation_results[an_epoch_name].computation_config for an_epoch_name in (long_LR_name, long_RL_name, short_LR_name, short_RL_name)]\n",
    "(long_LR_pf1D, long_RL_pf1D, short_LR_pf1D, short_RL_pf1D) = (long_LR_results.pf1D, long_RL_results.pf1D, short_LR_results.pf1D, short_RL_results.pf1D)\n",
    "(long_LR_pf2D, long_RL_pf2D, short_LR_pf2D, short_RL_pf2D) = (long_LR_results.pf2D, long_RL_results.pf2D, short_LR_results.pf2D, short_RL_results.pf2D)\n",
    "(long_LR_pf1D_Decoder, long_RL_pf1D_Decoder, short_LR_pf1D_Decoder, short_RL_pf1D_Decoder) = (long_LR_results.pf1D_Decoder, long_RL_results.pf1D_Decoder, short_LR_results.pf1D_Decoder, short_RL_results.pf1D_Decoder)\n"
   ]
  },
  {
   "cell_type": "code",
   "execution_count": 18,
   "id": "7104fc37",
   "metadata": {
    "notebookRunGroups": {
     "groupValue": "1"
    }
   },
   "outputs": [
    {
     "name": "stdout",
     "output_type": "stream",
     "text": [
      "minimum_inclusion_fr_Hz: 5.0\n",
      "included_qclu_values: [1, 2]\n"
     ]
    }
   ],
   "source": [
    "directional_laps_results = curr_active_pipeline.global_computation_results.computed_data['DirectionalLaps']\n",
    "rank_order_results: RankOrderComputationsContainer = curr_active_pipeline.global_computation_results.computed_data['RankOrder']\n",
    "minimum_inclusion_fr_Hz: float = rank_order_results.minimum_inclusion_fr_Hz\n",
    "included_qclu_values: float = rank_order_results.included_qclu_values\n",
    "print(f'minimum_inclusion_fr_Hz: {minimum_inclusion_fr_Hz}')\n",
    "print(f'included_qclu_values: {included_qclu_values}')"
   ]
  },
  {
   "cell_type": "code",
   "execution_count": 19,
   "id": "fa2dc5fe",
   "metadata": {
    "notebookRunGroups": {
     "groupValue": "1"
    }
   },
   "outputs": [],
   "source": [
    "# NEW 2023-11-22 method: Get the templates (which can be filtered by frate first) and the from those get the decoders):        \n",
    "# track_templates: TrackTemplates = directional_laps_results.get_shared_aclus_only_templates(minimum_inclusion_fr_Hz=minimum_inclusion_fr_Hz) # shared-only\n",
    "track_templates: TrackTemplates = directional_laps_results.get_templates(minimum_inclusion_fr_Hz=minimum_inclusion_fr_Hz) # non-shared-only\n",
    "long_LR_decoder, long_RL_decoder, short_LR_decoder, short_RL_decoder = track_templates.get_decoders()\n",
    "\n",
    "# Unpack all directional variables:\n",
    "## {\"even\": \"RL\", \"odd\": \"LR\"}\n",
    "long_LR_name, short_LR_name, global_LR_name, long_RL_name, short_RL_name, global_RL_name, long_any_name, short_any_name, global_any_name = ['maze1_odd', 'maze2_odd', 'maze_odd', 'maze1_even', 'maze2_even', 'maze_even', 'maze1_any', 'maze2_any', 'maze_any']\n",
    "# Unpacking for `(long_LR_name, long_RL_name, short_LR_name, short_RL_name)`\n",
    "(long_LR_context, long_RL_context, short_LR_context, short_RL_context) = [curr_active_pipeline.filtered_contexts[a_name] for a_name in (long_LR_name, long_RL_name, short_LR_name, short_RL_name)]\n",
    "long_LR_epochs_obj, long_RL_epochs_obj, short_LR_epochs_obj, short_RL_epochs_obj, global_any_laps_epochs_obj = [curr_active_pipeline.computation_results[an_epoch_name].computation_config.pf_params.computation_epochs for an_epoch_name in (long_LR_name, long_RL_name, short_LR_name, short_RL_name, global_any_name)] # note has global also\n",
    "(long_LR_session, long_RL_session, short_LR_session, short_RL_session) = [curr_active_pipeline.filtered_sessions[an_epoch_name] for an_epoch_name in (long_LR_name, long_RL_name, short_LR_name, short_RL_name)] # sessions are correct at least, seems like just the computation parameters are messed up\n",
    "(long_LR_results, long_RL_results, short_LR_results, short_RL_results) = [curr_active_pipeline.computation_results[an_epoch_name].computed_data for an_epoch_name in (long_LR_name, long_RL_name, short_LR_name, short_RL_name)]\n",
    "(long_LR_computation_config, long_RL_computation_config, short_LR_computation_config, short_RL_computation_config) = [curr_active_pipeline.computation_results[an_epoch_name].computation_config for an_epoch_name in (long_LR_name, long_RL_name, short_LR_name, short_RL_name)]\n",
    "(long_LR_pf1D, long_RL_pf1D, short_LR_pf1D, short_RL_pf1D) = (long_LR_results.pf1D, long_RL_results.pf1D, short_LR_results.pf1D, short_RL_results.pf1D)\n",
    "(long_LR_pf2D, long_RL_pf2D, short_LR_pf2D, short_RL_pf2D) = (long_LR_results.pf2D, long_RL_results.pf2D, short_LR_results.pf2D, short_RL_results.pf2D)\n",
    "(long_LR_pf1D_Decoder, long_RL_pf1D_Decoder, short_LR_pf1D_Decoder, short_RL_pf1D_Decoder) = (long_LR_results.pf1D_Decoder, long_RL_results.pf1D_Decoder, short_LR_results.pf1D_Decoder, short_RL_results.pf1D_Decoder)\n",
    "\n",
    "LR_results_real_values = np.array([(long_stats_z_scorer.real_value, short_stats_z_scorer.real_value) for epoch_id, (long_stats_z_scorer, short_stats_z_scorer, long_short_z_diff, long_short_naive_z_diff, is_forward_replay) in rank_order_results.LR_ripple.ranked_aclus_stats_dict.items()])\n",
    "RL_results_real_values = np.array([(long_stats_z_scorer.real_value, short_stats_z_scorer.real_value) for epoch_id, (long_stats_z_scorer, short_stats_z_scorer, long_short_z_diff, long_short_naive_z_diff, is_forward_replay) in rank_order_results.RL_ripple.ranked_aclus_stats_dict.items()])\n",
    "\n",
    "LR_results_long_short_z_diffs = np.array([long_short_z_diff for epoch_id, (long_stats_z_scorer, short_stats_z_scorer, long_short_z_diff, long_short_naive_z_diff, is_forward_replay) in rank_order_results.LR_ripple.ranked_aclus_stats_dict.items()])\n",
    "RL_results_long_short_z_diff = np.array([long_short_z_diff for epoch_id, (long_stats_z_scorer, short_stats_z_scorer, long_short_z_diff, long_short_naive_z_diff, is_forward_replay) in rank_order_results.RL_ripple.ranked_aclus_stats_dict.items()])"
   ]
  },
  {
   "cell_type": "code",
   "execution_count": null,
   "id": "c260739a4f36c662",
   "metadata": {},
   "outputs": [],
   "source": [
    "active_burst_intervals = curr_active_pipeline.computation_results[global_epoch_name].computed_data['burst_detection']['burst_intervals']\n",
    "# active_burst_intervals"
   ]
  },
  {
   "cell_type": "code",
   "execution_count": null,
   "id": "769a1c6006aba5b7",
   "metadata": {},
   "outputs": [],
   "source": [
    "# Relative Entropy/Surprise Results:\n",
    "active_extended_stats = global_results['extended_stats']\n",
    "active_relative_entropy_results = active_extended_stats['pf_dt_sequential_surprise'] # DynamicParameters\n",
    "historical_snapshots = active_relative_entropy_results['historical_snapshots']\n",
    "post_update_times: np.ndarray = active_relative_entropy_results['post_update_times'] # (4152,) = (n_post_update_times,)\n",
    "snapshot_differences_result_dict = active_relative_entropy_results['snapshot_differences_result_dict']\n",
    "time_intervals: np.ndarray = active_relative_entropy_results['time_intervals']\n",
    "surprise_time_bin_duration = (post_update_times[2]-post_update_times[1])\n",
    "long_short_rel_entr_curves_frames: np.ndarray = active_relative_entropy_results['long_short_rel_entr_curves_frames'] # (4152, 108, 63) = (n_post_update_times, n_neurons, n_xbins)\n",
    "short_long_rel_entr_curves_frames: np.ndarray = active_relative_entropy_results['short_long_rel_entr_curves_frames'] # (4152, 108, 63) = (n_post_update_times, n_neurons, n_xbins)\n",
    "flat_relative_entropy_results: np.ndarray = active_relative_entropy_results['flat_relative_entropy_results'] # (149, 63) - (nSnapshots, nXbins)\n",
    "flat_jensen_shannon_distance_results: np.ndarray = active_relative_entropy_results['flat_jensen_shannon_distance_results'] # (149, 63) - (nSnapshots, nXbins)\n",
    "flat_jensen_shannon_distance_across_all_positions: np.ndarray = np.sum(np.abs(flat_jensen_shannon_distance_results), axis=1) # sum across all position bins # (4152,) - (nSnapshots)\n",
    "flat_surprise_across_all_positions: np.ndarray = np.sum(np.abs(flat_relative_entropy_results), axis=1) # sum across all position bins # (4152,) - (nSnapshots)\n",
    "\n",
    "## Get the placefield dt matrix:\n",
    "if 'snapshot_occupancy_weighted_tuning_maps' not in active_relative_entropy_results:\n",
    "\t## Compute it if missing:\n",
    "\toccupancy_weighted_tuning_maps_over_time = np.stack([placefield_snapshot.occupancy_weighted_tuning_maps_matrix for placefield_snapshot in historical_snapshots.values()])\n",
    "\tactive_relative_entropy_results['snapshot_occupancy_weighted_tuning_maps'] = occupancy_weighted_tuning_maps_over_time\n",
    "else:\n",
    "\toccupancy_weighted_tuning_maps_over_time = active_relative_entropy_results['snapshot_occupancy_weighted_tuning_maps'] # (n_post_update_times, n_neurons, n_xbins)\n"
   ]
  },
  {
   "cell_type": "code",
   "execution_count": null,
   "id": "9554d3bf5955d9d3",
   "metadata": {},
   "outputs": [],
   "source": [
    "# Time-dependent\n",
    "long_pf1D_dt, short_pf1D_dt, global_pf1D_dt = long_results.pf1D_dt, short_results.pf1D_dt, global_results.pf1D_dt\n",
    "long_pf2D_dt, short_pf2D_dt, global_pf2D_dt = long_results.pf2D_dt, short_results.pf2D_dt, global_results.pf2D_dt\n",
    "global_pf1D_dt: PfND_TimeDependent = global_results.pf1D_dt\n",
    "global_pf2D_dt: PfND_TimeDependent = global_results.pf2D_dt"
   ]
  },
  {
   "cell_type": "code",
   "execution_count": null,
   "id": "8624c62d5c18c556",
   "metadata": {},
   "outputs": [],
   "source": [
    "## long_short_endcap_analysis: checks for cells localized to the endcaps that have their placefields truncated after shortening the track\n",
    "truncation_checking_result: TruncationCheckingResults = curr_active_pipeline.global_computation_results.computed_data.long_short_endcap\n",
    "disappearing_endcap_aclus = truncation_checking_result.disappearing_endcap_aclus\n",
    "# disappearing_endcap_aclus\n",
    "trivially_remapping_endcap_aclus = truncation_checking_result.minor_remapping_endcap_aclus\n",
    "# trivially_remapping_endcap_aclus\n",
    "significant_distant_remapping_endcap_aclus = truncation_checking_result.significant_distant_remapping_endcap_aclus\n",
    "# significant_distant_remapping_endcap_aclus\n",
    "appearing_aclus = jonathan_firing_rate_analysis_result.neuron_replay_stats_df[jonathan_firing_rate_analysis_result.neuron_replay_stats_df['track_membership'] == SplitPartitionMembership.RIGHT_ONLY].index\n",
    "# appearing_aclus"
   ]
  },
  {
   "cell_type": "code",
   "execution_count": null,
   "id": "aabbbaf1",
   "metadata": {},
   "outputs": [],
   "source": [
    "epoch_active_aclus = np.array([9,  26,  31,  39,  40,  43,  47,  52,  53,  54,  60,  61,  65,  68,  72,  75,  77,  78,  81,  82,  84,  85,  90,  92,  93,  98, 102])\n",
    "\n",
    "\n",
    "curr_active_pipeline.filtered_contexts['maze1_odd']\n",
    "curr_active_pipeline.computation_results['maze1_odd']"
   ]
  },
  {
   "cell_type": "code",
   "execution_count": null,
   "id": "cbf30c04",
   "metadata": {},
   "outputs": [],
   "source": [
    "curr_active_pipeline.prepare_for_display()\n",
    "curr_active_pipeline.display('_display_1d_placefields', 'maze1_odd') # , 'maze1_odd'\n"
   ]
  },
  {
   "cell_type": "code",
   "execution_count": null,
   "id": "bcc832fb",
   "metadata": {},
   "outputs": [],
   "source": [
    "from pyphoplacecellanalysis.General.Mixins.ExportHelpers import programmatic_render_to_file\n",
    "\n",
    "programmatic_render_to_file(curr_active_pipeline, curr_display_function_name='_display_1d_placefields', write_vector_format=True, write_png=True, debug_print=True)"
   ]
  },
  {
   "cell_type": "code",
   "execution_count": null,
   "id": "6314950a",
   "metadata": {},
   "outputs": [],
   "source": [
    "curr_active_pipeline.reload_default_display_functions()\n",
    "curr_active_pipeline.prepare_for_display()"
   ]
  },
  {
   "cell_type": "code",
   "execution_count": null,
   "id": "b0ccab8b",
   "metadata": {},
   "outputs": [],
   "source": [
    "\n",
    "_out = curr_active_pipeline.display('_display_1d_placefields', 'maze_any')\n"
   ]
  },
  {
   "cell_type": "code",
   "execution_count": null,
   "id": "606e9164",
   "metadata": {},
   "outputs": [],
   "source": [
    "_out"
   ]
  },
  {
   "cell_type": "code",
   "execution_count": null,
   "id": "357f844b",
   "metadata": {},
   "outputs": [],
   "source": [
    "curr_active_pipeline.display('_display_1d_placefields', 'maze_any')"
   ]
  },
  {
   "cell_type": "code",
   "execution_count": null,
   "id": "546f7639",
   "metadata": {},
   "outputs": [],
   "source": [
    "curr_active_pipeline.display('_display_placemaps_pyqtplot_2D', 'maze2_odd')"
   ]
  },
  {
   "cell_type": "code",
   "execution_count": null,
   "id": "0aaf32b0",
   "metadata": {},
   "outputs": [],
   "source": [
    "curr_active_pipeline.display('_display_1d_placefields', 'maze2_odd')"
   ]
  },
  {
   "cell_type": "code",
   "execution_count": null,
   "id": "45a6994d",
   "metadata": {},
   "outputs": [],
   "source": [
    "curr_active_pipeline.display('_display_3d_interactive_spike_and_behavior_browser', 'maze1_odd')"
   ]
  },
  {
   "cell_type": "code",
   "execution_count": null,
   "id": "cfbb1191",
   "metadata": {},
   "outputs": [],
   "source": [
    "\n",
    "# Adjust layout to make space for the footer\n",
    "# plt.subplots_adjust(bottom=0.35)\n",
    "\n",
    "plt.tight_layout(pad=2.0)"
   ]
  },
  {
   "cell_type": "code",
   "execution_count": null,
   "id": "885ecb1d",
   "metadata": {},
   "outputs": [],
   "source": [
    "_display_placemaps_pyqtplot_2D"
   ]
  },
  {
   "cell_type": "code",
   "execution_count": null,
   "id": "44a1db23",
   "metadata": {},
   "outputs": [],
   "source": [
    "curr_active_pipeline.registered_display_function_docs_dict"
   ]
  },
  {
   "cell_type": "code",
   "execution_count": null,
   "id": "b558758b",
   "metadata": {},
   "outputs": [],
   "source": [
    "from mpl_multitab import MplMultiTab, MplMultiTab2D\n",
    "from pyphoplacecellanalysis.General.Mixins.ExportHelpers import programmatic_display_to_PDF, programmatic_render_to_file\n",
    "from pyphoplacecellanalysis.PhoPositionalData.plotting.placefield import plot_single_cell_1D_placecell_validation\n",
    "from pyphoplacecellanalysis.PhoPositionalData.plotting.placefield import plot_1d_placecell_validations\n",
    "\n",
    "\n",
    "# matplotlib_configuration_update(is_interactive=True)\n",
    "\n",
    "# curr_active_pipeline.display('_display_grid_bin_bounds_validation')\n",
    "_out = curr_active_pipeline.display('_display_1d_placefield_validations', 'maze1_odd')\n",
    "_out.ui.show()"
   ]
  },
  {
   "cell_type": "code",
   "execution_count": null,
   "id": "7f301b08",
   "metadata": {},
   "outputs": [],
   "source": [
    "\n",
    "programmatic_display_to_PDF(curr_active_pipeline, curr_display_function_name='_display_1d_placefield_validations', filter_name='maze1_odd', debug_print=True)\n",
    "\n",
    "# plt.show()"
   ]
  },
  {
   "cell_type": "code",
   "execution_count": null,
   "id": "3f824cf2",
   "metadata": {},
   "outputs": [],
   "source": [
    "placefield_cell_index = 0\n",
    "active_epoch_placefields1D = deepcopy(long_pf1D)\n",
    "curr_cell_normalized_tuning_curve = active_epoch_placefields1D.ratemap.normalized_tuning_curves[placefield_cell_index, :].squeeze()\n",
    "{'xbin_centers': active_epoch_placefields1D.ratemap.xbin_centers, 'curr_cell_normalized_tuning_curve': curr_cell_normalized_tuning_curve}\n",
    "\n",
    "{'xbin_centers': np.array([31.0565, 34.8495, 38.6426, 42.4356, 46.2286, 50.0216, 53.8147, 57.6077, 61.4007, 65.1937, 68.9867, 72.7798, 76.5728, 80.3658, 84.1588, 87.9519, 91.7449, 95.5379, 99.3309, 103.124, 106.917, 110.71, 114.503, 118.296, 122.089, 125.882, 129.675, 133.468, 137.261, 141.054, 144.847, 148.64, 152.433, 156.226, 160.019, 163.812, 167.605, 171.398, 175.191, 178.984, 182.777, 186.57, 190.363, 194.157, 197.95, 201.743, 205.536, 209.329, 213.122, 216.915, 220.708, 224.501, 228.294, 232.087, 235.88, 239.673, 243.466, 247.259, 251.052, 254.845, 258.638, 262.431]),\n",
    " 'curr_cell_normalized_tuning_curve': np.array([5.92979e-05, 0.000150933, 0.00036895, 0.000736517, 0.00121915, 0.00173714, 0.0022042, 0.00252859, 0.0026496, 0.0027108, 0.00312627, 0.00423033, 0.00579314, 0.00709557, 0.00766535, 0.00789647, 0.00884807, 0.0115452, 0.0165549, 0.0238423, 0.0323681, 0.039895, 0.0442459, 0.0452642, 0.0449909, 0.0457691, 0.0485138, 0.0525281, 0.0562324, 0.0581433, 0.0575758, 0.0544383, 0.0486438, 0.0404683, 0.0315115, 0.0243731, 0.0207242, 0.0199181, 0.0197507, 0.0183449, 0.0153819, 0.0119837, 0.00951012, 0.00827676, 0.00740415, 0.00596512, 0.00396809, 0.00210018, 0.000875453, 0.000302685, 0.000153468, 0.00027615, 0.000667689, 0.00135676, 0.00224608, 0.00305331, 0.0034339, 0.0031979, 0.0024518, 0.00153458, 0.00079294, 0.000405152])}\n"
   ]
  },
  {
   "cell_type": "code",
   "execution_count": null,
   "id": "ff5d7994",
   "metadata": {},
   "outputs": [],
   "source": [
    "# batch_extended_programmatic_figures\n"
   ]
  },
  {
   "cell_type": "code",
   "execution_count": null,
   "id": "40083faa",
   "metadata": {},
   "outputs": [],
   "source": [
    "curr_active_pipeline.display('_display_1d_placefields', 'maze1_odd')"
   ]
  },
  {
   "cell_type": "code",
   "execution_count": null,
   "id": "77344ed3",
   "metadata": {},
   "outputs": [],
   "source": [
    "curr_active_pipeline.display('_display_1d_placefields', 'maze2_even')"
   ]
  },
  {
   "cell_type": "code",
   "execution_count": null,
   "id": "a66fdc07",
   "metadata": {},
   "outputs": [],
   "source": [
    "\n",
    "#TODO 2023-11-29 09:18: - [ ] Not good, the self.filtered_contexts are not unique!\n",
    "list(curr_active_pipeline.filtered_contexts.values())\n",
    "# [IdentifyingContext<(... 'maze2')>, IdentifyingContext<(... 'maze2')>, IdentifyingContext<(..., 'maze')>, IdentifyingContext<(... 'maze2')>, IdentifyingContext<(... 'maze2')>, IdentifyingContext<(..., 'maze')>, IdentifyingContext<(...ze1_any')>, IdentifyingContext<(... 'maze2')>, IdentifyingContext<(..., 'maze')>]\n",
    "[(v == curr_active_pipeline.filtered_contexts['maze1_even']) for v in list(curr_active_pipeline.filtered_contexts.values())]\n",
    "# [True, True, False, True, True, False, False, True, False]\n",
    "# meaning `curr_active_pipeline.display('_display_1d_placefields', curr_active_pipeline.filtered_contexts['maze1_even'])` doesn't work\n",
    "curr_active_pipeline.filtered_contexts.index(curr_active_pipeline.filtered_contexts['maze1_even'])"
   ]
  },
  {
   "cell_type": "code",
   "execution_count": null,
   "id": "8c4e9d82",
   "metadata": {},
   "outputs": [],
   "source": [
    "curr_active_pipeline.display('_display_1d_placefields', 'maze2_odd')\n"
   ]
  },
  {
   "cell_type": "code",
   "execution_count": null,
   "id": "497d3385",
   "metadata": {},
   "outputs": [],
   "source": [
    "write_vector_format = False\n",
    "write_png = True\n",
    "debug_print = True\n",
    "from neuropy.plotting.ratemaps import BackgroundRenderingOptions\n",
    "\n",
    "programmatic_render_to_file(curr_active_pipeline, curr_display_function_name='_display_2d_placefield_result_plot_ratemaps_2D', write_vector_format=write_vector_format, write_png=write_png, debug_print=debug_print, bg_rendering_mode=BackgroundRenderingOptions.EMPTY) #  🟢✅ Now seems to be working and saving to PDF!! Still using matplotlib.use('Qt5Agg') mode and plots still appear.\n"
   ]
  },
  {
   "cell_type": "code",
   "execution_count": null,
   "id": "ce7e9185",
   "metadata": {},
   "outputs": [],
   "source": [
    "_out = curr_active_pipeline.display('_display_2d_placefield_occupancy', 'maze2_any')"
   ]
  },
  {
   "cell_type": "code",
   "execution_count": null,
   "id": "90e90109",
   "metadata": {},
   "outputs": [],
   "source": [
    "_out = curr_active_pipeline.display('_display_2d_placefield_occupancy', 'maze1_any')\n",
    "occupancy_ax = _out.axes #.get_aspect()\n",
    "pf = long_pf2D\n",
    "# pf.xbin\n",
    "# pf.ybin\n",
    "# pf.xbin_centers\n",
    "# pf.ybin_centers\n",
    "\n",
    "# aspect_ratio = np.ptp(pf.xbin) / np.ptp(pf.ybin)  # ptp: peak to peak (range)\n",
    "# aspect_ratio = 0.102803738317757\n",
    "# print(f'aspect_ratio: {aspect_ratio}')\n",
    "# occupancy_ax.set_aspect(aspect_ratio, adjustable='box') # If 'box', change the physical dimensions of the Axes. If 'datalim', change the x or y data limits.\n",
    "\n",
    "\n",
    "## See \n",
    "# https://matplotlib.org/stable/api/_as_gen/matplotlib.axes.Axes.set_anchor.html#\n",
    "\n",
    "\n",
    "occupancy_ax.set_aspect('equal', adjustable=None)\n"
   ]
  },
  {
   "cell_type": "code",
   "execution_count": null,
   "id": "ce50ea4d",
   "metadata": {},
   "outputs": [],
   "source": [
    "occupancy_ax.set_aspect('equal', adjustable='datalim')"
   ]
  },
  {
   "cell_type": "code",
   "execution_count": null,
   "id": "800ecc2e",
   "metadata": {},
   "outputs": [],
   "source": [
    "occupancy_ax.set_aspect('equal', adjustable='box')"
   ]
  },
  {
   "cell_type": "code",
   "execution_count": null,
   "id": "cea7d05b",
   "metadata": {},
   "outputs": [],
   "source": [
    "curr_active_pipeline.reload_default_display_functions()"
   ]
  },
  {
   "cell_type": "code",
   "execution_count": null,
   "id": "f42513c8",
   "metadata": {},
   "outputs": [],
   "source": [
    "programmatic_render_to_file(curr_active_pipeline, curr_display_function_name='_display_2d_placefield_occupancy', write_vector_format=write_vector_format, write_png=write_png, debug_print=debug_print)"
   ]
  },
  {
   "cell_type": "markdown",
   "id": "5a572825",
   "metadata": {},
   "source": [
    "# EVEN: \"RL\", ODD: \"LR\"\n",
    "Starts with Even (idx=0)\n",
    "- EVEN: \"RL\"\n",
    "shared_RL_aclus_only_neuron_IDs\n",
    "`is_even = (an_epoch.lap_dir == 0)`\n",
    "- ODD: \"LR\"\n",
    "shared_LR_aclus_only_neuron_IDs\n",
    "`is_odd = (an_epoch.lap_dir == 1)`"
   ]
  },
  {
   "cell_type": "markdown",
   "id": "9ac0ef2b",
   "metadata": {},
   "source": [
    "# 🟢 2023-10-20 - Z-Score Comparisons with Neuron_ID Shuffled templates\n",
    "1. Take the intersection of the long and short templates to get only the common cells\n",
    "2. Determine the long and short \"tempaltes\": this is done by ranking the aclus for each by their placefields' center of mass. `compute_placefield_center_of_masses`\n",
    "\t2a. `long_pf_peak_ranks`, `short_pf_peak_ranks` - there are one of each of these for each shared aclu.\n",
    "3. Generate the unit_id shuffled (`shuffled_aclus`, `shuffle_IDXs`) ahead of time to use to shuffle the two templates during the epochs.\n",
    "4. For each replay event, take each shuffled template\n",
    "\t4a. Iterate through each shuffle and obtain the shuffled templates like `long_pf_peak_ranks[epoch_specific_shuffled_indicies]`, `short_pf_peak_ranks[epoch_specific_shuffled_indicies]`\n",
    "\t4b. compute the spearman rank-order of the event and each shuffled template, and accumulate the results in `long_spearmanr_rank_stats_results`, `short_spearmanr_rank_stats_results`\n",
    "\n",
    "5. After we're done with the shuffle loop, accumulate the results and convert to the right output format.\n",
    "\n",
    "6. When all epochs are done, loop through the results (the epochs again) and compute the z-scores for each epoch so they can be compared to each other. Keep track of the means and std_dev for comparisons later, and subtract the two sets of z-scores (long/short) to get the delta_Z for each template.\n",
    "\n",
    "7. TODO: Next figure out what to do with the array of z-scores and delta_Z. We have:\n",
    "\tn_epochs sets of results\n",
    "\t\tn_shuffles scores of delta_Z\n",
    "\n"
   ]
  },
  {
   "cell_type": "markdown",
   "id": "87fd9d61",
   "metadata": {},
   "source": [
    "## Convo with Kamran 2023-10-23:\n",
    "- Use directional templates **\n",
    "- No need to worry about re-ranking\n",
    "[X] Plot the long and short separately in addition to the difference, so we show significant reqplay on each as a sanity check\n",
    "[X] Absolute value difference?\n",
    "[X] Fisher transform the correlation values (check if there is a difference) because correlation coefficients aren't going to be normally distributed.\n",
    "\t[ ] Then Z-score releative to fisher.\n",
    "\n",
    "- T-test to compare to mean of zero (if looking at the difference)"
   ]
  },
  {
   "cell_type": "code",
   "execution_count": null,
   "id": "419ffd4a",
   "metadata": {},
   "outputs": [],
   "source": [
    "## Concerns:\n",
    "# 1. Permutation recommended over shuffling for small numbers of ids\n",
    "# 2.\n",
    "\n",
    "# 5Hz thresholding of templates\n"
   ]
  },
  {
   "cell_type": "code",
   "execution_count": 20,
   "id": "fd86cb20",
   "metadata": {
    "ExecuteTime": {
     "end_time": "2023-11-16T23:22:34.093953500Z",
     "start_time": "2023-11-16T23:22:33.960957900Z"
    },
    "notebookRunGroups": {
     "groupValue": "1"
    },
    "slideshow": {
     "slide_type": "fragment"
    }
   },
   "outputs": [],
   "source": [
    "from nptyping import NDArray\n",
    "from attrs import define, field, Factory, astuple\n",
    "import scipy.stats\n",
    "from scipy import ndimage\n",
    "from neuropy.utils.misc import build_shuffled_ids # used in _SHELL_analyze_leave_one_out_decoding_results\n",
    "from pyphoplacecellanalysis.SpecificResults.PhoDiba2023Paper import pho_stats_paired_t_test\n",
    "\n",
    "\n",
    "# minimum_inclusion_fr_Hz: float = 2.0\n",
    "rank_order_results: RankOrderComputationsContainer = curr_active_pipeline.global_computation_results.computed_data['RankOrder']\n",
    "minimum_inclusion_fr_Hz: float = rank_order_results.minimum_inclusion_fr_Hz\n",
    "\n",
    "# Recover from the saved global result:\n",
    "directional_laps_results = curr_active_pipeline.global_computation_results.computed_data['DirectionalLaps']\n",
    "# NEW 2023-11-22 method: Get the templates (which can be filtered by frate first) and the from those get the decoders):        \n",
    "# track_templates: TrackTemplates = directional_laps_results.get_shared_aclus_only_templates(minimum_inclusion_fr_Hz=minimum_inclusion_fr_Hz) # shared-only\n",
    "track_templates: TrackTemplates = directional_laps_results.get_templates(minimum_inclusion_fr_Hz=minimum_inclusion_fr_Hz) # non-shared-only\n",
    "long_LR_decoder, long_RL_decoder, short_LR_decoder, short_RL_decoder = track_templates.get_decoders()\n",
    "\n",
    "## Pre 2023-11-22 method: building a TrackTemplates object after getting the raw decoders:\n",
    "# long_LR_one_step_decoder_1D, long_RL_one_step_decoder_1D, short_LR_one_step_decoder_1D, short_RL_one_step_decoder_1D = directional_laps_results.get_decoders()\n",
    "# long_LR_decoder, long_RL_decoder, short_LR_decoder, short_RL_decoder = directional_laps_results.get_shared_aclus_only_decoders()\n",
    "# track_templates: TrackTemplates = TrackTemplates.init_from_paired_decoders(LR_decoder_pair=(long_LR_decoder, short_LR_decoder), RL_decoder_pair=(long_RL_decoder, short_RL_decoder))\n",
    "# # track_templates: TrackTemplates = TrackTemplates.init_from_paired_decoders(LR_decoder_pair=(long_LR_one_step_decoder_1D, short_LR_one_step_decoder_1D), RL_decoder_pair=(long_RL_one_step_decoder_1D, short_RL_one_step_decoder_1D)) # NOTE: now use the un-constrained versions\n",
    "\n",
    "# Unpack all directional variables:\n",
    "## {\"even\": \"RL\", \"odd\": \"LR\"}\n",
    "long_LR_name, short_LR_name, global_LR_name, long_RL_name, short_RL_name, global_RL_name, long_any_name, short_any_name, global_any_name = ['maze1_odd', 'maze2_odd', 'maze_odd', 'maze1_even', 'maze2_even', 'maze_even', 'maze1_any', 'maze2_any', 'maze_any']\n",
    "# Unpacking for `(long_LR_name, long_RL_name, short_LR_name, short_RL_name)`\n",
    "(long_LR_context, long_RL_context, short_LR_context, short_RL_context) = [curr_active_pipeline.filtered_contexts[a_name] for a_name in (long_LR_name, long_RL_name, short_LR_name, short_RL_name)]\n",
    "long_LR_epochs_obj, long_RL_epochs_obj, short_LR_epochs_obj, short_RL_epochs_obj, global_any_laps_epochs_obj = [curr_active_pipeline.computation_results[an_epoch_name].computation_config.pf_params.computation_epochs for an_epoch_name in (long_LR_name, long_RL_name, short_LR_name, short_RL_name, global_any_name)] # note has global also\n",
    "(long_LR_session, long_RL_session, short_LR_session, short_RL_session) = [curr_active_pipeline.filtered_sessions[an_epoch_name] for an_epoch_name in (long_LR_name, long_RL_name, short_LR_name, short_RL_name)] # sessions are correct at least, seems like just the computation parameters are messed up\n",
    "(long_LR_results, long_RL_results, short_LR_results, short_RL_results) = [curr_active_pipeline.computation_results[an_epoch_name].computed_data for an_epoch_name in (long_LR_name, long_RL_name, short_LR_name, short_RL_name)]\n",
    "(long_LR_computation_config, long_RL_computation_config, short_LR_computation_config, short_RL_computation_config) = [curr_active_pipeline.computation_results[an_epoch_name].computation_config for an_epoch_name in (long_LR_name, long_RL_name, short_LR_name, short_RL_name)]\n",
    "(long_LR_pf1D, long_RL_pf1D, short_LR_pf1D, short_RL_pf1D) = (long_LR_results.pf1D, long_RL_results.pf1D, short_LR_results.pf1D, short_RL_results.pf1D)\n",
    "(long_LR_pf2D, long_RL_pf2D, short_LR_pf2D, short_RL_pf2D) = (long_LR_results.pf2D, long_RL_results.pf2D, short_LR_results.pf2D, short_RL_results.pf2D)\n",
    "(long_LR_pf1D_Decoder, long_RL_pf1D_Decoder, short_LR_pf1D_Decoder, short_RL_pf1D_Decoder) = (long_LR_results.pf1D_Decoder, long_RL_results.pf1D_Decoder, short_LR_results.pf1D_Decoder, short_RL_results.pf1D_Decoder)\n",
    "\n",
    "LR_results_real_values = np.array([(long_stats_z_scorer.real_value, short_stats_z_scorer.real_value) for epoch_id, (long_stats_z_scorer, short_stats_z_scorer, long_short_z_diff, long_short_naive_z_diff, is_forward_replay) in rank_order_results.LR_ripple.ranked_aclus_stats_dict.items()])\n",
    "RL_results_real_values = np.array([(long_stats_z_scorer.real_value, short_stats_z_scorer.real_value) for epoch_id, (long_stats_z_scorer, short_stats_z_scorer, long_short_z_diff, long_short_naive_z_diff, is_forward_replay) in rank_order_results.RL_ripple.ranked_aclus_stats_dict.items()])\n",
    "\n",
    "LR_results_long_short_z_diffs = np.array([long_short_z_diff for epoch_id, (long_stats_z_scorer, short_stats_z_scorer, long_short_z_diff, long_short_naive_z_diff, is_forward_replay) in rank_order_results.LR_ripple.ranked_aclus_stats_dict.items()])\n",
    "RL_results_long_short_z_diff = np.array([long_short_z_diff for epoch_id, (long_stats_z_scorer, short_stats_z_scorer, long_short_z_diff, long_short_naive_z_diff, is_forward_replay) in rank_order_results.RL_ripple.ranked_aclus_stats_dict.items()])\n",
    "\n",
    "\n",
    "# LR_results_real_values"
   ]
  },
  {
   "cell_type": "code",
   "execution_count": null,
   "id": "3ebb454c",
   "metadata": {
    "tags": [
     "histogram"
    ]
   },
   "outputs": [],
   "source": [
    "from pyphoplacecellanalysis.General.Pipeline.Stages.ComputationFunctions.MultiContextComputationFunctions.RankOrderComputations import plot_rank_order_histograms\n",
    "\n",
    "# Plot histograms:\n",
    "post_title_info: str = f'{minimum_inclusion_fr_Hz} Hz\\n{curr_active_pipeline.get_session_context().get_description()}'\n",
    "_out_z_score, _out_real, _out_most_likely_z = plot_rank_order_histograms(rank_order_results, post_title_info=post_title_info)\n"
   ]
  },
  {
   "cell_type": "markdown",
   "id": "b641e1f6",
   "metadata": {},
   "source": [
    "#TODO 2023-12-10 19:56: - [ ] Histogram Display Helpers\n",
    "\n",
    "#TODO 2023-12-10 19:56: - [ ] Pf1D Helpers\n",
    "\n",
    "#TODO 2023-12-10 19:57: - [ ] Variant Saving\n",
    " "
   ]
  },
  {
   "cell_type": "code",
   "execution_count": null,
   "id": "c33ed6d2",
   "metadata": {},
   "outputs": [],
   "source": [
    "track_templates: TrackTemplates = directional_laps_results.get_templates(minimum_inclusion_fr_Hz=0.0) # non-shared-only\n",
    "long_LR_decoder, long_RL_decoder, short_LR_decoder, short_RL_decoder = track_templates.get_decoders()\n",
    "\n",
    "# filtered_decoder_list = [filtered_by_frate(a_decoder, minimum_inclusion_fr_Hz=minimum_inclusion_fr_Hz, debug_print=True) for a_decoder in (long_LR_one_step_decoder_1D, long_RL_one_step_decoder_1D, short_LR_one_step_decoder_1D, short_RL_one_step_decoder_1D)]\n",
    "original_neuron_ids_list = [a_decoder.pf.ratemap.neuron_ids for a_decoder in (long_LR_decoder, long_RL_decoder, short_LR_decoder, short_RL_decoder)]\n",
    "is_aclu_included_list = [a_decoder.pf.ratemap.tuning_curve_unsmoothed_peak_firing_rates >= minimum_inclusion_fr_Hz for a_decoder in (long_LR_decoder, long_RL_decoder, short_LR_decoder, short_RL_decoder)]\n",
    "filtered_aclus_list = [np.array(a_decoder.pf.ratemap.neuron_ids)[a_decoder.pf.ratemap.tuning_curve_unsmoothed_peak_firing_rates >= minimum_inclusion_fr_Hz] for a_decoder in (long_LR_decoder, long_RL_decoder, short_LR_decoder, short_RL_decoder)]\n",
    "\n",
    "## For a given run direction (LR/RL) let's require inclusion in either (OR) long v. short to be included.\n",
    "filtered_included_LR_aclus = np.union1d(filtered_aclus_list[0], filtered_aclus_list[2])\n",
    "filtered_included_RL_aclus = np.union1d(filtered_aclus_list[1], filtered_aclus_list[3])\n",
    "# build the final shared aclus:\n",
    "filtered_direction_shared_aclus_list = [filtered_included_LR_aclus, filtered_included_RL_aclus, filtered_included_LR_aclus, filtered_included_RL_aclus] # contains the shared aclus for that direction\n",
    "# rebuild the is_aclu_included_list from the shared aclus\n",
    "is_aclu_included_list = [np.isin(an_original_neuron_ids, a_filtered_neuron_ids) for an_original_neuron_ids, a_filtered_neuron_ids in zip(original_neuron_ids_list, filtered_direction_shared_aclus_list)]\n",
    "\n",
    "# is_aclu_included_list[0]\n",
    "filtered_direction_shared_aclus_list"
   ]
  },
  {
   "cell_type": "code",
   "execution_count": null,
   "id": "017813cc",
   "metadata": {},
   "outputs": [],
   "source": [
    "# # for 5Hz:\n",
    "# [array([  5,   7,  31,  39,  41,  45,  46,  48,  50,  55,  61,  62,  64,  69,  72,  75,  76,  78,  79,  83,  84,  86,  88,  90,  91,  92,  95,  99, 100, 108]),\n",
    "#  array([  5,   7,   9,  31,  32,  39,  41,  45,  46,  48,  50,  55,  61,  62,  64,  69,  72,  75,  76,  78,  79,  83,  84,  86,  88,  90,  91,  92,  93,  95,  99, 101, 108]),\n",
    "#  array([  5,   7,  31,  39,  41,  45,  46,  48,  50,  55,  61,  62,  64,  69,  72,  75,  76,  78,  79,  83,  84,  86,  88,  90,  91,  92,  95,  99, 100, 108]),\n",
    "#  array([  5,   7,   9,  31,  32,  39,  41,  45,  46,  48,  50,  55,  61,  62,  64,  69,  72,  75,  76,  78,  79,  83,  84,  86,  88,  90,  91,  92,  93,  95,  99, 101, 108])]\n",
    "\n",
    "# # for 20Hz:\n",
    "# [array([  5,  41,  46,  48,  69,  78,  79,  83,  86,  88,  90, 108]),\n",
    "#  array([ 62,  64,  75,  78,  83,  91, 101]),\n",
    "#  array([  5,  41,  46,  48,  69,  78,  79,  83,  86,  88,  90, 108]),\n",
    "#  array([ 62,  64,  75,  78,  83,  91, 101])]"
   ]
  },
  {
   "cell_type": "markdown",
   "id": "f6ccfe1f",
   "metadata": {},
   "source": [
    "# 2023-11-22 - RECOMPUTE"
   ]
  },
  {
   "cell_type": "code",
   "execution_count": null,
   "id": "c22e7090",
   "metadata": {},
   "outputs": [],
   "source": [
    "from pyphoplacecellanalysis.General.Pipeline.Stages.ComputationFunctions.MultiContextComputationFunctions.DirectionalPlacefieldGlobalComputationFunctions import DirectionalLapsHelpers\n",
    "from pyphoplacecellanalysis.General.Pipeline.Stages.ComputationFunctions.MultiContextComputationFunctions.RankOrderComputations import RankOrderGlobalComputationFunctions\n",
    "\n",
    "curr_active_pipeline.reload_default_computation_functions()\n",
    "\n",
    "## clear the old values to prepare for the new ones:\n",
    "curr_active_pipeline.global_computation_results.computed_data['DirectionalLaps'] = None\n",
    "curr_active_pipeline.global_computation_results.computed_data['RankOrder'] = None\n",
    "del curr_active_pipeline.global_computation_results.computed_data['DirectionalLaps']\n",
    "del curr_active_pipeline.global_computation_results.computed_data['RankOrder']\n",
    "\n",
    "\n",
    "curr_active_pipeline.global_computation_results.computed_data['DirectionalLaps'] = DirectionalLapsHelpers.build_global_directional_result_from_natural_epochs(curr_active_pipeline, progress_print=True) # repalce the directional laps object\n",
    "directional_laps_results: DirectionalLapsResult = curr_active_pipeline.global_computation_results.computed_data['DirectionalLaps']\n",
    "\n",
    "minimum_inclusion_fr_Hz = 5.0\n",
    "included_qclu_values = [1,2]\n",
    "\n",
    "# minimum_inclusion_fr_Hz = 1.0\n",
    "# included_qclu_values = [1,2,4,9]\n",
    "\n",
    "# perform_rank_order_shuffle_analysis\n",
    "# with VizTracer(output_file=f\"viztracer_{get_now_time_str()}-perform_rank_order_shuffle_analysis_{curr_active_pipeline.session_name}.json\", min_duration=200, tracer_entries=3000000, ignore_frozen=True) as tracer:\n",
    "RankOrderGlobalComputationFunctions.perform_rank_order_shuffle_analysis(curr_active_pipeline, curr_active_pipeline.global_computation_results, None, None, include_includelist=None, debug_print=True,\n",
    "                                                                        num_shuffles=750, minimum_inclusion_fr_Hz=minimum_inclusion_fr_Hz, included_qclu_values=included_qclu_values, skip_laps=False)\n"
   ]
  },
  {
   "cell_type": "code",
   "execution_count": null,
   "id": "22c50e7e",
   "metadata": {},
   "outputs": [],
   "source": [
    "from pyphoplacecellanalysis.General.Pipeline.Stages.ComputationFunctions.MultiContextComputationFunctions.RankOrderComputations import RankOrderAnalyses\n",
    "\n",
    "directional_laps_results: DirectionalLapsResult = curr_active_pipeline.global_computation_results.computed_data['DirectionalLaps']\n",
    "selected_spikes_df = deepcopy(curr_active_pipeline.global_computation_results.computed_data['RankOrder'].LR_ripple.selected_spikes_df)\n",
    "# active_epochs = global_computation_results.computed_data['RankOrder'].ripple_most_likely_result_tuple.active_epochs\n",
    "active_epochs = deepcopy(curr_active_pipeline.global_computation_results.computed_data['RankOrder'].LR_ripple.epochs_df)\n",
    "track_templates = directional_laps_results.get_templates(minimum_inclusion_fr_Hz=minimum_inclusion_fr_Hz)\n",
    "ripple_combined_epoch_stats_df, ripple_new_output_tuple = RankOrderAnalyses.pandas_df_based_correlation_computations(selected_spikes_df=selected_spikes_df, active_epochs_df=active_epochs, track_templates=track_templates, num_shuffles=5)"
   ]
  },
  {
   "cell_type": "code",
   "execution_count": null,
   "id": "f86d5ac8",
   "metadata": {},
   "outputs": [],
   "source": [
    "rank_order_results: RankOrderComputationsContainer = curr_active_pipeline.global_computation_results.computed_data['RankOrder']\n",
    "minimum_inclusion_fr_Hz: float = rank_order_results.minimum_inclusion_fr_Hz\n",
    "included_qclu_values: List[int] = rank_order_results.included_qclu_values\n",
    "ripple_result_tuple, laps_result_tuple = rank_order_results.ripple_most_likely_result_tuple, rank_order_results.laps_most_likely_result_tuple\n",
    "directional_laps_results: DirectionalLapsResult = curr_active_pipeline.global_computation_results.computed_data['DirectionalLaps']\n",
    "track_templates: TrackTemplates = directional_laps_results.get_templates(minimum_inclusion_fr_Hz=minimum_inclusion_fr_Hz) # non-shared-only -- !! Is minimum_inclusion_fr_Hz=None the issue/difference?\n",
    "print(f'minimum_inclusion_fr_Hz: {minimum_inclusion_fr_Hz}')\n",
    "print(f'included_qclu_values: {included_qclu_values}')\n",
    "\n",
    "# 10m 29.5s for 1000 shuffles.  c:\\Users\\pho\\repos\\Spike3DWorkEnv\\Spike3D\\viztracer_2023-11-22_16-11-perform_rank_order_shuffle_analysis.json\n",
    "\n",
    "# 3m 33.9s - 500\n",
    "# 3m 26.4s - 1000"
   ]
  },
  {
   "cell_type": "code",
   "execution_count": null,
   "id": "d6d74122",
   "metadata": {},
   "outputs": [],
   "source": [
    "_ripples_outputs = RankOrderAnalyses.main_ripples_analysis(curr_active_pipeline, num_shuffles=500, rank_alignment='median', minimum_inclusion_fr_Hz=minimum_inclusion_fr_Hz, included_qclu_values=included_qclu_values)\n",
    "(LR_ripple_outputs, RL_ripple_outputs, ripple_evts_paired_tests) = _ripples_outputs\n"
   ]
  },
  {
   "cell_type": "code",
   "execution_count": null,
   "id": "76178217",
   "metadata": {},
   "outputs": [],
   "source": [
    "# LR_ripple_outputs.epochs_df\n",
    "LR_ripple_outputs.spikes_df"
   ]
  },
  {
   "cell_type": "code",
   "execution_count": null,
   "id": "1d42afeb",
   "metadata": {},
   "outputs": [],
   "source": [
    "RL_ripple_outputs.spikes_df"
   ]
  },
  {
   "cell_type": "code",
   "execution_count": null,
   "id": "5383aae5",
   "metadata": {},
   "outputs": [],
   "source": [
    "LR_ripple_outputs.selected_spikes_df"
   ]
  },
  {
   "cell_type": "code",
   "execution_count": null,
   "id": "f4b664cb",
   "metadata": {},
   "outputs": [],
   "source": [
    "RL_ripple_outputs.\n",
    "\n"
   ]
  },
  {
   "cell_type": "code",
   "execution_count": null,
   "id": "3fc41020",
   "metadata": {},
   "outputs": [],
   "source": [
    "## Ensure equivalence of the two LR_ripple_outputs and RL_ripple_outputs for the fields that matter:\n",
    "assert LR_ripple_outputs.spikes_df.equals(RL_ripple_outputs.spikes_df), f\"spikes_df are not equal\"\n",
    "assert LR_ripple_outputs.selected_spikes_df.equals(RL_ripple_outputs.selected_spikes_df), f\"selected_spikes_df are not equal\"\n",
    "assert LR_ripple_outputs.epochs_df.equals(RL_ripple_outputs.epochs_df), f\"epochs_df are not equal\""
   ]
  },
  {
   "cell_type": "code",
   "execution_count": null,
   "id": "9defd355",
   "metadata": {},
   "outputs": [],
   "source": [
    "_new_rank_order_event_raster_debugger = RankOrderRastersDebugger.init_rank_order_debugger(deepcopy(LR_ripple_outputs.selected_spikes_df), deepcopy(LR_ripple_outputs.epochs_df), track_templates, rank_order_results, None, None)\n",
    "\n"
   ]
  },
  {
   "cell_type": "code",
   "execution_count": null,
   "id": "dfe68671",
   "metadata": {},
   "outputs": [],
   "source": [
    "# TypeError: <lambda>() missing 1 required positional argument\n"
   ]
  },
  {
   "cell_type": "code",
   "execution_count": null,
   "id": "28f1c551",
   "metadata": {},
   "outputs": [],
   "source": [
    "## Recompute just the `most_likely_directional_rank_order_shuffling` part:\n",
    "# from pyphoplacecellanalysis.General.Pipeline.Stages.ComputationFunctions.MultiContextComputationFunctions.RankOrderComputations import RankOrderComputationsContainer\n",
    "# from pyphoplacecellanalysis.General.Pipeline.Stages.ComputationFunctions.MultiContextComputationFunctions.RankOrderComputations import DirectionalRankOrderLikelihoods\n",
    "# from pyphoplacecellanalysis.General.Pipeline.Stages.ComputationFunctions.MultiContextComputationFunctions.RankOrderComputations import RankOrderAnalyses\n",
    "## Main\n",
    "ripple_result_tuple, laps_result_tuple = RankOrderAnalyses.most_likely_directional_rank_order_shuffling(curr_active_pipeline, decoding_time_bin_size=0.003)\n",
    "rank_order_results.ripple_most_likely_result_tuple, rank_order_results.laps_most_likely_result_tuple = ripple_result_tuple, laps_result_tuple"
   ]
  },
  {
   "cell_type": "code",
   "execution_count": null,
   "id": "8d4b9c0f",
   "metadata": {},
   "outputs": [],
   "source": [
    "directional_likelihoods_tuple: DirectionalRankOrderLikelihoods = deepcopy(ripple_result_tuple.directional_likelihoods_tuple)\n",
    "directional_likelihoods_tuple.long_best_direction_indices\n",
    "directional_likelihoods_tuple.short_best_direction_indices\n",
    "# directional_likelihoods_tuple.long_relative_direction_likelihoods"
   ]
  },
  {
   "cell_type": "markdown",
   "id": "426c292d",
   "metadata": {},
   "source": [
    "\n",
    "\n",
    "\n",
    "\n",
    "# Saving/Loading `DirectionalLaps_2Hz`"
   ]
  },
  {
   "cell_type": "code",
   "execution_count": null,
   "id": "ca5d105e",
   "metadata": {},
   "outputs": [],
   "source": [
    "from pyphoplacecellanalysis.General.Pipeline.Stages.ComputationFunctions.MultiContextComputationFunctions.RankOrderComputations import save_rank_order_results"
   ]
  },
  {
   "cell_type": "code",
   "execution_count": null,
   "id": "5ed6c50e",
   "metadata": {
    "tags": [
     "save"
    ]
   },
   "outputs": [],
   "source": []
  },
  {
   "cell_type": "code",
   "execution_count": null,
   "id": "d2230163",
   "metadata": {
    "tags": [
     "load"
    ]
   },
   "outputs": [],
   "source": [
    "from pyphoplacecellanalysis.General.Pipeline.Stages.Loading import loadData\n",
    "\n",
    "# Load the data from a file into the pipeline:\n",
    "# out_filename_str: str = '2023-12-11-minimum_inclusion_fr_Hz_2_included_qclu_values_1-2_' # specific\n",
    "\n",
    "minimum_inclusion_fr_Hz: float = 1.0\n",
    "included_qclu_values: List[int] = [1,2,4,9]\n",
    "out_filename_str = generate_save_suffix(minimum_inclusion_fr_Hz=minimum_inclusion_fr_Hz, included_qclu_values=included_qclu_values, day_date='2023-12-19_530pm')\n",
    "print(f'out_filename_str: \"{out_filename_str}\"')\n",
    "# day_date_str: str = '2023-12-11_with_tuple_newer_'\n",
    "# day_date_str: str = ''\n",
    "directional_laps_output_path = curr_active_pipeline.get_output_path().joinpath(f'{out_filename_str}DirectionalLaps.pkl').resolve()\n",
    "assert directional_laps_output_path.exists()\n",
    "# loaded_directional_laps, loaded_rank_order = loadData(directional_laps_output_path)\n",
    "loaded_directional_laps = loadData(directional_laps_output_path)\n",
    "assert (loaded_directional_laps is not None)\n",
    "# assert (loaded_rank_order is not None)\n",
    "# Apply the loaded data to the pipeline:\n",
    "# curr_active_pipeline.global_computation_results.computed_data['DirectionalLaps'], curr_active_pipeline.global_computation_results.computed_data['RankOrder'] = loaded_directional_laps, loaded_rank_order\n",
    "# curr_active_pipeline.global_computation_results.computed_data['RankOrder']\n"
   ]
  },
  {
   "cell_type": "code",
   "execution_count": null,
   "id": "a4423bc5",
   "metadata": {},
   "outputs": [],
   "source": [
    "rank_order_output_path = curr_active_pipeline.get_output_path().joinpath(f'{out_filename_str}RankOrder.pkl').resolve()\n",
    "loaded_rank_order = loadData(rank_order_output_path)\n",
    "loaded_rank_order\n",
    "# asdict(loaded_directional_laps, recurse=True) == asdict(curr_active_pipeline.global_computation_results.computed_data['DirectionalLaps'], recurse=True)"
   ]
  },
  {
   "cell_type": "code",
   "execution_count": null,
   "id": "cd521ff3",
   "metadata": {},
   "outputs": [],
   "source": [
    "rank_order_results.RL_ripple.selected_spikes_df"
   ]
  },
  {
   "cell_type": "code",
   "execution_count": null,
   "id": "7c0a14f8",
   "metadata": {},
   "outputs": [],
   "source": [
    "rank_order_results.LR_ripple.selected_spikes_df"
   ]
  },
  {
   "cell_type": "markdown",
   "id": "f4ec24467335a760",
   "metadata": {},
   "source": [
    "# POST-Compute:"
   ]
  },
  {
   "cell_type": "code",
   "execution_count": 21,
   "id": "728c46e6",
   "metadata": {
    "notebookRunGroups": {
     "groupValue": "21"
    }
   },
   "outputs": [
    {
     "name": "stdout",
     "output_type": "stream",
     "text": [
      "minimum_inclusion_fr_Hz: 5.0\n",
      "included_qclu_values: [1, 2]\n"
     ]
    },
    {
     "data": {
      "text/html": [
       "<div>\n",
       "<style scoped>\n",
       "    .dataframe tbody tr th:only-of-type {\n",
       "        vertical-align: middle;\n",
       "    }\n",
       "\n",
       "    .dataframe tbody tr th {\n",
       "        vertical-align: top;\n",
       "    }\n",
       "\n",
       "    .dataframe thead th {\n",
       "        text-align: right;\n",
       "    }\n",
       "</style>\n",
       "<table border=\"1\" class=\"dataframe\">\n",
       "  <thead>\n",
       "    <tr style=\"text-align: right;\">\n",
       "      <th></th>\n",
       "      <th>LR_Long_spearman</th>\n",
       "      <th>RL_Long_spearman</th>\n",
       "      <th>LR_Short_spearman</th>\n",
       "      <th>RL_Short_spearman</th>\n",
       "      <th>LR_Long_pearson</th>\n",
       "      <th>RL_Long_pearson</th>\n",
       "      <th>LR_Short_pearson</th>\n",
       "      <th>RL_Short_pearson</th>\n",
       "      <th>LR_Long_spearman_Z</th>\n",
       "      <th>RL_Long_spearman_Z</th>\n",
       "      <th>LR_Short_spearman_Z</th>\n",
       "      <th>RL_Short_spearman_Z</th>\n",
       "      <th>LR_Long_pearson_Z</th>\n",
       "      <th>RL_Long_pearson_Z</th>\n",
       "      <th>LR_Short_pearson_Z</th>\n",
       "      <th>RL_Short_pearson_Z</th>\n",
       "      <th>label</th>\n",
       "    </tr>\n",
       "  </thead>\n",
       "  <tbody>\n",
       "    <tr>\n",
       "      <th>0</th>\n",
       "      <td>-0.289886</td>\n",
       "      <td>0.600000</td>\n",
       "      <td>-0.142857</td>\n",
       "      <td>0.200000</td>\n",
       "      <td>-0.276699</td>\n",
       "      <td>0.255187</td>\n",
       "      <td>-0.052640</td>\n",
       "      <td>0.270244</td>\n",
       "      <td>-0.700573</td>\n",
       "      <td>1.522588</td>\n",
       "      <td>-0.337940</td>\n",
       "      <td>0.504844</td>\n",
       "      <td>-0.668865</td>\n",
       "      <td>0.646215</td>\n",
       "      <td>-0.121958</td>\n",
       "      <td>0.683831</td>\n",
       "      <td>0.0</td>\n",
       "    </tr>\n",
       "    <tr>\n",
       "      <th>1</th>\n",
       "      <td>0.142857</td>\n",
       "      <td>-0.309626</td>\n",
       "      <td>-0.292770</td>\n",
       "      <td>0.470605</td>\n",
       "      <td>-0.003213</td>\n",
       "      <td>-0.373721</td>\n",
       "      <td>-0.350008</td>\n",
       "      <td>0.464134</td>\n",
       "      <td>0.343225</td>\n",
       "      <td>-0.788045</td>\n",
       "      <td>-0.698073</td>\n",
       "      <td>1.190707</td>\n",
       "      <td>-0.009938</td>\n",
       "      <td>-0.950376</td>\n",
       "      <td>-0.835123</td>\n",
       "      <td>1.175891</td>\n",
       "      <td>1.0</td>\n",
       "    </tr>\n",
       "    <tr>\n",
       "      <th>2</th>\n",
       "      <td>-0.737865</td>\n",
       "      <td>0.107143</td>\n",
       "      <td>-0.600000</td>\n",
       "      <td>0.666694</td>\n",
       "      <td>-0.601564</td>\n",
       "      <td>-0.312179</td>\n",
       "      <td>-0.287031</td>\n",
       "      <td>0.303629</td>\n",
       "      <td>-1.781122</td>\n",
       "      <td>0.270632</td>\n",
       "      <td>-1.436125</td>\n",
       "      <td>1.687704</td>\n",
       "      <td>-1.451586</td>\n",
       "      <td>-0.794143</td>\n",
       "      <td>-0.684089</td>\n",
       "      <td>0.768555</td>\n",
       "      <td>2.0</td>\n",
       "    </tr>\n",
       "    <tr>\n",
       "      <th>3</th>\n",
       "      <td>0.657143</td>\n",
       "      <td>0.500000</td>\n",
       "      <td>0.942857</td>\n",
       "      <td>0.800000</td>\n",
       "      <td>0.701677</td>\n",
       "      <td>0.766788</td>\n",
       "      <td>0.990892</td>\n",
       "      <td>0.619848</td>\n",
       "      <td>1.583709</td>\n",
       "      <td>1.268568</td>\n",
       "      <td>2.270249</td>\n",
       "      <td>2.025576</td>\n",
       "      <td>1.688402</td>\n",
       "      <td>1.945000</td>\n",
       "      <td>2.380699</td>\n",
       "      <td>1.571066</td>\n",
       "      <td>3.0</td>\n",
       "    </tr>\n",
       "    <tr>\n",
       "      <th>4</th>\n",
       "      <td>0.445394</td>\n",
       "      <td>0.206612</td>\n",
       "      <td>0.333333</td>\n",
       "      <td>0.234161</td>\n",
       "      <td>0.601733</td>\n",
       "      <td>0.361404</td>\n",
       "      <td>0.443333</td>\n",
       "      <td>0.076471</td>\n",
       "      <td>1.072959</td>\n",
       "      <td>0.523304</td>\n",
       "      <td>0.806003</td>\n",
       "      <td>0.591426</td>\n",
       "      <td>1.447601</td>\n",
       "      <td>0.915864</td>\n",
       "      <td>1.067511</td>\n",
       "      <td>0.192067</td>\n",
       "      <td>4.0</td>\n",
       "    </tr>\n",
       "    <tr>\n",
       "      <th>5</th>\n",
       "      <td>0.316228</td>\n",
       "      <td>0.737865</td>\n",
       "      <td>0.816497</td>\n",
       "      <td>1.000000</td>\n",
       "      <td>0.620064</td>\n",
       "      <td>0.801341</td>\n",
       "      <td>0.958722</td>\n",
       "      <td>0.951276</td>\n",
       "      <td>0.761404</td>\n",
       "      <td>1.872792</td>\n",
       "      <td>1.966696</td>\n",
       "      <td>2.532487</td>\n",
       "      <td>1.491767</td>\n",
       "      <td>2.032717</td>\n",
       "      <td>2.303546</td>\n",
       "      <td>2.412172</td>\n",
       "      <td>5.0</td>\n",
       "    </tr>\n",
       "    <tr>\n",
       "      <th>...</th>\n",
       "      <td>...</td>\n",
       "      <td>...</td>\n",
       "      <td>...</td>\n",
       "      <td>...</td>\n",
       "      <td>...</td>\n",
       "      <td>...</td>\n",
       "      <td>...</td>\n",
       "      <td>...</td>\n",
       "      <td>...</td>\n",
       "      <td>...</td>\n",
       "      <td>...</td>\n",
       "      <td>...</td>\n",
       "      <td>...</td>\n",
       "      <td>...</td>\n",
       "      <td>...</td>\n",
       "      <td>...</td>\n",
       "      <td>...</td>\n",
       "    </tr>\n",
       "    <tr>\n",
       "      <th>273</th>\n",
       "      <td>0.181818</td>\n",
       "      <td>-0.154914</td>\n",
       "      <td>0.542143</td>\n",
       "      <td>0.204993</td>\n",
       "      <td>0.265933</td>\n",
       "      <td>0.384650</td>\n",
       "      <td>0.549011</td>\n",
       "      <td>0.327272</td>\n",
       "      <td>0.437201</td>\n",
       "      <td>-0.395045</td>\n",
       "      <td>1.307621</td>\n",
       "      <td>0.517500</td>\n",
       "      <td>0.638534</td>\n",
       "      <td>0.974878</td>\n",
       "      <td>1.320955</td>\n",
       "      <td>0.828558</td>\n",
       "      <td>274.0</td>\n",
       "    </tr>\n",
       "    <tr>\n",
       "      <th>274</th>\n",
       "      <td>-0.380952</td>\n",
       "      <td>-0.226899</td>\n",
       "      <td>-0.365963</td>\n",
       "      <td>-0.085126</td>\n",
       "      <td>-0.407567</td>\n",
       "      <td>-0.290440</td>\n",
       "      <td>-0.378760</td>\n",
       "      <td>-0.131271</td>\n",
       "      <td>-0.920231</td>\n",
       "      <td>-0.577901</td>\n",
       "      <td>-0.873901</td>\n",
       "      <td>-0.217822</td>\n",
       "      <td>-0.984175</td>\n",
       "      <td>-0.738954</td>\n",
       "      <td>-0.904077</td>\n",
       "      <td>-0.335145</td>\n",
       "      <td>275.0</td>\n",
       "    </tr>\n",
       "    <tr>\n",
       "      <th>275</th>\n",
       "      <td>-0.229412</td>\n",
       "      <td>-0.619276</td>\n",
       "      <td>-0.441005</td>\n",
       "      <td>-0.519946</td>\n",
       "      <td>-0.029414</td>\n",
       "      <td>-0.728461</td>\n",
       "      <td>-0.248263</td>\n",
       "      <td>-0.630800</td>\n",
       "      <td>-0.554707</td>\n",
       "      <td>-1.574618</td>\n",
       "      <td>-1.054174</td>\n",
       "      <td>-1.319897</td>\n",
       "      <td>-0.073065</td>\n",
       "      <td>-1.850945</td>\n",
       "      <td>-0.591112</td>\n",
       "      <td>-1.602864</td>\n",
       "      <td>NaN</td>\n",
       "    </tr>\n",
       "    <tr>\n",
       "      <th>276</th>\n",
       "      <td>-0.150920</td>\n",
       "      <td>0.339723</td>\n",
       "      <td>0.115622</td>\n",
       "      <td>0.064149</td>\n",
       "      <td>-0.245550</td>\n",
       "      <td>0.221568</td>\n",
       "      <td>-0.038394</td>\n",
       "      <td>0.098558</td>\n",
       "      <td>-0.365382</td>\n",
       "      <td>0.861431</td>\n",
       "      <td>0.282999</td>\n",
       "      <td>0.160523</td>\n",
       "      <td>-0.593816</td>\n",
       "      <td>0.560866</td>\n",
       "      <td>-0.087791</td>\n",
       "      <td>0.248120</td>\n",
       "      <td>NaN</td>\n",
       "    </tr>\n",
       "    <tr>\n",
       "      <th>277</th>\n",
       "      <td>-0.031863</td>\n",
       "      <td>-0.278457</td>\n",
       "      <td>-0.363862</td>\n",
       "      <td>-0.315221</td>\n",
       "      <td>0.143702</td>\n",
       "      <td>-0.084104</td>\n",
       "      <td>-0.232152</td>\n",
       "      <td>-0.396697</td>\n",
       "      <td>-0.078209</td>\n",
       "      <td>-0.708870</td>\n",
       "      <td>-0.868854</td>\n",
       "      <td>-0.801011</td>\n",
       "      <td>0.344034</td>\n",
       "      <td>-0.215134</td>\n",
       "      <td>-0.552474</td>\n",
       "      <td>-1.008752</td>\n",
       "      <td>278.0</td>\n",
       "    </tr>\n",
       "    <tr>\n",
       "      <th>278</th>\n",
       "      <td>0.400000</td>\n",
       "      <td>-0.214286</td>\n",
       "      <td>0.400000</td>\n",
       "      <td>-0.250000</td>\n",
       "      <td>0.660679</td>\n",
       "      <td>0.001387</td>\n",
       "      <td>0.635501</td>\n",
       "      <td>-0.289621</td>\n",
       "      <td>0.963467</td>\n",
       "      <td>-0.545861</td>\n",
       "      <td>0.966155</td>\n",
       "      <td>-0.635705</td>\n",
       "      <td>1.589623</td>\n",
       "      <td>0.001899</td>\n",
       "      <td>1.528380</td>\n",
       "      <td>-0.737011</td>\n",
       "      <td>NaN</td>\n",
       "    </tr>\n",
       "  </tbody>\n",
       "</table>\n",
       "<p>279 rows × 17 columns</p>\n",
       "</div>"
      ],
      "text/plain": [
       "     LR_Long_spearman  RL_Long_spearman  LR_Short_spearman  RL_Short_spearman  LR_Long_pearson  RL_Long_pearson  LR_Short_pearson  RL_Short_pearson  LR_Long_spearman_Z  RL_Long_spearman_Z  LR_Short_spearman_Z  RL_Short_spearman_Z  LR_Long_pearson_Z  RL_Long_pearson_Z  LR_Short_pearson_Z  RL_Short_pearson_Z  label\n",
       "0           -0.289886          0.600000          -0.142857           0.200000        -0.276699         0.255187         -0.052640          0.270244           -0.700573            1.522588            -0.337940             0.504844          -0.668865           0.646215           -0.121958            0.683831    0.0\n",
       "1            0.142857         -0.309626          -0.292770           0.470605        -0.003213        -0.373721         -0.350008          0.464134            0.343225           -0.788045            -0.698073             1.190707          -0.009938          -0.950376           -0.835123            1.175891    1.0\n",
       "2           -0.737865          0.107143          -0.600000           0.666694        -0.601564        -0.312179         -0.287031          0.303629           -1.781122            0.270632            -1.436125             1.687704          -1.451586          -0.794143           -0.684089            0.768555    2.0\n",
       "3            0.657143          0.500000           0.942857           0.800000         0.701677         0.766788          0.990892          0.619848            1.583709            1.268568             2.270249             2.025576           1.688402           1.945000            2.380699            1.571066    3.0\n",
       "4            0.445394          0.206612           0.333333           0.234161         0.601733         0.361404          0.443333          0.076471            1.072959            0.523304             0.806003             0.591426           1.447601           0.915864            1.067511            0.192067    4.0\n",
       "5            0.316228          0.737865           0.816497           1.000000         0.620064         0.801341          0.958722          0.951276            0.761404            1.872792             1.966696             2.532487           1.491767           2.032717            2.303546            2.412172    5.0\n",
       "..                ...               ...                ...                ...              ...              ...               ...               ...                 ...                 ...                  ...                  ...                ...                ...                 ...                 ...    ...\n",
       "273          0.181818         -0.154914           0.542143           0.204993         0.265933         0.384650          0.549011          0.327272            0.437201           -0.395045             1.307621             0.517500           0.638534           0.974878            1.320955            0.828558  274.0\n",
       "274         -0.380952         -0.226899          -0.365963          -0.085126        -0.407567        -0.290440         -0.378760         -0.131271           -0.920231           -0.577901            -0.873901            -0.217822          -0.984175          -0.738954           -0.904077           -0.335145  275.0\n",
       "275         -0.229412         -0.619276          -0.441005          -0.519946        -0.029414        -0.728461         -0.248263         -0.630800           -0.554707           -1.574618            -1.054174            -1.319897          -0.073065          -1.850945           -0.591112           -1.602864    NaN\n",
       "276         -0.150920          0.339723           0.115622           0.064149        -0.245550         0.221568         -0.038394          0.098558           -0.365382            0.861431             0.282999             0.160523          -0.593816           0.560866           -0.087791            0.248120    NaN\n",
       "277         -0.031863         -0.278457          -0.363862          -0.315221         0.143702        -0.084104         -0.232152         -0.396697           -0.078209           -0.708870            -0.868854            -0.801011           0.344034          -0.215134           -0.552474           -1.008752  278.0\n",
       "278          0.400000         -0.214286           0.400000          -0.250000         0.660679         0.001387          0.635501         -0.289621            0.963467           -0.545861             0.966155            -0.635705           1.589623           0.001899            1.528380           -0.737011    NaN\n",
       "\n",
       "[279 rows x 17 columns]"
      ]
     },
     "execution_count": 21,
     "metadata": {},
     "output_type": "execute_result"
    }
   ],
   "source": [
    "from pyphoplacecellanalysis.General.Pipeline.Stages.ComputationFunctions.MultiContextComputationFunctions.DirectionalPlacefieldGlobalComputationFunctions import DirectionalPlacefieldGlobalDisplayFunctions\n",
    "from pyphoplacecellanalysis.General.Pipeline.Stages.DisplayFunctions.SpikeRasters import plot_multi_sort_raster_browser\n",
    "from pyphoplacecellanalysis.GUI.PyQtPlot.Widgets.ContainerBased.RankOrderRastersDebugger import RankOrderRastersDebugger\n",
    "\n",
    "from pyphoplacecellanalysis.General.Pipeline.Stages.DisplayFunctions.SpikeRasters import paired_separately_sort_neurons, paired_incremental_sort_neurons # _display_directional_template_debugger\n",
    "from neuropy.utils.indexing_helpers import paired_incremental_sorting, union_of_arrays, intersection_of_arrays, find_desired_sort_indicies\n",
    "from pyphoplacecellanalysis.GUI.Qt.Widgets.ScrollBarWithSpinBox.ScrollBarWithSpinBox import ScrollBarWithSpinBox\n",
    "\n",
    "from neuropy.utils.mixins.HDF5_representable import HDF_SerializationMixin\n",
    "from pyphoplacecellanalysis.General.Model.ComputationResults import ComputedResult\n",
    "from pyphoplacecellanalysis.General.Pipeline.Stages.ComputationFunctions.MultiContextComputationFunctions.DirectionalPlacefieldGlobalComputationFunctions import TrackTemplates\n",
    "from pyphoplacecellanalysis.General.Pipeline.Stages.ComputationFunctions.MultiContextComputationFunctions.RankOrderComputations import RankOrderAnalyses, RankOrderResult, ShuffleHelper, Zscorer, LongShortStatsTuple, DirectionalRankOrderLikelihoods, DirectionalRankOrderResult, RankOrderComputationsContainer\n",
    "from pyphoplacecellanalysis.General.Pipeline.Stages.ComputationFunctions.MultiContextComputationFunctions.RankOrderComputations import TimeColumnAliasesProtocol\n",
    "from pyphoplacecellanalysis.General.Pipeline.Stages.ComputationFunctions.MultiContextComputationFunctions.RankOrderComputations import RankOrderComputationsContainer\n",
    "\n",
    "## Display Testing\n",
    "# from pyphoplacecellanalysis.External.pyqtgraph import QtGui\n",
    "from pyphoplacecellanalysis.Pho2D.PyQtPlots.Extensions.pyqtgraph_helpers import pyqtplot_build_image_bounds_extent, pyqtplot_plot_image\n",
    "\n",
    "\n",
    "spikes_df = curr_active_pipeline.sess.spikes_df\n",
    "rank_order_results: RankOrderComputationsContainer = curr_active_pipeline.global_computation_results.computed_data['RankOrder']\n",
    "minimum_inclusion_fr_Hz: float = rank_order_results.minimum_inclusion_fr_Hz\n",
    "included_qclu_values: List[int] = rank_order_results.included_qclu_values\n",
    "ripple_result_tuple, laps_result_tuple = rank_order_results.ripple_most_likely_result_tuple, rank_order_results.laps_most_likely_result_tuple\n",
    "directional_laps_results: DirectionalLapsResult = curr_active_pipeline.global_computation_results.computed_data['DirectionalLaps']\n",
    "track_templates: TrackTemplates = directional_laps_results.get_templates(minimum_inclusion_fr_Hz=minimum_inclusion_fr_Hz) # non-shared-only -- !! Is minimum_inclusion_fr_Hz=None the issue/difference?\n",
    "print(f'minimum_inclusion_fr_Hz: {minimum_inclusion_fr_Hz}')\n",
    "print(f'included_qclu_values: {included_qclu_values}')\n",
    "# ripple_result_tuple\n",
    "\n",
    "## Unpacks `rank_order_results`: \n",
    "# global_replays = Epoch(deepcopy(curr_active_pipeline.filtered_sessions[global_epoch_name].replay))\n",
    "# global_replays = TimeColumnAliasesProtocol.renaming_synonym_columns_if_needed(deepcopy(curr_active_pipeline.filtered_sessions[global_epoch_name].replay))\n",
    "# active_replay_epochs, active_epochs_df, active_selected_spikes_df = combine_rank_order_results(rank_order_results, global_replays, track_templates=track_templates)\n",
    "# active_epochs_df\n",
    "\n",
    "# 2023-12-15 - Newest method:\n",
    "laps_combined_epoch_stats_df = rank_order_results.laps_combined_epoch_stats_df\n",
    "ripple_combined_epoch_stats_df = rank_order_results.ripple_combined_epoch_stats_df\n",
    "ripple_combined_epoch_stats_df\n"
   ]
  },
  {
   "cell_type": "code",
   "execution_count": null,
   "id": "a2d13e66",
   "metadata": {},
   "outputs": [],
   "source": [
    "ripple_result_tuple.active_epochs"
   ]
  },
  {
   "cell_type": "code",
   "execution_count": null,
   "id": "d300a225",
   "metadata": {},
   "outputs": [],
   "source": [
    "ripple_result_tuple.directional_likelihoods_tuple"
   ]
  },
  {
   "cell_type": "code",
   "execution_count": null,
   "id": "43327521",
   "metadata": {},
   "outputs": [],
   "source": [
    "np.logical_not(np.isnan(rank_order_results.ripple_combined_epoch_stats_df.index).any())\n",
    "# ripple_combined_epoch_stats_df.label.isna()"
   ]
  },
  {
   "cell_type": "code",
   "execution_count": null,
   "id": "bb3c142b",
   "metadata": {},
   "outputs": [],
   "source": [
    "ripple_combined_epoch_stats_df"
   ]
  },
  {
   "cell_type": "code",
   "execution_count": null,
   "id": "4f3cedf8",
   "metadata": {},
   "outputs": [],
   "source": [
    "np.isnan(ripple_combined_epoch_stats_df.label).any()"
   ]
  },
  {
   "cell_type": "code",
   "execution_count": null,
   "id": "31224e10",
   "metadata": {},
   "outputs": [],
   "source": [
    "np.isnan(ripple_combined_epoch_stats_df.index).any()"
   ]
  },
  {
   "cell_type": "code",
   "execution_count": null,
   "id": "60749347",
   "metadata": {},
   "outputs": [],
   "source": [
    "print(f'\\tdone. building global result.')\n",
    "directional_laps_results: DirectionalLapsResult = curr_active_pipeline.global_computation_results.computed_data['DirectionalLaps']\n",
    "selected_spikes_df = deepcopy(curr_active_pipeline.global_computation_results.computed_data['RankOrder'].LR_ripple.selected_spikes_df)\n",
    "# active_epochs = global_computation_results.computed_data['RankOrder'].ripple_most_likely_result_tuple.active_epochs\n",
    "active_epochs = deepcopy(curr_active_pipeline.global_computation_results.computed_data['RankOrder'].LR_ripple.epochs_df)\n",
    "track_templates = directional_laps_results.get_templates(minimum_inclusion_fr_Hz=minimum_inclusion_fr_Hz)\n",
    "ripple_combined_epoch_stats_df, ripple_new_output_tuple = RankOrderAnalyses.pandas_df_based_correlation_computations(selected_spikes_df=selected_spikes_df, active_epochs_df=active_epochs, track_templates=track_templates, num_shuffles=150)\n",
    "# new_output_tuple (output_active_epoch_computed_values, valid_stacked_arrays, real_stacked_arrays, n_valid_shuffles) = ripple_new_output_tuple\n",
    "curr_active_pipeline.global_computation_results.computed_data['RankOrder'].ripple_combined_epoch_stats_df, curr_active_pipeline.global_computation_results.computed_data['RankOrder'].ripple_new_output_tuple = ripple_combined_epoch_stats_df, ripple_new_output_tuple\n",
    "print(f'done!')"
   ]
  },
  {
   "cell_type": "code",
   "execution_count": null,
   "id": "35e95d52",
   "metadata": {},
   "outputs": [],
   "source": [
    "laps_combined_epoch_stats_df"
   ]
  },
  {
   "cell_type": "code",
   "execution_count": null,
   "id": "4d641689",
   "metadata": {},
   "outputs": [],
   "source": [
    "print_object_memory_usage(output_active_epoch_computed_values) # 0.946189 MB\n"
   ]
  },
  {
   "cell_type": "code",
   "execution_count": null,
   "id": "3e3d1caf",
   "metadata": {},
   "outputs": [],
   "source": [
    "## #TODO 2023-12-13 02:07: - [ ] Figure out how 'Probe_Epoch_id' maps to `ripple_result_tuple.active_epochs`\n",
    "ripple_result_tuple.active_epochs\n",
    "rank_order_results.LR_ripple.ranked_aclus_stats_dict\n"
   ]
  },
  {
   "cell_type": "code",
   "execution_count": null,
   "id": "50f1bbbf",
   "metadata": {},
   "outputs": [],
   "source": [
    "## Add the pf_x information for each aclu:\n",
    "## 2023-10-11 - Get the long/short peak locations\n",
    "# decoder_peak_coms_list = [a_decoder.pf.ratemap.peak_tuning_curve_center_of_masses[is_good_aclus] for a_decoder in decoder_args]\n",
    "decoder_aclu_peak_location_dict_list = [dict(zip(neuron_IDs, peak_locations)) for neuron_IDs, peak_locations in zip(track_templates.decoder_neuron_IDs_list, track_templates.decoder_peak_location_list)]\n",
    "decoder_aclu_peak_location_dict_list\n"
   ]
  },
  {
   "cell_type": "code",
   "execution_count": null,
   "id": "de234ecb",
   "metadata": {},
   "outputs": [],
   "source": [
    "track_templates.long_LR_decoder.peak_locations"
   ]
  },
  {
   "cell_type": "code",
   "execution_count": null,
   "id": "bc1305ed",
   "metadata": {},
   "outputs": [],
   "source": [
    "track_templates.decoder_LR_pf_peak_ranks_list"
   ]
  },
  {
   "cell_type": "code",
   "execution_count": null,
   "id": "f7b179f8",
   "metadata": {},
   "outputs": [],
   "source": [
    "## Replays:\n",
    "global_replays = TimeColumnAliasesProtocol.renaming_synonym_columns_if_needed(deepcopy(curr_active_pipeline.filtered_sessions[global_epoch_name].replay))\n",
    "if isinstance(global_replays, pd.DataFrame):\n",
    "\tglobal_replays = Epoch(global_replays.epochs.get_valid_df())\n",
    "\n",
    "# get the aligned epochs and the z-scores aligned to them:\n",
    "active_replay_epochs, (active_LR_ripple_long_z_score, active_RL_ripple_long_z_score, active_LR_ripple_short_z_score, active_RL_ripple_short_z_score) = rank_order_results.get_aligned_events(global_replays.to_dataframe().copy(), is_laps=False)\n",
    "active_replay_epochs"
   ]
  },
  {
   "cell_type": "code",
   "execution_count": null,
   "id": "b6384a30",
   "metadata": {},
   "outputs": [],
   "source": [
    "## Laps:\n",
    "long_epoch_name, short_epoch_name, global_epoch_name = curr_active_pipeline.find_LongShortGlobal_epoch_names()\n",
    "global_laps = deepcopy(curr_active_pipeline.filtered_sessions[global_epoch_name].laps).trimmed_to_non_overlapping()\n",
    "active_laps_epochs, (active_LR_ripple_long_z_score, active_RL_ripple_long_z_score, active_LR_ripple_short_z_score, active_RL_ripple_short_z_score) = rank_order_results.get_aligned_events(global_laps.to_dataframe(), is_laps=True)"
   ]
  },
  {
   "cell_type": "code",
   "execution_count": null,
   "id": "91e8ff66",
   "metadata": {},
   "outputs": [],
   "source": [
    "ripple_result_tuple.plot_histogram()"
   ]
  },
  {
   "cell_type": "code",
   "execution_count": null,
   "id": "7dfbe341",
   "metadata": {},
   "outputs": [],
   "source": [
    "# Find only the significant events (|z| > 1.96):\n",
    "from pyphoplacecellanalysis.General.Pipeline.Stages.ComputationFunctions.MultiContextComputationFunctions.RankOrderComputations import RankOrderAnalyses\n",
    "\n",
    "filtered_z_score_df, (n_events, n_significant_events, percent_significant_events) = RankOrderAnalyses.find_only_significant_events(rank_order_results, high_z_criteria=1.96)\n",
    "filtered_z_score_df"
   ]
  },
  {
   "cell_type": "code",
   "execution_count": null,
   "id": "19d6bcd9",
   "metadata": {},
   "outputs": [],
   "source": [
    "print(filtered_z_score_df.index.to_numpy())\n"
   ]
  },
  {
   "cell_type": "code",
   "execution_count": null,
   "id": "86532662",
   "metadata": {},
   "outputs": [],
   "source": [
    "# 2023-11-20 - Finding high-significance periods for Kamran:\n",
    "z_threshold = 1.96\n",
    "is_greater_than_z_threshold_long = (np.abs(ripple_result_tuple.long_best_dir_z_score_values) > z_threshold)\n",
    "is_greater_than_z_threshold_short = (np.abs(ripple_result_tuple.short_best_dir_z_score_values) > z_threshold)\n",
    "is_significant_either = np.logical_or(is_greater_than_z_threshold_long, is_greater_than_z_threshold_short)\n",
    "is_significant_either\n",
    "\n",
    "# is_greater_than_3std_long = (np.abs(ripple_result_tuple.long_best_dir_z_score_values) >= 3.0)\n",
    "# is_greater_than_3std_short = (np.abs(ripple_result_tuple.short_best_dir_z_score_values) >= 3.0)\n",
    "# is_significant_either = np.logical_or(is_greater_than_3std_long, is_greater_than_3std_short)\n"
   ]
  },
  {
   "cell_type": "code",
   "execution_count": null,
   "id": "5f925cde",
   "metadata": {},
   "outputs": [],
   "source": [
    "significant_ripple_epochs = deepcopy(Epoch(ripple_result_tuple.active_epochs)).boolean_indicies_slice(is_significant_either)\n",
    "# significant_ripple_epochs = deepcopy(global_replays).boolean_indicies_slice(is_significant_either)\n",
    "significant_ripple_epochs.to_dataframe()\n",
    "\n",
    "# significant_ripple_epochs.filename = Path(f'output/2023-11-27_SignificantReplayRipples').resolve()\n",
    "# significant_ripple_epochs.to_neuroscope()\n"
   ]
  },
  {
   "cell_type": "code",
   "execution_count": null,
   "id": "6a8beece",
   "metadata": {},
   "outputs": [],
   "source": [
    "# active_epochs = ripple_result_tuple.active_epochs\n",
    "active_epochs: Epoch = rank_order_results.RL_ripple.epochs_df # Epoch(rank_order_results.RL_ripple.epochs_df)\n",
    "# type(active_epochs)\n",
    "active_epochs.n_epochs\n",
    "# rank_order_results.RL_ripple.spikes_df"
   ]
  },
  {
   "cell_type": "code",
   "execution_count": null,
   "id": "c93ffe0d",
   "metadata": {},
   "outputs": [],
   "source": [
    "rank_order_results.LR_ripple.epochs_df\n",
    "rank_order_results.LR_ripple.spikes_df\n",
    "\n"
   ]
  },
  {
   "cell_type": "code",
   "execution_count": null,
   "id": "39525572",
   "metadata": {},
   "outputs": [],
   "source": [
    "combined_variable_names: ['LR_Long_spearman', 'RL_Long_spearman', 'LR_Short_spearman', 'RL_Short_spearman', 'LR_Long_pearson', 'RL_Long_pearson', 'LR_Short_pearson', 'RL_Short_pearson']\n",
    "combined_variable_z_score_column_names: ['LR_Long_spearman_Z', 'RL_Long_spearman_Z', 'LR_Short_spearman_Z', 'RL_Short_spearman_Z', 'LR_Long_pearson_Z', 'RL_Long_pearson_Z', 'LR_Short_pearson_Z', 'RL_Short_pearson_Z']\n",
    "\n",
    "        \n"
   ]
  },
  {
   "cell_type": "code",
   "execution_count": null,
   "id": "17f47973",
   "metadata": {},
   "outputs": [],
   "source": [
    "curr_active_pipeline.build_display_context_for_filtered_session(filtered_session_name='maze_any', display_fn_name='test')"
   ]
  },
  {
   "cell_type": "code",
   "execution_count": null,
   "id": "6b319650",
   "metadata": {},
   "outputs": [],
   "source": [
    "rank_order_results.LR_ripple.selected_spikes_df"
   ]
  },
  {
   "cell_type": "code",
   "execution_count": null,
   "id": "fef5436c",
   "metadata": {},
   "outputs": [],
   "source": [
    "rank_order_results.RL_ripple.selected_spikes_df"
   ]
  },
  {
   "cell_type": "markdown",
   "id": "5ca979a6",
   "metadata": {},
   "source": [
    "# `RankOrderRastersDebugger`"
   ]
  },
  {
   "cell_type": "code",
   "execution_count": 23,
   "id": "6616af69",
   "metadata": {
    "notebookRunGroups": {
     "groupValue": "2"
    },
    "tags": [
     "figure",
     "RankOrderRastersDebugger"
    ]
   },
   "outputs": [
    {
     "name": "stdout",
     "output_type": "stream",
     "text": [
      "included_neuron_ids: [  2   4   5   6   8   9  11  12  14  15  16  18  19  20  24  25  26  27  28  29  30  31  32  33  34  35  38  39  40  43  44  47  48  51  52  53  56  57  58  59  60  61  62  63  66  67  68  70  71  72  75  77  79  80  81  82  83  84  85  86  87  89  90  91  92  93  95  98 101 102 104], n_neurons: 71\n",
      "unit_sort_order: [10 22 27 45 46  6 20 41 44  8 15 16 24 26 21 23 36 13 38 33 48 17  4 47 39  0 14  5 31 43  1  3 28  2 12  7 50 37  9 34 40 19 29 42 25 49 11 18 30 32 35]\n",
      "desired_sort_arr: [ 25  47  56  89  92  15  43  84  87  19  33  34  51  53  44  48  79  30  81  72  98  35   9  93  82   2  31  11  66  86   5   8  58   6  29  16 104  80  24  75  83  40  60  85  52 102  26  39  61  68  77]\n",
      "WARN: len(neuron_colors): 71 > n_cells: 51: restricting neuron_colors to the correct aclus, but if colors ever get off this is where it is happening!\n",
      "merged_kwargs: {'name': 'spikeRasterOverviewWindowScatterPlotItem', 'pxMode': True, 'symbol': <PyQt5.QtGui.QPainterPath object at 0x000001D0299A6F90>, 'size': 2, 'pen': {'color': 'w', 'width': 1}, 'hoverable': True}\n",
      "unit_sort_order: [10 25 35 46 20  4  5 45 36 44 22  3 16 49 19 37 40 21  9 17 24 41 52  8 14 38  0  2 32 42 12 43 47 55  1 50 31 48 26 51 13 53 33 15 27  6  7 11 18 23 28 29 30 34 39 54]\n",
      "desired_sort_arr: [ 25  56  70  89  47  14  15  87  71  84  51  12  38  92  44  72  79  48  24  39  53  80  98  20  31  75   4  11  66  81  27  82  90 104   9  93  63  91  57  95  28 101  67  32  59  16  18  26  40  52  60  61  62  68  77 102]\n",
      "WARN: len(neuron_colors): 71 > n_cells: 56: restricting neuron_colors to the correct aclus, but if colors ever get off this is where it is happening!\n",
      "merged_kwargs: {'name': 'spikeRasterOverviewWindowScatterPlotItem', 'pxMode': True, 'symbol': <PyQt5.QtGui.QPainterPath object at 0x000001CFCBF4B040>, 'size': 2, 'pen': {'color': 'w', 'width': 1}, 'hoverable': True}\n",
      "unit_sort_order: [ 5 22 44  3 10 27 46  6 45  8 15 16 20 50 41 17 38  9 13 21 23 36  4 33  0 47  1 12 14 48 31 43 39 28  7 24 30 34 26 37 40 19 29 42 49 18 25 11 32  2 35]\n",
      "desired_sort_arr: [ 11  47  87   8  25  56  92  15  89  19  33  34  43 104  84  35  81  24  30  44  48  79   9  72   2  93   5  29  31  98  66  86  82  58  16  51  61  75  53  80  83  40  60  85 102  39  52  26  68   6  77]\n",
      "WARN: len(neuron_colors): 71 > n_cells: 51: restricting neuron_colors to the correct aclus, but if colors ever get off this is where it is happening!\n",
      "merged_kwargs: {'name': 'spikeRasterOverviewWindowScatterPlotItem', 'pxMode': True, 'symbol': <PyQt5.QtGui.QPainterPath object at 0x000001D029D16F90>, 'size': 2, 'pen': {'color': 'w', 'width': 1}, 'hoverable': True}\n",
      "unit_sort_order: [35 10 20 22 25 45  4  5 36 49 16 34  3 19 21 40  9 41  8 24 17 46  1 50 52 32  2 42 43 55  0 12 31 47 29 26 48 30 44 51 13 14 33 38 37 53 15 18 27 28  6 11 23 39 54  7]\n",
      "desired_sort_arr: [ 70  25  47  51  56  87  14  15  71  92  38  68  12  44  48  79  24  80  20  53  39  89   9  93  98  66  11  81  82 104   4  27  63  90  61  57  91  62  84  95  28  31  67  75  72 101  32  40  59  60  16  26  52  77 102  18]\n",
      "WARN: len(neuron_colors): 71 > n_cells: 56: restricting neuron_colors to the correct aclus, but if colors ever get off this is where it is happening!\n",
      "merged_kwargs: {'name': 'spikeRasterOverviewWindowScatterPlotItem', 'pxMode': True, 'symbol': <PyQt5.QtGui.QPainterPath object at 0x000001CDF657CCF0>, 'size': 2, 'pen': {'color': 'w', 'width': 1}, 'hoverable': True}\n",
      "PhoDockAreaContainingWindow.GlobalConnectionManagerAccessingMixin_on_setup()\n",
      "PhoDockAreaContainingWindow.try_register_any_control_widgets()\n",
      "\tflat_widgets_list contains 0 items\n",
      "using overriden dock location.\n",
      "WARN: self.disable_emit_changed = True\n",
      "WARN: self.disable_emit_changed = True\n",
      "emitChanged(): self.val: 10\n",
      "WARN: the selected spikes did not work properly, so none will be shown.\n"
     ]
    }
   ],
   "source": [
    "from pyphoplacecellanalysis.GUI.PyQtPlot.Widgets.ContainerBased.RankOrderRastersDebugger import RankOrderRastersDebugger\n",
    "from pyphocorehelpers.gui.Qt.color_helpers import build_adjusted_color\n",
    "from pyphoplacecellanalysis.General.Mixins.SpikesRenderingBaseMixin import SpikeEmphasisState\n",
    "\n",
    "# from pyphoplacecellanalysis.GUI.PyQtPlot.Widgets.ContainerBased.RankOrderRastersDebugger import a_debug_callback_fn, debug_update_long_short_info_titles, debug_update_plot_titles\n",
    "\n",
    "curr_active_pipeline.reload_default_display_functions()\n",
    "\n",
    "## RankOrderRastersDebugger: \n",
    "# _out_rank_order_event_raster_debugger = RankOrderRastersDebugger.init_rank_order_debugger(spikes_df, ripple_result_tuple.active_epochs, track_templates, rank_order_results.RL_ripple.selected_spikes_fragile_linear_neuron_IDX_dict, rank_order_results.LR_ripple.selected_spikes_fragile_linear_neuron_IDX_dict)\n",
    "\n",
    "## Required prereqs:\n",
    "# active_epochs_df = deepcopy(rank_order_results.LR_ripple.epochs_df)\n",
    "# active_selected_spikes_df, active_epochs_df = RankOrderAnalyses.new_compute_correlations(selected_spikes_df=selected_spikes_df, active_epochs=active_epochs, track_templates=track_templates)\n",
    "## 2023-12-13 11am - uses `active_epochs_df` passed in that has been augmented with all the old results:\n",
    "# _out_rank_order_event_raster_debugger = RankOrderRastersDebugger.init_rank_order_debugger(spikes_df, active_epochs_df, track_templates, rank_order_results, rank_order_results.RL_ripple.selected_spikes_fragile_linear_neuron_IDX_dict, rank_order_results.LR_ripple.selected_spikes_fragile_linear_neuron_IDX_dict)\n",
    "# _out_rank_order_event_raster_debugger = RankOrderRastersDebugger.init_rank_order_debugger(spikes_df, active_epochs_df, track_templates, rank_order_results, rank_order_results.RL_ripple.selected_spikes_df, rank_order_results.LR_ripple.selected_spikes_df)\n",
    "# _out_rank_order_event_raster_debugger.params.enable_show_Z_values = False\n",
    "\n",
    "_out_rank_order_selected_spikes_only_event_raster_debugger = RankOrderRastersDebugger.init_rank_order_debugger(deepcopy(rank_order_results.LR_ripple.selected_spikes_df), deepcopy(rank_order_results.LR_ripple.epochs_df), track_templates, rank_order_results, None, None) # rank_order_results.RL_ripple.selected_spikes_fragile_linear_neuron_IDX_dict, rank_order_results.LR_ripple.selected_spikes_fragile_linear_neuron_IDX_dict)\n"
   ]
  },
  {
   "cell_type": "code",
   "execution_count": null,
   "id": "f7f3a2d3",
   "metadata": {},
   "outputs": [],
   "source": [
    "from pyphoplacecellanalysis.General.Mixins.ExportHelpers import export_pyqtgraph_plot, ExportFiletype\n",
    "\n",
    "export_path = Path(r'C:\\Users\\pho\\Desktop\\2023-12-19 Exports').resolve()\n",
    "\n",
    "_out_rank_order_event_raster_debugger.save_figure(export_path=export_path)\n"
   ]
  },
  {
   "cell_type": "markdown",
   "id": "619ebf52",
   "metadata": {},
   "source": [
    "## Iterates through the epochs (via the slider) and saves out the images:\n"
   ]
  },
  {
   "cell_type": "code",
   "execution_count": null,
   "id": "53f73ed6",
   "metadata": {},
   "outputs": [],
   "source": [
    "all_save_paths = {}\n",
    "\n",
    "for i in np.arange(0, _out_rank_order_event_raster_debugger.n_epochs, 5):\n",
    "    _out_rank_order_event_raster_debugger.ui.ctrls_widget.setValue(i)\n",
    "    # _out_rank_order_event_raster_debugger.on_update_epoch_IDX(an_epoch_idx=i)\n",
    "    active_epoch_label = _out_rank_order_event_raster_debugger.active_epoch_label\n",
    "\n",
    "    save_paths = []\n",
    "\n",
    "    for a_decoder, a_plot in _out_rank_order_event_raster_debugger.root_plots_dict.items():\n",
    "        curr_filename_prefix = f'Epoch{active_epoch_label}_{a_decoder}'\n",
    "        # a_plot.setYRange(-0.5, float(self.max_n_neurons))\n",
    "        out_path = export_path.joinpath(f'{curr_filename_prefix}_plot.png').resolve()\n",
    "        export_pyqtgraph_plot(a_plot, savepath=out_path, background=pg.mkColor(0, 0, 0, 0))\n",
    "        save_paths.append(out_path)\n",
    "\n",
    "    all_save_paths[active_epoch_label] = save_paths\n",
    "  \n",
    "all_save_paths"
   ]
  },
  {
   "cell_type": "code",
   "execution_count": null,
   "id": "9a46e840",
   "metadata": {},
   "outputs": [],
   "source": [
    "_out_rank_order_event_raster_debugger.active_epoch_IDX"
   ]
  },
  {
   "cell_type": "code",
   "execution_count": null,
   "id": "33d7d125",
   "metadata": {},
   "outputs": [],
   "source": [
    "_out_rank_order_event_raster_debugger.active_epoch_result_df"
   ]
  },
  {
   "cell_type": "code",
   "execution_count": null,
   "id": "41d5bd28",
   "metadata": {},
   "outputs": [],
   "source": [
    "aclu_y_values_dict = {_active_plot_identifier:{int(aclu):new_sorted_raster.neuron_y_pos[aclu] for aclu in new_sorted_raster.neuron_IDs} for _active_plot_identifier, new_sorted_raster in _out_rank_order_event_raster_debugger.plots_data.seperate_new_sorted_rasters_dict.items()}\n",
    "aclu_max_y_values_dict = {_active_plot_identifier:np.max(list({int(aclu):new_sorted_raster.neuron_y_pos[aclu] for aclu in new_sorted_raster.neuron_IDs}.values())) for _active_plot_identifier, new_sorted_raster in _out_rank_order_event_raster_debugger.plots_data.seperate_new_sorted_rasters_dict.items()} # {'long_LR': 51.48039215686274, 'long_RL': 53.5, 'short_LR': 51.48039215686274, 'short_RL': 53.5}\n",
    "global_max_y_value = np.max(list(aclu_max_y_values_dict.values()))\n",
    "global_max_y_value"
   ]
  },
  {
   "cell_type": "code",
   "execution_count": null,
   "id": "01518ab5",
   "metadata": {},
   "outputs": [],
   "source": [
    "max_n_neurons = np.max([len(v) for v in _out_rank_order_event_raster_debugger.plots_data.unsorted_original_neuron_IDs_lists])\n",
    "max_n_neurons"
   ]
  },
  {
   "cell_type": "code",
   "execution_count": null,
   "id": "277c056e",
   "metadata": {},
   "outputs": [],
   "source": [
    "_out_rank_order_event_raster_debugger.plots.all_separate_plots['long_LR']['root_plot']\n",
    "\n",
    "\n",
    "root_plots_dict"
   ]
  },
  {
   "cell_type": "code",
   "execution_count": null,
   "id": "d56dbf69",
   "metadata": {},
   "outputs": [],
   "source": [
    "max_n_neurons"
   ]
  },
  {
   "cell_type": "code",
   "execution_count": null,
   "id": "33b090c1",
   "metadata": {},
   "outputs": [],
   "source": [
    "\n",
    "\n",
    "all_separate_root_plots = {a_decoder_name:a_raster_setup_tuple.plots.root_plot for a_decoder_name, a_raster_setup_tuple in rasters_display_outputs.items()}\n"
   ]
  },
  {
   "cell_type": "code",
   "execution_count": null,
   "id": "39cb28ee",
   "metadata": {},
   "outputs": [],
   "source": []
  },
  {
   "cell_type": "code",
   "execution_count": null,
   "id": "9dd35f5f",
   "metadata": {},
   "outputs": [],
   "source": [
    "_out_rank_order_selected_spikes_only_event_raster_debugger.ui.tableView"
   ]
  },
  {
   "cell_type": "code",
   "execution_count": null,
   "id": "5446230b",
   "metadata": {},
   "outputs": [],
   "source": [
    "from pyphoplacecellanalysis.GUI.PyQtPlot.Widgets.ContainerBased.RankOrderRastersDebugger import a_debug_callback_fn, debug_update_long_short_info_titles, debug_update_plot_titles\n",
    "\n",
    "_out_LAPS_rank_order_event_raster_debugger = RankOrderRastersDebugger.init_rank_order_debugger(spikes_df, deepcopy(rank_order_results.LR_laps.epochs_df), track_templates, rank_order_results, None, None)\n",
    "_out_LAPS_rank_order_event_raster_debugger.params.is_laps = True\n",
    "_out_LAPS_rank_order_event_raster_debugger.on_idx_changed_callback_function_dict['debug_update_plot_titles_callback'] = debug_update_plot_titles"
   ]
  },
  {
   "cell_type": "code",
   "execution_count": null,
   "id": "b15491f4",
   "metadata": {},
   "outputs": [],
   "source": [
    "rank_order_results.RL_ripple.selected_spikes_df"
   ]
  },
  {
   "cell_type": "code",
   "execution_count": null,
   "id": "9bc00fc6",
   "metadata": {},
   "outputs": [],
   "source": [
    "# Scroll to the specified row\n",
    "tableView.scrollTo(tableView.model().index(row_index, 0))\n",
    "\n",
    "# Select the entire row\n",
    "tableView.selectRow(row_index)"
   ]
  },
  {
   "cell_type": "code",
   "execution_count": null,
   "id": "bc3b8d31",
   "metadata": {},
   "outputs": [],
   "source": [
    "_out_rank_order_event_raster_debugger.plots_data.LR_selected_spike_df #.LR_active_epochs_selected_spikes_fragile_linear_neuron_IDX_dict\n",
    "# _out_rank_order_event_raster_debugger.plots_data.LR_neuron_id_to_new_IDX_map"
   ]
  },
  {
   "cell_type": "code",
   "execution_count": null,
   "id": "81a012dc",
   "metadata": {},
   "outputs": [],
   "source": [
    "_obj = _out_rank_order_event_raster_debugger\n",
    "## Add the spikes\n",
    "_obj.add_selected_spikes_df_points_to_scatter_plot(plots_data=_obj.plots_data, plots=_obj.plots, selected_spikes_df=deepcopy(_obj.plots_data.LR_selected_spike_df), _active_plot_identifier = 'long_LR')\n",
    "_obj.add_selected_spikes_df_points_to_scatter_plot(plots_data=_obj.plots_data, plots=_obj.plots, selected_spikes_df=deepcopy(_obj.plots_data.LR_selected_spike_df), _active_plot_identifier = 'short_LR')\n",
    "_obj.add_selected_spikes_df_points_to_scatter_plot(plots_data=_obj.plots_data, plots=_obj.plots, selected_spikes_df=deepcopy(_obj.plots_data.RL_selected_spike_df), _active_plot_identifier = 'long_RL')\n",
    "_obj.add_selected_spikes_df_points_to_scatter_plot(plots_data=_obj.plots_data, plots=_obj.plots, selected_spikes_df=deepcopy(_obj.plots_data.RL_selected_spike_df), _active_plot_identifier = 'short_RL')"
   ]
  },
  {
   "cell_type": "code",
   "execution_count": null,
   "id": "82e67b75",
   "metadata": {},
   "outputs": [],
   "source": [
    "list(_out_rank_order_event_raster_debugger.plots.keys())\n",
    "_out_rank_order_event_raster_debugger.plots['scatter_plots']['long_LR'].addPoints()\n",
    "\n"
   ]
  },
  {
   "cell_type": "code",
   "execution_count": null,
   "id": "05a79c3f",
   "metadata": {},
   "outputs": [],
   "source": [
    "list(_out_rank_order_event_raster_debugger.plots_data.keys())\n"
   ]
  },
  {
   "cell_type": "code",
   "execution_count": null,
   "id": "60c62746",
   "metadata": {},
   "outputs": [],
   "source": [
    "_out_rank_order_event_raster_debugger.plots_data['all_selected_spots_dict']\n"
   ]
  },
  {
   "cell_type": "code",
   "execution_count": null,
   "id": "28b093b8",
   "metadata": {},
   "outputs": [],
   "source": [
    "_out_rank_order_event_raster_debugger.plots_data['seperate_all_spots_dict']"
   ]
  },
  {
   "cell_type": "code",
   "execution_count": null,
   "id": "48888cc6",
   "metadata": {},
   "outputs": [],
   "source": [
    "_active_plot_identifier = 'long_LR'\n",
    "new_sorted_raster = _out_rank_order_event_raster_debugger.plots_data['seperate_new_sorted_rasters_dict'][_active_plot_identifier]\n",
    "# selected_spikes_df = new_sorted_raster.update_spikes_df_visualization_columns(spikes_df=selected_spikes_df)\n",
    "# selected_spikes_df\n",
    "new_sorted_raster.spikes_df"
   ]
  },
  {
   "cell_type": "code",
   "execution_count": null,
   "id": "00a57b9a",
   "metadata": {},
   "outputs": [],
   "source": [
    "## Add the source data (spikes_df) to the plot_data\n",
    "plots_data.spikes_df = deepcopy(spikes_df)    \n",
    "# Update the dataframe\n",
    "plots_data.spikes_df = new_sorted_raster.update_spikes_df_visualization_columns(spikes_df=plots_data.spikes_df)\n",
    "## Build the spots for the raster plot:\n",
    "_out_rank_order_event_raster_debugger.plots_data['all_selected_spots_dict'][_active_plot_identifier], _out_rank_order_event_raster_debugger.plots_data.all_selected_scatterplot_tooltips_kwargs_dict[_active_plot_identifier] = new_sorted_raster.build_spikes_all_spots_from_df(spikes_df=plots_data.spikes_df, should_return_data_tooltips_kwargs=True, generate_debug_tuples=False)\n"
   ]
  },
  {
   "cell_type": "code",
   "execution_count": null,
   "id": "875a0b1b",
   "metadata": {},
   "outputs": [],
   "source": [
    "_out_rank_order_event_raster_debugger.plots_data.spikes_df"
   ]
  },
  {
   "cell_type": "code",
   "execution_count": null,
   "id": "86793de4",
   "metadata": {},
   "outputs": [],
   "source": [
    "_out_rank_order_event_raster_debugger.global_spikes_df"
   ]
  },
  {
   "cell_type": "code",
   "execution_count": null,
   "id": "4ce652a5",
   "metadata": {},
   "outputs": [],
   "source": [
    "add_selected_spikes_df_points_to_scatter_plot"
   ]
  },
  {
   "cell_type": "markdown",
   "id": "44d0cb69",
   "metadata": {},
   "source": [
    "## Connects TemplatesDebugger to RasterDebugger"
   ]
  },
  {
   "cell_type": "code",
   "execution_count": 24,
   "id": "df7136b6",
   "metadata": {},
   "outputs": [
    {
     "name": "stdout",
     "output_type": "stream",
     "text": [
      "PhoDockAreaContainingWindow.GlobalConnectionManagerAccessingMixin_on_setup()\n",
      "PhoDockAreaContainingWindow.try_register_any_control_widgets()\n",
      "\tflat_widgets_list contains 0 items\n",
      "using overriden dock location.\n"
     ]
    },
    {
     "name": "stdout",
     "output_type": "stream",
     "text": [
      "_tip_fn(...): data_string: t: 582.790511211264|aclu: 9|neuron_IDX: 1|visualization_raster_y_location: nan\n",
      "_tip_fn(...): data_string: t: 618.1566166237462|aclu: 93|neuron_IDX: 32|visualization_raster_y_location: nan\n",
      "_tip_fn(...): data_string: t: 614.3518544117687|aclu: 93|neuron_IDX: 32|visualization_raster_y_location: nan\n",
      "_tip_fn(...): data_string: t: 613.2510652154451|aclu: 93|neuron_IDX: 32|visualization_raster_y_location: nan\n",
      "_tip_fn(...): data_string: t: 618.1566166237462|aclu: 93|neuron_IDX: 32|visualization_raster_y_location: nan\n",
      "_tip_fn(...): data_string: t: 614.3518544117687|aclu: 93|neuron_IDX: 32|visualization_raster_y_location: nan\n",
      "_tip_fn(...): data_string: t: 613.2510652154451|aclu: 93|neuron_IDX: 32|visualization_raster_y_location: nan\n",
      "_tip_fn(...): data_string: t: 636.1149971890263|aclu: 57|neuron_IDX: 15|visualization_raster_y_location: nan\n",
      "_tip_fn(...): data_string: t: 636.1037843947997|aclu: 28|neuron_IDX: 9|visualization_raster_y_location: nan\n",
      "_tip_fn(...): data_string: t: 630.2353457994759|aclu: 28|neuron_IDX: 9|visualization_raster_y_location: nan\n",
      "_tip_fn(...): data_string: t: 626.2838342225878|aclu: 67|neuron_IDX: 21|visualization_raster_y_location: nan\n",
      "_tip_fn(...): data_string: t: 1607.8962647570297|aclu: 44|neuron_IDX: 14|visualization_raster_y_location: nan\n",
      "_tip_fn(...): data_string: t: 1607.8962647570297|aclu: 44|neuron_IDX: 14|visualization_raster_y_location: nan\n",
      "_tip_fn(...): data_string: t: 1454.8870579777285|aclu: 4|neuron_IDX: 0|visualization_raster_y_location: nan\n",
      "_tip_fn(...): data_string: t: 1454.9636428984813|aclu: 98|neuron_IDX: 33|visualization_raster_y_location: nan\n",
      "_tip_fn(...): data_string: t: 1449.746498689754|aclu: 98|neuron_IDX: 33|visualization_raster_y_location: nan\n",
      "_tip_fn(...): data_string: t: 1440.992071172106|aclu: 98|neuron_IDX: 33|visualization_raster_y_location: nan\n",
      "_tip_fn(...): data_string: t: 1244.1377668413334|aclu: 89|neuron_IDX: 28|visualization_raster_y_location: nan\n",
      "emitChanged(): self.val: 11\n",
      "valueChanged(new_val: 11)\n",
      "an_epoch: EpochTuple(Index=12, start=121.67666602157988, stop=121.77346469194163, label=12, duration=0.09679867036174983, LR_Long_ActuallyIncludedAclus=array([  2,  11,  81, 104]), LR_Long_rel_num_cells=4, RL_Long_ActuallyIncludedAclus=array([ 11,  18,  27,  62,  63,  81,  91, 104]), RL_Long_rel_num_cells=8, LR_Short_ActuallyIncludedAclus=array([  2,  11,  81, 104]), LR_Short_rel_num_cells=4, RL_Short_ActuallyIncludedAclus=array([ 11,  18,  27,  62,  63,  81,  91, 104]), RL_Short_rel_num_cells=8)\n",
      "an_epoch: EpochTuple(Index=12, start=121.67666602157988, stop=121.77346469194163, label=12, duration=0.09679867036174983, LR_Long_ActuallyIncludedAclus=array([  2,  11,  81, 104]), LR_Long_rel_num_cells=4, RL_Long_ActuallyIncludedAclus=array([ 11,  18,  27,  62,  63,  81,  91, 104]), RL_Long_rel_num_cells=8, LR_Short_ActuallyIncludedAclus=array([  2,  11,  81, 104]), LR_Short_rel_num_cells=4, RL_Short_ActuallyIncludedAclus=array([ 11,  18,  27,  62,  63,  81,  91, 104]), RL_Short_rel_num_cells=8)\n",
      "an_epoch: EpochTuple(Index=12, start=121.67666602157988, stop=121.77346469194163, label=12, duration=0.09679867036174983, LR_Long_ActuallyIncludedAclus=array([  2,  11,  81, 104]), LR_Long_rel_num_cells=4, RL_Long_ActuallyIncludedAclus=array([ 11,  18,  27,  62,  63,  81,  91, 104]), RL_Long_rel_num_cells=8, LR_Short_ActuallyIncludedAclus=array([  2,  11,  81, 104]), LR_Short_rel_num_cells=4, RL_Short_ActuallyIncludedAclus=array([ 11,  18,  27,  62,  63,  81,  91, 104]), RL_Short_rel_num_cells=8)\n",
      "an_epoch: EpochTuple(Index=12, start=121.67666602157988, stop=121.77346469194163, label=12, duration=0.09679867036174983, LR_Long_ActuallyIncludedAclus=array([  2,  11,  81, 104]), LR_Long_rel_num_cells=4, RL_Long_ActuallyIncludedAclus=array([ 11,  18,  27,  62,  63,  81,  91, 104]), RL_Long_rel_num_cells=8, LR_Short_ActuallyIncludedAclus=array([  2,  11,  81, 104]), LR_Short_rel_num_cells=4, RL_Short_ActuallyIncludedAclus=array([ 11,  18,  27,  62,  63,  81,  91, 104]), RL_Short_rel_num_cells=8)\n",
      "len(included_any_context_neuron_ids_dict_dict) != len(decoders_dict), assuming this is a single included_any_context_neuron_ids_dict for all decoders like used in `paired_incremental_sort_neurons(...)`. Fixing. \n",
      "emitChanged(): self.val: 4\n",
      "valueChanged(new_val: 4)\n",
      "an_epoch: EpochTuple(Index=4, start=93.0444426011527, stop=93.45314127195161, label=4, duration=0.40869867079891264, LR_Long_ActuallyIncludedAclus=array([ 6, 11, 39, 61, 82, 84, 89, 92, 98]), LR_Long_rel_num_cells=9, RL_Long_ActuallyIncludedAclus=array([ 4, 11, 18, 38, 39, 57, 61, 82, 84, 89, 91, 92, 98]), RL_Long_rel_num_cells=13, LR_Short_ActuallyIncludedAclus=array([ 6, 11, 39, 61, 82, 84, 89, 92, 98]), LR_Short_rel_num_cells=9, RL_Short_ActuallyIncludedAclus=array([ 4, 11, 18, 38, 39, 57, 61, 82, 84, 89, 91, 92, 98]), RL_Short_rel_num_cells=13)\n",
      "an_epoch: EpochTuple(Index=4, start=93.0444426011527, stop=93.45314127195161, label=4, duration=0.40869867079891264, LR_Long_ActuallyIncludedAclus=array([ 6, 11, 39, 61, 82, 84, 89, 92, 98]), LR_Long_rel_num_cells=9, RL_Long_ActuallyIncludedAclus=array([ 4, 11, 18, 38, 39, 57, 61, 82, 84, 89, 91, 92, 98]), RL_Long_rel_num_cells=13, LR_Short_ActuallyIncludedAclus=array([ 6, 11, 39, 61, 82, 84, 89, 92, 98]), LR_Short_rel_num_cells=9, RL_Short_ActuallyIncludedAclus=array([ 4, 11, 18, 38, 39, 57, 61, 82, 84, 89, 91, 92, 98]), RL_Short_rel_num_cells=13)\n",
      "an_epoch: EpochTuple(Index=4, start=93.0444426011527, stop=93.45314127195161, label=4, duration=0.40869867079891264, LR_Long_ActuallyIncludedAclus=array([ 6, 11, 39, 61, 82, 84, 89, 92, 98]), LR_Long_rel_num_cells=9, RL_Long_ActuallyIncludedAclus=array([ 4, 11, 18, 38, 39, 57, 61, 82, 84, 89, 91, 92, 98]), RL_Long_rel_num_cells=13, LR_Short_ActuallyIncludedAclus=array([ 6, 11, 39, 61, 82, 84, 89, 92, 98]), LR_Short_rel_num_cells=9, RL_Short_ActuallyIncludedAclus=array([ 4, 11, 18, 38, 39, 57, 61, 82, 84, 89, 91, 92, 98]), RL_Short_rel_num_cells=13)\n",
      "an_epoch: EpochTuple(Index=4, start=93.0444426011527, stop=93.45314127195161, label=4, duration=0.40869867079891264, LR_Long_ActuallyIncludedAclus=array([ 6, 11, 39, 61, 82, 84, 89, 92, 98]), LR_Long_rel_num_cells=9, RL_Long_ActuallyIncludedAclus=array([ 4, 11, 18, 38, 39, 57, 61, 82, 84, 89, 91, 92, 98]), RL_Long_rel_num_cells=13, LR_Short_ActuallyIncludedAclus=array([ 6, 11, 39, 61, 82, 84, 89, 92, 98]), LR_Short_rel_num_cells=9, RL_Short_ActuallyIncludedAclus=array([ 4, 11, 18, 38, 39, 57, 61, 82, 84, 89, 91, 92, 98]), RL_Short_rel_num_cells=13)\n",
      "len(included_any_context_neuron_ids_dict_dict) != len(decoders_dict), assuming this is a single included_any_context_neuron_ids_dict for all decoders like used in `paired_incremental_sort_neurons(...)`. Fixing. \n",
      "emitChanged(): self.val: 3\n",
      "valueChanged(new_val: 3)\n",
      "an_epoch: EpochTuple(Index=3, start=92.64250232698396, stop=92.76006770669483, label=3, duration=0.117565379710868, LR_Long_ActuallyIncludedAclus=array([ 43,  58,  61,  72,  92, 104]), LR_Long_rel_num_cells=6, RL_Long_ActuallyIncludedAclus=array([ 12,  61,  72,  92, 104]), RL_Long_rel_num_cells=5, LR_Short_ActuallyIncludedAclus=array([ 43,  58,  61,  72,  92, 104]), LR_Short_rel_num_cells=6, RL_Short_ActuallyIncludedAclus=array([ 12,  61,  72,  92, 104]), RL_Short_rel_num_cells=5)\n",
      "an_epoch: EpochTuple(Index=3, start=92.64250232698396, stop=92.76006770669483, label=3, duration=0.117565379710868, LR_Long_ActuallyIncludedAclus=array([ 43,  58,  61,  72,  92, 104]), LR_Long_rel_num_cells=6, RL_Long_ActuallyIncludedAclus=array([ 12,  61,  72,  92, 104]), RL_Long_rel_num_cells=5, LR_Short_ActuallyIncludedAclus=array([ 43,  58,  61,  72,  92, 104]), LR_Short_rel_num_cells=6, RL_Short_ActuallyIncludedAclus=array([ 12,  61,  72,  92, 104]), RL_Short_rel_num_cells=5)\n",
      "an_epoch: EpochTuple(Index=3, start=92.64250232698396, stop=92.76006770669483, label=3, duration=0.117565379710868, LR_Long_ActuallyIncludedAclus=array([ 43,  58,  61,  72,  92, 104]), LR_Long_rel_num_cells=6, RL_Long_ActuallyIncludedAclus=array([ 12,  61,  72,  92, 104]), RL_Long_rel_num_cells=5, LR_Short_ActuallyIncludedAclus=array([ 43,  58,  61,  72,  92, 104]), LR_Short_rel_num_cells=6, RL_Short_ActuallyIncludedAclus=array([ 12,  61,  72,  92, 104]), RL_Short_rel_num_cells=5)\n",
      "an_epoch: EpochTuple(Index=3, start=92.64250232698396, stop=92.76006770669483, label=3, duration=0.117565379710868, LR_Long_ActuallyIncludedAclus=array([ 43,  58,  61,  72,  92, 104]), LR_Long_rel_num_cells=6, RL_Long_ActuallyIncludedAclus=array([ 12,  61,  72,  92, 104]), RL_Long_rel_num_cells=5, LR_Short_ActuallyIncludedAclus=array([ 43,  58,  61,  72,  92, 104]), LR_Short_rel_num_cells=6, RL_Short_ActuallyIncludedAclus=array([ 12,  61,  72,  92, 104]), RL_Short_rel_num_cells=5)\n",
      "len(included_any_context_neuron_ids_dict_dict) != len(decoders_dict), assuming this is a single included_any_context_neuron_ids_dict for all decoders like used in `paired_incremental_sort_neurons(...)`. Fixing. \n",
      "emitChanged(): self.val: 2\n",
      "valueChanged(new_val: 2)\n",
      "an_epoch: EpochTuple(Index=2, start=73.6918662696844, stop=73.90921015839558, label=2, duration=0.21734388871118426, LR_Long_ActuallyIncludedAclus=array([ 9, 31, 39, 61]), LR_Long_rel_num_cells=4, RL_Long_ActuallyIncludedAclus=array([ 9, 28, 31, 39, 57, 61, 67]), RL_Long_rel_num_cells=7, LR_Short_ActuallyIncludedAclus=array([ 9, 31, 39, 61]), LR_Short_rel_num_cells=4, RL_Short_ActuallyIncludedAclus=array([ 9, 28, 31, 39, 57, 61, 67]), RL_Short_rel_num_cells=7)\n",
      "an_epoch: EpochTuple(Index=2, start=73.6918662696844, stop=73.90921015839558, label=2, duration=0.21734388871118426, LR_Long_ActuallyIncludedAclus=array([ 9, 31, 39, 61]), LR_Long_rel_num_cells=4, RL_Long_ActuallyIncludedAclus=array([ 9, 28, 31, 39, 57, 61, 67]), RL_Long_rel_num_cells=7, LR_Short_ActuallyIncludedAclus=array([ 9, 31, 39, 61]), LR_Short_rel_num_cells=4, RL_Short_ActuallyIncludedAclus=array([ 9, 28, 31, 39, 57, 61, 67]), RL_Short_rel_num_cells=7)\n",
      "an_epoch: EpochTuple(Index=2, start=73.6918662696844, stop=73.90921015839558, label=2, duration=0.21734388871118426, LR_Long_ActuallyIncludedAclus=array([ 9, 31, 39, 61]), LR_Long_rel_num_cells=4, RL_Long_ActuallyIncludedAclus=array([ 9, 28, 31, 39, 57, 61, 67]), RL_Long_rel_num_cells=7, LR_Short_ActuallyIncludedAclus=array([ 9, 31, 39, 61]), LR_Short_rel_num_cells=4, RL_Short_ActuallyIncludedAclus=array([ 9, 28, 31, 39, 57, 61, 67]), RL_Short_rel_num_cells=7)\n",
      "an_epoch: EpochTuple(Index=2, start=73.6918662696844, stop=73.90921015839558, label=2, duration=0.21734388871118426, LR_Long_ActuallyIncludedAclus=array([ 9, 31, 39, 61]), LR_Long_rel_num_cells=4, RL_Long_ActuallyIncludedAclus=array([ 9, 28, 31, 39, 57, 61, 67]), RL_Long_rel_num_cells=7, LR_Short_ActuallyIncludedAclus=array([ 9, 31, 39, 61]), LR_Short_rel_num_cells=4, RL_Short_ActuallyIncludedAclus=array([ 9, 28, 31, 39, 57, 61, 67]), RL_Short_rel_num_cells=7)\n",
      "len(included_any_context_neuron_ids_dict_dict) != len(decoders_dict), assuming this is a single included_any_context_neuron_ids_dict for all decoders like used in `paired_incremental_sort_neurons(...)`. Fixing. \n",
      "emitChanged(): self.val: 3\n",
      "valueChanged(new_val: 3)\n",
      "an_epoch: EpochTuple(Index=3, start=92.64250232698396, stop=92.76006770669483, label=3, duration=0.117565379710868, LR_Long_ActuallyIncludedAclus=array([ 43,  58,  61,  72,  92, 104]), LR_Long_rel_num_cells=6, RL_Long_ActuallyIncludedAclus=array([ 12,  61,  72,  92, 104]), RL_Long_rel_num_cells=5, LR_Short_ActuallyIncludedAclus=array([ 43,  58,  61,  72,  92, 104]), LR_Short_rel_num_cells=6, RL_Short_ActuallyIncludedAclus=array([ 12,  61,  72,  92, 104]), RL_Short_rel_num_cells=5)\n",
      "an_epoch: EpochTuple(Index=3, start=92.64250232698396, stop=92.76006770669483, label=3, duration=0.117565379710868, LR_Long_ActuallyIncludedAclus=array([ 43,  58,  61,  72,  92, 104]), LR_Long_rel_num_cells=6, RL_Long_ActuallyIncludedAclus=array([ 12,  61,  72,  92, 104]), RL_Long_rel_num_cells=5, LR_Short_ActuallyIncludedAclus=array([ 43,  58,  61,  72,  92, 104]), LR_Short_rel_num_cells=6, RL_Short_ActuallyIncludedAclus=array([ 12,  61,  72,  92, 104]), RL_Short_rel_num_cells=5)\n",
      "an_epoch: EpochTuple(Index=3, start=92.64250232698396, stop=92.76006770669483, label=3, duration=0.117565379710868, LR_Long_ActuallyIncludedAclus=array([ 43,  58,  61,  72,  92, 104]), LR_Long_rel_num_cells=6, RL_Long_ActuallyIncludedAclus=array([ 12,  61,  72,  92, 104]), RL_Long_rel_num_cells=5, LR_Short_ActuallyIncludedAclus=array([ 43,  58,  61,  72,  92, 104]), LR_Short_rel_num_cells=6, RL_Short_ActuallyIncludedAclus=array([ 12,  61,  72,  92, 104]), RL_Short_rel_num_cells=5)\n",
      "an_epoch: EpochTuple(Index=3, start=92.64250232698396, stop=92.76006770669483, label=3, duration=0.117565379710868, LR_Long_ActuallyIncludedAclus=array([ 43,  58,  61,  72,  92, 104]), LR_Long_rel_num_cells=6, RL_Long_ActuallyIncludedAclus=array([ 12,  61,  72,  92, 104]), RL_Long_rel_num_cells=5, LR_Short_ActuallyIncludedAclus=array([ 43,  58,  61,  72,  92, 104]), LR_Short_rel_num_cells=6, RL_Short_ActuallyIncludedAclus=array([ 12,  61,  72,  92, 104]), RL_Short_rel_num_cells=5)\n",
      "len(included_any_context_neuron_ids_dict_dict) != len(decoders_dict), assuming this is a single included_any_context_neuron_ids_dict for all decoders like used in `paired_incremental_sort_neurons(...)`. Fixing. \n",
      "emitChanged(): self.val: 4\n",
      "valueChanged(new_val: 4)\n",
      "an_epoch: EpochTuple(Index=4, start=93.0444426011527, stop=93.45314127195161, label=4, duration=0.40869867079891264, LR_Long_ActuallyIncludedAclus=array([ 6, 11, 39, 61, 82, 84, 89, 92, 98]), LR_Long_rel_num_cells=9, RL_Long_ActuallyIncludedAclus=array([ 4, 11, 18, 38, 39, 57, 61, 82, 84, 89, 91, 92, 98]), RL_Long_rel_num_cells=13, LR_Short_ActuallyIncludedAclus=array([ 6, 11, 39, 61, 82, 84, 89, 92, 98]), LR_Short_rel_num_cells=9, RL_Short_ActuallyIncludedAclus=array([ 4, 11, 18, 38, 39, 57, 61, 82, 84, 89, 91, 92, 98]), RL_Short_rel_num_cells=13)\n",
      "an_epoch: EpochTuple(Index=4, start=93.0444426011527, stop=93.45314127195161, label=4, duration=0.40869867079891264, LR_Long_ActuallyIncludedAclus=array([ 6, 11, 39, 61, 82, 84, 89, 92, 98]), LR_Long_rel_num_cells=9, RL_Long_ActuallyIncludedAclus=array([ 4, 11, 18, 38, 39, 57, 61, 82, 84, 89, 91, 92, 98]), RL_Long_rel_num_cells=13, LR_Short_ActuallyIncludedAclus=array([ 6, 11, 39, 61, 82, 84, 89, 92, 98]), LR_Short_rel_num_cells=9, RL_Short_ActuallyIncludedAclus=array([ 4, 11, 18, 38, 39, 57, 61, 82, 84, 89, 91, 92, 98]), RL_Short_rel_num_cells=13)\n",
      "an_epoch: EpochTuple(Index=4, start=93.0444426011527, stop=93.45314127195161, label=4, duration=0.40869867079891264, LR_Long_ActuallyIncludedAclus=array([ 6, 11, 39, 61, 82, 84, 89, 92, 98]), LR_Long_rel_num_cells=9, RL_Long_ActuallyIncludedAclus=array([ 4, 11, 18, 38, 39, 57, 61, 82, 84, 89, 91, 92, 98]), RL_Long_rel_num_cells=13, LR_Short_ActuallyIncludedAclus=array([ 6, 11, 39, 61, 82, 84, 89, 92, 98]), LR_Short_rel_num_cells=9, RL_Short_ActuallyIncludedAclus=array([ 4, 11, 18, 38, 39, 57, 61, 82, 84, 89, 91, 92, 98]), RL_Short_rel_num_cells=13)\n",
      "an_epoch: EpochTuple(Index=4, start=93.0444426011527, stop=93.45314127195161, label=4, duration=0.40869867079891264, LR_Long_ActuallyIncludedAclus=array([ 6, 11, 39, 61, 82, 84, 89, 92, 98]), LR_Long_rel_num_cells=9, RL_Long_ActuallyIncludedAclus=array([ 4, 11, 18, 38, 39, 57, 61, 82, 84, 89, 91, 92, 98]), RL_Long_rel_num_cells=13, LR_Short_ActuallyIncludedAclus=array([ 6, 11, 39, 61, 82, 84, 89, 92, 98]), LR_Short_rel_num_cells=9, RL_Short_ActuallyIncludedAclus=array([ 4, 11, 18, 38, 39, 57, 61, 82, 84, 89, 91, 92, 98]), RL_Short_rel_num_cells=13)\n",
      "len(included_any_context_neuron_ids_dict_dict) != len(decoders_dict), assuming this is a single included_any_context_neuron_ids_dict for all decoders like used in `paired_incremental_sort_neurons(...)`. Fixing. \n",
      "emitChanged(): self.val: 5\n",
      "valueChanged(new_val: 5)\n",
      "an_epoch: EpochTuple(Index=5, start=93.92500023031607, stop=94.02957105683163, label=5, duration=0.10457082651555538, LR_Long_ActuallyIncludedAclus=array([ 5, 29, 31, 35]), LR_Long_rel_num_cells=4, RL_Long_ActuallyIncludedAclus=array([12, 31, 38, 57]), RL_Long_rel_num_cells=4, LR_Short_ActuallyIncludedAclus=array([ 5, 29, 31, 35]), LR_Short_rel_num_cells=4, RL_Short_ActuallyIncludedAclus=array([12, 31, 38, 57]), RL_Short_rel_num_cells=4)\n",
      "an_epoch: EpochTuple(Index=5, start=93.92500023031607, stop=94.02957105683163, label=5, duration=0.10457082651555538, LR_Long_ActuallyIncludedAclus=array([ 5, 29, 31, 35]), LR_Long_rel_num_cells=4, RL_Long_ActuallyIncludedAclus=array([12, 31, 38, 57]), RL_Long_rel_num_cells=4, LR_Short_ActuallyIncludedAclus=array([ 5, 29, 31, 35]), LR_Short_rel_num_cells=4, RL_Short_ActuallyIncludedAclus=array([12, 31, 38, 57]), RL_Short_rel_num_cells=4)\n",
      "an_epoch: EpochTuple(Index=5, start=93.92500023031607, stop=94.02957105683163, label=5, duration=0.10457082651555538, LR_Long_ActuallyIncludedAclus=array([ 5, 29, 31, 35]), LR_Long_rel_num_cells=4, RL_Long_ActuallyIncludedAclus=array([12, 31, 38, 57]), RL_Long_rel_num_cells=4, LR_Short_ActuallyIncludedAclus=array([ 5, 29, 31, 35]), LR_Short_rel_num_cells=4, RL_Short_ActuallyIncludedAclus=array([12, 31, 38, 57]), RL_Short_rel_num_cells=4)\n",
      "an_epoch: EpochTuple(Index=5, start=93.92500023031607, stop=94.02957105683163, label=5, duration=0.10457082651555538, LR_Long_ActuallyIncludedAclus=array([ 5, 29, 31, 35]), LR_Long_rel_num_cells=4, RL_Long_ActuallyIncludedAclus=array([12, 31, 38, 57]), RL_Long_rel_num_cells=4, LR_Short_ActuallyIncludedAclus=array([ 5, 29, 31, 35]), LR_Short_rel_num_cells=4, RL_Short_ActuallyIncludedAclus=array([12, 31, 38, 57]), RL_Short_rel_num_cells=4)\n",
      "len(included_any_context_neuron_ids_dict_dict) != len(decoders_dict), assuming this is a single included_any_context_neuron_ids_dict for all decoders like used in `paired_incremental_sort_neurons(...)`. Fixing. \n",
      "emitChanged(): self.val: 6\n",
      "valueChanged(new_val: 6)\n",
      "an_epoch: EpochTuple(Index=6, start=102.92730730120093, stop=103.18781276780646, label=6, duration=0.26050546660553664, LR_Long_ActuallyIncludedAclus=array([ 2, 58, 72, 92, 93]), LR_Long_rel_num_cells=5, RL_Long_ActuallyIncludedAclus=array([18, 57, 72, 92, 93]), RL_Long_rel_num_cells=5, LR_Short_ActuallyIncludedAclus=array([ 2, 58, 72, 92, 93]), LR_Short_rel_num_cells=5, RL_Short_ActuallyIncludedAclus=array([18, 57, 72, 92, 93]), RL_Short_rel_num_cells=5)\n",
      "an_epoch: EpochTuple(Index=6, start=102.92730730120093, stop=103.18781276780646, label=6, duration=0.26050546660553664, LR_Long_ActuallyIncludedAclus=array([ 2, 58, 72, 92, 93]), LR_Long_rel_num_cells=5, RL_Long_ActuallyIncludedAclus=array([18, 57, 72, 92, 93]), RL_Long_rel_num_cells=5, LR_Short_ActuallyIncludedAclus=array([ 2, 58, 72, 92, 93]), LR_Short_rel_num_cells=5, RL_Short_ActuallyIncludedAclus=array([18, 57, 72, 92, 93]), RL_Short_rel_num_cells=5)\n",
      "an_epoch: EpochTuple(Index=6, start=102.92730730120093, stop=103.18781276780646, label=6, duration=0.26050546660553664, LR_Long_ActuallyIncludedAclus=array([ 2, 58, 72, 92, 93]), LR_Long_rel_num_cells=5, RL_Long_ActuallyIncludedAclus=array([18, 57, 72, 92, 93]), RL_Long_rel_num_cells=5, LR_Short_ActuallyIncludedAclus=array([ 2, 58, 72, 92, 93]), LR_Short_rel_num_cells=5, RL_Short_ActuallyIncludedAclus=array([18, 57, 72, 92, 93]), RL_Short_rel_num_cells=5)\n",
      "an_epoch: EpochTuple(Index=6, start=102.92730730120093, stop=103.18781276780646, label=6, duration=0.26050546660553664, LR_Long_ActuallyIncludedAclus=array([ 2, 58, 72, 92, 93]), LR_Long_rel_num_cells=5, RL_Long_ActuallyIncludedAclus=array([18, 57, 72, 92, 93]), RL_Long_rel_num_cells=5, LR_Short_ActuallyIncludedAclus=array([ 2, 58, 72, 92, 93]), LR_Short_rel_num_cells=5, RL_Short_ActuallyIncludedAclus=array([18, 57, 72, 92, 93]), RL_Short_rel_num_cells=5)\n",
      "len(included_any_context_neuron_ids_dict_dict) != len(decoders_dict), assuming this is a single included_any_context_neuron_ids_dict for all decoders like used in `paired_incremental_sort_neurons(...)`. Fixing. \n",
      "emitChanged(): self.val: 7\n",
      "valueChanged(new_val: 7)\n",
      "an_epoch: EpochTuple(Index=7, start=104.4928898595972, stop=104.54772503161803, label=7, duration=0.054835172020830214, LR_Long_ActuallyIncludedAclus=array([43, 44, 58, 79, 82, 92]), LR_Long_rel_num_cells=6, RL_Long_ActuallyIncludedAclus=array([44, 79, 82, 92]), RL_Long_rel_num_cells=4, LR_Short_ActuallyIncludedAclus=array([43, 44, 58, 79, 82, 92]), LR_Short_rel_num_cells=6, RL_Short_ActuallyIncludedAclus=array([44, 79, 82, 92]), RL_Short_rel_num_cells=4)\n",
      "an_epoch: EpochTuple(Index=7, start=104.4928898595972, stop=104.54772503161803, label=7, duration=0.054835172020830214, LR_Long_ActuallyIncludedAclus=array([43, 44, 58, 79, 82, 92]), LR_Long_rel_num_cells=6, RL_Long_ActuallyIncludedAclus=array([44, 79, 82, 92]), RL_Long_rel_num_cells=4, LR_Short_ActuallyIncludedAclus=array([43, 44, 58, 79, 82, 92]), LR_Short_rel_num_cells=6, RL_Short_ActuallyIncludedAclus=array([44, 79, 82, 92]), RL_Short_rel_num_cells=4)\n",
      "an_epoch: EpochTuple(Index=7, start=104.4928898595972, stop=104.54772503161803, label=7, duration=0.054835172020830214, LR_Long_ActuallyIncludedAclus=array([43, 44, 58, 79, 82, 92]), LR_Long_rel_num_cells=6, RL_Long_ActuallyIncludedAclus=array([44, 79, 82, 92]), RL_Long_rel_num_cells=4, LR_Short_ActuallyIncludedAclus=array([43, 44, 58, 79, 82, 92]), LR_Short_rel_num_cells=6, RL_Short_ActuallyIncludedAclus=array([44, 79, 82, 92]), RL_Short_rel_num_cells=4)\n",
      "an_epoch: EpochTuple(Index=7, start=104.4928898595972, stop=104.54772503161803, label=7, duration=0.054835172020830214, LR_Long_ActuallyIncludedAclus=array([43, 44, 58, 79, 82, 92]), LR_Long_rel_num_cells=6, RL_Long_ActuallyIncludedAclus=array([44, 79, 82, 92]), RL_Long_rel_num_cells=4, LR_Short_ActuallyIncludedAclus=array([43, 44, 58, 79, 82, 92]), LR_Short_rel_num_cells=6, RL_Short_ActuallyIncludedAclus=array([44, 79, 82, 92]), RL_Short_rel_num_cells=4)\n",
      "len(included_any_context_neuron_ids_dict_dict) != len(decoders_dict), assuming this is a single included_any_context_neuron_ids_dict for all decoders like used in `paired_incremental_sort_neurons(...)`. Fixing. \n",
      "emitChanged(): self.val: 8\n",
      "valueChanged(new_val: 8)\n",
      "an_epoch: EpochTuple(Index=8, start=105.40014315512963, stop=105.56255971186329, label=8, duration=0.1624165567336604, LR_Long_ActuallyIncludedAclus=array([  2,  11,  24,  39,  43,  44,  48,  66,  79,  81,  82,  92, 104]), LR_Long_rel_num_cells=13, RL_Long_ActuallyIncludedAclus=array([  4,  11,  12,  24,  27,  39,  44,  48,  63,  66,  79,  81,  82,  92, 104]), RL_Long_rel_num_cells=15, LR_Short_ActuallyIncludedAclus=array([  2,  11,  24,  39,  43,  44,  48,  66,  79,  81,  82,  92, 104]), LR_Short_rel_num_cells=13, RL_Short_ActuallyIncludedAclus=array([  4,  11,  12,  24,  27,  39,  44,  48,  63,  66,  79,  81,  82,  92, 104]), RL_Short_rel_num_cells=15)\n",
      "an_epoch: EpochTuple(Index=8, start=105.40014315512963, stop=105.56255971186329, label=8, duration=0.1624165567336604, LR_Long_ActuallyIncludedAclus=array([  2,  11,  24,  39,  43,  44,  48,  66,  79,  81,  82,  92, 104]), LR_Long_rel_num_cells=13, RL_Long_ActuallyIncludedAclus=array([  4,  11,  12,  24,  27,  39,  44,  48,  63,  66,  79,  81,  82,  92, 104]), RL_Long_rel_num_cells=15, LR_Short_ActuallyIncludedAclus=array([  2,  11,  24,  39,  43,  44,  48,  66,  79,  81,  82,  92, 104]), LR_Short_rel_num_cells=13, RL_Short_ActuallyIncludedAclus=array([  4,  11,  12,  24,  27,  39,  44,  48,  63,  66,  79,  81,  82,  92, 104]), RL_Short_rel_num_cells=15)\n",
      "an_epoch: EpochTuple(Index=8, start=105.40014315512963, stop=105.56255971186329, label=8, duration=0.1624165567336604, LR_Long_ActuallyIncludedAclus=array([  2,  11,  24,  39,  43,  44,  48,  66,  79,  81,  82,  92, 104]), LR_Long_rel_num_cells=13, RL_Long_ActuallyIncludedAclus=array([  4,  11,  12,  24,  27,  39,  44,  48,  63,  66,  79,  81,  82,  92, 104]), RL_Long_rel_num_cells=15, LR_Short_ActuallyIncludedAclus=array([  2,  11,  24,  39,  43,  44,  48,  66,  79,  81,  82,  92, 104]), LR_Short_rel_num_cells=13, RL_Short_ActuallyIncludedAclus=array([  4,  11,  12,  24,  27,  39,  44,  48,  63,  66,  79,  81,  82,  92, 104]), RL_Short_rel_num_cells=15)\n",
      "an_epoch: EpochTuple(Index=8, start=105.40014315512963, stop=105.56255971186329, label=8, duration=0.1624165567336604, LR_Long_ActuallyIncludedAclus=array([  2,  11,  24,  39,  43,  44,  48,  66,  79,  81,  82,  92, 104]), LR_Long_rel_num_cells=13, RL_Long_ActuallyIncludedAclus=array([  4,  11,  12,  24,  27,  39,  44,  48,  63,  66,  79,  81,  82,  92, 104]), RL_Long_rel_num_cells=15, LR_Short_ActuallyIncludedAclus=array([  2,  11,  24,  39,  43,  44,  48,  66,  79,  81,  82,  92, 104]), LR_Short_rel_num_cells=13, RL_Short_ActuallyIncludedAclus=array([  4,  11,  12,  24,  27,  39,  44,  48,  63,  66,  79,  81,  82,  92, 104]), RL_Short_rel_num_cells=15)\n",
      "len(included_any_context_neuron_ids_dict_dict) != len(decoders_dict), assuming this is a single included_any_context_neuron_ids_dict for all decoders like used in `paired_incremental_sort_neurons(...)`. Fixing. \n",
      "emitChanged(): self.val: 9\n",
      "valueChanged(new_val: 9)\n",
      "an_epoch: EpochTuple(Index=9, start=113.32212053902913, stop=113.5673274534056, label=9, duration=0.24520691437646747, LR_Long_ActuallyIncludedAclus=array([39, 43, 61, 92, 98]), LR_Long_rel_num_cells=5, RL_Long_ActuallyIncludedAclus=array([18, 39, 59, 61, 62, 92, 98]), RL_Long_rel_num_cells=7, LR_Short_ActuallyIncludedAclus=array([39, 43, 61, 92, 98]), LR_Short_rel_num_cells=5, RL_Short_ActuallyIncludedAclus=array([18, 39, 59, 61, 62, 92, 98]), RL_Short_rel_num_cells=7)\n",
      "an_epoch: EpochTuple(Index=9, start=113.32212053902913, stop=113.5673274534056, label=9, duration=0.24520691437646747, LR_Long_ActuallyIncludedAclus=array([39, 43, 61, 92, 98]), LR_Long_rel_num_cells=5, RL_Long_ActuallyIncludedAclus=array([18, 39, 59, 61, 62, 92, 98]), RL_Long_rel_num_cells=7, LR_Short_ActuallyIncludedAclus=array([39, 43, 61, 92, 98]), LR_Short_rel_num_cells=5, RL_Short_ActuallyIncludedAclus=array([18, 39, 59, 61, 62, 92, 98]), RL_Short_rel_num_cells=7)\n",
      "an_epoch: EpochTuple(Index=9, start=113.32212053902913, stop=113.5673274534056, label=9, duration=0.24520691437646747, LR_Long_ActuallyIncludedAclus=array([39, 43, 61, 92, 98]), LR_Long_rel_num_cells=5, RL_Long_ActuallyIncludedAclus=array([18, 39, 59, 61, 62, 92, 98]), RL_Long_rel_num_cells=7, LR_Short_ActuallyIncludedAclus=array([39, 43, 61, 92, 98]), LR_Short_rel_num_cells=5, RL_Short_ActuallyIncludedAclus=array([18, 39, 59, 61, 62, 92, 98]), RL_Short_rel_num_cells=7)\n",
      "an_epoch: EpochTuple(Index=9, start=113.32212053902913, stop=113.5673274534056, label=9, duration=0.24520691437646747, LR_Long_ActuallyIncludedAclus=array([39, 43, 61, 92, 98]), LR_Long_rel_num_cells=5, RL_Long_ActuallyIncludedAclus=array([18, 39, 59, 61, 62, 92, 98]), RL_Long_rel_num_cells=7, LR_Short_ActuallyIncludedAclus=array([39, 43, 61, 92, 98]), LR_Short_rel_num_cells=5, RL_Short_ActuallyIncludedAclus=array([18, 39, 59, 61, 62, 92, 98]), RL_Short_rel_num_cells=7)\n",
      "len(included_any_context_neuron_ids_dict_dict) != len(decoders_dict), assuming this is a single included_any_context_neuron_ids_dict for all decoders like used in `paired_incremental_sort_neurons(...)`. Fixing. \n",
      "emitChanged(): self.val: 10\n",
      "valueChanged(new_val: 10)\n",
      "an_epoch: EpochTuple(Index=11, start=120.71586779342033, stop=120.86197203863412, label=11, duration=0.14610424521379173, LR_Long_ActuallyIncludedAclus=array([ 11,  43,  72,  79,  84,  92, 104]), LR_Long_rel_num_cells=7, RL_Long_ActuallyIncludedAclus=array([ 11,  59,  72,  79,  84,  92, 104]), RL_Long_rel_num_cells=7, LR_Short_ActuallyIncludedAclus=array([ 11,  43,  72,  79,  84,  92, 104]), LR_Short_rel_num_cells=7, RL_Short_ActuallyIncludedAclus=array([ 11,  59,  72,  79,  84,  92, 104]), RL_Short_rel_num_cells=7)\n",
      "an_epoch: EpochTuple(Index=11, start=120.71586779342033, stop=120.86197203863412, label=11, duration=0.14610424521379173, LR_Long_ActuallyIncludedAclus=array([ 11,  43,  72,  79,  84,  92, 104]), LR_Long_rel_num_cells=7, RL_Long_ActuallyIncludedAclus=array([ 11,  59,  72,  79,  84,  92, 104]), RL_Long_rel_num_cells=7, LR_Short_ActuallyIncludedAclus=array([ 11,  43,  72,  79,  84,  92, 104]), LR_Short_rel_num_cells=7, RL_Short_ActuallyIncludedAclus=array([ 11,  59,  72,  79,  84,  92, 104]), RL_Short_rel_num_cells=7)\n",
      "an_epoch: EpochTuple(Index=11, start=120.71586779342033, stop=120.86197203863412, label=11, duration=0.14610424521379173, LR_Long_ActuallyIncludedAclus=array([ 11,  43,  72,  79,  84,  92, 104]), LR_Long_rel_num_cells=7, RL_Long_ActuallyIncludedAclus=array([ 11,  59,  72,  79,  84,  92, 104]), RL_Long_rel_num_cells=7, LR_Short_ActuallyIncludedAclus=array([ 11,  43,  72,  79,  84,  92, 104]), LR_Short_rel_num_cells=7, RL_Short_ActuallyIncludedAclus=array([ 11,  59,  72,  79,  84,  92, 104]), RL_Short_rel_num_cells=7)\n",
      "an_epoch: EpochTuple(Index=11, start=120.71586779342033, stop=120.86197203863412, label=11, duration=0.14610424521379173, LR_Long_ActuallyIncludedAclus=array([ 11,  43,  72,  79,  84,  92, 104]), LR_Long_rel_num_cells=7, RL_Long_ActuallyIncludedAclus=array([ 11,  59,  72,  79,  84,  92, 104]), RL_Long_rel_num_cells=7, LR_Short_ActuallyIncludedAclus=array([ 11,  43,  72,  79,  84,  92, 104]), LR_Short_rel_num_cells=7, RL_Short_ActuallyIncludedAclus=array([ 11,  59,  72,  79,  84,  92, 104]), RL_Short_rel_num_cells=7)\n",
      "len(included_any_context_neuron_ids_dict_dict) != len(decoders_dict), assuming this is a single included_any_context_neuron_ids_dict for all decoders like used in `paired_incremental_sort_neurons(...)`. Fixing. \n",
      "emitChanged(): self.val: 11\n",
      "valueChanged(new_val: 11)\n",
      "an_epoch: EpochTuple(Index=12, start=121.67666602157988, stop=121.77346469194163, label=12, duration=0.09679867036174983, LR_Long_ActuallyIncludedAclus=array([  2,  11,  81, 104]), LR_Long_rel_num_cells=4, RL_Long_ActuallyIncludedAclus=array([ 11,  18,  27,  62,  63,  81,  91, 104]), RL_Long_rel_num_cells=8, LR_Short_ActuallyIncludedAclus=array([  2,  11,  81, 104]), LR_Short_rel_num_cells=4, RL_Short_ActuallyIncludedAclus=array([ 11,  18,  27,  62,  63,  81,  91, 104]), RL_Short_rel_num_cells=8)\n",
      "an_epoch: EpochTuple(Index=12, start=121.67666602157988, stop=121.77346469194163, label=12, duration=0.09679867036174983, LR_Long_ActuallyIncludedAclus=array([  2,  11,  81, 104]), LR_Long_rel_num_cells=4, RL_Long_ActuallyIncludedAclus=array([ 11,  18,  27,  62,  63,  81,  91, 104]), RL_Long_rel_num_cells=8, LR_Short_ActuallyIncludedAclus=array([  2,  11,  81, 104]), LR_Short_rel_num_cells=4, RL_Short_ActuallyIncludedAclus=array([ 11,  18,  27,  62,  63,  81,  91, 104]), RL_Short_rel_num_cells=8)\n",
      "an_epoch: EpochTuple(Index=12, start=121.67666602157988, stop=121.77346469194163, label=12, duration=0.09679867036174983, LR_Long_ActuallyIncludedAclus=array([  2,  11,  81, 104]), LR_Long_rel_num_cells=4, RL_Long_ActuallyIncludedAclus=array([ 11,  18,  27,  62,  63,  81,  91, 104]), RL_Long_rel_num_cells=8, LR_Short_ActuallyIncludedAclus=array([  2,  11,  81, 104]), LR_Short_rel_num_cells=4, RL_Short_ActuallyIncludedAclus=array([ 11,  18,  27,  62,  63,  81,  91, 104]), RL_Short_rel_num_cells=8)\n",
      "an_epoch: EpochTuple(Index=12, start=121.67666602157988, stop=121.77346469194163, label=12, duration=0.09679867036174983, LR_Long_ActuallyIncludedAclus=array([  2,  11,  81, 104]), LR_Long_rel_num_cells=4, RL_Long_ActuallyIncludedAclus=array([ 11,  18,  27,  62,  63,  81,  91, 104]), RL_Long_rel_num_cells=8, LR_Short_ActuallyIncludedAclus=array([  2,  11,  81, 104]), LR_Short_rel_num_cells=4, RL_Short_ActuallyIncludedAclus=array([ 11,  18,  27,  62,  63,  81,  91, 104]), RL_Short_rel_num_cells=8)\n",
      "len(included_any_context_neuron_ids_dict_dict) != len(decoders_dict), assuming this is a single included_any_context_neuron_ids_dict for all decoders like used in `paired_incremental_sort_neurons(...)`. Fixing. \n",
      "emitChanged(): self.val: 12\n",
      "valueChanged(new_val: 12)\n",
      "an_epoch: EpochTuple(Index=14, start=125.08790523489006, stop=125.20980213256553, label=14, duration=0.12189689767546952, LR_Long_ActuallyIncludedAclus=array([  2,   8,   9,  30,  61,  72,  84,  86,  93,  98, 104]), LR_Long_rel_num_cells=11, RL_Long_ActuallyIncludedAclus=array([  9,  59,  61,  72,  84,  90,  93,  98, 104]), RL_Long_rel_num_cells=9, LR_Short_ActuallyIncludedAclus=array([  2,   8,   9,  30,  61,  72,  84,  86,  93,  98, 104]), LR_Short_rel_num_cells=11, RL_Short_ActuallyIncludedAclus=array([  9,  59,  61,  72,  84,  90,  93,  98, 104]), RL_Short_rel_num_cells=9)\n",
      "an_epoch: EpochTuple(Index=14, start=125.08790523489006, stop=125.20980213256553, label=14, duration=0.12189689767546952, LR_Long_ActuallyIncludedAclus=array([  2,   8,   9,  30,  61,  72,  84,  86,  93,  98, 104]), LR_Long_rel_num_cells=11, RL_Long_ActuallyIncludedAclus=array([  9,  59,  61,  72,  84,  90,  93,  98, 104]), RL_Long_rel_num_cells=9, LR_Short_ActuallyIncludedAclus=array([  2,   8,   9,  30,  61,  72,  84,  86,  93,  98, 104]), LR_Short_rel_num_cells=11, RL_Short_ActuallyIncludedAclus=array([  9,  59,  61,  72,  84,  90,  93,  98, 104]), RL_Short_rel_num_cells=9)\n",
      "an_epoch: EpochTuple(Index=14, start=125.08790523489006, stop=125.20980213256553, label=14, duration=0.12189689767546952, LR_Long_ActuallyIncludedAclus=array([  2,   8,   9,  30,  61,  72,  84,  86,  93,  98, 104]), LR_Long_rel_num_cells=11, RL_Long_ActuallyIncludedAclus=array([  9,  59,  61,  72,  84,  90,  93,  98, 104]), RL_Long_rel_num_cells=9, LR_Short_ActuallyIncludedAclus=array([  2,   8,   9,  30,  61,  72,  84,  86,  93,  98, 104]), LR_Short_rel_num_cells=11, RL_Short_ActuallyIncludedAclus=array([  9,  59,  61,  72,  84,  90,  93,  98, 104]), RL_Short_rel_num_cells=9)\n",
      "an_epoch: EpochTuple(Index=14, start=125.08790523489006, stop=125.20980213256553, label=14, duration=0.12189689767546952, LR_Long_ActuallyIncludedAclus=array([  2,   8,   9,  30,  61,  72,  84,  86,  93,  98, 104]), LR_Long_rel_num_cells=11, RL_Long_ActuallyIncludedAclus=array([  9,  59,  61,  72,  84,  90,  93,  98, 104]), RL_Long_rel_num_cells=9, LR_Short_ActuallyIncludedAclus=array([  2,   8,   9,  30,  61,  72,  84,  86,  93,  98, 104]), LR_Short_rel_num_cells=11, RL_Short_ActuallyIncludedAclus=array([  9,  59,  61,  72,  84,  90,  93,  98, 104]), RL_Short_rel_num_cells=9)\n",
      "len(included_any_context_neuron_ids_dict_dict) != len(decoders_dict), assuming this is a single included_any_context_neuron_ids_dict for all decoders like used in `paired_incremental_sort_neurons(...)`. Fixing. \n",
      "emitChanged(): self.val: 13\n",
      "valueChanged(new_val: 13)\n",
      "an_epoch: EpochTuple(Index=15, start=125.65158622642048, stop=125.93977039877791, label=15, duration=0.28818417235743254, LR_Long_ActuallyIncludedAclus=array([  6,   9,  35,  43,  80,  89,  93, 104]), LR_Long_rel_num_cells=8, RL_Long_ActuallyIncludedAclus=array([  9,  18,  80,  89,  93, 104]), RL_Long_rel_num_cells=6, LR_Short_ActuallyIncludedAclus=array([  6,   9,  35,  43,  80,  89,  93, 104]), LR_Short_rel_num_cells=8, RL_Short_ActuallyIncludedAclus=array([  9,  18,  80,  89,  93, 104]), RL_Short_rel_num_cells=6)\n",
      "an_epoch: EpochTuple(Index=15, start=125.65158622642048, stop=125.93977039877791, label=15, duration=0.28818417235743254, LR_Long_ActuallyIncludedAclus=array([  6,   9,  35,  43,  80,  89,  93, 104]), LR_Long_rel_num_cells=8, RL_Long_ActuallyIncludedAclus=array([  9,  18,  80,  89,  93, 104]), RL_Long_rel_num_cells=6, LR_Short_ActuallyIncludedAclus=array([  6,   9,  35,  43,  80,  89,  93, 104]), LR_Short_rel_num_cells=8, RL_Short_ActuallyIncludedAclus=array([  9,  18,  80,  89,  93, 104]), RL_Short_rel_num_cells=6)\n",
      "an_epoch: EpochTuple(Index=15, start=125.65158622642048, stop=125.93977039877791, label=15, duration=0.28818417235743254, LR_Long_ActuallyIncludedAclus=array([  6,   9,  35,  43,  80,  89,  93, 104]), LR_Long_rel_num_cells=8, RL_Long_ActuallyIncludedAclus=array([  9,  18,  80,  89,  93, 104]), RL_Long_rel_num_cells=6, LR_Short_ActuallyIncludedAclus=array([  6,   9,  35,  43,  80,  89,  93, 104]), LR_Short_rel_num_cells=8, RL_Short_ActuallyIncludedAclus=array([  9,  18,  80,  89,  93, 104]), RL_Short_rel_num_cells=6)\n",
      "an_epoch: EpochTuple(Index=15, start=125.65158622642048, stop=125.93977039877791, label=15, duration=0.28818417235743254, LR_Long_ActuallyIncludedAclus=array([  6,   9,  35,  43,  80,  89,  93, 104]), LR_Long_rel_num_cells=8, RL_Long_ActuallyIncludedAclus=array([  9,  18,  80,  89,  93, 104]), RL_Long_rel_num_cells=6, LR_Short_ActuallyIncludedAclus=array([  6,   9,  35,  43,  80,  89,  93, 104]), LR_Short_rel_num_cells=8, RL_Short_ActuallyIncludedAclus=array([  9,  18,  80,  89,  93, 104]), RL_Short_rel_num_cells=6)\n",
      "len(included_any_context_neuron_ids_dict_dict) != len(decoders_dict), assuming this is a single included_any_context_neuron_ids_dict for all decoders like used in `paired_incremental_sort_neurons(...)`. Fixing. \n",
      "emitChanged(): self.val: 14\n",
      "valueChanged(new_val: 14)\n",
      "an_epoch: EpochTuple(Index=17, start=132.5150143923238, stop=132.79100273095537, label=17, duration=0.2759883386315778, LR_Long_ActuallyIncludedAclus=array([  9,  31,  39,  43,  44,  61,  72,  79,  84,  86,  92,  93, 104]), LR_Long_rel_num_cells=13, RL_Long_ActuallyIncludedAclus=array([  9,  31,  39,  44,  59,  61,  72,  79,  84,  90,  92,  93, 104]), RL_Long_rel_num_cells=13, LR_Short_ActuallyIncludedAclus=array([  9,  31,  39,  43,  44,  61,  72,  79,  84,  86,  92,  93, 104]), LR_Short_rel_num_cells=13, RL_Short_ActuallyIncludedAclus=array([  9,  31,  39,  44,  59,  61,  72,  79,  84,  90,  92,  93, 104]), RL_Short_rel_num_cells=13)\n",
      "an_epoch: EpochTuple(Index=17, start=132.5150143923238, stop=132.79100273095537, label=17, duration=0.2759883386315778, LR_Long_ActuallyIncludedAclus=array([  9,  31,  39,  43,  44,  61,  72,  79,  84,  86,  92,  93, 104]), LR_Long_rel_num_cells=13, RL_Long_ActuallyIncludedAclus=array([  9,  31,  39,  44,  59,  61,  72,  79,  84,  90,  92,  93, 104]), RL_Long_rel_num_cells=13, LR_Short_ActuallyIncludedAclus=array([  9,  31,  39,  43,  44,  61,  72,  79,  84,  86,  92,  93, 104]), LR_Short_rel_num_cells=13, RL_Short_ActuallyIncludedAclus=array([  9,  31,  39,  44,  59,  61,  72,  79,  84,  90,  92,  93, 104]), RL_Short_rel_num_cells=13)\n",
      "an_epoch: EpochTuple(Index=17, start=132.5150143923238, stop=132.79100273095537, label=17, duration=0.2759883386315778, LR_Long_ActuallyIncludedAclus=array([  9,  31,  39,  43,  44,  61,  72,  79,  84,  86,  92,  93, 104]), LR_Long_rel_num_cells=13, RL_Long_ActuallyIncludedAclus=array([  9,  31,  39,  44,  59,  61,  72,  79,  84,  90,  92,  93, 104]), RL_Long_rel_num_cells=13, LR_Short_ActuallyIncludedAclus=array([  9,  31,  39,  43,  44,  61,  72,  79,  84,  86,  92,  93, 104]), LR_Short_rel_num_cells=13, RL_Short_ActuallyIncludedAclus=array([  9,  31,  39,  44,  59,  61,  72,  79,  84,  90,  92,  93, 104]), RL_Short_rel_num_cells=13)\n",
      "an_epoch: EpochTuple(Index=17, start=132.5150143923238, stop=132.79100273095537, label=17, duration=0.2759883386315778, LR_Long_ActuallyIncludedAclus=array([  9,  31,  39,  43,  44,  61,  72,  79,  84,  86,  92,  93, 104]), LR_Long_rel_num_cells=13, RL_Long_ActuallyIncludedAclus=array([  9,  31,  39,  44,  59,  61,  72,  79,  84,  90,  92,  93, 104]), RL_Long_rel_num_cells=13, LR_Short_ActuallyIncludedAclus=array([  9,  31,  39,  43,  44,  61,  72,  79,  84,  86,  92,  93, 104]), LR_Short_rel_num_cells=13, RL_Short_ActuallyIncludedAclus=array([  9,  31,  39,  44,  59,  61,  72,  79,  84,  90,  92,  93, 104]), RL_Short_rel_num_cells=13)\n",
      "len(included_any_context_neuron_ids_dict_dict) != len(decoders_dict), assuming this is a single included_any_context_neuron_ids_dict for all decoders like used in `paired_incremental_sort_neurons(...)`. Fixing. \n",
      "emitChanged(): self.val: 15\n",
      "valueChanged(new_val: 15)\n",
      "an_epoch: EpochTuple(Index=23, start=144.2646710963454, stop=144.38890271284617, label=23, duration=0.12423161650076509, LR_Long_ActuallyIncludedAclus=array([ 39,  43,  48,  61, 104]), LR_Long_rel_num_cells=5, RL_Long_ActuallyIncludedAclus=array([  4,  39,  48,  59,  61, 104]), RL_Long_rel_num_cells=6, LR_Short_ActuallyIncludedAclus=array([ 39,  43,  48,  61, 104]), LR_Short_rel_num_cells=5, RL_Short_ActuallyIncludedAclus=array([  4,  39,  48,  59,  61, 104]), RL_Short_rel_num_cells=6)\n",
      "an_epoch: EpochTuple(Index=23, start=144.2646710963454, stop=144.38890271284617, label=23, duration=0.12423161650076509, LR_Long_ActuallyIncludedAclus=array([ 39,  43,  48,  61, 104]), LR_Long_rel_num_cells=5, RL_Long_ActuallyIncludedAclus=array([  4,  39,  48,  59,  61, 104]), RL_Long_rel_num_cells=6, LR_Short_ActuallyIncludedAclus=array([ 39,  43,  48,  61, 104]), LR_Short_rel_num_cells=5, RL_Short_ActuallyIncludedAclus=array([  4,  39,  48,  59,  61, 104]), RL_Short_rel_num_cells=6)\n",
      "an_epoch: EpochTuple(Index=23, start=144.2646710963454, stop=144.38890271284617, label=23, duration=0.12423161650076509, LR_Long_ActuallyIncludedAclus=array([ 39,  43,  48,  61, 104]), LR_Long_rel_num_cells=5, RL_Long_ActuallyIncludedAclus=array([  4,  39,  48,  59,  61, 104]), RL_Long_rel_num_cells=6, LR_Short_ActuallyIncludedAclus=array([ 39,  43,  48,  61, 104]), LR_Short_rel_num_cells=5, RL_Short_ActuallyIncludedAclus=array([  4,  39,  48,  59,  61, 104]), RL_Short_rel_num_cells=6)\n",
      "an_epoch: EpochTuple(Index=23, start=144.2646710963454, stop=144.38890271284617, label=23, duration=0.12423161650076509, LR_Long_ActuallyIncludedAclus=array([ 39,  43,  48,  61, 104]), LR_Long_rel_num_cells=5, RL_Long_ActuallyIncludedAclus=array([  4,  39,  48,  59,  61, 104]), RL_Long_rel_num_cells=6, LR_Short_ActuallyIncludedAclus=array([ 39,  43,  48,  61, 104]), LR_Short_rel_num_cells=5, RL_Short_ActuallyIncludedAclus=array([  4,  39,  48,  59,  61, 104]), RL_Short_rel_num_cells=6)\n",
      "len(included_any_context_neuron_ids_dict_dict) != len(decoders_dict), assuming this is a single included_any_context_neuron_ids_dict for all decoders like used in `paired_incremental_sort_neurons(...)`. Fixing. \n",
      "emitChanged(): self.val: 16\n",
      "valueChanged(new_val: 16)\n",
      "an_epoch: EpochTuple(Index=27, start=148.4804974179715, stop=148.7062585823005, label=27, duration=0.22576116432901472, LR_Long_ActuallyIncludedAclus=array([ 2, 24, 39, 43, 80]), LR_Long_rel_num_cells=5, RL_Long_ActuallyIncludedAclus=array([18, 24, 39, 59, 80]), RL_Long_rel_num_cells=5, LR_Short_ActuallyIncludedAclus=array([ 2, 24, 39, 43, 80]), LR_Short_rel_num_cells=5, RL_Short_ActuallyIncludedAclus=array([18, 24, 39, 59, 80]), RL_Short_rel_num_cells=5)\n",
      "an_epoch: EpochTuple(Index=27, start=148.4804974179715, stop=148.7062585823005, label=27, duration=0.22576116432901472, LR_Long_ActuallyIncludedAclus=array([ 2, 24, 39, 43, 80]), LR_Long_rel_num_cells=5, RL_Long_ActuallyIncludedAclus=array([18, 24, 39, 59, 80]), RL_Long_rel_num_cells=5, LR_Short_ActuallyIncludedAclus=array([ 2, 24, 39, 43, 80]), LR_Short_rel_num_cells=5, RL_Short_ActuallyIncludedAclus=array([18, 24, 39, 59, 80]), RL_Short_rel_num_cells=5)\n",
      "an_epoch: EpochTuple(Index=27, start=148.4804974179715, stop=148.7062585823005, label=27, duration=0.22576116432901472, LR_Long_ActuallyIncludedAclus=array([ 2, 24, 39, 43, 80]), LR_Long_rel_num_cells=5, RL_Long_ActuallyIncludedAclus=array([18, 24, 39, 59, 80]), RL_Long_rel_num_cells=5, LR_Short_ActuallyIncludedAclus=array([ 2, 24, 39, 43, 80]), LR_Short_rel_num_cells=5, RL_Short_ActuallyIncludedAclus=array([18, 24, 39, 59, 80]), RL_Short_rel_num_cells=5)\n",
      "an_epoch: EpochTuple(Index=27, start=148.4804974179715, stop=148.7062585823005, label=27, duration=0.22576116432901472, LR_Long_ActuallyIncludedAclus=array([ 2, 24, 39, 43, 80]), LR_Long_rel_num_cells=5, RL_Long_ActuallyIncludedAclus=array([18, 24, 39, 59, 80]), RL_Long_rel_num_cells=5, LR_Short_ActuallyIncludedAclus=array([ 2, 24, 39, 43, 80]), LR_Short_rel_num_cells=5, RL_Short_ActuallyIncludedAclus=array([18, 24, 39, 59, 80]), RL_Short_rel_num_cells=5)\n",
      "len(included_any_context_neuron_ids_dict_dict) != len(decoders_dict), assuming this is a single included_any_context_neuron_ids_dict for all decoders like used in `paired_incremental_sort_neurons(...)`. Fixing. \n",
      "emitChanged(): self.val: 17\n",
      "valueChanged(new_val: 17)\n",
      "an_epoch: EpochTuple(Index=28, start=149.95935746072792, stop=150.2397694772808, label=28, duration=0.28041201655287296, LR_Long_ActuallyIncludedAclus=array([  9,  11,  24,  31,  39,  43,  44,  48,  66,  72,  79,  80,  82,  86,  92,  93,  98, 104]), LR_Long_rel_num_cells=18, RL_Long_ActuallyIncludedAclus=array([  9,  11,  12,  24,  31,  38,  39,  44,  48,  57,  66,  72,  79,  80,  82,  90,  92,  93,  98, 104]), RL_Long_rel_num_cells=20, LR_Short_ActuallyIncludedAclus=array([  9,  11,  24,  31,  39,  43,  44,  48,  66,  72,  79,  80,  82,  86,  92,  93,  98, 104]), LR_Short_rel_num_cells=18, RL_Short_ActuallyIncludedAclus=array([  9,  11,  12,  24,  31,  38,  39,  44,  48,  57,  66,  72,  79,  80,  82,  90,  92,  93,  98, 104]), RL_Short_rel_num_cells=20)\n",
      "an_epoch: EpochTuple(Index=28, start=149.95935746072792, stop=150.2397694772808, label=28, duration=0.28041201655287296, LR_Long_ActuallyIncludedAclus=array([  9,  11,  24,  31,  39,  43,  44,  48,  66,  72,  79,  80,  82,  86,  92,  93,  98, 104]), LR_Long_rel_num_cells=18, RL_Long_ActuallyIncludedAclus=array([  9,  11,  12,  24,  31,  38,  39,  44,  48,  57,  66,  72,  79,  80,  82,  90,  92,  93,  98, 104]), RL_Long_rel_num_cells=20, LR_Short_ActuallyIncludedAclus=array([  9,  11,  24,  31,  39,  43,  44,  48,  66,  72,  79,  80,  82,  86,  92,  93,  98, 104]), LR_Short_rel_num_cells=18, RL_Short_ActuallyIncludedAclus=array([  9,  11,  12,  24,  31,  38,  39,  44,  48,  57,  66,  72,  79,  80,  82,  90,  92,  93,  98, 104]), RL_Short_rel_num_cells=20)\n",
      "an_epoch: EpochTuple(Index=28, start=149.95935746072792, stop=150.2397694772808, label=28, duration=0.28041201655287296, LR_Long_ActuallyIncludedAclus=array([  9,  11,  24,  31,  39,  43,  44,  48,  66,  72,  79,  80,  82,  86,  92,  93,  98, 104]), LR_Long_rel_num_cells=18, RL_Long_ActuallyIncludedAclus=array([  9,  11,  12,  24,  31,  38,  39,  44,  48,  57,  66,  72,  79,  80,  82,  90,  92,  93,  98, 104]), RL_Long_rel_num_cells=20, LR_Short_ActuallyIncludedAclus=array([  9,  11,  24,  31,  39,  43,  44,  48,  66,  72,  79,  80,  82,  86,  92,  93,  98, 104]), LR_Short_rel_num_cells=18, RL_Short_ActuallyIncludedAclus=array([  9,  11,  12,  24,  31,  38,  39,  44,  48,  57,  66,  72,  79,  80,  82,  90,  92,  93,  98, 104]), RL_Short_rel_num_cells=20)\n",
      "an_epoch: EpochTuple(Index=28, start=149.95935746072792, stop=150.2397694772808, label=28, duration=0.28041201655287296, LR_Long_ActuallyIncludedAclus=array([  9,  11,  24,  31,  39,  43,  44,  48,  66,  72,  79,  80,  82,  86,  92,  93,  98, 104]), LR_Long_rel_num_cells=18, RL_Long_ActuallyIncludedAclus=array([  9,  11,  12,  24,  31,  38,  39,  44,  48,  57,  66,  72,  79,  80,  82,  90,  92,  93,  98, 104]), RL_Long_rel_num_cells=20, LR_Short_ActuallyIncludedAclus=array([  9,  11,  24,  31,  39,  43,  44,  48,  66,  72,  79,  80,  82,  86,  92,  93,  98, 104]), LR_Short_rel_num_cells=18, RL_Short_ActuallyIncludedAclus=array([  9,  11,  12,  24,  31,  38,  39,  44,  48,  57,  66,  72,  79,  80,  82,  90,  92,  93,  98, 104]), RL_Short_rel_num_cells=20)\n",
      "len(included_any_context_neuron_ids_dict_dict) != len(decoders_dict), assuming this is a single included_any_context_neuron_ids_dict for all decoders like used in `paired_incremental_sort_neurons(...)`. Fixing. \n",
      "emitChanged(): self.val: 18\n",
      "valueChanged(new_val: 18)\n",
      "an_epoch: EpochTuple(Index=31, start=154.55374614836182, stop=154.82497288961895, label=31, duration=0.27122674125712365, LR_Long_ActuallyIncludedAclus=array([ 5,  6,  9, 11, 24, 29, 31, 39, 43, 48, 58, 79, 81, 82, 86, 93, 98]), LR_Long_rel_num_cells=17, RL_Long_ActuallyIncludedAclus=array([ 4,  9, 11, 24, 31, 39, 48, 79, 81, 82, 90, 93, 98]), RL_Long_rel_num_cells=13, LR_Short_ActuallyIncludedAclus=array([ 5,  6,  9, 11, 24, 29, 31, 39, 43, 48, 58, 79, 81, 82, 86, 93, 98]), LR_Short_rel_num_cells=17, RL_Short_ActuallyIncludedAclus=array([ 4,  9, 11, 24, 31, 39, 48, 79, 81, 82, 90, 93, 98]), RL_Short_rel_num_cells=13)\n",
      "an_epoch: EpochTuple(Index=31, start=154.55374614836182, stop=154.82497288961895, label=31, duration=0.27122674125712365, LR_Long_ActuallyIncludedAclus=array([ 5,  6,  9, 11, 24, 29, 31, 39, 43, 48, 58, 79, 81, 82, 86, 93, 98]), LR_Long_rel_num_cells=17, RL_Long_ActuallyIncludedAclus=array([ 4,  9, 11, 24, 31, 39, 48, 79, 81, 82, 90, 93, 98]), RL_Long_rel_num_cells=13, LR_Short_ActuallyIncludedAclus=array([ 5,  6,  9, 11, 24, 29, 31, 39, 43, 48, 58, 79, 81, 82, 86, 93, 98]), LR_Short_rel_num_cells=17, RL_Short_ActuallyIncludedAclus=array([ 4,  9, 11, 24, 31, 39, 48, 79, 81, 82, 90, 93, 98]), RL_Short_rel_num_cells=13)\n",
      "an_epoch: EpochTuple(Index=31, start=154.55374614836182, stop=154.82497288961895, label=31, duration=0.27122674125712365, LR_Long_ActuallyIncludedAclus=array([ 5,  6,  9, 11, 24, 29, 31, 39, 43, 48, 58, 79, 81, 82, 86, 93, 98]), LR_Long_rel_num_cells=17, RL_Long_ActuallyIncludedAclus=array([ 4,  9, 11, 24, 31, 39, 48, 79, 81, 82, 90, 93, 98]), RL_Long_rel_num_cells=13, LR_Short_ActuallyIncludedAclus=array([ 5,  6,  9, 11, 24, 29, 31, 39, 43, 48, 58, 79, 81, 82, 86, 93, 98]), LR_Short_rel_num_cells=17, RL_Short_ActuallyIncludedAclus=array([ 4,  9, 11, 24, 31, 39, 48, 79, 81, 82, 90, 93, 98]), RL_Short_rel_num_cells=13)\n",
      "an_epoch: EpochTuple(Index=31, start=154.55374614836182, stop=154.82497288961895, label=31, duration=0.27122674125712365, LR_Long_ActuallyIncludedAclus=array([ 5,  6,  9, 11, 24, 29, 31, 39, 43, 48, 58, 79, 81, 82, 86, 93, 98]), LR_Long_rel_num_cells=17, RL_Long_ActuallyIncludedAclus=array([ 4,  9, 11, 24, 31, 39, 48, 79, 81, 82, 90, 93, 98]), RL_Long_rel_num_cells=13, LR_Short_ActuallyIncludedAclus=array([ 5,  6,  9, 11, 24, 29, 31, 39, 43, 48, 58, 79, 81, 82, 86, 93, 98]), LR_Short_rel_num_cells=17, RL_Short_ActuallyIncludedAclus=array([ 4,  9, 11, 24, 31, 39, 48, 79, 81, 82, 90, 93, 98]), RL_Short_rel_num_cells=13)\n",
      "len(included_any_context_neuron_ids_dict_dict) != len(decoders_dict), assuming this is a single included_any_context_neuron_ids_dict for all decoders like used in `paired_incremental_sort_neurons(...)`. Fixing. \n",
      "emitChanged(): self.val: 17\n",
      "valueChanged(new_val: 17)\n",
      "an_epoch: EpochTuple(Index=28, start=149.95935746072792, stop=150.2397694772808, label=28, duration=0.28041201655287296, LR_Long_ActuallyIncludedAclus=array([  9,  11,  24,  31,  39,  43,  44,  48,  66,  72,  79,  80,  82,  86,  92,  93,  98, 104]), LR_Long_rel_num_cells=18, RL_Long_ActuallyIncludedAclus=array([  9,  11,  12,  24,  31,  38,  39,  44,  48,  57,  66,  72,  79,  80,  82,  90,  92,  93,  98, 104]), RL_Long_rel_num_cells=20, LR_Short_ActuallyIncludedAclus=array([  9,  11,  24,  31,  39,  43,  44,  48,  66,  72,  79,  80,  82,  86,  92,  93,  98, 104]), LR_Short_rel_num_cells=18, RL_Short_ActuallyIncludedAclus=array([  9,  11,  12,  24,  31,  38,  39,  44,  48,  57,  66,  72,  79,  80,  82,  90,  92,  93,  98, 104]), RL_Short_rel_num_cells=20)\n",
      "an_epoch: EpochTuple(Index=28, start=149.95935746072792, stop=150.2397694772808, label=28, duration=0.28041201655287296, LR_Long_ActuallyIncludedAclus=array([  9,  11,  24,  31,  39,  43,  44,  48,  66,  72,  79,  80,  82,  86,  92,  93,  98, 104]), LR_Long_rel_num_cells=18, RL_Long_ActuallyIncludedAclus=array([  9,  11,  12,  24,  31,  38,  39,  44,  48,  57,  66,  72,  79,  80,  82,  90,  92,  93,  98, 104]), RL_Long_rel_num_cells=20, LR_Short_ActuallyIncludedAclus=array([  9,  11,  24,  31,  39,  43,  44,  48,  66,  72,  79,  80,  82,  86,  92,  93,  98, 104]), LR_Short_rel_num_cells=18, RL_Short_ActuallyIncludedAclus=array([  9,  11,  12,  24,  31,  38,  39,  44,  48,  57,  66,  72,  79,  80,  82,  90,  92,  93,  98, 104]), RL_Short_rel_num_cells=20)\n",
      "an_epoch: EpochTuple(Index=28, start=149.95935746072792, stop=150.2397694772808, label=28, duration=0.28041201655287296, LR_Long_ActuallyIncludedAclus=array([  9,  11,  24,  31,  39,  43,  44,  48,  66,  72,  79,  80,  82,  86,  92,  93,  98, 104]), LR_Long_rel_num_cells=18, RL_Long_ActuallyIncludedAclus=array([  9,  11,  12,  24,  31,  38,  39,  44,  48,  57,  66,  72,  79,  80,  82,  90,  92,  93,  98, 104]), RL_Long_rel_num_cells=20, LR_Short_ActuallyIncludedAclus=array([  9,  11,  24,  31,  39,  43,  44,  48,  66,  72,  79,  80,  82,  86,  92,  93,  98, 104]), LR_Short_rel_num_cells=18, RL_Short_ActuallyIncludedAclus=array([  9,  11,  12,  24,  31,  38,  39,  44,  48,  57,  66,  72,  79,  80,  82,  90,  92,  93,  98, 104]), RL_Short_rel_num_cells=20)\n",
      "an_epoch: EpochTuple(Index=28, start=149.95935746072792, stop=150.2397694772808, label=28, duration=0.28041201655287296, LR_Long_ActuallyIncludedAclus=array([  9,  11,  24,  31,  39,  43,  44,  48,  66,  72,  79,  80,  82,  86,  92,  93,  98, 104]), LR_Long_rel_num_cells=18, RL_Long_ActuallyIncludedAclus=array([  9,  11,  12,  24,  31,  38,  39,  44,  48,  57,  66,  72,  79,  80,  82,  90,  92,  93,  98, 104]), RL_Long_rel_num_cells=20, LR_Short_ActuallyIncludedAclus=array([  9,  11,  24,  31,  39,  43,  44,  48,  66,  72,  79,  80,  82,  86,  92,  93,  98, 104]), LR_Short_rel_num_cells=18, RL_Short_ActuallyIncludedAclus=array([  9,  11,  12,  24,  31,  38,  39,  44,  48,  57,  66,  72,  79,  80,  82,  90,  92,  93,  98, 104]), RL_Short_rel_num_cells=20)\n",
      "len(included_any_context_neuron_ids_dict_dict) != len(decoders_dict), assuming this is a single included_any_context_neuron_ids_dict for all decoders like used in `paired_incremental_sort_neurons(...)`. Fixing. \n",
      "emitChanged(): self.val: 18\n",
      "valueChanged(new_val: 18)\n",
      "an_epoch: EpochTuple(Index=31, start=154.55374614836182, stop=154.82497288961895, label=31, duration=0.27122674125712365, LR_Long_ActuallyIncludedAclus=array([ 5,  6,  9, 11, 24, 29, 31, 39, 43, 48, 58, 79, 81, 82, 86, 93, 98]), LR_Long_rel_num_cells=17, RL_Long_ActuallyIncludedAclus=array([ 4,  9, 11, 24, 31, 39, 48, 79, 81, 82, 90, 93, 98]), RL_Long_rel_num_cells=13, LR_Short_ActuallyIncludedAclus=array([ 5,  6,  9, 11, 24, 29, 31, 39, 43, 48, 58, 79, 81, 82, 86, 93, 98]), LR_Short_rel_num_cells=17, RL_Short_ActuallyIncludedAclus=array([ 4,  9, 11, 24, 31, 39, 48, 79, 81, 82, 90, 93, 98]), RL_Short_rel_num_cells=13)\n",
      "an_epoch: EpochTuple(Index=31, start=154.55374614836182, stop=154.82497288961895, label=31, duration=0.27122674125712365, LR_Long_ActuallyIncludedAclus=array([ 5,  6,  9, 11, 24, 29, 31, 39, 43, 48, 58, 79, 81, 82, 86, 93, 98]), LR_Long_rel_num_cells=17, RL_Long_ActuallyIncludedAclus=array([ 4,  9, 11, 24, 31, 39, 48, 79, 81, 82, 90, 93, 98]), RL_Long_rel_num_cells=13, LR_Short_ActuallyIncludedAclus=array([ 5,  6,  9, 11, 24, 29, 31, 39, 43, 48, 58, 79, 81, 82, 86, 93, 98]), LR_Short_rel_num_cells=17, RL_Short_ActuallyIncludedAclus=array([ 4,  9, 11, 24, 31, 39, 48, 79, 81, 82, 90, 93, 98]), RL_Short_rel_num_cells=13)\n",
      "an_epoch: EpochTuple(Index=31, start=154.55374614836182, stop=154.82497288961895, label=31, duration=0.27122674125712365, LR_Long_ActuallyIncludedAclus=array([ 5,  6,  9, 11, 24, 29, 31, 39, 43, 48, 58, 79, 81, 82, 86, 93, 98]), LR_Long_rel_num_cells=17, RL_Long_ActuallyIncludedAclus=array([ 4,  9, 11, 24, 31, 39, 48, 79, 81, 82, 90, 93, 98]), RL_Long_rel_num_cells=13, LR_Short_ActuallyIncludedAclus=array([ 5,  6,  9, 11, 24, 29, 31, 39, 43, 48, 58, 79, 81, 82, 86, 93, 98]), LR_Short_rel_num_cells=17, RL_Short_ActuallyIncludedAclus=array([ 4,  9, 11, 24, 31, 39, 48, 79, 81, 82, 90, 93, 98]), RL_Short_rel_num_cells=13)\n",
      "an_epoch: EpochTuple(Index=31, start=154.55374614836182, stop=154.82497288961895, label=31, duration=0.27122674125712365, LR_Long_ActuallyIncludedAclus=array([ 5,  6,  9, 11, 24, 29, 31, 39, 43, 48, 58, 79, 81, 82, 86, 93, 98]), LR_Long_rel_num_cells=17, RL_Long_ActuallyIncludedAclus=array([ 4,  9, 11, 24, 31, 39, 48, 79, 81, 82, 90, 93, 98]), RL_Long_rel_num_cells=13, LR_Short_ActuallyIncludedAclus=array([ 5,  6,  9, 11, 24, 29, 31, 39, 43, 48, 58, 79, 81, 82, 86, 93, 98]), LR_Short_rel_num_cells=17, RL_Short_ActuallyIncludedAclus=array([ 4,  9, 11, 24, 31, 39, 48, 79, 81, 82, 90, 93, 98]), RL_Short_rel_num_cells=13)\n",
      "len(included_any_context_neuron_ids_dict_dict) != len(decoders_dict), assuming this is a single included_any_context_neuron_ids_dict for all decoders like used in `paired_incremental_sort_neurons(...)`. Fixing. \n",
      "emitChanged(): self.val: 17\n",
      "valueChanged(new_val: 17)\n",
      "an_epoch: EpochTuple(Index=28, start=149.95935746072792, stop=150.2397694772808, label=28, duration=0.28041201655287296, LR_Long_ActuallyIncludedAclus=array([  9,  11,  24,  31,  39,  43,  44,  48,  66,  72,  79,  80,  82,  86,  92,  93,  98, 104]), LR_Long_rel_num_cells=18, RL_Long_ActuallyIncludedAclus=array([  9,  11,  12,  24,  31,  38,  39,  44,  48,  57,  66,  72,  79,  80,  82,  90,  92,  93,  98, 104]), RL_Long_rel_num_cells=20, LR_Short_ActuallyIncludedAclus=array([  9,  11,  24,  31,  39,  43,  44,  48,  66,  72,  79,  80,  82,  86,  92,  93,  98, 104]), LR_Short_rel_num_cells=18, RL_Short_ActuallyIncludedAclus=array([  9,  11,  12,  24,  31,  38,  39,  44,  48,  57,  66,  72,  79,  80,  82,  90,  92,  93,  98, 104]), RL_Short_rel_num_cells=20)\n",
      "an_epoch: EpochTuple(Index=28, start=149.95935746072792, stop=150.2397694772808, label=28, duration=0.28041201655287296, LR_Long_ActuallyIncludedAclus=array([  9,  11,  24,  31,  39,  43,  44,  48,  66,  72,  79,  80,  82,  86,  92,  93,  98, 104]), LR_Long_rel_num_cells=18, RL_Long_ActuallyIncludedAclus=array([  9,  11,  12,  24,  31,  38,  39,  44,  48,  57,  66,  72,  79,  80,  82,  90,  92,  93,  98, 104]), RL_Long_rel_num_cells=20, LR_Short_ActuallyIncludedAclus=array([  9,  11,  24,  31,  39,  43,  44,  48,  66,  72,  79,  80,  82,  86,  92,  93,  98, 104]), LR_Short_rel_num_cells=18, RL_Short_ActuallyIncludedAclus=array([  9,  11,  12,  24,  31,  38,  39,  44,  48,  57,  66,  72,  79,  80,  82,  90,  92,  93,  98, 104]), RL_Short_rel_num_cells=20)\n",
      "an_epoch: EpochTuple(Index=28, start=149.95935746072792, stop=150.2397694772808, label=28, duration=0.28041201655287296, LR_Long_ActuallyIncludedAclus=array([  9,  11,  24,  31,  39,  43,  44,  48,  66,  72,  79,  80,  82,  86,  92,  93,  98, 104]), LR_Long_rel_num_cells=18, RL_Long_ActuallyIncludedAclus=array([  9,  11,  12,  24,  31,  38,  39,  44,  48,  57,  66,  72,  79,  80,  82,  90,  92,  93,  98, 104]), RL_Long_rel_num_cells=20, LR_Short_ActuallyIncludedAclus=array([  9,  11,  24,  31,  39,  43,  44,  48,  66,  72,  79,  80,  82,  86,  92,  93,  98, 104]), LR_Short_rel_num_cells=18, RL_Short_ActuallyIncludedAclus=array([  9,  11,  12,  24,  31,  38,  39,  44,  48,  57,  66,  72,  79,  80,  82,  90,  92,  93,  98, 104]), RL_Short_rel_num_cells=20)\n",
      "an_epoch: EpochTuple(Index=28, start=149.95935746072792, stop=150.2397694772808, label=28, duration=0.28041201655287296, LR_Long_ActuallyIncludedAclus=array([  9,  11,  24,  31,  39,  43,  44,  48,  66,  72,  79,  80,  82,  86,  92,  93,  98, 104]), LR_Long_rel_num_cells=18, RL_Long_ActuallyIncludedAclus=array([  9,  11,  12,  24,  31,  38,  39,  44,  48,  57,  66,  72,  79,  80,  82,  90,  92,  93,  98, 104]), RL_Long_rel_num_cells=20, LR_Short_ActuallyIncludedAclus=array([  9,  11,  24,  31,  39,  43,  44,  48,  66,  72,  79,  80,  82,  86,  92,  93,  98, 104]), LR_Short_rel_num_cells=18, RL_Short_ActuallyIncludedAclus=array([  9,  11,  12,  24,  31,  38,  39,  44,  48,  57,  66,  72,  79,  80,  82,  90,  92,  93,  98, 104]), RL_Short_rel_num_cells=20)\n",
      "len(included_any_context_neuron_ids_dict_dict) != len(decoders_dict), assuming this is a single included_any_context_neuron_ids_dict for all decoders like used in `paired_incremental_sort_neurons(...)`. Fixing. \n",
      "emitChanged(): self.val: 18\n",
      "valueChanged(new_val: 18)\n",
      "an_epoch: EpochTuple(Index=31, start=154.55374614836182, stop=154.82497288961895, label=31, duration=0.27122674125712365, LR_Long_ActuallyIncludedAclus=array([ 5,  6,  9, 11, 24, 29, 31, 39, 43, 48, 58, 79, 81, 82, 86, 93, 98]), LR_Long_rel_num_cells=17, RL_Long_ActuallyIncludedAclus=array([ 4,  9, 11, 24, 31, 39, 48, 79, 81, 82, 90, 93, 98]), RL_Long_rel_num_cells=13, LR_Short_ActuallyIncludedAclus=array([ 5,  6,  9, 11, 24, 29, 31, 39, 43, 48, 58, 79, 81, 82, 86, 93, 98]), LR_Short_rel_num_cells=17, RL_Short_ActuallyIncludedAclus=array([ 4,  9, 11, 24, 31, 39, 48, 79, 81, 82, 90, 93, 98]), RL_Short_rel_num_cells=13)\n",
      "an_epoch: EpochTuple(Index=31, start=154.55374614836182, stop=154.82497288961895, label=31, duration=0.27122674125712365, LR_Long_ActuallyIncludedAclus=array([ 5,  6,  9, 11, 24, 29, 31, 39, 43, 48, 58, 79, 81, 82, 86, 93, 98]), LR_Long_rel_num_cells=17, RL_Long_ActuallyIncludedAclus=array([ 4,  9, 11, 24, 31, 39, 48, 79, 81, 82, 90, 93, 98]), RL_Long_rel_num_cells=13, LR_Short_ActuallyIncludedAclus=array([ 5,  6,  9, 11, 24, 29, 31, 39, 43, 48, 58, 79, 81, 82, 86, 93, 98]), LR_Short_rel_num_cells=17, RL_Short_ActuallyIncludedAclus=array([ 4,  9, 11, 24, 31, 39, 48, 79, 81, 82, 90, 93, 98]), RL_Short_rel_num_cells=13)\n",
      "an_epoch: EpochTuple(Index=31, start=154.55374614836182, stop=154.82497288961895, label=31, duration=0.27122674125712365, LR_Long_ActuallyIncludedAclus=array([ 5,  6,  9, 11, 24, 29, 31, 39, 43, 48, 58, 79, 81, 82, 86, 93, 98]), LR_Long_rel_num_cells=17, RL_Long_ActuallyIncludedAclus=array([ 4,  9, 11, 24, 31, 39, 48, 79, 81, 82, 90, 93, 98]), RL_Long_rel_num_cells=13, LR_Short_ActuallyIncludedAclus=array([ 5,  6,  9, 11, 24, 29, 31, 39, 43, 48, 58, 79, 81, 82, 86, 93, 98]), LR_Short_rel_num_cells=17, RL_Short_ActuallyIncludedAclus=array([ 4,  9, 11, 24, 31, 39, 48, 79, 81, 82, 90, 93, 98]), RL_Short_rel_num_cells=13)\n",
      "an_epoch: EpochTuple(Index=31, start=154.55374614836182, stop=154.82497288961895, label=31, duration=0.27122674125712365, LR_Long_ActuallyIncludedAclus=array([ 5,  6,  9, 11, 24, 29, 31, 39, 43, 48, 58, 79, 81, 82, 86, 93, 98]), LR_Long_rel_num_cells=17, RL_Long_ActuallyIncludedAclus=array([ 4,  9, 11, 24, 31, 39, 48, 79, 81, 82, 90, 93, 98]), RL_Long_rel_num_cells=13, LR_Short_ActuallyIncludedAclus=array([ 5,  6,  9, 11, 24, 29, 31, 39, 43, 48, 58, 79, 81, 82, 86, 93, 98]), LR_Short_rel_num_cells=17, RL_Short_ActuallyIncludedAclus=array([ 4,  9, 11, 24, 31, 39, 48, 79, 81, 82, 90, 93, 98]), RL_Short_rel_num_cells=13)\n",
      "len(included_any_context_neuron_ids_dict_dict) != len(decoders_dict), assuming this is a single included_any_context_neuron_ids_dict for all decoders like used in `paired_incremental_sort_neurons(...)`. Fixing. \n",
      "emitChanged(): self.val: 19\n",
      "valueChanged(new_val: 19)\n",
      "an_epoch: EpochTuple(Index=32, start=158.83110459847376, stop=158.94065206230152, label=32, duration=0.10954746382776648, LR_Long_ActuallyIncludedAclus=array([  6,   9,  43,  72,  80,  86, 104]), LR_Long_rel_num_cells=7, RL_Long_ActuallyIncludedAclus=array([  4,   9,  18,  72,  80,  90, 104]), RL_Long_rel_num_cells=7, LR_Short_ActuallyIncludedAclus=array([  6,   9,  43,  72,  80,  86, 104]), LR_Short_rel_num_cells=7, RL_Short_ActuallyIncludedAclus=array([  4,   9,  18,  72,  80,  90, 104]), RL_Short_rel_num_cells=7)\n",
      "an_epoch: EpochTuple(Index=32, start=158.83110459847376, stop=158.94065206230152, label=32, duration=0.10954746382776648, LR_Long_ActuallyIncludedAclus=array([  6,   9,  43,  72,  80,  86, 104]), LR_Long_rel_num_cells=7, RL_Long_ActuallyIncludedAclus=array([  4,   9,  18,  72,  80,  90, 104]), RL_Long_rel_num_cells=7, LR_Short_ActuallyIncludedAclus=array([  6,   9,  43,  72,  80,  86, 104]), LR_Short_rel_num_cells=7, RL_Short_ActuallyIncludedAclus=array([  4,   9,  18,  72,  80,  90, 104]), RL_Short_rel_num_cells=7)\n",
      "an_epoch: EpochTuple(Index=32, start=158.83110459847376, stop=158.94065206230152, label=32, duration=0.10954746382776648, LR_Long_ActuallyIncludedAclus=array([  6,   9,  43,  72,  80,  86, 104]), LR_Long_rel_num_cells=7, RL_Long_ActuallyIncludedAclus=array([  4,   9,  18,  72,  80,  90, 104]), RL_Long_rel_num_cells=7, LR_Short_ActuallyIncludedAclus=array([  6,   9,  43,  72,  80,  86, 104]), LR_Short_rel_num_cells=7, RL_Short_ActuallyIncludedAclus=array([  4,   9,  18,  72,  80,  90, 104]), RL_Short_rel_num_cells=7)\n",
      "an_epoch: EpochTuple(Index=32, start=158.83110459847376, stop=158.94065206230152, label=32, duration=0.10954746382776648, LR_Long_ActuallyIncludedAclus=array([  6,   9,  43,  72,  80,  86, 104]), LR_Long_rel_num_cells=7, RL_Long_ActuallyIncludedAclus=array([  4,   9,  18,  72,  80,  90, 104]), RL_Long_rel_num_cells=7, LR_Short_ActuallyIncludedAclus=array([  6,   9,  43,  72,  80,  86, 104]), LR_Short_rel_num_cells=7, RL_Short_ActuallyIncludedAclus=array([  4,   9,  18,  72,  80,  90, 104]), RL_Short_rel_num_cells=7)\n",
      "len(included_any_context_neuron_ids_dict_dict) != len(decoders_dict), assuming this is a single included_any_context_neuron_ids_dict for all decoders like used in `paired_incremental_sort_neurons(...)`. Fixing. \n",
      "emitChanged(): self.val: 20\n",
      "valueChanged(new_val: 20)\n",
      "an_epoch: EpochTuple(Index=34, start=161.09615047869738, stop=161.1719366798643, label=34, duration=0.07578620116692036, LR_Long_ActuallyIncludedAclus=array([ 9, 30, 72, 81, 93, 98]), LR_Long_rel_num_cells=6, RL_Long_ActuallyIncludedAclus=array([ 9, 72, 81, 93, 98]), RL_Long_rel_num_cells=5, LR_Short_ActuallyIncludedAclus=array([ 9, 30, 72, 81, 93, 98]), LR_Short_rel_num_cells=6, RL_Short_ActuallyIncludedAclus=array([ 9, 72, 81, 93, 98]), RL_Short_rel_num_cells=5)\n",
      "an_epoch: EpochTuple(Index=34, start=161.09615047869738, stop=161.1719366798643, label=34, duration=0.07578620116692036, LR_Long_ActuallyIncludedAclus=array([ 9, 30, 72, 81, 93, 98]), LR_Long_rel_num_cells=6, RL_Long_ActuallyIncludedAclus=array([ 9, 72, 81, 93, 98]), RL_Long_rel_num_cells=5, LR_Short_ActuallyIncludedAclus=array([ 9, 30, 72, 81, 93, 98]), LR_Short_rel_num_cells=6, RL_Short_ActuallyIncludedAclus=array([ 9, 72, 81, 93, 98]), RL_Short_rel_num_cells=5)\n",
      "an_epoch: EpochTuple(Index=34, start=161.09615047869738, stop=161.1719366798643, label=34, duration=0.07578620116692036, LR_Long_ActuallyIncludedAclus=array([ 9, 30, 72, 81, 93, 98]), LR_Long_rel_num_cells=6, RL_Long_ActuallyIncludedAclus=array([ 9, 72, 81, 93, 98]), RL_Long_rel_num_cells=5, LR_Short_ActuallyIncludedAclus=array([ 9, 30, 72, 81, 93, 98]), LR_Short_rel_num_cells=6, RL_Short_ActuallyIncludedAclus=array([ 9, 72, 81, 93, 98]), RL_Short_rel_num_cells=5)\n",
      "an_epoch: EpochTuple(Index=34, start=161.09615047869738, stop=161.1719366798643, label=34, duration=0.07578620116692036, LR_Long_ActuallyIncludedAclus=array([ 9, 30, 72, 81, 93, 98]), LR_Long_rel_num_cells=6, RL_Long_ActuallyIncludedAclus=array([ 9, 72, 81, 93, 98]), RL_Long_rel_num_cells=5, LR_Short_ActuallyIncludedAclus=array([ 9, 30, 72, 81, 93, 98]), LR_Short_rel_num_cells=6, RL_Short_ActuallyIncludedAclus=array([ 9, 72, 81, 93, 98]), RL_Short_rel_num_cells=5)\n",
      "len(included_any_context_neuron_ids_dict_dict) != len(decoders_dict), assuming this is a single included_any_context_neuron_ids_dict for all decoders like used in `paired_incremental_sort_neurons(...)`. Fixing. \n",
      "emitChanged(): self.val: 21\n",
      "valueChanged(new_val: 21)\n",
      "an_epoch: EpochTuple(Index=35, start=161.6538717931835, stop=161.79232676234096, label=35, duration=0.1384549691574648, LR_Long_ActuallyIncludedAclus=array([ 43,  72,  84,  86,  93, 104]), LR_Long_rel_num_cells=6, RL_Long_ActuallyIncludedAclus=array([ 18,  72,  84,  90,  93, 104]), RL_Long_rel_num_cells=6, LR_Short_ActuallyIncludedAclus=array([ 43,  72,  84,  86,  93, 104]), LR_Short_rel_num_cells=6, RL_Short_ActuallyIncludedAclus=array([ 18,  72,  84,  90,  93, 104]), RL_Short_rel_num_cells=6)\n",
      "an_epoch: EpochTuple(Index=35, start=161.6538717931835, stop=161.79232676234096, label=35, duration=0.1384549691574648, LR_Long_ActuallyIncludedAclus=array([ 43,  72,  84,  86,  93, 104]), LR_Long_rel_num_cells=6, RL_Long_ActuallyIncludedAclus=array([ 18,  72,  84,  90,  93, 104]), RL_Long_rel_num_cells=6, LR_Short_ActuallyIncludedAclus=array([ 43,  72,  84,  86,  93, 104]), LR_Short_rel_num_cells=6, RL_Short_ActuallyIncludedAclus=array([ 18,  72,  84,  90,  93, 104]), RL_Short_rel_num_cells=6)\n",
      "an_epoch: EpochTuple(Index=35, start=161.6538717931835, stop=161.79232676234096, label=35, duration=0.1384549691574648, LR_Long_ActuallyIncludedAclus=array([ 43,  72,  84,  86,  93, 104]), LR_Long_rel_num_cells=6, RL_Long_ActuallyIncludedAclus=array([ 18,  72,  84,  90,  93, 104]), RL_Long_rel_num_cells=6, LR_Short_ActuallyIncludedAclus=array([ 43,  72,  84,  86,  93, 104]), LR_Short_rel_num_cells=6, RL_Short_ActuallyIncludedAclus=array([ 18,  72,  84,  90,  93, 104]), RL_Short_rel_num_cells=6)\n",
      "an_epoch: EpochTuple(Index=35, start=161.6538717931835, stop=161.79232676234096, label=35, duration=0.1384549691574648, LR_Long_ActuallyIncludedAclus=array([ 43,  72,  84,  86,  93, 104]), LR_Long_rel_num_cells=6, RL_Long_ActuallyIncludedAclus=array([ 18,  72,  84,  90,  93, 104]), RL_Long_rel_num_cells=6, LR_Short_ActuallyIncludedAclus=array([ 43,  72,  84,  86,  93, 104]), LR_Short_rel_num_cells=6, RL_Short_ActuallyIncludedAclus=array([ 18,  72,  84,  90,  93, 104]), RL_Short_rel_num_cells=6)\n",
      "len(included_any_context_neuron_ids_dict_dict) != len(decoders_dict), assuming this is a single included_any_context_neuron_ids_dict for all decoders like used in `paired_incremental_sort_neurons(...)`. Fixing. \n",
      "emitChanged(): self.val: 22\n",
      "valueChanged(new_val: 22)\n",
      "an_epoch: EpochTuple(Index=38, start=169.95631618227344, stop=170.15983607806265, label=38, duration=0.20351989578921348, LR_Long_ActuallyIncludedAclus=array([ 11,  43,  58,  61,  72,  84,  86,  92,  93,  98, 104]), LR_Long_rel_num_cells=11, RL_Long_ActuallyIncludedAclus=array([ 11,  27,  59,  61,  72,  84,  92,  93,  98, 104]), RL_Long_rel_num_cells=10, LR_Short_ActuallyIncludedAclus=array([ 11,  43,  58,  61,  72,  84,  86,  92,  93,  98, 104]), LR_Short_rel_num_cells=11, RL_Short_ActuallyIncludedAclus=array([ 11,  27,  59,  61,  72,  84,  92,  93,  98, 104]), RL_Short_rel_num_cells=10)\n",
      "an_epoch: EpochTuple(Index=38, start=169.95631618227344, stop=170.15983607806265, label=38, duration=0.20351989578921348, LR_Long_ActuallyIncludedAclus=array([ 11,  43,  58,  61,  72,  84,  86,  92,  93,  98, 104]), LR_Long_rel_num_cells=11, RL_Long_ActuallyIncludedAclus=array([ 11,  27,  59,  61,  72,  84,  92,  93,  98, 104]), RL_Long_rel_num_cells=10, LR_Short_ActuallyIncludedAclus=array([ 11,  43,  58,  61,  72,  84,  86,  92,  93,  98, 104]), LR_Short_rel_num_cells=11, RL_Short_ActuallyIncludedAclus=array([ 11,  27,  59,  61,  72,  84,  92,  93,  98, 104]), RL_Short_rel_num_cells=10)\n",
      "an_epoch: EpochTuple(Index=38, start=169.95631618227344, stop=170.15983607806265, label=38, duration=0.20351989578921348, LR_Long_ActuallyIncludedAclus=array([ 11,  43,  58,  61,  72,  84,  86,  92,  93,  98, 104]), LR_Long_rel_num_cells=11, RL_Long_ActuallyIncludedAclus=array([ 11,  27,  59,  61,  72,  84,  92,  93,  98, 104]), RL_Long_rel_num_cells=10, LR_Short_ActuallyIncludedAclus=array([ 11,  43,  58,  61,  72,  84,  86,  92,  93,  98, 104]), LR_Short_rel_num_cells=11, RL_Short_ActuallyIncludedAclus=array([ 11,  27,  59,  61,  72,  84,  92,  93,  98, 104]), RL_Short_rel_num_cells=10)\n",
      "an_epoch: EpochTuple(Index=38, start=169.95631618227344, stop=170.15983607806265, label=38, duration=0.20351989578921348, LR_Long_ActuallyIncludedAclus=array([ 11,  43,  58,  61,  72,  84,  86,  92,  93,  98, 104]), LR_Long_rel_num_cells=11, RL_Long_ActuallyIncludedAclus=array([ 11,  27,  59,  61,  72,  84,  92,  93,  98, 104]), RL_Long_rel_num_cells=10, LR_Short_ActuallyIncludedAclus=array([ 11,  43,  58,  61,  72,  84,  86,  92,  93,  98, 104]), LR_Short_rel_num_cells=11, RL_Short_ActuallyIncludedAclus=array([ 11,  27,  59,  61,  72,  84,  92,  93,  98, 104]), RL_Short_rel_num_cells=10)\n",
      "len(included_any_context_neuron_ids_dict_dict) != len(decoders_dict), assuming this is a single included_any_context_neuron_ids_dict for all decoders like used in `paired_incremental_sort_neurons(...)`. Fixing. \n",
      "emitChanged(): self.val: 23\n",
      "valueChanged(new_val: 23)\n",
      "an_epoch: EpochTuple(Index=40, start=172.22587790037505, stop=172.61294970207382, label=40, duration=0.38707180169876665, LR_Long_ActuallyIncludedAclus=array([  6,  39,  61,  92, 104]), LR_Long_rel_num_cells=5, RL_Long_ActuallyIncludedAclus=array([ 39,  61,  67,  92, 104]), RL_Long_rel_num_cells=5, LR_Short_ActuallyIncludedAclus=array([  6,  39,  61,  92, 104]), LR_Short_rel_num_cells=5, RL_Short_ActuallyIncludedAclus=array([ 39,  61,  67,  92, 104]), RL_Short_rel_num_cells=5)\n",
      "an_epoch: EpochTuple(Index=40, start=172.22587790037505, stop=172.61294970207382, label=40, duration=0.38707180169876665, LR_Long_ActuallyIncludedAclus=array([  6,  39,  61,  92, 104]), LR_Long_rel_num_cells=5, RL_Long_ActuallyIncludedAclus=array([ 39,  61,  67,  92, 104]), RL_Long_rel_num_cells=5, LR_Short_ActuallyIncludedAclus=array([  6,  39,  61,  92, 104]), LR_Short_rel_num_cells=5, RL_Short_ActuallyIncludedAclus=array([ 39,  61,  67,  92, 104]), RL_Short_rel_num_cells=5)\n",
      "an_epoch: EpochTuple(Index=40, start=172.22587790037505, stop=172.61294970207382, label=40, duration=0.38707180169876665, LR_Long_ActuallyIncludedAclus=array([  6,  39,  61,  92, 104]), LR_Long_rel_num_cells=5, RL_Long_ActuallyIncludedAclus=array([ 39,  61,  67,  92, 104]), RL_Long_rel_num_cells=5, LR_Short_ActuallyIncludedAclus=array([  6,  39,  61,  92, 104]), LR_Short_rel_num_cells=5, RL_Short_ActuallyIncludedAclus=array([ 39,  61,  67,  92, 104]), RL_Short_rel_num_cells=5)\n",
      "an_epoch: EpochTuple(Index=40, start=172.22587790037505, stop=172.61294970207382, label=40, duration=0.38707180169876665, LR_Long_ActuallyIncludedAclus=array([  6,  39,  61,  92, 104]), LR_Long_rel_num_cells=5, RL_Long_ActuallyIncludedAclus=array([ 39,  61,  67,  92, 104]), RL_Long_rel_num_cells=5, LR_Short_ActuallyIncludedAclus=array([  6,  39,  61,  92, 104]), LR_Short_rel_num_cells=5, RL_Short_ActuallyIncludedAclus=array([ 39,  61,  67,  92, 104]), RL_Short_rel_num_cells=5)\n",
      "len(included_any_context_neuron_ids_dict_dict) != len(decoders_dict), assuming this is a single included_any_context_neuron_ids_dict for all decoders like used in `paired_incremental_sort_neurons(...)`. Fixing. \n",
      "emitChanged(): self.val: 24\n",
      "valueChanged(new_val: 24)\n",
      "an_epoch: EpochTuple(Index=43, start=181.37895865389146, stop=181.474897164735, label=43, duration=0.09593851084355265, LR_Long_ActuallyIncludedAclus=array([ 9, 11, 24, 82, 93]), LR_Long_rel_num_cells=5, RL_Long_ActuallyIncludedAclus=array([ 9, 11, 24, 63, 82, 93]), RL_Long_rel_num_cells=6, LR_Short_ActuallyIncludedAclus=array([ 9, 11, 24, 82, 93]), LR_Short_rel_num_cells=5, RL_Short_ActuallyIncludedAclus=array([ 9, 11, 24, 63, 82, 93]), RL_Short_rel_num_cells=6)\n",
      "an_epoch: EpochTuple(Index=43, start=181.37895865389146, stop=181.474897164735, label=43, duration=0.09593851084355265, LR_Long_ActuallyIncludedAclus=array([ 9, 11, 24, 82, 93]), LR_Long_rel_num_cells=5, RL_Long_ActuallyIncludedAclus=array([ 9, 11, 24, 63, 82, 93]), RL_Long_rel_num_cells=6, LR_Short_ActuallyIncludedAclus=array([ 9, 11, 24, 82, 93]), LR_Short_rel_num_cells=5, RL_Short_ActuallyIncludedAclus=array([ 9, 11, 24, 63, 82, 93]), RL_Short_rel_num_cells=6)\n",
      "an_epoch: EpochTuple(Index=43, start=181.37895865389146, stop=181.474897164735, label=43, duration=0.09593851084355265, LR_Long_ActuallyIncludedAclus=array([ 9, 11, 24, 82, 93]), LR_Long_rel_num_cells=5, RL_Long_ActuallyIncludedAclus=array([ 9, 11, 24, 63, 82, 93]), RL_Long_rel_num_cells=6, LR_Short_ActuallyIncludedAclus=array([ 9, 11, 24, 82, 93]), LR_Short_rel_num_cells=5, RL_Short_ActuallyIncludedAclus=array([ 9, 11, 24, 63, 82, 93]), RL_Short_rel_num_cells=6)\n",
      "an_epoch: EpochTuple(Index=43, start=181.37895865389146, stop=181.474897164735, label=43, duration=0.09593851084355265, LR_Long_ActuallyIncludedAclus=array([ 9, 11, 24, 82, 93]), LR_Long_rel_num_cells=5, RL_Long_ActuallyIncludedAclus=array([ 9, 11, 24, 63, 82, 93]), RL_Long_rel_num_cells=6, LR_Short_ActuallyIncludedAclus=array([ 9, 11, 24, 82, 93]), LR_Short_rel_num_cells=5, RL_Short_ActuallyIncludedAclus=array([ 9, 11, 24, 63, 82, 93]), RL_Short_rel_num_cells=6)\n",
      "len(included_any_context_neuron_ids_dict_dict) != len(decoders_dict), assuming this is a single included_any_context_neuron_ids_dict for all decoders like used in `paired_incremental_sort_neurons(...)`. Fixing. \n",
      "emitChanged(): self.val: 25\n",
      "valueChanged(new_val: 25)\n",
      "an_epoch: EpochTuple(Index=44, start=186.4727621258935, stop=186.79062180314213, label=44, duration=0.3178596772486344, LR_Long_ActuallyIncludedAclus=array([  9,  11,  43,  72,  81,  84,  92,  93, 104]), LR_Long_rel_num_cells=9, RL_Long_ActuallyIncludedAclus=array([  4,   9,  11,  59,  72,  81,  84,  90,  92,  93, 104]), RL_Long_rel_num_cells=11, LR_Short_ActuallyIncludedAclus=array([  9,  11,  43,  72,  81,  84,  92,  93, 104]), LR_Short_rel_num_cells=9, RL_Short_ActuallyIncludedAclus=array([  4,   9,  11,  59,  72,  81,  84,  90,  92,  93, 104]), RL_Short_rel_num_cells=11)\n",
      "an_epoch: EpochTuple(Index=44, start=186.4727621258935, stop=186.79062180314213, label=44, duration=0.3178596772486344, LR_Long_ActuallyIncludedAclus=array([  9,  11,  43,  72,  81,  84,  92,  93, 104]), LR_Long_rel_num_cells=9, RL_Long_ActuallyIncludedAclus=array([  4,   9,  11,  59,  72,  81,  84,  90,  92,  93, 104]), RL_Long_rel_num_cells=11, LR_Short_ActuallyIncludedAclus=array([  9,  11,  43,  72,  81,  84,  92,  93, 104]), LR_Short_rel_num_cells=9, RL_Short_ActuallyIncludedAclus=array([  4,   9,  11,  59,  72,  81,  84,  90,  92,  93, 104]), RL_Short_rel_num_cells=11)\n",
      "an_epoch: EpochTuple(Index=44, start=186.4727621258935, stop=186.79062180314213, label=44, duration=0.3178596772486344, LR_Long_ActuallyIncludedAclus=array([  9,  11,  43,  72,  81,  84,  92,  93, 104]), LR_Long_rel_num_cells=9, RL_Long_ActuallyIncludedAclus=array([  4,   9,  11,  59,  72,  81,  84,  90,  92,  93, 104]), RL_Long_rel_num_cells=11, LR_Short_ActuallyIncludedAclus=array([  9,  11,  43,  72,  81,  84,  92,  93, 104]), LR_Short_rel_num_cells=9, RL_Short_ActuallyIncludedAclus=array([  4,   9,  11,  59,  72,  81,  84,  90,  92,  93, 104]), RL_Short_rel_num_cells=11)\n",
      "an_epoch: EpochTuple(Index=44, start=186.4727621258935, stop=186.79062180314213, label=44, duration=0.3178596772486344, LR_Long_ActuallyIncludedAclus=array([  9,  11,  43,  72,  81,  84,  92,  93, 104]), LR_Long_rel_num_cells=9, RL_Long_ActuallyIncludedAclus=array([  4,   9,  11,  59,  72,  81,  84,  90,  92,  93, 104]), RL_Long_rel_num_cells=11, LR_Short_ActuallyIncludedAclus=array([  9,  11,  43,  72,  81,  84,  92,  93, 104]), LR_Short_rel_num_cells=9, RL_Short_ActuallyIncludedAclus=array([  4,   9,  11,  59,  72,  81,  84,  90,  92,  93, 104]), RL_Short_rel_num_cells=11)\n",
      "len(included_any_context_neuron_ids_dict_dict) != len(decoders_dict), assuming this is a single included_any_context_neuron_ids_dict for all decoders like used in `paired_incremental_sort_neurons(...)`. Fixing. \n",
      "emitChanged(): self.val: 26\n",
      "valueChanged(new_val: 26)\n",
      "an_epoch: EpochTuple(Index=45, start=188.71599681733642, stop=188.85411386669148, label=45, duration=0.13811704935505986, LR_Long_ActuallyIncludedAclus=array([43, 58, 72, 86, 98]), LR_Long_rel_num_cells=5, RL_Long_ActuallyIncludedAclus=array([72, 90, 98]), RL_Long_rel_num_cells=3, LR_Short_ActuallyIncludedAclus=array([43, 58, 72, 86, 98]), LR_Short_rel_num_cells=5, RL_Short_ActuallyIncludedAclus=array([72, 90, 98]), RL_Short_rel_num_cells=3)\n",
      "an_epoch: EpochTuple(Index=45, start=188.71599681733642, stop=188.85411386669148, label=45, duration=0.13811704935505986, LR_Long_ActuallyIncludedAclus=array([43, 58, 72, 86, 98]), LR_Long_rel_num_cells=5, RL_Long_ActuallyIncludedAclus=array([72, 90, 98]), RL_Long_rel_num_cells=3, LR_Short_ActuallyIncludedAclus=array([43, 58, 72, 86, 98]), LR_Short_rel_num_cells=5, RL_Short_ActuallyIncludedAclus=array([72, 90, 98]), RL_Short_rel_num_cells=3)\n",
      "an_epoch: EpochTuple(Index=45, start=188.71599681733642, stop=188.85411386669148, label=45, duration=0.13811704935505986, LR_Long_ActuallyIncludedAclus=array([43, 58, 72, 86, 98]), LR_Long_rel_num_cells=5, RL_Long_ActuallyIncludedAclus=array([72, 90, 98]), RL_Long_rel_num_cells=3, LR_Short_ActuallyIncludedAclus=array([43, 58, 72, 86, 98]), LR_Short_rel_num_cells=5, RL_Short_ActuallyIncludedAclus=array([72, 90, 98]), RL_Short_rel_num_cells=3)\n",
      "an_epoch: EpochTuple(Index=45, start=188.71599681733642, stop=188.85411386669148, label=45, duration=0.13811704935505986, LR_Long_ActuallyIncludedAclus=array([43, 58, 72, 86, 98]), LR_Long_rel_num_cells=5, RL_Long_ActuallyIncludedAclus=array([72, 90, 98]), RL_Long_rel_num_cells=3, LR_Short_ActuallyIncludedAclus=array([43, 58, 72, 86, 98]), LR_Short_rel_num_cells=5, RL_Short_ActuallyIncludedAclus=array([72, 90, 98]), RL_Short_rel_num_cells=3)\n",
      "len(included_any_context_neuron_ids_dict_dict) != len(decoders_dict), assuming this is a single included_any_context_neuron_ids_dict for all decoders like used in `paired_incremental_sort_neurons(...)`. Fixing. \n",
      "emitChanged(): self.val: 27\n",
      "valueChanged(new_val: 27)\n",
      "an_epoch: EpochTuple(Index=47, start=191.63295148382895, stop=191.88073887699284, label=47, duration=0.24778739316388965, LR_Long_ActuallyIncludedAclus=array([  8,  11,  24,  39,  43,  44,  48,  61,  72,  79,  80,  81,  82,  86,  92,  93,  98, 104]), LR_Long_rel_num_cells=18, RL_Long_ActuallyIncludedAclus=array([ 11,  24,  39,  44,  48,  59,  61,  72,  79,  80,  81,  82,  90,  92,  93,  98, 104]), RL_Long_rel_num_cells=17, LR_Short_ActuallyIncludedAclus=array([  8,  11,  24,  39,  43,  44,  48,  61,  72,  79,  80,  81,  82,  86,  92,  93,  98, 104]), LR_Short_rel_num_cells=18, RL_Short_ActuallyIncludedAclus=array([ 11,  24,  39,  44,  48,  59,  61,  72,  79,  80,  81,  82,  90,  92,  93,  98, 104]), RL_Short_rel_num_cells=17)\n",
      "an_epoch: EpochTuple(Index=47, start=191.63295148382895, stop=191.88073887699284, label=47, duration=0.24778739316388965, LR_Long_ActuallyIncludedAclus=array([  8,  11,  24,  39,  43,  44,  48,  61,  72,  79,  80,  81,  82,  86,  92,  93,  98, 104]), LR_Long_rel_num_cells=18, RL_Long_ActuallyIncludedAclus=array([ 11,  24,  39,  44,  48,  59,  61,  72,  79,  80,  81,  82,  90,  92,  93,  98, 104]), RL_Long_rel_num_cells=17, LR_Short_ActuallyIncludedAclus=array([  8,  11,  24,  39,  43,  44,  48,  61,  72,  79,  80,  81,  82,  86,  92,  93,  98, 104]), LR_Short_rel_num_cells=18, RL_Short_ActuallyIncludedAclus=array([ 11,  24,  39,  44,  48,  59,  61,  72,  79,  80,  81,  82,  90,  92,  93,  98, 104]), RL_Short_rel_num_cells=17)\n",
      "an_epoch: EpochTuple(Index=47, start=191.63295148382895, stop=191.88073887699284, label=47, duration=0.24778739316388965, LR_Long_ActuallyIncludedAclus=array([  8,  11,  24,  39,  43,  44,  48,  61,  72,  79,  80,  81,  82,  86,  92,  93,  98, 104]), LR_Long_rel_num_cells=18, RL_Long_ActuallyIncludedAclus=array([ 11,  24,  39,  44,  48,  59,  61,  72,  79,  80,  81,  82,  90,  92,  93,  98, 104]), RL_Long_rel_num_cells=17, LR_Short_ActuallyIncludedAclus=array([  8,  11,  24,  39,  43,  44,  48,  61,  72,  79,  80,  81,  82,  86,  92,  93,  98, 104]), LR_Short_rel_num_cells=18, RL_Short_ActuallyIncludedAclus=array([ 11,  24,  39,  44,  48,  59,  61,  72,  79,  80,  81,  82,  90,  92,  93,  98, 104]), RL_Short_rel_num_cells=17)\n",
      "an_epoch: EpochTuple(Index=47, start=191.63295148382895, stop=191.88073887699284, label=47, duration=0.24778739316388965, LR_Long_ActuallyIncludedAclus=array([  8,  11,  24,  39,  43,  44,  48,  61,  72,  79,  80,  81,  82,  86,  92,  93,  98, 104]), LR_Long_rel_num_cells=18, RL_Long_ActuallyIncludedAclus=array([ 11,  24,  39,  44,  48,  59,  61,  72,  79,  80,  81,  82,  90,  92,  93,  98, 104]), RL_Long_rel_num_cells=17, LR_Short_ActuallyIncludedAclus=array([  8,  11,  24,  39,  43,  44,  48,  61,  72,  79,  80,  81,  82,  86,  92,  93,  98, 104]), LR_Short_rel_num_cells=18, RL_Short_ActuallyIncludedAclus=array([ 11,  24,  39,  44,  48,  59,  61,  72,  79,  80,  81,  82,  90,  92,  93,  98, 104]), RL_Short_rel_num_cells=17)\n",
      "len(included_any_context_neuron_ids_dict_dict) != len(decoders_dict), assuming this is a single included_any_context_neuron_ids_dict for all decoders like used in `paired_incremental_sort_neurons(...)`. Fixing. \n",
      "emitChanged(): self.val: 28\n",
      "valueChanged(new_val: 28)\n",
      "an_epoch: EpochTuple(Index=52, start=202.72271220583934, stop=203.04484196100384, label=52, duration=0.3221297551644966, LR_Long_ActuallyIncludedAclus=array([ 6,  9, 11, 43, 48, 72, 81, 92, 93]), LR_Long_rel_num_cells=9, RL_Long_ActuallyIncludedAclus=array([ 9, 11, 48, 72, 81, 92, 93]), RL_Long_rel_num_cells=7, LR_Short_ActuallyIncludedAclus=array([ 6,  9, 11, 43, 48, 72, 81, 92, 93]), LR_Short_rel_num_cells=9, RL_Short_ActuallyIncludedAclus=array([ 9, 11, 48, 72, 81, 92, 93]), RL_Short_rel_num_cells=7)\n",
      "an_epoch: EpochTuple(Index=52, start=202.72271220583934, stop=203.04484196100384, label=52, duration=0.3221297551644966, LR_Long_ActuallyIncludedAclus=array([ 6,  9, 11, 43, 48, 72, 81, 92, 93]), LR_Long_rel_num_cells=9, RL_Long_ActuallyIncludedAclus=array([ 9, 11, 48, 72, 81, 92, 93]), RL_Long_rel_num_cells=7, LR_Short_ActuallyIncludedAclus=array([ 6,  9, 11, 43, 48, 72, 81, 92, 93]), LR_Short_rel_num_cells=9, RL_Short_ActuallyIncludedAclus=array([ 9, 11, 48, 72, 81, 92, 93]), RL_Short_rel_num_cells=7)\n",
      "an_epoch: EpochTuple(Index=52, start=202.72271220583934, stop=203.04484196100384, label=52, duration=0.3221297551644966, LR_Long_ActuallyIncludedAclus=array([ 6,  9, 11, 43, 48, 72, 81, 92, 93]), LR_Long_rel_num_cells=9, RL_Long_ActuallyIncludedAclus=array([ 9, 11, 48, 72, 81, 92, 93]), RL_Long_rel_num_cells=7, LR_Short_ActuallyIncludedAclus=array([ 6,  9, 11, 43, 48, 72, 81, 92, 93]), LR_Short_rel_num_cells=9, RL_Short_ActuallyIncludedAclus=array([ 9, 11, 48, 72, 81, 92, 93]), RL_Short_rel_num_cells=7)\n",
      "an_epoch: EpochTuple(Index=52, start=202.72271220583934, stop=203.04484196100384, label=52, duration=0.3221297551644966, LR_Long_ActuallyIncludedAclus=array([ 6,  9, 11, 43, 48, 72, 81, 92, 93]), LR_Long_rel_num_cells=9, RL_Long_ActuallyIncludedAclus=array([ 9, 11, 48, 72, 81, 92, 93]), RL_Long_rel_num_cells=7, LR_Short_ActuallyIncludedAclus=array([ 6,  9, 11, 43, 48, 72, 81, 92, 93]), LR_Short_rel_num_cells=9, RL_Short_ActuallyIncludedAclus=array([ 9, 11, 48, 72, 81, 92, 93]), RL_Short_rel_num_cells=7)\n",
      "len(included_any_context_neuron_ids_dict_dict) != len(decoders_dict), assuming this is a single included_any_context_neuron_ids_dict for all decoders like used in `paired_incremental_sort_neurons(...)`. Fixing. \n",
      "emitChanged(): self.val: 27\n",
      "valueChanged(new_val: 27)\n",
      "an_epoch: EpochTuple(Index=47, start=191.63295148382895, stop=191.88073887699284, label=47, duration=0.24778739316388965, LR_Long_ActuallyIncludedAclus=array([  8,  11,  24,  39,  43,  44,  48,  61,  72,  79,  80,  81,  82,  86,  92,  93,  98, 104]), LR_Long_rel_num_cells=18, RL_Long_ActuallyIncludedAclus=array([ 11,  24,  39,  44,  48,  59,  61,  72,  79,  80,  81,  82,  90,  92,  93,  98, 104]), RL_Long_rel_num_cells=17, LR_Short_ActuallyIncludedAclus=array([  8,  11,  24,  39,  43,  44,  48,  61,  72,  79,  80,  81,  82,  86,  92,  93,  98, 104]), LR_Short_rel_num_cells=18, RL_Short_ActuallyIncludedAclus=array([ 11,  24,  39,  44,  48,  59,  61,  72,  79,  80,  81,  82,  90,  92,  93,  98, 104]), RL_Short_rel_num_cells=17)\n",
      "an_epoch: EpochTuple(Index=47, start=191.63295148382895, stop=191.88073887699284, label=47, duration=0.24778739316388965, LR_Long_ActuallyIncludedAclus=array([  8,  11,  24,  39,  43,  44,  48,  61,  72,  79,  80,  81,  82,  86,  92,  93,  98, 104]), LR_Long_rel_num_cells=18, RL_Long_ActuallyIncludedAclus=array([ 11,  24,  39,  44,  48,  59,  61,  72,  79,  80,  81,  82,  90,  92,  93,  98, 104]), RL_Long_rel_num_cells=17, LR_Short_ActuallyIncludedAclus=array([  8,  11,  24,  39,  43,  44,  48,  61,  72,  79,  80,  81,  82,  86,  92,  93,  98, 104]), LR_Short_rel_num_cells=18, RL_Short_ActuallyIncludedAclus=array([ 11,  24,  39,  44,  48,  59,  61,  72,  79,  80,  81,  82,  90,  92,  93,  98, 104]), RL_Short_rel_num_cells=17)\n",
      "an_epoch: EpochTuple(Index=47, start=191.63295148382895, stop=191.88073887699284, label=47, duration=0.24778739316388965, LR_Long_ActuallyIncludedAclus=array([  8,  11,  24,  39,  43,  44,  48,  61,  72,  79,  80,  81,  82,  86,  92,  93,  98, 104]), LR_Long_rel_num_cells=18, RL_Long_ActuallyIncludedAclus=array([ 11,  24,  39,  44,  48,  59,  61,  72,  79,  80,  81,  82,  90,  92,  93,  98, 104]), RL_Long_rel_num_cells=17, LR_Short_ActuallyIncludedAclus=array([  8,  11,  24,  39,  43,  44,  48,  61,  72,  79,  80,  81,  82,  86,  92,  93,  98, 104]), LR_Short_rel_num_cells=18, RL_Short_ActuallyIncludedAclus=array([ 11,  24,  39,  44,  48,  59,  61,  72,  79,  80,  81,  82,  90,  92,  93,  98, 104]), RL_Short_rel_num_cells=17)\n",
      "an_epoch: EpochTuple(Index=47, start=191.63295148382895, stop=191.88073887699284, label=47, duration=0.24778739316388965, LR_Long_ActuallyIncludedAclus=array([  8,  11,  24,  39,  43,  44,  48,  61,  72,  79,  80,  81,  82,  86,  92,  93,  98, 104]), LR_Long_rel_num_cells=18, RL_Long_ActuallyIncludedAclus=array([ 11,  24,  39,  44,  48,  59,  61,  72,  79,  80,  81,  82,  90,  92,  93,  98, 104]), RL_Long_rel_num_cells=17, LR_Short_ActuallyIncludedAclus=array([  8,  11,  24,  39,  43,  44,  48,  61,  72,  79,  80,  81,  82,  86,  92,  93,  98, 104]), LR_Short_rel_num_cells=18, RL_Short_ActuallyIncludedAclus=array([ 11,  24,  39,  44,  48,  59,  61,  72,  79,  80,  81,  82,  90,  92,  93,  98, 104]), RL_Short_rel_num_cells=17)\n",
      "len(included_any_context_neuron_ids_dict_dict) != len(decoders_dict), assuming this is a single included_any_context_neuron_ids_dict for all decoders like used in `paired_incremental_sort_neurons(...)`. Fixing. \n",
      "_tip_fn(...): data_string: t: 191.80943779356312|aclu: 39|neuron_IDX: 12|visualization_raster_y_location: nan\n",
      "_tip_fn(...): data_string: t: 191.769532534061|aclu: 43|neuron_IDX: 13|visualization_raster_y_location: nan\n",
      "_tip_fn(...): data_string: t: 191.769532534061|aclu: 43|neuron_IDX: 13|visualization_raster_y_location: nan\n",
      "_tip_fn(...): data_string: t: 191.769532534061|aclu: 43|neuron_IDX: 13|visualization_raster_y_location: nan\n",
      "_tip_fn(...): data_string: t: 191.769532534061|aclu: 43|neuron_IDX: 13|visualization_raster_y_location: nan\n",
      "_tip_fn(...): data_string: t: 191.769532534061|aclu: 43|neuron_IDX: 13|visualization_raster_y_location: nan\n",
      "_tip_fn(...): data_string: t: 191.769532534061|aclu: 43|neuron_IDX: 13|visualization_raster_y_location: nan\n",
      "_tip_fn(...): data_string: t: 191.77285029226914|aclu: 81|neuron_IDX: 22|visualization_raster_y_location: nan\n",
      "_tip_fn(...): data_string: t: 191.77285029226914|aclu: 81|neuron_IDX: 22|visualization_raster_y_location: nan\n"
     ]
    }
   ],
   "source": [
    "from pyphoplacecellanalysis.GUI.PyQtPlot.Widgets.ContainerBased.RankOrderRastersDebugger import a_debug_callback_fn, debug_update_long_short_info_titles, debug_update_plot_titles\n",
    "\n",
    "\n",
    "# active_plotter = _out_rank_order_event_raster_debugger\n",
    "active_plotter = _out_rank_order_selected_spikes_only_event_raster_debugger\n",
    "\n",
    "# _out_directional_template_pfs_debugger = None\n",
    "\n",
    "def plot_attached_directional_templates_pf_debugger(curr_active_pipeline, rank_order_raster_debugger: RankOrderRastersDebugger):\n",
    "    \"\"\" builds a _display_directional_template_debugger, attaches it to the provided rank_order_event_raster_debugger so it's updated on its callback, and then returns what it created. \n",
    "    \n",
    "    \"\"\"\n",
    "    curr_active_pipeline.reload_default_display_functions()\n",
    "    # epoch_active_aclus = np.array([9,  26,  31,  39,  40,  43,  47,  52,  53,  54,  60,  61,  65,  68,  72,  75,  77,  78,  81,  82,  84,  85,  90,  92,  93,  98, 102]) # some test indicies\n",
    "    epoch_active_aclus = None\n",
    "    _out_directional_template_pfs_debugger = curr_active_pipeline.display(DirectionalPlacefieldGlobalDisplayFunctions._display_directional_template_debugger, included_any_context_neuron_ids=epoch_active_aclus, figure_name=f'<Controlled by RankOrderRastersDebugger>')\n",
    "\n",
    "    def debug_update_paired_directional_template_pfs_debugger(a_plotter, an_idx: int):\n",
    "        \"\"\" captures: _out_directional_template_pfs_debugger, \"\"\"\n",
    "        epoch_active_aclus = deepcopy(a_plotter.get_epoch_active_aclus())\n",
    "        # update the displayed cells:\n",
    "        directional_template_pfs_debugger_on_update_callback = _out_directional_template_pfs_debugger.get('ui').on_update_callback\n",
    "        directional_template_pfs_debugger_on_update_callback(epoch_active_aclus)\n",
    "    \n",
    "    rank_order_raster_debugger.on_idx_changed_callback_function_dict['debug_update_paired_directional_template_pfs_debugger'] = debug_update_paired_directional_template_pfs_debugger\n",
    "    \n",
    "    return _out_directional_template_pfs_debugger, debug_update_paired_directional_template_pfs_debugger\n",
    "\n",
    "\n",
    "_out_directional_template_pfs_debugger, debug_update_paired_directional_template_pfs_debugger = plot_attached_directional_templates_pf_debugger(curr_active_pipeline, rank_order_raster_debugger=active_plotter)\n",
    "\n",
    "active_plotter.on_idx_changed_callback_function_dict['a_debug_callback'] = a_debug_callback_fn\n",
    "active_plotter.on_idx_changed_callback_function_dict['debug_update_plot_titles_callback'] = debug_update_plot_titles\n",
    "# active_plotter.on_idx_changed_callback_function_dict['debug_update_paired_directional_template_pfs_debugger'] = debug_update_paired_directional_template_pfs_debugger\n",
    "# active_plotter.on_idx_changed_callback_function_dict['debug_update_long_short_info_titles'] = debug_update_long_short_info_titles\n",
    "# active_plotter.on_idx_changed_callback_function_dict['debug_plot_epoch_label_row'] = debug_plot_epoch_label_row\n",
    "\n",
    "# active_plotter.on_update_epoch_IDX(11)"
   ]
  },
  {
   "cell_type": "markdown",
   "id": "3a278553",
   "metadata": {},
   "source": [
    "# 🔶 2023-12-20 - Spearman Investigations"
   ]
  },
  {
   "cell_type": "code",
   "execution_count": null,
   "id": "9d242421",
   "metadata": {},
   "outputs": [],
   "source": [
    "active_plotter.active_epoch_df"
   ]
  },
  {
   "cell_type": "code",
   "execution_count": 26,
   "id": "30a933b9",
   "metadata": {},
   "outputs": [
    {
     "data": {
      "text/html": [
       "<div>\n",
       "<style scoped>\n",
       "    .dataframe tbody tr th:only-of-type {\n",
       "        vertical-align: middle;\n",
       "    }\n",
       "\n",
       "    .dataframe tbody tr th {\n",
       "        vertical-align: top;\n",
       "    }\n",
       "\n",
       "    .dataframe thead th {\n",
       "        text-align: right;\n",
       "    }\n",
       "</style>\n",
       "<table border=\"1\" class=\"dataframe\">\n",
       "  <thead>\n",
       "    <tr style=\"text-align: right;\">\n",
       "      <th></th>\n",
       "      <th>LR_Long_spearman</th>\n",
       "      <th>RL_Long_spearman</th>\n",
       "      <th>LR_Short_spearman</th>\n",
       "      <th>RL_Short_spearman</th>\n",
       "      <th>LR_Long_pearson</th>\n",
       "      <th>RL_Long_pearson</th>\n",
       "      <th>LR_Short_pearson</th>\n",
       "      <th>RL_Short_pearson</th>\n",
       "      <th>LR_Long_spearman_Z</th>\n",
       "      <th>RL_Long_spearman_Z</th>\n",
       "      <th>LR_Short_spearman_Z</th>\n",
       "      <th>RL_Short_spearman_Z</th>\n",
       "      <th>LR_Long_pearson_Z</th>\n",
       "      <th>RL_Long_pearson_Z</th>\n",
       "      <th>LR_Short_pearson_Z</th>\n",
       "      <th>RL_Short_pearson_Z</th>\n",
       "      <th>label</th>\n",
       "    </tr>\n",
       "  </thead>\n",
       "  <tbody>\n",
       "    <tr>\n",
       "      <th>47</th>\n",
       "      <td>0.642371</td>\n",
       "      <td>0.143608</td>\n",
       "      <td>0.666674</td>\n",
       "      <td>-0.021016</td>\n",
       "      <td>0.669165</td>\n",
       "      <td>0.178174</td>\n",
       "      <td>0.715529</td>\n",
       "      <td>-0.098999</td>\n",
       "      <td>1.548077</td>\n",
       "      <td>0.36326</td>\n",
       "      <td>1.606779</td>\n",
       "      <td>-0.055332</td>\n",
       "      <td>1.610068</td>\n",
       "      <td>0.450702</td>\n",
       "      <td>1.720307</td>\n",
       "      <td>-0.253245</td>\n",
       "      <td>47.0</td>\n",
       "    </tr>\n",
       "  </tbody>\n",
       "</table>\n",
       "</div>"
      ],
      "text/plain": [
       "    LR_Long_spearman  RL_Long_spearman  LR_Short_spearman  RL_Short_spearman  LR_Long_pearson  RL_Long_pearson  LR_Short_pearson  RL_Short_pearson  LR_Long_spearman_Z  RL_Long_spearman_Z  LR_Short_spearman_Z  RL_Short_spearman_Z  LR_Long_pearson_Z  RL_Long_pearson_Z  LR_Short_pearson_Z  RL_Short_pearson_Z  label\n",
       "47          0.642371          0.143608           0.666674          -0.021016         0.669165         0.178174          0.715529         -0.098999            1.548077             0.36326             1.606779            -0.055332           1.610068           0.450702            1.720307           -0.253245   47.0"
      ]
     },
     "execution_count": 26,
     "metadata": {},
     "output_type": "execute_result"
    }
   ],
   "source": [
    "active_plotter.active_epoch_result_df"
   ]
  },
  {
   "cell_type": "code",
   "execution_count": 27,
   "id": "d369cb22",
   "metadata": {},
   "outputs": [
    {
     "data": {
      "text/html": [
       "<div>\n",
       "<style scoped>\n",
       "    .dataframe tbody tr th:only-of-type {\n",
       "        vertical-align: middle;\n",
       "    }\n",
       "\n",
       "    .dataframe tbody tr th {\n",
       "        vertical-align: top;\n",
       "    }\n",
       "\n",
       "    .dataframe thead th {\n",
       "        text-align: right;\n",
       "    }\n",
       "</style>\n",
       "<table border=\"1\" class=\"dataframe\">\n",
       "  <thead>\n",
       "    <tr style=\"text-align: right;\">\n",
       "      <th></th>\n",
       "      <th>t</th>\n",
       "      <th>t_seconds</th>\n",
       "      <th>t_rel_seconds</th>\n",
       "      <th>shank</th>\n",
       "      <th>cluster</th>\n",
       "      <th>aclu</th>\n",
       "      <th>qclu</th>\n",
       "      <th>x</th>\n",
       "      <th>y</th>\n",
       "      <th>speed</th>\n",
       "      <th>traj</th>\n",
       "      <th>lap</th>\n",
       "      <th>maze_relative_lap</th>\n",
       "      <th>maze_id</th>\n",
       "      <th>is_theta</th>\n",
       "      <th>is_ripple</th>\n",
       "      <th>theta_phase_radians</th>\n",
       "      <th>neuron_type</th>\n",
       "      <th>flat_spike_idx</th>\n",
       "      <th>x_loaded</th>\n",
       "      <th>y_loaded</th>\n",
       "      <th>lin_pos</th>\n",
       "      <th>fragile_linear_neuron_IDX</th>\n",
       "      <th>PBE_id</th>\n",
       "      <th>scISI</th>\n",
       "      <th>neuron_IDX</th>\n",
       "      <th>Probe_Epoch_id</th>\n",
       "    </tr>\n",
       "  </thead>\n",
       "  <tbody>\n",
       "    <tr>\n",
       "      <th>0</th>\n",
       "      <td>1388610.0</td>\n",
       "      <td>643083.191871</td>\n",
       "      <td>42.658077</td>\n",
       "      <td>9</td>\n",
       "      <td>20</td>\n",
       "      <td>80</td>\n",
       "      <td>2</td>\n",
       "      <td>220.085161</td>\n",
       "      <td>150.838133</td>\n",
       "      <td>1.146709</td>\n",
       "      <td>7</td>\n",
       "      <td>1</td>\n",
       "      <td>1</td>\n",
       "      <td>1</td>\n",
       "      <td>True</td>\n",
       "      <td>False</td>\n",
       "      <td>5.030498</td>\n",
       "      <td>NeuronType.PYRAMIDAL</td>\n",
       "      <td>23409</td>\n",
       "      <td>0.760979</td>\n",
       "      <td>0.528578</td>\n",
       "      <td>218.496767</td>\n",
       "      <td>33</td>\n",
       "      <td>0</td>\n",
       "      <td>3.092212</td>\n",
       "      <td>33</td>\n",
       "      <td>0</td>\n",
       "    </tr>\n",
       "    <tr>\n",
       "      <th>1</th>\n",
       "      <td>1388850.0</td>\n",
       "      <td>643083.199244</td>\n",
       "      <td>42.665450</td>\n",
       "      <td>1</td>\n",
       "      <td>13</td>\n",
       "      <td>8</td>\n",
       "      <td>2</td>\n",
       "      <td>220.081028</td>\n",
       "      <td>150.845626</td>\n",
       "      <td>1.145837</td>\n",
       "      <td>7</td>\n",
       "      <td>1</td>\n",
       "      <td>1</td>\n",
       "      <td>1</td>\n",
       "      <td>True</td>\n",
       "      <td>False</td>\n",
       "      <td>5.338121</td>\n",
       "      <td>NeuronType.PYRAMIDAL</td>\n",
       "      <td>23418</td>\n",
       "      <td>0.760947</td>\n",
       "      <td>0.528708</td>\n",
       "      <td>218.496291</td>\n",
       "      <td>4</td>\n",
       "      <td>0</td>\n",
       "      <td>19.226778</td>\n",
       "      <td>4</td>\n",
       "      <td>0</td>\n",
       "    </tr>\n",
       "    <tr>\n",
       "      <th>2</th>\n",
       "      <td>1389115.0</td>\n",
       "      <td>643083.207385</td>\n",
       "      <td>42.673591</td>\n",
       "      <td>8</td>\n",
       "      <td>6</td>\n",
       "      <td>58</td>\n",
       "      <td>1</td>\n",
       "      <td>220.076569</td>\n",
       "      <td>150.853714</td>\n",
       "      <td>1.145948</td>\n",
       "      <td>7</td>\n",
       "      <td>1</td>\n",
       "      <td>1</td>\n",
       "      <td>1</td>\n",
       "      <td>True</td>\n",
       "      <td>False</td>\n",
       "      <td>5.703985</td>\n",
       "      <td>NeuronType.PYRAMIDAL</td>\n",
       "      <td>23430</td>\n",
       "      <td>0.760956</td>\n",
       "      <td>0.528849</td>\n",
       "      <td>218.495795</td>\n",
       "      <td>24</td>\n",
       "      <td>0</td>\n",
       "      <td>2.039961</td>\n",
       "      <td>24</td>\n",
       "      <td>0</td>\n",
       "    </tr>\n",
       "    <tr>\n",
       "      <th>3</th>\n",
       "      <td>1389204.0</td>\n",
       "      <td>643083.210119</td>\n",
       "      <td>42.676325</td>\n",
       "      <td>9</td>\n",
       "      <td>7</td>\n",
       "      <td>72</td>\n",
       "      <td>2</td>\n",
       "      <td>220.075071</td>\n",
       "      <td>150.856430</td>\n",
       "      <td>1.145986</td>\n",
       "      <td>7</td>\n",
       "      <td>1</td>\n",
       "      <td>1</td>\n",
       "      <td>1</td>\n",
       "      <td>True</td>\n",
       "      <td>False</td>\n",
       "      <td>5.801769</td>\n",
       "      <td>NeuronType.PYRAMIDAL</td>\n",
       "      <td>23434</td>\n",
       "      <td>0.760960</td>\n",
       "      <td>0.528897</td>\n",
       "      <td>218.495628</td>\n",
       "      <td>31</td>\n",
       "      <td>0</td>\n",
       "      <td>3.868967</td>\n",
       "      <td>31</td>\n",
       "      <td>0</td>\n",
       "    </tr>\n",
       "    <tr>\n",
       "      <th>4</th>\n",
       "      <td>1389311.0</td>\n",
       "      <td>643083.213406</td>\n",
       "      <td>42.679612</td>\n",
       "      <td>8</td>\n",
       "      <td>10</td>\n",
       "      <td>61</td>\n",
       "      <td>2</td>\n",
       "      <td>220.073270</td>\n",
       "      <td>150.859695</td>\n",
       "      <td>1.146031</td>\n",
       "      <td>7</td>\n",
       "      <td>1</td>\n",
       "      <td>1</td>\n",
       "      <td>1</td>\n",
       "      <td>True</td>\n",
       "      <td>False</td>\n",
       "      <td>5.930796</td>\n",
       "      <td>NeuronType.PYRAMIDAL</td>\n",
       "      <td>23438</td>\n",
       "      <td>0.760964</td>\n",
       "      <td>0.528954</td>\n",
       "      <td>218.495427</td>\n",
       "      <td>26</td>\n",
       "      <td>0</td>\n",
       "      <td>3.862301</td>\n",
       "      <td>26</td>\n",
       "      <td>0</td>\n",
       "    </tr>\n",
       "    <tr>\n",
       "      <th>5</th>\n",
       "      <td>1389664.0</td>\n",
       "      <td>643083.224250</td>\n",
       "      <td>42.690456</td>\n",
       "      <td>11</td>\n",
       "      <td>4</td>\n",
       "      <td>93</td>\n",
       "      <td>2</td>\n",
       "      <td>220.067330</td>\n",
       "      <td>150.870468</td>\n",
       "      <td>1.146180</td>\n",
       "      <td>7</td>\n",
       "      <td>1</td>\n",
       "      <td>1</td>\n",
       "      <td>1</td>\n",
       "      <td>True</td>\n",
       "      <td>False</td>\n",
       "      <td>0.086853</td>\n",
       "      <td>NeuronType.PYRAMIDAL</td>\n",
       "      <td>23450</td>\n",
       "      <td>0.760979</td>\n",
       "      <td>0.529142</td>\n",
       "      <td>218.494765</td>\n",
       "      <td>42</td>\n",
       "      <td>0</td>\n",
       "      <td>0.105707</td>\n",
       "      <td>42</td>\n",
       "      <td>0</td>\n",
       "    </tr>\n",
       "    <tr>\n",
       "      <th>...</th>\n",
       "      <td>...</td>\n",
       "      <td>...</td>\n",
       "      <td>...</td>\n",
       "      <td>...</td>\n",
       "      <td>...</td>\n",
       "      <td>...</td>\n",
       "      <td>...</td>\n",
       "      <td>...</td>\n",
       "      <td>...</td>\n",
       "      <td>...</td>\n",
       "      <td>...</td>\n",
       "      <td>...</td>\n",
       "      <td>...</td>\n",
       "      <td>...</td>\n",
       "      <td>...</td>\n",
       "      <td>...</td>\n",
       "      <td>...</td>\n",
       "      <td>...</td>\n",
       "      <td>...</td>\n",
       "      <td>...</td>\n",
       "      <td>...</td>\n",
       "      <td>...</td>\n",
       "      <td>...</td>\n",
       "      <td>...</td>\n",
       "      <td>...</td>\n",
       "      <td>...</td>\n",
       "      <td>...</td>\n",
       "    </tr>\n",
       "    <tr>\n",
       "      <th>3131</th>\n",
       "      <td>56436796.0</td>\n",
       "      <td>644774.271279</td>\n",
       "      <td>1733.737485</td>\n",
       "      <td>8</td>\n",
       "      <td>5</td>\n",
       "      <td>57</td>\n",
       "      <td>2</td>\n",
       "      <td>205.086329</td>\n",
       "      <td>142.299499</td>\n",
       "      <td>0.294023</td>\n",
       "      <td>11</td>\n",
       "      <td>-1</td>\n",
       "      <td>-1</td>\n",
       "      <td>2</td>\n",
       "      <td>False</td>\n",
       "      <td>False</td>\n",
       "      <td>5.139826</td>\n",
       "      <td>NeuronType.PYRAMIDAL</td>\n",
       "      <td>867350</td>\n",
       "      <td>0.715153</td>\n",
       "      <td>0.499978</td>\n",
       "      <td>203.031864</td>\n",
       "      <td>23</td>\n",
       "      <td>420</td>\n",
       "      <td>0.024484</td>\n",
       "      <td>23</td>\n",
       "      <td>409</td>\n",
       "    </tr>\n",
       "    <tr>\n",
       "      <th>3132</th>\n",
       "      <td>56437479.0</td>\n",
       "      <td>644774.292261</td>\n",
       "      <td>1733.758467</td>\n",
       "      <td>11</td>\n",
       "      <td>4</td>\n",
       "      <td>93</td>\n",
       "      <td>2</td>\n",
       "      <td>205.088549</td>\n",
       "      <td>142.305429</td>\n",
       "      <td>0.292292</td>\n",
       "      <td>11</td>\n",
       "      <td>-1</td>\n",
       "      <td>-1</td>\n",
       "      <td>2</td>\n",
       "      <td>False</td>\n",
       "      <td>True</td>\n",
       "      <td>0.000115</td>\n",
       "      <td>NeuronType.PYRAMIDAL</td>\n",
       "      <td>867369</td>\n",
       "      <td>0.715122</td>\n",
       "      <td>0.499987</td>\n",
       "      <td>203.035023</td>\n",
       "      <td>42</td>\n",
       "      <td>420</td>\n",
       "      <td>1.081681</td>\n",
       "      <td>42</td>\n",
       "      <td>409</td>\n",
       "    </tr>\n",
       "    <tr>\n",
       "      <th>3133</th>\n",
       "      <td>56437503.0</td>\n",
       "      <td>644774.292998</td>\n",
       "      <td>1733.759204</td>\n",
       "      <td>9</td>\n",
       "      <td>20</td>\n",
       "      <td>80</td>\n",
       "      <td>2</td>\n",
       "      <td>205.088627</td>\n",
       "      <td>142.305637</td>\n",
       "      <td>0.292231</td>\n",
       "      <td>11</td>\n",
       "      <td>-1</td>\n",
       "      <td>-1</td>\n",
       "      <td>2</td>\n",
       "      <td>False</td>\n",
       "      <td>True</td>\n",
       "      <td>0.044405</td>\n",
       "      <td>NeuronType.PYRAMIDAL</td>\n",
       "      <td>867370</td>\n",
       "      <td>0.715121</td>\n",
       "      <td>0.499987</td>\n",
       "      <td>203.035134</td>\n",
       "      <td>33</td>\n",
       "      <td>420</td>\n",
       "      <td>2.477260</td>\n",
       "      <td>33</td>\n",
       "      <td>409</td>\n",
       "    </tr>\n",
       "    <tr>\n",
       "      <th>3134</th>\n",
       "      <td>56437683.0</td>\n",
       "      <td>644774.298528</td>\n",
       "      <td>1733.764734</td>\n",
       "      <td>10</td>\n",
       "      <td>8</td>\n",
       "      <td>84</td>\n",
       "      <td>2</td>\n",
       "      <td>205.089212</td>\n",
       "      <td>142.307200</td>\n",
       "      <td>0.291775</td>\n",
       "      <td>11</td>\n",
       "      <td>-1</td>\n",
       "      <td>-1</td>\n",
       "      <td>2</td>\n",
       "      <td>False</td>\n",
       "      <td>True</td>\n",
       "      <td>0.354801</td>\n",
       "      <td>NeuronType.PYRAMIDAL</td>\n",
       "      <td>867376</td>\n",
       "      <td>0.715112</td>\n",
       "      <td>0.499990</td>\n",
       "      <td>203.035967</td>\n",
       "      <td>36</td>\n",
       "      <td>420</td>\n",
       "      <td>7.316794</td>\n",
       "      <td>36</td>\n",
       "      <td>409</td>\n",
       "    </tr>\n",
       "    <tr>\n",
       "      <th>3135</th>\n",
       "      <td>56440628.0</td>\n",
       "      <td>644774.388998</td>\n",
       "      <td>1733.855204</td>\n",
       "      <td>3</td>\n",
       "      <td>37</td>\n",
       "      <td>39</td>\n",
       "      <td>2</td>\n",
       "      <td>205.098493</td>\n",
       "      <td>142.331992</td>\n",
       "      <td>0.291772</td>\n",
       "      <td>11</td>\n",
       "      <td>-1</td>\n",
       "      <td>-1</td>\n",
       "      <td>2</td>\n",
       "      <td>False</td>\n",
       "      <td>False</td>\n",
       "      <td>6.074794</td>\n",
       "      <td>NeuronType.PYRAMIDAL</td>\n",
       "      <td>867440</td>\n",
       "      <td>0.714980</td>\n",
       "      <td>0.500026</td>\n",
       "      <td>203.049589</td>\n",
       "      <td>19</td>\n",
       "      <td>420</td>\n",
       "      <td>0.284682</td>\n",
       "      <td>19</td>\n",
       "      <td>409</td>\n",
       "    </tr>\n",
       "    <tr>\n",
       "      <th>3136</th>\n",
       "      <td>56440689.0</td>\n",
       "      <td>644774.390872</td>\n",
       "      <td>1733.857078</td>\n",
       "      <td>8</td>\n",
       "      <td>12</td>\n",
       "      <td>62</td>\n",
       "      <td>2</td>\n",
       "      <td>205.098694</td>\n",
       "      <td>142.332528</td>\n",
       "      <td>0.291774</td>\n",
       "      <td>11</td>\n",
       "      <td>-1</td>\n",
       "      <td>-1</td>\n",
       "      <td>2</td>\n",
       "      <td>False</td>\n",
       "      <td>False</td>\n",
       "      <td>0.101868</td>\n",
       "      <td>NeuronType.PYRAMIDAL</td>\n",
       "      <td>867443</td>\n",
       "      <td>0.714977</td>\n",
       "      <td>0.500027</td>\n",
       "      <td>203.049889</td>\n",
       "      <td>27</td>\n",
       "      <td>420</td>\n",
       "      <td>0.349686</td>\n",
       "      <td>27</td>\n",
       "      <td>409</td>\n",
       "    </tr>\n",
       "  </tbody>\n",
       "</table>\n",
       "<p>3137 rows × 27 columns</p>\n",
       "</div>"
      ],
      "text/plain": [
       "               t      t_seconds  t_rel_seconds  shank  cluster  aclu  qclu           x           y     speed  traj  lap  maze_relative_lap  maze_id  is_theta  is_ripple  theta_phase_radians           neuron_type  flat_spike_idx  x_loaded  y_loaded     lin_pos  fragile_linear_neuron_IDX  PBE_id      scISI  neuron_IDX  Probe_Epoch_id\n",
       "0      1388610.0  643083.191871      42.658077      9       20    80     2  220.085161  150.838133  1.146709     7    1                  1        1      True      False             5.030498  NeuronType.PYRAMIDAL           23409  0.760979  0.528578  218.496767                         33       0   3.092212          33               0\n",
       "1      1388850.0  643083.199244      42.665450      1       13     8     2  220.081028  150.845626  1.145837     7    1                  1        1      True      False             5.338121  NeuronType.PYRAMIDAL           23418  0.760947  0.528708  218.496291                          4       0  19.226778           4               0\n",
       "2      1389115.0  643083.207385      42.673591      8        6    58     1  220.076569  150.853714  1.145948     7    1                  1        1      True      False             5.703985  NeuronType.PYRAMIDAL           23430  0.760956  0.528849  218.495795                         24       0   2.039961          24               0\n",
       "3      1389204.0  643083.210119      42.676325      9        7    72     2  220.075071  150.856430  1.145986     7    1                  1        1      True      False             5.801769  NeuronType.PYRAMIDAL           23434  0.760960  0.528897  218.495628                         31       0   3.868967          31               0\n",
       "4      1389311.0  643083.213406      42.679612      8       10    61     2  220.073270  150.859695  1.146031     7    1                  1        1      True      False             5.930796  NeuronType.PYRAMIDAL           23438  0.760964  0.528954  218.495427                         26       0   3.862301          26               0\n",
       "5      1389664.0  643083.224250      42.690456     11        4    93     2  220.067330  150.870468  1.146180     7    1                  1        1      True      False             0.086853  NeuronType.PYRAMIDAL           23450  0.760979  0.529142  218.494765                         42       0   0.105707          42               0\n",
       "...          ...            ...            ...    ...      ...   ...   ...         ...         ...       ...   ...  ...                ...      ...       ...        ...                  ...                   ...             ...       ...       ...         ...                        ...     ...        ...         ...             ...\n",
       "3131  56436796.0  644774.271279    1733.737485      8        5    57     2  205.086329  142.299499  0.294023    11   -1                 -1        2     False      False             5.139826  NeuronType.PYRAMIDAL          867350  0.715153  0.499978  203.031864                         23     420   0.024484          23             409\n",
       "3132  56437479.0  644774.292261    1733.758467     11        4    93     2  205.088549  142.305429  0.292292    11   -1                 -1        2     False       True             0.000115  NeuronType.PYRAMIDAL          867369  0.715122  0.499987  203.035023                         42     420   1.081681          42             409\n",
       "3133  56437503.0  644774.292998    1733.759204      9       20    80     2  205.088627  142.305637  0.292231    11   -1                 -1        2     False       True             0.044405  NeuronType.PYRAMIDAL          867370  0.715121  0.499987  203.035134                         33     420   2.477260          33             409\n",
       "3134  56437683.0  644774.298528    1733.764734     10        8    84     2  205.089212  142.307200  0.291775    11   -1                 -1        2     False       True             0.354801  NeuronType.PYRAMIDAL          867376  0.715112  0.499990  203.035967                         36     420   7.316794          36             409\n",
       "3135  56440628.0  644774.388998    1733.855204      3       37    39     2  205.098493  142.331992  0.291772    11   -1                 -1        2     False      False             6.074794  NeuronType.PYRAMIDAL          867440  0.714980  0.500026  203.049589                         19     420   0.284682          19             409\n",
       "3136  56440689.0  644774.390872    1733.857078      8       12    62     2  205.098694  142.332528  0.291774    11   -1                 -1        2     False      False             0.101868  NeuronType.PYRAMIDAL          867443  0.714977  0.500027  203.049889                         27     420   0.349686          27             409\n",
       "\n",
       "[3137 rows x 27 columns]"
      ]
     },
     "execution_count": 27,
     "metadata": {},
     "output_type": "execute_result"
    }
   ],
   "source": [
    "active_plotter.global_spikes_df"
   ]
  },
  {
   "cell_type": "code",
   "execution_count": 29,
   "id": "39bf6459",
   "metadata": {},
   "outputs": [
    {
     "data": {
      "text/html": [
       "<div>\n",
       "<style scoped>\n",
       "    .dataframe tbody tr th:only-of-type {\n",
       "        vertical-align: middle;\n",
       "    }\n",
       "\n",
       "    .dataframe tbody tr th {\n",
       "        vertical-align: top;\n",
       "    }\n",
       "\n",
       "    .dataframe thead th {\n",
       "        text-align: right;\n",
       "    }\n",
       "</style>\n",
       "<table border=\"1\" class=\"dataframe\">\n",
       "  <thead>\n",
       "    <tr style=\"text-align: right;\">\n",
       "      <th></th>\n",
       "      <th>t</th>\n",
       "      <th>t_seconds</th>\n",
       "      <th>t_rel_seconds</th>\n",
       "      <th>shank</th>\n",
       "      <th>cluster</th>\n",
       "      <th>aclu</th>\n",
       "      <th>qclu</th>\n",
       "      <th>x</th>\n",
       "      <th>y</th>\n",
       "      <th>speed</th>\n",
       "      <th>traj</th>\n",
       "      <th>lap</th>\n",
       "      <th>maze_relative_lap</th>\n",
       "      <th>maze_id</th>\n",
       "      <th>is_theta</th>\n",
       "      <th>is_ripple</th>\n",
       "      <th>theta_phase_radians</th>\n",
       "      <th>neuron_type</th>\n",
       "      <th>flat_spike_idx</th>\n",
       "      <th>x_loaded</th>\n",
       "      <th>y_loaded</th>\n",
       "      <th>lin_pos</th>\n",
       "      <th>fragile_linear_neuron_IDX</th>\n",
       "      <th>PBE_id</th>\n",
       "      <th>scISI</th>\n",
       "      <th>neuron_IDX</th>\n",
       "      <th>Probe_Epoch_id</th>\n",
       "    </tr>\n",
       "  </thead>\n",
       "  <tbody>\n",
       "    <tr>\n",
       "      <th>264</th>\n",
       "      <td>6238055.0</td>\n",
       "      <td>643232.166745</td>\n",
       "      <td>191.632951</td>\n",
       "      <td>8</td>\n",
       "      <td>10</td>\n",
       "      <td>61</td>\n",
       "      <td>2</td>\n",
       "      <td>242.092099</td>\n",
       "      <td>141.631492</td>\n",
       "      <td>2.520449</td>\n",
       "      <td>13</td>\n",
       "      <td>-1</td>\n",
       "      <td>-1</td>\n",
       "      <td>1</td>\n",
       "      <td>False</td>\n",
       "      <td>False</td>\n",
       "      <td>4.828740</td>\n",
       "      <td>NeuronType.PYRAMIDAL</td>\n",
       "      <td>96455</td>\n",
       "      <td>0.842691</td>\n",
       "      <td>0.496986</td>\n",
       "      <td>240.886587</td>\n",
       "      <td>26</td>\n",
       "      <td>48</td>\n",
       "      <td>0.682260</td>\n",
       "      <td>26</td>\n",
       "      <td>47</td>\n",
       "    </tr>\n",
       "    <tr>\n",
       "      <th>265</th>\n",
       "      <td>6238435.0</td>\n",
       "      <td>643232.178419</td>\n",
       "      <td>191.644625</td>\n",
       "      <td>8</td>\n",
       "      <td>7</td>\n",
       "      <td>59</td>\n",
       "      <td>2</td>\n",
       "      <td>242.063358</td>\n",
       "      <td>141.626197</td>\n",
       "      <td>2.528076</td>\n",
       "      <td>13</td>\n",
       "      <td>-1</td>\n",
       "      <td>-1</td>\n",
       "      <td>1</td>\n",
       "      <td>False</td>\n",
       "      <td>False</td>\n",
       "      <td>5.528952</td>\n",
       "      <td>NeuronType.PYRAMIDAL</td>\n",
       "      <td>96467</td>\n",
       "      <td>0.842584</td>\n",
       "      <td>0.496965</td>\n",
       "      <td>240.859969</td>\n",
       "      <td>25</td>\n",
       "      <td>48</td>\n",
       "      <td>1.377392</td>\n",
       "      <td>25</td>\n",
       "      <td>47</td>\n",
       "    </tr>\n",
       "    <tr>\n",
       "      <th>266</th>\n",
       "      <td>6240692.0</td>\n",
       "      <td>643232.247754</td>\n",
       "      <td>191.713960</td>\n",
       "      <td>12</td>\n",
       "      <td>15</td>\n",
       "      <td>104</td>\n",
       "      <td>2</td>\n",
       "      <td>241.894075</td>\n",
       "      <td>141.595007</td>\n",
       "      <td>2.551611</td>\n",
       "      <td>13</td>\n",
       "      <td>-1</td>\n",
       "      <td>-1</td>\n",
       "      <td>1</td>\n",
       "      <td>False</td>\n",
       "      <td>True</td>\n",
       "      <td>4.519270</td>\n",
       "      <td>NeuronType.PYRAMIDAL</td>\n",
       "      <td>96535</td>\n",
       "      <td>0.841791</td>\n",
       "      <td>0.496836</td>\n",
       "      <td>240.704762</td>\n",
       "      <td>44</td>\n",
       "      <td>48</td>\n",
       "      <td>4.276867</td>\n",
       "      <td>44</td>\n",
       "      <td>47</td>\n",
       "    </tr>\n",
       "    <tr>\n",
       "      <th>267</th>\n",
       "      <td>6240752.0</td>\n",
       "      <td>643232.249597</td>\n",
       "      <td>191.715803</td>\n",
       "      <td>10</td>\n",
       "      <td>12</td>\n",
       "      <td>86</td>\n",
       "      <td>2</td>\n",
       "      <td>241.889159</td>\n",
       "      <td>141.594101</td>\n",
       "      <td>2.549803</td>\n",
       "      <td>13</td>\n",
       "      <td>-1</td>\n",
       "      <td>-1</td>\n",
       "      <td>1</td>\n",
       "      <td>False</td>\n",
       "      <td>True</td>\n",
       "      <td>4.623126</td>\n",
       "      <td>NeuronType.PYRAMIDAL</td>\n",
       "      <td>96537</td>\n",
       "      <td>0.841771</td>\n",
       "      <td>0.496841</td>\n",
       "      <td>240.700260</td>\n",
       "      <td>37</td>\n",
       "      <td>48</td>\n",
       "      <td>2.966137</td>\n",
       "      <td>37</td>\n",
       "      <td>47</td>\n",
       "    </tr>\n",
       "    <tr>\n",
       "      <th>268</th>\n",
       "      <td>6241200.0</td>\n",
       "      <td>643232.263360</td>\n",
       "      <td>191.729566</td>\n",
       "      <td>9</td>\n",
       "      <td>7</td>\n",
       "      <td>72</td>\n",
       "      <td>2</td>\n",
       "      <td>241.852452</td>\n",
       "      <td>141.587338</td>\n",
       "      <td>2.536309</td>\n",
       "      <td>13</td>\n",
       "      <td>-1</td>\n",
       "      <td>-1</td>\n",
       "      <td>1</td>\n",
       "      <td>False</td>\n",
       "      <td>True</td>\n",
       "      <td>5.456748</td>\n",
       "      <td>NeuronType.PYRAMIDAL</td>\n",
       "      <td>96552</td>\n",
       "      <td>0.841625</td>\n",
       "      <td>0.496875</td>\n",
       "      <td>240.666638</td>\n",
       "      <td>31</td>\n",
       "      <td>48</td>\n",
       "      <td>1.478399</td>\n",
       "      <td>31</td>\n",
       "      <td>47</td>\n",
       "    </tr>\n",
       "    <tr>\n",
       "      <th>269</th>\n",
       "      <td>6241488.0</td>\n",
       "      <td>643232.272207</td>\n",
       "      <td>191.738413</td>\n",
       "      <td>1</td>\n",
       "      <td>13</td>\n",
       "      <td>8</td>\n",
       "      <td>2</td>\n",
       "      <td>241.828855</td>\n",
       "      <td>141.582990</td>\n",
       "      <td>2.527634</td>\n",
       "      <td>13</td>\n",
       "      <td>-1</td>\n",
       "      <td>-1</td>\n",
       "      <td>1</td>\n",
       "      <td>False</td>\n",
       "      <td>True</td>\n",
       "      <td>5.964093</td>\n",
       "      <td>NeuronType.PYRAMIDAL</td>\n",
       "      <td>96560</td>\n",
       "      <td>0.841530</td>\n",
       "      <td>0.496900</td>\n",
       "      <td>240.645025</td>\n",
       "      <td>4</td>\n",
       "      <td>48</td>\n",
       "      <td>10.035451</td>\n",
       "      <td>4</td>\n",
       "      <td>47</td>\n",
       "    </tr>\n",
       "    <tr>\n",
       "      <th>...</th>\n",
       "      <td>...</td>\n",
       "      <td>...</td>\n",
       "      <td>...</td>\n",
       "      <td>...</td>\n",
       "      <td>...</td>\n",
       "      <td>...</td>\n",
       "      <td>...</td>\n",
       "      <td>...</td>\n",
       "      <td>...</td>\n",
       "      <td>...</td>\n",
       "      <td>...</td>\n",
       "      <td>...</td>\n",
       "      <td>...</td>\n",
       "      <td>...</td>\n",
       "      <td>...</td>\n",
       "      <td>...</td>\n",
       "      <td>...</td>\n",
       "      <td>...</td>\n",
       "      <td>...</td>\n",
       "      <td>...</td>\n",
       "      <td>...</td>\n",
       "      <td>...</td>\n",
       "      <td>...</td>\n",
       "      <td>...</td>\n",
       "      <td>...</td>\n",
       "      <td>...</td>\n",
       "      <td>...</td>\n",
       "    </tr>\n",
       "    <tr>\n",
       "      <th>278</th>\n",
       "      <td>6243800.0</td>\n",
       "      <td>643232.343232</td>\n",
       "      <td>191.809438</td>\n",
       "      <td>3</td>\n",
       "      <td>37</td>\n",
       "      <td>39</td>\n",
       "      <td>2</td>\n",
       "      <td>241.652413</td>\n",
       "      <td>141.550481</td>\n",
       "      <td>2.548276</td>\n",
       "      <td>13</td>\n",
       "      <td>-1</td>\n",
       "      <td>-1</td>\n",
       "      <td>1</td>\n",
       "      <td>False</td>\n",
       "      <td>True</td>\n",
       "      <td>3.451643</td>\n",
       "      <td>NeuronType.PYRAMIDAL</td>\n",
       "      <td>96628</td>\n",
       "      <td>0.840569</td>\n",
       "      <td>0.497749</td>\n",
       "      <td>240.612804</td>\n",
       "      <td>19</td>\n",
       "      <td>48</td>\n",
       "      <td>0.321024</td>\n",
       "      <td>19</td>\n",
       "      <td>47</td>\n",
       "    </tr>\n",
       "    <tr>\n",
       "      <th>279</th>\n",
       "      <td>6243997.0</td>\n",
       "      <td>643232.349284</td>\n",
       "      <td>191.815490</td>\n",
       "      <td>2</td>\n",
       "      <td>21</td>\n",
       "      <td>24</td>\n",
       "      <td>2</td>\n",
       "      <td>241.637235</td>\n",
       "      <td>141.547684</td>\n",
       "      <td>2.551343</td>\n",
       "      <td>13</td>\n",
       "      <td>-1</td>\n",
       "      <td>-1</td>\n",
       "      <td>1</td>\n",
       "      <td>False</td>\n",
       "      <td>True</td>\n",
       "      <td>3.721463</td>\n",
       "      <td>NeuronType.PYRAMIDAL</td>\n",
       "      <td>96634</td>\n",
       "      <td>0.840453</td>\n",
       "      <td>0.497814</td>\n",
       "      <td>240.607325</td>\n",
       "      <td>11</td>\n",
       "      <td>48</td>\n",
       "      <td>4.374219</td>\n",
       "      <td>11</td>\n",
       "      <td>47</td>\n",
       "    </tr>\n",
       "    <tr>\n",
       "      <th>280</th>\n",
       "      <td>6244118.0</td>\n",
       "      <td>643232.353001</td>\n",
       "      <td>191.819207</td>\n",
       "      <td>9</td>\n",
       "      <td>19</td>\n",
       "      <td>79</td>\n",
       "      <td>2</td>\n",
       "      <td>241.627855</td>\n",
       "      <td>141.545956</td>\n",
       "      <td>2.552875</td>\n",
       "      <td>13</td>\n",
       "      <td>-1</td>\n",
       "      <td>-1</td>\n",
       "      <td>1</td>\n",
       "      <td>False</td>\n",
       "      <td>True</td>\n",
       "      <td>3.827078</td>\n",
       "      <td>NeuronType.PYRAMIDAL</td>\n",
       "      <td>96638</td>\n",
       "      <td>0.840377</td>\n",
       "      <td>0.497846</td>\n",
       "      <td>240.603535</td>\n",
       "      <td>32</td>\n",
       "      <td>48</td>\n",
       "      <td>4.334682</td>\n",
       "      <td>32</td>\n",
       "      <td>47</td>\n",
       "    </tr>\n",
       "    <tr>\n",
       "      <th>281</th>\n",
       "      <td>6244356.0</td>\n",
       "      <td>643232.360312</td>\n",
       "      <td>191.826518</td>\n",
       "      <td>7</td>\n",
       "      <td>8</td>\n",
       "      <td>48</td>\n",
       "      <td>2</td>\n",
       "      <td>241.609405</td>\n",
       "      <td>141.542556</td>\n",
       "      <td>2.555890</td>\n",
       "      <td>13</td>\n",
       "      <td>-1</td>\n",
       "      <td>-1</td>\n",
       "      <td>1</td>\n",
       "      <td>False</td>\n",
       "      <td>True</td>\n",
       "      <td>3.785179</td>\n",
       "      <td>NeuronType.PYRAMIDAL</td>\n",
       "      <td>96648</td>\n",
       "      <td>0.840227</td>\n",
       "      <td>0.497910</td>\n",
       "      <td>240.596078</td>\n",
       "      <td>22</td>\n",
       "      <td>48</td>\n",
       "      <td>1.136086</td>\n",
       "      <td>22</td>\n",
       "      <td>47</td>\n",
       "    </tr>\n",
       "    <tr>\n",
       "      <th>282</th>\n",
       "      <td>6244529.0</td>\n",
       "      <td>643232.365627</td>\n",
       "      <td>191.831833</td>\n",
       "      <td>10</td>\n",
       "      <td>20</td>\n",
       "      <td>92</td>\n",
       "      <td>2</td>\n",
       "      <td>241.595994</td>\n",
       "      <td>141.540085</td>\n",
       "      <td>2.558082</td>\n",
       "      <td>13</td>\n",
       "      <td>-1</td>\n",
       "      <td>-1</td>\n",
       "      <td>1</td>\n",
       "      <td>False</td>\n",
       "      <td>True</td>\n",
       "      <td>3.140167</td>\n",
       "      <td>NeuronType.PYRAMIDAL</td>\n",
       "      <td>96657</td>\n",
       "      <td>0.840118</td>\n",
       "      <td>0.497956</td>\n",
       "      <td>240.590659</td>\n",
       "      <td>41</td>\n",
       "      <td>48</td>\n",
       "      <td>5.274898</td>\n",
       "      <td>41</td>\n",
       "      <td>47</td>\n",
       "    </tr>\n",
       "    <tr>\n",
       "      <th>283</th>\n",
       "      <td>6245638.0</td>\n",
       "      <td>643232.399695</td>\n",
       "      <td>191.865901</td>\n",
       "      <td>7</td>\n",
       "      <td>2</td>\n",
       "      <td>44</td>\n",
       "      <td>2</td>\n",
       "      <td>241.511172</td>\n",
       "      <td>141.524457</td>\n",
       "      <td>2.562738</td>\n",
       "      <td>13</td>\n",
       "      <td>-1</td>\n",
       "      <td>-1</td>\n",
       "      <td>1</td>\n",
       "      <td>False</td>\n",
       "      <td>False</td>\n",
       "      <td>3.755952</td>\n",
       "      <td>NeuronType.PYRAMIDAL</td>\n",
       "      <td>96679</td>\n",
       "      <td>0.839555</td>\n",
       "      <td>0.498040</td>\n",
       "      <td>240.310352</td>\n",
       "      <td>21</td>\n",
       "      <td>48</td>\n",
       "      <td>4.363252</td>\n",
       "      <td>21</td>\n",
       "      <td>47</td>\n",
       "    </tr>\n",
       "  </tbody>\n",
       "</table>\n",
       "<p>20 rows × 27 columns</p>\n",
       "</div>"
      ],
      "text/plain": [
       "             t      t_seconds  t_rel_seconds  shank  cluster  aclu  qclu           x           y     speed  traj  lap  maze_relative_lap  maze_id  is_theta  is_ripple  theta_phase_radians           neuron_type  flat_spike_idx  x_loaded  y_loaded     lin_pos  fragile_linear_neuron_IDX  PBE_id      scISI  neuron_IDX  Probe_Epoch_id\n",
       "264  6238055.0  643232.166745     191.632951      8       10    61     2  242.092099  141.631492  2.520449    13   -1                 -1        1     False      False             4.828740  NeuronType.PYRAMIDAL           96455  0.842691  0.496986  240.886587                         26      48   0.682260          26              47\n",
       "265  6238435.0  643232.178419     191.644625      8        7    59     2  242.063358  141.626197  2.528076    13   -1                 -1        1     False      False             5.528952  NeuronType.PYRAMIDAL           96467  0.842584  0.496965  240.859969                         25      48   1.377392          25              47\n",
       "266  6240692.0  643232.247754     191.713960     12       15   104     2  241.894075  141.595007  2.551611    13   -1                 -1        1     False       True             4.519270  NeuronType.PYRAMIDAL           96535  0.841791  0.496836  240.704762                         44      48   4.276867          44              47\n",
       "267  6240752.0  643232.249597     191.715803     10       12    86     2  241.889159  141.594101  2.549803    13   -1                 -1        1     False       True             4.623126  NeuronType.PYRAMIDAL           96537  0.841771  0.496841  240.700260                         37      48   2.966137          37              47\n",
       "268  6241200.0  643232.263360     191.729566      9        7    72     2  241.852452  141.587338  2.536309    13   -1                 -1        1     False       True             5.456748  NeuronType.PYRAMIDAL           96552  0.841625  0.496875  240.666638                         31      48   1.478399          31              47\n",
       "269  6241488.0  643232.272207     191.738413      1       13     8     2  241.828855  141.582990  2.527634    13   -1                 -1        1     False       True             5.964093  NeuronType.PYRAMIDAL           96560  0.841530  0.496900  240.645025                          4      48  10.035451           4              47\n",
       "..         ...            ...            ...    ...      ...   ...   ...         ...         ...       ...   ...  ...                ...      ...       ...        ...                  ...                   ...             ...       ...       ...         ...                        ...     ...        ...         ...             ...\n",
       "278  6243800.0  643232.343232     191.809438      3       37    39     2  241.652413  141.550481  2.548276    13   -1                 -1        1     False       True             3.451643  NeuronType.PYRAMIDAL           96628  0.840569  0.497749  240.612804                         19      48   0.321024          19              47\n",
       "279  6243997.0  643232.349284     191.815490      2       21    24     2  241.637235  141.547684  2.551343    13   -1                 -1        1     False       True             3.721463  NeuronType.PYRAMIDAL           96634  0.840453  0.497814  240.607325                         11      48   4.374219          11              47\n",
       "280  6244118.0  643232.353001     191.819207      9       19    79     2  241.627855  141.545956  2.552875    13   -1                 -1        1     False       True             3.827078  NeuronType.PYRAMIDAL           96638  0.840377  0.497846  240.603535                         32      48   4.334682          32              47\n",
       "281  6244356.0  643232.360312     191.826518      7        8    48     2  241.609405  141.542556  2.555890    13   -1                 -1        1     False       True             3.785179  NeuronType.PYRAMIDAL           96648  0.840227  0.497910  240.596078                         22      48   1.136086          22              47\n",
       "282  6244529.0  643232.365627     191.831833     10       20    92     2  241.595994  141.540085  2.558082    13   -1                 -1        1     False       True             3.140167  NeuronType.PYRAMIDAL           96657  0.840118  0.497956  240.590659                         41      48   5.274898          41              47\n",
       "283  6245638.0  643232.399695     191.865901      7        2    44     2  241.511172  141.524457  2.562738    13   -1                 -1        1     False      False             3.755952  NeuronType.PYRAMIDAL           96679  0.839555  0.498040  240.310352                         21      48   4.363252          21              47\n",
       "\n",
       "[20 rows x 27 columns]"
      ]
     },
     "execution_count": 29,
     "metadata": {},
     "output_type": "execute_result"
    }
   ],
   "source": [
    "curr_epoch_spikes_df = deepcopy(active_plotter.get_active_epoch_spikes_df())\n",
    "curr_epoch_spikes_df"
   ]
  },
  {
   "cell_type": "code",
   "execution_count": null,
   "id": "7221720e",
   "metadata": {},
   "outputs": [],
   "source": [
    "curr_epoch_spikes_df['t_rel_seconds'].corr( , method='spearman')\n",
    "                          \n"
   ]
  },
  {
   "cell_type": "code",
   "execution_count": 34,
   "id": "e304565c",
   "metadata": {},
   "outputs": [
    {
     "data": {
      "text/plain": [
       "array([22, 36, 38, 33, 23, 24,  8, 40,  2, 32,  7, 51, 37, 17, 26,  1,  3, 20, 42, 41, 13, 10, 21, 12,  5, 45, 25, 16, 34, 47, 43, 30, 48, 18, 39, 50, 14, 31, 15, 28, 46,  6, 44, 35,  4,  9, 11, 27, 19, 49, 29])"
      ]
     },
     "execution_count": 34,
     "metadata": {},
     "output_type": "execute_result"
    }
   ],
   "source": [
    "short_LR_rank_list = track_templates.decoder_LR_pf_peak_ranks_list[0]\n",
    "short_LR_rank_list"
   ]
  },
  {
   "cell_type": "code",
   "execution_count": 38,
   "id": "2ab9f829",
   "metadata": {},
   "outputs": [],
   "source": [
    "## Get the ranks for the active aclus in the epoch:\n",
    "short_LR_peak_x_map = deepcopy(active_plotter.track_templates.get_decoder_aclu_peak_maps().short_LR)\n"
   ]
  },
  {
   "cell_type": "code",
   "execution_count": 43,
   "id": "04ff314e",
   "metadata": {},
   "outputs": [
    {
     "data": {
      "text/plain": [
       "122.20808903087519"
      ]
     },
     "execution_count": 43,
     "metadata": {},
     "output_type": "execute_result"
    }
   ],
   "source": [
    "curr_epoch_spikes_df.aclu.map(short_LR_peak_x_map) # 2023-12-20 - The core issue seems to involve missing values. For example, when an aclu is missing from this template, a NaN is returned.\n",
    "\n",
    "## ERROR HERE: \n",
    "# 280: aclu=79, result=122.208089\n",
    "# 281: aclu=48, result=122.208089\n",
    "# WHY WOULD THEY BE THE SAME?\n",
    "short_LR_peak_x_map[79]"
   ]
  },
  {
   "cell_type": "code",
   "execution_count": 45,
   "id": "12ed94f1",
   "metadata": {},
   "outputs": [
    {
     "data": {
      "text/plain": [
       "122.20808903087519"
      ]
     },
     "execution_count": 45,
     "metadata": {},
     "output_type": "execute_result"
    }
   ],
   "source": [
    "short_LR_peak_x_map[48]"
   ]
  },
  {
   "cell_type": "code",
   "execution_count": null,
   "id": "c8a2b11f",
   "metadata": {},
   "outputs": [],
   "source": [
    "\n"
   ]
  },
  {
   "cell_type": "code",
   "execution_count": null,
   "id": "6303391c",
   "metadata": {},
   "outputs": [],
   "source": [
    "# corrwith\n",
    "scipy.stats.spearmanr(active_epoch_aclu_short_ranks, actually_included_epoch_ranks) # Both arrays need to have the same length in the axis dimension."
   ]
  },
  {
   "cell_type": "code",
   "execution_count": null,
   "id": "8710deb2",
   "metadata": {},
   "outputs": [],
   "source": []
  },
  {
   "cell_type": "code",
   "execution_count": null,
   "id": "f48ac600",
   "metadata": {},
   "outputs": [],
   "source": []
  },
  {
   "cell_type": "code",
   "execution_count": null,
   "id": "98109834",
   "metadata": {},
   "outputs": [],
   "source": [
    "active_epochs_df = deepcopy(ripple_result_tuple.active_epochs)\n",
    "active_epochs_df"
   ]
  },
  {
   "cell_type": "code",
   "execution_count": null,
   "id": "c43543ad",
   "metadata": {},
   "outputs": [],
   "source": [
    "active_epochs_df = deepcopy(rank_order_results.LR_ripple.epochs_df)\n",
    "active_epochs_df"
   ]
  },
  {
   "cell_type": "code",
   "execution_count": null,
   "id": "b1963fa0",
   "metadata": {},
   "outputs": [],
   "source": []
  },
  {
   "cell_type": "code",
   "execution_count": null,
   "id": "51d8efe7",
   "metadata": {},
   "outputs": [],
   "source": [
    "print(list(rank_order_raster_debugger.global_spikes_df.columns)) # ['start', 'stop', 'label', 'duration', 'end', 'LR_Long_spearman', 'RL_Long_spearman', 'LR_Short_spearman', 'RL_Short_spearman', 'LR_Long_pearson', 'RL_Long_pearson', 'LR_Short_pearson', 'RL_Short_pearson', 'LR_Long_Old_Spearman', 'RL_Long_Old_Spearman', 'LR_Short_Old_Spearman', 'RL_Short_Old_Spearman', 'LR_Long_ActuallyIncludedAclus', 'LR_Long_rel_num_cells', 'RL_Long_ActuallyIncludedAclus', 'RL_Long_rel_num_cells', 'LR_Long_Z', 'RL_Long_Z', 'LR_Short_Z', 'RL_Short_Z']\n",
    "\n"
   ]
  },
  {
   "cell_type": "code",
   "execution_count": null,
   "id": "537629d3",
   "metadata": {},
   "outputs": [],
   "source": [
    "print(list(active_selected_spikes_df.columns)) # ['start', 'stop', 'label', 'duration', 'end', 'LR_Long_spearman', 'RL_Long_spearman', 'LR_Short_spearman', 'RL_Short_spearman', 'LR_Long_pearson', 'RL_Long_pearson', 'LR_Short_pearson', 'RL_Short_pearson', 'LR_Long_Old_Spearman', 'RL_Long_Old_Spearman', 'LR_Short_Old_Spearman', 'RL_Short_Old_Spearman', 'LR_Long_ActuallyIncludedAclus', 'LR_Long_rel_num_cells', 'RL_Long_ActuallyIncludedAclus', 'RL_Long_rel_num_cells', 'LR_Long_Z', 'RL_Long_Z', 'LR_Short_Z', 'RL_Short_Z']\n",
    "\n"
   ]
  },
  {
   "cell_type": "code",
   "execution_count": null,
   "id": "24b5b2f0",
   "metadata": {},
   "outputs": [],
   "source": [
    "print(list(active_epochs_df.columns)) # ['start', 'stop', 'label', 'duration', 'end', 'LR_Long_spearman', 'RL_Long_spearman', 'LR_Short_spearman', 'RL_Short_spearman', 'LR_Long_pearson', 'RL_Long_pearson', 'LR_Short_pearson', 'RL_Short_pearson', 'LR_Long_Old_Spearman', 'RL_Long_Old_Spearman', 'LR_Short_Old_Spearman', 'RL_Short_Old_Spearman', 'LR_Long_ActuallyIncludedAclus', 'LR_Long_rel_num_cells', 'RL_Long_ActuallyIncludedAclus', 'RL_Long_rel_num_cells', 'LR_Long_Z', 'RL_Long_Z', 'LR_Short_Z', 'RL_Short_Z']\n",
    "\n",
    "\n",
    "a_row, a_label = get_epoch_label_row(188)\n",
    "a_row\n",
    "\n"
   ]
  },
  {
   "cell_type": "code",
   "execution_count": null,
   "id": "2e08152a",
   "metadata": {},
   "outputs": [],
   "source": [
    "a_row = list(a_row.itertuples())[0]"
   ]
  },
  {
   "cell_type": "code",
   "execution_count": null,
   "id": "2cd51cc0",
   "metadata": {},
   "outputs": [],
   "source": [
    "list(rank_order_raster_debugger.plots_data.keys())\n"
   ]
  },
  {
   "cell_type": "code",
   "execution_count": null,
   "id": "04c4165f",
   "metadata": {},
   "outputs": [],
   "source": [
    "debug_update_plot_titles(rank_order_raster_debugger, an_idx=20)"
   ]
  },
  {
   "cell_type": "code",
   "execution_count": null,
   "id": "aa84ac7f",
   "metadata": {},
   "outputs": [],
   "source": [
    "a_debug_callback_fn(rank_order_raster_debugger, an_idx=20)"
   ]
  },
  {
   "cell_type": "code",
   "execution_count": null,
   "id": "7953c047",
   "metadata": {},
   "outputs": [],
   "source": [
    "list(rank_order_raster_debugger.plots.root_plots.keys())\n"
   ]
  },
  {
   "cell_type": "code",
   "execution_count": null,
   "id": "f84a6dce",
   "metadata": {},
   "outputs": [],
   "source": [
    "directional_likelihoods_tuple: DirectionalRankOrderLikelihoods = ripple_result_tuple.directional_likelihoods_tuple\n",
    "directional_likelihoods_tuple.long_best_direction_indices\n",
    "ripple_result_tuple.rank_order_z_score_df"
   ]
  },
  {
   "cell_type": "code",
   "execution_count": null,
   "id": "9782963d",
   "metadata": {},
   "outputs": [],
   "source": [
    "ripple_result_tuple.rank_order_z_score_df.label"
   ]
  },
  {
   "cell_type": "markdown",
   "id": "1e4b438c",
   "metadata": {
    "notebookRunGroups": {
     "groupValue": "21"
    }
   },
   "source": [
    "### Independent DirectionalTemplatePFsDebugger for testing"
   ]
  },
  {
   "cell_type": "code",
   "execution_count": 53,
   "id": "a5f7ac4e",
   "metadata": {
    "notebookRunGroups": {
     "groupValue": "3"
    },
    "tags": [
     "figure"
    ]
   },
   "outputs": [
    {
     "name": "stderr",
     "output_type": "stream",
     "text": [
      "[autoreload of pyphoplacecellanalysis.GUI.PyQtPlot.Widgets.ContainerBased.TemplateDebugger failed: Traceback (most recent call last):\n",
      "  File \"k:\\FastSwap\\Environments\\pypoetry\\pypoetry\\Cache\\virtualenvs\\spike3d-UP7QTzFM-py3.9\\lib\\site-packages\\IPython\\extensions\\autoreload.py\", line 274, in check\n",
      "    superreload(m, reload, self.old_objects, self.shell)\n",
      "  File \"k:\\FastSwap\\Environments\\pypoetry\\pypoetry\\Cache\\virtualenvs\\spike3d-UP7QTzFM-py3.9\\lib\\site-packages\\IPython\\extensions\\autoreload.py\", line 500, in superreload\n",
      "    update_generic(old_obj, new_obj)\n",
      "  File \"k:\\FastSwap\\Environments\\pypoetry\\pypoetry\\Cache\\virtualenvs\\spike3d-UP7QTzFM-py3.9\\lib\\site-packages\\IPython\\extensions\\autoreload.py\", line 397, in update_generic\n",
      "    update(a, b)\n",
      "  File \"k:\\FastSwap\\Environments\\pypoetry\\pypoetry\\Cache\\virtualenvs\\spike3d-UP7QTzFM-py3.9\\lib\\site-packages\\IPython\\extensions\\autoreload.py\", line 365, in update_class\n",
      "    update_instances(old, new)\n",
      "  File \"k:\\FastSwap\\Environments\\pypoetry\\pypoetry\\Cache\\virtualenvs\\spike3d-UP7QTzFM-py3.9\\lib\\site-packages\\IPython\\extensions\\autoreload.py\", line 323, in update_instances\n",
      "    object.__setattr__(ref, \"__class__\", new)\n",
      "TypeError: can't apply this __setattr__ to DisplayFunctionRegistryHolder object\n",
      "]\n",
      "INFO:com.PhoHale.Spike3D.pipeline:NeuropyPipeline.on_stage_changed(new_stage=\"PipelineStage.Displayed\")\n"
     ]
    },
    {
     "name": "stdout",
     "output_type": "stream",
     "text": [
      "session_description: kdiba_gor01_one_2006-6-09_1-22-43\n",
      "WARN: 2023-12-11 - enable_pf_peak_indicator_lines is not yet implemented and the lines are not correctly aligned.\n",
      "PhoDockAreaContainingWindow.GlobalConnectionManagerAccessingMixin_on_setup()\n",
      "PhoDockAreaContainingWindow.try_register_any_control_widgets()\n",
      "\tflat_widgets_list contains 0 items\n",
      "using overriden dock location.\n"
     ]
    }
   ],
   "source": [
    "from pyphoplacecellanalysis.GUI.PyQtPlot.Widgets.ContainerBased.TemplateDebugger import TemplateDebugger\n",
    "\n",
    "# _display_directional_laps_overview:\n",
    "curr_active_pipeline.prepare_for_display()\n",
    "curr_active_pipeline.reload_default_display_functions()\n",
    "session_description: str = curr_active_pipeline.get_session_context().get_description()\n",
    "print(f'session_description: {session_description}')\n",
    "pg.setConfigOptions(imageAxisOrder='row-major')\n",
    "# _out = curr_active_pipeline.display(DirectionalPlacefieldGlobalDisplayFunctions._display_directional_laps_overview)\n",
    "_out_all_cells_directional_template_pfs_debugger = curr_active_pipeline.display(DirectionalPlacefieldGlobalDisplayFunctions._display_directional_template_debugger, included_any_context_neuron_ids=None, figure_name='All Cells (Independent)')\n",
    "all_cells_directional_template_pfs_debugger: TemplateDebugger = _out_all_cells_directional_template_pfs_debugger['obj']"
   ]
  },
  {
   "cell_type": "code",
   "execution_count": null,
   "id": "3068edde",
   "metadata": {},
   "outputs": [],
   "source": [
    "plots = _out_all_cells_directional_template_pfs_debugger['plots']\n",
    "a_plot_widget, an_image_item = plots['pf1D_heatmaps']['long_LR'] # (pyqtgraph.widgets.PlotWidget.PlotWidget, pyqtgraph.graphicsItems.ImageItem.ImageItem)\n",
    "a_view_box = an_image_item.getViewBox()\n",
    "a_plot_widget\n"
   ]
  },
  {
   "cell_type": "code",
   "execution_count": 51,
   "id": "8b547db3",
   "metadata": {},
   "outputs": [
    {
     "data": {
      "text/plain": [
       "[array([9.31427, 21.817, 18.708, 11.561, 14.1151, 10.0726, 16.6196, 9.01655, 7.45477, 5.75679, 4.85872, 5.76916, 7.94376, 24.9744, 12.1798, 15.8822, 18.0797, 18.7215, 18.4351, 19.5929, 20.4058, 21.6332, 23.8594, 26.0069, 26.3567, 22.3504, 24.9917, 24.6407, 30.5369, 33.1472, 33.5163, 32.3855, 32.783, 36.219, 34.7201, 37.7695, 28.6427, 30.9646, 32.0758, 37.7068, 46.3524, 39.1924, 46.3567, 42.9213, 46.0885, 47.9163, 51.8735, 39.7348, 40.9617, 47.7288, 50.7682]),\n",
       " array([6.53038, 11.9473, 3.83609, 11.9134, 20.1915, 17.2963, 6.79891, 8.47176, 7.70657, 13.6991, 11.7591, 21.0338, 18.5646, 17.0268, 23.6599, 28.6749, 22.6886, 24.0178, 26.6566, 29.2688, 30.1285, 26.5089, 28.5347, 30.2055, 33.3237, 32.3055, 32.594, 30.0889, 33.0648, 34.1043, 32.6016, 26.0982, 30.3565, 30.4955, 34.7694, 31.0183, 38.5724, 40.9223, 48.2432, 47.5621, 50.0379, 47.3669, 51.6823, 52.3119, 48.4216, 50.0238, 39.1445, 50.5264, 35.8459, 33.8935, 43.7168, 39.2466, 42.0123, 36.7137, 52.3817, 48.268]),\n",
       " array([15.5624, 16.1674, 11.5838, 17.3763, 13.4199, 23.1432, 16.4736, 13.9879, 15.564, 14.5389, 13.9364, 14.2257, 19.9482, 20.0574, 23.3494, 21.1095, 22.3064, 25.9151, 22.3122, 18.5046, 21.1874, 23.3218, 25.1414, 24.927, 23.5884, 27.1974, 29.2261, 29.5542, 28.4036, 26.9877, 31.1853, 31.0219, 31.0452, 31.4411, 34.2397, 27.5119, 33.9024, 36.6803, 34.1755, 31.458, 36.0341, 35.4939, 38.2997, 39.4144, 41.1412, 35.2157, 41.4629, 44.6813, 40.5967, 40.4904, 44.2551]),\n",
       " array([10.8111, 15.6177, 18.9558, 20.2031, 20.067, 15.2721, 20.4986, 14.4979, 14.3905, 19.1955, 19.7202, 24.8437, 21.9106, 24.3075, 25.439, 22.3162, 26.0944, 25.5996, 27.1438, 31.0396, 28.8452, 27.6505, 30.7884, 28.2131, 27.2347, 29.2591, 28.2572, 30.2453, 27.2931, 29.4827, 32.0341, 30.9568, 35.062, 31.7604, 34.3241, 36.2198, 32.9547, 34.3656, 28.1059, 36.6566, 40.8256, 33.6474, 42.3699, 38.8554, 35.2929, 41.3162, 43.8027, 37.8679, 39.2618, 43.3825, 44.7931, 43.3177, 34.8695, 43.8827, 44.3957, 41.6045])]"
      ]
     },
     "execution_count": 51,
     "metadata": {},
     "output_type": "execute_result"
    }
   ],
   "source": [
    "all_cells_directional_template_pfs_debugger.plots_data.sorted_pf_peak_location_list\n"
   ]
  },
  {
   "cell_type": "code",
   "execution_count": null,
   "id": "780c30ec",
   "metadata": {},
   "outputs": [],
   "source": [
    "from PendingNotebookCode import PyQtGraphCrosshairs\n",
    "\n",
    "\n",
    "\n"
   ]
  },
  {
   "cell_type": "code",
   "execution_count": null,
   "id": "4720cdac",
   "metadata": {},
   "outputs": [],
   "source": [
    ".data.sorted_pf_peak_location_list"
   ]
  },
  {
   "cell_type": "code",
   "execution_count": null,
   "id": "463fdeb9",
   "metadata": {},
   "outputs": [],
   "source": [
    "## Just compute line point locations... EZ.\n"
   ]
  },
  {
   "cell_type": "code",
   "execution_count": null,
   "id": "84e21235",
   "metadata": {},
   "outputs": [],
   "source": []
  },
  {
   "cell_type": "code",
   "execution_count": null,
   "id": "fe0d6049",
   "metadata": {},
   "outputs": [],
   "source": [
    "rois = []\n",
    "rois.append(pg.RectROI([20, 20], [20, 20], pen=(0,9)))\n"
   ]
  },
  {
   "cell_type": "code",
   "execution_count": null,
   "id": "abc6b65a",
   "metadata": {},
   "outputs": [],
   "source": [
    "\n",
    "# Function to handle hover event\n",
    "def hoverEvent(pos):\n",
    "    print(f'hoverEvent')\n",
    "    index = int(pos.x())\n",
    "    region.setRegion([index, index + 1])  # Highlight the entire row\n",
    "\n",
    "# Add LinearRegionItem for highlighting\n",
    "region = pg.LinearRegionItem(brush='#FFFFFF', hoverBrush='#FFFFFF', movable=False, clipItem=an_image_item)\n",
    "region.setZValue(10)\n",
    "\n",
    "a_plot_widget.addItem(region, ignoreBounds=True)\n",
    "\n",
    "# Connect hover event\n",
    "a_plot_widget.scene().sigMouseMoved.connect(hoverEvent)\n",
    "\n",
    "region.setRegion([0.0, 10.0 + 1])"
   ]
  },
  {
   "cell_type": "code",
   "execution_count": null,
   "id": "e8c5f49d",
   "metadata": {},
   "outputs": [],
   "source": []
  },
  {
   "cell_type": "code",
   "execution_count": null,
   "id": "f40abb53",
   "metadata": {},
   "outputs": [],
   "source": []
  },
  {
   "cell_type": "code",
   "execution_count": null,
   "id": "01b8607b",
   "metadata": {},
   "outputs": [],
   "source": [
    "# Set spike emphasis on debug rasters?\n",
    "\n",
    "# Get debug rasters to match the colors in template viewer?\n",
    "\n",
    "from numpy import ma\n",
    "\n",
    "def _perform_compute_directional_likelihoods_tuple_methods(active_epochs, active_LR_long_z_score=None, active_RL_long_z_score=None, active_LR_short_z_score=None, active_RL_short_z_score=None) -> DirectionalRankOrderLikelihoods:\n",
    "\t\"\"\" Used to switch between three different temporary methods of determining the proper direction.\n",
    "\tcaptures curr_active_pipeline, global_epoch_name \"\"\"\n",
    "\t# ALT_METHOD : main `_compute_best_direction_likelihoods`\n",
    "\t# #TODO 2023-12-12 11:56: - [ ] Should these be saved to the ripple result?\n",
    "\t# spikes_df = deepcopy(curr_active_pipeline.filtered_sessions[global_epoch_name].spikes_df)\n",
    "\t# # Unpacking for `(long_LR_name, long_RL_name, short_LR_name, short_RL_name)`\n",
    "\t# (long_LR_results, long_RL_results, short_LR_results, short_RL_results) = [curr_active_pipeline.computation_results[an_epoch_name]['computed_data'] for an_epoch_name in (long_LR_name, long_RL_name, short_LR_name, short_RL_name)]\n",
    "\t# return cls._compute_best_direction_likelihoods(active_epochs, long_LR_results, long_RL_results, short_LR_results, short_RL_results, spikes_df, decoding_time_bin_size)\n",
    "\n",
    "\t## ALT 2023-12-12 - APPROXIMATE best-direction without using the decoder as a workaround since `cls._compute_best_direction_likelihoods` isn't working yet:\n",
    "\tprint(f'WARNING: approximating best-direction without using the decoder as a workaround.')\n",
    "\n",
    "\t# ALT_METHOD: mean_determined_epoch_dir: `mean_determined_epoch_dir`\n",
    "\t# mean_LR_z_scores = ((np.abs(rank_order_results.LR_ripple.long_z_score) + np.abs(rank_order_results.LR_ripple.short_z_score)) / 2.0)\n",
    "\t# mean_RL_z_scores = ((np.abs(rank_order_results.RL_ripple.long_z_score) + np.abs(rank_order_results.RL_ripple.short_z_score)) / 2.0)\n",
    "\t# mean_determined_epoch_dir = (mean_LR_z_scores >= mean_RL_z_scores).astype(int)\n",
    "\t# long_best_direction_indicies = mean_determined_epoch_dir.copy()\n",
    "\t# short_best_direction_indicies = mean_determined_epoch_dir.copy()\n",
    "\n",
    "\t# ALT_METHOD: best max method:\n",
    "\t# filtered_active_epochs, (active_LR_long_z_score, active_RL_long_z_score, active_LR_short_z_score, active_RL_short_z_score) = rank_order_results.get_aligned_events(active_epochs)\n",
    "\tlong_best_direction_indicies = np.argmax(np.vstack([np.abs(active_LR_long_z_score), np.abs(active_RL_long_z_score)]), axis=0).astype(int)\n",
    "\tshort_best_direction_indicies = np.argmax(np.vstack([np.abs(active_LR_short_z_score), np.abs(active_RL_short_z_score)]), axis=0).astype(int)\n",
    "\n",
    "\t## build the new directional_likelihods_tuple:\n",
    "\t#TODO 2023-12-12 13:50: - [ ] Add `filtered_active_epochs` to the DirectionalRankOrderLikelihoods?\n",
    "\treturn DirectionalRankOrderLikelihoods(long_relative_direction_likelihoods=None, short_relative_direction_likelihoods=None, long_best_direction_indices=long_best_direction_indicies, short_best_direction_indices=short_best_direction_indicies)\n",
    "\n",
    "\n",
    "## Post-process Z-scores with their most likely directions:\n",
    "directional_laps_results: DirectionalLapsResult = curr_active_pipeline.global_computation_results.computed_data['DirectionalLaps']\n",
    "rank_order_results: RankOrderComputationsContainer = curr_active_pipeline.global_computation_results.computed_data['RankOrder']\n",
    "\n",
    "ripple_combined_epoch_stats_df = deepcopy(rank_order_results.ripple_combined_epoch_stats_df)\n",
    "active_replay_epochs = deepcopy(rank_order_results.LR_ripple.epochs_df)\n",
    "\n",
    "_traditional_arg_dict_key_names = ('active_LR_long_z_score', 'active_RL_long_z_score', 'active_LR_short_z_score', 'active_RL_short_z_score')\n",
    "_traditional_arg_dict_values_tuple = (ripple_combined_epoch_stats_df.LR_Long_spearman_Z, ripple_combined_epoch_stats_df.RL_Long_spearman_Z, ripple_combined_epoch_stats_df.LR_Short_spearman_Z, ripple_combined_epoch_stats_df.LR_Short_spearman_Z)\n",
    "active_LR_ripple_long_z_score, active_RL_ripple_long_z_score, active_LR_ripple_short_z_score, active_RL_ripple_short_z_score = ripple_combined_epoch_stats_df.LR_Long_spearman_Z, ripple_combined_epoch_stats_df.RL_Long_spearman_Z, ripple_combined_epoch_stats_df.LR_Short_spearman_Z, ripple_combined_epoch_stats_df.LR_Short_spearman_Z\n",
    "\n",
    "\n",
    "_arg_dict_from_ripple_combined_epoch_stats_df = dict(zip(_traditional_arg_dict_key_names, _traditional_arg_dict_values_tuple))\n",
    "ripple_directional_likelihoods_tuple: DirectionalRankOrderLikelihoods = _perform_compute_directional_likelihoods_tuple_methods(None, **_arg_dict_from_ripple_combined_epoch_stats_df)\n",
    "long_relative_direction_likelihoods, short_relative_direction_likelihoods, long_best_direction_indicies, short_best_direction_indicies = ripple_directional_likelihoods_tuple\n",
    "\n",
    "\n",
    "ripple_evts_long_best_dir_z_score_values = np.where(long_best_direction_indicies, active_LR_ripple_long_z_score, active_RL_ripple_long_z_score)\n",
    "ripple_evts_short_best_dir_z_score_values = np.where(short_best_direction_indicies, active_LR_ripple_short_z_score, active_RL_ripple_short_z_score)\n",
    "ripple_evts_long_short_best_dir_z_score_diff_values = ripple_evts_long_best_dir_z_score_values - ripple_evts_short_best_dir_z_score_values\n",
    "\n",
    "_LR_INDEX = 0\n",
    "_RL_INDEX = 1\n",
    "ripple_masked_z_score_values_list: List[ma.masked_array] = [ma.masked_array(x, mask=np.logical_not(a_mask)) for x, a_mask in zip((active_LR_ripple_long_z_score, active_RL_ripple_long_z_score, active_LR_ripple_short_z_score, active_RL_ripple_short_z_score),\n",
    "\t\t\t\t\t\t\t\t\t\t\t\t\t\t\t\t\t\t\t\t\t\t\t\t\t((long_best_direction_indicies == _LR_INDEX), (long_best_direction_indicies == _RL_INDEX), (short_best_direction_indicies == _LR_INDEX), (short_best_direction_indicies == _RL_INDEX)))]\n",
    "\n",
    "\n",
    "# outputs: ripple_evts_long_short_best_dir_z_score_diff_values\n",
    "ripple_result_tuple: DirectionalRankOrderResult = DirectionalRankOrderResult(active_replay_epochs, long_best_dir_z_score_values=ripple_evts_long_best_dir_z_score_values, short_best_dir_z_score_values=ripple_evts_short_best_dir_z_score_values,\n",
    "\t\t\t\t\t\t\t\t\t\t\t\t\t\t\t\t\t\t\tlong_short_best_dir_z_score_diff_values=ripple_evts_long_short_best_dir_z_score_diff_values, directional_likelihoods_tuple=ripple_directional_likelihoods_tuple,\n",
    "\t\t\t\t\t\t\t\t\t\t\t\t\t\t\t\t\t\t\tmasked_z_score_values_list=ripple_masked_z_score_values_list, rank_order_z_score_df=None)\n",
    "\n"
   ]
  },
  {
   "cell_type": "code",
   "execution_count": null,
   "id": "4f48594d",
   "metadata": {},
   "outputs": [],
   "source": [
    "from pyphoplacecellanalysis.General.Pipeline.Stages.ComputationFunctions.MultiContextComputationFunctions.RankOrderComputations import RankOrderAnalyses\n",
    "\n",
    "## Main\n",
    "ripple_result_tuple, laps_result_tuple = RankOrderAnalyses.most_likely_directional_rank_order_shuffling(curr_active_pipeline, decoding_time_bin_size=0.003)\n",
    "ripple_result_tuple"
   ]
  },
  {
   "cell_type": "code",
   "execution_count": null,
   "id": "296afed9",
   "metadata": {},
   "outputs": [],
   "source": [
    "laps_result_tuple"
   ]
  },
  {
   "cell_type": "code",
   "execution_count": null,
   "id": "886bed92",
   "metadata": {},
   "outputs": [],
   "source": [
    "curr_active_pipeline.global_computation_results.computed_data['RankOrder'].ripple_most_likely_result_tuple, curr_active_pipeline.global_computation_results.computed_data['RankOrder'].laps_most_likely_result_tuple = RankOrderAnalyses.most_likely_directional_rank_order_shuffling(curr_active_pipeline, decoding_time_bin_size=0.006) # 6ms bins"
   ]
  },
  {
   "cell_type": "markdown",
   "id": "220c19f9",
   "metadata": {
    "notebookRunGroups": {
     "groupValue": "2"
    }
   },
   "source": [
    "# Plot the z-scores differences and their raw-values"
   ]
  },
  {
   "cell_type": "code",
   "execution_count": null,
   "id": "8a1cad5d",
   "metadata": {},
   "outputs": [],
   "source": [
    "from pyphoplacecellanalysis.General.Pipeline.Stages.ComputationFunctions.MultiContextComputationFunctions.RankOrderComputations import plot_rank_order_epoch_inst_fr_result_tuples\n",
    "\n",
    "ripple_outputs = plot_rank_order_epoch_inst_fr_result_tuples(curr_active_pipeline, ripple_result_tuple, 'Ripple')"
   ]
  },
  {
   "cell_type": "code",
   "execution_count": null,
   "id": "a156df8d",
   "metadata": {},
   "outputs": [],
   "source": [
    "# Usage of the function for Lap\n",
    "lap_outputs = plot_rank_order_epoch_inst_fr_result_tuples(curr_active_pipeline, laps_result_tuple, 'Lap')"
   ]
  },
  {
   "cell_type": "code",
   "execution_count": null,
   "id": "16e61b9b",
   "metadata": {},
   "outputs": [],
   "source": [
    "# ripple_result_tuple.directional_likelihoods_tuple.long_best_direction_indices\n",
    "\n",
    "# Change column type to int8 for columns: 'long_best_direction_indices', 'short_best_direction_indices'\n",
    "directional_likelihoods_df = pd.DataFrame.from_dict(ripple_result_tuple.directional_likelihoods_tuple._asdict()).astype({'long_best_direction_indices': 'int8', 'short_best_direction_indices': 'int8'})\n",
    "directional_likelihoods_df"
   ]
  },
  {
   "cell_type": "code",
   "execution_count": null,
   "id": "44ad1409",
   "metadata": {},
   "outputs": [],
   "source": [
    "directional_likelihoods_df.plot.bar(y=['long_relative_direction_likelihoods', 'short_relative_direction_likelihoods'])"
   ]
  },
  {
   "cell_type": "code",
   "execution_count": null,
   "id": "8a060f2f",
   "metadata": {},
   "outputs": [],
   "source": [
    "df = deepcopy(directional_likelihoods_df)\n",
    "\n",
    "fig = plt.figure(num='directional_likelihoods_df Matplotlib figure')\n",
    "plt.plot(df.index, df[\"long_relative_direction_likelihoods\"], label=\"Long Direction\")\n",
    "plt.plot(df.index, df[\"short_relative_direction_likelihoods\"], label=\"Short Direction\")\n",
    "\n",
    "for i, idx in enumerate(df[\"long_best_direction_indices\"]):\n",
    "  if idx == 0:\n",
    "    plt.annotate(\"↑\", (df.index[i], df[\"long_relative_direction_likelihoods\"][i]), textcoords=\"offset points\", xytext=(0, 10))\n",
    "  elif idx == 1:\n",
    "    plt.annotate(\"↓\", (df.index[i], df[\"long_relative_direction_likelihoods\"][i]), textcoords=\"offset points\", xytext=(0, -10))\n",
    "\n",
    "plt.xlabel(\"Index\")\n",
    "plt.ylabel(\"Likelihood\")\n",
    "plt.legend()\n",
    "plt.show()"
   ]
  },
  {
   "cell_type": "code",
   "execution_count": null,
   "id": "06c36d9c",
   "metadata": {},
   "outputs": [],
   "source": [
    "import seaborn as sns\n",
    "\n",
    "# directional_likelihoods_df = pd.DataFrame({\n",
    "#   \"long_relative_direction_likelihoods\": [0.41, 0.48, 0.27, 0.33, 0.69, 0.50],\n",
    "#   \"short_relative_direction_likelihoods\": [0.58, 0.51, 0.72, 0.66, 0.30, 0.49],\n",
    "#   \"long_best_direction_indices\": [0, 1, 1, 1, 0, 0]\n",
    "# })\n",
    "\n",
    "\n",
    "fig = plt.figure(num='directional_likelihoods_df figure')\n",
    "sns.scatterplot(x=directional_likelihoods_df.index, y=directional_likelihoods_df[\"long_relative_direction_likelihoods\"], hue=directional_likelihoods_df[\"long_best_direction_indices\"], palette=\"hls\")\n",
    "plt.show()"
   ]
  },
  {
   "cell_type": "code",
   "execution_count": null,
   "id": "76430f39",
   "metadata": {},
   "outputs": [],
   "source": [
    "an_idx: int = 154\n",
    "# a_label = lookup_label_from_index(an_idx)\n",
    "# a_label"
   ]
  },
  {
   "cell_type": "code",
   "execution_count": null,
   "id": "3d02079d",
   "metadata": {},
   "outputs": [],
   "source": [
    "active_selected_spikes_df[active_selected_spikes_df['Probe_Epoch_id'] == an_idx]['aclu'].count()"
   ]
  },
  {
   "cell_type": "code",
   "execution_count": null,
   "id": "6b7eeab7",
   "metadata": {},
   "outputs": [],
   "source": [
    "active_selected_spikes_df[active_selected_spikes_df['Probe_Epoch_id'] == an_idx].plot.scatter(x='t_rel_seconds', y='LR_Long_pf_peak_x')"
   ]
  },
  {
   "cell_type": "code",
   "execution_count": null,
   "id": "c36856cb",
   "metadata": {},
   "outputs": [],
   "source": [
    "## filter events by (|z| > 1.0)\n",
    "ripple_result_tuple.active_epochs\n",
    "ripple_result_tuple.long_best_dir_z_score_values"
   ]
  },
  {
   "cell_type": "code",
   "execution_count": null,
   "id": "de5402b9",
   "metadata": {},
   "outputs": [],
   "source": [
    "# ripple_result_tuple.directional_likelihoods_tuple\n",
    "ripple_result_tuple.directional_likelihoods_tuple.long_best_direction_indices[105] # 1, "
   ]
  },
  {
   "cell_type": "code",
   "execution_count": null,
   "id": "23ac85b9",
   "metadata": {},
   "outputs": [],
   "source": [
    "ripple_result_tuple.directional_likelihoods_tuple.short_best_direction_indices[105]"
   ]
  },
  {
   "cell_type": "code",
   "execution_count": null,
   "id": "751e2ba3",
   "metadata": {},
   "outputs": [],
   "source": [
    "ripple_result_tuple.long_best_dir_z_score_values[105]"
   ]
  },
  {
   "cell_type": "code",
   "execution_count": null,
   "id": "9372e0f2",
   "metadata": {},
   "outputs": [],
   "source": [
    "ripple_result_tuple.short_best_dir_z_score_values[105]"
   ]
  },
  {
   "cell_type": "code",
   "execution_count": null,
   "id": "e57c1873",
   "metadata": {},
   "outputs": [],
   "source": [
    "ripple_result_tuple.active_epochs"
   ]
  },
  {
   "cell_type": "code",
   "execution_count": null,
   "id": "905e6b71",
   "metadata": {},
   "outputs": [],
   "source": [
    "np.shape(ripple_result_tuple.long_best_dir_z_score_values)"
   ]
  },
  {
   "cell_type": "code",
   "execution_count": null,
   "id": "ff13302a",
   "metadata": {},
   "outputs": [],
   "source": [
    "np.shape(ripple_result_tuple.short_best_dir_z_score_values)"
   ]
  },
  {
   "cell_type": "code",
   "execution_count": null,
   "id": "c18e3936",
   "metadata": {},
   "outputs": [],
   "source": [
    "global_replays.n_epochs"
   ]
  },
  {
   "cell_type": "code",
   "execution_count": null,
   "id": "9e99e913",
   "metadata": {},
   "outputs": [],
   "source": [
    "global_replays"
   ]
  },
  {
   "cell_type": "code",
   "execution_count": null,
   "id": "4d468a50",
   "metadata": {},
   "outputs": [],
   "source": [
    "ratemap = long_pf1D.ratemap\n",
    "ratemap.tuning_curve_unsmoothed_peak_firing_rates"
   ]
  },
  {
   "cell_type": "code",
   "execution_count": null,
   "id": "77bebb16",
   "metadata": {},
   "outputs": [],
   "source": [
    "type(rank_order_results)"
   ]
  },
  {
   "cell_type": "code",
   "execution_count": null,
   "id": "c6b025f2",
   "metadata": {},
   "outputs": [],
   "source": [
    "from pyphoplacecellanalysis.General.Pipeline.Stages.ComputationFunctions.MultiContextComputationFunctions.RankOrderComputations import DirectionalRankOrderResult\n",
    "\n",
    "# type(ripple_result_tuple)\n",
    "ripple_result_tuple.plot_histograms()"
   ]
  },
  {
   "cell_type": "code",
   "execution_count": null,
   "id": "8abfe161",
   "metadata": {},
   "outputs": [],
   "source": [
    "laps_result_tuple.plot_histograms()"
   ]
  },
  {
   "cell_type": "code",
   "execution_count": null,
   "id": "628ae69d",
   "metadata": {},
   "outputs": [],
   "source": [
    "ripple_result_tuple.directional_likelihoods_tuple.long_relative_direction_likelihoods.shape"
   ]
  },
  {
   "cell_type": "code",
   "execution_count": null,
   "id": "be485e17",
   "metadata": {},
   "outputs": [],
   "source": [
    "ripple_result_tuple.directional_likelihoods_tuple.short_relative_direction_likelihoods.shape"
   ]
  },
  {
   "cell_type": "code",
   "execution_count": null,
   "id": "dcd965be",
   "metadata": {},
   "outputs": [],
   "source": [
    "ripple_result_tuple.directional_likelihoods_tuple.long_best_direction_indices"
   ]
  },
  {
   "cell_type": "code",
   "execution_count": null,
   "id": "0750edae",
   "metadata": {},
   "outputs": [],
   "source": [
    "ripple_result_tuple.short_best_dir_z_score_values"
   ]
  },
  {
   "cell_type": "code",
   "execution_count": null,
   "id": "3213cd164073dbb3",
   "metadata": {
    "ExecuteTime": {
     "end_time": "2023-11-16T23:24:06.810860500Z",
     "start_time": "2023-11-16T23:24:06.644858700Z"
    }
   },
   "outputs": [],
   "source": [
    "# 2023-11-16_LapsRankOrderHistogram Figure:\n",
    "pd.DataFrame({'long_z_scores': laps_result_tuple.long_best_dir_z_score_values, 'short_z_scores': laps_result_tuple.short_best_dir_z_score_values}).hist()"
   ]
  },
  {
   "cell_type": "markdown",
   "id": "f1f2a9a6",
   "metadata": {},
   "source": [
    "# Create a new `SpikeRaster2D` instance using `_display_spike_raster_pyqtplot_2D` and capture its outputs:\n"
   ]
  },
  {
   "cell_type": "code",
   "execution_count": null,
   "id": "7cc87fb8",
   "metadata": {},
   "outputs": [],
   "source": [
    "curr_active_pipeline.prepare_for_display()"
   ]
  },
  {
   "cell_type": "code",
   "execution_count": null,
   "id": "82cc7400",
   "metadata": {},
   "outputs": [],
   "source": [
    "# Create a new `SpikeRaster2D` instance using `_display_spike_raster_pyqtplot_2D` and capture its outputs:\n",
    "# active_2d_plot, active_3d_plot, spike_raster_window = curr_active_pipeline.plot._display_spike_rasters_pyqtplot_2D()\n",
    "\n",
    "active_2d_plot, active_3d_plot, spike_raster_window = curr_active_pipeline.display('_display_spike_rasters_pyqtplot_2D', 'maze_any') # 'maze_any'\n"
   ]
  },
  {
   "cell_type": "code",
   "execution_count": null,
   "id": "39840338",
   "metadata": {},
   "outputs": [],
   "source": [
    "active_2d_plot, active_3d_plot, spike_raster_window = curr_active_pipeline.plot._display_spike_rasters_pyqtplot_2D()\n"
   ]
  },
  {
   "cell_type": "code",
   "execution_count": null,
   "id": "e75eb376",
   "metadata": {},
   "outputs": [],
   "source": [
    "spike_raster_window"
   ]
  },
  {
   "cell_type": "code",
   "execution_count": null,
   "id": "10b7afeb",
   "metadata": {},
   "outputs": [],
   "source": [
    "spikes_window = spike_raster_window.spikes_window # SpikesDataframeWindow\n",
    "\n",
    "bottomPlaybackControlBarWidget = spike_raster_window.ui.bottomPlaybackControlBarWidget # Spike3DRasterBottomPlaybackControlBar \n",
    "\n",
    "doubleSpinBox_ActiveWindowStartTime = bottomPlaybackControlBarWidget.ui.doubleSpinBox_ActiveWindowStartTime\n",
    "doubleSpinBox_ActiveWindowEndTime = bottomPlaybackControlBarWidget.ui.doubleSpinBox_ActiveWindowEndTime\n",
    "\n",
    "\n",
    "# spikes_window.timeWindow.start\n",
    "# spikes_window.active_window_start_time\n",
    "# spikes_window.update_window_start_end(451.8908457518555, 451.9895490613999) ## Works but does not trigger refresh/update of the window. The changes are reflected as soon as you try to scroll at all though.\n",
    "# spikes_window.active_window_end_time\n",
    "\n",
    "print(f'spikes_window.active_window_start_time: {spikes_window.active_window_start_time}, spikes_window.active_window_end_time: {spikes_window.active_window_end_time}')\n",
    "# need to block signals:\n",
    "# doubleSpinBox_ActiveWindowStartTime.blockSignals(True)\n",
    "# doubleSpinBox_ActiveWindowEndTime.blockSignals(True)\n",
    "doubleSpinBox_ActiveWindowStartTime.setValue(spikes_window.active_window_start_time)\n",
    "doubleSpinBox_ActiveWindowEndTime.setValue(spikes_window.active_window_end_time)\n",
    "# doubleSpinBox_ActiveWindowStartTime.blockSignals(False) # unblock the signals when done\n",
    "# doubleSpinBox_ActiveWindowEndTime.blockSignals(False)\n",
    "\n",
    "\n",
    "# @pyqtExceptionPrintingSlot(float, float)\n",
    "def on_active_window_changed(start_t, end_t, _obj):\n",
    "\t# need to block signals:\n",
    "\t# doubleSpinBox_ActiveWindowStartTime.blockSignals(True)\n",
    "\t# doubleSpinBox_ActiveWindowEndTime.blockSignals(True)\n",
    "\tif start_t is not None:\n",
    "\t\tdoubleSpinBox_ActiveWindowStartTime.setValue(start_t)\n",
    "\tif end_t is not None:\n",
    "\t\tdoubleSpinBox_ActiveWindowEndTime.setValue(end_t)\n",
    "\t# doubleSpinBox_ActiveWindowStartTime.blockSignals(False) # unblock the signals when done\n",
    "\t# doubleSpinBox_ActiveWindowEndTime.blockSignals(False)\n",
    "\n",
    "curr_window_ctrls_connection = spikes_window.windowed_data_window_updated_signal.connect(on_active_window_changed)\n"
   ]
  },
  {
   "cell_type": "code",
   "execution_count": null,
   "id": "113a3acd",
   "metadata": {},
   "outputs": [],
   "source": [
    "doubleSpinBox_ActiveWindowStartTime.setReadOnly(True)\n",
    "doubleSpinBox_ActiveWindowEndTime.setReadOnly(True)\n",
    "\n",
    "spikes_window.on_window_changed.connect("
   ]
  },
  {
   "cell_type": "code",
   "execution_count": null,
   "id": "8319e362",
   "metadata": {},
   "outputs": [],
   "source": [
    "doubleSpinBox_ActiveWindowStartTime.setVisible(False)\n",
    "bottomPlaybackControlBarWidget.setVisible(False)"
   ]
  },
  {
   "cell_type": "code",
   "execution_count": null,
   "id": "01d043d6",
   "metadata": {},
   "outputs": [],
   "source": [
    "# global_epoch_context\n",
    "curr_active_pipeline.reload_default_display_functions()\n",
    "# curr_active_pipeline.prepare_for_display()\n",
    "curr_active_pipeline.clear_display_outputs()\n"
   ]
  },
  {
   "cell_type": "code",
   "execution_count": null,
   "id": "2441e547",
   "metadata": {},
   "outputs": [],
   "source": [
    "# Gets the existing SpikeRasterWindow or creates a new one if one doesn't already exist:\n",
    "from pyphocorehelpers.gui.Qt.TopLevelWindowHelper import TopLevelWindowHelper\n",
    "import pyphoplacecellanalysis.External.pyqtgraph as pg # Used to get the app for TopLevelWindowHelper.top_level_windows\n",
    "## For searching with `TopLevelWindowHelper.all_widgets(...)`:\n",
    "from pyphoplacecellanalysis.GUI.PyQtPlot.Widgets.SpikeRasterWidgets.Spike2DRaster import Spike2DRaster\n",
    "from pyphoplacecellanalysis.GUI.PyQtPlot.Widgets.SpikeRasterWidgets.Spike3DRaster import Spike3DRaster\n",
    "from pyphoplacecellanalysis.GUI.Qt.SpikeRasterWindows.Spike3DRasterWindowWidget import Spike3DRasterWindowWidget\n",
    "\n",
    "found_spike_raster_windows = TopLevelWindowHelper.all_widgets(pg.mkQApp(), searchType=Spike3DRasterWindowWidget)\n",
    "\n",
    "if len(found_spike_raster_windows) < 1:\n",
    "\t# no existing spike_raster_windows. Make a new one\n",
    "\tprint(f'no existing SpikeRasterWindow. Creating a new one.')\n",
    "\t# Create a new `SpikeRaster2D` instance using `_display_spike_raster_pyqtplot_2D` and capture its outputs:\n",
    "\t# active_2d_plot, active_3d_plot, spike_raster_window = curr_active_pipeline.plot._display_spike_rasters_pyqtplot_2D()\n",
    "\n",
    "\tactive_2d_plot, active_3d_plot, spike_raster_window = curr_active_pipeline.plot._display_spike_rasters_pyqtplot_2D()\n",
    "\n",
    "else:\n",
    "\tprint(f'found {len(found_spike_raster_windows)} existing Spike3DRasterWindowWidget windows using TopLevelWindowHelper.all_widgets(...). Will use the most recent.')\n",
    "\t# assert len(found_spike_raster_windows) == 1, f\"found {len(found_spike_raster_windows)} Spike3DRasterWindowWidget windows using TopLevelWindowHelper.all_widgets(...) but require exactly one.\"\n",
    "\t# Get the most recent existing one and reuse that:\n",
    "\tspike_raster_window = found_spike_raster_windows[0]\n",
    "\n",
    "\n",
    "# Extras:\n",
    "active_2d_plot = spike_raster_window.spike_raster_plt_2d # <pyphoplacecellanalysis.GUI.PyQtPlot.Widgets.SpikeRasterWidgets.Spike2DRaster.Spike2DRaster at 0x196c7244280>\n",
    "active_3d_plot = spike_raster_window.spike_raster_plt_3d # <pyphoplacecellanalysis.GUI.PyQtPlot.Widgets.SpikeRasterWidgets.Spike2DRaster.Spike2DRaster at 0x196c7244280>\n",
    "main_graphics_layout_widget = active_2d_plot.ui.main_graphics_layout_widget # GraphicsLayoutWidget\n",
    "main_plot_widget = active_2d_plot.plots.main_plot_widget # PlotItem\n",
    "background_static_scroll_plot_widget = active_2d_plot.plots.background_static_scroll_window_plot # PlotItem"
   ]
  },
  {
   "cell_type": "code",
   "execution_count": null,
   "id": "7c6338da",
   "metadata": {},
   "outputs": [],
   "source": [
    "spike_raster_window.isVisible() # False\n",
    "# spike_raster_window.show()\n",
    "spike_raster_window.close()"
   ]
  },
  {
   "cell_type": "code",
   "execution_count": null,
   "id": "0bafe4df",
   "metadata": {},
   "outputs": [],
   "source": [
    "spike_raster_window.connection_man.active_connections"
   ]
  },
  {
   "cell_type": "code",
   "execution_count": null,
   "id": "0a801d59",
   "metadata": {},
   "outputs": [],
   "source": [
    "found_any_window = TopLevelWindowHelper.top_level_windows(pg.mkQApp())\n",
    "found_any_window"
   ]
  },
  {
   "cell_type": "code",
   "execution_count": null,
   "id": "17d815bb",
   "metadata": {},
   "outputs": [],
   "source": [
    "# print windows:\n",
    "[print_widget_hierarchy(v) for k, v in found_any_window.items()]"
   ]
  },
  {
   "cell_type": "code",
   "execution_count": null,
   "id": "5c00e166",
   "metadata": {},
   "outputs": [],
   "source": [
    "_display_out = curr_active_pipeline.last_added_display_output\n"
   ]
  },
  {
   "cell_type": "code",
   "execution_count": null,
   "id": "b06ea13e",
   "metadata": {},
   "outputs": [],
   "source": [
    "ipspikesDataExplorer = _display_out['ipspikesDataExplorer']\n",
    "pActiveSpikesBehaviorPlotter = _display_out['plotter']\n"
   ]
  },
  {
   "cell_type": "code",
   "execution_count": null,
   "id": "2c92cd2f",
   "metadata": {},
   "outputs": [],
   "source": [
    " = curr_active_pipeline.last_added_display_output\n",
    "_display_out\n"
   ]
  },
  {
   "cell_type": "code",
   "execution_count": null,
   "id": "e02ac639",
   "metadata": {},
   "outputs": [],
   "source": [
    "ipspikesDataExplorer = self._display_output['ipspikesDataExplorer']"
   ]
  },
  {
   "cell_type": "code",
   "execution_count": null,
   "id": "bd461fb3",
   "metadata": {},
   "outputs": [],
   "source": [
    "### Adjusting Spike Emphasis:\n",
    "#### Usage Examples:\n",
    "from pyphoplacecellanalysis.General.Mixins.SpikesRenderingBaseMixin import SpikeEmphasisState\n",
    "from neuropy.core.neuron_identities import NeuronType\n"
   ]
  },
  {
   "cell_type": "code",
   "execution_count": null,
   "id": "b1dd5449",
   "metadata": {},
   "outputs": [],
   "source": [
    "\n",
    "## Example 1: De-emphasize spikes excluded from the placefield calculations:\n",
    "is_spike_included_in_pf = np.isin(spike_raster_window.spike_raster_plt_2d.spikes_df.index, active_pf_2D.filtered_spikes_df.index)\n",
    "spike_raster_window.spike_raster_plt_2d.update_spike_emphasis(np.logical_not(is_spike_included_in_pf), SpikeEmphasisState.Deemphasized)\n",
    "\n",
    "## Example 2: De-emphasize spikes that don't have their 'aclu' from a given set of indicies:\n",
    "is_spike_included = spike_raster_window.spike_raster_plt_2d.spikes_df.aclu.to_numpy() == 2\n",
    "spike_raster_window.spike_raster_plt_2d.update_spike_emphasis(np.logical_not(is_spike_included), SpikeEmphasisState.Deemphasized)\n",
    "\n",
    "## Example 3: De-emphasize all spikes \n",
    "active_2d_plot.update_spike_emphasis(new_emphasis_state=SpikeEmphasisState.Deemphasized)\n",
    "\n",
    "## Example 4: Hide all spikes entirely\n",
    "active_2d_plot.update_spike_emphasis(new_emphasis_state=SpikeEmphasisState.Hidden)\n"
   ]
  },
  {
   "cell_type": "code",
   "execution_count": null,
   "id": "98b9a61d",
   "metadata": {},
   "outputs": [],
   "source": [
    "## Setup: Hide all non-pyramidal spikes entirely\n",
    "spikes_df = spike_raster_window.spikes_df\n",
    "spike_raster_window.spike_raster_plt_2d.update_spike_emphasis(np.logical_not((spikes_df.neuron_type == NeuronType.from_string('pyr'))), SpikeEmphasisState.Hidden)"
   ]
  },
  {
   "cell_type": "code",
   "execution_count": null,
   "id": "f3feb699",
   "metadata": {},
   "outputs": [],
   "source": [
    "spikes_window = spike_raster_window.spikes_window # SpikesDataframeWindow\n",
    "# spikes_window.update_window_start_end(451.8908457518555, 451.9895490613999) ## Works but does not trigger refresh/update of the window. The changes are reflected as soon as you try to scroll at all though.\n"
   ]
  },
  {
   "cell_type": "code",
   "execution_count": null,
   "id": "1ae85b4a",
   "metadata": {},
   "outputs": [],
   "source": [
    "# 20*60.0 + 50.0 +  0.218 = 1250.218\n",
    "\n",
    "spikes_window.update_window_start_end(1250.218, (1250.218 + 3.0))\n",
    "\n"
   ]
  },
  {
   "cell_type": "code",
   "execution_count": null,
   "id": "325548b0",
   "metadata": {},
   "outputs": [],
   "source": [
    "spikes_window.window_duration # Prints the current window's duration. The win. dur. label control in the left bar is not updated.\n",
    "\n",
    "desired_window_fraction: float = 0.1 # 10% of the window is the default jump size\n",
    "relevant_jump_duration: float = spikes_window.window_duration * desired_window_fraction\n",
    "relevant_jump_duration\n"
   ]
  },
  {
   "cell_type": "code",
   "execution_count": null,
   "id": "7bc81002",
   "metadata": {},
   "outputs": [],
   "source": [
    "from pyphoplacecellanalysis.PhoPositionalData.plotting.mixins.spikes_mixins import SpikeRenderingPyVistaMixin\n",
    "from pyphoplacecellanalysis.GUI.PyVista.InteractivePlotter.InteractivePlaceCellTuningCurvesDataExplorer import InteractivePlaceCellTuningCurvesDataExplorer\n",
    "# from pyphoplacecellanalysis.GUI.PyVista.InteractivePlotter.InteractivePlaceCellTuningCurvesDataExplorer import InteractivePlaceCellTuningCurvesDataExplorer\n",
    "from pyphoplacecellanalysis.GUI.PyVista.InteractivePlotter.InteractivePlaceCellDataExplorer import InteractivePlaceCellDataExplorer\n",
    "\n",
    "found_windows_of_type = TopLevelWindowHelper.all_widgets(pg.mkQApp(), searchType=InteractivePlaceCellDataExplorer)\n",
    "found_windows_of_type\n",
    "TopLevelWindowHelper.top_level_windows(pg.mkQApp(), only_visible=True)"
   ]
  },
  {
   "cell_type": "code",
   "execution_count": null,
   "id": "e2abd93f",
   "metadata": {},
   "outputs": [],
   "source": [
    "(451.8908457518555, 451.9895490613999)"
   ]
  },
  {
   "cell_type": "code",
   "execution_count": null,
   "id": "6c418968",
   "metadata": {},
   "outputs": [],
   "source": [
    "from pyphoplacecellanalysis.SpecificResults.PhoDiba2023Paper import BatchPhoJonathanFiguresHelper\n",
    "\n",
    "fig_1c_figures_out_dict = BatchPhoJonathanFiguresHelper.run(curr_active_pipeline, neuron_replay_stats_df, included_unit_neuron_IDs=XOR_subset.track_exclusive_aclus, n_max_page_rows=20, write_vector_format=False, write_png=True, disable_top_row=True) # active_out_figures_dict: {IdentifyingContext<('kdiba', 'gor01', 'two', '2006-6-07_16-40-19', 'BatchPhoJonathanReplayFRC', 'long_only', '(12,21,48)')>: <Figure size 1920x660 with 12 Axes>, IdentifyingContext<('kdiba', 'gor01', 'two', '2006-6-07_16-40-19', 'BatchPhoJonathanReplayFRC', 'short_only', '(18,19,65)')>: <Figure size 1920x660 with 12 Axes>}"
   ]
  },
  {
   "cell_type": "markdown",
   "id": "2ea2f309",
   "metadata": {},
   "source": [
    "# PhoKamran2023Paper Results"
   ]
  },
  {
   "cell_type": "code",
   "execution_count": null,
   "id": "85a7dd8b",
   "metadata": {},
   "outputs": [],
   "source": [
    "pg.setConfigOptions(background='white', foreground='black') # black on white background (more traditional) color scheme"
   ]
  },
  {
   "cell_type": "markdown",
   "id": "162d813d",
   "metadata": {},
   "source": [
    "## Figure 1) pf1D Ratemaps, Active set, etc"
   ]
  },
  {
   "cell_type": "code",
   "execution_count": null,
   "id": "273696fc",
   "metadata": {},
   "outputs": [],
   "source": [
    "from pyphoplacecellanalysis.General.Pipeline.Stages.DisplayFunctions.SpikeRasters import plot_multiple_raster_plot, plot_raster_plot\n",
    "from pyphoplacecellanalysis.Pho2D.matplotlib.visualize_heatmap import visualize_heatmap_pyqtgraph # used in `plot_kourosh_activity_style_figure`\n",
    "from pyphoplacecellanalysis.SpecificResults.PhoDiba2023Paper import PAPER_FIGURE_figure_1_full, PAPER_FIGURE_figure_1_add_replay_epoch_rasters\n",
    "\n",
    "curr_active_pipeline.prepare_for_display()\n",
    "pf1d_compare_graphics, (example_epoch_rasters_L, example_epoch_rasters_S), example_stacked_epoch_graphics, fig_1c_figures_out_dict = PAPER_FIGURE_figure_1_full(curr_active_pipeline) # did not display the pf1"
   ]
  },
  {
   "cell_type": "code",
   "execution_count": null,
   "id": "84fa9acc",
   "metadata": {},
   "outputs": [],
   "source": [
    "# rdf = jonathan_firing_rate_analysis_result.rdf.rdf\n",
    "# rdf\n",
    "# ==================================================================================================================== #\n",
    "# Fig 1c) 2023-07-14 - LxC and SxC PhoJonathanSession plots                                                            #\n",
    "# ==================================================================================================================== #\n",
    "from pyphoplacecellanalysis.General.Batch.NonInteractiveProcessing import BatchPhoJonathanFiguresHelper\n",
    "\n",
    "## Get global 'jonathan_firing_rate_analysis' results:\n",
    "curr_jonathan_firing_rate_analysis = curr_active_pipeline.global_computation_results.computed_data['jonathan_firing_rate_analysis']\n",
    "neuron_replay_stats_df, rdf, aclu_to_idx, irdf = curr_jonathan_firing_rate_analysis.neuron_replay_stats_df, curr_jonathan_firing_rate_analysis.rdf.rdf, curr_jonathan_firing_rate_analysis.rdf.aclu_to_idx, curr_jonathan_firing_rate_analysis.irdf.irdf\n",
    "\n",
    "fig_1c_figures_out_dict = BatchPhoJonathanFiguresHelper.run(curr_active_pipeline, neuron_replay_stats_df, included_unit_neuron_IDs=XOR_subset.track_exclusive_aclus, n_max_page_rows=20, write_vector_format=False, write_png=True, disable_top_row=True) # active_out_figures_dict: {IdentifyingContext<('kdiba', 'gor01', 'two', '2006-6-07_16-40-19', 'BatchPhoJonathanReplayFRC', 'long_only', '(12,21,48)')>: <Figure size 1920x660 with 12 Axes>, IdentifyingContext<('kdiba', 'gor01', 'two', '2006-6-07_16-40-19', 'BatchPhoJonathanReplayFRC', 'short_only', '(18,19,65)')>: <Figure size 1920x660 with 12 Axes>}\n"
   ]
  },
  {
   "cell_type": "markdown",
   "id": "5cba3c7a",
   "metadata": {},
   "source": [
    "## Figure 2) `PaperFigureTwo`: LxC/SxC Analyses\n",
    "Note: this fails when SxC or LxC are empty for this session (as it's not meaningful to produce a comparison bar plot). In this case, aggregate across multiple sessions."
   ]
  },
  {
   "cell_type": "code",
   "execution_count": null,
   "id": "97d3e1ff",
   "metadata": {},
   "outputs": [],
   "source": [
    "from pyphoplacecellanalysis.SpecificResults.PhoDiba2023Paper import PaperFigureTwo\n",
    "\n",
    "_out_fig_2 = PaperFigureTwo(instantaneous_time_bin_size_seconds=0.01) # 10ms\n",
    "_out_fig_2.compute(curr_active_pipeline=curr_active_pipeline)\n",
    "_out_fig_2.display()"
   ]
  },
  {
   "cell_type": "markdown",
   "id": "14a52142",
   "metadata": {},
   "source": [
    "## Figure 3) `PAPER_FIGURE_figure_3`: Firing Rate Index and Long/Short Firing Rate Replays v. Laps"
   ]
  },
  {
   "cell_type": "code",
   "execution_count": null,
   "id": "5f765ed6",
   "metadata": {},
   "outputs": [],
   "source": [
    "from neuropy.utils.matplotlib_helpers import FormattedFigureText\n",
    "from pyphoplacecellanalysis.General.Pipeline.Stages.DisplayFunctions.MultiContextComparingDisplayFunctions.LongShortTrackComparingDisplayFunctions import _plot_long_short_firing_rate_indicies\n",
    "# curr_active_pipeline.reload_default_display_functions()\n",
    "\n",
    "_out, _out2 = PAPER_FIGURE_figure_3(curr_active_pipeline, defer_render=False, save_figure=True)"
   ]
  },
  {
   "cell_type": "markdown",
   "id": "a909c676",
   "metadata": {},
   "source": [
    "##  All Programmatic Plots"
   ]
  },
  {
   "cell_type": "code",
   "execution_count": null,
   "id": "d6bcb738",
   "metadata": {},
   "outputs": [],
   "source": [
    "from pyphoplacecellanalysis.General.Batch.NonInteractiveProcessing import batch_perform_all_plots\n",
    "\n",
    "\n",
    "batch_perform_all_plots(curr_active_pipeline, enable_neptune=False, neptuner=None)"
   ]
  },
  {
   "cell_type": "markdown",
   "metadata": {},
   "source": [
    "# Simple ActiveSet Directional Determination"
   ]
  },
  {
   "cell_type": "code",
   "execution_count": null,
   "id": "a186598d",
   "metadata": {},
   "outputs": [],
   "source": [
    "from pyphoplacecellanalysis.General.Pipeline.Stages.ComputationFunctions.MultiContextComputationFunctions.RankOrderComputations import RankOrderResult\n",
    "from pyphocorehelpers.indexing_helpers import bidirectional_setdiff1d\n",
    "\n",
    "# rank_order_results.LR_ripple.extra_info_dict\n",
    "\n",
    "# active_epochs_df\n"
   ]
  },
  {
   "cell_type": "code",
   "execution_count": null,
   "id": "9461dd10",
   "metadata": {},
   "outputs": [],
   "source": [
    "bidirectional_setdiff1d(rank_order_results.LR_ripple.epochs_df.label.to_numpy(), rank_order_results.RL_ripple.epochs_df.label.to_numpy())"
   ]
  },
  {
   "cell_type": "code",
   "execution_count": null,
   "id": "659582bc",
   "metadata": {},
   "outputs": [],
   "source": [
    "# spikes_df.flat_spike_idx\n",
    "# np.setdiff1d(rank_order_results.LR_ripple.spikes_df.flat_spike_idx.to_numpy(), rank_order_results.RL_ripple.spikes_df.flat_spike_idx.to_numpy())\n",
    "bidirectional_setdiff1d(rank_order_results.LR_ripple.spikes_df.flat_spike_idx.to_numpy(), rank_order_results.RL_ripple.spikes_df.flat_spike_idx.to_numpy())"
   ]
  },
  {
   "cell_type": "code",
   "execution_count": null,
   "id": "49c8873c",
   "metadata": {},
   "outputs": [],
   "source": [
    "display(bidirectional_setdiff1d(rank_order_results.LR_ripple.spikes_df.label.to_numpy(), rank_order_results.RL_ripple.epochs_df.label.to_numpy()))\n",
    "display(np.setdiff1d(rank_order_results.LR_ripple.spikes_df.label.to_numpy(), rank_order_results.RL_ripple.epochs_df.label.to_numpy()))"
   ]
  },
  {
   "cell_type": "code",
   "execution_count": null,
   "id": "43a2d1f7",
   "metadata": {},
   "outputs": [],
   "source": [
    "rank_order_results.RL_ripple.epochs_df"
   ]
  },
  {
   "cell_type": "code",
   "execution_count": null,
   "id": "e463c88a",
   "metadata": {},
   "outputs": [],
   "source": [
    "from pyphoplacecellanalysis.General.Pipeline.Stages.ComputationFunctions.MultiContextComputationFunctions.RankOrderComputations import RankOrderComputationsContainer\n",
    "# from PendingNotebookCode import epoch_directionality_active_set_evidence\n",
    "from pyphoplacecellanalysis.General.Pipeline.Stages.ComputationFunctions.MultiContextComputationFunctions.RankOrderComputations import RankOrderAnalyses\n",
    "from pyphoplacecellanalysis.General.Pipeline.Stages.ComputationFunctions.MultiContextComputationFunctions.RankOrderComputations import DirectionalRankOrderLikelihoods\n",
    "\n",
    "# active_epochs_df.label.astype(label_column_type).map(lambda x: rank_order_results.LR_ripple.epoch_template_active_aclus[x])\n",
    "\n",
    "# ['LR_Long_ActuallyIncludedAclus', 'RL_Long_ActuallyIncludedAclus', 'LR_Short_ActuallyIncludedAclus', 'RL_Short_ActuallyIncludedAclus']\n",
    "\n",
    "# rank_order_results.LR_laps.epochs_df = add_active_aclus_info(rank_order_results, active_epochs_df=rank_order_results.LR_laps.epochs_df, is_laps=True)\n",
    "# rank_order_results.RL_laps.epochs_df = add_active_aclus_info(rank_order_results, active_epochs_df=rank_order_results.RL_laps.epochs_df, is_laps=True)\n",
    "\n",
    "# rank_order_results.LR_ripple.epochs_df = add_active_aclus_info(rank_order_results, active_epochs_df=rank_order_results.LR_ripple.epochs_df, is_laps=False)\n",
    "# rank_order_results.RL_ripple.epochs_df = add_active_aclus_info(rank_order_results, active_epochs_df=rank_order_results.RL_ripple.epochs_df, is_laps=False)\n",
    "\n",
    "rank_order_results.laps_most_likely_result_tuple.directional_likelihoods_tuple.long_best_direction_indices"
   ]
  },
  {
   "cell_type": "code",
   "execution_count": null,
   "id": "5a87521d",
   "metadata": {},
   "outputs": [],
   "source": [
    "def _validate_estimated_lap_dirs():\n",
    "\t\"\"\" 2023-12-19 - validstes the estimated lap directions against the ground-truth direction which is known for the laps. \n",
    " \t\"\"\"\n",
    "\tlap_dir_is_LR = deepcopy(rank_order_results.laps_most_likely_result_tuple.directional_likelihoods_tuple.long_best_direction_indices)\n",
    "\tlap_dir_index = deepcopy(lap_dir_is_LR).astype('int8')\n",
    "\n",
    "\t# global_laps\n",
    "\tactual_lap_dir = deepcopy(global_any_laps_epochs_obj.to_dataframe()['lap_dir'])\n",
    "\tn_total_laps = np.shape(actual_lap_dir)[0]\n",
    "\tis_correct = (actual_lap_dir.values == lap_dir_index)\n",
    "\tn_correct_direction = is_correct.sum()\n",
    "\tn_correct_direction\n",
    "\n",
    "\tprint(f'Lap directions: {n_correct_direction}/{n_total_laps} correct ({100.0*float(n_correct_direction)/float(n_total_laps)}%)') # Lap directions: 76/80 correct (95.0%)\n"
   ]
  },
  {
   "cell_type": "code",
   "execution_count": null,
   "id": "3cec222f",
   "metadata": {},
   "outputs": [],
   "source": [
    "rank_order_results.adding_active_aclus_info()\n",
    "rank_order_results.ripple_most_likely_result_tuple, rank_order_results.laps_most_likely_result_tuple = RankOrderAnalyses.most_likely_directional_rank_order_shuffling(curr_active_pipeline, decoding_time_bin_size=0.006) # 6ms bins\n",
    "        \n",
    "rank_order_results.laps_most_likely_result_tuple.directional_likelihoods_tuple.long_relative_direction_likelihoods"
   ]
  },
  {
   "cell_type": "code",
   "execution_count": null,
   "id": "e89f20f0",
   "metadata": {},
   "outputs": [],
   "source": [
    "rank_order_results.laps_most_likely_result_tuple.directional_likelihoods_tuple.short_best_direction_indices\n"
   ]
  },
  {
   "cell_type": "code",
   "execution_count": null,
   "id": "a9e67f11",
   "metadata": {},
   "outputs": [],
   "source": [
    "\n",
    "\n",
    "long_best_direction_indicies = np.argmax(np.vstack([np.abs(active_LR_long_z_score), np.abs(active_RL_long_z_score)]), axis=0).astype(int)\n",
    "short_best_direction_indicies = np.argmax(np.vstack([np.abs(active_LR_short_z_score), np.abs(active_RL_short_z_score)]), axis=0).astype(int)"
   ]
  },
  {
   "cell_type": "code",
   "execution_count": null,
   "id": "24712591",
   "metadata": {},
   "outputs": [],
   "source": [
    "recovered_lap_epochs = rank_order_results.laps_most_likely_result_tuple.active_epochs\n",
    "estimated_directions = deepcopy(rank_order_results.laps_most_likely_result_tuple.directional_likelihoods_tuple.long_best_direction_indices)\n",
    "assert len(recovered_lap_epochs) == len(estimated_directions), f\"recovered_lap_epochs should be same length as estimated_directions\"\n",
    "estimated_directions"
   ]
  },
  {
   "cell_type": "code",
   "execution_count": null,
   "id": "46a374f2",
   "metadata": {},
   "outputs": [],
   "source": [
    "recovered_lap_epochs['estimated_direction_index'] = estimated_directions\n",
    "recovered_lap_epochs"
   ]
  },
  {
   "cell_type": "code",
   "execution_count": null,
   "id": "7837b6e8",
   "metadata": {},
   "outputs": [],
   "source": [
    "recovered_lap_epochs"
   ]
  },
  {
   "cell_type": "code",
   "execution_count": null,
   "id": "1a7807cd",
   "metadata": {},
   "outputs": [],
   "source": [
    "rank_order_results.LR_laps.epochs_df"
   ]
  },
  {
   "cell_type": "code",
   "execution_count": null,
   "id": "ea53d1d2",
   "metadata": {},
   "outputs": [],
   "source": [
    "rank_order_results.laps_most_likely_result_tuple.plot_histograms()\n"
   ]
  },
  {
   "cell_type": "code",
   "execution_count": null,
   "id": "9075d3f1",
   "metadata": {},
   "outputs": [],
   "source": [
    "rank_order_results.laps_most_likely_result_tuple.directional_likelihoods_tuple"
   ]
  },
  {
   "cell_type": "code",
   "execution_count": null,
   "id": "4eeab6d5",
   "metadata": {},
   "outputs": [],
   "source": [
    "rank_order_results.laps_most_likely_result_tuple.directional_likelihoods_tuple\n",
    ", \n"
   ]
  },
  {
   "cell_type": "code",
   "execution_count": null,
   "id": "98c12d97",
   "metadata": {},
   "outputs": [],
   "source": [
    "RL_laps_epochs_df"
   ]
  },
  {
   "cell_type": "code",
   "execution_count": null,
   "id": "852508a5",
   "metadata": {},
   "outputs": [],
   "source": [
    "rank_order_results.LR_ripple.epochs_df"
   ]
  },
  {
   "cell_type": "code",
   "execution_count": null,
   "id": "f45a9e13",
   "metadata": {},
   "outputs": [],
   "source": [
    "epochs_df_L.plot.scatter(x='start', y='normed_LR_evidence') # 'normed_product_LR_evidence'\n",
    "epochs_df_L.plot.scatter(x='start', y='normed_product_LR_evidence') # 'normed_product_LR_evidence'"
   ]
  },
  {
   "cell_type": "code",
   "execution_count": null,
   "id": "fbeeb826",
   "metadata": {},
   "outputs": [],
   "source": [
    "rank_order_results.LR_laps.epochs_df"
   ]
  },
  {
   "cell_type": "code",
   "execution_count": null,
   "id": "dade730c",
   "metadata": {},
   "outputs": [],
   "source": [
    "rank_order_results.RL_laps.epochs_df"
   ]
  },
  {
   "cell_type": "code",
   "execution_count": null,
   "id": "97b51573",
   "metadata": {},
   "outputs": [],
   "source": [
    "ActuallyIncludedAclusColumnNames = ['LR_Long_ActuallyIncludedAclus', 'RL_Long_ActuallyIncludedAclus', 'LR_Short_ActuallyIncludedAclus', 'RL_Short_ActuallyIncludedAclus']\n",
    "LR_laps_epochs_df[ActuallyIncludedAclusColumnNames]\n",
    "\n",
    "## find uniques in each one:\n",
    "\n",
    "def uniques(*aclus_lists):\n",
    "    "
   ]
  },
  {
   "cell_type": "code",
   "execution_count": null,
   "id": "5e603ce2",
   "metadata": {},
   "outputs": [],
   "source": [
    "an_aclus_lists = LR_laps_epochs_df.loc[0, ActuallyIncludedAclusColumnNames].to_dict()\n",
    "# {'LR_Long_ActuallyIncludedAclus': array([  5,  17,  25,  31,  32,  34,  36,  41,  45,  48,  50,  53,  54,  55,  57,  58,  59,  61,  62,  63,  64,  66,  68,  69,  74,  75,  76,  78,  81,  82,  83,  84,  86,  87,  88,  89,  90,  92,  93,  96,  98, 100, 102, 108]),\n",
    "#  'RL_Long_ActuallyIncludedAclus': array([  3,   5,  10,  11,  14,  15,  16,  21,  31,  32,  33,  35,  36,  37,  41,  45,  48,  49,  50,  53,  55,  57,  59,  60,  61,  62,  63,  64,  69,  70,  71,  73,  75,  76,  78,  81,  83,  84,  86,  88,  89,  90,  92,  93,  98, 100, 102, 107, 108]),\n",
    "#  'LR_Short_ActuallyIncludedAclus': array([  5,  17,  25,  31,  32,  34,  36,  41,  45,  48,  50,  53,  54,  55,  57,  58,  59,  61,  62,  63,  64,  66,  68,  69,  74,  75,  76,  78,  81,  82,  83,  84,  86,  87,  88,  89,  90,  92,  93,  96,  98, 100, 102, 108]),\n",
    "#  'RL_Short_ActuallyIncludedAclus': array([  3,   5,  10,  11,  14,  15,  16,  21,  31,  32,  33,  35,  36,  37,  41,  45,  48,  49,  50,  53,  55,  57,  59,  60,  61,  62,  63,  64,  69,  70,  71,  73,  75,  76,  78,  81,  83,  84,  86,  88,  89,  90,  92,  93,  98, 100, 102, 107, 108])}\n",
    "# an_aclus_lists['LR_Long_ActuallyIncludedAclus']\n",
    "\n",
    "\n",
    "\n",
    "\n",
    "LR_only, RL_only = bidirectional_setdiff1d(an_aclus_lists['LR_Long_ActuallyIncludedAclus'], an_aclus_lists['RL_Long_ActuallyIncludedAclus'])\n",
    "\n",
    "\n"
   ]
  },
  {
   "cell_type": "code",
   "execution_count": null,
   "id": "5ddf883b",
   "metadata": {},
   "outputs": [],
   "source": [
    "[bidirectional_setdiff1d(a_LR_aclus, a_RL_aclus) for a_LR_aclus, a_RL_aclus in zip(LR_laps_epochs_df['LR_Long_ActuallyIncludedAclus'].to_list(), LR_laps_epochs_df['RL_Long_ActuallyIncludedAclus'].to_list())]\n"
   ]
  },
  {
   "cell_type": "code",
   "execution_count": null,
   "id": "480fcaac",
   "metadata": {},
   "outputs": [],
   "source": [
    "RL_laps_epochs_df"
   ]
  },
  {
   "cell_type": "code",
   "execution_count": null,
   "id": "e44e227a",
   "metadata": {},
   "outputs": [],
   "source": [
    "# epochs_df_L.plot(x='start', y=['LR_evidence', 'LR_product_evidence'])"
   ]
  },
  {
   "cell_type": "code",
   "execution_count": null,
   "id": "19e10b38",
   "metadata": {},
   "outputs": [],
   "source": [
    "epochs_df_L.plot(x='start', y=['normed_LR_evidence', 'normed_product_LR_evidence'])"
   ]
  },
  {
   "cell_type": "code",
   "execution_count": null,
   "id": "c48afb06",
   "metadata": {},
   "outputs": [],
   "source": [
    "rank_order_results.LR_laps.epochs_df"
   ]
  },
  {
   "cell_type": "code",
   "execution_count": null,
   "id": "77a1b2bc",
   "metadata": {},
   "outputs": [],
   "source": [
    "epoch_accumulated_evidence, epoch_rate_dfs, epochs_df_L = epoch_directionality_active_set_evidence(decoders_dict, active_epochs_df)\n",
    "epochs_df_L\n"
   ]
  },
  {
   "cell_type": "code",
   "execution_count": null,
   "id": "f8e70134",
   "metadata": {},
   "outputs": [],
   "source": [
    "# 'LR_Long_ActuallyIncludedAclus', 'LR_Long_rel_num_cells', 'RL_Long_ActuallyIncludedAclus', 'RL_Long_rel_num_cells', 'LR_Short_ActuallyIncludedAclus', 'LR_Short_rel_num_cells', 'RL_Short_ActuallyIncludedAclus', 'RL_Short_rel_num_cells'\n",
    "# \n",
    "# epoch_rate_dfs\n",
    "\n",
    "['normed_LR_evidence','normed_RL_evidence','normed_product_LR_evidence','normed_product_RL_evidence']"
   ]
  },
  {
   "cell_type": "code",
   "execution_count": null,
   "id": "2bedea44",
   "metadata": {},
   "outputs": [],
   "source": [
    "long_laps.to_dataframe()"
   ]
  },
  {
   "cell_type": "code",
   "execution_count": null,
   "id": "06db228d",
   "metadata": {},
   "outputs": [],
   "source": [
    "epoch_rate_df = epoch_rate_dfs[410]\n",
    "epoch_rate_df"
   ]
  },
  {
   "cell_type": "code",
   "execution_count": null,
   "id": "7c314a89",
   "metadata": {},
   "outputs": [],
   "source": [
    "epoch_accumulated_evidence"
   ]
  },
  {
   "cell_type": "code",
   "execution_count": null,
   "id": "1e7bc582",
   "metadata": {},
   "outputs": [],
   "source": [
    "epochs_df_L['normed_LR_evidence'].hist()\n",
    "\n",
    "# epochs_df_L[['LR_evidence', 'RL_evidence']]/epochs_df_L[['LR_evidence', 'RL_evidence']].sum(axis=1)\n"
   ]
  },
  {
   "cell_type": "code",
   "execution_count": null,
   "id": "7dfa926a",
   "metadata": {},
   "outputs": [],
   "source": [
    "epochs_df_L['normed_product_LR_evidence'].hist()\n",
    "epochs_df_L['normed_product_RL_evidence'].hist()\n"
   ]
  },
  {
   "cell_type": "code",
   "execution_count": null,
   "id": "28f5ce80",
   "metadata": {},
   "outputs": [],
   "source": [
    "epoch_rate_dfs[188]"
   ]
  },
  {
   "cell_type": "code",
   "execution_count": null,
   "id": "1729b43a",
   "metadata": {},
   "outputs": [],
   "source": [
    "epochs_df_L.plot(x='start', y='normed_LR_evidence')"
   ]
  },
  {
   "cell_type": "code",
   "execution_count": null,
   "id": "a1120474",
   "metadata": {},
   "outputs": [],
   "source": [
    "# Determine which cells are active in the given epoch:\n",
    "\n",
    "# Get these cells' firing rates, using 0.0 if it isn't included in the map for one of the directions\n",
    "\n",
    "\n"
   ]
  },
  {
   "cell_type": "code",
   "execution_count": null,
   "id": "835130b8",
   "metadata": {},
   "outputs": [],
   "source": []
  },
  {
   "cell_type": "code",
   "execution_count": null,
   "id": "e201caf3",
   "metadata": {},
   "outputs": [],
   "source": [
    "ripple_combined_epoch_stats_df"
   ]
  },
  {
   "cell_type": "code",
   "execution_count": null,
   "id": "bfe1301d",
   "metadata": {},
   "outputs": [],
   "source": [
    "rank_order_results.ripple_combined_epoch_stats_df"
   ]
  },
  {
   "cell_type": "code",
   "execution_count": null,
   "id": "7f467b71",
   "metadata": {},
   "outputs": [],
   "source": [
    "np.isnan(ripple_combined_epoch_stats_df.index).any()"
   ]
  },
  {
   "cell_type": "code",
   "execution_count": null,
   "id": "ae3fe07f",
   "metadata": {},
   "outputs": [],
   "source": [
    "np.isnan(rank_order_results.ripple_combined_epoch_stats_df.index)"
   ]
  },
  {
   "cell_type": "code",
   "execution_count": null,
   "id": "7a69155e",
   "metadata": {},
   "outputs": [],
   "source": [
    "np.isnan(rank_order_results.ripple_combined_epoch_stats_df.label.to_numpy()).all()"
   ]
  },
  {
   "cell_type": "code",
   "execution_count": null,
   "id": "d0961819",
   "metadata": {},
   "outputs": [],
   "source": [
    "rank_order_results.ripple_combined_epoch_stats_df"
   ]
  },
  {
   "cell_type": "markdown",
   "id": "9df97f15",
   "metadata": {},
   "source": [
    "# 2023-12-18 - Simpily detect bimodal cells:"
   ]
  },
  {
   "cell_type": "code",
   "execution_count": null,
   "id": "18a65ed2",
   "metadata": {},
   "outputs": [],
   "source": [
    "long_pf1D.peak_indicies"
   ]
  },
  {
   "cell_type": "code",
   "execution_count": null,
   "id": "9aa93f5f",
   "metadata": {},
   "outputs": [],
   "source": [
    "\n",
    "# active_ratemap.n_neurons\n"
   ]
  },
  {
   "cell_type": "code",
   "execution_count": null,
   "id": "be63bb2e",
   "metadata": {},
   "outputs": [],
   "source": [
    "\n",
    "_restore_previous_matplotlib_settings_callback = matplotlib_configuration_update(is_interactive=True, backend='Qt5Agg')\n",
    "curr_active_pipeline.display('_display_1d_placefields', 'maze1_any')\n"
   ]
  },
  {
   "cell_type": "code",
   "execution_count": null,
   "id": "d86d5308",
   "metadata": {},
   "outputs": [],
   "source": [
    "\n"
   ]
  },
  {
   "cell_type": "code",
   "execution_count": null,
   "id": "8f9795e4",
   "metadata": {},
   "outputs": [],
   "source": [
    "from scipy.signal import find_peaks\n",
    "\n",
    "def compute_tuning_curve_modes(active_ratemap):\n",
    "    \"\"\" 2023-12-19 - Uses `scipy.signal.find_peaks to find the number of peaks or (\"modes\") for each of the cells in the ratemap. \n",
    "    \n",
    "    Usage:    \n",
    "\t\tactive_ratemap = deepcopy(long_LR_pf1D.ratemap)\n",
    "\t\tpeaks_dict, aclu_n_peaks_dict, unimodal_peaks_dict = compute_tuning_curve_modes(active_ratemap)\n",
    "\t\taclu_n_peaks_dict\n",
    "\n",
    "    \"\"\"\n",
    "\tactive_tuning_curves = deepcopy(active_ratemap.tuning_curves)\n",
    "\t# active_ratemap.tuning_curves.shape # (73, 56) - (n_neurons, n_pos_bins)\n",
    "\tpeaks_list = [find_peaks(active_tuning_curves[i,:])[0] for i in np.arange(active_ratemap.n_neurons)] # [0] outside the find_peaks function gets the location of the peak\n",
    "\tpeaks_dict = dict(zip(active_ratemap.neuron_ids, peaks_list))\n",
    "\taclu_n_peaks_dict = {k:len(v) for k,v in peaks_dict.items()} # number of peaks (\"models\" for each aclu)\n",
    "\tunimodal_peaks_dict = {k:v for k,v in peaks_dict.items() if len(v) < 2}\n",
    "\treturn peaks_dict, aclu_n_peaks_dict, unimodal_peaks_dict\n",
    "\n",
    "\n",
    "# active_ratemap = deepcopy(long_pf1D.ratemap)\n",
    "active_ratemap = deepcopy(long_LR_pf1D.ratemap)\n",
    "peaks_dict, aclu_n_peaks_dict, unimodal_peaks_dict = compute_tuning_curve_modes(active_ratemap)\n",
    "aclu_n_peaks_dict"
   ]
  },
  {
   "cell_type": "code",
   "execution_count": null,
   "id": "bf27c021",
   "metadata": {},
   "outputs": [],
   "source": [
    "aclu_n_peaks_dict"
   ]
  },
  {
   "cell_type": "code",
   "execution_count": null,
   "id": "1d106dbc",
   "metadata": {},
   "outputs": [],
   "source": [
    "unimodal_only_aclus = np.array(list(unimodal_peaks_dict.keys()))\n",
    "unimodal_only_aclus"
   ]
  },
  {
   "cell_type": "code",
   "execution_count": null,
   "id": "97cc4383",
   "metadata": {},
   "outputs": [],
   "source": [
    "curr_active_pipeline.display('_display_1d_placefields', 'maze1_any', included_unit_neuron_IDs=unimodal_only_aclus, sortby=[0, 1])"
   ]
  },
  {
   "cell_type": "markdown",
   "id": "0be99ada",
   "metadata": {},
   "source": [
    "## 2023-12-19\n",
    "\n",
    "5 epochs where we have a higher Z for short than we do for long"
   ]
  },
  {
   "cell_type": "code",
   "execution_count": null,
   "id": "f4773eff",
   "metadata": {},
   "outputs": [],
   "source": [
    "rank_order_results.ripple_combined_epoch_stats_df[rank_order_results.ripple_combined_epoch_stats_df.label == 148]"
   ]
  },
  {
   "cell_type": "code",
   "execution_count": null,
   "id": "d31a4527",
   "metadata": {},
   "outputs": [],
   "source": [
    "rank_order_results.LR_ripple.epochs_df[rank_order_results.LR_ripple.epochs_df.label == 148]\n",
    "# rank_order_results.ripple_combined_epoch_stats_df[rank_order_results.ripple_combined_epoch_stats_df.label == 148]"
   ]
  },
  {
   "cell_type": "code",
   "execution_count": null,
   "id": "d2b7ad00",
   "metadata": {},
   "outputs": [],
   "source": []
  },
  {
   "cell_type": "code",
   "execution_count": null,
   "id": "592bdbf9",
   "metadata": {},
   "outputs": [],
   "source": [
    "rank_order_results.ripple_combined_epoch_stats_df[rank_order_results.ripple_combined_epoch_stats_df['LR_Short_spearman'].abs() > rank_order_results.ripple_combined_epoch_stats_df['LR_Long_spearman'].abs()]"
   ]
  },
  {
   "cell_type": "code",
   "execution_count": null,
   "id": "25c25c11",
   "metadata": {},
   "outputs": [],
   "source": [
    "rank_order_results.ripple_combined_epoch_stats_df[(rank_order_results.ripple_combined_epoch_stats_df['LR_Short_spearman_Z'].abs() > rank_order_results.ripple_combined_epoch_stats_df['LR_Long_spearman_Z'].abs()) & (rank_order_results.ripple_combined_epoch_stats_df['LR_Short_spearman_Z'].abs() > 1.98)]"
   ]
  },
  {
   "cell_type": "code",
   "execution_count": null,
   "id": "991d8db9",
   "metadata": {},
   "outputs": [],
   "source": []
  },
  {
   "cell_type": "code",
   "execution_count": null,
   "id": "29413126",
   "metadata": {},
   "outputs": [],
   "source": [
    "## Get old LR_ripple/RL_ripple results\n",
    "LR_active_result: RankOrderResult = rank_order_results.LR_ripple\n",
    "LR_active_result_epochs = LR_active_result.epochs_df\n",
    "LR_active_result_epoch_labels = LR_active_result.epochs_df.label.to_numpy()\n",
    "LR_active_result_n_epochs = np.shape(LR_active_result.epochs_df)[0]\n",
    "LR_z_variable_shapes = [np.shape(x) for x in (LR_active_result.long_z_score, LR_active_result.short_z_score, LR_active_result.long_short_z_score_diff)]\n",
    "assert np.all([LR_active_result_n_epochs == s[0] for s in LR_z_variable_shapes]), f\"z-variable shapes should match the number of epochs\"\n",
    "\n",
    "\n",
    "RL_active_result: RankOrderResult = rank_order_results.RL_ripple\n",
    "RL_active_result_epochs = RL_active_result.epochs_df\n",
    "RL_active_result_epoch_labels = RL_active_result.epochs_df.label.to_numpy()\n",
    "print(f'active_result_epoch_labels: {RL_active_result_epoch_labels}')\n",
    "RL_active_result_n_epochs = np.shape(RL_active_result.epochs_df)[0]\n",
    "RL_z_variable_shapes = [np.shape(x) for x in (RL_active_result.long_z_score, RL_active_result.short_z_score, RL_active_result.long_short_z_score_diff)]\n",
    "print(f'RL_z_variable_shapes: {RL_z_variable_shapes}')\n",
    "assert np.all([RL_active_result_n_epochs == s[0] for s in RL_z_variable_shapes]), f\"z-variable shapes should match the number of epochs\"\n",
    "\n",
    "## LR and RL epoch labels must be equal to each other!\n",
    "assert (np.array_equal(rank_order_results.LR_ripple.epochs_df.label.to_numpy(), rank_order_results.RL_ripple.epochs_df.label.to_numpy())), f\"Epoch labels must be equal\"\n",
    "new_result_epochs_df = deepcopy(rank_order_results.LR_ripple.epochs_df)\n",
    "new_result_epochs_df.reset_index(drop=True)\n",
    "new_result_df = pd.DataFrame({\n",
    "'label': deepcopy(RL_active_result.epochs_df.label.to_numpy()),\n",
    "'LR_Long_Z': rank_order_results.LR_ripple.long_z_score, \n",
    "'LR_Short_Z': rank_order_results.LR_ripple.short_z_score,\n",
    "'LR_LongShort_Zdiff': rank_order_results.LR_ripple.long_short_z_score_diff,\n",
    "'RL_Long_Z': rank_order_results.RL_ripple.long_z_score, \n",
    "'RL_Short_Z': rank_order_results.RL_ripple.short_z_score,\n",
    "'RL_LongShort_Zdiff': rank_order_results.RL_ripple.long_short_z_score_diff,\n",
    " }, index=new_result_epochs_df.index).reset_index(drop=True)\n",
    "\n",
    "# new_result_epochs_df.update(new_result_df, errors='raise')\n",
    "# assert np.shape(new_result_epochs_df)[0] == np.shape(rank_order_results.LR_ripple.epochs_df)[0], f\"number of rows must not have changed\"\n",
    "# new_result_epochs_df\n",
    "new_result_df"
   ]
  },
  {
   "cell_type": "code",
   "execution_count": null,
   "id": "74529ce8",
   "metadata": {},
   "outputs": [],
   "source": [
    "interesting_labels = [4, 148]"
   ]
  },
  {
   "cell_type": "code",
   "execution_count": null,
   "id": "c2c61e59",
   "metadata": {},
   "outputs": [],
   "source": [
    "new_result_df[new_result_df.label == 4]"
   ]
  },
  {
   "cell_type": "code",
   "execution_count": null,
   "id": "81ca92bb",
   "metadata": {},
   "outputs": [],
   "source": [
    "new_result_df[new_result_df['LR_Long_Z'].abs() > 1.97]\n"
   ]
  },
  {
   "cell_type": "code",
   "execution_count": null,
   "id": "9686bdd9",
   "metadata": {},
   "outputs": [],
   "source": [
    "rank_order_results.ripple_combined_epoch_stats_df[rank_order_results.ripple_combined_epoch_stats_df.label == 4]"
   ]
  },
  {
   "cell_type": "markdown",
   "metadata": {},
   "source": [
    "# 2023-12-19 - Transmition Matricies Version"
   ]
  },
  {
   "cell_type": "code",
   "execution_count": null,
   "id": "9b25dbf2",
   "metadata": {},
   "outputs": [],
   "source": [
    "from PendingNotebookCode import TransitionMatrixComputations"
   ]
  },
  {
   "cell_type": "code",
   "execution_count": null,
   "id": "d769f017",
   "metadata": {},
   "outputs": [],
   "source": [
    "# pf1D = deepcopy(global_pf1D)\n",
    "# pf1D = deepcopy(short_pf1D)\n",
    "# pf1D = deepcopy(long_pf1D)\n",
    "\n",
    "\n",
    "decoders_dict = track_templates.get_decoders_dict()\n",
    "binned_x_transition_matrix_higher_order_list_dict = {}\n",
    "\n",
    "for a_decoder_name, a_decoder in decoders_dict.items():\n",
    "\ta_pf1D = deepcopy(a_decoder.pf)\n",
    "\tbinned_x_transition_matrix_higher_order_list_dict[a_decoder_name] = TransitionMatrixComputations._compute_position_transition_matrix(a_pf1D.xbin_labels, a_pf1D.filtered_pos_df['binned_x'].to_numpy())\n",
    "\n",
    "binned_x_transition_matrix_higher_order_list_dict"
   ]
  },
  {
   "cell_type": "code",
   "execution_count": null,
   "id": "afc8a8c4",
   "metadata": {},
   "outputs": [],
   "source": [
    "# a_decoder.dec\n",
    "\n",
    "long_LR_pf1D_Decoder.active_time_window_centers"
   ]
  },
  {
   "cell_type": "code",
   "execution_count": null,
   "id": "a54e7a68",
   "metadata": {},
   "outputs": [],
   "source": [
    "# Visualization ______________________________________________________________________________________________________ #\n",
    "from pyphoplacecellanalysis.GUI.PyQtPlot.BinnedImageRenderingWindow import BasicBinnedImageRenderingWindow, LayoutScrollability\n",
    "out = BasicBinnedImageRenderingWindow(binned_x_transition_matrix_higher_order_list[2], a_pf1D.xbin_labels, a_pf1D.xbin_labels, name='binned_x_transition_matrix', title=\"Transition Matrix for binned x (from, to)\", variable_label='Transition Matrix', scrollability_mode=LayoutScrollability.NON_SCROLLABLE)\n",
    "\n"
   ]
  },
  {
   "cell_type": "code",
   "execution_count": null,
   "id": "b34b39f9",
   "metadata": {},
   "outputs": [],
   "source": [
    "from scipy.sparse import csr_matrix\n",
    "\n",
    "rank_order_results.LR_laps.spikes_df"
   ]
  },
  {
   "cell_type": "code",
   "execution_count": null,
   "id": "8dd0aefd",
   "metadata": {},
   "outputs": [],
   "source": [
    "def _time_transition_matrix(df, bin_size=0.25): # \"0.25S\"\n",
    "\t# df[\"bin\"] = pd.cut(df[\"t_rel_seconds\"], bins=pd.timedelta_range(df[\"t_rel_seconds\"].min(), df[\"t_rel_seconds\"].max(), freq=bin_size))\n",
    "\t# df[\"bin\"] = pd.cut(\n",
    "\t# \tpd.to_timedelta(df[\"t_rel_seconds\"], unit=\"s\"),\n",
    "\t# \tbins=pd.timedelta_range(df[\"t_rel_seconds\"].min(), df[\"t_rel_seconds\"].max(), freq=bin_size),\n",
    "\t# )\n",
    "\tdef get_bin(seconds):\n",
    "\t\tbin_number = int(seconds // bin_size)\n",
    "\t\treturn bin_number\n",
    "\n",
    "\tdf[\"bin\"] = df[\"t_rel_seconds\"].apply(get_bin)\n",
    "\n",
    "\ttransition_matrix = csr_matrix((\n",
    "\t\tcounts, (i, j)\n",
    "\t) for i, (bin, group) in df.groupby([\"bin\", \"aclu\"]).agg(counts=(\"aclu\", \"count\")).iterrows()\n",
    "\t\tfor j, counts in group.iteritems()\n",
    "\t)\n",
    "\ttransition_matrix /= transition_matrix.sum(axis=1, keepdims=True)\n",
    "\n",
    "\treturn transition_matrix\n",
    "\n",
    "\n",
    "test_spikes_df = deepcopy(rank_order_results.LR_laps.spikes_df)\n",
    "\n",
    "test_spikes_df = test_spikes_df.spikes.add_binned_time_column()\n",
    "\n",
    "# [['t_rel_seconds', 'aclu', 'flat_spike_idx', 'Probe_Epoch_id']]]\n",
    "\n",
    "\n",
    "test_spikes_df\n"
   ]
  },
  {
   "cell_type": "code",
   "execution_count": null,
   "id": "018e0286",
   "metadata": {},
   "outputs": [],
   "source": [
    "transition_matrix = _time_transition_matrix(df=test_spikes_df) #  bin_size=\"0.25S\"\n",
    "transition_matrix"
   ]
  },
  {
   "cell_type": "code",
   "execution_count": null,
   "id": "63242f8a",
   "metadata": {},
   "outputs": [],
   "source": [
    "long_LR_pf1D_Decoder.time_window_centers\n",
    "# long_LR_pf1D_Decoder.decode_specific_epochs\n",
    "long_LR_pf1D_Decoder.p_x_given_n\n",
    "\n",
    "# time_bin_size = 0.25\n",
    "time_bin_size = 0.1\n",
    "manual_time_bin_start_t = curr_active_pipeline.sess.t_start\n",
    "manual_time_bin_end_t = curr_active_pipeline.sess.t_stop\n",
    "\n",
    "print(f'time_bin_size: {time_bin_size}, manual_time_bins: (start_t: {manual_time_bin_start_t}, end_t: {manual_time_bin_end_t})')\n",
    "manual_time_window_edges, manual_time_window_edges_binning_info = compute_spanning_bins(None, bin_size=time_bin_size, variable_start_value=manual_time_bin_start_t, variable_end_value=manual_time_bin_end_t) # np.shape(out_digitized_variable_bins)[0] == np.shape(spikes_df)[0]\n",
    "# debug_print_1D_bin_infos(manual_time_window_edges, 'manual_time_window_edges')\n",
    "\n",
    "## Build the new decoder with custom params:\n",
    "new_decoder_pf_params = deepcopy(active_computation_config.pf_params) # should be a PlacefieldComputationParameters\n",
    "# override some settings before computation:\n",
    "new_decoder_pf_params.time_bin_size = time_bin_size\n",
    "\n",
    "## 1D Decoder\n",
    "new_decoder_pf1D = active_pf_1D\n",
    "new_1D_decoder_spikes_df = new_decoder_pf1D.filtered_spikes_df.copy()\n",
    "new_1D_decoder_spikes_df = new_1D_decoder_spikes_df.spikes.add_binned_time_column(manual_time_window_edges, manual_time_window_edges_binning_info, debug_print=False)\n",
    "new_1D_decoder = BayesianPlacemapPositionDecoder(new_decoder_pf_params.time_bin_size, new_decoder_pf1D, new_1D_decoder_spikes_df, manual_time_window_edges=manual_time_window_edges, manual_time_window_edges_binning_info=manual_time_window_edges_binning_info, debug_print=False)\n",
    "new_1D_decoder.compute_all() #  --> n = self.\n"
   ]
  },
  {
   "cell_type": "code",
   "execution_count": null,
   "id": "71d17566",
   "metadata": {},
   "outputs": [],
   "source": [
    "long_LR_pf1D_Decoder.unit_specific_time_binned_spike_counts.shape"
   ]
  },
  {
   "cell_type": "code",
   "execution_count": null,
   "id": "d58cb435",
   "metadata": {},
   "outputs": [],
   "source": [
    "df"
   ]
  },
  {
   "cell_type": "markdown",
   "metadata": {},
   "source": [
    "## Matplotlib Layout for Pf1Ds"
   ]
  },
  {
   "cell_type": "markdown",
   "id": "ae1581d7",
   "metadata": {},
   "source": [
    "# 2023-12-19 - Builds a 4x1 Pf1D Placefields figure showing each of the two directions (LR/RL) for Long/Short."
   ]
  },
  {
   "cell_type": "code",
   "execution_count": null,
   "id": "8a518f81",
   "metadata": {},
   "outputs": [],
   "source": [
    "from neuropy.plotting.ratemaps import enumTuningMap2DPlotVariables\n",
    "\n",
    "decoders_dict = track_templates.get_decoders_dict()\n",
    "decoders_dict_keys = list(decoders_dict.keys())\n",
    "decoder_context_dict = dict(zip(decoders_dict_keys, (long_LR_context, long_RL_context, short_LR_context, short_RL_context)))\n",
    "\n",
    "print(f'decoders_dict_keys: {decoders_dict_keys}')\n",
    "plot_kwargs = {}\n",
    "mosaic = [\n",
    "        [\"ax_pf_tuning_curve\"],\n",
    "        [\"ax_pf_occupancy\"],\n",
    "    ]\n",
    "fig = plt.figure(layout=\"constrained\")\n",
    "subfigures_dict = dict(zip(list(decoders_dict.keys()), fig.subfigures(nrows=1, ncols=4)))\n",
    "for a_name, a_subfigure in subfigures_dict.items():\n",
    "\taxd = a_subfigure.subplot_mosaic(mosaic, sharex=True, height_ratios=[8, 1], gridspec_kw=dict(wspace=0, hspace=0.15))\n",
    "\ta_decoder = decoders_dict[a_name]\n",
    "\tactive_context = decoder_context_dict[a_name]\n",
    "\tactive_display_ctx = active_context.adding_context('display_fn', display_fn_name='plot_ratemaps_1D')\n",
    "\t# active_display_fn_identifying_ctx = curr_active_pipeline.build_display_context_for_filtered_session(filtered_session_name=a_name, display_fn_name='plot_directional_pf1Ds')\n",
    "\t# active_display_fn_identifying_ctx\n",
    "\tax_pf_1D = a_decoder.pf.plot_ratemaps_1D(ax=axd[\"ax_pf_tuning_curve\"], active_context=active_display_ctx)\n",
    "\tactive_display_ctx = active_context.adding_context('display_fn', display_fn_name='plot_occupancy_1D')\n",
    "\t# active_display_ctx_string = active_display_ctx.get_description(separator='|')\n",
    "\t\n",
    "\tdisplay_outputs = a_decoder.pf.plot_occupancy(fig=a_subfigure, ax=axd[\"ax_pf_occupancy\"], active_context=active_display_ctx, **({} | plot_kwargs))\n",
    "\t\n",
    "\t# plot_variable_name = ({'plot_variable': None} | kwargs)\n",
    "\tplot_variable_name = plot_kwargs.get('plot_variable', enumTuningMap2DPlotVariables.OCCUPANCY).name\n",
    "\tactive_display_ctx = active_display_ctx.adding_context(None, plot_variable=plot_variable_name)\n",
    "        \n",
    "    \n",
    "\n",
    "\n",
    "# axd = right.subplot_mosaic(mosaic)\n",
    "# identify_axes(axd)"
   ]
  },
  {
   "cell_type": "code",
   "execution_count": null,
   "id": "66e2e53d",
   "metadata": {},
   "outputs": [],
   "source": [
    "(long_LR_pf1D, long_RL_pf1D, short_LR_pf1D, short_RL_pf1D)\n"
   ]
  },
  {
   "cell_type": "code",
   "execution_count": null,
   "id": "901438d9",
   "metadata": {},
   "outputs": [],
   "source": [
    "ax_pf_1D = pf1D.plot_ratemaps_1D(active_context=active_display_fn_identifying_ctx, brev_mode=kwargs.pop('brev_mode', PlotStringBrevityModeEnum.MINIMAL), **kwargs)\n",
    "active_figure = plt.gcf()\n",
    "\n",
    "## Setup the plot title and add the session information:\n",
    "session_identifier = computation_result.sess.get_description() # 'sess_bapun_RatN_Day4_2019-10-15_11-30-06'\n",
    "fig_label = f'1d_placefields | {session_identifier} | {active_figure.number}'\n",
    "# print(f'fig_label: {fig_label}')\n",
    "active_figure.set_label(fig_label)\n",
    "active_figure.canvas.manager.set_window_title(fig_label) # sets the window's title"
   ]
  },
  {
   "cell_type": "code",
   "execution_count": null,
   "id": "433803a9",
   "metadata": {},
   "outputs": [],
   "source": []
  },
  {
   "cell_type": "code",
   "execution_count": null,
   "id": "7774962c",
   "metadata": {},
   "outputs": [],
   "source": [
    "\n",
    "def _display_long_short_pf1D_comparison(owning_pipeline_reference, global_computation_results, computation_results, active_configs, include_includelist=None, save_figure=True, included_any_context_neuron_ids=None, **kwargs):\n",
    "\t\t\"\"\" Displays a figure for comparing the 1D placefields across-epochs (between the short and long tracks). By default renders the second track's placefield flipped over the x-axis and hatched. \n",
    "\t\t\tUsage:\n",
    "\n",
    "\t\t\t\t%matplotlib qt\n",
    "\t\t\t\tactive_identifying_session_ctx = curr_active_pipeline.sess.get_context() # 'bapun_RatN_Day4_2019-10-15_11-30-06'\n",
    "\n",
    "\t\t\t\tgraphics_output_dict = curr_active_pipeline.display('_display_long_short_pf1D_comparison', active_identifying_session_ctx)\n",
    "\t\t\t\tfig, axs, plot_data = graphics_output_dict['fig'], graphics_output_dict['axs'], graphics_output_dict['plot_data']\n",
    "\t\t\t\t\n",
    "\n",
    "\t\t\"\"\"\n",
    "\t\treuse_axs_tuple = kwargs.pop('reuse_axs_tuple', None)\n",
    "\t\t# reuse_axs_tuple = None # plot fresh\n",
    "\t\t# reuse_axs_tuple=(ax_long_pf_1D, ax_short_pf_1D)\n",
    "\t\t# reuse_axs_tuple=(ax_long_pf_1D, ax_long_pf_1D) # plot only on long axis\n",
    "\t\tsingle_figure = kwargs.pop('single_figure', True)\n",
    "\t\tdebug_print = kwargs.pop('debug_print', False)\n",
    "\n",
    "\t\tactive_config_name = kwargs.pop('active_config_name', None)\n",
    "\t\tactive_context = kwargs.pop('active_context', owning_pipeline_reference.sess.get_context())\n",
    "\n",
    "\t\tfignum = kwargs.pop('fignum', None)\n",
    "\t\tif fignum is not None:\n",
    "\t\t\tprint(f'WARNING: fignum will be ignored but it was specified as fignum=\"{fignum}\"!')\n",
    "\t\t\n",
    "\n",
    "\t\tdefer_render = kwargs.pop('defer_render', False) \n",
    "\n",
    "\n",
    "\t\t# Plot 1D Keywoard args:\n",
    "\t\tshared_kwargs = kwargs.pop('shared_kwargs', {})\n",
    "\t\tlong_kwargs = kwargs.pop('long_kwargs', {})\n",
    "\t\tshort_kwargs = kwargs.pop('short_kwargs', {})\n",
    "\n",
    "\t\tshared_kwargs['active_context'] = active_context\n",
    "\n",
    "\t\t# Allow overriding the sortby for both long and short if a top-level sortby kwarg is passed:\n",
    "\t\toverride_sortby = kwargs.pop('sortby', None)\n",
    "\t\tif (override_sortby is not None and isinstance(override_sortby, str)):\n",
    "\t\t\tprint(f'override_sortby: {override_sortby} is being used.')\n",
    "\t\t\t# long_sortby = long_kwargs.get('sortby', None)\n",
    "\t\t\t# short_sortby = short_kwargs.get('sortby', None)\n",
    "\t\t\t# assert (not (long_sortby is not None and isinstance(long_sortby, str)) and (short_sortby is not None and isinstance(short_sortby, str))) # assert no valid sortby values are set for the individual kwargs\n",
    "\t\t\tlong_kwargs['sortby'] = override_sortby\n",
    "\t\t\tshort_kwargs['sortby'] = override_sortby\n",
    "\n",
    "\t\tif include_includelist is None:\n",
    "\t\t\tinclude_includelist = owning_pipeline_reference.active_completed_computation_result_names # ['maze', 'sprinkle']\n",
    "\n",
    "\t\tlong_epoch_name = include_includelist[0] # 'maze1_PYR'\n",
    "\t\tshort_epoch_name = include_includelist[1] # 'maze2_PYR'\n",
    "\t\tassert len(include_includelist) > 2\n",
    "\t\tglobal_epoch_name = include_includelist[-1] # 'maze_PYR'\n",
    "\t\tif debug_print:\n",
    "\t\t\tprint(f'include_includelist: {include_includelist}\\nlong_epoch_name: {long_epoch_name}, short_epoch_name: {short_epoch_name}, global_epoch_name: {global_epoch_name}')           \n",
    "\n",
    "\t\tlong_results = computation_results[long_epoch_name]['computed_data']\n",
    "\t\tshort_results = computation_results[short_epoch_name]['computed_data']\n",
    "\n",
    "\t\t# curr_any_context_neurons = _find_any_context_neurons(*[owning_pipeline_reference.computation_results[k].computed_data.pf1D.ratemap.neuron_ids for k in [long_epoch_name, short_epoch_name]])\n",
    "\t\tcurr_any_context_neurons = _find_any_context_neurons(*[a_result.pf1D.ratemap.neuron_ids for a_result in [long_results, short_results]])\n",
    "\n",
    "\t\tif included_any_context_neuron_ids is None:\n",
    "\t\t\tincluded_any_context_neuron_ids = curr_any_context_neurons\n",
    "\t\telse:\n",
    "\t\t\t# include only the specified neuron_ids:\n",
    "\t\t\tincluded_any_context_neuron_ids = curr_any_context_neurons[np.isin(curr_any_context_neurons, included_any_context_neuron_ids)]\n",
    "\n",
    "\t\t# SORT BY LONG PEAK LOCATION: Determine the sort indicies to align the placefields by the position on the long:\n",
    "\t\t### to use this mode, you must pass the string 'peak_long' for both long_kwargs['sortby'] and short_kwargs['sortby']\n",
    "\t\tlong_sortby = long_kwargs.get('sortby', None)\n",
    "\t\tshort_sortby = short_kwargs.get('sortby', None)\n",
    "\t\tif (long_sortby is not None and isinstance(long_sortby, str)) and (short_sortby is not None and isinstance(short_sortby, str)):\n",
    "\t\t\tassert long_sortby == 'peak_long'\n",
    "\t\t\tassert short_sortby == 'peak_long'\n",
    "\t\t\tnew_all_aclus_sort_indicies = determine_long_short_pf1D_indicies_sort_by_peak(owning_pipeline_reference, included_any_context_neuron_ids, debug_print=False)\n",
    "\t\t\t# shared_kwargs['sortby'] = (shared_kwargs.get('sortby', None) or new_all_aclus_sort_indicies)\n",
    "\t\t\tlong_kwargs['sortby'] = new_all_aclus_sort_indicies # (long_kwargs.get('sortby', None) or \n",
    "\t\t\tshort_kwargs['sortby'] = new_all_aclus_sort_indicies # (short_kwargs.get('sortby', None) or \n",
    "\t\t\tprint(f'DEBUG: new_all_aclus_sort_indicies: {new_all_aclus_sort_indicies}')\n",
    "\t\t\n",
    "\t\t(fig_long_pf_1D, ax_long_pf_1D, long_sort_ind, long_neurons_colors_array), (fig_short_pf_1D, ax_short_pf_1D, short_sort_ind, short_neurons_colors_array) = plot_short_v_long_pf1D_comparison(long_results, short_results, included_any_context_neuron_ids, reuse_axs_tuple=reuse_axs_tuple, single_figure=single_figure,\n",
    "\t\t\tshared_kwargs=shared_kwargs, long_kwargs=long_kwargs, short_kwargs=short_kwargs, debug_print=debug_print, **kwargs)\n",
    "\n",
    "\t\tif single_figure:\n",
    "\t\t\tfinal_context = active_context.adding_context('display_fn', display_fn_name='display_short_long_pf1D_comparison')\n",
    "\t\telse:\n",
    "\t\t\tbase_final_context = active_context.adding_context('display_fn', display_fn_name='display_short_long_pf1D_comparison')\n",
    "\t\t\tfinal_context = (base_final_context.overwriting_context(track='long'), base_final_context.overwriting_context(track='short'),) # final context is a tuple of contexts\n",
    "\n",
    "\t\tdef _perform_write_to_file_callback():\n",
    "\t\t\t## 2023-05-31 - Reference Output of matplotlib figure to file, along with building appropriate context.\n",
    "\t\t\tif single_figure:\n",
    "\t\t\t\treturn owning_pipeline_reference.output_figure(final_context, fig_short_pf_1D)\n",
    "\t\t\telse:\n",
    "\t\t\t\towning_pipeline_reference.output_figure(final_context[0], fig_long_pf_1D)\n",
    "\t\t\t\towning_pipeline_reference.output_figure(final_context[1], fig_short_pf_1D)\n",
    "\n",
    "\t\tif save_figure:\n",
    "\t\t\tactive_out_figure_paths = _perform_write_to_file_callback()\n",
    "\t\telse:\n",
    "\t\t\tactive_out_figure_paths = []\n",
    "\n",
    "\t\tgraphics_output_dict = MatplotlibRenderPlots(name='display_short_long_pf1D_comparison', figures=(fig_long_pf_1D, fig_short_pf_1D), axes=(ax_long_pf_1D, ax_short_pf_1D), plot_data={}, context=final_context, saved_figures=active_out_figure_paths)\n",
    "\t\tgraphics_output_dict['plot_data'] = {'included_any_context_neuron_ids': included_any_context_neuron_ids, 'sort_indicies': (long_sort_ind, short_sort_ind), 'colors':(long_neurons_colors_array, short_neurons_colors_array)}\n",
    "\n",
    "\t\treturn graphics_output_dict\n"
   ]
  }
 ],
 "metadata": {
  "kernelspec": {
   "display_name": "spike3d-poetry",
   "language": "python",
   "name": "spike3d-poetry"
  },
  "language_info": {
   "codemirror_mode": {
    "name": "ipython",
    "version": 3
   },
   "file_extension": ".py",
   "mimetype": "text/x-python",
   "name": "python",
   "nbconvert_exporter": "python",
   "pygments_lexer": "ipython3",
   "version": "3.9.13"
  }
 },
 "nbformat": 4,
 "nbformat_minor": 5
}
