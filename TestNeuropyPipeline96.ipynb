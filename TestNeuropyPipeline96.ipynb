{
 "cells": [
  {
   "cell_type": "code",
   "execution_count": 3,
   "id": "a2d982f2-85c8-412d-be00-221e2a8f5d83",
   "metadata": {
    "init_cell": true,
    "scene__Default Scene": true,
    "tags": [
     "ActiveScene"
    ]
   },
   "outputs": [
    {
     "name": "stdout",
     "output_type": "stream",
     "text": [
      "The autoreload extension is already loaded. To reload it, use:\n",
      "  %reload_ext autoreload\n"
     ]
    }
   ],
   "source": [
    "\"\"\"\n",
    "@author: pho\n",
    "\"\"\"\n",
    "%load_ext autoreload\n",
    "%autoreload 2\n",
    "import sys\n",
    "import time\n",
    "import importlib\n",
    "from pathlib import Path\n",
    "from datetime import datetime\n",
    "\n",
    "from numba import jit\n",
    "import numpy as np\n",
    "import pandas as pd\n",
    "\n",
    "%config Completer.use_jedi = False\n",
    "\n",
    "# required to enable non-blocking interaction:\n",
    "%gui qt5\n",
    "\n",
    "import pyphoplacecellanalysis.External.pyqtgraph as pg\n",
    "from pyphoplacecellanalysis.External.pyqtgraph.Qt import QtCore, QtGui\n",
    "import pyphoplacecellanalysis.External.pyqtgraph.opengl as gl # for 3D raster plot\n",
    "\n",
    "# ## Panel:\n",
    "import param\n",
    "# import panel as pn\n",
    "# from panel.interact import interact, interactive, fixed, interact_manual\n",
    "# from panel.viewable import Viewer\n",
    "# pn.extension()\n",
    "\n",
    "# Pho's Formatting Preferences\n",
    "from pyphocorehelpers.preferences_helpers import set_pho_preferences\n",
    "set_pho_preferences()\n",
    "np.set_printoptions(edgeitems=30, linewidth=100000, formatter=dict(float=lambda x: \"%g\" % x))\n",
    "\n",
    "# For Progress bars:\n",
    "from tqdm.notebook import tqdm, trange\n",
    "\n",
    "## Pho's Custom Libraries:\n",
    "from pyphocorehelpers.general_helpers import get_arguments_as_optional_dict, inspect_callable_arguments\n",
    "from pyphocorehelpers.function_helpers import compose_functions\n",
    "from pyphocorehelpers.indexing_helpers import partition, build_spanning_bins, compute_spanning_bins, compute_position_grid_size, compute_paginated_grid_config\n",
    "from pyphocorehelpers.print_helpers import PrettyPrintable, WrappingMessagePrinter, print_keys_if_possible, debug_dump_object_member_shapes\n",
    "from pyphocorehelpers.geometry_helpers import compute_data_extent, compute_data_aspect_ratio, corner_points_from_extents\n",
    "from pyphocorehelpers.DataStructure.dynamic_parameters import DynamicParameters\n",
    "from pyphocorehelpers.performance_timing_helpers import WrappingPerformanceTimer\n",
    "from pyphocorehelpers.gui.interaction_helpers import CallbackWrapper\n",
    "\n",
    "# pyPhoPlaceCellAnalysis:\n",
    "from pyphoplacecellanalysis.General.Pipeline.NeuropyPipeline import NeuropyPipeline # get_neuron_identities\n",
    "from pyphoplacecellanalysis.General.SessionSelectionAndFiltering import batch_filter_session, build_custom_epochs_filters\n",
    "# from pyphoplacecellanalysis.General.ComputationResults import ComputationResult\n",
    "from pyphoplacecellanalysis.General.KnownDataSessionTypeProperties import KnownDataSessionTypeProperties\n",
    "\n",
    "from pyphoplacecellanalysis.General.Pipeline.Stages.DisplayFunctions.DefaultDisplayFunctions import DefaultDisplayFunctions\n",
    "from pyphoplacecellanalysis.General.Pipeline.Stages.DisplayFunctions.Ratemaps import DefaultRatemapDisplayFunctions\n",
    "from pyphoplacecellanalysis.General.Pipeline.Stages.DisplayFunctions.DecoderPredictionError import DefaultDecoderDisplayFunctions\n",
    "from pyphoplacecellanalysis.General.Pipeline.Stages.DisplayFunctions.SpikeRasters import SpikeRastersDisplayFunctions\n",
    "\n",
    "from pyphoplacecellanalysis.GUI.PyQtPlot.Widgets.SpikeRasterWidgets.Spike3DRaster import Spike3DRaster\n",
    "from pyphoplacecellanalysis.GUI.PyQtPlot.Widgets.Mixins.RenderTimeEpochs.Render2DEventRectanglesHelper import Render2DEventRectanglesHelper\n",
    "\n",
    "from pyphoplacecellanalysis.GUI.PyQtPlot.pyqtplot_RasterPlot import plot_raster_plot, _display_pyqtgraph_raster_plot\n",
    "\n",
    "# NeuroPy (Diba Lab Python Repo) Loading\n",
    "from neuropy import core\n",
    "from neuropy.core.session.data_session_loader import DataSessionLoader\n",
    "from neuropy.core.session.dataSession import DataSession\n",
    "from neuropy.core.laps import Laps\n",
    "from neuropy.analyses.placefields import PlacefieldComputationParameters, perform_compute_placefields\n",
    "from neuropy.analyses.laps import estimation_session_laps\n",
    "from neuropy.core.epoch import NamedTimerange\n",
    "\n",
    "from neuropy.analyses.placefields import PlacefieldComputationParameters, perform_compute_placefields\n",
    "from neuropy.core.neuron_identities import NeuronIdentity, build_units_colormap, PlotStringBrevityModeEnum\n",
    "from neuropy.utils.debug_helpers import debug_print_placefield, debug_print_spike_counts, debug_print_subsession_neuron_differences\n",
    "from neuropy.plotting.ratemaps import enumTuningMap2DPlotVariables\n",
    "# from neuropy.utils.mixins.time_slicing import verify_non_overlapping, add_PBE_identity\n",
    "from neuropy.utils.efficient_interval_search import get_non_overlapping_epochs, drop_overlapping\n",
    "\n",
    "known_data_session_type_dict = {'kdiba':KnownDataSessionTypeProperties(load_function=(lambda a_base_dir: DataSessionLoader.kdiba_old_format_session(a_base_dir)),\n",
    "                               basedir=Path(r'R:\\data\\KDIBA\\gor01\\one\\2006-6-07_11-26-53')),\n",
    "                'bapun':KnownDataSessionTypeProperties(load_function=(lambda a_base_dir: DataSessionLoader.bapun_data_session(a_base_dir)),\n",
    "                               basedir=Path('R:\\data\\Bapun\\Day5TwoNovel'))\n",
    "               }\n",
    "known_data_session_type_dict['kdiba'].post_load_functions = [lambda a_loaded_sess: estimation_session_laps(a_loaded_sess)]\n",
    "\n",
    "enable_saving_to_disk = False\n",
    "# common_parent_foldername = Path(r'R:\\Dropbox (Personal)\\Active\\Kamran Diba Lib\\Pho-Kamran-Meetings\\Final Placemaps 2021-01-14')\n",
    "common_parent_foldername = Path(r'R:\\Dropbox (Personal)\\Active\\Kamran Diba Lib\\Pho-Kamran-Meetings\\2022-01-16')\n",
    "\n",
    "def compute_position_grid_bin_size(x, y, num_bins=(64,64), debug_print=False):\n",
    "    \"\"\" Compute Required Bin size given a desired number of bins in each dimension\n",
    "    Usage:\n",
    "        active_grid_bin = compute_position_grid_bin_size(curr_kdiba_pipeline.sess.position.x, curr_kdiba_pipeline.sess.position.y, num_bins=(64, 64)\n",
    "    \"\"\"\n",
    "    out_grid_bin_size, out_bins, out_bins_infos = compute_position_grid_size(x, y, num_bins=num_bins)\n",
    "    active_grid_bin = tuple(out_grid_bin_size)\n",
    "    if debug_print:\n",
    "        print(f'active_grid_bin: {active_grid_bin}') # (3.776841861770752, 1.043326930905373)\n",
    "    return active_grid_bin\n",
    "\n",
    "# WARNING! TODO: Changing the smooth values from (1.5, 1.5) to (0.5, 0.5) was the difference between successful running and a syntax error!\n",
    "# try:\n",
    "#     active_grid_bin\n",
    "# except NameError as e:\n",
    "#     print('setting active_grid_bin = None')\n",
    "#     active_grid_bin = None\n",
    "# finally:\n",
    "#     # active_session_computation_config = PlacefieldComputationParameters(speed_thresh=10.0, grid_bin=active_grid_bin, smooth=(1.0, 1.0), frate_thresh=0.2, time_bin_size=0.5) # if active_grid_bin is missing, figure out the name\n",
    "#     active_session_computation_config = PlacefieldComputationParameters(speed_thresh=10.0, grid_bin=active_grid_bin, smooth=(1.0, 1.0), frate_thresh=0.2, time_bin_size=0.5) # if active_grid_bin is missing, figure out the name\n",
    "\n",
    "## Dynamic mode:\n",
    "def _build_active_computation_configs(sess):\n",
    "    \"\"\" _get_computation_configs(curr_kdiba_pipeline.sess)\n",
    "        # From Diba:\n",
    "        # (3.777, 1.043) # for (64, 64) bins\n",
    "        # (1.874, 0.518) # for (128, 128) bins\n",
    "\n",
    "    \"\"\"\n",
    "    # active_grid_bin = compute_position_grid_bin_size(sess.position.x, sess.position.y, num_bins=(64, 64))\n",
    "    # active_session_computation_config.computation_epochs = None # set the placefield computation epochs to None, using all epochs.\n",
    "    # return [PlacefieldComputationParameters(speed_thresh=10.0, grid_bin=compute_position_grid_bin_size(sess.position.x, sess.position.y, num_bins=(64, 64)), smooth=(1.0, 1.0), frate_thresh=0.2, time_bin_size=0.5, computation_epochs = None)]\n",
    "    # return [PlacefieldComputationParameters(speed_thresh=10.0, grid_bin=compute_position_grid_bin_size(sess.position.x, sess.position.y, num_bins=(128, 128)), smooth=(2.0, 2.0), frate_thresh=0.2, time_bin_size=0.5, computation_epochs = None)]\n",
    "\n",
    "    # return [PlacefieldComputationParameters(speed_thresh=10.0, grid_bin=compute_position_grid_bin_size(sess.position.x, sess.position.y, num_bins=(64, 64)), smooth=(2.0, 2.0), frate_thresh=0.2, time_bin_size=1.0, computation_epochs = None)]\n",
    "    # return [DynamicParameters(pf_params=PlacefieldComputationParameters(speed_thresh=10.0, grid_bin=compute_position_grid_bin_size(sess.position.x, sess.position.y, num_bins=(64, 64)), smooth=(2.0, 2.0), frate_thresh=0.2, time_bin_size=1.0, computation_epochs = None),\n",
    "    #                           spike_analysis=DynamicParameters(max_num_spikes_per_neuron=10000, kleinberg_parameters=DynamicParameters(s=2, gamma=0.1), use_progress_bar=True, debug_print=False))]\n",
    "    \n",
    "    # gamma = 1.0:\n",
    "    return [DynamicParameters(pf_params=PlacefieldComputationParameters(speed_thresh=10.0, grid_bin=compute_position_grid_bin_size(sess.position.x, sess.position.y, num_bins=(64, 64)), smooth=(2.0, 2.0), frate_thresh=0.2, time_bin_size=1.0, computation_epochs = None),\n",
    "                          spike_analysis=DynamicParameters(max_num_spikes_per_neuron=20000, kleinberg_parameters=DynamicParameters(s=2, gamma=0.2), use_progress_bar=True, debug_print=False))]\n",
    "\n",
    "    # return [PlacefieldComputationParameters(speed_thresh=10.0, grid_bin=(3.777, 1.043), smooth=(1.0, 1.0), frate_thresh=0.2, time_bin_size=0.5, computation_epochs = None)]\n",
    "\n",
    "    # return [PlacefieldComputationParameters(speed_thresh=10.0, grid_bin=compute_position_grid_bin_size(sess.position.x, sess.position.y, num_bins=(32, 32)), smooth=(1.0, 1.0), frate_thresh=0.2, time_bin_size=0.5, computation_epochs = None),\n",
    "    #         PlacefieldComputationParameters(speed_thresh=10.0, grid_bin=compute_position_grid_bin_size(sess.position.x, sess.position.y, num_bins=(64, 64)), smooth=(1.0, 1.0), frate_thresh=0.2, time_bin_size=0.5, computation_epochs = None),\n",
    "    #         PlacefieldComputationParameters(speed_thresh=10.0, grid_bin=compute_position_grid_bin_size(sess.position.x, sess.position.y, num_bins=(128, 128)), smooth=(1.0, 1.0), frate_thresh=0.2, time_bin_size=0.5, computation_epochs = None),\n",
    "    #        ]\n",
    "\n",
    "def JupyterLab_excepthook(exc_type, exc_value, exc_tb):\n",
    "    tb = \"\".join(traceback.format_exception(exc_type, exc_value, exc_tb))\n",
    "    print(\"JupyterLab_excepthook error catched!:\")\n",
    "    print(\"\\t error message:\\n\", tb)\n",
    "    QtWidgets.QApplication.quit()\n",
    "    # or QtWidgets.QApplication.exit(0)\n",
    "    \n",
    "sys.excepthook = JupyterLab_excepthook\n",
    "\n",
    "## Concise Numpy Array Printing:\n",
    "# np.set_string_function(lambda x:f'np.array[{np.shape(x)}]', repr=True)\n",
    "np.set_string_function(None, repr=True)"
   ]
  },
  {
   "cell_type": "markdown",
   "id": "20d74741-909c-4aeb-aed9-68f35bb91bba",
   "metadata": {
    "init_cell": true,
    "scene__Default Scene": true,
    "tags": [
     "ActiveScene"
    ]
   },
   "source": [
    "# Updated NeuroPy Format Spec Testing"
   ]
  },
  {
   "cell_type": "code",
   "execution_count": 4,
   "id": "f064f334-bb75-4bc9-83f4-6b5a56245309",
   "metadata": {
    "init_cell": true,
    "scene__Default Scene": true,
    "tags": [
     "ActiveScene"
    ]
   },
   "outputs": [
    {
     "data": {
      "text/plain": [
       "{'DataSessionFormatBaseRegisteredClass': neuropy.core.session.Formats.BaseDataSessionFormats.DataSessionFormatBaseRegisteredClass,\n",
       " 'BapunDataSessionFormatRegisteredClass': neuropy.core.session.Formats.Specific.BapunDataSessionFormat.BapunDataSessionFormatRegisteredClass,\n",
       " 'KDibaOldDataSessionFormatRegisteredClass': neuropy.core.session.Formats.Specific.KDibaOldDataSessionFormat.KDibaOldDataSessionFormatRegisteredClass}"
      ]
     },
     "execution_count": 4,
     "metadata": {},
     "output_type": "execute_result"
    }
   ],
   "source": [
    "from neuropy.core.session.Formats.BaseDataSessionFormats import DataSessionFormatRegistryHolder, DataSessionFormatBaseRegisteredClass\n",
    "from neuropy.core.session.Formats.Specific.BapunDataSessionFormat import BapunDataSessionFormatRegisteredClass\n",
    "from neuropy.core.session.Formats.Specific.KDibaOldDataSessionFormat import KDibaOldDataSessionFormatRegisteredClass\n",
    "DataSessionFormatRegistryHolder.get_registry()"
   ]
  },
  {
   "cell_type": "code",
   "execution_count": null,
   "id": "f0242034-17fa-4317-a30c-18e2aba6f7fe",
   "metadata": {
    "init_cell": true,
    "scene__Default Scene": true,
    "tags": [
     "ActiveScene"
    ]
   },
   "outputs": [],
   "source": [
    "session.recinfo.eeg_filename"
   ]
  },
  {
   "cell_type": "code",
   "execution_count": null,
   "id": "2d11f87c-2edb-4cf8-b7a1-3e69e61c8965",
   "metadata": {
    "init_cell": true,
    "scene__Default Scene": true,
    "tags": [
     "ActiveScene"
    ]
   },
   "outputs": [],
   "source": [
    "                                        ]"
   ]
  },
  {
   "cell_type": "code",
   "execution_count": null,
   "id": "ffa56444-4062-48ca-a947-64a3283194bd",
   "metadata": {
    "init_cell": true,
    "scene__Default Scene": true,
    "tags": [
     "ActiveScene"
    ]
   },
   "outputs": [],
   "source": []
  },
  {
   "cell_type": "code",
   "execution_count": null,
   "id": "d8cbdfd9-9a41-4c5b-a18d-24edf4689870",
   "metadata": {
    "init_cell": true,
    "scene__Default Scene": true,
    "tags": [
     "ActiveScene"
    ]
   },
   "outputs": [],
   "source": [
    "_test_session = BapunDataSessionFormatRegisteredClass.build_session(Path('R:\\data\\Bapun\\Day5TwoNovel'))\n",
    "_test_session, loaded_file_record_list = BapunDataSessionFormatRegisteredClass.load_session(_test_session)\n",
    "_test_session\n",
    "# _test_session.config.session_spec.required_files\n",
    "loaded_file_record_list"
   ]
  },
  {
   "cell_type": "code",
   "execution_count": null,
   "id": "e021b8fc-ffd5-4bed-a83a-54e0182360f9",
   "metadata": {
    "init_cell": true,
    "scene__Default Scene": true,
    "tags": [
     "ActiveScene"
    ]
   },
   "outputs": [],
   "source": [
    "_test_session.basepath"
   ]
  },
  {
   "cell_type": "code",
   "execution_count": null,
   "id": "37723051-1812-446c-bf8f-ab9557c2109f",
   "metadata": {
    "init_cell": true,
    "scene__Default Scene": true,
    "tags": [
     "ActiveScene"
    ]
   },
   "outputs": [],
   "source": [
    "_test_session.recinfo.dat_filename\n",
    "_test_session.recinfo.eeg_filename.name # 'RatS-Day5TwoNovel-2020-12-04_07-55-09.eeg'\n",
    "_test_session.recinfo.eeg_filename.stem # 'RatS-Day5TwoNovel-2020-12-04_07-55-09'"
   ]
  },
  {
   "cell_type": "code",
   "execution_count": null,
   "id": "67b28872-d795-44a7-8b51-682a66e7ca5a",
   "metadata": {
    "init_cell": true,
    "scene__Default Scene": true,
    "tags": [
     "ActiveScene"
    ]
   },
   "outputs": [],
   "source": [
    "_test_session.recinfo.eeg_filename.suffix # '.eeg'\n",
    "_test_session.recinfo.eeg_filename.suffixes"
   ]
  },
  {
   "cell_type": "code",
   "execution_count": null,
   "id": "54345638-c4a0-489f-88b2-c586914c787e",
   "metadata": {
    "init_cell": true,
    "scene__Default Scene": true,
    "tags": [
     "ActiveScene"
    ]
   },
   "outputs": [],
   "source": [
    "_test_session = KDibaOldDataSessionFormatRegisteredClass.build_session(Path(r'R:\\data\\KDIBA\\gor01\\one\\2006-6-07_11-26-53'))\n",
    "_test_session, loaded_file_record_list = KDibaOldDataSessionFormatRegisteredClass.load_session(_test_session)\n",
    "_test_session\n",
    "# _test_session.config.session_spec.required_files\n",
    "loaded_file_record_list"
   ]
  },
  {
   "cell_type": "code",
   "execution_count": null,
   "id": "48f1db66-a6e0-4da8-8ffd-abf53a4234f5",
   "metadata": {
    "init_cell": true,
    "scene__Default Scene": true,
    "tags": [
     "ActiveScene"
    ]
   },
   "outputs": [],
   "source": [
    "_test_session = DataSessionLoader._default_kdiba_flat_spikes_load_session_folder({'basepath': _test_session.basepath, 'session_obj': _test_session})"
   ]
  },
  {
   "cell_type": "markdown",
   "id": "8eceb354-7fa7-4064-ba26-4e989b9f3354",
   "metadata": {
    "tags": []
   },
   "source": [
    "## Bapun Format:"
   ]
  },
  {
   "cell_type": "code",
   "execution_count": 7,
   "id": "20843de4-9a94-42f7-80a9-f2c8d5704b62",
   "metadata": {},
   "outputs": [
    {
     "name": "stdout",
     "output_type": "stream",
     "text": [
      "basedir is already Path object.\n",
      "remaining_required_filespecs: {WindowsPath('R:/data/Bapun/Day5TwoNovel/RatS-Day5TwoNovel-2020-12-04_07-55-09.neurons.npy'): SessionFileSpec(fileSpecString='{}.neurons.npy', suggestedBaseName='RatS-Day5TwoNovel-2020-12-04_07-55-09', description='The numpy data file containing information about neural activity.', session_load_callback=<bound method BapunDataSessionFormatRegisteredClass._load_neurons_file of <class 'neuropy.core.session.Formats.Specific.BapunDataSessionFormat.BapunDataSessionFormatRegisteredClass'>>), WindowsPath('R:/data/Bapun/Day5TwoNovel/RatS-Day5TwoNovel-2020-12-04_07-55-09.probegroup.npy'): SessionFileSpec(fileSpecString='{}.probegroup.npy', suggestedBaseName='RatS-Day5TwoNovel-2020-12-04_07-55-09', description='The numpy data file containing information about the spatial layout of recording probes', session_load_callback=<bound method BapunDataSessionFormatRegisteredClass._load_probegroup_file of <class 'neuropy.core.session.Formats.Specific.BapunDataSessionFormat.BapunDataSessionFormatRegisteredClass'>>), WindowsPath('R:/data/Bapun/Day5TwoNovel/RatS-Day5TwoNovel-2020-12-04_07-55-09.position.npy'): SessionFileSpec(fileSpecString='{}.position.npy', suggestedBaseName='RatS-Day5TwoNovel-2020-12-04_07-55-09', description='The numpy data file containing the recorded animal positions (as generated by optitrack) over time.', session_load_callback=<bound method BapunDataSessionFormatRegisteredClass._load_position_file of <class 'neuropy.core.session.Formats.Specific.BapunDataSessionFormat.BapunDataSessionFormatRegisteredClass'>>), WindowsPath('R:/data/Bapun/Day5TwoNovel/RatS-Day5TwoNovel-2020-12-04_07-55-09.paradigm.npy'): SessionFileSpec(fileSpecString='{}.paradigm.npy', suggestedBaseName='RatS-Day5TwoNovel-2020-12-04_07-55-09', description='The numpy data file containing the recording epochs. Each epoch is defined as a: (label:str, t_start: float (in seconds), t_end: float (in seconds))', session_load_callback=<bound method BapunDataSessionFormatRegisteredClass._load_paradigm_file of <class 'neuropy.core.session.Formats.Specific.BapunDataSessionFormat.BapunDataSessionFormatRegisteredClass'>>)}\n",
      "converting neuron_type strings to core.neurons.NeuronType objects...\n",
      "\t done.\n",
      "Issue with pickled POSIX_PATH on windows for path R:\\data\\Bapun\\Day5TwoNovel\\RatS-Day5TwoNovel-2020-12-04_07-55-09.probegroup.npy, falling back to non-pickled version...\n",
      "Position falling back to legacy loading protocol...: dict_rep: {'traces': array([[-50.9464, -50.9464, -50.9464, -50.9464, -50.9464, -50.9464, -50.9464, -50.9464, -50.9464, -50.9464, -50.9464, -50.9464, -50.9464, -50.9464, -50.9464, -50.9464, -50.9464, -50.9464, -50.9464, -50.9464, -50.9464, -50.9464, -50.9464, -50.9464, -50.9464, -50.9464, -50.9464, -50.9464, -50.9464, -50.9464, ..., -45.3502, -45.3502, -45.3502, -45.3502, -45.3502, -45.3502, -45.3502, -45.3502, -45.3502, -45.3502, -45.3502, -45.3502, -45.3502, -45.3502, -45.3502, -45.3502, -45.3502, -45.3502, -45.3502, -45.3502, -45.3502, -45.3502, -45.3502, -45.3502, -45.3502, -45.3502, -45.3502, -45.3502, -45.3502, -45.3502],\n",
      "       [-50.6463, -50.6463, -50.6463, -50.6463, -50.6463, -50.6463, -50.6463, -50.6463, -50.6463, -50.6463, -50.6463, -50.6463, -50.6463, -50.6463, -50.6463, -50.6463, -50.6463, -50.6463, -50.6463, -50.6463, -50.6463, -50.6463, -50.6463, -50.6463, -50.6463, -50.6463, -50.6463, -50.6463, -50.6463, -50.6463, ..., 64.1508, 64.1508, 64.1508, 64.1508, 64.1508, 64.1508, 64.1508, 64.1508, 64.1508, 64.1508, 64.1508, 64.1508, 64.1508, 64.1508, 64.1508, 64.1508, 64.1508, 64.1508, 64.1508, 64.1508, 64.1508, 64.1508, 64.1508, 64.1508, 64.1508, 64.1508, 64.1508, 64.1508, 64.1508, 64.1508],\n",
      "       [7.1249, 7.1249, 7.1249, 7.1249, 7.1249, 7.1249, 7.1249, 7.1249, 7.1249, 7.1249, 7.1249, 7.1249, 7.1249, 7.1249, 7.1249, 7.1249, 7.1249, 7.1249, 7.1249, 7.1249, 7.1249, 7.1249, 7.1249, 7.1249, 7.1249, 7.1249, 7.1249, 7.1249, 7.1249, 7.1249, ..., 5.57133, 5.57133, 5.57133, 5.57133, 5.57133, 5.57133, 5.57133, 5.57133, 5.57133, 5.57133, 5.57133, 5.57133, 5.57133, 5.57133, 5.57133, 5.57133, 5.57133, 5.57133, 5.57133, 5.57133, 5.57133, 5.57133, 5.57133, 5.57133, 5.57133, 5.57133, 5.57133, 5.57133, 5.57133, 5.57133]]), 'computed_traces': array([[nan, nan, nan, nan, nan, nan, nan, nan, nan, nan, nan, nan, nan, nan, nan, nan, nan, nan, nan, nan, nan, nan, nan, nan, nan, nan, nan, nan, nan, nan, ..., nan, nan, nan, nan, nan, nan, nan, nan, nan, nan, nan, nan, nan, nan, nan, nan, nan, nan, nan, nan, nan, nan, nan, nan, nan, nan, nan, nan, nan, nan]]), 't_start': 0, 'sampling_rate': 60, 'metadata': None}\n"
     ]
    },
    {
     "name": "stderr",
     "output_type": "stream",
     "text": [
      "c:\\users\\pho\\repos\\neuropy\\neuropy\\core\\session\\Formats\\SessionSpecifications.py:141: UserWarning: WARNING: Optional File: \"R:\\data\\Bapun\\Day5TwoNovel\\2006-6-07_11-26-53.eeg\" does not exist. Continuing without it.\n",
      "  warnings.warn(f'WARNING: Optional File: \"{an_optional_filepath}\" does not exist. Continuing without it.')\n",
      "c:\\users\\pho\\repos\\neuropy\\neuropy\\core\\session\\Formats\\SessionSpecifications.py:141: UserWarning: WARNING: Optional File: \"R:\\data\\Bapun\\Day5TwoNovel\\2006-6-07_11-26-53.dat\" does not exist. Continuing without it.\n",
      "  warnings.warn(f'WARNING: Optional File: \"{an_optional_filepath}\" does not exist. Continuing without it.')\n",
      "c:\\users\\pho\\repos\\neuropy\\neuropy\\core\\session\\Formats\\SessionSpecifications.py:141: UserWarning: WARNING: Optional File: \"R:\\data\\Bapun\\Day5TwoNovel\\RatS-Day5TwoNovel-2020-12-04_07-55-09.dat\" does not exist. Continuing without it.\n",
      "  warnings.warn(f'WARNING: Optional File: \"{an_optional_filepath}\" does not exist. Continuing without it.')\n"
     ]
    },
    {
     "name": "stdout",
     "output_type": "stream",
     "text": [
      "linearized position loaded from file.\n",
      "Loading success: .flattened.spikes.npy.\n",
      "Loading success: .ripple.npy.\n",
      "Loading success: .mua.npy.\n",
      "Loading success: .pbe.npy.\n",
      "encounter KeyError 't_rel_seconds' when attempting to access spk_df using its spk_df.spikes.time_variable_name variable. Original spk_df.spikes.time_variable_name: \"t_rel_seconds\". Changing it to \"t_seconds\" and proceeding forward\n",
      "WARNING: SpikesAccessor.set_time_variable_name(new_time_variable_name: t_seconds) has been called. Be careful!\n",
      "\t time variable changed!\n",
      "Computing added spike scISI column results to filepath?... done.\n"
     ]
    }
   ],
   "source": [
    "# curr_bapun_pipeline = NeuropyPipeline(name='bapun_pipeline', session_data_type='bapun', basedir=known_data_session_type_dict['bapun'].basedir, load_function=known_data_session_type_dict['bapun'].load_function)\n",
    "curr_bapun_pipeline = NeuropyPipeline.init_from_known_data_session_type('bapun', known_data_session_type_dict['bapun'])\n",
    "active_session_computation_configs = _build_active_computation_configs(curr_bapun_pipeline.sess)\n",
    "# active_session_computation_config.grid_bin = compute_position_grid_bin_size(curr_bapun_pipeline.sess.position.x, curr_bapun_pipeline.sess.position.y, num_bins=(64, 64))"
   ]
  },
  {
   "cell_type": "code",
   "execution_count": null,
   "id": "3d960664-2900-4922-9dca-cdccac6b7ce2",
   "metadata": {
    "pycharm": {
     "is_executing": false
    },
    "scrolled": true
   },
   "outputs": [],
   "source": [
    "# Bapun/DataFrame style session filter functions:\n",
    "def build_bapun_any_epochs_filters(sess):\n",
    "    return build_custom_epochs_filters(sess)\n",
    "    \n",
    "def build_bapun_any_maze_epochs_filters(sess):\n",
    "    # all_filters = build_custom_epochs_filters(sess)\n",
    "    # # print(f'all_filters: {all_filters}')\n",
    "    # maze_only_filters = dict()\n",
    "    # for (name, filter_fcn) in all_filters.items():\n",
    "    #     if 'maze' in name:\n",
    "    #         maze_only_filters[name] = filter_fcn\n",
    "    # maze_only_filters = build_custom_epochs_filters(sess, included_epoch_labels=['maze1','maze2'])\n",
    "    # { key:value for (key,value) in dictOfNames.items() if key % 2 == 0}\n",
    "    # dict(filter(lambda elem: len(elem[1]) == 6,dictOfNames.items()))\n",
    "    # maze_only_name_filter_fn = lambda dict: dict(filter(lambda elem: 'maze' in elem[0], dict.items()))\n",
    "    maze_only_name_filter_fn = lambda names: list(filter(lambda elem: elem.startswith('maze'), names))\n",
    "    # print(f'callable(maze_only_name_filter_fn): {callable(maze_only_name_filter_fn)}')\n",
    "    # print(maze_only_name_filter_fn(['pre', 'maze1', 'post1', 'maze2', 'post2']))\n",
    "    # lambda elem: elem[0] % 2 == 0\n",
    "    maze_only_filters = build_custom_epochs_filters(sess, included_epoch_labels=maze_only_name_filter_fn)\n",
    "    # print(f'maze_only_filters: {maze_only_filters}')\n",
    "    return maze_only_filters\n",
    "\n",
    "# active_session_filter_configurations = build_bapun_any_epochs_filters(curr_bapun_pipeline.sess)\n",
    "active_session_filter_configurations = build_bapun_any_maze_epochs_filters(curr_bapun_pipeline.sess)\n",
    "# print(f'active_session_filter_configurations: {active_session_filter_configurations}')\n",
    "curr_bapun_pipeline.filter_sessions(active_session_filter_configurations)\n",
    "for i in np.arange(len(active_session_computation_configs)):\n",
    "    active_session_computation_configs[i].computation_epochs = None  # set the placefield computation epochs to None, using all epochs.\n",
    "curr_bapun_pipeline.perform_computations(active_session_computation_configs[0])\n",
    "curr_bapun_pipeline.prepare_for_display(should_smooth_maze=False) # TODO: pass a display config\n",
    "# Set curr_active_pipeline for testing:\n",
    "curr_active_pipeline = curr_bapun_pipeline"
   ]
  },
  {
   "cell_type": "code",
   "execution_count": null,
   "id": "5dcac021-a6e2-42ed-b897-7a815990fa3b",
   "metadata": {
    "pycharm": {
     "is_executing": false
    },
    "scrolled": true
   },
   "outputs": [],
   "source": [
    "# session, spikes_df = DataSessionLoader._default_compute_spike_interpolated_positions_if_needed(session, spikes_df, time_variable_name=active_time_variable_name)\n",
    "curr_neurons = curr_bapun_pipeline.sess.neurons\n",
    "bak_spikes_df = curr_neurons.spike"
   ]
  },
  {
   "cell_type": "code",
   "execution_count": null,
   "id": "99d92a3d-fb11-4219-8f99-97e6ba9171a0",
   "metadata": {
    "pycharm": {
     "is_executing": false
    },
    "scrolled": true
   },
   "outputs": [],
   "source": [
    "from neuropy.core.flattened_spiketrains import FlattenedSpiketrains\n",
    "\n",
    "def _test_default_compute_bapun_flattened_spikes(session, timestamp_scale_factor=(1/1E4)):\n",
    "    def __unpack_variables(active_session):\n",
    "        # Spike variables: num_cells, spike_list, cell_ids, flattened_spikes\n",
    "        num_cells = active_session.neurons.n_neurons\n",
    "        spike_list = active_session.neurons.spiketrains\n",
    "        cell_ids = active_session.neurons.neuron_ids\n",
    "        # flattened_spikes = active_session.neurons.get_flattened_spikes() # get_flattened_spikes(..) returns a FlattenedSpiketrains object\n",
    "\n",
    "        # session.neurons.get_flattened_spikes()\n",
    "        # Gets the flattened spikes, sorted in ascending timestamp for all cells. Returns a FlattenedSpiketrains object\n",
    "        flattened_spike_identities = np.concatenate([np.full((active_session.neurons.n_spikes[i],), active_session.neurons.neuron_ids[i]) for i in np.arange(active_session.neurons.n_neurons)]) # repeat the neuron_id for each spike that belongs to that neuron\n",
    "        flattened_spike_times = np.concatenate(active_session.neurons.spiketrains)\n",
    "        # Get the indicies required to sort the flattened_spike_times\n",
    "        flattened_sort_indicies = np.argsort(flattened_spike_times)\n",
    "        t_start = active_session.neurons.t_start\n",
    "\n",
    "        # reverse_cellID_idx_lookup_map = build_cellID_reverse_lookup_map(cell_ids)\n",
    "        reverse_cellID_idx_lookup_map = active_session.neurons.reverse_cellID_index_map\n",
    "\n",
    "        # Position variables: t, x, y\n",
    "        t = active_session.position.time\n",
    "        x = active_session.position.x\n",
    "        y = active_session.position.y\n",
    "        linear_pos = active_session.position.linear_pos\n",
    "        speeds = active_session.position.speed \n",
    "\n",
    "        return num_cells, spike_list, cell_ids, flattened_spike_identities, flattened_spike_times, flattened_sort_indicies, t_start, reverse_cellID_idx_lookup_map, t, x, y, linear_pos, speeds\n",
    "\n",
    "    num_cells, spike_list, cell_ids, flattened_spike_identities, flattened_spike_times, flattened_sort_indicies, t_start, reverse_cellID_idx_lookup_map, t, x, y, linear_pos, speeds = __unpack_variables(session)\n",
    "\n",
    "    # len(t): 2538347\n",
    "    # len(speeds): 2538347\n",
    "    ## Note, t, x, y, ... other position variables are not the positions per spike, but instead the tracked positions!\n",
    "    # num_flattened_spikes: 16318817\n",
    "\n",
    "    # flattened_spike_identities = flattened_spike_identities[flattened_sort_indicies],\n",
    "    # flattened_spike_times = flattened_spike_times[flattened_sort_indicies],\n",
    "\n",
    "    # Determine the x and y positions each spike occured for each cell\n",
    "    # spike_positions_list = build_spike_positions_list(session.neurons.spiketrains, t, x, y)\n",
    "    num_flattened_spikes = np.size(flattened_spike_times[flattened_sort_indicies])\n",
    "    print('len(t): {}'.format(len(t)))\n",
    "    print('len(speeds): {}'.format(len(speeds)))\n",
    "    print('num_flattened_spikes: {}'.format(num_flattened_spikes))\n",
    "\n",
    "    spikes_df = pd.DataFrame({'flat_spike_idx': np.arange(num_flattened_spikes),\n",
    "        't_seconds':flattened_spike_times[flattened_sort_indicies],\n",
    "        'aclu':flattened_spike_identities[flattened_sort_indicies],\n",
    "        'unit_id': np.array([int(reverse_cellID_idx_lookup_map[original_cellID]) for original_cellID in flattened_spike_identities[flattened_sort_indicies]]),\n",
    "        }\n",
    "    )\n",
    "\n",
    "    # flattened_spike_active_unitIdentities = np.array([int(reverse_cellID_idx_lookup_map[original_cellID]) for original_cellID in flattened_spike_identities[flattened_sort_indicies]]) # since flattened_spike_identities[flattened_sort_indicies] is already sorted, don't double sort\n",
    "\n",
    "    ## TODO: is flattened_spike_active_unitIdentities needed?\n",
    "    # spikes_df['active_unitIdentities'] = flattened_spike_active_unitIdentities\n",
    "\n",
    "    _temp = np.array([int(reverse_cellID_idx_lookup_map[original_cellID]) for original_cellID in session.neurons.neuron_ids])\n",
    "    spikes_df['cell_type'] = [session.neurons.neuron_type[_temp[a_spike_unit_id]] for a_spike_unit_id in spikes_df['aclu'].values]\n",
    "\n",
    "    # Determine the x and y positions each spike occured for each cell\n",
    "    print('__default_compute_bapun_flattened_spikes(session): interpolating {} position values over {} spike timepoints. This may take a minute...'.format(len(t), num_flattened_spikes))\n",
    "    ## TODO: spike_positions_list is in terms of cell_ids for some reason, maybe it's temporary?\n",
    "    num_cells = len(spike_list)\n",
    "    spike_positions_list = list()\n",
    "    for cell_id in np.arange(num_cells):\n",
    "        spike_positions_list.append(np.vstack((np.interp(spike_list[cell_id], t, x), np.interp(spike_list[cell_id], t, y), np.interp(spike_list[cell_id], t, linear_pos), np.interp(spike_list[cell_id], t, speeds))))\n",
    "\n",
    "    # Gets the flattened spikes, sorted in ascending timestamp for all cells.\n",
    "    # Build the Active UnitIDs        \n",
    "    # reverse_cellID_idx_lookup_map: get the current filtered index for this cell given using reverse_cellID_idx_lookup_map\n",
    "    ## Build the flattened spike positions list\n",
    "    flattened_spike_positions_list = np.concatenate(tuple(spike_positions_list), axis=1) # needs tuple(...) to conver the list into a tuple, which is the format it expects\n",
    "    flattened_spike_positions_list = flattened_spike_positions_list[:, flattened_sort_indicies] # ensure the positions are ordered the same as the other flattened items so they line up\n",
    "    print('flattened_spike_positions_list: {}'.format(np.shape(flattened_spike_positions_list))) # (2, 19647)\n",
    "\n",
    "    spikes_df['x'] = flattened_spike_positions_list[0, :]\n",
    "    spikes_df['y'] = flattened_spike_positions_list[1, :]\n",
    "    spikes_df['linear_pos'] = flattened_spike_positions_list[2, :]\n",
    "    spikes_df['speed'] = flattened_spike_positions_list[3, :]\n",
    "\n",
    "    # spikes_df['qclu'] = session.neurons.neuron_type[reverse_cellID_idx_lookup_map[spikes_df['aclu']] ]\n",
    "\n",
    "    # flattened_spike_active_unitIdentities = np.array([int(reverse_cellID_idx_lookup_map[original_cellID]) for original_cellID in flattened_spike_identities[flattened_sort_indicies]]) # since flattened_spike_identities[flattened_sort_indicies] \n",
    "\n",
    "    # still needs: 'cell_type', 'lap', and maybe 't' to match the Diba format.\n",
    "    # note that the 'x', 'y' columns in the Diba df seem to be bound between 0.0-1.0 but this currently produces values like -50.946354 for x\n",
    "    # spikes_df['cell_type'] = NeuronType.from_qclu_series(qclu_Series=spikes_df['qclu'])\n",
    "\n",
    "    # add times in seconds both to the dict and the spikes_df under a new key:\n",
    "    # spikes_df['t_seconds'] = spikes_df['t'] * timestamp_scale_factor\n",
    "    spikes_df['t'] = spikes_df['t_seconds'] / timestamp_scale_factor\n",
    "    # spikes_df['flat_spike_idx'] = np.array(spikes_df.index)\n",
    "    session.flattened_spiketrains = FlattenedSpiketrains(spikes_df, t_start=t_start) # FlattenedSpiketrains(spikes_df)\n",
    "    \n"
   ]
  },
  {
   "cell_type": "code",
   "execution_count": null,
   "id": "2eee0313-54e9-496a-acd0-f8233051b92b",
   "metadata": {
    "pycharm": {
     "is_executing": false
    },
    "scrolled": true
   },
   "outputs": [],
   "source": [
    "_test_flattened_spikes = _test_default_compute_bapun_flattened_spikes(curr_bapun_pipeline.sess)"
   ]
  },
  {
   "cell_type": "code",
   "execution_count": null,
   "id": "0bdceb07-f1d2-4fc7-b95b-313daeb636cb",
   "metadata": {
    "pycharm": {
     "is_executing": false
    },
    "scrolled": true
   },
   "outputs": [],
   "source": [
    "curr_bapun_pipeline.sess.flattened_spiketrains"
   ]
  },
  {
   "cell_type": "code",
   "execution_count": null,
   "id": "9af589a8-aafc-4f5d-a4c1-b0b9f067580c",
   "metadata": {
    "pycharm": {
     "is_executing": false
    },
    "scrolled": true
   },
   "outputs": [],
   "source": [
    "_test_flattened_spikes"
   ]
  },
  {
   "cell_type": "code",
   "execution_count": null,
   "id": "939f271f-fba4-4bd8-8a59-12864bc1802b",
   "metadata": {
    "pycharm": {
     "is_executing": false
    },
    "scrolled": true
   },
   "outputs": [],
   "source": [
    "temp_spikes_df = curr_neurons.initialize_missing_spikes_df_columns(spikes_df=temp_spikes_df)"
   ]
  },
  {
   "cell_type": "markdown",
   "id": "a4940269-23e4-46dc-a4ae-61d512ac5e41",
   "metadata": {},
   "source": [
    "## KDiba Format:"
   ]
  },
  {
   "cell_type": "code",
   "execution_count": 6,
   "id": "506398f3",
   "metadata": {
    "init_cell": true,
    "pycharm": {
     "name": "#%%\n"
    },
    "scene__Default Scene": true,
    "tags": [
     "ActiveScene"
    ]
   },
   "outputs": [
    {
     "name": "stdout",
     "output_type": "stream",
     "text": [
      "basedir is already Path object.\n",
      "remaining_required_filespecs: {WindowsPath('R:/data/KDIBA/gor01/one/2006-6-07_11-26-53/2006-6-07_11-26-53.spikeII.mat'): SessionFileSpec(fileSpecString='{}.spikeII.mat', suggestedBaseName='2006-6-07_11-26-53', description='The MATLAB data file containing information about neural spiking activity.', session_load_callback=None), WindowsPath('R:/data/KDIBA/gor01/one/2006-6-07_11-26-53/2006-6-07_11-26-53.position_info.mat'): SessionFileSpec(fileSpecString='{}.position_info.mat', suggestedBaseName='2006-6-07_11-26-53', description='The MATLAB data file containing the recorded animal positions (as generated by optitrack) over time.', session_load_callback=None), WindowsPath('R:/data/KDIBA/gor01/one/2006-6-07_11-26-53/2006-6-07_11-26-53.epochs_info.mat'): SessionFileSpec(fileSpecString='{}.epochs_info.mat', suggestedBaseName='2006-6-07_11-26-53', description='The MATLAB data file containing the recording epochs. Each epoch is defined as a: (label:str, t_start: float (in seconds), t_end: float (in seconds))', session_load_callback=None)}\n",
      "Loading matlab import file results to R:\\data\\KDIBA\\gor01\\one\\2006-6-07_11-26-53\\2006-6-07_11-26-53.epochs_info.mat... done.\n",
      "Loading matlab import file results to R:\\data\\KDIBA\\gor01\\one\\2006-6-07_11-26-53\\2006-6-07_11-26-53.position_info.mat... done.\n",
      "Loading matlab import file results to R:\\data\\KDIBA\\gor01\\one\\2006-6-07_11-26-53\\2006-6-07_11-26-53.spikes.mat... "
     ]
    },
    {
     "name": "stderr",
     "output_type": "stream",
     "text": [
      "c:\\users\\pho\\repos\\neuropy\\neuropy\\core\\session\\Formats\\SessionSpecifications.py:141: UserWarning: WARNING: Optional File: \"R:\\data\\KDIBA\\gor01\\one\\2006-6-07_11-26-53\\2006-6-07_11-26-53.dat\" does not exist. Continuing without it.\n",
      "  warnings.warn(f'WARNING: Optional File: \"{an_optional_filepath}\" does not exist. Continuing without it.')\n"
     ]
    },
    {
     "name": "stdout",
     "output_type": "stream",
     "text": [
      "done.\n",
      "Failure loading .position.npy. Must recompute.\n",
      "\n",
      "Computing linear positions for all active epochs for session... Saving updated position results results to R:\\data\\KDIBA\\gor01\\one\\2006-6-07_11-26-53\\2006-6-07_11-26-53.position.npy... 2006-6-07_11-26-53.position.npy saved\n",
      "done.\n",
      "\t Failure loading .interpolated_spike_positions.npy. Must recompute.\n",
      "\n",
      "\t Saving updated interpolated spike position results results to R:\\data\\KDIBA\\gor01\\one\\2006-6-07_11-26-53\\2006-6-07_11-26-53.interpolated_spike_positions.npy... 2006-6-07_11-26-53.interpolated_spike_positions.npy saved\n",
      "done.\n",
      "Loading matlab import file results to R:\\data\\KDIBA\\gor01\\one\\2006-6-07_11-26-53\\2006-6-07_11-26-53.laps_info.mat... done.\n",
      "setting laps object.\n",
      "session.laps loaded successfully!\n",
      "Loading success: .ripple.npy.\n",
      "Loading success: .mua.npy.\n",
      "Loading success: .pbe.npy.\n",
      "Computing added spike scISI column results to filepath?... done.\n",
      "desc_crossings_x: (24,), asc_crossings_x: (24,)\n"
     ]
    }
   ],
   "source": [
    "## Data must be pre-processed using the MATLAB script located here: \n",
    "# R:\\data\\KDIBA\\gor01\\one\\IIDataMat_Export_ToPython_2021_11_23.m\n",
    "# From pre-computed .mat files:\n",
    "## 07: \n",
    "# basedir = r'R:\\data\\KDIBA\\gor01\\one\\2006-6-07_11-26-53'\n",
    "# # ## 08:\n",
    "# basedir = r'R:\\data\\KDIBA\\gor01\\one\\2006-6-08_14-26-15'\n",
    "# curr_kdiba_pipeline = NeuropyPipeline(name='kdiba_pipeline', session_data_type='kdiba', basedir=known_data_session_type_dict['kdiba'].basedir, load_function=known_data_session_type_dict['kdiba'].load_function)\n",
    "curr_kdiba_pipeline = NeuropyPipeline.init_from_known_data_session_type('kdiba', known_data_session_type_dict['kdiba'])\n",
    "# active_grid_bin = compute_position_grid_bin_size(curr_kdiba_pipeline.sess.position.x, curr_kdiba_pipeline.sess.position.y, num_bins=(64, 64))\n",
    "# active_session_computation_config.grid_bin = active_grid_bin\n",
    "active_session_computation_configs = _build_active_computation_configs(curr_kdiba_pipeline.sess)"
   ]
  },
  {
   "cell_type": "code",
   "execution_count": null,
   "id": "3895c291-2d3b-4022-a47d-5ef91f985301",
   "metadata": {
    "init_cell": true,
    "scene__Default Scene": true,
    "scrolled": true,
    "tags": [
     "ActiveScene"
    ]
   },
   "outputs": [],
   "source": [
    "def build_pyramidal_epochs_filters(sess):\n",
    "    sess.epochs.t_start = 22.26 # exclude the first short period where the animal isn't on the maze yet\n",
    "    # active_session_filter_configurations = {'maze1': lambda x: (x.filtered_by_neuron_type('pyramidal').filtered_by_epoch(x.epochs.get_named_timerange('maze1')), x.epochs.get_named_timerange('maze1')),\n",
    "    #                                     'maze2': lambda x: (x.filtered_by_neuron_type('pyramidal').filtered_by_epoch(x.epochs.get_named_timerange('maze2')), x.epochs.get_named_timerange('maze2')),\n",
    "    #                                     'maze': lambda x: (x.filtered_by_neuron_type('pyramidal').filtered_by_epoch(NamedTimerange(name='maze', start_end_times=[x.epochs['maze1'][0], x.epochs['maze2'][1]])), NamedTimerange(name='maze', start_end_times=[x.epochs['maze1'][0], x.epochs['maze2'][1]]))\n",
    "    #                                    }\n",
    "    active_session_filter_configurations = {'maze1': lambda x: (x.filtered_by_neuron_type('pyramidal').filtered_by_epoch(x.epochs.get_named_timerange('maze1')), x.epochs.get_named_timerange('maze1')),\n",
    "                                        }\n",
    "    return active_session_filter_configurations\n",
    "\n",
    "active_session_filter_configurations = build_pyramidal_epochs_filters(curr_kdiba_pipeline.sess)\n",
    "\n",
    "is_non_overlapping_lap = get_non_overlapping_epochs(curr_kdiba_pipeline.sess.laps.to_dataframe()[['start','stop']].to_numpy())\n",
    "only_good_laps_df = curr_kdiba_pipeline.sess.laps.to_dataframe()[is_non_overlapping_lap]\n",
    "curr_kdiba_pipeline.sess.laps = Laps(only_good_laps_df) # replace the laps object with the filtered one\n",
    "\n",
    "lap_specific_epochs = curr_kdiba_pipeline.sess.laps.as_epoch_obj()\n",
    "any_lap_specific_epochs = lap_specific_epochs.label_slice(lap_specific_epochs.labels[np.arange(len(curr_kdiba_pipeline.sess.laps.lap_id))])\n",
    "even_lap_specific_epochs = lap_specific_epochs.label_slice(lap_specific_epochs.labels[np.arange(0, len(curr_kdiba_pipeline.sess.laps.lap_id), 2)])\n",
    "odd_lap_specific_epochs = lap_specific_epochs.label_slice(lap_specific_epochs.labels[np.arange(1, len(curr_kdiba_pipeline.sess.laps.lap_id), 2)])\n",
    "\n",
    "# Copy the active session_computation_config:\n",
    "for i in np.arange(len(active_session_computation_configs)):\n",
    "    active_session_computation_configs[i].pf_params.computation_epochs = any_lap_specific_epochs # add the laps epochs to all of the computation configs.\n",
    "\n",
    "curr_kdiba_pipeline.filter_sessions(active_session_filter_configurations)\n",
    "curr_kdiba_pipeline.perform_computations(active_session_computation_configs[0]) # Causes \"IndexError: index 59 is out of bounds for axis 0 with size 59\"\n",
    "curr_kdiba_pipeline.prepare_for_display(should_smooth_maze=True) # TODO: pass a display config\n",
    "# set curr_active_pipeline for testing:\n",
    "curr_active_pipeline = curr_kdiba_pipeline"
   ]
  },
  {
   "cell_type": "code",
   "execution_count": null,
   "id": "facbbd04-610c-4fed-8af3-fa5ae8718519",
   "metadata": {
    "scrolled": true
   },
   "outputs": [],
   "source": []
  },
  {
   "cell_type": "code",
   "execution_count": null,
   "id": "0ed6429d-3dc9-4bdc-b735-301b0c05e7be",
   "metadata": {
    "scrolled": true
   },
   "outputs": [],
   "source": [
    "def build_any_maze_epochs_filters(sess):\n",
    "    sess.epochs.t_start = 22.26 # exclude the first short period where the animal isn't on the maze yet\n",
    "    # active_session_filter_configurations = {'maze1': lambda x: (x.filtered_by_epoch(x.epochs.get_named_timerange('maze1')), x.epochs.get_named_timerange('maze1')) } # just maze 1\n",
    "    active_session_filter_configurations = {\n",
    "        # 'maze1': lambda x: (x.filtered_by_epoch(x.epochs.get_named_timerange('maze1')), x.epochs.get_named_timerange('maze1')),\n",
    "    #                                     'maze2': lambda x: (x.filtered_by_epoch(x.epochs.get_named_timerange('maze2')), x.epochs.get_named_timerange('maze2')),\n",
    "                                        'maze': lambda x: (x.filtered_by_epoch(NamedTimerange(name='maze', start_end_times=[x.epochs['maze1'][0], x.epochs['maze2'][1]])), NamedTimerange(name='maze', start_end_times=[x.epochs['maze1'][0], x.epochs['maze2'][1]]))\n",
    "    }\n",
    "    return active_session_filter_configurations\n",
    "\n",
    "active_session_filter_configurations = build_any_maze_epochs_filters(curr_kdiba_pipeline.sess)\n",
    "curr_kdiba_pipeline.filter_sessions(active_session_filter_configurations)\n",
    "for i in np.arange(len(active_session_computation_configs)):\n",
    "    active_session_computation_configs[i].computation_epochs = None # add the laps epochs to all of the computation configs.\n",
    "\n",
    "curr_kdiba_pipeline.perform_computations(active_session_computation_configs[0])\n",
    "curr_kdiba_pipeline.prepare_for_display(should_smooth_maze=True) # TODO: pass a display config\n",
    "# set curr_active_pipeline for testing:\n",
    "curr_active_pipeline = curr_kdiba_pipeline"
   ]
  },
  {
   "cell_type": "markdown",
   "id": "75cbbfa0",
   "metadata": {},
   "source": [
    "# Common: Display\n",
    "Common visualization and display functions for both forms of data/pipelines:"
   ]
  },
  {
   "cell_type": "code",
   "execution_count": null,
   "id": "08221ad3-9e46-4709-92ac-2d6fd874077a",
   "metadata": {
    "init_cell": true,
    "scene__Default Scene": true,
    "tags": [
     "ActiveScene"
    ]
   },
   "outputs": [],
   "source": [
    "active_config_name = 'maze1'\n",
    "# active_config_name = 'maze2'\n",
    "# active_config_name = 'maze'\n",
    "\n",
    "# Get relevant variables:\n",
    "# curr_active_pipeline is set above, and usable here\n",
    "sess: DataSession = curr_active_pipeline.filtered_sessions[active_config_name]\n",
    "\n",
    "active_computation_results = curr_active_pipeline.computation_results[active_config_name]\n",
    "active_computed_data = curr_active_pipeline.computation_results[active_config_name].computed_data\n",
    "active_computation_config = curr_active_pipeline.computation_results[active_config_name].computation_config\n",
    "print(f'active_computed_data.keys(): {active_computed_data.keys()}')\n",
    "active_pf_1D = curr_active_pipeline.computation_results[active_config_name].computed_data['pf1D']\n",
    "active_pf_2D = curr_active_pipeline.computation_results[active_config_name].computed_data['pf2D']    \n",
    "active_pf_1D_dt = curr_active_pipeline.computation_results[active_config_name].computed_data.get('pf1D_dt', None)\n",
    "active_pf_2D_dt = curr_active_pipeline.computation_results[active_config_name].computed_data.get('pf2D_dt', None)\n",
    "active_one_step_decoder = curr_active_pipeline.computation_results[active_config_name].computed_data['pf2D_Decoder']\n",
    "active_two_step_decoder = curr_active_pipeline.computation_results[active_config_name].computed_data.get('pf2D_TwoStepDecoder', None)\n",
    "active_measured_positions = curr_active_pipeline.computation_results[active_config_name].sess.position.to_dataframe()\n",
    "curr_spikes_df = sess.spikes_df\n",
    "\n",
    "curr_active_config = curr_active_pipeline.active_configs[active_config_name]\n",
    "curr_active_display_config = curr_active_config.plotting_config\n",
    "\n",
    "display_output = dict()"
   ]
  },
  {
   "cell_type": "code",
   "execution_count": null,
   "id": "b7a944ea-9818-4d3b-b9ef-8d28942e5606",
   "metadata": {
    "pycharm": {
     "name": "#%%\n"
    }
   },
   "outputs": [],
   "source": [
    "# curr_active_pipeline.active_configs['maze2'].plotting_config.use_smoothed_maze_rendering\n",
    "sess.filePrefix # WindowsPath('R:/data/KDIBA/gor01/one/2006-6-07_11-26-53/2006-6-07_11-26-53')\n",
    "sess.config.basepath # WindowsPath('R:/data/KDIBA/gor01/one/2006-6-07_11-26-53')\n",
    "\n",
    "str(sess.filePrefix.resolve())\n",
    "# print_keys_if_possible('sess.config', sess.config, depth=0)"
   ]
  },
  {
   "cell_type": "code",
   "execution_count": null,
   "id": "800ed712-b52f-4770-93d6-22273d17b628",
   "metadata": {
    "pycharm": {
     "name": "#%%\n"
    }
   },
   "outputs": [],
   "source": [
    "print_keys_if_possible('active_computation_results', active_computation_results, max_depth=1)"
   ]
  },
  {
   "cell_type": "code",
   "execution_count": null,
   "id": "107b4c8a-b3cd-453a-8dfd-204a86b57d6f",
   "metadata": {
    "pycharm": {
     "name": "#%%\n"
    }
   },
   "outputs": [],
   "source": [
    "print_keys_if_possible('active_computation_results', active_computation_results, max_depth=2)"
   ]
  },
  {
   "cell_type": "code",
   "execution_count": null,
   "id": "6a4a9f01-6634-40ad-b001-a7b5cddfa762",
   "metadata": {
    "pycharm": {
     "name": "#%%\n"
    }
   },
   "outputs": [],
   "source": [
    "active_computed_data['burst_detection']"
   ]
  },
  {
   "cell_type": "code",
   "execution_count": null,
   "id": "c0affd52-165d-4269-9074-8145c5f83b1a",
   "metadata": {
    "pycharm": {
     "name": "#%%\n"
    }
   },
   "outputs": [],
   "source": [
    "print_keys_if_possible('curr_active_display_config', curr_active_display_config, max_depth=1)"
   ]
  },
  {
   "cell_type": "code",
   "execution_count": null,
   "id": "cabe6160-98b4-4951-a248-887dcb8dad45",
   "metadata": {
    "pycharm": {
     "name": "#%%\n"
    }
   },
   "outputs": [],
   "source": [
    "print_keys_if_possible('curr_active_config', curr_active_config, max_depth=1)\n",
    "# - pf_neuron_identities: <class 'list'> - (39,)\n",
    "# - pf_sort_ind: <class 'numpy.ndarray'> - (39,)\n",
    "# - pf_colors: <class 'numpy.ndarray'> - (4, 39)\n",
    "# - pf_colormap: <class 'numpy.ndarray'> - (39, 4)"
   ]
  },
  {
   "cell_type": "code",
   "execution_count": null,
   "id": "942773a0-65e8-44e0-89d2-a15a65fde7d0",
   "metadata": {
    "pycharm": {
     "name": "#%%\n"
    }
   },
   "outputs": [],
   "source": [
    "active_pf_2D.plot_ratemaps_2D()"
   ]
  },
  {
   "cell_type": "code",
   "execution_count": null,
   "id": "f15fca3e-97f3-4f04-a730-91832cfc331d",
   "metadata": {
    "pycharm": {
     "name": "#%%\n"
    }
   },
   "outputs": [],
   "source": [
    "curr_active_display_config.pf_neuron_identities\n",
    "\n",
    "\n",
    "curr_active_display_config.pf_colors.shape\n",
    "\n",
    "# provided_neuron_id_to_color_map = {for zip(curr_active_display_config.pf_neuron_identities, curr_active_display_config.pf_colors.copy()}"
   ]
  },
  {
   "cell_type": "code",
   "execution_count": null,
   "id": "b3da23f0-2fc1-404f-a115-99ab758f1d4d",
   "metadata": {
    "pycharm": {
     "name": "#%%\n"
    }
   },
   "outputs": [],
   "source": [
    "def _build_cell_color_map(curr_active_displa+y_config, debug_print=False):\n",
    "    \"\"\" builds a list of pg.mkColors from the cell index id:     \n",
    "    \"\"\"\n",
    "    pf_neuron_identities = curr_active_display_config.pf_neuron_identities\n",
    "    pf_colors = curr_active_display_config.pf_colors.copy()\n",
    "    \n",
    "    n_cells = len(pf_neuron_identities)\n",
    "    \n",
    "    provided_neuron_id_to_color_map = {}\n",
    "    for idx in np.arange(n_cells):\n",
    "        curr_neuron_identity = pf_neuron_identities[idx]\n",
    "        curr_color = np.squeeze(pf_colors[:, idx])\n",
    "        print(f'idx: {idx}: curr_color: {curr_color}')\n",
    "        # curr_qcolor = pg.mkColor(tuple(curr_color)) # make a QColor\n",
    "        curr_qcolor = QtGui.QColor(curr_color) # make a QColor\n",
    "        provided_neuron_id_to_color_map[curr_neuron_identity.cell_uid] = curr_qcolor\n",
    "        \n",
    "    return provided_neuron_id_to_color_map\n",
    "\n",
    "provided_neuron_id_to_color_map = _build_cell_color_map(curr_active_display_config)\n",
    "provided_neuron_id_to_color_map"
   ]
  },
  {
   "cell_type": "code",
   "execution_count": null,
   "id": "6acf6dfb-e416-4c43-980b-497ed579f5d4",
   "metadata": {
    "pycharm": {
     "name": "#%%\n"
    }
   },
   "outputs": [],
   "source": [
    "## Find missing neuron_ids from curr_spikes_df and add them to the provided_neuron_id_to_color_map as the default fallback color (black):\n",
    "all_neuron_ids = np.unique(curr_spikes_df.aclu)\n",
    "all_neuron_ids\n",
    "\n",
    "missing_color_indicies = np.isin(all_neuron_ids, list(provided_neuron_id_to_color_map.keys()), assume_unique=True, invert=True)\n",
    "missing_color_neuron_ids = all_neuron_ids[missing_color_indicies]\n",
    "missing_color_neuron_ids # array([23])\n",
    "\n",
    "# Add the missing neuron_ids to the color array:\n",
    "fallback_color_rgba = pg.mkColor(0, 0, 0, 1.0)\n",
    "for a_missing_neuron_id in missing_color_neuron_ids:\n",
    "    print(f'added neuron_id {a_missing_neuron_id} to the colors array.')\n",
    "    provided_neuron_id_to_color_map[a_missing_neuron_id] = fallback_color_rgba"
   ]
  },
  {
   "cell_type": "code",
   "execution_count": null,
   "id": "9f255d3c-323a-4572-bd44-7ef3d95c7860",
   "metadata": {
    "pycharm": {
     "name": "#%%\n"
    }
   },
   "outputs": [],
   "source": [
    "provided_neuron_id_to_color_map"
   ]
  },
  {
   "cell_type": "code",
   "execution_count": null,
   "id": "ca73f1c7-583b-4227-b7a3-146f52155c71",
   "metadata": {
    "pycharm": {
     "name": "#%%\n"
    }
   },
   "outputs": [],
   "source": [
    "# provided_neuron_id_to_color_map[2].name()\n",
    "curr_color = provided_neuron_id_to_color_map[2]\n",
    "curr_color.getRgb()\n",
    "curr_color.getRgbF()\n",
    "# provided_neuron_id_to_color_map[2].name(QtGui.QColor.HexRgb)"
   ]
  },
  {
   "cell_type": "markdown",
   "id": "0f86c5aa-27bd-4b9a-88bd-1a80d5d48cb7",
   "metadata": {
    "jp-MarkdownHeadingCollapsed": true,
    "pycharm": {
     "name": "#%%\n"
    }
   },
   "source": [
    "##  Top-Level Window/Widget/Plot Enumeration:"
   ]
  },
  {
   "cell_type": "code",
   "execution_count": null,
   "id": "c2baa013-fb27-43ae-8cda-8f2c8bb0b35f",
   "metadata": {
    "pycharm": {
     "name": "#%%\n"
    }
   },
   "outputs": [],
   "source": [
    "from pyphocorehelpers.gui.Qt.TopLevelWindowHelper import TopLevelWindowHelper\n",
    "\n",
    "app = pg.mkQApp()\n",
    "# app = pg.mkQApp(spike_raster_window.applicationName) # <PyQt5.QtWidgets.QApplication at 0x1d44a4891f0>\n",
    "app"
   ]
  },
  {
   "cell_type": "code",
   "execution_count": null,
   "id": "a0bceb03-067c-49be-91b3-4f2478b2bac6",
   "metadata": {
    "pycharm": {
     "name": "#%%\n"
    }
   },
   "outputs": [],
   "source": [
    "from pyphoplacecellanalysis.GUI.PyQtPlot.Widgets.SpikeRasterWidgets.SpikeRasterBase import SpikeRasterBase\n",
    "from pyphoplacecellanalysis.GUI.PyQtPlot.Widgets.SpikeRasterWidgets.Spike2DRaster import Spike2DRaster\n",
    "from pyphoplacecellanalysis.GUI.PyQtPlot.Widgets.SpikeRasterWidgets.Spike3DRaster import Spike3DRaster"
   ]
  },
  {
   "cell_type": "code",
   "execution_count": null,
   "id": "6b4fedf9-7db6-463e-a85c-2f6d103a54c4",
   "metadata": {
    "pycharm": {
     "name": "#%%\n"
    }
   },
   "outputs": [],
   "source": [
    "TopLevelWindowHelper.top_level_windows(app) # IndexedOrderedDict([('RootWidgetWindow', <PyQt5.QtGui.QWindow object at 0x00000271A482E8B0>)])"
   ]
  },
  {
   "cell_type": "code",
   "execution_count": null,
   "id": "6d77eef2-9158-490e-8f16-6ba856db85bf",
   "metadata": {
    "pycharm": {
     "name": "#%%\n"
    }
   },
   "outputs": [],
   "source": [
    "TopLevelWindowHelper.all_widgets(app)"
   ]
  },
  {
   "cell_type": "code",
   "execution_count": null,
   "id": "c1d36cfb-f025-4f11-8a9a-7f2937e4c8ab",
   "metadata": {
    "pycharm": {
     "name": "#%%\n"
    }
   },
   "outputs": [],
   "source": [
    "# All widgets\n",
    "all_widgets_list = app.allWidgets()\n",
    "all_widgets_list_is_spike_raster = [isinstance(a_widget, (SpikeRasterBase)) for a_widget in all_widgets_list]\n",
    "# Only widgets that inherit from SpikeRasterBase\n",
    "all_spike_raster_widgets_list = [a_widget for a_widget in all_widgets_list if isinstance(a_widget, (SpikeRasterBase))]\n",
    "all_spike_raster_widgets_list"
   ]
  },
  {
   "cell_type": "code",
   "execution_count": null,
   "id": "e11a3238-4c45-4a10-a9db-9b4520e0aac8",
   "metadata": {
    "pycharm": {
     "name": "#%%\n"
    }
   },
   "outputs": [],
   "source": [
    "# Iterate through to update the plots objects\n",
    "for a_plot_widget in all_spike_raster_widgets_list:\n",
    "    print(list(a_plot_widget.plots.keys()))\n",
    "    "
   ]
  },
  {
   "cell_type": "code",
   "execution_count": null,
   "id": "f3db3146-d1b7-4d30-8f82-d1b56cefce4f",
   "metadata": {
    "pycharm": {
     "name": "#%%\n"
    }
   },
   "outputs": [],
   "source": [
    "# All windows: returns a list of QWindow objects, may be more than are active:\n",
    "top_level_windows = app.allWindows()\n",
    "top_level_window_names = [a_window.objectName() for a_window in top_level_windows] #['Spike3DRaster_VedoClassWindow', 'QFrameClassWindow', 'QWidgetClassWindow', 'PhoBaseMainWindowClassWindow']\n",
    "top_level_window_is_visible = [a_window.isVisible() for a_window in top_level_windows] "
   ]
  },
  {
   "cell_type": "code",
   "execution_count": null,
   "id": "b9cbeb0f-83a6-4a08-bbb4-bb57924a317d",
   "metadata": {
    "pycharm": {
     "name": "#%%\n"
    }
   },
   "outputs": [],
   "source": [
    "# top_level_windows[0].objectName()\n",
    "top_level_window_names #['Spike3DRaster_VedoClassWindow', 'QFrameClassWindow', 'QWidgetClassWindow', 'PhoBaseMainWindowClassWindow']\n",
    "top_level_window_is_visible"
   ]
  },
  {
   "cell_type": "code",
   "execution_count": null,
   "id": "7137c79c-506e-4d38-bc1c-a63203252b8d",
   "metadata": {
    "pycharm": {
     "name": "#%%\n"
    }
   },
   "outputs": [],
   "source": [
    "## Enumerate plot items by looking at items in main_gl_widget (which is a GLViewWidget): \n",
    "root_gl_view_widget = spike_raster_window.spike_raster_plt_3d.ui.main_gl_widget # GLViewWidget \n",
    "root_gl_view_widget_items_list = root_gl_view_widget.items\n",
    "root_gl_view_widget_item_names = [an_item.objectName() for an_item in root_gl_view_widget_items_list]\n",
    "root_gl_view_widget_item_names\n",
    "\n",
    "# Note that these GLGraphicsItem subclasses have: .visible(), .setVisible(is_visable), .parentItem(), .setParentItem(parent_item), .childItems(), .transform(), .viewTransform()"
   ]
  },
  {
   "cell_type": "code",
   "execution_count": null,
   "id": "b2136ebb-06f6-47b3-815b-3137d3ee43d9",
   "metadata": {
    "pycharm": {
     "name": "#%%\n"
    }
   },
   "outputs": [],
   "source": [
    "\n",
    "# type(spike_raster_window.spike_raster_plt_2d)\n",
    "\n",
    "children = app.findChildren(Spike3DRaster)\n",
    "print(children)\n",
    "# for child in children:\n",
    "#     print(child.objectName())\n",
    "\n",
    "print(spike_raster_window.objectName())\n",
    "spike_raster_window.spike_raster_plt_2d.objectName()\n",
    "\n",
    "spike_raster_window.spike_raster_plt_2d.windowName # 'Spike2DRaster'\n",
    "spike_raster_window.spike_raster_plt_3d.windowName # 'Spike3DRaster'\n",
    "spike_raster_window.windowName # 'Spike3DRasterWindow'"
   ]
  },
  {
   "cell_type": "code",
   "execution_count": null,
   "id": "20609a3b-33b7-4c3c-b2a8-cac23a25d3c8",
   "metadata": {
    "pycharm": {
     "name": "#%%\n"
    }
   },
   "outputs": [],
   "source": [
    "children = app.findChildren(Spike3DRaster)\n",
    "print(children)"
   ]
  },
  {
   "cell_type": "code",
   "execution_count": null,
   "id": "0cba04ff-67b0-4530-8c9b-4171afe7fe59",
   "metadata": {
    "pycharm": {
     "name": "#%%\n"
    }
   },
   "outputs": [],
   "source": [
    "## To refactor:\n",
    "# 'ui.*' -> 'plots.*'\n",
    "# ui.main_gl_widget\n",
    "# ui.gl_line_plots\n",
    "\n",
    "# ui.glCellIdTextItems\n",
    "\n",
    "# ui.gx\n",
    "# ui.x_txtitem\n",
    "# ui.gy\n",
    "# ui.y_txtitem\n",
    "# ui.gz\n",
    "# ui.z_txtitem"
   ]
  },
  {
   "cell_type": "markdown",
   "id": "c664c89c-1e98-4184-bac1-ed93301be0b4",
   "metadata": {
    "pycharm": {
     "is_executing": false,
     "name": "#%%\n"
    }
   },
   "source": [
    "## 3D Interactive Spike Raster Window"
   ]
  },
  {
   "cell_type": "code",
   "execution_count": null,
   "id": "633d7e18-332a-4e3d-90cd-f252e5120a26",
   "metadata": {
    "init_cell": true,
    "pycharm": {
     "is_executing": false,
     "name": "#%%\n"
    },
    "scene__Default Scene": true,
    "tags": [
     "ActiveScene"
    ]
   },
   "outputs": [],
   "source": [
    "from pyphoplacecellanalysis.GUI.Qt.SpikeRasterWindows.Spike3DRasterWindowWidget import Spike3DRasterWindowWidget\n",
    "\n",
    "display_output = display_output | curr_active_pipeline.display(SpikeRastersDisplayFunctions._display_spike_rasters_window, active_config_name, active_config_name=active_config_name)\n",
    "spike_raster_window = display_output['spike_raster_window']\n",
    "# spike_raster_plt_2d = display_output['spike_raster_plt_2d']\n",
    "# spike_raster_plt_3d = display_output['spike_raster_plt_3d']"
   ]
  },
  {
   "cell_type": "code",
   "execution_count": null,
   "id": "52dd66da-653f-495c-a42d-c2ac3a1bd6ef",
   "metadata": {
    "pycharm": {
     "is_executing": false,
     "name": "#%%\n"
    }
   },
   "outputs": [],
   "source": [
    "display_output\n",
    "# spike_raster_window.show()"
   ]
  },
  {
   "cell_type": "code",
   "execution_count": null,
   "id": "79512641-8eba-4acf-a297-fe67b0d25fc2",
   "metadata": {
    "pycharm": {
     "is_executing": false,
     "name": "#%%\n"
    }
   },
   "outputs": [],
   "source": [
    "spike_raster_window..interval_rendering_plots\n",
    "# spike_raster_window.spike_raster_plt_3d.has_render_epoch_meshes\n",
    "# update_epoch_meshes"
   ]
  },
  {
   "cell_type": "code",
   "execution_count": null,
   "id": "961fc78f-825c-45f8-85cd-40265476b514",
   "metadata": {
    "pycharm": {
     "is_executing": false,
     "name": "#%%\n"
    }
   },
   "outputs": [],
   "source": [
    "spike_raster_window = Spike3DRasterWindowWidget(curr_spikes_df, application_name=f'Spike Raster Window - {active_config_name}')\n",
    "# spike_raster_window = Spike3DRasterWindowWidget(curr_spikes_df, neuron_colors=curr_active_display_config.pf_colors.copy(), neuron_sort_order=None, application_name=f'Spike Raster Window - {active_config_name}')\n",
    "# spike_raster_window = Spike3DRasterWindowWidget(curr_spikes_df, neuron_colors=provided_neuron_id_to_color_map, neuron_sort_order=None, application_name=f'Spike Raster Window - {active_config_name}')\n",
    "# spike_raster_window = Spike3DRasterWindowWidget(curr_spikes_df, neuron_colors=ipcDataExplorer.active_neuron_render_configs_map) # Test passing in an existing render configs map\n",
    "# Set Window Title Options:\n",
    "spike_raster_window.setWindowFilePath(str(sess.filePrefix.resolve()))\n",
    "spike_raster_window.setWindowTitle(f'Spike Raster Window - {active_config_name} - {str(sess.filePrefix.resolve())}')"
   ]
  },
  {
   "cell_type": "code",
   "execution_count": null,
   "id": "cfac2b10-24d9-4351-aa27-a50db7bd6fe8",
   "metadata": {
    "pycharm": {
     "is_executing": false,
     "name": "#%%\n"
    }
   },
   "outputs": [],
   "source": [
    "spike_raster_window.spike_raster_plt_2d.cell_id_to_fragile_linear_neuron_IDX_map"
   ]
  },
  {
   "cell_type": "code",
   "execution_count": null,
   "id": "940dbb3c-04ed-4eca-bfea-17ce341bb6c5",
   "metadata": {
    "pycharm": {
     "is_executing": false,
     "name": "#%%\n"
    }
   },
   "outputs": [],
   "source": []
  },
  {
   "cell_type": "code",
   "execution_count": null,
   "id": "3d80d4b4-245f-4846-9f90-09406f6de827",
   "metadata": {
    "pycharm": {
     "is_executing": false,
     "name": "#%%\n"
    }
   },
   "outputs": [],
   "source": [
    "## Set the colors of the raster window from the tuning curve window:\n",
    "spike_raster_window.update_neurons_color_data(updated_neuron_render_configs=provided_neuron_id_to_color_map)"
   ]
  },
  {
   "cell_type": "code",
   "execution_count": null,
   "id": "0171a604-4f5a-4a22-b227-3915fee3c759",
   "metadata": {
    "pycharm": {
     "is_executing": false,
     "name": "#%%\n"
    }
   },
   "outputs": [],
   "source": [
    "# Setup Connections Menu:\n",
    "root_window, menuConnections, actions_dict = ConnectionControlsMenuMixin.try_add_connections_menu(spike_raster_window) # none of these properties need to be "
   ]
  },
  {
   "cell_type": "markdown",
   "id": "01c287e4-bb8b-4626-8942-603ab3f63c86",
   "metadata": {
    "pycharm": {
     "is_executing": false,
     "name": "#%%\n"
    }
   },
   "source": [
    "### Test building a second spike_raster_window for a different epoch:"
   ]
  },
  {
   "cell_type": "code",
   "execution_count": null,
   "id": "8110cf85-ca28-41b1-990e-a0041e52fcf8",
   "metadata": {
    "pycharm": {
     "is_executing": false,
     "name": "#%%\n"
    }
   },
   "outputs": [],
   "source": [
    "secondary_active_config_name = 'maze2'\n",
    "secondary_spikes_df = curr_active_pipeline.filtered_sessions[secondary_active_config_name].spikes_df\n",
    "spike_raster_window_second_epoch = Spike3DRasterWindowWidget(secondary_spikes_df, application_name=f'Spike Raster Window - {secondary_active_config_name}', type_of_3d_plotter='vedo')\n",
    "# Set Window Title Options:\n",
    "spike_raster_window_second_epoch.setWindowFilePath(str(sess.filePrefix.resolve()))\n",
    "spike_raster_window_second_epoch.setWindowTitle(f'Spike Raster Window - {secondary_active_config_name} - {str(sess.filePrefix.resolve())}')\n",
    "spike_raster_window_second_epoch"
   ]
  },
  {
   "cell_type": "code",
   "execution_count": null,
   "id": "bf55174f-5b7c-473b-934d-cdbce2f55782",
   "metadata": {
    "pycharm": {
     "is_executing": false,
     "name": "#%%\n"
    }
   },
   "outputs": [],
   "source": [
    "spike_raster_window.spikes_df # has scISI column!\n"
   ]
  },
  {
   "cell_type": "code",
   "execution_count": null,
   "id": "57313baa-25c0-4079-a87b-a3ee5ddfc8fe",
   "metadata": {
    "pycharm": {
     "is_executing": false,
     "name": "#%%\n"
    }
   },
   "outputs": [],
   "source": [
    "spike_raster_window.connection_man"
   ]
  },
  {
   "cell_type": "code",
   "execution_count": null,
   "id": "b7852860-7ee4-42aa-8666-dec67d5c6e08",
   "metadata": {
    "pycharm": {
     "is_executing": false,
     "name": "#%%\n"
    }
   },
   "outputs": [],
   "source": [
    "spike_raster_window.connection_man.active_connections"
   ]
  },
  {
   "cell_type": "code",
   "execution_count": null,
   "id": "471b8f08-3c3b-49cc-9d49-291abe408beb",
   "metadata": {
    "pycharm": {
     "is_executing": false,
     "name": "#%%\n"
    }
   },
   "outputs": [],
   "source": [
    "spike_raster_window.connection_man.get_available_drivers()"
   ]
  },
  {
   "cell_type": "markdown",
   "id": "54772efe-ce98-40b6-9153-8ce533cdb0a8",
   "metadata": {
    "jp-MarkdownHeadingCollapsed": true,
    "pycharm": {
     "is_executing": false,
     "name": "#%%\n"
    }
   },
   "source": [
    "## ipcDataExplorer - 3D Interactive Tuning Curves Plotter"
   ]
  },
  {
   "cell_type": "code",
   "execution_count": null,
   "id": "7345db23-d2a6-4072-892d-fd97009bcb0b",
   "metadata": {
    "pycharm": {
     "is_executing": false,
     "name": "#%%\n"
    }
   },
   "outputs": [],
   "source": [
    "pActiveTuningCurvesPlotter = None\n",
    "display_output = display_output | curr_active_pipeline.display(DefaultDisplayFunctions._display_3d_interactive_tuning_curves_plotter, active_config_name, extant_plotter=display_output.get('pActiveTuningCurvesPlotter', None), panel_controls_mode='Qt') # Works now!\n",
    "ipcDataExplorer = display_output['ipcDataExplorer']\n",
    "display_output['pActiveTuningCurvesPlotter'] = display_output.pop('plotter') # rename the key from the generic \"plotter\" to \"pActiveSpikesBehaviorPlotter\" to avoid collisions with others\n",
    "pActiveTuningCurvesPlotter = display_output['pActiveTuningCurvesPlotter']\n",
    "root_dockAreaWindow, placefieldControlsContainerWidget, pf_widgets = display_output['pane'] # for Qt mode:"
   ]
  },
  {
   "cell_type": "code",
   "execution_count": null,
   "id": "0c0c34da-445c-424b-a2b9-cdba27678cdd",
   "metadata": {
    "pycharm": {
     "is_executing": false,
     "name": "#%%\n"
    }
   },
   "outputs": [],
   "source": [
    "## Set the colors of the raster window from the tuning curve window:\n",
    "spike_raster_window.update_neurons_color_data(updated_neuron_render_configs=ipcDataExplorer.active_neuron_render_configs_map)"
   ]
  },
  {
   "cell_type": "markdown",
   "id": "5780219e-f3f0-4184-ad7e-c2d6111adadb",
   "metadata": {
    "jp-MarkdownHeadingCollapsed": true,
    "pycharm": {
     "is_executing": false,
     "name": "#%%\n"
    }
   },
   "source": [
    "## ipspikesDataExplorer - 3D Interactive Spike and Behavior Plotter"
   ]
  },
  {
   "cell_type": "code",
   "execution_count": null,
   "id": "3ac70061-9e27-48cc-ae89-b01836c3d4c2",
   "metadata": {
    "pycharm": {
     "is_executing": false,
     "name": "#%%\n"
    },
    "scrolled": true
   },
   "outputs": [],
   "source": [
    "pActiveSpikesBehaviorPlotter = None\n",
    "display_output = display_output | curr_active_pipeline.display(DefaultDisplayFunctions._display_3d_interactive_spike_and_behavior_browser, active_config_name, extant_plotter=display_output.get('pActiveSpikesBehaviorPlotter', None)) # Works now!\n",
    "ipspikesDataExplorer = display_output['ipspikesDataExplorer']\n",
    "display_output['pActiveSpikesBehaviorPlotter'] = display_output.pop('plotter') # rename the key from the generic \"plotter\" to \"pActiveSpikesBehaviorPlotter\" to avoid collisions with others\n",
    "pActiveSpikesBehaviorPlotter = display_output['pActiveSpikesBehaviorPlotter']"
   ]
  },
  {
   "cell_type": "code",
   "execution_count": null,
   "id": "a1c468be-a227-4ad8-96bb-23577e1f588e",
   "metadata": {
    "pycharm": {
     "is_executing": false,
     "name": "#%%\n"
    },
    "scrolled": true
   },
   "outputs": [],
   "source": [
    "## Sync ipspikesDataExplorer to raster window:\n",
    "extra_interactive_spike_behavior_browser_sync_connection = spike_raster_window.connect_additional_controlled_plotter(controlled_plt=ipspikesDataExplorer)\n",
    "# extra_interactive_spike_behavior_browser_sync_connection = _connect_additional_controlled_plotter(spike_raster_window.spike_raster_plt_2d, ipspikesDataExplorer)"
   ]
  },
  {
   "cell_type": "markdown",
   "id": "7c7485f6-3d15-4681-9dc1-722b4ca67d90",
   "metadata": {
    "pycharm": {
     "is_executing": false,
     "name": "#%%\n"
    }
   },
   "source": [
    "### Test Programmatic Updating of the ipspikesDataExplorer"
   ]
  },
  {
   "cell_type": "code",
   "execution_count": null,
   "id": "843919bd-e5f6-4ae0-b85d-775988be9312",
   "metadata": {
    "pycharm": {
     "is_executing": false,
     "name": "#%%\n"
    },
    "scrolled": true
   },
   "outputs": [],
   "source": [
    "ipspikesDataExplorer.spikes_main_historical.VisibilityOff()\n",
    "# ipspikesDataExplorer."
   ]
  },
  {
   "cell_type": "code",
   "execution_count": null,
   "id": "7d2a1570-cba6-4169-8da9-13bf495467e3",
   "metadata": {
    "pycharm": {
     "is_executing": false,
     "name": "#%%\n"
    },
    "scrolled": true
   },
   "outputs": [],
   "source": [
    "np.shape(ipspikesDataExplorer.params.flattened_spike_positions_list) # (2, 102139)\n",
    "np.shape(ipspikesDataExplorer.flattened_spike_times) # (102139,)\n",
    "\n",
    "recent_spikes_mesh = ipspikesDataExplorer.plots['spikes_main_recent_only']\n",
    "# ipspikesDataExplorer.plots.keys() # dict_keys(['spikes_main_historical', 'spikes_main_recent_only', 'animal_location_trail', 'animal_current_location_point', 'maze_bg'])\n",
    "# , show_edges=True"
   ]
  },
  {
   "cell_type": "code",
   "execution_count": null,
   "id": "c65e6082-7879-4482-91b9-2fb298090554",
   "metadata": {
    "pycharm": {
     "is_executing": false,
     "name": "#%%\n"
    },
    "scrolled": true
   },
   "outputs": [],
   "source": [
    "ipspikesDataExplorer.spikes_main_historical.AddPosition((0.0, 0.0, (-1.1*10)))"
   ]
  },
  {
   "cell_type": "markdown",
   "id": "58f4e435-a506-4d0a-8807-563f76c2e4e7",
   "metadata": {
    "pycharm": {
     "is_executing": false,
     "name": "#%%\n"
    }
   },
   "source": [
    "## Test GlobalConnectionManager"
   ]
  },
  {
   "cell_type": "code",
   "execution_count": null,
   "id": "19757760-3584-4cce-9354-f19689fa9663",
   "metadata": {
    "pycharm": {
     "is_executing": false,
     "name": "#%%\n"
    },
    "scrolled": true
   },
   "outputs": [],
   "source": [
    "from pyphocorehelpers.gui.Qt.GlobalConnectionManager import GlobalConnectionManager\n",
    "# app = pg.mkQApp()\n",
    "# connection_man = GlobalConnectionManager(owning_application=app)\n",
    "connection_man = spike_raster_window.connection_man\n",
    "connection_man"
   ]
  },
  {
   "cell_type": "code",
   "execution_count": null,
   "id": "67c4e987-fc27-488f-9819-078fbaee4a05",
   "metadata": {
    "pycharm": {
     "is_executing": false,
     "name": "#%%\n"
    },
    "scrolled": true
   },
   "outputs": [],
   "source": [
    "connection_man.registered_available_drivers"
   ]
  },
  {
   "cell_type": "code",
   "execution_count": null,
   "id": "04ea8938-68c7-4e90-9bf0-510217c07d3e",
   "metadata": {
    "pycharm": {
     "is_executing": false,
     "name": "#%%\n"
    },
    "scrolled": true
   },
   "outputs": [],
   "source": [
    "connection_man.registered_available_drivables"
   ]
  },
  {
   "cell_type": "code",
   "execution_count": null,
   "id": "c2b6161d-3e20-4e09-af27-5ca4f875a159",
   "metadata": {
    "pycharm": {
     "is_executing": false,
     "name": "#%%\n"
    },
    "scrolled": true
   },
   "outputs": [],
   "source": [
    "# connection_man\n",
    "connection_man.active_connections\n",
    "\n",
    "# unregister_object"
   ]
  },
  {
   "cell_type": "code",
   "execution_count": null,
   "id": "2b5acced-f86b-4e8e-a5a0-7e2b2af0bf92",
   "metadata": {
    "pycharm": {
     "is_executing": false,
     "name": "#%%\n"
    },
    "scrolled": true
   },
   "outputs": [],
   "source": [
    "list(connection_man.active_connections.keys())\n",
    "list(connection_man.registered_available_drivables.keys())\n",
    "list(connection_man.registered_available_drivers.keys())"
   ]
  },
  {
   "cell_type": "code",
   "execution_count": null,
   "id": "cd303633-f5fa-493d-bc87-fbb86e94296c",
   "metadata": {
    "pycharm": {
     "is_executing": false,
     "name": "#%%\n"
    },
    "scrolled": true
   },
   "outputs": [],
   "source": [
    "connection_man.register_driver(driver=spike_raster_window.spike_raster_plt_2d)\n",
    "# connection_man.reg"
   ]
  },
  {
   "cell_type": "code",
   "execution_count": null,
   "id": "fb0c25f4-c47a-4712-8423-42c36289ffc0",
   "metadata": {
    "pycharm": {
     "is_executing": false,
     "name": "#%%\n"
    },
    "scrolled": true
   },
   "outputs": [],
   "source": [
    "ipspikesDataExplorer.data_explorer_name"
   ]
  },
  {
   "cell_type": "code",
   "execution_count": null,
   "id": "3d0581bb-422e-4768-8b9b-24c96e37e843",
   "metadata": {
    "pycharm": {
     "is_executing": false,
     "name": "#%%\n"
    },
    "scrolled": true
   },
   "outputs": [],
   "source": [
    "connection_man.register_drivable(ipspikesDataExplorer, ipspikesDataExplorer.data_explorer_name) # ipspikesDataExplorer.data_explorer_name: 'CellSpikePositionDataExplorer'\n",
    "connection_man.register_drivable(spike_raster_window.spike_raster_plt_3d)\n",
    "connection_man.register_drivable(spike_raster_window.spike_raster_plt_2d)"
   ]
  },
  {
   "cell_type": "code",
   "execution_count": null,
   "id": "9bd8a507-124f-4f8d-a0c7-f46aefc124ee",
   "metadata": {
    "pycharm": {
     "is_executing": false,
     "name": "#%%\n"
    },
    "scrolled": true
   },
   "outputs": [],
   "source": [
    "connection_man.unregister_object(spike_raster_window.spike_raster_plt_2d)\n",
    "# GlobalConnectionManager._unregister_object(connection_man.registered_available_drivables, control_object=spike_raster_window.spike_raster_plt_2d)"
   ]
  },
  {
   "cell_type": "code",
   "execution_count": null,
   "id": "e80297b6-9a62-40fc-b932-ca01437edbc6",
   "metadata": {
    "pycharm": {
     "is_executing": false,
     "name": "#%%\n"
    },
    "scrolled": true
   },
   "outputs": [],
   "source": [
    "ipspikesDataExplorer.connection_man"
   ]
  },
  {
   "cell_type": "code",
   "execution_count": null,
   "id": "206e4ac4-c9ac-463a-b963-8cdf463bc909",
   "metadata": {
    "pycharm": {
     "is_executing": false,
     "name": "#%%\n"
    },
    "scrolled": true
   },
   "outputs": [],
   "source": [
    "extra_interactive_spike_behavior_browser_sync_connection = connection_man.connect_drivable_to_driver(drivable=ipspikesDataExplorer, driver=spike_raster_window.spike_raster_plt_2d)"
   ]
  },
  {
   "cell_type": "code",
   "execution_count": null,
   "id": "c6a86bcc-828b-4f51-bb01-ac67cc838c0c",
   "metadata": {
    "pycharm": {
     "is_executing": false,
     "name": "#%%\n"
    },
    "scrolled": true
   },
   "outputs": [],
   "source": [
    "## Sync ipspikesDataExplorer to raster window:\n",
    "# extra_interactive_spike_behavior_browser_sync_connection = spike_raster_window.connect_additional_controlled_plotter(controlled_plt=ipspikesDataExplorer)\n",
    "# extra_interactive_spike_behavior_browser_sync_connection = _connect_additional_controlled_plotter(spike_raster_window.spike_raster_plt_2d, ipspikesDataExplorer)"
   ]
  },
  {
   "cell_type": "code",
   "execution_count": null,
   "id": "0354deb3-3ea9-4b93-a260-20a52d7a1dee",
   "metadata": {
    "pycharm": {
     "is_executing": false,
     "name": "#%%\n"
    },
    "scrolled": true
   },
   "outputs": [],
   "source": [
    "## Test Getting the active connection for this object:\n",
    "# found_connection = connection_man.active_connections.get(ipspikesDataExplorer, None) # <PyQt5.QtCore.QMetaObject.Connection at 0x26ed46964a0>\n",
    "# # found_connection\n",
    "# if found_connection is not None:\n",
    "#     print(f'found_connection: {found_connection}, disconnecting...')\n",
    "#     spike_raster_window.spike_raster_plt_2d.disconnect(found_connection)\n",
    "#     print(f'\\t done.')\n",
    "#     del connection_man.active_connections[ipspikesDataExplorer]\n",
    "#     ipspikesDataExplorer.enable_ui_window_updating_controls() # disable the GUI for manual updates.\n",
    "#     # self.disconnect(found_connection)\n",
    "#     print(f'\\t removed!')\n",
    "# else:\n",
    "#     print(f'connection not found!')\n",
    "\n",
    "def \n",
    "found_connection = connection_man.active_connections.get(ipspikesDataExplorer, None) # <PyQt5.QtCore.QMetaObject.Connection at 0x26ed46964a0>\n",
    "# found_connection\n",
    "if found_connection is not None:\n",
    "    print(f'found_connection: {found_connection}, disconnecting...')\n",
    "    spike_raster_window.spike_raster_plt_2d.disconnect(found_connection)\n",
    "    print(f'\\t done.')\n",
    "    del connection_man.active_connections[ipspikesDataExplorer]\n",
    "    ipspikesDataExplorer.enable_ui_window_updating_controls() # disable the GUI for manual updates.\n",
    "    # self.disconnect(found_connection)\n",
    "    print(f'\\t removed!')\n",
    "else:\n",
    "    print(f'connection not found!')"
   ]
  },
  {
   "cell_type": "code",
   "execution_count": null,
   "id": "8eaef6da-62e1-4997-ad3d-48e81bc6bf76",
   "metadata": {
    "pycharm": {
     "is_executing": false,
     "name": "#%%\n"
    },
    "scrolled": true
   },
   "outputs": [],
   "source": [
    "ipspikesDataExplorer.disable_ui_window_updating_controls() # enable_ui_window_updating_controls() # disable the GUI for manual updates."
   ]
  },
  {
   "cell_type": "markdown",
   "id": "9103c7d7-c1a8-4e9d-bab1-f9e1a5e6e519",
   "metadata": {
    "pycharm": {
     "is_executing": false,
     "name": "#%%\n"
    }
   },
   "source": [
    "## Test Adding Dynamic Menus and Status bars:"
   ]
  },
  {
   "cell_type": "code",
   "execution_count": null,
   "id": "d3fbc3dc-6b43-4941-8316-9ca174bf1895",
   "metadata": {
    "pycharm": {
     "is_executing": false,
     "name": "#%%\n"
    },
    "scrolled": true
   },
   "outputs": [],
   "source": [
    "# ipspikesDataExplorer.p.app_window # <pyvistaqt.window.a_main_window at 0x16148c1e160>\n",
    "curr_window = ipspikesDataExplorer.p.app_window\n",
    "menubar = curr_window.menuBar()\n",
    "# root_children = menubar.children()\n",
    "root_children = [a_child for a_child in menubar.children() if isinstance(a_child, pg.QtWidgets.QMenu)] # .title\n",
    "root_children\n",
    "# QMenu\n",
    "# fileMenu = menubar.addMenu('&File')\n",
    "# [a_child.objectName() for a_child in menubar.children()] # .title\n",
    "\n",
    "[a_child.title() for a_child in root_children] # .title ['File', 'View', 'Tools', '', '&File']\n",
    "# QToolButton"
   ]
  },
  {
   "cell_type": "code",
   "execution_count": null,
   "id": "69d88be9-fa8c-46b5-b111-7a08ad03d077",
   "metadata": {
    "pycharm": {
     "is_executing": false,
     "name": "#%%\n"
    },
    "scrolled": true
   },
   "outputs": [],
   "source": [
    "from pyphoplacecellanalysis.GUI.Qt.Mixins.Menus.ConnectionControlsMenuMixin import ConnectionControlsMenuMixin\n",
    "curr_window, menuConnections, actions_dict = ConnectionControlsMenuMixin.try_add_connections_menu(spike_raster_window)"
   ]
  },
  {
   "cell_type": "code",
   "execution_count": null,
   "id": "59dd002b-d0b8-42fd-9d3d-d4ac84cc2459",
   "metadata": {
    "pycharm": {
     "is_executing": false,
     "name": "#%%\n"
    },
    "scrolled": true
   },
   "outputs": [],
   "source": [
    "from pyphoplacecellanalysis.GUI.Qt.Mixins.Menus.CreateNewConnectedWidgetMenuMixin import CreateNewConnectedWidgetMenuMixin\n",
    "curr_window, menuCreateNewConnected, actions_dict = CreateNewConnectedWidgetMenuMixin.try_add_create_new_connected_widget_menu(a_content_widget=spike_raster_window)"
   ]
  },
  {
   "cell_type": "code",
   "execution_count": null,
   "id": "e3c08211-0703-467c-869a-07916bae6c53",
   "metadata": {
    "pycharm": {
     "is_executing": false,
     "name": "#%%\n"
    }
   },
   "outputs": [],
   "source": [
    "## Actions to be executed to create new plotters:\n",
    "\n",
    "# TODO: see if we need to do something like\n",
    "# global_connected_widgets = {}\n",
    "\n",
    "class BaseMenuCommand:\n",
    "    \"\"\"\n",
    "    An abstract base command to be executed from a Menu item\n",
    "    \"\"\"\n",
    "    def __init__(self) -> None:\n",
    "        pass\n",
    "\n",
    "    @property\n",
    "    def is_visible(self):\n",
    "        return True\n",
    "    \n",
    "    @property\n",
    "    def is_enabled(self):\n",
    "        return True\n",
    "        \n",
    "    def execute(self, filename: str) -> None:\n",
    "        \"\"\" Implicitly captures spike_raster_window \"\"\"\n",
    "        raise NotImplementedError # implementors must override        \n",
    "        \n",
    "class CreateNewPyQtGraphPlotterCommand(BaseMenuCommand):\n",
    "    \"\"\"\n",
    "    A command to create a plotter as needed\n",
    "    \"\"\"\n",
    "    def __init__(self) -> None:\n",
    "        super(CreateNewPyQtGraphPlotterCommand, self).__init__()\n",
    "        self._hidden_files: List[str] = []\n",
    "        \n",
    "    def execute(self, filename: str) -> None:\n",
    "        \"\"\" Implicitly captures spike_raster_window \"\"\"\n",
    "        test_independent_pyqtgraph_raster_widget = spike_raster_window.create_new_connected_widget(type_of_3d_plotter='pyqtgraph')\n",
    "        test_independent_pyqtgraph_raster_widget.show()\n",
    "        # print(f\"hiding {filename}\")\n",
    "        # self._hidden_files.append(filename)\n",
    "\n",
    "        \n",
    "class CreateNewVedoPlotterCommand(BaseMenuCommand):\n",
    "    \"\"\"\n",
    "    A command to create a plotter as needed\n",
    "    \"\"\"\n",
    "    def __init__(self) -> None:\n",
    "        super(CreateNewVedoPlotterCommand, self).__init__()\n",
    "        self._hidden_files: List[str] = []\n",
    "        \n",
    "    def execute(self, filename: str) -> None:\n",
    "        \"\"\" Implicitly captures spike_raster_window \"\"\"\n",
    "        test_independent_vedo_raster_widget = spike_raster_window.create_new_connected_widget(type_of_3d_plotter='vedo')\n",
    "        test_independent_vedo_raster_widget.show()\n",
    "        # global_connected_widgets['test_independent_vedo_raster_widget'] = test_independent_vedo_raster_widget\n",
    "\n",
    "        \n",
    "## These DataExplorers can't be created from spike_raster_window alone because it only holds a spike_df and not a full session object. Thus need to capture:\n",
    "\"\"\" \n",
    "curr_active_pipeline, active_config_name, DefaultDisplayFunctions, display_output, and spike_raster_window\n",
    "\n",
    "\"\"\"\n",
    "class CreateNewDataExplorer_ipc_PlotterCommand(BaseMenuCommand):\n",
    "    def execute(self, filename: str) -> None:\n",
    "        pActiveTuningCurvesPlotter = None\n",
    "        display_output = {}\n",
    "        display_output = display_output | curr_active_pipeline.display(DefaultDisplayFunctions._display_3d_interactive_tuning_curves_plotter, active_config_name, extant_plotter=display_output.get('pActiveTuningCurvesPlotter', None), panel_controls_mode='Qt') # Works now!\n",
    "        ipcDataExplorer = display_output['ipcDataExplorer']\n",
    "        display_output['pActiveTuningCurvesPlotter'] = display_output.pop('plotter') # rename the key from the generic \"plotter\" to \"pActiveSpikesBehaviorPlotter\" to avoid collisions with others\n",
    "        pActiveTuningCurvesPlotter = display_output['pActiveTuningCurvesPlotter']\n",
    "        root_dockAreaWindow, placefieldControlsContainerWidget, pf_widgets = display_output['pane'] # for Qt mode:\n",
    "\n",
    "class CreateNewDataExplorer_ipspikes_PlotterCommand(BaseMenuCommand):\n",
    "    def execute(self, filename: str) -> None:\n",
    "        pActiveSpikesBehaviorPlotter = None\n",
    "        display_output = {}\n",
    "        display_output = display_output | curr_active_pipeline.display(DefaultDisplayFunctions._display_3d_interactive_spike_and_behavior_browser, active_config_name, extant_plotter=display_output.get('pActiveSpikesBehaviorPlotter', None)) # Works now!\n",
    "        ipspikesDataExplorer = display_output['ipspikesDataExplorer']\n",
    "        display_output['pActiveSpikesBehaviorPlotter'] = display_output.pop('plotter') # rename the key from the generic \"plotter\" to \"pActiveSpikesBehaviorPlotter\" to avoid collisions with others\n",
    "        pActiveSpikesBehaviorPlotter = display_output['pActiveSpikesBehaviorPlotter']\n",
    "        ## Sync ipspikesDataExplorer to raster window:\n",
    "        extra_interactive_spike_behavior_browser_sync_connection = spike_raster_window.connect_additional_controlled_plotter(controlled_plt=ipspikesDataExplorer)\n",
    "        # test_independent_vedo_raster_widget.show()\n",
    "       \n",
    "        \n",
    "        \n",
    "test_menu_commands = [CreateNewPyQtGraphPlotterCommand(), CreateNewVedoPlotterCommand(), CreateNewDataExplorer_ipc_PlotterCommand(), CreateNewDataExplorer_ipspikes_PlotterCommand()]\n",
    "test_menu_commands"
   ]
  },
  {
   "cell_type": "code",
   "execution_count": null,
   "id": "efcd8d2d-17a8-4bdd-ab34-9a85d59efc16",
   "metadata": {
    "pycharm": {
     "is_executing": false,
     "name": "#%%\n"
    }
   },
   "outputs": [],
   "source": [
    "# test_menu_commands[0].execute('test')\n",
    "test_menu_commands[3].execute('test')"
   ]
  },
  {
   "cell_type": "code",
   "execution_count": null,
   "id": "525df024-95e6-49ce-b53a-3ec47a63b76a",
   "metadata": {
    "pycharm": {
     "is_executing": false,
     "name": "#%%\n"
    }
   },
   "outputs": [],
   "source": [
    "def _test_create_new_pyqtgraph_plotter():\n",
    "    \"\"\" Implicitly captures spike_raster_window \"\"\"\n",
    "    test_independent_pyqtgraph_raster_widget = spike_raster_window.create_new_connected_widget(type_of_3d_plotter='pyqtgraph')\n",
    "    test_independent_pyqtgraph_raster_widget.show()\n",
    "    \n",
    "def _test_create_new_vedo_plotter():\n",
    "    \"\"\" Implicitly captures spike_raster_window \"\"\"\n",
    "    test_independent_vedo_raster_widget = spike_raster_window.create_new_connected_widget(type_of_3d_plotter='vedo')\n",
    "    test_independent_vedo_raster_widget.show()\n",
    "    # global_connected_widgets['test_independent_vedo_raster_widget'] = test_independent_vedo_raster_widget\n",
    "    \n",
    "## These DataExplorers can't be created from spike_raster_window alone because it only holds a spike_df and not a full session object. Thus need to capture:\n",
    "\"\"\" \n",
    "curr_active_pipeline, active_config_name, DefaultDisplayFunctions, display_output, and spike_raster_window\n",
    "\n",
    "\"\"\"\n",
    "def _test_create_new_DataExplorer_ipc_plotter():\n",
    "    \"\"\" Implicitly captures spike_raster_window \"\"\"\n",
    "    pActiveTuningCurvesPlotter = None\n",
    "    display_output = {}\n",
    "    display_output = display_output | curr_active_pipeline.display(DefaultDisplayFunctions._display_3d_interactive_tuning_curves_plotter, active_config_name, extant_plotter=display_output.get('pActiveTuningCurvesPlotter', None), panel_controls_mode='Qt') # Works now!\n",
    "    ipcDataExplorer = display_output['ipcDataExplorer']\n",
    "    display_output['pActiveTuningCurvesPlotter'] = display_output.pop('plotter') # rename the key from the generic \"plotter\" to \"pActiveSpikesBehaviorPlotter\" to avoid collisions with others\n",
    "    pActiveTuningCurvesPlotter = display_output['pActiveTuningCurvesPlotter']\n",
    "    root_dockAreaWindow, placefieldControlsContainerWidget, pf_widgets = display_output['pane'] # for Qt mode:\n",
    "    \n",
    "def _test_create_new_DataExplorer_ipspikes_plotter():\n",
    "    \"\"\" Implicitly captures spike_raster_window \"\"\"\n",
    "    pActiveSpikesBehaviorPlotter = None\n",
    "    display_output = {}\n",
    "    display_output = display_output | curr_active_pipeline.display(DefaultDisplayFunctions._display_3d_interactive_spike_and_behavior_browser, active_config_name, extant_plotter=display_output.get('pActiveSpikesBehaviorPlotter', None)) # Works now!\n",
    "    ipspikesDataExplorer = display_output['ipspikesDataExplorer']\n",
    "    display_output['pActiveSpikesBehaviorPlotter'] = display_output.pop('plotter') # rename the key from the generic \"plotter\" to \"pActiveSpikesBehaviorPlotter\" to avoid collisions with others\n",
    "    pActiveSpikesBehaviorPlotter = display_output['pActiveSpikesBehaviorPlotter']\n",
    "    ## Sync ipspikesDataExplorer to raster window:\n",
    "    extra_interactive_spike_behavior_browser_sync_connection = spike_raster_window.connect_additional_controlled_plotter(controlled_plt=ipspikesDataExplorer)\n",
    "    # test_independent_vedo_raster_widget.show()\n",
    "\n",
    "\n",
    "curr_window.ui.createNewConnectedWidgetMenuActionsDict['actionNewConnected3DRaster_PyQtGraph'].triggered.connect(_test_create_new_pyqtgraph_plotter)\n",
    "curr_window.ui.createNewConnectedWidgetMenuActionsDict['actionNewConnected3DRaster_Vedo'].triggered.connect(_test_create_new_vedo_plotter)\n",
    "curr_window.ui.createNewConnectedWidgetMenuActionsDict['actionNewConnectedDataExplorer_ipc'].triggered.connect(_test_create_new_DataExplorer_ipc_plotter)\n",
    "curr_window.ui.createNewConnectedWidgetMenuActionsDict['actionNewConnectedDataExplorer_ipspikes'].triggered.connect(_test_create_new_DataExplorer_ipspikes_plotter)\n",
    "\n",
    "\n",
    "# curr_window"
   ]
  },
  {
   "cell_type": "code",
   "execution_count": null,
   "id": "1d086a15-9a42-4b17-8c8f-c42493f24bdc",
   "metadata": {
    "pycharm": {
     "is_executing": false,
     "name": "#%%\n"
    },
    "scrolled": true
   },
   "outputs": [],
   "source": [
    "CreateNewConnectedWidgetMenuMixin.try_remove_create_new_connected_widget_menu(a_content_widget=spike_raster_window)"
   ]
  },
  {
   "cell_type": "code",
   "execution_count": null,
   "id": "8d5f9320-1728-47ef-b0bd-90aaca9de609",
   "metadata": {
    "pycharm": {
     "is_executing": false,
     "name": "#%%\n"
    },
    "scrolled": true
   },
   "outputs": [],
   "source": [
    "curr_window.ui.menubar"
   ]
  },
  {
   "cell_type": "code",
   "execution_count": null,
   "id": "b25037d3-a3e2-4ccd-b1f8-2d4c7ee5d3a9",
   "metadata": {
    "pycharm": {
     "is_executing": false,
     "name": "#%%\n"
    },
    "scrolled": true
   },
   "outputs": [],
   "source": [
    "curr_window.menuBar()"
   ]
  },
  {
   "cell_type": "code",
   "execution_count": null,
   "id": "cd498763-31ed-46ca-b341-a7a0fe487e1f",
   "metadata": {
    "pycharm": {
     "is_executing": false,
     "name": "#%%\n"
    },
    "scrolled": true
   },
   "outputs": [],
   "source": [
    "found_extant_menu = curr_window.ui.menubar.findChild(QtWidgets.QMenu, \"menuCreateNewConnectedWidget\") #\"menuCreateNewConnectedWidget\"\n",
    "found_extant_menu"
   ]
  },
  {
   "cell_type": "code",
   "execution_count": null,
   "id": "038de6d0-bead-4792-b2f5-b29883bcecf6",
   "metadata": {
    "pycharm": {
     "is_executing": false,
     "name": "#%%\n"
    },
    "scrolled": true
   },
   "outputs": [],
   "source": [
    "found_extant_menu.isVisible()"
   ]
  },
  {
   "cell_type": "code",
   "execution_count": null,
   "id": "f9d0e7c6-4821-4d0a-bd4c-717c96182ca5",
   "metadata": {
    "pycharm": {
     "is_executing": false,
     "name": "#%%\n"
    },
    "scrolled": true
   },
   "outputs": [],
   "source": [
    "found_extant_menu.isEmpty()"
   ]
  },
  {
   "cell_type": "code",
   "execution_count": null,
   "id": "c9f71803-49f5-49c2-a849-bb0fccff6746",
   "metadata": {
    "pycharm": {
     "is_executing": false,
     "name": "#%%\n"
    },
    "scrolled": true
   },
   "outputs": [],
   "source": [
    "found_extant_menu.isEnabled()"
   ]
  },
  {
   "cell_type": "code",
   "execution_count": null,
   "id": "58ad72f4-03ba-4239-95a4-0c0658a912d2",
   "metadata": {
    "pycharm": {
     "is_executing": false,
     "name": "#%%\n"
    },
    "scrolled": true
   },
   "outputs": [],
   "source": [
    "found_extant_menu.children()\n",
    "# found_extant_menu.removeAction()\n",
    "found_extant_menu.clear()"
   ]
  },
  {
   "cell_type": "code",
   "execution_count": null,
   "id": "35982433-2af1-4512-83b8-f07f0b24e138",
   "metadata": {
    "pycharm": {
     "is_executing": false,
     "name": "#%%\n"
    },
    "scrolled": true
   },
   "outputs": [],
   "source": [
    "curr_window.ui.menubar.clear()\n",
    "curr_window.ui.menubar.removeAction(curr_window.ui.actionMenuCreateNewConnectedWidget)"
   ]
  },
  {
   "cell_type": "code",
   "execution_count": null,
   "id": "2a3800f7-0d7c-45e2-8574-967c17ca7ff6",
   "metadata": {
    "pycharm": {
     "is_executing": false,
     "name": "#%%\n"
    },
    "scrolled": true
   },
   "outputs": [],
   "source": [
    "curr_window.ui.menubar.clear()"
   ]
  },
  {
   "cell_type": "code",
   "execution_count": null,
   "id": "70de36ee-0504-4eb9-8bf2-9d64a44a5fb3",
   "metadata": {
    "pycharm": {
     "is_executing": false,
     "name": "#%%\n"
    },
    "scrolled": true
   },
   "outputs": [],
   "source": [
    "curr_window.ui.menubar.clear()"
   ]
  },
  {
   "cell_type": "code",
   "execution_count": null,
   "id": "ede25e8e-4a40-404d-a97d-3418c7d55c64",
   "metadata": {
    "pycharm": {
     "is_executing": false,
     "name": "#%%\n"
    },
    "scrolled": true
   },
   "outputs": [],
   "source": [
    "def _test_connect_child():\n",
    "    \"\"\" Implicitly captures ipspikesDataExplorer \"\"\"\n",
    "    found_child_drivables = ipspikesDataExplorer.connection_man.get_available_drivables() # get the list of drivable children\n",
    "    print(f'found_child_drivables: {found_child_drivables}')\n",
    "    extra_interactive_spike_behavior_browser_sync_connection = connection_man.connect_drivable_to_driver(drivable=ipspikesDataExplorer, driver=spike_raster_window.spike_raster_plt_2d)\n",
    "    \n",
    "def _test_disconnect_child():\n",
    "    \n",
    "    \n",
    "ipspikesDataExplorer.p.app_window.ui.actionConnect_Child.triggered.connect(_test_connect_child)"
   ]
  },
  {
   "cell_type": "code",
   "execution_count": null,
   "id": "ea5afba7-f78a-4197-b9ba-a4f2200d37b3",
   "metadata": {
    "pycharm": {
     "is_executing": false,
     "name": "#%%\n"
    },
    "scrolled": true
   },
   "outputs": [],
   "source": [
    "root_window, menuConnections, actions_dict = ConnectionControlsMenuMixin.try_add_connections_menu(ipspikesDataExplorer.p.app_window) # none of these properties need to be saved directly, as they're accessible via ipspikesDataExplorer.p.app_window.window()"
   ]
  },
  {
   "cell_type": "code",
   "execution_count": null,
   "id": "cfc46e2b-2024-4c5d-a234-1844f045d10e",
   "metadata": {
    "pycharm": {
     "is_executing": false,
     "name": "#%%\n"
    },
    "scrolled": true
   },
   "outputs": [],
   "source": [
    "ConnectionControlsMenuMixin.try_remove_connections_menu(spike_raster_window)"
   ]
  },
  {
   "cell_type": "markdown",
   "id": "20bb5efc-8399-4267-95eb-fc5d4a9f5bb8",
   "metadata": {
    "pycharm": {
     "is_executing": false,
     "name": "#%%\n"
    }
   },
   "source": [
    "### Test Adding Dynamic Menu for \"Create New connected...\":"
   ]
  },
  {
   "cell_type": "code",
   "execution_count": null,
   "id": "e937bf48-89d2-4e87-9b90-37b09485495b",
   "metadata": {
    "pycharm": {
     "is_executing": false,
     "name": "#%%\n"
    },
    "scrolled": true
   },
   "outputs": [],
   "source": [
    "# class MenuItemDefn(object):\n",
    "from qtpy import QtCore, QtGui, QtWidgets\n",
    "from pyphocorehelpers.gui.PhoUIContainer import PhoUIContainer\n",
    "from pyphoplacecellanalysis.GUI.Qt.MainWindowWrapper import PhoBaseMainWindow\n",
    "from pyphoplacecellanalysis.Resources import GuiResources, ActionIcons\n",
    "from pyphoplacecellanalysis.GUI.Qt.Mixins.PhoMenuHelper import PhoMenuHelper\n",
    "from pyphoplacecellanalysis.General.Mixins.StylesheetThemingHelpers import StylesheetThemingHelpers\n",
    "from pyphoplacecellanalysis.GUI.Qt.Mixins.Menus.DebugMenuProviderMixin import DebugMenuProviderMixin\n",
    "mainWindow = PhoMenuHelper.try_get_menu_window(spike_raster_window)\n",
    "menubar = PhoMenuHelper.try_get_menu_bar(spike_raster_window)\n",
    "PhoMenuHelper.set_menu_default_stylesheet(menubar) # Sets the default menu stylesheet"
   ]
  },
  {
   "cell_type": "code",
   "execution_count": null,
   "id": "7d5fa564-61af-4d29-aa8e-f8b9d6e498d7",
   "metadata": {
    "pycharm": {
     "is_executing": false,
     "name": "#%%\n"
    },
    "scrolled": true
   },
   "outputs": [],
   "source": [
    "# mainWindow # PhoBaseMainWindow \n",
    "spike_raster_window.window() # PhoBaseMainWindow\n",
    "# spike_raster_window.window() = None\n",
    "# spike_raster_window.windowName\n",
    "# mainWindow = None"
   ]
  },
  {
   "cell_type": "code",
   "execution_count": null,
   "id": "b1eabe55-0ee6-4367-99e9-cbddfc67d027",
   "metadata": {
    "pycharm": {
     "is_executing": false,
     "name": "#%%\n"
    },
    "scrolled": true
   },
   "outputs": [],
   "source": [
    "spike_raster_window.windowHandle() # <PyQt5.QtGui.QWindow at 0x150301f5040>\n",
    "spike_raster_window.window() # <pyphoplacecellanalysis.GUI.Qt.SpikeRasterWindows.Spike3DRasterWindowWidget.Spike3DRasterWindowWidget at 0x1502d5df700>\n",
    "\n",
    "# spike_raster_window.setParent()"
   ]
  },
  {
   "cell_type": "code",
   "execution_count": null,
   "id": "1a33b81c-0ea7-4ea9-bd53-b714f98489bd",
   "metadata": {
    "pycharm": {
     "is_executing": false,
     "name": "#%%\n"
    },
    "scrolled": true
   },
   "outputs": [],
   "source": [
    "mainWindow.windowType()"
   ]
  },
  {
   "cell_type": "markdown",
   "id": "919d2465-2693-4a14-b252-be60294618ef",
   "metadata": {
    "pycharm": {
     "is_executing": false,
     "name": "#%%\n"
    }
   },
   "source": [
    "#### Build New Test Menu:"
   ]
  },
  {
   "cell_type": "code",
   "execution_count": null,
   "id": "35a914c4-10f7-4310-bad6-13a4e99cb5f5",
   "metadata": {
    "pycharm": {
     "is_executing": false,
     "name": "#%%\n"
    },
    "scrolled": true
   },
   "outputs": [],
   "source": [
    "DebugMenuProviderMixin"
   ]
  },
  {
   "cell_type": "code",
   "execution_count": null,
   "id": "d91dc7ad-17cd-4339-ab8d-4ed5274ca98b",
   "metadata": {
    "pycharm": {
     "is_executing": false,
     "name": "#%%\n"
    },
    "scrolled": true
   },
   "outputs": [],
   "source": [
    "# Define dictionary:\n",
    "mainWindow.ui.menuDebugActionsDict = {}\n",
    "an_action_key, active_debug_menu = PhoMenuHelper.add_menu(a_main_window=mainWindow, text=\"Debug\", name='actionMenuDebug', parent_menu=menubar, menu_actions_dict=mainWindow.ui.menuDebugActionsDict)\n",
    "an_action_key # 'actionMenuDebug'"
   ]
  },
  {
   "cell_type": "code",
   "execution_count": null,
   "id": "15e0b8d5-5d37-4ac7-af08-008c0ba72998",
   "metadata": {
    "pycharm": {
     "is_executing": false,
     "name": "#%%\n"
    },
    "scrolled": true
   },
   "outputs": [],
   "source": [
    "# active_debug_menu = mainWindow.ui['actionMenuDebug']\n",
    "# active_debug_menu\n",
    "active_debug_menu"
   ]
  },
  {
   "cell_type": "code",
   "execution_count": null,
   "id": "a0a79023-70eb-4136-8ea9-3a299c3bbf4b",
   "metadata": {
    "pycharm": {
     "is_executing": false,
     "name": "#%%\n"
    },
    "scrolled": true
   },
   "outputs": [],
   "source": [
    "mainWindow.ui.menuDebugActionsDict"
   ]
  },
  {
   "cell_type": "code",
   "execution_count": null,
   "id": "78a8124b-846a-4996-aa76-130749946272",
   "metadata": {
    "pycharm": {
     "is_executing": false,
     "name": "#%%\n"
    },
    "scrolled": true
   },
   "outputs": [],
   "source": [
    "an_action_key, active_drivers_menu = PhoMenuHelper.add_menu(a_main_window=mainWindow, text=\"Active Drivers\", name='actionMenuDebugMenuActiveDrivers', parent_menu=active_debug_menu, menu_actions_dict=mainWindow.ui.menuDebugActionsDict)\n",
    "# active_drivers_menu = mainWindow.ui['actionMenuDebugMenuActiveDrivers']\n",
    "an_action_key, active_drivables_menu = PhoMenuHelper.add_menu(a_main_window=mainWindow, text=\"Active Drivables\", name='actionMenuDebugMenuActiveDrivables', parent_menu=active_debug_menu, menu_actions_dict=mainWindow.ui.menuDebugActionsDict)\n",
    "# active_drivables_menu = mainWindow.ui['actionMenuDebugMenuActiveDrivables']\n",
    "an_action_key, active_connections_menu = PhoMenuHelper.add_menu(a_main_window=mainWindow, text=\"Active Connections\", name='actionMenuDebugMenuActiveConnections', parent_menu=active_debug_menu, menu_actions_dict=mainWindow.ui.menuDebugActionsDict)\n",
    "# active_connections_menu = mainWindow.ui['actionMenuDebugMenuActiveConnections']"
   ]
  },
  {
   "cell_type": "code",
   "execution_count": null,
   "id": "190d8f58-04e6-49a3-bb58-ec954de62e46",
   "metadata": {
    "pycharm": {
     "is_executing": false,
     "name": "#%%\n"
    },
    "scrolled": true
   },
   "outputs": [],
   "source": [
    "# Adding a separator\n",
    "# fileMenu.addSeparator()\n",
    "\n",
    "\n",
    "## Add the dynamic menu entries:\n",
    "\n",
    "\n",
    "\n",
    "\n",
    "\n",
    "# menu = QtWidgets.QMenu()\n",
    "# menu.addAction(\"red\")\n",
    "# menu.addAction(\"green\")\n",
    "# menu.addAction(\"blue\")\n",
    "# colorButton.setMenu(menu)\n",
    "\n",
    "# menu.triggered.connect(lambda action: print(action.text()))\n",
    "\n",
    "active_drivers_menu.addActions()"
   ]
  },
  {
   "cell_type": "code",
   "execution_count": null,
   "id": "7c6738ff-d2dd-4047-b34f-bae97d616e7e",
   "metadata": {
    "pycharm": {
     "is_executing": false,
     "name": "#%%\n"
    },
    "scrolled": true
   },
   "outputs": [],
   "source": [
    "## Update Drivers Menu:\n",
    "curr_drivers_items = list(connection_man.registered_available_drivers.keys())\n",
    "for a_driver_key in curr_drivers_items:\n",
    "    active_drivers_menu.addAction(a_driver_key)\n",
    "# active_drivers_menu.triggered.connect(lambda action: print(action.text()))\n",
    "active_drivers_menu.triggered.connect(lambda action: print(connection_man.registered_available_drivers.get(action.text(), f'Driver KeyNotFound: {action.text()}')))"
   ]
  },
  {
   "cell_type": "code",
   "execution_count": null,
   "id": "b31c5ea6-25ae-4bab-b521-212d56fde7cb",
   "metadata": {
    "pycharm": {
     "is_executing": false,
     "name": "#%%\n"
    },
    "scrolled": true
   },
   "outputs": [],
   "source": [
    "## Update Drivable Menu:\n",
    "curr_drivable_items = list(connection_man.registered_available_drivables.keys())\n",
    "for a_driveable_key in curr_drivable_items:\n",
    "    active_drivables_menu.addAction(a_driveable_key)\n",
    "active_drivables_menu.triggered.connect(lambda action: print(connection_man.registered_available_drivables.get(action.text(), f'Drivable KeyNotFound: {action.text()}')))"
   ]
  },
  {
   "cell_type": "code",
   "execution_count": null,
   "id": "5e0cdf68-bdc8-42bf-b70e-5b08c93712e7",
   "metadata": {
    "pycharm": {
     "is_executing": false,
     "name": "#%%\n"
    },
    "scrolled": true
   },
   "outputs": [],
   "source": [
    "curr_connections_items = list(connection_man.active_connections.keys())\n",
    "curr_connection_item = connection_man.active_connections.items()[0] # (<pyphoplacecellanalysis.GUI.PyQtPlot.Widgets.SpikeRasterWidgets.Spike3DRaster.Spike3DRaster at 0x230d539ddc0>, <pyphoplacecellanalysis.External.pyqtgraph.SignalProxy.SignalProxy at 0x230e7c86430>)\n",
    "# curr_connection_item[0]\n",
    "curr_connection_value = curr_connection_item[1] # <pyphoplacecellanalysis.External.pyqtgraph.SignalProxy.SignalProxy at 0x230e7c86430>\n",
    "# curr_connection_value.dumpObjectTree()\n",
    "# curr_connection_value.dumpObjectInfo()\n",
    "# curr_connection_value.sender()\n",
    "# curr_connection_value.slot\n",
    "curr_connection_value.signal # <bound PYQT_SIGNAL window_scrolled of Spike2DRaster object at 0x00000230D5384DC0>\n",
    "# curr_connection_value.signal.signal\n"
   ]
  },
  {
   "cell_type": "code",
   "execution_count": null,
   "id": "4c01df07-2d6c-4bc1-bc36-942779bbe6ea",
   "metadata": {
    "pycharm": {
     "is_executing": false,
     "name": "#%%\n"
    },
    "scrolled": true
   },
   "outputs": [],
   "source": [
    "## Update Connections Menu:\n",
    "curr_connections_items = list(connection_man.active_connections.keys())\n",
    "for a_connection_key in curr_connections_items:\n",
    "    active_connections_menu.addAction(a_connection_key)\n",
    "active_connections_menu.triggered.connect(lambda action: print(connection_man.active_connections.get(action.text(), f'Connection KeyNotFound: {action.text()}')))"
   ]
  },
  {
   "cell_type": "code",
   "execution_count": null,
   "id": "84451503-d676-4569-be3e-cfc2e68d2aab",
   "metadata": {
    "pycharm": {
     "is_executing": false,
     "name": "#%%\n"
    },
    "scrolled": true
   },
   "outputs": [],
   "source": [
    "# menubar.children()\n",
    "# active_debug_menu.findChild(QtWidgets.QMenu, name=\"actionMenuDebugMenuActiveDrivers\")\n",
    "# active_debug_menu.findChild(\"actionMenuDebugMenuActiveDrivers\")\n",
    "active_debug_menu.findChild(QtWidgets.QMenu)\n",
    "active_debug_menu.children()\n",
    "# menubar.findChild(\"actionMenuDebugMenuActiveDrivers\")\n",
    "# actionMenuDebugMenuActiveConnections"
   ]
  },
  {
   "cell_type": "code",
   "execution_count": null,
   "id": "40fa7e8b-84b9-4e14-90bb-71853e1ce795",
   "metadata": {
    "pycharm": {
     "is_executing": false,
     "name": "#%%\n"
    },
    "scrolled": true
   },
   "outputs": [],
   "source": [
    "## Remove Debug Menu:\n",
    "curr_window = mainWindow\n",
    "curr_menubar = menubar\n",
    "curr_actions_dict = mainWindow.ui.menuDebugActionsDict\n",
    "\n",
    "curr_menubar.removeAction(curr_actions_dict['actionMenuDebug'])\n",
    "curr_window.ui.actionMenuDebug = None\n",
    "curr_window.ui.menuDebugActionsDict = {} # Empty the dict of actions\n"
   ]
  },
  {
   "cell_type": "code",
   "execution_count": null,
   "id": "03016223-738a-4966-8599-3aa0fd1b17f5",
   "metadata": {
    "pycharm": {
     "is_executing": false,
     "name": "#%%\n"
    },
    "scrolled": true
   },
   "outputs": [],
   "source": [
    "root_window, menuConnections, actions_dict = ConnectionControlsMenuMixin.try_add_connections_menu(ipspikesDataExplorer.p.app_window) # none of these properties need to be saved directly, as they're accessible via ipspikesDataExplorer.p.app_window.window()"
   ]
  },
  {
   "cell_type": "markdown",
   "id": "a3ce34d1-7b04-40f3-96a2-408676eb967f",
   "metadata": {
    "pycharm": {
     "is_executing": false,
     "name": "#%%\n"
    }
   },
   "source": [
    "## Extras"
   ]
  },
  {
   "cell_type": "code",
   "execution_count": null,
   "id": "553ff9bc-533b-47eb-9257-9b4eebc10dc5",
   "metadata": {
    "pycharm": {
     "is_executing": false,
     "name": "#%%\n"
    }
   },
   "outputs": [],
   "source": [
    "# spike_raster_window.render_window_duration\n",
    "# spike_raster_window.spikes_window.active_window_end_time\n",
    "spike_raster_window.spikes_window.window_duration"
   ]
  },
  {
   "cell_type": "code",
   "execution_count": null,
   "id": "b3e1d674-569b-445e-90f7-eac577c20fd0",
   "metadata": {
    "pycharm": {
     "is_executing": false,
     "name": "#%%\n"
    }
   },
   "outputs": [],
   "source": [
    "### Debug printing for color properties of spike_raster_window\n",
    "_debug_params = spike_raster_window.spike_raster_plt_2d.params\n",
    "# _debug_params.neuron_colors\n",
    "# _debug_params.config_items\n",
    "# spike_raster_window.params"
   ]
  },
  {
   "cell_type": "code",
   "execution_count": null,
   "id": "93222276-7cd0-480e-a353-5cdf6fb0557c",
   "metadata": {
    "pycharm": {
     "is_executing": false,
     "name": "#%%\n"
    }
   },
   "outputs": [],
   "source": [
    "# Wanted to try to set setClickable(True) on the children widgets\n",
    "\n",
    "# spike_raster_window.spike_raster_plt_2d.plots # {'name': '', 'preview_overview_scatter_plot': <pyphoplacecellanalysis.External.pyqtgraph.graphicsItems.ScatterPlotItem.ScatterPlotItem object at 0x0000020AA96D9E50>}\n",
    "# spike_raster_window.spike_raster_plt_2d.plots.main_plot_widget # <pyphoplacecellanalysis.External.pyqtgraph.graphicsItems.PlotItem.PlotItem.PlotItem at 0x20aecdf0ee0>\n",
    "# spike_raster_window.spike_raster_plt_2d.plots.main_plot_widget.curves # [<pyphoplacecellanalysis.External.pyqtgraph.graphicsItems.ScatterPlotItem.ScatterPlotItem at 0x20aa92a5820>]\n",
    "\n",
    "# Static Background Overview Scatter Plot:\n",
    "active_overview_scatter_plot = spike_raster_window.spike_raster_plt_2d.plots.preview_overview_scatter_plot # ScatterPlotItem \n",
    "# active_overview_scatter_plot.addPoints(hoverable=True)\n",
    "\n",
    "## Main Scatter Plot \n",
    "main_scatter_plot = spike_raster_window.spike_raster_plt_2d.plots.main_plot_widget.curves[0] # ScatterPlotItem \n",
    "# main_scatter_plot.setAcceptHoverEvents(True)\n",
    "\n",
    "# Common Tick Label\n",
    "vtick = QtGui.QPainterPath()\n",
    "vtick.moveTo(0, -0.5)\n",
    "vtick.lineTo(0, 0.5)\n",
    "\n",
    "# # Highlights the hovered spikes white:\n",
    "# main_scatter_plot.addPoints(hoverable=True,\n",
    "#     hoverSymbol=vtick, # hoverSymbol='s',\n",
    "#     hoverSize=7, # default is 5\n",
    "#     hoverPen=pg.mkPen('w', width=2),\n",
    "#     hoverBrush=pg.mkBrush('w'))\n",
    "\n",
    "# Highlights the hovered spikes white:\n",
    "main_scatter_plot.addPoints(hoverable=True,\n",
    "    # hoverSymbol=vtick, # hoverSymbol='s',\n",
    "    hoverSize=7, # default is 5\n",
    "    )\n",
    "\n",
    "\n",
    "## Clickable/Selectable Spikes:\n",
    "# Will make all plots clickable\n",
    "clickedPen = pg.mkPen('#DDD', width=2)\n",
    "lastClicked = []\n",
    "def _test_scatter_plot_clicked(plot, points):\n",
    "    global lastClicked\n",
    "    for p in lastClicked:\n",
    "        p.resetPen()\n",
    "    print(\"clicked points\", points)\n",
    "    for p in points:\n",
    "        p.setPen(clickedPen)\n",
    "    lastClicked = points\n",
    "        \n",
    "## Hoverable Spikes:\n",
    "def _test_scatter_plot_hovered(plt, points, ev):\n",
    "    # sigHovered(self, points, ev)\n",
    "    print(f'_test_scatter_plot_hovered(plt: {plt}, points: {points}, ev: {ev})')\n",
    "    if (len(points) > 0):\n",
    "        curr_point = points[0]\n",
    "        # self.\n",
    "        # curr_point.index\n",
    "\n",
    "main_scatter_hovered_connection = main_scatter_plot.sigHovered.connect(_test_scatter_plot_hovered)\n",
    "main_scatter_clicked_connection = main_scatter_plot.sigClicked.connect(_test_scatter_plot_clicked)\n",
    "\n",
    "# tip\n",
    "# .sigHovered \n",
    "# TypeError: 'VisualizationParameters' object is not subscriptable"
   ]
  },
  {
   "cell_type": "code",
   "execution_count": null,
   "id": "17dba03e-6715-4152-a3ca-45320e551d7a",
   "metadata": {
    "pycharm": {
     "is_executing": false,
     "name": "#%%\n"
    }
   },
   "outputs": [],
   "source": [
    "## Test Adding ROIs of interest to the 2D Raster Plot:\n",
    "rois = []\n",
    "rois.append(pg.MultiRectROI([[20, 90], [50, 60], [60, 90]], width=5, pen=(2,9)))\n",
    "\n",
    "def update(roi):\n",
    "    img1b.setImage(roi.getArrayRegion(arr, img1a), levels=(0, arr.max()))\n",
    "    v1b.autoRange()\n",
    "    \n",
    "for roi in rois:\n",
    "    roi.sigRegionChanged.connect(update)\n",
    "    v1a.addItem(roi)"
   ]
  },
  {
   "cell_type": "code",
   "execution_count": null,
   "id": "27412504-b512-4896-b955-a9d910a8752b",
   "metadata": {
    "pycharm": {
     "is_executing": false,
     "name": "#%%\n"
    }
   },
   "outputs": [],
   "source": [
    "curve.curve.setClickable(True)"
   ]
  },
  {
   "cell_type": "markdown",
   "id": "eb18a15d-dd8c-4973-8316-7e9e2a622e11",
   "metadata": {
    "jp-MarkdownHeadingCollapsed": true,
    "pycharm": {
     "is_executing": false,
     "name": "#%%\n"
    }
   },
   "source": [
    "## Updated Color Config Handling"
   ]
  },
  {
   "cell_type": "code",
   "execution_count": null,
   "id": "bda8eb46-1aca-4646-9190-50cffa7552b5",
   "metadata": {
    "pycharm": {
     "is_executing": false,
     "name": "#%%\n"
    }
   },
   "outputs": [],
   "source": [
    "ipcDataExplorer.active_neuron_render_configs"
   ]
  },
  {
   "cell_type": "code",
   "execution_count": null,
   "id": "b2aa52bc-eaa3-4c3b-bddd-2602b120ad63",
   "metadata": {
    "pycharm": {
     "is_executing": false,
     "name": "#%%\n"
    }
   },
   "outputs": [],
   "source": [
    "# [SingleNeuronPlottingExtended(color='#843c39', extended_values_dictionary={}, isVisible=False, name='2', spikesVisible=False),\n",
    "#  SingleNeuronPlottingExtended(color='#9d514e', extended_values_dictionary={}, isVisible=False, name='3', spikesVisible=False),\n",
    "#  ...\n",
    "# ]"
   ]
  },
  {
   "cell_type": "code",
   "execution_count": null,
   "id": "a56ee0e0-6db3-4b25-8d24-05b7a7190311",
   "metadata": {
    "pycharm": {
     "is_executing": false,
     "name": "#%%\n"
    }
   },
   "outputs": [],
   "source": [
    "test_updated_configs_colors_map[3] = '#333333'"
   ]
  },
  {
   "cell_type": "code",
   "execution_count": null,
   "id": "42b57cec-6199-4917-98b8-3aae10460e07",
   "metadata": {
    "pycharm": {
     "is_executing": false,
     "name": "#%%\n"
    }
   },
   "outputs": [],
   "source": [
    "# Test applying changes to configs:\n",
    "active_configs_map, updated_ids_list, updated_configs_list = _test_apply_updated_colors_map_to_configs(active_configs_map, test_updated_configs_colors_map)\n",
    "# active_configs_map"
   ]
  },
  {
   "cell_type": "code",
   "execution_count": null,
   "id": "bb99d50f-d3dd-43d0-8507-0f5740540b30",
   "metadata": {
    "pycharm": {
     "is_executing": false,
     "name": "#%%\n"
    }
   },
   "outputs": [],
   "source": [
    "## Test applying it to the Qt widgets:\n",
    "# ipcDataExplorer.find_rows_matching_cell_ids\n",
    "\n",
    "ipcDataExplorer.active_neuron_render_configs"
   ]
  },
  {
   "cell_type": "code",
   "execution_count": null,
   "id": "61d060ca-b27f-43e1-bd20-1b560f525f0a",
   "metadata": {
    "pycharm": {
     "is_executing": false,
     "name": "#%%\n"
    }
   },
   "outputs": [],
   "source": [
    "test_updated_configs_colors_map"
   ]
  },
  {
   "cell_type": "code",
   "execution_count": null,
   "id": "56380160-73d7-4a2b-8f34-9ada12680466",
   "metadata": {
    "pycharm": {
     "is_executing": false,
     "name": "#%%\n"
    }
   },
   "outputs": [],
   "source": [
    "# updated_ids_list\n",
    "updated_configs_list"
   ]
  },
  {
   "cell_type": "code",
   "execution_count": null,
   "id": "ccccf2a9-c29c-4a78-ba95-b7c547f65db5",
   "metadata": {
    "pycharm": {
     "is_executing": false,
     "name": "#%%\n"
    }
   },
   "outputs": [],
   "source": [
    "# ipcDataExplorer.update_spikes()\n",
    "# ipcDataExplorer.gui.\n",
    "# placefieldControlsContainerWidget\n",
    "\n",
    "ipcDataExplorer.neuron_id_pf_widgets_map = _build_id_index_configs_dict(pf_widgets)\n",
    "apply_updated_configs_to_pf_widgets(ipcDataExplorer.neuron_id_pf_widgets_map, active_configs_map)\n",
    "\n",
    "\n",
    "# neuron_id_pf_widgets_map\n",
    "\n",
    "# for a_pf_ctrl_widget in pf_widgets:\n",
    "#     print(f'{a_pf_ctrl_widget.name}')\n",
    "#     # int(a_config.name)"
   ]
  },
  {
   "cell_type": "code",
   "execution_count": null,
   "id": "7744eaee-a85c-48ce-8732-a3eba59c2733",
   "metadata": {
    "pycharm": {
     "is_executing": false,
     "name": "#%%\n"
    }
   },
   "outputs": [],
   "source": [
    "test_updated_colors_map = {3: '#999999'}\n",
    "ipcDataExplorer.on_config_update(test_updated_colors_map)"
   ]
  },
  {
   "cell_type": "code",
   "execution_count": null,
   "id": "c4874af9-e994-45b4-8c39-1697b633838d",
   "metadata": {
    "pycharm": {
     "is_executing": false,
     "name": "#%%\n"
    }
   },
   "outputs": [],
   "source": [
    "# Need to rebuild the spikes colors and such upon updating the configs. \n",
    "# should take a config and produce the changes needed to recolor the neurons.\n",
    "ipcDataExplorer.update_spikes_df_color_columns(test_updated_colors_map)\n",
    "ipcDataExplorer.update_rendered_placefields(test_updated_colors_map)"
   ]
  },
  {
   "cell_type": "code",
   "execution_count": null,
   "id": "2f7679d0-1be4-4693-945b-6916bd5a4556",
   "metadata": {
    "pycharm": {
     "is_executing": false,
     "name": "#%%\n"
    }
   },
   "outputs": [],
   "source": [
    "_test_neuron_id = 3\n",
    "pdata_currActiveNeuronTuningCurve_plotActor = ipcDataExplorer.plots['tuningCurvePlotActors'][_test_neuron_id]['main'] # get the main plot actor from the CascadingDynamicPlotsList\n",
    "pdata_currActiveNeuronTuningCurve_Points_plotActor = ipcDataExplorer.plots['tuningCurvePlotActors'][_test_neuron_id]['points']\n",
    "\n",
    "# add_mesh"
   ]
  },
  {
   "cell_type": "code",
   "execution_count": null,
   "id": "ff8972a9-fb3f-44c8-8854-1178c71e8d72",
   "metadata": {
    "pycharm": {
     "is_executing": false,
     "name": "#%%\n"
    }
   },
   "outputs": [],
   "source": [
    "ipcDataExplorer.enable_overwrite_invalid_fragile_linear_neuron_IDXs = True"
   ]
  },
  {
   "cell_type": "code",
   "execution_count": null,
   "id": "e820c498-5865-471b-a7bc-2c4c5c650f89",
   "metadata": {
    "pycharm": {
     "is_executing": false,
     "name": "#%%\n"
    }
   },
   "outputs": [],
   "source": [
    "ipcDataExplorer.helper_setup_neuron_colors_and_order(ipcDataExplorer, debug_print=True)"
   ]
  },
  {
   "cell_type": "code",
   "execution_count": null,
   "id": "462f77cc-7376-4382-8345-149eba514ad8",
   "metadata": {
    "pycharm": {
     "is_executing": false,
     "name": "#%%\n"
    }
   },
   "outputs": [],
   "source": [
    "from vedo.io import exportWindow, write\n",
    "# exportWindow('testOutFilePho.html')\n",
    "# exportWindow('testOutFilePho.x3d')\n",
    "\n",
    "# pActiveTuningCurvesPlotter.save('testPlotterSavePho.obj')\n",
    "# write(pActiveTuningCurvesPlotter,'testPlotterSavePho.obj')\n",
    "# pActiveTuningCurvesPlotter.write_frame('testPlotter_write_frame_Pho')\n",
    "# pActiveTuningCurvesPlotter.export('testPlotterSavePho.x3d')\n",
    "\n",
    "output_path = Path(r'C:\\Users\\pho\\repos\\PhoPy3DPositionAnalysis2021\\output\\2006-6-07_11-26-53\\maze1')\n",
    "final_output_path = output_path.joinpath('testPlotter_export_obj_Pho')\n",
    "\n",
    "\n",
    "## Success, but ugly:\n",
    "pActiveTuningCurvesPlotter.export_vtkjs(final_output_path.with_suffix('.vtkjs'))\n",
    "# pActiveTuningCurvesPlotter.export_gltf(final_output_path.with_suffix('.gltf'))\n",
    "# pActiveTuningCurvesPlotter.export_html(final_output_path.with_suffix('.html')) ## First export that actually works with BackgroundPlotter\n",
    "# pActiveTuningCurvesPlotter.export_obj(final_output_path.with_suffix('.obj')) ## Works for exporting .obj files"
   ]
  },
  {
   "cell_type": "code",
   "execution_count": null,
   "id": "1097b8b4-5fbc-4124-a187-dcee9ccf7090",
   "metadata": {
    "pycharm": {
     "is_executing": false,
     "name": "#%%\n"
    }
   },
   "outputs": [],
   "source": [
    "import pyvista as pv\n",
    "pv.vtk_version_info"
   ]
  },
  {
   "cell_type": "code",
   "execution_count": null,
   "id": "270d1a2c-7f56-495a-bd6e-30e76414bef7",
   "metadata": {
    "pycharm": {
     "is_executing": false,
     "name": "#%%\n"
    }
   },
   "outputs": [],
   "source": [
    "# ipcDataExplorer.p.enable_cell_picking(callback=)\n",
    "ipcDataExplorer.pyqtConfigure()"
   ]
  },
  {
   "cell_type": "code",
   "execution_count": null,
   "id": "7d35fb45-9c61-412f-a522-03c90609f59e",
   "metadata": {
    "pycharm": {
     "is_executing": false,
     "name": "#%%\n"
    }
   },
   "outputs": [],
   "source": [
    "p.enable_point_picking()"
   ]
  },
  {
   "cell_type": "code",
   "execution_count": null,
   "id": "03458494-5342-4fd0-b866-2191409d1dac",
   "metadata": {
    "pycharm": {
     "is_executing": false,
     "name": "#%%\n"
    }
   },
   "outputs": [],
   "source": [
    "ipcDataExplorer.active_config # pf_neuron_identities, pf_colors, pf_sort_ind\n",
    "\n",
    "# ipcDataExplorer.active_config.keys()\n",
    "np.shape(ipcDataExplorer.active_config.plotting_config['pf_colormap']) # (39, 4)\n",
    "\n",
    "# print_keys_if_possible('plotting_config', ipcDataExplorer.active_config.plotting_config)\n",
    "\n",
    "print_keys_if_possible('ipcDataExplorer', ipcDataExplorer)\n",
    "\n",
    "# - plotting_config: <class 'pyphoplacecellanalysis.General.Configs.DynamicConfigs.PlottingConfig'>\n",
    "    # - pf_neuron_identities: <class 'list'> - (39,)\n",
    "    # - pf_sort_ind: <class 'numpy.ndarray'> - (39,)\n",
    "    # - pf_colors: <class 'numpy.ndarray'> - (4, 39)\n",
    "    # - pf_colormap: <class 'numpy.ndarray'> - (39, 4)"
   ]
  },
  {
   "cell_type": "code",
   "execution_count": null,
   "id": "d4ec2318-647c-4f2a-8d93-8bf622273d41",
   "metadata": {
    "pycharm": {
     "is_executing": false,
     "name": "#%%\n"
    }
   },
   "outputs": [],
   "source": [
    "len(ipcDataExplorer.params.neuron_colors_hex) # 39"
   ]
  },
  {
   "cell_type": "code",
   "execution_count": null,
   "id": "e191dfb3-7e9b-42d3-9505-5adfabf920e7",
   "metadata": {
    "pycharm": {
     "is_executing": false,
     "name": "#%%\n"
    }
   },
   "outputs": [],
   "source": [
    "# np.shape(ipcDataExplorer.params.neuron_colors) # (4, 39)\n",
    "# len(ipcDataExplorer.params.reverse_cellID_to_tuning_curve_idx_lookup_map) # 39\n",
    "\n",
    "# for neuron_id, tuning_curve_idx in ipcDataExplorer.params.reverse_cellID_to_tuning_curve_idx_lookup_map.items():\n",
    "#     curr_color = ipcDataExplorer.params.neuron_colors[:, tuning_curve_idx]\n",
    "    \n",
    "\n",
    "\n",
    "final_perfect_colormap = {int(neuron_id):ipcDataExplorer.params.neuron_colors_hex[tuning_curve_idx] for neuron_id, tuning_curve_idx in ipcDataExplorer.params.reverse_cellID_to_tuning_curve_idx_lookup_map.items()}\n",
    "# final_perfect_colormap = {int(neuron_id):list(np.squeeze(ipcDataExplorer.params.neuron_colors[:, tuning_curve_idx])) for neuron_id, tuning_curve_idx in ipcDataExplorer.params.reverse_cellID_to_tuning_curve_idx_lookup_map.items()}\n",
    "# final_perfect_colormap = {int(neuron_id):QtGui.QColor(*np.squeeze(ipcDataExplorer.params.neuron_colors[:, tuning_curve_idx])) for neuron_id, tuning_curve_idx in ipcDataExplorer.params.reverse_cellID_to_tuning_curve_idx_lookup_map.items()}\n",
    "final_perfect_colormap"
   ]
  },
  {
   "cell_type": "code",
   "execution_count": null,
   "id": "7f30b8c2-9baf-45e5-b3b7-f3dd8d884dfe",
   "metadata": {
    "pycharm": {
     "is_executing": false,
     "name": "#%%\n"
    }
   },
   "outputs": [],
   "source": [
    "len(final_perfect_colormap) # 39"
   ]
  },
  {
   "cell_type": "code",
   "execution_count": null,
   "id": "dda1cd93-54cc-4868-a04b-af2e2b56eab8",
   "metadata": {
    "pycharm": {
     "is_executing": false,
     "name": "#%%\n"
    }
   },
   "outputs": [],
   "source": [
    "ipcDataExplorer.on_config_update(updated_colors_map=final_perfect_colormap)"
   ]
  },
  {
   "cell_type": "code",
   "execution_count": null,
   "id": "7e33c762-3348-4b7d-ab39-80ec465458c2",
   "metadata": {
    "pycharm": {
     "is_executing": false,
     "name": "#%%\n"
    }
   },
   "outputs": [],
   "source": [
    "partial_perfect_colormap = {24: [0.9098039215686274, 0.8075259642318465, 0.6095686274509803, 1.0],\n",
    " 25: [1.0, 0.9148351648351648, 0.75, 1.0],\n",
    " 26: [0.388235294117647, 0.4745098039215686, 0.22352941176470587, 1.0],\n",
    " 27: [0.48533923796791445, 0.5796078431372549, 0.3053719008264463, 1.0]}\n",
    "ipcDataExplorer.on_update_spikes_colors(neuron_id_color_update_dict=partial_perfect_colormap)"
   ]
  },
  {
   "cell_type": "code",
   "execution_count": null,
   "id": "643a492d-982d-433b-8063-2ab1dff1705a",
   "metadata": {
    "pycharm": {
     "is_executing": false,
     "name": "#%%\n"
    }
   },
   "outputs": [],
   "source": [
    "QtGui.QColor(*(0.5176470588235295, 0.23529411764705882, 0.22352941176470587, 1.0))"
   ]
  },
  {
   "cell_type": "code",
   "execution_count": null,
   "id": "07042754-37ac-4dd3-9507-742df5537e24",
   "metadata": {
    "pycharm": {
     "is_executing": false,
     "name": "#%%\n"
    }
   },
   "outputs": [],
   "source": [
    "# don't use this one!\n",
    "len(ipcDataExplorer.params.reverse_cellID_idx_lookup_map) # 40"
   ]
  },
  {
   "cell_type": "code",
   "execution_count": null,
   "id": "83ba315a-744f-4700-b9fc-9f49717c9e8f",
   "metadata": {
    "pycharm": {
     "is_executing": false,
     "name": "#%%\n"
    }
   },
   "outputs": [],
   "source": [
    "ipcDataExplorer.active_neuron_render_configs # confirmed same configs as active_tuning_curve_render_configs"
   ]
  },
  {
   "cell_type": "code",
   "execution_count": null,
   "id": "6059bd2a-85d4-405d-8314-6f450238d56b",
   "metadata": {
    "pycharm": {
     "is_executing": false,
     "name": "#%%\n"
    }
   },
   "outputs": [],
   "source": [
    "# ipcDataExplorer.setup_spike_rendering_mixin()\n",
    "\n",
    "ipcDataExplorer.spikes_df # first many entries all look like R G B columns are 0.0 even if rgb_hex isn't and is different!\n",
    "\n",
    "# np.count_nonzero(ipcDataExplorer.spikes_df.R.to_numpy()) # 5989\n",
    "ipcDataExplorer.spikes_df.columns\n",
    "\n",
    "ipcDataExplorer.spikes_df[['aclu', 'fragile_linear_neuron_IDX', 'neuron_IDX']] ## BREAKTHROUGH: 'fragile_linear_neuron_IDX' and 'neuron_IDX' are definitely not equal (but I think they should be)"
   ]
  },
  {
   "cell_type": "code",
   "execution_count": null,
   "id": "9a23d626-59d6-4e01-befb-e75e4cd234c1",
   "metadata": {
    "pycharm": {
     "is_executing": false,
     "name": "#%%\n"
    }
   },
   "outputs": [],
   "source": [
    "np.unique(ipcDataExplorer.spikes_df['fragile_linear_neuron_IDX'])\n",
    "## MAJOR CONCERN: 'fragile_linear_neuron_IDX' values make no sense at all. They aren't even equal to 'aclu'\n",
    "# array([ 0,  1,  2,  3,  5,  6,  7,  8,  9, 10, 12, 15, 16, 19, 20, 21, 22, 23, 24, 25, 26, 27, 31, 32, 36, 37, 40, 42, 43, 44, 45, 46, 51, 53, 55, 56, 59, 60, 61, 62])"
   ]
  },
  {
   "cell_type": "code",
   "execution_count": null,
   "id": "398a9428-b946-45da-9fac-8ef991f940b4",
   "metadata": {
    "pycharm": {
     "is_executing": false,
     "name": "#%%\n"
    }
   },
   "outputs": [],
   "source": [
    "np.unique(ipcDataExplorer.spikes_df['neuron_IDX'])"
   ]
  },
  {
   "cell_type": "code",
   "execution_count": null,
   "id": "893cde2a-0c9f-49f0-898f-a5582c39c3ac",
   "metadata": {
    "pycharm": {
     "is_executing": false,
     "name": "#%%\n"
    }
   },
   "outputs": [],
   "source": [
    "ipcDataExplorer.spikes_df['old_fragile_linear_neuron_IDX']"
   ]
  },
  {
   "cell_type": "code",
   "execution_count": null,
   "id": "f9bd9fd7-ffe6-41a9-b716-db326360f00b",
   "metadata": {
    "pycharm": {
     "is_executing": false,
     "name": "#%%\n"
    }
   },
   "outputs": [],
   "source": [
    "ipcDataExplorer.spikes_df[['aclu', 'fragile_linear_neuron_IDX', 'neuron_IDX', 'old_fragile_linear_neuron_IDX']] ## GOOD: after rebuilding the 'fragile_linear_neuron_IDX' and 'neuron_IDX' columns now match as expected."
   ]
  },
  {
   "cell_type": "code",
   "execution_count": null,
   "id": "fa2dc6a4-97f6-4dc1-86b7-477ab0f7ec1d",
   "metadata": {
    "pycharm": {
     "is_executing": false,
     "name": "#%%\n"
    }
   },
   "outputs": [],
   "source": [
    "ipcDataExplorer.neuron_ids"
   ]
  },
  {
   "cell_type": "code",
   "execution_count": null,
   "id": "5d819b67-053a-4fe1-89e1-26a183be6e9f",
   "metadata": {
    "pycharm": {
     "is_executing": false,
     "name": "#%%\n"
    }
   },
   "outputs": [],
   "source": [
    "# ipcDataExplorer.update_active_spikes(\n",
    "ipcDataExplorer.update_spikes()"
   ]
  },
  {
   "cell_type": "code",
   "execution_count": null,
   "id": "ea8ef463-a283-4d0b-a9bd-8a57823c22ec",
   "metadata": {
    "pycharm": {
     "is_executing": false,
     "name": "#%%\n"
    }
   },
   "outputs": [],
   "source": [
    "## Rebuild the IDXs\n",
    "ipcDataExplorer.spikes_df.spikes._obj, neuron_id_to_new_IDX_map_new_method = ipcDataExplorer.spikes_df.spikes.rebuild_fragile_linear_neuron_IDXs(debug_print=True)\n",
    "new_neuron_IDXs = list(neuron_id_to_new_IDX_map_new_method.values())"
   ]
  },
  {
   "cell_type": "code",
   "execution_count": null,
   "id": "c515da07-d574-4d9c-8b77-1bdbbc80a2c9",
   "metadata": {
    "pycharm": {
     "is_executing": false,
     "name": "#%%\n"
    }
   },
   "outputs": [],
   "source": [
    "ipcDataExplorer.params.cell_spike_opaque_colors_dict # this is what spikes_df's 'R', 'G', 'B' columns set from.\n",
    "# keys are neuron_IDX format"
   ]
  },
  {
   "cell_type": "code",
   "execution_count": null,
   "id": "e925ff62-a230-4907-92a7-1f43b0cca1fb",
   "metadata": {
    "pycharm": {
     "is_executing": false,
     "name": "#%%\n"
    }
   },
   "outputs": [],
   "source": [
    "# Disable the bar on the docks:\n",
    "dDisplayItem1 = root_dockAreaWindow.dynamic_display_dict['Dock1 - Controls']['Dock1 - Controls']['dock']\n",
    "dDisplayItem2 = root_dockAreaWindow.dynamic_display_dict['Dock2 - Content']['Dock2 - Content']['dock']\n",
    "\n",
    "dDisplayItem1.hideTitleBar()\n",
    "dDisplayItem2.hideTitleBar()"
   ]
  },
  {
   "cell_type": "code",
   "execution_count": null,
   "id": "f1eef3b5-5827-4deb-b165-6df85bce61e4",
   "metadata": {
    "pycharm": {
     "is_executing": false,
     "name": "#%%\n"
    }
   },
   "outputs": [],
   "source": [
    "ipcDataExplorer.params.end_button_helper_obj.btn_show_all_callback(True)"
   ]
  },
  {
   "cell_type": "code",
   "execution_count": null,
   "id": "f48ba047-fc62-4846-ad1c-69649990098d",
   "metadata": {
    "pycharm": {
     "is_executing": false,
     "name": "#%%\n"
    }
   },
   "outputs": [],
   "source": [
    "# ipcDataExplorer.update_tuning_curve_configs()\n",
    "ipcDataExplorer.update_neuron_render_configs()"
   ]
  },
  {
   "cell_type": "code",
   "execution_count": null,
   "id": "d1c59dcb-0bcf-4212-8c7b-dce729909565",
   "metadata": {
    "pycharm": {
     "is_executing": false,
     "name": "#%%\n"
    },
    "scrolled": true
   },
   "outputs": [],
   "source": [
    "# ipcDataExplorer.params.cell_spike_colors_dict\n",
    "# ipcDataExplorer.active_neuron_render_configs\n",
    "\n",
    "active_placefields = ipcDataExplorer.params.active_epoch_placefields\n",
    "# ipcDataExplorer.params.pf_color\n",
    "pf_colors = ipcDataExplorer.params.pf_colors\n",
    "if np.shape(pf_colors)[1] > 3:\n",
    "    opaque_pf_colors = pf_colors[0:3,:].copy() # get only the RGB values, discarding any potnential alpha information\n",
    "else:\n",
    "    opaque_pf_colors = pf_colors.copy()\n",
    "\n",
    "occupancy = active_placefields.ratemap.occupancy.copy()\n",
    "# curr_tuning_curves = active_placefields.ratemap.tuning_curves.copy() # (39, 59, 21)\n",
    "curr_tuning_curves = active_placefields.ratemap.normalized_tuning_curves.copy() # (39, 59, 21)\n",
    "good_placefield_neuronIDs = ipcDataExplorer.params.pf_unit_ids\n",
    "# np.shape(curr_tuning_curves) # (39, 59, 21)\n",
    "# np.isnan(curr_tuning_curves)\n",
    "# np.count_nonzero(np.isnan(curr_tuning_curves))\n",
    "\n",
    "\n",
    "# Never Visited Mask\n",
    "# occupancy"
   ]
  },
  {
   "cell_type": "code",
   "execution_count": null,
   "id": "35581810-d1b5-4098-9d63-c110ace2cda7",
   "metadata": {
    "pycharm": {
     "is_executing": false,
     "name": "#%%\n"
    },
    "scrolled": true
   },
   "outputs": [],
   "source": [
    "# never_visited_occupancy_mask\n",
    "i = 0\n",
    "curr_active_neuron_ID = good_placefield_neuronIDs[i]\n",
    "curr_active_neuron_color = pf_colors[:, i]\n",
    "curr_active_neuron_opaque_color = opaque_pf_colors[:,i]\n",
    "curr_active_neuron_pf_identifier = 'pf[{}]'.format(curr_active_neuron_ID)\n",
    "curr_active_neuron_tuning_Curve = np.squeeze(curr_tuning_curves[i,:,:]).T.copy() # A single tuning curve, (21, 59)\n",
    "# curr_active_neuron_tuning_Curve"
   ]
  },
  {
   "cell_type": "code",
   "execution_count": null,
   "id": "391ba34c-757b-4270-b7b4-6d15bcc605a9",
   "metadata": {
    "pycharm": {
     "is_executing": false,
     "name": "#%%\n"
    }
   },
   "outputs": [],
   "source": [
    "curr_active_plot_actor = ipcDataExplorer.plots['tuningCurvePlotActors'][i]\n",
    "curr_active_plot_data = ipcDataExplorer.plots_data['tuningCurvePlotData'][i]\n",
    "curr_active_plot_data\n",
    "pdata_currActiveNeuronTuningCurve = curr_active_plot_data['pdata_currActiveNeuronTuningCurve'] # StructuredGrid\n",
    "\n",
    "# Test Extracting Points:\n",
    "curr_mesh_extracted_pts = pdata_currActiveNeuronTuningCurve.extract_points(pdata_currActiveNeuronTuningCurve.points[:, 2] > 0)\n",
    "type(curr_mesh_extracted_pts) # UnstructuredGrid"
   ]
  },
  {
   "cell_type": "code",
   "execution_count": null,
   "id": "3ceec384-e5bb-4140-99a0-c5066b0ef05e",
   "metadata": {
    "pycharm": {
     "is_executing": false,
     "name": "#%%\n"
    },
    "scrolled": true
   },
   "outputs": [],
   "source": [
    "# Add labels to points on the yz plane (where x == 0)\n",
    "points = pdata_currActiveNeuronTuningCurve.points\n",
    "# mask = points[:, 0] == 0\n",
    "mask = points[:, 2] > 0.1\n",
    "pActiveTuningCurvesPlotter.add_point_labels(points[mask], points[mask].tolist(), point_size=20, font_size=36)"
   ]
  },
  {
   "cell_type": "code",
   "execution_count": null,
   "id": "ac2979d7-5d5d-4984-bdbe-a6f7006b03a8",
   "metadata": {
    "pycharm": {
     "is_executing": false,
     "name": "#%%\n"
    },
    "scrolled": true
   },
   "outputs": [],
   "source": [
    "np.shape(never_visited_occupancy_mask) # (59, 21)\n",
    "np.sum(curr_active_neuron_tuning_Curve[~never_visited_occupancy_mask.T]) # (735,), 7.9040396441924194\n",
    "curr_active_neuron_tuning_Curve[~never_visited_occupancy_mask.T] = np.nan # set non-visited locations to NaN\n",
    "# NOTE: the sum of all visited locations is 36.44356525201446 and those non-visited locations is 7.9040396441924194\n",
    "curr_active_neuron_tuning_Curve"
   ]
  },
  {
   "cell_type": "code",
   "execution_count": null,
   "id": "6ee82014-0295-4c1a-94d7-7986b1cf8d02",
   "metadata": {
    "pycharm": {
     "is_executing": false,
     "name": "#%%\n"
    },
    "scrolled": true
   },
   "outputs": [],
   "source": [
    "curr_active_pipeline.active_configs[active_config_name].keys()"
   ]
  },
  {
   "cell_type": "code",
   "execution_count": null,
   "id": "5d16525f-8079-4241-87a5-940a4b0bca90",
   "metadata": {
    "pycharm": {
     "is_executing": false,
     "name": "#%%\n"
    },
    "scrolled": true
   },
   "outputs": [],
   "source": [
    "\n",
    "updated_video_output_config = curr_active_pipeline.active_configs[active_config_name]['video_output_config']\n",
    "updated_video_output_config.active_frame_range = np.arange(100, 480, 1)\n",
    "updated_video_output_config"
   ]
  },
  {
   "cell_type": "code",
   "execution_count": null,
   "id": "46f6fda6-b3c2-44e1-871a-72b136edd617",
   "metadata": {
    "pycharm": {
     "is_executing": false,
     "name": "#%%\n"
    },
    "scrolled": true
   },
   "outputs": [],
   "source": [
    "# Enable video output by setting: active_is_video_output_mode\n",
    "updated_video_output_config.active_is_video_output_mode = True\n"
   ]
  },
  {
   "cell_type": "code",
   "execution_count": null,
   "id": "42e9d25a-98b4-4769-bc7d-7e4b1f1868e3",
   "metadata": {
    "pycharm": {
     "is_executing": false,
     "name": "#%%\n"
    },
    "scrolled": true
   },
   "outputs": [],
   "source": [
    "import pyvista as pv\n",
    "from pyvista import examples\n",
    "# Download skybox\n",
    "cubemap = examples.download_sky_box_cube_map()\n",
    "ipspikesDataExplorer.p.add_actor(cubemap.to_skybox())\n",
    "ipspikesDataExplorer.p.set_environment_texture(cubemap)  # For reflecting the environment off the mesh"
   ]
  },
  {
   "cell_type": "code",
   "execution_count": null,
   "id": "6cd25037-40c1-4192-9a5b-5f6c4ec2850d",
   "metadata": {
    "pycharm": {
     "is_executing": false,
     "name": "#%%\n"
    },
    "scrolled": true
   },
   "outputs": [],
   "source": [
    "ipspikesDataExplorer.p.enable_shadows()"
   ]
  },
  {
   "cell_type": "code",
   "execution_count": null,
   "id": "843dbbfb-ff6e-42cd-9d10-936cba53adc4",
   "metadata": {
    "pycharm": {
     "is_executing": false,
     "name": "#%%\n"
    },
    "scrolled": true
   },
   "outputs": [],
   "source": [
    "ipspikesDataExplorer.p.render()"
   ]
  },
  {
   "cell_type": "code",
   "execution_count": null,
   "id": "ab74897c-df19-4af9-9e98-a73cbeebd56e",
   "metadata": {
    "pycharm": {
     "is_executing": false,
     "name": "#%%\n"
    },
    "scrolled": true
   },
   "outputs": [],
   "source": [
    "# recent_spikes_mesh.\n",
    "ipspikesDataExplorer.params.longer_spikes_window.duration_seconds = 10.0"
   ]
  },
  {
   "cell_type": "code",
   "execution_count": null,
   "id": "622347fd-9722-4017-a75e-4f1b2aa9afe1",
   "metadata": {
    "pycharm": {
     "is_executing": false,
     "name": "#%%\n"
    },
    "scrolled": true
   },
   "outputs": [],
   "source": [
    "ipspikesDataExplorer.p.enable_depth_peeling(number_of_peels=6, occlusion_ratio=0) # Supposedly helps with translucency"
   ]
  },
  {
   "cell_type": "code",
   "execution_count": null,
   "id": "fbf101d4-2ae4-44f1-81ea-be10a78c0086",
   "metadata": {
    "pycharm": {
     "is_executing": false,
     "name": "#%%\n"
    },
    "scrolled": true
   },
   "outputs": [],
   "source": [
    "# spike_raster_window.spikes_window.on_window_changed()\n",
    "# spike_raster_window.spikes_window.update_window_start(500.0) # doesn't update anything\n",
    "# spike_raster_window.spike_raster_plt_2d.spikes_window.update_window_start(500.0) # doesn't update anything\n",
    "spike_raster_window.spike_raster_plt_2d.update_scroll_window_region(500.0, 700.0, block_signals=False)"
   ]
  },
  {
   "cell_type": "code",
   "execution_count": null,
   "id": "85159801-c41c-483e-a2b5-ae8f49edfac5",
   "metadata": {
    "pycharm": {
     "is_executing": false,
     "name": "#%%\n"
    },
    "scrolled": true
   },
   "outputs": [],
   "source": [
    "spike_raster_window.shift_animation_frame_val(shift_frames=5)"
   ]
  },
  {
   "cell_type": "code",
   "execution_count": null,
   "id": "528139f7-d4ee-4a56-b20c-a957b322abdc",
   "metadata": {
    "pycharm": {
     "is_executing": false,
     "name": "#%%\n"
    },
    "scrolled": true
   },
   "outputs": [],
   "source": [
    "# spike_raster_window.spike_3d_to_2d_window_connection.disconnect(spike_raster_window.spike_raster_plt_3d.spikes_window.update_window_start_end)\n",
    "spike_raster_window.spike_raster_plt_2d.window_scrolled.disconnect(spike_raster_window.spike_raster_plt_3d.spikes_window.update_window_start_end)"
   ]
  },
  {
   "cell_type": "code",
   "execution_count": null,
   "id": "7a43771d-61c9-4485-a985-01e4dc662fc6",
   "metadata": {
    "pycharm": {
     "is_executing": false,
     "name": "#%%\n"
    },
    "scrolled": true
   },
   "outputs": [],
   "source": [
    "spike_raster_window.spike_raster_plt_2d.window_scrolled.disconnect()"
   ]
  },
  {
   "cell_type": "code",
   "execution_count": null,
   "id": "1e0693e0-a8a6-4d37-9ad1-3a34c225b02e",
   "metadata": {
    "pycharm": {
     "is_executing": false,
     "name": "#%%\n"
    },
    "scrolled": true
   },
   "outputs": [],
   "source": [
    "spike_raster_window.spike_raster_plt_2d.ui.scroll_window_region.sigRegionChanged.disconnect()"
   ]
  },
  {
   "cell_type": "code",
   "execution_count": null,
   "id": "73a8efe2-c97a-47ee-8241-e9ac1cbfab4d",
   "metadata": {
    "pycharm": {
     "is_executing": false,
     "name": "#%%\n"
    },
    "scrolled": true
   },
   "outputs": [],
   "source": [
    "## Need to the spike indicies that are currently visible in the raster window to programmatically update ipspikesDataExplorer's displayed spikes.\n",
    "# active_epoch_session.flattened_spiketrains.time_slice(curr_lap_spike_t_seconds.values[0], curr_lap_spike_t_seconds.values[-1]).spikes_df\n",
    "# spike_raster_window.spike_raster_plt_2d.spikes_window\n",
    "# curr_win_start, curr_win_end = spike_raster_window.spike_raster_plt_3d.spikes_window.active_time_window\n",
    "# spike_raster_window.spike_raster_plt_3d.spikes_window.active_windowed_df\n",
    "\n",
    "# spike_raster_window.spike_raster_plt_3d.spikes_window.active_windowed_df.index\n",
    "# ipspikesDataExplorer.params.curr_view_window_length_samples # 299\n",
    "# np.shape(ipspikesDataExplorer.params.pre_computed_window_sample_indicies) # (51157, 299)\n",
    "\n",
    "# np.shape(ipspikesDataExplorer.params.active_trail_opacity_values) # (299,)\n",
    "## Hopefully ipspikesDataExplorer's slider will adjust automatically?"
   ]
  },
  {
   "cell_type": "code",
   "execution_count": null,
   "id": "44f54da9-25c1-49dc-b692-fd5f602beecd",
   "metadata": {
    "pycharm": {
     "is_executing": false,
     "name": "#%%\n"
    },
    "scrolled": true
   },
   "outputs": [],
   "source": [
    "## Test disabling the user-slider:\n",
    "# ipspikesDataExplorer.interface_properties\n",
    "# interactive_timestamp_slider_actor\n",
    "# add_slider_widget\n",
    "\n",
    "## When building widgets:\n",
    "# self.p.add_callback(self.interface_properties, interval=16)  # to be smooth on 60Hz\n",
    "\n",
    "# Removes all slider widgets:\n",
    "# ipspikesDataExplorer.p.clear_slider_widgets()\n",
    "# ipspikesDataExplorer.p.clear_button_widgets() # removes the play/pause toggle checkbox so that it can be driven externally\n",
    "# ipspikesDataExplorer.p.update()\n",
    "# ipspikesDataExplorer.p.render()\n",
    "\n",
    "# ipspikesDataExplorer.p.button_widgets\n",
    "# ipspikesDataExplorer.p.receivers()\n",
    "\n",
    "# For the callback, it looks like I can check the timer here:\n",
    "callback_timer = ipspikesDataExplorer.p._callback_timer  # QTimer\n",
    "callback_timer.isActive()\n",
    "# callback_timer.isSignalConnected()\n",
    "# callback_timer.stop()\n",
    "\n",
    "ipspikesDataExplorer"
   ]
  },
  {
   "cell_type": "code",
   "execution_count": null,
   "id": "b13c74b9-65e1-40a6-81c0-f1cda66a324f",
   "metadata": {
    "pycharm": {
     "is_executing": false,
     "name": "#%%\n"
    },
    "scrolled": true
   },
   "outputs": [],
   "source": [
    "spike_raster_window.animation_active_time_window.window_duration"
   ]
  },
  {
   "cell_type": "code",
   "execution_count": null,
   "id": "6e9568e1-ae37-44f4-8326-c88362601889",
   "metadata": {
    "pycharm": {
     "is_executing": false,
     "name": "#%%\n"
    },
    "scrolled": true
   },
   "outputs": [],
   "source": [
    "# Get the times that fall within the current plot window:\n",
    "curr_win_start, curr_win_end = spike_raster_window.spike_raster_plt_3d.spikes_window.active_time_window\n",
    "# np.shape(ipspikesDataExplorer.t) # (51455,)\n",
    "\n",
    "# active_window_sample_indicies\n",
    "active_included_all_window_position_indicies = ((ipspikesDataExplorer.t > curr_win_start) & (ipspikesDataExplorer.t < curr_win_end)) # Two Sided Range Mode\n",
    "# active_included_all_window_position_indicies\n",
    "print(f'np.shape(active_included_all_window_position_indicies): {np.shape(active_included_all_window_position_indicies)}') # (51455,)\n",
    "\n",
    "# active_included_all_window_position_indicies = np.where(active_included_all_window_position_indicies) # was a boolean area, but get the indices where true instead\n",
    "active_included_all_window_position_indicies = np.squeeze(active_included_all_window_position_indicies.nonzero()) # was a boolean area, but get the indices where true instead.  (1106,)\n",
    "print(f'np.shape(active_included_all_window_position_indicies): {np.shape(active_included_all_window_position_indicies)}; active_included_all_window_position_indicies: {active_included_all_window_position_indicies}')\n",
    "\n",
    "active_num_samples = len(active_included_all_window_position_indicies)\n",
    "\n",
    "## TODO: I think active_included_all_window_position_indicies better be the same length as .params.active_trail_opacity_values and .params.active_trail_size_values\n",
    "# ipspikesDataExplorer.params.curr_view_window_length_samples\n",
    "\n",
    "max_num_samples = ipspikesDataExplorer.params.curr_view_window_length_samples # 299\n",
    "if active_num_samples > max_num_samples:\n",
    "    print(f'len(active_included_all_window_position_indicies) ({active_num_samples}) > max_num_samples ({max_num_samples}). Cutting.')\n",
    "    active_included_all_window_position_indicies = active_included_all_window_position_indicies[-max_num_samples:] # get only the last (meaning most recent) max_num_samples samples from the indicies that should be displayed\n",
    "    active_num_samples = max_num_samples # cut down to the max number of samples\n",
    "    \n",
    "print(f'np.shape(active_included_all_window_position_indicies): {np.shape(active_included_all_window_position_indicies)}, active_num_samples: {active_num_samples}') # np.shape(active_included_all_window_position_indicies): (1, 1106), active_num_samples: 1    \n",
    "\n",
    "# print(f'np.shape(active_included_all_window_position_indicies): {np.shape(active_included_all_window_position_indicies)}, active_num_samples: {active_num_samples}')    \n",
    "# ipspikesDataExplorer.x[active_included_all_window_position_indicies], ipspikesDataExplorer.y[active_included_all_window_position_indicies], ipspikesDataExplorer.z_fixed[-active_num_samples:]\n",
    "\n",
    "## Animal Position and Location Trail Plotting:\n",
    "ipspikesDataExplorer.perform_plot_location_trail('animal_location_trail', ipspikesDataExplorer.x[active_included_all_window_position_indicies], ipspikesDataExplorer.y[active_included_all_window_position_indicies], ipspikesDataExplorer.z_fixed[-active_num_samples:],\n",
    "                                     trail_fade_values=ipspikesDataExplorer.params.active_trail_opacity_values, trail_point_size_values=ipspikesDataExplorer.params.active_trail_size_values,\n",
    "                                     render=False)\n",
    "\n",
    "## Animal Current Position:\n",
    "curr_animal_point = [ipspikesDataExplorer.x[active_included_all_window_position_indicies[-1]], ipspikesDataExplorer.y[active_included_all_window_position_indicies[-1]], ipspikesDataExplorer.z_fixed[-1]]\n",
    "ipspikesDataExplorer.perform_plot_location_point('animal_current_location_point', curr_animal_point, render=False)\n",
    "\n",
    "\n",
    "\n",
    "# curr_time_fixedSegments = ipspikesDataExplorer.t[active_window_sample_indicies] # New Way"
   ]
  },
  {
   "cell_type": "code",
   "execution_count": null,
   "id": "c88ef53b-5282-4c49-80bc-83ca9ae6ab8b",
   "metadata": {
    "pycharm": {
     "is_executing": false,
     "name": "#%%\n"
    },
    "scrolled": true
   },
   "outputs": [],
   "source": [
    "curr_win_start, curr_win_end = spike_raster_window.spike_raster_plt_3d.spikes_window.active_time_window\n",
    "ipspikesDataExplorer.on_active_window_update_mesh(curr_win_start, curr_win_end, enable_position_mesh_updates=True, render=True)\n",
    "\n",
    "# ipspikesDataExplorer.on_programmatic_data_update(self, active_included_all_historical_indicies=None, active_included_recent_only_indicies=None, active_window_sample_indicies=None, curr_animal_point=None)\n",
    "\n",
    "### Lap Example of programmatic updating:\n",
    "# curr_lap_id = 0\n",
    "\n",
    "# curr_lap_t_start, curr_lap_t_stop = get_lap_times(curr_lap_id)\n",
    "# curr_lap_subsession = lap_specific_subsessions[curr_lap_id]\n",
    "# curr_lap_dataframe = lap_specific_dataframes[curr_lap_id] # the subset dataframe for this lap\n",
    "# curr_lap_spike_t_seconds = curr_lap_dataframe.t_seconds\n",
    "# curr_lap_spike_indicies = lap_spike_indicies[curr_lap_id] # all spike indicies that occured within the lap\n",
    "# curr_lap_position_traces = curr_lap_subsession.position.traces # the animal positions that were traversed during this lap\n",
    "\n",
    "# curr_lap_num_spikes = len(curr_lap_spike_indicies)\n",
    "# print('lap[{}]: ({}, {}): {} spikes.'.format(curr_lap_id, curr_lap_t_start, curr_lap_t_stop, curr_lap_num_spikes))\n",
    "\n",
    "# ipspikesDataExplorer.on_programmatic_data_update(active_included_all_historical_indicies=curr_lap_spike_indicies, active_included_recent_only_indicies=curr_lap_spike_indicies) # index 145937 is out of bounds for axis 0 with size 19647\n",
    "# ipspikesDataExplorer.on_programmatic_data_update(active_included_all_historical_indicies=curr_lap_spike_t_seconds, active_included_recent_only_indicies=curr_lap_spike_t_seconds) # \n",
    "# ipspikesDataExplorer.on_programmatic_data_update(active_included_all_historical_indicies=curr_lap_spike_t_seconds.values, active_included_recent_only_indicies=curr_lap_spike_t_seconds.values) # "
   ]
  },
  {
   "cell_type": "code",
   "execution_count": null,
   "id": "4cffabec-1266-482a-9018-c458e6dfa3f2",
   "metadata": {
    "pycharm": {
     "is_executing": false,
     "name": "#%%\n"
    },
    "scrolled": true
   },
   "outputs": [],
   "source": [
    "## Can Programmaticallyt set the visibility on the different plotted elements:\n",
    "ipspikesDataExplorer.toggle_plot_visibility('spikes_main_historical')\n",
    "# ipspikesDataExplorer.toggle_plot_visibility('spikes_main_recent_only')\n",
    "# ipspikesDataExplorer.toggle_plot_visibility('animal_location_trail')\n",
    "# ipspikesDataExplorer.toggle_plot_visibility('animal_current_location_point')\n",
    "# toggle_visibility(ipspikesDataExplorer.spikes_main_recent_only)\n",
    "# toggle_visibility(ipspikesDataExplorer.animal_location_trail)\n",
    "# toggle_visibility(ipspikesDataExplorer.animal_current_location_point)"
   ]
  },
  {
   "cell_type": "code",
   "execution_count": null,
   "id": "2740e3d9-2072-44f1-86a8-4a558d307a37",
   "metadata": {
    "pycharm": {
     "is_executing": false,
     "name": "#%%\n"
    }
   },
   "outputs": [],
   "source": [
    "import pyvista as pv\n",
    "from pyvistaqt import BackgroundPlotter\n",
    "\n",
    "## Test Adding Points:\n",
    "\n",
    "\n",
    "# curr_mesh_extracted_pts # UnstructuredGrid\n",
    "curr_points_actor = curr_mesh_extracted_pts.plot(show_edges=True, line_width=3, point_size=20, )\n",
    "\n",
    "pl = BackgroundPlotter()\n",
    "curr_points_actor = pl.add_points(curr_mesh_extracted_pts, render_points_as_spheres=True, point_size=2.0, color='black')\n",
    "pl.show()\n"
   ]
  },
  {
   "cell_type": "markdown",
   "id": "70496ef4-87e4-4e2b-ba6d-bcbd8b3adc81",
   "metadata": {
    "pycharm": {
     "is_executing": false,
     "name": "#%%\n"
    }
   },
   "source": [
    "## Explore Mesh/Cell Picking in ipcDataExplorer"
   ]
  },
  {
   "cell_type": "code",
   "execution_count": null,
   "id": "efcdc58e-09e6-4b58-bf08-6c64fa41b5a6",
   "metadata": {
    "pycharm": {
     "is_executing": false,
     "name": "#%%\n"
    }
   },
   "outputs": [],
   "source": [
    "## Make the legend pickable:\n",
    "import pyvista as pv\n",
    "\n",
    "def callback(point):\n",
    "    \"\"\"Create a cube and a label at the click point.\"\"\"\n",
    "    mesh = pv.Cube(center=point, x_length=0.05, y_length=0.05, z_length=0.05)\n",
    "    ipcDataExplorer.p.add_mesh(mesh, style='wireframe', color='r')\n",
    "    ipcDataExplorer.p.add_point_labels(point, [f\"{point[0]:.2f}, {point[1]:.2f}, {point[2]:.2f}\"])\n",
    "\n",
    "\n",
    "ipcDataExplorer.p.enable_surface_picking(callback=callback, left_clicking=True, show_point=False)\n",
    "# ipcDataExplorer.p.enable_surface_picking("
   ]
  },
  {
   "cell_type": "code",
   "execution_count": null,
   "id": "b4748c03-f688-4d0f-a40c-dabe75ee9e34",
   "metadata": {
    "pycharm": {
     "is_executing": false,
     "name": "#%%\n"
    }
   },
   "outputs": [],
   "source": [
    "def mesh_picked_callback(mesh):\n",
    "    \"\"\"TODO: highlight the mesh or something - label at the click point.\"\"\"\n",
    "    print(f'mesh_picked_callback(mesh: {mesh})')\n",
    "    # mesh = pv.Cube(center=point, x_length=0.05, y_length=0.05, z_length=0.05)\n",
    "    # ipcDataExplorer.p.add_mesh(mesh, style='wireframe', color='r')\n",
    "    # ipcDataExplorer.p.add_point_labels(point, [f\"{point[0]:.2f}, {point[1]:.2f}, {point[2]:.2f}\"])\n",
    "\n",
    "ipcDataExplorer.p.enable_mesh_picking(callback=mesh_picked_callback, left_clicking=True, show=True)"
   ]
  },
  {
   "cell_type": "markdown",
   "id": "e7e92907-c05c-4ad1-b291-2e941433a87e",
   "metadata": {
    "pycharm": {
     "is_executing": false,
     "name": "#%%\n"
    }
   },
   "source": [
    "### Other"
   ]
  },
  {
   "cell_type": "code",
   "execution_count": null,
   "id": "b4bdd3f7-d5f4-4b38-a262-9ec787905297",
   "metadata": {
    "pycharm": {
     "is_executing": false,
     "name": "#%%\n"
    }
   },
   "outputs": [],
   "source": [
    "## Get the actual display function from the function name:\n",
    "curr_active_pipeline.registered_display_function_names # ['_display_1d_placefield_validations', '_display_2d_placefield_result_plot_ratemaps_2D', '_display_2d_placefield_result_plot_raw', '_display_3d_image_plotter', '_display_3d_interactive_custom_data_explorer', '_display_3d_interactive_spike_and_behavior_browser', '_display_3d_interactive_tuning_curves_plotter', '_display_normal', '_display_placemaps_pyqtplot_2D', '_display_decoder_result', '_display_plot_most_likely_position_comparisons', '_display_two_step_decoder_prediction_error_2D', '_display_two_step_decoder_prediction_error_animated_2D', '_display_spike_rasters_pyqtplot_2D', '_display_spike_rasters_pyqtplot_3D', '_display_spike_rasters_pyqtplot_3D_with_2D_controls', '_display_spike_rasters_vedo_3D', '_display_spike_rasters_vedo_3D_with_2D_controls', '_display_spike_rasters_window']\n",
    "# curr_active_pipeline.registered_display_function_dict\n",
    "print(curr_active_pipeline.registered_display_function_names)\n",
    "\n",
    "# proposed_function_name = '_display_spike_rasters_pyqtplot_2D'\n",
    "proposed_function_name = '_display_fake_function'\n",
    "\n",
    "display_function = proposed_function_name\n",
    "if isinstance(display_function, (str)):\n",
    "    # if the display_function is a str (name of the function) instead of a callable, try to get the actual callable\n",
    "    assert (display_function in curr_active_pipeline.registered_display_function_names), f\"ERROR: The display function with the name {display_function} could not be found! Is it registered?\"\n",
    "    display_function = curr_active_pipeline.registered_display_function_dict[display_function] # find the actual function from the name\n",
    "\n",
    "display_function    "
   ]
  },
  {
   "cell_type": "code",
   "execution_count": null,
   "id": "b0beb5b7-aa10-464e-a0a5-17682f66829b",
   "metadata": {
    "pycharm": {
     "is_executing": false,
     "name": "#%%\n"
    }
   },
   "outputs": [],
   "source": [
    "curr_active_pipeline.display(DefaultDisplayFunctions._display_3d_interactive_spike_and_behavior_browser, active_config_name) # this works now!"
   ]
  },
  {
   "cell_type": "code",
   "execution_count": null,
   "id": "7c0073ab-9e27-45e8-b3a0-ff5e34b4cd11",
   "metadata": {
    "pycharm": {
     "is_executing": false,
     "name": "#%%\n"
    }
   },
   "outputs": [],
   "source": [
    "display_dict = curr_active_pipeline.display(DefaultDisplayFunctions._display_3d_interactive_custom_data_explorer, active_config_name) # does not work, missing color info?\n",
    "iplapsDataExplorer = display_dict['iplapsDataExplorer']\n",
    "# plotter is available at\n",
    "p = display_dict['plotter']\n",
    "\n",
    "iplapsDataExplorer"
   ]
  },
  {
   "cell_type": "code",
   "execution_count": null,
   "id": "e3f6497b-f442-4096-afe0-12ce9b41612b",
   "metadata": {
    "pycharm": {
     "name": "#%%\n"
    },
    "scrolled": true
   },
   "outputs": [],
   "source": [
    "plots = curr_active_pipeline.display(DefaultDisplayFunctions._display_1d_placefield_validations, active_config_name) # works, but generates a TON of plots!"
   ]
  },
  {
   "cell_type": "code",
   "execution_count": null,
   "id": "d52c81d6-349b-4dd5-8300-66322895efbc",
   "metadata": {
    "pycharm": {
     "name": "#%%\n"
    }
   },
   "outputs": [],
   "source": [
    "len(plots) # 39\n",
    "type(plots[0]) # matplotlib.figure.Figure\n",
    "\n",
    "fig = plt.figure(constrained_layout=True, figsize=(10, 4))\n",
    "subfigs = fig.subfigures(1, 2, wspace=0.07)"
   ]
  },
  {
   "cell_type": "code",
   "execution_count": null,
   "id": "2013f06b-2185-4bad-a517-40d1b39e28ae",
   "metadata": {
    "pycharm": {
     "name": "#%%\n"
    }
   },
   "outputs": [],
   "source": [
    "plots"
   ]
  },
  {
   "cell_type": "code",
   "execution_count": null,
   "id": "46d9eb58-f053-4b19-8630-c2087b5c9bad",
   "metadata": {
    "pycharm": {
     "name": "#%%\n"
    }
   },
   "outputs": [],
   "source": [
    "# Here we look at the population burst events for each epoch ('maze1' vs. 'maze2')\n",
    "# curr_active_pipeline.sess.\n",
    "\n",
    "# get only the spikes that occur during PBEs:\n",
    "pbe_only_spikes_df = sess.spikes_df[(sess.spikes_df.PBE_id > -1)]\n",
    "pbe_only_spikes_df\n",
    "\n",
    "curr_active_pipeline.sess.pbe #[10960 rows x 4 columns]"
   ]
  },
  {
   "cell_type": "code",
   "execution_count": null,
   "id": "c14b1549-6a5f-493f-98f2-3b3f367cc43b",
   "metadata": {
    "pycharm": {
     "name": "#%%\n"
    }
   },
   "outputs": [],
   "source": [
    "curr_active_pipeline.display(DefaultDecoderDisplayFunctions._display_two_step_decoder_prediction_error_2D, active_config_name, variable_name='p_x_given_n') # works!"
   ]
  },
  {
   "cell_type": "code",
   "execution_count": null,
   "id": "8c5d1ff7-73fa-44b3-a351-6ce01510320b",
   "metadata": {
    "pycharm": {
     "name": "#%%\n"
    }
   },
   "outputs": [],
   "source": [
    "curr_active_pipeline.display(DefaultDecoderDisplayFunctions._display_two_step_decoder_prediction_error_2D, active_config_name, variable_name='p_x_given_n_and_x_prev') # works!"
   ]
  },
  {
   "cell_type": "code",
   "execution_count": null,
   "id": "f0c49ccf",
   "metadata": {
    "pycharm": {
     "name": "#%%\n"
    }
   },
   "outputs": [],
   "source": [
    "curr_active_pipeline.display(DefaultDecoderDisplayFunctions._display_two_step_decoder_prediction_error_animated_2D, active_config_name, variable_name='p_x_given_n')"
   ]
  },
  {
   "cell_type": "code",
   "execution_count": null,
   "id": "16de2901-e7ea-40fe-8807-d5bfb57b01bd",
   "metadata": {
    "pycharm": {
     "name": "#%%\n"
    }
   },
   "outputs": [],
   "source": [
    "app, win, w = curr_active_pipeline.display(DefaultRatemapDisplayFunctions._display_placemaps_pyqtplot_2D, active_config_name)\n",
    "win.show(); pg.exec()"
   ]
  },
  {
   "cell_type": "markdown",
   "id": "a07d8a4d-3339-4f57-bb2e-3c62c181f77e",
   "metadata": {
    "jp-MarkdownHeadingCollapsed": true,
    "pycharm": {
     "name": "#%%\n"
    }
   },
   "source": [
    "# Individual Plotting Tests:"
   ]
  },
  {
   "cell_type": "code",
   "execution_count": null,
   "id": "f8010fe1-88c6-4db8-b26a-2fbee0c83509",
   "metadata": {},
   "outputs": [],
   "source": [
    "import matplotlib.pyplot as plt\n",
    "# display matplotlib figures in a qt backed window. Works in Jupyter notebooks\n",
    "%matplotlib qt"
   ]
  },
  {
   "cell_type": "code",
   "execution_count": null,
   "id": "189c8965-3093-4648-bb43-33714c94d0f9",
   "metadata": {},
   "outputs": [],
   "source": [
    "enable_saving_to_disk = True"
   ]
  },
  {
   "cell_type": "markdown",
   "id": "6abc004f-a5d9-4979-8cde-f202597ba1ba",
   "metadata": {
    "jp-MarkdownHeadingCollapsed": true,
    "pycharm": {
     "name": "#%%\n"
    }
   },
   "source": [
    "## Old Individual Plotting Functions:"
   ]
  },
  {
   "cell_type": "code",
   "execution_count": null,
   "id": "5422763d-b961-4dab-810d-8e27b091dffe",
   "metadata": {
    "pycharm": {
     "is_executing": false
    }
   },
   "outputs": [],
   "source": [
    "filter_name = 'maze1'\n",
    "# curr_bapun_pipeline.display(DefaultDisplayFunctions._display_2d_placefield_result_plot_ratemaps_2D, filter_name, subplots=(20, 8), max_screen_figure_size=(2256, 2048), enable_spike_overlay=False, plot_variable=enumTuningMap2DPlotVariables.FIRING_MAPS, fignum=0) # works!\n",
    "curr_active_pipeline.display(DefaultDisplayFunctions._display_2d_placefield_result_plot_ratemaps_2D, filter_name, subplots=(20, 8), max_screen_figure_size=(2256, 2048), enable_spike_overlay=False, plot_variable=enumTuningMap2DPlotVariables.TUNING_MAPS, fignum=10) # works!"
   ]
  },
  {
   "cell_type": "code",
   "execution_count": null,
   "id": "5ca71727-a5cc-48df-88e7-782bbccdef39",
   "metadata": {},
   "outputs": [],
   "source": [
    "filter_name = 'maze2'\n",
    "# curr_bapun_pipeline.display(DefaultDisplayFunctions._display_2d_placefield_result_plot_ratemaps_2D, filter_name, subplots=(20, 8), max_screen_figure_size=(2256, 2048), enable_spike_overlay=False, plot_variable=enumTuningMap2DPlotVariables.FIRING_MAPS, fignum=0) # works!\n",
    "curr_active_pipeline.display(DefaultDisplayFunctions._display_2d_placefield_result_plot_ratemaps_2D, filter_name, subplots=(20, 8), max_screen_figure_size=(2256, 2048), enable_spike_overlay=False, plot_variable=enumTuningMap2DPlotVariables.TUNING_MAPS, fignum=11) # works!"
   ]
  },
  {
   "cell_type": "code",
   "execution_count": null,
   "id": "74c3eb8a-d963-4d60-ab39-721de81a34fe",
   "metadata": {},
   "outputs": [],
   "source": [
    "filter_name = 'maze1'\n",
    "# curr_kdiba_pipeline.display(DefaultDisplayFunctions._display_2d_placefield_result_plot_ratemaps_2D, filter_name, enable_spike_overlay=False, plot_variable=enumTuningMap2DPlotVariables.FIRING_MAPS, fignum=0, max_screen_figure_size=(None, 1868), debug_print=False, enable_saving_to_disk=enable_saving_to_disk) # works!\n",
    "curr_active_pipeline.display(DefaultDisplayFunctions._display_2d_placefield_result_plot_ratemaps_2D, filter_name, enable_spike_overlay=False, plot_variable=enumTuningMap2DPlotVariables.TUNING_MAPS, fignum=1, max_screen_figure_size=(None, 1868), debug_print=False, enable_saving_to_disk=enable_saving_to_disk) "
   ]
  },
  {
   "cell_type": "code",
   "execution_count": null,
   "id": "794ad5c3-328d-41a9-b7c2-2bc6f7aaf2f7",
   "metadata": {},
   "outputs": [],
   "source": [
    "filter_name = 'maze2'\n",
    "# curr_kdiba_pipeline.display(DefaultDisplayFunctions._display_2d_placefield_result_plot_ratemaps_2D, filter_name, enable_spike_overlay=False, plot_variable=enumTuningMap2DPlotVariables.FIRING_MAPS, fignum=0, max_screen_figure_size=(None, 1868), debug_print=False, enable_saving_to_disk=enable_saving_to_disk) # works!\n",
    "curr_active_pipeline.display(DefaultDisplayFunctions._display_2d_placefield_result_plot_ratemaps_2D, filter_name, enable_spike_overlay=False, plot_variable=enumTuningMap2DPlotVariables.TUNING_MAPS, fignum=1, max_screen_figure_size=(None, 1868), debug_print=False, enable_saving_to_disk=enable_saving_to_disk) "
   ]
  },
  {
   "cell_type": "code",
   "execution_count": null,
   "id": "7c849eb9-e7c4-476d-b17c-d197d2f80983",
   "metadata": {},
   "outputs": [],
   "source": [
    "filter_name = 'maze'\n",
    "# curr_kdiba_pipeline.display(DefaultDisplayFunctions._display_2d_placefield_result_plot_ratemaps_2D, filter_name, enable_spike_overlay=False, plot_variable=enumTuningMap2DPlotVariables.FIRING_MAPS, fignum=0, max_screen_figure_size=(None, 1868), debug_print=False, enable_saving_to_disk=enable_saving_to_disk) # works!\n",
    "curr_active_pipeline.display(DefaultDisplayFunctions._display_2d_placefield_result_plot_ratemaps_2D, filter_name, enable_spike_overlay=False, plot_variable=enumTuningMap2DPlotVariables.TUNING_MAPS, fignum=1, max_screen_figure_size=(None, 1868), debug_print=False, enable_saving_to_disk=enable_saving_to_disk) "
   ]
  },
  {
   "cell_type": "code",
   "execution_count": null,
   "id": "701c4ecf-15c2-4197-927f-8f1a63c7ac20",
   "metadata": {},
   "outputs": [],
   "source": [
    "# curr_kdiba_pipeline.display(DefaultDisplayFunctions._display_3d_interactive_custom_data_explorer, 'maze1') # works!\n",
    "curr_active_pipeline.display(DefaultDisplayFunctions._display_3d_interactive_tuning_curves_plotter, 'maze1') # works!"
   ]
  },
  {
   "cell_type": "code",
   "execution_count": null,
   "id": "81189ce9-ad86-4c47-bc72-0d2fa101d9f8",
   "metadata": {
    "scrolled": true
   },
   "outputs": [],
   "source": [
    "# TODO: WARNING: creates new figures, which means many open windows when using %matplotlib qt\n",
    "curr_active_pipeline.display(DefaultDisplayFunctions._display_1d_placefield_validations, 'maze1') # works!"
   ]
  },
  {
   "cell_type": "markdown",
   "id": "2c5931d5-08ff-4e74-83e7-b123c8e8892c",
   "metadata": {
    "jp-MarkdownHeadingCollapsed": true
   },
   "source": [
    "## Systematic Display Function Testing"
   ]
  },
  {
   "cell_type": "code",
   "execution_count": null,
   "id": "9947f05a-e5c3-49bb-b5ca-fac8ac0277ab",
   "metadata": {
    "scrolled": true
   },
   "outputs": [],
   "source": [
    "filter_name = 'maze1'"
   ]
  },
  {
   "cell_type": "code",
   "execution_count": null,
   "id": "5b899e2e-396f-42c5-984f-4adbb491bc77",
   "metadata": {
    "scrolled": true
   },
   "outputs": [],
   "source": [
    "curr_active_pipeline.registered_display_function_names"
   ]
  },
  {
   "cell_type": "code",
   "execution_count": null,
   "id": "5249ee97-6127-4815-b0a9-63adc3c7b858",
   "metadata": {
    "scrolled": true
   },
   "outputs": [],
   "source": [
    "curr_display_function_name = '_display_spike_rasters_pyqtplot_2D'\n",
    "curr_active_pipeline.display(curr_display_function_name, filter_name, debug_print=False, enable_saving_to_disk=enable_saving_to_disk) "
   ]
  },
  {
   "cell_type": "code",
   "execution_count": null,
   "id": "0667bcd8-f6e0-48b6-b023-d3bbaa16e6bc",
   "metadata": {
    "scrolled": true
   },
   "outputs": [],
   "source": [
    "curr_display_function_name = '_display_normal'\n",
    "curr_active_pipeline.display(curr_display_function_name, filter_name, debug_print=False, enable_saving_to_disk=enable_saving_to_disk) "
   ]
  },
  {
   "cell_type": "code",
   "execution_count": null,
   "id": "3e1865a0-6df9-4e7f-bfd5-962cd064700d",
   "metadata": {
    "scrolled": true
   },
   "outputs": [],
   "source": [
    "curr_display_function_name = '_display_2d_placefield_result_plot_raw'\n",
    "curr_active_pipeline.display(curr_display_function_name, filter_name)"
   ]
  },
  {
   "cell_type": "code",
   "execution_count": null,
   "id": "ba88128d-95f5-46fc-98f5-2a466de49059",
   "metadata": {
    "scrolled": true
   },
   "outputs": [],
   "source": [
    "# Issue with unexpected kwargs passed to plots. Solve generally.\n",
    "# TypeError: plot_raw() got an unexpected keyword argument 'enable_saving_to_disk'"
   ]
  },
  {
   "cell_type": "markdown",
   "id": "7c3136f4",
   "metadata": {
    "pycharm": {
     "name": "#%% md\n"
    }
   },
   "source": [
    "# Common: Optional Saving"
   ]
  },
  {
   "cell_type": "code",
   "execution_count": null,
   "id": "f88f630e-c22e-4d4e-864d-f7463b285904",
   "metadata": {
    "pycharm": {
     "name": "#%%\n"
    }
   },
   "outputs": [],
   "source": [
    "from pyphoplacecellanalysis.General.Mixins.ExportHelpers import _test_save_pipeline_data_to_h5, get_h5_data_keys, save_some_pipeline_data_to_h5, load_pipeline_data_from_h5  #ExportHelpers\n",
    "# Define Saving/Loading Directory and paths:\n",
    "finalized_output_cache_file='data/pipeline_cache_store.h5'"
   ]
  },
  {
   "cell_type": "code",
   "execution_count": null,
   "id": "bf1c7148-17db-435f-9ccf-5407fa9ea257",
   "metadata": {
    "pycharm": {
     "name": "#%%\n"
    }
   },
   "outputs": [],
   "source": [
    "# List existing keys in the file:\n",
    "out_keys = get_h5_data_keys(finalized_output_cache_file=finalized_output_cache_file)\n",
    "print(out_keys)"
   ]
  },
  {
   "cell_type": "code",
   "execution_count": null,
   "id": "c6c4d1d0-a11e-4003-b6af-39d9a999b98f",
   "metadata": {
    "pycharm": {
     "name": "#%%\n"
    }
   },
   "outputs": [],
   "source": [
    "active_config_name = 'maze1'\n",
    "# active_config_name = 'maze'\n",
    "\n",
    "desired_spikes_df_key = f'/filtered_sessions/{active_config_name}/spikes_df'\n",
    "desired_positions_df_key = f'/filtered_sessions/{active_config_name}/pos_df'\n",
    "# desired_spikes_df_key = f'/filtered_sessions/{active_config_name}/spikes_df'\n",
    "\n",
    "# Get relevant variables:\n",
    "# curr_active_pipeline is set above, and usable here\n",
    "sess: DataSession = curr_active_pipeline.filtered_sessions[active_config_name]\n",
    "active_computed_data = curr_active_pipeline.computation_results[active_config_name].computed_data\n",
    "print(f'active_computed_data.keys(): {active_computed_data.keys()}')\n",
    "pf = curr_active_pipeline.computation_results[active_config_name].computed_data['pf1D']\n",
    "active_one_step_decoder = curr_active_pipeline.computation_results[active_config_name].computed_data['pf2D_Decoder']\n",
    "active_two_step_decoder = curr_active_pipeline.computation_results[active_config_name].computed_data.get('pf2D_TwoStepDecoder', None)\n",
    "active_measured_positions = curr_active_pipeline.computation_results[active_config_name].sess.position.to_dataframe()"
   ]
  },
  {
   "cell_type": "code",
   "execution_count": null,
   "id": "85eeff2a-223e-41e0-857b-bb520484a1c0",
   "metadata": {
    "pycharm": {
     "name": "#%%\n"
    }
   },
   "outputs": [],
   "source": [
    "# desired_positions_df_key\n",
    "\n",
    "output_save_result = save_some_pipeline_data_to_h5(curr_active_pipeline, finalized_output_cache_file=finalized_output_cache_file)\n",
    "output_save_result"
   ]
  },
  {
   "cell_type": "code",
   "execution_count": null,
   "id": "9dc6bc10-def1-4b7d-a880-f6abfbdc4fed",
   "metadata": {
    "pycharm": {
     "name": "#%%\n"
    }
   },
   "outputs": [],
   "source": [
    "finalized_output_cache_file = _test_save_pipeline_data_to_h5(curr_active_pipeline, finalized_output_cache_file=finalized_output_cache_file, enable_dry_run=False, enable_debug_print=True)\n",
    "finalized_output_cache_file"
   ]
  },
  {
   "cell_type": "code",
   "execution_count": null,
   "id": "81f66af6-30db-4c59-8f0c-96b07ec3b789",
   "metadata": {
    "pycharm": {
     "name": "#%%\n"
    }
   },
   "outputs": [],
   "source": [
    "# Load the saved .h5 spikes dataframe for testing:\n",
    "desired_spikes_df_key = f'/filtered_sessions/{active_config_name}/spikes_df'\n",
    "desired_positions_df_key = f'/filtered_sessions/{active_config_name}/pos_df'    \n",
    "spikes_df, pos_df = load_pipeline_data_from_h5(finalized_output_cache_file=finalized_output_cache_file, desired_spikes_df_key=desired_spikes_df_key, desired_positions_df_key=desired_positions_df_key)\n"
   ]
  },
  {
   "cell_type": "code",
   "execution_count": null,
   "id": "9c34c96d-5a22-4429-80ea-65729522f66c",
   "metadata": {
    "pycharm": {
     "is_executing": false,
     "name": "#%%\n"
    }
   },
   "outputs": [],
   "source": [
    "print(f't_start: {curr_active_pipeline.sess.epochs.t_start}')\n",
    "print(f't_stop: {curr_active_pipeline.sess.epochs.t_stop}')\n",
    "# curr_active_pipeline.sess.epochs.t_stop"
   ]
  },
  {
   "cell_type": "code",
   "execution_count": null,
   "id": "a4f5cda1-d77f-4b13-bdc2-34de69597139",
   "metadata": {
    "pycharm": {
     "is_executing": false,
     "name": "#%%\n"
    }
   },
   "outputs": [],
   "source": [
    "curr_sess.epochs.t_start\n",
    "print(f't_start: {sess.epochs.t_start}')\n",
    "print(f't_stop: {sess.epochs.t_stop}')"
   ]
  },
  {
   "cell_type": "markdown",
   "id": "91ad4fc2-7f79-4153-97a0-61a27ef05b9f",
   "metadata": {
    "pycharm": {
     "name": "#%%\n"
    }
   },
   "source": [
    "## Test saving out custom computation result:"
   ]
  },
  {
   "cell_type": "code",
   "execution_count": null,
   "id": "cad8e1dd-c31d-4899-a8f0-6138e1450c2f",
   "metadata": {
    "pycharm": {
     "name": "#%%\n"
    }
   },
   "outputs": [],
   "source": [
    "# computation_results[active_config_name].computed_data\n",
    "computation_cache_identifier_key = f'computation_results/{active_config_name}/computed_data'\n",
    "computation_cache_key = 'burst_detection/burst_intervals'\n",
    "# active_burst_intervals\n",
    "\n",
    "filtered_burst_intervals = active_burst_intervals\n",
    "# Rebuild a single dataframe from: .groupby('aclu').get_group(a_cell_id)\n",
    "for (a_cell_id, curr_pyburst_interval_df) in active_burst_intervals.items():\n",
    "    # loop through the cell_ids  \n",
    "    # Filter to only zero- and first-order bursts:\n",
    "    # curr_pyburst_interval_df = curr_pyburst_interval_df[curr_pyburst_interval_df['burst_level'] < 2]\n",
    "    # add the 'aclu' column\n",
    "    # curr_pyburst_interval_df['aclu'] = a_cell_id\n",
    "    filtered_burst_intervals[a_cell_id] = curr_pyburst_interval_df\n",
    "\n",
    "## Concatinate the separate dataframes for each neuron into a single dataframe with an 'aclu' column so that it can be cached/saved to disk:\n",
    "# pd.concat([s1, s2], keys=['s1', 's2'])\n",
    "filtered_combined_df = pd.concat(filtered_burst_intervals.values(), keys=list(filtered_burst_intervals.keys()), names=['aclu', 'cell_burst_id'])\n",
    "# pd.concat(filtered_burst_intervals.values(), keys=list(filtered_burst_intervals.keys()), names=['aclu', 'cell_burst_id'], ignore_index=True)\n",
    "print_dataframe_memory_usage(filtered_combined_df)\n",
    "# filtered_combined_df\n",
    "\n",
    "# Define Saving/Loading Directory and paths:\n",
    "finalized_computation_cache_file='data/computation_results_cache_store.h5'\n",
    "computation_cache_identifier_key = f'computation_results/{active_config_name}/computed_data'\n",
    "filtered_combined_df.to_hdf(finalized_computation_cache_file, key=f'{computation_cache_identifier_key}/{computation_cache_key}')"
   ]
  },
  {
   "cell_type": "markdown",
   "id": "2708a6f9-ce8b-4f8b-bbbb-e0237abd86cf",
   "metadata": {
    "jp-MarkdownHeadingCollapsed": true,
    "pycharm": {
     "is_executing": false,
     "name": "#%%\n"
    }
   },
   "source": [
    "# Epoch Rendering\n",
    "## NestedRenderPlots testing"
   ]
  },
  {
   "cell_type": "code",
   "execution_count": null,
   "id": "9729094b-e382-44fd-a3f8-1ebf40511165",
   "metadata": {
    "pycharm": {
     "is_executing": false,
     "name": "#%%\n"
    }
   },
   "outputs": [],
   "source": [
    "from pyphocorehelpers.DataStructure.NestedRenderPlots import NestedRenderPlots"
   ]
  },
  {
   "cell_type": "code",
   "execution_count": null,
   "id": "5e3d0eac-b8d8-4df3-b894-22228df93519",
   "metadata": {
    "pycharm": {
     "is_executing": false,
     "name": "#%%\n"
    }
   },
   "outputs": [],
   "source": [
    "\"\"\"  \n",
    "Want a class that allows access to children items via sequental dot accessors, but returns the actual values of the terminal item:\n",
    "\n",
    "    ItemContainer.spike_raster_window: <pyphoplacecellanalysis.GUI.Qt.SpikeRasterWindows.Spike3DRasterWindowWidget.Spike3DRasterWindowWidget at 0x196c7d73e50>\n",
    "    ItemContainer.spike_raster_window.spike_raster_plt_2d: <pyphoplacecellanalysis.GUI.PyQtPlot.Widgets.SpikeRasterWidgets.Spike2DRaster.Spike2DRaster at 0x196c7244280>\n",
    "    ItemContainer.spike_raster_window.spike_raster_plt_2d.ui.main_graphics_layout_widget # GraphicsLayoutWidget\n",
    "\n",
    "Alternative:\n",
    "    Allows setting metadata on items:\n",
    "        \n",
    "    \n",
    "\"\"\"\n",
    "\n",
    "# class ItemContainer:\n",
    "#     def __init__(self, name, item):\n",
    "        "
   ]
  },
  {
   "cell_type": "code",
   "execution_count": null,
   "id": "485f4f3e-e7bb-4215-811a-1afed09f10ad",
   "metadata": {
    "pycharm": {
     "is_executing": false,
     "name": "#%%\n"
    }
   },
   "outputs": [],
   "source": [
    "NestedRenderPlots('spike_raster_window', render_items=['spike_raster_plt_2d'])"
   ]
  },
  {
   "cell_type": "code",
   "execution_count": null,
   "id": "13555c4b-c726-4c5d-afd1-cca7e34c0761",
   "metadata": {
    "pycharm": {
     "is_executing": false,
     "name": "#%%\n"
    }
   },
   "outputs": [],
   "source": [
    "# _test_nested_render_plots = NestedRenderPlots('NestedRenderPlots')\n",
    "_test_nested_render_plots.main_plot_widget = NestedRenderPlots.wrap_obj(main_plot_widget, name='main_plot_widget', tags=['main_plot_widget','2d','plot'])\n",
    "_test_nested_render_plots.background_static_scroll_plot_widget = NestedRenderPlots.wrap_obj(background_static_scroll_plot_widget, name='background_static_scroll_plot_widget', tags=['background_static_scroll_plot_widget','2d','plot'])\n",
    "\n",
    "# Add the render_time_epochs\n",
    "_test_nested_render_plots.main_plot_widget.render_time_epochs = NestedRenderPlots(name='render_time_epochs', tags=['render_time_epochs', '2d','plot','rects','epochs'])\n",
    "\n",
    "_test_nested_render_plots"
   ]
  },
  {
   "cell_type": "code",
   "execution_count": null,
   "id": "1f37356e-42f3-4809-8826-6e517d3b336b",
   "metadata": {
    "pycharm": {
     "is_executing": false,
     "name": "#%%\n"
    }
   },
   "outputs": [],
   "source": [
    "_test_nested_render_plots.all_attributes"
   ]
  },
  {
   "cell_type": "code",
   "execution_count": null,
   "id": "d48eca7d-19e0-44df-9b39-92023dfe5380",
   "metadata": {
    "pycharm": {
     "is_executing": false,
     "name": "#%%\n"
    }
   },
   "outputs": [],
   "source": [
    "_test_nested_render_plots.children.keys()"
   ]
  },
  {
   "cell_type": "code",
   "execution_count": null,
   "id": "e092cac0-6227-45da-a009-bde5f2724b27",
   "metadata": {
    "pycharm": {
     "is_executing": false,
     "name": "#%%\n"
    }
   },
   "outputs": [],
   "source": [
    "_test_nested_render_plots.get_hierarchy_items()"
   ]
  },
  {
   "cell_type": "code",
   "execution_count": null,
   "id": "40d57135-b1e6-4d51-aa83-e92066c0144e",
   "metadata": {
    "pycharm": {
     "is_executing": false,
     "name": "#%%\n"
    }
   },
   "outputs": [],
   "source": [
    "_test_nested_render_plots.get_hierarchy_render_item_paths(parent_path=['/'])"
   ]
  },
  {
   "cell_type": "markdown",
   "id": "f7385e29-63cb-4013-9d2a-2fbae0bccd3a",
   "metadata": {
    "pycharm": {
     "is_executing": false,
     "name": "#%%\n"
    }
   },
   "source": [
    "# Testing plotting ROIs"
   ]
  },
  {
   "cell_type": "code",
   "execution_count": null,
   "id": "e727a6bb-7e8a-44c0-afac-5f1242f017bb",
   "metadata": {
    "pycharm": {
     "is_executing": false,
     "name": "#%%\n"
    }
   },
   "outputs": [],
   "source": [
    "rois = []\n",
    "rois.append(pg.RectROI([20, 20], [20, 20], pen=(0,9)))\n",
    "rois[-1].addRotateHandle([1,0], [0.5, 0.5])\n",
    "rois.append(pg.LineROI([0, 60], [20, 80], width=5, pen=(1,9)))\n",
    "rois.append(pg.TriangleROI([80, 75], 20, pen=(5, 9)))\n",
    "rois.append(pg.MultiRectROI([[20, 90], [50, 60], [60, 90]], width=5, pen=(2,9)))\n",
    "rois.append(pg.EllipseROI([60, 10], [30, 20], pen=(3,9)))\n",
    "rois.append(pg.CircleROI([80, 50], [20, 20], pen=(4,9)))\n",
    "#rois.append(pg.LineSegmentROI([[110, 50], [20, 20]], pen=(5,9)))\n",
    "rois.append(pg.PolyLineROI([[80, 60], [90, 30], [60, 40]], pen=(6,9), closed=True))"
   ]
  },
  {
   "cell_type": "code",
   "execution_count": null,
   "id": "12b88f82-225f-4612-b5b8-1fbd147090fe",
   "metadata": {
    "pycharm": {
     "is_executing": false,
     "name": "#%%\n"
    }
   },
   "outputs": [],
   "source": [
    "for roi in rois:\n",
    "    roi.sigRegionChanged.connect(update)\n",
    "    v1a.addItem(roi)"
   ]
  },
  {
   "cell_type": "code",
   "execution_count": null,
   "id": "5e73f8e4-a881-4b10-a7b5-4cb5c7fd4dec",
   "metadata": {
    "pycharm": {
     "is_executing": false,
     "name": "#%%\n"
    }
   },
   "outputs": [],
   "source": [
    "\n",
    "\n",
    "pg.RectROI(pos=(), size=())\n"
   ]
  },
  {
   "cell_type": "code",
   "execution_count": null,
   "id": "51ba22d3-eede-4352-82d2-7c3abb6b73d0",
   "metadata": {
    "pycharm": {
     "is_executing": false,
     "name": "#%%\n"
    }
   },
   "outputs": [],
   "source": [
    "backup_laps_rects_data = active_laps_interval_rects_item.data\n",
    "# start_t, series_vertical_offset, duration_t, series_height, pen, brush\n",
    "\n",
    "out_lap_roi_info = [((start_t, series_vertical_offset), (duration_t, series_height)) for start_t, series_vertical_offset, duration_t, series_height, pen, brush in backup_laps_rects_data]\n",
    "out_lap_roi_info"
   ]
  },
  {
   "cell_type": "markdown",
   "id": "4aea2bf8-25ea-45c7-b0f8-502a37be8a09",
   "metadata": {
    "pycharm": {
     "is_executing": false,
     "name": "#%%\n"
    }
   },
   "source": [
    "# Testing plotting PBEs using new Render2DEventRectanglesHelper:"
   ]
  },
  {
   "cell_type": "code",
   "execution_count": null,
   "id": "c8fe418f-31c4-4824-ae17-d65dc0c32da2",
   "metadata": {
    "pycharm": {
     "is_executing": false,
     "name": "#%%\n"
    }
   },
   "outputs": [],
   "source": [
    "from pyphocorehelpers.DataStructure.general_parameter_containers import DebugHelper, VisualizationParameters, RenderPlots, RenderPlotsData\n",
    "from pyphoplacecellanalysis.GUI.PyQtPlot.Widgets.Mixins.RenderTimeEpochs.Specific2DRenderTimeEpochs import Specific2DRenderTimeEpochsHelper\n",
    "from pyphoplacecellanalysis.General.Model.Datasources.IntervalDatasource import IntervalsDatasource\n",
    "from neuropy.core import Epoch\n",
    "from pyphoplacecellanalysis.GUI.PyQtPlot.Widgets.GraphicsObjects.IntervalRectsItem import IntervalRectsItem\n",
    "from pyphoplacecellanalysis.GUI.PyQtPlot.Widgets.Mixins.RenderTimeEpochs.EpochRenderingMixin import EpochRenderingMixin, RenderedEpochsItemsContainer\n",
    "from pyphoplacecellanalysis.GUI.PyQtPlot.Widgets.GraphicsObjects.IntervalRectsItem import IntervalRectsItem, RectangleRenderTupleHelpers\n",
    "# RenderPlotsData"
   ]
  },
  {
   "cell_type": "markdown",
   "id": "6a3c711d-ae64-4d11-8148-28e7e5fa7979",
   "metadata": {
    "pycharm": {
     "is_executing": false,
     "name": "#%%\n"
    }
   },
   "source": [
    "# Shared IntervalDatasource method"
   ]
  },
  {
   "cell_type": "code",
   "execution_count": null,
   "id": "1fbd9073-f2d9-4abe-983c-020a3d4ccf36",
   "metadata": {
    "pycharm": {
     "is_executing": false,
     "name": "#%%\n"
    }
   },
   "outputs": [],
   "source": [
    "## Build a PBEs datasource:\n",
    "laps_interval_datasource = Specific2DRenderTimeEpochsHelper.build_Laps_render_time_epochs_datasource(curr_sess=sess, series_vertical_offset=42.0, series_height=1.0)\n",
    "new_PBEs_interval_datasource = Specific2DRenderTimeEpochsHelper.build_PBEs_render_time_epochs_datasource(curr_sess=sess, series_vertical_offset=43.0, series_height=1.0) # new_PBEs_interval_datasource"
   ]
  },
  {
   "cell_type": "markdown",
   "id": "4aa2db38-05df-4e53-95b0-d4cc081d33d7",
   "metadata": {
    "pycharm": {
     "is_executing": false,
     "name": "#%%\n"
    }
   },
   "source": [
    "## 2D Interval/Epoch Rects:"
   ]
  },
  {
   "cell_type": "code",
   "execution_count": null,
   "id": "9c76c82e-0586-4f54-b37f-c6964b90d123",
   "metadata": {
    "pycharm": {
     "is_executing": false,
     "name": "#%%\n"
    }
   },
   "outputs": [],
   "source": [
    "active_2d_plot = spike_raster_window.spike_raster_plt_2d # <pyphoplacecellanalysis.GUI.PyQtPlot.Widgets.SpikeRasterWidgets.Spike2DRaster.Spike2DRaster at 0x196c7244280>\n",
    "main_graphics_layout_widget = active_2d_plot.ui.main_graphics_layout_widget # GraphicsLayoutWidget\n",
    "main_plot_widget = active_2d_plot.plots.main_plot_widget # PlotItem\n",
    "background_static_scroll_plot_widget = active_2d_plot.plots.background_static_scroll_window_plot # PlotItem"
   ]
  },
  {
   "cell_type": "code",
   "execution_count": null,
   "id": "cc2a1337-e86b-4cff-a45a-004f9962a27a",
   "metadata": {
    "pycharm": {
     "is_executing": false,
     "name": "#%%\n"
    }
   },
   "outputs": [],
   "source": [
    "active_2d_plot.add_rendered_intervals(new_PBEs_interval_datasource, name='PBEs', child_plots=[background_static_scroll_plot_widget, main_plot_widget], debug_print=False)"
   ]
  },
  {
   "cell_type": "code",
   "execution_count": null,
   "id": "6277ec3d-2037-4796-86d9-49d701d6fbed",
   "metadata": {
    "pycharm": {
     "is_executing": false,
     "name": "#%%\n"
    }
   },
   "outputs": [],
   "source": [
    "active_2d_plot.add_rendered_intervals(laps_interval_datasource, name='Laps', child_plots=[background_static_scroll_plot_widget, main_plot_widget], debug_print=False)"
   ]
  },
  {
   "cell_type": "code",
   "execution_count": null,
   "id": "ac03b5e4-958d-47b8-a4a5-3f0800b18beb",
   "metadata": {
    "pycharm": {
     "is_executing": false,
     "name": "#%%\n"
    }
   },
   "outputs": [],
   "source": [
    "active_2d_plot.clear_all_rendered_intervals()"
   ]
  },
  {
   "cell_type": "code",
   "execution_count": null,
   "id": "7ef6b67c-dac8-4422-bf18-f7f7fcbaac04",
   "metadata": {
    "pycharm": {
     "is_executing": false,
     "name": "#%%\n"
    }
   },
   "outputs": [],
   "source": [
    "interval_info = active_2d_plot.list_all_rendered_intervals()\n",
    "interval_info"
   ]
  },
  {
   "cell_type": "code",
   "execution_count": null,
   "id": "f6655168-fc6f-4a73-af07-f8f9adf8afbc",
   "metadata": {
    "pycharm": {
     "is_executing": false,
     "name": "#%%\n"
    }
   },
   "outputs": [],
   "source": [
    "active_2d_plot.add_PBEs_intervals(sess)"
   ]
  },
  {
   "cell_type": "code",
   "execution_count": null,
   "id": "743e452d-611e-4b0b-93fb-2907b7ae4c75",
   "metadata": {
    "pycharm": {
     "is_executing": false,
     "name": "#%%\n"
    }
   },
   "outputs": [],
   "source": [
    "active_2d_plot.add_laps_intervals(sess)"
   ]
  },
  {
   "cell_type": "code",
   "execution_count": null,
   "id": "ac5c8010-70e9-4ec5-988b-0bb9a4ac3671",
   "metadata": {
    "pycharm": {
     "is_executing": false,
     "name": "#%%\n"
    }
   },
   "outputs": [],
   "source": [
    "active_2d_plot.remove_laps_intervals()"
   ]
  },
  {
   "cell_type": "markdown",
   "id": "30c3dc10-7f04-4e04-a46d-7cb5bbc9b7df",
   "metadata": {
    "pycharm": {
     "is_executing": false,
     "name": "#%%\n"
    }
   },
   "source": [
    "## Test Merging/Reconciling with 3D Rects"
   ]
  },
  {
   "cell_type": "code",
   "execution_count": null,
   "id": "e476ad7d-489c-4b1e-92d0-69d1d9be737d",
   "metadata": {
    "pycharm": {
     "is_executing": false,
     "name": "#%%\n"
    }
   },
   "outputs": [],
   "source": [
    "active_3d_plot = spike_raster_window.spike_raster_plt_3d"
   ]
  },
  {
   "cell_type": "code",
   "execution_count": null,
   "id": "302c5950-6994-4665-a30d-cd8c6a1e9b04",
   "metadata": {
    "pycharm": {
     "is_executing": false,
     "name": "#%%\n"
    }
   },
   "outputs": [],
   "source": [
    "# glOptions: 'additive', 'translucent', 'opaque'\n",
    "# shader: 'balloon', 'shaded', 'edgeHilight', None\n",
    "out = active_3d_plot.add_rendered_intervals(interval_datasource=laps_interval_datasource, name='Laps', debug_print=True, brush_aRGB=([(1.0, 0.5, 1.0, 0.2)] * num_epochs), shader='balloon', glOptions='additive', smooth=False, series_height=10.0, series_vertical_offset=-30.0) # , brush_aRGB=(1.0, 1.0, 1.0, 0.2)"
   ]
  },
  {
   "cell_type": "code",
   "execution_count": null,
   "id": "6757f05f-b993-4e3d-916e-c158967a3206",
   "metadata": {
    "pycharm": {
     "is_executing": false,
     "name": "#%%\n"
    }
   },
   "outputs": [],
   "source": [
    "active_3d_plot.has_render_epoch_meshes"
   ]
  },
  {
   "cell_type": "code",
   "execution_count": null,
   "id": "6d94b539-050f-4e02-8543-349fce0f15f2",
   "metadata": {
    "pycharm": {
     "is_executing": false,
     "name": "#%%\n"
    }
   },
   "outputs": [],
   "source": [
    "active_3d_plot.clear_all_rendered_intervals()"
   ]
  },
  {
   "cell_type": "code",
   "execution_count": null,
   "id": "dd8bceae-2a72-451b-a343-3f93324406a0",
   "metadata": {
    "pycharm": {
     "is_executing": false,
     "name": "#%%\n"
    }
   },
   "outputs": [],
   "source": [
    "active_3d_plot.add_PBEs_intervals(sess)"
   ]
  },
  {
   "cell_type": "code",
   "execution_count": null,
   "id": "b189848c-362d-4a6d-a1e0-eb45fb1187d2",
   "metadata": {
    "pycharm": {
     "is_executing": false,
     "name": "#%%\n"
    }
   },
   "outputs": [],
   "source": [
    "active_3d_plot.add_laps_intervals(sess)"
   ]
  },
  {
   "cell_type": "code",
   "execution_count": null,
   "id": "d4e92885-6077-4590-92c3-4c08dd256e7e",
   "metadata": {
    "pycharm": {
     "is_executing": false,
     "name": "#%%\n"
    }
   },
   "outputs": [],
   "source": [
    "interval_info = active_3d_plot.list_all_rendered_intervals()\n",
    "interval_info"
   ]
  },
  {
   "cell_type": "markdown",
   "id": "d87a6095-9047-4dce-8465-b709cc10682f",
   "metadata": {
    "pycharm": {
     "is_executing": false,
     "name": "#%%\n"
    }
   },
   "source": [
    "## Shared Plotting from IntervalDatasources:"
   ]
  },
  {
   "cell_type": "markdown",
   "id": "44aa38a3-402a-49dc-9a1a-425831c368cc",
   "metadata": {
    "pycharm": {
     "is_executing": false,
     "name": "#%%\n"
    }
   },
   "source": [
    "# Testing burst detection: Calculate the spiking profile using pyspike and display the outputs:"
   ]
  },
  {
   "cell_type": "markdown",
   "id": "71ef63a9-ee2d-4aa7-8f00-b086ead49b6e",
   "metadata": {
    "pycharm": {
     "is_executing": false,
     "name": "#%%\n"
    }
   },
   "source": [
    "### pybursts"
   ]
  },
  {
   "cell_type": "code",
   "execution_count": null,
   "id": "47f27070-910d-4cb3-9499-06822c1e6088",
   "metadata": {
    "pycharm": {
     "name": "#%%\n"
    }
   },
   "outputs": [],
   "source": [
    "from pybursts import pybursts\n",
    "import matplotlib.pyplot as plt\n",
    "from indexed import IndexedOrderedDict\n",
    "from pyphocorehelpers.print_helpers import print_dataframe_memory_usage\n",
    "from copy import deepcopy\n",
    "\n",
    "active_burst_info = active_computed_data['burst_detection']\n",
    "active_burst_intervals = deepcopy(active_burst_info['burst_intervals'])\n",
    "filtered_burst_intervals = active_burst_intervals"
   ]
  },
  {
   "cell_type": "code",
   "execution_count": null,
   "id": "c5a08c35-b90c-4d26-af35-78151c643627",
   "metadata": {
    "pycharm": {
     "name": "#%%\n"
    }
   },
   "outputs": [],
   "source": [
    "# bursting_interval_datasource = Render2DEventRectanglesHelper.build_interval_datasource_from_active_burst_intervals(active_burst_intervals=filtered_burst_intervals)\n",
    "bursting_interval_datasource = Render2DEventRectanglesHelper.build_burst_event_rectangle_datasource(spike_raster_window.spike_raster_plt_2d, active_burst_intervals, datasource_name='active_burst_intervals_datasource', included_burst_levels=[1,2,3,4,5])\n",
    "# bursting_interval_datasource"
   ]
  },
  {
   "cell_type": "code",
   "execution_count": null,
   "id": "29a5f19a-4275-4c85-9289-ac03001be155",
   "metadata": {
    "pycharm": {
     "name": "#%%\n"
    }
   },
   "outputs": [],
   "source": [
    "active_bursts_interval_rects_item = Render2DEventRectanglesHelper.build_IntervalRectsItem_from_interval_datasource(bursting_interval_datasource)\n",
    "active_bursts_interval_rects_item.setToolTip('Bursting')\n",
    "active_bursts_interval_rects_item"
   ]
  },
  {
   "cell_type": "markdown",
   "id": "3717416c-e58f-4c91-be79-9915d5c2d243",
   "metadata": {
    "pycharm": {
     "name": "#%%\n"
    }
   },
   "source": [
    "## Plot the burst periods as rectangles on the 2D Raster Plot:"
   ]
  },
  {
   "cell_type": "code",
   "execution_count": null,
   "id": "dfb88674-ff13-4e95-836b-a636e08afde6",
   "metadata": {
    "pycharm": {
     "is_executing": false,
     "name": "#%%\n"
    }
   },
   "outputs": [],
   "source": [
    "from pyphoplacecellanalysis.GUI.PyQtPlot.Widgets.Mixins.Render2DEventRectanglesHelper import Render2DEventRectanglesHelper\n",
    "\n",
    "# rect_return_dict = Render2DEventRectanglesHelper.add_event_rectangles(spike_raster_window.spike_raster_plt_2d, active_burst_intervals, included_burst_levels=[1]) # {'interval_rects_item': active_interval_rects_item}\n",
    "rect_return_dict = Render2DEventRectanglesHelper.add_event_rectangles(spike_raster_window.spike_raster_plt_2d, active_burst_intervals, included_burst_levels=[1,2,3,4,5]) # {'interval_rects_item': active_interval_rects_item}\n",
    "\n",
    "active_interval_rects_item = rect_return_dict['interval_rects_item']"
   ]
  },
  {
   "cell_type": "markdown",
   "id": "14511d03-97ac-46ac-b912-0e27cdadc7e9",
   "metadata": {
    "pycharm": {
     "is_executing": false,
     "name": "#%%\n"
    }
   },
   "source": [
    "#### Plot the result:"
   ]
  },
  {
   "cell_type": "code",
   "execution_count": null,
   "id": "a70a0f71-4139-461e-8582-d20b1a8728ed",
   "metadata": {
    "pycharm": {
     "is_executing": false,
     "name": "#%%\n"
    }
   },
   "outputs": [],
   "source": [
    "main_plot_widget = spike_raster_window.spike_raster_plt_2d.plots.main_plot_widget # PlotItem\n",
    "background_static_scroll_plot_widget = spike_raster_window.spike_raster_plt_2d.plots.background_static_scroll_window_plot # PlotItem"
   ]
  },
  {
   "cell_type": "code",
   "execution_count": null,
   "id": "425293be-df76-4095-917a-66825d6676bf",
   "metadata": {
    "pycharm": {
     "is_executing": false,
     "name": "#%%\n"
    }
   },
   "outputs": [],
   "source": [
    "## Remove the active_interval_rects_item:\n",
    "main_plot_widget.removeItem(active_interval_rects_item)\n",
    "active_interval_rects_item = None"
   ]
  },
  {
   "cell_type": "code",
   "execution_count": null,
   "id": "1f539ee8-01fd-416b-94c6-655489d551d0",
   "metadata": {
    "pycharm": {
     "is_executing": false,
     "name": "#%%\n"
    }
   },
   "outputs": [],
   "source": [
    "## Add the active_interval_rects_item to the background_static_scroll_window_plot: \n",
    "background_static_scroll_plot_widget.addItem(active_interval_rects_item)"
   ]
  },
  {
   "cell_type": "code",
   "execution_count": null,
   "id": "747b732a-7c05-4eca-84de-e8d78e991a23",
   "metadata": {
    "pycharm": {
     "is_executing": false,
     "name": "#%%\n"
    }
   },
   "outputs": [],
   "source": [
    "## Remove the active_interval_rects_item:\n",
    "background_static_scroll_plot_widget.removeItem(active_interval_rects_item)\n",
    "active_interval_rects_item = None"
   ]
  },
  {
   "cell_type": "markdown",
   "id": "3c7ca802-f4af-493c-a083-5e5baaf44986",
   "metadata": {
    "pycharm": {
     "is_executing": false,
     "name": "#%%\n"
    }
   },
   "source": [
    "## Scratch"
   ]
  },
  {
   "cell_type": "code",
   "execution_count": null,
   "id": "cbe6ed1f-b6ba-453a-a1cd-bf4ec753ebed",
   "metadata": {
    "pycharm": {
     "is_executing": false,
     "name": "#%%\n"
    }
   },
   "outputs": [],
   "source": [
    "active_burst_intervals_neuron_IDXs_list = spike_raster_window.spike_raster_plt_2d.find_neuron_IDXs_from_cell_ids(list(filtered_burst_intervals.keys()))\n",
    "\n",
    "# { spike_raster_window.spike_raster_plt_2d.get_neuron_id_and_idx(neuron_id=a_neuron_id)[0] for i, a_neuron_id in enumerate(list(filtered_burst_intervals.keys()))}\n",
    "\n",
    "neuron_id_qcolors_map = {a_neuron_id:spike_raster_window.spike_raster_plt_2d.params.neuron_qcolors_map[spike_raster_window.spike_raster_plt_2d.get_neuron_id_and_idx(neuron_id=a_neuron_id)[0]] for i, a_neuron_id in enumerate(list(filtered_burst_intervals.keys()))}\n",
    "neuron_id_qcolors_map"
   ]
  },
  {
   "cell_type": "code",
   "execution_count": null,
   "id": "d54cdea9-60f8-4543-8852-0e89b25208d6",
   "metadata": {
    "pycharm": {
     "is_executing": false,
     "name": "#%%\n"
    }
   },
   "outputs": [],
   "source": [
    "spike_raster_window.spike_raster_plt_2d.config_fragile_linear_neuron_IDX_map"
   ]
  },
  {
   "cell_type": "code",
   "execution_count": null,
   "id": "e51262d9-2b1e-45f6-95c1-4b2125467be6",
   "metadata": {
    "pycharm": {
     "is_executing": false,
     "name": "#%%\n"
    }
   },
   "outputs": [],
   "source": [
    "spike_raster_window.spike_raster_plt_2d.params.config_items"
   ]
  },
  {
   "cell_type": "code",
   "execution_count": null,
   "id": "94981b54-ff31-4050-8f4d-5275dc394fbe",
   "metadata": {
    "pycharm": {
     "is_executing": false,
     "name": "#%%\n"
    }
   },
   "outputs": [],
   "source": [
    "print_keys_if_possible('spike_raster_window.spike_raster_plt_2d', spike_raster_window.spike_raster_plt_2d, max_depth=2) "
   ]
  },
  {
   "cell_type": "code",
   "execution_count": null,
   "id": "fb4a4e1f-cc04-4af5-b5cc-b5186d7e47ab",
   "metadata": {
    "pycharm": {
     "is_executing": false,
     "name": "#%%\n"
    }
   },
   "outputs": [],
   "source": [
    "print_keys_if_possible('spike_raster_window.spike_raster_plt_2d.params', spike_raster_window.spike_raster_plt_2d.params, max_depth=2) "
   ]
  },
  {
   "cell_type": "code",
   "execution_count": null,
   "id": "a215fe3e-2fec-4d6f-bab4-8101dd2645cf",
   "metadata": {
    "pycharm": {
     "is_executing": false,
     "name": "#%%\n"
    }
   },
   "outputs": [],
   "source": [
    "spike_raster_window.spike_raster_plt_2d.plots.scatter_plot"
   ]
  },
  {
   "cell_type": "code",
   "execution_count": null,
   "id": "9a3f52db-f1b2-45a7-a434-eae8d3a480dc",
   "metadata": {
    "pycharm": {
     "is_executing": false,
     "name": "#%%\n"
    }
   },
   "outputs": [],
   "source": [
    "plt = pg.plot()\n",
    "plt.addItem(item)\n",
    "plt.setWindowTitle('pyqtgraph example: customGraphicsItem')"
   ]
  },
  {
   "cell_type": "markdown",
   "id": "22be1c06-9136-449f-8faf-518ee0e521d1",
   "metadata": {
    "pycharm": {
     "is_executing": false,
     "name": "#%%\n"
    }
   },
   "source": [
    "#### Matplotlib broken_barh version:"
   ]
  },
  {
   "cell_type": "code",
   "execution_count": null,
   "id": "41582aec-4bb0-4a13-aef2-a4a338250247",
   "metadata": {
    "pycharm": {
     "is_executing": false,
     "name": "#%%\n"
    }
   },
   "outputs": [],
   "source": [
    "y_range = [(i, 1) for i in np.arange(len(curr_pyburst_interval_df.interval_pair))]\n",
    "print(f'y_range: {y_range}')"
   ]
  },
  {
   "cell_type": "code",
   "execution_count": null,
   "id": "9c2b0807-8918-4761-b3bc-6285149a107b",
   "metadata": {
    "pycharm": {
     "is_executing": false,
     "name": "#%%\n"
    }
   },
   "outputs": [],
   "source": [
    "fig, (ax0, ax1) = plt.subplots(2, 1, sharex=True, constrained_layout=True)\n",
    "\n",
    "ax0.eventplot(curr_spike_train)\n",
    "ax0.set_title('Input Timeseries')\n",
    "\n",
    "# Output intervals:\n",
    "ax1.set_title('Output Intervals')\n",
    "\n",
    "ax1.broken_barh(curr_pyburst_interval_df.interval_pair.to_numpy(), (0, 1), facecolors='tab:blue')\n",
    "# ax1.broken_barh([interval_pairs[1]], (1, 1))\n",
    "# ax1.broken_barh([interval_pairs[2]], (2, 1))"
   ]
  },
  {
   "cell_type": "markdown",
   "id": "ec5c2742-f80b-4356-a784-404fc6249426",
   "metadata": {
    "pycharm": {
     "is_executing": false,
     "name": "#%%\n"
    }
   },
   "source": [
    "### Pyspike"
   ]
  },
  {
   "cell_type": "code",
   "execution_count": null,
   "id": "abda11f4-faa0-4726-b723-c320c5a81b51",
   "metadata": {
    "pycharm": {
     "is_executing": false,
     "name": "#%%\n"
    }
   },
   "outputs": [],
   "source": [
    "isi_profile = spk.isi_profile(out_pyspike_spiketrains[2], out_pyspike_spiketrains[3])\n",
    "x, y = isi_profile.get_plottable_data()\n",
    "plt.plot(x, y, '--k')\n",
    "print(\"ISI distance: %.8f\" % isi_profile.avrg())\n",
    "plt.show()\n",
    "\n",
    "\n",
    "# Can specify the time intervals over which to look at the average ISI:\n",
    "# isi1 = isi_profile.avrg(interval=(0, 1000))\n",
    "# isi2 = isi_profile.avrg(interval=(1000, 2000))\n",
    "# isi3 = isi_profile.avrg(interval=[(0, 1000), (2000, 3000)])\n",
    "# isi4 = isi_profile.avrg(interval=[(1000, 2000), (3000, 4000)])\n",
    "\n",
    "# Bivariate (across only two spiketrains, specified here as [2] and [3]) version:\n",
    "spike_profile = spk.spike_profile(out_pyspike_spiketrains[2], out_pyspike_spiketrains[3])\n",
    "x, y = spike_profile.get_plottable_data()\n",
    "plt.plot(x, y, '--k')\n",
    "print(\"SPIKE distance: %.8f\" % spike_profile.avrg())\n",
    "plt.show()\n",
    "\n",
    "\n",
    "## Multivariate (across all spike trains at at time) version:\n",
    "spiketrains_list = list(out_pyspike_spiketrains.values())\n",
    "avrg_isi_profile = spk.isi_profile(spiketrains_list)\n",
    "avrg_spike_profile = spk.spike_profile(spiketrains_list)\n",
    "avrg_spike_sync_profile = spk.spike_sync_profile(spiketrains_list)"
   ]
  },
  {
   "cell_type": "code",
   "execution_count": null,
   "id": "07ab5aa8-1e93-4437-95e5-9d8f2f62627f",
   "metadata": {
    "pycharm": {
     "is_executing": false,
     "name": "#%%\n"
    }
   },
   "outputs": [],
   "source": [
    "def _compute_distance_matricies(spike_trains):\n",
    "    plt.figure()\n",
    "    isi_distance_mat = spk.isi_distance_matrix(spike_trains)\n",
    "    plt.imshow(isi_distance_mat, interpolation='none')\n",
    "    plt.title(\"ISI-distance\")\n",
    "\n",
    "    plt.figure()\n",
    "    spike_distance_mat = spk.spike_distance_matrix(spike_trains) # , interval=(0.001,1000.0)\n",
    "    plt.imshow(spike_distance_mat, interpolation='none')\n",
    "    plt.title(\"SPIKE-distance\")\n",
    "\n",
    "    plt.figure()\n",
    "    spike_sync_mat = spk.spike_sync_matrix(spike_trains) # , interval=(2000.0,4000.0)\n",
    "    plt.imshow(spike_sync_mat, interpolation='none')\n",
    "    plt.title(\"SPIKE-Sync\")\n",
    "\n",
    "    plt.show()\n",
    "    return isi_distance_mat, spike_distance_mat, spike_sync_mat\n",
    "    \n",
    "\n",
    "isi_distance_mat, spike_distance_mat, spike_sync_mat = _compute_distance_matricies(spiketrains_list)"
   ]
  },
  {
   "cell_type": "code",
   "execution_count": null,
   "id": "96047984-b263-4266-922b-90c80f5aa2b2",
   "metadata": {
    "pycharm": {
     "is_executing": false,
     "name": "#%%\n"
    }
   },
   "outputs": [],
   "source": [
    "x, y = avrg_spike_profile.get_plottable_data()\n",
    "plt.plot(x, y, 'k')\n",
    "print(\"SPIKE distance: %.8f\" % spike_profile.avrg())\n",
    "plt.show()"
   ]
  },
  {
   "cell_type": "code",
   "execution_count": null,
   "id": "2a661ec4-8eec-4614-b7d0-dcac74b0ae99",
   "metadata": {
    "pycharm": {
     "is_executing": false,
     "name": "#%%\n"
    }
   },
   "outputs": [],
   "source": [
    "# \n",
    "x, y = avrg_isi_profile.get_plottable_data()\n",
    "plt.plot(x, y, '--k')\n",
    "# print(\"ISI distance: %.8f\" % isi_profile.avrg())\n",
    "plt.show()"
   ]
  },
  {
   "cell_type": "markdown",
   "id": "4d285e1c-d237-4b14-bfdd-399acb42d606",
   "metadata": {
    "pycharm": {
     "is_executing": false,
     "name": "#%%\n"
    }
   },
   "source": [
    "## Dynamic time warping algorithms"
   ]
  },
  {
   "cell_type": "code",
   "execution_count": null,
   "id": "c31ec6b4-ac9c-4543-81f8-21da195ce12a",
   "metadata": {
    "pycharm": {
     "is_executing": false,
     "name": "#%%\n"
    }
   },
   "outputs": [],
   "source": [
    "from vedo import *\n",
    "from vedo.pyplot import violin, whisker, histogram\n",
    "\n",
    "## Example Violin plot with 3 generated violins:\n",
    "# n = 1000\n",
    "# acts = [\n",
    "#     Text3D('gaussian', pos=(0,4.5), s=0.3, c='k', justify='center'),\n",
    "#     violin(np.random.randn(n)),\n",
    "\n",
    "#     Text3D('exponential', pos=(5,-1), s=0.3, c='k', justify='center'),\n",
    "#     violin(np.random.exponential(1, n), x=5, width=3, spline=False, centerline=False, c='t', lc='k'),\n",
    "\n",
    "#     Text3D('chisquare', pos=(10,11), s=0.3, c='k', justify='center'),\n",
    "#     violin(np.random.chisquare(9, n)/4, x=10, vlim=(0,10), c='lg', lc='dg'),\n",
    "# ]\n",
    "\n",
    "\n",
    "## Actual violin plot from each cell's spike ISIs:\n",
    "intra_unit_spacing = 10.0\n",
    "\n",
    "# axes_options_dict = dict(xtitle=False, ytitle='distribution')\n",
    "axes_options_dict = dict(xtitle=False, ytitle=False)\n",
    "\n",
    "acts = []\n",
    "for (i, a_cell_id) in enumerate(curr_active_pipeline.sess.spikes_df.spikes.neuron_ids):\n",
    "    if i < 3:\n",
    "        # loop through the cell_ids\n",
    "        curr_unit_x_offset = float(i) * intra_unit_spacing\n",
    "        curr_df = curr_active_pipeline.sess.spikes_df.groupby('aclu').get_group(a_cell_id)\n",
    "        # curr_active_pipeline.sess.spikes_df['scISI']\n",
    "        # ValueError: autodetected range of [nan, nan] is not finite\n",
    "        # curr_v_text = Text3D(f'unit[{a_cell_id}]', pos=(curr_unit_x_offset,-1), s=0.3, c='k', justify='center')\n",
    "        # acts.append(curr_v_text)\n",
    "        # curr_v = violin(curr_df['scISI'].dropna(), bins=20, x=curr_unit_x_offset, centerline=True, spline=False, vlim=[0, 10]) # width=20.0, \n",
    "        curr_v = whisker(curr_df['scISI'].dropna(), s=0.25, c='k', lw=2, bc='blue', alpha=0.25, r=5, jitter=True, horizontal=False)\n",
    "        # curr_v = histogram(curr_df['scISI'].dropna(), errors=True, alpha=0.8, logscale=True)\n",
    "        # curr_v = histogram(curr_df['scISI'].dropna(), errors=True, alpha=0.8, logscale=False)\n",
    "        # curr_v = violin(curr_df['scISI'].dropna())\n",
    "        acts.append(curr_v)\n",
    "\n",
    "\n",
    "show(acts, axes=axes_options_dict).close()\n",
    "\n",
    "## TODO: comes see https://github.com/marcomusy/vedo/blob/master/examples/pyplot/whiskers.py to implement a whisker's plot from this data."
   ]
  },
  {
   "cell_type": "code",
   "execution_count": null,
   "id": "5f20a159-3434-4dbd-94a8-3d07af9998a1",
   "metadata": {
    "pycharm": {
     "is_executing": false,
     "name": "#%%\n"
    }
   },
   "outputs": [],
   "source": [
    "# note that this is very slow, but works\n",
    "included_cell_INDEXES = np.array([spike_raster_plt.get_neuron_id_and_idx(neuron_id=an_included_cell_ID)[0] for an_included_cell_ID in spike_raster_plt.spikes_df['aclu'].to_numpy()]) # get the indexes from the cellIDs\n",
    "spike_raster_plt.spikes_df['cell_idx'] = included_cell_INDEXES.copy()"
   ]
  },
  {
   "cell_type": "code",
   "execution_count": null,
   "id": "70ac7aea-82ad-4250-b401-5f4e94ea66a5",
   "metadata": {
    "pycharm": {
     "is_executing": false,
     "name": "#%%\n"
    }
   },
   "outputs": [],
   "source": [
    "# spike_raster_plt.spikes_df\n",
    "np.unique(spike_raster_plt.spikes_df['cell_idx']) # array([ 0,  1,  2,  3,  4,  5,  6,  7,  8,  9, 10, 11, 12, 13, 14, 15, 16, 17, 18, 19, 20, 21, 22, 23, 24, 25, 26, 27, 28, 29, 30, 31, 32, 33, 34, 35, 36, 37, 38, 39])"
   ]
  },
  {
   "cell_type": "code",
   "execution_count": null,
   "id": "cc333190-9c70-4780-acad-73da1f3f5fe6",
   "metadata": {
    "pycharm": {
     "is_executing": false,
     "name": "#%%\n"
    }
   },
   "outputs": [],
   "source": [
    "# out_figs = curr_active_pipeline.sess.spikes_df.plot.hist(by='aclu', column='scISI', bins=12, sharex=True, alpha=0.5, figsize=(40, 120))\n",
    "# out_figs = curr_active_pipeline.sess.spikes_df.plot.hist(by='aclu', column='scISI', bins=12, alpha=0.5, figsize=(40, 120))\n",
    "# out_figs = curr_active_pipeline.sess.spikes_df.plot.hist(column='scISI', bins=12, alpha=0.5, figsize=(40, 120))\n",
    "# out_figs = curr_active_pipeline.sess.spikes_df.plot.box(column=['scISI'], by='aclu', figsize=(40, 120)) # boxplots side-by-side\n",
    "\n",
    "# out_figs = curr_active_pipeline.sess.spikes_df.plot.kde(column=['scISI'], by='aclu', figsize=(40, 120)) # Not working\n",
    "# out_figs = curr_active_pipeline.sess.spikes_df.plot(column=['scISI'], by='aclu', figsize=(40, 120)) # boxplots side-by-side\n",
    "\n",
    "# out_figs = curr_active_pipeline.sess.spikes_df.plot(kind='hist', sharex=True, sharey=False, column=['scISI'], by='aclu', figsize=(40, 120)) # boxplots side-by-side\n",
    "out_figs = curr_active_pipeline.sess.spikes_df.plot(kind='scatter', sharex=True, sharey=False, column=['scISI'], by='aclu', figsize=(40, 120)) # boxplots side-by-side\n",
    "# \n",
    "\n",
    "# .plot(xlabel=\"new x\", ylabel=\"new y\");\n"
   ]
  },
  {
   "cell_type": "code",
   "execution_count": null,
   "id": "55b44895",
   "metadata": {
    "pycharm": {
     "is_executing": false,
     "name": "#%%\n"
    }
   },
   "outputs": [],
   "source": [
    "from PendingNotebookCode import _perform_PBE_stats\n",
    "\n",
    "pbe_analyses_result_df, [all_epochs_full_pbe_spiketrain_lists, all_epochs_pbe_num_spikes_lists, all_epochs_intra_pbe_interval_lists] = _perform_PBE_stats(curr_active_pipeline, debug_print=False) # all_epochs_n_pbes: [206, 31, 237], all_epochs_mean_pbe_durations: [0.2209951456310722, 0.23900000000001073, 0.22335021097046923], all_epochs_cummulative_pbe_durations: [45.52500000000087, 7.409000000000333, 52.934000000001205], all_epochs_total_durations: [1716.8933641185379, 193.26664069312392, 1910.1600048116618]\n",
    "pbe_analyses_result_df\n",
    "# pbe_analyses_result_df.to_clipboard(sep=',') "
   ]
  },
  {
   "cell_type": "code",
   "execution_count": null,
   "id": "6ee40f53-70cd-4b54-8fa1-71117a9a200c",
   "metadata": {
    "pycharm": {
     "is_executing": false,
     "name": "#%%\n"
    }
   },
   "outputs": [],
   "source": [
    "from pyphoplacecellanalysis.GUI.PyQtPlot.pyqtplot_SimplePlot import plot_simple_graph\n",
    "\n",
    "[p1], win, app = plot_simple_graph(all_epochs_intra_pbe_interval_lists[0])\n",
    "\n",
    "for (idx, named_range) in enumerate(curr_named_timeranges):\n",
    "    # interested in analyzing both the filtered_sess.pbe and the filtered_sess.spikes_df (as they relate to the PBEs)\n",
    "    p1.plot(all_epochs_intra_pbe_interval_lists[idx] + (300 * idx), pen=(255,0,0), name=named_range.name)\n",
    "\n",
    "# p1.plot(np.random.normal(size=100), pen=(255,0,0), name=\"Red curve\")\n",
    "# p1.plot(np.random.normal(size=110)+5, pen=(0,255,0), name=\"Green curve\")\n",
    "# p1.plot(np.random.normal(size=120)+10, pen=(0,0,255), name=\"Blue curve\")\n",
    "\n",
    "# def plot_simple_graph(y=np.random.normal(size=100))\n",
    "#     app = pg.mkQApp(\"Plotting Example\")\n",
    "#     #mw = QtGui.QMainWindow()\n",
    "#     #mw.resize(800,800)\n",
    "#     \n",
    "#     win = pg.GraphicsLayoutWidget(show=True, title=\"Basic plotting examples\")\n",
    "#     win.resize(1000,600)\n",
    "#     win.setWindowTitle('pyqtgraph example: Plotting')\n",
    "#     \n",
    "#     # Enable antialiasing for prettier plots\n",
    "#     pg.setConfigOptions(antialias=True)\n",
    "#     \n",
    "#     p1 = win.addPlot(title=\"Basic array plotting\", y=y)\n",
    "#     \n",
    "#     return app, win, [p1]"
   ]
  },
  {
   "cell_type": "code",
   "execution_count": null,
   "id": "b9795cd4-6968-4458-9442-3e38701ad1e8",
   "metadata": {
    "pycharm": {
     "is_executing": false,
     "name": "#%%\n"
    }
   },
   "outputs": [],
   "source": [
    "# Find all spikes that occur during both a PBE & a lap on the track:\n",
    "\n",
    "# curr_active_pipeline.sess.spikes_df[(curr_active_pipeline.sess.spikes_df['PBE_id'] > -1)] # & (curr_active_pipeline.sess.spikes_df['lap'] != -1)\n",
    "during_lap_and_PBE_spikes_df = curr_active_pipeline.sess.spikes_df[(curr_active_pipeline.sess.spikes_df['PBE_id'] > -1) & (curr_active_pipeline.sess.spikes_df['lap'] != -1)]\n",
    "# curr_active_pipeline.sess.spikes_df[(curr_active_pipeline.sess.spikes_df['lap'] > -1)]\n",
    "during_lap_and_PBE_spikes_df\n",
    "\n",
    "# updated_spikes_df = curr_active_pipeline.sess.compute_PBEs_spikes_df(curr_active_pipeline.sess.spikes_df, curr_active_pipeline.sess.pbe.to_dataframe())\n",
    "# updated_spikes_df[(updated_spikes_df['PBE_id'] > -1)]\n",
    "# curr_active_pipeline.sess.spikes_df[(curr_active_pipeline.sess.spikes_df['PBE_id'] > -1)]\n",
    "# curr_active_pipeline.sess.spikes_df\n",
    "\n",
    "# group by Team, get mean, min, and max value of Age for each value of Team.\n",
    "grouped_single = during_lap_and_PBE_spikes_df.groupby('lap').agg({'PBE_id': ['mean', 'min', 'max']})\n",
    "grouped_single = grouped_single.reset_index()\n",
    "print(grouped_single)"
   ]
  },
  {
   "cell_type": "code",
   "execution_count": null,
   "id": "17155e57-7c3d-4e96-98b4-bfa80a2e8a1e",
   "metadata": {
    "pycharm": {
     "is_executing": false,
     "name": "#%%\n"
    }
   },
   "outputs": [],
   "source": [
    "## Find rects for epochs in the active window:\n",
    "\n",
    "from pyphocorehelpers.geometry_helpers import find_ranges_in_window\n",
    "    \n",
    "# is_range_in_window, included_epoch_indicies, included_epoch_starts, included_epoch_ends, included_epoch_is_truncated = find_ranges_in_window(curr_sess.pbe.starts, curr_sess.pbe.stops, (595.0, 820.0))\n",
    "\n",
    "is_range_in_window, included_epoch_indicies, included_epoch_starts, included_epoch_ends, included_epoch_is_truncated = find_ranges_in_window(curr_sess.pbe.starts, curr_sess.pbe.stops, (598.65, 820.0))\n",
    "\n",
    "# 'is_range_in_window': is_range_in_window\n",
    "pd.DataFrame({'included_epoch_indicies':included_epoch_indicies, 'included_epoch_starts':included_epoch_starts, 'included_epoch_ends':included_epoch_ends, 'included_epoch_is_truncated': included_epoch_is_truncated})\n",
    "\n",
    "# print(f'included_epoch_indicies: {np.shape(included_epoch_indicies)}')\n",
    "# print(f'included_epoch_starts: {np.shape(included_epoch_starts)}')\n",
    "# pd.DataFrame({'included_epoch_starts':included_epoch_starts, 'included_epoch_ends':included_epoch_ends, 'included_epoch_is_truncated': included_epoch_is_truncated})\n",
    "\n",
    "# included_epoch_indicies\n",
    "# included_epoch_is_truncated"
   ]
  },
  {
   "cell_type": "code",
   "execution_count": null,
   "id": "24900b6f-2c69-4f73-9ef7-27d6d8dcafc6",
   "metadata": {
    "pycharm": {
     "is_executing": false,
     "name": "#%%\n"
    }
   },
   "outputs": [],
   "source": [
    "spike_raster_plt_3d.ui.spinRenderWindowDuration.setValue(scroll_window_width)"
   ]
  },
  {
   "cell_type": "code",
   "execution_count": null,
   "id": "eede1f8e-903d-4054-ac26-624ea7355a8c",
   "metadata": {
    "pycharm": {
     "is_executing": false,
     "name": "#%%\n"
    }
   },
   "outputs": [],
   "source": [
    "spike_raster_plt_3d.ui.spinTemporalZoomFactor.setValue(10.0)"
   ]
  },
  {
   "cell_type": "code",
   "execution_count": null,
   "id": "b8c9312d-1f9d-4201-a987-f4f76712eca5",
   "metadata": {
    "pycharm": {
     "is_executing": false,
     "name": "#%%\n"
    }
   },
   "outputs": [],
   "source": [
    "spike_raster_plt.animation_time_step # 0.03 (seconds)"
   ]
  },
  {
   "cell_type": "code",
   "execution_count": null,
   "id": "19d69e2b-b8c6-47fb-8c18-b6eea8e9fc84",
   "metadata": {
    "pycharm": {
     "is_executing": false,
     "name": "#%%\n"
    }
   },
   "outputs": [],
   "source": [
    "# curr_transform = spike_raster_plt.ui.gz.transform() # PyQt5.QtGui.QMatrix4x4(1.0, 0.0, 0.0, 0.0, 0.0, 1.0, 0.0, 0.0, 0.0, 0.0, 1.0, -10.0, 0.0, 0.0, 0.0, 1.0)\n",
    "curr_transform = spike_raster_plt.ui.gx.transform() # PyQt5.QtGui.QMatrix4x4(0.0, 0.0, 1.0, -20.0, 0.0, 1.0, 0.0, 0.0, -1.0, 0.0, 0.0, 0.0, 0.0, 0.0, 0.0, 1.0)\n",
    "print(curr_transform)\n",
    "\n",
    "curr_transform.matrix()\n",
    "# spike_raster_plt.ui.gx."
   ]
  },
  {
   "cell_type": "code",
   "execution_count": null,
   "id": "d2beb484-0b58-4da9-ae53-27b94d54560b",
   "metadata": {
    "pycharm": {
     "is_executing": false,
     "name": "#%%\n"
    }
   },
   "outputs": [],
   "source": [
    "spike_raster_plt.params.keys()"
   ]
  },
  {
   "cell_type": "code",
   "execution_count": null,
   "id": "0d278473-b6e9-4962-ba85-192575a5d42c",
   "metadata": {
    "pycharm": {
     "is_executing": false,
     "name": "#%%\n"
    }
   },
   "outputs": [],
   "source": [
    "# spike_raster_plt.params.spike_start_z # -10\n",
    "spike_raster_plt.params.spike_end_z = -8.0 # -6.0"
   ]
  },
  {
   "cell_type": "code",
   "execution_count": null,
   "id": "3d987938-b257-4075-b2fe-33c91dc0f545",
   "metadata": {
    "pycharm": {
     "is_executing": false,
     "name": "#%%\n"
    }
   },
   "outputs": [],
   "source": [
    "spike_raster_plt.animation_time_step = 0.06"
   ]
  },
  {
   "cell_type": "code",
   "execution_count": null,
   "id": "e6217bb9-a229-48f7-9b5b-c06db732c0e7",
   "metadata": {
    "pycharm": {
     "is_executing": false,
     "name": "#%%\n"
    }
   },
   "outputs": [],
   "source": [
    "spike_raster_plt.shift_animation_frame_val(-3)"
   ]
  },
  {
   "cell_type": "markdown",
   "id": "469c4171-ea23-4f0f-bcc0-a7ab3544dfbe",
   "metadata": {},
   "source": [
    "\n",
    "# Testing: Position Decoding:"
   ]
  },
  {
   "cell_type": "code",
   "execution_count": null,
   "id": "33b19634-f684-485c-8422-777cc5440c1d",
   "metadata": {
    "pycharm": {
     "name": "#%%\n"
    }
   },
   "outputs": [],
   "source": [
    "# win.close()\n",
    "\n",
    "# np.set_printoptions(edgeitems=5, linewidth=100000, formatter=dict(float=lambda x: \"%g\" % x))\n",
    "\n",
    "np.set_string_function(lambda x:f'np.array[{np.shape(x)}]', repr=True)\n",
    "# with np.printoptions(precision=2, edgeitems=2, linewidth=144):\n",
    "with np.printoptions(precision=3, edgeitems=2, linewidth=100000):\n",
    "    # active_computed_data['pf2D'].ratemap\n",
    "    print(active_computed_data['pf2D'])\n",
    "    # print(active_computed_data['pf2D'].ratemap)\n",
    "    \n",
    "    \n",
    "\n",
    "\n",
    "np.set_string_function(None) # restore default"
   ]
  },
  {
   "cell_type": "code",
   "execution_count": null,
   "id": "26cd14b2-919d-49e1-a18b-c068675af421",
   "metadata": {
    "pycharm": {
     "name": "#%%\n"
    }
   },
   "outputs": [],
   "source": [
    "len(active_computed_data['pf2D'].ratemap_spiketrains)\n",
    "\n",
    "#.tuning_curves"
   ]
  },
  {
   "cell_type": "code",
   "execution_count": null,
   "id": "b37445b3-c614-4b68-b6ab-ee7a26c29af4",
   "metadata": {},
   "outputs": [],
   "source": [
    "## Stock Decoder:\n",
    "from neuropy.analyses.decoders import Decode1d\n",
    "\n",
    "def stock_1d_decoder(sess, pf, curr_result_label):\n",
    "    maze1 = sess.paradigm[curr_result_label]\n",
    "    # rpls = sess.ripple.time_slice(maze1[0], maze1[1])\n",
    "    rpls = None\n",
    "    pf_neurons = sess.neurons.get_by_id(pf.ratemap.neuron_ids)\n",
    "    decode = Decode1d(neurons=pf_neurons, ratemap = pf.ratemap, epochs=rpls, bin_size=0.02)\n",
    "    return decode\n",
    "\n",
    "def validate_stock_1d_decoder(sess, decode):\n",
    "    # Plot to validate decoder:\n",
    "    np.shape(decode.decoded_position) # (85845,)\n",
    "    plt.plot(decode.decoded_position)\n",
    "    ax = plt.gca()\n",
    "    # ax.xlim() # (-4292.2, 90136.2)\n",
    "    ax.set_xlim(10000, 12000)\n",
    "\n",
    "np.shape(decode.posterior) # (48, 85845)"
   ]
  },
  {
   "cell_type": "markdown",
   "id": "c545afc1-63d6-4f45-a186-5acae5b2dab3",
   "metadata": {},
   "source": [
    "<!-- % $$\\int_{a}^b f(x)dx$$ -->\n",
    "<!-- Euler's identity: $ e^{i \\pi} + 1 = 0 $ -->\n",
    "\n",
    "## One-step Bayesian Decoder:\n",
    "$$P(\\overrightarrow{x}_{t}|\\overrightarrow{n}_{t})$$\n",
    "\n",
    "$$P(\\overrightarrow{n}|\\overrightarrow{x})$$ : probability for the numbers of spikes $\\overrightarrow{n}$ to occur given we know the animal is at location $\\overrightarrow{x}$\n",
    "\n",
    "## Two-step Bayesian Decoder:\n",
    "$$P(\\overrightarrow{x}_{t}|\\overrightarrow{n}_{t}, \\overrightarrow{x}_{t-1}) = k P(\\overrightarrow{x}_{t}|\\overrightarrow{n}_{t}) P(\\overrightarrow{x}_{t-1}|\\overrightarrow{x}_{t})$$"
   ]
  },
  {
   "cell_type": "code",
   "execution_count": null,
   "id": "7a0b8e04-3f5d-49e9-af1b-786326567330",
   "metadata": {},
   "outputs": [],
   "source": [
    "\n",
    "# active_two_step_decoder['most_likely_positions'].shape # (2, 1717)\n",
    "\n",
    "active_two_step_decoder['most_likely_position_indicies'].shape # (2, 1717)\n",
    "np.max(active_two_step_decoder['most_likely_position_indicies'], axis=1) # array([0, 1])\n",
    "active_two_step_decoder['most_likely_position_indicies']\n",
    "# active_two_step_decoder['p_x_given_n_and_x_prev'].shape # (59, 21, 1717)\n",
    "\n",
    "# np.nanmax(active_two_step_decoder['p_x_given_n_and_x_prev'], axis=(1, 2)) # (59,)\n",
    "# np.nanmax(active_two_step_decoder['p_x_given_n_and_x_prev'], axis=-1).shape # (59, 21)\n",
    "\n",
    "# np.nanmax(active_two_step_decoder['p_x_given_n_and_x_prev'], axis=-1)\n",
    "# np.max(active_two_step_decoder['most_likely_positions'], axis=1) # array([ 36.30101033, 128.49991842])\n",
    "\n",
    "\n",
    "# np.max(active_one_step_decoder.most_likely_positions, axis=0) # array([244.02731273, 148.3231301 ])"
   ]
  },
  {
   "cell_type": "markdown",
   "id": "93be34e2-9062-4e08-bedb-0d7ec4ceca9c",
   "metadata": {
    "jp-MarkdownHeadingCollapsed": true
   },
   "source": [
    "## PyQtPlot Exploration"
   ]
  },
  {
   "cell_type": "code",
   "execution_count": null,
   "id": "08d4e875-52e9-4bf4-b742-db1bfaab77d7",
   "metadata": {},
   "outputs": [],
   "source": [
    "from pyphoplacecellanalysis.Pho2D.PyQtPlots.plot_placefields import pyqtplot_plot_image_array, pyqtplot_plot_image\n",
    "\n",
    "# test single image plot:\n",
    "curr_im = np.squeeze(active_one_step_decoder.ratemap.normalized_tuning_curves[0,:,:]) # (43, 63, 63)\n",
    "app, win, imv = pyqtplot_plot_image(active_one_step_decoder.xbin, active_one_step_decoder.ybin, curr_im)\n",
    "win.show()"
   ]
  },
  {
   "cell_type": "code",
   "execution_count": null,
   "id": "c9f8f405-a15b-4e58-a281-c56fc6cb9c93",
   "metadata": {},
   "outputs": [],
   "source": [
    "pg.mkQApp()\n",
    "# Create ScatterPlotWidget and configure its fields\n",
    "spw = pg.ScatterPlotWidget()\n",
    "# spw.setFields([\n",
    "    # ('x_pos', {'units': 'm'}),\n",
    "#     ('y_pos', {'units': 'm'}),\n",
    "#     ('count', {}),\n",
    "#     ('amplitude', {'units': 'V'}),\n",
    "#     ('decay', {'units': 's'}),    \n",
    "#     ('type', {'mode': 'enum', 'values': strings}),\n",
    "#     ])\n",
    "\n",
    "spw.setFields([\n",
    "    ('x', {'units': 'm'}),\n",
    "    ('y', {'units': 'm'}),\n",
    "    ('lin_pos', {'units': 'm'}),\n",
    "    ('speed', {'units': 'm/s'}),\n",
    "    ('binned_x', {}),\n",
    "    ('binned_y', {}),\n",
    "    # ('type', {'mode': 'enum', 'values': strings}),\n",
    "])\n",
    "    \n",
    "spw.setData(time_binned_pos_df)\n",
    "spw.show()\n",
    "\n",
    "\n",
    "# ## Multiple Line Plots:\n",
    "# plotWidget = pg.plot(title='PhoTest PyQtPlot Widget')\n",
    "# for i in range(3):\n",
    "#     plotWidget.plot(x, y[i], pen=(i,3))\n",
    "    "
   ]
  },
  {
   "cell_type": "markdown",
   "id": "27b53720-b44c-4a75-9a5c-6bbd73723eb1",
   "metadata": {
    "jp-MarkdownHeadingCollapsed": true
   },
   "source": [
    "### Custom DataTree Widget that displays a nested hierarchy of data:"
   ]
  },
  {
   "cell_type": "code",
   "execution_count": null,
   "id": "0d1ca503-d09b-48b1-957e-b5317a2cc40a",
   "metadata": {},
   "outputs": [],
   "source": [
    "# d = {\n",
    "#     'active_sess_config':curr_active_pipeline.active_sess_config.__dict__,\n",
    "#     'active_configs':curr_active_pipeline.active_configs,\n",
    "#     'active_session_computation_configs':active_session_computation_configs[0].__dict__\n",
    "# }\n",
    "d = {\n",
    "    \"computed_data\": curr_active_pipeline.computation_results['maze1'].computed_data,\n",
    "    # \"computation_results['maze1']'\": curr_active_pipeline.computation_results['maze1'],\n",
    "}\n",
    "# d = {\n",
    "#     'active_session_computation_configs':active_session_computation_configs,\n",
    "#     'active_two_step_decoder': active_two_step_decoder,\n",
    "#     'active_extended_stats': active_extended_stats\n",
    "# }\n",
    "\n",
    "from pyphoplacecellanalysis.GUI.PyQtPlot.pyqtplot_DataTreeWidget import plot_dataTreeWidget\n",
    "tree, app = plot_dataTreeWidget(data=d, title='PhoOutputDataTreeApp')\n",
    "tree.show()"
   ]
  },
  {
   "cell_type": "code",
   "execution_count": null,
   "id": "8445c7c7-0be5-4d7a-94eb-6a0b65d09c6b",
   "metadata": {},
   "outputs": [],
   "source": [
    "# tree.show()\n",
    "tree = None\n",
    "app = None"
   ]
  },
  {
   "cell_type": "code",
   "execution_count": null,
   "id": "b58d03c2",
   "metadata": {
    "pycharm": {
     "name": "#%%\n"
    }
   },
   "outputs": [],
   "source": [
    "tree.resize(1920, 1200) # pyqtgraph.widgets.DataTreeWidget.DataTreeWidget\n",
    "tree.resizeColumnToContents(2)\n",
    "# setFormat(format, column=None)\n",
    "# tree.resizeColumnToContents(1)\n",
    "# tree.expandToDepth\n",
    "print(tree.dumpObjectInfo())\n",
    "# tree.expandAll()\n",
    "# tree.nodes # a dict\n",
    "\n",
    "# tree.hideColumn(2) # hides the value column\n",
    "# print(tree.children()[0].dumpObjectInfo())\n",
    "# # tree.children()[1] # <PyQt5.QtWidgets.QStyledItemDelegate at 0x197b467fca0>\n",
    "# # tree.children()[2]\n",
    "# # tree.children()[3].dumpObjectTree() # QAbstractItemModel\n",
    "# print(tree.children()[3].dumpObjectInfo())\n",
    "# # listAllItems()\n",
    "# # tree.itemFromIndex(0)\n",
    "# # tree.findChild()\n",
    "# # listAllItems()\n",
    "# tree.collapseAll()"
   ]
  },
  {
   "cell_type": "code",
   "execution_count": null,
   "id": "61328be8",
   "metadata": {},
   "outputs": [],
   "source": [
    "# InteractivePlaceCellConfig\n",
    "from pprint import pprint\n",
    "pprint(curr_active_pipeline.active_configs['maze1'].__dict__)\n"
   ]
  },
  {
   "cell_type": "code",
   "execution_count": null,
   "id": "6943e136",
   "metadata": {
    "pycharm": {
     "name": "#%%\n"
    }
   },
   "outputs": [],
   "source": [
    "from pyphoplacecellanalysis.GUI.PyQtPlot.Params.pyqtplot_ParamTreeWidget import plot_paramTreeWidget\n",
    "param_tree, param_tree_app = plot_paramTreeWidget(title='PhoMainParamTreeApp')"
   ]
  },
  {
   "cell_type": "code",
   "execution_count": null,
   "id": "827ddf63",
   "metadata": {
    "pycharm": {
     "name": "#%%\n"
    }
   },
   "outputs": [],
   "source": [
    "from pyphoplacecellanalysis.GUI.PyQtPlot.Flowchart.pyqtplot_Flowchart import plot_flowchartWidget\n",
    "pipeline_flowchart_window, pipeline_flowchart_app = plot_flowchartWidget(title='PhoMainPipelineFlowchartApp')"
   ]
  },
  {
   "cell_type": "markdown",
   "id": "6710ea4d-d80b-4e39-ba21-a3f9a3466ee2",
   "metadata": {
    "jp-MarkdownHeadingCollapsed": true
   },
   "source": [
    "## Check Placefield Normalizations:\n",
    "Conclusion: neither the normalized_tuning_curves nor tuning_curves are normalized in any way! They give different firing rates across time.\n",
    "NOTE: For the pyramidal-only and lap-epoch filtered Diba data, the np.nanmax of normalized_tuning_curves actually does appear to be scaled to a maximum of 1.0 across all units, meaning only the relative difference between units in firing rate is preserved."
   ]
  },
  {
   "cell_type": "code",
   "execution_count": null,
   "id": "cdd624aa-80cd-430a-b5ac-2891d85065d4",
   "metadata": {},
   "outputs": [],
   "source": [
    "active_one_step_decoder.pf.ratemap"
   ]
  },
  {
   "cell_type": "code",
   "execution_count": null,
   "id": "99d9e9f6-1ec9-43e9-b5f9-3a1b0324649e",
   "metadata": {},
   "outputs": [],
   "source": [
    "np.sum(active_one_step_decoder.pf.ratemap.normalized_tuning_curves, axis=(1,2)) # ERROR: the normalized_tuning_curves are NOT normalized in any way!"
   ]
  },
  {
   "cell_type": "code",
   "execution_count": null,
   "id": "9ad417c9-8b38-4a08-a8f1-6ca254064f55",
   "metadata": {},
   "outputs": [],
   "source": [
    "np.sum(active_one_step_decoder.pf.ratemap.normalized_tuning_curves, axis=(1,2)) # ERROR: the normalized_tuning_curves are NOT normalized in any way!\n",
    "np.nanmax(active_one_step_decoder.pf.ratemap.normalized_tuning_curves, axis=(1,2)) # Not even by having their maximum value scaled to one!\n",
    "\n",
    "# np.sum(active_one_step_decoder.pf.ratemap.tuning_curves, axis=(1,2))\n",
    "# np.nanmax(active_one_step_decoder.pf.ratemap.tuning_curves, axis=(1,2))"
   ]
  },
  {
   "cell_type": "markdown",
   "id": "6cb1fd1f-9bff-42b3-a3c5-5dfbd56ede80",
   "metadata": {},
   "source": [
    "## Placefield Firing Rate Tests:"
   ]
  },
  {
   "cell_type": "code",
   "execution_count": null,
   "id": "18873548-010d-44fd-808f-f6c5dabdd545",
   "metadata": {},
   "outputs": [],
   "source": [
    "# debug_dump_object_member_shapes(active_one_step_decoder)\n",
    "# computation_result.computed_data['pf2D_Decoder']\n",
    "# active_one_step_decoder.time_window_edges\n",
    "\n",
    "def _display_firing_rate_trends(cell_firing_rate_samples):\n",
    "    \"\"\" a pyqtgraph-based plotting method \"\"\"\n",
    "    # Incoming data is (C,N): where C is the number of cells and N is the number of datapoints.\n",
    "    num_cells = np.shape(cell_firing_rate_samples)[0]\n",
    "    num_samples = np.shape(cell_firing_rate_samples)[1]\n",
    "    assert (num_samples >= num_cells), f'num_samples should be greater than num_cells, but num_samples: {num_samples} and num_cells: {num_cells}! You probably meant the transpose of the data you passed in.'\n",
    "    \n",
    "    win = pg.plot()\n",
    "    win.setWindowTitle('pyqtgraph beeswarm: Firing Rate Trends')\n",
    "\n",
    "    print(f'np.shape(cell_firing_rate_samples): {np.shape(cell_firing_rate_samples)}, num_cells: {num_cells}, num_samples: {num_samples}')\n",
    "    # data = np.random.normal(size=(4,20))\n",
    "    # data[0] += 5\n",
    "    # data[1] += 7\n",
    "    # data[2] += 5\n",
    "    # data[3] = 10 + data[3] * 2\n",
    "\n",
    "    ## Make bar graph\n",
    "    #bar = pg.BarGraphItem(x=range(4), height=data.mean(axis=1), width=0.5, brush=0.4)\n",
    "    #win.addItem(bar)\n",
    "\n",
    "    ## add scatter plots on top\n",
    "    for i in np.arange(num_cells):\n",
    "        curr_cell_samples = cell_firing_rate_samples.loc[i,:].to_numpy()\n",
    "        print(f'i: {i} - np.shape(curr_cell_samples): {np.shape(curr_cell_samples)}')\n",
    "        xvals = pg.pseudoScatter(curr_cell_samples, spacing=0.4, bidir=True) * 0.2\n",
    "        win.plot(x=xvals+i, y=curr_cell_samples, pen=None, symbol='o', symbolBrush=pg.intColor(i,6,maxValue=128))\n",
    "\n",
    "    ## Make error bars\n",
    "    err = pg.ErrorBarItem(x=np.arange(num_cells), y=cell_firing_rate_samples.mean(axis=1), height=cell_firing_rate_samples.std(axis=1), beam=0.5, pen={'color':'w', 'width':2})\n",
    "    win.addItem(err)\n",
    "    return err, win\n",
    "\n",
    "\n",
    "# active_one_step_decoder.time_window_center_binning_info\n",
    "# position_time_delta = pd.to_timedelta(active_pos_df[active_pos_df.position.time_variable_name], unit=\"sec\")\n",
    "# active_pos_df['time_delta_sec'] = position_time_delta\n",
    "# active_pos_df = active_pos_df.set_index('time_delta_sec')\n",
    "# window_resampled_pos_df = active_pos_df.resample(f'{time_bin_size}S', base=0)#.nearest() # '0.02S' 0.02 second bins\n",
    "\n",
    "# np.shape(active_one_step_decoder.active_time_windows) # (2892, 2)\n",
    "\n",
    "active_firing_rate_trends = curr_active_pipeline.computation_results[active_config_name].computed_data['firing_rate_trends']\n",
    "\n",
    "active_rolling_window_times = active_firing_rate_trends['active_rolling_window_times']\n",
    "mean_firing_rates = active_firing_rate_trends['mean_firing_rates']\n",
    "moving_mean_firing_rates_df = active_firing_rate_trends['moving_mean_firing_rates_df']\n",
    "moving_mean_firing_rates_df # 3969 rows x 43 columns\n",
    "\n",
    "# mean_firing_rates\n",
    "# pg.plot(mean_firing_rates)\n",
    "\n",
    "np.shape(moving_mean_firing_rates_df) # (3969, 43)\n",
    "good_only_moving_mean_firing_rates_df = moving_mean_firing_rates_df.dropna() # 3910 rows x 43 columns\n",
    "good_only_moving_mean_firing_rates_df.T\n",
    "err, win = _display_firing_rate_trends(good_only_moving_mean_firing_rates_df.T)\n",
    "win.show()\n",
    "\n",
    "# active_rolling_window_times # dtype='timedelta64[ns]', name='time_delta_sec', length=2900, freq='S'\n",
    "# pg.plot(moving_mean_firing_rates_df)"
   ]
  },
  {
   "cell_type": "markdown",
   "id": "d94ac6af-9c53-4d2d-9b3e-32a939acb346",
   "metadata": {},
   "source": [
    "## Placefield Overlap Detection:"
   ]
  },
  {
   "cell_type": "code",
   "execution_count": null,
   "id": "bd695e68-fdb2-4994-aaed-98b38327698a",
   "metadata": {},
   "outputs": [],
   "source": [
    "# Test Placefield Overlap Detection:\n",
    "def compute_placefield_overlap(pf):\n",
    "    return np.squeeze(np.prod(pf, axis=0))\n",
    "\n",
    "\n",
    "active_pf_overlap_results = curr_active_pipeline.computation_results[active_config_name].computed_data['placefield_overlap']\n",
    "all_pairwise_neuron_IDs_combinations = active_pf_overlap_results['all_pairwise_neuron_IDs_combinations']\n",
    "total_pairwise_overlaps = active_pf_overlap_results['total_pairwise_overlaps']\n",
    "all_pairwise_overlaps = active_pf_overlap_results['all_pairwise_overlaps']\n",
    "\n",
    "print_keys_if_possible('active_pf_overlap_results', active_pf_overlap_results)"
   ]
  },
  {
   "cell_type": "code",
   "execution_count": null,
   "id": "503eefc7-973b-47ef-b39d-3e200f4753bf",
   "metadata": {},
   "outputs": [],
   "source": [
    "# active_placefield_overlap\n",
    "# total_pairwise_overlaps\n",
    "# all_pairwise_overlaps\n",
    "\n",
    "\n",
    "# top_pairwise_overlaps = all_pairwise_overlaps[0:9,:,:]\n",
    "\n",
    "top_pairwise_overlaps = np.squeeze(all_pairwise_overlaps[2,:,:])\n",
    "\n",
    "from pyphoplacecellanalysis.GUI.PyQtPlot.pyqtplot_Matrix import MatrixRenderingWindow\n",
    "print(f'np.shape(top_pairwise_overlaps): {np.shape(top_pairwise_overlaps)}')\n",
    "pg.mkQApp(\"Correlation matrix display\")\n",
    "main_window = MatrixRenderingWindow(matrix=top_pairwise_overlaps, columns=[f'{i}' for i in np.arange(np.shape(top_pairwise_overlaps)[-1])])\n",
    "\n",
    "# compute_placefield_overlap(active_one_step_decoder.pf.ratemap.normalized_tuning_curves)"
   ]
  },
  {
   "cell_type": "markdown",
   "id": "d7d138e3-ec7f-4a62-9aaf-91d6831ac822",
   "metadata": {},
   "source": [
    "# Placefield Renormalization - by area under the curve"
   ]
  },
  {
   "cell_type": "code",
   "execution_count": null,
   "id": "5c6bc71d-563c-40dd-9140-0caf3f17d109",
   "metadata": {},
   "outputs": [],
   "source": [
    "from neuropy.core.ratemap import Ratemap\n",
    "\n",
    "_test_1D_AOC_normalized_pdf = Ratemap.perform_AOC_normalization(active_pf_1D.ratemap)\n",
    "_test_2D_AOC_normalized_pdf = Ratemap.perform_AOC_normalization(active_pf_2D.ratemap)\n",
    "## TODO: add the _test_1D_AOC_normalized_pdf AND _test_2D_AOC_normalized_pdf to the appropriate ratemaps\n"
   ]
  },
  {
   "cell_type": "code",
   "execution_count": null,
   "id": "d04195a7-d774-48bf-ab64-25f03ad3bf47",
   "metadata": {},
   "outputs": [],
   "source": [
    "## Compute the PFoverlapDensity by summing over all cells:\n",
    "_test_PFoverlapDensity = np.sum(_test_2D_AOC_normalized_pdf, 0) # should be same size as positions\n",
    "_test_PFoverlapDensity.shape # (59, 21)\n",
    "_test_PFoverlapDensity\n",
    "\n",
    "pg.mkQApp(\"PFoverlapDensity (2D) matrix display\")\n",
    "main_window = MatrixRenderingWindow(matrix=_test_PFoverlapDensity)"
   ]
  },
  {
   "attachments": {
    "00ab23b3-b6a9-4d42-a3a9-676cb5854305.png": {
     "image/png": "[encoded data removed]"
    }
   },
   "cell_type": "markdown",
   "id": "06013412-1f97-450a-b853-72e0a4a8ffaa",
   "metadata": {},
   "source": [
    "![image.png](attachment:00ab23b3-b6a9-4d42-a3a9-676cb5854305.png)"
   ]
  },
  {
   "cell_type": "code",
   "execution_count": null,
   "id": "9aca896c-e2f9-4f8b-b983-84b5f867afbb",
   "metadata": {},
   "outputs": [],
   "source": [
    "## Renormalize by dividing by the number of placefields (i)\n",
    "_test_PFoverlapDensity = _test_PFoverlapDensity / float(active_pf_1D.ratemap.n_neurons)\n",
    "pg.mkQApp(\"PFoverlapDensity (2D) - NORMALIZED - matrix display\")\n",
    "main_window = MatrixRenderingWindow(matrix=_test_PFoverlapDensity)"
   ]
  },
  {
   "cell_type": "code",
   "execution_count": null,
   "id": "6001b0d9-7c6c-469a-ac82-811d7cf2c172",
   "metadata": {},
   "outputs": [],
   "source": [
    "## Compute the average velocity per position bin:\n",
    "avg_speed_per_pos = active_two_step_decoder['avg_speed_per_pos']\n",
    "avg_speed_per_pos.shape # (59, 21)\n",
    "pg.mkQApp(\"avg_speed_per_pos (2D)- matrix display\")\n",
    "main_window = MatrixRenderingWindow(matrix=avg_speed_per_pos)"
   ]
  },
  {
   "attachments": {
    "9ac38888-49c1-46e7-ac86-6bac94dc04a8.png": {
     "image/png": "[encoded data removed]"
    }
   },
   "cell_type": "markdown",
   "id": "5b6aaf1c-6d30-4210-906d-c3be2c2b0805",
   "metadata": {},
   "source": [
    "![image.png](attachment:9ac38888-49c1-46e7-ac86-6bac94dc04a8.png)"
   ]
  },
  {
   "cell_type": "code",
   "execution_count": null,
   "id": "c1c81a76-0725-46f9-8618-97f34a3aa2d6",
   "metadata": {},
   "outputs": [],
   "source": [
    "## Order the bins in a flat array by ascending speed values:\n",
    "avg_speed_sort_idxs = np.argsort(avg_speed_per_pos, axis=None) # axis=None means the array is flattened before sorting\n",
    "# avg_speed_sort_idxs\n",
    "## Apply the same ordering to the PFoverlapDensities\n",
    "sorted_avg_speed_per_pos = avg_speed_per_pos.flat[avg_speed_sort_idxs]\n",
    "sorted_PFoverlapDensity = _test_PFoverlapDensity.flat[avg_speed_sort_idxs]\n",
    "# sorted_avg_speed_per_pos"
   ]
  },
  {
   "cell_type": "code",
   "execution_count": null,
   "id": "8806fad4-091c-4a4f-803e-bd475a799fd7",
   "metadata": {},
   "outputs": [],
   "source": [
    "## Plot the sorted avg_speed_per_pos and PFoverlapDensity to reveal any trends:\n",
    "out_plot = pg.plot(sorted_avg_speed_per_pos, sorted_PFoverlapDensity, title='Sorted AVG Speed per Pos vs. Sorted PFOverlapDensity', left='Sorted PFOverlapDensity', bottom='Sorted AVG Speed per Pos bin (x,y)')"
   ]
  },
  {
   "attachments": {
    "c2f3e975-74ed-4bfa-a85b-4e8f69d25ac0.png": {
     "image/png": "[encoded data removed]"
    }
   },
   "cell_type": "markdown",
   "id": "cd9f6fee-f35f-40f7-8936-cf0320f54811",
   "metadata": {},
   "source": [
    "![image.png](attachment:c2f3e975-74ed-4bfa-a85b-4e8f69d25ac0.png)"
   ]
  },
  {
   "cell_type": "markdown",
   "id": "f7357706-f14c-413b-9020-496db9ed63cb",
   "metadata": {},
   "source": [
    "## Position Dataframe Binning in Time:"
   ]
  },
  {
   "cell_type": "markdown",
   "id": "56f678f5-779c-4c70-8935-e60a2f13d977",
   "metadata": {},
   "source": [
    "# Test PfND_TimeDependent Class"
   ]
  },
  {
   "cell_type": "code",
   "execution_count": null,
   "id": "16ca5888-603c-427a-8854-470217fc6472",
   "metadata": {},
   "outputs": [],
   "source": [
    "from copy import deepcopy\n",
    "from neuropy.analyses.time_dependent_placefields import PfND_TimeDependent\n",
    "from neuropy.plotting.placemaps import plot_all_placefields\n",
    "\n",
    "# PfND version:\n",
    "t_list = []\n",
    "ratemaps_list = []\n",
    "active_time_dependent_placefields2D = active_pf_2D_dt\n",
    "# np.shape(active_time_dependent_placefields2D.curr_firing_maps_matrix) # (64, 64, 29)\n",
    "\n",
    "# t = active_time_dependent_placefields2D.last_t + 60 # add one second\n",
    "# with np.errstate(divide='ignore', invalid='ignore'):\n",
    "#     active_time_dependent_placefields2D.update(t)\n",
    "t = active_time_dependent_placefields2D.step(60.0) # advance sixty seconds."
   ]
  },
  {
   "cell_type": "code",
   "execution_count": null,
   "id": "9e96486a-27f5-422e-bc09-900a2ddb81c9",
   "metadata": {},
   "outputs": [],
   "source": [
    "active_time_dependent_placefields2D.reset()"
   ]
  },
  {
   "cell_type": "code",
   "execution_count": null,
   "id": "0ecd7a50-a313-40fb-a774-2b8d6f5ce133",
   "metadata": {},
   "outputs": [],
   "source": [
    "import matplotlib.pyplot as plt\n",
    "%matplotlib qt\n",
    "active_time_dependent_placefields2D.plot_ratemaps_2D()"
   ]
  },
  {
   "cell_type": "code",
   "execution_count": null,
   "id": "c196d2ca-83ca-4426-bcda-989167e20a9f",
   "metadata": {},
   "outputs": [],
   "source": [
    "from copy import deepcopy\n",
    "from neuropy.analyses.time_dependent_placefields import PfND_TimeDependent\n",
    "from pyphoplacecellanalysis.Pho2D.PyQtPlots.TimeSynchronizedPlotters.TimeSynchronizedOccupancyPlotter import TimeSynchronizedOccupancyPlotter\n",
    "\n",
    "curr_occupancy_plotter = TimeSynchronizedOccupancyPlotter(active_time_dependent_placefields2D)\n",
    "curr_occupancy_plotter.show()"
   ]
  },
  {
   "cell_type": "code",
   "execution_count": null,
   "id": "a5fa8606-978f-4c09-ba45-f245bfcda7c2",
   "metadata": {},
   "outputs": [],
   "source": [
    "# Control Occupancy Plotter by spike_raster_window:\n",
    "occupancy_raster_window_sync_connection = spike_raster_window.connect_controlled_time_synchronized_plotter(curr_occupancy_plotter)"
   ]
  },
  {
   "cell_type": "code",
   "execution_count": null,
   "id": "b4b15ac4-45cf-4e67-b203-be090a41e763",
   "metadata": {},
   "outputs": [],
   "source": [
    "active_time_dependent_placefields2D.plot_occupancy()"
   ]
  },
  {
   "cell_type": "code",
   "execution_count": null,
   "id": "fb0edf19-c6c8-415f-95ff-bfe735c50538",
   "metadata": {},
   "outputs": [],
   "source": [
    "## Test TimeSynchronizedPlacefieldsPlotter:\n",
    "from pyphoplacecellanalysis.Pho2D.PyQtPlots.TimeSynchronizedPlotters.TimeSynchronizedPlacefieldsPlotter import TimeSynchronizedPlacefieldsPlotter\n",
    "\n",
    "curr_placefields_plotter = TimeSynchronizedPlacefieldsPlotter(active_time_dependent_placefields2D)\n",
    "curr_placefields_plotter.show()"
   ]
  },
  {
   "cell_type": "code",
   "execution_count": null,
   "id": "0de88b88-d989-4a2a-ad16-20ad7b6bb349",
   "metadata": {},
   "outputs": [],
   "source": [
    "# Control Placefields Plotter by spike_raster_window:\n",
    "placefields_raster_window_sync_connection = spike_raster_window.connect_controlled_time_synchronized_plotter(curr_placefields_plotter)"
   ]
  },
  {
   "cell_type": "markdown",
   "id": "07d970ef-22de-4c0c-bd85-ad53fa136fb7",
   "metadata": {
    "pycharm": {
     "name": "#%%\n"
    }
   },
   "source": [
    "## Explore Snapshotting for active_pf_*D_dt:"
   ]
  },
  {
   "cell_type": "code",
   "execution_count": null,
   "id": "2f36d689-3f0d-4357-a1d6-2ec1a570ca7b",
   "metadata": {
    "pycharm": {
     "name": "#%%\n"
    }
   },
   "outputs": [],
   "source": [
    "active_pf_1D_dt = curr_active_pipeline.computation_results['maze1'].computed_data['pf1D_dt']\n",
    "active_pf_2D_dt = curr_active_pipeline.computation_results['maze1'].computed_data['pf2D_dt']\n",
    "active_pf_1D_dt"
   ]
  },
  {
   "cell_type": "code",
   "execution_count": null,
   "id": "e482ab12-ee1b-4df1-ba47-9e6544688c80",
   "metadata": {
    "pycharm": {
     "name": "#%%\n"
    }
   },
   "outputs": [],
   "source": [
    "active_pf_1D_dt"
   ]
  },
  {
   "cell_type": "code",
   "execution_count": null,
   "id": "2dfb7627-8909-42d0-b2a4-037c7293f0a1",
   "metadata": {
    "pycharm": {
     "name": "#%%\n"
    }
   },
   "outputs": [],
   "source": [
    "active_pf_2D_dt.last_t"
   ]
  },
  {
   "cell_type": "code",
   "execution_count": null,
   "id": "ae510ff6-ab98-443e-950c-81a0734cc53c",
   "metadata": {
    "pycharm": {
     "name": "#%%\n"
    }
   },
   "outputs": [],
   "source": [
    "active_pf_2D_dt.curr_seconds_occupancy, "
   ]
  },
  {
   "cell_type": "markdown",
   "id": "1f8d8b20-31f6-43c3-8dd8-eeea03796ec2",
   "metadata": {},
   "source": [
    "## Old TimeSynchronized*Plotter Testing"
   ]
  },
  {
   "cell_type": "code",
   "execution_count": null,
   "id": "1841341a-c63b-4c5c-bc41-594483c3ddef",
   "metadata": {},
   "outputs": [],
   "source": [
    "t = curr_occupancy_plotter.active_time_dependent_placefields.last_t + 7 # add one second\n",
    "# with np.errstate(divide='ignore', invalid='ignore'):\n",
    "# active_time_dependent_placefields.update(t)\n",
    "print(f't: {t}')\n",
    "curr_occupancy_plotter.on_window_changed(0.0, t)\n",
    "curr_placefields_plotter.on_window_changed(0.0, t)"
   ]
  },
  {
   "cell_type": "code",
   "execution_count": null,
   "id": "57e53983-3449-46cd-8f43-d9210b17b12d",
   "metadata": {},
   "outputs": [],
   "source": [
    "from pyphoplacecellanalysis.Pho2D.PyQtPlots.plot_placefields import pyqtplot_plot_image, pyqtplot_plot_image_array\n",
    "import time\n",
    "\n",
    "def _test_plot_curr_pf_result(curr_t, curr_ratemap, drop_below_threshold: float=0.0000001, output_plots_dict=None):\n",
    "    \"\"\" plots a single result at a given time.\n",
    "    \n",
    "    Creates the figures if needed, otherwise updates the existing ones.\n",
    "    \n",
    "    \"\"\"\n",
    "    if output_plots_dict is None:\n",
    "        output_plots_dict = {'occupancy': {}, 'placefields': {}} # make a new dictionary to hold the plot objects.\n",
    "\n",
    "    # images = curr_ratemap.tuning_curves # (43, 63, 63)\n",
    "    occupancy = curr_ratemap.occupancy\n",
    "    # occupancy = curr_ratemap.curr_raw_occupancy_map\n",
    "\n",
    "    imv = output_plots_dict.get('occupancy', {}).get('imv', None)\n",
    "    if imv is None:\n",
    "        # Otherwise build the plotter:\n",
    "        occupancy_app, occupancy_win, imv = pyqtplot_plot_image(active_time_dependent_placefields2D.xbin, active_time_dependent_placefields2D.ybin, occupancy)\n",
    "        output_plots_dict['occupancy'] = dict(zip(('app', 'win', 'imv'), (occupancy_app, occupancy_win, imv)))   \n",
    "        occupancy_win.show()\n",
    "    else:\n",
    "        # Update the existing one:\n",
    "        imv.setImage(occupancy, xvals=active_time_dependent_placefields2D.xbin)\n",
    "\n",
    "    pg.QtGui.QApplication.processEvents() # call to ensure the occupancy gets updated before starting the placefield plots:\n",
    "    \n",
    "    img_item_array = output_plots_dict.get('placefields', {}).get('img_item_array', None)\n",
    "    if img_item_array is None:\n",
    "        # Create a new one:\n",
    "        placefields_app, placefields_win, root_render_widget, plot_array, img_item_array, other_components_array = pyqtplot_plot_image_array(active_time_dependent_placefields2D.xbin, active_time_dependent_placefields2D.ybin,\n",
    "                                                                                                                                           active_time_dependent_placefields2D.ratemap.normalized_tuning_curves, active_time_dependent_placefields2D.curr_raw_occupancy_map)#, \n",
    "        output_plots_dict['placefields'] = dict(zip(('app', 'win', 'root_render_widget', 'plot_array', 'img_item_array', 'other_components_array'), (placefields_app, placefields_win, root_render_widget, plot_array, img_item_array, other_components_array)))\n",
    "        placefields_win.show()\n",
    "\n",
    "    else:\n",
    "        # Update the placefields plot if needed:\n",
    "        images = curr_ratemap.tuning_curves # (43, 63, 63)\n",
    "        for i, an_img_item in enumerate(img_item_array):\n",
    "            image = np.squeeze(images[i,:,:])\n",
    "            # Pre-filter the data:\n",
    "            # image = np.array(image.copy()) / np.nanmax(image) # note scaling by maximum here!\n",
    "            if drop_below_threshold is not None:\n",
    "                image[np.where(occupancy < drop_below_threshold)] = np.nan # null out the occupancy        \n",
    "            # an_img_item.setImage(np.squeeze(images[i,:,:]))\n",
    "            an_img_item.setImage(image)\n",
    "\n",
    "    return output_plots_dict"
   ]
  },
  {
   "cell_type": "code",
   "execution_count": null,
   "id": "3c850632-a05a-42ed-b79c-5196182e1029",
   "metadata": {},
   "outputs": [],
   "source": [
    "def pre_build_iterative_results(num_iterations=50, t_list=[], ratemaps_list=[]):\n",
    "    \"\"\" \n",
    "    build up historical data arrays:\n",
    "    \n",
    "    Usage:\n",
    "        t_list, ratemaps_list = pre_build_iterative_results(num_iterations=50, t_list=t_list, ratemaps_list=ratemaps_list)\n",
    "    \"\"\"\n",
    "    # t_list = []\n",
    "    # ratemaps_list = []\n",
    "    \n",
    "    def _step_plot(time_step_seconds):\n",
    "        t = active_time_dependent_placefields2D.last_t + time_step_seconds # add one second\n",
    "        t_list.append(t)\n",
    "        with np.errstate(divide='ignore', invalid='ignore'):\n",
    "            active_time_dependent_placefields2D.update(t)\n",
    "        # Loop through and update the plots:\n",
    "        # Get flat list of images:\n",
    "        curr_ratemap = active_time_dependent_placefields2D.ratemap\n",
    "        # images = curr_ratemap.tuning_curves # (43, 63, 63)\n",
    "        # images = active_time_dependent_placefields2D.ratemap.normalized_tuning_curves[0:40,:,:] # (43, 63, 63)\n",
    "        # occupancy = curr_ratemap.occupancy\n",
    "        ratemaps_list.append(curr_ratemap)\n",
    "    #     for i, an_img_item in enumerate(img_item_array):\n",
    "    #     # for i, a_plot in enumerate(plot_array):\n",
    "    #         # image = np.squeeze(images[i,:,:])\n",
    "    #         # Pre-filter the data:\n",
    "    #         # image = np.array(image.copy()) / np.nanmax(image) # note scaling by maximum here!\n",
    "    # #         if drop_below_threshold is not None:\n",
    "    # #             image[np.where(occupancy < drop_below_threshold)] = np.nan # null out the occupancy        \n",
    "    #         an_img_item.setImage(np.squeeze(images[i,:,:]))\n",
    "    \n",
    "    for i in np.arange(num_iterations):\n",
    "        _step_plot(time_step_seconds=1.0)\n",
    "    \n",
    "    return t_list, ratemaps_list\n",
    "\n",
    "# Loop through the historically collected ratemaps and plot them:\n",
    "def _test_plot_historical_iterative_pf_results(t_list, ratemaps_list, drop_below_threshold: float=0.0000001, output_plots_dict=None):\n",
    "    \"\"\" Uses the previously built-up t_list and ratemaps_list (as computed by pre_build_iterative_results(...)) to plot the time-dependent results.\n",
    "    requires:\n",
    "    imv: a previously created single-image plotter:\n",
    "    \"\"\"\n",
    "    num_historical_results = len(ratemaps_list)\n",
    "    assert len(t_list) == len(ratemaps_list), f\"len(t_list): {len(t_list)} needs to equal len(ratemaps_list): {len(ratemaps_list)}\"\n",
    "    \n",
    "    if output_plots_dict is None:\n",
    "        output_plots_dict = {'occupancy': {},\n",
    "                            'placefields': {}} # make a new dictionary to hold the plot objects.\n",
    "        \n",
    "    for i in np.arange(num_historical_results):\n",
    "        curr_t = t_list[i]\n",
    "        # Set up\n",
    "        # print(f'curr_t: {curr_t}')\n",
    "        curr_ratemap = ratemaps_list[i]\n",
    "        output_plots_dict = _test_plot_curr_pf_result(curr_t, curr_ratemap, drop_below_threshold=drop_below_threshold, output_plots_dict=output_plots_dict)\n",
    "    \n",
    "        pg.QtGui.QApplication.processEvents()\n",
    "        time.sleep(0.1) # Sleep for 0.5 seconds\n",
    "\n",
    "    return output_plots_dict\n",
    "\n",
    "# Build the Historical Results:\n",
    "t_list, ratemaps_list = pre_build_iterative_results(num_iterations=50, t_list=t_list, ratemaps_list=ratemaps_list)\n",
    "# Plot the historical results:\n",
    "if output_plots_dict is None:\n",
    "    output_plots_dict = {'occupancy': {}, 'placefields': {}}\n",
    "output_plots_dict = _test_plot_historical_iterative_pf_results(t_list, ratemaps_list, output_plots_dict=output_plots_dict)"
   ]
  },
  {
   "cell_type": "code",
   "execution_count": null,
   "id": "0f8aec31-0b0e-4329-a917-b9f862dbc5b8",
   "metadata": {},
   "outputs": [],
   "source": [
    "# Compute the time-dependent ratemap info in real-time and plot them:\n",
    "def _test_step_live_iterative_pf_results_plot(active_time_dependent_placefields2D, t, drop_below_threshold: float=0.0000001, output_plots_dict=None):\n",
    "    \"\"\" \n",
    "    requires:\n",
    "    imv: a previously created single-image plotter:\n",
    "    \"\"\"\n",
    "    # Compute the updated placefields/occupancy for the time t:\n",
    "    with np.errstate(divide='ignore', invalid='ignore'):\n",
    "        active_time_dependent_placefields2D.update(t)\n",
    "    # Update the plots:\n",
    "    curr_t = active_time_dependent_placefields2D.last_t\n",
    "    curr_ratemap = active_time_dependent_placefields2D.ratemap\n",
    "\n",
    "    if output_plots_dict is None:\n",
    "        output_plots_dict = {'occupancy': {}, 'placefields': {}} # make a new dictionary to hold the plot objects.\n",
    "        \n",
    "    # Plot the results directly from the active_time_dependent_placefields2D\n",
    "    output_plots_dict = _test_plot_curr_pf_result(curr_t, curr_ratemap, drop_below_threshold=drop_below_threshold, output_plots_dict=output_plots_dict)\n",
    "    pg.QtGui.QApplication.processEvents()\n",
    "    \n",
    "    return output_plots_dict\n",
    "\n",
    "def _test_live_iterative_pf_results_plot(active_time_dependent_placefields2D, num_iterations=50, time_step_seconds=1.0, drop_below_threshold: float=0.0000001, output_plots_dict=None):\n",
    "    \"\"\" performs num_iterations time steps of size time_step_seconds and plots the results. \"\"\"\n",
    "    for i in np.arange(num_iterations):\n",
    "        t = active_time_dependent_placefields2D.last_t + time_step_seconds # add one second\n",
    "        output_plots_dict = _test_step_live_iterative_pf_results_plot(active_time_dependent_placefields2D, t, drop_below_threshold=drop_below_threshold, output_plots_dict=output_plots_dict)\n",
    "        time.sleep(0.1) # Sleep for 0.5 seconds"
   ]
  },
  {
   "cell_type": "code",
   "execution_count": null,
   "id": "6905ecb5-7a0c-4004-920a-2e15daa4b5d7",
   "metadata": {},
   "outputs": [],
   "source": [
    "try:\n",
    "    if output_plots_dict is None:\n",
    "        output_plots_dict = {'occupancy': {}, 'placefields': {}}\n",
    "except NameError:\n",
    "    output_plots_dict = {'occupancy': {}, 'placefields': {}}\n",
    "\n",
    "output_plots_dict = _test_live_iterative_pf_results_plot(active_time_dependent_placefields2D, num_iterations=50, time_step_seconds=1.0, output_plots_dict=output_plots_dict)"
   ]
  },
  {
   "cell_type": "code",
   "execution_count": null,
   "id": "bd991a8f-a824-4441-bc46-0964a8f742e6",
   "metadata": {},
   "outputs": [],
   "source": [
    "output_plots_dict = {'occupancy': {}, 'placefields': {}} # clear the output plots dict\n",
    "output_plots_dict = _test_step_live_iterative_pf_results_plot(active_time_dependent_placefields2D, spike_raster_window.spikes_window.active_time_window[1], output_plots_dict=output_plots_dict)"
   ]
  },
  {
   "cell_type": "code",
   "execution_count": null,
   "id": "d21882fa-f74e-4991-8676-d39767dc0598",
   "metadata": {},
   "outputs": [],
   "source": [
    "def _on_window_updated(window_start, window_end):\n",
    "    # print(f'_on_window_updated(window_start: {window_start}, window_end: {window_end})')\n",
    "    global output_plots_dict\n",
    "    ## Update only version:\n",
    "    # with np.errstate(divide='ignore', invalid='ignore'):\n",
    "    #     active_time_dependent_placefields2D.update(window_end) # advance the placefield display to the end of the window.\n",
    "    ## Update and plot version:\n",
    "    # t = window_end\n",
    "    output_plots_dict = _test_step_live_iterative_pf_results_plot(active_time_dependent_placefields2D, window_end, output_plots_dict=output_plots_dict)\n",
    "    \n",
    "# spike_raster_window.connect_additional_controlled_plotter(_on_window_updated)\n",
    "\n",
    "_on_window_updated(spike_raster_window.spikes_window.active_time_window[0], spike_raster_window.spikes_window.active_time_window[1])\n",
    "sync_connection = spike_raster_window.spike_raster_plt_2d.window_scrolled.connect(_on_window_updated) # connect the window_scrolled event to the _on_window_updated function"
   ]
  },
  {
   "cell_type": "code",
   "execution_count": null,
   "id": "30c21e06-e277-44c2-bbdc-d1890f232b94",
   "metadata": {},
   "outputs": [],
   "source": [
    "spike_raster_window.connect_additional_controlled_plotter("
   ]
  },
  {
   "cell_type": "code",
   "execution_count": null,
   "id": "948a121e-00b3-402b-974d-5002bb42c28d",
   "metadata": {},
   "outputs": [],
   "source": [
    "active_time_dependent_placefields2D.plot_occupancy()"
   ]
  },
  {
   "cell_type": "code",
   "execution_count": null,
   "id": "2da9dc1f-4d9a-4396-9cde-2f9cd5af4fa1",
   "metadata": {},
   "outputs": [],
   "source": [
    "# active_time_dependent_placefields2D.plot_ratemaps_2D(enable_spike_overlay=False) # Works\n",
    "active_time_dependent_placefields2D.plot_ratemaps_2D(enable_spike_overlay=True)"
   ]
  },
  {
   "cell_type": "code",
   "execution_count": null,
   "id": "d933d888-1175-4596-922b-ee1b418eb8be",
   "metadata": {},
   "outputs": [],
   "source": [
    "# t_list\n",
    "active_time_dependent_placefields2D.plot_ratemaps_2D(enable_saving_to_disk=False, enable_spike_overlay=False)"
   ]
  },
  {
   "cell_type": "code",
   "execution_count": null,
   "id": "bf5d8d9a-cb3b-447b-93b0-db302d3b4210",
   "metadata": {},
   "outputs": [],
   "source": [
    "# ax_pf_1D, occupancy_fig, active_pf_2D_figures, active_pf_2D_gs = plot_all_placefields(None, active_time_dependent_placefields2D, active_config_name)\n",
    "occupancy_fig, occupancy_ax = active_time_dependent_placefields2D.plot_occupancy(identifier_details_list=[])"
   ]
  },
  {
   "cell_type": "code",
   "execution_count": null,
   "id": "2f4e8a09-3223-444b-b5d1-65b9b5be3283",
   "metadata": {},
   "outputs": [],
   "source": [
    "i = 0\n",
    "while (i < len(t_list)):\n",
    "    curr_t = t_list[i]\n",
    "    # Set up\n",
    "    print(f'curr_t: {curr_t}')\n",
    "    curr_ratemap = ratemaps_list[i]\n",
    "    # images = curr_ratemap.tuning_curves # (43, 63, 63)\n",
    "    occupancy = curr_ratemap.occupancy\n",
    "    # occupancy = curr_ratemap.curr_raw_occupancy_map\n",
    "    imv.setImage(occupancy, xvals=active_time_dependent_placefields2D.xbin)\n",
    "    i += 1\n",
    "    pg.QtGui.QApplication.processEvents()\n",
    "    \n",
    "print(f'done!')"
   ]
  },
  {
   "cell_type": "code",
   "execution_count": null,
   "id": "a25b4f93-062e-4ca0-9fde-ec1534474483",
   "metadata": {},
   "outputs": [],
   "source": [
    "# Timer Update Approach:\n",
    "timer = pg.QtCore.QTimer()\n",
    "i = 0\n",
    "def update():\n",
    "    if (i < len(t_list)):\n",
    "        curr_t = t_list[i]\n",
    "        # Set up\n",
    "        print(f'curr_t: {curr_t}')\n",
    "        curr_ratemap = ratemaps_list[i]\n",
    "        # images = curr_ratemap.tuning_curves # (43, 63, 63)\n",
    "        occupancy = curr_ratemap.occupancy\n",
    "        # occupancy = curr_ratemap.curr_raw_occupancy_map\n",
    "        imv.setImage(occupancy, xvals=active_time_dependent_placefields2D.xbin)\n",
    "        i += 1\n",
    "    else:\n",
    "        print(f'done!')\n",
    "    # pw.plot(x, y, clear=True)\n",
    "\n",
    "timer.timeout.connect(update)"
   ]
  },
  {
   "cell_type": "code",
   "execution_count": null,
   "id": "fe87c21d-a49a-43eb-82f1-48efc65ae1bc",
   "metadata": {},
   "outputs": [],
   "source": [
    "# timer.start(16)\n",
    "timer.start(500)\n"
   ]
  },
  {
   "cell_type": "code",
   "execution_count": null,
   "id": "5fc1a4f7-2f28-44c5-b247-91ffacee6d29",
   "metadata": {},
   "outputs": [],
   "source": [
    "timer.stop()"
   ]
  },
  {
   "cell_type": "code",
   "execution_count": null,
   "id": "2743a465-d3bd-4b8c-842b-42a2a7314401",
   "metadata": {},
   "outputs": [],
   "source": []
  },
  {
   "cell_type": "code",
   "execution_count": null,
   "id": "c9738a6e-a38e-4601-b683-2ca8cbe047c6",
   "metadata": {},
   "outputs": [],
   "source": [
    "t_list"
   ]
  },
  {
   "cell_type": "markdown",
   "id": "c7719876-f0d6-456f-9890-3e06dd713f88",
   "metadata": {},
   "source": [
    "## Other"
   ]
  },
  {
   "cell_type": "code",
   "execution_count": null,
   "id": "a713bf6c-69a1-42e2-bc5a-55923002dc80",
   "metadata": {},
   "outputs": [],
   "source": [
    "curr_occupancy_weighted_tuning_maps_matrix = compute_occupancy_weighted_tuning_map(curr_seconds_occupancy, curr_firing_maps_matrix)\n",
    "curr_occupancy_weighted_tuning_maps_matrix"
   ]
  },
  {
   "cell_type": "code",
   "execution_count": null,
   "id": "ade42262-e7f7-4dca-a431-5a816c148cd9",
   "metadata": {},
   "outputs": [],
   "source": [
    "xy = active_pos_df[['x','y']].to_numpy().T\n",
    "x = xy[0,:] # (57247,)\n",
    "y = xy[1,:]"
   ]
  },
  {
   "cell_type": "code",
   "execution_count": null,
   "id": "53328ceb-92e7-4f48-b7ea-ef839f67cd21",
   "metadata": {},
   "outputs": [],
   "source": [
    "print(f'np.nanmin(xbin): {np.nanmin(xbin)}') # 34.412589400527594\n",
    "print(f'np.nanmin(ybin): {np.nanmin(ybin)}') # 126.93492802111207\n",
    "\n",
    "print(f'np.nanmax(xbin): {np.nanmax(xbin)}') # 257.2462592450022\n",
    "print(f'np.nanmax(ybin): {np.nanmax(ybin)}') # 148.84479357012503\n",
    "# active_pos_df.notnull() # (57247,)\n",
    "# np.shape(x) # (57247,)"
   ]
  },
  {
   "cell_type": "code",
   "execution_count": null,
   "id": "bfa61580-5bfe-4fd4-a13c-1f9979960937",
   "metadata": {},
   "outputs": [],
   "source": [
    "app_mine, win_mine, imv_mine = pyqtplot_plot_image(xbin, ybin, curr_occupancy_map)\n",
    "win_mine.show()"
   ]
  },
  {
   "cell_type": "markdown",
   "id": "14f2c2f6-ed7c-4895-8a8d-7afda0fa662b",
   "metadata": {},
   "source": [
    "# Test Iterative building"
   ]
  },
  {
   "cell_type": "code",
   "execution_count": null,
   "id": "5d3b3ac3-3f49-4611-acf1-1047a479de6c",
   "metadata": {},
   "outputs": [],
   "source": [
    "t = last_t + 1 # add one second\n",
    "curr_t, curr_occupancy_map = update_occupancy_map(last_t, curr_occupancy_map, t, active_pos_df, active_spike_df)\n",
    "curr_occupancy_map"
   ]
  },
  {
   "cell_type": "code",
   "execution_count": null,
   "id": "ac82fd71-f7b1-4e9d-902b-5254907e6da0",
   "metadata": {},
   "outputs": [],
   "source": [
    "t = 2000.0 # the \"current time\" for which to build the best possible placefields\n",
    "last_t, curr_occupancy_map = update_occupancy_map(0, curr_occupancy_map, t, active_pos_df, active_spike_df)"
   ]
  },
  {
   "cell_type": "code",
   "execution_count": null,
   "id": "1b01185e-c1a8-4d00-8241-468e38842dc5",
   "metadata": {},
   "outputs": [],
   "source": [
    "from neuropy.analyses.placefields import PfND # for build_position_df_discretized_binned_positions\n",
    "active_computation_config = active_session_computation_configs[0]\n",
    "xbin, ybin, bin_info = PfND._bin_pos_nD(active_pos_df['x'].values, active_pos_df['y'].values, bin_size=active_computation_config.grid_bin) # bin_size mode\n",
    "\n",
    "# ybin\n",
    "np.nanmax(sess.position.to_dataframe().y) # 153.31348420699553\n",
    "# np.nanmax(active_pos_df.y) # 148.32098247462739\n",
    "ybin"
   ]
  },
  {
   "cell_type": "code",
   "execution_count": null,
   "id": "bd2b5759-dd42-4f32-a073-72433ee45832",
   "metadata": {},
   "outputs": [],
   "source": [
    "# Alternative implemention for position dataframe bin counting using group_by\n",
    "np.unique(active_pos_df.binned_x) # array([1, 2, 3, 4, 5, 6, 7, 8, 9, 10, 11, 12, 13, 14, 15, 16, 17, 18, 19, 20, 21, 22, 23, 24, 25, 26, 27, 28, 29, 30, 31, 32, 33, 34, 35, 36, 37, 38, 39, 40, 41, 42, 43, 44, 45, 46, 47, 48, 49, 50, 51, 52, 53, 54, 55, 56, 57, 58, nan])\n",
    "np.unique(active_pos_df.binned_y) # array([1, 2, 3, 4, 5, 6, 7, 8, 9, 10, 11, 12, 13, 14, 15, 16, 17, 18, 19, 20, nan])\n",
    "\n",
    "# active_current_pos_df = active_pos_df.position.time_sliced(0, 30000)\n",
    "\n",
    "# np.unique(active_current_pos_df.binned_x) # array([1, 2, 3, 4, 5, 6, 7, 8, 9, 10, 11, 12, 13, 14, 15, 16, 17, 18, 19, 20, 21, 22, 23, 24, 25, 26, 27, 28, 29, 30, 31, 32, 33, 34, 35, 36, 37, 38, 39, 40, 41, 42, 43, 44, 45, 46, 47, 48, 49, 50, 51, 52, 53, 54, 55, 56, 57, 58, nan])\n",
    "# np.unique(active_current_pos_df.binned_y) # array([1, 2, 3, 4, 5, 6, 7, 8, 9, 10, 11, 12, 13, 14, 15, 16, 17, 18, 19, 20, nan])\n",
    "\n",
    "curr_grouped_occupancy_map = np.zeros((n_xbins, n_ybins), dtype=int) # create an initially zero occupancy map\n",
    "grouped = active_pos_df[['t','binned_x','binned_y']].groupby(['binned_x','binned_y'])\n",
    "grouped_count = grouped.count()\n",
    "# grouped_count.index.to_flat_index()\n",
    "\n",
    "flat_indicies = grouped_count.index.to_flat_index()\n",
    "counts = grouped_count['t'].to_numpy()\n",
    "\n",
    "# for (xbin_label, ybin_label), count in current_bin_counts.iteritems():\n",
    "\n",
    "# curr_grouped_occupancy_map[np.array(grouped_count.index.to_flat_index())] = grouped_count.values\n",
    "\n",
    "\n",
    "for i in np.arange(len(counts)):\n",
    "    curr_grouped_occupancy_map[flat_indicies[i]] = counts[i]\n",
    "\n",
    "curr_grouped_occupancy_map\n",
    "# for idx, group in grouped_count.iteritems():\n",
    "#     print(idx)\n",
    "    \n",
    "    # curr_grouped_occupancy_map\n",
    "    \n",
    "np.sum(np.sum(curr_grouped_occupancy_map)) # 55206\n",
    "active_pos_df"
   ]
  },
  {
   "cell_type": "code",
   "execution_count": null,
   "id": "cc5813fb-ef58-4700-bd67-ad4064df673c",
   "metadata": {},
   "outputs": [],
   "source": [
    "# \n",
    "\n",
    "np.shape(active_computed_data['pf2D'].ratemap.xbin) # (60,)\n",
    "np.shape(active_computed_data['pf2D'].ratemap.ybin) # (22,)\n",
    "\n",
    "np.shape(active_computed_data['pf2D'].ratemap.xbin_centers) # (59,)\n",
    "np.shape(active_computed_data['pf2D'].ratemap.ybin_centers) # (21,)\n",
    "\n",
    "# np.shape(active_computed_data['pf2D'].ratemap.occupancy) # (59, 21)\n",
    "\n",
    "# active_spike_df\n",
    "# xbin_labels"
   ]
  },
  {
   "cell_type": "code",
   "execution_count": null,
   "id": "e7118e6d-ee7a-455b-8c12-0e6d812b8b54",
   "metadata": {},
   "outputs": [],
   "source": [
    "# active_pos_df['binned_x']\n",
    "# binned_x_vals = active_pos_df['binned_x'].astype(float, copy=True).to_numpy()\n",
    "# binned_y_vals = active_pos_df['binned_y'].astype(float, copy=True).to_numpy() # 57247\n",
    "\n",
    "binned_x_indicies = active_pos_df['binned_x'].astype(float, copy=True).to_numpy()\n",
    "binned_y_indicies = active_pos_df['binned_y'].astype(float, copy=True).to_numpy() # 57247\n",
    "\n",
    "active_pos_df['binned_x_indicies'] = binned_x_indicies\n",
    "active_pos_df['binned_y_indicies'] = binned_y_indicies\n",
    "# np.unique(binned_x_vals) # array([1, 2, 3, 4, 5, 6, 7, 8, 9, 10, 11, 12, 13, 14, 15, 16, 17, 18, 19, 20, 21, 22, 23, 24, 25, 26, 27, 28, 29, 30, 31, 32, 33, 34, 35, 36, 37, 38, 39, 40, 41, 42, 43, 44, 45, 46, 47, 48, 49, 50, 51, 52, 53, 54, 55, 56, 57, 58, nan])\n",
    "# binned_y_vals\n",
    "# active_pos_df['binned_y']\n",
    "np.shape(np.where(np.isnan(binned_x_vals))) # (1, 1321)\n",
    "np.shape(np.where(np.isnan(binned_y_vals))) # (1, 768)\n",
    "\n",
    "# np.where(pd.isnull(active_pos_df[['binned_x_indicies','binned_y_indicies']]))\n",
    "# np.where(pd.isna(active_pos_df[['binned_x_indicies','binned_y_indicies']]))\n",
    "\n",
    "np.where(pd.isnull(active_pos_df['binned_x_indicies']))\n",
    "\n",
    "any_row_nan_indicies = np.where(np.logical_or(pd.isnull(active_pos_df['binned_x_indicies']), pd.isnull(active_pos_df['binned_y_indicies'])))\n",
    "any_row_nan_indicies\n",
    "\n",
    "print(f'any_row_nan_indicies: {np.shape(any_row_nan_indicies)}') # (1, 2041)\n",
    "\n",
    "\n",
    "# np.where(pd.isnull(active_pos_df[['binned_x_indicies','binned_y_indicies']]))\n",
    "# np.isnan(active_pos_df[['binned_x_indicies','binned_y_indicies']])\n",
    "\n",
    "# active_pos_df['binned_x_indicies']"
   ]
  },
  {
   "cell_type": "code",
   "execution_count": null,
   "id": "c9b68a5c-06c1-4e96-94a8-5b32bc3b91b4",
   "metadata": {},
   "outputs": [],
   "source": [
    "from matplotlib.image import NonUniformImage\n",
    "import matplotlib.pyplot as plt\n",
    "\n",
    "# Histogram does not follow Cartesian convention (see Notes),\n",
    "# therefore transpose H for visualization purposes.\n",
    "# raw_occupancy = raw_occupancy.T\n",
    "fig = plt.figure(figsize=(7, 3))\n",
    "# ax = fig.add_subplot(111, title='imshow: square bins')\n",
    "# plt.imshow(raw_occupancy, interpolation='nearest', origin='lower', extent=[xedges[0], xedges[-1], yedges[0], yedges[-1]])\n",
    "ax = fig.add_subplot(111, title='NonUniformImage: interpolated', aspect='equal', xlim=xedges[[0, -1]], ylim=yedges[[0, -1]])\n",
    "im = NonUniformImage(ax, interpolation='bilinear')\n",
    "xcenters = (xedges[:-1] + xedges[1:]) / 2\n",
    "ycenters = (yedges[:-1] + yedges[1:]) / 2\n",
    "print(f'xcenters: {xcenters.shape}, ycenters: {ycenters.shape}, raw_occupancy: {raw_occupancy.shape}')\n",
    "im.set_data(xcenters, ycenters, raw_occupancy.T)\n",
    "ax.images.append(im)\n",
    "plt.show()"
   ]
  },
  {
   "cell_type": "code",
   "execution_count": null,
   "id": "267af0e8-5822-425e-b680-1ca38dff0c04",
   "metadata": {},
   "outputs": [],
   "source": [
    "current_bin_counts['binned_x']\n",
    "\n",
    "# current_bin_counts.index.to_flat_index()\n",
    "\n",
    "for name, group in grouped:\n",
    "    print(name)\n",
    "    print(group)"
   ]
  },
  {
   "cell_type": "code",
   "execution_count": null,
   "id": "64c10f21-4dd5-4f0f-b93e-2f4309334102",
   "metadata": {},
   "outputs": [],
   "source": [
    "# Binning in Time:\n",
    "aligned_active_pos_df = active_pos_df.copy()\n",
    "\n",
    "time_window_edges_time_delta = pd.to_timedelta(active_one_step_decoder.time_window_edges, unit=\"sec\") # convert the windows to timedeltas as well to allow efficient comparison\n",
    "time_window_edges_time_delta # length=1718\n",
    "\n",
    "# aligned_active_pos_df.between_time\n",
    "\n",
    "# aligned_active_pos_df.at_time(pho_custom_decoder.time_window_edges)\n",
    "\n",
    "# pho_custom_decoder.time_window_edges\n",
    "# aligned_active_pos_df.align(time_window_edges_time_delta, fill_value=np.nan)\n",
    "\n",
    "# build_position_df_time_window_idx(active_pos_df, pho_custom_decoder.active_time_window_centers)\n",
    "\n",
    "# pho_custom_decoder.active_time_window_centers\n",
    "# pho_custom_decoder.time_window_edges\n",
    "\n",
    "# s21, s22 = ts_2.align(ts_1, fill_value=0)\n",
    "\n",
    "# active_sess.position.df\n",
    "# aligned_active_pos_df"
   ]
  },
  {
   "cell_type": "code",
   "execution_count": null,
   "id": "8b8fa335-d725-41ba-a8cd-2921eb85de71",
   "metadata": {},
   "outputs": [],
   "source": [
    "# from pyphoplacecellanalysis.General.Decoder.decoder_result import DecoderResultDisplayingPlot2D\n",
    "# def _display_decoder_result():\n",
    "#     renderer = DecoderResultDisplayingPlot2D(pho_custom_decoder, active_pos_df)\n",
    "#     def animate(i):\n",
    "#         # print(f'animate({i})')\n",
    "#         return renderer.display(i)\n",
    "#     interact(animate, i=(0, pho_custom_decoder.num_time_windows, 10))\n",
    "\n",
    "curr_kdiba_pipeline.display(DefaultDisplayFunctions._display_decoder_result, 'maze1', show_posterior=True) # works!"
   ]
  },
  {
   "cell_type": "code",
   "execution_count": null,
   "id": "2bc9a4b0-0474-4f57-a5bb-e76a1fdee8ea",
   "metadata": {},
   "outputs": [],
   "source": [
    "_display_result(curr_kdiba_pipeline.computation_results['maze1'])\n",
    "_display_result(curr_kdiba_pipeline.computation_results['maze2'])"
   ]
  },
  {
   "cell_type": "code",
   "execution_count": null,
   "id": "58555225-e9c9-45b2-afb5-d303cabb9118",
   "metadata": {},
   "outputs": [],
   "source": [
    "import matplotlib.pyplot as plt\n",
    "from neuropy.utils.misc import is_iterable\n",
    "from neuropy.plotting.figure import pretty_plot\n",
    "from scipy.ndimage import gaussian_filter, gaussian_filter1d, interpolation\n",
    "\n",
    "from pyphoplacecellanalysis.Analysis.reliability import compute_lap_to_lap_reliability\n",
    "\n",
    "from pyphoplacecellanalysis.PhoPositionalData.plotting.laps import plot_laps_2d\n",
    "\n",
    "\n",
    "def _test_plotRaw_v_time(active_pf, cellind, speed_thresh=False, alpha=0.5, ax=None):\n",
    "        \"\"\" Builds one subplot for each dimension of the position data\n",
    "        \n",
    "        Updated to work with both 1D and 2D Placefields \"\"\"   \n",
    "        if ax is None:\n",
    "            fig, ax = plt.subplots(active_pf.ndim, 1, sharex=True)\n",
    "            fig.set_size_inches([23, 9.7])\n",
    "        \n",
    "        if not is_iterable(ax):\n",
    "            ax = [ax]\n",
    "            \n",
    "        # plot trajectories\n",
    "        if active_pf.ndim < 2:\n",
    "            variable_array = [active_pf.x]\n",
    "            label_array = [\"X position (cm)\"]\n",
    "        else:\n",
    "            variable_array = [active_pf.x, active_pf.y]\n",
    "            label_array = [\"X position (cm)\", \"Y position (cm)\"]\n",
    "            \n",
    "        for a, pos, ylabel in zip(ax, variable_array, label_array):\n",
    "            a.plot(active_pf.t, pos)\n",
    "            a.set_xlabel(\"Time (seconds)\")\n",
    "            a.set_ylabel(ylabel)\n",
    "            pretty_plot(a)\n",
    "\n",
    "        # Grab correct spike times/positions\n",
    "        if speed_thresh:\n",
    "            spk_pos_, spk_t_ = active_pf.run_spk_pos, active_pf.run_spk_t\n",
    "        else:\n",
    "            spk_pos_, spk_t_ = active_pf.spk_pos, active_pf.spk_t\n",
    "\n",
    "        # plot spikes on trajectory\n",
    "        for a, pos in zip(ax, spk_pos_[cellind]):\n",
    "            a.plot(spk_t_[cellind], pos, \".\", color=[0, 0, 0.8, alpha])\n",
    "\n",
    "        # Put info on title\n",
    "        ax[0].set_title(\n",
    "            \"Cell \"\n",
    "            + str(active_pf.cell_ids[cellind])\n",
    "            + \":, speed_thresh=\"\n",
    "            + str(active_pf.speed_thresh)\n",
    "        )\n",
    "        return ax\n",
    "\n",
    "\n",
    "curr_result_label = 'maze1'\n",
    "sess = curr_kdiba_pipeline.filtered_sessions[curr_result_label]\n",
    "sess = curr_kdiba_pipeline.sess"
   ]
  },
  {
   "cell_type": "code",
   "execution_count": null,
   "id": "b340e1ae-1165-4a55-b35a-73de562df226",
   "metadata": {},
   "outputs": [],
   "source": [
    "curr_laps_df = sess.laps.to_dataframe()\n",
    "curr_laps_df"
   ]
  },
  {
   "cell_type": "code",
   "execution_count": null,
   "id": "c00bc5e4-11cc-456f-994e-d4ae3ece2298",
   "metadata": {},
   "outputs": [],
   "source": [
    "pos_df = sess.compute_position_laps() # ensures the laps are computed if they need to be:\n",
    "position_obj = sess.position\n",
    "position_obj.compute_higher_order_derivatives()\n",
    "pos_df = position_obj.compute_smoothed_position_info(N=20) ## Smooth the velocity curve to apply meaningful logic to it\n",
    "pos_df = position_obj.to_dataframe()\n",
    "pos_df"
   ]
  },
  {
   "cell_type": "code",
   "execution_count": null,
   "id": "58644ddd-6efe-40b7-a9c5-5971a1bc1bad",
   "metadata": {},
   "outputs": [],
   "source": [
    "# fig, out_axes_list = plot_laps_2d(sess, legacy_plotting_mode=True)\n",
    "fig, out_axes_list = plot_laps_2d(sess, legacy_plotting_mode=False)\n",
    "out_axes_list[0].set_title('New Pho Position Thresholding Estimated Laps')\n",
    "\n",
    "curr_cell_idx = 2 \n",
    "# curr_cell_idx = 3 # good for end platform analysis\n",
    "curr_cell_ID = sess.spikes_df.spikes.neuron_ids[curr_cell_idx]\n",
    "print(f'curr_cell_idx: {curr_cell_idx}, curr_cell_ID: {curr_cell_ID}')\n",
    "\n",
    "# pre-filter by spikes that occur in one of the included laps for the filtered_spikes_df\n",
    "filtered_spikes_df = sess.spikes_df.copy()\n",
    "time_variable_name = filtered_spikes_df.spikes.time_variable_name # 't_rel_seconds'\n",
    "\n",
    "lap_ids = sess.laps.lap_id\n",
    "# lap_flat_idxs = sess.laps.get_lap_flat_indicies(lap_ids)\n",
    "\n",
    "out_indicies, out_digitized_position_bins, out_within_lap_spikes_overlap = compute_lap_to_lap_reliability(curr_kdiba_pipeline.computation_results[curr_result_label].computed_data['pf2D'], filtered_spikes_df, lap_ids, curr_cell_idx, debug_print=False, plot_results=True);\n",
    "\n",
    "# compute_reliability_metrics(out_indicies, out_digitized_position_bins, out_within_lap_spikes_overlap, debug_print=False, plot_results=False)\n",
    "\n",
    "# # curr_kdiba_pipeline.computation_results['maze1'].computed_data['pf2D'].plotRaw_v_time(curr_cell_idx)\n",
    "# _test_plotRaw_v_time(curr_kdiba_pipeline.computation_results[curr_result_label].computed_data['pf2D'], curr_cell_idx)"
   ]
  },
  {
   "cell_type": "markdown",
   "id": "22e8e317-9b3c-4895-ac55-13600e8ccc47",
   "metadata": {},
   "source": [
    "# 3D Lap Plotting Experimentation"
   ]
  },
  {
   "cell_type": "code",
   "execution_count": null,
   "id": "854d7a4e-1b53-4435-b5fe-72dd10579a84",
   "metadata": {},
   "outputs": [],
   "source": [
    "from itertools import islice # for Pagination class\n",
    "import pyvista as pv\n",
    "import pyvistaqt as pvqt\n",
    "from pyphoplacecellanalysis.GUI.PyVista.InteractivePlotter.Mixins.LapsVisualizationMixin import LapsVisualizationMixin\n",
    "from pyphocorehelpers.gui.PyVista.PhoCustomVtkWidgets import PhoWidgetHelper\n",
    "from pyphoplacecellanalysis.PhoPositionalData.plotting.spikeAndPositions import perform_plot_flat_arena, _build_flat_arena_data\n",
    "\n",
    "\"\"\" Test Drawing Spike Lines \"\"\"\n",
    "# from pyphoplacecellanalysis.Pho3D.spikes import draw_line_spike, lines_from_points\n",
    "from pyphoplacecellanalysis.Pho3D.points import interlieve_points\n",
    "\n",
    "from pyphoplacecellanalysis.PhoPositionalData.plotting.spikeAndPositions import build_active_spikes_plot_pointdata_df\n",
    "\n",
    "def _plot_all_lap_spikes(p, sess, included_cell_IDXs, included_lap_IDXs, debug_print=True, lap_start_z=0.0, lap_id_dependent_z_offset=10.0):\n",
    "    should_reinterpolate_spike_positions = False\n",
    "        \n",
    "    def _plot_single_spikes(p, cell_specific_spikes_dfs, placefield_cell_index):\n",
    "        curr_cell_spike_df = cell_specific_spikes_dfs[placefield_cell_index]\n",
    "        # curr_cell_spike_df['z_fixed'] = np.full_like(active_flat_df['x'].values, 1.1)\n",
    "        pdata = build_active_spikes_plot_pointdata_df(curr_cell_spike_df)\n",
    "\n",
    "        # curr_cell_spike_times = curr_cell_spike_df[curr_cell_spike_df.spikes.time_variable_name].to_numpy()  # (271,)\n",
    "        # curr_cell_spike_positions = curr_cell_spike_df['x','y'].to_numpy()  # (271,)\n",
    "\n",
    "        # lines_from_points(\n",
    "        # p[0,0].add_points(pdata, name='plot_single_spikes_points', render_points_as_spheres=True, point_size=5.0)\n",
    "\n",
    "        # Build offset points and spike data:\n",
    "        spike_height = max((lap_id_dependent_z_offset * 0.6), 0.5) # half the line height\n",
    "\n",
    "        # start_points = pdata.points.copy()\n",
    "        # end_points = start_points.copy()\n",
    "        # # end_points[:,2] # get z values\n",
    "        # end_points[:,2] = end_points[:,2] + spike_height\n",
    "        # all_points = interlieve_points(start_points, end_points)\n",
    "        # lines_poly_data = pv.PolyData()\n",
    "        # lines_poly_data.points = all_points\n",
    "        # # cells = np.hstack(([2, 0, 1],[2, 1, 2]))\n",
    "        # num_lines = np.shape(start_points)[0]\n",
    "        # cells = [[2, 2*i, 2*i+1] for i in np.arange(num_lines)]\n",
    "        # lines_poly_data.lines = cells\n",
    "        \n",
    "        p[0,0].add_mesh(pdata, name=f'plot_single_spikes_points[{placefield_cell_index}]', render_points_as_spheres=True, point_size=5.0, color='white')        \n",
    "        \n",
    "        # p[0,0].add_points(pdata, name=f'plot_single_spikes_points[{placefield_cell_index}]', render_points_as_spheres=True, point_size=5.0)\n",
    "        # p[0,0].add_mesh(lines_poly_data, name=f'plot_single_spikes_lines[{placefield_cell_index}]', render_points_as_spheres=False, point_size=5.0)\n",
    "        # return {'pdata':pdata, 'lines_poly_data':lines_poly_data}\n",
    "        \n",
    "        return {'pdata':pdata}\n",
    "    \n",
    "    time_variable_name = sess.spikes_df.spikes.time_variable_name # 't_rel_seconds'\n",
    "    # sets the 'z_fixed' value for all spikes in sess.spikes_df, which will be used to plot them as points\n",
    "    sess.spikes_df['z'] = lap_start_z + (lap_id_dependent_z_offset * sess.spikes_df.lap.to_numpy())\n",
    "\n",
    "    if debug_print:\n",
    "        print(f'sess.laps.lap_id: {sess.laps.lap_id}')\n",
    "        \n",
    "    included_cell_IDXs = np.array(included_cell_IDXs)\n",
    "    included_lap_IDXs = np.array(included_lap_IDXs)\n",
    "    \n",
    "    # ensure that only lap_ids included in this session are used:\n",
    "    included_lap_ids = sess.laps.lap_id[included_lap_IDXs]\n",
    "    possible_included_lap_ids = np.unique(sess.spikes_df.lap.values)\n",
    "    if debug_print:\n",
    "        print(f'np.unique(sess.spikes_df.lap.values): {np.unique(sess.spikes_df.lap.values)}')\n",
    "    included_lap_ids = included_lap_ids[np.isin(included_lap_ids, possible_included_lap_ids)]\n",
    "    if debug_print:\n",
    "        print(f'included_lap_ids: {included_lap_ids}')\n",
    "    \n",
    "    # get the included cell IDs\n",
    "    included_cell_IDs = np.array(sess.spikes_df.spikes.neuron_ids)[included_cell_IDXs]\n",
    "        \n",
    "    # print(np.isin(['R','G','B','render_opacity'], sess.spikes_df.columns).all())\n",
    "\n",
    "    # POSITIONS:\n",
    "    curr_position_df, lap_specific_position_dfs, lap_specific_time_ranges, lap_specific_position_traces = LapsVisualizationMixin._compute_laps_position_data(sess)\n",
    "    \n",
    "    # SPIKES:\n",
    "    # # grouped by lap\n",
    "    # lap_grouped_spikes_df = sess.spikes_df.groupby('lap')\n",
    "    # lap_specific_spikes_dfs = [lap_grouped_spikes_df.get_group(i)[[time_variable_name,'aclu','lap','flat_spike_idx','cell_type','x','y','lin_pos','z']] for i in included_lap_ids] # dataframes split for each ID:\n",
    "\n",
    "    # grouped by cell:\n",
    "    # pre-filter by spikes that occur in one of the included laps for the filtered_spikes_df\n",
    "    filtered_spikes_df = sess.spikes_df.copy()\n",
    "    filtered_spikes_df = filtered_spikes_df[np.isin(filtered_spikes_df['lap'], included_lap_ids)] # get only the spikes that occur in one of the included laps for the filtered_spikes_df\n",
    "    \n",
    "    \n",
    "    # Interpolate the spikes positions again:\n",
    "    if should_reinterpolate_spike_positions:\n",
    "        print('Re-interpolating spike positions...')\n",
    "        filtered_spikes_df = filtered_spikes_df.spikes.interpolate_spike_positions(curr_position_df['t'].to_numpy(), curr_position_df['x'].to_numpy(), curr_position_df['y'].to_numpy())\n",
    "        # filtered_spikes_df = FlattenedSpiketrains.interpolate_spike_positions(filtered_spikes_df, session.position.time, session.position.x, session.position.y, spike_timestamp_column_name=time_variable_name)\n",
    "    \n",
    "    cell_grouped_spikes_df = filtered_spikes_df.groupby('aclu')\n",
    "    cell_specific_spikes_dfs = [cell_grouped_spikes_df.get_group(i)[[time_variable_name,'aclu','lap','flat_spike_idx','cell_type','x','y','lin_pos','z']] for i in included_cell_IDs] # dataframes split for each ID:\n",
    "\n",
    "    # lap_specific_position_dfs = _compute_laps_position_data(sess)\n",
    "\n",
    "    # # Positions:\n",
    "    # curr_position_df = sess.compute_position_laps()\n",
    "    # included_pos_lap_ids = np.unique(curr_position_df.lap.values)\n",
    "    # print(f'np.unique(curr_position_df.lap.values): {np.unique(curr_position_df.lap.values)}')\n",
    "    # included_pos_lap_ids = included_pos_lap_ids[np.isin(included_pos_lap_ids, sess.laps.lap_id)]\n",
    "    # included_pos_lap_ids\n",
    "\n",
    "    # print(f'included_pos_lap_ids: {included_pos_lap_ids}')\n",
    "\n",
    "    # lap_grouped_position_df = curr_position_df.groupby('lap')\n",
    "    # lap_specific_position_dfs = [lap_grouped_position_df.get_group(i)[['t','aclu','x','y','lin_pos']] for i in included_lap_ids] # dataframes split for each ID:\n",
    "\n",
    "    for i, curr_cell_ID in enumerate(included_cell_IDs):\n",
    "        plot_data_dict = _plot_single_spikes(p, cell_specific_spikes_dfs, i)\n",
    "\n",
    "\n",
    "# sess = curr_kdiba_pipeline.filtered_sessions['maze']\n",
    "# included_cell_IDXs = [6]\n",
    "# included_lap_IDXs = [2, 3]\n",
    "# _plot_all_lap_spikes(pActiveInteractiveLapsPlotter, sess, included_cell_IDXs, included_lap_IDXs)\n",
    "\n",
    "from pyphoplacecellanalysis.GUI.PyVista.InteractivePlotter.InteractiveCustomDataExplorer import InteractiveCustomDataExplorer\n",
    "\n",
    "lap_start_z = 0.0\n",
    "# lap_id_dependent_z_offset = 0.0\n",
    "lap_id_dependent_z_offset = 3.0\n",
    "# curr_kdiba_pipeline.active_configs['maze1'].lap_id_dependent_z_offset = 3.0\n",
    "\n",
    "def _display_testing(sess, computation_result, active_config, extant_plotter=None):\n",
    "    \"\"\" Testing of plot_lap_trajectories_2d \"\"\"\n",
    "    # print(f'active_config.plotting_config: {active_config.plotting_config}')\n",
    "    single_combined_plot=True\n",
    "    if single_combined_plot:\n",
    "        default_plotting = True\n",
    "    else:\n",
    "        default_plotting = False\n",
    "    active_config.plotting_config.plotter_type = 'MultiPlotter'\n",
    "    # print(f'active_config.plotting_config: {active_config.plotting_config}')\n",
    "    iplapsDataExplorer = InteractiveCustomDataExplorer(active_config, sess, extant_plotter=extant_plotter)\n",
    "    pActiveInteractiveLapsPlotter = iplapsDataExplorer.plot(pActivePlotter=extant_plotter, default_plotting=default_plotting)\n",
    "    # included_cell_idxs = None\n",
    "    included_cell_idxs = [0, 1]\n",
    "    # included_lap_idxs = [2, 5, 9, 12]\n",
    "    included_lap_idxs = [2]\n",
    "    # All\n",
    "    # included_cell_idxs = np.arange(len(sess.spikes_df.spikes.neuron_ids))\n",
    "    # included_lap_idxs = np.arange(len(sess.laps.lap_id))\n",
    "    from pyphoplacecellanalysis.PhoPositionalData.plotting.laps import plot_lap_trajectories_3d\n",
    "    pActiveInteractiveLapsPlotter, laps_pages = plot_lap_trajectories_3d(sess, curr_num_subplots=5, active_page_index=0, included_lap_idxs=included_lap_idxs, single_combined_plot=single_combined_plot, \n",
    "                                                                         lap_start_z = lap_start_z, lap_id_dependent_z_offset = lap_id_dependent_z_offset,\n",
    "                                                                         existing_plotter=pActiveInteractiveLapsPlotter)\n",
    "\n",
    "    # add the spikes for the curves:\n",
    "    _plot_all_lap_spikes(pActiveInteractiveLapsPlotter, sess, included_cell_idxs, included_lap_idxs, lap_start_z=lap_start_z, lap_id_dependent_z_offset=lap_id_dependent_z_offset)\n",
    "    return iplapsDataExplorer, pActiveInteractiveLapsPlotter\n",
    "\n",
    "\n",
    "# curr_kdiba_pipeline.computation_results['maze1'].computation_config\n",
    "# curr_kdiba_pipeline.computation_results['maze1'].sess.config\n",
    "# curr_kdiba_pipeline.active_configs['maze1']\n",
    "\n",
    "curr_result_label = 'maze1'\n",
    "# sess = curr_active_pipeline.filtered_sessions[curr_result_label]\n",
    "# sess = curr_active_pipeline.sess\n",
    "\n",
    "pActiveInteractiveLapsPlotter = None\n",
    "try: pActiveInteractiveLapsPlotter\n",
    "except NameError: pActiveInteractiveLapsPlotter = None # Checks variable p's existance, and sets its value to None if it doesn't exist so it can be checked in the next step\n",
    "iplapsDataExplorer, pActiveInteractiveLapsPlotter = _display_testing(sess, curr_active_pipeline.computation_results[curr_result_label], curr_active_pipeline.active_configs[curr_result_label],\n",
    "                                                                     extant_plotter=pActiveInteractiveLapsPlotter)\n",
    "pActiveInteractiveLapsPlotter.show()"
   ]
  },
  {
   "cell_type": "code",
   "execution_count": null,
   "id": "9c60d984-75fa-4906-af8e-83353253143f",
   "metadata": {},
   "outputs": [],
   "source": [
    "sess.laps"
   ]
  },
  {
   "cell_type": "code",
   "execution_count": null,
   "id": "17e5881e-3e37-4d8b-b5c3-0c8837cbd1bc",
   "metadata": {},
   "outputs": [],
   "source": [
    "# lines_from_points(pdata.points)\n",
    "\n",
    "np.shape(all_points)"
   ]
  },
  {
   "cell_type": "code",
   "execution_count": null,
   "id": "fd3a0d93-16ac-4240-a373-7bd9f337f6b1",
   "metadata": {},
   "outputs": [],
   "source": [
    "p, laps_pages = _plot_lap_trajectories_combined_plot_3d(curr_kdiba_pipeline.sess, curr_num_subplots=5, single_combined_plot=False)\n",
    "p.show()"
   ]
  },
  {
   "cell_type": "code",
   "execution_count": null,
   "id": "86802581-69ea-4aca-a673-e4e306d6e17b",
   "metadata": {},
   "outputs": [],
   "source": [
    "from pyphoplacecellanalysis.PhoPositionalData.plotting.laps import plot_laps_2d\n",
    "fig, out_axes_list = plot_laps_2d(sess, legacy_plotting_mode=False)\n",
    "out_axes_list[0].set_title('New Pho Position Thresholding Estimated Laps')"
   ]
  },
  {
   "cell_type": "code",
   "execution_count": null,
   "id": "8e7753ea-88b1-4eef-a994-0a64ce185951",
   "metadata": {},
   "outputs": [],
   "source": [
    "# sess.laps.to_dataframe()\n",
    "# sess.position.to_dataframe()\n",
    "# sess.position\n",
    "# curr_active_pipeline.sess.laps\n",
    "\n",
    "# curr_active_pipeline.sess.laps\n",
    "\n",
    "curr_active_pipeline.sess.position.to_dataframe()"
   ]
  },
  {
   "cell_type": "code",
   "execution_count": null,
   "id": "c83aa901-0665-4a9d-9f13-8d249acee394",
   "metadata": {},
   "outputs": [],
   "source": [
    "ipspikesDataExplorer.get_plot_objects_list"
   ]
  },
  {
   "cell_type": "code",
   "execution_count": null,
   "id": "bbc0b027-bbe1-47f2-8c47-1142f869e74c",
   "metadata": {},
   "outputs": [],
   "source": [
    "ipspikesDataExplorer.spikes_main_historical.SetVisibility(False)"
   ]
  },
  {
   "cell_type": "code",
   "execution_count": null,
   "id": "30a8de94-d207-4dfc-991f-6ad7660df004",
   "metadata": {},
   "outputs": [],
   "source": [
    "from vedo.io import exportWindow, write\n",
    "# exportWindow('testOutFilePho.html')\n",
    "# exportWindow('testOutFilePho.x3d')\n",
    "\n",
    "# pActiveTuningCurvesPlotter.save('testPlotterSavePho.obj')\n",
    "# write(pActiveTuningCurvesPlotter,'testPlotterSavePho.obj')\n",
    "# pActiveTuningCurvesPlotter.write_frame('testPlotter_write_frame_Pho')\n",
    "# pActiveTuningCurvesPlotter.export('testPlotterSavePho.x3d')\n",
    "\n",
    "\n",
    "export_path = Path(r'C:\\Users\\pho\\repos\\PhoPy3DPositionAnalysis2021\\EXTERNAL\\Screenshots\\PyVista-Based\\InteractivePlaceCellDataExplorer\\Exported 3D Objects')\n",
    "# export_path.exists()\n",
    "\n",
    "\n",
    "# export_file_prefix_name = 'testPlotter_export_obj_Pho.obj'\n",
    "\n",
    "export_app_name = 'pActiveSpikesBehaviorPlotter'\n",
    "export_file_prefix_name = 'testSpikesBehaviorPlotter'\n",
    "\n",
    "export_obj_path = export_path.joinpath('_'.join([export_file_prefix_name, 'export_obj', 'Pho']))\n",
    "# export_obj_path = export_path.joinpath('testSpikesBehaviorPlotter_export_obj_Pho.obj')\n",
    "\n",
    "export_html_path = export_path.joinpath('_'.join([export_file_prefix_name, 'export_html', 'Pho']))\n",
    "\n",
    "# export_obj_path"
   ]
  },
  {
   "cell_type": "code",
   "execution_count": null,
   "id": "d29d7641-9924-4aa9-8cc3-df28cfd973ad",
   "metadata": {},
   "outputs": [],
   "source": [
    "## Success, but ugly:\n",
    "pActiveSpikesBehaviorPlotter.export_html(export_html_path) ## First export that actually works with BackgroundPlotter\n",
    "pActiveSpikesBehaviorPlotter.export_obj(export_obj_path) ## Works for exporting .obj files"
   ]
  },
  {
   "cell_type": "code",
   "execution_count": null,
   "id": "9a2838de-26c6-4c6f-9f58-45fcede0ed0c",
   "metadata": {},
   "outputs": [],
   "source": [
    "# pActiveSpikesBehaviorPlotter.add_floor()\n",
    "# pActiveSpikesBehaviorPlotter.remove_floors()"
   ]
  },
  {
   "cell_type": "code",
   "execution_count": null,
   "id": "33f4f3a5-69d8-4f33-b94e-c96c3c513483",
   "metadata": {},
   "outputs": [],
   "source": [
    "pActiveSpikesBehaviorPlotter.background_color = 'red'"
   ]
  },
  {
   "cell_type": "code",
   "execution_count": null,
   "id": "d540f885-15c8-4288-ab42-5e005fdd7c05",
   "metadata": {},
   "outputs": [],
   "source": [
    "# pActiveSpikesBehaviorPlotter.button_widgets(\n",
    "# maze_bg_mesh = ipspikesDataExplorer.plots_data['maze_bg']\n",
    "maze_bg_mesh = ipspikesDataExplorer.plots['maze_bg']"
   ]
  },
  {
   "cell_type": "code",
   "execution_count": null,
   "id": "e9bc28f4-fca3-4ece-b534-ded6536db143",
   "metadata": {},
   "outputs": [],
   "source": [
    "pActiveSpikesBehaviorPlotter.mesh"
   ]
  },
  {
   "cell_type": "code",
   "execution_count": null,
   "id": "2cc1d47b-ac33-418f-a173-eb479abb1e94",
   "metadata": {},
   "outputs": [],
   "source": [
    "ipspikesDataExplorer.plots_data.keys()"
   ]
  },
  {
   "cell_type": "code",
   "execution_count": null,
   "id": "752a4164-078c-4fdb-b2b4-ba16c9d5363f",
   "metadata": {},
   "outputs": [],
   "source": [
    "pv.save_meshio('maze_bg_mesh.inp', maze_bg_mesh) "
   ]
  },
  {
   "cell_type": "code",
   "execution_count": null,
   "id": "4075acda-af70-4765-a273-a1a11aacdabe",
   "metadata": {},
   "outputs": [],
   "source": [
    "pActiveSpikesBehaviorPlotter.export_html("
   ]
  },
  {
   "cell_type": "code",
   "execution_count": null,
   "id": "3380a789-9e7d-4a1c-917a-05c6c811e116",
   "metadata": {},
   "outputs": [],
   "source": [
    "ipcDataExplorer.cur"
   ]
  },
  {
   "cell_type": "markdown",
   "id": "8af2f69f-53df-4cd9-8e76-8f6cdd664b5a",
   "metadata": {},
   "source": [
    "# 3D Curves Testing"
   ]
  },
  {
   "cell_type": "code",
   "execution_count": null,
   "id": "ddc4c14e-514c-40cd-8c56-2b35495418e7",
   "metadata": {},
   "outputs": [],
   "source": [
    "# get properties from spike_raster_window:\n",
    "\n",
    "active_curve_plotter_3d = test_independent_vedo_raster_widget # use separate vedo plotter\n",
    "# active_curve_plotter_3d = spike_raster_window.spike_raster_plt_3d\n",
    "curr_computations_results = curr_active_pipeline.computation_results[active_config_name]"
   ]
  },
  {
   "cell_type": "code",
   "execution_count": null,
   "id": "5fa03772-8857-4025-a95b-242a495b015d",
   "metadata": {},
   "outputs": [],
   "source": [
    "## Spike Smoothed Moving Average Rate:\n",
    "from pyphoplacecellanalysis.GUI.PyQtPlot.Widgets.Mixins.TimeCurves3D.Specific3DTimeCurves import Specific3DTimeCurvesHelper\n",
    "binned_spike_moving_average_rate_curve_datasource = Specific3DTimeCurvesHelper.add_unit_time_binned_spike_visualization_curves(curr_computations_results, active_curve_plotter_3d, spike_visualization_mode='mov_average')            "
   ]
  },
  {
   "cell_type": "code",
   "execution_count": null,
   "id": "6eeebd19-8b3f-44a6-9929-fef3b8c137b5",
   "metadata": {},
   "outputs": [],
   "source": [
    "# Get current plot items:\n",
    "curr_plot3D_active_window_data = active_curve_plotter_3d.params.time_curves_datasource.get_updated_data_window(active_curve_plotter_3d.spikes_window.active_window_start_time, active_curve_plotter_3d.spikes_window.active_window_end_time) # get updated data for the active window from the datasource\n",
    "is_data_series_mode = active_curve_plotter_3d.params.time_curves_datasource.has_data_series_specs\n",
    "if is_data_series_mode:\n",
    "    data_series_spaital_values_list = active_curve_plotter_3d.params.time_curves_datasource.data_series_specs.get_data_series_spatial_values(curr_plot3D_active_window_data)\n",
    "    num_data_series = len(data_series_spaital_values_list)\n",
    "\n",
    "curr_data_series_index = 0\n",
    "curr_data_series_dict = data_series_spaital_values_list[curr_data_series_index]\n",
    "\n",
    "curr_plot_column_name = curr_data_series_dict.get('name', f'series[{curr_data_series_index}]') # get either the specified name or the generic 'series[i]' name otherwise\n",
    "curr_plot_name = active_curve_plotter_3d.params.time_curves_datasource.datasource_UIDs[curr_data_series_index]\n",
    "# points for the current plot:\n",
    "pts = np.column_stack([curr_data_series_dict['x'], curr_data_series_dict['y'], curr_data_series_dict['z']])\n",
    "pts"
   ]
  },
  {
   "cell_type": "code",
   "execution_count": null,
   "id": "769587c3-ee40-4ae3-9186-9eab2302628b",
   "metadata": {},
   "outputs": [],
   "source": [
    "## Add the new filled plot item:\n",
    "plot_args = ({'color_name':'white','line_width':0.5,'z_scaling_factor':1.0})\n",
    "_test_fill_plt = gl.GLLinePlotItem(pos=points, color=line_color, width=plot_args.setdefault('line_width',0.5), antialias=True)\n",
    "_test_fill_plt.scale(1.0, 1.0, plot_args.setdefault('z_scaling_factor',1.0)) # Scale the data_values_range to fit within the z_max_value. Shouldn't need to be adjusted so long as data doesn't change.            \n",
    "# plt.scale(1.0, 1.0, self.data_z_scaling_factor) # Scale the data_values_range to fit within the z_max_value. Shouldn't need to be adjusted so long as data doesn't change.\n",
    "active_curve_plotter_3d.ui.main_gl_widget.addItem(_test_fill_plt)"
   ]
  },
  {
   "cell_type": "code",
   "execution_count": null,
   "id": "57e6cb49-cdf7-40fe-9f0d-3e5d4ee84c8a",
   "metadata": {},
   "outputs": [],
   "source": [
    "active_curve_plotter_3d.plots.keys()"
   ]
  },
  {
   "cell_type": "code",
   "execution_count": null,
   "id": "32352254-69c7-4fc6-bcff-a63167e4bbea",
   "metadata": {},
   "outputs": [],
   "source": [
    "active_curve_plotter_3d.params.render_epochs"
   ]
  },
  {
   "cell_type": "code",
   "execution_count": null,
   "id": "02662ba5-0a9f-48b9-aa19-5d2f53b42b34",
   "metadata": {},
   "outputs": [],
   "source": [
    "active_curve_plotter_3d.params.time_curves_datasource"
   ]
  },
  {
   "cell_type": "code",
   "execution_count": null,
   "id": "ef571c2a-29af-4f79-8875-ff03019f6387",
   "metadata": {},
   "outputs": [],
   "source": [
    "active_curve_plotter_3d.params.time_curves_enable_baseline_grid = True\n",
    "active_curve_plotter_3d.params.time_curves_baseline_grid_alpha = 0.9\n",
    "# add_3D_time_curves_baseline_grid_mesh"
   ]
  },
  {
   "cell_type": "code",
   "execution_count": null,
   "id": "2df2f7cc-bd12-4b68-b058-57e450d9fc69",
   "metadata": {},
   "outputs": [],
   "source": [
    "active_curve_plotter_3d.add_3D_time_curves_baseline_grid_mesh()"
   ]
  },
  {
   "cell_type": "code",
   "execution_count": null,
   "id": "4a02b6d7-9635-459a-99e9-34b9bed95b5f",
   "metadata": {},
   "outputs": [],
   "source": [
    "active_curve_plotter_3d.remove_3D_time_curves_baseline_grid_mesh()"
   ]
  },
  {
   "cell_type": "code",
   "execution_count": null,
   "id": "437e62e2-86b8-4844-a909-0b6a22ab9abf",
   "metadata": {},
   "outputs": [],
   "source": [
    "list(active_curve_plotter_3d.plots.keys())"
   ]
  },
  {
   "cell_type": "code",
   "execution_count": null,
   "id": "d06b03d7-acfd-4079-b15c-3df97067f9eb",
   "metadata": {},
   "outputs": [],
   "source": [
    "active_curve_plotter_3d.plots.time_curve_helpers"
   ]
  },
  {
   "cell_type": "code",
   "execution_count": null,
   "id": "622a1efd-94d5-4f1d-9dad-fa2db60e056a",
   "metadata": {},
   "outputs": [],
   "source": [
    "from pyphoplacecellanalysis.GUI.PyQtPlot.Widgets.Mixins.TimeCurves3D.Render3DTimeCurvesBaseGridMixin import BaseGrid3DTimeCurvesHelper, Render3DTimeCurvesBaseGridMixin"
   ]
  },
  {
   "cell_type": "code",
   "execution_count": null,
   "id": "32bb80b7-c02b-471d-9ed5-4577a55866af",
   "metadata": {},
   "outputs": [],
   "source": [
    "BaseGrid3DTimeCurvesHelper.init_3D_time_curves_baseline_grid_mesh(active_curve_plotter_3d=active_curve_plotter_3d)"
   ]
  },
  {
   "cell_type": "code",
   "execution_count": null,
   "id": "47a692bf-cf6a-4524-84a3-74b1a7832347",
   "metadata": {},
   "outputs": [],
   "source": [
    "BaseGrid3DTimeCurvesHelper.add_3D_time_curves_baseline_grid_mesh(active_curve_plotter_3d=active_curve_plotter_3d)"
   ]
  },
  {
   "cell_type": "code",
   "execution_count": null,
   "id": "1bab21c7-4eae-40cf-b8f7-22933efb1e7e",
   "metadata": {},
   "outputs": [],
   "source": [
    "BaseGrid3DTimeCurvesHelper.remove_3D_time_curves_baseline_grid_mesh(active_curve_plotter_3d=active_curve_plotter_3d)"
   ]
  },
  {
   "cell_type": "code",
   "execution_count": null,
   "id": "9984ec3a-c8a7-4142-be96-85ccdc236a85",
   "metadata": {},
   "outputs": [],
   "source": [
    "active_curve_plotter_3d.params.time_curves_main_alpha = 0.5\n",
    "active_curve_plotter_3d.update_3D_time_curves()"
   ]
  },
  {
   "cell_type": "code",
   "execution_count": null,
   "id": "3a178b7e-405c-4735-a0e7-3f66e51b929e",
   "metadata": {},
   "outputs": [],
   "source": [
    "# Add default params if needed:\n",
    "# active_curve_plotter_3d.params\n"
   ]
  },
  {
   "cell_type": "code",
   "execution_count": null,
   "id": "b7617edd-48a0-4a65-a75c-8eef65044672",
   "metadata": {},
   "outputs": [],
   "source": [
    "list(active_curve_plotter_3d.params.keys())"
   ]
  },
  {
   "cell_type": "code",
   "execution_count": null,
   "id": "45e571a1-18fe-4e80-9559-d737ce58fa60",
   "metadata": {},
   "outputs": [],
   "source": [
    "active_curve_plotter_3d.params.time_curves_z_baseline"
   ]
  },
  {
   "cell_type": "code",
   "execution_count": null,
   "id": "4294fe12-aabd-4bd8-ae00-ed20d47c4bcd",
   "metadata": {},
   "outputs": [],
   "source": [
    "active_curve_plotter_3d.plots"
   ]
  },
  {
   "cell_type": "code",
   "execution_count": null,
   "id": "c90a9770-2e8c-4c42-be1a-34aecf8ba618",
   "metadata": {},
   "outputs": [],
   "source": [
    "'time_curve_helpers' not in active_curve_plotter_3d.plots"
   ]
  },
  {
   "cell_type": "code",
   "execution_count": null,
   "id": "95562ab0-0c70-4eaa-80e6-40555f6f9d40",
   "metadata": {},
   "outputs": [],
   "source": [
    "'plots_grid_3dCurveBaselines_Grid' not in active_curve_plotter_3d.plots.time_curve_helpers"
   ]
  },
  {
   "cell_type": "code",
   "execution_count": null,
   "id": "ae544ea5-ff98-4f7f-8cf0-198b56615fdc",
   "metadata": {},
   "outputs": [],
   "source": [
    "time_curves_z_baseline = 5.0 \n",
    "\n",
    "data_series_baseline\n",
    "# z_map_fn = lambda v_main: v_main + 5.0 # returns the un-transformed primary value\n",
    "\n",
    "5.0"
   ]
  },
  {
   "cell_type": "code",
   "execution_count": null,
   "id": "54851449-8964-4038-9ac2-3f07af24a74e",
   "metadata": {},
   "outputs": [],
   "source": [
    "active_curve_plotter_3d.params.axes_walls_z_height = 15.0"
   ]
  },
  {
   "cell_type": "code",
   "execution_count": null,
   "id": "4ab59d5f-e7e5-4263-81f2-9fa3dff5b985",
   "metadata": {},
   "outputs": [],
   "source": [
    "active_curve_plotter_3d._update_axes_plane_graphics()"
   ]
  },
  {
   "cell_type": "code",
   "execution_count": null,
   "id": "2ac7ee3e-b47f-43ad-be91-e5556d953429",
   "metadata": {},
   "outputs": [],
   "source": [
    "active_curve_plotter_3d.temporal_axis_length"
   ]
  },
  {
   "cell_type": "code",
   "execution_count": null,
   "id": "344d4f90-ef1f-4cb9-9c8b-ff0f25feff06",
   "metadata": {},
   "outputs": [],
   "source": [
    "active_curve_plotter_3d.temporal_zoom_factor # 2.6666666666666665"
   ]
  },
  {
   "cell_type": "code",
   "execution_count": null,
   "id": "da0c261f-e235-457b-aafd-557cc632d2d3",
   "metadata": {},
   "outputs": [],
   "source": [
    "active_curve_plotter_3d.temporal_to_spatial(temporal_data=[1.0])"
   ]
  },
  {
   "cell_type": "code",
   "execution_count": null,
   "id": "d6b5e21f-dac8-4c6e-bdd9-79bfd8f64f3b",
   "metadata": {},
   "outputs": [],
   "source": [
    "line_color = pg.mkColor(plot_args.setdefault('color_name', 'white'))\n",
    "line_color.setAlphaF(0.8)"
   ]
  }
 ],
 "metadata": {
  "interpreter": {
   "hash": "bb76371bb80daaa456787a5f74a5afc9bd3e021c2669334ff0bb72cb94135a74"
  },
  "kernelspec": {
   "display_name": "Python [conda env:phoviz_ultimate]",
   "language": "python",
   "name": "conda-env-phoviz_ultimate-py"
  },
  "language_info": {
   "codemirror_mode": {
    "name": "ipython",
    "version": 3
   },
   "file_extension": ".py",
   "mimetype": "text/x-python",
   "name": "python",
   "nbconvert_exporter": "python",
   "pygments_lexer": "ipython3",
   "version": "3.9.12"
  },
  "scenes_data": {
   "active_scene": "Default Scene",
   "init_scene": "Default Scene",
   "scenes": [
    "Default Scene"
   ]
  },
  "toc-autonumbering": true,
  "toc-showmarkdowntxt": false,
  "toc-showtags": false
 },
 "nbformat": 4,
 "nbformat_minor": 5
}
