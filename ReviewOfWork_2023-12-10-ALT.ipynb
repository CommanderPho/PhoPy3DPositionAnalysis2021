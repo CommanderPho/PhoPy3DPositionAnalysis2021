{
 "cells": [
  {
   "cell_type": "code",
   "execution_count": 11,
   "id": "initial_id",
   "metadata": {
    "ExecuteTime": {
     "end_time": "2023-11-16T23:21:20.608442900Z",
     "start_time": "2023-11-16T23:21:20.217442100Z"
    },
    "collapsed": true,
    "notebookRunGroups": {
     "groupValue": "1"
    }
   },
   "outputs": [
    {
     "name": "stdout",
     "output_type": "stream",
     "text": [
      "Exception reporting mode: Verbose\n",
      "Automatic pdb calling has been turned OFF\n",
      "The viztracer extension is already loaded. To reload it, use:\n",
      "  %reload_ext viztracer\n",
      "The autoreload extension is already loaded. To reload it, use:\n",
      "  %reload_ext autoreload\n"
     ]
    }
   ],
   "source": [
    "%config IPCompleter.use_jedi = False\n",
    "%xmode Verbose\n",
    "%pdb off\n",
    "%load_ext viztracer\n",
    "from viztracer import VizTracer\n",
    "%load_ext autoreload\n",
    "%autoreload 3\n",
    "import sys\n",
    "from typing import Dict, List, Tuple, Optional\n",
    "from pathlib import Path\n",
    "\n",
    "# required to enable non-blocking interaction:\n",
    "%gui qt5\n",
    "\n",
    "from copy import deepcopy\n",
    "from numba import jit\n",
    "import numpy as np\n",
    "import pandas as pd\n",
    "pd.options.mode.chained_assignment = None  # default='warn'\n",
    "# pd.options.mode.dtype_backend = 'pyarrow' # use new pyarrow backend instead of numpy\n",
    "from attrs import define, field, fields, Factory\n",
    "import tables as tb\n",
    "from datetime import datetime, timedelta\n",
    "\n",
    "# Pho's Formatting Preferences\n",
    "from pyphocorehelpers.preferences_helpers import set_pho_preferences, set_pho_preferences_concise, set_pho_preferences_verbose\n",
    "set_pho_preferences_concise()\n",
    "from pyphocorehelpers.print_helpers import get_now_time_str, get_now_day_str\n",
    "\n",
    "## Pho's Custom Libraries:\n",
    "from pyphocorehelpers.Filesystem.path_helpers import find_first_extant_path\n",
    "from pyphocorehelpers.Filesystem.open_in_system_file_manager import reveal_in_system_file_manager\n",
    "\n",
    "# NeuroPy (Diba Lab Python Repo) Loading\n",
    "# from neuropy import core\n",
    "from neuropy.analyses.placefields import PlacefieldComputationParameters\n",
    "from neuropy.core.epoch import NamedTimerange, Epoch\n",
    "from neuropy.core.ratemap import Ratemap\n",
    "from neuropy.core.session.Formats.BaseDataSessionFormats import DataSessionFormatRegistryHolder\n",
    "from neuropy.core.session.Formats.Specific.KDibaOldDataSessionFormat import KDibaOldDataSessionFormatRegisteredClass\n",
    "from neuropy.utils.matplotlib_helpers import matplotlib_file_only, matplotlib_configuration, matplotlib_configuration_update\n",
    "from neuropy.core.neuron_identities import NeuronIdentityTable, neuronTypesList, neuronTypesEnum\n",
    "from neuropy.utils.mixins.AttrsClassHelpers import AttrsBasedClassHelperMixin, serialized_field, serialized_attribute_field, non_serialized_field, custom_define\n",
    "from neuropy.utils.mixins.HDF5_representable import HDF_DeserializationMixin, post_deserialize, HDF_SerializationMixin, HDFMixin, HDF_Converter\n",
    "\n",
    "## For computation parameters:\n",
    "from neuropy.analyses.placefields import PlacefieldComputationParameters\n",
    "from neuropy.utils.dynamic_container import DynamicContainer\n",
    "from neuropy.utils.result_context import IdentifyingContext\n",
    "from neuropy.core.session.Formats.BaseDataSessionFormats import find_local_session_paths\n",
    "from neuropy.core.neurons import NeuronType\n",
    "from neuropy.core.user_annotations import UserAnnotationsManager\n",
    "from neuropy.core.position import Position\n",
    "from neuropy.core.session.dataSession import DataSession\n",
    "from neuropy.analyses.time_dependent_placefields import PfND_TimeDependent, PlacefieldSnapshot\n",
    "from neuropy.utils.debug_helpers import debug_print_placefield, debug_print_subsession_neuron_differences, debug_print_ratemap, debug_print_spike_counts, debug_plot_2d_binning, print_aligned_columns\n",
    "from neuropy.utils.debug_helpers import parameter_sweeps, _plot_parameter_sweep, compare_placefields_info\n",
    "\n",
    "from pyphocorehelpers.print_helpers import print_object_memory_usage, print_dataframe_memory_usage, print_value_overview_only, DocumentationFilePrinter, print_keys_if_possible, generate_html_string, CapturedException, document_active_variables\n",
    "from pyphocorehelpers.general_helpers import GeneratedClassDefinitionType, CodeConversion, inspect_callable_arguments\n",
    "\n",
    "## Pho Programming Helpers:\n",
    "import inspect\n",
    "from pyphocorehelpers.general_helpers import inspect_callable_arguments, get_arguments_as_optional_dict, GeneratedClassDefinitionType, CodeConversion\n",
    "from pyphocorehelpers.print_helpers import DocumentationFilePrinter, TypePrintMode, print_keys_if_possible, debug_dump_object_member_shapes, print_value_overview_only, document_active_variables, CapturedException\n",
    "from pyphocorehelpers.programming_helpers import IPythonHelpers, PythonDictionaryDefinitionFormat, MemoryManagement\n",
    "from pyphocorehelpers.gui.Qt.TopLevelWindowHelper import TopLevelWindowHelper, print_widget_hierarchy\n",
    "\n",
    "# pyPhoPlaceCellAnalysis:\n",
    "from pyphoplacecellanalysis.General.Pipeline.NeuropyPipeline import NeuropyPipeline # get_neuron_identities\n",
    "from pyphoplacecellanalysis.General.Mixins.ExportHelpers import export_pyqtgraph_plot\n",
    "from pyphoplacecellanalysis.General.Batch.NonInteractiveProcessing import batch_load_session, batch_extended_computations, batch_extended_programmatic_figures\n",
    "from pyphoplacecellanalysis.General.Pipeline.NeuropyPipeline import PipelineSavingScheme\n",
    "\n",
    "import pyphoplacecellanalysis.External.pyqtgraph as pg\n",
    "\n",
    "from pyphoplacecellanalysis.General.Batch.NonInteractiveProcessing import batch_perform_all_plots\n",
    "from pyphoplacecellanalysis.General.Pipeline.Stages.ComputationFunctions.MultiContextComputationFunctions.LongShortTrackComputations import JonathanFiringRateAnalysisResult\n",
    "from pyphoplacecellanalysis.General.Mixins.CrossComputationComparisonHelpers import _find_any_context_neurons\n",
    "from pyphoplacecellanalysis.General.Batch.runBatch import BatchSessionCompletionHandler # for `post_compute_validate(...)`\n",
    "from pyphoplacecellanalysis.Analysis.Decoder.reconstruction import BasePositionDecoder\n",
    "from pyphoplacecellanalysis.SpecificResults.AcrossSessionResults import AcrossSessionsResults\n",
    "from pyphoplacecellanalysis.General.Pipeline.Stages.ComputationFunctions.SpikeAnalysis import SpikeRateTrends # for `_perform_long_short_instantaneous_spike_rate_groups_analysis`\n",
    "from pyphoplacecellanalysis.General.Pipeline.Stages.ComputationFunctions.MultiContextComputationFunctions.LongShortTrackComputations import SingleBarResult, InstantaneousSpikeRateGroupsComputation, TruncationCheckingResults # for `BatchSessionCompletionHandler`, `AcrossSessionsAggregator`\n",
    "from pyphoplacecellanalysis.General.Mixins.CrossComputationComparisonHelpers import SplitPartitionMembership\n",
    "from pyphoplacecellanalysis.General.Pipeline.Stages.ComputationFunctions.MultiContextComputationFunctions.DirectionalPlacefieldGlobalComputationFunctions import DirectionalPlacefieldGlobalComputationFunctions, DirectionalLapsResult, TrackTemplates\n",
    "from pyphoplacecellanalysis.General.Pipeline.Stages.ComputationFunctions.MultiContextComputationFunctions.RankOrderComputations import RankOrderGlobalComputationFunctions\n",
    "from pyphoplacecellanalysis.General.Pipeline.Stages.ComputationFunctions.MultiContextComputationFunctions.RankOrderComputations import RankOrderComputationsContainer\n",
    "from neuropy.utils.indexing_helpers import union_of_arrays, intersection_of_arrays, find_desired_sort_indicies, paired_incremental_sorting\n",
    "\n",
    "# Plotting\n",
    "# import pylustrator # customization of figures\n",
    "import matplotlib\n",
    "import matplotlib as mpl\n",
    "import matplotlib.pyplot as plt\n",
    "_bak_rcParams = mpl.rcParams.copy()\n",
    "\n",
    "matplotlib.use('Qt5Agg')\n",
    "# %matplotlib inline\n",
    "\n",
    "# _restore_previous_matplotlib_settings_callback = matplotlib_configuration_update(is_interactive=True, backend='Qt5Agg')\n",
    "_restore_previous_matplotlib_settings_callback = matplotlib_configuration_update(is_interactive=True, backend='Qt5Agg')\n",
    "\n",
    "\n",
    "# import pylustrator # call `pylustrator.start()` before creating your first figure in code.\n",
    "from pyphoplacecellanalysis.Pho2D.matplotlib.visualize_heatmap import visualize_heatmap\n",
    "from pyphoplacecellanalysis.Pho2D.matplotlib.visualize_heatmap import visualize_heatmap_pyqtgraph # used in `plot_kourosh_activity_style_figure`\n",
    "from pyphoplacecellanalysis.General.Pipeline.Stages.DisplayFunctions.SpikeRasters import plot_multiple_raster_plot, plot_raster_plot\n",
    "from pyphoplacecellanalysis.General.Mixins.DataSeriesColorHelpers import UnitColoringMode, DataSeriesColorHelpers\n",
    "from pyphoplacecellanalysis.General.Pipeline.Stages.DisplayFunctions.SpikeRasters import _build_default_tick, build_scatter_plot_kwargs\n",
    "from pyphoplacecellanalysis.GUI.PyQtPlot.Widgets.Mixins.Render2DScrollWindowPlot import Render2DScrollWindowPlotMixin, ScatterItemData\n",
    "from pyphoplacecellanalysis.General.Batch.NonInteractiveProcessing import batch_extended_programmatic_figures, batch_programmatic_figures\n",
    "from pyphoplacecellanalysis.General.Pipeline.Stages.ComputationFunctions.SpikeAnalysis import SpikeRateTrends\n",
    "from pyphoplacecellanalysis.General.Mixins.SpikesRenderingBaseMixin import SpikeEmphasisState\n",
    "from pyphoplacecellanalysis.General.Pipeline.Stages.ComputationFunctions.MultiContextComputationFunctions.RankOrderComputations import RankOrderComputationsContainer\n",
    "from pyphoplacecellanalysis.SpecificResults.PhoDiba2023Paper import PAPER_FIGURE_figure_1_add_replay_epoch_rasters, PAPER_FIGURE_figure_1_full, PAPER_FIGURE_figure_3, main_complete_figure_generations\n",
    "from pyphoplacecellanalysis.SpecificResults.fourthYearPresentation import *\n",
    "\n",
    "# Jupyter Widget Interactive\n",
    "import ipywidgets as widgets\n",
    "from IPython.display import display, HTML\n",
    "from pyphocorehelpers.Filesystem.open_in_system_file_manager import reveal_in_system_file_manager\n",
    "from pyphoplacecellanalysis.GUI.IPyWidgets.pipeline_ipywidgets import interactive_pipeline_widget, fullwidth_path_widget, interactive_pipeline_files\n",
    "from pyphocorehelpers.gui.Jupyter.simple_widgets import render_colors\n",
    "\n",
    "global_data_root_parent_path = find_first_extant_path([Path(r'W:\\Data'), Path(r'/media/MAX/Data'), Path(r'/home/halechr/FastData'), Path(r'/Volumes/MoverNew/data'), Path(r'/home/halechr/turbo/Data'), Path(r'/home/halechr/cloud/turbo/Data')])\n",
    "assert global_data_root_parent_path.exists(), f\"global_data_root_parent_path: {global_data_root_parent_path} does not exist! Is the right computer's config commented out above?\""
   ]
  },
  {
   "cell_type": "markdown",
   "id": "30db844b",
   "metadata": {},
   "source": [
    "# Load Pipeline"
   ]
  },
  {
   "cell_type": "code",
   "execution_count": 2,
   "id": "233d2b8a",
   "metadata": {
    "ExecuteTime": {
     "end_time": "2023-11-16T23:21:36.073368600Z",
     "start_time": "2023-11-16T23:21:27.575793Z"
    },
    "notebookRunGroups": {
     "groupValue": "1"
    }
   },
   "outputs": [
    {
     "name": "stderr",
     "output_type": "stream",
     "text": [
      "INFO:com.PhoHale.Spike3D.pipeline:NeuropyPipeline.__init__(name=\"kdiba_pipeline\", session_data_type=\"kdiba\", basedir=\"W:\\Data\\KDIBA\\gor01\\one\\2006-6-08_14-26-15\")\n",
      "INFO:com.PhoHale.Spike3D.pipeline:basedir is already Path object.\n",
      "INFO:com.PhoHale.Spike3D.pipeline:NeuropyPipeline.on_stage_changed(new_stage=\"PipelineStage.Input\")\n"
     ]
    },
    {
     "name": "stdout",
     "output_type": "stream",
     "text": [
      "basedir: W:\\Data\\KDIBA\\gor01\\one\\2006-6-08_14-26-15\n",
      "Skipping loading from pickled file because force_reload == True.\n",
      "Loading matlab import file results : W:\\Data\\KDIBA\\gor01\\one\\2006-6-08_14-26-15\\2006-6-08_14-26-15.epochs_info.mat... done.\n",
      "Loading matlab import file results : W:\\Data\\KDIBA\\gor01\\one\\2006-6-08_14-26-15\\2006-6-08_14-26-15.position_info.mat... done.\n",
      "Loading matlab import file results : W:\\Data\\KDIBA\\gor01\\one\\2006-6-08_14-26-15\\2006-6-08_14-26-15.spikes.mat... "
     ]
    },
    {
     "name": "stderr",
     "output_type": "stream",
     "text": [
      "C:\\Users\\pho\\repos\\Spike3DWorkEnv\\NeuroPy\\neuropy\\core\\session\\Formats\\SessionSpecifications.py:123: UserWarning: WARNING: Optional File: W:\\Data\\KDIBA\\gor01\\one\\2006-6-08_14-26-15\\2006-6-08_14-26-15.dat does not exist. Continuing without it.\n",
      "  warnings.warn(f'WARNING: Optional File: {an_optional_filepath} does not exist. Continuing without it.')\n"
     ]
    },
    {
     "name": "stdout",
     "output_type": "stream",
     "text": [
      "done.\n",
      "Failure loading .position.npy. Must recompute.\n",
      "\n",
      "Saving updated position results results : W:\\Data\\KDIBA\\gor01\\one\\2006-6-08_14-26-15\\2006-6-08_14-26-15.position.npy... 2006-6-08_14-26-15.position.npy saved\n",
      "done.\n",
      "\t force_recompute is True! Forcing recomputation of .interpolated_spike_positions.npy\n",
      "\n",
      "Computing interpolate_spike_positions columns results : spikes_df... done.\n",
      "\t Saving updated interpolated spike position results results : W:\\Data\\KDIBA\\gor01\\one\\2006-6-08_14-26-15\\2006-6-08_14-26-15.interpolated_spike_positions.npy... 2006-6-08_14-26-15.interpolated_spike_positions.npy saved\n",
      "done.\n",
      "Loading matlab import file results : W:\\Data\\KDIBA\\gor01\\one\\2006-6-08_14-26-15\\2006-6-08_14-26-15.laps_info.mat... done.\n",
      "setting laps object.\n",
      "session.laps loaded successfully!\n",
      "Loading matlab import file results : W:\\Data\\KDIBA\\gor01\\one\\2006-6-08_14-26-15\\2006-6-08_14-26-15.replay_info.mat... done.\n",
      "session.replays loaded successfully!\n",
      "Loading success: W:\\Data\\KDIBA\\gor01\\one\\2006-6-08_14-26-15\\ripple_df.pkl.\n",
      "force_recompute is True, recomputing...\n",
      "computing neurons mua for session...\n",
      "\n",
      "Saving mua results results : W:\\Data\\KDIBA\\gor01\\one\\2006-6-08_14-26-15\\2006-6-08_14-26-15.mua.npy... 2006-6-08_14-26-15.mua.npy saved\n",
      "done.\n",
      "force_recompute is True, recomputing...\n",
      "computing PBE epochs for session...\n",
      "\n",
      "Saving pbe results results : W:\\Data\\KDIBA\\gor01\\one\\2006-6-08_14-26-15\\2006-6-08_14-26-15.pbe.npy... 2006-6-08_14-26-15.pbe.npy saved\n",
      "done.\n",
      "Computing spikes_df PBEs column results : spikes_df... done.\n",
      "Computing added spike scISI column results : spikes_df... "
     ]
    },
    {
     "name": "stderr",
     "output_type": "stream",
     "text": [
      "INFO:com.PhoHale.Spike3D.pipeline:NeuropyPipeline.on_stage_changed(new_stage=\"PipelineStage.Loaded\")\n",
      "DEBUG:com.PhoHale.Spike3D.pipeline:Performing on_post_load(...) with 1 post_load_functions...\n"
     ]
    },
    {
     "name": "stdout",
     "output_type": "stream",
     "text": [
      "done.\n",
      "POSTLOAD_estimate_laps_and_replays()...\n",
      "WARN: Laps.from_estimated_laps(...) found 2 indicies to change:\n",
      "\tindicies_to_change: {66: 56976, 74: 60018}\n",
      ".POSTLOAD_estimate_laps_and_replays(...): WARN: True\n",
      "computing PBE epochs for session...\n",
      "\n",
      "computing estimated replay epochs for session...\n",
      "\n",
      "\t using KnownFilterEpochs.PBE as surrogate replays...\n"
     ]
    },
    {
     "name": "stderr",
     "output_type": "stream",
     "text": [
      "INFO:com.PhoHale.Spike3D.pipeline:NeuropyPipeline.on_stage_changed(new_stage=\"PipelineStage.Computed\")\n",
      "INFO:com.PhoHale.Spike3D.pipeline:select_filters(...) with: [<function DataSessionFormatBaseRegisteredClass.build_default_filter_functions.<locals>.<dictcomp>.<lambda> at 0x000001C8A5E2BAF0>, <function DataSessionFormatBaseRegisteredClass.build_default_filter_functions.<locals>.<dictcomp>.<lambda> at 0x000001C8A5E2BA60>, <function DataSessionFormatBaseRegisteredClass.build_global_epoch_filter_config_dict.<locals>.<lambda> at 0x000001C89F02C0D0>]\n",
      "INFO:com.PhoHale.Spike3D.pipeline:\tApplying session filter named \"maze1_odd\"...\n"
     ]
    },
    {
     "name": "stdout",
     "output_type": "stream",
     "text": [
      "\t curr_replays: 611\n",
      "skip_save_on_initial_load is True so resultant pipeline will not be saved to the pickle file.\n",
      "using provided computation_functions_name_includelist: ['pf_computation', 'firing_rate_trends', 'position_decoding']\n",
      "Applying session filter named \"maze1_odd\"...\n",
      "Constraining to epoch with times (start: 0.0, end: 1211.5580800310709)\n",
      "computing neurons mua for session...\n",
      "\n"
     ]
    },
    {
     "name": "stderr",
     "output_type": "stream",
     "text": [
      "INFO:com.PhoHale.Spike3D.pipeline:\tApplying session filter named \"maze2_odd\"...\n"
     ]
    },
    {
     "name": "stdout",
     "output_type": "stream",
     "text": [
      "Applying session filter named \"maze2_odd\"...\n",
      "Constraining to epoch with times (start: 1211.5580800310709, end: 2093.8978568242164)\n",
      "computing neurons mua for session...\n",
      "\n"
     ]
    },
    {
     "name": "stderr",
     "output_type": "stream",
     "text": [
      "INFO:com.PhoHale.Spike3D.pipeline:\tApplying session filter named \"maze_odd\"...\n"
     ]
    },
    {
     "name": "stdout",
     "output_type": "stream",
     "text": [
      "Applying session filter named \"maze_odd\"...\n",
      "Constraining to epoch with times (start: 0.0, end: 2093.8978568242164)\n",
      "computing neurons mua for session...\n",
      "\n"
     ]
    },
    {
     "name": "stderr",
     "output_type": "stream",
     "text": [
      "INFO:com.PhoHale.Spike3D.pipeline:Performing perform_action_for_all_contexts with action EvaluationActions.EVALUATE_COMPUTATIONS on filtered_session with filter named \"maze1_odd\"...\n",
      "INFO:com.PhoHale.Spike3D.pipeline:Performing _execute_computation_functions(...) with 3 registered_computation_functions...\n",
      "INFO:com.PhoHale.Spike3D.pipeline:Executing [0/3]: <function PlacefieldComputations._perform_baseline_placefield_computation at 0x000001C8868ECCA0>\n"
     ]
    },
    {
     "name": "stdout",
     "output_type": "stream",
     "text": [
      "due to includelist, including only 3 out of 16 registered computation functions.\n",
      "Recomputing active_epoch_placefields... \t done.\n",
      "Recomputing active_epoch_placefields2D... "
     ]
    },
    {
     "name": "stderr",
     "output_type": "stream",
     "text": [
      "INFO:com.PhoHale.Spike3D.pipeline:Executing [1/3]: <function DefaultComputationFunctions._perform_position_decoding_computation at 0x000001C8868EC280>\n"
     ]
    },
    {
     "name": "stdout",
     "output_type": "stream",
     "text": [
      "\t done.\n"
     ]
    },
    {
     "name": "stderr",
     "output_type": "stream",
     "text": [
      "INFO:com.PhoHale.Spike3D.pipeline:Executing [2/3]: <function SpikeAnalysisComputations._perform_firing_rate_trends_computation at 0x000001C886E4C820>\n"
     ]
    },
    {
     "name": "stdout",
     "output_type": "stream",
     "text": [
      "WARNING: PREVIOUSLY ASSERT: \n",
      "\t spikes_df[time_variable_name]: (596822,) should be less than time_window_edges: (2425,)!\n"
     ]
    },
    {
     "name": "stderr",
     "output_type": "stream",
     "text": [
      "INFO:com.PhoHale.Spike3D.pipeline:\t all computations complete! (Computed 3 with no errors!.\n",
      "INFO:com.PhoHale.Spike3D.pipeline:Performing perform_action_for_all_contexts with action EvaluationActions.EVALUATE_COMPUTATIONS on filtered_session with filter named \"maze2_odd\"...\n",
      "INFO:com.PhoHale.Spike3D.pipeline:Performing _execute_computation_functions(...) with 3 registered_computation_functions...\n",
      "INFO:com.PhoHale.Spike3D.pipeline:Executing [0/3]: <function PlacefieldComputations._perform_baseline_placefield_computation at 0x000001C8868ECCA0>\n"
     ]
    },
    {
     "name": "stdout",
     "output_type": "stream",
     "text": [
      "WARNING: PREVIOUSLY ASSERT: \n",
      "\t spikes_df[time_variable_name]: (12949,) should be less than time_window_edges: (2345,)!\n",
      "due to includelist, including only 3 out of 16 registered computation functions.\n",
      "Recomputing active_epoch_placefields... \t done.\n",
      "Recomputing active_epoch_placefields2D... "
     ]
    },
    {
     "name": "stderr",
     "output_type": "stream",
     "text": [
      "INFO:com.PhoHale.Spike3D.pipeline:Executing [1/3]: <function DefaultComputationFunctions._perform_position_decoding_computation at 0x000001C8868EC280>\n"
     ]
    },
    {
     "name": "stdout",
     "output_type": "stream",
     "text": [
      "\t done.\n"
     ]
    },
    {
     "name": "stderr",
     "output_type": "stream",
     "text": [
      "INFO:com.PhoHale.Spike3D.pipeline:Executing [2/3]: <function SpikeAnalysisComputations._perform_firing_rate_trends_computation at 0x000001C886E4C820>\n"
     ]
    },
    {
     "name": "stdout",
     "output_type": "stream",
     "text": [
      "WARNING: PREVIOUSLY ASSERT: \n",
      "\t spikes_df[time_variable_name]: (410073,) should be less than time_window_edges: (1766,)!\n"
     ]
    },
    {
     "name": "stderr",
     "output_type": "stream",
     "text": [
      "INFO:com.PhoHale.Spike3D.pipeline:\t all computations complete! (Computed 3 with no errors!.\n",
      "INFO:com.PhoHale.Spike3D.pipeline:Performing perform_action_for_all_contexts with action EvaluationActions.EVALUATE_COMPUTATIONS on filtered_session with filter named \"maze_odd\"...\n",
      "INFO:com.PhoHale.Spike3D.pipeline:Performing _execute_computation_functions(...) with 3 registered_computation_functions...\n",
      "INFO:com.PhoHale.Spike3D.pipeline:Executing [0/3]: <function PlacefieldComputations._perform_baseline_placefield_computation at 0x000001C8868ECCA0>\n"
     ]
    },
    {
     "name": "stdout",
     "output_type": "stream",
     "text": [
      "WARNING: PREVIOUSLY ASSERT: \n",
      "\t spikes_df[time_variable_name]: (11652,) should be less than time_window_edges: (1622,)!\n",
      "due to includelist, including only 3 out of 16 registered computation functions.\n",
      "Recomputing active_epoch_placefields... \t done.\n",
      "Recomputing active_epoch_placefields2D... "
     ]
    },
    {
     "name": "stderr",
     "output_type": "stream",
     "text": [
      "INFO:com.PhoHale.Spike3D.pipeline:Executing [1/3]: <function DefaultComputationFunctions._perform_position_decoding_computation at 0x000001C8868EC280>\n"
     ]
    },
    {
     "name": "stdout",
     "output_type": "stream",
     "text": [
      "\t done.\n"
     ]
    },
    {
     "name": "stderr",
     "output_type": "stream",
     "text": [
      "INFO:com.PhoHale.Spike3D.pipeline:Executing [2/3]: <function SpikeAnalysisComputations._perform_firing_rate_trends_computation at 0x000001C886E4C820>\n"
     ]
    },
    {
     "name": "stdout",
     "output_type": "stream",
     "text": [
      "WARNING: PREVIOUSLY ASSERT: \n",
      "\t spikes_df[time_variable_name]: (1006895,) should be less than time_window_edges: (4189,)!\n"
     ]
    },
    {
     "name": "stderr",
     "output_type": "stream",
     "text": [
      "INFO:com.PhoHale.Spike3D.pipeline:\t all computations complete! (Computed 3 with no errors!.\n",
      "INFO:com.PhoHale.Spike3D.pipeline:Performing global computations...\n",
      "INFO:com.PhoHale.Spike3D.pipeline:novel_filter_names: ['maze1_even' 'maze2_even' 'maze_even']\n",
      "INFO:com.PhoHale.Spike3D.pipeline:select_filters(...) with: [<function DataSessionFormatBaseRegisteredClass.build_default_filter_functions.<locals>.<dictcomp>.<lambda> at 0x000001C8A5E2BAF0>, <function DataSessionFormatBaseRegisteredClass.build_default_filter_functions.<locals>.<dictcomp>.<lambda> at 0x000001C8A5E2BA60>, <function DataSessionFormatBaseRegisteredClass.build_global_epoch_filter_config_dict.<locals>.<lambda> at 0x000001C89F02C0D0>]\n",
      "INFO:com.PhoHale.Spike3D.pipeline:\tApplying session filter named \"maze1_even\"...\n"
     ]
    },
    {
     "name": "stdout",
     "output_type": "stream",
     "text": [
      "WARNING: PREVIOUSLY ASSERT: \n",
      "\t spikes_df[time_variable_name]: (24601,) should be less than time_window_edges: (4075,)!\n",
      "novel_filter_names: ['maze1_even' 'maze2_even' 'maze_even']\n",
      "Applying session filter named \"maze1_even\"...\n",
      "Constraining to epoch with times (start: 0.0, end: 1211.5580800310709)\n",
      "computing neurons mua for session...\n",
      "\n"
     ]
    },
    {
     "name": "stderr",
     "output_type": "stream",
     "text": [
      "INFO:com.PhoHale.Spike3D.pipeline:\tApplying session filter named \"maze2_even\"...\n"
     ]
    },
    {
     "name": "stdout",
     "output_type": "stream",
     "text": [
      "Applying session filter named \"maze2_even\"...\n",
      "Constraining to epoch with times (start: 1211.5580800310709, end: 2093.8978568242164)\n",
      "computing neurons mua for session...\n",
      "\n"
     ]
    },
    {
     "name": "stderr",
     "output_type": "stream",
     "text": [
      "INFO:com.PhoHale.Spike3D.pipeline:\tApplying session filter named \"maze_even\"...\n"
     ]
    },
    {
     "name": "stdout",
     "output_type": "stream",
     "text": [
      "Applying session filter named \"maze_even\"...\n",
      "Constraining to epoch with times (start: 0.0, end: 2093.8978568242164)\n",
      "computing neurons mua for session...\n",
      "\n"
     ]
    },
    {
     "name": "stderr",
     "output_type": "stream",
     "text": [
      "INFO:com.PhoHale.Spike3D.pipeline:Performing perform_action_for_all_contexts with action EvaluationActions.EVALUATE_COMPUTATIONS on filtered_session with filter named \"maze1_odd\"...\n",
      "INFO:com.PhoHale.Spike3D.pipeline:WARNING: skipping computation because overwrite_extant_results=False and active_computation_results[maze1_odd] already exists and is non-None\n",
      "INFO:com.PhoHale.Spike3D.pipeline:\t TODO: this will prevent recomputation even when the excludelist/includelist or computation function definitions change. Rework so that this is smarter.\n",
      "INFO:com.PhoHale.Spike3D.pipeline:Performing perform_action_for_all_contexts with action EvaluationActions.EVALUATE_COMPUTATIONS on filtered_session with filter named \"maze2_odd\"...\n",
      "INFO:com.PhoHale.Spike3D.pipeline:WARNING: skipping computation because overwrite_extant_results=False and active_computation_results[maze2_odd] already exists and is non-None\n",
      "INFO:com.PhoHale.Spike3D.pipeline:\t TODO: this will prevent recomputation even when the excludelist/includelist or computation function definitions change. Rework so that this is smarter.\n",
      "INFO:com.PhoHale.Spike3D.pipeline:Performing perform_action_for_all_contexts with action EvaluationActions.EVALUATE_COMPUTATIONS on filtered_session with filter named \"maze_odd\"...\n",
      "INFO:com.PhoHale.Spike3D.pipeline:WARNING: skipping computation because overwrite_extant_results=False and active_computation_results[maze_odd] already exists and is non-None\n",
      "INFO:com.PhoHale.Spike3D.pipeline:\t TODO: this will prevent recomputation even when the excludelist/includelist or computation function definitions change. Rework so that this is smarter.\n",
      "INFO:com.PhoHale.Spike3D.pipeline:Performing perform_action_for_all_contexts with action EvaluationActions.EVALUATE_COMPUTATIONS on filtered_session with filter named \"maze1_even\"...\n",
      "INFO:com.PhoHale.Spike3D.pipeline:Performing _execute_computation_functions(...) with 3 registered_computation_functions...\n",
      "INFO:com.PhoHale.Spike3D.pipeline:Executing [0/3]: <function PlacefieldComputations._perform_baseline_placefield_computation at 0x000001C8868ECCA0>\n"
     ]
    },
    {
     "name": "stdout",
     "output_type": "stream",
     "text": [
      "WARNING: skipping computation because overwrite_extant_results=False and active_computation_results[maze1_odd] already exists and is non-None\n",
      "\t TODO: this will prevent recomputation even when the excludelist/includelist or computation function definitions change. Rework so that this is smarter.\n",
      "WARNING: skipping computation because overwrite_extant_results=False and active_computation_results[maze2_odd] already exists and is non-None\n",
      "\t TODO: this will prevent recomputation even when the excludelist/includelist or computation function definitions change. Rework so that this is smarter.\n",
      "WARNING: skipping computation because overwrite_extant_results=False and active_computation_results[maze_odd] already exists and is non-None\n",
      "\t TODO: this will prevent recomputation even when the excludelist/includelist or computation function definitions change. Rework so that this is smarter.\n",
      "due to includelist, including only 3 out of 16 registered computation functions.\n",
      "Recomputing active_epoch_placefields... \t done.\n",
      "Recomputing active_epoch_placefields2D... "
     ]
    },
    {
     "name": "stderr",
     "output_type": "stream",
     "text": [
      "INFO:com.PhoHale.Spike3D.pipeline:Executing [1/3]: <function DefaultComputationFunctions._perform_position_decoding_computation at 0x000001C8868EC280>\n"
     ]
    },
    {
     "name": "stdout",
     "output_type": "stream",
     "text": [
      "\t done.\n"
     ]
    },
    {
     "name": "stderr",
     "output_type": "stream",
     "text": [
      "INFO:com.PhoHale.Spike3D.pipeline:Executing [2/3]: <function SpikeAnalysisComputations._perform_firing_rate_trends_computation at 0x000001C886E4C820>\n"
     ]
    },
    {
     "name": "stdout",
     "output_type": "stream",
     "text": [
      "WARNING: PREVIOUSLY ASSERT: \n",
      "\t spikes_df[time_variable_name]: (596822,) should be less than time_window_edges: (2425,)!\n"
     ]
    },
    {
     "name": "stderr",
     "output_type": "stream",
     "text": [
      "INFO:com.PhoHale.Spike3D.pipeline:\t all computations complete! (Computed 3 with no errors!.\n",
      "INFO:com.PhoHale.Spike3D.pipeline:Performing perform_action_for_all_contexts with action EvaluationActions.EVALUATE_COMPUTATIONS on filtered_session with filter named \"maze2_even\"...\n",
      "INFO:com.PhoHale.Spike3D.pipeline:Performing _execute_computation_functions(...) with 3 registered_computation_functions...\n",
      "INFO:com.PhoHale.Spike3D.pipeline:Executing [0/3]: <function PlacefieldComputations._perform_baseline_placefield_computation at 0x000001C8868ECCA0>\n"
     ]
    },
    {
     "name": "stdout",
     "output_type": "stream",
     "text": [
      "WARNING: PREVIOUSLY ASSERT: \n",
      "\t spikes_df[time_variable_name]: (11239,) should be less than time_window_edges: (2365,)!\n",
      "due to includelist, including only 3 out of 16 registered computation functions.\n",
      "Recomputing active_epoch_placefields... \t done.\n",
      "Recomputing active_epoch_placefields2D... "
     ]
    },
    {
     "name": "stderr",
     "output_type": "stream",
     "text": [
      "INFO:com.PhoHale.Spike3D.pipeline:Executing [1/3]: <function DefaultComputationFunctions._perform_position_decoding_computation at 0x000001C8868EC280>\n"
     ]
    },
    {
     "name": "stdout",
     "output_type": "stream",
     "text": [
      "\t done.\n"
     ]
    },
    {
     "name": "stderr",
     "output_type": "stream",
     "text": [
      "INFO:com.PhoHale.Spike3D.pipeline:Executing [2/3]: <function SpikeAnalysisComputations._perform_firing_rate_trends_computation at 0x000001C886E4C820>\n"
     ]
    },
    {
     "name": "stdout",
     "output_type": "stream",
     "text": [
      "WARNING: PREVIOUSLY ASSERT: \n",
      "\t spikes_df[time_variable_name]: (410073,) should be less than time_window_edges: (1766,)!\n"
     ]
    },
    {
     "name": "stderr",
     "output_type": "stream",
     "text": [
      "INFO:com.PhoHale.Spike3D.pipeline:\t all computations complete! (Computed 3 with no errors!.\n",
      "INFO:com.PhoHale.Spike3D.pipeline:Performing perform_action_for_all_contexts with action EvaluationActions.EVALUATE_COMPUTATIONS on filtered_session with filter named \"maze_even\"...\n",
      "INFO:com.PhoHale.Spike3D.pipeline:Performing _execute_computation_functions(...) with 3 registered_computation_functions...\n",
      "INFO:com.PhoHale.Spike3D.pipeline:Executing [0/3]: <function PlacefieldComputations._perform_baseline_placefield_computation at 0x000001C8868ECCA0>\n"
     ]
    },
    {
     "name": "stdout",
     "output_type": "stream",
     "text": [
      "WARNING: PREVIOUSLY ASSERT: \n",
      "\t spikes_df[time_variable_name]: (11039,) should be less than time_window_edges: (1610,)!\n",
      "due to includelist, including only 3 out of 16 registered computation functions.\n",
      "Recomputing active_epoch_placefields... \t done.\n",
      "Recomputing active_epoch_placefields2D... "
     ]
    },
    {
     "name": "stderr",
     "output_type": "stream",
     "text": [
      "INFO:com.PhoHale.Spike3D.pipeline:Executing [1/3]: <function DefaultComputationFunctions._perform_position_decoding_computation at 0x000001C8868EC280>\n"
     ]
    },
    {
     "name": "stdout",
     "output_type": "stream",
     "text": [
      "\t done.\n"
     ]
    },
    {
     "name": "stderr",
     "output_type": "stream",
     "text": [
      "INFO:com.PhoHale.Spike3D.pipeline:Executing [2/3]: <function SpikeAnalysisComputations._perform_firing_rate_trends_computation at 0x000001C886E4C820>\n"
     ]
    },
    {
     "name": "stdout",
     "output_type": "stream",
     "text": [
      "WARNING: PREVIOUSLY ASSERT: \n",
      "\t spikes_df[time_variable_name]: (1006895,) should be less than time_window_edges: (4189,)!\n"
     ]
    },
    {
     "name": "stderr",
     "output_type": "stream",
     "text": [
      "INFO:com.PhoHale.Spike3D.pipeline:\t all computations complete! (Computed 3 with no errors!.\n",
      "INFO:com.PhoHale.Spike3D.pipeline:Performing global computations...\n",
      "INFO:com.PhoHale.Spike3D.pipeline:novel_filter_names: ['maze1_any' 'maze2_any' 'maze_any']\n",
      "INFO:com.PhoHale.Spike3D.pipeline:select_filters(...) with: [<function DataSessionFormatBaseRegisteredClass.build_default_filter_functions.<locals>.<dictcomp>.<lambda> at 0x000001C8A5E2BAF0>, <function DataSessionFormatBaseRegisteredClass.build_default_filter_functions.<locals>.<dictcomp>.<lambda> at 0x000001C8A5E2BA60>, <function DataSessionFormatBaseRegisteredClass.build_global_epoch_filter_config_dict.<locals>.<lambda> at 0x000001C89F02C0D0>]\n",
      "INFO:com.PhoHale.Spike3D.pipeline:\tApplying session filter named \"maze1_any\"...\n"
     ]
    },
    {
     "name": "stdout",
     "output_type": "stream",
     "text": [
      "WARNING: PREVIOUSLY ASSERT: \n",
      "\t spikes_df[time_variable_name]: (22278,) should be less than time_window_edges: (4075,)!\n",
      "novel_filter_names: ['maze1_any' 'maze2_any' 'maze_any']\n",
      "Applying session filter named \"maze1_any\"...\n",
      "Constraining to epoch with times (start: 0.0, end: 1211.5580800310709)\n",
      "computing neurons mua for session...\n",
      "\n"
     ]
    },
    {
     "name": "stderr",
     "output_type": "stream",
     "text": [
      "INFO:com.PhoHale.Spike3D.pipeline:\tApplying session filter named \"maze2_any\"...\n"
     ]
    },
    {
     "name": "stdout",
     "output_type": "stream",
     "text": [
      "Applying session filter named \"maze2_any\"...\n",
      "Constraining to epoch with times (start: 1211.5580800310709, end: 2093.8978568242164)\n",
      "computing neurons mua for session...\n",
      "\n"
     ]
    },
    {
     "name": "stderr",
     "output_type": "stream",
     "text": [
      "INFO:com.PhoHale.Spike3D.pipeline:\tApplying session filter named \"maze_any\"...\n"
     ]
    },
    {
     "name": "stdout",
     "output_type": "stream",
     "text": [
      "Applying session filter named \"maze_any\"...\n",
      "Constraining to epoch with times (start: 0.0, end: 2093.8978568242164)\n",
      "computing neurons mua for session...\n",
      "\n"
     ]
    },
    {
     "name": "stderr",
     "output_type": "stream",
     "text": [
      "INFO:com.PhoHale.Spike3D.pipeline:Performing perform_action_for_all_contexts with action EvaluationActions.EVALUATE_COMPUTATIONS on filtered_session with filter named \"maze1_odd\"...\n",
      "INFO:com.PhoHale.Spike3D.pipeline:WARNING: skipping computation because overwrite_extant_results=False and active_computation_results[maze1_odd] already exists and is non-None\n",
      "INFO:com.PhoHale.Spike3D.pipeline:\t TODO: this will prevent recomputation even when the excludelist/includelist or computation function definitions change. Rework so that this is smarter.\n",
      "INFO:com.PhoHale.Spike3D.pipeline:Performing perform_action_for_all_contexts with action EvaluationActions.EVALUATE_COMPUTATIONS on filtered_session with filter named \"maze2_odd\"...\n",
      "INFO:com.PhoHale.Spike3D.pipeline:WARNING: skipping computation because overwrite_extant_results=False and active_computation_results[maze2_odd] already exists and is non-None\n",
      "INFO:com.PhoHale.Spike3D.pipeline:\t TODO: this will prevent recomputation even when the excludelist/includelist or computation function definitions change. Rework so that this is smarter.\n",
      "INFO:com.PhoHale.Spike3D.pipeline:Performing perform_action_for_all_contexts with action EvaluationActions.EVALUATE_COMPUTATIONS on filtered_session with filter named \"maze_odd\"...\n",
      "INFO:com.PhoHale.Spike3D.pipeline:WARNING: skipping computation because overwrite_extant_results=False and active_computation_results[maze_odd] already exists and is non-None\n",
      "INFO:com.PhoHale.Spike3D.pipeline:\t TODO: this will prevent recomputation even when the excludelist/includelist or computation function definitions change. Rework so that this is smarter.\n",
      "INFO:com.PhoHale.Spike3D.pipeline:Performing perform_action_for_all_contexts with action EvaluationActions.EVALUATE_COMPUTATIONS on filtered_session with filter named \"maze1_even\"...\n",
      "INFO:com.PhoHale.Spike3D.pipeline:WARNING: skipping computation because overwrite_extant_results=False and active_computation_results[maze1_even] already exists and is non-None\n",
      "INFO:com.PhoHale.Spike3D.pipeline:\t TODO: this will prevent recomputation even when the excludelist/includelist or computation function definitions change. Rework so that this is smarter.\n",
      "INFO:com.PhoHale.Spike3D.pipeline:Performing perform_action_for_all_contexts with action EvaluationActions.EVALUATE_COMPUTATIONS on filtered_session with filter named \"maze2_even\"...\n",
      "INFO:com.PhoHale.Spike3D.pipeline:WARNING: skipping computation because overwrite_extant_results=False and active_computation_results[maze2_even] already exists and is non-None\n",
      "INFO:com.PhoHale.Spike3D.pipeline:\t TODO: this will prevent recomputation even when the excludelist/includelist or computation function definitions change. Rework so that this is smarter.\n",
      "INFO:com.PhoHale.Spike3D.pipeline:Performing perform_action_for_all_contexts with action EvaluationActions.EVALUATE_COMPUTATIONS on filtered_session with filter named \"maze_even\"...\n",
      "INFO:com.PhoHale.Spike3D.pipeline:WARNING: skipping computation because overwrite_extant_results=False and active_computation_results[maze_even] already exists and is non-None\n",
      "INFO:com.PhoHale.Spike3D.pipeline:\t TODO: this will prevent recomputation even when the excludelist/includelist or computation function definitions change. Rework so that this is smarter.\n",
      "INFO:com.PhoHale.Spike3D.pipeline:Performing perform_action_for_all_contexts with action EvaluationActions.EVALUATE_COMPUTATIONS on filtered_session with filter named \"maze1_any\"...\n",
      "INFO:com.PhoHale.Spike3D.pipeline:Performing _execute_computation_functions(...) with 3 registered_computation_functions...\n",
      "INFO:com.PhoHale.Spike3D.pipeline:Executing [0/3]: <function PlacefieldComputations._perform_baseline_placefield_computation at 0x000001C8868ECCA0>\n"
     ]
    },
    {
     "name": "stdout",
     "output_type": "stream",
     "text": [
      "WARNING: skipping computation because overwrite_extant_results=False and active_computation_results[maze1_odd] already exists and is non-None\n",
      "\t TODO: this will prevent recomputation even when the excludelist/includelist or computation function definitions change. Rework so that this is smarter.\n",
      "WARNING: skipping computation because overwrite_extant_results=False and active_computation_results[maze2_odd] already exists and is non-None\n",
      "\t TODO: this will prevent recomputation even when the excludelist/includelist or computation function definitions change. Rework so that this is smarter.\n",
      "WARNING: skipping computation because overwrite_extant_results=False and active_computation_results[maze_odd] already exists and is non-None\n",
      "\t TODO: this will prevent recomputation even when the excludelist/includelist or computation function definitions change. Rework so that this is smarter.\n",
      "WARNING: skipping computation because overwrite_extant_results=False and active_computation_results[maze1_even] already exists and is non-None\n",
      "\t TODO: this will prevent recomputation even when the excludelist/includelist or computation function definitions change. Rework so that this is smarter.\n",
      "WARNING: skipping computation because overwrite_extant_results=False and active_computation_results[maze2_even] already exists and is non-None\n",
      "\t TODO: this will prevent recomputation even when the excludelist/includelist or computation function definitions change. Rework so that this is smarter.\n",
      "WARNING: skipping computation because overwrite_extant_results=False and active_computation_results[maze_even] already exists and is non-None\n",
      "\t TODO: this will prevent recomputation even when the excludelist/includelist or computation function definitions change. Rework so that this is smarter.\n",
      "due to includelist, including only 3 out of 16 registered computation functions.\n",
      "Recomputing active_epoch_placefields... \t done.\n",
      "Recomputing active_epoch_placefields2D... "
     ]
    },
    {
     "name": "stderr",
     "output_type": "stream",
     "text": [
      "INFO:com.PhoHale.Spike3D.pipeline:Executing [1/3]: <function DefaultComputationFunctions._perform_position_decoding_computation at 0x000001C8868EC280>\n"
     ]
    },
    {
     "name": "stdout",
     "output_type": "stream",
     "text": [
      "\t done.\n"
     ]
    },
    {
     "name": "stderr",
     "output_type": "stream",
     "text": [
      "INFO:com.PhoHale.Spike3D.pipeline:Executing [2/3]: <function SpikeAnalysisComputations._perform_firing_rate_trends_computation at 0x000001C886E4C820>\n"
     ]
    },
    {
     "name": "stdout",
     "output_type": "stream",
     "text": [
      "WARNING: PREVIOUSLY ASSERT: \n",
      "\t spikes_df[time_variable_name]: (596822,) should be less than time_window_edges: (2425,)!\n"
     ]
    },
    {
     "name": "stderr",
     "output_type": "stream",
     "text": [
      "INFO:com.PhoHale.Spike3D.pipeline:\t all computations complete! (Computed 3 with no errors!.\n",
      "INFO:com.PhoHale.Spike3D.pipeline:Performing perform_action_for_all_contexts with action EvaluationActions.EVALUATE_COMPUTATIONS on filtered_session with filter named \"maze2_any\"...\n",
      "INFO:com.PhoHale.Spike3D.pipeline:Performing _execute_computation_functions(...) with 3 registered_computation_functions...\n",
      "INFO:com.PhoHale.Spike3D.pipeline:Executing [0/3]: <function PlacefieldComputations._perform_baseline_placefield_computation at 0x000001C8868ECCA0>\n"
     ]
    },
    {
     "name": "stdout",
     "output_type": "stream",
     "text": [
      "WARNING: PREVIOUSLY ASSERT: \n",
      "\t spikes_df[time_variable_name]: (24188,) should be less than time_window_edges: (2397,)!\n",
      "due to includelist, including only 3 out of 16 registered computation functions.\n",
      "Recomputing active_epoch_placefields... \t done.\n",
      "Recomputing active_epoch_placefields2D... "
     ]
    },
    {
     "name": "stderr",
     "output_type": "stream",
     "text": [
      "INFO:com.PhoHale.Spike3D.pipeline:Executing [1/3]: <function DefaultComputationFunctions._perform_position_decoding_computation at 0x000001C8868EC280>\n"
     ]
    },
    {
     "name": "stdout",
     "output_type": "stream",
     "text": [
      "\t done.\n"
     ]
    },
    {
     "name": "stderr",
     "output_type": "stream",
     "text": [
      "INFO:com.PhoHale.Spike3D.pipeline:Executing [2/3]: <function SpikeAnalysisComputations._perform_firing_rate_trends_computation at 0x000001C886E4C820>\n"
     ]
    },
    {
     "name": "stdout",
     "output_type": "stream",
     "text": [
      "WARNING: PREVIOUSLY ASSERT: \n",
      "\t spikes_df[time_variable_name]: (410073,) should be less than time_window_edges: (1766,)!\n"
     ]
    },
    {
     "name": "stderr",
     "output_type": "stream",
     "text": [
      "INFO:com.PhoHale.Spike3D.pipeline:\t all computations complete! (Computed 3 with no errors!.\n",
      "INFO:com.PhoHale.Spike3D.pipeline:Performing perform_action_for_all_contexts with action EvaluationActions.EVALUATE_COMPUTATIONS on filtered_session with filter named \"maze_any\"...\n",
      "INFO:com.PhoHale.Spike3D.pipeline:Performing _execute_computation_functions(...) with 3 registered_computation_functions...\n",
      "INFO:com.PhoHale.Spike3D.pipeline:Executing [0/3]: <function PlacefieldComputations._perform_baseline_placefield_computation at 0x000001C8868ECCA0>\n"
     ]
    },
    {
     "name": "stdout",
     "output_type": "stream",
     "text": [
      "WARNING: PREVIOUSLY ASSERT: \n",
      "\t spikes_df[time_variable_name]: (22691,) should be less than time_window_edges: (1664,)!\n",
      "due to includelist, including only 3 out of 16 registered computation functions.\n",
      "Recomputing active_epoch_placefields... \t done.\n",
      "Recomputing active_epoch_placefields2D... "
     ]
    },
    {
     "name": "stderr",
     "output_type": "stream",
     "text": [
      "INFO:com.PhoHale.Spike3D.pipeline:Executing [1/3]: <function DefaultComputationFunctions._perform_position_decoding_computation at 0x000001C8868EC280>\n"
     ]
    },
    {
     "name": "stdout",
     "output_type": "stream",
     "text": [
      "\t done.\n"
     ]
    },
    {
     "name": "stderr",
     "output_type": "stream",
     "text": [
      "INFO:com.PhoHale.Spike3D.pipeline:Executing [2/3]: <function SpikeAnalysisComputations._perform_firing_rate_trends_computation at 0x000001C886E4C820>\n"
     ]
    },
    {
     "name": "stdout",
     "output_type": "stream",
     "text": [
      "WARNING: PREVIOUSLY ASSERT: \n",
      "\t spikes_df[time_variable_name]: (1006895,) should be less than time_window_edges: (4189,)!\n"
     ]
    },
    {
     "name": "stderr",
     "output_type": "stream",
     "text": [
      "INFO:com.PhoHale.Spike3D.pipeline:\t all computations complete! (Computed 3 with no errors!.\n",
      "INFO:com.PhoHale.Spike3D.pipeline:Performing global computations...\n",
      "INFO:com.PhoHale.Spike3D.pipeline:NeuropyPipeline.on_stage_changed(new_stage=\"PipelineStage.Displayed\")\n",
      "INFO:com.PhoHale.Spike3D.pipeline:save_pipeline(): Attempting to save pipeline to disk...\n",
      "INFO:com.PhoHale.Spike3D.pipeline:\tfinalized_loaded_sess_pickle_path: W:\\Data\\KDIBA\\gor01\\one\\2006-6-08_14-26-15\\loadedSessPickle.pkl\n"
     ]
    },
    {
     "name": "stdout",
     "output_type": "stream",
     "text": [
      "WARNING: PREVIOUSLY ASSERT: \n",
      "\t spikes_df[time_variable_name]: (46879,) should be less than time_window_edges: (4128,)!\n",
      "finalized_loaded_sess_pickle_path: W:\\Data\\KDIBA\\gor01\\one\\2006-6-08_14-26-15\\loadedSessPickle.pkl\n",
      "Saving (file mode 'None') saved session pickle file results : None... "
     ]
    },
    {
     "name": "stderr",
     "output_type": "stream",
     "text": [
      "WARNING:com.PhoHale.Spike3D.pipeline:WARNING: prev_extant_file_size_MB (7402.150910377502 MB) > new_temporary_file_size_MB (7402.150835990906 MB)! A backup will be made!\n"
     ]
    },
    {
     "name": "stdout",
     "output_type": "stream",
     "text": [
      "done.\n",
      "WARNING: prev_extant_file_size_MB (7402.150910377502 MB) > new_temporary_file_size_MB (7402.150835990906 MB)! A backup will be made!\n",
      "'W:\\Data\\KDIBA\\gor01\\one\\2006-6-08_14-26-15\\loadedSessPickle.pkl' backing up -> to_file: 'W:\\Data\\KDIBA\\gor01\\one\\2006-6-08_14-26-15\\backup-20231210213517-loadedSessPickle.pkl.bak'\n"
     ]
    },
    {
     "name": "stderr",
     "output_type": "stream",
     "text": [
      "INFO:com.PhoHale.Spike3D.pipeline:moving new output at 'W:\\Data\\KDIBA\\gor01\\one\\2006-6-08_14-26-15\\20231210213505-loadedSessPickle.pkl' -> to desired location: 'W:\\Data\\KDIBA\\gor01\\one\\2006-6-08_14-26-15\\loadedSessPickle.pkl'\n"
     ]
    },
    {
     "name": "stdout",
     "output_type": "stream",
     "text": [
      "moving new output at 'W:\\Data\\KDIBA\\gor01\\one\\2006-6-08_14-26-15\\20231210213505-loadedSessPickle.pkl' -> to desired location: 'W:\\Data\\KDIBA\\gor01\\one\\2006-6-08_14-26-15\\loadedSessPickle.pkl'\n"
     ]
    },
    {
     "name": "stderr",
     "output_type": "stream",
     "text": [
      "INFO:com.PhoHale.Spike3D.pipeline:\t save complete.\n",
      "INFO:com.PhoHale.Spike3D.pipeline:save_pipeline(): Attempting to save pipeline to disk...\n",
      "INFO:com.PhoHale.Spike3D.pipeline:\tfinalized_loaded_sess_pickle_path: W:\\Data\\KDIBA\\gor01\\one\\2006-6-08_14-26-15\\loadedSessPickle.pkl\n"
     ]
    },
    {
     "name": "stdout",
     "output_type": "stream",
     "text": [
      "DEPRICATION WARNING: workaround to allow subscripting ComputationResult objects. Will be depricated. key: computed_data\n",
      "DEPRICATION WARNING: workaround to allow subscripting ComputationResult objects. Will be depricated. key: computed_data\n",
      "DEPRICATION WARNING: workaround to allow subscripting ComputationResult objects. Will be depricated. key: computed_data\n",
      "DEPRICATION WARNING: workaround to allow subscripting ComputationResult objects. Will be depricated. key: computed_data\n",
      "DEPRICATION WARNING: workaround to allow subscripting ComputationResult objects. Will be depricated. key: computed_data\n",
      "DEPRICATION WARNING: workaround to allow subscripting ComputationResult objects. Will be depricated. key: computed_data\n",
      "were pipeline preprocessing parameters missing and updated?: False\n",
      "WARNING: filtered_contexts['maze1_odd']'s actual context name is incorrect. \n",
      "\ta_filtered_ctxt.filter_name: 'maze2' != desired_filter_name: 'maze1_odd'\n",
      "\tUpdating it. (THIS IS A HACK)\n",
      "WARNING: filtered_contexts['maze2_odd']'s actual context name is incorrect. \n",
      "\ta_filtered_ctxt.filter_name: 'maze2' != desired_filter_name: 'maze2_odd'\n",
      "\tUpdating it. (THIS IS A HACK)\n",
      "WARNING: filtered_contexts['maze_odd']'s actual context name is incorrect. \n",
      "\ta_filtered_ctxt.filter_name: 'maze' != desired_filter_name: 'maze_odd'\n",
      "\tUpdating it. (THIS IS A HACK)\n",
      "WARNING: filtered_contexts['maze1_even']'s actual context name is incorrect. \n",
      "\ta_filtered_ctxt.filter_name: 'maze2' != desired_filter_name: 'maze1_even'\n",
      "\tUpdating it. (THIS IS A HACK)\n",
      "WARNING: filtered_contexts['maze2_even']'s actual context name is incorrect. \n",
      "\ta_filtered_ctxt.filter_name: 'maze2' != desired_filter_name: 'maze2_even'\n",
      "\tUpdating it. (THIS IS A HACK)\n",
      "WARNING: filtered_contexts['maze_even']'s actual context name is incorrect. \n",
      "\ta_filtered_ctxt.filter_name: 'maze' != desired_filter_name: 'maze_even'\n",
      "\tUpdating it. (THIS IS A HACK)\n",
      "WARNING: filtered_contexts['maze1_any']'s actual context name is incorrect. \n",
      "\ta_filtered_ctxt.filter_name: 'maze2' != desired_filter_name: 'maze1_any'\n",
      "\tUpdating it. (THIS IS A HACK)\n",
      "WARNING: filtered_contexts['maze2_any']'s actual context name is incorrect. \n",
      "\ta_filtered_ctxt.filter_name: 'maze2' != desired_filter_name: 'maze2_any'\n",
      "\tUpdating it. (THIS IS A HACK)\n",
      "WARNING: filtered_contexts['maze_any']'s actual context name is incorrect. \n",
      "\ta_filtered_ctxt.filter_name: 'maze' != desired_filter_name: 'maze_any'\n",
      "\tUpdating it. (THIS IS A HACK)\n",
      "was_updated: True\n",
      "finalized_loaded_sess_pickle_path: W:\\Data\\KDIBA\\gor01\\one\\2006-6-08_14-26-15\\loadedSessPickle.pkl\n",
      "Saving (file mode 'None') saved session pickle file results : None... "
     ]
    },
    {
     "name": "stderr",
     "output_type": "stream",
     "text": [
      "INFO:com.PhoHale.Spike3D.pipeline:moving new output at 'W:\\Data\\KDIBA\\gor01\\one\\2006-6-08_14-26-15\\20231210213529-loadedSessPickle.pkl' -> to desired location: 'W:\\Data\\KDIBA\\gor01\\one\\2006-6-08_14-26-15\\loadedSessPickle.pkl'\n"
     ]
    },
    {
     "name": "stdout",
     "output_type": "stream",
     "text": [
      "done.\n",
      "moving new output at 'W:\\Data\\KDIBA\\gor01\\one\\2006-6-08_14-26-15\\20231210213529-loadedSessPickle.pkl' -> to desired location: 'W:\\Data\\KDIBA\\gor01\\one\\2006-6-08_14-26-15\\loadedSessPickle.pkl'\n"
     ]
    },
    {
     "name": "stderr",
     "output_type": "stream",
     "text": [
      "INFO:com.PhoHale.Spike3D.pipeline:\t save complete.\n"
     ]
    }
   ],
   "source": [
    "# ==================================================================================================================== #\n",
    "# Load Data                                                                                                            #\n",
    "# ==================================================================================================================== #\n",
    "\n",
    "active_data_mode_name = 'kdiba'\n",
    "local_session_root_parent_context = IdentifyingContext(format_name=active_data_mode_name) # , animal_name='', configuration_name='one', session_name=a_sess.session_name\n",
    "local_session_root_parent_path = global_data_root_parent_path.joinpath('KDIBA')\n",
    "\n",
    "# [*] - indicates bad or session with a problem\n",
    "# 0, 1, 2, 3, 4, 5, 6, 7, [8], [9], 10, 11, [12], 13, 14, [15], [16], 17, \n",
    "# curr_context: IdentifyingContext = good_contexts_list[1] # select the session from all of the good sessions here.\n",
    "curr_context = IdentifyingContext(format_name='kdiba',animal='gor01',exper_name='one',session_name='2006-6-08_14-26-15') # DONE. Very good. Many good Pfs, many good replays.\n",
    "# curr_context = IdentifyingContext(format_name='kdiba',animal='gor01',exper_name='one',session_name='2006-6-09_1-22-43') # DONE, might be the BEST SESSION, good example session with lots of place cells, clean replays, and clear bar graphs.\n",
    "# curr_context = IdentifyingContext(format_name='kdiba',animal='gor01',exper_name='one',session_name='2006-6-12_15-55-31') # DONE, Good Pfs but no good replays\n",
    "# curr_context = IdentifyingContext(format_name='kdiba',animal='gor01',exper_name='one',session_name='2006-6-13_14-42-6') # BAD, 2023-07-14, unsure why still.\n",
    "# curr_context = IdentifyingContext(format_name='kdiba',animal='gor01',exper_name='two',session_name='2006-6-07_16-40-19') # DONE, GREAT, both good Pfs and replays!\n",
    "# curr_context = IdentifyingContext(format_name='kdiba',animal='gor01',exper_name='two',session_name='2006-6-08_21-16-25') # DONE, Added replay selections. Very \"jumpy\" between the starts and ends of the track.\n",
    "# curr_context = IdentifyingContext(format_name='kdiba',animal='gor01',exper_name='two',session_name='2006-6-09_22-24-40') # DONE, Added replay selections. A TON of putative replays in general, most bad, but some good.\n",
    "# curr_context = IdentifyingContext(format_name='kdiba',animal='gor01',exper_name='two',session_name='2006-6-12_16-53-46') # DONE, added replay selections. Very few (like 12) replays each.\n",
    "# curr_context = IdentifyingContext(format_name='kdiba',animal='gor01',exper_name='two',session_name='2006-6-13_15-22-3') # DONE, Good Pfs, no good epochs.\n",
    "# curr_context = IdentifyingContext(format_name='kdiba',animal='vvp01',exper_name='one',session_name='2006-4-09_17-29-30') # DONE, okay replays (selected)\n",
    "# curr_context = IdentifyingContext(format_name='kdiba',animal='vvp01',exper_name='one',session_name='2006-4-10_12-25-50') # DONE, very few replays (selected)\n",
    "# curr_context = IdentifyingContext(format_name='kdiba',animal='vvp01',exper_name='one',session_name='2006-4-19_13-34-40') # BAD\n",
    "# curr_context = IdentifyingContext(format_name='kdiba',animal='vvp01',exper_name='two',session_name='2006-4-09_16-40-54') # DONE, one replay each (selected)\n",
    "# curr_context = IdentifyingContext(format_name='kdiba',animal='vvp01',exper_name='two',session_name='2006-4-10_12-58-3') # BAD, Good Pfs strangely despite horrible map, no good epochs\n",
    "# curr_context = IdentifyingContext(format_name='kdiba',animal='vvp01',exper_name='two',session_name='2006-4-12_15-25-59') # BAD, No Epochs\n",
    "# curr_context = IdentifyingContext(format_name='kdiba',animal='vvp01',exper_name='two',session_name='2006-4-16_18-47-52')\n",
    "# curr_context = IdentifyingContext(format_name='kdiba',animal='vvp01',exper_name='two',session_name='2006-4-17_12-52-15')\n",
    "# curr_context = IdentifyingContext(format_name='kdiba',animal='vvp01',exper_name='two',session_name='2006-4-25_13-20-55')\n",
    "# curr_context = IdentifyingContext(format_name='kdiba',animal='vvp01',exper_name='two',session_name='2006-4-28_12-38-13')\n",
    "# curr_context = IdentifyingContext(format_name='kdiba',animal='pin01',exper_name='one',session_name='11-02_17-46-44') # DONE, good. Many good pfs, many good replays. Noticed very strange jumping off the track in the 3D behavior/spikes viewer. Is there something wrong with this session?\n",
    "# curr_context = IdentifyingContext(format_name='kdiba',animal='pin01',exper_name='one',session_name='11-02_19-28-0') # DONE, good?, replays selected, few\n",
    "# curr_context = IdentifyingContext(format_name='kdiba',animal='pin01',exper_name='one',session_name='11-03_12-3-25') # DONE, very few replays\n",
    "# curr_context = IdentifyingContext(format_name='kdiba',animal='pin01',exper_name='one',session_name='11-09_12-15-3')\n",
    "# curr_context = IdentifyingContext(format_name='kdiba',animal='pin01',exper_name='one',session_name='11-09_22-4-5')\n",
    "# curr_context = IdentifyingContext(format_name='kdiba',animal='pin01',exper_name='one',session_name='fet11-01_12-58-54') # DONE, replays selected, quite a few replays but few are very good.\n",
    "\n",
    "# curr_context = IdentifyingContext(format_name='kdiba',animal='gor01',exper_name='two',session_name='2006-6-08_21-16-25')\n",
    "\n",
    "local_session_parent_path: Path = local_session_root_parent_path.joinpath(curr_context.animal, curr_context.exper_name) # 'gor01', 'one' - probably not needed anymore\n",
    "basedir: Path = local_session_parent_path.joinpath(curr_context.session_name).resolve()\n",
    "print(f'basedir: {str(basedir)}')\n",
    "\n",
    "# Read if possible:\n",
    "saving_mode = PipelineSavingScheme.SKIP_SAVING\n",
    "force_reload = False\n",
    "\n",
    "# # Force write:\n",
    "# saving_mode = PipelineSavingScheme.TEMP_THEN_OVERWRITE\n",
    "# saving_mode = PipelineSavingScheme.OVERWRITE_IN_PLACE\n",
    "# force_reload = True\n",
    "\n",
    "## TODO: if loading is not possible, we need to change the `saving_mode` so that the new results are properly saved.\n",
    "\n",
    "# ==================================================================================================================== #\n",
    "# Load Pipeline                                                                                                        #\n",
    "# ==================================================================================================================== #\n",
    "# with VizTracer(output_file=f\"viztracer_{get_now_time_str()}-full_session_LOO_decoding_analysis.json\", min_duration=200, tracer_entries=3000000, ignore_frozen=True) as tracer:\n",
    "# epoch_name_includelist = ['maze']\n",
    "epoch_name_includelist = None\n",
    "active_computation_functions_name_includelist=['pf_computation',\n",
    "                                            #    'pfdt_computation',\n",
    "                                                'firing_rate_trends',\n",
    "                                                # 'pf_dt_sequential_surprise', \n",
    "                                            #    'ratemap_peaks_prominence2d',\n",
    "                                                'position_decoding', \n",
    "                                                # 'position_decoding_two_step', \n",
    "                                            #    'long_short_decoding_analyses', 'jonathan_firing_rate_analysis', 'long_short_fr_indicies_analyses', 'short_long_pf_overlap_analyses', 'long_short_post_decoding', 'long_short_rate_remapping',\n",
    "                                            #     'long_short_inst_spike_rate_groups',\n",
    "                                            #     'long_short_endcap_analysis',\n",
    "                                            # 'split_to_directional_laps',\n",
    "]\n",
    "\n",
    "curr_active_pipeline: NeuropyPipeline = batch_load_session(global_data_root_parent_path, active_data_mode_name, basedir, epoch_name_includelist=epoch_name_includelist,\n",
    "                                        computation_functions_name_includelist=active_computation_functions_name_includelist,\n",
    "                                        saving_mode=saving_mode, force_reload=force_reload,\n",
    "                                        skip_extended_batch_computations=True, debug_print=False, fail_on_exception=True) # , active_pickle_filename = 'loadedSessPickle_withParameters.pkl'\n",
    "\n",
    "\n",
    "\n",
    "## Post Compute Validate 2023-05-16:\n",
    "was_updated = BatchSessionCompletionHandler.post_compute_validate(curr_active_pipeline) ## TODO: need to potentially re-save if was_updated. This will fail because constained versions not ran yet.\n",
    "if was_updated:\n",
    "    print(f'was_updated: {was_updated}')\n",
    "    try:\n",
    "        curr_active_pipeline.save_pipeline(saving_mode=saving_mode)\n",
    "    except Exception as e:\n",
    "        ## TODO: catch/log saving error and indicate that it isn't saved.\n",
    "        exception_info = sys.exc_info()\n",
    "        e = CapturedException(e, exception_info)\n",
    "        print(f'ERROR RE-SAVING PIPELINE after update. error: {e}')\n"
   ]
  },
  {
   "cell_type": "code",
   "execution_count": 3,
   "id": "acba46b6",
   "metadata": {
    "ExecuteTime": {
     "end_time": "2023-11-16T23:21:40.574268400Z",
     "start_time": "2023-11-16T23:21:35.966373700Z"
    },
    "notebookRunGroups": {
     "groupValue": "1"
    }
   },
   "outputs": [
    {
     "name": "stdout",
     "output_type": "stream",
     "text": [
      "included includelist is specified: ['pf_computation', 'firing_rate_trends', 'long_short_decoding_analyses', 'jonathan_firing_rate_analysis', 'long_short_fr_indicies_analyses', 'short_long_pf_overlap_analyses', 'long_short_post_decoding', 'long_short_endcap_analysis', 'split_to_directional_laps', 'rank_order_shuffle_analysis'], so only performing these extended computations.\n",
      "Running batch_extended_computations(...) with global_epoch_name: \"maze_any\"\n",
      "pf_computation, maze_any already computed.\n",
      "\tforce_recompute is true so recomputing anyway\n",
      "pf_computation missing.\n",
      "\t Recomputing pf_computation...\n",
      "Performing run_specific_computations_single_context on filtered_session with filter named \"maze1_odd\"...\n",
      "Recomputing active_epoch_placefields... \t done.\n",
      "Recomputing active_epoch_placefields2D... \t done.\n",
      "Performing run_specific_computations_single_context on filtered_session with filter named \"maze2_odd\"...\n",
      "Recomputing active_epoch_placefields... \t done.\n",
      "Recomputing active_epoch_placefields2D... \t done.\n",
      "Performing run_specific_computations_single_context on filtered_session with filter named \"maze_odd\"...\n",
      "Recomputing active_epoch_placefields... \t done.\n",
      "Recomputing active_epoch_placefields2D... \t done.\n",
      "Performing run_specific_computations_single_context on filtered_session with filter named \"maze1_even\"...\n",
      "Recomputing active_epoch_placefields... \t done.\n",
      "Recomputing active_epoch_placefields2D... \t done.\n",
      "Performing run_specific_computations_single_context on filtered_session with filter named \"maze2_even\"...\n",
      "Recomputing active_epoch_placefields... \t done.\n",
      "Recomputing active_epoch_placefields2D... \t done.\n",
      "Performing run_specific_computations_single_context on filtered_session with filter named \"maze_even\"...\n",
      "Recomputing active_epoch_placefields... \t done.\n",
      "Recomputing active_epoch_placefields2D... \t done.\n",
      "Performing run_specific_computations_single_context on filtered_session with filter named \"maze1_any\"...\n",
      "Recomputing active_epoch_placefields... \t done.\n",
      "Recomputing active_epoch_placefields2D... \t done.\n",
      "Performing run_specific_computations_single_context on filtered_session with filter named \"maze2_any\"...\n",
      "Recomputing active_epoch_placefields... \t done.\n",
      "Recomputing active_epoch_placefields2D... \t done.\n",
      "Performing run_specific_computations_single_context on filtered_session with filter named \"maze_any\"...\n",
      "Recomputing active_epoch_placefields... \t done.\n",
      "Recomputing active_epoch_placefields2D... \t done.\n",
      "\t done.\n",
      "firing_rate_trends, maze_any already computed.\n",
      "\tforce_recompute is true so recomputing anyway\n",
      "firing_rate_trends missing.\n",
      "\t Recomputing firing_rate_trends...\n",
      "Performing run_specific_computations_single_context on filtered_session with filter named \"maze1_odd\"...\n",
      "WARNING: PREVIOUSLY ASSERT: \n",
      "\t spikes_df[time_variable_name]: (596822,) should be less than time_window_edges: (2425,)!\n",
      "WARNING: PREVIOUSLY ASSERT: \n",
      "\t spikes_df[time_variable_name]: (12949,) should be less than time_window_edges: (2345,)!\n",
      "Performing run_specific_computations_single_context on filtered_session with filter named \"maze2_odd\"...\n",
      "WARNING: PREVIOUSLY ASSERT: \n",
      "\t spikes_df[time_variable_name]: (410073,) should be less than time_window_edges: (1766,)!\n",
      "WARNING: PREVIOUSLY ASSERT: \n",
      "\t spikes_df[time_variable_name]: (11652,) should be less than time_window_edges: (1622,)!\n",
      "Performing run_specific_computations_single_context on filtered_session with filter named \"maze_odd\"...\n",
      "WARNING: PREVIOUSLY ASSERT: \n",
      "\t spikes_df[time_variable_name]: (1006895,) should be less than time_window_edges: (4189,)!\n",
      "WARNING: PREVIOUSLY ASSERT: \n",
      "\t spikes_df[time_variable_name]: (24601,) should be less than time_window_edges: (4075,)!\n",
      "Performing run_specific_computations_single_context on filtered_session with filter named \"maze1_even\"...\n",
      "WARNING: PREVIOUSLY ASSERT: \n",
      "\t spikes_df[time_variable_name]: (596822,) should be less than time_window_edges: (2425,)!\n",
      "WARNING: PREVIOUSLY ASSERT: \n",
      "\t spikes_df[time_variable_name]: (11239,) should be less than time_window_edges: (2365,)!\n",
      "Performing run_specific_computations_single_context on filtered_session with filter named \"maze2_even\"...\n",
      "WARNING: PREVIOUSLY ASSERT: \n",
      "\t spikes_df[time_variable_name]: (410073,) should be less than time_window_edges: (1766,)!\n",
      "WARNING: PREVIOUSLY ASSERT: \n",
      "\t spikes_df[time_variable_name]: (11039,) should be less than time_window_edges: (1610,)!\n",
      "Performing run_specific_computations_single_context on filtered_session with filter named \"maze_even\"...\n",
      "WARNING: PREVIOUSLY ASSERT: \n",
      "\t spikes_df[time_variable_name]: (1006895,) should be less than time_window_edges: (4189,)!\n",
      "WARNING: PREVIOUSLY ASSERT: \n",
      "\t spikes_df[time_variable_name]: (22278,) should be less than time_window_edges: (4075,)!\n",
      "Performing run_specific_computations_single_context on filtered_session with filter named \"maze1_any\"...\n",
      "WARNING: PREVIOUSLY ASSERT: \n",
      "\t spikes_df[time_variable_name]: (596822,) should be less than time_window_edges: (2425,)!\n",
      "WARNING: PREVIOUSLY ASSERT: \n",
      "\t spikes_df[time_variable_name]: (24188,) should be less than time_window_edges: (2397,)!\n",
      "Performing run_specific_computations_single_context on filtered_session with filter named \"maze2_any\"...\n",
      "WARNING: PREVIOUSLY ASSERT: \n",
      "\t spikes_df[time_variable_name]: (410073,) should be less than time_window_edges: (1766,)!\n",
      "WARNING: PREVIOUSLY ASSERT: \n",
      "\t spikes_df[time_variable_name]: (22691,) should be less than time_window_edges: (1664,)!\n",
      "Performing run_specific_computations_single_context on filtered_session with filter named \"maze_any\"...\n",
      "WARNING: PREVIOUSLY ASSERT: \n",
      "\t spikes_df[time_variable_name]: (1006895,) should be less than time_window_edges: (4189,)!\n",
      "WARNING: PREVIOUSLY ASSERT: \n",
      "\t spikes_df[time_variable_name]: (46879,) should be less than time_window_edges: (4128,)!\n",
      "\t done.\n",
      "split_to_directional_laps missing.\n",
      "\t Recomputing split_to_directional_laps...\n",
      "WARN: _split_to_directional_laps(...): include_includelist: ['maze1_odd', 'maze2_odd', 'maze_odd', 'maze1_even', 'maze2_even', 'maze_even', 'maze1_any', 'maze2_any', 'maze_any'] is specified but include_includelist is currently ignored! Continuing with defaults.\n",
      "build_global_directional_result_from_natural_epochs(...): was_modified: False\n",
      "n_neurons: 36, shared_aclus: [  5   7   9  31  32  36  41  45  48  50  51  53  55  57  59  61  62  63  64  69  75  76  78  81  83  84  86  88  89  90  92  93  98 100 102 108]\n",
      "\t done.\n",
      "rank_order_shuffle_analysis missing.\n",
      "\t Recomputing rank_order_shuffle_analysis...\n",
      "WARN: perform_rank_order_shuffle_analysis(...): include_includelist: ['maze1_odd', 'maze2_odd', 'maze_odd', 'maze1_even', 'maze2_even', 'maze_even', 'maze1_any', 'maze2_any', 'maze_any'] is specified but include_includelist is currently ignored! Continuing with defaults.\n",
      "perform_rank_order_shuffle_analysis(..., num_shuffles=1000)\n",
      "\tcomputing Laps rank-order shuffles:\n",
      "\t\tnum_shuffles: 1000, minimum_inclusion_fr_Hz: 2.0 Hz\n",
      "WARN: .trim_overlapping_laps(...): need to recompute  ['start_position_index', 'end_position_index', 'start_spike_index', 'end_spike_index', 'num_spikes'] for the laps after calling self.trim_overlapping_laps()!\n",
      "laps_paired_tests: [TtestResult(statistic=13.918975230678521, pvalue=5.863844183728567e-23, df=79), TtestResult(statistic=9.710140982864258, pvalue=4.0230423771872805e-15, df=79)]\n",
      "\tcomputing Ripple rank-order shuffles:\n",
      "ripple_evts_paired_tests: [TtestResult(statistic=-3.5360764761480983, pvalue=0.0004403707109048731, df=550), TtestResult(statistic=0.13074161848791177, pvalue=0.8960275138590565, df=550)]\n",
      "\tdone. building global result.\n",
      "DEPRICATION WARNING: workaround to allow subscripting ComputationResult objects. Will be depricated. key: computed_data\n",
      "DEPRICATION WARNING: workaround to allow subscripting ComputationResult objects. Will be depricated. key: computed_data\n",
      "DEPRICATION WARNING: workaround to allow subscripting ComputationResult objects. Will be depricated. key: computed_data\n",
      "DEPRICATION WARNING: workaround to allow subscripting ComputationResult objects. Will be depricated. key: computed_data\n"
     ]
    },
    {
     "name": "stderr",
     "output_type": "stream",
     "text": [
      "C:\\Users\\pho\\repos\\Spike3DWorkEnv\\pyPhoPlaceCellAnalysis\\src\\pyphoplacecellanalysis\\Analysis\\Decoder\\reconstruction.py:330: RuntimeWarning: invalid value encountered in divide\n",
      "  posterior /= np.sum(posterior, axis=0) # C(tau, n) = np.sum(posterior, axis=0): normalization condition mentioned in eqn 36 to convert to P_x_given_n\n",
      "C:\\Users\\pho\\repos\\Spike3DWorkEnv\\pyPhoPlaceCellAnalysis\\src\\pyphoplacecellanalysis\\Analysis\\Decoder\\reconstruction.py:330: RuntimeWarning: invalid value encountered in divide\n",
      "  posterior /= np.sum(posterior, axis=0) # C(tau, n) = np.sum(posterior, axis=0): normalization condition mentioned in eqn 36 to convert to P_x_given_n\n"
     ]
    },
    {
     "name": "stdout",
     "output_type": "stream",
     "text": [
      "Exception occured while computing (`perform_specific_computation(...)`) or validating (`validate_computation_test(...)`) after recomputation:\n",
      " Inner exception: operands could not be broadcast together with shapes (611,) (551,) (551,) \n",
      "long_short_decoding_analyses missing.\n",
      "\t Recomputing long_short_decoding_analyses...\n",
      "DEPRICATION WARNING: workaround to allow subscripting ComputationResult objects. Will be depricated. key: computed_data\n",
      "DEPRICATION WARNING: workaround to allow subscripting ComputationResult objects. Will be depricated. key: computed_data\n",
      "DEPRICATION WARNING: workaround to allow subscripting ComputationResult objects. Will be depricated. key: computed_data\n",
      "DEPRICATION WARNING: workaround to allow subscripting ComputationResult objects. Will be depricated. key: computed_data\n",
      "DEPRICATION WARNING: workaround to allow subscripting ComputationResult objects. Will be depricated. key: computed_data\n",
      "DEPRICATION WARNING: workaround to allow subscripting ComputationResult objects. Will be depricated. key: computed_data\n",
      "`is_certain_properly_constrained`: True - Correctly initialized pipelines (pfs limited to laps, decoders already long/short constrainted by default, replays already the estimated versions\n",
      "DEPRICATION WARNING: workaround to allow subscripting ComputationResult objects. Will be depricated. key: computed_data\n",
      "DEPRICATION WARNING: workaround to allow subscripting ComputationResult objects. Will be depricated. key: computed_data\n",
      "DEPRICATION WARNING: workaround to allow subscripting ComputationResult objects. Will be depricated. key: computed_data\n",
      "reusing extant decoder.\n",
      "USING EXISTING original_1D_decoder.\n"
     ]
    },
    {
     "name": "stderr",
     "output_type": "stream",
     "text": [
      "c:\\Users\\pho\\repos\\Spike3DWorkEnv\\Spike3D\\.venv\\lib\\site-packages\\scipy\\spatial\\distance.py:1259: RuntimeWarning: invalid value encountered in sqrt\n",
      "  return np.sqrt(js / 2.0)\n"
     ]
    },
    {
     "name": "stdout",
     "output_type": "stream",
     "text": [
      "(n_neurons = 63, n_all_epoch_timebins = 2178)\n",
      "reusing extant decoder.\n",
      "USING EXISTING original_1D_decoder.\n"
     ]
    },
    {
     "name": "stderr",
     "output_type": "stream",
     "text": [
      "c:\\Users\\pho\\repos\\Spike3DWorkEnv\\Spike3D\\.venv\\lib\\site-packages\\scipy\\spatial\\distance.py:1259: RuntimeWarning: invalid value encountered in sqrt\n",
      "  return np.sqrt(js / 2.0)\n"
     ]
    },
    {
     "name": "stdout",
     "output_type": "stream",
     "text": [
      "(n_neurons = 63, n_all_epoch_timebins = 2178)\n",
      "\t done.\n",
      "short_long_pf_overlap_analyses missing.\n",
      "\t Recomputing short_long_pf_overlap_analyses...\n",
      "DEPRICATION WARNING: workaround to allow subscripting ComputationResult objects. Will be depricated. key: computed_data\n",
      "DEPRICATION WARNING: workaround to allow subscripting ComputationResult objects. Will be depricated. key: computed_data\n",
      "\t done.\n",
      "long_short_fr_indicies_analyses missing.\n",
      "\t Recomputing long_short_fr_indicies_analyses...\n"
     ]
    },
    {
     "name": "stderr",
     "output_type": "stream",
     "text": [
      "C:\\Users\\pho\\repos\\Spike3DWorkEnv\\pyPhoPlaceCellAnalysis\\src\\pyphoplacecellanalysis\\General\\Pipeline\\Stages\\ComputationFunctions\\MultiContextComputationFunctions\\LongShortTrackComputations.py:2558: RuntimeWarning: invalid value encountered in divide\n",
      "  normalized_convolved_result_subset = convolved_result_subset / convolved_result_subset_area\n"
     ]
    },
    {
     "name": "stdout",
     "output_type": "stream",
     "text": [
      "pipeline_complete_compute_long_short_fr_indicies is lacking a required computation config parameter! creating a new curr_active_pipeline.global_computation_results.computation_config\n"
     ]
    },
    {
     "name": "stderr",
     "output_type": "stream",
     "text": [
      "C:\\Users\\pho\\repos\\Spike3DWorkEnv\\NeuroPy\\neuropy\\utils\\efficient_interval_search.py:650: RuntimeWarning: divide by zero encountered in double_scalars\n",
      "  epoch_split_spike_dfs_aclu_firingrates_Hz = [{an_aclu:(float(a_count)/trimmed_epoch_duration) for an_aclu, a_count in a_spike_count_dict.items()} for trimmed_epoch_duration, a_spike_count_dict in zip(spike_trimmed_active_epochs.durations, epoch_split_spike_dfs_aclu_spikecounts)] # just the non-zero aclus values: e.g. {108: 16.582832394938322, 36: 16.582832394938322, 34: 16.582832394938322, 66: 16.582832394938322, 58: 12.437124296203741, 74: 12.437124296203741, 51: 12.437124296203741, 23: 8.291416197469161, 57: 8.291416197469161, 32: 8.291416197469161, 63: 8.291416197469161, 11: 8.291416197469161, 73: 8.291416197469161, 88: 8.291416197469161, 16: 8.291416197469161, 31: 8.291416197469161, 13: 4.1457080987345805, 27: 4.1457080987345805, 10: 4.1457080987345805, 19: 4.1457080987345805, 25: 4.1457080987345805, 62: 4.1457080987345805, 59: 4.1457080987345805, 21: 4.1457080987345805, 98: 4.1457080987345805, 14: 4.1457080987345805}\n",
      "C:\\Users\\pho\\repos\\Spike3DWorkEnv\\NeuroPy\\neuropy\\utils\\efficient_interval_search.py:650: RuntimeWarning: divide by zero encountered in double_scalars\n",
      "  epoch_split_spike_dfs_aclu_firingrates_Hz = [{an_aclu:(float(a_count)/trimmed_epoch_duration) for an_aclu, a_count in a_spike_count_dict.items()} for trimmed_epoch_duration, a_spike_count_dict in zip(spike_trimmed_active_epochs.durations, epoch_split_spike_dfs_aclu_spikecounts)] # just the non-zero aclus values: e.g. {108: 16.582832394938322, 36: 16.582832394938322, 34: 16.582832394938322, 66: 16.582832394938322, 58: 12.437124296203741, 74: 12.437124296203741, 51: 12.437124296203741, 23: 8.291416197469161, 57: 8.291416197469161, 32: 8.291416197469161, 63: 8.291416197469161, 11: 8.291416197469161, 73: 8.291416197469161, 88: 8.291416197469161, 16: 8.291416197469161, 31: 8.291416197469161, 13: 4.1457080987345805, 27: 4.1457080987345805, 10: 4.1457080987345805, 19: 4.1457080987345805, 25: 4.1457080987345805, 62: 4.1457080987345805, 59: 4.1457080987345805, 21: 4.1457080987345805, 98: 4.1457080987345805, 14: 4.1457080987345805}\n"
     ]
    },
    {
     "name": "stdout",
     "output_type": "stream",
     "text": [
      "_generalized_compute_long_short_firing_rate_indicies(...): processing key: \"laps\"\n",
      "_generalized_compute_long_short_firing_rate_indicies(...): processing key: \"replays\"\n",
      "_generalized_compute_long_short_firing_rate_indicies(...): processing key: \"non_replays\"\n",
      "\t done.\n",
      "jonathan_firing_rate_analysis missing.\n",
      "\t Recomputing jonathan_firing_rate_analysis...\n",
      "DEPRICATION WARNING: workaround to allow subscripting ComputationResult objects. Will be depricated. key: computed_data\n",
      "DEPRICATION WARNING: workaround to allow subscripting ComputationResult objects. Will be depricated. key: computed_data\n",
      "DEPRICATION WARNING: workaround to allow subscripting ComputationResult objects. Will be depricated. key: computed_data\n",
      "DEPRICATION WARNING: workaround to allow subscripting ComputationResult objects. Will be depricated. key: computed_data\n",
      "WARN: 2023-09-28 16:15: - [ ] fix the combination properties. Would work if we directly used the computed _is_L_only and _is_S_only above\n",
      "\t done.\n",
      "long_short_post_decoding missing.\n",
      "\t Recomputing long_short_post_decoding...\n"
     ]
    },
    {
     "name": "stderr",
     "output_type": "stream",
     "text": [
      "c:\\Users\\pho\\repos\\Spike3DWorkEnv\\Spike3D\\.venv\\lib\\site-packages\\numpy\\core\\fromnumeric.py:3432: RuntimeWarning: Mean of empty slice.\n",
      "  return _methods._mean(a, axis=axis, dtype=dtype,\n",
      "c:\\Users\\pho\\repos\\Spike3DWorkEnv\\Spike3D\\.venv\\lib\\site-packages\\numpy\\core\\_methods.py:190: RuntimeWarning: invalid value encountered in double_scalars\n",
      "  ret = ret.dtype.type(ret / rcount)\n"
     ]
    },
    {
     "name": "stdout",
     "output_type": "stream",
     "text": [
      "\t done.\n",
      "long_short_endcap_analysis missing.\n",
      "\t Recomputing long_short_endcap_analysis...\n",
      "num_disappearing_endcap_cells/num_total_endcap_cells: 5/33\n",
      "num_non_disappearing_endcap_cells/num_total_endcap_cells: 28/33\n",
      "num_significant_position_remappping_endcap_cells/num_non_disappearing_endcap_cells: 6/28\n",
      "\t done.\n",
      "done with all batch_extended_computations(...).\n",
      "newly_computed_values: [('pf_computation', 'maze_any'), ('firing_rate_trends', 'maze_any'), ('split_to_directional_laps', 'maze_any'), ('long_short_decoding_analyses', 'maze_any'), ('short_long_pf_overlap_analyses', 'maze_any'), ('long_short_fr_indicies_analyses', 'maze_any'), ('jonathan_firing_rate_analysis', 'maze_any'), ('long_short_post_decoding', 'maze_any'), ('long_short_endcap_analysis', 'maze_any')].\n",
      "Saving global results...\n",
      "global_computation_results_pickle_path: W:\\Data\\KDIBA\\gor01\\one\\2006-6-08_14-26-15\\output\\global_computation_results.pkl\n",
      "Saving (file mode 'W:\\Data\\KDIBA\\gor01\\one\\2006-6-08_14-26-15\\output\\global_computation_results.pkl') saved session pickle file results : W:\\Data\\KDIBA\\gor01\\one\\2006-6-08_14-26-15\\output\\global_computation_results.pkl... \tmoving new output at 'W:\\Data\\KDIBA\\gor01\\one\\2006-6-08_14-26-15\\output\\20231210215101-global_computation_results.pkltmp' -> to desired location: 'W:\\Data\\KDIBA\\gor01\\one\\2006-6-08_14-26-15\\output\\global_computation_results.pkl'\n",
      "done.\n"
     ]
    },
    {
     "data": {
      "application/vnd.jupyter.widget-view+json": {
       "model_id": "a45dd23e066240778aa9b9f7a7799685",
       "version_major": 2,
       "version_minor": 0
      },
      "text/plain": [
       "VBox(children=(Box(children=(Label(value='session path:', layout=Layout(width='auto')), Label(value='W:\\\\Data\\…"
      ]
     },
     "execution_count": 3,
     "metadata": {},
     "output_type": "execute_result"
    }
   ],
   "source": [
    "### GLOBAL COMPUTATIONS:\n",
    "if not force_reload: # not just force_reload, needs to recompute whenever the computation fails.\n",
    "    try:\n",
    "        curr_active_pipeline.load_pickled_global_computation_results()\n",
    "    except Exception as e:\n",
    "        exception_info = sys.exc_info()\n",
    "        e = CapturedException(e, exception_info)\n",
    "        print(f'cannot load global results: {e}')\n",
    "        raise\n",
    "\n",
    "curr_active_pipeline.reload_default_computation_functions()\n",
    "\n",
    "extended_computations_include_includelist=['pf_computation', 'firing_rate_trends', # 'pfdt_computation',\n",
    "    # 'pf_dt_sequential_surprise',\n",
    "    #  'ratemap_peaks_prominence2d',\n",
    "    'long_short_decoding_analyses', 'jonathan_firing_rate_analysis', 'long_short_fr_indicies_analyses', 'short_long_pf_overlap_analyses', 'long_short_post_decoding',\n",
    "    # 'long_short_rate_remapping',\n",
    "    # 'long_short_inst_spike_rate_groups',\n",
    "    'long_short_endcap_analysis',\n",
    "    # 'spike_burst_detection',\n",
    "    'split_to_directional_laps',\n",
    "    'rank_order_shuffle_analysis'\n",
    "] # do only specified\n",
    "\n",
    "force_recompute_global = force_reload\n",
    "# force_recompute_global = True\n",
    "newly_computed_values = batch_extended_computations(curr_active_pipeline, include_includelist=extended_computations_include_includelist, include_global_functions=True, fail_on_exception=False, progress_print=True, force_recompute=force_recompute_global, debug_print=False)\n",
    "if (len(newly_computed_values) > 0):\n",
    "    print(f'newly_computed_values: {newly_computed_values}.')\n",
    "    if (saving_mode.value != 'skip_saving'):\n",
    "        print(f'Saving global results...')\n",
    "        try:\n",
    "            # curr_active_pipeline.global_computation_results.persist_time = datetime.now()\n",
    "            # Try to write out the global computation function results:\n",
    "            curr_active_pipeline.save_global_computation_results()\n",
    "        except Exception as e:\n",
    "            exception_info = sys.exc_info()\n",
    "            e = CapturedException(e, exception_info)\n",
    "            print(f'\\n\\n!!WARNING!!: saving the global results threw the exception: {e}')\n",
    "            print(f'\\tthe global results are currently unsaved! proceed with caution and save as soon as you can!\\n\\n\\n')\n",
    "    else:\n",
    "        print(f'\\n\\n!!WARNING!!: changes to global results have been made but they will not be saved since saving_mode.value == \"skip_saving\"')\n",
    "        print(f'\\tthe global results are currently unsaved! proceed with caution and save as soon as you can!\\n\\n\\n')\n",
    "else:\n",
    "    print(f'no changes in global results.')\n",
    "\n",
    "# except Exception as e:\n",
    "#     exception_info = sys.exc_info()\n",
    "#     e = CapturedException(e, exception_info)\n",
    "#     print(f'second half threw: {e}')\n",
    "\n",
    "\n",
    "# 4m 5.2s for inst fr computations\n",
    "# Jupyter Widget Interactive\n",
    "import ipywidgets as widgets\n",
    "from IPython.display import display\n",
    "from pyphocorehelpers.Filesystem.open_in_system_file_manager import reveal_in_system_file_manager\n",
    "from pyphoplacecellanalysis.GUI.IPyWidgets.pipeline_ipywidgets import interactive_pipeline_widget, fullwidth_path_widget, interactive_pipeline_files\n",
    "\n",
    "_pipeline_jupyter_widget = interactive_pipeline_widget(curr_active_pipeline=curr_active_pipeline)\n",
    "# display(_pipeline_jupyter_widget)\n",
    "_pipeline_jupyter_widget"
   ]
  },
  {
   "cell_type": "code",
   "execution_count": null,
   "id": "ee3d4f61",
   "metadata": {},
   "outputs": [],
   "source": [
    "curr_active_pipeline.save_global_computation_results()"
   ]
  },
  {
   "cell_type": "code",
   "execution_count": null,
   "id": "24adda73",
   "metadata": {},
   "outputs": [],
   "source": []
  },
  {
   "cell_type": "code",
   "execution_count": null,
   "id": "e5cbb6cf",
   "metadata": {},
   "outputs": [],
   "source": [
    "curr_active_pipeline.export_pipeline_to_h5()"
   ]
  },
  {
   "cell_type": "code",
   "execution_count": null,
   "id": "e3f06d1f",
   "metadata": {},
   "outputs": [],
   "source": [
    "curr_active_pipeline.clear_display_outputs()\n",
    "curr_active_pipeline.clear_registered_output_files()"
   ]
  },
  {
   "cell_type": "code",
   "execution_count": null,
   "id": "837f39f2",
   "metadata": {},
   "outputs": [],
   "source": [
    "curr_active_pipeline.save_pipeline(saving_mode=PipelineSavingScheme.TEMP_THEN_OVERWRITE)"
   ]
  },
  {
   "cell_type": "markdown",
   "id": "1fe54599",
   "metadata": {},
   "source": [
    "# End Run"
   ]
  },
  {
   "cell_type": "code",
   "execution_count": 4,
   "id": "1a533ba8",
   "metadata": {
    "ExecuteTime": {
     "end_time": "2023-11-16T23:21:40.700275900Z",
     "start_time": "2023-11-16T23:21:40.584273Z"
    },
    "notebookRunGroups": {
     "groupValue": "1"
    }
   },
   "outputs": [],
   "source": [
    "# (long_one_step_decoder_1D, short_one_step_decoder_1D), (long_one_step_decoder_2D, short_one_step_decoder_2D) = compute_short_long_constrained_decoders(curr_active_pipeline, recalculate_anyway=True)\n",
    "long_epoch_name, short_epoch_name, global_epoch_name = curr_active_pipeline.find_LongShortGlobal_epoch_names()\n",
    "long_epoch_context, short_epoch_context, global_epoch_context = [curr_active_pipeline.filtered_contexts[a_name] for a_name in (long_epoch_name, short_epoch_name, global_epoch_name)]\n",
    "long_epoch_obj, short_epoch_obj = [Epoch(curr_active_pipeline.sess.epochs.to_dataframe().epochs.label_slice(an_epoch_name.removesuffix('_any'))) for an_epoch_name in [long_epoch_name, short_epoch_name]] #TODO 2023-11-10 20:41: - [ ] Issue with getting actual Epochs from sess.epochs for directional laps: emerges because long_epoch_name: 'maze1_any' and the actual epoch label in curr_active_pipeline.sess.epochs is 'maze1' without the '_any' part.\n",
    "long_session, short_session, global_session = [curr_active_pipeline.filtered_sessions[an_epoch_name] for an_epoch_name in [long_epoch_name, short_epoch_name, global_epoch_name]]\n",
    "long_results, short_results, global_results = [curr_active_pipeline.computation_results[an_epoch_name].computed_data for an_epoch_name in [long_epoch_name, short_epoch_name, global_epoch_name]]\n",
    "long_computation_config, short_computation_config, global_computation_config = [curr_active_pipeline.computation_results[an_epoch_name].computation_config for an_epoch_name in [long_epoch_name, short_epoch_name, global_epoch_name]]\n",
    "long_pf1D, short_pf1D, global_pf1D = long_results.pf1D, short_results.pf1D, global_results.pf1D\n",
    "long_pf2D, short_pf2D, global_pf2D = long_results.pf2D, short_results.pf2D, global_results.pf2D\n",
    "\n",
    "assert short_epoch_obj.n_epochs > 0, f'long_epoch_obj: {long_epoch_obj}, short_epoch_obj: {short_epoch_obj}'\n",
    "assert long_epoch_obj.n_epochs > 0, f'long_epoch_obj: {long_epoch_obj}, short_epoch_obj: {short_epoch_obj}'"
   ]
  },
  {
   "cell_type": "code",
   "execution_count": 5,
   "id": "9071e94f",
   "metadata": {
    "ExecuteTime": {
     "end_time": "2023-11-16T23:21:43.601382Z",
     "start_time": "2023-11-16T23:21:40.702275600Z"
    },
    "notebookRunGroups": {
     "groupValue": "1"
    }
   },
   "outputs": [
    {
     "name": "stdout",
     "output_type": "stream",
     "text": [
      "WARN: 2023-09-28 16:15: - [ ] fix the combination properties. Would work if we directly used the computed _is_L_only and _is_S_only above\n",
      "WARNING: PAPER_FIGURE_figure_1_add_replay_epoch_rasters(...): no user-assigned manually labeled replay epochs. Reeturning all epochs.\n",
      "WARN: 2023-09-28 16:15: - [ ] fix the combination properties. Would work if we directly used the computed _is_L_only and _is_S_only above\n"
     ]
    }
   ],
   "source": [
    "## long_short_decoding_analyses:\n",
    "curr_long_short_decoding_analyses = curr_active_pipeline.global_computation_results.computed_data['long_short_leave_one_out_decoding_analysis']\n",
    "long_one_step_decoder_1D, short_one_step_decoder_1D, long_replays, short_replays, global_replays, long_shared_aclus_only_decoder, short_shared_aclus_only_decoder, shared_aclus, long_short_pf_neurons_diff, n_neurons, long_results_obj, short_results_obj, is_global = curr_long_short_decoding_analyses.long_decoder, curr_long_short_decoding_analyses.short_decoder, curr_long_short_decoding_analyses.long_replays, curr_long_short_decoding_analyses.short_replays, curr_long_short_decoding_analyses.global_replays, curr_long_short_decoding_analyses.long_shared_aclus_only_decoder, curr_long_short_decoding_analyses.short_shared_aclus_only_decoder, curr_long_short_decoding_analyses.shared_aclus, curr_long_short_decoding_analyses.long_short_pf_neurons_diff, curr_long_short_decoding_analyses.n_neurons, curr_long_short_decoding_analyses.long_results_obj, curr_long_short_decoding_analyses.short_results_obj, curr_long_short_decoding_analyses.is_global \n",
    "decoding_time_bin_size = long_one_step_decoder_1D.time_bin_size # 1.0/30.0 # 0.03333333333333333\n",
    "\n",
    "## Get global `long_short_fr_indicies_analysis`:\n",
    "long_short_fr_indicies_analysis_results = curr_active_pipeline.global_computation_results.computed_data['long_short_fr_indicies_analysis']\n",
    "long_laps, long_replays, short_laps, short_replays, global_laps, global_replays = [long_short_fr_indicies_analysis_results[k] for k in ['long_laps', 'long_replays', 'short_laps', 'short_replays', 'global_laps', 'global_replays']]\n",
    "long_short_fr_indicies_df = long_short_fr_indicies_analysis_results['long_short_fr_indicies_df']\n",
    "\n",
    "## Get global 'long_short_post_decoding' results:\n",
    "curr_long_short_post_decoding = curr_active_pipeline.global_computation_results.computed_data['long_short_post_decoding']\n",
    "expected_v_observed_result, curr_long_short_rr = curr_long_short_post_decoding.expected_v_observed_result, curr_long_short_post_decoding.rate_remapping\n",
    "rate_remapping_df, high_remapping_cells_only = curr_long_short_rr.rr_df, curr_long_short_rr.high_only_rr_df\n",
    "Flat_epoch_time_bins_mean, Flat_decoder_time_bin_centers, num_neurons, num_timebins_in_epoch, num_total_flat_timebins, is_short_track_epoch, is_long_track_epoch, short_short_diff, long_long_diff = expected_v_observed_result.Flat_epoch_time_bins_mean, expected_v_observed_result.Flat_decoder_time_bin_centers, expected_v_observed_result.num_neurons, expected_v_observed_result.num_timebins_in_epoch, expected_v_observed_result.num_total_flat_timebins, expected_v_observed_result.is_short_track_epoch, expected_v_observed_result.is_long_track_epoch, expected_v_observed_result.short_short_diff, expected_v_observed_result.long_long_diff\n",
    "\n",
    "jonathan_firing_rate_analysis_result: JonathanFiringRateAnalysisResult = curr_active_pipeline.global_computation_results.computed_data.jonathan_firing_rate_analysis\n",
    "(epochs_df_L, epochs_df_S), (filter_epoch_spikes_df_L, filter_epoch_spikes_df_S), (good_example_epoch_indicies_L, good_example_epoch_indicies_S), (short_exclusive, long_exclusive, BOTH_subset, EITHER_subset, XOR_subset, NEITHER_subset), new_all_aclus_sort_indicies, assigning_epochs_obj = PAPER_FIGURE_figure_1_add_replay_epoch_rasters(curr_active_pipeline)\n",
    "neuron_replay_stats_df, short_exclusive, long_exclusive, BOTH_subset, EITHER_subset, XOR_subset, NEITHER_subset = jonathan_firing_rate_analysis_result.get_cell_track_partitions(frs_index_inclusion_magnitude=0.05)\n",
    "\n",
    "## Update long_exclusive/short_exclusive properties with `long_short_fr_indicies_df`\n",
    "# long_exclusive.refine_exclusivity_by_inst_frs_index(long_short_fr_indicies_df, frs_index_inclusion_magnitude=0.5)\n",
    "# short_exclusive.refine_exclusivity_by_inst_frs_index(long_short_fr_indicies_df, frs_index_inclusion_magnitude=0.5)\n"
   ]
  },
  {
   "cell_type": "code",
   "execution_count": 6,
   "id": "395e294e98e2f59e",
   "metadata": {
    "ExecuteTime": {
     "end_time": "2023-11-16T23:21:43.820890500Z",
     "start_time": "2023-11-16T23:21:43.722893300Z"
    },
    "notebookRunGroups": {
     "groupValue": "1"
    }
   },
   "outputs": [],
   "source": [
    "# Unpack all directional variables:\n",
    "## {\"even\": \"RL\", \"odd\": \"LR\"}\n",
    "long_LR_name, short_LR_name, global_LR_name, long_RL_name, short_RL_name, global_RL_name, long_any_name, short_any_name, global_any_name = ['maze1_odd', 'maze2_odd', 'maze_odd', 'maze1_even', 'maze2_even', 'maze_even', 'maze1_any', 'maze2_any', 'maze_any']\n",
    "\n",
    "# Most popular\n",
    "# long_LR_name, short_LR_name, long_RL_name, short_RL_name, global_any_name\n",
    "\n",
    "# Unpacking for `(long_LR_name, long_RL_name, short_LR_name, short_RL_name)`\n",
    "(long_LR_context, long_RL_context, short_LR_context, short_RL_context) = [curr_active_pipeline.filtered_contexts[a_name] for a_name in (long_LR_name, long_RL_name, short_LR_name, short_RL_name)]\n",
    "long_LR_epochs_obj, long_RL_epochs_obj, short_LR_epochs_obj, short_RL_epochs_obj, global_any_laps_epochs_obj = [curr_active_pipeline.computation_results[an_epoch_name].computation_config.pf_params.computation_epochs for an_epoch_name in (long_LR_name, long_RL_name, short_LR_name, short_RL_name, global_any_name)] # note has global also\n",
    "(long_LR_session, long_RL_session, short_LR_session, short_RL_session) = [curr_active_pipeline.filtered_sessions[an_epoch_name] for an_epoch_name in (long_LR_name, long_RL_name, short_LR_name, short_RL_name)] # sessions are correct at least, seems like just the computation parameters are messed up\n",
    "(long_LR_results, long_RL_results, short_LR_results, short_RL_results) = [curr_active_pipeline.computation_results[an_epoch_name].computed_data for an_epoch_name in (long_LR_name, long_RL_name, short_LR_name, short_RL_name)]\n",
    "(long_LR_computation_config, long_RL_computation_config, short_LR_computation_config, short_RL_computation_config) = [curr_active_pipeline.computation_results[an_epoch_name].computation_config for an_epoch_name in (long_LR_name, long_RL_name, short_LR_name, short_RL_name)]\n",
    "(long_LR_pf1D, long_RL_pf1D, short_LR_pf1D, short_RL_pf1D) = (long_LR_results.pf1D, long_RL_results.pf1D, short_LR_results.pf1D, short_RL_results.pf1D)\n",
    "(long_LR_pf2D, long_RL_pf2D, short_LR_pf2D, short_RL_pf2D) = (long_LR_results.pf2D, long_RL_results.pf2D, short_LR_results.pf2D, short_RL_results.pf2D)\n",
    "(long_LR_pf1D_Decoder, long_RL_pf1D_Decoder, short_LR_pf1D_Decoder, short_RL_pf1D_Decoder) = (long_LR_results.pf1D_Decoder, long_RL_results.pf1D_Decoder, short_LR_results.pf1D_Decoder, short_RL_results.pf1D_Decoder)\n"
   ]
  },
  {
   "cell_type": "code",
   "execution_count": 17,
   "id": "6b978e33",
   "metadata": {
    "notebookRunGroups": {
     "groupValue": "1"
    }
   },
   "outputs": [],
   "source": [
    "directional_laps_results = curr_active_pipeline.global_computation_results.computed_data['DirectionalLaps']"
   ]
  },
  {
   "cell_type": "code",
   "execution_count": 18,
   "id": "bc26b3f3",
   "metadata": {
    "notebookRunGroups": {
     "groupValue": "1"
    }
   },
   "outputs": [
    {
     "name": "stdout",
     "output_type": "stream",
     "text": [
      "minimum_inclusion_fr_Hz: 2.0\n"
     ]
    }
   ],
   "source": [
    "rank_order_results: RankOrderComputationsContainer = curr_active_pipeline.global_computation_results.computed_data['RankOrder']\n",
    "minimum_inclusion_fr_Hz: float = rank_order_results.minimum_inclusion_fr_Hz\n",
    "print(f'minimum_inclusion_fr_Hz: {minimum_inclusion_fr_Hz}')"
   ]
  },
  {
   "cell_type": "code",
   "execution_count": null,
   "id": "2d5186d3",
   "metadata": {},
   "outputs": [],
   "source": []
  },
  {
   "cell_type": "code",
   "execution_count": 20,
   "id": "5b0aa44f",
   "metadata": {
    "notebookRunGroups": {
     "groupValue": "1"
    }
   },
   "outputs": [],
   "source": [
    "# NEW 2023-11-22 method: Get the templates (which can be filtered by frate first) and the from those get the decoders):        \n",
    "# track_templates: TrackTemplates = directional_laps_results.get_shared_aclus_only_templates(minimum_inclusion_fr_Hz=minimum_inclusion_fr_Hz) # shared-only\n",
    "track_templates: TrackTemplates = directional_laps_results.get_templates(minimum_inclusion_fr_Hz=minimum_inclusion_fr_Hz) # non-shared-only\n",
    "long_LR_decoder, long_RL_decoder, short_LR_decoder, short_RL_decoder = track_templates.get_decoders()\n",
    "\n",
    "# Unpack all directional variables:\n",
    "## {\"even\": \"RL\", \"odd\": \"LR\"}\n",
    "long_LR_name, short_LR_name, global_LR_name, long_RL_name, short_RL_name, global_RL_name, long_any_name, short_any_name, global_any_name = ['maze1_odd', 'maze2_odd', 'maze_odd', 'maze1_even', 'maze2_even', 'maze_even', 'maze1_any', 'maze2_any', 'maze_any']\n",
    "# Unpacking for `(long_LR_name, long_RL_name, short_LR_name, short_RL_name)`\n",
    "(long_LR_context, long_RL_context, short_LR_context, short_RL_context) = [curr_active_pipeline.filtered_contexts[a_name] for a_name in (long_LR_name, long_RL_name, short_LR_name, short_RL_name)]\n",
    "long_LR_epochs_obj, long_RL_epochs_obj, short_LR_epochs_obj, short_RL_epochs_obj, global_any_laps_epochs_obj = [curr_active_pipeline.computation_results[an_epoch_name].computation_config.pf_params.computation_epochs for an_epoch_name in (long_LR_name, long_RL_name, short_LR_name, short_RL_name, global_any_name)] # note has global also\n",
    "(long_LR_session, long_RL_session, short_LR_session, short_RL_session) = [curr_active_pipeline.filtered_sessions[an_epoch_name] for an_epoch_name in (long_LR_name, long_RL_name, short_LR_name, short_RL_name)] # sessions are correct at least, seems like just the computation parameters are messed up\n",
    "(long_LR_results, long_RL_results, short_LR_results, short_RL_results) = [curr_active_pipeline.computation_results[an_epoch_name].computed_data for an_epoch_name in (long_LR_name, long_RL_name, short_LR_name, short_RL_name)]\n",
    "(long_LR_computation_config, long_RL_computation_config, short_LR_computation_config, short_RL_computation_config) = [curr_active_pipeline.computation_results[an_epoch_name].computation_config for an_epoch_name in (long_LR_name, long_RL_name, short_LR_name, short_RL_name)]\n",
    "(long_LR_pf1D, long_RL_pf1D, short_LR_pf1D, short_RL_pf1D) = (long_LR_results.pf1D, long_RL_results.pf1D, short_LR_results.pf1D, short_RL_results.pf1D)\n",
    "(long_LR_pf2D, long_RL_pf2D, short_LR_pf2D, short_RL_pf2D) = (long_LR_results.pf2D, long_RL_results.pf2D, short_LR_results.pf2D, short_RL_results.pf2D)\n",
    "(long_LR_pf1D_Decoder, long_RL_pf1D_Decoder, short_LR_pf1D_Decoder, short_RL_pf1D_Decoder) = (long_LR_results.pf1D_Decoder, long_RL_results.pf1D_Decoder, short_LR_results.pf1D_Decoder, short_RL_results.pf1D_Decoder)\n",
    "\n",
    "LR_results_real_values = np.array([(long_stats_z_scorer.real_value, short_stats_z_scorer.real_value) for epoch_id, (long_stats_z_scorer, short_stats_z_scorer, long_short_z_diff, long_short_naive_z_diff, is_forward_replay) in rank_order_results.LR_ripple.ranked_aclus_stats_dict.items()])\n",
    "RL_results_real_values = np.array([(long_stats_z_scorer.real_value, short_stats_z_scorer.real_value) for epoch_id, (long_stats_z_scorer, short_stats_z_scorer, long_short_z_diff, long_short_naive_z_diff, is_forward_replay) in rank_order_results.RL_ripple.ranked_aclus_stats_dict.items()])\n",
    "\n",
    "LR_results_long_short_z_diffs = np.array([long_short_z_diff for epoch_id, (long_stats_z_scorer, short_stats_z_scorer, long_short_z_diff, long_short_naive_z_diff, is_forward_replay) in rank_order_results.LR_ripple.ranked_aclus_stats_dict.items()])\n",
    "RL_results_long_short_z_diff = np.array([long_short_z_diff for epoch_id, (long_stats_z_scorer, short_stats_z_scorer, long_short_z_diff, long_short_naive_z_diff, is_forward_replay) in rank_order_results.RL_ripple.ranked_aclus_stats_dict.items()])"
   ]
  },
  {
   "cell_type": "code",
   "execution_count": null,
   "id": "c260739a4f36c662",
   "metadata": {},
   "outputs": [],
   "source": [
    "active_burst_intervals = curr_active_pipeline.computation_results[global_epoch_name].computed_data['burst_detection']['burst_intervals']\n",
    "# active_burst_intervals"
   ]
  },
  {
   "cell_type": "code",
   "execution_count": null,
   "id": "769a1c6006aba5b7",
   "metadata": {},
   "outputs": [],
   "source": [
    "# Relative Entropy/Surprise Results:\n",
    "active_extended_stats = global_results['extended_stats']\n",
    "active_relative_entropy_results = active_extended_stats['pf_dt_sequential_surprise'] # DynamicParameters\n",
    "historical_snapshots = active_relative_entropy_results['historical_snapshots']\n",
    "post_update_times: np.ndarray = active_relative_entropy_results['post_update_times'] # (4152,) = (n_post_update_times,)\n",
    "snapshot_differences_result_dict = active_relative_entropy_results['snapshot_differences_result_dict']\n",
    "time_intervals: np.ndarray = active_relative_entropy_results['time_intervals']\n",
    "surprise_time_bin_duration = (post_update_times[2]-post_update_times[1])\n",
    "long_short_rel_entr_curves_frames: np.ndarray = active_relative_entropy_results['long_short_rel_entr_curves_frames'] # (4152, 108, 63) = (n_post_update_times, n_neurons, n_xbins)\n",
    "short_long_rel_entr_curves_frames: np.ndarray = active_relative_entropy_results['short_long_rel_entr_curves_frames'] # (4152, 108, 63) = (n_post_update_times, n_neurons, n_xbins)\n",
    "flat_relative_entropy_results: np.ndarray = active_relative_entropy_results['flat_relative_entropy_results'] # (149, 63) - (nSnapshots, nXbins)\n",
    "flat_jensen_shannon_distance_results: np.ndarray = active_relative_entropy_results['flat_jensen_shannon_distance_results'] # (149, 63) - (nSnapshots, nXbins)\n",
    "flat_jensen_shannon_distance_across_all_positions: np.ndarray = np.sum(np.abs(flat_jensen_shannon_distance_results), axis=1) # sum across all position bins # (4152,) - (nSnapshots)\n",
    "flat_surprise_across_all_positions: np.ndarray = np.sum(np.abs(flat_relative_entropy_results), axis=1) # sum across all position bins # (4152,) - (nSnapshots)\n",
    "\n",
    "## Get the placefield dt matrix:\n",
    "if 'snapshot_occupancy_weighted_tuning_maps' not in active_relative_entropy_results:\n",
    "\t## Compute it if missing:\n",
    "\toccupancy_weighted_tuning_maps_over_time = np.stack([placefield_snapshot.occupancy_weighted_tuning_maps_matrix for placefield_snapshot in historical_snapshots.values()])\n",
    "\tactive_relative_entropy_results['snapshot_occupancy_weighted_tuning_maps'] = occupancy_weighted_tuning_maps_over_time\n",
    "else:\n",
    "\toccupancy_weighted_tuning_maps_over_time = active_relative_entropy_results['snapshot_occupancy_weighted_tuning_maps'] # (n_post_update_times, n_neurons, n_xbins)\n"
   ]
  },
  {
   "cell_type": "code",
   "execution_count": null,
   "id": "9554d3bf5955d9d3",
   "metadata": {},
   "outputs": [],
   "source": [
    "# Time-dependent\n",
    "long_pf1D_dt, short_pf1D_dt, global_pf1D_dt = long_results.pf1D_dt, short_results.pf1D_dt, global_results.pf1D_dt\n",
    "long_pf2D_dt, short_pf2D_dt, global_pf2D_dt = long_results.pf2D_dt, short_results.pf2D_dt, global_results.pf2D_dt\n",
    "global_pf1D_dt: PfND_TimeDependent = global_results.pf1D_dt\n",
    "global_pf2D_dt: PfND_TimeDependent = global_results.pf2D_dt"
   ]
  },
  {
   "cell_type": "code",
   "execution_count": null,
   "id": "8624c62d5c18c556",
   "metadata": {},
   "outputs": [],
   "source": [
    "## long_short_endcap_analysis: checks for cells localized to the endcaps that have their placefields truncated after shortening the track\n",
    "truncation_checking_result: TruncationCheckingResults = curr_active_pipeline.global_computation_results.computed_data.long_short_endcap\n",
    "disappearing_endcap_aclus = truncation_checking_result.disappearing_endcap_aclus\n",
    "# disappearing_endcap_aclus\n",
    "trivially_remapping_endcap_aclus = truncation_checking_result.minor_remapping_endcap_aclus\n",
    "# trivially_remapping_endcap_aclus\n",
    "significant_distant_remapping_endcap_aclus = truncation_checking_result.significant_distant_remapping_endcap_aclus\n",
    "# significant_distant_remapping_endcap_aclus\n",
    "appearing_aclus = jonathan_firing_rate_analysis_result.neuron_replay_stats_df[jonathan_firing_rate_analysis_result.neuron_replay_stats_df['track_membership'] == SplitPartitionMembership.RIGHT_ONLY].index\n",
    "# appearing_aclus"
   ]
  },
  {
   "cell_type": "code",
   "execution_count": null,
   "id": "aabbbaf1",
   "metadata": {},
   "outputs": [],
   "source": [
    "epoch_active_aclus = np.array([9,  26,  31,  39,  40,  43,  47,  52,  53,  54,  60,  61,  65,  68,  72,  75,  77,  78,  81,  82,  84,  85,  90,  92,  93,  98, 102])\n",
    "\n",
    "\n",
    "curr_active_pipeline.filtered_contexts['maze1_odd']\n",
    "curr_active_pipeline.computation_results['maze1_odd']"
   ]
  },
  {
   "cell_type": "markdown",
   "id": "c195eafc",
   "metadata": {},
   "source": [
    "# Display Function Testing"
   ]
  },
  {
   "cell_type": "code",
   "execution_count": null,
   "id": "cbf30c04",
   "metadata": {},
   "outputs": [],
   "source": [
    "curr_active_pipeline.prepare_for_display()\n",
    "curr_active_pipeline.display('_display_1d_placefields') # , 'maze1_odd'\n"
   ]
  },
  {
   "cell_type": "code",
   "execution_count": null,
   "id": "bcc832fb",
   "metadata": {},
   "outputs": [],
   "source": [
    "from pyphoplacecellanalysis.General.Mixins.ExportHelpers import programmatic_render_to_file\n",
    "\n",
    "programmatic_render_to_file(curr_active_pipeline, curr_display_function_name='_display_1d_placefields', write_vector_format=True, write_png=True, debug_print=True)"
   ]
  },
  {
   "cell_type": "code",
   "execution_count": null,
   "id": "6314950a",
   "metadata": {},
   "outputs": [],
   "source": [
    "curr_active_pipeline.reload_default_display_functions()\n",
    "curr_active_pipeline.prepare_for_display()"
   ]
  },
  {
   "cell_type": "code",
   "execution_count": null,
   "id": "b0ccab8b",
   "metadata": {},
   "outputs": [],
   "source": [
    "\n",
    "curr_active_pipeline.display('_display_1d_placefields', 'maze_any')\n"
   ]
  },
  {
   "cell_type": "code",
   "execution_count": null,
   "id": "357f844b",
   "metadata": {},
   "outputs": [],
   "source": [
    "curr_active_pipeline.display('_display_1d_placefields', 'maze_any')"
   ]
  },
  {
   "cell_type": "code",
   "execution_count": null,
   "id": "546f7639",
   "metadata": {},
   "outputs": [],
   "source": [
    "curr_active_pipeline.display('_display_placemaps_pyqtplot_2D', 'maze2_odd')"
   ]
  },
  {
   "cell_type": "code",
   "execution_count": null,
   "id": "0aaf32b0",
   "metadata": {},
   "outputs": [],
   "source": [
    "curr_active_pipeline.display('_display_1d_placefields', 'maze2_odd')"
   ]
  },
  {
   "cell_type": "code",
   "execution_count": null,
   "id": "45a6994d",
   "metadata": {},
   "outputs": [],
   "source": [
    "curr_active_pipeline.display('_display_3d_interactive_spike_and_behavior_browser', 'maze1_odd')"
   ]
  },
  {
   "cell_type": "code",
   "execution_count": null,
   "id": "971436c7",
   "metadata": {},
   "outputs": [],
   "source": []
  },
  {
   "cell_type": "code",
   "execution_count": null,
   "id": "885ecb1d",
   "metadata": {},
   "outputs": [],
   "source": [
    "_display_placemaps_pyqtplot_2D"
   ]
  },
  {
   "cell_type": "code",
   "execution_count": null,
   "id": "44a1db23",
   "metadata": {},
   "outputs": [],
   "source": [
    "curr_active_pipeline.registered_display_function_docs_dict"
   ]
  },
  {
   "cell_type": "markdown",
   "id": "37bc7dfe",
   "metadata": {},
   "source": [
    "## Set matplotlib rcparams"
   ]
  },
  {
   "cell_type": "code",
   "execution_count": null,
   "id": "40a1bcfa",
   "metadata": {},
   "outputs": [],
   "source": [
    "# plt.style.use('ggplot')\n",
    "matplotlib_configuration_update(is_interactive=True)\n",
    "from pyphoplacecellanalysis.General.Mixins.ExportHelpers import programmatic_display_to_PDF, programmatic_render_to_file\n",
    "\n",
    "\n",
    "# plt.style.use(['Solarize_Light2']) # , 'presentation'\n",
    "plt.style.use('bmh')\n",
    "\n",
    "# size=(8.5, 11)\n",
    "# fontsize=8\n",
    "# axis_color=\"#545454\"\n",
    "# axis_lw=1.2\n",
    "# tick_size=3.5\n",
    "# constrained_layout=True\n",
    "# fontname=\"Arial\"\n",
    "\n",
    "# # --- plot settings --------\n",
    "# mpl.rcParams[\"font.family\"] = fontname\n",
    "# mpl.rcParams[\"font.sans-serif\"] = \"Arial\"\n",
    "mpl.rcParams[\"pdf.fonttype\"] = 42\n",
    "mpl.rcParams[\"ps.fonttype\"] = 42\n",
    "mpl.rcParams[\"svg.fonttype\"] = \"none\"\n",
    "# mpl.rcParams[\"axes.linewidth\"] = axis_lw\n",
    "# mpl.rcParams[\"axes.labelsize\"] = fontsize\n",
    "# mpl.rcParams[\"axes.titlesize\"] = fontsize\n",
    "# mpl.rcParams[\"axes.edgecolor\"] = axis_color\n",
    "# mpl.rcParams[\"xtick.labelsize\"] = fontsize\n",
    "# mpl.rcParams[\"xtick.major.pad\"] = 2\n",
    "# mpl.rcParams[\"ytick.labelsize\"] = fontsize\n",
    "# mpl.rcParams[\"axes.spines.top\"] = False\n",
    "# mpl.rcParams[\"axes.spines.right\"] = False\n",
    "# mpl.rcParams[\"xtick.major.width\"] = axis_lw\n",
    "# # mpl.rcParams[\"axes.autolimit_mode\"] = \"round_numbers\"\n",
    "# mpl.rcParams[\"axes.ymargin\"] = 0\n",
    "# mpl.rcParams[\"xtick.major.size\"] = tick_size\n",
    "# mpl.rcParams[\"ytick.major.size\"] = tick_size\n",
    "# mpl.rcParams[\"xtick.color\"] = axis_color\n",
    "# mpl.rcParams[\"xtick.labelcolor\"] = \"k\"\n",
    "# mpl.rcParams[\"ytick.major.width\"] = axis_lw\n",
    "# mpl.rcParams[\"ytick.color\"] = axis_color\n",
    "# mpl.rcParams[\"ytick.labelcolor\"] = \"k\"\n",
    "# mpl.rcParams[\"figure.constrained_layout.use\"] = constrained_layout\n",
    "# mpl.rcParams[\"axes.prop_cycle\"] = cycler(\n",
    "# \t\"color\",\n",
    "# \t[\n",
    "# \t\t\"#5cc0eb\",\n",
    "# \t\t\"#faa49d\",\n",
    "# \t\t\"#05d69e\",\n",
    "# \t\t\"#253237\",\n",
    "# \t\t\"#ef6e4e\",\n",
    "# \t\t\"#f0a8e6\",\n",
    "# \t\t\"#aaa8f0\",\n",
    "# \t\t\"#f0a8af\",\n",
    "# \t\t\"#dfe36b\",\n",
    "# \t\t\"#825265\",\n",
    "# \t\t\"#e8594f\",\n",
    "# \t],\n",
    "# )\n",
    "# figure.titlesize\n",
    "# axes.titlesize\n",
    "# axes.labelsize\n",
    "\n",
    "mpl.rcParams[\"figure.titlesize\"] = 12\n",
    "mpl.rcParams[\"axes.titlesize\"] = 10\n",
    "mpl.rcParams[\"axes.labelsize\"] = 8\n",
    "\n",
    "# def set_pub():\n",
    "#     rcParams.update({\n",
    "#         \"font.weight\": \"bold\",  # bold fonts\n",
    "#         \"tick.labelsize\": 15,   # large tick labels\n",
    "#         \"lines.linewidth\": 1,   # thick lines\n",
    "#         \"lines.color\": \"k\",     # black lines\n",
    "#         \"grid.color\": \"0.5\",    # gray gridlines\n",
    "#         \"grid.linestyle\": \"-\",  # solid gridlines\n",
    "#         \"grid.linewidth\": 0.5,  # thin gridlines\n",
    "#         \"savefig.dpi\": 300,     # higher resolution output.\n",
    "#     })\n",
    "    \n",
    "# restore_rc()\n",
    "\n",
    "# data = np.random.randn(50)\n",
    "\n",
    "# fig = plt.plot(data)\n",
    "# plt.show()\n"
   ]
  },
  {
   "cell_type": "code",
   "execution_count": null,
   "id": "b558758b",
   "metadata": {},
   "outputs": [],
   "source": [
    "from mpl_multitab import MplMultiTab, MplMultiTab2D\n",
    "from pyphoplacecellanalysis.General.Mixins.ExportHelpers import programmatic_display_to_PDF, programmatic_render_to_file\n",
    "from pyphoplacecellanalysis.PhoPositionalData.plotting.placefield import plot_single_cell_1D_placecell_validation\n",
    "from pyphoplacecellanalysis.PhoPositionalData.plotting.placefield import plot_1d_placecell_validations\n",
    "\n",
    "\n",
    "# matplotlib_configuration_update(is_interactive=True)\n",
    "\n",
    "# curr_active_pipeline.display('_display_grid_bin_bounds_validation')\n",
    "_out = curr_active_pipeline.display('_display_1d_placefield_validations', 'maze1_odd')\n",
    "_out.ui.show()\n"
   ]
  },
  {
   "cell_type": "code",
   "execution_count": null,
   "id": "7f301b08",
   "metadata": {},
   "outputs": [],
   "source": [
    "\n",
    "programmatic_display_to_PDF(curr_active_pipeline, curr_display_function_name='_display_1d_placefield_validations', filter_name='maze1_odd', debug_print=True)\n",
    "\n",
    "# plt.show()"
   ]
  },
  {
   "cell_type": "code",
   "execution_count": null,
   "id": "ff5d7994",
   "metadata": {},
   "outputs": [],
   "source": [
    "curr_active_pipeline.display('_display_1d_placefields', 'maze1_odd')"
   ]
  },
  {
   "cell_type": "code",
   "execution_count": null,
   "id": "77344ed3",
   "metadata": {},
   "outputs": [],
   "source": [
    "curr_active_pipeline.display('_display_1d_placefields', 'maze2_even')"
   ]
  },
  {
   "cell_type": "code",
   "execution_count": null,
   "id": "a66fdc07",
   "metadata": {},
   "outputs": [],
   "source": [
    "\n",
    "#TODO 2023-11-29 09:18: - [ ] Not good, the self.filtered_contexts are not unique!\n",
    "list(curr_active_pipeline.filtered_contexts.values())\n",
    "# [IdentifyingContext<(... 'maze2')>, IdentifyingContext<(... 'maze2')>, IdentifyingContext<(..., 'maze')>, IdentifyingContext<(... 'maze2')>, IdentifyingContext<(... 'maze2')>, IdentifyingContext<(..., 'maze')>, IdentifyingContext<(...ze1_any')>, IdentifyingContext<(... 'maze2')>, IdentifyingContext<(..., 'maze')>]\n",
    "[(v == curr_active_pipeline.filtered_contexts['maze1_even']) for v in list(curr_active_pipeline.filtered_contexts.values())]\n",
    "# [True, True, False, True, True, False, False, True, False]\n",
    "# meaning `curr_active_pipeline.display('_display_1d_placefields', curr_active_pipeline.filtered_contexts['maze1_even'])` doesn't work\n",
    "curr_active_pipeline.filtered_contexts.index(curr_active_pipeline.filtered_contexts['maze1_even'])"
   ]
  },
  {
   "cell_type": "code",
   "execution_count": null,
   "id": "8c4e9d82",
   "metadata": {},
   "outputs": [],
   "source": [
    "curr_active_pipeline.display('_display_1d_placefields', 'maze2_odd')\n"
   ]
  },
  {
   "cell_type": "code",
   "execution_count": null,
   "id": "3a44c478",
   "metadata": {},
   "outputs": [],
   "source": [
    "curr_active_pipeline.filtered_contexts['maze1_even']"
   ]
  },
  {
   "cell_type": "markdown",
   "id": "1fcd14e5",
   "metadata": {},
   "source": [
    "# TODO 2023-11-27 18:20: - [ ] Generalized ordered sort"
   ]
  },
  {
   "cell_type": "code",
   "execution_count": null,
   "id": "ac58b0ca",
   "metadata": {},
   "outputs": [],
   "source": [
    "from pyphoplacecellanalysis.General.Pipeline.Stages.ComputationFunctions.MultiContextComputationFunctions.DirectionalPlacefieldGlobalComputationFunctions import DirectionalPlacefieldGlobalDisplayFunctions\n",
    "\n",
    "curr_active_pipeline.reload_default_display_functions()\n",
    "curr_active_pipeline.prepare_for_display()\n",
    "_out = curr_active_pipeline.display(DirectionalPlacefieldGlobalDisplayFunctions._display_directional_laps_overview)\n"
   ]
  },
  {
   "cell_type": "code",
   "execution_count": null,
   "id": "b38faf55",
   "metadata": {},
   "outputs": [],
   "source": [
    "\n",
    "# recieves lists of identities (such as cell aclus) and a function that returns a sortable value for each identity:\n",
    "directional_laps_results = curr_active_pipeline.global_computation_results.computed_data['DirectionalLaps']\n",
    "track_templates: TrackTemplates = directional_laps_results.get_templates(minimum_inclusion_fr_Hz=None) # non-shared-only\n",
    "decoders_dict = track_templates.get_decoders_dict() # decoders_dict = {'long_LR': track_templates.long_LR_decoder, 'long_RL': track_templates.long_RL_decoder, 'short_LR': track_templates.short_LR_decoder, 'short_RL': track_templates.short_RL_decoder, }\n",
    "\n",
    "neuron_IDs_lists = [a_decoder.neuron_IDs for a_decoder in decoders_dict.values()] # [A, B, C, D, ...]\n",
    "neuron_ID_sets = [set(a_list) for a_list in neuron_IDs_lists]\n",
    "individual_List_sort_indicies = [a_decoder.pf.ratemap.get_sort_indicies() for a_decoder in decoders_dict.values()] # [a_s, b_s, c_s, d_s, ...] individual sort indicies that can be applied to A, B, C, D, ..\n",
    "individual_sorted_neuron_IDs_lists = [a_list[a_sort] for a_list, a_sort in zip(neuron_IDs_lists, individual_List_sort_indicies)] # [A[a_s], B[b_s], C[c_s], D[d_s], ...]\n",
    "sortable_values_lists = [np.argmax(a_decoder.pf.ratemap.normalized_tuning_curves, axis=1) for a_decoder in decoders_dict.values()]\n",
    "# decoders_dict"
   ]
  },
  {
   "cell_type": "code",
   "execution_count": null,
   "id": "28d3acbe",
   "metadata": {},
   "outputs": [],
   "source": [
    "from neuropy.utils.indexing_helpers import paired_incremental_sorting\n",
    "\n",
    "# epoch_active_aclus = np.array([9,  26,  31,  39,  40,  43,  47,  52,  53,  54,  60,  61,  65,  68,  72,  75,  77,  78,  81,  82,  84,  85,  90,  92,  93,  98, 102])\n",
    "\n",
    "neuron_IDs_lists = [a_decoder.neuron_IDs for a_decoder in decoders_dict.values()] # [A, B, C, D, ...]\n",
    "sort_helper_original_neuron_id_to_IDX_dicts = [dict(zip(neuron_ids, np.arange(len(neuron_ids)))) for neuron_ids in neuron_IDs_lists] # just maps each neuron_id in the list to a fragile_linear_IDX \n",
    "sortable_values_lists = [np.argmax(a_decoder.pf.ratemap.normalized_tuning_curves, axis=1) for a_decoder in decoders_dict.values()]\n",
    "sorted_neuron_IDs_lists = paired_incremental_sorting(neuron_IDs_lists, sortable_values_lists)\n",
    "# `sort_helper_neuron_id_to_sort_IDX_dicts` dictionaries in the appropriate order (sorted order) with appropriate indexes. Its .values() can be used to index into things originally indexed with aclus.\n",
    "sort_helper_neuron_id_to_sort_IDX_dicts = [{aclu:a_sort_helper_neuron_id_to_IDX_map[aclu] for aclu in sorted_neuron_ids} for a_sort_helper_neuron_id_to_IDX_map, sorted_neuron_ids in zip(sort_helper_original_neuron_id_to_IDX_dicts, sorted_neuron_IDs_lists)]\n",
    "\n",
    "print(sorted_neuron_IDs_lists)\n"
   ]
  },
  {
   "cell_type": "code",
   "execution_count": null,
   "id": "01b05dff",
   "metadata": {},
   "outputs": [],
   "source": [
    "# If you have a set of values that can be larger than the entries in each list:\n",
    "any_list_neuron_IDs = np.sort(union_of_arrays(*neuron_IDs_lists)) # neuron_IDs as they appear in any list\n",
    "## build color values from these:\n",
    "n_neurons = len(any_list_neuron_IDs)\n",
    "_neuron_qcolors_list, neuron_colors_ndarray = DataSeriesColorHelpers.build_cell_colors(n_neurons, colormap_name='PAL-relaxed_bright', colormap_source=None)\n",
    "unit_colors_map: Dict = dict(zip(any_list_neuron_IDs, neuron_colors_ndarray.copy().T)) # Int:NDArray[(4,)] - {5: array([255, 157, 0.278431, 1]), 7: array([252.817, 175.545, 0.202502, 1]), ...}\n",
    "\n",
    "# `unit_colors_map` is main output\n",
    "# So unlike other attempts, these colors are sorted along with the aclus for each decoder, and we don't try to keep them separate. Since they're actually in a dict (where conceptually the order doesn't really matter) this should be indistinguishable performance-wise from other implementation.\n",
    "sort_helper_neuron_id_to_sort_IDX_dicts = [{aclu:unit_colors_map[aclu] for aclu in sorted_neuron_ids} for sorted_neuron_ids in sorted_neuron_IDs_lists] # [{72: array([11.2724, 145.455, 0.815335, 1]), 84: array([165, 77, 1, 1]), ...}, {72: array([11.2724, 145.455, 0.815335, 1]), 84: array([165, 77, 1, 1]), ...}, ...]\n",
    "sort_helper_neuron_id_to_sort_IDX_dicts\n",
    "# `sort_helper_neuron_id_to_sort_IDX_dicts` is main output here:\n"
   ]
  },
  {
   "cell_type": "code",
   "execution_count": null,
   "id": "604c2b18",
   "metadata": {},
   "outputs": [],
   "source": [
    "\n",
    "\n",
    "# sorted_pf_tuning_curves = [a_decoder.pf.ratemap.pdf_normalized_tuning_curves[a_sort_list, :] for a_decoder, a_sort_list in zip(decoders_dict.values(), sorted_neuron_IDs_lists)]\n",
    "\n",
    "sorted_pf_tuning_curves = [a_decoder.pf.ratemap.pdf_normalized_tuning_curves[np.array(list(a_sort_helper_neuron_id_to_IDX_dict.values())), :] for a_decoder, a_sort_helper_neuron_id_to_IDX_dict in zip(decoders_dict.values(), sort_helper_neuron_id_to_sort_IDX_dicts)]\n",
    "sorted_pf_tuning_curves"
   ]
  },
  {
   "cell_type": "code",
   "execution_count": null,
   "id": "f0fbdb06",
   "metadata": {},
   "outputs": [],
   "source": [
    "# shared_sort_IDX = _get_decoder_sorted_pfs(track_templates.long_LR_decoder)\n",
    "# track_templates.long_LR_decoder"
   ]
  },
  {
   "cell_type": "markdown",
   "id": "5a572825",
   "metadata": {},
   "source": [
    "# EVEN: \"RL\", ODD: \"LR\"\n",
    "Starts with Even (idx=0)\n",
    "- EVEN: \"RL\"\n",
    "shared_RL_aclus_only_neuron_IDs\n",
    "`is_even = (an_epoch.lap_dir == 0)`\n",
    "- ODD: \"LR\"\n",
    "shared_LR_aclus_only_neuron_IDs\n",
    "`is_odd = (an_epoch.lap_dir == 1)`"
   ]
  },
  {
   "cell_type": "markdown",
   "id": "9ac0ef2b",
   "metadata": {},
   "source": [
    "# 🟢 2023-10-20 - Z-Score Comparisons with Neuron_ID Shuffled templates\n",
    "1. Take the intersection of the long and short templates to get only the common cells\n",
    "2. Determine the long and short \"tempaltes\": this is done by ranking the aclus for each by their placefields' center of mass. `compute_placefield_center_of_masses`\n",
    "\t2a. `long_pf_peak_ranks`, `short_pf_peak_ranks` - there are one of each of these for each shared aclu.\n",
    "3. Generate the unit_id shuffled (`shuffled_aclus`, `shuffle_IDXs`) ahead of time to use to shuffle the two templates during the epochs.\n",
    "4. For each replay event, take each shuffled template\n",
    "\t4a. Iterate through each shuffle and obtain the shuffled templates like `long_pf_peak_ranks[epoch_specific_shuffled_indicies]`, `short_pf_peak_ranks[epoch_specific_shuffled_indicies]`\n",
    "\t4b. compute the spearman rank-order of the event and each shuffled template, and accumulate the results in `long_spearmanr_rank_stats_results`, `short_spearmanr_rank_stats_results`\n",
    "\n",
    "5. After we're done with the shuffle loop, accumulate the results and convert to the right output format.\n",
    "\n",
    "6. When all epochs are done, loop through the results (the epochs again) and compute the z-scores for each epoch so they can be compared to each other. Keep track of the means and std_dev for comparisons later, and subtract the two sets of z-scores (long/short) to get the delta_Z for each template.\n",
    "\n",
    "7. TODO: Next figure out what to do with the array of z-scores and delta_Z. We have:\n",
    "\tn_epochs sets of results\n",
    "\t\tn_shuffles scores of delta_Z\n",
    "\n"
   ]
  },
  {
   "cell_type": "markdown",
   "id": "87fd9d61",
   "metadata": {},
   "source": [
    "## Convo with Kamran 2023-10-23:\n",
    "- Use directional templates **\n",
    "- No need to worry about re-ranking\n",
    "[X] Plot the long and short separately in addition to the difference, so we show significant reqplay on each as a sanity check\n",
    "[X] Absolute value difference?\n",
    "[X] Fisher transform the correlation values (check if there is a difference) because correlation coefficients aren't going to be normally distributed.\n",
    "\t[ ] Then Z-score releative to fisher.\n",
    "\n",
    "- T-test to compare to mean of zero (if looking at the difference)"
   ]
  },
  {
   "cell_type": "code",
   "execution_count": null,
   "id": "419ffd4a",
   "metadata": {},
   "outputs": [],
   "source": [
    "## Concerns:\n",
    "# 1. Permutation recommended over shuffling for small numbers of ids\n",
    "# 2.\n",
    "\n",
    "# 5Hz thresholding of templates\n"
   ]
  },
  {
   "cell_type": "markdown",
   "id": "ec58689d",
   "metadata": {},
   "source": [
    "## Resume"
   ]
  },
  {
   "cell_type": "code",
   "execution_count": 7,
   "id": "fd86cb20",
   "metadata": {
    "ExecuteTime": {
     "end_time": "2023-11-16T23:22:34.093953500Z",
     "start_time": "2023-11-16T23:22:33.960957900Z"
    },
    "notebookRunGroups": {
     "groupValue": "1"
    },
    "slideshow": {
     "slide_type": "fragment"
    }
   },
   "outputs": [],
   "source": [
    "from nptyping import NDArray\n",
    "from attrs import define, field, Factory, astuple\n",
    "import scipy.stats\n",
    "from scipy import ndimage\n",
    "from neuropy.utils.misc import build_shuffled_ids # used in _SHELL_analyze_leave_one_out_decoding_results\n",
    "from pyphoplacecellanalysis.SpecificResults.PhoDiba2023Paper import pho_stats_paired_t_test\n",
    "from pyphoplacecellanalysis.General.Pipeline.Stages.ComputationFunctions.MultiContextComputationFunctions.DirectionalPlacefieldGlobalComputationFunctions import TrackTemplates\n",
    "from pyphoplacecellanalysis.General.Pipeline.Stages.ComputationFunctions.MultiContextComputationFunctions.RankOrderComputations import RankOrderComputationsContainer, RankOrderResult\n",
    "\n",
    "# minimum_inclusion_fr_Hz: float = 2.0\n",
    "rank_order_results: RankOrderComputationsContainer = curr_active_pipeline.global_computation_results.computed_data['RankOrder']\n",
    "minimum_inclusion_fr_Hz: float = rank_order_results.minimum_inclusion_fr_Hz\n",
    "\n",
    "# Recover from the saved global result:\n",
    "directional_laps_results = curr_active_pipeline.global_computation_results.computed_data['DirectionalLaps']\n",
    "# NEW 2023-11-22 method: Get the templates (which can be filtered by frate first) and the from those get the decoders):        \n",
    "# track_templates: TrackTemplates = directional_laps_results.get_shared_aclus_only_templates(minimum_inclusion_fr_Hz=minimum_inclusion_fr_Hz) # shared-only\n",
    "track_templates: TrackTemplates = directional_laps_results.get_templates(minimum_inclusion_fr_Hz=minimum_inclusion_fr_Hz) # non-shared-only\n",
    "long_LR_decoder, long_RL_decoder, short_LR_decoder, short_RL_decoder = track_templates.get_decoders()\n",
    "\n",
    "## Pre 2023-11-22 method: building a TrackTemplates object after getting the raw decoders:\n",
    "# long_LR_one_step_decoder_1D, long_RL_one_step_decoder_1D, short_LR_one_step_decoder_1D, short_RL_one_step_decoder_1D = directional_laps_results.get_decoders()\n",
    "# long_LR_decoder, long_RL_decoder, short_LR_decoder, short_RL_decoder = directional_laps_results.get_shared_aclus_only_decoders()\n",
    "# track_templates: TrackTemplates = TrackTemplates.init_from_paired_decoders(LR_decoder_pair=(long_LR_decoder, short_LR_decoder), RL_decoder_pair=(long_RL_decoder, short_RL_decoder))\n",
    "# # track_templates: TrackTemplates = TrackTemplates.init_from_paired_decoders(LR_decoder_pair=(long_LR_one_step_decoder_1D, short_LR_one_step_decoder_1D), RL_decoder_pair=(long_RL_one_step_decoder_1D, short_RL_one_step_decoder_1D)) # NOTE: now use the un-constrained versions\n",
    "\n",
    "# Unpack all directional variables:\n",
    "## {\"even\": \"RL\", \"odd\": \"LR\"}\n",
    "long_LR_name, short_LR_name, global_LR_name, long_RL_name, short_RL_name, global_RL_name, long_any_name, short_any_name, global_any_name = ['maze1_odd', 'maze2_odd', 'maze_odd', 'maze1_even', 'maze2_even', 'maze_even', 'maze1_any', 'maze2_any', 'maze_any']\n",
    "# Unpacking for `(long_LR_name, long_RL_name, short_LR_name, short_RL_name)`\n",
    "(long_LR_context, long_RL_context, short_LR_context, short_RL_context) = [curr_active_pipeline.filtered_contexts[a_name] for a_name in (long_LR_name, long_RL_name, short_LR_name, short_RL_name)]\n",
    "long_LR_epochs_obj, long_RL_epochs_obj, short_LR_epochs_obj, short_RL_epochs_obj, global_any_laps_epochs_obj = [curr_active_pipeline.computation_results[an_epoch_name].computation_config.pf_params.computation_epochs for an_epoch_name in (long_LR_name, long_RL_name, short_LR_name, short_RL_name, global_any_name)] # note has global also\n",
    "(long_LR_session, long_RL_session, short_LR_session, short_RL_session) = [curr_active_pipeline.filtered_sessions[an_epoch_name] for an_epoch_name in (long_LR_name, long_RL_name, short_LR_name, short_RL_name)] # sessions are correct at least, seems like just the computation parameters are messed up\n",
    "(long_LR_results, long_RL_results, short_LR_results, short_RL_results) = [curr_active_pipeline.computation_results[an_epoch_name].computed_data for an_epoch_name in (long_LR_name, long_RL_name, short_LR_name, short_RL_name)]\n",
    "(long_LR_computation_config, long_RL_computation_config, short_LR_computation_config, short_RL_computation_config) = [curr_active_pipeline.computation_results[an_epoch_name].computation_config for an_epoch_name in (long_LR_name, long_RL_name, short_LR_name, short_RL_name)]\n",
    "(long_LR_pf1D, long_RL_pf1D, short_LR_pf1D, short_RL_pf1D) = (long_LR_results.pf1D, long_RL_results.pf1D, short_LR_results.pf1D, short_RL_results.pf1D)\n",
    "(long_LR_pf2D, long_RL_pf2D, short_LR_pf2D, short_RL_pf2D) = (long_LR_results.pf2D, long_RL_results.pf2D, short_LR_results.pf2D, short_RL_results.pf2D)\n",
    "(long_LR_pf1D_Decoder, long_RL_pf1D_Decoder, short_LR_pf1D_Decoder, short_RL_pf1D_Decoder) = (long_LR_results.pf1D_Decoder, long_RL_results.pf1D_Decoder, short_LR_results.pf1D_Decoder, short_RL_results.pf1D_Decoder)\n",
    "\n",
    "LR_results_real_values = np.array([(long_stats_z_scorer.real_value, short_stats_z_scorer.real_value) for epoch_id, (long_stats_z_scorer, short_stats_z_scorer, long_short_z_diff, long_short_naive_z_diff, is_forward_replay) in rank_order_results.LR_ripple.ranked_aclus_stats_dict.items()])\n",
    "RL_results_real_values = np.array([(long_stats_z_scorer.real_value, short_stats_z_scorer.real_value) for epoch_id, (long_stats_z_scorer, short_stats_z_scorer, long_short_z_diff, long_short_naive_z_diff, is_forward_replay) in rank_order_results.RL_ripple.ranked_aclus_stats_dict.items()])\n",
    "\n",
    "LR_results_long_short_z_diffs = np.array([long_short_z_diff for epoch_id, (long_stats_z_scorer, short_stats_z_scorer, long_short_z_diff, long_short_naive_z_diff, is_forward_replay) in rank_order_results.LR_ripple.ranked_aclus_stats_dict.items()])\n",
    "RL_results_long_short_z_diff = np.array([long_short_z_diff for epoch_id, (long_stats_z_scorer, short_stats_z_scorer, long_short_z_diff, long_short_naive_z_diff, is_forward_replay) in rank_order_results.RL_ripple.ranked_aclus_stats_dict.items()])\n",
    "\n",
    "\n",
    "# LR_results_real_values"
   ]
  },
  {
   "cell_type": "code",
   "execution_count": 34,
   "id": "eda4922d",
   "metadata": {},
   "outputs": [
    {
     "name": "stderr",
     "output_type": "stream",
     "text": [
      "C:\\Users\\pho\\repos\\Spike3DWorkEnv\\NeuroPy\\neuropy\\core\\flattened_spiketrains.py:25: UserWarning: registration of accessor <class 'neuropy.core.flattened_spiketrains.SpikesAccessor'> under name 'spikes' for type <class 'pandas.core.frame.DataFrame'> is overriding a preexisting attribute with the same name.\n",
      "  class SpikesAccessor(TimeSlicedMixin):\n"
     ]
    },
    {
     "data": {
      "text/html": [
       "<div>\n",
       "<style scoped>\n",
       "    .dataframe tbody tr th:only-of-type {\n",
       "        vertical-align: middle;\n",
       "    }\n",
       "\n",
       "    .dataframe tbody tr th {\n",
       "        vertical-align: top;\n",
       "    }\n",
       "\n",
       "    .dataframe thead th {\n",
       "        text-align: right;\n",
       "    }\n",
       "</style>\n",
       "<table border=\"1\" class=\"dataframe\">\n",
       "  <thead>\n",
       "    <tr style=\"text-align: right;\">\n",
       "      <th></th>\n",
       "      <th>t</th>\n",
       "      <th>t_seconds</th>\n",
       "      <th>t_rel_seconds</th>\n",
       "      <th>shank</th>\n",
       "      <th>cluster</th>\n",
       "      <th>aclu</th>\n",
       "      <th>qclu</th>\n",
       "      <th>x</th>\n",
       "      <th>y</th>\n",
       "      <th>speed</th>\n",
       "      <th>traj</th>\n",
       "      <th>lap</th>\n",
       "      <th>maze_relative_lap</th>\n",
       "      <th>maze_id</th>\n",
       "      <th>is_theta</th>\n",
       "      <th>is_ripple</th>\n",
       "      <th>theta_phase_radians</th>\n",
       "      <th>neuron_type</th>\n",
       "      <th>flat_spike_idx</th>\n",
       "      <th>x_loaded</th>\n",
       "      <th>y_loaded</th>\n",
       "      <th>lin_pos</th>\n",
       "      <th>fragile_linear_neuron_IDX</th>\n",
       "      <th>PBE_id</th>\n",
       "      <th>scISI</th>\n",
       "    </tr>\n",
       "  </thead>\n",
       "  <tbody>\n",
       "    <tr>\n",
       "      <th>6</th>\n",
       "      <td>300.0</td>\n",
       "      <td>603785.861953</td>\n",
       "      <td>0.009216</td>\n",
       "      <td>2</td>\n",
       "      <td>6</td>\n",
       "      <td>8</td>\n",
       "      <td>2</td>\n",
       "      <td>231.393024</td>\n",
       "      <td>139.660200</td>\n",
       "      <td>0.0</td>\n",
       "      <td>0</td>\n",
       "      <td>-1</td>\n",
       "      <td>-1</td>\n",
       "      <td>1</td>\n",
       "      <td>False</td>\n",
       "      <td>False</td>\n",
       "      <td>2.231093</td>\n",
       "      <td>pyr</td>\n",
       "      <td>6</td>\n",
       "      <td>NaN</td>\n",
       "      <td>NaN</td>\n",
       "      <td>230.649346</td>\n",
       "      <td>6</td>\n",
       "      <td>-1</td>\n",
       "      <td>NaN</td>\n",
       "    </tr>\n",
       "    <tr>\n",
       "      <th>20</th>\n",
       "      <td>1048.0</td>\n",
       "      <td>603785.884932</td>\n",
       "      <td>0.032195</td>\n",
       "      <td>8</td>\n",
       "      <td>10</td>\n",
       "      <td>58</td>\n",
       "      <td>2</td>\n",
       "      <td>231.393024</td>\n",
       "      <td>139.660200</td>\n",
       "      <td>0.0</td>\n",
       "      <td>0</td>\n",
       "      <td>-1</td>\n",
       "      <td>-1</td>\n",
       "      <td>1</td>\n",
       "      <td>False</td>\n",
       "      <td>False</td>\n",
       "      <td>3.285184</td>\n",
       "      <td>pyr</td>\n",
       "      <td>20</td>\n",
       "      <td>0.805908</td>\n",
       "      <td>0.493603</td>\n",
       "      <td>230.649346</td>\n",
       "      <td>56</td>\n",
       "      <td>-1</td>\n",
       "      <td>NaN</td>\n",
       "    </tr>\n",
       "    <tr>\n",
       "      <th>22</th>\n",
       "      <td>1060.0</td>\n",
       "      <td>603785.885300</td>\n",
       "      <td>0.032563</td>\n",
       "      <td>9</td>\n",
       "      <td>3</td>\n",
       "      <td>70</td>\n",
       "      <td>2</td>\n",
       "      <td>231.393024</td>\n",
       "      <td>139.660200</td>\n",
       "      <td>0.0</td>\n",
       "      <td>0</td>\n",
       "      <td>-1</td>\n",
       "      <td>-1</td>\n",
       "      <td>1</td>\n",
       "      <td>False</td>\n",
       "      <td>False</td>\n",
       "      <td>3.320378</td>\n",
       "      <td>pyr</td>\n",
       "      <td>22</td>\n",
       "      <td>0.805887</td>\n",
       "      <td>0.493577</td>\n",
       "      <td>230.649346</td>\n",
       "      <td>68</td>\n",
       "      <td>-1</td>\n",
       "      <td>NaN</td>\n",
       "    </tr>\n",
       "    <tr>\n",
       "      <th>24</th>\n",
       "      <td>1092.0</td>\n",
       "      <td>603785.886283</td>\n",
       "      <td>0.033546</td>\n",
       "      <td>2</td>\n",
       "      <td>6</td>\n",
       "      <td>8</td>\n",
       "      <td>2</td>\n",
       "      <td>231.393024</td>\n",
       "      <td>139.660200</td>\n",
       "      <td>0.0</td>\n",
       "      <td>0</td>\n",
       "      <td>-1</td>\n",
       "      <td>-1</td>\n",
       "      <td>1</td>\n",
       "      <td>False</td>\n",
       "      <td>False</td>\n",
       "      <td>3.356614</td>\n",
       "      <td>pyr</td>\n",
       "      <td>24</td>\n",
       "      <td>0.805832</td>\n",
       "      <td>0.493509</td>\n",
       "      <td>230.649346</td>\n",
       "      <td>6</td>\n",
       "      <td>-1</td>\n",
       "      <td>0.024330</td>\n",
       "    </tr>\n",
       "    <tr>\n",
       "      <th>61</th>\n",
       "      <td>2751.0</td>\n",
       "      <td>603785.937248</td>\n",
       "      <td>0.084511</td>\n",
       "      <td>7</td>\n",
       "      <td>2</td>\n",
       "      <td>41</td>\n",
       "      <td>2</td>\n",
       "      <td>231.393024</td>\n",
       "      <td>139.660200</td>\n",
       "      <td>0.0</td>\n",
       "      <td>0</td>\n",
       "      <td>-1</td>\n",
       "      <td>-1</td>\n",
       "      <td>1</td>\n",
       "      <td>False</td>\n",
       "      <td>False</td>\n",
       "      <td>5.656234</td>\n",
       "      <td>pyr</td>\n",
       "      <td>61</td>\n",
       "      <td>0.803084</td>\n",
       "      <td>0.489975</td>\n",
       "      <td>230.649346</td>\n",
       "      <td>39</td>\n",
       "      <td>-1</td>\n",
       "      <td>NaN</td>\n",
       "    </tr>\n",
       "    <tr>\n",
       "      <th>107</th>\n",
       "      <td>4640.0</td>\n",
       "      <td>603785.995278</td>\n",
       "      <td>0.142541</td>\n",
       "      <td>10</td>\n",
       "      <td>9</td>\n",
       "      <td>86</td>\n",
       "      <td>2</td>\n",
       "      <td>231.393024</td>\n",
       "      <td>139.660200</td>\n",
       "      <td>0.0</td>\n",
       "      <td>0</td>\n",
       "      <td>-1</td>\n",
       "      <td>-1</td>\n",
       "      <td>1</td>\n",
       "      <td>False</td>\n",
       "      <td>False</td>\n",
       "      <td>2.306538</td>\n",
       "      <td>pyr</td>\n",
       "      <td>107</td>\n",
       "      <td>0.800935</td>\n",
       "      <td>0.486439</td>\n",
       "      <td>230.649346</td>\n",
       "      <td>84</td>\n",
       "      <td>-1</td>\n",
       "      <td>NaN</td>\n",
       "    </tr>\n",
       "    <tr>\n",
       "      <th>...</th>\n",
       "      <td>...</td>\n",
       "      <td>...</td>\n",
       "      <td>...</td>\n",
       "      <td>...</td>\n",
       "      <td>...</td>\n",
       "      <td>...</td>\n",
       "      <td>...</td>\n",
       "      <td>...</td>\n",
       "      <td>...</td>\n",
       "      <td>...</td>\n",
       "      <td>...</td>\n",
       "      <td>...</td>\n",
       "      <td>...</td>\n",
       "      <td>...</td>\n",
       "      <td>...</td>\n",
       "      <td>...</td>\n",
       "      <td>...</td>\n",
       "      <td>...</td>\n",
       "      <td>...</td>\n",
       "      <td>...</td>\n",
       "      <td>...</td>\n",
       "      <td>...</td>\n",
       "      <td>...</td>\n",
       "      <td>...</td>\n",
       "      <td>...</td>\n",
       "    </tr>\n",
       "    <tr>\n",
       "      <th>1014884</th>\n",
       "      <td>68622300.0</td>\n",
       "      <td>605893.928714</td>\n",
       "      <td>2108.075977</td>\n",
       "      <td>2</td>\n",
       "      <td>13</td>\n",
       "      <td>14</td>\n",
       "      <td>2</td>\n",
       "      <td>149.958529</td>\n",
       "      <td>105.775537</td>\n",
       "      <td>0.0</td>\n",
       "      <td>0</td>\n",
       "      <td>-1</td>\n",
       "      <td>-1</td>\n",
       "      <td>2</td>\n",
       "      <td>False</td>\n",
       "      <td>False</td>\n",
       "      <td>3.400358</td>\n",
       "      <td>pyr</td>\n",
       "      <td>1014884</td>\n",
       "      <td>NaN</td>\n",
       "      <td>NaN</td>\n",
       "      <td>153.813221</td>\n",
       "      <td>12</td>\n",
       "      <td>-1</td>\n",
       "      <td>2.322707</td>\n",
       "    </tr>\n",
       "    <tr>\n",
       "      <th>1014914</th>\n",
       "      <td>68623619.0</td>\n",
       "      <td>605893.969233</td>\n",
       "      <td>2108.116496</td>\n",
       "      <td>7</td>\n",
       "      <td>15</td>\n",
       "      <td>50</td>\n",
       "      <td>2</td>\n",
       "      <td>149.958529</td>\n",
       "      <td>105.775537</td>\n",
       "      <td>0.0</td>\n",
       "      <td>0</td>\n",
       "      <td>-1</td>\n",
       "      <td>-1</td>\n",
       "      <td>2</td>\n",
       "      <td>False</td>\n",
       "      <td>False</td>\n",
       "      <td>1.319145</td>\n",
       "      <td>pyr</td>\n",
       "      <td>1014914</td>\n",
       "      <td>NaN</td>\n",
       "      <td>NaN</td>\n",
       "      <td>153.813221</td>\n",
       "      <td>48</td>\n",
       "      <td>-1</td>\n",
       "      <td>0.101898</td>\n",
       "    </tr>\n",
       "    <tr>\n",
       "      <th>1014926</th>\n",
       "      <td>68624038.0</td>\n",
       "      <td>605893.982105</td>\n",
       "      <td>2108.129368</td>\n",
       "      <td>8</td>\n",
       "      <td>22</td>\n",
       "      <td>64</td>\n",
       "      <td>2</td>\n",
       "      <td>149.958529</td>\n",
       "      <td>105.775537</td>\n",
       "      <td>0.0</td>\n",
       "      <td>0</td>\n",
       "      <td>-1</td>\n",
       "      <td>-1</td>\n",
       "      <td>2</td>\n",
       "      <td>False</td>\n",
       "      <td>False</td>\n",
       "      <td>1.513467</td>\n",
       "      <td>pyr</td>\n",
       "      <td>1014926</td>\n",
       "      <td>NaN</td>\n",
       "      <td>NaN</td>\n",
       "      <td>153.813221</td>\n",
       "      <td>62</td>\n",
       "      <td>-1</td>\n",
       "      <td>1.396285</td>\n",
       "    </tr>\n",
       "    <tr>\n",
       "      <th>1014927</th>\n",
       "      <td>68624061.0</td>\n",
       "      <td>605893.982812</td>\n",
       "      <td>2108.130075</td>\n",
       "      <td>3</td>\n",
       "      <td>17</td>\n",
       "      <td>33</td>\n",
       "      <td>1</td>\n",
       "      <td>149.958529</td>\n",
       "      <td>105.775537</td>\n",
       "      <td>0.0</td>\n",
       "      <td>0</td>\n",
       "      <td>-1</td>\n",
       "      <td>-1</td>\n",
       "      <td>2</td>\n",
       "      <td>False</td>\n",
       "      <td>False</td>\n",
       "      <td>1.519897</td>\n",
       "      <td>pyr</td>\n",
       "      <td>1014927</td>\n",
       "      <td>NaN</td>\n",
       "      <td>NaN</td>\n",
       "      <td>153.813221</td>\n",
       "      <td>31</td>\n",
       "      <td>-1</td>\n",
       "      <td>2.377327</td>\n",
       "    </tr>\n",
       "    <tr>\n",
       "      <th>1014931</th>\n",
       "      <td>68624207.0</td>\n",
       "      <td>605893.987297</td>\n",
       "      <td>2108.134560</td>\n",
       "      <td>9</td>\n",
       "      <td>8</td>\n",
       "      <td>74</td>\n",
       "      <td>2</td>\n",
       "      <td>149.958529</td>\n",
       "      <td>105.775537</td>\n",
       "      <td>0.0</td>\n",
       "      <td>0</td>\n",
       "      <td>-1</td>\n",
       "      <td>-1</td>\n",
       "      <td>2</td>\n",
       "      <td>False</td>\n",
       "      <td>False</td>\n",
       "      <td>1.549513</td>\n",
       "      <td>pyr</td>\n",
       "      <td>1014931</td>\n",
       "      <td>NaN</td>\n",
       "      <td>NaN</td>\n",
       "      <td>153.813221</td>\n",
       "      <td>72</td>\n",
       "      <td>-1</td>\n",
       "      <td>1.099990</td>\n",
       "    </tr>\n",
       "    <tr>\n",
       "      <th>1014934</th>\n",
       "      <td>68624325.0</td>\n",
       "      <td>605893.990922</td>\n",
       "      <td>2108.138185</td>\n",
       "      <td>3</td>\n",
       "      <td>17</td>\n",
       "      <td>33</td>\n",
       "      <td>1</td>\n",
       "      <td>149.958529</td>\n",
       "      <td>105.775537</td>\n",
       "      <td>0.0</td>\n",
       "      <td>0</td>\n",
       "      <td>-1</td>\n",
       "      <td>-1</td>\n",
       "      <td>2</td>\n",
       "      <td>False</td>\n",
       "      <td>False</td>\n",
       "      <td>1.560652</td>\n",
       "      <td>pyr</td>\n",
       "      <td>1014934</td>\n",
       "      <td>NaN</td>\n",
       "      <td>NaN</td>\n",
       "      <td>153.813221</td>\n",
       "      <td>31</td>\n",
       "      <td>-1</td>\n",
       "      <td>0.008110</td>\n",
       "    </tr>\n",
       "  </tbody>\n",
       "</table>\n",
       "<p>58297 rows × 25 columns</p>\n",
       "</div>"
      ],
      "text/plain": [
       "                  t      t_seconds  t_rel_seconds  shank  cluster  aclu  qclu           x           y  speed  traj  lap  maze_relative_lap  maze_id  is_theta  is_ripple  theta_phase_radians neuron_type  flat_spike_idx  x_loaded  y_loaded     lin_pos  fragile_linear_neuron_IDX  PBE_id     scISI\n",
       "6             300.0  603785.861953       0.009216      2        6     8     2  231.393024  139.660200    0.0     0   -1                 -1        1     False      False             2.231093         pyr               6       NaN       NaN  230.649346                          6      -1       NaN\n",
       "20           1048.0  603785.884932       0.032195      8       10    58     2  231.393024  139.660200    0.0     0   -1                 -1        1     False      False             3.285184         pyr              20  0.805908  0.493603  230.649346                         56      -1       NaN\n",
       "22           1060.0  603785.885300       0.032563      9        3    70     2  231.393024  139.660200    0.0     0   -1                 -1        1     False      False             3.320378         pyr              22  0.805887  0.493577  230.649346                         68      -1       NaN\n",
       "24           1092.0  603785.886283       0.033546      2        6     8     2  231.393024  139.660200    0.0     0   -1                 -1        1     False      False             3.356614         pyr              24  0.805832  0.493509  230.649346                          6      -1  0.024330\n",
       "61           2751.0  603785.937248       0.084511      7        2    41     2  231.393024  139.660200    0.0     0   -1                 -1        1     False      False             5.656234         pyr              61  0.803084  0.489975  230.649346                         39      -1       NaN\n",
       "107          4640.0  603785.995278       0.142541     10        9    86     2  231.393024  139.660200    0.0     0   -1                 -1        1     False      False             2.306538         pyr             107  0.800935  0.486439  230.649346                         84      -1       NaN\n",
       "...             ...            ...            ...    ...      ...   ...   ...         ...         ...    ...   ...  ...                ...      ...       ...        ...                  ...         ...             ...       ...       ...         ...                        ...     ...       ...\n",
       "1014884  68622300.0  605893.928714    2108.075977      2       13    14     2  149.958529  105.775537    0.0     0   -1                 -1        2     False      False             3.400358         pyr         1014884       NaN       NaN  153.813221                         12      -1  2.322707\n",
       "1014914  68623619.0  605893.969233    2108.116496      7       15    50     2  149.958529  105.775537    0.0     0   -1                 -1        2     False      False             1.319145         pyr         1014914       NaN       NaN  153.813221                         48      -1  0.101898\n",
       "1014926  68624038.0  605893.982105    2108.129368      8       22    64     2  149.958529  105.775537    0.0     0   -1                 -1        2     False      False             1.513467         pyr         1014926       NaN       NaN  153.813221                         62      -1  1.396285\n",
       "1014927  68624061.0  605893.982812    2108.130075      3       17    33     1  149.958529  105.775537    0.0     0   -1                 -1        2     False      False             1.519897         pyr         1014927       NaN       NaN  153.813221                         31      -1  2.377327\n",
       "1014931  68624207.0  605893.987297    2108.134560      9        8    74     2  149.958529  105.775537    0.0     0   -1                 -1        2     False      False             1.549513         pyr         1014931       NaN       NaN  153.813221                         72      -1  1.099990\n",
       "1014934  68624325.0  605893.990922    2108.138185      3       17    33     1  149.958529  105.775537    0.0     0   -1                 -1        2     False      False             1.560652         pyr         1014934       NaN       NaN  153.813221                         31      -1  0.008110\n",
       "\n",
       "[58297 rows x 25 columns]"
      ]
     },
     "execution_count": 34,
     "metadata": {},
     "output_type": "execute_result"
    }
   ],
   "source": [
    "spikes_df = deepcopy(curr_active_pipeline.sess.spikes_df)\n",
    "# Filter rows based on column: 'qclu'\n",
    "# spikes_df = spikes_df.spikes.sliced_by_neuron_qclu(included_qclu_values=[1,2,4,9])\n",
    "spikes_df = spikes_df.spikes.sliced_by_neuron_qclu(included_qclu_values=[1,2])\n",
    "spikes_df['neuron_type'] = [x.shortClassName for x in spikes_df['neuron_type']]\n",
    "spikes_df"
   ]
  },
  {
   "cell_type": "code",
   "execution_count": 45,
   "id": "71203955",
   "metadata": {},
   "outputs": [
    {
     "name": "stdout",
     "output_type": "stream",
     "text": [
      "original 108\n",
      "post PYRAMIDAL filtering 80\n",
      "post (qclu != [6, 7]) filtering 80\n"
     ]
    },
    {
     "data": {
      "text/plain": [
       "array([  2,   3,   4,   5,   7,   8,   9,  10,  11,  13,  14,  15,  16,  17,  19,  21,  23,  24,  25,  26,  27,  28,  31,  32,  33,  34,  35,  36,  37,  41,  45,  48,  49,  50,  51,  52,  53,  54,  55,  56,  57,  58,  59,  60,  61,  62,  63,  64,  66,  67,  68,  69,  70,  71,  73,  74,  75,  76,  78,  81,  82,  83,  84,  85,  86,  87,  88,  89,  90,  92,  93,  96,  97,  98, 100, 102, 105, 107, 108, 109])"
      ]
     },
     "execution_count": 45,
     "metadata": {},
     "output_type": "execute_result"
    }
   ],
   "source": [
    "from neuropy.core.neuron_identities import NeuronType\n",
    "\n",
    "def determine_good_aclus_by_qclu(curr_active_pipeline, included_qclu_values=[1,2,4,9]):\n",
    "\t\"\"\" From all neuron_IDs in the session, get the ones that meet the new qclu criteria (their value is in) `included_qclu_values`\n",
    "\t\n",
    "\tincluded_aclus = determine_good_aclus_by_qclu(curr_active_pipeline, included_qclu_values=[1,2,4,9])\n",
    "\tincluded_aclus\n",
    "\n",
    "\t\"\"\"\n",
    "\tfrom neuropy.core.neuron_identities import NeuronType\n",
    "\t\n",
    "\tneuron_identities: pd.DataFrame = curr_active_pipeline.get_session_unique_aclu_information()\n",
    "\tprint(f\"original {len(neuron_identities)}\")\n",
    "\tfiltered_neuron_identities: pd.DataFrame = neuron_identities[neuron_identities.neuron_type == NeuronType.PYRAMIDAL]\n",
    "\tprint(f\"post PYRAMIDAL filtering {len(filtered_neuron_identities)}\")\n",
    "\tfiltered_neuron_identities = filtered_neuron_identities[['aclu', 'shank', 'cluster', 'qclu']]\n",
    "\tfiltered_neuron_identities = filtered_neuron_identities[np.isin(filtered_neuron_identities.qclu, included_qclu_values)] # drop [6, 7], which are said to have double fields - 80 remain\n",
    "\tprint(f\"post (qclu != [6, 7]) filtering {len(filtered_neuron_identities)}\")\n",
    "\treturn filtered_neuron_identities.aclu.to_numpy()\n",
    "\n",
    "\n",
    "included_aclus = determine_good_aclus_by_qclu(curr_active_pipeline, included_qclu_values=[1,2,4,9])\n",
    "included_aclus"
   ]
  },
  {
   "cell_type": "code",
   "execution_count": null,
   "id": "aede2d1f",
   "metadata": {},
   "outputs": [],
   "source": [
    "\n"
   ]
  },
  {
   "cell_type": "code",
   "execution_count": null,
   "id": "af7c59b8",
   "metadata": {},
   "outputs": [],
   "source": [
    "\n",
    "\n",
    "track_templates.shared_LR_aclus_only_neuron_IDs\n",
    "track_templates.shared_RL_aclus_only_neuron_IDs"
   ]
  },
  {
   "cell_type": "code",
   "execution_count": null,
   "id": "eaee5744",
   "metadata": {},
   "outputs": [],
   "source": [
    "track_templates.long_LR_decoder.neuron_IDs\n",
    "ratemap = track_templates.long_LR_decoder.ratemap\n",
    "# ratemap.neuron_extended_ids\n",
    "\n",
    "track_templates.long_LR_decoder.spikes_df"
   ]
  },
  {
   "cell_type": "code",
   "execution_count": null,
   "id": "659d5e5e",
   "metadata": {},
   "outputs": [],
   "source": [
    "track_templates.shared_LR_aclus_only_neuron_IDs"
   ]
  },
  {
   "cell_type": "code",
   "execution_count": null,
   "id": "64c66001",
   "metadata": {},
   "outputs": [],
   "source": [
    "LR_results_long_short_z_diffs"
   ]
  },
  {
   "cell_type": "code",
   "execution_count": null,
   "id": "3ebb454c",
   "metadata": {},
   "outputs": [],
   "source": [
    "# Plot histograms:\n",
    "\n",
    "def plot_rank_order_histograms(number_of_bins: int = 21):\n",
    "    \"\"\" plots 1D histograms from the rank-order shuffled data during the ripples. \n",
    "    \n",
    "    https://pandas.pydata.org/pandas-docs/version/0.24.1/user_guide/visualization.html\n",
    "    \n",
    "    Captures: rank_order_results, minimum_inclusion_fr_Hz, curr_active_pipeline.get_session_context().get_description()\n",
    "    \n",
    "    \"\"\"\n",
    "    \n",
    "    # fig = build_or_reuse_figure(fignum=f'1D Histograms')\n",
    "    # ax1 = fig.add_subplot(3, 1, 1)\n",
    "    # ax2 = fig.add_subplot(3, 1, 2)\n",
    "    # ax3 = fig.add_subplot(3, 1, 3)\n",
    "\n",
    "    ax1, ax2, ax3 = None, None, None\n",
    "    _out_z_score = pd.DataFrame({'LR_long_z_scores': rank_order_results.LR_ripple.long_z_score, 'LR_short_z_scores': rank_order_results.LR_ripple.short_z_score,\n",
    "              'RL_long_z_scores': rank_order_results.RL_ripple.long_z_score, 'RL_short_z_scores': rank_order_results.RL_ripple.short_z_score}).hist(bins=number_of_bins, ax=ax1, sharex=True, sharey=True)\n",
    "    plt.suptitle(f'Ripple Z-scores: {minimum_inclusion_fr_Hz} Hz\\n{curr_active_pipeline.get_session_context().get_description()}')\n",
    "\n",
    "    _out_real = pd.DataFrame({'LR_long_real_corr': np.squeeze(LR_results_real_values[:,0]), 'LR_short_real_corr': np.squeeze(LR_results_real_values[:,1]),\n",
    "              'RL_long_real_corr': np.squeeze(RL_results_real_values[:,0]), 'RL_short_real_corr': np.squeeze(RL_results_real_values[:,1])}).hist(bins=number_of_bins, ax=ax2, sharex=True, sharey=True)\n",
    "    plt.suptitle(f'Ripple real correlations: {minimum_inclusion_fr_Hz} Hz\\n{curr_active_pipeline.get_session_context().get_description()}')\n",
    "\n",
    "    _out_most_likely_z = pd.DataFrame({'most_likely_long_z_scores': rank_order_results.ripple_most_likely_result_tuple.long_best_dir_z_score_values, 'most_likely_short_z_scores': rank_order_results.ripple_most_likely_result_tuple.short_best_dir_z_score_values}).hist(bins=number_of_bins, ax=ax3, sharex=True, sharey=True)\n",
    "    plt.suptitle(f'Ripple Most-likely z-scores: {minimum_inclusion_fr_Hz} Hz\\n{curr_active_pipeline.get_session_context().get_description()}')\n",
    "\n",
    "    return _out_z_score, _out_real, _out_most_likely_z\n",
    "\n",
    "_out_z_score, _out_real, _out_most_likely_z = plot_rank_order_histograms()\n"
   ]
  },
  {
   "cell_type": "code",
   "execution_count": null,
   "id": "b641e1f6",
   "metadata": {},
   "outputs": [],
   "source": [
    "#TODO 2023-12-10 19:56: - [ ] Histogram Display Helpers\n",
    "#TODO 2023-12-10 19:56: - [ ] Pf1D Helpers\n",
    "#TODO 2023-12-10 19:57: - [ ] Variant Saving\n",
    " "
   ]
  },
  {
   "cell_type": "code",
   "execution_count": null,
   "id": "56890830",
   "metadata": {},
   "outputs": [],
   "source": [
    "win = pg.GraphicsLayoutWidget(show=True)\n",
    "win.resize(800,350)\n",
    "win.setWindowTitle('Pho pyqtgraph marginal histogram testing')\n",
    "plt1 = win.addPlot()\n",
    "plt2 = win.addPlot()\n",
    "\n",
    "## compute standard histogram\n",
    "number_of_bins: int = 21\n",
    "vals = deepcopy(LR_results_long_short_z_diffs)\n",
    "# y,x = np.histogram(vals, bins=np.linspace(-3, 8, 40))\n",
    "\n",
    "y,x = np.histogram(vals, bins=number_of_bins)\n",
    "\n",
    "# plt1.plot(vals, y, pen=None, symbol='o', symbolSize=5, symbolPen=(255,255,255,200), symbolBrush=(0,0,255,150))\n",
    "\n",
    "## Using stepMode=\"center\" causes the plot to draw two lines for each sample.\n",
    "## notice that len(x) == len(y)+1\n",
    "plt1.plot(x, y, stepMode=\"center\", fillLevel=0, fillOutline=True, brush=(0,0,255,150))"
   ]
  },
  {
   "cell_type": "code",
   "execution_count": null,
   "id": "3f150d13",
   "metadata": {},
   "outputs": [],
   "source": [
    "# Compute the histogram\n",
    "hist, bins = np.histogram(y, bins='auto')\n",
    "\n",
    "# Create a new axis\n",
    "axis = pg.AxisItem('right')\n",
    "plot.layout.addItem(axis, 2, 1)\n",
    "axis.linkToView(plot.getViewBox())\n",
    "\n",
    "# Create a bar graph item\n",
    "hist_plot = pg.BarGraphItem(x=bins[:-1], height=hist, width=np.diff(bins), brush='r')\n",
    "plot.addItem(hist_plot)"
   ]
  },
  {
   "cell_type": "code",
   "execution_count": null,
   "id": "d9036d3a",
   "metadata": {},
   "outputs": [],
   "source": [
    "\n",
    "curr_active_pipeline.get_session_context().get_description()\n"
   ]
  },
  {
   "cell_type": "code",
   "execution_count": null,
   "id": "59639f2d",
   "metadata": {},
   "outputs": [],
   "source": [
    "from qtpy import QtGui # for QColor\n",
    "from qtpy.QtGui import QColor, QBrush, QPen\n",
    "from pyphocorehelpers.gui.Qt.color_helpers import ColorFormatConverter\n",
    "from pyphoplacecellanalysis.General.Mixins.DataSeriesColorHelpers import DataSeriesColorHelpers\n",
    "\n",
    "[ColorFormatConverter.qColor_to_hexstring(a_qcolor, include_alpha=False) for a_qcolor in RL_unit_colors_list]\n",
    "\n",
    "['#ff9d47', '#fdab39', '#fcb82b', '#fac61c', '#f9d30e', '#f7e100', '#e9dd00', '#dcda00', '#ced600', '#c1d300', '#b3cf00', '#95cc0c', '#77ca17', '#5ac723', '#3cc52e', '#1ec23a', '#18bb53', '#12b46b', '#0cae84', '#06a79c', '#00a0b5', '#0698c4', '#0c90d3', '#1388e1', '#1980f0', '#1f78ff', '#3a6fff', '#5567ff', '#6f5eff', '#8a56ff', '#a54dff', '#b146ee', '#bd40dc', '#ca39cb', '#d633b9', '#e22ca8', '#e8348f', '#ee3c76', '#f3435d', '#f94b44', '#ff532b', '#ff6231', '#ff7136', '#ff7f3c', '#ff8e41', '#ff9d47']\n",
    "\n",
    "\n",
    "render_colors([ColorFormatConverter.qColor_to_hexstring(a_qcolor, include_alpha=False) for a_qcolor in RL_unit_colors_list])"
   ]
  },
  {
   "cell_type": "code",
   "execution_count": null,
   "id": "c33ed6d2",
   "metadata": {},
   "outputs": [],
   "source": [
    "# filtered_decoder_list = [filtered_by_frate(a_decoder, minimum_inclusion_fr_Hz=minimum_inclusion_fr_Hz, debug_print=True) for a_decoder in (long_LR_one_step_decoder_1D, long_RL_one_step_decoder_1D, short_LR_one_step_decoder_1D, short_RL_one_step_decoder_1D)]\n",
    "original_neuron_ids_list = [a_decoder.pf.ratemap.neuron_ids for a_decoder in (long_LR_decoder, long_RL_decoder, short_LR_decoder, short_RL_decoder)]\n",
    "is_aclu_included_list = [a_decoder.pf.ratemap.tuning_curve_unsmoothed_peak_firing_rates >= minimum_inclusion_fr_Hz for a_decoder in (long_LR_decoder, long_RL_decoder, short_LR_decoder, short_RL_decoder)]\n",
    "filtered_aclus_list = [np.array(a_decoder.pf.ratemap.neuron_ids)[a_decoder.pf.ratemap.tuning_curve_unsmoothed_peak_firing_rates >= minimum_inclusion_fr_Hz] for a_decoder in (long_LR_decoder, long_RL_decoder, short_LR_decoder, short_RL_decoder)]\n",
    "\n",
    "## For a given run direction (LR/RL) let's require inclusion in either (OR) long v. short to be included.\n",
    "filtered_included_LR_aclus = np.union1d(filtered_aclus_list[0], filtered_aclus_list[2])\n",
    "filtered_included_RL_aclus = np.union1d(filtered_aclus_list[1], filtered_aclus_list[3])\n",
    "# build the final shared aclus:\n",
    "filtered_direction_shared_aclus_list = [filtered_included_LR_aclus, filtered_included_RL_aclus, filtered_included_LR_aclus, filtered_included_RL_aclus] # contains the shared aclus for that direction\n",
    "# rebuild the is_aclu_included_list from the shared aclus\n",
    "is_aclu_included_list = [np.isin(an_original_neuron_ids, a_filtered_neuron_ids) for an_original_neuron_ids, a_filtered_neuron_ids in zip(original_neuron_ids_list, filtered_direction_shared_aclus_list)]\n",
    "\n",
    "# is_aclu_included_list[0]\n",
    "filtered_direction_shared_aclus_list"
   ]
  },
  {
   "cell_type": "code",
   "execution_count": null,
   "id": "017813cc",
   "metadata": {},
   "outputs": [],
   "source": [
    "# # for 5Hz:\n",
    "# [array([  5,   7,  31,  39,  41,  45,  46,  48,  50,  55,  61,  62,  64,  69,  72,  75,  76,  78,  79,  83,  84,  86,  88,  90,  91,  92,  95,  99, 100, 108]),\n",
    "#  array([  5,   7,   9,  31,  32,  39,  41,  45,  46,  48,  50,  55,  61,  62,  64,  69,  72,  75,  76,  78,  79,  83,  84,  86,  88,  90,  91,  92,  93,  95,  99, 101, 108]),\n",
    "#  array([  5,   7,  31,  39,  41,  45,  46,  48,  50,  55,  61,  62,  64,  69,  72,  75,  76,  78,  79,  83,  84,  86,  88,  90,  91,  92,  95,  99, 100, 108]),\n",
    "#  array([  5,   7,   9,  31,  32,  39,  41,  45,  46,  48,  50,  55,  61,  62,  64,  69,  72,  75,  76,  78,  79,  83,  84,  86,  88,  90,  91,  92,  93,  95,  99, 101, 108])]\n",
    "\n",
    "# # for 20Hz:\n",
    "# [array([  5,  41,  46,  48,  69,  78,  79,  83,  86,  88,  90, 108]),\n",
    "#  array([ 62,  64,  75,  78,  83,  91, 101]),\n",
    "#  array([  5,  41,  46,  48,  69,  78,  79,  83,  86,  88,  90, 108]),\n",
    "#  array([ 62,  64,  75,  78,  83,  91, 101])]"
   ]
  },
  {
   "cell_type": "markdown",
   "id": "f6ccfe1f",
   "metadata": {},
   "source": [
    "# 2023-11-22 - RECOMPUTE"
   ]
  },
  {
   "cell_type": "code",
   "execution_count": null,
   "id": "c22e7090",
   "metadata": {},
   "outputs": [],
   "source": [
    "from pyphoplacecellanalysis.General.Pipeline.Stages.ComputationFunctions.MultiContextComputationFunctions.DirectionalPlacefieldGlobalComputationFunctions import DirectionalLapsHelpers\n",
    "from pyphoplacecellanalysis.General.Pipeline.Stages.ComputationFunctions.MultiContextComputationFunctions.RankOrderComputations import RankOrderGlobalComputationFunctions\n",
    "\n",
    "curr_active_pipeline.reload_default_computation_functions()\n",
    "\n",
    "## clear the old values to prepare for the new ones:\n",
    "curr_active_pipeline.global_computation_results.computed_data['DirectionalLaps'] = None\n",
    "curr_active_pipeline.global_computation_results.computed_data['RankOrder'] = None\n",
    "del curr_active_pipeline.global_computation_results.computed_data['DirectionalLaps']\n",
    "del curr_active_pipeline.global_computation_results.computed_data['RankOrder']\n",
    "\n",
    "curr_active_pipeline.global_computation_results.computed_data['DirectionalLaps'] = DirectionalLapsHelpers.build_global_directional_result_from_natural_epochs(curr_active_pipeline, progress_print=True) # repalce the directional laps object\n",
    "\n",
    "\n",
    "minimum_inclusion_fr_Hz = 2.0\n",
    "\n",
    "# perform_rank_order_shuffle_analysis\n",
    "# with VizTracer(output_file=f\"viztracer_{get_now_time_str()}-perform_rank_order_shuffle_analysis_{curr_active_pipeline.session_name}.json\", min_duration=200, tracer_entries=3000000, ignore_frozen=True) as tracer:\n",
    "RankOrderGlobalComputationFunctions.perform_rank_order_shuffle_analysis(curr_active_pipeline, curr_active_pipeline.global_computation_results, None, None, include_includelist=None, debug_print=False,\n",
    "                                                                        num_shuffles=1000, minimum_inclusion_fr_Hz=minimum_inclusion_fr_Hz, skip_laps=True)\n",
    "\n",
    "\n",
    "# 10m 29.5s for 1000 shuffles.  c:\\Users\\pho\\repos\\Spike3DWorkEnv\\Spike3D\\viztracer_2023-11-22_16-11-perform_rank_order_shuffle_analysis.json\n",
    "\n",
    "# 3m 33.9s - 500\n",
    "# 3m 26.4s - 1000"
   ]
  },
  {
   "cell_type": "code",
   "execution_count": null,
   "id": "754f0638",
   "metadata": {},
   "outputs": [],
   "source": [
    "## Result tuples come from `RankOrderAnalyses.most_likely_directional_rank_order_shuffling`\n",
    "\n",
    "from pyphoplacecellanalysis.General.Pipeline.Stages.ComputationFunctions.MultiContextComputationFunctions.RankOrderComputations import RankOrderAnalyses\n",
    "\n",
    "\n",
    "curr_active_pipeline.global_computation_results.computed_data['RankOrder'].ripple_most_likely_result_tuple, curr_active_pipeline.global_computation_results.computed_data['RankOrder'].laps_most_likely_result_tuple = RankOrderAnalyses.most_likely_directional_rank_order_shuffling(curr_active_pipeline, decoding_time_bin_size=0.01) # 10ms bins\n"
   ]
  },
  {
   "cell_type": "code",
   "execution_count": null,
   "id": "df8bf34c",
   "metadata": {},
   "outputs": [],
   "source": [
    "global_spikes_df, (odd_shuffle_helper, even_shuffle_helper) = RankOrderAnalyses.common_analysis_helper(curr_active_pipeline=curr_active_pipeline, num_shuffles=num_shuffles, minimum_inclusion_fr_Hz=minimum_inclusion_fr_Hz)"
   ]
  },
  {
   "cell_type": "markdown",
   "id": "426c292d",
   "metadata": {},
   "source": [
    "\n",
    "\n",
    "\n",
    "\n",
    "# Saving/Loading `DirectionalLaps_2Hz`"
   ]
  },
  {
   "cell_type": "code",
   "execution_count": null,
   "id": "fb8cd6c4",
   "metadata": {},
   "outputs": [],
   "source": [
    "# 2023-11-27 - I'd like to be able to save/load single results a time, (meaning specific to their parameters):\n",
    "\n",
    "from pyphoplacecellanalysis.General.Pipeline.Stages.Loading import saveData\n",
    "\n",
    "# list = ['2Hz', '12Hz']\n",
    "\n",
    "day_date_str: str = '2023-12-08_'\n",
    "directional_laps_output_path = curr_active_pipeline.get_output_path().joinpath(f'{day_date_str}DirectionalLaps_2Hz.pkl').resolve()\n",
    "saveData(directional_laps_output_path, (curr_active_pipeline.global_computation_results.computed_data['DirectionalLaps'], curr_active_pipeline.global_computation_results.computed_data['RankOrder']))"
   ]
  },
  {
   "cell_type": "code",
   "execution_count": null,
   "id": "d2230163",
   "metadata": {},
   "outputs": [],
   "source": [
    "from pyphoplacecellanalysis.General.Pipeline.Stages.Loading import loadData\n",
    "\n",
    "\n",
    "# Load the data from a file into the pipeline:\n",
    "day_date_str: str = '2023-12-08_'\n",
    "# day_date_str: str = ''\n",
    "directional_laps_output_path = curr_active_pipeline.get_output_path().joinpath(f'{day_date_str}DirectionalLaps_2Hz.pkl').resolve()\n",
    "assert directional_laps_output_path.exists()\n",
    "loaded_directional_laps, loaded_rank_order = loadData(directional_laps_output_path)\n",
    "assert (loaded_directional_laps is not None)\n",
    "assert (loaded_rank_order is not None)\n",
    "# Apply the loaded data to the pipeline:\n",
    "curr_active_pipeline.global_computation_results.computed_data['DirectionalLaps'], curr_active_pipeline.global_computation_results.computed_data['RankOrder'] = loaded_directional_laps, loaded_rank_order\n",
    "curr_active_pipeline.global_computation_results.computed_data['RankOrder']"
   ]
  },
  {
   "cell_type": "markdown",
   "id": "f4ec24467335a760",
   "metadata": {},
   "source": [
    "# POST-Compute:"
   ]
  },
  {
   "cell_type": "code",
   "execution_count": 40,
   "id": "728c46e6",
   "metadata": {
    "notebookRunGroups": {
     "groupValue": "21"
    }
   },
   "outputs": [
    {
     "name": "stdout",
     "output_type": "stream",
     "text": [
      "minimum_inclusion_fr_Hz: 2.0\n"
     ]
    }
   ],
   "source": [
    "from pyphoplacecellanalysis.General.Pipeline.Stages.ComputationFunctions.MultiContextComputationFunctions.DirectionalPlacefieldGlobalComputationFunctions import DirectionalPlacefieldGlobalDisplayFunctions\n",
    "from pyphoplacecellanalysis.General.Pipeline.Stages.DisplayFunctions.SpikeRasters import plot_multi_sort_raster_browser\n",
    "from pyphoplacecellanalysis.GUI.PyQtPlot.Widgets.ContainerBased.RankOrderRastersDebugger import RankOrderRastersDebugger\n",
    "\n",
    "from pyphoplacecellanalysis.General.Pipeline.Stages.DisplayFunctions.SpikeRasters import paired_separately_sort_neurons, paired_incremental_sort_neurons # _display_directional_template_debugger\n",
    "from neuropy.utils.indexing_helpers import paired_incremental_sorting, union_of_arrays, intersection_of_arrays, find_desired_sort_indicies\n",
    "from pyphoplacecellanalysis.GUI.Qt.Widgets.ScrollBarWithSpinBox.ScrollBarWithSpinBox import ScrollBarWithSpinBox\n",
    "\n",
    "# pg.setConfigOption('background', 'w')\n",
    "# pg.setConfigOption('foreground', 'k')\n",
    "\n",
    "long_epoch_name, short_epoch_name, global_epoch_name = curr_active_pipeline.find_LongShortGlobal_epoch_names()\n",
    "# global_spikes_df = deepcopy(curr_active_pipeline.computation_results[global_epoch_name]['computed_data'].pf1D.spikes_df)\n",
    "spikes_df = deepcopy(curr_active_pipeline.filtered_sessions[global_epoch_name].spikes_df)\n",
    "\n",
    "rank_order_results: RankOrderComputationsContainer = curr_active_pipeline.global_computation_results.computed_data['RankOrder']\n",
    "minimum_inclusion_fr_Hz: float = rank_order_results.minimum_inclusion_fr_Hz\n",
    "ripple_result_tuple, laps_result_tuple = rank_order_results.ripple_most_likely_result_tuple, rank_order_results.laps_most_likely_result_tuple\n",
    "directional_laps_results = curr_active_pipeline.global_computation_results.computed_data['DirectionalLaps']\n",
    "track_templates: TrackTemplates = directional_laps_results.get_templates(minimum_inclusion_fr_Hz=minimum_inclusion_fr_Hz) # non-shared-only -- !! Is minimum_inclusion_fr_Hz=None the issue/difference?\n",
    "print(f'minimum_inclusion_fr_Hz: {minimum_inclusion_fr_Hz}')\n",
    "ripple_result_tuple\n"
   ]
  },
  {
   "cell_type": "code",
   "execution_count": 41,
   "id": "aae926b1",
   "metadata": {},
   "outputs": [
    {
     "data": {
      "text/plain": [
       "BasePositionDecoder(pf=PfND(spikes_df=                 t      t_seconds  t_rel_seconds  shank  cluster  aclu  qclu           x           y      speed  traj  lap  maze_relative_lap  maze_id  is_theta  is_ripple  theta_phase_radians           neuron_type  flat_spike_idx  x_loaded  y_loaded     lin_pos  fragile_linear_neuron_IDX  PBE_id     scISI\n",
       "2            187.0  603785.858482       0.005745      8       19    62     4  231.393024  139.660200   0.000000     0   -1                 -1        1     False      False             2.014131  NeuronType.PYRAMIDAL               2       NaN       NaN  230.649346                         60      -1       NaN\n",
       "6            300.0  603785.861953       0.009216      2        6     8     2  231.393024  139.660200   0.000000     0   -1                 -1        1     False      False             2.231093  NeuronType.PYRAMIDAL               6       NaN       NaN  230.649346                          6      -1       NaN\n",
       "17           743.0  603785.875562       0.022825      8       19    62     4  231.393024  139.660200   0.000000     0   -1                 -1        1     False      False             2.886040  NeuronType.PYRAMIDAL              17       NaN       NaN  230.649346                         60      -1  0.017080\n",
       "20          1048.0  603785.884932       0.032195      8       10    58     2  231.393024  139.660200   0.000000     0   -1                 -1        1     False      False             3.285184  NeuronType.PYRAMIDAL              20  0.805908  0.493603  230.649346                         56      -1       NaN\n",
       "22          1060.0  603785.885300       0.032563      9        3    70     2  231.393024  139.660200   0.000000     0   -1                 -1        1     False      False             3.320378  NeuronType.PYRAMIDAL              22  0.805887  0.493577  230.649346                         68      -1       NaN\n",
       "24          1092.0  603785.886283       0.033546      2        6     8     2  231.393024  139.660200   0.000000     0   -1                 -1        1     False      False             3.356614  NeuronType.PYRAMIDAL              24  0.805832  0.493509  230.649346                          6      -1  0.024330\n",
       "...            ...            ...            ...    ...      ...   ...   ...         ...         ...        ...   ...  ...                ...      ...       ...        ...                  ...                   ...             ...       ...       ...         ...                        ...     ...       ...\n",
       "596780  39436952.0  604997.355282    1211.502545      9       15    78     2  216.537285  142.104467  18.753664    13   -1                 -1        1      True      False             4.209832  NeuronType.PYRAMIDAL          596780  0.758409  0.493942  217.282143                         76      -1  0.008509\n",
       "596781  39436992.0  604997.356511    1211.503774      2       17    16     4  216.514449  142.097581  18.746854    13   -1                 -1        1      True      False             4.249847  NeuronType.PYRAMIDAL          596781  0.758213  0.493905  217.261870                         14      -1  0.025559\n",
       "596784  39437113.0  604997.360228    1211.507491      2       17    16     4  216.445368  142.076751  18.726255    13   -1                 -1        1      True      False             4.450981  NeuronType.PYRAMIDAL          596784  0.757618  0.493794  217.200546                         14      -1  0.003717\n",
       "596787  39437180.0  604997.362286    1211.509549      3       18    34     4  216.407117  142.065217  18.714848    13   -1                 -1        1      True      False             4.572513  NeuronType.PYRAMIDAL          596787  0.757300  0.493735  217.166589                         32      -1  0.697036\n",
       "596803  39438215.0  604997.394081    1211.541344     12       21   108     4  215.835092  141.892733  18.753351     0   -1                 -1        1      True      False             6.210493  NeuronType.PYRAMIDAL          596803  0.752721  0.492914  216.661043                        106      -1  0.289935\n",
       "596821  39438753.0  604997.410609    1211.557872      1       11     5     2  215.541813  141.804299  18.810162     0   -1                 -1        1      True      False             0.851635  NeuronType.PYRAMIDAL          596821  0.750629  0.492593  216.386348                          3      -1  0.157532\n",
       "\n",
       "[85775 rows x 25 columns], position=<Position: {'_filename': None, '_metadata': None, '_data':                  t     lin_pos           x        dt  velocity_x  acceleration_x    x_smooth  velocity_x_smooth  acceleration_x_smooth      speed\n",
       "13        0.030454  230.649346  230.649346  0.000000    0.000000        0.000000         NaN                NaN                    NaN   0.000000\n",
       "14        0.063484  230.649346  230.649346  0.033030    0.000000        0.000000         NaN                NaN                    NaN   0.000000\n",
       "15        0.096808  230.649346  230.649346  0.033324    0.000000        0.000000         NaN                NaN                    NaN   0.000000\n",
       "16        0.129958  230.649346  230.649346  0.033150    0.000000        0.000000         NaN                NaN                    NaN   0.000000\n",
       "17        0.164523  230.649346  230.649346  0.034565    0.000000        0.000000         NaN                NaN                    NaN   0.000000\n",
       "18        0.196620  230.649346  230.649346  0.032097    0.000000        0.000000         NaN                NaN                    NaN   0.000000\n",
       "...            ...         ...         ...       ...         ...             ...         ...                ...                    ...        ...\n",
       "36317  1211.383893  219.304733  219.304733  0.033735  -23.561745      -29.543293  225.419980         -15.172346             -17.466649  23.821643\n",
       "36318  1211.417736  218.690755  218.690755  0.033843  -18.141937      160.145613  224.897818         -15.680341             -15.225245  18.400772\n",
       "36319  1211.451157  218.127713  218.127713  0.033421  -16.846964       38.747271  224.360254         -16.126697             -13.384450  16.874256\n",
       "36320  1211.485072  217.570411  217.570411  0.033915  -16.432296       12.226686  223.807278         -16.577576             -13.525001  16.702198\n",
       "36321  1211.517170  217.040865  217.040865  0.032098  -16.497810       -2.041049  223.243623         -16.925699             -10.427337  15.870398\n",
       "36322  1211.550877  216.511271  216.511271  0.033707  -15.711667       23.322834  222.669267         -17.222519              -8.889598  15.871790\n",
       "\n",
       "[36310 rows x 10 columns]};>, epochs=20 epochs\n",
       "array([[31.8625, 39.7703],\n",
       "       [161.459, 167.332],\n",
       "       [255.121, 262.696],\n",
       "       [314.047, 319.385],\n",
       "       [511.579, 518.353],\n",
       "       [558.36, 565.501],\n",
       "       [599.268, 604.74],\n",
       "       [645.747, 655.19],\n",
       "       [692.428, 697.566],\n",
       "       [734.337, 741.178],\n",
       "       [763.133, 768.971],\n",
       "       [804.742, 812.149],\n",
       "       [848.687, 853.692],\n",
       "       [941.846, 951.456],\n",
       "       [997.202, 1002.31],\n",
       "       [1035.51, 1040.75],\n",
       "       [1068.04, 1074.35],\n",
       "       [1104.61, 1110.12],\n",
       "       [1163.44, 1167.77],\n",
       "       [1195.03, 1203.64]])\n",
       ", config=<PlacefieldComputationParameters: {'speed_thresh': 10.0, 'grid_bin': (3.793023081021702, 1.607897707662558), 'grid_bin_bounds': ((29.16, 261.7), (130.23, 150.99)), 'smooth': (2.0, 2.0), 'frate_thresh': 1.0, 'is_directional': False};>, position_srate=29.96977955195445, setup_on_init=True, compute_on_init=True, _save_intermediate_spikes_maps=True, _included_thresh_neurons_indx=[0, 1, 2, 3, 4, 5, 6, 7, 8, 9, 10, 11, 12, 13, 14, 15, 16, 17, 18, 19, 20, 21, 22, 23, 24, 25, 26, 27, 28, 29, 30, 31, 32, 33, 34, 35], _peak_frate_filter_function=<function PfND._build_peak_frate_filter.<locals>.<lambda> at 0x000001CCB78ADDC0>, _ratemap=<Ratemap: {'_filename': None, '_metadata': None, 'spikes_maps': array([[0, 0, 0, ..., 0, 0, 0],\n",
       "       [0, 0, 0, ..., 0, 0, 0],\n",
       "       [0, 0, 0, ..., 0, 0, 0],\n",
       "       ...,\n",
       "       [0, 0, 0, ..., 0, 0, 0],\n",
       "       [0, 0, 3, ..., 0, 0, 0],\n",
       "       [0, 0, 0, ..., 0, 0, 0]], dtype=int64), 'tuning_curves': array([[0.10538, 0.191143, 0.367399, ..., 0.120883, 0.0508077, 0.0221553],\n",
       "       [0.827539, 1.45928, 2.66519, ..., 5.78641e-05, 8.87375e-06, 0],\n",
       "       [0, 0, 0, ..., 4.59922, 2.45229, 1.31742],\n",
       "       ...,\n",
       "       [0.304867, 0.505527, 0.859136, ..., 0.0501953, 0.0228783, 0.0105919],\n",
       "       [0.915522, 1.08454, 1.25953, ..., 0.272451, 0.130476, 0.0618853],\n",
       "       [0, 0, 0, ..., 7.76377, 4.76203, 3.00749]]), 'unsmoothed_tuning_maps': array([[0, 0, 0, ..., 0, 0, 0],\n",
       "       [0, 0, 0, ..., 0, 0, 0],\n",
       "       [0, 0, 0, ..., 0, 0, 0],\n",
       "       ...,\n",
       "       [0, 0, 0, ..., 0, 0, 0],\n",
       "       [0, 0, 3.9091, ..., 0, 0, 0],\n",
       "       [0, 0, 0, ..., 0, 0, 0]]), '_neuron_ids': [5, 7, 9, 31, 32, 36, 41, 45, 48, 50, 51, 53, 55, 57, 59, 61, 62, 63, 64, 69, 75, 76, 78, 81, 83, 84, 86, 88, 89, 90, 92, 93, 98, 100, 102, 108], '_neuron_extended_ids': [NeuronExtendedIdentityTuple(shank=1, cluster=11, id=5), NeuronExtendedIdentityTuple(shank=2, cluster=4, id=7), NeuronExtendedIdentityTuple(shank=2, cluster=7, id=9), NeuronExtendedIdentityTuple(shank=3, cluster=15, id=31), NeuronExtendedIdentityTuple(shank=3, cluster=16, id=32), NeuronExtendedIdentityTuple(shank=3, cluster=20, id=36), NeuronExtendedIdentityTuple(shank=7, cluster=2, id=41), NeuronExtendedIdentityTuple(shank=7, cluster=8, id=45), NeuronExtendedIdentityTuple(shank=7, cluster=13, id=48), NeuronExtendedIdentityTuple(shank=7, cluster=15, id=50), NeuronExtendedIdentityTuple(shank=7, cluster=18, id=51), NeuronExtendedIdentityTuple(shank=8, cluster=3, id=53), NeuronExtendedIdentityTuple(shank=8, cluster=6, id=55), NeuronExtendedIdentityTuple(shank=8, cluster=9, id=57), NeuronExtendedIdentityTuple(shank=8, cluster=11, id=59), NeuronExtendedIdentityTuple(shank=8, cluster=16, id=61), NeuronExtendedIdentityTuple(shank=8, cluster=19, id=62), NeuronExtendedIdentityTuple(shank=8, cluster=21, id=63), NeuronExtendedIdentityTuple(shank=8, cluster=22, id=64), NeuronExtendedIdentityTuple(shank=9, cluster=2, id=69), NeuronExtendedIdentityTuple(shank=9, cluster=9, id=75), NeuronExtendedIdentityTuple(shank=9, cluster=13, id=76), NeuronExtendedIdentityTuple(shank=9, cluster=15, id=78), NeuronExtendedIdentityTuple(shank=9, cluster=19, id=81), NeuronExtendedIdentityTuple(shank=10, cluster=3, id=83), NeuronExtendedIdentityTuple(shank=10, cluster=4, id=84), NeuronExtendedIdentityTuple(shank=10, cluster=9, id=86), NeuronExtendedIdentityTuple(shank=10, cluster=11, id=88), NeuronExtendedIdentityTuple(shank=10, cluster=12, id=89), NeuronExtendedIdentityTuple(shank=10, cluster=13, id=90), NeuronExtendedIdentityTuple(shank=10, cluster=15, id=92), NeuronExtendedIdentityTuple(shank=10, cluster=16, id=93), NeuronExtendedIdentityTuple(shank=11, cluster=14, id=98), NeuronExtendedIdentityTuple(shank=12, cluster=6, id=100), NeuronExtendedIdentityTuple(shank=12, cluster=9, id=102), NeuronExtendedIdentityTuple(shank=12, cluster=21, id=108)], 'xbin': array([29.16, 32.953, 36.746, 40.5391, 44.3321, 48.1251, 51.9181, 55.7112, 59.5042, 63.2972, 67.0902, 70.8833, 74.6763, 78.4693, 82.2623, 86.0553, 89.8484, 93.6414, 97.4344, 101.227, 105.02, 108.813, 112.607, 116.4, 120.193, 123.986, 127.779, 131.572, 135.365, 139.158, 142.951, 146.744, 150.537, 154.33, 158.123, 161.916, 165.709, 169.502, 173.295, 177.088, 180.881, 184.674, 188.467, 192.26, 196.053, 199.846, 203.639, 207.432, 211.225, 215.018, 218.811, 222.604, 226.397, 230.19, 233.983, 237.776, 241.569, 245.362, 249.155, 252.948, 256.741, 260.534, 264.327]), 'ybin': None, 'occupancy': array([0, 0.0667339, 0.76744, 1.83518, 3.37006, 5.80585, 3.23659, 2.86956, 2.90292, 2.36905, 1.50151, 1.46815, 1.73508, 1.46815, 1.06774, 1.50151, 1.30131, 1.76845, 1.00101, 1.36804, 1.43478, 1.30131, 1.50151, 1.43478, 1.23458, 1.20121, 1.46815, 1.03438, 1.06774, 1.40141, 1.30131, 1.03438, 2.30232, 1.56825, 1.46815, 1.50151, 1.40141, 1.13448, 1.40141, 1.23458, 1.03438, 1.40141, 1.10111, 1.40141, 0.76744, 0.333669, 1.66835, 2.53589, 2.53589, 2.53589, 2.56925, 3.26996, 7.54093, 3.97067, 4.87157, 5.97268, 15.4155, 5.00504, 0.233569, 0, 0, 0])};>, _ratemap_spiketrains=[array([32.768, 33.1315, 33.1388, 34.7326, 34.7357, 34.7438, 34.7484, 34.9806, 34.9854, 35.1109, 35.2298, 35.317, 36.9847, 162.276, 162.282, 162.389, 162.396, 162.401, 162.627, 162.634, 162.637, 162.747, 162.753, 162.857, 162.98, 163.056, 163.065, 163.095, 163.129, 163.135, 163.323, 163.436, 163.612, 165.574, 256.065, 257.397, 257.402, 257.51, 257.529, 257.77, 257.775, 257.79, 257.886, 257.891, 257.998, 258.007, 258.106, 258.112, 258.2, 258.211, 258.223, 258.302, 258.419, 258.436, 258.553, 260.768, 314.63, 314.637, 314.641, 314.861, 314.999, 315.108, 315.118, 315.213, 315.323, 315.422, 315.429, 315.435, 315.448, 315.467, 315.502, 315.511, 315.628, 315.747, 315.76, 315.773, 318.73, 318.75, 512.862, 512.873, 512.884, 513.089, 513.098, 513.317, 513.323, 513.328, 513.433, 513.44, 513.524, 513.527, 513.538, 513.641, 513.686, 513.73, 513.737, 513.792, 513.816, 513.826, 513.94, 513.946, 514.715, 514.917, 515.826, 517.909, 559.213, 560.272, 560.721, 560.835, 560.945, 561.055, 561.059, 561.065, 561.069, 561.176, 561.182, 561.187, 561.39, 561.454, 561.468, 561.578, 561.589, 561.692, 561.711, 563.8, 599.551, 600.218, 600.336, 600.343, 600.45, 600.456, 600.662, 600.672, 600.677, 600.771, 600.798, 600.814, 600.864, 600.972, 600.996, 601.051, 601.063, 601.098, 601.827, 602.246, 602.347, 602.905, 603.134, 604.65, 646.146, 646.158, 646.264, 646.273, 646.372, 646.379, 646.386, 646.391, 646.467, 646.48, 646.548, 646.567, 646.59, 646.65, 646.696, 648.518, 649.337, 651.248, 652.391, 652.821, 652.85, 652.959, 652.986, 653, 653.016, 653.227, 653.234, 653.962, 654.452, 693.012, 693.019, 693.16, 693.178, 693.523, 693.526, 693.531, 693.637, 693.741, 693.747, 693.752, 693.756, 693.764, 693.852, 693.855, 693.936, 693.954, 693.959, 694.045, 694.054, 694.079, 694.158, 696.231, 696.235, 734.452, 734.457, 734.462, 734.578, 734.586, 734.684, 734.695, 734.799, 734.918, 734.939, 735.147, 735.161, 735.179, 735.271, 735.298, 735.364, 735.417, 735.656, 735.715, 735.851, 737.614, 738.588, 738.595, 740.06, 740.823, 763.305, 763.314, 763.545, 764.148, 764.23, 764.241, 764.438, 764.443, 764.447, 764.543, 764.548, 764.555, 764.637, 764.641, 764.688, 764.697, 764.83, 764.835, 764.845, 764.853, 765.956, 767.249, 807.345, 807.471, 807.556, 807.568, 807.677, 807.732, 807.753, 807.852, 809.806, 849.638, 849.84, 850.048, 850.164, 850.233, 850.245, 850.286, 850.313, 850.447, 850.455, 851.295, 852.227, 942.831, 943.47, 943.485, 943.574, 943.583, 943.589, 943.597, 943.682, 943.688, 943.775, 943.786, 943.791, 943.84, 943.861, 944.093, 944.102, 946.158, 946.169, 946.173, 948.935, 948.944, 950.313, 997.591, 998.037, 998.155, 998.238, 998.242, 998.247, 998.252, 998.345, 998.349, 998.353, 998.359, 998.445, 998.45, 998.455, 998.515, 998.537, 998.622, 998.761, 1000.75, 1000.75, 1002.29, 1002.29, 1036.05, 1036.05, 1036.15, 1036.16, 1036.35, 1036.35, 1036.36, 1036.36, 1036.55, 1036.55, 1036.56, 1036.67, 1036.67, 1036.74, 1036.75, 1036.76, 1036.77, 1036.8, 1036.84, 1036.85, 1036.95, 1036.95, 1039.44, 1039.45, 1069.89, 1070.42, 1070.43, 1070.44, 1070.54, 1070.54, 1070.64, 1070.75, 1070.75, 1070.82, 1070.84, 1070.9, 1070.93, 1070.94, 1070.95, 1070.96, 1073.27, 1105.79, 1106.08, 1106.09, 1106.28, 1106.29, 1106.3, 1106.31, 1106.42, 1106.48, 1106.49, 1106.57, 1106.62, 1106.63, 1106.66, 1106.69, 1106.81, 1107.74, 1108.91, 1108.92, 1108.94, 1163.9, 1163.99, 1164.19, 1164.19, 1164.2, 1164.29, 1164.35, 1164.36, 1164.43, 1164.5, 1164.59, 1166.85, 1167.15, 1195.67, 1195.67, 1195.68, 1195.77, 1195.78, 1195.87, 1195.98, 1195.99, 1195.99, 1196.08, 1196.09, 1196.09, 1196.1, 1196.17, 1196.18, 1196.19, 1196.24, 1196.31, 1196.34, 1196.34, 1196.37, 1197.36, 1199.33, 1199.99, 1201.39, 1201.58]), array([512.291, 512.375, 512.385, 512.427, 512.524, 512.685, 512.779, 559.19, 559.435, 559.442, 559.645, 559.654, 559.878, 559.883, 560.009, 560.015, 560.11, 560.115, 560.21, 560.221, 560.226, 560.334, 560.342, 560.4, 560.427, 560.438, 560.452, 560.457, 560.516, 560.532, 560.535, 560.54, 560.55, 560.623, 560.636, 560.649, 599.518, 599.624, 599.642, 599.734, 599.741, 599.821, 599.825, 599.833, 599.84, 599.926, 599.952, 652.576, 763.237, 763.248, 763.261, 763.58, 763.596, 763.612, 763.703, 763.816, 763.82, 805.088, 805.095, 805.95, 806.017, 806.019, 806.026, 806.054, 806.212, 806.72, 806.816, 806.843, 848.862, 848.875, 848.995, 849.056, 849.072, 849.078, 849.083, 849.169, 849.177, 849.181, 849.274, 849.28, 849.352, 849.36, 849.448, 849.459, 942.189, 942.234, 942.246, 942.299, 942.311, 942.448, 942.457, 942.462, 942.474, 942.675, 942.711, 942.764, 942.768, 942.775, 942.781, 942.818, 942.822, 943.291, 997.223, 997.452, 997.46, 997.551, 997.599, 997.662, 997.733, 997.744, 997.752, 1035.59, 1035.69, 1035.76, 1035.77, 1035.78, 1035.87, 1035.89, 1035.96, 1068.23, 1068.26, 1068.48, 1068.5, 1068.5, 1068.51, 1068.52, 1068.53, 1068.95, 1069.17, 1069.17, 1069.26, 1069.39, 1069.4, 1069.69, 1104.76, 1104.77, 1104.78, 1105.11, 1105.33, 1105.34, 1105.34, 1105.53, 1105.53, 1105.54, 1105.61, 1105.62, 1105.69, 1105.7, 1195.16, 1195.18, 1195.19, 1195.29, 1195.31, 1195.39, 1195.46, 1195.49, 1195.5, 1195.5]), array([165.815, 165.818, 165.825, 166.287, 166.308, 166.439, 166.448, 166.606, 166.742, 166.756, 166.867, 167.12, 167.137, 167.148, 167.185, 167.291, 167.302, 260.876, 260.882, 261.343, 261.349, 261.375, 261.721, 261.883, 261.892, 261.904, 262.351, 262.593, 318.09, 318.094, 318.1, 318.464, 318.471, 319.119, 319.259, 319.272, 319.276, 319.305, 319.343, 319.352, 319.355, 319.364, 516.212, 516.217, 516.223, 516.576, 516.58, 516.838, 516.952, 516.968, 516.985, 517.1, 517.444, 517.661, 517.859, 517.907, 518.12, 518.215, 518.225, 518.234, 564.048, 564.28, 564.784, 564.889, 565.032, 565.045, 565.055, 565.061, 565.402, 565.411, 565.426, 603.027, 603.267, 603.728, 603.999, 604.017, 604.21, 604.253, 604.265, 604.355, 604.475, 604.647, 604.666, 604.677, 604.688, 604.7, 604.707, 604.722, 604.726, 651.296, 651.32, 652.465, 652.469, 654.078, 696.355, 696.589, 696.821, 696.837, 697.09, 697.4, 697.422, 697.43, 697.538, 697.548, 738.703, 738.819, 738.824, 738.828, 739.168, 739.177, 739.371, 739.392, 739.419, 739.426, 739.438, 739.444, 739.45, 739.457, 739.506, 739.513, 739.518, 739.524, 739.531, 739.54, 739.549, 739.565, 739.572, 739.583, 739.599, 739.617, 739.661, 739.667, 739.679, 739.687, 739.698, 739.707, 739.713, 739.725, 739.756, 739.769, 739.78, 739.784, 739.805, 739.813, 739.828, 739.842, 739.847, 739.878, 739.911, 739.928, 739.936, 739.941, 739.949, 739.954, 739.974, 740.153, 740.158, 740.164, 740.17, 740.177, 740.186, 740.197, 740.209, 740.309, 740.315, 740.322, 740.33, 740.415, 740.457, 740.465, 740.472, 740.477, 740.49, 740.509, 740.589, 740.596, 740.602, 740.608, 740.68, 740.72, 740.725, 740.899, 740.904, 740.907, 740.912, 741.025, 741.106, 766.909, 767.257, 767.261, 767.494, 767.502, 767.617, 767.886, 768.012, 768.025, 768.029, 768.11, 768.122, 768.153, 768.16, 768.195, 768.217, 768.229, 768.266, 768.391, 768.521, 768.535, 768.581, 768.679, 768.763, 768.825, 768.936, 768.965, 809.675, 810.015, 810.019, 810.022, 810.252, 810.368, 810.373, 810.755, 810.768, 810.864, 810.897, 810.947, 810.981, 810.992, 810.999, 811.005, 811.048, 811.053, 811.059, 811.068, 811.097, 811.114, 811.132, 811.148, 811.154, 811.167, 811.174, 811.184, 811.189, 811.196, 811.259, 811.391, 811.398, 811.415, 811.437, 811.45, 811.527, 811.539, 811.574, 811.579, 811.606, 811.644, 811.741, 811.753, 811.76, 811.766, 811.775, 811.783, 811.806, 811.815, 811.851, 811.857, 811.862, 811.877, 811.893, 811.908, 811.918, 811.936, 811.973, 811.98, 811.989, 811.997, 812.012, 812.032, 812.05, 812.128, 812.138, 852.111, 852.552, 852.56, 852.785, 852.792, 852.802, 852.919, 852.926, 853.044, 853.167, 853.175, 853.19, 853.305, 853.314, 853.37, 853.408, 853.436, 853.571, 853.588, 853.618, 853.66, 946.06, 946.489, 946.505, 946.512, 946.647, 946.744, 946.753, 946.758, 946.899, 946.909, 946.914, 946.927, 946.933, 947.005, 947.025, 947.055, 947.075, 947.107, 947.142, 947.152, 947.163, 947.17, 947.2, 947.237, 947.26, 947.274, 947.284, 947.311, 947.335, 947.418, 947.428, 947.435, 947.442, 947.469, 947.529, 947.533, 947.562, 947.6, 947.674, 947.679, 947.688, 947.711, 947.715, 947.723, 947.73, 947.746, 947.753, 947.763, 947.776, 947.784, 947.809, 947.816, 947.821, 947.828, 947.842, 947.848, 947.856, 947.872, 947.885, 947.894, 947.906, 947.977, 947.982, 947.994, 948.011, 948.018, 948.027, 948.13, 948.136, 948.142, 948.149, 948.156, 948.162, 948.213, 948.275, 948.468, 948.494, 948.623, 948.665, 949.179, 949.194, 949.234, 949.492, 949.601, 949.651, 949.66, 949.676, 949.906, 949.924, 949.94, 950.638, 950.643, 950.661, 950.671, 951.353, 951.402, 1000.64, 1000.65, 1000.66, 1000.86, 1000.87, 1001.25, 1001.26, 1001.27, 1001.27, 1001.51, 1001.53, 1001.58, 1001.61, 1001.61, 1001.69, 1001.72, 1001.74, 1001.77, 1001.87, 1002, 1002, 1002.02, 1002.03, 1002.04, 1002.05, 1002.06, 1002.08, 1002.09, 1002.1, 1002.11, 1002.11, 1002.18, 1002.19, 1002.21, 1002.21, 1039.31, 1039.32, 1039.55, 1039.78, 1039.9, 1039.92, 1040.01, 1040.02, 1040.03, 1040.04, 1040.23, 1040.25, 1040.26, 1040.29, 1040.29, 1040.31, 1040.33, 1040.33, 1040.34, 1040.35, 1040.45, 1040.46, 1040.47, 1040.56, 1040.57, 1040.58, 1040.61, 1040.72, 1040.74, 1040.74, 1073.19, 1073.19, 1073.43, 1073.65, 1073.66, 1073.66, 1073.78, 1073.79, 1073.9, 1073.94, 1074, 1074.06, 1074.13, 1074.14, 1074.15, 1074.16, 1074.17, 1074.17, 1074.25, 1109.15, 1109.15, 1109.52, 1109.53, 1109.54, 1109.54, 1109.63, 1109.65, 1109.69, 1109.74, 1109.74, 1109.77, 1109.81, 1109.88, 1109.9, 1109.97, 1109.99, 1110.06, 1110.11, 1166.72, 1166.73, 1167.2, 1167.21, 1167.4, 1167.47, 1167.47, 1167.57, 1167.59, 1167.61, 1167.62, 1167.64, 1167.7, 1167.74, 1199.14, 1199.34, 1199.35, 1199.36, 1201.49, 1201.69, 1201.91, 1201.92, 1201.93, 1201.93, 1202.31, 1202.51, 1202.6, 1202.61, 1202.63, 1202.76, 1202.79, 1202.98, 1202.99, 1203.02, 1203.03, 1203.06, 1203.07, 1203.1, 1203.13, 1203.15, 1203.16, 1203.19, 1203.25, 1203.27, 1203.28, 1203.3, 1203.31, 1203.36, 1203.36, 1203.38, 1203.39, 1203.39, 1203.4, 1203.43, 1203.47, 1203.48, 1203.51, 1203.53, 1203.57, 1203.58, 1203.59, 1203.6, 1203.61, 1203.62, 1203.64, 1203.64]), array([35.116, 35.1212, 36.5435, 36.556, 36.5933, 162.998, 163.715, 163.969, 257.898, 258.145, 259.001, 259.077, 315.232, 513.442, 514.241, 514.343, 514.353, 514.451, 516.857, 562.202, 562.263, 599.743, 601.498, 601.586, 646.285, 647.308, 647.36, 693.294, 693.298, 694.678, 734.732, 734.866, 734.961, 735.124, 735.202, 735.421, 736.508, 736.746, 736.844, 736.964, 737.071, 738.581, 764.649, 765.362, 765.541, 807.459, 807.668, 807.694, 807.736, 849.965, 850.143, 850.228, 948.838, 950.295, 950.299, 950.303, 950.308, 998.369, 998.438, 999.157, 999.281, 1035.69, 1036.66, 1037.44, 1037.72, 1039.65, 1071.45, 1106.57, 1107.27, 1165.22, 1196.41, 1197.03, 1197.56]), array([35.6354, 36.123, 36.5818, 38.2281, 38.233, 38.4394, 38.4481, 38.8017, 162.124, 164.074, 165.578, 165.696, 165.705, 165.923, 165.928, 166.05, 166.474, 166.908, 167.02, 260.758, 260.763, 260.767, 261.22, 261.474, 261.488, 261.568, 261.769, 261.857, 261.863, 316.285, 317.972, 317.981, 318.221, 318.324, 318.336, 319.136, 319.142, 515.564, 515.883, 515.886, 515.892, 516.34, 516.346, 517.126, 517.143, 517.387, 517.515, 517.525, 517.538, 562.124, 563.923, 563.926, 564.301, 564.389, 564.401, 564.672, 564.68, 564.686, 564.8, 564.925, 564.947, 564.954, 564.963, 603.035, 603.362, 603.37, 603.374, 603.48, 603.489, 603.599, 603.61, 604.024, 604.031, 604.489, 604.507, 604.632, 652.479, 653.264, 653.28, 653.289, 696.366, 696.484, 696.707, 696.714, 696.989, 697.115, 738.368, 738.464, 738.701, 738.954, 739.072, 739.744, 740.003, 740.008, 740.024, 740.03, 740.255, 740.741, 740.744, 740.772, 740.83, 740.941, 765.604, 767.378, 767.395, 767.883, 768.412, 768.445, 768.719, 768.729, 768.853, 807.72, 810.117, 810.9, 811.305, 811.668, 812.092, 812.099, 852.67, 942.668, 944.971, 946.153, 947.351, 947.799, 948.064, 948.563, 948.6, 948.933, 949.618, 950.467, 950.497, 950.504, 950.507, 950.51, 950.515, 950.529, 950.98, 950.987, 951.011, 951.308, 1001.81, 1002.14, 1002.26, 1002.27, 1039.66, 1040.17, 1073.09, 1073.31, 1167.76, 1202.17, 1202.41, 1202.43, 1202.67, 1202.68]), array([38.4457, 38.4515, 38.4553, 38.4663, 38.5704, 38.6892, 38.7157, 38.832, 39.0634, 39.2641, 165.812, 165.926, 166.046, 166.164, 166.184, 166.448, 166.62, 166.756, 167.022, 167.026, 260.975, 260.982, 260.989, 261.108, 261.113, 261.597, 261.609, 261.623, 261.632, 318.332, 318.349, 318.604, 318.84, 516.109, 516.213, 516.45, 516.567, 516.576, 516.839, 516.848, 516.854, 517.123, 517.264, 517.394, 517.672, 517.694, 517.708, 517.964, 564.537, 564.66, 564.67, 565.349, 565.367, 565.394, 604.016, 604.128, 604.647, 604.655, 604.664, 652.47, 652.473, 652.485, 697.112, 738.944, 739.071, 739.207, 767.895, 768.464, 810.752, 810.767, 853.464, 947.487, 947.505, 948.045, 948.085, 949.659, 949.667, 1001.54, 1040.66, 1073.55, 1109.98, 1109.99, 1166.96, 1167.35, 1167.48, 1167.75, 1197.88, 1198.25, 1198.25, 1198.51, 1201.59, 1201.7, 1202.04, 1202.05, 1202.27, 1202.3, 1202.54, 1202.79, 1202.81]), array([32.6341, 36.4124, 36.9171, 37.3791, 37.3889, 37.4828, 37.7148, 39.7076, 39.7504, 163.64, 164.378, 164.979, 164.986, 164.994, 165.191, 165.202, 165.309, 256.316, 256.321, 259.584, 259.593, 259.715, 259.934, 259.939, 260.17, 260.283, 260.399, 260.505, 260.885, 262.219, 262.236, 316.8, 317.266, 317.387, 317.505, 317.618, 317.701, 318.127, 318.263, 514.048, 514.73, 514.734, 515.173, 515.305, 515.408, 515.426, 515.522, 515.63, 515.78, 561.649, 563.106, 563.109, 563.24, 563.323, 563.56, 564.191, 601.414, 601.466, 601.858, 602.189, 602.3, 602.31, 602.416, 602.541, 602.551, 602.648, 603.046, 603.275, 603.423, 647.121, 647.575, 648.283, 648.521, 648.74, 648.987, 649.338, 649.353, 649.698, 649.923, 649.934, 650.026, 650.035, 650.051, 650.152, 650.421, 650.495, 650.539, 650.763, 650.794, 651.195, 651.826, 652.31, 652.428, 652.437, 653.008, 653.381, 653.873, 654.015, 654.38, 654.509, 654.869, 654.977, 695.182, 695.415, 695.746, 737.124, 737.349, 737.79, 737.888, 737.996, 738.219, 738.282, 738.297, 738.617, 740.08, 765.973, 766.319, 766.434, 766.534, 766.542, 766.65, 766.665, 766.755, 766.873, 768.897, 806.197, 807.483, 808.139, 808.531, 808.974, 809.095, 809.424, 809.528, 809.629, 809.634, 851.215, 851.453, 851.672, 851.86, 851.869, 851.963, 852.073, 852.176, 852.373, 852.476, 852.582, 944.185, 944.772, 945.109, 945.199, 945.203, 945.208, 945.416, 945.541, 945.643, 946.272, 946.591, 948.39, 948.945, 948.955, 949.973, 949.982, 950.002, 998.793, 999.181, 999.735, 999.739, 999.962, 1000.06, 1000.19, 1000.27, 1000.29, 1000.4, 1000.49, 1000.59, 1001.04, 1037.12, 1038.16, 1038.17, 1038.26, 1038.27, 1038.48, 1038.59, 1038.6, 1038.61, 1039.57, 1070.47, 1071.61, 1072.04, 1072.04, 1072.27, 1072.27, 1072.39, 1072.5, 1072.73, 1073.04, 1073.35, 1073.58, 1073.59, 1106.85, 1107.68, 1107.68, 1108.01, 1108.33, 1108.35, 1108.46, 1108.84, 1165.37, 1165.59, 1165.82, 1165.95, 1166.16, 1166.16, 1197.78, 1199.11, 1199.31, 1200.25, 1200.26, 1200.71, 1200.82, 1200.82, 1200.92, 1201.04]), array([33.0036, 33.2413, 33.2646, 33.2694, 33.3659, 33.3783, 33.3868, 33.4711, 33.5842, 33.7025, 33.7197, 33.8308, 35.1292, 162.024, 162.031, 256.206, 257.034, 257.037, 257.051, 257.142, 257.163, 261.98, 262.101, 314.73, 512.519, 512.963, 512.979, 512.983, 559.19, 559.201, 559.21, 559.408, 559.65, 560.032, 560.134, 599.342, 599.423, 599.512, 599.519, 599.661, 599.793, 599.898, 651.288, 652.049, 692.87, 692.877, 692.888, 738.358, 741.124, 763.629, 763.645, 768.449, 805.951, 806.052, 806.059, 807.04, 807.243, 807.254, 807.259, 807.266, 849.202, 849.431, 849.52, 849.745, 849.751, 849.757, 942.053, 942.065, 942.58, 942.584, 942.589, 942.602, 943.377, 943.699, 946.254, 947.509, 948.351, 997.219, 997.235, 997.485, 997.682, 998.702, 1035.82, 1035.83, 1068.26, 1068.51, 1068.78, 1069.08, 1069.3, 1069.44, 1070.33, 1070.33, 1073.49, 1104.78, 1104.79, 1105.37, 1105.63, 1105.76, 1106.19, 1106.2, 1106.2, 1163.76]), array([33.8407, 34.1928, 37.7135, ..., 1203.35, 1203.44, 1203.47]), array([33.7505, 34.1331, 35.1228, 35.1341, 35.3961, 35.6084, 35.6257, 162.156, 162.992, 162.999, 163.011, 256.502, 257.895, 257.909, 258.145, 258.159, 258.625, 258.64, 314.518, 315.704, 315.709, 317.641, 317.873, 513.454, 516.785, 561.653, 561.657, 561.661, 564.035, 600.563, 600.58, 646.281, 646.74, 646.75, 649.712, 651.29, 651.302, 652.572, 693.295, 693.3, 694.111, 694.118, 735.757, 735.761, 735.765, 764.809, 810.234, 944.044, 949.902, 950.968, 951.001, 951.006, 998.363, 998.367, 998.723, 1036.7, 1036.91, 1036.92, 1069.33, 1070.56, 1104.84, 1104.85, 1104.85, 1106.41, 1106.42, 1106.75, 1106.78, 1164.3, 1164.32, 1166.72, 1195.96, 1196.02, 1198.03, 1198.03, 1198.04, 1198.27]), array([33.7269, 33.8369, 165.807, 165.813, 166.617, 166.629, 317.494, 317.855, 317.861, 318.579, 318.597, 318.842, 515.862, 516.084, 516.123, 516.333, 563.442, 604.031, 649.578, 649.914, 650.637, 651.607, 653.045, 653.049, 695.765, 695.876, 696.342, 764.323, 764.333, 766.643, 766.937, 767.456, 767.582, 767.761, 807.236, 807.245, 807.381, 807.433, 807.48, 809.31, 849.739, 849.898, 851.66, 851.97, 851.98, 852.335, 943.352, 943.356, 943.447, 943.494, 943.633, 946.263, 946.283, 946.468, 946.514, 946.622, 998.012, 998.016, 998.211, 998.385, 1000.86, 1036.23, 1036.24, 1036.34, 1036.39, 1036.41, 1039.53, 1069.87, 1070.32, 1106.06, 1106.17, 1106.21, 1106.33, 1108.55, 1108.55, 1109.27, 1109.29, 1163.96, 1164.06, 1164.07, 1164.08, 1195.75, 1195.75, 1195.85, 1195.92]), array([32.5414, 37.7116, 37.9501, 38.3169, 38.4038, 38.4336, 38.6255, 39.4983, 161.738, 161.747, 161.79, 164.882, 164.997, 165.118, 165.119, 165.209, 165.322, 256.695, 259.955, 260.2, 260.418, 260.542, 262.485, 317.155, 317.162, 317.41, 317.565, 512.434, 515.192, 515.275, 515.527, 515.65, 515.85, 515.863, 560.06, 560.075, 560.19, 563.118, 563.339, 563.347, 563.878, 564.095, 564.228, 599.406, 599.486, 599.495, 599.736, 602.655, 602.77, 602.883, 603.298, 603.395, 603.531, 648.297, 649.668, 649.78, 649.923, 650.057, 651.731, 652.663, 653.275, 653.346, 653.374, 653.978, 654.036, 655.16, 695.765, 695.772, 695.85, 695.876, 696.098, 696.563, 696.622, 737.8, 737.993, 738.332, 738.621, 740.825, 763.26, 763.551, 763.705, 766.56, 766.643, 766.772, 766.887, 767.227, 805.221, 806.202, 806.374, 809.432, 809.77, 848.993, 849.45, 849.456, 852.087, 852.316, 852.406, 942.485, 945.647, 946.013, 948.372, 948.974, 949.952, 950.809, 951.096, 951.118, 999.967, 1001.98, 1035.86, 1036.66, 1038.28, 1038.49, 1038.6, 1038.82, 1038.94, 1039.05, 1039.3, 1039.55, 1068.71, 1071.16, 1072.04, 1072.72, 1105.2, 1105.3, 1105.32, 1107.67, 1108.34, 1108.35, 1108.46, 1108.46, 1108.91, 1109.19, 1165.37, 1165.6, 1165.84, 1166.37, 1166.47, 1195.11, 1197.78, 1197.78, 1199.1, 1199.11, 1199.32, 1200.26, 1200.6, 1200.81, 1201.1, 1201.15, 1201.16]), array([32.4292, 35.8871, 35.9949, 36.2496, 36.9081, 36.9115, 37.9631, 163.357, 163.483, 163.591, 163.714, 163.729, 163.851, 163.951, 167.318, 258.256, 259.092, 259.17, 259.176, 259.271, 259.28, 261.512, 261.891, 315.582, 315.821, 316.066, 316.139, 316.363, 513.568, 513.892, 514.12, 514.132, 514.233, 514.24, 514.338, 514.518, 514.631, 516.191, 517.1, 518.126, 559.49, 559.874, 561.533, 561.543, 561.759, 561.764, 561.874, 561.883, 562.094, 562.21, 599.597, 600.923, 601.138, 601.145, 601.475, 601.572, 601.581, 601.665, 604.296, 646.411, 646.625, 646.849, 647.077, 647.494, 647.673, 648.843, 694.008, 694.222, 694.227, 694.449, 694.454, 694.565, 694.644, 694.676, 694.72, 694.873, 696.73, 696.836, 697.239, 697.244, 697.521, 735.2, 735.554, 735.908, 736.368, 736.372, 736.601, 736.892, 737.11, 737.127, 739.39, 739.513, 739.522, 739.616, 739.681, 739.784, 739.812, 739.819, 740.05, 764.797, 764.904, 765.128, 765.146, 765.253, 765.468, 765.483, 765.541, 765.651, 765.784, 766.828, 768.144, 768.189, 768.227, 768.307, 768.5, 768.506, 768.681, 768.768, 768.931, 768.94, 807.152, 807.801, 807.807, 808.013, 808.018, 808.279, 808.364, 808.428, 808.458, 810.233, 810.924, 811.102, 811.864, 811.924, 811.994, 850.383, 850.493, 850.499, 850.712, 850.717, 850.902, 850.919, 851.01, 852.328, 852.918, 853.03, 853.447, 853.56, 853.652, 853.674, 853.687, 943.718, 944.153, 944.158, 944.276, 944.281, 944.382, 944.607, 946.225, 946.896, 946.928, 946.944, 946.975, 947, 947.281, 947.314, 947.573, 947.669, 948.13, 948.307, 949.346, 950.681, 998.811, 998.906, 998.916, 999.019, 999.115, 999.125, 999.13, 999.193, 999.314, 999.339, 1000.35, 1001.66, 1001.75, 1001.91, 1036.8, 1037.01, 1037.01, 1037.02, 1037.23, 1037.34, 1037.34, 1037.43, 1037.83, 1040.44, 1070.68, 1070.79, 1071.12, 1071.23, 1071.34, 1071.43, 1071.44, 1071.49, 1071.52, 1073.37, 1073.88, 1073.97, 1106.52, 1106.74, 1106.85, 1106.86, 1106.96, 1106.96, 1107.08, 1107.16, 1107.26, 1107.27, 1107.32, 1107.32, 1109.51, 1109.65, 1110.05, 1164.26, 1164.54, 1164.64, 1164.75, 1164.76, 1164.87, 1165.01, 1165.2, 1165.21, 1165.39, 1167.55, 1167.58, 1167.59, 1195.27, 1196.22, 1196.45, 1196.56, 1196.68, 1196.91, 1197, 1197.11, 1197.99, 1198.12, 1198.94, 1199.67, 1200.42, 1202.98, 1203.04, 1203.26, 1203.44, 1203.49, 1203.53, 1203.57]), array([35.0796, 35.2078, 35.3442, 38.4571, 38.4636, 38.8495, 38.9759, 39.2853, 162.144, 162.957, 163.183, 164.264, 165.972, 166.057, 166.278, 166.635, 167.03, 260.984, 260.99, 261.623, 261.628, 315.401, 318.055, 318.105, 318.339, 318.344, 318.506, 318.531, 318.864, 318.982, 319.132, 516.324, 516.333, 516.505, 516.857, 517.289, 517.401, 517.948, 517.973, 560.95, 564.203, 564.338, 564.676, 564.812, 565.367, 565.378, 599.596, 603.35, 603.482, 604.643, 604.647, 652.473, 653.084, 653.095, 696.87, 697.266, 734.675, 738.643, 738.679, 738.697, 738.704, 738.948, 739.743, 739.761, 740.005, 740.639, 767.408, 767.88, 768.726, 768.75, 806.031, 810.023, 810.101, 810.115, 810.134, 810.364, 811.201, 811.206, 811.282, 812.083, 812.087, 852.559, 852.995, 853.331, 853.462, 946.394, 946.397, 947.025, 947.084, 947.221, 947.358, 947.487, 947.612, 947.639, 947.656, 948.052, 948.708, 949.509, 949.514, 949.619, 949.624, 949.639, 951.301, 951.305, 951.322, 951.35, 998.214, 1001.14, 1001.28, 1001.42, 1001.53, 1001.8, 1002.13, 1040.16, 1040.17, 1040.24, 1040.37, 1040.6, 1040.6, 1040.61, 1069.45, 1070.75, 1072.62, 1073.44, 1073.53, 1073.54, 1073.56, 1074.04, 1074.05, 1074.05, 1109.4, 1109.41, 1109.56, 1109.98, 1110, 1110, 1166.96, 1167.05, 1167.08, 1167.08, 1167.14, 1167.34, 1167.35, 1167.35, 1167.48, 1167.5, 1167.75, 1196.3, 1197.87, 1197.89, 1197.89, 1198.53, 1199.14, 1199.15, 1201.58, 1201.59, 1201.81, 1202.33, 1202.66, 1202.77, 1202.92, 1203.3]), array([38.0988, 38.2217, 38.2267, 38.3292, 38.3391, 38.3547, 38.4071, 38.4135, 38.4281, 38.5154, 38.5847, 38.7287, 38.9253, 39.0554, 39.1854, 39.2115, 39.2272, 39.3864, 39.644, 39.6732, 162.862, 165.326, 165.33, 165.449, 165.565, 165.571, 165.671, 165.684, 165.778, 165.789, 165.833, 165.867, 165.87, 165.881, 165.967, 166.072, 166.191, 166.202, 166.318, 166.459, 166.483, 166.671, 166.942, 167.087, 260.316, 260.421, 260.532, 260.542, 260.734, 260.747, 260.752, 260.766, 260.845, 260.95, 261.118, 261.146, 261.248, 261.523, 261.578, 261.646, 261.758, 261.763, 261.812, 262.105, 262.26, 262.267, 262.297, 262.315, 262.468, 262.48, 316.329, 317.177, 317.422, 317.425, 317.627, 317.632, 317.732, 317.737, 317.847, 317.856, 317.865, 317.941, 317.95, 318.04, 318.046, 318.157, 318.302, 318.327, 318.349, 318.498, 318.676, 318.773, 318.778, 319.022, 319.062, 512.774, 515.198, 515.54, 515.647, 515.675, 515.752, 515.764, 515.871, 515.877, 516.065, 516.072, 516.08, 516.087, 516.153, 516.236, 516.268, 516.29, 516.298, 516.364, 516.448, 516.478, 516.591, 516.871, 516.93, 517.177, 517.242, 517.429, 517.541, 517.643, 517.734, 518.1, 563.128, 563.132, 563.351, 563.561, 563.676, 563.681, 563.79, 564.016, 564.096, 564.112, 564.209, 564.31, 564.329, 564.393, 564.433, 564.474, 564.534, 564.553, 564.603, 564.67, 564.787, 564.947, 564.955, 602.547, 602.556, 602.56, 602.664, 602.882, 602.89, 602.999, 603.004, 603.01, 603.134, 603.237, 603.241, 603.335, 603.356, 603.36, 603.411, 603.433, 603.476, 603.513, 603.564, 603.652, 603.756, 603.807, 603.884, 603.913, 648.3, 648.542, 649.355, 649.595, 649.934, 650.05, 650.777, 650.787, 650.792, 651.257, 651.274, 651.289, 652.444, 652.45, 652.453, 652.474, 654.065, 654.985, 655.173, 655.176, 695.769, 695.778, 695.883, 696.096, 696.102, 696.326, 696.33, 696.337, 696.343, 696.349, 696.446, 696.45, 696.458, 696.568, 696.641, 696.679, 696.728, 696.758, 696.784, 696.811, 696.825, 696.897, 696.908, 696.953, 696.989, 697.044, 697.218, 737.805, 738.121, 738.128, 738.134, 738.242, 738.348, 738.354, 738.361, 738.366, 738.439, 738.449, 738.461, 738.492, 738.535, 738.547, 738.58, 738.614, 738.663, 738.71, 738.749, 738.768, 738.795, 738.859, 738.881, 738.973, 739.232, 740.808, 766.559, 766.565, 766.671, 766.75, 766.891, 766.895, 766.899, 767.004, 767.121, 767.135, 767.215, 767.229, 767.246, 767.298, 767.345, 767.357, 767.414, 767.435, 767.457, 767.541, 767.568, 767.678, 767.719, 767.747, 767.814, 767.922, 768.635, 806.219, 809.544, 809.557, 809.656, 809.762, 809.768, 809.773, 809.885, 809.89, 809.895, 809.987, 809.992, 809.998, 810.074, 810.087, 810.117, 810.176, 810.185, 810.263, 810.282, 810.29, 810.306, 810.328, 810.341, 810.356, 810.417, 810.433, 810.55, 811.317, 812.102, 812.121, 851.673, 851.681, 851.897, 852.093, 852.099, 852.2, 852.205, 852.214, 852.32, 852.42, 852.435, 852.524, 852.531, 852.536, 852.626, 852.631, 852.643, 852.662, 852.727, 852.74, 852.769, 852.87, 852.882, 853.021, 945.651, 945.661, 945.826, 945.918, 945.924, 945.93, 946.037, 946.042, 946.121, 946.126, 946.208, 946.228, 946.329, 946.342, 946.373, 946.428, 946.558, 946.595, 946.831, 947.525, 948.91, 948.922, 948.948, 949.95, 949.957, 949.962, 999.976, 1000.3, 1000.41, 1000.52, 1000.53, 1000.63, 1000.63, 1000.83, 1000.84, 1000.85, 1000.96, 1001.02, 1001.04, 1001.05, 1001.07, 1001.1, 1001.13, 1001.18, 1001.22, 1001.23, 1001.32, 1001.36, 1001.36, 1001.4, 1001.82, 1002.28, 1002.29, 1038.28, 1038.5, 1038.83, 1038.94, 1038.94, 1039.18, 1039.29, 1039.31, 1039.42, 1039.43, 1039.53, 1039.62, 1039.62, 1039.62, 1039.64, 1039.75, 1039.76, 1039.8, 1039.84, 1039.85, 1039.92, 1039.93, 1040.1, 1040.11, 1040.12, 1072.96, 1072.96, 1073.06, 1073.06, 1073.08, 1073.16, 1073.17, 1073.18, 1073.28, 1073.29, 1073.3, 1073.38, 1073.4, 1073.41, 1073.47, 1073.51, 1073.52, 1073.58, 1073.63, 1073.71, 1073.99, 1108.46, 1108.68, 1108.8, 1108.8, 1109.02, 1109.11, 1109.24, 1109.36, 1109.37, 1109.38, 1109.39, 1109.4, 1109.43, 1109.45, 1109.57, 1110.07, 1166.38, 1166.48, 1166.59, 1166.6, 1166.81, 1166.82, 1166.91, 1166.92, 1166.93, 1166.95, 1167, 1167.04, 1167.23, 1167.25, 1167.27, 1167.36, 1167.39, 1167.51, 1199.11, 1199.32, 1200.73, 1201.16, 1201.17, 1201.27, 1201.36, 1201.38, 1201.47, 1201.47, 1201.48, 1201.48, 1201.52, 1201.54, 1201.6, 1201.64, 1201.72, 1201.95, 1201.97, 1201.98, 1202.08, 1202.11, 1202.12, 1202.21, 1202.66, 1202.95]), array([31.9612, 32.3603, 34.018, 34.9626, 34.9711, 34.9849, 35.0521, 35.0658, 35.7143, 35.8226, 37.0342, 37.3657, 37.5951, 162.622, 162.718, 163.055, 163.096, 163.337, 163.625, 163.811, 164.135, 164.368, 164.62, 164.844, 164.853, 165.158, 256.102, 256.847, 257.982, 257.991, 258.004, 258.112, 258.195, 258.835, 258.949, 259.082, 259.578, 259.699, 259.704, 259.922, 260.732, 315.684, 315.93, 316.105, 316.489, 316.785, 316.797, 317.139, 317.629, 319.087, 512.148, 512.165, 513.327, 513.408, 513.989, 514.324, 514.553, 514.72, 514.725, 514.781, 514.964, 515.012, 558.43, 558.638, 558.839, 558.846, 558.984, 559.172, 559.25, 559.258, 559.502, 559.777, 560.089, 561.169, 561.266, 561.269, 561.468, 561.955, 562.188, 562.33, 562.483, 562.772, 563.1, 563.108, 563.204, 599.902, 600.433, 601.118, 601.407, 601.842, 602.295, 602.302, 603.123, 646.252, 646.358, 646.383, 647.284, 647.522, 647.561, 648.035, 648.965, 649.97, 651.874, 652.311, 652.675, 652.697, 652.872, 653.883, 693.734, 693.836, 694.662, 694.777, 694.791, 695.11, 695.174, 695.289, 695.406, 697.246, 734.552, 734.623, 735.369, 735.864, 736.632, 737.106, 737.115, 737.34, 737.672, 737.866, 737.884, 739.378, 740.147, 764.934, 765.593, 765.961, 766.108, 766.423, 768.272, 805.924, 806.018, 806.04, 807.446, 807.547, 807.637, 807.651, 808.045, 808.285, 808.517, 808.578, 808.742, 808.974, 808.978, 810.385, 810.489, 848.98, 850.119, 850.135, 850.528, 850.594, 850.985, 851.205, 851.645, 851.85, 852.976, 853.444, 943.568, 943.674, 944.423, 944.757, 944.916, 945.026, 945.08, 945.086, 948.399, 950.923, 950.926, 950.942, 998.888, 998.934, 998.942, 999.395, 999.561, 999.717, 999.933, 999.948, 1000.76, 1036.54, 1036.99, 1037.04, 1037.27, 1037.73, 1037.79, 1038.15, 1038.15, 1039.89, 1068.38, 1068.62, 1068.63, 1068.64, 1068.83, 1069.55, 1070.84, 1071.15, 1071.28, 1071.6, 1071.61, 1071.88, 1072.02, 1072.2, 1072.25, 1072.26, 1072.62, 1072.76, 1104.85, 1104.86, 1105.02, 1105.19, 1105.37, 1105.37, 1107.18, 1107.22, 1107.51, 1107.89, 1107.95, 1108, 1108.22, 1108.31, 1108.68, 1163.55, 1164.36, 1164.85, 1164.91, 1164.98, 1165.59, 1165.81, 1166.04, 1195.87, 1196.59, 1197.76, 1199.1, 1199.27, 1199.81, 1200.25, 1200.35, 1203.4]), array([34.9678, 35.0836, 35.2327, 35.974, 37.723, 37.8323, 37.8367, 37.8412, 37.9738, 38.0594, 38.0856, 38.0919, 38.2008, 38.3487, 39.455, 39.7121, 162.631, 165.212, 165.228, 165.453, 165.462, 165.681, 166.636, 257.769, 257.858, 260.743, 260.915, 261.509, 315.174, 317.765, 318.989, 513.093, 515.771, 515.986, 515.999, 516.003, 516.752, 517.137, 563.458, 563.574, 563.694, 563.701, 563.796, 563.804, 563.816, 564.06, 564.415, 599.596, 600.778, 602.901, 604.702, 646.133, 649.709, 650.154, 650.16, 650.257, 650.502, 650.509, 650.514, 651.217, 651.226, 651.249, 651.413, 651.418, 652.438, 652.463, 652.666, 652.676, 653.229, 653.236, 653.242, 653.249, 653.404, 653.728, 653.745, 654.69, 693.61, 696.224, 734.912, 738.477, 738.943, 740.638, 740.831, 740.835, 740.854, 764.233, 764.393, 766.789, 767.114, 767.235, 768.886, 768.89, 806.398, 807.331, 809.436, 811.177, 811.834, 849.829, 850.137, 850.218, 852.445, 852.61, 852.894, 946.163, 946.419, 946.649, 947.474, 948.952, 948.957, 950.076, 950.522, 998.123, 1001, 1001.41, 1001.97, 1039.43, 1039.88, 1073.74, 1108.58, 1108.92, 1167.73, 1201.39, 1201.41, 1202.05]), array([38.7094, 39.0648, 39.0867, 163.57, 163.689, 164.076, 166.597, 166.74, 166.874, 166.888, 166.997, 167.013, 261.12, 261.342, 261.353, 261.61, 314.302, 315.302, 315.524, 316.513, 318.584, 318.888, 318.959, 318.967, 319.06, 513.423, 513.741, 514.094, 514.885, 516.823, 517.099, 517.105, 517.108, 517.376, 517.673, 518.111, 518.337, 559.419, 559.428, 562.435, 564.04, 564.666, 564.76, 564.775, 564.783, 565.18, 565.337, 565.369, 599.402, 600.651, 600.67, 601.097, 602.04, 603.711, 603.734, 603.839, 603.945, 603.953, 603.957, 603.963, 604.006, 604.115, 604.137, 604.346, 604.576, 646.145, 646.834, 652.468, 652.483, 693.929, 694.432, 696.587, 696.593, 696.849, 697.066, 697.078, 697.097, 697.25, 697.259, 697.399, 697.405, 697.499, 734.651, 738.475, 738.487, 738.82, 738.825, 738.921, 738.941, 739.145, 739.16, 739.166, 739.181, 739.239, 739.353, 740.201, 740.427, 740.458, 740.485, 763.231, 763.24, 763.247, 764.577, 764.865, 765.8, 767.256, 767.501, 767.73, 767.86, 767.869, 767.882, 768, 768.007, 768.122, 768.207, 768.377, 768.504, 768.522, 768.536, 768.773, 768.834, 768.971, 805.081, 805.086, 805.939, 806.525, 807.564, 807.742, 810.019, 810.224, 810.243, 810.499, 810.702, 810.716, 810.846, 811.03, 811.129, 811.209, 811.226, 811.448, 811.555, 848.971, 849.069, 850.04, 850.263, 852.566, 852.775, 852.794, 852.922, 852.927, 853.148, 853.273, 853.298, 853.324, 853.42, 853.603, 853.677, 942.049, 942.246, 942.457, 943.657, 944.135, 944.824, 946.615, 946.621, 946.625, 946.751, 947.083, 947.208, 947.299, 947.566, 947.619, 947.635, 947.884, 948.013, 948.661, 949.183, 949.23, 949.614, 949.899, 950.625, 950.669, 950.93, 951.319, 951.431, 997.432, 997.435, 998.341, 998.421, 998.428, 999.242, 1001.14, 1001.14, 1001.26, 1001.27, 1001.51, 1001.53, 1001.62, 1001.64, 1001.74, 1001.88, 1001.91, 1002.1, 1002.14, 1035.57, 1037.58, 1037.99, 1039.55, 1040.03, 1040.05, 1040.21, 1040.26, 1040.28, 1040.35, 1040.47, 1040.58, 1068.5, 1070.43, 1070.75, 1071.06, 1071.57, 1071.85, 1072.1, 1073.2, 1073.21, 1073.77, 1073.79, 1073.93, 1074.02, 1074.03, 1074.04, 1074.15, 1074.2, 1105.12, 1105.12, 1105.31, 1106.38, 1106.48, 1107.52, 1107.6, 1109.14, 1109.51, 1109.52, 1109.53, 1109.67, 1109.69, 1109.82, 1109.93, 1163.51, 1163.52, 1164.19, 1165.31, 1165.44, 1166.72, 1166.97, 1167.49, 1167.53, 1167.67, 1167.72, 1167.73, 1167.74, 1195.17, 1196.08, 1196.17, 1196.54, 1196.65, 1199.13, 1199.14, 1199.35, 1199.56, 1201.5, 1201.91, 1202.04, 1202.04, 1202.29, 1202.33, 1202.36, 1202.36, 1202.51, 1202.62, 1202.75, 1202.87, 1202.95, 1202.97, 1203.26, 1203.32]), array([32.6858, 36.6555, 36.9072, 36.9105, 164.74, 259.118, 259.835, 602.186, 602.193, 602.197, 647.674, 648.156, 648.832, 808.855, 1037.83, 1037.84, 1072.15, 1104.89, 1107.78, 1107.78, 1108.13, 1108.13, 1165.26, 1197.62, 1197.64, 1198.53, 1198.54, 1198.55, 1198.55, 1198.69, 1199.92, 1200.14, 1200.14, 1203.27]), array([35.5001, 35.5041, 35.5102, 35.7193, 35.7289, 35.7692, 35.7905, 35.8773, 35.8863, 35.9213, 35.9672, 35.9769, 35.995, 36.1779, 36.1836, 36.1886, 36.3137, 36.365, 36.5099, 36.5491, 36.5639, 36.574, 36.5987, 36.6863, 36.7058, 36.8467, 36.8682, 37.0261, 37.0519, 37.0612, 37.0676, 37.1488, 37.1624, 37.1958, 37.2016, 37.2084, 37.2392, 37.3075, 37.3169, 37.357, 37.4134, 37.449, 37.5215, 37.5479, 37.5822, 37.6575, 37.6686, 37.6833, 163.124, 163.243, 163.248, 163.261, 163.355, 163.442, 163.466, 163.475, 163.503, 163.579, 163.626, 163.638, 163.643, 163.651, 163.74, 163.782, 163.806, 163.818, 163.843, 163.9, 163.919, 164.008, 164.033, 164.041, 164.262, 164.399, 164.423, 164.498, 164.531, 164.691, 164.711, 164.724, 164.814, 164.883, 164.89, 164.899, 164.931, 164.937, 165.02, 165.03, 165.174, 165.277, 165.295, 258.252, 258.255, 258.368, 258.375, 258.388, 258.413, 258.422, 258.487, 258.507, 258.527, 258.545, 258.61, 258.655, 258.667, 258.672, 258.725, 258.77, 258.778, 258.835, 258.852, 258.917, 259.035, 259.043, 259.055, 259.071, 259.146, 259.15, 259.161, 259.174, 259.258, 259.275, 259.309, 259.379, 259.398, 259.442, 259.69, 259.802, 259.812, 259.901, 259.914, 259.975, 260.007, 260.101, 260.137, 260.365, 315.146, 315.367, 315.573, 315.583, 315.589, 315.695, 315.707, 315.778, 315.802, 315.812, 315.818, 315.827, 315.904, 315.929, 315.943, 316.004, 316.038, 316.053, 316.067, 316.11, 316.124, 316.146, 316.161, 316.185, 316.275, 316.287, 316.348, 316.382, 316.467, 316.496, 316.577, 316.588, 316.602, 316.638, 316.696, 316.716, 317.109, 317.19, 317.331, 317.568, 513.567, 513.678, 513.772, 513.779, 513.787, 513.887, 513.893, 513.948, 513.983, 513.993, 513.999, 514.041, 514.057, 514.073, 514.077, 514.172, 514.199, 514.266, 514.279, 514.288, 514.294, 514.299, 514.402, 514.432, 514.512, 514.549, 514.648, 514.663, 514.688, 514.746, 514.784, 514.853, 514.884, 514.977, 514.994, 515.246, 515.358, 515.605, 561.311, 561.327, 561.421, 561.503, 561.519, 561.529, 561.535, 561.554, 561.569, 561.637, 561.692, 561.701, 561.717, 561.796, 561.805, 561.905, 561.926, 562.041, 562.046, 562.15, 562.26, 562.27, 562.279, 562.315, 562.385, 563.005, 563.09, 563.518, 600.802, 600.887, 600.9, 600.91, 600.917, 601.001, 601.023, 601.045, 601.109, 601.121, 601.134, 601.187, 601.192, 601.304, 601.31, 601.316, 601.323, 601.407, 601.413, 601.42, 601.545, 601.582, 601.651, 601.688, 601.764, 601.771, 601.903, 601.92, 602.019, 602.126, 602.134, 646.392, 646.409, 646.509, 646.517, 646.577, 646.594, 646.6, 646.713, 646.719, 646.755, 646.78, 646.786, 646.792, 646.826, 646.855, 646.887, 646.895, 646.913, 646.934, 646.959, 646.992, 647.025, 647.038, 647.136, 647.143, 647.147, 647.248, 647.256, 647.264, 647.302, 647.368, 647.374, 647.396, 647.422, 647.483, 647.495, 647.514, 647.626, 648.26, 648.487, 648.674, 648.784, 648.789, 649.405, 649.537, 649.656, 649.764, 651.921, 654.225, 693.779, 693.889, 693.967, 693.973, 693.979, 693.993, 694.085, 694.101, 694.157, 694.165, 694.181, 694.196, 694.202, 694.212, 694.218, 694.254, 694.262, 694.282, 694.288, 694.304, 694.376, 694.385, 694.402, 694.418, 694.492, 694.5, 694.511, 694.52, 694.532, 694.618, 694.626, 694.644, 694.689, 694.722, 694.753, 694.843, 694.855, 694.866, 694.971, 695.092, 734.48, 734.862, 734.871, 734.964, 734.973, 734.977, 735.182, 735.232, 735.24, 735.255, 735.52, 735.526, 735.534, 735.542, 735.644, 735.86, 735.88, 735.917, 735.975, 735.995, 736.02, 736.238, 736.32, 736.351, 736.359, 736.385, 736.463, 736.538, 736.542, 736.656, 736.663, 736.668, 736.674, 736.794, 737.021, 737.048, 737.134, 737.142, 737.156, 737.275, 737.466, 737.479, 737.626, 737.708, 737.834, 764.352, 764.596, 764.67, 764.676, 764.681, 764.755, 764.789, 764.794, 764.8, 764.893, 764.9, 764.945, 764.964, 764.987, 765.005, 765.026, 765.062, 765.068, 765.072, 765.135, 765.182, 765.197, 765.223, 765.24, 765.296, 765.317, 765.417, 765.422, 765.558, 765.587, 765.671, 765.679, 765.77, 765.879, 765.893, 807.38, 807.47, 807.593, 807.669, 807.767, 807.79, 807.858, 807.875, 807.889, 807.897, 807.947, 807.96, 807.974, 807.988, 807.999, 808.025, 808.084, 808.094, 808.12, 808.14, 808.177, 808.213, 808.229, 808.312, 808.318, 808.333, 808.353, 808.461, 808.555, 808.581, 808.648, 808.767, 809.842, 849.826, 850.072, 850.14, 850.172, 850.259, 850.272, 850.283, 850.383, 850.427, 850.439, 850.45, 850.459, 850.501, 850.544, 850.551, 850.646, 850.66, 850.671, 850.759, 850.783, 850.798, 850.805, 850.889, 850.928, 851.11, 851.12, 851.134, 851.242, 851.254, 851.34, 852.258, 943.722, 943.774, 943.804, 943.808, 943.885, 943.894, 943.906, 943.923, 944.027, 944.084, 944.092, 944.1, 944.11, 944.136, 944.149, 944.208, 944.214, 944.225, 944.262, 944.286, 944.313, 944.319, 944.327, 944.424, 944.436, 944.476, 944.546, 944.616, 944.655, 944.662, 944.677, 944.795, 944.918, 945.027, 945.114, 945.714, 945.872, 950.342, 998.458, 998.571, 998.622, 998.638, 998.649, 998.746, 998.764, 998.797, 998.815, 998.842, 998.845, 998.891, 998.964, 998.973, 998.986, 999.057, 999.064, 999.076, 999.101, 999.116, 999.176, 999.199, 999.212, 999.314, 999.341, 999.451, 999.506, 999.654, 999.679, 1000.3, 1000.48, 1036.58, 1036.59, 1036.66, 1036.69, 1036.78, 1036.79, 1036.82, 1036.86, 1036.97, 1037.01, 1037.05, 1037.07, 1037.07, 1037.14, 1037.18, 1037.19, 1037.22, 1037.28, 1037.29, 1037.3, 1037.4, 1037.41, 1037.42, 1037.52, 1037.53, 1037.74, 1037.76, 1037.86, 1038.34, 1038.49, 1038.93, 1038.98, 1070.46, 1070.67, 1070.77, 1070.89, 1070.94, 1070.96, 1071, 1071.02, 1071.04, 1071.06, 1071.08, 1071.1, 1071.12, 1071.18, 1071.21, 1071.27, 1071.29, 1071.29, 1071.33, 1071.39, 1071.41, 1071.5, 1071.52, 1071.73, 1071.75, 1071.88, 1106.11, 1106.51, 1106.51, 1106.52, 1106.53, 1106.61, 1106.62, 1106.63, 1106.68, 1106.72, 1106.73, 1106.74, 1106.77, 1106.82, 1106.86, 1106.9, 1106.93, 1106.94, 1106.95, 1107.02, 1107.05, 1107.07, 1107.11, 1107.13, 1107.23, 1107.23, 1107.24, 1107.28, 1107.34, 1107.35, 1107.36, 1107.37, 1107.46, 1107.7, 1164.39, 1164.4, 1164.42, 1164.44, 1164.48, 1164.49, 1164.54, 1164.54, 1164.58, 1164.58, 1164.63, 1164.64, 1164.68, 1164.7, 1164.71, 1164.73, 1164.74, 1164.81, 1164.83, 1164.84, 1164.85, 1164.94, 1164.95, 1165.02, 1165.04, 1165.05, 1165.21, 1165.22, 1165.28, 1165.29, 1165.32, 1165.39, 1165.4, 1165.43, 1165.52, 1196.21, 1196.22, 1196.31, 1196.31, 1196.34, 1196.42, 1196.43, 1196.45, 1196.45, 1196.5, 1196.54, 1196.55, 1196.56, 1196.62, 1196.66, 1196.67, 1196.69, 1196.74, 1196.75, 1196.77, 1196.8, 1196.82, 1196.84, 1196.85, 1196.86, 1196.88, 1196.96, 1196.97, 1196.98, 1197.02, 1197.37, 1198, 1198.4, 1198.93, 1198.95, 1199.06, 1199.41, 1199.46, 1199.47, 1199.48, 1199.57, 1199.65, 1199.67, 1199.75, 1199.76, 1199.94, 1200.06, 1200.5, 1200.63, 1200.64, 1201.08, 1201.2]), array([34.5214, 34.5255, 35.2797, 35.286, 36.7727, 36.7768, 37.5936, 37.5968, 37.6003, 164.751, 164.755, 259.267, 259.271, 317.048, 317.052, 317.056, 318.439, 511.986, 511.99, 513.225, 558.491, 558.496, 652.694, 736.175, 851.568, 851.572, 997.808, 997.812, 1069.3, 1069.31, 1072.63, 1072.63, 1072.63, 1108.24, 1108.25, 1163.79, 1198.71, 1198.72, 1198.72]), array([35.9075, 35.9129, 36.0037, 36.0084, 36.1194, 36.2741, 36.3393, 163.377, 163.498, 163.597, 163.742, 163.747, 163.889, 163.923, 163.958, 164.081, 164.091, 164.282, 164.311, 164.318, 164.409, 257.753, 258.634, 258.743, 258.751, 258.854, 258.869, 258.974, 258.978, 259.086, 259.349, 314.982, 315.178, 316.072, 316.156, 316.403, 316.633, 316.699, 512.865, 513.07, 514.02, 514.44, 514.518, 514.562, 514.568, 559.075, 559.271, 560.711, 560.715, 561.986, 562.092, 562.146, 562.168, 562.376, 562.379, 562.51, 562.517, 600.085, 600.211, 600.311, 601.374, 601.39, 601.463, 601.557, 601.57, 601.579, 601.756, 601.802, 646.232, 647.083, 647.202, 647.329, 647.423, 693.596, 694.464, 694.622, 694.688, 694.729, 736.61, 736.752, 736.772, 736.829, 736.9, 736.908, 765.143, 765.236, 765.253, 765.267, 808.032, 808.331, 808.339, 808.563, 849.832, 850.504, 850.719, 850.728, 850.82, 944.382, 944.5, 944.556, 944.575, 944.699, 945.142, 949.722, 950.94, 950.992, 997.386, 999.12, 999.19, 999.225, 999.305, 999.315, 999.38, 999.435, 999.446, 1036.16, 1036.53, 1037.02, 1037.12, 1037.13, 1037.23, 1037.23, 1037.33, 1037.4, 1037.66, 1037.74, 1037.78, 1038.24, 1071.02, 1071.13, 1071.24, 1071.24, 1071.34, 1071.35, 1071.35, 1071.37, 1071.38, 1071.44, 1071.54, 1071.55, 1071.64, 1071.66, 1071.73, 1071.74, 1106.17, 1106.53, 1106.86, 1106.96, 1106.96, 1107.08, 1107.18, 1107.25, 1107.25, 1107.27, 1107.27, 1107.34, 1107.36, 1107.37, 1107.48, 1107.51, 1107.79, 1108.13, 1108.13, 1108.14, 1163.99, 1164.65, 1164.65, 1164.88, 1164.99, 1165.01, 1165.1, 1165.11, 1165.12, 1165.17, 1165.2, 1165.2, 1165.31, 1165.65, 1167.04, 1196.16, 1196.38, 1196.99, 1197, 1197.07, 1197.14, 1197.21, 1197.28, 1197.37, 1197.67, 1197.96, 1198.06, 1198.3, 1198.33, 1198.34, 1198.57, 1198.9, 1199, 1199.45, 1199.49, 1199.63, 1199.77, 1200.15, 1200.15, 1203.26, 1203.59]), array([34.9994, 35.0117, 35.0162, 35.0205, 35.0261, 35.0304, 35.1776, 35.1827, 35.1883, 35.2194, 35.2493, 35.3264, 35.3412, 35.3595, 35.378, 35.4556, 35.4608, 35.4834, 35.4988, 35.5113, 35.55, 35.5662, 35.5925, 35.6042, 35.6752, 35.7265, 35.7355, 35.7815, 35.7954, 35.8055, 35.8472, 35.8547, 35.9299, 35.9971, 36.0439, 36.2911, 36.3367, 36.3628, 36.519, 36.5762, 36.6721, 36.6761, 36.826, 36.9305, 36.9378, 37.9718, 39.7283, 162.753, 162.873, 162.887, 162.911, 163.065, 163.095, 163.127, 163.16, 163.169, 163.345, 163.354, 163.376, 163.439, 163.52, 163.559, 163.685, 163.7, 163.756, 163.772, 163.781, 163.794, 163.904, 163.929, 164.006, 164.046, 164.075, 164.154, 164.197, 164.25, 164.261, 164.266, 164.406, 164.411, 164.524, 164.56, 257.982, 258.018, 258.029, 258.034, 258.236, 258.343, 258.348, 258.367, 258.45, 258.455, 258.526, 258.585, 258.589, 258.624, 258.657, 258.677, 258.722, 258.731, 258.784, 258.805, 258.811, 258.84, 258.848, 259.023, 259.053, 259.088, 259.143, 259.148, 259.282, 259.29, 259.303, 259.377, 259.381, 259.389, 259.504, 259.517, 259.627, 314.889, 315.133, 315.14, 315.342, 315.356, 315.548, 315.591, 315.654, 315.67, 315.702, 315.737, 315.742, 315.752, 315.815, 315.823, 315.831, 315.887, 315.897, 316.013, 316.051, 316.085, 316.122, 316.172, 316.247, 316.281, 316.288, 316.344, 316.361, 316.452, 316.457, 316.464, 316.499, 316.51, 316.578, 316.582, 316.596, 316.612, 316.694, 316.705, 316.821, 316.837, 512.896, 513.345, 513.556, 513.563, 513.672, 513.845, 513.852, 513.865, 513.921, 513.967, 513.976, 513.996, 514.085, 514.112, 514.184, 514.189, 514.223, 514.227, 514.289, 514.31, 514.323, 514.451, 514.468, 514.529, 514.548, 514.555, 514.567, 514.634, 514.654, 514.673, 514.759, 514.772, 514.872, 515.009, 561.087, 561.091, 561.096, 561.102, 561.215, 561.26, 561.313, 561.328, 561.418, 561.492, 561.498, 561.533, 561.539, 561.689, 561.696, 561.733, 561.761, 561.819, 561.846, 561.867, 561.957, 562.055, 562.096, 562.115, 562.132, 562.197, 562.265, 562.279, 562.29, 562.304, 562.389, 562.394, 562.553, 562.805, 562.815, 600.475, 600.679, 600.689, 600.695, 600.86, 600.867, 600.894, 600.918, 600.989, 600.997, 601.003, 601.015, 601.137, 601.21, 601.248, 601.351, 601.438, 601.527, 601.543, 601.573, 601.653, 601.677, 601.752, 601.766, 602.027, 602.209, 646.174, 646.179, 646.412, 646.512, 646.598, 646.612, 646.638, 646.717, 646.799, 646.83, 646.849, 646.919, 646.985, 647.007, 647.061, 647.08, 647.188, 647.198, 647.247, 647.287, 647.297, 647.311, 647.322, 647.379, 647.407, 647.478, 647.484, 647.504, 647.631, 647.691, 647.703, 647.733, 647.841, 647.958, 648.171, 693.551, 693.565, 693.768, 693.884, 693.969, 693.983, 694.001, 694.012, 694.076, 694.188, 694.223, 694.228, 694.233, 694.306, 694.31, 694.339, 694.347, 694.409, 694.414, 694.432, 694.538, 694.617, 694.621, 694.643, 694.648, 694.66, 694.741, 694.752, 694.759, 694.849, 694.86, 694.867, 694.885, 694.986, 694.99, 695.104, 695.22, 695.239, 734.465, 734.481, 734.804, 734.811, 734.837, 734.947, 735.056, 735.066, 735.191, 735.395, 735.463, 735.467, 735.55, 735.558, 735.569, 735.692, 735.699, 735.705, 735.93, 735.937, 735.941, 735.946, 736.039, 736.051, 736.172, 736.184, 736.194, 736.3, 736.576, 736.582, 736.594, 736.724, 736.803, 736.916, 736.929, 737.015, 737.039, 737.046, 737.056, 737.152, 737.161, 737.276, 740.854, 740.861, 740.872, 763.313, 763.321, 763.328, 763.915, 763.93, 764.246, 764.357, 764.365, 764.369, 764.444, 764.465, 764.562, 764.568, 764.656, 764.661, 764.733, 764.742, 764.75, 764.844, 764.976, 765.013, 765.071, 765.084, 765.193, 765.224, 765.313, 765.429, 765.473, 765.546, 765.557, 765.6, 765.658, 765.663, 765.688, 765.696, 765.709, 765.765, 765.886, 766.008, 806.929, 807.363, 807.368, 807.468, 807.473, 807.48, 807.57, 807.576, 807.582, 807.665, 807.678, 807.688, 807.7, 807.742, 807.755, 807.803, 807.844, 807.85, 807.857, 807.865, 807.893, 807.942, 807.975, 807.99, 808.102, 808.122, 808.236, 808.337, 808.342, 808.439, 808.545, 808.548, 808.553, 808.647, 808.651, 808.677, 808.869, 808.872, 849.845, 849.85, 849.867, 850.044, 850.049, 850.062, 850.15, 850.157, 850.243, 850.249, 850.261, 850.269, 850.275, 850.402, 850.455, 850.473, 850.51, 850.549, 850.577, 850.682, 850.8, 850.817, 850.872, 850.89, 850.904, 851.012, 851.15, 851.235, 851.244, 851.339, 943.486, 943.49, 943.497, 943.587, 943.601, 943.695, 943.7, 943.782, 943.787, 943.879, 943.884, 943.936, 943.961, 943.965, 944.008, 944.096, 944.143, 944.23, 944.341, 944.383, 944.484, 944.488, 944.514, 944.56, 944.565, 944.59, 944.661, 944.688, 944.703, 944.783, 944.794, 945.01, 945.02, 948.981, 951.124, 951.146, 951.151, 998.156, 998.162, 998.25, 998.254, 998.265, 998.455, 998.469, 998.538, 998.541, 998.55, 998.658, 998.774, 998.857, 998.908, 998.983, 999.009, 999.014, 999.109, 999.114, 999.201, 999.206, 999.297, 999.414, 999.422, 999.557, 999.632, 999.656, 999.777, 1036.37, 1036.38, 1036.38, 1036.57, 1036.57, 1036.58, 1036.67, 1036.76, 1036.76, 1036.79, 1036.81, 1036.84, 1037.01, 1037.02, 1037.09, 1037.17, 1037.24, 1037.32, 1037.34, 1037.39, 1037.43, 1037.44, 1037.45, 1037.46, 1037.61, 1037.63, 1037.64, 1037.75, 1037.77, 1037.77, 1037.78, 1037.84, 1037.85, 1037.97, 1037.97, 1069.21, 1069.43, 1070.35, 1070.56, 1070.57, 1070.66, 1070.68, 1070.76, 1070.78, 1070.82, 1070.83, 1070.83, 1070.86, 1070.89, 1070.9, 1070.91, 1070.93, 1070.94, 1071.02, 1071.04, 1071.06, 1071.12, 1071.21, 1071.3, 1071.32, 1071.34, 1071.36, 1071.41, 1071.43, 1071.52, 1071.53, 1071.54, 1071.62, 1071.63, 1071.63, 1071.85, 1071.87, 1071.96, 1105.96, 1106.22, 1106.31, 1106.32, 1106.33, 1106.5, 1106.5, 1106.52, 1106.58, 1106.59, 1106.63, 1106.65, 1106.68, 1106.73, 1106.74, 1106.83, 1106.87, 1106.91, 1107.06, 1107.13, 1107.16, 1107.19, 1107.24, 1107.26, 1107.27, 1107.28, 1107.33, 1107.35, 1107.39, 1107.4, 1107.46, 1107.47, 1107.57, 1107.58, 1107.72, 1107.73, 1108.04, 1108.04, 1163.93, 1164.15, 1164.2, 1164.2, 1164.21, 1164.29, 1164.29, 1164.31, 1164.38, 1164.39, 1164.41, 1164.44, 1164.46, 1164.51, 1164.54, 1164.56, 1164.61, 1164.63, 1164.64, 1164.86, 1164.89, 1164.94, 1164.94, 1164.97, 1165.09, 1165.1, 1165.21, 1165.26, 1165.41, 1165.5, 1165.52, 1195.78, 1195.89, 1195.89, 1195.9, 1196.1, 1196.11, 1196.12, 1196.18, 1196.18, 1196.19, 1196.2, 1196.26, 1196.26, 1196.27, 1196.27, 1196.32, 1196.34, 1196.46, 1196.48, 1196.53, 1196.57, 1196.64, 1196.76, 1196.81, 1196.87, 1196.89, 1196.97, 1196.98, 1197.1, 1197.19, 1197.32, 1197.34, 1197.45, 1197.65, 1197.67, 1197.83, 1197.85, 1197.98, 1198.07, 1198.07, 1198.08, 1198.08, 1198.17, 1198.21, 1198.29, 1198.31, 1198.35, 1198.61, 1198.62, 1198.75, 1198.76, 1198.8, 1198.82, 1198.85, 1198.91, 1198.95, 1198.98, 1199, 1199.21, 1199.41, 1199.41, 1199.42, 1199.46, 1199.47, 1199.54, 1199.63, 1199.64, 1199.65, 1199.73, 1199.74, 1200.09, 1200.17]), array([32.0149, 32.4633, 32.4788, 36.5091, 161.799, 512.279, 512.463, 512.478, 558.449, 559.162, 559.171, 559.307, 559.36, 559.532, 559.587, 599.272, 599.274, 599.349, 650.72, 651.266, 736.742, 763.425, 766.71, 805.926, 848.835, 849.203, 849.242, 849.248, 849.251, 950.92, 997.291, 1035.54, 1068.23, 1068.59, 1068.6, 1068.61, 1069.02, 1069.11, 1069.22, 1069.36, 1104.63, 1105.02, 1105.17, 1105.19, 1105.23, 1105.29, 1105.6, 1195.05, 1195.06, 1195.16, 1195.37, 1195.38, 1195.53, 1198.68]), array([35.0043, 35.0089, 35.0129, 35.2554, 35.2612, 35.2749, 35.3483, 35.3528, 35.3607, 35.3808, 35.4619, 35.4659, 35.4762, 35.5322, 35.5553, 35.666, 35.6733, 35.6788, 35.8299, 36.1696, 36.1766, 36.4201, 36.6197, 36.6616, 36.665, 36.6791, 162.829, 163.088, 163.103, 163.111, 163.132, 163.198, 163.202, 163.207, 163.222, 163.245, 163.278, 163.288, 163.298, 163.305, 163.314, 163.395, 163.411, 163.436, 163.451, 163.515, 163.518, 163.525, 163.766, 163.771, 163.782, 164.247, 164.254, 164.262, 164.278, 164.566, 164.886, 258.136, 258.232, 258.238, 258.314, 258.317, 258.325, 258.33, 258.336, 258.361, 258.396, 258.404, 258.411, 258.422, 258.427, 258.466, 258.529, 258.547, 258.671, 258.679, 258.795, 258.818, 258.83, 258.92, 259.127, 259.137, 259.159, 315.135, 315.336, 315.34, 315.345, 315.35, 315.433, 315.44, 315.448, 315.534, 315.544, 315.552, 315.56, 315.565, 315.608, 315.612, 315.633, 315.65, 315.662, 315.722, 315.731, 315.746, 315.753, 315.761, 315.786, 315.869, 315.884, 315.914, 316.199, 316.202, 317.423, 513.542, 513.546, 513.549, 513.642, 513.646, 513.665, 513.732, 513.735, 513.742, 513.75, 513.762, 513.8, 513.804, 513.809, 513.835, 513.843, 513.849, 513.922, 513.927, 513.942, 513.955, 514.066, 514.153, 514.158, 514.194, 514.369, 514.372, 514.391, 561.097, 561.315, 561.406, 561.415, 561.422, 561.49, 561.499, 561.503, 561.525, 561.572, 561.576, 561.581, 561.59, 561.598, 561.676, 561.683, 561.69, 561.708, 561.817, 561.823, 563.99, 600.466, 600.471, 600.684, 600.774, 600.778, 600.801, 600.805, 600.814, 600.848, 600.855, 600.861, 600.879, 600.884, 600.889, 600.894, 600.909, 600.96, 600.964, 600.972, 600.981, 600.989, 600.998, 601.056, 601.063, 601.077, 601.09, 601.2, 601.214, 601.3, 601.308, 646.389, 646.394, 646.405, 646.482, 646.486, 646.566, 646.569, 646.648, 646.654, 646.66, 646.666, 646.766, 646.77, 646.783, 646.89, 646.917, 646.928, 647.012, 647.03, 647.162, 647.167, 647.68, 693.767, 693.771, 693.872, 693.879, 693.953, 693.956, 693.96, 693.967, 694.042, 694.053, 694.06, 694.07, 694.074, 694.079, 694.147, 694.185, 694.2, 694.275, 694.283, 694.393, 694.398, 734.592, 734.599, 734.611, 734.918, 734.932, 735.151, 735.154, 735.16, 735.286, 735.29, 735.296, 735.304, 735.39, 735.5, 735.515, 735.52, 735.609, 735.612, 735.617, 735.656, 735.697, 735.721, 735.726, 735.867, 735.875, 735.997, 736.16, 736.171, 736.516, 736.53, 763.539, 763.896, 763.903, 764.121, 764.211, 764.309, 764.312, 764.644, 764.659, 764.663, 764.718, 764.724, 764.733, 764.816, 764.825, 764.83, 764.835, 764.942, 764.945, 764.951, 764.957, 765.059, 765.067, 765.074, 765.079, 765.339, 766.254, 806.905, 807.033, 807.306, 807.321, 807.385, 807.391, 807.497, 807.501, 807.507, 807.517, 807.58, 807.672, 807.695, 807.71, 807.756, 807.761, 807.77, 807.778, 807.833, 807.839, 807.844, 807.85, 807.928, 807.934, 807.942, 807.956, 807.973, 808.073, 808.103, 808.197, 808.403, 808.418, 808.503, 849.134, 849.526, 849.738, 849.742, 849.867, 850.013, 850.051, 850.056, 850.161, 850.175, 850.209, 850.244, 850.248, 850.254, 850.314, 850.327, 850.336, 850.342, 850.358, 850.408, 850.412, 850.438, 850.445, 850.551, 850.571, 850.635, 850.639, 942.834, 942.84, 943.152, 943.166, 943.36, 943.367, 943.449, 943.451, 943.453, 943.5, 943.511, 943.544, 943.72, 943.798, 943.802, 943.874, 943.883, 943.89, 943.896, 943.915, 943.974, 943.996, 944.001, 944.072, 944.077, 944.085, 944.092, 944.208, 944.321, 944.634, 998.174, 998.269, 998.363, 998.366, 998.459, 998.471, 998.535, 998.539, 998.551, 998.559, 998.605, 998.625, 998.728, 998.747, 998.75, 998.773, 998.866, 1036.25, 1036.28, 1036.38, 1036.38, 1036.43, 1036.57, 1036.57, 1036.59, 1036.67, 1036.68, 1036.73, 1036.74, 1036.75, 1036.75, 1036.76, 1036.79, 1036.86, 1036.86, 1036.87, 1036.88, 1036.92, 1036.95, 1036.96, 1037.07, 1037.08, 1037.09, 1037.17, 1037.18, 1037.18, 1037.31, 1070.33, 1070.47, 1070.64, 1070.65, 1070.84, 1070.85, 1070.86, 1070.87, 1070.92, 1070.92, 1070.97, 1071.03, 1071.04, 1071.04, 1071.06, 1071.18, 1071.19, 1104.9, 1106.09, 1106.18, 1106.41, 1106.49, 1106.5, 1106.6, 1106.61, 1106.66, 1106.67, 1106.68, 1106.68, 1106.72, 1106.78, 1106.79, 1106.8, 1106.81, 1106.83, 1106.89, 1106.89, 1106.9, 1106.91, 1106.92, 1107.02, 1107.04, 1107.12, 1107.73, 1108.16, 1164.21, 1164.21, 1164.22, 1164.29, 1164.3, 1164.3, 1164.38, 1164.39, 1164.4, 1164.41, 1164.45, 1164.47, 1164.48, 1164.48, 1164.51, 1164.55, 1164.56, 1164.58, 1164.6, 1164.61, 1164.69, 1164.71, 1164.83, 1195.45, 1196.12, 1196.18, 1196.19, 1196.21, 1196.28, 1196.29, 1196.29, 1196.31, 1196.31, 1196.38, 1196.38, 1196.39, 1196.41, 1196.49, 1196.5, 1196.51, 1196.52, 1196.73, 1197.48, 1198.02, 1198.02, 1199.72, 1199.91, 1199.91]), array([32.0756, 32.1243, 32.35, 32.4939, 33.0385, 33.1991, 33.2482, 33.2542, 33.2755, 33.2904, 33.412, 38.5072, 161.661, 161.748, 161.756, 161.782, 161.789, 161.805, 161.949, 162.053, 162.06, 166.405, 256.69, 257.082, 258.553, 260.909, 314.364, 314.429, 314.555, 512.172, 512.415, 512.669, 513.18, 515.983, 558.981, 559.645, 559.768, 560.08, 563.465, 564.469, 599.392, 599.415, 604.557, 645.956, 650.565, 696.212, 735.398, 738.43, 738.51, 763.243, 763.252, 763.438, 763.825, 764.353, 768.695, 806.024, 806.335, 806.406, 848.815, 848.853, 849.048, 849.245, 849.465, 853.088, 942.304, 942.548, 942.65, 942.999, 943.62, 946.209, 997.436, 997.443, 997.453, 997.463, 997.748, 1035.8, 1068.39, 1068.4, 1068.4, 1068.42, 1068.71, 1069.12, 1069.18, 1069.37, 1069.39, 1069.48, 1073.79, 1074.16, 1104.71, 1104.74, 1105.08, 1105.13, 1105.19, 1105.34, 1105.54, 1105.71, 1105.82, 1163.47, 1163.48, 1163.59, 1195.19, 1195.5, 1199.93, 1201.45]), array([32.4997, 32.7549, 32.7643, 32.8674, 32.8854, 32.8934, 32.9831, 32.9876, 33.0207, 33.1252, 33.3609, 33.8296, 33.8415, 33.8899, 33.8953, 33.947, 33.9509, 33.9802, 34.0069, 34.0654, 34.0943, 34.1679, 34.1747, 34.2307, 34.2926, 34.3038, 34.3439, 34.4064, 34.4187, 34.5418, 34.5459, 34.5686, 34.6744, 34.6819, 34.7752, 35.1311, 35.3361, 35.3467, 36.9145, 37.01, 37.1412, 37.2536, 37.4149, 37.5133, 37.5544, 161.894, 161.9, 161.906, 162.125, 162.129, 162.247, 162.266, 162.337, 162.352, 162.361, 162.415, 162.433, 162.502, 162.557, 162.562, 162.567, 162.572, 163.013, 164.89, 164.895, 165.047, 165.058, 165.125, 165.188, 165.232, 165.238, 165.353, 165.362, 165.368, 165.494, 167.027, 256.059, 256.098, 256.458, 256.604, 256.626, 256.63, 256.759, 257.279, 257.363, 257.486, 257.564, 257.57, 257.586, 257.663, 257.667, 257.699, 257.949, 258.053, 259.711, 259.936, 259.947, 260.018, 260.054, 260.083, 260.162, 260.202, 260.471, 314.375, 314.47, 314.496, 314.628, 314.705, 314.714, 314.74, 314.799, 314.803, 314.892, 315.141, 315.156, 317.254, 317.365, 317.397, 317.442, 317.459, 317.464, 317.47, 317.528, 317.533, 512.626, 512.725, 512.754, 512.84, 512.852, 512.949, 512.961, 513.017, 513.021, 513.04, 513.056, 513.133, 513.163, 513.245, 513.265, 513.315, 515.064, 515.07, 515.16, 515.18, 515.186, 515.29, 515.381, 515.39, 515.456, 515.668, 515.69, 559.392, 559.732, 560.367, 560.379, 560.382, 560.59, 560.595, 560.709, 560.777, 560.82, 560.853, 560.891, 560.966, 560.989, 561.041, 561.125, 562.903, 563.044, 563.087, 563.201, 563.255, 563.388, 599.543, 599.753, 599.758, 599.867, 599.98, 600.081, 600.105, 600.128, 600.132, 600.154, 600.171, 600.175, 600.204, 600.266, 600.37, 600.495, 600.502, 600.531, 602.086, 602.099, 602.103, 602.285, 602.306, 602.316, 602.356, 602.422, 602.452, 602.799, 645.783, 645.849, 645.853, 645.868, 645.973, 647.582, 647.818, 647.913, 647.947, 648.792, 649.237, 649.333, 649.42, 649.484, 650.481, 651.364, 652.2, 652.26, 652.319, 652.689, 652.783, 653.699, 653.846, 654.017, 654.351, 692.904, 692.989, 693.033, 693.05, 693.054, 693.09, 693.128, 693.184, 693.189, 693.228, 693.266, 693.335, 693.346, 693.372, 693.476, 693.489, 693.571, 694.964, 695.067, 695.418, 695.425, 695.531, 695.544, 695.662, 695.686, 695.843, 695.852, 696.378, 735.087, 736.151, 737.132, 737.558, 737.567, 737.587, 737.694, 737.833, 737.875, 737.961, 740.861, 763.288, 763.298, 763.517, 763.523, 763.742, 763.745, 763.865, 763.954, 763.963, 763.998, 764.031, 764.049, 764.059, 764.094, 764.271, 764.281, 764.385, 764.481, 765.982, 765.989, 766.215, 766.232, 766.302, 766.325, 805.348, 806.344, 806.682, 806.793, 806.797, 806.873, 806.881, 806.889, 806.943, 807.032, 807.086, 807.295, 807.659, 808.533, 808.974, 808.978, 809.1, 809.105, 809.201, 809.288, 809.306, 809.35, 809.4, 809.408, 809.466, 809.51, 809.53, 809.565, 848.708, 849.055, 849.106, 849.111, 849.118, 849.264, 849.315, 849.401, 849.404, 849.497, 849.54, 849.564, 849.598, 849.658, 849.661, 849.673, 849.783, 849.926, 850.45, 851.207, 851.212, 851.442, 851.452, 851.64, 851.741, 851.781, 851.864, 851.908, 942.277, 942.806, 942.809, 942.816, 942.923, 942.935, 943.017, 943.023, 943.041, 943.123, 943.131, 943.137, 943.197, 943.233, 943.241, 943.247, 943.321, 943.358, 943.41, 943.425, 943.431, 943.582, 944.78, 944.982, 945.093, 945.203, 945.299, 945.303, 945.318, 945.336, 945.425, 945.502, 945.514, 945.582, 945.629, 945.678, 951.022, 951.151, 997.432, 997.478, 997.566, 997.683, 997.765, 997.77, 997.869, 997.875, 997.902, 997.935, 998.065, 998.069, 998.079, 998.172, 998.175, 998.185, 998.95, 998.954, 999.613, 999.739, 999.743, 999.845, 999.846, 999.851, 1000.05, 1000.06, 1000.07, 1000.13, 1000.16, 1000.24, 1000.33, 1000.33, 1000.45, 1035.57, 1035.61, 1035.61, 1035.62, 1035.62, 1035.71, 1035.73, 1035.83, 1035.91, 1035.91, 1035.92, 1036.11, 1036.19, 1036.2, 1036.22, 1036.27, 1036.51, 1036.66, 1037.51, 1037.95, 1037.95, 1038.17, 1038.25, 1038.27, 1038.27, 1038.39, 1038.47, 1038.49, 1038.55, 1038.63, 1038.86, 1068.07, 1068.23, 1068.36, 1068.5, 1068.58, 1068.59, 1068.6, 1068.7, 1068.97, 1068.97, 1069.13, 1069.19, 1069.28, 1069.5, 1069.51, 1069.52, 1069.54, 1069.6, 1069.61, 1069.68, 1069.71, 1069.72, 1069.73, 1069.73, 1069.8, 1069.92, 1069.92, 1070.02, 1070.02, 1070.16, 1070.18, 1070.21, 1070.23, 1070.24, 1070.36, 1070.37, 1070.39, 1071.93, 1072.05, 1072.27, 1072.36, 1072.37, 1072.48, 1072.5, 1072.59, 1072.69, 1072.72, 1072.78, 1072.86, 1072.88, 1104.73, 1105.64, 1105.65, 1105.74, 1105.85, 1105.85, 1105.95, 1106.02, 1106.12, 1106.15, 1106.22, 1106.34, 1107.68, 1107.9, 1108.11, 1108.21, 1108.26, 1108.27, 1108.31, 1108.38, 1108.43, 1108.45, 1108.6, 1108.72, 1163.52, 1163.64, 1163.69, 1163.73, 1163.76, 1163.84, 1163.92, 1163.93, 1164.02, 1164.07, 1164.26, 1165.38, 1165.83, 1165.83, 1165.94, 1166.04, 1166.14, 1166.16, 1166.25, 1166.32, 1166.42, 1166.54, 1195.09, 1195.43, 1195.43, 1195.44, 1195.44, 1195.51, 1195.52, 1195.55, 1195.57, 1195.61, 1195.62, 1195.64, 1195.65, 1195.66, 1195.7, 1195.83, 1195.91, 1196.04, 1196.29, 1198.52, 1199.29, 1200.26, 1200.37, 1200.48, 1200.59, 1200.6, 1200.69, 1200.71, 1200.81, 1200.85, 1200.89, 1200.93, 1200.97, 1201, 1201.2]), array([34.8519, 34.9774, 34.9826, 35.0779, 35.0819, 35.0864, 35.0917, 35.1766, 35.1904, 35.2795, 35.8743, 35.8812, 36.1327, 37.9685, 38.2076, 38.2229, 38.2325, 38.2768, 38.3264, 38.3314, 38.3882, 38.3945, 38.3979, 38.4107, 38.4344, 38.4829, 38.5136, 38.6104, 38.6139, 38.6177, 38.7391, 38.7436, 38.8713, 38.8763, 39.036, 39.1903, 39.2933, 39.2974, 39.3309, 39.3383, 39.42, 39.4472, 39.6508, 39.6612, 162.397, 162.632, 162.643, 162.742, 162.85, 162.855, 162.951, 163.039, 163.045, 163.072, 165.004, 165.327, 165.332, 165.563, 165.575, 165.664, 165.668, 165.68, 165.774, 165.777, 165.784, 165.79, 165.85, 165.855, 165.88, 165.91, 165.965, 165.969, 165.989, 166.091, 166.123, 166.346, 166.393, 166.491, 166.497, 166.596, 166.721, 166.83, 166.837, 166.848, 166.937, 166.944, 166.953, 256.755, 257.538, 257.775, 257.881, 257.887, 257.991, 257.995, 258.055, 258.065, 258.07, 258.107, 258.181, 258.187, 258.208, 260.42, 260.431, 260.538, 260.542, 260.557, 260.643, 260.647, 260.729, 260.732, 260.736, 260.805, 260.831, 260.835, 260.844, 260.852, 260.914, 261.016, 261.023, 261.033, 261.056, 261.142, 261.15, 261.265, 261.299, 261.399, 261.431, 261.557, 262.235, 262.288, 315.103, 315.116, 315.216, 315.299, 315.311, 315.39, 315.394, 315.484, 315.489, 317.175, 317.422, 317.523, 317.626, 317.63, 317.637, 317.693, 317.831, 317.848, 317.862, 317.931, 317.936, 318.007, 318.011, 318.021, 318.035, 318.048, 318.125, 318.149, 318.257, 318.267, 318.516, 318.567, 318.641, 319.051, 319.066, 319.263, 319.328, 512.293, 512.885, 513.323, 513.328, 513.43, 513.514, 513.518, 513.581, 513.585, 513.591, 513.598, 513.7, 515.193, 515.199, 515.536, 515.54, 515.545, 515.654, 515.658, 515.74, 515.748, 515.752, 515.759, 515.838, 515.852, 516.05, 516.07, 516.082, 516.127, 516.16, 516.239, 516.242, 516.248, 516.364, 516.406, 516.425, 516.491, 516.517, 516.623, 516.756, 517.09, 517.232, 560.948, 561.183, 561.187, 561.268, 561.281, 563.35, 563.357, 563.564, 563.568, 563.665, 563.668, 563.675, 563.763, 563.775, 563.779, 563.796, 563.878, 563.882, 563.903, 563.912, 563.968, 563.977, 564, 564.005, 564.079, 564.102, 564.183, 564.189, 564.197, 564.201, 564.306, 564.313, 564.323, 564.444, 564.481, 600.443, 600.454, 600.646, 600.665, 600.725, 600.729, 600.741, 600.757, 600.846, 600.853, 602.561, 602.662, 602.782, 602.881, 602.889, 602.996, 603, 603.006, 603.098, 603.101, 603.118, 603.126, 603.223, 603.227, 603.238, 603.312, 603.398, 603.402, 603.436, 603.523, 603.539, 603.565, 603.649, 603.655, 603.664, 646.151, 646.155, 646.259, 646.264, 646.359, 646.365, 646.432, 646.441, 646.445, 646.453, 646.55, 648.301, 648.547, 648.553, 649.362, 649.593, 649.601, 649.94, 650.049, 650.052, 650.787, 652.442, 652.45, 652.458, 652.468, 653.27, 654.059, 655.165, 655.184, 693.531, 693.648, 693.734, 693.804, 693.824, 693.833, 693.921, 693.93, 693.944, 695.435, 695.774, 695.882, 696.089, 696.098, 696.103, 696.109, 696.201, 696.316, 696.323, 696.435, 696.46, 696.517, 696.526, 696.538, 696.546, 696.561, 696.626, 696.632, 696.639, 696.675, 696.743, 696.88, 696.9, 697.008, 734.564, 734.623, 734.664, 734.866, 735.035, 737.582, 737.803, 737.809, 738.023, 738.123, 738.137, 738.228, 738.232, 738.244, 738.249, 738.322, 738.333, 738.353, 738.507, 738.524, 738.549, 738.562, 738.61, 738.625, 738.74, 738.765, 738.776, 738.803, 738.984, 739.824, 739.914, 741.142, 764.242, 764.43, 764.49, 764.593, 764.597, 764.606, 764.612, 764.735, 764.95, 764.954, 766.342, 766.558, 766.563, 766.675, 766.784, 766.89, 766.894, 766.904, 766.991, 767.089, 767.19, 767.202, 767.211, 767.304, 767.329, 767.354, 767.419, 767.422, 768.936, 807.535, 807.542, 807.553, 807.605, 807.614, 807.647, 809.436, 809.441, 809.657, 809.663, 809.753, 809.76, 809.865, 809.875, 809.964, 809.975, 809.98, 809.99, 810.048, 810.068, 810.077, 810.086, 810.157, 810.19, 810.28, 810.29, 811.719, 849.842, 850.014, 850.098, 850.113, 850.122, 851.675, 851.678, 852.087, 852.191, 852.21, 852.308, 852.312, 852.321, 852.398, 852.406, 852.416, 852.422, 852.489, 852.503, 852.516, 852.583, 852.593, 852.61, 852.622, 852.639, 852.702, 852.719, 852.841, 852.967, 853.101, 853.106, 853.435, 853.615, 943.483, 943.571, 943.617, 943.633, 943.661, 943.677, 943.736, 944.052, 945.438, 945.446, 945.651, 945.661, 945.825, 945.831, 945.903, 945.92, 945.926, 945.933, 945.998, 946.008, 946.022, 946.03, 946.04, 946.093, 946.105, 946.128, 946.201, 946.219, 946.227, 946.297, 946.331, 946.339, 946.435, 946.44, 946.831, 946.855, 947.887, 948.955, 949.347, 949.953, 949.968, 950.963, 998.037, 998.229, 998.233, 998.33, 998.431, 999.754, 999.759, 1000.3, 1000.3, 1000.41, 1000.51, 1000.52, 1000.54, 1000.61, 1000.72, 1000.73, 1000.73, 1000.75, 1000.8, 1000.84, 1000.84, 1000.9, 1000.91, 1000.98, 1001.08, 1001.17, 1001.17, 1001.18, 1001.18, 1001.53, 1001.69, 1001.91, 1002.17, 1036.46, 1036.49, 1036.55, 1036.6, 1036.6, 1036.61, 1036.62, 1038.28, 1038.28, 1038.51, 1038.82, 1038.83, 1038.94, 1038.94, 1038.95, 1038.98, 1039.17, 1039.17, 1039.19, 1039.27, 1039.3, 1039.4, 1039.41, 1039.41, 1039.42, 1039.49, 1039.5, 1039.59, 1039.61, 1039.63, 1039.73, 1039.73, 1039.75, 1039.82, 1039.84, 1040.1, 1040.72, 1068.41, 1069.26, 1069.89, 1070.4, 1070.41, 1070.42, 1070.46, 1070.51, 1070.51, 1070.57, 1070.57, 1070.62, 1070.63, 1070.71, 1070.71, 1072.28, 1072.73, 1072.75, 1072.85, 1072.94, 1072.96, 1073.03, 1073.04, 1073.05, 1073.05, 1073.07, 1073.15, 1073.15, 1073.23, 1073.25, 1073.26, 1073.28, 1073.35, 1073.38, 1073.6, 1073.61, 1073.67, 1074.17, 1106.09, 1106.27, 1106.28, 1106.31, 1106.33, 1106.35, 1106.37, 1106.38, 1106.45, 1106.46, 1106.46, 1106.55, 1107.69, 1108.35, 1108.46, 1108.47, 1108.58, 1108.68, 1108.68, 1108.69, 1108.77, 1108.79, 1108.9, 1108.9, 1108.97, 1108.98, 1108.99, 1109.01, 1109.08, 1109.09, 1109.1, 1109.12, 1109.16, 1109.19, 1109.2, 1109.27, 1109.32, 1109.34, 1109.55, 1163.99, 1164, 1164.11, 1164.17, 1164.17, 1164.23, 1164.25, 1164.27, 1164.35, 1164.35, 1164.36, 1166.17, 1166.17, 1166.38, 1166.47, 1166.48, 1166.49, 1166.56, 1166.58, 1166.59, 1166.67, 1166.68, 1166.7, 1166.72, 1166.77, 1166.79, 1166.81, 1166.82, 1166.91, 1166.91, 1166.94, 1166.99, 1167.01, 1167.05, 1167.17, 1167.19, 1167.2, 1167.25, 1167.55, 1167.57, 1195.68, 1195.86, 1195.94, 1195.95, 1196.02, 1196.04, 1196.06, 1196.07, 1196.14, 1196.16, 1198.27, 1199.12, 1199.12, 1199.32, 1200.62, 1200.95, 1201.16, 1201.16, 1201.25, 1201.26, 1201.27, 1201.36, 1201.36, 1201.43, 1201.44, 1201.45, 1201.47, 1201.48, 1201.53, 1201.54, 1201.55, 1201.58, 1201.61, 1201.62, 1201.65, 1201.84, 1201.97, 1202.04, 1202.13, 1202.17, 1202.23, 1202.29, 1202.32, 1202.7, 1202.75]), array([38.2734, 166.756, 261.753, 319.224, 319.257, 517.67, 517.678, 564.552, 564.924, 565.302, 604.164, 604.546, 604.553, 693.738, 697.425, 697.43, 739.344, 739.353, 739.802, 740.148, 766.998, 768.147, 768.197, 768.569, 768.682, 768.813, 810.103, 810.742, 810.746, 810.883, 811.18, 811.207, 811.211, 811.277, 852.194, 852.789, 852.925, 853.172, 853.193, 853.329, 853.448, 946.512, 946.515, 946.65, 946.792, 946.933, 947.195, 947.203, 947.612, 947.861, 948.146, 948.231, 948.468, 948.821, 949.149, 949.575, 950.621, 950.625, 950.63, 951.392, 951.397, 951.406, 1000.62, 1000.63, 1000.84, 1001.28, 1001.28, 1001.52, 1001.65, 1001.69, 1001.86, 1001.86, 1002.09, 1002.22, 1040.03, 1040.05, 1040.06, 1040.06, 1040.19, 1040.19, 1040.27, 1040.46, 1040.47, 1040.47, 1040.56, 1040.7, 1073.2, 1073.21, 1073.21, 1073.43, 1073.43, 1073.45, 1073.66, 1073.67, 1073.82, 1073.9, 1073.91, 1074.19, 1108.37, 1108.8, 1109.03, 1109.04, 1109.14, 1109.15, 1109.17, 1109.52, 1110.04, 1166.18, 1166.5, 1166.5, 1166.6, 1166.71, 1166.73, 1166.73, 1166.96, 1199.13, 1199.13, 1199.14, 1199.14, 1199.15, 1199.16, 1199.34, 1199.34, 1199.35, 1199.35, 1200.73, 1200.96, 1201.17, 1201.18, 1201.28, 1201.43, 1201.49, 1201.49, 1201.67, 1201.92, 1202.36]), array([35.1136, 35.1219, 35.8732, 35.8781, 35.884, 35.9162, 35.9195, 35.9317, 35.9435, 36.1776, 36.1872, 36.1919, 36.2928, 36.3033, 36.3092, 36.4192, 36.5769, 36.6081, 36.676, 36.6886, 36.6997, 36.7471, 36.8121, 36.8161, 36.8258, 36.8659, 36.952, 36.9663, 37.1002, 37.1193, 161.794, 161.836, 163.129, 163.237, 163.242, 163.353, 163.365, 163.369, 163.466, 163.47, 163.485, 163.499, 163.573, 163.583, 163.594, 163.619, 163.628, 163.648, 163.696, 163.714, 163.744, 163.795, 163.806, 163.844, 163.904, 163.923, 164.021, 164.041, 164.067, 164.09, 164.161, 164.19, 164.205, 164.261, 164.398, 164.402, 164.462, 164.516, 258.259, 258.372, 258.493, 258.502, 258.506, 258.526, 258.598, 258.602, 258.616, 258.622, 258.653, 258.664, 258.724, 258.729, 258.786, 258.794, 258.854, 258.896, 258.926, 258.949, 259.017, 259.046, 259.059, 259.146, 259.149, 259.154, 259.281, 259.332, 259.383, 259.393, 259.439, 259.509, 259.539, 259.557, 259.637, 259.642, 315.582, 315.587, 315.707, 315.801, 315.807, 315.812, 315.819, 315.825, 315.834, 315.92, 315.932, 315.94, 315.966, 315.971, 316.03, 316.042, 316.052, 316.088, 316.105, 316.113, 316.121, 316.23, 316.388, 316.392, 316.461, 316.532, 316.596, 316.608, 316.696, 316.738, 316.744, 316.867, 513.774, 513.778, 513.891, 513.899, 513.908, 513.989, 514.001, 514.005, 514.019, 514.032, 514.099, 514.103, 514.107, 514.159, 514.174, 514.201, 514.211, 514.226, 514.236, 514.28, 514.293, 514.359, 514.401, 514.416, 514.481, 514.551, 514.582, 514.609, 514.643, 514.662, 514.668, 514.679, 514.757, 514.763, 514.883, 515.003, 515.019, 559.071, 559.206, 559.411, 561.429, 561.438, 561.522, 561.541, 561.639, 561.644, 561.648, 561.75, 561.758, 561.772, 561.854, 561.871, 561.879, 561.904, 561.952, 561.959, 562.039, 562.045, 562.05, 562.057, 562.072, 562.125, 562.144, 562.195, 562.282, 562.288, 562.333, 562.341, 562.512, 562.517, 562.525, 562.582, 562.592, 562.595, 562.684, 562.916, 562.921, 599.372, 600.924, 600.933, 600.946, 601.031, 601.128, 601.133, 601.141, 601.15, 601.158, 601.231, 601.235, 601.267, 601.351, 601.364, 601.382, 601.392, 601.427, 601.469, 601.49, 601.521, 601.602, 601.694, 601.709, 601.74, 601.76, 601.803, 601.874, 601.882, 601.921, 601.989, 602.004, 602.035, 602.045, 602.105, 602.123, 602.25, 646.292, 646.41, 646.514, 646.623, 646.632, 646.641, 646.771, 646.859, 646.866, 646.942, 646.956, 646.978, 646.985, 647.014, 647.042, 647.058, 647.072, 647.106, 647.189, 647.223, 647.239, 647.296, 647.32, 647.327, 647.396, 647.401, 647.413, 647.426, 647.503, 647.604, 647.613, 647.646, 647.669, 647.703, 647.753, 647.821, 647.831, 648.221, 648.237, 693.995, 694.008, 694.119, 694.138, 694.142, 694.197, 694.218, 694.238, 694.322, 694.328, 694.34, 694.349, 694.388, 694.432, 694.451, 694.534, 694.541, 694.584, 694.598, 694.626, 694.675, 694.704, 694.792, 694.797, 694.806, 694.899, 694.904, 694.914, 694.992, 695.001, 695.013, 695.022, 695.094, 695.124, 695.212, 695.216, 735.549, 735.654, 735.8, 735.804, 735.808, 735.814, 735.821, 735.893, 735.909, 735.918, 735.923, 736.017, 736.021, 736.187, 736.259, 736.266, 736.272, 736.331, 736.363, 736.369, 736.412, 736.523, 736.538, 736.709, 736.733, 736.936, 736.941, 736.959, 737.176, 737.184, 737.231, 737.245, 737.263, 737.277, 737.382, 737.391, 737.413, 764.463, 764.573, 764.665, 764.673, 764.687, 764.768, 764.789, 764.793, 764.842, 764.849, 764.876, 764.896, 764.9, 764.918, 764.974, 765.008, 765.037, 765.063, 765.119, 765.124, 765.136, 765.19, 765.205, 765.249, 765.346, 765.438, 765.455, 765.496, 765.508, 765.714, 765.784, 765.807, 765.819, 765.924, 766.015, 766.04, 766.135, 766.153, 807.579, 807.594, 807.688, 807.797, 807.802, 807.809, 807.864, 807.87, 807.885, 807.889, 807.988, 807.992, 808.008, 808.014, 808.04, 808.088, 808.093, 808.136, 808.157, 808.183, 808.19, 808.222, 808.246, 808.347, 808.376, 808.398, 808.482, 808.488, 808.585, 808.689, 808.701, 808.773, 808.799, 808.818, 808.914, 808.918, 809.032, 850.181, 850.278, 850.284, 850.352, 850.36, 850.374, 850.381, 850.391, 850.396, 850.485, 850.51, 850.575, 850.581, 850.587, 850.634, 850.655, 850.701, 850.731, 850.795, 850.803, 850.82, 850.842, 850.946, 850.968, 851.052, 851.063, 851.148, 851.17, 851.254, 851.276, 851.364, 851.385, 851.391, 851.471, 851.49, 851.495, 851.578, 851.584, 851.588, 943.898, 943.902, 943.917, 943.921, 943.999, 944.041, 944.075, 944.078, 944.119, 944.126, 944.142, 944.15, 944.25, 944.257, 944.265, 944.334, 944.356, 944.451, 944.476, 944.526, 944.625, 944.64, 944.722, 944.727, 944.824, 944.847, 944.908, 944.918, 945.005, 945.023, 945.115, 945.13, 945.141, 945.23, 997.225, 998.473, 998.478, 998.569, 998.573, 998.584, 998.663, 998.671, 998.725, 998.751, 998.786, 998.804, 998.816, 998.888, 998.919, 999.014, 999.021, 999.081, 999.113, 999.117, 999.333, 999.522, 999.544, 999.573, 999.655, 999.66, 999.682, 999.764, 999.768, 999.794, 1035.56, 1035.65, 1036.58, 1036.77, 1036.78, 1036.79, 1036.8, 1036.81, 1036.88, 1036.95, 1036.97, 1036.98, 1037, 1037.02, 1037.03, 1037.06, 1037.08, 1037.09, 1037.1, 1037.12, 1037.14, 1037.17, 1037.2, 1037.22, 1037.3, 1037.37, 1037.38, 1037.39, 1037.43, 1037.58, 1037.58, 1037.7, 1037.79, 1037.8, 1037.81, 1037.85, 1037.89, 1037.97, 1037.97, 1038.07, 1038.08, 1068.72, 1070.67, 1070.79, 1070.88, 1070.89, 1070.89, 1070.94, 1070.94, 1070.98, 1071.02, 1071.05, 1071.1, 1071.11, 1071.19, 1071.2, 1071.22, 1071.26, 1071.32, 1071.39, 1071.4, 1071.43, 1071.47, 1071.49, 1071.57, 1071.68, 1071.69, 1071.88, 1071.89, 1071.95, 1071.95, 1071.96, 1071.99, 1072.06, 1072.06, 1072.07, 1106.53, 1106.63, 1106.63, 1106.7, 1106.72, 1106.72, 1106.73, 1106.74, 1106.83, 1106.84, 1106.86, 1106.89, 1106.95, 1106.96, 1107.04, 1107.06, 1107.09, 1107.1, 1107.19, 1107.24, 1107.3, 1107.42, 1107.5, 1107.52, 1107.61, 1107.62, 1107.69, 1107.69, 1107.7, 1107.7, 1107.8, 1107.81, 1107.91, 1107.92, 1164.31, 1164.4, 1164.42, 1164.53, 1164.56, 1164.62, 1164.64, 1164.67, 1164.74, 1164.75, 1164.77, 1164.79, 1164.81, 1164.84, 1164.88, 1164.94, 1164.95, 1164.97, 1165.12, 1165.23, 1165.25, 1165.31, 1165.32, 1165.34, 1165.35, 1165.43, 1165.44, 1165.45, 1165.49, 1165.49, 1165.5, 1165.51, 1165.54, 1165.63, 1165.63, 1165.76, 1165.87, 1195.39, 1196.22, 1196.23, 1196.24, 1196.3, 1196.31, 1196.32, 1196.34, 1196.42, 1196.44, 1196.45, 1196.47, 1196.48, 1196.58, 1196.66, 1196.68, 1196.72, 1196.76, 1196.85, 1196.9, 1196.92, 1197.13, 1197.15, 1197.16, 1197.37, 1197.48, 1197.49, 1197.63, 1197.65, 1197.71, 1197.73, 1197.86, 1198.01, 1198.03, 1198.12, 1198.39, 1198.56, 1198.65, 1198.68, 1198.69, 1198.76, 1198.95, 1198.95, 1198.96, 1199.09, 1199.22, 1199.57, 1199.58, 1199.67, 1199.69, 1199.74, 1199.75, 1199.76, 1199.85, 1199.85, 1199.86, 1199.89, 1199.91, 1199.93, 1199.93, 1199.98, 1200.06, 1200.06, 1200.21]), array([34.1996, 34.8676, 34.8896, 35.0424, 35.0557, 35.403, 35.6569, 37.5947, 37.6161, 162.385, 162.403, 162.515, 162.755, 162.816, 162.838, 162.924, 162.928, 162.977, 165.173, 257.39, 257.404, 257.413, 257.512, 257.702, 257.862, 258.011, 258.048, 258.354, 260.044, 260.351, 314.502, 314.761, 314.854, 314.9, 315.002, 315.035, 511.585, 512.846, 512.861, 513.058, 513.07, 513.195, 513.202, 513.311, 513.336, 513.387, 513.603, 513.694, 559.72, 559.961, 560.511, 560.563, 560.717, 560.724, 560.826, 560.83, 560.852, 560.876, 560.893, 560.942, 561.265, 562.688, 600.11, 600.205, 600.243, 600.325, 600.33, 600.436, 600.576, 600.593, 600.618, 602.623, 645.799, 645.892, 646.022, 646.035, 646.056, 646.061, 646.134, 646.138, 646.163, 649.182, 649.413, 649.431, 650.233, 650.457, 650.55, 652.211, 654.136, 654.602, 693.148, 693.261, 693.43, 693.516, 693.607, 693.614, 693.67, 693.682, 693.757, 693.822, 695.185, 695.624, 695.751, 734.528, 734.902, 735.333, 735.498, 737.737, 737.94, 737.959, 738.035, 764.01, 766.318, 804.915, 806.892, 807.139, 807.239, 807.291, 807.327, 807.515, 807.717, 809.683, 809.708, 849.699, 849.782, 849.789, 849.829, 849.903, 849.914, 850.182, 851.896, 852.004, 943.179, 943.2, 943.266, 943.27, 943.28, 943.398, 943.447, 943.462, 943.615, 945.587, 950.344, 997.587, 997.802, 997.934, 997.979, 998.111, 998.211, 1036.12, 1036.25, 1036.33, 1036.5, 1036.61, 1069.31, 1069.54, 1069.86, 1069.98, 1070.33, 1070.42, 1104.82, 1105.66, 1105.88, 1105.9, 1105.97, 1106.12, 1106.17, 1106.27, 1106.33, 1106.43, 1106.61, 1108.52, 1108.52, 1163.92, 1163.99, 1164.04, 1164.08, 1164.19, 1166.23, 1195.67, 1195.91, 1196.03, 1197.88, 1197.89, 1197.92, 1198.02, 1200.91]), array([32.4982, 34.1213, 34.8805, 35.3002, 35.4242, 36.1816, 162.068, 162.159, 162.165, 162.988, 162.994, 163.014, 257.9, 258.099, 258.154, 258.167, 258.311, 258.56, 258.807, 261.781, 315.321, 316.745, 511.581, 512.865, 513.395, 513.444, 513.448, 516.716, 516.885, 558.393, 560.96, 561.899, 562.311, 562.799, 600.381, 600.421, 600.822, 601.815, 603.462, 647.71, 648.854, 652.676, 655.159, 693.51, 693.859, 694.169, 694.438, 694.685, 764.02, 764.198, 764.434, 765.329, 805.297, 807.629, 942.788, 944.329, 998.154, 998.554, 998.653, 998.687, 998.722, 999.471, 1037.61, 1072.6, 1105.97, 1106.56, 1107.56, 1165.32, 1195.99, 1196.81]), array([34.0366, 38.2381, 38.5648, 38.5704, 38.5876, 38.6825, 38.797, 38.8272, 39.3161, 39.6504, 162.756, 165.833, 165.874, 165.937, 166.351, 166.475, 166.478, 166.667, 166.942, 166.987, 261.283, 261.502, 261.783, 261.789, 261.947, 262.114, 317.872, 317.881, 317.99, 318.095, 318.142, 318.233, 318.296, 318.385, 318.5, 318.704, 318.73, 318.745, 318.751, 318.766, 318.934, 318.942, 319.058, 319.095, 319.103, 516.313, 516.56, 516.704, 516.74, 517.005, 558.731, 564.328, 600.958, 696.132, 696.759, 696.854, 697.131, 697.253, 697.303, 735.21, 738.466, 738.582, 738.759, 738.772, 738.789, 738.894, 738.901, 739.014, 739.119, 739.371, 739.901, 740.036, 740.243, 740.662, 740.762, 740.783, 740.825, 766.9, 767.252, 767.315, 767.374, 767.474, 767.54, 767.815, 767.922, 767.93, 767.949, 768.045, 768.197, 768.27, 768.317, 768.402, 768.431, 805.027, 807.682, 810.356, 810.737, 810.808, 810.849, 810.905, 852.669, 853.239, 946.177, 951.016, 1001.32, 1002.27, 1002.29, 1002.3, 1039.18, 1074.11, 1106.58, 1107.81, 1166.98, 1166.98, 1202.17, 1202.44, 1202.94, 1202.95]), array([32.2437, 32.251, 32.8303, 32.8399, 32.9381, 32.9744, 37.5806, 163.062, 165.478, 165.493, 166.249, 256.347, 258.114, 262.234, 511.757, 511.776, 511.936, 514.681, 599.308, 599.856, 602.735, 602.806, 646.442, 652.694, 694.9, 738.117, 739.573, 741.116, 763.419, 763.898, 766.804, 766.814, 766.818, 804.857, 805.425, 805.445, 805.634, 805.779, 805.882, 809.44, 809.516, 809.529, 809.564, 809.569, 809.585, 810.299, 851.872, 851.965, 852.061, 852.154, 943.976, 945.522, 945.615, 945.621, 945.69, 945.698, 945.704, 948.926, 950.968, 951.138, 997.386, 999.743, 999.955, 1000.08, 1000.18, 1000.19, 1000.27, 1000.28, 1000.35, 1000.35, 1000.44, 1000.56, 1035.51, 1035.51, 1035.53, 1038.49, 1038.59, 1038.66, 1038.68, 1038.8, 1038.89, 1039, 1068.86, 1069.06, 1069.07, 1069.07, 1069.08, 1070.94, 1072.38, 1072.39, 1072.61, 1072.7, 1072.73, 1072.87, 1104.66, 1104.67, 1105.45, 1105.45, 1105.46, 1107.62, 1108.33, 1108.33, 1108.44, 1108.59, 1108.62, 1108.63, 1108.66, 1108.7, 1108.71, 1164.08, 1166.15, 1166.27, 1166.35, 1166.36, 1166.4, 1166.41, 1166.51, 1195.04, 1195.24, 1196.03, 1196.16, 1200.6, 1200.6, 1200.71, 1200.82, 1200.9, 1200.91, 1200.97, 1201.2]), array([32.1359, 32.3803, 32.395, 35.0738, 35.208, 35.5451, 36.7217, 38.3332, 166.178, 257.653, 262.023, 318.45, 512.096, 517.347, 558.708, 558.746, 559.126, 559.308, 560.722, 561.733, 600.204, 604.514, 604.636, 604.664, 646.804, 694.136, 734.551, 734.65, 734.971, 735.837, 736.23, 740.915, 740.918, 741.168, 807.334, 807.36, 810.529, 810.532, 812.103, 848.747, 853.192, 853.427, 942.097, 943.157, 946.587, 947.561, 947.718, 947.723, 947.837, 947.956, 947.968, 947.986, 948.167, 948.253, 949.029, 949.478, 949.869, 950.428, 950.461, 950.642, 950.647, 951.12, 951.126, 951.293, 951.308, 999.867, 1001.7, 1002.04, 1002.12, 1002.18, 1040.71, 1040.71, 1040.72, 1068.65, 1068.65, 1068.66, 1106.58, 1107.29, 1164, 1165.11, 1167.17, 1203.02, 1203.52, 1203.63]), array([37.9599, 37.9697, 37.9865, 38.2184, 38.2234, 38.2283, 38.3268, 38.3393, 38.4074, 38.4119, 38.4239, 38.4843, 38.4962, 38.6055, 38.6123, 38.6234, 38.7441, 38.7752, 38.8624, 38.8658, 38.8698, 38.8821, 38.8926, 38.9805, 39.0057, 39.0379, 39.1309, 39.1426, 39.1876, 39.2069, 39.2167, 39.2919, 39.2965, 39.3035, 39.4228, 39.4336, 39.4459, 39.4572, 39.6121, 39.6234, 39.6408, 39.6524, 39.7648, 165.009, 165.218, 165.33, 165.333, 165.451, 165.559, 165.571, 165.581, 165.663, 165.671, 165.681, 165.689, 165.696, 165.738, 165.777, 165.782, 165.787, 165.8, 165.814, 165.89, 165.903, 165.956, 165.98, 166, 166.041, 166.083, 166.087, 166.093, 166.207, 166.218, 166.326, 166.336, 166.498, 166.509, 166.541, 166.649, 166.657, 166.665, 166.725, 166.784, 166.789, 166.824, 166.839, 166.925, 166.929, 166.937, 167.061, 167.081, 167.276, 258.635, 259.605, 259.609, 259.614, 259.954, 259.96, 260.205, 260.209, 260.309, 260.317, 260.42, 260.423, 260.43, 260.533, 260.544, 260.65, 260.66, 260.671, 260.735, 260.742, 260.749, 260.758, 260.837, 260.842, 260.85, 260.859, 260.869, 260.904, 260.911, 260.943, 260.952, 260.966, 260.977, 261.012, 261.02, 261.048, 261.054, 261.133, 261.136, 261.142, 261.149, 261.255, 261.277, 261.391, 261.395, 261.532, 261.546, 261.582, 261.647, 261.654, 261.668, 261.792, 261.798, 261.98, 262.005, 262.07, 262.076, 262.106, 262.121, 262.248, 262.253, 262.258, 262.355, 262.387, 262.436, 262.461, 262.497, 262.504, 262.539, 317.167, 317.172, 317.183, 317.421, 317.429, 317.518, 317.624, 317.631, 317.636, 317.735, 317.743, 317.751, 317.84, 317.846, 317.854, 317.861, 317.94, 317.948, 317.954, 318.037, 318.042, 318.055, 318.061, 318.088, 318.133, 318.159, 318.203, 318.251, 318.28, 318.299, 318.308, 318.36, 318.385, 318.417, 318.423, 318.506, 318.526, 318.559, 318.575, 318.644, 318.653, 318.722, 318.767, 318.781, 318.894, 318.933, 319.178, 515.2, 515.209, 515.539, 515.543, 515.659, 515.663, 515.759, 515.854, 515.86, 515.868, 515.877, 515.991, 516.059, 516.073, 516.092, 516.101, 516.137, 516.151, 516.181, 516.19, 516.269, 516.276, 516.299, 516.359, 516.362, 516.368, 516.486, 516.499, 516.526, 516.597, 516.613, 516.619, 516.666, 516.683, 516.75, 516.756, 516.88, 516.934, 517.01, 517.02, 517.057, 517.069, 517.184, 517.195, 517.33, 517.436, 517.592, 517.604, 517.976, 518.043, 518.338, 562.04, 563.126, 563.13, 563.134, 563.352, 563.356, 563.361, 563.365, 563.37, 563.464, 563.47, 563.565, 563.572, 563.577, 563.669, 563.676, 563.685, 563.808, 563.895, 563.905, 563.912, 563.927, 563.984, 563.999, 564.009, 564.02, 564.029, 564.104, 564.13, 564.154, 564.204, 564.21, 564.246, 564.263, 564.305, 564.311, 564.438, 564.441, 564.562, 564.582, 564.6, 564.61, 564.623, 564.701, 564.712, 564.731, 564.757, 564.824, 564.841, 564.859, 564.968, 564.976, 564.985, 565.105, 565.145, 601.872, 601.877, 602.323, 602.327, 602.438, 602.49, 602.494, 602.555, 602.559, 602.563, 602.568, 602.573, 602.662, 602.667, 602.891, 603.001, 603.008, 603.016, 603.13, 603.239, 603.245, 603.252, 603.329, 603.334, 603.353, 603.428, 603.439, 603.445, 603.472, 603.528, 603.545, 603.551, 603.569, 603.59, 603.64, 603.657, 603.759, 603.812, 603.833, 603.891, 603.907, 603.915, 603.948, 603.988, 604.039, 604.047, 604.06, 604.071, 604.092, 604.125, 647.127, 647.138, 647.582, 648.036, 648.062, 648.263, 648.293, 648.299, 648.303, 648.377, 648.411, 648.499, 648.542, 648.547, 648.555, 648.612, 648.766, 648.771, 649.041, 649.054, 649.17, 649.283, 649.365, 649.375, 649.6, 649.603, 649.619, 649.628, 649.942, 649.947, 650.051, 650.786, 650.792, 650.795, 650.8, 650.939, 651.897, 652.445, 652.451, 652.464, 653.286, 654.07, 654.078, 655.169, 655.175, 655.18, 655.188, 695.193, 695.207, 695.42, 695.425, 695.612, 695.62, 695.661, 695.666, 695.721, 695.771, 695.775, 695.782, 695.79, 695.881, 695.885, 695.893, 696.09, 696.098, 696.11, 696.332, 696.337, 696.344, 696.355, 696.447, 696.462, 696.468, 696.54, 696.546, 696.559, 696.568, 696.583, 696.63, 696.655, 696.669, 696.676, 696.687, 696.749, 696.784, 696.791, 696.819, 696.862, 696.898, 696.968, 697.008, 697.138, 697.156, 697.168, 697.2, 697.303, 697.351, 734.945, 736.42, 736.656, 736.66, 737.127, 737.575, 737.584, 737.768, 737.803, 737.807, 737.813, 737.914, 737.919, 738.035, 738.126, 738.132, 738.138, 738.247, 738.264, 738.345, 738.35, 738.362, 738.383, 738.439, 738.446, 738.46, 738.487, 738.507, 738.519, 738.551, 738.559, 738.572, 738.61, 738.619, 738.643, 738.653, 738.701, 738.718, 738.741, 738.757, 738.799, 738.854, 738.86, 738.899, 738.968, 738.975, 739.008, 739.053, 739.234, 739.263, 739.755, 740.067, 740.787, 740.8, 765.975, 765.982, 765.992, 766.329, 766.338, 766.342, 766.503, 766.559, 766.563, 766.568, 766.573, 766.578, 766.589, 766.675, 766.678, 766.78, 766.894, 766.899, 766.917, 767.004, 767.013, 767.018, 767.118, 767.123, 767.131, 767.151, 767.205, 767.213, 767.241, 767.253, 767.331, 767.34, 767.354, 767.374, 767.426, 767.437, 767.466, 767.539, 767.547, 767.562, 767.575, 767.608, 767.677, 767.72, 767.742, 767.803, 767.808, 767.834, 767.923, 768.088, 768.472, 808.294, 808.299, 808.303, 808.527, 808.533, 808.978, 808.988, 808.995, 809.111, 809.116, 809.181, 809.22, 809.229, 809.292, 809.374, 809.442, 809.446, 809.45, 809.475, 809.56, 809.657, 809.667, 809.771, 809.779, 809.878, 809.89, 809.91, 809.993, 810.008, 810.035, 810.083, 810.095, 810.102, 810.11, 810.125, 810.164, 810.182, 810.197, 810.217, 810.268, 810.29, 810.303, 810.348, 810.398, 810.41, 810.415, 810.533, 810.58, 810.594, 810.603, 810.669, 810.711, 810.789, 810.797, 810.803, 811.332, 812.105, 850.767, 851.22, 851.226, 851.231, 851.441, 851.652, 851.671, 851.677, 851.682, 851.784, 851.835, 851.838, 851.894, 851.897, 851.902, 851.992, 852.096, 852.102, 852.11, 852.21, 852.217, 852.322, 852.411, 852.421, 852.429, 852.442, 852.522, 852.528, 852.539, 852.581, 852.596, 852.605, 852.616, 852.638, 852.653, 852.658, 852.7, 852.743, 852.822, 852.834, 852.867, 852.976, 853.089, 853.108, 853.124, 853.146, 853.277, 853.487, 853.502, 944.201, 944.78, 945.196, 945.29, 945.363, 945.394, 945.435, 945.439, 945.444, 945.45, 945.547, 945.552, 945.595, 945.657, 945.667, 945.831, 945.921, 945.93, 945.947, 946.031, 946.04, 946.115, 946.126, 946.131, 946.16, 946.19, 946.193, 946.218, 946.222, 946.255, 946.284, 946.314, 946.332, 946.34, 946.42, 946.423, 946.538, 946.543, 946.684, 946.802, 946.809, 946.832, 946.852, 948.385, 948.744, 948.95, 949.949, 949.96, 949.967, 950.542, 951.011, 999.19, 999.733, 999.743, 999.748, 999.756, 999.958, 999.969, 999.982, 1000.1, 1000.11, 1000.13, 1000.15, 1000.23, 1000.3, 1000.31, 1000.31, 1000.33, 1000.53, 1000.63, 1000.64, 1000.65, 1000.74, 1000.82, 1000.83, 1000.84, 1000.89, 1000.9, 1000.91, 1000.92, 1000.96, 1000.99, 1001, 1001.04, 1001.06, 1001.12, 1001.15, 1001.17, 1001.18, 1001.21, 1001.3, 1001.32, 1001.46, 1001.5, 1036.66, 1037.28, 1037.28, 1037.51, 1037.52, 1037.52, 1038.15, 1038.28, 1038.28, 1038.29, 1038.44, 1038.45, 1038.46, 1038.51, 1038.51, 1038.52, 1038.55, 1038.62, 1038.63, 1038.83, 1038.95, 1038.95, 1039.18, 1039.31, 1039.42, 1039.43, 1039.53, 1039.54, 1039.55, 1039.57, 1039.6, 1039.61, 1039.62, 1039.65, 1039.71, 1039.72, 1039.74, 1039.75, 1039.81, 1039.82, 1039.93, 1040.08, 1040.09, 1040.1, 1040.14, 1071.17, 1072.05, 1072.06, 1072.28, 1072.28, 1072.36, 1072.52, 1072.52, 1072.53, 1072.59, 1072.74, 1072.74, 1072.75, 1072.85, 1072.96, 1072.96, 1073.05, 1073.06, 1073.07, 1073.16, 1073.17, 1073.18, 1073.23, 1073.24, 1073.26, 1073.27, 1073.34, 1073.37, 1073.37, 1073.39, 1073.41, 1073.47, 1073.47, 1073.49, 1073.5, 1073.51, 1073.56, 1073.57, 1073.58, 1073.71, 1073.73, 1073.76, 1073.84, 1107.68, 1107.68, 1107.69, 1108.2, 1108.21, 1108.31, 1108.35, 1108.36, 1108.36, 1108.41, 1108.47, 1108.47, 1108.48, 1108.58, 1108.58, 1108.69, 1108.69, 1108.8, 1108.81, 1108.99, 1109, 1109.01, 1109.02, 1109.04, 1109.1, 1109.11, 1109.13, 1109.17, 1109.18, 1109.2, 1109.22, 1109.23, 1109.25, 1109.29, 1109.31, 1109.33, 1109.36, 1109.37, 1109.43, 1109.44, 1109.58, 1109.59, 1165.38, 1165.39, 1165.84, 1165.85, 1165.96, 1166.12, 1166.14, 1166.17, 1166.17, 1166.18, 1166.19, 1166.2, 1166.39, 1166.49, 1166.49, 1166.59, 1166.59, 1166.7, 1166.7, 1166.78, 1166.79, 1166.81, 1166.82, 1166.87, 1166.88, 1166.89, 1166.92, 1166.93, 1166.96, 1166.97, 1166.99, 1167.02, 1167.04, 1167.1, 1167.11, 1167.17, 1167.26, 1167.27, 1167.29, 1167.53, 1167.77, 1196.6, 1196.61, 1197.06, 1197.07, 1197.78, 1197.79, 1198.02, 1199.12, 1199.13, 1199.32, 1199.32, 1199.34, 1200.26, 1200.27, 1200.47, 1200.57, 1200.61, 1200.62, 1200.62, 1200.73, 1200.73, 1200.74, 1200.96, 1201.17, 1201.17, 1201.27, 1201.28, 1201.37, 1201.46, 1201.46, 1201.48, 1201.49, 1201.52, 1201.53, 1201.55, 1201.57, 1201.58, 1201.6, 1201.61, 1201.62, 1201.64, 1201.66, 1201.72, 1201.73, 1201.73, 1201.78, 1201.84, 1201.84, 1201.89, 1201.97, 1201.98, 1202, 1202.12, 1202.14, 1202.15, 1202.16, 1202.41, 1202.7, 1202.95, 1202.96])], _ratemap_spiketrains_pos=[[array([49.9599, 53.4534, 53.6521, 95.0827, 95.0958, 95.1302, 95.1499, 104.957, 105.1, 108.378, 112.425, 115.678, 192.382, 55.6139, 56.05, 59.5757, 59.8482, 60.148, 68.8593, 69.3596, 69.5738, 76.2293, 76.4657, 81.8764, 91.0442, 95.3214, 95.5255, 95.5134, 100.399, 100.821, 112.414, 119.059, 129.361, 225.074, 45.3679, 60.4432, 60.4884, 60.8981, 60.8316, 68.1939, 68.3584, 68.9251, 74.9961, 75.2373, 79.9589, 80.3093, 86.0614, 86.398, 90.6088, 91.0264, 91.4705, 95.8461, 103.874, 104.855, 112.871, 235.967, 57.1059, 57.2632, 57.3292, 64.9903, 72.593, 77.5132, 77.9128, 84.3418, 90.1487, 94.7646, 94.8734, 94.9686, 95.1911, 97.5044, 100.274, 100.691, 105.91, 113.337, 113.982, 114.6, 246.392, 246.489, 53.5854, 53.8598, 54.1064, 62.914, 63.3623, 75.0193, 75.346, 75.5553, 79.8228, 80.0206, 85.9888, 86.2601, 87.1412, 92.8766, 95.1634, 97.3229, 97.8587, 101.343, 103.027, 103.772, 112.957, 113.392, 171.139, 186.548, 226.446, 243.876, 40.943, 50.7985, 63.0501, 68.5379, 75.3375, 80.335, 80.5098, 80.6862, 80.713, 86.5236, 86.8408, 87.1072, 96.1506, 100.597, 101.357, 106.605, 106.99, 112.886, 114.149, 234.634, 45.3774, 63.9065, 65.525, 65.6201, 68.8788, 69.1164, 81.3165, 82.0347, 82.6075, 90.3347, 92.439, 93.4659, 95.4986, 104.361, 106.016, 110.044, 110.907, 113.644, 168.282, 195.511, 206.323, 226.933, 230.619, 244.407, 69.1192, 69.7071, 76.6024, 77.028, 83.7567, 84.4572, 85.1244, 85.505, 90.6828, 91.3883, 96.5744, 97.8651, 99.6413, 103.949, 106.745, 206.578, 216.488, 227.186, 228.346, 228.751, 228.777, 228.885, 228.912, 228.925, 228.94, 229.139, 229.145, 229.862, 230.342, 59.2246, 59.2825, 60.0424, 60.1169, 68.1738, 68.4334, 68.7944, 75.4553, 80.3428, 80.6275, 80.9203, 81.1497, 81.607, 88.338, 88.5798, 93.1037, 94.2349, 94.5061, 100.796, 101.498, 102.978, 107.19, 233.525, 233.556, 80.3404, 80.6158, 80.8763, 85.0135, 85.1554, 87.6114, 87.8394, 89.9795, 92.6759, 93.1197, 96.1082, 95.9743, 96.5256, 100.488, 101.023, 102.986, 103.862, 108.408, 109.669, 111.766, 199.128, 237.334, 237.358, 243.646, 244.155, 47.9106, 47.9646, 49.4659, 75.254, 78.5116, 78.9628, 89.9381, 90.1615, 90.3712, 94.7422, 94.9569, 95.2525, 99.2476, 99.4477, 102.054, 102.586, 107.749, 107.902, 108.603, 109.221, 178.745, 236.285, 85.4123, 91.6874, 94.6719, 94.8158, 102.485, 104.829, 105.783, 111.989, 228.99, 61.9893, 68.4928, 79.5013, 89.9791, 95.3529, 95.9667, 99.798, 102.153, 112.258, 112.869, 156.41, 207.14, 53.5002, 79.3605, 79.9419, 84.7528, 85.2695, 85.6916, 86.2692, 90.951, 91.2558, 95.4812, 95.7911, 95.8165, 98.6824, 100.108, 112.204, 112.731, 215.256, 215.302, 215.319, 233.652, 233.64, 240.26, 56.413, 80.0829, 89.5783, 94.197, 94.3782, 94.6424, 94.8804, 100.562, 100.871, 101.13, 101.527, 105.96, 106.216, 106.463, 109.995, 111.296, 116.042, 123.73, 235.054, 235.234, 244.438, 244.415, 64.1179, 64.2771, 65.6352, 66.587, 73.0272, 73.1686, 73.2928, 73.4231, 80.4761, 80.8055, 81.0561, 90.6447, 91.0088, 95.3766, 95.5719, 95.7051, 95.8774, 99.5412, 102.917, 103.386, 110.856, 111.097, 236.613, 236.748, 63.8325, 73.6205, 73.8998, 74.0118, 78.1684, 78.3841, 85.0436, 92.9219, 93.2347, 97.4647, 99.026, 103.166, 104.863, 105.378, 106.121, 106.787, 235.271, 61.0762, 67.8065, 68.1748, 78.0551, 78.5045, 78.6599, 78.9801, 85.0703, 89.402, 89.6528, 94.4371, 97.7067, 98.6994, 101.129, 103.601, 111.659, 177.803, 234.719, 235.113, 235.455, 65.6236, 69.1368, 79.9547, 80.1621, 80.3746, 87.9617, 92.7106, 93.3519, 98.0328, 103.987, 110.516, 239.655, 242.607, 68.6267, 68.7497, 69.0639, 72.3885, 72.8563, 76.2659, 79.3975, 79.4557, 79.5221, 86.014, 86.7119, 87.063, 87.6119, 91.6157, 92.0013, 92.8542, 97.0503, 102.69, 104.429, 104.668, 106.123, 150.835, 161.521, 171.925, 235.95, 241.401])], [array([44.8153, 45.4987, 45.446, 45.7655, 47.5509, 49.2332, 51.3693, 40.6848, 42.6828, 42.7312, 44.7427, 44.8192, 46.4242, 46.3786, 48.2766, 48.4053, 48.9998, 49.0031, 50.1777, 50.2993, 50.3539, 51.8551, 51.9376, 52.4983, 52.7106, 52.8688, 53.0717, 53.1528, 54.0452, 54.4556, 54.6023, 54.8458, 55.3071, 58.835, 59.4466, 60.0288, 44.0903, 47.5044, 47.7479, 48.7895, 48.7896, 51.0487, 51.1511, 51.3276, 51.5556, 53.5345, 55.0487, 228.521, 47.4086, 47.4958, 47.6004, 50.3669, 50.5368, 50.7376, 52.8437, 59.5506, 59.7855, 47.8515, 47.8708, 51.2553, 51.4332, 51.4379, 51.4506, 51.501, 51.696, 51.5484, 57.1798, 58.2514, 48.8079, 48.8931, 49.7981, 49.499, 49.3713, 49.3193, 49.2841, 50.8858, 50.8739, 50.8679, 51.3759, 51.4235, 52.6596, 52.819, 55.8963, 56.4855, 42.133, 41.6376, 41.4749, 41.9298, 42.125, 45.728, 45.9219, 46.0166, 46.272, 49.3368, 50.1357, 52.1808, 52.5029, 53.0678, 53.579, 53.2638, 53.3409, 69.8573, 46.7381, 49.3179, 49.5162, 54.0061, 57.0886, 61.0357, 65.0595, 65.4222, 65.5943, 48.464, 51.9254, 53.2938, 53.4246, 54.1248, 58.4277, 59.2364, 61.0664, 47.5016, 47.6463, 49.5686, 49.7319, 49.8511, 49.9097, 50.0115, 50.0538, 53.2663, 54.6915, 54.724, 55.1279, 55.3438, 55.4979, 59.328, 49.6808, 49.8018, 49.9101, 53.9062, 56.3715, 56.4354, 56.4834, 58.6387, 58.6799, 58.7461, 59.4139, 59.5249, 60.2341, 60.3472, 51.385, 52.5102, 52.7557, 55.782, 56.7129, 59.4449, 61.7982, 62.808, 63.181, 63.3484])], [array([229.322, 229.374, 229.485, 238.303, 238.882, 241.261, 241.395, 244.132, 246.701, 246.844, 247.164, 246.029, 245.976, 245.912, 245.708, 245.091, 245.048, 238.271, 238.337, 245.399, 245.429, 245.544, 247.13, 247.577, 247.6, 247.63, 248.806, 249.944, 224.302, 224.443, 224.66, 239.433, 239.678, 246.932, 246.434, 246.394, 246.38, 246.296, 246.17, 246.14, 246.126, 246.095, 229.408, 229.447, 229.507, 232.422, 232.452, 235.091, 235.856, 235.965, 236.076, 236.956, 241.433, 242.909, 243.735, 243.874, 243.601, 243.474, 243.463, 243.453, 239.242, 240.637, 243.513, 243.885, 243.996, 243.981, 243.971, 243.965, 243.801, 243.788, 243.764, 228.888, 232.793, 240.467, 243.687, 243.875, 245.112, 245.045, 245.026, 244.879, 244.687, 244.411, 244.382, 244.364, 244.348, 244.329, 244.317, 244.295, 244.288, 227.232, 227.253, 228.416, 228.42, 229.973, 234.751, 239.334, 243.336, 243.582, 244.016, 243.955, 243.955, 243.955, 243.962, 243.963, 238.357, 238.592, 238.635, 238.664, 239.894, 239.923, 240.913, 241.013, 241.147, 241.212, 241.329, 241.377, 241.388, 241.401, 241.506, 241.523, 241.537, 241.552, 241.572, 241.596, 241.624, 241.679, 241.703, 241.747, 241.81, 241.898, 242.2, 242.247, 242.32, 242.332, 242.346, 242.358, 242.364, 242.369, 242.41, 242.439, 242.472, 242.485, 242.557, 242.585, 242.632, 242.676, 242.693, 242.815, 242.946, 243.014, 243.045, 243.066, 243.097, 243.118, 243.196, 243.94, 243.954, 243.974, 243.994, 244.012, 244.029, 244.048, 244.07, 243.98, 243.973, 243.966, 243.958, 243.952, 244.002, 244.013, 244.025, 244.033, 244.055, 244.088, 244.236, 244.243, 244.249, 244.255, 244.205, 244.19, 244.189, 244.129, 244.127, 244.126, 244.124, 244.086, 244.058, 229.311, 236.312, 236.328, 237.996, 238.04, 239.3, 240.744, 241.502, 241.595, 241.621, 242.353, 242.418, 242.596, 242.635, 242.842, 242.968, 243.042, 243.544, 243.898, 243.888, 243.886, 243.881, 243.842, 243.803, 243.774, 243.724, 243.71, 224.611, 236.764, 236.863, 236.951, 239.054, 239.451, 239.474, 241.864, 241.96, 242.48, 242.643, 242.887, 243.05, 243.097, 243.129, 243.158, 243.356, 243.384, 243.414, 243.462, 243.612, 243.706, 243.798, 243.885, 243.914, 243.985, 244.023, 244.074, 244.104, 244.136, 244.471, 245.162, 245.197, 245.288, 245.4, 245.467, 245.879, 245.937, 246.198, 246.24, 246.384, 246.575, 246.974, 246.99, 246.984, 246.979, 246.971, 246.963, 246.889, 246.857, 246.661, 246.639, 246.619, 246.566, 246.505, 246.451, 246.413, 246.345, 246.205, 246.179, 246.147, 246.119, 246.064, 245.99, 245.925, 245.639, 245.601, 197.059, 221.347, 221.682, 232.347, 232.712, 233.245, 239.392, 239.734, 245.105, 246.821, 246.773, 246.686, 246.049, 245.989, 245.67, 245.448, 245.298, 244.515, 244.401, 244.095, 243.792, 214.942, 217.37, 217.444, 217.477, 218.134, 218.625, 218.673, 218.699, 219.422, 219.477, 219.5, 219.571, 219.602, 220.093, 220.201, 220.366, 220.474, 220.653, 220.848, 220.899, 220.959, 221.001, 221.165, 221.376, 221.503, 221.583, 221.637, 221.794, 221.93, 222.945, 222.985, 223.013, 223.041, 223.147, 224.324, 224.661, 226.091, 226.02, 225.933, 225.929, 225.923, 225.916, 225.914, 225.914, 225.915, 225.917, 225.92, 225.926, 225.933, 225.939, 225.965, 225.972, 226.002, 226.085, 226.271, 226.354, 226.43, 226.52, 226.593, 226.648, 226.714, 227.098, 227.124, 227.121, 227.073, 227.055, 227.037, 227.019, 227.03, 227.043, 227.06, 227.077, 227.095, 227.268, 227.598, 229.244, 229.35, 229.858, 229.992, 234.648, 234.642, 234.701, 236.171, 237.062, 237.038, 237.043, 237.057, 238.292, 238.382, 238.463, 242.749, 242.775, 242.869, 242.932, 243.763, 243.758, 232.325, 232.416, 232.632, 238.033, 238.16, 244.157, 244.156, 244.156, 244.156, 244.179, 244.203, 244.28, 244.328, 244.338, 244.518, 244.571, 244.619, 244.704, 244.948, 245.104, 245.113, 245.124, 245.14, 245.151, 245.149, 245.147, 245.132, 245.115, 245.095, 245.068, 245.049, 244.809, 244.774, 244.736, 244.721, 234.916, 235.022, 238.347, 241.483, 241.838, 241.883, 242.263, 242.307, 242.346, 242.374, 242.798, 242.792, 242.786, 242.776, 242.774, 242.769, 242.764, 242.762, 242.759, 242.757, 242.719, 242.705, 242.69, 242.595, 242.582, 242.567, 242.536, 242.445, 242.436, 242.429, 233.499, 233.593, 238.481, 242.957, 243.034, 243.164, 243.808, 243.819, 244.001, 244.07, 244.165, 244.273, 244.344, 244.348, 244.356, 244.362, 244.373, 244.38, 244.314, 238.411, 238.513, 243.611, 243.606, 243.602, 243.6, 243.538, 243.53, 243.502, 243.483, 243.481, 243.475, 243.474, 243.499, 243.509, 243.55, 243.566, 243.199, 243.167, 236.78, 236.911, 242.746, 242.762, 242.544, 242.413, 242.4, 242.223, 242.187, 242.163, 242.141, 242.111, 242.04, 242.032, 159.214, 161.65, 161.717, 161.835, 239.036, 241.784, 243.701, 243.721, 243.731, 243.743, 244.404, 244.713, 244.843, 244.868, 244.895, 245.099, 245.149, 245.421, 245.45, 245.495, 245.504, 245.57, 245.585, 245.632, 245.671, 245.707, 245.719, 245.767, 245.866, 245.899, 245.916, 245.93, 245.946, 245.944, 245.938, 245.92, 245.909, 245.892, 245.872, 245.819, 245.721, 245.706, 245.638, 245.6, 245.518, 245.497, 245.472, 245.438, 245.421, 245.409, 245.373, 245.361])], [array([108.637, 108.897, 169.695, 170.355, 172.38, 91.9893, 136.064, 151.86, 75.6097, 88.0139, 141.854, 146.686, 85.5138, 80.0651, 135.638, 143.116, 143.712, 151.428, 235.199, 146.629, 151.065, 48.7842, 143.245, 149.969, 77.7034, 145.102, 149.265, 62.5896, 62.6576, 145.631, 88.4663, 91.0459, 93.5209, 96.2437, 98.2336, 103.926, 132.605, 145.827, 152.208, 159.555, 166.016, 237.306, 99.8839, 140.421, 153.568, 90.6451, 102.095, 103.171, 105.016, 75.0745, 88.0431, 95.1184, 232.383, 240.205, 240.217, 240.23, 240.246, 102.148, 105.627, 146.143, 153.971, 51.9696, 90.5176, 145.471, 164.961, 240.145, 140.39, 94.7165, 144.41, 149.811, 108.334, 142.745, 153.571])], [array([125.776, 142.767, 171.751, 234.91, 234.964, 238.051, 238.144, 242.901, 53.2547, 157.846, 225.144, 227.272, 227.451, 231.259, 231.341, 233.561, 241.775, 246.77, 246.353, 235.816, 235.895, 235.955, 244.229, 246.455, 246.49, 246.717, 247.28, 247.517, 247.533, 143.47, 220.011, 220.289, 229.292, 233.248, 233.719, 246.865, 246.84, 223.274, 226.753, 226.777, 226.822, 230.464, 230.514, 237.151, 237.294, 239.675, 241.305, 241.323, 241.355, 142, 236.515, 236.582, 240.684, 240.994, 241.048, 242.619, 242.661, 242.691, 243.619, 243.979, 244.022, 244.034, 244.051, 229.018, 234.764, 234.775, 234.806, 236.377, 236.509, 238.405, 238.592, 243.962, 244.035, 244.664, 244.633, 244.435, 228.429, 229.173, 229.188, 229.196, 234.904, 236.882, 241.541, 241.631, 244.056, 244.007, 234.885, 236.485, 238.356, 239.459, 239.618, 242.381, 243.312, 243.333, 243.395, 243.416, 244.054, 244.183, 244.182, 244.172, 244.153, 244.114, 157.218, 236.984, 237.082, 240.731, 243.901, 243.898, 243.823, 243.818, 243.761, 104.255, 238.006, 242.657, 244.713, 246.692, 245.77, 245.747, 226.804, 49.2234, 175.303, 215.239, 222.018, 225.954, 226.983, 229.739, 229.818, 233.654, 237.045, 241.999, 242.002, 242.022, 242.03, 242.042, 242.056, 242.108, 243.803, 243.802, 243.8, 243.768, 244.791, 244.968, 244.55, 244.516, 240.418, 242.796, 231.192, 235.803, 242.039, 244.131, 244.566, 244.586, 244.963, 244.969])], [array([238.118, 238.18, 238.221, 238.337, 239.816, 241.55, 241.932, 243.544, 246.313, 247.882, 229.261, 231.305, 233.498, 235.791, 236.111, 241.399, 244.436, 246.843, 246.349, 246.332, 240.049, 240.147, 240.269, 242.346, 242.44, 246.8, 246.828, 246.857, 246.879, 233.556, 234.183, 244.439, 247.164, 228.558, 229.417, 231.379, 232.345, 232.418, 235.099, 235.152, 235.185, 237.129, 238.6, 240.101, 243.163, 243.47, 243.451, 243.841, 241.768, 242.561, 242.61, 243.906, 243.868, 243.816, 243.871, 244.973, 244.411, 244.398, 244.385, 228.421, 228.424, 228.435, 244.008, 239.455, 239.616, 240.026, 240.788, 243.895, 241.837, 241.95, 245.134, 223.22, 223.304, 227.003, 226.972, 237.043, 237.05, 244.213, 242.492, 240.891, 243.561, 243.569, 240.763, 242.653, 242.383, 242.036, 153.943, 154.141, 154.146, 154.299, 241.375, 241.866, 243.917, 243.939, 244.356, 244.392, 244.752, 245.149, 245.186])], [array([49.523, 162.231, 189.514, 209.675, 209.918, 213.316, 220.498, 246.719, 246.608, 131.002, 176.17, 211.965, 212.385, 212.892, 218.986, 219.154, 220.683, 49.8149, 49.8797, 179.083, 179.572, 187.222, 203.778, 203.801, 212.385, 216.826, 221.812, 226.612, 238.378, 248.445, 248.492, 170.217, 189.784, 195.307, 205.272, 207.785, 210.047, 225.674, 230.968, 120.98, 172.198, 172.478, 205.455, 210.699, 215.531, 216.503, 221.189, 224.642, 226.181, 110.325, 207.948, 208.052, 212.916, 216.266, 228.179, 240.021, 137.583, 141.078, 170.544, 191.562, 203.506, 204.957, 208.446, 215.231, 215.708, 220.643, 229.186, 232.924, 235.446, 133.009, 164.513, 192.342, 206.658, 209.184, 211.586, 216.504, 216.72, 221.627, 224.978, 225.125, 226.064, 226.086, 226.127, 226.234, 226.493, 226.555, 226.568, 226.734, 226.762, 227.135, 227.796, 228.269, 228.381, 228.389, 228.933, 229.303, 229.778, 229.913, 230.274, 230.705, 231.384, 231.447, 182.256, 200.56, 215.608, 169.778, 183.095, 210.406, 215.234, 220.67, 231.059, 232.831, 233.155, 237.438, 243.812, 179.799, 204.665, 209.897, 214.023, 214.322, 218.167, 218.841, 223.814, 227.516, 243.741, 51.6828, 92.3797, 126.623, 156.039, 189.253, 200.36, 215.085, 218.476, 222.273, 222.435, 152.813, 163.718, 175.271, 184.627, 184.969, 190.108, 195.202, 206.326, 213.135, 218.09, 222.741, 117.852, 159.054, 187.671, 195.259, 195.738, 196.26, 211.206, 211.941, 212.523, 215.744, 217.845, 228.425, 233.638, 233.671, 238.634, 238.682, 238.792, 125.501, 147.392, 190.466, 190.76, 207.707, 212.157, 217.632, 220.604, 221.111, 225.648, 228.38, 231.078, 242.503, 123.512, 203.136, 203.151, 208.639, 208.786, 217.036, 221.878, 222.28, 222.672, 238.545, 75.4795, 151.509, 180.059, 180.604, 196.029, 196.388, 207.346, 212.211, 223.626, 230.068, 236.632, 241.698, 241.829, 114.301, 173.049, 173.356, 194.888, 215.044, 215.572, 222.107, 233.06, 158.954, 173.609, 189.238, 199.352, 213.972, 214.19, 153.738, 158.88, 161.351, 185.857, 186.094, 211.648, 216.468, 216.824, 221.348, 226.118])], [array([52.5839, 56.2612, 56.6214, 56.6401, 56.5756, 56.5202, 56.4827, 56.0624, 56.8675, 58.9114, 59.0878, 62.4267, 109.3, 51.5291, 51.6678, 48.0825, 56.2761, 56.3071, 56.4346, 57.8682, 58.0806, 247.817, 248.131, 59.5316, 47.509, 57.3482, 57.8185, 57.9471, 40.6784, 40.8074, 40.9047, 42.5071, 44.7867, 48.6527, 49.0042, 42.7287, 43.4035, 44.0821, 44.0922, 48.0244, 50.1336, 53.1421, 227.224, 228.023, 57.154, 57.3533, 57.6401, 234.698, 244.052, 50.9434, 51.2595, 243.897, 51.256, 51.4969, 51.5096, 68.5318, 78.1234, 78.2205, 78.2503, 78.2841, 50.9165, 54.678, 58.1981, 65.3386, 65.5224, 65.6002, 43.0399, 42.9051, 47.867, 47.9219, 47.9985, 48.1749, 75.0919, 91.8052, 215.662, 223.323, 228.007, 46.6098, 47.2372, 50.5569, 62.3054, 120.461, 57.0262, 57.424, 47.6428, 49.9405, 52.0172, 54.1775, 55.2275, 55.7434, 71.3726, 71.4258, 239.736, 49.9055, 49.9437, 56.7917, 59.6015, 60.8533, 74.3388, 74.6739, 74.9253, 63.3003])], [array([62.4835, 78.5621, 220.459, ..., 245.95, 245.8, 245.734])], [array([59.9392, 76.7236, 108.979, 109.507, 118.373, 125.032, 125.488, 53.6534, 91.6519, 92.0489, 92.8286, 50.4627, 75.44, 76.2044, 87.9764, 88.624, 117.169, 118.224, 53.9755, 111.146, 111.419, 208.437, 216.38, 80.6327, 234.833, 110.568, 110.828, 111.064, 238.956, 75.5456, 76.5704, 77.43, 109.758, 110.674, 221.859, 227.226, 227.237, 228.518, 62.6058, 62.7021, 104.732, 105.203, 110.412, 110.48, 110.552, 107.365, 238.855, 109.581, 238.269, 243.804, 243.801, 243.801, 101.747, 102.034, 121.514, 92.4131, 108.423, 109.19, 55.2657, 79.1167, 50.3298, 50.4961, 50.6343, 84.2829, 85.2499, 107.141, 109.305, 89.1458, 90.1205, 236.606, 79.0397, 81.0861, 154.019, 154.021, 154.023, 154.155])], [array([59.1618, 62.4613, 229.178, 229.281, 244.384, 244.632, 204.893, 215.708, 215.93, 243.587, 244.197, 247.181, 226.636, 228.349, 228.677, 230.408, 222.389, 244.039, 219.866, 224.844, 226.627, 227.589, 228.966, 228.971, 216.428, 221.156, 234.582, 83.272, 83.976, 217.907, 230.599, 237.753, 238.741, 240.06, 77.8613, 78.1745, 87.1465, 89.2294, 92.2837, 210.773, 65.1743, 71.1268, 174.817, 190.39, 190.752, 211.674, 73.9168, 74.1078, 78.07, 79.8333, 88.4264, 215.701, 215.793, 217.275, 217.486, 218.001, 79.6529, 79.7146, 92.7446, 102.917, 237.894, 69.635, 69.7573, 72.7342, 74.6618, 75.2223, 237.999, 63.4675, 71.1289, 66.1294, 73.3917, 75.1187, 79.398, 226.931, 226.933, 241.136, 241.487, 68.541, 72.6045, 73.4048, 74.1532, 71.3606, 71.4687, 75.471, 77.4092])], [array([48.5327, 220.409, 228.279, 236.163, 237.576, 237.984, 240.491, 247.517, 46.3416, 46.5025, 47.022, 208.54, 213.029, 217.316, 217.342, 219.252, 220.883, 53.0742, 203.876, 214.021, 222.622, 228.067, 249.657, 185.377, 185.55, 195.564, 206.904, 46.0528, 206.352, 209.211, 221.429, 224.865, 226.573, 226.644, 48.8443, 48.9065, 49.8384, 208.304, 217.077, 217.552, 235.721, 239.643, 240.214, 43.3805, 43.6522, 43.9107, 48.7997, 220.997, 224.877, 226.632, 233.243, 235.055, 237.287, 192.896, 221.178, 222.883, 224.972, 226.136, 227.706, 228.603, 229.183, 229.27, 229.297, 229.878, 229.933, 231.02, 216.45, 216.769, 220.194, 221.158, 230.113, 239.071, 239.908, 210.962, 220.509, 234.094, 237.454, 244.154, 47.5922, 49.6901, 52.8735, 214.864, 217.884, 225.283, 228.238, 236.131, 48.1443, 51.6873, 51.7505, 215.294, 227.635, 49.8055, 56.048, 56.3955, 195.647, 210.876, 214.758, 46.4769, 212.545, 214.851, 228.253, 234.229, 238.521, 243.794, 243.79, 243.788, 208.034, 245.071, 58.1487, 90.2755, 208.89, 217.297, 222.413, 226.461, 228.036, 229.884, 234.658, 238.283, 51.4902, 120.438, 180.182, 223.296, 54.8616, 56.0206, 56.2294, 173.035, 215.194, 215.512, 221.816, 222.155, 234.709, 239.343, 159.164, 174.5, 190.68, 225.347, 228.225, 49.6752, 153.724, 153.766, 158.833, 158.888, 161.398, 186.134, 207.66, 216.252, 227.937, 229.464, 229.823])], [array([47.6487, 133.948, 137.602, 152.062, 189.126, 189.272, 228.614, 114.404, 121.99, 128.207, 135.974, 136.857, 144.317, 150.568, 244.991, 93.8184, 147.668, 154.128, 154.517, 161.159, 161.687, 246.553, 247.598, 103.754, 116.943, 129.175, 134.158, 150.128, 89.0593, 108.403, 126.232, 127.047, 135.08, 135.592, 142.725, 156.062, 164.727, 229.224, 236.957, 243.593, 43.0876, 46.4506, 104.584, 105.072, 117.554, 117.921, 125.56, 126.206, 140.259, 147.056, 47.1452, 101.412, 116.933, 117.5, 141.669, 148.637, 149.503, 156.003, 244.975, 87.1637, 102.629, 116.899, 130.162, 159.025, 168.486, 209.953, 97.211, 112.375, 112.716, 128.301, 128.6, 137.144, 143.029, 145.478, 149.315, 159.754, 241.838, 243.581, 243.974, 243.973, 243.96, 98.1399, 106.562, 113.073, 125.385, 125.623, 138.003, 155.277, 169.022, 169.959, 241.007, 241.524, 241.547, 241.895, 242.323, 242.483, 242.579, 242.602, 243.537, 107.04, 112.012, 124.443, 125.562, 132.503, 147.379, 148.816, 153.539, 160.289, 168.301, 225.926, 242.537, 242.807, 243.028, 243.743, 243.89, 243.89, 243.841, 243.8, 243.726, 243.722, 74.1908, 108.983, 109.518, 119.918, 120.151, 137.009, 143.196, 147.847, 150.663, 238.829, 242.782, 243.639, 246.612, 246.391, 246.13, 107.114, 115.6, 116.034, 128.531, 128.75, 137.531, 138.341, 142.613, 211.41, 239.389, 244.511, 245.229, 244.582, 243.84, 243.709, 243.635, 92.7516, 115.699, 115.998, 123.855, 124.212, 130.651, 146.726, 215.539, 219.409, 219.575, 219.658, 219.895, 220.062, 221.621, 221.81, 226.069, 225.937, 227.018, 227.795, 234.935, 242.993, 126.483, 131.423, 132.065, 138.489, 143.711, 144.327, 144.664, 148.035, 156.725, 158.987, 223.711, 244.444, 244.652, 244.992, 99.1249, 114.982, 115.374, 115.814, 132.126, 139.199, 139.571, 144.804, 173.145, 242.723, 88.3139, 95.6935, 117.403, 125.198, 132.716, 139.318, 139.59, 143.383, 144.975, 236.931, 243.973, 244.117, 91.6227, 106.348, 114.753, 114.987, 121.973, 122.229, 130.3, 136.211, 143.616, 143.924, 147.765, 148.141, 243.611, 243.529, 243.207, 85.8403, 107.47, 113.68, 120.537, 121.144, 127.63, 136.06, 147.918, 148.923, 160.499, 242.267, 242.213, 242.184, 55.1136, 95.7095, 110.965, 117.176, 124.52, 137.885, 141.803, 144.41, 153.998, 154.067, 157.361, 165.463, 194.413, 245.429, 245.537, 245.88, 245.782, 245.683, 245.589, 245.509])], [array([107.507, 111.491, 116.54, 238.24, 238.308, 243.736, 245.205, 247.85, 53.5027, 89.855, 103.507, 169.523, 232.193, 233.665, 238.021, 244.751, 246.319, 240.182, 240.272, 246.858, 246.87, 94.0519, 222.983, 224.837, 233.821, 234.025, 241.008, 241.996, 247.387, 248.32, 246.882, 230.33, 230.407, 231.819, 235.203, 238.807, 240.509, 243.863, 243.827, 75.606, 240.081, 240.794, 242.641, 243.64, 243.868, 243.846, 47.1343, 234.747, 236.413, 244.418, 244.412, 228.424, 229.004, 229.015, 243.91, 243.969, 87.4444, 237.555, 238.351, 238.355, 238.357, 239.457, 242.38, 242.422, 243.322, 244.228, 237.194, 240.713, 243.819, 243.808, 51.4587, 236.96, 237.922, 237.996, 238.096, 239.435, 244.167, 244.192, 244.593, 245.801, 245.787, 221.671, 242.87, 245.889, 245.142, 216.659, 216.716, 220.201, 220.521, 221.284, 222.162, 223.221, 226.001, 225.965, 225.947, 226.99, 230.183, 236.207, 236.217, 237.044, 237.041, 237.04, 243.768, 243.768, 243.766, 243.764, 92.9321, 244.056, 244.156, 244.147, 244.205, 244.78, 244.983, 242.789, 242.794, 242.795, 242.754, 242.55, 242.547, 242.54, 55.7915, 93.1941, 217.928, 238.791, 240.564, 240.666, 241.126, 244.226, 244.242, 244.25, 242.979, 243.061, 243.588, 243.56, 243.57, 243.572, 240.782, 241.636, 241.857, 241.944, 242.555, 242.66, 242.654, 242.652, 242.391, 242.349, 242.037, 102.615, 153.936, 153.944, 153.947, 154.315, 159.096, 159.288, 241.398, 241.383, 242.946, 244.44, 244.94, 245.117, 245.342, 245.929])], [array([232.787, 234.839, 234.894, 236.317, 236.441, 236.636, 237.622, 237.709, 237.909, 239.332, 239.991, 242.021, 244.574, 246.215, 247.639, 247.779, 247.836, 247.605, 246.953, 246.844, 82.1967, 220.95, 221.007, 223.719, 224.921, 225.028, 226.988, 227.134, 228.779, 228.916, 229.622, 230.328, 230.387, 230.562, 232.087, 233.92, 236.215, 236.405, 239.094, 241.545, 241.923, 245.361, 246.635, 246.109, 218.197, 222.75, 227.546, 228.021, 235.527, 235.679, 235.739, 235.944, 237.572, 239.745, 242.519, 243.029, 244.667, 246.582, 246.747, 246.915, 247.247, 247.261, 247.404, 248.14, 248.556, 248.574, 248.659, 248.709, 249.614, 249.645, 146.594, 185.971, 195.851, 196.047, 208.037, 208.159, 211.476, 211.733, 215.395, 215.743, 216.088, 219.021, 219.293, 222.413, 222.634, 226.825, 232.364, 233.368, 234.202, 240.687, 245.718, 246.65, 246.685, 248.127, 247.679, 51.2912, 206.658, 222.024, 224.828, 225.073, 226.043, 226.104, 226.687, 226.72, 228.184, 228.248, 228.317, 228.369, 228.923, 229.623, 229.896, 230.063, 230.128, 230.661, 231.36, 231.59, 232.589, 235.279, 235.672, 237.56, 238.434, 241.501, 241.361, 242.49, 243.385, 243.639, 208.603, 208.714, 217.783, 228.268, 231.599, 231.699, 234.344, 238.611, 239.644, 239.683, 240.111, 240.711, 240.766, 241.013, 241.215, 241.426, 241.747, 241.85, 242.299, 242.613, 243.531, 244.022, 244.037, 215.521, 215.909, 216.101, 221.465, 226.614, 226.713, 228.447, 228.542, 228.631, 230.62, 232.288, 232.362, 234.621, 234.756, 234.762, 235.262, 235.596, 236.33, 236.9, 237.869, 239.345, 240.954, 241.648, 242.49, 242.751, 193.003, 207.146, 216.752, 220.093, 225.12, 226.124, 226.747, 226.755, 226.759, 227.195, 227.211, 227.225, 228.397, 228.402, 228.405, 228.425, 229.96, 231.452, 230.96, 230.945, 216.634, 217.036, 221.45, 230.052, 230.279, 234.392, 234.439, 234.524, 234.595, 234.679, 236.17, 236.234, 236.356, 239.121, 240.409, 241.306, 241.809, 242.246, 242.696, 243.179, 243.411, 244.038, 244.053, 244.069, 244.055, 244.033, 243.979, 211.24, 227.013, 227.429, 227.723, 231.659, 234.514, 234.621, 234.752, 234.855, 236.236, 236.339, 236.462, 236.818, 237.139, 237.182, 237.303, 237.43, 238.05, 238.36, 238.401, 238.429, 238.483, 238.834, 238.914, 239.466, 240.117, 244.16, 214.828, 215.02, 219.062, 223.234, 228.422, 228.643, 228.824, 233.439, 235.462, 235.5, 235.998, 236.146, 236.275, 236.506, 236.78, 236.852, 237.279, 237.585, 237.765, 238.275, 238.455, 239.506, 239.709, 239.9, 240.358, 240.938, 243.862, 51.7008, 219.111, 219.573, 223.474, 227.375, 227.548, 227.705, 232.31, 232.482, 232.66, 236.02, 236.141, 236.309, 237.761, 237.85, 238.007, 238.316, 238.359, 239.074, 239.111, 239.136, 239.189, 239.273, 239.329, 239.398, 239.754, 239.844, 240.503, 244.771, 245.737, 245.669, 175.306, 175.624, 186.302, 195.911, 196.28, 206.659, 206.733, 206.868, 211.064, 215.501, 216.182, 220.109, 220.421, 220.647, 224.765, 224.982, 225.539, 226.432, 229.58, 230.217, 231.59, 236.802, 237.528, 244.111, 212.562, 212.614, 214.452, 214.864, 214.858, 214.853, 214.891, 214.901, 215.128, 215.142, 215.468, 215.553, 216.54, 216.414, 216.439, 217.096, 217.688, 217.863, 219.071, 223.941, 233.695, 233.67, 233.635, 238.515, 238.552, 238.578, 208.378, 221.779, 225.823, 229.421, 229.691, 231.956, 232.051, 237.343, 237.566, 237.757, 240.587, 242.156, 242.542, 242.864, 243.243, 243.667, 243.968, 244.155, 244.173, 244.168, 244.155, 244.154, 244.154, 244.149, 244.829, 244.473, 244.414, 209.076, 217.998, 226.566, 227.939, 228.006, 232.695, 234.559, 234.832, 236.266, 236.421, 237.854, 239.275, 239.299, 239.465, 239.817, 241.43, 241.442, 241.537, 241.746, 241.778, 241.896, 241.912, 242.632, 242.658, 242.706, 228.367, 228.537, 230.486, 230.599, 230.879, 232.744, 233.017, 233.153, 235.398, 235.479, 235.689, 237.088, 237.56, 237.875, 239.444, 240.089, 240.305, 241.8, 242.525, 243.606, 244.144, 222.222, 229.466, 231.882, 232.001, 236.477, 237.869, 240.194, 242.521, 242.613, 242.689, 242.836, 242.92, 243.281, 243.477, 243.578, 243.19, 225.644, 228.607, 233.284, 233.511, 239.11, 239.179, 240.375, 240.432, 240.501, 240.644, 241.225, 241.603, 242.755, 242.738, 242.719, 242.646, 242.595, 242.337, 158.924, 161.38, 212.651, 230.114, 230.429, 232.901, 235.558, 235.839, 238.389, 238.561, 238.898, 238.955, 239.613, 240.094, 241.354, 241.438, 242.032, 243.773, 243.808, 243.831, 243.989, 244.035, 244.042, 244.201, 244.943, 245.38])], [array([46.6341, 47.4765, 72.7768, 104.424, 104.677, 105.087, 107.011, 107.33, 128.433, 131.504, 195.17, 209.351, 216.659, 68.349, 74.7427, 95.2561, 95.6196, 113.228, 130.071, 141.93, 161.518, 175.629, 191.902, 207.819, 207.924, 218.424, 45.9529, 54.5739, 79.377, 79.7216, 80.2064, 86.3631, 90.4535, 130.413, 139.03, 147.017, 178.748, 186.732, 186.883, 203.135, 235.501, 109.985, 122.538, 131.423, 158.069, 169.66, 170.092, 184.346, 208.071, 247.449, 43.0785, 43.2968, 75.5241, 79.1149, 116.591, 141.768, 158.574, 171.469, 171.845, 176.093, 188.663, 191.633, 37.6762, 37.7283, 37.9911, 38.0221, 38.4976, 40.4809, 41.3131, 41.3852, 43.1824, 45.8098, 48.9646, 86.1588, 91.0494, 91.2568, 101.397, 130.596, 145.778, 155.284, 166.793, 186.526, 207.764, 208, 210.771, 53.2041, 68.0582, 115.317, 137.021, 169.449, 202.337, 203.959, 230.418, 76.0522, 82.2497, 84.8772, 143.606, 160.875, 163.432, 181.87, 211.609, 225.613, 227.84, 228.269, 228.615, 228.635, 228.795, 229.787, 79.9605, 87.1249, 144.389, 153.827, 154.428, 177.365, 181.769, 190.394, 198.896, 243.973, 84.5156, 86.0908, 103.071, 112.272, 139.944, 168.786, 169.305, 182.492, 206.299, 214.138, 215.032, 240.972, 243.92, 113.481, 156.481, 179.044, 188.348, 209.543, 243.638, 51.1789, 51.4357, 51.4763, 89.5976, 94.5643, 100.655, 101.351, 121.507, 137.489, 155.009, 159.703, 172.153, 189.272, 189.565, 239.538, 240.169, 49.8309, 85.5448, 87.222, 118.319, 122.532, 141.473, 152.331, 174.213, 184.11, 241.945, 245.249, 84.3599, 90.5188, 134.171, 157.874, 170.873, 179.859, 185.984, 186.531, 228.453, 243.809, 243.809, 243.807, 130.525, 133.316, 133.807, 163.378, 176.412, 189.126, 205.976, 206.878, 235.268, 80.1558, 113.928, 117.061, 134.731, 165.72, 170.193, 203.122, 203.13, 241.812, 48.9368, 50.5822, 50.6408, 50.6964, 52.3649, 57.2807, 98.4048, 119.602, 128.032, 150.894, 151.361, 168.855, 178.985, 191.545, 195.23, 195.53, 217.779, 225.016, 50.6595, 50.925, 53.029, 54.7187, 56.8006, 56.8398, 137.081, 140.182, 161.808, 188.887, 192.345, 194.422, 209.845, 214.355, 229.425, 60.7127, 92.8506, 126.287, 129.794, 134.135, 173.671, 188.081, 207.835, 76.1337, 118.941, 153.674, 158.797, 160.893, 166.775, 185.796, 190.356, 245.887])], [array([104.578, 107.559, 112.548, 136.862, 220.727, 224.329, 224.337, 224.473, 228.912, 231.651, 232.413, 232.592, 234.62, 236.562, 247.532, 246.705, 69.209, 219.302, 219.532, 224.007, 224.519, 227.094, 244.781, 68.1267, 73.6768, 235.634, 239.203, 246.545, 80.4824, 212.715, 248.331, 63.1134, 226.134, 227.601, 227.69, 227.713, 234.845, 237.245, 223.959, 228.801, 231.983, 232.119, 234.594, 234.643, 234.675, 239.52, 241.123, 47.123, 90.8536, 226.866, 244.327, 68.7211, 221.81, 226.235, 226.241, 226.335, 226.557, 226.558, 226.559, 227.156, 227.165, 227.187, 227.342, 227.347, 228.39, 228.415, 228.607, 228.616, 229.14, 229.148, 229.153, 229.16, 229.325, 229.639, 229.655, 231.108, 74.0795, 233.432, 92.5666, 236.617, 239.455, 244.228, 244.152, 244.151, 244.144, 78.601, 87.7598, 225.163, 235.446, 236.221, 243.746, 243.744, 51.7253, 83.6089, 215.428, 244.038, 246.748, 68.0547, 87.4571, 94.5205, 216.586, 224.049, 238.218, 215.277, 217.06, 218.147, 223.169, 233.628, 233.746, 239.214, 242.078, 87.8072, 241.462, 244.149, 245.064, 236.457, 241.769, 243.721, 226.948, 235.186, 242.033, 236.027, 236.327, 243.929])], [array([241.888, 246.33, 246.612, 126.955, 134.438, 157.914, 243.929, 246.685, 247.084, 246.922, 246.437, 246.382, 242.549, 245.397, 245.446, 246.829, 51.419, 89.3979, 101.329, 158.823, 243.738, 247.625, 248.208, 248.251, 247.698, 79.5822, 98.201, 124.471, 183.361, 235.004, 236.946, 236.995, 237.017, 239.497, 243.175, 243.619, 243.393, 42.577, 42.6424, 163.811, 239.056, 242.589, 243.306, 243.445, 243.507, 243.925, 243.931, 243.864, 43.3706, 80.5786, 81.8591, 113.521, 181.432, 240.276, 240.532, 242.048, 243.098, 243.181, 243.233, 243.301, 243.757, 244.884, 245.033, 244.896, 244.524, 69.09, 116.002, 228.419, 228.434, 92.7381, 127.082, 239.311, 239.368, 243.721, 244.024, 244.02, 244.013, 243.972, 243.97, 243.955, 243.955, 243.958, 86.8655, 236.592, 236.749, 238.603, 238.641, 239.182, 239.442, 239.816, 239.866, 239.885, 239.937, 240.142, 240.682, 244.055, 243.964, 244.004, 244.046, 47.3578, 47.4318, 47.4861, 95.9185, 110.144, 169.375, 236.309, 238.034, 239.762, 240.627, 240.662, 240.722, 241.426, 241.466, 242.417, 242.908, 243.894, 243.89, 243.888, 243.886, 243.798, 243.769, 243.708, 47.8299, 47.8457, 51.22, 51.4628, 94.7722, 105.344, 236.875, 238.678, 238.996, 240.217, 241.606, 241.662, 242.395, 243.271, 243.785, 244.209, 244.298, 245.457, 246.041, 49.8342, 49.3956, 79.0895, 97.3631, 221.979, 231.871, 232.808, 239.541, 239.779, 246.888, 246.226, 246.092, 245.926, 245.389, 244.255, 243.694, 43.0903, 41.4757, 45.9272, 89.6331, 114.604, 163.358, 217.966, 217.997, 218.021, 218.662, 220.516, 221.211, 221.723, 226.083, 225.99, 225.971, 226.592, 227.069, 229.975, 234.642, 234.692, 237.048, 238.258, 242.687, 242.916, 243.808, 243.767, 243.756, 48.7153, 48.8464, 100.329, 104.717, 105.143, 151.393, 244.052, 244.065, 244.156, 244.156, 244.184, 244.199, 244.367, 244.393, 244.62, 244.96, 244.983, 245.09, 244.961, 48.1884, 155.5, 187.775, 238.316, 242.347, 242.416, 242.806, 242.788, 242.777, 242.757, 242.688, 242.569, 49.8237, 73.6909, 92.9483, 112.793, 148.902, 166.546, 184.33, 233.675, 233.854, 243.794, 243.826, 244.043, 244.195, 244.225, 244.232, 244.36, 244.397, 53.9985, 54.0683, 56.0667, 81.7424, 89.1441, 162.516, 168.046, 238.334, 243.61, 243.611, 243.602, 243.518, 243.506, 243.475, 243.53, 60.7314, 60.7259, 80.1569, 155.536, 163.533, 236.802, 240.885, 242.372, 242.296, 242.065, 242.036, 242.032, 242.031, 52.2976, 86.0278, 91.2528, 116.105, 122.775, 159.065, 159.257, 161.677, 164.436, 239.051, 243.688, 243.914, 243.927, 244.374, 244.446, 244.484, 244.491, 244.713, 244.879, 245.09, 245.276, 245.392, 245.419, 245.882, 245.951])], [array([49.8474, 175.763, 189.084, 189.227, 199.248, 150.392, 193.246, 191.406, 191.82, 192.024, 168.525, 187.166, 209.875, 180.28, 173.08, 173.452, 188.176, 51.5772, 180.29, 180.656, 204.157, 204.426, 152.747, 153.587, 153.596, 154.317, 154.335, 154.342, 154.351, 155.008, 168.952, 179.057, 179.335, 245.899])], [array([121.626, 121.748, 121.934, 128.585, 128.876, 130.103, 130.746, 133.559, 133.917, 135.159, 136.621, 136.964, 137.606, 146.086, 146.4, 146.675, 156.139, 158.921, 167.656, 169.989, 170.774, 171.321, 172.675, 176.998, 177.917, 185.729, 186.427, 194.725, 195.748, 196.05, 196.261, 204.896, 205.204, 205.669, 205.759, 205.996, 206.977, 208.127, 208.36, 209.196, 210.762, 212.264, 214.295, 215.105, 216.206, 218.961, 219.277, 219.656, 99.7862, 106.689, 106.832, 107.17, 114.294, 119.417, 120.878, 121.434, 123.189, 127.528, 130.126, 130.855, 131.222, 131.74, 137.743, 140.405, 141.619, 142.31, 143.818, 147.062, 148.222, 154.002, 155.438, 155.908, 169.366, 177.442, 179.151, 183.653, 186.287, 194.936, 195.942, 196.662, 206.658, 208.587, 208.761, 208.99, 209.726, 209.941, 213.777, 214.131, 218.733, 220.202, 220.454, 93.4853, 93.7579, 100.788, 101.314, 102.228, 103.554, 104.024, 108.32, 109.792, 111.286, 112.38, 116.269, 119.29, 120.035, 120.397, 123.943, 126.615, 127.162, 130.374, 131.668, 136.451, 144.059, 144.53, 145.251, 146.256, 152.483, 152.75, 153.497, 154.377, 160.332, 161.367, 163.589, 167.571, 168.658, 171.145, 186.325, 191.99, 192.286, 198.846, 201.628, 204.387, 206.283, 209.783, 210.986, 220.328, 79.1777, 92.3938, 103.412, 103.771, 104.099, 110.651, 111.294, 114.836, 115.966, 116.471, 116.756, 117.285, 121.202, 122.488, 123.278, 126.319, 127.964, 128.662, 129.216, 131.773, 132.882, 134.785, 135.681, 137.154, 142.858, 143.606, 148.371, 152.417, 157.146, 158.292, 161.518, 162.01, 162.838, 164.403, 166.281, 166.953, 182.345, 186.362, 192.07, 206.995, 89.0046, 94.8023, 100.07, 100.42, 100.969, 107.805, 108.44, 113.578, 116.113, 116.895, 117.373, 120.493, 121.72, 122.956, 123.264, 129.716, 132.081, 137.514, 138.528, 139.185, 139.664, 140, 146.674, 149.375, 155.59, 158.258, 165.84, 167.1, 169.088, 173.315, 176.35, 180.861, 183.314, 189.474, 190.535, 208.456, 213.294, 224.419, 93.5047, 94.2805, 98.4748, 103.27, 103.935, 104.354, 104.655, 105.603, 106.295, 109.648, 112.901, 113.486, 114.577, 120.102, 120.74, 127.719, 129.107, 136.772, 137.127, 143.448, 150.812, 151.533, 152.049, 154.308, 159.476, 204.036, 207.254, 226.074, 92.6901, 98.0639, 99.7531, 100.532, 101.015, 106.374, 108.013, 109.645, 114.54, 115.524, 116.591, 120.694, 120.999, 128.983, 129.322, 129.713, 130.099, 136.984, 137.527, 138.092, 146.509, 149.609, 155.082, 157.572, 163.728, 164.241, 173.297, 174.442, 180.359, 187.601, 188.133, 85.6089, 86.9486, 93.8804, 94.5158, 98.5214, 100.004, 100.588, 107.484, 107.943, 111.023, 112.68, 113.076, 113.458, 115.539, 117.239, 119.224, 119.684, 120.723, 121.999, 123.47, 125.387, 127.333, 128.119, 134.235, 134.827, 135.155, 141.388, 141.845, 142.321, 144.735, 150.053, 150.665, 152.367, 153.962, 158.256, 159.048, 160.399, 166.764, 191.452, 205.728, 208.905, 209.533, 209.572, 217.449, 219.3, 221.018, 222.646, 227.886, 230.124, 82.8414, 90.4891, 94.9466, 95.1387, 95.3401, 95.842, 103.279, 104.098, 107.132, 107.553, 109.041, 110.493, 110.911, 111.642, 112.104, 114.586, 115.157, 116.581, 116.99, 118.158, 123.187, 123.825, 124.984, 126.1, 130.916, 131.532, 132.637, 133.58, 134.809, 141.289, 141.793, 143.084, 146.487, 149.549, 152.309, 157.75, 158.537, 159.258, 166.491, 175.978, 81.8661, 90.9926, 91.1189, 93.5728, 93.7635, 93.8764, 96.7435, 99.5351, 99.8313, 100.157, 105.919, 106.047, 106.193, 106.342, 108.072, 112.128, 112.717, 113.177, 113.862, 114.102, 114.565, 118.769, 122.896, 124.576, 124.951, 126.269, 130.189, 134.574, 134.815, 141.16, 141.452, 141.702, 141.991, 148.431, 163.026, 164.688, 170.35, 170.783, 171.861, 178.774, 189.986, 190.691, 202.097, 207.105, 212.521, 85.1717, 96.0633, 101.022, 101.356, 101.671, 105.177, 106.68, 106.914, 107.153, 111.501, 111.831, 114.045, 115.013, 116.223, 117.205, 118.443, 120.516, 120.863, 121.152, 124.813, 127.817, 128.734, 130.25, 131.374, 135.881, 137.319, 144.102, 144.447, 154.395, 156.108, 161.631, 162.12, 167.351, 174.087, 175.071, 87.0562, 91.6327, 96.9488, 102.155, 106.29, 107.888, 112.262, 113.051, 113.74, 114.173, 116.601, 117.244, 117.99, 118.649, 119.196, 120.515, 123.275, 123.865, 125.444, 126.7, 129.106, 131.162, 132.747, 139.774, 140.164, 141.123, 142.395, 151.015, 157.922, 159.887, 164.787, 173.961, 230.387, 67.9288, 81.4804, 87.7617, 90.6288, 96.9492, 98.3319, 99.5125, 107.104, 110.688, 111.577, 112.466, 113.097, 116.251, 119.449, 119.975, 125.454, 126.135, 126.637, 130.53, 131.347, 132.164, 132.612, 136.927, 138.841, 147.465, 147.923, 148.638, 153.968, 154.418, 158.889, 208.212, 92.9754, 95.4569, 95.8847, 95.9085, 101.252, 101.746, 102.415, 103.269, 108.011, 111.741, 112.14, 112.601, 113.167, 114.642, 115.415, 119.35, 119.765, 120.537, 122.971, 124.523, 126.388, 126.842, 127.335, 134.255, 135.069, 137.902, 142.647, 147.307, 151.007, 151.553, 152.737, 160.96, 171.041, 179.938, 187.932, 212.884, 214.536, 240.362, 106.627, 113.251, 116.035, 116.909, 117.534, 122.784, 123.918, 125.703, 126.721, 128.163, 128.359, 130.695, 135.181, 135.696, 136.447, 140.541, 140.893, 141.5, 142.843, 143.811, 147.148, 148.352, 149.221, 156.688, 159.13, 167.794, 172.58, 184.462, 186.761, 221.438, 228.293, 82.4043, 84.0699, 90.2034, 92.236, 96.6312, 98.2242, 100.902, 104.712, 112.393, 114.958, 118.223, 119.179, 119.574, 125.285, 128.105, 129.181, 131.256, 135.695, 136.152, 136.975, 142.987, 143.346, 143.79, 150.807, 152.111, 166.583, 168.263, 175.195, 210.366, 217.591, 227.866, 229.036, 74.8234, 87.6985, 94.1041, 102.453, 105.68, 106.662, 108.982, 110.367, 111.856, 112.906, 114.195, 116.063, 117.495, 121.999, 123.707, 127.765, 128.872, 129.236, 131.788, 136.17, 137.262, 143.548, 144.986, 159.301, 160.836, 169.041, 69.1801, 90.6703, 90.944, 91.2598, 92.0708, 96.1837, 96.8215, 97.7896, 102.367, 105.425, 105.827, 106.545, 109.118, 112.023, 114.83, 117.765, 119.836, 120.751, 121.75, 126.417, 128.346, 129.61, 132.719, 133.665, 140.885, 141.179, 141.893, 144.716, 149.021, 149.589, 150.949, 151.572, 158.581, 174.75, 95.0938, 96.0038, 97.4608, 99.2398, 103.081, 103.464, 107.15, 107.541, 109.763, 110.219, 113.385, 113.861, 116.6, 117.738, 118.414, 119.035, 119.672, 124.091, 125.138, 125.925, 126.378, 131.973, 132.592, 136.99, 137.887, 138.58, 148.427, 149.318, 153.778, 154.24, 156.046, 160.507, 160.817, 162.969, 168.354, 94.7268, 95.6041, 102.9, 103.192, 104.457, 109.216, 109.882, 110.671, 111.071, 113.681, 116.2, 117.092, 117.471, 120.925, 123.455, 123.844, 124.931, 127.914, 128.468, 130.021, 131.257, 132.694, 133.697, 134.238, 134.741, 136.246, 140.67, 140.82, 141.215, 142.526, 151.026, 154.002, 154.235, 157.31, 157.58, 158.566, 162.312, 163.205, 163.41, 163.711, 164.514, 165.272, 165.523, 166.215, 166.339, 169.673, 175.178, 204.063, 208.579, 208.77, 227.27, 231.024])], [array([87.7972, 87.8755, 114.251, 114.531, 181.406, 181.618, 216.604, 216.717, 216.839, 201.986, 202.97, 160.901, 161.148, 179.904, 180.046, 180.164, 238.312, 41.2828, 41.3096, 69.9494, 37.7393, 37.7349, 228.632, 116.688, 169.676, 169.86, 69.1946, 69.4111, 55.2411, 55.2496, 218.07, 218.237, 218.525, 210.925, 211.083, 64.1589, 155.265, 155.299, 155.34])], [array([134.71, 134.885, 137.946, 138.157, 142.572, 153.686, 157.644, 115.611, 122.95, 128.581, 137.972, 138.373, 146.435, 148.432, 151.165, 158.232, 158.801, 170.528, 172.417, 172.854, 178.101, 67.4724, 117.756, 124.948, 125.424, 131.807, 133.046, 140.446, 140.624, 147.247, 165.929, 71.6831, 80.6905, 129.42, 135.433, 153.825, 164.213, 166.396, 53.6556, 61.4847, 118.994, 150.349, 156.04, 159.273, 159.731, 39.1578, 41.4824, 62.6064, 62.7973, 133.133, 140.091, 143.223, 144.476, 158.774, 159.011, 168.563, 169.102, 60.0272, 63.7833, 65.3168, 134.618, 135.765, 140.951, 147.482, 148.477, 149.292, 163.041, 166.248, 74.6514, 130.472, 138.635, 146.64, 154.051, 73.3443, 129.346, 141.543, 146.385, 150.207, 138.552, 146.126, 147.09, 151.109, 155.71, 156.147, 125.323, 131.031, 132.565, 133.739, 120.867, 140.997, 141.467, 158.528, 68.1866, 116.476, 128.816, 129.216, 133.53, 130.673, 139.604, 143.346, 144.63, 153.967, 190.996, 237.132, 243.807, 243.802, 47.5589, 144.066, 147.863, 150.231, 155.824, 156.82, 162.187, 166.339, 167.293, 66.4155, 79.6211, 115.845, 123.889, 124.251, 131.911, 132.174, 138.963, 142.607, 160.702, 166.89, 169.761, 208.276, 110.279, 118.164, 125.538, 125.791, 132.379, 132.819, 133.326, 134.883, 135.641, 140.024, 146.465, 147.641, 153.289, 154.663, 159.172, 159.806, 73.4538, 92.014, 114.904, 122.384, 122.638, 130.391, 137.531, 142.294, 142.872, 143.754, 144.358, 148.88, 150.484, 151.705, 160.263, 161.697, 181.192, 204.174, 204.379, 204.748, 69.1488, 114.243, 114.57, 128.008, 134.996, 136.455, 141.914, 142.008, 142.614, 146.354, 147.802, 148.082, 155.233, 177.1, 241.611, 91.2196, 106.859, 141.589, 141.785, 143.706, 144.97, 146.46, 147.665, 151.145, 153.617, 153.981, 154.037, 154.171, 154.189, 154.199, 154.379, 156.975, 158.123, 162.857, 163.753, 165.17, 166.392, 179.581, 179.771, 245.873, 245.471])], [array([105.517, 105.901, 106.042, 106.177, 106.351, 106.485, 110.664, 110.775, 110.897, 111.982, 113.094, 115.981, 116.446, 117.018, 117.682, 120.239, 120.399, 121.106, 121.586, 121.964, 123.22, 123.787, 124.589, 124.923, 127.176, 128.804, 129.076, 130.474, 130.896, 131.148, 132.33, 132.638, 135.441, 137.679, 139.578, 154.751, 157.514, 158.814, 168.24, 171.444, 176.378, 176.551, 184.765, 190.095, 190.374, 228.851, 246.657, 76.4657, 83.214, 84.5645, 86.787, 95.5256, 95.5134, 100.195, 102.338, 102.812, 113.661, 114.216, 115.544, 119.255, 124.089, 126.336, 134.162, 135.179, 139.04, 139.988, 140.363, 140.976, 147.277, 148.842, 153.914, 156.193, 157.879, 162.801, 165.182, 168.472, 169.29, 169.655, 177.937, 178.293, 185.782, 188.218, 79.3622, 80.6947, 81.3715, 81.6796, 92.3561, 98.2598, 98.8421, 100.71, 105.771, 106.066, 111.207, 114.741, 115.015, 117.084, 119.424, 120.716, 123.7, 124.283, 127.526, 128.658, 128.943, 130.738, 131.399, 143.317, 145.172, 147.368, 152.328, 152.61, 161.764, 162.244, 163.195, 167.457, 167.667, 168.105, 174.487, 175.433, 181.603, 65.9739, 78.5671, 78.9118, 90.9909, 91.6731, 102.505, 104.205, 107.245, 108.688, 111.059, 112.848, 113.093, 113.55, 116.63, 117.048, 117.481, 120.388, 120.879, 126.794, 128.554, 130.075, 132.66, 136.341, 141.149, 143.18, 143.666, 147.959, 149.944, 156.498, 156.734, 157.051, 158.371, 158.721, 161.548, 161.69, 162.514, 163.41, 166.204, 166.591, 171.082, 171.732, 54.3477, 76.3897, 88.388, 88.7399, 94.4677, 105.06, 105.512, 106.271, 111.409, 114.938, 115.627, 117.146, 123.832, 125.624, 130.559, 131.085, 134.309, 134.64, 139.254, 140.812, 141.673, 151.414, 152.499, 156.794, 158.14, 158.709, 159.628, 164.929, 166.301, 167.905, 174.343, 175.402, 182.351, 191.427, 80.8219, 80.8452, 80.9281, 81.5741, 88.5985, 90.7628, 93.5732, 94.3398, 98.25, 102.715, 103.066, 104.561, 104.863, 112.688, 113.121, 115.734, 117.758, 121.713, 123.639, 125.083, 130.652, 137.636, 140.375, 141.52, 142.487, 146.324, 151.231, 152.109, 152.722, 153.637, 159.699, 160.06, 171.614, 187.796, 188.337, 69.9874, 82.8288, 83.9427, 84.6384, 95.4044, 95.587, 98.9005, 101.077, 105.578, 106.088, 106.552, 107.449, 116.878, 122.291, 125.012, 132.354, 139.63, 145.242, 146.346, 148.754, 155.22, 156.851, 162.672, 163.853, 180.753, 192.767, 70.5403, 70.8011, 87.1859, 94.1008, 100.44, 101.74, 103.324, 107.727, 113.918, 115.785, 116.914, 121.113, 124.959, 126.298, 129.348, 130.32, 137.61, 138.337, 141.326, 143.749, 144.417, 145.269, 146.063, 151.187, 153.027, 157.886, 158.324, 159.655, 166.921, 169.179, 169.635, 170.756, 174.947, 179.133, 187.802, 70.0813, 70.9839, 81.9333, 90.2323, 95.004, 95.5018, 96.4754, 97.6878, 102.84, 109.688, 112.416, 112.773, 113.161, 118.265, 118.544, 120.558, 121.171, 125.462, 125.789, 127.018, 135.199, 141.185, 141.427, 142.997, 143.349, 144.283, 151.253, 152.236, 152.769, 158.156, 158.893, 159.33, 160.541, 167.772, 168.17, 176.947, 185.127, 186.571, 81.0472, 81.9339, 90.0733, 90.1928, 90.6396, 93.2702, 95.5898, 95.7689, 97.4042, 103.492, 104.659, 104.732, 106.492, 106.633, 106.827, 109.238, 109.362, 109.489, 113.322, 113.402, 113.45, 113.515, 114.973, 115.114, 116.629, 116.971, 117.232, 121.769, 136.618, 136.956, 137.598, 144.688, 149.033, 156.598, 157.298, 162.671, 164.173, 164.574, 165.132, 171.59, 172.241, 178.867, 244.145, 244.142, 244.138, 47.9594, 48.0084, 48.0462, 64.4431, 65.0083, 79.184, 85.536, 86.0114, 86.283, 90.2382, 91.1484, 95.5779, 95.848, 100.281, 100.56, 104.121, 104.55, 104.944, 108.58, 115.648, 117.675, 121.086, 121.915, 128.538, 130.336, 137.022, 144.928, 147.881, 153.806, 154.35, 156.953, 160.783, 161.114, 162.719, 163.249, 164.047, 167.039, 174.604, 182.084, 62.7929, 86.2538, 86.4642, 91.4216, 91.8438, 92.2708, 94.8399, 94.9172, 95.4932, 101.967, 102.529, 102.921, 103.376, 105.338, 105.828, 109.136, 111.584, 111.861, 112.207, 112.583, 113.925, 116.339, 118.035, 118.78, 124.383, 125.605, 133.51, 141.35, 141.667, 148.644, 157.141, 157.381, 157.716, 164.674, 164.93, 166.522, 181.185, 181.428, 68.6767, 68.8776, 69.655, 79.3009, 79.5712, 80.6047, 88.8244, 89.4529, 95.8403, 96.1647, 97.1738, 97.9598, 98.6302, 108.621, 112.845, 114.143, 116.893, 119.826, 121.516, 127.104, 132.312, 133.393, 136.13, 136.972, 137.647, 142.696, 149.441, 153.684, 154.03, 158.823, 79.9251, 79.8826, 79.7915, 85.5694, 86.5846, 91.5839, 91.8671, 95.7677, 95.7943, 100.921, 101.156, 103.818, 104.931, 105.143, 106.834, 112.38, 115.061, 120.875, 128.231, 130.803, 138.439, 138.764, 140.608, 143.607, 143.964, 145.648, 151.49, 153.444, 154.161, 159.931, 160.885, 178.551, 179.33, 234.437, 243.787, 243.784, 243.784, 89.6179, 89.8423, 94.7791, 94.9879, 95.5116, 106.461, 107.125, 111.343, 111.568, 112.045, 118.014, 124.47, 128.991, 131.554, 136.268, 137.851, 138.173, 143.332, 143.68, 148.506, 148.819, 155.246, 164.854, 165.365, 176.196, 182.111, 184.611, 194.721, 73.7853, 73.9004, 74.1092, 81.5287, 81.9297, 82.7823, 90.8886, 95.6659, 95.746, 97.7145, 99.966, 102.859, 115.51, 116.157, 120.775, 127.205, 132.344, 138.408, 139.162, 142.338, 144.71, 145.268, 145.777, 146.549, 158.55, 159.432, 159.651, 167.255, 168.753, 169.289, 169.846, 173.806, 174.205, 185.665, 186.171, 54.897, 55.7169, 71.7552, 78.9681, 79.4953, 86.9036, 88.3003, 93.3139, 95.0469, 97.1915, 97.6528, 98.1687, 100.352, 102.382, 102.868, 103.39, 105.119, 105.596, 110.465, 111.925, 112.793, 117.74, 123.478, 129.623, 130.854, 132.123, 133.703, 137.566, 138.668, 145.359, 146.268, 146.961, 152.215, 152.518, 152.794, 167.017, 168.435, 174.939, 63.1606, 75.6258, 79.0631, 79.3293, 79.4112, 90.144, 90.3686, 91.5017, 95.0611, 95.7211, 98.4228, 100.42, 102.473, 105.634, 106.72, 113.192, 115.688, 119.036, 129.154, 133.843, 135.866, 138.015, 141.75, 143.236, 144.019, 145.276, 148.587, 150.008, 153.323, 153.75, 158.507, 159.508, 165.588, 166.74, 176.567, 177.087, 196.636, 196.933, 67.3798, 78.0812, 80.5028, 80.8107, 81.2409, 88.1986, 88.5859, 89.8694, 94.3766, 95.2071, 97.0248, 98.9335, 101.564, 104.652, 107.476, 108.445, 111.753, 113.15, 113.781, 127.186, 128.702, 131.357, 131.915, 133.859, 141.173, 141.661, 148.528, 152.382, 161.565, 167.058, 169.046, 72.8142, 76.6132, 76.7695, 76.9696, 87.1388, 87.9952, 88.4481, 92.3792, 92.7623, 93.1989, 94.3364, 98.3661, 98.7064, 99.2088, 99.6625, 103.759, 104.67, 111.404, 112.824, 115.675, 117.901, 122.04, 129.067, 131.971, 135.465, 136.379, 140.778, 141.127, 144.117, 145.977, 149.18, 149.568, 152.688, 153.606, 153.616, 153.919, 153.927, 153.991, 154.039, 154.041, 154.044, 154.047, 154.1, 154.119, 154.169, 154.177, 154.203, 154.545, 154.607, 155.589, 155.657, 156.069, 156.203, 156.451, 157.129, 157.476, 157.893, 158.085, 160.339, 162.261, 162.292, 162.342, 163.368, 163.64, 164.268, 165.119, 165.235, 165.29, 166.034, 166.113, 176.797, 180.236])], [array([46.7497, 47.8129, 47.9319, 167.603, 47.2337, 44.6743, 46.8537, 47.0167, 37.7167, 40.3723, 40.4715, 41.7729, 42.1743, 43.4526, 44.1887, 41.8737, 41.8966, 42.8045, 226.696, 227.204, 145.645, 48.3849, 220.715, 51.1838, 48.8414, 50.9182, 51.1271, 51.1629, 51.1861, 243.809, 47.3549, 47.8733, 47.5001, 50.4409, 50.4863, 50.5656, 53.7328, 54.3555, 54.9592, 55.2585, 48.7486, 52.9918, 54.5829, 54.7383, 55.0803, 55.6421, 59.3305, 48.9098, 48.9893, 51.4004, 58.9178, 59.0753, 64.2246, 154.937])], [array([105.67, 105.812, 105.94, 113.289, 113.477, 114.037, 116.67, 116.81, 117.057, 117.788, 120.435, 120.56, 120.882, 122.6, 123.406, 126.872, 127.115, 127.295, 131.658, 145.627, 146.011, 162.787, 174.072, 175.969, 176.081, 176.682, 80.2989, 95.5163, 96.521, 97.8041, 100.619, 104.358, 104.566, 104.887, 105.869, 106.75, 109.013, 110.123, 111.004, 111.402, 111.875, 116.681, 117.621, 119.075, 119.921, 123.837, 124.029, 124.392, 139.691, 139.92, 140.425, 168.231, 168.79, 169.402, 170.302, 188.634, 208.65, 87.579, 92.0771, 92.5422, 95.9909, 96.0323, 96.1454, 96.7204, 97.4301, 100.268, 102.687, 103.104, 103.463, 104.004, 104.311, 106.817, 111.388, 112.507, 120.29, 120.822, 128.156, 129.296, 130.045, 136.616, 151.23, 151.909, 153.403, 78.6712, 90.7071, 90.9042, 91.0895, 91.3506, 94.9338, 95.0471, 95.1896, 101.795, 102.282, 102.648, 102.92, 103.104, 105.056, 105.261, 106.104, 106.841, 107.957, 112.11, 112.57, 113.28, 113.632, 114.03, 115.215, 119.489, 120.257, 121.668, 138.39, 138.685, 195.921, 87.43, 87.7386, 87.9832, 92.9057, 93.0816, 94.1364, 97.4643, 97.7347, 98.2879, 98.8713, 99.4951, 101.925, 102.196, 102.574, 104.356, 104.949, 105.336, 111.549, 111.895, 113.077, 114.092, 122.382, 128.542, 128.861, 131.555, 144.705, 144.904, 146.01, 81.0926, 93.7116, 97.1208, 97.9142, 98.5343, 102.647, 103.114, 103.283, 104.198, 106.385, 106.536, 106.729, 107.033, 107.347, 111.954, 112.337, 112.779, 113.948, 121.612, 122.018, 238.112, 69.5586, 69.7765, 83.4754, 90.5643, 90.856, 92.6255, 92.9449, 93.4943, 95.1434, 95.3066, 95.431, 96.9391, 97.5676, 98.264, 98.9245, 100.459, 103.658, 103.903, 104.369, 104.976, 105.58, 106.152, 110.371, 110.856, 111.966, 112.973, 121.595, 122.558, 128.697, 129.209, 85.3913, 85.7572, 86.652, 91.4978, 91.8298, 97.7913, 98.0374, 103.84, 104.236, 104.674, 105.077, 111.796, 112.064, 112.911, 119.421, 120.952, 121.623, 126.556, 127.638, 136.04, 136.278, 168.769, 81.8675, 82.1964, 89.6067, 89.9802, 94.1471, 94.3546, 94.6089, 94.9331, 100.582, 101.408, 101.995, 102.536, 102.754, 103, 106.713, 109.445, 110.783, 116.053, 116.681, 124.354, 124.716, 85.2807, 85.4168, 85.7048, 92.6866, 92.9747, 96.0707, 96.0393, 95.985, 100.785, 100.865, 100.993, 101.14, 103.414, 105.518, 105.823, 105.919, 107.549, 107.593, 107.66, 108.398, 109.333, 109.786, 109.867, 112.412, 112.66, 114.131, 116.442, 116.6, 133.127, 134.083, 49.2329, 63.6054, 63.9827, 73.9439, 77.818, 82.1923, 82.4285, 99.633, 100.407, 100.666, 103.523, 103.764, 104.132, 107.478, 107.647, 107.742, 107.888, 113.869, 114.054, 114.354, 114.647, 120.326, 120.812, 121.221, 121.557, 138.838, 200.539, 61.7425, 68.2727, 80.3954, 82.2528, 87.3623, 87.7019, 92.8791, 93.0085, 93.2156, 93.589, 95.297, 102.282, 103.198, 103.751, 105.876, 106.051, 106.403, 106.665, 111.056, 111.361, 111.622, 111.891, 115.66, 115.947, 116.328, 117.059, 117.946, 122.671, 124.41, 130.221, 146.009, 147.14, 154.265, 49.81, 58.3932, 65.1432, 65.2373, 69.6637, 77.7296, 79.6523, 80.0227, 89.8068, 90.8686, 93.7099, 95.886, 96.0992, 96.4424, 102.222, 103.242, 103.87, 104.253, 105.293, 109.131, 109.449, 111.543, 112.064, 119.988, 121.191, 124.945, 125.113, 53.5476, 53.6393, 63.5978, 64.1734, 74.3221, 74.6545, 78.1539, 78.2378, 78.3842, 79.7602, 79.6224, 82.6943, 92.8673, 95.8531, 95.8734, 100.71, 101.142, 101.523, 101.842, 102.907, 105.573, 106.421, 106.595, 111.095, 111.382, 111.76, 112.181, 119.35, 126.956, 149.052, 90.4209, 95.7543, 101.733, 101.98, 106.662, 107.268, 111.164, 111.446, 112.122, 112.596, 115.09, 116.197, 121.801, 122.84, 123.063, 124.406, 129.506, 70.2419, 71.2418, 73.8534, 74.0002, 75.8865, 81.5967, 82.0459, 83.6289, 90.7787, 91.1307, 94.8333, 95.0534, 95.5676, 95.625, 95.7273, 98.135, 104.193, 104.49, 105.129, 105.975, 109.032, 111.076, 111.447, 119.558, 120.43, 121.478, 127.545, 127.875, 128.279, 137.87, 71.3275, 75.3014, 85.1237, 85.771, 98.8136, 99.6744, 99.951, 100.838, 104.15, 104.337, 107.14, 111.277, 111.478, 111.775, 112.823, 121.954, 122.167, 51.7003, 68.3538, 74.1648, 84.8883, 89.9791, 90.258, 95.8353, 96.2858, 100.766, 102.095, 102.389, 102.857, 105.128, 109.367, 110.209, 110.69, 111.386, 112.598, 117.062, 117.271, 117.716, 118.475, 119.137, 126.743, 127.743, 132.877, 177.036, 206.293, 81.0501, 81.5223, 82.0398, 88.3867, 88.7784, 89.1746, 94.5495, 95.4654, 96.0893, 96.6497, 100.076, 102.124, 102.885, 103.194, 105.181, 108.165, 108.625, 109.694, 110.91, 112.026, 116.705, 118.048, 125.066, 61.1898, 88.4556, 92.4814, 92.8823, 94.7492, 100.627, 101.27, 101.711, 102.737, 103.159, 106.587, 107.029, 107.215, 108.683, 113.338, 113.658, 114.544, 115.229, 127.184, 153.371, 154.012, 154.013, 165.964, 168.433, 168.572])], [array([46.8781, 46.9841, 47.4557, 48.049, 52.7211, 55.1126, 56.3739, 56.4703, 56.6632, 56.7204, 56.3624, 239.28, 45.2903, 46.518, 46.6536, 46.9397, 47.0107, 47.3915, 50.322, 52.1971, 52.3501, 240.537, 53.0197, 56.7106, 112.858, 239.021, 51.7915, 52.5361, 54.6079, 43.3771, 45.1881, 48.895, 67.6796, 227.581, 38.491, 44.7438, 45.7152, 48.9294, 224.539, 241.397, 43.2709, 43.3924, 244.554, 64.5831, 226.58, 233.276, 103.541, 236.073, 237.045, 47.4552, 47.5308, 48.396, 60.0157, 85.2515, 243.834, 51.4469, 51.7611, 51.7166, 48.8576, 48.7477, 49.5529, 51.1479, 56.6441, 246.529, 42.0194, 47.4568, 48.9365, 59.6569, 87.8527, 215.472, 48.866, 49.0587, 49.3316, 49.5812, 65.511, 55.6529, 49.0286, 49.0575, 49.0974, 49.2054, 51.5331, 54.3977, 54.7327, 55.24, 55.4432, 55.9025, 243.822, 244.365, 49.1725, 49.4632, 53.5983, 54.1087, 54.7484, 56.4509, 58.736, 60.3897, 61.1737, 60.7197, 60.724, 60.712, 52.7425, 63.0825, 169.238, 237.747])], [array([48.1009, 49.8372, 49.9272, 51.7881, 51.936, 52.0017, 52.531, 52.5474, 52.5981, 53.38, 56.5908, 62.3817, 62.488, 62.5623, 62.5508, 68.1529, 68.6783, 71.1665, 72.2141, 74.4068, 75.7562, 77.954, 78.1199, 79.5114, 81.1004, 81.4241, 82.9281, 85.0074, 85.3542, 88.2946, 88.4122, 89.021, 93.7384, 94.0294, 95.1729, 109.399, 116.287, 116.62, 189.401, 193.82, 204.723, 207.193, 210.828, 214.038, 215.3, 48.9844, 49.1699, 49.3432, 53.282, 53.3319, 54.5015, 54.9543, 57.9901, 58.5315, 58.819, 60.9836, 61.8884, 63.987, 65.529, 65.6465, 65.6366, 65.6262, 92.9254, 208.767, 208.888, 214.794, 215.234, 217.515, 218.945, 219.589, 219.667, 221.358, 221.503, 221.593, 224.249, 246.331, 45.237, 45.9261, 49.7625, 52.0833, 52.298, 52.3361, 53.7086, 59.3446, 60.1239, 61.0168, 61.221, 61.4868, 62.2442, 63.8701, 63.9737, 65.0639, 78.0958, 83.0937, 187.114, 203.788, 203.839, 207.291, 208.397, 209.188, 211.867, 214.07, 225.487, 51.8551, 53.1064, 53.5631, 57.0492, 58.9404, 59.1802, 59.7342, 62.4534, 62.6661, 66.2476, 78.9568, 79.6717, 189.134, 193.976, 195.421, 196.874, 199.085, 200.14, 201.6, 205.917, 206.017, 48.3441, 50.5417, 50.9737, 53.0099, 53.3483, 56.8989, 57.2555, 59.0555, 59.1174, 59.4002, 60.2738, 65.0886, 66.6779, 71.0415, 72.2307, 74.9644, 194.803, 195.355, 204.917, 205.743, 206.05, 209.77, 214.243, 214.671, 218.208, 225.013, 225.288, 42.4016, 45.4381, 52.1968, 52.3068, 52.3342, 57.2513, 57.5093, 62.5265, 65.1834, 67.4126, 69.6644, 72.3715, 76.4752, 77.3699, 79.6782, 83.8106, 193.067, 204.933, 207.106, 210.507, 213.301, 219.46, 44.8132, 48.765, 48.7549, 52.5666, 56.7735, 59.9139, 60.5819, 61.0875, 61.1647, 61.5844, 61.9974, 62.2168, 63.6449, 64.8057, 65.9752, 71.0972, 71.4665, 73.3363, 184.661, 185.695, 186.039, 199.969, 204.821, 205.143, 206.692, 208.659, 210.163, 225.286, 59.9538, 62.0301, 62.1083, 62.4101, 64.9415, 165.023, 173.781, 177.314, 178.741, 209.593, 215.041, 216.424, 217.634, 218.559, 226.549, 227.296, 228.164, 228.22, 228.277, 228.627, 228.717, 229.61, 229.751, 229.915, 230.246, 57.9109, 58.9732, 59.4117, 59.552, 59.5839, 59.8118, 59.9597, 60.1397, 60.1631, 60.3229, 62.0379, 63.2589, 63.3552, 63.561, 65.6575, 65.9492, 71.4955, 165.93, 174.098, 201.198, 202.441, 208.099, 208.647, 212.855, 213.483, 219.945, 220.275, 235.078, 96.0706, 116.312, 170.212, 194.989, 195.183, 196.163, 206.773, 212.454, 214.604, 218.973, 244.142, 47.7999, 47.871, 48.9185, 48.9694, 54.3107, 54.6862, 61.5068, 65.1536, 65.1432, 68.1893, 69.8924, 70.7152, 71.1679, 72.7233, 80.2825, 80.7317, 87.3002, 91.9002, 180.407, 180.88, 195.701, 197.121, 203.967, 204.941, 48.1983, 51.7615, 51.5608, 56.3564, 56.4862, 59.4762, 59.9279, 60.5226, 63.3039, 68.2125, 71.1744, 79.6422, 101.697, 156.221, 189.223, 189.567, 201.111, 201.949, 207.843, 210.178, 210.658, 212.118, 214.442, 214.62, 216.318, 217.804, 218.556, 219.894, 47.9493, 49.5026, 49.0824, 49.0433, 48.9822, 51.2858, 51.8272, 53.5339, 53.5902, 57.5463, 58.7975, 59.3967, 60.3904, 62.5621, 62.6968, 63.1573, 65.8896, 72.549, 112.43, 152.414, 152.683, 163.288, 163.699, 174.011, 178.387, 180.88, 184.772, 187.134, 41.6188, 53.2873, 53.235, 53.2435, 56.4443, 57.0243, 60.2037, 60.3237, 60.7351, 62.6595, 62.9026, 63.094, 65.3189, 66.9279, 67.3652, 67.6512, 71.8726, 74.22, 76.8882, 77.4262, 77.6039, 85.2273, 159.702, 176.235, 186.877, 195.768, 206.114, 206.657, 208.444, 208.637, 211.263, 211.464, 211.5, 212.248, 212.461, 212.695, 243.799, 243.784, 48.7303, 50.1865, 54.5977, 62.3462, 65.8849, 66.0453, 73.0075, 73.3562, 74.7515, 76.5052, 83.6456, 84.0735, 84.7128, 90.2891, 90.4868, 91.122, 134.296, 134.56, 180.644, 190.73, 191.201, 203.328, 203.329, 203.336, 211.251, 211.772, 212.691, 215.361, 216.384, 219.346, 222.524, 222.646, 227.507, 48.2034, 48.7096, 48.9848, 49.3438, 49.5434, 52.5128, 52.7883, 57.387, 59.7615, 59.8879, 60.0962, 65.2238, 68.5713, 68.6847, 69.4401, 70.8394, 78.3322, 90.2635, 150.222, 182.151, 182.679, 203.156, 208.46, 208.759, 208.867, 212.868, 216.409, 217.2, 220.241, 224.765, 226.892, 46.3443, 47.4858, 48.8131, 49.7409, 50.3481, 50.4491, 50.4911, 51.3326, 53.3939, 53.4526, 54.4956, 54.807, 55.1942, 56.7439, 56.938, 57.0191, 57.1597, 58.1375, 58.2868, 59.2573, 59.4935, 59.5426, 59.6079, 59.6304, 62.2323, 64.3097, 64.3742, 65.6665, 65.7074, 68.3627, 68.7354, 69.2178, 69.4614, 69.733, 71.7982, 71.9775, 72.4743, 173.123, 180.798, 196.075, 205.9, 206.413, 210.584, 212.641, 216.346, 221.494, 223.075, 225.143, 226.548, 226.825, 49.3317, 59.7132, 59.8039, 60.6483, 61.2049, 61.2781, 62.79, 64.7191, 70.2485, 72.4646, 75.5178, 79.5433, 173.101, 189.306, 203.416, 209.455, 211.498, 212.072, 214.636, 217.902, 220.13, 221.404, 227.332, 230.192, 60.7274, 60.9634, 61.2422, 62.293, 63.2026, 65.2235, 67.173, 67.8551, 70.5663, 73.4448, 85.7365, 159.524, 189.909, 190.263, 197.107, 207.814, 213.386, 213.96, 218.816, 223.803, 226.758, 230.718, 49.373, 60.1985, 60.2785, 60.3493, 60.6113, 63.7168, 63.8449, 64.8607, 65.7408, 66.7848, 67.0417, 67.733, 67.9965, 68.4305, 69.6151, 74.7664, 77.0928, 83.1003, 101.382, 154.31, 161.146, 185.948, 191.38, 199.244, 207.364, 207.592, 210.757, 211.837, 216.244, 218.408, 219.74, 221.723, 223.774, 224.635, 231.106])], [array([100.348, 104.864, 105.018, 107.485, 107.537, 107.595, 107.663, 110.643, 110.944, 114.24, 133.437, 133.713, 143.275, 228.752, 234.682, 234.853, 234.958, 235.692, 236.282, 236.345, 237.236, 237.376, 237.452, 237.67, 237.994, 238.733, 239.32, 240.305, 240.348, 240.395, 242.107, 242.162, 243.91, 243.967, 245.979, 247.669, 247.831, 247.822, 247.727, 247.706, 247.562, 247.537, 246.927, 246.889, 59.8613, 69.2272, 69.8804, 75.9804, 81.4877, 81.7866, 89.5712, 94.3795, 94.7207, 95.5228, 213.252, 220.972, 221.051, 224.9, 225.089, 226.905, 226.952, 227.09, 228.72, 228.764, 228.848, 228.936, 229.994, 230.087, 230.551, 231.055, 232.042, 232.123, 232.554, 234.255, 234.797, 239.577, 240.288, 242.036, 242.14, 243.915, 246.353, 247.047, 247.072, 247.121, 246.659, 246.629, 246.59, 53.6657, 60.8437, 68.3654, 74.7685, 75.045, 79.6956, 79.847, 83.2068, 83.7771, 84.0684, 86.0753, 89.8027, 90.1037, 90.9229, 222.702, 223.254, 227.842, 228.038, 228.816, 233.314, 233.477, 235.466, 235.51, 235.553, 236.586, 237.114, 237.24, 237.542, 237.807, 239.18, 240.883, 241.05, 241.243, 241.593, 242.955, 243.102, 244.894, 245.139, 245.648, 245.839, 246.684, 248.489, 248.636, 77.3626, 77.8087, 84.5763, 89.328, 89.6831, 93.6248, 93.8015, 99.3792, 99.628, 185.92, 195.875, 205.793, 208.011, 208.11, 208.324, 209.704, 214.754, 215.448, 215.983, 218.71, 218.851, 221.192, 221.338, 221.691, 222.219, 222.714, 225.58, 226.522, 230.795, 231.096, 241.46, 243.171, 245.276, 247.789, 247.643, 246.422, 246.224, 44.8377, 54.1308, 75.3445, 75.5479, 79.7474, 85.1479, 85.481, 89.7407, 89.9834, 90.3054, 90.6748, 95.6111, 206.414, 206.72, 221.83, 222.028, 222.298, 224.9, 224.931, 226.002, 226.028, 226.044, 226.079, 226.511, 226.584, 228.061, 228.229, 228.333, 228.709, 228.977, 229.653, 229.68, 229.727, 230.659, 231.022, 231.188, 231.699, 231.928, 232.967, 234.843, 236.883, 238.371, 75.4873, 86.907, 87.1327, 91.2157, 91.915, 217.726, 218.115, 228.392, 228.565, 231.365, 231.446, 231.574, 233.25, 233.699, 233.847, 234.599, 235.732, 235.808, 236.175, 236.329, 237.648, 237.846, 238.327, 238.423, 239.626, 239.655, 239.981, 240.01, 240.051, 240.069, 240.701, 240.718, 240.749, 241.27, 241.468, 68.558, 69.053, 80.2563, 81.464, 87.728, 88.1342, 89.0174, 89.6758, 95.0837, 95.2534, 216.121, 221.383, 225.049, 226.595, 226.707, 228.402, 228.473, 228.572, 229.97, 230.022, 230.313, 230.465, 232.056, 232.118, 232.304, 233.658, 235.091, 235.134, 235.639, 237.124, 237.464, 237.876, 239.286, 239.396, 239.545, 69.3334, 69.5528, 76.3647, 76.5936, 82.3758, 82.9932, 88.6213, 89.1861, 89.4571, 89.9276, 96.7453, 193.037, 207.287, 207.387, 216.85, 220.064, 220.175, 225.202, 226.122, 226.13, 226.755, 228.395, 228.402, 228.41, 228.419, 229.178, 229.954, 230.996, 230.911, 68.8063, 76.0892, 79.9882, 84.8195, 86.2749, 86.9012, 92.239, 92.7896, 93.6161, 203.593, 216.88, 221.409, 229.818, 230.121, 230.335, 230.581, 233.124, 234.298, 234.366, 235.982, 236.395, 237.985, 238.409, 238.794, 238.884, 239.054, 240.001, 240.119, 240.331, 241.28, 242.019, 243.955, 244.045, 244.047, 84.7435, 86.0841, 87.1794, 91.0557, 95.2019, 195.879, 211.124, 211.437, 222.003, 227.151, 227.889, 231.291, 231.396, 231.739, 231.882, 233.809, 234.148, 234.616, 237.014, 237.098, 237.189, 237.238, 237.414, 237.469, 238.387, 238.424, 238.443, 238.5, 239.476, 242.617, 242.959, 244.046, 79.0157, 89.5915, 92.3271, 96.0392, 96.0762, 96.5662, 97.1076, 104.217, 114.278, 114.485, 205.912, 214.782, 214.942, 219.236, 225.201, 228.376, 228.551, 229.083, 232.961, 235.366, 235.79, 235.857, 235.95, 236.534, 236.682, 236.838, 237.353, 237.401, 243.724, 94.2088, 94.4571, 94.6364, 98.523, 99.5307, 101.169, 215.415, 215.561, 223.544, 223.885, 227.081, 227.315, 231.424, 231.885, 235.424, 235.695, 235.822, 236.104, 237.546, 237.71, 237.792, 237.845, 238.213, 238.385, 239.102, 239.136, 246.926, 68.5605, 77.7867, 83.7913, 85.0622, 85.7951, 175.39, 175.532, 195.647, 206.518, 206.81, 210.453, 210.65, 211.152, 214.323, 214.741, 215.247, 215.601, 218.707, 219.279, 219.793, 222.791, 223.269, 224.031, 224.558, 225.37, 228.387, 229.178, 235.277, 241.472, 246.695, 246.744, 245.301, 244.123, 79.9621, 84.5197, 87.71, 88.4657, 89.8643, 90.6869, 93.6256, 110.106, 211.285, 211.299, 212.564, 212.61, 214.451, 214.461, 214.737, 214.863, 214.857, 214.85, 214.838, 214.847, 214.863, 214.878, 214.896, 215.034, 215.073, 215.152, 215.435, 215.514, 215.547, 216.151, 216.519, 216.443, 217.127, 217.152, 219.069, 219.197, 226.605, 233.679, 234.938, 238.529, 238.612, 243.805, 80.1296, 93.6923, 93.9012, 99.3159, 105.27, 192.271, 192.759, 221.481, 221.802, 225.874, 229.138, 229.399, 229.81, 231.599, 234.884, 234.897, 234.911, 235.101, 236.296, 237.368, 237.505, 239.032, 239.295, 241.055, 243.313, 244.128, 244.14, 244.151, 244.157, 244.207, 244.51, 244.986, 244.844, 76.5278, 77.3352, 80.2846, 85.2119, 85.8301, 86.3893, 86.9894, 208.991, 209.088, 218.309, 226.488, 226.537, 227.974, 228.05, 228.284, 228.979, 232.657, 232.648, 232.896, 234.221, 234.668, 235.982, 236.003, 236.065, 236.242, 237.163, 237.317, 238.864, 239.169, 239.673, 241.349, 241.372, 241.426, 241.599, 241.715, 242.613, 242.448, 49.1664, 55.1326, 63.832, 73.0556, 73.2576, 73.6069, 74.9117, 76.9685, 77.127, 79.4048, 79.6077, 83.3003, 83.8718, 89.8272, 90.146, 197.218, 224.05, 224.965, 226.265, 228.107, 228.475, 229.979, 230.075, 230.246, 230.425, 230.751, 232.481, 232.577, 234.693, 235.048, 235.158, 235.337, 236.657, 237.064, 241.979, 242.245, 243.328, 244.377, 68.1794, 77.8049, 77.9981, 79.2733, 79.4141, 80.0671, 81.4391, 81.7201, 87.3904, 87.8526, 88.2037, 93.3442, 174.037, 215.472, 222.076, 222.694, 226.949, 229.381, 229.479, 229.651, 231.282, 231.811, 234.089, 234.303, 235.557, 235.542, 235.877, 236.328, 237.005, 237.185, 237.557, 237.912, 238.605, 239.311, 239.493, 240.981, 241.99, 242.217, 243.596, 69.2254, 69.316, 75.7892, 79.0069, 79.3872, 83.6279, 85.0953, 86.4202, 92.1601, 92.7818, 93.4478, 214.51, 214.697, 225.664, 228.406, 228.533, 228.865, 232.173, 232.955, 233.305, 235.67, 235.757, 236.26, 236.634, 238.428, 238.761, 239.094, 239.258, 240.368, 240.391, 240.528, 241.076, 241.25, 241.63, 242.671, 242.736, 242.758, 242.745, 242.266, 242.225, 68.9703, 75.7818, 78.118, 78.5757, 80.9575, 83.2645, 84.3958, 84.8944, 89.9105, 90.8761, 154.156, 158.959, 158.987, 161.412, 208.123, 222.947, 229.876, 230.045, 232.353, 232.684, 232.962, 235.49, 235.548, 236.861, 237.051, 237.436, 238.733, 238.917, 239.746, 240.118, 240.634, 241.395, 241.361, 241.388, 241.481, 243.4, 243.818, 243.922, 244.054, 244.117, 244.283, 244.387, 244.429, 245.01, 245.086])], [array([235.653, 246.844, 247.229, 246.551, 246.441, 243.11, 243.282, 241.845, 243.976, 244.009, 245.166, 244.571, 244.559, 80.1818, 243.955, 243.955, 240.559, 240.678, 242.547, 243.925, 233.215, 242.556, 242.85, 243.882, 243.841, 243.78, 237.936, 241.78, 241.798, 242.567, 244.056, 244.196, 244.216, 244.565, 206.569, 232.526, 239.686, 246.792, 246.67, 245.896, 245.226, 217.476, 217.492, 218.153, 218.874, 219.6, 221.138, 221.184, 226, 226.455, 227.052, 227.339, 229.244, 230.858, 234.705, 236.78, 242.668, 242.686, 242.711, 243.759, 243.759, 243.758, 231.871, 232.108, 237.537, 244.156, 244.156, 244.196, 244.42, 244.518, 244.913, 244.922, 245.109, 244.695, 242.359, 242.44, 242.456, 242.472, 242.807, 242.807, 242.78, 242.698, 242.691, 242.686, 242.596, 242.462, 233.73, 233.853, 233.945, 238.544, 238.672, 239.136, 243.089, 243.181, 243.868, 243.999, 244.014, 244.392, 216.832, 232.027, 236.518, 236.533, 238.307, 238.398, 238.847, 243.612, 243.255, 215.19, 229.079, 229.24, 233.689, 236.584, 236.925, 237.062, 240.809, 159.015, 159.054, 159.081, 159.267, 159.385, 159.626, 161.571, 161.62, 161.669, 161.732, 212.619, 223.3, 230.516, 230.648, 233.242, 236.761, 238.973, 239.035, 241.64, 243.706, 244.491])], [array([108.516, 108.934, 133.392, 133.589, 133.826, 134.994, 135.1, 135.498, 135.87, 146.065, 146.599, 146.859, 154.853, 155.507, 155.869, 162.718, 171.481, 173.291, 176.549, 177.1, 177.583, 180.122, 183.706, 184.011, 184.746, 186.275, 190.852, 191.332, 197.372, 201.339, 47.0833, 48.1076, 100.431, 106.53, 106.662, 114.139, 114.866, 115.109, 120.847, 121.122, 122.102, 123.016, 127.134, 127.758, 128.411, 129.723, 130.218, 131.541, 134.922, 136.008, 138.058, 141.017, 141.67, 143.85, 147.29, 148.441, 154.756, 155.917, 157.4, 158.702, 163.245, 164.826, 165.615, 169.283, 177.363, 177.63, 181.313, 185.102, 93.9702, 101.093, 108.75, 109.421, 109.715, 111.202, 115.536, 115.758, 116.582, 116.938, 119.119, 119.856, 123.859, 124.18, 127.65, 128.112, 131.858, 135.246, 137.016, 139.027, 142.959, 144.747, 145.53, 152.493, 152.712, 153.021, 161.703, 165.073, 167.814, 168.33, 170.971, 174.885, 176.677, 177.531, 182.152, 182.425, 103.712, 103.986, 111.31, 115.93, 116.214, 116.442, 116.852, 117.194, 117.698, 121.961, 122.683, 123.088, 124.406, 124.657, 127.594, 128.163, 128.59, 130.251, 131.423, 131.957, 132.576, 140.471, 152.816, 153.118, 156.885, 159.694, 162.463, 163.157, 166.285, 167.918, 168.171, 172.852, 100.186, 100.385, 108.252, 109.196, 110.099, 116.577, 117.521, 117.81, 118.864, 119.803, 124.75, 125.014, 125.286, 128.95, 129.842, 132.325, 133.303, 134.513, 135.282, 138.577, 139.59, 144.088, 146.593, 147.546, 153.387, 158.384, 160.801, 163.222, 165.507, 167.002, 167.432, 168.403, 174.176, 174.609, 183.233, 191.089, 192.008, 39.108, 40.8637, 42.5244, 99.1861, 99.6701, 104.066, 104.96, 109.771, 110.067, 110.304, 116.903, 117.483, 118.502, 124.172, 125.388, 125.916, 127.633, 130.422, 130.786, 136.628, 137.065, 137.357, 137.788, 138.736, 142.073, 143.143, 146.222, 152.284, 152.626, 155.462, 156.157, 168.765, 169.071, 169.684, 173.241, 173.729, 173.915, 179.62, 193.794, 194.053, 43.0716, 101.51, 102.103, 102.878, 108.635, 116.165, 116.545, 117.152, 117.923, 118.495, 123.786, 124.129, 126.416, 132.407, 133.74, 135.172, 135.923, 138.72, 141.281, 142.692, 144.845, 151.422, 157.984, 159.12, 161.714, 163.349, 166.319, 171.571, 172.028, 174.521, 178.617, 179.577, 181.153, 181.753, 186.174, 187.395, 195.646, 78.1615, 87.0129, 94.3027, 102.52, 102.99, 103.471, 112.13, 117.497, 117.951, 122.509, 123.294, 124.55, 124.954, 126.696, 128.322, 129.223, 129.905, 131.969, 137.711, 140.089, 140.909, 144.312, 145.945, 146.425, 152.391, 152.691, 153.393, 154.225, 159.596, 165.936, 166.29, 167.448, 168.326, 169.63, 171.506, 173.914, 174.413, 189.849, 190.507, 95.8838, 97.1803, 105.301, 106.327, 106.492, 110.592, 112.075, 113.498, 119.371, 119.799, 120.633, 121.304, 123.995, 127.056, 128.411, 134.959, 135.4, 138.805, 139.979, 141.796, 145.378, 147.83, 154.484, 154.691, 155.336, 161.519, 161.89, 162.54, 168.301, 169.02, 169.798, 170.41, 176.161, 178.486, 184.473, 184.82, 106.468, 108.358, 111.012, 111.057, 111.091, 111.124, 111.162, 112.891, 113.081, 113.19, 113.238, 114.491, 114.576, 117.042, 119.771, 120.097, 120.344, 123.522, 125.15, 125.448, 127.612, 133.6, 134.599, 143.866, 145.19, 157.75, 158.015, 159.258, 173.28, 173.677, 175.801, 176.508, 177.921, 178.968, 185.096, 185.551, 186.718, 91.0456, 95.8882, 100.73, 101.212, 102.013, 105.803, 106.676, 106.843, 108.434, 108.968, 110.726, 111.638, 111.799, 112.681, 115.564, 117.368, 119.085, 120.595, 123.944, 124.248, 124.901, 128.313, 129.222, 132.194, 139.297, 145.526, 146.583, 150.083, 151.174, 164.309, 168.272, 169.782, 170.436, 176.953, 182.416, 183.908, 189.878, 191.257, 95.1293, 97.1328, 102.917, 108.561, 109.03, 109.759, 112.503, 112.822, 113.525, 113.737, 118.675, 118.859, 119.644, 119.948, 121.306, 123.523, 123.835, 126.448, 127.772, 129.438, 129.844, 132.099, 134.544, 142.038, 144.056, 145.67, 153.27, 153.551, 160.212, 167.583, 168.648, 174.39, 175.931, 177.243, 185.52, 185.725, 193.683, 91.2947, 98.9382, 99.5285, 104.93, 105.457, 106.46, 106.947, 107.719, 108.148, 115.028, 116.905, 121.415, 121.797, 122.122, 124.887, 125.862, 127.982, 129.37, 131.991, 132.483, 133.543, 134.718, 139.762, 140.76, 144.772, 145.304, 149.309, 150.522, 154.441, 155.395, 159.918, 160.822, 161.071, 164.527, 165.418, 165.602, 170.193, 170.506, 170.735, 101.943, 102.166, 102.997, 103.171, 106.532, 109.27, 111.252, 111.43, 113.664, 114.079, 114.984, 115.5, 122.22, 122.656, 123.175, 127.766, 129.144, 136.158, 137.893, 141.417, 148.235, 149.654, 155.22, 155.579, 163.328, 164.935, 170.098, 171.054, 178.076, 179.569, 188.008, 189.689, 190.961, 199.675, 46.8498, 107.38, 107.656, 113.132, 113.361, 113.992, 118.32, 118.741, 121.631, 123.116, 125.153, 126.089, 126.748, 130.525, 132.263, 138.133, 138.6, 141.765, 143.572, 143.848, 158.419, 173.724, 175.285, 177.274, 184.532, 185.038, 186.956, 193.206, 193.576, 196.845, 48.0195, 50.8101, 83.3178, 95.8452, 95.9144, 98.5089, 99.2098, 100.367, 106.358, 111.184, 112.366, 113.306, 114.639, 115.812, 116.551, 118.872, 120.276, 120.905, 122.256, 123.52, 125.259, 127.162, 129.42, 130.771, 137.053, 140.777, 141.552, 141.922, 144.507, 154.93, 155.782, 163.794, 170.747, 171.054, 171.947, 174.19, 177.885, 185.422, 186.008, 194.374, 195.078, 51.5894, 87.6506, 95.1948, 101.605, 101.96, 102.338, 105.316, 105.596, 108.202, 110.272, 112.52, 116.383, 117.194, 122.487, 123.015, 124.491, 126.688, 131.242, 136.098, 136.887, 139.224, 141.89, 143.002, 148.833, 155.883, 156.758, 169.447, 169.94, 174.118, 174.277, 174.615, 176.687, 181.528, 181.742, 182.04, 92.084, 98.2199, 98.6564, 104.178, 105.072, 105.605, 106.143, 106.468, 113.127, 113.838, 114.804, 117.439, 121.883, 122.348, 128.182, 129.266, 131.404, 131.719, 138.333, 141.983, 146.583, 154.866, 161.25, 162.633, 169.101, 169.684, 174.172, 174.453, 174.826, 175.218, 181.907, 182.166, 189.973, 190.434, 89.443, 96.1946, 97.6179, 106.342, 108.42, 112.652, 113.577, 115.425, 120.052, 120.357, 121.64, 122.742, 124.077, 126.145, 128.354, 131.573, 132.278, 134.033, 142.648, 150.415, 151.578, 155.302, 155.709, 156.932, 157.53, 163.218, 163.72, 164.21, 166.382, 166.616, 166.987, 168.126, 170.391, 175.955, 176.382, 184.698, 192.702, 59.3259, 95.6781, 96.257, 96.6743, 102.368, 102.951, 103.632, 104.513, 109.35, 110.44, 110.645, 112.082, 112.706, 118.404, 123.275, 124.411, 126.78, 129.347, 134.468, 137.349, 138.428, 144.805, 145.212, 145.52, 151.133, 153.381, 153.406, 153.595, 153.603, 153.64, 153.65, 153.929, 154.005, 154.016, 154.068, 154.224, 154.361, 154.77, 154.948, 155.072, 155.72, 157.489, 157.581, 157.721, 158.762, 160.479, 164.502, 164.577, 165.494, 165.701, 166.115, 166.165, 166.322, 167.172, 167.219, 167.356, 167.776, 168.388, 169.01, 169.205, 171.178, 174.982, 175.224, 183.007])], [array([78.7302, 100.851, 102.171, 106.779, 107.097, 118.613, 126.547, 216.644, 217.495, 59.4757, 60.2511, 64.2882, 76.5644, 79.6402, 80.8069, 87.9522, 88.3334, 90.8958, 218.72, 60.3823, 60.5033, 60.5849, 60.8897, 65.1651, 73.8568, 80.4325, 82.7524, 99.6355, 208.231, 219.733, 53.6771, 60.4933, 64.8917, 66.9455, 72.7158, 74.6198, 41.2731, 53.1933, 53.5634, 60.3962, 61.5256, 68.4237, 68.7668, 74.7356, 75.9607, 78.3237, 90.9331, 95.411, 45.345, 46.1126, 53.9543, 55.9484, 62.8734, 63.1584, 67.9171, 68.2179, 69.5773, 71.2643, 72.5093, 75.1147, 91.0254, 179.799, 60.6871, 63.6636, 64.3983, 65.4313, 65.4682, 68.2742, 76.3853, 77.2765, 78.6702, 219.402, 60.6132, 63.0253, 65.7254, 65.9409, 66.1301, 66.1086, 68.7261, 68.8628, 69.9901, 213.978, 217.55, 217.832, 226.311, 226.529, 226.572, 228.175, 230.028, 231.042, 60.0121, 61.8766, 64.2638, 67.6424, 73.9198, 74.2687, 77.2565, 77.8057, 81.179, 86.1003, 182.449, 210.341, 215.844, 83.9129, 92.3069, 102.365, 105.462, 208.13, 218.013, 218.874, 222.609, 68.916, 204.643, 47.1435, 60.7812, 73.5856, 77.9669, 79.3441, 82.9435, 93.5036, 104.087, 224.959, 225.723, 64.0291, 65.8784, 66.0215, 68.0607, 71.3557, 71.883, 91.3692, 186.23, 191.864, 64.6901, 65.4278, 68.526, 68.6723, 69.0956, 76.2215, 78.0577, 78.9161, 87.5746, 212.267, 240.367, 56.134, 68.861, 76.4484, 78.5503, 86.883, 92.7561, 65.132, 70.0603, 72.6096, 77.953, 86.0427, 55.2528, 57.2063, 63.2796, 65.2349, 71.3639, 73.5669, 50.2082, 59.9342, 61.8527, 61.9755, 63.2816, 70.0514, 73.6511, 77.6133, 79.4005, 86.3322, 96.5725, 226.041, 226.202, 67.0025, 69.0849, 71.6613, 73.6738, 80.153, 217.474, 68.5696, 77.1364, 82.035, 153.943, 153.945, 153.961, 154.012, 220.762])], [array([48.0849, 76.4309, 101.623, 115.142, 119.263, 146.286, 52.4601, 53.6818, 53.757, 91.4613, 91.7972, 92.9942, 75.7118, 85.6532, 88.3905, 89.0454, 95.9542, 113.283, 128.753, 247.316, 90.0883, 168.206, 41.2523, 53.6754, 78.5998, 80.1223, 80.2397, 233.847, 235.359, 37.5454, 76.1942, 127.314, 154.038, 187.492, 65.9513, 67.2425, 94.004, 167.281, 236.103, 169.876, 210.07, 228.616, 231.022, 67.1736, 88.8576, 107.94, 127.496, 146.216, 69.3889, 77.3345, 89.7928, 138.128, 48.2083, 100.263, 53.5486, 127.501, 89.5495, 112.297, 117.728, 119.615, 121.503, 169.592, 158.536, 216.738, 63.4383, 94.1194, 165.406, 156.244, 79.5165, 132.259])], [array([73.6029, 235.048, 239.755, 239.817, 240.026, 241.408, 242.835, 243.442, 247.771, 246.929, 76.6047, 229.64, 230.448, 231.495, 239.635, 241.786, 241.841, 245.279, 246.638, 246.47, 245.027, 246.526, 247.32, 247.34, 247.737, 248.164, 216.371, 216.691, 220.611, 224.476, 226.248, 229.817, 232.099, 235.62, 240.795, 246.113, 246.392, 246.463, 246.495, 246.602, 248.014, 248.082, 247.717, 247.307, 247.181, 230.243, 232.294, 233.627, 234.528, 236.225, 37.7807, 240.763, 103.531, 231.514, 242.271, 243.772, 244.002, 243.972, 243.963, 98.6425, 236.503, 237.311, 238.416, 238.435, 238.469, 238.964, 238.988, 239.512, 239.736, 240.923, 242.908, 243.436, 244.069, 244.214, 244.176, 244.169, 244.154, 228.875, 236.295, 236.603, 236.957, 237.88, 238.267, 240.366, 240.937, 240.989, 241.105, 241.727, 242.852, 243.614, 243.774, 243.901, 243.899, 47.6412, 102.685, 239.399, 241.758, 242.199, 242.408, 242.684, 226.777, 246.407, 215.334, 243.8, 244.155, 244.536, 244.447, 244.393, 232.673, 244.322, 95.1348, 182.456, 241.006, 241.067, 244.128, 244.608, 245.374, 245.382])], [array([47.2347, 47.2487, 51.4622, 51.5471, 52.3159, 52.4995, 216.151, 95.5266, 224.468, 224.264, 237.295, 49.8318, 86.4608, 248.486, 41.6157, 41.499, 41.1617, 168.514, 42.2962, 52.1651, 224.377, 225.379, 89.2813, 228.632, 161.582, 226.797, 241.709, 244.054, 48.3776, 63.7079, 225.14, 225.467, 225.612, 45.995, 48.3584, 48.4671, 50.0263, 50.6414, 51.0305, 215.524, 217.996, 218.501, 219.857, 220.043, 220.633, 239.164, 185.079, 190.188, 194.852, 205.501, 105.682, 211.597, 212.397, 212.425, 212.756, 212.796, 212.827, 233.664, 243.804, 243.785, 47.5566, 191.119, 207.295, 212.802, 217.184, 217.41, 220.529, 220.685, 223.491, 223.653, 227.25, 230.213, 47.4634, 47.502, 47.6668, 217.59, 221.993, 225.409, 225.313, 226.38, 227.323, 229.209, 52.5765, 54.0384, 54.0726, 54.1009, 54.135, 105.638, 206.84, 207.131, 217.458, 221.894, 223.539, 226.729, 48.8722, 48.9045, 57.7965, 57.8384, 57.8852, 169.63, 214.955, 215.107, 220.93, 227.026, 227.85, 228.289, 229.022, 229.94, 230.143, 73.8986, 213.535, 219.964, 225.218, 225.27, 226.169, 226.314, 229.408, 48.8024, 54.4765, 82.837, 90.979, 207.51, 207.645, 211.948, 216.623, 220.287, 220.508, 223.846, 231.126])], [array([47.0092, 47.5199, 47.5522, 107.432, 111.498, 123.048, 178.791, 236.367, 236.015, 63.5555, 247.927, 238.955, 42.4524, 239.257, 37.7726, 37.7905, 39.9041, 41.7759, 63.063, 115.688, 63.6479, 244.622, 244.429, 244.385, 114.185, 106.257, 84.4865, 86.8387, 93.704, 111.25, 118.486, 244.123, 244.122, 244.037, 83.9267, 86.0826, 240.37, 240.386, 245.733, 48.2486, 246.677, 245.346, 42.4203, 63.8219, 217.823, 226.092, 225.914, 225.914, 226.211, 226.994, 227.056, 227.143, 227.108, 227.431, 235.264, 235.947, 238.127, 242.112, 242.004, 242.767, 242.793, 243.787, 243.787, 243.769, 243.768, 203.355, 244.536, 245.145, 245.031, 244.811, 242.455, 242.451, 242.448, 50.7221, 50.7456, 50.7667, 95.0591, 145.714, 69.4655, 142.083, 242.692, 245.498, 245.622, 245.388])], [array([228.532, 228.786, 229.304, 234.802, 234.858, 234.912, 236.287, 236.445, 237.626, 237.686, 237.852, 238.771, 239.084, 240.245, 240.329, 240.465, 242.169, 242.553, 243.836, 243.864, 243.894, 244.033, 244.153, 245.263, 245.579, 246.002, 247.153, 247.279, 247.652, 247.762, 247.798, 247.834, 247.824, 247.808, 247.559, 247.548, 247.538, 247.531, 247.236, 247.121, 246.965, 246.922, 246.583, 213.431, 219.385, 221.01, 221.061, 223.879, 224.836, 225.029, 225.19, 226.873, 226.985, 227.099, 227.187, 227.266, 228.096, 228.766, 228.823, 228.892, 229.057, 229.297, 230.717, 230.93, 231.861, 232.367, 232.791, 233.409, 234.117, 234.19, 234.294, 236.517, 236.723, 239.269, 239.446, 242.159, 242.339, 242.91, 244.991, 245.122, 245.252, 246.449, 247.022, 247.041, 247.052, 247.082, 246.707, 246.689, 246.656, 246.195, 246.127, 245.154, 117.828, 180.291, 180.558, 180.858, 203.869, 203.911, 214.151, 214.26, 217.896, 218.217, 222.692, 222.845, 223.244, 227.596, 228.12, 233.627, 234.077, 234.529, 235.546, 235.629, 235.706, 235.811, 237.321, 237.467, 237.76, 238.056, 238.175, 238.856, 239.066, 239.713, 239.757, 239.894, 240.079, 240.783, 240.974, 241.467, 241.556, 242.776, 242.839, 242.952, 243.083, 244.777, 244.982, 245.613, 245.632, 246.609, 246.649, 246.758, 246.919, 246.937, 246.974, 247.349, 247.365, 247.817, 247.882, 248.052, 248.065, 248.144, 248.184, 248.523, 248.537, 248.551, 248.818, 249.286, 249.533, 249.596, 249.69, 249.709, 249.802, 185.705, 185.839, 186.135, 195.827, 196.218, 205.668, 207.951, 208.145, 208.286, 211.64, 212.023, 212.398, 215.12, 215.361, 215.663, 215.931, 218.984, 219.215, 219.411, 222.301, 222.503, 222.987, 223.226, 224.216, 225.884, 226.879, 228.526, 230.631, 231.478, 232.199, 232.61, 234.631, 235.631, 236.999, 237.339, 241.04, 241.8, 242.901, 243.447, 245.324, 245.46, 246.35, 246.606, 246.705, 247.674, 248.01, 246.71, 206.739, 207.221, 221.986, 222.177, 224.94, 224.973, 226.076, 226.595, 226.625, 226.668, 226.721, 227.635, 228.135, 228.256, 228.411, 228.488, 228.793, 228.911, 229.14, 229.212, 229.898, 229.956, 230.137, 230.617, 230.646, 230.69, 231.653, 231.765, 232.006, 232.667, 232.886, 232.951, 233.181, 233.299, 234.827, 234.843, 235.325, 235.712, 236.263, 236.343, 236.622, 236.718, 237.616, 237.834, 239.115, 241.468, 241.756, 241.85, 243.823, 243.717, 243.393, 136.725, 208.552, 208.677, 208.765, 217.851, 218.068, 218.314, 218.554, 218.755, 224.479, 224.608, 228.425, 228.719, 228.891, 231.455, 231.605, 231.796, 234.654, 236.034, 236.203, 236.336, 236.599, 237.991, 238.309, 238.499, 238.677, 238.843, 239.66, 239.732, 239.838, 240.085, 240.121, 240.393, 240.572, 240.697, 240.713, 241.236, 241.257, 241.9, 242.09, 242.285, 242.326, 242.388, 242.768, 242.828, 242.928, 243.26, 243.661, 243.711, 243.777, 244.055, 244.051, 244.046, 243.932, 243.921, 171.459, 171.741, 205.395, 205.546, 209.265, 212.28, 212.451, 215.857, 216.023, 216.209, 216.464, 216.692, 221.37, 221.626, 226.733, 228.477, 228.604, 228.729, 230.549, 232.336, 232.422, 232.546, 234.336, 234.561, 234.751, 235.529, 235.702, 235.79, 236.264, 237.232, 237.57, 237.656, 237.943, 238.265, 239.154, 239.43, 241.036, 241.713, 241.974, 242.553, 242.68, 242.776, 243.134, 243.569, 244.125, 244.214, 244.359, 244.485, 244.691, 244.954, 133.488, 134.403, 165.049, 181.925, 183.502, 191.565, 192.747, 192.988, 193.137, 196.309, 197.301, 206.054, 207.149, 207.271, 207.404, 208.256, 209.375, 209.422, 211.952, 212.114, 213.8, 215.672, 216.896, 217.044, 220.161, 220.213, 220.428, 220.579, 225.226, 225.291, 226.127, 226.754, 226.76, 226.763, 226.768, 226.895, 227.862, 228.397, 228.403, 228.415, 229.193, 229.965, 229.972, 230.979, 230.95, 230.926, 230.891, 182.941, 184.039, 201.569, 202.39, 210.067, 210.254, 212.775, 213.075, 214.579, 216.735, 216.893, 217.246, 217.632, 221.375, 221.528, 221.838, 229.846, 230.115, 230.608, 234.46, 234.517, 234.61, 234.75, 236.186, 236.431, 236.53, 238.815, 238.883, 239.028, 239.124, 239.271, 240.082, 240.861, 241.238, 241.285, 241.358, 242.119, 242.701, 242.825, 243.31, 243.857, 244.044, 244.065, 244.047, 244, 243.994, 243.991, 243.983, 243.963, 243.958, 93.2275, 128.052, 141.148, 141.342, 169.936, 195.436, 195.985, 209.294, 211.109, 211.306, 211.595, 216.568, 216.819, 222.582, 227.325, 227.608, 227.941, 231.836, 232.359, 234.455, 234.546, 234.785, 235.181, 236.232, 236.316, 236.448, 236.758, 237.016, 237.076, 237.196, 237.225, 237.274, 237.414, 237.448, 237.551, 237.802, 238.356, 238.367, 238.388, 238.413, 238.491, 238.817, 238.836, 238.982, 239.464, 239.467, 239.5, 239.593, 240.126, 240.234, 242.408, 243.722, 244.168, 244.163, 179.949, 180.42, 181.103, 205.098, 205.6, 205.978, 212.29, 214.83, 214.949, 215.088, 215.3, 215.475, 215.895, 219.235, 219.389, 225.228, 228.578, 228.833, 229.694, 233.429, 233.86, 234.145, 235.456, 235.467, 235.49, 235.577, 235.883, 235.971, 236.254, 236.297, 236.694, 236.752, 236.838, 236.958, 237.454, 237.612, 237.833, 238.262, 238.316, 238.413, 238.596, 239.28, 239.499, 239.715, 239.848, 240.274, 240.309, 240.506, 240.944, 242.107, 243.894, 138.266, 138.701, 139.046, 155.742, 156.24, 189.588, 190.34, 190.943, 203.075, 203.395, 206.915, 208.593, 208.832, 210.265, 213.6, 215.606, 215.716, 215.832, 216.61, 219.687, 223.537, 224.118, 227.665, 227.901, 232.03, 232.468, 233.191, 236.169, 236.585, 237.255, 237.828, 237.894, 237.931, 237.973, 238.051, 238.247, 238.345, 238.421, 238.564, 239.083, 239.135, 239.177, 239.36, 239.628, 239.71, 239.741, 240.39, 240.997, 241.044, 241.068, 241.475, 241.64, 242.105, 242.144, 242.177, 244.85, 245.726, 130.809, 153.054, 153.342, 153.511, 163.229, 174.506, 175.232, 175.499, 175.67, 181.05, 183.153, 183.372, 186.102, 186.361, 186.696, 191.231, 196.153, 196.482, 196.995, 206.801, 206.915, 211.17, 215.028, 215.518, 215.897, 216.46, 220.013, 220.274, 220.77, 222.706, 223.378, 223.817, 224.314, 225.305, 225.981, 226.231, 228.294, 230.354, 234.38, 234.951, 236.631, 241.928, 246.577, 246.759, 246.919, 246.892, 246.208, 244.997, 244.907, 118.877, 159.665, 195, 205.087, 209.41, 210.591, 211.279, 211.287, 211.295, 211.306, 212.03, 212.105, 212.305, 212.589, 212.643, 214.461, 214.862, 214.853, 214.837, 214.881, 214.897, 215.106, 215.144, 215.16, 215.264, 215.387, 215.402, 215.508, 215.527, 215.664, 215.826, 216.584, 216.51, 216.435, 217.061, 217.078, 217.593, 217.616, 218.319, 218.923, 218.956, 219.077, 219.181, 228.399, 230.352, 233.632, 238.507, 238.566, 238.603, 242.17, 243.8, 147.881, 190.31, 191.201, 191.62, 192.479, 207.496, 208.153, 208.487, 214.165, 214.941, 215.322, 215.947, 218.841, 221.775, 221.9, 222.097, 222.74, 229.589, 232.026, 232.176, 232.405, 234.912, 236.874, 237.132, 237.382, 238.691, 239.245, 239.458, 239.573, 240.425, 241.422, 241.649, 242.549, 242.995, 243.958, 244.083, 244.128, 244.159, 244.183, 244.156, 244.155, 244.149, 244.17, 89.9767, 135.624, 135.898, 150.482, 150.995, 151.372, 203.123, 208.945, 209.06, 209.204, 215.325, 215.52, 215.94, 218.125, 218.274, 218.53, 219.877, 223.915, 224.214, 226.569, 228.143, 228.333, 232.808, 234.89, 236.21, 236.323, 237.824, 238.018, 238.273, 238.523, 239.039, 239.204, 239.347, 240.209, 241.283, 241.323, 241.394, 241.42, 241.571, 241.595, 241.927, 242.545, 242.596, 242.627, 242.749, 121.038, 180.782, 181.352, 196.736, 197.218, 205.784, 213.344, 213.49, 213.685, 216.129, 224.405, 224.678, 224.981, 226.263, 228.392, 228.543, 230.392, 230.488, 230.694, 232.634, 233.03, 233.222, 234.424, 234.842, 235.124, 235.295, 236.371, 236.975, 237.036, 237.46, 237.827, 239.37, 239.432, 239.745, 239.926, 240.182, 241.289, 241.405, 241.752, 243.626, 243.688, 243.775, 243.901, 173.415, 173.694, 174.156, 209.295, 209.755, 214.201, 215.579, 216.069, 216.374, 219.128, 222.662, 222.951, 223.32, 226.949, 226.994, 229.534, 229.706, 231.876, 232.138, 235.838, 236.074, 236.277, 236.472, 236.557, 237.63, 237.855, 238.163, 238.857, 238.995, 239.485, 239.83, 240.053, 240.462, 241.428, 241.801, 242.047, 242.481, 242.622, 243.31, 243.379, 243.576, 243.565, 159.956, 160.33, 191.089, 191.337, 201.285, 211.888, 213.088, 214.485, 214.629, 215.026, 215.758, 216.161, 225.813, 228.766, 229.034, 233.195, 233.381, 236.145, 236.283, 238.645, 238.738, 239.058, 239.181, 240.054, 240.094, 240.208, 240.41, 240.479, 240.86, 240.961, 241.092, 241.403, 241.611, 242.32, 242.379, 242.697, 242.731, 242.723, 242.697, 242.299, 242.047, 119.819, 120.297, 143.432, 143.521, 153.766, 153.801, 154.014, 158.955, 159.02, 161.39, 161.435, 161.569, 186.216, 186.395, 197.041, 207.123, 207.921, 208.04, 208.209, 212.473, 212.636, 212.908, 223.425, 230.274, 230.519, 232.918, 233.282, 235.678, 237.935, 238.14, 238.901, 238.971, 239.451, 239.948, 240.486, 241.222, 241.393, 241.341, 241.352, 241.387, 241.474, 241.576, 242.073, 242.21, 242.318, 242.706, 243.326, 243.377, 243.621, 243.819, 243.828, 243.86, 244.049, 244.075, 244.084, 244.107, 244.554, 245.005, 245.387, 245.396])]], _filtered_pos_df=                 t     lin_pos           x        dt  velocity_x  acceleration_x    x_smooth  velocity_x_smooth  acceleration_x_smooth      speed binned_x\n",
       "967      31.862536   44.964419   44.964419  0.034286   -2.135251        3.938006   45.334341          -0.019165              -6.490055   2.194064        5\n",
       "968      31.895044   46.492112   46.492112  0.032508   46.994388     1511.309168   45.406605           2.224698              69.208501  45.784639        5\n",
       "969      31.929173   46.563700   46.563700  0.034129    2.097551    -1315.504023   45.478799           2.219912               3.318882   2.145456        5\n",
       "970      31.961609   46.635110   46.635110  0.032436    2.201579        3.207173   45.550936           2.220935               3.497543   2.140154        5\n",
       "971      31.994915   46.706775   46.706775  0.033306    2.151722       -1.496947   45.623032           2.219036               3.409710   2.147792        5\n",
       "972      32.028644   46.779071   46.779071  0.033729    2.143413       -0.246345   45.695115           2.217808               3.429842   2.166670        5\n",
       "...            ...         ...         ...       ...         ...             ...         ...                ...                    ...        ...      ...\n",
       "36080  1203.476219  245.713069  245.713069  0.033747   -2.191926        3.981855  245.654484           0.798145              -5.735654   2.216892       58\n",
       "36081  1203.509989  245.639305  245.639305  0.033770   -2.184304        0.225690  245.675004           0.613668              -5.538009   2.210689       58\n",
       "36082  1203.543502  245.566372  245.566372  0.033513   -2.176272        0.239656  245.689256           0.424986              -5.666363   2.185798       58\n",
       "36083  1203.576882  245.494755  245.494755  0.033380   -2.145500        0.921894  245.697306           0.240950              -5.529286   2.146339       58\n",
       "36084  1203.610805  245.424708  245.424708  0.033923   -2.064892        2.376199  245.699773           0.075032              -4.986027   2.099303       58\n",
       "36085  1203.643298  245.356301  245.356301  0.032493   -2.105278       -1.242929  245.696445          -0.101145              -5.294246   2.050137       57\n",
       "\n",
       "[3866 rows x 11 columns], _filtered_spikes_df=                 t      t_seconds  t_rel_seconds  shank  cluster  aclu  qclu           x           y     speed  traj  lap  maze_relative_lap  maze_id  is_theta  is_ripple  theta_phase_radians           neuron_type  flat_spike_idx  x_loaded  y_loaded     lin_pos  fragile_linear_neuron_IDX  PBE_id     scISI\n",
       "18802    1040403.0  603817.813901      31.961164      8       16    61     4   45.447878  145.604099  2.400407     7   -1                 -1        1      True      False             4.127129  NeuronType.PYRAMIDAL           18802  0.151865  0.505332   46.634130                         59      -1  0.743331\n",
       "18824    1042153.0  603817.867661      32.014924      9       19    81     2   45.515626  145.493445  2.425275    14   -1                 -1        1      True      False             0.572028  NeuronType.PYRAMIDAL           18824  0.152590  0.504160   46.749662                         79      -1  1.016862\n",
       "18867    1044127.0  603817.928302      32.075565     10        4    84     9   45.591060  145.370238  2.435711    14   -1                 -1        1      True      False             3.491128  NeuronType.PYRAMIDAL           18867  0.152664  0.502985   46.878059                         82      -1  0.530718\n",
       "18884    1045713.0  603817.977024      32.124287     10        4    84     9   45.653520  145.268221  2.397020    14   -1                 -1        1      True      False             5.607235  NeuronType.PYRAMIDAL           18884  0.151878  0.502309   46.984135                         82      -1  0.048722\n",
       "18893    1046092.0  603817.988667      32.135930     12        9   102     4   45.668329  145.244033  2.393453    14   -1                 -1        1      True      False             6.058433  NeuronType.PYRAMIDAL           18893  0.151711  0.502258   47.009237                        100      -1  0.397885\n",
       "18952    1049599.0  603818.096402      32.243665     12        6   100     4   45.803247  145.023669  2.405080    14   -1                 -1        1      True      False             4.278169  NeuronType.PYRAMIDAL           18952  0.150940  0.502259   47.234665                         98      -1  1.456158\n",
       "...            ...            ...            ...    ...      ...   ...   ...         ...         ...       ...   ...  ...                ...      ...       ...        ...                  ...                   ...             ...       ...       ...         ...                        ...     ...       ...\n",
       "592262  39179846.0  604989.456990    1203.604253      2        7     9     9  246.184513  140.177931  2.783499    13   -1                 -1        1     False      False             0.186520  NeuronType.PYRAMIDAL          592262  0.846448  0.496012  245.438237                          7      -1  0.016527\n",
       "592265  39180111.0  604989.465131    1203.612394      2        7     9     9  246.163484  140.185803  2.781302    13   -1                 -1        1     False      False             0.649769  NeuronType.PYRAMIDAL          592265  0.846289  0.495965  245.421363                          7      -1  0.008141\n",
       "592268  39180298.0  604989.470875    1203.618138      2        7     9     9  246.148152  140.191543  2.780167    13   -1                 -1        1     False      False             1.017993  NeuronType.PYRAMIDAL          592268  0.846193  0.495917  245.409269                          7      -1  0.005745\n",
       "592275  39180628.0  604989.481013    1203.628276     12        9   102     4  246.121095  140.201672  2.778163    13   -1                 -1        1     False      False             1.565141  NeuronType.PYRAMIDAL          592275  0.846022  0.495833  245.387926                        100      -1  0.110285\n",
       "592279  39180855.0  604989.487986    1203.635249      2        7     9     9  246.102483  140.208640  2.776785    13   -1                 -1        1     False      False             1.970410  NeuronType.PYRAMIDAL          592279  0.845911  0.495775  245.373245                          7      -1  0.017111\n",
       "592282  39181044.0  604989.493792    1203.641055      2        7     9     9  246.086987  140.214441  2.775638    13   -1                 -1        1     False      False             2.281947  NeuronType.PYRAMIDAL          592282  0.845825  0.495727  245.361022                          7      -1  0.005806\n",
       "\n",
       "[10930 rows x 25 columns], ndim=1, xbin=array([29.16, 32.953, 36.746, 40.5391, 44.3321, 48.1251, 51.9181, 55.7112, 59.5042, 63.2972, 67.0902, 70.8833, 74.6763, 78.4693, 82.2623, 86.0553, 89.8484, 93.6414, 97.4344, 101.227, 105.02, 108.813, 112.607, 116.4, 120.193, 123.986, 127.779, 131.572, 135.365, 139.158, 142.951, 146.744, 150.537, 154.33, 158.123, 161.916, 165.709, 169.502, 173.295, 177.088, 180.881, 184.674, 188.467, 192.26, 196.053, 199.846, 203.639, 207.432, 211.225, 215.018, 218.811, 222.604, 226.397, 230.19, 233.983, 237.776, 241.569, 245.362, 249.155, 252.948, 256.741, 260.534, 264.327]), ybin=None, bin_info={'mode': 'bin_size', 'xstep': 3.793023081021702, 'xnum_bins': 63}), neuron_IDXs=array([ 0,  1,  2,  3,  4,  5,  6,  7,  8,  9, 10, 11, 12, 13, 14, 15, 16, 17, 18, 19, 20, 21, 22, 23, 24, 25, 26, 27, 28, 29, 30, 31, 32, 33, 34, 35]), neuron_IDs=array([  5,   7,   9,  31,  32,  36,  41,  45,  48,  50,  51,  53,  55,  57,  59,  61,  62,  63,  64,  69,  75,  76,  78,  81,  83,  84,  86,  88,  89,  90,  92,  93,  98, 100, 102, 108]), F=array([[0.10538, 0.827539, 0, ..., 0.304867, 0.915522, 0],\n",
       "       [0.191143, 1.45928, 0, ..., 0.505527, 1.08454, 0],\n",
       "       [0.367399, 2.66519, 0, ..., 0.859136, 1.25953, 0],\n",
       "       ...,\n",
       "       [0.120883, 5.78641e-05, 4.59922, ..., 0.0501953, 0.272451, 7.76377],\n",
       "       [0.0508077, 8.87375e-06, 2.45229, ..., 0.0228783, 0.130476, 4.76203],\n",
       "       [0.0221553, 0, 1.31742, ..., 0.0105919, 0.0618853, 3.00749]]), P_x=array([[0],\n",
       "       [0.0667339],\n",
       "       [0.76744],\n",
       "       [1.83518],\n",
       "       [3.37006],\n",
       "       [5.80585],\n",
       "       [3.23659],\n",
       "       [2.86956],\n",
       "       [2.90292],\n",
       "       [2.36905],\n",
       "       [1.50151],\n",
       "       [1.46815],\n",
       "       [1.73508],\n",
       "       [1.46815],\n",
       "       [1.06774],\n",
       "       [1.50151],\n",
       "       [1.30131],\n",
       "       [1.76845],\n",
       "       [1.00101],\n",
       "       [1.36804],\n",
       "       [1.43478],\n",
       "       [1.30131],\n",
       "       [1.50151],\n",
       "       [1.43478],\n",
       "       [1.23458],\n",
       "       [1.20121],\n",
       "       [1.46815],\n",
       "       [1.03438],\n",
       "       [1.06774],\n",
       "       [1.40141],\n",
       "       [1.30131],\n",
       "       [1.03438],\n",
       "       [2.30232],\n",
       "       [1.56825],\n",
       "       [1.46815],\n",
       "       [1.50151],\n",
       "       [1.40141],\n",
       "       [1.13448],\n",
       "       [1.40141],\n",
       "       [1.23458],\n",
       "       [1.03438],\n",
       "       [1.40141],\n",
       "       [1.10111],\n",
       "       [1.40141],\n",
       "       [0.76744],\n",
       "       [0.333669],\n",
       "       [1.66835],\n",
       "       [2.53589],\n",
       "       [2.53589],\n",
       "       [2.53589],\n",
       "       [2.56925],\n",
       "       [3.26996],\n",
       "       [7.54093],\n",
       "       [3.97067],\n",
       "       [4.87157],\n",
       "       [5.97268],\n",
       "       [15.4155],\n",
       "       [5.00504],\n",
       "       [0.233569],\n",
       "       [0],\n",
       "       [0],\n",
       "       [0]]), setup_on_init=True, post_load_on_init=False, debug_print=False)"
      ]
     },
     "execution_count": 41,
     "metadata": {},
     "output_type": "execute_result"
    }
   ],
   "source": [
    "track_templates.long_LR_decoder"
   ]
  },
  {
   "cell_type": "code",
   "execution_count": null,
   "id": "ccef2701",
   "metadata": {},
   "outputs": [],
   "source": [
    "rank_order_results"
   ]
  },
  {
   "cell_type": "code",
   "execution_count": 36,
   "id": "46a722e2",
   "metadata": {},
   "outputs": [
    {
     "data": {
      "text/plain": [
       "array([-3.63744, 4.84018, -3.38653, 4.84994, -1.50821, 5.21326, -2.02069, 4.37364, -3.67613, 4.42097, -4.41597, 4.49919, -2.89662, 4.37641, -2.94768, 2.08289, -2.27482, 4.842, -3.33335, 3.56636, -1.88481, 4.77011, -2.51633, 4.49772, -0.987086, 4.5299, -3.08257, 2.65616, -4.32869, 4.99828, -0.198241, 4.92062, -3.65763, 5.11611, -1.25686, 5.22092, -2.06791, 5.08306, -3.29788, 4.79791, -3.07921, 4.35664, -1.53166, 3.4744, -3.0699, 4.03237, -3.00285, 4.50039, -4.49531, 4.72215, -2.56564, 4.79948, -3.01943, 4.51559, -3.58783, 4.44269, -3.24509, 3.03999, -2.49137, 4.73159, -1.03087, 4.98973, -1.52001, 3.97225, -1.33896, 5.16289, 0.0174881, 4.87448, -0.903713, 3.99117, -4.50626, 4.68867, -1.52379, 3.9029, -0.933741, 4.181, -2.21374, 5.10523, -3.07019, 3.61724])"
      ]
     },
     "execution_count": 36,
     "metadata": {},
     "output_type": "execute_result"
    }
   ],
   "source": [
    "rank_order_results.LR_laps.long_z_score"
   ]
  },
  {
   "cell_type": "code",
   "execution_count": 37,
   "id": "7dfbe341",
   "metadata": {},
   "outputs": [
    {
     "name": "stdout",
     "output_type": "stream",
     "text": [
      "n_events: 551\n",
      "n_significant_events: 80\n",
      "percent_significant_events: 0.14519056261343014\n"
     ]
    },
    {
     "data": {
      "text/html": [
       "<div>\n",
       "<style scoped>\n",
       "    .dataframe tbody tr th:only-of-type {\n",
       "        vertical-align: middle;\n",
       "    }\n",
       "\n",
       "    .dataframe tbody tr th {\n",
       "        vertical-align: top;\n",
       "    }\n",
       "\n",
       "    .dataframe thead th {\n",
       "        text-align: right;\n",
       "    }\n",
       "</style>\n",
       "<table border=\"1\" class=\"dataframe\">\n",
       "  <thead>\n",
       "    <tr style=\"text-align: right;\">\n",
       "      <th></th>\n",
       "      <th>LR_long_z_scores</th>\n",
       "      <th>LR_short_z_scores</th>\n",
       "      <th>RL_long_z_scores</th>\n",
       "      <th>RL_short_z_scores</th>\n",
       "    </tr>\n",
       "  </thead>\n",
       "  <tbody>\n",
       "    <tr>\n",
       "      <th>1</th>\n",
       "      <td>-2.586758</td>\n",
       "      <td>-2.446754</td>\n",
       "      <td>-2.250140</td>\n",
       "      <td>-2.517026</td>\n",
       "    </tr>\n",
       "    <tr>\n",
       "      <th>14</th>\n",
       "      <td>-3.482670</td>\n",
       "      <td>-2.845130</td>\n",
       "      <td>-3.251206</td>\n",
       "      <td>-3.038506</td>\n",
       "    </tr>\n",
       "    <tr>\n",
       "      <th>20</th>\n",
       "      <td>-3.371688</td>\n",
       "      <td>-3.356443</td>\n",
       "      <td>-3.333951</td>\n",
       "      <td>-2.862914</td>\n",
       "    </tr>\n",
       "    <tr>\n",
       "      <th>23</th>\n",
       "      <td>-1.906738</td>\n",
       "      <td>-2.370310</td>\n",
       "      <td>-1.346011</td>\n",
       "      <td>-2.376355</td>\n",
       "    </tr>\n",
       "    <tr>\n",
       "      <th>25</th>\n",
       "      <td>-3.072142</td>\n",
       "      <td>-3.101430</td>\n",
       "      <td>-2.874303</td>\n",
       "      <td>-2.651240</td>\n",
       "    </tr>\n",
       "    <tr>\n",
       "      <th>29</th>\n",
       "      <td>2.564004</td>\n",
       "      <td>2.189653</td>\n",
       "      <td>1.972186</td>\n",
       "      <td>1.766868</td>\n",
       "    </tr>\n",
       "    <tr>\n",
       "      <th>...</th>\n",
       "      <td>...</td>\n",
       "      <td>...</td>\n",
       "      <td>...</td>\n",
       "      <td>...</td>\n",
       "    </tr>\n",
       "    <tr>\n",
       "      <th>504</th>\n",
       "      <td>3.694623</td>\n",
       "      <td>3.236744</td>\n",
       "      <td>3.057280</td>\n",
       "      <td>3.244234</td>\n",
       "    </tr>\n",
       "    <tr>\n",
       "      <th>517</th>\n",
       "      <td>-2.005258</td>\n",
       "      <td>-1.065908</td>\n",
       "      <td>-0.797831</td>\n",
       "      <td>-2.075690</td>\n",
       "    </tr>\n",
       "    <tr>\n",
       "      <th>519</th>\n",
       "      <td>2.532501</td>\n",
       "      <td>2.891245</td>\n",
       "      <td>2.007922</td>\n",
       "      <td>2.428075</td>\n",
       "    </tr>\n",
       "    <tr>\n",
       "      <th>529</th>\n",
       "      <td>2.691847</td>\n",
       "      <td>2.530918</td>\n",
       "      <td>2.549268</td>\n",
       "      <td>2.295296</td>\n",
       "    </tr>\n",
       "    <tr>\n",
       "      <th>548</th>\n",
       "      <td>3.328045</td>\n",
       "      <td>2.915575</td>\n",
       "      <td>2.575842</td>\n",
       "      <td>2.193656</td>\n",
       "    </tr>\n",
       "    <tr>\n",
       "      <th>549</th>\n",
       "      <td>3.168658</td>\n",
       "      <td>3.330966</td>\n",
       "      <td>2.643318</td>\n",
       "      <td>2.531712</td>\n",
       "    </tr>\n",
       "  </tbody>\n",
       "</table>\n",
       "<p>80 rows × 4 columns</p>\n",
       "</div>"
      ],
      "text/plain": [
       "     LR_long_z_scores  LR_short_z_scores  RL_long_z_scores  RL_short_z_scores\n",
       "1           -2.586758          -2.446754         -2.250140          -2.517026\n",
       "14          -3.482670          -2.845130         -3.251206          -3.038506\n",
       "20          -3.371688          -3.356443         -3.333951          -2.862914\n",
       "23          -1.906738          -2.370310         -1.346011          -2.376355\n",
       "25          -3.072142          -3.101430         -2.874303          -2.651240\n",
       "29           2.564004           2.189653          1.972186           1.766868\n",
       "..                ...                ...               ...                ...\n",
       "504          3.694623           3.236744          3.057280           3.244234\n",
       "517         -2.005258          -1.065908         -0.797831          -2.075690\n",
       "519          2.532501           2.891245          2.007922           2.428075\n",
       "529          2.691847           2.530918          2.549268           2.295296\n",
       "548          3.328045           2.915575          2.575842           2.193656\n",
       "549          3.168658           3.330966          2.643318           2.531712\n",
       "\n",
       "[80 rows x 4 columns]"
      ]
     },
     "execution_count": 37,
     "metadata": {},
     "output_type": "execute_result"
    }
   ],
   "source": [
    "# Find only the significant events (|z| > 1.96):\n",
    "from pyphoplacecellanalysis.General.Pipeline.Stages.ComputationFunctions.MultiContextComputationFunctions.RankOrderComputations import RankOrderAnalyses\n",
    "\n",
    "filtered_z_score_df, (n_events, n_significant_events, percent_significant_events) = RankOrderAnalyses.find_only_significant_events(rank_order_results, high_z_criteria=1.96)\n",
    "filtered_z_score_df"
   ]
  },
  {
   "cell_type": "code",
   "execution_count": null,
   "id": "86532662",
   "metadata": {},
   "outputs": [],
   "source": [
    "# 2023-11-20 - Finding high-significance periods for Kamran:\n",
    "z_threshold = 1.96\n",
    "is_greater_than_z_threshold_long = (np.abs(ripple_result_tuple.long_best_dir_z_score_values) > z_threshold)\n",
    "is_greater_than_z_threshold_short = (np.abs(ripple_result_tuple.short_best_dir_z_score_values) > z_threshold)\n",
    "is_significant_either = np.logical_or(is_greater_than_z_threshold_long, is_greater_than_z_threshold_short)\n",
    "\n",
    "# is_greater_than_3std_long = (np.abs(ripple_result_tuple.long_best_dir_z_score_values) >= 3.0)\n",
    "# is_greater_than_3std_short = (np.abs(ripple_result_tuple.short_best_dir_z_score_values) >= 3.0)\n",
    "# is_significant_either = np.logical_or(is_greater_than_3std_long, is_greater_than_3std_short)\n",
    "\n",
    "significant_ripple_epochs = deepcopy(global_replays).boolean_indicies_slice(is_significant_either)\n",
    "significant_ripple_epochs.to_dataframe()\n",
    "\n",
    "# significant_ripple_epochs.filename = Path(f'output/2023-11-27_SignificantReplayRipples').resolve()\n",
    "# significant_ripple_epochs.to_neuroscope()\n"
   ]
  },
  {
   "cell_type": "code",
   "execution_count": null,
   "id": "47cd0ebb",
   "metadata": {},
   "outputs": [],
   "source": []
  },
  {
   "cell_type": "code",
   "execution_count": null,
   "id": "6a8beece",
   "metadata": {},
   "outputs": [],
   "source": [
    "ripple_result_tuple"
   ]
  },
  {
   "cell_type": "code",
   "execution_count": 38,
   "id": "6616af69",
   "metadata": {
    "notebookRunGroups": {
     "groupValue": "2"
    }
   },
   "outputs": [
    {
     "ename": "AttributeError",
     "evalue": "'NoneType' object has no attribute 'active_epochs'",
     "output_type": "error",
     "traceback": [
      "\u001b[1;31m---------------------------------------------------------------------------\u001b[0m",
      "\u001b[1;31mAttributeError\u001b[0m                            Traceback (most recent call last)",
      "\u001b[1;32mc:\\Users\\pho\\repos\\Spike3DWorkEnv\\Spike3D\\ReviewOfWork_2023-12-10-ALT.ipynb Cell 84\u001b[0m line \u001b[0;36m4\n\u001b[0;32m      <a href='vscode-notebook-cell:/c%3A/Users/pho/repos/Spike3DWorkEnv/Spike3D/ReviewOfWork_2023-12-10-ALT.ipynb#Y142sZmlsZQ%3D%3D?line=0'>1</a>\u001b[0m curr_active_pipeline\u001b[39m.\u001b[39mreload_default_display_functions()\n\u001b[0;32m      <a href='vscode-notebook-cell:/c%3A/Users/pho/repos/Spike3DWorkEnv/Spike3D/ReviewOfWork_2023-12-10-ALT.ipynb#Y142sZmlsZQ%3D%3D?line=2'>3</a>\u001b[0m \u001b[39m## RankOrderRastersDebugger: \u001b[39;00m\n\u001b[1;32m----> <a href='vscode-notebook-cell:/c%3A/Users/pho/repos/Spike3DWorkEnv/Spike3D/ReviewOfWork_2023-12-10-ALT.ipynb#Y142sZmlsZQ%3D%3D?line=3'>4</a>\u001b[0m _out_rank_order_event_raster_debugger \u001b[39m=\u001b[39m RankOrderRastersDebugger\u001b[39m.\u001b[39minit_rank_order_debugger(spikes_df, ripple_result_tuple\u001b[39m.\u001b[39;49mactive_epochs, track_templates, rank_order_results\u001b[39m.\u001b[39mRL_ripple\u001b[39m.\u001b[39mselected_spikes_fragile_linear_neuron_IDX_dict, rank_order_results\u001b[39m.\u001b[39mLR_ripple\u001b[39m.\u001b[39mselected_spikes_fragile_linear_neuron_IDX_dict)\n        spikes_df \u001b[1;34m=                   t      t_seconds  t_rel_seconds  shank  cluster  aclu  qclu           x           y  speed  traj  lap  maze_relative_lap  maze_id  is_theta  is_ripple  theta_phase_radians              neuron_type  flat_spike_idx  x_loaded  y_loaded     lin_pos  fragile_linear_neuron_IDX  PBE_id     scISI\n0              88.0  603785.855440       0.002703      7       12    47     5  231.393024  139.660200    0.0     0   -1                 -1        1     False      False             1.824214  NeuronType.INTERNEURONS               0       NaN       NaN  230.649346                         45      -1       NaN\n1             170.0  603785.857959       0.005222      3       14    30     5  231.393024  139.660200    0.0     0   -1                 -1        1     False      False             2.014131  NeuronType.INTERNEURONS               1       NaN       NaN  230.649346                         28      -1       NaN\n2             187.0  603785.858482       0.005745      8       19    62     4  231.393024  139.660200    0.0     0   -1                 -1        1     False      False             2.014131     NeuronType.PYRAMIDAL               2       NaN       NaN  230.649346                         60      -1       NaN\n3             230.0  603785.859803       0.007066      1       12     6     5  231.393024  139.660200    0.0     0   -1                 -1        1     False      False             2.102420  NeuronType.INTERNEURONS               3       NaN       NaN  230.649346                          4      -1       NaN\n4             235.0  603785.859956       0.007219      2       23    20     5  231.393024  139.660200    0.0     0   -1                 -1        1     False      False             2.102420  NeuronType.INTERNEURONS               4       NaN       NaN  230.649346                         18      -1       NaN\n5             269.0  603785.861001       0.008264      9       18    80     5  231.393024  139.660200    0.0     0   -1                 -1        1     False      False             2.147204  NeuronType.INTERNEURONS               5       NaN       NaN  230.649346                         78      -1       NaN\n...             ...            ...            ...    ...      ...   ...   ...         ...         ...    ...   ...  ...                ...      ...       ...        ...                  ...                      ...             ...       ...       ...         ...                        ...     ...       ...\n1014931  68624207.0  605893.987297    2108.134560      9        8    74     2  149.958529  105.775537    0.0     0   -1                 -1        2     False      False             1.549513     NeuronType.PYRAMIDAL         1014931       NaN       NaN  153.813221                         72      -1  1.099990\n1014932  68624246.0  605893.988495    2108.135758      2       10    12     5  149.958529  105.775537    0.0     0   -1                 -1        2     False      False             1.553024  NeuronType.INTERNEURONS         1014932       NaN       NaN  153.813221                         10      -1  0.006482\n1014933  68624272.0  605893.989293    2108.136556      7        7    44     5  149.958529  105.775537    0.0     0   -1                 -1        2     False      False             1.555799  NeuronType.INTERNEURONS         1014933       NaN       NaN  153.813221                         42      -1  0.069919\n1014934  68624325.0  605893.990922    2108.138185      3       17    33     1  149.958529  105.775537    0.0     0   -1                 -1        2     False      False             1.560652     NeuronType.PYRAMIDAL         1014934       NaN       NaN  153.813221                         31      -1  0.008110\n1014935  68624326.0  605893.990952    2108.138215     10       17    94     5  149.958529  105.775537    0.0     0   -1                 -1        2     False      False             1.560652  NeuronType.INTERNEURONS         1014935       NaN       NaN  153.813221                         92      -1  0.023685\n1014936  68624338.0  605893.991321    2108.138584      9       14    77     5  149.958529  105.775537    0.0     0   -1                 -1        2     False      False             1.562785  NeuronType.INTERNEURONS         1014936       NaN       NaN  153.813221                         75      -1  0.007803\n\n[1014937 rows x 25 columns]\u001b[0m\u001b[1;34m\n        \u001b[0mtrack_templates \u001b[1;34m= <pyphoplacecellanalysis.General.Pipeline.Stages.ComputationFunctions.MultiContextComputationFunctions.DirectionalPlacefieldGlobalComputationFunctions.TrackTemplates object at 0x000001CCB2C033D0>\u001b[0m\u001b[1;34m\n        \u001b[0mrank_order_results.RL_ripple.selected_spikes_fragile_linear_neuron_IDX_dict \u001b[1;34m= {0: array([[4, 40.2466],\n       [5, 40.4098],\n       [6, 40.2782],\n       [7, 40.4601],\n       [8, 40.2026],\n       [11, 40.3019],\n       [14, 40.2332],\n       [16, 40.2683],\n       [17, 40.4876],\n       [22, 40.293],\n       [34, 40.3148],\n       [35, 40.1872]]), 1: array([[1, 41.1043],\n       [2, 41.0228],\n       [4, 41.0727],\n       [5, 41.0147],\n       [6, 41.1015],\n       [7, 41.2538],\n       [8, 41.0119],\n       [10, 41.0486],\n       [11, 41.0571],\n       [13, 41.0526],\n       [16, 41.1451],\n       [18, 41.3087],\n       [21, 41.2537],\n       [23, 41.2101],\n       [24, 41.2563],\n       [26, 41.3577],\n       [31, 41.3251],\n       [32, 41.3079],\n       [33, 41.1598],\n       [35, 41.0134]]), 2: array([[8, 43.4384],\n       [10, 43.4658],\n       [11, 43.4568],\n       [12, 43.4658],\n       [14, 43.4297],\n       [16, 43.4634],\n       [22, 43.4783],\n       [23, 43.4648],\n       [27, 43.4316],\n       [35, 43.434]]), 4: array([[2, 44.6932],\n       [3, 44.826],\n       [4, 44.6727],\n       [5, 44.6526],\n       [8, 44.5894],\n       [10, 44.6573],\n       [13, 44.6834],\n       [14, 44.6724],\n       [16, 44.6626],\n       [17, 44.658],\n       [27, 44.6319],\n       [32, 44.6293],\n       [35, 44.5887]]), 5: array([[6, 45.171],\n       [8, 45.1371],\n       [13, 45.1611],\n       [14, 45.1415],\n       [16, 45.198],\n       [22, 45.2124],\n       [26, 45.2162],\n       [27, 45.1393],\n       [31, 45.2235],\n       [35, 45.1634]]), 6: array([[3, 45.3932],\n       [4, 45.3852],\n       [7, 45.4703],\n       [9, 45.3797],\n       [20, 45.4132],\n       [26, 45.4105],\n       [29, 45.4246],\n       [30, 45.4236],\n       [31, 45.4029]]), 7: array([[4, 46.0316],\n       [6, 46.0378],\n       [7, 46.0508],\n       [8, 46.0168],\n       [10, 46.0905],\n       [11, 46.0423],\n       [14, 46.0004],\n       [15, 46.1847],\n       [16, 46.2493],\n       [18, 46.1524],\n       [20, 46.1625],\n       [22, 46.1662],\n       [24, 46.1677],\n       [25, 46.0319],\n       [27, 45.9972],\n       [31, 46.1771],\n       [33, 46.2301],\n       [35, 45.9943]]), 8: array([[6, 47.3079],\n       [8, 47.2638],\n       [10, 47.3511],\n       [11, 47.3137],\n       [12, 47.3292],\n       [13, 47.4038],\n       [14, 47.137],\n       [16, 47.3324],\n       [27, 47.1449],\n       [35, 47.1456]]), 10: array([[0, 54.2413],\n       [14, 54.2712],\n       [15, 54.2567],\n       [17, 54.2517],\n       [25, 54.2785],\n       [26, 54.2616],\n       [31, 54.2501],\n       [34, 54.2862]]), 11: array([[6, 56.1625],\n       [8, 56.1645],\n       [11, 56.1708],\n       [12, 56.1918],\n       [14, 56.1246],\n       [16, 56.1587],\n       [26, 56.1137],\n       [27, 56.1916],\n       [35, 56.1754]]), 12: array([[1, 57.7731],\n       [4, 57.8292],\n       [5, 57.7391],\n       [6, 57.8639],\n       [8, 57.552],\n       [11, 57.7253],\n       [14, 57.6231],\n       [15, 57.8906],\n       [16, 57.562],\n       [26, 57.6126],\n       [27, 57.6723],\n       [29, 57.7726],\n       [35, 57.518]]), 13: array([[5, 61.0359],\n       [8, 61.0182],\n       [14, 60.9915],\n       [16, 61.039],\n       [26, 61.0096],\n       [27, 61.024],\n       [35, 61.0143]]), 14: array([[0, 61.5938],\n       [4, 61.405],\n       [5, 61.4296],\n       [6, 61.5551],\n       [8, 61.4795],\n       [10, 61.5476],\n       [11, 61.5394],\n       [12, 61.5846],\n       [14, 61.3971],\n       [16, 61.5723],\n       [17, 61.4297],\n       [22, 61.6004],\n       [26, 61.6034],\n       [27, 61.5306],\n       [33, 61.6189],\n       [35, 61.4163]]), 15: array([[5, 63.6421],\n       [8, 63.6485],\n       [14, 63.6521],\n       [16, 63.6486],\n       [27, 63.6671],\n       [35, 63.6556]]), 16: array([[3, 65.0417],\n       [5, 64.8947],\n       [6, 64.9146],\n       [7, 65.0889],\n       [8, 64.8766],\n       [9, 65.0262],\n       [11, 64.9117],\n       [14, 64.8846],\n       [15, 64.9364],\n       [19, 64.9646],\n       [20, 65.0453],\n       [22, 65.0333],\n       [25, 65.1149],\n       [26, 64.9572],\n       [27, 64.8905],\n       [29, 65.0267],\n       [31, 65.0556],\n       [35, 64.8938]]), 17: array([[5, 68.4559],\n       [6, 68.5515],\n       [8, 68.4357],\n       [9, 68.4391],\n       [12, 68.5452],\n       [14, 68.4404],\n       [16, 68.5372],\n       [22, 68.5845],\n       [26, 68.5679],\n       [27, 68.4423],\n       [32, 68.483],\n       [35, 68.4291]]), 19: array([[6, 71.05],\n       [8, 71.017],\n       [16, 71.0445],\n       [19, 71.1017],\n       [22, 71.138],\n       [27, 71.0764]]), 20: array([[4, 72.4728],\n       [5, 72.4586],\n       [8, 72.4442],\n       [9, 72.4476],\n       [13, 72.4785],\n       [14, 72.4591],\n       [16, 72.4515],\n       [27, 72.4492],\n       [35, 72.4415]]), 21: array([[6, 72.8007],\n       [7, 72.9543],\n       [8, 72.8133],\n       [11, 72.7619],\n       [15, 72.8364],\n       [16, 72.6603],\n       [17, 72.9258],\n       [18, 72.8727],\n       [19, 72.9104],\n       [20, 72.8453],\n       [21, 72.9],\n       [22, 72.8265],\n       [24, 72.8923],\n       [26, 72.6498],\n       [27, 72.8645],\n       [29, 72.921],\n       [35, 72.8072]]), 23: array([[4, 76.0614],\n       [6, 75.995],\n       [8, 75.9891],\n       [11, 76.0139],\n       [12, 76.02],\n       [14, 76.0004],\n       [15, 76.0905],\n       [16, 75.9789],\n       [27, 76.0456],\n       [33, 76.1166],\n       [35, 76.0101]]), 24: array([[0, 78.0094],\n       [4, 77.8596],\n       [5, 77.7704],\n       [6, 77.9131],\n       [8, 77.7543],\n       [9, 78.0045],\n       [11, 77.7734],\n       [14, 77.7615],\n       [16, 77.7719],\n       [19, 77.9951],\n       [20, 77.9497],\n       [24, 77.9919],\n       [26, 77.8687],\n       [27, 77.7845],\n       [29, 78.0085],\n       [33, 77.8103],\n       [35, 77.7685]]), 25: array([[4, 79.0947],\n       [5, 79.0928],\n       [8, 79.0926],\n       [11, 79.2954],\n       [13, 79.2705],\n       [14, 79.2532],\n       [27, 79.1107],\n       [28, 79.3173],\n       [35, 79.1001]]), 26: array([[4, 80.6171],\n       [5, 80.62],\n       [6, 80.5446],\n       [8, 80.5476],\n       [10, 80.5531],\n       [13, 80.6155],\n       [14, 80.6237],\n       [15, 80.5688],\n       [16, 80.536],\n       [22, 80.5797],\n       [26, 80.6373],\n       [27, 80.6037]]), 28: array([[3, 82.1645],\n       [4, 82.1533],\n       [5, 82.1237],\n       [8, 82.1161],\n       [11, 82.1337],\n       [14, 82.1183],\n       [16, 82.124],\n       [27, 82.1283],\n       [35, 82.1127]]), 29: array([[0, 83.3338],\n       [5, 83.126],\n       [6, 83.3181],\n       [8, 83.2843],\n       [9, 83.1414],\n       [11, 83.3045],\n       [12, 83.3622],\n       [13, 83.1474],\n       [14, 83.2965],\n       [15, 83.1583],\n       [16, 83.1421],\n       [21, 83.4222],\n       [22, 83.3535],\n       [27, 83.3088],\n       [32, 83.4818],\n       [33, 83.3897],\n       [35, 83.2821]]), 30: array([[5, 85.2061],\n       [6, 85.3014],\n       [7, 85.4322],\n       [8, 85.2443],\n       [11, 85.3056],\n       [14, 85.2211],\n       [16, 85.3081],\n       [17, 85.46],\n       [21, 85.4367],\n       [24, 85.425],\n       [27, 85.2952],\n       [30, 85.422],\n       [35, 85.267]]), 31: array([[0, 91.7508],\n       [1, 91.5967],\n       [4, 91.6282],\n       [6, 91.6976],\n       [8, 91.5817],\n       [9, 91.8054],\n       [10, 91.6672],\n       [11, 91.6624],\n       [15, 91.7551],\n       [16, 91.7146],\n       [20, 91.7724],\n       [22, 91.6953],\n       [26, 91.7503],\n       [30, 91.7175],\n       [35, 91.5784]]), 32: array([[4, 94.0803],\n       [5, 94.0003],\n       [6, 93.9698],\n       [8, 93.9215],\n       [10, 94.2434],\n       [11, 93.9524],\n       [13, 94.0562],\n       [14, 93.9479],\n       [17, 94.2333],\n       [22, 94.3264],\n       [27, 93.9413],\n       [32, 93.9507],\n       [35, 93.9275]]), 33: array([[1, 95.3846],\n       [6, 95.306],\n       [8, 95.2979],\n       [14, 95.499],\n       [15, 95.4223],\n       [17, 95.4269],\n       [20, 95.5009],\n       [27, 95.5075],\n       [30, 95.4945],\n       [31, 95.4183],\n       [35, 95.3176]]), 34: array([[2, 146.73],\n       [4, 146.718],\n       [5, 146.729],\n       [8, 146.714],\n       [9, 146.633],\n       [15, 146.7],\n       [18, 146.679],\n       [20, 146.688],\n       [24, 146.679],\n       [29, 146.639],\n       [35, 146.686]]), 35: array([[0, 147.077],\n       [7, 147.042],\n       [13, 147.004],\n       [15, 146.972],\n       [16, 147.011],\n       [17, 147.014],\n       [20, 147.096],\n       [21, 147.054],\n       [22, 147.109],\n       [23, 147.001],\n       [26, 147.045],\n       [27, 147.082],\n       [29, 147.094],\n       [30, 147.061],\n       [33, 147.003]]), 36: array([[0, 147.988],\n       [4, 148.234],\n       [6, 148.062],\n       [8, 147.978],\n       [9, 147.944],\n       [12, 148.024],\n       [15, 147.897],\n       [20, 147.926],\n       [21, 148.048],\n       [27, 148.171],\n       [31, 148.155],\n       [32, 147.967],\n       [33, 148.25],\n       [35, 148.038]]), 37: array([[0, 168.305],\n       [5, 168.172],\n       [8, 168.312],\n       [10, 168.278],\n       [13, 168.167],\n       [14, 168.293],\n       [16, 168.246],\n       [17, 168.291],\n       [32, 168.33],\n       [35, 168.294]]), 38: array([[0, 170.202],\n       [3, 170.097],\n       [4, 170.071],\n       [6, 170.052],\n       [9, 170.079],\n       [12, 170.138],\n       [16, 170.14],\n       [18, 170.035],\n       [20, 170.019],\n       [22, 170.046],\n       [24, 170.052],\n       [26, 170.112],\n       [29, 170.271],\n       [31, 170.095]]), 40: array([[6, 171.519],\n       [8, 171.542],\n       [11, 171.588],\n       [14, 171.533],\n       [15, 171.51],\n       [16, 171.578],\n       [22, 171.604],\n       [26, 171.608],\n       [27, 171.543],\n       [34, 171.622],\n       [35, 171.544]]), 42: array([[1, 172.754],\n       [2, 172.623],\n       [3, 172.835],\n       [4, 172.83],\n       [5, 172.655],\n       [7, 172.728],\n       [8, 172.626],\n       [14, 172.625],\n       [15, 172.813],\n       [21, 172.796],\n       [22, 172.848],\n       [27, 172.803],\n       [30, 172.839],\n       [35, 172.619]]), 43: array([[0, 179.601],\n       [6, 179.602],\n       [8, 179.605],\n       [11, 179.631],\n       [14, 179.626],\n       [15, 179.638],\n       [16, 179.611],\n       [27, 179.634],\n       [28, 179.642],\n       [33, 179.627],\n       [35, 179.633]]), 44: array([[0, 180.553],\n       [1, 181.039],\n       [6, 180.714],\n       [8, 180.595],\n       [11, 180.714],\n       [14, 181.001],\n       [16, 180.563],\n       [27, 180.998],\n       [32, 180.561],\n       [33, 180.742]]), 45: array([[3, 181.818],\n       [6, 181.7],\n       [7, 181.864],\n       [9, 181.792],\n       [11, 181.698],\n       [12, 181.767],\n       [15, 181.725],\n       [16, 181.692],\n       [20, 181.731],\n       [22, 181.758],\n       [24, 181.759],\n       [25, 181.892],\n       [26, 181.725],\n       [29, 181.821],\n       [30, 181.74],\n       [31, 181.72],\n       [33, 181.728]]), 46: array([[3, 182.472],\n       [4, 182.447],\n       [6, 182.401],\n       [8, 182.412],\n       [10, 182.409],\n       [11, 182.475],\n       [14, 182.445],\n       [16, 182.406],\n       [19, 182.556],\n       [22, 182.41],\n       [26, 182.423],\n       [27, 182.459],\n       [32, 182.455],\n       [33, 182.47],\n       [35, 182.461]]), 47: array([[0, 187.704],\n       [6, 187.589],\n       [8, 187.598],\n       [12, 187.682],\n       [14, 187.609],\n       [15, 187.637],\n       [19, 187.671],\n       [27, 187.617],\n       [35, 187.618]]), 48: array([[4, 188.943],\n       [6, 188.839],\n       [7, 189.011],\n       [8, 188.831],\n       [9, 188.939],\n       [11, 188.844],\n       [12, 188.903],\n       [15, 188.879],\n       [16, 188.822],\n       [18, 188.897],\n       [20, 188.889],\n       [21, 188.837],\n       [22, 188.906],\n       [24, 188.919],\n       [25, 189.034],\n       [26, 188.992],\n       [30, 188.916],\n       [31, 188.975]]), 49: array([[0, 191.272],\n       [1, 191.176],\n       [4, 191.278],\n       [5, 191.265],\n       [8, 191.2],\n       [10, 191.256],\n       [12, 191.265],\n       [14, 191.264],\n       [16, 191.257],\n       [27, 191.221],\n       [31, 191.262],\n       [33, 191.189],\n       [35, 191.239]]), 50: array([[0, 192.369],\n       [6, 192.298],\n       [13, 192.377],\n       [20, 192.395],\n       [21, 192.269],\n       [25, 192.274],\n       [26, 192.386],\n       [27, 192.284],\n       [31, 192.365],\n       [34, 192.421],\n       [35, 192.35]]), 51: array([[3, 193.784],\n       [7, 193.859],\n       [9, 193.788],\n       [11, 193.648],\n       [12, 193.714],\n       [13, 193.862],\n       [15, 193.671],\n       [18, 193.713],\n       [20, 193.671],\n       [22, 193.706],\n       [24, 193.746],\n       [25, 193.883],\n       [26, 193.648],\n       [29, 193.76],\n       [30, 193.661],\n       [31, 193.817],\n       [35, 193.831]]), 52: array([[2, 195.522],\n       [3, 195.512],\n       [4, 195.499],\n       [5, 195.521],\n       [6, 195.471],\n       [8, 195.478],\n       [11, 195.45],\n       [13, 195.503],\n       [14, 195.485],\n       [16, 195.432],\n       [26, 195.448],\n       [27, 195.496],\n       [33, 195.475],\n       [35, 195.496]]), 53: array([[2, 196.545],\n       [4, 196.54],\n       [6, 196.447],\n       [8, 196.471],\n       [11, 196.485],\n       [14, 196.503],\n       [15, 196.437],\n       [16, 196.583],\n       [19, 196.441],\n       [26, 196.469],\n       [27, 196.521],\n       [35, 196.513]]), 54: array([[0, 196.737],\n       [1, 196.817],\n       [4, 196.715],\n       [6, 196.735],\n       [8, 196.77],\n       [16, 196.709],\n       [22, 196.765]]), 55: array([[0, 197.825],\n       [4, 197.79],\n       [5, 197.881],\n       [6, 197.836],\n       [8, 197.797],\n       [13, 197.859],\n       [14, 197.88],\n       [16, 197.796],\n       [32, 197.859],\n       [35, 197.883]]), 57: array([[0, 200.446],\n       [2, 200.499],\n       [3, 200.5],\n       [5, 200.508],\n       [6, 200.441],\n       [8, 200.443],\n       [11, 200.457],\n       [14, 200.47],\n       [16, 200.414],\n       [27, 200.483],\n       [35, 200.48]]), 58: array([[2, 204.304],\n       [3, 204.287],\n       [4, 204.306],\n       [5, 204.312],\n       [6, 204.227],\n       [8, 204.234],\n       [11, 204.165],\n       [14, 204.249],\n       [15, 204.174],\n       [20, 204.189],\n       [26, 204.162],\n       [27, 204.28],\n       [35, 204.275]]), 59: array([[0, 210.801],\n       [3, 210.988],\n       [9, 210.986],\n       [10, 210.751],\n       [11, 210.911],\n       [12, 210.947],\n       [13, 211.004],\n       [15, 210.929],\n       [16, 210.872],\n       [18, 210.946],\n       [20, 210.934],\n       [21, 211.007],\n       [22, 210.737],\n       [24, 210.971],\n       [26, 210.761],\n       [29, 210.975],\n       [30, 211.034],\n       [31, 211.013],\n       [32, 210.718],\n       [34, 210.905],\n       [35, 210.973]]), 60: array([[2, 211.305],\n       [4, 211.296],\n       [6, 211.329],\n       [8, 211.291],\n       [11, 211.31],\n       [14, 211.285],\n       [15, 211.352],\n       [27, 211.309],\n       [32, 211.268],\n       [35, 211.302]]), 61: array([[0, 217.739],\n       [6, 217.875],\n       [8, 217.75],\n       [11, 217.634],\n       [12, 217.783],\n       [14, 217.938],\n       [15, 217.925],\n       [16, 217.719],\n       [20, 217.817],\n       [22, 217.877],\n       [26, 217.871],\n       [33, 217.911],\n       [35, 217.808]]), 62: array([[0, 218.487],\n       [3, 218.242],\n       [4, 218.498],\n       [6, 218.437],\n       [7, 218.321],\n       [8, 218.5],\n       [9, 218.249],\n       [11, 218.107],\n       [12, 218.176],\n       [15, 218.371],\n       [16, 218.447],\n       [20, 218.193],\n       [24, 218.203],\n       [25, 218.341],\n       [26, 218.158],\n       [29, 218.261],\n       [30, 218.216],\n       [32, 218.507],\n       [33, 218.113],\n       [34, 218.358]]), 63: array([[0, 218.834],\n       [4, 218.895],\n       [6, 218.78],\n       [8, 218.865],\n       [11, 218.899],\n       [13, 218.754],\n       [14, 219.156],\n       [15, 219.154],\n       [16, 218.731],\n       [23, 218.81],\n       [26, 218.992],\n       [30, 219.009],\n       [32, 218.853],\n       [35, 219.163]]), 64: array([[0, 240.545],\n       [2, 240.633],\n       [4, 240.621],\n       [5, 240.64],\n       [7, 240.526],\n       [8, 240.62],\n       [11, 240.513],\n       [12, 240.565],\n       [14, 240.675],\n       [15, 240.754],\n       [16, 240.628],\n       [17, 240.512],\n       [19, 240.575],\n       [22, 240.557],\n       [24, 240.578],\n       [26, 240.531],\n       [27, 240.562],\n       [29, 240.584],\n       [30, 240.563],\n       [31, 240.641],\n       [35, 240.639]]), 65: array([[0, 241.814],\n       [4, 241.769],\n       [5, 241.839],\n       [7, 241.711],\n       [8, 241.823],\n       [9, 241.749],\n       [10, 241.838],\n       [11, 241.835],\n       [13, 241.704],\n       [14, 241.826],\n       [15, 241.802],\n       [16, 241.813],\n       [18, 241.781],\n       [20, 241.808],\n       [25, 241.692],\n       [26, 241.814],\n       [29, 241.784],\n       [31, 241.735],\n       [35, 241.846]]), 68: array([[0, 264.418],\n       [4, 264.412],\n       [11, 264.468],\n       [16, 264.435],\n       [22, 264.471],\n       [30, 264.438],\n       [32, 264.419],\n       [35, 264.362]]), 69: array([[0, 266.121],\n       [4, 266.075],\n       [6, 266.138],\n       [8, 266.162],\n       [11, 266.126],\n       [14, 266.095],\n       [15, 266.231],\n       [17, 266.216],\n       [19, 266.195],\n       [26, 266.185],\n       [27, 266.154],\n       [35, 266.085]]), 70: array([[3, 267.708],\n       [4, 267.703],\n       [9, 267.692],\n       [12, 267.611],\n       [15, 267.626],\n       [16, 267.606],\n       [18, 267.644],\n       [20, 267.659],\n       [21, 267.727],\n       [22, 267.665],\n       [24, 267.667],\n       [26, 267.74],\n       [30, 267.718],\n       [31, 267.729],\n       [35, 267.67]]), 72: array([[3, 283.063],\n       [4, 283.018],\n       [8, 283.129],\n       [9, 283.019],\n       [13, 283.125],\n       [14, 283.115],\n       [15, 282.904],\n       [16, 282.877],\n       [18, 282.953],\n       [20, 282.934],\n       [22, 282.977],\n       [24, 282.997],\n       [25, 283.131],\n       [26, 282.901],\n       [29, 283.071],\n       [30, 282.934],\n       [31, 283.067],\n       [35, 283.022]]), 73: array([[0, 289.99],\n       [4, 289.985],\n       [6, 290.05],\n       [8, 289.852],\n       [11, 290.041],\n       [14, 289.997],\n       [27, 290.025],\n       [30, 289.804],\n       [32, 290.003],\n       [35, 290.016]]), 74: array([[0, 293.699],\n       [4, 293.717],\n       [10, 293.733],\n       [11, 293.717],\n       [15, 293.947],\n       [16, 293.666],\n       [22, 293.821],\n       [26, 293.817],\n       [32, 293.725],\n       [33, 293.806],\n       [34, 293.811]]), 75: array([[0, 303.801],\n       [7, 303.752],\n       [8, 303.773],\n       [11, 303.858],\n       [15, 303.686],\n       [17, 303.762],\n       [18, 303.846],\n       [20, 303.82],\n       [21, 303.693],\n       [22, 303.811],\n       [24, 303.808],\n       [25, 303.719],\n       [26, 303.787],\n       [29, 303.826],\n       [30, 303.794],\n       [32, 303.683]]), 76: array([[3, 305.164],\n       [6, 305.252],\n       [9, 305.174],\n       [15, 305.266],\n       [17, 305.178],\n       [21, 305.216],\n       [22, 305.278],\n       [24, 305.166],\n       [27, 305.264],\n       [31, 305.211],\n       [35, 305.205]]), 78: array([[0, 320.509],\n       [2, 320.399],\n       [3, 320.481],\n       [4, 320.424],\n       [5, 320.434],\n       [8, 320.384],\n       [10, 320.529],\n       [13, 320.413],\n       [14, 320.42],\n       [16, 320.516],\n       [17, 320.383],\n       [32, 320.509],\n       [35, 320.434]]), 79: array([[2, 321.935],\n       [4, 321.876],\n       [5, 321.866],\n       [8, 321.835],\n       [13, 321.873],\n       [14, 321.858],\n       [35, 321.887]]), 80: array([[0, 324.188],\n       [2, 324.011],\n       [3, 324.321],\n       [4, 324],\n       [5, 324.01],\n       [6, 324.202],\n       [7, 324.366],\n       [8, 323.976],\n       [9, 324.29],\n       [10, 324.148],\n       [12, 324.253],\n       [13, 324.146],\n       [14, 324.004],\n       [15, 324.225],\n       [16, 324.188],\n       [18, 324.239],\n       [20, 324.235],\n       [21, 324.327],\n       [22, 324.256],\n       [24, 324.27],\n       [28, 323.968],\n       [29, 324.33],\n       [30, 324.261],\n       [31, 324.177],\n       [32, 324.189],\n       [34, 324.295],\n       [35, 324.011]]), 81: array([[3, 325.554],\n       [4, 325.527],\n       [20, 325.55],\n       [21, 325.495],\n       [22, 325.506],\n       [35, 325.511]]), 82: array([[0, 334.355],\n       [2, 334.286],\n       [4, 334.401],\n       [6, 334.323],\n       [8, 334.307],\n       [14, 334.273],\n       [15, 334.346],\n       [17, 334.296],\n       [27, 334.31],\n       [35, 334.313]]), 83: array([[4, 335.901],\n       [9, 335.901],\n       [10, 335.842],\n       [15, 335.734],\n       [20, 335.8],\n       [21, 335.808],\n       [31, 335.802],\n       [35, 335.858]]), 84: array([[1, 336.244],\n       [4, 336.398],\n       [8, 336.264],\n       [9, 336.444],\n       [12, 336.269],\n       [21, 336.394],\n       [22, 336.379],\n       [31, 336.253],\n       [35, 336.283]]), 85: array([[2, 337.685],\n       [6, 337.725],\n       [8, 337.695],\n       [11, 337.709],\n       [12, 337.718],\n       [14, 337.695],\n       [16, 337.701],\n       [17, 337.661],\n       [26, 337.772],\n       [27, 337.715],\n       [35, 337.699]]), 86: array([[0, 338.471],\n       [3, 338.454],\n       [6, 338.529],\n       [9, 338.566],\n       [10, 338.432],\n       [11, 338.442],\n       [13, 338.506],\n       [15, 338.497],\n       [16, 338.482],\n       [18, 338.518],\n       [20, 338.51],\n       [22, 338.535],\n       [24, 338.542],\n       [29, 338.58],\n       [30, 338.644],\n       [31, 338.608],\n       [35, 338.583]]), 87: array([[0, 340.044],\n       [2, 339.864],\n       [4, 339.838],\n       [5, 339.876],\n       [8, 339.868],\n       [11, 339.899],\n       [13, 339.989],\n       [14, 339.871],\n       [16, 340.042],\n       [17, 339.848],\n       [26, 340.072],\n       [27, 339.878],\n       [35, 339.879]]), 88: array([[0, 341.79],\n       [4, 341.709],\n       [6, 341.797],\n       [8, 341.78],\n       [9, 342.01],\n       [11, 341.776],\n       [12, 341.927],\n       [14, 341.781],\n       [15, 341.824],\n       [17, 341.986],\n       [19, 341.877],\n       [21, 341.951],\n       [22, 341.931],\n       [24, 341.972],\n       [25, 342.012],\n       [26, 341.835],\n       [27, 341.793],\n       [29, 341.937],\n       [34, 342.028],\n       [35, 341.797]]), 89: array([[2, 344.043],\n       [5, 344.051],\n       [8, 344.048],\n       [13, 344.047],\n       [14, 344.056],\n       [17, 344.033],\n       [18, 344.043],\n       [27, 344.064],\n       [35, 344.062]]), 90: array([[0, 345.598],\n       [4, 345.608],\n       [8, 345.6],\n       [16, 345.621],\n       [22, 345.643],\n       [27, 345.628],\n       [32, 345.574]]), 91: array([[0, 347.58],\n       [8, 347.575],\n       [11, 347.6],\n       [15, 347.563],\n       [20, 347.601],\n       [32, 347.548]]), 92: array([[0, 349.658],\n       [2, 349.708],\n       [4, 349.601],\n       [5, 349.722],\n       [6, 349.654],\n       [8, 349.645],\n       [11, 349.638],\n       [14, 349.669],\n       [16, 349.686],\n       [27, 349.682],\n       [35, 349.685]]), 93: array([[2, 350.6],\n       [4, 350.443],\n       [8, 350.605],\n       [9, 350.46],\n       [13, 350.402],\n       [14, 350.459],\n       [17, 350.573],\n       [27, 350.629],\n       [35, 350.62]]), 95: array([[11, 355.629],\n       [15, 355.546],\n       [16, 355.606],\n       [20, 355.634],\n       [21, 355.564],\n       [26, 355.633],\n       [30, 355.59],\n       [32, 355.61]]), 96: array([[2, 356.214],\n       [6, 356.281],\n       [8, 356.242],\n       [11, 356.27],\n       [14, 356.26],\n       [15, 356.298],\n       [17, 356.219],\n       [19, 356.333],\n       [26, 356.322],\n       [27, 356.271],\n       [35, 356.262]]), 97: array([[2, 364.57],\n       [4, 364.551],\n       [8, 364.586],\n       [9, 364.584],\n       [11, 364.606],\n       [13, 364.559],\n       [14, 364.576],\n       [15, 364.652],\n       [17, 364.579],\n       [25, 364.663],\n       [27, 364.599],\n       [35, 364.59]]), 98: array([[0, 366.15],\n       [2, 366.08],\n       [7, 366.074],\n       [8, 366.136],\n       [11, 366.18],\n       [12, 366.05],\n       [13, 366.099],\n       [15, 366.079],\n       [16, 366.049],\n       [22, 366.081]]), 99: array([[0, 367.883],\n       [4, 368.017],\n       [6, 367.927],\n       [9, 368.006],\n       [11, 367.993],\n       [15, 367.955],\n       [16, 367.905],\n       [17, 368.057],\n       [18, 367.971],\n       [20, 368.01],\n       [22, 367.936],\n       [24, 367.998],\n       [26, 368.068],\n       [32, 367.89],\n       [34, 368.112],\n       [35, 368.002]]), 100: array([[0, 368.916],\n       [2, 368.951],\n       [4, 368.837],\n       [6, 368.968],\n       [8, 368.793],\n       [10, 368.756],\n       [11, 368.744],\n       [14, 368.961],\n       [15, 368.977],\n       [17, 368.899],\n       [26, 369.008],\n       [27, 368.948],\n       [35, 368.949]]), 101: array([[2, 372.034],\n       [4, 371.996],\n       [5, 372.038],\n       [6, 372.063],\n       [8, 372.037],\n       [9, 372.029],\n       [14, 372.049],\n       [15, 372.081],\n       [16, 372.026],\n       [19, 372.108],\n       [20, 372.105],\n       [26, 372.093],\n       [27, 372.059],\n       [35, 372.044]]), 102: array([[0, 373.026],\n       [4, 372.992],\n       [6, 373.046],\n       [8, 373.019],\n       [16, 373.036],\n       [32, 373.036]]), 103: array([[3, 380.351],\n       [6, 380.259],\n       [7, 380.312],\n       [8, 380.343],\n       [9, 380.354],\n       [10, 380.431],\n       [12, 380.409],\n       [15, 380.281],\n       [18, 380.433],\n       [19, 380.56],\n       [20, 380.324],\n       [21, 380.335],\n       [22, 380.436],\n       [24, 380.416],\n       [26, 380.528],\n       [29, 380.589],\n       [30, 380.333],\n       [31, 380.362],\n       [33, 380.582]]), 104: array([[0, 382.755],\n       [6, 382.738],\n       [8, 382.725],\n       [10, 382.682],\n       [11, 382.709],\n       [16, 382.744],\n       [22, 382.739],\n       [27, 382.726],\n       [35, 382.727]]), 105: array([[2, 383.351],\n       [5, 383.351],\n       [6, 383.424],\n       [8, 383.337],\n       [10, 383.439],\n       [11, 383.413],\n       [13, 383.354],\n       [14, 383.367],\n       [15, 383.453],\n       [16, 383.358],\n       [17, 383.356],\n       [23, 383.679],\n       [26, 383.48],\n       [27, 383.416],\n       [29, 383.632],\n       [33, 383.667],\n       [35, 383.366]]), 106: array([[2, 388.979],\n       [4, 389.253],\n       [6, 389.046],\n       [8, 389.008],\n       [10, 389.19],\n       [11, 389.044],\n       [14, 389.023],\n       [15, 389.085],\n       [17, 389.02],\n       [27, 389.038],\n       [35, 389.032]]), 107: array([[0, 390.223],\n       [4, 390.236],\n       [10, 390.175],\n       [11, 390.086],\n       [12, 390.064],\n       [15, 390.041],\n       [16, 390.023],\n       [18, 390.068],\n       [20, 390.064],\n       [22, 390.073],\n       [24, 390.09],\n       [26, 390.05],\n       [28, 390.219],\n       [30, 390.064],\n       [32, 390.003]]), 108: array([[0, 394.136],\n       [1, 393.927],\n       [2, 394.062],\n       [4, 394.114],\n       [5, 394.104],\n       [6, 393.853],\n       [7, 394.062],\n       [8, 393.934],\n       [9, 394.054],\n       [10, 393.971],\n       [14, 394.1],\n       [16, 394.031],\n       [27, 393.95],\n       [35, 393.984]]), 109: array([[3, 396.689],\n       [7, 396.832],\n       [8, 396.819],\n       [9, 396.724],\n       [13, 396.817],\n       [20, 396.671],\n       [21, 396.72],\n       [25, 396.845],\n       [26, 396.866],\n       [27, 396.63],\n       [30, 396.716],\n       [31, 396.723],\n       [32, 396.857]]), 110: array([[0, 398.829],\n       [2, 398.627],\n       [4, 398.601],\n       [5, 398.629],\n       [6, 398.69],\n       [7, 399.012],\n       [8, 398.624],\n       [9, 398.633],\n       [11, 398.683],\n       [12, 398.776],\n       [14, 398.677],\n       [15, 398.703],\n       [17, 398.632],\n       [19, 398.736],\n       [22, 398.788],\n       [24, 398.849],\n       [25, 399.034],\n       [26, 398.722],\n       [27, 398.684],\n       [29, 398.779],\n       [31, 398.968],\n       [33, 398.942],\n       [34, 398.972],\n       [35, 398.645]]), 111: array([[7, 399.557],\n       [17, 399.514],\n       [20, 399.457],\n       [21, 399.449],\n       [27, 399.441],\n       [29, 399.489],\n       [32, 399.549],\n       [33, 399.481],\n       [35, 399.45]]), 112: array([[11, 400.169],\n       [15, 400.142],\n       [19, 400.17],\n       [20, 400.141],\n       [21, 400.15],\n       [31, 400.05],\n       [32, 400.118],\n       [34, 400.126]]), 113: array([[2, 401.411],\n       [5, 401.409],\n       [8, 401.437],\n       [10, 401.41],\n       [13, 401.411],\n       [14, 401.41],\n       [16, 401.394],\n       [17, 401.421],\n       [35, 401.427]]), 114: array([[9, 401.977],\n       [11, 401.978],\n       [14, 401.989],\n       [15, 401.991],\n       [18, 402.007],\n       [20, 401.999],\n       [22, 402.021],\n       [24, 402.016],\n       [26, 401.986],\n       [29, 402.048],\n       [35, 402.031]]), 115: array([[2, 408.43],\n       [8, 408.435],\n       [10, 408.48],\n       [11, 408.469],\n       [14, 408.454],\n       [17, 408.413],\n       [23, 408.477],\n       [27, 408.466],\n       [35, 408.447]]), 116: array([[0, 409.821],\n       [4, 409.955],\n       [5, 410.045],\n       [6, 409.866],\n       [8, 409.859],\n       [11, 409.888],\n       [13, 410.019],\n       [14, 410.06],\n       [16, 409.865],\n       [17, 410.028],\n       [22, 409.909],\n       [26, 409.903],\n       [32, 409.868],\n       [34, 409.908]]), 117: array([[0, 412.041],\n       [7, 412.051],\n       [9, 412.009],\n       [13, 412.025],\n       [15, 412.069],\n       [26, 412.075],\n       [28, 412.017],\n       [34, 412.101]]), 118: array([[2, 418.852],\n       [4, 418.884],\n       [5, 418.899],\n       [8, 418.869],\n       [14, 418.876],\n       [21, 419.005],\n       [30, 418.993],\n       [35, 418.89]]), 119: array([[0, 419.698],\n       [3, 419.809],\n       [6, 419.676],\n       [7, 419.856],\n       [9, 419.788],\n       [11, 419.689],\n       [15, 419.7],\n       [16, 419.651],\n       [17, 419.86],\n       [18, 419.719],\n       [20, 419.696],\n       [22, 419.726],\n       [24, 419.744],\n       [26, 419.683],\n       [29, 419.787],\n       [30, 419.687],\n       [31, 419.693],\n       [33, 419.767],\n       [35, 419.832]]), 120: array([[0, 421.457],\n       [2, 421.363],\n       [4, 421.347],\n       [6, 421.417],\n       [8, 421.365],\n       [12, 421.558],\n       [14, 421.4],\n       [17, 421.353],\n       [19, 421.507],\n       [22, 421.562],\n       [24, 421.623],\n       [27, 421.414],\n       [29, 421.571],\n       [35, 421.377]]), 122: array([[0, 425.105],\n       [3, 425.095],\n       [4, 425.068],\n       [8, 425.133],\n       [11, 425.152],\n       [14, 425.063],\n       [15, 425.161],\n       [16, 425.116],\n       [22, 425.158]]), 124: array([[2, 427.436],\n       [4, 427.429],\n       [5, 427.439],\n       [8, 427.436],\n       [13, 427.423],\n       [14, 427.426],\n       [16, 427.412],\n       [17, 427.444],\n       [35, 427.446]]), 125: array([[0, 431.392],\n       [6, 431.401],\n       [11, 431.42],\n       [14, 431.362],\n       [16, 431.368],\n       [22, 431.418],\n       [28, 431.36],\n       [35, 431.445]]), 126: array([[10, 431.783],\n       [11, 431.757],\n       [13, 431.865],\n       [14, 431.794],\n       [16, 431.843],\n       [31, 431.807],\n       [35, 431.806]]), 127: array([[2, 432.148],\n       [4, 432.077],\n       [6, 432.099],\n       [8, 432.066],\n       [11, 432.098],\n       [14, 432.077],\n       [27, 432.094],\n       [35, 432.095]]), 128: array([[1, 433.011],\n       [2, 433.144],\n       [4, 432.868],\n       [8, 432.95],\n       [12, 433.167],\n       [13, 433.088],\n       [16, 432.878],\n       [17, 432.89],\n       [23, 433.267],\n       [26, 433.086],\n       [29, 433.115]]), 129: array([[0, 434.102],\n       [6, 434.108],\n       [8, 434.112],\n       [9, 434.204],\n       [14, 434.119],\n       [15, 434.138],\n       [16, 434.112],\n       [19, 434.167],\n       [20, 434.244],\n       [22, 434.2],\n       [25, 434.275],\n       [26, 434.16],\n       [27, 434.316],\n       [29, 434.203],\n       [30, 434.244],\n       [35, 434.147]]), 130: array([[2, 436.844],\n       [4, 436.967],\n       [5, 436.829],\n       [7, 436.829],\n       [8, 436.844],\n       [14, 437],\n       [17, 436.949]]), 131: array([[2, 437.476],\n       [5, 437.461],\n       [8, 437.481],\n       [13, 437.433],\n       [17, 437.465],\n       [27, 437.495],\n       [35, 437.491]]), 132: array([[4, 437.872],\n       [10, 438.037],\n       [11, 438.307],\n       [13, 437.955],\n       [17, 437.983],\n       [27, 437.908]]), 133: array([[0, 442.151],\n       [4, 442.071],\n       [6, 442.151],\n       [8, 442.143],\n       [10, 442.108],\n       [16, 442.104],\n       [22, 442.167],\n       [32, 442.122]]), 134: array([[2, 442.905],\n       [3, 442.884],\n       [5, 442.898],\n       [8, 442.892],\n       [13, 442.888],\n       [14, 442.89],\n       [17, 442.907],\n       [27, 442.929],\n       [35, 442.912]]), 135: array([[0, 443.674],\n       [4, 443.685],\n       [6, 443.71],\n       [8, 443.684],\n       [15, 443.812],\n       [16, 443.704],\n       [17, 443.783]]), 136: array([[3, 444.891],\n       [8, 444.888],\n       [9, 444.884],\n       [15, 444.993],\n       [20, 444.9],\n       [24, 444.899],\n       [25, 444.967],\n       [26, 444.869],\n       [30, 444.912],\n       [31, 444.877],\n       [35, 444.904]]), 137: array([[2, 446.092],\n       [3, 446.061],\n       [4, 446.055],\n       [5, 446.089],\n       [8, 446.089],\n       [14, 446.093],\n       [16, 446.085],\n       [17, 446.083],\n       [35, 446.106]]), 138: array([[4, 446.91],\n       [7, 446.818],\n       [13, 446.905],\n       [16, 446.885],\n       [17, 447.149],\n       [19, 446.812],\n       [20, 446.739],\n       [21, 446.791],\n       [25, 446.951],\n       [26, 446.835],\n       [27, 446.946],\n       [31, 447.105],\n       [34, 447.136],\n       [35, 446.734]]), 139: array([[6, 447.381],\n       [9, 447.426],\n       [15, 447.328],\n       [17, 447.351],\n       [19, 447.355],\n       [22, 447.403],\n       [30, 447.327],\n       [35, 447.411]]), 140: array([[0, 449.786],\n       [3, 449.702],\n       [4, 449.684],\n       [7, 449.773],\n       [9, 449.681],\n       [15, 449.814],\n       [18, 449.64],\n       [20, 449.617],\n       [21, 449.715],\n       [22, 449.648],\n       [24, 449.651],\n       [25, 449.806],\n       [26, 449.757],\n       [29, 449.72],\n       [30, 449.711],\n       [35, 449.729]]), 141: array([[0, 450.273],\n       [6, 450.259],\n       [8, 450.246],\n       [12, 450.338],\n       [16, 450.263],\n       [19, 450.342],\n       [22, 450.351],\n       [26, 450.295],\n       [29, 450.354]]), 142: array([[4, 451.893],\n       [6, 451.942],\n       [8, 451.91],\n       [11, 451.94],\n       [13, 451.91],\n       [14, 451.901],\n       [15, 451.99],\n       [27, 451.94],\n       [35, 451.929]]), 143: array([[0, 456.457],\n       [2, 456.278],\n       [4, 456.23],\n       [5, 456.279],\n       [7, 456.466],\n       [8, 456.272],\n       [9, 456.278],\n       [11, 456.342],\n       [13, 456.271],\n       [14, 456.269],\n       [15, 456.375],\n       [16, 456.365],\n       [17, 456.468],\n       [20, 456.381],\n       [21, 456.459],\n       [22, 456.406],\n       [24, 456.404],\n       [25, 456.507],\n       [26, 456.38],\n       [27, 456.29],\n       [30, 456.464],\n       [32, 456.509],\n       [35, 456.282]]), 144: array([[3, 485.206],\n       [4, 485.2],\n       [7, 485.29],\n       [8, 485.308],\n       [9, 485.204],\n       [12, 485.135],\n       [13, 485.053],\n       [15, 485.332],\n       [18, 485.134],\n       [20, 485.07],\n       [22, 485.129],\n       [24, 485.173],\n       [25, 485.319],\n       [26, 485.046],\n       [27, 485.226],\n       [29, 485.211],\n       [30, 485.276]]), 145: array([[1, 486.682],\n       [7, 486.67],\n       [12, 486.669],\n       [15, 486.743],\n       [17, 486.65],\n       [21, 486.747],\n       [23, 486.726],\n       [25, 486.703],\n       [26, 486.654],\n       [27, 486.8],\n       [30, 486.629],\n       [31, 486.647]]), 146: array([[0, 487.306],\n       [6, 487.293],\n       [8, 487.589],\n       [15, 487.539],\n       [16, 487.27],\n       [18, 487.175],\n       [19, 487.589],\n       [20, 487.545],\n       [26, 487.346],\n       [28, 487.182],\n       [31, 487.54]]), 147: array([[0, 489.137],\n       [20, 489.079],\n       [21, 489.09],\n       [23, 489.095],\n       [27, 489.089],\n       [31, 489.071],\n       [32, 489.124]]), 148: array([[0, 491.209],\n       [4, 491.22],\n       [5, 491.241],\n       [6, 491.192],\n       [8, 491.212],\n       [12, 491.194],\n       [14, 491.223],\n       [15, 491.326],\n       [16, 491.211],\n       [20, 491.342],\n       [22, 491.189],\n       [27, 491.239],\n       [33, 491.302],\n       [35, 491.178]]), 149: array([[0, 505.239],\n       [1, 505.207],\n       [7, 505.22],\n       [12, 505.262],\n       [13, 505.196],\n       [17, 505.181],\n       [19, 505.269],\n       [21, 505.249],\n       [22, 505.257],\n       [25, 505.207],\n       [27, 505.249],\n       [29, 505.268]]), 151: array([[4, 518.596],\n       [5, 518.537],\n       [8, 518.594],\n       [13, 518.572],\n       [14, 518.6],\n       [35, 518.6]]), 152: array([[0, 519.096],\n       [2, 519.05],\n       [4, 519.065],\n       [10, 519.106],\n       [14, 519.083],\n       [16, 519.117],\n       [17, 519.043],\n       [30, 519.106],\n       [35, 519.122]]), 153: array([[0, 520.313],\n       [5, 520.299],\n       [6, 520.271],\n       [9, 520.325],\n       [15, 520.327],\n       [16, 520.294],\n       [20, 520.307],\n       [27, 520.323],\n       [35, 520.291]]), 154: array([[0, 522.369],\n       [4, 522.239],\n       [6, 522.294],\n       [11, 522.262],\n       [14, 522.233],\n       [16, 522.292],\n       [19, 522.362],\n       [20, 522.413],\n       [22, 522.329]]), 155: array([[4, 523.117],\n       [5, 523.129],\n       [14, 523.119],\n       [17, 523.138],\n       [33, 523.132],\n       [35, 523.117]]), 156: array([[3, 523.938],\n       [4, 523.933],\n       [6, 523.851],\n       [9, 523.917],\n       [20, 523.949],\n       [21, 523.884],\n       [26, 523.88],\n       [35, 523.891]]), 157: array([[3, 542.766],\n       [4, 542.792],\n       [9, 542.77],\n       [11, 542.839],\n       [15, 542.686],\n       [16, 542.736],\n       [20, 542.758],\n       [25, 542.732],\n       [28, 542.862],\n       [31, 542.769],\n       [35, 542.764]]), 158: array([[0, 543.39],\n       [4, 543.467],\n       [6, 543.437],\n       [8, 543.449],\n       [11, 543.466],\n       [12, 543.41],\n       [14, 543.464],\n       [15, 543.325],\n       [16, 543.479],\n       [19, 543.413],\n       [22, 543.404],\n       [23, 543.352],\n       [26, 543.387],\n       [27, 543.483],\n       [29, 543.42],\n       [35, 543.465]]), 159: array([[1, 544.793],\n       [7, 544.931],\n       [8, 544.949],\n       [9, 544.83],\n       [10, 544.871],\n       [12, 544.833],\n       [21, 544.861],\n       [25, 545.034],\n       [31, 544.837],\n       [35, 544.814]]), 160: array([[3, 545.793],\n       [7, 545.744],\n       [9, 545.805],\n       [12, 545.89],\n       [16, 545.965],\n       [17, 545.746],\n       [18, 545.875],\n       [20, 545.779],\n       [22, 545.884],\n       [24, 545.869],\n       [30, 545.787],\n       [31, 545.811],\n       [35, 545.884]]), 161: array([[0, 546.475],\n       [1, 546.439],\n       [7, 546.49],\n       [15, 546.448],\n       [17, 546.409],\n       [19, 546.504],\n       [22, 546.495],\n       [24, 546.508],\n       [25, 546.428],\n       [26, 546.472],\n       [30, 546.481]]), 162: array([[3, 548.448],\n       [7, 548.406],\n       [9, 548.462],\n       [15, 548.417],\n       [17, 548.414],\n       [20, 548.439]]), 163: array([[3, 549.968],\n       [4, 549.986],\n       [9, 549.969],\n       [18, 550.018],\n       [20, 549.943],\n       [22, 550.04],\n       [24, 550.013]]), 164: array([[1, 550.939],\n       [7, 551.013],\n       [15, 551.075],\n       [17, 550.878],\n       [23, 550.942],\n       [25, 550.96],\n       [29, 550.935],\n       [33, 550.61],\n       [34, 550.65]]), 165: array([[1, 551.227],\n       [7, 551.201],\n       [13, 551.233],\n       [17, 551.214],\n       [25, 551.216],\n       [27, 551.388]]), 166: array([[15, 555.602],\n       [17, 555.404],\n       [21, 555.515],\n       [25, 555.448],\n       [26, 555.437],\n       [27, 555.232],\n       [34, 555.223]]), 167: array([[3, 556.244],\n       [7, 556.208],\n       [8, 556.202],\n       [9, 556.245],\n       [15, 556.056],\n       [21, 556.266],\n       [25, 556.109],\n       [28, 556.246],\n       [31, 555.987],\n       [34, 556.021]]), 169: array([[0, 565.754],\n       [3, 565.704],\n       [4, 565.688],\n       [5, 565.689],\n       [10, 565.736],\n       [11, 565.799],\n       [16, 565.773],\n       [17, 565.671],\n       [28, 565.676],\n       [32, 565.784]]), 171: array([[4, 568.488],\n       [5, 568.492],\n       [8, 568.463],\n       [10, 568.519],\n       [13, 568.52],\n       [14, 568.456],\n       [17, 568.468],\n       [27, 568.474],\n       [35, 568.468]]), 172: array([[3, 571.16],\n       [4, 571.164],\n       [6, 571.075],\n       [9, 571.142],\n       [15, 571.075],\n       [19, 571.109],\n       [20, 571.061],\n       [22, 571.111],\n       [23, 571.206],\n       [24, 571.121],\n       [26, 571.088],\n       [29, 571.116]]), 173: array([[6, 577.373],\n       [7, 577.479],\n       [8, 577.385],\n       [10, 577.418],\n       [14, 577.397],\n       [16, 577.355],\n       [26, 577.377],\n       [27, 577.402],\n       [35, 577.404]]), 174: array([[1, 593.786],\n       [7, 593.837],\n       [13, 594.063],\n       [15, 593.72],\n       [20, 593.815],\n       [21, 593.931],\n       [23, 593.759],\n       [25, 593.794],\n       [34, 593.887]]), 175: array([[0, 595.536],\n       [1, 595.489],\n       [2, 595.618],\n       [4, 595.625],\n       [5, 595.623],\n       [6, 595.591],\n       [7, 595.523],\n       [8, 595.594],\n       [11, 595.597],\n       [12, 595.558],\n       [14, 595.603],\n       [15, 595.342],\n       [17, 595.615],\n       [22, 595.559],\n       [25, 595.354],\n       [26, 595.596],\n       [27, 595.615],\n       [29, 595.562],\n       [35, 595.601]]), 177: array([[4, 605.803],\n       [8, 605.775],\n       [10, 605.839],\n       [11, 605.82],\n       [12, 605.816],\n       [14, 605.795],\n       [16, 605.809],\n       [27, 605.822],\n       [30, 605.88],\n       [31, 605.889],\n       [35, 605.862]]), 179: array([[2, 609.008],\n       [4, 609.02],\n       [5, 609.038],\n       [8, 609.009],\n       [13, 609.042],\n       [14, 609.031],\n       [30, 609.021],\n       [35, 609.033]]), 180: array([[0, 609.252],\n       [6, 609.244],\n       [13, 609.217],\n       [16, 609.233],\n       [22, 609.303],\n       [26, 609.293]]), 181: array([[0, 616.607],\n       [6, 616.602],\n       [8, 616.613],\n       [10, 616.631],\n       [14, 616.624],\n       [26, 616.654],\n       [27, 616.634],\n       [35, 616.651]]), 182: array([[0, 628.518],\n       [1, 628.455],\n       [7, 628.485],\n       [12, 628.54],\n       [15, 628.423],\n       [19, 628.545],\n       [26, 628.488],\n       [29, 628.546]]), 183: array([[1, 628.968],\n       [7, 628.972],\n       [12, 628.992],\n       [17, 629.05],\n       [21, 629.052],\n       [25, 629.018]]), 184: array([[1, 631.128],\n       [3, 631.181],\n       [7, 631.112],\n       [9, 630.86],\n       [10, 631.134],\n       [15, 630.96],\n       [18, 630.899],\n       [20, 630.936],\n       [22, 630.916],\n       [23, 630.907],\n       [24, 630.903],\n       [25, 631.081],\n       [29, 630.906],\n       [30, 631.146],\n       [31, 631.187],\n       [33, 631.109],\n       [35, 630.899]]), 186: array([[1, 635.345],\n       [7, 635.343],\n       [15, 635.317],\n       [30, 635.318],\n       [33, 635.283],\n       [34, 635.294]]), 187: array([[1, 637.292],\n       [3, 637.112],\n       [7, 637.424],\n       [8, 637.08],\n       [9, 637.102],\n       [10, 637.147],\n       [15, 637.531],\n       [17, 637.229],\n       [18, 637.149],\n       [20, 637.163],\n       [23, 637.161],\n       [29, 637.069],\n       [30, 637.126],\n       [31, 637.113]]), 188: array([[6, 663.695],\n       [8, 663.708],\n       [15, 663.688],\n       [18, 663.572],\n       [19, 663.663],\n       [20, 663.566],\n       [22, 663.59],\n       [23, 663.611],\n       [24, 663.58],\n       [27, 663.624],\n       [29, 663.616],\n       [35, 663.714]]), 189: array([[0, 663.88],\n       [1, 664.169],\n       [7, 664.181],\n       [11, 663.906],\n       [13, 664.175],\n       [15, 664.047],\n       [16, 663.843],\n       [17, 664.149],\n       [20, 664.055],\n       [21, 663.913],\n       [22, 663.905],\n       [24, 664.058],\n       [25, 664.175],\n       [26, 664.042],\n       [32, 663.898]]), 190: array([[0, 664.526],\n       [2, 664.569],\n       [6, 664.532],\n       [8, 664.524],\n       [14, 664.544],\n       [16, 664.505],\n       [17, 664.597],\n       [26, 664.805],\n       [27, 664.556],\n       [35, 664.552]]), 191: array([[0, 668.384],\n       [1, 668.475],\n       [4, 668.38],\n       [6, 668.596],\n       [8, 668.396],\n       [10, 668.33],\n       [11, 668.359],\n       [13, 668.567],\n       [14, 668.585],\n       [15, 668.535],\n       [21, 668.522],\n       [23, 668.606],\n       [24, 668.524],\n       [26, 668.577],\n       [32, 668.302],\n       [34, 668.389]]), 194: array([[1, 689.063],\n       [2, 689.256],\n       [3, 689.145],\n       [4, 689.254],\n       [5, 689.274],\n       [7, 689.082],\n       [8, 689.241],\n       [9, 689.147],\n       [13, 689.12],\n       [14, 689.252],\n       [15, 689.081],\n       [17, 689.268],\n       [18, 689.197],\n       [20, 689.129],\n       [22, 689.211],\n       [24, 689.199],\n       [25, 689.107],\n       [27, 689.271],\n       [29, 689.201],\n       [31, 689.103],\n       [35, 689.196]]), 195: array([[0, 697.777],\n       [2, 697.647],\n       [4, 697.713],\n       [5, 697.719],\n       [6, 697.796],\n       [7, 697.657],\n       [8, 697.646],\n       [11, 697.805],\n       [13, 697.708],\n       [14, 697.735],\n       [16, 697.795],\n       [17, 697.648],\n       [22, 697.821],\n       [28, 697.709],\n       [32, 697.748],\n       [35, 697.74]]), 196: array([[0, 698.754],\n       [2, 698.631],\n       [3, 699.147],\n       [4, 698.682],\n       [6, 698.762],\n       [8, 698.753],\n       [11, 698.752],\n       [13, 698.892],\n       [14, 698.764],\n       [15, 699.006],\n       [16, 698.782],\n       [17, 698.642],\n       [19, 699.167],\n       [21, 698.951],\n       [22, 698.791],\n       [28, 698.772],\n       [29, 698.974],\n       [33, 698.88],\n       [35, 698.766]]), 197: array([[2, 700.523],\n       [4, 700.534],\n       [5, 700.524],\n       [8, 700.504],\n       [9, 700.499],\n       [11, 700.546],\n       [12, 700.562],\n       [13, 700.521],\n       [14, 700.534],\n       [17, 700.516],\n       [35, 700.538]]), 198: array([[1, 701.727],\n       [2, 701.562],\n       [3, 701.783],\n       [4, 701.818],\n       [6, 701.618],\n       [7, 701.723],\n       [8, 701.554],\n       [9, 701.783],\n       [10, 701.603],\n       [11, 701.623],\n       [13, 701.645],\n       [14, 701.582],\n       [15, 701.634],\n       [17, 701.567],\n       [19, 701.663],\n       [20, 701.81],\n       [21, 701.661],\n       [23, 701.836],\n       [24, 701.83],\n       [26, 701.642],\n       [27, 701.601],\n       [30, 701.809],\n       [31, 701.794],\n       [35, 701.581]]), 199: array([[2, 703.002],\n       [4, 703.031],\n       [5, 703.022],\n       [8, 703.007],\n       [14, 703.024],\n       [16, 703.034],\n       [17, 703.012],\n       [35, 703.03]]), 200: array([[1, 711.129],\n       [6, 711.059],\n       [8, 711.062],\n       [10, 711.139],\n       [11, 710.963],\n       [12, 711.053],\n       [14, 711.073],\n       [15, 711.003],\n       [16, 711.088],\n       [20, 711.016],\n       [22, 711.044],\n       [26, 710.97],\n       [27, 711.079],\n       [30, 711.005],\n       [35, 711.07]]), 201: array([[0, 723.218],\n       [1, 723.19],\n       [7, 723.009],\n       [12, 723.125],\n       [13, 723.013],\n       [16, 723.07],\n       [17, 723.155],\n       [20, 723.051],\n       [25, 723.176],\n       [26, 723.216]]), 202: array([[0, 724.685],\n       [1, 724.593],\n       [3, 724.65],\n       [7, 724.588],\n       [9, 724.638],\n       [16, 724.606],\n       [20, 724.63],\n       [21, 724.788],\n       [31, 724.665]]), 203: array([[1, 726.443],\n       [7, 726.443],\n       [14, 726.439],\n       [15, 726.281],\n       [17, 726.27],\n       [23, 726.277],\n       [25, 726.408],\n       [28, 726.377],\n       [33, 726.309]]), 204: array([[1, 727.894],\n       [3, 727.947],\n       [6, 727.984],\n       [9, 727.938],\n       [18, 727.989],\n       [22, 728.011],\n       [24, 727.984],\n       [29, 727.993],\n       [34, 727.965],\n       [35, 727.978]]), 205: array([[0, 728.369],\n       [1, 728.332],\n       [7, 728.279],\n       [17, 728.341],\n       [19, 728.393],\n       [22, 728.39],\n       [25, 728.337]]), 207: array([[0, 743.256],\n       [2, 743.166],\n       [6, 743.236],\n       [8, 743.167],\n       [10, 743.229],\n       [11, 743.287],\n       [14, 743.211],\n       [16, 743.263],\n       [17, 743.192],\n       [27, 743.221],\n       [32, 743.252],\n       [33, 743.293],\n       [35, 743.212]]), 208: array([[2, 744.145],\n       [4, 744.123],\n       [5, 744.153],\n       [8, 744.157],\n       [13, 744.122],\n       [14, 744.158],\n       [17, 744.137],\n       [32, 744.159],\n       [35, 744.143]]), 209: array([[7, 749.42],\n       [9, 749.358],\n       [15, 749.247],\n       [18, 749.319],\n       [20, 749.266],\n       [22, 749.311],\n       [24, 749.342],\n       [29, 749.338],\n       [30, 749.403],\n       [34, 749.36],\n       [35, 749.354]]), 210: array([[6, 749.642],\n       [8, 749.649],\n       [11, 749.662],\n       [14, 749.655],\n       [16, 749.621],\n       [26, 749.683],\n       [27, 749.662],\n       [35, 749.663]]), 212: array([[0, 759.191],\n       [9, 759.211],\n       [15, 759.139],\n       [17, 759.154],\n       [18, 759.248],\n       [20, 759.255],\n       [22, 759.205],\n       [24, 759.221],\n       [26, 759.187],\n       [29, 759.259],\n       [30, 759.218]]), 213: array([[1, 760.209],\n       [7, 760.048],\n       [8, 760.043],\n       [11, 760.053],\n       [15, 759.889],\n       [17, 760.174],\n       [20, 760.073],\n       [25, 760.208],\n       [33, 759.839],\n       [34, 759.945],\n       [35, 760.044]]), 214: array([[1, 760.887],\n       [3, 760.945],\n       [7, 760.888],\n       [9, 760.946],\n       [25, 760.916],\n       [29, 760.908],\n       [31, 760.957],\n       [35, 760.956]]), 215: array([[1, 761.581],\n       [7, 761.478],\n       [8, 761.605],\n       [13, 761.62],\n       [15, 761.434],\n       [17, 761.581],\n       [23, 761.721],\n       [25, 761.578],\n       [29, 761.597]]), 216: array([[0, 769.525],\n       [2, 769.45],\n       [4, 769.512],\n       [5, 769.702],\n       [8, 769.513],\n       [9, 769.709],\n       [14, 769.525],\n       [16, 769.732],\n       [23, 769.703],\n       [32, 769.525],\n       [33, 769.775]]), 217: array([[4, 770.473],\n       [6, 770.443],\n       [8, 770.559],\n       [9, 770.485],\n       [13, 770.609],\n       [15, 770.433],\n       [16, 770.485],\n       [22, 770.466],\n       [27, 770.485],\n       [30, 770.587],\n       [32, 770.626]]), 219: array([[2, 773.038],\n       [4, 773.069],\n       [5, 773.081],\n       [8, 773.027],\n       [13, 773.076],\n       [14, 773.064],\n       [17, 773.03],\n       [28, 773.035],\n       [35, 773.053]]), 220: array([[2, 773.745],\n       [4, 773.896],\n       [6, 773.791],\n       [8, 773.75],\n       [11, 773.786],\n       [13, 773.88],\n       [14, 773.77],\n       [16, 773.762],\n       [17, 773.748],\n       [27, 773.772],\n       [28, 774.044],\n       [32, 773.894],\n       [35, 773.769]]), 221: array([[1, 792.627],\n       [3, 792.689],\n       [7, 792.635],\n       [9, 792.688],\n       [13, 792.687],\n       [30, 792.672],\n       [31, 792.693],\n       [34, 792.544],\n       [35, 792.684]]), 222: array([[1, 793.855],\n       [3, 793.963],\n       [7, 793.891],\n       [9, 793.963],\n       [15, 794.231],\n       [20, 793.94],\n       [25, 794.056],\n       [29, 793.916],\n       [30, 793.942],\n       [33, 794.341],\n       [34, 793.855]]), 225: array([[0, 799.484],\n       [1, 799.415],\n       [3, 799.537],\n       [7, 799.446],\n       [17, 799.404],\n       [21, 799.545],\n       [22, 799.515],\n       [24, 799.497],\n       [25, 799.431],\n       [26, 799.451],\n       [29, 799.402],\n       [30, 799.476],\n       [33, 799.374]]), 226: array([[1, 799.927],\n       [2, 800.114],\n       [3, 800.017],\n       [6, 800.108],\n       [7, 799.935],\n       [8, 800.093],\n       [9, 800.009],\n       [12, 800.065],\n       [14, 800.102],\n       [17, 800.124],\n       [18, 800.059],\n       [20, 799.994],\n       [22, 800.081],\n       [24, 800.062],\n       [26, 799.998],\n       [27, 800.109],\n       [29, 800.059],\n       [30, 799.986],\n       [31, 800.017],\n       [35, 800.018]]), 227: array([[0, 812.448],\n       [2, 812.364],\n       [4, 812.412],\n       [6, 812.478],\n       [8, 812.457],\n       [11, 812.459],\n       [12, 812.438],\n       [13, 812.372],\n       [14, 812.458],\n       [16, 812.475],\n       [22, 812.496],\n       [32, 812.434],\n       [35, 812.472]]), 228: array([[2, 812.921],\n       [4, 812.851],\n       [5, 812.996],\n       [10, 812.819],\n       [13, 812.958],\n       [15, 813.004],\n       [32, 812.818],\n       [34, 813.001]]), 229: array([[3, 814.092],\n       [4, 814.066],\n       [9, 814.067],\n       [18, 813.996],\n       [20, 814.031],\n       [22, 814.034],\n       [23, 814.021],\n       [24, 814.035],\n       [29, 814.041],\n       [31, 814.026]]), 230: array([[0, 815.353],\n       [2, 815.267],\n       [4, 815.311],\n       [8, 815.284],\n       [10, 815.373],\n       [12, 815.468],\n       [13, 815.322],\n       [14, 815.302],\n       [16, 815.368],\n       [17, 815.269],\n       [19, 815.44],\n       [22, 815.404],\n       [24, 815.461],\n       [26, 815.394],\n       [32, 815.362],\n       [33, 815.397],\n       [34, 815.291],\n       [35, 815.307]]), 231: array([[1, 816.649],\n       [2, 816.583],\n       [5, 816.62],\n       [8, 816.602],\n       [12, 816.584],\n       [13, 816.648],\n       [14, 816.616],\n       [17, 816.591],\n       [27, 816.628],\n       [35, 816.628]]), 232: array([[1, 836.917],\n       [3, 836.784],\n       [4, 836.823],\n       [7, 836.785],\n       [15, 836.973],\n       [16, 836.898],\n       [17, 836.778],\n       [20, 836.81],\n       [23, 837.097],\n       [25, 836.973],\n       [26, 836.789],\n       [30, 836.81],\n       [31, 836.806],\n       [33, 836.968],\n       [34, 836.99]]), 233: array([[0, 838.549],\n       [1, 838.505],\n       [3, 838.601],\n       [7, 838.507],\n       [9, 838.586],\n       [13, 838.535],\n       [30, 838.572],\n       [31, 838.604]]), 234: array([[1, 841.442],\n       [3, 841.513],\n       [4, 841.544],\n       [7, 841.467],\n       [9, 841.512],\n       [12, 841.577],\n       [18, 841.571],\n       [20, 841.499],\n       [24, 841.442],\n       [25, 841.474],\n       [26, 841.495],\n       [29, 841.531],\n       [30, 841.571],\n       [31, 841.52]]), 237: array([[0, 854.076],\n       [2, 854.012],\n       [4, 854.056],\n       [5, 854.044],\n       [6, 854.173],\n       [8, 854.131],\n       [9, 854.234],\n       [11, 854.27],\n       [13, 854.035],\n       [15, 854.264],\n       [19, 854.306],\n       [21, 854.245],\n       [29, 854.312],\n       [33, 854.212],\n       [35, 854.308]]), 238: array([[0, 854.839],\n       [4, 854.815],\n       [6, 854.851],\n       [8, 854.841],\n       [11, 854.85],\n       [12, 854.831],\n       [14, 854.822],\n       [27, 854.847],\n       [32, 854.836],\n       [35, 854.841]]), 239: array([[4, 855.131],\n       [5, 855.162],\n       [10, 855.173],\n       [13, 855.152],\n       [16, 855.194],\n       [17, 855.111]]), 240: array([[0, 856.044],\n       [4, 856.03],\n       [6, 856.084],\n       [8, 856.037],\n       [11, 856.1],\n       [14, 856.021],\n       [15, 856.119],\n       [16, 856.067],\n       [20, 856.12],\n       [22, 856.097],\n       [26, 856.107],\n       [31, 856.098],\n       [35, 856.024]]), 241: array([[3, 857.346],\n       [7, 857.403],\n       [9, 857.334],\n       [12, 857.31],\n       [17, 857.446],\n       [19, 857.313],\n       [20, 857.364],\n       [22, 857.415],\n       [24, 857.311],\n       [26, 857.411],\n       [29, 857.357],\n       [30, 857.382],\n       [31, 857.367],\n       [32, 857.361],\n       [34, 857.432]]), 242: array([[0, 858.057],\n       [2, 858.125],\n       [4, 858.032],\n       [5, 858.18],\n       [6, 858.075],\n       [8, 858.049],\n       [11, 858.059],\n       [13, 858.195],\n       [14, 858.061],\n       [16, 858.066],\n       [17, 858.133],\n       [27, 858.061],\n       [34, 858.144],\n       [35, 858.059]]), 243: array([[3, 867.112],\n       [6, 867.109],\n       [9, 867.104],\n       [10, 866.934],\n       [11, 866.959],\n       [13, 867.038],\n       [15, 866.98],\n       [16, 866.935],\n       [17, 866.975],\n       [19, 867.053],\n       [20, 866.967],\n       [21, 867.06],\n       [27, 867.042],\n       [31, 867.064],\n       [32, 866.977],\n       [33, 866.963]]), 244: array([[0, 867.655],\n       [3, 867.726],\n       [4, 867.713],\n       [9, 867.672],\n       [12, 867.801],\n       [15, 867.836],\n       [18, 867.79],\n       [20, 867.674],\n       [21, 867.723],\n       [22, 867.662],\n       [29, 867.785],\n       [30, 867.68],\n       [31, 867.703]]), 246: array([[1, 869.793],\n       [7, 869.787],\n       [15, 869.785],\n       [17, 869.784],\n       [25, 869.868],\n       [26, 869.876],\n       [27, 869.936],\n       [34, 869.881]]), 247: array([[0, 873.393],\n       [2, 873.458],\n       [4, 873.377],\n       [5, 873.482],\n       [6, 873.425],\n       [8, 873.41],\n       [12, 873.487],\n       [13, 873.472],\n       [14, 873.432],\n       [16, 873.406],\n       [17, 873.464],\n       [26, 873.399],\n       [27, 873.439],\n       [32, 873.379],\n       [34, 873.494],\n       [35, 873.44]]), 249: array([[0, 875.522],\n       [6, 875.501],\n       [11, 875.504],\n       [16, 875.486],\n       [26, 875.511],\n       [33, 875.523]]), 250: array([[0, 877.865],\n       [2, 877.52],\n       [4, 877.668],\n       [5, 877.647],\n       [6, 877.685],\n       [8, 877.667],\n       [9, 877.532],\n       [11, 877.686],\n       [12, 877.807],\n       [13, 877.65],\n       [15, 877.7],\n       [17, 877.667],\n       [19, 877.732],\n       [21, 877.628],\n       [22, 877.808],\n       [24, 877.863],\n       [26, 877.715],\n       [27, 877.686],\n       [29, 877.8],\n       [30, 877.733],\n       [32, 877.681],\n       [34, 877.906],\n       [35, 877.674]]), 251: array([[7, 878.123],\n       [9, 878.271],\n       [15, 878.208],\n       [18, 878.303],\n       [20, 878.315],\n       [25, 878.187],\n       [26, 878.244],\n       [27, 878.17],\n       [29, 878.223],\n       [30, 878.293]]), 252: array([[2, 879.054],\n       [4, 879.002],\n       [6, 879.112],\n       [8, 879.054],\n       [10, 879.103],\n       [11, 879.096],\n       [13, 879.026],\n       [14, 879.09],\n       [15, 879.126],\n       [16, 879.034],\n       [17, 879.013],\n       [27, 879.09],\n       [35, 879.081]]), 253: array([[0, 879.712],\n       [5, 879.859],\n       [10, 879.824],\n       [11, 879.72],\n       [16, 879.715],\n       [22, 879.739],\n       [31, 879.702],\n       [32, 879.717]]), 254: array([[0, 880.866],\n       [6, 880.908],\n       [8, 880.89],\n       [11, 880.914],\n       [12, 880.89],\n       [16, 880.891],\n       [27, 880.921],\n       [32, 880.866],\n       [35, 880.913]]), 255: array([[0, 882.242],\n       [1, 881.991],\n       [3, 882.023],\n       [6, 882.12],\n       [7, 881.983],\n       [8, 882.097],\n       [9, 882.023],\n       [11, 882.12],\n       [15, 881.975],\n       [16, 882.292],\n       [17, 881.987],\n       [20, 882.043],\n       [21, 882.032],\n       [24, 882.088],\n       [26, 882.358],\n       [29, 882.096],\n       [30, 882.016],\n       [31, 882.033],\n       [34, 881.984],\n       [35, 882.03]]), 257: array([[6, 885.563],\n       [8, 885.559],\n       [12, 885.571],\n       [15, 885.473],\n       [17, 885.488],\n       [19, 885.547],\n       [22, 885.596],\n       [24, 885.532],\n       [26, 885.57],\n       [33, 885.565]]), 258: array([[2, 886.565],\n       [5, 886.588],\n       [7, 886.603],\n       [8, 886.58],\n       [9, 886.648],\n       [12, 886.61],\n       [13, 886.591],\n       [14, 886.595],\n       [16, 886.573],\n       [17, 886.562],\n       [21, 886.676],\n       [24, 886.644],\n       [35, 886.602]]), 259: array([[0, 887.367],\n       [6, 887.406],\n       [8, 887.364],\n       [11, 887.402],\n       [15, 887.408],\n       [16, 887.384],\n       [20, 887.434],\n       [22, 887.422],\n       [32, 887.39]]), 260: array([[0, 888.023],\n       [2, 888.077],\n       [4, 888.013],\n       [6, 888.054],\n       [8, 888.043],\n       [11, 888.046],\n       [14, 888.026],\n       [17, 888.08],\n       [26, 888.031],\n       [27, 888.06],\n       [35, 888.05]]), 261: array([[0, 889.096],\n       [1, 889.273],\n       [6, 889.122],\n       [8, 889.108],\n       [9, 889.192],\n       [10, 889.151],\n       [11, 889.148],\n       [15, 889.288],\n       [16, 889.111],\n       [17, 889.261],\n       [19, 889.177],\n       [20, 889.24],\n       [21, 889.285],\n       [22, 889.562],\n       [26, 889.166],\n       [27, 889.284],\n       [29, 889.49],\n       [30, 889.125],\n       [31, 889.445],\n       [35, 889.132]]), 262: array([[2, 893.391],\n       [4, 893.475],\n       [5, 893.442],\n       [7, 893.413],\n       [8, 893.487],\n       [13, 893.382],\n       [14, 893.479],\n       [15, 893.481],\n       [17, 893.466],\n       [21, 893.426],\n       [27, 893.506],\n       [29, 893.431],\n       [35, 893.469]]), 263: array([[0, 894.811],\n       [6, 894.857],\n       [15, 894.88],\n       [16, 894.84],\n       [26, 894.882],\n       [30, 894.837]]), 264: array([[1, 895.589],\n       [7, 895.546],\n       [15, 895.594],\n       [17, 895.567],\n       [20, 895.602],\n       [22, 895.566],\n       [29, 895.612]]), 265: array([[4, 895.756],\n       [8, 895.76],\n       [11, 895.78],\n       [12, 895.823],\n       [13, 895.759],\n       [14, 895.767],\n       [16, 895.772],\n       [27, 895.788],\n       [35, 895.785]]), 266: array([[0, 897.758],\n       [4, 897.775],\n       [6, 897.808],\n       [8, 897.773],\n       [11, 897.796],\n       [14, 897.791],\n       [15, 897.816],\n       [16, 897.782],\n       [27, 897.806],\n       [32, 897.786],\n       [35, 897.801]]), 267: array([[0, 898.93],\n       [2, 898.779],\n       [4, 898.92],\n       [6, 898.937],\n       [8, 898.928],\n       [10, 898.991],\n       [13, 899.033],\n       [14, 898.933],\n       [16, 899.049],\n       [27, 898.952],\n       [32, 898.913],\n       [33, 899.055],\n       [35, 898.945]]), 268: array([[1, 899.805],\n       [3, 899.738],\n       [7, 899.809],\n       [9, 899.707],\n       [20, 899.793],\n       [25, 899.825],\n       [26, 899.787],\n       [30, 899.687],\n       [32, 899.695],\n       [34, 899.687]]), 269: array([[0, 900.576],\n       [6, 900.614],\n       [8, 900.615],\n       [12, 900.683],\n       [14, 900.642],\n       [15, 900.638],\n       [16, 900.613],\n       [19, 900.68],\n       [22, 900.693],\n       [24, 900.704],\n       [26, 900.659],\n       [27, 900.636],\n       [29, 900.688],\n       [32, 900.589],\n       [35, 900.647]]), 270: array([[0, 903.563],\n       [4, 903.561],\n       [8, 903.562],\n       [9, 903.589],\n       [14, 903.567],\n       [27, 903.573],\n       [32, 903.566],\n       [35, 903.573]]), 271: array([[2, 904.837],\n       [4, 904.779],\n       [5, 904.831],\n       [8, 904.837],\n       [11, 904.869],\n       [13, 904.818],\n       [14, 904.835],\n       [16, 904.824],\n       [17, 904.828],\n       [27, 904.875],\n       [28, 904.848],\n       [32, 904.785],\n       [35, 904.847]]), 272: array([[0, 905.135],\n       [8, 905.138],\n       [11, 905.172],\n       [15, 905.186],\n       [16, 905.155],\n       [32, 905.109]]), 273: array([[0, 906.099],\n       [1, 906.235],\n       [6, 906.119],\n       [7, 906.23],\n       [8, 906.1],\n       [9, 906.19],\n       [11, 906.146],\n       [15, 906.143],\n       [16, 906.109],\n       [20, 906.161],\n       [24, 906.185],\n       [25, 906.254],\n       [26, 906.146],\n       [29, 906.187],\n       [32, 906.068]]), 275: array([[1, 907.744],\n       [3, 907.617],\n       [4, 907.607],\n       [7, 907.73],\n       [9, 907.597],\n       [10, 907.586],\n       [15, 907.773],\n       [20, 907.585],\n       [23, 907.786],\n       [24, 907.567],\n       [25, 907.483],\n       [26, 907.643],\n       [30, 907.628],\n       [31, 907.469],\n       [32, 907.624],\n       [35, 907.669]]), 276: array([[15, 908.975],\n       [17, 909.1],\n       [18, 909.021],\n       [20, 909.03],\n       [22, 909.04],\n       [26, 908.984],\n       [30, 909.002]]), 277: array([[12, 909.389],\n       [13, 909.231],\n       [15, 909.339],\n       [20, 909.404],\n       [25, 909.276],\n       [26, 909.421],\n       [30, 909.35],\n       [35, 909.267]]), 278: array([[4, 909.704],\n       [6, 909.725],\n       [8, 909.704],\n       [10, 909.74],\n       [11, 909.735],\n       [14, 909.718],\n       [27, 909.742],\n       [35, 909.738]]), 279: array([[0, 911.411],\n       [1, 911.561],\n       [2, 911.269],\n       [4, 911.232],\n       [5, 911.269],\n       [6, 911.327],\n       [8, 911.215],\n       [11, 911.327],\n       [13, 911.249],\n       [14, 911.267],\n       [15, 911.353],\n       [16, 911.282],\n       [17, 911.262],\n       [19, 911.384],\n       [22, 911.393],\n       [24, 911.443],\n       [25, 911.58],\n       [26, 911.533],\n       [29, 911.385],\n       [30, 911.545],\n       [31, 911.49],\n       [32, 911.227],\n       [35, 911.272]]), 280: array([[0, 912.192],\n       [4, 912.204],\n       [6, 912.211],\n       [8, 912.185],\n       [11, 912.254],\n       [16, 912.212],\n       [22, 912.247],\n       [32, 912.205],\n       [35, 912.211]]), 281: array([[2, 913.859],\n       [6, 913.914],\n       [8, 913.828],\n       [11, 913.877],\n       [14, 913.845],\n       [17, 913.852],\n       [26, 913.925],\n       [27, 913.87],\n       [32, 913.832],\n       [35, 913.871]]), 282: array([[6, 914.57],\n       [11, 914.428],\n       [15, 914.458],\n       [16, 914.512],\n       [18, 914.561],\n       [20, 914.55],\n       [22, 914.575],\n       [24, 914.592],\n       [26, 914.522],\n       [33, 914.547],\n       [35, 914.594]]), 283: array([[1, 917.385],\n       [2, 917.559],\n       [4, 917.518],\n       [6, 917.525],\n       [7, 917.391],\n       [8, 917.524],\n       [9, 917.343],\n       [11, 917.306],\n       [14, 917.521],\n       [15, 917.322],\n       [16, 917.592],\n       [17, 917.396],\n       [20, 917.327],\n       [26, 917.302],\n       [27, 917.411],\n       [32, 917.488],\n       [33, 917.297],\n       [35, 917.533]]), 284: array([[6, 919.95],\n       [8, 919.952],\n       [14, 919.934],\n       [15, 919.96],\n       [26, 919.977],\n       [27, 919.937],\n       [35, 919.941]]), 285: array([[1, 938.249],\n       [7, 938.249],\n       [9, 938.325],\n       [13, 938.266],\n       [26, 938.299],\n       [29, 938.261],\n       [30, 938.313]]), 286: array([[1, 938.67],\n       [7, 938.689],\n       [15, 938.854],\n       [17, 938.698],\n       [23, 938.88],\n       [25, 938.692],\n       [30, 938.736],\n       [34, 938.877]]), 287: array([[1, 951.819],\n       [3, 951.78],\n       [4, 951.906],\n       [5, 951.967],\n       [6, 951.754],\n       [7, 951.85],\n       [9, 951.77],\n       [13, 951.826],\n       [15, 951.726],\n       [18, 951.739],\n       [20, 951.743],\n       [22, 951.748],\n       [24, 951.762],\n       [25, 951.857],\n       [29, 951.785],\n       [31, 951.759],\n       [33, 951.902],\n       [35, 951.803]]), 288: array([[2, 956.878],\n       [4, 956.807],\n       [6, 956.89],\n       [8, 956.874],\n       [10, 956.901],\n       [11, 956.886],\n       [13, 956.853],\n       [14, 956.866],\n       [15, 956.908],\n       [17, 956.875],\n       [27, 956.885],\n       [28, 956.895],\n       [32, 956.874],\n       [33, 956.839],\n       [35, 956.867]]), 289: array([[0, 957.717],\n       [2, 957.835],\n       [3, 957.807],\n       [5, 957.792],\n       [7, 957.993],\n       [8, 957.723],\n       [10, 957.724],\n       [11, 957.728],\n       [13, 957.792],\n       [14, 957.702],\n       [17, 957.815],\n       [19, 957.939],\n       [22, 957.942],\n       [24, 957.957],\n       [29, 957.945],\n       [30, 957.998],\n       [31, 957.969],\n       [32, 957.72],\n       [35, 957.727]]), 290: array([[11, 967.798],\n       [12, 967.738],\n       [15, 967.783],\n       [20, 967.778],\n       [21, 967.858],\n       [27, 967.747],\n       [33, 967.77],\n       [35, 967.775]]), 291: array([[0, 970.417],\n       [2, 970.489],\n       [4, 970.517],\n       [5, 970.514],\n       [8, 970.365],\n       [14, 970.454],\n       [16, 970.426],\n       [17, 970.505],\n       [27, 970.469],\n       [28, 970.515],\n       [32, 970.385],\n       [35, 970.468]]), 292: array([[1, 986.062],\n       [15, 986.096],\n       [21, 986.088],\n       [23, 986.076],\n       [25, 986.091],\n       [27, 986.081],\n       [29, 986.063]]), 293: array([[3, 986.556],\n       [7, 986.503],\n       [9, 986.544],\n       [30, 986.54],\n       [31, 986.552],\n       [34, 986.543]]), 294: array([[0, 1002.93],\n       [4, 1002.77],\n       [6, 1002.94],\n       [11, 1002.96],\n       [13, 1002.78],\n       [14, 1002.8],\n       [16, 1002.79]]), 296: array([[2, 1004.88],\n       [3, 1004.68],\n       [6, 1004.66],\n       [15, 1004.65],\n       [17, 1004.89],\n       [21, 1004.67],\n       [22, 1004.86],\n       [23, 1004.82],\n       [25, 1004.67],\n       [27, 1004.68],\n       [35, 1004.68]]), 297: array([[2, 1006],\n       [4, 1006.03],\n       [5, 1006.04],\n       [13, 1006.04],\n       [14, 1006.05],\n       [17, 1006.02],\n       [35, 1006.05]]), 298: array([[1, 1025.25],\n       [3, 1025.33],\n       [7, 1025.26],\n       [9, 1025.34],\n       [20, 1025.31],\n       [25, 1025.29],\n       [29, 1025.27],\n       [30, 1025.31]]), 299: array([[0, 1025.88],\n       [1, 1025.84],\n       [7, 1025.83],\n       [15, 1025.8],\n       [17, 1025.82],\n       [19, 1025.91],\n       [22, 1025.89],\n       [23, 1025.82],\n       [24, 1025.9],\n       [25, 1025.83],\n       [26, 1025.86],\n       [29, 1025.84],\n       [30, 1025.88]]), 301: array([[1, 1030.88],\n       [3, 1031.1],\n       [7, 1031.04],\n       [9, 1031.1],\n       [15, 1030.89],\n       [18, 1031.13],\n       [23, 1031.26],\n       [25, 1030.9],\n       [34, 1030.91],\n       [35, 1031.1]]), 302: array([[0, 1041.55],\n       [8, 1041.54],\n       [10, 1041.61],\n       [12, 1041.76],\n       [15, 1041.66],\n       [16, 1041.56],\n       [21, 1041.7],\n       [22, 1041.59],\n       [32, 1041.57],\n       [35, 1041.6]]), 303: array([[2, 1044.1],\n       [3, 1044.06],\n       [4, 1044.09],\n       [5, 1044.1],\n       [6, 1043.87],\n       [8, 1043.87],\n       [11, 1043.92],\n       [13, 1044.07],\n       [14, 1044.02],\n       [15, 1043.86],\n       [17, 1044.09],\n       [26, 1043.87],\n       [27, 1043.87],\n       [28, 1044.11],\n       [34, 1043.89],\n       [35, 1044.05]]), 304: array([[2, 1049.7],\n       [6, 1049.63],\n       [8, 1049.64],\n       [11, 1049.63],\n       [13, 1049.68],\n       [14, 1049.65],\n       [16, 1049.41],\n       [17, 1049.71],\n       [23, 1049.58],\n       [26, 1049.64],\n       [27, 1049.65],\n       [28, 1049.71],\n       [35, 1049.66]]), 306: array([[1, 1062.61],\n       [3, 1062.69],\n       [7, 1062.6],\n       [9, 1062.69],\n       [20, 1062.67],\n       [24, 1062.66],\n       [26, 1062.66],\n       [30, 1062.67],\n       [31, 1062.7],\n       [35, 1062.68]]), 307: array([[0, 1064.61],\n       [1, 1064.5],\n       [3, 1064.58],\n       [7, 1064.51],\n       [9, 1064.58],\n       [20, 1064.56],\n       [25, 1064.53],\n       [30, 1064.57],\n       [31, 1064.59]]), 308: array([[0, 1074.99],\n       [3, 1074.99],\n       [4, 1075.01],\n       [6, 1075.07],\n       [8, 1075.02],\n       [10, 1075.05],\n       [11, 1075.07],\n       [13, 1074.93],\n       [16, 1075.04],\n       [22, 1075.06],\n       [29, 1075.03]]), 309: array([[3, 1077.15],\n       [4, 1077.14],\n       [8, 1077.02],\n       [9, 1077.13],\n       [11, 1077.05],\n       [14, 1077.05],\n       [15, 1077.1],\n       [19, 1077.12],\n       [20, 1077.17],\n       [24, 1077.22],\n       [26, 1077.19],\n       [27, 1077.05],\n       [31, 1077.18],\n       [35, 1077.06]]), 310: array([[2, 1078.15],\n       [5, 1078.18],\n       [6, 1078.35],\n       [8, 1078.16],\n       [13, 1078.17],\n       [14, 1078.18],\n       [15, 1078.22],\n       [16, 1078.29],\n       [18, 1078.35],\n       [20, 1078.35],\n       [21, 1078.26],\n       [22, 1078.36],\n       [24, 1078.36],\n       [28, 1078.14],\n       [35, 1078.18]]), 311: array([[0, 1078.79],\n       [2, 1078.78],\n       [6, 1078.82],\n       [8, 1078.77],\n       [15, 1078.87],\n       [17, 1078.79],\n       [26, 1078.86],\n       [27, 1078.82],\n       [28, 1078.78],\n       [35, 1078.81]]), 312: array([[0, 1101.06],\n       [1, 1101],\n       [3, 1101.07],\n       [6, 1101.07],\n       [9, 1101.05],\n       [14, 1100.98],\n       [15, 1100.95],\n       [18, 1101.07],\n       [20, 1101.03],\n       [26, 1101.03],\n       [29, 1101.08],\n       [30, 1101.05],\n       [35, 1101.03]]), 313: array([[1, 1101.98],\n       [7, 1101.98],\n       [15, 1101.94],\n       [20, 1102.02],\n       [23, 1101.94],\n       [25, 1102.01],\n       [29, 1101.99],\n       [30, 1102.02]]), 314: array([[1, 1102.96],\n       [6, 1103.05],\n       [7, 1102.91],\n       [8, 1103.04],\n       [9, 1103],\n       [11, 1103.04],\n       [15, 1102.84],\n       [26, 1102.99],\n       [27, 1103.06],\n       [30, 1102.98],\n       [34, 1102.84],\n       [35, 1103.05]]), 315: array([[2, 1110.28],\n       [5, 1110.27],\n       [13, 1110.25],\n       [14, 1110.26],\n       [16, 1110.32],\n       [35, 1110.28]]), 316: array([[0, 1110.76],\n       [6, 1110.77],\n       [8, 1110.76],\n       [12, 1110.82],\n       [16, 1110.76],\n       [22, 1110.8],\n       [27, 1110.84],\n       [30, 1110.81],\n       [31, 1110.77],\n       [33, 1110.83],\n       [35, 1110.82]]), 318: array([[0, 1112],\n       [4, 1111.97],\n       [5, 1111.98],\n       [8, 1112],\n       [11, 1112],\n       [13, 1111.94],\n       [14, 1111.98],\n       [16, 1112.04],\n       [17, 1111.95],\n       [18, 1112.08],\n       [20, 1112.08],\n       [21, 1112.1],\n       [22, 1112.1],\n       [24, 1112.1],\n       [27, 1112.01],\n       [29, 1112.1],\n       [35, 1111.99]]), 319: array([[2, 1113.05],\n       [6, 1113.11],\n       [8, 1113.1],\n       [12, 1113.05],\n       [14, 1113.1],\n       [16, 1113.09],\n       [17, 1113.07],\n       [26, 1113.14],\n       [27, 1113.1],\n       [35, 1113.1]]), 320: array([[0, 1113.87],\n       [2, 1114.08],\n       [3, 1114.08],\n       [5, 1114.09],\n       [6, 1114.07],\n       [8, 1114.07],\n       [9, 1113.89],\n       [11, 1114.07],\n       [14, 1114.07],\n       [16, 1113.92],\n       [17, 1114.09],\n       [27, 1114.09],\n       [28, 1114.08],\n       [34, 1113.99],\n       [35, 1114.08]]), 321: array([[6, 1121.51],\n       [8, 1121.52],\n       [11, 1121.28],\n       [12, 1121.56],\n       [15, 1121.53],\n       [16, 1121.48],\n       [22, 1121.25],\n       [26, 1121.13],\n       [27, 1121.53],\n       [30, 1121.09],\n       [33, 1121.39],\n       [34, 1121.28],\n       [35, 1121.53]]), 322: array([[1, 1131.41],\n       [3, 1131.49],\n       [7, 1131.42],\n       [9, 1131.5],\n       [11, 1131.43],\n       [25, 1131.45],\n       [31, 1131.51],\n       [35, 1131.54]]), 324: array([[1, 1133.1],\n       [7, 1133.1],\n       [8, 1133.18],\n       [11, 1133.25],\n       [12, 1133.14],\n       [15, 1133.11],\n       [17, 1133.24],\n       [23, 1133.32],\n       [25, 1133.14],\n       [27, 1133.13],\n       [29, 1133.27]]), 325: array([[1, 1134.47],\n       [6, 1134.57],\n       [7, 1134.48],\n       [8, 1134.56],\n       [9, 1134.53],\n       [15, 1134.65],\n       [20, 1134.51],\n       [23, 1134.67],\n       [26, 1134.52],\n       [29, 1134.82],\n       [35, 1134.52]]), 326: array([[0, 1137.27],\n       [1, 1136.98],\n       [2, 1137.45],\n       [3, 1137.44],\n       [7, 1137.19],\n       [9, 1137.43],\n       [11, 1137.13],\n       [12, 1137.39],\n       [15, 1137.06],\n       [17, 1136.96],\n       [18, 1137.47],\n       [20, 1137.43],\n       [21, 1137.28],\n       [22, 1137.5],\n       [23, 1136.95],\n       [24, 1137.48],\n       [25, 1137.24],\n       [26, 1137.06],\n       [34, 1137.28]]), 328: array([[1, 1150.38],\n       [3, 1150.42],\n       [7, 1150.38],\n       [9, 1150.41],\n       [18, 1150.45],\n       [20, 1150.4],\n       [21, 1150.42],\n       [26, 1150.24],\n       [29, 1150.41],\n       [35, 1150.41]]), 329: array([[0, 1151.68],\n       [6, 1151.73],\n       [11, 1151.77],\n       [12, 1151.72],\n       [19, 1151.71],\n       [22, 1151.7],\n       [24, 1151.72],\n       [26, 1151.66],\n       [27, 1151.69],\n       [29, 1151.71]]), 330: array([[1, 1151.99],\n       [3, 1152.07],\n       [7, 1152.01],\n       [9, 1152.05],\n       [13, 1151.99],\n       [15, 1152.01],\n       [17, 1151.97],\n       [20, 1152.03],\n       [26, 1152.04],\n       [30, 1152.04],\n       [34, 1152.04]]), 331: array([[0, 1152.62],\n       [2, 1152.73],\n       [6, 1152.69],\n       [8, 1152.7],\n       [11, 1152.69],\n       [12, 1152.66],\n       [14, 1152.71],\n       [15, 1152.69],\n       [17, 1152.61],\n       [19, 1152.65],\n       [22, 1152.63],\n       [25, 1152.75],\n       [26, 1152.56],\n       [27, 1152.72],\n       [28, 1152.73],\n       [29, 1152.66],\n       [30, 1152.58],\n       [34, 1152.62],\n       [35, 1152.71]]), 332: array([[12, 1153.46],\n       [18, 1153.45],\n       [20, 1153.45],\n       [21, 1153.48],\n       [22, 1153.48],\n       [24, 1153.45],\n       [26, 1153.48]]), 333: array([[3, 1153.89],\n       [4, 1153.87],\n       [7, 1153.83],\n       [9, 1153.88],\n       [12, 1153.9],\n       [24, 1153.93],\n       [29, 1153.91],\n       [30, 1153.85],\n       [31, 1153.9]]), 335: array([[1, 1158.85],\n       [3, 1158.96],\n       [4, 1158.88],\n       [7, 1158.89],\n       [9, 1158.96],\n       [15, 1158.87],\n       [17, 1158.84],\n       [18, 1159.01],\n       [20, 1158.92],\n       [22, 1159.03],\n       [23, 1159.02],\n       [24, 1159.03],\n       [25, 1158.84],\n       [26, 1158.88],\n       [27, 1159.08],\n       [29, 1159.01],\n       [30, 1158.95],\n       [31, 1158.91],\n       [32, 1158.9],\n       [34, 1158.88],\n       [35, 1158.95]]), 337: array([[5, 1169.27],\n       [8, 1169.17],\n       [10, 1169.25],\n       [12, 1169.22],\n       [14, 1169.17],\n       [16, 1169.19],\n       [22, 1169.22],\n       [27, 1169.16],\n       [33, 1169.26],\n       [35, 1169.24]]), 338: array([[0, 1171.2],\n       [2, 1171.12],\n       [5, 1171.17],\n       [6, 1171.21],\n       [8, 1171.16],\n       [11, 1171.18],\n       [14, 1171.17],\n       [16, 1171.21],\n       [17, 1171.14],\n       [27, 1171.13],\n       [35, 1171.17]]), 340: array([[1, 1189.86],\n       [3, 1189.94],\n       [7, 1189.88],\n       [9, 1189.92],\n       [20, 1189.91],\n       [31, 1189.95]]), 341: array([[1, 1191.68],\n       [3, 1191.68],\n       [7, 1191.69],\n       [9, 1191.86],\n       [18, 1191.8],\n       [20, 1191.73],\n       [21, 1191.81],\n       [24, 1191.79],\n       [26, 1191.78],\n       [29, 1191.84],\n       [30, 1191.82],\n       [31, 1191.77],\n       [32, 1191.79],\n       [35, 1191.82]]), 342: array([[0, 1204.52],\n       [2, 1204.72],\n       [4, 1204.47],\n       [5, 1204.75],\n       [6, 1204.54],\n       [8, 1204.52],\n       [11, 1204.54],\n       [13, 1204.69],\n       [14, 1204.5],\n       [16, 1204.48],\n       [17, 1204.75],\n       [27, 1204.57],\n       [28, 1204.53],\n       [32, 1204.53],\n       [34, 1204.7],\n       [35, 1204.53]]), 344: array([[6, 1206.27],\n       [8, 1206.27],\n       [11, 1206.23],\n       [15, 1206.34],\n       [16, 1206.29],\n       [18, 1206.35],\n       [20, 1206.35],\n       [22, 1206.24],\n       [24, 1206.36],\n       [26, 1206.35],\n       [35, 1206.25]]), 346: array([[6, 1221.88],\n       [8, 1221.88],\n       [11, 1221.86],\n       [14, 1221.89],\n       [16, 1221.87],\n       [18, 1222.14],\n       [21, 1222.14],\n       [22, 1221.71],\n       [26, 1221.87],\n       [27, 1221.9],\n       [33, 1221.87],\n       [35, 1221.89]]), 347: array([[15, 1222.9],\n       [17, 1222.97],\n       [19, 1222.98],\n       [20, 1222.99],\n       [27, 1222.91],\n       [31, 1222.95],\n       [32, 1222.97],\n       [35, 1222.92]]), 348: array([[1, 1224.14],\n       [6, 1223.88],\n       [7, 1224.13],\n       [8, 1223.89],\n       [9, 1224.11],\n       [11, 1223.87],\n       [12, 1224.08],\n       [14, 1224.04],\n       [15, 1224.15],\n       [17, 1224.16],\n       [19, 1224.1],\n       [20, 1223.78],\n       [21, 1224.1],\n       [22, 1223.86],\n       [27, 1224.05],\n       [29, 1224.1],\n       [30, 1224.14],\n       [33, 1223.96],\n       [34, 1223.89],\n       [35, 1224.03]]), 349: array([[0, 1245.36],\n       [2, 1245.44],\n       [4, 1245.32],\n       [6, 1245.4],\n       [7, 1245.34],\n       [8, 1245.41],\n       [9, 1245.43],\n       [11, 1245.41],\n       [12, 1245.38],\n       [14, 1245.42],\n       [15, 1245.4],\n       [17, 1245.32],\n       [19, 1245.39],\n       [22, 1245.36],\n       [26, 1245.34],\n       [27, 1245.43],\n       [28, 1245.43],\n       [29, 1245.39],\n       [35, 1245.42]]), 350: array([[1, 1247.12],\n       [7, 1247.18],\n       [20, 1247.2],\n       [25, 1247.19],\n       [30, 1247.2],\n       [35, 1247.2]]), 351: array([[1, 1247.96],\n       [3, 1248.05],\n       [4, 1248.06],\n       [6, 1248.08],\n       [7, 1247.97],\n       [9, 1248.04],\n       [15, 1247.89],\n       [18, 1248.08],\n       [20, 1248.03],\n       [27, 1247.99],\n       [29, 1247.98],\n       [34, 1247.92]]), 353: array([[0, 1266.09],\n       [2, 1265.99],\n       [5, 1266.05],\n       [8, 1265.97],\n       [11, 1266.12],\n       [13, 1266.03],\n       [14, 1266.05],\n       [15, 1265.9],\n       [16, 1266.09],\n       [17, 1266.01],\n       [19, 1265.93],\n       [22, 1265.93],\n       [23, 1266.08],\n       [28, 1265.99],\n       [29, 1265.94],\n       [32, 1266.11],\n       [33, 1265.9],\n       [35, 1266.05]]), 354: array([[0, 1266.84],\n       [6, 1266.86],\n       [8, 1266.82],\n       [9, 1267.02],\n       [14, 1267.02],\n       [15, 1266.94],\n       [16, 1266.84],\n       [21, 1266.97],\n       [23, 1267.03],\n       [26, 1267.05],\n       [27, 1266.98],\n       [35, 1266.83]]), 355: array([[0, 1268.04],\n       [2, 1268.12],\n       [3, 1268.04],\n       [4, 1268.04],\n       [5, 1268.17],\n       [6, 1268.01],\n       [8, 1267.99],\n       [12, 1268.11],\n       [14, 1268.01],\n       [16, 1268.04],\n       [17, 1268.11],\n       [27, 1268.01],\n       [30, 1268.02],\n       [32, 1268.05],\n       [35, 1268.02]]), 356: array([[2, 1276.41],\n       [3, 1276.6],\n       [5, 1276.62],\n       [6, 1276.79],\n       [7, 1276.74],\n       [8, 1276.46],\n       [12, 1276.79],\n       [13, 1276.47],\n       [14, 1276.5],\n       [17, 1276.43],\n       [18, 1276.8],\n       [20, 1276.81],\n       [21, 1276.83],\n       [22, 1276.82],\n       [24, 1276.82],\n       [26, 1276.82],\n       [27, 1276.74],\n       [28, 1276.44],\n       [29, 1276.82],\n       [35, 1276.61]]), 357: array([[0, 1280.98],\n       [1, 1281.08],\n       [3, 1281.4],\n       [6, 1280.99],\n       [7, 1281.05],\n       [8, 1280.98],\n       [9, 1281.39],\n       [12, 1280.96],\n       [16, 1280.99],\n       [17, 1281.19],\n       [18, 1281.31],\n       [19, 1281.33],\n       [20, 1281.19],\n       [21, 1281.22],\n       [22, 1281.36],\n       [24, 1281.38],\n       [25, 1281.33],\n       [27, 1281.15],\n       [29, 1281.33],\n       [30, 1281.4],\n       [31, 1281.41],\n       [32, 1280.99],\n       [33, 1281.31],\n       [35, 1280.93]]), 358: array([[0, 1282.39],\n       [6, 1282.4],\n       [8, 1282.38],\n       [14, 1282.4],\n       [15, 1282.43],\n       [16, 1282.39],\n       [23, 1282.39],\n       [27, 1282.41],\n       [32, 1282.36],\n       [35, 1282.35]]), 359: array([[2, 1283.33],\n       [3, 1283.42],\n       [5, 1283.29],\n       [6, 1283.37],\n       [8, 1283.33],\n       [10, 1283.3],\n       [12, 1283.4],\n       [14, 1283.36],\n       [15, 1283.39],\n       [19, 1283.42],\n       [22, 1283.43],\n       [27, 1283.37],\n       [28, 1283.34],\n       [29, 1283.43],\n       [33, 1283.39],\n       [35, 1283.34]]), 360: array([[0, 1284.95],\n       [2, 1284.91],\n       [4, 1284.74],\n       [5, 1284.92],\n       [6, 1284.88],\n       [8, 1284.89],\n       [12, 1284.85],\n       [13, 1284.75],\n       [14, 1284.77],\n       [17, 1284.91],\n       [26, 1284.86],\n       [27, 1284.9],\n       [28, 1284.92],\n       [32, 1284.78],\n       [33, 1284.86],\n       [35, 1284.77]]), 361: array([[0, 1285.38],\n       [1, 1285.37],\n       [3, 1285.42],\n       [4, 1285.46],\n       [7, 1285.38],\n       [9, 1285.41],\n       [15, 1285.37],\n       [17, 1285.4],\n       [18, 1285.48],\n       [20, 1285.41],\n       [21, 1285.44],\n       [22, 1285.51],\n       [24, 1285.49],\n       [25, 1285.39],\n       [26, 1285.4],\n       [29, 1285.43],\n       [31, 1285.42],\n       [32, 1285.46]]), 362: array([[2, 1286.56],\n       [3, 1286.82],\n       [4, 1286.55],\n       [5, 1286.56],\n       [7, 1286.62],\n       [8, 1286.56],\n       [10, 1286.86],\n       [14, 1286.57],\n       [19, 1286.84],\n       [20, 1286.76],\n       [21, 1286.57],\n       [25, 1286.64],\n       [28, 1286.57],\n       [33, 1286.92],\n       [35, 1286.57]]), 363: array([[2, 1288.73],\n       [3, 1288.71],\n       [4, 1288.59],\n       [5, 1288.72],\n       [8, 1288.72],\n       [10, 1288.75],\n       [13, 1288.7],\n       [14, 1288.72],\n       [17, 1288.73],\n       [28, 1288.74],\n       [29, 1288.58],\n       [32, 1288.58],\n       [35, 1288.7]]), 364: array([[0, 1289.3],\n       [8, 1289.34],\n       [12, 1289.37],\n       [14, 1289.35],\n       [16, 1289.32],\n       [22, 1289.39],\n       [26, 1289.39],\n       [29, 1289.39],\n       [32, 1289.34],\n       [33, 1289.38],\n       [35, 1289.33]]), 365: array([[2, 1289.84],\n       [4, 1289.81],\n       [5, 1289.86],\n       [8, 1289.87],\n       [13, 1289.81],\n       [14, 1289.87],\n       [27, 1289.89],\n       [28, 1289.84],\n       [32, 1289.82],\n       [35, 1289.89]]), 366: array([[0, 1296.49],\n       [1, 1296.58],\n       [2, 1296.36],\n       [4, 1296.35],\n       [5, 1296.31],\n       [6, 1296.42],\n       [7, 1296.57],\n       [8, 1296.38],\n       [10, 1296.29],\n       [12, 1296.44],\n       [13, 1296.37],\n       [14, 1296.4],\n       [15, 1296.61],\n       [17, 1296.33],\n       [19, 1296.46],\n       [20, 1296.56],\n       [21, 1296.48],\n       [22, 1296.47],\n       [24, 1296.53],\n       [25, 1296.4],\n       [27, 1296.38],\n       [28, 1296.37],\n       [29, 1296.47],\n       [30, 1296.42],\n       [33, 1296.44],\n       [35, 1296.32]]), 367: array([[0, 1297.27],\n       [6, 1297.29],\n       [8, 1297.31],\n       [11, 1297.3],\n       [16, 1297.28],\n       [22, 1297.33],\n       [35, 1297.25]]), 368: array([[0, 1299.71],\n       [2, 1299.55],\n       [3, 1299.54],\n       [5, 1299.55],\n       [8, 1299.54],\n       [10, 1299.6],\n       [11, 1299.54],\n       [12, 1299.62],\n       [13, 1299.58],\n       [16, 1299.54],\n       [17, 1299.56],\n       [18, 1299.75],\n       [19, 1299.77],\n       [20, 1299.75],\n       [22, 1299.64],\n       [24, 1299.76],\n       [28, 1299.57],\n       [29, 1299.77],\n       [30, 1299.63],\n       [34, 1299.67],\n       [35, 1299.55]]), 369: array([[0, 1300.45],\n       [1, 1300.52],\n       [2, 1300.27],\n       [3, 1300.28],\n       [6, 1300.32],\n       [7, 1300.54],\n       [8, 1300.28],\n       [10, 1300.51],\n       [14, 1300.31],\n       [15, 1300.34],\n       [17, 1300.28],\n       [21, 1300.49],\n       [23, 1300.54],\n       [24, 1300.47],\n       [25, 1300.53],\n       [26, 1300.36],\n       [27, 1300.28],\n       [28, 1300.28],\n       [33, 1300.36],\n       [34, 1300.56],\n       [35, 1300.32]]), 370: array([[0, 1301.99],\n       [6, 1302.01],\n       [7, 1302.19],\n       [8, 1302.01],\n       [10, 1302.2],\n       [11, 1302.16],\n       [16, 1301.97],\n       [20, 1302.17],\n       [21, 1302.01],\n       [32, 1302.18],\n       [35, 1301.99]]), 371: array([[2, 1302.95],\n       [3, 1302.92],\n       [4, 1302.93],\n       [5, 1302.95],\n       [8, 1302.96],\n       [11, 1302.99],\n       [13, 1302.93],\n       [14, 1302.96],\n       [17, 1302.97],\n       [25, 1302.96],\n       [27, 1302.98],\n       [28, 1302.95],\n       [32, 1302.9],\n       [34, 1302.93],\n       [35, 1302.93]]), 372: array([[2, 1303.77],\n       [5, 1303.78],\n       [8, 1303.8],\n       [11, 1303.93],\n       [12, 1303.85],\n       [14, 1303.8],\n       [17, 1303.79],\n       [18, 1303.88],\n       [19, 1303.87],\n       [20, 1303.87],\n       [22, 1303.88],\n       [26, 1303.87],\n       [27, 1303.91],\n       [28, 1303.8],\n       [33, 1303.93],\n       [35, 1303.79]]), 373: array([[0, 1304.76],\n       [2, 1304.76],\n       [4, 1304.74],\n       [5, 1304.76],\n       [8, 1304.75],\n       [9, 1304.76],\n       [12, 1304.74],\n       [14, 1304.75],\n       [17, 1304.77],\n       [28, 1304.77],\n       [32, 1304.75],\n       [35, 1304.75]]), 374: array([[0, 1305.61],\n       [2, 1305.36],\n       [3, 1305.67],\n       [6, 1305.46],\n       [8, 1305.47],\n       [9, 1305.73],\n       [11, 1305.47],\n       [12, 1305.57],\n       [14, 1305.49],\n       [16, 1305.44],\n       [17, 1305.72],\n       [19, 1305.54],\n       [20, 1305.67],\n       [21, 1305.58],\n       [22, 1305.57],\n       [24, 1305.63],\n       [25, 1305.73],\n       [26, 1305.55],\n       [27, 1305.49],\n       [29, 1305.56],\n       [31, 1305.67],\n       [32, 1305.69],\n       [35, 1305.5]]), 375: array([[2, 1306.68],\n       [4, 1306.53],\n       [5, 1306.65],\n       [6, 1306.73],\n       [7, 1306.65],\n       [8, 1306.55],\n       [10, 1306.62],\n       [11, 1306.56],\n       [13, 1306.67],\n       [14, 1306.67],\n       [15, 1306.74],\n       [17, 1306.68],\n       [20, 1306.77],\n       [26, 1306.76],\n       [27, 1306.72],\n       [28, 1306.68],\n       [32, 1306.52],\n       [33, 1306.76],\n       [35, 1306.55]]), 376: array([[2, 1307.93],\n       [4, 1307.93],\n       [5, 1307.93],\n       [13, 1307.91],\n       [14, 1307.94],\n       [15, 1307.91],\n       [35, 1307.93]]), 377: array([[0, 1308.41],\n       [2, 1308.41],\n       [4, 1308.4],\n       [5, 1308.4],\n       [6, 1308.47],\n       [8, 1308.43],\n       [9, 1308.42],\n       [11, 1308.46],\n       [13, 1308.41],\n       [14, 1308.46],\n       [17, 1308.43],\n       [19, 1308.52],\n       [22, 1308.54],\n       [26, 1308.52],\n       [27, 1308.43],\n       [28, 1308.41],\n       [33, 1308.52],\n       [35, 1308.43]]), 378: array([[0, 1309.08],\n       [4, 1309.06],\n       [8, 1309.11],\n       [10, 1309.11],\n       [11, 1309.14],\n       [14, 1309.1],\n       [15, 1309.27],\n       [16, 1309.1],\n       [20, 1309.27],\n       [22, 1309.13],\n       [26, 1309.24],\n       [30, 1309.11],\n       [31, 1309.1],\n       [32, 1309.07],\n       [33, 1309.15],\n       [35, 1309.09]]), 379: array([[1, 1311.11],\n       [9, 1311.08],\n       [13, 1311.12],\n       [15, 1311.14],\n       [24, 1311.09],\n       [25, 1311.12],\n       [34, 1311.13]]), 380: array([[2, 1311.85],\n       [4, 1311.84],\n       [5, 1311.85],\n       [8, 1311.87],\n       [11, 1311.89],\n       [12, 1311.92],\n       [14, 1311.9],\n       [15, 1311.88],\n       [16, 1311.85],\n       [17, 1311.85],\n       [26, 1311.93],\n       [27, 1311.87],\n       [28, 1311.86],\n       [35, 1311.87]]), 381: array([[0, 1312.71],\n       [6, 1312.83],\n       [9, 1312.72],\n       [11, 1312.74],\n       [12, 1312.7],\n       [14, 1312.8],\n       [16, 1312.76],\n       [19, 1312.76],\n       [21, 1312.8],\n       [25, 1312.84],\n       [26, 1312.76],\n       [27, 1312.77],\n       [31, 1312.7],\n       [33, 1312.72]]), 382: array([[2, 1314.8],\n       [4, 1314.77],\n       [5, 1314.8],\n       [6, 1314.85],\n       [8, 1314.81],\n       [11, 1314.83],\n       [12, 1314.9],\n       [13, 1314.78],\n       [14, 1314.84],\n       [15, 1314.87],\n       [16, 1314.84],\n       [19, 1314.91],\n       [22, 1314.91],\n       [27, 1314.85],\n       [28, 1314.79],\n       [29, 1314.92],\n       [33, 1314.88],\n       [35, 1314.83]]), 383: array([[0, 1317.11],\n       [2, 1316.88],\n       [3, 1316.99],\n       [4, 1316.86],\n       [5, 1316.87],\n       [6, 1317.06],\n       [8, 1316.87],\n       [9, 1317],\n       [13, 1316.85],\n       [14, 1316.87],\n       [17, 1316.87],\n       [18, 1317.06],\n       [20, 1317.07],\n       [21, 1317.08],\n       [24, 1317.06],\n       [28, 1316.88],\n       [29, 1317.05],\n       [31, 1317.02],\n       [32, 1316.88],\n       [35, 1316.88]]), 384: array([[0, 1318.46],\n       [2, 1318.31],\n       [4, 1318.31],\n       [5, 1318.35],\n       [6, 1318.4],\n       [8, 1318.35],\n       [12, 1318.41],\n       [13, 1318.33],\n       [14, 1318.36],\n       [17, 1318.34],\n       [19, 1318.44],\n       [22, 1318.44],\n       [26, 1318.42],\n       [27, 1318.35],\n       [28, 1318.33],\n       [29, 1318.43],\n       [33, 1318.38],\n       [35, 1318.36]]), 385: array([[0, 1320.41],\n       [1, 1320.62],\n       [2, 1320.58],\n       [5, 1320.62],\n       [6, 1320.71],\n       [8, 1320.45],\n       [9, 1320.66],\n       [11, 1320.71],\n       [12, 1320.66],\n       [13, 1320.64],\n       [14, 1320.4],\n       [16, 1320.37],\n       [17, 1320.66],\n       [27, 1320.7],\n       [28, 1320.66],\n       [32, 1320.42],\n       [35, 1320.38]]), 386: array([[1, 1325.32],\n       [3, 1325.26],\n       [7, 1325.31],\n       [9, 1325.25],\n       [12, 1325.28],\n       [15, 1325.33],\n       [18, 1325.19],\n       [20, 1325.22],\n       [22, 1325.23],\n       [24, 1325.23],\n       [25, 1325.31],\n       [26, 1325.25],\n       [29, 1325.22],\n       [30, 1325.23],\n       [31, 1325.26],\n       [35, 1325.29]]), 387: array([[0, 1337.47],\n       [1, 1337.17],\n       [3, 1337.48],\n       [7, 1337.2],\n       [9, 1337.48],\n       [12, 1337.5],\n       [16, 1337.52],\n       [17, 1337.31],\n       [21, 1337.33],\n       [24, 1337.47],\n       [25, 1337.28],\n       [26, 1337.45],\n       [27, 1337.42],\n       [29, 1337.5]]), 388: array([[1, 1338.04],\n       [3, 1338.09],\n       [7, 1338.01],\n       [8, 1338.04],\n       [9, 1338.09],\n       [13, 1338.03],\n       [20, 1338.06],\n       [26, 1338.06],\n       [31, 1338.1]]), 389: array([[2, 1346.6],\n       [3, 1346.63],\n       [5, 1346.62],\n       [11, 1346.6],\n       [13, 1346.61],\n       [14, 1346.63],\n       [27, 1346.6],\n       [35, 1346.63]]), 390: array([[2, 1348.85],\n       [5, 1348.8],\n       [8, 1348.79],\n       [12, 1348.84],\n       [13, 1348.83],\n       [17, 1348.79],\n       [28, 1348.87]]), 391: array([[2, 1349.33],\n       [5, 1349.3],\n       [6, 1349.26],\n       [8, 1349.27],\n       [10, 1349.29],\n       [11, 1349.31],\n       [13, 1349.35],\n       [14, 1349.26],\n       [16, 1349.22],\n       [17, 1349.35],\n       [23, 1349.24],\n       [31, 1349.28],\n       [33, 1349.29],\n       [35, 1349.26]]), 392: array([[6, 1350.63],\n       [8, 1350.59],\n       [9, 1350.61],\n       [10, 1350.64],\n       [12, 1350.67],\n       [14, 1350.62],\n       [15, 1350.65],\n       [19, 1350.68],\n       [20, 1350.69],\n       [22, 1350.7],\n       [23, 1350.64],\n       [26, 1350.68],\n       [27, 1350.62],\n       [29, 1350.7],\n       [34, 1350.62],\n       [35, 1350.61]]), 393: array([[2, 1352.23],\n       [4, 1352.27],\n       [5, 1352.22],\n       [7, 1352.5],\n       [8, 1352.33],\n       [12, 1352.46],\n       [13, 1352.22],\n       [27, 1352.39],\n       [32, 1352.51],\n       [35, 1352.23]]), 394: array([[6, 1352.92],\n       [11, 1352.91],\n       [15, 1352.96],\n       [16, 1352.94],\n       [18, 1352.95],\n       [20, 1352.95],\n       [21, 1352.96],\n       [24, 1352.97],\n       [26, 1352.96],\n       [27, 1352.91],\n       [33, 1352.95],\n       [35, 1352.98]]), 395: array([[0, 1353.3],\n       [8, 1353.34],\n       [10, 1353.34],\n       [14, 1353.31],\n       [16, 1353.28],\n       [22, 1353.33],\n       [27, 1353.35],\n       [31, 1353.39],\n       [32, 1353.26]]), 396: array([[1, 1367.67],\n       [3, 1367.73],\n       [7, 1367.65],\n       [9, 1367.73],\n       [20, 1367.7],\n       [30, 1367.71]]), 397: array([[0, 1368.74],\n       [1, 1368.67],\n       [2, 1368.84],\n       [6, 1368.81],\n       [7, 1368.65],\n       [8, 1368.81],\n       [12, 1368.75],\n       [13, 1368.84],\n       [14, 1368.83],\n       [15, 1368.48],\n       [17, 1368.65],\n       [19, 1368.76],\n       [21, 1368.72],\n       [22, 1368.74],\n       [23, 1368.64],\n       [24, 1368.75],\n       [25, 1368.68],\n       [29, 1368.77],\n       [30, 1368.73],\n       [31, 1368.72],\n       [32, 1368.71],\n       [33, 1368.66],\n       [35, 1368.68]]), 398: array([[1, 1370.02],\n       [9, 1370.09],\n       [17, 1370.03],\n       [18, 1370.12],\n       [20, 1370.13],\n       [21, 1370.15],\n       [22, 1370.15],\n       [24, 1370.13],\n       [26, 1370.12]]), 399: array([[1, 1378.93],\n       [2, 1379.02],\n       [3, 1378.94],\n       [6, 1378.98],\n       [8, 1378.92],\n       [9, 1378.95],\n       [11, 1378.99],\n       [12, 1378.97],\n       [14, 1379],\n       [15, 1378.89],\n       [18, 1378.98],\n       [20, 1378.98],\n       [22, 1378.99],\n       [23, 1378.91],\n       [24, 1378.98],\n       [29, 1378.93],\n       [31, 1378.95],\n       [34, 1378.92],\n       [35, 1378.98]]), 400: array([[2, 1384.49],\n       [4, 1384.49],\n       [5, 1384.5],\n       [14, 1384.52],\n       [17, 1384.46],\n       [33, 1384.53],\n       [35, 1384.54]]), 402: array([[0, 1385.74],\n       [3, 1385.62],\n       [6, 1385.47],\n       [7, 1385.73],\n       [8, 1385.48],\n       [12, 1385.61],\n       [14, 1385.47],\n       [15, 1385.49],\n       [16, 1385.46],\n       [19, 1385.54],\n       [20, 1385.63],\n       [22, 1385.6],\n       [23, 1385.74],\n       [26, 1385.52],\n       [27, 1385.47],\n       [29, 1385.6],\n       [30, 1385.68],\n       [32, 1385.77],\n       [33, 1385.51],\n       [35, 1385.47]]), 403: array([[2, 1387.34],\n       [5, 1387.34],\n       [13, 1387.35],\n       [14, 1387.35],\n       [17, 1387.34],\n       [35, 1387.37]]), 404: array([[1, 1388.56],\n       [3, 1388.62],\n       [7, 1388.55],\n       [9, 1388.61],\n       [12, 1388.62],\n       [15, 1388.57],\n       [20, 1388.59],\n       [22, 1388.63],\n       [23, 1388.55],\n       [25, 1388.55],\n       [26, 1388.64],\n       [29, 1388.62],\n       [30, 1388.61],\n       [31, 1388.59],\n       [35, 1388.6]]), 405: array([[2, 1389.47],\n       [4, 1389.46],\n       [5, 1389.47],\n       [6, 1389.28],\n       [7, 1389.29],\n       [8, 1389.26],\n       [13, 1389.45],\n       [14, 1389.27],\n       [16, 1389.31],\n       [20, 1389.34],\n       [27, 1389.28],\n       [33, 1389.32],\n       [35, 1389.28]]), 407: array([[1, 1401.24],\n       [3, 1401.34],\n       [7, 1401.26],\n       [9, 1401.32],\n       [12, 1401.35],\n       [20, 1401.29],\n       [25, 1401.25],\n       [29, 1401.26],\n       [31, 1401.33],\n       [34, 1401.23],\n       [35, 1401.33]]), 408: array([[1, 1401.91],\n       [7, 1401.94],\n       [12, 1401.97],\n       [16, 1401.98],\n       [20, 1402.02],\n       [32, 1401.95],\n       [34, 1401.92]]), 409: array([[0, 1410.69],\n       [2, 1410.65],\n       [4, 1410.65],\n       [5, 1410.65],\n       [10, 1410.7],\n       [11, 1410.72],\n       [12, 1410.69],\n       [13, 1410.63],\n       [14, 1410.68],\n       [16, 1410.66],\n       [18, 1410.75],\n       [20, 1410.76],\n       [22, 1410.77],\n       [26, 1410.74],\n       [32, 1410.71],\n       [35, 1410.66]]), 410: array([[1, 1413.1],\n       [2, 1412.91],\n       [3, 1413.14],\n       [4, 1412.89],\n       [5, 1412.92],\n       [6, 1412.95],\n       [8, 1412.9],\n       [9, 1413.12],\n       [11, 1412.93],\n       [12, 1413.03],\n       [14, 1412.93],\n       [16, 1413.02],\n       [20, 1413.16],\n       [27, 1412.95],\n       [31, 1413.16],\n       [35, 1412.93]]), 411: array([[1, 1424.03],\n       [3, 1424.15],\n       [7, 1424.07],\n       [9, 1424.16],\n       [12, 1424.18],\n       [13, 1424.08],\n       [20, 1424.12],\n       [23, 1423.94],\n       [30, 1424.13],\n       [31, 1424.15],\n       [34, 1424.04],\n       [35, 1424.14]]), 412: array([[0, 1424.7],\n       [1, 1424.55],\n       [2, 1424.7],\n       [6, 1424.67],\n       [8, 1424.67],\n       [11, 1424.66],\n       [12, 1424.64],\n       [13, 1424.71],\n       [14, 1424.69],\n       [17, 1424.55],\n       [19, 1424.64],\n       [20, 1424.6],\n       [22, 1424.61],\n       [23, 1424.5],\n       [24, 1424.61],\n       [25, 1424.55],\n       [26, 1424.58],\n       [27, 1424.69],\n       [28, 1424.7],\n       [29, 1424.57],\n       [30, 1424.62],\n       [33, 1424.51],\n       [34, 1424.68],\n       [35, 1424.69]]), 413: array([[1, 1425.57],\n       [7, 1425.58],\n       [8, 1425.74],\n       [15, 1425.72],\n       [20, 1425.63],\n       [23, 1425.73],\n       [25, 1425.59]]), 415: array([[2, 1436.5],\n       [3, 1436.52],\n       [4, 1436.51],\n       [5, 1436.49],\n       [13, 1436.5],\n       [14, 1436.51],\n       [17, 1436.47],\n       [33, 1436.52],\n       [35, 1436.52]]), 416: array([[0, 1437],\n       [2, 1436.94],\n       [5, 1436.93],\n       [8, 1436.99],\n       [10, 1436.97],\n       [14, 1436.98],\n       [16, 1437],\n       [17, 1436.91],\n       [33, 1437.01]]), 417: array([[0, 1444.78],\n       [6, 1444.73],\n       [15, 1444.7],\n       [17, 1444.8],\n       [27, 1444.74],\n       [32, 1444.81],\n       [35, 1444.79]]), 418: array([[0, 1446.31],\n       [8, 1446.31],\n       [11, 1446.35],\n       [12, 1446.34],\n       [16, 1446.33],\n       [20, 1446.37],\n       [22, 1446.35],\n       [26, 1446.36],\n       [29, 1446.33],\n       [32, 1446.32],\n       [33, 1446.37],\n       [35, 1446.3]]), 419: array([[2, 1446.85],\n       [4, 1446.85],\n       [5, 1446.85],\n       [6, 1446.81],\n       [8, 1446.82],\n       [12, 1446.78],\n       [13, 1446.86],\n       [15, 1446.81],\n       [16, 1446.79],\n       [17, 1446.86],\n       [19, 1446.8],\n       [22, 1446.8],\n       [27, 1446.84],\n       [28, 1446.84],\n       [29, 1446.79],\n       [35, 1446.82]]), 420: array([[4, 1448.42],\n       [8, 1448.26],\n       [13, 1448.29],\n       [28, 1448.25],\n       [32, 1448.34],\n       [35, 1448.27]]), 421: array([[0, 1450.11],\n       [2, 1450.31],\n       [4, 1450.08],\n       [6, 1450.33],\n       [8, 1450.1],\n       [9, 1450.32],\n       [11, 1450.11],\n       [12, 1450.12],\n       [14, 1450.33],\n       [15, 1450.34],\n       [16, 1450.16],\n       [23, 1450.15],\n       [27, 1450.33],\n       [28, 1450.3],\n       [32, 1450.06],\n       [35, 1450.14]]), 422: array([[2, 1452.86],\n       [5, 1452.86],\n       [8, 1452.84],\n       [14, 1452.87],\n       [16, 1452.87],\n       [17, 1452.87],\n       [28, 1452.84],\n       [35, 1452.85]]), 423: array([[2, 1453.61],\n       [3, 1453.74],\n       [5, 1453.63],\n       [7, 1453.61],\n       [8, 1453.68],\n       [9, 1453.69],\n       [12, 1453.75],\n       [13, 1453.61],\n       [14, 1453.69],\n       [16, 1453.64],\n       [20, 1453.76],\n       [25, 1453.7],\n       [28, 1453.68],\n       [29, 1453.74],\n       [34, 1453.79],\n       [35, 1453.63]]), 424: array([[10, 1454.94],\n       [12, 1454.84],\n       [13, 1454.82],\n       [16, 1454.79],\n       [17, 1454.96],\n       [19, 1454.91],\n       [22, 1454.84],\n       [23, 1454.8],\n       [30, 1454.83],\n       [31, 1454.76],\n       [32, 1454.81],\n       [33, 1454.85]]), 425: array([[2, 1455.92],\n       [6, 1455.96],\n       [8, 1455.92],\n       [14, 1455.95],\n       [16, 1455.94],\n       [28, 1455.91],\n       [35, 1455.93]]), 426: array([[0, 1456.73],\n       [1, 1457.1],\n       [3, 1456.71],\n       [4, 1456.87],\n       [6, 1456.71],\n       [7, 1457.12],\n       [8, 1456.91],\n       [9, 1456.75],\n       [10, 1456.99],\n       [12, 1456.7],\n       [14, 1456.92],\n       [15, 1457.13],\n       [16, 1456.95],\n       [18, 1456.98],\n       [19, 1456.73],\n       [20, 1456.98],\n       [22, 1456.73],\n       [23, 1457],\n       [24, 1456.99],\n       [26, 1456.78],\n       [27, 1457],\n       [29, 1456.71],\n       [30, 1456.8],\n       [31, 1457.06],\n       [32, 1456.87]]), 427: array([[2, 1458.26],\n       [5, 1458.27],\n       [8, 1458.24],\n       [11, 1458.25],\n       [13, 1458.28],\n       [14, 1458.28],\n       [16, 1458.25],\n       [27, 1458.27],\n       [35, 1458.25]]), 428: array([[8, 1459.72],\n       [11, 1459.72],\n       [15, 1459.74],\n       [16, 1459.73],\n       [26, 1459.78],\n       [28, 1459.73],\n       [32, 1459.72],\n       [33, 1459.77],\n       [35, 1459.74]]), 429: array([[0, 1460.67],\n       [4, 1460.85],\n       [5, 1460.86],\n       [6, 1460.72],\n       [8, 1460.7],\n       [10, 1460.86],\n       [13, 1460.85],\n       [14, 1460.85],\n       [16, 1460.7],\n       [32, 1460.64]]), 430: array([[0, 1461.56],\n       [2, 1461.64],\n       [3, 1461.66],\n       [4, 1461.67],\n       [5, 1461.67],\n       [6, 1461.61],\n       [8, 1461.6],\n       [9, 1461.63],\n       [13, 1461.68],\n       [14, 1461.63],\n       [15, 1461.62],\n       [16, 1461.57],\n       [17, 1461.66],\n       [27, 1461.62],\n       [28, 1461.63],\n       [32, 1461.53],\n       [35, 1461.59]]), 431: array([[0, 1463],\n       [14, 1463.03],\n       [15, 1463.04],\n       [16, 1463.02],\n       [18, 1463.05],\n       [20, 1463.05],\n       [22, 1463.05],\n       [24, 1463.05],\n       [32, 1462.98],\n       [35, 1462.99]]), 432: array([[2, 1464.12],\n       [4, 1464.07],\n       [6, 1464.16],\n       [8, 1464.1],\n       [11, 1464.15],\n       [14, 1464.15],\n       [15, 1464.17],\n       [19, 1464.21],\n       [26, 1464.19],\n       [27, 1464.12],\n       [28, 1464.12],\n       [32, 1464.09],\n       [35, 1464.11]]), 433: array([[1, 1467.93],\n       [3, 1468.14],\n       [6, 1468],\n       [8, 1467.94],\n       [9, 1468.12],\n       [11, 1468.01],\n       [16, 1468],\n       [18, 1468.07],\n       [20, 1468.07],\n       [21, 1468.03],\n       [22, 1468.01],\n       [24, 1468.07],\n       [26, 1468.04],\n       [29, 1468.16],\n       [30, 1467.98],\n       [31, 1468.14],\n       [33, 1468.04],\n       [35, 1468.1]]), 434: array([[11, 1469.03],\n       [18, 1469.01],\n       [20, 1469.03],\n       [21, 1469],\n       [22, 1469.01],\n       [24, 1469.04]]), 435: array([[0, 1472.57],\n       [2, 1472.48],\n       [3, 1472.53],\n       [4, 1472.44],\n       [5, 1472.48],\n       [6, 1472.5],\n       [7, 1472.65],\n       [8, 1472.46],\n       [11, 1472.47],\n       [12, 1472.54],\n       [13, 1472.43],\n       [14, 1472.49],\n       [15, 1472.51],\n       [16, 1472.43],\n       [17, 1472.47],\n       [18, 1472.52],\n       [19, 1472.57],\n       [22, 1472.58],\n       [24, 1472.53],\n       [25, 1472.6],\n       [26, 1472.54],\n       [27, 1472.47],\n       [28, 1472.47],\n       [29, 1472.56],\n       [32, 1472.45],\n       [33, 1472.53],\n       [35, 1472.47]]), 436: array([[0, 1474.27],\n       [3, 1474.27],\n       [15, 1474.11],\n       [16, 1474.19],\n       [19, 1474.26],\n       [21, 1474.15],\n       [26, 1474.25],\n       [27, 1474.16],\n       [31, 1474.15],\n       [32, 1474.22]]), 437: array([[0, 1474.8],\n       [4, 1474.77],\n       [6, 1474.83],\n       [8, 1474.8],\n       [11, 1474.85],\n       [14, 1474.8],\n       [16, 1474.82],\n       [22, 1474.85],\n       [26, 1474.85],\n       [33, 1474.87],\n       [35, 1474.83]]), 438: array([[2, 1476.98],\n       [4, 1476.98],\n       [5, 1476.98],\n       [8, 1476.97],\n       [16, 1476.97],\n       [17, 1476.98],\n       [28, 1476.98],\n       [35, 1476.98]]), 439: array([[2, 1477.54],\n       [4, 1477.53],\n       [8, 1477.56],\n       [13, 1477.53],\n       [16, 1477.58],\n       [17, 1477.55],\n       [23, 1477.39],\n       [25, 1477.56],\n       [27, 1477.56],\n       [28, 1477.58],\n       [32, 1477.35],\n       [35, 1477.56]]), 441: array([[0, 1480.81],\n       [2, 1480.57],\n       [4, 1480.54],\n       [8, 1480.56],\n       [10, 1480.93],\n       [11, 1480.59],\n       [13, 1480.54],\n       [14, 1480.59],\n       [28, 1480.47],\n       [32, 1480.38],\n       [35, 1480.57]]), 442: array([[0, 1481.13],\n       [4, 1481.41],\n       [6, 1481.15],\n       [7, 1481.27],\n       [8, 1481.36],\n       [9, 1481.2],\n       [12, 1481.19],\n       [13, 1481.16],\n       [14, 1481.18],\n       [15, 1481.17],\n       [16, 1481.14],\n       [17, 1481.24],\n       [20, 1481.18],\n       [22, 1481.2],\n       [23, 1481.13],\n       [24, 1481.21],\n       [26, 1481.22],\n       [30, 1481.17],\n       [31, 1481.21],\n       [32, 1481.13],\n       [33, 1481.28],\n       [35, 1481.14]]), 443: array([[2, 1482.75],\n       [4, 1482.6],\n       [5, 1482.63],\n       [6, 1482.77],\n       [8, 1482.64],\n       [10, 1482.62],\n       [13, 1482.6],\n       [14, 1482.75],\n       [15, 1482.75],\n       [16, 1482.62],\n       [27, 1482.76],\n       [28, 1482.71],\n       [32, 1482.63],\n       [35, 1482.72]]), 444: array([[2, 1485.15],\n       [3, 1485.21],\n       [4, 1485.14],\n       [6, 1485.2],\n       [8, 1485.17],\n       [12, 1485.15],\n       [16, 1485.21],\n       [17, 1485.18],\n       [19, 1485.22],\n       [20, 1485.23],\n       [28, 1485.15],\n       [33, 1485.21],\n       [35, 1485.18]]), 445: array([[0, 1486.13],\n       [3, 1486.06],\n       [9, 1486.04],\n       [12, 1486.07],\n       [13, 1485.93],\n       [14, 1485.94],\n       [15, 1485.93],\n       [16, 1485.89],\n       [18, 1485.97],\n       [20, 1485.94],\n       [21, 1486.05],\n       [22, 1485.96],\n       [24, 1485.96],\n       [26, 1485.94],\n       [27, 1485.99],\n       [29, 1486.02],\n       [30, 1486.06],\n       [35, 1485.97]]), 446: array([[2, 1486.97],\n       [4, 1486.94],\n       [5, 1486.98],\n       [8, 1486.96],\n       [16, 1486.98],\n       [17, 1486.98],\n       [28, 1486.97],\n       [32, 1486.94]]), 447: array([[0, 1492.95],\n       [4, 1492.94],\n       [6, 1492.98],\n       [8, 1492.96],\n       [11, 1492.96],\n       [14, 1492.97],\n       [16, 1492.98],\n       [22, 1493],\n       [26, 1493],\n       [32, 1492.93],\n       [35, 1492.95]]), 448: array([[3, 1493.66],\n       [4, 1493.64],\n       [6, 1493.58],\n       [8, 1493.48],\n       [9, 1493.63],\n       [12, 1493.59],\n       [15, 1493.54],\n       [16, 1493.49],\n       [18, 1493.58],\n       [19, 1493.64],\n       [20, 1493.55],\n       [21, 1493.59],\n       [22, 1493.56],\n       [24, 1493.57],\n       [26, 1493.69],\n       [29, 1493.61],\n       [30, 1493.58],\n       [31, 1493.66],\n       [35, 1493.59]]), 449: array([[15, 1494.79],\n       [20, 1494.87],\n       [21, 1494.82],\n       [27, 1494.84],\n       [32, 1494.85],\n       [35, 1494.84]]), 450: array([[0, 1496.37],\n       [1, 1496.56],\n       [4, 1496.11],\n       [6, 1496.41],\n       [7, 1496.53],\n       [8, 1496.12],\n       [11, 1496.41],\n       [15, 1496.57],\n       [16, 1496.39],\n       [17, 1496.53],\n       [19, 1496.47],\n       [24, 1496.52],\n       [25, 1496.55],\n       [26, 1496.36],\n       [28, 1496.12],\n       [29, 1496.48],\n       [31, 1496.49],\n       [32, 1496.3],\n       [34, 1496.57],\n       [35, 1496.37]]), 451: array([[3, 1498.91],\n       [13, 1498.97],\n       [15, 1498.89],\n       [20, 1498.93],\n       [21, 1498.9],\n       [32, 1498.94]]), 452: array([[2, 1501.83],\n       [4, 1501.79],\n       [5, 1501.83],\n       [8, 1501.81],\n       [12, 1501.83],\n       [17, 1501.82],\n       [18, 1501.83],\n       [28, 1501.82],\n       [32, 1501.78],\n       [35, 1501.82]]), 453: array([[1, 1504.4],\n       [3, 1504.37],\n       [9, 1504.35],\n       [12, 1504.37],\n       [15, 1504.43],\n       [18, 1504.3],\n       [20, 1504.31],\n       [22, 1504.39],\n       [23, 1504.44],\n       [24, 1504.32],\n       [25, 1504.42],\n       [26, 1504.45],\n       [27, 1504.37],\n       [29, 1504.33],\n       [31, 1504.38],\n       [34, 1504.42]]), 454: array([[6, 1507.44],\n       [8, 1507.39],\n       [11, 1507.42],\n       [16, 1507.35],\n       [19, 1507.44],\n       [22, 1507.43],\n       [26, 1507.45],\n       [33, 1507.45]]), 456: array([[0, 1512.12],\n       [3, 1512.09],\n       [8, 1512.1],\n       [11, 1512.1],\n       [12, 1512.1],\n       [14, 1512.11],\n       [16, 1512.08],\n       [19, 1512.09],\n       [20, 1512.09],\n       [27, 1512.12],\n       [29, 1512.08],\n       [35, 1512.11]]), 457: array([[0, 1513.66],\n       [12, 1513.73],\n       [19, 1513.72],\n       [21, 1513.64],\n       [22, 1513.69],\n       [24, 1513.67],\n       [26, 1513.68],\n       [27, 1513.69],\n       [29, 1513.73],\n       [31, 1513.71],\n       [33, 1513.77]]), 458: array([[3, 1514.64],\n       [5, 1514.67],\n       [6, 1514.64],\n       [8, 1514.61],\n       [10, 1514.66],\n       [11, 1514.63],\n       [13, 1514.75],\n       [14, 1514.65],\n       [16, 1514.59],\n       [32, 1514.62],\n       [33, 1514.67],\n       [35, 1514.61]]), 459: array([[2, 1515.46],\n       [4, 1515.42],\n       [8, 1515.42],\n       [11, 1515.43],\n       [27, 1515.45],\n       [28, 1515.43],\n       [35, 1515.44]]), 460: array([[2, 1519.65],\n       [5, 1519.66],\n       [6, 1519.75],\n       [8, 1519.65],\n       [10, 1519.75],\n       [13, 1519.65],\n       [17, 1519.66],\n       [19, 1519.78],\n       [24, 1519.74],\n       [25, 1519.69],\n       [26, 1519.78],\n       [27, 1519.75],\n       [28, 1519.69],\n       [33, 1519.78],\n       [35, 1519.67]]), 462: array([[0, 1523.44],\n       [1, 1523.81],\n       [3, 1523.42],\n       [4, 1523.43],\n       [7, 1523.77],\n       [8, 1523.45],\n       [9, 1523.75],\n       [11, 1523.52],\n       [12, 1523.66],\n       [15, 1523.82],\n       [16, 1523.46],\n       [17, 1523.77],\n       [18, 1523.6],\n       [19, 1523.65],\n       [20, 1523.62],\n       [21, 1523.6],\n       [22, 1523.49],\n       [23, 1523.44],\n       [24, 1523.61],\n       [25, 1523.8],\n       [26, 1523.53],\n       [27, 1523.62],\n       [29, 1523.67],\n       [30, 1523.71],\n       [32, 1523.41],\n       [33, 1523.54],\n       [35, 1523.47]]), 463: array([[2, 1524.8],\n       [4, 1524.8],\n       [5, 1524.82],\n       [8, 1524.8],\n       [13, 1524.79],\n       [17, 1524.82],\n       [28, 1524.81],\n       [35, 1524.81]]), 464: array([[0, 1526.29],\n       [2, 1526.15],\n       [5, 1526.16],\n       [6, 1526.29],\n       [7, 1526.14],\n       [9, 1526.16],\n       [11, 1526.32],\n       [15, 1526.32],\n       [16, 1526.18],\n       [17, 1526.38],\n       [20, 1526.33],\n       [22, 1526.34],\n       [24, 1526.35],\n       [26, 1526.26],\n       [31, 1526.37],\n       [32, 1526.28]]), 465: array([[0, 1530.59],\n       [3, 1530.67],\n       [4, 1530.71],\n       [6, 1530.58],\n       [7, 1530.79],\n       [8, 1530.59],\n       [9, 1530.7],\n       [11, 1530.6],\n       [12, 1530.59],\n       [15, 1530.62],\n       [16, 1530.58],\n       [19, 1530.65],\n       [20, 1530.69],\n       [21, 1530.68],\n       [22, 1530.68],\n       [26, 1530.63],\n       [29, 1530.68],\n       [30, 1530.74],\n       [31, 1530.68],\n       [33, 1530.69],\n       [34, 1530.62],\n       [35, 1530.63]]), 466: array([[4, 1533.43],\n       [5, 1533.47],\n       [7, 1533.47],\n       [8, 1533.45],\n       [10, 1533.46],\n       [14, 1533.47],\n       [16, 1533.43],\n       [25, 1533.47],\n       [27, 1533.46],\n       [28, 1533.4],\n       [35, 1533.46]]), 467: array([[4, 1536.6],\n       [6, 1536.64],\n       [8, 1536.62],\n       [16, 1536.65],\n       [22, 1536.66],\n       [31, 1536.65]]), 468: array([[2, 1539.09],\n       [4, 1539.1],\n       [5, 1539.04],\n       [7, 1539.09],\n       [10, 1539.05],\n       [12, 1539.07],\n       [13, 1539.11],\n       [14, 1539.09],\n       [16, 1539.08],\n       [17, 1539.06],\n       [33, 1539.12],\n       [35, 1539.08]]), 469: array([[6, 1539.71],\n       [7, 1539.64],\n       [16, 1539.64],\n       [22, 1539.7],\n       [25, 1539.67],\n       [26, 1539.67],\n       [33, 1539.68],\n       [34, 1539.72],\n       [35, 1539.7]]), 470: array([[2, 1541.04],\n       [3, 1541.18],\n       [4, 1541],\n       [6, 1541.07],\n       [8, 1541.03],\n       [9, 1541.16],\n       [11, 1541.05],\n       [12, 1541.09],\n       [13, 1541],\n       [14, 1541.06],\n       [15, 1541.07],\n       [16, 1541.06],\n       [17, 1541.22],\n       [20, 1541.1],\n       [21, 1541.19],\n       [24, 1541.11],\n       [25, 1541.23],\n       [26, 1541.09],\n       [27, 1541.05],\n       [28, 1541.03],\n       [29, 1541.13],\n       [31, 1541.07],\n       [34, 1541.24],\n       [35, 1541.03]]), 471: array([[2, 1542.67],\n       [5, 1542.47],\n       [6, 1542.63],\n       [8, 1542.64],\n       [11, 1542.63],\n       [12, 1542.59],\n       [13, 1542.49],\n       [14, 1542.66],\n       [16, 1542.48],\n       [17, 1542.67],\n       [19, 1542.58],\n       [20, 1542.59],\n       [21, 1542.58],\n       [22, 1542.52],\n       [26, 1542.47],\n       [27, 1542.65],\n       [28, 1542.66],\n       [29, 1542.58],\n       [32, 1542.66],\n       [33, 1542.62],\n       [35, 1542.64]]), 472: array([[0, 1544.14],\n       [6, 1544.17],\n       [15, 1544.18],\n       [16, 1544.14],\n       [18, 1544.24],\n       [20, 1544.19],\n       [22, 1544.26],\n       [23, 1544.17],\n       [24, 1544.21],\n       [27, 1544.21],\n       [29, 1544.29],\n       [30, 1544.25],\n       [32, 1544],\n       [35, 1544.26]]), 473: array([[1, 1547.26],\n       [7, 1547.26],\n       [8, 1547.29],\n       [10, 1547.27],\n       [12, 1547.19],\n       [15, 1547.33],\n       [17, 1547.25],\n       [19, 1547.21],\n       [20, 1547.27],\n       [22, 1547.21],\n       [23, 1547.25],\n       [24, 1547.23],\n       [25, 1547.35],\n       [26, 1547.25],\n       [29, 1547.21],\n       [33, 1547.24],\n       [34, 1547.34],\n       [35, 1547.29]]), 474: array([[0, 1550.06],\n       [2, 1550.29],\n       [4, 1549.97],\n       [5, 1550.25],\n       [6, 1550.32],\n       [8, 1550.07],\n       [10, 1550.24],\n       [11, 1550.26],\n       [14, 1550.32],\n       [15, 1550.36],\n       [16, 1550.15],\n       [17, 1549.96],\n       [25, 1550.28],\n       [27, 1550.33],\n       [28, 1549.98],\n       [30, 1550.14],\n       [32, 1549.96],\n       [35, 1550.28]]), 475: array([[2, 1570.3],\n       [4, 1570.16],\n       [6, 1570.34],\n       [8, 1570.22],\n       [11, 1570.32],\n       [14, 1570.33],\n       [16, 1570.17],\n       [27, 1570.34],\n       [28, 1570.23],\n       [35, 1570.21]]), 476: array([[1, 1584.09],\n       [3, 1584.18],\n       [7, 1584.1],\n       [9, 1584.18],\n       [12, 1584.19],\n       [14, 1584.11],\n       [20, 1584.14],\n       [25, 1584.17],\n       [29, 1584.09],\n       [31, 1584.18],\n       [34, 1584.16]]), 477: array([[0, 1584.54],\n       [3, 1584.58],\n       [6, 1584.64],\n       [8, 1584.63],\n       [11, 1584.59],\n       [12, 1584.58],\n       [14, 1584.64],\n       [16, 1584.62],\n       [17, 1584.51],\n       [19, 1584.59],\n       [22, 1584.57],\n       [24, 1584.57],\n       [26, 1584.54],\n       [27, 1584.64],\n       [28, 1584.64],\n       [29, 1584.59],\n       [30, 1584.62],\n       [33, 1584.62],\n       [35, 1584.63]]), 478: array([[4, 1592.13],\n       [5, 1592.12],\n       [13, 1592.13],\n       [16, 1592.12],\n       [17, 1592.12],\n       [32, 1592.17],\n       [35, 1592.12]]), 479: array([[2, 1593.58],\n       [3, 1593.61],\n       [5, 1593.58],\n       [6, 1593.72],\n       [8, 1593.54],\n       [11, 1593.61],\n       [12, 1593.51],\n       [13, 1593.57],\n       [14, 1593.61],\n       [17, 1593.56],\n       [27, 1593.7],\n       [35, 1593.56]]), 480: array([[2, 1595.75],\n       [5, 1595.75],\n       [6, 1595.89],\n       [8, 1595.7],\n       [11, 1595.85],\n       [12, 1595.75],\n       [13, 1595.89],\n       [14, 1595.89],\n       [15, 1595.9],\n       [17, 1595.75],\n       [27, 1595.81],\n       [35, 1595.71]]), 481: array([[2, 1618.09],\n       [4, 1618.12],\n       [5, 1618.1],\n       [13, 1618.09],\n       [14, 1618.1],\n       [17, 1618.07],\n       [35, 1618.03]]), 482: array([[0, 1620.73],\n       [4, 1620.74],\n       [6, 1620.92],\n       [8, 1620.66],\n       [10, 1620.63],\n       [11, 1620.85],\n       [13, 1620.87],\n       [14, 1620.91],\n       [16, 1620.84],\n       [18, 1620.98],\n       [20, 1620.97],\n       [21, 1621],\n       [22, 1620.99],\n       [24, 1620.98],\n       [27, 1620.92],\n       [31, 1621.01],\n       [32, 1620.76],\n       [35, 1620.67]]), 483: array([[0, 1633.15],\n       [1, 1633.04],\n       [3, 1633.2],\n       [6, 1633.24],\n       [8, 1633.24],\n       [12, 1633.19],\n       [16, 1633.25],\n       [19, 1633.18],\n       [22, 1633.16],\n       [24, 1633.15],\n       [25, 1633.04],\n       [26, 1633.09],\n       [27, 1633.26],\n       [28, 1633.25],\n       [29, 1633.19],\n       [30, 1633.08],\n       [31, 1633.08],\n       [33, 1633.23],\n       [35, 1633.06]]), 484: array([[1, 1633.83],\n       [7, 1633.91],\n       [9, 1633.86],\n       [12, 1633.87],\n       [20, 1633.91],\n       [25, 1633.95],\n       [30, 1633.91],\n       [31, 1633.89],\n       [34, 1633.84],\n       [35, 1633.88]]), 485: array([[6, 1635.45],\n       [15, 1635.52],\n       [17, 1635.53],\n       [18, 1635.44],\n       [20, 1635.46],\n       [21, 1635.48],\n       [22, 1635.48],\n       [23, 1635.47],\n       [24, 1635.44],\n       [25, 1635.47],\n       [29, 1635.44],\n       [30, 1635.45]]), 487: array([[0, 1645.32],\n       [2, 1645.29],\n       [3, 1645.29],\n       [4, 1645.3],\n       [6, 1645.33],\n       [8, 1645.25],\n       [11, 1645.32],\n       [14, 1645.32],\n       [16, 1645.34],\n       [32, 1645.34],\n       [35, 1645.23]]), 489: array([[6, 1646.27],\n       [8, 1646.2],\n       [13, 1646.23],\n       [14, 1646.25],\n       [27, 1646.19],\n       [35, 1646.2]]), 490: array([[1, 1656.15],\n       [4, 1656.27],\n       [7, 1656.15],\n       [13, 1656.16],\n       [20, 1656.2],\n       [26, 1656.22],\n       [31, 1656.26]]), 491: array([[1, 1657.5],\n       [15, 1657.32],\n       [20, 1657.55],\n       [23, 1657.48],\n       [24, 1657.55],\n       [25, 1657.51],\n       [26, 1657.54],\n       [27, 1657.39],\n       [35, 1657.5]]), 492: array([[1, 1658.5],\n       [3, 1658.62],\n       [6, 1658.64],\n       [7, 1658.58],\n       [8, 1658.65],\n       [9, 1658.82],\n       [11, 1658.63],\n       [12, 1658.61],\n       [14, 1658.67],\n       [15, 1658.52],\n       [17, 1658.56],\n       [19, 1658.63],\n       [25, 1658.5],\n       [26, 1658.59],\n       [27, 1658.66],\n       [28, 1658.67],\n       [29, 1658.62],\n       [30, 1658.61],\n       [33, 1658.66],\n       [35, 1658.66]]), 493: array([[0, 1661.66],\n       [2, 1661.65],\n       [6, 1661.62],\n       [8, 1661.63],\n       [12, 1661.61],\n       [14, 1661.63],\n       [16, 1661.63],\n       [19, 1661.58],\n       [26, 1661.54],\n       [27, 1661.64],\n       [28, 1661.65],\n       [29, 1661.6],\n       [35, 1661.64]]), 494: array([[3, 1670.44],\n       [6, 1670.43],\n       [20, 1670.42],\n       [26, 1670.45],\n       [27, 1670.43],\n       [35, 1670.46]]), 495: array([[0, 1671.04],\n       [2, 1670.89],\n       [4, 1671.03],\n       [5, 1670.88],\n       [6, 1671.06],\n       [8, 1670.94],\n       [12, 1671.05],\n       [15, 1671.08],\n       [16, 1670.89],\n       [17, 1671.15],\n       [20, 1671.24],\n       [27, 1671.24],\n       [33, 1671.09],\n       [35, 1670.85]]), 496: array([[2, 1672.32],\n       [4, 1672.47],\n       [5, 1672.33],\n       [8, 1672.5],\n       [11, 1672.49],\n       [13, 1672.41],\n       [14, 1672.41],\n       [17, 1672.3],\n       [28, 1672.52],\n       [35, 1672.31]]), 497: array([[3, 1678.64],\n       [4, 1678.68],\n       [9, 1678.64],\n       [12, 1678.64],\n       [18, 1678.71],\n       [20, 1678.64],\n       [22, 1678.6],\n       [24, 1678.7],\n       [26, 1678.61],\n       [29, 1678.65]]), 498: array([[1, 1683.34],\n       [7, 1683.32],\n       [15, 1683.3],\n       [17, 1683.31],\n       [24, 1683.41],\n       [25, 1683.36]]), 499: array([[1, 1686.05],\n       [3, 1686.07],\n       [4, 1686.15],\n       [7, 1686.06],\n       [9, 1686.15],\n       [12, 1686.16],\n       [17, 1686.05],\n       [20, 1686.09],\n       [25, 1686.07],\n       [29, 1686.06],\n       [30, 1686.11],\n       [31, 1686.14],\n       [35, 1686.09]]), 501: array([[4, 1697.47],\n       [9, 1697.55],\n       [11, 1697.61],\n       [16, 1697.59],\n       [17, 1697.67],\n       [20, 1697.63],\n       [21, 1697.52],\n       [27, 1697.71],\n       [29, 1697.63],\n       [34, 1697.68],\n       [35, 1697.71]]), 502: array([[0, 1699.04],\n       [3, 1699.2],\n       [4, 1699.2],\n       [5, 1699.4],\n       [7, 1699.28],\n       [8, 1699.34],\n       [13, 1699.43],\n       [14, 1699.22],\n       [16, 1699.04],\n       [22, 1699.09],\n       [35, 1699.14]]), 503: array([[6, 1699.73],\n       [8, 1699.73],\n       [12, 1699.84],\n       [13, 1699.72],\n       [14, 1699.71],\n       [15, 1699.74],\n       [16, 1699.71],\n       [18, 1699.85],\n       [19, 1699.76],\n       [20, 1699.84],\n       [22, 1699.84],\n       [24, 1699.85],\n       [25, 1699.74],\n       [26, 1699.76],\n       [27, 1699.72],\n       [29, 1699.84],\n       [33, 1699.77],\n       [35, 1699.7]]), 505: array([[4, 1721.92],\n       [5, 1721.85],\n       [14, 1721.89],\n       [15, 1721.88],\n       [16, 1721.84],\n       [17, 1721.82],\n       [35, 1721.87]]), 506: array([[5, 1722.69],\n       [8, 1722.63],\n       [12, 1722.81],\n       [13, 1722.81],\n       [14, 1722.62],\n       [15, 1722.87],\n       [16, 1722.9],\n       [18, 1722.77],\n       [20, 1722.77],\n       [22, 1722.79],\n       [24, 1722.78],\n       [26, 1722.88],\n       [27, 1722.66],\n       [30, 1722.86],\n       [35, 1722.61]]), 507: array([[0, 1724.63],\n       [2, 1724.5],\n       [3, 1724.62],\n       [8, 1724.62],\n       [13, 1724.6],\n       [16, 1724.65],\n       [21, 1724.55],\n       [27, 1724.63],\n       [35, 1724.61]]), 508: array([[3, 1726.66],\n       [6, 1726.62],\n       [8, 1726.63],\n       [11, 1726.59],\n       [12, 1726.64],\n       [14, 1726.64],\n       [19, 1726.68],\n       [21, 1726.69],\n       [22, 1726.68],\n       [26, 1726.66],\n       [27, 1726.63],\n       [29, 1726.67],\n       [33, 1726.66],\n       [35, 1726.61]]), 509: array([[0, 1732.08],\n       [3, 1732.13],\n       [6, 1732.19],\n       [7, 1732.29],\n       [8, 1732.15],\n       [10, 1732.18],\n       [11, 1732.14],\n       [12, 1732.32],\n       [13, 1732.14],\n       [14, 1732.12],\n       [15, 1732.19],\n       [19, 1732.2],\n       [26, 1732.2],\n       [27, 1732.18],\n       [28, 1732.15],\n       [32, 1732.1],\n       [33, 1732.33],\n       [35, 1732.13]]), 510: array([[0, 1735.13],\n       [3, 1735.12],\n       [8, 1735.2],\n       [11, 1735.19],\n       [28, 1735.21],\n       [32, 1735.09],\n       [35, 1735.18]]), 511: array([[0, 1737.93],\n       [2, 1737.99],\n       [5, 1737.99],\n       [8, 1737.97],\n       [11, 1737.97],\n       [32, 1737.94],\n       [35, 1737.98]]), 512: array([[0, 1738.68],\n       [2, 1738.73],\n       [3, 1738.69],\n       [8, 1738.71],\n       [9, 1738.75],\n       [16, 1738.7],\n       [35, 1738.73]]), 513: array([[2, 1740.17],\n       [3, 1740.09],\n       [4, 1740.12],\n       [6, 1740.17],\n       [7, 1740.36],\n       [8, 1740.14],\n       [12, 1740.13],\n       [14, 1740.17],\n       [15, 1740.18],\n       [17, 1740.34],\n       [19, 1740.26],\n       [21, 1740.36],\n       [26, 1740.21],\n       [27, 1740.17],\n       [28, 1740.15],\n       [29, 1740.26],\n       [30, 1740.3],\n       [32, 1740.14],\n       [35, 1740.15]]), 514: array([[5, 1756.73],\n       [6, 1756.82],\n       [8, 1756.84],\n       [10, 1756.76],\n       [13, 1756.73],\n       [16, 1756.82],\n       [17, 1756.74],\n       [22, 1756.81],\n       [32, 1756.79],\n       [35, 1756.74]]), 515: array([[0, 1757.24],\n       [2, 1757.19],\n       [4, 1757.2],\n       [6, 1757.26],\n       [7, 1757.4],\n       [8, 1757.23],\n       [9, 1757.44],\n       [11, 1757.26],\n       [13, 1757.26],\n       [14, 1757.22],\n       [16, 1757.25],\n       [18, 1757.3],\n       [20, 1757.28],\n       [22, 1757.29],\n       [23, 1757.25],\n       [30, 1757.28],\n       [32, 1757.25]]), 516: array([[2, 1758.24],\n       [6, 1758.16],\n       [8, 1758.19],\n       [15, 1758.14],\n       [16, 1758.21],\n       [17, 1758.25],\n       [26, 1758.18],\n       [27, 1758.22],\n       [28, 1758.23],\n       [33, 1758.17],\n       [35, 1758.22]]), 517: array([[2, 1766.31],\n       [3, 1766.52],\n       [6, 1766.32],\n       [8, 1766.29],\n       [12, 1766.54],\n       [14, 1766.32],\n       [15, 1766.39],\n       [16, 1766.31],\n       [17, 1766.38],\n       [18, 1766.48],\n       [20, 1766.49],\n       [21, 1766.52],\n       [22, 1766.48],\n       [24, 1766.5],\n       [26, 1766.4],\n       [27, 1766.32],\n       [33, 1766.38],\n       [35, 1766.3]]), 518: array([[0, 1768.24],\n       [4, 1768.24],\n       [8, 1768.13],\n       [9, 1768.11],\n       [12, 1768.13],\n       [17, 1768.15],\n       [21, 1768.17],\n       [24, 1768.16],\n       [26, 1768.16],\n       [31, 1768.14],\n       [32, 1768.23]]), 519: array([[2, 1770.06],\n       [3, 1769.99],\n       [4, 1770.04],\n       [5, 1770.04],\n       [6, 1770],\n       [8, 1770.01],\n       [12, 1769.96],\n       [14, 1770.02],\n       [16, 1769.98],\n       [17, 1770.04],\n       [18, 1769.96],\n       [20, 1769.97],\n       [21, 1769.96],\n       [22, 1769.98],\n       [23, 1770],\n       [24, 1769.98],\n       [26, 1770.01],\n       [27, 1770.03],\n       [33, 1770],\n       [35, 1770.01]]), 520: array([[0, 1771.74],\n       [4, 1771.76],\n       [6, 1771.77],\n       [11, 1771.6],\n       [14, 1771.77],\n       [22, 1771.59],\n       [23, 1771.76],\n       [26, 1771.64],\n       [31, 1771.76],\n       [32, 1771.56],\n       [33, 1771.61],\n       [35, 1771.78]]), 522: array([[2, 1773.57],\n       [4, 1773.59],\n       [8, 1773.55],\n       [13, 1773.59],\n       [16, 1773.57],\n       [25, 1773.58],\n       [28, 1773.55],\n       [34, 1773.6],\n       [35, 1773.57]]), 523: array([[13, 1774.46],\n       [16, 1774.44],\n       [18, 1774.46],\n       [20, 1774.46],\n       [21, 1774.47],\n       [22, 1774.47],\n       [26, 1774.45],\n       [29, 1774.47],\n       [31, 1774.46],\n       [33, 1774.48]]), 524: array([[4, 1778.73],\n       [8, 1778.75],\n       [11, 1778.75],\n       [13, 1778.88],\n       [14, 1778.78],\n       [15, 1778.76],\n       [16, 1778.76],\n       [28, 1778.75],\n       [35, 1778.74]]), 525: array([[2, 1780.46],\n       [3, 1780.47],\n       [8, 1780.44],\n       [12, 1780.43],\n       [13, 1780.42],\n       [14, 1780.46],\n       [16, 1780.36],\n       [17, 1780.47],\n       [18, 1780.36],\n       [20, 1780.37],\n       [21, 1780.37],\n       [22, 1780.38],\n       [24, 1780.39],\n       [26, 1780.44],\n       [27, 1780.46],\n       [28, 1780.45],\n       [33, 1780.43],\n       [35, 1780.45]]), 526: array([[0, 1781.92],\n       [2, 1781.84],\n       [3, 1781.91],\n       [4, 1781.92],\n       [8, 1781.93],\n       [9, 1781.95],\n       [11, 1781.92],\n       [28, 1781.89],\n       [32, 1781.91],\n       [34, 1782],\n       [35, 1781.86]]), 527: array([[0, 1787.74],\n       [2, 1787.78],\n       [3, 1787.67],\n       [5, 1787.79],\n       [6, 1787.75],\n       [8, 1787.76],\n       [14, 1787.77],\n       [16, 1787.71],\n       [17, 1787.79],\n       [27, 1787.78],\n       [35, 1787.77]]), 528: array([[0, 1789.76],\n       [1, 1789.99],\n       [3, 1789.94],\n       [4, 1789.84],\n       [6, 1789.81],\n       [7, 1790],\n       [8, 1789.83],\n       [9, 1789.93],\n       [10, 1789.83],\n       [12, 1789.76],\n       [13, 1789.83],\n       [16, 1789.81],\n       [19, 1789.89],\n       [20, 1789.96],\n       [22, 1789.9],\n       [24, 1789.92],\n       [25, 1789.98],\n       [27, 1789.94],\n       [28, 1789.8],\n       [29, 1789.9],\n       [30, 1789.95],\n       [31, 1790],\n       [33, 1789.88]]), 529: array([[0, 1792.46],\n       [2, 1792.57],\n       [4, 1792.58],\n       [5, 1792.59],\n       [6, 1792.49],\n       [8, 1792.55],\n       [9, 1792.58],\n       [11, 1792.55],\n       [12, 1792.51],\n       [13, 1792.59],\n       [14, 1792.57],\n       [16, 1792.46],\n       [17, 1792.57],\n       [20, 1792.52],\n       [23, 1792.42],\n       [26, 1792.51],\n       [28, 1792.56],\n       [33, 1792.52],\n       [35, 1792.57]]), 530: array([[6, 1795.9],\n       [9, 1796.04],\n       [11, 1795.98],\n       [12, 1795.93],\n       [16, 1795.94],\n       [17, 1795.97],\n       [20, 1795.99],\n       [23, 1795.91],\n       [25, 1795.9],\n       [26, 1796.04],\n       [27, 1795.93],\n       [35, 1796.04]]), 531: array([[3, 1797.06],\n       [6, 1797.07],\n       [9, 1797.06],\n       [12, 1797.1],\n       [16, 1797.12],\n       [20, 1797.04],\n       [24, 1797.04],\n       [26, 1797.06],\n       [29, 1797.06],\n       [31, 1797.1],\n       [35, 1797.11]]), 532: array([[0, 1797.66],\n       [3, 1797.61],\n       [4, 1797.7],\n       [8, 1797.69],\n       [9, 1797.71],\n       [16, 1797.64],\n       [32, 1797.68],\n       [35, 1797.67]]), 533: array([[2, 1802.07],\n       [4, 1802.05],\n       [5, 1802.08],\n       [8, 1802.06],\n       [11, 1802.06],\n       [13, 1802.07],\n       [14, 1802.09],\n       [17, 1802.07],\n       [27, 1802.08],\n       [28, 1802.07],\n       [32, 1802.03],\n       [35, 1802.08]]), 534: array([[0, 1807.39],\n       [2, 1807.4],\n       [4, 1807.34],\n       [5, 1807.41],\n       [6, 1807.38],\n       [8, 1807.35],\n       [9, 1807.45],\n       [13, 1807.42],\n       [14, 1807.38],\n       [16, 1807.36],\n       [17, 1807.42],\n       [27, 1807.38],\n       [28, 1807.4],\n       [30, 1807.37],\n       [32, 1807.36],\n       [33, 1807.38],\n       [34, 1807.48],\n       [35, 1807.34]]), 535: array([[1, 1808.6],\n       [2, 1808.48],\n       [4, 1808.45],\n       [7, 1808.57],\n       [8, 1808.46],\n       [9, 1808.51],\n       [10, 1808.57],\n       [11, 1808.46],\n       [12, 1808.47],\n       [15, 1808.63],\n       [17, 1808.56],\n       [25, 1808.61],\n       [26, 1808.56],\n       [27, 1808.55],\n       [28, 1808.46],\n       [35, 1808.47]]), 536: array([[0, 1811.16],\n       [2, 1811.32],\n       [4, 1811.35],\n       [5, 1811.36],\n       [6, 1811.26],\n       [8, 1811.28],\n       [11, 1811.29],\n       [12, 1811.19],\n       [14, 1811.3],\n       [16, 1811.17],\n       [17, 1811.32],\n       [18, 1811.19],\n       [19, 1811.22],\n       [20, 1811.19],\n       [22, 1811.21],\n       [23, 1811.17],\n       [26, 1811.27],\n       [27, 1811.3],\n       [28, 1811.3],\n       [29, 1811.22],\n       [31, 1811.19],\n       [32, 1811.14],\n       [33, 1811.21],\n       [35, 1811.31]]), 537: array([[0, 1812.17],\n       [6, 1812.22],\n       [11, 1812.23],\n       [12, 1812.22],\n       [16, 1812.2],\n       [22, 1812.23],\n       [26, 1812.24],\n       [32, 1812.18],\n       [33, 1812.27]]), 538: array([[0, 1813.02],\n       [10, 1813.13],\n       [16, 1812.92],\n       [28, 1812.94],\n       [32, 1813.01],\n       [35, 1812.94]]), 539: array([[0, 1818.49],\n       [3, 1818.64],\n       [6, 1818.56],\n       [8, 1818.51],\n       [11, 1818.56],\n       [12, 1818.64],\n       [15, 1818.58],\n       [16, 1818.52],\n       [18, 1818.61],\n       [19, 1818.65],\n       [20, 1818.59],\n       [21, 1818.61],\n       [22, 1818.62],\n       [24, 1818.61],\n       [26, 1818.58],\n       [29, 1818.62],\n       [32, 1818.51],\n       [33, 1818.59]]), 540: array([[1, 1819.45],\n       [2, 1819.36],\n       [5, 1819.35],\n       [8, 1819.33],\n       [10, 1819.33],\n       [11, 1819.32],\n       [16, 1819.32],\n       [27, 1819.42],\n       [28, 1819.35],\n       [35, 1819.35]]), 541: array([[0, 1820.48],\n       [3, 1820.32],\n       [7, 1820.51],\n       [8, 1820.31],\n       [9, 1820.3],\n       [12, 1820.32],\n       [15, 1820.54],\n       [16, 1820.21],\n       [17, 1820.53],\n       [20, 1820.2],\n       [21, 1820.16],\n       [22, 1820.17],\n       [24, 1820.27],\n       [25, 1820.56],\n       [29, 1820.33],\n       [30, 1820.33],\n       [31, 1820.32],\n       [33, 1820.25],\n       [35, 1820.35]]), 542: array([[0, 1822],\n       [2, 1822.08],\n       [6, 1822.01],\n       [8, 1822.05],\n       [9, 1822.06],\n       [10, 1822.02],\n       [11, 1822.02],\n       [13, 1822.02],\n       [14, 1822.06],\n       [16, 1821.94],\n       [17, 1822.09],\n       [27, 1822.07],\n       [28, 1822.07],\n       [35, 1822.06]]), 543: array([[6, 1823.66],\n       [8, 1823.67],\n       [11, 1823.65],\n       [14, 1823.68],\n       [16, 1823.67],\n       [20, 1823.64],\n       [26, 1823.61],\n       [27, 1823.69],\n       [28, 1823.7],\n       [30, 1823.64],\n       [31, 1823.62],\n       [33, 1823.65],\n       [35, 1823.68]]), 544: array([[0, 1824.62],\n       [9, 1824.59],\n       [18, 1824.54],\n       [20, 1824.55],\n       [22, 1824.54],\n       [24, 1824.55],\n       [30, 1824.67],\n       [33, 1824.57]]), 545: array([[5, 1826.47],\n       [6, 1826.5],\n       [8, 1826.46],\n       [10, 1826.48],\n       [11, 1826.45],\n       [13, 1826.42],\n       [26, 1826.46],\n       [27, 1826.63],\n       [29, 1826.47],\n       [34, 1826.43],\n       [35, 1826.46]]), 546: array([[0, 1829.9],\n       [1, 1829.96],\n       [3, 1829.89],\n       [7, 1829.99],\n       [9, 1829.89],\n       [12, 1829.9],\n       [14, 1829.97],\n       [15, 1829.97],\n       [19, 1829.91],\n       [20, 1829.92],\n       [21, 1829.91],\n       [23, 1830.02],\n       [25, 1829.98],\n       [26, 1829.92],\n       [27, 1829.91],\n       [34, 1829.97]]), 547: array([[0, 1830.32],\n       [3, 1830.36],\n       [4, 1830.31],\n       [6, 1830.36],\n       [8, 1830.32],\n       [9, 1830.44],\n       [10, 1830.43],\n       [11, 1830.31],\n       [12, 1830.38],\n       [13, 1830.31],\n       [16, 1830.36],\n       [20, 1830.41],\n       [24, 1830.41],\n       [26, 1830.37],\n       [35, 1830.33]]), 548: array([[0, 1830.74],\n       [6, 1830.83],\n       [16, 1830.71],\n       [18, 1830.77],\n       [20, 1830.73],\n       [21, 1830.8],\n       [22, 1830.76],\n       [24, 1830.8],\n       [26, 1830.79],\n       [28, 1830.77],\n       [30, 1830.87],\n       [31, 1830.78]]), 549: array([[0, 1832.09],\n       [4, 1832.06],\n       [8, 1832.1],\n       [12, 1832.11],\n       [14, 1832.1],\n       [15, 1832.17],\n       [16, 1832.1],\n       [20, 1832.18],\n       [26, 1832.16],\n       [30, 1832.16],\n       [32, 1832.07],\n       [35, 1832.11]]), 550: array([[7, 1832.57],\n       [17, 1832.56],\n       [20, 1832.61],\n       [21, 1832.57],\n       [26, 1832.56],\n       [29, 1832.6]]), 551: array([[0, 1835.08],\n       [3, 1835.17],\n       [4, 1835.17],\n       [6, 1835.08],\n       [9, 1835.16],\n       [12, 1835.18],\n       [13, 1835.09],\n       [16, 1835.07],\n       [20, 1835.11],\n       [24, 1835.14],\n       [29, 1835.15],\n       [31, 1835.19],\n       [32, 1835.04],\n       [35, 1835.16]]), 552: array([[4, 1836.26],\n       [8, 1836.26],\n       [11, 1836.27],\n       [14, 1836.28],\n       [21, 1836.29],\n       [28, 1836.3],\n       [35, 1836.29]]), 553: array([[2, 1838.43],\n       [5, 1838.42],\n       [8, 1838.41],\n       [13, 1838.41],\n       [16, 1838.41],\n       [28, 1838.42],\n       [33, 1838.43],\n       [35, 1838.43]]), 554: array([[3, 1840.57],\n       [6, 1840.52],\n       [8, 1840.47],\n       [9, 1840.48],\n       [12, 1840.56],\n       [16, 1840.51],\n       [19, 1840.61],\n       [22, 1840.58],\n       [26, 1840.56],\n       [28, 1840.48],\n       [29, 1840.59],\n       [33, 1840.56],\n       [35, 1840.5]]), 555: array([[0, 1841.28],\n       [6, 1841.32],\n       [11, 1841.32],\n       [15, 1841.33],\n       [16, 1841.26],\n       [21, 1841.3],\n       [22, 1841.32],\n       [23, 1841.31],\n       [26, 1841.32],\n       [33, 1841.34]]), 556: array([[0, 1842.18],\n       [6, 1841.95],\n       [11, 1842.15],\n       [12, 1842.08],\n       [19, 1842.02],\n       [20, 1841.98],\n       [21, 1842.4],\n       [24, 1842.38],\n       [25, 1842.04],\n       [26, 1842.02],\n       [28, 1842.03],\n       [34, 1841.99]]), 557: array([[0, 1848.99],\n       [3, 1849.02],\n       [4, 1849.17],\n       [9, 1849.14],\n       [11, 1849.03],\n       [16, 1848.99],\n       [18, 1849.01],\n       [20, 1849.02],\n       [21, 1849.01],\n       [22, 1849.04],\n       [24, 1849.1],\n       [26, 1849.19],\n       [27, 1849.04],\n       [29, 1849.08],\n       [30, 1849.13],\n       [31, 1849.16],\n       [33, 1849.19],\n       [35, 1849.04]]), 558: array([[0, 1850.92],\n       [8, 1850.91],\n       [10, 1851],\n       [14, 1850.92],\n       [27, 1851.01],\n       [35, 1850.94]]), 559: array([[2, 1853.59],\n       [5, 1853.59],\n       [8, 1853.6],\n       [14, 1853.57],\n       [17, 1853.6],\n       [35, 1853.6]]), 560: array([[2, 1854.58],\n       [3, 1854.52],\n       [6, 1854.54],\n       [8, 1854.54],\n       [11, 1854.54],\n       [12, 1854.51],\n       [16, 1854.58],\n       [20, 1854.5],\n       [27, 1854.56],\n       [28, 1854.56],\n       [29, 1854.52],\n       [33, 1854.52],\n       [35, 1854.55]]), 561: array([[0, 1855.55],\n       [1, 1855.42],\n       [2, 1855.7],\n       [3, 1855.61],\n       [6, 1855.66],\n       [7, 1855.45],\n       [8, 1855.67],\n       [11, 1855.66],\n       [12, 1855.59],\n       [16, 1855.64],\n       [19, 1855.58],\n       [20, 1855.48],\n       [21, 1855.61],\n       [22, 1855.59],\n       [24, 1855.57],\n       [25, 1855.47],\n       [26, 1855.5],\n       [27, 1855.46],\n       [28, 1855.69],\n       [29, 1855.6],\n       [34, 1855.46],\n       [35, 1855.69]]), 562: array([[4, 1857.12],\n       [8, 1857.13],\n       [10, 1857.14],\n       [11, 1857.13],\n       [12, 1857.14],\n       [13, 1857.12],\n       [14, 1857.13],\n       [19, 1857.12],\n       [22, 1857.16],\n       [28, 1857.13],\n       [30, 1857.16],\n       [31, 1857.15],\n       [32, 1857.08],\n       [33, 1857.18],\n       [35, 1857.12]]), 563: array([[0, 1859],\n       [2, 1859.04],\n       [4, 1858.99],\n       [8, 1859.02],\n       [11, 1859.02],\n       [17, 1859.03],\n       [28, 1859.03],\n       [32, 1859]]), 564: array([[1, 1859.36],\n       [7, 1859.34],\n       [8, 1859.36],\n       [9, 1859.34],\n       [12, 1859.25],\n       [14, 1859.39],\n       [15, 1859.37],\n       [17, 1859.38],\n       [18, 1859.25],\n       [20, 1859.28],\n       [21, 1859.28],\n       [22, 1859.27],\n       [23, 1859.29],\n       [24, 1859.28],\n       [25, 1859.37],\n       [27, 1859.35],\n       [29, 1859.28],\n       [34, 1859.38]]), 566: array([[0, 1862.29],\n       [4, 1862.28],\n       [8, 1862.29],\n       [28, 1862.31],\n       [32, 1862.31],\n       [35, 1862.31]]), 567: array([[1, 1865.45],\n       [16, 1865.31],\n       [21, 1865.27],\n       [24, 1865.43],\n       [26, 1865.44],\n       [27, 1865.3],\n       [30, 1865.29],\n       [35, 1865.33]]), 568: array([[0, 1866.83],\n       [3, 1866.83],\n       [4, 1866.82],\n       [9, 1866.83],\n       [11, 1866.84],\n       [12, 1867.02],\n       [16, 1866.87],\n       [20, 1866.94],\n       [21, 1867.04],\n       [22, 1866.89],\n       [23, 1866.91],\n       [24, 1866.97],\n       [27, 1866.89],\n       [29, 1867],\n       [30, 1866.94],\n       [31, 1867.02],\n       [32, 1866.83],\n       [35, 1866.85]]), 569: array([[2, 1870.59],\n       [3, 1870.52],\n       [5, 1870.62],\n       [7, 1870.65],\n       [8, 1870.56],\n       [9, 1870.59],\n       [10, 1870.57],\n       [12, 1870.51],\n       [13, 1870.6],\n       [14, 1870.58],\n       [16, 1870.57],\n       [17, 1870.6],\n       [18, 1870.47],\n       [19, 1870.54],\n       [20, 1870.49],\n       [21, 1870.47],\n       [22, 1870.49],\n       [24, 1870.5],\n       [26, 1870.54],\n       [27, 1870.58],\n       [28, 1870.57],\n       [29, 1870.53],\n       [31, 1870.48],\n       [32, 1870.49],\n       [35, 1870.49]]), 570: array([[0, 1872.57],\n       [12, 1872.59],\n       [13, 1872.57],\n       [16, 1872.59],\n       [17, 1872.27],\n       [20, 1872.57],\n       [21, 1872.45],\n       [25, 1872.32],\n       [26, 1872.3],\n       [27, 1872.58],\n       [30, 1872.46],\n       [31, 1872.33],\n       [35, 1872.3]]), 571: array([[0, 1874.62],\n       [1, 1874.52],\n       [3, 1874.74],\n       [8, 1874.64],\n       [14, 1874.62],\n       [16, 1874.75],\n       [21, 1874.73],\n       [26, 1874.65],\n       [35, 1874.67]]), 572: array([[0, 1876.36],\n       [14, 1876.33],\n       [16, 1876.35],\n       [23, 1876.34],\n       [24, 1876.36],\n       [32, 1876.36],\n       [35, 1876.35]]), 573: array([[2, 1878.17],\n       [3, 1878.16],\n       [4, 1878.15],\n       [5, 1878.17],\n       [8, 1878.16],\n       [11, 1878.16],\n       [17, 1878.18],\n       [28, 1878.17],\n       [35, 1878.19]]), 574: array([[2, 1879.39],\n       [4, 1879.33],\n       [8, 1879.36],\n       [17, 1879.41],\n       [28, 1879.38],\n       [35, 1879.38]]), 575: array([[6, 1880.51],\n       [8, 1880.47],\n       [12, 1880.53],\n       [15, 1880.52],\n       [16, 1880.51],\n       [17, 1880.49],\n       [28, 1880.47],\n       [35, 1880.49]]), 576: array([[0, 1886.13],\n       [2, 1886.06],\n       [3, 1886.25],\n       [4, 1886.01],\n       [5, 1886.04],\n       [6, 1886.21],\n       [7, 1886.12],\n       [8, 1886.31],\n       [9, 1886.04],\n       [10, 1886.01],\n       [12, 1886.26],\n       [13, 1886.07],\n       [14, 1886.01],\n       [15, 1886.19],\n       [16, 1886.15],\n       [17, 1886.32],\n       [18, 1886.21],\n       [20, 1886.2],\n       [21, 1886.21],\n       [22, 1886.22],\n       [24, 1886.21],\n       [25, 1886.31],\n       [27, 1886.24],\n       [29, 1886.22],\n       [31, 1886.27],\n       [32, 1885.98],\n       [34, 1886.21],\n       [35, 1886.05]]), 577: array([[2, 1889.98],\n       [3, 1889.92],\n       [6, 1889.76],\n       [8, 1889.95],\n       [11, 1889.69],\n       [12, 1889.88],\n       [14, 1889.98],\n       [15, 1889.68],\n       [16, 1889.88],\n       [18, 1889.73],\n       [20, 1889.7],\n       [21, 1889.75],\n       [22, 1889.73],\n       [24, 1889.74],\n       [26, 1889.68],\n       [28, 1889.96],\n       [33, 1889.92],\n       [35, 1889.98]]), 578: array([[0, 1892.31],\n       [3, 1892.41],\n       [4, 1892.37],\n       [6, 1892.34],\n       [7, 1892.49],\n       [8, 1892.35],\n       [11, 1892.35],\n       [12, 1892.4],\n       [15, 1892.38],\n       [16, 1892.29],\n       [17, 1892.49],\n       [19, 1892.4],\n       [22, 1892.42],\n       [23, 1892.29],\n       [24, 1892.45],\n       [25, 1892.51],\n       [26, 1892.4],\n       [27, 1892.37],\n       [29, 1892.43],\n       [35, 1892.37]]), 579: array([[0, 1892.98],\n       [1, 1893.09],\n       [4, 1893.05],\n       [8, 1893.03],\n       [9, 1893.03],\n       [12, 1893.05],\n       [13, 1892.86],\n       [16, 1892.99],\n       [20, 1892.99],\n       [21, 1893.01],\n       [24, 1893.01],\n       [26, 1892.88],\n       [29, 1893.03],\n       [31, 1893.06],\n       [35, 1893.04]]), 580: array([[3, 1893.67],\n       [4, 1893.68],\n       [9, 1893.66],\n       [12, 1893.67],\n       [20, 1893.57],\n       [24, 1893.59],\n       [29, 1893.62],\n       [31, 1893.63]]), 581: array([[2, 1907.78],\n       [4, 1907.84],\n       [5, 1907.81],\n       [13, 1907.8],\n       [14, 1907.82],\n       [16, 1907.8],\n       [17, 1907.8],\n       [34, 1907.8],\n       [35, 1907.82]]), 582: array([[2, 1909.41],\n       [5, 1909.41],\n       [7, 1909.46],\n       [8, 1909.45],\n       [13, 1909.42],\n       [35, 1909.41]]), 583: array([[0, 1915.87],\n       [6, 1915.92],\n       [8, 1915.9],\n       [12, 1915.93],\n       [15, 1915.93],\n       [16, 1915.89],\n       [19, 1915.97],\n       [22, 1916],\n       [29, 1915.99],\n       [33, 1915.94],\n       [35, 1915.91]]), 584: array([[0, 1917.19],\n       [3, 1917.29],\n       [6, 1917.26],\n       [8, 1917.21],\n       [12, 1917.28],\n       [14, 1917.22],\n       [16, 1917.16],\n       [26, 1917.3],\n       [32, 1917.23],\n       [33, 1917.3],\n       [35, 1917.23]]), 585: array([[9, 1917.5],\n       [18, 1917.47],\n       [20, 1917.46],\n       [23, 1917.45],\n       [24, 1917.47],\n       [26, 1917.44],\n       [29, 1917.52]]), 586: array([[1, 1923.47],\n       [3, 1923.59],\n       [4, 1923.58],\n       [7, 1923.49],\n       [9, 1923.59],\n       [17, 1923.4],\n       [20, 1923.53],\n       [23, 1923.4],\n       [26, 1923.54],\n       [29, 1923.5],\n       [30, 1923.54],\n       [31, 1923.56],\n       [35, 1923.54]]), 587: array([[2, 1925.23],\n       [4, 1925.16],\n       [6, 1925.19],\n       [7, 1925.09],\n       [8, 1925.1],\n       [12, 1925.15],\n       [16, 1925.19],\n       [17, 1925.08],\n       [19, 1925.16],\n       [21, 1925.12],\n       [22, 1925.16],\n       [24, 1925.13],\n       [25, 1925.05],\n       [26, 1925.12],\n       [27, 1925.09],\n       [28, 1925.21],\n       [29, 1925.15],\n       [30, 1925.13],\n       [33, 1925.18],\n       [35, 1925.22]]), 588: array([[1, 1925.92],\n       [7, 1925.74],\n       [11, 1925.93],\n       [15, 1925.76],\n       [17, 1925.87],\n       [20, 1926.1],\n       [23, 1925.78],\n       [25, 1925.89],\n       [26, 1926.1],\n       [29, 1925.9],\n       [30, 1926.11],\n       [34, 1925.72]]), 589: array([[0, 1934.31],\n       [2, 1934.21],\n       [4, 1934.24],\n       [5, 1934.27],\n       [6, 1934.32],\n       [11, 1934.34],\n       [13, 1934.23],\n       [14, 1934.27],\n       [16, 1934.26],\n       [17, 1934.23],\n       [22, 1934.35],\n       [31, 1934.25],\n       [33, 1934.38],\n       [34, 1934.38],\n       [35, 1934.26]]), 591: array([[4, 1966.11],\n       [6, 1966.16],\n       [15, 1966.05],\n       [21, 1966.08],\n       [27, 1966.11],\n       [32, 1966.08],\n       [33, 1966.07],\n       [35, 1966.08]]), 592: array([[2, 1966.96],\n       [3, 1966.83],\n       [5, 1966.72],\n       [6, 1966.99],\n       [8, 1966.78],\n       [12, 1966.94],\n       [13, 1967],\n       [19, 1967.02],\n       [22, 1967.04],\n       [26, 1967.01],\n       [29, 1967.02],\n       [33, 1967.02],\n       [35, 1966.92]]), 593: array([[0, 1971.06],\n       [6, 1971.23],\n       [8, 1971.13],\n       [14, 1971.1],\n       [15, 1971.23],\n       [16, 1971.09],\n       [23, 1971.07],\n       [26, 1971.25],\n       [27, 1971.23],\n       [30, 1971.05],\n       [32, 1971.06],\n       [35, 1971.11]]), 594: array([[1, 1977.62],\n       [7, 1977.66],\n       [17, 1977.65],\n       [21, 1977.72],\n       [23, 1977.65],\n       [25, 1977.63],\n       [26, 1977.71],\n       [27, 1977.71],\n       [34, 1977.6]]), 595: array([[1, 1979.01],\n       [3, 1979.06],\n       [7, 1979.1],\n       [8, 1979.14],\n       [12, 1979.07],\n       [20, 1979.17],\n       [25, 1978.97],\n       [26, 1979.04],\n       [30, 1979.05],\n       [31, 1979.09]]), 596: array([[16, 1991.21],\n       [18, 1991.25],\n       [20, 1991.25],\n       [21, 1991.28],\n       [22, 1991.28],\n       [23, 1991.31],\n       [26, 1991.33],\n       [27, 1991.27],\n       [29, 1991.27],\n       [31, 1991.3],\n       [35, 1991.28]]), 597: array([[2, 1992.16],\n       [4, 1992.14],\n       [5, 1992.15],\n       [8, 1992.17],\n       [13, 1992.14],\n       [35, 1992.17]]), 598: array([[0, 1993.02],\n       [2, 1993.3],\n       [3, 1992.99],\n       [4, 1993.01],\n       [5, 1993.16],\n       [6, 1993.45],\n       [8, 1992.92],\n       [11, 1993.43],\n       [13, 1993.18],\n       [14, 1993.44],\n       [15, 1993.48],\n       [17, 1993.15],\n       [23, 1993.01],\n       [27, 1993.12],\n       [34, 1993.27],\n       [35, 1992.98]]), 599: array([[1, 1998.57],\n       [3, 1998.54],\n       [9, 1998.53],\n       [12, 1998.5],\n       [15, 1998.45],\n       [18, 1998.48],\n       [20, 1998.47],\n       [21, 1998.5],\n       [22, 1998.49],\n       [24, 1998.48],\n       [29, 1998.53],\n       [30, 1998.53],\n       [31, 1998.55],\n       [35, 1998.54]]), 601: array([[2, 2011.86],\n       [6, 2011.89],\n       [8, 2011.84],\n       [14, 2011.87],\n       [16, 2011.87],\n       [25, 2011.87],\n       [27, 2011.88],\n       [32, 2011.9],\n       [35, 2011.86]]), 602: array([[6, 2018.31],\n       [8, 2018.64],\n       [10, 2018.38],\n       [16, 2018.64],\n       [22, 2018.61],\n       [27, 2018.79]]), 603: array([[1, 2024.96],\n       [3, 2024.91],\n       [7, 2024.96],\n       [12, 2024.92],\n       [16, 2024.94],\n       [20, 2025.01],\n       [30, 2025],\n       [35, 2025.01]]), 604: array([[2, 2033.38],\n       [4, 2033.4],\n       [8, 2033.35],\n       [11, 2033.36],\n       [12, 2033.4],\n       [13, 2033.4],\n       [17, 2033.39],\n       [27, 2033.36],\n       [35, 2033.37]]), 605: array([[0, 2033.83],\n       [2, 2033.64],\n       [9, 2033.69],\n       [13, 2033.7],\n       [15, 2033.83],\n       [16, 2033.59],\n       [20, 2033.83],\n       [23, 2033.76],\n       [25, 2033.73],\n       [26, 2033.85],\n       [35, 2033.96]]), 606: array([[6, 2034.7],\n       [8, 2034.66],\n       [13, 2034.7],\n       [14, 2034.71],\n       [15, 2034.73],\n       [16, 2034.67],\n       [19, 2034.75],\n       [26, 2034.74],\n       [27, 2034.71],\n       [33, 2034.73],\n       [35, 2034.68]]), 607: array([[1, 2044.02],\n       [7, 2043.94],\n       [8, 2044.07],\n       [15, 2044.03],\n       [17, 2043.92],\n       [25, 2044.01],\n       [26, 2043.89],\n       [27, 2043.91],\n       [29, 2044.06],\n       [34, 2044.03]]), 608: array([[0, 2045.15],\n       [1, 2045.1],\n       [2, 2045.22],\n       [3, 2045.16],\n       [6, 2045.19],\n       [8, 2045.19],\n       [12, 2045.16],\n       [14, 2045.2],\n       [16, 2045.39],\n       [17, 2045.24],\n       [19, 2045.17],\n       [23, 2045.13],\n       [25, 2045.1],\n       [26, 2045.13],\n       [29, 2045.17],\n       [35, 2045.21]]), 609: array([[2, 2051.27],\n       [6, 2051.25],\n       [8, 2051.25],\n       [11, 2051.24],\n       [12, 2051.21],\n       [13, 2051.27],\n       [16, 2051.25],\n       [19, 2051.21],\n       [24, 2051.18],\n       [26, 2051.15],\n       [29, 2051.22],\n       [33, 2051.24],\n       [35, 2051.25]]), 610: array([[3, 2053.35],\n       [7, 2053.28],\n       [9, 2053.34],\n       [12, 2053.36],\n       [17, 2053.3],\n       [18, 2053.41],\n       [20, 2053.37],\n       [21, 2053.44],\n       [22, 2053.43],\n       [24, 2053.4],\n       [29, 2053.4]])}\u001b[0m\u001b[1;34m\n        \u001b[0mrank_order_results.LR_ripple.selected_spikes_fragile_linear_neuron_IDX_dict \u001b[1;34m= {0: array([[4, 40.2466],\n       [5, 40.4098],\n       [6, 40.2782],\n       [7, 40.4601],\n       [8, 40.2026],\n       [11, 40.3019],\n       [14, 40.2332],\n       [16, 40.2683],\n       [17, 40.4876],\n       [22, 40.293],\n       [34, 40.3148],\n       [35, 40.1872]]), 1: array([[1, 41.1043],\n       [2, 41.0228],\n       [4, 41.0727],\n       [5, 41.0147],\n       [6, 41.1015],\n       [7, 41.2538],\n       [8, 41.0119],\n       [10, 41.0486],\n       [11, 41.0571],\n       [13, 41.0526],\n       [16, 41.1451],\n       [18, 41.3087],\n       [21, 41.2537],\n       [23, 41.2101],\n       [24, 41.2563],\n       [26, 41.3577],\n       [31, 41.3251],\n       [32, 41.3079],\n       [33, 41.1598],\n       [35, 41.0134]]), 2: array([[8, 43.4384],\n       [10, 43.4658],\n       [11, 43.4568],\n       [12, 43.4658],\n       [14, 43.4297],\n       [16, 43.4634],\n       [22, 43.4783],\n       [23, 43.4648],\n       [27, 43.4316],\n       [35, 43.434]]), 4: array([[2, 44.6932],\n       [3, 44.826],\n       [4, 44.6727],\n       [5, 44.6526],\n       [8, 44.5894],\n       [10, 44.6573],\n       [13, 44.6834],\n       [14, 44.6724],\n       [16, 44.6626],\n       [17, 44.658],\n       [27, 44.6319],\n       [32, 44.6293],\n       [35, 44.5887]]), 5: array([[6, 45.171],\n       [8, 45.1371],\n       [13, 45.1611],\n       [14, 45.1415],\n       [16, 45.198],\n       [22, 45.2124],\n       [26, 45.2162],\n       [27, 45.1393],\n       [31, 45.2235],\n       [35, 45.1634]]), 6: array([[3, 45.3932],\n       [4, 45.3852],\n       [7, 45.4703],\n       [9, 45.3797],\n       [20, 45.4132],\n       [26, 45.4105],\n       [29, 45.4246],\n       [30, 45.4236],\n       [31, 45.4029]]), 7: array([[4, 46.0316],\n       [6, 46.0378],\n       [7, 46.0508],\n       [8, 46.0168],\n       [10, 46.0905],\n       [11, 46.0423],\n       [14, 46.0004],\n       [15, 46.1847],\n       [16, 46.2493],\n       [18, 46.1524],\n       [20, 46.1625],\n       [22, 46.1662],\n       [24, 46.1677],\n       [25, 46.0319],\n       [27, 45.9972],\n       [31, 46.1771],\n       [33, 46.2301],\n       [35, 45.9943]]), 8: array([[6, 47.3079],\n       [8, 47.2638],\n       [10, 47.3511],\n       [11, 47.3137],\n       [12, 47.3292],\n       [13, 47.4038],\n       [14, 47.137],\n       [16, 47.3324],\n       [27, 47.1449],\n       [35, 47.1456]]), 10: array([[0, 54.2413],\n       [14, 54.2712],\n       [15, 54.2567],\n       [17, 54.2517],\n       [25, 54.2785],\n       [26, 54.2616],\n       [31, 54.2501],\n       [34, 54.2862]]), 11: array([[6, 56.1625],\n       [8, 56.1645],\n       [11, 56.1708],\n       [12, 56.1918],\n       [14, 56.1246],\n       [16, 56.1587],\n       [26, 56.1137],\n       [27, 56.1916],\n       [35, 56.1754]]), 12: array([[1, 57.7731],\n       [4, 57.8292],\n       [5, 57.7391],\n       [6, 57.8639],\n       [8, 57.552],\n       [11, 57.7253],\n       [14, 57.6231],\n       [15, 57.8906],\n       [16, 57.562],\n       [26, 57.6126],\n       [27, 57.6723],\n       [29, 57.7726],\n       [35, 57.518]]), 13: array([[5, 61.0359],\n       [8, 61.0182],\n       [14, 60.9915],\n       [16, 61.039],\n       [26, 61.0096],\n       [27, 61.024],\n       [35, 61.0143]]), 14: array([[0, 61.5938],\n       [4, 61.405],\n       [5, 61.4296],\n       [6, 61.5551],\n       [8, 61.4795],\n       [10, 61.5476],\n       [11, 61.5394],\n       [12, 61.5846],\n       [14, 61.3971],\n       [16, 61.5723],\n       [17, 61.4297],\n       [22, 61.6004],\n       [26, 61.6034],\n       [27, 61.5306],\n       [33, 61.6189],\n       [35, 61.4163]]), 15: array([[5, 63.6421],\n       [8, 63.6485],\n       [14, 63.6521],\n       [16, 63.6486],\n       [27, 63.6671],\n       [35, 63.6556]]), 16: array([[3, 65.0417],\n       [5, 64.8947],\n       [6, 64.9146],\n       [7, 65.0889],\n       [8, 64.8766],\n       [9, 65.0262],\n       [11, 64.9117],\n       [14, 64.8846],\n       [15, 64.9364],\n       [19, 64.9646],\n       [20, 65.0453],\n       [22, 65.0333],\n       [25, 65.1149],\n       [26, 64.9572],\n       [27, 64.8905],\n       [29, 65.0267],\n       [31, 65.0556],\n       [35, 64.8938]]), 17: array([[5, 68.4559],\n       [6, 68.5515],\n       [8, 68.4357],\n       [9, 68.4391],\n       [12, 68.5452],\n       [14, 68.4404],\n       [16, 68.5372],\n       [22, 68.5845],\n       [26, 68.5679],\n       [27, 68.4423],\n       [32, 68.483],\n       [35, 68.4291]]), 19: array([[6, 71.05],\n       [8, 71.017],\n       [16, 71.0445],\n       [19, 71.1017],\n       [22, 71.138],\n       [27, 71.0764]]), 20: array([[4, 72.4728],\n       [5, 72.4586],\n       [8, 72.4442],\n       [9, 72.4476],\n       [13, 72.4785],\n       [14, 72.4591],\n       [16, 72.4515],\n       [27, 72.4492],\n       [35, 72.4415]]), 21: array([[6, 72.8007],\n       [7, 72.9543],\n       [8, 72.8133],\n       [11, 72.7619],\n       [15, 72.8364],\n       [16, 72.6603],\n       [17, 72.9258],\n       [18, 72.8727],\n       [19, 72.9104],\n       [20, 72.8453],\n       [21, 72.9],\n       [22, 72.8265],\n       [24, 72.8923],\n       [26, 72.6498],\n       [27, 72.8645],\n       [29, 72.921],\n       [35, 72.8072]]), 23: array([[4, 76.0614],\n       [6, 75.995],\n       [8, 75.9891],\n       [11, 76.0139],\n       [12, 76.02],\n       [14, 76.0004],\n       [15, 76.0905],\n       [16, 75.9789],\n       [27, 76.0456],\n       [33, 76.1166],\n       [35, 76.0101]]), 24: array([[0, 78.0094],\n       [4, 77.8596],\n       [5, 77.7704],\n       [6, 77.9131],\n       [8, 77.7543],\n       [9, 78.0045],\n       [11, 77.7734],\n       [14, 77.7615],\n       [16, 77.7719],\n       [19, 77.9951],\n       [20, 77.9497],\n       [24, 77.9919],\n       [26, 77.8687],\n       [27, 77.7845],\n       [29, 78.0085],\n       [33, 77.8103],\n       [35, 77.7685]]), 25: array([[4, 79.0947],\n       [5, 79.0928],\n       [8, 79.0926],\n       [11, 79.2954],\n       [13, 79.2705],\n       [14, 79.2532],\n       [27, 79.1107],\n       [28, 79.3173],\n       [35, 79.1001]]), 26: array([[4, 80.6171],\n       [5, 80.62],\n       [6, 80.5446],\n       [8, 80.5476],\n       [10, 80.5531],\n       [13, 80.6155],\n       [14, 80.6237],\n       [15, 80.5688],\n       [16, 80.536],\n       [22, 80.5797],\n       [26, 80.6373],\n       [27, 80.6037]]), 28: array([[3, 82.1645],\n       [4, 82.1533],\n       [5, 82.1237],\n       [8, 82.1161],\n       [11, 82.1337],\n       [14, 82.1183],\n       [16, 82.124],\n       [27, 82.1283],\n       [35, 82.1127]]), 29: array([[0, 83.3338],\n       [5, 83.126],\n       [6, 83.3181],\n       [8, 83.2843],\n       [9, 83.1414],\n       [11, 83.3045],\n       [12, 83.3622],\n       [13, 83.1474],\n       [14, 83.2965],\n       [15, 83.1583],\n       [16, 83.1421],\n       [21, 83.4222],\n       [22, 83.3535],\n       [27, 83.3088],\n       [32, 83.4818],\n       [33, 83.3897],\n       [35, 83.2821]]), 30: array([[5, 85.2061],\n       [6, 85.3014],\n       [7, 85.4322],\n       [8, 85.2443],\n       [11, 85.3056],\n       [14, 85.2211],\n       [16, 85.3081],\n       [17, 85.46],\n       [21, 85.4367],\n       [24, 85.425],\n       [27, 85.2952],\n       [30, 85.422],\n       [35, 85.267]]), 31: array([[0, 91.7508],\n       [1, 91.5967],\n       [4, 91.6282],\n       [6, 91.6976],\n       [8, 91.5817],\n       [9, 91.8054],\n       [10, 91.6672],\n       [11, 91.6624],\n       [15, 91.7551],\n       [16, 91.7146],\n       [20, 91.7724],\n       [22, 91.6953],\n       [26, 91.7503],\n       [30, 91.7175],\n       [35, 91.5784]]), 32: array([[4, 94.0803],\n       [5, 94.0003],\n       [6, 93.9698],\n       [8, 93.9215],\n       [10, 94.2434],\n       [11, 93.9524],\n       [13, 94.0562],\n       [14, 93.9479],\n       [17, 94.2333],\n       [22, 94.3264],\n       [27, 93.9413],\n       [32, 93.9507],\n       [35, 93.9275]]), 33: array([[1, 95.3846],\n       [6, 95.306],\n       [8, 95.2979],\n       [14, 95.499],\n       [15, 95.4223],\n       [17, 95.4269],\n       [20, 95.5009],\n       [27, 95.5075],\n       [30, 95.4945],\n       [31, 95.4183],\n       [35, 95.3176]]), 34: array([[2, 146.73],\n       [4, 146.718],\n       [5, 146.729],\n       [8, 146.714],\n       [9, 146.633],\n       [15, 146.7],\n       [18, 146.679],\n       [20, 146.688],\n       [24, 146.679],\n       [29, 146.639],\n       [35, 146.686]]), 35: array([[0, 147.077],\n       [7, 147.042],\n       [13, 147.004],\n       [15, 146.972],\n       [16, 147.011],\n       [17, 147.014],\n       [20, 147.096],\n       [21, 147.054],\n       [22, 147.109],\n       [23, 147.001],\n       [26, 147.045],\n       [27, 147.082],\n       [29, 147.094],\n       [30, 147.061],\n       [33, 147.003]]), 36: array([[0, 147.988],\n       [4, 148.234],\n       [6, 148.062],\n       [8, 147.978],\n       [9, 147.944],\n       [12, 148.024],\n       [15, 147.897],\n       [20, 147.926],\n       [21, 148.048],\n       [27, 148.171],\n       [31, 148.155],\n       [32, 147.967],\n       [33, 148.25],\n       [35, 148.038]]), 37: array([[0, 168.305],\n       [5, 168.172],\n       [8, 168.312],\n       [10, 168.278],\n       [13, 168.167],\n       [14, 168.293],\n       [16, 168.246],\n       [17, 168.291],\n       [32, 168.33],\n       [35, 168.294]]), 38: array([[0, 170.202],\n       [3, 170.097],\n       [4, 170.071],\n       [6, 170.052],\n       [9, 170.079],\n       [12, 170.138],\n       [16, 170.14],\n       [18, 170.035],\n       [20, 170.019],\n       [22, 170.046],\n       [24, 170.052],\n       [26, 170.112],\n       [29, 170.271],\n       [31, 170.095]]), 40: array([[6, 171.519],\n       [8, 171.542],\n       [11, 171.588],\n       [14, 171.533],\n       [15, 171.51],\n       [16, 171.578],\n       [22, 171.604],\n       [26, 171.608],\n       [27, 171.543],\n       [34, 171.622],\n       [35, 171.544]]), 42: array([[1, 172.754],\n       [2, 172.623],\n       [3, 172.835],\n       [4, 172.83],\n       [5, 172.655],\n       [7, 172.728],\n       [8, 172.626],\n       [14, 172.625],\n       [15, 172.813],\n       [21, 172.796],\n       [22, 172.848],\n       [27, 172.803],\n       [30, 172.839],\n       [35, 172.619]]), 43: array([[0, 179.601],\n       [6, 179.602],\n       [8, 179.605],\n       [11, 179.631],\n       [14, 179.626],\n       [15, 179.638],\n       [16, 179.611],\n       [27, 179.634],\n       [28, 179.642],\n       [33, 179.627],\n       [35, 179.633]]), 44: array([[0, 180.553],\n       [1, 181.039],\n       [6, 180.714],\n       [8, 180.595],\n       [11, 180.714],\n       [14, 181.001],\n       [16, 180.563],\n       [27, 180.998],\n       [32, 180.561],\n       [33, 180.742]]), 45: array([[3, 181.818],\n       [6, 181.7],\n       [7, 181.864],\n       [9, 181.792],\n       [11, 181.698],\n       [12, 181.767],\n       [15, 181.725],\n       [16, 181.692],\n       [20, 181.731],\n       [22, 181.758],\n       [24, 181.759],\n       [25, 181.892],\n       [26, 181.725],\n       [29, 181.821],\n       [30, 181.74],\n       [31, 181.72],\n       [33, 181.728]]), 46: array([[3, 182.472],\n       [4, 182.447],\n       [6, 182.401],\n       [8, 182.412],\n       [10, 182.409],\n       [11, 182.475],\n       [14, 182.445],\n       [16, 182.406],\n       [19, 182.556],\n       [22, 182.41],\n       [26, 182.423],\n       [27, 182.459],\n       [32, 182.455],\n       [33, 182.47],\n       [35, 182.461]]), 47: array([[0, 187.704],\n       [6, 187.589],\n       [8, 187.598],\n       [12, 187.682],\n       [14, 187.609],\n       [15, 187.637],\n       [19, 187.671],\n       [27, 187.617],\n       [35, 187.618]]), 48: array([[4, 188.943],\n       [6, 188.839],\n       [7, 189.011],\n       [8, 188.831],\n       [9, 188.939],\n       [11, 188.844],\n       [12, 188.903],\n       [15, 188.879],\n       [16, 188.822],\n       [18, 188.897],\n       [20, 188.889],\n       [21, 188.837],\n       [22, 188.906],\n       [24, 188.919],\n       [25, 189.034],\n       [26, 188.992],\n       [30, 188.916],\n       [31, 188.975]]), 49: array([[0, 191.272],\n       [1, 191.176],\n       [4, 191.278],\n       [5, 191.265],\n       [8, 191.2],\n       [10, 191.256],\n       [12, 191.265],\n       [14, 191.264],\n       [16, 191.257],\n       [27, 191.221],\n       [31, 191.262],\n       [33, 191.189],\n       [35, 191.239]]), 50: array([[0, 192.369],\n       [6, 192.298],\n       [13, 192.377],\n       [20, 192.395],\n       [21, 192.269],\n       [25, 192.274],\n       [26, 192.386],\n       [27, 192.284],\n       [31, 192.365],\n       [34, 192.421],\n       [35, 192.35]]), 51: array([[3, 193.784],\n       [7, 193.859],\n       [9, 193.788],\n       [11, 193.648],\n       [12, 193.714],\n       [13, 193.862],\n       [15, 193.671],\n       [18, 193.713],\n       [20, 193.671],\n       [22, 193.706],\n       [24, 193.746],\n       [25, 193.883],\n       [26, 193.648],\n       [29, 193.76],\n       [30, 193.661],\n       [31, 193.817],\n       [35, 193.831]]), 52: array([[2, 195.522],\n       [3, 195.512],\n       [4, 195.499],\n       [5, 195.521],\n       [6, 195.471],\n       [8, 195.478],\n       [11, 195.45],\n       [13, 195.503],\n       [14, 195.485],\n       [16, 195.432],\n       [26, 195.448],\n       [27, 195.496],\n       [33, 195.475],\n       [35, 195.496]]), 53: array([[2, 196.545],\n       [4, 196.54],\n       [6, 196.447],\n       [8, 196.471],\n       [11, 196.485],\n       [14, 196.503],\n       [15, 196.437],\n       [16, 196.583],\n       [19, 196.441],\n       [26, 196.469],\n       [27, 196.521],\n       [35, 196.513]]), 54: array([[0, 196.737],\n       [1, 196.817],\n       [4, 196.715],\n       [6, 196.735],\n       [8, 196.77],\n       [16, 196.709],\n       [22, 196.765]]), 55: array([[0, 197.825],\n       [4, 197.79],\n       [5, 197.881],\n       [6, 197.836],\n       [8, 197.797],\n       [13, 197.859],\n       [14, 197.88],\n       [16, 197.796],\n       [32, 197.859],\n       [35, 197.883]]), 57: array([[0, 200.446],\n       [2, 200.499],\n       [3, 200.5],\n       [5, 200.508],\n       [6, 200.441],\n       [8, 200.443],\n       [11, 200.457],\n       [14, 200.47],\n       [16, 200.414],\n       [27, 200.483],\n       [35, 200.48]]), 58: array([[2, 204.304],\n       [3, 204.287],\n       [4, 204.306],\n       [5, 204.312],\n       [6, 204.227],\n       [8, 204.234],\n       [11, 204.165],\n       [14, 204.249],\n       [15, 204.174],\n       [20, 204.189],\n       [26, 204.162],\n       [27, 204.28],\n       [35, 204.275]]), 59: array([[0, 210.801],\n       [3, 210.988],\n       [9, 210.986],\n       [10, 210.751],\n       [11, 210.911],\n       [12, 210.947],\n       [13, 211.004],\n       [15, 210.929],\n       [16, 210.872],\n       [18, 210.946],\n       [20, 210.934],\n       [21, 211.007],\n       [22, 210.737],\n       [24, 210.971],\n       [26, 210.761],\n       [29, 210.975],\n       [30, 211.034],\n       [31, 211.013],\n       [32, 210.718],\n       [34, 210.905],\n       [35, 210.973]]), 60: array([[2, 211.305],\n       [4, 211.296],\n       [6, 211.329],\n       [8, 211.291],\n       [11, 211.31],\n       [14, 211.285],\n       [15, 211.352],\n       [27, 211.309],\n       [32, 211.268],\n       [35, 211.302]]), 61: array([[0, 217.739],\n       [6, 217.875],\n       [8, 217.75],\n       [11, 217.634],\n       [12, 217.783],\n       [14, 217.938],\n       [15, 217.925],\n       [16, 217.719],\n       [20, 217.817],\n       [22, 217.877],\n       [26, 217.871],\n       [33, 217.911],\n       [35, 217.808]]), 62: array([[0, 218.487],\n       [3, 218.242],\n       [4, 218.498],\n       [6, 218.437],\n       [7, 218.321],\n       [8, 218.5],\n       [9, 218.249],\n       [11, 218.107],\n       [12, 218.176],\n       [15, 218.371],\n       [16, 218.447],\n       [20, 218.193],\n       [24, 218.203],\n       [25, 218.341],\n       [26, 218.158],\n       [29, 218.261],\n       [30, 218.216],\n       [32, 218.507],\n       [33, 218.113],\n       [34, 218.358]]), 63: array([[0, 218.834],\n       [4, 218.895],\n       [6, 218.78],\n       [8, 218.865],\n       [11, 218.899],\n       [13, 218.754],\n       [14, 219.156],\n       [15, 219.154],\n       [16, 218.731],\n       [23, 218.81],\n       [26, 218.992],\n       [30, 219.009],\n       [32, 218.853],\n       [35, 219.163]]), 64: array([[0, 240.545],\n       [2, 240.633],\n       [4, 240.621],\n       [5, 240.64],\n       [7, 240.526],\n       [8, 240.62],\n       [11, 240.513],\n       [12, 240.565],\n       [14, 240.675],\n       [15, 240.754],\n       [16, 240.628],\n       [17, 240.512],\n       [19, 240.575],\n       [22, 240.557],\n       [24, 240.578],\n       [26, 240.531],\n       [27, 240.562],\n       [29, 240.584],\n       [30, 240.563],\n       [31, 240.641],\n       [35, 240.639]]), 65: array([[0, 241.814],\n       [4, 241.769],\n       [5, 241.839],\n       [7, 241.711],\n       [8, 241.823],\n       [9, 241.749],\n       [10, 241.838],\n       [11, 241.835],\n       [13, 241.704],\n       [14, 241.826],\n       [15, 241.802],\n       [16, 241.813],\n       [18, 241.781],\n       [20, 241.808],\n       [25, 241.692],\n       [26, 241.814],\n       [29, 241.784],\n       [31, 241.735],\n       [35, 241.846]]), 68: array([[0, 264.418],\n       [4, 264.412],\n       [11, 264.468],\n       [16, 264.435],\n       [22, 264.471],\n       [30, 264.438],\n       [32, 264.419],\n       [35, 264.362]]), 69: array([[0, 266.121],\n       [4, 266.075],\n       [6, 266.138],\n       [8, 266.162],\n       [11, 266.126],\n       [14, 266.095],\n       [15, 266.231],\n       [17, 266.216],\n       [19, 266.195],\n       [26, 266.185],\n       [27, 266.154],\n       [35, 266.085]]), 70: array([[3, 267.708],\n       [4, 267.703],\n       [9, 267.692],\n       [12, 267.611],\n       [15, 267.626],\n       [16, 267.606],\n       [18, 267.644],\n       [20, 267.659],\n       [21, 267.727],\n       [22, 267.665],\n       [24, 267.667],\n       [26, 267.74],\n       [30, 267.718],\n       [31, 267.729],\n       [35, 267.67]]), 72: array([[3, 283.063],\n       [4, 283.018],\n       [8, 283.129],\n       [9, 283.019],\n       [13, 283.125],\n       [14, 283.115],\n       [15, 282.904],\n       [16, 282.877],\n       [18, 282.953],\n       [20, 282.934],\n       [22, 282.977],\n       [24, 282.997],\n       [25, 283.131],\n       [26, 282.901],\n       [29, 283.071],\n       [30, 282.934],\n       [31, 283.067],\n       [35, 283.022]]), 73: array([[0, 289.99],\n       [4, 289.985],\n       [6, 290.05],\n       [8, 289.852],\n       [11, 290.041],\n       [14, 289.997],\n       [27, 290.025],\n       [30, 289.804],\n       [32, 290.003],\n       [35, 290.016]]), 74: array([[0, 293.699],\n       [4, 293.717],\n       [10, 293.733],\n       [11, 293.717],\n       [15, 293.947],\n       [16, 293.666],\n       [22, 293.821],\n       [26, 293.817],\n       [32, 293.725],\n       [33, 293.806],\n       [34, 293.811]]), 75: array([[0, 303.801],\n       [7, 303.752],\n       [8, 303.773],\n       [11, 303.858],\n       [15, 303.686],\n       [17, 303.762],\n       [18, 303.846],\n       [20, 303.82],\n       [21, 303.693],\n       [22, 303.811],\n       [24, 303.808],\n       [25, 303.719],\n       [26, 303.787],\n       [29, 303.826],\n       [30, 303.794],\n       [32, 303.683]]), 76: array([[3, 305.164],\n       [6, 305.252],\n       [9, 305.174],\n       [15, 305.266],\n       [17, 305.178],\n       [21, 305.216],\n       [22, 305.278],\n       [24, 305.166],\n       [27, 305.264],\n       [31, 305.211],\n       [35, 305.205]]), 78: array([[0, 320.509],\n       [2, 320.399],\n       [3, 320.481],\n       [4, 320.424],\n       [5, 320.434],\n       [8, 320.384],\n       [10, 320.529],\n       [13, 320.413],\n       [14, 320.42],\n       [16, 320.516],\n       [17, 320.383],\n       [32, 320.509],\n       [35, 320.434]]), 79: array([[2, 321.935],\n       [4, 321.876],\n       [5, 321.866],\n       [8, 321.835],\n       [13, 321.873],\n       [14, 321.858],\n       [35, 321.887]]), 80: array([[0, 324.188],\n       [2, 324.011],\n       [3, 324.321],\n       [4, 324],\n       [5, 324.01],\n       [6, 324.202],\n       [7, 324.366],\n       [8, 323.976],\n       [9, 324.29],\n       [10, 324.148],\n       [12, 324.253],\n       [13, 324.146],\n       [14, 324.004],\n       [15, 324.225],\n       [16, 324.188],\n       [18, 324.239],\n       [20, 324.235],\n       [21, 324.327],\n       [22, 324.256],\n       [24, 324.27],\n       [28, 323.968],\n       [29, 324.33],\n       [30, 324.261],\n       [31, 324.177],\n       [32, 324.189],\n       [34, 324.295],\n       [35, 324.011]]), 81: array([[3, 325.554],\n       [4, 325.527],\n       [20, 325.55],\n       [21, 325.495],\n       [22, 325.506],\n       [35, 325.511]]), 82: array([[0, 334.355],\n       [2, 334.286],\n       [4, 334.401],\n       [6, 334.323],\n       [8, 334.307],\n       [14, 334.273],\n       [15, 334.346],\n       [17, 334.296],\n       [27, 334.31],\n       [35, 334.313]]), 83: array([[4, 335.901],\n       [9, 335.901],\n       [10, 335.842],\n       [15, 335.734],\n       [20, 335.8],\n       [21, 335.808],\n       [31, 335.802],\n       [35, 335.858]]), 84: array([[1, 336.244],\n       [4, 336.398],\n       [8, 336.264],\n       [9, 336.444],\n       [12, 336.269],\n       [21, 336.394],\n       [22, 336.379],\n       [31, 336.253],\n       [35, 336.283]]), 85: array([[2, 337.685],\n       [6, 337.725],\n       [8, 337.695],\n       [11, 337.709],\n       [12, 337.718],\n       [14, 337.695],\n       [16, 337.701],\n       [17, 337.661],\n       [26, 337.772],\n       [27, 337.715],\n       [35, 337.699]]), 86: array([[0, 338.471],\n       [3, 338.454],\n       [6, 338.529],\n       [9, 338.566],\n       [10, 338.432],\n       [11, 338.442],\n       [13, 338.506],\n       [15, 338.497],\n       [16, 338.482],\n       [18, 338.518],\n       [20, 338.51],\n       [22, 338.535],\n       [24, 338.542],\n       [29, 338.58],\n       [30, 338.644],\n       [31, 338.608],\n       [35, 338.583]]), 87: array([[0, 340.044],\n       [2, 339.864],\n       [4, 339.838],\n       [5, 339.876],\n       [8, 339.868],\n       [11, 339.899],\n       [13, 339.989],\n       [14, 339.871],\n       [16, 340.042],\n       [17, 339.848],\n       [26, 340.072],\n       [27, 339.878],\n       [35, 339.879]]), 88: array([[0, 341.79],\n       [4, 341.709],\n       [6, 341.797],\n       [8, 341.78],\n       [9, 342.01],\n       [11, 341.776],\n       [12, 341.927],\n       [14, 341.781],\n       [15, 341.824],\n       [17, 341.986],\n       [19, 341.877],\n       [21, 341.951],\n       [22, 341.931],\n       [24, 341.972],\n       [25, 342.012],\n       [26, 341.835],\n       [27, 341.793],\n       [29, 341.937],\n       [34, 342.028],\n       [35, 341.797]]), 89: array([[2, 344.043],\n       [5, 344.051],\n       [8, 344.048],\n       [13, 344.047],\n       [14, 344.056],\n       [17, 344.033],\n       [18, 344.043],\n       [27, 344.064],\n       [35, 344.062]]), 90: array([[0, 345.598],\n       [4, 345.608],\n       [8, 345.6],\n       [16, 345.621],\n       [22, 345.643],\n       [27, 345.628],\n       [32, 345.574]]), 91: array([[0, 347.58],\n       [8, 347.575],\n       [11, 347.6],\n       [15, 347.563],\n       [20, 347.601],\n       [32, 347.548]]), 92: array([[0, 349.658],\n       [2, 349.708],\n       [4, 349.601],\n       [5, 349.722],\n       [6, 349.654],\n       [8, 349.645],\n       [11, 349.638],\n       [14, 349.669],\n       [16, 349.686],\n       [27, 349.682],\n       [35, 349.685]]), 93: array([[2, 350.6],\n       [4, 350.443],\n       [8, 350.605],\n       [9, 350.46],\n       [13, 350.402],\n       [14, 350.459],\n       [17, 350.573],\n       [27, 350.629],\n       [35, 350.62]]), 95: array([[11, 355.629],\n       [15, 355.546],\n       [16, 355.606],\n       [20, 355.634],\n       [21, 355.564],\n       [26, 355.633],\n       [30, 355.59],\n       [32, 355.61]]), 96: array([[2, 356.214],\n       [6, 356.281],\n       [8, 356.242],\n       [11, 356.27],\n       [14, 356.26],\n       [15, 356.298],\n       [17, 356.219],\n       [19, 356.333],\n       [26, 356.322],\n       [27, 356.271],\n       [35, 356.262]]), 97: array([[2, 364.57],\n       [4, 364.551],\n       [8, 364.586],\n       [9, 364.584],\n       [11, 364.606],\n       [13, 364.559],\n       [14, 364.576],\n       [15, 364.652],\n       [17, 364.579],\n       [25, 364.663],\n       [27, 364.599],\n       [35, 364.59]]), 98: array([[0, 366.15],\n       [2, 366.08],\n       [7, 366.074],\n       [8, 366.136],\n       [11, 366.18],\n       [12, 366.05],\n       [13, 366.099],\n       [15, 366.079],\n       [16, 366.049],\n       [22, 366.081]]), 99: array([[0, 367.883],\n       [4, 368.017],\n       [6, 367.927],\n       [9, 368.006],\n       [11, 367.993],\n       [15, 367.955],\n       [16, 367.905],\n       [17, 368.057],\n       [18, 367.971],\n       [20, 368.01],\n       [22, 367.936],\n       [24, 367.998],\n       [26, 368.068],\n       [32, 367.89],\n       [34, 368.112],\n       [35, 368.002]]), 100: array([[0, 368.916],\n       [2, 368.951],\n       [4, 368.837],\n       [6, 368.968],\n       [8, 368.793],\n       [10, 368.756],\n       [11, 368.744],\n       [14, 368.961],\n       [15, 368.977],\n       [17, 368.899],\n       [26, 369.008],\n       [27, 368.948],\n       [35, 368.949]]), 101: array([[2, 372.034],\n       [4, 371.996],\n       [5, 372.038],\n       [6, 372.063],\n       [8, 372.037],\n       [9, 372.029],\n       [14, 372.049],\n       [15, 372.081],\n       [16, 372.026],\n       [19, 372.108],\n       [20, 372.105],\n       [26, 372.093],\n       [27, 372.059],\n       [35, 372.044]]), 102: array([[0, 373.026],\n       [4, 372.992],\n       [6, 373.046],\n       [8, 373.019],\n       [16, 373.036],\n       [32, 373.036]]), 103: array([[3, 380.351],\n       [6, 380.259],\n       [7, 380.312],\n       [8, 380.343],\n       [9, 380.354],\n       [10, 380.431],\n       [12, 380.409],\n       [15, 380.281],\n       [18, 380.433],\n       [19, 380.56],\n       [20, 380.324],\n       [21, 380.335],\n       [22, 380.436],\n       [24, 380.416],\n       [26, 380.528],\n       [29, 380.589],\n       [30, 380.333],\n       [31, 380.362],\n       [33, 380.582]]), 104: array([[0, 382.755],\n       [6, 382.738],\n       [8, 382.725],\n       [10, 382.682],\n       [11, 382.709],\n       [16, 382.744],\n       [22, 382.739],\n       [27, 382.726],\n       [35, 382.727]]), 105: array([[2, 383.351],\n       [5, 383.351],\n       [6, 383.424],\n       [8, 383.337],\n       [10, 383.439],\n       [11, 383.413],\n       [13, 383.354],\n       [14, 383.367],\n       [15, 383.453],\n       [16, 383.358],\n       [17, 383.356],\n       [23, 383.679],\n       [26, 383.48],\n       [27, 383.416],\n       [29, 383.632],\n       [33, 383.667],\n       [35, 383.366]]), 106: array([[2, 388.979],\n       [4, 389.253],\n       [6, 389.046],\n       [8, 389.008],\n       [10, 389.19],\n       [11, 389.044],\n       [14, 389.023],\n       [15, 389.085],\n       [17, 389.02],\n       [27, 389.038],\n       [35, 389.032]]), 107: array([[0, 390.223],\n       [4, 390.236],\n       [10, 390.175],\n       [11, 390.086],\n       [12, 390.064],\n       [15, 390.041],\n       [16, 390.023],\n       [18, 390.068],\n       [20, 390.064],\n       [22, 390.073],\n       [24, 390.09],\n       [26, 390.05],\n       [28, 390.219],\n       [30, 390.064],\n       [32, 390.003]]), 108: array([[0, 394.136],\n       [1, 393.927],\n       [2, 394.062],\n       [4, 394.114],\n       [5, 394.104],\n       [6, 393.853],\n       [7, 394.062],\n       [8, 393.934],\n       [9, 394.054],\n       [10, 393.971],\n       [14, 394.1],\n       [16, 394.031],\n       [27, 393.95],\n       [35, 393.984]]), 109: array([[3, 396.689],\n       [7, 396.832],\n       [8, 396.819],\n       [9, 396.724],\n       [13, 396.817],\n       [20, 396.671],\n       [21, 396.72],\n       [25, 396.845],\n       [26, 396.866],\n       [27, 396.63],\n       [30, 396.716],\n       [31, 396.723],\n       [32, 396.857]]), 110: array([[0, 398.829],\n       [2, 398.627],\n       [4, 398.601],\n       [5, 398.629],\n       [6, 398.69],\n       [7, 399.012],\n       [8, 398.624],\n       [9, 398.633],\n       [11, 398.683],\n       [12, 398.776],\n       [14, 398.677],\n       [15, 398.703],\n       [17, 398.632],\n       [19, 398.736],\n       [22, 398.788],\n       [24, 398.849],\n       [25, 399.034],\n       [26, 398.722],\n       [27, 398.684],\n       [29, 398.779],\n       [31, 398.968],\n       [33, 398.942],\n       [34, 398.972],\n       [35, 398.645]]), 111: array([[7, 399.557],\n       [17, 399.514],\n       [20, 399.457],\n       [21, 399.449],\n       [27, 399.441],\n       [29, 399.489],\n       [32, 399.549],\n       [33, 399.481],\n       [35, 399.45]]), 112: array([[11, 400.169],\n       [15, 400.142],\n       [19, 400.17],\n       [20, 400.141],\n       [21, 400.15],\n       [31, 400.05],\n       [32, 400.118],\n       [34, 400.126]]), 113: array([[2, 401.411],\n       [5, 401.409],\n       [8, 401.437],\n       [10, 401.41],\n       [13, 401.411],\n       [14, 401.41],\n       [16, 401.394],\n       [17, 401.421],\n       [35, 401.427]]), 114: array([[9, 401.977],\n       [11, 401.978],\n       [14, 401.989],\n       [15, 401.991],\n       [18, 402.007],\n       [20, 401.999],\n       [22, 402.021],\n       [24, 402.016],\n       [26, 401.986],\n       [29, 402.048],\n       [35, 402.031]]), 115: array([[2, 408.43],\n       [8, 408.435],\n       [10, 408.48],\n       [11, 408.469],\n       [14, 408.454],\n       [17, 408.413],\n       [23, 408.477],\n       [27, 408.466],\n       [35, 408.447]]), 116: array([[0, 409.821],\n       [4, 409.955],\n       [5, 410.045],\n       [6, 409.866],\n       [8, 409.859],\n       [11, 409.888],\n       [13, 410.019],\n       [14, 410.06],\n       [16, 409.865],\n       [17, 410.028],\n       [22, 409.909],\n       [26, 409.903],\n       [32, 409.868],\n       [34, 409.908]]), 117: array([[0, 412.041],\n       [7, 412.051],\n       [9, 412.009],\n       [13, 412.025],\n       [15, 412.069],\n       [26, 412.075],\n       [28, 412.017],\n       [34, 412.101]]), 118: array([[2, 418.852],\n       [4, 418.884],\n       [5, 418.899],\n       [8, 418.869],\n       [14, 418.876],\n       [21, 419.005],\n       [30, 418.993],\n       [35, 418.89]]), 119: array([[0, 419.698],\n       [3, 419.809],\n       [6, 419.676],\n       [7, 419.856],\n       [9, 419.788],\n       [11, 419.689],\n       [15, 419.7],\n       [16, 419.651],\n       [17, 419.86],\n       [18, 419.719],\n       [20, 419.696],\n       [22, 419.726],\n       [24, 419.744],\n       [26, 419.683],\n       [29, 419.787],\n       [30, 419.687],\n       [31, 419.693],\n       [33, 419.767],\n       [35, 419.832]]), 120: array([[0, 421.457],\n       [2, 421.363],\n       [4, 421.347],\n       [6, 421.417],\n       [8, 421.365],\n       [12, 421.558],\n       [14, 421.4],\n       [17, 421.353],\n       [19, 421.507],\n       [22, 421.562],\n       [24, 421.623],\n       [27, 421.414],\n       [29, 421.571],\n       [35, 421.377]]), 122: array([[0, 425.105],\n       [3, 425.095],\n       [4, 425.068],\n       [8, 425.133],\n       [11, 425.152],\n       [14, 425.063],\n       [15, 425.161],\n       [16, 425.116],\n       [22, 425.158]]), 124: array([[2, 427.436],\n       [4, 427.429],\n       [5, 427.439],\n       [8, 427.436],\n       [13, 427.423],\n       [14, 427.426],\n       [16, 427.412],\n       [17, 427.444],\n       [35, 427.446]]), 125: array([[0, 431.392],\n       [6, 431.401],\n       [11, 431.42],\n       [14, 431.362],\n       [16, 431.368],\n       [22, 431.418],\n       [28, 431.36],\n       [35, 431.445]]), 126: array([[10, 431.783],\n       [11, 431.757],\n       [13, 431.865],\n       [14, 431.794],\n       [16, 431.843],\n       [31, 431.807],\n       [35, 431.806]]), 127: array([[2, 432.148],\n       [4, 432.077],\n       [6, 432.099],\n       [8, 432.066],\n       [11, 432.098],\n       [14, 432.077],\n       [27, 432.094],\n       [35, 432.095]]), 128: array([[1, 433.011],\n       [2, 433.144],\n       [4, 432.868],\n       [8, 432.95],\n       [12, 433.167],\n       [13, 433.088],\n       [16, 432.878],\n       [17, 432.89],\n       [23, 433.267],\n       [26, 433.086],\n       [29, 433.115]]), 129: array([[0, 434.102],\n       [6, 434.108],\n       [8, 434.112],\n       [9, 434.204],\n       [14, 434.119],\n       [15, 434.138],\n       [16, 434.112],\n       [19, 434.167],\n       [20, 434.244],\n       [22, 434.2],\n       [25, 434.275],\n       [26, 434.16],\n       [27, 434.316],\n       [29, 434.203],\n       [30, 434.244],\n       [35, 434.147]]), 130: array([[2, 436.844],\n       [4, 436.967],\n       [5, 436.829],\n       [7, 436.829],\n       [8, 436.844],\n       [14, 437],\n       [17, 436.949]]), 131: array([[2, 437.476],\n       [5, 437.461],\n       [8, 437.481],\n       [13, 437.433],\n       [17, 437.465],\n       [27, 437.495],\n       [35, 437.491]]), 132: array([[4, 437.872],\n       [10, 438.037],\n       [11, 438.307],\n       [13, 437.955],\n       [17, 437.983],\n       [27, 437.908]]), 133: array([[0, 442.151],\n       [4, 442.071],\n       [6, 442.151],\n       [8, 442.143],\n       [10, 442.108],\n       [16, 442.104],\n       [22, 442.167],\n       [32, 442.122]]), 134: array([[2, 442.905],\n       [3, 442.884],\n       [5, 442.898],\n       [8, 442.892],\n       [13, 442.888],\n       [14, 442.89],\n       [17, 442.907],\n       [27, 442.929],\n       [35, 442.912]]), 135: array([[0, 443.674],\n       [4, 443.685],\n       [6, 443.71],\n       [8, 443.684],\n       [15, 443.812],\n       [16, 443.704],\n       [17, 443.783]]), 136: array([[3, 444.891],\n       [8, 444.888],\n       [9, 444.884],\n       [15, 444.993],\n       [20, 444.9],\n       [24, 444.899],\n       [25, 444.967],\n       [26, 444.869],\n       [30, 444.912],\n       [31, 444.877],\n       [35, 444.904]]), 137: array([[2, 446.092],\n       [3, 446.061],\n       [4, 446.055],\n       [5, 446.089],\n       [8, 446.089],\n       [14, 446.093],\n       [16, 446.085],\n       [17, 446.083],\n       [35, 446.106]]), 138: array([[4, 446.91],\n       [7, 446.818],\n       [13, 446.905],\n       [16, 446.885],\n       [17, 447.149],\n       [19, 446.812],\n       [20, 446.739],\n       [21, 446.791],\n       [25, 446.951],\n       [26, 446.835],\n       [27, 446.946],\n       [31, 447.105],\n       [34, 447.136],\n       [35, 446.734]]), 139: array([[6, 447.381],\n       [9, 447.426],\n       [15, 447.328],\n       [17, 447.351],\n       [19, 447.355],\n       [22, 447.403],\n       [30, 447.327],\n       [35, 447.411]]), 140: array([[0, 449.786],\n       [3, 449.702],\n       [4, 449.684],\n       [7, 449.773],\n       [9, 449.681],\n       [15, 449.814],\n       [18, 449.64],\n       [20, 449.617],\n       [21, 449.715],\n       [22, 449.648],\n       [24, 449.651],\n       [25, 449.806],\n       [26, 449.757],\n       [29, 449.72],\n       [30, 449.711],\n       [35, 449.729]]), 141: array([[0, 450.273],\n       [6, 450.259],\n       [8, 450.246],\n       [12, 450.338],\n       [16, 450.263],\n       [19, 450.342],\n       [22, 450.351],\n       [26, 450.295],\n       [29, 450.354]]), 142: array([[4, 451.893],\n       [6, 451.942],\n       [8, 451.91],\n       [11, 451.94],\n       [13, 451.91],\n       [14, 451.901],\n       [15, 451.99],\n       [27, 451.94],\n       [35, 451.929]]), 143: array([[0, 456.457],\n       [2, 456.278],\n       [4, 456.23],\n       [5, 456.279],\n       [7, 456.466],\n       [8, 456.272],\n       [9, 456.278],\n       [11, 456.342],\n       [13, 456.271],\n       [14, 456.269],\n       [15, 456.375],\n       [16, 456.365],\n       [17, 456.468],\n       [20, 456.381],\n       [21, 456.459],\n       [22, 456.406],\n       [24, 456.404],\n       [25, 456.507],\n       [26, 456.38],\n       [27, 456.29],\n       [30, 456.464],\n       [32, 456.509],\n       [35, 456.282]]), 144: array([[3, 485.206],\n       [4, 485.2],\n       [7, 485.29],\n       [8, 485.308],\n       [9, 485.204],\n       [12, 485.135],\n       [13, 485.053],\n       [15, 485.332],\n       [18, 485.134],\n       [20, 485.07],\n       [22, 485.129],\n       [24, 485.173],\n       [25, 485.319],\n       [26, 485.046],\n       [27, 485.226],\n       [29, 485.211],\n       [30, 485.276]]), 145: array([[1, 486.682],\n       [7, 486.67],\n       [12, 486.669],\n       [15, 486.743],\n       [17, 486.65],\n       [21, 486.747],\n       [23, 486.726],\n       [25, 486.703],\n       [26, 486.654],\n       [27, 486.8],\n       [30, 486.629],\n       [31, 486.647]]), 146: array([[0, 487.306],\n       [6, 487.293],\n       [8, 487.589],\n       [15, 487.539],\n       [16, 487.27],\n       [18, 487.175],\n       [19, 487.589],\n       [20, 487.545],\n       [26, 487.346],\n       [28, 487.182],\n       [31, 487.54]]), 147: array([[0, 489.137],\n       [20, 489.079],\n       [21, 489.09],\n       [23, 489.095],\n       [27, 489.089],\n       [31, 489.071],\n       [32, 489.124]]), 148: array([[0, 491.209],\n       [4, 491.22],\n       [5, 491.241],\n       [6, 491.192],\n       [8, 491.212],\n       [12, 491.194],\n       [14, 491.223],\n       [15, 491.326],\n       [16, 491.211],\n       [20, 491.342],\n       [22, 491.189],\n       [27, 491.239],\n       [33, 491.302],\n       [35, 491.178]]), 149: array([[0, 505.239],\n       [1, 505.207],\n       [7, 505.22],\n       [12, 505.262],\n       [13, 505.196],\n       [17, 505.181],\n       [19, 505.269],\n       [21, 505.249],\n       [22, 505.257],\n       [25, 505.207],\n       [27, 505.249],\n       [29, 505.268]]), 151: array([[4, 518.596],\n       [5, 518.537],\n       [8, 518.594],\n       [13, 518.572],\n       [14, 518.6],\n       [35, 518.6]]), 152: array([[0, 519.096],\n       [2, 519.05],\n       [4, 519.065],\n       [10, 519.106],\n       [14, 519.083],\n       [16, 519.117],\n       [17, 519.043],\n       [30, 519.106],\n       [35, 519.122]]), 153: array([[0, 520.313],\n       [5, 520.299],\n       [6, 520.271],\n       [9, 520.325],\n       [15, 520.327],\n       [16, 520.294],\n       [20, 520.307],\n       [27, 520.323],\n       [35, 520.291]]), 154: array([[0, 522.369],\n       [4, 522.239],\n       [6, 522.294],\n       [11, 522.262],\n       [14, 522.233],\n       [16, 522.292],\n       [19, 522.362],\n       [20, 522.413],\n       [22, 522.329]]), 155: array([[4, 523.117],\n       [5, 523.129],\n       [14, 523.119],\n       [17, 523.138],\n       [33, 523.132],\n       [35, 523.117]]), 156: array([[3, 523.938],\n       [4, 523.933],\n       [6, 523.851],\n       [9, 523.917],\n       [20, 523.949],\n       [21, 523.884],\n       [26, 523.88],\n       [35, 523.891]]), 157: array([[3, 542.766],\n       [4, 542.792],\n       [9, 542.77],\n       [11, 542.839],\n       [15, 542.686],\n       [16, 542.736],\n       [20, 542.758],\n       [25, 542.732],\n       [28, 542.862],\n       [31, 542.769],\n       [35, 542.764]]), 158: array([[0, 543.39],\n       [4, 543.467],\n       [6, 543.437],\n       [8, 543.449],\n       [11, 543.466],\n       [12, 543.41],\n       [14, 543.464],\n       [15, 543.325],\n       [16, 543.479],\n       [19, 543.413],\n       [22, 543.404],\n       [23, 543.352],\n       [26, 543.387],\n       [27, 543.483],\n       [29, 543.42],\n       [35, 543.465]]), 159: array([[1, 544.793],\n       [7, 544.931],\n       [8, 544.949],\n       [9, 544.83],\n       [10, 544.871],\n       [12, 544.833],\n       [21, 544.861],\n       [25, 545.034],\n       [31, 544.837],\n       [35, 544.814]]), 160: array([[3, 545.793],\n       [7, 545.744],\n       [9, 545.805],\n       [12, 545.89],\n       [16, 545.965],\n       [17, 545.746],\n       [18, 545.875],\n       [20, 545.779],\n       [22, 545.884],\n       [24, 545.869],\n       [30, 545.787],\n       [31, 545.811],\n       [35, 545.884]]), 161: array([[0, 546.475],\n       [1, 546.439],\n       [7, 546.49],\n       [15, 546.448],\n       [17, 546.409],\n       [19, 546.504],\n       [22, 546.495],\n       [24, 546.508],\n       [25, 546.428],\n       [26, 546.472],\n       [30, 546.481]]), 162: array([[3, 548.448],\n       [7, 548.406],\n       [9, 548.462],\n       [15, 548.417],\n       [17, 548.414],\n       [20, 548.439]]), 163: array([[3, 549.968],\n       [4, 549.986],\n       [9, 549.969],\n       [18, 550.018],\n       [20, 549.943],\n       [22, 550.04],\n       [24, 550.013]]), 164: array([[1, 550.939],\n       [7, 551.013],\n       [15, 551.075],\n       [17, 550.878],\n       [23, 550.942],\n       [25, 550.96],\n       [29, 550.935],\n       [33, 550.61],\n       [34, 550.65]]), 165: array([[1, 551.227],\n       [7, 551.201],\n       [13, 551.233],\n       [17, 551.214],\n       [25, 551.216],\n       [27, 551.388]]), 166: array([[15, 555.602],\n       [17, 555.404],\n       [21, 555.515],\n       [25, 555.448],\n       [26, 555.437],\n       [27, 555.232],\n       [34, 555.223]]), 167: array([[3, 556.244],\n       [7, 556.208],\n       [8, 556.202],\n       [9, 556.245],\n       [15, 556.056],\n       [21, 556.266],\n       [25, 556.109],\n       [28, 556.246],\n       [31, 555.987],\n       [34, 556.021]]), 169: array([[0, 565.754],\n       [3, 565.704],\n       [4, 565.688],\n       [5, 565.689],\n       [10, 565.736],\n       [11, 565.799],\n       [16, 565.773],\n       [17, 565.671],\n       [28, 565.676],\n       [32, 565.784]]), 171: array([[4, 568.488],\n       [5, 568.492],\n       [8, 568.463],\n       [10, 568.519],\n       [13, 568.52],\n       [14, 568.456],\n       [17, 568.468],\n       [27, 568.474],\n       [35, 568.468]]), 172: array([[3, 571.16],\n       [4, 571.164],\n       [6, 571.075],\n       [9, 571.142],\n       [15, 571.075],\n       [19, 571.109],\n       [20, 571.061],\n       [22, 571.111],\n       [23, 571.206],\n       [24, 571.121],\n       [26, 571.088],\n       [29, 571.116]]), 173: array([[6, 577.373],\n       [7, 577.479],\n       [8, 577.385],\n       [10, 577.418],\n       [14, 577.397],\n       [16, 577.355],\n       [26, 577.377],\n       [27, 577.402],\n       [35, 577.404]]), 174: array([[1, 593.786],\n       [7, 593.837],\n       [13, 594.063],\n       [15, 593.72],\n       [20, 593.815],\n       [21, 593.931],\n       [23, 593.759],\n       [25, 593.794],\n       [34, 593.887]]), 175: array([[0, 595.536],\n       [1, 595.489],\n       [2, 595.618],\n       [4, 595.625],\n       [5, 595.623],\n       [6, 595.591],\n       [7, 595.523],\n       [8, 595.594],\n       [11, 595.597],\n       [12, 595.558],\n       [14, 595.603],\n       [15, 595.342],\n       [17, 595.615],\n       [22, 595.559],\n       [25, 595.354],\n       [26, 595.596],\n       [27, 595.615],\n       [29, 595.562],\n       [35, 595.601]]), 177: array([[4, 605.803],\n       [8, 605.775],\n       [10, 605.839],\n       [11, 605.82],\n       [12, 605.816],\n       [14, 605.795],\n       [16, 605.809],\n       [27, 605.822],\n       [30, 605.88],\n       [31, 605.889],\n       [35, 605.862]]), 179: array([[2, 609.008],\n       [4, 609.02],\n       [5, 609.038],\n       [8, 609.009],\n       [13, 609.042],\n       [14, 609.031],\n       [30, 609.021],\n       [35, 609.033]]), 180: array([[0, 609.252],\n       [6, 609.244],\n       [13, 609.217],\n       [16, 609.233],\n       [22, 609.303],\n       [26, 609.293]]), 181: array([[0, 616.607],\n       [6, 616.602],\n       [8, 616.613],\n       [10, 616.631],\n       [14, 616.624],\n       [26, 616.654],\n       [27, 616.634],\n       [35, 616.651]]), 182: array([[0, 628.518],\n       [1, 628.455],\n       [7, 628.485],\n       [12, 628.54],\n       [15, 628.423],\n       [19, 628.545],\n       [26, 628.488],\n       [29, 628.546]]), 183: array([[1, 628.968],\n       [7, 628.972],\n       [12, 628.992],\n       [17, 629.05],\n       [21, 629.052],\n       [25, 629.018]]), 184: array([[1, 631.128],\n       [3, 631.181],\n       [7, 631.112],\n       [9, 630.86],\n       [10, 631.134],\n       [15, 630.96],\n       [18, 630.899],\n       [20, 630.936],\n       [22, 630.916],\n       [23, 630.907],\n       [24, 630.903],\n       [25, 631.081],\n       [29, 630.906],\n       [30, 631.146],\n       [31, 631.187],\n       [33, 631.109],\n       [35, 630.899]]), 186: array([[1, 635.345],\n       [7, 635.343],\n       [15, 635.317],\n       [30, 635.318],\n       [33, 635.283],\n       [34, 635.294]]), 187: array([[1, 637.292],\n       [3, 637.112],\n       [7, 637.424],\n       [8, 637.08],\n       [9, 637.102],\n       [10, 637.147],\n       [15, 637.531],\n       [17, 637.229],\n       [18, 637.149],\n       [20, 637.163],\n       [23, 637.161],\n       [29, 637.069],\n       [30, 637.126],\n       [31, 637.113]]), 188: array([[6, 663.695],\n       [8, 663.708],\n       [15, 663.688],\n       [18, 663.572],\n       [19, 663.663],\n       [20, 663.566],\n       [22, 663.59],\n       [23, 663.611],\n       [24, 663.58],\n       [27, 663.624],\n       [29, 663.616],\n       [35, 663.714]]), 189: array([[0, 663.88],\n       [1, 664.169],\n       [7, 664.181],\n       [11, 663.906],\n       [13, 664.175],\n       [15, 664.047],\n       [16, 663.843],\n       [17, 664.149],\n       [20, 664.055],\n       [21, 663.913],\n       [22, 663.905],\n       [24, 664.058],\n       [25, 664.175],\n       [26, 664.042],\n       [32, 663.898]]), 190: array([[0, 664.526],\n       [2, 664.569],\n       [6, 664.532],\n       [8, 664.524],\n       [14, 664.544],\n       [16, 664.505],\n       [17, 664.597],\n       [26, 664.805],\n       [27, 664.556],\n       [35, 664.552]]), 191: array([[0, 668.384],\n       [1, 668.475],\n       [4, 668.38],\n       [6, 668.596],\n       [8, 668.396],\n       [10, 668.33],\n       [11, 668.359],\n       [13, 668.567],\n       [14, 668.585],\n       [15, 668.535],\n       [21, 668.522],\n       [23, 668.606],\n       [24, 668.524],\n       [26, 668.577],\n       [32, 668.302],\n       [34, 668.389]]), 194: array([[1, 689.063],\n       [2, 689.256],\n       [3, 689.145],\n       [4, 689.254],\n       [5, 689.274],\n       [7, 689.082],\n       [8, 689.241],\n       [9, 689.147],\n       [13, 689.12],\n       [14, 689.252],\n       [15, 689.081],\n       [17, 689.268],\n       [18, 689.197],\n       [20, 689.129],\n       [22, 689.211],\n       [24, 689.199],\n       [25, 689.107],\n       [27, 689.271],\n       [29, 689.201],\n       [31, 689.103],\n       [35, 689.196]]), 195: array([[0, 697.777],\n       [2, 697.647],\n       [4, 697.713],\n       [5, 697.719],\n       [6, 697.796],\n       [7, 697.657],\n       [8, 697.646],\n       [11, 697.805],\n       [13, 697.708],\n       [14, 697.735],\n       [16, 697.795],\n       [17, 697.648],\n       [22, 697.821],\n       [28, 697.709],\n       [32, 697.748],\n       [35, 697.74]]), 196: array([[0, 698.754],\n       [2, 698.631],\n       [3, 699.147],\n       [4, 698.682],\n       [6, 698.762],\n       [8, 698.753],\n       [11, 698.752],\n       [13, 698.892],\n       [14, 698.764],\n       [15, 699.006],\n       [16, 698.782],\n       [17, 698.642],\n       [19, 699.167],\n       [21, 698.951],\n       [22, 698.791],\n       [28, 698.772],\n       [29, 698.974],\n       [33, 698.88],\n       [35, 698.766]]), 197: array([[2, 700.523],\n       [4, 700.534],\n       [5, 700.524],\n       [8, 700.504],\n       [9, 700.499],\n       [11, 700.546],\n       [12, 700.562],\n       [13, 700.521],\n       [14, 700.534],\n       [17, 700.516],\n       [35, 700.538]]), 198: array([[1, 701.727],\n       [2, 701.562],\n       [3, 701.783],\n       [4, 701.818],\n       [6, 701.618],\n       [7, 701.723],\n       [8, 701.554],\n       [9, 701.783],\n       [10, 701.603],\n       [11, 701.623],\n       [13, 701.645],\n       [14, 701.582],\n       [15, 701.634],\n       [17, 701.567],\n       [19, 701.663],\n       [20, 701.81],\n       [21, 701.661],\n       [23, 701.836],\n       [24, 701.83],\n       [26, 701.642],\n       [27, 701.601],\n       [30, 701.809],\n       [31, 701.794],\n       [35, 701.581]]), 199: array([[2, 703.002],\n       [4, 703.031],\n       [5, 703.022],\n       [8, 703.007],\n       [14, 703.024],\n       [16, 703.034],\n       [17, 703.012],\n       [35, 703.03]]), 200: array([[1, 711.129],\n       [6, 711.059],\n       [8, 711.062],\n       [10, 711.139],\n       [11, 710.963],\n       [12, 711.053],\n       [14, 711.073],\n       [15, 711.003],\n       [16, 711.088],\n       [20, 711.016],\n       [22, 711.044],\n       [26, 710.97],\n       [27, 711.079],\n       [30, 711.005],\n       [35, 711.07]]), 201: array([[0, 723.218],\n       [1, 723.19],\n       [7, 723.009],\n       [12, 723.125],\n       [13, 723.013],\n       [16, 723.07],\n       [17, 723.155],\n       [20, 723.051],\n       [25, 723.176],\n       [26, 723.216]]), 202: array([[0, 724.685],\n       [1, 724.593],\n       [3, 724.65],\n       [7, 724.588],\n       [9, 724.638],\n       [16, 724.606],\n       [20, 724.63],\n       [21, 724.788],\n       [31, 724.665]]), 203: array([[1, 726.443],\n       [7, 726.443],\n       [14, 726.439],\n       [15, 726.281],\n       [17, 726.27],\n       [23, 726.277],\n       [25, 726.408],\n       [28, 726.377],\n       [33, 726.309]]), 204: array([[1, 727.894],\n       [3, 727.947],\n       [6, 727.984],\n       [9, 727.938],\n       [18, 727.989],\n       [22, 728.011],\n       [24, 727.984],\n       [29, 727.993],\n       [34, 727.965],\n       [35, 727.978]]), 205: array([[0, 728.369],\n       [1, 728.332],\n       [7, 728.279],\n       [17, 728.341],\n       [19, 728.393],\n       [22, 728.39],\n       [25, 728.337]]), 207: array([[0, 743.256],\n       [2, 743.166],\n       [6, 743.236],\n       [8, 743.167],\n       [10, 743.229],\n       [11, 743.287],\n       [14, 743.211],\n       [16, 743.263],\n       [17, 743.192],\n       [27, 743.221],\n       [32, 743.252],\n       [33, 743.293],\n       [35, 743.212]]), 208: array([[2, 744.145],\n       [4, 744.123],\n       [5, 744.153],\n       [8, 744.157],\n       [13, 744.122],\n       [14, 744.158],\n       [17, 744.137],\n       [32, 744.159],\n       [35, 744.143]]), 209: array([[7, 749.42],\n       [9, 749.358],\n       [15, 749.247],\n       [18, 749.319],\n       [20, 749.266],\n       [22, 749.311],\n       [24, 749.342],\n       [29, 749.338],\n       [30, 749.403],\n       [34, 749.36],\n       [35, 749.354]]), 210: array([[6, 749.642],\n       [8, 749.649],\n       [11, 749.662],\n       [14, 749.655],\n       [16, 749.621],\n       [26, 749.683],\n       [27, 749.662],\n       [35, 749.663]]), 212: array([[0, 759.191],\n       [9, 759.211],\n       [15, 759.139],\n       [17, 759.154],\n       [18, 759.248],\n       [20, 759.255],\n       [22, 759.205],\n       [24, 759.221],\n       [26, 759.187],\n       [29, 759.259],\n       [30, 759.218]]), 213: array([[1, 760.209],\n       [7, 760.048],\n       [8, 760.043],\n       [11, 760.053],\n       [15, 759.889],\n       [17, 760.174],\n       [20, 760.073],\n       [25, 760.208],\n       [33, 759.839],\n       [34, 759.945],\n       [35, 760.044]]), 214: array([[1, 760.887],\n       [3, 760.945],\n       [7, 760.888],\n       [9, 760.946],\n       [25, 760.916],\n       [29, 760.908],\n       [31, 760.957],\n       [35, 760.956]]), 215: array([[1, 761.581],\n       [7, 761.478],\n       [8, 761.605],\n       [13, 761.62],\n       [15, 761.434],\n       [17, 761.581],\n       [23, 761.721],\n       [25, 761.578],\n       [29, 761.597]]), 216: array([[0, 769.525],\n       [2, 769.45],\n       [4, 769.512],\n       [5, 769.702],\n       [8, 769.513],\n       [9, 769.709],\n       [14, 769.525],\n       [16, 769.732],\n       [23, 769.703],\n       [32, 769.525],\n       [33, 769.775]]), 217: array([[4, 770.473],\n       [6, 770.443],\n       [8, 770.559],\n       [9, 770.485],\n       [13, 770.609],\n       [15, 770.433],\n       [16, 770.485],\n       [22, 770.466],\n       [27, 770.485],\n       [30, 770.587],\n       [32, 770.626]]), 219: array([[2, 773.038],\n       [4, 773.069],\n       [5, 773.081],\n       [8, 773.027],\n       [13, 773.076],\n       [14, 773.064],\n       [17, 773.03],\n       [28, 773.035],\n       [35, 773.053]]), 220: array([[2, 773.745],\n       [4, 773.896],\n       [6, 773.791],\n       [8, 773.75],\n       [11, 773.786],\n       [13, 773.88],\n       [14, 773.77],\n       [16, 773.762],\n       [17, 773.748],\n       [27, 773.772],\n       [28, 774.044],\n       [32, 773.894],\n       [35, 773.769]]), 221: array([[1, 792.627],\n       [3, 792.689],\n       [7, 792.635],\n       [9, 792.688],\n       [13, 792.687],\n       [30, 792.672],\n       [31, 792.693],\n       [34, 792.544],\n       [35, 792.684]]), 222: array([[1, 793.855],\n       [3, 793.963],\n       [7, 793.891],\n       [9, 793.963],\n       [15, 794.231],\n       [20, 793.94],\n       [25, 794.056],\n       [29, 793.916],\n       [30, 793.942],\n       [33, 794.341],\n       [34, 793.855]]), 225: array([[0, 799.484],\n       [1, 799.415],\n       [3, 799.537],\n       [7, 799.446],\n       [17, 799.404],\n       [21, 799.545],\n       [22, 799.515],\n       [24, 799.497],\n       [25, 799.431],\n       [26, 799.451],\n       [29, 799.402],\n       [30, 799.476],\n       [33, 799.374]]), 226: array([[1, 799.927],\n       [2, 800.114],\n       [3, 800.017],\n       [6, 800.108],\n       [7, 799.935],\n       [8, 800.093],\n       [9, 800.009],\n       [12, 800.065],\n       [14, 800.102],\n       [17, 800.124],\n       [18, 800.059],\n       [20, 799.994],\n       [22, 800.081],\n       [24, 800.062],\n       [26, 799.998],\n       [27, 800.109],\n       [29, 800.059],\n       [30, 799.986],\n       [31, 800.017],\n       [35, 800.018]]), 227: array([[0, 812.448],\n       [2, 812.364],\n       [4, 812.412],\n       [6, 812.478],\n       [8, 812.457],\n       [11, 812.459],\n       [12, 812.438],\n       [13, 812.372],\n       [14, 812.458],\n       [16, 812.475],\n       [22, 812.496],\n       [32, 812.434],\n       [35, 812.472]]), 228: array([[2, 812.921],\n       [4, 812.851],\n       [5, 812.996],\n       [10, 812.819],\n       [13, 812.958],\n       [15, 813.004],\n       [32, 812.818],\n       [34, 813.001]]), 229: array([[3, 814.092],\n       [4, 814.066],\n       [9, 814.067],\n       [18, 813.996],\n       [20, 814.031],\n       [22, 814.034],\n       [23, 814.021],\n       [24, 814.035],\n       [29, 814.041],\n       [31, 814.026]]), 230: array([[0, 815.353],\n       [2, 815.267],\n       [4, 815.311],\n       [8, 815.284],\n       [10, 815.373],\n       [12, 815.468],\n       [13, 815.322],\n       [14, 815.302],\n       [16, 815.368],\n       [17, 815.269],\n       [19, 815.44],\n       [22, 815.404],\n       [24, 815.461],\n       [26, 815.394],\n       [32, 815.362],\n       [33, 815.397],\n       [34, 815.291],\n       [35, 815.307]]), 231: array([[1, 816.649],\n       [2, 816.583],\n       [5, 816.62],\n       [8, 816.602],\n       [12, 816.584],\n       [13, 816.648],\n       [14, 816.616],\n       [17, 816.591],\n       [27, 816.628],\n       [35, 816.628]]), 232: array([[1, 836.917],\n       [3, 836.784],\n       [4, 836.823],\n       [7, 836.785],\n       [15, 836.973],\n       [16, 836.898],\n       [17, 836.778],\n       [20, 836.81],\n       [23, 837.097],\n       [25, 836.973],\n       [26, 836.789],\n       [30, 836.81],\n       [31, 836.806],\n       [33, 836.968],\n       [34, 836.99]]), 233: array([[0, 838.549],\n       [1, 838.505],\n       [3, 838.601],\n       [7, 838.507],\n       [9, 838.586],\n       [13, 838.535],\n       [30, 838.572],\n       [31, 838.604]]), 234: array([[1, 841.442],\n       [3, 841.513],\n       [4, 841.544],\n       [7, 841.467],\n       [9, 841.512],\n       [12, 841.577],\n       [18, 841.571],\n       [20, 841.499],\n       [24, 841.442],\n       [25, 841.474],\n       [26, 841.495],\n       [29, 841.531],\n       [30, 841.571],\n       [31, 841.52]]), 237: array([[0, 854.076],\n       [2, 854.012],\n       [4, 854.056],\n       [5, 854.044],\n       [6, 854.173],\n       [8, 854.131],\n       [9, 854.234],\n       [11, 854.27],\n       [13, 854.035],\n       [15, 854.264],\n       [19, 854.306],\n       [21, 854.245],\n       [29, 854.312],\n       [33, 854.212],\n       [35, 854.308]]), 238: array([[0, 854.839],\n       [4, 854.815],\n       [6, 854.851],\n       [8, 854.841],\n       [11, 854.85],\n       [12, 854.831],\n       [14, 854.822],\n       [27, 854.847],\n       [32, 854.836],\n       [35, 854.841]]), 239: array([[4, 855.131],\n       [5, 855.162],\n       [10, 855.173],\n       [13, 855.152],\n       [16, 855.194],\n       [17, 855.111]]), 240: array([[0, 856.044],\n       [4, 856.03],\n       [6, 856.084],\n       [8, 856.037],\n       [11, 856.1],\n       [14, 856.021],\n       [15, 856.119],\n       [16, 856.067],\n       [20, 856.12],\n       [22, 856.097],\n       [26, 856.107],\n       [31, 856.098],\n       [35, 856.024]]), 241: array([[3, 857.346],\n       [7, 857.403],\n       [9, 857.334],\n       [12, 857.31],\n       [17, 857.446],\n       [19, 857.313],\n       [20, 857.364],\n       [22, 857.415],\n       [24, 857.311],\n       [26, 857.411],\n       [29, 857.357],\n       [30, 857.382],\n       [31, 857.367],\n       [32, 857.361],\n       [34, 857.432]]), 242: array([[0, 858.057],\n       [2, 858.125],\n       [4, 858.032],\n       [5, 858.18],\n       [6, 858.075],\n       [8, 858.049],\n       [11, 858.059],\n       [13, 858.195],\n       [14, 858.061],\n       [16, 858.066],\n       [17, 858.133],\n       [27, 858.061],\n       [34, 858.144],\n       [35, 858.059]]), 243: array([[3, 867.112],\n       [6, 867.109],\n       [9, 867.104],\n       [10, 866.934],\n       [11, 866.959],\n       [13, 867.038],\n       [15, 866.98],\n       [16, 866.935],\n       [17, 866.975],\n       [19, 867.053],\n       [20, 866.967],\n       [21, 867.06],\n       [27, 867.042],\n       [31, 867.064],\n       [32, 866.977],\n       [33, 866.963]]), 244: array([[0, 867.655],\n       [3, 867.726],\n       [4, 867.713],\n       [9, 867.672],\n       [12, 867.801],\n       [15, 867.836],\n       [18, 867.79],\n       [20, 867.674],\n       [21, 867.723],\n       [22, 867.662],\n       [29, 867.785],\n       [30, 867.68],\n       [31, 867.703]]), 246: array([[1, 869.793],\n       [7, 869.787],\n       [15, 869.785],\n       [17, 869.784],\n       [25, 869.868],\n       [26, 869.876],\n       [27, 869.936],\n       [34, 869.881]]), 247: array([[0, 873.393],\n       [2, 873.458],\n       [4, 873.377],\n       [5, 873.482],\n       [6, 873.425],\n       [8, 873.41],\n       [12, 873.487],\n       [13, 873.472],\n       [14, 873.432],\n       [16, 873.406],\n       [17, 873.464],\n       [26, 873.399],\n       [27, 873.439],\n       [32, 873.379],\n       [34, 873.494],\n       [35, 873.44]]), 249: array([[0, 875.522],\n       [6, 875.501],\n       [11, 875.504],\n       [16, 875.486],\n       [26, 875.511],\n       [33, 875.523]]), 250: array([[0, 877.865],\n       [2, 877.52],\n       [4, 877.668],\n       [5, 877.647],\n       [6, 877.685],\n       [8, 877.667],\n       [9, 877.532],\n       [11, 877.686],\n       [12, 877.807],\n       [13, 877.65],\n       [15, 877.7],\n       [17, 877.667],\n       [19, 877.732],\n       [21, 877.628],\n       [22, 877.808],\n       [24, 877.863],\n       [26, 877.715],\n       [27, 877.686],\n       [29, 877.8],\n       [30, 877.733],\n       [32, 877.681],\n       [34, 877.906],\n       [35, 877.674]]), 251: array([[7, 878.123],\n       [9, 878.271],\n       [15, 878.208],\n       [18, 878.303],\n       [20, 878.315],\n       [25, 878.187],\n       [26, 878.244],\n       [27, 878.17],\n       [29, 878.223],\n       [30, 878.293]]), 252: array([[2, 879.054],\n       [4, 879.002],\n       [6, 879.112],\n       [8, 879.054],\n       [10, 879.103],\n       [11, 879.096],\n       [13, 879.026],\n       [14, 879.09],\n       [15, 879.126],\n       [16, 879.034],\n       [17, 879.013],\n       [27, 879.09],\n       [35, 879.081]]), 253: array([[0, 879.712],\n       [5, 879.859],\n       [10, 879.824],\n       [11, 879.72],\n       [16, 879.715],\n       [22, 879.739],\n       [31, 879.702],\n       [32, 879.717]]), 254: array([[0, 880.866],\n       [6, 880.908],\n       [8, 880.89],\n       [11, 880.914],\n       [12, 880.89],\n       [16, 880.891],\n       [27, 880.921],\n       [32, 880.866],\n       [35, 880.913]]), 255: array([[0, 882.242],\n       [1, 881.991],\n       [3, 882.023],\n       [6, 882.12],\n       [7, 881.983],\n       [8, 882.097],\n       [9, 882.023],\n       [11, 882.12],\n       [15, 881.975],\n       [16, 882.292],\n       [17, 881.987],\n       [20, 882.043],\n       [21, 882.032],\n       [24, 882.088],\n       [26, 882.358],\n       [29, 882.096],\n       [30, 882.016],\n       [31, 882.033],\n       [34, 881.984],\n       [35, 882.03]]), 257: array([[6, 885.563],\n       [8, 885.559],\n       [12, 885.571],\n       [15, 885.473],\n       [17, 885.488],\n       [19, 885.547],\n       [22, 885.596],\n       [24, 885.532],\n       [26, 885.57],\n       [33, 885.565]]), 258: array([[2, 886.565],\n       [5, 886.588],\n       [7, 886.603],\n       [8, 886.58],\n       [9, 886.648],\n       [12, 886.61],\n       [13, 886.591],\n       [14, 886.595],\n       [16, 886.573],\n       [17, 886.562],\n       [21, 886.676],\n       [24, 886.644],\n       [35, 886.602]]), 259: array([[0, 887.367],\n       [6, 887.406],\n       [8, 887.364],\n       [11, 887.402],\n       [15, 887.408],\n       [16, 887.384],\n       [20, 887.434],\n       [22, 887.422],\n       [32, 887.39]]), 260: array([[0, 888.023],\n       [2, 888.077],\n       [4, 888.013],\n       [6, 888.054],\n       [8, 888.043],\n       [11, 888.046],\n       [14, 888.026],\n       [17, 888.08],\n       [26, 888.031],\n       [27, 888.06],\n       [35, 888.05]]), 261: array([[0, 889.096],\n       [1, 889.273],\n       [6, 889.122],\n       [8, 889.108],\n       [9, 889.192],\n       [10, 889.151],\n       [11, 889.148],\n       [15, 889.288],\n       [16, 889.111],\n       [17, 889.261],\n       [19, 889.177],\n       [20, 889.24],\n       [21, 889.285],\n       [22, 889.562],\n       [26, 889.166],\n       [27, 889.284],\n       [29, 889.49],\n       [30, 889.125],\n       [31, 889.445],\n       [35, 889.132]]), 262: array([[2, 893.391],\n       [4, 893.475],\n       [5, 893.442],\n       [7, 893.413],\n       [8, 893.487],\n       [13, 893.382],\n       [14, 893.479],\n       [15, 893.481],\n       [17, 893.466],\n       [21, 893.426],\n       [27, 893.506],\n       [29, 893.431],\n       [35, 893.469]]), 263: array([[0, 894.811],\n       [6, 894.857],\n       [15, 894.88],\n       [16, 894.84],\n       [26, 894.882],\n       [30, 894.837]]), 264: array([[1, 895.589],\n       [7, 895.546],\n       [15, 895.594],\n       [17, 895.567],\n       [20, 895.602],\n       [22, 895.566],\n       [29, 895.612]]), 265: array([[4, 895.756],\n       [8, 895.76],\n       [11, 895.78],\n       [12, 895.823],\n       [13, 895.759],\n       [14, 895.767],\n       [16, 895.772],\n       [27, 895.788],\n       [35, 895.785]]), 266: array([[0, 897.758],\n       [4, 897.775],\n       [6, 897.808],\n       [8, 897.773],\n       [11, 897.796],\n       [14, 897.791],\n       [15, 897.816],\n       [16, 897.782],\n       [27, 897.806],\n       [32, 897.786],\n       [35, 897.801]]), 267: array([[0, 898.93],\n       [2, 898.779],\n       [4, 898.92],\n       [6, 898.937],\n       [8, 898.928],\n       [10, 898.991],\n       [13, 899.033],\n       [14, 898.933],\n       [16, 899.049],\n       [27, 898.952],\n       [32, 898.913],\n       [33, 899.055],\n       [35, 898.945]]), 268: array([[1, 899.805],\n       [3, 899.738],\n       [7, 899.809],\n       [9, 899.707],\n       [20, 899.793],\n       [25, 899.825],\n       [26, 899.787],\n       [30, 899.687],\n       [32, 899.695],\n       [34, 899.687]]), 269: array([[0, 900.576],\n       [6, 900.614],\n       [8, 900.615],\n       [12, 900.683],\n       [14, 900.642],\n       [15, 900.638],\n       [16, 900.613],\n       [19, 900.68],\n       [22, 900.693],\n       [24, 900.704],\n       [26, 900.659],\n       [27, 900.636],\n       [29, 900.688],\n       [32, 900.589],\n       [35, 900.647]]), 270: array([[0, 903.563],\n       [4, 903.561],\n       [8, 903.562],\n       [9, 903.589],\n       [14, 903.567],\n       [27, 903.573],\n       [32, 903.566],\n       [35, 903.573]]), 271: array([[2, 904.837],\n       [4, 904.779],\n       [5, 904.831],\n       [8, 904.837],\n       [11, 904.869],\n       [13, 904.818],\n       [14, 904.835],\n       [16, 904.824],\n       [17, 904.828],\n       [27, 904.875],\n       [28, 904.848],\n       [32, 904.785],\n       [35, 904.847]]), 272: array([[0, 905.135],\n       [8, 905.138],\n       [11, 905.172],\n       [15, 905.186],\n       [16, 905.155],\n       [32, 905.109]]), 273: array([[0, 906.099],\n       [1, 906.235],\n       [6, 906.119],\n       [7, 906.23],\n       [8, 906.1],\n       [9, 906.19],\n       [11, 906.146],\n       [15, 906.143],\n       [16, 906.109],\n       [20, 906.161],\n       [24, 906.185],\n       [25, 906.254],\n       [26, 906.146],\n       [29, 906.187],\n       [32, 906.068]]), 275: array([[1, 907.744],\n       [3, 907.617],\n       [4, 907.607],\n       [7, 907.73],\n       [9, 907.597],\n       [10, 907.586],\n       [15, 907.773],\n       [20, 907.585],\n       [23, 907.786],\n       [24, 907.567],\n       [25, 907.483],\n       [26, 907.643],\n       [30, 907.628],\n       [31, 907.469],\n       [32, 907.624],\n       [35, 907.669]]), 276: array([[15, 908.975],\n       [17, 909.1],\n       [18, 909.021],\n       [20, 909.03],\n       [22, 909.04],\n       [26, 908.984],\n       [30, 909.002]]), 277: array([[12, 909.389],\n       [13, 909.231],\n       [15, 909.339],\n       [20, 909.404],\n       [25, 909.276],\n       [26, 909.421],\n       [30, 909.35],\n       [35, 909.267]]), 278: array([[4, 909.704],\n       [6, 909.725],\n       [8, 909.704],\n       [10, 909.74],\n       [11, 909.735],\n       [14, 909.718],\n       [27, 909.742],\n       [35, 909.738]]), 279: array([[0, 911.411],\n       [1, 911.561],\n       [2, 911.269],\n       [4, 911.232],\n       [5, 911.269],\n       [6, 911.327],\n       [8, 911.215],\n       [11, 911.327],\n       [13, 911.249],\n       [14, 911.267],\n       [15, 911.353],\n       [16, 911.282],\n       [17, 911.262],\n       [19, 911.384],\n       [22, 911.393],\n       [24, 911.443],\n       [25, 911.58],\n       [26, 911.533],\n       [29, 911.385],\n       [30, 911.545],\n       [31, 911.49],\n       [32, 911.227],\n       [35, 911.272]]), 280: array([[0, 912.192],\n       [4, 912.204],\n       [6, 912.211],\n       [8, 912.185],\n       [11, 912.254],\n       [16, 912.212],\n       [22, 912.247],\n       [32, 912.205],\n       [35, 912.211]]), 281: array([[2, 913.859],\n       [6, 913.914],\n       [8, 913.828],\n       [11, 913.877],\n       [14, 913.845],\n       [17, 913.852],\n       [26, 913.925],\n       [27, 913.87],\n       [32, 913.832],\n       [35, 913.871]]), 282: array([[6, 914.57],\n       [11, 914.428],\n       [15, 914.458],\n       [16, 914.512],\n       [18, 914.561],\n       [20, 914.55],\n       [22, 914.575],\n       [24, 914.592],\n       [26, 914.522],\n       [33, 914.547],\n       [35, 914.594]]), 283: array([[1, 917.385],\n       [2, 917.559],\n       [4, 917.518],\n       [6, 917.525],\n       [7, 917.391],\n       [8, 917.524],\n       [9, 917.343],\n       [11, 917.306],\n       [14, 917.521],\n       [15, 917.322],\n       [16, 917.592],\n       [17, 917.396],\n       [20, 917.327],\n       [26, 917.302],\n       [27, 917.411],\n       [32, 917.488],\n       [33, 917.297],\n       [35, 917.533]]), 284: array([[6, 919.95],\n       [8, 919.952],\n       [14, 919.934],\n       [15, 919.96],\n       [26, 919.977],\n       [27, 919.937],\n       [35, 919.941]]), 285: array([[1, 938.249],\n       [7, 938.249],\n       [9, 938.325],\n       [13, 938.266],\n       [26, 938.299],\n       [29, 938.261],\n       [30, 938.313]]), 286: array([[1, 938.67],\n       [7, 938.689],\n       [15, 938.854],\n       [17, 938.698],\n       [23, 938.88],\n       [25, 938.692],\n       [30, 938.736],\n       [34, 938.877]]), 287: array([[1, 951.819],\n       [3, 951.78],\n       [4, 951.906],\n       [5, 951.967],\n       [6, 951.754],\n       [7, 951.85],\n       [9, 951.77],\n       [13, 951.826],\n       [15, 951.726],\n       [18, 951.739],\n       [20, 951.743],\n       [22, 951.748],\n       [24, 951.762],\n       [25, 951.857],\n       [29, 951.785],\n       [31, 951.759],\n       [33, 951.902],\n       [35, 951.803]]), 288: array([[2, 956.878],\n       [4, 956.807],\n       [6, 956.89],\n       [8, 956.874],\n       [10, 956.901],\n       [11, 956.886],\n       [13, 956.853],\n       [14, 956.866],\n       [15, 956.908],\n       [17, 956.875],\n       [27, 956.885],\n       [28, 956.895],\n       [32, 956.874],\n       [33, 956.839],\n       [35, 956.867]]), 289: array([[0, 957.717],\n       [2, 957.835],\n       [3, 957.807],\n       [5, 957.792],\n       [7, 957.993],\n       [8, 957.723],\n       [10, 957.724],\n       [11, 957.728],\n       [13, 957.792],\n       [14, 957.702],\n       [17, 957.815],\n       [19, 957.939],\n       [22, 957.942],\n       [24, 957.957],\n       [29, 957.945],\n       [30, 957.998],\n       [31, 957.969],\n       [32, 957.72],\n       [35, 957.727]]), 290: array([[11, 967.798],\n       [12, 967.738],\n       [15, 967.783],\n       [20, 967.778],\n       [21, 967.858],\n       [27, 967.747],\n       [33, 967.77],\n       [35, 967.775]]), 291: array([[0, 970.417],\n       [2, 970.489],\n       [4, 970.517],\n       [5, 970.514],\n       [8, 970.365],\n       [14, 970.454],\n       [16, 970.426],\n       [17, 970.505],\n       [27, 970.469],\n       [28, 970.515],\n       [32, 970.385],\n       [35, 970.468]]), 292: array([[1, 986.062],\n       [15, 986.096],\n       [21, 986.088],\n       [23, 986.076],\n       [25, 986.091],\n       [27, 986.081],\n       [29, 986.063]]), 293: array([[3, 986.556],\n       [7, 986.503],\n       [9, 986.544],\n       [30, 986.54],\n       [31, 986.552],\n       [34, 986.543]]), 294: array([[0, 1002.93],\n       [4, 1002.77],\n       [6, 1002.94],\n       [11, 1002.96],\n       [13, 1002.78],\n       [14, 1002.8],\n       [16, 1002.79]]), 296: array([[2, 1004.88],\n       [3, 1004.68],\n       [6, 1004.66],\n       [15, 1004.65],\n       [17, 1004.89],\n       [21, 1004.67],\n       [22, 1004.86],\n       [23, 1004.82],\n       [25, 1004.67],\n       [27, 1004.68],\n       [35, 1004.68]]), 297: array([[2, 1006],\n       [4, 1006.03],\n       [5, 1006.04],\n       [13, 1006.04],\n       [14, 1006.05],\n       [17, 1006.02],\n       [35, 1006.05]]), 298: array([[1, 1025.25],\n       [3, 1025.33],\n       [7, 1025.26],\n       [9, 1025.34],\n       [20, 1025.31],\n       [25, 1025.29],\n       [29, 1025.27],\n       [30, 1025.31]]), 299: array([[0, 1025.88],\n       [1, 1025.84],\n       [7, 1025.83],\n       [15, 1025.8],\n       [17, 1025.82],\n       [19, 1025.91],\n       [22, 1025.89],\n       [23, 1025.82],\n       [24, 1025.9],\n       [25, 1025.83],\n       [26, 1025.86],\n       [29, 1025.84],\n       [30, 1025.88]]), 301: array([[1, 1030.88],\n       [3, 1031.1],\n       [7, 1031.04],\n       [9, 1031.1],\n       [15, 1030.89],\n       [18, 1031.13],\n       [23, 1031.26],\n       [25, 1030.9],\n       [34, 1030.91],\n       [35, 1031.1]]), 302: array([[0, 1041.55],\n       [8, 1041.54],\n       [10, 1041.61],\n       [12, 1041.76],\n       [15, 1041.66],\n       [16, 1041.56],\n       [21, 1041.7],\n       [22, 1041.59],\n       [32, 1041.57],\n       [35, 1041.6]]), 303: array([[2, 1044.1],\n       [3, 1044.06],\n       [4, 1044.09],\n       [5, 1044.1],\n       [6, 1043.87],\n       [8, 1043.87],\n       [11, 1043.92],\n       [13, 1044.07],\n       [14, 1044.02],\n       [15, 1043.86],\n       [17, 1044.09],\n       [26, 1043.87],\n       [27, 1043.87],\n       [28, 1044.11],\n       [34, 1043.89],\n       [35, 1044.05]]), 304: array([[2, 1049.7],\n       [6, 1049.63],\n       [8, 1049.64],\n       [11, 1049.63],\n       [13, 1049.68],\n       [14, 1049.65],\n       [16, 1049.41],\n       [17, 1049.71],\n       [23, 1049.58],\n       [26, 1049.64],\n       [27, 1049.65],\n       [28, 1049.71],\n       [35, 1049.66]]), 306: array([[1, 1062.61],\n       [3, 1062.69],\n       [7, 1062.6],\n       [9, 1062.69],\n       [20, 1062.67],\n       [24, 1062.66],\n       [26, 1062.66],\n       [30, 1062.67],\n       [31, 1062.7],\n       [35, 1062.68]]), 307: array([[0, 1064.61],\n       [1, 1064.5],\n       [3, 1064.58],\n       [7, 1064.51],\n       [9, 1064.58],\n       [20, 1064.56],\n       [25, 1064.53],\n       [30, 1064.57],\n       [31, 1064.59]]), 308: array([[0, 1074.99],\n       [3, 1074.99],\n       [4, 1075.01],\n       [6, 1075.07],\n       [8, 1075.02],\n       [10, 1075.05],\n       [11, 1075.07],\n       [13, 1074.93],\n       [16, 1075.04],\n       [22, 1075.06],\n       [29, 1075.03]]), 309: array([[3, 1077.15],\n       [4, 1077.14],\n       [8, 1077.02],\n       [9, 1077.13],\n       [11, 1077.05],\n       [14, 1077.05],\n       [15, 1077.1],\n       [19, 1077.12],\n       [20, 1077.17],\n       [24, 1077.22],\n       [26, 1077.19],\n       [27, 1077.05],\n       [31, 1077.18],\n       [35, 1077.06]]), 310: array([[2, 1078.15],\n       [5, 1078.18],\n       [6, 1078.35],\n       [8, 1078.16],\n       [13, 1078.17],\n       [14, 1078.18],\n       [15, 1078.22],\n       [16, 1078.29],\n       [18, 1078.35],\n       [20, 1078.35],\n       [21, 1078.26],\n       [22, 1078.36],\n       [24, 1078.36],\n       [28, 1078.14],\n       [35, 1078.18]]), 311: array([[0, 1078.79],\n       [2, 1078.78],\n       [6, 1078.82],\n       [8, 1078.77],\n       [15, 1078.87],\n       [17, 1078.79],\n       [26, 1078.86],\n       [27, 1078.82],\n       [28, 1078.78],\n       [35, 1078.81]]), 312: array([[0, 1101.06],\n       [1, 1101],\n       [3, 1101.07],\n       [6, 1101.07],\n       [9, 1101.05],\n       [14, 1100.98],\n       [15, 1100.95],\n       [18, 1101.07],\n       [20, 1101.03],\n       [26, 1101.03],\n       [29, 1101.08],\n       [30, 1101.05],\n       [35, 1101.03]]), 313: array([[1, 1101.98],\n       [7, 1101.98],\n       [15, 1101.94],\n       [20, 1102.02],\n       [23, 1101.94],\n       [25, 1102.01],\n       [29, 1101.99],\n       [30, 1102.02]]), 314: array([[1, 1102.96],\n       [6, 1103.05],\n       [7, 1102.91],\n       [8, 1103.04],\n       [9, 1103],\n       [11, 1103.04],\n       [15, 1102.84],\n       [26, 1102.99],\n       [27, 1103.06],\n       [30, 1102.98],\n       [34, 1102.84],\n       [35, 1103.05]]), 315: array([[2, 1110.28],\n       [5, 1110.27],\n       [13, 1110.25],\n       [14, 1110.26],\n       [16, 1110.32],\n       [35, 1110.28]]), 316: array([[0, 1110.76],\n       [6, 1110.77],\n       [8, 1110.76],\n       [12, 1110.82],\n       [16, 1110.76],\n       [22, 1110.8],\n       [27, 1110.84],\n       [30, 1110.81],\n       [31, 1110.77],\n       [33, 1110.83],\n       [35, 1110.82]]), 318: array([[0, 1112],\n       [4, 1111.97],\n       [5, 1111.98],\n       [8, 1112],\n       [11, 1112],\n       [13, 1111.94],\n       [14, 1111.98],\n       [16, 1112.04],\n       [17, 1111.95],\n       [18, 1112.08],\n       [20, 1112.08],\n       [21, 1112.1],\n       [22, 1112.1],\n       [24, 1112.1],\n       [27, 1112.01],\n       [29, 1112.1],\n       [35, 1111.99]]), 319: array([[2, 1113.05],\n       [6, 1113.11],\n       [8, 1113.1],\n       [12, 1113.05],\n       [14, 1113.1],\n       [16, 1113.09],\n       [17, 1113.07],\n       [26, 1113.14],\n       [27, 1113.1],\n       [35, 1113.1]]), 320: array([[0, 1113.87],\n       [2, 1114.08],\n       [3, 1114.08],\n       [5, 1114.09],\n       [6, 1114.07],\n       [8, 1114.07],\n       [9, 1113.89],\n       [11, 1114.07],\n       [14, 1114.07],\n       [16, 1113.92],\n       [17, 1114.09],\n       [27, 1114.09],\n       [28, 1114.08],\n       [34, 1113.99],\n       [35, 1114.08]]), 321: array([[6, 1121.51],\n       [8, 1121.52],\n       [11, 1121.28],\n       [12, 1121.56],\n       [15, 1121.53],\n       [16, 1121.48],\n       [22, 1121.25],\n       [26, 1121.13],\n       [27, 1121.53],\n       [30, 1121.09],\n       [33, 1121.39],\n       [34, 1121.28],\n       [35, 1121.53]]), 322: array([[1, 1131.41],\n       [3, 1131.49],\n       [7, 1131.42],\n       [9, 1131.5],\n       [11, 1131.43],\n       [25, 1131.45],\n       [31, 1131.51],\n       [35, 1131.54]]), 324: array([[1, 1133.1],\n       [7, 1133.1],\n       [8, 1133.18],\n       [11, 1133.25],\n       [12, 1133.14],\n       [15, 1133.11],\n       [17, 1133.24],\n       [23, 1133.32],\n       [25, 1133.14],\n       [27, 1133.13],\n       [29, 1133.27]]), 325: array([[1, 1134.47],\n       [6, 1134.57],\n       [7, 1134.48],\n       [8, 1134.56],\n       [9, 1134.53],\n       [15, 1134.65],\n       [20, 1134.51],\n       [23, 1134.67],\n       [26, 1134.52],\n       [29, 1134.82],\n       [35, 1134.52]]), 326: array([[0, 1137.27],\n       [1, 1136.98],\n       [2, 1137.45],\n       [3, 1137.44],\n       [7, 1137.19],\n       [9, 1137.43],\n       [11, 1137.13],\n       [12, 1137.39],\n       [15, 1137.06],\n       [17, 1136.96],\n       [18, 1137.47],\n       [20, 1137.43],\n       [21, 1137.28],\n       [22, 1137.5],\n       [23, 1136.95],\n       [24, 1137.48],\n       [25, 1137.24],\n       [26, 1137.06],\n       [34, 1137.28]]), 328: array([[1, 1150.38],\n       [3, 1150.42],\n       [7, 1150.38],\n       [9, 1150.41],\n       [18, 1150.45],\n       [20, 1150.4],\n       [21, 1150.42],\n       [26, 1150.24],\n       [29, 1150.41],\n       [35, 1150.41]]), 329: array([[0, 1151.68],\n       [6, 1151.73],\n       [11, 1151.77],\n       [12, 1151.72],\n       [19, 1151.71],\n       [22, 1151.7],\n       [24, 1151.72],\n       [26, 1151.66],\n       [27, 1151.69],\n       [29, 1151.71]]), 330: array([[1, 1151.99],\n       [3, 1152.07],\n       [7, 1152.01],\n       [9, 1152.05],\n       [13, 1151.99],\n       [15, 1152.01],\n       [17, 1151.97],\n       [20, 1152.03],\n       [26, 1152.04],\n       [30, 1152.04],\n       [34, 1152.04]]), 331: array([[0, 1152.62],\n       [2, 1152.73],\n       [6, 1152.69],\n       [8, 1152.7],\n       [11, 1152.69],\n       [12, 1152.66],\n       [14, 1152.71],\n       [15, 1152.69],\n       [17, 1152.61],\n       [19, 1152.65],\n       [22, 1152.63],\n       [25, 1152.75],\n       [26, 1152.56],\n       [27, 1152.72],\n       [28, 1152.73],\n       [29, 1152.66],\n       [30, 1152.58],\n       [34, 1152.62],\n       [35, 1152.71]]), 332: array([[12, 1153.46],\n       [18, 1153.45],\n       [20, 1153.45],\n       [21, 1153.48],\n       [22, 1153.48],\n       [24, 1153.45],\n       [26, 1153.48]]), 333: array([[3, 1153.89],\n       [4, 1153.87],\n       [7, 1153.83],\n       [9, 1153.88],\n       [12, 1153.9],\n       [24, 1153.93],\n       [29, 1153.91],\n       [30, 1153.85],\n       [31, 1153.9]]), 335: array([[1, 1158.85],\n       [3, 1158.96],\n       [4, 1158.88],\n       [7, 1158.89],\n       [9, 1158.96],\n       [15, 1158.87],\n       [17, 1158.84],\n       [18, 1159.01],\n       [20, 1158.92],\n       [22, 1159.03],\n       [23, 1159.02],\n       [24, 1159.03],\n       [25, 1158.84],\n       [26, 1158.88],\n       [27, 1159.08],\n       [29, 1159.01],\n       [30, 1158.95],\n       [31, 1158.91],\n       [32, 1158.9],\n       [34, 1158.88],\n       [35, 1158.95]]), 337: array([[5, 1169.27],\n       [8, 1169.17],\n       [10, 1169.25],\n       [12, 1169.22],\n       [14, 1169.17],\n       [16, 1169.19],\n       [22, 1169.22],\n       [27, 1169.16],\n       [33, 1169.26],\n       [35, 1169.24]]), 338: array([[0, 1171.2],\n       [2, 1171.12],\n       [5, 1171.17],\n       [6, 1171.21],\n       [8, 1171.16],\n       [11, 1171.18],\n       [14, 1171.17],\n       [16, 1171.21],\n       [17, 1171.14],\n       [27, 1171.13],\n       [35, 1171.17]]), 340: array([[1, 1189.86],\n       [3, 1189.94],\n       [7, 1189.88],\n       [9, 1189.92],\n       [20, 1189.91],\n       [31, 1189.95]]), 341: array([[1, 1191.68],\n       [3, 1191.68],\n       [7, 1191.69],\n       [9, 1191.86],\n       [18, 1191.8],\n       [20, 1191.73],\n       [21, 1191.81],\n       [24, 1191.79],\n       [26, 1191.78],\n       [29, 1191.84],\n       [30, 1191.82],\n       [31, 1191.77],\n       [32, 1191.79],\n       [35, 1191.82]]), 342: array([[0, 1204.52],\n       [2, 1204.72],\n       [4, 1204.47],\n       [5, 1204.75],\n       [6, 1204.54],\n       [8, 1204.52],\n       [11, 1204.54],\n       [13, 1204.69],\n       [14, 1204.5],\n       [16, 1204.48],\n       [17, 1204.75],\n       [27, 1204.57],\n       [28, 1204.53],\n       [32, 1204.53],\n       [34, 1204.7],\n       [35, 1204.53]]), 344: array([[6, 1206.27],\n       [8, 1206.27],\n       [11, 1206.23],\n       [15, 1206.34],\n       [16, 1206.29],\n       [18, 1206.35],\n       [20, 1206.35],\n       [22, 1206.24],\n       [24, 1206.36],\n       [26, 1206.35],\n       [35, 1206.25]]), 346: array([[6, 1221.88],\n       [8, 1221.88],\n       [11, 1221.86],\n       [14, 1221.89],\n       [16, 1221.87],\n       [18, 1222.14],\n       [21, 1222.14],\n       [22, 1221.71],\n       [26, 1221.87],\n       [27, 1221.9],\n       [33, 1221.87],\n       [35, 1221.89]]), 347: array([[15, 1222.9],\n       [17, 1222.97],\n       [19, 1222.98],\n       [20, 1222.99],\n       [27, 1222.91],\n       [31, 1222.95],\n       [32, 1222.97],\n       [35, 1222.92]]), 348: array([[1, 1224.14],\n       [6, 1223.88],\n       [7, 1224.13],\n       [8, 1223.89],\n       [9, 1224.11],\n       [11, 1223.87],\n       [12, 1224.08],\n       [14, 1224.04],\n       [15, 1224.15],\n       [17, 1224.16],\n       [19, 1224.1],\n       [20, 1223.78],\n       [21, 1224.1],\n       [22, 1223.86],\n       [27, 1224.05],\n       [29, 1224.1],\n       [30, 1224.14],\n       [33, 1223.96],\n       [34, 1223.89],\n       [35, 1224.03]]), 349: array([[0, 1245.36],\n       [2, 1245.44],\n       [4, 1245.32],\n       [6, 1245.4],\n       [7, 1245.34],\n       [8, 1245.41],\n       [9, 1245.43],\n       [11, 1245.41],\n       [12, 1245.38],\n       [14, 1245.42],\n       [15, 1245.4],\n       [17, 1245.32],\n       [19, 1245.39],\n       [22, 1245.36],\n       [26, 1245.34],\n       [27, 1245.43],\n       [28, 1245.43],\n       [29, 1245.39],\n       [35, 1245.42]]), 350: array([[1, 1247.12],\n       [7, 1247.18],\n       [20, 1247.2],\n       [25, 1247.19],\n       [30, 1247.2],\n       [35, 1247.2]]), 351: array([[1, 1247.96],\n       [3, 1248.05],\n       [4, 1248.06],\n       [6, 1248.08],\n       [7, 1247.97],\n       [9, 1248.04],\n       [15, 1247.89],\n       [18, 1248.08],\n       [20, 1248.03],\n       [27, 1247.99],\n       [29, 1247.98],\n       [34, 1247.92]]), 353: array([[0, 1266.09],\n       [2, 1265.99],\n       [5, 1266.05],\n       [8, 1265.97],\n       [11, 1266.12],\n       [13, 1266.03],\n       [14, 1266.05],\n       [15, 1265.9],\n       [16, 1266.09],\n       [17, 1266.01],\n       [19, 1265.93],\n       [22, 1265.93],\n       [23, 1266.08],\n       [28, 1265.99],\n       [29, 1265.94],\n       [32, 1266.11],\n       [33, 1265.9],\n       [35, 1266.05]]), 354: array([[0, 1266.84],\n       [6, 1266.86],\n       [8, 1266.82],\n       [9, 1267.02],\n       [14, 1267.02],\n       [15, 1266.94],\n       [16, 1266.84],\n       [21, 1266.97],\n       [23, 1267.03],\n       [26, 1267.05],\n       [27, 1266.98],\n       [35, 1266.83]]), 355: array([[0, 1268.04],\n       [2, 1268.12],\n       [3, 1268.04],\n       [4, 1268.04],\n       [5, 1268.17],\n       [6, 1268.01],\n       [8, 1267.99],\n       [12, 1268.11],\n       [14, 1268.01],\n       [16, 1268.04],\n       [17, 1268.11],\n       [27, 1268.01],\n       [30, 1268.02],\n       [32, 1268.05],\n       [35, 1268.02]]), 356: array([[2, 1276.41],\n       [3, 1276.6],\n       [5, 1276.62],\n       [6, 1276.79],\n       [7, 1276.74],\n       [8, 1276.46],\n       [12, 1276.79],\n       [13, 1276.47],\n       [14, 1276.5],\n       [17, 1276.43],\n       [18, 1276.8],\n       [20, 1276.81],\n       [21, 1276.83],\n       [22, 1276.82],\n       [24, 1276.82],\n       [26, 1276.82],\n       [27, 1276.74],\n       [28, 1276.44],\n       [29, 1276.82],\n       [35, 1276.61]]), 357: array([[0, 1280.98],\n       [1, 1281.08],\n       [3, 1281.4],\n       [6, 1280.99],\n       [7, 1281.05],\n       [8, 1280.98],\n       [9, 1281.39],\n       [12, 1280.96],\n       [16, 1280.99],\n       [17, 1281.19],\n       [18, 1281.31],\n       [19, 1281.33],\n       [20, 1281.19],\n       [21, 1281.22],\n       [22, 1281.36],\n       [24, 1281.38],\n       [25, 1281.33],\n       [27, 1281.15],\n       [29, 1281.33],\n       [30, 1281.4],\n       [31, 1281.41],\n       [32, 1280.99],\n       [33, 1281.31],\n       [35, 1280.93]]), 358: array([[0, 1282.39],\n       [6, 1282.4],\n       [8, 1282.38],\n       [14, 1282.4],\n       [15, 1282.43],\n       [16, 1282.39],\n       [23, 1282.39],\n       [27, 1282.41],\n       [32, 1282.36],\n       [35, 1282.35]]), 359: array([[2, 1283.33],\n       [3, 1283.42],\n       [5, 1283.29],\n       [6, 1283.37],\n       [8, 1283.33],\n       [10, 1283.3],\n       [12, 1283.4],\n       [14, 1283.36],\n       [15, 1283.39],\n       [19, 1283.42],\n       [22, 1283.43],\n       [27, 1283.37],\n       [28, 1283.34],\n       [29, 1283.43],\n       [33, 1283.39],\n       [35, 1283.34]]), 360: array([[0, 1284.95],\n       [2, 1284.91],\n       [4, 1284.74],\n       [5, 1284.92],\n       [6, 1284.88],\n       [8, 1284.89],\n       [12, 1284.85],\n       [13, 1284.75],\n       [14, 1284.77],\n       [17, 1284.91],\n       [26, 1284.86],\n       [27, 1284.9],\n       [28, 1284.92],\n       [32, 1284.78],\n       [33, 1284.86],\n       [35, 1284.77]]), 361: array([[0, 1285.38],\n       [1, 1285.37],\n       [3, 1285.42],\n       [4, 1285.46],\n       [7, 1285.38],\n       [9, 1285.41],\n       [15, 1285.37],\n       [17, 1285.4],\n       [18, 1285.48],\n       [20, 1285.41],\n       [21, 1285.44],\n       [22, 1285.51],\n       [24, 1285.49],\n       [25, 1285.39],\n       [26, 1285.4],\n       [29, 1285.43],\n       [31, 1285.42],\n       [32, 1285.46]]), 362: array([[2, 1286.56],\n       [3, 1286.82],\n       [4, 1286.55],\n       [5, 1286.56],\n       [7, 1286.62],\n       [8, 1286.56],\n       [10, 1286.86],\n       [14, 1286.57],\n       [19, 1286.84],\n       [20, 1286.76],\n       [21, 1286.57],\n       [25, 1286.64],\n       [28, 1286.57],\n       [33, 1286.92],\n       [35, 1286.57]]), 363: array([[2, 1288.73],\n       [3, 1288.71],\n       [4, 1288.59],\n       [5, 1288.72],\n       [8, 1288.72],\n       [10, 1288.75],\n       [13, 1288.7],\n       [14, 1288.72],\n       [17, 1288.73],\n       [28, 1288.74],\n       [29, 1288.58],\n       [32, 1288.58],\n       [35, 1288.7]]), 364: array([[0, 1289.3],\n       [8, 1289.34],\n       [12, 1289.37],\n       [14, 1289.35],\n       [16, 1289.32],\n       [22, 1289.39],\n       [26, 1289.39],\n       [29, 1289.39],\n       [32, 1289.34],\n       [33, 1289.38],\n       [35, 1289.33]]), 365: array([[2, 1289.84],\n       [4, 1289.81],\n       [5, 1289.86],\n       [8, 1289.87],\n       [13, 1289.81],\n       [14, 1289.87],\n       [27, 1289.89],\n       [28, 1289.84],\n       [32, 1289.82],\n       [35, 1289.89]]), 366: array([[0, 1296.49],\n       [1, 1296.58],\n       [2, 1296.36],\n       [4, 1296.35],\n       [5, 1296.31],\n       [6, 1296.42],\n       [7, 1296.57],\n       [8, 1296.38],\n       [10, 1296.29],\n       [12, 1296.44],\n       [13, 1296.37],\n       [14, 1296.4],\n       [15, 1296.61],\n       [17, 1296.33],\n       [19, 1296.46],\n       [20, 1296.56],\n       [21, 1296.48],\n       [22, 1296.47],\n       [24, 1296.53],\n       [25, 1296.4],\n       [27, 1296.38],\n       [28, 1296.37],\n       [29, 1296.47],\n       [30, 1296.42],\n       [33, 1296.44],\n       [35, 1296.32]]), 367: array([[0, 1297.27],\n       [6, 1297.29],\n       [8, 1297.31],\n       [11, 1297.3],\n       [16, 1297.28],\n       [22, 1297.33],\n       [35, 1297.25]]), 368: array([[0, 1299.71],\n       [2, 1299.55],\n       [3, 1299.54],\n       [5, 1299.55],\n       [8, 1299.54],\n       [10, 1299.6],\n       [11, 1299.54],\n       [12, 1299.62],\n       [13, 1299.58],\n       [16, 1299.54],\n       [17, 1299.56],\n       [18, 1299.75],\n       [19, 1299.77],\n       [20, 1299.75],\n       [22, 1299.64],\n       [24, 1299.76],\n       [28, 1299.57],\n       [29, 1299.77],\n       [30, 1299.63],\n       [34, 1299.67],\n       [35, 1299.55]]), 369: array([[0, 1300.45],\n       [1, 1300.52],\n       [2, 1300.27],\n       [3, 1300.28],\n       [6, 1300.32],\n       [7, 1300.54],\n       [8, 1300.28],\n       [10, 1300.51],\n       [14, 1300.31],\n       [15, 1300.34],\n       [17, 1300.28],\n       [21, 1300.49],\n       [23, 1300.54],\n       [24, 1300.47],\n       [25, 1300.53],\n       [26, 1300.36],\n       [27, 1300.28],\n       [28, 1300.28],\n       [33, 1300.36],\n       [34, 1300.56],\n       [35, 1300.32]]), 370: array([[0, 1301.99],\n       [6, 1302.01],\n       [7, 1302.19],\n       [8, 1302.01],\n       [10, 1302.2],\n       [11, 1302.16],\n       [16, 1301.97],\n       [20, 1302.17],\n       [21, 1302.01],\n       [32, 1302.18],\n       [35, 1301.99]]), 371: array([[2, 1302.95],\n       [3, 1302.92],\n       [4, 1302.93],\n       [5, 1302.95],\n       [8, 1302.96],\n       [11, 1302.99],\n       [13, 1302.93],\n       [14, 1302.96],\n       [17, 1302.97],\n       [25, 1302.96],\n       [27, 1302.98],\n       [28, 1302.95],\n       [32, 1302.9],\n       [34, 1302.93],\n       [35, 1302.93]]), 372: array([[2, 1303.77],\n       [5, 1303.78],\n       [8, 1303.8],\n       [11, 1303.93],\n       [12, 1303.85],\n       [14, 1303.8],\n       [17, 1303.79],\n       [18, 1303.88],\n       [19, 1303.87],\n       [20, 1303.87],\n       [22, 1303.88],\n       [26, 1303.87],\n       [27, 1303.91],\n       [28, 1303.8],\n       [33, 1303.93],\n       [35, 1303.79]]), 373: array([[0, 1304.76],\n       [2, 1304.76],\n       [4, 1304.74],\n       [5, 1304.76],\n       [8, 1304.75],\n       [9, 1304.76],\n       [12, 1304.74],\n       [14, 1304.75],\n       [17, 1304.77],\n       [28, 1304.77],\n       [32, 1304.75],\n       [35, 1304.75]]), 374: array([[0, 1305.61],\n       [2, 1305.36],\n       [3, 1305.67],\n       [6, 1305.46],\n       [8, 1305.47],\n       [9, 1305.73],\n       [11, 1305.47],\n       [12, 1305.57],\n       [14, 1305.49],\n       [16, 1305.44],\n       [17, 1305.72],\n       [19, 1305.54],\n       [20, 1305.67],\n       [21, 1305.58],\n       [22, 1305.57],\n       [24, 1305.63],\n       [25, 1305.73],\n       [26, 1305.55],\n       [27, 1305.49],\n       [29, 1305.56],\n       [31, 1305.67],\n       [32, 1305.69],\n       [35, 1305.5]]), 375: array([[2, 1306.68],\n       [4, 1306.53],\n       [5, 1306.65],\n       [6, 1306.73],\n       [7, 1306.65],\n       [8, 1306.55],\n       [10, 1306.62],\n       [11, 1306.56],\n       [13, 1306.67],\n       [14, 1306.67],\n       [15, 1306.74],\n       [17, 1306.68],\n       [20, 1306.77],\n       [26, 1306.76],\n       [27, 1306.72],\n       [28, 1306.68],\n       [32, 1306.52],\n       [33, 1306.76],\n       [35, 1306.55]]), 376: array([[2, 1307.93],\n       [4, 1307.93],\n       [5, 1307.93],\n       [13, 1307.91],\n       [14, 1307.94],\n       [15, 1307.91],\n       [35, 1307.93]]), 377: array([[0, 1308.41],\n       [2, 1308.41],\n       [4, 1308.4],\n       [5, 1308.4],\n       [6, 1308.47],\n       [8, 1308.43],\n       [9, 1308.42],\n       [11, 1308.46],\n       [13, 1308.41],\n       [14, 1308.46],\n       [17, 1308.43],\n       [19, 1308.52],\n       [22, 1308.54],\n       [26, 1308.52],\n       [27, 1308.43],\n       [28, 1308.41],\n       [33, 1308.52],\n       [35, 1308.43]]), 378: array([[0, 1309.08],\n       [4, 1309.06],\n       [8, 1309.11],\n       [10, 1309.11],\n       [11, 1309.14],\n       [14, 1309.1],\n       [15, 1309.27],\n       [16, 1309.1],\n       [20, 1309.27],\n       [22, 1309.13],\n       [26, 1309.24],\n       [30, 1309.11],\n       [31, 1309.1],\n       [32, 1309.07],\n       [33, 1309.15],\n       [35, 1309.09]]), 379: array([[1, 1311.11],\n       [9, 1311.08],\n       [13, 1311.12],\n       [15, 1311.14],\n       [24, 1311.09],\n       [25, 1311.12],\n       [34, 1311.13]]), 380: array([[2, 1311.85],\n       [4, 1311.84],\n       [5, 1311.85],\n       [8, 1311.87],\n       [11, 1311.89],\n       [12, 1311.92],\n       [14, 1311.9],\n       [15, 1311.88],\n       [16, 1311.85],\n       [17, 1311.85],\n       [26, 1311.93],\n       [27, 1311.87],\n       [28, 1311.86],\n       [35, 1311.87]]), 381: array([[0, 1312.71],\n       [6, 1312.83],\n       [9, 1312.72],\n       [11, 1312.74],\n       [12, 1312.7],\n       [14, 1312.8],\n       [16, 1312.76],\n       [19, 1312.76],\n       [21, 1312.8],\n       [25, 1312.84],\n       [26, 1312.76],\n       [27, 1312.77],\n       [31, 1312.7],\n       [33, 1312.72]]), 382: array([[2, 1314.8],\n       [4, 1314.77],\n       [5, 1314.8],\n       [6, 1314.85],\n       [8, 1314.81],\n       [11, 1314.83],\n       [12, 1314.9],\n       [13, 1314.78],\n       [14, 1314.84],\n       [15, 1314.87],\n       [16, 1314.84],\n       [19, 1314.91],\n       [22, 1314.91],\n       [27, 1314.85],\n       [28, 1314.79],\n       [29, 1314.92],\n       [33, 1314.88],\n       [35, 1314.83]]), 383: array([[0, 1317.11],\n       [2, 1316.88],\n       [3, 1316.99],\n       [4, 1316.86],\n       [5, 1316.87],\n       [6, 1317.06],\n       [8, 1316.87],\n       [9, 1317],\n       [13, 1316.85],\n       [14, 1316.87],\n       [17, 1316.87],\n       [18, 1317.06],\n       [20, 1317.07],\n       [21, 1317.08],\n       [24, 1317.06],\n       [28, 1316.88],\n       [29, 1317.05],\n       [31, 1317.02],\n       [32, 1316.88],\n       [35, 1316.88]]), 384: array([[0, 1318.46],\n       [2, 1318.31],\n       [4, 1318.31],\n       [5, 1318.35],\n       [6, 1318.4],\n       [8, 1318.35],\n       [12, 1318.41],\n       [13, 1318.33],\n       [14, 1318.36],\n       [17, 1318.34],\n       [19, 1318.44],\n       [22, 1318.44],\n       [26, 1318.42],\n       [27, 1318.35],\n       [28, 1318.33],\n       [29, 1318.43],\n       [33, 1318.38],\n       [35, 1318.36]]), 385: array([[0, 1320.41],\n       [1, 1320.62],\n       [2, 1320.58],\n       [5, 1320.62],\n       [6, 1320.71],\n       [8, 1320.45],\n       [9, 1320.66],\n       [11, 1320.71],\n       [12, 1320.66],\n       [13, 1320.64],\n       [14, 1320.4],\n       [16, 1320.37],\n       [17, 1320.66],\n       [27, 1320.7],\n       [28, 1320.66],\n       [32, 1320.42],\n       [35, 1320.38]]), 386: array([[1, 1325.32],\n       [3, 1325.26],\n       [7, 1325.31],\n       [9, 1325.25],\n       [12, 1325.28],\n       [15, 1325.33],\n       [18, 1325.19],\n       [20, 1325.22],\n       [22, 1325.23],\n       [24, 1325.23],\n       [25, 1325.31],\n       [26, 1325.25],\n       [29, 1325.22],\n       [30, 1325.23],\n       [31, 1325.26],\n       [35, 1325.29]]), 387: array([[0, 1337.47],\n       [1, 1337.17],\n       [3, 1337.48],\n       [7, 1337.2],\n       [9, 1337.48],\n       [12, 1337.5],\n       [16, 1337.52],\n       [17, 1337.31],\n       [21, 1337.33],\n       [24, 1337.47],\n       [25, 1337.28],\n       [26, 1337.45],\n       [27, 1337.42],\n       [29, 1337.5]]), 388: array([[1, 1338.04],\n       [3, 1338.09],\n       [7, 1338.01],\n       [8, 1338.04],\n       [9, 1338.09],\n       [13, 1338.03],\n       [20, 1338.06],\n       [26, 1338.06],\n       [31, 1338.1]]), 389: array([[2, 1346.6],\n       [3, 1346.63],\n       [5, 1346.62],\n       [11, 1346.6],\n       [13, 1346.61],\n       [14, 1346.63],\n       [27, 1346.6],\n       [35, 1346.63]]), 390: array([[2, 1348.85],\n       [5, 1348.8],\n       [8, 1348.79],\n       [12, 1348.84],\n       [13, 1348.83],\n       [17, 1348.79],\n       [28, 1348.87]]), 391: array([[2, 1349.33],\n       [5, 1349.3],\n       [6, 1349.26],\n       [8, 1349.27],\n       [10, 1349.29],\n       [11, 1349.31],\n       [13, 1349.35],\n       [14, 1349.26],\n       [16, 1349.22],\n       [17, 1349.35],\n       [23, 1349.24],\n       [31, 1349.28],\n       [33, 1349.29],\n       [35, 1349.26]]), 392: array([[6, 1350.63],\n       [8, 1350.59],\n       [9, 1350.61],\n       [10, 1350.64],\n       [12, 1350.67],\n       [14, 1350.62],\n       [15, 1350.65],\n       [19, 1350.68],\n       [20, 1350.69],\n       [22, 1350.7],\n       [23, 1350.64],\n       [26, 1350.68],\n       [27, 1350.62],\n       [29, 1350.7],\n       [34, 1350.62],\n       [35, 1350.61]]), 393: array([[2, 1352.23],\n       [4, 1352.27],\n       [5, 1352.22],\n       [7, 1352.5],\n       [8, 1352.33],\n       [12, 1352.46],\n       [13, 1352.22],\n       [27, 1352.39],\n       [32, 1352.51],\n       [35, 1352.23]]), 394: array([[6, 1352.92],\n       [11, 1352.91],\n       [15, 1352.96],\n       [16, 1352.94],\n       [18, 1352.95],\n       [20, 1352.95],\n       [21, 1352.96],\n       [24, 1352.97],\n       [26, 1352.96],\n       [27, 1352.91],\n       [33, 1352.95],\n       [35, 1352.98]]), 395: array([[0, 1353.3],\n       [8, 1353.34],\n       [10, 1353.34],\n       [14, 1353.31],\n       [16, 1353.28],\n       [22, 1353.33],\n       [27, 1353.35],\n       [31, 1353.39],\n       [32, 1353.26]]), 396: array([[1, 1367.67],\n       [3, 1367.73],\n       [7, 1367.65],\n       [9, 1367.73],\n       [20, 1367.7],\n       [30, 1367.71]]), 397: array([[0, 1368.74],\n       [1, 1368.67],\n       [2, 1368.84],\n       [6, 1368.81],\n       [7, 1368.65],\n       [8, 1368.81],\n       [12, 1368.75],\n       [13, 1368.84],\n       [14, 1368.83],\n       [15, 1368.48],\n       [17, 1368.65],\n       [19, 1368.76],\n       [21, 1368.72],\n       [22, 1368.74],\n       [23, 1368.64],\n       [24, 1368.75],\n       [25, 1368.68],\n       [29, 1368.77],\n       [30, 1368.73],\n       [31, 1368.72],\n       [32, 1368.71],\n       [33, 1368.66],\n       [35, 1368.68]]), 398: array([[1, 1370.02],\n       [9, 1370.09],\n       [17, 1370.03],\n       [18, 1370.12],\n       [20, 1370.13],\n       [21, 1370.15],\n       [22, 1370.15],\n       [24, 1370.13],\n       [26, 1370.12]]), 399: array([[1, 1378.93],\n       [2, 1379.02],\n       [3, 1378.94],\n       [6, 1378.98],\n       [8, 1378.92],\n       [9, 1378.95],\n       [11, 1378.99],\n       [12, 1378.97],\n       [14, 1379],\n       [15, 1378.89],\n       [18, 1378.98],\n       [20, 1378.98],\n       [22, 1378.99],\n       [23, 1378.91],\n       [24, 1378.98],\n       [29, 1378.93],\n       [31, 1378.95],\n       [34, 1378.92],\n       [35, 1378.98]]), 400: array([[2, 1384.49],\n       [4, 1384.49],\n       [5, 1384.5],\n       [14, 1384.52],\n       [17, 1384.46],\n       [33, 1384.53],\n       [35, 1384.54]]), 402: array([[0, 1385.74],\n       [3, 1385.62],\n       [6, 1385.47],\n       [7, 1385.73],\n       [8, 1385.48],\n       [12, 1385.61],\n       [14, 1385.47],\n       [15, 1385.49],\n       [16, 1385.46],\n       [19, 1385.54],\n       [20, 1385.63],\n       [22, 1385.6],\n       [23, 1385.74],\n       [26, 1385.52],\n       [27, 1385.47],\n       [29, 1385.6],\n       [30, 1385.68],\n       [32, 1385.77],\n       [33, 1385.51],\n       [35, 1385.47]]), 403: array([[2, 1387.34],\n       [5, 1387.34],\n       [13, 1387.35],\n       [14, 1387.35],\n       [17, 1387.34],\n       [35, 1387.37]]), 404: array([[1, 1388.56],\n       [3, 1388.62],\n       [7, 1388.55],\n       [9, 1388.61],\n       [12, 1388.62],\n       [15, 1388.57],\n       [20, 1388.59],\n       [22, 1388.63],\n       [23, 1388.55],\n       [25, 1388.55],\n       [26, 1388.64],\n       [29, 1388.62],\n       [30, 1388.61],\n       [31, 1388.59],\n       [35, 1388.6]]), 405: array([[2, 1389.47],\n       [4, 1389.46],\n       [5, 1389.47],\n       [6, 1389.28],\n       [7, 1389.29],\n       [8, 1389.26],\n       [13, 1389.45],\n       [14, 1389.27],\n       [16, 1389.31],\n       [20, 1389.34],\n       [27, 1389.28],\n       [33, 1389.32],\n       [35, 1389.28]]), 407: array([[1, 1401.24],\n       [3, 1401.34],\n       [7, 1401.26],\n       [9, 1401.32],\n       [12, 1401.35],\n       [20, 1401.29],\n       [25, 1401.25],\n       [29, 1401.26],\n       [31, 1401.33],\n       [34, 1401.23],\n       [35, 1401.33]]), 408: array([[1, 1401.91],\n       [7, 1401.94],\n       [12, 1401.97],\n       [16, 1401.98],\n       [20, 1402.02],\n       [32, 1401.95],\n       [34, 1401.92]]), 409: array([[0, 1410.69],\n       [2, 1410.65],\n       [4, 1410.65],\n       [5, 1410.65],\n       [10, 1410.7],\n       [11, 1410.72],\n       [12, 1410.69],\n       [13, 1410.63],\n       [14, 1410.68],\n       [16, 1410.66],\n       [18, 1410.75],\n       [20, 1410.76],\n       [22, 1410.77],\n       [26, 1410.74],\n       [32, 1410.71],\n       [35, 1410.66]]), 410: array([[1, 1413.1],\n       [2, 1412.91],\n       [3, 1413.14],\n       [4, 1412.89],\n       [5, 1412.92],\n       [6, 1412.95],\n       [8, 1412.9],\n       [9, 1413.12],\n       [11, 1412.93],\n       [12, 1413.03],\n       [14, 1412.93],\n       [16, 1413.02],\n       [20, 1413.16],\n       [27, 1412.95],\n       [31, 1413.16],\n       [35, 1412.93]]), 411: array([[1, 1424.03],\n       [3, 1424.15],\n       [7, 1424.07],\n       [9, 1424.16],\n       [12, 1424.18],\n       [13, 1424.08],\n       [20, 1424.12],\n       [23, 1423.94],\n       [30, 1424.13],\n       [31, 1424.15],\n       [34, 1424.04],\n       [35, 1424.14]]), 412: array([[0, 1424.7],\n       [1, 1424.55],\n       [2, 1424.7],\n       [6, 1424.67],\n       [8, 1424.67],\n       [11, 1424.66],\n       [12, 1424.64],\n       [13, 1424.71],\n       [14, 1424.69],\n       [17, 1424.55],\n       [19, 1424.64],\n       [20, 1424.6],\n       [22, 1424.61],\n       [23, 1424.5],\n       [24, 1424.61],\n       [25, 1424.55],\n       [26, 1424.58],\n       [27, 1424.69],\n       [28, 1424.7],\n       [29, 1424.57],\n       [30, 1424.62],\n       [33, 1424.51],\n       [34, 1424.68],\n       [35, 1424.69]]), 413: array([[1, 1425.57],\n       [7, 1425.58],\n       [8, 1425.74],\n       [15, 1425.72],\n       [20, 1425.63],\n       [23, 1425.73],\n       [25, 1425.59]]), 415: array([[2, 1436.5],\n       [3, 1436.52],\n       [4, 1436.51],\n       [5, 1436.49],\n       [13, 1436.5],\n       [14, 1436.51],\n       [17, 1436.47],\n       [33, 1436.52],\n       [35, 1436.52]]), 416: array([[0, 1437],\n       [2, 1436.94],\n       [5, 1436.93],\n       [8, 1436.99],\n       [10, 1436.97],\n       [14, 1436.98],\n       [16, 1437],\n       [17, 1436.91],\n       [33, 1437.01]]), 417: array([[0, 1444.78],\n       [6, 1444.73],\n       [15, 1444.7],\n       [17, 1444.8],\n       [27, 1444.74],\n       [32, 1444.81],\n       [35, 1444.79]]), 418: array([[0, 1446.31],\n       [8, 1446.31],\n       [11, 1446.35],\n       [12, 1446.34],\n       [16, 1446.33],\n       [20, 1446.37],\n       [22, 1446.35],\n       [26, 1446.36],\n       [29, 1446.33],\n       [32, 1446.32],\n       [33, 1446.37],\n       [35, 1446.3]]), 419: array([[2, 1446.85],\n       [4, 1446.85],\n       [5, 1446.85],\n       [6, 1446.81],\n       [8, 1446.82],\n       [12, 1446.78],\n       [13, 1446.86],\n       [15, 1446.81],\n       [16, 1446.79],\n       [17, 1446.86],\n       [19, 1446.8],\n       [22, 1446.8],\n       [27, 1446.84],\n       [28, 1446.84],\n       [29, 1446.79],\n       [35, 1446.82]]), 420: array([[4, 1448.42],\n       [8, 1448.26],\n       [13, 1448.29],\n       [28, 1448.25],\n       [32, 1448.34],\n       [35, 1448.27]]), 421: array([[0, 1450.11],\n       [2, 1450.31],\n       [4, 1450.08],\n       [6, 1450.33],\n       [8, 1450.1],\n       [9, 1450.32],\n       [11, 1450.11],\n       [12, 1450.12],\n       [14, 1450.33],\n       [15, 1450.34],\n       [16, 1450.16],\n       [23, 1450.15],\n       [27, 1450.33],\n       [28, 1450.3],\n       [32, 1450.06],\n       [35, 1450.14]]), 422: array([[2, 1452.86],\n       [5, 1452.86],\n       [8, 1452.84],\n       [14, 1452.87],\n       [16, 1452.87],\n       [17, 1452.87],\n       [28, 1452.84],\n       [35, 1452.85]]), 423: array([[2, 1453.61],\n       [3, 1453.74],\n       [5, 1453.63],\n       [7, 1453.61],\n       [8, 1453.68],\n       [9, 1453.69],\n       [12, 1453.75],\n       [13, 1453.61],\n       [14, 1453.69],\n       [16, 1453.64],\n       [20, 1453.76],\n       [25, 1453.7],\n       [28, 1453.68],\n       [29, 1453.74],\n       [34, 1453.79],\n       [35, 1453.63]]), 424: array([[10, 1454.94],\n       [12, 1454.84],\n       [13, 1454.82],\n       [16, 1454.79],\n       [17, 1454.96],\n       [19, 1454.91],\n       [22, 1454.84],\n       [23, 1454.8],\n       [30, 1454.83],\n       [31, 1454.76],\n       [32, 1454.81],\n       [33, 1454.85]]), 425: array([[2, 1455.92],\n       [6, 1455.96],\n       [8, 1455.92],\n       [14, 1455.95],\n       [16, 1455.94],\n       [28, 1455.91],\n       [35, 1455.93]]), 426: array([[0, 1456.73],\n       [1, 1457.1],\n       [3, 1456.71],\n       [4, 1456.87],\n       [6, 1456.71],\n       [7, 1457.12],\n       [8, 1456.91],\n       [9, 1456.75],\n       [10, 1456.99],\n       [12, 1456.7],\n       [14, 1456.92],\n       [15, 1457.13],\n       [16, 1456.95],\n       [18, 1456.98],\n       [19, 1456.73],\n       [20, 1456.98],\n       [22, 1456.73],\n       [23, 1457],\n       [24, 1456.99],\n       [26, 1456.78],\n       [27, 1457],\n       [29, 1456.71],\n       [30, 1456.8],\n       [31, 1457.06],\n       [32, 1456.87]]), 427: array([[2, 1458.26],\n       [5, 1458.27],\n       [8, 1458.24],\n       [11, 1458.25],\n       [13, 1458.28],\n       [14, 1458.28],\n       [16, 1458.25],\n       [27, 1458.27],\n       [35, 1458.25]]), 428: array([[8, 1459.72],\n       [11, 1459.72],\n       [15, 1459.74],\n       [16, 1459.73],\n       [26, 1459.78],\n       [28, 1459.73],\n       [32, 1459.72],\n       [33, 1459.77],\n       [35, 1459.74]]), 429: array([[0, 1460.67],\n       [4, 1460.85],\n       [5, 1460.86],\n       [6, 1460.72],\n       [8, 1460.7],\n       [10, 1460.86],\n       [13, 1460.85],\n       [14, 1460.85],\n       [16, 1460.7],\n       [32, 1460.64]]), 430: array([[0, 1461.56],\n       [2, 1461.64],\n       [3, 1461.66],\n       [4, 1461.67],\n       [5, 1461.67],\n       [6, 1461.61],\n       [8, 1461.6],\n       [9, 1461.63],\n       [13, 1461.68],\n       [14, 1461.63],\n       [15, 1461.62],\n       [16, 1461.57],\n       [17, 1461.66],\n       [27, 1461.62],\n       [28, 1461.63],\n       [32, 1461.53],\n       [35, 1461.59]]), 431: array([[0, 1463],\n       [14, 1463.03],\n       [15, 1463.04],\n       [16, 1463.02],\n       [18, 1463.05],\n       [20, 1463.05],\n       [22, 1463.05],\n       [24, 1463.05],\n       [32, 1462.98],\n       [35, 1462.99]]), 432: array([[2, 1464.12],\n       [4, 1464.07],\n       [6, 1464.16],\n       [8, 1464.1],\n       [11, 1464.15],\n       [14, 1464.15],\n       [15, 1464.17],\n       [19, 1464.21],\n       [26, 1464.19],\n       [27, 1464.12],\n       [28, 1464.12],\n       [32, 1464.09],\n       [35, 1464.11]]), 433: array([[1, 1467.93],\n       [3, 1468.14],\n       [6, 1468],\n       [8, 1467.94],\n       [9, 1468.12],\n       [11, 1468.01],\n       [16, 1468],\n       [18, 1468.07],\n       [20, 1468.07],\n       [21, 1468.03],\n       [22, 1468.01],\n       [24, 1468.07],\n       [26, 1468.04],\n       [29, 1468.16],\n       [30, 1467.98],\n       [31, 1468.14],\n       [33, 1468.04],\n       [35, 1468.1]]), 434: array([[11, 1469.03],\n       [18, 1469.01],\n       [20, 1469.03],\n       [21, 1469],\n       [22, 1469.01],\n       [24, 1469.04]]), 435: array([[0, 1472.57],\n       [2, 1472.48],\n       [3, 1472.53],\n       [4, 1472.44],\n       [5, 1472.48],\n       [6, 1472.5],\n       [7, 1472.65],\n       [8, 1472.46],\n       [11, 1472.47],\n       [12, 1472.54],\n       [13, 1472.43],\n       [14, 1472.49],\n       [15, 1472.51],\n       [16, 1472.43],\n       [17, 1472.47],\n       [18, 1472.52],\n       [19, 1472.57],\n       [22, 1472.58],\n       [24, 1472.53],\n       [25, 1472.6],\n       [26, 1472.54],\n       [27, 1472.47],\n       [28, 1472.47],\n       [29, 1472.56],\n       [32, 1472.45],\n       [33, 1472.53],\n       [35, 1472.47]]), 436: array([[0, 1474.27],\n       [3, 1474.27],\n       [15, 1474.11],\n       [16, 1474.19],\n       [19, 1474.26],\n       [21, 1474.15],\n       [26, 1474.25],\n       [27, 1474.16],\n       [31, 1474.15],\n       [32, 1474.22]]), 437: array([[0, 1474.8],\n       [4, 1474.77],\n       [6, 1474.83],\n       [8, 1474.8],\n       [11, 1474.85],\n       [14, 1474.8],\n       [16, 1474.82],\n       [22, 1474.85],\n       [26, 1474.85],\n       [33, 1474.87],\n       [35, 1474.83]]), 438: array([[2, 1476.98],\n       [4, 1476.98],\n       [5, 1476.98],\n       [8, 1476.97],\n       [16, 1476.97],\n       [17, 1476.98],\n       [28, 1476.98],\n       [35, 1476.98]]), 439: array([[2, 1477.54],\n       [4, 1477.53],\n       [8, 1477.56],\n       [13, 1477.53],\n       [16, 1477.58],\n       [17, 1477.55],\n       [23, 1477.39],\n       [25, 1477.56],\n       [27, 1477.56],\n       [28, 1477.58],\n       [32, 1477.35],\n       [35, 1477.56]]), 441: array([[0, 1480.81],\n       [2, 1480.57],\n       [4, 1480.54],\n       [8, 1480.56],\n       [10, 1480.93],\n       [11, 1480.59],\n       [13, 1480.54],\n       [14, 1480.59],\n       [28, 1480.47],\n       [32, 1480.38],\n       [35, 1480.57]]), 442: array([[0, 1481.13],\n       [4, 1481.41],\n       [6, 1481.15],\n       [7, 1481.27],\n       [8, 1481.36],\n       [9, 1481.2],\n       [12, 1481.19],\n       [13, 1481.16],\n       [14, 1481.18],\n       [15, 1481.17],\n       [16, 1481.14],\n       [17, 1481.24],\n       [20, 1481.18],\n       [22, 1481.2],\n       [23, 1481.13],\n       [24, 1481.21],\n       [26, 1481.22],\n       [30, 1481.17],\n       [31, 1481.21],\n       [32, 1481.13],\n       [33, 1481.28],\n       [35, 1481.14]]), 443: array([[2, 1482.75],\n       [4, 1482.6],\n       [5, 1482.63],\n       [6, 1482.77],\n       [8, 1482.64],\n       [10, 1482.62],\n       [13, 1482.6],\n       [14, 1482.75],\n       [15, 1482.75],\n       [16, 1482.62],\n       [27, 1482.76],\n       [28, 1482.71],\n       [32, 1482.63],\n       [35, 1482.72]]), 444: array([[2, 1485.15],\n       [3, 1485.21],\n       [4, 1485.14],\n       [6, 1485.2],\n       [8, 1485.17],\n       [12, 1485.15],\n       [16, 1485.21],\n       [17, 1485.18],\n       [19, 1485.22],\n       [20, 1485.23],\n       [28, 1485.15],\n       [33, 1485.21],\n       [35, 1485.18]]), 445: array([[0, 1486.13],\n       [3, 1486.06],\n       [9, 1486.04],\n       [12, 1486.07],\n       [13, 1485.93],\n       [14, 1485.94],\n       [15, 1485.93],\n       [16, 1485.89],\n       [18, 1485.97],\n       [20, 1485.94],\n       [21, 1486.05],\n       [22, 1485.96],\n       [24, 1485.96],\n       [26, 1485.94],\n       [27, 1485.99],\n       [29, 1486.02],\n       [30, 1486.06],\n       [35, 1485.97]]), 446: array([[2, 1486.97],\n       [4, 1486.94],\n       [5, 1486.98],\n       [8, 1486.96],\n       [16, 1486.98],\n       [17, 1486.98],\n       [28, 1486.97],\n       [32, 1486.94]]), 447: array([[0, 1492.95],\n       [4, 1492.94],\n       [6, 1492.98],\n       [8, 1492.96],\n       [11, 1492.96],\n       [14, 1492.97],\n       [16, 1492.98],\n       [22, 1493],\n       [26, 1493],\n       [32, 1492.93],\n       [35, 1492.95]]), 448: array([[3, 1493.66],\n       [4, 1493.64],\n       [6, 1493.58],\n       [8, 1493.48],\n       [9, 1493.63],\n       [12, 1493.59],\n       [15, 1493.54],\n       [16, 1493.49],\n       [18, 1493.58],\n       [19, 1493.64],\n       [20, 1493.55],\n       [21, 1493.59],\n       [22, 1493.56],\n       [24, 1493.57],\n       [26, 1493.69],\n       [29, 1493.61],\n       [30, 1493.58],\n       [31, 1493.66],\n       [35, 1493.59]]), 449: array([[15, 1494.79],\n       [20, 1494.87],\n       [21, 1494.82],\n       [27, 1494.84],\n       [32, 1494.85],\n       [35, 1494.84]]), 450: array([[0, 1496.37],\n       [1, 1496.56],\n       [4, 1496.11],\n       [6, 1496.41],\n       [7, 1496.53],\n       [8, 1496.12],\n       [11, 1496.41],\n       [15, 1496.57],\n       [16, 1496.39],\n       [17, 1496.53],\n       [19, 1496.47],\n       [24, 1496.52],\n       [25, 1496.55],\n       [26, 1496.36],\n       [28, 1496.12],\n       [29, 1496.48],\n       [31, 1496.49],\n       [32, 1496.3],\n       [34, 1496.57],\n       [35, 1496.37]]), 451: array([[3, 1498.91],\n       [13, 1498.97],\n       [15, 1498.89],\n       [20, 1498.93],\n       [21, 1498.9],\n       [32, 1498.94]]), 452: array([[2, 1501.83],\n       [4, 1501.79],\n       [5, 1501.83],\n       [8, 1501.81],\n       [12, 1501.83],\n       [17, 1501.82],\n       [18, 1501.83],\n       [28, 1501.82],\n       [32, 1501.78],\n       [35, 1501.82]]), 453: array([[1, 1504.4],\n       [3, 1504.37],\n       [9, 1504.35],\n       [12, 1504.37],\n       [15, 1504.43],\n       [18, 1504.3],\n       [20, 1504.31],\n       [22, 1504.39],\n       [23, 1504.44],\n       [24, 1504.32],\n       [25, 1504.42],\n       [26, 1504.45],\n       [27, 1504.37],\n       [29, 1504.33],\n       [31, 1504.38],\n       [34, 1504.42]]), 454: array([[6, 1507.44],\n       [8, 1507.39],\n       [11, 1507.42],\n       [16, 1507.35],\n       [19, 1507.44],\n       [22, 1507.43],\n       [26, 1507.45],\n       [33, 1507.45]]), 456: array([[0, 1512.12],\n       [3, 1512.09],\n       [8, 1512.1],\n       [11, 1512.1],\n       [12, 1512.1],\n       [14, 1512.11],\n       [16, 1512.08],\n       [19, 1512.09],\n       [20, 1512.09],\n       [27, 1512.12],\n       [29, 1512.08],\n       [35, 1512.11]]), 457: array([[0, 1513.66],\n       [12, 1513.73],\n       [19, 1513.72],\n       [21, 1513.64],\n       [22, 1513.69],\n       [24, 1513.67],\n       [26, 1513.68],\n       [27, 1513.69],\n       [29, 1513.73],\n       [31, 1513.71],\n       [33, 1513.77]]), 458: array([[3, 1514.64],\n       [5, 1514.67],\n       [6, 1514.64],\n       [8, 1514.61],\n       [10, 1514.66],\n       [11, 1514.63],\n       [13, 1514.75],\n       [14, 1514.65],\n       [16, 1514.59],\n       [32, 1514.62],\n       [33, 1514.67],\n       [35, 1514.61]]), 459: array([[2, 1515.46],\n       [4, 1515.42],\n       [8, 1515.42],\n       [11, 1515.43],\n       [27, 1515.45],\n       [28, 1515.43],\n       [35, 1515.44]]), 460: array([[2, 1519.65],\n       [5, 1519.66],\n       [6, 1519.75],\n       [8, 1519.65],\n       [10, 1519.75],\n       [13, 1519.65],\n       [17, 1519.66],\n       [19, 1519.78],\n       [24, 1519.74],\n       [25, 1519.69],\n       [26, 1519.78],\n       [27, 1519.75],\n       [28, 1519.69],\n       [33, 1519.78],\n       [35, 1519.67]]), 462: array([[0, 1523.44],\n       [1, 1523.81],\n       [3, 1523.42],\n       [4, 1523.43],\n       [7, 1523.77],\n       [8, 1523.45],\n       [9, 1523.75],\n       [11, 1523.52],\n       [12, 1523.66],\n       [15, 1523.82],\n       [16, 1523.46],\n       [17, 1523.77],\n       [18, 1523.6],\n       [19, 1523.65],\n       [20, 1523.62],\n       [21, 1523.6],\n       [22, 1523.49],\n       [23, 1523.44],\n       [24, 1523.61],\n       [25, 1523.8],\n       [26, 1523.53],\n       [27, 1523.62],\n       [29, 1523.67],\n       [30, 1523.71],\n       [32, 1523.41],\n       [33, 1523.54],\n       [35, 1523.47]]), 463: array([[2, 1524.8],\n       [4, 1524.8],\n       [5, 1524.82],\n       [8, 1524.8],\n       [13, 1524.79],\n       [17, 1524.82],\n       [28, 1524.81],\n       [35, 1524.81]]), 464: array([[0, 1526.29],\n       [2, 1526.15],\n       [5, 1526.16],\n       [6, 1526.29],\n       [7, 1526.14],\n       [9, 1526.16],\n       [11, 1526.32],\n       [15, 1526.32],\n       [16, 1526.18],\n       [17, 1526.38],\n       [20, 1526.33],\n       [22, 1526.34],\n       [24, 1526.35],\n       [26, 1526.26],\n       [31, 1526.37],\n       [32, 1526.28]]), 465: array([[0, 1530.59],\n       [3, 1530.67],\n       [4, 1530.71],\n       [6, 1530.58],\n       [7, 1530.79],\n       [8, 1530.59],\n       [9, 1530.7],\n       [11, 1530.6],\n       [12, 1530.59],\n       [15, 1530.62],\n       [16, 1530.58],\n       [19, 1530.65],\n       [20, 1530.69],\n       [21, 1530.68],\n       [22, 1530.68],\n       [26, 1530.63],\n       [29, 1530.68],\n       [30, 1530.74],\n       [31, 1530.68],\n       [33, 1530.69],\n       [34, 1530.62],\n       [35, 1530.63]]), 466: array([[4, 1533.43],\n       [5, 1533.47],\n       [7, 1533.47],\n       [8, 1533.45],\n       [10, 1533.46],\n       [14, 1533.47],\n       [16, 1533.43],\n       [25, 1533.47],\n       [27, 1533.46],\n       [28, 1533.4],\n       [35, 1533.46]]), 467: array([[4, 1536.6],\n       [6, 1536.64],\n       [8, 1536.62],\n       [16, 1536.65],\n       [22, 1536.66],\n       [31, 1536.65]]), 468: array([[2, 1539.09],\n       [4, 1539.1],\n       [5, 1539.04],\n       [7, 1539.09],\n       [10, 1539.05],\n       [12, 1539.07],\n       [13, 1539.11],\n       [14, 1539.09],\n       [16, 1539.08],\n       [17, 1539.06],\n       [33, 1539.12],\n       [35, 1539.08]]), 469: array([[6, 1539.71],\n       [7, 1539.64],\n       [16, 1539.64],\n       [22, 1539.7],\n       [25, 1539.67],\n       [26, 1539.67],\n       [33, 1539.68],\n       [34, 1539.72],\n       [35, 1539.7]]), 470: array([[2, 1541.04],\n       [3, 1541.18],\n       [4, 1541],\n       [6, 1541.07],\n       [8, 1541.03],\n       [9, 1541.16],\n       [11, 1541.05],\n       [12, 1541.09],\n       [13, 1541],\n       [14, 1541.06],\n       [15, 1541.07],\n       [16, 1541.06],\n       [17, 1541.22],\n       [20, 1541.1],\n       [21, 1541.19],\n       [24, 1541.11],\n       [25, 1541.23],\n       [26, 1541.09],\n       [27, 1541.05],\n       [28, 1541.03],\n       [29, 1541.13],\n       [31, 1541.07],\n       [34, 1541.24],\n       [35, 1541.03]]), 471: array([[2, 1542.67],\n       [5, 1542.47],\n       [6, 1542.63],\n       [8, 1542.64],\n       [11, 1542.63],\n       [12, 1542.59],\n       [13, 1542.49],\n       [14, 1542.66],\n       [16, 1542.48],\n       [17, 1542.67],\n       [19, 1542.58],\n       [20, 1542.59],\n       [21, 1542.58],\n       [22, 1542.52],\n       [26, 1542.47],\n       [27, 1542.65],\n       [28, 1542.66],\n       [29, 1542.58],\n       [32, 1542.66],\n       [33, 1542.62],\n       [35, 1542.64]]), 472: array([[0, 1544.14],\n       [6, 1544.17],\n       [15, 1544.18],\n       [16, 1544.14],\n       [18, 1544.24],\n       [20, 1544.19],\n       [22, 1544.26],\n       [23, 1544.17],\n       [24, 1544.21],\n       [27, 1544.21],\n       [29, 1544.29],\n       [30, 1544.25],\n       [32, 1544],\n       [35, 1544.26]]), 473: array([[1, 1547.26],\n       [7, 1547.26],\n       [8, 1547.29],\n       [10, 1547.27],\n       [12, 1547.19],\n       [15, 1547.33],\n       [17, 1547.25],\n       [19, 1547.21],\n       [20, 1547.27],\n       [22, 1547.21],\n       [23, 1547.25],\n       [24, 1547.23],\n       [25, 1547.35],\n       [26, 1547.25],\n       [29, 1547.21],\n       [33, 1547.24],\n       [34, 1547.34],\n       [35, 1547.29]]), 474: array([[0, 1550.06],\n       [2, 1550.29],\n       [4, 1549.97],\n       [5, 1550.25],\n       [6, 1550.32],\n       [8, 1550.07],\n       [10, 1550.24],\n       [11, 1550.26],\n       [14, 1550.32],\n       [15, 1550.36],\n       [16, 1550.15],\n       [17, 1549.96],\n       [25, 1550.28],\n       [27, 1550.33],\n       [28, 1549.98],\n       [30, 1550.14],\n       [32, 1549.96],\n       [35, 1550.28]]), 475: array([[2, 1570.3],\n       [4, 1570.16],\n       [6, 1570.34],\n       [8, 1570.22],\n       [11, 1570.32],\n       [14, 1570.33],\n       [16, 1570.17],\n       [27, 1570.34],\n       [28, 1570.23],\n       [35, 1570.21]]), 476: array([[1, 1584.09],\n       [3, 1584.18],\n       [7, 1584.1],\n       [9, 1584.18],\n       [12, 1584.19],\n       [14, 1584.11],\n       [20, 1584.14],\n       [25, 1584.17],\n       [29, 1584.09],\n       [31, 1584.18],\n       [34, 1584.16]]), 477: array([[0, 1584.54],\n       [3, 1584.58],\n       [6, 1584.64],\n       [8, 1584.63],\n       [11, 1584.59],\n       [12, 1584.58],\n       [14, 1584.64],\n       [16, 1584.62],\n       [17, 1584.51],\n       [19, 1584.59],\n       [22, 1584.57],\n       [24, 1584.57],\n       [26, 1584.54],\n       [27, 1584.64],\n       [28, 1584.64],\n       [29, 1584.59],\n       [30, 1584.62],\n       [33, 1584.62],\n       [35, 1584.63]]), 478: array([[4, 1592.13],\n       [5, 1592.12],\n       [13, 1592.13],\n       [16, 1592.12],\n       [17, 1592.12],\n       [32, 1592.17],\n       [35, 1592.12]]), 479: array([[2, 1593.58],\n       [3, 1593.61],\n       [5, 1593.58],\n       [6, 1593.72],\n       [8, 1593.54],\n       [11, 1593.61],\n       [12, 1593.51],\n       [13, 1593.57],\n       [14, 1593.61],\n       [17, 1593.56],\n       [27, 1593.7],\n       [35, 1593.56]]), 480: array([[2, 1595.75],\n       [5, 1595.75],\n       [6, 1595.89],\n       [8, 1595.7],\n       [11, 1595.85],\n       [12, 1595.75],\n       [13, 1595.89],\n       [14, 1595.89],\n       [15, 1595.9],\n       [17, 1595.75],\n       [27, 1595.81],\n       [35, 1595.71]]), 481: array([[2, 1618.09],\n       [4, 1618.12],\n       [5, 1618.1],\n       [13, 1618.09],\n       [14, 1618.1],\n       [17, 1618.07],\n       [35, 1618.03]]), 482: array([[0, 1620.73],\n       [4, 1620.74],\n       [6, 1620.92],\n       [8, 1620.66],\n       [10, 1620.63],\n       [11, 1620.85],\n       [13, 1620.87],\n       [14, 1620.91],\n       [16, 1620.84],\n       [18, 1620.98],\n       [20, 1620.97],\n       [21, 1621],\n       [22, 1620.99],\n       [24, 1620.98],\n       [27, 1620.92],\n       [31, 1621.01],\n       [32, 1620.76],\n       [35, 1620.67]]), 483: array([[0, 1633.15],\n       [1, 1633.04],\n       [3, 1633.2],\n       [6, 1633.24],\n       [8, 1633.24],\n       [12, 1633.19],\n       [16, 1633.25],\n       [19, 1633.18],\n       [22, 1633.16],\n       [24, 1633.15],\n       [25, 1633.04],\n       [26, 1633.09],\n       [27, 1633.26],\n       [28, 1633.25],\n       [29, 1633.19],\n       [30, 1633.08],\n       [31, 1633.08],\n       [33, 1633.23],\n       [35, 1633.06]]), 484: array([[1, 1633.83],\n       [7, 1633.91],\n       [9, 1633.86],\n       [12, 1633.87],\n       [20, 1633.91],\n       [25, 1633.95],\n       [30, 1633.91],\n       [31, 1633.89],\n       [34, 1633.84],\n       [35, 1633.88]]), 485: array([[6, 1635.45],\n       [15, 1635.52],\n       [17, 1635.53],\n       [18, 1635.44],\n       [20, 1635.46],\n       [21, 1635.48],\n       [22, 1635.48],\n       [23, 1635.47],\n       [24, 1635.44],\n       [25, 1635.47],\n       [29, 1635.44],\n       [30, 1635.45]]), 487: array([[0, 1645.32],\n       [2, 1645.29],\n       [3, 1645.29],\n       [4, 1645.3],\n       [6, 1645.33],\n       [8, 1645.25],\n       [11, 1645.32],\n       [14, 1645.32],\n       [16, 1645.34],\n       [32, 1645.34],\n       [35, 1645.23]]), 489: array([[6, 1646.27],\n       [8, 1646.2],\n       [13, 1646.23],\n       [14, 1646.25],\n       [27, 1646.19],\n       [35, 1646.2]]), 490: array([[1, 1656.15],\n       [4, 1656.27],\n       [7, 1656.15],\n       [13, 1656.16],\n       [20, 1656.2],\n       [26, 1656.22],\n       [31, 1656.26]]), 491: array([[1, 1657.5],\n       [15, 1657.32],\n       [20, 1657.55],\n       [23, 1657.48],\n       [24, 1657.55],\n       [25, 1657.51],\n       [26, 1657.54],\n       [27, 1657.39],\n       [35, 1657.5]]), 492: array([[1, 1658.5],\n       [3, 1658.62],\n       [6, 1658.64],\n       [7, 1658.58],\n       [8, 1658.65],\n       [9, 1658.82],\n       [11, 1658.63],\n       [12, 1658.61],\n       [14, 1658.67],\n       [15, 1658.52],\n       [17, 1658.56],\n       [19, 1658.63],\n       [25, 1658.5],\n       [26, 1658.59],\n       [27, 1658.66],\n       [28, 1658.67],\n       [29, 1658.62],\n       [30, 1658.61],\n       [33, 1658.66],\n       [35, 1658.66]]), 493: array([[0, 1661.66],\n       [2, 1661.65],\n       [6, 1661.62],\n       [8, 1661.63],\n       [12, 1661.61],\n       [14, 1661.63],\n       [16, 1661.63],\n       [19, 1661.58],\n       [26, 1661.54],\n       [27, 1661.64],\n       [28, 1661.65],\n       [29, 1661.6],\n       [35, 1661.64]]), 494: array([[3, 1670.44],\n       [6, 1670.43],\n       [20, 1670.42],\n       [26, 1670.45],\n       [27, 1670.43],\n       [35, 1670.46]]), 495: array([[0, 1671.04],\n       [2, 1670.89],\n       [4, 1671.03],\n       [5, 1670.88],\n       [6, 1671.06],\n       [8, 1670.94],\n       [12, 1671.05],\n       [15, 1671.08],\n       [16, 1670.89],\n       [17, 1671.15],\n       [20, 1671.24],\n       [27, 1671.24],\n       [33, 1671.09],\n       [35, 1670.85]]), 496: array([[2, 1672.32],\n       [4, 1672.47],\n       [5, 1672.33],\n       [8, 1672.5],\n       [11, 1672.49],\n       [13, 1672.41],\n       [14, 1672.41],\n       [17, 1672.3],\n       [28, 1672.52],\n       [35, 1672.31]]), 497: array([[3, 1678.64],\n       [4, 1678.68],\n       [9, 1678.64],\n       [12, 1678.64],\n       [18, 1678.71],\n       [20, 1678.64],\n       [22, 1678.6],\n       [24, 1678.7],\n       [26, 1678.61],\n       [29, 1678.65]]), 498: array([[1, 1683.34],\n       [7, 1683.32],\n       [15, 1683.3],\n       [17, 1683.31],\n       [24, 1683.41],\n       [25, 1683.36]]), 499: array([[1, 1686.05],\n       [3, 1686.07],\n       [4, 1686.15],\n       [7, 1686.06],\n       [9, 1686.15],\n       [12, 1686.16],\n       [17, 1686.05],\n       [20, 1686.09],\n       [25, 1686.07],\n       [29, 1686.06],\n       [30, 1686.11],\n       [31, 1686.14],\n       [35, 1686.09]]), 501: array([[4, 1697.47],\n       [9, 1697.55],\n       [11, 1697.61],\n       [16, 1697.59],\n       [17, 1697.67],\n       [20, 1697.63],\n       [21, 1697.52],\n       [27, 1697.71],\n       [29, 1697.63],\n       [34, 1697.68],\n       [35, 1697.71]]), 502: array([[0, 1699.04],\n       [3, 1699.2],\n       [4, 1699.2],\n       [5, 1699.4],\n       [7, 1699.28],\n       [8, 1699.34],\n       [13, 1699.43],\n       [14, 1699.22],\n       [16, 1699.04],\n       [22, 1699.09],\n       [35, 1699.14]]), 503: array([[6, 1699.73],\n       [8, 1699.73],\n       [12, 1699.84],\n       [13, 1699.72],\n       [14, 1699.71],\n       [15, 1699.74],\n       [16, 1699.71],\n       [18, 1699.85],\n       [19, 1699.76],\n       [20, 1699.84],\n       [22, 1699.84],\n       [24, 1699.85],\n       [25, 1699.74],\n       [26, 1699.76],\n       [27, 1699.72],\n       [29, 1699.84],\n       [33, 1699.77],\n       [35, 1699.7]]), 505: array([[4, 1721.92],\n       [5, 1721.85],\n       [14, 1721.89],\n       [15, 1721.88],\n       [16, 1721.84],\n       [17, 1721.82],\n       [35, 1721.87]]), 506: array([[5, 1722.69],\n       [8, 1722.63],\n       [12, 1722.81],\n       [13, 1722.81],\n       [14, 1722.62],\n       [15, 1722.87],\n       [16, 1722.9],\n       [18, 1722.77],\n       [20, 1722.77],\n       [22, 1722.79],\n       [24, 1722.78],\n       [26, 1722.88],\n       [27, 1722.66],\n       [30, 1722.86],\n       [35, 1722.61]]), 507: array([[0, 1724.63],\n       [2, 1724.5],\n       [3, 1724.62],\n       [8, 1724.62],\n       [13, 1724.6],\n       [16, 1724.65],\n       [21, 1724.55],\n       [27, 1724.63],\n       [35, 1724.61]]), 508: array([[3, 1726.66],\n       [6, 1726.62],\n       [8, 1726.63],\n       [11, 1726.59],\n       [12, 1726.64],\n       [14, 1726.64],\n       [19, 1726.68],\n       [21, 1726.69],\n       [22, 1726.68],\n       [26, 1726.66],\n       [27, 1726.63],\n       [29, 1726.67],\n       [33, 1726.66],\n       [35, 1726.61]]), 509: array([[0, 1732.08],\n       [3, 1732.13],\n       [6, 1732.19],\n       [7, 1732.29],\n       [8, 1732.15],\n       [10, 1732.18],\n       [11, 1732.14],\n       [12, 1732.32],\n       [13, 1732.14],\n       [14, 1732.12],\n       [15, 1732.19],\n       [19, 1732.2],\n       [26, 1732.2],\n       [27, 1732.18],\n       [28, 1732.15],\n       [32, 1732.1],\n       [33, 1732.33],\n       [35, 1732.13]]), 510: array([[0, 1735.13],\n       [3, 1735.12],\n       [8, 1735.2],\n       [11, 1735.19],\n       [28, 1735.21],\n       [32, 1735.09],\n       [35, 1735.18]]), 511: array([[0, 1737.93],\n       [2, 1737.99],\n       [5, 1737.99],\n       [8, 1737.97],\n       [11, 1737.97],\n       [32, 1737.94],\n       [35, 1737.98]]), 512: array([[0, 1738.68],\n       [2, 1738.73],\n       [3, 1738.69],\n       [8, 1738.71],\n       [9, 1738.75],\n       [16, 1738.7],\n       [35, 1738.73]]), 513: array([[2, 1740.17],\n       [3, 1740.09],\n       [4, 1740.12],\n       [6, 1740.17],\n       [7, 1740.36],\n       [8, 1740.14],\n       [12, 1740.13],\n       [14, 1740.17],\n       [15, 1740.18],\n       [17, 1740.34],\n       [19, 1740.26],\n       [21, 1740.36],\n       [26, 1740.21],\n       [27, 1740.17],\n       [28, 1740.15],\n       [29, 1740.26],\n       [30, 1740.3],\n       [32, 1740.14],\n       [35, 1740.15]]), 514: array([[5, 1756.73],\n       [6, 1756.82],\n       [8, 1756.84],\n       [10, 1756.76],\n       [13, 1756.73],\n       [16, 1756.82],\n       [17, 1756.74],\n       [22, 1756.81],\n       [32, 1756.79],\n       [35, 1756.74]]), 515: array([[0, 1757.24],\n       [2, 1757.19],\n       [4, 1757.2],\n       [6, 1757.26],\n       [7, 1757.4],\n       [8, 1757.23],\n       [9, 1757.44],\n       [11, 1757.26],\n       [13, 1757.26],\n       [14, 1757.22],\n       [16, 1757.25],\n       [18, 1757.3],\n       [20, 1757.28],\n       [22, 1757.29],\n       [23, 1757.25],\n       [30, 1757.28],\n       [32, 1757.25]]), 516: array([[2, 1758.24],\n       [6, 1758.16],\n       [8, 1758.19],\n       [15, 1758.14],\n       [16, 1758.21],\n       [17, 1758.25],\n       [26, 1758.18],\n       [27, 1758.22],\n       [28, 1758.23],\n       [33, 1758.17],\n       [35, 1758.22]]), 517: array([[2, 1766.31],\n       [3, 1766.52],\n       [6, 1766.32],\n       [8, 1766.29],\n       [12, 1766.54],\n       [14, 1766.32],\n       [15, 1766.39],\n       [16, 1766.31],\n       [17, 1766.38],\n       [18, 1766.48],\n       [20, 1766.49],\n       [21, 1766.52],\n       [22, 1766.48],\n       [24, 1766.5],\n       [26, 1766.4],\n       [27, 1766.32],\n       [33, 1766.38],\n       [35, 1766.3]]), 518: array([[0, 1768.24],\n       [4, 1768.24],\n       [8, 1768.13],\n       [9, 1768.11],\n       [12, 1768.13],\n       [17, 1768.15],\n       [21, 1768.17],\n       [24, 1768.16],\n       [26, 1768.16],\n       [31, 1768.14],\n       [32, 1768.23]]), 519: array([[2, 1770.06],\n       [3, 1769.99],\n       [4, 1770.04],\n       [5, 1770.04],\n       [6, 1770],\n       [8, 1770.01],\n       [12, 1769.96],\n       [14, 1770.02],\n       [16, 1769.98],\n       [17, 1770.04],\n       [18, 1769.96],\n       [20, 1769.97],\n       [21, 1769.96],\n       [22, 1769.98],\n       [23, 1770],\n       [24, 1769.98],\n       [26, 1770.01],\n       [27, 1770.03],\n       [33, 1770],\n       [35, 1770.01]]), 520: array([[0, 1771.74],\n       [4, 1771.76],\n       [6, 1771.77],\n       [11, 1771.6],\n       [14, 1771.77],\n       [22, 1771.59],\n       [23, 1771.76],\n       [26, 1771.64],\n       [31, 1771.76],\n       [32, 1771.56],\n       [33, 1771.61],\n       [35, 1771.78]]), 522: array([[2, 1773.57],\n       [4, 1773.59],\n       [8, 1773.55],\n       [13, 1773.59],\n       [16, 1773.57],\n       [25, 1773.58],\n       [28, 1773.55],\n       [34, 1773.6],\n       [35, 1773.57]]), 523: array([[13, 1774.46],\n       [16, 1774.44],\n       [18, 1774.46],\n       [20, 1774.46],\n       [21, 1774.47],\n       [22, 1774.47],\n       [26, 1774.45],\n       [29, 1774.47],\n       [31, 1774.46],\n       [33, 1774.48]]), 524: array([[4, 1778.73],\n       [8, 1778.75],\n       [11, 1778.75],\n       [13, 1778.88],\n       [14, 1778.78],\n       [15, 1778.76],\n       [16, 1778.76],\n       [28, 1778.75],\n       [35, 1778.74]]), 525: array([[2, 1780.46],\n       [3, 1780.47],\n       [8, 1780.44],\n       [12, 1780.43],\n       [13, 1780.42],\n       [14, 1780.46],\n       [16, 1780.36],\n       [17, 1780.47],\n       [18, 1780.36],\n       [20, 1780.37],\n       [21, 1780.37],\n       [22, 1780.38],\n       [24, 1780.39],\n       [26, 1780.44],\n       [27, 1780.46],\n       [28, 1780.45],\n       [33, 1780.43],\n       [35, 1780.45]]), 526: array([[0, 1781.92],\n       [2, 1781.84],\n       [3, 1781.91],\n       [4, 1781.92],\n       [8, 1781.93],\n       [9, 1781.95],\n       [11, 1781.92],\n       [28, 1781.89],\n       [32, 1781.91],\n       [34, 1782],\n       [35, 1781.86]]), 527: array([[0, 1787.74],\n       [2, 1787.78],\n       [3, 1787.67],\n       [5, 1787.79],\n       [6, 1787.75],\n       [8, 1787.76],\n       [14, 1787.77],\n       [16, 1787.71],\n       [17, 1787.79],\n       [27, 1787.78],\n       [35, 1787.77]]), 528: array([[0, 1789.76],\n       [1, 1789.99],\n       [3, 1789.94],\n       [4, 1789.84],\n       [6, 1789.81],\n       [7, 1790],\n       [8, 1789.83],\n       [9, 1789.93],\n       [10, 1789.83],\n       [12, 1789.76],\n       [13, 1789.83],\n       [16, 1789.81],\n       [19, 1789.89],\n       [20, 1789.96],\n       [22, 1789.9],\n       [24, 1789.92],\n       [25, 1789.98],\n       [27, 1789.94],\n       [28, 1789.8],\n       [29, 1789.9],\n       [30, 1789.95],\n       [31, 1790],\n       [33, 1789.88]]), 529: array([[0, 1792.46],\n       [2, 1792.57],\n       [4, 1792.58],\n       [5, 1792.59],\n       [6, 1792.49],\n       [8, 1792.55],\n       [9, 1792.58],\n       [11, 1792.55],\n       [12, 1792.51],\n       [13, 1792.59],\n       [14, 1792.57],\n       [16, 1792.46],\n       [17, 1792.57],\n       [20, 1792.52],\n       [23, 1792.42],\n       [26, 1792.51],\n       [28, 1792.56],\n       [33, 1792.52],\n       [35, 1792.57]]), 530: array([[6, 1795.9],\n       [9, 1796.04],\n       [11, 1795.98],\n       [12, 1795.93],\n       [16, 1795.94],\n       [17, 1795.97],\n       [20, 1795.99],\n       [23, 1795.91],\n       [25, 1795.9],\n       [26, 1796.04],\n       [27, 1795.93],\n       [35, 1796.04]]), 531: array([[3, 1797.06],\n       [6, 1797.07],\n       [9, 1797.06],\n       [12, 1797.1],\n       [16, 1797.12],\n       [20, 1797.04],\n       [24, 1797.04],\n       [26, 1797.06],\n       [29, 1797.06],\n       [31, 1797.1],\n       [35, 1797.11]]), 532: array([[0, 1797.66],\n       [3, 1797.61],\n       [4, 1797.7],\n       [8, 1797.69],\n       [9, 1797.71],\n       [16, 1797.64],\n       [32, 1797.68],\n       [35, 1797.67]]), 533: array([[2, 1802.07],\n       [4, 1802.05],\n       [5, 1802.08],\n       [8, 1802.06],\n       [11, 1802.06],\n       [13, 1802.07],\n       [14, 1802.09],\n       [17, 1802.07],\n       [27, 1802.08],\n       [28, 1802.07],\n       [32, 1802.03],\n       [35, 1802.08]]), 534: array([[0, 1807.39],\n       [2, 1807.4],\n       [4, 1807.34],\n       [5, 1807.41],\n       [6, 1807.38],\n       [8, 1807.35],\n       [9, 1807.45],\n       [13, 1807.42],\n       [14, 1807.38],\n       [16, 1807.36],\n       [17, 1807.42],\n       [27, 1807.38],\n       [28, 1807.4],\n       [30, 1807.37],\n       [32, 1807.36],\n       [33, 1807.38],\n       [34, 1807.48],\n       [35, 1807.34]]), 535: array([[1, 1808.6],\n       [2, 1808.48],\n       [4, 1808.45],\n       [7, 1808.57],\n       [8, 1808.46],\n       [9, 1808.51],\n       [10, 1808.57],\n       [11, 1808.46],\n       [12, 1808.47],\n       [15, 1808.63],\n       [17, 1808.56],\n       [25, 1808.61],\n       [26, 1808.56],\n       [27, 1808.55],\n       [28, 1808.46],\n       [35, 1808.47]]), 536: array([[0, 1811.16],\n       [2, 1811.32],\n       [4, 1811.35],\n       [5, 1811.36],\n       [6, 1811.26],\n       [8, 1811.28],\n       [11, 1811.29],\n       [12, 1811.19],\n       [14, 1811.3],\n       [16, 1811.17],\n       [17, 1811.32],\n       [18, 1811.19],\n       [19, 1811.22],\n       [20, 1811.19],\n       [22, 1811.21],\n       [23, 1811.17],\n       [26, 1811.27],\n       [27, 1811.3],\n       [28, 1811.3],\n       [29, 1811.22],\n       [31, 1811.19],\n       [32, 1811.14],\n       [33, 1811.21],\n       [35, 1811.31]]), 537: array([[0, 1812.17],\n       [6, 1812.22],\n       [11, 1812.23],\n       [12, 1812.22],\n       [16, 1812.2],\n       [22, 1812.23],\n       [26, 1812.24],\n       [32, 1812.18],\n       [33, 1812.27]]), 538: array([[0, 1813.02],\n       [10, 1813.13],\n       [16, 1812.92],\n       [28, 1812.94],\n       [32, 1813.01],\n       [35, 1812.94]]), 539: array([[0, 1818.49],\n       [3, 1818.64],\n       [6, 1818.56],\n       [8, 1818.51],\n       [11, 1818.56],\n       [12, 1818.64],\n       [15, 1818.58],\n       [16, 1818.52],\n       [18, 1818.61],\n       [19, 1818.65],\n       [20, 1818.59],\n       [21, 1818.61],\n       [22, 1818.62],\n       [24, 1818.61],\n       [26, 1818.58],\n       [29, 1818.62],\n       [32, 1818.51],\n       [33, 1818.59]]), 540: array([[1, 1819.45],\n       [2, 1819.36],\n       [5, 1819.35],\n       [8, 1819.33],\n       [10, 1819.33],\n       [11, 1819.32],\n       [16, 1819.32],\n       [27, 1819.42],\n       [28, 1819.35],\n       [35, 1819.35]]), 541: array([[0, 1820.48],\n       [3, 1820.32],\n       [7, 1820.51],\n       [8, 1820.31],\n       [9, 1820.3],\n       [12, 1820.32],\n       [15, 1820.54],\n       [16, 1820.21],\n       [17, 1820.53],\n       [20, 1820.2],\n       [21, 1820.16],\n       [22, 1820.17],\n       [24, 1820.27],\n       [25, 1820.56],\n       [29, 1820.33],\n       [30, 1820.33],\n       [31, 1820.32],\n       [33, 1820.25],\n       [35, 1820.35]]), 542: array([[0, 1822],\n       [2, 1822.08],\n       [6, 1822.01],\n       [8, 1822.05],\n       [9, 1822.06],\n       [10, 1822.02],\n       [11, 1822.02],\n       [13, 1822.02],\n       [14, 1822.06],\n       [16, 1821.94],\n       [17, 1822.09],\n       [27, 1822.07],\n       [28, 1822.07],\n       [35, 1822.06]]), 543: array([[6, 1823.66],\n       [8, 1823.67],\n       [11, 1823.65],\n       [14, 1823.68],\n       [16, 1823.67],\n       [20, 1823.64],\n       [26, 1823.61],\n       [27, 1823.69],\n       [28, 1823.7],\n       [30, 1823.64],\n       [31, 1823.62],\n       [33, 1823.65],\n       [35, 1823.68]]), 544: array([[0, 1824.62],\n       [9, 1824.59],\n       [18, 1824.54],\n       [20, 1824.55],\n       [22, 1824.54],\n       [24, 1824.55],\n       [30, 1824.67],\n       [33, 1824.57]]), 545: array([[5, 1826.47],\n       [6, 1826.5],\n       [8, 1826.46],\n       [10, 1826.48],\n       [11, 1826.45],\n       [13, 1826.42],\n       [26, 1826.46],\n       [27, 1826.63],\n       [29, 1826.47],\n       [34, 1826.43],\n       [35, 1826.46]]), 546: array([[0, 1829.9],\n       [1, 1829.96],\n       [3, 1829.89],\n       [7, 1829.99],\n       [9, 1829.89],\n       [12, 1829.9],\n       [14, 1829.97],\n       [15, 1829.97],\n       [19, 1829.91],\n       [20, 1829.92],\n       [21, 1829.91],\n       [23, 1830.02],\n       [25, 1829.98],\n       [26, 1829.92],\n       [27, 1829.91],\n       [34, 1829.97]]), 547: array([[0, 1830.32],\n       [3, 1830.36],\n       [4, 1830.31],\n       [6, 1830.36],\n       [8, 1830.32],\n       [9, 1830.44],\n       [10, 1830.43],\n       [11, 1830.31],\n       [12, 1830.38],\n       [13, 1830.31],\n       [16, 1830.36],\n       [20, 1830.41],\n       [24, 1830.41],\n       [26, 1830.37],\n       [35, 1830.33]]), 548: array([[0, 1830.74],\n       [6, 1830.83],\n       [16, 1830.71],\n       [18, 1830.77],\n       [20, 1830.73],\n       [21, 1830.8],\n       [22, 1830.76],\n       [24, 1830.8],\n       [26, 1830.79],\n       [28, 1830.77],\n       [30, 1830.87],\n       [31, 1830.78]]), 549: array([[0, 1832.09],\n       [4, 1832.06],\n       [8, 1832.1],\n       [12, 1832.11],\n       [14, 1832.1],\n       [15, 1832.17],\n       [16, 1832.1],\n       [20, 1832.18],\n       [26, 1832.16],\n       [30, 1832.16],\n       [32, 1832.07],\n       [35, 1832.11]]), 550: array([[7, 1832.57],\n       [17, 1832.56],\n       [20, 1832.61],\n       [21, 1832.57],\n       [26, 1832.56],\n       [29, 1832.6]]), 551: array([[0, 1835.08],\n       [3, 1835.17],\n       [4, 1835.17],\n       [6, 1835.08],\n       [9, 1835.16],\n       [12, 1835.18],\n       [13, 1835.09],\n       [16, 1835.07],\n       [20, 1835.11],\n       [24, 1835.14],\n       [29, 1835.15],\n       [31, 1835.19],\n       [32, 1835.04],\n       [35, 1835.16]]), 552: array([[4, 1836.26],\n       [8, 1836.26],\n       [11, 1836.27],\n       [14, 1836.28],\n       [21, 1836.29],\n       [28, 1836.3],\n       [35, 1836.29]]), 553: array([[2, 1838.43],\n       [5, 1838.42],\n       [8, 1838.41],\n       [13, 1838.41],\n       [16, 1838.41],\n       [28, 1838.42],\n       [33, 1838.43],\n       [35, 1838.43]]), 554: array([[3, 1840.57],\n       [6, 1840.52],\n       [8, 1840.47],\n       [9, 1840.48],\n       [12, 1840.56],\n       [16, 1840.51],\n       [19, 1840.61],\n       [22, 1840.58],\n       [26, 1840.56],\n       [28, 1840.48],\n       [29, 1840.59],\n       [33, 1840.56],\n       [35, 1840.5]]), 555: array([[0, 1841.28],\n       [6, 1841.32],\n       [11, 1841.32],\n       [15, 1841.33],\n       [16, 1841.26],\n       [21, 1841.3],\n       [22, 1841.32],\n       [23, 1841.31],\n       [26, 1841.32],\n       [33, 1841.34]]), 556: array([[0, 1842.18],\n       [6, 1841.95],\n       [11, 1842.15],\n       [12, 1842.08],\n       [19, 1842.02],\n       [20, 1841.98],\n       [21, 1842.4],\n       [24, 1842.38],\n       [25, 1842.04],\n       [26, 1842.02],\n       [28, 1842.03],\n       [34, 1841.99]]), 557: array([[0, 1848.99],\n       [3, 1849.02],\n       [4, 1849.17],\n       [9, 1849.14],\n       [11, 1849.03],\n       [16, 1848.99],\n       [18, 1849.01],\n       [20, 1849.02],\n       [21, 1849.01],\n       [22, 1849.04],\n       [24, 1849.1],\n       [26, 1849.19],\n       [27, 1849.04],\n       [29, 1849.08],\n       [30, 1849.13],\n       [31, 1849.16],\n       [33, 1849.19],\n       [35, 1849.04]]), 558: array([[0, 1850.92],\n       [8, 1850.91],\n       [10, 1851],\n       [14, 1850.92],\n       [27, 1851.01],\n       [35, 1850.94]]), 559: array([[2, 1853.59],\n       [5, 1853.59],\n       [8, 1853.6],\n       [14, 1853.57],\n       [17, 1853.6],\n       [35, 1853.6]]), 560: array([[2, 1854.58],\n       [3, 1854.52],\n       [6, 1854.54],\n       [8, 1854.54],\n       [11, 1854.54],\n       [12, 1854.51],\n       [16, 1854.58],\n       [20, 1854.5],\n       [27, 1854.56],\n       [28, 1854.56],\n       [29, 1854.52],\n       [33, 1854.52],\n       [35, 1854.55]]), 561: array([[0, 1855.55],\n       [1, 1855.42],\n       [2, 1855.7],\n       [3, 1855.61],\n       [6, 1855.66],\n       [7, 1855.45],\n       [8, 1855.67],\n       [11, 1855.66],\n       [12, 1855.59],\n       [16, 1855.64],\n       [19, 1855.58],\n       [20, 1855.48],\n       [21, 1855.61],\n       [22, 1855.59],\n       [24, 1855.57],\n       [25, 1855.47],\n       [26, 1855.5],\n       [27, 1855.46],\n       [28, 1855.69],\n       [29, 1855.6],\n       [34, 1855.46],\n       [35, 1855.69]]), 562: array([[4, 1857.12],\n       [8, 1857.13],\n       [10, 1857.14],\n       [11, 1857.13],\n       [12, 1857.14],\n       [13, 1857.12],\n       [14, 1857.13],\n       [19, 1857.12],\n       [22, 1857.16],\n       [28, 1857.13],\n       [30, 1857.16],\n       [31, 1857.15],\n       [32, 1857.08],\n       [33, 1857.18],\n       [35, 1857.12]]), 563: array([[0, 1859],\n       [2, 1859.04],\n       [4, 1858.99],\n       [8, 1859.02],\n       [11, 1859.02],\n       [17, 1859.03],\n       [28, 1859.03],\n       [32, 1859]]), 564: array([[1, 1859.36],\n       [7, 1859.34],\n       [8, 1859.36],\n       [9, 1859.34],\n       [12, 1859.25],\n       [14, 1859.39],\n       [15, 1859.37],\n       [17, 1859.38],\n       [18, 1859.25],\n       [20, 1859.28],\n       [21, 1859.28],\n       [22, 1859.27],\n       [23, 1859.29],\n       [24, 1859.28],\n       [25, 1859.37],\n       [27, 1859.35],\n       [29, 1859.28],\n       [34, 1859.38]]), 566: array([[0, 1862.29],\n       [4, 1862.28],\n       [8, 1862.29],\n       [28, 1862.31],\n       [32, 1862.31],\n       [35, 1862.31]]), 567: array([[1, 1865.45],\n       [16, 1865.31],\n       [21, 1865.27],\n       [24, 1865.43],\n       [26, 1865.44],\n       [27, 1865.3],\n       [30, 1865.29],\n       [35, 1865.33]]), 568: array([[0, 1866.83],\n       [3, 1866.83],\n       [4, 1866.82],\n       [9, 1866.83],\n       [11, 1866.84],\n       [12, 1867.02],\n       [16, 1866.87],\n       [20, 1866.94],\n       [21, 1867.04],\n       [22, 1866.89],\n       [23, 1866.91],\n       [24, 1866.97],\n       [27, 1866.89],\n       [29, 1867],\n       [30, 1866.94],\n       [31, 1867.02],\n       [32, 1866.83],\n       [35, 1866.85]]), 569: array([[2, 1870.59],\n       [3, 1870.52],\n       [5, 1870.62],\n       [7, 1870.65],\n       [8, 1870.56],\n       [9, 1870.59],\n       [10, 1870.57],\n       [12, 1870.51],\n       [13, 1870.6],\n       [14, 1870.58],\n       [16, 1870.57],\n       [17, 1870.6],\n       [18, 1870.47],\n       [19, 1870.54],\n       [20, 1870.49],\n       [21, 1870.47],\n       [22, 1870.49],\n       [24, 1870.5],\n       [26, 1870.54],\n       [27, 1870.58],\n       [28, 1870.57],\n       [29, 1870.53],\n       [31, 1870.48],\n       [32, 1870.49],\n       [35, 1870.49]]), 570: array([[0, 1872.57],\n       [12, 1872.59],\n       [13, 1872.57],\n       [16, 1872.59],\n       [17, 1872.27],\n       [20, 1872.57],\n       [21, 1872.45],\n       [25, 1872.32],\n       [26, 1872.3],\n       [27, 1872.58],\n       [30, 1872.46],\n       [31, 1872.33],\n       [35, 1872.3]]), 571: array([[0, 1874.62],\n       [1, 1874.52],\n       [3, 1874.74],\n       [8, 1874.64],\n       [14, 1874.62],\n       [16, 1874.75],\n       [21, 1874.73],\n       [26, 1874.65],\n       [35, 1874.67]]), 572: array([[0, 1876.36],\n       [14, 1876.33],\n       [16, 1876.35],\n       [23, 1876.34],\n       [24, 1876.36],\n       [32, 1876.36],\n       [35, 1876.35]]), 573: array([[2, 1878.17],\n       [3, 1878.16],\n       [4, 1878.15],\n       [5, 1878.17],\n       [8, 1878.16],\n       [11, 1878.16],\n       [17, 1878.18],\n       [28, 1878.17],\n       [35, 1878.19]]), 574: array([[2, 1879.39],\n       [4, 1879.33],\n       [8, 1879.36],\n       [17, 1879.41],\n       [28, 1879.38],\n       [35, 1879.38]]), 575: array([[6, 1880.51],\n       [8, 1880.47],\n       [12, 1880.53],\n       [15, 1880.52],\n       [16, 1880.51],\n       [17, 1880.49],\n       [28, 1880.47],\n       [35, 1880.49]]), 576: array([[0, 1886.13],\n       [2, 1886.06],\n       [3, 1886.25],\n       [4, 1886.01],\n       [5, 1886.04],\n       [6, 1886.21],\n       [7, 1886.12],\n       [8, 1886.31],\n       [9, 1886.04],\n       [10, 1886.01],\n       [12, 1886.26],\n       [13, 1886.07],\n       [14, 1886.01],\n       [15, 1886.19],\n       [16, 1886.15],\n       [17, 1886.32],\n       [18, 1886.21],\n       [20, 1886.2],\n       [21, 1886.21],\n       [22, 1886.22],\n       [24, 1886.21],\n       [25, 1886.31],\n       [27, 1886.24],\n       [29, 1886.22],\n       [31, 1886.27],\n       [32, 1885.98],\n       [34, 1886.21],\n       [35, 1886.05]]), 577: array([[2, 1889.98],\n       [3, 1889.92],\n       [6, 1889.76],\n       [8, 1889.95],\n       [11, 1889.69],\n       [12, 1889.88],\n       [14, 1889.98],\n       [15, 1889.68],\n       [16, 1889.88],\n       [18, 1889.73],\n       [20, 1889.7],\n       [21, 1889.75],\n       [22, 1889.73],\n       [24, 1889.74],\n       [26, 1889.68],\n       [28, 1889.96],\n       [33, 1889.92],\n       [35, 1889.98]]), 578: array([[0, 1892.31],\n       [3, 1892.41],\n       [4, 1892.37],\n       [6, 1892.34],\n       [7, 1892.49],\n       [8, 1892.35],\n       [11, 1892.35],\n       [12, 1892.4],\n       [15, 1892.38],\n       [16, 1892.29],\n       [17, 1892.49],\n       [19, 1892.4],\n       [22, 1892.42],\n       [23, 1892.29],\n       [24, 1892.45],\n       [25, 1892.51],\n       [26, 1892.4],\n       [27, 1892.37],\n       [29, 1892.43],\n       [35, 1892.37]]), 579: array([[0, 1892.98],\n       [1, 1893.09],\n       [4, 1893.05],\n       [8, 1893.03],\n       [9, 1893.03],\n       [12, 1893.05],\n       [13, 1892.86],\n       [16, 1892.99],\n       [20, 1892.99],\n       [21, 1893.01],\n       [24, 1893.01],\n       [26, 1892.88],\n       [29, 1893.03],\n       [31, 1893.06],\n       [35, 1893.04]]), 580: array([[3, 1893.67],\n       [4, 1893.68],\n       [9, 1893.66],\n       [12, 1893.67],\n       [20, 1893.57],\n       [24, 1893.59],\n       [29, 1893.62],\n       [31, 1893.63]]), 581: array([[2, 1907.78],\n       [4, 1907.84],\n       [5, 1907.81],\n       [13, 1907.8],\n       [14, 1907.82],\n       [16, 1907.8],\n       [17, 1907.8],\n       [34, 1907.8],\n       [35, 1907.82]]), 582: array([[2, 1909.41],\n       [5, 1909.41],\n       [7, 1909.46],\n       [8, 1909.45],\n       [13, 1909.42],\n       [35, 1909.41]]), 583: array([[0, 1915.87],\n       [6, 1915.92],\n       [8, 1915.9],\n       [12, 1915.93],\n       [15, 1915.93],\n       [16, 1915.89],\n       [19, 1915.97],\n       [22, 1916],\n       [29, 1915.99],\n       [33, 1915.94],\n       [35, 1915.91]]), 584: array([[0, 1917.19],\n       [3, 1917.29],\n       [6, 1917.26],\n       [8, 1917.21],\n       [12, 1917.28],\n       [14, 1917.22],\n       [16, 1917.16],\n       [26, 1917.3],\n       [32, 1917.23],\n       [33, 1917.3],\n       [35, 1917.23]]), 585: array([[9, 1917.5],\n       [18, 1917.47],\n       [20, 1917.46],\n       [23, 1917.45],\n       [24, 1917.47],\n       [26, 1917.44],\n       [29, 1917.52]]), 586: array([[1, 1923.47],\n       [3, 1923.59],\n       [4, 1923.58],\n       [7, 1923.49],\n       [9, 1923.59],\n       [17, 1923.4],\n       [20, 1923.53],\n       [23, 1923.4],\n       [26, 1923.54],\n       [29, 1923.5],\n       [30, 1923.54],\n       [31, 1923.56],\n       [35, 1923.54]]), 587: array([[2, 1925.23],\n       [4, 1925.16],\n       [6, 1925.19],\n       [7, 1925.09],\n       [8, 1925.1],\n       [12, 1925.15],\n       [16, 1925.19],\n       [17, 1925.08],\n       [19, 1925.16],\n       [21, 1925.12],\n       [22, 1925.16],\n       [24, 1925.13],\n       [25, 1925.05],\n       [26, 1925.12],\n       [27, 1925.09],\n       [28, 1925.21],\n       [29, 1925.15],\n       [30, 1925.13],\n       [33, 1925.18],\n       [35, 1925.22]]), 588: array([[1, 1925.92],\n       [7, 1925.74],\n       [11, 1925.93],\n       [15, 1925.76],\n       [17, 1925.87],\n       [20, 1926.1],\n       [23, 1925.78],\n       [25, 1925.89],\n       [26, 1926.1],\n       [29, 1925.9],\n       [30, 1926.11],\n       [34, 1925.72]]), 589: array([[0, 1934.31],\n       [2, 1934.21],\n       [4, 1934.24],\n       [5, 1934.27],\n       [6, 1934.32],\n       [11, 1934.34],\n       [13, 1934.23],\n       [14, 1934.27],\n       [16, 1934.26],\n       [17, 1934.23],\n       [22, 1934.35],\n       [31, 1934.25],\n       [33, 1934.38],\n       [34, 1934.38],\n       [35, 1934.26]]), 591: array([[4, 1966.11],\n       [6, 1966.16],\n       [15, 1966.05],\n       [21, 1966.08],\n       [27, 1966.11],\n       [32, 1966.08],\n       [33, 1966.07],\n       [35, 1966.08]]), 592: array([[2, 1966.96],\n       [3, 1966.83],\n       [5, 1966.72],\n       [6, 1966.99],\n       [8, 1966.78],\n       [12, 1966.94],\n       [13, 1967],\n       [19, 1967.02],\n       [22, 1967.04],\n       [26, 1967.01],\n       [29, 1967.02],\n       [33, 1967.02],\n       [35, 1966.92]]), 593: array([[0, 1971.06],\n       [6, 1971.23],\n       [8, 1971.13],\n       [14, 1971.1],\n       [15, 1971.23],\n       [16, 1971.09],\n       [23, 1971.07],\n       [26, 1971.25],\n       [27, 1971.23],\n       [30, 1971.05],\n       [32, 1971.06],\n       [35, 1971.11]]), 594: array([[1, 1977.62],\n       [7, 1977.66],\n       [17, 1977.65],\n       [21, 1977.72],\n       [23, 1977.65],\n       [25, 1977.63],\n       [26, 1977.71],\n       [27, 1977.71],\n       [34, 1977.6]]), 595: array([[1, 1979.01],\n       [3, 1979.06],\n       [7, 1979.1],\n       [8, 1979.14],\n       [12, 1979.07],\n       [20, 1979.17],\n       [25, 1978.97],\n       [26, 1979.04],\n       [30, 1979.05],\n       [31, 1979.09]]), 596: array([[16, 1991.21],\n       [18, 1991.25],\n       [20, 1991.25],\n       [21, 1991.28],\n       [22, 1991.28],\n       [23, 1991.31],\n       [26, 1991.33],\n       [27, 1991.27],\n       [29, 1991.27],\n       [31, 1991.3],\n       [35, 1991.28]]), 597: array([[2, 1992.16],\n       [4, 1992.14],\n       [5, 1992.15],\n       [8, 1992.17],\n       [13, 1992.14],\n       [35, 1992.17]]), 598: array([[0, 1993.02],\n       [2, 1993.3],\n       [3, 1992.99],\n       [4, 1993.01],\n       [5, 1993.16],\n       [6, 1993.45],\n       [8, 1992.92],\n       [11, 1993.43],\n       [13, 1993.18],\n       [14, 1993.44],\n       [15, 1993.48],\n       [17, 1993.15],\n       [23, 1993.01],\n       [27, 1993.12],\n       [34, 1993.27],\n       [35, 1992.98]]), 599: array([[1, 1998.57],\n       [3, 1998.54],\n       [9, 1998.53],\n       [12, 1998.5],\n       [15, 1998.45],\n       [18, 1998.48],\n       [20, 1998.47],\n       [21, 1998.5],\n       [22, 1998.49],\n       [24, 1998.48],\n       [29, 1998.53],\n       [30, 1998.53],\n       [31, 1998.55],\n       [35, 1998.54]]), 601: array([[2, 2011.86],\n       [6, 2011.89],\n       [8, 2011.84],\n       [14, 2011.87],\n       [16, 2011.87],\n       [25, 2011.87],\n       [27, 2011.88],\n       [32, 2011.9],\n       [35, 2011.86]]), 602: array([[6, 2018.31],\n       [8, 2018.64],\n       [10, 2018.38],\n       [16, 2018.64],\n       [22, 2018.61],\n       [27, 2018.79]]), 603: array([[1, 2024.96],\n       [3, 2024.91],\n       [7, 2024.96],\n       [12, 2024.92],\n       [16, 2024.94],\n       [20, 2025.01],\n       [30, 2025],\n       [35, 2025.01]]), 604: array([[2, 2033.38],\n       [4, 2033.4],\n       [8, 2033.35],\n       [11, 2033.36],\n       [12, 2033.4],\n       [13, 2033.4],\n       [17, 2033.39],\n       [27, 2033.36],\n       [35, 2033.37]]), 605: array([[0, 2033.83],\n       [2, 2033.64],\n       [9, 2033.69],\n       [13, 2033.7],\n       [15, 2033.83],\n       [16, 2033.59],\n       [20, 2033.83],\n       [23, 2033.76],\n       [25, 2033.73],\n       [26, 2033.85],\n       [35, 2033.96]]), 606: array([[6, 2034.7],\n       [8, 2034.66],\n       [13, 2034.7],\n       [14, 2034.71],\n       [15, 2034.73],\n       [16, 2034.67],\n       [19, 2034.75],\n       [26, 2034.74],\n       [27, 2034.71],\n       [33, 2034.73],\n       [35, 2034.68]]), 607: array([[1, 2044.02],\n       [7, 2043.94],\n       [8, 2044.07],\n       [15, 2044.03],\n       [17, 2043.92],\n       [25, 2044.01],\n       [26, 2043.89],\n       [27, 2043.91],\n       [29, 2044.06],\n       [34, 2044.03]]), 608: array([[0, 2045.15],\n       [1, 2045.1],\n       [2, 2045.22],\n       [3, 2045.16],\n       [6, 2045.19],\n       [8, 2045.19],\n       [12, 2045.16],\n       [14, 2045.2],\n       [16, 2045.39],\n       [17, 2045.24],\n       [19, 2045.17],\n       [23, 2045.13],\n       [25, 2045.1],\n       [26, 2045.13],\n       [29, 2045.17],\n       [35, 2045.21]]), 609: array([[2, 2051.27],\n       [6, 2051.25],\n       [8, 2051.25],\n       [11, 2051.24],\n       [12, 2051.21],\n       [13, 2051.27],\n       [16, 2051.25],\n       [19, 2051.21],\n       [24, 2051.18],\n       [26, 2051.15],\n       [29, 2051.22],\n       [33, 2051.24],\n       [35, 2051.25]]), 610: array([[3, 2053.35],\n       [7, 2053.28],\n       [9, 2053.34],\n       [12, 2053.36],\n       [17, 2053.3],\n       [18, 2053.41],\n       [20, 2053.37],\n       [21, 2053.44],\n       [22, 2053.43],\n       [24, 2053.4],\n       [29, 2053.4]])}\u001b[0m\u001b[1;34m\n        \u001b[0mripple_result_tuple \u001b[1;34m= None\u001b[0m\u001b[1;34m\n        \u001b[0mrank_order_results.RL_ripple \u001b[1;34m= <pyphoplacecellanalysis.General.Pipeline.Stages.ComputationFunctions.MultiContextComputationFunctions.RankOrderComputations.RankOrderResult object at 0x000001C8A1DFCF70>\u001b[0m\u001b[1;34m\n        \u001b[0mrank_order_results.LR_ripple \u001b[1;34m= <pyphoplacecellanalysis.General.Pipeline.Stages.ComputationFunctions.MultiContextComputationFunctions.RankOrderComputations.RankOrderResult object at 0x000001C89EB9FE50>\u001b[0m\u001b[1;34m\n        \u001b[0mrank_order_results \u001b[1;34m= <pyphoplacecellanalysis.General.Pipeline.Stages.ComputationFunctions.MultiContextComputationFunctions.RankOrderComputations.RankOrderComputationsContainer object at 0x000001C89F1149A0>\u001b[0m\n",
      "\u001b[1;31mAttributeError\u001b[0m: 'NoneType' object has no attribute 'active_epochs'"
     ]
    }
   ],
   "source": [
    "curr_active_pipeline.reload_default_display_functions()\n",
    "\n",
    "## RankOrderRastersDebugger: \n",
    "_out_rank_order_event_raster_debugger = RankOrderRastersDebugger.init_rank_order_debugger(spikes_df, ripple_result_tuple.active_epochs, track_templates, rank_order_results.RL_ripple.selected_spikes_fragile_linear_neuron_IDX_dict, rank_order_results.LR_ripple.selected_spikes_fragile_linear_neuron_IDX_dict)"
   ]
  },
  {
   "cell_type": "markdown",
   "id": "aac746d8",
   "metadata": {},
   "source": [
    "## Connects TemplatesDebugger to RasterDebugger"
   ]
  },
  {
   "cell_type": "code",
   "execution_count": null,
   "id": "bdc4e5be",
   "metadata": {
    "notebookRunGroups": {
     "groupValue": ""
    }
   },
   "outputs": [],
   "source": [
    "from pyphocorehelpers.print_helpers import generate_html_string\n",
    "\n",
    "## Unpacks `rank_order_results`: \n",
    "spikes_df = curr_active_pipeline.sess.spikes_df\n",
    "global_replays = Epoch(deepcopy(curr_active_pipeline.filtered_sessions[global_epoch_name].replay))\n",
    "# global_replays.filename = Path('output/2023-11-16_phoEvents.mew.evt').resolve()\n",
    "# global_replays.to_neuroscope()\n",
    "\n",
    "rank_order_results: RankOrderComputationsContainer = curr_active_pipeline.global_computation_results.computed_data['RankOrder']\n",
    "ripple_result_tuple, laps_result_tuple = rank_order_results.ripple_most_likely_result_tuple, rank_order_results.laps_most_likely_result_tuple\n",
    "\n",
    "# Extract the real spearman-values/p-values:\n",
    "LR_long_relative_real_p_values = np.array([x[0].real_p_value for x in rank_order_results.LR_ripple.ranked_aclus_stats_dict.values()])\n",
    "LR_long_relative_real_values = np.array([x[0].real_value for x in rank_order_results.LR_ripple.ranked_aclus_stats_dict.values()])\n",
    "\n",
    "LR_short_relative_real_p_values = np.array([x[1].real_p_value for x in rank_order_results.LR_ripple.ranked_aclus_stats_dict.values()])\n",
    "LR_short_relative_real_values = np.array([x[1].real_value for x in rank_order_results.LR_ripple.ranked_aclus_stats_dict.values()])\n",
    "\n",
    "LR_template_epoch_actually_included_aclus = [v[1] for v in rank_order_results.LR_ripple.extra_info_dict.values()] # (template_epoch_neuron_IDXs, template_epoch_actually_included_aclus, epoch_neuron_IDX_ranks)\n",
    "LR_relative_num_cells = np.array([len(v[1]) for v in rank_order_results.LR_ripple.extra_info_dict.values()])\n",
    "\n",
    "RL_long_relative_real_p_values = np.array([x[0].real_p_value for x in rank_order_results.RL_ripple.ranked_aclus_stats_dict.values()])\n",
    "RL_long_relative_real_values = np.array([x[0].real_value for x in rank_order_results.RL_ripple.ranked_aclus_stats_dict.values()])\n",
    "\n",
    "RL_short_relative_real_p_values = np.array([x[1].real_p_value for x in rank_order_results.RL_ripple.ranked_aclus_stats_dict.values()])\n",
    "RL_short_relative_real_values = np.array([x[1].real_value for x in rank_order_results.RL_ripple.ranked_aclus_stats_dict.values()])\n",
    "\n",
    "RL_template_epoch_actually_included_aclus = [v[1] for v in rank_order_results.RL_ripple.extra_info_dict.values()] # (template_epoch_neuron_IDXs, template_epoch_actually_included_aclus, epoch_neuron_IDX_ranks)\n",
    "RL_relative_num_cells = np.array([len(v[1]) for v in rank_order_results.RL_ripple.extra_info_dict.values()])\n",
    "\n",
    "# LR_relative_num_cells = np.array([len(x) for x in rank_order_results.LR_ripple.selected_spikes_fragile_linear_neuron_IDX_dict.values()])\n",
    "# RL_relative_num_cells = np.array([len(x) for x in rank_order_results.RL_ripple.selected_spikes_fragile_linear_neuron_IDX_dict.values()])\n",
    "\n",
    "rank_order_results_debug_values = dict(zip(('long_LR', 'long_RL', 'short_LR', 'short_RL'), ([LR_long_relative_real_values, LR_long_relative_real_p_values], [RL_long_relative_real_values, RL_long_relative_real_p_values], [LR_short_relative_real_values, LR_short_relative_real_p_values], [RL_short_relative_real_values, RL_short_relative_real_p_values])))\n",
    "\n",
    "def debug_update_plot_titles(a_plotter, an_idx: int):\n",
    "\t\"\"\" Updates the titles of each of the four rasters with the appropriate spearman rho value.\n",
    "\tcaptures: rank_order_results_debug_values, \n",
    "\t\"\"\"\n",
    "\tfor a_decoder_name, a_root_plot in a_plotter.plots.root_plots.items():\n",
    "\t\ta_real_value = rank_order_results_debug_values[a_decoder_name][0][an_idx]\n",
    "\t\tprint(f'a_decoder_name: {a_decoder_name}, a_real_value: {a_real_value:0.3f}')\n",
    "\t\treal_value_str = generate_html_string(f'{a_real_value:0.3f}', color='white', bold=True)\n",
    "\t\t# j_str = generate_html_string('j', color='red', bold=True)\n",
    "\t\ttitle_str = generate_html_string(f'{a_decoder_name}: spearman: {real_value_str}')\n",
    "\t\ta_root_plot.setTitle(title=title_str)\n",
    "\n",
    "\n",
    "def debug_update_long_short_info_titles(a_plotter, an_idx: int):\n",
    "\t\"\"\" Updates the titles of each of the four rasters with the appropriate spearman rho value.\n",
    "\tcaptures: ripple_result_tuple, \n",
    "\t\"\"\"\n",
    "\thas_long_short_info_labels = (hasattr(a_plotter.ui, 'long_info_label') and hasattr(a_plotter.ui, 'short_info_label'))\n",
    "\tif has_long_short_info_labels:\n",
    "\t\tlong_best_dir_z_score_value_str = generate_html_string(f'{float(ripple_result_tuple.long_best_dir_z_score_values[an_idx]):0.3f}', color='black', bold=True)\n",
    "\t\tshort_best_dir_z_score_value_str = generate_html_string(f'{float(ripple_result_tuple.short_best_dir_z_score_values[an_idx]):0.3f}', color='black', bold=True)\n",
    "\t\t# j_str = generate_html_string('j', color='red', bold=True)\n",
    "\t\ta_plotter.ui.long_info_label.setText(generate_html_string(f'LONG best_dir_z_score_value: {long_best_dir_z_score_value_str}'))\n",
    "\t\ta_plotter.ui.short_info_label.setText(generate_html_string(f'SHORT best_dir_z_score_value: {short_best_dir_z_score_value_str}'))\n",
    "\telse:\n",
    "\t\tprint(f'WARN: debug_update_long_short_info_titles(...) but plotter does not have the `a_plotter.ui.long_info_label`')\n",
    "\t\t\n",
    "\n",
    "\n",
    "curr_active_pipeline.reload_default_display_functions()\n",
    "# epoch_active_aclus = np.array([9,  26,  31,  39,  40,  43,  47,  52,  53,  54,  60,  61,  65,  68,  72,  75,  77,  78,  81,  82,  84,  85,  90,  92,  93,  98, 102]) # some test indicies\n",
    "epoch_active_aclus = None\n",
    "_out_directional_template_pfs_debugger = curr_active_pipeline.display(DirectionalPlacefieldGlobalDisplayFunctions._display_directional_template_debugger, included_any_context_neuron_ids=epoch_active_aclus, figure_name=f'<Controlled by RankOrderRastersDebugger>')\n",
    "\n",
    "\n",
    "def debug_update_paired_directional_template_pfs_debugger(a_plotter, an_idx: int):\n",
    "\t\"\"\" captures: _out_directional_template_pfs_debugger, \"\"\"\n",
    "\tepoch_active_aclus = deepcopy(a_plotter.get_epoch_active_aclus())\n",
    "\t# update the displayed cells:\n",
    "\tdirectional_template_pfs_debugger_on_update_callback = _out_directional_template_pfs_debugger.get('ui').on_update_callback\n",
    "\tdirectional_template_pfs_debugger_on_update_callback(epoch_active_aclus)\n",
    "\n",
    "\n",
    "\n",
    "\n",
    "import io\n",
    "from contextlib import redirect_stdout # used by DocumentationFilePrinter to capture print output\n",
    "\n",
    "def a_debug_callback_fn(a_plotter, an_idx: int):\n",
    "\tglobal epoch_active_aclus, _out_directional_template_pfs_debugger\n",
    "\tout = io.StringIO()\n",
    "\t# _out.on_update_epoch_IDX(an_idx)\n",
    "\twith redirect_stdout(out):\n",
    "\t\tprint(f'active_epoch_IDX: {an_idx}')\n",
    "\t\tprint(f'')\n",
    "\t\tprint(f'LR_long_relative_real_values[an_idx]: {LR_long_relative_real_values[an_idx]}, LR_long_relative_real_p_values[an_idx]: {LR_long_relative_real_p_values[an_idx]}')\n",
    "\t\tprint(f'LR_short_relative_real_values[an_idx]: {LR_short_relative_real_values[an_idx]}, LR_short_relative_real_p_values[an_idx]: {LR_short_relative_real_p_values[an_idx]}')\n",
    "\t\tprint(f'LR_ripple.long_z_score[an_idx]: {rank_order_results.LR_ripple.long_z_score[an_idx]}, LR_ripple.short_z_score[an_idx]: {rank_order_results.LR_ripple.short_z_score[an_idx]}')\n",
    "\t\tprint(f'RL_long_relative_real_values[an_idx]: {RL_long_relative_real_values[an_idx]}, RL_long_relative_real_p_values[an_idx]: {RL_long_relative_real_p_values[an_idx]}')\n",
    "\t\tprint(f'RL_short_relative_real_values[an_idx]: {RL_short_relative_real_values[an_idx]}, RL_short_relative_real_p_values[an_idx]: {RL_short_relative_real_p_values[an_idx]}')\n",
    "\t\tprint(f'RL_ripple.long_z_score[an_idx]: {rank_order_results.RL_ripple.long_z_score[an_idx]}, RL_ripple.short_z_score[an_idx]: {rank_order_results.RL_ripple.short_z_score[an_idx]}')\n",
    "\t\tprint(f'LR_relative_num_cells[an_idx]: {LR_relative_num_cells[an_idx]}, RL_relative_num_cells[an_idx]: {RL_relative_num_cells[an_idx]}')\n",
    "\t\tprint(f'LR_template_epoch_actually_included_aclus[an_idx]: {LR_template_epoch_actually_included_aclus[an_idx]}, RL_template_epoch_actually_included_aclus[an_idx]: {RL_template_epoch_actually_included_aclus[an_idx]}')\n",
    "\t\t# display(LR_template_epoch_actually_included_aclus[an_idx])\n",
    "\t\t# display(RL_template_epoch_actually_included_aclus[an_idx])\n",
    "\t\tepoch_active_aclus = np.sort(union_of_arrays(LR_template_epoch_actually_included_aclus[an_idx], RL_template_epoch_actually_included_aclus[an_idx]))\n",
    "\t\tprint(f'epoch_active_aclus: {epoch_active_aclus}')\n",
    "\t\t\n",
    "\ta_plotter.write_to_log(str(out.getvalue()))\n",
    "\t# # update the displayed cells:\n",
    "\t# directional_template_pfs_debugger_on_update_callback = _out_directional_template_pfs_debugger.get('ui').on_update_callback\n",
    "\t# directional_template_pfs_debugger_on_update_callback(epoch_active_aclus)\n",
    "\t# _out_directional_template_pfs_debugger = curr_active_pipeline.display(DirectionalPlacefieldGlobalDisplayFunctions._display_directional_template_debugger, included_any_context_neuron_ids=epoch_active_aclus)\n",
    "\t\n",
    "\t# rank_order_results.ripple_most_likely_result_tuple.long_short_best_dir_z_score_diff_values[an_idx]\n",
    "\t# display(LR_template_epoch_actually_included_aclus[an_idx])\n",
    "\t# display(RL_template_epoch_actually_included_aclus[an_idx])\n",
    "\n",
    "\n",
    "_out_rank_order_event_raster_debugger.on_idx_changed_callback_function_dict['a_debug_callback'] = a_debug_callback_fn\n",
    "_out_rank_order_event_raster_debugger.on_idx_changed_callback_function_dict['debug_update_plot_titles_callback'] = debug_update_plot_titles\n",
    "_out_rank_order_event_raster_debugger.on_idx_changed_callback_function_dict['debug_update_paired_directional_template_pfs_debugger'] = debug_update_paired_directional_template_pfs_debugger\n",
    "_out_rank_order_event_raster_debugger.on_idx_changed_callback_function_dict['debug_update_long_short_info_titles'] = debug_update_long_short_info_titles\n"
   ]
  },
  {
   "cell_type": "code",
   "execution_count": null,
   "id": "6c2c9ff4",
   "metadata": {},
   "outputs": [],
   "source": [
    "matplotlib.matplotlib_fname() # '/home/halechr/repos/Spike3D/.venv/lib/python3.9/site-packages/matplotlib/mpl-data/matplotlibrc'"
   ]
  },
  {
   "cell_type": "code",
   "execution_count": null,
   "id": "bcba29ed",
   "metadata": {},
   "outputs": [],
   "source": []
  },
  {
   "cell_type": "code",
   "execution_count": null,
   "id": "828a2ccf",
   "metadata": {},
   "outputs": [],
   "source": []
  },
  {
   "cell_type": "code",
   "execution_count": null,
   "id": "36883563",
   "metadata": {},
   "outputs": [],
   "source": []
  },
  {
   "cell_type": "code",
   "execution_count": null,
   "id": "32db858d",
   "metadata": {
    "notebookRunGroups": {
     "groupValue": ""
    }
   },
   "outputs": [],
   "source": [
    "_out_rank_order_event_raster_debugger.on_update_epoch_IDX(298)"
   ]
  },
  {
   "cell_type": "code",
   "execution_count": null,
   "id": "0787873b",
   "metadata": {},
   "outputs": [],
   "source": [
    "ripple_result_tuple.directional_likelihoods_tuple[0][248]"
   ]
  },
  {
   "cell_type": "code",
   "execution_count": null,
   "id": "32cef07a",
   "metadata": {},
   "outputs": [],
   "source": [
    "from pyphoplacecellanalysis.GUI.PyQtPlot.DockingWidgets.DynamicDockDisplayAreaContent import CustomDockDisplayConfig\n",
    "\n",
    "root_dockAreaWindow = _out_rank_order_event_raster_debugger.ui.root_dockAreaWindow"
   ]
  },
  {
   "cell_type": "code",
   "execution_count": null,
   "id": "3e9ab10c",
   "metadata": {},
   "outputs": [],
   "source": [
    "long_LR_dock = root_dockAreaWindow.find_display_dock('long_LR')\n",
    "short_LR_dock = root_dockAreaWindow.find_display_dock('short_LR')\n",
    "\n",
    "\n",
    "long_short_info_layout = pg.LayoutWidget()\n",
    "\n",
    "long_info_label = long_short_info_layout.addLabel(text='LONG', row=0, col=0)\n",
    "short_info_label = long_short_info_layout.addLabel(text='SHORT', row=0, col=1)\n",
    "\n",
    "# ['left', long_LR_dock]\n",
    "# \n",
    "_out_rank_order_event_raster_debugger.plots.dock_widgets['left_Long_best_result_dock'] = root_dockAreaWindow.add_display_dock(identifier='left_Long_best_result_dock', widget=long_short_info_layout, dockSize=(600,60), dockAddLocationOpts=['top'], display_config=CustomDockDisplayConfig(showCloseButton=False, corner_radius='0px'))\n",
    "_out_rank_order_event_raster_debugger.plots.dock_widgets['left_Long_best_result_dock'][1].hideTitleBar() # hide the dock title bar\n",
    "\n",
    "# Add the widgets to the .ui:\n",
    "_out_rank_order_event_raster_debugger.ui.long_short_info_layout = long_short_info_layout\n",
    "_out_rank_order_event_raster_debugger.ui.long_info_label = long_info_label\n",
    "_out_rank_order_event_raster_debugger.ui.short_info_label = short_info_label"
   ]
  },
  {
   "cell_type": "code",
   "execution_count": null,
   "id": "47a7a00a",
   "metadata": {},
   "outputs": [],
   "source": [
    "\n"
   ]
  },
  {
   "cell_type": "code",
   "execution_count": null,
   "id": "a839f9e3",
   "metadata": {},
   "outputs": [],
   "source": [
    "_out_rank_order_event_raster_debugger.ui.ctrls_widget.setValue(298)"
   ]
  },
  {
   "cell_type": "code",
   "execution_count": null,
   "id": "2a91522b",
   "metadata": {},
   "outputs": [],
   "source": [
    "\n",
    "unit_sort_orders_dict = dict(zip(['long_LR', 'long_RL', 'short_LR', 'short_RL'], (long_LR, long_RL, short_LR, short_RL)))\n",
    "display('unit_sort_orders_dict')\n",
    "display(unit_sort_orders_dict)\n",
    "unit_unordered_neuron_IDs_dict = dict(zip(['long_LR', 'long_RL', 'short_LR', 'short_RL'], (track_templates.long_LR_decoder.neuron_IDs, track_templates.long_RL_decoder.neuron_IDs, track_templates.short_LR_decoder.neuron_IDs, track_templates.short_RL_decoder.neuron_IDs)))\n",
    "unit_ordered_neuron_IDs_dict = {a_decoder_name:neuron_IDs[unit_sort_orders_dict[a_decoder_name]] for a_decoder_name, neuron_IDs in unit_unordered_neuron_IDs_dict.items()}\n",
    "unit_ordered_neuron_IDs_dict\n",
    "\n",
    "display(f'unit_unordered_neuron_IDs_dict')\n",
    "display(unit_unordered_neuron_IDs_dict)\n",
    "# unit_unordered_neuron_IDs_dict:\n",
    "# {'long_RL': array([  9,  10,  11,  15,  16,  18,  24,  25,  26,  31,  39,  40,  43,  44,  47,  48,  51,  52,  53,  54,  56,  60,  61,  65,  66,  68,  70,  72,  75,  77,  78,  79,  80,  81,  82,  84,  85,  87,  89,  90,  92,  93,  98, 101, 102, 104]),\n",
    "#  'long_LR': array([  9,  10,  11,  15,  16,  18,  24,  25,  26,  31,  39,  40,  43,  44,  47,  48,  51,  52,  53,  54,  56,  60,  61,  65,  66,  68,  70,  72,  75,  77,  78,  79,  80,  81,  82,  84,  85,  87,  89,  90,  92,  93,  98, 101, 102, 104]),\n",
    "#  'short_RL': array([  9,  10,  11,  15,  16,  18,  24,  25,  26,  31,  39,  40,  43,  44,  47,  48,  51,  52,  53,  54,  56,  60,  61,  65,  66,  68,  70,  72,  75,  77,  78,  79,  80,  81,  82,  84,  85,  87,  89,  90,  92,  93,  98, 101, 102, 104]),\n",
    "#  'short_LR': array([  9,  10,  11,  15,  16,  18,  24,  25,  26,  31,  39,  40,  43,  44,  47,  48,  51,  52,  53,  54,  56,  60,  61,  65,  66,  68,  70,  72,  75,  77,  78,  79,  80,  81,  82,  84,  85,  87,  89,  90,  92,  93,  98, 101, 102, 104])}\n",
    "\n",
    "# unit_ordered_neuron_IDs_dict:\n",
    "# {'long_RL': np.array([ 81,  70,  60,  11, 101,  85,  52,  10, 102,  77,  56,  82,  31,  44,  39,  47,  16,  78,  61,  43,  24,  92,  87,  80,  75,  84,   9,  54,  72, 104,  89,  40,  51,  79,  48,  25,  90,  15,  18,  65,  26,  68,  53,  93,  98,  66]),\n",
    "#  'long_LR': np.array([ 53,  52,  54,  18,  84,  65,  79,  16, 104,  60,  87,  85,  39,  25,  51,  31,  11,  92,  56,  75,  44,  93,  89,  68,  77,  98,   9,  47,  82, 102,  80,  40,  78,  43,  66,  15,  90,  10,  24,  72,  26,  61,  48,  81, 101,  70]),\n",
    "#  'short_RL': np.array([ 68,  75,  54,  10, 104,  90,  44,  15,  93,  79,  56,  84,  78,  31,  16,  40,  25,  81,  70,  66,  24,  98,  80,  77,  60,  39,   9,  82,  85, 101,  87,  26,  43,  65,  48,  52,  92,  11,  51,  72,  18,  53,  47,  89, 102,  61]),\n",
    "#  'short_LR': np.array([ 53,  51,  16,  15,  81,  87,  54,  11, 104,  65,  82,  84,  31,  26,  24,  40,  61, 101,  80,  77,  44,  90,  79,  70,  75,  93,  10,  52,  85, 102,  89,  47,  78,  43,  72,  48,  92,   9,  18,  66,  25,  60,  56,  68,  98,  39])}\n",
    "\n",
    "## TemplateDebugger way of getting neuron_ids:\n",
    "rank_order_results: RankOrderComputationsContainer = curr_active_pipeline.global_computation_results.computed_data['RankOrder']\n",
    "minimum_inclusion_fr_Hz: float = rank_order_results.minimum_inclusion_fr_Hz\n",
    "track_templates: TrackTemplates = directional_laps_results.get_templates(minimum_inclusion_fr_Hz=minimum_inclusion_fr_Hz) # non-shared-only -- !! Is minimum_inclusion_fr_Hz=None the issue/difference?\n",
    "decoders_dict = track_templates.get_decoders_dict() # decoders_dict = {'long_LR': track_templates.long_LR_decoder, 'long_RL': track_templates.long_RL_decoder, 'short_LR': track_templates.short_LR_decoder, 'short_RL': track_templates.short_RL_decoder, }\n",
    "\n",
    "# INDIVIDUAL SORTING:\n",
    "sorted_neuron_IDs_lists, sort_helper_neuron_id_to_neuron_colors_dicts, sort_helper_neuron_id_to_sort_IDX_dicts = paired_separately_sort_neurons(decoders_dict, None)\n",
    "\n",
    "display(sorted_neuron_IDs_lists)\n",
    "\n",
    "# [array([ 25,  47,  56,  70,  89,  92, 101,  15,  43,  84,  87,  10,  51,  53,  44,  48,  79,  81,  72,  98,   9,  93,  82,  31,  11,  66,  90,  78,  16, 104,  80,  24,  75,  40,  60,  85,  52, 102,  65,  18,  26,  39,  54,  61,  68,  77]),\n",
    "#  array([ 25,  56,  70,  89,  47,  15,  87,  54,  84,  43,  51,  92,  44,  72,  79,  48,  24,  39,  53,  80,  98,  31,  75,  11,  66,  81,  82,  90, 104,   9,  93,  10,  78, 101,  16,  18,  26,  40,  52,  60,  61,  65,  68,  77,  85, 102]),\n",
    "#  array([ 11,  47,  87,  25,  56,  70,  92,  15,  89,  43, 104,  10,  84,  81,  24,  44,  48,  79,   9,  72,  93,  31,  98,  66,  90,  82,  16,  51,  61,  75,  53,  80,  65,  78,  40,  60,  85, 102,  39,  52, 101,  26,  68,  18,  54,  77]),\n",
    "#  array([ 70,  25,  47,  51,  56,  87,  15,  92,  68,  44,  48,  79,  24,  80,  53,  39,  89,   9,  93,  98,  66,  11,  81,  82, 104,  90,  61,  65,  84,  31,  75,  10,  72, 101,  40,  43,  60,  16,  26,  52,  54,  77,  78,  85, 102,  18])]\n",
    "\n",
    "required_sort_indicies = [find_desired_sort_indicies(neuron_ids, sorted_neuron_IDs)[0] for neuron_ids, sorted_neuron_IDs in zip(list(unit_unordered_neuron_IDs_dict.values()), sorted_neuron_IDs_lists)]   \n",
    "display(required_sort_indicies)\n",
    "# [array([ 7, 14, 20, 26, 38, 40, 43,  3, 12, 35, 37,  1, 16, 18, 13, 15, 31, 33, 27, 42,  0, 41, 34,  9,  2, 24, 39, 30,  4, 45, 32,  6, 28, 11, 21, 36, 17, 44, 23,  5,  8, 10, 19, 22, 25, 29]),\n",
    "#  array([ 7, 20, 26, 38, 14,  3, 37, 19, 35, 12, 16, 40, 13, 27, 31, 15,  6, 10, 18, 32, 42,  9, 28,  2, 24, 33, 34, 39, 45,  0, 41,  1, 30, 43,  4,  5,  8, 11, 17, 21, 22, 23, 25, 29, 36, 44]),\n",
    "#  array([ 2, 14, 37,  7, 20, 26, 40,  3, 38, 12, 45,  1, 35, 33,  6, 13, 15, 31,  0, 27, 41,  9, 42, 24, 39, 34,  4, 16, 22, 28, 18, 32, 23, 30, 11, 21, 36, 44, 10, 17, 43,  8, 25,  5, 19, 29]),\n",
    "#  array([26,  7, 14, 16, 20, 37,  3, 40, 25, 13, 15, 31,  6, 32, 18, 10, 38,  0, 41, 42, 24,  2, 33, 34, 45, 39, 22, 23, 35,  9, 28,  1, 27, 43, 11, 12, 21,  4,  8, 17, 19, 29, 30, 36, 44,  5])]\n"
   ]
  },
  {
   "cell_type": "code",
   "execution_count": null,
   "id": "7e66edd1",
   "metadata": {},
   "outputs": [],
   "source": [
    "# a_sorted_neuron_ids, unit_sort_orders_dict=an_unit_sort_orders, unit_colors_list=a_decoder_color_list\n",
    "\n",
    "\n",
    "# Get only the spikes for the shared_aclus:\n",
    "a_spikes_df = deepcopy(spikes_df).spikes.sliced_by_neuron_id(LR_neuron_ids)\n",
    "a_spikes_df, neuron_id_to_new_IDX_map = a_spikes_df.spikes.rebuild_fragile_linear_neuron_IDXs() # rebuild the fragile indicies afterwards\n",
    "\n",
    "rasters_display_outputs = plot_raster_plot(a_spikes_df, LR_neuron_ids, unit_sort_order=np.arange(len(LR_neuron_ids)), scatter_app_name=f'pho_directional_laps_rasters', defer_show=False, active_context=None)\n"
   ]
  },
  {
   "cell_type": "code",
   "execution_count": null,
   "id": "fec97c43",
   "metadata": {},
   "outputs": [],
   "source": [
    "# Passing no colors at all, passing a different `unit_sort_order` produces a different location for the color rows (the color stays with the spikes), as desired but perhaps not expected.\n",
    "rasters_display_outputs2 = plot_raster_plot(a_spikes_df, LR_neuron_ids, unit_sort_order=np.array(list(reversed(np.arange(len(LR_neuron_ids))))), scatter_app_name=f'pho_directional_laps_rasters2', defer_show=False, active_context=None)\n"
   ]
  },
  {
   "cell_type": "markdown",
   "id": "82e909cd",
   "metadata": {},
   "source": [
    "# 2023-12-01 - Working manual 4 raster plots??"
   ]
  },
  {
   "cell_type": "code",
   "execution_count": null,
   "id": "7d7d158e",
   "metadata": {},
   "outputs": [],
   "source": [
    "active_neuron_ids = np.array([  9,  10,  11,  15,  16,  18,  24,  25,  26,  31,  39,  40,  43,  44,  47,  48,  51,  52,  53,  54,  56,  60,  61,  65,  66,  68,  70,  72,  75,  77,  78,  79,  80,  81,  82,  84,  85,  87,  89,  90,  92,  93,  98, 101, 102, 104])\n",
    "active_sort_idxs = np.arange(len(active_neuron_ids))\n",
    "# Get only the spikes for the shared_aclus:\n",
    "a_spikes_df = deepcopy(spikes_df).spikes.sliced_by_neuron_id(active_neuron_ids)\n",
    "a_spikes_df, neuron_id_to_new_IDX_map = a_spikes_df.spikes.rebuild_fragile_linear_neuron_IDXs() # rebuild the fragile indicies afterwards\n",
    "\n",
    "rasters_display_outputs_unsorted = plot_raster_plot(a_spikes_df, active_neuron_ids, unit_sort_order=active_sort_idxs, scatter_app_name=f'pho_directional_laps_rasters_unsorted', defer_show=False, active_context=None)"
   ]
  },
  {
   "cell_type": "code",
   "execution_count": null,
   "id": "06a51a2a",
   "metadata": {
    "notebookRunGroups": {
     "groupValue": "3"
    }
   },
   "outputs": [],
   "source": [
    "from attrs import asdict\n",
    "from qtpy import QtGui # for QColor\n",
    "from qtpy.QtGui import QColor, QBrush, QPen\n",
    "from pyphocorehelpers.gui.Qt.color_helpers import ColorFormatConverter\n",
    "from pyphoplacecellanalysis.General.Mixins.DataSeriesColorHelpers import DataSeriesColorHelpers\n",
    "from pyphoplacecellanalysis.General.Pipeline.Stages.DisplayFunctions.SpikeRasters import DataSeriesToSpatial, RasterPlotSetupTuple, _build_scatter_plotting_managers, _build_units_y_grid, _plot_empty_raster_plot_frame\n",
    "from pyphoplacecellanalysis.General.Pipeline.Stages.DisplayFunctions.SpikeRasters import new_plot_raster_plot, NewSimpleRaster\n",
    "\n",
    "active_neuron_ids = np.array([  9,  10,  11,  15,  16,  18,  24,  25,  26,  31,  39,  40,  43,  44,  47,  48,  51,  52,  53,  54,  56,  60,  61,  65,  66,  68,  70,  72,  75,  77,  78,  79,  80,  81,  82,  84,  85,  87,  89,  90,  92,  93,  98, 101, 102, 104])\n",
    "active_sort_idxs = np.array([18, 17, 19,  5, 35, 23, 31,  4, 45, 21, 37, 36, 10,  7, 16,  9,  2, 40, 20, 28, 13, 41, 38, 25, 29, 42,  0, 14, 34, 44, 32, 11, 30, 12, 24,  3, 39,  1,  6, 27,  8, 22, 15, 33, 43, 26])\n",
    "active_sorted_neuron_ids = active_neuron_ids[active_sort_idxs] # [ 53  52  54  18  84  65  79  16 104  60  87  85  39  25  51  31  11  92  56  75  44  93  89  68  77  98   9  47  82 102  80  40  78  43  66  15  90  10  24  72  26  61  48  81 101  70]\n",
    "print(f\"active_sorted_neuron_ids: {active_sorted_neuron_ids}\")\n",
    "\n",
    "## Do this just once:\n",
    "global_neuron_qcolors_list = DataSeriesColorHelpers._build_cell_qcolor_list(np.arange(len(active_neuron_ids)), mode=UnitColoringMode.PRESERVE_FRAGILE_LINEAR_NEURON_IDXS, provided_cell_colors=None)\n",
    "global_neuron_colors_dict = dict(zip(active_neuron_ids, global_neuron_qcolors_list))\n",
    "\n",
    "# # test_raster = NewRaster.init_from_neuron_ids(active_neuron_ids)\n",
    "# test_sorted_raster = NewRaster.init_from_neuron_ids(active_sorted_neuron_ids, neuron_colors=global_neuron_colors_dict)\n",
    "# # test_sorted_raster\n",
    "\n",
    "# a_spikes_df = test_sorted_raster.update_spikes_df_visualization_columns(spikes_df=spikes_df)\n",
    "# display(a_spikes_df)\n",
    "# all_spots, all_scatterplot_tooltips_kwargs = test_sorted_raster.build_spikes_all_spots_from_df(spikes_df=a_spikes_df, should_return_data_tooltips_kwargs=True, generate_debug_tuples=False)\n",
    "# rasters_display_outputs3 = new_plot_raster_plot(spikes_df, active_neuron_ids, unit_sort_order=active_sort_idxs, unit_colors_list=global_neuron_colors_dict, scatter_plot_kwargs=None, scatter_app_name='pho_directional_laps_rasters3', defer_show=False, active_context=None)"
   ]
  },
  {
   "cell_type": "code",
   "execution_count": null,
   "id": "6bf647d0",
   "metadata": {
    "notebookRunGroups": {
     "groupValue": "3"
    }
   },
   "outputs": [],
   "source": [
    "active_neuron_ids = np.array([  9,  10,  11,  15,  16,  18,  24,  25,  26,  31,  39,  40,  43,  44,  47,  48,  51,  52,  53,  54,  56,  60,  61,  65,  66,  68,  70,  72,  75,  77,  78,  79,  80,  81,  82,  84,  85,  87,  89,  90,  92,  93,  98, 101, 102, 104])\n",
    "active_sort_idxs = np.array([18, 17, 19,  5, 35, 23, 31,  4, 45, 21, 37, 36, 10,  7, 16,  9,  2, 40, 20, 28, 13, 41, 38, 25, 29, 42,  0, 14, 34, 44, 32, 11, 30, 12, 24,  3, 39,  1,  6, 27,  8, 22, 15, 33, 43, 26])\n",
    "active_sorted_neuron_ids = active_neuron_ids[active_sort_idxs] # [ 53  52  54  18  84  65  79  16 104  60  87  85  39  25  51  31  11  92  56  75  44  93  89  68  77  98   9  47  82 102  80  40  78  43  66  15  90  10  24  72  26  61  48  81 101  70]\n",
    "print(f\"active_sorted_neuron_ids: {active_sorted_neuron_ids}\")\n",
    "# Get only the spikes for the shared_aclus:\n",
    "# a_spikes_df = deepcopy(spikes_df).spikes.sliced_by_neuron_id(active_neuron_ids)\n",
    "# a_spikes_df, neuron_id_to_new_IDX_map = a_spikes_df.spikes.rebuild_fragile_linear_neuron_IDXs() # rebuild the fragile indicies afterwards\n",
    "# a_spikes_df = deepcopy(spikes_df).spikes.sliced_by_neuron_id(active_neuron_ids)\n",
    "\n",
    "rasters_display_outputs3 = new_plot_raster_plot(spikes_df, active_neuron_ids, unit_sort_order=active_sort_idxs, unit_colors_list=global_neuron_colors_dict, scatter_plot_kwargs=None, scatter_app_name='pho_directional_laps_rasters3', defer_show=False, active_context=None)\n",
    "# rasters_display_outputs3 = plot_raster_plot(a_spikes_df, active_neuron_ids, unit_sort_order=active_sort_idxs, scatter_app_name=f'pho_directional_laps_rasters3', defer_show=False, active_context=None)"
   ]
  },
  {
   "cell_type": "code",
   "execution_count": null,
   "id": "f9e32625",
   "metadata": {},
   "outputs": [],
   "source": [
    "# rasters_display_outputs3.plots_data\n",
    "rasters_display_outputs3.plots.debug_header_label.setText('TEST LABEL')"
   ]
  },
  {
   "cell_type": "code",
   "execution_count": null,
   "id": "558cce3f",
   "metadata": {
    "notebookRunGroups": {
     "groupValue": "3"
    }
   },
   "outputs": [],
   "source": [
    "active_neuron_ids = np.array([  9,  10,  11,  15,  16,  18,  24,  25,  26,  31,  39,  40,  43,  44,  47,  48,  51,  52,  53,  54,  56,  60,  61,  65,  66,  68,  70,  72,  75,  77,  78,  79,  80,  81,  82,  84,  85,  87,  89,  90,  92,  93,  98, 101, 102, 104])\n",
    "active_sort_idxs = np.array([33, 26, 21,  2, 43, 36, 17,  1, 44, 29, 20, 34,  9, 13, 10, 14,  4, 30, 22, 12,  6, 40, 37, 32, 28, 35,  0, 19, 27, 45, 38, 11, 16, 31, 15,  7, 39,  3,  5, 23,  8, 25, 18, 41, 42, 24])\n",
    "# Get only the spikes for the shared_aclus:\n",
    "# a_spikes_df = deepcopy(spikes_df).spikes.sliced_by_neuron_id(active_neuron_ids)\n",
    "# a_spikes_df, neuron_id_to_new_IDX_map = a_spikes_df.spikes.rebuild_fragile_linear_neuron_IDXs() # rebuild the fragile indicies afterwards\n",
    "\n",
    "# rasters_display_outputs4 = plot_raster_plot(a_spikes_df, active_neuron_ids, unit_sort_order=active_sort_idxs, scatter_app_name=f'pho_directional_laps_rasters4', defer_show=False, active_context=None)\n",
    "rasters_display_outputs4 = new_plot_raster_plot(spikes_df, active_neuron_ids, unit_sort_order=active_sort_idxs, unit_colors_list=global_neuron_colors_dict, scatter_plot_kwargs=None, scatter_app_name='pho_directional_laps_rasters4', defer_show=False, active_context=None)\n"
   ]
  },
  {
   "cell_type": "code",
   "execution_count": null,
   "id": "f5394427",
   "metadata": {
    "notebookRunGroups": {
     "groupValue": "3"
    }
   },
   "outputs": [],
   "source": [
    "active_neuron_ids = np.array([  9,  10,  11,  15,  16,  18,  24,  25,  26,  31,  39,  40,  43,  44,  47,  48,  51,  52,  53,  54,  56,  60,  61,  65,  66,  68,  70,  72,  75,  77,  78,  79,  80,  81,  82,  84,  85,  87,  89,  90,  92,  93,  98, 101, 102, 104])\n",
    "active_sort_idxs = np.array([18, 16,  4,  3, 33, 37, 19,  2, 45, 23, 34, 35,  9,  8,  6, 11, 22, 43, 32, 29, 13, 39, 31, 26, 28, 41,  1, 17, 36, 44, 38, 14, 30, 12, 27, 15, 40,  0,  5, 24,  7, 21, 20, 25, 42, 10])\n",
    "# Get only the spikes for the shared_aclus:\n",
    "# a_spikes_df = deepcopy(spikes_df).spikes.sliced_by_neuron_id(active_neuron_ids)\n",
    "# a_spikes_df, neuron_id_to_new_IDX_map = a_spikes_df.spikes.rebuild_fragile_linear_neuron_IDXs() # rebuild the fragile indicies afterwards\n",
    "\n",
    "# rasters_display_outputs5 = plot_raster_plot(a_spikes_df, active_neuron_ids, unit_sort_order=active_sort_idxs, scatter_app_name=f'pho_directional_laps_rasters5', defer_show=False, active_context=None)\n",
    "rasters_display_outputs5 = new_plot_raster_plot(spikes_df, active_neuron_ids, unit_sort_order=active_sort_idxs, unit_colors_list=global_neuron_colors_dict, scatter_plot_kwargs=None, scatter_app_name='pho_directional_laps_rasters5', defer_show=False, active_context=None)"
   ]
  },
  {
   "cell_type": "code",
   "execution_count": null,
   "id": "1271b2a0",
   "metadata": {
    "notebookRunGroups": {
     "groupValue": "3"
    }
   },
   "outputs": [],
   "source": [
    "active_neuron_ids = np.array([  9,  10,  11,  15,  16,  18,  24,  25,  26,  31,  39,  40,  43,  44,  47,  48,  51,  52,  53,  54,  56,  60,  61,  65,  66,  68,  70,  72,  75,  77,  78,  79,  80,  81,  82,  84,  85,  87,  89,  90,  92,  93,  98, 101, 102, 104])\n",
    "active_sort_idxs = np.array([25, 28, 19,  1, 45, 39, 13,  3, 41, 31, 20, 35, 30,  9,  4, 11,  7, 33, 26, 24,  6, 42, 32, 29, 21, 10,  0, 34, 36, 43, 37,  8, 12, 23, 15, 17, 40,  2, 16, 27,  5, 18, 14, 38, 44, 22])\n",
    "# Get only the spikes for the shared_aclus:\n",
    "# a_spikes_df = deepcopy(spikes_df).spikes.sliced_by_neuron_id(active_neuron_ids)\n",
    "# a_spikes_df, neuron_id_to_new_IDX_map = a_spikes_df.spikes.rebuild_fragile_linear_neuron_IDXs() # rebuild the fragile indicies afterwards\n",
    "\n",
    "# rasters_display_outputs6 = plot_raster_plot(a_spikes_df, active_neuron_ids, unit_sort_order=active_sort_idxs, scatter_app_name=f'pho_directional_laps_rasters6', defer_show=False, active_context=None)\n",
    "rasters_display_outputs6 = new_plot_raster_plot(spikes_df, active_neuron_ids, unit_sort_order=active_sort_idxs, unit_colors_list=global_neuron_colors_dict, scatter_plot_kwargs=None, scatter_app_name='pho_directional_laps_rasters6', defer_show=False, active_context=None)"
   ]
  },
  {
   "cell_type": "code",
   "execution_count": null,
   "id": "59ecdc2d",
   "metadata": {
    "notebookRunGroups": {
     "groupValue": "3"
    }
   },
   "outputs": [],
   "source": [
    "main_plot3 = rasters_display_outputs3[2]['root_plot']\n",
    "main_plot4 = rasters_display_outputs4[2]['root_plot']\n",
    "main_plot5 = rasters_display_outputs5[2]['root_plot']\n",
    "main_plot6 = rasters_display_outputs6[2]['root_plot']\n",
    "\n",
    "# Link em' up my friend:\n",
    "main_plot4.setXLink(main_plot3)\n",
    "main_plot5.setXLink(main_plot3)\n",
    "main_plot6.setXLink(main_plot3)\n",
    "\n",
    "# y-links, yum:\n",
    "main_plot4.setYLink(main_plot3)\n",
    "main_plot5.setYLink(main_plot3)\n",
    "main_plot6.setYLink(main_plot3)\n",
    "\n"
   ]
  },
  {
   "cell_type": "code",
   "execution_count": null,
   "id": "c04326fe",
   "metadata": {},
   "outputs": [],
   "source": [
    "# if index > 0 and index < len(data1):\n",
    "debug_footer_label.setText(\"test\")\n",
    "# <span style='font-size: 12pt'>x=%0.1f,   <span style='color: red'>y1=%0.1f</span>,   <span style='color: green'>y2=%0.1f</span>\" % (mousePoint.x(), data1[index], data2[index]))\n",
    "            \n"
   ]
  },
  {
   "cell_type": "code",
   "execution_count": null,
   "id": "e9c42f1c",
   "metadata": {},
   "outputs": [],
   "source": [
    "rasters_display_outputs_unsorted.plots_data.raster_plot_manager.unit_sort_manager.y_fragile_linear_neuron_IDX_map\n",
    "# rasters_display_outputs_unsorted.plots_data.raster_plot_manager.unit_sort_manager.params.config_items\n",
    "# rasters_display_outputs_unsorted.plots_data.raster_plot_manager.config_fragile_linear_neuron_IDX_map"
   ]
  },
  {
   "cell_type": "code",
   "execution_count": null,
   "id": "7700bdb9",
   "metadata": {},
   "outputs": [],
   "source": [
    "rasters_display_outputs3.plots_data.raster_plot_manager.unit_sort_manager.y_fragile_linear_neuron_IDX_map\n",
    "# rasters_display_outputs3.plots_data.raster_plot_manager.unit_sort_manager.params.config_items\n",
    "# rasters_display_outputs3.plots_data.raster_plot_manager.config_fragile_linear_neuron_IDX_map"
   ]
  },
  {
   "cell_type": "code",
   "execution_count": null,
   "id": "15364325",
   "metadata": {},
   "outputs": [],
   "source": [
    "from pyphoplacecellanalysis.GUI.PyQtPlot.Widgets.GraphicsObjects.CustomLinearRegionItem import CustomLinearRegionItem\n",
    "\n",
    "kwargs = {}\n",
    "\n",
    "neuron_label = f\"{9}\"\n",
    "epoch_linear_region:CustomLinearRegionItem = CustomLinearRegionItem(**(dict(pen=pg.mkPen('#fff'), brush=pg.mkBrush('#f004'), hoverBrush=pg.mkBrush('#fff4'), hoverPen=pg.mkPen('#f00'))|kwargs), movable=False) #, clipItem=plots['difference']  bound the LinearRegionItem to the plotted data\n",
    "epoch_linear_region.setObjectName(f'neuron_region[{neuron_label}]')\n",
    "epoch_linear_region.setZValue(-3) # put it in the back\n",
    "epoch_region_label:pg.InfLineLabel = pg.InfLineLabel(epoch_linear_region.lines[0], f\"{neuron_label}\", position=0.95, rotateAxis=(1,0), anchor=(1, 1)) # add the label for the short epoch\n",
    "# Add the LinearRegionItem to the ViewBox, but tell the ViewBox to exclude this item when doing auto-range calculations.\n",
    "a_main_plot.addItem(epoch_linear_region, ignoreBounds=True)\n",
    "# Set the position:\n",
    "\n"
   ]
  },
  {
   "cell_type": "code",
   "execution_count": null,
   "id": "380ce211",
   "metadata": {},
   "outputs": [],
   "source": [
    "\n",
    "lower_uppder_y_pairs = [(lower_y, upper_y) for lower_y, upper_y in zip(a_raster_plot_manager.unit_sort_manager._series_identity_lower_y_values, a_raster_plot_manager.unit_sort_manager._series_identity_upper_y_values)]\n",
    "lower_uppder_y_pairs\n"
   ]
  },
  {
   "cell_type": "code",
   "execution_count": null,
   "id": "02de5ef6",
   "metadata": {},
   "outputs": [],
   "source": [
    "\n",
    "epoch_linear_region.setRegion([t_start, t_stop]) # adjust scroll control"
   ]
  },
  {
   "cell_type": "code",
   "execution_count": null,
   "id": "347ab55b",
   "metadata": {},
   "outputs": [],
   "source": [
    "## One issue seems to be just ascending vs. descending expectation order!\n",
    "sorted_neuron_ids"
   ]
  },
  {
   "cell_type": "code",
   "execution_count": null,
   "id": "6347c1cc",
   "metadata": {},
   "outputs": [],
   "source": [
    "curr_neuron_ids_list = a_raster_plot_manager.unit_sort_manager.find_cell_ids_from_neuron_IDXs(a_raster_plot_manager.unit_sort_manager.fragile_linear_neuron_IDXs)\n",
    "curr_neuron_ids_list"
   ]
  },
  {
   "cell_type": "code",
   "execution_count": null,
   "id": "55b48f2a",
   "metadata": {},
   "outputs": [],
   "source": [
    "sorted_neuron_ids = a_raster_plot_manager.unit_sort_manager.neuron_ids[a_raster_plot_manager.unit_sort_manager.unit_sort_order] ## This finally matches the order of the labels\n",
    "sorted_neuron_ids\n"
   ]
  },
  {
   "cell_type": "code",
   "execution_count": null,
   "id": "d9416c94",
   "metadata": {},
   "outputs": [],
   "source": [
    "# `y_fragile_linear_neuron_IDX_map` gives map for fragile_linear_neuron_IDXs, not neuron_IDs\n",
    "sorted_y_fragile_linear_neuron_IDX_map = dict(sorted(deepcopy(a_raster_plot_manager.unit_sort_manager.y_fragile_linear_neuron_IDX_map).items(), key=lambda item: item[1]))\n",
    "print(sorted_y_fragile_linear_neuron_IDX_map) # {26: 0.5, 37: 1.5, 16: 2.5, 35: 3.5, 7: 4.5, 3: 5.5, 38: 6.5, 13: 7.5, 40: 8.5, 15: 9.5, 12: 10.5, 31: 11.5, 33: 12.5, 20: 13.5, 27: 14.5, 42: 15.5, 14: 16.5, 1: 17.5, 0: 18.5, 2: 19.5, 18: 20.5, 9: 21.5, 41: 22.5, 5: 23.5, 34: 24.5, 23: 25.5, 45: 26.5, 39: 27.5, 19: 28.5, 24: 29.5, 32: 30.5, 6: 31.5, 30: 32.5, 43: 33.5, 28: 34.5, 4: 35.5, 11: 36.5, 10: 37.5, 22: 38.5, 36: 39.5, 17: 40.5, 21: 41.5, 25: 42.5, 44: 43.5, 29: 44.5, 8: 45.5}\n"
   ]
  },
  {
   "cell_type": "code",
   "execution_count": null,
   "id": "699ceaa8",
   "metadata": {},
   "outputs": [],
   "source": [
    "win = rasters_display_outputs_list[0].win # GraphicsLayoutWidget \n",
    "saved_window_geometry = []\n",
    "\n",
    "\n",
    "saved_pos0 = win.saveGeometry() # QByteArray\n",
    "saved_pos0"
   ]
  },
  {
   "cell_type": "code",
   "execution_count": null,
   "id": "9f357d8c",
   "metadata": {},
   "outputs": [],
   "source": [
    "saved_window_geometry = [deepcopy(a_rasters_display_output.win.saveGeometry()) for a_rasters_display_output in rasters_display_outputs_list] # QByteArray\n"
   ]
  },
  {
   "cell_type": "code",
   "execution_count": null,
   "id": "74b0aa29",
   "metadata": {},
   "outputs": [],
   "source": [
    "win.restoreGeometry(saved_pos0)"
   ]
  },
  {
   "cell_type": "code",
   "execution_count": null,
   "id": "51b1dd08",
   "metadata": {},
   "outputs": [],
   "source": [
    "custom_font = pg.QtGui.QFont()\n",
    "custom_font.setPixelSize(30)\n",
    "\n",
    "a_main_plot.getAxis(\"bottom\").tickFont = custom_font\n",
    "a_main_plot.getAxis(\"bottom\").setStyle(tickTextOffset = 30)"
   ]
  },
  {
   "cell_type": "code",
   "execution_count": null,
   "id": "aeb0f7ea",
   "metadata": {},
   "outputs": [],
   "source": [
    "# ay.tickSpacing() # tickSpacing() missing 3 required positional arguments: 'minVal', 'maxVal', and 'size'\n",
    "# ay.tickValues() # tickValues() missing 3 required positional arguments: 'minVal', 'maxVal', and 'size'\n",
    "\n"
   ]
  },
  {
   "cell_type": "code",
   "execution_count": null,
   "id": "87fd2831",
   "metadata": {},
   "outputs": [],
   "source": [
    "\n",
    "unsorted_neuron_ids = np.array([  9,  10,  11,  15,  16,  18,  24,  25,  26,  31,  39,  40,  43,  44,  47,  48,  51,  52,  53,  54,  56,  60,  61,  65,  66,  68,  70,  72,  75,  77,  78,  79,  80,  81,  82,  84,  85,  87,  89,  90,  92,  93,  98, 101, 102, 104])\n",
    "\n",
    "sort_list = np.array([ 7, 14, 20, 26, 38, 40, 43,  3, 12, 35, 37,  1, 16, 18, 13, 15, 31, 33, 27, 42,  0, 41, 34,  9,  2, 24, 39, 30,  4, 45, 32,  6, 28, 11, 21, 36, 17, 44, 23,  5,  8, 10, 19, 22, 25, 29])\n",
    "\n",
    "\n",
    "# np.all(\n",
    "\n"
   ]
  },
  {
   "cell_type": "code",
   "execution_count": null,
   "id": "90f22dc7",
   "metadata": {},
   "outputs": [],
   "source": [
    "_out_rank_order_event_raster_debugger.get_epoch_active_aclus()"
   ]
  },
  {
   "cell_type": "code",
   "execution_count": null,
   "id": "93f02e24",
   "metadata": {},
   "outputs": [],
   "source": [
    "_out_rank_order_event_raster_debugger.active_epoch_tuple"
   ]
  },
  {
   "cell_type": "code",
   "execution_count": null,
   "id": "a7931c5b",
   "metadata": {},
   "outputs": [],
   "source": [
    "debug_update_plot_titles(_out_rank_order_event_raster_debugger, an_idx=309)"
   ]
  },
  {
   "cell_type": "code",
   "execution_count": null,
   "id": "0536617f",
   "metadata": {},
   "outputs": [],
   "source": [
    "from pyphoplacecellanalysis.General.Pipeline.Stages.ComputationFunctions.MultiContextComputationFunctions.DirectionalPlacefieldGlobalComputationFunctions import DirectionalPlacefieldGlobalDisplayFunctions\n",
    "\n",
    "curr_active_pipeline.reload_default_display_functions()\n",
    "epoch_active_aclus = None\n",
    "_out_directional_template_pfs_debugger = curr_active_pipeline.display(DirectionalPlacefieldGlobalDisplayFunctions._display_directional_template_debugger, included_any_context_neuron_ids=epoch_active_aclus)\n",
    "directional_template_pfs_debugger_on_update_callback = _out_directional_template_pfs_debugger.get('ui').on_update_callback\n",
    "directional_template_pfs_debugger_on_update_callback"
   ]
  },
  {
   "cell_type": "code",
   "execution_count": null,
   "id": "bd973981",
   "metadata": {},
   "outputs": [],
   "source": [
    "# directional_template_pfs_debugger_on_update_callback(np.array([77, 18, 25]))\n",
    "\n",
    "directional_template_pfs_debugger_on_update_callback(np.array([9,  26,  31,  39,  40,  43,  47,  52,  53,  54,  60,  61,  65,  68,  72,  75,  77,  78,  81,  82,  84,  85,  90,  92,  93,  98, 102]))\n",
    "\n"
   ]
  },
  {
   "cell_type": "code",
   "execution_count": null,
   "id": "04124521",
   "metadata": {},
   "outputs": [],
   "source": [
    "# _out_directional_template_pfs_debugger\n",
    "\n",
    "win = _out_directional_template_pfs_debugger.get('win')\n",
    "app = _out_directional_template_pfs_debugger.get('app')\n",
    "ui = _out_directional_template_pfs_debugger.get('ui')\n",
    "plots = _out_directional_template_pfs_debugger.get('plots')\n",
    "data = _out_directional_template_pfs_debugger.get('data')\n"
   ]
  },
  {
   "cell_type": "code",
   "execution_count": null,
   "id": "6ce86d90",
   "metadata": {},
   "outputs": [],
   "source": [
    "data.unsorted_included_any_context_neuron_ids"
   ]
  },
  {
   "cell_type": "code",
   "execution_count": null,
   "id": "1220d352",
   "metadata": {},
   "outputs": [],
   "source": [
    "a_decoder_name = 'short_RL'\n",
    "curr_win, curr_img = plots.pf1D_heatmaps[a_decoder_name] # pyphoplacecellanalysis.External.pyqtgraph.widgets.PlotWidget.PlotWidget\n",
    "\n",
    "# a_text_item = ui.text_items_dict[a_decoder_name][31] # pyqtgraph.graphicsItems.TextItem.TextItem\n",
    "\n",
    "unused_text_items_dict = {aclu:a_text_item for aclu, a_text_item in ui.text_items_dict[a_decoder_name].items() if aclu not in data.unsorted_included_any_context_neuron_ids}\n",
    "\n",
    "for aclu, a_text_item in unused_text_items_dict.items():\n",
    "\ta_text_item.hide()\n"
   ]
  },
  {
   "cell_type": "code",
   "execution_count": null,
   "id": "ee16d641",
   "metadata": {},
   "outputs": [],
   "source": [
    "\n",
    "for aclu, a_text_item in ui.text_items_dict[a_decoder_name].items():\n",
    "\tcurr_win.removeItem(a_text_item)\n",
    "\ta_text_item.deleteLater()\n",
    "\n",
    "# curr_win.addItem(text)\n",
    "# curr_win.add"
   ]
  },
  {
   "cell_type": "code",
   "execution_count": null,
   "id": "a6027b20",
   "metadata": {},
   "outputs": [],
   "source": [
    "# data #'sorted_neuron_IDs_lists'\n",
    "curr_active_pipeline.display('_display_1d_placefield_occupancy', 'maze_any')"
   ]
  },
  {
   "cell_type": "code",
   "execution_count": null,
   "id": "c1e9a8ce",
   "metadata": {},
   "outputs": [],
   "source": [
    "curr_active_pipeline.display('_display_2d_placefield_occupancy', 'maze_any')"
   ]
  },
  {
   "cell_type": "code",
   "execution_count": null,
   "id": "b1f353f3",
   "metadata": {},
   "outputs": [],
   "source": [
    "curr_active_pipeline.registered_display_function_docs_dict\n",
    "\n",
    "_display_1d_placefield_occupancy\n",
    "_display_2d_placefield_occupancy"
   ]
  },
  {
   "cell_type": "markdown",
   "id": "1e4b438c",
   "metadata": {
    "notebookRunGroups": {
     "groupValue": "21"
    }
   },
   "source": [
    "### Independent DirectionalTemplatePFsDebugger for testing"
   ]
  },
  {
   "cell_type": "code",
   "execution_count": null,
   "id": "a5f7ac4e",
   "metadata": {
    "notebookRunGroups": {
     "groupValue": "3"
    }
   },
   "outputs": [],
   "source": [
    "# _display_directional_laps_overview:\n",
    "curr_active_pipeline.prepare_for_display()\n",
    "curr_active_pipeline.reload_default_display_functions()\n",
    "session_description: str = curr_active_pipeline.get_session_context().get_description()\n",
    "print(f'session_description: {session_description}')\n",
    "# _out = curr_active_pipeline.display(DirectionalPlacefieldGlobalDisplayFunctions._display_directional_laps_overview)\n",
    "_out_all_cells_directional_template_pfs_debugger = curr_active_pipeline.display(DirectionalPlacefieldGlobalDisplayFunctions._display_directional_template_debugger, included_any_context_neuron_ids=None, figure_name='All Cells (Independent)')"
   ]
  },
  {
   "cell_type": "code",
   "execution_count": null,
   "id": "6b612abf",
   "metadata": {},
   "outputs": [],
   "source": [
    "_out_rank_order_event_raster_debugger.on_update_epoch_IDX(298)"
   ]
  },
  {
   "cell_type": "code",
   "execution_count": null,
   "id": "aeb7f089",
   "metadata": {},
   "outputs": [],
   "source": [
    "def convert_to_seconds(minutes: int, seconds: float) -> float:\n",
    "\t\"\"\" returns fractional seconds \"\"\"\n",
    "\treturn (60.0 * float(minutes)) + seconds\n",
    "\n",
    "convert_to_seconds(18, 37.5) # 1117.5"
   ]
  },
  {
   "cell_type": "code",
   "execution_count": null,
   "id": "01b8607b",
   "metadata": {},
   "outputs": [],
   "source": [
    "# Set spike emphasis on debug rasters?\n",
    "\n",
    "# Get debug rasters to match the colors in template viewer?\n"
   ]
  },
  {
   "cell_type": "code",
   "execution_count": null,
   "id": "973dd266",
   "metadata": {},
   "outputs": [],
   "source": [
    "import ipywidgets as widgets\n",
    "\n",
    "# 2023-11-17: Displays a slider that allows the user to select the epoch_IDX instead of having to type it and call it manually\n",
    "# https://ipywidgets.readthedocs.io/en/latest/examples/Widget%20Events.html#throttling\n",
    "\n",
    "active_epoch_IDX = 0\n",
    "# Define the update function\n",
    "def update_function(change):\n",
    "    global active_epoch_IDX\n",
    "    new_value = change['new']\n",
    "    active_epoch_IDX = new_value\n",
    "    # convert to good value:\n",
    "\n",
    "    # significant_ripple_epochs = deepcopy(global_replays)\n",
    "    active_epoch_IDX = significant_ripple_epochs.to_dataframe().index[new_value]\n",
    "\n",
    "    # Add your update logic here\n",
    "    print(f\"Slider value updated to: {new_value}\")\n",
    "    _out.on_update_epoch_IDX(active_epoch_IDX) # call the update\n",
    "    # print(f'n_unique_cells_participating_in_replay[{active_epoch_IDX}]: {n_unique_cells_participating_in_replay[active_epoch_IDX]}')\n",
    "    selected_epoch_df = global_replays.to_dataframe()[global_replays.to_dataframe().index == active_epoch_IDX] # should only contain one entry, the selected epoch.\n",
    "    curr_epoch = list(selected_epoch_df.itertuples())[0] # extract the interval of interest as a namedtuple object\n",
    "    print(f\"curr_epoch: {curr_epoch}\")\n",
    "\n",
    "    \n",
    "# Create a slider widget\n",
    "slider = widgets.IntSlider(value=0, min=0, max=np.shape(_out.active_epochs_df)[0], step=1, description='Test Slider')\n",
    "\n",
    "# Link the update function to value changes in the slider\n",
    "slider.observe(update_function, names='value')\n",
    "\n",
    "# Display the slider\n",
    "display(slider)\n"
   ]
  },
  {
   "cell_type": "markdown",
   "id": "220c19f9",
   "metadata": {
    "notebookRunGroups": {
     "groupValue": "2"
    }
   },
   "source": [
    "# Plot the z-scores differences and their raw-values"
   ]
  },
  {
   "cell_type": "code",
   "execution_count": null,
   "id": "c36856cb",
   "metadata": {},
   "outputs": [],
   "source": [
    "## filter events by (|z| > 1.0)\n",
    "ripple_result_tuple.active_epochs\n",
    "ripple_result_tuple.long_best_dir_z_score_values"
   ]
  },
  {
   "cell_type": "code",
   "execution_count": null,
   "id": "de5402b9",
   "metadata": {},
   "outputs": [],
   "source": [
    "# ripple_result_tuple.directional_likelihoods_tuple\n",
    "ripple_result_tuple.directional_likelihoods_tuple.long_best_direction_indices[105] # 1, "
   ]
  },
  {
   "cell_type": "code",
   "execution_count": null,
   "id": "23ac85b9",
   "metadata": {},
   "outputs": [],
   "source": [
    "ripple_result_tuple.directional_likelihoods_tuple.short_best_direction_indices[105]"
   ]
  },
  {
   "cell_type": "code",
   "execution_count": null,
   "id": "751e2ba3",
   "metadata": {},
   "outputs": [],
   "source": [
    "ripple_result_tuple.long_best_dir_z_score_values[105]"
   ]
  },
  {
   "cell_type": "code",
   "execution_count": null,
   "id": "9372e0f2",
   "metadata": {},
   "outputs": [],
   "source": [
    "ripple_result_tuple.short_best_dir_z_score_values[105]"
   ]
  },
  {
   "cell_type": "code",
   "execution_count": null,
   "id": "8a1cad5d",
   "metadata": {},
   "outputs": [],
   "source": [
    "from pyphoplacecellanalysis.General.Pipeline.Stages.ComputationFunctions.MultiContextComputationFunctions.RankOrderComputations import plot_rank_order_epoch_inst_fr_result_tuples\n",
    "\n",
    "ripple_outputs = plot_rank_order_epoch_inst_fr_result_tuples(curr_active_pipeline, ripple_result_tuple, 'Ripple')\n"
   ]
  },
  {
   "cell_type": "code",
   "execution_count": null,
   "id": "3144e337",
   "metadata": {},
   "outputs": [],
   "source": [
    "\n",
    "# Usage of the function for Lap\n",
    "lap_outputs = plot_rank_order_epoch_inst_fr_result_tuples(curr_active_pipeline, laps_result_tuple, 'Lap')"
   ]
  },
  {
   "cell_type": "code",
   "execution_count": null,
   "id": "905e6b71",
   "metadata": {},
   "outputs": [],
   "source": [
    "np.shape(ripple_result_tuple.long_best_dir_z_score_values)"
   ]
  },
  {
   "cell_type": "code",
   "execution_count": null,
   "id": "ff13302a",
   "metadata": {},
   "outputs": [],
   "source": [
    "np.shape(ripple_result_tuple.short_best_dir_z_score_values)"
   ]
  },
  {
   "cell_type": "code",
   "execution_count": null,
   "id": "c18e3936",
   "metadata": {},
   "outputs": [],
   "source": [
    "global_replays.n_epochs"
   ]
  },
  {
   "cell_type": "code",
   "execution_count": null,
   "id": "9e99e913",
   "metadata": {},
   "outputs": [],
   "source": [
    "global_replays"
   ]
  },
  {
   "cell_type": "code",
   "execution_count": null,
   "id": "4d468a50",
   "metadata": {},
   "outputs": [],
   "source": [
    "ratemap = long_pf1D.ratemap\n",
    "ratemap.tuning_curve_unsmoothed_peak_firing_rates"
   ]
  },
  {
   "cell_type": "code",
   "execution_count": null,
   "id": "c6b025f2",
   "metadata": {},
   "outputs": [],
   "source": [
    "from pyphoplacecellanalysis.General.Pipeline.Stages.ComputationFunctions.MultiContextComputationFunctions.RankOrderComputations import DirectionalRankOrderResult\n",
    "\n",
    "type(ripple_result_tuple)\n",
    "ripple_result_tuple.plot_histogram()"
   ]
  },
  {
   "cell_type": "code",
   "execution_count": null,
   "id": "5965ce17bb581dd3",
   "metadata": {
    "ExecuteTime": {
     "end_time": "2023-11-16T23:23:47.022252100Z",
     "start_time": "2023-11-16T23:23:46.862250100Z"
    }
   },
   "outputs": [],
   "source": [
    "pd.DataFrame({'long_best_z_scores': ripple_result_tuple.long_best_dir_z_score_values, 'short_best_z_scores': ripple_result_tuple.short_best_dir_z_score_values}).hist()\n",
    "plt.suptitle('Ripple Rank-Order')"
   ]
  },
  {
   "cell_type": "code",
   "execution_count": null,
   "id": "3213cd164073dbb3",
   "metadata": {
    "ExecuteTime": {
     "end_time": "2023-11-16T23:24:06.810860500Z",
     "start_time": "2023-11-16T23:24:06.644858700Z"
    }
   },
   "outputs": [],
   "source": [
    "# 2023-11-16_LapsRankOrderHistogram Figure:\n",
    "pd.DataFrame({'long_z_scores': laps_result_tuple.long_best_dir_z_score_values, 'short_z_scores': laps_result_tuple.short_best_dir_z_score_values}).hist()"
   ]
  },
  {
   "cell_type": "markdown",
   "id": "f1f2a9a6",
   "metadata": {},
   "source": [
    "# Create a new `SpikeRaster2D` instance using `_display_spike_raster_pyqtplot_2D` and capture its outputs:\n"
   ]
  },
  {
   "cell_type": "code",
   "execution_count": null,
   "id": "7cc87fb8",
   "metadata": {},
   "outputs": [],
   "source": [
    "curr_active_pipeline.prepare_for_display()"
   ]
  },
  {
   "cell_type": "code",
   "execution_count": null,
   "id": "82cc7400",
   "metadata": {},
   "outputs": [],
   "source": [
    "# Create a new `SpikeRaster2D` instance using `_display_spike_raster_pyqtplot_2D` and capture its outputs:\n",
    "# active_2d_plot, active_3d_plot, spike_raster_window = curr_active_pipeline.plot._display_spike_rasters_pyqtplot_2D()\n",
    "\n",
    "active_2d_plot, active_3d_plot, spike_raster_window = curr_active_pipeline.display('_display_spike_rasters_pyqtplot_2D', 'maze_any') # 'maze_any'\n"
   ]
  },
  {
   "cell_type": "code",
   "execution_count": null,
   "id": "39840338",
   "metadata": {},
   "outputs": [],
   "source": [
    "active_2d_plot, active_3d_plot, spike_raster_window = curr_active_pipeline.plot._display_spike_rasters_pyqtplot_2D()\n"
   ]
  },
  {
   "cell_type": "code",
   "execution_count": null,
   "id": "e75eb376",
   "metadata": {},
   "outputs": [],
   "source": [
    "spike_raster_window"
   ]
  },
  {
   "cell_type": "code",
   "execution_count": null,
   "id": "10b7afeb",
   "metadata": {},
   "outputs": [],
   "source": [
    "spikes_window = spike_raster_window.spikes_window # SpikesDataframeWindow\n",
    "\n",
    "bottomPlaybackControlBarWidget = spike_raster_window.ui.bottomPlaybackControlBarWidget # Spike3DRasterBottomPlaybackControlBar \n",
    "\n",
    "doubleSpinBox_ActiveWindowStartTime = bottomPlaybackControlBarWidget.ui.doubleSpinBox_ActiveWindowStartTime\n",
    "doubleSpinBox_ActiveWindowEndTime = bottomPlaybackControlBarWidget.ui.doubleSpinBox_ActiveWindowEndTime\n",
    "\n",
    "\n",
    "# spikes_window.timeWindow.start\n",
    "# spikes_window.active_window_start_time\n",
    "# spikes_window.update_window_start_end(451.8908457518555, 451.9895490613999) ## Works but does not trigger refresh/update of the window. The changes are reflected as soon as you try to scroll at all though.\n",
    "# spikes_window.active_window_end_time\n",
    "\n",
    "print(f'spikes_window.active_window_start_time: {spikes_window.active_window_start_time}, spikes_window.active_window_end_time: {spikes_window.active_window_end_time}')\n",
    "# need to block signals:\n",
    "# doubleSpinBox_ActiveWindowStartTime.blockSignals(True)\n",
    "# doubleSpinBox_ActiveWindowEndTime.blockSignals(True)\n",
    "doubleSpinBox_ActiveWindowStartTime.setValue(spikes_window.active_window_start_time)\n",
    "doubleSpinBox_ActiveWindowEndTime.setValue(spikes_window.active_window_end_time)\n",
    "# doubleSpinBox_ActiveWindowStartTime.blockSignals(False) # unblock the signals when done\n",
    "# doubleSpinBox_ActiveWindowEndTime.blockSignals(False)\n",
    "\n",
    "\n",
    "# @pyqtExceptionPrintingSlot(float, float)\n",
    "def on_active_window_changed(start_t, end_t, _obj):\n",
    "\t# need to block signals:\n",
    "\t# doubleSpinBox_ActiveWindowStartTime.blockSignals(True)\n",
    "\t# doubleSpinBox_ActiveWindowEndTime.blockSignals(True)\n",
    "\tif start_t is not None:\n",
    "\t\tdoubleSpinBox_ActiveWindowStartTime.setValue(start_t)\n",
    "\tif end_t is not None:\n",
    "\t\tdoubleSpinBox_ActiveWindowEndTime.setValue(end_t)\n",
    "\t# doubleSpinBox_ActiveWindowStartTime.blockSignals(False) # unblock the signals when done\n",
    "\t# doubleSpinBox_ActiveWindowEndTime.blockSignals(False)\n",
    "\n",
    "curr_window_ctrls_connection = spikes_window.windowed_data_window_updated_signal.connect(on_active_window_changed)\n"
   ]
  },
  {
   "cell_type": "code",
   "execution_count": null,
   "id": "113a3acd",
   "metadata": {},
   "outputs": [],
   "source": [
    "doubleSpinBox_ActiveWindowStartTime.setReadOnly(True)\n",
    "doubleSpinBox_ActiveWindowEndTime.setReadOnly(True)\n",
    "\n",
    "spikes_window.on_window_changed.connect("
   ]
  },
  {
   "cell_type": "code",
   "execution_count": null,
   "id": "8319e362",
   "metadata": {},
   "outputs": [],
   "source": [
    "doubleSpinBox_ActiveWindowStartTime.setVisible(False)\n",
    "bottomPlaybackControlBarWidget.setVisible(False)"
   ]
  },
  {
   "cell_type": "code",
   "execution_count": null,
   "id": "01d043d6",
   "metadata": {},
   "outputs": [],
   "source": [
    "# global_epoch_context\n",
    "curr_active_pipeline.reload_default_display_functions()\n",
    "# curr_active_pipeline.prepare_for_display()\n",
    "curr_active_pipeline.clear_display_outputs()\n"
   ]
  },
  {
   "cell_type": "code",
   "execution_count": null,
   "id": "baddcf94",
   "metadata": {},
   "outputs": [],
   "source": []
  },
  {
   "cell_type": "code",
   "execution_count": null,
   "id": "2441e547",
   "metadata": {},
   "outputs": [],
   "source": [
    "# Gets the existing SpikeRasterWindow or creates a new one if one doesn't already exist:\n",
    "from pyphocorehelpers.gui.Qt.TopLevelWindowHelper import TopLevelWindowHelper\n",
    "import pyphoplacecellanalysis.External.pyqtgraph as pg # Used to get the app for TopLevelWindowHelper.top_level_windows\n",
    "## For searching with `TopLevelWindowHelper.all_widgets(...)`:\n",
    "from pyphoplacecellanalysis.GUI.PyQtPlot.Widgets.SpikeRasterWidgets.Spike2DRaster import Spike2DRaster\n",
    "from pyphoplacecellanalysis.GUI.PyQtPlot.Widgets.SpikeRasterWidgets.Spike3DRaster import Spike3DRaster\n",
    "from pyphoplacecellanalysis.GUI.Qt.SpikeRasterWindows.Spike3DRasterWindowWidget import Spike3DRasterWindowWidget\n",
    "\n",
    "found_spike_raster_windows = TopLevelWindowHelper.all_widgets(pg.mkQApp(), searchType=Spike3DRasterWindowWidget)\n",
    "\n",
    "if len(found_spike_raster_windows) < 1:\n",
    "\t# no existing spike_raster_windows. Make a new one\n",
    "\tprint(f'no existing SpikeRasterWindow. Creating a new one.')\n",
    "\t# Create a new `SpikeRaster2D` instance using `_display_spike_raster_pyqtplot_2D` and capture its outputs:\n",
    "\t# active_2d_plot, active_3d_plot, spike_raster_window = curr_active_pipeline.plot._display_spike_rasters_pyqtplot_2D()\n",
    "\n",
    "\tactive_2d_plot, active_3d_plot, spike_raster_window = curr_active_pipeline.plot._display_spike_rasters_pyqtplot_2D()\n",
    "\n",
    "else:\n",
    "\tprint(f'found {len(found_spike_raster_windows)} existing Spike3DRasterWindowWidget windows using TopLevelWindowHelper.all_widgets(...). Will use the most recent.')\n",
    "\t# assert len(found_spike_raster_windows) == 1, f\"found {len(found_spike_raster_windows)} Spike3DRasterWindowWidget windows using TopLevelWindowHelper.all_widgets(...) but require exactly one.\"\n",
    "\t# Get the most recent existing one and reuse that:\n",
    "\tspike_raster_window = found_spike_raster_windows[0]\n",
    "\n",
    "\n",
    "# Extras:\n",
    "active_2d_plot = spike_raster_window.spike_raster_plt_2d # <pyphoplacecellanalysis.GUI.PyQtPlot.Widgets.SpikeRasterWidgets.Spike2DRaster.Spike2DRaster at 0x196c7244280>\n",
    "active_3d_plot = spike_raster_window.spike_raster_plt_3d # <pyphoplacecellanalysis.GUI.PyQtPlot.Widgets.SpikeRasterWidgets.Spike2DRaster.Spike2DRaster at 0x196c7244280>\n",
    "main_graphics_layout_widget = active_2d_plot.ui.main_graphics_layout_widget # GraphicsLayoutWidget\n",
    "main_plot_widget = active_2d_plot.plots.main_plot_widget # PlotItem\n",
    "background_static_scroll_plot_widget = active_2d_plot.plots.background_static_scroll_window_plot # PlotItem"
   ]
  },
  {
   "cell_type": "code",
   "execution_count": null,
   "id": "7c6338da",
   "metadata": {},
   "outputs": [],
   "source": [
    "spike_raster_window.isVisible() # False\n",
    "# spike_raster_window.show()\n",
    "spike_raster_window.close()"
   ]
  },
  {
   "cell_type": "code",
   "execution_count": null,
   "id": "0bafe4df",
   "metadata": {},
   "outputs": [],
   "source": [
    "spike_raster_window.connection_man.active_connections"
   ]
  },
  {
   "cell_type": "code",
   "execution_count": null,
   "id": "0a801d59",
   "metadata": {},
   "outputs": [],
   "source": [
    "found_any_window = TopLevelWindowHelper.top_level_windows(pg.mkQApp())\n",
    "found_any_window"
   ]
  },
  {
   "cell_type": "code",
   "execution_count": null,
   "id": "17d815bb",
   "metadata": {},
   "outputs": [],
   "source": [
    "# print windows:\n",
    "[print_widget_hierarchy(v) for k, v in found_any_window.items()]"
   ]
  },
  {
   "cell_type": "code",
   "execution_count": null,
   "id": "5c00e166",
   "metadata": {},
   "outputs": [],
   "source": [
    "_display_out = curr_active_pipeline.last_added_display_output\n"
   ]
  },
  {
   "cell_type": "code",
   "execution_count": null,
   "id": "b06ea13e",
   "metadata": {},
   "outputs": [],
   "source": [
    "ipspikesDataExplorer = _display_out['ipspikesDataExplorer']\n",
    "pActiveSpikesBehaviorPlotter = _display_out['plotter']\n"
   ]
  },
  {
   "cell_type": "code",
   "execution_count": null,
   "id": "0d0cd1f5",
   "metadata": {},
   "outputs": [],
   "source": [
    "ipspikesDataExplorer\n",
    "\n"
   ]
  },
  {
   "cell_type": "code",
   "execution_count": null,
   "id": "2c92cd2f",
   "metadata": {},
   "outputs": [],
   "source": [
    " = curr_active_pipeline.last_added_display_output\n",
    "_display_out\n"
   ]
  },
  {
   "cell_type": "code",
   "execution_count": null,
   "id": "e02ac639",
   "metadata": {},
   "outputs": [],
   "source": [
    "\n",
    "\n",
    "ipspikesDataExplorer = self._display_output['ipspikesDataExplorer']"
   ]
  },
  {
   "cell_type": "code",
   "execution_count": null,
   "id": "bd461fb3",
   "metadata": {},
   "outputs": [],
   "source": [
    "### Adjusting Spike Emphasis:\n",
    "#### Usage Examples:\n",
    "from pyphoplacecellanalysis.General.Mixins.SpikesRenderingBaseMixin import SpikeEmphasisState\n",
    "from neuropy.core.neuron_identities import NeuronType\n"
   ]
  },
  {
   "cell_type": "code",
   "execution_count": null,
   "id": "b1dd5449",
   "metadata": {},
   "outputs": [],
   "source": [
    "\n",
    "## Example 1: De-emphasize spikes excluded from the placefield calculations:\n",
    "is_spike_included_in_pf = np.isin(spike_raster_window.spike_raster_plt_2d.spikes_df.index, active_pf_2D.filtered_spikes_df.index)\n",
    "spike_raster_window.spike_raster_plt_2d.update_spike_emphasis(np.logical_not(is_spike_included_in_pf), SpikeEmphasisState.Deemphasized)\n",
    "\n",
    "## Example 2: De-emphasize spikes that don't have their 'aclu' from a given set of indicies:\n",
    "is_spike_included = spike_raster_window.spike_raster_plt_2d.spikes_df.aclu.to_numpy() == 2\n",
    "spike_raster_window.spike_raster_plt_2d.update_spike_emphasis(np.logical_not(is_spike_included), SpikeEmphasisState.Deemphasized)\n",
    "\n",
    "## Example 3: De-emphasize all spikes \n",
    "active_2d_plot.update_spike_emphasis(new_emphasis_state=SpikeEmphasisState.Deemphasized)\n",
    "\n",
    "## Example 4: Hide all spikes entirely\n",
    "active_2d_plot.update_spike_emphasis(new_emphasis_state=SpikeEmphasisState.Hidden)\n"
   ]
  },
  {
   "cell_type": "code",
   "execution_count": null,
   "id": "98b9a61d",
   "metadata": {},
   "outputs": [],
   "source": [
    "## Setup: Hide all non-pyramidal spikes entirely\n",
    "spikes_df = spike_raster_window.spikes_df\n",
    "spike_raster_window.spike_raster_plt_2d.update_spike_emphasis(np.logical_not((spikes_df.neuron_type == NeuronType.from_string('pyr'))), SpikeEmphasisState.Hidden)"
   ]
  },
  {
   "cell_type": "code",
   "execution_count": null,
   "id": "f3feb699",
   "metadata": {},
   "outputs": [],
   "source": [
    "spikes_window = spike_raster_window.spikes_window # SpikesDataframeWindow\n",
    "# spikes_window.update_window_start_end(451.8908457518555, 451.9895490613999) ## Works but does not trigger refresh/update of the window. The changes are reflected as soon as you try to scroll at all though.\n"
   ]
  },
  {
   "cell_type": "code",
   "execution_count": null,
   "id": "1ae85b4a",
   "metadata": {},
   "outputs": [],
   "source": [
    "# 20*60.0 + 50.0 +  0.218 = 1250.218\n",
    "\n",
    "spikes_window.update_window_start_end(1250.218, (1250.218 + 3.0))\n",
    "\n"
   ]
  },
  {
   "cell_type": "code",
   "execution_count": null,
   "id": "325548b0",
   "metadata": {},
   "outputs": [],
   "source": [
    "spikes_window.window_duration # Prints the current window's duration. The win. dur. label control in the left bar is not updated.\n",
    "\n",
    "desired_window_fraction: float = 0.1 # 10% of the window is the default jump size\n",
    "relevant_jump_duration: float = spikes_window.window_duration * desired_window_fraction\n",
    "relevant_jump_duration\n"
   ]
  },
  {
   "cell_type": "code",
   "execution_count": null,
   "id": "7bc81002",
   "metadata": {},
   "outputs": [],
   "source": [
    "from pyphoplacecellanalysis.PhoPositionalData.plotting.mixins.spikes_mixins import SpikeRenderingPyVistaMixin\n",
    "from pyphoplacecellanalysis.GUI.PyVista.InteractivePlotter.InteractivePlaceCellTuningCurvesDataExplorer import InteractivePlaceCellTuningCurvesDataExplorer\n",
    "# from pyphoplacecellanalysis.GUI.PyVista.InteractivePlotter.InteractivePlaceCellTuningCurvesDataExplorer import InteractivePlaceCellTuningCurvesDataExplorer\n",
    "from pyphoplacecellanalysis.GUI.PyVista.InteractivePlotter.InteractivePlaceCellDataExplorer import InteractivePlaceCellDataExplorer\n",
    "\n",
    "found_windows_of_type = TopLevelWindowHelper.all_widgets(pg.mkQApp(), searchType=InteractivePlaceCellDataExplorer)\n",
    "found_windows_of_type\n",
    "TopLevelWindowHelper.top_level_windows(pg.mkQApp(), only_visible=True)"
   ]
  },
  {
   "cell_type": "code",
   "execution_count": null,
   "id": "e2abd93f",
   "metadata": {},
   "outputs": [],
   "source": [
    "(451.8908457518555, 451.9895490613999)"
   ]
  },
  {
   "cell_type": "code",
   "execution_count": null,
   "id": "6c418968",
   "metadata": {},
   "outputs": [],
   "source": [
    "from pyphoplacecellanalysis.SpecificResults.PhoDiba2023Paper import BatchPhoJonathanFiguresHelper\n",
    "\n",
    "fig_1c_figures_out_dict = BatchPhoJonathanFiguresHelper.run(curr_active_pipeline, neuron_replay_stats_df, included_unit_neuron_IDs=XOR_subset.track_exclusive_aclus, n_max_page_rows=20, write_vector_format=False, write_png=True, disable_top_row=True) # active_out_figures_dict: {IdentifyingContext<('kdiba', 'gor01', 'two', '2006-6-07_16-40-19', 'BatchPhoJonathanReplayFRC', 'long_only', '(12,21,48)')>: <Figure size 1920x660 with 12 Axes>, IdentifyingContext<('kdiba', 'gor01', 'two', '2006-6-07_16-40-19', 'BatchPhoJonathanReplayFRC', 'short_only', '(18,19,65)')>: <Figure size 1920x660 with 12 Axes>}"
   ]
  },
  {
   "cell_type": "markdown",
   "id": "2ea2f309",
   "metadata": {},
   "source": [
    "# PhoKamran2023Paper Results"
   ]
  },
  {
   "cell_type": "code",
   "execution_count": null,
   "id": "85a7dd8b",
   "metadata": {},
   "outputs": [],
   "source": [
    "pg.setConfigOptions(background='white', foreground='black') # black on white background (more traditional) color scheme"
   ]
  },
  {
   "cell_type": "markdown",
   "id": "162d813d",
   "metadata": {},
   "source": [
    "## Figure 1) pf1D Ratemaps, Active set, etc"
   ]
  },
  {
   "cell_type": "code",
   "execution_count": null,
   "id": "273696fc",
   "metadata": {},
   "outputs": [],
   "source": [
    "from pyphoplacecellanalysis.General.Pipeline.Stages.DisplayFunctions.SpikeRasters import plot_multiple_raster_plot, plot_raster_plot\n",
    "from pyphoplacecellanalysis.Pho2D.matplotlib.visualize_heatmap import visualize_heatmap_pyqtgraph # used in `plot_kourosh_activity_style_figure`\n",
    "from pyphoplacecellanalysis.SpecificResults.PhoDiba2023Paper import PAPER_FIGURE_figure_1_full, PAPER_FIGURE_figure_1_add_replay_epoch_rasters\n",
    "\n",
    "curr_active_pipeline.prepare_for_display()\n",
    "pf1d_compare_graphics, (example_epoch_rasters_L, example_epoch_rasters_S), example_stacked_epoch_graphics, fig_1c_figures_out_dict = PAPER_FIGURE_figure_1_full(curr_active_pipeline) # did not display the pf1"
   ]
  },
  {
   "cell_type": "code",
   "execution_count": null,
   "id": "84fa9acc",
   "metadata": {},
   "outputs": [],
   "source": [
    "# rdf = jonathan_firing_rate_analysis_result.rdf.rdf\n",
    "# rdf\n",
    "# ==================================================================================================================== #\n",
    "# Fig 1c) 2023-07-14 - LxC and SxC PhoJonathanSession plots                                                            #\n",
    "# ==================================================================================================================== #\n",
    "from pyphoplacecellanalysis.General.Batch.NonInteractiveProcessing import BatchPhoJonathanFiguresHelper\n",
    "\n",
    "## Get global 'jonathan_firing_rate_analysis' results:\n",
    "curr_jonathan_firing_rate_analysis = curr_active_pipeline.global_computation_results.computed_data['jonathan_firing_rate_analysis']\n",
    "neuron_replay_stats_df, rdf, aclu_to_idx, irdf = curr_jonathan_firing_rate_analysis.neuron_replay_stats_df, curr_jonathan_firing_rate_analysis.rdf.rdf, curr_jonathan_firing_rate_analysis.rdf.aclu_to_idx, curr_jonathan_firing_rate_analysis.irdf.irdf\n",
    "\n",
    "fig_1c_figures_out_dict = BatchPhoJonathanFiguresHelper.run(curr_active_pipeline, neuron_replay_stats_df, included_unit_neuron_IDs=XOR_subset.track_exclusive_aclus, n_max_page_rows=20, write_vector_format=False, write_png=True, disable_top_row=True) # active_out_figures_dict: {IdentifyingContext<('kdiba', 'gor01', 'two', '2006-6-07_16-40-19', 'BatchPhoJonathanReplayFRC', 'long_only', '(12,21,48)')>: <Figure size 1920x660 with 12 Axes>, IdentifyingContext<('kdiba', 'gor01', 'two', '2006-6-07_16-40-19', 'BatchPhoJonathanReplayFRC', 'short_only', '(18,19,65)')>: <Figure size 1920x660 with 12 Axes>}\n"
   ]
  },
  {
   "cell_type": "markdown",
   "id": "5cba3c7a",
   "metadata": {},
   "source": [
    "## Figure 2) `PaperFigureTwo`: LxC/SxC Analyses\n",
    "Note: this fails when SxC or LxC are empty for this session (as it's not meaningful to produce a comparison bar plot). In this case, aggregate across multiple sessions."
   ]
  },
  {
   "cell_type": "code",
   "execution_count": null,
   "id": "97d3e1ff",
   "metadata": {},
   "outputs": [],
   "source": [
    "from pyphoplacecellanalysis.SpecificResults.PhoDiba2023Paper import PaperFigureTwo\n",
    "\n",
    "_out_fig_2 = PaperFigureTwo(instantaneous_time_bin_size_seconds=0.01) # 10ms\n",
    "_out_fig_2.compute(curr_active_pipeline=curr_active_pipeline)\n",
    "_out_fig_2.display()"
   ]
  },
  {
   "cell_type": "markdown",
   "id": "14a52142",
   "metadata": {},
   "source": [
    "## Figure 3) `PAPER_FIGURE_figure_3`: Firing Rate Index and Long/Short Firing Rate Replays v. Laps"
   ]
  },
  {
   "cell_type": "code",
   "execution_count": null,
   "id": "5f765ed6",
   "metadata": {},
   "outputs": [],
   "source": [
    "from neuropy.utils.matplotlib_helpers import FormattedFigureText\n",
    "from pyphoplacecellanalysis.General.Pipeline.Stages.DisplayFunctions.MultiContextComparingDisplayFunctions.LongShortTrackComparingDisplayFunctions import _plot_long_short_firing_rate_indicies\n",
    "# curr_active_pipeline.reload_default_display_functions()\n",
    "\n",
    "_out, _out2 = PAPER_FIGURE_figure_3(curr_active_pipeline, defer_render=False, save_figure=True)"
   ]
  }
 ],
 "metadata": {
  "kernelspec": {
   "display_name": ".venv",
   "language": "python",
   "name": "python3"
  },
  "language_info": {
   "codemirror_mode": {
    "name": "ipython",
    "version": 3
   },
   "file_extension": ".py",
   "mimetype": "text/x-python",
   "name": "python",
   "nbconvert_exporter": "python",
   "pygments_lexer": "ipython3",
   "version": "3.9.13"
  }
 },
 "nbformat": 4,
 "nbformat_minor": 5
}
