{
 "cells": [
  {
   "cell_type": "code",
   "execution_count": 11,
   "id": "1d70a2ce",
   "metadata": {},
   "outputs": [],
   "source": [
    "#!/usr/bin/env python3\n",
    "# -*- coding: utf-8 -*-\n",
    "\"\"\"\n",
    "@author: pho\n",
    "\"\"\"\n",
    "import sys\n",
    "from threading import Thread\n",
    "from ipygany import PolyMesh, Scene, IsoColor, WarpByScalar\n",
    "import pyvista as pv\n",
    "import pyvistaqt as pvqt # conda install -c conda-forge pyvistaqt\n",
    "import numpy as np\n",
    "import h5py\n",
    "import hdf5storage # conda install hdf5storage\n",
    "from pathlib import Path\n",
    "import panel\n",
    "# from itkwidgets import view"
   ]
  },
  {
   "cell_type": "code",
   "execution_count": 8,
   "id": "3b00eced",
   "metadata": {},
   "outputs": [],
   "source": [
    "# can now operate on the sphere and have it updated in the background\n",
    "sphere.points *= 0.5"
   ]
  },
  {
   "cell_type": "code",
   "execution_count": 2,
   "id": "c441228f",
   "metadata": {},
   "outputs": [],
   "source": [
    "## Slider with Callback Function Example:\n",
    "\n",
    "p = pvqt.BackgroundPlotter() # Use just like you would a pv.Plotter() instance\n",
    "\n",
    "def on_slider_update_mesh(value):\n",
    "    res = int(value)\n",
    "    sphere = pv.Sphere(phi_resolution=res, theta_resolution=res)\n",
    "    p.add_mesh(sphere, name='sphere', show_edges=True)\n",
    "    return\n",
    "\n",
    "p.add_slider_widget(on_slider_update_mesh, [5, 100], title='Resolution')\n",
    "p.show()\n"
   ]
  },
  {
   "cell_type": "code",
   "execution_count": null,
   "id": "9b832d59-d3e5-4aa8-ad69-ee3ca1b3a391",
   "metadata": {},
   "outputs": [],
   "source": []
  }
 ],
 "metadata": {
  "kernelspec": {
   "display_name": "Python 3",
   "language": "python",
   "name": "python3"
  },
  "language_info": {
   "codemirror_mode": {
    "name": "ipython",
    "version": 3
   },
   "file_extension": ".py",
   "mimetype": "text/x-python",
   "name": "python",
   "nbconvert_exporter": "python",
   "pygments_lexer": "ipython3",
   "version": "3.6.13"
  }
 },
 "nbformat": 4,
 "nbformat_minor": 5
}
