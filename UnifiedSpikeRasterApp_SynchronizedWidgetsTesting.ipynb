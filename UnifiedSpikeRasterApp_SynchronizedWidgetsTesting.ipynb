{
 "cells": [
  {
   "cell_type": "code",
   "execution_count": 1,
   "id": "5d943470-58d9-4cdb-9409-2e8ca3b69476",
   "metadata": {},
   "outputs": [],
   "source": [
    "%load_ext autoreload\n",
    "%autoreload 2\n",
    "import sys\n",
    "import importlib\n",
    "from io import StringIO  # for loading pandas dataframe from literal string\n",
    "from pathlib import Path\n",
    "import numpy as np\n",
    "import pandas as pd\n",
    "\n",
    "import pyqtgraph as pg\n",
    "from pyqtgraph.Qt import QtCore, QtGui, QtWidgets # pyqtgraph is only currently used for its Qt imports\n",
    "\n",
    "%gui qt5\n",
    "import vedo\n",
    "from vedo import *\n",
    "\n",
    "from pyphocorehelpers.plotting.vedo_qt_helpers import MainVedoPlottingWindow\n",
    "\n",
    "from pyphoplacecellanalysis.General.Mixins.DisplayHelpers import debug_print_axes_locations\n",
    "# from pyphoplacecellanalysis.GUI.PyQtPlot.Flowchart.CustomNodes.Mixins.DisplayNodeViewHelpers import ProducedViewType\n",
    "# from pyphoplacecellanalysis.GUI.PyQtPlot.Flowchart.pyqtplot_Flowchart import plot_flowchartWidget\n",
    "from pyphoplacecellanalysis.General.DataSeriesToSpatial import DataSeriesToSpatial # for DataSeriesToSpatial.build_minute_x_tick_labels(...) function\n",
    "\n",
    "from pyphoplacecellanalysis.GUI.PyQtPlot.Widgets.SpikeRasterWidgets.Spike3DRaster_Vedo import Spike3DRaster_Vedo, StaticVedo_3DRasterHelper\n",
    "from pyphoplacecellanalysis.GUI.PyQtPlot.Widgets.SpikeRasterWidgets.spike_raster_widgets import build_spike_3d_raster_vedo_with_2d_controls, build_spike_3d_raster_with_2d_controls\n",
    "\n",
    "from pyphoplacecellanalysis.GUI.Vedo.VedoMeshManipulatable import VedoPlotterHelpers\n",
    "from pyphocorehelpers.gui.Vedo.vedo_helpers import VedoHelpers\n",
    "\n",
    "data_output_directory = Path('../../data')\n",
    "# data_output_directory.exists()\n",
    "meshes_cache_data_output_directory = data_output_directory.joinpath('mesh_caches') # '../../data/mesh_caches/'\n",
    "meshes_cache_data_output_directory.mkdir(exist_ok=True, parents=False)\n",
    "\n",
    "example_epoch_data_csv_string = StringIO(\"\"\",start,stop,duration,label\\r\\n0,57.32,57.472,0.15200000000000102,\\r\\n1,78.83,79.154,0.32399999999999807,\\r\\n2,80.412,80.592,0.1799999999999926,\\r\\n3,83.792,84.07000000000001,0.2780000000000058,\\r\\n4,85.005,85.144,0.13900000000001,\\r\\n5,89.348,89.759,0.41100000000000136,\\r\\n6,93.95,94.115,0.16499999999999204,\\r\\n7,99.805,99.936,0.13100000000000023,\\r\\n8,125.276,125.418,0.14200000000001012,\\r\\n9,139.835,140.15800000000002,0.3230000000000075,\\r\\n10,147.648,147.842,0.19400000000001683,\\r\\n11,148.927,149.068,0.14100000000001955,\\r\\n12,176.844,177.33,0.4860000000000184,\\r\\n13,183.631,183.874,0.242999999999995,\\r\\n14,201.058,201.257,0.19900000000001228,\\r\\n15,212.357,212.516,0.15899999999999181,\\r\\n16,240.886,241.019,0.13300000000000978,\\r\\n17,242.76500000000001,242.91400000000002,0.1490000000000009,\\r\\n18,245.6,245.937,0.3370000000000175,\\r\\n19,248.00400000000002,248.139,0.1349999999999909,\\r\\n20,274.12600000000003,274.516,0.38999999999998636,\\r\\n21,299.409,299.624,0.21500000000003183,\\r\\n22,300.184,300.308,0.1239999999999668,\\r\\n23,305.567,306.325,0.7579999999999814,\\r\\n24,318.704,318.944,0.2400000000000091,\\r\\n25,321.404,321.594,0.18999999999999773,\\r\\n26,327.33,327.596,0.26600000000001955,\\r\\n27,331.399,331.54,0.14100000000001955,\\r\\n28,333.931,334.101,0.17000000000001592,\\r\\n29,336.473,336.608,0.1349999999999909,\\r\\n30,339.333,339.502,0.16899999999998272,\\r\\n31,342.207,342.324,0.11700000000001864,\\r\\n32,342.411,342.586,0.17500000000001137,\\r\\n33,345.411,345.60200000000003,0.19100000000003092,\\r\\n34,353.54900000000004,353.796,0.24699999999995725,\\r\\n35,367.128,367.333,0.20500000000004093,\\r\\n36,368.848,369.039,0.19099999999997408,\\r\\n37,370.661,370.91700000000003,0.25600000000002865,\\r\\n38,373.08,373.371,0.2909999999999968,\\r\\n39,379.355,379.601,0.2459999999999809,\\r\\n40,380.404,380.509,0.10500000000001819,\\r\\n41,385.653,385.889,0.23599999999999,\\r\\n42,386.428,386.615,0.18700000000001182,\\r\\n43,392.867,393.03700000000003,0.17000000000001592,\\r\\n44,398.271,398.648,0.37700000000000955,\\r\\n45,400.012,400.219,0.20699999999999363,\\r\\n46,401.11,401.399,0.28899999999998727,\\r\\n47,404.916,405.072,0.1560000000000059,\\r\\n48,407.197,407.445,0.24799999999999045,\\r\\n49,416.095,416.366,0.27099999999995816,\\r\\n50,417.294,417.683,0.38900000000001,\\r\\n51,427.039,427.161,0.1220000000000141,\\r\\n52,430.531,430.757,0.2259999999999991,\\r\\n53,434.69,434.837,0.14699999999999136,\\r\\n54,435.822,435.92900000000003,0.10700000000002774,\\r\\n55,456.574,456.927,0.35300000000000864,\\r\\n56,478.076,478.354,0.27799999999996317,\\r\\n57,483.985,484.212,0.22699999999997544,\\r\\n58,489.569,489.724,0.15499999999997272,\\r\\n59,491.58,491.735,0.15500000000002956,\\r\\n60,492.742,492.954,0.21199999999998909,\\r\\n61,498.669,498.818,0.1490000000000009,\\r\\n62,519.033,519.176,0.1430000000000291,\\r\\n63,529.016,529.197,0.18100000000004002,\\r\\n64,535.8290000000001,535.999,0.16999999999995907,\\r\\n65,540.38,540.623,0.24300000000005184,\\r\\n66,543.284,543.476,0.19200000000000728,\\r\\n67,547.034,547.271,0.23699999999996635,\\r\\n68,550.17,550.294,0.12400000000002365,\\r\\n69,553.788,553.917,0.1290000000000191,\\r\\n70,554.763,555.0360000000001,0.27300000000002456,\\r\\n71,563.53,563.695,0.1650000000000773,\\r\\n72,566.97,567.256,0.2859999999999445,\\r\\n73,567.918,568.093,0.17499999999995453,\\r\\n74,573.824,574.014,0.19000000000005457,\\r\\n75,577.3770000000001,577.532,0.15499999999997272,\\r\\n76,585.466,585.687,0.22100000000000364,\\r\\n77,592.663,593.003,0.34000000000003183,\\r\\n78,594.552,594.77,0.2179999999999609,\\r\\n79,598.635,598.773,0.13800000000003365,\\r\\n80,600.773,600.884,0.11099999999999,\\r\\n81,602.885,603.118,0.23300000000006094,\\r\\n82,611.827,611.943,0.11599999999998545,\\r\\n83,615.653,615.794,0.1409999999999627,\\r\\n84,618.146,618.355,0.20900000000006003,\\r\\n85,624.298,624.426,0.12800000000004275,\\r\\n86,627.626,627.794,0.16800000000000637,\\r\\n87,645.028,645.294,0.2659999999999627,\\r\\n88,657.562,657.87,0.3079999999999927,\\r\\n89,660.967,661.351,0.38400000000001455,\\r\\n90,667.472,667.705,0.23300000000006094,\\r\\n91,672.054,672.269,0.21500000000003183,\\r\\n92,680.97,681.25,0.2799999999999727,\\r\\n93,689.048,689.25,0.20199999999999818,\\r\\n94,694.205,694.418,0.21299999999996544,\\r\\n95,695.519,695.662,0.1430000000000291,\\r\\n96,702.464,702.664,0.1999999999999318,\\r\\n97,703.864,704.014,0.14999999999997726,\\r\\n98,707.251,707.468,0.21699999999998454,\\r\\n99,708.61,708.7470000000001,0.1370000000000573,\\r\\n100,713.5260000000001,713.785,0.25899999999990087,\\r\\n101,718.119,718.242,0.1229999999999336,\\r\\n102,721.128,721.293,0.16499999999996362,\\r\\n103,731.023,731.184,0.16099999999994452,\\r\\n104,732.316,732.541,0.22500000000002274,\\r\\n105,745.001,745.157,0.15600000000006276,\\r\\n106,762.33,762.52,0.18999999999994088,\\r\\n107,770.556,770.745,0.18899999999996453,\\r\\n108,772.206,772.5310000000001,0.3250000000000455,\\r\\n109,777.561,778.465,0.9039999999999964,\\r\\n110,788.6220000000001,788.783,0.16099999999994452,\\r\\n111,794.7810000000001,795.014,0.23299999999994725,\\r\\n112,803.999,804.3000000000001,0.30100000000004457,\\r\\n113,806.559,806.687,0.12800000000004275,\\r\\n114,807.407,807.7570000000001,0.35000000000002274,\\r\\n115,812.899,813.029,0.12999999999999545,\\r\\n116,815.054,815.168,0.11400000000003274,\\r\\n117,819.519,819.628,0.10900000000003729,\\r\\n118,820.695,821.0310000000001,0.33600000000001273,\\r\\n119,828.7810000000001,829.119,0.33799999999996544,\\r\\n120,831.056,831.375,0.31899999999996,\\r\\n121,833.678,833.813,0.1349999999999909,\\r\\n122,837.658,838.614,0.9560000000000173,\\r\\n123,861.128,861.3720000000001,0.2440000000000282,\\r\\n124,863.915,864.186,0.27100000000007185,\\r\\n125,876.171,876.3720000000001,0.20100000000002183,\\r\\n126,881.962,882.1800000000001,0.21800000000007458,\\r\\n127,890.326,890.4540000000001,0.12800000000004275,\\r\\n128,892.698,892.89,0.19200000000000728,\\r\\n129,908.196,908.415,0.21899999999993724,\\r\\n130,919.932,920.143,0.21100000000001273,\\r\\n131,935.4590000000001,935.706,0.24699999999995725,\\r\\n132,939.331,939.485,0.15399999999999636,\\r\\n133,943.789,944.022,0.23300000000006094,\\r\\n134,965.4590000000001,965.745,0.2859999999999445,\\r\\n135,981.674,981.91,0.23599999999999,\\r\\n136,983.785,984.0020000000001,0.21700000000009823,\\r\\n137,1016.335,1016.476,0.1409999999999627,\\r\\n138,1017.761,1017.957,0.19600000000002638,\\r\\n139,1029.26,1029.422,0.16200000000003456,\\r\\n140,1030.044,1030.194,0.14999999999986358,\\r\\n141,1037.156,1037.432,0.2760000000000673,\\r\\n142,1045.623,1045.782,0.15899999999987813,\\r\\n143,1046.897,1047.448,0.5510000000001583,\\r\\n144,1049.864,1050.067,0.20299999999997453,\\r\\n145,1063.924,1064.159,0.23500000000012733,\\r\\n146,1068.26,1068.577,0.3170000000000073,\\r\\n147,1081.695,1081.827,0.13200000000006185,\\r\\n148,1083.282,1083.494,0.21199999999998909,\\r\\n149,1085.09,1085.301,0.21100000000001273,\\r\\n150,1104.819,1105.198,0.3790000000001328,\\r\\n151,1111.363,1111.74,0.3769999999999527,\\r\\n152,1134.018,1134.199,0.18100000000004002,\\r\\n153,1136.71,1136.9,0.19000000000005457,\\r\\n154,1142.528,1142.748,0.22000000000002728,\\r\\n155,1181.758,1181.904,0.14599999999995816,\\r\\n156,1189.151,1189.278,0.1269999999999527,\\r\\n157,1194.279,1194.549,0.2699999999999818,\\r\\n158,1224.21,1224.3790000000001,0.1690000000000964,\\r\\n159,1228.653,1228.82,0.16699999999991633,\\r\\n160,1230.519,1230.699,0.18000000000006366,\\r\\n161,1233.843,1233.9470000000001,0.10400000000004184,\\r\\n162,1239.08,1239.25,0.17000000000007276,\\r\\n163,1240.618,1240.72,0.10200000000008913,\\r\\n164,1250.0240000000001,1250.147,0.12299999999981992,\\r\\n165,1253.343,1253.536,0.19299999999998363,\\r\\n166,1256.728,1256.932,0.2039999999999509,\\r\\n167,1266.395,1266.71,0.31500000000005457,\\r\\n168,1276.409,1276.555,0.14599999999995816,\\r\\n169,1304.038,1304.228,0.19000000000005457,\\r\\n170,1313.451,1313.576,0.125,\\r\\n171,1316.15,1316.39,0.2400000000000091,\\r\\n172,1317.462,1317.6580000000001,0.19600000000014006,\\r\\n173,1337.51,1337.741,0.23099999999999454,\\r\\n174,1359.215,1359.346,0.1310000000000855,\\r\\n175,1367.954,1368.069,0.1150000000000091,\\r\\n176,1377.606,1377.751,0.1449999999999818,\\r\\n177,1388.288,1389.159,0.8710000000000946,\\r\\n178,1390.621,1390.917,0.29599999999982174,\\r\\n179,1393.832,1393.993,0.16099999999983083,\\r\\n180,1428.15,1428.432,0.2819999999999254,\\r\\n181,1429.087,1429.238,0.1510000000000673,\\r\\n182,1441.0,1441.124,0.12400000000002365,\\r\\n183,1453.997,1454.2920000000001,0.29500000000007276,\\r\\n184,1464.442,1464.605,0.16300000000001091,\\r\\n185,1467.941,1468.257,0.3160000000000309,\\r\\n186,1473.903,1474.051,0.14799999999991087,\\r\\n187,1500.933,1501.179,0.2460000000000946,\\r\\n188,1508.7930000000001,1509.09,0.2969999999997981,\\r\\n189,1510.001,1510.19,0.18900000000007822,\\r\\n190,1514.893,1515.008,0.1150000000000091,\\r\\n191,1517.015,1517.209,0.19399999999995998,\\r\\n192,1525.5430000000001,1525.7,0.15699999999992542,\\r\\n193,1528.416,1528.553,0.13700000000017099,\\r\\n194,1544.021,1544.2250000000001,0.20400000000017826,\\r\\n195,1558.1290000000001,1558.4170000000001,0.2880000000000109,\\r\\n196,1561.311,1561.509,0.19800000000009277,\\r\\n197,1584.151,1584.343,0.19200000000000728,\\r\\n198,1609.8700000000001,1610.194,0.32399999999984175,\\r\\n199,1624.631,1624.739,0.10799999999994725,\\r\\n200,1627.07,1627.257,0.1870000000001255,\\r\\n201,1643.512,1643.777,0.26500000000010004,\\r\\n202,1714.259,1714.422,0.16300000000001091,\\r\\n203,1715.307,1715.49,0.18299999999999272,\\r\\n204,1729.6870000000001,1729.806,0.11899999999991451,\\r\\n205,1730.93,1731.099,0.16899999999986903,\\r\\n\"\"\")\n",
    "test_epochs_df = pd.read_csv(example_epoch_data_csv_string, sep=\",\")\n",
    "test_epochs_df\n",
    "\n",
    "# Load the saved .h5 spikes dataframe for testing:\n",
    "# finalized_output_cache_file='../../pipeline_cache_store.h5'\n",
    "finalized_output_cache_file = data_output_directory.joinpath('pipeline_cache_store.h5') # '../../data/pipeline_cache_store.h5'\n",
    "active_config_name = 'maze1'\n",
    "desired_spikes_df_key = f'/filtered_sessions/{active_config_name}/spikes_df'\n",
    "desired_positions_df_key = f'/filtered_sessions/{active_config_name}/pos_df'\n",
    "spikes_df = pd.read_hdf(finalized_output_cache_file, key=desired_spikes_df_key)\n",
    "pos_df = pd.read_hdf(finalized_output_cache_file, key=desired_positions_df_key)"
   ]
  },
  {
   "cell_type": "code",
   "execution_count": 2,
   "id": "044195da-5ff3-48b7-91f1-ec559c5b8f07",
   "metadata": {},
   "outputs": [],
   "source": [
    "from pyphoplacecellanalysis.GUI.PyQtPlot.Widgets.SpikeRasterWidgets.SpikeRasterBase import SpikeRasterBase\n",
    "from pyphoplacecellanalysis.GUI.PyQtPlot.Widgets.SpikeRasterWidgets.Spike2DRaster import Spike2DRaster\n",
    "from pyphoplacecellanalysis.GUI.PyQtPlot.Widgets.SpikeRasterWidgets.Spike3DRaster import Spike3DRaster\n",
    "from pyphoplacecellanalysis.GUI.PyQtPlot.Widgets.SpikeRasterWidgets.Spike3DRaster_Vedo import Spike3DRaster_Vedo"
   ]
  },
  {
   "cell_type": "code",
   "execution_count": null,
   "id": "6c890b87-92a8-42a7-b2ca-bac22155626c",
   "metadata": {},
   "outputs": [],
   "source": [
    "# \"\"\"Color lines by a scalar\n",
    "# Click the lines to get their lenghts\"\"\"\n",
    "# pts1 = [(sin(x/8), cos(x/8), x/5) for x in range(25)]\n",
    "# l1 = Line(pts1).c('black')\n",
    "# l2 = l1.clone().rotateZ(180).shift(1,0,0)\n",
    "\n",
    "# dist = mag(l1.points()-l2.points())  # make up some scalar values\n",
    "\n",
    "# # The trick here is to think that the \"body\" of a line is a cell\n",
    "# # so we can color cells as we do for any other polygonal mesh:\n",
    "# lines = Lines(l1, l2).lw(8).cmap('Accent', dist, on='cells').addScalarBar('length')\n",
    "\n",
    "# def clickfunc(evt):\n",
    "#     if evt.actor:\n",
    "#         idl = evt.actor.closestPoint(evt.picked3d, returnCellId=True)\n",
    "#         print('clicked line', idl, 'length =', precision(dist[idl],3))\n",
    "\n",
    "# plt = Plotter(axes=1, bg2='lightblue')\n",
    "# plt.addCallback('mouse click', clickfunc)\n",
    "# plt.show(l1,l2, lines, __doc__, viewup='z').close()"
   ]
  },
  {
   "cell_type": "markdown",
   "id": "c954cfea-9540-4f45-81b9-08b5fbb6c2b3",
   "metadata": {
    "jp-MarkdownHeadingCollapsed": true,
    "tags": []
   },
   "source": [
    "# Examples"
   ]
  },
  {
   "cell_type": "code",
   "execution_count": null,
   "id": "3d3d9377-52d8-451e-823e-192448ebcb17",
   "metadata": {},
   "outputs": [],
   "source": [
    "settings.allowInteraction = 1"
   ]
  },
  {
   "cell_type": "code",
   "execution_count": null,
   "id": "efe5e1a9-a22e-4959-8866-2eeeb2d16311",
   "metadata": {},
   "outputs": [],
   "source": [
    "\"\"\"Customizing axes style\n",
    "(40+ control parameters!)\n",
    "Title font: \"\"\"\n",
    "from vedo import Box, Lines, Points, Spline, show, settings\n",
    "\n",
    "settings.defaultFont = 'Theemim'\n",
    "\n",
    "# an invisible box:\n",
    "world = Box(pos=(2.7,0,0), size=(12,10,8), alpha=0)\n",
    "\n",
    "# a dummy spline with its shadow on the xy plane\n",
    "pts = Points([(-2,-3.2,-1.5), (3,-1.2,-2), (7,3,4)], r=12)\n",
    "spl = Spline(pts, res=50).addShadow(plane='z', point=-4) # make spline and add its shadow at z=-4\n",
    "lns = Lines(spl, spl.shadows[0])                         # join spline points with its own shadow\n",
    "\n",
    "# make a dictionary of axes options\n",
    "axes_opts = dict(\n",
    "    xtitle='My variable \\Omega^\\lowerxi_lm  in units of \\mum^3', # latex-style syntax\n",
    "    ytitle='This is my highly\\ncustomized y-axis',\n",
    "    ztitle='z in units of Å', # many unicode chars are supported (type: vedo -r fonts)\n",
    "    yValuesAndLabels=[(-3.2,'Mark^a_-3.2'), (-1.2,'Carmen^b_-1.2'), (3,'John^c_3')],\n",
    "    textScale=1.3,       # make all text 30% bigger\n",
    "    numberOfDivisions=5, # approximate number of divisions on longest axis\n",
    "    axesLineWidth= 2,\n",
    "    gridLineWidth= 1,\n",
    "    zxGrid2=True,        # show zx plane on opposite side of the bounding box\n",
    "    yzGrid2=True,        # show yz plane on opposite side of the bounding box\n",
    "    xyPlaneColor='green7',\n",
    "    xyGridColor='dg',    # darkgreen line color\n",
    "    xyAlpha=0.2,         # grid opacity\n",
    "    xTitlePosition=0.5,  # title fractional positions along axis\n",
    "    xTitleJustify=\"top-center\", # align title wrt to its axis\n",
    "    yTitleSize=0.02,\n",
    "    yTitleBox=True,\n",
    "    yTitleOffset=0.05,\n",
    "    yLabelOffset=0.4,\n",
    "    yHighlightZero=True, # draw a line highlighting zero position if in range\n",
    "    yHighlightZeroColor='red',\n",
    "    zLineColor='blue',\n",
    "    zTitleColor='blue',\n",
    "    zTitleBackfaceColor='v', # violet color of axis title backface\n",
    "    labelFont=\"Quikhand\",\n",
    "    yLabelSize=0.025,    # size of the numeric labels along Y axis\n",
    "    yLabelColor='dg',    # color of the numeric labels along Y axis\n",
    ")\n",
    "\n",
    "show(world, pts, spl, lns, __doc__+settings.defaultFont, axes=axes_opts).close()"
   ]
  },
  {
   "cell_type": "code",
   "execution_count": null,
   "id": "a6f408b7-c0c7-4cfe-ad53-edb73f8eaca9",
   "metadata": {},
   "outputs": [],
   "source": [
    "# Plot a volume evolution in time\n",
    "# Credits: https://github.com/edmontz\n",
    "import numpy as np\n",
    "from scipy.fftpack import fftn, fftshift\n",
    "from vedo import Volume, ProgressBar, show, settings\n",
    "\n",
    "settings.allowInteraction = True\n",
    "\n",
    "def f(x, y, z, t):\n",
    "    r = np.sqrt(x*x + y*y + z*z + 2*t*t) + 0.1\n",
    "    return np.sin(9*np.pi * r)/r\n",
    "\n",
    "n = 64\n",
    "qn = 50\n",
    "vol = np.zeros((n, n, n))\n",
    "n1 = int(n/2)\n",
    "\n",
    "pb = ProgressBar(0, qn, c=\"r\")\n",
    "for q in pb.range():\n",
    "    pb.print()\n",
    "\n",
    "    t = 2 * q / qn - 1\n",
    "    for k in range(n1):\n",
    "        z = 2 * k / n1 - 1\n",
    "        for j in range(n1):\n",
    "            y = 2 * j / n1 - 1\n",
    "            for i in range(n1):\n",
    "                x = 2 * i / n1 - 1\n",
    "                vol[i, j, k] = f(x, y, z, t)\n",
    "    volf = fftn(vol)\n",
    "    volf = fftshift(abs(volf))\n",
    "    volf = np.log(12*volf/volf.max()+ 1) / 2.5\n",
    "\n",
    "    vb = Volume(volf).mode(1).c(\"rainbow\").alpha([0, 0.8, 1])\n",
    "    plt = show(vb, bg=\"black\", axes=1, viewup='z', interactive=False)\n",
    "    if plt.escaped: break  # ESC button was hit\n",
    "\n",
    "plt.interactive().close()"
   ]
  },
  {
   "cell_type": "code",
   "execution_count": null,
   "id": "ebf777f9-92e5-481d-965b-b635bc656b7d",
   "metadata": {},
   "outputs": [],
   "source": [
    "\"\"\"Render meshes into inset windows\n",
    "(which can be dragged)\"\"\"\n",
    "from vedo import *\n",
    "\n",
    "plt = Plotter(bg2='bisque', size=(1000,800), interactive=False)\n",
    "\n",
    "e = Volume(dataurl+\"embryo.tif\").isosurface()\n",
    "e.normalize().shift(-2,-1.5,-2).c(\"gold\")\n",
    "\n",
    "plt.show(e, __doc__, viewup='z')\n",
    "\n",
    "# make clone copies of the embryo surface and cut them:\n",
    "e1 = e.clone().cutWithPlane(normal=[0,1,0]).c(\"green\")\n",
    "e2 = e.clone().cutWithPlane(normal=[1,0,0]).c(\"red\")\n",
    "\n",
    "# add 2 draggable inset windows:\n",
    "plt.addInset(e1, pos=(0.9,0.8))\n",
    "plt.addInset(e2, pos=(0.9,0.5))\n",
    "\n",
    "# customised axes can also be inserted:\n",
    "ax = Axes(xrange=(0,1), yrange=(0,1), zrange=(0,1),\n",
    "          xtitle='front', ytitle='left', ztitle='head',\n",
    "          yzGrid=False, xTitleSize=0.15, yTitleSize=0.15, zTitleSize=0.15,\n",
    "          xLabelSize=0, yLabelSize=0, zLabelSize=0, tipSize=0.05,\n",
    "          axesLineWidth=2, xLineColor='dr', yLineColor='dg', zLineColor='db',\n",
    "          xTitleOffset=0.05, yTitleOffset=0.05, zTitleOffset=0.05,\n",
    ")\n",
    "\n",
    "ex = e.clone().scale(0.25).pos(0,0.1,0.1).alpha(0.1).lighting('off')\n",
    "plt.addInset(ax, ex, pos=(0.1,0.1), size=0.15, draggable=False)\n",
    "plt.interactive().close()"
   ]
  },
  {
   "cell_type": "markdown",
   "id": "85407a44-de35-4b9f-8b9d-7085a2ed3fa2",
   "metadata": {
    "jp-MarkdownHeadingCollapsed": true,
    "tags": []
   },
   "source": [
    "# Personal Experimentation"
   ]
  },
  {
   "cell_type": "markdown",
   "id": "7e702f9c-fef7-4bc8-bde0-5d96754d847f",
   "metadata": {
    "tags": []
   },
   "source": [
    "# Pure-Vedo (no Polyscope) Testing"
   ]
  },
  {
   "cell_type": "markdown",
   "id": "fb141a87-3e9a-4a28-9f75-8040941babf1",
   "metadata": {},
   "source": [
    "# Build the UnifiedSpikeRasterApp:"
   ]
  },
  {
   "cell_type": "code",
   "execution_count": 3,
   "id": "1de25afa-9984-42c6-a51d-a116574ca10c",
   "metadata": {
    "scrolled": true,
    "tags": []
   },
   "outputs": [
    {
     "name": "stdout",
     "output_type": "stream",
     "text": [
      "window_duration=30.0, window_start_time=100.0, neuron_colors=None, neuron_sort_order=None\n"
     ]
    },
    {
     "data": {
      "text/plain": [
       "<pyphoplacecellanalysis.GUI.PyQtPlot.Widgets.SpikeRasterWidgets.spike_raster_widgets.UnifiedSpikeRasterApp at 0x1e1b53c0d30>"
      ]
     },
     "execution_count": 3,
     "metadata": {},
     "output_type": "execute_result"
    }
   ],
   "source": [
    "from pyphoplacecellanalysis.GUI.PyQtPlot.Widgets.SpikeRasterWidgets.spike_raster_widgets import UnifiedSpikeRasterApp\n",
    "\n",
    "window_duration = 30.0\n",
    "window_start_time = 100.0\n",
    "neuron_colors = None\n",
    "neuron_sort_order=None\n",
    "print(f'window_duration={window_duration}, window_start_time={window_start_time}, neuron_colors=None, neuron_sort_order=None')\n",
    "\n",
    "# Initialize the Main App:\n",
    "spike_raster_unified_app = UnifiedSpikeRasterApp(spikes_df, core_app_name='UnifiedSpikeRasterApp_Testing', window_duration=window_duration, window_start_time=window_start_time, neuron_colors=neuron_colors, neuron_sort_order=neuron_sort_order)\n",
    "spike_raster_unified_app\n",
    "\n",
    "# spike_raster_plt_3d_vedo, spike_raster_plt_2d, spike_3d_to_2d_window_connection = build_spike_3d_raster_vedo_with_2d_controls(spikes_df, window_duration=window_duration, window_start_time=window_start_time, neuron_colors=neuron_colors, neuron_sort_order=neuron_sort_order)"
   ]
  },
  {
   "cell_type": "markdown",
   "id": "2c724c76-a84d-4e45-abc8-251dc056dc77",
   "metadata": {
    "pycharm": {
     "is_executing": false,
     "name": "#%%\n"
    }
   },
   "source": [
    "## Build the Desired App-DEPENDENT Plotters:"
   ]
  },
  {
   "cell_type": "code",
   "execution_count": 4,
   "id": "0c92cc61-1cc0-4bae-afda-86a3bb0ed959",
   "metadata": {
    "pycharm": {
     "is_executing": false,
     "name": "#%%\n"
    }
   },
   "outputs": [
    {
     "name": "stdout",
     "output_type": "stream",
     "text": [
      "\t\t raster_plotter.unit_ids: [ 0  1  2  3  5  6  7  8  9 10 12 15 16 19 20 21 22 23 24 25 26 27 31 32\n",
      " 36 37 40 42 43 44 45 46 51 53 55 56 59 60 61 62] (len: 40)\n",
      " \t\t raster_plotter.cell_ids: [ 2  3  4  5  7  8  9 10 11 12 14 17 18 21 22 23 24 25 26 27 28 29 33 34\n",
      " 38 39 42 44 45 46 47 48 53 55 57 58 61 62 63 64] (len: 40)\n",
      "\t\t new_neuron_IDXs: [0, 1, 2, 3, 4, 5, 6, 7, 8, 9, 10, 11, 12, 13, 14, 15, 16, 17, 18, 19, 20, 21, 22, 23, 24, 25, 26, 27, 28, 29, 30, 31, 32, 33, 34, 35, 36, 37, 38, 39] (len(new_neuron_IDXs): 40)\n",
      "WARNING: raster_plotter.enable_overwrite_invalid_unit_ids is True, so dataframe 'unit_id' and 'cell_idx' will be overwritten!\n",
      "WARNING: self.enable_overwrite_invalid_unit_ids is True, so dataframe 'unit_id' and 'cell_idx' will be overwritten!\n",
      "\t computed included_cell_INDEXES.\n",
      "\t set spikes_df['unit_id']\n",
      "\t set spikes_df['cell_idx']\n",
      "\t done updating 'unit_id' and 'cell_idx'.\n",
      "Spike2DRaster.setup(): adding \"visualization_raster_y_location\" column to spikes_df...\n",
      "done.\n"
     ]
    }
   ],
   "source": [
    "### Single App-DEPENDENT Spike2DRaster Plotter:\n",
    "spike_raster_plt_2d = Spike2DRaster.init_from_unified_spike_raster_app(spike_raster_unified_app)"
   ]
  },
  {
   "cell_type": "code",
   "execution_count": 5,
   "id": "7ed1e669-cf5c-4bcd-91dd-e074f289c2f6",
   "metadata": {
    "pycharm": {
     "is_executing": false,
     "name": "#%%\n"
    }
   },
   "outputs": [
    {
     "name": "stdout",
     "output_type": "stream",
     "text": [
      "onClose()\n",
      "debug_print_instance_info():\n",
      "\t.applicationName: Spike2DRaster\n",
      "\t.windowName: Spike2DRaster\n",
      "\n",
      "\t\t raster_plotter.unit_ids: [ 0  1  2  3  4  5  6  7  8  9 10 11 12 13 14 15 16 17 18 19 20 21 22 23\n",
      " 24 25 26 27 28 29 30 31 32 33 34 35 36 37 38 39] (len: 40)\n",
      " \t\t raster_plotter.cell_ids: [ 2  3  4  5  7  8  9 10 11 12 14 17 18 21 22 23 24 25 26 27 28 29 33 34\n",
      " 38 39 42 44 45 46 47 48 53 55 57 58 61 62 63 64] (len: 40)\n",
      "\t\t new_neuron_IDXs: [0, 1, 2, 3, 4, 5, 6, 7, 8, 9, 10, 11, 12, 13, 14, 15, 16, 17, 18, 19, 20, 21, 22, 23, 24, 25, 26, 27, 28, 29, 30, 31, 32, 33, 34, 35, 36, 37, 38, 39] (len(new_neuron_IDXs): 40)\n",
      "WARNING: raster_plotter.enable_overwrite_invalid_unit_ids is True, so dataframe 'unit_id' and 'cell_idx' will be overwritten!\n",
      "WARNING: self.enable_overwrite_invalid_unit_ids is True, so dataframe 'unit_id' and 'cell_idx' will be overwritten!\n",
      "\t computed included_cell_INDEXES.\n",
      "\t set spikes_df['unit_id']\n",
      "\t set spikes_df['cell_idx']\n",
      "\t done updating 'unit_id' and 'cell_idx'.\n"
     ]
    }
   ],
   "source": [
    "### Single App-DEPENDENT Spike3DRaster Plotter:\n",
    "spike_raster_plt_3d = Spike3DRaster.init_from_unified_spike_raster_app(spike_raster_unified_app)"
   ]
  },
  {
   "cell_type": "code",
   "execution_count": 9,
   "id": "32280ccf-c645-44a7-b8ec-b521d7fdabc4",
   "metadata": {
    "pycharm": {
     "is_executing": false,
     "name": "#%%\n"
    }
   },
   "outputs": [
    {
     "name": "stdout",
     "output_type": "stream",
     "text": [
      "onClose()\n",
      "debug_print_instance_info():\n",
      "\t.applicationName: Spike2DRaster\n",
      "\t.windowName: Spike2DRaster\n",
      "\n",
      "onClose()\n",
      "debug_print_instance_info():\n",
      "\t.applicationName: Spike3DRaster\n",
      "\t.windowName: Spike3DRaster\n",
      "\n",
      "\t\t raster_plotter.unit_ids: [ 0  1  2  3  4  5  6  7  8  9 10 11 12 13 14 15 16 17 18 19 20 21 22 23\n",
      " 24 25 26 27 28 29 30 31 32 33 34 35 36 37 38 39] (len: 40)\n",
      " \t\t raster_plotter.cell_ids: [ 2  3  4  5  7  8  9 10 11 12 14 17 18 21 22 23 24 25 26 27 28 29 33 34\n",
      " 38 39 42 44 45 46 47 48 53 55 57 58 61 62 63 64] (len: 40)\n",
      "\t\t new_neuron_IDXs: [0, 1, 2, 3, 4, 5, 6, 7, 8, 9, 10, 11, 12, 13, 14, 15, 16, 17, 18, 19, 20, 21, 22, 23, 24, 25, 26, 27, 28, 29, 30, 31, 32, 33, 34, 35, 36, 37, 38, 39] (len(new_neuron_IDXs): 40)\n",
      "WARNING: raster_plotter.enable_overwrite_invalid_unit_ids is True, so dataframe 'unit_id' and 'cell_idx' will be overwritten!\n",
      "WARNING: self.enable_overwrite_invalid_unit_ids is True, so dataframe 'unit_id' and 'cell_idx' will be overwritten!\n",
      "\t computed included_cell_INDEXES.\n",
      "\t set spikes_df['unit_id']\n",
      "\t set spikes_df['cell_idx']\n",
      "\t done updating 'unit_id' and 'cell_idx'.\n",
      "debug_print_axes_locations(...): Active Window/Local Properties:\n",
      "\t(active_t_start: 218.4679224421332, active_t_end: 248.4679224421332), active_window_t_duration: 30.0\n",
      "\t(active_x_start: 3427.808081428907, active_x_end: 3952.0289778537694), active_x_length: 524.2208964248625\n",
      "debug_print_axes_locations(...): Global Data Properties:\n",
      "\t(global_start_t: 22.30206346133491, global_end_t: 1739.1355703625595), global_total_data_duration: 1716.8335069012246 (seconds)\n",
      "\ttotal_data_duration_minutes: 28.0\n",
      "\t(global_x_start: 0.0, global_x_end: 30000.0), global_total_x_length: 30000.0\n",
      "00:00:22:302063\n",
      "00:01:22:302063\n",
      "00:02:22:302063\n",
      "00:03:22:302063\n",
      "00:04:22:302063\n",
      "00:05:22:302063\n",
      "00:06:22:302063\n",
      "00:07:22:302063\n",
      "00:08:22:302063\n",
      "00:09:22:302063\n",
      "00:10:22:302063\n",
      "00:11:22:302063\n",
      "00:12:22:302063\n",
      "00:13:22:302063\n",
      "00:14:22:302063\n",
      "00:15:22:302063\n",
      "00:16:22:302063\n",
      "00:17:22:302063\n",
      "00:18:22:302063\n",
      "00:19:22:302063\n",
      "00:20:22:302063\n",
      "00:21:22:302063\n",
      "00:22:22:302063\n",
      "00:23:22:302063\n",
      "00:24:22:302063\n",
      "00:25:22:302063\n",
      "00:26:22:302063\n",
      "00:27:22:302063\n",
      "00:28:22:302063\n",
      "onClose()\n",
      "debug_print_instance_info():\n",
      "\t.applicationName: Spike2DRaster\n",
      "\t.windowName: Spike2DRaster\n",
      "\n",
      "onClose()\n",
      "debug_print_instance_info():\n",
      "\t.applicationName: Spike3DRaster\n",
      "\t.windowName: Spike3DRaster\n",
      "\n",
      "vedo override - onClose()\n",
      "debug_print_instance_info():\n",
      "\t.applicationName: Spike3DRaster_Vedo\n",
      "\t.windowName: Spike3DRaster_Vedo\n",
      "\n",
      "..calling onClose\n"
     ]
    }
   ],
   "source": [
    "### Single App-DEPENDENT Spike3DRaster_Vedo Plotter:\n",
    "spike_raster_plt_3d_vedo = Spike3DRaster_Vedo.init_from_unified_spike_raster_app(spike_raster_unified_app)"
   ]
  },
  {
   "cell_type": "code",
   "execution_count": 10,
   "id": "67bc1d11-0a58-4beb-a05c-9dc8b6d913d4",
   "metadata": {
    "pycharm": {
     "is_executing": false,
     "name": "#%%\n"
    }
   },
   "outputs": [
    {
     "name": "stdout",
     "output_type": "stream",
     "text": [
      "SpikeRasterBase.on_window_changed(start_t: 318.46792244213316, end_t: 348.46792244213316)\n",
      "Spike3DRaster_Vedo._update_plots()\n",
      "debug_print_axes_locations(...): Active Window/Local Properties:\n",
      "\t(active_t_start: 318.46792244213316, active_t_end: 348.46792244213316), active_window_t_duration: 30.0\n",
      "\t(active_x_start: 5175.211069511781, active_x_end: 5699.431965936643), active_x_length: 524.2208964248621\n",
      "Window closed\n",
      "Window closed\n",
      "Window closed\n"
     ]
    }
   ],
   "source": [
    "# spike_raster_unified_app.spikes_window.active_time_window[0]\n",
    "spike_raster_unified_app.spikes_window.update_window_start(spike_raster_unified_app.spikes_window.active_time_window[0] + 100.0) # Test a constant offset to see if the other plots move when this does!\n",
    "# spike_raster_unified_app.spikes_window.update_window_start_end(spike_raster_unified_app.spikes_window.active_time_window[0], spike_raster_unified_app.spikes_window.active_time_window[1])\n"
   ]
  },
  {
   "cell_type": "code",
   "execution_count": null,
   "id": "f9aed20a-a36a-48f9-9071-b94dd3878bc7",
   "metadata": {
    "scrolled": true,
    "tags": []
   },
   "outputs": [],
   "source": [
    "# spike_raster_plt_3d_vedo.animation_playback_direction_multiplier\n",
    "# spike_raster_plt_3d_vedo.animation_time_step\n",
    "# spike_raster_plt_3d_vedo.animationThread # missing\n",
    "\n",
    "# hex(id(spike_raster_plt_3d_vedo.spikes_window)) # '0x1fb7a3568b0'\n",
    "# hex(id(spike_raster_plt_2d.spikes_window)) # '0x1fb006e71f0'\n",
    "debug_print_base_raster_plotter_info(spike_raster_plt_3d_vedo)\n",
    "debug_print_base_raster_plotter_info(spike_raster_plt_2d)"
   ]
  },
  {
   "cell_type": "code",
   "execution_count": null,
   "id": "55dac99f-7982-4412-8d30-e896b1007810",
   "metadata": {
    "scrolled": true,
    "tags": []
   },
   "outputs": [],
   "source": [
    "def _test_on_close_fn(env):\n",
    "    print('_test_on_close_fn(...)!')\n",
    "\n",
    "curr_app = spike_raster_plt_3d_vedo.app\n",
    "curr_app.aboutToQuit.connect(_test_on_close_fn) # Connect the onClose event"
   ]
  },
  {
   "cell_type": "markdown",
   "id": "d4350482-10f3-4197-91f6-60d1321ec777",
   "metadata": {
    "pycharm": {
     "is_executing": false,
     "name": "#%%\n"
    }
   },
   "source": [
    "# UnifiedSpikeRasterApp Version"
   ]
  },
  {
   "cell_type": "code",
   "execution_count": null,
   "id": "8012b13a-62a9-40dc-b5aa-367ee59a0ae5",
   "metadata": {
    "pycharm": {
     "is_executing": false,
     "name": "#%%\n"
    }
   },
   "outputs": [],
   "source": [
    "# spike_raster_unified_app.animationThread\n",
    "hex(id(spike_raster_unified_app.spikes_window)) # '0x1fb8f1e5e50'\n"
   ]
  },
  {
   "cell_type": "code",
   "execution_count": null,
   "id": "8898c17c-5652-4666-949e-85f8f640ac22",
   "metadata": {
    "pycharm": {
     "is_executing": false,
     "name": "#%%\n"
    }
   },
   "outputs": [],
   "source": [
    "spike_raster_unified_app.animation_time_step\n",
    "spike_raster_unified_app.playback_rate_multiplier"
   ]
  },
  {
   "cell_type": "code",
   "execution_count": null,
   "id": "cefbacf5-b9a0-4957-a1be-f3ff161bf539",
   "metadata": {
    "pycharm": {
     "is_executing": false,
     "name": "#%%\n"
    }
   },
   "outputs": [],
   "source": [
    "spike_raster_unified_app.params # {'name': '', 'playback_update_frequency': 0.04, 'speedBurstPlaybackRate': 16.0, 'is_speed_burst_mode_active': False, 'is_playback_reversed': False, 'animation_time_step': 0.04}\n",
    "# spike_raster_unified_app.spikes_window # have '_time_window_duration_connection', '_time_window_changed_connection'"
   ]
  },
  {
   "cell_type": "code",
   "execution_count": null,
   "id": "7c00c5f4-b6b0-4e5b-b123-495b766999e9",
   "metadata": {
    "pycharm": {
     "is_executing": false,
     "name": "#%%\n"
    }
   },
   "outputs": [],
   "source": [
    "spike_raster_unified_app.spikes_window.timeWindow # <TimeWindow: {'_window_duration': 15.0, '_active_window_start_time': 30.0, 'animationThread': None};>"
   ]
  },
  {
   "cell_type": "code",
   "execution_count": null,
   "id": "23dd8d26-73d9-4b29-8fa7-0c7de123e041",
   "metadata": {
    "pycharm": {
     "is_executing": false,
     "name": "#%%\n"
    }
   },
   "outputs": [],
   "source": [
    "# Perform Initial (one-time) update from source -> controlled:\n",
    "def _connect_synchronized_controlled_plotter(spike_raster_unified_app, controlled_spike_raster_plt):\n",
    "    controlled_spike_raster_plt.spikes_window.update_window_start_end(spike_raster_unified_app.spikes_window.active_time_window[0], spike_raster_unified_app.spikes_window.active_time_window[1])\n",
    "    # Connect to update self when video window playback position changes\n",
    "    sync_connection = spike_raster_unified_app.window_scrolled.connect(controlled_spike_raster_plt.spikes_window.update_window_start_end)\n",
    "    return sync_connection\n",
    "\n",
    "extra_vedo_sync_connection = _connect_synchronized_controlled_plotter(spike_raster_unified_app, spike_raster_plt_3d_vedo)"
   ]
  },
  {
   "cell_type": "code",
   "execution_count": null,
   "id": "c8c1e53d-902f-4f8f-b394-fba1eed5d42f",
   "metadata": {
    "pycharm": {
     "is_executing": false,
     "name": "#%%\n"
    }
   },
   "outputs": [],
   "source": [
    "spike_raster_unified_app.spikes_window.active_time_window # (18.467922442133187, 33.46792244213319)\n",
    "# spike_raster_unified_app.spikes_window.active_window_start_time"
   ]
  },
  {
   "cell_type": "code",
   "execution_count": null,
   "id": "39b6b4f4-9a56-4965-bc7e-1fee705139eb",
   "metadata": {
    "pycharm": {
     "is_executing": false,
     "name": "#%%\n"
    }
   },
   "outputs": [],
   "source": [
    "### Single Spike2DRaster Plotter:\n",
    "spike_raster_plt_2d = Spike2DRaster.init_from_independent_data(curr_spikes_df, window_duration=15.0 * 60.0, window_start_time=30.0, neuron_colors=None)"
   ]
  },
  {
   "cell_type": "markdown",
   "id": "08746fc1-dc91-44f7-8a47-5bfc35dfab4c",
   "metadata": {
    "tags": []
   },
   "source": [
    "### Single Spike3DRaster_Vedo Plotter without 2D controls:"
   ]
  },
  {
   "cell_type": "code",
   "execution_count": null,
   "id": "aa9ea05c-4ab2-4a9c-a5c9-209dffae49fc",
   "metadata": {
    "scrolled": true,
    "tags": []
   },
   "outputs": [],
   "source": [
    "spike_raster_plt_3d_vedo = Spike3DRaster_Vedo(spikes_df, window_duration=window_duration, window_start_time=window_start_time, neuron_colors=neuron_colors, neuron_sort_order=neuron_sort_order)\n",
    "spike_raster_plt_3d_vedo"
   ]
  },
  {
   "cell_type": "code",
   "execution_count": null,
   "id": "76cc718e-f707-407f-a08f-e2277bc7889f",
   "metadata": {},
   "outputs": [],
   "source": [
    "spike_raster_plt_3d_vedo.spikes_df"
   ]
  },
  {
   "cell_type": "code",
   "execution_count": null,
   "id": "de53301d-aa95-44e6-bba0-e235a5a7723c",
   "metadata": {},
   "outputs": [],
   "source": [
    "DataSeriesToSpatial.build_minute_x_tick_labels(spike_raster_plt_3d_vedo)"
   ]
  },
  {
   "cell_type": "markdown",
   "id": "88d0b81c-1080-42c2-87c3-67e906356551",
   "metadata": {
    "tags": []
   },
   "source": [
    "### Build a simple line plot from the time and speed columns of pos_df:"
   ]
  },
  {
   "cell_type": "code",
   "execution_count": null,
   "id": "409bf500-72a8-4033-93e4-a4d8b407f9df",
   "metadata": {},
   "outputs": [],
   "source": [
    "# pos_df[['t','lin_pos','x','y','speed']].to_numpy()\n",
    "t = pos_df['t'].to_numpy()\n",
    "y = pos_df['speed'].to_numpy() # TODO: should really be 'z', not 'y':\n",
    "# convert from times t to x-values x\n",
    "x = DataSeriesToSpatial.temporal_to_spatial_map(t, spike_raster_plt_3d_vedo.spikes_window.total_data_start_time, spike_raster_plt_3d_vedo.spikes_window.total_data_end_time, spike_raster_plt_3d_vedo.temporal_axis_length, center_mode=spike_raster_plt_3d_vedo.params.center_mode)\n",
    "# x = np.linspace(0,10, 50)\n",
    "# y = np.sin(x)*4\n",
    "pts = np.c_[x,y]\n",
    "\n",
    "line1 = spike_raster_plt_3d_vedo.plots.meshes.get('2d_speed_line_plot', None)\n",
    "if line1 is None:\n",
    "    # create 2 lines and assign some arbitrary rotations\n",
    "    line1 = Spline(pts).lw(3).c('green').legend('speed') # .rotateY(10).rotateX(15)\n",
    "    spike_raster_plt_3d_vedo.plots.meshes['2d_speed_line_plot'] = line1\n",
    "    spike_raster_plt_3d_vedo.ui.plt += line1\n",
    "else:\n",
    "    print(f'warning, mesh line1 already exists. Update it!')\n",
    "    line1.c('green')\n",
    "    \n",
    "\n",
    "spike_raster_plt_3d_vedo.ui.plt.render()"
   ]
  },
  {
   "cell_type": "code",
   "execution_count": null,
   "id": "8a20a5aa-397d-41c0-b6c3-fa81d9ac40c0",
   "metadata": {},
   "outputs": [],
   "source": [
    "(active_t_start, active_t_end, active_window_t_duration), (global_start_t, global_end_t, global_total_data_duration), (active_x_start, active_x_end, active_x_duration), (global_x_start, global_x_end, global_x_duration) = debug_print_axes_locations(spike_raster_plt_3d_vedo)\n",
    "\n",
    "print((active_t_start, active_t_end, active_window_t_duration), (global_start_t, global_end_t, global_total_data_duration), (active_x_start, active_x_end, active_x_duration), (global_x_start, global_x_end, global_x_duration))"
   ]
  },
  {
   "cell_type": "code",
   "execution_count": null,
   "id": "4b304197-3d9f-431b-8961-8ec47b3b12be",
   "metadata": {},
   "outputs": [],
   "source": [
    "spike_raster_plt_3d_vedo.ui.plt.resetCamera()\n",
    "spike_raster_plt_3d_vedo.ui.plt.render()"
   ]
  },
  {
   "cell_type": "code",
   "execution_count": null,
   "id": "f5ddfcb9-a02e-4715-8d3b-bb6ec3176097",
   "metadata": {},
   "outputs": [],
   "source": []
  },
  {
   "cell_type": "code",
   "execution_count": null,
   "id": "198de4a8-b3dd-4909-a7cc-47b291fd012a",
   "metadata": {},
   "outputs": [],
   "source": [
    "'all_spike_lines', 'start_bound_plane', 'end_bound_plane'"
   ]
  },
  {
   "cell_type": "markdown",
   "id": "beb71654-8e78-43bc-8bee-7c1b521a9514",
   "metadata": {
    "jp-MarkdownHeadingCollapsed": true,
    "tags": []
   },
   "source": [
    "## Test Saving Meshes to files:"
   ]
  },
  {
   "cell_type": "code",
   "execution_count": null,
   "id": "ddf3edde-fcab-4642-b968-96b98f8d9e2a",
   "metadata": {},
   "outputs": [],
   "source": [
    "should_save_entire_scene = True\n",
    "entire_scene_save_path = meshes_cache_data_output_directory.joinpath('whole_scene_cache.vtk')\n",
    "\n",
    "should_save_meshes = True\n",
    "# out_file_path = r'C:\\Users\\pho\\repos\\PhoPy3DPositionAnalysis2021\\LibrariesExamples\\Vedo\\mesh_caches'\n",
    "out_file_path = meshes_cache_data_output_directory\n",
    "# out_file_path = './mesh_caches'\n",
    "if should_save_meshes:\n",
    "    saved_mesh_paths = []\n",
    "    for (a_mesh_key, a_mesh) in spike_raster_plt_3d_vedo.plots.meshes.items():\n",
    "        if a_mesh is not None:\n",
    "            if isinstance(a_mesh, vedo.Assembly):\n",
    "                # convert assembly to mesh\n",
    "                print(f'{a_mesh_key} is assembly. converting to mesh...')\n",
    "                unpacked_meshes = a_mesh.unpack() # unpack the assembly\n",
    "                # a_mesh = vedo.merge(a_mesh.meshes)\n",
    "                pass\n",
    "            else:            \n",
    "                \n",
    "                curr_mesh_save_path = meshes_cache_data_output_directory.joinpath(f\"{a_mesh_key}_cache.ply\")\n",
    "                # curr_mesh_save_path = f\"{out_file_path}/{a_mesh_key}_cache.ply\"\n",
    "                print(f'saving {curr_mesh_save_path}...')\n",
    "                a_mesh.write(str(curr_mesh_save_path)) # this saves them so you don't need to recreate\n",
    "                saved_mesh_paths.append(curr_mesh_save_path)\n",
    "\n",
    "    print(f'\\t done. saved_mesh_paths: {saved_mesh_paths}')\n",
    "    \n",
    "    \n",
    "if should_save_entire_scene:\n",
    "    print(f'saving entire scene to {entire_scene_save_path}...')\n",
    "    # spike_raster_plt_3d_vedo.plt.exportWindow()\n",
    "    \n",
    "    spike_raster_plt_3d_vedo.plt.export(filename='scene.npz', binary=False)\n",
    "    spike_raster_plt_3d_vedo.plt.export(filename='scene.x3d', binary=True)\n",
    "    # spike_raster_plt_3d_vedo.plt.write(entire_scene_save_path)\n",
    "    print('\\t done.')"
   ]
  },
  {
   "cell_type": "code",
   "execution_count": null,
   "id": "875a39e5-ebb1-4aa3-aad3-1e1cf1744a11",
   "metadata": {},
   "outputs": [],
   "source": [
    "print(f\"plots.meshes: {list(spike_raster_plt_3d_vedo.plots.meshes.keys())}\")\n",
    "print(f\"type(plots.meshes.values()): {[(k, type(v)) for k, v in list(spike_raster_plt_3d_vedo.plots.meshes.items())]}\")"
   ]
  },
  {
   "cell_type": "markdown",
   "id": "55614b42-01ee-4487-aa01-bd49b47c0c25",
   "metadata": {},
   "source": [
    "## Test Updating Active Window:"
   ]
  },
  {
   "cell_type": "code",
   "execution_count": null,
   "id": "bf5069ec-1c3b-4a7b-9a46-633c9b39ee91",
   "metadata": {},
   "outputs": [],
   "source": [
    "active_window_only_axes = spike_raster_plt_3d_vedo.plots.meshes['active_window_only_axes']\n",
    "# active_window_only_axes.actors"
   ]
  },
  {
   "cell_type": "code",
   "execution_count": null,
   "id": "2945d1a7-18e4-4ba1-98ac-8f6aa0cb05a2",
   "metadata": {},
   "outputs": [],
   "source": [
    "print(f'for assembly object with {len(active_window_only_axes.actors)} child actors: assembly UseBounds: {active_window_only_axes.GetUseBounds()} and actors UseBounds: {recurrsively_get_use_bounds(active_window_only_axes)}')\n",
    "# recurrsively_get_use_bounds(active_window_only_axes) \n"
   ]
  },
  {
   "cell_type": "code",
   "execution_count": null,
   "id": "aa96284d-6f84-4ef4-af03-c81f76e81bf9",
   "metadata": {},
   "outputs": [],
   "source": [
    "all_data_axes = spike_raster_plt_3d_vedo.plots.meshes['all_data_axes']\n",
    "all_data_axes.on()"
   ]
  },
  {
   "cell_type": "code",
   "execution_count": null,
   "id": "111f2f33-9b2d-40e6-b899-b87a7cc5f49f",
   "metadata": {},
   "outputs": [],
   "source": []
  },
  {
   "cell_type": "code",
   "execution_count": null,
   "id": "0c70293c-5276-4142-b7d6-26d1f9e921c4",
   "metadata": {},
   "outputs": [],
   "source": [
    "# active_window_only_axes.on()\n",
    "# recurrsively_apply_use_bounds(active_window_only_axes, False)\n",
    "spike_raster_plt_3d_vedo.ui.plt.resetCamera()\n",
    "spike_raster_plt_3d_vedo.ui.plt.render()"
   ]
  },
  {
   "cell_type": "code",
   "execution_count": null,
   "id": "47d60dff-45ce-4c1f-9c38-c15ce5ab4393",
   "metadata": {},
   "outputs": [],
   "source": [
    "spike_raster_plt_2d.spikes_window.active_time_window"
   ]
  },
  {
   "cell_type": "code",
   "execution_count": null,
   "id": "1764f2fc-ea63-4019-98b2-f9a1889fc850",
   "metadata": {},
   "outputs": [],
   "source": [
    "spike_raster_plt_3d_vedo.shift_animation_frame_val(5)"
   ]
  },
  {
   "cell_type": "code",
   "execution_count": null,
   "id": "0665739a-a7c2-433c-926e-79981d3f0fea",
   "metadata": {},
   "outputs": [],
   "source": [
    "def _perform_step_time_window():\n",
    "    curr_start, curr_end = spike_raster_plt_3d_vedo.spikes_window.active_time_window # (30.0, 45.0)\n",
    "    time_delta_amount = 1.0 # 1 second\n",
    "    updated_start = curr_start + time_delta_amount\n",
    "    spike_raster_plt_3d_vedo.spikes_window.update_window_start(updated_start)\n",
    "    # spike_raster_plt_3d_vedo._update_plots()"
   ]
  },
  {
   "cell_type": "code",
   "execution_count": null,
   "id": "475329f2-b4f8-47bf-b8df-b55972b515be",
   "metadata": {},
   "outputs": [],
   "source": [
    "spike_raster_plt_3d_vedo.plots.meshes.keys()"
   ]
  },
  {
   "cell_type": "code",
   "execution_count": null,
   "id": "cd7299f5-4151-4415-af69-46a4f99032ee",
   "metadata": {},
   "outputs": [],
   "source": [
    "def _update_enabled_endogenous_initial_axes_objects():\n",
    "    all_data_axes = spike_raster_plt_3d_vedo.plots.meshes['all_data_axes']\n",
    "    active_window_only_axes = spike_raster_plt_3d_vedo.plots.meshes['active_window_only_axes']\n",
    "    all_data_axes.useBounds(False)\n",
    "    active_window_only_axes.on()\n",
    "    active_window_only_axes.useBounds(True)\n",
    "    all_data_axes.off()\n",
    "    spike_raster_plt_3d_vedo.ui.plt.resetCamera()\n",
    "    spike_raster_plt_3d_vedo.ui.plt.render()\n",
    "# all_data_axes.actors\n",
    "# spike_raster_plt_3d_vedo.ui.plt.remove(all_data_axes)"
   ]
  },
  {
   "cell_type": "code",
   "execution_count": null,
   "id": "71dcd24b-57ff-4aa8-9051-d6b67b8ecc3f",
   "metadata": {},
   "outputs": [],
   "source": [
    "all_spike_lines = spike_raster_plt_3d_vedo.plots.meshes.get('all_spike_lines', None)\n",
    "all_spike_lines.GetUseBounds()\n",
    "all_spike_lines.bounds() # (0.0, 15000.0, 0.5, 39.5, 0.0, 4.0)\n",
    "all_spike_lines.SetUseBounds(True)"
   ]
  },
  {
   "cell_type": "code",
   "execution_count": null,
   "id": "a9824e0e-f801-47c1-b5ba-c3b479cd0108",
   "metadata": {},
   "outputs": [],
   "source": [
    "start_bound_plane = spike_raster_plt_3d_vedo.plots.meshes.get('start_bound_plane', None)\n",
    "start_bound_plane.GetUseBounds()\n",
    "start_bound_plane.bounds() # (50338.33610888119, 50338.33610888119, 0.0, 43.5, 0.0, 8.0)\n",
    "start_bound_plane.SetUseBounds(False)"
   ]
  },
  {
   "cell_type": "code",
   "execution_count": null,
   "id": "40c32d60-0422-44a6-bcff-53e1a231df7f",
   "metadata": {},
   "outputs": [],
   "source": [
    "end_bound_plane = spike_raster_plt_3d_vedo.plots.meshes.get('end_bound_plane', None)\n",
    "end_bound_plane.GetUseBounds()\n",
    "end_bound_plane.bounds() # (83887.22907852281, 83887.22907852281, 0.0, 43.5, 0.0, 8.0)\n",
    "end_bound_plane.SetUseBounds(False)"
   ]
  },
  {
   "cell_type": "code",
   "execution_count": null,
   "id": "39f12150-7891-4116-87dd-253389ff1a12",
   "metadata": {},
   "outputs": [],
   "source": [
    "all_spike_lines.polydata()\n",
    "all_spike_lines.tomesh()\n",
    "# all_spike_lines.to_mesh()\n",
    "\n",
    "# all_spike_lines.bounds() # (0.0, 15000.0, 0.5, 39.5, 0.0, 4.0)"
   ]
  },
  {
   "cell_type": "code",
   "execution_count": null,
   "id": "c7d87929-4bac-4253-b07d-a4a383038250",
   "metadata": {},
   "outputs": [],
   "source": [
    "def build_updated_new_active_window_axes(spike_raster_plt_3d_vedo):\n",
    "    # builds an updated active window axes\n",
    "    spike_raster_plt_3d_vedo.plots.meshes.get('active_window_only_axes', None).off() # Disable the active_window_only_axes created on initialization in favor of using a custom one.\n",
    "    \n",
    "    new_active_axes = spike_raster_plt_3d_vedo.plots.meshes.get('new_active_axes', None)\n",
    "    if new_active_axes is not None:\n",
    "        spike_raster_plt_3d_vedo.ui.plt.remove(new_active_axes) # remove extant 'new_all_data_axes'\n",
    "        # spike_raster_plt_3d_vedo.ui.plt.render() # remove the old one.\n",
    "        \n",
    "    # Create a new_all_data_axes instance with the updated properties:\n",
    "    new_active_axes = Axes(all_spike_lines, xrange=[0, 15000], c='red', textScale=0.1, gridLineWidth=0.1, axesLineWidth=0.1, xTickLength=0.005*0.1, xTickThickness=0.0025*0.1,\n",
    "                         xValuesAndLabels = new_axes_x_to_time_labels, useGlobal=True)\n",
    "\n",
    "    spike_raster_plt_3d_vedo.plots.meshes['new_active_axes'] = new_active_axes\n",
    "    spike_raster_plt_3d_vedo.ui.plt += new_active_axes\n",
    "    spike_raster_plt_3d_vedo.ui.plt.render()\n",
    "    return new_active_axes # return the updated axes\n",
    "\n",
    "# Call:\n",
    "build_updated_new_active_window_axes(spike_raster_plt_3d_vedo)"
   ]
  },
  {
   "cell_type": "code",
   "execution_count": null,
   "id": "d12e8373-8b89-4ba7-8002-8421082a23cf",
   "metadata": {},
   "outputs": [],
   "source": [
    "new_all_data_axes = spike_raster_plt_3d_vedo.plots.meshes.get('new_all_data_axes', None)\n",
    "if new_all_data_axes is not None:\n",
    "    spike_raster_plt_3d_vedo.ui.plt.remove(new_all_data_axes) # remove extant 'new_all_data_axes'\n",
    "    spike_raster_plt_3d_vedo.ui.plt.render()\n",
    "\n",
    "all_spike_lines = spike_raster_plt_3d_vedo.plots.meshes.get('all_spike_lines', None)\n",
    "# new_all_data_axes = Axes(all_spike_lines, c='white', textScale=0.1, gridLineWidth=0.1, axesLineWidth=0.1, xTickLength=0.005, xTickThickness=0.0025)\n",
    "#  xValuesAndLabels: list of custom tick positions and labels [(pos1, label1), …]\n",
    "# Want to add a tick/label at the x-values corresponding to each minute.\n",
    "(active_t_start, active_t_end, active_window_t_duration), (global_start_t, global_end_t, global_total_data_duration), (active_x_start, active_x_end, active_x_duration), (global_x_start, global_x_end, global_x_duration) = debug_print_axes_locations(spike_raster_plt_3d_vedo)\n",
    "new_axes_x_to_time_labels = DataSeriesToSpatial.build_minute_x_tick_labels(spike_raster_plt_3d_vedo)\n",
    "print(f'new_axes_x_to_time_labels: {new_axes_x_to_time_labels}, global_x_start: {global_x_start}, global_x_end: {global_x_end}')\n",
    "\n",
    "# Create a new_all_data_axes instance with the updated properties:\n",
    "new_all_data_axes = Axes(all_spike_lines, xrange=[0, 15000], c='red', textScale=0.1, gridLineWidth=0.1, axesLineWidth=0.1, xTickLength=0.005*0.1, xTickThickness=0.0025*0.1,\n",
    "                         xValuesAndLabels = new_axes_x_to_time_labels, useGlobal=True) # ,\n",
    "                         # numberOfDivisions=len(new_axes_x_to_time_labels), # numberOfDivisions=total_data_duration_minutes,\n",
    "                         # xMinorTicks=60,\n",
    "                        # ) # , numberOfDivisions=1000\n",
    "\n",
    "# new_all_data_axes = Axes(all_spike_lines, xrange=[global_x_start, global_x_end],\n",
    "#                          c='red', textScale=0.1, gridLineWidth=0.1, axesLineWidth=0.1, xTickLength=0.005*0.1, xTickThickness=0.0025*0.1,\n",
    "#                          xValuesAndLabels = new_axes_x_to_time_labels,\n",
    "#                          # numberOfDivisions=len(new_axes_x_to_time_labels), # numberOfDivisions=total_data_duration_minutes,\n",
    "#                          # xMinorTicks=60,\n",
    "#                         ) # , numberOfDivisions=1000\n",
    "spike_raster_plt_3d_vedo.plots.meshes['new_all_data_axes'] = new_all_data_axes\n",
    "spike_raster_plt_3d_vedo.ui.plt += new_all_data_axes\n",
    "spike_raster_plt_3d_vedo.ui.plt.render()"
   ]
  },
  {
   "cell_type": "code",
   "execution_count": null,
   "id": "4c481d94-1f9d-4dda-b69b-4831b719b685",
   "metadata": {},
   "outputs": [],
   "source": [
    "prev_window_start_time = spike_raster_plt_3d_vedo.spikes_window.active_window_start_time\n",
    "delta_t = 10.0 # seconds\n",
    "spike_raster_plt_3d_vedo.spikes_window.update_window_start(prev_window_start_time + delta_t) # updates the window"
   ]
  },
  {
   "cell_type": "code",
   "execution_count": null,
   "id": "08b1d158-0f68-4ffd-b5f5-9aa137ec76b4",
   "metadata": {},
   "outputs": [],
   "source": [
    "spike_raster_plt_3d_vedo.params.max_y_pos # 39.5\n",
    "spike_raster_plt_3d_vedo.params.max_z_pos # 10.0"
   ]
  },
  {
   "cell_type": "code",
   "execution_count": null,
   "id": "c942fb39-2e3e-4bb1-9796-cf2d3116a547",
   "metadata": {},
   "outputs": [],
   "source": [
    "## Test Updating Active Window (old raw way):\n",
    "print(f'prev_window: (start, center, end): ({active_x_start}, {active_x_center}, {active_x_end})')\n",
    "### Apply constant update\n",
    "update_x_delta = 10.0\n",
    "active_x_start, active_x_center, active_x_end = (active_x_start+update_x_delta, active_x_center+update_x_delta, active_x_end+update_x_delta)\n",
    "print(f'updated_window: (start, center, end): ({active_x_start}, {active_x_center}, {active_x_end})')\n",
    "active_ids, start_bound_plane, end_bound_plane = update_active_spikes_window(all_spike_lines, x_start=active_x_start, x_end=active_x_end, start_bound_plane=start_bound_plane, end_bound_plane=end_bound_plane)\n",
    "# print(active_window_only_axes.x(active_x_start))\n",
    "print(f'active_window_only_axes.x(): {active_window_only_axes.x()}, active_window_only_axes.xbounds(): {active_window_only_axes.xbounds()}')\n",
    "prev_x_pos = active_window_only_axes.x()\n",
    "active_window_only_axes.x(prev_x_pos + update_x_delta) # works for positioning but doesn't update numbers\n",
    "# print(active_window_only_axes.GetXRange()) # (76.45704885914304, 105.0)\n",
    "# print(start_bound_plane.x()) # 120.0\n",
    "# print(end_bound_plane.x()) # 145.0\n",
    "# active_window_only_axes.xbounds(120.0)\n",
    "\n",
    "# active_window_only_axes.xbounds((active_x_start, active_x_end)) # (46.45704885914303, 75.0)\n",
    "# active_window_only_axes\n",
    "plt.resetCamera() # resetCamera() updates the camera's position\n",
    "plt.render()"
   ]
  },
  {
   "cell_type": "code",
   "execution_count": null,
   "id": "45a273d3-42e7-4c62-8c51-c0f74950d8c0",
   "metadata": {},
   "outputs": [],
   "source": [
    "active_window_only_axes.SetVisibility(False)\n",
    "all_data_axes.SetVisibility(False)\n",
    "plt.render()"
   ]
  },
  {
   "cell_type": "code",
   "execution_count": null,
   "id": "da40e496-8bfc-45ff-9657-52d4ec9e9713",
   "metadata": {},
   "outputs": [],
   "source": [
    "from pyphocorehelpers.gui.Vedo.vedo_helpers import VedoHelpers\n",
    "\n",
    "VedoHelpers.vedo_get_camera_debug_info(spike_raster_plt_3d_vedo.plt.camera, enable_print=True)"
   ]
  },
  {
   "cell_type": "code",
   "execution_count": null,
   "id": "1ff45548-6c00-4af2-ae77-2e92a798090a",
   "metadata": {},
   "outputs": [],
   "source": [
    "active_window_only_axes.pos() # array([0., 0., 0.])\n",
    "# start_bound_plane.pos() # array([50., 27.,  7.])\n",
    "active_window_only_axes.xbounds() # (46.45704885914303, 75.0)\n",
    "print(f'active_window_only_axes.pos(): {active_window_only_axes.pos()}, active_window_only_axes.x(): {active_window_only_axes.x()}, active_window_only_axes.xbounds(): {active_window_only_axes.xbounds()}')"
   ]
  },
  {
   "cell_type": "code",
   "execution_count": null,
   "id": "ff9eb62c-759d-4291-ba3f-4eda82c6c485",
   "metadata": {},
   "outputs": [],
   "source": [
    "# Test Getting Camera Info:\n",
    "\n",
    "spike_raster_plt_3d_vedo.plt.camera.SetParallelProjection(True)\n",
    "spike_raster_plt_3d_vedo.plt.render()"
   ]
  },
  {
   "cell_type": "code",
   "execution_count": null,
   "id": "46dd3b1f-6313-4f66-bae9-d7051a60715e",
   "metadata": {},
   "outputs": [],
   "source": [
    "plt.camera.GetPosition() # (112.87390404082245, -30.095887417846058, 312.2068435789564)\n",
    "plt.camera.GetViewAngle() # 30.0\n",
    "\n",
    "plt.camera.GetRoll() # -7.716018585102282\n",
    "# plt.camera.SetRoll(0)\n",
    "\n",
    "plt.camera.GetClippingRange() # (0.4916396465490984, 491.6396465490984)\n",
    "plt.camera.GetDistance() # 180.57167532498917\n",
    "plt.camera.GetFocalPoint() # (50.000000000000114, 0.0, 0.0)\n",
    "plt.camera.GetViewUp() # (-0.5682327284925417, 0.6041298213838208, 0.5586937669105271)\n",
    "plt.camera.GetOrientation() # (-36.59911084156803, -10.251061641330645, -41.19230431471795)\n",
    "plt.camera.GetRoll() # -41.19230431471795\n",
    "# plt.interactive().close()\n",
    "\n",
    "prev_cam_pos = plt.camera.GetPosition() # (2613.6233456074497, -448.1307635584055, 89.16176759862228)\n",
    "# plt.camera.SetDebug(True)\n",
    "\n",
    "print(f'(start, center, end): ({active_x_start}, {active_x_center}, {active_x_end})')\n",
    "# print(f'active_x_start: {active_x_start}, active_x_center: {active_x_center}, active_x_end: {active_x_end}')\n",
    "print(f'Camera:\\n\\tpos: {plt.camera.GetPosition()}, distance: {plt.camera.GetDistance()}, \\n\\t\\tview_angle: {plt.camera.GetViewAngle()}, roll: {plt.camera.GetRoll()}, \\n\\t\\torientation: {plt.camera.GetOrientation()}')\n",
    "\n",
    "\"\"\" \n",
    "For window (start, center, end): (50.0, 75.0, 75.0)\n",
    "    at active_x_start: 50.0, active_x_center: 75.0, active_x_end: 75.0\n",
    "    \n",
    "Camera:\n",
    "    pos: (66.24993092335596, -75.93948792238676, 25.07713824628677), distance: 81.07267779708857, \n",
    "        view_angle: 30.0, roll: -42.80457161107933, \n",
    "        orientation: (-73.35587868481223, -19.227674343471744, -42.80457161107933)\n",
    "\n",
    "\"\"\"\n",
    "prev_cam_pos # (66.24993092335596, -75.93948792238676, 25.07713824628677)"
   ]
  },
  {
   "cell_type": "code",
   "execution_count": null,
   "id": "e0d75bd2-9484-4c3b-980f-1e64d83a5106",
   "metadata": {},
   "outputs": [],
   "source": [
    "# Indicates that the bounds of the non-window related meshes do not contribute to the Camera's position:\n",
    "rect_meshes.useBounds(False) # Says to ignore the bounds of the rect_meshes\n",
    "all_spike_lines.useBounds(False)\n",
    "all_data_axes.useBounds(False)\n",
    "plt.resetCamera() # resetCamera() updates the camera's position given the ignored components\n"
   ]
  },
  {
   "cell_type": "code",
   "execution_count": null,
   "id": "0674e3b7-c314-40b8-b269-c20152954231",
   "metadata": {},
   "outputs": [],
   "source": [
    "prev_cam_pos = plt.camera.GetPosition()\n",
    "print(f'previous camera position: {prev_cam_pos}')\n",
    "# plt.camera.SetPosition(prev_cam_pos[0], prev_cam_pos[1], prev_cam_pos[2])\n",
    "# plt.camera.SetEyePosition()\n",
    "plt.camera.SetPosition(100.0, prev_cam_pos[1], prev_cam_pos[2])\n",
    "print(f'updated camera position: {plt.camera.GetPosition()}')"
   ]
  },
  {
   "cell_type": "code",
   "execution_count": null,
   "id": "49c11752-8ea4-4233-8556-48e1e3becb9f",
   "metadata": {},
   "outputs": [],
   "source": [
    "print(f'active_x_center: {active_x_center}')\n",
    "# plt.camera.SetRoll(0.0)\n",
    "plt.camera.SetParallelProjection(True)\n",
    "# plt.camera.SetPosition(active_x_center, -429.58251095916233, 165.56199522503408)\n",
    "# plt.camera.SetViewAngle(30.0)\n",
    "# plt.camera.SetRoll(0.0)"
   ]
  },
  {
   "cell_type": "code",
   "execution_count": null,
   "id": "a0094ee3-e8bc-4ee4-9dcd-3ebb934b945a",
   "metadata": {},
   "outputs": [],
   "source": [
    "start_bound_plane.edges"
   ]
  },
  {
   "cell_type": "code",
   "execution_count": null,
   "id": "d06cfa4a-5c67-43ba-a369-d52d5ce9c38c",
   "metadata": {},
   "outputs": [],
   "source": [
    "# vedo_qt_main_window.plt.clear()\n",
    "vedo_qt_main_window.plt.title = 'Pho Vedo MainVedoPlottingWindow Test'\n",
    "vedo_qt_main_window.plt.background('black')"
   ]
  },
  {
   "cell_type": "code",
   "execution_count": null,
   "id": "ccd1e36e-a510-4668-bfb6-87fbfc9a2178",
   "metadata": {},
   "outputs": [],
   "source": [
    "active_ids, start_bound_plane, end_bound_plane = update_active_spikes_window(all_spike_lines, x_start=active_x_start, x_end=active_x_end, start_bound_plane=start_bound_plane, end_bound_plane=end_bound_plane)\n",
    "plt += start_bound_plane, end_bound_plane"
   ]
  },
  {
   "cell_type": "code",
   "execution_count": null,
   "id": "4c12d74c-98d5-4836-9891-499f487b97e9",
   "metadata": {},
   "outputs": [],
   "source": [
    "plt.addCutterTool(all_spike_lines, mode='box') #modes= sphere, plane, box"
   ]
  },
  {
   "cell_type": "code",
   "execution_count": null,
   "id": "52837cc7-6f20-4620-af2e-e5a4ec2bfe8b",
   "metadata": {},
   "outputs": [],
   "source": [
    "# active_cells = all_spike_lines.findCellsWithin(xbounds=(x_start, x_end)).color('grey')\n",
    "# active_cells\n",
    "\n",
    "all_spike_lines.celldata.keys() # ['CellScalars']\n",
    "np.shape(all_spike_lines.celldata['CellScalars']) # (69142,)\n",
    "\n",
    "\n",
    "\n",
    "print(f\"np.shape(active_ids): {np.shape(active_ids)}, np.shape(all_spike_lines.celldata['CellScalars']): {np.shape(all_spike_lines.celldata['CellScalars'])}\") # np.shape(active_ids): (761,)\n",
    "\n",
    "all_spike_lines.celldata['CellScalars'][active_ids] = 0.0 # zero non-window spikes\n",
    "plt.render()\n",
    "\n",
    "# [active_ids]\n",
    "\n",
    "# all_spike_lines.findCellsWithin(xbounds=(active_x_start, active_x_end)).color('grey')\n",
    "# all_spike_lines.cell_locator(active_ids)\n",
    "# all_spike_lines.celldata\n",
    "# [active_ids]\n",
    "# all_spike_lines.cmap(active_cell_colormap_name, spike_color_ids, on='cells').addScalarBar('cell_id')\n",
    "\n",
    "# .cmap(curr_spike_cmap, spike_point_color_ids, alpha=curr_spike_alphas, on='cells')\n",
    "# active_ids"
   ]
  },
  {
   "cell_type": "code",
   "execution_count": null,
   "id": "0f96a4dd-95ea-4548-852a-5f4e431c83dd",
   "metadata": {},
   "outputs": [],
   "source": [
    "plt.close()\n",
    "plt = None"
   ]
  },
  {
   "cell_type": "code",
   "execution_count": null,
   "id": "4bdb5e99-95fd-4d6f-ad8e-de472d32f98d",
   "metadata": {},
   "outputs": [],
   "source": [
    "## Fly the camera to a certain place:\n",
    "# plt.flyTo([0,0,0]).show()\n",
    "plt.flyTo([0.0,0,0]).show()"
   ]
  },
  {
   "cell_type": "code",
   "execution_count": null,
   "id": "3cba3a73-e134-4a9f-898e-72c11d72e1e0",
   "metadata": {},
   "outputs": [],
   "source": [
    "# all_spike_lines.lineColor(c=curr_spike_colors)\n",
    "all_spike_lines.cmap(curr_spike_cmap, spike_color_ids).addScalarBar()"
   ]
  },
  {
   "cell_type": "code",
   "execution_count": null,
   "id": "4b2e03ce-9604-4faf-9757-59f4d83529af",
   "metadata": {},
   "outputs": [],
   "source": [
    "cu = Cube(side=500).x(500) # any Mesh works\n",
    "all_spike_lines.cutWithBox(cu).show(axes=2)"
   ]
  },
  {
   "cell_type": "code",
   "execution_count": null,
   "id": "a0e6958a-d1f0-49ef-b2cc-eaa0f4461790",
   "metadata": {},
   "outputs": [],
   "source": [
    "cu = Cube(side=500).x(0) # any Mesh works\n",
    "all_spike_lines.cutWithBox(cu).show(axes=2)"
   ]
  },
  {
   "cell_type": "markdown",
   "id": "d5633013-4919-4689-a0ba-c8ddd5c620ce",
   "metadata": {
    "jp-MarkdownHeadingCollapsed": true,
    "tags": []
   },
   "source": [
    "# Vedo + Polyscope Testing:"
   ]
  },
  {
   "cell_type": "code",
   "execution_count": null,
   "id": "51ac3ddf-9a27-47f6-9513-775f9ab946d8",
   "metadata": {},
   "outputs": [],
   "source": [
    "import polyscope as ps\n",
    "\n",
    "# Initialize polyscope\n",
    "ps.init()"
   ]
  },
  {
   "cell_type": "code",
   "execution_count": null,
   "id": "ef1a1708-2366-461a-b963-50bd5fb1c520",
   "metadata": {},
   "outputs": [],
   "source": [
    "#!/usr/bin/env python3\n",
    "# Visualization example with polyscope (pip install polyscope)\n",
    "# https://polyscope.run/py/\n",
    "import polyscope\n",
    "\n",
    "m = vedo.load(vedo.dataurl+'embryo.tif').isosurface().extractLargestRegion()\n",
    "# m = vedo.load(vedo.dataurl+'man.vtk')\n",
    "\n",
    "polyscope.set_program_name(\"vedo using polyscope\")\n",
    "polyscope.set_verbosity(0)\n",
    "polyscope.set_up_dir(\"z_up\")\n",
    "polyscope.init()\n",
    "ps_mesh = polyscope.register_surface_mesh('My vedo mesh',\n",
    "                                          m.points(), m.faces(),\n",
    "                                          color=[0.5,0,0],\n",
    "                                          smooth_shade=True,\n",
    "                                         )\n",
    "ps_mesh.add_scalar_quantity(\"heights\", m.points()[:,2], defined_on='vertices')\n",
    "ps_mesh.set_material(\"wax\") # wax, mud, jade, candy\n",
    "polyscope.show()\n",
    "\n",
    "vedo.show(m, axes=11)"
   ]
  },
  {
   "cell_type": "code",
   "execution_count": null,
   "id": "c95e1bbf-f4c9-4832-ab0a-4ed198b5d58d",
   "metadata": {},
   "outputs": [],
   "source": [
    "### Register a point cloud\n",
    "# `my_points` is a Nx3 numpy array\n",
    "ps.register_point_cloud(\"my points\", my_points)\n",
    "\n",
    "### Register a mesh\n",
    "# `verts` is a Nx3 numpy array of vertex positions\n",
    "# `faces` is a Fx3 array of indices, or a nested list\n",
    "ps.register_surface_mesh(\"my mesh\", verts, faces, smooth_shade=True)\n",
    "\n",
    "# Add a scalar function and a vector function defined on the mesh\n",
    "# vertex_scalar is a length V numpy array of values\n",
    "# face_vectors is an Fx3 array of vectors per face\n",
    "ps.get_surface_mesh(\"my mesh\").add_scalar_quantity(\"my_scalar\", \n",
    "        vertex_scalar, defined_on='vertices', cmap='blues')\n",
    "ps.get_surface_mesh(\"my mesh\").add_vector_quantity(\"my_vector\", \n",
    "        face_vectors, defined_on='faces', color=(0.2, 0.5, 0.5))\n",
    "\n",
    "# View the point cloud and mesh we just registered in the 3D UI\n",
    "ps.show()"
   ]
  },
  {
   "cell_type": "markdown",
   "id": "71095cca-ea73-4f1c-bc48-db8f16f09327",
   "metadata": {},
   "source": [
    "### Test displaying Spikes using Vedo+Polyscope"
   ]
  },
  {
   "cell_type": "code",
   "execution_count": null,
   "id": "dcdc0cd6-4976-48f8-89ed-aa849dd677cd",
   "metadata": {},
   "outputs": [],
   "source": [
    "def _build_vedo_polyscope_spike_viz(spike_points, spike_color_ids):\n",
    "    ps.set_program_name(\"vedo using polyscope\")\n",
    "    ps.set_verbosity(0)\n",
    "    ps.set_up_dir(\"z_up\")\n",
    "    # ps.init() # already called\n",
    "    ps_cloud = ps.register_point_cloud(\"spike_points\", spike_points)\n",
    "\n",
    "    N = len(spike_points)\n",
    "    print(f'N: {N}, spike_points.shape: {spike_points.shape}')\n",
    "    # generate some random vectors per-point\n",
    "    # vecs = np.random.rand(N, 3)\n",
    "    # vecs = np.full((N,1), np.array([0, 0, 1]))\n",
    "    vecs = np.full_like(spike_points, np.array([0, 0, 10]))\n",
    "\n",
    "    # basic visualization\n",
    "    # ps_cloud.add_vector_qucolor=ity(\"rand vecs\", vecs, enabled=True)\n",
    "    # set radius/length/color of the vectors\n",
    "    # ps_cloud.add_vector_quantity(\"rand vecs\", vecs, radius=0.001, length=0.005, color=(0.2, 0.5, 0.5))\n",
    "    # ambient vectors don't get auto-scaled, useful e.g. when representing offsets in 3D space\n",
    "    ps_cloud.add_vector_quantity(\"vecs ambient\", vecs, length=0.005, radius=0.0001, vectortype='ambient')\n",
    "    ps.get_point_cloud(\"spike_points\").add_scalar_quantity(\"neuron_identity\", spike_color_ids)\n",
    "\n",
    "    # basic color visualization\n",
    "    # ps_cloud.add_color_quantity(\"rand colors\", vals)\n",
    "\n",
    "\n",
    "\n",
    "    # ps_mesh = ps.register_surface_mesh('My vedo mesh',\n",
    "    #                                           spike_points, m.faces(),\n",
    "    #                                           color=[0.5,0,0],\n",
    "    #                                           smooth_shade=True,\n",
    "    #                                          )\n",
    "    # ps_mesh.add_scalar_quantity(\"heights\", spike_points[:,2], defined_on='vertices')\n",
    "    # ps_mesh.set_material(\"wax\") # wax, mud, jade, candy\n",
    "    return ps_cloud, vecs\n",
    "\n",
    "\n",
    "m = all_spike_lines\n",
    "# let the scalar be the y coordinate of the mesh vertices\n",
    "spike_all_points = all_spike_lines.points()\n",
    "spike_bottom_points = spike_all_points[spike_all_points[:, 2] == 0.0] # spike points where z_value == 0.0 (bottom points)\n",
    "print(f'np.shape(spike_all_points): {spike_all_points.shape}, np.shape(spike_bottom_points): {spike_bottom_points.shape}') # np.shape(spike_all_points): (138284, 3), np.shape(spike_bottom_points): (69142, 3)\n",
    "\n",
    "# spike_color_ids = all_spike_lines.points()[:, 1]\n",
    "spike_color_ids = spike_bottom_points[:, 1] # color_ids only for the bottom points\n",
    "\n",
    "# ps_cloud, vecs = _build_vedo_polyscope_spike_viz(spike_all_points, spike_color_ids)\n",
    "ps_cloud, vecs = _build_vedo_polyscope_spike_viz(spike_bottom_points, spike_color_ids)\n",
    "\n",
    "# Position the camera\n",
    "ps.look_at((0., 0., 5.), (1., 1., 1.))\n",
    "ps.show()\n",
    "# vedo.show(m, axes=11)"
   ]
  },
  {
   "cell_type": "code",
   "execution_count": null,
   "id": "9fbc528d-5386-4691-b64f-54a38bc97dba",
   "metadata": {},
   "outputs": [],
   "source": [
    "ps.get_point_cloud(\"spike_points\").get_transform()\n",
    "\n",
    "ps.get_point_cloud(\"spike_points\").get_position()"
   ]
  }
 ],
 "metadata": {
  "kernelspec": {
   "display_name": "Python [conda env:phoviz_ultimate]",
   "language": "python",
   "name": "conda-env-phoviz_ultimate-py"
  },
  "language_info": {
   "codemirror_mode": {
    "name": "ipython",
    "version": 3
   },
   "file_extension": ".py",
   "mimetype": "text/x-python",
   "name": "python",
   "nbconvert_exporter": "python",
   "pygments_lexer": "ipython3",
   "version": "3.9.12"
  }
 },
 "nbformat": 4,
 "nbformat_minor": 5
}
