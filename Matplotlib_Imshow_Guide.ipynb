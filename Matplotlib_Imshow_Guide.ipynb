{
 "cells": [
  {
   "cell_type": "code",
   "execution_count": 1,
   "id": "892be14c-dcec-436e-9474-8c07c848f2f5",
   "metadata": {},
   "outputs": [],
   "source": [
    "# from matplotlib.figure import Figure\n",
    "import matplotlib.pyplot as plt\n",
    "# from matplotlib.transforms import IdentityTransform\n",
    "%matplotlib qt\n",
    "import numpy as np"
   ]
  },
  {
   "cell_type": "code",
   "execution_count": 2,
   "id": "d98e4529-dce5-477d-b102-a649300c2932",
   "metadata": {},
   "outputs": [],
   "source": [
    "\n",
    "def test_plot_imshow(xbin, ybin, matrix):\n",
    "    \"\"\" fig, ax, im_out = test_plot_imshow(xbin, ybin, matrix) \"\"\"\n",
    "    fig, ax = plt.subplots(ncols=1, nrows=1, figsize=(12,12), clear=True)\n",
    "    # plt.subplots_adjust(left=0.25, bottom=0.25)\n",
    "    variable_value = matrix\n",
    "    frame = 0\n",
    "    main_plot_kwargs = {\n",
    "        'origin': 'lower',\n",
    "        'cmap': 'jet',\n",
    "        'aspect':'auto',\n",
    "    }\n",
    "\n",
    "    # xmin, xmax, ymin, ymax = (active_one_step_decoder.active_time_window_centers[0], active_one_step_decoder.active_time_window_centers[-1], active_one_step_decoder.xbin[0], active_one_step_decoder.xbin[-1])\n",
    "    xmin, xmax, ymin, ymax = (xbin[0], xbin[-1], ybin[0], ybin[-1])\n",
    "    # xmin, xmax, ymin, ymax = (active_one_step_decoder.ybin[0], active_one_step_decoder.ybin[-1], active_one_step_decoder.xbin[0], active_one_step_decoder.xbin[-1]) # Reversed x and y axes, seems not good.\n",
    "    extent = (xmin, xmax, ymin, ymax)\n",
    "    im_out = ax.imshow(variable_value, extent=extent, **main_plot_kwargs)\n",
    "    # ax.axis(\"off\")\n",
    "    # plt.title(f'debug_two_step: {variable_name}')\n",
    "    return fig, ax, im_out\n",
    "\n",
    "def test_add_point(test_point, ax):\n",
    "    \"\"\" line = test_add_point(test_point, ax) \"\"\"\n",
    "    line, = ax.plot(test_point[0], test_point[1], marker='d', markersize=40.0, linestyle='None', color='red')\n",
    "    return line"
   ]
  },
  {
   "cell_type": "code",
   "execution_count": 3,
   "id": "4ad18130-6402-40e5-9269-2a49fa53fda4",
   "metadata": {},
   "outputs": [],
   "source": [
    "matrix_x_size = 100\n",
    "matrix_y_size = 100\n",
    "matrix = np.zeros((matrix_x_size, matrix_y_size))\n",
    "xbin = np.linspace(75.0, 400.0, num=matrix_x_size)\n",
    "ybin = np.linspace(200.0, 240.0, num=matrix_y_size)\n",
    "\n",
    "               \n",
    "# Add details to make it possible to tell orientation:\n",
    "matrix[10, 10] = 1.0"
   ]
  },
  {
   "cell_type": "code",
   "execution_count": 4,
   "id": "daeb416e-c6fa-4a28-ae1c-34ec502c6188",
   "metadata": {},
   "outputs": [
    {
     "data": {
      "text/plain": [
       "Text(0.5, 1.0, 'Plotting without points')"
      ]
     },
     "execution_count": 4,
     "metadata": {},
     "output_type": "execute_result"
    }
   ],
   "source": [
    "# Perform the plot:\n",
    "fig, ax, plot_im_out = test_plot_imshow(xbin, ybin, matrix)\n",
    "plt.title('Plotting without points')"
   ]
  },
  {
   "cell_type": "code",
   "execution_count": null,
   "id": "09424c45-7aa6-4c49-bdd0-5cbf0673cb47",
   "metadata": {},
   "outputs": [],
   "source": [
    "test_point = [10, 10]\n",
    "# Perform the plot:\n",
    "fig, ax, plot_im_out = test_plot_imshow(xbin, ybin, matrix)\n",
    "plot_point = test_add_point(test_point, ax)\n",
    "plt.title('Plotting the test_point at the indicies into the matrix causes the view to mess up')"
   ]
  },
  {
   "cell_type": "code",
   "execution_count": null,
   "id": "8b4a56c5-3100-4316-a220-136a50147c53",
   "metadata": {},
   "outputs": [],
   "source": [
    "test_point = [80.0, 210.0]\n",
    "# Perform the plot:\n",
    "fig, ax, plot_im_out = test_plot_imshow(xbin, ybin, matrix)\n",
    "plot_point = test_add_point(test_point, ax)\n",
    "plt.title('Plotting the test_point at the indicies into the matrix causes the view to mess up')"
   ]
  },
  {
   "cell_type": "code",
   "execution_count": null,
   "id": "773b6b98-d5dd-45a3-a3a9-5fbb0b502c5c",
   "metadata": {},
   "outputs": [],
   "source": []
  }
 ],
 "metadata": {
  "kernelspec": {
   "display_name": "Python 3 (ipykernel)",
   "language": "python",
   "name": "python3"
  },
  "language_info": {
   "codemirror_mode": {
    "name": "ipython",
    "version": 3
   },
   "file_extension": ".py",
   "mimetype": "text/x-python",
   "name": "python",
   "nbconvert_exporter": "python",
   "pygments_lexer": "ipython3",
   "version": "3.9.9"
  }
 },
 "nbformat": 4,
 "nbformat_minor": 5
}
