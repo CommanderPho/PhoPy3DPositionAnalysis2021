{
 "cells": [
  {
   "cell_type": "code",
   "execution_count": 1,
   "id": "initial_id",
   "metadata": {
    "ExecuteTime": {
     "end_time": "2023-11-16T23:21:20.608442900Z",
     "start_time": "2023-11-16T23:21:20.217442100Z"
    },
    "collapsed": true,
    "notebookRunGroups": {
     "groupValue": "1"
    }
   },
   "outputs": [
    {
     "name": "stdout",
     "output_type": "stream",
     "text": [
      "Automatic pdb calling has been turned OFF\n"
     ]
    },
    {
     "name": "stderr",
     "output_type": "stream",
     "text": [
      "/home/halechr/repos/Spike3D/.venv/lib/python3.9/site-packages/outdated/utils.py:14: OutdatedPackageWarning: The package pingouin is out of date. Your version is 0.5.3, the latest is 0.5.4.\n",
      "Set the environment variable OUTDATED_IGNORE=1 to disable these warnings.\n",
      "  return warn(\n"
     ]
    },
    {
     "name": "stdout",
     "output_type": "stream",
     "text": [
      "doc_output_parent_folder: /home/halechr/repos/Spike3D/EXTERNAL/DEVELOPER_NOTES/DataStructureDocumentation\n",
      "build_module_logger(module_name=\"Spike3D.pipeline\"):\n",
      "\t Module logger com.PhoHale.Spike3D.pipeline has file logging enabled and will log to EXTERNAL/TESTING/Logging/debug_com.PhoHale.Spike3D.pipeline.log\n",
      "DAY_DATE_STR: 2024-02-02, DAY_DATE_TO_USE: 2024-02-02\n",
      "NOW_DATETIME: 2024-02-02_0845PM, NOW_DATETIME_TO_USE: 2024-02-02_0845PM\n",
      "global_data_root_parent_path changed to /media/halechr/MAX/Data\n"
     ]
    },
    {
     "data": {
      "application/vnd.jupyter.widget-view+json": {
       "model_id": "f7d70df913f842508f93d74806827718",
       "version_major": 2,
       "version_minor": 0
      },
      "text/plain": [
       "ToggleButtons(description='Data Root:', layout=Layout(width='auto'), options=(PosixPath('/media/halechr/MAX/Data'), PosixPath('/home/halechr/FastData'), PosixPath('/home/halechr/cloud/turbo/Data')), style=ToggleButtonsStyle(button_width='max-content'), tooltip='global_data_root_parent_path', value=PosixPath('/media/halechr/MAX/Data'))"
      ]
     },
     "execution_count": 1,
     "metadata": {},
     "output_type": "execute_result"
    }
   ],
   "source": [
    "%config IPCompleter.use_jedi = False\n",
    "# %xmode Verbose\n",
    "# %xmode context\n",
    "%pdb off\n",
    "%load_ext viztracer\n",
    "from viztracer import VizTracer\n",
    "%load_ext autoreload\n",
    "%autoreload 3\n",
    "import sys\n",
    "from typing import Dict, List, Tuple, Optional\n",
    "from pathlib import Path\n",
    "\n",
    "# required to enable non-blocking interaction:\n",
    "%gui qt5\n",
    "\n",
    "from copy import deepcopy\n",
    "from numba import jit\n",
    "import numpy as np\n",
    "import pandas as pd\n",
    "pd.options.mode.chained_assignment = None  # default='warn'\n",
    "# pd.options.mode.dtype_backend = 'pyarrow' # use new pyarrow backend instead of numpy\n",
    "from attrs import define, field, fields, Factory\n",
    "import tables as tb\n",
    "from datetime import datetime, timedelta\n",
    "\n",
    "# Pho's Formatting Preferences\n",
    "import builtins\n",
    "\n",
    "import IPython\n",
    "from IPython.core.formatters import PlainTextFormatter\n",
    "from IPython import get_ipython\n",
    "\n",
    "from pyphocorehelpers.preferences_helpers import set_pho_preferences, set_pho_preferences_concise, set_pho_preferences_verbose\n",
    "set_pho_preferences_concise()\n",
    "# Jupyter-lab enable printing for any line on its own (instead of just the last one in the cell)\n",
    "from IPython.core.interactiveshell import InteractiveShell\n",
    "InteractiveShell.ast_node_interactivity = \"all\"\n",
    "\n",
    "# BEGIN PPRINT CUSTOMIZATION ___________________________________________________________________________________________ #\n",
    "\n",
    "\n",
    "## IPython pprint\n",
    "from pyphocorehelpers.pprint import wide_pprint, wide_pprint_ipython, wide_pprint_jupyter, MAX_LINE_LENGTH\n",
    "\n",
    "# Override default pprint\n",
    "builtins.pprint = wide_pprint\n",
    "\n",
    "text_formatter: PlainTextFormatter = IPython.get_ipython().display_formatter.formatters['text/plain']\n",
    "text_formatter.max_width = MAX_LINE_LENGTH\n",
    "text_formatter.for_type(object, wide_pprint_jupyter)\n",
    "\n",
    "\n",
    "# END PPRINT CUSTOMIZATION ___________________________________________________________________________________________ #\n",
    "\n",
    "from pyphocorehelpers.print_helpers import get_now_time_str, get_now_day_str\n",
    "\n",
    "## Pho's Custom Libraries:\n",
    "from pyphocorehelpers.Filesystem.path_helpers import find_first_extant_path, file_uri_from_path\n",
    "from pyphocorehelpers.Filesystem.open_in_system_file_manager import reveal_in_system_file_manager\n",
    "\n",
    "# NeuroPy (Diba Lab Python Repo) Loading\n",
    "# from neuropy import core\n",
    "from neuropy.analyses.placefields import PlacefieldComputationParameters\n",
    "from neuropy.core.epoch import NamedTimerange, Epoch\n",
    "from neuropy.core.ratemap import Ratemap\n",
    "from neuropy.core.session.Formats.BaseDataSessionFormats import DataSessionFormatRegistryHolder\n",
    "from neuropy.core.session.Formats.Specific.KDibaOldDataSessionFormat import KDibaOldDataSessionFormatRegisteredClass\n",
    "from neuropy.utils.matplotlib_helpers import matplotlib_file_only, matplotlib_configuration, matplotlib_configuration_update\n",
    "from neuropy.core.neuron_identities import NeuronIdentityTable, neuronTypesList, neuronTypesEnum\n",
    "from neuropy.utils.mixins.AttrsClassHelpers import AttrsBasedClassHelperMixin, serialized_field, serialized_attribute_field, non_serialized_field, custom_define\n",
    "from neuropy.utils.mixins.HDF5_representable import HDF_DeserializationMixin, post_deserialize, HDF_SerializationMixin, HDFMixin, HDF_Converter\n",
    "\n",
    "## For computation parameters:\n",
    "from neuropy.analyses.placefields import PlacefieldComputationParameters\n",
    "from neuropy.utils.dynamic_container import DynamicContainer\n",
    "from neuropy.utils.result_context import IdentifyingContext\n",
    "from neuropy.core.session.Formats.BaseDataSessionFormats import find_local_session_paths\n",
    "from neuropy.core.neurons import NeuronType\n",
    "from neuropy.core.user_annotations import UserAnnotationsManager\n",
    "from neuropy.core.position import Position\n",
    "from neuropy.core.session.dataSession import DataSession\n",
    "from neuropy.analyses.time_dependent_placefields import PfND_TimeDependent, PlacefieldSnapshot\n",
    "from neuropy.utils.debug_helpers import debug_print_placefield, debug_print_subsession_neuron_differences, debug_print_ratemap, debug_print_spike_counts, debug_plot_2d_binning, print_aligned_columns\n",
    "from neuropy.utils.debug_helpers import parameter_sweeps, _plot_parameter_sweep, compare_placefields_info\n",
    "from neuropy.utils.indexing_helpers import NumpyHelpers, union_of_arrays, intersection_of_arrays, find_desired_sort_indicies, paired_incremental_sorting\n",
    "from pyphocorehelpers.print_helpers import print_object_memory_usage, print_dataframe_memory_usage, print_value_overview_only, DocumentationFilePrinter, print_keys_if_possible, generate_html_string, CapturedException, document_active_variables\n",
    "\n",
    "## Pho Programming Helpers:\n",
    "import inspect\n",
    "from pyphocorehelpers.print_helpers import DocumentationFilePrinter, TypePrintMode, print_keys_if_possible, debug_dump_object_member_shapes, print_value_overview_only, document_active_variables, CapturedException\n",
    "from pyphocorehelpers.programming_helpers import IPythonHelpers, PythonDictionaryDefinitionFormat, MemoryManagement, inspect_callable_arguments, get_arguments_as_optional_dict, GeneratedClassDefinitionType, CodeConversion\n",
    "from pyphocorehelpers.gui.Qt.TopLevelWindowHelper import TopLevelWindowHelper, print_widget_hierarchy\n",
    "doc_output_parent_folder: Path = Path('EXTERNAL/DEVELOPER_NOTES/DataStructureDocumentation').resolve() # ../.\n",
    "print(f\"doc_output_parent_folder: {doc_output_parent_folder}\")\n",
    "assert doc_output_parent_folder.exists()\n",
    "\n",
    "# pyPhoPlaceCellAnalysis:\n",
    "from pyphoplacecellanalysis.General.Pipeline.NeuropyPipeline import NeuropyPipeline # get_neuron_identities\n",
    "from pyphoplacecellanalysis.General.Mixins.ExportHelpers import export_pyqtgraph_plot\n",
    "from pyphoplacecellanalysis.General.Batch.NonInteractiveProcessing import batch_load_session, batch_extended_computations, batch_extended_programmatic_figures\n",
    "from pyphoplacecellanalysis.General.Pipeline.NeuropyPipeline import PipelineSavingScheme\n",
    "\n",
    "import pyphoplacecellanalysis.External.pyqtgraph as pg\n",
    "\n",
    "from pyphoplacecellanalysis.General.Batch.NonInteractiveProcessing import batch_perform_all_plots\n",
    "from pyphoplacecellanalysis.General.Pipeline.Stages.ComputationFunctions.MultiContextComputationFunctions.LongShortTrackComputations import JonathanFiringRateAnalysisResult\n",
    "from pyphoplacecellanalysis.General.Mixins.CrossComputationComparisonHelpers import _find_any_context_neurons\n",
    "from pyphoplacecellanalysis.General.Batch.runBatch import BatchSessionCompletionHandler # for `post_compute_validate(...)`\n",
    "from pyphoplacecellanalysis.Analysis.Decoder.reconstruction import BasePositionDecoder\n",
    "from pyphoplacecellanalysis.SpecificResults.AcrossSessionResults import AcrossSessionsResults\n",
    "from pyphoplacecellanalysis.General.Pipeline.Stages.ComputationFunctions.SpikeAnalysis import SpikeRateTrends # for `_perform_long_short_instantaneous_spike_rate_groups_analysis`\n",
    "from pyphoplacecellanalysis.General.Pipeline.Stages.ComputationFunctions.MultiContextComputationFunctions.LongShortTrackComputations import SingleBarResult, InstantaneousSpikeRateGroupsComputation, TruncationCheckingResults # for `BatchSessionCompletionHandler`, `AcrossSessionsAggregator`\n",
    "from pyphoplacecellanalysis.General.Mixins.CrossComputationComparisonHelpers import SplitPartitionMembership\n",
    "from pyphoplacecellanalysis.General.Pipeline.Stages.ComputationFunctions.MultiContextComputationFunctions.DirectionalPlacefieldGlobalComputationFunctions import DirectionalPlacefieldGlobalComputationFunctions, DirectionalLapsResult, TrackTemplates\n",
    "from pyphoplacecellanalysis.General.Pipeline.Stages.ComputationFunctions.MultiContextComputationFunctions.RankOrderComputations import RankOrderGlobalComputationFunctions\n",
    "from pyphoplacecellanalysis.General.Pipeline.Stages.ComputationFunctions.MultiContextComputationFunctions.DirectionalPlacefieldGlobalComputationFunctions import TrackTemplates\n",
    "from pyphoplacecellanalysis.General.Pipeline.Stages.ComputationFunctions.MultiContextComputationFunctions.RankOrderComputations import RankOrderComputationsContainer, RankOrderResult\n",
    "from pyphoplacecellanalysis.General.Pipeline.Stages.ComputationFunctions.MultiContextComputationFunctions.RankOrderComputations import RankOrderAnalyses\n",
    "\n",
    "\n",
    "# Plotting\n",
    "# import pylustrator # customization of figures\n",
    "import matplotlib\n",
    "import matplotlib as mpl\n",
    "import matplotlib.pyplot as plt\n",
    "_bak_rcParams = mpl.rcParams.copy()\n",
    "\n",
    "matplotlib.use('Qt5Agg')\n",
    "# %matplotlib inline\n",
    "# %matplotlib auto\n",
    "\n",
    "# _restore_previous_matplotlib_settings_callback = matplotlib_configuration_update(is_interactive=True, backend='Qt5Agg')\n",
    "_restore_previous_matplotlib_settings_callback = matplotlib_configuration_update(is_interactive=True, backend='Qt5Agg')\n",
    "\n",
    "# import pylustrator # call `pylustrator.start()` before creating your first figure in code.\n",
    "from pyphoplacecellanalysis.Pho2D.matplotlib.visualize_heatmap import visualize_heatmap\n",
    "from pyphoplacecellanalysis.Pho2D.matplotlib.visualize_heatmap import visualize_heatmap_pyqtgraph # used in `plot_kourosh_activity_style_figure`\n",
    "from pyphoplacecellanalysis.General.Pipeline.Stages.DisplayFunctions.SpikeRasters import plot_multiple_raster_plot, plot_raster_plot\n",
    "from pyphoplacecellanalysis.General.Mixins.DataSeriesColorHelpers import UnitColoringMode, DataSeriesColorHelpers\n",
    "from pyphoplacecellanalysis.General.Pipeline.Stages.DisplayFunctions.SpikeRasters import _build_default_tick, build_scatter_plot_kwargs\n",
    "from pyphoplacecellanalysis.GUI.PyQtPlot.Widgets.Mixins.Render2DScrollWindowPlot import Render2DScrollWindowPlotMixin, ScatterItemData\n",
    "from pyphoplacecellanalysis.General.Batch.NonInteractiveProcessing import batch_extended_programmatic_figures, batch_programmatic_figures\n",
    "from pyphoplacecellanalysis.General.Pipeline.Stages.ComputationFunctions.SpikeAnalysis import SpikeRateTrends\n",
    "from pyphoplacecellanalysis.General.Mixins.SpikesRenderingBaseMixin import SpikeEmphasisState\n",
    "\n",
    "from pyphoplacecellanalysis.SpecificResults.PhoDiba2023Paper import PAPER_FIGURE_figure_1_add_replay_epoch_rasters, PAPER_FIGURE_figure_1_full, PAPER_FIGURE_figure_3, main_complete_figure_generations\n",
    "from pyphoplacecellanalysis.SpecificResults.fourthYearPresentation import *\n",
    "\n",
    "# Jupyter Widget Interactive\n",
    "import ipywidgets as widgets\n",
    "from IPython.display import display, HTML\n",
    "from pyphocorehelpers.Filesystem.open_in_system_file_manager import reveal_in_system_file_manager\n",
    "from pyphoplacecellanalysis.GUI.IPyWidgets.pipeline_ipywidgets import interactive_pipeline_widget, interactive_pipeline_files\n",
    "from pyphocorehelpers.gui.Jupyter.simple_widgets import fullwidth_path_widget, render_colors\n",
    "\n",
    "from datetime import datetime, date, timedelta\n",
    "from pyphocorehelpers.print_helpers import get_now_day_str, get_now_rounded_time_str\n",
    "\n",
    "DAY_DATE_STR: str = date.today().strftime(\"%Y-%m-%d\")\n",
    "DAY_DATE_TO_USE = f'{DAY_DATE_STR}' # used for filenames throught the notebook\n",
    "print(f'DAY_DATE_STR: {DAY_DATE_STR}, DAY_DATE_TO_USE: {DAY_DATE_TO_USE}')\n",
    "\n",
    "NOW_DATETIME: str = get_now_rounded_time_str()\n",
    "NOW_DATETIME_TO_USE = f'{NOW_DATETIME}' # used for filenames throught the notebook\n",
    "print(f'NOW_DATETIME: {NOW_DATETIME}, NOW_DATETIME_TO_USE: {NOW_DATETIME_TO_USE}')\n",
    "\n",
    "\n",
    "from pyphocorehelpers.gui.Jupyter.simple_widgets import build_global_data_root_parent_path_selection_widget\n",
    "all_paths = [Path(r'/media/MAX/Data'), Path(r'/media/halechr/MAX/Data'), Path(r'/home/halechr/FastData'), Path(r'W:\\Data'), Path(r'/home/halechr/cloud/turbo/Data'), Path(r'/Volumes/MoverNew/data'), Path(r'/home/halechr/turbo/Data')]\n",
    "global_data_root_parent_path = None\n",
    "def on_user_update_path_selection(new_path: Path):\n",
    "\tglobal global_data_root_parent_path\n",
    "\tnew_global_data_root_parent_path = new_path.resolve()\n",
    "\tglobal_data_root_parent_path = new_global_data_root_parent_path\n",
    "\tprint(f'global_data_root_parent_path changed to {global_data_root_parent_path}')\n",
    "\tassert global_data_root_parent_path.exists(), f\"global_data_root_parent_path: {global_data_root_parent_path} does not exist! Is the right computer's config commented out above?\"\n",
    "\t\t\t\n",
    "global_data_root_parent_path_widget = build_global_data_root_parent_path_selection_widget(all_paths, on_user_update_path_selection)\n",
    "global_data_root_parent_path_widget"
   ]
  },
  {
   "cell_type": "markdown",
   "id": "30db844b",
   "metadata": {},
   "source": [
    "# Load Pipeline"
   ]
  },
  {
   "cell_type": "code",
   "execution_count": 2,
   "id": "7f07773d",
   "metadata": {
    "notebookRunGroups": {
     "groupValue": "1"
    }
   },
   "outputs": [
    {
     "name": "stdout",
     "output_type": "stream",
     "text": [
      "basedir: /media/halechr/MAX/Data/KDIBA/gor01/one/2006-6-08_14-26-15\n",
      "Loading loaded session pickle file results : /media/halechr/MAX/Data/KDIBA/gor01/one/2006-6-08_14-26-15/loadedSessPickle.pkl... "
     ]
    },
    {
     "name": "stderr",
     "output_type": "stream",
     "text": [
      "INFO:com.PhoHale.Spike3D.pipeline:NeuropyPipeline.__setstate__(state=\"{'pipeline_name': 'kdiba_pipeline', 'session_data_type': 'kdiba', '_stage': <pyphoplacecellanalysis.General.Pipeline.Stages.Display.DisplayPipelineStage object at 0x7f8c6c0e3640>}\")\n",
      "INFO:com.PhoHale.Spike3D.pipeline:select_filters(...) with: []\n",
      "INFO:com.PhoHale.Spike3D.pipeline:Performing perform_action_for_all_contexts with action EvaluationActions.EVALUATE_COMPUTATIONS on filtered_session with filter named \"maze1_odd\"...\n",
      "INFO:com.PhoHale.Spike3D.pipeline:WARNING: skipping computation because overwrite_extant_results=False and active_computation_results[maze1_odd] already exists and is non-None\n",
      "INFO:com.PhoHale.Spike3D.pipeline:\t TODO: this will prevent recomputation even when the excludelist/includelist or computation function definitions change. Rework so that this is smarter.\n",
      "INFO:com.PhoHale.Spike3D.pipeline:Performing perform_action_for_all_contexts with action EvaluationActions.EVALUATE_COMPUTATIONS on filtered_session with filter named \"maze2_odd\"...\n",
      "INFO:com.PhoHale.Spike3D.pipeline:WARNING: skipping computation because overwrite_extant_results=False and active_computation_results[maze2_odd] already exists and is non-None\n",
      "INFO:com.PhoHale.Spike3D.pipeline:\t TODO: this will prevent recomputation even when the excludelist/includelist or computation function definitions change. Rework so that this is smarter.\n",
      "INFO:com.PhoHale.Spike3D.pipeline:Performing perform_action_for_all_contexts with action EvaluationActions.EVALUATE_COMPUTATIONS on filtered_session with filter named \"maze_odd\"...\n",
      "INFO:com.PhoHale.Spike3D.pipeline:WARNING: skipping computation because overwrite_extant_results=False and active_computation_results[maze_odd] already exists and is non-None\n",
      "INFO:com.PhoHale.Spike3D.pipeline:\t TODO: this will prevent recomputation even when the excludelist/includelist or computation function definitions change. Rework so that this is smarter.\n",
      "INFO:com.PhoHale.Spike3D.pipeline:Performing perform_action_for_all_contexts with action EvaluationActions.EVALUATE_COMPUTATIONS on filtered_session with filter named \"maze1_even\"...\n",
      "INFO:com.PhoHale.Spike3D.pipeline:WARNING: skipping computation because overwrite_extant_results=False and active_computation_results[maze1_even] already exists and is non-None\n",
      "INFO:com.PhoHale.Spike3D.pipeline:\t TODO: this will prevent recomputation even when the excludelist/includelist or computation function definitions change. Rework so that this is smarter.\n",
      "INFO:com.PhoHale.Spike3D.pipeline:Performing perform_action_for_all_contexts with action EvaluationActions.EVALUATE_COMPUTATIONS on filtered_session with filter named \"maze2_even\"...\n",
      "INFO:com.PhoHale.Spike3D.pipeline:WARNING: skipping computation because overwrite_extant_results=False and active_computation_results[maze2_even] already exists and is non-None\n",
      "INFO:com.PhoHale.Spike3D.pipeline:\t TODO: this will prevent recomputation even when the excludelist/includelist or computation function definitions change. Rework so that this is smarter.\n",
      "INFO:com.PhoHale.Spike3D.pipeline:Performing perform_action_for_all_contexts with action EvaluationActions.EVALUATE_COMPUTATIONS on filtered_session with filter named \"maze_even\"...\n",
      "INFO:com.PhoHale.Spike3D.pipeline:WARNING: skipping computation because overwrite_extant_results=False and active_computation_results[maze_even] already exists and is non-None\n",
      "INFO:com.PhoHale.Spike3D.pipeline:\t TODO: this will prevent recomputation even when the excludelist/includelist or computation function definitions change. Rework so that this is smarter.\n",
      "INFO:com.PhoHale.Spike3D.pipeline:Performing perform_action_for_all_contexts with action EvaluationActions.EVALUATE_COMPUTATIONS on filtered_session with filter named \"maze1_any\"...\n",
      "INFO:com.PhoHale.Spike3D.pipeline:WARNING: skipping computation because overwrite_extant_results=False and active_computation_results[maze1_any] already exists and is non-None\n",
      "INFO:com.PhoHale.Spike3D.pipeline:\t TODO: this will prevent recomputation even when the excludelist/includelist or computation function definitions change. Rework so that this is smarter.\n",
      "INFO:com.PhoHale.Spike3D.pipeline:Performing perform_action_for_all_contexts with action EvaluationActions.EVALUATE_COMPUTATIONS on filtered_session with filter named \"maze2_any\"...\n",
      "INFO:com.PhoHale.Spike3D.pipeline:WARNING: skipping computation because overwrite_extant_results=False and active_computation_results[maze2_any] already exists and is non-None\n",
      "INFO:com.PhoHale.Spike3D.pipeline:\t TODO: this will prevent recomputation even when the excludelist/includelist or computation function definitions change. Rework so that this is smarter.\n",
      "INFO:com.PhoHale.Spike3D.pipeline:Performing perform_action_for_all_contexts with action EvaluationActions.EVALUATE_COMPUTATIONS on filtered_session with filter named \"maze_any\"...\n",
      "INFO:com.PhoHale.Spike3D.pipeline:WARNING: skipping computation because overwrite_extant_results=False and active_computation_results[maze_any] already exists and is non-None\n",
      "INFO:com.PhoHale.Spike3D.pipeline:\t TODO: this will prevent recomputation even when the excludelist/includelist or computation function definitions change. Rework so that this is smarter.\n",
      "INFO:com.PhoHale.Spike3D.pipeline:Performing global computations...\n",
      "INFO:com.PhoHale.Spike3D.pipeline:select_filters(...) with: []\n",
      "INFO:com.PhoHale.Spike3D.pipeline:Performing perform_action_for_all_contexts with action EvaluationActions.EVALUATE_COMPUTATIONS on filtered_session with filter named \"maze1_odd\"...\n"
     ]
    },
    {
     "name": "stdout",
     "output_type": "stream",
     "text": [
      "done.\n",
      "Loading pickled pipeline success: /media/halechr/MAX/Data/KDIBA/gor01/one/2006-6-08_14-26-15/loadedSessPickle.pkl.\n",
      "properties already present in pickled version. No need to save.\n",
      "pipeline load success!\n",
      "WARNING: No global_session or position passed, using old even/odd 'lap_dir' determination.\n",
      "using provided computation_functions_name_includelist: ['lap_direction_determination', 'pf_computation', 'firing_rate_trends', 'position_decoding']\n",
      "WARNING: skipping computation because overwrite_extant_results=False and active_computation_results[maze1_odd] already exists and is non-None\n",
      "\t TODO: this will prevent recomputation even when the excludelist/includelist or computation function definitions change. Rework so that this is smarter.\n",
      "WARNING: skipping computation because overwrite_extant_results=False and active_computation_results[maze2_odd] already exists and is non-None\n",
      "\t TODO: this will prevent recomputation even when the excludelist/includelist or computation function definitions change. Rework so that this is smarter.\n",
      "WARNING: skipping computation because overwrite_extant_results=False and active_computation_results[maze_odd] already exists and is non-None\n",
      "\t TODO: this will prevent recomputation even when the excludelist/includelist or computation function definitions change. Rework so that this is smarter.\n",
      "WARNING: skipping computation because overwrite_extant_results=False and active_computation_results[maze1_even] already exists and is non-None\n",
      "\t TODO: this will prevent recomputation even when the excludelist/includelist or computation function definitions change. Rework so that this is smarter.\n",
      "WARNING: skipping computation because overwrite_extant_results=False and active_computation_results[maze2_even] already exists and is non-None\n",
      "\t TODO: this will prevent recomputation even when the excludelist/includelist or computation function definitions change. Rework so that this is smarter.\n",
      "WARNING: skipping computation because overwrite_extant_results=False and active_computation_results[maze_even] already exists and is non-None\n",
      "\t TODO: this will prevent recomputation even when the excludelist/includelist or computation function definitions change. Rework so that this is smarter.\n",
      "WARNING: skipping computation because overwrite_extant_results=False and active_computation_results[maze1_any] already exists and is non-None\n",
      "\t TODO: this will prevent recomputation even when the excludelist/includelist or computation function definitions change. Rework so that this is smarter.\n",
      "WARNING: skipping computation because overwrite_extant_results=False and active_computation_results[maze2_any] already exists and is non-None\n",
      "\t TODO: this will prevent recomputation even when the excludelist/includelist or computation function definitions change. Rework so that this is smarter.\n",
      "WARNING: skipping computation because overwrite_extant_results=False and active_computation_results[maze_any] already exists and is non-None\n",
      "\t TODO: this will prevent recomputation even when the excludelist/includelist or computation function definitions change. Rework so that this is smarter.\n"
     ]
    },
    {
     "name": "stderr",
     "output_type": "stream",
     "text": [
      "INFO:com.PhoHale.Spike3D.pipeline:WARNING: skipping computation because overwrite_extant_results=False and active_computation_results[maze1_odd] already exists and is non-None\n",
      "INFO:com.PhoHale.Spike3D.pipeline:\t TODO: this will prevent recomputation even when the excludelist/includelist or computation function definitions change. Rework so that this is smarter.\n",
      "INFO:com.PhoHale.Spike3D.pipeline:Performing perform_action_for_all_contexts with action EvaluationActions.EVALUATE_COMPUTATIONS on filtered_session with filter named \"maze2_odd\"...\n",
      "INFO:com.PhoHale.Spike3D.pipeline:WARNING: skipping computation because overwrite_extant_results=False and active_computation_results[maze2_odd] already exists and is non-None\n",
      "INFO:com.PhoHale.Spike3D.pipeline:\t TODO: this will prevent recomputation even when the excludelist/includelist or computation function definitions change. Rework so that this is smarter.\n",
      "INFO:com.PhoHale.Spike3D.pipeline:Performing perform_action_for_all_contexts with action EvaluationActions.EVALUATE_COMPUTATIONS on filtered_session with filter named \"maze_odd\"...\n",
      "INFO:com.PhoHale.Spike3D.pipeline:WARNING: skipping computation because overwrite_extant_results=False and active_computation_results[maze_odd] already exists and is non-None\n",
      "INFO:com.PhoHale.Spike3D.pipeline:\t TODO: this will prevent recomputation even when the excludelist/includelist or computation function definitions change. Rework so that this is smarter.\n",
      "INFO:com.PhoHale.Spike3D.pipeline:Performing perform_action_for_all_contexts with action EvaluationActions.EVALUATE_COMPUTATIONS on filtered_session with filter named \"maze1_even\"...\n",
      "INFO:com.PhoHale.Spike3D.pipeline:WARNING: skipping computation because overwrite_extant_results=False and active_computation_results[maze1_even] already exists and is non-None\n",
      "INFO:com.PhoHale.Spike3D.pipeline:\t TODO: this will prevent recomputation even when the excludelist/includelist or computation function definitions change. Rework so that this is smarter.\n",
      "INFO:com.PhoHale.Spike3D.pipeline:Performing perform_action_for_all_contexts with action EvaluationActions.EVALUATE_COMPUTATIONS on filtered_session with filter named \"maze2_even\"...\n",
      "INFO:com.PhoHale.Spike3D.pipeline:WARNING: skipping computation because overwrite_extant_results=False and active_computation_results[maze2_even] already exists and is non-None\n",
      "INFO:com.PhoHale.Spike3D.pipeline:\t TODO: this will prevent recomputation even when the excludelist/includelist or computation function definitions change. Rework so that this is smarter.\n",
      "INFO:com.PhoHale.Spike3D.pipeline:Performing perform_action_for_all_contexts with action EvaluationActions.EVALUATE_COMPUTATIONS on filtered_session with filter named \"maze_even\"...\n",
      "INFO:com.PhoHale.Spike3D.pipeline:WARNING: skipping computation because overwrite_extant_results=False and active_computation_results[maze_even] already exists and is non-None\n",
      "INFO:com.PhoHale.Spike3D.pipeline:\t TODO: this will prevent recomputation even when the excludelist/includelist or computation function definitions change. Rework so that this is smarter.\n",
      "INFO:com.PhoHale.Spike3D.pipeline:Performing perform_action_for_all_contexts with action EvaluationActions.EVALUATE_COMPUTATIONS on filtered_session with filter named \"maze1_any\"...\n",
      "INFO:com.PhoHale.Spike3D.pipeline:WARNING: skipping computation because overwrite_extant_results=False and active_computation_results[maze1_any] already exists and is non-None\n",
      "INFO:com.PhoHale.Spike3D.pipeline:\t TODO: this will prevent recomputation even when the excludelist/includelist or computation function definitions change. Rework so that this is smarter.\n",
      "INFO:com.PhoHale.Spike3D.pipeline:Performing perform_action_for_all_contexts with action EvaluationActions.EVALUATE_COMPUTATIONS on filtered_session with filter named \"maze2_any\"...\n",
      "INFO:com.PhoHale.Spike3D.pipeline:WARNING: skipping computation because overwrite_extant_results=False and active_computation_results[maze2_any] already exists and is non-None\n",
      "INFO:com.PhoHale.Spike3D.pipeline:\t TODO: this will prevent recomputation even when the excludelist/includelist or computation function definitions change. Rework so that this is smarter.\n",
      "INFO:com.PhoHale.Spike3D.pipeline:Performing perform_action_for_all_contexts with action EvaluationActions.EVALUATE_COMPUTATIONS on filtered_session with filter named \"maze_any\"...\n",
      "INFO:com.PhoHale.Spike3D.pipeline:WARNING: skipping computation because overwrite_extant_results=False and active_computation_results[maze_any] already exists and is non-None\n",
      "INFO:com.PhoHale.Spike3D.pipeline:\t TODO: this will prevent recomputation even when the excludelist/includelist or computation function definitions change. Rework so that this is smarter.\n",
      "INFO:com.PhoHale.Spike3D.pipeline:Performing global computations...\n",
      "INFO:com.PhoHale.Spike3D.pipeline:select_filters(...) with: []\n",
      "INFO:com.PhoHale.Spike3D.pipeline:Performing perform_action_for_all_contexts with action EvaluationActions.EVALUATE_COMPUTATIONS on filtered_session with filter named \"maze1_odd\"...\n",
      "INFO:com.PhoHale.Spike3D.pipeline:WARNING: skipping computation because overwrite_extant_results=False and active_computation_results[maze1_odd] already exists and is non-None\n",
      "INFO:com.PhoHale.Spike3D.pipeline:\t TODO: this will prevent recomputation even when the excludelist/includelist or computation function definitions change. Rework so that this is smarter.\n",
      "INFO:com.PhoHale.Spike3D.pipeline:Performing perform_action_for_all_contexts with action EvaluationActions.EVALUATE_COMPUTATIONS on filtered_session with filter named \"maze2_odd\"...\n",
      "INFO:com.PhoHale.Spike3D.pipeline:WARNING: skipping computation because overwrite_extant_results=False and active_computation_results[maze2_odd] already exists and is non-None\n",
      "INFO:com.PhoHale.Spike3D.pipeline:\t TODO: this will prevent recomputation even when the excludelist/includelist or computation function definitions change. Rework so that this is smarter.\n",
      "INFO:com.PhoHale.Spike3D.pipeline:Performing perform_action_for_all_contexts with action EvaluationActions.EVALUATE_COMPUTATIONS on filtered_session with filter named \"maze_odd\"...\n",
      "INFO:com.PhoHale.Spike3D.pipeline:WARNING: skipping computation because overwrite_extant_results=False and active_computation_results[maze_odd] already exists and is non-None\n",
      "INFO:com.PhoHale.Spike3D.pipeline:\t TODO: this will prevent recomputation even when the excludelist/includelist or computation function definitions change. Rework so that this is smarter.\n",
      "INFO:com.PhoHale.Spike3D.pipeline:Performing perform_action_for_all_contexts with action EvaluationActions.EVALUATE_COMPUTATIONS on filtered_session with filter named \"maze1_even\"...\n",
      "INFO:com.PhoHale.Spike3D.pipeline:WARNING: skipping computation because overwrite_extant_results=False and active_computation_results[maze1_even] already exists and is non-None\n",
      "INFO:com.PhoHale.Spike3D.pipeline:\t TODO: this will prevent recomputation even when the excludelist/includelist or computation function definitions change. Rework so that this is smarter.\n",
      "INFO:com.PhoHale.Spike3D.pipeline:Performing perform_action_for_all_contexts with action EvaluationActions.EVALUATE_COMPUTATIONS on filtered_session with filter named \"maze2_even\"...\n",
      "INFO:com.PhoHale.Spike3D.pipeline:WARNING: skipping computation because overwrite_extant_results=False and active_computation_results[maze2_even] already exists and is non-None\n",
      "INFO:com.PhoHale.Spike3D.pipeline:\t TODO: this will prevent recomputation even when the excludelist/includelist or computation function definitions change. Rework so that this is smarter.\n",
      "INFO:com.PhoHale.Spike3D.pipeline:Performing perform_action_for_all_contexts with action EvaluationActions.EVALUATE_COMPUTATIONS on filtered_session with filter named \"maze_even\"...\n",
      "INFO:com.PhoHale.Spike3D.pipeline:WARNING: skipping computation because overwrite_extant_results=False and active_computation_results[maze_even] already exists and is non-None\n",
      "INFO:com.PhoHale.Spike3D.pipeline:\t TODO: this will prevent recomputation even when the excludelist/includelist or computation function definitions change. Rework so that this is smarter.\n",
      "INFO:com.PhoHale.Spike3D.pipeline:Performing perform_action_for_all_contexts with action EvaluationActions.EVALUATE_COMPUTATIONS on filtered_session with filter named \"maze1_any\"...\n",
      "INFO:com.PhoHale.Spike3D.pipeline:WARNING: skipping computation because overwrite_extant_results=False and active_computation_results[maze1_any] already exists and is non-None\n",
      "INFO:com.PhoHale.Spike3D.pipeline:\t TODO: this will prevent recomputation even when the excludelist/includelist or computation function definitions change. Rework so that this is smarter.\n",
      "INFO:com.PhoHale.Spike3D.pipeline:Performing perform_action_for_all_contexts with action EvaluationActions.EVALUATE_COMPUTATIONS on filtered_session with filter named \"maze2_any\"...\n",
      "INFO:com.PhoHale.Spike3D.pipeline:WARNING: skipping computation because overwrite_extant_results=False and active_computation_results[maze2_any] already exists and is non-None\n",
      "INFO:com.PhoHale.Spike3D.pipeline:\t TODO: this will prevent recomputation even when the excludelist/includelist or computation function definitions change. Rework so that this is smarter.\n",
      "INFO:com.PhoHale.Spike3D.pipeline:Performing perform_action_for_all_contexts with action EvaluationActions.EVALUATE_COMPUTATIONS on filtered_session with filter named \"maze_any\"...\n",
      "INFO:com.PhoHale.Spike3D.pipeline:WARNING: skipping computation because overwrite_extant_results=False and active_computation_results[maze_any] already exists and is non-None\n",
      "INFO:com.PhoHale.Spike3D.pipeline:\t TODO: this will prevent recomputation even when the excludelist/includelist or computation function definitions change. Rework so that this is smarter.\n",
      "INFO:com.PhoHale.Spike3D.pipeline:Performing global computations...\n",
      "INFO:com.PhoHale.Spike3D.pipeline:NeuropyPipeline.on_stage_changed(new_stage=\"PipelineStage.Displayed\")\n"
     ]
    },
    {
     "name": "stdout",
     "output_type": "stream",
     "text": [
      "WARNING: skipping computation because overwrite_extant_results=False and active_computation_results[maze1_odd] already exists and is non-None\n",
      "\t TODO: this will prevent recomputation even when the excludelist/includelist or computation function definitions change. Rework so that this is smarter.\n",
      "WARNING: skipping computation because overwrite_extant_results=False and active_computation_results[maze2_odd] already exists and is non-None\n",
      "\t TODO: this will prevent recomputation even when the excludelist/includelist or computation function definitions change. Rework so that this is smarter.\n",
      "WARNING: skipping computation because overwrite_extant_results=False and active_computation_results[maze_odd] already exists and is non-None\n",
      "\t TODO: this will prevent recomputation even when the excludelist/includelist or computation function definitions change. Rework so that this is smarter.\n",
      "WARNING: skipping computation because overwrite_extant_results=False and active_computation_results[maze1_even] already exists and is non-None\n",
      "\t TODO: this will prevent recomputation even when the excludelist/includelist or computation function definitions change. Rework so that this is smarter.\n",
      "WARNING: skipping computation because overwrite_extant_results=False and active_computation_results[maze2_even] already exists and is non-None\n",
      "\t TODO: this will prevent recomputation even when the excludelist/includelist or computation function definitions change. Rework so that this is smarter.\n",
      "WARNING: skipping computation because overwrite_extant_results=False and active_computation_results[maze_even] already exists and is non-None\n",
      "\t TODO: this will prevent recomputation even when the excludelist/includelist or computation function definitions change. Rework so that this is smarter.\n",
      "WARNING: skipping computation because overwrite_extant_results=False and active_computation_results[maze1_any] already exists and is non-None\n",
      "\t TODO: this will prevent recomputation even when the excludelist/includelist or computation function definitions change. Rework so that this is smarter.\n",
      "WARNING: skipping computation because overwrite_extant_results=False and active_computation_results[maze2_any] already exists and is non-None\n",
      "\t TODO: this will prevent recomputation even when the excludelist/includelist or computation function definitions change. Rework so that this is smarter.\n",
      "WARNING: skipping computation because overwrite_extant_results=False and active_computation_results[maze_any] already exists and is non-None\n",
      "\t TODO: this will prevent recomputation even when the excludelist/includelist or computation function definitions change. Rework so that this is smarter.\n",
      "WARNING: skipping computation because overwrite_extant_results=False and active_computation_results[maze1_odd] already exists and is non-None\n",
      "\t TODO: this will prevent recomputation even when the excludelist/includelist or computation function definitions change. Rework so that this is smarter.\n",
      "WARNING: skipping computation because overwrite_extant_results=False and active_computation_results[maze2_odd] already exists and is non-None\n",
      "\t TODO: this will prevent recomputation even when the excludelist/includelist or computation function definitions change. Rework so that this is smarter.\n",
      "WARNING: skipping computation because overwrite_extant_results=False and active_computation_results[maze_odd] already exists and is non-None\n",
      "\t TODO: this will prevent recomputation even when the excludelist/includelist or computation function definitions change. Rework so that this is smarter.\n",
      "WARNING: skipping computation because overwrite_extant_results=False and active_computation_results[maze1_even] already exists and is non-None\n",
      "\t TODO: this will prevent recomputation even when the excludelist/includelist or computation function definitions change. Rework so that this is smarter.\n",
      "WARNING: skipping computation because overwrite_extant_results=False and active_computation_results[maze2_even] already exists and is non-None\n",
      "\t TODO: this will prevent recomputation even when the excludelist/includelist or computation function definitions change. Rework so that this is smarter.\n",
      "WARNING: skipping computation because overwrite_extant_results=False and active_computation_results[maze_even] already exists and is non-None\n",
      "\t TODO: this will prevent recomputation even when the excludelist/includelist or computation function definitions change. Rework so that this is smarter.\n",
      "WARNING: skipping computation because overwrite_extant_results=False and active_computation_results[maze1_any] already exists and is non-None\n",
      "\t TODO: this will prevent recomputation even when the excludelist/includelist or computation function definitions change. Rework so that this is smarter.\n",
      "WARNING: skipping computation because overwrite_extant_results=False and active_computation_results[maze2_any] already exists and is non-None\n",
      "\t TODO: this will prevent recomputation even when the excludelist/includelist or computation function definitions change. Rework so that this is smarter.\n",
      "WARNING: skipping computation because overwrite_extant_results=False and active_computation_results[maze_any] already exists and is non-None\n",
      "\t TODO: this will prevent recomputation even when the excludelist/includelist or computation function definitions change. Rework so that this is smarter.\n"
     ]
    },
    {
     "name": "stderr",
     "output_type": "stream",
     "text": [
      "WARNING:com.PhoHale.Spike3D.pipeline:WARNING: saving_mode is SKIP_SAVING so pipeline will not be saved despite calling .save_pipeline(...).\n"
     ]
    },
    {
     "name": "stdout",
     "output_type": "stream",
     "text": [
      "WARNING: saving_mode is SKIP_SAVING so pipeline will not be saved despite calling .save_pipeline(...).\n",
      "saving_mode.shouldSave == False, so not saving at the end of batch_load_session\n",
      "DEPRICATION WARNING: workaround to allow subscripting ComputationResult objects. Will be depricated. key: computed_data\n",
      "DEPRICATION WARNING: workaround to allow subscripting ComputationResult objects. Will be depricated. key: computed_data\n",
      "DEPRICATION WARNING: workaround to allow subscripting ComputationResult objects. Will be depricated. key: computed_data\n",
      "DEPRICATION WARNING: workaround to allow subscripting ComputationResult objects. Will be depricated. key: computed_data\n",
      "DEPRICATION WARNING: workaround to allow subscripting ComputationResult objects. Will be depricated. key: computed_data\n",
      "DEPRICATION WARNING: workaround to allow subscripting ComputationResult objects. Will be depricated. key: computed_data\n",
      "were pipeline preprocessing parameters missing and updated?: False\n"
     ]
    }
   ],
   "source": [
    "# ==================================================================================================================== #\n",
    "# Load Data                                                                                                            #\n",
    "# ==================================================================================================================== #\n",
    "\n",
    "active_data_mode_name = 'kdiba'\n",
    "local_session_root_parent_context = IdentifyingContext(format_name=active_data_mode_name) # , animal_name='', configuration_name='one', session_name=a_sess.session_name\n",
    "local_session_root_parent_path = global_data_root_parent_path.joinpath('KDIBA')\n",
    "\n",
    "# [*] - indicates bad or session with a problem\n",
    "# 0, 1, 2, 3, 4, 5, 6, 7, [8], [9], 10, 11, [12], 13, 14, [15], [16], 17, \n",
    "# curr_context: IdentifyingContext = good_contexts_list[1] # select the session from all of the good sessions here.\n",
    "curr_context = IdentifyingContext(format_name='kdiba',animal='gor01',exper_name='one',session_name='2006-6-08_14-26-15') # DONE. Very good. Many good Pfs, many good replays.\n",
    "# curr_context = IdentifyingContext(format_name='kdiba',animal='gor01',exper_name='one',session_name='2006-6-09_1-22-43') # DONE, might be the BEST SESSION, good example session with lots of place cells, clean replays, and clear bar graphs.\n",
    "# curr_context = IdentifyingContext(format_name='kdiba',animal='gor01',exper_name='one',session_name='2006-6-12_15-55-31') # DONE, Good Pfs but no good replays ---- VERY weird effect of the replays, a sharp drop to strongly negative values more than 3/4 through the experiment.\n",
    "\n",
    "# curr_context = IdentifyingContext(format_name='kdiba',animal='gor01',exper_name='one',session_name='2006-6-13_14-42-6') # BAD, 2023-07-14, unsure why still.\n",
    "# curr_context = IdentifyingContext(format_name='kdiba',animal='gor01',exper_name='two',session_name='2006-6-07_16-40-19') # DONE, GREAT, both good Pfs and replays! Interesting see-saw!\n",
    "\n",
    "# curr_context = IdentifyingContext(format_name='kdiba',animal='gor01',exper_name='two',session_name='2006-6-08_21-16-25') # DONE, Added replay selections. Very \"jumpy\" between the starts and ends of the track.\n",
    "# curr_context = IdentifyingContext(format_name='kdiba',animal='gor01',exper_name='two',session_name='2006-6-09_22-24-40') # 2024-01-10 new RANKORDER APOGEE | DONE, Added replay selections. A TON of putative replays in general, most bad, but some good. LOOKIN GOOD!\n",
    "# curr_context = IdentifyingContext(format_name='kdiba',animal='gor01',exper_name='twolong_LR_pf1Dsession_name='2006-4-12_15-25-59') # BAD, No Epochs\n",
    "# curr_context = IdentifyingContext(format_name='kdiba',animal='vvp01',exper_name='two',session_name='2006-4-16_18-47-52')\n",
    "# curr_context = IdentifyingContext(format_name='kdiba',animal='vvp01',exper_name='two',session_name='2006-4-17_12-52-15')\n",
    "# curr_context = IdentifyingContext(format_name='kdiba',animal='vvp01',exper_name='two',session_name='2006-4-25_13-20-55')\n",
    "# curr_context = IdentifyingContext(format_name='kdiba',animal='vvp01',exper_name='two',session_name='2006-4-28_12-38-13')\n",
    "# curr_context = IdentifyingContext(format_name='kdiba',animal='pin01',exper_name='one',session_name='11-02_17-46-44') # DONE, good. Many good pfs, many good replays. Noticed very strange jumping off the track in the 3D behavior/spikes viewer. Is there something wrong with this session?\n",
    "# curr_context = IdentifyingContext(format_name='kdiba',animal='pin01',exper_name='one',session_name='11-02_19-28-0') # DONE, good?, replays selected, few --- \"ZeroDivisionError: float division by zero\"\n",
    "# curr_context = IdentifyingContext(format_name='kdiba',animal='pin01',exper_name='one',session_name='11-03_12-3-25') # DONE, very few replays\n",
    "\n",
    "# curr_context = IdentifyingContext(format_name='kdiba',animal='pin01',exper_name='one',session_name='11-09_12-15-3') ### KeyError: 'maze1_odd'\n",
    "# curr_context = IdentifyingContext(format_name='kdiba',animal='pin01',exper_name='one',session_name='11-09_22-4-5') ### \n",
    "\n",
    "# curr_context = IdentifyingContext(format_name='kdiba',animal='pin01',exper_name='one',session_name='fet11-01_12-58-54') # DONE, replays selected, quite a few replays but few are very good.\n",
    "\n",
    "# curr_context = IdentifyingContext(format_name='kdiba',animal='gor01',exper_name='two',session_name='2006-6-08_21-16-25')\n",
    "\n",
    "local_session_parent_path: Path = local_session_root_parent_path.joinpath(curr_context.animal, curr_context.exper_name) # 'gor01', 'one' - probably not needed anymore\n",
    "basedir: Path = local_session_parent_path.joinpath(curr_context.session_name).resolve()\n",
    "print(f'basedir: {str(basedir)}')\n",
    "\n",
    "# Read if possible:\n",
    "saving_mode = PipelineSavingScheme.SKIP_SAVING\n",
    "force_reload = False\n",
    "# \n",
    "# # Force write:\n",
    "# saving_mode = PipelineSavingScheme.TEMP_THEN_OVERWRITE\n",
    "# saving_mode = PipelineSavingScheme.OVERWRITE_IN_PLACE\n",
    "# force_reload = True\n",
    "\n",
    "## TODO: if loading is not possible, we need to change the `saving_mode` so that the new results are properly saved.\n",
    "\n",
    "# ==================================================================================================================== #\n",
    "# Load Pipeline                                                                                                        #\n",
    "# ==================================================================================================================== #\n",
    "# with VizTracer(output_file=f\"viztracer_{get_now_time_str()}-full_session_LOO_decoding_analysis.json\", min_duration=200, tracer_entries=3000000, ignore_frozen=True) as tracer:\n",
    "# epoch_name_includelist = ['maze']\n",
    "epoch_name_includelist = None\n",
    "active_computation_functions_name_includelist=['lap_direction_determination', 'pf_computation',\n",
    "                                            #    'pfdt_computation',\n",
    "                                                'firing_rate_trends',\n",
    "                                                # 'pf_dt_sequential_surprise', \n",
    "                                            #    'ratemap_peaks_prominence2d',\n",
    "                                                'position_decoding', \n",
    "                                                # 'position_decoding_two_step', \n",
    "                                            #    'long_short_decoding_analyses', 'jonathan_firing_rate_analysis', 'long_short_fr_indicies_analyses', 'short_long_pf_overlap_analyses', 'long_short_post_decoding', 'long_short_rate_remapping',\n",
    "                                            #     'long_short_inst_spike_rate_groups',\n",
    "                                            #     'long_short_endcap_analysis',\n",
    "                                            # 'split_to_directional_laps',\n",
    "]\n",
    "\n",
    "curr_active_pipeline: NeuropyPipeline = batch_load_session(global_data_root_parent_path, active_data_mode_name, basedir, epoch_name_includelist=epoch_name_includelist,\n",
    "                                        computation_functions_name_includelist=active_computation_functions_name_includelist,\n",
    "                                        saving_mode=saving_mode, force_reload=force_reload,\n",
    "                                        skip_extended_batch_computations=True, debug_print=False, fail_on_exception=True) # , active_pickle_filename = 'loadedSessPickle_withParameters.pkl'\n",
    "\n",
    "\n",
    "\n",
    "## Post Compute Validate 2023-05-16:\n",
    "was_updated = BatchSessionCompletionHandler.post_compute_validate(curr_active_pipeline) ## TODO: need to potentially re-save if was_updated. This will fail because constained versions not ran yet.\n",
    "if was_updated:\n",
    "    print(f'was_updated: {was_updated}')\n",
    "    try:\n",
    "        curr_active_pipeline.save_pipeline(saving_mode=saving_mode)\n",
    "    except Exception as e:\n",
    "        ## TODO: catch/log saving error and indicate that it isn't saved.\n",
    "        exception_info = sys.exc_info()\n",
    "        e = CapturedException(e, exception_info)\n",
    "        print(f'ERROR RE-SAVING PIPELINE after update. error: {e}')\n"
   ]
  },
  {
   "cell_type": "code",
   "execution_count": 3,
   "id": "188ed6fa",
   "metadata": {
    "notebookRunGroups": {
     "groupValue": "1"
    }
   },
   "outputs": [
    {
     "data": {
      "text/plain": [
       "['DirectionalLaps',\n",
       " 'DirectionalMergedDecoders',\n",
       " 'RankOrder',\n",
       " 'jonathan_firing_rate_analysis',\n",
       " 'long_short_leave_one_out_decoding_analysis',\n",
       " 'short_long_pf_overlap_analyses',\n",
       " 'long_short_fr_indicies_analysis',\n",
       " 'long_short_post_decoding',\n",
       " 'long_short_inst_spike_rate_groups',\n",
       " 'long_short_endcap',\n",
       " 'DirectionalDecodersDecoded']"
      ]
     },
     "execution_count": 3,
     "metadata": {},
     "output_type": "execute_result"
    }
   ],
   "source": [
    "list(curr_active_pipeline.global_computation_results.computed_data.keys())\n",
    "\n",
    "\n",
    "# 2024-01-22 ERROR: when the pipeline is manually saved, its global_computations seem to be saved to the pickle too. After modifying how global computations are loaded from pickle, the following global computations code block no longer appropriately overwrites the existing results."
   ]
  },
  {
   "cell_type": "code",
   "execution_count": null,
   "id": "fd94b83e",
   "metadata": {},
   "outputs": [],
   "source": [
    "global_dropped_keys, local_dropped_keys = curr_active_pipeline.perform_drop_computed_result(computed_data_keys_to_drop=['DirectionalLaps', 'DirectionalMergedDecoders', 'RankOrder', 'DirectionalDecodersDecoded'], debug_print=True)\n",
    "# global_dropped_keys, local_dropped_keys = curr_active_pipeline.perform_drop_computed_result(computed_data_keys_to_drop=[k for k in list(curr_active_pipeline.global_computation_results.computed_data.keys())], debug_print=True) # drop all global keys\n"
   ]
  },
  {
   "cell_type": "code",
   "execution_count": 4,
   "id": "acba46b6",
   "metadata": {
    "ExecuteTime": {
     "end_time": "2023-11-16T23:21:40.574268400Z",
     "start_time": "2023-11-16T23:21:35.966373700Z"
    },
    "notebookRunGroups": {
     "groupValue": "1"
    }
   },
   "outputs": [
    {
     "name": "stdout",
     "output_type": "stream",
     "text": [
      "Loading loaded session pickle file results : /media/halechr/MAX/Data/KDIBA/gor01/one/2006-6-08_14-26-15/output/global_computation_results.pkl... done.\n"
     ]
    },
    {
     "data": {
      "text/plain": [
       "(['DirectionalLaps',\n",
       "  'DirectionalMergedDecoders',\n",
       "  'RankOrder',\n",
       "  'jonathan_firing_rate_analysis',\n",
       "  'long_short_leave_one_out_decoding_analysis',\n",
       "  'short_long_pf_overlap_analyses',\n",
       "  'long_short_fr_indicies_analysis',\n",
       "  'long_short_post_decoding',\n",
       "  'long_short_inst_spike_rate_groups',\n",
       "  'long_short_endcap',\n",
       "  'DirectionalDecodersDecoded'],\n",
       " ['DirectionalLaps',\n",
       "  'DirectionalMergedDecoders',\n",
       "  'RankOrder',\n",
       "  'jonathan_firing_rate_analysis',\n",
       "  'long_short_leave_one_out_decoding_analysis',\n",
       "  'short_long_pf_overlap_analyses',\n",
       "  'long_short_fr_indicies_analysis',\n",
       "  'long_short_post_decoding',\n",
       "  'long_short_inst_spike_rate_groups',\n",
       "  'long_short_endcap',\n",
       "  'DirectionalDecodersDecoded'])"
      ]
     },
     "execution_count": 4,
     "metadata": {},
     "output_type": "execute_result"
    },
    {
     "name": "stdout",
     "output_type": "stream",
     "text": [
      "included includelist is specified: ['lap_direction_determination', 'ratemap_peaks_prominence2d', 'long_short_decoding_analyses', 'jonathan_firing_rate_analysis', 'long_short_fr_indicies_analyses', 'short_long_pf_overlap_analyses', 'long_short_post_decoding', 'long_short_rate_remapping', 'long_short_inst_spike_rate_groups', 'long_short_endcap_analysis', 'split_to_directional_laps', 'merged_directional_placefields', 'rank_order_shuffle_analysis', 'directional_decoders_decode_continuous'], so only performing these extended computations.\n",
      "Running batch_extended_computations(...) with global_epoch_name: \"maze_any\"\n",
      "WARNING: after execution of all _comp_specifiers found the functions: {'long_short_rate_remapping': False} still remain! Are they correct and do they have proper validator decorators?\n",
      "done with all batch_extended_computations(...).\n",
      "newly_computed_values: [('lap_direction_determination', 'maze_any'), ('ratemap_peaks_prominence2d', 'maze_any'), ('split_to_directional_laps', 'maze_any'), ('merged_directional_placefields', 'maze_any'), ('directional_decoders_decode_continuous', 'maze_any'), ('rank_order_shuffle_analysis', 'maze_any'), ('long_short_decoding_analyses', 'maze_any'), ('short_long_pf_overlap_analyses', 'maze_any'), ('long_short_fr_indicies_analyses', 'maze_any'), ('jonathan_firing_rate_analysis', 'maze_any'), ('long_short_post_decoding', 'maze_any'), ('long_short_inst_spike_rate_groups', 'maze_any'), ('long_short_endcap_analysis', 'maze_any')].\n",
      "\n",
      "\n",
      "!!WARNING!!: changes to global results have been made but they will not be saved since saving_mode.value == \"skip_saving\"\n",
      "\tthe global results are currently unsaved! proceed with caution and save as soon as you can!\n",
      "\n",
      "\n",
      "\n"
     ]
    }
   ],
   "source": [
    "### GLOBAL COMPUTATIONS:\n",
    "extended_computations_include_includelist=['lap_direction_determination', #'pf_computation', 'firing_rate_trends',# 'pfdt_computation',\n",
    "    # 'pf_dt_sequential_surprise',\n",
    "     'ratemap_peaks_prominence2d',\n",
    "    'long_short_decoding_analyses', 'jonathan_firing_rate_analysis', 'long_short_fr_indicies_analyses', 'short_long_pf_overlap_analyses', \n",
    "    'long_short_post_decoding', # #TODO 2024-01-19 05:49: - [ ] `'long_short_post_decoding' is broken for some reason `AttributeError: 'NoneType' object has no attribute 'active_filter_epochs'``\n",
    "    'long_short_rate_remapping',\n",
    "    'long_short_inst_spike_rate_groups',\n",
    "    'long_short_endcap_analysis',\n",
    "    # 'spike_burst_detection',\n",
    "    'split_to_directional_laps',\n",
    "    'merged_directional_placefields',\n",
    "    'rank_order_shuffle_analysis',\n",
    "    'directional_decoders_decode_continuous'\n",
    "] # do only specified\n",
    "\n",
    "force_recompute_override_computations_includelist = None\n",
    "# force_recompute_override_computations_includelist = ['merged_directional_placefields']\n",
    "# force_recompute_override_computations_includelist = ['split_to_directional_laps', 'merged_directional_placefields', 'rank_order_shuffle_analysis'] # , 'directional_decoders_decode_continuous'\n",
    "# force_recompute_override_computations_includelist = ['directional_decoders_decode_continuous'] # \n",
    "\n",
    "\n",
    "if not force_reload: # not just force_reload, needs to recompute whenever the computation fails.\n",
    "    try:\n",
    "        # curr_active_pipeline.load_pickled_global_computation_results()\n",
    "        curr_active_pipeline.load_pickled_global_computation_results(allow_overwrite_existing=True, allow_overwrite_existing_allow_keys=extended_computations_include_includelist) # is new\n",
    "    except Exception as e:\n",
    "        exception_info = sys.exc_info()\n",
    "        e = CapturedException(e, exception_info)\n",
    "        print(f'cannot load global results: {e}')\n",
    "        raise\n",
    "\n",
    "curr_active_pipeline.reload_default_computation_functions()\n",
    "\n",
    "force_recompute_global = force_reload\n",
    "# force_recompute_global = True\n",
    "newly_computed_values = batch_extended_computations(curr_active_pipeline, include_includelist=extended_computations_include_includelist, include_global_functions=True, fail_on_exception=False, progress_print=True,\n",
    "                                                    force_recompute=force_recompute_global, force_recompute_override_computations_includelist=force_recompute_override_computations_includelist, debug_print=False)\n",
    "if (len(newly_computed_values) > 0):\n",
    "    print(f'newly_computed_values: {newly_computed_values}.')\n",
    "    if (saving_mode.value != 'skip_saving'):\n",
    "        print(f'Saving global results...')\n",
    "        try:\n",
    "            # curr_active_pipeline.global_computation_results.persist_time = datetime.now()\n",
    "            # Try to write out the global computation function results:\n",
    "            curr_active_pipeline.save_global_computation_results()\n",
    "        except Exception as e:\n",
    "            exception_info = sys.exc_info()\n",
    "            e = CapturedException(e, exception_info)\n",
    "            print(f'\\n\\n!!WARNING!!: saving the global results threw the exception: {e}')\n",
    "            print(f'\\tthe global results are currently unsaved! proceed with caution and save as soon as you can!\\n\\n\\n')\n",
    "    else:\n",
    "        print(f'\\n\\n!!WARNING!!: changes to global results have been made but they will not be saved since saving_mode.value == \"skip_saving\"')\n",
    "        print(f'\\tthe global results are currently unsaved! proceed with caution and save as soon as you can!\\n\\n\\n')\n",
    "else:\n",
    "    print(f'no changes in global results.')\n",
    "\n",
    "# except Exception as e:\n",
    "#     exception_info = sys.exc_info()\n",
    "#     e = CapturedException(e, exception_info)\n",
    "#     print(f'second half threw: {e}')\n",
    "\n",
    "# 4m 5.2s for inst fr computations\n"
   ]
  },
  {
   "cell_type": "code",
   "execution_count": null,
   "id": "ee3d4f61",
   "metadata": {},
   "outputs": [],
   "source": [
    "curr_active_pipeline.reload_default_computation_functions()\n"
   ]
  },
  {
   "cell_type": "code",
   "execution_count": null,
   "id": "47820977",
   "metadata": {},
   "outputs": [],
   "source": [
    "\n",
    "extended_computations_include_includelist=['lap_direction_determination', 'pf_computation', 'firing_rate_trends', 'pfdt_computation',\n",
    "    # 'pf_dt_sequential_surprise',\n",
    "    #  'ratemap_peaks_prominence2d',\n",
    "    'long_short_decoding_analyses',\n",
    "    'jonathan_firing_rate_analysis',\n",
    "    'long_short_fr_indicies_analyses',\n",
    "    'short_long_pf_overlap_analyses',\n",
    "    'long_short_post_decoding',\n",
    "    'long_short_rate_remapping',\n",
    "    'long_short_inst_spike_rate_groups',\n",
    "    'long_short_endcap_analysis',\n",
    "    # 'spike_burst_detection',\n",
    "    'split_to_directional_laps',\n",
    "    'merged_directional_placefields',\n",
    "    'rank_order_shuffle_analysis',\n",
    "    'directional_decoders_decode_continuous'\n",
    "] # do only specified\n",
    "\n",
    "# force_recompute_override_computations_includelist = ['split_to_directional_laps',\n",
    "#     # 'merged_directional_placefields',\n",
    "#     # 'directional_decoders_decode_continuous',\n",
    "# ]\n",
    "force_recompute_override_computations_includelist = None\n",
    "\n",
    "newly_computed_values = batch_extended_computations(curr_active_pipeline, include_includelist=extended_computations_include_includelist, include_global_functions=True, fail_on_exception=True, progress_print=True,\n",
    "                                                    force_recompute=force_recompute_global, force_recompute_override_computations_includelist=force_recompute_override_computations_includelist, debug_print=False)\n",
    "newly_computed_values\n"
   ]
  },
  {
   "cell_type": "code",
   "execution_count": null,
   "id": "4262dd1b",
   "metadata": {},
   "outputs": [],
   "source": [
    "\n"
   ]
  },
  {
   "cell_type": "code",
   "execution_count": null,
   "id": "272e20f8",
   "metadata": {},
   "outputs": [],
   "source": [
    "# curr_active_pipeline.reload_default_computation_functions()\n",
    "# force_recompute_override_computations_includelist = ['_decode_continuous_using_directional_decoders']\n",
    "# curr_active_pipeline.perform_specific_computation(computation_functions_name_includelist=['_decode_continuous_using_directional_decoders'], force_recompute_override_computations_includelist=force_recompute_override_computations_includelist,\n",
    "# \t\t\t\t\t\t\t\t\t\t\t\t   enabled_filter_names=None, fail_on_exception=True, debug_print=False)\n",
    "# curr_active_pipeline.perform_specific_computation(computation_functions_name_includelist=['_decode_continuous_using_directional_decoders'], computation_kwargs_list=[{'time_bin_size': 0.025}], enabled_filter_names=None, fail_on_exception=True, debug_print=False)\n",
    "# curr_active_pipeline.perform_specific_computation(extended_computations_include_includelist=['_decode_continuous_using_directional_decoders'], computation_kwargs_list=[{'time_bin_size': 0.02}], enabled_filter_names=None, fail_on_exception=True, debug_print=False)\n",
    "curr_active_pipeline.perform_specific_computation(computation_functions_name_includelist=['pfdt_computation'], enabled_filter_names=None, fail_on_exception=True, debug_print=False)"
   ]
  },
  {
   "cell_type": "code",
   "execution_count": null,
   "id": "0b7ab89f",
   "metadata": {},
   "outputs": [],
   "source": [
    "curr_active_pipeline.save_global_computation_results() # newly_computed_values: [('pfdt_computation', 'maze_any')]"
   ]
  },
  {
   "cell_type": "code",
   "execution_count": null,
   "id": "ec7af96d",
   "metadata": {},
   "outputs": [],
   "source": [
    "split_save_folder, split_save_paths, split_save_output_types, failed_keys = curr_active_pipeline.save_split_global_computation_results(debug_print=True)"
   ]
  },
  {
   "cell_type": "markdown",
   "id": "77babf98",
   "metadata": {},
   "source": [
    "## Continue Saving/Exporting stuf"
   ]
  },
  {
   "cell_type": "code",
   "execution_count": null,
   "id": "c2a869b1",
   "metadata": {},
   "outputs": [],
   "source": [
    "curr_active_pipeline.export_pipeline_to_h5()"
   ]
  },
  {
   "cell_type": "code",
   "execution_count": null,
   "id": "e3f06d1f",
   "metadata": {},
   "outputs": [],
   "source": [
    "curr_active_pipeline.clear_display_outputs()\n",
    "curr_active_pipeline.clear_registered_output_files()"
   ]
  },
  {
   "cell_type": "code",
   "execution_count": null,
   "id": "837f39f2",
   "metadata": {},
   "outputs": [],
   "source": [
    "curr_active_pipeline.save_pipeline(saving_mode=PipelineSavingScheme.TEMP_THEN_OVERWRITE)\n",
    "# curr_active_pipeline.save_pipeline()"
   ]
  },
  {
   "cell_type": "markdown",
   "id": "693db067",
   "metadata": {},
   "source": [
    "# Pho Interactive Pipeline Jupyter Widget"
   ]
  },
  {
   "cell_type": "code",
   "execution_count": 5,
   "id": "e275e3bb",
   "metadata": {
    "notebookRunGroups": {
     "groupValue": "1"
    }
   },
   "outputs": [
    {
     "data": {
      "application/vnd.jupyter.widget-view+json": {
       "model_id": "5ac1fc2f25f340eabcbae2acf0b80e84",
       "version_major": 2,
       "version_minor": 0
      },
      "text/plain": [
       "VBox(children=(Box(children=(Label(value='session path:', layout=Layout(width='auto')), Label(value='/media/halechr/MAX/Data/KDIBA/gor01/one/2006-6-08_14-26-15/output', layout=Layout(flex='1 1 auto', margin='2px', width='auto')), Button(button_style='info', description='Copy', layout=Layout(flex='0 1 auto', margin='1px', width='auto'), style=ButtonStyle(), tooltip='Copy to Clipboard'), Button(button_style='info', description='Reveal', icon='folder-tree', layout=Layout(flex='0 1 auto', margin='1px', width='auto'), style=ButtonStyle(), tooltip='Reveal in System Explorer')), layout=Layout(align_items='stretch', display='flex', flex_flow='row', width='70%')), HBox(children=(Button(description='Output Folder', style=ButtonStyle()), Button(description='global pickle', style=ButtonStyle()), Button(description='pipeline pickle', style=ButtonStyle()), Button(description='.h5 export', style=ButtonStyle()), Button(description='TEST - Dialog', style=ButtonStyle()), Button(description='Save Pipeline', style=ButtonStyle()))), HBox(children=(Button(description='Reload display functions...', style=ButtonStyle()), Button(description='Reload computation functions...', style=ButtonStyle()))), ToggleButton(value=True, description='Figures Displaying')))"
      ]
     },
     "execution_count": 5,
     "metadata": {},
     "output_type": "execute_result"
    }
   ],
   "source": [
    "import ipywidgets as widgets\n",
    "from IPython.display import display\n",
    "from pyphocorehelpers.Filesystem.open_in_system_file_manager import reveal_in_system_file_manager\n",
    "from pyphoplacecellanalysis.GUI.IPyWidgets.pipeline_ipywidgets import interactive_pipeline_widget, interactive_pipeline_files\n",
    "\n",
    "_pipeline_jupyter_widget = interactive_pipeline_widget(curr_active_pipeline=curr_active_pipeline)\n",
    "# display(_pipeline_jupyter_widget)\n",
    "_pipeline_jupyter_widget"
   ]
  },
  {
   "cell_type": "markdown",
   "id": "1fe54599",
   "metadata": {},
   "source": [
    "# End Run"
   ]
  },
  {
   "cell_type": "code",
   "execution_count": 6,
   "id": "1a533ba8",
   "metadata": {
    "ExecuteTime": {
     "end_time": "2023-11-16T23:21:40.700275900Z",
     "start_time": "2023-11-16T23:21:40.584273Z"
    },
    "notebookRunGroups": {
     "groupValue": "1"
    }
   },
   "outputs": [
    {
     "data": {
      "text/plain": [
       "(0.0, 1211.5580800310709, 2093.8978568242164)"
      ]
     },
     "execution_count": 6,
     "metadata": {},
     "output_type": "execute_result"
    }
   ],
   "source": [
    "# (long_one_step_decoder_1D, short_one_step_decoder_1D), (long_one_step_decoder_2D, short_one_step_decoder_2D) = compute_short_long_constrained_decoders(curr_active_pipeline, recalculate_anyway=True)\n",
    "long_epoch_name, short_epoch_name, global_epoch_name = curr_active_pipeline.find_LongShortGlobal_epoch_names()\n",
    "long_epoch_context, short_epoch_context, global_epoch_context = [curr_active_pipeline.filtered_contexts[a_name] for a_name in (long_epoch_name, short_epoch_name, global_epoch_name)]\n",
    "long_epoch_obj, short_epoch_obj = [Epoch(curr_active_pipeline.sess.epochs.to_dataframe().epochs.label_slice(an_epoch_name.removesuffix('_any'))) for an_epoch_name in [long_epoch_name, short_epoch_name]] #TODO 2023-11-10 20:41: - [ ] Issue with getting actual Epochs from sess.epochs for directional laps: emerges because long_epoch_name: 'maze1_any' and the actual epoch label in curr_active_pipeline.sess.epochs is 'maze1' without the '_any' part.\n",
    "long_session, short_session, global_session = [curr_active_pipeline.filtered_sessions[an_epoch_name] for an_epoch_name in [long_epoch_name, short_epoch_name, global_epoch_name]]\n",
    "long_results, short_results, global_results = [curr_active_pipeline.computation_results[an_epoch_name].computed_data for an_epoch_name in [long_epoch_name, short_epoch_name, global_epoch_name]]\n",
    "long_computation_config, short_computation_config, global_computation_config = [curr_active_pipeline.computation_results[an_epoch_name].computation_config for an_epoch_name in [long_epoch_name, short_epoch_name, global_epoch_name]]\n",
    "long_pf1D, short_pf1D, global_pf1D = long_results.pf1D, short_results.pf1D, global_results.pf1D\n",
    "long_pf2D, short_pf2D, global_pf2D = long_results.pf2D, short_results.pf2D, global_results.pf2D\n",
    "\n",
    "assert short_epoch_obj.n_epochs > 0, f'long_epoch_obj: {long_epoch_obj}, short_epoch_obj: {short_epoch_obj}'\n",
    "assert long_epoch_obj.n_epochs > 0, f'long_epoch_obj: {long_epoch_obj}, short_epoch_obj: {short_epoch_obj}'\n",
    "\n",
    "t_start, t_delta, t_end = curr_active_pipeline.find_LongShortDelta_times()\n",
    "t_start, t_delta, t_end"
   ]
  },
  {
   "cell_type": "code",
   "execution_count": null,
   "id": "92b35196",
   "metadata": {},
   "outputs": [],
   "source": [
    "# I have several python variables I want to print: t_start, t_delta, t_end\n",
    "# I want to generate a print statement that explicitly lists the variable name prior to its value like `print(f't_start: {t_start}, t_delta: {t_delta}, t_end: {t_end}')`\n",
    "# Currently I have to t_start, t_delta, t_end\n",
    "curr_active_pipeline.get_session_context()\n",
    "\n",
    "print(f'{curr_active_pipeline.session_name}:\\tt_start: {t_start}, t_delta: {t_delta}, t_end: {t_end}')\n"
   ]
  },
  {
   "cell_type": "code",
   "execution_count": 29,
   "id": "9071e94f",
   "metadata": {
    "ExecuteTime": {
     "end_time": "2023-11-16T23:21:43.601382Z",
     "start_time": "2023-11-16T23:21:40.702275600Z"
    },
    "notebookRunGroups": {
     "groupValue": "1"
    }
   },
   "outputs": [
    {
     "name": "stdout",
     "output_type": "stream",
     "text": [
      "WARN: 2023-09-28 16:15: - [ ] fix the combination properties. Would work if we directly used the computed _is_L_only and _is_S_only above\n",
      "WARNING: PAPER_FIGURE_figure_1_add_replay_epoch_rasters(...): no user-assigned manually labeled replay epochs. Reeturning all epochs.\n",
      "WARN: 2023-09-28 16:15: - [ ] fix the combination properties. Would work if we directly used the computed _is_L_only and _is_S_only above\n"
     ]
    }
   ],
   "source": [
    "## long_short_decoding_analyses:\n",
    "from attrs import astuple\n",
    "from pyphoplacecellanalysis.General.Pipeline.Stages.ComputationFunctions.MultiContextComputationFunctions.LongShortTrackComputations import LeaveOneOutDecodingAnalysis\n",
    "\n",
    "curr_long_short_decoding_analyses: LeaveOneOutDecodingAnalysis = curr_active_pipeline.global_computation_results.computed_data['long_short_leave_one_out_decoding_analysis']\n",
    "long_one_step_decoder_1D, short_one_step_decoder_1D, long_replays, short_replays, global_replays, long_shared_aclus_only_decoder, short_shared_aclus_only_decoder, shared_aclus, long_short_pf_neurons_diff, n_neurons, long_results_obj, short_results_obj, is_global = curr_long_short_decoding_analyses.long_decoder, curr_long_short_decoding_analyses.short_decoder, curr_long_short_decoding_analyses.long_replays, curr_long_short_decoding_analyses.short_replays, curr_long_short_decoding_analyses.global_replays, curr_long_short_decoding_analyses.long_shared_aclus_only_decoder, curr_long_short_decoding_analyses.short_shared_aclus_only_decoder, curr_long_short_decoding_analyses.shared_aclus, curr_long_short_decoding_analyses.long_short_pf_neurons_diff, curr_long_short_decoding_analyses.n_neurons, curr_long_short_decoding_analyses.long_results_obj, curr_long_short_decoding_analyses.short_results_obj, curr_long_short_decoding_analyses.is_global \n",
    "decoding_time_bin_size = long_one_step_decoder_1D.time_bin_size # 1.0/30.0 # 0.03333333333333333\n",
    "\n",
    "## Get global `long_short_fr_indicies_analysis`:\n",
    "long_short_fr_indicies_analysis_results = curr_active_pipeline.global_computation_results.computed_data['long_short_fr_indicies_analysis']\n",
    "long_laps, long_replays, short_laps, short_replays, global_laps, global_replays = [long_short_fr_indicies_analysis_results[k] for k in ['long_laps', 'long_replays', 'short_laps', 'short_replays', 'global_laps', 'global_replays']]\n",
    "long_short_fr_indicies_df = long_short_fr_indicies_analysis_results['long_short_fr_indicies_df']\n",
    "\n",
    "## Get global 'long_short_post_decoding' results:\n",
    "curr_long_short_post_decoding = curr_active_pipeline.global_computation_results.computed_data['long_short_post_decoding']\n",
    "expected_v_observed_result, curr_long_short_rr = curr_long_short_post_decoding.expected_v_observed_result, curr_long_short_post_decoding.rate_remapping\n",
    "rate_remapping_df, high_remapping_cells_only = curr_long_short_rr.rr_df, curr_long_short_rr.high_only_rr_df\n",
    "Flat_epoch_time_bins_mean, Flat_decoder_time_bin_centers, num_neurons, num_timebins_in_epoch, num_total_flat_timebins, is_short_track_epoch, is_long_track_epoch, short_short_diff, long_long_diff = expected_v_observed_result.Flat_epoch_time_bins_mean, expected_v_observed_result.Flat_decoder_time_bin_centers, expected_v_observed_result.num_neurons, expected_v_observed_result.num_timebins_in_epoch, expected_v_observed_result.num_total_flat_timebins, expected_v_observed_result.is_short_track_epoch, expected_v_observed_result.is_long_track_epoch, expected_v_observed_result.short_short_diff, expected_v_observed_result.long_long_diff\n",
    "\n",
    "jonathan_firing_rate_analysis_result: JonathanFiringRateAnalysisResult = curr_active_pipeline.global_computation_results.computed_data.jonathan_firing_rate_analysis\n",
    "(epochs_df_L, epochs_df_S), (filter_epoch_spikes_df_L, filter_epoch_spikes_df_S), (good_example_epoch_indicies_L, good_example_epoch_indicies_S), (short_exclusive, long_exclusive, BOTH_subset, EITHER_subset, XOR_subset, NEITHER_subset), new_all_aclus_sort_indicies, assigning_epochs_obj = PAPER_FIGURE_figure_1_add_replay_epoch_rasters(curr_active_pipeline)\n",
    "neuron_replay_stats_df, short_exclusive, long_exclusive, BOTH_subset, EITHER_subset, XOR_subset, NEITHER_subset = jonathan_firing_rate_analysis_result.get_cell_track_partitions(frs_index_inclusion_magnitude=0.05)\n",
    "\n",
    "## Update long_exclusive/short_exclusive properties with `long_short_fr_indicies_df`\n",
    "# long_exclusive.refine_exclusivity_by_inst_frs_index(long_short_fr_indicies_df, frs_index_inclusion_magnitude=0.5)\n",
    "# short_exclusive.refine_exclusivity_by_inst_frs_index(long_short_fr_indicies_df, frs_index_inclusion_magnitude=0.5)\n"
   ]
  },
  {
   "cell_type": "code",
   "execution_count": null,
   "id": "4ba8f0cf",
   "metadata": {
    "notebookRunGroups": {
     "groupValue": "1"
    }
   },
   "outputs": [],
   "source": [
    "curr_long_short_decoding_analyses.long_results_obj"
   ]
  },
  {
   "cell_type": "code",
   "execution_count": null,
   "id": "b83acf39",
   "metadata": {},
   "outputs": [],
   "source": [
    "expected_v_observed_result.observed_from_expected_diff_ptp_LONG"
   ]
  },
  {
   "cell_type": "code",
   "execution_count": 7,
   "id": "c49f5d4f",
   "metadata": {
    "notebookRunGroups": {
     "groupValue": "1"
    }
   },
   "outputs": [],
   "source": [
    "# Unpack all directional variables:\n",
    "## {\"even\": \"RL\", \"odd\": \"LR\"}\n",
    "long_LR_name, short_LR_name, global_LR_name, long_RL_name, short_RL_name, global_RL_name, long_any_name, short_any_name, global_any_name = ['maze1_odd', 'maze2_odd', 'maze_odd', 'maze1_even', 'maze2_even', 'maze_even', 'maze1_any', 'maze2_any', 'maze_any']\n",
    "\n",
    "# Most popular\n",
    "# long_LR_name, short_LR_name, long_RL_name, short_RL_name, global_any_name\n",
    "\n",
    "# Unpacking for `(long_LR_name, long_RL_name, short_LR_name, short_RL_name)`\n",
    "(long_LR_context, long_RL_context, short_LR_context, short_RL_context) = [curr_active_pipeline.filtered_contexts[a_name] for a_name in (long_LR_name, long_RL_name, short_LR_name, short_RL_name)]\n",
    "long_LR_epochs_obj, long_RL_epochs_obj, short_LR_epochs_obj, short_RL_epochs_obj, global_any_laps_epochs_obj = [curr_active_pipeline.computation_results[an_epoch_name].computation_config.pf_params.computation_epochs for an_epoch_name in (long_LR_name, long_RL_name, short_LR_name, short_RL_name, global_any_name)] # note has global also\n",
    "(long_LR_session, long_RL_session, short_LR_session, short_RL_session) = [curr_active_pipeline.filtered_sessions[an_epoch_name] for an_epoch_name in (long_LR_name, long_RL_name, short_LR_name, short_RL_name)] # sessions are correct at least, seems like just the computation parameters are messed up\n",
    "(long_LR_results, long_RL_results, short_LR_results, short_RL_results) = [curr_active_pipeline.computation_results[an_epoch_name].computed_data for an_epoch_name in (long_LR_name, long_RL_name, short_LR_name, short_RL_name)]\n",
    "(long_LR_computation_config, long_RL_computation_config, short_LR_computation_config, short_RL_computation_config) = [curr_active_pipeline.computation_results[an_epoch_name].computation_config for an_epoch_name in (long_LR_name, long_RL_name, short_LR_name, short_RL_name)]\n",
    "(long_LR_pf1D, long_RL_pf1D, short_LR_pf1D, short_RL_pf1D) = (long_LR_results.pf1D, long_RL_results.pf1D, short_LR_results.pf1D, short_RL_results.pf1D)\n",
    "(long_LR_pf2D, long_RL_pf2D, short_LR_pf2D, short_RL_pf2D) = (long_LR_results.pf2D, long_RL_results.pf2D, short_LR_results.pf2D, short_RL_results.pf2D)\n",
    "(long_LR_pf1D_Decoder, long_RL_pf1D_Decoder, short_LR_pf1D_Decoder, short_RL_pf1D_Decoder) = (long_LR_results.pf1D_Decoder, long_RL_results.pf1D_Decoder, short_LR_results.pf1D_Decoder, short_RL_results.pf1D_Decoder)\n"
   ]
  },
  {
   "cell_type": "code",
   "execution_count": 8,
   "id": "7104fc37",
   "metadata": {
    "notebookRunGroups": {
     "groupValue": "1"
    }
   },
   "outputs": [
    {
     "name": "stdout",
     "output_type": "stream",
     "text": [
      "minimum_inclusion_fr_Hz: 5.0\n",
      "included_qclu_values: [1, 2]\n"
     ]
    }
   ],
   "source": [
    "from pyphoplacecellanalysis.General.Pipeline.Stages.ComputationFunctions.MultiContextComputationFunctions.DirectionalPlacefieldGlobalComputationFunctions import DirectionalMergedDecodersResult, DirectionalLapsResult, DirectionalDecodersDecodedResult\n",
    "\n",
    "directional_laps_results: DirectionalLapsResult = curr_active_pipeline.global_computation_results.computed_data['DirectionalLaps']\n",
    "directional_merged_decoders_result: DirectionalMergedDecodersResult = curr_active_pipeline.global_computation_results.computed_data['DirectionalMergedDecoders']   \n",
    "rank_order_results: RankOrderComputationsContainer = curr_active_pipeline.global_computation_results.computed_data['RankOrder']\n",
    "minimum_inclusion_fr_Hz: float = rank_order_results.minimum_inclusion_fr_Hz\n",
    "included_qclu_values: float = rank_order_results.included_qclu_values\n",
    "print(f'minimum_inclusion_fr_Hz: {minimum_inclusion_fr_Hz}')\n",
    "print(f'included_qclu_values: {included_qclu_values}')"
   ]
  },
  {
   "cell_type": "code",
   "execution_count": null,
   "id": "65751b8a",
   "metadata": {},
   "outputs": [],
   "source": [
    "# Export the decoded epochs to a file so they can be compared across sessions?\n",
    "directional_merged_decoders_result.all_directional_laps_filter_epochs_decoder_result.to_hdf(Path('output/all_directional_laps_filter_epochs_decoder_result.hdf').resolve(), 'all_directional_laps_filter_epochs_decoder_result', enable_hdf_testing_mode=True, debug_print=True)\n",
    "directional_merged_decoders_result.all_directional_laps_filter_epochs_decoder_result.filter_epochs.to_hdf('output/all_directional_laps_filter_epochs_decoder_result-filter_epochs.hdf', 'filter_epochs')\n",
    "directional_merged_decoders_result.all_directional_laps_filter_epochs_decoder_result.filter_epochs.to_dataframe()\n"
   ]
  },
  {
   "cell_type": "code",
   "execution_count": 9,
   "id": "238f67cb",
   "metadata": {
    "notebookRunGroups": {
     "groupValue": "1"
    }
   },
   "outputs": [
    {
     "name": "stdout",
     "output_type": "stream",
     "text": [
      "previously_decoded time_bin_sizes: [0.025]\n"
     ]
    }
   ],
   "source": [
    "from pyphoplacecellanalysis.General.Pipeline.Stages.ComputationFunctions.MultiContextComputationFunctions.DirectionalPlacefieldGlobalComputationFunctions import DirectionalDecodersDecodedResult\n",
    "\n",
    "directional_decoders_decode_result: DirectionalDecodersDecodedResult = curr_active_pipeline.global_computation_results.computed_data['DirectionalDecodersDecoded']\n",
    "all_directional_pf1D_Decoder_dict: Dict[str, BasePositionDecoder] = directional_decoders_decode_result.pf1D_Decoder_dict\n",
    "pseudo2D_decoder: BasePositionDecoder = directional_decoders_decode_result.pseudo2D_decoder\n",
    "spikes_df = directional_decoders_decode_result.spikes_df\n",
    "continuously_decoded_result_cache_dict = directional_decoders_decode_result.continuously_decoded_result_cache_dict\n",
    "previously_decoded_keys: List[float] = list(continuously_decoded_result_cache_dict.keys()) # [0.03333]\n",
    "print(F'previously_decoded time_bin_sizes: {previously_decoded_keys}')\n"
   ]
  },
  {
   "cell_type": "code",
   "execution_count": null,
   "id": "14c27c6a",
   "metadata": {},
   "outputs": [],
   "source": [
    "directional_decoders_decode_result"
   ]
  },
  {
   "cell_type": "code",
   "execution_count": null,
   "id": "1e5ed775",
   "metadata": {},
   "outputs": [],
   "source": [
    "continuously_decoded_result_cache_dict"
   ]
  },
  {
   "cell_type": "code",
   "execution_count": null,
   "id": "1d5126a4",
   "metadata": {},
   "outputs": [],
   "source": [
    "DirectionalDecodersDecodedResult.validate_has_directional_decoded_continuous_epochs(curr_active_pipeline)"
   ]
  },
  {
   "cell_type": "code",
   "execution_count": null,
   "id": "e3ed0870",
   "metadata": {},
   "outputs": [],
   "source": [
    "from pyphoplacecellanalysis.Analysis.Decoder.reconstruction import DecodedFilterEpochsResult\n",
    "\n",
    "\n",
    "most_recent_time_bin_size: float = directional_decoders_decode_result.most_recent_decoding_time_bin_size\n",
    "# most_recent_time_bin_size\n",
    "most_recent_continuously_decoded_dict = deepcopy(directional_decoders_decode_result.most_recent_continuously_decoded_dict)\n",
    "# most_recent_continuously_decoded_dict\n",
    "\n",
    "## Adds in the 'pseudo2D' decoder in:\n",
    "time_bin_size: float = directional_decoders_decode_result.most_recent_decoding_time_bin_size\n",
    "# time_bin_size: float = 0.01\n",
    "print(f'time_bin_size: {time_bin_size}')\n",
    "continuously_decoded_dict = continuously_decoded_result_cache_dict[time_bin_size]\n",
    "pseudo2D_decoder_continuously_decoded_result = continuously_decoded_dict.get('pseudo2D', None)\n",
    "if pseudo2D_decoder_continuously_decoded_result is None:\n",
    "\t# compute here...\n",
    "\t## Currently used for both cases to decode:\n",
    "\tt_start, t_delta, t_end = curr_active_pipeline.find_LongShortDelta_times()\n",
    "\tsingle_global_epoch_df: pd.DataFrame = pd.DataFrame({'start': [t_start], 'stop': [t_end], 'label': [0]}) # Build an Epoch object containing a single epoch, corresponding to the global epoch for the entire session:\n",
    "\tsingle_global_epoch: Epoch = Epoch(single_global_epoch_df)\n",
    "\tspikes_df = directional_decoders_decode_result.spikes_df\n",
    "\tpseudo2D_decoder_continuously_decoded_result: DecodedFilterEpochsResult = pseudo2D_decoder.decode_specific_epochs(spikes_df=deepcopy(spikes_df), filter_epochs=single_global_epoch, decoding_time_bin_size=time_bin_size, debug_print=False)\n",
    "\tcontinuously_decoded_dict['pseudo2D'] = pseudo2D_decoder_continuously_decoded_result\n",
    "\tcontinuously_decoded_dict"
   ]
  },
  {
   "cell_type": "code",
   "execution_count": null,
   "id": "c37af9e3",
   "metadata": {},
   "outputs": [],
   "source": [
    "non_marginalized_raw_result = DirectionalMergedDecodersResult.build_non_marginalized_raw_posteriors(pseudo2D_decoder_continuously_decoded_result)[0]['p_x_given_n']\n",
    "marginal_over_direction = DirectionalMergedDecodersResult.build_custom_marginal_over_direction(pseudo2D_decoder_continuously_decoded_result)[0]['p_x_given_n']\n",
    "marginal_over_track_ID = DirectionalMergedDecodersResult.build_custom_marginal_over_long_short(pseudo2D_decoder_continuously_decoded_result)[0]['p_x_given_n']\n",
    "non_marginalized_raw_result.shape # (4, 128672)\n",
    "marginal_over_direction.shape # (2, 128672)\n",
    "marginal_over_track_ID.shape # (2, 128672)"
   ]
  },
  {
   "cell_type": "code",
   "execution_count": null,
   "id": "647719b8",
   "metadata": {},
   "outputs": [],
   "source": [
    "track_identity_marginals, track_identity_all_epoch_bins_marginal, most_likely_track_identity_from_decoder, is_most_likely_track_identity_Long"
   ]
  },
  {
   "cell_type": "code",
   "execution_count": null,
   "id": "b8a15241",
   "metadata": {},
   "outputs": [],
   "source": [
    "active_marginal_list = plots_data.active_marginal_fn(plots_data.filter_epochs_decoder_result)"
   ]
  },
  {
   "cell_type": "code",
   "execution_count": null,
   "id": "75e2e0dd",
   "metadata": {},
   "outputs": [],
   "source": [
    "curr_active_pipeline.global_computation_results.computed_data['DirectionalDecodersDecoded'] = directional_decoders_decode_result"
   ]
  },
  {
   "cell_type": "code",
   "execution_count": null,
   "id": "bfe7fdc9",
   "metadata": {},
   "outputs": [],
   "source": [
    "# Update the original result:\n",
    "directional_decoders_decode_result.continuously_decoded_result_cache_dict[time_bin_size] = continuously_decoded_dict"
   ]
  },
  {
   "cell_type": "code",
   "execution_count": null,
   "id": "cbc8e5dc",
   "metadata": {},
   "outputs": [],
   "source": [
    "directional_decoders_decode_result.continuously_decoded_result_cache_dict[time_bin_size]"
   ]
  },
  {
   "cell_type": "code",
   "execution_count": null,
   "id": "c81017f4",
   "metadata": {},
   "outputs": [],
   "source": [
    "pseudo2D_decoder_continuously_decoded_result.marginal_x_list"
   ]
  },
  {
   "cell_type": "code",
   "execution_count": null,
   "id": "df668cc3",
   "metadata": {},
   "outputs": [],
   "source": [
    "assert len(pseudo2D_decoder_continuously_decoded_result.marginal_x_list) == 1\n",
    "marginal_x = pseudo2D_decoder_continuously_decoded_result.marginal_x_list[0]['p_x_given_n']\n",
    "marginal_x.shape # (62, 209389)\n"
   ]
  },
  {
   "cell_type": "code",
   "execution_count": null,
   "id": "c39cc2ce",
   "metadata": {},
   "outputs": [],
   "source": [
    "assert len(pseudo2D_decoder_continuously_decoded_result.marginal_y_list) == 1\n",
    "marginal_y = pseudo2D_decoder_continuously_decoded_result.marginal_y_list[0]['p_x_given_n']\n",
    "marginal_y.shape # (4, 209389)\n"
   ]
  },
  {
   "cell_type": "code",
   "execution_count": null,
   "id": "59c29796",
   "metadata": {},
   "outputs": [],
   "source": [
    "assert len(pseudo2D_decoder_continuously_decoded_result.p_x_given_n_list) == 1\n",
    "p_x_given_n = pseudo2D_decoder_continuously_decoded_result.p_x_given_n_list[0]\n",
    "# p_x_given_n = pseudo2D_decoder_continuously_decoded_result.p_x_given_n_list[0]['p_x_given_n']\n",
    "p_x_given_n.shape # (62, 4, 209389)\n",
    "\n",
    "## Split across the 2nd axis to make 1D posteriors that can be displayed in separate dock rows:\n",
    "assert p_x_given_n.shape[1] == 4, f\"expected the 4 pseudo-y bins for the decoder in p_x_given_n.shape[1]. but found p_x_given_n.shape: {p_x_given_n.shape}\"\n",
    "split_pseudo2D_posteriors_dict = {k:np.squeeze(p_x_given_n[:, i, :]) for i, k in enumerate(('long_LR', 'long_RL', 'short_LR', 'short_RL'))}\n"
   ]
  },
  {
   "cell_type": "code",
   "execution_count": null,
   "id": "90b648ac",
   "metadata": {},
   "outputs": [],
   "source": [
    "directional_decoders_decode_result.continuously_decoded_result_cache_dict[time_bin_size]"
   ]
  },
  {
   "cell_type": "code",
   "execution_count": null,
   "id": "599acd65",
   "metadata": {},
   "outputs": [],
   "source": [
    "continuously_decoded_dict"
   ]
  },
  {
   "cell_type": "code",
   "execution_count": null,
   "id": "41ea6554",
   "metadata": {},
   "outputs": [],
   "source": [
    "DirectionalDecodersDecodedResult.validate_has_directional_decoded_continuous_epochs(curr_active_pipeline=curr_active_pipeline)"
   ]
  },
  {
   "cell_type": "code",
   "execution_count": null,
   "id": "badc467d",
   "metadata": {},
   "outputs": [],
   "source": [
    "from typing import Callable, Type\n",
    "from neuropy.utils.mixins.HDF5_representable import HDFSerializationRegister\n",
    "\n",
    "a_register = HDFSerializationRegister()\n",
    "\n",
    "a_register.converion_registery[pd.DataFrame] = lambda x, *hdf_args, **hdf_kwargs: x.to_hdf(*hdf_args, **hdf_kwargs)\n",
    "a_register.converion_registery[Epoch] = lambda x, *hdf_args, **hdf_kwargs: x.to_dataframe().to_hdf(*hdf_args, **hdf_kwargs)\n",
    "\n",
    "\n",
    "# works!\n",
    "a_register.to_hdf(directional_merged_decoders_result.all_directional_laps_filter_epochs_decoder_result.filter_epochs, 'output/all_directional_laps_filter_epochs_decoder_result-filter_epochs.hdf', 'filter_epochs')\n"
   ]
  },
  {
   "cell_type": "code",
   "execution_count": null,
   "id": "982fca18",
   "metadata": {},
   "outputs": [],
   "source": [
    "\n",
    "\n",
    "# print_keys_if_possible('DirectionalMergedDecoders', directional_merged_decoders_result)\n",
    "\n",
    "from ansi2html import Ansi2HTMLConverter # used by DocumentationFilePrinter to build html document from ansi-color coded version\n",
    "from pyphocorehelpers.print_helpers import DocumentationFilePrinter\n",
    "\n",
    "doc_printer = DocumentationFilePrinter(doc_output_parent_folder=Path('EXTERNAL/DEVELOPER_NOTES/DataStructureDocumentation'), doc_name='DirectionalMergedDecodersResult')\n",
    "doc_printer.save_documentation('DirectionalMergedDecodersResult', directional_merged_decoders_result, non_expanded_item_keys=['_reverse_cellID_index_map'], additional_excluded_item_classes='neuropy.analyses.PfND', max_depth=2)\n"
   ]
  },
  {
   "cell_type": "code",
   "execution_count": 10,
   "id": "fa2dc5fe",
   "metadata": {
    "notebookRunGroups": {
     "groupValue": "1"
    }
   },
   "outputs": [],
   "source": [
    "# NEW 2023-11-22 method: Get the templates (which can be filtered by frate first) and the from those get the decoders):        \n",
    "# track_templates: TrackTemplates = directional_laps_results.get_shared_aclus_only_templates(minimum_inclusion_fr_Hz=minimum_inclusion_fr_Hz) # shared-only\n",
    "track_templates: TrackTemplates = directional_laps_results.get_templates(minimum_inclusion_fr_Hz=minimum_inclusion_fr_Hz) # non-shared-only\n",
    "long_LR_decoder, long_RL_decoder, short_LR_decoder, short_RL_decoder = track_templates.get_decoders()\n",
    "\n",
    "# Unpack all directional variables:\n",
    "## {\"even\": \"RL\", \"odd\": \"LR\"}\n",
    "long_LR_name, short_LR_name, global_LR_name, long_RL_name, short_RL_name, global_RL_name, long_any_name, short_any_name, global_any_name = ['maze1_odd', 'maze2_odd', 'maze_odd', 'maze1_even', 'maze2_even', 'maze_even', 'maze1_any', 'maze2_any', 'maze_any']\n",
    "# Unpacking for `(long_LR_name, long_RL_name, short_LR_name, short_RL_name)`\n",
    "(long_LR_context, long_RL_context, short_LR_context, short_RL_context) = [curr_active_pipeline.filtered_contexts[a_name] for a_name in (long_LR_name, long_RL_name, short_LR_name, short_RL_name)]\n",
    "long_LR_epochs_obj, long_RL_epochs_obj, short_LR_epochs_obj, short_RL_epochs_obj, global_any_laps_epochs_obj = [curr_active_pipeline.computation_results[an_epoch_name].computation_config.pf_params.computation_epochs for an_epoch_name in (long_LR_name, long_RL_name, short_LR_name, short_RL_name, global_any_name)] # note has global also\n",
    "(long_LR_session, long_RL_session, short_LR_session, short_RL_session) = [curr_active_pipeline.filtered_sessions[an_epoch_name] for an_epoch_name in (long_LR_name, long_RL_name, short_LR_name, short_RL_name)] # sessions are correct at least, seems like just the computation parameters are messed up\n",
    "(long_LR_results, long_RL_results, short_LR_results, short_RL_results) = [curr_active_pipeline.computation_results[an_epoch_name].computed_data for an_epoch_name in (long_LR_name, long_RL_name, short_LR_name, short_RL_name)]\n",
    "(long_LR_computation_config, long_RL_computation_config, short_LR_computation_config, short_RL_computation_config) = [curr_active_pipeline.computation_results[an_epoch_name].computation_config for an_epoch_name in (long_LR_name, long_RL_name, short_LR_name, short_RL_name)]\n",
    "(long_LR_pf1D, long_RL_pf1D, short_LR_pf1D, short_RL_pf1D) = (long_LR_results.pf1D, long_RL_results.pf1D, short_LR_results.pf1D, short_RL_results.pf1D)\n",
    "(long_LR_pf2D, long_RL_pf2D, short_LR_pf2D, short_RL_pf2D) = (long_LR_results.pf2D, long_RL_results.pf2D, short_LR_results.pf2D, short_RL_results.pf2D)\n",
    "(long_LR_pf1D_Decoder, long_RL_pf1D_Decoder, short_LR_pf1D_Decoder, short_RL_pf1D_Decoder) = (long_LR_results.pf1D_Decoder, long_RL_results.pf1D_Decoder, short_LR_results.pf1D_Decoder, short_RL_results.pf1D_Decoder)\n",
    "\n",
    "# `LongShortStatsItem` form (2024-01-02):\n",
    "# LR_results_real_values = np.array([(a_result_item.long_stats_z_scorer.real_value, a_result_item.short_stats_z_scorer.real_value) for epoch_id, a_result_item in rank_order_results.LR_ripple.ranked_aclus_stats_dict.items()])\n",
    "# RL_results_real_values = np.array([(a_result_item.long_stats_z_scorer.real_value, a_result_item.short_stats_z_scorer.real_value) for epoch_id, a_result_item in rank_order_results.RL_ripple.ranked_aclus_stats_dict.items()])\n",
    "LR_results_long_short_z_diffs = np.array([a_result_item.long_short_z_diff for epoch_id, a_result_item in rank_order_results.LR_ripple.ranked_aclus_stats_dict.items()])\n",
    "RL_results_long_short_z_diff = np.array([a_result_item.long_short_z_diff for epoch_id, a_result_item in rank_order_results.RL_ripple.ranked_aclus_stats_dict.items()])\n"
   ]
  },
  {
   "cell_type": "code",
   "execution_count": null,
   "id": "c260739a4f36c662",
   "metadata": {},
   "outputs": [],
   "source": [
    "active_burst_intervals = curr_active_pipeline.computation_results[global_epoch_name].computed_data['burst_detection']['burst_intervals']\n",
    "# active_burst_intervals"
   ]
  },
  {
   "cell_type": "code",
   "execution_count": null,
   "id": "769a1c6006aba5b7",
   "metadata": {},
   "outputs": [],
   "source": [
    "# Relative Entropy/Surprise Results:\n",
    "active_extended_stats = global_results['extended_stats']\n",
    "active_relative_entropy_results = active_extended_stats['pf_dt_sequential_surprise'] # DynamicParameters\n",
    "historical_snapshots = active_relative_entropy_results['historical_snapshots']\n",
    "post_update_times: np.ndarray = active_relative_entropy_results['post_update_times'] # (4152,) = (n_post_update_times,)\n",
    "snapshot_differences_result_dict = active_relative_entropy_results['snapshot_differences_result_dict']\n",
    "time_intervals: np.ndarray = active_relative_entropy_results['time_intervals']\n",
    "surprise_time_bin_duration = (post_update_times[2]-post_update_times[1])\n",
    "long_short_rel_entr_curves_frames: np.ndarray = active_relative_entropy_results['long_short_rel_entr_curves_frames'] # (4152, 108, 63) = (n_post_update_times, n_neurons, n_xbins)\n",
    "short_long_rel_entr_curves_frames: np.ndarray = active_relative_entropy_results['short_long_rel_entr_curves_frames'] # (4152, 108, 63) = (n_post_update_times, n_neurons, n_xbins)\n",
    "flat_relative_entropy_results: np.ndarray = active_relative_entropy_results['flat_relative_entropy_results'] # (149, 63) - (nSnapshots, nXbins)\n",
    "flat_jensen_shannon_distance_results: np.ndarray = active_relative_entropy_results['flat_jensen_shannon_distance_results'] # (149, 63) - (nSnapshots, nXbins)\n",
    "flat_jensen_shannon_distance_across_all_positions: np.ndarray = np.sum(np.abs(flat_jensen_shannon_distance_results), axis=1) # sum across all position bins # (4152,) - (nSnapshots)\n",
    "flat_surprise_across_all_positions: np.ndarray = np.sum(np.abs(flat_relative_entropy_results), axis=1) # sum across all position bins # (4152,) - (nSnapshots)\n",
    "\n",
    "## Get the placefield dt matrix:\n",
    "if 'snapshot_occupancy_weighted_tuning_maps' not in active_relative_entropy_results:\n",
    "\t## Compute it if missing:\n",
    "\toccupancy_weighted_tuning_maps_over_time = np.stack([placefield_snapshot.occupancy_weighted_tuning_maps_matrix for placefield_snapshot in historical_snapshots.values()])\n",
    "\tactive_relative_entropy_results['snapshot_occupancy_weighted_tuning_maps'] = occupancy_weighted_tuning_maps_over_time\n",
    "else:\n",
    "\toccupancy_weighted_tuning_maps_over_time = active_relative_entropy_results['snapshot_occupancy_weighted_tuning_maps'] # (n_post_update_times, n_neurons, n_xbins)\n"
   ]
  },
  {
   "cell_type": "code",
   "execution_count": null,
   "id": "9554d3bf5955d9d3",
   "metadata": {},
   "outputs": [],
   "source": [
    "# Time-dependent\n",
    "long_pf1D_dt, short_pf1D_dt, global_pf1D_dt = long_results.pf1D_dt, short_results.pf1D_dt, global_results.pf1D_dt\n",
    "long_pf2D_dt, short_pf2D_dt, global_pf2D_dt = long_results.pf2D_dt, short_results.pf2D_dt, global_results.pf2D_dt\n",
    "global_pf1D_dt: PfND_TimeDependent = global_results.pf1D_dt\n",
    "global_pf2D_dt: PfND_TimeDependent = global_results.pf2D_dt"
   ]
  },
  {
   "cell_type": "code",
   "execution_count": null,
   "id": "8624c62d5c18c556",
   "metadata": {},
   "outputs": [],
   "source": [
    "## long_short_endcap_analysis: checks for cells localized to the endcaps that have their placefields truncated after shortening the track\n",
    "truncation_checking_result: TruncationCheckingResults = curr_active_pipeline.global_computation_results.computed_data.long_short_endcap\n",
    "disappearing_endcap_aclus = truncation_checking_result.disappearing_endcap_aclus\n",
    "# disappearing_endcap_aclus\n",
    "trivially_remapping_endcap_aclus = truncation_checking_result.minor_remapping_endcap_aclus\n",
    "# trivially_remapping_endcap_aclus\n",
    "significant_distant_remapping_endcap_aclus = truncation_checking_result.significant_distant_remapping_endcap_aclus\n",
    "# significant_distant_remapping_endcap_aclus\n",
    "appearing_aclus = jonathan_firing_rate_analysis_result.neuron_replay_stats_df[jonathan_firing_rate_analysis_result.neuron_replay_stats_df['track_membership'] == SplitPartitionMembership.RIGHT_ONLY].index\n",
    "# appearing_aclus"
   ]
  },
  {
   "cell_type": "code",
   "execution_count": null,
   "id": "cbf30c04",
   "metadata": {},
   "outputs": [],
   "source": [
    "curr_active_pipeline.prepare_for_display()\n",
    "curr_active_pipeline.display('_display_1d_placefields', 'maze1_odd') # , 'maze1_odd'\n"
   ]
  },
  {
   "cell_type": "code",
   "execution_count": null,
   "id": "bcc832fb",
   "metadata": {},
   "outputs": [],
   "source": [
    "from pyphoplacecellanalysis.General.Mixins.ExportHelpers import programmatic_render_to_file\n",
    "\n",
    "programmatic_render_to_file(curr_active_pipeline, curr_display_function_name='_display_1d_placefields', write_vector_format=True, write_png=True, debug_print=True)"
   ]
  },
  {
   "cell_type": "code",
   "execution_count": null,
   "id": "6314950a",
   "metadata": {},
   "outputs": [],
   "source": [
    "curr_active_pipeline.reload_default_display_functions()\n",
    "curr_active_pipeline.prepare_for_display()"
   ]
  },
  {
   "cell_type": "code",
   "execution_count": null,
   "id": "b0ccab8b",
   "metadata": {},
   "outputs": [],
   "source": [
    "_out = curr_active_pipeline.display('_display_1d_placefields', 'maze_any')"
   ]
  },
  {
   "cell_type": "code",
   "execution_count": null,
   "id": "357f844b",
   "metadata": {},
   "outputs": [],
   "source": [
    "curr_active_pipeline.display('_display_1d_placefields', 'maze_any')"
   ]
  },
  {
   "cell_type": "code",
   "execution_count": null,
   "id": "546f7639",
   "metadata": {},
   "outputs": [],
   "source": [
    "curr_active_pipeline.display('_display_placemaps_pyqtplot_2D', 'maze2_odd')"
   ]
  },
  {
   "cell_type": "code",
   "execution_count": null,
   "id": "0aaf32b0",
   "metadata": {},
   "outputs": [],
   "source": [
    "curr_active_pipeline.display('_display_1d_placefields', 'maze2_odd')"
   ]
  },
  {
   "cell_type": "code",
   "execution_count": null,
   "id": "45a6994d",
   "metadata": {},
   "outputs": [],
   "source": [
    "curr_active_pipeline.display('_display_3d_interactive_spike_and_behavior_browser', 'maze1_odd')"
   ]
  },
  {
   "cell_type": "code",
   "execution_count": null,
   "id": "cfbb1191",
   "metadata": {},
   "outputs": [],
   "source": [
    "\n",
    "# Adjust layout to make space for the footer\n",
    "# plt.subplots_adjust(bottom=0.35)\n",
    "\n",
    "plt.tight_layout(pad=2.0)"
   ]
  },
  {
   "cell_type": "code",
   "execution_count": null,
   "id": "885ecb1d",
   "metadata": {},
   "outputs": [],
   "source": [
    "_display_placemaps_pyqtplot_2D"
   ]
  },
  {
   "cell_type": "code",
   "execution_count": null,
   "id": "44a1db23",
   "metadata": {},
   "outputs": [],
   "source": [
    "curr_active_pipeline.registered_display_function_docs_dict"
   ]
  },
  {
   "cell_type": "code",
   "execution_count": null,
   "id": "b558758b",
   "metadata": {},
   "outputs": [],
   "source": [
    "from mpl_multitab import MplMultiTab, MplMultiTab2D\n",
    "from pyphoplacecellanalysis.General.Mixins.ExportHelpers import programmatic_display_to_PDF, programmatic_render_to_file\n",
    "from pyphoplacecellanalysis.PhoPositionalData.plotting.placefield import plot_single_cell_1D_placecell_validation\n",
    "from pyphoplacecellanalysis.PhoPositionalData.plotting.placefield import plot_1d_placecell_validations\n",
    "\n",
    "\n",
    "# matplotlib_configuration_update(is_interactive=True)\n",
    "\n",
    "# curr_active_pipeline.display('_display_grid_bin_bounds_validation')\n",
    "_out = curr_active_pipeline.display('_display_1d_placefield_validations', 'maze1_odd')\n",
    "_out.ui.show()"
   ]
  },
  {
   "cell_type": "code",
   "execution_count": null,
   "id": "7f301b08",
   "metadata": {},
   "outputs": [],
   "source": [
    "\n",
    "programmatic_display_to_PDF(curr_active_pipeline, curr_display_function_name='_display_1d_placefield_validations', filter_name='maze1_odd', debug_print=True)\n",
    "\n",
    "# plt.show()"
   ]
  },
  {
   "cell_type": "code",
   "execution_count": null,
   "id": "3f824cf2",
   "metadata": {},
   "outputs": [],
   "source": [
    "placefield_cell_index = 0\n",
    "active_epoch_placefields1D = deepcopy(long_pf1D)\n",
    "curr_cell_normalized_tuning_curve = active_epoch_placefields1D.ratemap.normalized_tuning_curves[placefield_cell_index, :].squeeze()\n",
    "{'xbin_centers': active_epoch_placefields1D.ratemap.xbin_centers, 'curr_cell_normalized_tuning_curve': curr_cell_normalized_tuning_curve}\n",
    "\n",
    "{'xbin_centers': np.array([31.0565, 34.8495, 38.6426, 42.4356, 46.2286, 50.0216, 53.8147, 57.6077, 61.4007, 65.1937, 68.9867, 72.7798, 76.5728, 80.3658, 84.1588, 87.9519, 91.7449, 95.5379, 99.3309, 103.124, 106.917, 110.71, 114.503, 118.296, 122.089, 125.882, 129.675, 133.468, 137.261, 141.054, 144.847, 148.64, 152.433, 156.226, 160.019, 163.812, 167.605, 171.398, 175.191, 178.984, 182.777, 186.57, 190.363, 194.157, 197.95, 201.743, 205.536, 209.329, 213.122, 216.915, 220.708, 224.501, 228.294, 232.087, 235.88, 239.673, 243.466, 247.259, 251.052, 254.845, 258.638, 262.431]),\n",
    " 'curr_cell_normalized_tuning_curve': np.array([5.92979e-05, 0.000150933, 0.00036895, 0.000736517, 0.00121915, 0.00173714, 0.0022042, 0.00252859, 0.0026496, 0.0027108, 0.00312627, 0.00423033, 0.00579314, 0.00709557, 0.00766535, 0.00789647, 0.00884807, 0.0115452, 0.0165549, 0.0238423, 0.0323681, 0.039895, 0.0442459, 0.0452642, 0.0449909, 0.0457691, 0.0485138, 0.0525281, 0.0562324, 0.0581433, 0.0575758, 0.0544383, 0.0486438, 0.0404683, 0.0315115, 0.0243731, 0.0207242, 0.0199181, 0.0197507, 0.0183449, 0.0153819, 0.0119837, 0.00951012, 0.00827676, 0.00740415, 0.00596512, 0.00396809, 0.00210018, 0.000875453, 0.000302685, 0.000153468, 0.00027615, 0.000667689, 0.00135676, 0.00224608, 0.00305331, 0.0034339, 0.0031979, 0.0024518, 0.00153458, 0.00079294, 0.000405152])}\n"
   ]
  },
  {
   "cell_type": "code",
   "execution_count": null,
   "id": "ff5d7994",
   "metadata": {},
   "outputs": [],
   "source": [
    "# batch_extended_programmatic_figures\n"
   ]
  },
  {
   "cell_type": "code",
   "execution_count": null,
   "id": "40083faa",
   "metadata": {},
   "outputs": [],
   "source": [
    "curr_active_pipeline.display('_display_1d_placefields', 'maze1_odd')"
   ]
  },
  {
   "cell_type": "code",
   "execution_count": null,
   "id": "77344ed3",
   "metadata": {},
   "outputs": [],
   "source": [
    "curr_active_pipeline.display('_display_1d_placefields', 'maze2_even')"
   ]
  },
  {
   "cell_type": "code",
   "execution_count": null,
   "id": "a66fdc07",
   "metadata": {},
   "outputs": [],
   "source": [
    "\n",
    "#TODO 2023-11-29 09:18: - [ ] Not good, the self.filtered_contexts are not unique!\n",
    "list(curr_active_pipeline.filtered_contexts.values())\n",
    "# [IdentifyingContext<(... 'maze2')>, IdentifyingContext<(... 'maze2')>, IdentifyingContext<(..., 'maze')>, IdentifyingContext<(... 'maze2')>, IdentifyingContext<(... 'maze2')>, IdentifyingContext<(..., 'maze')>, IdentifyingContext<(...ze1_any')>, IdentifyingContext<(... 'maze2')>, IdentifyingContext<(..., 'maze')>]\n",
    "[(v == curr_active_pipeline.filtered_contexts['maze1_even']) for v in list(curr_active_pipeline.filtered_contexts.values())]\n",
    "# [True, True, False, True, True, False, False, True, False]\n",
    "# meaning `curr_active_pipeline.display('_display_1d_placefields', curr_active_pipeline.filtered_contexts['maze1_even'])` doesn't work\n",
    "curr_active_pipeline.filtered_contexts.index(curr_active_pipeline.filtered_contexts['maze1_even'])"
   ]
  },
  {
   "cell_type": "code",
   "execution_count": null,
   "id": "8c4e9d82",
   "metadata": {},
   "outputs": [],
   "source": [
    "curr_active_pipeline.display('_display_1d_placefields', 'maze2_odd')\n"
   ]
  },
  {
   "cell_type": "code",
   "execution_count": null,
   "id": "497d3385",
   "metadata": {},
   "outputs": [],
   "source": [
    "write_vector_format = False\n",
    "write_png = True\n",
    "debug_print = True\n",
    "from neuropy.plotting.ratemaps import BackgroundRenderingOptions\n",
    "\n",
    "programmatic_render_to_file(curr_active_pipeline, curr_display_function_name='_display_2d_placefield_result_plot_ratemaps_2D', write_vector_format=write_vector_format, write_png=write_png, debug_print=debug_print, bg_rendering_mode=BackgroundRenderingOptions.EMPTY) #  🟢✅ Now seems to be working and saving to PDF!! Still using matplotlib.use('Qt5Agg') mode and plots still appear.\n"
   ]
  },
  {
   "cell_type": "code",
   "execution_count": null,
   "id": "ce7e9185",
   "metadata": {},
   "outputs": [],
   "source": [
    "_out = curr_active_pipeline.display('_display_2d_placefield_occupancy', 'maze2_any')"
   ]
  },
  {
   "cell_type": "code",
   "execution_count": null,
   "id": "90e90109",
   "metadata": {},
   "outputs": [],
   "source": [
    "_out = curr_active_pipeline.display('_display_2d_placefield_occupancy', 'maze1_any')\n",
    "occupancy_ax = _out.axes #.get_aspect()\n",
    "pf = long_pf2D\n",
    "# pf.xbin\n",
    "# pf.ybin\n",
    "# pf.xbin_centers\n",
    "# pf.ybin_centers\n",
    "\n",
    "# aspect_ratio = np.ptp(pf.xbin) / np.ptp(pf.ybin)  # ptp: peak to peak (range)\n",
    "# aspect_ratio = 0.102803738317757\n",
    "# print(f'aspect_ratio: {aspect_ratio}')\n",
    "# occupancy_ax.set_aspect(aspect_ratio, adjustable='box') # If 'box', change the physical dimensions of the Axes. If 'datalim', change the x or y data limits.\n",
    "\n",
    "\n",
    "## See \n",
    "# https://matplotlib.org/stable/api/_as_gen/matplotlib.axes.Axes.set_anchor.html#\n",
    "\n",
    "\n",
    "occupancy_ax.set_aspect('equal', adjustable=None)\n"
   ]
  },
  {
   "cell_type": "code",
   "execution_count": null,
   "id": "ce50ea4d",
   "metadata": {},
   "outputs": [],
   "source": [
    "occupancy_ax.set_aspect('equal', adjustable='datalim')"
   ]
  },
  {
   "cell_type": "code",
   "execution_count": null,
   "id": "800ecc2e",
   "metadata": {},
   "outputs": [],
   "source": [
    "occupancy_ax.set_aspect('equal', adjustable='box')"
   ]
  },
  {
   "cell_type": "code",
   "execution_count": null,
   "id": "cea7d05b",
   "metadata": {},
   "outputs": [],
   "source": [
    "curr_active_pipeline.reload_default_display_functions()"
   ]
  },
  {
   "cell_type": "code",
   "execution_count": null,
   "id": "f42513c8",
   "metadata": {},
   "outputs": [],
   "source": [
    "programmatic_render_to_file(curr_active_pipeline, curr_display_function_name='_display_2d_placefield_occupancy', write_vector_format=write_vector_format, write_png=write_png, debug_print=debug_print)"
   ]
  },
  {
   "cell_type": "markdown",
   "id": "5a572825",
   "metadata": {},
   "source": [
    "# EVEN: \"RL\", ODD: \"LR\"\n",
    "Starts with Even (idx=0)\n",
    "- EVEN: \"RL\"\n",
    "shared_RL_aclus_only_neuron_IDs\n",
    "`is_even = (an_epoch.lap_dir == 0)`\n",
    "- ODD: \"LR\"\n",
    "shared_LR_aclus_only_neuron_IDs\n",
    "`is_odd = (an_epoch.lap_dir == 1)`"
   ]
  },
  {
   "cell_type": "markdown",
   "id": "9ac0ef2b",
   "metadata": {},
   "source": [
    "# 🟢 2023-10-20 - Z-Score Comparisons with Neuron_ID Shuffled templates\n",
    "1. Take the intersection of the long and short templates to get only the common cells\n",
    "2. Determine the long and short \"tempaltes\": this is done by ranking the aclus for each by their placefields' center of mass. `compute_placefield_center_of_masses`\n",
    "\t2a. `long_pf_peak_ranks`, `short_pf_peak_ranks` - there are one of each of these for each shared aclu.\n",
    "3. Generate the unit_id shuffled (`shuffled_aclus`, `shuffle_IDXs`) ahead of time to use to shuffle the two templates during the epochs.\n",
    "4. For each replay event, take each shuffled template\n",
    "\t4a. Iterate through each shuffle and obtain the shuffled templates like `long_pf_peak_ranks[epoch_specific_shuffled_indicies]`, `short_pf_peak_ranks[epoch_specific_shuffled_indicies]`\n",
    "\t4b. compute the spearman rank-order of the event and each shuffled template, and accumulate the results in `long_spearmanr_rank_stats_results`, `short_spearmanr_rank_stats_results`\n",
    "\n",
    "5. After we're done with the shuffle loop, accumulate the results and convert to the right output format.\n",
    "\n",
    "6. When all epochs are done, loop through the results (the epochs again) and compute the z-scores for each epoch so they can be compared to each other. Keep track of the means and std_dev for comparisons later, and subtract the two sets of z-scores (long/short) to get the delta_Z for each template.\n",
    "\n",
    "7. TODO: Next figure out what to do with the array of z-scores and delta_Z. We have:\n",
    "\tn_epochs sets of results\n",
    "\t\tn_shuffles scores of delta_Z\n",
    "\n"
   ]
  },
  {
   "cell_type": "markdown",
   "id": "87fd9d61",
   "metadata": {},
   "source": [
    "## Convo with Kamran 2023-10-23:\n",
    "- Use directional templates **\n",
    "- No need to worry about re-ranking\n",
    "[X] Plot the long and short separately in addition to the difference, so we show significant reqplay on each as a sanity check\n",
    "[X] Absolute value difference?\n",
    "[X] Fisher transform the correlation values (check if there is a difference) because correlation coefficients aren't going to be normally distributed.\n",
    "\t[ ] Then Z-score releative to fisher.\n",
    "\n",
    "- T-test to compare to mean of zero (if looking at the difference)"
   ]
  },
  {
   "cell_type": "code",
   "execution_count": null,
   "id": "419ffd4a",
   "metadata": {},
   "outputs": [],
   "source": [
    "## Concerns:\n",
    "# 1. Permutation recommended over shuffling for small numbers of ids\n",
    "# 2.\n",
    "\n",
    "# 5Hz thresholding of templates\n"
   ]
  },
  {
   "cell_type": "code",
   "execution_count": 11,
   "id": "fd86cb20",
   "metadata": {
    "ExecuteTime": {
     "end_time": "2023-11-16T23:22:34.093953500Z",
     "start_time": "2023-11-16T23:22:33.960957900Z"
    },
    "notebookRunGroups": {
     "groupValue": "1"
    },
    "slideshow": {
     "slide_type": "fragment"
    }
   },
   "outputs": [],
   "source": [
    "from nptyping import NDArray\n",
    "from attrs import define, field, Factory, astuple\n",
    "import scipy.stats\n",
    "from scipy import ndimage\n",
    "from neuropy.utils.misc import build_shuffled_ids # used in _SHELL_analyze_leave_one_out_decoding_results\n",
    "from pyphoplacecellanalysis.SpecificResults.PhoDiba2023Paper import pho_stats_paired_t_test\n",
    "\n",
    "# minimum_inclusion_fr_Hz: float = 2.0\n",
    "rank_order_results: RankOrderComputationsContainer = curr_active_pipeline.global_computation_results.computed_data['RankOrder']\n",
    "minimum_inclusion_fr_Hz: float = rank_order_results.minimum_inclusion_fr_Hz\n",
    "\n",
    "# Recover from the saved global result:\n",
    "directional_laps_results = curr_active_pipeline.global_computation_results.computed_data['DirectionalLaps']\n",
    "# NEW 2023-11-22 method: Get the templates (which can be filtered by frate first) and the from those get the decoders):        \n",
    "# track_templates: TrackTemplates = directional_laps_results.get_shared_aclus_only_templates(minimum_inclusion_fr_Hz=minimum_inclusion_fr_Hz) # shared-only\n",
    "track_templates: TrackTemplates = directional_laps_results.get_templates(minimum_inclusion_fr_Hz=minimum_inclusion_fr_Hz) # non-shared-only\n",
    "long_LR_decoder, long_RL_decoder, short_LR_decoder, short_RL_decoder = track_templates.get_decoders()\n",
    "\n",
    "## Pre 2023-11-22 method: building a TrackTemplates object after getting the raw decoders:\n",
    "# long_LR_one_step_decoder_1D, long_RL_one_step_decoder_1D, short_LR_one_step_decoder_1D, short_RL_one_step_decoder_1D = directional_laps_results.get_decoders()\n",
    "# long_LR_decoder, long_RL_decoder, short_LR_decoder, short_RL_decoder = directional_laps_results.get_shared_aclus_only_decoders()\n",
    "# track_templates: TrackTemplates = TrackTemplates.init_from_paired_decoders(LR_decoder_pair=(long_LR_decoder, short_LR_decoder), RL_decoder_pair=(long_RL_decoder, short_RL_decoder))\n",
    "# # track_templates: TrackTemplates = TrackTemplates.init_from_paired_decoders(LR_decoder_pair=(long_LR_one_step_decoder_1D, short_LR_one_step_decoder_1D), RL_decoder_pair=(long_RL_one_step_decoder_1D, short_RL_one_step_decoder_1D)) # NOTE: now use the un-constrained versions\n",
    "\n",
    "# Unpack all directional variables:\n",
    "## {\"even\": \"RL\", \"odd\": \"LR\"}\n",
    "long_LR_name, short_LR_name, global_LR_name, long_RL_name, short_RL_name, global_RL_name, long_any_name, short_any_name, global_any_name = ['maze1_odd', 'maze2_odd', 'maze_odd', 'maze1_even', 'maze2_even', 'maze_even', 'maze1_any', 'maze2_any', 'maze_any']\n",
    "# Unpacking for `(long_LR_name, long_RL_name, short_LR_name, short_RL_name)`\n",
    "(long_LR_context, long_RL_context, short_LR_context, short_RL_context) = [curr_active_pipeline.filtered_contexts[a_name] for a_name in (long_LR_name, long_RL_name, short_LR_name, short_RL_name)]\n",
    "long_LR_epochs_obj, long_RL_epochs_obj, short_LR_epochs_obj, short_RL_epochs_obj, global_any_laps_epochs_obj = [curr_active_pipeline.computation_results[an_epoch_name].computation_config.pf_params.computation_epochs for an_epoch_name in (long_LR_name, long_RL_name, short_LR_name, short_RL_name, global_any_name)] # note has global also\n",
    "(long_LR_session, long_RL_session, short_LR_session, short_RL_session) = [curr_active_pipeline.filtered_sessions[an_epoch_name] for an_epoch_name in (long_LR_name, long_RL_name, short_LR_name, short_RL_name)] # sessions are correct at least, seems like just the computation parameters are messed up\n",
    "(long_LR_results, long_RL_results, short_LR_results, short_RL_results) = [curr_active_pipeline.computation_results[an_epoch_name].computed_data for an_epoch_name in (long_LR_name, long_RL_name, short_LR_name, short_RL_name)]\n",
    "(long_LR_computation_config, long_RL_computation_config, short_LR_computation_config, short_RL_computation_config) = [curr_active_pipeline.computation_results[an_epoch_name].computation_config for an_epoch_name in (long_LR_name, long_RL_name, short_LR_name, short_RL_name)]\n",
    "(long_LR_pf1D, long_RL_pf1D, short_LR_pf1D, short_RL_pf1D) = (long_LR_results.pf1D, long_RL_results.pf1D, short_LR_results.pf1D, short_RL_results.pf1D)\n",
    "(long_LR_pf2D, long_RL_pf2D, short_LR_pf2D, short_RL_pf2D) = (long_LR_results.pf2D, long_RL_results.pf2D, short_LR_results.pf2D, short_RL_results.pf2D)\n",
    "(long_LR_pf1D_Decoder, long_RL_pf1D_Decoder, short_LR_pf1D_Decoder, short_RL_pf1D_Decoder) = (long_LR_results.pf1D_Decoder, long_RL_results.pf1D_Decoder, short_LR_results.pf1D_Decoder, short_RL_results.pf1D_Decoder)\n",
    "\n",
    "all_directional_decoder_names = ['long_LR', 'long_RL', 'short_LR', 'short_RL']\n",
    "all_directional_pf1D_Decoder_dict: Dict[str, BasePositionDecoder] = dict(zip(all_directional_decoder_names, [deepcopy(long_LR_pf1D_Decoder), deepcopy(long_RL_pf1D_Decoder), deepcopy(short_LR_pf1D_Decoder), deepcopy(short_RL_pf1D_Decoder)]))\n",
    "\n",
    "\n",
    "# `LongShortStatsItem` form (2024-01-02):\n",
    "# LR_results_real_values = np.array([(a_result_item.long_stats_z_scorer.real_value, a_result_item.short_stats_z_scorer.real_value) for epoch_id, a_result_item in rank_order_results.LR_ripple.ranked_aclus_stats_dict.items()])\n",
    "# RL_results_real_values = np.array([(a_result_item.long_stats_z_scorer.real_value, a_result_item.short_stats_z_scorer.real_value) for epoch_id, a_result_item in rank_order_results.RL_ripple.ranked_aclus_stats_dict.items()])\n",
    "LR_results_long_short_z_diffs = np.array([a_result_item.long_short_z_diff for epoch_id, a_result_item in rank_order_results.LR_ripple.ranked_aclus_stats_dict.items()])\n",
    "RL_results_long_short_z_diff = np.array([a_result_item.long_short_z_diff for epoch_id, a_result_item in rank_order_results.RL_ripple.ranked_aclus_stats_dict.items()])\n"
   ]
  },
  {
   "cell_type": "code",
   "execution_count": null,
   "id": "3ebb454c",
   "metadata": {
    "tags": [
     "histogram"
    ]
   },
   "outputs": [],
   "source": [
    "from pyphoplacecellanalysis.General.Pipeline.Stages.ComputationFunctions.MultiContextComputationFunctions.RankOrderComputations import plot_rank_order_histograms\n",
    "\n",
    "# Plot histograms:\n",
    "post_title_info: str = f'{minimum_inclusion_fr_Hz} Hz\\n{curr_active_pipeline.get_session_context().get_description()}'\n",
    "_out_z_score, _out_real, _out_most_likely_z = plot_rank_order_histograms(rank_order_results, post_title_info=post_title_info)\n"
   ]
  },
  {
   "cell_type": "markdown",
   "id": "b641e1f6",
   "metadata": {},
   "source": [
    "#TODO 2023-12-10 19:56: - [ ] Histogram Display Helpers\n",
    "\n",
    "#TODO 2023-12-10 19:56: - [ ] Pf1D Helpers\n",
    "\n",
    "#TODO 2023-12-10 19:57: - [ ] Variant Saving\n",
    " "
   ]
  },
  {
   "cell_type": "code",
   "execution_count": null,
   "id": "c33ed6d2",
   "metadata": {},
   "outputs": [],
   "source": [
    "track_templates: TrackTemplates = directional_laps_results.get_templates(minimum_inclusion_fr_Hz=0.0) # non-shared-only\n",
    "long_LR_decoder, long_RL_decoder, short_LR_decoder, short_RL_decoder = track_templates.get_decoders()\n",
    "\n",
    "# filtered_decoder_list = [filtered_by_frate(a_decoder, minimum_inclusion_fr_Hz=minimum_inclusion_fr_Hz, debug_print=True) for a_decoder in (long_LR_one_step_decoder_1D, long_RL_one_step_decoder_1D, short_LR_one_step_decoder_1D, short_RL_one_step_decoder_1D)]\n",
    "original_neuron_ids_list = [a_decoder.pf.ratemap.neuron_ids for a_decoder in (long_LR_decoder, long_RL_decoder, short_LR_decoder, short_RL_decoder)]\n",
    "is_aclu_included_list = [a_decoder.pf.ratemap.tuning_curve_unsmoothed_peak_firing_rates >= minimum_inclusion_fr_Hz for a_decoder in (long_LR_decoder, long_RL_decoder, short_LR_decoder, short_RL_decoder)]\n",
    "filtered_aclus_list = [np.array(a_decoder.pf.ratemap.neuron_ids)[a_decoder.pf.ratemap.tuning_curve_unsmoothed_peak_firing_rates >= minimum_inclusion_fr_Hz] for a_decoder in (long_LR_decoder, long_RL_decoder, short_LR_decoder, short_RL_decoder)]\n",
    "\n",
    "## For a given run direction (LR/RL) let's require inclusion in either (OR) long v. short to be included.\n",
    "filtered_included_LR_aclus = np.union1d(filtered_aclus_list[0], filtered_aclus_list[2])\n",
    "filtered_included_RL_aclus = np.union1d(filtered_aclus_list[1], filtered_aclus_list[3])\n",
    "# build the final shared aclus:\n",
    "filtered_direction_shared_aclus_list = [filtered_included_LR_aclus, filtered_included_RL_aclus, filtered_included_LR_aclus, filtered_included_RL_aclus] # contains the shared aclus for that direction\n",
    "# rebuild the is_aclu_included_list from the shared aclus\n",
    "is_aclu_included_list = [np.isin(an_original_neuron_ids, a_filtered_neuron_ids) for an_original_neuron_ids, a_filtered_neuron_ids in zip(original_neuron_ids_list, filtered_direction_shared_aclus_list)]\n",
    "\n",
    "# is_aclu_included_list[0]\n",
    "filtered_direction_shared_aclus_list"
   ]
  },
  {
   "cell_type": "code",
   "execution_count": null,
   "id": "017813cc",
   "metadata": {},
   "outputs": [],
   "source": [
    "# # for 5Hz:\n",
    "# [array([  5,   7,  31,  39,  41,  45,  46,  48,  50,  55,  61,  62,  64,  69,  72,  75,  76,  78,  79,  83,  84,  86,  88,  90,  91,  92,  95,  99, 100, 108]),\n",
    "#  array([  5,   7,   9,  31,  32,  39,  41,  45,  46,  48,  50,  55,  61,  62,  64,  69,  72,  75,  76,  78,  79,  83,  84,  86,  88,  90,  91,  92,  93,  95,  99, 101, 108]),\n",
    "#  array([  5,   7,  31,  39,  41,  45,  46,  48,  50,  55,  61,  62,  64,  69,  72,  75,  76,  78,  79,  83,  84,  86,  88,  90,  91,  92,  95,  99, 100, 108]),\n",
    "#  array([  5,   7,   9,  31,  32,  39,  41,  45,  46,  48,  50,  55,  61,  62,  64,  69,  72,  75,  76,  78,  79,  83,  84,  86,  88,  90,  91,  92,  93,  95,  99, 101, 108])]\n",
    "\n",
    "# # for 20Hz:\n",
    "# [array([  5,  41,  46,  48,  69,  78,  79,  83,  86,  88,  90, 108]),\n",
    "#  array([ 62,  64,  75,  78,  83,  91, 101]),\n",
    "#  array([  5,  41,  46,  48,  69,  78,  79,  83,  86,  88,  90, 108]),\n",
    "#  array([ 62,  64,  75,  78,  83,  91, 101])]"
   ]
  },
  {
   "cell_type": "markdown",
   "id": "f6ccfe1f",
   "metadata": {},
   "source": [
    "# 2023-11-22 - RECOMPUTE"
   ]
  },
  {
   "cell_type": "code",
   "execution_count": null,
   "id": "c22e7090",
   "metadata": {},
   "outputs": [],
   "source": [
    "from pyphoplacecellanalysis.General.Pipeline.Stages.ComputationFunctions.MultiContextComputationFunctions.DirectionalPlacefieldGlobalComputationFunctions import DirectionalLapsHelpers\n",
    "from pyphoplacecellanalysis.General.Pipeline.Stages.ComputationFunctions.MultiContextComputationFunctions.RankOrderComputations import RankOrderGlobalComputationFunctions\n",
    "\n",
    "curr_active_pipeline.reload_default_computation_functions()\n",
    "\n",
    "## clear the old values to prepare for the new ones:\n",
    "curr_active_pipeline.global_computation_results.computed_data['DirectionalLaps'] = None\n",
    "curr_active_pipeline.global_computation_results.computed_data['RankOrder'] = None\n",
    "del curr_active_pipeline.global_computation_results.computed_data['DirectionalLaps']\n",
    "del curr_active_pipeline.global_computation_results.computed_data['RankOrder']\n"
   ]
  },
  {
   "cell_type": "code",
   "execution_count": null,
   "id": "7f64b8a0",
   "metadata": {},
   "outputs": [],
   "source": [
    "curr_active_pipeline.global_computation_results.computed_data['DirectionalLaps'] = DirectionalLapsHelpers.build_global_directional_result_from_natural_epochs(curr_active_pipeline, progress_print=True) # repalce the directional laps object\n",
    "directional_laps_results: DirectionalLapsResult = curr_active_pipeline.global_computation_results.computed_data['DirectionalLaps']\n",
    "\n",
    "num_shuffles = 500\n",
    "\n",
    "minimum_inclusion_fr_Hz = 5.0\n",
    "included_qclu_values = [1,2]\n",
    "\n",
    "# minimum_inclusion_fr_Hz = 1.0\n",
    "# included_qclu_values = [1,2,4,9]\n",
    "\n",
    "# perform_rank_order_shuffle_analysis\n",
    "with VizTracer(output_file=f\"viztracer_{get_now_time_str()}-perform_rank_order_shuffle_analysis_{curr_active_pipeline.session_name}_num_shuffles-{num_shuffles}.json\", min_duration=200, tracer_entries=3000000, ignore_frozen=True) as tracer:\n",
    "    ## DO ALL:\n",
    "    RankOrderGlobalComputationFunctions.perform_rank_order_shuffle_analysis(curr_active_pipeline, curr_active_pipeline.global_computation_results, None, None, include_includelist=None, debug_print=False,\n",
    "                                                                            num_shuffles=num_shuffles, minimum_inclusion_fr_Hz=minimum_inclusion_fr_Hz, included_qclu_values=included_qclu_values, skip_laps=False)\n"
   ]
  },
  {
   "cell_type": "code",
   "execution_count": null,
   "id": "715580af",
   "metadata": {},
   "outputs": [],
   "source": [
    "## Custom `RankOrderAnalyses.most_likely_directional_rank_order_shuffling(...)`\n",
    "# Requires \"New method 2023-12-15\" result\n",
    "# Set the global result:\n",
    "from pyphoplacecellanalysis.General.Pipeline.Stages.ComputationFunctions.MultiContextComputationFunctions.RankOrderComputations import RankOrderAnalyses\n",
    "\n",
    "try:\n",
    "\tprint(f'\\tdone. building global result.')\n",
    "\tcurr_active_pipeline.global_computation_results.computed_data['RankOrder'].adding_active_aclus_info()\n",
    "\tcurr_active_pipeline.global_computation_results.computed_data['RankOrder'].ripple_most_likely_result_tuple, curr_active_pipeline.global_computation_results.computed_data['RankOrder'].laps_most_likely_result_tuple = RankOrderAnalyses.most_likely_directional_rank_order_shuffling(curr_active_pipeline)\n",
    "\n",
    "except (AssertionError, BaseException) as e:\n",
    "\tprint(f'Issue with `RankOrderAnalyses.most_likely_directional_rank_order_shuffling(...)` e: {e}')\n",
    "\traise"
   ]
  },
  {
   "cell_type": "code",
   "execution_count": null,
   "id": "91b0e4d4",
   "metadata": {},
   "outputs": [],
   "source": [
    "from pyphoplacecellanalysis.General.Pipeline.Stages.ComputationFunctions.MultiContextComputationFunctions.RankOrderComputations import RankOrderAnalyses\n",
    "\n",
    "curr_active_pipeline.global_computation_results.computed_data['RankOrder'].ripple_most_likely_result_tuple, curr_active_pipeline.global_computation_results.computed_data['RankOrder'].laps_most_likely_result_tuple = RankOrderAnalyses.most_likely_directional_rank_order_shuffling(curr_active_pipeline)"
   ]
  },
  {
   "cell_type": "code",
   "execution_count": null,
   "id": "222cfc4a",
   "metadata": {},
   "outputs": [],
   "source": [
    "from pyphoplacecellanalysis.General.Pipeline.Stages.ComputationFunctions.MultiContextComputationFunctions.DirectionalPlacefieldGlobalComputationFunctions import DirectionalMergedDecodersResult\n",
    "\n",
    "## Extract the rank_order_results:\n",
    "rank_order_results: RankOrderComputationsContainer = curr_active_pipeline.global_computation_results.computed_data['RankOrder']\n",
    "rank_order_results.adding_active_aclus_info()\n",
    "\n",
    "directional_laps_results = curr_active_pipeline.global_computation_results.computed_data['DirectionalLaps']\n",
    "track_templates: TrackTemplates = directional_laps_results.get_templates(minimum_inclusion_fr_Hz=rank_order_results.minimum_inclusion_fr_Hz) # non-shared-only\n",
    "decoders_dict = track_templates.get_decoders_dict() # decoders_dict = {'long_LR': track_templates.long_LR_decoder, 'long_RL': track_templates.long_RL_decoder, 'short_\n",
    "# LR': track_templates.short_LR_decoder, 'short_RL': track_templates.short_RL_decoder, }\n",
    "\n",
    "# Get the `directional_merged_decoders_result` to determining most-likely direction from the merged pseudo-2D decoder:\n",
    "directional_merged_decoders_result = curr_active_pipeline.global_computation_results.computed_data['DirectionalMergedDecoders']\n",
    "# directional_merged_decoders_result.all_directional_laps_filter_epochs_decoder_result\n",
    "# directional_merged_decoders_result.all_directional_pf1D_Decoder\n",
    "# directional_merged_decoders_result.all_directional_ripple_filter_epochs_decoder_result\n",
    "\n",
    "laps_marginals = DirectionalMergedDecodersResult.determine_directional_likelihoods(directional_merged_decoders_result.all_directional_laps_filter_epochs_decoder_result)\n",
    "laps_directional_marginals, laps_directional_all_epoch_bins_marginal, laps_most_likely_direction_from_decoder, laps_is_most_likely_direction_LR_dir = laps_marginals\n",
    "\n",
    "ripple_marginals = DirectionalMergedDecodersResult.determine_directional_likelihoods(directional_merged_decoders_result.all_directional_ripple_filter_epochs_decoder_result)\n",
    "ripple_directional_marginals, ripple_directional_all_epoch_bins_marginal, ripple_most_likely_direction_from_decoder, ripple_is_most_likely_direction_LR_dir = ripple_marginals\n",
    "\n",
    "\n",
    "# directional_merged_decoders_result.\n",
    "# ripple_most_likely_result_tuple"
   ]
  },
  {
   "cell_type": "code",
   "execution_count": null,
   "id": "08112e9a",
   "metadata": {},
   "outputs": [],
   "source": [
    "ripple_directional_all_epoch_bins_marginal"
   ]
  },
  {
   "cell_type": "code",
   "execution_count": null,
   "id": "a662a3b7",
   "metadata": {},
   "outputs": [],
   "source": [
    "rank_order_results.ripple_combined_epoch_stats_df"
   ]
  },
  {
   "cell_type": "code",
   "execution_count": null,
   "id": "3e450b79",
   "metadata": {},
   "outputs": [],
   "source": [
    "active_replay_epochs_df # 'Long_normed_LR_evidence', 'Long_normed_RL_evidence', 'Short_normed_LR_evidence', 'Short_normed_RL_evidence'\n",
    "# active_replay_epochs_df[['Long_normed_LR_evidence', 'Short_normed_RL_evidence']]"
   ]
  },
  {
   "cell_type": "code",
   "execution_count": null,
   "id": "5a8a5e68",
   "metadata": {},
   "outputs": [],
   "source": [
    "## 2024-01-04 - DirectionalMergedDecoders version:\n",
    "# NOTE: ripple_most_likely_direction_from_decoder comes with with more epochs than the already filtered `rank_order_results.ripple_combined_epoch_stats_df` version. We'll get only the active indicies from `rank_order_results.ripple_combined_epoch_stats_df.index`\n",
    "# needs: rank_order_results, ripple_most_likely_direction_from_decoder, ripple_directional_all_epoch_bins_marginal, \n",
    "combined_best_direction_indicies = deepcopy(ripple_most_likely_direction_from_decoder) # .shape (611,)\n",
    "# np.shape(combined_best_direction_indicies)\n",
    "combined_best_direction_indicies = combined_best_direction_indicies[rank_order_results.ripple_combined_epoch_stats_df['label'].to_numpy()] # get only the indicies for the active epochs\n",
    "# np.shape(combined_best_direction_indicies)\n",
    "assert np.shape(combined_best_direction_indicies)[0] == np.shape(rank_order_results.ripple_combined_epoch_stats_df)[0]\n",
    "long_best_direction_indicies = combined_best_direction_indicies.copy() # use same (globally best) indicies for Long/Short\n",
    "short_best_direction_indicies = combined_best_direction_indicies.copy() # use same (globally best) indicies for Long/Short\n",
    "\n",
    "# gets the LR likelihood for each of these (long/short)\n",
    "long_relative_direction_likelihoods = ripple_directional_all_epoch_bins_marginal[rank_order_results.ripple_combined_epoch_stats_df['label'].to_numpy(), 0] # (n_epochs, 2)\n",
    "short_relative_direction_likelihoods = ripple_directional_all_epoch_bins_marginal[rank_order_results.ripple_combined_epoch_stats_df['label'].to_numpy(), 0] # (n_epochs, 2)\n",
    "\n",
    "ripple_directional_likelihoods_tuple: DirectionalRankOrderLikelihoods = DirectionalRankOrderLikelihoods(long_relative_direction_likelihoods=long_relative_direction_likelihoods,\n",
    "\t\t\t\t\t\t\t\t\t\t\t\t\t\t\t\t\t\t\t\tshort_relative_direction_likelihoods=short_relative_direction_likelihoods,\n",
    "\t\t\t\t\t\t\t\t\t\t\t\t\t\t\t\t\t\t\t\tlong_best_direction_indices=long_best_direction_indicies, \n",
    "\t\t\t\t\t\t\t\t\t\t\t\t\t\t\t\t\t\t\t\tshort_best_direction_indices=short_best_direction_indicies,\n",
    "\t\t\t\t\t\t\t\t\t\t\t\t\t\t\t\t\t\t\t\t)\n"
   ]
  },
  {
   "cell_type": "code",
   "execution_count": null,
   "id": "f3976821",
   "metadata": {},
   "outputs": [],
   "source": [
    "from pyphoplacecellanalysis.General.Pipeline.Stages.ComputationFunctions.MultiContextComputationFunctions.RankOrderComputations import RankOrderAnalyses\n",
    "\n",
    "## Main\n",
    "ripple_result_tuple, laps_result_tuple = RankOrderAnalyses.most_likely_directional_rank_order_shuffling(curr_active_pipeline, decoding_time_bin_size=0.003)"
   ]
  },
  {
   "cell_type": "code",
   "execution_count": null,
   "id": "c0145e38",
   "metadata": {},
   "outputs": [],
   "source": [
    "## 2024-01-04 - DirectionalMergedDecoders version:\n",
    "# NOTE: laps_most_likely_direction_from_decoder comes with with more epochs than the already filtered `rank_order_results.laps_combined_epoch_stats_df` version. We'll get only the active indicies from `rank_order_results.ripple_combined_epoch_stats_df.index`\n",
    "# needs: rank_order_results, laps_most_likely_direction_from_decoder, laps_directional_all_epoch_bins_marginal, \n",
    "laps_marginals = DirectionalMergedDecodersResult.determine_directional_likelihoods(directional_merged_decoders_result.all_directional_laps_filter_epochs_decoder_result)\n",
    "laps_directional_marginals, laps_directional_all_epoch_bins_marginal, laps_most_likely_direction_from_decoder, laps_is_most_likely_direction_LR_dir = laps_marginals\n",
    "\n",
    "combined_best_direction_indicies = deepcopy(laps_most_likely_direction_from_decoder) # .shape (611,)\n",
    "# np.shape(combined_best_direction_indicies)\n",
    "combined_best_direction_indicies = combined_best_direction_indicies[rank_order_results.laps_combined_epoch_stats_df['label'].to_numpy()] # get only the indicies for the active epochs\n",
    "# np.shape(combined_best_direction_indicies)\n",
    "assert np.shape(combined_best_direction_indicies)[0] == np.shape(rank_order_results.laps_combined_epoch_stats_df)[0]\n",
    "long_best_direction_indicies = combined_best_direction_indicies.copy() # use same (globally best) indicies for Long/Short\n",
    "short_best_direction_indicies = combined_best_direction_indicies.copy() # use same (globally best) indicies for Long/Short\n",
    "\n",
    "# gets the LR likelihood for each of these (long/short)\n",
    "long_relative_direction_likelihoods = laps_directional_all_epoch_bins_marginal[rank_order_results.laps_combined_epoch_stats_df['label'].to_numpy(), 0] # (n_epochs, 2)\n",
    "short_relative_direction_likelihoods = laps_directional_all_epoch_bins_marginal[rank_order_results.laps_combined_epoch_stats_df['label'].to_numpy(), 0] # (n_epochs, 2)\n",
    "\n",
    "laps_directional_likelihoods_tuple: DirectionalRankOrderLikelihoods = DirectionalRankOrderLikelihoods(long_relative_direction_likelihoods=long_relative_direction_likelihoods,\n",
    "\t\t\t\t\t\t\t\t\t\t\t\t\t\t\t\t\t\t\t\tshort_relative_direction_likelihoods=short_relative_direction_likelihoods,\n",
    "\t\t\t\t\t\t\t\t\t\t\t\t\t\t\t\t\t\t\t\tlong_best_direction_indices=long_best_direction_indicies, \n",
    "\t\t\t\t\t\t\t\t\t\t\t\t\t\t\t\t\t\t\t\tshort_best_direction_indices=short_best_direction_indicies,\n",
    "\t\t\t\t\t\t\t\t\t\t\t\t\t\t\t\t\t\t\t\t)\n"
   ]
  },
  {
   "cell_type": "code",
   "execution_count": null,
   "id": "0b4a4744",
   "metadata": {},
   "outputs": [],
   "source": [
    "from pyphoplacecellanalysis.General.Pipeline.Stages.ComputationFunctions.MultiContextComputationFunctions.RankOrderComputations import RankOrderAnalyses\n",
    "\n",
    "RankOrderAnalyses.percentiles_computations(rank_order_results=rank_order_results)\n",
    "laps_merged_complete_epoch_stats_df: pd.DataFrame = rank_order_results.laps_merged_complete_epoch_stats_df ## New method\n",
    "ripple_merged_complete_epoch_stats_df: pd.DataFrame = rank_order_results.ripple_merged_complete_epoch_stats_df ## New method"
   ]
  },
  {
   "cell_type": "code",
   "execution_count": null,
   "id": "b48c2f08",
   "metadata": {},
   "outputs": [],
   "source": [
    "from pyphoplacecellanalysis.General.Pipeline.Stages.ComputationFunctions.MultiContextComputationFunctions.DirectionalPlacefieldGlobalComputationFunctions import DirectionalLapsHelpers\n",
    "from pyphoplacecellanalysis.General.Pipeline.Stages.ComputationFunctions.MultiContextComputationFunctions.RankOrderComputations import RankOrderGlobalComputationFunctions\n",
    "\n",
    "curr_active_pipeline.reload_default_computation_functions()\n",
    "\n",
    "## DO just Pandas-based method and post-processing for best directions:\n",
    "RankOrderGlobalComputationFunctions.perform_pandas_based_rank_order_shuffle_analysis(curr_active_pipeline, curr_active_pipeline.global_computation_results, None, None, include_includelist=None, debug_print=True,\n",
    "                                                                        num_shuffles=1000, minimum_inclusion_fr_Hz=minimum_inclusion_fr_Hz, included_qclu_values=included_qclu_values, skip_laps=False)"
   ]
  },
  {
   "cell_type": "code",
   "execution_count": null,
   "id": "22c50e7e",
   "metadata": {},
   "outputs": [],
   "source": [
    "from pyphoplacecellanalysis.General.Pipeline.Stages.ComputationFunctions.MultiContextComputationFunctions.RankOrderComputations import RankOrderAnalyses\n",
    "\n",
    "directional_laps_results: DirectionalLapsResult = curr_active_pipeline.global_computation_results.computed_data['DirectionalLaps']\n",
    "selected_spikes_df = deepcopy(curr_active_pipeline.global_computation_results.computed_data['RankOrder'].LR_ripple.selected_spikes_df)\n",
    "# active_epochs = global_computation_results.computed_data['RankOrder'].ripple_most_likely_result_tuple.active_epochs\n",
    "active_epochs = deepcopy(curr_active_pipeline.global_computation_results.computed_data['RankOrder'].LR_ripple.epochs_df)\n",
    "track_templates = directional_laps_results.get_templates(minimum_inclusion_fr_Hz=minimum_inclusion_fr_Hz)\n",
    "\n",
    "with VizTracer(output_file=f\"viztracer_{get_now_time_str()}-pandas_df_based_correlation_computations.json\", min_duration=200, tracer_entries=3000000, ignore_frozen=True) as tracer:\n",
    "\tripple_combined_epoch_stats_df, ripple_new_output_tuple = RankOrderAnalyses.pandas_df_based_correlation_computations(selected_spikes_df=selected_spikes_df, active_epochs_df=active_epochs, track_templates=track_templates, num_shuffles=100)\n",
    "\n",
    "ripple_combined_epoch_stats_df\n",
    "\n",
    "# n_shuffles: [5, 50]\n",
    "# time: [\"10.4s\", \"1m 15.9s\"]"
   ]
  },
  {
   "cell_type": "code",
   "execution_count": null,
   "id": "21d6d5a1",
   "metadata": {},
   "outputs": [],
   "source": [
    "print(list(ripple_combined_epoch_stats_df.columns)) # ['long_RL_spearman', 'long_LR_pearson', 'short_RL_spearman', 'short_RL_pearson', 'long_LR_spearman', 'short_LR_pearson', 'short_LR_spearman', 'long_RL_pearson', 'long_RL_spearman_Z', 'long_LR_pearson_Z', 'short_RL_spearman_Z', 'short_RL_pearson_Z', 'long_LR_spearman_Z', 'short_LR_pearson_Z', 'short_LR_spearman_Z', 'long_RL_pearson_Z', 'label']\n",
    "\n",
    "['LR_Long_spearman_Z', 'LR_Long_spearman_Z', 'LR_Long_spearman_Z', 'LR_Long_spearman_Z']\n",
    "\n",
    "{'long_LR':'LR_Long'}\n",
    "\n",
    "decoder_name_to_column_name_prefix_map: Dict[str, str] = dict(zip(['long_LR', 'long_RL', 'short_LR', 'short_RL'], ['LR_Long', 'RL_Long', 'LR_Short', 'RL_Short']))\n",
    "\n",
    "rename_fn = lambda a_name: a_name.replace(\n",
    "\n",
    "[a_name.replace( for a_name in list(ripple_combined_epoch_stats_df.columns)]\n",
    "\n",
    "\n",
    "['long_RL_spearman', 'long_LR_pearson', 'short_RL_spearman', 'short_RL_pearson', 'long_LR_spearman', 'short_LR_pearson', 'short_LR_spearman', 'long_RL_pearson', 'long_RL_spearman_Z', 'long_LR_pearson_Z', 'short_RL_spearman_Z', 'short_RL_pearson_Z', 'long_LR_spearman_Z', 'short_LR_pearson_Z', 'short_LR_spearman_Z', 'long_RL_pearson_Z', 'label']\n",
    "\n"
   ]
  },
  {
   "cell_type": "code",
   "execution_count": null,
   "id": "ef655eec",
   "metadata": {},
   "outputs": [],
   "source": [
    "def build_column_rename_dict(column_names: List[str], decoder_name_to_column_name_prefix_map:Optional[Dict[str,str]]=None) -> Dict[str,str]:\n",
    "  \"\"\" \n",
    "  \n",
    "  column_names = ['long_RL_spearman', 'long_LR_pearson', 'short_RL_spearman', 'short_RL_pearson', 'long_LR_spearman', 'short_LR_pearson', 'short_LR_spearman', 'long_RL_pearson', 'long_RL_spearman_Z', 'long_LR_pearson_Z', 'short_RL_spearman_Z', 'short_RL_pearson_Z', 'long_LR_spearman_Z', 'short_LR_pearson_Z', 'short_LR_spearman_Z', 'long_RL_pearson_Z']\n",
    "  decoder_name_to_column_name_prefix_map = dict(zip(['long_LR', 'long_RL', 'short_LR', 'short_RL'], ['LR_Long', 'RL_Long', 'LR_Short', 'RL_Short']))\n",
    "\n",
    "  old_to_new_names = build_column_rename_dict(column_names, decoder_name_to_column_name_prefix_map.copy())\n",
    "  print(old_to_new_names)\n",
    "\n",
    "  {'long_RL_spearman': 'RL_Long_spearman', 'long_LR_pearson': 'LR_Long_pearson', 'short_RL_spearman': 'RL_Short_spearman', 'short_RL_pearson': 'RL_Short_pearson', 'long_LR_spearman': 'LR_Long_spearman', 'short_LR_pearson': 'LR_Short_pearson', 'short_LR_spearman': 'LR_Short_spearman', 'long_RL_pearson': 'RL_Long_pearson', 'long_RL_spearman_Z': 'RL_Long_spearman_Z', 'long_LR_pearson_Z': 'LR_Long_pearson_Z', 'short_RL_spearman_Z': 'RL_Short_spearman_Z', 'short_RL_pearson_Z': 'RL_Short_pearson_Z', 'long_LR_spearman_Z': 'LR_Long_spearman_Z', 'short_LR_pearson_Z': 'LR_Short_pearson_Z', 'short_LR_spearman_Z': 'LR_Short_spearman_Z', 'long_RL_pearson_Z': 'RL_Long_pearson_Z'}\n",
    "  \"\"\"\n",
    "  if decoder_name_to_column_name_prefix_map is None:\n",
    "    decoder_name_to_column_name_prefix_map = dict(zip(['long_LR', 'long_RL', 'short_LR', 'short_RL'], ['LR_Long', 'RL_Long', 'LR_Short', 'RL_Short']))\n",
    "  \n",
    "  old_to_new_names = {}\n",
    "  for col in column_names:\n",
    "    for decoder_name, prefix in decoder_name_to_column_name_prefix_map.items():\n",
    "      if decoder_name in col:\n",
    "        new_col = prefix + col.split(decoder_name)[-1]\n",
    "        old_to_new_names[col] = new_col\n",
    "  return old_to_new_names\n",
    "  \n",
    "column_names = ['long_RL_spearman', 'long_LR_pearson', 'short_RL_spearman', 'short_RL_pearson', 'long_LR_spearman', 'short_LR_pearson', 'short_LR_spearman', 'long_RL_pearson', 'long_RL_spearman_Z', 'long_LR_pearson_Z', 'short_RL_spearman_Z', 'short_RL_pearson_Z', 'long_LR_spearman_Z', 'short_LR_pearson_Z', 'short_LR_spearman_Z', 'long_RL_pearson_Z']\n",
    "old_to_new_names = build_column_rename_dict(column_names)\n",
    "print(old_to_new_names)\n",
    "ripple_combined_epoch_stats_df = ripple_combined_epoch_stats_df.rename(columns=old_to_new_names, inplace=False)\n",
    "ripple_combined_epoch_stats_df"
   ]
  },
  {
   "cell_type": "code",
   "execution_count": null,
   "id": "d7aac86f",
   "metadata": {},
   "outputs": [],
   "source": [
    "ripple_combined_epoch_stats_df.LR_Long_spearman_Z"
   ]
  },
  {
   "cell_type": "code",
   "execution_count": null,
   "id": "d2c4c11c",
   "metadata": {},
   "outputs": [],
   "source": [
    "curr_active_pipeline.global_computation_results.computed_data['RankOrder'].ripple_combined_epoch_stats_df, curr_active_pipeline.global_computation_results.computed_data['RankOrder'].ripple_new_output_tuple = ripple_combined_epoch_stats_df, ripple_new_output_tuple"
   ]
  },
  {
   "cell_type": "code",
   "execution_count": null,
   "id": "9513b9b5",
   "metadata": {},
   "outputs": [],
   "source": [
    "from pyphoplacecellanalysis.General.Pipeline.Stages.ComputationFunctions.MultiContextComputationFunctions.RankOrderComputations import RankOrderAnalyses\n",
    "\n",
    "decoder_aclu_peak_map_dict = track_templates.get_decoder_aclu_peak_map_dict()\n",
    "override_decoder_aclu_peak_map_dict = deepcopy(decoder_aclu_peak_map_dict)\n",
    "active_selected_spikes_df = RankOrderAnalyses._subfn_build_all_pf_peak_x_columns(track_templates, selected_spikes_df=selected_spikes_df, override_decoder_aclu_peak_map_dict=override_decoder_aclu_peak_map_dict)\n",
    "epoch_id_grouped_selected_spikes_df =  active_selected_spikes_df.groupby('Probe_Epoch_id') # I can even compute this outside the loop?"
   ]
  },
  {
   "cell_type": "code",
   "execution_count": null,
   "id": "83a9133f",
   "metadata": {},
   "outputs": [],
   "source": [
    "\n",
    "active_selected_spikes_df = deepcopy(epoch_id_grouped_selected_spikes_df)\n",
    "active_selected_spikes_df = RankOrderAnalyses._subfn_build_all_pf_peak_x_columns(track_templates, selected_spikes_df=active_selected_spikes_df, override_decoder_aclu_peak_map_dict=override_decoder_aclu_peak_map_dict)\n",
    "active_selected_spikes_df"
   ]
  },
  {
   "cell_type": "code",
   "execution_count": null,
   "id": "499ff169",
   "metadata": {},
   "outputs": [],
   "source": [
    "\n",
    "\n",
    "#TODO 2023-12-18 13:20: - [ ] This assumes that `'Probe_Epoch_id'` is correct and consistent for both directions, yeah?\n",
    "\n",
    "## Compute real values here:\n",
    "decoder_names = track_templates.get_decoder_names()\n",
    "\n",
    "epoch_id_grouped_selected_spikes_df =  active_selected_spikes_df.groupby('Probe_Epoch_id') # I can even compute this outside the loop?\n",
    "spearman_correlations = epoch_id_grouped_selected_spikes_df.apply(lambda group: RankOrderAnalyses._subfn_calculate_correlations(group, method='spearman', decoder_names=decoder_names)).reset_index() # Reset index to make 'Probe_Epoch_id' a column\n",
    "pearson_correlations = epoch_id_grouped_selected_spikes_df.apply(lambda group: RankOrderAnalyses._subfn_calculate_correlations(group, method='pearson', decoder_names=decoder_names)).reset_index() # Reset index to make 'Probe_Epoch_id' a column\n",
    "\n",
    "real_stats_df = pd.concat((spearman_correlations, pearson_correlations), axis='columns')\n",
    "real_stats_df = real_stats_df.loc[:, ~real_stats_df.columns.duplicated()] # drop duplicated 'Probe_Epoch_id' column\n",
    "# Change column type to uint64 for column: 'Probe_Epoch_id'\n",
    "real_stats_df = real_stats_df.astype({'Probe_Epoch_id': 'uint64'})\n",
    "# Rename column 'Probe_Epoch_id' to 'label'\n",
    "real_stats_df = real_stats_df.rename(columns={'Probe_Epoch_id': 'label'})\n",
    "real_stats_df"
   ]
  },
  {
   "cell_type": "code",
   "execution_count": null,
   "id": "f86d5ac8",
   "metadata": {},
   "outputs": [],
   "source": [
    "rank_order_results: RankOrderComputationsContainer = curr_active_pipeline.global_computation_results.computed_data['RankOrder']\n",
    "minimum_inclusion_fr_Hz: float = rank_order_results.minimum_inclusion_fr_Hz\n",
    "included_qclu_values: List[int] = rank_order_results.included_qclu_values\n",
    "ripple_result_tuple, laps_result_tuple = rank_order_results.ripple_most_likely_result_tuple, rank_order_results.laps_most_likely_result_tuple\n",
    "directional_laps_results: DirectionalLapsResult = curr_active_pipeline.global_computation_results.computed_data['DirectionalLaps']\n",
    "track_templates: TrackTemplates = directional_laps_results.get_templates(minimum_inclusion_fr_Hz=minimum_inclusion_fr_Hz) # non-shared-only -- !! Is minimum_inclusion_fr_Hz=None the issue/difference?\n",
    "print(f'minimum_inclusion_fr_Hz: {minimum_inclusion_fr_Hz}')\n",
    "print(f'included_qclu_values: {included_qclu_values}')\n",
    "\n",
    "# 10m 29.5s for 1000 shuffles.  c:\\Users\\pho\\repos\\Spike3DWorkEnv\\Spike3D\\viztracer_2023-11-22_16-11-perform_rank_order_shuffle_analysis.json\n",
    "\n",
    "# 3m 33.9s - 500\n",
    "# 3m 26.4s - 1000"
   ]
  },
  {
   "cell_type": "code",
   "execution_count": null,
   "id": "d6d74122",
   "metadata": {},
   "outputs": [],
   "source": [
    "_ripples_outputs = RankOrderAnalyses.main_ripples_analysis(curr_active_pipeline, num_shuffles=500, rank_alignment='median', minimum_inclusion_fr_Hz=minimum_inclusion_fr_Hz, included_qclu_values=included_qclu_values)\n",
    "(LR_ripple_outputs, RL_ripple_outputs, ripple_evts_paired_tests) = _ripples_outputs\n"
   ]
  },
  {
   "cell_type": "code",
   "execution_count": null,
   "id": "76178217",
   "metadata": {},
   "outputs": [],
   "source": [
    "# LR_ripple_outputs.epochs_df\n",
    "LR_ripple_outputs.spikes_df"
   ]
  },
  {
   "cell_type": "code",
   "execution_count": null,
   "id": "1d42afeb",
   "metadata": {},
   "outputs": [],
   "source": [
    "RL_ripple_outputs.spikes_df"
   ]
  },
  {
   "cell_type": "code",
   "execution_count": null,
   "id": "5383aae5",
   "metadata": {},
   "outputs": [],
   "source": [
    "LR_ripple_outputs.selected_spikes_df"
   ]
  },
  {
   "cell_type": "code",
   "execution_count": null,
   "id": "f4b664cb",
   "metadata": {},
   "outputs": [],
   "source": [
    "RL_ripple_outputs.\n",
    "\n"
   ]
  },
  {
   "cell_type": "code",
   "execution_count": null,
   "id": "3fc41020",
   "metadata": {},
   "outputs": [],
   "source": [
    "## Ensure equivalence of the two LR_ripple_outputs and RL_ripple_outputs for the fields that matter:\n",
    "assert LR_ripple_outputs.spikes_df.equals(RL_ripple_outputs.spikes_df), f\"spikes_df are not equal\"\n",
    "assert LR_ripple_outputs.selected_spikes_df.equals(RL_ripple_outputs.selected_spikes_df), f\"selected_spikes_df are not equal\"\n",
    "assert LR_ripple_outputs.epochs_df.equals(RL_ripple_outputs.epochs_df), f\"epochs_df are not equal\""
   ]
  },
  {
   "cell_type": "code",
   "execution_count": null,
   "id": "9defd355",
   "metadata": {},
   "outputs": [],
   "source": [
    "_new_rank_order_event_raster_debugger = RankOrderRastersDebugger.init_rank_order_debugger(deepcopy(LR_ripple_outputs.selected_spikes_df), deepcopy(LR_ripple_outputs.epochs_df), track_templates, rank_order_results, None, None)\n",
    "\n"
   ]
  },
  {
   "cell_type": "code",
   "execution_count": null,
   "id": "dfe68671",
   "metadata": {},
   "outputs": [],
   "source": [
    "# TypeError: <lambda>() missing 1 required positional argument\n"
   ]
  },
  {
   "cell_type": "code",
   "execution_count": null,
   "id": "28f1c551",
   "metadata": {},
   "outputs": [],
   "source": [
    "## Recompute just the `most_likely_directional_rank_order_shuffling` part:\n",
    "# from pyphoplacecellanalysis.General.Pipeline.Stages.ComputationFunctions.MultiContextComputationFunctions.RankOrderComputations import RankOrderComputationsContainer\n",
    "# from pyphoplacecellanalysis.General.Pipeline.Stages.ComputationFunctions.MultiContextComputationFunctions.RankOrderComputations import DirectionalRankOrderLikelihoods\n",
    "# from pyphoplacecellanalysis.General.Pipeline.Stages.ComputationFunctions.MultiContextComputationFunctions.RankOrderComputations import RankOrderAnalyses\n",
    "## Main\n",
    "ripple_result_tuple, laps_result_tuple = RankOrderAnalyses.most_likely_directional_rank_order_shuffling(curr_active_pipeline)\n",
    "ripple_result_tuple"
   ]
  },
  {
   "cell_type": "code",
   "execution_count": null,
   "id": "cc170273",
   "metadata": {},
   "outputs": [],
   "source": [
    "rank_order_results.ripple_most_likely_result_tuple, rank_order_results.laps_most_likely_result_tuple = ripple_result_tuple, laps_result_tuple"
   ]
  },
  {
   "cell_type": "code",
   "execution_count": null,
   "id": "8d4b9c0f",
   "metadata": {},
   "outputs": [],
   "source": [
    "directional_likelihoods_tuple: DirectionalRankOrderLikelihoods = deepcopy(ripple_result_tuple.directional_likelihoods_tuple)\n",
    "directional_likelihoods_tuple.long_best_direction_indices\n",
    "directional_likelihoods_tuple.short_best_direction_indices\n",
    "# directional_likelihoods_tuple.long_relative_direction_likelihoods"
   ]
  },
  {
   "cell_type": "markdown",
   "id": "426c292d",
   "metadata": {},
   "source": [
    "\n",
    "\n",
    "\n",
    "\n",
    "# Saving/Loading `DirectionalLaps_2Hz`"
   ]
  },
  {
   "cell_type": "code",
   "execution_count": null,
   "id": "5ed6c50e",
   "metadata": {
    "tags": [
     "save",
     "persistance"
    ]
   },
   "outputs": [],
   "source": [
    "from datetime import datetime, date, timedelta\n",
    "from pyphocorehelpers.print_helpers import get_now_day_str, get_now_rounded_time_str\n",
    "from pyphoplacecellanalysis.General.Pipeline.Stages.ComputationFunctions.MultiContextComputationFunctions.RankOrderComputations import save_rank_order_results\n",
    "\n",
    "# DAY_DATE_STR: str = date.today().strftime(\"%Y-%m-%d\")\n",
    "# DAY_DATE_TO_USE = f'{DAY_DATE_STR}' # used for filenames throught the notebook\n",
    "# print(f'DAY_DATE_STR: {DAY_DATE_STR}, DAY_DATE_TO_USE: {DAY_DATE_TO_USE}')\n",
    "\n",
    "# NOW_DATETIME: str = get_now_rounded_time_str()\n",
    "# NOW_DATETIME_TO_USE = f'{NOW_DATETIME}' # used for filenames throught the notebook\n",
    "# print(f'NOW_DATETIME: {NOW_DATETIME}, NOW_DATETIME_TO_USE: {NOW_DATETIME_TO_USE}')\n",
    "\n",
    "formatted_time = get_now_rounded_time_str()\n",
    "print(formatted_time)\n",
    "save_rank_order_results(curr_active_pipeline, day_date=f\"{formatted_time}\") # \"2024-01-02_301pm\" \"2024-01-02_322pm\" 322pm # \"2024-01-02_301pm\" \"2024-01-02_322pm\" 322pm\n",
    "# '2024-01-09_0125PM-minimum_inclusion_fr-5-included_qclu_values-[1, 2]'\n"
   ]
  },
  {
   "cell_type": "code",
   "execution_count": null,
   "id": "e700b239",
   "metadata": {},
   "outputs": [],
   "source": [
    "search_path = Path('/media/MAX/Data/KDIBA/gor01/one/2006-6-08_14-26-15/output/').resolve()\n",
    "sorted(search_path.glob(f\"{DAY_DATE_TO_USE}*\"))\n"
   ]
  },
  {
   "cell_type": "code",
   "execution_count": null,
   "id": "02da8a7c",
   "metadata": {
    "tags": [
     "load"
    ]
   },
   "outputs": [],
   "source": [
    "from pyphoplacecellanalysis.General.Pipeline.Stages.ComputationFunctions.MultiContextComputationFunctions.RankOrderComputations import SaveStringGenerator\n",
    "from pyphoplacecellanalysis.General.Pipeline.Stages.Loading import loadData\n",
    "\n",
    "# Load the data from a file into the pipeline:\n",
    "# out_filename_str: str = '2023-12-11-minimum_inclusion_fr_Hz_2_included_qclu_values_1-2_' # specific\n",
    "\n",
    "minimum_inclusion_fr_Hz: float = 5.0\n",
    "included_qclu_values: List[int] = [1,2]\n",
    "out_filename_str = SaveStringGenerator.generate_save_suffix(minimum_inclusion_fr_Hz=minimum_inclusion_fr_Hz, included_qclu_values=included_qclu_values, day_date=f'{DAY_DATE_TO_USE}_11am') # '2023-12-21_349am'\n",
    "# out_filename_str = SaveStringGenerator.generate_save_suffix(minimum_inclusion_fr_Hz=minimum_inclusion_fr_Hz, included_qclu_values=included_qclu_values, day_date='2023-12-22_312pm') # '2023-12-21_349am'\n",
    "print(f'out_filename_str: \"{out_filename_str}\"')\n",
    "# day_date_str: str = '2023-12-11_with_tuple_newer_'\n",
    "# day_date_str: str = ''\n",
    "directional_laps_output_path = curr_active_pipeline.get_output_path().joinpath(f'{out_filename_str}DirectionalLaps.pkl').resolve()\n",
    "assert directional_laps_output_path.exists()\n",
    "# loaded_directional_laps, loaded_rank_order = loadData(directional_laps_output_path)\n",
    "loaded_directional_laps = loadData(directional_laps_output_path)\n",
    "assert (loaded_directional_laps is not None)\n",
    "# assert (loaded_rank_order is not None)\n",
    "\n",
    "rank_order_output_path = curr_active_pipeline.get_output_path().joinpath(f'{out_filename_str}RankOrder.pkl').resolve()\n",
    "loaded_rank_order = loadData(rank_order_output_path)"
   ]
  },
  {
   "cell_type": "code",
   "execution_count": null,
   "id": "475a82b8",
   "metadata": {},
   "outputs": [],
   "source": [
    "# Apply the loaded data to the pipeline:\n",
    "curr_active_pipeline.global_computation_results.computed_data['DirectionalLaps'], curr_active_pipeline.global_computation_results.computed_data['RankOrder'] = loaded_directional_laps, loaded_rank_order\n",
    "curr_active_pipeline.global_computation_results.computed_data['RankOrder']"
   ]
  },
  {
   "cell_type": "code",
   "execution_count": null,
   "id": "cd521ff3",
   "metadata": {},
   "outputs": [],
   "source": [
    "rank_order_results.RL_ripple.selected_spikes_df"
   ]
  },
  {
   "cell_type": "code",
   "execution_count": null,
   "id": "7c0a14f8",
   "metadata": {},
   "outputs": [],
   "source": [
    "rank_order_results.LR_ripple.selected_spikes_df"
   ]
  },
  {
   "cell_type": "markdown",
   "id": "f4ec24467335a760",
   "metadata": {},
   "source": [
    "# POST-Compute:"
   ]
  },
  {
   "cell_type": "code",
   "execution_count": 12,
   "id": "728c46e6",
   "metadata": {
    "notebookRunGroups": {
     "groupValue": "21"
    },
    "tags": [
     "unwrap"
    ]
   },
   "outputs": [
    {
     "name": "stdout",
     "output_type": "stream",
     "text": [
      "minimum_inclusion_fr_Hz: 5.0\n",
      "included_qclu_values: [1, 2]\n",
      "laps_decoding_time_bin_size: 0.025, ripple_decoding_time_bin_size: 0.025\n"
     ]
    }
   ],
   "source": [
    "from pyphoplacecellanalysis.General.Pipeline.Stages.ComputationFunctions.MultiContextComputationFunctions.DirectionalPlacefieldGlobalComputationFunctions import DirectionalPlacefieldGlobalDisplayFunctions\n",
    "from pyphoplacecellanalysis.General.Pipeline.Stages.DisplayFunctions.SpikeRasters import plot_multi_sort_raster_browser\n",
    "from pyphoplacecellanalysis.GUI.PyQtPlot.Widgets.ContainerBased.RankOrderRastersDebugger import RankOrderRastersDebugger\n",
    "\n",
    "from pyphoplacecellanalysis.General.Pipeline.Stages.DisplayFunctions.SpikeRasters import paired_separately_sort_neurons, paired_incremental_sort_neurons # _display_directional_template_debugger\n",
    "from neuropy.utils.indexing_helpers import paired_incremental_sorting, union_of_arrays, intersection_of_arrays, find_desired_sort_indicies\n",
    "from pyphoplacecellanalysis.GUI.Qt.Widgets.ScrollBarWithSpinBox.ScrollBarWithSpinBox import ScrollBarWithSpinBox\n",
    "\n",
    "from neuropy.utils.mixins.HDF5_representable import HDF_SerializationMixin\n",
    "from pyphoplacecellanalysis.General.Model.ComputationResults import ComputedResult\n",
    "from pyphoplacecellanalysis.General.Pipeline.Stages.ComputationFunctions.MultiContextComputationFunctions.DirectionalPlacefieldGlobalComputationFunctions import TrackTemplates\n",
    "from pyphoplacecellanalysis.General.Pipeline.Stages.ComputationFunctions.MultiContextComputationFunctions.RankOrderComputations import RankOrderAnalyses, RankOrderResult, ShuffleHelper, Zscorer, LongShortStatsTuple, DirectionalRankOrderLikelihoods, DirectionalRankOrderResult, RankOrderComputationsContainer\n",
    "from pyphoplacecellanalysis.General.Pipeline.Stages.ComputationFunctions.MultiContextComputationFunctions.RankOrderComputations import TimeColumnAliasesProtocol\n",
    "from pyphoplacecellanalysis.General.Pipeline.Stages.ComputationFunctions.MultiContextComputationFunctions.RankOrderComputations import RankOrderComputationsContainer\n",
    "from pyphoplacecellanalysis.General.Pipeline.Stages.ComputationFunctions.MultiContextComputationFunctions.RankOrderComputations import DirectionalRankOrderResult\n",
    "from pyphoplacecellanalysis.General.Pipeline.Stages.ComputationFunctions.MultiContextComputationFunctions.DirectionalPlacefieldGlobalComputationFunctions import DirectionalMergedDecodersResult\n",
    "\n",
    "## Display Testing\n",
    "# from pyphoplacecellanalysis.External.pyqtgraph import QtGui\n",
    "from pyphoplacecellanalysis.Pho2D.PyQtPlots.Extensions.pyqtgraph_helpers import pyqtplot_build_image_bounds_extent, pyqtplot_plot_image\n",
    "\n",
    "spikes_df = curr_active_pipeline.sess.spikes_df\n",
    "rank_order_results: RankOrderComputationsContainer = curr_active_pipeline.global_computation_results.computed_data['RankOrder']\n",
    "minimum_inclusion_fr_Hz: float = rank_order_results.minimum_inclusion_fr_Hz\n",
    "included_qclu_values: List[int] = rank_order_results.included_qclu_values\n",
    "ripple_result_tuple, laps_result_tuple = rank_order_results.ripple_most_likely_result_tuple, rank_order_results.laps_most_likely_result_tuple\n",
    "directional_laps_results: DirectionalLapsResult = curr_active_pipeline.global_computation_results.computed_data['DirectionalLaps']\n",
    "track_templates: TrackTemplates = directional_laps_results.get_templates(minimum_inclusion_fr_Hz=minimum_inclusion_fr_Hz) # non-shared-only -- !! Is minimum_inclusion_fr_Hz=None the issue/difference?\n",
    "print(f'minimum_inclusion_fr_Hz: {minimum_inclusion_fr_Hz}')\n",
    "print(f'included_qclu_values: {included_qclu_values}')\n",
    "# ripple_result_tuple\n",
    "\n",
    "## Unpacks `rank_order_results`: \n",
    "# global_replays = Epoch(deepcopy(curr_active_pipeline.filtered_sessions[global_epoch_name].replay))\n",
    "# global_replays = TimeColumnAliasesProtocol.renaming_synonym_columns_if_needed(deepcopy(curr_active_pipeline.filtered_sessions[global_epoch_name].replay))\n",
    "# active_replay_epochs, active_epochs_df, active_selected_spikes_df = combine_rank_order_results(rank_order_results, global_replays, track_templates=track_templates)\n",
    "# active_epochs_df\n",
    "\n",
    "# ripple_result_tuple.directional_likelihoods_tuple.long_best_direction_indices\n",
    "dir_index_to_direction_name_map: Dict[int, str] = {0:'LR', 1:\"RL\"}\n",
    "\n",
    "\n",
    "## All three DataFrames are the same number of rows, each with one row corresponding to an Epoch:\n",
    "active_replay_epochs_df = deepcopy(rank_order_results.LR_ripple.epochs_df)\n",
    "# active_replay_epochs_df\n",
    "\n",
    "# Change column type to int8 for columns: 'long_best_direction_indices', 'short_best_direction_indices'\n",
    "# directional_likelihoods_df = pd.DataFrame.from_dict(ripple_result_tuple.directional_likelihoods_tuple._asdict()).astype({'long_best_direction_indices': 'int8', 'short_best_direction_indices': 'int8'})\n",
    "directional_likelihoods_df = ripple_result_tuple.directional_likelihoods_df\n",
    "# directional_likelihoods_df\n",
    "\n",
    "# 2023-12-15 - Newest method:\n",
    "# laps_combined_epoch_stats_df = rank_order_results.laps_combined_epoch_stats_df\n",
    "\n",
    "# ripple_combined_epoch_stats_df: pd.DataFrame  = rank_order_results.ripple_combined_epoch_stats_df\n",
    "# ripple_combined_epoch_stats_df\n",
    "\n",
    "\n",
    "# # Concatenate the three DataFrames along the columns axis:\n",
    "# # Assert that all DataFrames have the same number of rows:\n",
    "# assert len(active_replay_epochs_df) == len(directional_likelihoods_df) == len(ripple_combined_epoch_stats_df), \"DataFrames have different numbers of rows.\"\n",
    "# # Assert that all DataFrames have at least one row:\n",
    "# assert len(active_replay_epochs_df) > 0, \"active_replay_epochs_df is empty.\"\n",
    "# assert len(directional_likelihoods_df) > 0, \"directional_likelihoods_df is empty.\"\n",
    "# assert len(ripple_combined_epoch_stats_df) > 0, \"ripple_combined_epoch_stats_df is empty.\"\n",
    "# merged_complete_epoch_stats_df: pd.DataFrame = pd.concat([active_replay_epochs_df.reset_index(drop=True, inplace=False), directional_likelihoods_df.reset_index(drop=True, inplace=False), ripple_combined_epoch_stats_df.reset_index(drop=True, inplace=False)], axis=1)\n",
    "# merged_complete_epoch_stats_df = merged_complete_epoch_stats_df.set_index(active_replay_epochs_df.index, inplace=False)\n",
    "\n",
    "# merged_complete_epoch_stats_df: pd.DataFrame = rank_order_results.ripple_merged_complete_epoch_stats_df ## New method\n",
    "# merged_complete_epoch_stats_df.to_csv('output/2023-12-21_merged_complete_epoch_stats_df.csv')\n",
    "# merged_complete_epoch_stats_df\n",
    "\n",
    "laps_merged_complete_epoch_stats_df: pd.DataFrame = rank_order_results.laps_merged_complete_epoch_stats_df ## New method\n",
    "ripple_merged_complete_epoch_stats_df: pd.DataFrame = rank_order_results.ripple_merged_complete_epoch_stats_df ## New method\n",
    "\n",
    "# DirectionalMergedDecoders: Get the result after computation:\n",
    "directional_merged_decoders_result = curr_active_pipeline.global_computation_results.computed_data['DirectionalMergedDecoders']\n",
    "\n",
    "all_directional_decoder_dict_value = directional_merged_decoders_result.all_directional_decoder_dict\n",
    "all_directional_pf1D_Decoder_value = directional_merged_decoders_result.all_directional_pf1D_Decoder\n",
    "# long_directional_pf1D_Decoder_value = directional_merged_decoders_result.long_directional_pf1D_Decoder\n",
    "# long_directional_decoder_dict_value = directional_merged_decoders_result.long_directional_decoder_dict\n",
    "# short_directional_pf1D_Decoder_value = directional_merged_decoders_result.short_directional_pf1D_Decoder\n",
    "# short_directional_decoder_dict_value = directional_merged_decoders_result.short_directional_decoder_dict\n",
    "\n",
    "all_directional_laps_filter_epochs_decoder_result_value = directional_merged_decoders_result.all_directional_laps_filter_epochs_decoder_result\n",
    "all_directional_ripple_filter_epochs_decoder_result_value = directional_merged_decoders_result.all_directional_ripple_filter_epochs_decoder_result\n",
    "\n",
    "laps_directional_marginals, laps_directional_all_epoch_bins_marginal, laps_most_likely_direction_from_decoder, laps_is_most_likely_direction_LR_dir  = directional_merged_decoders_result.laps_directional_marginals_tuple\n",
    "laps_track_identity_marginals, laps_track_identity_all_epoch_bins_marginal, laps_most_likely_track_identity_from_decoder, laps_is_most_likely_track_identity_Long = directional_merged_decoders_result.laps_track_identity_marginals_tuple\n",
    "ripple_directional_marginals, ripple_directional_all_epoch_bins_marginal, ripple_most_likely_direction_from_decoder, ripple_is_most_likely_direction_LR_dir  = directional_merged_decoders_result.ripple_directional_marginals_tuple\n",
    "ripple_track_identity_marginals, ripple_track_identity_all_epoch_bins_marginal, ripple_most_likely_track_identity_from_decoder, ripple_is_most_likely_track_identity_Long = directional_merged_decoders_result.ripple_track_identity_marginals_tuple\n",
    "\n",
    "ripple_decoding_time_bin_size: float = directional_merged_decoders_result.ripple_decoding_time_bin_size\n",
    "laps_decoding_time_bin_size: float = directional_merged_decoders_result.laps_decoding_time_bin_size\n",
    "\n",
    "print(f'laps_decoding_time_bin_size: {laps_decoding_time_bin_size}, ripple_decoding_time_bin_size: {ripple_decoding_time_bin_size}')\n",
    "\n",
    "laps_all_epoch_bins_marginals_df = directional_merged_decoders_result.laps_all_epoch_bins_marginals_df\n",
    "ripple_all_epoch_bins_marginals_df = directional_merged_decoders_result.ripple_all_epoch_bins_marginals_df\n"
   ]
  },
  {
   "cell_type": "code",
   "execution_count": null,
   "id": "e8d2363d",
   "metadata": {},
   "outputs": [],
   "source": [
    "type(all_directional_decoder_dict_value)\n",
    "list(all_directional_decoder_dict_value.keys()) # ['long_LR', 'long_RL', 'short_LR', 'short_RL']"
   ]
  },
  {
   "cell_type": "code",
   "execution_count": 27,
   "id": "634e6027",
   "metadata": {},
   "outputs": [
    {
     "data": {
      "text/html": [
       "<div>\n",
       "<style scoped>\n",
       "    .dataframe tbody tr th:only-of-type {\n",
       "        vertical-align: middle;\n",
       "    }\n",
       "\n",
       "    .dataframe tbody tr th {\n",
       "        vertical-align: top;\n",
       "    }\n",
       "\n",
       "    .dataframe thead th {\n",
       "        text-align: right;\n",
       "    }\n",
       "</style>\n",
       "<table border=\"1\" class=\"dataframe\">\n",
       "  <thead>\n",
       "    <tr style=\"text-align: right;\">\n",
       "      <th></th>\n",
       "      <th>P_LR</th>\n",
       "      <th>P_RL</th>\n",
       "      <th>P_Long</th>\n",
       "      <th>P_Short</th>\n",
       "      <th>lap_idx</th>\n",
       "      <th>lap_start_t</th>\n",
       "    </tr>\n",
       "  </thead>\n",
       "  <tbody>\n",
       "    <tr>\n",
       "      <th>0</th>\n",
       "      <td>0.700788</td>\n",
       "      <td>0.299212</td>\n",
       "      <td>0.601958</td>\n",
       "      <td>0.398042</td>\n",
       "      <td>0</td>\n",
       "      <td>5.635867</td>\n",
       "    </tr>\n",
       "    <tr>\n",
       "      <th>1</th>\n",
       "      <td>0.296269</td>\n",
       "      <td>0.703731</td>\n",
       "      <td>0.733725</td>\n",
       "      <td>0.266275</td>\n",
       "      <td>1</td>\n",
       "      <td>31.862536</td>\n",
       "    </tr>\n",
       "    <tr>\n",
       "      <th>2</th>\n",
       "      <td>0.702421</td>\n",
       "      <td>0.297579</td>\n",
       "      <td>0.625274</td>\n",
       "      <td>0.374726</td>\n",
       "      <td>2</td>\n",
       "      <td>135.801698</td>\n",
       "    </tr>\n",
       "    <tr>\n",
       "      <th>3</th>\n",
       "      <td>0.256863</td>\n",
       "      <td>0.743137</td>\n",
       "      <td>0.756906</td>\n",
       "      <td>0.243094</td>\n",
       "      <td>3</td>\n",
       "      <td>161.458825</td>\n",
       "    </tr>\n",
       "    <tr>\n",
       "      <th>4</th>\n",
       "      <td>0.698606</td>\n",
       "      <td>0.301394</td>\n",
       "      <td>0.563065</td>\n",
       "      <td>0.436935</td>\n",
       "      <td>4</td>\n",
       "      <td>234.465983</td>\n",
       "    </tr>\n",
       "    <tr>\n",
       "      <th>5</th>\n",
       "      <td>0.234033</td>\n",
       "      <td>0.765967</td>\n",
       "      <td>0.751685</td>\n",
       "      <td>0.248315</td>\n",
       "      <td>5</td>\n",
       "      <td>255.120847</td>\n",
       "    </tr>\n",
       "    <tr>\n",
       "      <th>...</th>\n",
       "      <td>...</td>\n",
       "      <td>...</td>\n",
       "      <td>...</td>\n",
       "      <td>...</td>\n",
       "      <td>...</td>\n",
       "      <td>...</td>\n",
       "    </tr>\n",
       "    <tr>\n",
       "      <th>74</th>\n",
       "      <td>0.734794</td>\n",
       "      <td>0.265206</td>\n",
       "      <td>0.407432</td>\n",
       "      <td>0.592568</td>\n",
       "      <td>74</td>\n",
       "      <td>1998.978809</td>\n",
       "    </tr>\n",
       "    <tr>\n",
       "      <th>75</th>\n",
       "      <td>0.295073</td>\n",
       "      <td>0.704927</td>\n",
       "      <td>0.369098</td>\n",
       "      <td>0.630902</td>\n",
       "      <td>75</td>\n",
       "      <td>2002.883510</td>\n",
       "    </tr>\n",
       "    <tr>\n",
       "      <th>76</th>\n",
       "      <td>0.710927</td>\n",
       "      <td>0.289073</td>\n",
       "      <td>0.397530</td>\n",
       "      <td>0.602470</td>\n",
       "      <td>76</td>\n",
       "      <td>2019.131459</td>\n",
       "    </tr>\n",
       "    <tr>\n",
       "      <th>77</th>\n",
       "      <td>0.270634</td>\n",
       "      <td>0.729366</td>\n",
       "      <td>0.411709</td>\n",
       "      <td>0.588291</td>\n",
       "      <td>77</td>\n",
       "      <td>2026.006596</td>\n",
       "    </tr>\n",
       "    <tr>\n",
       "      <th>78</th>\n",
       "      <td>0.739440</td>\n",
       "      <td>0.260560</td>\n",
       "      <td>0.400301</td>\n",
       "      <td>0.599699</td>\n",
       "      <td>78</td>\n",
       "      <td>2037.617503</td>\n",
       "    </tr>\n",
       "    <tr>\n",
       "      <th>79</th>\n",
       "      <td>0.400495</td>\n",
       "      <td>0.599505</td>\n",
       "      <td>0.332223</td>\n",
       "      <td>0.667777</td>\n",
       "      <td>79</td>\n",
       "      <td>2057.637436</td>\n",
       "    </tr>\n",
       "  </tbody>\n",
       "</table>\n",
       "<p>80 rows × 6 columns</p>\n",
       "</div>"
      ],
      "text/plain": [
       "        P_LR      P_RL    P_Long   P_Short  lap_idx  lap_start_t\n",
       "0   0.700788  0.299212  0.601958  0.398042        0     5.635867\n",
       "1   0.296269  0.703731  0.733725  0.266275        1    31.862536\n",
       "2   0.702421  0.297579  0.625274  0.374726        2   135.801698\n",
       "3   0.256863  0.743137  0.756906  0.243094        3   161.458825\n",
       "4   0.698606  0.301394  0.563065  0.436935        4   234.465983\n",
       "5   0.234033  0.765967  0.751685  0.248315        5   255.120847\n",
       "..       ...       ...       ...       ...      ...          ...\n",
       "74  0.734794  0.265206  0.407432  0.592568       74  1998.978809\n",
       "75  0.295073  0.704927  0.369098  0.630902       75  2002.883510\n",
       "76  0.710927  0.289073  0.397530  0.602470       76  2019.131459\n",
       "77  0.270634  0.729366  0.411709  0.588291       77  2026.006596\n",
       "78  0.739440  0.260560  0.400301  0.599699       78  2037.617503\n",
       "79  0.400495  0.599505  0.332223  0.667777       79  2057.637436\n",
       "\n",
       "[80 rows x 6 columns]"
      ]
     },
     "execution_count": 27,
     "metadata": {},
     "output_type": "execute_result"
    }
   ],
   "source": [
    "laps_all_epoch_bins_marginals_df\n",
    "laps_most_likely_direction_from_decoder\n",
    "long_"
   ]
  },
  {
   "cell_type": "code",
   "execution_count": null,
   "id": "8cdabd71",
   "metadata": {},
   "outputs": [],
   "source": [
    "type(ripple_result_tuple) # pyphoplacecellanalysis.General.Pipeline.Stages.ComputationFunctions.MultiContextComputationFunctions.RankOrderComputations.DirectionalRankOrderResult\n"
   ]
  },
  {
   "cell_type": "code",
   "execution_count": null,
   "id": "8fca534c",
   "metadata": {},
   "outputs": [],
   "source": [
    "assert isinstance(ripple_result_tuple, DirectionalRankOrderResult) \n",
    "\n",
    "ripple_result_tuple.plot_histograms(num='test')"
   ]
  },
  {
   "cell_type": "code",
   "execution_count": null,
   "id": "084f3f69",
   "metadata": {},
   "outputs": [],
   "source": [
    "from functools import wraps, partial\n",
    "import pandas as pd\n",
    "import matplotlib.pyplot as plt\n",
    "\n",
    "def register_type_display(func_to_register, type_to_register):\n",
    "\t\"\"\" adds the display function (`func_to_register`) it decorates to the class (`type_to_register) as a method\n",
    "\n",
    "\n",
    "\t\"\"\"\n",
    "\t@wraps(func_to_register)\n",
    "\tdef wrapper(*args, **kwargs):\n",
    "\t\treturn func_to_register(*args, **kwargs)\n",
    "\n",
    "\tfunction_name: str = func_to_register.__name__ # get the name of the function to be added as the property\n",
    "\tsetattr(type_to_register, function_name, wrapper) # set the function as a method with the same name as the decorated function on objects of the class.\t\n",
    "\treturn wrapper\n",
    "\n"
   ]
  },
  {
   "cell_type": "code",
   "execution_count": null,
   "id": "15629dae",
   "metadata": {},
   "outputs": [],
   "source": [
    "from pyphoplacecellanalysis.General.Pipeline.Stages.ComputationFunctions.MultiContextComputationFunctions.RankOrderComputations import DirectionalRankOrderResult\n",
    "from pyphocorehelpers.DataStructure.RenderPlots.MatplotLibRenderPlots import MatplotlibRenderPlots \n",
    "\n",
    "# @register_type_display(DirectionalRankOrderResult)\n",
    "def plot_histograms(self: DirectionalRankOrderResult, **kwargs) -> \"MatplotlibRenderPlots\":\n",
    "\t\"\"\" \n",
    "\tnum='RipplesRankOrderZscore'\n",
    "\t\"\"\"\n",
    "\tprint(f'.plot_histograms(..., kwargs: {kwargs})')\n",
    "\tfig = plt.figure(layout=\"constrained\", **kwargs)\n",
    "\tax_dict = fig.subplot_mosaic(\n",
    "\t\t[\n",
    "\t\t\t[\"long_short_best_z_score_diff\", \"long_short_best_z_score_diff\"],\n",
    "\t\t\t[\"long_best_z_scores\", \"short_best_z_scores\"],\n",
    "\t\t],\n",
    "\t)\n",
    "\tplots = (pd.DataFrame({'long_best_z_scores': self.long_best_dir_z_score_values}).hist(ax=ax_dict['long_best_z_scores'], bins=21, alpha=0.8),\n",
    "\t\tpd.DataFrame({'short_best_z_scores': self.short_best_dir_z_score_values}).hist(ax=ax_dict['short_best_z_scores'], bins=21, alpha=0.8),\n",
    "\t\tpd.DataFrame({'long_short_best_z_score_diff': self.long_short_best_dir_z_score_diff_values}).hist(ax=ax_dict['long_short_best_z_score_diff'], bins=21, alpha=0.8),\n",
    "\t)\n",
    "\treturn MatplotlibRenderPlots(name='plot_histogram_figure', figures=[fig], axes=ax_dict)\n",
    "\n",
    "\n",
    "register_type_display(plot_histograms, DirectionalRankOrderResult)\n",
    "## Call the newly added `plot_histograms` function on the `ripple_result_tuple` object which is of type `DirectionalRankOrderResult`:\n",
    "assert isinstance(ripple_result_tuple, DirectionalRankOrderResult) \n",
    "ripple_result_tuple.plot_histograms(num='test')"
   ]
  },
  {
   "cell_type": "code",
   "execution_count": null,
   "id": "1c291690",
   "metadata": {},
   "outputs": [],
   "source": [
    "ripple_result_tuple.plot_histograms()"
   ]
  },
  {
   "cell_type": "code",
   "execution_count": null,
   "id": "33b30bcb",
   "metadata": {},
   "outputs": [],
   "source": [
    "print(f'\\t try saving to CSV...')\n",
    "merged_complete_epoch_stats_df = rank_order_results.ripple_merged_complete_epoch_stats_df ## New method\n",
    "\n",
    "merged_complete_ripple_epoch_stats_df_output_path = curr_active_pipeline.get_output_path().joinpath(f'{DAY_DATE_TO_USE}_1247pm_merged_complete_epoch_stats_df.csv').resolve()\n",
    "merged_complete_epoch_stats_df.to_csv(merged_complete_ripple_epoch_stats_df_output_path)\n",
    "print(f'\\t saving to CSV: {merged_complete_ripple_epoch_stats_df_output_path} done.')"
   ]
  },
  {
   "cell_type": "code",
   "execution_count": null,
   "id": "ee47f176",
   "metadata": {},
   "outputs": [],
   "source": [
    "from pyphocorehelpers.indexing_helpers import reorder_columns\n",
    "\n",
    "dict(zip(['Long_LR_evidence', 'Long_RL_evidence', 'Short_LR_evidence', 'Short_RL_evidence'], np.arange(4)+4))\n",
    "reorder_columns(merged_complete_epoch_stats_df, column_name_desired_index_dict=dict(zip(['Long_LR_evidence', 'Long_RL_evidence', 'Short_LR_evidence', 'Short_RL_evidence'], np.arange(4)+4)))\n"
   ]
  },
  {
   "cell_type": "markdown",
   "id": "2dceda30",
   "metadata": {},
   "source": [
    "## 2023-12-21 - Computing Spearman Percentiles as an alternative to the Z-score from shuffling, which does not seem to work for small numbers of active cells in an event:"
   ]
  },
  {
   "cell_type": "code",
   "execution_count": null,
   "id": "b45aa7e2",
   "metadata": {},
   "outputs": [],
   "source": [
    "output_active_epoch_computed_values, shuffled_results_output_dict, combined_variable_names, valid_stacked_arrays, real_stacked_arrays, n_valid_shuffles = rank_order_results.ripple_new_output_tuple\n",
    "# shuffled_results_output_dict['short_LR_pearson_Z']\n",
    "print(list(shuffled_results_output_dict.keys())) # ['short_LR_pearson_Z', 'short_LR_spearman_Z', 'short_RL_pearson_Z', 'short_RL_spearman_Z', 'long_LR_pearson_Z', 'long_RL_pearson_Z', 'long_RL_spearman_Z', 'long_LR_spearman_Z']\n",
    "\n",
    "['long_LR_pearson_Z', 'long_RL_pearson_Z', 'short_LR_pearson_Z', 'short_RL_pearson_Z']"
   ]
  },
  {
   "cell_type": "code",
   "execution_count": null,
   "id": "46b40bfe",
   "metadata": {},
   "outputs": [],
   "source": [
    "## 2023-12-22 - Add the LR-LR, RL-RL differences\n",
    "merged_complete_epoch_stats_df['LongShort_LR_quantile_diff'] = merged_complete_epoch_stats_df['LR_Long_rank_percentile'] - merged_complete_epoch_stats_df['LR_Short_rank_percentile']\n",
    "merged_complete_epoch_stats_df['LongShort_RL_quantile_diff'] = merged_complete_epoch_stats_df['RL_Long_rank_percentile'] - merged_complete_epoch_stats_df['RL_Short_rank_percentile']\n"
   ]
  },
  {
   "cell_type": "code",
   "execution_count": null,
   "id": "e73865dd",
   "metadata": {},
   "outputs": [],
   "source": [
    "ripple_combined_epoch_stats_df = deepcopy(merged_complete_epoch_stats_df)\n",
    "\n",
    "# Filter rows based on columns: 'Long_BestDir_quantile', 'Short_BestDir_quantile'\n",
    "quantile_significance_threshold: float = 0.95\n",
    "significant_BestDir_quantile_stats_df = ripple_combined_epoch_stats_df[(ripple_combined_epoch_stats_df['Long_BestDir_quantile'] > quantile_significance_threshold) | (ripple_combined_epoch_stats_df['Short_BestDir_quantile'] > quantile_significance_threshold)]\n",
    "LR_likely_active_df = ripple_combined_epoch_stats_df[(ripple_combined_epoch_stats_df['combined_best_direction_indicies']==0) & ((ripple_combined_epoch_stats_df['LR_Long_rank_percentile'] > quantile_significance_threshold) | (ripple_combined_epoch_stats_df['LR_Short_rank_percentile'] > quantile_significance_threshold))]\n",
    "RL_likely_active_df = ripple_combined_epoch_stats_df[(ripple_combined_epoch_stats_df['combined_best_direction_indicies']==1) & ((ripple_combined_epoch_stats_df['RL_Long_rank_percentile'] > quantile_significance_threshold) | (ripple_combined_epoch_stats_df['RL_Short_rank_percentile'] > quantile_significance_threshold))]\n",
    "\n",
    "# significant_ripple_combined_epoch_stats_df = ripple_combined_epoch_stats_df[(ripple_combined_epoch_stats_df['LR_Long_rank_percentile'] > quantile_significance_threshold) | (ripple_combined_epoch_stats_df['LR_Short_rank_percentile'] > quantile_significance_threshold) | (ripple_combined_epoch_stats_df['RL_Long_rank_percentile'] > quantile_significance_threshold) | (ripple_combined_epoch_stats_df['RL_Short_rank_percentile'] > quantile_significance_threshold)]\n",
    "# significant_ripple_combined_epoch_stats_df\n",
    "is_epoch_significant = np.isin(ripple_combined_epoch_stats_df.index, significant_BestDir_quantile_stats_df.index)\n",
    "active_replay_epochs_df = rank_order_results.LR_ripple.epochs_df\n",
    "significant_ripple_epochs: Epoch = Epoch(deepcopy(active_replay_epochs_df).epochs.get_valid_df()).boolean_indicies_slice(is_epoch_significant)\n",
    "epoch_identifiers = significant_ripple_epochs._df.label.astype({'label': RankOrderAnalyses._label_column_type}).values #.labels\n",
    "x_values = significant_ripple_epochs.midtimes\n",
    "x_axis_name_suffix = 'Mid-time (Sec)'\n",
    "\n",
    "# significant_ripple_epochs_df = significant_ripple_epochs.to_dataframe()\n",
    "# significant_ripple_epochs_df\n",
    "\n",
    "significant_BestDir_quantile_stats_df['midtimes'] = significant_ripple_epochs.midtimes\n",
    "significant_BestDir_quantile_stats_df"
   ]
  },
  {
   "cell_type": "code",
   "execution_count": null,
   "id": "bb18612f",
   "metadata": {},
   "outputs": [],
   "source": [
    "from pyphoplacecellanalysis.General.Pipeline.Stages.ComputationFunctions.MultiContextComputationFunctions.RankOrderComputations import _plot_significant_event_quantile_fig\n",
    "\n",
    "# active_replay_epochs_df = rank_order_results.LR_ripple.epochs_df\n",
    "# if isinstance(global_events, pd.DataFrame):\n",
    "#     active_replay_epochs = Epoch(deepcopy(active_replay_epochs_df).epochs.get_valid_df())\n",
    "\n",
    "\n",
    "# _out = _plot_significant_event_quantile_fig(curr_active_pipeline, significant_ripple_combined_epoch_stats_df=significant_ripple_combined_epoch_stats_df)\n",
    "# _out\n",
    "\n",
    "marker_style = dict(linestyle='None', color='#ff7f0eff', markersize=6, markerfacecolor='#ff7f0eb4', markeredgecolor='#ff7f0eff')\n",
    "\n",
    "    # dict(facecolor='#ff7f0eb4', size=8.0)\n",
    "    # fignum='best_quantiles'\n",
    "\n",
    "# ripple_combined_epoch_stats_df['combined_best_direction_indicies']\n",
    "\n",
    "_out = significant_BestDir_quantile_stats_df[['midtimes', 'LongShort_BestDir_quantile_diff']].plot(x='midtimes', y='LongShort_BestDir_quantile_diff', title='Sig. (>0.95) Best Quantile Diff', **marker_style, marker='o')\n",
    "\n",
    "\n"
   ]
  },
  {
   "cell_type": "code",
   "execution_count": null,
   "id": "a618ac40",
   "metadata": {},
   "outputs": [],
   "source": [
    "import seaborn as sns\n",
    "from pyphoplacecellanalysis.General.Pipeline.Stages.ComputationFunctions.MultiContextComputationFunctions.RankOrderComputations import plot_quantile_diffs\n",
    "\n",
    "_restore_previous_matplotlib_settings_callback = matplotlib_configuration_update(is_interactive=True, backend='Qt5Agg')\n",
    "global_epoch = curr_active_pipeline.filtered_epochs[global_epoch_name]\n",
    "short_epoch = curr_active_pipeline.filtered_epochs[short_epoch_name]\n",
    "split_time_t: float = short_epoch.t_start\n",
    "active_context = curr_active_pipeline.sess.get_context()\n",
    "\n",
    "collector = plot_quantile_diffs(ripple_merged_complete_epoch_stats_df, t_split=split_time_t, active_context=active_context)\n"
   ]
  },
  {
   "cell_type": "code",
   "execution_count": null,
   "id": "0dd89199",
   "metadata": {},
   "outputs": [],
   "source": [
    "\n",
    "from flexitext import flexitext ## flexitext for formatted matplotlib text\n",
    "from neuropy.utils.matplotlib_helpers import perform_update_title_subtitle\n",
    "perform_update_title_subtitle(fig=fig_long_pf_1D, ax=ax_long_pf_1D, title_string=title_string, subtitle_string=subtitle_string, active_context=active_context, use_flexitext_titles=True)\n"
   ]
  },
  {
   "cell_type": "code",
   "execution_count": null,
   "id": "1e46ba5f",
   "metadata": {},
   "outputs": [],
   "source": [
    "\n",
    "from neuropy.utils.matplotlib_helpers import draw_epoch_regions\n",
    "epochs_collection, epoch_labels = draw_epoch_regions(curr_active_pipeline.sess.epochs, ax, defer_render=False, debug_print=False)"
   ]
  },
  {
   "cell_type": "code",
   "execution_count": null,
   "id": "24ecb4c7",
   "metadata": {},
   "outputs": [],
   "source": [
    "print(list(significant_BestDir_quantile_stats_df.columns))\n",
    "['LR_Long_rank_percentile', 'LR_Short_rank_percentile', 'RL_Long_rank_percentile', 'RL_Short_rank_percentile', 'Long_BestDir_quantile', 'Short_BestDir_quantile', 'LongShort_BestDir_quantile_diff']\n",
    "\n",
    "for a_name in ['LR_Long_rank_percentile', 'LR_Short_rank_percentile', 'RL_Long_rank_percentile', 'RL_Short_rank_percentile', 'Long_BestDir_quantile', 'Short_BestDir_quantile', 'LongShort_BestDir_quantile_diff']:\n",
    "\t_out = significant_BestDir_quantile_stats_df[['midtimes', 'LongShort_BestDir_quantile_diff']].plot(x='midtimes', y=a_name, title=f'Sig. (>0.95) {a_name}', **marker_style, marker='o')"
   ]
  },
  {
   "cell_type": "code",
   "execution_count": null,
   "id": "f883fba9",
   "metadata": {},
   "outputs": [],
   "source": [
    "# quantile_results_df[['LR_Long_rank_percentile', 'RL_Long_rank_percentile', 'LR_Short_rank_percentile', 'RL_Short_rank_percentile']].plot.hist(bins=21)\n",
    "# quantile_results_df[['LR_Long_rank_percentile', 'RL_Long_rank_percentile', 'LR_Short_rank_percentile', 'RL_Short_rank_percentile']].plot.hist(bins=21)\n",
    "\n",
    "df = quantile_results_df[['LR_Long_rank_percentile', 'RL_Long_rank_percentile', 'LR_Short_rank_percentile', 'RL_Short_rank_percentile']].copy()\n",
    "# Create the subplots and loop through columns\n",
    "fig, axes = plt.subplots(4, 1, figsize=(10, 10))\n",
    "for i, col in enumerate(df.columns):\n",
    "    df[col].plot.hist(ax=axes[i], bins=21)\n",
    "    axes[i].set_title(col)\n",
    "\n",
    "# Adjust layout and display plot\n",
    "plt.tight_layout()\n",
    "plt.show()\n",
    "\n"
   ]
  },
  {
   "cell_type": "code",
   "execution_count": null,
   "id": "9fd61a13",
   "metadata": {},
   "outputs": [],
   "source": [
    "win = pg.GraphicsLayoutWidget(show=True)\n",
    "win.resize(800,350)\n",
    "win.setWindowTitle('Z-Scorer: Histogram')\n",
    "plt1 = win.addPlot()\n",
    "vals = quantile_results_df.LR_Long_rank_percentile\n",
    "fisher_z_transformed_vals = np.arctanh(vals)\n",
    "\n",
    "## compute standard histogram\n",
    "y, x = np.histogram(vals) # , bins=np.linspace(-3, 8, 40)\n",
    "# fisher_z_transformed_y, x = np.histogram(fisher_z_transformed_vals, bins=x)\n",
    "\n",
    "## Using stepMode=\"center\" causes the plot to draw two lines for each sample.\n",
    "## notice that len(x) == len(y)+1\n",
    "plt1.plot(x, y, stepMode=\"center\", fillLevel=0, fillOutline=True, brush=(0,0,255,50), name='original_values')\n",
    "plt1.plot(x, y, stepMode=\"center\", fillLevel=0, fillOutline=True, brush=(0,0,255,50), name='original_values')\n",
    "# plt1.plot(x, fisher_z_transformed_y, stepMode=\"center\", fillLevel=0, fillOutline=True, brush=(0,255,100,50), name='fisher_z_values')\n",
    "\n",
    "# ## Now draw all points as a nicely-spaced scatter plot\n",
    "y = pg.pseudoScatter(vals, spacing=0.15)\n",
    "# #plt2.plot(vals, y, pen=None, symbol='o', symbolSize=5)\n",
    "plt2.plot(vals, y, pen=None, symbol='o', symbolSize=5, symbolPen=(255,255,255,200), symbolBrush=(0,0,255,150))\n"
   ]
  },
  {
   "cell_type": "code",
   "execution_count": null,
   "id": "d30cb791",
   "metadata": {},
   "outputs": [],
   "source": [
    "\n",
    "pd.concat((ripple_combined_epoch_stats_df, ripple_p_values_epoch_stats_df), axis='columns')"
   ]
  },
  {
   "cell_type": "code",
   "execution_count": null,
   "id": "d300a225",
   "metadata": {},
   "outputs": [],
   "source": [
    "ripple_result_tuple.directional_likelihoods_tuple"
   ]
  },
  {
   "cell_type": "code",
   "execution_count": null,
   "id": "43327521",
   "metadata": {},
   "outputs": [],
   "source": [
    "np.logical_not(np.isnan(rank_order_results.ripple_combined_epoch_stats_df.index).any())\n",
    "# ripple_combined_epoch_stats_df.label.isna()"
   ]
  },
  {
   "cell_type": "code",
   "execution_count": null,
   "id": "bb3c142b",
   "metadata": {},
   "outputs": [],
   "source": [
    "ripple_combined_epoch_stats_df"
   ]
  },
  {
   "cell_type": "code",
   "execution_count": null,
   "id": "4f3cedf8",
   "metadata": {},
   "outputs": [],
   "source": [
    "np.isnan(ripple_combined_epoch_stats_df.label).any()"
   ]
  },
  {
   "cell_type": "code",
   "execution_count": null,
   "id": "31224e10",
   "metadata": {},
   "outputs": [],
   "source": [
    "np.isnan(ripple_combined_epoch_stats_df.index).any()"
   ]
  },
  {
   "cell_type": "code",
   "execution_count": 13,
   "id": "60749347",
   "metadata": {
    "notebookRunGroups": {
     "groupValue": "1"
    }
   },
   "outputs": [
    {
     "name": "stdout",
     "output_type": "stream",
     "text": [
      "\tdone. building global result.\n"
     ]
    }
   ],
   "source": [
    "print(f'\\tdone. building global result.')\n",
    "directional_laps_results: DirectionalLapsResult = curr_active_pipeline.global_computation_results.computed_data['DirectionalLaps']\n",
    "selected_spikes_df = deepcopy(curr_active_pipeline.global_computation_results.computed_data['RankOrder'].LR_ripple.selected_spikes_df)\n",
    "# active_epochs = global_computation_results.computed_data['RankOrder'].ripple_most_likely_result_tuple.active_epochs\n",
    "active_epochs = deepcopy(curr_active_pipeline.global_computation_results.computed_data['RankOrder'].LR_ripple.epochs_df)\n",
    "track_templates = directional_laps_results.get_templates(minimum_inclusion_fr_Hz=minimum_inclusion_fr_Hz)\n"
   ]
  },
  {
   "cell_type": "code",
   "execution_count": null,
   "id": "97ab4052",
   "metadata": {},
   "outputs": [],
   "source": [
    "ripple_combined_epoch_stats_df, ripple_new_output_tuple = RankOrderAnalyses.pandas_df_based_correlation_computations(selected_spikes_df=selected_spikes_df, active_epochs_df=active_epochs, track_templates=track_templates, num_shuffles=100)\n"
   ]
  },
  {
   "cell_type": "code",
   "execution_count": null,
   "id": "313886d9",
   "metadata": {},
   "outputs": [],
   "source": [
    "# new_output_tuple (output_active_epoch_computed_values, valid_stacked_arrays, real_stacked_arrays, n_valid_shuffles) = ripple_new_output_tuple\n",
    "curr_active_pipeline.global_computation_results.computed_data['RankOrder'].ripple_combined_epoch_stats_df, curr_active_pipeline.global_computation_results.computed_data['RankOrder'].ripple_new_output_tuple = ripple_combined_epoch_stats_df, ripple_new_output_tuple\n",
    "print(f'done!')"
   ]
  },
  {
   "cell_type": "code",
   "execution_count": null,
   "id": "35e95d52",
   "metadata": {},
   "outputs": [],
   "source": [
    "decoder_aclu_peak_map_dict = track_templates.get_decoder_aclu_peak_map_dict()\n",
    "## Restrict to only the relevant columns, and Initialize the dataframe columns to np.nan:\n",
    "active_selected_spikes_df: pd.DataFrame = deepcopy(selected_spikes_df[['t_rel_seconds', 'aclu', 'Probe_Epoch_id']]).sort_values(['Probe_Epoch_id', 't_rel_seconds', 'aclu']).astype({'Probe_Epoch_id': RankOrderAnalyses._label_column_type}) # Sort by columns: 'Probe_Epoch_id' (ascending), 't_rel_seconds' (ascending), 'aclu' (ascending)\n",
    "\n",
    "# _pf_peak_x_column_names = ['LR_Long_pf_peak_x', 'RL_Long_pf_peak_x', 'LR_Short_pf_peak_x', 'RL_Short_pf_peak_x']\n",
    "_pf_peak_x_column_names = [f'{a_decoder_name}_pf_peak_x' for a_decoder_name in track_templates.get_decoder_names()]\n",
    "active_selected_spikes_df[_pf_peak_x_column_names] = pd.DataFrame([[RankOrderAnalyses._NaN_Type, RankOrderAnalyses._NaN_Type, RankOrderAnalyses._NaN_Type, RankOrderAnalyses._NaN_Type]], index=active_selected_spikes_df.index)\n",
    "\n",
    "unique_Probe_Epoch_IDs = active_selected_spikes_df['Probe_Epoch_id'].unique()\n",
    "unique_Probe_Epoch_IDs"
   ]
  },
  {
   "cell_type": "code",
   "execution_count": null,
   "id": "0896891d",
   "metadata": {},
   "outputs": [],
   "source": [
    "for a_probe_epoch_ID in unique_Probe_Epoch_IDs:\n",
    "\t# probe_epoch_df = active_selected_spikes_df[a_probe_epoch_ID == active_selected_spikes_df['Probe_Epoch_id']]\n",
    "\t# epoch_unique_aclus = probe_epoch_df.aclu.unique()\n",
    "\tmask = (a_probe_epoch_ID == active_selected_spikes_df['Probe_Epoch_id'])\n",
    "\t# epoch_unique_aclus = active_selected_spikes_df.loc[mask, 'aclu'].unique()\n",
    "\tfor a_decoder_name, a_aclu_peak_map in decoder_aclu_peak_map_dict.items():\n",
    "\t\t# Shuffle aclus here:\n",
    "\t\tactive_selected_spikes_df.loc[mask, 'aclu'] = active_selected_spikes_df.loc[mask, 'aclu'].sample(frac=1).values\n",
    "\t\tactive_selected_spikes_df.loc[mask, f'{a_decoder_name}_pf_peak_x'] = active_selected_spikes_df.loc[mask, 'aclu'].map(a_aclu_peak_map)\n",
    "\n",
    "\t\t# ## Shuffle aclus here:\n",
    "\t\t# # probe_epoch_df.aclu.sample(1000)\n",
    "\t\t# # a_aclu_peak_map\n",
    "\t\t# # Assuming 'df' is your DataFrame and 'column_name' is the column you want to shuffle\n",
    "\t\t# probe_epoch_df['aclu'] = probe_epoch_df['aclu'].sample(frac=1).reset_index(drop=True)\n",
    "\n",
    "\t\t# probe_epoch_df[f'{a_decoder_name}_pf_peak_x'] = probe_epoch_df.aclu.map(a_aclu_peak_map)\n",
    "\n",
    "\t\t# active_selected_spikes_df[f'{a_decoder_name}_pf_peak_x'] = active_selected_spikes_df.aclu.map(a_aclu_peak_map)\n"
   ]
  },
  {
   "cell_type": "code",
   "execution_count": null,
   "id": "c9d43ee1",
   "metadata": {},
   "outputs": [],
   "source": [
    "# Determine the number of shuffles you want to do\n",
    "num_shuffles = 5\n",
    "\n",
    "# Create a list to hold the shuffled DataFrames\n",
    "shuffled_dfs = []\n",
    "\n",
    "for i in range(num_shuffles):\n",
    "    # Working on a copy of the DataFrame\n",
    "    shuffled_df = active_selected_spikes_df.copy()\n",
    "    \n",
    "    for a_probe_epoch_ID in unique_Probe_Epoch_IDs:\n",
    "        mask = (a_probe_epoch_ID == shuffled_df['Probe_Epoch_id'])\n",
    "        shuffled_df.loc[mask, 'aclu'] = shuffled_df.loc[mask, 'aclu'].sample(frac=1).values\n",
    "        \n",
    "    # Adding the shuffled DataFrame to the list\n",
    "    shuffled_dfs.append(shuffled_df)\n",
    "\n",
    "# Now applying the mapping\n",
    "for i in range(num_shuffles):\n",
    "    shuffled_df = shuffled_dfs[i]\n",
    "    \n",
    "    for a_probe_epoch_ID in unique_Probe_Epoch_IDs:\n",
    "        mask = (a_probe_epoch_ID == shuffled_df['Probe_Epoch_id'])\n",
    "        \n",
    "        for a_decoder_name, a_aclu_peak_map in decoder_aclu_peak_map_dict.items():\n",
    "            shuffled_df.loc[mask, f'{a_decoder_name}_pf_peak_x'] = shuffled_df.loc[mask, 'aclu'].map(a_aclu_peak_map)\n",
    "        \n",
    "    # Replacing the shuffled DataFrame in the list after mapping has been applied\n",
    "    shuffled_dfs[i] = shuffled_df\n"
   ]
  },
  {
   "cell_type": "code",
   "execution_count": null,
   "id": "f8c2e32c",
   "metadata": {},
   "outputs": [],
   "source": [
    "shuffled_dfs\n",
    "\n",
    "'polars[pandas,numpy,pyarrow,fsspec,connectorx,plot]'\n"
   ]
  },
  {
   "cell_type": "code",
   "execution_count": null,
   "id": "9c306ade",
   "metadata": {},
   "outputs": [],
   "source": [
    "## 2024-01-09 - More Efficient\n",
    "import polars as pl\n",
    "\n",
    "\n",
    "\n",
    "\n",
    "def _new_compute_single_rank_order_shuffle(track_templates, active_selected_spikes_df: pd.DataFrame):\n",
    "    \"\"\" 2024-01-09 - Candidate for moving into RankOrderComputations \n",
    "    captures: decoder_names\n",
    "    \n",
    "    Usage:\n",
    "    \n",
    "    shuffled_dfs = _perform_efficient_shuffle(active_selected_spikes_df, decoder_aclu_peak_map_dict, num_shuffles=5)\n",
    "    \n",
    "    \"\"\"\n",
    "    decoder_names = track_templates.get_decoder_names()\n",
    "    \n",
    "    ## Compute real values here:\n",
    "    epoch_id_grouped_selected_spikes_df = active_selected_spikes_df.groupby('Probe_Epoch_id') # I can even compute this outside the loop?\n",
    "\n",
    "    # spearman_correlations = epoch_id_grouped_selected_spikes_df.apply(lambda group: RankOrderAnalyses._subfn_calculate_correlations(group, method='spearman', decoder_names=decoder_names)).reset_index() # Reset index to make 'Probe_Epoch_id' a column\n",
    "    # pearson_correlations = epoch_id_grouped_selected_spikes_df.apply(lambda group: RankOrderAnalyses._subfn_calculate_correlations(group, method='pearson', decoder_names=decoder_names)).reset_index() # Reset index to make 'Probe_Epoch_id' a column\n",
    "\n",
    "    # real_stats_df = pd.concat((spearman_correlations, pearson_correlations), axis='columns')\n",
    "    # real_stats_df = real_stats_df.loc[:, ~real_stats_df.columns.duplicated()] # drop duplicated 'Probe_Epoch_id' column\n",
    "    # # Change column type to uint64 for column: 'Probe_Epoch_id'\n",
    "    # real_stats_df = real_stats_df.astype({'Probe_Epoch_id': 'uint64'})\n",
    "    # # Rename column 'Probe_Epoch_id' to 'label'\n",
    "    # real_stats_df = real_stats_df.rename(columns={'Probe_Epoch_id': 'label'})\n",
    "    \n",
    "    # Parallelize correlation computations if required\n",
    "    correlations = []\n",
    "    for method in ['spearman', 'pearson']:\n",
    "        correlations.append(\n",
    "            epoch_id_grouped_selected_spikes_df.apply(\n",
    "                lambda group: RankOrderAnalyses._subfn_calculate_correlations(\n",
    "                    group, method=method, decoder_names=decoder_names)\n",
    "            )\n",
    "        )\n",
    "  \n",
    "    # Adjust and join all calculated correlations\n",
    "    real_stats_df = pd.concat(correlations, axis='columns').reset_index()\n",
    "    real_stats_df = real_stats_df.loc[:, ~real_stats_df.columns.duplicated()]\n",
    "\n",
    "    real_stats_df.rename(columns={'Probe_Epoch_id': 'label'}, inplace=True)\n",
    "    real_stats_df['label'] = real_stats_df['label'].astype('uint64')  # in-place type casting\n",
    "    \n",
    "    return real_stats_df\n",
    "\n",
    "\n",
    "# Determine the number of shuffles you want to do\n",
    "def _new_perform_efficient_shuffle(track_templates, active_selected_spikes_df, decoder_aclu_peak_map_dict, num_shuffles:int=5):\n",
    "    \"\"\" 2024-01-09 - Performs the shuffles in a simple way\n",
    "    \n",
    "    \"\"\"\n",
    "    unique_Probe_Epoch_IDs = active_selected_spikes_df['Probe_Epoch_id'].unique()\n",
    "\n",
    "    # Create a list to hold the shuffled dataframes\n",
    "    shuffled_dfs = []\n",
    "    shuffled_stats_dfs = []\n",
    "\n",
    "    for i in range(num_shuffles):\n",
    "        # Working on a copy of the DataFrame\n",
    "        shuffled_df = active_selected_spikes_df.copy()\n",
    "\n",
    "        for a_probe_epoch_ID in unique_Probe_Epoch_IDs:\n",
    "            mask = (a_probe_epoch_ID == shuffled_df['Probe_Epoch_id'])\n",
    "            \n",
    "            # Shuffle 'aclu' values\n",
    "            shuffled_df.loc[mask, 'aclu'] = shuffled_df.loc[mask, 'aclu'].sample(frac=1).values\n",
    "            \n",
    "            # # Apply aclu peak map dictionary to 'aclu' column\n",
    "            # for a_decoder_name, a_aclu_peak_map in decoder_aclu_peak_map_dict.items():\n",
    "            #     shuffled_df.loc[mask, f'{a_decoder_name}_pf_peak_x'] = shuffled_df.loc[mask, 'aclu'].map(a_aclu_peak_map)\n",
    "            \n",
    "\n",
    "        # end `for a_probe_epoch_ID`\n",
    "        # Once done, apply the aclu peak maps to shuffled_df's 'aclu' column:\n",
    "        for a_decoder_name, a_aclu_peak_map in decoder_aclu_peak_map_dict.items():\n",
    "            shuffled_df[f'{a_decoder_name}_pf_peak_x'] = shuffled_df.aclu.map(a_aclu_peak_map)\n",
    "            \n",
    "        a_shuffle_stats_df = _new_compute_single_rank_order_shuffle(track_templates, active_selected_spikes_df=shuffled_df)\n",
    "        \n",
    "        # Adding the shuffled DataFrame to the list\n",
    "        shuffled_dfs.append(shuffled_df)\n",
    "        shuffled_stats_dfs.append(a_shuffle_stats_df)\n",
    "        \n",
    "    return shuffled_dfs, shuffled_stats_dfs\n",
    "\n",
    "\n",
    "\n",
    "def _suggested_perform_efficient_shuffle(track_templates, active_selected_spikes_df, decoder_aclu_peak_map_dict, num_shuffles: int = 5):\n",
    "    unique_Probe_Epoch_IDs = active_selected_spikes_df['Probe_Epoch_id'].unique()\n",
    "    shuffled_dfs = []\n",
    "    shuffled_stats_dfs = []\n",
    "\n",
    "    def map_dict_to_group(group, a_dict, column):\n",
    "        group[column] = group[column].map(a_dict)\n",
    "        return group\n",
    "\n",
    "    for i in range(num_shuffles):\n",
    "        shuffled_df = active_selected_spikes_df.copy()\n",
    "\n",
    "        for a_probe_epoch_ID in unique_Probe_Epoch_IDs:\n",
    "            shuffled_df.loc[shuffled_df['Probe_Epoch_id'] == a_probe_epoch_ID, 'aclu'] = shuffled_df.loc[shuffled_df['Probe_Epoch_id'] == a_probe_epoch_ID, 'aclu'].sample(frac=1).values\n",
    "\n",
    "        for a_decoder_name, a_aclu_peak_map in decoder_aclu_peak_map_dict.items():\n",
    "            shuffled_df = shuffled_df.groupby('Probe_Epoch_id').apply(map_dict_to_group, a_dict=a_aclu_peak_map, column=f'{a_decoder_name}_pf_peak_x')\n",
    "\n",
    "        a_shuffle_stats_df = _new_compute_single_rank_order_shuffle(track_templates, active_selected_spikes_df=shuffled_df)\n",
    "\n",
    "        shuffled_dfs.append(shuffled_df)\n",
    "        shuffled_stats_dfs.append(a_shuffle_stats_df)\n",
    "\n",
    "    return shuffled_dfs, shuffled_stats_dfs\n",
    "\n",
    "\n",
    "\n",
    "## Compute:\n",
    "decoder_aclu_peak_map_dict = track_templates.get_decoder_aclu_peak_map_dict()\n",
    "## Restrict to only the relevant columns, and Initialize the dataframe columns to np.nan:\n",
    "active_selected_spikes_df: pd.DataFrame = deepcopy(selected_spikes_df[['t_rel_seconds', 'aclu', 'Probe_Epoch_id']]).sort_values(['Probe_Epoch_id', 't_rel_seconds', 'aclu']).astype({'Probe_Epoch_id': RankOrderAnalyses._label_column_type}) # Sort by columns: 'Probe_Epoch_id' (ascending), 't_rel_seconds' (ascending), 'aclu' (ascending)\n",
    "# _pf_peak_x_column_names = ['LR_Long_pf_peak_x', 'RL_Long_pf_peak_x', 'LR_Short_pf_peak_x', 'RL_Short_pf_peak_x']\n",
    "_pf_peak_x_column_names = [f'{a_decoder_name}_pf_peak_x' for a_decoder_name in track_templates.get_decoder_names()]\n",
    "active_selected_spikes_df[_pf_peak_x_column_names] = pd.DataFrame([[RankOrderAnalyses._NaN_Type, RankOrderAnalyses._NaN_Type, RankOrderAnalyses._NaN_Type, RankOrderAnalyses._NaN_Type]], index=active_selected_spikes_df.index)\n",
    "\n",
    "# with VizTracer(output_file=f\"viztracer_{get_now_time_str()}-suggested_perform_efficient_shuffle.json\", min_duration=200, tracer_entries=3000000, ignore_frozen=True) as tracer:\n",
    "shuffled_dfs, shuffled_stats_dfs = _suggested_perform_efficient_shuffle(track_templates, active_selected_spikes_df, decoder_aclu_peak_map_dict, num_shuffles=10) # 50, 1m 21.2s, 10, 16.1s\n",
    "# shuffled_dfs, shuffled_stats_dfs = _new_perform_efficient_shuffle(track_templates, active_selected_spikes_df, decoder_aclu_peak_map_dict, num_shuffles=10) # 10, 12.8s\n",
    "\n",
    "\n",
    "shuffled_dfs\n",
    "shuffled_stats_dfs\n",
    "# 5, 4.1 sec\n",
    "# 0.5s!!\n",
    "\n"
   ]
  },
  {
   "cell_type": "code",
   "execution_count": null,
   "id": "8421d876",
   "metadata": {},
   "outputs": [],
   "source": [
    "output_active_epoch_computed_values = shuffled_stats_dfs\n",
    "# Build the output `stacked_arrays`: _________________________________________________________________________________ #\n",
    "\n",
    "stacked_arrays = np.stack([a_shuffle_real_stats_df[combined_variable_names].to_numpy() for a_shuffle_real_stats_df in output_active_epoch_computed_values], axis=0) # for compatibility: .shape (n_shuffles, n_epochs, n_columns)\n",
    "# stacked_df = pd.concat(output_active_epoch_computed_values, axis='index')\n",
    "\n",
    "## Drop any shuffle indicies where NaNs are returned for any of the stats values.\n",
    "is_valid_row = np.logical_not(np.isnan(stacked_arrays)).all(axis=(1,2)) # row [0, 66, :] is bad, ... so is [1, 66, :], ... [20, 66, :], ... they are repeated!!\n",
    "n_valid_shuffles = np.sum(is_valid_row)\n",
    "if debug_print:\n",
    "\tprint(f'n_valid_shuffles: {n_valid_shuffles}')\n",
    "valid_stacked_arrays = stacked_arrays[is_valid_row] ## Get only the rows where all elements along both axis (1, 2) are True\n",
    "\n",
    "# Need: valid_stacked_arrays, real_stacked_arrays, combined_variable_names\n",
    "combined_epoch_stats_df: pd.DataFrame = pd.DataFrame(real_stacked_arrays, columns=combined_variable_names)\n",
    "combined_variable_z_score_column_names = [f\"{a_name}_Z\" for a_name in combined_variable_names] # combined_variable_z_score_column_names: ['LR_Long_spearman_Z', 'RL_Long_spearman_Z', 'LR_Short_spearman_Z', 'RL_Short_spearman_Z', 'LR_Long_pearson_Z', 'RL_Long_pearson_Z', 'LR_Short_pearson_Z', 'RL_Short_pearson_Z']\n",
    "\n",
    "## Extract the stats values for each shuffle from `valid_stacked_arrays`:\n",
    "n_epochs = np.shape(real_stacked_arrays)[0]\n",
    "n_variables = np.shape(real_stacked_arrays)[1]\n",
    "\n",
    "# valid_stacked_arrays.shape: (n_shuffles, n_epochs, n_variables)\n",
    "assert n_epochs == np.shape(valid_stacked_arrays)[-2]\n",
    "assert n_variables == np.shape(valid_stacked_arrays)[-1]"
   ]
  },
  {
   "cell_type": "code",
   "execution_count": null,
   "id": "e660e692",
   "metadata": {},
   "outputs": [],
   "source": [
    "from joblib import Parallel, delayed\n",
    "\n",
    "# Determine the number of shuffles you want to do\n",
    "num_shuffles = 5\n",
    "\n",
    "# Define the operation to be run in parallel for a shuffle iteration\n",
    "def shuffle_iteration(i):\n",
    "    # Working on a copy of the DataFrame\n",
    "    shuffled_df = active_selected_spikes_df.copy()\n",
    "\n",
    "    for a_probe_epoch_ID in unique_Probe_Epoch_IDs:\n",
    "        mask = (a_probe_epoch_ID == shuffled_df['Probe_Epoch_id'])\n",
    "\n",
    "        # Shuffle 'aclu' values\n",
    "        shuffled_df.loc[mask, 'aclu'] = shuffled_df.loc[mask, 'aclu'].sample(frac=1).values\n",
    "\n",
    "        # Apply aclu peak map dictionary to 'aclu' column\n",
    "        for a_decoder_name, a_aclu_peak_map in decoder_aclu_peak_map_dict.items():\n",
    "            shuffled_df.loc[mask, f'{a_decoder_name}_pf_peak_x'] = shuffled_df.loc[mask, 'aclu'].map(a_aclu_peak_map)\n",
    "\n",
    "    # Return the shuffled DataFrame\n",
    "    return shuffled_df\n",
    "\n",
    "# Create a list to hold the shuffled dataframes\n",
    "shuffled_dfs = Parallel(n_jobs=-1)(delayed(shuffle_iteration)(i) for i in range(num_shuffles))"
   ]
  },
  {
   "cell_type": "code",
   "execution_count": null,
   "id": "8f45e697",
   "metadata": {},
   "outputs": [],
   "source": [
    "# ['long_LR_pf_peak_x', 'long_RL_pf_peak_x', 'short_LR_pf_peak_x', 'short_RL_pf_peak_x']\n",
    "peak_column_names = [f'{a_decoder_name}_pf_peak_x' for a_decoder_name, a_aclu_peak_map in decoder_aclu_peak_map_dict.items()]\n",
    "print(peak_column_names) \n"
   ]
  },
  {
   "cell_type": "code",
   "execution_count": null,
   "id": "da6b42a7",
   "metadata": {},
   "outputs": [],
   "source": [
    "def _perform_efficient_shuffle_pre_mapping(active_selected_spikes_df, decoder_aclu_peak_map_dict, num_shuffles:int=5):\n",
    "    # Apply aclu peak map dictionary to each decoder name\n",
    "    for a_decoder_name, a_aclu_peak_map in decoder_aclu_peak_map_dict.items():\n",
    "        active_selected_spikes_df[f'{a_decoder_name}_pf_peak_x'] = active_selected_spikes_df['aclu'].map(a_aclu_peak_map)\n",
    "\n",
    "    unique_Probe_Epoch_IDs = active_selected_spikes_df['Probe_Epoch_id'].unique()\n",
    "    shuffles = {}\n",
    "    for i in range(num_shuffles):\n",
    "        shuffles[i] = active_selected_spikes_df.copy()\n",
    "        for a_probe_epoch_ID in unique_Probe_Epoch_IDs:\n",
    "            mask = (a_probe_epoch_ID == shuffles[i]['Probe_Epoch_id'])\n",
    "            # Shuffle multiple columns here:\n",
    "            for a_decoder_name in decoder_aclu_peak_map_dict.keys():\n",
    "                shuffles[i].loc[mask, f'{a_decoder_name}_pf_peak_x'] = shuffles[i].loc[mask, f'{a_decoder_name}_pf_peak_x'].sample(frac=1).values\n",
    "    return shuffles\n",
    "\n",
    "## Compute:\n",
    "decoder_aclu_peak_map_dict = track_templates.get_decoder_aclu_peak_map_dict()\n",
    "## Restrict to only the relevant columns, and Initialize the dataframe columns to np.nan:\n",
    "active_selected_spikes_df: pd.DataFrame = deepcopy(selected_spikes_df[['t_rel_seconds', 'aclu', 'Probe_Epoch_id']]).sort_values(['Probe_Epoch_id', 't_rel_seconds', 'aclu']).astype({'Probe_Epoch_id': RankOrderAnalyses._label_column_type}) # Sort by columns: 'Probe_Epoch_id' (ascending), 't_rel_seconds' (ascending), 'aclu' (ascending)\n",
    "# _pf_peak_x_column_names = ['LR_Long_pf_peak_x', 'RL_Long_pf_peak_x', 'LR_Short_pf_peak_x', 'RL_Short_pf_peak_x']\n",
    "_pf_peak_x_column_names = [f'{a_decoder_name}_pf_peak_x' for a_decoder_name in track_templates.get_decoder_names()]\n",
    "active_selected_spikes_df[_pf_peak_x_column_names] = pd.DataFrame([[RankOrderAnalyses._NaN_Type, RankOrderAnalyses._NaN_Type, RankOrderAnalyses._NaN_Type, RankOrderAnalyses._NaN_Type]], index=active_selected_spikes_df.index)\n",
    "shuffled_dfs = _perform_efficient_shuffle_pre_mapping(active_selected_spikes_df, decoder_aclu_peak_map_dict, num_shuffles=5)\n",
    "# shuffled_dfs\n",
    "# 5, 1.5 sec"
   ]
  },
  {
   "cell_type": "code",
   "execution_count": null,
   "id": "548d3db2",
   "metadata": {},
   "outputs": [],
   "source": [
    "# Shuffle 'aclu' values\n",
    "shuffled_df.loc[mask, 'aclu'] = shuffled_df.loc[mask, 'aclu'].sample(frac=1).values\n",
    "\n",
    "\n",
    "# Shuffle aclu and their corresponding peaks: ['aclu', 'long_LR_pf_peak_x', 'long_RL_pf_peak_x', 'short_LR_pf_peak_x', 'short_RL_pf_peak_x']\n",
    "peak_column_names = [f'{a_decoder_name}_pf_peak_x' for a_decoder_name, a_aclu_peak_map in decoder_aclu_peak_map_dict.items()] # ['long_LR_pf_peak_x', 'long_RL_pf_peak_x', 'short_LR_pf_peak_x', 'short_RL_pf_peak_x']\n",
    "shuffled_df.loc[mask, ['aclu','long_LR_pf_peak_x', 'long_RL_pf_peak_x', 'short_LR_pf_peak_x', 'short_RL_pf_peak_x']] = shuffled_df.loc[mask, ['aclu','long_LR_pf_peak_x', 'long_RL_pf_peak_x', 'short_LR_pf_peak_x', 'short_RL_pf_peak_x']].sample(frac=1).values\n"
   ]
  },
  {
   "cell_type": "code",
   "execution_count": null,
   "id": "4d641689",
   "metadata": {},
   "outputs": [],
   "source": [
    "print_object_memory_usage(output_active_epoch_computed_values) # 0.946189 MB\n"
   ]
  },
  {
   "cell_type": "code",
   "execution_count": null,
   "id": "3e3d1caf",
   "metadata": {},
   "outputs": [],
   "source": [
    "## #TODO 2023-12-13 02:07: - [ ] Figure out how 'Probe_Epoch_id' maps to `ripple_result_tuple.active_epochs`\n",
    "ripple_result_tuple.active_epochs\n",
    "rank_order_results.LR_ripple.ranked_aclus_stats_dict\n"
   ]
  },
  {
   "cell_type": "code",
   "execution_count": null,
   "id": "50f1bbbf",
   "metadata": {},
   "outputs": [],
   "source": [
    "## Add the pf_x information for each aclu:\n",
    "## 2023-10-11 - Get the long/short peak locations\n",
    "# decoder_peak_coms_list = [a_decoder.pf.ratemap.peak_tuning_curve_center_of_masses[is_good_aclus] for a_decoder in decoder_args]\n",
    "decoder_aclu_peak_location_dict_list = [dict(zip(neuron_IDs, peak_locations)) for neuron_IDs, peak_locations in zip(track_templates.decoder_neuron_IDs_list, track_templates.decoder_peak_location_list)]\n",
    "decoder_aclu_peak_location_dict_list\n"
   ]
  },
  {
   "cell_type": "code",
   "execution_count": null,
   "id": "de234ecb",
   "metadata": {},
   "outputs": [],
   "source": [
    "track_templates.long_LR_decoder.peak_locations"
   ]
  },
  {
   "cell_type": "code",
   "execution_count": null,
   "id": "4cc4b6e5",
   "metadata": {},
   "outputs": [],
   "source": [
    "track_templates.long_LR_decoder.peak_tuning_curve_center_of_masses"
   ]
  },
  {
   "cell_type": "code",
   "execution_count": null,
   "id": "bc1305ed",
   "metadata": {},
   "outputs": [],
   "source": [
    "track_templates.decoder_LR_pf_peak_ranks_list"
   ]
  },
  {
   "cell_type": "code",
   "execution_count": null,
   "id": "f7b179f8",
   "metadata": {},
   "outputs": [],
   "source": [
    "## Replays:\n",
    "global_replays = TimeColumnAliasesProtocol.renaming_synonym_columns_if_needed(deepcopy(curr_active_pipeline.filtered_sessions[global_epoch_name].replay))\n",
    "if isinstance(global_replays, pd.DataFrame):\n",
    "\tglobal_replays = Epoch(global_replays.epochs.get_valid_df())\n",
    "\n",
    "# get the aligned epochs and the z-scores aligned to them:\n",
    "active_replay_epochs, (active_LR_ripple_long_z_score, active_RL_ripple_long_z_score, active_LR_ripple_short_z_score, active_RL_ripple_short_z_score) = rank_order_results.get_aligned_events(global_replays.to_dataframe().copy(), is_laps=False)\n",
    "active_replay_epochs"
   ]
  },
  {
   "cell_type": "code",
   "execution_count": null,
   "id": "b6384a30",
   "metadata": {},
   "outputs": [],
   "source": [
    "## Laps:\n",
    "long_epoch_name, short_epoch_name, global_epoch_name = curr_active_pipeline.find_LongShortGlobal_epoch_names()\n",
    "global_laps = deepcopy(curr_active_pipeline.filtered_sessions[global_epoch_name].laps).trimmed_to_non_overlapping()\n",
    "active_laps_epochs, (active_LR_ripple_long_z_score, active_RL_ripple_long_z_score, active_LR_ripple_short_z_score, active_RL_ripple_short_z_score) = rank_order_results.get_aligned_events(global_laps.to_dataframe(), is_laps=True)"
   ]
  },
  {
   "cell_type": "code",
   "execution_count": null,
   "id": "91e8ff66",
   "metadata": {},
   "outputs": [],
   "source": [
    "ripple_result_tuple.plot_histogram()"
   ]
  },
  {
   "cell_type": "code",
   "execution_count": null,
   "id": "7dfbe341",
   "metadata": {},
   "outputs": [],
   "source": [
    "# Find only the significant events (|z| > 1.96):\n",
    "from pyphoplacecellanalysis.General.Pipeline.Stages.ComputationFunctions.MultiContextComputationFunctions.RankOrderComputations import RankOrderAnalyses\n",
    "\n",
    "filtered_z_score_df, (n_events, n_significant_events, percent_significant_events) = RankOrderAnalyses.find_only_significant_events(rank_order_results, high_z_criteria=1.96)\n",
    "filtered_z_score_df"
   ]
  },
  {
   "cell_type": "code",
   "execution_count": null,
   "id": "19d6bcd9",
   "metadata": {},
   "outputs": [],
   "source": [
    "print(filtered_z_score_df.index.to_numpy())\n"
   ]
  },
  {
   "cell_type": "code",
   "execution_count": null,
   "id": "86532662",
   "metadata": {},
   "outputs": [],
   "source": [
    "# 2023-11-20 - Finding high-significance periods for Kamran:\n",
    "z_threshold = 1.96\n",
    "is_greater_than_z_threshold_long = (np.abs(ripple_result_tuple.long_best_dir_z_score_values) > z_threshold)\n",
    "is_greater_than_z_threshold_short = (np.abs(ripple_result_tuple.short_best_dir_z_score_values) > z_threshold)\n",
    "is_significant_either = np.logical_or(is_greater_than_z_threshold_long, is_greater_than_z_threshold_short)\n",
    "is_significant_either\n",
    "\n",
    "# is_greater_than_3std_long = (np.abs(ripple_result_tuple.long_best_dir_z_score_values) >= 3.0)\n",
    "# is_greater_than_3std_short = (np.abs(ripple_result_tuple.short_best_dir_z_score_values) >= 3.0)\n",
    "# is_significant_either = np.logical_or(is_greater_than_3std_long, is_greater_than_3std_short)\n"
   ]
  },
  {
   "cell_type": "code",
   "execution_count": null,
   "id": "5f925cde",
   "metadata": {},
   "outputs": [],
   "source": [
    "significant_ripple_epochs = deepcopy(Epoch(ripple_result_tuple.active_epochs)).boolean_indicies_slice(is_significant_either)\n",
    "# significant_ripple_epochs = deepcopy(global_replays).boolean_indicies_slice(is_significant_either)\n",
    "significant_ripple_epochs.to_dataframe()\n",
    "\n",
    "# significant_ripple_epochs.filename = Path(f'output/2023-11-27_SignificantReplayRipples').resolve()\n",
    "# significant_ripple_epochs.to_neuroscope()\n"
   ]
  },
  {
   "cell_type": "code",
   "execution_count": null,
   "id": "6a8beece",
   "metadata": {},
   "outputs": [],
   "source": [
    "# active_epochs = ripple_result_tuple.active_epochs\n",
    "active_epochs: Epoch = rank_order_results.RL_ripple.epochs_df # Epoch(rank_order_results.RL_ripple.epochs_df)\n",
    "# type(active_epochs)\n",
    "active_epochs.n_epochs\n",
    "# rank_order_results.RL_ripple.spikes_df"
   ]
  },
  {
   "cell_type": "code",
   "execution_count": null,
   "id": "c93ffe0d",
   "metadata": {},
   "outputs": [],
   "source": [
    "rank_order_results.LR_ripple.epochs_df\n",
    "rank_order_results.LR_ripple.spikes_df\n",
    "\n"
   ]
  },
  {
   "cell_type": "code",
   "execution_count": null,
   "id": "39525572",
   "metadata": {},
   "outputs": [],
   "source": [
    "combined_variable_names: ['LR_Long_spearman', 'RL_Long_spearman', 'LR_Short_spearman', 'RL_Short_spearman', 'LR_Long_pearson', 'RL_Long_pearson', 'LR_Short_pearson', 'RL_Short_pearson']\n",
    "combined_variable_z_score_column_names: ['LR_Long_spearman_Z', 'RL_Long_spearman_Z', 'LR_Short_spearman_Z', 'RL_Short_spearman_Z', 'LR_Long_pearson_Z', 'RL_Long_pearson_Z', 'LR_Short_pearson_Z', 'RL_Short_pearson_Z']"
   ]
  },
  {
   "cell_type": "code",
   "execution_count": null,
   "id": "17f47973",
   "metadata": {},
   "outputs": [],
   "source": [
    "curr_active_pipeline.build_display_context_for_filtered_session(filtered_session_name='maze_any', display_fn_name='test')"
   ]
  },
  {
   "cell_type": "code",
   "execution_count": null,
   "id": "6b319650",
   "metadata": {},
   "outputs": [],
   "source": [
    "rank_order_results.LR_ripple.selected_spikes_df"
   ]
  },
  {
   "cell_type": "code",
   "execution_count": null,
   "id": "fef5436c",
   "metadata": {},
   "outputs": [],
   "source": [
    "rank_order_results.RL_ripple.selected_spikes_df"
   ]
  },
  {
   "cell_type": "markdown",
   "id": "619ebf52",
   "metadata": {},
   "source": [
    "#### Iterates through the epochs (via the slider) and saves out the images:\n"
   ]
  },
  {
   "cell_type": "code",
   "execution_count": null,
   "id": "53f73ed6",
   "metadata": {},
   "outputs": [],
   "source": [
    "export_path = Path(r'C:\\Users\\pho\\Desktop\\2023-12-19 Exports').resolve()\n",
    "all_save_paths = _out_rank_order_event_raster_debugger.export_figure_all_slider_values(export_path=export_path)"
   ]
  },
  {
   "cell_type": "code",
   "execution_count": null,
   "id": "9a46e840",
   "metadata": {},
   "outputs": [],
   "source": [
    "_out_rank_order_event_raster_debugger.active_epoch_IDX"
   ]
  },
  {
   "cell_type": "code",
   "execution_count": null,
   "id": "33d7d125",
   "metadata": {},
   "outputs": [],
   "source": [
    "_out_rank_order_event_raster_debugger.active_epoch_result_df"
   ]
  },
  {
   "cell_type": "code",
   "execution_count": null,
   "id": "41d5bd28",
   "metadata": {},
   "outputs": [],
   "source": [
    "aclu_y_values_dict = {_active_plot_identifier:{int(aclu):new_sorted_raster.neuron_y_pos[aclu] for aclu in new_sorted_raster.neuron_IDs} for _active_plot_identifier, new_sorted_raster in _out_rank_order_event_raster_debugger.plots_data.seperate_new_sorted_rasters_dict.items()}\n",
    "aclu_max_y_values_dict = {_active_plot_identifier:np.max(list({int(aclu):new_sorted_raster.neuron_y_pos[aclu] for aclu in new_sorted_raster.neuron_IDs}.values())) for _active_plot_identifier, new_sorted_raster in _out_rank_order_event_raster_debugger.plots_data.seperate_new_sorted_rasters_dict.items()} # {'long_LR': 51.48039215686274, 'long_RL': 53.5, 'short_LR': 51.48039215686274, 'short_RL': 53.5}\n",
    "global_max_y_value = np.max(list(aclu_max_y_values_dict.values()))\n",
    "global_max_y_value"
   ]
  },
  {
   "cell_type": "code",
   "execution_count": null,
   "id": "01518ab5",
   "metadata": {},
   "outputs": [],
   "source": [
    "max_n_neurons = np.max([len(v) for v in _out_rank_order_event_raster_debugger.plots_data.unsorted_original_neuron_IDs_lists])\n",
    "max_n_neurons"
   ]
  },
  {
   "cell_type": "code",
   "execution_count": null,
   "id": "277c056e",
   "metadata": {},
   "outputs": [],
   "source": [
    "_out_rank_order_event_raster_debugger.plots.all_separate_plots['long_LR']['root_plot']\n",
    "\n",
    "\n",
    "root_plots_dict"
   ]
  },
  {
   "cell_type": "markdown",
   "id": "f1f2a9a6",
   "metadata": {},
   "source": [
    "#  Create a new `SpikeRaster2D` instance using `_display_spike_raster_pyqtplot_2D` and capture its outputs:\n"
   ]
  },
  {
   "cell_type": "code",
   "execution_count": null,
   "id": "7cc87fb8",
   "metadata": {},
   "outputs": [],
   "source": [
    "curr_active_pipeline.prepare_for_display()"
   ]
  },
  {
   "cell_type": "code",
   "execution_count": null,
   "id": "82cc7400",
   "metadata": {},
   "outputs": [],
   "source": [
    "# Create a new `SpikeRaster2D` instance using `_display_spike_raster_pyqtplot_2D` and capture its outputs:\n",
    "# active_2d_plot, active_3d_plot, spike_raster_window = curr_active_pipeline.plot._display_spike_rasters_pyqtplot_2D()\n",
    "\n",
    "_out_graphics_dict = curr_active_pipeline.display('_display_spike_rasters_pyqtplot_2D', 'maze_any') # 'maze_any'\n",
    "assert isinstance(_out_graphics_dict, dict)\n",
    "active_2d_plot, active_3d_plot, spike_raster_window = _out_graphics_dict['spike_raster_plt_2d'], _out_graphics_dict['spike_raster_plt_3d'], _out_graphics_dict['spike_raster_window']"
   ]
  },
  {
   "cell_type": "code",
   "execution_count": null,
   "id": "5b39a1bb",
   "metadata": {},
   "outputs": [],
   "source": [
    "main_content_splitter: pg.QtWidgets.QSplitter = active_2d_plot.ui.main_content_splitter\n",
    "main_content_splitter"
   ]
  },
  {
   "cell_type": "code",
   "execution_count": null,
   "id": "f6bfb57d",
   "metadata": {},
   "outputs": [],
   "source": [
    "dynamic_docked_widget_container: NestedDockAreaWidget = active_2d_plot.ui.dynamic_docked_widget_container\n",
    "dynamic_docked_widget_container"
   ]
  },
  {
   "cell_type": "code",
   "execution_count": null,
   "id": "fa584bab",
   "metadata": {},
   "outputs": [],
   "source": [
    "dynamic_docked_widget_container.parentWidget()"
   ]
  },
  {
   "cell_type": "code",
   "execution_count": null,
   "id": "51c9dae4",
   "metadata": {},
   "outputs": [],
   "source": [
    "# active_2d_plot.disp\n"
   ]
  },
  {
   "cell_type": "code",
   "execution_count": null,
   "id": "43aec411",
   "metadata": {},
   "outputs": [],
   "source": [
    "main_content_splitter.orientation() #(pg.Qt.Vertical)\n",
    "main_content_splitter.setOrientation(0)\n",
    "main_content_splitter.setStyleSheet(\"\"\"\n",
    "    QSplitter::handle {\n",
    "        background: rgb(255, 0, 4);\n",
    "    }\n",
    "    QSplitter::handle:horizontal {\n",
    "        width: 15px;\n",
    "    }\n",
    "    QSplitter::handle:vertical {\n",
    "        height: 15px;\n",
    "    }\n",
    "\"\"\")\n",
    "\n"
   ]
  },
  {
   "cell_type": "code",
   "execution_count": null,
   "id": "3bae05bd",
   "metadata": {},
   "outputs": [],
   "source": [
    "main_content_splitter.setHandleWidth(10)\n",
    "main_content_splitter.setLineWidth(5)"
   ]
  },
  {
   "cell_type": "code",
   "execution_count": null,
   "id": "d411e197",
   "metadata": {},
   "outputs": [],
   "source": [
    "active_2d_plot.enable_debug_print = True\n",
    "# active_2d_plot.enable_debug_widgets = True\n",
    "\n",
    "active_2d_plot.debug_print_spike_raster_timeline_alignments()"
   ]
  },
  {
   "cell_type": "code",
   "execution_count": null,
   "id": "a3bd85d1",
   "metadata": {},
   "outputs": [],
   "source": [
    "# active_2d_plot.find_matplotlib_render_plot_widget("
   ]
  },
  {
   "cell_type": "code",
   "execution_count": null,
   "id": "efd6b290",
   "metadata": {},
   "outputs": [],
   "source": [
    "from pyphoplacecellanalysis.General.Pipeline.Stages.ComputationFunctions.MultiContextComputationFunctions.DirectionalPlacefieldGlobalComputationFunctions import AddNewPseudo2DDecodedEpochs_MatplotlibPlotCommand\n",
    "\n",
    "global_window_menus = active_2d_plot.window().ui.menus.global_window_menus #.window().rootWindow #.activeMenuReference\n",
    "# active_2d_plot.rootWindow\n",
    "actionPseudo2DDecodedEpochsDockedMatplotlibView = global_window_menus.docked_widgets.actions_dict['actionPseudo2DDecodedEpochsDockedMatplotlibView']"
   ]
  },
  {
   "cell_type": "code",
   "execution_count": null,
   "id": "d7914f0f",
   "metadata": {},
   "outputs": [],
   "source": [
    "actionPseudo2DDecodedEpochsDockedMatplotlibView.activate(pg.QtGui.QAction.Trigger)"
   ]
  },
  {
   "cell_type": "code",
   "execution_count": null,
   "id": "0ccfa179",
   "metadata": {},
   "outputs": [],
   "source": [
    "DirectionalDecodersDecodedResult.validate_has_directional_decoded_continuous_epochs(curr_active_pipeline)"
   ]
  },
  {
   "cell_type": "code",
   "execution_count": null,
   "id": "53ffafed",
   "metadata": {},
   "outputs": [],
   "source": [
    "actionPseudo2DDecodedEpochsDockedMatplotlibView"
   ]
  },
  {
   "cell_type": "code",
   "execution_count": null,
   "id": "4a100cbd",
   "metadata": {},
   "outputs": [],
   "source": [
    "# print_keys_if_possible('menus', active_2d_plot.ui.menus, max_depth=3)\n",
    "\n",
    "# print_keys_if_possible('global_window_menus', global_window_menus, max_depth=4)\n",
    "\n",
    "## Document `add_renderables_menu`\n",
    "doc_printer = DocumentationFilePrinter(doc_output_parent_folder=doc_output_parent_folder, doc_name='global_window_menus')\n",
    "doc_printer.save_documentation('global_window_menus', global_window_menus, non_expanded_item_keys=['name'], max_depth=4)\n",
    "doc_printer\n",
    "\n",
    "\n",
    "# menuDockedWidgets\n"
   ]
  },
  {
   "cell_type": "code",
   "execution_count": null,
   "id": "0fc023ad",
   "metadata": {},
   "outputs": [],
   "source": [
    "activeMenuReference\n"
   ]
  },
  {
   "cell_type": "markdown",
   "id": "0592dc1f",
   "metadata": {},
   "source": [
    "### 📣 Programmatically adding several epoch rectangles by calling the addRenderable context menu functions all at once for SpikeRaster2D"
   ]
  },
  {
   "cell_type": "code",
   "execution_count": null,
   "id": "d0ffa08b",
   "metadata": {},
   "outputs": [],
   "source": [
    "from pyphoplacecellanalysis.GUI.PyQtPlot.Widgets.Mixins.RenderTimeEpochs.EpochRenderingMixin import EpochRenderingMixin, RenderedEpochsItemsContainer\n",
    "\n",
    "add_renderables_menu = active_2d_plot.ui.menus.custom_context_menus.add_renderables[0].programmatic_actions_dict\n",
    "menu_commands = ['AddTimeIntervals.Replays', 'AddTimeIntervals.Laps', 'AddTimeIntervals.SessionEpochs']\n",
    "for a_command in menu_commands:\n",
    "    add_renderables_menu[a_command].trigger()\n",
    "    \n",
    "# Setup the rendered intervals using a stacked layout:\n",
    "interval_info: Dict[str, Dict] = active_2d_plot.list_all_rendered_intervals()\n",
    "rendered_interval_keys = list(interval_info.keys())\n",
    "desired_interval_height_ratios = [2.0, 2.0, 1.0, 0.1, 1.0, 1.0, 1.0] # ratio of heights to each interval\n",
    "required_vertical_offsets, required_interval_heights = EpochRenderingMixin.build_stacked_epoch_layout(desired_interval_height_ratios, epoch_render_stack_height=20.0, interval_stack_location='below')\n",
    "stacked_epoch_layout_dict = {interval_key:dict(y_location=y_location, height=height) for interval_key, y_location, height in zip(rendered_interval_keys, required_vertical_offsets, required_interval_heights)} # Build a stacked_epoch_layout_dict to update the display\n",
    "active_2d_plot.update_rendered_intervals_visualization_properties(stacked_epoch_layout_dict)"
   ]
  },
  {
   "cell_type": "code",
   "execution_count": null,
   "id": "0cc778a5",
   "metadata": {},
   "outputs": [],
   "source": []
  },
  {
   "cell_type": "code",
   "execution_count": null,
   "id": "45e5f0ab",
   "metadata": {},
   "outputs": [],
   "source": [
    "interval_info: Dict[str, Dict] = active_2d_plot.list_all_rendered_intervals()\n",
    "interval_info"
   ]
  },
  {
   "cell_type": "code",
   "execution_count": null,
   "id": "8cf7cf29",
   "metadata": {},
   "outputs": [],
   "source": [
    "type(interval_info['Laps']['background_static_scroll_window_plot'])"
   ]
  },
  {
   "cell_type": "code",
   "execution_count": null,
   "id": "4cf8970f",
   "metadata": {},
   "outputs": [],
   "source": [
    "interval_datasources = active_2d_plot.interval_datasources # RenderPlotsData\n",
    "interval_datasources"
   ]
  },
  {
   "cell_type": "code",
   "execution_count": null,
   "id": "cf418231",
   "metadata": {},
   "outputs": [],
   "source": [
    "add_renderables_menu[\"Clear\"]['all']['Time']['Intervals'].trigger()\n",
    "# child_plots_removal_list\n"
   ]
  },
  {
   "cell_type": "code",
   "execution_count": null,
   "id": "3b5a5f2f",
   "metadata": {},
   "outputs": [],
   "source": [
    "active_2d_plot.clear_all_rendered_intervals()"
   ]
  },
  {
   "cell_type": "code",
   "execution_count": null,
   "id": "ad4fa097",
   "metadata": {},
   "outputs": [],
   "source": [
    "list(add_renderables_menu.keys()) # ['AddTimeIntervals', 'AddTimeCurves', 'AddMatplotlibPlot', 'Clear']\n",
    "\n",
    "# print_keys_if_possible(\"add_renderables_menu\", add_renderables_menu, max_depth=5)\n",
    "\n",
    "# DocumentationFilePrinter\n",
    "\n"
   ]
  },
  {
   "cell_type": "code",
   "execution_count": null,
   "id": "b0ab85db",
   "metadata": {},
   "outputs": [],
   "source": [
    "## Document `add_renderables_menu`\n",
    "doc_printer = DocumentationFilePrinter(doc_output_parent_folder=doc_output_parent_folder, doc_name='add_renderables_menu')\n",
    "doc_printer.save_documentation('add_renderables_menu', add_renderables_menu, non_expanded_item_keys=['_reverse_cellID_index_map'])\n",
    "doc_printer"
   ]
  },
  {
   "cell_type": "code",
   "execution_count": null,
   "id": "2dd5be6c",
   "metadata": {},
   "outputs": [],
   "source": [
    "add_renderables_menu"
   ]
  },
  {
   "cell_type": "code",
   "execution_count": null,
   "id": "eb1ef7b8",
   "metadata": {},
   "outputs": [],
   "source": [
    "spike_raster_window.show()"
   ]
  },
  {
   "cell_type": "markdown",
   "id": "cc724152",
   "metadata": {},
   "source": [
    "### Programmatically Get/Manuplate/Update Dock widgets:"
   ]
  },
  {
   "cell_type": "code",
   "execution_count": null,
   "id": "acc5c4d8",
   "metadata": {
    "tags": [
     "dockItem"
    ]
   },
   "outputs": [],
   "source": [
    "# active_2d_plot.clear_all_matplotlib_plots()\n",
    "from pyphoplacecellanalysis.GUI.PyQtPlot.DockingWidgets.DynamicDockDisplayAreaContent import CustomDockDisplayConfig, CustomCyclicColorsDockDisplayConfig\n",
    "from pyphoplacecellanalysis.GUI.PyQtPlot.DockingWidgets.NestedDockAreaWidget import NestedDockAreaWidget\n",
    "from pyphocorehelpers.gui.Qt.widget_positioning_helpers import WidgetGeometryInfo\n",
    "from pyphoplacecellanalysis.External.pyqtgraph.dockarea.DockArea import DockArea\n",
    "from pyphoplacecellanalysis.External.pyqtgraph.dockarea.Dock import Dock, DockDisplayConfig\n",
    "\n",
    "dynamic_docked_widget_container: NestedDockAreaWidget = active_2d_plot.ui.dynamic_docked_widget_container\n",
    "dock_area: DockArea = dynamic_docked_widget_container.area\n",
    "dynamic_docked_widget_container"
   ]
  },
  {
   "cell_type": "code",
   "execution_count": null,
   "id": "a28c5d32",
   "metadata": {},
   "outputs": [],
   "source": [
    "\n",
    "an_info = WidgetGeometryInfo.init_from_widget(dynamic_docked_widget_container)\n",
    "a_size_policy: pg.QtWidgets.QSizePolicy = an_info.sizePolicy\n",
    "a_size_policy\n",
    "# self.setSizePolicy(QtWidgets.QSizePolicy.Expanding,QtWidgets.QSizePolicy.Fixed)\n",
    "# QtGui.QSizePolicy.Expanding, QtGui.QSizePolicy.Preferred\n",
    "a_size_policy.horizontalPolicy()\n",
    "a_size_policy.verticalPolicy()\n",
    "a_size_policy.horizontalStretch()\n",
    "a_size_policy.verticalStretch()\n"
   ]
  },
  {
   "cell_type": "code",
   "execution_count": null,
   "id": "e8d17a0d",
   "metadata": {},
   "outputs": [],
   "source": [
    "from pyphocorehelpers.gui.Qt.TopLevelWindowHelper import print_widget_hierarchy\n",
    "\n",
    "a_window = dynamic_docked_widget_container.window()\n",
    "print_widget_hierarchy(a_window)\n",
    "\n"
   ]
  },
  {
   "cell_type": "code",
   "execution_count": null,
   "id": "dacd5033",
   "metadata": {},
   "outputs": [],
   "source": [
    "dynamic_docked_widget_container.setStyleSheet('background-color: rgb(54, 27, 81);')\n"
   ]
  },
  {
   "cell_type": "code",
   "execution_count": null,
   "id": "e4145ebc",
   "metadata": {},
   "outputs": [],
   "source": [
    "dynamic_docked_widget_container.parentWidget() # Spike2DRaster\n",
    "dynamic_docked_widget_container"
   ]
  },
  {
   "cell_type": "code",
   "execution_count": null,
   "id": "16db76fc",
   "metadata": {},
   "outputs": [],
   "source": [
    "dynamic_docked_widget_container.getContentsMargins()\n",
    "dynamic_docked_widget_container.size()\n",
    "\n"
   ]
  },
  {
   "cell_type": "code",
   "execution_count": null,
   "id": "262dc900",
   "metadata": {},
   "outputs": [],
   "source": [
    "_dockitems_list: List[Dock] = dynamic_docked_widget_container.get_flat_dockitems_list() # [<Dock long_LR_ContinuousDecode (65, 200)>, <Dock long_RL_ContinuousDecode (65, 200)>, <Dock short_LR_ContinuousDecode (65, 200)>, <Dock short_RL_ContinuousDecode (65, 200)>]\n",
    "_dockitems_list"
   ]
  },
  {
   "cell_type": "code",
   "execution_count": null,
   "id": "9ed58a7a",
   "metadata": {},
   "outputs": [],
   "source": [
    "_dockitems_list: List[Dock] = dynamic_docked_widget_container.get_flat_dockitems_list()\n",
    "_dockitems_names_list = [v.name() for v in _dockitems_list]\n",
    "_widgets_list = dynamic_docked_widget_container.get_flat_widgets_list()\n",
    "assert len(_dockitems_names_list) == len(_widgets_list), f\"lists must be equal!\"\n",
    "_widgets_dict = dict(zip(_dockitems_names_list, _widgets_list))\n",
    "_widgets_dict\n",
    "\n",
    "# _dockitems_names_list = [v.title() for v in _dockitems_list]\n"
   ]
  },
  {
   "cell_type": "code",
   "execution_count": null,
   "id": "7e67782b",
   "metadata": {},
   "outputs": [],
   "source": [
    "# dynamic_docked_widget_container.getContentsMargins()\n",
    "# dynamic_docked_widget_container.geometry()\n",
    "a_layout = dynamic_docked_widget_container.layout()\n",
    "a_layout.getContentsMargins()\n",
    "a_layout.setContentsMargins(0,0,0,0)\n",
    "a_layout.verticalSpacing()\n",
    "a_layout.setVerticalSpacing(2)"
   ]
  },
  {
   "cell_type": "code",
   "execution_count": null,
   "id": "4127b469",
   "metadata": {},
   "outputs": [],
   "source": [
    "# max_height = 65\n",
    "geometry_config_dict = {}\n",
    "for a_dockitem in _dockitems_list:\n",
    "\t# a_dockitem\n",
    "\t# a_dockitem.setMaximumHeight(max_height)\n",
    "\t# a_dockitem.maximumSize()\n",
    "\t# a_dockitem.minimumSize()\n",
    "\t# a_dockitem.baseSize()\n",
    "\t# a_dockitem.sizePolicy()\n",
    "\t# a_dockitem.geometry()\n",
    "\ta_geometry_config = WidgetGeometryInfo.init_from_widget(a_dockitem)\n",
    "\tgeometry_config_dict[a_dockitem.name()] = a_geometry_config\n",
    "\t# a_dockitem.setMinimumSize()\n",
    "\t\n",
    "geometry_config_dict"
   ]
  },
  {
   "cell_type": "code",
   "execution_count": null,
   "id": "09d1de8a",
   "metadata": {},
   "outputs": [],
   "source": [
    "dockitem_geometry = []\n",
    "for a_dockitem in _dockitems_list:\n",
    "\tprint(f'a_dockitem.name: {a_dockitem.name()}')\n",
    "\ta_dockitem.setMaximumHeight(35)\n",
    "\t# a_dockitem.getMaximumWidth()\n",
    "\t# a_dockitem.setMaximumSize()\n",
    "\t# geometry_config_dict[a_dockitem.name()].apply_to_widget(a_dockitem)"
   ]
  },
  {
   "cell_type": "code",
   "execution_count": null,
   "id": "9c75bc5e",
   "metadata": {},
   "outputs": [],
   "source": [
    "a_dockitem = _dockitems_list[0]\n",
    "a_dockitem"
   ]
  },
  {
   "cell_type": "code",
   "execution_count": null,
   "id": "3c8706eb",
   "metadata": {},
   "outputs": [],
   "source": [
    "a_dockitem.geometry() # PyQt5.QtCore.QRect(0, 0, 1835, 158)\n",
    "# a_dockitem.saveGeometry()\n",
    "a_dockitem.getContentsMargins()"
   ]
  },
  {
   "cell_type": "code",
   "execution_count": null,
   "id": "00cc86ad",
   "metadata": {},
   "outputs": [],
   "source": [
    "a_dockitem.size() # PyQt5.QtCore.QSize(1835, 121)"
   ]
  },
  {
   "cell_type": "code",
   "execution_count": null,
   "id": "e2489a24",
   "metadata": {},
   "outputs": [],
   "source": [
    "from pyphoplacecellanalysis.Pho2D.matplotlib.MatplotlibTimeSynchronizedWidget import MatplotlibTimeSynchronizedWidget\n",
    "\n",
    "\n",
    "a_key, a_widget = list(_widgets_dict.items())[0]\n",
    "# a_key\n",
    "# a_widget\n",
    "# : MatplotlibTimeSynchronizedWidget\n",
    "a_fig = a_widget.getFigure() # this only seems to return the current viewport (the clipped window) not the entire plot\n",
    "\n",
    "\n",
    "output_path: Path = Path('output').resolve()\n",
    "\n",
    "period_replacement_char: str = '➗'\n",
    "final_fig_save_basename_path: str = f\"{a_key}\"\n",
    "filename_replaced: str = str(final_fig_save_basename_path).replace('.', period_replacement_char)\n",
    "\n",
    "curr_fig_output_path: Path = output_path.joinpath(filename_replaced).with_suffix('.png').resolve()\n",
    "\n",
    "print(F'curr_fig_output_path: {file_uri_from_path(curr_fig_output_path)}')\n",
    "a_fig.savefig(curr_fig_output_path, transparent=True)"
   ]
  },
  {
   "cell_type": "code",
   "execution_count": null,
   "id": "455612a3",
   "metadata": {},
   "outputs": [],
   "source": [
    "save_array_as_image"
   ]
  },
  {
   "cell_type": "code",
   "execution_count": null,
   "id": "31446769",
   "metadata": {},
   "outputs": [],
   "source": [
    "\n",
    "\n",
    "a_widget: MatplotlibTimeSynchronizedWidget = _widgets_list[0]\n",
    "a_widget.params.verticalScrollBarPolicy = pg.QtCore.Qt.ScrollBarPolicy.ScrollBarAsNeeded\n",
    "a_widget.params.horizontalScrollBarPolicy = pg.QtCore.Qt.ScrollBarPolicy.ScrollBarAsNeeded\n",
    "a_widget.params"
   ]
  },
  {
   "cell_type": "code",
   "execution_count": null,
   "id": "c8e8adca",
   "metadata": {},
   "outputs": [],
   "source": [
    "scrollAreaWidget = a_widget.ui.scrollAreaWidget\n",
    "scrollAreaWidget.setVerticalScrollBarPolicy(pg.QtCore.Qt.ScrollBarPolicy.ScrollBarAsNeeded) #  Qt.ScrollBarAlwaysOn\n",
    "scrollAreaWidget.setHorizontalScrollBarPolicy(pg.QtCore.Qt.ScrollBarPolicy.ScrollBarAsNeeded) # Qt.ScrollBarAlwaysOff\n"
   ]
  },
  {
   "cell_type": "code",
   "execution_count": null,
   "id": "c74be304",
   "metadata": {},
   "outputs": [],
   "source": [
    "# a_widget.size() # PyQt5.QtCore.QSize(1835, 50)\n",
    "# a_fig = a_widget.getFigure() # this only seems to return the current viewport (the clipped window) not the entire plot\n",
    "# a_fig\n",
    "\n",
    "\n",
    "dynamic_docked_widget_container\n"
   ]
  },
  {
   "cell_type": "code",
   "execution_count": null,
   "id": "5d9adb33",
   "metadata": {},
   "outputs": [],
   "source": [
    "# 'output/test.png'\n",
    "a_fig.savefig('output/test.png', transparent=True)\n"
   ]
  },
  {
   "cell_type": "code",
   "execution_count": null,
   "id": "08a54dcd",
   "metadata": {},
   "outputs": [],
   "source": [
    "# a_dockitem.resize\n",
    "a_dockitem.setMaximumHeight(50)\n",
    "a_dockitem.update()"
   ]
  },
  {
   "cell_type": "code",
   "execution_count": null,
   "id": "16fd5ca7",
   "metadata": {},
   "outputs": [],
   "source": [
    "a_widget.height() # 132\n",
    "a_widget.width() # 1835\n",
    "a_widget.setMaximumHeight(100)"
   ]
  },
  {
   "cell_type": "code",
   "execution_count": null,
   "id": "f576f210",
   "metadata": {},
   "outputs": [],
   "source": [
    "a_widget.setMaximumHeight(50)"
   ]
  },
  {
   "cell_type": "code",
   "execution_count": null,
   "id": "65e277ce",
   "metadata": {},
   "outputs": [],
   "source": [
    "active_2d_plot.dock"
   ]
  },
  {
   "cell_type": "code",
   "execution_count": null,
   "id": "08fe1c5f",
   "metadata": {},
   "outputs": [],
   "source": [
    "dynamic_docked_widget_container"
   ]
  },
  {
   "cell_type": "code",
   "execution_count": null,
   "id": "a3c300e1",
   "metadata": {},
   "outputs": [],
   "source": [
    "from pyphoplacecellanalysis.General.Pipeline.Stages.DisplayFunctions.DecoderPredictionError import plot_1D_most_likely_position_comparsions\n",
    "\n",
    "\n",
    "## ✅ Add a new row for each of the four 1D directional decoders:\n",
    "widget, matplotlib_fig, matplotlib_fig_axes = active_2d_plot.add_new_matplotlib_render_plot_widget(row=2, col=0, name='PhoManualTest')\n",
    "an_ax = matplotlib_fig_axes[0]\n",
    "\n",
    "# all_directional_decoder_names = ['long_LR', 'long_RL', 'short_LR', 'short_RL']\n",
    "# all_directional_pf1D_Decoder_dict: Dict[str, BasePositionDecoder] = dict(zip(all_directional_decoder_names, [deepcopy(long_LR_pf1D_Decoder), deepcopy(long_RL_pf1D_Decoder), deepcopy(short_LR_pf1D_Decoder), deepcopy(short_RL_pf1D_Decoder)]))\n",
    "\n",
    "a_decoder_name: str = \"long_LR\"\n",
    "\n",
    "\n",
    "_active_config_name = None\n",
    "variable_name: str = a_decoder_name\n",
    "active_decoder = deepcopy(all_directional_pf1D_Decoder_dict[a_decoder_name]) # computation_result.computed_data['pf2D_Decoder']\n",
    "# active_result = deepcopy(_out_continuously_decoded_dict[a_decoder_name]) # already decoded\n",
    "active_marginals = active_decoder.marginal.x\n",
    "active_bins = active_decoder.xbin\n",
    "\n",
    "# active_most_likely_positions = active_marginals.most_likely_positions_1D # Raw decoded positions\n",
    "active_most_likely_positions = None\n",
    "\n",
    "active_posterior = active_marginals.p_x_given_n\n",
    "\n",
    "# most_likely_positions_mode: 'standard'|'corrected'\n",
    "# fig, curr_ax = curr_active_pipeline.display('_display_plot_marginal_1D_most_likely_position_comparisons', _active_config_name, variable_name='x', most_likely_positions_mode='corrected', ax=an_ax) # ax=active_2d_plot.ui.matplotlib_view_widget.ax\n",
    " ## Actual plotting portion:\n",
    "fig, curr_ax = plot_1D_most_likely_position_comparsions(None, time_window_centers=active_decoder.time_window_centers, xbin=active_bins,\n",
    "                                                        posterior=active_posterior,\n",
    "                                                        active_most_likely_positions_1D=active_most_likely_positions,\n",
    "\t\t\t\t\t\t\t\t\t\t\t\t\t\tax=an_ax, variable_name=variable_name, debug_print=True, enable_flat_line_drawing=False)\n",
    "\n",
    "                                                        # **overriding_dict_with(lhs_dict={'ax':None, 'variable_name':variable_name, 'enable_flat_line_drawing':False, 'debug_print': False}, **kwargs))\n",
    "\n",
    "# out_plot_tuple = plot_decoded_epoch_slices(active_filter_epochs, filter_epochs_decoder_result, global_pos_df=computation_result.sess.position.to_dataframe(), xbin=active_decoder.xbin, included_epoch_indicies=included_epoch_indicies,\n",
    "# \t\t\t\t\t\t\t\t\t\t\t\t\t\t**overriding_dict_with(lhs_dict={'name':default_figure_name, 'debug_test_max_num_slices':256, 'enable_flat_line_drawing':False, 'debug_print': False}, **kwargs))\n",
    "# params, plots_data, plots, ui = out_plot_tuple\n",
    "\n",
    "\n",
    "# `self._curr_active_pipeline` -> `self._active_pipeline``\n",
    "# print(f'\\t AddNewDecodedPosition_MatplotlibPlotCommand.execute(...) finished with the display call...')\n",
    "# active_2d_plot.ui.matplotlib_view_widget.draw()\n",
    "widget.draw() # alternative to accessing through full path?\n",
    "active_2d_plot.sync_matplotlib_render_plot_widget('PhoManualTest') # Sync it with the active window:"
   ]
  },
  {
   "cell_type": "code",
   "execution_count": null,
   "id": "6044e084",
   "metadata": {},
   "outputs": [],
   "source": [
    "active_result: DecodedFilterEpochsResult = deepcopy(pseudo2D_decoder_continuously_decoded_result) # already decoded\n",
    "active_result"
   ]
  },
  {
   "cell_type": "code",
   "execution_count": null,
   "id": "1074c09e",
   "metadata": {},
   "outputs": [],
   "source": [
    "assert len(active_result.p_x_given_n_list) == 1, f\"expected len(active_result.p_x_given_n_list)==1 but len(active_result.p_x_given_n_list): {len(active_result.p_x_given_n_list)}\"\n",
    "p_x_given_n = active_result.p_x_given_n_list[0]\n",
    "marginal_x = active_result.marginal_x_list[0]\n",
    "time_bin_container =  active_result.time_bin_containers[0]"
   ]
  },
  {
   "cell_type": "code",
   "execution_count": null,
   "id": "87316d5a",
   "metadata": {},
   "outputs": [],
   "source": [
    "time_window_centers = time_bin_container.centers"
   ]
  },
  {
   "cell_type": "code",
   "execution_count": null,
   "id": "da49c5ce",
   "metadata": {},
   "outputs": [],
   "source": [
    "time_window_centers"
   ]
  },
  {
   "cell_type": "code",
   "execution_count": null,
   "id": "e47f0ee4",
   "metadata": {},
   "outputs": [],
   "source": [
    "marginal_x\n",
    "\n"
   ]
  },
  {
   "cell_type": "code",
   "execution_count": null,
   "id": "c92c9028",
   "metadata": {},
   "outputs": [],
   "source": [
    "## ✅ Add a row for the pseudo2D decoder `pseudo2D_decoder`:\n",
    "widget, matplotlib_fig, matplotlib_fig_axes = active_2d_plot.add_new_matplotlib_render_plot_widget(row=2, col=0, name='pseudo2D_decoder')\n",
    "an_ax = matplotlib_fig_axes[0]\n",
    "\n",
    "# pseudo2D_decoder_continuously_decoded_result = pseudo2D_decoder.decode_specific_epochs(spikes_df=spikes_df, filter_epochs=single_global_epoch, decoding_time_bin_size=time_bin_size, debug_print=False)\n",
    "_active_config_name = None\n",
    "variable_name: str = 'pseudo2D_decoder'\n",
    "active_decoder = deepcopy(pseudo2D_decoder) # computation_result.computed_data['pf2D_Decoder']\n",
    "active_result = deepcopy(pseudo2D_decoder_continuously_decoded_result) # already decoded\n",
    "\n",
    "# active_marginals = active_decoder.marginal.x\n",
    "active_marginals = deepcopy(marginal_x)\n",
    "active_bins = active_decoder.xbin\n",
    "\n",
    "# active_most_likely_positions = active_marginals.most_likely_positions_1D # Raw decoded positions\n",
    "active_most_likely_positions = None\n",
    "active_posterior = active_marginals.p_x_given_n\n",
    "\n",
    "# most_likely_positions_mode: 'standard'|'corrected'\n",
    "# fig, curr_ax = curr_active_pipeline.display('_display_plot_marginal_1D_most_likely_position_comparisons', _active_config_name, variable_name='x', most_likely_positions_mode='corrected', ax=an_ax) # ax=active_2d_plot.ui.matplotlib_view_widget.ax\n",
    " ## Actual plotting portion:\n",
    "fig, curr_ax = plot_1D_most_likely_position_comparsions(None, time_window_centers=time_window_centers, xbin=active_bins,\n",
    "                                                        posterior=active_posterior,\n",
    "                                                        active_most_likely_positions_1D=active_most_likely_positions,\n",
    "\t\t\t\t\t\t\t\t\t\t\t\t\t\tax=an_ax, variable_name=variable_name, debug_print=True, enable_flat_line_drawing=False)\n",
    "\n",
    "\n",
    "widget.draw() # alternative to accessing through full path?\n",
    "active_2d_plot.sync_matplotlib_render_plot_widget('pseudo2D_decoder') # Sync it with the active window:"
   ]
  },
  {
   "cell_type": "code",
   "execution_count": null,
   "id": "dd0402ef",
   "metadata": {},
   "outputs": [],
   "source": [
    "dynamic_docked_widget_container.add_display_dock"
   ]
  },
  {
   "cell_type": "code",
   "execution_count": null,
   "id": "b7ce91d5",
   "metadata": {},
   "outputs": [],
   "source": [
    "## Build Dock Widgets:\n",
    "# decoder_names_list = ('long_LR', 'long_RL', 'short_LR', 'short_RL')\n",
    "_out_dock_widgets = {}\n",
    "dock_configs = dict(zip(('long_LR', 'long_RL', 'short_LR', 'short_RL'), (CustomDockDisplayConfig(custom_get_colors_callback_fn=DisplayColorsEnum.Laps.get_LR_dock_colors, showCloseButton=False), CustomDockDisplayConfig(custom_get_colors_callback_fn=DisplayColorsEnum.Laps.get_RL_dock_colors, showCloseButton=False),\n",
    "\t\t\t\tCustomDockDisplayConfig(custom_get_colors_callback_fn=DisplayColorsEnum.Laps.get_LR_dock_colors, showCloseButton=False), CustomDockDisplayConfig(custom_get_colors_callback_fn=DisplayColorsEnum.Laps.get_RL_dock_colors, showCloseButton=False))))\n",
    "# dock_add_locations = (['left'], ['left'], ['right'], ['right'])\n",
    "dock_add_locations = dict(zip(('long_LR', 'long_RL', 'short_LR', 'short_RL'), (['right'], ['right'], ['right'], ['right'])))\n",
    "\n",
    "for i, (a_decoder_name, a_heatmap) in enumerate(_out_pf1D_heatmaps.items()):\n",
    "\t_out_dock_widgets[a_decoder_name] = root_dockAreaWindow.add_display_dock(identifier=a_decoder_name, widget=a_heatmap[0], dockSize=(300,200), dockAddLocationOpts=dock_add_locations[a_decoder_name], display_config=dock_configs[a_decoder_name])\n"
   ]
  },
  {
   "cell_type": "code",
   "execution_count": null,
   "id": "87cd89d6",
   "metadata": {},
   "outputs": [],
   "source": [
    "from pyphoplacecellanalysis.General.Pipeline.Stages.DisplayFunctions.SpikeRasters import _build_additional_window_menus\n",
    "\n",
    "## Finally, add the display function to the active context\n",
    "active_identifying_context = global_epoch_context\n",
    "active_display_fn_identifying_ctx = active_identifying_context.adding_context('display_fn', display_fn_name='display_spike_rasters_window')\n",
    "active_display_fn_identifying_ctx_string = active_display_fn_identifying_ctx.get_description(separator='|') # Get final discription string:\n",
    "\n",
    "computation_result = deepcopy(curr_active_pipeline.computation_results[global_epoch_name])\n",
    "\n",
    "## Build the additional menus:\n",
    "output_references = _build_additional_window_menus(spike_raster_window, curr_active_pipeline, computation_result, active_display_fn_identifying_ctx)\n",
    "output_references"
   ]
  },
  {
   "cell_type": "code",
   "execution_count": null,
   "id": "dc9bb66b",
   "metadata": {},
   "outputs": [],
   "source": [
    "output_references"
   ]
  },
  {
   "cell_type": "code",
   "execution_count": null,
   "id": "829ad15c",
   "metadata": {},
   "outputs": [],
   "source": [
    "active_2d_plot.ui.menus #.global_window_menus.docked_widgets"
   ]
  },
  {
   "cell_type": "code",
   "execution_count": null,
   "id": "87f1a335",
   "metadata": {},
   "outputs": [],
   "source": [
    "dockedWidgets_menuProvider = spike_raster_window.main_menu_window.ui.menus.global_window_menus.docked_widgets.menu_provider_obj\n",
    "actions_dict = dockedWidgets_menuProvider.activeMenuReference.actions_dict #['actionMenuDockedWidgets']\n",
    "actions_dict\n",
    "# DockedWidgets_MenuProvider_actionsDict"
   ]
  },
  {
   "cell_type": "code",
   "execution_count": null,
   "id": "5aa3dd2a",
   "metadata": {},
   "outputs": [],
   "source": [
    "\n",
    "actions_dict['actionNewDockedMatplotlibView'].activate(pg.QtGui.QAction.Trigger)\n"
   ]
  },
  {
   "cell_type": "code",
   "execution_count": null,
   "id": "c05dbb46",
   "metadata": {},
   "outputs": [],
   "source": [
    "# actions_dict['actionAddDockedWidget'].activate(pg.QtGui.QAction.Trigger)\n",
    "actions_dict['actionNewDockedContextNested'].activate(pg.QtGui.QAction.Trigger)"
   ]
  },
  {
   "cell_type": "code",
   "execution_count": null,
   "id": "99aa129f",
   "metadata": {},
   "outputs": [],
   "source": []
  },
  {
   "cell_type": "code",
   "execution_count": null,
   "id": "7da8ba57",
   "metadata": {},
   "outputs": [],
   "source": []
  },
  {
   "cell_type": "code",
   "execution_count": null,
   "id": "bd6abb70",
   "metadata": {},
   "outputs": [],
   "source": [
    "# spike_raster_window # Spike3DRasterWindowWidget\n",
    "spike_raster_window.ui #.menus.global_window_menus.docked_widgets # <pyphoplacecellanalysis.GUI.Qt.SpikeRasterWindows.Uic_AUTOGEN_Spike3DRasterWindowBase.Ui_RootWidget at 0x199fc0c0490>\n"
   ]
  },
  {
   "cell_type": "code",
   "execution_count": null,
   "id": "69746542",
   "metadata": {},
   "outputs": [],
   "source": [
    "active_3d_plot"
   ]
  },
  {
   "cell_type": "code",
   "execution_count": null,
   "id": "c55c976a",
   "metadata": {},
   "outputs": [],
   "source": [
    "active_2d_plot, active_3d_plot, spike_raster_window"
   ]
  },
  {
   "cell_type": "code",
   "execution_count": null,
   "id": "39840338",
   "metadata": {},
   "outputs": [],
   "source": [
    "active_2d_plot, active_3d_plot, spike_raster_window = curr_active_pipeline.plot._display_spike_rasters_pyqtplot_2D()\n"
   ]
  },
  {
   "cell_type": "code",
   "execution_count": null,
   "id": "e75eb376",
   "metadata": {},
   "outputs": [],
   "source": [
    "spike_raster_window"
   ]
  },
  {
   "cell_type": "code",
   "execution_count": null,
   "id": "10b7afeb",
   "metadata": {},
   "outputs": [],
   "source": [
    "spikes_window = spike_raster_window.spikes_window # SpikesDataframeWindow\n",
    "\n",
    "bottomPlaybackControlBarWidget = spike_raster_window.ui.bottomPlaybackControlBarWidget # Spike3DRasterBottomPlaybackControlBar \n",
    "\n",
    "doubleSpinBox_ActiveWindowStartTime = bottomPlaybackControlBarWidget.ui.doubleSpinBox_ActiveWindowStartTime\n",
    "doubleSpinBox_ActiveWindowEndTime = bottomPlaybackControlBarWidget.ui.doubleSpinBox_ActiveWindowEndTime\n",
    "\n",
    "\n",
    "# spikes_window.timeWindow.start\n",
    "# spikes_window.active_window_start_time\n",
    "# spikes_window.update_window_start_end(451.8908457518555, 451.9895490613999) ## Works but does not trigger refresh/update of the window. The changes are reflected as soon as you try to scroll at all though.\n",
    "# spikes_window.active_window_end_time\n",
    "\n",
    "print(f'spikes_window.active_window_start_time: {spikes_window.active_window_start_time}, spikes_window.active_window_end_time: {spikes_window.active_window_end_time}')\n",
    "# need to block signals:\n",
    "# doubleSpinBox_ActiveWindowStartTime.blockSignals(True)\n",
    "# doubleSpinBox_ActiveWindowEndTime.blockSignals(True)\n",
    "doubleSpinBox_ActiveWindowStartTime.setValue(spikes_window.active_window_start_time)\n",
    "doubleSpinBox_ActiveWindowEndTime.setValue(spikes_window.active_window_end_time)\n",
    "# doubleSpinBox_ActiveWindowStartTime.blockSignals(False) # unblock the signals when done\n",
    "# doubleSpinBox_ActiveWindowEndTime.blockSignals(False)\n",
    "\n",
    "\n",
    "# @pyqtExceptionPrintingSlot(float, float)\n",
    "def on_active_window_changed(start_t, end_t, _obj):\n",
    "\t# need to block signals:\n",
    "\t# doubleSpinBox_ActiveWindowStartTime.blockSignals(True)\n",
    "\t# doubleSpinBox_ActiveWindowEndTime.blockSignals(True)\n",
    "\tif start_t is not None:\n",
    "\t\tdoubleSpinBox_ActiveWindowStartTime.setValue(start_t)\n",
    "\tif end_t is not None:\n",
    "\t\tdoubleSpinBox_ActiveWindowEndTime.setValue(end_t)\n",
    "\t# doubleSpinBox_ActiveWindowStartTime.blockSignals(False) # unblock the signals when done\n",
    "\t# doubleSpinBox_ActiveWindowEndTime.blockSignals(False)\n",
    "\n",
    "curr_window_ctrls_connection = spikes_window.windowed_data_window_updated_signal.connect(on_active_window_changed)\n"
   ]
  },
  {
   "cell_type": "code",
   "execution_count": null,
   "id": "113a3acd",
   "metadata": {},
   "outputs": [],
   "source": [
    "doubleSpinBox_ActiveWindowStartTime.setReadOnly(True)\n",
    "doubleSpinBox_ActiveWindowEndTime.setReadOnly(True)\n",
    "\n",
    "spikes_window.on_window_changed.connect("
   ]
  },
  {
   "cell_type": "code",
   "execution_count": null,
   "id": "8319e362",
   "metadata": {},
   "outputs": [],
   "source": [
    "doubleSpinBox_ActiveWindowStartTime.setVisible(False)\n",
    "bottomPlaybackControlBarWidget.setVisible(False)"
   ]
  },
  {
   "cell_type": "code",
   "execution_count": null,
   "id": "01d043d6",
   "metadata": {},
   "outputs": [],
   "source": [
    "# global_epoch_context\n",
    "curr_active_pipeline.reload_default_display_functions()\n",
    "# curr_active_pipeline.prepare_for_display()\n",
    "curr_active_pipeline.clear_display_outputs()\n"
   ]
  },
  {
   "cell_type": "code",
   "execution_count": null,
   "id": "bb657697",
   "metadata": {},
   "outputs": [],
   "source": [
    "from pyphoplacecellanalysis.PhoPositionalData.plotting.laps import plot_lap_trajectories_2d\n",
    "# Complete Version:\n",
    "# fig, axs, laps_pages = plot_lap_trajectories_2d(curr_active_pipeline.sess, curr_num_subplots=len(curr_active_pipeline.sess.laps.lap_id), active_page_index=0)\n",
    "# Paginated Version:\n",
    "fig, axs, laps_pages = plot_lap_trajectories_2d(curr_active_pipeline.sess, curr_num_subplots=22, active_page_index=0)\n"
   ]
  },
  {
   "cell_type": "code",
   "execution_count": null,
   "id": "a2ed66e1",
   "metadata": {},
   "outputs": [],
   "source": [
    "fig, axs, laps_pages = plot_lap_trajectories_2d(curr_active_pipeline.sess, curr_num_subplots=22, active_page_index=1)"
   ]
  },
  {
   "cell_type": "code",
   "execution_count": null,
   "id": "2441e547",
   "metadata": {},
   "outputs": [],
   "source": [
    "# Gets the existing SpikeRasterWindow or creates a new one if one doesn't already exist:\n",
    "from pyphocorehelpers.gui.Qt.TopLevelWindowHelper import TopLevelWindowHelper\n",
    "import pyphoplacecellanalysis.External.pyqtgraph as pg # Used to get the app for TopLevelWindowHelper.top_level_windows\n",
    "## For searching with `TopLevelWindowHelper.all_widgets(...)`:\n",
    "from pyphoplacecellanalysis.GUI.PyQtPlot.Widgets.SpikeRasterWidgets.Spike2DRaster import Spike2DRaster\n",
    "from pyphoplacecellanalysis.GUI.PyQtPlot.Widgets.SpikeRasterWidgets.Spike3DRaster import Spike3DRaster\n",
    "from pyphoplacecellanalysis.GUI.Qt.SpikeRasterWindows.Spike3DRasterWindowWidget import Spike3DRasterWindowWidget\n",
    "\n",
    "found_spike_raster_windows = TopLevelWindowHelper.all_widgets(pg.mkQApp(), searchType=Spike3DRasterWindowWidget)\n",
    "\n",
    "if len(found_spike_raster_windows) < 1:\n",
    "\t# no existing spike_raster_windows. Make a new one\n",
    "\tprint(f'no existing SpikeRasterWindow. Creating a new one.')\n",
    "\t# Create a new `SpikeRaster2D` instance using `_display_spike_raster_pyqtplot_2D` and capture its outputs:\n",
    "\t# active_2d_plot, active_3d_plot, spike_raster_window = curr_active_pipeline.plot._display_spike_rasters_pyqtplot_2D()\n",
    "\n",
    "\tactive_2d_plot, active_3d_plot, spike_raster_window = curr_active_pipeline.plot._display_spike_rasters_pyqtplot_2D()\n",
    "\n",
    "else:\n",
    "\tprint(f'found {len(found_spike_raster_windows)} existing Spike3DRasterWindowWidget windows using TopLevelWindowHelper.all_widgets(...). Will use the most recent.')\n",
    "\t# assert len(found_spike_raster_windows) == 1, f\"found {len(found_spike_raster_windows)} Spike3DRasterWindowWidget windows using TopLevelWindowHelper.all_widgets(...) but require exactly one.\"\n",
    "\t# Get the most recent existing one and reuse that:\n",
    "\tspike_raster_window = found_spike_raster_windows[0]\n",
    "\n",
    "\n",
    "# Extras:\n",
    "active_2d_plot = spike_raster_window.spike_raster_plt_2d # <pyphoplacecellanalysis.GUI.PyQtPlot.Widgets.SpikeRasterWidgets.Spike2DRaster.Spike2DRaster at 0x196c7244280>\n",
    "active_3d_plot = spike_raster_window.spike_raster_plt_3d # <pyphoplacecellanalysis.GUI.PyQtPlot.Widgets.SpikeRasterWidgets.Spike2DRaster.Spike2DRaster at 0x196c7244280>\n",
    "main_graphics_layout_widget = active_2d_plot.ui.main_graphics_layout_widget # GraphicsLayoutWidget\n",
    "main_plot_widget = active_2d_plot.plots.main_plot_widget # PlotItem\n",
    "background_static_scroll_plot_widget = active_2d_plot.plots.background_static_scroll_window_plot # PlotItem"
   ]
  },
  {
   "cell_type": "code",
   "execution_count": null,
   "id": "7c6338da",
   "metadata": {},
   "outputs": [],
   "source": [
    "spike_raster_window.isVisible() # False\n",
    "# spike_raster_window.show()\n",
    "spike_raster_window.close()"
   ]
  },
  {
   "cell_type": "code",
   "execution_count": null,
   "id": "0bafe4df",
   "metadata": {},
   "outputs": [],
   "source": [
    "spike_raster_window.connection_man.active_connections"
   ]
  },
  {
   "cell_type": "code",
   "execution_count": null,
   "id": "0a801d59",
   "metadata": {},
   "outputs": [],
   "source": [
    "found_any_window = TopLevelWindowHelper.top_level_windows(pg.mkQApp())\n",
    "found_any_window"
   ]
  },
  {
   "cell_type": "code",
   "execution_count": null,
   "id": "17d815bb",
   "metadata": {},
   "outputs": [],
   "source": [
    "# print windows:\n",
    "[print_widget_hierarchy(v) for k, v in found_any_window.items()]"
   ]
  },
  {
   "cell_type": "code",
   "execution_count": null,
   "id": "5c00e166",
   "metadata": {},
   "outputs": [],
   "source": [
    "_display_out = curr_active_pipeline.last_added_display_output\n"
   ]
  },
  {
   "cell_type": "code",
   "execution_count": null,
   "id": "b06ea13e",
   "metadata": {},
   "outputs": [],
   "source": [
    "ipspikesDataExplorer = _display_out['ipspikesDataExplorer']\n",
    "pActiveSpikesBehaviorPlotter = _display_out['plotter']\n"
   ]
  },
  {
   "cell_type": "code",
   "execution_count": null,
   "id": "2c92cd2f",
   "metadata": {},
   "outputs": [],
   "source": [
    " = curr_active_pipeline.last_added_display_output\n",
    "_display_out\n"
   ]
  },
  {
   "cell_type": "code",
   "execution_count": null,
   "id": "e02ac639",
   "metadata": {},
   "outputs": [],
   "source": [
    "ipspikesDataExplorer = self._display_output['ipspikesDataExplorer']"
   ]
  },
  {
   "cell_type": "code",
   "execution_count": null,
   "id": "bd461fb3",
   "metadata": {},
   "outputs": [],
   "source": [
    "### Adjusting Spike Emphasis:\n",
    "#### Usage Examples:\n",
    "from pyphoplacecellanalysis.General.Mixins.SpikesRenderingBaseMixin import SpikeEmphasisState\n",
    "from neuropy.core.neuron_identities import NeuronType\n"
   ]
  },
  {
   "cell_type": "code",
   "execution_count": null,
   "id": "b1dd5449",
   "metadata": {},
   "outputs": [],
   "source": [
    "\n",
    "## Example 1: De-emphasize spikes excluded from the placefield calculations:\n",
    "is_spike_included_in_pf = np.isin(spike_raster_window.spike_raster_plt_2d.spikes_df.index, active_pf_2D.filtered_spikes_df.index)\n",
    "spike_raster_window.spike_raster_plt_2d.update_spike_emphasis(np.logical_not(is_spike_included_in_pf), SpikeEmphasisState.Deemphasized)\n",
    "\n",
    "## Example 2: De-emphasize spikes that don't have their 'aclu' from a given set of indicies:\n",
    "is_spike_included = spike_raster_window.spike_raster_plt_2d.spikes_df.aclu.to_numpy() == 2\n",
    "spike_raster_window.spike_raster_plt_2d.update_spike_emphasis(np.logical_not(is_spike_included), SpikeEmphasisState.Deemphasized)\n",
    "\n",
    "## Example 3: De-emphasize all spikes \n",
    "active_2d_plot.update_spike_emphasis(new_emphasis_state=SpikeEmphasisState.Deemphasized)\n",
    "\n",
    "## Example 4: Hide all spikes entirely\n",
    "active_2d_plot.update_spike_emphasis(new_emphasis_state=SpikeEmphasisState.Hidden)\n"
   ]
  },
  {
   "cell_type": "code",
   "execution_count": null,
   "id": "98b9a61d",
   "metadata": {},
   "outputs": [],
   "source": [
    "## Setup: Hide all non-pyramidal spikes entirely\n",
    "spikes_df = spike_raster_window.spikes_df\n",
    "spike_raster_window.spike_raster_plt_2d.update_spike_emphasis(np.logical_not((spikes_df.neuron_type == NeuronType.from_string('pyr'))), SpikeEmphasisState.Hidden)"
   ]
  },
  {
   "cell_type": "code",
   "execution_count": null,
   "id": "f3feb699",
   "metadata": {},
   "outputs": [],
   "source": [
    "spikes_window = spike_raster_window.spikes_window # SpikesDataframeWindow\n",
    "# spikes_window.update_window_start_end(451.8908457518555, 451.9895490613999) ## Works but does not trigger refresh/update of the window. The changes are reflected as soon as you try to scroll at all though.\n"
   ]
  },
  {
   "cell_type": "code",
   "execution_count": null,
   "id": "1ae85b4a",
   "metadata": {},
   "outputs": [],
   "source": [
    "# 20*60.0 + 50.0 +  0.218 = 1250.218\n",
    "\n",
    "spikes_window.update_window_start_end(1250.218, (1250.218 + 3.0))\n",
    "\n"
   ]
  },
  {
   "cell_type": "code",
   "execution_count": null,
   "id": "325548b0",
   "metadata": {},
   "outputs": [],
   "source": [
    "spikes_window.window_duration # Prints the current window's duration. The win. dur. label control in the left bar is not updated.\n",
    "\n",
    "desired_window_fraction: float = 0.1 # 10% of the window is the default jump size\n",
    "relevant_jump_duration: float = spikes_window.window_duration * desired_window_fraction\n",
    "relevant_jump_duration\n"
   ]
  },
  {
   "cell_type": "code",
   "execution_count": null,
   "id": "7bc81002",
   "metadata": {},
   "outputs": [],
   "source": [
    "from pyphoplacecellanalysis.PhoPositionalData.plotting.mixins.spikes_mixins import SpikeRenderingPyVistaMixin\n",
    "from pyphoplacecellanalysis.GUI.PyVista.InteractivePlotter.InteractivePlaceCellTuningCurvesDataExplorer import InteractivePlaceCellTuningCurvesDataExplorer\n",
    "# from pyphoplacecellanalysis.GUI.PyVista.InteractivePlotter.InteractivePlaceCellTuningCurvesDataExplorer import InteractivePlaceCellTuningCurvesDataExplorer\n",
    "from pyphoplacecellanalysis.GUI.PyVista.InteractivePlotter.InteractivePlaceCellDataExplorer import InteractivePlaceCellDataExplorer\n",
    "\n",
    "found_windows_of_type = TopLevelWindowHelper.all_widgets(pg.mkQApp(), searchType=InteractivePlaceCellDataExplorer)\n",
    "found_windows_of_type\n",
    "TopLevelWindowHelper.top_level_windows(pg.mkQApp(), only_visible=True)"
   ]
  },
  {
   "cell_type": "code",
   "execution_count": null,
   "id": "e2abd93f",
   "metadata": {},
   "outputs": [],
   "source": [
    "(451.8908457518555, 451.9895490613999)"
   ]
  },
  {
   "cell_type": "code",
   "execution_count": null,
   "id": "6c418968",
   "metadata": {},
   "outputs": [],
   "source": [
    "from pyphoplacecellanalysis.SpecificResults.PhoDiba2023Paper import BatchPhoJonathanFiguresHelper\n",
    "\n",
    "fig_1c_figures_out_dict = BatchPhoJonathanFiguresHelper.run(curr_active_pipeline, neuron_replay_stats_df, included_unit_neuron_IDs=XOR_subset.track_exclusive_aclus, n_max_page_rows=20, write_vector_format=False, write_png=True, disable_top_row=True) # active_out_figures_dict: {IdentifyingContext<('kdiba', 'gor01', 'two', '2006-6-07_16-40-19', 'BatchPhoJonathanReplayFRC', 'long_only', '(12,21,48)')>: <Figure size 1920x660 with 12 Axes>, IdentifyingContext<('kdiba', 'gor01', 'two', '2006-6-07_16-40-19', 'BatchPhoJonathanReplayFRC', 'short_only', '(18,19,65)')>: <Figure size 1920x660 with 12 Axes>}"
   ]
  },
  {
   "cell_type": "markdown",
   "id": "2ea2f309",
   "metadata": {},
   "source": [
    "# PhoKamran2023Paper Results"
   ]
  },
  {
   "cell_type": "code",
   "execution_count": null,
   "id": "85a7dd8b",
   "metadata": {},
   "outputs": [],
   "source": [
    "pg.setConfigOptions(background='white', foreground='black') # black on white background (more traditional) color scheme"
   ]
  },
  {
   "cell_type": "markdown",
   "id": "162d813d",
   "metadata": {},
   "source": [
    "## Figure 1) pf1D Ratemaps, Active set, etc"
   ]
  },
  {
   "cell_type": "code",
   "execution_count": null,
   "id": "273696fc",
   "metadata": {},
   "outputs": [],
   "source": [
    "from pyphoplacecellanalysis.General.Pipeline.Stages.DisplayFunctions.SpikeRasters import plot_multiple_raster_plot, plot_raster_plot\n",
    "from pyphoplacecellanalysis.Pho2D.matplotlib.visualize_heatmap import visualize_heatmap_pyqtgraph # used in `plot_kourosh_activity_style_figure`\n",
    "from pyphoplacecellanalysis.SpecificResults.PhoDiba2023Paper import PAPER_FIGURE_figure_1_full, PAPER_FIGURE_figure_1_add_replay_epoch_rasters\n",
    "\n",
    "curr_active_pipeline.prepare_for_display()\n",
    "pf1d_compare_graphics, (example_epoch_rasters_L, example_epoch_rasters_S), example_stacked_epoch_graphics, fig_1c_figures_out_dict = PAPER_FIGURE_figure_1_full(curr_active_pipeline) # did not display the pf1"
   ]
  },
  {
   "cell_type": "code",
   "execution_count": null,
   "id": "84fa9acc",
   "metadata": {},
   "outputs": [],
   "source": [
    "# rdf = jonathan_firing_rate_analysis_result.rdf.rdf\n",
    "# rdf\n",
    "# ==================================================================================================================== #\n",
    "# Fig 1c) 2023-07-14 - LxC and SxC PhoJonathanSession plots                                                            #\n",
    "# ==================================================================================================================== #\n",
    "from pyphoplacecellanalysis.General.Batch.NonInteractiveProcessing import BatchPhoJonathanFiguresHelper\n",
    "\n",
    "## Get global 'jonathan_firing_rate_analysis' results:\n",
    "curr_jonathan_firing_rate_analysis = curr_active_pipeline.global_computation_results.computed_data['jonathan_firing_rate_analysis']\n",
    "neuron_replay_stats_df, rdf, aclu_to_idx, irdf = curr_jonathan_firing_rate_analysis.neuron_replay_stats_df, curr_jonathan_firing_rate_analysis.rdf.rdf, curr_jonathan_firing_rate_analysis.rdf.aclu_to_idx, curr_jonathan_firing_rate_analysis.irdf.irdf\n",
    "\n",
    "fig_1c_figures_out_dict = BatchPhoJonathanFiguresHelper.run(curr_active_pipeline, neuron_replay_stats_df, included_unit_neuron_IDs=XOR_subset.track_exclusive_aclus, n_max_page_rows=20, write_vector_format=False, write_png=True, disable_top_row=True) # active_out_figures_dict: {IdentifyingContext<('kdiba', 'gor01', 'two', '2006-6-07_16-40-19', 'BatchPhoJonathanReplayFRC', 'long_only', '(12,21,48)')>: <Figure size 1920x660 with 12 Axes>, IdentifyingContext<('kdiba', 'gor01', 'two', '2006-6-07_16-40-19', 'BatchPhoJonathanReplayFRC', 'short_only', '(18,19,65)')>: <Figure size 1920x660 with 12 Axes>}\n"
   ]
  },
  {
   "cell_type": "markdown",
   "id": "5cba3c7a",
   "metadata": {},
   "source": [
    "## Figure 2) `PaperFigureTwo`: LxC/SxC Analyses\n",
    "Note: this fails when SxC or LxC are empty for this session (as it's not meaningful to produce a comparison bar plot). In this case, aggregate across multiple sessions."
   ]
  },
  {
   "cell_type": "code",
   "execution_count": null,
   "id": "97d3e1ff",
   "metadata": {},
   "outputs": [],
   "source": [
    "from pyphoplacecellanalysis.SpecificResults.PhoDiba2023Paper import PaperFigureTwo\n",
    "\n",
    "_out_fig_2 = PaperFigureTwo(instantaneous_time_bin_size_seconds=0.01) # 10ms\n",
    "_out_fig_2.compute(curr_active_pipeline=curr_active_pipeline)\n",
    "_out_fig_2.display()"
   ]
  },
  {
   "cell_type": "markdown",
   "id": "14a52142",
   "metadata": {},
   "source": [
    "## Figure 3) `PAPER_FIGURE_figure_3`: Firing Rate Index and Long/Short Firing Rate Replays v. Laps"
   ]
  },
  {
   "cell_type": "code",
   "execution_count": null,
   "id": "5f765ed6",
   "metadata": {},
   "outputs": [],
   "source": [
    "from neuropy.utils.matplotlib_helpers import FormattedFigureText\n",
    "from pyphoplacecellanalysis.General.Pipeline.Stages.DisplayFunctions.MultiContextComparingDisplayFunctions.LongShortTrackComparingDisplayFunctions import _plot_long_short_firing_rate_indicies\n",
    "# curr_active_pipeline.reload_default_display_functions()\n",
    "\n",
    "_out, _out2 = PAPER_FIGURE_figure_3(curr_active_pipeline, defer_render=False, save_figure=True)"
   ]
  },
  {
   "cell_type": "markdown",
   "id": "a909c676",
   "metadata": {},
   "source": [
    "##  All Programmatic Plots"
   ]
  },
  {
   "cell_type": "code",
   "execution_count": null,
   "id": "d6bcb738",
   "metadata": {},
   "outputs": [],
   "source": [
    "from pyphoplacecellanalysis.General.Batch.NonInteractiveProcessing import batch_perform_all_plots\n",
    "\n",
    "batch_perform_all_plots(curr_active_pipeline, enable_neptune=False, neptuner=None)"
   ]
  },
  {
   "cell_type": "markdown",
   "id": "54aa4837",
   "metadata": {},
   "source": [
    "# ❇️🆕 READY/NEXT: 2023-11-10 - All directional pf1D works for merging all four 1D templates!!"
   ]
  },
  {
   "cell_type": "code",
   "execution_count": 14,
   "id": "76086ac5",
   "metadata": {
    "notebookRunGroups": {
     "groupValue": "31"
    }
   },
   "outputs": [],
   "source": [
    "from neuropy.analyses.placefields import PfND\n",
    "from pyphoplacecellanalysis.Analysis.Decoder.reconstruction import BasePositionDecoder\n",
    "from neuropy.utils.mixins.time_slicing import TimeColumnAliasesProtocol\n",
    "from pyphoplacecellanalysis.Analysis.Decoder.reconstruction import DecodedFilterEpochsResult\n",
    "from pyphoplacecellanalysis.General.Pipeline.Stages.ComputationFunctions.MultiContextComputationFunctions.DirectionalPlacefieldGlobalComputationFunctions import DirectionalMergedDecodersResult\n"
   ]
  },
  {
   "cell_type": "code",
   "execution_count": null,
   "id": "84a6af1f",
   "metadata": {},
   "outputs": [],
   "source": [
    "\n",
    "\"\"\" \n",
    "1. Builds a combined pseudo-2D decoder out of the four 1D directional decoders.\n",
    "\ty-bins (centers) of the pseduo-decoder are: {'long_LR': 0, 'long_RL': 1, 'short_LR': 2, 'short_RL': 3}\n",
    "\n",
    "2. \n",
    "\"\"\"\n",
    "\n",
    "# Use the four epochs to make to a pseudo-y:\n",
    "all_directional_decoder_names = ['long_LR', 'long_RL', 'short_LR', 'short_RL']\n",
    "all_directional_decoder_dict = dict(zip(all_directional_decoder_names, [deepcopy(long_LR_pf1D), deepcopy(long_RL_pf1D), deepcopy(short_LR_pf1D), deepcopy(short_RL_pf1D)]))\n",
    "all_directional_pf1D = PfND.build_merged_directional_placefields(all_directional_decoder_dict, debug_print=False)\n",
    "all_directional_pf1D_Decoder = BasePositionDecoder(all_directional_pf1D, setup_on_init=True, post_load_on_init=True, debug_print=False)"
   ]
  },
  {
   "cell_type": "code",
   "execution_count": null,
   "id": "0ac7fcab",
   "metadata": {
    "notebookRunGroups": {
     "groupValue": "3"
    }
   },
   "outputs": [],
   "source": [
    "active_context = curr_active_pipeline.get_session_context()\n",
    "\n",
    "collected_output_path = Path('output/collected_outputs').resolve()\n",
    "collected_output_path.mkdir(exist_ok=True)\n",
    "\n",
    "(laps_marginals_df, laps_out_path, laps_time_bin_marginals_df, laps_time_bin_marginals_out_path), (ripple_marginals_df, ripple_out_path, ripple_time_bin_marginals_df, ripple_time_bin_marginals_out_path) = directional_merged_decoders_result.compute_and_export_marginals_df_csvs(parent_output_path=collected_output_path, active_context=active_context)\n",
    "file_uri_from_path(laps_out_path)"
   ]
  },
  {
   "cell_type": "code",
   "execution_count": null,
   "id": "7f780ebc",
   "metadata": {},
   "outputs": [],
   "source": [
    "from pyphoplacecellanalysis.General.Pipeline.Stages.ComputationFunctions.MultiContextComputationFunctions.DirectionalPlacefieldGlobalComputationFunctions import plot_all_epoch_bins_marginal_predictions\n",
    "\n",
    "_restore_previous_matplotlib_settings_callback = matplotlib_configuration_update(is_interactive=True, backend='Qt5Agg')\n",
    "global_epoch = curr_active_pipeline.filtered_epochs[global_epoch_name]\n",
    "t_start, t_end = global_epoch.start_end_times\n",
    "short_epoch = curr_active_pipeline.filtered_epochs[short_epoch_name]\n",
    "split_time_t: float = short_epoch.t_start\n",
    "active_context = curr_active_pipeline.sess.get_context()\n",
    "\n",
    "## Get the result after computation:\n",
    "directional_merged_decoders_result = curr_active_pipeline.global_computation_results.computed_data['DirectionalMergedDecoders']\n",
    "\n",
    "collector = plot_all_epoch_bins_marginal_predictions(directional_merged_decoders_result, t_start=t_start, t_split=split_time_t, t_end=t_end, active_context=active_context, perform_write_to_file_callback=None)\n"
   ]
  },
  {
   "cell_type": "code",
   "execution_count": null,
   "id": "223159f0",
   "metadata": {},
   "outputs": [],
   "source": [
    "_display_directional_track_template_pf1Ds\n",
    "\n",
    "_display_directional_merged_pfs"
   ]
  },
  {
   "cell_type": "code",
   "execution_count": null,
   "id": "cabd07bb",
   "metadata": {},
   "outputs": [],
   "source": [
    "## Document `DirectionalDecodersDecodedResult`\n",
    "directional_decoders_decode_result: DirectionalDecodersDecodedResult = curr_active_pipeline.global_computation_results.computed_data['DirectionalDecodersDecoded']\n",
    "doc_printer = DocumentationFilePrinter(doc_output_parent_folder=doc_output_parent_folder, doc_name='DirectionalDecodersDecodedResult')\n",
    "doc_printer.save_documentation('DirectionalDecodersDecodedResult', directional_decoders_decode_result, non_expanded_item_keys=['_reverse_cellID_index_map'])"
   ]
  },
  {
   "cell_type": "code",
   "execution_count": null,
   "id": "325fb1f2",
   "metadata": {},
   "outputs": [],
   "source": [
    "from pyphoplacecellanalysis.General.Pipeline.Stages.ComputationFunctions.MultiContextComputationFunctions.DirectionalPlacefieldGlobalComputationFunctions import DirectionalMergedDecodersResult\n",
    "\n",
    "# Fully unpack the `'DirectionalMergedDecoders'` result:\n",
    "directional_merged_decoders_result = curr_active_pipeline.global_computation_results.computed_data['DirectionalMergedDecoders']\n",
    "# directional_merged_decoders_result.all_directional_laps_filter_epochs_decoder_result\n",
    "# directional_merged_decoders_result.all_directional_pf1D_Decoder\n",
    "# directional_merged_decoders_result.all_directional_ripple_filter_epochs_decoder_result\n",
    "\n",
    "\n",
    "laps_epochs_df = deepcopy(directional_merged_decoders_result.all_directional_laps_filter_epochs_decoder_result.filter_epochs).to_dataframe()\n",
    "laps_directional_marginals_tuple = DirectionalMergedDecodersResult.determine_directional_likelihoods(directional_merged_decoders_result.all_directional_laps_filter_epochs_decoder_result)\n",
    "laps_directional_marginals, laps_directional_all_epoch_bins_marginal, laps_most_likely_direction_from_decoder, laps_is_most_likely_direction_LR_dir  = laps_directional_marginals_tuple\n",
    "laps_track_identity_marginals = DirectionalMergedDecodersResult.determine_long_short_likelihoods(directional_merged_decoders_result.all_directional_laps_filter_epochs_decoder_result)\n",
    "track_identity_marginals, track_identity_all_epoch_bins_marginal, most_likely_track_identity_from_decoder, is_most_likely_track_identity_Long = laps_track_identity_marginals\n",
    "\n",
    "## Decode Ripples:\n",
    "ripple_epochs_df = deepcopy(directional_merged_decoders_result.all_directional_ripple_filter_epochs_decoder_result.filter_epochs)\n",
    "all_directional_ripple_filter_epochs_decoder_result: DecodedFilterEpochsResult = directional_merged_decoders_result.all_directional_ripple_filter_epochs_decoder_result\n",
    "ripple_marginals = DirectionalMergedDecodersResult.determine_directional_likelihoods(all_directional_ripple_filter_epochs_decoder_result)\n",
    "ripple_directional_marginals, ripple_directional_all_epoch_bins_marginal, ripple_most_likely_direction_from_decoder, ripple_is_most_likely_direction_LR_dir  = ripple_marginals\n",
    "ripple_track_identity_marginals = DirectionalMergedDecodersResult.determine_long_short_likelihoods(all_directional_ripple_filter_epochs_decoder_result)\n",
    "ripple_track_identity_marginals, ripple_track_identity_all_epoch_bins_marginal, ripple_most_likely_track_identity_from_decoder, ripple_is_most_likely_track_identity_Long = ripple_track_identity_marginals\n",
    "\n",
    "# directional_merged_decoders_result.all_directional_laps_filter_epochs_decoder_result\n",
    "\n",
    "directional_merged_decoders_result.all_directional_laps_filter_epochs_decoder_result\n",
    "\n",
    "\n",
    "# ripple_marginals = DirectionalMergedDecodersResult.determine_directional_likelihoods(directional_merged_decoders_result.all_directional_ripple_filter_epochs_decoder_result)\n",
    "# ripple_directional_marginals, ripple_directional_all_epoch_bins_marginal, ripple_most_likely_direction_from_decoder, ripple_is_most_likely_direction_LR_dir  = ripple_marginals\n",
    "\n",
    "type(ripple_marginals)\n",
    "type(ripple_track_identity_marginals)"
   ]
  },
  {
   "cell_type": "code",
   "execution_count": null,
   "id": "cf9c7178",
   "metadata": {},
   "outputs": [],
   "source": [
    "ripple_marginals"
   ]
  },
  {
   "cell_type": "code",
   "execution_count": null,
   "id": "edaae3ad",
   "metadata": {},
   "outputs": [],
   "source": [
    "curr_active_pipeline.reload_default_display_functions()"
   ]
  },
  {
   "cell_type": "code",
   "execution_count": null,
   "id": "583b6bc9",
   "metadata": {},
   "outputs": [],
   "source": [
    "laps_all_epoch_bins_marginals_df = directional_merged_decoders_result.laps_all_epoch_bins_marginals_df\n",
    "ripple_all_epoch_bins_marginals_df = directional_merged_decoders_result.ripple_all_epoch_bins_marginals_df"
   ]
  },
  {
   "cell_type": "code",
   "execution_count": null,
   "id": "71baf530",
   "metadata": {},
   "outputs": [],
   "source": [
    "# Interactive-mode parameters:\n",
    "_interactive_mode_kwargs = dict(should_use_MatplotlibTimeSynchronizedWidget=True, scrollable_figure=True, defer_render=False)\n",
    "_restore_previous_matplotlib_settings_callback = matplotlib_configuration_update(is_interactive=True, backend='Qt5Agg')\n",
    "_curr_interaction_mode_kwargs = _interactive_mode_kwargs # interactive mode"
   ]
  },
  {
   "cell_type": "code",
   "execution_count": null,
   "id": "cbc756e7",
   "metadata": {},
   "outputs": [],
   "source": [
    "# Non-interactive:\n",
    "_non_interactive_mode_kwargs = dict(should_use_MatplotlibTimeSynchronizedWidget=False, scrollable_figure=False, defer_render=True)\n",
    "_restore_previous_matplotlib_settings_callback = matplotlib_configuration_update(is_interactive=False, backend='AGG')\n",
    "_curr_interaction_mode_kwargs = _non_interactive_mode_kwargs # non-interactive mode"
   ]
  },
  {
   "cell_type": "code",
   "execution_count": null,
   "id": "a729bc28",
   "metadata": {},
   "outputs": [],
   "source": [
    "_out = curr_active_pipeline.display('_display_directional_merged_pf_decoded_epochs', curr_active_pipeline.get_session_context(),\n",
    "\tmax_num_lap_epochs = 240, max_num_ripple_epochs = 500,\n",
    "\trender_directional_marginal_laps=True, render_directional_marginal_ripples=True, render_track_identity_marginal_laps=True, render_track_identity_marginal_ripples=True,\n",
    "\t# render_directional_marginal_laps=True, render_directional_marginal_ripples=False, render_track_identity_marginal_laps=False, render_track_identity_marginal_ripples=False,\n",
    "\t# constrained_layout=True, # layout='none',\n",
    "\t# build_fn='basic_view', constrained_layout=True, \n",
    "\tbuild_fn='insets_view', constrained_layout=True, #constrained_layout=None, layout='none', # , constrained_layout=False constrained_layout=None, layout='none', # , constrained_layout=None, layout='none' extrodinarily fast\n",
    "\t**_curr_interaction_mode_kwargs, # interactive mode\n",
    "\tskip_plotting_measured_positions=True, skip_plotting_most_likely_positions=True, save_figure=True, \n",
    "\t# directional_merged_decoders_result=directional_merged_de?coders_result, # Custom `directional_merged_decoders_result` to use instead of the computed one.\n",
    "\t)\n",
    "collector = _out['collector']"
   ]
  },
  {
   "cell_type": "code",
   "execution_count": null,
   "id": "880ed671",
   "metadata": {},
   "outputs": [],
   "source": [
    "# with VizTracer(output_file=f\"viztracer_{get_now_time_str()}-display_dir_merged_pf_decoded_epochs.json\", min_duration=200, tracer_entries=3000000, ignore_frozen=True) as tracer:\n",
    "# Here\n",
    "_out = curr_active_pipeline.display('_display_directional_merged_pf_decoded_epochs', max_num_lap_epochs = 85, max_num_ripple_epochs = 120,\n",
    "\t# render_directional_marginal_laps=True, render_directional_marginal_ripples=True, render_track_identity_marginal_laps=True, render_track_identity_marginal_ripples=True,\n",
    "\trender_directional_marginal_laps=True, render_directional_marginal_ripples=False, render_track_identity_marginal_laps=False, render_track_identity_marginal_ripples=False,\n",
    "\t# constrained_layout=True, # layout='none',\n",
    " \t# build_fn='basic_view', constrained_layout=True,\n",
    "\tbuild_fn='insets_view', constrained_layout=False, # constrained_layout=None, layout='none', # , constrained_layout=None, layout='none' extrodinarily fast\n",
    "\t**_curr_interaction_mode_kwargs, # interactive mode\n",
    "\tskip_plotting_measured_positions=True, skip_plotting_most_likely_positions=True, save_figure=True) # , size=(5,12), dpi=96 size=(15,7), dpi=72, constrained_layout=True\n",
    "collector = _out['collector']\n"
   ]
  },
  {
   "cell_type": "code",
   "execution_count": null,
   "id": "e21b6cb2",
   "metadata": {},
   "outputs": [],
   "source": [
    "(num=plots.figure_id, ncols=1, nrows=1, dpi=dpi, clear=True, sharex=False, sharey=False, constrained_layout=constrained_layout, frameon=False)"
   ]
  },
  {
   "cell_type": "code",
   "execution_count": null,
   "id": "8814f465",
   "metadata": {},
   "outputs": [],
   "source": [
    "collector = _out['collector']\n",
    "laps_plot_tuple = _out['directional_laps_plot_tuple']\n",
    "params, plots_data, plots, ui = laps_plot_tuple\n",
    "# mw = ui.mw"
   ]
  },
  {
   "cell_type": "code",
   "execution_count": null,
   "id": "00ae74df",
   "metadata": {},
   "outputs": [],
   "source": [
    "params.get('skip_plotting_most_likely_positions', False)"
   ]
  },
  {
   "cell_type": "code",
   "execution_count": null,
   "id": "0e218368",
   "metadata": {},
   "outputs": [],
   "source": [
    "collector.figures"
   ]
  },
  {
   "cell_type": "code",
   "execution_count": null,
   "id": "1338c5c0",
   "metadata": {},
   "outputs": [],
   "source": [
    "import matplotlib as mpl\n",
    "import matplotlib.pyplot as plt\n",
    "# import seaborn as sns\n",
    "from flexitext import flexitext ## flexitext for formatted matplotlib text\n",
    "\n",
    "from pyphocorehelpers.DataStructure.RenderPlots.MatplotLibRenderPlots import FigureCollector\n",
    "from pyphoplacecellanalysis.General.Model.Configs.LongShortDisplayConfig import PlottingHelpers\n",
    "from neuropy.utils.matplotlib_helpers import FormattedFigureText\n",
    "\n",
    "fig = mw.getFigure()\n",
    "sub_context = collector.contexts[0]\n",
    "\n",
    "\n",
    "# Recover the proper title:\n",
    "title = mw.params.name\n",
    "\n",
    "# `flexitext` version:\n",
    "text_formatter = FormattedFigureText()\n",
    "fig.suptitle('')\n",
    "text_formatter.setup_margins(fig) # , top_margin=0.740\n",
    "title_text_obj = flexitext(text_formatter.left_margin, text_formatter.top_margin, title, va=\"bottom\", xycoords=\"figure fraction\")\n",
    "footer_text_obj = flexitext((text_formatter.left_margin * 0.1), (text_formatter.bottom_margin * 0.25),\n",
    "\t\t\t\t\t\t\ttext_formatter._build_footer_string(active_context=sub_context),\n",
    "\t\t\t\t\t\t\tva=\"top\", xycoords=\"figure fraction\")"
   ]
  },
  {
   "cell_type": "code",
   "execution_count": null,
   "id": "6829fe6c",
   "metadata": {},
   "outputs": [],
   "source": [
    "active_display_context = curr_active_pipeline.build_display_context_for_session('directional_merged_pf_decoded_epochs')\n",
    "active_display_context"
   ]
  },
  {
   "cell_type": "code",
   "execution_count": null,
   "id": "a7280e86",
   "metadata": {},
   "outputs": [],
   "source": [
    "# _main_context = [{'decoded_epochs': 'Laps', 'Marginal': 'Direction'}, {'decoded_epochs': 'Laps', 'Marginal': 'Direction'}, {'decoded_epochs': 'Laps', 'Marginal': 'Direction'}, {'decoded_epochs': 'Laps', 'Marginal': 'Direction'}]\n",
    "\n",
    "# Safe seperator characters\n",
    "safe_seperators_list = ['-','.','_'] # for dates I frequently use '2006-6-09_1-22-43' format, meaning both dashes and underscores are ruled out as info separators\n",
    "\n",
    "\n",
    "'_'.join(['Laps', 'Direction'])\n"
   ]
  },
  {
   "cell_type": "code",
   "execution_count": null,
   "id": "09d43925",
   "metadata": {},
   "outputs": [],
   "source": [
    "\n",
    "_params_kwargs = {'t_bin_size': directional_merged_decoders_result.laps_decoding_time_bin_size} # Parameters:\n",
    "\n",
    "_merged_context = _main_context | _params_kwargs\n",
    "_merged_context\n",
    "\n",
    "# {'decoded_epochs': 'Laps', 'Marginal': 'Direction', 't_bin_size': 0.075}\n",
    "\n"
   ]
  },
  {
   "cell_type": "code",
   "execution_count": null,
   "id": "c4b4ca02",
   "metadata": {},
   "outputs": [],
   "source": [
    "ripple_filter_epochs_decoder_result = directional_merged_decoders_result.all_directional_ripple_filter_epochs_decoder_result\n",
    "ripple_decoding_time_bin_size: float = directional_merged_decoders_result.ripple_decoding_time_bin_size\n",
    "ripple_decoding_time_bin_size\n",
    "laps_decoding_time_bin_size: float = directional_merged_decoders_result.laps_decoding_time_bin_size\n",
    "laps_decoding_time_bin_size\n"
   ]
  },
  {
   "cell_type": "markdown",
   "id": "afaffae7",
   "metadata": {},
   "source": [
    "# 2024-01-06 - Decoded Epoch Posterior Marginal Figures outputs:\n"
   ]
  },
  {
   "cell_type": "code",
   "execution_count": null,
   "id": "e598e0ec",
   "metadata": {},
   "outputs": [],
   "source": [
    "\n",
    "if active_context is not None:\n",
    "\tdisplay_context = active_context.adding_context('display_fn', display_fn_name='plot_rank_order_histograms')"
   ]
  },
  {
   "cell_type": "code",
   "execution_count": null,
   "id": "b00267bb",
   "metadata": {},
   "outputs": [],
   "source": [
    "import seaborn as sns\n",
    "from pyphoplacecellanalysis.General.Pipeline.Stages.ComputationFunctions.MultiContextComputationFunctions.RankOrderComputations import plot_quantile_diffs\n",
    "\n",
    "_restore_previous_matplotlib_settings_callback = matplotlib_configuration_update(is_interactive=True, backend='Qt5Agg')\n",
    "global_epoch = curr_active_pipeline.filtered_epochs[global_epoch_name]\n",
    "short_epoch = curr_active_pipeline.filtered_epochs[short_epoch_name]\n",
    "split_time_t: float = short_epoch.t_start\n",
    "active_context = curr_active_pipeline.sess.get_context()\n",
    "\n",
    "def _perform_write_to_file_callback(final_context, fig):\n",
    "\treturn curr_active_pipeline.output_figure(final_context, fig)\n",
    "\n",
    "collector = plot_quantile_diffs(ripple_merged_complete_epoch_stats_df, t_split=split_time_t, active_context=active_context, perform_write_to_file_callback=_perform_write_to_file_callback)"
   ]
  },
  {
   "cell_type": "code",
   "execution_count": null,
   "id": "7bb65cf4",
   "metadata": {},
   "outputs": [],
   "source": [
    "curr_active_pipeline.display('_display_directional_merged_pfs')"
   ]
  },
  {
   "cell_type": "code",
   "execution_count": null,
   "id": "d2a5da91",
   "metadata": {},
   "outputs": [],
   "source": [
    "from pyphoplacecellanalysis.Analysis.Decoder.reconstruction import DecodedFilterEpochsResult\n",
    "\n",
    "directional_merged_decoders_result: DirectionalMergedDecodersResult = curr_active_pipeline.global_computation_results.computed_data['DirectionalMergedDecoders']\n",
    "\n",
    "laps_filter_epochs_decoder_result = directional_merged_decoders_result.all_directional_laps_filter_epochs_decoder_result\n",
    "laps_filter_epochs_decoder_result\n",
    "\n",
    "render_merged_pseudo2D_decoder_laps=True"
   ]
  },
  {
   "cell_type": "code",
   "execution_count": null,
   "id": "d4cfe1ca",
   "metadata": {},
   "outputs": [],
   "source": [
    "## Validate Laps:\n",
    "# requires `laps_is_most_likely_direction_LR_dir` from `laps_marginals`\n",
    "long_epoch_name, short_epoch_name, global_epoch_name = curr_active_pipeline.find_LongShortGlobal_epoch_names()\n",
    "global_session = deepcopy(curr_active_pipeline.filtered_sessions[global_epoch_name]) # used for validate_lap_dir_estimations(...) \n",
    "global_any_laps_epochs_obj = deepcopy(curr_active_pipeline.computation_results[global_epoch_name].computation_config.pf_params.computation_epochs) # global_epoch_name='maze_any'\n",
    "percent_laps_estimated_correctly = DirectionalMergedDecodersResult.validate_lap_dir_estimations(global_session, active_global_laps_df=global_any_laps_epochs_obj.to_dataframe(), laps_is_most_likely_direction_LR_dir=laps_is_most_likely_direction_LR_dir)\n",
    "print(f'percent_laps_estimated_correctly: {percent_laps_estimated_correctly}')"
   ]
  },
  {
   "cell_type": "code",
   "execution_count": null,
   "id": "697b518c",
   "metadata": {},
   "outputs": [],
   "source": [
    "directional_marginals, directional_all_epoch_bins_marginal, most_likely_direction_from_decode, is_most_likely_direction_LR_dir = DirectionalMergedDecodersResult.determine_directional_likelihoods(directional_merged_decoders_result.all_directional_laps_filter_epochs_decoder_result)\n",
    "\n",
    "laps_track_identity_marginals = DirectionalMergedDecodersResult.determine_long_short_likelihoods(directional_merged_decoders_result.all_directional_laps_filter_epochs_decoder_result)\n",
    "track_identity_marginals, track_identity_all_epoch_bins_marginal, most_likely_track_identity_from_decoder, is_most_likely_track_identity_Long = laps_track_identity_marginals\n",
    "\n"
   ]
  },
  {
   "cell_type": "code",
   "execution_count": null,
   "id": "7b76a725",
   "metadata": {},
   "outputs": [],
   "source": [
    "laps_filter_epochs_decoder_result = directional_merged_decoders_result.all_directional_laps_filter_epochs_decoder_result\n",
    "\n",
    "all_directional_pf1D_Decoder_value"
   ]
  },
  {
   "cell_type": "code",
   "execution_count": null,
   "id": "5232cebf",
   "metadata": {},
   "outputs": [],
   "source": [
    "from pyphoplacecellanalysis.General.Pipeline.Stages.DisplayFunctions.DecoderPredictionError import plot_decoded_epoch_slices\n"
   ]
  },
  {
   "cell_type": "code",
   "execution_count": null,
   "id": "0d95d551",
   "metadata": {},
   "outputs": [],
   "source": [
    "\n",
    "active_decoder = all_directional_pf1D_Decoder_value\n",
    "laps_plot_tuple = plot_decoded_epoch_slices(global_any_laps_epochs_obj, laps_filter_epochs_decoder_result, global_pos_df=global_session.position.to_dataframe(), xbin=active_decoder.xbin,\n",
    "\t\t\t\t\t\t\t\t\t\t\tname='TEST NEW LAPS',\n",
    "                                            # active_marginal_fn = lambda filter_epochs_decoder_result: filter_epochs_decoder_result.marginal_y_list,\n",
    "\t\t\t\t\t\t\t\t\t\t\tactive_marginal_fn = lambda filter_epochs_decoder_result:  DirectionalMergedDecodersResult.build_custom_marginal_over_direction(filter_epochs_decoder_result),\n",
    "                                            )\n"
   ]
  },
  {
   "cell_type": "code",
   "execution_count": null,
   "id": "e42357ce",
   "metadata": {},
   "outputs": [],
   "source": [
    "from pyphoplacecellanalysis.General.Pipeline.Stages.DisplayFunctions.DecoderPredictionError import plot_decoded_epoch_slices\n",
    "\n",
    "active_decoder = all_directional_pf1D_Decoder_value\n",
    "laps_plot_tuple = plot_decoded_epoch_slices(global_any_laps_epochs_obj, laps_filter_epochs_decoder_result, global_pos_df=global_session.position.to_dataframe(), xbin=active_decoder.xbin,\n",
    "\t\t\t\t\t\t\t\t\t\t\tname='TEST NEW LAPS',\n",
    "                                            # active_marginal_fn = lambda filter_epochs_decoder_result: filter_epochs_decoder_result.marginal_y_list,\n",
    "\t\t\t\t\t\t\t\t\t\t\tactive_marginal_fn = lambda filter_epochs_decoder_result:  DirectionalMergedDecodersResult.build_custom_marginal_over_direction(filter_epochs_decoder_result),\n",
    "                                            )\n"
   ]
  },
  {
   "cell_type": "code",
   "execution_count": null,
   "id": "de05349b",
   "metadata": {},
   "outputs": [],
   "source": [
    "owning_pipeline_reference = curr_active_pipeline\n",
    "\n",
    "# Direction (LR/RL) Marginal:\n",
    "global_any_laps_epochs_obj = deepcopy(owning_pipeline_reference.computation_results[global_epoch_name].computation_config.pf_params.computation_epochs) # global_epoch_name='maze_any'\n",
    "active_decoder = directional_merged_decoders_result.all_directional_pf1D_Decoder\n",
    "directional_laps_plot_tuple = plot_decoded_epoch_slices(global_any_laps_epochs_obj, directional_merged_decoders_result.all_directional_laps_filter_epochs_decoder_result, global_pos_df=global_session.position.to_dataframe(), xbin=active_decoder.xbin,\n",
    "\t\t\t\t\t\t\t\t\t\t\tname='Directional_Marginal_LAPS',\n",
    "\t\t\t\t\t\t\t\t\t\t\tactive_marginal_fn = lambda filter_epochs_decoder_result: DirectionalMergedDecodersResult.build_custom_marginal_over_direction(filter_epochs_decoder_result),\n",
    "\t\t\t\t\t\t\t\t\t\t\t# single_plot_fixed_height=single_plot_fixed_height, debug_test_max_num_slices=max_num_lap_epochs, size=size, dpi=dpi, constrained_layout=constrained_layout, scrollable_figure=scrollable_figure,\n",
    "\t\t\t\t\t\t\t\t\t\t\t)\n",
    "\n",
    "# Track-identity (Long/Short) Marginal:\n",
    "global_any_laps_epochs_obj = deepcopy(owning_pipeline_reference.computation_results[global_epoch_name].computation_config.pf_params.computation_epochs) # global_epoch_name='maze_any'\n",
    "active_decoder = directional_merged_decoders_result.all_directional_pf1D_Decoder\n",
    "track_identity_marginal_laps_plot_tuple = plot_decoded_epoch_slices(global_any_laps_epochs_obj, directional_merged_decoders_result.all_directional_laps_filter_epochs_decoder_result, global_pos_df=global_session.position.to_dataframe(), xbin=active_decoder.xbin,\n",
    "\t\t\t\t\t\t\t\t\t\t\tname='TrackIdentity_Marginal_LAPS',\n",
    "\t\t\t\t\t\t\t\t\t\t\tactive_marginal_fn = lambda filter_epochs_decoder_result: DirectionalMergedDecodersResult.build_custom_marginal_over_long_short(filter_epochs_decoder_result),\n",
    "\t\t\t\t\t\t\t\t\t\t\t# single_plot_fixed_height=single_plot_fixed_height, debug_test_max_num_slices=max_num_lap_epochs, size=size, dpi=dpi, constrained_layout=constrained_layout, scrollable_figure=scrollable_figure,\n",
    "\t\t\t\t\t\t\t\t\t\t\t)\n",
    "\n",
    "# Replays: ___________________________________________________________________________________________________________ #\n",
    "\n",
    "# Direction (LR/RL) Marginal:\n",
    "global_replays = TimeColumnAliasesProtocol.renaming_synonym_columns_if_needed(deepcopy(global_session.replay))\n",
    "active_decoder = directional_merged_decoders_result.all_directional_pf1D_Decoder\n",
    "directional_ripples_plot_tuple = plot_decoded_epoch_slices(global_replays,  directional_merged_decoders_result.all_directional_ripple_filter_epochs_decoder_result, global_pos_df=global_session.position.to_dataframe(), xbin=active_decoder.xbin,\n",
    "\t\t\t\t\t\t\t\t\t\t\tname='Directional_Marginal_Ripples',\n",
    "\t\t\t\t\t\t\t\t\t\t\tactive_marginal_fn = lambda filter_epochs_decoder_result: DirectionalMergedDecodersResult.build_custom_marginal_over_direction(filter_epochs_decoder_result),\n",
    "\t\t\t\t\t\t\t\t\t\t\t# single_plot_fixed_height=single_plot_fixed_height, debug_test_max_num_slices=max_num_ripple_epochs, size=size, dpi=dpi, constrained_layout=constrained_layout, scrollable_figure=scrollable_figure,\n",
    "\t\t\t\t\t\t\t\t\t\t\t)\n",
    "\n",
    "# Track-identity (Long/Short) Marginal:\n",
    "global_replays = TimeColumnAliasesProtocol.renaming_synonym_columns_if_needed(deepcopy(global_session.replay))\n",
    "active_decoder = directional_merged_decoders_result.all_directional_pf1D_Decoder\n",
    "track_identity_marginal_ripples_plot_tuple = plot_decoded_epoch_slices(global_replays,  directional_merged_decoders_result.all_directional_ripple_filter_epochs_decoder_result, global_pos_df=global_session.position.to_dataframe(), xbin=active_decoder.xbin,\n",
    "\t\t\t\t\t\t\t\t\t\t\tname='TrackIdentity_Marginal_Ripples',\n",
    "\t\t\t\t\t\t\t\t\t\t\tactive_marginal_fn = lambda filter_epochs_decoder_result: DirectionalMergedDecodersResult.build_custom_marginal_over_long_short(filter_epochs_decoder_result),\n",
    "\t\t\t\t\t\t\t\t\t\t\t# single_plot_fixed_height=single_plot_fixed_height, debug_test_max_num_slices=max_num_ripple_epochs, size=size, dpi=dpi, constrained_layout=constrained_layout, scrollable_figure=scrollable_figure,\n",
    "\t\t\t\t\t\t\t\t\t\t\t)\n"
   ]
  },
  {
   "cell_type": "code",
   "execution_count": null,
   "id": "cc43280e",
   "metadata": {},
   "outputs": [],
   "source": [
    "\n",
    "\n",
    "global_any_laps_epochs_obj = deepcopy(curr_active_pipeline.computation_results[global_epoch_name].computation_config.pf_params.computation_epochs) # global_epoch_name='maze_any'\n",
    "active_decoder = directional_merged_decoders_result.all_directional_pf1D_Decoder\n",
    "implemented_laps_plot_tuple = plot_decoded_epoch_slices(global_any_laps_epochs_obj, directional_merged_decoders_result.all_directional_laps_filter_epochs_decoder_result, global_pos_df=global_session.position.to_dataframe(), xbin=active_decoder.xbin,\n",
    "\t\t\t\t\t\t\t\t\t\t\tname='Directional_Marginal_LAPS',\n",
    "\t\t\t\t\t\t\t\t\t\t\tactive_marginal_fn = lambda filter_epochs_decoder_result: DirectionalMergedDecodersResult.build_custom_marginal_over_direction(filter_epochs_decoder_result),\n",
    "\t\t\t\t\t\t\t\t\t\t\t# single_plot_fixed_height=single_plot_fixed_height, debug_test_max_num_slices=max_num_lap_epochs, size=size, dpi=dpi, constrained_layout=constrained_layout, scrollable_figure=scrollable_figure,\n",
    "\t\t\t\t\t\t\t\t\t\t\t)\n"
   ]
  },
  {
   "cell_type": "code",
   "execution_count": null,
   "id": "a2670344",
   "metadata": {},
   "outputs": [],
   "source": [
    "active_decoder = all_directional_pf1D_Decoder_value\n",
    "ripples_plot_tuple = plot_decoded_epoch_slices(global_replays, all_directional_ripples_filter_epochs_decoder_result, global_pos_df=global_session.position.to_dataframe(), xbin=active_decoder.xbin,\n",
    "\t\t\t\t\t\t\t\t\t\t\tname='stacked_epoch_slices_matplotlib_subplots_Ripples',\n",
    "                                            # active_marginal_fn = lambda filter_epochs_decoder_result: filter_epochs_decoder_result.marginal_y_list,\n",
    "\t\t\t\t\t\t\t\t\t\t\tactive_marginal_fn = lambda filter_epochs_decoder_result: build_custom_marginal_over_direction(filter_epochs_decoder_result),\n",
    "                                            )\n"
   ]
  },
  {
   "cell_type": "code",
   "execution_count": null,
   "id": "9fb0daf9",
   "metadata": {},
   "outputs": [],
   "source": [
    "\n",
    "\n",
    "active_decoder = all_directional_pf1D_Decoder_value\n",
    "laps_plot_tuple = plot_decoded_epoch_slices(global_any_laps_epochs_obj, long_only_laps_filter_epochs_decoder_result, global_pos_df=global_session.position.to_dataframe(), xbin=active_decoder.xbin,\n",
    "\t\t\t\t\t\t\t\t\t\t\tname='long_only_lstacked_epoch_slices_matplotlib_subplots_LAPS',\n",
    "                                            # active_marginal_fn = lambda filter_epochs_decoder_result: filter_epochs_decoder_result.marginal_y_list,\n",
    "\t\t\t\t\t\t\t\t\t\t\tactive_marginal_fn = lambda filter_epochs_decoder_result: build_custom_marginal_over_direction(filter_epochs_decoder_result),\n",
    "                                            )\n",
    "\n",
    "\n"
   ]
  },
  {
   "cell_type": "code",
   "execution_count": null,
   "id": "454fef46",
   "metadata": {},
   "outputs": [],
   "source": [
    "directional_merged_decoders_result = global_computation_results.computed_data['DirectionalMergedDecoders']\n",
    "\n",
    "# requires `laps_is_most_likely_direction_LR_dir` from `laps_marginals`\n",
    "long_epoch_name, short_epoch_name, global_epoch_name = owning_pipeline_reference.find_LongShortGlobal_epoch_names()\n",
    "global_session = deepcopy(owning_pipeline_reference.filtered_sessions[global_epoch_name]) # used for validate_lap_dir_estimations(...) \n",
    "\n",
    "# Direction (LR/RL) Marginal:\n",
    "global_any_laps_epochs_obj = deepcopy(owning_pipeline_reference.computation_results[global_epoch_name].computation_config.pf_params.computation_epochs) # global_epoch_name='maze_any'\n",
    "active_decoder = directional_merged_decoders_result.all_directional_pf1D_Decoder\n",
    "laps_plot_tuple = plot_decoded_epoch_slices(global_any_laps_epochs_obj, directional_merged_decoders_result.all_directional_laps_filter_epochs_decoder_result, global_pos_df=global_session.position.to_dataframe(), xbin=active_decoder.xbin,\n",
    "\t\t\t\t\t\t\t\t\t\t\tname='stacked_epoch_slices_matplotlib_subplots_LAPS',\n",
    "\t\t\t\t\t\t\t\t\t\t\t# active_marginal_fn = lambda filter_epochs_decoder_result: filter_epochs_decoder_result.marginal_y_list,\n",
    "\t\t\t\t\t\t\t\t\t\t\tactive_marginal_fn = lambda filter_epochs_decoder_result: DirectionalMergedDecodersResult.build_custom_marginal_over_direction(filter_epochs_decoder_result),\n",
    "\t\t\t\t\t\t\t\t\t\t\tdebug_test_max_num_slices=max_num_lap_epochs\n",
    "\t\t\t\t\t\t\t\t\t\t\t)\n",
    "\n",
    "# Track-identity (Long/Short) Marginal:\n",
    "global_any_laps_epochs_obj = deepcopy(owning_pipeline_reference.computation_results[global_epoch_name].computation_config.pf_params.computation_epochs) # global_epoch_name='maze_any'\n",
    "active_decoder = directional_merged_decoders_result.all_directional_pf1D_Decoder\n",
    "track_identity_marginal_laps_plot_tuple = plot_decoded_epoch_slices(global_any_laps_epochs_obj, directional_merged_decoders_result.all_directional_laps_filter_epochs_decoder_result, global_pos_df=global_session.position.to_dataframe(), xbin=active_decoder.xbin,\n",
    "\t\t\t\t\t\t\t\t\t\t\tname='TrackIdentity_Marginal_LAPS',\n",
    "\t\t\t\t\t\t\t\t\t\t\tactive_marginal_fn = lambda filter_epochs_decoder_result: DirectionalMergedDecodersResult.build_custom_marginal_over_long_short(filter_epochs_decoder_result),\n",
    "\t\t\t\t\t\t\t\t\t\t\tdebug_test_max_num_slices=max_num_lap_epochs\n",
    "\t\t\t\t\t\t\t\t\t\t\t)\n",
    "\n",
    "\n",
    "\n",
    "## Replays:\n",
    "global_replays = TimeColumnAliasesProtocol.renaming_synonym_columns_if_needed(deepcopy(global_session.replay))\n",
    "active_decoder = directional_merged_decoders_result.all_directional_pf1D_Decoder\n",
    "ripples_plot_tuple = plot_decoded_epoch_slices(global_replays,  directional_merged_decoders_result.all_directional_ripple_filter_epochs_decoder_result, global_pos_df=global_session.position.to_dataframe(), xbin=active_decoder.xbin,\n",
    "\t\t\t\t\t\t\t\t\t\t\tname='stacked_epoch_slices_matplotlib_subplots_Ripples',\n",
    "\t\t\t\t\t\t\t\t\t\t\t# active_marginal_fn = lambda filter_epochs_decoder_result: filter_epochs_decoder_result.marginal_y_list,\n",
    "\t\t\t\t\t\t\t\t\t\t\tactive_marginal_fn = lambda filter_epochs_decoder_result: DirectionalMergedDecodersResult.build_custom_marginal_over_direction(filter_epochs_decoder_result),\n",
    "\t\t\t\t\t\t\t\t\t\t\t)\n",
    "\n"
   ]
  },
  {
   "cell_type": "code",
   "execution_count": null,
   "id": "291de005",
   "metadata": {},
   "outputs": [],
   "source": [
    "# Decode using long_directional_decoder\n",
    "global_spikes_df, (odd_shuffle_helper, even_shuffle_helper) = RankOrderAnalyses.common_analysis_helper(curr_active_pipeline=curr_active_pipeline, num_shuffles=1000)\n",
    "spikes_df = deepcopy(global_spikes_df) #.spikes.sliced_by_neuron_id(track_templates.shared_aclus_only_neuron_IDs)\n",
    "global_replays = TimeColumnAliasesProtocol.renaming_synonym_columns_if_needed(deepcopy(curr_active_pipeline.filtered_sessions[global_epoch_name].replay))\n",
    "# long_directional_decoding_result: DecodedFilterEpochsResult = long_directional_pf1D_Decoder.decode_specific_epochs(spikes_df, global_replays, decoding_time_bin_size=0.01)\n",
    "all_directional_decoding_result: DecodedFilterEpochsResult = all_directional_pf1D_Decoder.decode_specific_epochs(spikes_df, global_replays, decoding_time_bin_size=0.01)"
   ]
  },
  {
   "cell_type": "code",
   "execution_count": null,
   "id": "d50d6aab",
   "metadata": {},
   "outputs": [],
   "source": [
    "num_spikes = len(all_directional_pf1D.spikes_df)\n",
    "print(f'num_spikes: {num_spikes}')\n",
    "num_unique_spikes = len(all_directional_pf1D.spikes_df[['t_rel_seconds']].unique())\n",
    "print(f'num_unique_spikes: {num_unique_spikes}')"
   ]
  },
  {
   "cell_type": "code",
   "execution_count": null,
   "id": "678ff61e",
   "metadata": {},
   "outputs": [],
   "source": [
    "## Post 2022-10-22 display_all_pf_2D_pyqtgraph_binned_image_rendering-based method:\n",
    "\n",
    "# Visualization:\n",
    "from pyphoplacecellanalysis.Pho2D.matplotlib.visualize_heatmap import visualize_heatmap, visualize_heatmap_pyqtgraph\n",
    "from pyphoplacecellanalysis.Pho2D.PyQtPlots.plot_placefields import pyqtplot_plot_image_array, display_all_pf_2D_pyqtgraph_binned_image_rendering\n",
    "from pyphoplacecellanalysis.GUI.PyQtPlot.BinnedImageRenderingWindow import BasicBinnedImageRenderingWindow, LayoutScrollability\n",
    "\n",
    "# active_context = curr_active_pipeline.build_display_context_for_session(track_config='All-Directions', display_fn_name='display_all_pf_2D_pyqtgraph_binned_image_rendering')\n",
    "active_context = curr_active_pipeline.build_display_context_for_session(track_config='Long-Directional', display_fn_name='display_all_pf_2D_pyqtgraph_binned_image_rendering')\n",
    "assert active_context is not None\n",
    "active_pf_2D = long_directional_pf1D_Decoder.pf # computation_result.computed_data['pf2D']\n",
    "# active_pf_2D = all_directional_pf1D_Decoder.pf # computation_result.computed_data['pf2D']\n",
    "# active_pf_2D = all_directions_merged_pf\n",
    "# active_pf_2D = long_directional_manual_merged_pf\n",
    "\n",
    "# figure_format_config = {} # empty dict for config\n",
    "figure_format_config = {} # kwargs # kwargs as default figure_format_config\n",
    "out_all_pf_2D_pyqtgraph_binned_image_fig = display_all_pf_2D_pyqtgraph_binned_image_rendering(active_pf_2D, figure_format_config) # output is BasicBinnedImageRenderingWindow\n",
    "\n",
    "# Set the window title from the context\n",
    "out_all_pf_2D_pyqtgraph_binned_image_fig.setWindowTitle(f'{active_context.get_description()}')\n",
    "\n",
    "out_all_pf_2D_pyqtgraph_binned_image_fig.show()"
   ]
  },
  {
   "cell_type": "code",
   "execution_count": null,
   "id": "43305707",
   "metadata": {},
   "outputs": [],
   "source": [
    "long_directional_pf1D_Decoder.ratemap.plot()"
   ]
  },
  {
   "cell_type": "markdown",
   "id": "b319bd93",
   "metadata": {},
   "source": [
    "# 🔶 2023-12-23 - All Plots - Final"
   ]
  },
  {
   "cell_type": "code",
   "execution_count": null,
   "id": "6121e192",
   "metadata": {
    "notebookRunGroups": {
     "groupValue": "2"
    }
   },
   "outputs": [],
   "source": [
    "from typing import Iterable\n",
    "from pyphoplacecellanalysis.General.Pipeline.Stages.ComputationFunctions.MultiContextComputationFunctions.RankOrderComputations import DirectionalRankOrderResult\n",
    "from pyphoplacecellanalysis.General.Pipeline.Stages.ComputationFunctions.MultiContextComputationFunctions.RankOrderComputations import RankOrderGlobalDisplayFunctions\n",
    "from pyphoplacecellanalysis.General.Pipeline.Stages.ComputationFunctions.MultiContextComputationFunctions.RankOrderComputations import plot_rank_order_histograms\n",
    "\n",
    "curr_active_pipeline.reload_default_display_functions()\n",
    "curr_active_pipeline.prepare_for_display()\n",
    "\n",
    "save_figure = True"
   ]
  },
  {
   "cell_type": "markdown",
   "id": "590e9fec",
   "metadata": {},
   "source": [
    "## 2024-01-08 - Pulled from NonInteractiveProcessing to see plots easily."
   ]
  },
  {
   "cell_type": "code",
   "execution_count": null,
   "id": "6a1c373e",
   "metadata": {
    "notebookRunGroups": {
     "groupValue": "2"
    }
   },
   "outputs": [],
   "source": [
    "# _display_directional_merged_pf_decoded_epochs_marginals ________________________________________________________________________________ #\n",
    "try:\n",
    "\t_out = curr_active_pipeline.display('_display_directional_merged_pf_decoded_epochs_marginals', curr_active_pipeline.get_session_context(), defer_render=True, save_figure=save_figure)\n",
    "except Exception as e:\n",
    "\tprint(f'batch_extended_programmatic_figures(...): \"_display_directional_merged_pf_decoded_epochs_marginals\" failed with error: {e}\\n skipping.')\n",
    "\traise\n",
    "\n",
    "# # _display_rank_order_z_stats_results ________________________________________________________________________________ #\n",
    "# try:\n",
    "# \t_out = curr_active_pipeline.display('_display_rank_order_z_stats_results', curr_active_pipeline.get_session_context(), defer_render=True, save_figure=save_figure)\n",
    "# except Exception as e:\n",
    "# \tprint(f'batch_extended_programmatic_figures(...): \"_display_rank_order_z_stats_results\" failed with error: {e}\\n skipping.')\n",
    "# \traise"
   ]
  },
  {
   "cell_type": "code",
   "execution_count": null,
   "id": "dbbd04d8",
   "metadata": {},
   "outputs": [],
   "source": [
    "# from pyphoplacecellanalysis.GUI.PyQtPlot.BinnedImageRenderingWindow import BasicBinnedImageRenderingWindow\n",
    "\n",
    "# curr_active_pipeline.reload_default_display_functions()\n",
    "\n",
    "# _out = curr_active_pipeline.display('_display_directional_track_template_pf1Ds', curr_active_pipeline.get_session_context(), defer_render=False, save_figure=save_figure)\n",
    "\n",
    "_out = curr_active_pipeline.display('_display_directional_merged_pfs', curr_active_pipeline.get_session_context(), defer_render=False, save_figure=save_figure)\n"
   ]
  },
  {
   "cell_type": "code",
   "execution_count": null,
   "id": "bba1bc7f",
   "metadata": {},
   "outputs": [],
   "source": [
    "all_dir_outputs = list(_out.values())[0] # BasicBinnedImageRenderingWindow \n",
    "# list(all_dir_outputs.keys())\n",
    "names_list = [v for v in list(all_dir_outputs.plots.keys()) if v not in ('name', 'context')]\n",
    "names_list\n",
    "\n",
    "out_figs_dict = {}\n",
    "# active_context = curr_active_pipeline.build_display_context_for_session(display_fn_name='directional_merged_pfs')\n",
    "# for a_name, a_plot in all_dir_outputs.plots.items():\n",
    "for a_name in names_list:\n",
    "\t# Adjust the size of the text for the item by passing formatted text\n",
    "\ta_plot: pg.PlotItem = all_dir_outputs.plots[a_name].mainPlotItem # PlotItem \n",
    "\t# if (a_plot is not None) and (not isinstance(a_plot, str)):\n",
    "\t# a_plot.setTitle(f\"<span style = 'font-size : 12px;' >{a_name}</span>\")\n",
    "\t# a_plo\n",
    "\t# active_context , epochs='replays', decoder='long_results_obj'\t\n",
    "\tfinal_context = curr_active_pipeline.build_display_context_for_session(display_fn_name='directional_merged_pfs', track_config='All-Directions', cell=a_name)\n",
    "\tout_figs_dict[a_name] = curr_active_pipeline.output_figure(final_context, a_plot.getViewBox())\n",
    "\t\n",
    "\n",
    "# list(out_figs_dict.values())[0][0][0]\n",
    "out_figs_paths = [v[0][0] for v in list(out_figs_dict.values())]\n",
    "out_figs_paths"
   ]
  },
  {
   "cell_type": "code",
   "execution_count": null,
   "id": "c41b63b5",
   "metadata": {},
   "outputs": [],
   "source": [
    "# Take the individual cell's pf export figures and composite them into a single stack\n",
    "\n",
    "from PIL import Image\n",
    "from pyphocorehelpers.plotting.filesystem_figure_operations import render_image_stack\n",
    "\n",
    "output_img, output_path = render_image_stack(out_figs_paths, offset=55, single_image_alpha_level=0.85)"
   ]
  },
  {
   "cell_type": "code",
   "execution_count": null,
   "id": "f47f2f5d",
   "metadata": {},
   "outputs": [],
   "source": [
    "output_img"
   ]
  },
  {
   "cell_type": "code",
   "execution_count": null,
   "id": "abc9d74d",
   "metadata": {},
   "outputs": [],
   "source": [
    "final_context = curr_active_pipeline.build_display_context_for_session(display_fn_name='directional_merged_pfs', track_config='All-Directions', cell=a_name)\n",
    "curr_active_pipeline.output_figure(final_context, a_plot.getViewBox(), write_vector_format=True, write_png=True)\n"
   ]
  },
  {
   "cell_type": "code",
   "execution_count": null,
   "id": "57dedb98",
   "metadata": {},
   "outputs": [],
   "source": [
    "# final_context\n",
    "\n",
    "curr_active_pipeline.get_output_path()"
   ]
  },
  {
   "cell_type": "code",
   "execution_count": null,
   "id": "0ef7dd06",
   "metadata": {},
   "outputs": [],
   "source": [
    "a_plot.titleLabel.setContentsMargins(50, 0, 0, 0)\n",
    "a_plot.titleLabel.\n",
    "\n",
    "for i in range(4):\n",
    "\ta_plot.layout.setRowPreferredHeight(i, 0)\n",
    "\ta_plot.layout.setRowMinimumHeight(i, 0)\n",
    "\ta_plot.layout.setRowSpacing(i, 0)\n",
    "\ta_plot.layout.setRowStretchFactor(i, 1)\n"
   ]
  },
  {
   "cell_type": "code",
   "execution_count": null,
   "id": "a96a165e",
   "metadata": {},
   "outputs": [],
   "source": [
    "a_plot.layout.setRowMinimumHeight(0, 500) # idk...\n",
    "a_plot.layout.setRowPreferredHeight(1, 0) # nothing\n",
    "a_plot.layout.setRowPreferredHeight(2, 30) # the plot item\n",
    "a_plot.layout.setRowPreferredHeight(3, 0) \n",
    "a_plot.layout.setRowPreferredHeight(4, 0)"
   ]
  },
  {
   "cell_type": "code",
   "execution_count": null,
   "id": "9c1ca405",
   "metadata": {},
   "outputs": [],
   "source": [
    "# no clue why 2 is a good value for this...\n",
    "a_plot.titleLabel.setMaximumHeight(2)\n",
    "a_plot.layout.setRowFixedHeight(0, 2)\n",
    "\n",
    "## Could be the plot item size that should be changed?\n",
    "\n"
   ]
  },
  {
   "cell_type": "code",
   "execution_count": null,
   "id": "dc6d78c1",
   "metadata": {},
   "outputs": [],
   "source": [
    "# this gets rid of the annoying white bounding box in the ViewBox of the plot\n",
    "# a_plot.hideAxis('left') # Hide left border\n",
    "a_plot.hideAxis('right') # Hide right border\n",
    "# a_plot.hideAxis('top') # Hide top border\n",
    "a_plot.hideAxis('bottom') # Hide bottom border\n",
    "\n",
    "a_plot.showAxes('left')\n",
    "a_plot.showAxes('top')"
   ]
  },
  {
   "cell_type": "code",
   "execution_count": null,
   "id": "91970a33",
   "metadata": {},
   "outputs": [],
   "source": [
    "vb: pg.ViewBox = a_plot.getViewBox()\n",
    "# vb.background = pg.mkColor('red')\n",
    "# vb.border\n",
    "# vb.setBorder(None)\n",
    "vb.setBackgroundColor(pg.mkColor('red')) # works\n",
    "vb.setBackgroundColor(None)\n",
    "vb.setBorder(pg.mkPen('blue'))\n",
    "# vb.setXRange(\n",
    "vb.setYRange(0, 0.2, 0.0, update=True)"
   ]
  },
  {
   "cell_type": "markdown",
   "id": "828a2288",
   "metadata": {},
   "source": [
    "# 2024-01-23 - DirectionalMergedDecodersResult Experimentation"
   ]
  },
  {
   "cell_type": "code",
   "execution_count": 24,
   "id": "5834c657",
   "metadata": {},
   "outputs": [
    {
     "data": {
      "text/plain": [
       "[DynamicContainer({'p_x_given_n': array([[0.137922, 0.804595, 0.137922, ..., 0.137922, 0.137922, 0.137922],\n",
       "        [0.100723, 0.0537343, 0.100723, ..., 0.100723, 0.100723, 0.100723],\n",
       "        [0.383908, 0.113944, 0.383908, ..., 0.383908, 0.383908, 0.383908],\n",
       "        [0.377447, 0.0277264, 0.377447, ..., 0.377447, 0.377447, 0.377447]]), 'most_likely_positions_1D': None}),\n",
       " DynamicContainer({'p_x_given_n': array([[0.0141667, 0.0240653, 0.241183, ..., 0.574504, 0.914496, 0.284863],\n",
       "        [0.496916, 0.289229, 0.542768, ..., 0.130516, 0.00069208, 0.45874],\n",
       "        [0.111452, 0.204955, 0.0883903, ..., 0.225777, 0.0841941, 0.164572],\n",
       "        [0.377465, 0.481751, 0.127659, ..., 0.0692033, 0.000617693, 0.0918253]]), 'most_likely_positions_1D': None}),\n",
       " DynamicContainer({'p_x_given_n': array([[0.137922, 0.00329819, 8.04355e-05, ..., 0.137922, 0.448195, 0.29469],\n",
       "        [0.100723, 0, 0.000851256, ..., 0.100723, 0.102386, 0.16637],\n",
       "        [0.383908, 0.986452, 0.99532, ..., 0.383908, 0.288153, 0.405642],\n",
       "        [0.377447, 0.0102501, 0.00374831, ..., 0.377447, 0.161266, 0.133298]]), 'most_likely_positions_1D': None}),\n",
       " DynamicContainer({'p_x_given_n': array([[0.137922, 0.137922, 0.137922, 0.22603, 0.239955, 0.137922, 0.241183, 0.0043468, 2.04112e-06, 0.137922, 0.137922, 0.0699149, 0.0163047, 0.159008, 0.0877055, 0.041303, 0.137922, 7.30255e-05, 0.000606783, 0.101405, 0.137922, 0.00915302, 3.90096e-07, 0.0950496, 0.107578, 0.137922, 0.0109831, 0.974878, 0.660179, 0.137922, 0.00915302, 7.74337e-07, 0.0518499, 0.0743982, 0.00743094, 2.92687e-05, 0.258565, 0.000369586, 0.00603943, 0.00915302, 0.000130134, 0.0662294, 0.78741, 0.0656747, 0.000131762, 0.137922, 0.0431266, 0.0967704, 0.137922, 0.137922, 0.410292, 0.00666756, 0.754951, 0.137922, 0.368888, 0.00218528, 0.491442, 0.0115507, 0.134379, 0.309804, 0.801634, 0.999281, 0.658392, 0.0042192, 0.0332748, 0.00116382, 2.7207e-09, 0.293842, 0.296617, 0.345288, 3.12111e-06, 5.19131e-10, 0.0710704, 0.345288, 0.0623568, 3.4474e-10, 0.000450439, 0.400854, 0.400854, 0.000171524, 3.36405e-09, 0.00218843, 0.258287, 0.137922, 1.14771e-09, 0.0161683, 8.75251e-10, 0.000110023, 0.146166, 0.000204305, 0.000212092, 3.91705e-07, 0.0112013, 3.75705e-09, 0.000438243, 2.15793e-06, 0.0043654, 1.02917e-06, 4.49827e-05, 0.0408468, 0.160521, 1.76882e-05, 2.45543e-05, 0.0140358, 0.00471782, 0.00366593, 0.00417773, 5.73401e-07, 0.277524, 0.0944946, 0.00417773, 0.188944, 3.52566e-05, 0.137922, 0.0635534, 0.00417773, 0.00721022, 2.25011e-05, 0.0382452, 0.137922, 0.0198111, 0.00474809, 0.0140358, 0.146166, 0.627124, 0.000536802, 0.162455, 0.137922, 0.00417773, 0.0718007, 0.00017944, 0.857352, 0.108959, 0.108959, 9.75703e-07, 0.00246422, 0.00423998, 0.000678687, 0.000262866, 0.00400558, 0.00354314, 0.0163074, 4.1325e-05, 0.0100188, 0.0844652, 0.000492725, 0.0676576, 0.410292, 0.00788686, 0.000467167, 0.387657, 0.0344567, 0.0132805, 0.403505, 1.38177e-07, 0.0166496, 0.107607, 0.365481, 0.435457, 0.00256685, 0.85115, 0.140735, 0.179564, 0.000175646, 5.30273e-05, 0.394018, 0.137922, 0.125749, 6.75481e-06, 0.534449, 0.137922, 0.0250273, 2.76206e-06, 0.00341863, 0.00129876, 0.00125443, 0.00333616, 0.0482395, 0.998101, 0.189255, 3.19758e-05, 0.0134449, 0.179564, 0.771375, 0.346081, 0.00849516, 0.0497138, 0.624282, 0.376297, 0.0292876, 0.0259636, 0.588974, 0.586402, 0.144926, 0.000253398, 0.0286595, 0.125749, 0.279104, 0.125749, 0.126959, 0.253911, 0.00129556, 0.115339, 0.115339, 0.137922, 0.00929527, 0.000584294, 0.0140589, 0.0688497, 0.000519135, 0.0591506, 0.000904313, 0.137922, 0.000277337, 0.0134449, 0.00286279, 0.0268498, 0.354879, 0.00417616, 1.27821e-05, 0.137922, 0.15347, 0.255975, 0.179564, 0.0010897, 0.224964, 0.137013, 0.0629666, 0.0141667, 0.137013, 0.0422284, 0.137922, 0.115339, 0.000329337],\n",
       "        [0.100723, 0.100723, 0.100723, 0.118262, 0.274114, 0.100723, 0.542768, 0.841438, 0.999998, 0.100723, 0.100723, 0.917002, 0.983064, 0.617971, 0.868846, 0.798157, 0.100723, 0.99878, 0.99824, 0.822951, 0.100723, 0.989889, 1, 0.902763, 0.863324, 0.100723, 0.987397, 0.000502523, 0.00692717, 0.100723, 0.989889, 0.999991, 0.779604, 0.92542, 0.992538, 0.995637, 0.412828, 0.996307, 0.987313, 0.989889, 0.998209, 0.829248, 0.0831063, 0.724025, 0.983047, 0.100723, 0.925001, 0.81418, 0.100723, 0.100723, 0.268426, 0.980118, 0.0215098, 0.100723, 0.237877, 0.994754, 0.382509, 0.848895, 0.680962, 0.461907, 0.158804, 0.000718645, 0.0163876, 0.993135, 0.945651, 0.98063, 0.998191, 0.340337, 0.530806, 0.309847, 0.0246428, 0.993011, 0.585529, 0.309847, 0.632327, 0.994723, 0.981519, 0.206427, 0.206427, 0.95966, 0.917557, 0.907282, 0.590933, 0.100723, 0.983018, 0.800296, 0.999743, 0.87628, 0.653435, 0.986115, 0.172827, 0.952464, 0.965629, 0.977905, 0.943661, 0.175958, 0.84293, 0.989417, 0.982925, 0.523983, 0.224515, 0.999753, 0.872984, 0.883913, 0.946636, 0.982245, 0.992096, 0.955187, 0.453825, 0.812404, 0.992096, 0.00014762, 0.995685, 0.100723, 0.717855, 0.992096, 0.990308, 0.983479, 0.845083, 0.100723, 0.946424, 0.957643, 0.883913, 0.653435, 0.217082, 0.999238, 0.802008, 0.100723, 0.992096, 0.655509, 0.999791, 0.124644, 0.835418, 0.835418, 0.999999, 0.997536, 0.99516, 0.564113, 0.994974, 0.994952, 0.995353, 0.901829, 0.99995, 0.988719, 0.871537, 0.999435, 0.929406, 0.268426, 0.990503, 0.9995, 0.34142, 0.960232, 0.986591, 0.465292, 0.879578, 0.977025, 0.892381, 0.589849, 0.120935, 0.749418, 0.0265331, 0.83471, 0.714073, 0.577534, 0.897233, 0.036763, 0.100723, 0.554463, 0.538139, 0.465544, 0.100723, 0.718215, 0.711616, 0.995922, 0.0333375, 0.994278, 0.995309, 0.712872, 0.00155011, 0.182883, 0.999009, 0.844091, 0.714073, 0.125865, 0.469912, 0.816424, 0.73269, 0.171635, 0.190319, 0.902525, 0.924875, 0.259998, 0.159058, 0.555294, 0.0104546, 0.927987, 0.554463, 0.472874, 0.554463, 0.0971781, 0.474762, 0.892642, 0.526657, 0.526657, 0.100723, 0.867316, 0.000451831, 0.142123, 0.687841, 0.998015, 0.77168, 0.381351, 0.100723, 0.706302, 0.844091, 0.849233, 0.476864, 0.379325, 0.73566, 0.991988, 0.100723, 0.283298, 0.485831, 0.714073, 0.733354, 0.590187, 0.183226, 0.125627, 0.496916, 0.183226, 0.912233, 0.100723, 0.526657, 0.311623],\n",
       "        [0.383908, 0.383908, 0.383908, 0.382351, 0.113169, 0.383908, 0.0883903, 3.11159e-05, 4.68318e-12, 0.383908, 0.383908, 0.00359877, 2.76348e-06, 0.0448934, 0.0107866, 0.0353716, 0.383908, 1.49358e-07, 5.9158e-06, 0.0403909, 0.383908, 1.49972e-06, 2.7056e-14, 0.000102836, 0.00897734, 0.383908, 6.08142e-06, 0.0246192, 0.330805, 0.383908, 1.49972e-06, 4.60138e-11, 0.0230475, 6.19516e-05, 7.38113e-07, 7.46601e-08, 0.0733136, 9.84457e-05, 0.000130908, 1.49972e-06, 3.06979e-07, 0.0044858, 0.116014, 0.00311838, 7.028e-07, 0.383908, 0.0311947, 0.0449669, 0.383908, 0.383908, 0.217397, 0.012035, 0.221645, 0.383908, 0.0930432, 0.000692368, 0.115077, 3.55178e-05, 0.0316046, 0.0460901, 0.0377961, 0, 0.323017, 0.00125569, 0.00983226, 0.00206383, 3.01999e-19, 0.186695, 0.155433, 0.181522, 2.01272e-06, 4.02755e-19, 0.0184542, 0.181522, 0.0543745, 4.42884e-17, 0.000257974, 0.164271, 0.164271, 0.000235358, 7.73185e-10, 0.0013802, 0.0809878, 0.383908, 5.08631e-10, 0.0676325, 2.93817e-10, 2.85669e-05, 0.0142367, 3.59267e-05, 0.0173839, 4.9101e-05, 0.00187698, 1.64915e-18, 0.00012979, 5.1256e-05, 0.0075614, 4.97597e-07, 2.25382e-05, 0.333312, 0.102394, 1.09612e-07, 3.13367e-06, 0.00188848, 0.00180441, 0.00223796, 0.0010521, 6.10768e-06, 0.139779, 0.0172961, 0.0010521, 0.810908, 0.000159747, 0.383908, 0.17856, 0.0010521, 0.00159142, 1.12509e-05, 0.00432977, 0.383908, 0.00648612, 0.000636541, 0.00188848, 0.0142367, 0.150153, 0.000224769, 0.0307108, 0.383908, 0.0010521, 0.0214675, 2.96686e-05, 0.0180038, 0.0344815, 0.0344815, 3.91231e-07, 0, 0.000592506, 3.12084e-05, 1.67661e-05, 0.00104263, 0.000666035, 0.000292516, 8.52413e-06, 0.00126207, 0.0439977, 7.17612e-05, 0.00293617, 0.217397, 0.00159908, 2.81743e-05, 0.0631426, 0.00528096, 0.000120327, 0.00289263, 6.18372e-08, 0.00627186, 1.23887e-05, 0.026049, 0.337776, 0.00195507, 0.120649, 0.0215988, 0.0662951, 0.00431749, 0.00017996, 0.467431, 0.383908, 0.0952192, 1.86681e-06, 1.71738e-09, 0.383908, 0.0487658, 2.22897e-05, 5.36388e-08, 0.965331, 9.08851e-05, 0.000319572, 0.184161, 0.000349342, 0.617991, 1.87333e-06, 0.00995384, 0.0662951, 0.0948559, 0.133518, 0.0162492, 0.0656286, 0.204033, 0.38954, 0.02662, 0.0249763, 0.146707, 0.222425, 0.28858, 0.98465, 0.0322432, 0.0952192, 0.0620191, 0.0952192, 0.762028, 0.271325, 0.000351824, 0.15463, 0.15463, 0.383908, 0.0942716, 0.998936, 0.0661892, 0.178531, 0.000156833, 0.0394005, 0.604814, 0.383908, 0.00150672, 0.00995384, 0.00257426, 0.446211, 0.216312, 0.0230505, 1.02975e-06, 0.383908, 0.396496, 0.252742, 0.0662951, 0.00602335, 0.0996783, 0.614792, 0.794308, 0.111452, 0.614792, 0.0199257, 0.383908, 0.15463, 0.588147],\n",
       "        [0.377447, 0.377447, 0.377447, 0.273358, 0.372762, 0.377447, 0.127659, 0.154184, 1.02489e-07, 0.377447, 0.377447, 0.0094841, 0.00062821, 0.178128, 0.032662, 0.125168, 0.377447, 0.0011464, 0.00114709, 0.0352529, 0.377447, 0.000956081, 3.85438e-10, 0.00208422, 0.0201205, 0.377447, 0.00161408, 4.64317e-07, 0.00208964, 0.377447, 0.000956081, 8.59527e-06, 0.145499, 0.000119307, 3.04086e-05, 0.00433355, 0.255293, 0.00322484, 0.00651627, 0.000956081, 0.00166105, 0.100037, 0.01347, 0.207182, 0.0168201, 0.377447, 0.000678023, 0.0440832, 0.377447, 0.377447, 0.103884, 0.00117955, 0.00189433, 0.377447, 0.300192, 0.0023685, 0.0109723, 0.139519, 0.153055, 0.182199, 0.00176623, 5.60677e-11, 0.00220369, 0.00138978, 0.0112424, 0.0161428, 0.00180871, 0.179126, 0.0171436, 0.163343, 0.975352, 0.00698935, 0.324946, 0.163343, 0.250942, 0.00527735, 0.0177729, 0.228449, 0.228449, 0.0399328, 0.082443, 0.0891498, 0.0697926, 0.377447, 0.0169825, 0.115903, 0.000256593, 0.123581, 0.186163, 0.0136451, 0.809577, 0.0474862, 0.0212928, 0.0220946, 0.0557712, 0.823989, 0.145143, 0.010582, 0.0170078, 0.101858, 0.51257, 0.000229182, 0.126988, 0.100163, 0.0468414, 0.0118508, 0.00267393, 0.0448068, 0.128873, 0.0758048, 0.00267393, 4.72768e-07, 0.00412048, 0.377447, 0.040032, 0.00267393, 0.000890062, 0.0164875, 0.112342, 0.377447, 0.0272788, 0.0369722, 0.100163, 0.186163, 0.00564108, 0, 0.00482677, 0.377447, 0.00267393, 0.251222, 0, 9.2256e-09, 0.0211406, 0.0211406, 0, 0, 7.04536e-06, 0.435178, 0.00474659, 0, 0.000438284, 0.0815709, 0, 0, 0, 2.55672e-07, 0, 0.103884, 1.10647e-05, 4.96888e-06, 0.207781, 3.04461e-05, 8.14726e-06, 0.12831, 0.120422, 5.32919e-05, 5.04251e-08, 0.0186202, 0.105832, 0.24606, 0.00166848, 0.00295621, 0.0400679, 0.417973, 0.102534, 0.101788, 0.377447, 0.224568, 0.461852, 7.28306e-06, 0.377447, 0.207992, 0.288359, 0.000659249, 3.32642e-05, 0.004377, 0.00103529, 0.0547267, 5.23105e-09, 0.00987121, 0.000957561, 0.13251, 0.0400679, 0.00790395, 0.0504892, 0.158832, 0.151968, 4.96912e-05, 0.0438447, 0.0415677, 0.0241852, 0.00432075, 0.0321152, 0.0112, 0.00464213, 0.0111098, 0.224568, 0.186002, 0.224568, 0.0138342, 1.57559e-06, 0.105711, 0.203374, 0.203374, 0.377447, 0.0291172, 2.79853e-05, 0.777629, 0.0647782, 0.00130949, 0.129769, 0.0129306, 0.377447, 0.291914, 0.13251, 0.14533, 0.050076, 0.0494834, 0.237113, 0.00799854, 0.377447, 0.166736, 0.00545129, 0.0400679, 0.259533, 0.0851701, 0.0649696, 0.0170987, 0.377465, 0.0649696, 0.0256127, 0.377447, 0.203374, 0.0999008]]), 'most_likely_positions_1D': None}),\n",
       " DynamicContainer({'p_x_given_n': array([[0.0994328, 0.993813, 0.375644, 0.183052, 0.974817, 0.99976, 0.248218, 0.966046, 0.966046, 0.948162, 0.928564, 0.95277, 0.937263, 0.966046, 0.933931, 0.0198111, 0.966046, 0.888471, 0.708836, 0.725924, 0.153901, 0.966046, 0.937244, 0.762042, 0.0368672, 0.842289, 0.243746, 0.83557, 0.851728, 0.766237, 0.359151, 0.405798, 0.442009, 0.201684, 0.00845248, 0.393361, 0.088928, 0.366539, 0.721913, 0.843853, 0.17028, 0.926945, 0.400854, 0.852266, 0.614262, 0.673902, 0.461294, 0.853591, 0.568436, 0.560307, 0.137922, 0.137922, 0.9032, 0.954046, 0.737058, 0.65267, 0.137922, 0.786972, 0.94892, 0.723771, 0.65267, 0.137922, 0.560307, 0.648613, 0.243437, 0.137922, 0.65267, 0.846258, 0.701859, 0.707577, 0.137922, 0.137922, 0.622716, 0.951525, 0.754951, 0.137922, 0.560307, 0.22603, 0.775885, 0.634014, 0.560307, 0.622716, 0.137922, 0.293842, 0.787836, 0.622716, 0.418974, 0.137922, 0.502785, 0.680792, 0.710312, 0.701809, 0.570261, 0.594861, 0.611421, 0.611421, 0.137922, 0.574244, 0.258565, 0.137922, 0.638139, 0.638139, 0.137922, 0.638139, 0.599415, 0.783317, 0.137922, 0.137922, 0.764828, 0.354212, 0.882251, 0.582173, 0.638139, 0.55032, 0.304809, 0.736285, 0.622716, 0.137922, 0.78296, 0.552848, 0.137922, 0.137922, 0.137922, 0.00077186, 1.08062e-06, 0.137922, 0.638139, 0.84801, 0.129949, 0.582173, 0.582173, 0.811619, 0.410292, 0.680107, 0.830497, 0.137922, 0.16585, 0.22603, 0.582173, 0.137922, 0.137922, 0.410292, 0.410292, 0.553247, 0.137922, 0.657207, 0.137922, 0.410292, 0.55032, 0.137922, 0.762777, 0.524357, 0.130225, 0.137922, 0.762777, 0.137922, 0.137922, 0.448195, 0.643914, 0.137922, 0.582173, 0.33489, 0.0100837, 0.395402, 0.55032, 0.137922, 0.137922, 0.475619, 0.451695, 0.232625, 0.137922, 0.137922, 0.257157, 0.101793, 0.137922, 0.137922, 0.638139, 0.259421, 0.137922, 0.239955, 0.29469, 0.137922, 0.232625, 0.232625, 0.401482, 0.137922, 0.137922, 0.258565, 0.360391, 0.137922, 0.0749887, 0.137922, 0.0749887, 0.00156339, 0.410292, 0.137922, 0.137922, 0.137922, 0.137922, 0.137922, 0.137922, 0.29469, 0.137922, 0.137922, 0.0773732, 0.0749887, 0.29469, 0.137922, 0.0107713, 0.137922, 0.0752794, 0.137922, 0.137922],\n",
       "        [0.0132746, 2.02346e-05, 0.476941, 0.0653266, 0.000139962, 4.44123e-07, 0.724275, 0.00377783, 0.00377783, 4.59697e-05, 0.00140384, 0.000162347, 0.00123669, 0.00377783, 9.71922e-05, 0.946424, 0.00377783, 0.00428749, 0.000155467, 0.00761067, 2.41251e-05, 0.00377783, 0.0165536, 0.00869617, 0.3924, 0.0022148, 0.00184595, 0.0396411, 0.00915815, 0.000229197, 1.18116e-05, 0.0696081, 3.43972e-06, 0.0912311, 0.849637, 0.0170359, 2.08622e-11, 0.347089, 4.75853e-06, 1.83947e-05, 0.000131279, 0.00220225, 0.206427, 0.0391711, 0.0459157, 0.14585, 0.0126096, 2.72349e-05, 9.97106e-07, 0.0477879, 0.100723, 0.100723, 0.00109305, 0.000288017, 8.20356e-06, 0.109608, 0.100723, 0.00441955, 0.000689307, 3.01039e-06, 0.109608, 0.100723, 0.0477879, 0.00730961, 0.512807, 0.100723, 0.109608, 4.27937e-05, 0.0012885, 0.000633679, 0.100723, 0.100723, 0.0590801, 0.00611726, 0.0215098, 0.100723, 0.0477879, 0.118262, 7.1909e-06, 0.0551941, 0.0477879, 0.0590801, 0.100723, 0.340337, 0.00160398, 0.0590801, 0.302146, 0.100723, 0.0790874, 0.00630375, 0.0463255, 0.0107479, 0.0177177, 0.0917106, 0.261754, 0.261754, 0.100723, 0.163637, 0.412828, 0.100723, 0.155754, 0.155754, 0.100723, 0.155754, 0.241575, 0.00249313, 0.100723, 0.100723, 0.178142, 0.271181, 0.00102719, 0.0430916, 0.155754, 0.119575, 0.540714, 0.165042, 0.0590801, 0.100723, 0.121139, 0.0686595, 0.100723, 0.100723, 0.100723, 0.999225, 0.999996, 0.100723, 0.155754, 1.6777e-05, 0.240458, 0.0430916, 0.0430916, 0.00858299, 0.268426, 0.00946017, 3.54905e-05, 0.100723, 0.000492887, 0.118262, 0.0430916, 0.100723, 0.100723, 0.268426, 0.268426, 0.126803, 0.100723, 0.0216442, 0.100723, 0.268426, 0.119575, 0.100723, 0.0155621, 0.352196, 0.792848, 0.100723, 0.0155621, 0.100723, 0.100723, 0.102386, 0.0864873, 0.100723, 0.0430916, 0.327782, 0.987172, 0.457061, 0.119575, 0.100723, 0.100723, 0.0655288, 0.174865, 0.0279348, 0.100723, 0.100723, 0.0987533, 0.866824, 0.100723, 0.100723, 0.155754, 0.062162, 0.100723, 0.274114, 0.16637, 0.100723, 0.0279348, 0.0279348, 0.18881, 0.100723, 0.100723, 0.412828, 0.0943706, 0.100723, 0.0166165, 0.100723, 0.0166165, 0.000140347, 0.268426, 0.100723, 0.100723, 0.100723, 0.100723, 0.100723, 0.100723, 0.16637, 0.100723, 0.100723, 0.0380187, 0.0166165, 0.16637, 0.100723, 0.000370689, 0.100723, 0.013524, 0.100723, 0.100723],\n",
       "        [0.123991, 0.00616638, 0.0460016, 0.312698, 0.0243824, 0.000238666, 0.0161846, 0.0299427, 0.0299427, 0.0517168, 0.0698752, 0.0469905, 0.061101, 0.0299427, 0.0659716, 0.00648612, 0.0299427, 0.094718, 0.290709, 0.265119, 0.845652, 0.0299427, 0.0457198, 0.226961, 0.0940095, 0.151848, 0.752518, 0.123463, 0.137869, 0.231992, 0.640807, 0.488034, 0.557857, 0.622824, 0.0167004, 0.584975, 0.911072, 0.171326, 0.277898, 0.156022, 0.829492, 0.0707718, 0.164271, 3.11762e-07, 0.286341, 0.165885, 0.517551, 0.145079, 0.431401, 0.31201, 0.383908, 0.383908, 0.0949732, 0.0455153, 0.262933, 0.184693, 0.383908, 0.203017, 0.0480961, 0.276135, 0.184693, 0.383908, 0.31201, 0.330113, 0.133751, 0.383908, 0.184693, 0.150558, 0.295031, 0.291767, 0.383908, 0.383908, 0.289518, 0.0423517, 0.221645, 0.383908, 0.31201, 0.382351, 0.224098, 0.29278, 0.31201, 0.289518, 0.383908, 0.186695, 0.210253, 0.289518, 0.12225, 0.383908, 0.37721, 0.307927, 0.203966, 0.267117, 0.373975, 0.285298, 0.0979992, 0.0979992, 0.383908, 0.161176, 0.0733136, 0.383908, 0.0986743, 0.0986743, 0.383908, 0.0986743, 0.0591953, 0.213842, 0.383908, 0.383908, 0.00824635, 0.186723, 0.116425, 0.356297, 0.0986743, 0.214383, 0.0278464, 0.0295397, 0.289518, 0.383908, 0.0670644, 0.210623, 0.383908, 0.383908, 0.383908, 1.51962e-10, 1.79135e-09, 0.383908, 0.0986743, 0.151972, 0.0994556, 0.356297, 0.356297, 0.174806, 0.217397, 0.308718, 0.169467, 0.383908, 0.828551, 0.382351, 0.356297, 0.383908, 0.383908, 0.217397, 0.217397, 0.0715704, 0.383908, 0.305468, 0.383908, 0.217397, 0.214383, 0.383908, 0.215311, 0.0394942, 0.0203478, 0.383908, 0.215311, 0.383908, 0.383908, 0.288153, 0.187107, 0.383908, 0.356297, 0.12854, 2.54155e-05, 0.0960314, 0.214383, 0.383908, 0.383908, 0.419018, 0.239622, 0.707084, 0.383908, 0.383908, 0.336686, 0.00350279, 0.383908, 0.383908, 0.0986743, 0.425545, 0.383908, 0.113169, 0.405642, 0.383908, 0.707084, 0.707084, 0.169708, 0.383908, 0.383908, 0.0733136, 0.211043, 0.383908, 0.0669673, 0.383908, 0.0669673, 0.00130307, 0.217397, 0.383908, 0.383908, 0.383908, 0.383908, 0.383908, 0.383908, 0.405642, 0.383908, 0.383908, 0.0491153, 0.0669673, 0.405642, 0.383908, 0.00964563, 0.383908, 0.046715, 0.383908, 0.383908],\n",
       "        [0.763301, 5.77066e-08, 0.101413, 0.438923, 0.000660611, 9.37589e-07, 0.0113229, 0.000233712, 0.000233712, 7.549e-05, 0.00015744, 7.71934e-05, 0.000399671, 0.000233712, 3.97732e-08, 0.0272788, 0.000233712, 0.012524, 0.000299207, 0.00134632, 0.00042314, 0.000233712, 0.000482076, 0.00229995, 0.476724, 0.0036491, 0.00188937, 0.00132576, 0.00124536, 0.00154221, 3.05813e-05, 0.03656, 0.000130736, 0.0842601, 0.12521, 0.0046285, 6.23131e-10, 0.115046, 0.000184352, 0.000107288, 9.62209e-05, 8.06846e-05, 0.228449, 0.108562, 0.0534816, 0.0143629, 0.00854543, 0.00130207, 0.000162592, 0.0798953, 0.377447, 0.377447, 0.000733951, 0.000150845, 4.07139e-07, 0.0530296, 0.377447, 0.00559057, 0.0022948, 9.14918e-05, 0.0530296, 0.377447, 0.0798953, 0.0139638, 0.110005, 0.377447, 0.0530296, 0.00314098, 0.00182191, 2.18196e-05, 0.377447, 0.377447, 0.0286859, 5.5652e-06, 0.00189433, 0.377447, 0.0798953, 0.273358, 9.42639e-06, 0.0180117, 0.0798953, 0.0286859, 0.377447, 0.179126, 0.000306601, 0.0286859, 0.156631, 0.377447, 0.0409174, 0.00497758, 0.0393973, 0.0203261, 0.038046, 0.0281305, 0.0288262, 0.0288262, 0.377447, 0.100943, 0.255293, 0.377447, 0.107432, 0.107432, 0.377447, 0.107432, 0.0998152, 0.000347669, 0.377447, 0.377447, 0.0487835, 0.187884, 0.000296925, 0.0184379, 0.107432, 0.115722, 0.126631, 0.069133, 0.0286859, 0.377447, 0.0288369, 0.167869, 0.377447, 0.377447, 0.377447, 2.81235e-06, 3.22057e-06, 0.377447, 0.107432, 1.46277e-06, 0.530137, 0.0184379, 0.0184379, 0.00499197, 0.103884, 0.00171453, 1.14865e-06, 0.377447, 0.00510597, 0.273358, 0.0184379, 0.377447, 0.377447, 0.103884, 0.103884, 0.248379, 0.377447, 0.0156801, 0.377447, 0.103884, 0.115722, 0.377447, 0.0063497, 0.0839526, 0.0565794, 0.377447, 0.0063497, 0.377447, 0.377447, 0.161266, 0.0824913, 0.377447, 0.0184379, 0.208788, 0.00271922, 0.0515055, 0.115722, 0.377447, 0.377447, 0.0398347, 0.133818, 0.0323562, 0.377447, 0.377447, 0.307404, 0.0278806, 0.377447, 0.377447, 0.107432, 0.252872, 0.377447, 0.372762, 0.133298, 0.377447, 0.0323562, 0.0323562, 0.239999, 0.377447, 0.377447, 0.255293, 0.334195, 0.377447, 0.841427, 0.377447, 0.841427, 0.996993, 0.103884, 0.377447, 0.377447, 0.377447, 0.377447, 0.377447, 0.377447, 0.133298, 0.377447, 0.377447, 0.835493, 0.841427, 0.133298, 0.377447, 0.979212, 0.377447, 0.864481, 0.377447, 0.377447]]), 'most_likely_positions_1D': None}),\n",
       " DynamicContainer({'p_x_given_n': array([[0.137922, 0.137922, 0.137922, ..., 0.0559665, 0.115339, 0.0010897],\n",
       "        [0.100723, 0.100723, 0.100723, ..., 0.631511, 0.526657, 0.733354],\n",
       "        [0.383908, 0.383908, 0.383908, ..., 0.156064, 0.15463, 0.00602335],\n",
       "        [0.377447, 0.377447, 0.377447, ..., 0.156458, 0.203374, 0.259533]]), 'most_likely_positions_1D': None}),\n",
       " DynamicContainer({'p_x_given_n': array([[0.234331, 0.0128837, 0.0555581, 0.295079, 0.276818, 0.258565, 0.0488431, 0.0128837, 0.105693, 0.179564, 0.239955, 0.239955, 0.323297, 0.288994, 0.48106, 0.57283, 0.642705, 0.506944, 0.509895, 0.57283, 0.137922, 0.734905, 0.137922, 0.137922, 0.137922, 0.258565, 0.394221, 0.856118, 0.555406, 0.137922, 0.57283, 0.599065, 0.617317, 0.137922, 0.599065, 0.599065, 0.258565, 0.239955, 0.999999, 0.66239, 0.137922, 0.258565, 0.137922, 0.137922, 0.293842, 0.288994, 0.239955, 0.137922, 0.999999, 0.998299, 0.137922, 0.578356, 0.791189, 0.999494, 0.137922, 0.622716, 0.756762, 0.999999, 0.879591, 0.972686, 0.644817, 0.999553, 0.239955, 0.995757, 0.402158, 0.396476, 0.890595, 0.248218, 0.141973, 0.385707, 0.842289, 0.791624, 0.997973, 0.285514, 0.747971, 0.830331, 0.97651, 0.859487, 0.639813, 0.248218, 0.681798, 0.992692, 0.762042, 0.0526986, 0.137922, 0.913583, 0.807613, 0.400854, 0.890986, 0.855905, 0.635058, 0.400854, 0.938618, 0.853892, 0.0519959, 0.400854, 0.00962402, 2.10578e-07, 0.373776, 0.366539, 0.400854, 0.264669, 0.669636, 0.345288, 0.578356, 0.589731, 0.636247, 0.757989, 0.762042, 0.777196, 0.708047, 0.595023, 0.824942, 0.284863, 0.582173, 0.480503, 0.725557, 0.66383, 0.827581, 0.719914, 0.593053, 0.708991, 0.527074, 0.137922, 0.137922, 0.560307, 0.841235, 0.682431, 0.560307, 0.137922, 0.701859, 0.839454, 0.137922, 0.137922, 0.560307, 0.433265, 0.783999, 0.137922, 0.560307, 0.137922, 0.701809, 0.655357, 0.137922, 0.137922, 0.137922, 0.622716, 0.787836, 0.137922, 0.660179, 0.701809, 0.594861, 0.634014, 0.65267, 0.594861, 0.811821, 0.137922, 0.638139, 0.652878, 0.5416, 0.137922, 0.638139, 0.911231, 0.546298, 0.137922, 0.962764, 0.958994, 0.00132484, 0.772717, 0.756762, 0.638139, 0.957225, 0.604904, 0.999454, 0.962764, 0.905626, 0.982474, 0.933921, 0.905626, 0.89764, 0.519676, 0.892177, 0.137922, 0.905626, 0.980285, 0.587547, 0.778402, 0.69386, 0.693972, 0.137922, 0.604904, 0.406175, 0.582173, 0.693972, 0.137922, 0.22603, 0.564305, 0.693972, 0.137922, 0.259421, 0.284863, 0.867242, 0.773809, 0.693972, 0.55032, 0.137922, 0.137922, 0.57655, 0.745018, 0.582173, 0.232625, 0.822186, 0.192163, 0.55032, 0.745018, 0.745018, 0.858975, 0.144241, 0.232625, 0.137922, 0.137922, 0.137922, 0.319444, 0.232625, 0.137922, 0.389973, 0.363278, 0.137922, 0.101793, 0.211643, 0.137922],\n",
       "        [0.420917, 0.984056, 0.925933, 0.63942, 0.615669, 0.412828, 0.943773, 0.984056, 0.584984, 0.714073, 0.274114, 0.274114, 0.356068, 0.248811, 0.0130842, 0.0743205, 0.014109, 0.107657, 0.175858, 0.0743205, 0.100723, 0.110002, 0.100723, 0.100723, 0.100723, 0.412828, 0.367788, 0.0539969, 0.000126984, 0.100723, 0.0743205, 0.146831, 0.271952, 0.100723, 0.146831, 0.146831, 0.412828, 0.274114, 1.00983e-06, 0.134635, 0.100723, 0.412828, 0.100723, 0.100723, 0.340337, 0.248811, 0.274114, 0.100723, 8.16331e-07, 0.000264445, 0.100723, 0.0213249, 5.49688e-07, 0.000506159, 0.100723, 0.0590801, 0.0449206, 3.84041e-07, 0.0382121, 0.00230306, 2.89194e-07, 1.09865e-06, 0.274114, 0.000157683, 6.97294e-15, 2.63474e-10, 0.078773, 0.724275, 2.30613e-10, 2.84983e-10, 0.0022148, 0.000465572, 0.0015051, 0.00202457, 1.00133e-05, 0.0311583, 0.022496, 0.000553713, 0.00965842, 0.724275, 0.182696, 4.71458e-05, 0.00869617, 0.928853, 0.100723, 0.00325666, 0.00646647, 0.206427, 2.74677e-06, 0.0167499, 0.000231429, 0.206427, 7.11273e-08, 0.00534548, 0.913337, 0.206427, 0.00491962, 0.985796, 0.320779, 0.347089, 0.206427, 0.00798949, 0.0411823, 0.309847, 0.0213249, 0.0117419, 0.0380672, 0.00235612, 0.00869617, 0.0167353, 0.00182764, 0.00905241, 0.000775629, 0.45874, 0.0430916, 6.07714e-05, 5.14038e-05, 2.43068e-05, 0.00795978, 0.0713552, 0.000989886, 0.00157236, 0.00334606, 0.100723, 0.100723, 0.0477879, 3.81921e-06, 0.0122707, 0.0477879, 0.100723, 0.0012885, 0.00026394, 0.100723, 0.100723, 0.0477879, 0.162823, 0.000116423, 0.100723, 0.0477879, 0.100723, 0.0107479, 0.181374, 0.100723, 0.100723, 0.100723, 0.0590801, 0.00160398, 0.100723, 0.00692717, 0.0107479, 0.0917106, 0.0551941, 0.109608, 0.0917106, 0.0382317, 0.100723, 0.155754, 0.0483966, 0.0413924, 0.100723, 0.155754, 0.00878941, 0.019154, 0.100723, 0.00046903, 0.0110037, 0.945026, 6.79055e-06, 0.0449206, 0.155754, 0.00152106, 0.0913383, 3.29425e-06, 0.00046903, 0.000608635, 0.000491664, 0.0122651, 0.000608635, 0.0135228, 0.00182, 0.000274695, 0.100723, 0.000608635, 0.000565438, 0.0452871, 0.000409488, 0.0180867, 0.00492564, 0.100723, 0.0913383, 0.0358254, 0.0430916, 0.00492564, 0.100723, 0.118262, 0.361932, 0.00492564, 0.100723, 0.062162, 0.45874, 0.0276093, 0.104917, 0.00492564, 0.119575, 0.100723, 0.100723, 0.112812, 0.0701286, 0.0430916, 0.0279348, 0.115435, 0.0393991, 0.119575, 0.0701286, 0.0701286, 0.0605759, 0.825845, 0.0279348, 0.100723, 0.100723, 0.100723, 0.000384262, 0.0279348, 0.100723, 0.0664098, 0.132232, 0.100723, 0.866824, 0.734406, 0.100723],\n",
       "        [0.0505999, 0.0029475, 0.0162361, 0.037581, 0.0430551, 0.0733136, 0.00727461, 0.0029475, 0.0162967, 0.0662951, 0.113169, 0.113169, 0.0650461, 0.254179, 0.50247, 0.279092, 0.312731, 0.236799, 0.276726, 0.279092, 0.383908, 0.0986509, 0.383908, 0.383908, 0.383908, 0.0733136, 0.117385, 0.0768649, 0.442227, 0.383908, 0.279092, 0.185144, 0.0857134, 0.383908, 0.185144, 0.185144, 0.0733136, 0.113169, 0, 0.159127, 0.383908, 0.0733136, 0.383908, 0.383908, 0.186695, 0.254179, 0.113169, 0.383908, 0, 0.00107657, 0.383908, 0.378774, 0.208774, 0, 0.383908, 0.289518, 0.167678, 0, 0.0569899, 0.0236625, 0.355169, 0.000445397, 0.113169, 0.00408481, 0.597842, 0.603521, 0.0165462, 0.0161846, 0.858027, 0.614292, 0.151848, 0.207511, 0.000520952, 0.286663, 0.251891, 0.129456, 0.000554646, 0.13995, 0.330022, 0.0161846, 0.126021, 0.00726024, 0.226961, 0.0154865, 0.383908, 0.082982, 0.184579, 0.164271, 0.10901, 0.127161, 0.363076, 0.164271, 0.061382, 0.138434, 0.0075214, 0.164271, 0.467268, 9.47144e-08, 0.153134, 0.171326, 0.164271, 0.722443, 0.266949, 0.181522, 0.378774, 0.372437, 0.277949, 0.237726, 0.226961, 0.200742, 0.265757, 0.380502, 0.174106, 0.164572, 0.356297, 0.518974, 0.272636, 0.336116, 0.129948, 0.178075, 0.401403, 0.28861, 0.455505, 0.383908, 0.383908, 0.31201, 0.158761, 0.300257, 0.31201, 0.383908, 0.295031, 0.159495, 0.383908, 0.383908, 0.31201, 0.238779, 0.215884, 0.383908, 0.31201, 0.383908, 0.267117, 0.120953, 0.383908, 0.383908, 0.383908, 0.289518, 0.210253, 0.383908, 0.330805, 0.267117, 0.285298, 0.29278, 0.184693, 0.285298, 0.133265, 0.383908, 0.0986743, 0.262551, 0.396862, 0.383908, 0.0986743, 0.0742118, 0.431103, 0.383908, 0.0364186, 0.0247126, 3.90947e-06, 0.227253, 0.167678, 0.0986743, 0.038922, 0.20018, 0.000538414, 0.0364186, 0.0926761, 0.0168952, 0.0426869, 0.0926761, 0.0781367, 0.477767, 0.107426, 0.383908, 0.0926761, 0.0189698, 0.346163, 0.0610809, 0.275335, 0.300303, 0.383908, 0.20018, 0.393304, 0.356297, 0.300303, 0.383908, 0.382351, 0.00811316, 0.300303, 0.383908, 0.425545, 0.164572, 0.0229572, 0.107644, 0.300303, 0.214383, 0.383908, 0.383908, 0.101602, 0.138012, 0.356297, 0.707084, 0.038641, 0.646784, 0.214383, 0.138012, 0.138012, 0.0417891, 0.00868143, 0.707084, 0.383908, 0.383908, 0.383908, 0.675862, 0.707084, 0.383908, 0.418739, 0.251592, 0.383908, 0.00350279, 0.0206432, 0.383908],\n",
       "        [0.294153, 0.000113187, 0.00227243, 0.02792, 0.0644576, 0.255293, 0.000109372, 0.000113187, 0.293026, 0.0400679, 0.372762, 0.372762, 0.255589, 0.208016, 0.0033864, 0.0737571, 0.0304552, 0.1486, 0.0375205, 0.0737571, 0.377447, 0.0564422, 0.377447, 0.377447, 0.377447, 0.255293, 0.120606, 0.0130199, 0.0022402, 0.377447, 0.0737571, 0.0689596, 0.0250173, 0.377447, 0.0689596, 0.0689596, 0.255293, 0.372762, 2.11638e-10, 0.043848, 0.377447, 0.255293, 0.377447, 0.377447, 0.179126, 0.208016, 0.372762, 0.377447, 4.44941e-08, 0.000359704, 0.377447, 0.0215449, 3.67812e-05, 3.96399e-08, 0.377447, 0.0286859, 0.0306392, 1.28392e-07, 0.0252074, 0.00134887, 1.42932e-05, 9.33125e-07, 0.372762, 5.41087e-08, 6.09611e-10, 2.53913e-06, 0.0140855, 0.0113229, 4.08168e-11, 7.35315e-07, 0.0036491, 0.000399286, 9.55782e-07, 0.425798, 0.000127922, 0.00905421, 0.000439652, 8.65276e-06, 0.0205069, 0.0113229, 0.00948571, 2.52813e-07, 0.00229995, 0.00296216, 0.377447, 0.000178191, 0.0013414, 0.228449, 1.1131e-06, 0.000184188, 0.00163451, 0.228449, 5.65025e-10, 0.00232844, 0.0271452, 0.228449, 0.518188, 0.0142036, 0.152311, 0.115046, 0.228449, 0.00489867, 0.0222332, 0.163343, 0.0215449, 0.0260908, 0.0477371, 0.00192822, 0.00229995, 0.00532691, 0.0243683, 0.0154228, 0.000175596, 0.0918253, 0.0184379, 0.000461799, 0.00175486, 2.98001e-05, 0.034511, 0.0306557, 0.00455405, 0.000827293, 0.0140742, 0.377447, 0.377447, 0.0798953, 3.85783e-08, 0.00504096, 0.0798953, 0.377447, 0.00182191, 0.000787077, 0.377447, 0.377447, 0.0798953, 0.165133, 3.84348e-07, 0.377447, 0.0798953, 0.377447, 0.0203261, 0.0423173, 0.377447, 0.377447, 0.377447, 0.0286859, 0.000306601, 0.377447, 0.00208964, 0.0203261, 0.0281305, 0.0180117, 0.0530296, 0.0281305, 0.0166825, 0.377447, 0.107432, 0.0361743, 0.0201453, 0.377447, 0.107432, 0.00576784, 0.0034457, 0.377447, 0.000348539, 0.0052898, 0.0536455, 2.36774e-05, 0.0306392, 0.107432, 0.0023324, 0.103578, 4.07372e-06, 0.000348539, 0.00108963, 0.000139644, 0.0111265, 0.00108963, 0.0107, 0.000737182, 0.000122679, 0.377447, 0.00108963, 0.000179519, 0.0210021, 0.160107, 0.0127183, 0.000799866, 0.377447, 0.103578, 0.164696, 0.0184379, 0.000799866, 0.377447, 0.273358, 0.0656501, 0.000799866, 0.377447, 0.252872, 0.0918253, 0.0821917, 0.0136297, 0.000799866, 0.115722, 0.377447, 0.377447, 0.209036, 0.0468422, 0.0184379, 0.0323562, 0.0237385, 0.121654, 0.115722, 0.0468422, 0.0468422, 0.0386597, 0.0212325, 0.0323562, 0.377447, 0.377447, 0.377447, 0.00430904, 0.0323562, 0.377447, 0.124878, 0.252898, 0.377447, 0.0278806, 0.0333076, 0.377447]]), 'most_likely_positions_1D': None}),\n",
       " DynamicContainer({'p_x_given_n': array([[0.137922, 0.137922, 0.137922, 0.137922, 0.137922, 0.137922, 0.137922, 0.137922, 0.137922, 0.137922, 0.354212, 0.38379, 0.0701733, 2.16848e-07, 0.0639249, 0.363278, 0.0047327, 7.74337e-07, 0.827841, 0.137922, 0.363278, 0.333048, 0.00133309, 0.0147808, 0.333048, 0.0628235, 2.44484e-09, 0.0229355, 0.293648, 0.333048, 0.000539989, 0.0639249, 0.275609, 0.255263, 0.638139, 0.333048, 0.217976, 0.108035, 0.0239669, 0.254096, 0.0240055, 0.137922, 0.00445685, 0.031631, 0.258565, 0.315651, 0.0955231, 0.798757, 0.137922, 0.137922, 0.030587, 0.00160496, 0.000704152, 0.0897874, 0.335425, 0.000879332, 0.00926103, 0.0897874, 0.128191, 0.0540977, 0.258287, 1.83351e-09, 0.385206, 0.0623568, 0.247723, 0.000438243, 0.00429468, 0.000936257, 0.00295407, 0.0023626, 1.2746e-11, 6.96914e-05, 0.400854, 0.320806, 0.0409031, 9.5892e-07, 0.000251902, 0.137922, 0.0382452, 0.00040186, 4.3772e-10, 0.168301, 0.000298104, 0.00067572, 2.38361e-06, 0.0718007, 0.762042, 0.176036, 0.146166, 6.70256e-05, 0.000180113, 0.491442, 4.08885e-06, 3.71412e-07, 0.243621, 0.000180113, 7.6934e-05, 0.000438243, 0.000401385, 0.000787379, 0.108959, 0.000738862, 0.0140358, 0.0140306, 0.108959, 0.0140358, 2.05679e-06, 0.361426, 0.108959, 0.493184, 0.25962, 0.330493, 0.274038, 0.108959, 0.108959, 0.137922, 0.108959, 0.00417773, 0.146166, 0.137922, 0.938758, 0.137922, 2.01051e-05, 0.00168331, 0.000405231, 0.00383135, 0.137922, 0.00640632, 0.000487407, 0.00100559, 0.509895, 4.51194e-07, 0.138424, 0.00179244, 0.000857805, 0.0565159, 0.0389631, 0.173186, 0.00106309, 0.00332222, 0.00423998, 0.0555581, 0.0254225, 2.27495e-09, 0.509895, 0.0664732, 0.0804537, 0.000351908, 0.289759, 0.125749, 0.125749, 3.83109e-05, 0.000968477, 0.346242, 0.137922, 0.000389601, 0.0420966, 0.861445, 0.0126875, 1.75606e-06, 0.0014668, 0.0304628, 0.354804, 4.67071e-05, 1.26296e-05, 0.125749, 0.308454, 0.593981, 0.000590007, 0.118436, 0.00118991, 0.737803, 0.086038, 0.05127, 0.115339, 0.132339, 0.00514163, 0.137922, 0.02348, 0.00149069, 0.0134449, 0.00418437, 0.00157974, 0.0015735, 0.0250273, 0.0167644, 0.05127, 0.145296, 0.0725167, 0.000597722, 0.137922, 0.260277, 0.817998, 0.0430765, 0.0422284, 0.0935325, 0.418974, 0.999101, 0.37269, 0.0555581, 0.00360254, 0.578053, 0.182346, 0.999752, 0.137922, 0.115339, 0.137922, 0.0697603, 3.33192e-05, 0.00112718, 0.048848, 0.220269, 0.0105332],\n",
       "        [0.100723, 0.100723, 0.100723, 0.100723, 0.100723, 0.100723, 0.100723, 0.100723, 0.100723, 0.100723, 0.271181, 0.159327, 0.926439, 1, 0.912999, 0.132232, 0.992851, 0.999991, 0.00715366, 0.100723, 0.132232, 0.442549, 0.992482, 0.912433, 0.442549, 0.933706, 1, 0.892999, 0.669738, 0.442549, 0.997816, 0.912999, 0.518877, 0.538259, 0.155754, 0.442549, 0.626271, 0.790534, 0.881224, 0.611296, 0.926201, 0.100723, 0.992931, 0.817729, 0.412828, 0.0439444, 0.871858, 0.00152936, 0.100723, 0.100723, 0.96105, 0.954324, 0.904015, 0.857251, 0.260054, 0.914549, 0.871632, 0.857251, 0.664816, 0.723, 0.590933, 0.944248, 0.243728, 0.632327, 0.683998, 0.943661, 0.815116, 0.98087, 0.932053, 0.80877, 0.974279, 0.974641, 0.206427, 0.601197, 0.699007, 0.957045, 0.876243, 0.100723, 0.845083, 0.828737, 0.959487, 0.725985, 0.977047, 0.639249, 0.997583, 0.655509, 0.00869617, 0.388353, 0.653435, 0.712618, 0.999451, 0.382509, 0.985312, 0.927809, 0.356606, 0.999451, 0.988602, 0.943661, 0.964854, 0.995518, 0.835418, 0.999261, 0.883913, 0.872804, 0.835418, 0.883913, 0.988493, 0.360128, 0.835418, 0.292379, 0.64789, 0.499993, 0.65581, 0.835418, 0.835418, 0.100723, 0.835418, 0.992096, 0.653435, 0.100723, 0.000620678, 0.100723, 0.999972, 0.997933, 0.998201, 0.942463, 0.100723, 0.990738, 0.998659, 0.998644, 0.175858, 0.999999, 0.830998, 0.998049, 0.995706, 0.822028, 0.679114, 0.266543, 0.73444, 0.996521, 0.99516, 0.925933, 0.808115, 0.416077, 0.175858, 0.908168, 0.754101, 0.979777, 0.235572, 0.554463, 0.554463, 0.816773, 0.862506, 0.058068, 0.100723, 0.930202, 0.957862, 0.000316126, 0.946877, 0.689718, 0.997568, 0.359585, 0.29576, 0.316402, 0.978847, 0.554463, 0.429715, 0.00449771, 0.827251, 0.34036, 0.985796, 0.257667, 0.696389, 0.606952, 0.526657, 0.52943, 0.837919, 0.100723, 0.780342, 0.99248, 0.844091, 0.082716, 0.00117782, 0.733639, 0.718215, 0.89531, 0.606952, 1.25521e-06, 0.0784656, 0.994728, 0.100723, 0.100536, 0.135307, 0.695903, 0.912233, 0.114462, 0.302146, 0.000766259, 0.280572, 0.925933, 0.981772, 0.2223, 0.215653, 0.000243565, 0.100723, 0.526657, 0.100723, 0.557621, 0.784385, 0.885583, 0.492115, 0.596343, 0.309127],\n",
       "        [0.383908, 0.383908, 0.383908, 0.383908, 0.383908, 0.383908, 0.383908, 0.383908, 0.383908, 0.383908, 0.186723, 0.110987, 8.7387e-05, 9.4209e-14, 0.0018184, 0.251592, 8.10171e-06, 4.60138e-11, 0.164729, 0.383908, 0.251592, 0.0468045, 2.26743e-05, 0.0102812, 0.0468045, 0.000104597, 1.6401e-14, 0.00335453, 0.00572651, 0.0468045, 8.37737e-07, 0.0018184, 0.0498853, 0.0567728, 0.0986743, 0.0468045, 0.0400175, 0.0237714, 0.00118215, 0.00500024, 0.00106703, 0.383908, 0.00148732, 0.00273888, 0.0733136, 0.611812, 0.0256483, 0.199555, 0.383908, 0.383908, 0.00468025, 0.00362965, 7.87181e-10, 0.0140005, 0.291312, 0.00226355, 0.0134687, 0.0140005, 0.109585, 0.0161, 0.0809878, 3.05498e-18, 0.17268, 0.0543745, 0.0358848, 0.00012979, 0.00113009, 0.00208674, 0.00641211, 0.00165839, 9.0572e-24, 8.29422e-06, 0.164271, 0.0405978, 0.0128184, 4.64885e-07, 3.48875e-05, 0.383908, 0.00432977, 7.73881e-05, 3.1586e-09, 0.0332967, 6.48755e-05, 0.000273236, 1.19432e-08, 0.0214675, 0.226961, 0.0592168, 0.0142367, 3.17891e-05, 3.53398e-05, 0.115077, 5.86911e-09, 3.98171e-08, 0.294744, 3.53398e-05, 5.41493e-06, 0.00012979, 0.00235164, 0.000189211, 0.0344815, 0, 0.00188848, 0.0084972, 0.0344815, 0.00188848, 1.12124e-06, 0.184429, 0.0344815, 0.162905, 0.0664771, 0.0894578, 0.0192113, 0.0344815, 0.0344815, 0.383908, 0.0344815, 0.0010521, 0.0142367, 0.383908, 0.0594516, 0.383908, 7.53815e-06, 0.000383479, 0, 0.000326214, 0.383908, 0.00285579, 0.00080825, 0.000350434, 0.276726, 7.90764e-08, 0.0264866, 0.000158001, 6.60275e-05, 0.0353351, 0.00424304, 0.157008, 0.000729685, 0.000154735, 0.000592506, 0.0162361, 0.00809572, 9.32862e-08, 0.276726, 0.0144552, 0.0342519, 0.000497374, 0.310521, 0.0952192, 0.0952192, 4.6639e-05, 0.135829, 0.474412, 0.383908, 6.41612e-05, 3.97157e-09, 0.138238, 0.000498407, 6.00708e-05, 0.000609839, 0.588741, 0.224292, 0.00069815, 0.000113586, 0.0952192, 0.166756, 0.35953, 6.08423e-05, 0.455912, 0.00218358, 0.004246, 0.120774, 0.20615, 0.15463, 0.0921686, 0.123143, 0.383908, 0.0177311, 0.00109162, 0.00995384, 0.907219, 0.997227, 0.00475869, 0.0487658, 0.00775559, 0.20615, 0.854703, 0.828578, 0.000262152, 0.383908, 0.52172, 0.0440175, 0.146361, 0.0199257, 0.773128, 0.12225, 0.000132357, 0.335543, 0.0162361, 0.0059805, 0.193839, 0.573479, 4.67197e-06, 0.383908, 0.15463, 0.383908, 0.0763924, 0.0798749, 0.0801304, 0.303283, 0.126483, 0.661116],\n",
       "        [0.377447, 0.377447, 0.377447, 0.377447, 0.377447, 0.377447, 0.377447, 0.377447, 0.377447, 0.377447, 0.187884, 0.345897, 0.00330044, 1.48719e-07, 0.0212572, 0.252898, 0.00240829, 8.59527e-06, 0.000275767, 0.377447, 0.252898, 0.177598, 0.00616255, 0.0625052, 0.177598, 0.00336544, 3.78578e-07, 0.0807108, 0.0308866, 0.177598, 0.00164286, 0.0212572, 0.155629, 0.149705, 0.107432, 0.177598, 0.115736, 0.0776592, 0.0936269, 0.129608, 0.0487261, 0.377447, 0.00112489, 0.147901, 0.255293, 0.0285926, 0.00697074, 0.000158205, 0.377447, 0.377447, 0.00368262, 0.0404409, 0.0952804, 0.0389606, 0.113209, 0.0823078, 0.105638, 0.0389606, 0.0974085, 0.206803, 0.0697926, 0.0557516, 0.198386, 0.250942, 0.0323941, 0.0557712, 0.179459, 0.0161072, 0.058581, 0.187209, 0.0257213, 0.0252814, 0.228449, 0.0373985, 0.247272, 0.0429536, 0.12347, 0.377447, 0.112342, 0.170784, 0.0405132, 0.0724173, 0.0225904, 0.359802, 0.00241446, 0.251222, 0.00229995, 0.376394, 0.186163, 0.287283, 0.000333316, 0.0109723, 0.0146837, 0.0721907, 0.105029, 0.000333316, 0.0113157, 0.0557712, 0.0323935, 0.00350549, 0.0211406, 1.16801e-07, 0.100163, 0.104668, 0.0211406, 0.100163, 0.0115043, 0.094017, 0.0211406, 0.0515319, 0.0260129, 0.0800563, 0.0509402, 0.0211406, 0.0211406, 0.377447, 0.0211406, 0.00267393, 0.186163, 0.377447, 0.00116966, 0.377447, 0, 0, 0.00139375, 0.0533794, 0.377447, 0, 4.57804e-05, 0, 0.0375205, 0, 0.00409175, 2.66259e-07, 0.00337023, 0.0861209, 0.27768, 0.403262, 0.263767, 1.59664e-06, 7.04536e-06, 0.00227243, 0.158367, 0.583923, 0.0375205, 0.0109039, 0.131193, 0.0193741, 0.164148, 0.224568, 0.224568, 0.183142, 0.000696351, 0.121278, 0.377447, 0.0693447, 4.1066e-05, 4.4802e-07, 0.0399369, 0.31022, 0.000355142, 0.0212117, 0.125144, 0.682853, 0.0210267, 0.224568, 0.0950748, 0.0419913, 0.172098, 0.085292, 0.0108306, 0.000284361, 0.0967993, 0.135628, 0.203374, 0.246062, 0.0337958, 0.377447, 0.178447, 0.00493727, 0.13251, 0.00588078, 1.51806e-05, 0.260028, 0.207992, 0.0801695, 0.135628, 7.60339e-10, 0.0204401, 0.00441258, 0.377447, 0.117467, 0.00267781, 0.11466, 0.0256127, 0.0188772, 0.156631, 8.48351e-09, 0.011196, 0.00227243, 0.00864493, 0.00580792, 0.0285216, 4.75795e-13, 0.377447, 0.203374, 0.377447, 0.296226, 0.135707, 0.0331592, 0.155754, 0.0569053, 0.0192236]]), 'most_likely_positions_1D': None}),\n",
       " DynamicContainer({'p_x_given_n': array([[0.294166, 0.137922, 0.907581, 0.0333713, 0.57283, 0.137922, 0.331146, 0.571836, 0.228114, 0.258565, 0.137922, 0.756762, 0.842289, 0.638139, 0.137922, 0.291363, 0.999952, 0.137922, 0.137922, 0.137922, 0.999984, 0.943669, 0.751905, 0.137922, 0.137922, 1, 0.435457, 0.137922, 0.258565, 0.999984, 0.919493, 0.857451, 0.154172, 0.644817, 1, 0.997692, 0.219837, 0.807296, 0.644817, 0.521879, 0.444999, 0.890139, 0.998925, 0.998497, 0.137922, 0.857451, 0.0820175, 0.590656, 0.484445, 0.346979, 0.96148, 0.816523, 0.0639249, 0.346979, 0.966012, 0.762042, 0.842289, 0.137922, 0.330154, 0.993066, 0.777196, 0.295079, 0.330493, 0.949876, 0.983677, 0.0206326, 0.127873, 0.850548, 0.91571, 0.998522, 0.680954, 0.330493, 0.765577, 0.83027, 0.850129, 0.777196, 0.820928, 0.777196, 0.730508, 0.79308, 0.385206, 0.777196, 0.76149, 0.343517, 0.780458, 0.852572, 0.777196, 0.546176, 0.595023, 0.792777, 0.857418, 0.725924, 0.574854, 0.284863, 0.229538, 0.897874, 0.819412, 0.638139, 0.745298, 0.57972, 0.831797, 0.721913, 0.714278, 0.929814, 0.570261, 0.530789, 0.560307, 0.718254, 0.712466, 0.137922, 0.622716, 0.622716, 0.794892, 0.137922, 0.258565, 0.65267, 0.680792, 0.137922, 0.137922, 0.400854, 0.137922, 0.674352, 0.839746, 0.137922, 0.137922, 0.137922, 0.840529, 0.901676, 0.590744, 0.35718, 0.548937, 0.878448, 0.137922, 0.756762, 0.638139, 0.570261, 0.638139, 0.99644, 0.137922, 0.586745, 0.137922, 0.736285, 0.82156, 0.622716, 0.137922, 0.837839, 0.994852, 0.554928, 0.137922, 0.681808, 0.957225, 0.210121, 0.638139, 0.876091, 0.924381, 0.760805, 0.893324, 0.137922, 0.693972, 0.985778, 0.959054, 0.89764, 0.693972, 0.719637, 0.842007, 0.0182976, 0.582173, 0.22603, 0.840901, 0.262524, 0.582173, 0.729152, 0.461042, 0.448195, 0.762777, 0.836226, 0.137922, 0.493184, 0.442496, 0.836226, 0.836226, 0.55032, 0.137922, 0.317982, 0.762777, 0.582173, 0.762777, 0.601635, 0.585554, 0.137922, 0.363278, 0.239955, 0.348506, 0.410292, 0.55032, 0.137922, 0.137922, 0.232625, 0.232625, 0.137922, 0.137922, 0.137922, 0.137922, 0.363278, 0.137922, 0.137922, 0.137922, 0.137922, 0.321652, 0.0749887, 0.137922, 0.137922, 0.137922, 0.493184, 0.335587, 0.14135, 0.137922, 0.29469, 0.137922, 0.363278],\n",
       "        [0.026106, 0.100723, 0.0409486, 0.843215, 0.0743205, 0.100723, 0.327141, 0.296296, 0.274327, 0.412828, 0.100723, 0.0449206, 0.0022148, 0.155754, 0.100723, 0.356241, 4.27852e-05, 0.100723, 0.100723, 0.100723, 1.5114e-05, 0.000138612, 0.14445, 0.100723, 0.100723, 6.80873e-12, 0.120935, 0.100723, 0.412828, 1.5114e-05, 1.94553e-06, 0.117687, 5.78992e-07, 2.89194e-07, 8.99374e-11, 0.000291892, 0.60835, 0.184581, 2.89194e-07, 3.76618e-08, 0.191725, 0.0324216, 4.90991e-17, 8.73235e-07, 0.100723, 0.117687, 7.99371e-11, 1.16515e-10, 0.000561237, 0.646587, 0.000597092, 2.59373e-09, 0.912999, 0.646587, 0.031844, 0.00869617, 0.0022148, 0.100723, 0.667811, 4.88195e-06, 0.0167353, 0.63942, 0.499993, 0.00250822, 0.00104504, 0.875898, 0.653501, 0.000570036, 8.90415e-05, 0.00147534, 0.000935367, 0.499993, 0.0301691, 0.000441903, 0.000161697, 0.0167353, 0.0429614, 0.0167353, 0.000454252, 2.32129e-07, 0.243728, 0.0167353, 0.0196845, 1.57269e-05, 0.0166025, 0.00038613, 0.0167353, 0.316274, 0.00905241, 0.00017826, 0.00222282, 0.00761067, 0.000356184, 0.45874, 0.10964, 0.000144287, 1.8262e-05, 0.155754, 0.00597774, 0.000497207, 8.17081e-05, 4.75853e-06, 0.0177863, 6.76189e-06, 0.0177177, 0.0315029, 0.0477879, 0.000315226, 0.0110342, 0.100723, 0.0590801, 0.0590801, 1.37261e-05, 0.100723, 0.412828, 0.109608, 0.00630375, 0.100723, 0.100723, 0.206427, 0.100723, 0.0103465, 0.0579959, 0.100723, 0.100723, 0.100723, 0.000258661, 0.0161048, 1.18089e-05, 0.157354, 0.00126492, 0.000229602, 0.100723, 0.0449206, 0.155754, 0.0177177, 0.155754, 3.39227e-05, 0.100723, 0.115163, 0.100723, 0.165042, 0.000240951, 0.0590801, 0.100723, 0.0550698, 0.00153465, 0.201972, 0.100723, 0.0177878, 0.00152106, 0.389462, 0.155754, 0.000512669, 0.00333561, 0.0110294, 1.99683e-05, 0.100723, 0.00492564, 0.000610763, 0.00131603, 0.0135228, 0.00492564, 0.0782659, 0.122103, 0.981701, 0.0430916, 0.118262, 0.00510982, 0.714371, 0.0430916, 0.0113387, 0.133486, 0.102386, 0.0155621, 0.00138066, 0.100723, 0.292379, 0.0958462, 0.00138066, 0.00138066, 0.119575, 0.100723, 0.473519, 0.0155621, 0.0430916, 0.0155621, 0.316655, 0.311115, 0.100723, 0.132232, 0.274114, 0.298983, 0.268426, 0.119575, 0.100723, 0.100723, 0.0279348, 0.0279348, 0.100723, 0.100723, 0.100723, 0.100723, 0.132232, 0.100723, 0.100723, 0.100723, 0.100723, 0.162956, 0.0166165, 0.100723, 0.100723, 0.100723, 0.292379, 0.644772, 0.725133, 0.100723, 0.16637, 0.100723, 0.132232],\n",
       "        [0.653811, 0.383908, 0.0513612, 0.101679, 0.279092, 0.383908, 0.0355823, 0.127995, 0.152535, 0.0733136, 0.383908, 0.167678, 0.151848, 0.0986743, 0.383908, 0.102142, 0, 0.383908, 0.383908, 0.383908, 0, 0.0561239, 0.100757, 0.383908, 0.383908, 0, 0.337776, 0.383908, 0.0733136, 0, 0.0804771, 0.0246853, 0.84582, 0.355169, 0, 0.00197618, 0.147855, 0.00812249, 0.355169, 0.47807, 0.147576, 0.074445, 0.00107478, 0.00149499, 0.383908, 0.0246853, 0.917983, 0.409343, 0.51431, 0.00103635, 0.0379115, 0.183477, 0.0018184, 0.00103635, 0.00196021, 0.226961, 0.151848, 0.383908, 0.000405004, 0.00692918, 0.200742, 0.037581, 0.0894578, 0.0471697, 0.0152781, 0.00383833, 0.0759556, 0.148794, 0.0842011, 0, 0.316185, 0.0894578, 0.202028, 0.169264, 0.14963, 0.200742, 0.135761, 0.200742, 0.266521, 0.206919, 0.17268, 0.200742, 0.184679, 0.656402, 0.199853, 0.147039, 0.200742, 0.110774, 0.380502, 0.207038, 0.139436, 0.265119, 0.422718, 0.164572, 0.630329, 0.101981, 0.180558, 0.0986743, 0.245949, 0.416009, 0.167942, 0.277898, 0.262466, 0.0701769, 0.373975, 0.369737, 0.31201, 0.28053, 0.274863, 0.383908, 0.289518, 0.289518, 0.205094, 0.383908, 0.0733136, 0.184693, 0.307927, 0.383908, 0.383908, 0.164271, 0.383908, 0.307332, 0.0993467, 0.383908, 0.383908, 0.383908, 0.159172, 0.082053, 0.409157, 0.349582, 0.445681, 0.121274, 0.383908, 0.167678, 0.0986743, 0.373975, 0.0986743, 0.00349818, 0.383908, 0.225794, 0.383908, 0.0295397, 0.178174, 0.289518, 0.383908, 0.0692186, 0.000451573, 0.143682, 0.383908, 0.286225, 0.038922, 0.024226, 0.0986743, 0.123237, 0.0713182, 0.221527, 0.106473, 0.383908, 0.300303, 0.0132502, 0.0390571, 0.0781367, 0.300303, 0.0775158, 0.0216536, 8.68936e-07, 0.356297, 0.382351, 0.150548, 0.0105658, 0.356297, 0.24783, 0.306806, 0.288153, 0.215311, 0.162139, 0.383908, 0.162905, 0.389828, 0.162139, 0.162139, 0.214383, 0.383908, 0.0559782, 0.215311, 0.356297, 0.215311, 0.0181337, 0.06622, 0.383908, 0.251592, 0.113169, 0.139522, 0.217397, 0.214383, 0.383908, 0.383908, 0.707084, 0.707084, 0.383908, 0.383908, 0.383908, 0.383908, 0.251592, 0.383908, 0.383908, 0.383908, 0.383908, 0.349572, 0.0669673, 0.383908, 0.383908, 0.383908, 0.162905, 0.00128777, 0.00909178, 0.383908, 0.405642, 0.383908, 0.251592],\n",
       "        [0.0259161, 0.377447, 0.000109562, 0.0217347, 0.0737571, 0.377447, 0.30613, 0.00387396, 0.345025, 0.255293, 0.377447, 0.0306392, 0.0036491, 0.107432, 0.377447, 0.250254, 4.83357e-06, 0.377447, 0.377447, 0.377447, 9.97624e-07, 6.90177e-05, 0.00288811, 0.377447, 0.377447, 6.64422e-11, 0.105832, 0.377447, 0.255293, 9.97624e-07, 2.78823e-05, 0.000177223, 7.03091e-06, 1.42932e-05, 5.03986e-09, 3.9645e-05, 0.023958, 1.41888e-08, 1.42932e-05, 5.12859e-05, 0.2157, 0.0029945, 3.59317e-12, 6.96267e-06, 0.377447, 0.000177223, 1.39436e-10, 1.07732e-07, 0.000683547, 0.00539812, 1.10788e-05, 3.21093e-07, 0.0212572, 0.00539812, 0.000183359, 0.00229995, 0.0036491, 0.377447, 0.00162954, 4.74706e-08, 0.00532691, 0.02792, 0.0800563, 0.000445931, 5.54846e-08, 0.0996308, 0.142671, 8.76664e-05, 7.9852e-08, 3.12195e-06, 0.0019255, 0.0800563, 0.00222603, 2.39373e-05, 7.83909e-05, 0.00532691, 0.000349131, 0.00532691, 0.00251623, 6.27065e-08, 0.198386, 0.00532691, 0.0341458, 6.51339e-05, 0.00308622, 3.09177e-06, 0.00532691, 0.0267754, 0.0154228, 6.79598e-06, 0.000923049, 0.00134632, 0.00207261, 0.0918253, 0.0304936, 1.23979e-06, 1.12485e-05, 0.107432, 0.0027754, 0.00377453, 0.000179397, 0.000184352, 0.00546923, 2.06528e-06, 0.038046, 0.0679713, 0.0798953, 0.000900833, 0.00163711, 0.377447, 0.0286859, 0.0286859, 4.86808e-08, 0.377447, 0.255293, 0.0530296, 0.00497758, 0.377447, 0.377447, 0.228449, 0.377447, 0.00797021, 0.00291143, 0.377447, 0.377447, 0.377447, 4.06397e-05, 0.00016668, 8.74308e-05, 0.135884, 0.00411753, 4.85027e-05, 0.377447, 0.0306392, 0.107432, 0.038046, 0.107432, 2.75627e-05, 0.377447, 0.0722973, 0.377447, 0.069133, 2.56713e-05, 0.0286859, 0.377447, 0.0378724, 0.00316158, 0.0994185, 0.377447, 0.0141799, 0.0023324, 0.376191, 0.107432, 0.000159241, 0.000965195, 0.00663889, 0.000183284, 0.377447, 0.000799866, 0.000361476, 0.000572723, 0.0107, 0.000799866, 0.124581, 0.0142359, 3.68026e-07, 0.0184379, 0.273358, 0.00344111, 0.0125399, 0.0184379, 0.0116788, 0.0986663, 0.161266, 0.0063497, 0.000254161, 0.377447, 0.0515319, 0.0718292, 0.000254161, 0.000254161, 0.115722, 0.377447, 0.152521, 0.0063497, 0.0184379, 0.0063497, 0.0635759, 0.037111, 0.377447, 0.252898, 0.372762, 0.212989, 0.103884, 0.115722, 0.377447, 0.377447, 0.0323562, 0.0323562, 0.377447, 0.377447, 0.377447, 0.377447, 0.252898, 0.377447, 0.377447, 0.377447, 0.377447, 0.165821, 0.841427, 0.377447, 0.377447, 0.377447, 0.0515319, 0.0183532, 0.124425, 0.377447, 0.133298, 0.377447, 0.252898]]), 'most_likely_positions_1D': None}),\n",
       " DynamicContainer({'p_x_given_n': array([[0.811821, 0.137922, 0.137922, ..., 0.0390207, 0.125749, 0.137922],\n",
       "        [0.0382317, 0.100723, 0.100723, ..., 0.73928, 0.554463, 0.100723],\n",
       "        [0.133265, 0.383908, 0.383908, ..., 0.0290846, 0.0952192, 0.383908],\n",
       "        [0.0166825, 0.377447, 0.377447, ..., 0.192614, 0.224568, 0.377447]]), 'most_likely_positions_1D': None}),\n",
       " DynamicContainer({'p_x_given_n': array([[0.57283, 0.715541, 0.137922, ..., 0.137922, 0.304809, 0.400502],\n",
       "        [0.0743205, 0.0360848, 0.100723, ..., 0.100723, 0.540714, 0.267751],\n",
       "        [0.279092, 0.235954, 0.383908, ..., 0.383908, 0.0278464, 0.120454],\n",
       "        [0.0737571, 0.01242, 0.377447, ..., 0.377447, 0.126631, 0.211293]]), 'most_likely_positions_1D': None}),\n",
       " DynamicContainer({'p_x_given_n': array([[0.137922, 0.622716, 0.410292, ..., 0.137848, 0.137922, 0.0390207],\n",
       "        [0.100723, 0.0590801, 0.268426, ..., 0.0229236, 0.100723, 0.73928],\n",
       "        [0.383908, 0.289518, 0.217397, ..., 0.836498, 0.383908, 0.0290846],\n",
       "        [0.377447, 0.0286859, 0.103884, ..., 0.00273042, 0.377447, 0.192614]]), 'most_likely_positions_1D': None}),\n",
       " DynamicContainer({'p_x_given_n': array([[0.912089, 0.864706, 0.632633, ..., 0.42378, 0.42378, 0.137922],\n",
       "        [9.79705e-05, 0.00127734, 0.0156773, ..., 0.0940098, 0.0940098, 0.100723],\n",
       "        [0.0877591, 0.133327, 0.339057, ..., 0.32741, 0.32741, 0.383908],\n",
       "        [5.42416e-05, 0.000689227, 0.0126331, ..., 0.1548, 0.1548, 0.377447]]), 'most_likely_positions_1D': None}),\n",
       " DynamicContainer({'p_x_given_n': array([[0.129006, 0.239955, 0.55032, 0.228114, 0.0626306, 0.00101051, 0.00946316, 0.38379, 0.130225, 0.080283, 0.109545, 0.140238, 0.38379, 0.346705, 0.581621, 0.000146926, 0.241183, 0.338617, 0.326568, 0.00207969, 0.137922, 0.398285, 0.713054, 1.00719e-05, 0.000102713, 0.67575, 0.401329, 0.126995, 0.000148966, 0.217976, 0.0118165, 0.0150018, 0.000134873, 0.0086371, 0.105693, 0.0656747, 0.105693, 0.035941, 0.333048, 0.314943, 0.333048, 0.00806661, 0.0423214, 0.137922, 0.0918228, 0.217976, 0.376883, 0.000804053, 0.374945, 0.105693, 0.258565, 0.736899, 0.927416, 0.137922, 0.638139, 0.00259524, 4.7113e-05, 0.330493, 0.0265114, 0.251045, 0.0152394, 1.04829e-05, 0.622716, 1.47979e-06, 0.0461367, 1.30229e-08, 0.0443916, 0.466168, 0.00160496, 7.18636e-05, 2.45543e-05, 2.67347e-05, 0.556785, 6.4332e-05, 4.65596e-10, 3.26616e-06, 0.000349406, 0.327588, 0.148454, 0.000193285, 0.726576, 6.17559e-06, 0.000203799, 8.62367e-06, 0.00535587, 0.000932341, 0.0140358, 0.0100381, 5.02731e-05, 0.614262, 0.132188, 0.0140306, 7.41115e-06, 0.000787379, 0.137922, 0.00833667, 0.0382452, 0.148454, 0.000262994, 0.000249314, 0.0023444, 0.0201469, 0.000920547, 0.284863, 0.00017021, 0.0023444, 0.0244018, 0.00417773, 0.690226, 0.277524, 0.00137728, 0.0198111, 0.138424, 0.000347833, 0.0014629, 0.137922, 0.0406344, 0.942648, 0.108959, 1.11185e-05, 0.258565, 3.5903e-07, 0.00417616, 0.027985, 0.0844652, 0.0238565, 0.0847852, 0.0299009, 0.00116001, 0.0259636, 0.000138963, 4.22882e-06, 0.0194314, 0.137922, 0.0191816, 9.56317e-05, 0.137922, 0.0555581, 0.20848, 0.137922, 0.109059, 0.00662613, 0.137922, 0.179564, 0.000159915, 0.517959, 0.137922, 0.137922, 0.0390207, 2.35699e-08, 0.426283, 0.0804537, 0.125749, 0.0126875, 0.125781, 0.137922, 0.125749, 0.137922, 9.70521e-06, 3.21601e-05, 0.0804537, 0.318203, 0.00163453, 0.17991, 0.847838, 0.00047421, 7.67141e-05, 0.109041, 0.327624, 0.000629106, 0.000444426, 5.85619e-06, 0.0194314, 0.907394, 0.115339, 0.000137392, 0.137922, 0.000175235, 0.000226509, 4.72819e-05, 0.0447256, 0.000140835, 0.000605366, 0.0226747, 0.010702, 0.00671455, 0.125749, 0.0137294, 0.000168426, 0.00319788, 6.70566e-05, 1.11421e-05, 0.00417616, 0.0373554, 0.00443058, 0.00842565, 0.00155007, 0.0924719, 0.0141667, 0.0039971, 0.137922, 0.0684106, 0.000135256, 0.0268498, 0.137922, 0.0226747, 0.0390207, 0.0226747, 0.0336815, 0.573432, 0.137922, 0.00243604, 0.0029593, 0.000758825, 0.570091, 0.227239, 0.211911, 0.495009],\n",
       "        [0.425165, 0.274114, 0.119575, 0.274327, 0.889906, 0.998937, 0.990517, 0.159327, 0.792848, 0.915134, 0.823239, 0.566857, 0.159327, 0.0517152, 0.283019, 0.999852, 0.542768, 0.45035, 0.627762, 0.993362, 0.100723, 0.463338, 0.0142421, 0.999985, 0.999844, 0.0831088, 0.0525127, 0.871507, 0.999567, 0.626271, 0.988182, 0.984978, 0.996848, 0.976676, 0.584984, 0.724025, 0.584984, 0.674729, 0.442549, 0.427908, 0.442549, 0.940776, 0.875761, 0.100723, 0.812822, 0.626271, 0.570094, 0.987496, 0.440935, 0.584984, 0.412828, 0.00340446, 0.0431892, 0.100723, 0.155754, 0.990857, 0.998684, 0.499993, 0.954586, 0.548796, 0.763644, 0.966814, 0.0590801, 0.999836, 0.73896, 0.988216, 0.575766, 0.368575, 0.954324, 0.99346, 0.872984, 0.950525, 0.130612, 0.962476, 0.985963, 0.963874, 0.949505, 0.5007, 0.626233, 0.92383, 0.00130883, 0.883918, 0.773484, 0.870151, 0.954132, 0.973494, 0.883913, 0.966275, 0.45398, 0.0459157, 0.823947, 0.872804, 0.981278, 0.995518, 0.100723, 0.82723, 0.845083, 0.626233, 0.99963, 0.999256, 0.790517, 0.6934, 0.998401, 0.45874, 0.755789, 0.790517, 0.726027, 0.992096, 0.140029, 0.453825, 0.9534, 0.946424, 0.830998, 0.999435, 0.740302, 0.100723, 0.950967, 0.0166163, 0.835418, 0.999563, 0.412828, 1, 0.73566, 0.922929, 0.871537, 0.969782, 0.769961, 0.963746, 0.997737, 0.924875, 0.999815, 0.720593, 0.680794, 0.100723, 0.977024, 0.939097, 0.100723, 0.925933, 0.733937, 0.100723, 0.806619, 0.99278, 0.100723, 0.714073, 0.941396, 0.0100999, 0.100723, 0.100723, 0.73928, 0.680541, 0.224113, 0.754101, 0.554463, 0.946877, 0.874072, 0.100723, 0.554463, 0.100723, 0.935539, 0.653005, 0.754101, 0.573254, 0.852471, 0.820067, 0.0500419, 0.99765, 0.737772, 0.856342, 0.637921, 0.0258889, 0.867769, 0.611303, 0.680794, 0.0269796, 0.526657, 0.937457, 0.100723, 0.935978, 0.823327, 0.968033, 0.117081, 0.697618, 0.673463, 0.631148, 0.877164, 0.848827, 0.554463, 0.947506, 0.384479, 0.248836, 0.786917, 0.396276, 0.73566, 0.895541, 0.579947, 0.580271, 0.373962, 0.609048, 0.496916, 0.668519, 0.100723, 0.43252, 0.415739, 0.476864, 0.100723, 0.631148, 0.73928, 0.631148, 0.821797, 0.0878691, 0.100723, 0.581026, 0.820386, 0.328129, 0.248636, 0.010218, 0.0034407, 0.0199106],\n",
       "        [0.0188308, 0.113169, 0.214383, 0.152535, 0.00405468, 1.14793e-08, 5.29054e-07, 0.110987, 0.0203478, 0.0018978, 0.000942781, 0.0434774, 0.110987, 0.401327, 0.0963435, 7.05751e-11, 0.0883903, 0.124586, 0.0320312, 6.899e-06, 0.383908, 0.0630467, 0.2657, 1.91242e-10, 1.07376e-07, 0.182833, 0.496256, 0.000173898, 1.87136e-07, 0.0400175, 5.87014e-07, 5.24495e-07, 6.83844e-07, 0.00261026, 0.0162967, 0.00311838, 0.0162967, 0.0183802, 0.0468045, 0.0333477, 0.0468045, 0.000558842, 0.003586, 0.383908, 0.0263818, 0.0400175, 0.0445961, 0.00115816, 0.0863928, 0.0162967, 0.0733136, 0.259383, 0.0235596, 0.383908, 0.0986743, 0.00321532, 9.53322e-05, 0.0894578, 0.0015956, 0.0833283, 0.167503, 1.94595e-05, 0.289518, 7.15808e-06, 0.0215782, 1.34389e-21, 0.0599708, 0.120355, 0.00362965, 4.215e-05, 3.13367e-06, 4.50197e-05, 0.0759618, 1.03815e-05, 1.63485e-17, 7.0812e-07, 2.76275e-05, 0.0838527, 0.0607139, 1.39273e-09, 0.27075, 2.4819e-14, 4.83933e-08, 1.05133e-05, 0.012639, 6.15709e-05, 0.00188848, 0.00353898, 0.000131203, 0.286341, 0.0138719, 0.0084972, 4.6514e-05, 0.000189211, 0.383908, 0.00194859, 0.00432977, 0.0607139, 1.70964e-05, 6.26852e-05, 0.000316935, 0.0386018, 0.000278636, 0.164572, 0.000497085, 0.000316935, 0.00613832, 0.0010521, 0.162531, 0.139779, 0.000113323, 0.00648612, 0.0264866, 0.000216692, 0.000310115, 0.383908, 0.00314309, 0.0405652, 0.0344815, 3.58696e-06, 0.0733136, 0, 0.0230505, 0.00746032, 0.0439977, 0.00636195, 0.0307558, 0.00635347, 0.00110251, 0.0249763, 1.81071e-05, 1.82669e-06, 0.0816457, 0.383908, 0.00378193, 6.40244e-06, 0.383908, 0.0162361, 0.0497278, 0.383908, 0.00968263, 0.000593946, 0.383908, 0.0662951, 3.93148e-06, 0.470635, 0.383908, 0.383908, 0.0290846, 1.35053e-08, 0.319873, 0.0342519, 0.0952192, 0.000498407, 5.09069e-07, 0.383908, 0.0952192, 0.383908, 3.38092e-07, 0.00543405, 0.0342519, 0.0314674, 0.00571713, 9.25082e-09, 0.0922899, 5.25778e-06, 3.29205e-05, 0.0293538, 0.030989, 0.274582, 2.97984e-05, 0.000316063, 0.0816457, 0.0655559, 0.15463, 8.04467e-06, 0.383908, 0.0119337, 0.0805664, 0.000904615, 0.141537, 0.00676109, 0.0944848, 0.0475906, 0.013457, 0.023338, 0.0952192, 0.0318208, 0.0362686, 0.73762, 0.031703, 0.00218715, 0.0230505, 0.0624221, 0.307735, 0.0268146, 0.0891558, 0.182743, 0.111452, 0.221092, 0.383908, 0.213534, 0.0196314, 0.446211, 0.383908, 0.0475906, 0.0290846, 0.0475906, 0.0730621, 0.318705, 0.383908, 0.0061269, 0.0363501, 0.0964561, 0.147928, 0.759505, 0.784313, 0.482467],\n",
       "        [0.426999, 0.372762, 0.115722, 0.345025, 0.0434089, 5.26053e-05, 1.96694e-05, 0.345897, 0.0565794, 0.0026847, 0.066273, 0.249428, 0.345897, 0.200252, 0.0390161, 1.34662e-06, 0.127659, 0.0864468, 0.0136382, 0.00455172, 0.377447, 0.0753305, 0.00700419, 4.97705e-06, 5.30193e-05, 0.0583081, 0.0499022, 0.00132361, 0.000284211, 0.115736, 1.19326e-06, 1.94444e-05, 0.003016, 0.0120768, 0.293026, 0.207182, 0.293026, 0.27095, 0.177598, 0.223801, 0.177598, 0.0505988, 0.0783319, 0.377447, 0.0689737, 0.115736, 0.00842649, 0.0105419, 0.0977266, 0.293026, 0.255293, 0.000312989, 0.00583521, 0.377447, 0.107432, 0.0033323, 0.00117331, 0.0800563, 0.0173066, 0.11683, 0.0536139, 0.033156, 0.0286859, 0.000155228, 0.193325, 0.0117842, 0.319872, 0.0449016, 0.0404409, 0.0064261, 0.126988, 0.0494032, 0.236641, 0.0374489, 0.0140369, 0.036122, 0.0501176, 0.08786, 0.164599, 0.0759772, 0.00136541, 0.116076, 0.226312, 0.129829, 0.0278734, 0.0255125, 0.100163, 0.0201482, 0.545838, 0.0534816, 0.0299932, 0.104668, 0.0186679, 0.00350549, 0.377447, 0.162484, 0.112342, 0.164599, 9.02788e-05, 0.00043247, 0.206822, 0.247851, 0.000399713, 0.0918253, 0.243544, 0.206822, 0.243433, 0.00267393, 0.00721411, 0.128873, 0.0451097, 0.0272788, 0.00409175, 2.74853e-07, 0.257925, 0.377447, 0.00525578, 0.000170764, 0.0211406, 0.000422733, 0.255293, 0, 0.237113, 0.041626, 0, 0, 0.114498, 0, 0, 0.0241852, 2.76046e-05, 0.2794, 0.218129, 0.377447, 1.28782e-05, 0.060801, 0.377447, 0.00227243, 0.00785469, 0.377447, 0.0746394, 1.00778e-07, 0.377447, 0.0400679, 0.0584405, 0.00130642, 0.377447, 0.377447, 0.192614, 0.319459, 0.0297301, 0.131193, 0.224568, 0.0399369, 0.000146371, 0.377447, 0.224568, 0.377447, 0.0644512, 0.341528, 0.131193, 0.0770756, 0.140177, 2.28153e-05, 0.00982997, 0.00187031, 0.262119, 0.0052627, 0.00346515, 0.6989, 0.131757, 0.388375, 0.218129, 7.05177e-05, 0.203374, 0.0623979, 0.377447, 0.0519129, 0.09588, 0.0310153, 0.696656, 0.29548, 0.231447, 0.298587, 0.0986773, 0.12112, 0.224568, 0.00694368, 0.579084, 0.0103463, 0.181313, 0.601526, 0.237113, 0.0046819, 0.107888, 0.384489, 0.535332, 0.115737, 0.377465, 0.106393, 0.377447, 0.285536, 0.564495, 0.050076, 0.377447, 0.298587, 0.192614, 0.298587, 0.0714593, 0.0199942, 0.377447, 0.410411, 0.140305, 0.574656, 0.0333453, 0.00303792, 0.000334685, 0.002613]]), 'most_likely_positions_1D': None}),\n",
       " DynamicContainer({'p_x_given_n': array([[0.410292, 0.232625, 0.638139, ..., 0.410292, 0.137922, 0.137922],\n",
       "        [0.268426, 0.0279348, 0.155754, ..., 0.268426, 0.100723, 0.100723],\n",
       "        [0.217397, 0.707084, 0.0986743, ..., 0.217397, 0.383908, 0.383908],\n",
       "        [0.103884, 0.0323562, 0.107432, ..., 0.103884, 0.377447, 0.377447]]), 'most_likely_positions_1D': None}),\n",
       " DynamicContainer({'p_x_given_n': array([[0.137922, 0.258565, 0.638139, ..., 0.137922, 0.137922, 0.00757497],\n",
       "        [0.100723, 0.412828, 0.155754, ..., 0.100723, 0.100723, 0.870142],\n",
       "        [0.383908, 0.0733136, 0.0986743, ..., 0.383908, 0.383908, 0.00111374],\n",
       "        [0.377447, 0.255293, 0.107432, ..., 0.377447, 0.377447, 0.121169]]), 'most_likely_positions_1D': None}),\n",
       " DynamicContainer({'p_x_given_n': array([[0.137922, 0.258565, 0.228114, ..., 0.585554, 0.137922, 0.108959],\n",
       "        [0.100723, 0.412828, 0.274327, ..., 0.311115, 0.100723, 0.835418],\n",
       "        [0.383908, 0.0733136, 0.152535, ..., 0.06622, 0.383908, 0.0344815],\n",
       "        [0.377447, 0.255293, 0.345025, ..., 0.037111, 0.377447, 0.0211406]]), 'most_likely_positions_1D': None}),\n",
       " DynamicContainer({'p_x_given_n': array([[0.000101001, 0.00121825, 0.38379, 0.103726, 0.0250104, 0.42378, 0.160195, 0.517948, 8.59147e-09, 0.0678581, 0.130225, 0.554591, 0.000180883, 0.258565, 0.243621, 0.333048, 8.16025e-05, 8.68393e-05, 0.00116432, 0.0407388, 0.322884, 0.00915302, 0.258565, 0.00149872, 0.00132484, 0.258565, 0.258565, 0.373854, 0.026681, 0.00409088, 0.000248836, 0.000379973, 0.333048, 0.70897, 0.676297, 0.137922, 0.00132484, 0.0656747, 0.137922, 0.137922, 0.254096, 0.00183763, 0.0662294, 0.280711, 0.00142248, 0.255263, 0.243621, 0.425449, 0.000804989, 0.853881, 0.638139, 0.137922, 1.68298e-05, 5.69983e-05, 0.0138238, 0.000577745, 0.0367063, 0.192124, 0.000704152, 0.0441356, 0.000116591, 6.61504e-08, 1.24941e-07, 0.0566881, 0.0170368, 0.00160496, 9.47025e-05, 0.550233, 0.282037, 0.00120922, 3.94262e-05, 1.43056e-10, 0.168301, 0.00444494, 0.00444494, 6.96914e-05, 0.00142627, 0.0718007, 0.00204605, 0.0286402, 3.64771e-07, 0.00273789, 0.00384909, 0.00384909, 4.06101e-06, 0.149556, 0.00890402, 7.9997e-05, 0.00575812, 1.37478e-06, 3.81996e-05, 1.13427e-05, 0.00445976, 5.08986e-05, 0.00042013, 0.277524, 0.0382452, 0.000665001, 0.126532, 0.148454, 0.000180113, 0.0293585, 0.00142627, 0.148454, 0.137922, 0.258565, 0.0244018, 0.0974695, 0.137922, 0.0738039, 0.00930578, 0.050339, 0.330493, 0.108959, 0.0195275, 0.137922, 0.108959, 0.108959, 0.000536802, 2.16721e-05, 0.0664732, 0.00417773, 0.0844652, 0.0844652, 0.105693, 0.137922, 0.137922, 9.24074e-05, 0.0555581, 8.98184e-06, 0.258565, 0.0163245, 0.127256, 7.57644e-08, 0.0194314, 0.0844652, 0.0732064, 0.000354831, 9.23395e-05, 0.137922, 0.179564, 0.0422284, 0.125749, 0.0128837, 0.179564, 0.125749, 8.36791e-06, 0.0591506, 0.299749, 0.137922, 0.251045, 0.316522, 0.390489, 0.137922, 0.125749, 0.0453896, 5.32976e-06, 0.0734599, 0.125749, 0.125749, 0.00129926, 0.00678425, 0.726943, 0.0352695, 0.000776292, 0.00638791, 2.4819e-06, 9.8328e-07, 0.00160369, 0.000277086, 0.0430883, 0.604068, 0.0075491, 0.010243, 0.00671455, 2.92101e-05, 0.000616686, 0.0393843, 0.00677534, 0.0139905, 0.00169753, 0.0430883, 0.124991, 0.00220599, 0.00107751, 0.00047636, 0.00429261, 0.00686616, 0.05127, 0.00417616, 0.000846355, 0.224964, 0.00108895, 0.240728, 0.0250273, 0.29469, 0.00692234, 0.0903603, 0.0023488, 0.000357953, 0.146845, 0.125749, 0.0029593, 0.0225956, 0.0629666],\n",
       "        [0.999879, 0.998298, 0.159327, 0.895289, 0.931218, 0.0940098, 0.804777, 0.074118, 1, 0.601795, 0.792848, 0.433982, 0.984566, 0.412828, 0.356606, 0.442549, 0.999918, 0.99969, 0.998831, 0.949248, 0.664009, 0.989889, 0.412828, 0.733475, 0.945026, 0.412828, 0.412828, 0.0856649, 0.916551, 0.621865, 0.965228, 0.999601, 0.442549, 0.212857, 6.94683e-05, 0.100723, 0.945026, 0.724025, 0.100723, 0.100723, 0.611296, 0.976644, 0.829248, 0.665975, 0.998383, 0.538259, 0.356606, 0.385106, 0.999171, 0.0303283, 0.155754, 0.100723, 0.999982, 0.959559, 0.942764, 0.999165, 0.934112, 0.60622, 0.904015, 0.94897, 0.999049, 0.993687, 0.977278, 0.783378, 0.747813, 0.954324, 0.85944, 0.0157353, 0.453423, 0.871436, 0.952797, 0.979265, 0.725985, 0.712651, 0.712651, 0.974641, 0.97236, 0.655509, 0.852775, 0.926655, 0.969253, 0.921935, 0.713542, 0.713542, 0.956206, 0.469555, 0.956099, 0.991465, 0.930774, 0.944245, 0.863787, 0.781331, 0.985097, 0.999895, 0.954346, 0.453825, 0.845083, 0.988576, 0.43997, 0.626233, 0.999451, 0.563643, 0.97236, 0.626233, 0.100723, 0.412828, 0.726027, 0.898133, 0.100723, 0.905755, 0.912961, 0.876074, 0.499993, 0.835418, 0.970859, 0.100723, 0.835418, 0.835418, 0.999238, 0.977541, 0.908168, 0.992096, 0.871537, 0.871537, 0.584984, 0.100723, 0.100723, 0.999594, 0.925933, 0.999987, 0.412828, 0.963197, 0.840331, 0.999971, 0.680794, 0.871537, 0.920749, 0.999603, 0.799283, 0.100723, 0.714073, 0.912233, 0.554463, 0.984056, 0.714073, 0.554463, 0.875508, 0.77168, 0.364991, 0.100723, 0.548796, 0.486104, 0.0105337, 0.100723, 0.554463, 0.925872, 0.984193, 0.863975, 0.554463, 0.554463, 0.955998, 0.971481, 0.010616, 0.899452, 0.855222, 0.992056, 0.938535, 0.287313, 0.943974, 0.730128, 0.811929, 0.344388, 0.68417, 0.976059, 0.848827, 0.977268, 0.880498, 0.524723, 0.948798, 0.973941, 0.444144, 0.811929, 0.85492, 0.986691, 0.760907, 0.880997, 0.80855, 0.00116497, 0.606952, 0.73566, 0.676931, 0.590187, 0.499099, 0.463815, 0.718215, 0.16637, 0.772129, 0.406049, 0.716441, 0.789226, 0.303906, 0.554463, 0.820386, 0.189189, 0.125627],\n",
       "        [7.37956e-08, 2.28702e-07, 0.110987, 0.000316193, 0.00239025, 0.32741, 0.0131009, 0.287814, 1.79141e-14, 0.0203379, 0.0203478, 0.00849732, 5.04028e-08, 0.0733136, 0.294744, 0.0468045, 5.36259e-11, 4.93986e-09, 6.03049e-09, 0.000889768, 0.00461468, 1.49972e-06, 0.0733136, 0.000125168, 3.90947e-06, 0.0733136, 0.0733136, 0.42717, 0.00121131, 0.0014127, 1.33504e-06, 5.35399e-08, 0.0468045, 0.0733334, 0.323502, 0.383908, 3.90947e-06, 0.00311838, 0.383908, 0.383908, 0.00500024, 1.32174e-06, 0.0044858, 0.0111826, 8.41254e-06, 0.0567728, 0.294744, 0.158237, 6.25718e-06, 0.114773, 0.0986743, 0.383908, 1.54039e-10, 0.000309629, 0.00243676, 0.000115177, 0.0147785, 0.0729799, 7.87181e-10, 0.0040257, 9.86697e-05, 2.04165e-07, 1.64167e-16, 0.0204173, 0.0229466, 0.00362965, 5.58302e-05, 0.405867, 0.141667, 0.000144247, 1.3076e-05, 5.35258e-11, 0.0332967, 0.000994074, 0.000994074, 8.29422e-06, 0.000179819, 0.0214675, 0.000885033, 0.00158982, 4.12343e-11, 0.00216438, 0.000598361, 0.000598361, 5.77743e-07, 0.253445, 0.00232767, 1.46596e-05, 0.000670613, 1.10997e-06, 6.45168e-05, 3.24081e-05, 0.00104718, 1.29585e-08, 0.000199072, 0.139779, 0.00432977, 2.17299e-07, 0.0926597, 0.0607139, 3.53398e-05, 0.00526594, 0.000179819, 0.0607139, 0.383908, 0.0733136, 0.00613832, 0.000307512, 0.383908, 0.0168115, 0.00824351, 0.00514939, 0.0894578, 0.0344815, 0.00961337, 0.383908, 0.0344815, 0.0344815, 0.000224769, 3.17358e-06, 0.0144552, 0.0010521, 0.0439977, 0.0439977, 0.0162967, 0.383908, 0.383908, 0.000313517, 0.0162361, 4.31679e-06, 0.0733136, 0.0204782, 0.0313015, 1.6979e-08, 0.0816457, 0.0439977, 0.00565606, 2.69073e-05, 0.000316285, 0.383908, 0.0662951, 0.0199257, 0.0952192, 0.0029475, 0.0662951, 0.0952192, 1.90841e-07, 0.0394005, 0.321387, 0.383908, 0.0833283, 0.0937408, 0.597201, 0.383908, 0.0952192, 0.00269018, 1.13375e-05, 0.0496053, 0.0952192, 0.0952192, 0.000367235, 0.0060638, 0.261281, 0.00383021, 0.00056906, 3.61373e-08, 0.0203035, 6.21582e-05, 0.000264536, 0.00154503, 0.0520108, 0.0449643, 0.0129355, 0.00600843, 0.023338, 0.00884866, 0.0396005, 0.12368, 0.00109791, 0.00403291, 0.0531659, 0.0520108, 0.0155516, 0.00104848, 0.0182227, 0.0341225, 0.132079, 0.161153, 0.20615, 0.0230505, 0.0055318, 0.0996783, 0.263279, 0.139749, 0.0487658, 0.405642, 0.0138851, 0.213809, 0.206723, 0.133024, 0.488538, 0.0952192, 0.0363501, 0.621441, 0.794308],\n",
       "        [1.98353e-05, 0.000483294, 0.345897, 0.000667906, 0.0413814, 0.1548, 0.0219272, 0.12012, 2.99187e-07, 0.310009, 0.0565794, 0.00292877, 0.0152526, 0.255293, 0.105029, 0.177598, 6.13923e-08, 0.00022286, 5.14763e-06, 0.00912355, 0.00849272, 0.000956081, 0.255293, 0.264901, 0.0536455, 0.255293, 0.255293, 0.113311, 0.0555568, 0.372632, 0.0345215, 1.93921e-05, 0.177598, 0.00483913, 0.000131363, 0.377447, 0.0536455, 0.207182, 0.377447, 0.377447, 0.129608, 0.0215167, 0.100037, 0.0421321, 0.000186041, 0.149705, 0.105029, 0.0312083, 1.77705e-05, 0.00101682, 0.107432, 0.377447, 7.1595e-07, 0.0400743, 0.0409758, 0.000141689, 0.0144035, 0.128676, 0.0952804, 0.00286898, 0.000735827, 0.00631282, 0.022722, 0.139516, 0.212204, 0.0404409, 0.140409, 0.0281649, 0.122873, 0.12721, 0.0471501, 0.0207355, 0.0724173, 0.28191, 0.28191, 0.0252814, 0.0260343, 0.251222, 0.144294, 0.0431154, 0.0307469, 0.0731629, 0.28201, 0.28201, 0.0437889, 0.127443, 0.0326691, 0.00844035, 0.0627975, 0.0557524, 0.136111, 0.218626, 0.00939585, 5.42595e-05, 0.0450343, 0.128873, 0.112342, 0.010759, 0.340838, 0.164599, 0.000333316, 0.401732, 0.0260343, 0.164599, 0.377447, 0.255293, 0.243433, 0.00408968, 0.377447, 0.0036297, 0.0694901, 0.0684373, 0.0800563, 0.0211406, 0, 0.377447, 0.0211406, 0.0211406, 0, 0.0224337, 0.0109039, 0.00267393, 0, 0, 0.293026, 0.377447, 0.377447, 0, 0.00227243, 0, 0.255293, 0, 0.00111111, 2.93629e-05, 0.218129, 0, 0.00038839, 1.49251e-05, 0.200308, 0.377447, 0.0400679, 0.0256127, 0.224568, 0.000113187, 0.0400679, 0.224568, 0.124484, 0.129769, 0.0138736, 0.377447, 0.11683, 0.103634, 0.00177633, 0.377447, 0.224568, 0.0260482, 0.0157901, 0.01296, 0.224568, 0.224568, 0.0423358, 0.0156714, 0.00115953, 0.0614482, 0.143432, 0.00155583, 0.0411594, 0.712624, 0.0541573, 0.26805, 0.0929723, 0.00657965, 0.295345, 0.00768982, 0.12112, 0.0138543, 0.0792848, 0.312213, 0.0433284, 0.00803549, 0.500992, 0.0929723, 0.00453779, 0.0100545, 0.219792, 0.084404, 0.0550787, 0.830816, 0.135628, 0.237113, 0.316691, 0.0851701, 0.236533, 0.155708, 0.207992, 0.133298, 0.207064, 0.289782, 0.0744871, 0.0773914, 0.0607112, 0.224568, 0.140305, 0.166775, 0.0170987]]), 'most_likely_positions_1D': None}),\n",
       " DynamicContainer({'p_x_given_n': array([[0.137922, 0.137922, 0.137922, ..., 0.137922, 0.108959, 0.42378],\n",
       "        [0.100723, 0.100723, 0.100723, ..., 0.100723, 0.835418, 0.0940098],\n",
       "        [0.383908, 0.383908, 0.383908, ..., 0.383908, 0.0344815, 0.32741],\n",
       "        [0.377447, 0.377447, 0.377447, ..., 0.377447, 0.0211406, 0.1548]]), 'most_likely_positions_1D': None}),\n",
       " DynamicContainer({'p_x_given_n': array([[0.890836, 0.137922, 0.137922, ..., 0.137013, 0.0148158, 0.154159],\n",
       "        [0.0532347, 0.100723, 0.100723, ..., 0.183226, 0.911995, 0.749022],\n",
       "        [0.0551377, 0.383908, 0.383908, ..., 0.614792, 0.0215163, 1.37565e-06],\n",
       "        [0.000791922, 0.377447, 0.377447, ..., 0.0649696, 0.051673, 0.096817]]), 'most_likely_positions_1D': None}),\n",
       " DynamicContainer({'p_x_given_n': array([[0.838822, 0.0128837, 0.258565, 0.308976, 0.859141, 0.137922, 0.258565, 0.323297, 0.137922, 0.137922, 0.137922, 0.330493, 0.285459, 0.137922, 0.842289, 0.105693, 0.386186, 0.638139, 0.980708, 0.281005, 0.137922, 0.137922, 1, 0.999151, 0.137922, 0.690182, 0.455709, 0.137922, 0.748403, 0.859305, 0.748403, 0.320176, 0.998675, 0.385707, 0.791189, 0.137922, 0.987902, 0.320489, 0.333688, 0.890139, 0.905887, 0.892453, 0.933189, 0.295079, 0.138408, 0.999903, 0.277524, 0.0286402, 0.330493, 0.765577, 0.883578, 0.556436, 0.137922, 0.855905, 0.846614, 0.777196, 0.910531, 0.633175, 0.956581, 0.410038, 0.731208, 0.87114, 0.897874, 0.373776, 0.527315, 0.595023, 0.853756, 0.385206, 0.431074, 0.527315, 0.560307, 0.719914, 0.400854, 0.570261, 0.635186, 0.745298, 0.560977, 0.400854, 0.570261, 0.786972, 0.724987, 0.638139, 0.65267, 0.137922, 0.771337, 0.519621, 0.594861, 0.115339, 0.784223, 0.648613, 0.874058, 0.137922, 0.137922, 0.638139, 0.880605, 0.712466, 0.560307, 0.233647, 0.137922, 0.844288, 0.736899, 0.137922, 0.400854, 0.137922, 0.712466, 0.81878, 0.638139, 0.65267, 0.736838, 0.890342, 0.137922, 0.622716, 0.638139, 0.277524, 0.890203, 0.55032, 0.744028, 0.909081, 0.622716, 0.137922, 0.55032, 0.137922, 0.293842, 0.137922, 0.811821, 0.495301, 0.137922, 0.137922, 0.890203, 0.536642, 0.998041, 0.638139, 0.638139, 0.905626, 0.934123, 0.767401, 0.137922, 0.736285, 0.961326, 0.517948, 0.638139, 0.842289, 0.836226, 0.951005, 0.42378, 0.582173, 0.693972, 0.715598, 0.410292, 0.926769, 0.137922, 0.632483, 0.937575, 0.304809, 0.582173, 0.693972, 0.715598, 0.584958, 0.36862, 0.42378, 0.137922, 0.582173, 0.530759, 0.571231, 0.638139, 0.582173, 0.726407, 0.687835, 0.582173, 0.490715, 0.693972, 0.582173, 0.582173, 0.189334, 0.42378, 0.640244, 0.902143, 0.517948, 0.621949, 0.29469, 0.42378, 0.687835, 0.811951, 0.333048, 0.810844, 0.0224597, 0.78296, 0.137922, 0.137922],\n",
       "        [0.0183808, 0.984056, 0.412828, 0.46399, 6.62798e-05, 0.100723, 0.412828, 0.356068, 0.100723, 0.100723, 0.100723, 0.499993, 0.486797, 0.100723, 0.0022148, 0.584984, 0.28683, 0.155754, 3.91029e-11, 0.467394, 0.100723, 0.100723, 1.79821e-10, 0.000698183, 0.100723, 0.000652026, 1.01438e-06, 0.100723, 1.92378e-05, 4.7559e-06, 1.92378e-05, 0.653402, 0.00106728, 2.84983e-10, 5.49688e-07, 0.100723, 0.000395837, 0.00018003, 1.69983e-08, 0.0324216, 0.0146442, 0.00025724, 0.0153088, 0.63942, 0.800592, 1.28796e-06, 0.453825, 0.926655, 0.499993, 0.0301691, 0.000240615, 0.0708989, 0.100723, 0.0167499, 0.00264786, 0.0167353, 0.00171921, 0.000113196, 0.0434085, 0.246326, 3.6187e-05, 1.79669e-06, 0.000144287, 0.320779, 0.0227415, 0.00905241, 0.000172414, 0.243728, 0.186784, 0.0227415, 0.0477879, 0.0713552, 0.206427, 0.0177177, 2.65608e-06, 0.00597774, 0.0287023, 0.206427, 0.0177177, 0.00441955, 0.000272089, 0.155754, 0.109608, 0.100723, 0.00318236, 0.13172, 0.0917106, 0.526657, 0.00542712, 0.00730961, 2.12184e-06, 0.100723, 0.100723, 0.155754, 0.000324365, 0.0110342, 0.0477879, 0.0160206, 0.100723, 0.000207364, 0.00340446, 0.100723, 0.206427, 0.100723, 0.0110342, 0.0208913, 0.155754, 0.109608, 0.00297989, 3.81515e-06, 0.100723, 0.0590801, 0.155754, 0.453825, 0.0467309, 0.119575, 0.0147082, 0.0231879, 0.0590801, 0.100723, 0.119575, 0.100723, 0.340337, 0.100723, 0.0382317, 0.00141614, 0.100723, 0.100723, 0.0467309, 0.313032, 0.000270717, 0.155754, 0.155754, 0.000608635, 0.000984614, 0.191298, 0.100723, 0.165042, 0.000238805, 0.074118, 0.155754, 0.0022148, 0.00138066, 0.00102166, 0.0940098, 0.0430916, 0.00492564, 0.00755093, 0.268426, 0.00539074, 0.100723, 0.0134023, 0.00265984, 0.540714, 0.0430916, 0.00492564, 0.00755093, 0.00118001, 0.0285344, 0.0940098, 0.100723, 0.0430916, 0.209299, 0.335838, 0.155754, 0.0430916, 0.00121542, 0.00497211, 0.0430916, 0.0757563, 0.00492564, 0.0430916, 0.0430916, 0.293935, 0.0940098, 0.0664799, 0.0532452, 0.074118, 0.0382783, 0.16637, 0.0940098, 0.00497211, 0.0547405, 0.442549, 0.0303727, 0.950682, 0.121139, 0.100723, 0.100723],\n",
       "        [0.137119, 0.0029475, 0.0733136, 0.0426098, 0.140226, 0.383908, 0.0733136, 0.0650461, 0.383908, 0.383908, 0.383908, 0.0894578, 0.0418588, 0.383908, 0.151848, 0.0162967, 0.0937887, 0.0986743, 0.0192921, 0.0645071, 0.383908, 0.383908, 0, 0.000150332, 0.383908, 0.307324, 0.544185, 0.383908, 0.251323, 0.140658, 0.251323, 0.00304973, 0.000257611, 0.614292, 0.208774, 0.383908, 0.011702, 0.676168, 0.666308, 0.074445, 0.0777319, 0.107142, 0.0346182, 0.037581, 0.0273235, 9.6015e-05, 0.139779, 0.00158982, 0.0894578, 0.202028, 0.116177, 0.297455, 0.383908, 0.127161, 0.150698, 0.200742, 0.0876937, 0.366577, 0, 0.103576, 0.268154, 0.128858, 0.101981, 0.153134, 0.440063, 0.380502, 0.146071, 0.17268, 0.1146, 0.440063, 0.31201, 0.178075, 0.164271, 0.373975, 0.36476, 0.245949, 0.403675, 0.164271, 0.373975, 0.203017, 0.274478, 0.0986743, 0.184693, 0.383908, 0.217399, 0.346831, 0.285298, 0.15463, 0.207037, 0.330113, 0.125939, 0.383908, 0.383908, 0.0986743, 0.119068, 0.274863, 0.31201, 0.37074, 0.383908, 0.155499, 0.259383, 0.383908, 0.164271, 0.383908, 0.274863, 0.15941, 0.0986743, 0.184693, 0.249802, 0.109654, 0.383908, 0.289518, 0.0986743, 0.139779, 0.0494831, 0.214383, 0.237074, 0.0665439, 0.289518, 0.383908, 0.214383, 0.383908, 0.186695, 0.383908, 0.133265, 0.502636, 0.383908, 0.383908, 0.0494831, 0.0158385, 0.00155968, 0.0986743, 0.0986743, 0.0926761, 0.0646136, 0.00938111, 0.383908, 0.0295397, 0.0383568, 0.287814, 0.0986743, 0.151848, 0.162139, 0.0477649, 0.32741, 0.356297, 0.300303, 0.271356, 0.217397, 0.0652095, 0.383908, 0.346741, 0.0583455, 0.0278464, 0.356297, 0.300303, 0.271356, 0.412236, 0.4918, 0.32741, 0.383908, 0.356297, 0.150286, 0.0234798, 0.0986743, 0.356297, 0.272095, 0.304655, 0.356297, 0.326377, 0.300303, 0.356297, 0.356297, 0.0195097, 0.32741, 0.23943, 0.0343603, 0.287814, 0.331214, 0.405642, 0.32741, 0.304655, 0.101447, 0.0468045, 0.138229, 9.55148e-05, 0.0670644, 0.383908, 0.383908],\n",
       "        [0.00567807, 0.000113187, 0.255293, 0.184424, 0.000566649, 0.377447, 0.255293, 0.255589, 0.377447, 0.377447, 0.377447, 0.0800563, 0.185885, 0.377447, 0.0036491, 0.293026, 0.233195, 0.107432, 3.38666e-07, 0.187093, 0.377447, 0.377447, 9.52393e-10, 1.12277e-08, 0.377447, 0.00184187, 0.000104186, 0.377447, 0.000255483, 3.1989e-05, 0.000255483, 0.0233719, 8.67007e-08, 7.35315e-07, 3.67812e-05, 0.377447, 2.62006e-08, 0.00316281, 4.76159e-06, 0.0029945, 0.00173742, 0.000147207, 0.0168843, 0.02792, 0.033676, 2.68485e-11, 0.128873, 0.0431154, 0.0800563, 0.00222603, 4.97732e-06, 0.0752106, 0.377447, 0.000184188, 3.93847e-05, 0.00532691, 5.61446e-05, 0.000134791, 9.99438e-06, 0.240061, 0.000601198, 4.14407e-08, 1.23979e-06, 0.152311, 0.00988108, 0.0154228, 4.59116e-07, 0.198386, 0.267543, 0.00988108, 0.0798953, 0.0306557, 0.228449, 0.038046, 5.10787e-05, 0.0027754, 0.00664522, 0.228449, 0.038046, 0.00559057, 0.000262839, 0.107432, 0.0530296, 0.377447, 0.0080811, 0.00182876, 0.0281305, 0.203374, 0.00331317, 0.0139638, 1.08367e-06, 0.377447, 0.377447, 0.107432, 3.18622e-06, 0.00163711, 0.0798953, 0.379592, 0.377447, 5.56468e-06, 0.000312989, 0.377447, 0.228449, 0.377447, 0.00163711, 0.00091832, 0.107432, 0.0530296, 0.0103798, 2.17444e-07, 0.377447, 0.0286859, 0.107432, 0.128873, 0.0135826, 0.115722, 0.00419039, 0.00118713, 0.0286859, 0.377447, 0.115722, 0.377447, 0.179126, 0.377447, 0.0166825, 0.000646496, 0.377447, 0.377447, 0.0135826, 0.134488, 0.000128997, 0.107432, 0.107432, 0.00108963, 0.000278481, 0.0319193, 0.377447, 0.069133, 7.86429e-05, 0.12012, 0.107432, 0.0036491, 0.000254161, 0.000208665, 0.1548, 0.0184379, 0.000799866, 0.00549531, 0.103884, 0.0026303, 0.377447, 0.00737376, 0.00141923, 0.126631, 0.0184379, 0.000799866, 0.00549531, 0.00162622, 0.111045, 0.1548, 0.377447, 0.0184379, 0.109657, 0.0694515, 0.107432, 0.0184379, 0.000282933, 0.00253805, 0.0184379, 0.107151, 0.000799866, 0.0184379, 0.0184379, 0.497221, 0.1548, 0.0538462, 0.0102515, 0.12012, 0.00855878, 0.133298, 0.1548, 0.00253805, 0.031862, 0.177598, 0.0205543, 0.0267627, 0.0288369, 0.377447, 0.377447]]), 'most_likely_positions_1D': None}),\n",
       " DynamicContainer({'p_x_given_n': array([[0.0496187, 0.304809, 0.137922, 0.553247, 0.777486, 1.29968e-05, 2.32568e-07, 0.00667557, 0.0877055, 0.0154772, 0.0660172, 0.0199054, 0.0271292, 0.241183, 0.00282907, 5.06437e-06, 0.0092779, 0.405578, 0.127163, 4.52499e-05, 0.109545, 0.241183, 0.0522557, 0.137922, 0.105693, 0.594861, 0.137922, 0.732499, 0.333048, 0.000134221, 0.201609, 0.295079, 0.258565, 0.0656747, 0.258565, 0.22474, 0.0656747, 0.0656747, 0.0656747, 0.00164614, 0.293842, 0.333048, 0.622716, 0.119041, 0.0154993, 0.000512075, 0.217976, 0.00238185, 8.09125e-05, 0.295079, 0.599065, 0.251045, 5.17063e-06, 0.110329, 0.00365845, 0.137922, 0.0023954, 6.2568e-08, 0.00169316, 0.031326, 6.64522e-06, 2.85371e-10, 6.61496e-07, 0.0113759, 0.00926938, 2.88592e-10, 5.73308e-12, 0.0357695, 9.37163e-10, 2.60298e-12, 3.87337e-06, 0.000787379, 3.68381e-05, 0.169614, 9.42153e-06, 1.57987e-05, 0.0198111, 2.08063e-05, 0.330493, 1.95335e-06, 1.1731e-07, 0.0718007, 0.00655277, 0.0382452, 4.40171e-08, 0.698057, 0.0718007, 0.0761492, 0.0010184, 0.236927, 0.108959, 0.00247634, 0.148454, 2.76779e-05, 4.13443e-05, 0.0198111, 0.00152452, 3.41464e-05, 0.0122199, 0.00417773, 0.089763, 0.000193748, 0.295079, 0.0116925, 0.00417773, 0.0382452, 0.00257172, 0.0198111, 0.108959, 0.00474809, 5.17694e-05, 0.277524, 0.414406, 0.000233688, 0.0388434, 0.277524, 0.0198111, 0.108959, 0.410292, 0.137922, 0.148454, 0.000180113, 0.0844652, 0.105693, 0.400854, 0.137922, 0.294114, 0.00101436, 0.00197932, 0.137922, 0.0844652, 0.410292, 5.23824e-05, 0.0844652, 0.115339, 0.137922, 3.93723e-05, 2.74017e-06, 0.115339, 0.137922, 0.0220642, 4.72711e-05, 0.137922, 0.0893218, 0.137592, 0.040312, 0.146359, 0.0207892, 0.0963814, 0.0804537, 4.61764e-06, 0.0567062, 0.173186, 0.125749, 0.000746379, 0.0482395, 0.0390207, 0.125749, 0.00559757, 3.66823e-05, 0.103118, 0.137922, 0.000216235, 0.000457787, 1.44872e-05, 0.137013, 0.000346466, 0.0266251, 0.000811736, 0.236307, 0.723348, 0.00133911, 0.0147157, 0.0161256, 0.000557765, 0.125749, 1.70427e-06, 2.48899e-05, 0.0354542, 0.007522, 0.0031645, 0.00202872, 0.125749, 1.46284e-06, 0.0430883, 0.0631821, 0.00417616, 0.147476, 0.000202425, 0.150691, 0.508718, 0.0376466, 0.299749, 0.125749, 4.86329e-06, 8.14314e-05, 0.013806, 0.125749, 0.0250273, 6.75578e-10, 0.107446, 0.137013, 1.62481e-05, 0.0718769, 0.0240653, 0.00538896, 0.00569118, 0.199114, 0.0226747, 0.354212, 4.32446e-05, 0.516709, 0.294062, 0.345278, 0.000405465, 0.000489308, 0.00429261, 0.146845, 0.137922, 0.137922, 0.00204223, 0.000370798, 0.188948, 0.812786, 0.444999, 7.56013e-06, 0.000758825, 0.00360168, 0.0313559, 0.619702, 0.984108, 0.0225956, 0.150848],\n",
       "        [0.773302, 0.540714, 0.100723, 0.126803, 0.213981, 0.997524, 0.999984, 0.978124, 0.868846, 0.975703, 0.826007, 0.802379, 0.966152, 0.542768, 0.387738, 0.999973, 0.567044, 0.420028, 0.196576, 0.999933, 0.823239, 0.542768, 0.940955, 0.100723, 0.584984, 0.0917106, 0.100723, 0.0847148, 0.442549, 0.999827, 0.210669, 0.63942, 0.412828, 0.724025, 0.412828, 0.337888, 0.724025, 0.724025, 0.724025, 0.993163, 0.340337, 0.442549, 0.0590801, 0.506199, 0.968365, 0.976219, 0.626271, 0.997607, 0.297813, 0.63942, 0.146831, 0.548796, 0.999917, 0.681645, 0.996149, 0.100723, 0.965217, 0.957448, 0.987583, 0.933759, 0.999425, 0.985184, 0.899951, 0.832492, 0.972836, 0.0210391, 0.944849, 0.774722, 0.998842, 0.152775, 0.801396, 0.995518, 0.998912, 0.673846, 0.36359, 0.940059, 0.946424, 0.984922, 0.499993, 0.866292, 0.999486, 0.655509, 0.898047, 0.845083, 0.912657, 0.0523985, 0.655509, 0.831678, 0.858953, 0.561878, 0.835418, 0.880047, 0.626233, 0.923162, 0.977317, 0.946424, 0.862551, 0.997592, 0.911199, 0.992096, 0.170219, 0.993174, 0.63942, 0.976282, 0.992096, 0.845083, 0.781492, 0.946424, 0.835418, 0.957643, 0.987076, 0.453825, 0.188493, 0.852166, 0.84263, 0.453825, 0.946424, 0.835418, 0.268426, 0.100723, 0.626233, 0.999451, 0.871537, 0.584984, 0.206427, 0.100723, 0.359952, 0.947683, 0.815243, 0.100723, 0.871537, 0.268426, 0.999941, 0.871537, 0.526657, 0.100723, 0.99933, 0.560869, 0.526657, 0.100723, 0.974314, 0.989474, 0.100723, 0.864447, 0.771671, 0.788815, 0.830943, 0.966935, 0.899927, 0.754101, 0.854826, 0.48564, 0.266543, 0.554463, 0.801303, 0.712872, 0.73928, 0.554463, 0.635154, 0.431861, 0.785662, 0.100723, 0.73155, 0.939264, 0.749004, 0.183226, 0.840178, 0.812138, 0.93714, 0.322433, 0.10375, 0.804658, 0.922144, 0.748096, 0.657968, 0.554463, 0.255199, 0.589509, 0.60053, 0.64373, 0.488936, 0.987531, 0.554463, 0.700551, 0.811929, 0.0473141, 0.73566, 0.747633, 0.470514, 0.756214, 0.130073, 0.707488, 0.364991, 0.554463, 0.799332, 0.218811, 0.294716, 0.554463, 0.718215, 0.493734, 0.358613, 0.183226, 0.538364, 0.197636, 0.289229, 0.267247, 0.155278, 0.394765, 0.631148, 0.271181, 0.348753, 0.111466, 0.0258239, 0.0728405, 0.176026, 0.586315, 0.80855, 0.303906, 0.100723, 0.100723, 0.864746, 0.577831, 0.379549, 0.115569, 0.191725, 0.623144, 0.328129, 0.656442, 0.830512, 0.0791414, 0.000272893, 0.189189, 0.611734],\n",
       "        [0.00947877, 0.0278464, 0.383908, 0.0715704, 0.0014228, 5.16741e-08, 4.7283e-11, 0.00564019, 0.0107866, 0.00269958, 0.0507179, 0.00609985, 0.00087548, 0.0883903, 0.00250822, 5.77058e-10, 0.0175809, 0.0936392, 0.284806, 2.75374e-10, 0.000942781, 0.0883903, 0.00203669, 0.383908, 0.0162967, 0.285298, 0.383908, 1.38e-05, 0.0468045, 4.24924e-07, 0.296457, 0.037581, 0.0733136, 0.00311838, 0.0733136, 0.0277835, 0.00311838, 0.00311838, 0.00311838, 5.37839e-05, 0.186695, 0.0468045, 0.289518, 0.332206, 0.00704285, 4.50033e-06, 0.0400175, 0, 0.000810986, 0.037581, 0.185144, 0.0833283, 4.04876e-08, 0.0315603, 0.000130557, 0.383908, 0.00488146, 3.55636e-07, 6.56099e-05, 0.00450861, 5.70432e-06, 2.84244e-14, 9.23526e-10, 0.0382635, 0.000424313, 2.90439e-08, 8.52415e-21, 0.0514167, 2.33894e-10, 7.53059e-11, 1.48011e-06, 0.000189211, 4.08597e-05, 0.0782477, 1.38066e-05, 2.09936e-06, 0.00648612, 1.44671e-05, 0.0894578, 1.12487e-11, 4.56447e-08, 0.0214675, 0.00107041, 0.00432977, 7.35224e-07, 0.249251, 0.0214675, 0.00560011, 2.03598e-09, 0.130424, 0.0344815, 0.000179624, 0.0607139, 0.000199559, 5.17338e-05, 0.00648612, 0.000413812, 2.5791e-05, 0.00143095, 0.0010521, 0.569868, 2.69201e-06, 0.037581, 0.00114535, 0.0010521, 0.00432977, 0.0141046, 0.00648612, 0.0344815, 0.000636541, 4.06905e-06, 0.139779, 0.302303, 0.000229229, 0.0192908, 0.139779, 0.00648612, 0.0344815, 0.217397, 0.383908, 0.0607139, 3.53398e-05, 0.0439977, 0.0162967, 0.164271, 0.383908, 0.141782, 0.000296842, 0.00402338, 0.383908, 0.0439977, 0.217397, 6.79579e-06, 0.0439977, 0.15463, 0.383908, 1.05775e-05, 1.01044e-05, 0.15463, 0.383908, 0.00151663, 1.22194e-05, 0.383908, 0.0462094, 0.0291462, 0.023292, 0.0214957, 0.0122488, 0.00255662, 0.0342519, 1.32836e-07, 0.353433, 0.157008, 0.0952192, 0.000852371, 0.184161, 0.0290846, 0.0952192, 0.0551661, 0.000192585, 0.0921506, 0.383908, 0.00278869, 3.16781e-05, 0.0144058, 0.614792, 0.00253823, 0.0438837, 0.000628003, 0.41043, 0.166226, 0.000141088, 0.0192598, 0.0633096, 0.311519, 0.0952192, 0.00792176, 0.0042082, 0.228486, 0.126141, 0.0691352, 0.001433, 0.0952192, 0.00852696, 0.0520108, 0.409161, 0.0230505, 0.0986693, 0.0250166, 0.0568014, 0.345568, 0.187577, 0.321387, 0.0952192, 0.0177768, 0.750004, 0.461048, 0.0952192, 0.0487658, 0.0345417, 0.407721, 0.614792, 0.295535, 0.697188, 0.204955, 0.678372, 0.501007, 0.31745, 0.0475906, 0.186723, 0.324657, 0.355721, 0.205728, 0.547386, 0.759412, 0.271726, 0.132079, 0.488538, 0.383908, 0.383908, 0.00305235, 0.0095419, 0.331023, 0.0544172, 0.147576, 0.114897, 0.0964561, 0.0781213, 0.0891803, 0.298742, 0.0155974, 0.621441, 0.148769],\n",
       "        [0.167601, 0.126631, 0.377447, 0.248379, 0.00710936, 0.00246257, 1.61422e-05, 0.00956012, 0.032662, 0.00612072, 0.0572582, 0.171616, 0.0058437, 0.127659, 0.606925, 2.23765e-05, 0.406098, 0.0807549, 0.391455, 2.14574e-05, 0.066273, 0.127659, 0.00475258, 0.377447, 0.293026, 0.0281305, 0.377447, 0.182773, 0.177598, 3.85229e-05, 0.291265, 0.02792, 0.255293, 0.207182, 0.255293, 0.409588, 0.207182, 0.207182, 0.207182, 0.0051375, 0.179126, 0.177598, 0.0286859, 0.0425537, 0.00909273, 0.0232647, 0.115736, 1.14387e-05, 0.701295, 0.02792, 0.0689596, 0.11683, 7.74557e-05, 0.176466, 6.23966e-05, 0.377447, 0.0275064, 0.0425521, 0.0106581, 0.0304065, 0.00056304, 0.0148159, 0.100048, 0.117868, 0.0174702, 0.978961, 0.0551514, 0.138092, 0.00115847, 0.847225, 0.198599, 0.00350549, 0.00101053, 0.0782921, 0.636387, 0.0599227, 0.0272788, 0.0150427, 0.0800563, 0.133706, 0.000513498, 0.251222, 0.0943302, 0.112342, 0.0873419, 0.000293313, 0.251222, 0.0865725, 0.140029, 0.0707717, 0.0211406, 0.117297, 0.164599, 0.0766109, 0.0225899, 0.0272788, 0.13551, 0.00234822, 0.0751498, 0.00267393, 0.170149, 0.00662929, 0.02792, 0.0108799, 0.00267393, 0.112342, 0.201832, 0.0272788, 0.0211406, 0.0369722, 0.0128683, 0.128873, 0.0947983, 0.147371, 0.0992358, 0.128873, 0.0272788, 0.0211406, 0.103884, 0.377447, 0.164599, 0.000333316, 0, 0.293026, 0.228449, 0.377447, 0.204152, 0.0510056, 0.178754, 0.377447, 0, 0.103884, 0, 0, 0.203374, 0.377447, 0.000620083, 0.439118, 0.203374, 0.377447, 0.00210495, 0.0104661, 0.377447, 2.20807e-05, 0.0615909, 0.147581, 0.00120251, 2.65608e-05, 0.00113466, 0.131193, 0.14517, 0.10422, 0.403262, 0.224568, 0.197098, 0.0547267, 0.192614, 0.224568, 0.304082, 0.56791, 0.019069, 0.377447, 0.265445, 0.0602466, 0.236576, 0.0649696, 0.156937, 0.117353, 0.0614201, 0.0308299, 0.00667655, 0.193862, 0.0438802, 0.172469, 0.0299558, 0.224568, 0.736877, 0.406257, 0.13553, 0.222606, 0.438764, 0.00900765, 0.224568, 0.29092, 0.0929723, 0.480342, 0.237113, 0.00622192, 0.504267, 0.0362936, 0.0156409, 0.0672884, 0.0138736, 0.224568, 0.182887, 0.0311044, 0.23043, 0.224568, 0.207992, 0.471724, 0.12622, 0.0649696, 0.166085, 0.0332989, 0.481751, 0.0489917, 0.338024, 0.0886715, 0.298587, 0.187884, 0.326547, 0.0161049, 0.474386, 0.0344961, 0.0641568, 0.141469, 0.0550787, 0.0607112, 0.377447, 0.377447, 0.130159, 0.412256, 0.10048, 0.0172275, 0.2157, 0.261951, 0.574656, 0.261835, 0.0489516, 0.00241438, 2.14375e-05, 0.166775, 0.0886501]]), 'most_likely_positions_1D': None}),\n",
       " DynamicContainer({'p_x_given_n': array([[0.137922, 0.239955, 0.137922, 0.137922, 0.137922, 0.137922, 0.137922, 0.0914408, 0.118974, 0.22603, 0.137922, 0.137922, 0.137922, 0.137922, 0.239955, 0.239955, 0.137922, 0.66239, 0.137922, 0.239955, 0.137922, 0.115429, 0.0987187, 0.18341, 0.239955, 0.053604, 0.239955, 0.105693, 0.0196, 0.137922, 0.0196, 0.0570268, 0.113283, 1.25227e-05, 0.239955, 0.18341, 0.638139, 0.053604, 0.18341, 0.137922, 0.638139, 0.991288, 0.137922, 0.137922, 0.239955, 0.994313, 0.898687, 0.937771, 0.710271, 0.137922, 0.771661, 0.791189, 0.756762, 0.638139, 0.444999, 1, 0.961647, 0.410292, 0.842289, 0.294114, 0.99951, 0.987727, 1, 0.842289, 0.996684, 0.964575, 0.99765, 0.839811, 0.756762, 0.898439, 0.430007, 0.269616, 0.701475, 0.748403, 0.228114, 0.96795, 0.890994, 0.330493, 0.320176, 0.686911, 0.926319, 0.572338, 0.137922, 0.830331, 0.963235, 0.709565, 0.137922, 0.295079, 0.719784, 0.88665, 0.361426, 0.247723, 0.330493, 0.554293, 0.465974, 0.8402, 0.712466, 0.14893, 0.854718, 0.488329, 0.87114, 0.802036, 0.765577, 0.719914, 0.617153, 0.752537, 0.762042, 0.789415, 0.687573, 0.659785, 0.719914, 0.851728, 0.440834, 0.560307, 0.524504, 0.137922, 0.137922, 0.137922, 0.45718, 0.597682, 0.778363, 0.689857, 0.137922, 0.978673, 0.687316, 0.137922, 0.560307, 0.137922, 0.863835, 0.594861, 0.602366, 0.137922, 0.614262, 0.854905, 0.277524, 0.0407388, 0.137922, 0.712466, 0.839436, 0.137922, 0.0916453, 0.137922, 0.853435, 0.594861, 0.433265, 0.69959, 0.638139, 0.137922, 0.137922, 0.930822, 0.594861, 0.622716, 0.137922, 0.173186, 0.37351, 0.368888, 0.622716, 0.905626, 0.745018, 0.546298, 0.228114, 0.736285, 0.638139, 0.973615, 0.920792, 0.89764, 0.638139, 0.137922, 0.992634, 0.137922, 0.137922, 0.137922, 0.569412, 0.938951, 0.859141, 0.137922, 0.137922, 0.993624, 0.38379, 0.137922, 0.911231, 0.762777, 0.36862, 0.657207, 0.137922, 0.582173, 0.42378, 0.894116, 0.582173, 0.137922, 0.137922, 0.684992, 0.137922, 0.895801, 0.532103, 0.120737, 0.712418, 0.683381, 0.965781, 0.78296, 0.510221, 0.259421, 0.674484, 0.557559, 0.333048, 0.42378, 0.55032, 0.553247, 0.233795, 0.597877, 0.632483, 0.582173, 0.455871, 0.137922, 0.543679, 0.493184, 0.137922, 0.42378, 0.137922, 0.137922, 0.542068, 0.137922, 0.55032, 0.137922, 0.137922, 0.441805, 0.55287, 0.22603, 0.55032, 0.137922, 0.640244, 0.42378, 0.137922, 0.137922, 0.137922, 0.137922, 0.137922, 0.137922],\n",
       "        [0.100723, 0.274114, 0.100723, 0.100723, 0.100723, 0.100723, 0.100723, 0.184404, 0.176187, 0.118262, 0.100723, 0.100723, 0.100723, 0.100723, 0.274114, 0.274114, 0.100723, 0.134635, 0.100723, 0.274114, 0.100723, 0.309741, 0.545891, 0.38956, 0.274114, 0.105257, 0.274114, 0.584984, 0.0224925, 0.100723, 0.0224925, 0.00252968, 0.773361, 0.628052, 0.274114, 0.38956, 0.155754, 0.105257, 0.38956, 0.100723, 0.155754, 0.000866392, 0.100723, 0.100723, 0.274114, 0.000181473, 1.6781e-06, 0.016332, 0.0813179, 0.100723, 0.0446891, 5.49688e-07, 0.0449206, 0.155754, 0.191725, 1.50732e-11, 0.00265439, 0.268426, 0.0022148, 0.359952, 1.10837e-07, 0.0119177, 3.0367e-08, 0.0022148, 3.47318e-05, 0.0314727, 1.91036e-05, 1.85076e-09, 0.0449206, 0.00681947, 0.242387, 0.694745, 2.01693e-06, 1.92378e-05, 0.274327, 0.000529555, 0.0025265, 0.499993, 0.653402, 0.167965, 0.000139516, 0.0176589, 0.100723, 0.0311583, 1.21355e-05, 0.16463, 0.100723, 0.63942, 0.0285753, 0.0485351, 0.360128, 0.683998, 0.499993, 1.70642e-07, 0.176522, 3.62105e-10, 0.0110342, 0.825542, 0.00146657, 4.86651e-06, 1.79669e-06, 0.0047029, 0.0301691, 0.0713552, 4.61965e-06, 0.0264023, 0.00869617, 0.00455005, 2.29872e-05, 2.24382e-05, 0.0713552, 0.00915815, 0.129589, 0.0477879, 1.23097e-05, 0.100723, 0.100723, 0.100723, 2.60881e-05, 0.0191282, 0.00333542, 0.000138341, 0.100723, 0.000121217, 0.00181004, 0.100723, 0.0477879, 0.100723, 0.007107, 0.0917106, 0.0300866, 0.100723, 0.0459157, 9.13445e-05, 0.453825, 0.949248, 0.100723, 0.0110342, 0.014486, 0.100723, 0.278888, 0.100723, 3.74283e-07, 0.0917106, 0.162823, 0.00149229, 0.155754, 0.100723, 0.100723, 0.00225865, 0.0917106, 0.0590801, 0.100723, 0.266543, 0.376845, 0.237877, 0.0590801, 0.000608635, 0.0701286, 0.019154, 0.274327, 0.165042, 0.155754, 1.99967e-05, 0.0244437, 0.0135228, 0.155754, 0.100723, 3.92935e-06, 0.100723, 0.100723, 0.100723, 0.0225389, 0.00618673, 6.62798e-05, 0.100723, 0.100723, 0.000562731, 0.159327, 0.100723, 0.00878941, 0.0155621, 0.0285344, 0.0216442, 0.100723, 0.0430916, 0.0940098, 0.0302423, 0.0430916, 0.100723, 0.100723, 0.282446, 0.100723, 0.00242872, 0.000364318, 0.814652, 0.0738278, 0.0273971, 0.00137767, 0.121139, 0.34511, 0.062162, 0.00893931, 0.0126768, 0.442549, 0.0940098, 0.119575, 0.126803, 0.737935, 0.293601, 0.0134023, 0.0430916, 0.095008, 0.100723, 0.0966196, 0.292379, 0.100723, 0.0940098, 0.100723, 0.100723, 0.0540968, 0.100723, 0.119575, 0.100723, 0.100723, 0.078925, 0.213956, 0.118262, 0.119575, 0.100723, 0.0664799, 0.0940098, 0.100723, 0.100723, 0.100723, 0.100723, 0.100723, 0.100723],\n",
       "        [0.383908, 0.113169, 0.383908, 0.383908, 0.383908, 0.383908, 0.383908, 0.0498046, 0.166527, 0.382351, 0.383908, 0.383908, 0.383908, 0.383908, 0.113169, 0.113169, 0.383908, 0.159127, 0.383908, 0.113169, 0.383908, 0.0886848, 0.0490231, 0.042355, 0.113169, 0.376629, 0.113169, 0.0162967, 0.183392, 0.383908, 0.183392, 0.902833, 0.013677, 0.00125971, 0.113169, 0.042355, 0.0986743, 0.376629, 0.042355, 0.383908, 0.0986743, 0.00769069, 0.383908, 0.383908, 0.113169, 0.00544185, 0.101306, 0.0457979, 0.154607, 0.383908, 0.173829, 0.208774, 0.167678, 0.0986743, 0.147576, 0, 0.0348709, 0.217397, 0.151848, 0.141782, 0.000486437, 0.000201358, 0, 0.151848, 0.00322981, 0.00241001, 0.00233075, 0.160189, 0.167678, 0.092804, 0.315995, 0.0309725, 0.298477, 0.251323, 0.152535, 0.0313062, 0.0995274, 0.0894578, 0.00304973, 0.131567, 0.0735397, 0.387179, 0.383908, 0.129456, 0.036753, 0.111456, 0.383908, 0.037581, 0.250743, 0.0648003, 0.184429, 0.0358848, 0.0894578, 0.445707, 0.271685, 0.1598, 0.274863, 0.0208163, 0.143739, 0.511555, 0.128858, 0.192498, 0.202028, 0.178075, 0.382808, 0.215118, 0.226961, 0.199985, 0.311614, 0.3401, 0.178075, 0.137869, 0.362523, 0.31201, 0.475472, 0.383908, 0.383908, 0.383908, 0.542776, 0.32565, 0.212946, 0.289011, 0.383908, 0.0212035, 0.310754, 0.383908, 0.31201, 0.383908, 0.128331, 0.285298, 0.350704, 0.383908, 0.286341, 0.144995, 0.139779, 0.000889768, 0.383908, 0.274863, 0.144809, 0.383908, 0.091224, 0.383908, 0.146564, 0.285298, 0.238779, 0.298803, 0.0986743, 0.383908, 0.383908, 0.0661115, 0.285298, 0.289518, 0.383908, 0.157008, 0.111195, 0.0930432, 0.289518, 0.0926761, 0.138012, 0.431103, 0.152535, 0.0295397, 0.0986743, 0.0263634, 0.0217636, 0.0781367, 0.0986743, 0.383908, 0.00736144, 0.383908, 0.383908, 0.383908, 0.389777, 0.0501597, 0.140226, 0.383908, 0.383908, 0.00567539, 0.110987, 0.383908, 0.0742118, 0.215311, 0.4918, 0.305468, 0.383908, 0.356297, 0.32741, 0.059205, 0.356297, 0.383908, 0.383908, 0.0036113, 0.383908, 0.101057, 0.467486, 0.00180328, 0.0948551, 0.2635, 0.0327262, 0.0670644, 0.0392271, 0.425545, 0.302916, 0.410834, 0.0468045, 0.32741, 0.214383, 0.0715704, 0.0080067, 0.0494043, 0.346741, 0.356297, 0.236227, 0.383908, 0.23405, 0.162905, 0.383908, 0.32741, 0.383908, 0.383908, 0.34102, 0.383908, 0.214383, 0.383908, 0.383908, 0.334176, 0.158463, 0.382351, 0.214383, 0.383908, 0.23943, 0.32741, 0.383908, 0.383908, 0.383908, 0.383908, 0.383908, 0.383908],\n",
       "        [0.377447, 0.372762, 0.377447, 0.377447, 0.377447, 0.377447, 0.377447, 0.674351, 0.538312, 0.273358, 0.377447, 0.377447, 0.377447, 0.377447, 0.372762, 0.372762, 0.377447, 0.043848, 0.377447, 0.372762, 0.377447, 0.486145, 0.306367, 0.384675, 0.372762, 0.464509, 0.372762, 0.293026, 0.774516, 0.377447, 0.774516, 0.03761, 0.099679, 0.370675, 0.372762, 0.384675, 0.107432, 0.464509, 0.384675, 0.377447, 0.107432, 0.000155293, 0.377447, 0.377447, 0.372762, 6.34734e-05, 4.90957e-06, 9.90484e-05, 0.0538041, 0.377447, 0.00982082, 3.67812e-05, 0.0306392, 0.107432, 0.2157, 0, 0.00082741, 0.103884, 0.0036491, 0.204152, 3.55973e-06, 0.000153544, 0, 0.0036491, 5.16402e-05, 0.00154192, 2.13217e-09, 2.39578e-07, 0.0306392, 0.0019377, 0.011611, 0.00466646, 4.51322e-05, 0.000255483, 0.345025, 0.000214272, 0.00695167, 0.0800563, 0.0233719, 0.0135567, 2.13271e-06, 0.0228241, 0.377447, 0.00905421, 1.33005e-08, 0.0143485, 0.377447, 0.02792, 0.000897287, 1.48914e-05, 0.094017, 0.0323941, 0.0800563, 4.06497e-08, 0.0858193, 2.37467e-12, 0.00163711, 0.00471241, 7.62424e-05, 0.000111367, 4.14407e-08, 0.000763282, 0.00222603, 0.0306557, 3.51193e-05, 0.00594283, 0.00229995, 0.00604947, 0.000790608, 9.2307e-05, 0.0306557, 0.00124536, 0.067054, 0.0798953, 1.18976e-05, 0.377447, 0.377447, 0.377447, 1.7688e-05, 0.0575397, 0.00535573, 0.0209932, 0.377447, 1.78869e-06, 0.000119955, 0.377447, 0.0798953, 0.377447, 0.000726432, 0.0281305, 0.0168443, 0.377447, 0.0534816, 9.1106e-06, 0.128873, 0.00912355, 0.377447, 0.00163711, 0.00126886, 0.377447, 0.538243, 0.377447, 8.70806e-08, 0.0281305, 0.165133, 0.000114673, 0.107432, 0.377447, 0.377447, 0.000808093, 0.0281305, 0.0286859, 0.377447, 0.403262, 0.138449, 0.300192, 0.0286859, 0.00108963, 0.0468422, 0.0034457, 0.345025, 0.069133, 0.107432, 1.96654e-06, 0.0330003, 0.0107, 0.107432, 0.377447, 4.00785e-07, 0.377447, 0.377447, 0.377447, 0.0182724, 0.0047029, 0.000566649, 0.377447, 0.377447, 0.000137495, 0.345897, 0.377447, 0.00576784, 0.0063497, 0.111045, 0.0156801, 0.377447, 0.0184379, 0.1548, 0.0164372, 0.0184379, 0.377447, 0.377447, 0.0289516, 0.377447, 0.000713267, 4.66633e-05, 0.0628073, 0.118899, 0.0257217, 0.000115036, 0.0288369, 0.105441, 0.252872, 0.0136609, 0.0189303, 0.177598, 0.1548, 0.115722, 0.248379, 0.0202634, 0.0591182, 0.00737376, 0.0184379, 0.212894, 0.377447, 0.125651, 0.0515319, 0.377447, 0.1548, 0.377447, 0.377447, 0.0628149, 0.377447, 0.115722, 0.377447, 0.377447, 0.145094, 0.0747109, 0.273358, 0.115722, 0.377447, 0.0538462, 0.1548, 0.377447, 0.377447, 0.377447, 0.377447, 0.377447, 0.377447]]), 'most_likely_positions_1D': None}),\n",
       " DynamicContainer({'p_x_given_n': array([[0.137922, 0.137922, 0.137922, ..., 0.438382, 0.114094, 0.0886242],\n",
       "        [0.100723, 0.100723, 0.100723, ..., 0.142257, 0.843877, 0.575911],\n",
       "        [0.383908, 0.383908, 0.383908, ..., 0.112137, 0.0368944, 0.317189],\n",
       "        [0.377447, 0.377447, 0.377447, ..., 0.307224, 0.00513407, 0.0182759]]), 'most_likely_positions_1D': None}),\n",
       " DynamicContainer({'p_x_given_n': array([[0.239955, 0.185351, 0.0128837, ..., 0.137922, 0.137922, 0.137922],\n",
       "        [0.274114, 0.339864, 0.984056, ..., 0.100723, 0.100723, 0.100723],\n",
       "        [0.113169, 0.0436864, 0.0029475, ..., 0.383908, 0.383908, 0.383908],\n",
       "        [0.372762, 0.431098, 0.000113187, ..., 0.377447, 0.377447, 0.377447]]), 'most_likely_positions_1D': None}),\n",
       " DynamicContainer({'p_x_given_n': array([[0.310418, 0.137922, 0.22603, 0.137922, 0.448195, 0.258509, 0.673686, 0.542068, 0.582173, 0.137922, 0.137922, 0.071001, 0.00951457, 0.333048, 0.319304, 0.76751, 2.13567e-09, 0.000266965, 0.137922, 0.521425, 0.0532577, 0.137922, 0.104021, 0.171938, 0.000686678, 5.95639e-06, 0.542068, 0.137922, 0.105693, 0.55032, 0.388573, 0.307289, 1.17273e-09, 0.0560588, 0.258565, 0.0109896, 0.000178011, 0.137922, 0.0479929, 0.258565, 0.254096, 0.0240055, 0.00398499, 0.026681, 0.638139, 0.0345274, 8.84377e-05, 0.374945, 0.147241, 0.248741, 0.594861, 0.318993, 0.240106, 9.70765e-05, 2.23209e-07, 0.0382452, 0.00365845, 0.000517886, 0.00108699, 0.000113365, 0.0239963, 0.0884078, 1.0601e-05, 1.01991e-18, 0.1108, 0.00875081, 0.004121, 5.53142e-12, 0.00448184, 0.0718007, 6.99808e-09, 0.00567838, 1.9837e-09, 0.00280371, 0.0024363, 0.00243263, 0.000288146, 0.373776, 0.00214671, 0.0382452, 0.277524, 1.72461e-08, 0.000262866, 0.00369088, 0.000350058, 3.85523e-08, 0.000787379, 0.330493, 7.02569e-05, 0.00160403, 0.0577235, 0.00504606, 0.127873, 0.137922, 0.000787379, 0.0198111, 0.00474809, 0.00673966, 0.168301, 0.0198111, 0.0170565, 1.46027e-07, 1.10098e-06, 0.277524, 0.293842, 0.108959, 0.00331405, 0.148454, 0.0198111, 0.0209529, 0.00646261, 0.277524, 0.148454, 0.108959, 0.137922, 0.0102772, 0.277524, 0.0844652, 0.000480047, 6.29912e-08, 0.137922, 0.137922, 0.000118159, 0.0847852, 0.137922, 0.115339, 0.0169724, 0.0002196, 0.000279615, 0.137922, 0.38379, 0.00744652, 0.0395949, 0.0555581, 0.0520228, 0.00500872, 3.45833e-06, 0.137922, 0.239955, 0.0804537, 6.42132e-05, 0.0928366, 0.0718007, 0.125749, 0.0841585, 0.00235075, 0.321652, 0.284863, 1.81041e-05, 4.13997e-06, 0.339456, 0.284863, 0.0352695, 1.18541e-07, 0.000576406, 1.37822e-05, 3.03594e-06, 0.00129926, 0.00106305, 0.599836, 0.0134449, 0.00150157, 0.00827273, 6.19485e-06, 0.000735151, 0.00417616, 0.00036788, 1.13456e-06, 0.425793, 1.57044e-07, 0.00157251, 0.00119309, 0.164062, 0.040387, 0.048848, 0.125749, 8.915e-06, 0.115339, 0.000150256, 0.000270744, 0.0165073, 0.125749, 0.199114, 2.44595e-05, 0.000226509, 0.00260637, 0.125749, 0.00249683, 0.007522, 5.80877e-05, 0.00168766, 0.194059, 0.115339, 0.0226747, 0.0117091, 0.00249683, 0.0023488, 0.000182216, 0.0321597, 0.00236873],\n",
       "        [0.276805, 0.100723, 0.118262, 0.100723, 0.102386, 0.245554, 0.0871091, 0.0540968, 0.0430916, 0.100723, 0.100723, 0.922955, 0.584781, 0.442549, 0.338001, 0.0193258, 0.999796, 0.996022, 0.100723, 0.468408, 0.919089, 0.100723, 0.488716, 0.753338, 0.99749, 0.999961, 0.0540968, 0.100723, 0.584984, 0.119575, 0.507112, 0.460636, 1, 0.495835, 0.412828, 0.915792, 0.99584, 0.100723, 0.678749, 0.412828, 0.611296, 0.926201, 0.995994, 0.916551, 0.155754, 0.372939, 0.999912, 0.440935, 0.411722, 0.751245, 0.0917106, 0.508463, 0.706348, 0.999728, 0.99709, 0.845083, 0.996149, 0.999456, 0.87738, 0.815595, 0.910814, 0.906421, 0.99765, 0.997166, 0.32125, 0.822781, 0.54434, 0.141883, 0.959129, 0.655509, 0.968959, 0.919823, 0.996995, 0.996343, 0.883701, 0.948159, 0.934837, 0.320779, 0.77714, 0.845083, 0.453825, 0.999359, 0.994974, 0.830057, 0.906341, 0.99428, 0.995518, 0.499993, 0.955227, 0.984763, 0.926139, 0.988586, 0.653501, 0.100723, 0.995518, 0.946424, 0.957643, 0.920547, 0.725985, 0.946424, 0.965665, 1, 0.986711, 0.453825, 0.340337, 0.835418, 0.982141, 0.626233, 0.946424, 0.295839, 0.929736, 0.453825, 0.626233, 0.835418, 0.100723, 0.980834, 0.453825, 0.871537, 0.999333, 0.955724, 0.100723, 0.100723, 0.999865, 0.769961, 0.100723, 0.526657, 0.951728, 0.999762, 0.965778, 0.100723, 0.159327, 0.991659, 0.927947, 0.925933, 0.938163, 0.985195, 0.8185, 0.100723, 0.274114, 0.754101, 0.863792, 0.62723, 0.655509, 0.554463, 0.776843, 0.987319, 0.162956, 0.45874, 0.611407, 0.863685, 0.0159429, 0.45874, 0.899452, 0.680136, 0.693347, 0.716062, 0.257809, 0.955998, 0.96922, 0.0410837, 0.844091, 0.846422, 0.976996, 0.941767, 0.505155, 0.73566, 0.972601, 0.941642, 0.228715, 0.920241, 0.92515, 0.905507, 0.427148, 0.911571, 0.492115, 0.554463, 0.839614, 0.526657, 0.768425, 0.807393, 0.703119, 0.554463, 0.394765, 0.790022, 0.823327, 0.743706, 0.554463, 0.364526, 0.64373, 0.919855, 0.171643, 0.344747, 0.526657, 0.631148, 0.491485, 0.364526, 0.716441, 0.795647, 0.463944, 0.494081],\n",
       "        [0.23978, 0.383908, 0.382351, 0.383908, 0.288153, 0.122294, 0.0781537, 0.34102, 0.356297, 0.383908, 0.383908, 0.000276226, 0.0525074, 0.0468045, 0.0945659, 0.195099, 2.04363e-14, 7.83062e-06, 0.383908, 0.0052954, 0.00972097, 0.383908, 0.00581292, 0.0169941, 5.19021e-07, 5.60019e-09, 0.34102, 0.383908, 0.0162967, 0.214383, 0.0867016, 0.0316735, 8.17377e-16, 0.00239727, 0.0733136, 6.41043e-05, 1.11629e-06, 0.383908, 0.00968948, 0.0733136, 0.00500024, 0.00106703, 0, 0.00121131, 0.0986743, 0.315709, 0, 0.0863928, 0.0244894, 0, 0.285298, 0.1497, 0.0285543, 0.000104117, 4.6554e-05, 0.00432977, 0.000130557, 4.91956e-06, 0.0325126, 6.06826e-11, 0.030399, 0.00356071, 1.48093e-05, 8.43315e-25, 0.128954, 0.0140042, 0.0102996, 2.51414e-19, 0.00119961, 0.0214675, 1.15773e-08, 0.00104571, 2.38135e-09, 0.000479554, 0.000311783, 0.00053846, 2.6319e-05, 0.153134, 0.00065782, 0.00432977, 0.139779, 6.95389e-08, 1.67661e-05, 0.00164909, 6.00409e-05, 1.37245e-07, 0.000189211, 0.0894578, 1.32618e-05, 0.000102962, 0.00836208, 0.00190331, 0.0759556, 0.383908, 0.000189211, 0.00648612, 0.000636541, 2.28919e-05, 0.0332967, 0.00648612, 0.0114583, 8.66685e-08, 1.3268e-07, 0.139779, 0.186695, 0.0344815, 0.000142989, 0.0607139, 0.00648612, 0.23409, 0.000991352, 0.139779, 0.0607139, 0.0344815, 0.383908, 0.00227292, 0.139779, 0.0439977, 0.000186784, 8.36847e-09, 0.383908, 0.383908, 1.68624e-05, 0.0307558, 0.383908, 0.15463, 0.0100149, 1.56806e-05, 0.00059453, 0.383908, 0.110987, 0.00052564, 0.0283345, 0.0162361, 0.00966195, 0.00104136, 1.19082e-05, 0.383908, 0.113169, 0.0342519, 1.80103e-05, 0.178168, 0.0214675, 0.0952192, 0.024478, 0.00381129, 0.349572, 0.164572, 4.92754e-05, 1.08984e-06, 0.641802, 0.164572, 0.00383021, 2.43292e-06, 0.038483, 0.000846518, 5.69381e-05, 0.000367235, 0.00251953, 0.356791, 0.00995384, 0.0112056, 0.00577327, 0.00587983, 0.476247, 0.0230505, 0.00191766, 0.00033517, 0.209824, 0.0368925, 0.0157729, 0.00186047, 0.0697778, 0.0318381, 0.303283, 0.0952192, 6.06218e-06, 0.15463, 0.0247354, 0.0281937, 0.200348, 0.0952192, 0.31745, 0.00603829, 0.0805664, 0.148676, 0.0952192, 0.360466, 0.126141, 0.0473808, 0.244692, 0.180873, 0.15463, 0.0475906, 0.0927259, 0.360466, 0.206723, 0.0198596, 0.305221, 0.318476],\n",
       "        [0.172997, 0.377447, 0.273358, 0.377447, 0.161266, 0.373643, 0.161051, 0.0628149, 0.0184379, 0.377447, 0.377447, 0.00576802, 0.353197, 0.177598, 0.248129, 0.0180651, 0.000204393, 0.00370279, 0.377447, 0.00487136, 0.0179327, 0.377447, 0.40145, 0.0577292, 0.00182292, 3.27192e-05, 0.0628149, 0.377447, 0.293026, 0.115722, 0.0176137, 0.200401, 3.35002e-08, 0.445709, 0.255293, 0.0731541, 0.00398131, 0.377447, 0.263569, 0.255293, 0.129608, 0.0487261, 2.1047e-05, 0.0555568, 0.107432, 0.276825, 6.71857e-12, 0.0977266, 0.416547, 1.30744e-05, 0.0281305, 0.0228437, 0.0249916, 7.03435e-05, 0.00286327, 0.112342, 6.23966e-05, 2.07661e-05, 0.0890207, 0.184291, 0.0347901, 0.00161027, 0.00232505, 0.00283379, 0.438995, 0.154464, 0.441239, 0.858117, 0.0351895, 0.251222, 0.0310412, 0.073453, 0.00300467, 0.000373258, 0.113551, 0.0488696, 0.0648482, 0.152311, 0.220055, 0.112342, 0.128873, 0.000640965, 0.00474659, 0.164603, 0.0932494, 0.00571958, 0.00350549, 0.0800563, 0.0446891, 0.0135304, 0.007775, 0.00446462, 0.142671, 0.377447, 0.00350549, 0.0272788, 0.0369722, 0.0726901, 0.0724173, 0.0272788, 0.00582063, 3.46908e-08, 0.0132877, 0.128873, 0.179126, 0.0211406, 0.014402, 0.164599, 0.0272788, 0.449118, 0.0628102, 0.128873, 0.164599, 0.0211406, 0.377447, 0.00661555, 0.128873, 0, 0, 0.0442759, 0.377447, 0.377447, 0, 0.114498, 0.377447, 0.203374, 0.0212849, 2.73462e-06, 0.0333483, 0.377447, 0.345897, 0.00036836, 0.00412356, 0.00227243, 0.000152136, 0.00875508, 0.181484, 0.377447, 0.372762, 0.131193, 0.136126, 0.101765, 0.251222, 0.224568, 0.11452, 0.00651873, 0.165821, 0.0918253, 0.388526, 0.13631, 0.00279875, 0.0918253, 0.0614482, 0.319861, 0.267593, 0.283078, 0.742131, 0.0423358, 0.027197, 0.00228855, 0.13251, 0.14087, 0.00895781, 0.0523469, 0.0178623, 0.237113, 0.0251136, 0.0580213, 0.135667, 0.0428666, 0.057505, 0.0914396, 0.339012, 0.0162039, 0.155754, 0.224568, 0.160371, 0.203374, 0.206689, 0.164143, 0.0800255, 0.224568, 0.0886715, 0.203915, 0.09588, 0.105012, 0.224568, 0.272511, 0.222606, 0.0327058, 0.581977, 0.280321, 0.203374, 0.298587, 0.40408, 0.272511, 0.0744871, 0.184311, 0.198676, 0.185074]]), 'most_likely_positions_1D': None}),\n",
       " DynamicContainer({'p_x_given_n': array([[0.632633, 0.0629088, 0.137922, ..., 0.137922, 0.137922, 0.137922],\n",
       "        [0.0156773, 0.485295, 0.100723, ..., 0.100723, 0.100723, 0.100723],\n",
       "        [0.339057, 0.0782381, 0.383908, ..., 0.383908, 0.383908, 0.383908],\n",
       "        [0.0126331, 0.373558, 0.377447, ..., 0.377447, 0.377447, 0.377447]]), 'most_likely_positions_1D': None}),\n",
       " DynamicContainer({'p_x_given_n': array([[0.322884, 0.137922, 0.137922, ..., 0.00696741, 0.00162782, 0.354212],\n",
       "        [0.664009, 0.100723, 0.100723, ..., 0.493291, 0.540682, 0.271181],\n",
       "        [0.00461468, 0.383908, 0.383908, ..., 0.0412342, 0.0351607, 0.186723],\n",
       "        [0.00849272, 0.377447, 0.377447, ..., 0.458508, 0.422529, 0.187884]]), 'most_likely_positions_1D': None}),\n",
       " DynamicContainer({'p_x_given_n': array([[0.179564, 0.137922, 0.137922, ..., 0.401098, 0.137922, 0.67575],\n",
       "        [0.714073, 0.100723, 0.100723, ..., 0.426094, 0.100723, 0.0831088],\n",
       "        [0.0662951, 0.383908, 0.383908, ..., 0.0439118, 0.383908, 0.182833],\n",
       "        [0.0400679, 0.377447, 0.377447, ..., 0.128896, 0.377447, 0.0583081]]), 'most_likely_positions_1D': None}),\n",
       " DynamicContainer({'p_x_given_n': array([[0.908011, 0.762777, 0.137922, 0.243322, 0.241183, 0.0201206, 0.137922, 0.108022, 0.137922, 0.427463, 8.09953e-08, 0.00016553, 0.241183, 0.42378, 8.24094e-05, 0.362496, 0.137922, 0.137922, 0.401098, 2.43449e-07, 0.137922, 0.637588, 0.000175094, 0.137922, 0.876091, 0.322884, 4.68569e-06, 0.000290915, 0.217976, 0.0288467, 0.120376, 0.00139532, 0.0489268, 0.00885271, 3.67718e-05, 0.013813, 0.473247, 0.0186192, 0.00191984, 0.258565, 0.0234163, 2.86289e-05, 0.320806, 0.240106, 0.240106, 0.000301531, 0.619428, 0.173186, 0.354212, 0.0005247, 7.18838e-09, 0.277524, 0.293842, 0.000173363, 0.00047946, 0.000531904, 0.000935463, 2.18042e-08, 3.50127e-08, 0.141765, 0.986982, 0.0311965, 0.000385082, 3.42436e-05, 0.0138915, 0.00384909, 0.0163267, 1.63881e-06, 1.65407e-05, 0.000988861, 0.00236664, 0.0382452, 0.00404595, 0.137922, 0.000216545, 0.000801494, 5.84605e-07, 1.54553e-05, 0.00849852, 3.31272e-09, 0.00643069, 1.79306e-05, 0.000180113, 0.00849719, 0.000178249, 0.000118141, 0.137922, 0.00893778, 0.295079, 0.00165352, 0.331054, 0.137922, 0.00155147, 0.277524, 0.0494831, 0.108959, 0.258565, 0.0380001, 0.00655277, 0.0244018, 0.410292, 1.49066e-06, 0.0132266, 0.168301, 0.108959, 0.0389631, 0.22603, 0.137922, 0.00417773, 0.493184, 1.17968e-05, 0.115339, 0.137922, 0.00184381, 0.0156201, 0.115339, 0.0163245, 0.000821701, 0.00759797, 0.123052, 0.0844652, 0.0847852, 0.00192756, 0.000390995, 1.69694e-05, 0.000140944, 0.0555581, 0.00500872, 0.122124, 0.0104336, 0.138424, 0.0389284, 0.000109408, 0.0188372, 0.239955, 0.0804537, 0.00437282, 1.12487e-10, 0.137013, 0.125749, 0.0352695, 0.000396798, 0.508582, 0.021669, 0.000396743, 2.37088e-16, 0.00208869, 2.41228e-09, 0.00117659, 0.0209529, 0.0430883, 0.0506057, 0.000610252, 0.000402157, 5.58035e-05, 0.0401329, 0.0430883, 0.00527823, 5.09803e-05, 1.52143e-05, 0.0148481, 0.0226747, 3.96212e-06, 1.03103e-05, 0.0208019, 0.0390207, 0.0952438, 0.00107751, 0.281402, 0.125749, 0.115339, 0.0250273, 7.78555e-05, 0.394522, 0.125749, 0.007522, 4.17112e-05, 0.00728194, 0.0684106, 0.00053974, 0.0924719, 9.31991e-05, 0.137013, 0.444999, 0.409963, 0.137922, 0.00196951, 0.354212, 0.0155273, 0.137922, 0.713936, 0.00249683, 0.0241882, 0.0074576, 0.048848, 9.0951e-07, 0.00101124, 0.126095, 0.00268145, 0.0163181, 1.42573e-07, 0.000758825, 0.897989, 0.588859],\n",
       "        [0.042301, 0.0155621, 0.100723, 0.290085, 0.542768, 0.973181, 0.100723, 0.710146, 0.100723, 0.145266, 0.99998, 0.999832, 0.542768, 0.0940098, 0.764152, 0.428774, 0.100723, 0.100723, 0.426094, 0.999988, 0.100723, 0.0399492, 0.940605, 0.100723, 0.000512669, 0.664009, 0.999992, 0.990365, 0.626271, 0.938517, 0.787521, 0.992, 0.272713, 0.990147, 0.993469, 0.97201, 0.179519, 0.979261, 0.940075, 0.412828, 0.973544, 0.999932, 0.601197, 0.706348, 0.706348, 0.997654, 0.101237, 0.266543, 0.271181, 0.998008, 0.998804, 0.453825, 0.340337, 0.996413, 0.570617, 0.863502, 0.864929, 0.497063, 0.535543, 0.829588, 0.0124579, 0.841005, 0.939178, 0.894872, 0.289522, 0.713542, 0.88397, 0.953749, 0.975505, 0.998642, 0.475117, 0.845083, 0.984244, 0.100723, 0.727485, 0.814124, 0.957685, 0.968445, 0.861888, 0.164211, 0.960592, 0.993689, 0.999451, 0.61037, 0.992065, 0.35318, 0.100723, 0.984149, 0.63942, 0.968701, 0.439431, 0.100723, 0.955652, 0.453825, 0.92426, 0.835418, 0.412828, 0.949238, 0.898047, 0.726027, 0.268426, 0.833605, 0.652194, 0.725985, 0.835418, 0.679114, 0.118262, 0.100723, 0.992096, 0.292379, 0.997231, 0.526657, 0.100723, 0.997828, 0.711691, 0.526657, 0.963197, 0.998588, 0.991465, 0.406624, 0.871537, 0.769961, 0.997918, 0.874884, 0.73685, 0.99978, 0.925933, 0.985195, 0.815039, 0.988036, 0.830998, 0.850231, 0.873962, 0.912667, 0.274114, 0.754101, 0.755655, 0.292556, 0.183226, 0.554463, 0.899452, 0.875513, 0.0204299, 0.862152, 0.499911, 0.00398654, 0.383484, 0.0331759, 0.769035, 0.295839, 0.811929, 0.711068, 0.702205, 0.605253, 0.859698, 0.775617, 0.811929, 0.854066, 0.694164, 0.78035, 0.928143, 0.631148, 0.843936, 0.108456, 0.839729, 0.73928, 0.846786, 0.760907, 0.19175, 0.554463, 0.526657, 0.718215, 0.900441, 0.450283, 0.554463, 0.64373, 0.535972, 0.748644, 0.43252, 0.883671, 0.609048, 0.767193, 0.183226, 0.191725, 0.483337, 0.100723, 0.629838, 0.271181, 0.768846, 0.100723, 0.0691223, 0.364526, 0.42091, 0.41031, 0.492115, 0.571583, 0.305342, 0.637388, 0.818735, 0.525049, 0.589301, 0.328129, 0.00232091, 9.39463e-05],\n",
       "        [0.0186584, 0.215311, 0.383908, 0.0467231, 0.0883903, 0.00092309, 0.383908, 0.0225004, 0.383908, 0.0244449, 2.24372e-12, 4.09374e-10, 0.0883903, 0.32741, 3.67215e-06, 0.0465115, 0.383908, 0.383908, 0.0439118, 1.22932e-11, 0.383908, 0.277283, 1.04086e-06, 0.383908, 0.123237, 0.00461468, 3.38348e-11, 7.51194e-07, 0.0400175, 0.00598788, 0.0021146, 1.55522e-06, 0.0625409, 0.000212902, 4.44723e-08, 0.000127394, 0.312265, 0.00132192, 0.00187837, 0.0733136, 3.64579e-05, 1.71012e-05, 0.0405978, 0.0285543, 0.0285543, 0.00046767, 0.278849, 0.157008, 0.186723, 0.000253533, 2.19107e-21, 0.139779, 0.186695, 0.000374309, 0.000760972, 6.74343e-05, 0.000911482, 1.63142e-08, 6.08992e-08, 0.00013604, 0, 0.0173186, 0.00043017, 1.64667e-12, 0.0134287, 0.000598361, 0.0038007, 2.03134e-09, 6.13723e-06, 8.0937e-05, 0.00023774, 0.00432977, 0.00126038, 0.383908, 2.78266e-05, 0.000134467, 6.76989e-06, 0.000284198, 0.00143787, 1.70572e-05, 0.00275635, 9.77448e-05, 3.53398e-05, 0.0178092, 0.00153283, 0.000443621, 0.383908, 0.00484725, 0.037581, 0.00359034, 0.213563, 0.383908, 0.000245638, 0.139779, 0.00784832, 0.0344815, 0.0733136, 0.00315602, 0.00107041, 0.00613832, 0.217397, 8.94158e-08, 0.0102766, 0.0332967, 0.0344815, 0.00424304, 0.382351, 0.383908, 0.0010521, 0.162905, 7.32775e-07, 0.15463, 0.383908, 0.000327698, 0.00272681, 0.15463, 0.0204782, 0.000590183, 0.000936187, 0.0257195, 0.0439977, 0.0307558, 0.000153906, 1.00261e-05, 2.66414e-05, 7.89838e-05, 0.0162361, 0.00104136, 0.0194837, 0.00152459, 0.0264866, 0.0104974, 0.000320392, 0.00839854, 0.113169, 0.0342519, 0.0027445, 1.00805e-05, 0.614792, 0.0952192, 0.00383021, 0.00798748, 0.47089, 0.00608428, 0.0274588, 3.20909e-10, 0.445454, 9.69056e-05, 0.00644686, 0.23409, 0.0520108, 0.0251596, 0.0297194, 0.00547525, 0.00073701, 0.0495613, 0.0520108, 0.0573168, 0.000631515, 0.000118189, 0.011491, 0.0475906, 0.151519, 0.00717137, 0.0527405, 0.0290846, 0.02556, 0.0182227, 0.153841, 0.0952192, 0.15463, 0.0487658, 0.0692513, 0.0882151, 0.0952192, 0.126141, 0.407975, 0.0914054, 0.213534, 0.00993172, 0.182743, 0.0879046, 0.614792, 0.147576, 0.0785004, 0.383908, 0.0228426, 0.186723, 0.113996, 0.383908, 0.176885, 0.360466, 0.496484, 0.57329, 0.303283, 0.399251, 0.305214, 0.162786, 0.00238672, 0.434199, 0.0112708, 0.0964561, 0.0996902, 0.411043],\n",
       "        [0.0310301, 0.0063497, 0.377447, 0.41987, 0.127659, 0.00577512, 0.377447, 0.159332, 0.377447, 0.402826, 1.99853e-05, 2.48434e-06, 0.127659, 0.1548, 0.235762, 0.162218, 0.377447, 0.377447, 0.128896, 1.16351e-05, 0.377447, 0.0451805, 0.0592188, 0.377447, 0.000159241, 0.00849272, 3.18982e-06, 0.00934314, 0.115736, 0.0266487, 0.0899876, 0.00660273, 0.615819, 0.000787556, 0.0064939, 0.0140495, 0.0349684, 0.000797802, 0.0561265, 0.255293, 0.00300276, 2.19636e-05, 0.0373985, 0.0249916, 0.0249916, 0.00157695, 0.000485869, 0.403262, 0.187884, 0.00121343, 0.00119645, 0.128873, 0.179126, 0.00303891, 0.428142, 0.135899, 0.133224, 0.502937, 0.464457, 0.0285114, 0.000560073, 0.11048, 0.0600065, 0.105094, 0.683157, 0.28201, 0.0959031, 0.0462497, 0.0244718, 0.000287949, 0.522279, 0.112342, 0.0104492, 0.377447, 0.272271, 0.18494, 0.0423074, 0.0312555, 0.128176, 0.835772, 0.0302206, 0.00619557, 0.000333316, 0.363324, 0.00622398, 0.646258, 0.377447, 0.00206563, 0.02792, 0.0260549, 0.0159522, 0.377447, 0.0425514, 0.128873, 0.0184086, 0.0211406, 0.255293, 0.00960567, 0.0943302, 0.243433, 0.103884, 0.166394, 0.324303, 0.0724173, 0.0211406, 0.27768, 0.273358, 0.377447, 0.00267393, 0.0515319, 0.00275633, 0.203374, 0.377447, 0, 0.269962, 0.203374, 0, 0, 8.38309e-07, 0.444605, 0, 0.114498, 1.0559e-07, 0.124715, 0.263106, 7.57223e-08, 0.00227243, 0.00875508, 0.0433535, 6.15863e-06, 0.00409175, 0.100343, 0.125609, 0.060097, 0.372762, 0.131193, 0.237227, 0.707433, 0.0649696, 0.224568, 0.0614482, 0.116102, 9.74548e-05, 0.110095, 0.472233, 0.996013, 0.168973, 0.966727, 0.223341, 0.449118, 0.0929723, 0.213167, 0.267465, 0.38887, 0.139509, 0.134689, 0.0929723, 0.0833387, 0.305153, 0.219517, 0.0455177, 0.298587, 0.00454137, 0.884362, 0.0867283, 0.192614, 0.0324106, 0.219792, 0.373007, 0.224568, 0.203374, 0.207992, 0.0302302, 0.0669799, 0.224568, 0.222606, 0.0560115, 0.152669, 0.285536, 0.105858, 0.115737, 0.144809, 0.0649696, 0.2157, 0.0282001, 0.377447, 0.34535, 0.187884, 0.10163, 0.377447, 0.0400561, 0.272511, 0.0584177, 0.00894175, 0.155754, 0.0291655, 0.388433, 0.0737304, 0.176196, 0.024434, 0.399428, 0.574656, 6.65751e-08, 3.4793e-06]]), 'most_likely_positions_1D': None}),\n",
       " DynamicContainer({'p_x_given_n': array([[0.137922, 0.137922, 0.137922, ..., 0.137922, 0.137922, 0.137922],\n",
       "        [0.100723, 0.100723, 0.100723, ..., 0.100723, 0.100723, 0.100723],\n",
       "        [0.383908, 0.383908, 0.383908, ..., 0.383908, 0.383908, 0.383908],\n",
       "        [0.377447, 0.377447, 0.377447, ..., 0.377447, 0.377447, 0.377447]]), 'most_likely_positions_1D': None}),\n",
       " DynamicContainer({'p_x_given_n': array([[0.104489, 0.0150097, 0.0862015, 2.45548e-05, 2.43235e-10, 0.277524, 0.0903603, 0.00997541, 0.105693, 0.0877055, 0.636334, 0.0106096, 2.131e-05, 0.265259, 0.160195, 0.42378, 0.0389631, 0.137922, 0.127163, 0.00743094, 0.00624494, 0.00149872, 0.137922, 0.000229316, 6.64544e-05, 0.167824, 0.0664555, 0.00132484, 0.000498384, 0.0141506, 0.002546, 0.0337168, 0.638139, 0.00103788, 0.00039898, 0.0489268, 0.0639249, 5.37248e-05, 0.170489, 0.00516668, 0.0686082, 0.00300807, 2.13583e-08, 5.03115e-07, 0.0897874, 0.062485, 5.28304e-06, 0.0110897, 0.400854, 8.52489e-07, 1.36453e-06, 2.18373e-10, 0.0244018, 0.000805299, 0.0461367, 0.0158492, 0.474102, 0.000291398, 0.000801494, 3.69372e-11, 0.000544182, 0.0379764, 0.00108165, 0.000115603, 2.07251e-05, 0.0244018, 0.0129131, 3.74042e-05, 0.000178871, 0.000378938, 0.000603841, 8.13357e-05, 0.179682, 0.230191, 0.622824, 0.00247005, 0.000163322, 0.0863341, 7.30004e-07, 0.137922, 1.29883e-06, 0.00417773, 0.000160241, 0.0198111, 0.0977265, 0.00407856, 0.108959, 0.277524, 0.00182875, 0.00643069, 0.000208085, 0.00042013, 0.00351175, 0.680969, 0.137922, 0.277524, 0.137922, 0.0506615, 0.00385877, 0.354212, 0.137922, 0.137922, 0.148454, 0.137922, 0.108959, 0.00778608, 0.144142, 0.137922, 0.108959, 0.0136813, 3.89887e-05, 0.00273091, 0.137922, 0.000859341, 0.137922, 0.258565, 0.137922, 0.00279908, 0.0365517, 1.09705e-05, 0.00100233, 0.0146535, 0.179564, 0.0184084, 0.00866237, 0.18341, 0.0104336, 0.0555581, 0.448195, 0.000492725, 0.137922, 0.135371, 0.000136939, 0.0344567, 0.0555581, 0.20848, 0.0718007, 3.3412e-05, 0.0010902, 0.20848, 0.125749, 0.394221, 0.137922, 0.0555581, 0.137922, 0.137922, 1.38592e-05, 0.000642444, 0.137922, 0.125749, 0.0841585, 0.0012865, 0.00212743, 0.137922, 0.137922, 0.0352695, 6.58668e-06, 0.128191, 0.137922, 0.0352695, 1.59887e-06, 2.15029e-05, 4.17365e-07, 1.62901e-09, 5.60383e-05, 0.558324, 0.655757, 0.000385912, 0.00849516, 0.000990615, 0.0226102, 0.224964, 0.00849516, 0.008603, 0.57283, 0.00096674, 0.00976322, 0.125749, 0.137922, 0.00158202, 1.02888e-05, 3.21249e-08, 2.9303e-05, 0.000194826, 0.0644099, 0.0250273, 0.67627, 0.00259518, 0.000489308, 1.17703e-05, 0.00360168, 0.00321274, 0.0629666, 1.09523e-06, 0.444999, 0.137922, 0.00169753, 0.0718769, 3.6699e-08, 0.000273722, 0.0226747, 0.0448645, 0.0023488, 0.422138, 0.354804, 0.753564, 0.996971, 0.288994, 0.056205],\n",
       "        [0.140153, 0.9413, 0.693929, 0.993984, 0.999995, 0.453825, 0.406049, 0.269641, 0.584984, 0.868846, 0.0284975, 0.818302, 0.997572, 0.676687, 0.804777, 0.0940098, 0.679114, 0.100723, 0.196576, 0.992538, 0.804243, 0.733475, 0.100723, 0.999702, 0.998026, 0.423561, 0.759817, 0.945026, 0.948231, 0.296725, 0.993748, 0.477545, 0.155754, 0.996851, 0.994161, 0.272713, 0.912999, 0.999888, 0.18104, 0.991862, 0.895997, 0.98572, 0.994939, 0.999658, 0.857251, 0.246005, 0.789399, 0.259788, 0.206427, 0.988473, 0.990607, 0.994607, 0.726027, 0.969547, 0.73896, 0.802812, 0.000294054, 0.957559, 0.814124, 0.782491, 0.983743, 0.880427, 0.88885, 0.962669, 0.995839, 0.726027, 0.942824, 0.833859, 0.913783, 0.975586, 0.961831, 0.704544, 0.619222, 0.659345, 0.221891, 0.969346, 0.862581, 0.813754, 0.999341, 0.100723, 0.00902158, 0.992096, 0.940037, 0.946424, 0.885228, 0.994185, 0.835418, 0.453825, 0.991595, 0.960592, 0.999397, 0.954346, 0.993099, 0.306866, 0.100723, 0.453825, 0.100723, 0.812551, 0.991164, 0.271181, 0.100723, 0.100723, 0.626233, 0.100723, 0.835418, 0.985691, 0.744044, 0.100723, 0.835418, 0.962541, 0.935831, 0.900758, 0.100723, 0.998912, 0.100723, 0.412828, 0.100723, 0.692071, 0.958184, 0.999643, 0.714309, 0.979623, 0.714073, 0.833214, 0.797937, 0.38956, 0.988036, 0.925933, 0.102386, 0.999435, 0.100723, 0.581176, 0.898282, 0.960232, 0.925933, 0.733937, 0.655509, 0.910448, 0.998787, 0.733937, 0.554463, 0.367788, 0.100723, 0.925933, 0.100723, 0.100723, 0.775552, 0.632497, 0.100723, 0.554463, 0.776843, 0.903685, 0.896683, 0.100723, 0.100723, 0.899452, 0.891763, 0.664816, 0.100723, 0.899452, 0.357539, 0.820892, 0.0981209, 0.0624918, 0.940685, 0.156327, 0.02462, 0.237224, 0.816424, 0.921047, 0.828579, 0.590187, 0.816424, 0.966559, 0.0743205, 0.1198, 0.949302, 0.554463, 0.100723, 0.752829, 0.869984, 0.515874, 0.285206, 0.919497, 0.825021, 0.718215, 0.169639, 0.355861, 0.586315, 0.65212, 0.656442, 0.361657, 0.125627, 0.699413, 0.191725, 0.100723, 0.444144, 0.197636, 0.437587, 0.547662, 0.631148, 0.693533, 0.716441, 0.286278, 0.29576, 0.0687941, 0.00299721, 0.248811, 0.815805],\n",
       "        [0.0262526, 0.000878753, 0.006805, 2.47098e-07, 2.31215e-15, 0.139779, 0.213809, 0.0231548, 0.0162967, 0.0107866, 0.313266, 0.000389984, 3.91864e-09, 0.0134728, 0.0131009, 0.32741, 0.00424304, 0.383908, 0.284806, 7.38113e-07, 0.000313861, 0.000125168, 0.383908, 3.01771e-10, 1.99996e-07, 0.240934, 0.01424, 3.90947e-06, 4.07913e-06, 0.00372412, 0.000292457, 0.00966802, 0.0986743, 1.51968e-07, 0.000713352, 0.0625409, 0.0018184, 3.47751e-05, 0.0264482, 0.00122718, 0.00449275, 0.00621131, 1.15638e-19, 1.40362e-05, 0.0140005, 0.0568572, 4.02372e-05, 0.0133996, 0.164271, 3.86192e-05, 3.66369e-06, 1.85335e-10, 0.00613832, 0.00292146, 0.0215782, 0.00292167, 0.521438, 0.000658762, 0.000134467, 3.2557e-16, 0.000518201, 0.013124, 0.000564927, 2.05353e-05, 1.94204e-10, 0.00613832, 0.00462871, 1.68136e-09, 2.54384e-08, 0.000647566, 0.000419451, 0.000118439, 0.147295, 0.0968678, 0.145797, 0.000966986, 3.8262e-05, 0.0273109, 6.15676e-07, 0.383908, 3.28692e-07, 0.0010521, 0.000297091, 0.00648612, 0.00716302, 0.000788808, 0.0344815, 0.139779, 0.00370439, 0.00275635, 9.56193e-06, 0.000199072, 0.0001848, 0.0118774, 0.383908, 0.139779, 0.383908, 0.00782144, 0.00023686, 0.186723, 0.383908, 0.383908, 0.0607139, 0.383908, 0.0344815, 0.0025844, 0.0383888, 0.383908, 0.0344815, 0.0237777, 9.15047e-08, 0.00341541, 0.383908, 0.000228249, 0.383908, 0.0733136, 0.383908, 0.0376737, 0.00508715, 2.86385e-07, 0.00672746, 0.00535562, 0.0662951, 0.00100629, 0.0137725, 0.042355, 0.00152459, 0.0162361, 0.288153, 7.17612e-05, 0.383908, 0.0432534, 5.44634e-06, 0.00528096, 0.0162361, 0.0497278, 0.0214675, 7.84866e-07, 0.000111724, 0.0497278, 0.0952192, 0.117385, 0.383908, 0.0162361, 0.383908, 0.383908, 6.67038e-05, 0.019866, 0.383908, 0.0952192, 0.024478, 0.000183568, 0.0567873, 0.383908, 0.383908, 0.00383021, 3.54861e-05, 0.109585, 0.383908, 0.00383021, 0.00186588, 0.0159202, 0.00018161, 2.99852e-05, 2.63111e-05, 0.285304, 0.300403, 0.0936321, 0.0162492, 0.000441545, 0.0797446, 0.0996783, 0.0162492, 0.000891787, 0.279092, 0.746305, 0.0167715, 0.0952192, 0.383908, 0.0302177, 0.0720269, 0.00691154, 0.00804574, 0.00015001, 0.0292644, 0.0487658, 0.0614037, 0.00886409, 0.271726, 0.0481609, 0.0781213, 0.619657, 0.794308, 0.261862, 0.147576, 0.383908, 0.0531659, 0.697188, 0.0107029, 0.0064599, 0.0475906, 0.138353, 0.206723, 0.100223, 0.224292, 0.129136, 0, 0.254179, 0.123963],\n",
       "        [0.729105, 0.0428114, 0.213064, 0.00599158, 4.63714e-06, 0.128873, 0.289782, 0.697229, 0.293026, 0.032662, 0.0219019, 0.170699, 0.00240651, 0.0445813, 0.0219272, 0.1548, 0.27768, 0.377447, 0.391455, 3.04086e-05, 0.189199, 0.264901, 0.377447, 6.82184e-05, 0.00190728, 0.167681, 0.159487, 0.0536455, 0.0512667, 0.685401, 0.00341316, 0.47907, 0.107432, 0.00211122, 0.00472663, 0.615819, 0.0212572, 2.32088e-05, 0.622023, 0.00174369, 0.0309025, 0.0050606, 0.00506137, 0.000327922, 0.0389606, 0.634653, 0.210555, 0.715723, 0.228449, 0.0114876, 0.00938761, 0.00539347, 0.243433, 0.0267265, 0.193325, 0.178417, 0.00416676, 0.0414907, 0.18494, 0.217509, 0.0151945, 0.0684724, 0.109504, 0.0371949, 0.00414003, 0.243433, 0.0396342, 0.166104, 0.0860378, 0.0233875, 0.0371458, 0.295256, 0.0538008, 0.0135955, 0.00948779, 0.0272174, 0.137217, 0.0726006, 0.000657998, 0.377447, 0.990977, 0.00267393, 0.0595058, 0.0272788, 0.00988204, 0.000948088, 0.0211406, 0.128873, 0.0028714, 0.0302206, 0.000385304, 0.0450343, 0.00320494, 0.000287933, 0.377447, 0.128873, 0.377447, 0.128966, 0.00474007, 0.187884, 0.377447, 0.377447, 0.164599, 0.377447, 0.0211406, 0.00393864, 0.0734258, 0.377447, 0.0211406, 0, 0.0641294, 0.0930961, 0.377447, 0, 0.377447, 0.255293, 0.377447, 0.267456, 0.000177367, 0.000345538, 0.277961, 0.000367419, 0.0400679, 0.147372, 0.179628, 0.384675, 6.15863e-06, 0.00227243, 0.161266, 2.55672e-07, 0.377447, 0.240199, 0.101576, 3.04461e-05, 0.00227243, 0.00785469, 0.251222, 0.0895183, 1.10144e-05, 0.00785469, 0.224568, 0.120606, 0.377447, 0.00227243, 0.377447, 0.377447, 0.224368, 0.346994, 0.377447, 0.224568, 0.11452, 0.0948454, 0.0444019, 0.377447, 0.377447, 0.0614482, 0.108195, 0.0974085, 0.377447, 0.0614482, 0.640593, 0.163166, 0.901697, 0.937478, 0.0592323, 4.48527e-05, 0.0192194, 0.668758, 0.158832, 0.0775208, 0.0690658, 0.0851701, 0.158832, 0.0239465, 0.0737571, 0.132929, 0.0241637, 0.224568, 0.377447, 0.215371, 0.0579784, 0.477214, 0.706719, 0.0801579, 0.0813048, 0.207992, 0.0926875, 0.63268, 0.141469, 0.299707, 0.261835, 0.0154731, 0.0170987, 0.0387246, 0.2157, 0.377447, 0.500992, 0.0332989, 0.55171, 0.445605, 0.298587, 0.12325, 0.0744871, 0.191361, 0.125144, 0.048506, 3.13442e-05, 0.208016, 0.00402719]]), 'most_likely_positions_1D': None}),\n",
       " DynamicContainer({'p_x_given_n': array([[0.394221, 0.137922, 0.57283, ..., 0.389973, 0.777609, 0.632483],\n",
       "        [0.367788, 0.100723, 0.0743205, ..., 0.0664098, 0.00782098, 0.0134023],\n",
       "        [0.117385, 0.383908, 0.279092, ..., 0.418739, 0.20823, 0.346741],\n",
       "        [0.120606, 0.377447, 0.0737571, ..., 0.124878, 0.0063404, 0.00737376]]), 'most_likely_positions_1D': None}),\n",
       " DynamicContainer({'p_x_given_n': array([[0.448195, 0.327318, 0.137922, ..., 0.00239537, 0.000101818, 9.086e-06],\n",
       "        [0.102386, 0.400138, 0.100723, ..., 0.370765, 0.301762, 0.844346],\n",
       "        [0.288153, 0.0441285, 0.383908, ..., 0.163441, 0.150143, 0.0862582],\n",
       "        [0.161266, 0.228415, 0.377447, ..., 0.463399, 0.547993, 0.0693866]]), 'most_likely_positions_1D': None}),\n",
       " DynamicContainer({'p_x_given_n': array([[0.66239, 0.702511, 0.0893734, ..., 0.137922, 2.82788e-07, 0.0293235],\n",
       "        [0.134635, 8.25137e-06, 0.78592, ..., 0.100723, 9.47458e-08, 0.000229247],\n",
       "        [0.159127, 0.297415, 0.091385, ..., 0.383908, 0.000176282, 0.293707],\n",
       "        [0.043848, 6.57397e-05, 0.033322, ..., 0.377447, 0.999823, 0.676741]]), 'most_likely_positions_1D': None}),\n",
       " DynamicContainer({'p_x_given_n': array([[0.243322, 0.239955, 0.239955, 0.137922, 0.223488, 0.517948, 0.648947, 0.55032, 0.865704, 0.598501, 0.557058, 0.852643, 0.137922, 0.137922, 0.137922, 0.448195, 0.348506, 0.137922, 0.363278, 0.42378, 0.023246, 0.0005964, 0.228114, 0.349906, 0.228114, 0.241183, 0.57655, 0.234846, 0.0522557, 0.753626, 0.922942, 0.137922, 0.137922, 0.104489, 0.137922, 0.57655, 0.281786, 0.000306974, 0.322884, 0.14135, 0.724298, 8.40035e-05, 0.853881, 0.637588, 0.137922, 1.60857e-07, 0.397442, 0.293842, 0.363278, 0.105693, 0.638139, 0.638139, 0.000685416, 0.000290915, 0.00171351, 0.0278441, 0.000290915, 0.00216745, 0.0643411, 0.00562887, 0.0133468, 0.258565, 0.00616018, 0.0520368, 0.255263, 0.137922, 0.000126352, 0.00347847, 0.000131278, 0.122993, 0.00865518, 0.204061, 0.12739, 0.238129, 0.00186392, 5.47638e-05, 4.37155e-10, 0.251045, 0.0149888, 0.0320033, 7.2473e-09, 0.374945, 9.93375e-05, 3.53716e-06, 1.27795e-07, 0.000134799, 0.185484, 0.345288, 0.000168555, 4.42802e-12, 0.330493, 0.0224717, 0.0429982, 4.14166e-08, 1.10656e-05, 0.137922, 0.0151731, 0.000390361, 5.76581e-07, 0.622824, 6.81199e-08, 0.691207, 0.000764565, 0.0116925, 0.000206611, 0.000697803, 1.18059e-10, 0.00383452, 0.0281453, 2.37134e-06, 1.64207e-07, 0.00517291, 0.277524, 0.108959, 4.70081e-06, 0.0246469, 0.19934, 0.108959, 0.0779505, 0.354212, 0.0339486, 0.137922, 0.000121267, 0.0012224, 0.320806, 0.293842, 0.893894, 0.0363765, 0.29469, 0.137922, 0.00417773, 0.0244532, 0.44539, 0.410292, 0.00417773, 0.410292, 0.284863, 0.00223843, 0.137922, 0.0844652, 0.241763, 0.221764, 0.137922, 0.0847852, 0.000717154, 0.678784, 0.258565, 0.0931553, 8.39102e-06, 9.60522e-06, 0.186978, 0.0163245, 0.138424, 0.0042158, 1.75847e-05, 0.137922, 0.0287697, 0.0458523, 4.77424e-05, 0.00662613, 0.182882, 0.239955, 1.6439e-05, 0.00291975, 0.00662613, 0.137922, 0.00116251, 5.42999e-08, 0.0240653, 0.284863, 0.125749, 0.219506, 0.707893, 0.228211, 0.0897874, 1.00052e-08, 0.00706357, 2.9303e-05, 0.00116251, 0.0228175, 1.91438e-07, 8.0717e-07, 4.07184e-09, 0.00684817, 0.000207488, 0.010702, 0.00353287, 0.0834699, 1.25994e-07, 0.0134449, 0.00102598, 0.0854901, 0.000140835, 0.000610252, 0.0031645, 0.0226747, 5.8532e-10, 0.000506796, 0.00266346, 1.88213e-06, 0.0140901, 0.0321597, 0.354212, 0.00010129, 0.0141667, 0.000329337, 0.0140901, 0.0140901, 0.0559665, 0.125749, 0.0140901, 0.137013, 0.0029593, 0.137922, 0.469197, 0.552742, 0.00169753, 0.0269123, 0.146698, 0.0924719],\n",
       "        [0.290085, 0.274114, 0.274114, 0.100723, 0.390367, 0.074118, 0.00588399, 0.119575, 0.00215711, 8.26519e-05, 0.31395, 0.0151463, 0.100723, 0.100723, 0.100723, 0.102386, 0.298983, 0.100723, 0.132232, 0.0940098, 0.956494, 0.987282, 0.274327, 0.485103, 0.274327, 0.542768, 0.112812, 0.5922, 0.940955, 0.246374, 0.00954346, 0.100723, 0.100723, 0.140153, 0.100723, 0.112812, 0.689728, 0.728264, 0.664009, 0.725133, 0.034352, 0.896851, 0.0303283, 0.0399492, 0.100723, 0.999379, 0.451466, 0.340337, 0.132232, 0.584984, 0.155754, 0.155754, 0.692402, 0.990365, 0.990824, 0.941918, 0.990365, 0.971708, 0.128154, 0.953355, 0.815382, 0.412828, 0.27793, 0.907477, 0.538259, 0.100723, 0.99982, 0.978874, 0.998409, 0.762716, 0.967911, 0.18161, 0.558155, 0.537028, 0.988804, 0.987694, 0.986149, 0.548796, 0.776494, 0.86323, 0.974118, 0.440935, 0.973933, 0.592925, 0.971517, 0.980293, 0.414003, 0.309847, 0.957983, 0.9956, 0.499993, 0.890676, 0.819438, 0.821174, 0.988549, 0.100723, 0.841982, 0.923307, 0.961734, 0.221891, 0.954216, 0.0295309, 0.986188, 0.976282, 0.989673, 0.993586, 0.999705, 0.718976, 0.734644, 0.999093, 0.999701, 0.891668, 0.453825, 0.835418, 0.999825, 0.931512, 0.650413, 0.835418, 0.916847, 0.271181, 0.251732, 0.100723, 0.88639, 0.565561, 0.601197, 0.340337, 0.0268197, 0.851923, 0.16637, 0.100723, 0.992096, 0.973583, 0.0723565, 0.268426, 0.992096, 0.268426, 0.45874, 0.997298, 0.100723, 0.871537, 0.0727714, 0.358025, 0.100723, 0.769961, 0.998701, 0.0158806, 0.412828, 0.791345, 0.999991, 0.452744, 0.24661, 0.963197, 0.830998, 0.995226, 0.637057, 0.100723, 0.966542, 0.913609, 0.296839, 0.99278, 0.778517, 0.274114, 0.787132, 0.847772, 0.99278, 0.100723, 0.694401, 0.459136, 0.289229, 0.45874, 0.554463, 0.744186, 0.0225897, 0.338917, 0.857251, 0.0949098, 0.963535, 0.285206, 0.694401, 0.892294, 0.0291281, 0.911391, 0.00957565, 0.912147, 0.432371, 0.877164, 0.114986, 0.476814, 0.175886, 0.844091, 0.965897, 0.683167, 0.697618, 0.702205, 0.488936, 0.631148, 0.986495, 0.636273, 0.885639, 0.16675, 0.739794, 0.463944, 0.271181, 0.816569, 0.496916, 0.311623, 0.739794, 0.739794, 0.631511, 0.554463, 0.739794, 0.183226, 0.820386, 0.100723, 0.177159, 0.19248, 0.444144, 0.356533, 0.628517, 0.609048],\n",
       "        [0.0467231, 0.113169, 0.113169, 0.383908, 0.0661282, 0.287814, 0.339197, 0.214383, 0.132014, 0.401411, 0.0912473, 0.123683, 0.383908, 0.383908, 0.383908, 0.288153, 0.139522, 0.383908, 0.251592, 0.32741, 3.39121e-06, 1.28107e-05, 0.152535, 0.0617571, 0.152535, 0.0883903, 0.101602, 0.0189401, 0.00203669, 0, 0.0595108, 0.383908, 0.383908, 0.0262526, 0.383908, 0.101602, 0.0156288, 5.71483e-05, 0.00461468, 0.00909178, 0.221314, 4.8778e-07, 0.114773, 0.277283, 0.383908, 6.03127e-11, 0.0243798, 0.186695, 0.251592, 0.0162967, 0.0986743, 0.0986743, 8.4194e-05, 7.51194e-07, 2.26604e-05, 6.52814e-05, 7.51194e-07, 0.000124214, 0.598102, 0.00681667, 0.000115527, 0.0733136, 0.00790316, 0.000532526, 0.0567728, 0.383908, 5.86236e-06, 0.00767508, 1.5637e-05, 0.017734, 0.00641484, 0.244747, 0.0461585, 0.183015, 0.00171673, 7.03704e-05, 5.8677e-18, 0.0833283, 0.191842, 0.00669661, 4.36299e-09, 0.0863928, 0.000169784, 1.28079e-05, 1.38995e-19, 2.9818e-05, 0.0665991, 0.181522, 0.000200624, 1.08793e-21, 0.0894578, 0.0167864, 0.00636993, 2.04638e-08, 0.000214957, 0.383908, 0.0216992, 1.3566e-11, 4.96915e-07, 0.145797, 7.3119e-18, 0.274572, 0.00889956, 0.00114535, 4.69299e-06, 0.000546041, 2.67277e-09, 0.00915722, 0.0443521, 1.0253e-06, 9.60344e-09, 0.0182108, 0.139779, 0.0344815, 6.34606e-09, 0.0235392, 0.0629214, 0.0344815, 0.00173844, 0.186723, 0.0457037, 0.383908, 4.92877e-06, 0.000475768, 0.0405978, 0.186695, 0.0770649, 0.028697, 0.405642, 0.383908, 0.0010521, 0.00195332, 0.325686, 0.217397, 0.0010521, 0.217397, 0.164572, 2.58602e-05, 0.383908, 0.0439977, 0.684143, 0.247718, 0.383908, 0.0307558, 0.000582035, 0.225277, 0.0733136, 0.0809735, 3.64688e-07, 9.18708e-07, 0.0622314, 0.0204782, 0.0264866, 0.000304134, 1.77838e-06, 0.383908, 0.00468645, 0.0290417, 0.00219419, 0.000593946, 0.0346734, 0.113169, 7.49591e-05, 0.00134598, 0.000593946, 0.383908, 0.0128596, 1.00523e-05, 0.204955, 0.164572, 0.0952192, 0.0131978, 0.260758, 0.259895, 0.0140005, 6.49793e-05, 0.00638005, 0.00804574, 0.0128596, 0.00620218, 6.64904e-05, 0.00445687, 0.000533423, 0.000505685, 0.0421192, 0.013457, 0.661141, 0.241778, 0.000285663, 0.00995384, 0.000500761, 0.0081499, 0.00676109, 0.0297194, 0.0691352, 0.0475906, 0.00546319, 0.0359158, 0.00335853, 0.00861155, 0.080135, 0.305221, 0.186723, 0.0748484, 0.111452, 0.588147, 0.080135, 0.080135, 0.156064, 0.0952192, 0.080135, 0.614792, 0.0363501, 0.383908, 0.278698, 0.136862, 0.0531659, 0.0708216, 0.182929, 0.182743],\n",
       "        [0.41987, 0.372762, 0.372762, 0.377447, 0.320017, 0.12012, 0.00597235, 0.115722, 0.000124483, 5.21595e-06, 0.0377445, 0.00852771, 0.377447, 0.377447, 0.377447, 0.161266, 0.212989, 0.377447, 0.252898, 0.1548, 0.0202569, 0.0121088, 0.345025, 0.103234, 0.345025, 0.127659, 0.209036, 0.154013, 0.00475258, 2.90752e-10, 0.00800335, 0.377447, 0.377447, 0.729105, 0.377447, 0.209036, 0.0128577, 0.271372, 0.00849272, 0.124425, 0.0200369, 0.103064, 0.00101682, 0.0451805, 0.377447, 0.000620634, 0.126712, 0.179126, 0.252898, 0.293026, 0.107432, 0.107432, 0.306829, 0.00934314, 0.00744012, 0.0301722, 0.00934314, 0.0260004, 0.209402, 0.0341999, 0.171155, 0.255293, 0.708006, 0.0399535, 0.149705, 0.377447, 4.80751e-05, 0.00997274, 0.00144426, 0.0965577, 0.0170186, 0.369583, 0.268297, 0.0418281, 0.00761494, 0.0121806, 0.0138514, 0.11683, 0.0166751, 0.0980701, 0.0258819, 0.0977266, 0.0257975, 0.407059, 0.0284831, 0.0195423, 0.333914, 0.163343, 0.0416474, 0.00440029, 0.0800563, 0.0700662, 0.131194, 0.178826, 0.0112248, 0.377447, 0.121145, 0.076303, 0.0382645, 0.00948779, 0.0457844, 0.00469076, 0.00414829, 0.0108799, 0.0101156, 0.00516977, 0.000295283, 0.268032, 0.192858, 0.000903749, 0.000299133, 0.0849485, 0.128873, 0.0211406, 0.000170578, 0.0203015, 0.0873256, 0.0211406, 0.00346354, 0.187884, 0.668616, 0.377447, 0.113483, 0.43274, 0.0373985, 0.179126, 0.00222174, 0.0830032, 0.133298, 0.377447, 0.00267393, 1.04049e-05, 0.156567, 0.103884, 0.00267393, 0.103884, 0.0918253, 0.000437708, 0.377447, 0, 0.00132217, 0.172493, 0.377447, 0.114498, 0, 0.080058, 0.255293, 0.0345258, 0, 0.547245, 0.504181, 0, 0.00409175, 0.000254385, 0.362923, 0.377447, 1.51786e-06, 0.0114971, 0.700919, 1.00778e-07, 0.00392686, 0.372762, 0.212777, 0.147963, 1.00778e-07, 0.377447, 0.291577, 0.540854, 0.481751, 0.0918253, 0.224568, 0.0231094, 0.00875885, 0.172977, 0.0389606, 0.905025, 0.0230218, 0.706719, 0.291577, 0.0786862, 0.970805, 0.0841509, 0.989891, 0.0804994, 0.525303, 0.0986773, 0.22034, 0.197939, 0.823828, 0.13251, 0.0325765, 0.223193, 0.29548, 0.267465, 0.438764, 0.298587, 0.00804179, 0.327305, 0.108339, 0.824637, 0.165981, 0.198676, 0.187884, 0.108481, 0.377465, 0.0999008, 0.165981, 0.165981, 0.156458, 0.224568, 0.165981, 0.0649696, 0.140305, 0.377447, 0.0749467, 0.117915, 0.500992, 0.545734, 0.0418566, 0.115737]]), 'most_likely_positions_1D': None}),\n",
       " DynamicContainer({'p_x_given_n': array([[0.104388, 0.893894, 0.137922, ..., 0.443451, 0.753759, 0.137922],\n",
       "        [0.000359571, 0.0268197, 0.100723, ..., 0.00054458, 0.00106411, 0.100723],\n",
       "        [0.829455, 0.0770649, 0.383908, ..., 0.554342, 0.225951, 0.383908],\n",
       "        [0.0657976, 0.00222174, 0.377447, ..., 0.00166209, 0.0192264, 0.377447]]), 'most_likely_positions_1D': None}),\n",
       " DynamicContainer({'p_x_given_n': array([[0.137922, 0.455871, 0.311694, 0.0720107, 0.000293176, 0.137922, 0.307289, 0.217976, 0.258565, 0.333048, 0.013813, 0.258565, 0.258565, 0.701379, 0.329581, 0.258565, 0.217976, 0.137922, 0.248942, 3.79652e-05, 0.173186, 0.638139, 0.00531746, 0.0662294, 0.00744507, 0.00948197, 0.240106, 0.0441356, 0.330493, 0.00200958, 1.07653e-06, 2.55022e-05, 0.0136971, 0.0967704, 0.0105985, 0.527245, 0.0042192, 0.000881379, 0.000132404, 7.94073e-06, 0.0429982, 0.0215917, 1.57998e-08, 2.97319e-05, 0.000106852, 0.00444494, 3.06985e-05, 0.000216078, 3.75288e-07, 0.0409031, 0.00224053, 9.03253e-05, 0.000511876, 0.277524, 0.00040186, 0.012585, 3.17652e-06, 0.000165049, 0.0230444, 0.000594161, 1.9019e-07, 0.0006517, 0.0408468, 0.000643769, 0.0023444, 0.217976, 1.92216e-07, 0.00366593, 0.137922, 0.243621, 0.000148969, 8.97276e-06, 0.000591285, 0.0277744, 0.000231864, 8.02842e-05, 0.277524, 0.0260802, 0.000512122, 0.0244018, 0.0259214, 0.277524, 0.0055283, 0.0140358, 0.277524, 0.000755884, 0.141257, 0.148454, 0.243621, 0.00417773, 0.137922, 0.108959, 0.277524, 0.137922, 0.410292, 0.00619128, 0.0194314, 0.277524, 0.137922, 0.138424, 0.013323, 0.137922, 0.137922, 0.00184381, 0.0126956, 0.137922, 0.0844652, 0.0194314, 0.000103153, 9.28904e-10, 0.000210012, 0.638139, 0.00759797, 0.0520228, 0.179564, 0.258565, 0.0412432, 0.0381993, 0.0135428, 0.0344567, 0.179564, 1.27774e-06, 0.000116482, 0.137922, 0.258565, 0.00866118, 2.40055e-05, 0.137922, 0.137922, 4.30197e-06, 2.41982e-08, 7.28422e-09, 5.11597e-05, 1.44186e-06, 2.73316e-05, 0.00304913, 0.228211, 1.51679e-08, 0.0134449, 5.60383e-05, 0.0739256, 6.35025e-07, 2.22784e-06, 0.115339, 0.058022, 0.0866284, 0.000207488, 0.0031645, 0.234154, 0.0429236, 0.000896863, 0.031828, 0.0188372, 7.27838e-06, 0.115339, 0.137922, 0.919499, 0.224964, 0.146698, 0.0226747, 0.000135256, 0.292608, 0.0243345, 6.59237e-05, 0.0244611, 0.00427881, 0.0718769, 0.048848, 0.0924719, 0.0519866, 0.00158202, 0.0165224, 0.198146],\n",
       "        [0.100723, 0.095008, 0.421588, 0.661706, 0.0765859, 0.100723, 0.460636, 0.626271, 0.412828, 0.442549, 0.97201, 0.412828, 0.412828, 0.0675325, 0.643799, 0.412828, 0.626271, 0.100723, 0.106361, 0.999677, 0.266543, 0.155754, 0.98499, 0.829248, 0.891189, 0.428135, 0.706348, 0.94897, 0.499993, 0.99791, 0.999566, 0.998183, 0.969599, 0.81418, 0.902511, 0.230185, 0.993135, 0.989311, 0.922518, 0.955013, 0.819438, 0.90625, 0.333253, 0.910958, 0.968827, 0.712651, 0.684911, 0.948589, 0.999817, 0.699007, 0.791668, 0.802055, 0.601979, 0.453825, 0.828737, 0.912038, 0.951896, 0.96053, 0.974391, 0.89349, 0.960846, 0.981064, 0.523983, 0.909178, 0.790517, 0.626271, 0.99914, 0.982245, 0.100723, 0.356606, 0.991911, 0.970031, 0.998009, 0.959814, 0.985611, 0.662311, 0.453825, 0.88193, 0.976448, 0.726027, 0.875764, 0.453825, 0.981351, 0.883913, 0.453825, 0.998251, 0.780808, 0.626233, 0.356606, 0.992096, 0.100723, 0.835418, 0.453825, 0.100723, 0.268426, 0.92189, 0.680794, 0.453825, 0.100723, 0.830998, 0.806548, 0.100723, 0.100723, 0.997828, 0.985822, 0.100723, 0.871537, 0.680794, 0.999891, 0.0298014, 0.999332, 0.155754, 0.991465, 0.938163, 0.714073, 0.412828, 0.952989, 0.923891, 0.981297, 0.960232, 0.714073, 0.603617, 0.234604, 0.100723, 0.412828, 0.922698, 0.740448, 0.100723, 0.100723, 0.473464, 0.139535, 0.829115, 0.287399, 0.286535, 0.607816, 0.990103, 0.338917, 0.047444, 0.844091, 0.940685, 0.773271, 0.477716, 0.454303, 0.526657, 0.643023, 0.256489, 0.432371, 0.488936, 0.270008, 0.849621, 0.951168, 0.139744, 0.912667, 0.0537143, 0.526657, 0.100723, 0.0367779, 0.590187, 0.628517, 0.631148, 0.415739, 0.198119, 0.85494, 0.741039, 0.499845, 0.802826, 0.197636, 0.492115, 0.609048, 0.737325, 0.752829, 0.681953, 0.629179],\n",
       "        [0.383908, 0.236227, 0.0364825, 0.00236024, 2.04268e-08, 0.383908, 0.0316735, 0.0400175, 0.0733136, 0.0468045, 0.000127394, 0.0733136, 0.0733136, 0.212086, 0.00221482, 0.0733136, 0.0400175, 0.383908, 0.619067, 3.37704e-07, 0.157008, 0.0986743, 0.00513384, 0.0044858, 0.000867023, 0.000657177, 0.0285543, 0.0040257, 0.0894578, 1.91906e-05, 3.06275e-06, 2.21133e-11, 0.00545687, 0.0449669, 0.0312221, 0.15739, 0.00125569, 0.00117764, 0.000214408, 5.14289e-06, 0.00636993, 0.00638533, 3.76617e-07, 6.45934e-12, 3.22759e-05, 0.000994074, 0.000334515, 4.68304e-05, 2.31386e-07, 0.0128184, 0.000437455, 1.23838e-05, 0.000559157, 0.139779, 7.73881e-05, 0.00190753, 8.57406e-07, 9.07257e-09, 0.000819413, 5.96884e-08, 2.9831e-08, 0.000208577, 0.333312, 0.000265317, 0.000316935, 0.0400175, 5.01092e-06, 0.00223796, 0.383908, 0.294744, 0.000414863, 3.22329e-08, 2.95302e-05, 0.000875011, 8.72396e-05, 5.42343e-05, 0.139779, 0.00277366, 4.4367e-07, 0.00613832, 0.00756724, 0.139779, 0.000649178, 0.00188848, 0.139779, 0.000137722, 0.0385783, 0.0607139, 0.294744, 0.0010521, 0.383908, 0.0344815, 0.139779, 0.383908, 0.217397, 0.000170523, 0.0816457, 0.139779, 0.383908, 0.0264866, 0.010448, 0.383908, 0.383908, 0.000327698, 0.00147657, 0.383908, 0.0439977, 0.0816457, 5.18567e-06, 1.16021e-07, 0.000457662, 0.0986743, 0.000936187, 0.00966195, 0.0662951, 0.0733136, 0.00574773, 0.00187502, 0.00450055, 0.00528096, 0.0662951, 2.047e-06, 5.53606e-05, 0.383908, 0.0733136, 0.000890286, 5.4976e-05, 0.383908, 0.383908, 0.00055462, 5.51429e-05, 0.000174442, 0.0233271, 0.00112405, 0.000943358, 0.000615334, 0.259895, 0.00135717, 0.00995384, 2.63111e-05, 0.00939958, 0.0205632, 0.00122348, 0.15463, 0.0332111, 0.0357085, 0.0421192, 0.0691352, 0.232778, 0.0428904, 0.00458505, 0.816259, 0.00839854, 0.00239845, 0.15463, 0.383908, 0.0253945, 0.0996783, 0.182929, 0.0475906, 0.0196314, 0.473147, 0.047641, 0.0237735, 0.219825, 0.0160204, 0.697188, 0.303283, 0.182743, 0.0863576, 0.0302177, 0.301525, 0.172675],\n",
       "        [0.377447, 0.212894, 0.230235, 0.263924, 0.923121, 0.377447, 0.200401, 0.115736, 0.255293, 0.177598, 0.0140495, 0.255293, 0.255293, 0.0190028, 0.0244059, 0.255293, 0.115736, 0.377447, 0.0256305, 0.00028518, 0.403262, 0.107432, 0.00455881, 0.100037, 0.100499, 0.561726, 0.0249916, 0.00286898, 0.0800563, 6.09955e-05, 0.000430114, 0.00179123, 0.0112466, 0.0440832, 0.0556688, 0.0851803, 0.00138978, 0.00862978, 0.0771354, 0.0449741, 0.131194, 0.0657729, 0.666747, 0.0890124, 0.0310337, 0.28191, 0.314724, 0.0511484, 0.000182244, 0.247272, 0.205654, 0.197843, 0.39695, 0.128873, 0.170784, 0.0734695, 0.0481004, 0.0393051, 0.00174563, 0.105916, 0.0391538, 0.0180754, 0.101858, 0.0899132, 0.206822, 0.115736, 0.000855215, 0.0118508, 0.377447, 0.105029, 0.0075256, 0.0299604, 0.00137021, 0.0115366, 0.0140695, 0.337554, 0.128873, 0.0892165, 0.0230398, 0.243433, 0.090747, 0.128873, 0.0124711, 0.100163, 0.128873, 0.000855452, 0.0393564, 0.164599, 0.105029, 0.00267393, 0.377447, 0.0211406, 0.128873, 0.377447, 0.103884, 0.0717486, 0.218129, 0.128873, 0.377447, 0.00409175, 0.169681, 0.377447, 0.377447, 0, 6.18914e-06, 0.377447, 0, 0.218129, 8.08385e-07, 0.970198, 0, 0.107432, 8.38309e-07, 0.000152136, 0.0400679, 0.255293, 2.01102e-05, 0.0360345, 0.000659599, 3.04461e-05, 0.0400679, 0.39638, 0.765225, 0.377447, 0.255293, 0.0677503, 0.259473, 0.377447, 0.377447, 0.525977, 0.86041, 0.170711, 0.689222, 0.712339, 0.391213, 0.00623219, 0.172977, 0.951199, 0.13251, 0.0592323, 0.143404, 0.50172, 0.544471, 0.203374, 0.265744, 0.621174, 0.525303, 0.438764, 0.263061, 0.0645646, 0.0433501, 0.0121695, 0.060097, 0.94388, 0.203374, 0.377447, 0.018329, 0.0851701, 0.0418566, 0.298587, 0.564495, 0.0361264, 0.0730844, 0.235121, 0.255869, 0.176875, 0.0332989, 0.155754, 0.115737, 0.124331, 0.215371, 0, 0]]), 'most_likely_positions_1D': None}),\n",
       " DynamicContainer({'p_x_given_n': array([[0.137922, 0.293842, 0.632633, ..., 0.455871, 0.137922, 0.782022],\n",
       "        [0.100723, 0.340337, 0.0156773, ..., 0.095008, 0.100723, 0.0851939],\n",
       "        [0.383908, 0.186695, 0.339057, ..., 0.236227, 0.383908, 0.0467851],\n",
       "        [0.377447, 0.179126, 0.0126331, ..., 0.212894, 0.377447, 0.0859985]]), 'most_likely_positions_1D': None}),\n",
       " DynamicContainer({'p_x_given_n': array([[0.115429, 0.228114, 0.0101866, ..., 1.90264e-08, 0.0386716, 3.33661e-06],\n",
       "        [0.309741, 0.274327, 0.956637, ..., 0.00750466, 0.0146186, 0.765314],\n",
       "        [0.0886848, 0.152535, 0.000819155, ..., 0.0404219, 0.94614, 0.103094],\n",
       "        [0.486145, 0.345025, 0.0323573, ..., 0.952073, 0.000569866, 0.131588]]), 'most_likely_positions_1D': None}),\n",
       " DynamicContainer({'p_x_given_n': array([[0.137922, 0.693972, 0.137922, ..., 0.137922, 0.754951, 0.137922],\n",
       "        [0.100723, 0.00492564, 0.100723, ..., 0.100723, 0.0215098, 0.100723],\n",
       "        [0.383908, 0.300303, 0.383908, ..., 0.383908, 0.221645, 0.383908],\n",
       "        [0.377447, 0.000799866, 0.377447, ..., 0.377447, 0.00189433, 0.377447]]), 'most_likely_positions_1D': None}),\n",
       " DynamicContainer({'p_x_given_n': array([[0.22603, 0.137922, 0.137922, ..., 0.0176118, 0.00318152, 0.0226747],\n",
       "        [0.118262, 0.100723, 0.100723, ..., 0.311324, 0.780136, 0.631148],\n",
       "        [0.382351, 0.383908, 0.383908, ..., 0.640058, 0.170439, 0.0475906],\n",
       "        [0.273358, 0.377447, 0.377447, ..., 0.0310066, 0.0462434, 0.298587]]), 'most_likely_positions_1D': None}),\n",
       " DynamicContainer({'p_x_given_n': array([[0.137922, 0.179564, 0.116871, 0.0554006, 0.243621, 0.137922, 0.243621, 0.0694365, 0.625198, 0.137922, 0.179564, 0.179564, 0.123964, 0.901987, 0.29469, 0.00259533, 0.179564, 0.230326, 0.297369, 4.29661e-05, 0.335729, 0.137922, 0.0520228, 0.179564, 0.00194168, 0.161804, 1.08369e-06, 0.179564, 0.243621, 0.243621, 0.137853, 0.281005, 0.239955, 0.137922, 0.0875699, 0.0406796, 0.578096, 0.137922, 0.161123, 0.0901895, 5.22858e-05, 0.0783284, 0.638139, 0.257411, 0.186241, 0.116437, 0.137922, 0.578356, 0.444877, 0.359173, 0.919965, 0.285399, 0.0312111, 0.536077, 0.308175, 0.22484, 0.573696, 0.578356, 0.41159, 0.000436085, 0.000417856, 0.470862, 0.0203762, 0.641342, 1.41553e-05, 6.61187e-05, 0.00784338, 0.360095, 0.0101007, 3.33712e-05, 0.304406, 0.881312, 0.373776, 0.29205, 0.628419, 0.284099, 0.765577, 0.737645, 0.182554, 0.864257, 0.703112, 0.57972, 0.0690309, 0.677565, 0.529197, 0.22603, 0.203916, 0.614325, 0.115339, 0.137922, 0.306918, 0.106519, 0.69959, 0.137922, 0.253932, 0.445396, 0.676688, 0.105693, 0.346685, 0.277524, 0.0411688, 0.0122082, 0.137922, 0.0590288, 0.634014, 8.8846e-05, 0.0463021, 0.315923, 0.0638953, 0.659369, 0.0434523, 0.219837, 0.00571206, 0.137922, 0.582173, 0.541675, 0.690178, 0.622716, 0.546298, 0.594861, 0.655064, 0.546298, 0.089763, 0.594861, 0.510437, 0.852944, 0.56427, 0.693972, 0.137922, 0.517948, 0.758907, 0.582173, 0.546298, 0.232625, 0.562844, 0.724298, 0.582173, 0.42378, 0.455871, 0.323173, 0.22603, 0.582173, 0.401329, 0.42378, 0.894116, 0.137922, 0.42378, 0.702886, 0.796219, 0.164609, 0.137922, 0.542068, 0.137922, 0.137922, 0.42378, 0.137922, 0.137922, 0.127355, 0.317461, 0.42378, 0.582173, 0.137922, 0.137922, 0.363278, 0.0996873, 0.542068, 0.137922, 0.42378, 0.333048, 0.0874205, 0.137922, 0.137922, 0.127355, 0.137922, 0.880075, 0.594861, 0.137922, 0.636334, 0.137922, 0.328148, 0.00282907, 0.354212, 0.137922, 0.137922, 0.137922, 0.849305, 0.12661, 0.640244, 0.137922, 0.137922, 0.137922, 0.42378, 0.00212144, 0.0749887, 0.089763, 0.0412816, 0.137922, 0.137922, 0.284863, 0.587533, 0.693511, 0.180363, 0.293842, 0.137922, 0.137922, 0.137922, 0.42378, 0.692688, 0.303222, 0.137922, 0.137922, 0.137922, 0.259421, 0.0484117, 0.0022382, 0.351316, 0.128191, 0.137922, 0.232625, 0.354212, 0.42378, 0.733982, 0.0237318, 0.304809, 0.22603, 0.22603, 0.542068, 0.137922, 0.363278, 0.363278],\n",
       "        [0.100723, 0.714073, 0.0818333, 0.00184305, 0.356606, 0.100723, 0.356606, 0.545012, 0.0525078, 0.100723, 0.714073, 0.714073, 0.157663, 0.00387708, 0.16637, 0.996928, 0.714073, 0.0198307, 0.308466, 2.08056e-07, 0.158645, 0.100723, 0.938163, 0.714073, 0.000352434, 0.0602179, 0.999999, 0.714073, 0.356606, 0.356606, 1.56214e-06, 0.467394, 0.274114, 0.100723, 0.280218, 0.0836074, 0.0663392, 0.100723, 0.253894, 0.00115078, 0.0535226, 0.0460561, 0.155754, 0.00176375, 8.74962e-09, 3.04256e-05, 0.100723, 0.0213249, 1.91047e-07, 1.19671e-05, 0.00187356, 0.00037195, 2.27162e-08, 5.89503e-08, 0.413466, 1.4791e-05, 1.12825e-05, 0.0213249, 0.180513, 8.47003e-10, 7.65234e-08, 0.000159159, 1.18213e-09, 0.000288333, 5.91775e-11, 5.06439e-12, 6.0134e-05, 3.25031e-06, 0.473859, 0.910907, 1.37344e-11, 0.00479736, 0.320779, 7.66314e-12, 8.14208e-06, 0.000132643, 0.0301691, 1.84769e-10, 0.000520255, 0.000456776, 0.000716342, 0.000497207, 7.26757e-14, 7.01923e-06, 0.111545, 0.118262, 1.37416e-06, 5.61006e-06, 0.526657, 0.100723, 2.8231e-07, 3.05554e-12, 0.00149229, 0.100723, 0.000755527, 0.000340299, 3.6476e-05, 0.584984, 0.00102049, 0.453825, 0.00844353, 0.112676, 0.100723, 0.0447351, 0.0551941, 4.43932e-07, 0.000164518, 0.0281109, 0.0055014, 0.0188359, 2.2769e-06, 0.60835, 1.40675e-07, 0.100723, 0.0430916, 0.000359925, 0.0262302, 0.0590801, 0.019154, 0.0917106, 0.00325705, 0.019154, 0.170219, 0.0917106, 0.000856208, 0.0148039, 0.0578018, 0.00492564, 0.100723, 0.074118, 0.0295197, 0.0430916, 0.019154, 0.0279348, 0.018283, 0.034352, 0.0430916, 0.0940098, 0.095008, 0.113425, 0.118262, 0.0430916, 0.0525127, 0.0940098, 0.0302423, 0.100723, 0.0940098, 0.214554, 0.0233737, 0.453199, 0.100723, 0.0540968, 0.100723, 0.100723, 0.0940098, 0.100723, 0.100723, 0.0490002, 0.0872506, 0.0940098, 0.0430916, 0.100723, 0.100723, 0.132232, 0.776042, 0.0540968, 0.100723, 0.0940098, 0.442549, 0.189888, 0.100723, 0.100723, 0.0490002, 0.100723, 0.0558174, 0.0917106, 0.100723, 0.0284975, 0.100723, 0.116199, 0.387738, 0.271181, 0.100723, 0.100723, 0.100723, 0.0140932, 0.835033, 0.0664799, 0.100723, 0.100723, 0.100723, 0.0940098, 0.154914, 0.0166165, 0.170219, 0.875248, 0.100723, 0.100723, 0.45874, 0.0640668, 0.0578291, 0.558731, 0.340337, 0.100723, 0.100723, 0.100723, 0.0940098, 0.00416432, 6.52487e-06, 0.100723, 0.100723, 0.100723, 0.062162, 0.554591, 0.599478, 0.344067, 0.664816, 0.100723, 0.0279348, 0.271181, 0.0940098, 0.055723, 0.973038, 0.540714, 0.118262, 0.118262, 0.0540968, 0.100723, 0.132232, 0.132232],\n",
       "        [0.383908, 0.0662951, 0.140183, 0.228899, 0.294744, 0.383908, 0.294744, 0.381502, 0.239697, 0.383908, 0.0662951, 0.0662951, 0.51238, 0.0919097, 0.405642, 0.000471566, 0.0662951, 0.493884, 0.139131, 0.910939, 0.125165, 0.383908, 0.00966195, 0.0662951, 0.705902, 0.143135, 4.17889e-08, 0.0662951, 0.294744, 0.294744, 0.862083, 0.0645071, 0.113169, 0.383908, 0.227671, 0.0442284, 0.293736, 0.383908, 0.27927, 0.865452, 0.00108869, 0.860976, 0.0986743, 0.73571, 0.813758, 0.881952, 0.383908, 0.378774, 0.555118, 0.640711, 0.0768257, 0.713992, 0.968673, 0.463911, 0.137672, 0.697918, 0.426196, 0.378774, 0.39, 0.999564, 0.999582, 0.528319, 0.979623, 0.358357, 0.999982, 0.999934, 0.992046, 0.639863, 0.052477, 9.62637e-06, 0.695594, 0.113845, 0.153134, 0.70795, 0.37157, 0.715068, 0.202028, 0.262355, 0.800768, 0.134246, 0.295811, 0.416009, 0.930968, 0.322351, 0.299734, 0.382351, 0.794498, 0.385661, 0.15463, 0.383908, 0.691516, 0.893481, 0.298803, 0.383908, 0.71453, 0.551672, 0.323274, 0.0162967, 0.637621, 0.139779, 0.92933, 0.768348, 0.383908, 0.172288, 0.29278, 0.999763, 0.953264, 0.417102, 0.802319, 0.306962, 0.95654, 0.147855, 0.786202, 0.383908, 0.356297, 0.457774, 0.2752, 0.289518, 0.431103, 0.285298, 0.337275, 0.431103, 0.569868, 0.285298, 0.486212, 0.122287, 0.317174, 0.300303, 0.383908, 0.287814, 0.0722884, 0.356297, 0.431103, 0.707084, 0.378806, 0.221314, 0.356297, 0.32741, 0.236227, 0.42475, 0.382351, 0.356297, 0.496256, 0.32741, 0.059205, 0.383908, 0.32741, 0.0397464, 0.166516, 0.017045, 0.383908, 0.34102, 0.383908, 0.383908, 0.32741, 0.383908, 0.383908, 0.579023, 0.300255, 0.32741, 0.356297, 0.383908, 0.383908, 0.251592, 0.0502781, 0.34102, 0.383908, 0.32741, 0.0468045, 0.171094, 0.383908, 0.383908, 0.579023, 0.383908, 0.056669, 0.285298, 0.383908, 0.313266, 0.383908, 0.19107, 0.00250822, 0.186723, 0.383908, 0.383908, 0.383908, 0.113809, 0.0156807, 0.23943, 0.383908, 0.383908, 0.383908, 0.32741, 0.00080479, 0.0669673, 0.569868, 0.00237698, 0.383908, 0.383908, 0.164572, 0.281544, 0.187794, 0.0811135, 0.186695, 0.383908, 0.383908, 0.383908, 0.32741, 0.301583, 0.696771, 0.383908, 0.383908, 0.383908, 0.425545, 0.00435424, 9.77841e-05, 0.0543083, 0.109585, 0.383908, 0.707084, 0.186723, 0.32741, 0.0312754, 0.000147831, 0.0278464, 0.382351, 0.382351, 0.34102, 0.383908, 0.251592, 0.251592],\n",
       "        [0.377447, 0.0400679, 0.661113, 0.713858, 0.105029, 0.377447, 0.105029, 0.00404909, 0.0825967, 0.377447, 0.0400679, 0.0400679, 0.205992, 0.00222647, 0.133298, 5.38785e-06, 0.0400679, 0.25596, 0.255035, 0.0890173, 0.380462, 0.377447, 0.000152136, 0.0400679, 0.291804, 0.634844, 4.02212e-09, 0.0400679, 0.105029, 0.105029, 6.28395e-05, 0.187093, 0.372762, 0.377447, 0.404541, 0.831485, 0.0618283, 0.377447, 0.305713, 0.0432074, 0.945336, 0.0146396, 0.107432, 0.00511518, 1.4416e-06, 0.00158056, 0.377447, 0.0215449, 4.74606e-06, 0.000104364, 0.00133571, 0.000236341, 0.000115504, 1.18757e-05, 0.140688, 0.0772274, 9.69954e-05, 0.0215449, 0.0178969, 6.76308e-10, 5.42354e-08, 0.000658909, 5.32054e-07, 1.27438e-05, 3.57871e-06, 2.32233e-08, 5.05937e-05, 3.87575e-05, 0.463563, 0.0890501, 2.67735e-08, 4.56431e-05, 0.152311, 3.76546e-07, 2.42274e-06, 0.000699665, 0.00222603, 4.44829e-07, 0.0161573, 0.00104018, 0.000360591, 0.00377453, 1.23346e-06, 7.71546e-05, 0.0595237, 0.273358, 0.00158429, 8.48671e-06, 0.203374, 0.377447, 0.00156574, 3.32767e-08, 0.000114673, 0.377447, 0.0307818, 0.00259141, 1.42639e-06, 0.293026, 0.0146734, 0.128873, 0.0210576, 0.106767, 0.377447, 0.723948, 0.0180117, 0.000147517, 0.000269334, 0.238864, 0.128284, 0.0148333, 5.89007e-06, 0.023958, 0.208086, 0.377447, 0.0184379, 0.000191063, 0.00839185, 0.0286859, 0.0034457, 0.0281305, 0.00440395, 0.0034457, 0.170149, 0.0281305, 0.00249488, 0.00996517, 0.0607542, 0.000799866, 0.377447, 0.12012, 0.139285, 0.0184379, 0.0034457, 0.0323562, 0.0400672, 0.0200369, 0.0184379, 0.1548, 0.212894, 0.138652, 0.273358, 0.0184379, 0.0499022, 0.1548, 0.0164372, 0.377447, 0.1548, 0.0428139, 0.0138911, 0.365147, 0.377447, 0.0628149, 0.377447, 0.377447, 0.1548, 0.377447, 0.377447, 0.244621, 0.295034, 0.1548, 0.0184379, 0.377447, 0.377447, 0.252898, 0.0739925, 0.0628149, 0.377447, 0.1548, 0.177598, 0.551597, 0.377447, 0.377447, 0.244621, 0.377447, 0.00743847, 0.0281305, 0.377447, 0.0219019, 0.377447, 0.364582, 0.606925, 0.187884, 0.377447, 0.377447, 0.377447, 0.0227932, 0.0226757, 0.0538462, 0.377447, 0.377447, 0.377447, 0.1548, 0.842159, 0.841427, 0.170149, 0.0810938, 0.377447, 0.377447, 0.0918253, 0.0668563, 0.0608661, 0.179792, 0.179126, 0.377447, 0.377447, 0.377447, 0.1548, 0.00156434, 3.89015e-07, 0.377447, 0.377447, 0.377447, 0.252872, 0.392644, 0.398186, 0.250309, 0.0974085, 0.377447, 0.0323562, 0.187884, 0.1548, 0.17902, 0.00308237, 0.126631, 0.273358, 0.273358, 0.0628149, 0.377447, 0.252898, 0.252898]]), 'most_likely_positions_1D': None}),\n",
       " DynamicContainer({'p_x_given_n': array([[0.277524, 0.137922, 0.0480591, 0.013813, 0.0262932, 0.586745, 0.137922, 0.128191, 0.137922, 9.33362e-05, 3.23428e-07, 7.89922e-08, 0.136183, 0.147241, 0.00101742, 0.0749887, 0.00152471, 1.23806e-06, 7.23048e-18, 4.47335e-10, 1.03197e-13, 1.35118e-07, 1.2097e-08, 2.49119e-12, 0.475411, 0.0164634, 0.0127451, 0.0718007, 1.48513e-05, 1.14998e-11, 3.42524e-05, 0.137922, 0.0710704, 0.00111133, 0.0672266, 0.0244018, 0.00106563, 0.000570436, 5.9683e-07, 1.19622e-07, 0.00111642, 0.00220617, 0.0718007, 1.17176e-11, 0.0131332, 3.95654e-05, 0.137922, 0.00060834, 0.0738039, 1.56899e-05, 0.00305788, 0.1108, 1.7358e-08, 0.129367, 1.17817e-05, 0.137922, 0.0558152, 3.09688e-05, 0.0197412, 0.00964983, 0.258565, 3.27901e-06, 6.42373e-09, 0.15451, 0.0310914, 0.444999, 0.224579, 0.600318, 0.00930502, 0.00201486, 0.373736, 0.00714305, 0.258565, 0.137922, 0.038046, 0.741661, 0.850888, 0.966046, 0.000475452, 0.000450455, 0.014523, 0.0166035, 0.00402517, 3.86614e-06, 2.74298e-19, 4.6786e-07, 0.00402517, 0.0576612, 6.52756e-10, 4.57409e-06, 0.031224, 0.00619083, 6.98532e-05, 1.85449e-09, 0.29838, 1.18177e-07, 0.000513184, 8.53245e-08, 3.01291e-05, 0.560601, 7.17395e-05, 0.00117659, 0.0430883, 4.38568e-06, 0.0194314, 0.0897874, 0.115339, 0.0293091, 1.13835e-08, 0.000596462, 0.0209529, 0.00692234, 0.00129556, 0.000277138, 0.00123985, 0.0978501, 0.000599812, 0.0250273, 0.0140901, 0.000297958, 0.0209529, 0.0390207, 0.0118735, 0.00249683, 0.0023488, 0.000472284, 0.000175646, 0.125749, 0.00179949, 0.137922, 0.405123, 0.10426, 0.125749, 0.000135256, 0.000135256, 0.00555681, 0.000325837, 0.0209529],\n",
       "        [0.453825, 0.100723, 0.409324, 0.97201, 0.244061, 0.115163, 0.100723, 0.664816, 0.100723, 0.0119239, 0.000222101, 0.986485, 0.243527, 0.411722, 0.0417792, 0.0166165, 0.000462027, 0.000340235, 2.09466e-05, 0.000481255, 0.991557, 0.118876, 0.0396011, 0.00159582, 0.142922, 1.0181e-16, 0.591623, 0.655509, 0.017536, 0.905394, 0.769606, 0.100723, 0.585529, 0.59276, 0.430905, 0.726027, 0.816126, 0.760189, 0.573249, 6.94538e-05, 0.457474, 0.372918, 0.655509, 3.27311e-13, 0.00607924, 0.429823, 0.100723, 0.539021, 0.905755, 0.215922, 0.46618, 0.32125, 1.33363e-11, 0.0385237, 0.706007, 0.100723, 0.00867213, 0.00342206, 0.124273, 0.549635, 0.412828, 2.54518e-09, 0.0840681, 0.587079, 0.0558468, 0.191725, 5.82628e-06, 0.128307, 0.531008, 0.00180433, 0.269331, 3.00347e-08, 0.412828, 0.100723, 0.00950073, 0.0405296, 0.000450331, 0.00377783, 1.20708e-13, 0.712414, 0.00229783, 0.00764792, 3.83798e-06, 0.000288846, 2.82179e-05, 4.57915e-11, 3.83798e-06, 0.000364856, 0.0265076, 0.0446686, 0.00631064, 0.0143035, 0.125264, 0.0934409, 0.00984497, 0.000821687, 0.844213, 0.284524, 0.967834, 0.111663, 0.0136545, 0.769035, 0.811929, 0.480501, 0.680794, 0.857251, 0.526657, 0.91899, 0.911296, 0.483913, 0.295839, 0.772129, 0.892642, 0.944132, 0.645075, 0.79839, 0.641744, 0.718215, 0.739794, 0.881832, 0.295839, 0.73928, 0.800689, 0.364526, 0.716441, 0.878169, 0.577534, 0.554463, 0.53041, 0.100723, 0.0973938, 0.243692, 0.554463, 0.415739, 0.415739, 0.710442, 0.528109, 0.295839],\n",
       "        [0.139779, 0.383908, 0.0079412, 0.000127394, 0.0151949, 0.225794, 0.383908, 0.109585, 0.383908, 2.61495e-06, 1.12172e-06, 2.1036e-20, 0.385061, 0.0244894, 0.000812282, 0.0669673, 6.10464e-07, 0.00813221, 2.70803e-06, 3.82174e-09, 2.17248e-13, 5.61829e-06, 3.28867e-10, 0.00021841, 0.263459, 0.983537, 0.00424028, 0.0214675, 4.82938e-06, 5.04e-22, 4.2676e-06, 0.383908, 0.0184542, 0.000231375, 0.243413, 0.00613832, 0.000404784, 1.05215e-08, 1.56932e-06, 0.000766714, 0.000785955, 0.00170346, 0.0214675, 0.000661963, 0.185399, 6.98152e-05, 0.383908, 0.00115679, 0.0168115, 0.0001647, 0.00286586, 0.128954, 0.00465885, 0.097604, 2.094e-05, 0.383908, 0.749505, 0.000936736, 0.030793, 0.00130353, 0.0733136, 0.00297384, 3.12055e-06, 0.0498129, 0.192218, 0.147576, 0.775363, 0.2673, 0.0456335, 0.0165623, 0.18206, 0.960956, 0.0733136, 0.383908, 0.086565, 0.217017, 0.148507, 0.0299427, 0.00441549, 0.00118221, 0.0223956, 0.0282411, 0.0258823, 0.00274494, 4.18663e-09, 0.00159345, 0.0258823, 0.168745, 4.55404e-06, 0.000234906, 0.0655742, 0.064816, 0.00313119, 1.07297e-05, 0.688848, 0.000896455, 0.0314371, 7.73325e-06, 0.00545274, 0.28662, 0.00987407, 0.00644686, 0.0520108, 0.00232917, 0.0816457, 0.0140005, 0.15463, 0.00492778, 0.00050919, 0.26843, 0.23409, 0.0138851, 0.000351824, 6.03866e-05, 0.113109, 0.00695706, 0.0045057, 0.0487658, 0.080135, 0.0126545, 0.23409, 0.0290846, 0.0103196, 0.360466, 0.206723, 0.0515715, 0.00431749, 0.0952192, 0.0983904, 0.383908, 0.438281, 0.644715, 0.0952192, 0.0196314, 0.0196314, 0.0123079, 0.0147218, 0.23409],\n",
       "        [0.128873, 0.377447, 0.534676, 0.0140495, 0.714451, 0.0722973, 0.377447, 0.0974085, 0.377447, 0.98798, 0.999776, 0.0135149, 0.235229, 0.416547, 0.956391, 0.841427, 0.998013, 0.991526, 0.999976, 0.999519, 0.0084426, 0.881119, 0.960399, 0.998186, 0.118208, 2.9324e-08, 0.391392, 0.251222, 0.982444, 0.0946063, 0.230355, 0.377447, 0.324946, 0.405897, 0.258456, 0.243433, 0.182403, 0.23924, 0.426749, 0.999164, 0.540624, 0.623172, 0.251222, 0.999338, 0.795388, 0.570068, 0.377447, 0.459214, 0.0036297, 0.783898, 0.527896, 0.438995, 0.995341, 0.734506, 0.293961, 0.377447, 0.186008, 0.99561, 0.825193, 0.439412, 0.255293, 0.997023, 0.915929, 0.208598, 0.720844, 0.2157, 5.25058e-05, 0.00407584, 0.414054, 0.979618, 0.174872, 0.0319007, 0.255293, 0.377447, 0.865888, 0.000792121, 0.000155059, 0.000233712, 0.995109, 0.285954, 0.960784, 0.947508, 0.970089, 0.996962, 0.999972, 0.998406, 0.970089, 0.773229, 0.973488, 0.955092, 0.896891, 0.91469, 0.871535, 0.906548, 0.00292701, 0.998282, 0.123837, 0.715469, 0.0266833, 0.0411152, 0.9764, 0.223341, 0.0929723, 0.517166, 0.218129, 0.0389606, 0.203374, 0.0467735, 0.088195, 0.247061, 0.449118, 0.207064, 0.105711, 0.0555302, 0.240577, 0.0968028, 0.35315, 0.207992, 0.165981, 0.105216, 0.449118, 0.192614, 0.177118, 0.272511, 0.0744871, 0.0697874, 0.417973, 0.224568, 0.3694, 0.377447, 0.0592017, 0.00733321, 0.224568, 0.564495, 0.564495, 0.271694, 0.456843, 0.449118]]), 'most_likely_positions_1D': None}),\n",
       " DynamicContainer({'p_x_given_n': array([[0.246387, 0.0709761, 0.0996119, 0.85251, 0.0535045, 0.00262182, 0.037115, 0.137922, 0.236333, 0.135029, 0.269219, 0.29469, 0.293842, 0.538396, 3.1461e-05, 4.12902e-18, 0.186037, 0.29469, 0.397785, 0.198178, 0.127095, 0.137922, 0.644197, 0.137922, 0.394018, 0.210283, 0.676501, 0.57283, 0.293842, 0.137922, 0.515727, 0.57283, 0.70213, 0.422785, 0.137922, 0.57283, 0.258565, 0.509197, 1.80858e-13, 0.284863, 0.137922, 0.102989, 0.284323, 0.9672, 0.092719, 0.137922, 0.258565, 0.0153767, 0.000327484, 0.00077376, 0.000272398, 0.258565, 0.701191, 0.702409, 0.56156, 0.243621, 0.137922, 0.359151, 0.164036, 0.653852, 0.405798, 0.0157733, 0.34096, 0.458759, 0.0185706, 0.484445, 0.444999, 0.105025, 0.83506, 0.431053, 0.484445, 0.233647, 0.818618, 0.543273, 0.484445, 0.00851327, 0.791189, 0.000531952, 0.846614, 0.529298, 0.0325892, 0.450612, 0.504843, 0.406463, 0.594817, 0.702409, 0.082304, 0.480372, 0.470746, 0.332435, 0.381493, 0.151627, 0.626988, 0.164564, 0.546076, 0.638139, 0.273607, 0.751413, 0.378598, 0.281016, 0.00166713, 0.570261, 0.237403, 0.0235625, 0.745298, 0.137922, 0.593053, 0.153774, 0.00322249, 0.712466, 0.137922, 0.293842, 0.000863516, 0.00296416, 0.0886524, 0.585566, 0.622716, 0.000175554, 0.89764, 0.137922, 0.638139, 0.0500546, 0.00178758, 0.00488321, 0.415073, 0.089763, 0.00181302, 0.477007, 0.00046257, 0.0360219, 0.582173, 0.648947, 0.137922, 0.137922, 0.582173, 0.582173, 0.825387, 0.594861, 0.582173, 0.582173, 0.484509, 0.363278, 0.827364, 0.594861, 0.137922, 0.485097, 0.542068, 0.546298, 0.137922, 0.137922, 0.466605, 0.587533, 0.724298, 0.137922, 0.640244, 0.546298, 0.70897, 0.137922, 0.42378, 0.137922, 0.137922, 0.373854, 0.137922, 0.640244, 0.137922],\n",
       "        [0.697386, 0.921264, 0.0401648, 0.00445601, 0.0667035, 0.00664867, 0.466882, 0.100723, 0.00217478, 0.00368041, 0.00963319, 0.16637, 0.340337, 0.210313, 0.244111, 4.43506e-05, 0.134832, 0.16637, 0.0245773, 0.000578646, 0.000142737, 0.100723, 0.0115438, 0.100723, 0.036763, 0.0429902, 0.0348365, 0.0743205, 0.340337, 0.100723, 0.344326, 0.0743205, 0.0275273, 0.0325737, 0.100723, 0.0743205, 0.412828, 0.0558906, 6.41155e-13, 0.45874, 0.100723, 0.46983, 0.0428917, 0.000184669, 3.75542e-09, 0.100723, 0.412828, 0.00549405, 2.82549e-08, 5.92791e-08, 9.68181e-05, 0.412828, 0.0311279, 7.82615e-09, 0.00495282, 0.356606, 0.100723, 1.18116e-05, 3.89055e-08, 0.00205844, 0.0696081, 5.2831e-05, 0.0041195, 9.53058e-05, 0.000274172, 0.000561237, 0.191725, 0.000121567, 0.00473643, 4.21778e-05, 0.000561237, 0.0160206, 0.000682026, 0.413725, 0.000561237, 7.56995e-07, 5.49688e-07, 0.000162856, 0.00264786, 0.101974, 1.09699e-13, 0.0933719, 0.220607, 0.0309183, 5.53229e-15, 7.82615e-09, 0.000577825, 0.00405113, 1.42386e-09, 6.69019e-11, 1.99926e-07, 0.284812, 0.100782, 4.88406e-17, 0.000457413, 0.155754, 0.461982, 5.66182e-05, 8.22712e-07, 0.351304, 0.261925, 0.0177177, 0.00024855, 8.12097e-20, 0.00597774, 0.100723, 0.000989886, 2.8149e-07, 1.01926e-06, 0.0110342, 0.100723, 0.340337, 1.36684e-07, 5.51699e-05, 0.00156952, 0.0233796, 0.0590801, 1.42566e-07, 0.0135228, 0.100723, 0.155754, 0.0202341, 0.000137545, 0.227463, 0.00305252, 0.170219, 1.62733e-05, 0.00881717, 0.000354721, 0.0276792, 0.0430916, 0.00588399, 0.100723, 0.100723, 0.0430916, 0.0430916, 0.0140945, 0.0917106, 0.0430916, 0.0430916, 0.0289665, 0.132232, 0.00210018, 0.0917106, 0.100723, 0.0402185, 0.0540968, 0.019154, 0.100723, 0.100723, 0.0137168, 0.0640668, 0.034352, 0.100723, 0.0664799, 0.019154, 0.212857, 0.100723, 0.0940098, 0.100723, 0.100723, 0.0856649, 0.100723, 0.0664799, 0.100723],\n",
       "        [0.056221, 0.00775073, 0.853462, 0.140082, 0.879313, 0.908825, 0.0382655, 0.383908, 0.761307, 0.861116, 0.713412, 0.405642, 0.186695, 0.249991, 0.187379, 5.66161e-09, 0.652063, 0.405642, 0.565524, 0.800333, 0.87163, 0.383908, 0.338431, 0.383908, 0.467431, 0.722449, 0.262121, 0.279092, 0.186695, 0.383908, 0.11742, 0.279092, 0.253675, 0.492403, 0.383908, 0.279092, 0.0733136, 0.400793, 0.00014304, 0.164572, 0.383908, 0.0157574, 0.31959, 0.03255, 0.907281, 0.383908, 0.0733136, 0.914748, 0.999235, 0.148335, 0.00472354, 0.0733136, 0.261802, 0.297588, 0.431257, 0.294744, 0.383908, 0.640807, 0.835963, 0.344079, 0.488034, 0.981399, 0.628571, 0.540851, 0.98071, 0.51431, 0.147576, 0.87319, 0.160151, 0.568886, 0.51431, 0.37074, 0.179442, 0.0338782, 0.51431, 0.991377, 0.208774, 0.999099, 0.150698, 0.297261, 0.967411, 0.364197, 0.251669, 0.539555, 0.405183, 0.297588, 0.917075, 0.515535, 0.529246, 0.667565, 0.618484, 0.202971, 0.180375, 0.835436, 0.45282, 0.0986743, 0.11373, 0.247557, 0.619341, 0.240146, 0.000774121, 0.373975, 0.761453, 0.976438, 0.245949, 0.383908, 0.401403, 0.846016, 0.996765, 0.274863, 0.383908, 0.186695, 0.999132, 0.996831, 0.905287, 0.357391, 0.289518, 0.999824, 0.0781367, 0.383908, 0.0986743, 0.914467, 0.997873, 0.640073, 0.56505, 0.569868, 0.998124, 0.508395, 0.997003, 0.915922, 0.356297, 0.339197, 0.383908, 0.383908, 0.356297, 0.356297, 0.15239, 0.285298, 0.356297, 0.356297, 0.46912, 0.251592, 0.169848, 0.285298, 0.383908, 0.464943, 0.34102, 0.431103, 0.383908, 0.383908, 0.478891, 0.281544, 0.221314, 0.383908, 0.23943, 0.431103, 0.0733334, 0.383908, 0.32741, 0.383908, 0.383908, 0.42717, 0.383908, 0.23943, 0.383908],\n",
       "        [6.49236e-06, 9.45912e-06, 0.00676161, 0.00295124, 0.000478651, 0.0819048, 0.457738, 0.377447, 0.000185081, 0.000174053, 0.00773597, 0.133298, 0.179126, 0.00130013, 0.568479, 0.999956, 0.0270678, 0.133298, 0.012114, 0.000910891, 0.00113222, 0.377447, 0.00582857, 0.377447, 0.101788, 0.0242783, 0.0265414, 0.0737571, 0.179126, 0.377447, 0.0225264, 0.0737571, 0.0166677, 0.0522391, 0.377447, 0.0737571, 0.255293, 0.0341198, 0.999857, 0.0918253, 0.377447, 0.411424, 0.353196, 6.54869e-05, 2.34685e-09, 0.377447, 0.255293, 0.0643816, 0.000437777, 0.850891, 0.994907, 0.255293, 0.00587837, 2.07263e-06, 0.00223091, 0.105029, 0.377447, 3.05813e-05, 8.29326e-07, 1.07861e-05, 0.03656, 0.00277438, 0.0263493, 0.000294714, 0.000444796, 0.000683547, 0.2157, 0.0216642, 5.27751e-05, 1.90198e-05, 0.000683547, 0.379592, 0.00125789, 0.00912345, 0.000683547, 0.000109363, 3.67812e-05, 0.000206146, 3.93847e-05, 0.0714664, 2.48689e-09, 0.0918192, 0.0228811, 0.0230643, 4.47805e-08, 2.07263e-06, 4.31188e-05, 4.11522e-05, 7.90056e-06, 7.53403e-09, 2.26203e-05, 0.36059, 0.0918556, 1.57569e-07, 0.000646614, 0.107432, 0.15068, 0.000972904, 0.00205949, 0.127533, 0.735634, 0.038046, 0.000894837, 9.71602e-09, 0.0027754, 0.377447, 0.00455405, 0.00020894, 1.13062e-05, 0.00163711, 0.377447, 0.179126, 4.02291e-06, 0.00014975, 0.00449082, 0.0336634, 0.0286859, 5.03169e-08, 0.0107, 0.377447, 0.107432, 0.0152444, 0.000201562, 0.127581, 0.0168244, 0.170149, 4.6562e-05, 0.00578, 0.00217963, 0.0203767, 0.0184379, 0.00597235, 0.377447, 0.377447, 0.0184379, 0.0184379, 0.00812938, 0.0281305, 0.0184379, 0.0184379, 0.0174046, 0.252898, 0.000688256, 0.0281305, 0.377447, 0.00974099, 0.0628149, 0.0034457, 0.377447, 0.377447, 0.0407877, 0.0668563, 0.0200369, 0.377447, 0.0538462, 0.0034457, 0.00483913, 0.377447, 0.1548, 0.377447, 0.377447, 0.113311, 0.377447, 0.0538462, 0.377447]]), 'most_likely_positions_1D': None}),\n",
       " DynamicContainer({'p_x_given_n': array([[0.241183, 0.631144, 6.38904e-06, 0.0051058, 0.372835, 0.282602, 0.838236, 0.0277823, 0.137922, 0.318357, 0.501772, 8.24094e-05, 0.217814, 0.137922, 0.363278, 0.258565, 0.00282907, 0.137922, 0.137922, 0.105693, 0.333048, 0.555266, 0.712466, 0.137922, 0.137922, 0.00301959, 0.293842, 0.173186, 0.173186, 0.0236515, 8.68542e-06, 0.0131495, 0.00631512, 0.0749887, 8.43382e-14, 1.84092e-07, 0.00150266, 1.24383e-08, 0.000539527, 3.37946e-11, 0.00439363, 1.03866e-09, 9.2906e-27, 0.0128252, 0.00302874, 2.53827e-10, 0.0718007, 1.79886e-09, 1.0865e-06, 0.137922, 6.72823e-15, 9.07055e-10, 5.62393e-07, 3.86896e-05, 0.00149079, 0.00704264, 2.19172e-06, 0.0077479, 0.00528222, 7.6031e-06, 9.07211e-06, 0.000309073, 0.0903903, 0.000259117, 0.277524, 1.40482e-05, 0.0005513, 1.17339e-06, 7.00523e-05, 0.137922, 0.000210229, 0.00356629, 1.51478e-09, 0.0293585, 2.38955e-06, 3.7042e-06, 4.25847e-06, 0.0718007, 0.239955, 5.56232e-06, 0.000354296, 0.0293585, 0.210556, 0.000110645, 2.03206e-13, 1.76477e-09, 0.0576612, 0.00402517, 6.35067e-07, 7.23076e-13, 2.64941e-06, 0.00312002, 0.000282137, 3.79862e-06, 0.000138962, 0.00392089, 2.5795e-06, 0.000750182, 0.000308142, 0.480668, 0.115339, 0.0194314, 0.00417616, 0.0012867, 5.03368e-06, 3.83657e-05, 0.0250273, 0.125749, 0.00744461, 1.05247e-09, 9.89105e-07, 0.000396743, 0.000207488, 0.0035355, 4.90642e-05, 2.16797e-05, 0.354804, 5.11597e-05, 0.000758825, 0.00950818, 0.146698, 0.354804, 0.00479334, 4.90642e-05, 0.251045, 0.00866118, 0.354212, 0.00143658, 0.137922, 0.000175646, 0.125749, 0.125749, 0.65267, 0.000332932, 0.00872514, 0.000730487, 0.137922, 0.137922, 0.000299737, 0.0590006, 0.00937525, 0.093137, 0.29469, 0.000730487, 1.61199e-07, 0.411657],\n",
       "        [0.542768, 0.321428, 0.40983, 0.0861138, 0.441576, 0.250807, 0.0380586, 0.0646656, 0.100723, 0.476449, 0.344062, 0.764152, 0.465138, 0.100723, 0.132232, 0.412828, 0.387738, 0.100723, 0.100723, 0.584984, 0.442549, 0.356501, 0.0110342, 0.100723, 0.100723, 0.16328, 0.340337, 0.266543, 0.266543, 0.543484, 0.994732, 0.589435, 0.0784915, 0.0166165, 3.97288e-05, 0.665794, 0.139051, 6.64587e-05, 0.848399, 0.974517, 0.0247405, 2.1573e-08, 3.37116e-06, 0.877971, 0.928404, 2.95186e-06, 0.655509, 0.956668, 0.882336, 0.100723, 0.0103583, 0.0488852, 0.0117822, 3.89032e-07, 0.81451, 0.44296, 0.258898, 0.908605, 0.932807, 0.781756, 0.103352, 0.000147288, 0.000515691, 0.539436, 0.453825, 0.00663903, 0.0140145, 0.00135368, 0.71138, 0.100723, 1.34998e-05, 0.000810744, 0.00268827, 0.563643, 0.000183846, 6.35842e-09, 0.256417, 0.655509, 0.274114, 3.09532e-15, 0.00559903, 0.563643, 0.343763, 1.31962e-14, 0.000107067, 0.00260616, 0.000364856, 3.83798e-06, 3.36444e-05, 0.00648209, 4.75303e-05, 0.000445047, 0.00359615, 0.0513118, 0.87404, 0.000330636, 1.26037e-05, 0.274739, 0.972844, 0.300448, 0.526657, 0.680794, 0.73566, 0.936807, 0.876192, 0.393202, 0.718215, 0.554463, 0.939044, 0.0203658, 0.539085, 0.499911, 0.432371, 0.660693, 0.430229, 0.702857, 0.29576, 0.287399, 0.328129, 0.590684, 0.628517, 0.29576, 0.885049, 0.430229, 0.548796, 0.922698, 0.271181, 0.703515, 0.100723, 0.577534, 0.554463, 0.554463, 0.109608, 0.648481, 0.768085, 0.562551, 0.100723, 0.100723, 0, 0, 0.677443, 0.417142, 0.16637, 0.562551, 3.10496e-05, 0.131962],\n",
       "        [0.0883903, 0.0075355, 1.53067e-06, 0.242691, 0.0534968, 0.114308, 0.0828212, 0.225175, 0.383908, 0.0749087, 0.0835144, 3.67215e-06, 0.151494, 0.383908, 0.251592, 0.0733136, 0.00250822, 0.383908, 0.383908, 0.0162967, 0.0468045, 0.0669229, 0.274863, 0.383908, 0.383908, 0.00253995, 0.186695, 0.157008, 0.157008, 0.0199995, 1.8285e-05, 0.0168746, 0.00370178, 0.0669673, 4.05677e-14, 1.16243e-06, 0.00103989, 1.70367e-10, 0.00133958, 5.43749e-21, 0.00129615, 2.19973e-09, 6.02957e-18, 0.0210818, 0.000510883, 1.36024e-09, 0.0214675, 6.79378e-19, 2.33606e-06, 0.383908, 2.73601e-13, 3.01946e-13, 8.50545e-15, 0.742438, 0.000276785, 0.00152086, 3.875e-06, 0.00747884, 0.00111047, 2.51017e-06, 0.000386952, 0.0409694, 0.851019, 0.000376777, 0.139779, 0.0424009, 0.000569752, 7.05359e-07, 3.92146e-05, 0.383908, 0.00277824, 0.599402, 1.27441e-07, 0.00526594, 0.0142256, 0.00108231, 0.00153331, 0.0214675, 0.113169, 0.000239232, 0.0136776, 0.00526594, 0.0431823, 0.0059383, 2.16725e-06, 4.25349e-06, 0.168745, 0.0258823, 0, 2.06784e-07, 0.00251486, 0.0399977, 0.0410112, 4.86979e-05, 0.00387261, 0.0308079, 0.00194679, 0.115484, 1.01282e-05, 0.21281, 0.15463, 0.0816457, 0.0230505, 0.000266864, 0.00671504, 0.00851439, 0.0487658, 0.0952192, 0.00768203, 5.17849e-05, 0.00297446, 0.0274588, 0.0421192, 0.0216978, 0.00980866, 0.110622, 0.224292, 0.0233271, 0.0964561, 0.311173, 0.182929, 0.224292, 0.0391579, 0.00980866, 0.0833283, 0.000890286, 0.186723, 0.189016, 0.383908, 0.00431749, 0.0952192, 0.0952192, 0.184693, 0.155964, 0.14066, 0.0177803, 0.383908, 0.383908, 0.472805, 0.910408, 0.0986013, 0.0544055, 0.405642, 0.0177803, 0.000444003, 0.300141],\n",
       "        [0.127659, 0.0398923, 0.590162, 0.666089, 0.132092, 0.352283, 0.0408839, 0.682377, 0.377447, 0.130286, 0.0706513, 0.235762, 0.165554, 0.377447, 0.252898, 0.255293, 0.606925, 0.377447, 0.377447, 0.293026, 0.177598, 0.0213099, 0.00163711, 0.377447, 0.377447, 0.831161, 0.179126, 0.403262, 0.403262, 0.412865, 0.00524071, 0.380541, 0.911492, 0.841427, 0.99996, 0.334205, 0.858406, 0.999934, 0.149722, 0.0254831, 0.96957, 1, 0.999997, 0.0881221, 0.0680562, 0.999997, 0.251222, 0.0433317, 0.117661, 0.377447, 0.989642, 0.951115, 0.988217, 0.257523, 0.183722, 0.548477, 0.741096, 0.076168, 0.0608007, 0.218234, 0.896252, 0.958574, 0.0580754, 0.459928, 0.128873, 0.950946, 0.984864, 0.998644, 0.288511, 0.377447, 0.996998, 0.396221, 0.997312, 0.401732, 0.985588, 0.998914, 0.742045, 0.251222, 0.372762, 0.999755, 0.980369, 0.401732, 0.402499, 0.993951, 0.999891, 0.99739, 0.773229, 0.970089, 0.999966, 0.993518, 0.997435, 0.956437, 0.95511, 0.948636, 0.121949, 0.964941, 0.998038, 0.609026, 0.0268374, 0.00607376, 0.203374, 0.218129, 0.237113, 0.0616397, 0.117088, 0.598245, 0.207992, 0.224568, 0.0458295, 0.979582, 0.45794, 0.472233, 0.525303, 0.314074, 0.559913, 0.186499, 0.125144, 0.689222, 0.574656, 0.0886356, 0.0418566, 0.125144, 0.071, 0.559913, 0.11683, 0.0677503, 0.187884, 0.106032, 0.377447, 0.417973, 0.224568, 0.224568, 0.0530296, 0.195222, 0.0825306, 0.418938, 0.377447, 0.377447, 0.526896, 0.0305915, 0.214581, 0.435315, 0.133298, 0.418938, 0.999525, 0.15624]]), 'most_likely_positions_1D': None}),\n",
       " DynamicContainer({'p_x_given_n': array([[0.137922, 0.137922, 0.0886524, 0.0297495, 1.68028e-18, 4.88064e-06, 0.336301, 0.0366057, 0.0549603, 0.233647, 0.22603, 0.0660952, 0.0501579, 0.29469, 0.118436, 0.189255, 0.635824, 0.96454, 0.427336, 0.984518, 0.652153, 0.599853, 0.230326, 0.0501205, 0.872947, 0.57283, 0.728553, 0.138101, 0.403759, 0.632633, 0.438382, 0.137922, 0.29469, 0.57283, 0.57283, 0.137922, 0.0775078, 0.0441197, 0.57283, 0.57283, 0.137922, 0.0210826, 0.786706, 0.560307, 0.265163, 0.29469, 0.308589, 0.253871, 0.397785, 0.293842, 0.474776, 0.00189174, 0.66239, 0.137922, 0.0958514, 0.258565, 9.50671e-09, 3.75436e-17, 0.137922, 0.258565, 0.0306792, 0.000125061, 0.153599, 0.509197, 0.292929, 0.578356, 2.63003e-05, 0.66239, 0.0704904, 0.269505, 0.578356, 0.702409, 0.243621, 0.243621, 0.632713, 0.578356, 0.790539, 0.243621, 0.578356, 0.578356, 0.000679368, 0.988427, 0.196214, 0.00851327, 0.0498582, 0.535397, 0.589874, 0.397698, 0.484445, 0.674884, 0.817666, 0.648123, 0.023811, 0.644817, 0.332145, 0.980659, 4.21504e-05, 0.970182, 0.12593, 0.414833, 0.80628, 0.243606, 0.859141, 0.66758, 0.57972, 0.246344, 0.719914, 0.246842, 0.744229, 0.0367347, 0.137922, 0.719914, 0.746769, 0.179564, 0.135459, 0.264252, 0.570261, 0.102187, 0.0168221, 0.144501, 0.593053, 0.55032, 0.362087, 0.000480652, 0.258499, 0.560307, 0.233647, 0.00707593, 0.00134423, 0.293842, 0.22658, 0.622716, 0.0579539, 0.594861, 0.401329, 0.663167, 0.000930334, 0.0453682, 0.0234669, 0.028337, 0.809055, 0.614262, 0.648947, 0.785272, 0.137922, 0.137922, 0.137922, 0.83516, 0.657207, 0.55032, 0.582173, 0.137922, 0.868948, 0.727692, 0.508075, 0.137922, 0.137922, 0.790797, 0.640244, 0.137922, 0.137922, 0.42378, 0.374911, 0.259421, 0.137922, 0.137922, 0.317461, 0.137922, 0.137922, 0.42378, 0.22603, 0.42378, 0.42378, 0.137922, 0.22603, 0.543679, 0.210732, 0.22603, 0.137922, 0.42378, 0.279104, 0.363278, 0.780544, 0.137922, 0.137922, 0.137922, 0.583635, 0.55032, 0.42378, 0.137922, 0.137922, 0.517948, 0.72532, 0.137922, 0.137922, 0.22603, 0.137922, 0.323173, 0.113898, 0.00103905, 7.21472e-06, 0.00370808, 0.0244018, 0.00428975, 3.94049e-05, 0.137922, 0.232625, 0.22603, 0.334407, 0.137922, 0.284863, 0.137922, 0.137922, 0.137922, 0.745018, 0.960194, 0.978489, 0.137922, 0.137922, 0.0155768, 0.108939, 0.137922, 0.137922, 0.137922, 0.137922, 0.413365, 0.645106, 0.410292, 0.137922, 0.232625, 0.42378, 0.127479, 0.137922, 0.42378, 0.173186, 0.42378, 0.410292, 0.22603, 0.137922, 0.137922, 0.29469, 0.60586, 0.0828181, 0.137922],\n",
       "        [0.100723, 0.100723, 0.00156952, 0.607504, 2.19375e-05, 0.43347, 0.126584, 0.0540398, 0.0180573, 0.0160206, 0.118262, 0.439474, 1.75838e-07, 0.16637, 0.34036, 0.182883, 0.0608095, 0.000174296, 0.00895771, 0.00051561, 0.0281304, 0.00366542, 0.0198307, 0.0154416, 0.016232, 0.0743205, 0.027291, 0.664662, 0.00464161, 0.0156773, 0.142257, 0.100723, 0.16637, 0.0743205, 0.0743205, 0.100723, 0.00804406, 0.000715059, 0.0743205, 0.0743205, 0.100723, 0.00105725, 1.63607e-09, 0.0477879, 0.0679629, 0.16637, 0.475651, 0.546228, 0.0245773, 0.340337, 0.148669, 9.61192e-08, 0.134635, 0.100723, 0.0476768, 0.412828, 4.99435e-12, 2.05951e-11, 0.100723, 0.412828, 1.02494e-07, 1.29796e-07, 1.0977e-06, 0.0558906, 0.0193564, 0.0213249, 1.82886e-05, 0.134635, 0.00322816, 5.20961e-05, 0.0213249, 7.82615e-09, 0.356606, 0.356606, 0.00806438, 0.0213249, 1.06504e-07, 0.356606, 0.0213249, 0.0213249, 0.000569191, 1.0174e-09, 5.52365e-05, 7.56995e-07, 0.000854395, 1.6593e-05, 0.0100327, 0.000813668, 0.000561237, 0.00029911, 0.000847819, 0.00544925, 2.73909e-10, 2.89194e-07, 1.21905e-06, 3.90916e-06, 0.848221, 2.59181e-09, 1.94229e-06, 0.0429551, 2.56037e-08, 0.00303375, 6.62798e-05, 0.000566709, 0.000497207, 1.99532e-10, 0.0713552, 1.08061e-07, 0.000499668, 1.52792e-10, 0.100723, 0.0713552, 3.38359e-05, 0.714073, 6.89442e-07, 0.602262, 0.0177177, 0.0820091, 2.83842e-05, 0.00053584, 0.000989886, 0.119575, 0.00528298, 6.59922e-05, 0.00290989, 0.0477879, 0.0160206, 3.31358e-06, 0.00555503, 0.340337, 0.000299329, 0.0590801, 0.0395349, 0.0917106, 0.0525127, 0.000925941, 0.00337684, 0.0247979, 0.00170046, 0.0136838, 0.00720502, 0.0459157, 0.00588399, 0.00105453, 0.100723, 0.100723, 0.100723, 0.0211636, 0.0216442, 0.119575, 0.0430916, 0.100723, 0.00623246, 0.0417168, 0.00071166, 0.100723, 0.100723, 0.016826, 0.0664799, 0.100723, 0.100723, 0.0940098, 0.0197259, 0.062162, 0.100723, 0.100723, 0.0872506, 0.100723, 0.100723, 0.0940098, 0.118262, 0.0940098, 0.0940098, 0.100723, 0.118262, 0.0966196, 0.0836061, 0.118262, 0.100723, 0.0940098, 0.472874, 0.132232, 0.0583933, 0.100723, 0.100723, 0.100723, 0.0698161, 0.119575, 0.0940098, 0.100723, 0.100723, 0.074118, 0.0111401, 0.100723, 0.100723, 0.118262, 0.100723, 0.113425, 0.879306, 0.973465, 0.483278, 0.861861, 0.726027, 0.603808, 0.188175, 0.100723, 0.0279348, 0.118262, 0.0386215, 0.100723, 0.45874, 0.100723, 0.100723, 0.100723, 0.0701286, 5.85182e-05, 0.00560198, 0.100723, 0.100723, 0.730979, 0.0537494, 0.100723, 0.100723, 0.100723, 0.100723, 0.0131253, 0.0516313, 0.268426, 0.100723, 0.0279348, 0.0940098, 0.0157478, 0.100723, 0.0940098, 0.266543, 0.0940098, 0.268426, 0.118262, 0.100723, 0.100723, 0.16637, 0.0870464, 0.897044, 0.100723],\n",
       "        [0.383908, 0.383908, 0.905287, 0.358624, 1.91236e-08, 0.334907, 0.482282, 0.372559, 0.824793, 0.37074, 0.382351, 0.483929, 0.949842, 0.405642, 0.455912, 0.617991, 0.282278, 0.0352583, 0.561972, 0.0148246, 0.288169, 0.392945, 0.493884, 0.86838, 0.0970593, 0.279092, 0.244011, 0.197141, 0.589149, 0.339057, 0.112137, 0.383908, 0.405642, 0.279092, 0.279092, 0.383908, 0.91442, 0.953416, 0.279092, 0.279092, 0.383908, 0.799312, 0.213294, 0.31201, 0.608017, 0.405642, 0.0427829, 0.0500943, 0.565524, 0.186695, 0.320498, 0.973052, 0.159127, 0.383908, 0.358998, 0.0733136, 0.0810889, 1.24983e-09, 0.383908, 0.0733136, 0.950939, 0.999638, 0.846399, 0.400793, 0.679804, 0.378774, 0.998782, 0.159127, 0.923864, 0.729088, 0.378774, 0.297588, 0.294744, 0.294744, 0.352907, 0.378774, 0.20946, 0.294744, 0.378774, 0.378774, 0.87794, 0.011572, 0.803633, 0.991377, 0.942161, 0.464518, 0.399264, 0.600839, 0.51431, 0.323669, 0.181476, 0.345763, 0.976173, 0.355169, 0.667853, 0.019337, 9.13982e-05, 0.0298183, 0.874064, 0.504697, 0.19372, 0.749722, 0.140226, 0.331725, 0.416009, 0.753655, 0.178075, 0.753157, 0.250443, 0.96326, 0.383908, 0.178075, 0.253196, 0.0662951, 0.864382, 0.0961951, 0.373975, 0.797105, 0.981969, 0.854942, 0.401403, 0.214383, 0.510422, 0.999351, 0.731549, 0.31201, 0.37074, 0.992828, 0.991709, 0.186695, 0.703969, 0.289518, 0.629601, 0.285298, 0.496256, 0.335465, 0.989713, 0.903564, 0.972767, 0.829287, 0.171381, 0.286341, 0.339197, 0.213246, 0.383908, 0.383908, 0.383908, 0.126693, 0.305468, 0.214383, 0.356297, 0.383908, 0.12226, 0.182299, 0.491181, 0.383908, 0.383908, 0.185822, 0.23943, 0.383908, 0.383908, 0.32741, 0.54995, 0.425545, 0.383908, 0.383908, 0.300255, 0.383908, 0.383908, 0.32741, 0.382351, 0.32741, 0.32741, 0.383908, 0.382351, 0.23405, 0.443445, 0.382351, 0.383908, 0.32741, 0.0620191, 0.251592, 0.0691597, 0.383908, 0.383908, 0.383908, 0.255979, 0.214383, 0.32741, 0.383908, 0.383908, 0.287814, 0.241142, 0.383908, 0.383908, 0.382351, 0.383908, 0.42475, 1.66692e-05, 0.000123396, 0.000149407, 1.94316e-06, 0.00613832, 0.00326746, 0.0153358, 0.383908, 0.707084, 0.382351, 0.42071, 0.383908, 0.164572, 0.383908, 0.383908, 0.383908, 0.138012, 0.0397454, 0.0119891, 0.383908, 0.383908, 0.237857, 0.808521, 0.383908, 0.383908, 0.383908, 0.383908, 0.514808, 0.20598, 0.217397, 0.383908, 0.707084, 0.32741, 0.841109, 0.383908, 0.32741, 0.157008, 0.32741, 0.217397, 0.382351, 0.383908, 0.383908, 0.405642, 0.221623, 0.0011302, 0.383908],\n",
       "        [0.377447, 0.377447, 0.00449082, 0.00412237, 0.999978, 0.231619, 0.0548323, 0.536795, 0.10219, 0.379592, 0.273358, 0.0105019, 2.99188e-07, 0.133298, 0.085292, 0.00987121, 0.0210885, 2.74547e-05, 0.00173433, 0.000141717, 0.0315478, 0.00353644, 0.25596, 0.0660582, 0.0137622, 0.0737571, 0.000144506, 9.61595e-05, 0.00245076, 0.0126331, 0.307224, 0.377447, 0.133298, 0.0737571, 0.0737571, 0.377447, 2.83434e-05, 0.00174969, 0.0737571, 0.0737571, 0.377447, 0.178549, 3.45717e-07, 0.0798953, 0.058857, 0.133298, 0.172977, 0.149807, 0.012114, 0.179126, 0.0560563, 0.0250562, 0.043848, 0.377447, 0.497473, 0.255293, 0.918911, 1, 0.377447, 0.255293, 0.0183819, 0.000237196, 2.16383e-07, 0.0341198, 0.00791033, 0.0215449, 0.001173, 0.043848, 0.00241694, 0.00135523, 0.0215449, 2.07263e-06, 0.105029, 0.105029, 0.00631524, 0.0215449, 1.12065e-06, 0.105029, 0.0215449, 0.0215449, 0.120812, 1.38618e-06, 9.8289e-05, 0.000109363, 0.0071263, 6.7574e-05, 0.000829011, 0.000648717, 0.000683547, 0.001148, 9.89599e-06, 0.000664656, 1.63075e-05, 1.42932e-05, 1.06424e-06, 4.35224e-08, 0.151645, 1.58196e-09, 4.5574e-06, 0.0375148, 6.11643e-10, 0.00363826, 0.000566649, 0.000127676, 0.00377453, 5.5691e-07, 0.0306557, 5.5944e-07, 0.00482856, 4.87665e-06, 0.377447, 0.0306557, 1.74225e-06, 0.0400679, 0.000158979, 0.0372914, 0.038046, 0.0186986, 0.00118018, 2.09081e-05, 0.00455405, 0.115722, 0.122209, 0.000102827, 0.00704241, 0.0798953, 0.379592, 9.26893e-05, 0.0013918, 0.179126, 0.0691523, 0.0286859, 0.27291, 0.0281305, 0.0499022, 0.000442166, 0.00598012, 0.0262704, 0.00206589, 0.128692, 0.0123582, 0.0534816, 0.00597235, 0.000428104, 0.377447, 0.377447, 0.377447, 0.0169831, 0.0156801, 0.115722, 0.0184379, 0.377447, 0.00255877, 0.0482927, 3.24338e-05, 0.377447, 0.377447, 0.00655522, 0.0538462, 0.377447, 0.377447, 0.1548, 0.055413, 0.252872, 0.377447, 0.377447, 0.295034, 0.377447, 0.377447, 0.1548, 0.273358, 0.1548, 0.1548, 0.377447, 0.273358, 0.125651, 0.262218, 0.273358, 0.377447, 0.1548, 0.186002, 0.252898, 0.091903, 0.377447, 0.377447, 0.377447, 0.0905695, 0.115722, 0.1548, 0.377447, 0.377447, 0.12012, 0.0223981, 0.377447, 0.377447, 0.273358, 0.377447, 0.138652, 0.00677852, 0.0253727, 0.516565, 0.134429, 0.243433, 0.388635, 0.796449, 0.377447, 0.0323562, 0.273358, 0.206262, 0.377447, 0.0918253, 0.377447, 0.377447, 0.377447, 0.0468422, 1.71025e-06, 0.00391968, 0.377447, 0.377447, 0.015587, 0.0287901, 0.377447, 0.377447, 0.377447, 0.377447, 0.0587023, 0.0972831, 0.103884, 0.377447, 0.0323562, 0.1548, 0.0156638, 0.377447, 0.1548, 0.403262, 0.1548, 0.103884, 0.273358, 0.377447, 0.377447, 0.133298, 0.0854709, 0.0190078, 0.377447]]), 'most_likely_positions_1D': None}),\n",
       " DynamicContainer({'p_x_given_n': array([[0.22603, 0.137922, 0.727692, 0.159591, 0.089019, 0.137922, 0.228114, 0.137922, 0.383666, 0.115429, 0.137922, 0.228114, 0.000907377, 0.239955, 0.137922, 0.356497, 0.0642021, 0.137922, 0.42378, 0.542068, 0.597243, 0.594861, 0.137922, 0.161115, 0.089019, 0.00015575, 0.137922, 0.137922, 0.137922, 0.137922, 0.137922, 0.137922, 0.137922, 0.105693, 0.167824, 0.137922, 0.137922, 0.293842, 0.0538763, 0.560307, 0.137922, 0.137922, 0.293842, 0.137922, 0.137922, 0.137922, 0.137922, 0.000833603, 0.17033, 0.137922, 0.137922, 0.137922, 0.137922, 0.00458553, 0.333048, 0.0656747, 0.173186, 8.85515e-10, 0.0015935, 0.137922, 0.0262932, 0.494434, 0.293842, 0.137922, 0.173186, 0.000171366, 1.41767e-05, 0.137922, 0.00164398, 9.96593e-07, 0.00749238, 0.137922, 0.57969, 0.00152459, 1.63097e-05, 3.87932e-11, 1.65974e-05, 0.368888, 8.84096e-10, 6.05078e-09, 0.529298, 5.14945e-12, 1.49928e-05, 1.76106e-08, 1.93932e-10, 0.0545429, 1.48513e-05, 0.000285229, 2.66051e-06, 3.27901e-06, 0.0606687, 0.00204186, 1.70149e-07, 0.0406454, 0.277524, 0.0020769, 0.000656058, 4.43005e-08, 0.00584952, 0.000131269, 0.277524, 1.71672e-06, 2.54604e-17, 9.3017e-07, 1.16138e-05, 0.186978, 2.21925e-08, 1.64242e-09, 0.000716023, 0.0310914, 6.50378e-05, 2.82762e-08, 0.000152662, 0.407919, 0.00666383, 8.95461e-10, 9.14806e-20, 0.233647, 0.00390615, 8.94593e-12, 9.8874e-17, 0.00416471, 0.00402517, 2.24056e-13, 1.88887e-07, 2.71978e-07, 0.00173162, 2.83983e-11, 6.96478e-06, 0.00611088, 3.7264e-12, 3.69561e-14, 0.329136, 0.0562161, 0.199114, 0.390489, 0.0808216, 2.65312e-06, 0.125749, 0.00040189, 0.000142795, 0.560601, 0.05127, 0.0310939, 0.000774514, 0.000758825, 0.0117091, 0.00785492, 0.000212297, 5.91719e-05, 1.428e-05, 0.125749, 0.0226747, 1.82787e-05, 0.0999966, 0.426283, 0.0423548, 0.0567062, 0.0240653, 0.00583213, 0.0507307, 0.835958, 0.137922, 0.000272306, 0.0141667, 0.0336192, 0.137922, 0.0605518, 0.000154448],\n",
       "        [0.118262, 0.100723, 0.0417168, 0.641517, 0.202676, 0.100723, 0.274327, 0.100723, 0.433448, 0.309741, 0.100723, 0.274327, 0.851013, 0.274114, 0.100723, 0.186978, 0.896976, 0.100723, 0.0940098, 0.0540968, 0.0126324, 0.0917106, 0.100723, 0.632367, 0.202676, 0.161639, 0.100723, 0.100723, 0.100723, 0.100723, 0.100723, 0.100723, 0.100723, 0.584984, 0.423561, 0.100723, 0.100723, 0.340337, 0.290411, 0.0477879, 0.100723, 0.100723, 0.340337, 0.100723, 0.100723, 0.100723, 0.100723, 0.0591764, 0.180608, 0.100723, 0.100723, 0.100723, 0.100723, 0.623826, 0.442549, 0.724025, 0.266543, 0.00469907, 0.872779, 0.100723, 0.244061, 0.353261, 0.340337, 0.100723, 0.266543, 0.00300041, 0.949594, 0.100723, 0.199152, 1.36196e-06, 0.550449, 0.100723, 0.0185391, 0.0618164, 0.980068, 0.0391066, 0.0186314, 0.237877, 0.291748, 0.26986, 0.101974, 3.35024e-06, 0.430558, 0.98088, 0.685769, 0.487895, 0.017536, 0.671209, 0.238323, 2.54518e-09, 0.654755, 0.528647, 0.203175, 0.890215, 0.453825, 0.340164, 0.44445, 0.000240941, 0.255824, 0.46734, 0.453825, 7.64073e-08, 1.38413e-14, 0.000854953, 0.413101, 0.24661, 3.56699e-09, 5.91223e-06, 0.754637, 0.0558468, 0.000923536, 1.03296e-05, 0.289062, 0.207959, 6.10298e-05, 1.27872e-10, 6.57141e-06, 0.0160206, 0.000115536, 8.34894e-07, 0.00119409, 6.67236e-10, 3.83798e-06, 4.52927e-10, 0.183293, 0.916171, 0.0185631, 3.1392e-11, 0.000466641, 0.837499, 0.000781624, 1.96125e-07, 0.0938625, 0.610685, 0.394765, 0.0105337, 0.0283757, 0.00728843, 0.554463, 0.83195, 0.859663, 0.111663, 0.606952, 0.962774, 0.503753, 0.328129, 0.491485, 0.819166, 0.0784365, 0.386928, 0.0287619, 0.554463, 0.631148, 0.601158, 0.323366, 0.224113, 0.569168, 0.48564, 0.289229, 0.85275, 0.527451, 0.0601564, 0.100723, 0.696722, 0.496916, 0.0472344, 0.100723, 0.541128, 0.71314],\n",
       "        [0.382351, 0.383908, 0.182299, 0.0073027, 0.171585, 0.383908, 0.152535, 0.383908, 0.0830169, 0.0886848, 0.383908, 0.152535, 0.000448175, 0.113169, 0.383908, 0.0841173, 0.00114281, 0.383908, 0.32741, 0.34102, 0.374056, 0.285298, 0.383908, 0.0439197, 0.171585, 6.58462e-05, 0.383908, 0.383908, 0.383908, 0.383908, 0.383908, 0.383908, 0.383908, 0.0162967, 0.240934, 0.383908, 0.383908, 0.186695, 0.038768, 0.31201, 0.383908, 0.383908, 0.186695, 0.383908, 0.383908, 0.383908, 0.383908, 0.00645054, 0.281019, 0.383908, 0.383908, 0.383908, 0.383908, 0.000549158, 0.0468045, 0.00311838, 0.157008, 6.74319e-07, 0.000448402, 0.383908, 0.0151949, 0.0115329, 0.186695, 0.383908, 0.157008, 5.9099e-10, 2.31782e-06, 0.383908, 0.00105268, 1.58018e-06, 0.00228045, 0.383908, 0.185232, 1.64275e-08, 7.29914e-05, 7.49282e-12, 1.76574e-08, 0.0930432, 3.08343e-08, 1.25907e-14, 0.297261, 4.67929e-12, 1.76167e-05, 1.22403e-20, 3.7744e-06, 0.00923437, 4.82938e-06, 0.000117102, 5.31033e-07, 0.00297384, 0.021017, 0.00316732, 6.77208e-07, 0.0609874, 0.139779, 0.0173831, 0.00102001, 0.000461391, 0.0142477, 0.000267846, 0.139779, 0.00632319, 7.85229e-09, 2.56966e-05, 2.90018e-05, 0.0622314, 0.00743506, 0.00120187, 0.000437934, 0.192218, 0.000369583, 0.000255341, 0.0353838, 0.114828, 0.407455, 0.000118446, 1.45355e-08, 0.37074, 0.063111, 4.64568e-06, 4.87509e-10, 0.0585439, 0.0258823, 2.92263e-07, 2.83758e-05, 0.00136745, 0.0893393, 5.6123e-06, 0.00191464, 0.000610797, 1.94139e-05, 8.94604e-06, 0.0673961, 0.0224227, 0.31745, 0.597201, 0.61799, 0.00206039, 0.0952192, 0.0013864, 0.0210788, 0.28662, 0.20615, 0.00010938, 0.00842932, 0.0964561, 0.0927259, 0.144594, 0.061454, 0.140989, 0.141819, 0.0952192, 0.0475906, 0.0848964, 0.451858, 0.319873, 0.0201321, 0.353433, 0.204955, 0.121076, 0.316301, 0.0801415, 0.383908, 0.00297763, 0.111452, 0.750683, 0.383908, 0.370294, 0.0105431],\n",
       "        [0.273358, 0.377447, 0.0482927, 0.191589, 0.53672, 0.377447, 0.345025, 0.377447, 0.0998692, 0.486145, 0.377447, 0.345025, 0.147631, 0.372762, 0.377447, 0.372407, 0.0376789, 0.377447, 0.1548, 0.0628149, 0.0160682, 0.0281305, 0.377447, 0.162598, 0.53672, 0.83814, 0.377447, 0.377447, 0.377447, 0.377447, 0.377447, 0.377447, 0.377447, 0.293026, 0.167681, 0.377447, 0.377447, 0.179126, 0.616944, 0.0798953, 0.377447, 0.377447, 0.179126, 0.377447, 0.377447, 0.377447, 0.377447, 0.933539, 0.368043, 0.377447, 0.377447, 0.377447, 0.377447, 0.371039, 0.177598, 0.207182, 0.403262, 0.9953, 0.125179, 0.377447, 0.714451, 0.140772, 0.179126, 0.377447, 0.403262, 0.996828, 0.0503897, 0.377447, 0.798151, 0.999996, 0.439778, 0.377447, 0.216539, 0.936659, 0.0198422, 0.960893, 0.981352, 0.300192, 0.708252, 0.73014, 0.0714664, 0.999997, 0.569409, 0.0191199, 0.314228, 0.448328, 0.982444, 0.328389, 0.761673, 0.997023, 0.263559, 0.466144, 0.796824, 0.00815186, 0.128873, 0.640376, 0.553874, 0.999298, 0.724079, 0.53226, 0.128873, 0.993675, 1, 0.999118, 0.586858, 0.504181, 0.992565, 0.998792, 0.244209, 0.720844, 0.998642, 0.999734, 0.675402, 0.269294, 0.58582, 0.999882, 0.999993, 0.379592, 0.932867, 0.999995, 0.998806, 0.937291, 0.970089, 1, 0.816679, 0.0824618, 0.890366, 0.999994, 0.997612, 0.155779, 0.999199, 0.999991, 0.509606, 0.310676, 0.0886715, 0.00177633, 0.272813, 0.990649, 0.224568, 0.166262, 0.119116, 0.0411152, 0.135628, 0.00602286, 0.487043, 0.574656, 0.40408, 0.0283851, 0.859897, 0.472023, 0.829405, 0.224568, 0.298587, 0.313927, 0.124779, 0.0297301, 0.368345, 0.10422, 0.481751, 0.0203418, 0.105518, 0.0237437, 0.377447, 0.300028, 0.377465, 0.168464, 0.377447, 0.0280265, 0.276162]]), 'most_likely_positions_1D': None}),\n",
       " DynamicContainer({'p_x_given_n': array([[0.137922, 0.0390207, 0.199114, ..., 0.137922, 0.137922, 0.442496],\n",
       "        [0.100723, 0.73928, 0.394765, ..., 0.100723, 0.100723, 0.0958462],\n",
       "        [0.383908, 0.0290846, 0.31745, ..., 0.383908, 0.383908, 0.389828],\n",
       "        [0.377447, 0.192614, 0.0886715, ..., 0.377447, 0.377447, 0.0718292]]), 'most_likely_positions_1D': None}),\n",
       " DynamicContainer({'p_x_given_n': array([[0.137922, 0.137922, 0.137922, 0.137922, 0.137922, 0.137922, 0.745018, 0.0403366, 0.00891697, 0.560307, 0.363278, 0.137922, 0.137922, 0.363278, 0.137922, 0.465253, 0.137922, 0.154896, 0.0137854, 1.1271e-05, 0.000682837, 0.00202411, 0.00989089, 5.13374e-06, 0.00282907, 0.0749887, 0.0635615, 0.0955413, 4.90479e-05, 0.753564, 0.258565, 7.24495e-05, 6.17259e-05, 0.000980985, 0.258565, 0.00202411, 0.00103659, 0.22603, 7.13055e-05, 1.1816e-18, 0.1108, 0.137922, 0.00351739, 5.80995e-09, 0.0244018, 0.0606687, 0.138244, 0.0262932, 0.0749887, 0.137922, 0.0222364, 4.01698e-10, 0.0014629, 0.0286402, 6.75981e-06, 0.0445227, 0.000168096, 0.00960523, 0.00156339, 7.97214e-13, 2.44697e-07, 1.07909e-09, 0.00011502, 7.90107e-08, 2.49602e-08, 0.0245892, 4.25173e-07, 0.017164, 3.86188e-05, 0.000138379, 0.0182728, 0.0275564, 0.137922, 0.0672266, 0.038755, 5.40009e-10, 1.83488e-06, 2.01377e-07, 0.229242, 0.0310914, 7.34003e-05, 4.71517e-11, 0.148454, 0.47361, 3.23429e-07, 6.91439e-12, 0.513295, 0.0195899, 0.00668973, 0.0916453, 0.137922, 0.137922, 0.0248027, 0.000416444, 0.000315623, 0.000666126, 0.00016068, 1.06766e-13, 8.32354e-13, 7.57455e-05, 1.64071e-06, 9.10234e-08, 1.03152e-05, 0.00793295, 0.00372906, 1.4803e-17, 0.00490328, 6.06929e-05, 1.38096e-09, 4.39494e-05, 0.0276114, 0.137922, 0.0489204, 0.486435, 0.110856, 0.00338634, 0.00197932, 0.010698, 5.3645e-07, 0.328903, 0.0250273, 0.000325837, 0.125749, 0.000758825, 7.49737e-06, 3.10024e-05, 0.00207565, 0.0660172, 0.00123985, 0.0134725, 0.188948, 0.00371712, 0.00169585, 0.0650275, 0.00362298, 0.000971308, 0.00604111, 0.0286585, 0.65267, 0.303011, 1.47209e-05, 0.125749, 0.137922, 0.000227824, 0.000104018, 3.28842e-05, 0.00937525, 0.00184279, 2.24699e-05, 0.137922, 0.0903603, 0.0241882, 0.000626236, 5.26682e-05, 0.125749, 0.137922, 0.137922, 0.125749, 0.00417616, 0.0250273, 0.000101818, 0.0559665, 0.915198, 0.655757, 0.601494, 0.57283, 0.998769, 0.347499, 0.137922, 0.137922, 0.137922, 0.427791, 0.125749, 0.137922, 0.000371736, 0.0321597, 0.000846355, 0.0250273, 8.42771e-05, 0.137922],\n",
       "        [0.100723, 0.100723, 0.100723, 0.100723, 0.100723, 0.100723, 0.0701286, 0.924323, 0.15115, 0.0477879, 0.132232, 0.100723, 0.100723, 0.132232, 0.100723, 0.523761, 0.100723, 0.0340441, 0.069611, 0.282117, 0.858793, 0.200416, 0.156089, 0.0356043, 0.387738, 0.0166165, 0.0807923, 0.164612, 0.0529896, 0.0687941, 0.412828, 0.00738672, 0.0329873, 0.938083, 0.412828, 0.200416, 0.00958905, 0.118262, 0.000620504, 1.82537e-09, 0.32125, 0.100723, 0.207317, 5.09342e-08, 0.726027, 0.654755, 0.513824, 0.244061, 0.0166165, 0.100723, 0.938011, 4.69994e-07, 0.740302, 0.926655, 0.000103707, 0.000247739, 0.107109, 0.00177817, 0.000140347, 4.25647e-06, 0.673961, 0.512168, 0.780175, 1.85961e-06, 0.0499636, 0.310776, 0.000522077, 6.01213e-06, 0.0391055, 0.787697, 0.415295, 0.954001, 0.100723, 0.430905, 0.0181854, 2.07606e-10, 3.11617e-07, 0.0843548, 0.525836, 0.0558468, 0.00224402, 0.0638014, 0.626233, 0.299016, 9.53888e-10, 2.49033e-06, 0.100688, 0.0634041, 0.00576325, 0.278888, 0.100723, 0.100723, 0.00340806, 3.26946e-05, 7.21503e-06, 1.21248e-11, 1.08774e-05, 1.54699e-06, 0.000213237, 1.19085e-06, 3.0143e-09, 0.0109864, 0.611286, 0.0001555, 0.00130621, 1.07518e-08, 0.316414, 0.257991, 9.3858e-05, 0.000940757, 0.0959267, 0.100723, 0.839197, 0.218347, 0.34336, 0.462111, 0.815243, 0.957549, 0.274599, 0.149793, 0.718215, 0.528109, 0.554463, 0.328129, 0.361799, 0.348753, 0.939799, 0.826007, 0.645075, 0.879149, 0.379549, 0.836333, 0.430581, 0.85778, 0.964525, 0.989931, 0.651849, 0.27724, 0.109608, 0.552067, 0.453176, 0.554463, 0.100723, 0.0690954, 0, 0, 0.677443, 0.779358, 0.470238, 0.100723, 0.406049, 0.42091, 0.680228, 0.61573, 0.554463, 0.100723, 0.100723, 0.554463, 0.73566, 0.718215, 0.301762, 0.631511, 0.0259758, 0.02462, 0.0703887, 0.0743205, 2.38329e-12, 0.0612188, 0.100723, 0.100723, 0.100723, 0.127029, 0.554463, 0.100723, 0.593018, 0.463944, 0.676931, 0.718215, 0.359176, 0.100723],\n",
       "        [0.383908, 0.383908, 0.383908, 0.383908, 0.383908, 0.383908, 0.138012, 2.40027e-05, 0.0473135, 0.31201, 0.251592, 0.383908, 0.383908, 0.251592, 0.383908, 0.003686, 0.383908, 0.722406, 0.0195017, 4.00603e-06, 1.27503e-05, 0.00342234, 0.052103, 0.000468727, 0.00250822, 0.0669673, 0.0716689, 0.221385, 0.00194887, 0.129136, 0.0733136, 0.000825079, 0.00126114, 6.68799e-06, 0.0733136, 0.00342234, 0.0255455, 0.382351, 3.9943e-06, 3.37576e-16, 0.128954, 0.383908, 0.00331309, 1.20141e-08, 0.00613832, 0.021017, 0.00493872, 0.0151949, 0.0669673, 0.383908, 0.00673931, 1.01428e-09, 0.000310115, 0.00158982, 6.90375e-06, 0, 0.000369167, 3.20238e-08, 0.00130307, 1.0769e-11, 9.34656e-07, 6.8586e-14, 0.000659291, 1.65576e-07, 1.67284e-09, 0.0480221, 2.50629e-05, 0.4205, 2.59516e-05, 4.19085e-11, 0.0320073, 0.010318, 0.383908, 0.243413, 0.00483794, 0.000911152, 0.00114862, 5.07286e-06, 0.0491202, 0.192218, 0.00250428, 1.69659e-07, 0.0607139, 0.0980657, 0.000116411, 3.37042e-08, 0.166752, 0.0303801, 0.0597143, 0.091224, 0.383908, 0.383908, 0.0700143, 0.0424374, 0.0371625, 0.0689577, 0.0122613, 1.60711e-10, 1.66656e-06, 0.00137167, 6.7895e-05, 8.24159e-06, 0.0133879, 0.0393886, 0.047615, 1.42253e-07, 0.00934558, 0.00710618, 0.00082525, 0.00204141, 0.188049, 0.383908, 0.108558, 0.109884, 0.353021, 0.0113317, 0.00402338, 0.000653171, 0.0154748, 0.443263, 0.0487658, 0.0147218, 0.0952192, 0.0964561, 0.00113298, 0.181103, 0.0113169, 0.0507179, 0.113109, 0.0804924, 0.331023, 0.0227936, 0.106459, 0.0445752, 0.00959121, 0.000172334, 0.0164174, 0.506315, 0.184693, 0.131248, 0.000781583, 0.0952192, 0.383908, 0.0418563, 0.98252, 0.99994, 0.0986013, 0.00367954, 0.00761279, 0.383908, 0.213809, 0.496484, 0.00967915, 0.0364421, 0.0952192, 0.383908, 0.383908, 0.0952192, 0.0230505, 0.0487658, 0.150143, 0.156064, 0.0587535, 0.300403, 0.324105, 0.279092, 0.00123104, 0.587057, 0.383908, 0.383908, 0.383908, 0.230663, 0.0952192, 0.383908, 0.102593, 0.305221, 0.0055318, 0.0487658, 0.0330214, 0.383908],\n",
       "        [0.377447, 0.377447, 0.377447, 0.377447, 0.377447, 0.377447, 0.0468422, 0.0353168, 0.79262, 0.0798953, 0.252898, 0.377447, 0.377447, 0.252898, 0.377447, 0.00730022, 0.377447, 0.0886538, 0.897102, 0.717868, 0.140512, 0.794138, 0.781917, 0.963922, 0.606925, 0.841427, 0.783977, 0.518461, 0.945013, 0.048506, 0.255293, 0.991716, 0.96569, 0.0609297, 0.255293, 0.794138, 0.963829, 0.273358, 0.999304, 1, 0.438995, 0.377447, 0.785852, 1, 0.243433, 0.263559, 0.342993, 0.714451, 0.841427, 0.377447, 0.0330135, 1, 0.257925, 0.0431154, 0.999883, 0.95523, 0.892354, 0.988617, 0.996993, 0.999996, 0.326037, 0.487832, 0.219051, 0.999998, 0.950036, 0.616613, 0.999452, 0.56233, 0.96083, 0.212164, 0.534425, 0.00812433, 0.377447, 0.258456, 0.938222, 0.999089, 0.998849, 0.91564, 0.195802, 0.720844, 0.995178, 0.936198, 0.164599, 0.129309, 0.999883, 0.999997, 0.219265, 0.886626, 0.927833, 0.538243, 0.377447, 0.377447, 0.901775, 0.957113, 0.962515, 0.930376, 0.987567, 0.999998, 0.999785, 0.998551, 0.99993, 0.989005, 0.375316, 0.952523, 0.94735, 1, 0.669337, 0.734842, 0.999081, 0.996974, 0.688413, 0.377447, 0.00332449, 0.185333, 0.192763, 0.523171, 0.178754, 0.0310998, 0.709926, 0.0780407, 0.207992, 0.456843, 0.224568, 0.574656, 0.63706, 0.470113, 0.0468083, 0.0572582, 0.240577, 0.0268858, 0.10048, 0.137156, 0.461263, 0.0326172, 0.0222606, 0.00892524, 0.325692, 0.187787, 0.0530296, 0.0136743, 0.546028, 0.224568, 0.377447, 0.88882, 0.0173757, 2.74143e-05, 0.214581, 0.215119, 0.522127, 0.377447, 0.289782, 0.0584177, 0.309466, 0.347775, 0.224568, 0.377447, 0.377447, 0.224568, 0.237113, 0.207992, 0.547993, 0.156458, 7.29275e-05, 0.0192194, 0.0040122, 0.0737571, 1.8625e-12, 0.00422588, 0.377447, 0.377447, 0.377447, 0.214516, 0.224568, 0.377447, 0.304017, 0.198676, 0.316691, 0.207992, 0.607719, 0.377447]]), 'most_likely_positions_1D': None}),\n",
       " DynamicContainer({'p_x_given_n': array([[0.412029, 0.137922, 0.753564, ..., 0.137922, 0.137922, 0.42378],\n",
       "        [0.0781492, 0.100723, 0.0687941, ..., 0.100723, 0.100723, 0.0940098],\n",
       "        [0.43914, 0.383908, 0.129136, ..., 0.383908, 0.383908, 0.32741],\n",
       "        [0.0706822, 0.377447, 0.048506, ..., 0.377447, 0.377447, 0.1548]]), 'most_likely_positions_1D': None}),\n",
       " DynamicContainer({'p_x_given_n': array([[0.67575, 0.38379, 0.25875, 0.517948, 0.724298, 0.137922, 0.137922, 0.22603, 0.22603, 0.051486, 0.835011, 0.137922, 0.22603, 0.495723, 0.258565, 0.418974, 0.42378, 0.165026, 0.187049, 0.137922, 0.22603, 0.137922, 0.568555, 0.00891697, 0.418974, 0.363278, 0.637588, 0.410292, 0.150559, 0.137922, 0.638139, 0.517948, 0.17702, 0.581621, 0.137922, 0.137922, 0.587533, 0.137922, 0.42378, 0.00066797, 0.271351, 0.000621779, 0.137922, 0.241183, 0.241183, 0.0187437, 0.137922, 0.38379, 8.24094e-05, 0.00179672, 0.377383, 0.349383, 0.0656747, 0.293842, 0.137922, 0.137922, 0.137922, 0.333048, 0.0398663, 0.0389631, 0.0656747, 0.400854, 0.0567429, 0.258565, 0.105693, 0.400854, 5.70466e-10, 0.0170368, 0.385206, 0.00351739, 7.88452e-06, 0.213533, 0.385206, 9.33362e-05, 0.1108, 0.23965, 0.682431, 2.40402e-08, 4.45481e-06, 4.45105e-09, 1.01949e-13, 0.531012, 8.31704e-29, 3.56347e-11, 0.000192974, 0.00260442, 1.70696e-06, 2.57644e-10, 1.19504e-08, 7.35225e-05, 1.60178e-05, 7.33701e-09, 0.000157973, 3.13987e-12, 0.053604, 0.137922, 1.68642e-05, 4.07462e-06, 0.0142391, 0.394221, 5.49591e-06, 0.000132112, 9.27345e-09, 0.0235147, 0.00537802, 0.000741019, 0.0440787, 0.0043654, 0.000972934, 0.0247549, 0.0361905, 6.27375e-05, 0.112488, 0.351919, 0.105693, 8.96792e-07, 1.79003e-15, 0.000201188, 0.0444772, 0.000315623, 7.10869e-07, 0.123052, 0.00139003, 0.693658, 1.27545e-06, 8.95461e-10, 0.308857, 1.53344e-05, 3.33333e-12, 1.22449e-25, 4.42774e-09, 9.21602e-07, 5.46489e-09, 8.16706e-12, 2.07224e-05, 7.57455e-05, 2.22925e-14, 1.31953e-09, 4.26924e-09, 0.048848, 0.444999, 0.11525, 0.00985315, 0.00417616, 0.253143, 0.00169585, 0.0447256, 0.0194314, 0.00106641, 0.00127125, 2.47991e-05, 0.0010897, 2.06085e-05, 1.20061e-08, 2.65507e-07, 8.93404e-05, 1.61171e-05, 9.45763e-05, 1.93932e-06, 0.00181957, 0.00169753, 0.137922, 4.83883e-06, 8.42771e-05, 0.172571, 0.444999, 0.204526, 0.140086, 3.5439e-07, 0.000176964, 0.00169753, 0.125749, 0.125749, 0.0613863, 6.61224e-05, 0.125749, 0.000758825, 0.048848, 0.0226747, 0.251045, 5.30022e-05, 0.0430765, 0.137922, 0.137922, 6.54404e-05, 0.0250273, 0.115339, 0.296076, 0.051884, 0.000357945, 0.137922, 2.33783e-05, 0.0390207, 0.137013, 0.125749, 0.0613863, 0.00322686, 0.000135256, 0.0226747, 5.05911e-05],\n",
       "        [0.0831088, 0.159327, 0.0258216, 0.074118, 0.034352, 0.100723, 0.100723, 0.118262, 0.118262, 0.0256371, 0.0705242, 0.100723, 0.118262, 0.215709, 0.412828, 0.302146, 0.0940098, 0.0980617, 0.259624, 0.100723, 0.118262, 0.100723, 0.0388516, 0.15115, 0.302146, 0.132232, 0.0399492, 0.268426, 0.227534, 0.100723, 0.155754, 0.074118, 0.808244, 0.283019, 0.100723, 0.100723, 0.0640668, 0.100723, 0.0940098, 0.985417, 0.198025, 0.239774, 0.100723, 0.542768, 0.542768, 0.0820256, 0.100723, 0.159327, 0.764152, 0.157933, 0.0982875, 0.231588, 0.724025, 0.340337, 0.100723, 0.100723, 0.100723, 0.442549, 0.745087, 0.679114, 0.724025, 0.206427, 0.321544, 0.412828, 0.584984, 0.206427, 1.80167e-06, 0.747813, 0.243728, 0.207317, 0.000156637, 0.743365, 0.243728, 0.0119239, 0.32125, 0.328497, 0.0122707, 0.000222111, 0.886288, 0.789764, 0.393393, 0.0257402, 2.70836e-06, 0.269724, 0.285735, 0.606177, 0.0949398, 0.247866, 0.563512, 0.859144, 0.13928, 0.216545, 0.380802, 0.0004465, 0.105257, 0.100723, 0.8536, 0.881112, 0.898874, 0.367788, 0.0957935, 0.193268, 3.97292e-10, 0.0619652, 0.637977, 0.427042, 0.198106, 0.84293, 0.984287, 0.338759, 0.235626, 6.68939e-05, 6.05251e-13, 0.00241398, 0.584984, 1.86751e-08, 4.19509e-12, 0.0303129, 0.223143, 7.21503e-06, 3.72947e-09, 0.406624, 0.00535421, 0.0849056, 1.02064e-14, 1.27872e-10, 0.338083, 6.30159e-15, 1.06254e-17, 4.3602e-10, 2.49836e-07, 1.48937e-06, 0.000118659, 0.00693106, 0.580763, 1.19085e-06, 6.83047e-10, 0.000543763, 0.00254391, 0.492115, 0.191725, 0.395703, 0.970414, 0.73566, 0.576662, 0.430581, 0.117081, 0.680794, 0.915572, 0.743047, 0.231121, 0.733354, 0.647034, 0.396174, 0.166241, 0.950164, 0.0100371, 0.505735, 0.349432, 0.549984, 0.444144, 0.100723, 0.403845, 0.359176, 0.0119178, 0.191725, 0.277963, 0.398487, 0.221347, 0.409324, 0.444144, 0.554463, 0.554463, 0.425677, 0.675664, 0.554463, 0.328129, 0.492115, 0.631148, 0.548796, 0.000845785, 0.695903, 0.100723, 0.100723, 0.503674, 0.718215, 0.526657, 0.114574, 0, 0, 0.100723, 0.422595, 0.73928, 0.183226, 0.554463, 0.425677, 0.390561, 0.415739, 0.631148, 0.0023904],\n",
       "        [0.182833, 0.110987, 0.655401, 0.287814, 0.221314, 0.383908, 0.383908, 0.382351, 0.382351, 0.771531, 0.0303824, 0.383908, 0.382351, 0.0606618, 0.0733136, 0.12225, 0.32741, 0.0757944, 0.00802827, 0.383908, 0.382351, 0.383908, 0.347388, 0.0473135, 0.12225, 0.251592, 0.277283, 0.217397, 0.317403, 0.383908, 0.0986743, 0.287814, 0.00158902, 0.0963435, 0.383908, 0.383908, 0.281544, 0.383908, 0.32741, 0.000194895, 0.280659, 0.000465642, 0.383908, 0.0883903, 0.0883903, 0.0275619, 0.383908, 0.110987, 3.67215e-06, 0.00853138, 0.397215, 0.0454234, 0.00311838, 0.186695, 0.383908, 0.383908, 0.383908, 0.0468045, 0.0169737, 0.00424304, 0.00311838, 0.164271, 0.365445, 0.0733136, 0.0162967, 0.164271, 4.96022e-10, 0.0229466, 0.17268, 0.00331309, 0.000118177, 0.00011887, 0.17268, 2.61495e-06, 0.128954, 0.0658322, 0.300257, 1.82529e-10, 2.65195e-06, 1.04893e-14, 1.91464e-11, 0.412807, 5.52923e-14, 1.13307e-10, 0.000214429, 0.00291079, 1.31025e-05, 4.50568e-09, 9.91225e-18, 8.3842e-06, 0.000168813, 9.00086e-08, 0.000238849, 1.23788e-07, 0.376629, 0.383908, 3.66073e-11, 8.7447e-06, 0.0028505, 0.117385, 6.38631e-05, 0.00166087, 0.0001978, 0.0613607, 0.00338571, 0.00126774, 0.043801, 0.0075614, 0.0048524, 0.00674498, 0.109734, 0.0104095, 0.887448, 0.607268, 0.0162967, 0.00349898, 9.46007e-09, 0.00374242, 0.0581467, 0.0371625, 0.000840758, 0.0257195, 0.0342887, 0.0715735, 0.000526916, 0.000118446, 0.250244, 0.000427819, 1.15522e-05, 2.55087e-14, 0.000385903, 0.000205428, 1.58982e-05, 4.82157e-07, 0.0159367, 0.00137167, 5.7459e-07, 1.0021e-06, 1.12273e-05, 0.303283, 0.147576, 0.103818, 0.00394091, 0.0230505, 0.0757828, 0.106459, 0.141537, 0.0816457, 0.00048977, 0.00375271, 0.0325632, 0.00602335, 0.00441241, 0.0213066, 0.00254884, 0.0213164, 0.0280634, 0.00656793, 0.000444192, 0.0321839, 0.0531659, 0.383908, 0.00246606, 0.0330214, 0.628095, 0.147576, 0.508969, 0.298327, 0.00189995, 0.0120009, 0.0531659, 0.0952192, 0.0952192, 0.211224, 0.000362658, 0.0952192, 0.0964561, 0.303283, 0.0475906, 0.0833283, 0.00893752, 0.146361, 0.383908, 0.383908, 0.00350181, 0.0487658, 0.15463, 0.225335, 0.9015, 0.996078, 0.383908, 0.0104358, 0.0290846, 0.614792, 0.0952192, 0.211224, 0.0896864, 0.0196314, 0.0475906, 0.142234],\n",
       "        [0.0583081, 0.345897, 0.060028, 0.12012, 0.0200369, 0.377447, 0.377447, 0.273358, 0.273358, 0.151346, 0.0640821, 0.377447, 0.273358, 0.227906, 0.255293, 0.156631, 0.1548, 0.661118, 0.545299, 0.377447, 0.273358, 0.377447, 0.0452057, 0.79262, 0.156631, 0.252898, 0.0451805, 0.103884, 0.304504, 0.377447, 0.107432, 0.12012, 0.0131468, 0.0390161, 0.377447, 0.377447, 0.0668563, 0.377447, 0.1548, 0.0137202, 0.249965, 0.759139, 0.377447, 0.127659, 0.127659, 0.871669, 0.377447, 0.345897, 0.235762, 0.831739, 0.127115, 0.373605, 0.207182, 0.179126, 0.377447, 0.377447, 0.377447, 0.177598, 0.198074, 0.27768, 0.207182, 0.228449, 0.256268, 0.255293, 0.293026, 0.228449, 0.999998, 0.212204, 0.198386, 0.785852, 0.999717, 0.0429833, 0.198386, 0.98798, 0.438995, 0.36602, 0.00504096, 0.999778, 0.113705, 0.210236, 0.606607, 0.0304402, 0.999997, 0.730276, 0.713857, 0.388307, 0.905045, 0.752134, 0.436488, 0.140774, 0.860535, 0.783455, 0.618801, 0.999553, 0.464509, 0.377447, 0.146383, 0.118875, 0.0840365, 0.120606, 0.904137, 0.804939, 0.999802, 0.853159, 0.35326, 0.570949, 0.714014, 0.145143, 0.00988752, 0.629741, 0.618449, 0.989461, 6.39641e-05, 0.0383989, 0.293026, 0.9965, 1, 0.965744, 0.674233, 0.962515, 0.999159, 0.444605, 0.958967, 0.149863, 0.999472, 0.999882, 0.102816, 0.999557, 0.999988, 1, 0.999614, 0.999792, 0.999865, 0.993068, 0.403279, 0.998551, 0.999999, 0.999455, 0.997445, 0.155754, 0.2157, 0.385228, 0.0157921, 0.237113, 0.0944123, 0.461263, 0.696656, 0.218129, 0.0828714, 0.251929, 0.736291, 0.259533, 0.348533, 0.582519, 0.83121, 0.0284301, 0.961883, 0.487603, 0.650122, 0.416012, 0.500992, 0.377447, 0.593684, 0.607719, 0.187416, 0.2157, 0.0085418, 0.1631, 0.776752, 0.578498, 0.500992, 0.224568, 0.224568, 0.301712, 0.323908, 0.224568, 0.574656, 0.155754, 0.298587, 0.11683, 0.990164, 0.11466, 0.377447, 0.377447, 0.492759, 0.207992, 0.203374, 0.364015, 0.0466157, 0.00356383, 0.377447, 0.566945, 0.192614, 0.0649696, 0.224568, 0.301712, 0.516526, 0.564495, 0.298587, 0.855325]]), 'most_likely_positions_1D': None}),\n",
       " DynamicContainer({'p_x_given_n': array([[0.137013, 0.137922, 0.0886524, ..., 0.913847, 0.224964, 0.137922],\n",
       "        [0.183226, 0.100723, 0.00156952, ..., 5.12464e-06, 0.590187, 0.100723],\n",
       "        [0.614792, 0.383908, 0.905287, ..., 0.0861471, 0.0996783, 0.383908],\n",
       "        [0.0649696, 0.377447, 0.00449082, ..., 1.11442e-06, 0.0851701, 0.377447]]), 'most_likely_positions_1D': None}),\n",
       " DynamicContainer({'p_x_given_n': array([[0.363278, 0.228114, 0.0130147, 0.239955, 0.137922, 0.348506, 0.553247, 0.037436, 0.137922, 0.749392, 0.544169, 0.582173, 0.0903603, 0.0300532, 0.580623, 0.00312359, 0.000493141, 0.137922, 0.137922, 0.000685416, 0.243621, 0.137922, 0.137922, 0.00458553, 0.570222, 0.275609, 0.137922, 0.333048, 0.000622616, 6.75981e-06, 0.137922, 0.0246784, 3.17042e-07, 0.00309367, 9.84268e-05, 0.400854, 2.97499e-21, 4.35135e-22, 4.21595e-06, 0.452188, 4.01208e-10, 5.49025e-09, 1.33978e-07, 0.0749887, 1.44293e-13, 2.05602e-11, 0.673646, 0.23965, 7.19091e-09, 7.02023e-08, 3.36508e-08, 0.00021011, 1.39131e-12, 2.93415e-08, 0.000132112, 1.76306e-06, 0.320124, 7.59671e-13, 2.13981e-05, 0.0017691, 6.5701e-05, 3.00487e-07, 0.00214912, 6.13002e-13, 1.39362e-10, 0.000348659, 0.00937762, 1.3317e-08, 0.000219692, 0.0152967, 0.277524, 0.129243, 0.144928, 0.0758901, 0.0140358, 4.06101e-05, 4.34753e-07, 6.74527e-07, 0.258565, 0.335729, 2.35998e-07, 8.2031e-14, 3.90175e-09, 0.00441884, 0.0576612, 5.74449e-19, 1.07601e-16, 8.03841e-08, 0.233647, 0.233647, 1.79583e-13, 8.58088e-09, 1.5901e-05, 7.53195e-05, 0.000967751, 0.00258284, 0.574066, 9.53843e-07, 0.00150901, 1.2228e-05, 0.20899, 3.65519e-08, 0.00296422, 0.125749, 0.0194314, 0.0644099, 0.0250273, 0.000207488, 0.25318, 0.000396743, 6.20662e-07, 0.0035355, 8.42771e-05, 0.115339, 0.00250482, 2.59754e-06, 0.000135256, 0.000228893, 0.015744, 0.125749, 8.5793e-06, 0.0035355, 0.00105531, 0.00209503, 0.0206166, 0.137922, 0.0226747, 0.00374167, 0.00159073, 0.0226747, 0.00683148, 0.00429261, 1.66596e-05],\n",
       "        [0.132232, 0.274327, 0.94352, 0.274114, 0.100723, 0.298983, 0.126803, 0.170406, 0.100723, 0.0699265, 0.255629, 0.0430916, 0.406049, 0.305256, 0.0732384, 0.381906, 0.287532, 0.100723, 0.100723, 0.692402, 0.356606, 0.100723, 0.100723, 0.623826, 0.143019, 0.518877, 0.100723, 0.442549, 0.21019, 0.000103707, 0.100723, 0.279114, 0.000381331, 0.992099, 0.127641, 0.206427, 1.07532e-06, 2.55633e-05, 0.81849, 0.0756648, 4.30426e-06, 0.108776, 0.988473, 0.0166165, 0.0044099, 0.0146363, 2.56519e-07, 0.328497, 0.0284145, 0.826787, 0.0841982, 0.708587, 0.00252033, 0.0849218, 0.193268, 0.00814121, 0.335841, 0.209547, 0.934927, 0.896464, 0.580412, 0.196962, 0.135438, 1.4027e-17, 2.22868e-07, 0.723539, 0.0402654, 1.81761e-08, 0.131005, 2.81737e-05, 0.453825, 0.521083, 9.3334e-05, 3.12364e-12, 0.883913, 2.18611e-05, 1.06124e-05, 0.00118512, 0.412828, 0.158645, 7.96144e-07, 7.76273e-05, 4.84728e-08, 0.0009789, 0.000364856, 6.75496e-13, 5.62464e-06, 9.04931e-09, 0.0160206, 0.0160206, 5.00709e-05, 0.110198, 4.95336e-06, 7.4634e-06, 0.0259862, 0.63513, 0.0290435, 0.00010349, 0.206902, 0.00190811, 0.0904684, 0.17263, 0.0848114, 0.554463, 0.680794, 0.825021, 0.718215, 0.432371, 0.220905, 0.499911, 0.377333, 0.660693, 0.359176, 0.526657, 0.467296, 0.223161, 0.415739, 0.727843, 0.5814, 0.554463, 0.371246, 0.660693, 0.688837, 0.54501, 0.179564, 0.100723, 0.631148, 0.58731, 0.501381, 0.631148, 0.605203, 0.80855, 0.383894],\n",
       "        [0.251592, 0.152535, 0.0020609, 0.113169, 0.383908, 0.139522, 0.0715704, 0.0135744, 0.383908, 0.103309, 0.0227717, 0.356297, 0.213809, 0.0168223, 0.221008, 0.000318932, 2.24259e-05, 0.383908, 0.383908, 8.4194e-05, 0.294744, 0.383908, 0.383908, 0.000549158, 0.248344, 0.0498853, 0.383908, 0.0468045, 0.00118695, 6.90375e-06, 0.383908, 0.0764259, 5.44149e-11, 0.00206102, 9.18833e-05, 0.164271, 1.30419e-10, 2.92519e-13, 4.16342e-06, 0.1638, 6.58153e-10, 7.71479e-08, 3.6177e-06, 0.0669673, 7.0605e-09, 2.0449e-09, 0.211426, 0.0658322, 2.27292e-07, 2.04596e-07, 1.8093e-16, 0.00035397, 1.05557e-06, 3.9455e-12, 0.00166087, 0.0345371, 0.0346456, 9.43812e-24, 2.21508e-05, 0.0313137, 0.000126964, 5.12289e-06, 0.0515203, 5.15101e-07, 1.80782e-07, 0.000601687, 0.121438, 0.00111718, 0.00145009, 0.982269, 0.139779, 0.0541982, 0.491883, 0.924109, 0.00188848, 0.0181357, 0.000517405, 0.000836907, 0.0733136, 0.125165, 0.000152982, 2.52997e-09, 0.000161583, 0.0851568, 0.168745, 1.67831e-09, 1.39874e-07, 0.000119367, 0.37074, 0.37074, 2.3596e-07, 0.000572288, 0.0127136, 0.00361599, 0.0136523, 0.00115016, 0.394884, 0.00447389, 0.00314952, 0.00180823, 0.661181, 0.000200163, 0.0687613, 0.0952192, 0.0816457, 0.0292644, 0.0487658, 0.0421192, 0.350501, 0.0274588, 0.0063399, 0.0216978, 0.0330214, 0.15463, 0.0132779, 0.00772487, 0.0196314, 0.0133448, 0.0826779, 0.0952192, 0.00192429, 0.0216978, 0.0582037, 0.408322, 0.790508, 0.383908, 0.0475906, 0.0173206, 0.0428668, 0.0475906, 0.26367, 0.132079, 0.00832659],\n",
       "        [0.252898, 0.345025, 0.0414045, 0.372762, 0.377447, 0.212989, 0.248379, 0.778584, 0.377447, 0.077373, 0.17743, 0.0184379, 0.289782, 0.647869, 0.125131, 0.614651, 0.711953, 0.377447, 0.377447, 0.306829, 0.105029, 0.377447, 0.377447, 0.371039, 0.0384155, 0.155629, 0.377447, 0.177598, 0.788, 0.999883, 0.377447, 0.619781, 0.999618, 0.00274582, 0.872168, 0.228449, 0.999999, 0.999974, 0.181502, 0.308347, 0.999996, 0.891224, 0.0115235, 0.841427, 0.99559, 0.985364, 0.114929, 0.36602, 0.971585, 0.173213, 0.915802, 0.290849, 0.997479, 0.915078, 0.804939, 0.95732, 0.309389, 0.790453, 0.0650293, 0.0704533, 0.419395, 0.803033, 0.810893, 0.999999, 1, 0.275511, 0.828919, 0.998883, 0.867325, 0.00240614, 0.128873, 0.295476, 0.363096, 5.93439e-07, 0.100163, 0.981802, 0.999472, 0.997977, 0.255293, 0.380462, 0.999846, 0.999922, 0.999838, 0.909445, 0.773229, 1, 0.999994, 0.999881, 0.379592, 0.379592, 0.99995, 0.88923, 0.987265, 0.996301, 0.959394, 0.361137, 0.0020067, 0.995422, 0.78844, 0.996271, 0.0393607, 0.827169, 0.843463, 0.224568, 0.218129, 0.0813048, 0.207992, 0.525303, 0.175413, 0.472233, 0.616326, 0.314074, 0.607719, 0.203374, 0.516922, 0.769111, 0.564495, 0.258583, 0.320178, 0.224568, 0.626821, 0.314074, 0.251904, 0.0445732, 0.00931158, 0.377447, 0.298587, 0.391628, 0.454162, 0.298587, 0.124295, 0.0550787, 0.607763]]), 'most_likely_positions_1D': None}),\n",
       " DynamicContainer({'p_x_given_n': array([[0.503044, 0.20023, 0.172377, ..., 0.42378, 0.137922, 0.42378],\n",
       "        [0.0195511, 1.20822e-05, 1.69286e-05, ..., 0.0940098, 0.100723, 0.0940098],\n",
       "        [0.117631, 0.799613, 0.827598, ..., 0.32741, 0.383908, 0.32741],\n",
       "        [0.359773, 0.000144973, 7.63591e-06, ..., 0.1548, 0.377447, 0.1548]]), 'most_likely_positions_1D': None}),\n",
       " DynamicContainer({'p_x_given_n': array([[0.137922, 0.137922, 0.137922, ..., 0.134999, 0.0390207, 0.217768],\n",
       "        [0.100723, 0.100723, 0.100723, ..., 0.488632, 0.73928, 0.503215],\n",
       "        [0.383908, 0.383908, 0.383908, ..., 0.148911, 0.0290846, 0.194306],\n",
       "        [0.377447, 0.377447, 0.377447, ..., 0.227458, 0.192614, 0.0847117]]), 'most_likely_positions_1D': None}),\n",
       " DynamicContainer({'p_x_given_n': array([[0.137922, 0.137922, 0.243621, 0.137922, 0.179564, 0.179564, 0.137922, 0.137922, 0.137922, 0.295079, 0.294174, 0.20848, 0.445339, 0.137922, 0.137922, 0.539918, 0.000871735, 0.0214283, 0.0209529, 0.617239, 0.427336, 0.708787, 0.914496, 0.29469, 0.29469, 0.31363, 0.0122043, 0.000396743, 0.288994, 0.55032, 0.57283, 0.632633, 0.121587, 0.231355, 0.57283, 0.137922, 0.293842, 0.158091, 0.293842, 0.403759, 0.632633, 0.588907, 0.617239, 0.705366, 0.137922, 0.155759, 0.602467, 0.011162, 0.676501, 0.536691, 0.482271, 0.934574, 0.137922, 0.57283, 0.137922, 0.0344567, 0.0030215, 0.632633, 0.632633, 0.288994, 0.509197, 0.137922, 0.137922, 0.137922, 0.509197, 0.000167805, 0.00064571, 0.560307, 0.564241, 0.205686, 0.931051, 0.137922, 0.137922, 0.756762, 0.858683, 0.791624, 0.295079, 0.612462, 0.000599134, 0.498476, 0.407326, 0.292929, 0.115032, 0.0182039, 0.636509, 0.255106, 0.644817, 0.00553531, 0.00309214, 0.34025, 0.431053, 0.0652684, 0.0111644, 0.557773, 4.18612e-06, 0.00157886, 0.0162259, 0.00317719, 0.348888, 0.0501974, 0.354699, 0.000493398, 0.704132, 0.153289, 0.154435, 0.608513, 0.214341, 0.525166, 0.658302, 0.378598, 0.745159, 0.487898, 0.319444, 0.0842288, 0.164215, 0.780458, 0.589731, 0.102858, 0.68559, 0.401628, 0.726576, 0.137922, 0.691688, 0.649584, 0.345421, 0.137922, 0.232625, 0.735324, 0.807824, 0.137922, 0.137922, 0.251045, 0.0698613, 0.0568327, 0.595023, 0.622716, 0.0108508, 0.014686, 0.573898, 0.137922, 0.01336, 0.089763, 0.594861, 0.582173, 0.0360219, 0.137922, 0.582173, 0.0500546, 0.00891697, 0.258565, 0.140699, 0.137922, 0.373854, 0.587533, 0.137922, 0.582173, 0.137922, 0.693972, 0.290819, 0.374567, 0.137922, 0.440425, 0.42378, 0.0569575, 0.582173, 0.546298, 0.582173, 0.373854, 0.22603, 0.53382, 0.137922, 0.582173, 0.582173, 0.321652, 0.22603, 0.416783, 0.277524, 0.485194, 0.582173, 0.363278, 0.42378, 0.543679, 0.22603, 0.458891, 0.217976, 0.542068, 0.904048, 0.354212, 0.137922, 0.632483, 0.42378, 0.42378, 0.552848, 0.137922, 0.290819, 0.137922, 0.42378, 0.836748, 0.138844, 0.137922, 0.137922, 0.137922, 0.137922, 0.137922, 0.36862, 0.73715, 0.137922, 0.137922, 0.232625, 0.42378, 0.137922, 0.137922, 0.137922, 0.137922, 0.137922, 0.677738, 0.0267873, 0.410292, 0.137922, 0.137922, 0.450137],\n",
       "        [0.100723, 0.100723, 0.356606, 0.100723, 0.714073, 0.714073, 0.100723, 0.100723, 0.100723, 0.63942, 0.650289, 0.733937, 0.363882, 0.100723, 0.100723, 0.00030856, 0.00174476, 0.393574, 0.295839, 0.0823407, 0.00895771, 0.00378743, 0.00069208, 0.16637, 0.16637, 0.0109114, 8.87912e-07, 0.499911, 0.248811, 0.119575, 0.0743205, 0.0156773, 2.0264e-05, 0.00714291, 0.0743205, 0.100723, 0.340337, 0.00764047, 0.340337, 0.00464161, 0.0156773, 0.0302689, 0.0823407, 0.00548285, 0.100723, 0.554032, 0.00408397, 0.312289, 0.0348365, 0.000960092, 0.270132, 0.0188732, 0.100723, 0.0743205, 0.100723, 0.960232, 0.512194, 0.0156773, 0.0156773, 0.248811, 0.0558906, 0.100723, 0.100723, 0.100723, 0.0558906, 3.28127e-12, 5.471e-09, 0.0477879, 0.0962916, 0.0399877, 0.000210394, 0.100723, 0.100723, 0.0449206, 5.80817e-06, 0.000465572, 0.63942, 0.00551442, 3.38037e-09, 2.6776e-06, 0.29772, 0.0193564, 2.49192e-09, 5.74713e-08, 1.83901e-05, 0.00221824, 2.89194e-07, 3.67058e-08, 8.5032e-09, 2.41368e-05, 4.21778e-05, 4.39488e-11, 2.86368e-06, 2.49404e-05, 1.51814e-13, 6.69831e-08, 1.38583e-07, 2.59986e-09, 0.046174, 1.37497e-15, 1.23253e-05, 2.28091e-16, 0.0120437, 0.0322654, 5.87767e-11, 6.23263e-06, 0.101944, 3.61148e-05, 0.00123318, 8.22712e-07, 0.00433023, 0.00793201, 0.000384262, 3.21779e-12, 7.71441e-07, 0.0166025, 0.0117419, 9.9117e-08, 0.000276545, 4.09577e-05, 0.00130883, 0.100723, 0.0625665, 0.00014414, 0.0859314, 0.100723, 0.0279348, 0.00105102, 1.66138e-05, 0.100723, 0.100723, 0.548796, 0.0120372, 0.0214369, 0.00905241, 0.0590801, 0.000146554, 0.00416157, 0.00506356, 0.100723, 0.000150308, 0.170219, 0.0917106, 0.0430916, 0.0276792, 0.100723, 0.0430916, 0.0202341, 0.15115, 0.412828, 0.0597768, 0.100723, 0.0856649, 0.0640668, 0.100723, 0.0430916, 0.100723, 0.00492564, 0.0429181, 0.0525524, 0.100723, 0.0209719, 0.0940098, 0.000239998, 0.0430916, 0.019154, 0.0430916, 0.0856649, 0.118262, 0.0186119, 0.100723, 0.0430916, 0.0430916, 0.162956, 0.118262, 0.00602526, 0.453825, 0.00195498, 0.0430916, 0.132232, 0.0940098, 0.0966196, 0.118262, 0.00234255, 0.626271, 0.0540968, 0.0187112, 0.271181, 0.100723, 0.0134023, 0.0940098, 0.0940098, 0.0686595, 0.100723, 0.0429181, 0.100723, 0.0940098, 0.035697, 0.202188, 0.100723, 0.100723, 0.100723, 0.100723, 0.100723, 0.0285344, 0.0594448, 0.100723, 0.100723, 0.0279348, 0.0940098, 0.100723, 0.100723, 0.100723, 0.100723, 0.100723, 0.155631, 0.508801, 0.268426, 0.100723, 0.100723, 0.476802],\n",
       "        [0.383908, 0.383908, 0.294744, 0.383908, 0.0662951, 0.0662951, 0.383908, 0.383908, 0.383908, 0.037581, 0.0554478, 0.0497278, 0.121069, 0.383908, 0.383908, 0.459684, 0.00881206, 0.050411, 0.23409, 0.176985, 0.561972, 0.28727, 0.0841941, 0.405642, 0.405642, 0.67458, 0.987795, 0.0274588, 0.254179, 0.214383, 0.279092, 0.339057, 0.878089, 0.761165, 0.279092, 0.383908, 0.186695, 0.826846, 0.186695, 0.589149, 0.339057, 0.366818, 0.176985, 0.286209, 0.383908, 0.290196, 0.383201, 0.102824, 0.262121, 0.461683, 0.20058, 0.0464292, 0.383908, 0.279092, 0.383908, 0.00528096, 0.484768, 0.339057, 0.339057, 0.254179, 0.400793, 0.383908, 0.383908, 0.383908, 0.400793, 0.999832, 0.999313, 0.31201, 0.28434, 0.732176, 0.0687302, 0.383908, 0.383908, 0.167678, 0.14129, 0.207511, 0.037581, 0.370734, 0.9994, 0.501437, 0.294134, 0.679804, 0.884966, 0.981611, 0.363472, 0.730905, 0.355169, 0.993037, 0.996906, 0.659656, 0.568886, 0.934732, 0.98878, 0.442199, 0.999996, 0.998262, 0.983773, 0.996822, 0.601593, 0.949802, 0.644527, 0.999507, 0.283416, 0.765755, 0.845558, 0.391461, 0.63581, 0.474797, 0.340054, 0.619341, 0.249361, 0.503006, 0.675862, 0.915756, 0.835753, 0.199853, 0.372437, 0.897068, 0.308835, 0.595643, 0.27075, 0.383908, 0.188414, 0.350248, 0.389392, 0.383908, 0.707084, 0.26342, 0.192153, 0.383908, 0.383908, 0.0833283, 0.895932, 0.839568, 0.380502, 0.289518, 0.986473, 0.979492, 0.420158, 0.383908, 0.98637, 0.569868, 0.285298, 0.356297, 0.915922, 0.383908, 0.356297, 0.914467, 0.0473135, 0.0733136, 0.765681, 0.383908, 0.42717, 0.281544, 0.383908, 0.356297, 0.383908, 0.300303, 0.522814, 0.484484, 0.383908, 0.500048, 0.32741, 0.942233, 0.356297, 0.431103, 0.356297, 0.42717, 0.382351, 0.382375, 0.383908, 0.356297, 0.356297, 0.349572, 0.382351, 0.510796, 0.139779, 0.510616, 0.356297, 0.251592, 0.32741, 0.23405, 0.382351, 0.538014, 0.0400175, 0.34102, 0.0713419, 0.186723, 0.383908, 0.346741, 0.32741, 0.32741, 0.210623, 0.383908, 0.522814, 0.383908, 0.32741, 0.106152, 0.229538, 0.383908, 0.383908, 0.383908, 0.383908, 0.383908, 0.4918, 0.160563, 0.383908, 0.383908, 0.707084, 0.32741, 0.383908, 0.383908, 0.383908, 0.383908, 0.383908, 0.0985478, 0.00421921, 0.217397, 0.383908, 0.383908, 0.000685302],\n",
       "        [0.377447, 0.377447, 0.105029, 0.377447, 0.0400679, 0.0400679, 0.377447, 0.377447, 0.377447, 0.02792, 8.93197e-05, 0.00785469, 0.0697101, 0.377447, 0.377447, 8.9442e-05, 0.988571, 0.534587, 0.449118, 0.123435, 0.00173433, 0.000155137, 0.000617693, 0.133298, 0.133298, 0.000878837, 3.75084e-09, 0.472233, 0.208016, 0.115722, 0.0737571, 0.0126331, 0.000304223, 0.000337429, 0.0737571, 0.377447, 0.179126, 0.00742217, 0.179126, 0.00245076, 0.0126331, 0.0140062, 0.123435, 0.00294201, 0.377447, 1.31373e-05, 0.0102484, 0.573725, 0.0265414, 0.000666036, 0.047017, 0.000123879, 0.377447, 0.0737571, 0.377447, 3.04461e-05, 1.67126e-05, 0.0126331, 0.0126331, 0.208016, 0.0341198, 0.377447, 0.377447, 0.377447, 0.0341198, 9.27166e-09, 4.14308e-05, 0.0798953, 0.0551276, 0.0221505, 8.12913e-06, 0.377447, 0.377447, 0.0306392, 2.16671e-05, 0.000399286, 0.02792, 0.0112894, 8.61486e-07, 8.34849e-05, 0.000820086, 0.00791033, 1.48609e-06, 0.000185505, 1.97298e-07, 0.0117706, 1.42932e-05, 0.00142795, 1.79995e-06, 6.93298e-05, 1.90198e-05, 5.62427e-08, 5.31865e-05, 2.63761e-06, 4.11078e-08, 0.000159474, 1.15633e-06, 3.28762e-07, 0.00334488, 2.85782e-07, 0.000762316, 1.51742e-10, 0.000408591, 0.0486914, 6.16018e-06, 1.95128e-05, 0.0479049, 2.01728e-07, 0.0004104, 0.00205949, 0.00114972, 0.00116385, 0.00430904, 1.54026e-05, 3.12522e-05, 0.00308622, 0.0260908, 7.33461e-05, 0.00529891, 0.00268755, 0.00136541, 0.377447, 0.0573311, 2.33402e-05, 0.179256, 0.377447, 0.0323562, 0.000205046, 6.76174e-06, 0.377447, 0.377447, 0.11683, 0.0221695, 0.0821621, 0.0154228, 0.0286859, 0.00252967, 0.00166007, 0.000880967, 0.377447, 0.000119424, 0.170149, 0.0281305, 0.0184379, 0.0203767, 0.377447, 0.0184379, 0.0152444, 0.79262, 0.255293, 0.033843, 0.377447, 0.113311, 0.0668563, 0.377447, 0.0184379, 0.377447, 0.000799866, 0.143449, 0.0883963, 0.377447, 0.0385555, 0.1548, 0.000569094, 0.0184379, 0.0034457, 0.0184379, 0.113311, 0.273358, 0.0651927, 0.377447, 0.0184379, 0.0184379, 0.165821, 0.273358, 0.0663962, 0.128873, 0.00223483, 0.0184379, 0.252898, 0.1548, 0.125651, 0.273358, 0.000753189, 0.115736, 0.0628149, 0.00589844, 0.187884, 0.377447, 0.00737376, 0.1548, 0.1548, 0.167869, 0.377447, 0.143449, 0.377447, 0.1548, 0.0214033, 0.42943, 0.377447, 0.377447, 0.377447, 0.377447, 0.377447, 0.111045, 0.0428419, 0.377447, 0.377447, 0.0323562, 0.1548, 0.377447, 0.377447, 0.377447, 0.377447, 0.377447, 0.0680831, 0.460192, 0.103884, 0.377447, 0.377447, 0.0723766]]), 'most_likely_positions_1D': None}),\n",
       " DynamicContainer({'p_x_given_n': array([[0.000104266, 3.50889e-18, 1.59537e-06, 0.137922, 0.277524, 0.872162, 0.111268, 0.137922, 0.137922, 0.389973, 0.354212, 0.137922, 0.185587, 0.55032, 0.125749, 0.239955, 0.258509, 0.448195, 0.137922, 0.082429, 0.239955, 0.363278, 0.22603, 0.323173, 0.100286, 0.137922, 0.297369, 0.411157, 0.137922, 0.137922, 0.137922, 0.336798, 0.448195, 0.449769, 0.410292, 0.137922, 0.137922, 0.137922, 0.42378, 0.277524, 0.687835, 0.745018, 0.137922, 0.137922, 0.354212, 0.217648, 0.00056949, 5.29453e-06, 0.000455408, 1.12699e-13, 0.137922, 0.137922, 0.334407, 0.410292, 0.652226, 0.241183, 0.542068, 0.363278, 0.788806, 0.594861, 0.448195, 0.363278, 0.579667, 0.410292, 0.624018, 0.137922, 0.748275, 0.788108, 0.826192, 0.754951, 0.137922, 0.105693, 0.137922, 0.638139, 0.363278, 0.228114, 0.227914, 0.0264071, 0.239955, 0.137922, 0.540069, 0.228114, 0.239955, 0.348506, 0.17033, 3.11684e-05, 0.00240448, 0.137922, 0.137922, 0.321652, 0.15016, 0.137922, 0.542068, 0.00769503, 6.85356e-05, 0.501067, 0.137922, 0.217976, 0.0582985, 9.86133e-18, 0.137922, 0.333048, 5.57281e-05, 0.333048, 0.258565, 0.258565, 0.00114536, 0.0281543, 0.137922, 0.258565, 0.00351739, 1.7071e-18, 7.35673e-09, 0.151787, 1.90765e-17, 1.06489e-24, 6.93265e-06, 0.327588, 6.36509e-20, 1.12874e-06, 2.87869e-06, 0.000559643, 1.73438e-19, 4.86779e-08, 1.21977e-07, 4.05277e-08, 6.01325e-06, 7.19091e-09, 5.56123e-08, 1.25447e-11, 1.60343e-11, 0.00282111, 0.00162285, 9.73824e-08, 0.00198562, 0.000157973, 1.44531e-08, 3.14966e-05, 0.000684968, 0.44846, 0.00107979, 0.0672266, 0.137922, 0.0176515, 0.0613367, 1.55173e-07, 0.0643778, 1.98474e-07, 0.460942, 0.35045, 0.00196201, 5.18228e-07, 2.13447e-19, 0.0125299, 0.0011103, 0.00032838, 1.85083e-16, 1.78669e-05, 0.00384909, 0.000198322, 6.56888e-08, 5.08833e-17, 0.233647, 0.000204124, 1.39284e-10, 9.21332e-16, 4.79843e-14, 3.38434e-07, 0.180797, 9.07154e-11, 5.04715e-07, 0.102873, 0.233647, 4.8445e-09, 3.05804e-07, 0.0010897, 2.33783e-05, 0.00169585, 0.00196137, 0.000226773, 0.0194314, 0.000504523, 8.42771e-05, 0.000216755, 0.0250273, 0.00222897, 1.57323e-05, 3.94154e-05, 3.1659e-05, 3.87979e-07, 0.0109971, 3.0272e-06, 0.0187595, 0.137922, 0.251045, 2.12589e-06, 6.94109e-06, 0.0035355, 0.137922, 0.0236726, 0.0683934, 0.0240653, 0.0684106, 0.0903603, 0.0028405, 0.0250273, 0.0250273, 0.115339, 3.07164e-05, 1.48542e-05, 0.048848, 0.670043, 0.137922, 0.0226747, 2.65507e-07, 0.115339, 0.00158721, 0.00110962, 0.137922, 0.0035355, 0.0118735, 0.137922, 0.000222106, 0, 0.0881224, 0.0390207, 0.000202425, 0.115339, 0.125749, 0.125749, 0.125749, 0.24655, 0.449266, 0.409209],\n",
       "        [6.64934e-11, 1.48032e-14, 0.101746, 0.100723, 0.453825, 0.108718, 0.733457, 0.100723, 0.100723, 0.0664098, 0.271181, 0.100723, 0.279858, 0.119575, 0.554463, 0.274114, 0.245554, 0.102386, 0.100723, 0.301566, 0.274114, 0.132232, 0.118262, 0.113425, 0.835878, 0.100723, 0.308466, 0.176201, 0.100723, 0.100723, 0.100723, 0.189745, 0.102386, 0.215214, 0.268426, 0.100723, 0.100723, 0.100723, 0.0940098, 0.453825, 0.00497211, 0.0701286, 0.100723, 0.100723, 0.271181, 0.00920122, 0.192146, 0.287654, 0.19645, 6.40115e-10, 0.100723, 0.100723, 0.0386215, 0.268426, 0.178918, 0.542768, 0.0540968, 0.132232, 0.0118966, 0.0917106, 0.102386, 0.132232, 0.188845, 0.268426, 0.154655, 0.100723, 0.109238, 0.0577926, 0.0356854, 0.0215098, 0.100723, 0.584984, 0.100723, 0.155754, 0.132232, 0.274327, 0.382863, 0.814352, 0.274114, 0.100723, 0.140861, 0.274327, 0.274114, 0.298983, 0.180608, 0.1431, 0.276695, 0.100723, 0.100723, 0.162956, 0.44406, 0.100723, 0.0540968, 0.4665, 0.964527, 0.108484, 0.100723, 0.626271, 0.309411, 0.00578078, 0.100723, 0.442549, 0.167045, 0.442549, 0.412828, 0.412828, 0.154433, 0.937686, 0.100723, 0.412828, 0.207317, 3.61007e-06, 0.055641, 0.213933, 0.000468911, 1.40278e-05, 0.972713, 0.5007, 0.00176928, 0.131895, 0.111871, 0.498221, 8.06658e-05, 0.128133, 0.948374, 0.0205531, 0.00544937, 0.0284145, 0.193221, 0.011366, 3.36749e-11, 0.00817072, 0.42812, 0.378394, 0.993899, 0.380802, 0.0619397, 0.180578, 0.00584217, 0.0788729, 0.217555, 0.430905, 0.100723, 0.071865, 0.142774, 0.79202, 0.565287, 3.16882e-14, 4.40317e-06, 0.553906, 0.00595, 1.90033e-06, 6.45914e-13, 0.356057, 0.164087, 0.00175087, 6.22697e-17, 0.00243869, 0.713542, 0.000128182, 2.51042e-06, 3.12222e-07, 0.0160206, 8.0143e-06, 3.39318e-13, 3.50866e-06, 0.0040836, 4.15794e-10, 0.0149187, 6.32121e-06, 0.0160581, 0.037098, 0.0160206, 1.8824e-07, 0.000256831, 0.733354, 0.422595, 0.430581, 0.0370111, 0.121455, 0.680794, 0.610911, 0.359176, 0.928883, 0.718215, 0.60053, 0.224015, 0.586327, 0.852765, 0.274218, 0.485378, 0.233704, 0.886124, 0.100723, 0.548796, 0.622644, 0.439942, 0.660693, 0.100723, 0, 0, 0.289229, 0.43252, 0.406049, 0.694185, 0.718215, 0.718215, 0.526657, 0.450528, 0.487219, 0.492115, 0.028169, 0.100723, 0.631148, 0.166241, 0.526657, 0.194087, 0.184574, 0.100723, 0.660693, 0.800689, 0.100723, 0.0232973, 0, 0, 0.73928, 0.470514, 0.526657, 0.554463, 0.554463, 0.554463, 5.80111e-06, 0.000306199, 0.426033],\n",
       "        [0.999894, 5.66416e-09, 0.00136245, 0.383908, 0.139779, 0.00429279, 0.0268873, 0.383908, 0.383908, 0.418739, 0.186723, 0.383908, 0.142451, 0.214383, 0.0952192, 0.113169, 0.122294, 0.288153, 0.383908, 0.0293208, 0.113169, 0.251592, 0.382351, 0.42475, 0.00450357, 0.383908, 0.139131, 0.126967, 0.383908, 0.383908, 0.383908, 0.218634, 0.288153, 0.0957596, 0.217397, 0.383908, 0.383908, 0.383908, 0.32741, 0.139779, 0.304655, 0.138012, 0.383908, 0.383908, 0.186723, 0.690428, 0.000487521, 4.14154e-05, 0.00570374, 4.70191e-05, 0.383908, 0.383908, 0.42071, 0.217397, 0.0411732, 0.0883903, 0.34102, 0.251592, 0.194611, 0.285298, 0.288153, 0.251592, 0.111503, 0.217397, 0.155068, 0.383908, 0.0970686, 0.0875014, 0.117082, 0.221645, 0.383908, 0.0162967, 0.383908, 0.0986743, 0.251592, 0.152535, 0.0711077, 0.00193118, 0.113169, 0.383908, 0.196628, 0.152535, 0.113169, 0.139522, 0.281019, 9.38937e-05, 0.0191706, 0.383908, 0.383908, 0.349572, 0.129566, 0.383908, 0.34102, 0.00127562, 7.88752e-08, 0.16957, 0.383908, 0.0400175, 0.0227287, 3.99915e-09, 0.383908, 0.0468045, 6.77921e-06, 0.0468045, 0.0733136, 0.0733136, 0.000332665, 0.00769124, 0.383908, 0.0733136, 0.00331309, 1.46497e-07, 3.14243e-19, 0.076619, 4.93494e-07, 1.58221e-13, 7.3823e-07, 0.0838527, 2.01869e-10, 7.22659e-06, 3.47665e-05, 0.00344661, 5.10796e-13, 3.27991e-07, 4.96325e-14, 9.77872e-07, 0.000205519, 2.27292e-07, 3.3488e-07, 2.14487e-06, 8.14287e-05, 0.00655031, 0.00290589, 2.27467e-13, 0.000605183, 0.000238849, 6.9162e-07, 0.000366825, 0.0200322, 0.333224, 0.00114581, 0.243413, 0.383908, 0.0709767, 0.0950865, 1.39458e-05, 0.0258671, 0.00450798, 0.538894, 0.046499, 0.0891308, 0.0223677, 3.39893e-10, 0.079505, 0.00135267, 0.186338, 4.97925e-08, 5.4781e-05, 0.000598361, 0.000646324, 0.000135933, 5.19571e-09, 0.37074, 0.00440423, 1.81045e-07, 1.34298e-06, 2.39609e-06, 2.28771e-05, 0.280373, 6.63369e-05, 2.16412e-06, 0.855441, 0.37074, 8.2553e-05, 0.000743691, 0.00602335, 0.0104358, 0.106459, 0.0114034, 0.00423494, 0.0816457, 0.00931736, 0.0330214, 0.0119941, 0.0487658, 0.0378816, 0.0341575, 0.037676, 0.036979, 0.000688952, 0.0938898, 0.00819426, 0.0528624, 0.383908, 0.0833283, 0.00105344, 0.000569794, 0.0216978, 0.383908, 0.664501, 0.62175, 0.204955, 0.213534, 0.213809, 0.247164, 0.0487658, 0.0487658, 0.15463, 0.0050547, 0.0528813, 0.303283, 0.266482, 0.383908, 0.0475906, 0.00254884, 0.15463, 0.631335, 0.0770412, 0.383908, 0.0216978, 0.0103196, 0.383908, 0.0238044, 0.99891, 0.848477, 0.0290846, 0.0250166, 0.15463, 0.0952192, 0.0952192, 0.0952192, 0.753444, 0.550396, 0.160188],\n",
       "        [1.2355e-06, 1, 0.89689, 0.377447, 0.128873, 0.0148277, 0.128388, 0.377447, 0.377447, 0.124878, 0.187884, 0.377447, 0.392104, 0.115722, 0.224568, 0.372762, 0.373643, 0.161266, 0.377447, 0.586684, 0.372762, 0.252898, 0.273358, 0.138652, 0.0593326, 0.377447, 0.255035, 0.285676, 0.377447, 0.377447, 0.377447, 0.254824, 0.161266, 0.239257, 0.103884, 0.377447, 0.377447, 0.377447, 0.1548, 0.128873, 0.00253805, 0.0468422, 0.377447, 0.377447, 0.187884, 0.0827227, 0.806797, 0.712299, 0.797391, 0.999953, 0.377447, 0.377447, 0.206262, 0.103884, 0.127683, 0.127659, 0.0628149, 0.252898, 0.00468717, 0.0281305, 0.161266, 0.252898, 0.119985, 0.103884, 0.0662591, 0.377447, 0.0454194, 0.0665977, 0.0210397, 0.00189433, 0.377447, 0.293026, 0.377447, 0.107432, 0.252898, 0.345025, 0.318115, 0.15731, 0.372762, 0.377447, 0.122441, 0.345025, 0.372762, 0.212989, 0.368043, 0.856775, 0.70173, 0.377447, 0.377447, 0.165821, 0.276214, 0.377447, 0.0628149, 0.524529, 0.0354045, 0.22088, 0.377447, 0.115736, 0.609562, 0.994219, 0.377447, 0.177598, 0.832892, 0.177598, 0.255293, 0.255293, 0.844089, 0.0264685, 0.377447, 0.255293, 0.785852, 0.999996, 0.944359, 0.557661, 0.999531, 0.999986, 0.0272789, 0.08786, 0.998231, 0.868096, 0.888091, 0.497773, 0.999919, 0.871867, 0.0516255, 0.979446, 0.994339, 0.971585, 0.806779, 0.988632, 0.999919, 0.982458, 0.567351, 0.621606, 0.00351029, 0.618801, 0.93806, 0.819023, 0.973441, 0.139443, 0.78022, 0.258456, 0.377447, 0.839507, 0.700803, 0.207966, 0.344468, 0.995492, 0.000159009, 0.0491451, 0.902957, 0.97763, 1, 0.551908, 0.83345, 0.811582, 1, 0.997489, 0.28201, 0.999027, 0.999861, 1, 0.379592, 0.995384, 1, 0.999995, 0.995914, 0.999977, 0.523911, 0.999927, 0.983939, 0.00458826, 0.379592, 0.999917, 0.998999, 0.259533, 0.566945, 0.461263, 0.949624, 0.874083, 0.218129, 0.379267, 0.607719, 0.0589063, 0.207992, 0.359359, 0.741811, 0.375958, 0.110224, 0.725092, 0.409735, 0.758099, 0.042254, 0.377447, 0.11683, 0.376301, 0.559481, 0.314074, 0.377447, 0.311826, 0.309857, 0.481751, 0.285536, 0.289782, 0.0558106, 0.207992, 0.207992, 0.203374, 0.544387, 0.459885, 0.155754, 0.0353058, 0.377447, 0.298587, 0.83121, 0.203374, 0.172991, 0.737275, 0.377447, 0.314074, 0.177118, 0.377447, 0.952676, 0.00109006, 0.063401, 0.192614, 0.504267, 0.203374, 0.224568, 0.224568, 0.224568, 5.902e-07, 3.12441e-05, 0.00457021]]), 'most_likely_positions_1D': None}),\n",
       " DynamicContainer({'p_x_given_n': array([[0.516709, 0.22603, 0.65267, 0.0167404, 0.174299, 0.29469, 0.210283, 0.219951, 0.633914, 0.29469, 0.204926, 0.224918, 0.0989406, 0.201551, 0.179495, 0.269219, 0.137922, 0.85115, 0.838038, 0.415741, 0.294166, 0.315651, 0.597797, 0.137922, 0.632633, 0.591893, 0.394221, 0.093383, 0.57283, 0.137922, 0.509197, 0.137922, 0.314943, 0.942648, 0.239955, 0.57283, 0.179564, 0.00348505, 0.137922, 0.137922, 0.509197, 0.00120981, 0.0012821, 0.00694381, 0.000147822, 0.864583, 0.137922, 0.509197, 0.137922, 0.0108435, 0.137922, 0.137922, 0.57283, 0.137922, 0.137922, 7.8602e-06, 0.00235328, 0.284863, 0.011881, 0.357076, 0.137922, 0.185934, 0.00181649, 0.0312111, 0.319679, 0.137922, 0.137922, 0.547567, 0.873051, 0.137922, 0.186448, 0.137922, 0.00134949, 0.0179427, 0.639813, 0.509197, 0.137922, 0.006389, 0.000646073, 1.23008e-12, 0.000319993, 0.196316, 0.000521378, 0.0700802, 0.383544, 0.00612363, 0.00851327, 0.000303994, 0.70029, 0.0751834, 0.0957071, 0.0272904, 0.168063, 0.0129084, 0.522215, 0.00042392, 0.639813, 0.735991, 0.359974, 0.842949, 0.502935, 0.274936, 0.403248, 0.400854, 0.672473, 0.284238, 0.0110916, 0.249991, 0.24743, 0.765577, 0.0574491, 0.609254, 0.000201261, 0.570261, 0.840296, 0.694485, 0.792194, 0.258565, 0.232625, 0.392287, 0.038954, 0.530789, 0.386142, 0.559747, 0.0042571, 0.000772514, 0.277524, 0.137922, 0.611925, 0.00142069, 0.622716, 0.137922, 0.362278, 0.000110662, 0.109929, 0.346685, 0.137922, 0.295733, 0.0500353, 0.440425, 0.277524, 0.00148952, 0.0672266, 0.089763, 0.42378, 0.089019, 0.089763, 0.284863, 0.594861, 0.556743, 0.137922, 0.137922, 0.582173, 0.42378, 0.765054, 0.137922, 0.137922, 0.137922, 0.724298, 0.939372, 0.137922, 0.137922, 0.137922, 0.42378, 0.205686, 0.42378, 0.190892, 0.582173, 0.137922, 0.137922, 0.632483, 0.253218, 0.542068, 0.137922, 0.410292, 0.192163, 0.137922, 0.137922, 0.290819, 0.137922, 0.611413, 0.137922, 0.137922, 0.137922, 0.137922, 0.137922, 0.640244, 0.137922, 0.137922, 0.165226, 0.323173, 0.410292, 0.137922, 0.137922, 0.137922, 0.137922, 0.130671, 0.700158, 3.94248e-11, 0.011162, 0.137922, 0.137922, 0.137922, 0.157869, 0.544531, 0.323173, 0.137922, 0.137922, 0.137922, 0.640244, 0.833551, 0.162673, 0.664366, 0.525751, 0.137922, 0.00569118, 0.137922, 0.137922, 0.228114, 0.137922, 0.22603, 0.29102, 0.410292, 0.22603, 0.137922, 0.137922, 0.137922, 0.137922, 0.137922, 0.137922, 0.542068, 0.354212, 0.912574],\n",
       "        [0.111466, 0.118262, 0.109608, 2.30163e-08, 0.0270182, 0.16637, 0.0429902, 0.000154167, 0.000292732, 0.16637, 0.00123325, 1.70699e-05, 2.26773e-06, 0.000704992, 0.00256604, 0.00963319, 0.100723, 0.0265331, 0.0394117, 0.12896, 0.026106, 0.0439444, 0.0020397, 0.100723, 0.0156773, 0.0852696, 0.367788, 0.882966, 0.0743205, 0.100723, 0.0558906, 0.100723, 0.427908, 0.0166163, 0.274114, 0.0743205, 0.714073, 0.99622, 0.100723, 0.100723, 0.0558906, 4.31782e-08, 4.53672e-13, 1.64349e-23, 7.56785e-10, 0.00100395, 0.100723, 0.0558906, 0.100723, 0.00848258, 0.100723, 0.100723, 0.0743205, 0.100723, 0.100723, 0.0142135, 0.106143, 0.45874, 0.986535, 0.534938, 0.100723, 0.493208, 0.00123068, 2.27162e-08, 1.25344e-07, 0.100723, 0.100723, 0.00456932, 0.00530529, 0.100723, 0.236623, 0.100723, 0.000123013, 2.37343e-10, 0.00965842, 0.0558906, 0.100723, 0.0011902, 1.99696e-10, 1.5047e-16, 0.350556, 6.08915e-07, 1.04126e-11, 3.85024e-10, 0.000122861, 1.01568e-09, 7.56995e-07, 2.35549e-13, 0.0302822, 3.29407e-06, 4.51545e-05, 2.69153e-09, 2.32274e-07, 3.60316e-11, 4.44744e-09, 9.3822e-17, 0.00965842, 0.0556287, 4.14162e-07, 9.2667e-06, 9.02128e-07, 0.0560347, 0.016778, 0.206427, 1.50485e-07, 0.27001, 4.24416e-15, 2.54121e-12, 0.218011, 0.0301691, 2.13614e-08, 7.93461e-05, 0.61403, 0.0177177, 0.000340568, 1.74279e-05, 1.78609e-08, 0.412828, 0.0279348, 0.000780712, 3.37164e-05, 0.0315029, 0.50182, 0.00188431, 1.64904e-05, 0.000120061, 0.453825, 0.100723, 0.00932218, 0.000646989, 0.0590801, 0.100723, 0.000238263, 5.7421e-05, 0.0265043, 0.00102049, 0.100723, 0.05947, 0.00463154, 0.0209719, 0.453825, 0.0143099, 0.430905, 0.170219, 0.0940098, 0.202676, 0.170219, 0.45874, 0.0917106, 0.0315576, 0.100723, 0.100723, 0.0430916, 0.0940098, 0.0325549, 0.100723, 0.100723, 0.100723, 0.034352, 0.0174292, 0.100723, 0.100723, 0.100723, 0.0940098, 0.0309194, 0.0940098, 0.243511, 0.0430916, 0.100723, 0.100723, 0.0134023, 0.000823293, 0.0540968, 0.100723, 0.268426, 0.0393991, 0.100723, 0.100723, 0.0429181, 0.100723, 0.0537953, 0.100723, 0.100723, 0.100723, 0.100723, 0.100723, 0.0664799, 0.100723, 0.100723, 0.0150248, 0.113425, 0.268426, 0.100723, 0.100723, 0.100723, 0.100723, 0.443824, 0.0521998, 0.00014001, 0.312289, 0.100723, 0.100723, 0.100723, 0.116701, 0.0267568, 0.113425, 0.100723, 0.100723, 0.100723, 0.0664799, 0.0180767, 6.66404e-06, 0.000440321, 0.106225, 0.100723, 0.155278, 0.100723, 0.100723, 0.274327, 0.100723, 0.118262, 0.181359, 0.268426, 0.118262, 0.100723, 0.100723, 0.100723, 0.100723, 0.100723, 0.100723, 0.0540968, 0.271181, 0.0648364],\n",
       "        [0.355721, 0.382351, 0.184693, 0.98326, 0.762521, 0.405642, 0.722449, 0.779851, 0.365705, 0.405642, 0.793832, 0.775049, 0.901053, 0.786808, 0.817836, 0.713412, 0.383908, 0.120649, 0.122349, 0.429532, 0.653811, 0.611812, 0.150403, 0.383908, 0.339057, 0.227168, 0.117385, 0.0233556, 0.279092, 0.383908, 0.400793, 0.383908, 0.0333477, 0.0405652, 0.113169, 0.279092, 0.0662951, 0.000286564, 0.383908, 0.383908, 0.400793, 0.998478, 0.998718, 0.993056, 0.999852, 0.134177, 0.383908, 0.400793, 0.383908, 0.980672, 0.383908, 0.383908, 0.279092, 0.383908, 0.383908, 0.0234823, 0.0406524, 0.164572, 0.00155578, 0.105651, 0.383908, 0.0414829, 0.995674, 0.968673, 0.68032, 0.383908, 0.383908, 0.445584, 0.121257, 0.383908, 0.0558466, 0.383908, 0.996226, 0.982053, 0.330022, 0.400793, 0.383908, 0.984981, 0.999347, 4.99998e-05, 0.0260371, 0.80362, 0.999474, 0.92992, 0.616318, 0.993876, 0.991377, 0.999696, 0.268144, 0.924797, 0.89935, 0.972704, 0.831937, 0.987059, 0.477784, 0.999576, 0.330022, 0.205406, 0.639893, 0.156997, 0.497029, 0.636892, 0.5788, 0.164271, 0.327496, 0.0940251, 0.988908, 0.750009, 0.357441, 0.202028, 0.941906, 0.388517, 0.00297555, 0.373975, 0.158963, 0.30532, 0.207805, 0.0733136, 0.707084, 0.6057, 0.961011, 0.369737, 0.10209, 0.433422, 0.995649, 0.99889, 0.139779, 0.383908, 0.372774, 0.997426, 0.289518, 0.383908, 0.637116, 0.997614, 0.756499, 0.637621, 0.383908, 0.626562, 0.944136, 0.500048, 0.139779, 0.936248, 0.243413, 0.569868, 0.32741, 0.171585, 0.569868, 0.164572, 0.285298, 0.347366, 0.383908, 0.383908, 0.356297, 0.32741, 0.178655, 0.383908, 0.383908, 0.383908, 0.221314, 0.0309107, 0.383908, 0.383908, 0.383908, 0.32741, 0.663726, 0.32741, 0.162833, 0.356297, 0.383908, 0.383908, 0.346741, 0.745413, 0.34102, 0.383908, 0.217397, 0.646784, 0.383908, 0.383908, 0.522814, 0.383908, 0.245255, 0.383908, 0.383908, 0.383908, 0.383908, 0.383908, 0.23943, 0.383908, 0.383908, 0.712723, 0.42475, 0.217397, 0.383908, 0.383908, 0.383908, 0.383908, 0.00904646, 0.165467, 1.09732e-06, 0.102824, 0.383908, 0.383908, 0.383908, 0.518644, 0.365867, 0.42475, 0.383908, 0.383908, 0.383908, 0.23943, 0.146856, 0.837318, 0.335137, 0.23604, 0.383908, 0.501007, 0.383908, 0.383908, 0.152535, 0.383908, 0.382351, 0.257307, 0.217397, 0.382351, 0.383908, 0.383908, 0.383908, 0.383908, 0.383908, 0.383908, 0.34102, 0.186723, 0.0134167],\n",
       "        [0.0161049, 0.273358, 0.0530296, 1.84914e-08, 0.0361615, 0.133298, 0.0242783, 4.3975e-05, 8.89008e-05, 0.133298, 8.45526e-06, 1.60632e-05, 3.8996e-06, 0.0109358, 0.000103069, 0.00773597, 0.377447, 0.00166848, 0.000201418, 0.0257671, 0.0259161, 0.0285926, 0.249761, 0.377447, 0.0126331, 0.0956701, 0.120606, 0.000295266, 0.0737571, 0.377447, 0.0341198, 0.377447, 0.223801, 0.000170764, 0.372762, 0.0737571, 0.0400679, 7.92133e-06, 0.377447, 0.377447, 0.0341198, 0.000312489, 4.83725e-08, 2.1147e-12, 3.09103e-07, 0.000236456, 0.377447, 0.0341198, 0.377447, 1.52119e-06, 0.377447, 0.377447, 0.0737571, 0.377447, 0.377447, 0.962296, 0.850851, 0.0918253, 2.80162e-05, 0.00233575, 0.377447, 0.279375, 0.00127849, 0.000115504, 2.04709e-07, 0.377447, 0.377447, 0.00227955, 0.000387157, 0.377447, 0.521082, 0.377447, 0.00230155, 4.31476e-06, 0.0205069, 0.0341198, 0.377447, 0.00743932, 6.76721e-06, 0.99995, 0.623086, 6.31184e-05, 4.48992e-06, 1.64724e-08, 1.45982e-05, 3.66528e-07, 0.000109363, 4.78594e-10, 0.00128408, 1.60066e-05, 0.00489754, 5.22701e-06, 1.71378e-07, 3.29908e-05, 7.23769e-07, 9.54677e-11, 0.0205069, 0.00297355, 0.000132234, 4.52212e-05, 3.47808e-05, 0.0321376, 0.00117386, 0.228449, 3.05637e-05, 0.351727, 2.0204e-08, 1.53755e-07, 0.177118, 0.00222603, 0.000645025, 0.00214939, 0.382793, 0.038046, 0.000399993, 0.000177523, 1.83969e-07, 0.255293, 0.0323562, 0.00123269, 1.42515e-06, 0.0679713, 0.00994857, 0.00494636, 7.74298e-05, 0.000217502, 0.128873, 0.377447, 0.00597902, 0.000506431, 0.0286859, 0.377447, 0.000367307, 0.00221761, 0.107067, 0.0146734, 0.377447, 0.0182348, 0.00119735, 0.0385555, 0.128873, 0.0479531, 0.258456, 0.170149, 0.1548, 0.53672, 0.170149, 0.0918253, 0.0281305, 0.0643338, 0.377447, 0.377447, 0.0184379, 0.1548, 0.0237364, 0.377447, 0.377447, 0.377447, 0.0200369, 0.0122883, 0.377447, 0.377447, 0.377447, 0.1548, 0.0996694, 0.1548, 0.402764, 0.0184379, 0.377447, 0.377447, 0.00737376, 0.000545936, 0.0628149, 0.377447, 0.103884, 0.121654, 0.377447, 0.377447, 0.143449, 0.377447, 0.0895374, 0.377447, 0.377447, 0.377447, 0.377447, 0.377447, 0.0538462, 0.377447, 0.377447, 0.107026, 0.138652, 0.103884, 0.377447, 0.377447, 0.377447, 0.377447, 0.416459, 0.0821752, 0.999859, 0.573725, 0.377447, 0.377447, 0.377447, 0.206787, 0.0628457, 0.138652, 0.377447, 0.377447, 0.377447, 0.0538462, 0.00151683, 1.9263e-06, 5.71096e-05, 0.131984, 0.377447, 0.338024, 0.377447, 0.377447, 0.345025, 0.377447, 0.273358, 0.270313, 0.103884, 0.273358, 0.377447, 0.377447, 0.377447, 0.377447, 0.377447, 0.377447, 0.0628149, 0.187884, 0.00917267]]), 'most_likely_positions_1D': None}),\n",
       " DynamicContainer({'p_x_given_n': array([[0.109545, 0.0278441, 0.333048, 0.295138, 0.089019, 0.333048, 0.137922, 0.30862, 0.00628006, 0.000162405, 0.120376, 0.0240055, 0.174159, 0.0773593, 0.400854, 0.137922, 0.137922, 0.00014628, 0.0623568, 0.137922, 0.258565, 0.00114536, 4.12976e-05, 0.000669432, 0.137922, 2.87933e-05, 2.14134e-31, 0.039561, 0.105469, 2.87933e-05, 1.25701e-36, 1.14722e-12, 0.00181506, 1.60178e-05, 1.38159e-23, 1.79864e-06, 0.000512898, 0.594861, 5.58243e-07, 9.68889e-12, 9.68306e-11, 0.0031011, 6.83666e-11, 0.556785, 1.54154e-05, 0.00334698, 0.000216984, 2.08586e-10, 2.37299e-09, 0.000179428, 0.00240448, 0.000101402, 1.52109e-08, 8.71262e-06, 0.000578729, 9.53727e-05, 0.309474, 0.000509693, 9.67844e-19, 0.00127385, 0.277524, 0.036096, 2.4967e-06, 1.76411e-05, 0.0710704, 0.105693, 4.09123e-05, 1.01698e-13, 0.089763, 6.21068e-05, 0.00426621, 6.55655e-14, 4.25847e-06, 0.000943261, 2.28997e-05, 0.000201557, 2.78596e-14, 1.49547e-08, 7.57455e-05, 5.39539e-19, 6.09471e-06, 8.3097e-10, 1.64071e-06, 0.00298406, 2.92885e-05, 1.67752e-09, 0.00794024, 1.2051e-06, 1.76045e-12, 0.000691199, 0.000484217, 1.49863e-05, 0.0218315, 0.000155825, 0.0250273, 0.0226747, 9.29984e-06, 1.66596e-05, 0.000113326, 0.00555681, 4.14446e-05, 0.0567062, 0.0210883, 0.000846355, 7.47528e-05, 0.00183579, 0.115339, 0.00155007, 0.0141667, 0.0226747, 0.00228718, 4.39446e-05, 0.00322686, 0.0250273, 3.83657e-05, 0.015744, 3.14573e-06, 8.42771e-05, 0.0390207, 0.0903603, 9.27835e-06, 4.21166e-06, 0.115339, 0.0812775, 0.134323, 0.137013, 0.000295976, 0.125749, 0.0226747, 0.115339, 0.772419, 0.140721, 0.955557, 0.011881, 0.00119343, 5.41347e-06, 0.0194314, 0.0202129, 0, 0.509197, 0.00274342, 0.0390207, 0.109404, 0.137922, 0.137922, 0.137922, 4.08857e-07, 2.82543e-05, 0.000396743, 0.00105531, 1.69683e-06, 0.674211, 0.137922, 0.125749, 0.125749, 0.137922, 0.00158202, 0.0039971, 0.22603, 0.000396743, 0.0250273, 0.137922, 0.00181957, 0.0226747, 0.03584, 0.125749, 0.125749, 0.000135256, 0.0903603, 0.137922, 0.0035355, 0.137922, 0.0250273, 0.0250273, 0.0141667, 0.00123985, 0.0028015],\n",
       "        [0.823239, 0.941918, 0.442549, 0.127459, 0.202676, 0.442549, 0.100723, 0.0346912, 0.784956, 0.120654, 0.787521, 0.926201, 0.26203, 0.406861, 0.206427, 0.100723, 0.100723, 0.241967, 0.632327, 0.100723, 0.412828, 0.154433, 0.999192, 0.900039, 0.100723, 0.0987818, 8.13143e-07, 0.772895, 0.35167, 0.0987818, 1.94182e-09, 0.35656, 0.989976, 0.13928, 0.000180321, 6.36793e-05, 1.06682e-21, 0.0917106, 0.170402, 0.711925, 0.190587, 0.43942, 0.042705, 0.130612, 0.0183864, 0.000780606, 0.335878, 0.0398428, 0.0528509, 0.995489, 0.276695, 0.391794, 0.0531889, 0.217731, 3.56616e-05, 0.18438, 0.134875, 0.0018052, 4.30333e-16, 0.0624175, 0.453825, 0.528895, 9.97315e-08, 1.6225e-09, 0.585529, 0.584984, 0.000208001, 4.14792e-13, 0.170219, 0.000626915, 0.0015281, 1.0247e-07, 0.256417, 0.0285236, 4.96833e-08, 0.00479898, 0.000394319, 1.71148e-11, 1.19085e-06, 1.35462e-14, 0.00450427, 0.0284271, 3.0143e-09, 0.00372121, 8.83382e-05, 0.00149077, 0.591484, 0.000906807, 3.66846e-08, 0.058282, 0.789852, 0.401099, 0.476569, 0.639115, 0.718215, 0.631148, 0.317131, 0.383894, 0.325908, 0.710442, 0.492702, 0.48564, 0.539605, 0.676931, 0.558942, 0.664787, 0.526657, 0.373962, 0.496916, 0.631148, 0.774178, 0.542535, 0.390561, 0.718215, 0.393202, 0.5814, 0.283784, 0.359176, 0.73928, 0.406049, 0.4825, 0.292519, 0.526657, 0.00814293, 0.00818877, 0.183226, 0.40769, 0.554463, 0.631148, 0.526657, 0.00479433, 2.48405e-07, 0.0015257, 0.986535, 0.887365, 0.315991, 0.680794, 0, 0, 0.0558906, 0.610923, 0.73928, 0.429715, 0.100723, 0.100723, 0.100723, 0.286927, 0.267345, 0.499911, 0.688837, 0.0116523, 0.0256785, 0.100723, 0.554463, 0.554463, 0.100723, 0.752829, 0.668519, 0.118262, 0.499911, 0.718215, 0.100723, 0.549984, 0.631148, 0.0174546, 0.554463, 0.554463, 0.415739, 0.406049, 0.100723, 0.660693, 0.100723, 0.718215, 0.718215, 0.496916, 0.645075, 0.813568],\n",
       "        [0.000942781, 6.52814e-05, 0.0468045, 0.33585, 0.171585, 0.0468045, 0.383908, 0.344864, 0.000378718, 6.3402e-05, 0.0021146, 0.00106703, 0.0721413, 0.0145647, 0.164271, 0.383908, 0.383908, 0.000123531, 0.0543745, 0.383908, 0.0733136, 0.000332665, 3.36639e-05, 0.000294791, 0.383908, 0.000284698, 5.0897e-14, 0.0164166, 0.0322035, 0.000284698, 5.53402e-22, 2.40283e-20, 0.00020876, 0.000168813, 4.04016e-12, 0.000205948, 0.999487, 0.285298, 7.44414e-06, 1.08539e-20, 1.14235e-15, 0.0203025, 3.75382e-09, 0.0759618, 0.000258211, 0.876726, 0.000390982, 6.03329e-09, 2.61523e-07, 1.43659e-05, 0.0191706, 0.000158204, 2.92251e-07, 0.0443948, 0.0440396, 0.000212859, 0.488889, 0.107356, 3.95447e-09, 0.00754006, 0.139779, 0.015621, 0.0163865, 0.999512, 0.0184542, 0.0162967, 0.00142637, 6.15469e-08, 0.569868, 0.000632565, 0.00607109, 2.0073e-06, 0.00153331, 0.00721054, 0.0114221, 0.0688349, 1.31237e-06, 0.000209804, 0.00137167, 4.51453e-10, 7.54846e-05, 7.40496e-05, 6.7895e-05, 0.0284203, 0.00289986, 0.00030778, 0.0300423, 0.0045856, 1.82407e-06, 0.00193111, 0.000980104, 0.00393378, 0.275111, 0.00236509, 0.0487658, 0.0475906, 0.0134138, 0.00832659, 0.0105914, 0.0123079, 0.00648714, 0.353433, 0.195949, 0.0055318, 0.00394833, 0.0460609, 0.15463, 0.0891558, 0.111452, 0.0475906, 0.0374515, 0.0870781, 0.0896864, 0.0487658, 0.00851439, 0.0826779, 0.00236623, 0.0330214, 0.0290846, 0.213809, 0.00160152, 0.00276113, 0.15463, 0.897243, 0.855566, 0.614792, 0.0420149, 0.0952192, 0.0475906, 0.15463, 0.220891, 0.859278, 0.0427213, 0.00155578, 0.0116688, 0.00306189, 0.0816457, 0.565378, 0.999994, 0.400793, 0.0186223, 0.0290846, 0.283028, 0.383908, 0.383908, 0.383908, 9.0135e-05, 0.00509835, 0.0274588, 0.0582037, 0.0458487, 0.291207, 0.383908, 0.0952192, 0.0952192, 0.383908, 0.0302177, 0.221092, 0.382351, 0.0274588, 0.0487658, 0.383908, 0.0321839, 0.0475906, 0.444657, 0.0952192, 0.0952192, 0.0196314, 0.213809, 0.383908, 0.0216978, 0.383908, 0.0487658, 0.0487658, 0.111452, 0.113109, 0.148393],\n",
       "        [0.066273, 0.0301722, 0.177598, 0.241552, 0.53672, 0.177598, 0.377447, 0.311825, 0.208386, 0.879121, 0.0899876, 0.0487261, 0.49167, 0.501215, 0.228449, 0.377447, 0.377447, 0.757763, 0.250942, 0.377447, 0.255293, 0.844089, 0.000732987, 0.0989965, 0.377447, 0.900905, 0.999999, 0.171128, 0.510658, 0.900905, 1, 0.64344, 0.00799985, 0.860535, 0.99982, 0.999729, 5.39664e-07, 0.0281305, 0.82959, 0.288075, 0.809413, 0.537177, 0.957295, 0.236641, 0.98134, 0.119147, 0.663514, 0.960157, 0.947149, 0.00431718, 0.70173, 0.607946, 0.946811, 0.737865, 0.955346, 0.815311, 0.0667616, 0.890329, 1, 0.928769, 0.128873, 0.419388, 0.983611, 0.000470062, 0.324946, 0.293026, 0.998325, 1, 0.170149, 0.998678, 0.988135, 0.999998, 0.742045, 0.963323, 0.988555, 0.926165, 0.999604, 0.99979, 0.998551, 1, 0.995414, 0.971499, 0.99993, 0.964874, 0.996983, 0.998201, 0.370534, 0.994506, 0.999998, 0.939096, 0.208683, 0.594952, 0.226488, 0.358364, 0.207992, 0.298587, 0.669446, 0.607763, 0.663388, 0.271694, 0.500769, 0.10422, 0.243358, 0.316691, 0.437035, 0.287316, 0.203374, 0.535332, 0.377465, 0.298587, 0.186083, 0.370343, 0.516526, 0.207992, 0.598245, 0.320178, 0.713847, 0.607719, 0.192614, 0.289782, 0.51589, 0.704715, 0.203374, 0.0133364, 0.00192188, 0.0649696, 0.549999, 0.224568, 0.298587, 0.203374, 0.00189595, 8.74855e-10, 0.000195492, 2.80162e-05, 0.0997728, 0.680942, 0.218129, 0.414409, 5.65942e-06, 0.0341198, 0.367711, 0.192614, 0.177853, 0.377447, 0.377447, 0.377447, 0.712983, 0.727528, 0.472233, 0.251904, 0.942497, 0.00890387, 0.377447, 0.224568, 0.224568, 0.377447, 0.215371, 0.106393, 0.273358, 0.472233, 0.207992, 0.377447, 0.416012, 0.298587, 0.502048, 0.224568, 0.224568, 0.564495, 0.289782, 0.377447, 0.314074, 0.377447, 0.207992, 0.207992, 0.377465, 0.240577, 0.0352384]]), 'most_likely_positions_1D': None}),\n",
       " DynamicContainer({'p_x_given_n': array([[0.330493, 0.160634, 0.509197, 0.137922, 0.568699, 0.164591, 0.168301, 0.330493, 0.137922, 0.0324608, 0.897638, 0.818337, 0.654395, 0.948193, 0.861014, 0.360074, 0.932537, 0.842289, 0.793315, 0.901183, 0.373776, 0.719784, 0.87144, 0.859141, 0.756762, 2.88816e-08, 0.320489, 0.504974, 0.15686, 0.627431, 0.400854, 0.120091, 0.137922, 0.595643, 0.0521906, 0.0930773, 0.0119144, 0.347717, 0.407348, 0.301738, 0.251045, 0.46808, 0.318207, 0.327562, 0.749364, 0.137922, 0.558344, 0.139274, 0.812483, 0.311726, 0.179564, 0.570261, 0.479786, 0.744009, 0.594861, 0.753759, 0.595023, 0.753759, 0.00212568, 0.68559, 0.137922, 0.125749, 0.000206003, 0.0903603, 0.182554, 0.622716, 0.0249989, 0.00124544, 0.0903603, 0.605084, 0.614262, 0.0271094, 0.582173, 0.089763, 0.137922, 0.137922, 0.582173, 0.00105502, 0.137922, 0.582173, 0.137922, 0.597611, 0.614815, 0.582173, 0.693972, 0.42378, 0.724298, 0.762777, 0.712609, 0.137922, 0.285059, 0.542068, 0.685949, 0.542068, 0.42378, 0.762777, 0.687835, 0.307289, 0.0687243, 0.363278, 0.137922, 0.455871, 0.440425, 0.509008, 0.645106, 0.582173, 0.582173, 0.42378, 0.137922, 0.22603, 0.127355, 0.137922, 0.582173, 0.582173, 0.137922, 0.323173, 0.644322, 0.137922, 0.137922, 0.137922, 0.232625, 0.878973, 0.55032, 0.217976, 0.632483, 0.137922, 0.693511, 0.137922, 0.137922, 0.137922, 0.137922, 0.137922, 0.137922, 0.42378, 0.137922, 0.137922, 0.137922, 0.137922, 0.127355, 0.543679, 0.501368, 0.602902, 0.137922, 5.28287e-09, 7.65432e-06, 0.0231128, 0.288994, 0.137922, 0.137922, 0.137922, 0.232625, 0.363278, 0.137922, 0.137922, 0.137922, 0.137922, 0.137922, 0.137922, 0.137922, 0.137922, 0.137922, 0.137922, 0.55032, 0.0336192, 0.557993, 0.137922, 0.137922, 0.137922, 0.636334, 0.137922, 0.137922, 0.137922, 0.137922, 0.137922, 0.137922, 0.137922],\n",
       "        [0.499993, 0.0156945, 0.0558906, 0.100723, 0.00413094, 3.57257e-05, 0.725985, 0.499993, 0.100723, 0.894044, 0.0215482, 0.00176729, 1.83101e-10, 1.44858e-05, 5.3783e-05, 2.66222e-05, 0.000503377, 0.0022148, 0.00975532, 0.000273056, 0.320779, 0.0285753, 1.44394e-05, 6.62798e-05, 0.0449206, 0.152783, 0.00018003, 0.00151832, 3.14919e-06, 0.00673395, 0.206427, 3.68976e-06, 0.100723, 0.000871928, 8.69433e-11, 8.54227e-07, 1.62562e-12, 0.0163399, 0.000389799, 0.0124276, 0.548796, 0.0117342, 3.32512e-07, 1.5471e-05, 3.93701e-05, 0.100723, 0.0149303, 3.73204e-05, 7.95276e-06, 0.000100912, 0.714073, 0.0177177, 0.0715848, 7.70302e-05, 0.0917106, 0.00106411, 0.00905241, 0.00106411, 0.00105172, 0.000276545, 0.100723, 0.554463, 1.167e-05, 0.406049, 0.000520255, 0.0590801, 0.00964573, 0.282596, 0.406049, 2.72521e-09, 0.0459157, 0.151871, 0.0430916, 0.170219, 0.100723, 0.100723, 0.0430916, 0.270361, 0.100723, 0.0430916, 0.100723, 0.0578225, 0.000444146, 0.0430916, 0.00492564, 0.0940098, 0.034352, 0.0155621, 0.000103753, 0.100723, 0.00129206, 0.0540968, 0.0389721, 0.0540968, 0.0940098, 0.0155621, 0.00497211, 0.460636, 0.439517, 0.132232, 0.100723, 0.095008, 0.0209719, 0.0164011, 0.0516313, 0.0430916, 0.0430916, 0.0940098, 0.100723, 0.118262, 0.0490002, 0.100723, 0.0430916, 0.0430916, 0.100723, 0.113425, 0.0592891, 0.100723, 0.100723, 0.100723, 0.0279348, 0.00142419, 0.119575, 0.626271, 0.0134023, 0.100723, 0.0578291, 0.100723, 0.100723, 0.100723, 0.100723, 0.100723, 0.100723, 0.0940098, 0.100723, 0.100723, 0.100723, 0.100723, 0.0490002, 0.0966196, 0.430774, 0.308526, 0.100723, 0.000241934, 0.0867314, 0.437529, 0.248811, 0.100723, 0.100723, 0.100723, 0.0279348, 0.132232, 0.100723, 0.100723, 0.100723, 0.100723, 0.100723, 0.100723, 0.100723, 0.100723, 0.100723, 0.100723, 0.119575, 0.0472344, 0.298753, 0.100723, 0.100723, 0.100723, 0.0284975, 0.100723, 0.100723, 0.100723, 0.100723, 0.100723, 0.100723, 0.100723],\n",
       "        [0.0894578, 0.820211, 0.400793, 0.383908, 0.373634, 0.816126, 0.0332967, 0.0894578, 0.383908, 0.0105489, 0.0726628, 0.159045, 0.345603, 0.0517891, 0.135242, 0.638984, 0.0667325, 0.151848, 0.151487, 0.0979825, 0.153134, 0.250743, 0.128361, 0.140226, 0.167678, 4.77854e-06, 0.676168, 0.482565, 0.843095, 0.365705, 0.164271, 0.879706, 0.383908, 0.403042, 0.947809, 0.906479, 0.988073, 0.630153, 0.574832, 0.633368, 0.0833283, 0.517353, 0.681175, 0.672024, 0.250222, 0.383908, 0.408785, 0.857231, 0.187509, 0.685495, 0.0662951, 0.373975, 0.422425, 0.255913, 0.285298, 0.225951, 0.380502, 0.225951, 0.993615, 0.308835, 0.383908, 0.0952192, 0.99978, 0.213809, 0.800768, 0.289518, 0.934265, 0.0956495, 0.213809, 0.394915, 0.286341, 0.79314, 0.356297, 0.569868, 0.383908, 0.383908, 0.356297, 0.00103282, 0.383908, 0.356297, 0.383908, 0.302731, 0.384473, 0.356297, 0.300303, 0.32741, 0.221314, 0.215311, 0.287284, 0.383908, 0.712355, 0.34102, 0.222963, 0.34102, 0.32741, 0.215311, 0.304655, 0.0316735, 0.0393147, 0.251592, 0.383908, 0.236227, 0.500048, 0.423961, 0.20598, 0.356297, 0.356297, 0.32741, 0.383908, 0.382351, 0.579023, 0.383908, 0.356297, 0.356297, 0.383908, 0.42475, 0.156953, 0.383908, 0.383908, 0.383908, 0.707084, 0.119091, 0.214383, 0.0400175, 0.346741, 0.383908, 0.187794, 0.383908, 0.383908, 0.383908, 0.383908, 0.383908, 0.383908, 0.32741, 0.383908, 0.383908, 0.383908, 0.383908, 0.579023, 0.23405, 0.00070912, 0.0189452, 0.383908, 0.000482764, 0.000328037, 0.136515, 0.254179, 0.383908, 0.383908, 0.383908, 0.707084, 0.251592, 0.383908, 0.383908, 0.383908, 0.383908, 0.383908, 0.383908, 0.383908, 0.383908, 0.383908, 0.383908, 0.214383, 0.750683, 0.118895, 0.383908, 0.383908, 0.383908, 0.313266, 0.383908, 0.383908, 0.383908, 0.383908, 0.383908, 0.383908, 0.383908],\n",
       "        [0.0800563, 0.00346, 0.0341198, 0.377447, 0.0535356, 0.019247, 0.0724173, 0.0800563, 0.377447, 0.0629464, 0.00815138, 0.0208507, 1.81842e-06, 3.57574e-06, 0.0036896, 0.000915028, 0.000227261, 0.0036491, 0.045442, 0.000561736, 0.152311, 0.000897287, 0.000184965, 0.000566649, 0.0306392, 0.847212, 0.00316281, 0.0109425, 4.14826e-05, 0.000129885, 0.228449, 0.000200145, 0.377447, 0.000443609, 4.83679e-07, 0.00044237, 1.23738e-05, 0.00579036, 0.0174306, 0.052467, 0.11683, 0.00283282, 0.000617659, 0.000398337, 0.000374824, 0.377447, 0.0179409, 0.00345683, 0, 0.00267836, 0.0400679, 0.038046, 0.0262039, 1.17797e-06, 0.0281305, 0.0192264, 0.0154228, 0.0192264, 0.0032073, 0.00529891, 0.377447, 0.224568, 2.70443e-06, 0.289782, 0.0161573, 0.0286859, 0.0310905, 0.620509, 0.289782, 1.12499e-06, 0.0534816, 0.0278797, 0.0184379, 0.170149, 0.377447, 0.377447, 0.0184379, 0.727551, 0.377447, 0.0184379, 0.377447, 0.0418352, 0.000267797, 0.0184379, 0.000799866, 0.1548, 0.0200369, 0.0063497, 3.0694e-06, 0.377447, 0.00129362, 0.0628149, 0.0521158, 0.0628149, 0.1548, 0.0063497, 0.00253805, 0.200401, 0.452444, 0.252898, 0.377447, 0.212894, 0.0385555, 0.05063, 0.0972831, 0.0184379, 0.0184379, 0.1548, 0.377447, 0.273358, 0.244621, 0.377447, 0.0184379, 0.0184379, 0.377447, 0.138652, 0.139436, 0.377447, 0.377447, 0.377447, 0.0323562, 0.000511581, 0.115722, 0.115736, 0.00737376, 0.377447, 0.0608661, 0.377447, 0.377447, 0.377447, 0.377447, 0.377447, 0.377447, 0.1548, 0.377447, 0.377447, 0.377447, 0.377447, 0.244621, 0.125651, 0.0671491, 0.0696262, 0.377447, 0.999275, 0.912933, 0.402843, 0.208016, 0.377447, 0.377447, 0.377447, 0.0323562, 0.252898, 0.377447, 0.377447, 0.377447, 0.377447, 0.377447, 0.377447, 0.377447, 0.377447, 0.377447, 0.377447, 0.115722, 0.168464, 0.0243594, 0.377447, 0.377447, 0.377447, 0.0219019, 0.377447, 0.377447, 0.377447, 0.377447, 0.377447, 0.377447, 0.377447]]), 'most_likely_positions_1D': None}),\n",
       " DynamicContainer({'p_x_given_n': array([[0.137922, 0.0247611, 0.137922, 0.55032, 0.22603, 0.137922, 0.00382617, 0.794535, 0.0938332, 0.0886524, 0.400854, 0.214309, 0.228114, 0.929467, 0.373854, 0.389973, 0.137922, 0.258565, 0.019923, 0.363278, 0.00811628, 0.22603, 0.0436939, 0.137922, 0.42378, 0.137922, 0.258565, 0.351316, 0.458819, 0.615716, 0.137922, 0.137922, 0.0483196, 5.15788e-05, 0.351316, 0.14999, 0.0773593, 0.000217014, 1.27611e-16, 0.0109342, 0.137922, 0.137922, 0.245411, 0.17725, 0.410292, 0.137922, 0.137922, 0.140238, 0.0892225, 0.137922, 0.258565, 0.000651582, 0.285255, 0.105693, 0.173186, 1.60169e-05, 0.000910219, 0.0336676, 2.87933e-05, 7.41162e-41, 6.82314e-14, 0.00351739, 1.14444e-13, 1.53759e-28, 3.13274e-09, 4.49744e-05, 0.0896692, 1.11069e-22, 0.000877984, 2.99457e-09, 0.0020769, 5.87203e-14, 0.005128, 2.96151e-08, 1.15555e-05, 0.433265, 1.07653e-08, 4.05805e-07, 1.56237e-06, 0.0129069, 2.18277e-07, 2.78058e-11, 9.97938e-08, 0.168301, 0.0163446, 1.44531e-08, 7.8339e-07, 3.70368e-17, 1.89854e-15, 2.83456e-09, 0.330493, 0.17093, 0.1108, 0.000481357, 0.053604, 4.27104e-09, 1.75601e-17, 0.288994, 0.000429526, 8.81833e-05, 0.00040603, 0.842289, 0.444999, 0.0362369, 1.1773e-09, 3.41765e-11, 9.61044e-05, 2.74893e-06, 3.33333e-12, 9.93751e-15, 5.13899e-05, 0.0576612, 1.75994e-08, 4.55919e-08, 8.52627e-09, 0.000931771, 6.6799e-08, 4.42194e-10, 0.0263608, 8.84135e-07, 6.1708e-14, 1.26052e-14, 5.97753e-06, 4.67398e-06, 2.16953e-07, 0.0662695, 3.1178e-07, 0.261724, 0.0226747, 0.000325837, 3.86854e-05, 0.0250273, 0.0134449, 0.015744, 3.83657e-05, 0.000368877, 8.99311e-06, 0.115339, 0.137922, 2.19907e-05, 0.0226747, 2.88274e-07, 0.00322686, 0.0240653, 0.137922, 0.0031645, 2.33783e-05, 0.00228718, 1.65345e-05, 1.3399e-09, 0.00120424, 0.528824, 0.0924719, 7.47528e-05, 0.137922, 0.0226747, 0.137922, 1.19069e-05, 0.00169753, 0.000325837, 0.00181957, 0.0903603, 0.00169753, 6.67937e-07, 0.137922, 0.0240653, 0.0567062, 0.193706, 0.0111958, 0.0143489, 1.4399e-08, 0.007522, 0.00872514, 0.000758825, 0.00169753, 0.0924719, 0.0028405, 1.58959e-06, 0.000130223, 0.11525, 0.137013, 0.137922, 0.137922, 0.137922, 0.137922, 0.0390207, 0.137922, 0.137922, 0.55032, 0.55032, 0.137922, 0.137922],\n",
       "        [0.100723, 0.526581, 0.100723, 0.119575, 0.118262, 0.100723, 0.203869, 0.0184679, 0.0334956, 0.00156952, 0.206427, 0.192064, 0.274327, 0.0320254, 0.0856649, 0.0664098, 0.100723, 0.412828, 0.211091, 0.132232, 0.475007, 0.118262, 0.258021, 0.100723, 0.0940098, 0.100723, 0.412828, 0.344067, 0.367783, 0.102406, 0.100723, 0.100723, 0.904651, 0.213804, 0.344067, 0.377022, 0.406861, 0.20875, 0.00219614, 0.0849483, 0.100723, 0.100723, 0.497896, 0.224378, 0.268426, 0.100723, 0.100723, 0.566857, 0.636449, 0.100723, 0.412828, 0.444375, 0.333284, 0.584984, 0.266543, 0.00172488, 0.967103, 0.567593, 0.0987818, 3.131e-09, 0.00469569, 0.207317, 0.000836438, 4.98554e-05, 0.949286, 0.464689, 0.00460258, 0.000229985, 0.344949, 0.436776, 0.340164, 8.34213e-05, 0.250755, 0.971025, 0.983108, 0.162823, 0.078191, 0.489691, 0.101022, 0.000763126, 5.99473e-05, 0.0215386, 0.331624, 0.725985, 0.0389842, 0.0619397, 0.0924245, 5.22345e-22, 4.88232e-07, 0.180288, 0.499993, 0.250816, 0.32125, 0.474445, 0.105257, 3.79092e-10, 1.79654e-17, 0.248811, 0.0100276, 0.000253717, 8.22072e-06, 0.0022148, 0.191725, 0.0783321, 9.71719e-12, 0.0122997, 0.142297, 5.49774e-13, 1.06254e-17, 2.87204e-06, 0.0911869, 0.000364856, 3.65048e-10, 0.0252431, 0.0474234, 3.82279e-07, 1.66088e-09, 9.0666e-07, 0.513918, 0.168806, 1.71589e-09, 3.03162e-09, 3.76301e-05, 0.0134326, 0.158232, 0.436954, 0.001566, 0.19776, 0.631148, 0.528109, 0.551676, 0.718215, 0.844091, 0.5814, 0.393202, 0.574149, 0.581027, 0.526657, 0.100723, 0.479983, 0.631148, 0.271196, 0.390561, 0.289229, 0.100723, 0.488936, 0.422595, 0.774178, 0.538382, 0.00718702, 0.310572, 0.168477, 0.609048, 0.558942, 0.100723, 0.631148, 0.100723, 0.355434, 0.444144, 0.528109, 0.549984, 0.406049, 0.444144, 0.252761, 0.100723, 0.289229, 0.48564, 0, 0.801472, 0.550051, 0.101431, 0.64373, 0.768085, 0.328129, 0.444144, 0.609048, 0.694185, 4.43655e-06, 0.00522473, 0.395703, 0.183226, 0.100723, 0.100723, 0.100723, 0.100723, 0.73928, 0.100723, 0.100723, 0.119575, 0.119575, 0.100723, 0.100723],\n",
       "        [0.383908, 0.000248965, 0.383908, 0.214383, 0.382351, 0.383908, 0.000151839, 0.166196, 0.802531, 0.905287, 0.164271, 0.397349, 0.152535, 0.0146164, 0.42717, 0.418739, 0.383908, 0.0733136, 0.0307768, 0.251592, 0.00247248, 0.382351, 0.00879107, 0.383908, 0.32741, 0.383908, 0.0733136, 0.0543083, 0.00737512, 0.111089, 0.383908, 0.383908, 0.00873374, 3.34115e-05, 0.0543083, 0.0634751, 0.0145647, 9.72538e-05, 1.73733e-10, 0.132368, 0.383908, 0.383908, 0.0475516, 0.181043, 0.217397, 0.383908, 0.383908, 0.0434774, 0.00841408, 0.383908, 0.0733136, 0.00128527, 0.0381638, 0.0162967, 0.157008, 7.59887e-09, 0.00280202, 0.0132139, 0.000284698, 3.38536e-22, 1.57739e-18, 0.00331309, 1.83736e-12, 1.18165e-15, 2.92894e-17, 0.000117116, 0.153139, 4.93285e-12, 0.00200407, 5.35829e-08, 0.0173831, 3.56189e-07, 0.0126355, 3.38444e-14, 7.9766e-05, 0.238779, 5.72534e-07, 2.77782e-07, 2.2313e-05, 0.970647, 0.000166904, 3.45743e-16, 5.90034e-07, 0.0332967, 0.112907, 6.9162e-07, 6.38826e-05, 8.38497e-06, 2.17596e-10, 1.89678e-07, 0.0894578, 0.0716433, 0.128954, 0.0170526, 0.376629, 0.00281966, 1.316e-08, 0.254179, 0.0313641, 0.0975537, 0.00032669, 0.151848, 0.147576, 0.23099, 2.30793e-06, 7.64274e-06, 0.000585687, 0.00366189, 1.15522e-05, 6.18186e-07, 0.0433531, 0.168745, 5.50755e-06, 0.000124765, 8.56934e-05, 0.00781287, 4.26146e-06, 0.000363332, 0.0304804, 8.00753e-05, 1.21631e-06, 8.78566e-08, 0.00127161, 9.56132e-05, 0.00214699, 0.193704, 0.000233192, 0.20758, 0.0475906, 0.0147218, 0.00342972, 0.0487658, 0.00995384, 0.0826779, 0.00851439, 0.00777158, 0.0201594, 0.15463, 0.383908, 0.00151506, 0.0475906, 0.000567918, 0.0896864, 0.204955, 0.383908, 0.0691352, 0.0104358, 0.0374515, 0.135968, 0.0109792, 0.67762, 0.154657, 0.182743, 0.00394833, 0.383908, 0.0475906, 0.383908, 0.00651154, 0.0531659, 0.0147218, 0.0321839, 0.213809, 0.0531659, 0.000508472, 0.383908, 0.204955, 0.353433, 0.583877, 0.0083126, 0.0653347, 0.000521471, 0.126141, 0.14066, 0.0964561, 0.0531659, 0.182743, 0.247164, 7.14263e-05, 0.0668015, 0.103818, 0.614792, 0.383908, 0.383908, 0.383908, 0.383908, 0.0290846, 0.383908, 0.383908, 0.214383, 0.214383, 0.383908, 0.383908],\n",
       "        [0.377447, 0.448409, 0.377447, 0.115722, 0.273358, 0.377447, 0.792153, 0.0208006, 0.07014, 0.00449082, 0.228449, 0.196278, 0.345025, 0.0238908, 0.113311, 0.124878, 0.377447, 0.255293, 0.738209, 0.252898, 0.514404, 0.273358, 0.689494, 0.377447, 0.1548, 0.377447, 0.255293, 0.250309, 0.166023, 0.17079, 0.377447, 0.377447, 0.0382957, 0.786111, 0.250309, 0.409513, 0.501215, 0.790936, 0.997804, 0.771749, 0.377447, 0.377447, 0.209141, 0.417329, 0.103884, 0.377447, 0.377447, 0.249428, 0.265915, 0.377447, 0.255293, 0.553689, 0.343297, 0.293026, 0.403262, 0.998259, 0.0291846, 0.385526, 0.900905, 1, 0.995304, 0.785852, 0.999164, 0.99995, 0.0507143, 0.535149, 0.752589, 0.99977, 0.652169, 0.563224, 0.640376, 0.999916, 0.731481, 0.0289745, 0.016801, 0.165133, 0.921808, 0.510308, 0.898954, 0.0156834, 0.999773, 0.978461, 0.668375, 0.0724173, 0.831764, 0.93806, 0.907511, 0.999992, 1, 0.819712, 0.0800563, 0.506611, 0.438995, 0.508021, 0.464509, 0.99718, 1, 0.208016, 0.958179, 0.902104, 0.999259, 0.0036491, 0.2157, 0.654441, 0.999998, 0.987693, 0.857021, 0.996335, 0.999988, 0.999997, 0.865409, 0.773229, 0.999994, 0.974632, 0.952491, 0.991255, 0.999996, 0.999636, 0.429241, 0.831113, 0.999999, 1, 0.998685, 0.986467, 0.83962, 0.303073, 0.9982, 0.332935, 0.298587, 0.456843, 0.444856, 0.207992, 0.13251, 0.320178, 0.598245, 0.41771, 0.398805, 0.203374, 0.377447, 0.518479, 0.298587, 0.728235, 0.516526, 0.481751, 0.377447, 0.438764, 0.566945, 0.186083, 0.325633, 0.981834, 0.0106039, 0.148042, 0.115737, 0.437035, 0.377447, 0.298587, 0.377447, 0.638043, 0.500992, 0.456843, 0.416012, 0.289782, 0.500992, 0.74673, 0.377447, 0.481751, 0.10422, 0.222417, 0.17902, 0.370266, 0.898047, 0.222606, 0.0825306, 0.574656, 0.500992, 0.115737, 0.0558106, 0.999923, 0.927844, 0.385228, 0.0649696, 0.377447, 0.377447, 0.377447, 0.377447, 0.192614, 0.377447, 0.377447, 0.115722, 0.115722, 0.377447, 0.377447]]), 'most_likely_positions_1D': None}),\n",
       " DynamicContainer({'p_x_given_n': array([[0.632633, 0.293842, 0.137922, 0.137922, 0.652446, 0.000155262, 2.44116e-06, 0.422785, 0.314943, 0.116871, 0.880733, 0.137922, 0.509197, 0.422044, 0.0529951, 0.374945, 0.137922, 0.509197, 4.52092e-07, 0.0045597, 0.595023, 0.100444, 0.233494, 0.030757, 0.291676, 0.484445, 0.319951, 0.00504441, 0.00997752, 0.00179417, 0.444877, 0.0313416, 0.449358, 0.239203, 3.93556e-06, 0.536077, 0.40772, 0.150986, 0.0907444, 0.646243, 0.639813, 0.343435, 0.0999819, 0.614262, 0.167201, 0.578767, 0.20006, 0.249607, 0.594861, 0.137922, 0.385206, 0.0756337, 0.647614, 0.137922, 0.70802, 0.560307, 0.000423846, 0.00064215, 0.232625, 0.0394748, 0.232625, 0.064965, 0.232625, 0.319444, 0.137922, 0.0120548, 0.0159572, 0.191641, 0.277524, 0.638139, 0.00132824, 0.0595459, 0.0236469, 0.137922, 0.089763, 0.42378, 0.089763, 0.137922, 0.137922, 0.693972, 0.597243, 0.410292, 0.137922, 0.137922, 0.582173, 0.42378, 0.354212, 0.089019, 0.137922, 0.911231, 0.636334, 0.557993, 0.364953, 0.582173, 0.582173, 0.137922, 0.374911, 0.455871, 0.363278, 0.137922, 0.137922, 0.42378, 0.137922, 0.42378, 0.137922, 0.632483, 0.542068, 0.232625, 0.137922, 0.42378, 0.42378, 0.137922, 0.410292, 0.363278, 0.582173, 0.587533, 0.442496, 0.548085, 0.137922, 0.137922, 0.137922, 0.259421, 0.410292, 0.137922, 0.42378, 0.0238683, 0.137922, 0.42378, 0.137922, 0.137922, 0.22603, 0.0335139, 0.719141, 0.137922, 0.137922, 0.137922, 0.42378, 0.42378, 0.42378, 0.42378, 0.137922, 0.137922, 0.410292, 0.543679, 0.137922, 0.137922, 0.137922, 0.137922, 0.137922, 0.137922, 0.182725, 7.66932e-05, 0.560307, 0.232625, 0.137922, 0.137922, 0.22603, 0.334407, 0.137922, 0.137922, 0.137922, 0.137922, 0.448195, 0.448195, 0.137922, 0.137922],\n",
       "        [0.0156773, 0.340337, 0.100723, 0.100723, 0.0277439, 1.08686e-09, 1.60878e-05, 0.0325737, 0.427908, 0.0818333, 0.0322267, 0.100723, 0.0558906, 0.138558, 6.93952e-11, 0.440935, 0.100723, 0.0558906, 3.51707e-15, 1.1391e-11, 0.00905241, 6.17911e-06, 0.015309, 6.35976e-08, 7.75342e-10, 0.000561237, 0.000445311, 2.56593e-09, 1.55252e-07, 4.5418e-06, 1.91047e-07, 2.04848e-07, 1.35131e-07, 0.139857, 5.38041e-05, 5.89503e-08, 0.0317586, 0.000489957, 4.37257e-16, 5.70571e-06, 0.00965842, 0.592874, 1.26272e-11, 0.0459157, 1.80023e-08, 0.228938, 2.12858e-06, 2.08099e-08, 0.0917106, 0.100723, 0.243728, 1.95059e-12, 0.00230874, 0.100723, 0.000145517, 0.0477879, 0.00182729, 0.000135181, 0.0279348, 7.88009e-07, 0.0279348, 4.7183e-07, 0.0279348, 0.000384262, 0.100723, 1.64527e-05, 0.0016507, 0.706955, 0.453825, 0.155754, 6.93908e-05, 0.000109896, 0.077033, 0.100723, 0.170219, 0.0940098, 0.170219, 0.100723, 0.100723, 0.00492564, 0.0126324, 0.268426, 0.100723, 0.100723, 0.0430916, 0.0940098, 0.271181, 0.202676, 0.100723, 0.00878941, 0.0284975, 0.298753, 0.0213185, 0.0430916, 0.0430916, 0.100723, 0.0197259, 0.095008, 0.132232, 0.100723, 0.100723, 0.0940098, 0.100723, 0.0940098, 0.100723, 0.0134023, 0.0540968, 0.0279348, 0.100723, 0.0940098, 0.0940098, 0.100723, 0.268426, 0.132232, 0.0430916, 0.0640668, 0.0958462, 0.0328303, 0.100723, 0.100723, 0.100723, 0.062162, 0.268426, 0.100723, 0.0940098, 0.0162487, 0.100723, 0.0940098, 0.100723, 0.100723, 0.118262, 0.880496, 0.0355444, 0.100723, 0.100723, 0.100723, 0.0940098, 0.0940098, 0.0940098, 0.0940098, 0.100723, 0.100723, 0.268426, 0.0966196, 0.100723, 0.100723, 0.100723, 0.100723, 0.100723, 0.100723, 0.0457336, 0.385579, 0.0477879, 0.0279348, 0.100723, 0.100723, 0.118262, 0.0386215, 0.100723, 0.100723, 0.100723, 0.100723, 0.102386, 0.102386, 0.100723, 0.100723],\n",
       "        [0.339057, 0.186695, 0.383908, 0.383908, 0.286304, 0.9976, 0.0100835, 0.492403, 0.0333477, 0.140183, 0.0794569, 0.383908, 0.400793, 0.41176, 0.947005, 0.0863928, 0.383908, 0.400793, 0.999997, 0.99544, 0.380502, 0.899133, 0.748165, 0.969239, 0.708322, 0.51431, 0.677265, 0.994955, 0.99001, 0.99805, 0.555118, 0.968518, 0.550642, 0.373288, 0.0489647, 0.463911, 0.519788, 0.843212, 0.909255, 0.35354, 0.330022, 0.0473562, 0.900018, 0.286341, 0.832799, 0.14811, 0.799864, 0.750392, 0.285298, 0.383908, 0.17268, 0.924366, 0.348933, 0.383908, 0.290443, 0.31201, 0.953488, 0.999121, 0.707084, 0.960374, 0.707084, 0.935034, 0.707084, 0.675862, 0.383908, 0.987902, 0.967535, 0.0430359, 0.139779, 0.0986743, 0.99628, 0.937397, 0.839681, 0.383908, 0.569868, 0.32741, 0.569868, 0.383908, 0.383908, 0.300303, 0.374056, 0.217397, 0.383908, 0.383908, 0.356297, 0.32741, 0.186723, 0.171585, 0.383908, 0.0742118, 0.313266, 0.118895, 0.595856, 0.356297, 0.356297, 0.383908, 0.54995, 0.236227, 0.251592, 0.383908, 0.383908, 0.32741, 0.383908, 0.32741, 0.383908, 0.346741, 0.34102, 0.707084, 0.383908, 0.32741, 0.32741, 0.383908, 0.217397, 0.251592, 0.356297, 0.281544, 0.389828, 0.332716, 0.383908, 0.383908, 0.383908, 0.425545, 0.217397, 0.383908, 0.32741, 0.899355, 0.383908, 0.32741, 0.383908, 0.383908, 0.382351, 0.0481764, 0.215044, 0.383908, 0.383908, 0.383908, 0.32741, 0.32741, 0.32741, 0.32741, 0.383908, 0.383908, 0.217397, 0.23405, 0.383908, 0.383908, 0.383908, 0.383908, 0.383908, 0.383908, 0.542439, 1.4009e-05, 0.31201, 0.707084, 0.383908, 0.383908, 0.382351, 0.42071, 0.383908, 0.383908, 0.383908, 0.383908, 0.288153, 0.288153, 0.383908, 0.383908],\n",
       "        [0.0126331, 0.179126, 0.377447, 0.377447, 0.0335064, 0.0022447, 0.989898, 0.0522391, 0.223801, 0.661113, 0.0075832, 0.377447, 0.0341198, 0.0276372, 1.09092e-07, 0.0977266, 0.377447, 0.0341198, 2.36432e-06, 9.12913e-10, 0.0154228, 0.000417539, 0.0030324, 4.25176e-06, 1.77588e-06, 0.000683547, 0.00233834, 7.12409e-07, 1.20274e-05, 0.000151406, 4.74606e-06, 0.000140334, 2.2571e-08, 0.247652, 0.950978, 1.18757e-05, 0.0407337, 0.00531277, 6.01167e-07, 0.000211324, 0.0205069, 0.0163349, 7.16396e-08, 0.0534816, 3.4275e-07, 0.0441855, 7.34645e-05, 9.09144e-07, 0.0281305, 0.377447, 0.198386, 3.92657e-07, 0.00114476, 0.377447, 0.00139174, 0.0798953, 0.0442611, 0.000102041, 0.0323562, 0.000150158, 0.0323562, 7.25578e-08, 0.0323562, 0.00430904, 0.377447, 2.68521e-05, 0.0148567, 0.0583673, 0.128873, 0.107432, 0.00232195, 0.00294693, 0.0596393, 0.377447, 0.170149, 0.1548, 0.170149, 0.377447, 0.377447, 0.000799866, 0.0160682, 0.103884, 0.377447, 0.377447, 0.0184379, 0.1548, 0.187884, 0.53672, 0.377447, 0.00576784, 0.0219019, 0.0243594, 0.0178724, 0.0184379, 0.0184379, 0.377447, 0.055413, 0.212894, 0.252898, 0.377447, 0.377447, 0.1548, 0.377447, 0.1548, 0.377447, 0.00737376, 0.0628149, 0.0323562, 0.377447, 0.1548, 0.1548, 0.377447, 0.103884, 0.252898, 0.0184379, 0.0668563, 0.0718292, 0.086368, 0.377447, 0.377447, 0.377447, 0.252872, 0.103884, 0.377447, 0.1548, 0.0605282, 0.377447, 0.1548, 0.377447, 0.377447, 0.273358, 0.0378133, 0.0302699, 0.377447, 0.377447, 0.377447, 0.1548, 0.1548, 0.1548, 0.1548, 0.377447, 0.377447, 0.103884, 0.125651, 0.377447, 0.377447, 0.377447, 0.377447, 0.377447, 0.377447, 0.229102, 0.614331, 0.0798953, 0.0323562, 0.377447, 0.377447, 0.273358, 0.206262, 0.377447, 0.377447, 0.377447, 0.377447, 0.161266, 0.161266, 0.377447, 0.377447]]), 'most_likely_positions_1D': None}),\n",
       " DynamicContainer({'p_x_given_n': array([[0.137922, 0.655375, 0.137922, ..., 0.847838, 0.919281, 0.0567429],\n",
       "        [0.100723, 0.0526425, 0.100723, ..., 0.0500419, 0.000110738, 0.321544],\n",
       "        [0.383908, 0.188385, 0.383908, ..., 0.0922899, 0.0805134, 0.365445],\n",
       "        [0.377447, 0.103598, 0.377447, ..., 0.00982997, 9.53236e-05, 0.256268]]), 'most_likely_positions_1D': None}),\n",
       " DynamicContainer({'p_x_given_n': array([[0.448195, 0.137922, 0.226349, 0.68749, 0.830448, 0.473247, 0.415741, 0.137922, 0.110234, 0.18554, 0.422785, 0.57283, 0.137922, 0.258565, 0.137922, 0.137922, 0.579086, 0.474776, 3.36622e-06, 0.00727611, 0.632633, 0.137922, 0.137922, 0.137922, 0.406146, 0.137922, 0.57283, 0.503753, 0.57283, 0.137922, 0.128191, 1.74727e-05, 2.11342e-06, 0.0798676, 0.57283, 0.137922, 0.309443, 0.137922, 0.137922, 0.137922, 0.216276, 0.547567, 0.885136, 0.22603, 0.57283, 0.137922, 0.28597, 0.365088, 0.137922, 0.137922, 0.474776, 0.91885, 0.22603, 0.560307, 0.509197, 6.58491e-07, 7.63348e-07, 0.000252102, 0.474776, 0.547567, 0.515999, 0.454903, 0.330493, 0.509197, 0.00110213, 0.0383894, 0.000623802, 0.418691, 0.168684, 0.00214077, 0.455262, 0.803579, 0.34096, 0.623059, 0.101479, 0.00632965, 0.735324, 0.119355, 0.152312, 0.322444, 0.0155106, 0.644817, 0.0024971, 0.449435, 0.0948871, 0.000964657, 0.0329128, 0.0955863, 0.292427, 0.0386212, 0.708836, 0.418482, 0.653285, 0.00900356, 0.777196, 0.81726, 0.431279, 0.427175, 0.0731355, 0.719914, 0.862676, 0.279482, 0.0342642, 0.144885, 0.137922, 0.12623, 0.753759, 0.65267, 0.570261, 0.570261, 0.346685, 0.367132, 0.000330563, 0.137922, 0.570261, 0.0710869, 0.0679743, 0.0903603, 0.232625, 0.137922, 0.0632503, 0.0500353, 0.691688, 0.137922, 0.369889, 0.00212208, 0.000373699, 0.137922, 0.245802, 0.0360219, 0.42378, 0.674899, 0.410292, 0.137922, 0.089763, 0.632483, 0.401329, 0.089019, 0.137922, 0.693972, 0.582173, 0.951487, 0.137922, 0.582173, 0.582173, 0.42378, 0.338324, 0.371283, 0.385244, 0.542068, 0.80397, 0.542068, 0.42378, 0.687835, 0.640244, 0.904222, 0.38379, 0.580623, 0.42378, 0.137922, 0.55032, 0.137922, 0.825387, 0.150146, 0.137922, 0.55032, 0.137922, 0.137922, 0.518892, 0.363278, 0.137922, 0.137922, 0.137922, 0.137922, 0.137922, 0.137922, 0.22603, 0.334407, 0.297129, 0.348506, 0.137922, 0.137922, 0.137922, 0.137922, 0.583635, 0.137922, 0.137922, 0.137922, 0.455871, 0.137922, 0.137922, 0.089019, 2.87055e-07, 5.27475e-15, 7.5902e-08, 0.0524687, 0.137922, 0.137922, 0.441805, 0.192163, 0.55032, 0.42378],\n",
       "        [0.102386, 0.100723, 0.173815, 1.76415e-05, 0.0412595, 0.179519, 0.12896, 0.100723, 0.0898837, 1.12305e-05, 0.0325737, 0.0743205, 0.100723, 0.412828, 0.100723, 0.100723, 0.144309, 0.148669, 8.36452e-16, 2.51464e-13, 0.0156773, 0.100723, 0.100723, 0.100723, 0.000441266, 0.100723, 0.0743205, 0.12299, 0.0743205, 0.100723, 0.664816, 0.00134025, 2.60982e-05, 0.122087, 0.0743205, 0.100723, 0.0673049, 0.100723, 0.100723, 0.100723, 0.00114107, 0.00456932, 6.36824e-07, 0.118262, 0.0743205, 0.100723, 0.0794672, 0.405384, 0.100723, 0.100723, 0.148669, 3.35079e-06, 0.118262, 0.0477879, 0.0558906, 5.95981e-12, 5.77064e-10, 0.596039, 0.148669, 0.00456932, 1.87115e-05, 6.82977e-10, 0.499993, 0.0558906, 0.00032714, 2.17608e-11, 1.16171e-09, 0.219602, 0.00232624, 3.17874e-09, 1.53499e-05, 1.09991e-06, 0.0041195, 0.00215491, 9.04928e-12, 1.45707e-14, 0.00105102, 3.65995e-10, 6.2714e-08, 3.8385e-05, 5.23872e-06, 2.89194e-07, 1.12837e-08, 3.15085e-05, 0.0601544, 3.5233e-06, 2.19245e-09, 2.35454e-05, 0.471447, 4.31679e-13, 0.000155467, 0.168997, 0.00051666, 0.0140621, 0.0167353, 3.99218e-06, 9.12202e-05, 7.88226e-05, 2.16769e-11, 0.0713552, 0.00953455, 4.43856e-06, 2.22869e-14, 0.00365762, 0.100723, 1.05389e-05, 0.00106411, 0.109608, 0.0177177, 0.0177177, 0.00102049, 1.85385e-11, 1.53372e-05, 0.100723, 0.0177177, 1.57117e-05, 2.89647e-05, 0.406049, 0.0279348, 0.100723, 0.00511677, 0.00463154, 0.0625665, 0.100723, 0.0408706, 7.8611e-05, 0.000372406, 0.100723, 0.00429188, 0.0276792, 0.0940098, 0.0393532, 0.268426, 0.100723, 0.170219, 0.0134023, 0.0525127, 0.202676, 0.100723, 0.00492564, 0.0430916, 0.00353203, 0.100723, 0.0430916, 0.0430916, 0.0940098, 0.0081626, 0.0833781, 0.00988923, 0.0540968, 0.0374746, 0.0540968, 0.0940098, 0.00497211, 0.0664799, 0.0654975, 0.159327, 0.0732384, 0.0940098, 0.100723, 0.119575, 0.100723, 0.0140945, 0.00829403, 0.100723, 0.119575, 0.100723, 0.100723, 0.0899981, 0.132232, 0.100723, 0.100723, 0.100723, 0.100723, 0.100723, 0.100723, 0.118262, 0.0386215, 0.0154196, 0.298983, 0.100723, 0.100723, 0.100723, 0.100723, 0.0698161, 0.100723, 0.100723, 0.100723, 0.095008, 0.100723, 0.100723, 0.202676, 0.0338953, 2.64086e-08, 1.25352e-07, 0.484615, 0.100723, 0.100723, 0.078925, 0.0393991, 0.119575, 0.0940098],\n",
       "        [0.288153, 0.383908, 0.555272, 0.311614, 0.128195, 0.312265, 0.429532, 0.383908, 0.50104, 0.81424, 0.492403, 0.279092, 0.383908, 0.0733136, 0.383908, 0.383908, 0.254978, 0.320498, 0.999997, 0.992718, 0.339057, 0.383908, 0.383908, 0.383908, 0.592635, 0.383908, 0.279092, 0.201009, 0.279092, 0.383908, 0.109585, 0.00826548, 4.18469e-05, 0.144689, 0.279092, 0.383908, 0.496892, 0.383908, 0.383908, 0.383908, 0.610661, 0.445584, 0.114852, 0.382351, 0.279092, 0.383908, 0.634006, 0.229524, 0.383908, 0.383908, 0.320498, 0.0811382, 0.382351, 0.31201, 0.400793, 0.998646, 0.999999, 0.00170038, 0.320498, 0.445584, 0.483951, 0.545097, 0.0894578, 0.400793, 0.997911, 0.961611, 0.999376, 0.346968, 0.828856, 0.997026, 0.544659, 0.196405, 0.628571, 0.368747, 0.898521, 0.99364, 0.26342, 0.880644, 0.847606, 0.677481, 0.98111, 0.355169, 0.996198, 0.550534, 0.506682, 0.999028, 0.967087, 0.904343, 0.232793, 0.961379, 0.290709, 0.347531, 0.345736, 0.619733, 0.200742, 0.182736, 0.568059, 0.570623, 0.926862, 0.178075, 0.127339, 0.720044, 0.965736, 0.851105, 0.383908, 0.873068, 0.225951, 0.184693, 0.373975, 0.373975, 0.637621, 0.632831, 0.999639, 0.383908, 0.373975, 0.928189, 0.931851, 0.213809, 0.707084, 0.383908, 0.925911, 0.944136, 0.188414, 0.383908, 0.556332, 0.997023, 0.998531, 0.383908, 0.625472, 0.915922, 0.32741, 0.232942, 0.217397, 0.383908, 0.569868, 0.346741, 0.496256, 0.171585, 0.383908, 0.300303, 0.356297, 0.0415742, 0.383908, 0.356297, 0.356297, 0.32741, 0.548662, 0.512516, 0.602738, 0.34102, 0.139965, 0.34102, 0.32741, 0.304655, 0.23943, 0.0207943, 0.110987, 0.221008, 0.32741, 0.383908, 0.214383, 0.383908, 0.15239, 0.798232, 0.383908, 0.214383, 0.383908, 0.383908, 0.227059, 0.251592, 0.383908, 0.383908, 0.383908, 0.383908, 0.383908, 0.383908, 0.382351, 0.42071, 0.63336, 0.139522, 0.383908, 0.383908, 0.383908, 0.383908, 0.255979, 0.383908, 0.383908, 0.383908, 0.236227, 0.383908, 0.383908, 0.171585, 5.29087e-06, 4.436e-08, 0.000676602, 0.125175, 0.383908, 0.383908, 0.334176, 0.646784, 0.214383, 0.32741],\n",
       "        [0.161266, 0.377447, 0.0445647, 0.000878722, 9.80006e-05, 0.0349684, 0.0257671, 0.377447, 0.298842, 0.000208898, 0.0522391, 0.0737571, 0.377447, 0.255293, 0.377447, 0.377447, 0.021627, 0.0560563, 6.34623e-12, 5.45956e-06, 0.0126331, 0.377447, 0.377447, 0.377447, 0.000778029, 0.377447, 0.0737571, 0.172248, 0.0737571, 0.377447, 0.0974085, 0.990377, 0.99993, 0.653356, 0.0737571, 0.377447, 0.126359, 0.377447, 0.377447, 0.377447, 0.171922, 0.00227955, 1.10569e-05, 0.273358, 0.0737571, 0.377447, 0.000556925, 3.20372e-06, 0.377447, 0.377447, 0.0560563, 8.19028e-06, 0.273358, 0.0798953, 0.0341198, 0.00135301, 5.91213e-07, 0.402009, 0.0560563, 0.00227955, 3.17897e-05, 4.70369e-07, 0.0800563, 0.0341198, 0.00065927, 3.95953e-08, 1.5641e-08, 0.0147391, 0.000134467, 0.000832737, 6.38266e-05, 1.52631e-05, 0.0263493, 0.00603842, 1.28827e-08, 3.0462e-05, 0.000205046, 4.76473e-07, 8.18544e-05, 3.66499e-05, 0.00337418, 1.42932e-05, 0.00130512, 2.99378e-08, 0.338276, 3.50131e-06, 2.52781e-07, 4.67495e-05, 0.0033331, 5.34188e-09, 0.000299207, 0.06499, 0.000461721, 0.357201, 0.00532691, 1.10777e-07, 0.000570802, 0.0021236, 2.44388e-06, 0.0306557, 0.000450128, 0.00047007, 1.98429e-08, 0.000351949, 0.377447, 0.000691206, 0.0192264, 0.0530296, 0.038046, 0.038046, 0.0146734, 3.75069e-05, 1.47344e-05, 0.377447, 0.038046, 0.000707969, 0.0001459, 0.289782, 0.0323562, 0.377447, 0.00572224, 0.00119735, 0.0573311, 0.377447, 0.0329083, 0.000776592, 0.000723389, 0.377447, 0.124435, 0.0203767, 0.1548, 0.0528064, 0.103884, 0.377447, 0.170149, 0.00737376, 0.0499022, 0.53672, 0.377447, 0.000799866, 0.0184379, 0.00340692, 0.377447, 0.0184379, 0.0184379, 0.1548, 0.104851, 0.0328229, 0.00212868, 0.0628149, 0.0185904, 0.0628149, 0.1548, 0.00253805, 0.0538462, 0.00948641, 0.345897, 0.125131, 0.1548, 0.377447, 0.115722, 0.377447, 0.00812938, 0.0433272, 0.377447, 0.115722, 0.377447, 0.377447, 0.164051, 0.252898, 0.377447, 0.377447, 0.377447, 0.377447, 0.377447, 0.377447, 0.273358, 0.206262, 0.0540917, 0.212989, 0.377447, 0.377447, 0.377447, 0.377447, 0.0905695, 0.377447, 0.377447, 0.377447, 0.212894, 0.377447, 0.377447, 0.53672, 0.966099, 1, 0.999323, 0.337741, 0.377447, 0.377447, 0.145094, 0.121654, 0.115722, 0.1548]]), 'most_likely_positions_1D': None}),\n",
       " DynamicContainer({'p_x_given_n': array([[0.34249, 0.137922, 0.137922, 0.137922, 0.137922, 0.457719, 0.42378, 0.42378, 0.42378, 0.580623, 0.137922, 0.55032, 0.228114, 0.0801646, 0.137922, 0.137922, 0.22603, 0.222315, 0.115429, 0.137922, 0.218708, 0.604904, 0.762777, 0.652735, 0.137922, 0.73524, 0.00156845, 8.40035e-05, 0.228114, 0.228114, 0.49411, 0.304809, 0.105693, 0.0920526, 0.250197, 0.000279454, 0.55032, 0.636334, 0.42378, 0.0538763, 0.137922, 0.011162, 0.089019, 0.0773593, 0.028263, 0.0389631, 0.105693, 0.137922, 0.00440084, 0.0109896, 0.330493, 0.494434, 8.51535e-25, 0.383111, 0.151787, 0.000700462, 1.19844e-19, 1.20479e-15, 0.0052539, 0.00109852, 7.33359e-18, 1.66562e-21, 0.000999877, 0.00440084, 5.55604e-08, 1.14973e-10, 1.57194e-07, 0.00584952, 0.00206157, 0.000835693, 0.326294, 3.29759e-05, 1.4227e-10, 8.16425e-13, 1.70999e-10, 0.330493, 1.18852e-14, 9.44881e-05, 1.18312e-05, 1.68884e-13, 8.09728e-06, 1.14745e-10, 0.0182728, 0.000684968, 6.35568e-07, 0.000216984, 0.000157973, 0.00247141, 0.000179, 0.526216, 0.0244018, 0.00629084, 2.71506e-13, 6.05654e-15, 0.0208454, 3.21649e-06, 1.26346e-15, 3.7259e-06, 0.520016, 0.0184379, 1.64071e-06, 2.35559e-07, 0.00441884, 0.000204124, 2.26827e-11, 4.96518e-23, 2.43483e-11, 1.34438e-05, 5.75574e-08, 0.00034989, 8.2326e-07, 2.92132e-08, 0.233647, 4.25672e-13, 0.00296422, 0.0644099, 0.444999, 2.74756e-05, 0.11525, 0.0010897, 0.115339, 4.69382e-05, 0.00184279, 0.0903603, 0.00330792, 0.000144551, 0.0035355, 0.000168426, 0.000489308, 2.05633e-07, 0.000677828, 0.0430883, 0.000262555, 0.0226747, 0.00417616, 1.08167e-08, 0.0240653, 0.0250273, 0.00123985, 0.000599812, 4.83883e-06, 0.0239333, 0.137922, 0.65267, 0.55032, 0.0422284, 3.48021e-05, 9.40569e-08, 0.00250866, 1.73383e-05, 0.00201638, 0.417415, 2.59754e-06, 0.125749, 0.0225956, 0.0240653, 0.125749, 0.000135256, 0.137922, 0.125749, 7.19201e-10, 0.0039971, 0.438382, 0.193184, 0.000714322, 0.0590567, 0.0903603, 0.00165433, 0.0031645, 0.00274342, 0.137922, 0.0226747, 0.137922, 0.137922],\n",
       "        [0.044939, 0.100723, 0.100723, 0.100723, 0.100723, 0.0193115, 0.0940098, 0.0940098, 0.0940098, 0.0732384, 0.100723, 0.119575, 0.274327, 0.471942, 0.100723, 0.100723, 0.118262, 0.125878, 0.309741, 0.100723, 0.12849, 0.0913383, 0.0155621, 0.0662477, 0.100723, 0.0359783, 0.373783, 0.896851, 0.274327, 0.274327, 0.403415, 0.540714, 0.584984, 0.794605, 0.244543, 0.924693, 0.119575, 0.0284975, 0.0940098, 0.290411, 0.100723, 0.312289, 0.202676, 0.406861, 0.623058, 0.679114, 0.584984, 0.100723, 0.188811, 0.915792, 0.499993, 0.353261, 2.61791e-07, 4.90583e-08, 0.213933, 0.114573, 0.00105604, 0.0196293, 0.0173839, 0.0133616, 7.06041e-05, 0.00179924, 0.0777823, 0.188811, 0.0267791, 0.886395, 0.198124, 0.255824, 0.200086, 0.00012427, 2.25783e-11, 0.102515, 0.137853, 0.186893, 0.977676, 0.499993, 0.0775369, 0.739617, 0.111864, 3.46739e-10, 0.0201846, 0.173326, 0.415295, 0.00584217, 1.92895e-06, 0.335878, 0.380802, 0.0266408, 2.87158e-07, 0.0133849, 0.726027, 0.0541183, 7.3206e-14, 1.41147e-11, 0.793318, 1.79596e-05, 1.94555e-20, 0.0134777, 0.144138, 0.000464356, 3.0143e-09, 0.0013388, 0.0009789, 8.0143e-06, 2.97246e-10, 7.46233e-10, 0.000301014, 1.08022e-07, 2.74113e-06, 0.0313043, 0.369258, 0.00127671, 0.0160206, 3.31559e-06, 0.0848114, 0.825021, 0.191725, 0.00285175, 0.395703, 0.733354, 0.526657, 0.281651, 0.779358, 0.406049, 0.800344, 0.658743, 0.660693, 0.384479, 0.586315, 0.171106, 0.548292, 0.811929, 0.833114, 0.631148, 0.73566, 0.270971, 0.289229, 0.718215, 0.645075, 0.641744, 0.403845, 0.605426, 0.100723, 0.109608, 0.119575, 0.912233, 0.592135, 0.143846, 0.0013072, 9.93727e-05, 0, 0.156045, 0.223161, 0.554463, 0.189189, 0.289229, 0.554463, 0.415739, 0.100723, 0.554463, 0.0553098, 0.668519, 0.142257, 0.299315, 0.9108, 0.559501, 0.406049, 0.772473, 0.488936, 0.610923, 0.100723, 0.631148, 0.100723, 0.100723],\n",
       "        [0.487065, 0.383908, 0.383908, 0.383908, 0.383908, 0.439589, 0.32741, 0.32741, 0.32741, 0.221008, 0.383908, 0.214383, 0.152535, 0.0210821, 0.383908, 0.383908, 0.382351, 0.281576, 0.0886848, 0.383908, 0.235911, 0.20018, 0.215311, 0.185266, 0.383908, 0.151671, 0.00182102, 4.8778e-07, 0.152535, 0.152535, 0.0306672, 0.0278464, 0.0162967, 0.0122888, 0.155691, 1.97862e-06, 0.214383, 0.313266, 0.32741, 0.038768, 0.383908, 0.102824, 0.171585, 0.0145647, 0.00246764, 0.00424304, 0.0162967, 0.383908, 0.0104363, 6.41043e-05, 0.0894578, 0.0115329, 7.87737e-11, 0.616737, 0.076619, 0.000332805, 4.32262e-08, 4.13834e-19, 0.582787, 0.00316324, 3.30169e-08, 1.23427e-09, 0.00251824, 0.0104363, 1.86614e-07, 2.74703e-10, 5.59506e-06, 0.0142477, 0.0141095, 0.0306567, 0.673703, 0.0007431, 1.41596e-09, 1.86747e-24, 3.52607e-19, 0.0894578, 1.12153e-12, 5.42284e-10, 0.00118584, 7.15386e-05, 0.000147727, 4.35585e-10, 0.0320073, 0.0200322, 0.00147145, 0.000390982, 0.000238849, 0.057466, 0.945597, 0.436998, 0.00613832, 0.0246262, 1.89049e-06, 2.9715e-07, 0.00491302, 0.0171195, 1.3029e-06, 0.000167241, 0.201858, 0.0673831, 6.7895e-05, 0.000114457, 0.0851568, 0.00440423, 3.25393e-07, 1.04568e-10, 0.00023137, 0.000227109, 0.000934122, 0.00207658, 0.00203901, 0.000670396, 0.37074, 1.34846e-06, 0.0687613, 0.0292644, 0.147576, 0.00157394, 0.103818, 0.00602335, 0.15463, 0.0408415, 0.00367954, 0.213809, 0.0430375, 0.0245246, 0.0216978, 0.0362686, 0.271726, 0.00279387, 0.200156, 0.0520108, 0.016817, 0.0475906, 0.0230505, 0.00137608, 0.204955, 0.0487658, 0.113109, 0.0045057, 0.00246606, 0.0459378, 0.383908, 0.184693, 0.214383, 0.0199257, 0.00103489, 0.00102886, 0.00533317, 0.00747755, 0.982829, 0.350003, 0.00772487, 0.0952192, 0.621441, 0.204955, 0.0952192, 0.0196314, 0.383908, 0.0952192, 5.53195e-05, 0.221092, 0.112137, 0.400828, 0.0481776, 0.331463, 0.213809, 0.00403338, 0.0691352, 0.0186223, 0.383908, 0.0475906, 0.383908, 0.383908],\n",
       "        [0.125507, 0.377447, 0.377447, 0.377447, 0.377447, 0.0833806, 0.1548, 0.1548, 0.1548, 0.125131, 0.377447, 0.115722, 0.345025, 0.426811, 0.377447, 0.377447, 0.273358, 0.370231, 0.486145, 0.377447, 0.41689, 0.103578, 0.0063497, 0.0957516, 0.377447, 0.0771103, 0.622828, 0.103064, 0.345025, 0.345025, 0.0718078, 0.126631, 0.293026, 0.101054, 0.349568, 0.0750252, 0.115722, 0.0219019, 0.1548, 0.616944, 0.377447, 0.573725, 0.53672, 0.501215, 0.346212, 0.27768, 0.293026, 0.377447, 0.796352, 0.0731541, 0.0800563, 0.140772, 1, 0.00015195, 0.557661, 0.884393, 0.998944, 0.980371, 0.394575, 0.982377, 0.999929, 0.998201, 0.9187, 0.796352, 0.973221, 0.113605, 0.80187, 0.724079, 0.783743, 0.968383, 3.20497e-06, 0.896709, 0.862147, 0.813107, 0.0223242, 0.0800563, 0.922463, 0.260289, 0.886938, 0.999928, 0.97966, 0.826674, 0.534425, 0.973441, 0.998526, 0.663514, 0.618801, 0.913422, 0.0542242, 0.0234008, 0.243433, 0.914965, 0.999998, 1, 0.180924, 0.982859, 0.999999, 0.986351, 0.133988, 0.913715, 0.99993, 0.998547, 0.909445, 0.995384, 1, 1, 0.999468, 0.999759, 0.999063, 0.966269, 0.628702, 0.998053, 0.379592, 0.999995, 0.843463, 0.0813048, 0.2157, 0.995547, 0.385228, 0.259533, 0.203374, 0.677461, 0.215119, 0.289782, 0.15331, 0.316588, 0.314074, 0.579084, 0.141469, 0.8261, 0.250874, 0.0929723, 0.149806, 0.298587, 0.237113, 0.727653, 0.481751, 0.207992, 0.240577, 0.35315, 0.593684, 0.324703, 0.377447, 0.0530296, 0.115722, 0.0256127, 0.406795, 0.855125, 0.990851, 0.992406, 0.0151544, 0.0765364, 0.769111, 0.224568, 0.166775, 0.481751, 0.224568, 0.564495, 0.377447, 0.224568, 0.944635, 0.106393, 0.307224, 0.106673, 0.0403082, 0.0499795, 0.289782, 0.221839, 0.438764, 0.367711, 0.377447, 0.298587, 0.377447, 0.377447]]), 'most_likely_positions_1D': None}),\n",
       " DynamicContainer({'p_x_given_n': array([[0.0226346, 0.0555581, 0.0196493, ..., 0.560307, 0.137922, 0.137922],\n",
       "        [0.973159, 0.925933, 0.974136, ..., 0.0477879, 0.100723, 0.100723],\n",
       "        [0.00388578, 0.0162361, 0.00220276, ..., 0.31201, 0.383908, 0.383908],\n",
       "        [0.000320165, 0.00227243, 0.00401226, ..., 0.0798953, 0.377447, 0.377447]]), 'most_likely_positions_1D': None}),\n",
       " DynamicContainer({'p_x_given_n': array([[0.53382, 0.448195, 0.363278, 0.137922, 0.137922, 0.517948, 0.517948, 0.137922, 0.137922, 0.137922, 0.42378, 0.55032, 0.78741, 0.137922, 0.22603, 0.30654, 0.42378, 0.363278, 0.22603, 0.42378, 0.985515, 0.228114, 0.137922, 0.363278, 0.319304, 0.530759, 0.314943, 0.22603, 0.42378, 0.871794, 0.0689627, 0.00723534, 0.00240448, 0.137922, 0.22603, 0.137922, 0.363278, 0.455871, 0.125749, 0.137922, 0.137922, 0.137922, 0.137922, 0.632483, 0.610922, 0.0939769, 0.556314, 0.137922, 0.42378, 0.137922, 0.792679, 0.907929, 0.476887, 0.137922, 0.342263, 0.493184, 0.354212, 0.154274, 0.259421, 0.410292, 0.638139, 0.137922, 0.137922, 0.57283, 0.381559, 0.304809, 0.542068, 0.30166, 7.66932e-05, 0.0656747, 0.137922, 0.137922, 0.38379, 0.108832, 0.55032, 0.137922, 0.42378, 8.24094e-05, 0.258565, 0.515303, 0.137922, 0.22603, 0.258565, 0.137922, 0.212405, 0.00282907, 0.256102, 0.354212, 0.089019, 0.138424, 0.400854, 0.00750822, 0.333048, 0.137922, 0.258565, 0.385206, 0.105693, 0.0656747, 0.258565, 1.87239e-05, 0.0967704, 0.258565, 0.0489268, 7.73934e-16, 3.86721e-19, 0.190673, 2.85049e-05, 4.69851e-24, 6.99902e-10, 0.00143215, 1.5712e-12, 1.00063e-07, 2.49119e-12, 0.031288, 1.41601e-05, 6.16515e-18, 7.56903e-09, 1.68703e-12, 6.85263e-05, 0.137922, 5.78192e-07, 0.00580278, 0.0357681, 5.82459e-09, 0.00440084, 9.45893e-06, 0.00555295, 0.00240448, 0.00440084, 0.00426935, 5.11424e-13, 0.137922, 0.00631163, 1.61945e-05, 0.433265, 0.000283653, 4.80399e-05, 0.116081, 1.91037e-05, 1.34207e-07, 0.0276114, 0.0718007, 1.21912e-08, 0.000167076, 1.99293e-05, 0.0244018, 0.00417773, 2.11026e-06, 0.137922, 0.842289, 0.258565, 3.91147e-07, 8.32765e-06, 0.137922, 2.69412e-06, 8.24006e-06, 1.609e-18, 4.92475e-11, 0.444999, 0.0012182, 2.9303e-05, 8.6118e-17, 0.0576612, 0.123937, 2.00332e-07, 4.16688e-06, 0.000470102, 1.45141e-06, 0.0426161, 0.000175382, 9.45763e-05, 0.00169585, 0.137922, 0.000988415, 0.0535085, 0.0209529, 0.00417616, 3.83657e-05, 9.66229e-07, 9.45763e-05, 0.00330792, 6.00099e-07, 0.000758825, 1.86034e-07, 0.0194314, 0.000154448, 0.137922, 0.115339, 0.0292271, 4.90642e-05, 0.000325837, 0.0179049, 0.137013, 0.000241059, 0.271562, 0.00417616, 0.0111958, 0.000846355, 0.00169753, 0.0165989, 0.00169753, 0.0035355, 1.4399e-08, 0.125749, 0.233647, 0.137922, 0.137922, 0.125749, 0.000325837, 0.137922, 0.560307, 0.137922, 0.125749, 0.394018, 0.0226747, 0.125749, 1.38859e-07, 0.000208254, 1.89503e-05, 0.134999, 0.00555681, 0.0118735, 0.0240653, 0.00429261, 0.137922, 0.0226747],\n",
       "        [0.0186119, 0.102386, 0.132232, 0.100723, 0.100723, 0.074118, 0.074118, 0.100723, 0.100723, 0.100723, 0.0940098, 0.119575, 0.0831063, 0.100723, 0.118262, 0.243552, 0.0940098, 0.132232, 0.118262, 0.0940098, 0.00427993, 0.274327, 0.100723, 0.132232, 0.338001, 0.209299, 0.427908, 0.118262, 0.0940098, 0.0479384, 0.916272, 0.519455, 0.276695, 0.100723, 0.118262, 0.100723, 0.132232, 0.095008, 0.554463, 0.100723, 0.100723, 0.100723, 0.100723, 0.0134023, 7.21085e-06, 1.11393e-08, 0.0011366, 0.100723, 0.0940098, 0.100723, 0.00573299, 0.00127788, 0.31187, 0.100723, 0.0519057, 0.292379, 0.271181, 0.168816, 0.062162, 0.268426, 0.155754, 0.100723, 0.100723, 0.0743205, 0.462522, 0.540714, 0.0540968, 0.567531, 0.385579, 0.724025, 0.100723, 0.100723, 0.159327, 0.88811, 0.119575, 0.100723, 0.0940098, 0.764152, 0.412828, 0.233711, 0.100723, 0.118262, 0.412828, 0.100723, 0.164031, 0.387738, 0.454211, 0.271181, 0.202676, 0.830998, 0.206427, 0.298012, 0.442549, 0.100723, 0.412828, 0.243728, 0.584984, 0.724025, 0.412828, 0.0256369, 0.81418, 0.412828, 0.272713, 0.000112868, 0.00115296, 0.347148, 0.00448138, 1.3089e-06, 0.48507, 0.780071, 0.00128727, 4.32531e-07, 0.00159582, 0.399016, 0.334111, 0.00127655, 0.637725, 0.868689, 0.198128, 0.100723, 0.148563, 0.933419, 0.0844181, 0.129969, 0.188811, 0.136634, 0.729813, 0.276695, 0.188811, 0.386239, 0.000100099, 0.100723, 0.756372, 0.189828, 0.162823, 0.431903, 0.736777, 0.000551725, 3.02459e-05, 0.00565594, 0.0959267, 0.655509, 1.87581e-07, 1.28061e-06, 0.0116159, 0.726027, 0.992096, 1.91195e-07, 0.100723, 0.0022148, 0.412828, 8.40697e-18, 0.0414627, 0.100723, 0.0152413, 2.74819e-09, 1.81552e-08, 1.17397e-09, 0.191725, 0.0404093, 0.285206, 4.7551e-06, 0.000364856, 0.0349824, 0.00374218, 0.671484, 0.521276, 0.000582185, 0.50915, 0.14696, 0.505735, 0.430581, 0.100723, 0.0620693, 0.0279689, 0.295839, 0.73566, 0.393202, 0.160751, 0.505735, 0.800344, 0.404175, 0.328129, 0.178217, 0.680794, 0.71314, 0.100723, 0.526657, 0.828001, 0.430229, 0.528109, 0.542539, 0.183226, 0, 0, 0.73566, 0.801472, 0.676931, 0.444144, 0.441167, 0.444144, 0.660693, 0.101431, 0.554463, 0.0160206, 0.100723, 0.100723, 0.554463, 0.528109, 0.100723, 0.0477879, 0.100723, 0.554463, 0.036763, 0.631148, 0.554463, 3.37384e-08, 0, 0, 0.488632, 0.710442, 0.800689, 0.289229, 0.80855, 0.100723, 0.631148],\n",
       "        [0.382375, 0.288153, 0.251592, 0.383908, 0.383908, 0.287814, 0.287814, 0.383908, 0.383908, 0.383908, 0.32741, 0.214383, 0.116014, 0.383908, 0.382351, 0.179612, 0.32741, 0.251592, 0.382351, 0.32741, 0.00848473, 0.152535, 0.383908, 0.251592, 0.0945659, 0.150286, 0.0333477, 0.382351, 0.32741, 0.0296115, 0.000131637, 0.00570026, 0.0191706, 0.383908, 0.382351, 0.383908, 0.251592, 0.236227, 0.0952192, 0.383908, 0.383908, 0.383908, 0.383908, 0.346741, 0.388997, 0.905959, 0.441937, 0.383908, 0.32741, 0.383908, 0.199244, 0.0904691, 0.133824, 0.383908, 0.414803, 0.162905, 0.186723, 0.0859163, 0.425545, 0.217397, 0.0986743, 0.383908, 0.383908, 0.279092, 0.0737133, 0.0278464, 0.34102, 0.029476, 1.4009e-05, 0.00311838, 0.383908, 0.383908, 0.110987, 0.0009645, 0.214383, 0.383908, 0.32741, 3.67215e-06, 0.0733136, 0.0802708, 0.383908, 0.382351, 0.0733136, 0.383908, 0.403399, 0.00250822, 0.00848797, 0.186723, 0.171585, 0.0264866, 0.164271, 0.0527798, 0.0468045, 0.383908, 0.0733136, 0.17268, 0.0162967, 0.00311838, 0.0733136, 2.09892e-07, 0.0449669, 0.0733136, 0.0625409, 1.05606e-08, 2.25995e-13, 0.184709, 0.000184199, 1.94471e-12, 2.15198e-16, 0.00358972, 3.7957e-08, 3.3552e-06, 0.00021841, 0.00390755, 1.94712e-05, 1.12911e-11, 5.21283e-07, 3.01886e-24, 0.00123822, 0.383908, 3.91806e-06, 0.00454929, 0.607575, 5.33477e-08, 0.0104363, 0.000197043, 0.0135171, 0.0191706, 0.0104363, 0.00486283, 2.85608e-06, 0.383908, 0.00202381, 4.43875e-05, 0.238779, 0.00245085, 0.000659782, 0.0252881, 0.0626955, 4.84916e-06, 0.188049, 0.0214675, 0.00129633, 0.0229562, 4.5817e-06, 0.00613832, 0.0010521, 0.0323109, 0.383908, 0.151848, 0.0733136, 0.000600645, 4.85706e-05, 0.383908, 0.00377379, 0.000112339, 1.06701e-09, 8.70569e-08, 0.147576, 0.135318, 0.00804574, 7.92802e-08, 0.168745, 0.274498, 0.000753869, 0.000445571, 0.168008, 0.00201003, 0.11697, 0.000239456, 0.00656793, 0.106459, 0.383908, 0.0515891, 0.915023, 0.23409, 0.0230505, 0.00851439, 0.00911018, 0.00656793, 0.0430375, 0.0205525, 0.0964561, 0.000317208, 0.0816457, 0.0105431, 0.383908, 0.15463, 0.090094, 0.00980866, 0.0147218, 0.056539, 0.614792, 0.84114, 0.623245, 0.0230505, 0.0083126, 0.0055318, 0.0531659, 0.453133, 0.0531659, 0.0216978, 0.000521471, 0.0952192, 0.37074, 0.383908, 0.383908, 0.0952192, 0.0147218, 0.383908, 0.31201, 0.383908, 0.0952192, 0.467431, 0.0475906, 0.0952192, 6.82676e-05, 0.963533, 0.999925, 0.148911, 0.0123079, 0.0103196, 0.204955, 0.132079, 0.383908, 0.0475906],\n",
       "        [0.0651927, 0.161266, 0.252898, 0.377447, 0.377447, 0.12012, 0.12012, 0.377447, 0.377447, 0.377447, 0.1548, 0.115722, 0.01347, 0.377447, 0.273358, 0.270295, 0.1548, 0.252898, 0.273358, 0.1548, 0.00171995, 0.345025, 0.377447, 0.252898, 0.248129, 0.109657, 0.223801, 0.273358, 0.1548, 0.0506562, 0.0146335, 0.467609, 0.70173, 0.377447, 0.273358, 0.377447, 0.252898, 0.212894, 0.224568, 0.377447, 0.377447, 0.377447, 0.377447, 0.00737376, 7.32648e-05, 6.41127e-05, 0.000612292, 0.377447, 0.1548, 0.377447, 0.0023444, 0.000323604, 0.0774181, 0.377447, 0.191028, 0.0515319, 0.187884, 0.590994, 0.252872, 0.103884, 0.107432, 0.377447, 0.377447, 0.0737571, 0.0822055, 0.126631, 0.0628149, 0.101333, 0.614331, 0.207182, 0.377447, 0.377447, 0.345897, 0.00209417, 0.115722, 0.377447, 0.1548, 0.235762, 0.255293, 0.170715, 0.377447, 0.273358, 0.255293, 0.377447, 0.220165, 0.606925, 0.281199, 0.187884, 0.53672, 0.00409175, 0.228449, 0.6417, 0.177598, 0.377447, 0.255293, 0.198386, 0.293026, 0.207182, 0.255293, 0.974344, 0.0440832, 0.255293, 0.615819, 0.999887, 0.998847, 0.27747, 0.995306, 0.999999, 0.51493, 0.214907, 0.998713, 0.999996, 0.998186, 0.565789, 0.665856, 0.998723, 0.362274, 0.131311, 0.800566, 0.377447, 0.851432, 0.0562288, 0.272239, 0.870031, 0.796352, 0.863159, 0.251117, 0.70173, 0.796352, 0.604629, 0.999897, 0.377447, 0.235292, 0.810111, 0.165133, 0.565362, 0.262515, 0.85808, 0.937255, 0.994339, 0.688413, 0.251222, 0.998703, 0.976875, 0.98836, 0.243433, 0.00267393, 0.967687, 0.377447, 0.0036491, 0.255293, 0.999399, 0.95848, 0.377447, 0.980982, 0.999879, 1, 1, 0.2157, 0.823054, 0.706719, 0.999995, 0.773229, 0.566582, 0.995504, 0.328066, 0.310246, 0.997406, 0.331264, 0.852625, 0.487603, 0.461263, 0.377447, 0.885353, 0.00349999, 0.449118, 0.237113, 0.598245, 0.830138, 0.487603, 0.15331, 0.575272, 0.574656, 0.821466, 0.218129, 0.276162, 0.377447, 0.203374, 0.0526778, 0.559913, 0.456843, 0.383017, 0.0649696, 0.158619, 0.105193, 0.237113, 0.17902, 0.316691, 0.500992, 0.0891007, 0.500992, 0.314074, 0.898047, 0.224568, 0.379592, 0.377447, 0.377447, 0.224568, 0.456843, 0.377447, 0.0798953, 0.377447, 0.224568, 0.101788, 0.298587, 0.224568, 0.999932, 0.0362583, 5.58919e-05, 0.227458, 0.271694, 0.177118, 0.481751, 0.0550787, 0.377447, 0.298587]]), 'most_likely_positions_1D': None}),\n",
       " DynamicContainer({'p_x_given_n': array([[0.571836, 0.509197, 0.131178, 0.985186, 0.866968, 0.708836, 0.0275381, 0.137922, 0.440425, 0.364953, 0.137922, 0.137922, 0.241884, 0.0335139, 0.137922, 0.57283, 0.228114, 0.15009, 0.137922, 0.137922, 0.509197, 0.137922, 0.0445651, 0.18761, 0.137922, 0.509197, 0.582097, 0.928861, 0.137922, 0.228114, 0.137922, 0.394221, 0.977014, 0.756762, 0.137922, 0.57283, 0.137922, 0.652446, 0.0170107, 0.258565, 0.137922, 0.258565, 0.688397, 0.0555581, 0.295079, 0.18341, 0.15338, 0.477832, 0.158858, 0.137922, 0.137922, 0.509197, 0.66239, 0.0635534, 0.137922, 0.137922, 0.111592, 0.650859, 0.369853, 0.89633, 0.330493, 0.172534, 0.00549969, 1.26986e-12, 0.137922, 0.509197, 0.137922, 0.691776, 0.517137, 0.330493, 0.137922, 0.484445, 0.000340825, 0.335357, 0.239955, 0.053604, 2.49119e-05, 7.57832e-11, 0.298377, 0.466444, 0.0890817, 0.0397478, 0.0930773, 0.0157733, 0.00325736, 0.0453049, 0.0140589, 0.0982545, 0.353001, 0.0159131, 0.836108, 0.405798, 0.371547, 0.0429974, 0.535397, 0.0444544, 0.328566, 0.465715, 0.000324775, 0.528379, 0.132061, 0.58183, 0.445412, 0.653285, 0.368888, 0.586725, 0.777196, 0.188526, 0.778363, 0.139274, 0.44133, 0.78741, 0.65267, 0.0566503, 0.0216408, 0.648206, 0.570261, 0.65267, 0.648613, 0.000528859, 0.284863, 0.255075, 0.560307, 0.0281561, 0.731428, 0.137922, 0.137922, 0.53285, 0.849649, 0.560307, 0.260137, 0.622716, 0.0372785, 0.470215, 0.532541, 0.622716, 0.622716, 0.0122082, 0.377383, 0.0122082, 0.00500387, 0.614262, 0.582173, 0.516459, 0.594861, 0.137922, 0.107819, 0.745298, 0.560307, 0.546298, 0.137922, 0.626988, 0.440425, 0.548275, 0.582173, 0.137922, 0.582173, 0.687835, 0.67575, 0.754951, 0.582173, 0.632483, 0.22603, 0.42378, 0.715598, 0.418741, 0.687835, 0.42378, 0.22603, 0.137922, 0.632483, 0.137922, 0.137922, 0.137922, 0.552848, 0.363278, 0.582173, 0.137922, 0.42378, 0.137922, 0.724298, 0.582173, 0.137922, 0.137922, 0.363278, 0.977437, 0.22603, 0.137922, 0.137922, 0.137922, 0.137922, 0.137922, 0.594861, 0.137922, 0.137922, 0.137922, 0.228114, 0.580623, 0.22603, 0.137922, 0.137922, 0.638527, 0.836748, 0.137922, 0.137922, 0.137922, 0.22603, 0.457719, 0.363278, 0.137922, 0.137922, 0.137922, 0.137922, 0.22603, 0.582173, 0.137922, 0.137922, 0.137922, 0.55032, 0.493184, 0.338617],\n",
       "        [0.296296, 0.0558906, 0.603968, 2.88175e-06, 3.95014e-06, 0.000155467, 3.4072e-15, 0.100723, 0.0209719, 0.0213185, 0.100723, 0.100723, 0.00391582, 0.880496, 0.100723, 0.0743205, 0.274327, 0.020563, 0.100723, 0.100723, 0.0558906, 0.100723, 1.3201e-08, 7.4159e-07, 0.100723, 0.0558906, 0.0210903, 0.006583, 0.100723, 0.274327, 0.100723, 0.367788, 0.000644717, 0.0449206, 0.100723, 0.0743205, 0.100723, 0.0277439, 4.05552e-06, 0.412828, 0.100723, 0.412828, 0.00983907, 0.925933, 0.63942, 0.38956, 0.147386, 0.0735586, 0.400478, 0.100723, 0.100723, 0.0558906, 0.134635, 0.717855, 0.100723, 0.100723, 0.00943802, 0.0119614, 4.74058e-08, 0.000810734, 0.499993, 0.244902, 0.0140555, 4.10111e-13, 0.100723, 0.0558906, 0.100723, 0.00934975, 0.235867, 0.499993, 0.100723, 0.000561237, 1.55762e-09, 0.451455, 0.274114, 0.105257, 0.000293147, 2.15839e-06, 0.646593, 0.000126918, 4.51914e-10, 3.20915e-07, 8.54227e-07, 5.2831e-05, 2.55299e-09, 1.96464e-07, 0.000147548, 2.3132e-07, 0.00016682, 6.76115e-10, 0.00264956, 0.0696081, 1.47377e-08, 1.52872e-08, 1.6593e-05, 1.21549e-09, 1.53313e-06, 1.95134e-11, 7.48804e-07, 0.153405, 4.6379e-12, 0.00131632, 0.000191181, 0.00051666, 0.237877, 6.37519e-06, 0.0167353, 0.620818, 0.00333542, 3.73204e-05, 3.45137e-06, 0.0831063, 0.109608, 1.47973e-06, 0.000113373, 0.00114505, 0.0177177, 0.109608, 0.00730961, 1.53017e-05, 0.45874, 0.0547148, 0.0477879, 8.61077e-06, 5.82024e-05, 0.100723, 0.100723, 0.129925, 8.05856e-05, 0.0477879, 0.254266, 0.0590801, 0.055854, 0.0102967, 0.00714534, 0.0590801, 0.0590801, 0.112676, 0.0982875, 0.112676, 0.00360344, 0.0459157, 0.0430916, 0.0442525, 0.0917106, 0.100723, 0.0164586, 0.00597774, 0.0477879, 0.019154, 0.100723, 0.100782, 0.0209719, 0.00821306, 0.0430916, 0.100723, 0.0430916, 0.00497211, 0.0831088, 0.0215098, 0.0430916, 0.0134023, 0.118262, 0.0940098, 0.00755093, 0.00569686, 0.00497211, 0.0940098, 0.118262, 0.100723, 0.0134023, 0.100723, 0.100723, 0.100723, 0.0686595, 0.132232, 0.0430916, 0.100723, 0.0940098, 0.100723, 0.034352, 0.0430916, 0.100723, 0.100723, 0.132232, 0.00711304, 0.118262, 0.100723, 0.100723, 0.100723, 0.100723, 0.100723, 0.0917106, 0.100723, 0.100723, 0.100723, 0.274327, 0.0732384, 0.118262, 0.100723, 0.100723, 0.167803, 0.035697, 0.100723, 0.100723, 0.100723, 0.118262, 0.0193115, 0.132232, 0.100723, 0.100723, 0.100723, 0.100723, 0.118262, 0.0430916, 0.100723, 0.100723, 0.100723, 0.119575, 0.292379, 0.45035],\n",
       "        [0.127995, 0.400793, 0.258644, 0.0148111, 0.133026, 0.290709, 0.972454, 0.383908, 0.500048, 0.595856, 0.383908, 0.383908, 0.751438, 0.0481764, 0.383908, 0.279092, 0.152535, 0.637643, 0.383908, 0.383908, 0.400793, 0.383908, 0.954892, 0.812185, 0.383908, 0.400793, 0.267286, 0.063494, 0.383908, 0.152535, 0.383908, 0.117385, 0.0222011, 0.167678, 0.383908, 0.279092, 0.383908, 0.286304, 0.977091, 0.0733136, 0.383908, 0.0733136, 0.274995, 0.0162361, 0.037581, 0.042355, 0.698899, 0.386868, 0.43592, 0.383908, 0.383908, 0.400793, 0.159127, 0.17856, 0.383908, 0.383908, 0.808445, 0.278981, 0.630143, 0.102049, 0.0894578, 0.577209, 0.97255, 6.16587e-06, 0.383908, 0.400793, 0.383908, 0.287619, 0.241801, 0.0894578, 0.383908, 0.51431, 0.999637, 0.139175, 0.113169, 0.376629, 0.519234, 3.33991e-05, 0.0255752, 0.533166, 0.910904, 0.960252, 0.906479, 0.981399, 0.996631, 0.954674, 0.985783, 0.901737, 0.645963, 0.984087, 0.16118, 0.488034, 0.628432, 0.956971, 0.464518, 0.955493, 0.669531, 0.534285, 0.999626, 0.315242, 0.867849, 0.41659, 0.554369, 0.345736, 0.0930432, 0.412819, 0.200742, 0.103035, 0.212946, 0.857231, 0.558558, 0.116014, 0.184693, 0.942157, 0.978097, 0.338733, 0.373975, 0.184693, 0.330113, 0.999452, 0.164572, 0.674508, 0.31201, 0.971831, 0.268414, 0.383908, 0.383908, 0.297773, 0.150269, 0.31201, 0.048451, 0.289518, 0.819926, 0.514066, 0.445737, 0.289518, 0.289518, 0.768348, 0.397215, 0.768348, 0.983317, 0.286341, 0.356297, 0.390626, 0.285298, 0.383908, 0.813964, 0.245949, 0.31201, 0.431103, 0.383908, 0.180375, 0.500048, 0.436949, 0.356297, 0.383908, 0.356297, 0.304655, 0.182833, 0.221645, 0.356297, 0.346741, 0.382351, 0.32741, 0.271356, 0.569011, 0.304655, 0.32741, 0.382351, 0.383908, 0.346741, 0.383908, 0.383908, 0.383908, 0.210623, 0.251592, 0.356297, 0.383908, 0.32741, 0.383908, 0.221314, 0.356297, 0.383908, 0.383908, 0.251592, 0.0122277, 0.382351, 0.383908, 0.383908, 0.383908, 0.383908, 0.383908, 0.285298, 0.383908, 0.383908, 0.383908, 0.152535, 0.221008, 0.382351, 0.383908, 0.383908, 0.168872, 0.106152, 0.383908, 0.383908, 0.383908, 0.382351, 0.439589, 0.251592, 0.383908, 0.383908, 0.383908, 0.383908, 0.382351, 0.356297, 0.383908, 0.383908, 0.383908, 0.214383, 0.162905, 0.124586],\n",
       "        [0.00387396, 0.0341198, 0.00621063, 5.49026e-08, 2.03657e-06, 0.000299207, 8.10374e-06, 0.377447, 0.0385555, 0.0178724, 0.377447, 0.377447, 0.00276213, 0.0378133, 0.377447, 0.0737571, 0.345025, 0.191704, 0.377447, 0.377447, 0.0341198, 0.377447, 0.000543134, 0.000203549, 0.377447, 0.0341198, 0.129527, 0.00106236, 0.377447, 0.345025, 0.377447, 0.120606, 0.000140223, 0.0306392, 0.377447, 0.0737571, 0.377447, 0.0335064, 0.00589381, 0.255293, 0.377447, 0.255293, 0.0267682, 0.00227243, 0.02792, 0.384675, 0.000335814, 0.0617415, 0.00474396, 0.377447, 0.377447, 0.0341198, 0.043848, 0.040032, 0.377447, 0.377447, 0.0705252, 0.0581992, 4.02185e-06, 0.000810171, 0.0800563, 0.00535448, 0.00789525, 0.999994, 0.377447, 0.0341198, 0.377447, 0.0112555, 0.00519574, 0.0800563, 0.377447, 0.000683547, 2.23632e-05, 0.0740135, 0.372762, 0.464509, 0.480448, 0.999964, 0.0294546, 0.000262923, 1.44814e-05, 3.31856e-08, 0.00044237, 0.00277438, 0.000111867, 2.09878e-05, 1.07985e-05, 8.70304e-06, 0.000868916, 1.88097e-07, 6.28881e-05, 0.03656, 2.15128e-05, 3.1135e-05, 6.7574e-05, 5.21302e-05, 0.00190085, 8.7066e-08, 4.8529e-05, 0.00297371, 9.00863e-05, 0.000263215, 2.73494e-05, 0.000461721, 0.300192, 0.000449634, 0.00532691, 0.087622, 0.00535573, 0.00345683, 0.000108171, 0.01347, 0.0530296, 0.00119115, 0.000149195, 0.0119161, 0.038046, 0.0530296, 0.0139638, 3.85865e-06, 0.0918253, 0.0157025, 0.0798953, 4.48383e-06, 0.000100648, 0.377447, 0.377447, 0.039452, 9.55034e-07, 0.0798953, 0.437146, 0.0286859, 0.0869412, 0.00542263, 0.0145767, 0.0286859, 0.0286859, 0.106767, 0.127115, 0.106767, 0.00807527, 0.0534816, 0.0184379, 0.0486628, 0.0281305, 0.377447, 0.0617585, 0.0027754, 0.0798953, 0.0034457, 0.377447, 0.0918556, 0.0385555, 0.00656335, 0.0184379, 0.377447, 0.0184379, 0.00253805, 0.0583081, 0.00189433, 0.0184379, 0.00737376, 0.273358, 0.1548, 0.00549531, 0.00655144, 0.00253805, 0.1548, 0.273358, 0.377447, 0.00737376, 0.377447, 0.377447, 0.377447, 0.167869, 0.252898, 0.0184379, 0.377447, 0.1548, 0.377447, 0.0200369, 0.0184379, 0.377447, 0.377447, 0.252898, 0.00322231, 0.273358, 0.377447, 0.377447, 0.377447, 0.377447, 0.377447, 0.0281305, 0.377447, 0.377447, 0.377447, 0.345025, 0.125131, 0.273358, 0.377447, 0.377447, 0.0247983, 0.0214033, 0.377447, 0.377447, 0.377447, 0.273358, 0.0833806, 0.252898, 0.377447, 0.377447, 0.377447, 0.377447, 0.273358, 0.0184379, 0.377447, 0.377447, 0.377447, 0.115722, 0.0515319, 0.0864468]]), 'most_likely_positions_1D': None}),\n",
       " DynamicContainer({'p_x_given_n': array([[0.137922, 0.363278, 0.137922, 0.0874205, 0.000354231, 0.258565, 0.363278, 0.00891697, 0.000675385, 0.00857905, 0.089019, 0.00891697, 0.000675385, 0.333048, 0.397442, 0.0143739, 0.00278438, 0.00019957, 0.0453143, 0.103918, 0.089019, 0.137922, 0.214145, 0.000170787, 0.00891697, 0.089019, 0.137922, 0.137922, 0.137922, 0.55032, 0.137922, 0.293261, 0.258565, 0.00226275, 0.333048, 0.109545, 0.137922, 0.745018, 0.55032, 0.333048, 0.137922, 0.137922, 0.137922, 0.258565, 0.293842, 0.137922, 0.137922, 0.137922, 0.782685, 0.444877, 0.0305022, 0.137922, 0.258565, 1.21073e-23, 0.137922, 0.137922, 0.137922, 2.41561e-05, 0.735788, 0.400854, 0.137922, 0.258565, 0.00019126, 0.000818481, 0.660179, 0.151787, 2.84875e-23, 7.23048e-18, 0.0011103, 0.129869, 1.39131e-12, 1.20715e-08, 3.55975e-08, 0.736285, 1.90765e-17, 1.19844e-19, 2.03262e-05, 2.82344e-06, 1.06489e-24, 1.10666e-17, 1.81446e-08, 4.99492e-12, 2.08118e-12, 1.56787e-18, 0.00384909, 5.36237e-08, 0.160521, 4.32996e-08, 2.3227e-07, 4.53861e-07, 5.97711e-05, 0.108959, 0.0569484, 3.54799e-07, 0.000648981, 9.53548e-15, 0.0112363, 0.000145812, 0.277524, 0.599065, 0.0710704, 0.176335, 0.0109724, 0.000216131, 8.02915e-05, 0.525505, 0.0244018, 0.0310914, 2.27212e-09, 9.49691e-11, 0.000743834, 0.00120958, 8.61633e-10, 0.0917302, 0.137922, 0.00222445, 1.3739e-06, 5.4722e-21, 0.0635515, 7.3046e-08, 0.000438705, 3.99786e-10, 3.03589e-05, 0.00111556, 7.57455e-05, 7.9699e-05, 0.00137655, 0.183052, 2.23723e-07, 0.0373634, 8.45009e-06, 0.0142149, 0.00468799, 0.179564, 0.123752, 0.0194314, 0.00532408, 4.77902e-11, 1.26138e-06, 0.125749, 0.0134449, 0.000758825, 0.00222897, 0.00417616, 0.0390207, 0.143473, 0.0226747, 0.000207488, 0.0250273, 0.000325837, 0.00961697, 0.115339, 0.00479334, 9.45763e-05, 0.00169753, 0.0035355, 0.0903603, 0.137922, 0.179564, 0.129442, 1.66596e-05, 3.05101e-05, 0.534342, 0, 0.0320527, 0.0390207, 0.137922, 0.000758825, 0.0684106, 0.125749, 0.137922, 0.00417616, 0.0111958, 3.87979e-07, 2.73955e-05, 0.000385954, 0.00249683, 0.000155825, 0.000168426, 6.11098e-06, 0.00307757, 0.0644099, 0.137922, 0.125749, 0.00417616, 0.125749, 0.0225956, 4.11973e-06],\n",
       "        [0.100723, 0.132232, 0.100723, 0.189888, 0.519693, 0.412828, 0.132232, 0.15115, 0.0915175, 0.386862, 0.202676, 0.15115, 0.0915175, 0.442549, 0.451466, 0.157026, 0.0315057, 0.923693, 0.937219, 0.146604, 0.202676, 0.100723, 0.595718, 0.105506, 0.15115, 0.202676, 0.100723, 0.100723, 0.100723, 0.119575, 0.100723, 0.191645, 0.412828, 0.0573014, 0.442549, 0.823239, 0.100723, 0.0701286, 0.119575, 0.442549, 0.100723, 0.100723, 0.100723, 0.412828, 0.340337, 0.100723, 0.100723, 0.100723, 0.0286351, 0.424239, 0.525855, 0.100723, 0.412828, 9.25007e-06, 0.100723, 0.100723, 0.100723, 0.0718925, 0.0978949, 0.206427, 0.100723, 0.412828, 0.165875, 0.890552, 0.00692717, 0.213933, 5.31444e-05, 2.09466e-05, 0.164087, 0.584665, 0.00252033, 0.235419, 0.489392, 0.165042, 0.000468911, 0.00105604, 0.281384, 3.27465e-05, 1.40278e-05, 0.000775372, 0.122504, 0.317282, 0.00216563, 0.000693878, 0.713542, 6.12466e-11, 0.224515, 0.00235016, 0.0578339, 0.161988, 0.84237, 0.835418, 0.20888, 0.0763737, 0.00881811, 6.25383e-13, 0.00371476, 0.192645, 0.453825, 0.146831, 0.585529, 0.587946, 0.205864, 0.000719663, 6.81709e-09, 0.00694743, 0.726027, 0.0558468, 1.34799e-10, 0.000567242, 0.809933, 0.00093304, 8.69394e-13, 0.0534418, 0.100723, 0.139949, 1.32504e-07, 6.48929e-13, 0.060385, 1.98542e-07, 7.14854e-05, 3.45903e-05, 0.0940415, 2.38239e-05, 1.19085e-06, 0.00850557, 0.600999, 0.0653266, 0.00105895, 0.0173454, 0.0352746, 0.7637, 0.679209, 0.714073, 0.0375215, 0.680794, 0.109795, 0.0788579, 0.340819, 0.554463, 0.844091, 0.328129, 0.60053, 0.73566, 0.73928, 0.516008, 0.631148, 0.432371, 0.718215, 0.528109, 0.804076, 0.526657, 0.885049, 0.505735, 0.444144, 0.660693, 0.406049, 0.100723, 0.714073, 0.2967, 0.383894, 0.241472, 0.0446295, 0, 0, 0.73928, 0.100723, 0.328129, 0.43252, 0.554463, 0.100723, 0.73566, 0.801472, 0.274218, 0.00362682, 0.0161198, 0.364526, 0.639115, 0.384479, 0.283173, 0.743805, 0.825021, 0.100723, 0.554463, 0.73566, 0.554463, 0.189189, 0.00618268],\n",
       "        [0.383908, 0.251592, 0.383908, 0.171094, 2.2217e-05, 0.0733136, 0.251592, 0.0473135, 0.00994048, 0.00110948, 0.171585, 0.0473135, 0.00994048, 0.0468045, 0.0243798, 0.0580666, 0.0163535, 8.58353e-06, 0.000142383, 0.161701, 0.171585, 0.383908, 0.0654756, 0.00167998, 0.0473135, 0.171585, 0.383908, 0.383908, 0.383908, 0.214383, 0.383908, 0.106555, 0.0733136, 0.0035774, 0.0468045, 0.000942781, 0.383908, 0.138012, 0.214383, 0.0468045, 0.383908, 0.383908, 0.383908, 0.0733136, 0.186695, 0.383908, 0.383908, 0.383908, 0.0546245, 0.00034642, 0.0105993, 0.383908, 0.0733136, 2.74225e-11, 0.383908, 0.383908, 0.383908, 0.000206617, 0.157437, 0.164271, 0.383908, 0.0733136, 1.32246e-05, 0.000542869, 0.330805, 0.076619, 2.53235e-13, 2.70803e-06, 0.00135267, 0.0308915, 1.05557e-06, 2.8178e-07, 7.25305e-07, 0.0295397, 4.93494e-07, 4.32262e-08, 5.14008e-05, 3.50975e-06, 1.58221e-13, 2.33613e-09, 4.10932e-16, 1.17583e-09, 6.00897e-08, 2.21761e-09, 0.000598361, 0, 0.102394, 4.53219e-07, 1.20922e-06, 5.69983e-06, 0.00735067, 0.0344815, 0.0820985, 1.62838e-05, 0.0764998, 1.9692e-08, 0.00494993, 0.000369994, 0.139779, 0.185144, 0.0184542, 0.0772269, 0.0299322, 0.00319939, 0.142482, 0.455343, 0.00613832, 0.192218, 0.000383914, 4.99772e-06, 0.000204812, 0.0130498, 0.000303486, 0.252718, 0.383908, 0.0182891, 0.00150988, 1.02591e-09, 0.0974666, 1.25892e-05, 0.0377881, 0.000168619, 0.000738832, 0.0172927, 0.00137167, 0.00830888, 0.00677125, 0.312698, 0.00119151, 0.0290674, 0.000720731, 0.0311826, 0.0585567, 0.0662951, 0.162792, 0.0816457, 0.0519407, 3.21535e-05, 0.0238001, 0.0952192, 0.00995384, 0.0964561, 0.0378816, 0.0230505, 0.0290846, 0.200587, 0.0475906, 0.0421192, 0.0487658, 0.0147218, 0.0481466, 0.15463, 0.0391579, 0.00656793, 0.0531659, 0.0216978, 0.213809, 0.383908, 0.0662951, 0.352105, 0.00832659, 0.0179699, 0.409965, 0.976025, 0.964975, 0.0290846, 0.383908, 0.0964561, 0.213534, 0.0952192, 0.383908, 0.0230505, 0.0083126, 0.000688952, 0.0290946, 0.552903, 0.360466, 0.00236509, 0.0362686, 0.0153186, 0.0619556, 0.0292644, 0.383908, 0.0952192, 0.0230505, 0.0952192, 0.621441, 0.00376728],\n",
       "        [0.377447, 0.252898, 0.377447, 0.551597, 0.47993, 0.255293, 0.252898, 0.79262, 0.897867, 0.60345, 0.53672, 0.79262, 0.897867, 0.177598, 0.126712, 0.770534, 0.949356, 0.0760991, 0.0173242, 0.587777, 0.53672, 0.377447, 0.124661, 0.892643, 0.79262, 0.53672, 0.377447, 0.377447, 0.377447, 0.115722, 0.377447, 0.408539, 0.255293, 0.936858, 0.177598, 0.066273, 0.377447, 0.0468422, 0.115722, 0.177598, 0.377447, 0.377447, 0.377447, 0.255293, 0.179126, 0.377447, 0.377447, 0.377447, 0.134056, 0.130538, 0.433044, 0.377447, 0.255293, 0.999991, 0.377447, 0.377447, 0.377447, 0.927877, 0.00887987, 0.228449, 0.377447, 0.255293, 0.83392, 0.108086, 0.00208964, 0.557661, 0.999947, 0.999976, 0.83345, 0.254575, 0.997479, 0.76458, 0.510607, 0.069133, 0.999531, 0.998944, 0.718544, 0.999961, 0.999986, 0.999225, 0.877496, 0.682718, 0.997834, 0.999306, 0.28201, 1, 0.51257, 0.997649, 0.942165, 0.838006, 0.150219, 0.0211406, 0.652073, 0.92361, 0.914033, 1, 0.980099, 0.806839, 0.128873, 0.0689596, 0.324946, 0.158492, 0.753232, 0.995865, 0.857437, 0.0122042, 0.243433, 0.720844, 0.999616, 0.999428, 0.189119, 0.984808, 0.999697, 0.60211, 0.377447, 0.839537, 0.998489, 1, 0.778597, 0.999987, 0.961702, 0.999797, 0.905189, 0.981568, 0.998551, 0.983106, 0.390853, 0.438923, 0.997749, 0.916224, 0.963996, 0.190903, 0.257546, 0.0400679, 0.675935, 0.218129, 0.83294, 0.92111, 0.635379, 0.224568, 0.13251, 0.574656, 0.359359, 0.237113, 0.192614, 0.139932, 0.298587, 0.525303, 0.207992, 0.456843, 0.13816, 0.203374, 0.071, 0.487603, 0.500992, 0.314074, 0.289782, 0.377447, 0.0400679, 0.221753, 0.607763, 0.740528, 0.011063, 0.0239747, 0.00297252, 0.192614, 0.377447, 0.574656, 0.285536, 0.224568, 0.377447, 0.237113, 0.17902, 0.725092, 0.967251, 0.430591, 0.272511, 0.358364, 0.579084, 0.701502, 0.191161, 0.0813048, 0.377447, 0.224568, 0.237113, 0.224568, 0.166775, 0.990046]]), 'most_likely_positions_1D': None}),\n",
       " DynamicContainer({'p_x_given_n': array([[0.137922, 0.137922, 0.137922, ..., 0.137922, 0.57283, 0.308332],\n",
       "        [0.100723, 0.100723, 0.100723, ..., 0.100723, 0.0743205, 0.219101],\n",
       "        [0.383908, 0.383908, 0.383908, ..., 0.383908, 0.279092, 0.250569],\n",
       "        [0.377447, 0.377447, 0.377447, ..., 0.377447, 0.0737571, 0.221998]]), 'most_likely_positions_1D': None}),\n",
       " DynamicContainer({'p_x_given_n': array([[0.137922, 0.137922, 0.373854, ..., 0.125749, 3.05101e-05, 0.089763],\n",
       "        [0.100723, 0.100723, 0.0856649, ..., 0.554463, 0.241472, 0.170219],\n",
       "        [0.383908, 0.383908, 0.42717, ..., 0.0952192, 0.0179699, 0.569868],\n",
       "        [0.377447, 0.377447, 0.113311, ..., 0.224568, 0.740528, 0.170149]]), 'most_likely_positions_1D': None}),\n",
       " DynamicContainer({'p_x_given_n': array([[0.293842, 0.474417, 0.284863, 0.216783, 0.415741, 0.0270562, 0.137922, 0.509197, 0.842289, 0.756762, 0.57283, 0.137922, 0.339491, 0.0893734, 0.137922, 0.632633, 0.137922, 0.444999, 0.532941, 0.137922, 0.294166, 0.137922, 0.0732064, 0.248218, 0.137922, 0.57283, 0.509197, 0.66239, 0.711294, 0.137922, 0.089763, 0.564241, 0.000835397, 1.21709e-11, 0.00400868, 0.258565, 0.201686, 0.0196298, 0.000822915, 0.444775, 0.622716, 0.507862, 0.0419959, 0.956647, 0.330493, 0.474776, 1.0401e-08, 3.36209e-17, 0.0533051, 0.484445, 0.142499, 8.3272e-05, 0.00464863, 0.343039, 0.0209297, 0.0178817, 0.685732, 0.210707, 0.000360229, 0.0351795, 0.052269, 0.6591, 0.210707, 0.398033, 0.245918, 0.284099, 0.161044, 0.64037, 0.12593, 0.748403, 0.68801, 0.1108, 0.0833366, 0.45858, 0.364729, 1.5323e-06, 0.153774, 0.639813, 0.525505, 0.232625, 0.00923268, 0.0235545, 0.589731, 0.314608, 0.593053, 0.663295, 0.442442, 0.137922, 0.137922, 0.611925, 0.0064921, 0.137922, 0.137922, 0.0151539, 0.0219556, 0.612842, 0.419245, 0.137922, 0.680792, 0.00135371, 0.364953, 0.35134, 0.0147975, 0.089763, 0.0045685, 0.701809, 0.622716, 0.0672266, 0.137922, 0.089763, 0.542068, 0.0372785, 0.648206, 0.0314481, 0.089763, 0.0500353, 0.56741, 0.277524, 0.582173, 0.465698, 0.0903603, 0.0122082, 0.137922, 0.693972, 0.290819, 0.323173, 0.137922, 0.582173, 0.137922, 0.42378, 0.0874205, 0.137922, 0.582173, 0.582173, 0.245937, 0.55032, 0.582173, 0.461042, 0.22603, 0.687835, 0.632483, 0.22603, 0.693972, 0.582173, 0.290819, 0.632483, 0.455871, 0.458891, 0.42378, 0.137922, 0.560307, 0.582173, 0.587533, 0.354212, 0.540043, 0.632483, 0.137922, 0.137922, 0.493184, 0.410292, 0.137922, 0.137922, 0.542068, 0.389973, 0.239955, 0.364953, 0.137922, 0.137922, 0.137922, 0.137922, 0.137922, 0.582173, 0.137922, 0.583635, 0.42378, 0.137922, 0.22603, 0.137922, 0.137922, 0.687173, 0.554518, 0.22603, 0.137922, 0.137922, 0.137922, 0.137922, 0.622716, 0.137922, 0.137922, 0.137922, 0.42378, 0.410292, 0.0588339, 0.106759, 0.42378, 0.137922, 0.137922, 0.137922, 0.137922, 0.137922, 0.137922, 0.137922, 0.42378, 0.954329, 0.895801, 0.756762, 0.916628, 0.594861, 0.137922, 0.137922, 0.137922, 0.410292, 0.410292, 0.38379, 0.232625, 0.137922, 0.137922, 0.137922],\n",
       "        [0.340337, 0.0193016, 0.45874, 0.731937, 0.12896, 0.901171, 0.100723, 0.0558906, 0.0022148, 0.0449206, 0.0743205, 0.100723, 0.637791, 0.78592, 0.100723, 0.0156773, 0.100723, 0.191725, 3.48782e-06, 0.100723, 0.026106, 0.100723, 0.920749, 0.724275, 0.100723, 0.0743205, 0.0558906, 0.134635, 0.00892444, 0.100723, 0.170219, 0.0962916, 0.000452117, 1.27987e-15, 0.468279, 0.412828, 0.000141095, 2.20776e-08, 4.39147e-19, 0.00535697, 0.0590801, 0.0975174, 9.89356e-10, 5.70641e-05, 0.499993, 0.148669, 2.99738e-10, 1.13475e-11, 0.3569, 0.000561237, 5.80621e-08, 8.18601e-11, 3.63359e-06, 5.86996e-07, 4.65673e-09, 1.21266e-09, 0.003007, 0.000352821, 4.27823e-15, 3.68707e-08, 1.10763e-05, 8.48054e-05, 0.000352821, 6.63681e-13, 0.000514831, 0.000132643, 1.46078e-09, 0.000349885, 1.94229e-06, 1.92378e-05, 0.100237, 0.32125, 0.103916, 0.000346977, 1.02875e-05, 6.64839e-13, 2.8149e-07, 0.00965842, 0.00694743, 0.0279348, 0.000293347, 2.01691e-05, 0.0117419, 0.00548744, 0.000989886, 3.62141e-07, 0.0470045, 0.100723, 0.100723, 0.00932218, 7.94291e-07, 0.100723, 0.100723, 0.00108351, 0.00598024, 0.00143267, 0.0358047, 0.100723, 0.00630375, 0.000185903, 0.0213185, 0.126679, 0.000609471, 0.170219, 0.00517713, 0.0107479, 0.0590801, 0.430905, 0.100723, 0.170219, 0.0540968, 0.055854, 0.00114505, 0.0197406, 0.170219, 0.00463154, 0.00130544, 0.453825, 0.0430916, 0.0325563, 0.406049, 0.112676, 0.100723, 0.00492564, 0.0429181, 0.113425, 0.100723, 0.0430916, 0.100723, 0.0940098, 0.189888, 0.100723, 0.0430916, 0.0430916, 0.0146509, 0.119575, 0.0430916, 0.133486, 0.118262, 0.00497211, 0.0134023, 0.118262, 0.00492564, 0.0430916, 0.0429181, 0.0134023, 0.095008, 0.00234255, 0.0940098, 0.100723, 0.0477879, 0.0430916, 0.0640668, 0.271181, 0.227682, 0.0134023, 0.100723, 0.100723, 0.292379, 0.268426, 0.100723, 0.100723, 0.0540968, 0.0664098, 0.274114, 0.0213185, 0.100723, 0.100723, 0.100723, 0.100723, 0.100723, 0.0430916, 0.100723, 0.0698161, 0.0940098, 0.100723, 0.118262, 0.100723, 0.100723, 0.0494777, 0.0660551, 0.118262, 0.100723, 0.100723, 0.100723, 0.100723, 0.0590801, 0.100723, 0.100723, 0.100723, 0.0940098, 0.268426, 0.705084, 0.865614, 0.0940098, 0.100723, 0.100723, 0.100723, 0.100723, 0.100723, 0.100723, 0.100723, 0.0940098, 0.00368185, 0.00242872, 0.0449206, 6.31268e-05, 0.0917106, 0.100723, 0.100723, 0.100723, 0.268426, 0.268426, 0.159327, 0.0279348, 0.100723, 0.100723, 0.100723],\n",
       "        [0.186695, 0.502697, 0.164572, 0.0429426, 0.429532, 0.00752815, 0.383908, 0.400793, 0.151848, 0.167678, 0.279092, 0.383908, 0.0227175, 0.091385, 0.383908, 0.339057, 0.383908, 0.147576, 0.466654, 0.383908, 0.653811, 0.383908, 0.00565606, 0.0161846, 0.383908, 0.279092, 0.400793, 0.159127, 0.279374, 0.383908, 0.569868, 0.28434, 0.997599, 0.00812679, 0.110757, 0.0733136, 0.798076, 0.980353, 0.999177, 0.545524, 0.289518, 0.315651, 0.958003, 0.0432951, 0.0894578, 0.320498, 0.999526, 1.90499e-08, 0.0153614, 0.51431, 0.857294, 0.999917, 0.995344, 0.656936, 0.979019, 0.982118, 0.31097, 0.784357, 0.99964, 0.96482, 0.947625, 0.340804, 0.784357, 0.601967, 0.753407, 0.715068, 0.838494, 0.359246, 0.874064, 0.251323, 0.206937, 0.128954, 0.582006, 0.540686, 0.635216, 0.999998, 0.846016, 0.330022, 0.455343, 0.707084, 0.9899, 0.976424, 0.372437, 0.594821, 0.401403, 0.336523, 0.453031, 0.383908, 0.383908, 0.372774, 0.993507, 0.383908, 0.383908, 0.957492, 0.96381, 0.383087, 0.41661, 0.383908, 0.307927, 0.996632, 0.595856, 0.514865, 0.983926, 0.569868, 0.983469, 0.267117, 0.289518, 0.243413, 0.383908, 0.569868, 0.34102, 0.819926, 0.338733, 0.894392, 0.569868, 0.944136, 0.414219, 0.139779, 0.356297, 0.481306, 0.213809, 0.768348, 0.383908, 0.300303, 0.522814, 0.42475, 0.383908, 0.356297, 0.383908, 0.32741, 0.171094, 0.383908, 0.356297, 0.356297, 0.701339, 0.214383, 0.356297, 0.306806, 0.382351, 0.304655, 0.346741, 0.382351, 0.300303, 0.356297, 0.522814, 0.346741, 0.236227, 0.538014, 0.32741, 0.383908, 0.31201, 0.356297, 0.281544, 0.186723, 0.19746, 0.346741, 0.383908, 0.383908, 0.162905, 0.217397, 0.383908, 0.383908, 0.34102, 0.418739, 0.113169, 0.595856, 0.383908, 0.383908, 0.383908, 0.383908, 0.383908, 0.356297, 0.383908, 0.255979, 0.32741, 0.383908, 0.382351, 0.383908, 0.383908, 0.183666, 0.328907, 0.382351, 0.383908, 0.383908, 0.383908, 0.383908, 0.289518, 0.383908, 0.383908, 0.383908, 0.32741, 0.217397, 0.013012, 0.0074939, 0.32741, 0.383908, 0.383908, 0.383908, 0.383908, 0.383908, 0.383908, 0.383908, 0.32741, 0.040004, 0.101057, 0.167678, 0.0833089, 0.285298, 0.383908, 0.383908, 0.383908, 0.217397, 0.217397, 0.110987, 0.707084, 0.383908, 0.383908, 0.383908],\n",
       "        [0.179126, 0.00358436, 0.0918253, 0.00833779, 0.0257671, 0.064245, 0.377447, 0.0341198, 0.0036491, 0.0306392, 0.0737571, 0.377447, 5.96298e-07, 0.033322, 0.377447, 0.0126331, 0.377447, 0.2157, 0.000400828, 0.377447, 0.0259161, 0.377447, 0.00038839, 0.0113229, 0.377447, 0.0737571, 0.0341198, 0.043848, 0.000407765, 0.377447, 0.170149, 0.0551276, 0.00111363, 0.991873, 0.416956, 0.255293, 9.65032e-05, 1.73731e-05, 3.13817e-12, 0.00434458, 0.0286859, 0.0789696, 1.0398e-06, 9.07264e-07, 0.0800563, 0.0560563, 0.000474152, 1, 0.574433, 0.000683547, 0.000206904, 3.83807e-09, 3.6736e-06, 2.44581e-05, 5.11535e-05, 1.58867e-07, 0.000290202, 0.00458316, 1.02694e-11, 2.83024e-07, 9.53464e-05, 1.11483e-05, 0.00458316, 3.0529e-08, 0.000160159, 0.000699665, 0.000461864, 3.38981e-05, 4.5574e-06, 0.000255483, 0.00481599, 0.438995, 0.23074, 0.000386899, 4.40599e-05, 2.06576e-07, 0.00020894, 0.0205069, 0.0122042, 0.0323562, 0.000574097, 1.34885e-06, 0.0260908, 0.0850834, 0.00455405, 0.00018087, 0.0575228, 0.377447, 0.377447, 0.00597902, 3.81182e-08, 0.377447, 0.377447, 0.0262709, 0.00825448, 0.00263845, 0.12834, 0.377447, 0.00497758, 0.00182848, 0.0178724, 0.00711533, 0.000666793, 0.170149, 0.00678568, 0.0203261, 0.0286859, 0.258456, 0.377447, 0.170149, 0.0628149, 0.0869412, 0.0119161, 0.054419, 0.170149, 0.00119735, 0.0170653, 0.128873, 0.0184379, 0.0204391, 0.289782, 0.106767, 0.377447, 0.000799866, 0.143449, 0.138652, 0.377447, 0.0184379, 0.377447, 0.1548, 0.551597, 0.377447, 0.0184379, 0.0184379, 0.0380738, 0.115722, 0.0184379, 0.0986663, 0.273358, 0.00253805, 0.00737376, 0.273358, 0.000799866, 0.0184379, 0.143449, 0.00737376, 0.212894, 0.000753189, 0.1548, 0.377447, 0.0798953, 0.0184379, 0.0668563, 0.187884, 0.0348147, 0.00737376, 0.377447, 0.377447, 0.0515319, 0.103884, 0.377447, 0.377447, 0.0628149, 0.124878, 0.372762, 0.0178724, 0.377447, 0.377447, 0.377447, 0.377447, 0.377447, 0.0184379, 0.377447, 0.0905695, 0.1548, 0.377447, 0.273358, 0.377447, 0.377447, 0.0796832, 0.0505208, 0.273358, 0.377447, 0.377447, 0.377447, 0.377447, 0.0286859, 0.377447, 0.377447, 0.377447, 0.1548, 0.103884, 0.22307, 0.0201335, 0.1548, 0.377447, 0.377447, 0.377447, 0.377447, 0.377447, 0.377447, 0.377447, 0.1548, 0.00198559, 0.000713267, 0.0306392, 1.37953e-07, 0.0281305, 0.377447, 0.377447, 0.377447, 0.103884, 0.103884, 0.345897, 0.0323562, 0.377447, 0.377447, 0.377447]]), 'most_likely_positions_1D': None}),\n",
       " DynamicContainer({'p_x_given_n': array([[0.49682, 0.241113, 0.137922, ..., 0.00555681, 3.05545e-05, 0.000758825],\n",
       "        [0.255318, 0.692567, 0.100723, ..., 0.710442, 0.623834, 0.328129],\n",
       "        [0.106704, 0.00352172, 0.383908, ..., 0.0123079, 0.0264237, 0.0964561],\n",
       "        [0.141158, 0.0627988, 0.377447, ..., 0.271694, 0.349712, 0.574656]]), 'most_likely_positions_1D': None}),\n",
       " DynamicContainer({'p_x_given_n': array([[0.137922, 0.509197, 0.607, 0.924726, 0.248218, 0.137922, 0.547567, 9.44852e-05, 0.77704, 0.330493, 0.255263, 0.00672614, 0.551464, 0.690182, 0.0973023, 0.239032, 5.38708e-05, 0.112649, 0.314862, 0.00501495, 0.000429035, 0.815917, 0.346685, 0.556857, 7.99429e-05, 0.65843, 0.309474, 0.258759, 0.000591624, 0.525505, 0.145713, 0.203718, 0.340664, 0.325199, 0.204723, 0.511836, 0.345556, 0.26142, 0.765577, 0.148454, 0.229338, 0.137922, 0.388443, 0.281057, 0.0806388, 0.00148965, 0.862676, 0.0660907, 0.0433332, 0.251045, 0.834004, 0.277524, 0.65267, 0.137922, 0.000160012, 0.570261, 0.346685, 0.622716, 0.000810001, 0.232625, 0.389973, 0.137922, 0.137922, 0.0301706, 0.712466, 0.137922, 0.137922, 0.0147975, 0.0243181, 0.089763, 0.0712158, 0.137922, 0.744028, 0.00293756, 0.0045685, 0.00569118, 0.089763, 0.594861, 0.127163, 0.137922, 0.030294, 0.137922, 0.693972, 0.547186, 0.582173, 0.22603, 0.632483, 0.190981, 0.128958, 0.137922, 0.582173, 0.356846, 0.472347, 0.726407, 0.632483, 0.542068, 0.477229, 0.137922, 0.582173, 0.582173, 0.137922, 0.517948, 0.239955, 0.418741, 0.137922, 0.137922, 0.493184, 0.203752, 0.55032, 0.137922, 0.137922, 0.42378, 0.862267, 0.418563, 0.137922, 0.137922, 0.22603, 0.137922, 0.137922, 0.137922, 0.137922, 0.137922, 0.748077, 0.42378, 0.137922, 0.137922, 0.557993, 0.0393029, 0.681702, 0.42378, 0.137922, 0.137922, 0.137922, 0.42378, 0.542068, 0.137922, 0.137922, 0.137922, 0.354212, 0.0359301, 0.137922, 0.330493, 0.137922, 0.137922, 0.137922, 0.410292, 0.348506, 0.239955, 0.137922, 0.137922, 0.137922, 0.42378, 0.213505, 0.0586841],\n",
       "        [0.100723, 0.0558906, 0.00011765, 2.53084e-06, 0.724275, 0.100723, 0.00456932, 1.33629e-12, 0.0460658, 0.499993, 0.538259, 5.10287e-14, 9.58399e-05, 0.000652026, 0.006572, 1.15229e-08, 2.82375e-10, 0.292608, 8.42227e-07, 0.00014996, 4.49678e-11, 1.32768e-07, 0.00102049, 2.82779e-06, 9.88053e-07, 0.000162153, 0.134875, 0.0342852, 3.21138e-20, 0.00694743, 2.69096e-05, 1.83162e-10, 0.156584, 9.25919e-10, 1.95397e-08, 0.00216795, 2.4747e-07, 7.03074e-07, 0.0301691, 0.626233, 4.96106e-13, 0.100723, 2.77373e-06, 0.48445, 5.39671e-06, 6.4399e-10, 0.00953455, 0.728834, 2.73094e-07, 0.548796, 7.18451e-06, 0.453825, 0.109608, 0.100723, 0.00012513, 0.0177177, 0.00102049, 0.0590801, 0.000210728, 0.0279348, 0.0664098, 0.100723, 0.100723, 5.70279e-06, 0.0110342, 0.100723, 0.100723, 0.000609471, 0.0118546, 0.170219, 0.00630983, 0.100723, 0.0147082, 0, 0.00517713, 0.155278, 0.170219, 0.0917106, 0.196576, 0.100723, 0.00566967, 0.100723, 0.00492564, 0.0250214, 0.0430916, 0.118262, 0.0134023, 0.00739985, 0.00365369, 0.100723, 0.0430916, 0.198235, 0.0280113, 0.00121542, 0.0134023, 0.0540968, 0.0626768, 0.100723, 0.0430916, 0.0430916, 0.100723, 0.074118, 0.274114, 0.00569686, 0.100723, 0.100723, 0.292379, 0.452053, 0.119575, 0.100723, 0.100723, 0.0940098, 0.0314049, 0.0026302, 0.100723, 0.100723, 0.118262, 0.100723, 0.100723, 0.100723, 0.100723, 0.100723, 0.0223771, 0.0940098, 0.100723, 0.100723, 0.298753, 0.937652, 0.268963, 0.0940098, 0.100723, 0.100723, 0.100723, 0.0940098, 0.0540968, 0.100723, 0.100723, 0.100723, 0.271181, 0.227134, 0.100723, 0.499993, 0.100723, 0.100723, 0.100723, 0.268426, 0.298983, 0.274114, 0.100723, 0.100723, 0.100723, 0.0940098, 0.154782, 0.388542],\n",
       "        [0.383908, 0.400793, 0.387474, 0.0752711, 0.0161846, 0.383908, 0.445584, 0.999904, 0.174983, 0.0894578, 0.0567728, 0.993273, 0.447145, 0.307324, 0.893115, 0.760967, 0.999946, 0.547796, 0.685104, 0.991679, 0.99957, 0.184082, 0.637621, 0.443106, 0.999869, 0.341183, 0.488889, 0.507373, 0.999408, 0.455343, 0.851517, 0.796223, 0.267164, 0.674801, 0.795277, 0.485612, 0.654369, 0.738578, 0.202028, 0.0607139, 0.770651, 0.383908, 0.61154, 0.140908, 0.919222, 0.998358, 0.127339, 0.0291595, 0.956522, 0.0833283, 0.165414, 0.139779, 0.184693, 0.383908, 0.999296, 0.373975, 0.637621, 0.289518, 0.997186, 0.707084, 0.418739, 0.383908, 0.383908, 0.969824, 0.274863, 0.383908, 0.383908, 0.983926, 0.925609, 0.569868, 0.913158, 0.383908, 0.237074, 0.997062, 0.983469, 0.501007, 0.569868, 0.285298, 0.284806, 0.383908, 0.955525, 0.383908, 0.300303, 0.405846, 0.356297, 0.382351, 0.346741, 0.788681, 0.842761, 0.383908, 0.356297, 0.21315, 0.446637, 0.272095, 0.346741, 0.34102, 0.404036, 0.383908, 0.356297, 0.356297, 0.383908, 0.287814, 0.113169, 0.569011, 0.383908, 0.383908, 0.162905, 0.0698659, 0.214383, 0.383908, 0.383908, 0.32741, 0.101221, 0.573616, 0.383908, 0.383908, 0.382351, 0.383908, 0.383908, 0.383908, 0.383908, 0.383908, 0.213619, 0.32741, 0.383908, 0.383908, 0.118895, 0.000931321, 0.00370171, 0.32741, 0.383908, 0.383908, 0.383908, 0.32741, 0.34102, 0.383908, 0.383908, 0.383908, 0.186723, 0.011445, 0.383908, 0.0894578, 0.383908, 0.383908, 0.383908, 0.217397, 0.139522, 0.113169, 0.383908, 0.383908, 0.383908, 0.32741, 0.145548, 0.0374303],\n",
       "        [0.377447, 0.0341198, 0.00540883, 3.33988e-07, 0.0113229, 0.377447, 0.00227955, 1.78943e-06, 0.00191153, 0.0800563, 0.149705, 7.85506e-07, 0.00129528, 0.00184187, 0.00301056, 9.25558e-08, 7.03728e-10, 0.0469477, 3.27296e-05, 0.00315625, 6.22897e-07, 3.85031e-07, 0.0146734, 3.3777e-05, 4.9626e-05, 0.000224303, 0.0667616, 0.199582, 1.059e-12, 0.0122042, 0.00274386, 5.94036e-05, 0.235588, 2.97633e-08, 6.65474e-08, 0.000384402, 7.49183e-05, 7.78695e-07, 0.00222603, 0.164599, 1.09246e-05, 0.377447, 1.37248e-05, 0.0935854, 0.000133709, 0.000151899, 0.000450128, 0.175915, 0.000144106, 0.11683, 0.000575429, 0.128873, 0.0530296, 0.377447, 0.000419176, 0.038046, 0.0146734, 0.0286859, 0.00179364, 0.0323562, 0.124878, 0.377447, 0.377447, 9.51702e-08, 0.00163711, 0.377447, 0.377447, 0.000666793, 0.0382183, 0.170149, 0.00931598, 0.377447, 0.00419039, 3.25715e-13, 0.00678568, 0.338024, 0.170149, 0.0281305, 0.391455, 0.377447, 0.00851108, 0.377447, 0.000799866, 0.0219468, 0.0184379, 0.273358, 0.00737376, 0.012938, 0.0246271, 0.377447, 0.0184379, 0.23177, 0.0530043, 0.000282933, 0.00737376, 0.0628149, 0.0560574, 0.377447, 0.0184379, 0.0184379, 0.377447, 0.12012, 0.372762, 0.00655144, 0.377447, 0.377447, 0.0515319, 0.27433, 0.115722, 0.377447, 0.377447, 0.1548, 0.00510682, 0.00519099, 0.377447, 0.377447, 0.273358, 0.377447, 0.377447, 0.377447, 0.377447, 0.377447, 0.0159265, 0.1548, 0.377447, 0.377447, 0.0243594, 0.0221136, 0.0456336, 0.1548, 0.377447, 0.377447, 0.377447, 0.1548, 0.0628149, 0.377447, 0.377447, 0.377447, 0.187884, 0.725491, 0.377447, 0.0800563, 0.377447, 0.377447, 0.377447, 0.103884, 0.212989, 0.372762, 0.377447, 0.377447, 0.377447, 0.1548, 0.486165, 0.515343]]), 'most_likely_positions_1D': None}),\n",
       " DynamicContainer({'p_x_given_n': array([[0.137922, 0.137922, 0.137922, 0.137922, 0.137922, 0.22603, 0.42378, 0.42378, 0.442496, 0.323173, 0.22603, 0.137922, 0.137922, 0.137922, 0.137922, 0.137922, 0.137922, 0.137922, 0.137922, 0.137922, 0.137922, 0.394221, 0.00212062, 0.137922, 0.137922, 0.137922, 0.513844, 0.719098, 0.55032, 0.137922, 0.137922, 0.419245, 0.542068, 0.594861, 0.754951, 0.137922, 0.560307, 0.137922, 0.632633, 0.137922, 0.137922, 0.22603, 0.363278, 0.455871, 9.13992e-06, 0.0443338, 2.61581e-06, 3.08832e-18, 1.15107e-21, 1.15093e-05, 0.0906208, 0.42378, 0.762777, 0.137922, 0.137922, 0.137922, 0.410292, 0.314214, 0.304809, 0.137922, 0.518892, 0.137922, 0.7162, 0.137922, 0.22603, 0.137922, 0.0200387, 0.287542, 0.638139, 0.611413, 0.611413, 0.00180208, 0.354212, 0.42378, 0.137922, 0.283384, 0.602544, 0.089019, 0.00891697, 0.17725, 0.137922, 0.000904776, 0.069713, 0.00891697, 0.137922, 0.584555, 0.00203239, 0.00458553, 0.0300532, 1.29601e-05, 8.77983e-05, 0.0690481, 0.242677, 0.55032, 0.089019, 0.00891697, 0.0656747, 0.0164785, 0.000675385, 0.103662, 0.0240653, 0.00451502, 0.00165546, 0.00891697, 0.0119114, 0.258565, 9.56766e-05, 0.0305022, 0.0305022, 0.288994, 3.52789e-31, 4.57517e-07, 0.0718007, 0.251045, 6.78481e-33, 0.293842, 0.0139038, 0.00348428, 2.65862e-21, 7.23048e-18, 0.000918194, 0.638139, 8.59005e-22, 5.35966e-10, 9.82285e-05, 0.000467202, 7.95507e-08, 0.497382, 0.0101612, 9.41419e-25, 1.12874e-06, 4.17757e-07, 1.22022e-07, 0.000110695, 3.59536e-20, 5.60058e-10, 2.02393e-07, 0.218501, 2.23016e-12, 1.41908e-05, 3.56863e-07, 2.79442e-07, 1.00526e-05, 2.689e-05, 0.0151484, 1.26799e-09, 3.80309e-05, 0.1108, 4.92735e-05, 3.95654e-05, 7.57107e-06, 0.137922, 0.148454, 0.0718007, 4.17977e-07, 1.18642e-17, 0.104268, 0.0444772, 0.000509693, 0.115339, 0.115339, 0.0110772, 1.32745e-05, 0.00333462, 0.115339, 0.0415699, 0.00416471, 7.48205e-09, 0.0459592, 7.57455e-05, 1.63716e-05, 1.58133e-05, 1.27872e-06, 0.0798676, 6.5134e-11, 0.0760567, 0.0025641, 4.07199e-06, 7.73782e-08, 0.123752, 0.115339, 0.00417616, 0.0230796, 0.379349, 0.000716531, 0.000626236, 0.00026218, 3.77564e-08, 0.000396743, 0.00692234, 0.00417616, 0.0250273, 0.137922, 2.56429e-05, 0.0031645, 0.000219103, 0.000221703, 0.00249683, 0.0250273, 0.000396743, 0.135371, 0.0851846, 0.000135256, 0.115339, 0.000207488, 0.125749, 0.00169753, 0.0903603, 0.00322686, 0.137922, 0.125749, 1.11421e-05, 0.0226747, 0.06958, 4.43376e-06, 0.00446796],\n",
       "        [0.100723, 0.100723, 0.100723, 0.100723, 0.100723, 0.118262, 0.0940098, 0.0940098, 0.0958462, 0.113425, 0.118262, 0.100723, 0.100723, 0.100723, 0.100723, 0.100723, 0.100723, 0.100723, 0.100723, 0.100723, 0.100723, 0.367788, 0.266746, 0.100723, 0.100723, 0.100723, 0.23643, 0.203275, 0.119575, 0.100723, 0.100723, 0.0358047, 0.0540968, 0.0917106, 0.0215098, 0.100723, 0.0477879, 0.100723, 0.0156773, 0.100723, 0.100723, 0.118262, 0.132232, 0.095008, 0.216086, 0.851624, 0.0860426, 3.28339e-12, 1.10203e-12, 0.173296, 0.000749379, 0.0940098, 0.0155621, 0.100723, 0.100723, 0.100723, 0.268426, 0.108926, 0.540714, 0.100723, 0.0899981, 0.100723, 0.11978, 0.100723, 0.118262, 0.100723, 1.8175e-06, 1.83601e-11, 0.155754, 0.0537953, 0.0537953, 0.110016, 0.271181, 0.0940098, 0.100723, 0.0543091, 0.0220811, 0.202676, 0.15115, 0.224378, 0.100723, 0.995871, 0.40244, 0.15115, 0.100723, 0.0678509, 0.432049, 0.623826, 0.305256, 0.539206, 0.0371394, 0.590316, 0.252497, 0.119575, 0.202676, 0.15115, 0.724025, 0.268031, 0.0915175, 0.584249, 0.289229, 0.784005, 0.0619311, 0.15115, 0.936172, 0.412828, 0.00640441, 0.525855, 0.525855, 0.248811, 5.72299e-07, 0.0743415, 0.655509, 0.548796, 2.71612e-08, 0.340337, 0.335418, 0.217539, 5.91801e-06, 2.09466e-05, 0.0499618, 0.155754, 0.00250539, 0.416409, 0.000671685, 0.0751186, 0.0542191, 3.32164e-13, 0.109026, 0.000226572, 0.131895, 0.471916, 0.0389282, 0.023326, 0.00126982, 0.225811, 0.131109, 5.05462e-07, 0.0161116, 0.174785, 0.169802, 0.999678, 0.178784, 0.141294, 0.000756543, 0.0029694, 0.000192128, 0.32125, 0.198975, 0.429823, 0.000563675, 0.100723, 0.626233, 0.655509, 4.85126e-09, 4.1712e-14, 0.704026, 0.223143, 0.0018052, 0.526657, 0.526657, 0.515945, 3.50188e-06, 0.565872, 0.526657, 0.132266, 6.67236e-10, 0.0140977, 0.00465234, 1.19085e-06, 7.67125e-06, 0.000847013, 0.232817, 0.122087, 6.51635e-07, 0.0172004, 0.136834, 0.00481844, 6.8665e-08, 0.0375215, 0.526657, 0.73566, 0.197918, 0.0759649, 0.00138425, 0.680228, 0.897158, 0.313166, 0.499911, 0.772129, 0.73566, 0.718215, 0.100723, 0.872743, 0.488936, 0.914347, 0.498626, 0.364526, 0.718215, 0.499911, 0.581176, 0.335779, 0.415739, 0.526657, 0.432371, 0.554463, 0.444144, 0.406049, 0.390561, 0.100723, 0.554463, 0.396276, 0.631148, 0.0647504, 0.759033, 0.799102],\n",
       "        [0.383908, 0.383908, 0.383908, 0.383908, 0.383908, 0.382351, 0.32741, 0.32741, 0.389828, 0.42475, 0.382351, 0.383908, 0.383908, 0.383908, 0.383908, 0.383908, 0.383908, 0.383908, 0.383908, 0.383908, 0.383908, 0.117385, 0.0421734, 0.383908, 0.383908, 0.383908, 0.122088, 0.0325286, 0.214383, 0.383908, 0.383908, 0.41661, 0.34102, 0.285298, 0.221645, 0.383908, 0.31201, 0.383908, 0.339057, 0.383908, 0.383908, 0.382351, 0.251592, 0.236227, 7.28021e-06, 0.0598582, 4.08451e-09, 1.00492e-06, 2.44714e-11, 0.0274488, 0.869967, 0.32741, 0.215311, 0.383908, 0.383908, 0.383908, 0.217397, 0.271487, 0.0278464, 0.383908, 0.227059, 0.383908, 0.0568152, 0.383908, 0.382351, 0.383908, 0.976421, 0.71243, 0.0986743, 0.245255, 0.245255, 0.0106332, 0.186723, 0.32741, 0.383908, 0.106245, 0.325218, 0.171585, 0.0473135, 0.181043, 0.383908, 4.48103e-05, 0.00910243, 0.0473135, 0.383908, 0.155022, 0.00364403, 0.000549158, 0.0168223, 2.39183e-07, 0.00150783, 0.0109042, 0.0143714, 0.214383, 0.171585, 0.0473135, 0.00311838, 0.00878324, 0.00994048, 0.0126328, 0.204955, 0.00569497, 0.000300327, 0.0473135, 4.10027e-05, 0.0733136, 0.000270733, 0.0105993, 0.0105993, 0.254179, 7.46758e-14, 9.42216e-06, 0.0214675, 0.0833283, 3.13522e-17, 0.186695, 0.0033672, 0.00254649, 6.8394e-13, 2.70803e-06, 0.00215361, 0.0986743, 2.45272e-10, 8.35859e-14, 4.02404e-06, 0.00231063, 2.28706e-06, 0.394308, 0.0429618, 1.81333e-14, 7.22659e-06, 7.16421e-13, 6.95291e-05, 7.88958e-05, 1.85848e-14, 2.4661e-09, 3.76351e-06, 0.781253, 4.34613e-10, 0.000102848, 1.15229e-14, 5.13163e-06, 7.0222e-05, 0.000138038, 0.00265987, 0.000361324, 0.00301762, 0.128954, 0.000599557, 6.98152e-05, 0.00136455, 0.383908, 0.0607139, 0.0214675, 0.00171663, 6.76756e-10, 0.0403356, 0.0581467, 0.107356, 0.15463, 0.15463, 0.00255356, 0.000910288, 0.00766659, 0.15463, 0.0219028, 0.0585439, 5.51034e-05, 0.0670963, 0.00137167, 0.00157726, 0.00100096, 0.00278149, 0.144689, 5.97056e-05, 0.480607, 0.00509938, 0.00406847, 0.000148993, 0.162792, 0.15463, 0.0230505, 0.494295, 0.324116, 0.0851655, 0.00967915, 0.000118804, 0.000195706, 0.0274588, 0.0138851, 0.0230505, 0.0487658, 0.383908, 0.00188975, 0.0691352, 0.00292648, 0.0131261, 0.360466, 0.0487658, 0.0274588, 0.0432534, 0.476729, 0.0196314, 0.15463, 0.0421192, 0.0952192, 0.0531659, 0.213809, 0.0896864, 0.383908, 0.0952192, 0.00218715, 0.0475906, 0.811195, 0.0408111, 0.0175232],\n",
       "        [0.377447, 0.377447, 0.377447, 0.377447, 0.377447, 0.273358, 0.1548, 0.1548, 0.0718292, 0.138652, 0.273358, 0.377447, 0.377447, 0.377447, 0.377447, 0.377447, 0.377447, 0.377447, 0.377447, 0.377447, 0.377447, 0.120606, 0.688959, 0.377447, 0.377447, 0.377447, 0.127638, 0.0450978, 0.115722, 0.377447, 0.377447, 0.12834, 0.0628149, 0.0281305, 0.00189433, 0.377447, 0.0798953, 0.377447, 0.0126331, 0.377447, 0.377447, 0.273358, 0.252898, 0.212894, 0.783898, 0.0441842, 0.913955, 0.999999, 1, 0.799244, 0.0386629, 0.1548, 0.0063497, 0.377447, 0.377447, 0.377447, 0.103884, 0.305372, 0.126631, 0.377447, 0.164051, 0.377447, 0.107205, 0.377447, 0.273358, 0.377447, 0.00353814, 2.80726e-05, 0.107432, 0.0895374, 0.0895374, 0.877549, 0.187884, 0.1548, 0.377447, 0.556062, 0.0501568, 0.53672, 0.79262, 0.417329, 0.377447, 0.00317908, 0.518744, 0.79262, 0.377447, 0.192573, 0.562274, 0.371039, 0.647869, 0.460781, 0.961265, 0.329731, 0.490454, 0.115722, 0.53672, 0.79262, 0.207182, 0.706707, 0.897867, 0.299456, 0.481751, 0.205785, 0.936113, 0.79262, 0.0518758, 0.255293, 0.993229, 0.433044, 0.433044, 0.208016, 0.999999, 0.925649, 0.251222, 0.11683, 1, 0.179126, 0.647311, 0.77643, 0.999994, 0.999976, 0.946966, 0.107432, 0.997495, 0.583591, 0.999226, 0.922104, 0.945779, 0.10831, 0.837851, 0.999773, 0.868096, 0.528084, 0.961002, 0.976484, 0.99873, 0.774189, 0.868887, 0.000245763, 0.983888, 0.825098, 0.830198, 0.000316535, 0.821136, 0.858541, 0.981435, 0.996669, 0.996752, 0.438995, 0.800376, 0.570068, 0.998064, 0.377447, 0.164599, 0.251222, 0.998283, 1, 0.15137, 0.674233, 0.890329, 0.203374, 0.203374, 0.470425, 0.999073, 0.423126, 0.203374, 0.804261, 0.937291, 0.985847, 0.882292, 0.998551, 0.998399, 0.998136, 0.764401, 0.653356, 0.99994, 0.426136, 0.855502, 0.991109, 0.999851, 0.675935, 0.203374, 0.237113, 0.284708, 0.22057, 0.912734, 0.309466, 0.102461, 0.686639, 0.472233, 0.207064, 0.237113, 0.207992, 0.377447, 0.125341, 0.438764, 0.0825074, 0.488027, 0.272511, 0.207992, 0.472233, 0.240199, 0.102308, 0.564495, 0.203374, 0.525303, 0.224568, 0.500992, 0.289782, 0.516526, 0.377447, 0.224568, 0.601526, 0.298587, 0.0544745, 0.200152, 0.178907]]), 'most_likely_positions_1D': None}),\n",
       " DynamicContainer({'p_x_given_n': array([[0.137922, 0.29469, 0.228001, 0.89633, 0.756762, 0.397785, 0.574504, 0.405129, 0.137922, 0.137922, 0.57283, 0.474417, 0.176472, 0.294166, 0.574504, 0.137922, 0.547567, 0.000656108, 1.15086e-16, 0.0390207, 0.57283, 0.137922, 0.0144198, 0.796374, 0.295079, 0.258565, 0.371393, 0.00464234, 0.0366308, 0.5402, 0.137922, 0.137922, 0.0463478, 0.916815, 0.820177, 0.137922, 0.422044, 0.0157733, 0.0217203, 0.150004, 0.24161, 0.327128, 0.314378, 0.137922, 0.137922, 0.258565, 0.754409, 0.00194602, 0.016152, 0.253803, 0.644817, 0.0909127, 0.287774, 0.702409, 0.0383894, 0.00197862, 0.0998878, 0.100033, 0.702409, 0.155527, 0.00970883, 0.819759, 0.464214, 0.457267, 0.969425, 0.830331, 0.0504245, 0.39559, 0.629682, 0.690182, 0.13652, 0.216277, 0.137922, 0.589979, 0.426806, 0.279482, 0.151871, 0.744028, 0.136946, 0.703112, 0.0554439, 0.544759, 0.400854, 0.262852, 0.0649458, 0.572736, 0.0500546, 0.570261, 0.0886524, 0.137922, 0.0755607, 0.570261, 0.137922, 0.238493, 0.0372785, 0.0155535, 0.137922, 0.137922, 0.611925, 0.00015771, 0.089763, 0.346685, 0.0861339, 0.433265, 0.0552829, 0.842289, 0.680792, 0.00285337, 0.1108, 0.000213427, 0.0372785, 0.0360219, 0.137922, 0.693972, 0.42, 0.089763, 0.137922, 0.137922, 0.237277, 0.55032, 0.582173, 0.137922, 0.687835, 0.841922, 0.137922, 0.277524, 0.632483, 0.42378, 0.137922, 0.144545, 0.582173, 0.137922, 0.373854, 0.42378, 0.42378, 0.49411, 0.632483, 0.42378, 0.137922, 0.137922, 0.448195, 0.292724, 0.127355, 0.582173, 0.582173, 0.22603, 0.364953, 0.258565, 0.42378, 0.364953, 0.137922, 0.587533, 0.118156, 0.455871, 0.137922, 0.22603, 0.137922, 0.643394, 0.565098, 0.137922, 0.137922, 0.582173, 0.137922, 0.137922, 0.42378, 0.42378, 0.582173, 0.137922, 0.354212, 0.00257624, 0.00409088, 0.137922, 0.137922, 0.137922, 0.137922, 0.137922, 0.137922, 0.137922, 0.865229, 0.0877055, 0.137922, 0.42378, 0.137922, 0.137922, 0.57283, 0.137922, 0.137922, 0.137922, 0.560307, 0.22603, 0.42378, 0.275324, 0.165226, 0.137922, 0.137922, 0.137922, 0.137922, 0.137922, 0.570261, 0.137922, 0.137922, 0.363278, 0.323173, 0.137922, 0.137922, 0.137922, 0.137922, 0.137922, 0.137922, 0.137922, 0.137922, 0.137922, 0.137922, 0.137922, 0.137922, 0.725868, 0.858975, 0.137922, 0.137922, 0.137922, 0.137922, 0.137922, 0.239955, 0.137922, 0.137922, 0.137922, 0.617305, 0.0052563, 0.000299721, 0.000503048],\n",
       "        [0.100723, 0.16637, 0.103363, 0.000810734, 0.0449206, 0.0245773, 0.130516, 0.340222, 0.100723, 0.100723, 0.0743205, 0.0193016, 0.0035968, 0.026106, 0.130516, 0.100723, 0.00456932, 3.07893e-08, 2.06683e-09, 0.73928, 0.0743205, 0.100723, 0.661328, 0.112859, 0.63942, 0.412828, 0.0148083, 0.00703412, 1.82746e-10, 2.14208e-05, 0.100723, 0.100723, 0.0029818, 0.000114834, 0.110502, 0.100723, 0.138558, 5.2831e-05, 1.67389e-09, 0.00822423, 0.693343, 0.158262, 3.49955e-08, 0.100723, 0.100723, 0.412828, 0.000514991, 8.41568e-11, 5.0121e-08, 1.91578e-09, 2.89194e-07, 9.30145e-06, 6.81209e-06, 7.82615e-09, 2.17608e-11, 6.49133e-07, 1.50876e-08, 1.81414e-07, 7.82615e-09, 1.29176e-12, 7.02544e-05, 0.0665591, 1.62837e-05, 0.0708076, 2.12251e-05, 0.0311583, 1.20087e-06, 0.00367975, 0.000267225, 0.000652026, 0.455883, 1.7172e-07, 0.100723, 4.68205e-06, 0.21284, 4.43856e-06, 2.74042e-08, 0.0147082, 7.01283e-09, 0.000716342, 9.11257e-13, 0.0661779, 0.206427, 0.00461891, 3.82875e-08, 0.000358046, 0.0202341, 0.0177177, 0.00156952, 0.100723, 7.02036e-05, 0.0177177, 0.100723, 1.75137e-06, 0.055854, 0.0104244, 0.100723, 0.100723, 0.00932218, 2.08662e-05, 0.170219, 0.00102049, 0.75666, 0.162823, 0.00134339, 0.0022148, 0.00630375, 0.0387597, 0.32125, 0.000139744, 0.055854, 0.0276792, 0.100723, 0.00492564, 0.0286932, 0.170219, 0.100723, 0.100723, 0.00315907, 0.119575, 0.0430916, 0.100723, 0.00497211, 0.00442031, 0.100723, 0.453825, 0.0134023, 0.0940098, 0.100723, 0.112347, 0.0430916, 0.100723, 0.0856649, 0.0940098, 0.0940098, 0.403415, 0.0134023, 0.0940098, 0.100723, 0.100723, 0.102386, 0.111553, 0.0490002, 0.0430916, 0.0430916, 0.118262, 0.0213185, 0.412828, 0.0940098, 0.0213185, 0.100723, 0.0640668, 0.172308, 0.095008, 0.100723, 0.118262, 0.100723, 0.0538298, 0.0802028, 0.100723, 0.100723, 0.0430916, 0.100723, 0.100723, 0.0940098, 0.0940098, 0.0430916, 0.100723, 0.271181, 0.135492, 0.621865, 0.100723, 0.100723, 0.100723, 0.100723, 0.100723, 0.100723, 0.100723, 0.058594, 0.868846, 0.100723, 0.0940098, 0.100723, 0.100723, 0.0743205, 0.100723, 0.100723, 0.100723, 0.0477879, 0.118262, 0.0940098, 0.182298, 0.0150248, 0.100723, 0.100723, 0.100723, 0.100723, 0.100723, 0.0177177, 0.100723, 0.100723, 0.132232, 0.113425, 0.100723, 0.100723, 0.100723, 0.100723, 0.100723, 0.100723, 0.100723, 0.100723, 0.100723, 0.100723, 0.100723, 0.100723, 0.0750279, 0.0605759, 0.100723, 0.100723, 0.100723, 0.100723, 0.100723, 0.274114, 0.100723, 0.100723, 0.100723, 0.0471109, 0.993431, 0.961372, 0.198018],\n",
       "        [0.383908, 0.405642, 0.453734, 0.102049, 0.167678, 0.565524, 0.225777, 0.0809309, 0.383908, 0.383908, 0.279092, 0.502697, 0.819388, 0.653811, 0.225777, 0.383908, 0.445584, 0.840695, 1.38367e-05, 0.0290846, 0.279092, 0.383908, 0.00484014, 0.0875971, 0.037581, 0.0733136, 0.608223, 0.986267, 0.963369, 0.458862, 0.383908, 0.383908, 0.947899, 0.0830443, 0.0548693, 0.383908, 0.41176, 0.981399, 0.978208, 0.83255, 0.0372943, 0.469029, 0.685594, 0.383908, 0.383908, 0.0733136, 0.244866, 0.998053, 0.980811, 0.746195, 0.355169, 0.909015, 0.712141, 0.297588, 0.961611, 0.998018, 0.900112, 0.899832, 0.297588, 0.844473, 0.989785, 0.0597517, 0.534736, 0.397462, 0.030538, 0.129456, 0.949484, 0.566477, 0.369848, 0.307324, 0.129031, 0.783493, 0.383908, 0.410014, 0.328453, 0.720044, 0.847504, 0.237074, 0.863054, 0.295811, 0.944555, 0.318832, 0.164271, 0.714918, 0.935044, 0.42488, 0.914467, 0.373975, 0.905287, 0.383908, 0.923878, 0.373975, 0.383908, 0.761122, 0.819926, 0.97394, 0.383908, 0.383908, 0.372774, 0.999777, 0.569868, 0.637621, 0.079155, 0.238779, 0.943281, 0.151848, 0.307927, 0.886424, 0.128954, 0.996578, 0.819926, 0.915922, 0.383908, 0.300303, 0.486386, 0.569868, 0.383908, 0.383908, 0.756805, 0.214383, 0.356297, 0.383908, 0.304655, 0.148207, 0.383908, 0.139779, 0.346741, 0.32741, 0.383908, 0.0729777, 0.356297, 0.383908, 0.42717, 0.32741, 0.32741, 0.0306672, 0.346741, 0.32741, 0.383908, 0.383908, 0.288153, 0.321306, 0.579023, 0.356297, 0.356297, 0.382351, 0.595856, 0.0733136, 0.32741, 0.595856, 0.383908, 0.281544, 0.176743, 0.236227, 0.383908, 0.382351, 0.383908, 0.232531, 0.319315, 0.383908, 0.383908, 0.356297, 0.383908, 0.383908, 0.32741, 0.32741, 0.356297, 0.383908, 0.186723, 0.00240247, 0.0014127, 0.383908, 0.383908, 0.383908, 0.383908, 0.383908, 0.383908, 0.383908, 0.0469835, 0.0107866, 0.383908, 0.32741, 0.383908, 0.383908, 0.279092, 0.383908, 0.383908, 0.383908, 0.31201, 0.382351, 0.32741, 0.188634, 0.712723, 0.383908, 0.383908, 0.383908, 0.383908, 0.383908, 0.373975, 0.383908, 0.383908, 0.251592, 0.42475, 0.383908, 0.383908, 0.383908, 0.383908, 0.383908, 0.383908, 0.383908, 0.383908, 0.383908, 0.383908, 0.383908, 0.383908, 0.136053, 0.0417891, 0.383908, 0.383908, 0.383908, 0.383908, 0.383908, 0.113169, 0.383908, 0.383908, 0.383908, 0.267608, 4.94027e-05, 4.25514e-06, 0.000156294],\n",
       "        [0.377447, 0.133298, 0.214902, 0.000810171, 0.0306392, 0.012114, 0.0692033, 0.173718, 0.377447, 0.377447, 0.0737571, 0.00358436, 0.000543114, 0.0259161, 0.0692033, 0.377447, 0.00227955, 0.158649, 0.999986, 0.192614, 0.0737571, 0.377447, 0.319412, 0.00316979, 0.02792, 0.255293, 0.00557628, 0.00205668, 2.58949e-07, 0.000916682, 0.377447, 0.377447, 0.00277183, 2.55121e-05, 0.0144515, 0.377447, 0.0276372, 0.00277438, 7.1364e-05, 0.00922173, 0.0277526, 0.0455809, 2.8319e-05, 0.377447, 0.377447, 0.255293, 0.000209856, 6.79623e-07, 0.00303716, 2.38906e-06, 1.42932e-05, 6.34443e-05, 7.84313e-05, 2.07263e-06, 3.95953e-08, 2.8107e-06, 1.26482e-09, 0.000135376, 2.07263e-06, 4.0376e-08, 0.00043641, 0.0539307, 0.00103335, 0.0744627, 1.61755e-05, 0.00905421, 9.05582e-05, 0.0342528, 0.000202146, 0.00184187, 0.278566, 0.000229059, 0.377447, 2.56642e-06, 0.0319006, 0.00047007, 0.000624643, 0.00419039, 8.28494e-07, 0.000360591, 8.15827e-07, 0.0702313, 0.228449, 0.0176105, 1.04667e-05, 0.00202569, 0.0152444, 0.038046, 0.00449082, 0.377447, 0.000491185, 0.038046, 0.377447, 0.000383431, 0.0869412, 8.20754e-05, 0.377447, 0.377447, 0.00597902, 4.45311e-05, 0.170149, 0.0146734, 0.0780511, 0.165133, 9.28874e-05, 0.0036491, 0.00497758, 0.071963, 0.438995, 0.00306845, 0.0869412, 0.0203767, 0.377447, 0.000799866, 0.0649214, 0.170149, 0.377447, 0.377447, 0.00275964, 0.115722, 0.0184379, 0.377447, 0.00253805, 0.00544983, 0.377447, 0.128873, 0.00737376, 0.1548, 0.377447, 0.67013, 0.0184379, 0.377447, 0.113311, 0.1548, 0.1548, 0.0718078, 0.00737376, 0.1548, 0.377447, 0.377447, 0.161266, 0.274417, 0.244621, 0.0184379, 0.0184379, 0.273358, 0.0178724, 0.255293, 0.1548, 0.0178724, 0.377447, 0.0668563, 0.532794, 0.212894, 0.377447, 0.273358, 0.377447, 0.0702448, 0.0353842, 0.377447, 0.377447, 0.0184379, 0.377447, 0.377447, 0.1548, 0.1548, 0.0184379, 0.377447, 0.187884, 0.85953, 0.372632, 0.377447, 0.377447, 0.377447, 0.377447, 0.377447, 0.377447, 0.377447, 0.0291936, 0.032662, 0.377447, 0.1548, 0.377447, 0.377447, 0.0737571, 0.377447, 0.377447, 0.377447, 0.0798953, 0.273358, 0.1548, 0.353744, 0.107026, 0.377447, 0.377447, 0.377447, 0.377447, 0.377447, 0.038046, 0.377447, 0.377447, 0.252898, 0.138652, 0.377447, 0.377447, 0.377447, 0.377447, 0.377447, 0.377447, 0.377447, 0.377447, 0.377447, 0.377447, 0.377447, 0.377447, 0.0630509, 0.0386597, 0.377447, 0.377447, 0.377447, 0.377447, 0.377447, 0.372762, 0.377447, 0.377447, 0.377447, 0.0679764, 0.00126349, 0.0383239, 0.801323]]), 'most_likely_positions_1D': None}),\n",
       " DynamicContainer({'p_x_given_n': array([[0.137922, 0.137922, 0.643914, 0.259421, 0.523551, 0.000688599, 0.137922, 0.137922, 0.137922, 0.000147954, 0.00271517, 0.546067, 0.243322, 0.95644, 0.186448, 0.542068, 0.137922, 0.640244, 0.632483, 0.55032, 0.137922, 0.22603, 0.348506, 0.410292, 0.137922, 0.137922, 0.363278, 0.622716, 0.137922, 0.137922, 0.42378, 0.137922, 0.582173, 0.582173, 0.363278, 0.410292, 0.677738, 0.137922, 0.185587, 0.323173, 0.493184, 0.137922, 0.511289, 0.528274, 0.00202411, 0.229655, 0.137922, 0.819842, 0.00406476, 0.55032, 0.214684, 0.0530666, 8.24094e-05, 0.122993, 0.137922, 0.105693, 0.00332384, 0.137922, 0.137922, 0.105693, 0.089019, 0.0656747, 2.78106e-05, 0.0871068, 1.20346e-06, 0.000467202, 0.0119842, 0.137922, 4.44877e-06, 9.99497e-18, 0.713351, 0.0347453, 0.00301959, 1.39764e-20, 0.00948906, 0.174159, 5.50084e-10, 1.13755e-31, 5.30522e-09, 0.00234386, 1.11231e-07, 1.19844e-19, 6.54588e-05, 7.58877e-07, 0.00240448, 1.38159e-23, 1.41908e-05, 1.00424e-05, 0.00771077, 4.99254e-09, 0.000216984, 1.42405e-09, 3.39906e-07, 1.00526e-05, 1.41908e-05, 2.3037e-08, 2.53487e-14, 2.30177e-10, 1.70861e-09, 0.000647991, 0.000741019, 0.144867, 3.81105e-08, 0.011162, 4.66707e-06, 2.69539e-07, 0.00982503, 0.00270335, 0.00236279, 9.42302e-08, 8.41213e-13, 3.97219e-07, 0.000157973, 0.0144748, 1.96127e-10, 2.53382e-05, 0.115339, 0.0310914, 8.08013e-07, 7.09495e-13, 0.00540147, 0.0718007, 0.233647, 7.56285e-31, 0.000202425, 7.82308e-06, 4.14073e-09, 1.77559e-13, 0.00256458, 0.233647, 0.444999, 0.000105219, 5.97869e-05, 9.08811e-10, 4.83648e-10, 5.97753e-06, 0.625198, 0.00417616, 1.59887e-06, 0.0240653, 0.183052, 0.0392623, 0.0010897, 0.00692234, 0.0325097, 1.85296e-06, 3.7989e-05, 2.33783e-05, 0.000758825, 0.0143489, 0.125749, 0.0250273, 3.05101e-05, 1.66596e-05, 0.0031645, 0.0239333, 0.00555681, 0.137922, 0.015744, 0.125749, 0.137922, 0.137922, 9.73841e-05, 0.000371736, 2.01916e-05, 1.07847e-05, 0.0250273, 0.00169753, 0.0390207, 0.0226747, 0.000138289, 0.000102116, 0.137922, 0.125749, 0.00480993, 0.0140901, 0.0036425, 0.0986395, 0.137922, 0.137922, 0.0240653, 0.125749, 0.000758825, 0.011235, 0.137922, 0.137922, 0.00279908, 0.000314624, 0.0903603, 0.22603, 0.0031645, 0.137922, 0.125749, 0.137922, 0.0250273, 0.137922, 0.889959, 0.337927, 0.0390207, 0.0031645, 0.000599812, 0.012119, 0.000465823, 0.00147145, 0.137922, 0.125749, 0.137922, 0.00344937, 0.354212, 0.125749, 0.137922, 0.125749, 0.00138153, 0.217742],\n",
       "        [0.100723, 0.100723, 0.0864873, 0.062162, 0.0434923, 0.346757, 0.100723, 0.100723, 0.100723, 0.00139469, 0.211222, 0.146887, 0.290085, 0.0342715, 0.236623, 0.0540968, 0.100723, 0.0664799, 0.0134023, 0.119575, 0.100723, 0.118262, 0.298983, 0.268426, 0.100723, 0.100723, 0.132232, 0.0590801, 0.100723, 0.100723, 0.0940098, 0.100723, 0.0430916, 0.0430916, 0.132232, 0.268426, 0.155631, 0.100723, 0.279858, 0.113425, 0.292379, 0.100723, 0.0421271, 0.170358, 0.200416, 0.44676, 0.100723, 0.0395816, 0.994954, 0.119575, 0.598643, 0.742498, 0.764152, 0.762716, 0.100723, 0.584984, 0.660067, 0.100723, 0.100723, 0.584984, 0.202676, 0.724025, 0.95042, 0.811866, 0.258755, 0.0751186, 0.817783, 0.100723, 0.0130261, 7.27392e-10, 0.0142123, 0.178518, 0.16328, 0.000427179, 0.89624, 0.26203, 0.00299992, 3.42381e-07, 0.078992, 0.458113, 0.0235831, 0.00105604, 0.923786, 0.309731, 0.276695, 0.000180321, 0.174785, 2.07697e-10, 4.05788e-12, 0.0451557, 0.335878, 0.686051, 0.749058, 0.178784, 0.174785, 0.0660899, 0.00103365, 6.8237e-08, 0.0472339, 0.338826, 0.427042, 0.581795, 0.0513921, 0.312289, 0.181295, 0.00335899, 9.86374e-05, 0.659656, 0.407418, 3.09471e-08, 1.03122e-09, 0.000946411, 0.380802, 0.0489866, 1.10559e-10, 0.00455772, 0.526657, 0.0558468, 3.39898e-08, 3.43972e-08, 0.51147, 0.655509, 0.0160206, 1.95341e-16, 0.470514, 2.00933e-05, 2.23578e-10, 1.30545e-07, 0.624073, 0.0160206, 0.191725, 0.0337054, 0.19094, 0.0627294, 2.32319e-05, 3.76301e-05, 0.0525078, 0.73566, 0.357539, 0.289229, 0.0653266, 0.115465, 0.733354, 0.772129, 0.836386, 0.303499, 0.717366, 0.422595, 0.328129, 0.550051, 0.554463, 0.718215, 0.241472, 0.383894, 0.488936, 0.605426, 0.710442, 0.100723, 0.5814, 0.554463, 0.100723, 0.100723, 0.202531, 0.593018, 0.747225, 0.0194107, 0.718215, 0.444144, 0.73928, 0.631148, 0.475001, 0.246132, 0.100723, 0.554463, 0.735002, 0.739794, 0.913446, 0.770562, 0.100723, 0.100723, 0.289229, 0.554463, 0.328129, 0.00831418, 0.100723, 0.100723, 0.692071, 0.449981, 0.406049, 0.118262, 0.488936, 0.100723, 0.554463, 0.100723, 0.718215, 0.100723, 0.0154685, 0.0315193, 0.73928, 0.488936, 0.641744, 0.672618, 0.715446, 0, 0.100723, 0.554463, 0.100723, 0.597539, 0.271181, 0.554463, 0.100723, 0.554463, 0.733281, 0.0393466],\n",
       "        [0.383908, 0.383908, 0.187107, 0.425545, 0.0929854, 0.000686239, 0.383908, 0.383908, 0.383908, 0.00168755, 0.189003, 0.151967, 0.0467231, 0.00658859, 0.0558466, 0.34102, 0.383908, 0.23943, 0.346741, 0.214383, 0.383908, 0.382351, 0.139522, 0.217397, 0.383908, 0.383908, 0.251592, 0.289518, 0.383908, 0.383908, 0.32741, 0.383908, 0.356297, 0.356297, 0.251592, 0.217397, 0.0985478, 0.383908, 0.142451, 0.42475, 0.162905, 0.383908, 0.408743, 0.0573105, 0.00342234, 0.0527999, 0.383908, 0.0971332, 7.07306e-05, 0.214383, 0.0783418, 0.00250092, 3.67215e-06, 0.017734, 0.383908, 0.0162967, 0.00551625, 0.383908, 0.383908, 0.0162967, 0.171585, 0.00311838, 1.12945e-08, 0.00776248, 8.49593e-05, 0.00231063, 0.000338099, 0.383908, 3.35098e-05, 0, 0.252375, 0.022485, 0.00253995, 9.50868e-12, 0.0167478, 0.0721413, 1.49364e-06, 1.46772e-16, 1.73126e-07, 0.00489998, 3.54637e-06, 4.32262e-08, 2.68728e-05, 6.17269e-06, 0.0191706, 4.04016e-12, 0.000102848, 0.000728595, 0.992289, 1.25268e-07, 0.000390982, 3.47362e-15, 6.75622e-06, 7.0222e-05, 0.000102848, 9.87754e-12, 6.94636e-07, 0.000139765, 5.16885e-08, 0.00317569, 0.00126774, 0.114656, 3.13585e-06, 0.102824, 5.11173e-05, 0.00501099, 0.934313, 0.00142892, 0.00492998, 0.000717868, 1.09737e-08, 3.8241e-05, 0.000238849, 0.0729754, 7.02678e-05, 3.72289e-05, 0.15463, 0.192218, 0.0106697, 1.38645e-06, 0.0492718, 0.0214675, 0.37074, 1.04135e-14, 0.0250166, 0.000353452, 4.51521e-06, 5.3781e-06, 0.00123776, 0.37074, 0.147576, 0.00965495, 0.000532052, 0.000119983, 0.000810824, 0.00127161, 0.239697, 0.0230505, 0.00186588, 0.204955, 0.312698, 0.014566, 0.00602335, 0.0138851, 0.0385673, 0.00309252, 0.000317449, 0.0104358, 0.0964561, 0.0653347, 0.0952192, 0.0487658, 0.0179699, 0.00832659, 0.0691352, 0.0459378, 0.0123079, 0.383908, 0.0826779, 0.0952192, 0.383908, 0.383908, 0.0294361, 0.102593, 0.013277, 0.0984426, 0.0487658, 0.0531659, 0.0290846, 0.0475906, 0.148431, 0.666665, 0.383908, 0.0952192, 0.0156422, 0.080135, 0.0385505, 0.0665776, 0.383908, 0.383908, 0.204955, 0.0952192, 0.0964561, 0.357968, 0.383908, 0.383908, 0.0376737, 0.0226575, 0.213809, 0.382351, 0.0691352, 0.383908, 0.0952192, 0.383908, 0.0487658, 0.383908, 0.0943288, 0.590722, 0.0290846, 0.0691352, 0.0045057, 0.179413, 0.225669, 0.994796, 0.383908, 0.0952192, 0.383908, 0.0308491, 0.186723, 0.0952192, 0.383908, 0.0952192, 0.00322512, 0.295868],\n",
       "        [0.377447, 0.377447, 0.0824913, 0.252872, 0.339971, 0.651868, 0.377447, 0.377447, 0.377447, 0.99677, 0.59706, 0.155079, 0.41987, 0.0026997, 0.521082, 0.0628149, 0.377447, 0.0538462, 0.00737376, 0.115722, 0.377447, 0.273358, 0.212989, 0.103884, 0.377447, 0.377447, 0.252898, 0.0286859, 0.377447, 0.377447, 0.1548, 0.377447, 0.0184379, 0.0184379, 0.252898, 0.103884, 0.0680831, 0.377447, 0.392104, 0.138652, 0.0515319, 0.377447, 0.0378401, 0.244057, 0.794138, 0.270785, 0.377447, 0.0434428, 0.000910894, 0.115722, 0.108331, 0.201935, 0.235762, 0.0965577, 0.377447, 0.293026, 0.331092, 0.377447, 0.377447, 0.293026, 0.53672, 0.207182, 0.0495521, 0.0932646, 0.741159, 0.922104, 0.169895, 0.377447, 0.986936, 1, 0.0200611, 0.764252, 0.831161, 0.999573, 0.0775235, 0.49167, 0.996999, 1, 0.921008, 0.534643, 0.976413, 0.998944, 0.0761219, 0.690262, 0.70173, 0.99982, 0.825098, 0.999261, 2.38188e-07, 0.954844, 0.663514, 0.313949, 0.250935, 0.821136, 0.825098, 0.93391, 0.998966, 0.99986, 0.952766, 0.65735, 0.570949, 0.158682, 0.948605, 0.573725, 0.818649, 0.99163, 0.0557636, 0.336212, 0.585289, 0.999282, 1, 0.999015, 0.618801, 0.863563, 0.99993, 0.99538, 0.203374, 0.720844, 0.989329, 0.999999, 0.433856, 0.251222, 0.379592, 1, 0.504267, 0.999619, 0.999995, 0.999994, 0.372124, 0.379592, 0.2157, 0.956534, 0.808469, 0.937151, 0.999166, 0.998685, 0.0825967, 0.237113, 0.640593, 0.481751, 0.438923, 0.830707, 0.259533, 0.207064, 0.0925373, 0.693407, 0.282278, 0.566945, 0.574656, 0.370266, 0.224568, 0.207992, 0.740528, 0.607763, 0.438764, 0.324703, 0.271694, 0.377447, 0.320178, 0.224568, 0.377447, 0.377447, 0.767936, 0.304017, 0.239478, 0.882136, 0.207992, 0.500992, 0.192614, 0.298587, 0.376429, 0.0871003, 0.377447, 0.224568, 0.244546, 0.165981, 0.044361, 0.0642207, 0.377447, 0.377447, 0.481751, 0.224568, 0.574656, 0.622482, 0.377447, 0.377447, 0.267456, 0.527047, 0.289782, 0.273358, 0.438764, 0.377447, 0.224568, 0.377447, 0.207992, 0.377447, 0.000243931, 0.0398323, 0.192614, 0.438764, 0.35315, 0.13585, 0.0584194, 0.00373256, 0.377447, 0.224568, 0.377447, 0.368163, 0.187884, 0.224568, 0.377447, 0.224568, 0.262113, 0.447043]]), 'most_likely_positions_1D': None}),\n",
       " DynamicContainer({'p_x_given_n': array([[0.370057, 0.57283, 0.137922, 0.966046, 0.248218, 0.29469, 0.137922, 0.258449, 0.713936, 0.410292, 0.816255, 0.272436, 0.385206, 0.842289, 0.293842, 0.632633, 0.137922, 0.509197, 0.293842, 0.29469, 0.00819203, 1.22698e-25, 3.14867e-12, 0.1108, 0.137922, 0.632633, 0.137922, 0.0340414, 0.842289, 0.137922, 0.57283, 0.137922, 0.295079, 0.137922, 0.137922, 0.137922, 0.137922, 0.842289, 0.137922, 0.22603, 0.27108, 0.632633, 0.905992, 0.793498, 0.137922, 0.137922, 0.509197, 0.942648, 0.295079, 0.137922, 0.137922, 0.00202273, 0.121429, 0.213624, 0.295079, 0.474776, 0.053604, 0.748403, 0.00131347, 0.474776, 0.253871, 0.724944, 0.136157, 0.354212, 0.292929, 2.65976e-06, 0.000130363, 9.43686e-05, 0.0224781, 0.422029, 0.00262508, 0.461354, 0.0368896, 0.644817, 0.354699, 4.04418e-05, 0.690226, 0.0930773, 0.0269164, 0.00871524, 0.662789, 0.297352, 0.411745, 0.0641574, 0.198605, 0.0614948, 0.560307, 0.197581, 0.920984, 0.241035, 0.0498942, 0.745298, 0.431279, 0.249515, 0.219095, 0.701658, 0.137922, 0.400854, 0.255075, 0.165211, 0.0500546, 0.530789, 0.260309, 0.609254, 0.708991, 0.652132, 0.232625, 0.233647, 0.000391799, 0.638139, 0.570261, 0.188532, 0.912472, 0.302445, 0.137922, 0.232625, 0.660179, 0.0163422, 0.137922, 0.137922, 0.0478913, 0.00130282, 0.0372785, 0.0360219, 0.089763, 0.0106103, 0.137922, 0.00750662, 0.0131196, 0.137922, 0.137922, 0.137922, 0.467545, 0.191222, 0.137922, 0.137922, 0.693972, 0.190981, 0.373854, 0.410292, 0.137922, 0.76011, 0.42378, 0.687835, 0.137922, 0.373854, 0.693972, 0.137922, 0.22603, 0.290819, 0.22603, 0.22603, 0.137922, 0.42378, 0.477229, 0.410292, 0.364953, 0.42378, 0.137922, 0.542068, 0.55032, 0.42378, 0.137922, 0.137922, 0.137922, 0.137922, 0.00857905, 0.22603, 0.137922, 0.582173, 0.22603, 0.513844, 0.91743, 0.137922, 0.137922, 0.137922, 0.137922, 0.137922, 0.582173, 0.137922, 0.137922, 0.137922, 0.22603, 0.137922, 0.137922, 0.137922],\n",
       "        [0.0476799, 0.0743205, 0.100723, 0.00377783, 0.724275, 0.16637, 0.100723, 0.311463, 0.0691223, 0.268426, 3.09555e-06, 0.254752, 0.243728, 0.0022148, 0.340337, 0.0156773, 0.100723, 0.0558906, 0.340337, 0.16637, 0.000152734, 1.75768e-20, 8.30658e-10, 0.32125, 0.100723, 0.0156773, 0.100723, 0.00431925, 0.0022148, 0.100723, 0.0743205, 0.100723, 0.63942, 0.100723, 0.100723, 0.100723, 0.100723, 0.0022148, 0.100723, 0.118262, 0.197146, 0.0156773, 0.00526587, 0.0203233, 0.100723, 0.100723, 0.0558906, 0.0166163, 0.63942, 0.100723, 0.100723, 3.66809e-05, 3.71933e-10, 1.55641e-05, 0.63942, 0.148669, 0.105257, 1.92378e-05, 0.860212, 0.148669, 0.546228, 6.75218e-07, 4.71132e-11, 0.271181, 0.0193564, 4.51701e-11, 1.49777e-09, 0.000703722, 0.000774005, 0.000105168, 5.01416e-09, 5.86043e-07, 8.84012e-08, 2.89194e-07, 1.23253e-05, 7.80655e-09, 0.140029, 8.54227e-07, 3.96462e-13, 7.42088e-08, 1.12709e-06, 1.0714e-06, 6.45124e-06, 1.66107e-11, 0.684948, 4.89599e-07, 0.0477879, 0.000135295, 0.000314071, 9.39345e-06, 2.05917e-12, 0.00597774, 9.12202e-05, 0.000258927, 0.00105302, 5.20786e-06, 0.100723, 0.206427, 0.0547148, 9.2044e-07, 0.0202341, 0.0315029, 0.000782604, 7.93461e-05, 0.00157236, 0.000157572, 0.0279348, 0.0160206, 0.00389543, 0.155754, 0.0177177, 0.25442, 0.0157888, 1.31575e-05, 0.100723, 0.0279348, 0.00692717, 0.00062841, 0.100723, 0.100723, 0.220909, 0.0729501, 0.055854, 0.0276792, 0.170219, 0.0273819, 0.100723, 3.34511e-05, 5.73832e-05, 0.100723, 0.100723, 0.100723, 0.00955224, 0.0110914, 0.100723, 0.100723, 0.00492564, 0.00739985, 0.0856649, 0.268426, 0.100723, 0.0857927, 0.0940098, 0.00497211, 0.100723, 0.0856649, 0.00492564, 0.100723, 0.118262, 0.0429181, 0.118262, 0.118262, 0.100723, 0.0940098, 0.0626768, 0.268426, 0.0213185, 0.0940098, 0.100723, 0.0540968, 0.119575, 0.0940098, 0.100723, 0.100723, 0.100723, 0.100723, 0.386862, 0.118262, 0.100723, 0.0430916, 0.118262, 0.23643, 0.043526, 0.100723, 0.100723, 0.100723, 0.100723, 0.100723, 0.0430916, 0.100723, 0.100723, 0.100723, 0.118262, 0.100723, 0.100723, 0.100723],\n",
       "        [0.505988, 0.279092, 0.383908, 0.0299427, 0.0161846, 0.405642, 0.383908, 0.420279, 0.176885, 0.217397, 0.18372, 0.418967, 0.17268, 0.151848, 0.186695, 0.339057, 0.383908, 0.400793, 0.186695, 0.405642, 0.990229, 1.80502e-12, 0.000141852, 0.128954, 0.383908, 0.339057, 0.383908, 0.658543, 0.151848, 0.383908, 0.279092, 0.383908, 0.037581, 0.383908, 0.383908, 0.383908, 0.383908, 0.151848, 0.383908, 0.382351, 0.380269, 0.339057, 0.0856941, 0.179821, 0.383908, 0.383908, 0.400793, 0.0405652, 0.037581, 0.383908, 0.383908, 0.840024, 0.87809, 0.774654, 0.037581, 0.320498, 0.376629, 0.251323, 0.00730345, 0.320498, 0.0500943, 0.27505, 0.863843, 0.186723, 0.679804, 0.995211, 0.999865, 0.00271743, 0.971619, 0.572332, 0.997375, 0.538645, 0.960657, 0.355169, 0.644527, 0.999959, 0.162531, 0.906479, 0.973083, 0.991284, 0.33721, 0.702615, 0.58822, 0.935842, 0.0710941, 0.935354, 0.31201, 0.802078, 0.0783604, 0.758898, 0.950104, 0.245949, 0.568059, 0.749946, 0.774422, 0.297514, 0.383908, 0.164271, 0.674508, 0.833994, 0.914467, 0.369737, 0.646997, 0.388517, 0.28861, 0.347585, 0.707084, 0.37074, 0.993833, 0.0986743, 0.373975, 0.400164, 0.0694506, 0.697526, 0.383908, 0.707084, 0.330805, 0.98281, 0.383908, 0.383908, 0.626112, 0.871912, 0.819926, 0.915922, 0.569868, 0.837533, 0.383908, 0.992393, 0.986679, 0.383908, 0.383908, 0.383908, 0.517922, 0.770925, 0.383908, 0.383908, 0.300303, 0.788681, 0.42717, 0.217397, 0.383908, 0.094509, 0.32741, 0.304655, 0.383908, 0.42717, 0.300303, 0.383908, 0.382351, 0.522814, 0.382351, 0.382351, 0.383908, 0.32741, 0.404036, 0.217397, 0.595856, 0.32741, 0.383908, 0.34102, 0.214383, 0.32741, 0.383908, 0.383908, 0.383908, 0.383908, 0.00110948, 0.382351, 0.383908, 0.356297, 0.382351, 0.122088, 0.0105058, 0.383908, 0.383908, 0.383908, 0.383908, 0.383908, 0.356297, 0.383908, 0.383908, 0.383908, 0.382351, 0.383908, 0.383908, 0.383908],\n",
       "        [0.0762755, 0.0737571, 0.377447, 0.000233712, 0.0113229, 0.133298, 0.377447, 0.00980908, 0.0400561, 0.103884, 2.22673e-05, 0.0538451, 0.198386, 0.0036491, 0.179126, 0.0126331, 0.377447, 0.0341198, 0.179126, 0.133298, 0.00142611, 1, 0.999858, 0.438995, 0.377447, 0.0126331, 0.377447, 0.303097, 0.0036491, 0.377447, 0.0737571, 0.377447, 0.02792, 0.377447, 0.377447, 0.377447, 0.377447, 0.0036491, 0.377447, 0.273358, 0.151505, 0.0126331, 0.00304786, 0.00635709, 0.377447, 0.377447, 0.0341198, 0.000170764, 0.02792, 0.377447, 0.377447, 0.157917, 0.000481341, 0.0117064, 0.02792, 0.0560563, 0.464509, 0.000255483, 0.131171, 0.0560563, 0.149807, 5.57454e-06, 5.59938e-09, 0.187884, 0.00791033, 0.00478649, 4.34139e-06, 0.996484, 0.00512867, 0.00553353, 1.85657e-07, 1.62287e-08, 0.0024533, 1.42932e-05, 0.000762316, 2.21922e-07, 0.00721411, 0.00044237, 6.63737e-07, 6.65658e-07, 5.07723e-08, 3.13145e-05, 2.86637e-05, 3.28587e-07, 0.0453528, 0.00315018, 0.0798953, 0.000206287, 0.00034177, 5.72283e-05, 1.46564e-06, 0.0027754, 0.000570802, 0.000280182, 0.00542995, 0.000822942, 0.377447, 0.228449, 0.0157025, 0.000794673, 0.0152444, 0.0679713, 0.0919118, 0.00214939, 0.000827293, 0.000124714, 0.0323562, 0.379592, 0.00187994, 0.107432, 0.038046, 0.156885, 0.00228823, 1.54599e-05, 0.377447, 0.0323562, 0.00208964, 0.00021937, 0.377447, 0.377447, 0.105087, 0.0538349, 0.0869412, 0.0203767, 0.170149, 0.124475, 0.377447, 6.71894e-05, 0.000143683, 0.377447, 0.377447, 0.377447, 0.00498085, 0.0267615, 0.377447, 0.377447, 0.000799866, 0.012938, 0.113311, 0.103884, 0.377447, 0.0595883, 0.1548, 0.00253805, 0.377447, 0.113311, 0.000799866, 0.377447, 0.273358, 0.143449, 0.273358, 0.273358, 0.377447, 0.1548, 0.0560574, 0.103884, 0.0178724, 0.1548, 0.377447, 0.0628149, 0.115722, 0.1548, 0.377447, 0.377447, 0.377447, 0.377447, 0.60345, 0.273358, 0.377447, 0.0184379, 0.273358, 0.127638, 0.0285386, 0.377447, 0.377447, 0.377447, 0.377447, 0.377447, 0.0184379, 0.377447, 0.377447, 0.377447, 0.273358, 0.377447, 0.377447, 0.377447]]), 'most_likely_positions_1D': None}),\n",
       " DynamicContainer({'p_x_given_n': array([[0.29469, 0.29469, 0.137922, ..., 0.0035355, 0.00169585, 0.0808216],\n",
       "        [0.16637, 0.16637, 0.100723, ..., 0.660693, 0.430581, 0.0283757],\n",
       "        [0.405642, 0.405642, 0.383908, ..., 0.0216978, 0.106459, 0.61799],\n",
       "        [0.133298, 0.133298, 0.377447, ..., 0.314074, 0.461263, 0.272813]]), 'most_likely_positions_1D': None})]"
      ]
     },
     "execution_count": 24,
     "metadata": {},
     "output_type": "execute_result"
    }
   ],
   "source": [
    "from pyphoplacecellanalysis.Analysis.Decoder.reconstruction import DecodedFilterEpochsResult\n",
    "from pyphoplacecellanalysis.General.Pipeline.Stages.ComputationFunctions.MultiContextComputationFunctions.DirectionalPlacefieldGlobalComputationFunctions import DirectionalMergedDecodersResult\n",
    "\n",
    "directional_merged_decoders_result: DirectionalMergedDecodersResult = curr_active_pipeline.global_computation_results.computed_data['DirectionalMergedDecoders']\n",
    "laps_filter_epochs_decoder_result: DecodedFilterEpochsResult = directional_merged_decoders_result.all_directional_laps_filter_epochs_decoder_result\n",
    "\n",
    "\n",
    "laps_directional_marginals, laps_directional_all_epoch_bins_marginal, laps_most_likely_direction_from_decoder, laps_is_most_likely_direction_LR_dir  = directional_merged_decoders_result.laps_directional_marginals_tuple\n",
    "# laps_directional_marginals # a list just like `laps_filter_epochs_decoder_result.p_x_given_n_list`   # .shape (2, n_curr_epoch_time_bins) - (2, 120)\n",
    "laps_track_identity_marginals, laps_track_identity_all_epoch_bins_marginal, laps_most_likely_track_identity_from_decoder, laps_is_most_likely_track_identity_Long = directional_merged_decoders_result.laps_track_identity_marginals_tuple\n",
    "\n",
    "# .shape: (n_x_bins, 4, n_curr_epoch_time_bins) - (63, 4, 120)\n",
    "# laps_directional_marginals\n",
    "raw_posterior_laps_marginals = DirectionalMergedDecodersResult.build_non_marginalized_raw_posteriors(laps_filter_epochs_decoder_result)\n",
    "raw_posterior_laps_marginals"
   ]
  },
  {
   "cell_type": "code",
   "execution_count": 25,
   "id": "2438b1d8",
   "metadata": {},
   "outputs": [
    {
     "data": {
      "text/plain": [
       "array([0, 1, 0, 1, 0, 1, 0, 1, 0, 1, 0, 1, 0, 1, 0, 1, 0, 1, 0, 1, 0, 1, 0, 1, 0, 1, 0, 1, 0, 1, 0, 1, 0, 1, 0, 1, 0, 1, 0, 1, 0, 1, 0, 1, 0, 1, 0, 1, 0, 1, 0, 1, 0, 1, 0, 1, 0, 1, 0, 1, 0, 1, 0, 1, 0, 1, 0, 1, 0, 1, 0, 1, 0, 1, 0, 1, 0, 1, 0, 1])"
      ]
     },
     "execution_count": 25,
     "metadata": {},
     "output_type": "execute_result"
    }
   ],
   "source": [
    "laps_most_likely_direction_from_decoder"
   ]
  },
  {
   "cell_type": "code",
   "execution_count": null,
   "id": "2cf31210",
   "metadata": {},
   "outputs": [],
   "source": [
    "\n",
    "epoch_id = 0\n",
    "a_raw_posterior_marginal_p_x_given_n = raw_posterior_laps_marginals[epoch_id]['p_x_given_n'] # .shape: (4, n_curr_epoch_time_bins) - (63, 4, 120)\n",
    "print(f'a_raw_posterior_marginal_p_x_given_n: {np.shape(a_raw_posterior_marginal_p_x_given_n)}') # .shape: (4, n_curr_epoch_time_bins) - (4, 120)\n",
    "# a_raw_posterior_marginal_p_x_given_n\n",
    "\n",
    "\n",
    "epoch_id = 0\n",
    "a_marginal_dir_p_x_given_n = laps_directional_marginals[epoch_id]['p_x_given_n'] # .shape: (n_x_bins, 4, n_curr_epoch_time_bins) - (63, 4, 120)\n",
    "print(f'a_marginal_dir_p_x_given_n: {np.shape(a_marginal_dir_p_x_given_n)}') # .shape: (2, n_curr_epoch_time_bins) - (2, 120)\n",
    "# a_marginal_dir_p_x_given_n\n",
    "a_p_x_given_n = laps_filter_epochs_decoder_result.p_x_given_n_list[epoch_id] # .shape: (n_x_bins, 4, n_curr_epoch_time_bins) - (63, 4, 120)"
   ]
  },
  {
   "cell_type": "code",
   "execution_count": null,
   "id": "13800650",
   "metadata": {},
   "outputs": [],
   "source": [
    "import numpy as np\n",
    "import matplotlib.pyplot as plt\n",
    "from PIL import Image\n",
    "from pyphocorehelpers.plotting.media_output_helpers import save_array_as_image\n",
    "\n",
    "## Outputs the three decoded posteriors from the marginal decoders\n",
    "parent_array_as_image_output_folder: Path = Path(f'output/array_as_image').resolve()\n",
    "parent_array_as_image_output_folder.mkdir(exist_ok=True)\n",
    "parent_array_as_image_output_folder: Path = parent_array_as_image_output_folder.joinpath(f\"{curr_active_pipeline.get_session_context()}\").resolve()\n",
    "parent_array_as_image_output_folder.mkdir(exist_ok=True)\n",
    "\n",
    "file_uri_from_path(parent_array_as_image_output_folder)"
   ]
  },
  {
   "cell_type": "code",
   "execution_count": null,
   "id": "2af77259",
   "metadata": {},
   "outputs": [],
   "source": [
    "from pyphoplacecellanalysis.General.Pipeline.Stages.ComputationFunctions.MultiContextComputationFunctions.DirectionalPlacefieldGlobalComputationFunctions import DirectionalMergedDecodersResult\n",
    "\n",
    "# f\"{curr_active_pipeline.get_session_context()}\"\n",
    "# curr_active_pipeline.session_name\n",
    "directional_merged_decoders_result.laps_time_bin_marginals_df\n"
   ]
  },
  {
   "cell_type": "code",
   "execution_count": null,
   "id": "c58c46d1",
   "metadata": {},
   "outputs": [],
   "source": [
    "(laps_marginals_df, laps_out_path, laps_time_bin_marginals_df, laps_time_bin_marginals_out_path), (ripple_marginals_df, ripple_out_path, ripple_time_bin_marginals_df, ripple_time_bin_marginals_out_path) = directional_merged_decoders_result.compute_and_export_marginals_df_csvs(parent_output_path=parent_array_as_image_output_folder, active_context=curr_active_pipeline.get_session_context())\n",
    "laps_marginals_df"
   ]
  },
  {
   "cell_type": "markdown",
   "id": "2c9e04e7",
   "metadata": {},
   "source": [
    "# TODO: 2024-01-23 - Writes the posteriors out to file "
   ]
  },
  {
   "cell_type": "code",
   "execution_count": null,
   "id": "78cb2e92",
   "metadata": {},
   "outputs": [],
   "source": [
    "\n",
    "epoch_id: int = 3\n",
    "epoch_id_identifier_str: str = 'lap'\n",
    "epoch_id_str = f\"{epoch_id_identifier_str}[{epoch_id}]\"\n",
    "\n",
    "_img_path = parent_array_as_image_output_folder.joinpath(f'{epoch_id_str}_marginal_track_identity_point.png').resolve()\n",
    "img_data = np.atleast_2d(collapsed_per_lap_epoch_marginal_track_identity_point[epoch_id,:]).T\n",
    "marginal_dir_tuple = save_array_as_image(img_data, desired_height=50, desired_width=None, skip_img_normalization=True, out_path=_img_path)\n",
    "\n",
    "_img_path = parent_array_as_image_output_folder.joinpath(f'{epoch_id_str}_marginal_dir_point.png').resolve()\n",
    "img_data = np.atleast_2d(collapsed_per_lap_epoch_marginal_dir_point[epoch_id,:]).T\n",
    "marginal_dir_tuple = save_array_as_image(img_data, desired_height=50, desired_width=None, skip_img_normalization=True, out_path=_img_path)\n"
   ]
  },
  {
   "cell_type": "code",
   "execution_count": null,
   "id": "9585a85a",
   "metadata": {},
   "outputs": [],
   "source": [
    "def save_posterior(raw_posterior_laps_marginals, laps_directional_marginals, laps_track_identity_marginals, collapsed_per_lap_epoch_marginal_dir_point, collapsed_per_lap_epoch_marginal_track_identity_point, parent_array_as_image_output_folder: Path, epoch_id_identifier_str: str = 'lap', epoch_id: int = 9):\n",
    "\t\"\"\" 2024-01-23 - Writes the posteriors out to file \n",
    "\t\n",
    "\t\"\"\"\n",
    "\tassert parent_array_as_image_output_folder.exists()\n",
    "\t\n",
    "\tepoch_id_str = f\"{epoch_id_identifier_str}[{epoch_id}]\"\n",
    "\t_img_path = parent_array_as_image_output_folder.joinpath(f'{epoch_id_str}_raw_marginal.png').resolve()\n",
    "\timg_data = raw_posterior_laps_marginals[epoch_id]['p_x_given_n'].astype(float)  # .shape: (4, n_curr_epoch_time_bins) - (63, 4, 120)\n",
    "\traw_tuple = save_array_as_image(img_data, desired_height=100, desired_width=None, skip_img_normalization=True, out_path=_img_path)\n",
    "\t# image_raw, path_raw = raw_tuple\n",
    "\n",
    "\t_img_path = parent_array_as_image_output_folder.joinpath(f'{epoch_id_str}_marginal_dir.png').resolve()\n",
    "\timg_data = laps_directional_marginals[epoch_id]['p_x_given_n'].astype(float)\n",
    "\tmarginal_dir_tuple = save_array_as_image(img_data, desired_height=50, desired_width=None, skip_img_normalization=True, out_path=_img_path)\n",
    "\t# image_marginal_dir, path_marginal_dir = marginal_dir_tuple\n",
    "\n",
    "\t_img_path = parent_array_as_image_output_folder.joinpath(f'{epoch_id_str}_marginal_track_identity.png').resolve()\n",
    "\timg_data = laps_track_identity_marginals[epoch_id]['p_x_given_n'].astype(float)\n",
    "\tmarginal_track_identity_tuple = save_array_as_image(img_data, desired_height=50, desired_width=None, skip_img_normalization=True, out_path=_img_path)\n",
    "\t# image_marginal_track_identity, path_marginal_track_identity = marginal_track_identity_tuple\n",
    "\n",
    "\n",
    "\t_img_path = parent_array_as_image_output_folder.joinpath(f'{epoch_id_str}_marginal_track_identity_point.png').resolve()\n",
    "\timg_data = np.atleast_2d(collapsed_per_lap_epoch_marginal_track_identity_point[epoch_id,:]).T\n",
    "\tmarginal_dir_point_tuple = save_array_as_image(img_data, desired_height=50, desired_width=None, skip_img_normalization=True, out_path=_img_path)\n",
    "\n",
    "\t_img_path = parent_array_as_image_output_folder.joinpath(f'{epoch_id_str}_marginal_dir_point.png').resolve()\n",
    "\timg_data = np.atleast_2d(collapsed_per_lap_epoch_marginal_dir_point[epoch_id,:]).T\n",
    "\tmarginal_track_identity_point_tuple = save_array_as_image(img_data, desired_height=50, desired_width=None, skip_img_normalization=True, out_path=_img_path)\n",
    "\n",
    "\n",
    "\treturn raw_tuple, marginal_dir_tuple, marginal_track_identity_tuple, marginal_dir_point_tuple, marginal_track_identity_point_tuple\n",
    "\t\n",
    "\n",
    "\n",
    "collapsed_per_lap_epoch_marginal_track_identity_point = laps_marginals_df[['P_Long', 'P_Short']].to_numpy().astype(float)\n",
    "collapsed_per_lap_epoch_marginal_dir_point = laps_marginals_df[['P_LR', 'P_RL']].to_numpy().astype(float)\n",
    "\n",
    "for epoch_id in np.arange(laps_filter_epochs_decoder_result.num_filter_epochs):\n",
    "\traw_tuple, marginal_dir_tuple, marginal_track_identity_tuple, marginal_dir_point_tuple, marginal_track_identity_point_tuple = save_posterior(raw_posterior_laps_marginals, laps_directional_marginals, laps_track_identity_marginals, collapsed_per_lap_epoch_marginal_dir_point, collapsed_per_lap_epoch_marginal_track_identity_point,\n",
    "\t\t\t\t\t\t\t\t\t\t\t\t\t\t\t\t\t\t\t    parent_array_as_image_output_folder=parent_array_as_image_output_folder, epoch_id_identifier_str='lap', epoch_id=epoch_id)"
   ]
  },
  {
   "cell_type": "code",
   "execution_count": null,
   "id": "808816e8",
   "metadata": {},
   "outputs": [],
   "source": []
  },
  {
   "cell_type": "code",
   "execution_count": null,
   "id": "629b20d5",
   "metadata": {},
   "outputs": [],
   "source": [
    "import napari\n",
    "\n",
    "# img_data = a_p_x_given_n.astype(float).transpose(2, 0, 1)\n",
    "# img_data = a_p_x_given_n.astype(float)\n",
    "img_data = a_marginal_dir_p_x_given_n.astype(float)\n",
    "# img_data = a_raw_posterior_marginal_p_x_given_n.astype(float)\n",
    "\n",
    "print(f'np.shape(img_data): {np.shape(img_data)}')\n",
    "# out = napari.gui_qt()\n",
    "# viewer = napari.view_image(data.astronaut(), rgb=True)\n",
    "viewer = napari.view_image(img_data) # rgb=True\n",
    "\n",
    "viewer"
   ]
  },
  {
   "cell_type": "code",
   "execution_count": null,
   "id": "2dad6729",
   "metadata": {},
   "outputs": [],
   "source": [
    "if 'snapshot_occupancy_weighted_tuning_maps' not in active_relative_entropy_results:\n",
    "\tactive_relative_entropy_results['snapshot_occupancy_weighted_tuning_maps'] = np.stack([placefield_snapshot.occupancy_weighted_tuning_maps_matrix for placefield_snapshot in active_relative_entropy_results['historical_snapshots'].values()])\n",
    "\n",
    "\n",
    "image_layer_dict = {}\n",
    "layer_properties_dict = {\n",
    "\t'snapshot_occupancy_weighted_tuning_maps': dict(blending='additive', colormap='viridis', name='pf1D_dt'),\n",
    "#  'flat_jensen_shannon_distance_results': dict(blending='additive', colormap='gray'),\n",
    "\t'long_short_rel_entr_curves_frames': dict(blending='additive', colormap='bop blue'),\n",
    "\t'short_long_rel_entr_curves_frames': dict(blending='additive', colormap='red'),\n",
    "\t\n",
    "}\n",
    "\n",
    "for a_name, layer_properties in layer_properties_dict.items():\n",
    "\t# image_layer_dict[a_name] = viewer.add_image(active_relative_entropy_results_xr_dict[a_name].to_numpy().astype(float), name=a_name)\n",
    "\timage_layer_dict[a_name] = viewer.add_image(active_relative_entropy_results[a_name].astype(float), **(dict(name=a_name)|layer_properties))\n",
    "\n",
    "assert viewer.dims.ndim == 3\n",
    "## Set the dimensions appropriately\n",
    "viewer.dims.axis_labels = ('t', 'neuron_id', 'xbin')"
   ]
  },
  {
   "cell_type": "code",
   "execution_count": null,
   "id": "55c527c6",
   "metadata": {
    "tags": [
     "figure",
     "marginal",
     "active"
    ]
   },
   "outputs": [],
   "source": [
    "# _display_directional_merged_pf_decoded_epochs ______________________________________________________________________ #\n",
    "try:\n",
    "\t# Interactive-mode parameters:\n",
    "\t_interactive_mode_kwargs = dict(should_use_MatplotlibTimeSynchronizedWidget=True, scrollable_figure=True, defer_render=False)\n",
    "\t_restore_previous_matplotlib_settings_callback = matplotlib_configuration_update(is_interactive=True, backend='Qt5Agg')\n",
    "\t_curr_interaction_mode_kwargs = _interactive_mode_kwargs # interactive mode\n",
    "\n",
    "\t# Non-interactive:\n",
    "\t# _non_interactive_mode_kwargs = dict(should_use_MatplotlibTimeSynchronizedWidget=False, scrollable_figure=False, defer_render=True)\n",
    "\t# _restore_previous_matplotlib_settings_callback = matplotlib_configuration_update(is_interactive=False, backend='AGG')\n",
    "\t# _curr_interaction_mode_kwargs = _non_interactive_mode_kwargs # non-interactive mode\n",
    "\n",
    "\t_out = curr_active_pipeline.display('_display_directional_merged_pf_decoded_epochs', curr_active_pipeline.get_session_context(),\n",
    "\t\t\t\tmax_num_lap_epochs = 100, max_num_ripple_epochs = 10,\n",
    "\t\t\t\trender_merged_pseudo2D_decoder_laps=True, \n",
    "\t\t\t\t# render_directional_marginal_laps=False, render_directional_marginal_ripples=False, render_track_identity_marginal_laps=False, render_track_identity_marginal_ripples=False,\n",
    "\t\t\t\trender_directional_marginal_laps=True, render_directional_marginal_ripples=False, render_track_identity_marginal_laps=True, render_track_identity_marginal_ripples=False,\n",
    "\t\t\t\t# constrained_layout=True, # layout='none',\n",
    "\t\t\t\tbuild_fn='basic_view', constrained_layout=True, \n",
    "\t\t\t\t# build_fn='insets_view', constrained_layout=None, layout='none', # , constrained_layout=False constrained_layout=None, layout='none', # , constrained_layout=None, layout='none' extrodinarily fast\n",
    "\t\t\t\t**_curr_interaction_mode_kwargs, # interactive mode\n",
    "\t\t\t\tskip_plotting_measured_positions=True, skip_plotting_most_likely_positions=True, save_figure=save_figure)\n",
    "\t\n",
    "except Exception as e:\n",
    "\tprint(f'batch_extended_programmatic_figures(...): \"_display_directional_merged_pf_decoded_epochs\" failed with error: {e}\\n skipping.')\n",
    "\traise\n"
   ]
  },
  {
   "cell_type": "code",
   "execution_count": null,
   "id": "eaa1cbba",
   "metadata": {},
   "outputs": [],
   "source": [
    "# global_any_laps_epochs_obj\n",
    "\n",
    "\n",
    "\n",
    "curr_active_pipeline.filtered_sessions[long_any_name].laps"
   ]
  },
  {
   "cell_type": "markdown",
   "id": "6974d23f",
   "metadata": {},
   "source": [
    "### Plot the z-scores differences and their raw-values"
   ]
  },
  {
   "cell_type": "code",
   "execution_count": null,
   "id": "09e7c645",
   "metadata": {},
   "outputs": [],
   "source": [
    "# from PyQt5.QtWidgets import QGraphicsTextItem\n",
    "from pyphoplacecellanalysis.General.Model.Configs.LongShortDisplayConfig import DisplayColorsEnum, LongShortDisplayConfigManager\n",
    "from pyphoplacecellanalysis.General.Pipeline.Stages.ComputationFunctions.MultiContextComputationFunctions.RankOrderComputations import RankOrderAnalyses, plot_rank_order_epoch_inst_fr_result_tuples\n",
    "from pyphoplacecellanalysis.General.Mixins.ExportHelpers import export_pyqtgraph_plot\n",
    "\n",
    "# histogram_display_context = active_context.adding_context('display_fn', display_fn_name='plot_rank_order_epoch_inst_fr_result_tuples')\n",
    "ripple_outputs = plot_rank_order_epoch_inst_fr_result_tuples(curr_active_pipeline, ripple_result_tuple, 'Ripple', show=False)\n",
    "# _out_ripple_result_tuple_histograms.context = histogram_display_context.adding_context('subplot', subplot_name='ripple_result_tuple')\n",
    "diff_app, diff_win, diff_p1, diff_out_plot_1D, diff_label_tuple, raw_app, raw_win, raw_p1, raw_out_plot_1D, raw_label_tuple = ripple_outputs\n",
    "diff_header_label, diff_footer_label = diff_label_tuple\n",
    "raw_header_label, raw_footer_label = raw_label_tuple\n"
   ]
  },
  {
   "cell_type": "markdown",
   "id": "732dd0e9",
   "metadata": {},
   "source": [
    "## 2024-01-02 - Almost working for building footer/header strings in pyqtgraph plots:"
   ]
  },
  {
   "cell_type": "code",
   "execution_count": null,
   "id": "f0ccf0c3",
   "metadata": {
    "tags": [
     "display",
     "_display_rank_order_z_stats_results"
    ]
   },
   "outputs": [],
   "source": [
    "from pyphoplacecellanalysis.General.Pipeline.Stages.ComputationFunctions.MultiContextComputationFunctions.RankOrderComputations import RankOrderGlobalDisplayFunctions\n",
    "\n",
    "curr_active_pipeline.reload_default_display_functions()\n",
    "_out = curr_active_pipeline.display('_display_rank_order_z_stats_results', defer_show=False)\n"
   ]
  },
  {
   "cell_type": "code",
   "execution_count": null,
   "id": "6c81317c",
   "metadata": {},
   "outputs": [],
   "source": [
    "from pyphoplacecellanalysis.General.Pipeline.Stages.ComputationFunctions.MultiContextComputationFunctions.RankOrderComputations import plot_rank_order_epoch_inst_fr_result_tuples\n",
    "\n",
    "ripple_outputs = plot_rank_order_epoch_inst_fr_result_tuples(curr_active_pipeline, ripple_result_tuple, 'Ripple')\n",
    "ripple_outputs"
   ]
  },
  {
   "cell_type": "code",
   "execution_count": null,
   "id": "ee0ecf3f",
   "metadata": {},
   "outputs": [],
   "source": [
    "# Usage of the function for Lap\n",
    "lap_outputs = plot_rank_order_epoch_inst_fr_result_tuples(curr_active_pipeline, laps_result_tuple, 'Lap')\n",
    "lap_outputs"
   ]
  },
  {
   "cell_type": "code",
   "execution_count": null,
   "id": "4b08f262",
   "metadata": {},
   "outputs": [],
   "source": [
    "# result_tuple.plot_histograms()\n",
    "from pyphoplacecellanalysis.General.Pipeline.Stages.ComputationFunctions.MultiContextComputationFunctions.RankOrderComputations import plot_rank_order_histograms\n",
    "\n",
    "# Plot histograms:\n",
    "active_context = curr_active_pipeline.sess.get_context()\n",
    "\n",
    "def _perform_write_to_file_callback(final_context, fig):\n",
    "\treturn curr_active_pipeline.output_figure(final_context, fig)\n",
    "\n",
    "post_title_info: str = f'{minimum_inclusion_fr_Hz} Hz'\n",
    "collector_histograms = plot_rank_order_histograms(rank_order_results, post_title_info=post_title_info, active_context=active_context, perform_write_to_file_callback=_perform_write_to_file_callback)"
   ]
  },
  {
   "cell_type": "markdown",
   "id": "8351ca5f",
   "metadata": {},
   "source": [
    "## 2023-12-23 - Good for lap direction debugging:\n"
   ]
  },
  {
   "cell_type": "code",
   "execution_count": null,
   "id": "b9fe63b0",
   "metadata": {},
   "outputs": [],
   "source": [
    "# rank_order_results.laps_most_likely_result_tuple.directional_likelihoods_df.plot.bar(y=['long_relative_direction_likelihoods', 'short_relative_direction_likelihoods'])\n",
    "\n",
    "# _temp_dir_like_df = rank_order_results.laps_most_likely_result_tuple.directional_likelihoods_df.copy()\n",
    "_temp_dir_like_df = rank_order_results.ripple_most_likely_result_tuple.directional_likelihoods_df.copy()\n",
    "_temp_dir_like_df[['long_relative_direction_likelihoods', 'short_relative_direction_likelihoods']] -= 0.5 # Subtract 0.5 so y is centered on zero, above zero showing LR favor below RL\n",
    "_temp_dir_like_df.plot.bar(y=['long_relative_direction_likelihoods'])"
   ]
  },
  {
   "cell_type": "code",
   "execution_count": null,
   "id": "45831aec",
   "metadata": {},
   "outputs": [],
   "source": [
    "import seaborn as sns\n",
    "\n",
    "# directional_likelihoods_df = pd.DataFrame({\n",
    "#   \"long_relative_direction_likelihoods\": [0.41, 0.48, 0.27, 0.33, 0.69, 0.50],\n",
    "#   \"short_relative_direction_likelihoods\": [0.58, 0.51, 0.72, 0.66, 0.30, 0.49],\n",
    "#   \"long_best_direction_indices\": [0, 1, 1, 1, 0, 0]\n",
    "# })\n",
    "\n",
    "\n",
    "fig = plt.figure(num='directional_likelihoods_df figure')\n",
    "sns.scatterplot(x=directional_likelihoods_df.index, y=directional_likelihoods_df[\"long_relative_direction_likelihoods\"], hue=directional_likelihoods_df[\"long_best_direction_indices\"], palette=\"hls\")\n",
    "plt.show()"
   ]
  },
  {
   "cell_type": "code",
   "execution_count": null,
   "id": "359244bd",
   "metadata": {},
   "outputs": [],
   "source": [
    "import seaborn as sns\n",
    "from pyphoplacecellanalysis.General.Pipeline.Stages.ComputationFunctions.MultiContextComputationFunctions.RankOrderComputations import plot_quantile_diffs\n",
    "\n",
    "_restore_previous_matplotlib_settings_callback = matplotlib_configuration_update(is_interactive=True, backend='Qt5Agg')\n",
    "global_epoch = curr_active_pipeline.filtered_epochs[global_epoch_name]\n",
    "short_epoch = curr_active_pipeline.filtered_epochs[short_epoch_name]\n",
    "split_time_t: float = short_epoch.t_start\n",
    "active_context = curr_active_pipeline.sess.get_context()\n",
    "\n",
    "def _perform_write_to_file_callback(final_context, fig):\n",
    "\treturn curr_active_pipeline.output_figure(final_context, fig)\n",
    "\n",
    "collector = plot_quantile_diffs(ripple_merged_complete_epoch_stats_df, t_split=split_time_t, active_context=active_context, perform_write_to_file_callback=_perform_write_to_file_callback)"
   ]
  },
  {
   "cell_type": "markdown",
   "id": "1c475c31",
   "metadata": {},
   "source": [
    "## Weighted Correlation can only be applied to decoded posteriors, not spikes themselves.\n",
    "### It works by assessing the degree to which a change in position corresponds to a change in time. For a simple diagonally increasing trajectory across the track at early timebins position will start at the bottom of the track, and as time increases the position also increases. The \"weighted\" part just corresponds to making use of the confidence probabilities of the decoded posterior: instead of relying on only the most-likely position we can include all information returned. Naturally will emphasize sharp decoded positions and de-emphasize diffuse ones.\n"
   ]
  },
  {
   "cell_type": "code",
   "execution_count": null,
   "id": "b8e6c28b",
   "metadata": {},
   "outputs": [],
   "source": [
    "from PendingNotebookCode import add_weighted_correlation_result, compute_epoch_weighted_correlation\n",
    "\n",
    "# add_weighted_correlation_result(xbin_centers, a_long_decoder_result: DecodedFilterEpochsResult, a_short_decoder_result: DecodedFilterEpochsResult, method=('pearson', 'spearman'), debug_print = False)"
   ]
  },
  {
   "cell_type": "code",
   "execution_count": null,
   "id": "f9db8f08",
   "metadata": {},
   "outputs": [],
   "source": [
    "## Get decoded posteriors for each replay epoch:\n",
    "from pyphoplacecellanalysis.Analysis.Decoder.reconstruction import DecodedFilterEpochsResult\n",
    "from PendingNotebookCode import add_weighted_correlation_result, _add_maze_id_to_epochs\n",
    "\n",
    "## 2023-10-19 - Weighted Correlation:\n",
    "a_long_decoder_result: DecodedFilterEpochsResult = long_results_obj.all_included_filter_epochs_decoder_result\n",
    "a_short_decoder_result: DecodedFilterEpochsResult = short_results_obj.all_included_filter_epochs_decoder_result\n",
    "# Get the xbin_centers which are the same for long/short:\n",
    "xbin_centers = long_results_obj.original_1D_decoder.xbin_centers.copy()\n",
    "# Compute the weighte correlation:\n",
    "epoch_long_weighted_corr_results, epoch_short_weighted_corr_results = add_weighted_correlation_result(xbin_centers, a_long_decoder_result, a_short_decoder_result, debug_print=False)\n",
    "epoch_long_weighted_corr_results"
   ]
  },
  {
   "cell_type": "code",
   "execution_count": null,
   "id": "78fdd9a4",
   "metadata": {},
   "outputs": [],
   "source": [
    "## 2023-10-19 - Weighted Correlation:\n",
    "\n",
    "directional_merged_decoders_result: DirectionalMergedDecodersResult  = curr_active_pipeline.global_computation_results.computed_data['DirectionalMergedDecoders']\n",
    "laps_filter_epochs_decoder_result = directional_merged_decoders_result.all_directional_laps_filter_epochs_decoder_result\n",
    "laps_filter_epochs_decoder_result\n"
   ]
  },
  {
   "cell_type": "code",
   "execution_count": null,
   "id": "31208041",
   "metadata": {},
   "outputs": [],
   "source": [
    "\n",
    "\n",
    "# laps_filter_epochs_decoder_result\n",
    "\n",
    "\n",
    "## 2023-10-19 - Weighted Correlation:\n",
    "a_long_decoder_result: DecodedFilterEpochsResult = long_results_obj.all_included_filter_epochs_decoder_result\n",
    "a_short_decoder_result: DecodedFilterEpochsResult = short_results_obj.all_included_filter_epochs_decoder_result\n",
    "\n",
    "# Get the xbin_centers which are the same for long/short:\n",
    "xbin_centers = directional_merged_decoders_result.all_directional_pf1D_Decoder.xbin_centers.copy()\n",
    "# Compute the weighte correlation:\n",
    "epoch_long_weighted_corr_results, epoch_short_weighted_corr_results = add_weighted_correlation_result(xbin_centers, a_long_decoder_result, a_short_decoder_result, debug_print=False)\n",
    "epoch_long_weighted_corr_results\n"
   ]
  },
  {
   "cell_type": "code",
   "execution_count": null,
   "id": "6d90c0b3",
   "metadata": {},
   "outputs": [],
   "source": []
  },
  {
   "cell_type": "code",
   "execution_count": null,
   "id": "90a4284f",
   "metadata": {},
   "outputs": [],
   "source": [
    "debug_print = True\n",
    "method = ('pearson', 'spearman')\n",
    "epoch_long_weighted_corr_results = []\n",
    "\n",
    "# Get the xbin_centers which are the same for long/short:\n",
    "xbin_centers = directional_merged_decoders_result.all_directional_pf1D_Decoder.xbin_centers.copy()\n",
    "a_decoder_result: DecodedFilterEpochsResult = deepcopy(laps_filter_epochs_decoder_result)\n",
    "\n",
    "\n",
    "for decoded_epoch_idx in np.arange(a_decoder_result.num_filter_epochs):\n",
    "\t# decoded_epoch_idx:int = 0\n",
    "\tcurr_epoch_time_bin_container = a_decoder_result.time_bin_containers[decoded_epoch_idx]\n",
    "\tcurr_time_bins = curr_epoch_time_bin_container.centers\n",
    "\tcurr_n_time_bins = len(curr_time_bins)\n",
    "\tif debug_print:\n",
    "\t\tprint(f'curr_n_time_bins: {curr_n_time_bins}')\n",
    "\n",
    "\t## Long Decoding:\n",
    "\tcurr_long_epoch_p_x_given_n = a_decoder_result.p_x_given_n_list[decoded_epoch_idx] # .shape: (239, 5) - (n_x_bins, n_epoch_time_bins) - np.shape(curr_long_epoch_p_x_given_n): (63, 4, 120)\n",
    "\tprint(f'np.shape(curr_long_epoch_p_x_given_n): {np.shape(curr_long_epoch_p_x_given_n)}')\n",
    "\tweighted_corr_result = compute_epoch_weighted_correlation(xbin_centers, curr_time_bins, curr_long_epoch_p_x_given_n, method=method)\n",
    "\tepoch_long_weighted_corr_results.append(weighted_corr_result)\n",
    "\n",
    "\t# ## Short Decoding:\n",
    "\t# curr_short_epoch_p_x_given_n = a_short_decoder_result.p_x_given_n_list[decoded_epoch_idx] # .shape: (239, 5) - (n_x_bins, n_epoch_time_bins)\n",
    "\t# weighted_corr_result = compute_epoch_weighted_correlation(xbin_centers, curr_time_bins, curr_short_epoch_p_x_given_n, method=method)\n",
    "\t# epoch_short_weighted_corr_results.append(weighted_corr_result)\n",
    "\n",
    "# ## Build separate result dataframe:\n",
    "# epoch_weighted_corr_results_df = pd.DataFrame({'weighted_corr_LONG': np.array(epoch_long_weighted_corr_results), 'weighted_corr_SHORT': np.array(epoch_short_weighted_corr_results)})\n",
    "# epoch_weighted_corr_results_df\n",
    "\n",
    "epoch_long_weighted_corr_results = np.array(epoch_long_weighted_corr_results)\n",
    "\n"
   ]
  },
  {
   "cell_type": "code",
   "execution_count": null,
   "id": "9c51a621",
   "metadata": {},
   "outputs": [],
   "source": [
    "\n",
    "a_long_decoder_result: DecodedFilterEpochsResult = long_results_obj.all_included_filter_epochs_decoder_result\n",
    "a_short_decoder_result: DecodedFilterEpochsResult = short_results_obj.all_included_filter_epochs_decoder_result\n",
    "# Get the xbin_centers which are the same for long/short:\n",
    "xbin_centers = long_results_obj.original_1D_decoder.xbin_centers.copy()\n",
    "# Compute the weighte correlation:\n",
    "epoch_long_weighted_corr_results, epoch_short_weighted_corr_results = add_weighted_correlation_result(xbin_centers, a_long_decoder_result, a_short_decoder_result, debug_print=False)"
   ]
  },
  {
   "cell_type": "code",
   "execution_count": null,
   "id": "342effc0",
   "metadata": {},
   "outputs": [],
   "source": [
    "epoch_long_weighted_corr_results.shape # (151, 2)"
   ]
  },
  {
   "cell_type": "code",
   "execution_count": null,
   "id": "d462ff9f",
   "metadata": {},
   "outputs": [],
   "source": [
    "\n",
    "## Add new weighted correlation results as new columns in existing filter_epochs df:\n",
    "active_filter_epochs = long_results_obj.active_filter_epochs\n",
    "# Add the maze_id to the active_filter_epochs so we can see how properties change as a function of which track the replay event occured on:\n",
    "active_filter_epochs = _add_maze_id_to_epochs(active_filter_epochs, short_session.t_start)\n",
    "active_filter_epochs._df['weighted_corr_LONG'] = epoch_long_weighted_corr_results[:,0]\n",
    "active_filter_epochs._df['weighted_corr_SHORT'] = epoch_short_weighted_corr_results[:,0]\n",
    "active_filter_epochs._df['weighted_corr_spearman_LONG'] = epoch_long_weighted_corr_results[:,1]\n",
    "active_filter_epochs._df['weighted_corr_spearman_SHORT'] = epoch_short_weighted_corr_results[:,1]\n",
    "\n",
    "\n",
    "active_filter_epochs"
   ]
  },
  {
   "cell_type": "code",
   "execution_count": null,
   "id": "757ed106",
   "metadata": {},
   "outputs": [],
   "source": [
    "active_filter_epochs.to_dataframe()"
   ]
  },
  {
   "cell_type": "code",
   "execution_count": null,
   "id": "a58d2d78",
   "metadata": {},
   "outputs": [],
   "source": [
    "## plot the `weighted_corr_LONG` over time\n",
    "\n",
    "# fig, axes = plt.subplots(ncols=1, nrows=active_num_rows, sharex=True, sharey=sharey, figsize=figsize)\n",
    "\n",
    "## Weighted Correlation during replay epochs:\n",
    "_out_ax = active_filter_epochs._df.plot.scatter(x='start', y='weighted_corr_LONG', title='weighted_corr during replay events', marker=\"s\",  s=5, label=f'Long', alpha=0.8)\n",
    "active_filter_epochs._df.plot.scatter(x='start', y='weighted_corr_SHORT', xlabel='Replay Epoch Time', ylabel='Weighted Correlation', ax=_out_ax, marker=\"s\", c='r', s=5, label=f'Short', alpha=0.8)\n",
    "_out_ax.axhline(y=0.0, linewidth=1, color='k') # the y=0.0 line"
   ]
  },
  {
   "cell_type": "code",
   "execution_count": null,
   "id": "8a498345",
   "metadata": {},
   "outputs": [],
   "source": [
    "## Weighted Spearman Correlation during replay epochs:\n",
    "_out_ax = active_filter_epochs._df.plot.scatter(x='start', y='weighted_corr_spearman_LONG', title='weighted_spearman_corr during replay events', marker=\"s\",  s=5, label=f'Long', alpha=0.8)\n",
    "active_filter_epochs._df.plot.scatter(x='start', y='weighted_corr_spearman_SHORT', xlabel='Replay Epoch Time', ylabel='Weighted Spearman Correlation', ax=_out_ax, marker=\"s\", c='r', s=5, label=f'Short', alpha=0.8)\n",
    "_out_ax.axhline(y=0.0, linewidth=1, color='k') # the y=0.0 line"
   ]
  },
  {
   "cell_type": "code",
   "execution_count": null,
   "id": "00fb9cf9",
   "metadata": {},
   "outputs": [],
   "source": [
    "_out_ax = active_filter_epochs._df.plot.scatter(x='start', y='score_LONG', title='Radon Transform Score during replay events', marker=\"s\",  s=5, label=f'Long', alpha=0.8)\n",
    "active_filter_epochs._df.plot.scatter(x='start', y='score_SHORT', xlabel='Replay Epoch Time', ylabel='Replay Radon Transform Score', ax=_out_ax, marker=\"s\", c='r', s=5, label=f'Short', alpha=0.8)\n",
    "_out_ax.axhline(y=0.0, linewidth=1, color='k') # the y=0.0 line"
   ]
  },
  {
   "cell_type": "markdown",
   "id": "0bd68cf0",
   "metadata": {},
   "source": [
    "# 2023-01-16 - Continuously applied Pseduo2D decoder across time"
   ]
  },
  {
   "cell_type": "code",
   "execution_count": null,
   "id": "691320ff",
   "metadata": {},
   "outputs": [],
   "source": [
    "## How to I get time-parcilated intervals, similar to epochs, from the raw timezz? I know there are a lot of decoders in the past that did this. I think that more involved decoder even does it automatically by taking a time-bin size.\n",
    "\n",
    "## Each lap was labeled LR_Long, RL_Long, LR_Short, or RL_Short. \n",
    "\n",
    "## From this four 1D non-directional decoders were built independently from the data obtained from each of the four running directions. This resulted in four independent sets of firing rmaps, a set consisting of all participating cells, each of which mapped a position bin on the track to an average firing rate. Minimum peak activity thresholds were applied independently to each, meaning some cells were only participating in one of the four configurations. \n",
    "\n",
    "## To determine the correct configuration for each time bin these four 1D decoders were vertically concatenated to form a \"pseudo-2D\" ratemap for each cell, where the artficial y-direction mapped to four possible  \n",
    "## The deta was vertically concatenated to form \n"
   ]
  },
  {
   "cell_type": "code",
   "execution_count": null,
   "id": "f6a9af7d",
   "metadata": {},
   "outputs": [],
   "source": [
    "from neuropy.core.epoch import Epoch\n",
    "from pyphocorehelpers.indexing_helpers import BinningContainer, BinningInfo\n",
    "from pyphoplacecellanalysis.Analysis.Decoder.reconstruction import BasePositionDecoder, BayesianPlacemapPositionDecoder\n",
    "\n",
    "t_start, t_delta, t_end = curr_active_pipeline.find_LongShortDelta_times()"
   ]
  },
  {
   "cell_type": "code",
   "execution_count": null,
   "id": "bfd0d6ca",
   "metadata": {},
   "outputs": [],
   "source": [
    "# Build an Epoch object containing a single epoch, corresponding to the global epoch for the entire session:\n",
    "single_global_epoch_df: pd.DataFrame = pd.DataFrame({'start': [t_start], 'stop': [t_end], 'label': [0]})\n",
    "# single_global_epoch_df['label'] = single_global_epoch_df.index.to_numpy()\n",
    "single_global_epoch: Epoch = Epoch(single_global_epoch_df)\n",
    "single_global_epoch"
   ]
  },
  {
   "cell_type": "code",
   "execution_count": null,
   "id": "7fc056fa",
   "metadata": {},
   "outputs": [],
   "source": [
    "## Build Epoch object across whole sessions:\n",
    "# time_bin_size = long_LR_pf1D_Decoder.time_bin_size\n",
    "time_bin_size = 0.02 # 20ms bins\n",
    "# time_binning_container: BinningContainer = deepcopy(long_LR_pf1D_Decoder.time_binning_container)\n",
    "# time_binning_container\n",
    "# time_binning_container.edges # array([31.8648, 31.8978, 31.9308, ..., 1203.56, 1203.6, 1203.63])\n",
    "# time_binning_container.centers # array([31.8813, 31.9143, 31.9473, ..., 1203.55, 1203.58, 1203.61])\n",
    "print(f'time_bin_size: {time_bin_size}')"
   ]
  },
  {
   "cell_type": "code",
   "execution_count": null,
   "id": "fc498488",
   "metadata": {},
   "outputs": [],
   "source": [
    "global_spikes_df, _, _ = RankOrderAnalyses.common_analysis_helper(curr_active_pipeline=curr_active_pipeline, num_shuffles=0) # does not do shuffling\n",
    "\n",
    "# # Get proper global_spikes_df:\n",
    "# rank_order_results: RankOrderComputationsContainer = curr_active_pipeline.global_computation_results.computed_data['RankOrder']\n",
    "# minimum_inclusion_fr_Hz: float = rank_order_results.minimum_inclusion_fr_Hz\n",
    "# included_qclu_values: List[int] = rank_order_results.included_qclu_values\n",
    "# directional_laps_results: DirectionalLapsResult = curr_active_pipeline.global_computation_results.computed_data['DirectionalLaps']\n",
    "# track_templates: TrackTemplates = directional_laps_results.get_templates(minimum_inclusion_fr_Hz=minimum_inclusion_fr_Hz) # non-shared-only -- !! Is minimum_inclusion_fr_Hz=None the issue/difference?\n",
    "# any_list_neuron_IDs = track_templates.any_decoder_neuron_IDs # neuron_IDs as they appear in any list\n",
    "# global_spikes_df = deepcopy(curr_active_pipeline.filtered_sessions[global_epoch_name].spikes_df).spikes.sliced_by_neuron_id(any_list_neuron_IDs) # Cut spikes_df down to only the neuron_IDs that appear at least in one decoder:\n",
    "\n",
    "spikes_df = deepcopy(global_spikes_df) #.spikes.sliced_by_neuron_id(track_templates.shared_aclus_only_neuron_IDs)\n"
   ]
  },
  {
   "cell_type": "code",
   "execution_count": null,
   "id": "8173f658",
   "metadata": {},
   "outputs": [],
   "source": [
    "## Already come in with long_LR_pf1D_Decoder, long_LR_pf1D_Decoder\n",
    "long_LR_pf1D_Decoder # type(long_LR_pf1D_Decoder) # pyphoplacecellanalysis.Analysis.Decoder.reconstruction.BayesianPlacemapPositionDecoder\n",
    "long_RL_pf1D_Decoder\n",
    "short_LR_pf1D_Decoder\n",
    "short_RL_pf1D_Decoder"
   ]
  },
  {
   "cell_type": "code",
   "execution_count": null,
   "id": "57e1a98b",
   "metadata": {},
   "outputs": [],
   "source": [
    "time_bin_size = 0.02 # 20ms bins"
   ]
  },
  {
   "cell_type": "code",
   "execution_count": null,
   "id": "a7df58ae",
   "metadata": {},
   "outputs": [],
   "source": [
    "pseudo2D_decoder: BasePositionDecoder = all_directional_pf1D_Decoder_value\n",
    "pseudo2D_decoder_continuously_decoded_result: DecodedFilterEpochsResult = pseudo2D_decoder.decode_specific_epochs(spikes_df=spikes_df, filter_epochs=single_global_epoch, decoding_time_bin_size=time_bin_size, debug_print=False)\n",
    "# 16.1s"
   ]
  },
  {
   "cell_type": "code",
   "execution_count": null,
   "id": "1314a194",
   "metadata": {},
   "outputs": [],
   "source": [
    "assert pseudo2D_decoder_continuously_decoded_result.num_filter_epochs == 1, f\"expected a single global filter epoch but got {pseudo2D_decoder_continuously_decoded_result.num_filter_epoch}\"\n",
    "single_global_epoch_df: pd.DataFrame = pseudo2D_decoder_continuously_decoded_result.filter_epochs[0] # \n",
    "single_global_epoch: Epoch = Epoch(single_global_epoch_df)\n",
    "single_global_epoch"
   ]
  },
  {
   "cell_type": "code",
   "execution_count": null,
   "id": "3a014c39",
   "metadata": {},
   "outputs": [],
   "source": [
    "# Decode continuously for the four 1D directional decoders:\n",
    "# all_directional_decoder_names = ['long_LR', 'long_RL', 'short_LR', 'short_RL']\n",
    "# all_directional_pf1D_Decoder_dict: Dict[str, BasePositionDecoder] = dict(zip(all_directional_decoder_names, [deepcopy(long_LR_pf1D_Decoder), deepcopy(long_RL_pf1D_Decoder), deepcopy(short_LR_pf1D_Decoder), deepcopy(short_RL_pf1D_Decoder)]))\n",
    "\n",
    "all_directional_continuously_decoded_dict: Dict[str, DecodedFilterEpochsResult] = {k:v.decode_specific_epochs(spikes_df=spikes_df, filter_epochs=single_global_epoch, decoding_time_bin_size=time_bin_size, debug_print=False) for k,v in all_directional_pf1D_Decoder_dict.items()}\n",
    "# _out_continuously_decoded_dict \n",
    "# 32.7s\n",
    "all_directional_continuously_decoded_dict"
   ]
  },
  {
   "cell_type": "code",
   "execution_count": null,
   "id": "a2993591",
   "metadata": {},
   "outputs": [],
   "source": [
    "directional_decoders_decode_result: DirectionalDecodersDecodedResult = curr_active_pipeline.global_computation_results.computed_data['DirectionalDecodersDecoded']\n",
    "all_directional_pf1D_Decoder_dict = directional_decoders_decode_result.pf1D_Decoder_dict\n",
    "continuously_decoded_result_cache_dict = directional_decoders_decode_result.continuously_decoded_result_cache_dict\n",
    "previously_decoded_keys: List[float] = list(continuously_decoded_result_cache_dict.keys()) # [0.03333]\n",
    "previously_decoded_keys"
   ]
  },
  {
   "cell_type": "code",
   "execution_count": null,
   "id": "f363fc52",
   "metadata": {},
   "outputs": [],
   "source": []
  },
  {
   "cell_type": "code",
   "execution_count": null,
   "id": "524f6e38",
   "metadata": {},
   "outputs": [],
   "source": [
    "pseudo2D_decoder_continuously_decoded_result"
   ]
  },
  {
   "cell_type": "code",
   "execution_count": null,
   "id": "78646cf4",
   "metadata": {},
   "outputs": [],
   "source": [
    "## Yellow-blue plots from `pseudo2D_decoder_continuously_decoded_result` (continuous time)?\n"
   ]
  },
  {
   "cell_type": "code",
   "execution_count": null,
   "id": "8f1f7538",
   "metadata": {},
   "outputs": [],
   "source": []
  },
  {
   "cell_type": "code",
   "execution_count": null,
   "id": "d9ad1255",
   "metadata": {},
   "outputs": [],
   "source": [
    "directional_decoders_decode_result.most_recent_continuously_decoded_dict['long_LR']"
   ]
  },
  {
   "cell_type": "code",
   "execution_count": null,
   "id": "b637dd94",
   "metadata": {},
   "outputs": [],
   "source": [
    "\n"
   ]
  },
  {
   "cell_type": "code",
   "execution_count": null,
   "id": "2e5b0094",
   "metadata": {},
   "outputs": [],
   "source": [
    "from pyphoplacecellanalysis.Analysis.Decoder.reconstruction import DecodedFilterEpochsResult\n",
    "\n",
    "# _out_continuously_decoded_dict['long_LR']\n",
    "a_decoder_name = 'long_LR'\n",
    "active_decoder: BasePositionDecoder = deepcopy(all_directional_pf1D_Decoder_dict[a_decoder_name])\n",
    "active_result: DecodedFilterEpochsResult = deepcopy(all_directional_continuously_decoded_dict[a_decoder_name]) # already decoded\n",
    "assert active_result.num_filter_epochs == 1\n",
    "active_result"
   ]
  },
  {
   "cell_type": "code",
   "execution_count": null,
   "id": "6c24a3e2",
   "metadata": {},
   "outputs": [],
   "source": [
    "active_marginals = active_result.marginal_x_list[0]\n",
    "active_posterior = active_marginals.p_x_given_n\n",
    "# active_marginals\n",
    "active_posterior.shape"
   ]
  },
  {
   "cell_type": "code",
   "execution_count": null,
   "id": "a67140f5",
   "metadata": {},
   "outputs": [],
   "source": [
    "active_marginals = active_decoder.marginal.x\n",
    "active_posterior = active_marginals.p_x_given_n\n",
    "active_posterior.shape"
   ]
  },
  {
   "cell_type": "code",
   "execution_count": null,
   "id": "7d211130",
   "metadata": {},
   "outputs": [],
   "source": [
    "active_bins = active_decoder.xbin\n",
    "\n",
    "# active_most_likely_positions = active_marginals.most_likely_positions_1D # Raw decoded positions\n",
    "active_most_likely_positions = None\n",
    "active_posterior = active_marginals.p_x_given_n"
   ]
  },
  {
   "cell_type": "markdown",
   "id": "1a3e71c2",
   "metadata": {},
   "source": [
    "# 2024-01-17 - Explore the effect of time_bin_size of decoding performance:"
   ]
  },
  {
   "cell_type": "code",
   "execution_count": null,
   "id": "f608ce9e",
   "metadata": {},
   "outputs": [],
   "source": [
    "[0.05, 0.01, 0.05, 0.1, 0.5, 1.0, 1.5]\n",
    "\n",
    "np.linspace(0.125, 1.0, num=20)\n"
   ]
  },
  {
   "cell_type": "code",
   "execution_count": null,
   "id": "704d8c5e",
   "metadata": {},
   "outputs": [],
   "source": [
    "# Updates laps with new column definitions session and filtered versions:\n",
    "curr_sess = curr_active_pipeline.sess\n",
    "curr_sess.laps.update_lap_dir_from_smoothed_velocity(pos_input=curr_sess.position)\n",
    "curr_sess.laps.update_maze_id_if_needed(t_start=t_start, t_delta=t_delta, t_end=t_end)\n",
    "\n",
    "for an_epoch_name, curr_sess in curr_active_pipeline.filtered_sessions.items():\n",
    "\tcurr_sess.laps.update_lap_dir_from_smoothed_velocity(pos_input=curr_sess.position)\n",
    "\tcurr_sess.laps.update_maze_id_if_needed(t_start=t_start, t_delta=t_delta, t_end=t_end)\n",
    "\n",
    "curr_sess.laps"
   ]
  },
  {
   "cell_type": "code",
   "execution_count": null,
   "id": "b8f7acec",
   "metadata": {},
   "outputs": [],
   "source": [
    "from neuropy.analyses.placefields import PfND\n",
    "from neuropy.core.laps import Laps\n",
    "from pyphoplacecellanalysis.Analysis.Decoder.reconstruction import BasePositionDecoder\n",
    "from neuropy.utils.mixins.time_slicing import TimeColumnAliasesProtocol\n",
    "from neuropy.utils.mixins.binning_helpers import find_minimum_time_bin_duration\n",
    "# from PendingNotebookCode import _perform_variable_time_bin_lap_groud_truth_performance_testing \n",
    "from pyphoplacecellanalysis.General.Pipeline.Stages.ComputationFunctions.MultiContextComputationFunctions.DirectionalPlacefieldGlobalComputationFunctions import _check_result_laps_epochs_df_performance\n",
    "\n",
    "all_param_sweep_options, param_sweep_option_n_values = parameter_sweeps(desired_laps_decoding_time_bin_size=np.linspace(0.125, 1.0, num=20), use_single_time_bin_per_epoch=[False], desired_ripple_decoding_time_bin_size=[None])\n",
    "# len(all_param_sweep_options)\n",
    "all_param_sweep_options\n",
    "\n",
    "## Perfrom the computations:\n",
    "\n",
    "# DirectionalMergedDecoders: Get the result after computation:\n",
    "## Copy the default result:\n",
    "directional_merged_decoders_result: DirectionalMergedDecodersResult = curr_active_pipeline.global_computation_results.computed_data['DirectionalMergedDecoders']\n",
    "alt_directional_merged_decoders_result: DirectionalMergedDecodersResult = deepcopy(directional_merged_decoders_result)\n",
    "\n",
    "laps_decoding_time_bin_size = alt_directional_merged_decoders_result.laps_decoding_time_bin_size\n",
    "now_day_str: str = DAY_DATE_TO_USE    \n",
    "active_context: IdentifyingContext = curr_active_pipeline.get_session_context()\n",
    "# data_identifier_str=f'(laps_time_bin_marginals_df)'\n",
    "\n",
    "# out_path_basename_str: str = f\"{now_day_str}_{active_context}_time_bin_size-{laps_decoding_time_bin_size}_{data_identifier_str}\"\n",
    "out_path_basename_str: str = f\"{now_day_str}_{active_context}_time_bin_size_sweep_results\"\n",
    "# out_path_filenname_str: str = f\"{out_path_basename_str}.csv\"\n",
    "\n",
    "out_path_filenname_str: str = f\"{out_path_basename_str}.h5\"\n",
    "out_path: Path = Path('output').resolve().joinpath(out_path_filenname_str).resolve()\n",
    "print(f'\\out_path_str: \"{out_path_filenname_str}\"')\n",
    "print(f'\\tout_path: \"{file_uri_from_path(out_path)}\"')\n",
    "\n",
    "# Ensure it has the 'lap_track' column\n",
    "## Compute the ground-truth information using the position information:\n",
    "# adds columns: ['maze_id', 'is_LR_dir']\n",
    "t_start, t_delta, t_end = curr_active_pipeline.find_LongShortDelta_times()\n",
    "laps_obj: Laps = curr_active_pipeline.sess.laps\n",
    "laps_df = laps_obj.to_dataframe()\n",
    "laps_df: pd.DataFrame = Laps._update_dataframe_computed_vars(laps_df=laps_df, t_start=t_start, t_delta=t_delta, t_end=t_end, global_session=curr_active_pipeline.sess) # NOTE: .sess is used because global_session is missing the last two laps\n",
    "\n",
    "def _update_result_laps(a_result: DecodedFilterEpochsResult, laps_df: pd.DataFrame) -> pd.DataFrame:\n",
    "\t\"\"\" captures nothing. Can reusing the same laps_df as it makes no modifications to it. \n",
    "\t\n",
    "\te.g. a_result=output_alt_directional_merged_decoders_result[a_sweep_tuple]\n",
    "\t\"\"\"\n",
    "\tresult_laps_epochs_df: pd.DataFrame = a_result.laps_epochs_df\n",
    "\t## 2024-01-17 - Updates the `a_directional_merged_decoders_result.laps_epochs_df` with both the ground-truth values and the decoded predictions\n",
    "\tresult_laps_epochs_df['maze_id'] = laps_df['maze_id'].to_numpy()[np.isin(laps_df['lap_id'], result_laps_epochs_df['lap_id'])] # this works despite the different size because of the index matching\n",
    "\t## add the 'is_LR_dir' groud-truth column in:\n",
    "\tresult_laps_epochs_df['is_LR_dir'] = laps_df['is_LR_dir'].to_numpy()[np.isin(laps_df['lap_id'], result_laps_epochs_df['lap_id'])] # this works despite the different size because of the index matching\n",
    "\t\n",
    "\tlaps_directional_marginals, laps_directional_all_epoch_bins_marginal, laps_most_likely_direction_from_decoder, laps_is_most_likely_direction_LR_dir = a_result.laps_directional_marginals_tuple\n",
    "\tlaps_track_identity_marginals, laps_track_identity_all_epoch_bins_marginal, laps_most_likely_track_identity_from_decoder, laps_is_most_likely_track_identity_Long = a_result.laps_track_identity_marginals_tuple\n",
    "\t## Add the decoded results to the laps df:\n",
    "\tresult_laps_epochs_df['is_most_likely_track_identity_Long'] = laps_is_most_likely_track_identity_Long\n",
    "\tresult_laps_epochs_df['is_most_likely_direction_LR'] = laps_is_most_likely_direction_LR_dir\n",
    "\treturn result_laps_epochs_df\n",
    "\t\n",
    "\n"
   ]
  },
  {
   "cell_type": "code",
   "execution_count": null,
   "id": "056714f2",
   "metadata": {},
   "outputs": [],
   "source": [
    "alt_directional_merged_decoders_result.laps_epochs_df\n"
   ]
  },
  {
   "cell_type": "code",
   "execution_count": null,
   "id": "df60017e",
   "metadata": {},
   "outputs": [],
   "source": [
    "## Single decode:\n",
    "def _try_single_decode(owning_pipeline_reference, directional_merged_decoders_result, use_single_time_bin_per_epoch: bool, desired_laps_decoding_time_bin_size: Optional[float], desired_ripple_decoding_time_bin_size: Optional[float]):\n",
    "\n",
    "    ## Decode Laps:\n",
    "    laps_epochs_df = deepcopy(directional_merged_decoders_result.all_directional_laps_filter_epochs_decoder_result.filter_epochs)\n",
    "    if not isinstance(laps_epochs_df, pd.DataFrame):\n",
    "        laps_epochs_df = laps_epochs_df.to_dataframe()\n",
    "    # global_any_laps_epochs_obj = deepcopy(owning_pipeline_reference.computation_results[global_epoch_name].computation_config.pf_params.computation_epochs) # global_epoch_name='maze_any' (? same as global_epoch_name?)\n",
    "    min_possible_laps_time_bin_size: float = find_minimum_time_bin_duration(laps_epochs_df['duration'].to_numpy())\n",
    "    min_bounded_laps_decoding_time_bin_size: float = min(desired_laps_decoding_time_bin_size, min_possible_laps_time_bin_size) # 10ms # 0.002\n",
    "    \n",
    "    if desired_laps_decoding_time_bin_size < min_bounded_laps_decoding_time_bin_size:\n",
    "        print(f'WARN: desired_laps_decoding_time_bin_size: {desired_laps_decoding_time_bin_size} < min_bounded_laps_decoding_time_bin_size: {min_bounded_laps_decoding_time_bin_size}... hopefully it works.')\n",
    "    laps_decoding_time_bin_size: float = desired_laps_decoding_time_bin_size # allow direct use\n",
    "    if use_single_time_bin_per_epoch:\n",
    "        laps_decoding_time_bin_size = None\n",
    "    directional_merged_decoders_result.all_directional_laps_filter_epochs_decoder_result = directional_merged_decoders_result.all_directional_pf1D_Decoder.decode_specific_epochs(spikes_df=deepcopy(owning_pipeline_reference.sess.spikes_df), filter_epochs=laps_epochs_df,\n",
    "                                                                                                                                                    decoding_time_bin_size=laps_decoding_time_bin_size, use_single_time_bin_per_epoch=use_single_time_bin_per_epoch, debug_print=False)\n",
    "    directional_merged_decoders_result.perform_compute_marginals()\n",
    "\n",
    "    return directional_merged_decoders_result\n",
    "    \n",
    "\n",
    "session_ctxt_key:str = active_context.get_description(separator='|', subset_includelist=IdentifyingContext._get_session_context_keys())\n",
    "\n",
    "# Uses: session_ctxt_key, all_param_sweep_options\n",
    "\n",
    "output_alt_directional_merged_decoders_result = {} # empty dict\n",
    "output_laps_decoding_accuracy_results_dict = {} # empty dict\n",
    "\n",
    "for a_sweep_dict in all_param_sweep_options:\n",
    "    a_sweep_tuple = frozenset(a_sweep_dict.items())\n",
    "    print(f'a_sweep_dict: {a_sweep_dict}')\n",
    "    # Convert parameters to string because Parquet supports metadata as string\n",
    "    a_sweep_str_params = {key: str(value) for key, value in a_sweep_dict.items() if value is not None}\n",
    "    \n",
    "    output_alt_directional_merged_decoders_result[a_sweep_tuple] = _try_single_decode(curr_active_pipeline, alt_directional_merged_decoders_result, **a_sweep_dict)\n",
    "\n",
    "    laps_time_bin_marginals_df: pd.DataFrame = output_alt_directional_merged_decoders_result[a_sweep_tuple].laps_time_bin_marginals_df.copy()\n",
    "    laps_all_epoch_bins_marginals_df: pd.DataFrame = output_alt_directional_merged_decoders_result[a_sweep_tuple].laps_all_epoch_bins_marginals_df.copy()\n",
    "\n",
    "    desired_laps_decoding_time_bin_size_str: str = a_sweep_str_params.get('desired_laps_decoding_time_bin_size', None)\n",
    "    laps_decoding_time_bin_size: float = output_alt_directional_merged_decoders_result[a_sweep_tuple].laps_decoding_time_bin_size\n",
    "    actual_laps_decoding_time_bin_size_str: str = str(laps_decoding_time_bin_size)\n",
    "    if actual_laps_decoding_time_bin_size_str is not None:\n",
    "        laps_time_bin_marginals_df.to_hdf(out_path, key=f'{session_ctxt_key}/{actual_laps_decoding_time_bin_size_str}/laps_time_bin_marginals_df', format='table', data_columns=True)\n",
    "        laps_all_epoch_bins_marginals_df.to_hdf(out_path, key=f'{session_ctxt_key}/{actual_laps_decoding_time_bin_size_str}/laps_all_epoch_bins_marginals_df', format='table', data_columns=True)\n",
    "\n",
    "    # get the current lap object and determine the percentage correct:\n",
    "    result_laps_epochs_df = _update_result_laps(a_result=output_alt_directional_merged_decoders_result[a_sweep_tuple], laps_df=laps_df)\n",
    "    (is_decoded_track_correct, is_decoded_dir_correct, are_both_decoded_properties_correct), (percent_laps_track_identity_estimated_correctly, percent_laps_direction_estimated_correctly, percent_laps_estimated_correctly) = _check_result_laps_epochs_df_performance(result_laps_epochs_df)\n",
    "    output_laps_decoding_accuracy_results_dict[laps_decoding_time_bin_size] = (percent_laps_track_identity_estimated_correctly, percent_laps_direction_estimated_correctly, percent_laps_estimated_correctly)\n",
    "    \n",
    "\n",
    "## Output the performance:\n",
    "output_laps_decoding_accuracy_results_df: pd.DataFrame = pd.DataFrame(output_laps_decoding_accuracy_results_dict.values(), index=output_laps_decoding_accuracy_results_dict.keys(), \n",
    "                  columns=['percent_laps_track_identity_estimated_correctly',\n",
    "                           'percent_laps_direction_estimated_correctly',\n",
    "                           'percent_laps_estimated_correctly'])\n",
    "output_laps_decoding_accuracy_results_df.index.name = 'laps_decoding_time_bin_size'\n",
    "# output_laps_decoding_accuracy_results_df\n",
    "\n",
    "## Save out the laps peformance result\n",
    "# output_laps_decoding_accuracy_results_df_path = Path('output/output_laps_decoding_accuracy_results_df.csv')\n",
    "# output_laps_decoding_accuracy_results_df.to_csv(output_laps_decoding_accuracy_results_df_path)\n",
    "output_laps_decoding_accuracy_results_df.to_hdf(out_path, key=f'{session_ctxt_key}/laps_decoding_accuracy_results', format='table', data_columns=True)"
   ]
  },
  {
   "cell_type": "code",
   "execution_count": null,
   "id": "471d9d86",
   "metadata": {},
   "outputs": [],
   "source": [
    "# ## Unpack the result:\n",
    "# all_directional_laps_filter_epochs_decoder_result_value = alt_directional_merged_decoders_result.all_directional_laps_filter_epochs_decoder_result\n",
    "# all_directional_ripple_filter_epochs_decoder_result_value = alt_directional_merged_decoders_result.all_directional_ripple_filter_epochs_decoder_result\n",
    "\n",
    "# laps_epochs_df = alt_directional_merged_decoders_result.laps_epochs_df\n",
    "# ripple_epochs_df = alt_directional_merged_decoders_result.ripple_epochs_df\n",
    "\n",
    "# all_directional_laps_filter_epochs_decoder_result_value\n",
    "\n",
    "# laps_decoding_time_bin_size: float = alt_directional_merged_decoders_result.laps_decoding_time_bin_size\n",
    "# ripple_decoding_time_bin_size: float = alt_directional_merged_decoders_result.ripple_decoding_time_bin_size\n",
    "# laps_decoding_time_bin_size, ripple_decoding_time_bin_size"
   ]
  },
  {
   "cell_type": "code",
   "execution_count": null,
   "id": "845b96f3",
   "metadata": {},
   "outputs": [],
   "source": [
    "from pyphoplacecellanalysis.General.Pipeline.Stages.ComputationFunctions.MultiContextComputationFunctions.DirectionalPlacefieldGlobalComputationFunctions import DirectionalMergedDecodersResult\n",
    "\n",
    "\n",
    "result_laps_epochs_df: pd.DataFrame = alt_directional_merged_decoders_result.laps_epochs_df\n",
    "result_laps_epochs_df"
   ]
  },
  {
   "cell_type": "code",
   "execution_count": null,
   "id": "8edb3737",
   "metadata": {},
   "outputs": [],
   "source": [
    "from neuropy.core.laps import Laps\n",
    "from PendingNotebookCode import _check_result_laps_epochs_df_performance\n",
    "# takes 'laps_df' and 'result_laps_epochs_df' to add the ground_truth and the decoded posteriors:\n",
    "\n",
    "# Ensure it has the 'lap_track' column\n",
    "## Compute the ground-truth information using the position information:\n",
    "# adds columns: ['maze_id', 'is_LR_dir']\n",
    "t_start, t_delta, t_end = curr_active_pipeline.find_LongShortDelta_times()\n",
    "laps_obj: Laps = curr_active_pipeline.sess.laps\n",
    "laps_obj\n"
   ]
  },
  {
   "cell_type": "code",
   "execution_count": null,
   "id": "89a24222",
   "metadata": {},
   "outputs": [],
   "source": [
    "\t\n",
    "# # np.sum(result_laps_epochs_df['is_LR_dir'] == result_laps_epochs_df['is_most_likely_direction_LR'])/np.shape(result_laps_epochs_df)[0]\n",
    "# laps_decoding_time_bin_size = alt_directional_merged_decoders_result.laps_decoding_time_bin_size\n",
    "# print(f'laps_decoding_time_bin_size: {laps_decoding_time_bin_size}')\n",
    "\t\n",
    "\n",
    "result_laps_epochs_df: pd.DataFrame = alt_directional_merged_decoders_result.laps_epochs_df\n",
    "result_laps_epochs_df = _update_result_laps(result_laps_epochs_df=result_laps_epochs_df, laps_df=laps_df)\n",
    "(is_decoded_track_correct, is_decoded_dir_correct, are_both_decoded_properties_correct), (percent_laps_track_identity_estimated_correctly, percent_laps_direction_estimated_correctly, percent_laps_estimated_correctly) = _check_result_laps_epochs_df_performance(result_laps_epochs_df)"
   ]
  },
  {
   "cell_type": "code",
   "execution_count": null,
   "id": "b07d0306",
   "metadata": {},
   "outputs": [],
   "source": [
    "## `alt_directional_merged_decoders_result`\n",
    "from PendingNotebookCode import test_build_new_marginals_df\n",
    "\n",
    "# `alt_directional_merged_decoders_result.all_directional_laps_filter_epochs_decoder_result`\n",
    "\n",
    "# laps_time_bin_marginals_df = test_build_new_marginals_df(alt_directional_merged_decoders_result)\n",
    "laps_time_bin_marginals_df: pd.DataFrame = test_build_new_marginals_df(a_decoder_result=deepcopy(alt_directional_merged_decoders_result.all_directional_laps_filter_epochs_decoder_result),\n",
    "\t\t\t\t\t\t\t\t a_track_identity_marginals=alt_directional_merged_decoders_result.laps_directional_marginals_tuple[0]\n",
    "\t\t\t\t\t\t\t )\n",
    "laps_time_bin_marginals_df\n",
    "\n",
    "ripple_time_bin_marginals_df: pd.DataFrame = test_build_new_marginals_df(a_decoder_result=deepcopy(alt_directional_merged_decoders_result.all_directional_ripple_filter_epochs_decoder_result),\n",
    "\t\t\t\t\t\t\t\t\t\t\t a_track_identity_marginals=alt_directional_merged_decoders_result.ripple_directional_marginals_tuple[0]\n",
    "\t\t\t\t\t\t\t\t\t\t)\n",
    "ripple_time_bin_marginals_df\n"
   ]
  },
  {
   "cell_type": "code",
   "execution_count": null,
   "id": "e31563a1",
   "metadata": {},
   "outputs": [],
   "source": [
    "alt_directional_merged_decoders_result.all_directional_laps_filter_epochs_decoder_result"
   ]
  },
  {
   "cell_type": "code",
   "execution_count": null,
   "id": "debcee02",
   "metadata": {},
   "outputs": [],
   "source": [
    "output_alt_directional_merged_decoders_result"
   ]
  },
  {
   "cell_type": "markdown",
   "id": "c15d02ad",
   "metadata": {},
   "source": [
    "## 2024-01-17 - Updates the `a_directional_merged_decoders_result.laps_epochs_df` with both the ground-truth values and the decoded predictions"
   ]
  },
  {
   "cell_type": "code",
   "execution_count": null,
   "id": "2ab95d85",
   "metadata": {},
   "outputs": [],
   "source": [
    "curr_active_pipeline.reload_default_display_functions()"
   ]
  },
  {
   "cell_type": "code",
   "execution_count": null,
   "id": "d9dabb0f",
   "metadata": {},
   "outputs": [],
   "source": [
    "# Interactive-mode parameters:\n",
    "_interactive_mode_kwargs = dict(should_use_MatplotlibTimeSynchronizedWidget=True, scrollable_figure=True, defer_render=False)\n",
    "_restore_previous_matplotlib_settings_callback = matplotlib_configuration_update(is_interactive=True, backend='Qt5Agg')\n",
    "_curr_interaction_mode_kwargs = _interactive_mode_kwargs # interactive mode"
   ]
  },
  {
   "cell_type": "code",
   "execution_count": null,
   "id": "2f0ca3ae",
   "metadata": {},
   "outputs": [],
   "source": [
    "# Non-interactive:\n",
    "_non_interactive_mode_kwargs = dict(should_use_MatplotlibTimeSynchronizedWidget=False, scrollable_figure=False, defer_render=True)\n",
    "_restore_previous_matplotlib_settings_callback = matplotlib_configuration_update(is_interactive=False, backend='AGG')\n",
    "_curr_interaction_mode_kwargs = _non_interactive_mode_kwargs # non-interactive mode"
   ]
  },
  {
   "cell_type": "markdown",
   "id": "2727307e",
   "metadata": {},
   "source": [
    "### 2024-01-19 - Marginal Scatter Plots from `alt_directional_merged_decoders_result`"
   ]
  },
  {
   "cell_type": "code",
   "execution_count": null,
   "id": "a8f3d42c",
   "metadata": {},
   "outputs": [],
   "source": [
    "from pyphoplacecellanalysis.General.Pipeline.Stages.ComputationFunctions.MultiContextComputationFunctions.DirectionalPlacefieldGlobalComputationFunctions import plot_all_epoch_bins_marginal_predictions\n",
    "use_single_time_bin_per_epoch = False\n",
    "active_display_context = curr_active_pipeline.build_display_context_for_session('plot_all_epoch_bins_marginal_predictions', laps_t_bin=laps_decoding_time_bin_size, ripple_t_bin=ripple_decoding_time_bin_size) # \n",
    "if use_single_time_bin_per_epoch:\n",
    "\tactive_display_context = active_display_context.adding_context_if_missing(use_single_time_bin_per_epoch=use_single_time_bin_per_epoch)\n",
    "\n",
    "# 'directional_decoded_epochs_marginals'\n",
    "collector_decoded_epoch_marginals = curr_active_pipeline.display('_display_directional_merged_pf_decoded_epochs_marginals', curr_active_pipeline.get_session_context(), \n",
    "\t\t\t\t\t\t\t\t\t\t\t\t\t\t\tactive_context=active_display_context,\n",
    "\t\t\t\t\t\t\t\t\t\t\t\t\t\t\tsave_figure=True, \n",
    "\t\t\t\t\t\t\t\t\t\t\t\t\t\t\tdirectional_merged_decoders_result=alt_directional_merged_decoders_result, # Custom `directional_merged_decoders_result` to use instead of the computed one.\n",
    "\t\t\t\t\t\t\t\t\t\t\t\t\t\t\t)\n"
   ]
  },
  {
   "cell_type": "markdown",
   "id": "7ae85fcb",
   "metadata": {},
   "source": [
    "### 2024-01-19 - Marginal Yellow-Blue Plots from `alt_directional_merged_decoders_result`"
   ]
  },
  {
   "cell_type": "code",
   "execution_count": null,
   "id": "e5876c7f",
   "metadata": {},
   "outputs": [],
   "source": [
    "# active_context = owning_pipeline_reference.sess.get_context()\n",
    "# Build the active context directly:\n",
    "active_display_context: IdentifyingContext = curr_active_pipeline.build_display_context_for_session('directional_merged_pf_decoded_epochs', laps_t_bin=laps_decoding_time_bin_size, ripple_t_bin=ripple_decoding_time_bin_size)\n",
    "if use_single_time_bin_per_epoch:\n",
    "\tactive_display_context = active_display_context.adding_context_if_missing(use_single_time_bin_per_epoch=use_single_time_bin_per_epoch)\n",
    "active_display_context\n",
    "\n",
    "## Plot the decoded epoch bins of the custom result:\n",
    "_out_decoded_epochs = curr_active_pipeline.display('_display_directional_merged_pf_decoded_epochs', curr_active_pipeline.get_session_context(), #active_display_context,\n",
    "\tmax_num_lap_epochs = 80, max_num_ripple_epochs = 100,\n",
    "\t# render_directional_marginal_laps=True, render_directional_marginal_ripples=True, render_track_identity_marginal_laps=True, render_track_identity_marginal_ripples=True,\n",
    "\trender_directional_marginal_laps=False, render_directional_marginal_ripples=False, render_track_identity_marginal_laps=False, render_track_identity_marginal_ripples=True,\n",
    "\t# constrained_layout=True, # layout='none',\n",
    "\t# build_fn='basic_view', constrained_layout=True, # 25.5s\n",
    "\tbuild_fn='insets_view', constrained_layout=True, #constrained_layout=None, layout='none', # , constrained_layout=False constrained_layout=None, layout='none', # , constrained_layout=None, layout='none' extrodinarily fast, 4.2s\n",
    "\t**_curr_interaction_mode_kwargs, # interactive mode\n",
    "\tskip_plotting_measured_positions=True, skip_plotting_most_likely_positions=True, save_figure=True, \n",
    "\tdirectional_merged_decoders_result=alt_directional_merged_decoders_result, # Custom `directional_merged_decoders_result` to use instead of the computed one.\n",
    "\t)\n",
    "collector_decoded_epochs = _out_decoded_epochs['collector']"
   ]
  },
  {
   "cell_type": "code",
   "execution_count": null,
   "id": "cddc6584",
   "metadata": {},
   "outputs": [],
   "source": [
    "laps_only_keys = [item for item in active_display_context.keys() if 'lap' in item] # items exclusive to laps: ['laps_t_bin']\n",
    "ripple_only_keys = [item for item in active_display_context.keys() if 'ripple' in item]\n",
    "laps_context = active_display_context.get_subset(subset_excludelist=ripple_only_keys) # laps specific context filtering out the ripple keys\n",
    "ripple_context = active_display_context.get_subset(subset_excludelist=laps_only_keys) # ripple specific context filtering out the laps keys\n"
   ]
  },
  {
   "cell_type": "markdown",
   "id": "a5c4169a",
   "metadata": {},
   "source": [
    "### 2024-01-19 - Build Gneral Marginals"
   ]
  },
  {
   "cell_type": "code",
   "execution_count": null,
   "id": "ac6d8817",
   "metadata": {},
   "outputs": [],
   "source": [
    "## `alt_directional_merged_decoders_result`\n",
    "from PendingNotebookCode import test_build_new_marginals_df\n",
    "\n",
    "# `alt_directional_merged_decoders_result.all_directional_laps_filter_epochs_decoder_result`\n",
    "\n",
    "# laps_time_bin_marginals_df = test_build_new_marginals_df(alt_directional_merged_decoders_result)\n",
    "laps_time_bin_marginals_df: pd.DataFrame = test_build_new_marginals_df(a_decoder_result=deepcopy(alt_directional_merged_decoders_result.all_directional_laps_filter_epochs_decoder_result),\n",
    "\t\t\t\t\t\t\t\t a_track_identity_marginals=alt_directional_merged_decoders_result.laps_directional_marginals_tuple[0]\n",
    "\t\t\t\t\t\t\t )\n",
    "laps_time_bin_marginals_df\n",
    "\n",
    "ripple_time_bin_marginals_df: pd.DataFrame = test_build_new_marginals_df(a_decoder_result=deepcopy(alt_directional_merged_decoders_result.all_directional_ripple_filter_epochs_decoder_result),\n",
    "\t\t\t\t\t\t\t\t\t\t\t a_track_identity_marginals=alt_directional_merged_decoders_result.ripple_directional_marginals_tuple[0]\n",
    "\t\t\t\t\t\t\t\t\t\t)\n",
    "ripple_time_bin_marginals_df"
   ]
  },
  {
   "cell_type": "code",
   "execution_count": null,
   "id": "f8d88744",
   "metadata": {},
   "outputs": [],
   "source": [
    "import matplotlib as mpl\n",
    "import matplotlib.pyplot as plt\n",
    "import seaborn as sns\n",
    "from flexitext import flexitext ## flexitext for formatted matplotlib text\n",
    "\n",
    "from pyphocorehelpers.DataStructure.RenderPlots.MatplotLibRenderPlots import FigureCollector\n",
    "from pyphoplacecellanalysis.General.Model.Configs.LongShortDisplayConfig import PlottingHelpers\n",
    "from neuropy.utils.matplotlib_helpers import FormattedFigureText\n",
    "\n",
    "\n",
    "perform_write_to_file_callback = None\n",
    "\n",
    "laps_all_epoch_bins_marginals_df = deepcopy(laps_time_bin_marginals_df)\n",
    "ripple_all_epoch_bins_marginals_df = deepcopy(ripple_time_bin_marginals_df)\n",
    "\n",
    "if active_context is not None:\n",
    "\tdisplay_context = active_context.adding_context('display_fn', display_fn_name='plot_all_epoch_bins_marginal_predictions')\n",
    "\t\n",
    "# These subset contexts are used to filter out lap/ripple only keys.\n",
    "# e.g. active_context=curr_active_pipeline.build_display_context_for_session('directional_merged_pf_decoded_epochs', laps_t_bin=laps_decoding_time_bin_size, ripple_t_bin=ripple_decoding_time_bin_size)\n",
    "\t# only want laps_t_bin on the laps plot and ripple_t_bin on the ripples plot\n",
    "laps_only_keys = [item for item in display_context.keys() if 'lap' in item] # items exclusive to laps: ['laps_t_bin']\n",
    "ripple_only_keys = [item for item in display_context.keys() if 'ripple' in item]\n",
    "laps_display_context = display_context.get_subset(subset_excludelist=ripple_only_keys) # laps specific context filtering out the ripple keys\n",
    "ripple_display_context = display_context.get_subset(subset_excludelist=laps_only_keys) # ripple specific context filtering out the laps keys\n",
    "\n",
    "\n",
    "with mpl.rc_context({'figure.figsize': (12.4, 4.8), 'figure.dpi': '220', 'savefig.transparent': True, 'ps.fonttype': 42,\n",
    "\t\t\t\t\t\t\"axes.spines.left\": False, \"axes.spines.right\": False, \"axes.spines.bottom\": False, \"axes.spines.top\": False,\n",
    "\t\t\t\t\t\t\"axes.edgecolor\": \"none\", \"xtick.bottom\": False, \"xtick.top\": False, \"ytick.left\": False, \"ytick.right\": False}):\n",
    "\t# Create a FigureCollector instance\n",
    "\twith FigureCollector(name='plot_all_epoch_bins_marginal_predictions', base_context=display_context) as collector:\n",
    "\n",
    "\t\t## Define common operations to do after making the figure:\n",
    "\t\tdef setup_common_after_creation(a_collector, fig, axes, sub_context, title=f'<size:22> Sig. (>0.95) <weight:bold>Best</> <weight:bold>Quantile Diff</></>'):\n",
    "\t\t\t\"\"\" Captures:\n",
    "\n",
    "\t\t\tt_split, t_start, t_end)\n",
    "\t\t\t\"\"\"\n",
    "\t\t\ta_collector.contexts.append(sub_context)\n",
    "\t\t\t\n",
    "\t\t\tfor ax in (axes if isinstance(axes, Iterable) else [axes]):\n",
    "\t\t\t\t# Update the xlimits with the new bounds\n",
    "\t\t\t\tax.set_ylim(0.0, 1.0)\n",
    "\t\t\t\t# Add epoch indicators\n",
    "\t\t\t\t_tmp_output_dict = PlottingHelpers.helper_matplotlib_add_long_short_epoch_indicator_regions(ax=ax, t_split=t_delta, t_start=t_start, t_end=t_end)\n",
    "\t\t\t\t# Update the xlimits with the new bounds\n",
    "\t\t\t\tax.set_xlim(t_start, t_end)\n",
    "\t\t\t\t# Draw a horizontal line at y=0.5\n",
    "\t\t\t\tax.axhline(y=0.5, color=(0,0,0,1)) # , linestyle='--'\n",
    "\t\t\t\t## This is figure level stuff and only needs to be done once:\n",
    "\t\t\t\t# `flexitext` version:\n",
    "\t\t\t\ttext_formatter = FormattedFigureText()\n",
    "\t\t\t\tax.set_title('')\n",
    "\t\t\t\tfig.suptitle('')\n",
    "\t\t\t\t# top=0.84, bottom=0.125, left=0.07, right=0.97,\n",
    "\t\t\t\t# text_formatter.setup_margins(fig, top_margin=1.0, left_margin=0.0, right_margin=1.0, bottom_margin=0.05)\n",
    "\t\t\t\ttext_formatter.setup_margins(fig, top_margin=0.84, left_margin=0.07, right_margin=0.97, bottom_margin=0.125)\n",
    "\t\t\t\t# fig.subplots_adjust(top=top_margin, left=left_margin, right=right_margin, bottom=bottom_margin)\n",
    "\t\t\t\t# title_text_obj = flexitext(text_formatter.left_margin, text_formatter.top_margin, title, va=\"bottom\", xycoords=\"figure fraction\")\n",
    "\t\t\t\ttitle_text_obj = flexitext(text_formatter.left_margin, 0.98, title, va=\"top\", xycoords=\"figure fraction\") # 0.98, va=\"top\" means the top edge of the title will be aligned to the fig_y=0.98 mark of the figure.\n",
    "\t\t\t\t# footer_text_obj = flexitext((text_formatter.left_margin * 0.1), (text_formatter.bottom_margin * 0.25),\n",
    "\t\t\t\t#                             text_formatter._build_footer_string(active_context=sub_context),\n",
    "\t\t\t\t#                             va=\"top\", xycoords=\"figure fraction\")\n",
    "\n",
    "\t\t\t\tfooter_text_obj = flexitext((text_formatter.left_margin * 0.1), (0.0025), ## (va=\"bottom\", (0.0025)) - this means that the bottom edge of the footer text is aligned with the fig_y=0.0025 in figure space\n",
    "\t\t\t\t\t\t\t\t\t\t\ttext_formatter._build_footer_string(active_context=sub_context),\n",
    "\t\t\t\t\t\t\t\t\t\t\tva=\"bottom\", xycoords=\"figure fraction\")\n",
    "\t\t\n",
    "\t\t\tif ((perform_write_to_file_callback is not None) and (sub_context is not None)):\n",
    "\t\t\t\tperform_write_to_file_callback(sub_context, fig)\n",
    "\t\t\t\n",
    "\t\t# Plot for BestDir\n",
    "\t\tfig, ax = collector.subplots(num='Laps_Marginal', clear=True)\n",
    "\t\t_out_Laps = sns.scatterplot(\n",
    "\t\t\tax=ax,\n",
    "\t\t\tdata=laps_all_epoch_bins_marginals_df,\n",
    "\t\t\tx='t_bin_center',\n",
    "\t\t\ty='P_Long',\n",
    "\t\t\t# size='LR_Long_rel_num_cells',  # Use the 'size' parameter for variable marker sizes\n",
    "\t\t)\n",
    "\t\tsetup_common_after_creation(collector, fig=fig, axes=ax, sub_context=laps_display_context.adding_context('subplot', subplot_name='Laps all_epoch_binned Marginals'), \n",
    "\t\t\t\t\t\t\t\t\ttitle=f'<size:22> Laps <weight:bold>all_epoch_binned</> Marginals</>')\n",
    "\t\t\n",
    "\t\tfig, ax = collector.subplots(num='Ripple_Marginal', clear=True)\n",
    "\t\t_out_Ripple = sns.scatterplot(\n",
    "\t\t\tax=ax,\n",
    "\t\t\tdata=ripple_all_epoch_bins_marginals_df,\n",
    "\t\t\tx='t_bin_center',\n",
    "\t\t\ty='P_Long',\n",
    "\t\t\t# size='LR_Long_rel_num_cells',  # Use the 'size' parameter for variable marker sizes\n",
    "\t\t)\n",
    "\t\tsetup_common_after_creation(collector, fig=fig, axes=ax, sub_context=ripple_display_context.adding_context('subplot', subplot_name='Ripple all_epoch_binned Marginals'), \n",
    "\t\t\t\t\t\ttitle=f'<size:22> Ripple <weight:bold>all_epoch_binned</> Marginals</>')\n"
   ]
  },
  {
   "cell_type": "code",
   "execution_count": null,
   "id": "2d655560",
   "metadata": {},
   "outputs": [],
   "source": [
    "laps_time_bin_marginals_df['lap_idx'] = laps_time_bin_marginals_df.index.to_numpy()\n",
    "laps_time_bin_marginals_df['lap_start_t'] = laps_epochs_df['start'].to_numpy()\n",
    "laps_time_bin_marginals_df"
   ]
  },
  {
   "cell_type": "code",
   "execution_count": null,
   "id": "9e3800d0",
   "metadata": {},
   "outputs": [],
   "source": [
    "# 2024-01-19 - Can decode position from the pseudo2D posterior directly, or by using the pseudo2D decoder to determine the best direction and track_id and use the corresponding 1D decoder's predicted position.\n"
   ]
  },
  {
   "cell_type": "code",
   "execution_count": null,
   "id": "31f76dfc",
   "metadata": {},
   "outputs": [],
   "source": [
    "# 2024-01-19 - Export All Epoch Time bin marginals to CSV also\n",
    "## Laps:\n",
    "laps_epochs_df: pd.DataFrame = deepcopy(alt_directional_merged_decoders_result.all_directional_laps_filter_epochs_decoder_result.filter_epochs).to_dataframe()\n",
    "laps_directional_marginals_tuple = DirectionalMergedDecodersResult.determine_directional_likelihoods(alt_directional_merged_decoders_result.all_directional_laps_filter_epochs_decoder_result)\n",
    "laps_directional_marginals, laps_directional_all_epoch_bins_marginal, laps_most_likely_direction_from_decoder, laps_is_most_likely_direction_LR_dir  = laps_directional_marginals_tuple\n",
    "laps_track_identity_marginals = DirectionalMergedDecodersResult.determine_long_short_likelihoods(alt_directional_merged_decoders_result.all_directional_laps_filter_epochs_decoder_result)\n",
    "track_identity_marginals, track_identity_all_epoch_bins_marginal, most_likely_track_identity_from_decoder, is_most_likely_track_identity_Long = laps_track_identity_marginals\n",
    "\n",
    "laps_marginals_df: pd.DataFrame = pd.DataFrame(np.hstack((laps_directional_all_epoch_bins_marginal, track_identity_all_epoch_bins_marginal)), columns=['P_LR', 'P_RL', 'P_Long', 'P_Short'])\n",
    "laps_marginals_df['lap_idx'] = laps_marginals_df.index.to_numpy()\n",
    "laps_marginals_df['lap_start_t'] = laps_epochs_df['start'].to_numpy()\n",
    "laps_marginals_df"
   ]
  },
  {
   "cell_type": "code",
   "execution_count": null,
   "id": "d78fbcd5",
   "metadata": {},
   "outputs": [],
   "source": [
    "display(laps_marginals_df)\n",
    "laps_marginals_df.to_html()"
   ]
  },
  {
   "cell_type": "markdown",
   "id": "e617f951",
   "metadata": {},
   "source": [
    "# 2024-01-22 - Figure out if the NaNs that appear on the individual 1D plots are causing the results from the Pseudo2D decoder marginals\n",
    " Pop out the boy - must mean the figures\n"
   ]
  },
  {
   "cell_type": "code",
   "execution_count": null,
   "id": "e310fe7f",
   "metadata": {},
   "outputs": [],
   "source": [
    "# The four decoders plotted on the continuous thing look like they're only non-NaN for their respective periods. This is bad! \n"
   ]
  },
  {
   "cell_type": "markdown",
   "id": "533c12e2",
   "metadata": {},
   "source": [
    "# 🚫❌MISTAKE: It is not enough to know their two independent PDFs, we also need to model the relation between the two random variables (through a joint PDF)\n"
   ]
  },
  {
   "cell_type": "code",
   "execution_count": null,
   "id": "2de5af9f",
   "metadata": {},
   "outputs": [],
   "source": [
    "DirectionalMergedDecodersResult.build_custom_marginal_over_direction(filter_epochs_decoder_result)\n"
   ]
  },
  {
   "cell_type": "code",
   "execution_count": null,
   "id": "d73c79d1",
   "metadata": {},
   "outputs": [],
   "source": [
    "## Local computation: check laps\n",
    "laps = curr_active_pipeline.sess.laps\n"
   ]
  },
  {
   "cell_type": "code",
   "execution_count": null,
   "id": "3f0d1e98",
   "metadata": {},
   "outputs": [],
   "source": [
    "np.arange(start=0.030, step=0.01, stop=0.10) # [0.03, 0.04, 0.05, 0.06, 0.07, 0.08, 0.09, 0.1]"
   ]
  },
  {
   "cell_type": "markdown",
   "id": "fc018065",
   "metadata": {},
   "source": [
    "# Call perform_sweep_decoding_time_bin_sizes_marginals_dfs_completion_function"
   ]
  },
  {
   "cell_type": "code",
   "execution_count": 15,
   "id": "82c6522e",
   "metadata": {
    "notebookRunGroups": {
     "groupValue": "1"
    }
   },
   "outputs": [],
   "source": [
    "# from pyphoplacecellanalysis.General.Batch.BatchJobCompletion.UserCompletionHelpers.batch_user_completion_helpers import perform_sweep_decoding_time_bin_sizes_marginals_dfs_completion_function\n",
    "\n",
    "BATCH_DATE_TO_USE: str = '2024-02-02_Lab' # TODO: Change this as needed, templating isn't actually doing anything rn.\n",
    "# collected_outputs_path = Path('/nfs/turbo/umms-kdiba/Data/Output/collected_outputs').resolve() # Linux\n",
    "# collected_outputs_path: Path = Path('/home/halechr/cloud/turbo/Data/Output/collected_outputs').resolve() # GreatLakes\n",
    "collected_outputs_path = Path(r'C:\\Users\\pho\\repos\\Spike3DWorkEnv\\Spike3D\\output\\collected_outputs').resolve() # Apogee\n",
    "\n",
    "\n",
    "def perform_sweep_decoding_time_bin_sizes_marginals_dfs_completion_function(self, global_data_root_parent_path, curr_session_context, curr_session_basedir, curr_active_pipeline, across_session_results_extended_dict: dict, save_hdf=True, save_csvs=True) -> dict:\n",
    "    print(f'<<<<<<<<<<<<<<<<<<<<<<<<<<<<<<<<<<<<<<<<<<<<<<<<<<<<<<<<<<<<<<<<<<<<<<<<<<<<<<<<')\n",
    "    print(f'perform_sweep_decoding_time_bin_sizes_marginals_dfs_completion_function(curr_session_context: {curr_session_context}, curr_session_basedir: {str(curr_session_basedir)}, ...,across_session_results_extended_dict: {across_session_results_extended_dict})')\n",
    "    from copy import deepcopy\n",
    "    import numpy as np\n",
    "    import pandas as pd\n",
    "    from neuropy.utils.debug_helpers import parameter_sweeps\n",
    "    from neuropy.core.laps import Laps\n",
    "    from neuropy.utils.mixins.binning_helpers import find_minimum_time_bin_duration\n",
    "    from pyphoplacecellanalysis.General.Pipeline.Stages.ComputationFunctions.MultiContextComputationFunctions.DirectionalPlacefieldGlobalComputationFunctions import _check_result_laps_epochs_df_performance\n",
    "    from pyphoplacecellanalysis.General.Pipeline.Stages.ComputationFunctions.MultiContextComputationFunctions.DirectionalPlacefieldGlobalComputationFunctions import DirectionalMergedDecodersResult\n",
    "    from pyphoplacecellanalysis.Analysis.Decoder.reconstruction import DecodedFilterEpochsResult\n",
    "\n",
    "    # Export CSVs:\n",
    "    def export_marginals_df_csv(marginals_df: pd.DataFrame, data_identifier_str: str, parent_output_path: Path, active_context):\n",
    "        \"\"\" captures nothing\n",
    "        \"\"\"\n",
    "        # output_date_str: str = get_now_rounded_time_str()\n",
    "        output_date_str: str = get_now_day_str()\n",
    "        # parent_output_path: Path = Path('output').resolve()\n",
    "        # active_context = curr_active_pipeline.get_session_context()\n",
    "        session_identifier_str: str = active_context.get_description()\n",
    "        assert output_date_str is not None\n",
    "        out_basename = '-'.join([output_date_str, session_identifier_str, data_identifier_str]) # '2024-01-04|kdiba_gor01_one_2006-6-09_1-22-43|(laps_marginals_df).csv'\n",
    "        out_filename = f\"{out_basename}.csv\"\n",
    "        out_path = parent_output_path.joinpath(out_filename).resolve()\n",
    "        marginals_df.to_csv(out_path)\n",
    "        return out_path \n",
    "\n",
    "\n",
    "    def _subfn_process_time_bin_swept_results(curr_active_pipeline, output_extracted_result_tuples):\n",
    "        \"\"\" After the sweeps are complete and multiple (one for each time_bin_size swept) indepdnent dfs are had with the four results types this function concatenates each of the four into a single dataframe for all time_bin_size values with a column 'time_bin_size'. \n",
    "        It also saves them out to CSVs in a manner similar to what `compute_and_export_marginals_dfs_completion_function` did to be compatible with `2024-01-23 - Across Session Point and YellowBlue Marginal CSV Exports.ipynb`\n",
    "        Captures: save_csvs\n",
    "        \n",
    "        \n",
    "        \"\"\"\n",
    "        several_time_bin_sizes_laps_time_bin_marginals_df_list = []\n",
    "        several_time_bin_sizes_laps_per_epoch_marginals_df_list = []\n",
    "\n",
    "        several_time_bin_sizes_ripple_time_bin_marginals_df_list = []\n",
    "        several_time_bin_sizes_ripple_per_epoch_marginals_df_list = []\n",
    "\n",
    "\n",
    "        # for a_sweep_tuple, (a_laps_time_bin_marginals_df, a_laps_all_epoch_bins_marginals_df) in output_extracted_result_tuples.items():\n",
    "        for a_sweep_tuple, (a_laps_time_bin_marginals_df, a_laps_all_epoch_bins_marginals_df, a_ripple_time_bin_marginals_df, a_ripple_all_epoch_bins_marginals_df) in output_extracted_result_tuples.items():\n",
    "            a_sweep_dict = dict(a_sweep_tuple)\n",
    "            \n",
    "            # Shared\n",
    "            desired_laps_decoding_time_bin_size = float(a_sweep_dict['desired_shared_decoding_time_bin_size'])\n",
    "            desired_ripple_decoding_time_bin_size = float(a_sweep_dict['desired_shared_decoding_time_bin_size'])\n",
    "            \n",
    "            # a_laps_time_bin_marginals_df.\n",
    "            df = a_laps_time_bin_marginals_df\n",
    "            df['time_bin_size'] = desired_laps_decoding_time_bin_size # desired_laps_decoding_time_bin_size\n",
    "            # df['session_name'] = session_name\n",
    "            df = a_laps_all_epoch_bins_marginals_df\n",
    "            df['time_bin_size'] = desired_laps_decoding_time_bin_size\n",
    "\n",
    "            df = a_ripple_time_bin_marginals_df\n",
    "            df['time_bin_size'] = desired_ripple_decoding_time_bin_size\n",
    "            df = a_ripple_all_epoch_bins_marginals_df\n",
    "            df['time_bin_size'] = desired_ripple_decoding_time_bin_size\n",
    "\n",
    "            several_time_bin_sizes_laps_time_bin_marginals_df_list.append(a_laps_time_bin_marginals_df)\n",
    "            several_time_bin_sizes_laps_per_epoch_marginals_df_list.append(a_laps_all_epoch_bins_marginals_df)\n",
    "            \n",
    "            several_time_bin_sizes_ripple_time_bin_marginals_df_list.append(a_ripple_time_bin_marginals_df)\n",
    "            several_time_bin_sizes_ripple_per_epoch_marginals_df_list.append(a_ripple_all_epoch_bins_marginals_df)\n",
    "\n",
    "\n",
    "        ## Build across_sessions join dataframes:\n",
    "        several_time_bin_sizes_time_bin_laps_df: pd.DataFrame = pd.concat(several_time_bin_sizes_laps_time_bin_marginals_df_list, axis='index', ignore_index=True)\n",
    "        several_time_bin_sizes_laps_df: pd.DataFrame = pd.concat(several_time_bin_sizes_laps_per_epoch_marginals_df_list, axis='index', ignore_index=True) # per epoch\n",
    "\n",
    "        several_time_bin_sizes_time_bin_ripple_df: pd.DataFrame = pd.concat(several_time_bin_sizes_ripple_time_bin_marginals_df_list, axis='index', ignore_index=True)\n",
    "        several_time_bin_sizes_ripple_df: pd.DataFrame = pd.concat(several_time_bin_sizes_ripple_per_epoch_marginals_df_list, axis='index', ignore_index=True) # per epoch\n",
    "\n",
    "        # Export time_bin_swept results to CSVs:\n",
    "        if save_csvs:\n",
    "            assert collected_outputs_path.exists()\n",
    "            active_context = curr_active_pipeline.get_session_context()\n",
    "            laps_time_bin_marginals_out_path = export_marginals_df_csv(several_time_bin_sizes_time_bin_laps_df, data_identifier_str=f'(laps_time_bin_marginals_df)', parent_output_path=collected_outputs_path, active_context=active_context)\n",
    "            laps_out_path = export_marginals_df_csv(several_time_bin_sizes_laps_df, data_identifier_str=f'(laps_marginals_df)', parent_output_path=collected_outputs_path, active_context=active_context)\n",
    "            ripple_time_bin_marginals_out_path = export_marginals_df_csv(several_time_bin_sizes_time_bin_ripple_df, data_identifier_str=f'(ripple_time_bin_marginals_df)', parent_output_path=collected_outputs_path, active_context=active_context)\n",
    "            ripple_out_path = export_marginals_df_csv(several_time_bin_sizes_ripple_df, data_identifier_str=f'(ripple_marginals_df)', parent_output_path=collected_outputs_path, active_context=active_context)\n",
    "        else:\n",
    "            laps_time_bin_marginals_out_path, laps_out_path, ripple_time_bin_marginals_out_path, ripple_out_path = None, None, None, None\n",
    "            \n",
    "        return (several_time_bin_sizes_laps_df, laps_out_path, several_time_bin_sizes_time_bin_laps_df, laps_time_bin_marginals_out_path), (several_time_bin_sizes_ripple_df, ripple_out_path, several_time_bin_sizes_time_bin_ripple_df, ripple_time_bin_marginals_out_path)\n",
    "        # (several_time_bin_sizes_laps_df, laps_out_path, several_time_bin_sizes_time_bin_laps_df, laps_time_bin_marginals_out_path), (several_time_bin_sizes_ripple_df, ripple_out_path, several_time_bin_sizes_time_bin_ripple_df, ripple_time_bin_marginals_out_path)\n",
    "        \n",
    "\n",
    "\n",
    "    def add_session_df_columns(df: pd.DataFrame, session_name: str, curr_session_t_delta: Optional[float], time_col: str) -> pd.DataFrame:\n",
    "        \"\"\" adds session-specific information to the marginal dataframes \"\"\"\n",
    "        df['session_name'] = session_name \n",
    "        if curr_session_t_delta is not None:\n",
    "            df['delta_aligned_start_t'] = df[time_col] - curr_session_t_delta\n",
    "        return df\n",
    "\n",
    "\n",
    "    ## Single decode:\n",
    "    def _try_single_decode(owning_pipeline_reference, directional_merged_decoders_result, use_single_time_bin_per_epoch: bool, desired_laps_decoding_time_bin_size: Optional[float]=None, desired_ripple_decoding_time_bin_size: Optional[float]=None, desired_shared_decoding_time_bin_size: Optional[float]=None, minimum_event_duration: Optional[float]=None):\n",
    "        \"\"\" decodes laps and ripples for a single bin size. \n",
    "        \n",
    "        minimum_event_duration: if provided, excludes all events shorter than minimum_event_duration\n",
    "        \"\"\"\n",
    "        if desired_shared_decoding_time_bin_size is not None:\n",
    "            assert desired_laps_decoding_time_bin_size is None\n",
    "            assert desired_ripple_decoding_time_bin_size is None\n",
    "            desired_laps_decoding_time_bin_size = desired_shared_decoding_time_bin_size\n",
    "            desired_ripple_decoding_time_bin_size = desired_shared_decoding_time_bin_size\n",
    "            \n",
    "\n",
    "        ## Decode Laps:\n",
    "        laps_epochs_df = deepcopy(directional_merged_decoders_result.all_directional_laps_filter_epochs_decoder_result.filter_epochs)\n",
    "        if not isinstance(laps_epochs_df, pd.DataFrame):\n",
    "            laps_epochs_df = laps_epochs_df.to_dataframe()\n",
    "        # global_any_laps_epochs_obj = deepcopy(owning_pipeline_reference.computation_results[global_epoch_name].computation_config.pf_params.computation_epochs) # global_epoch_name='maze_any' (? same as global_epoch_name?)\n",
    "        min_possible_laps_time_bin_size: float = find_minimum_time_bin_duration(laps_epochs_df['duration'].to_numpy())\n",
    "        min_bounded_laps_decoding_time_bin_size: float = min(desired_laps_decoding_time_bin_size, min_possible_laps_time_bin_size) # 10ms # 0.002\n",
    "        if desired_laps_decoding_time_bin_size < min_bounded_laps_decoding_time_bin_size:\n",
    "            print(f'WARN: desired_laps_decoding_time_bin_size: {desired_laps_decoding_time_bin_size} < min_bounded_laps_decoding_time_bin_size: {min_bounded_laps_decoding_time_bin_size}... hopefully it works.')\n",
    "        laps_decoding_time_bin_size: float = desired_laps_decoding_time_bin_size # allow direct use\n",
    "        if use_single_time_bin_per_epoch:\n",
    "            laps_decoding_time_bin_size = None\n",
    "        directional_merged_decoders_result.all_directional_laps_filter_epochs_decoder_result = directional_merged_decoders_result.all_directional_pf1D_Decoder.decode_specific_epochs(spikes_df=deepcopy(owning_pipeline_reference.sess.spikes_df), filter_epochs=laps_epochs_df,\n",
    "                                                                                                                                                        decoding_time_bin_size=laps_decoding_time_bin_size, use_single_time_bin_per_epoch=use_single_time_bin_per_epoch, debug_print=False)\n",
    "        \n",
    "\n",
    "        ## Decode Ripples:\n",
    "        if desired_ripple_decoding_time_bin_size is not None:\n",
    "            # global_replays = TimeColumnAliasesProtocol.renaming_synonym_columns_if_needed(deepcopy(owning_pipeline_reference.filtered_sessions[global_epoch_name].replay))\n",
    "            replay_epochs_df = deepcopy(directional_merged_decoders_result.all_directional_ripple_filter_epochs_decoder_result.filter_epochs)\n",
    "            if not isinstance(replay_epochs_df, pd.DataFrame):\n",
    "                replay_epochs_df = replay_epochs_df.to_dataframe()\n",
    "            # min_possible_ripple_time_bin_size: float = find_minimum_time_bin_duration(replay_epochs_df['duration'].to_numpy())\n",
    "            # min_bounded_ripple_decoding_time_bin_size: float = min(desired_ripple_decoding_time_bin_size, min_possible_ripple_time_bin_size) # 10ms # 0.002\n",
    "            # if desired_ripple_decoding_time_bin_size < min_bounded_ripple_decoding_time_bin_size:\n",
    "            #     print(f'WARN: desired_ripple_decoding_time_bin_size: {desired_ripple_decoding_time_bin_size} < min_bounded_ripple_decoding_time_bin_size: {min_bounded_ripple_decoding_time_bin_size}... hopefully it works.')\n",
    "            ripple_decoding_time_bin_size: float = desired_ripple_decoding_time_bin_size # allow direct use            \n",
    "            ## Drop those less than the time bin duration\n",
    "            print(f'DropShorterMode:')\n",
    "            pre_drop_n_epochs = len(replay_epochs_df)\n",
    "            if minimum_event_duration is not None:                \n",
    "                replay_epochs_df = replay_epochs_df[replay_epochs_df['duration'] > minimum_event_duration]\n",
    "                post_drop_n_epochs = len(replay_epochs_df)\n",
    "                n_dropped_epochs = post_drop_n_epochs - pre_drop_n_epochs\n",
    "                print(f'\\tminimum_event_duration present (minimum_event_duration={minimum_event_duration}).\\n\\tdropping {n_dropped_epochs} that are shorter than our minimum_event_duration of {minimum_event_duration}.', end='\\t')\n",
    "            else:\n",
    "                replay_epochs_df = replay_epochs_df[replay_epochs_df['duration'] > desired_ripple_decoding_time_bin_size]\n",
    "                post_drop_n_epochs = len(replay_epochs_df)\n",
    "                n_dropped_epochs = post_drop_n_epochs - pre_drop_n_epochs\n",
    "                print(f'\\tdropping {n_dropped_epochs} that are shorter than our ripple decoding time bin size of {desired_ripple_decoding_time_bin_size}', end='\\t') \n",
    "\n",
    "            print(f'{post_drop_n_epochs} remain.')\n",
    "            directional_merged_decoders_result.all_directional_ripple_filter_epochs_decoder_result = directional_merged_decoders_result.all_directional_pf1D_Decoder.decode_specific_epochs(spikes_df=deepcopy(owning_pipeline_reference.sess.spikes_df), filter_epochs=replay_epochs_df,\n",
    "                                                                                                                                                                                            decoding_time_bin_size=ripple_decoding_time_bin_size, use_single_time_bin_per_epoch=use_single_time_bin_per_epoch, debug_print=False)\n",
    "\n",
    "        directional_merged_decoders_result.perform_compute_marginals()\n",
    "        return directional_merged_decoders_result\n",
    "        \n",
    "\n",
    "    def _update_result_laps(a_result: DecodedFilterEpochsResult, laps_df: pd.DataFrame) -> pd.DataFrame:\n",
    "        \"\"\" captures nothing. Can reusing the same laps_df as it makes no modifications to it. \n",
    "        \n",
    "        e.g. a_result=output_alt_directional_merged_decoders_result[a_sweep_tuple]\n",
    "        \"\"\"\n",
    "        result_laps_epochs_df: pd.DataFrame = a_result.laps_epochs_df\n",
    "        ## 2024-01-17 - Updates the `a_directional_merged_decoders_result.laps_epochs_df` with both the ground-truth values and the decoded predictions\n",
    "        result_laps_epochs_df['maze_id'] = laps_df['maze_id'].to_numpy()[np.isin(laps_df['lap_id'], result_laps_epochs_df['lap_id'])] # this works despite the different size because of the index matching\n",
    "        ## add the 'is_LR_dir' groud-truth column in:\n",
    "        result_laps_epochs_df['is_LR_dir'] = laps_df['is_LR_dir'].to_numpy()[np.isin(laps_df['lap_id'], result_laps_epochs_df['lap_id'])] # this works despite the different size because of the index matching\n",
    "        \n",
    "        laps_directional_marginals, laps_directional_all_epoch_bins_marginal, laps_most_likely_direction_from_decoder, laps_is_most_likely_direction_LR_dir = a_result.laps_directional_marginals_tuple\n",
    "        laps_track_identity_marginals, laps_track_identity_all_epoch_bins_marginal, laps_most_likely_track_identity_from_decoder, laps_is_most_likely_track_identity_Long = a_result.laps_track_identity_marginals_tuple\n",
    "        ## Add the decoded results to the laps df:\n",
    "        result_laps_epochs_df['is_most_likely_track_identity_Long'] = laps_is_most_likely_track_identity_Long\n",
    "        result_laps_epochs_df['is_most_likely_direction_LR'] = laps_is_most_likely_direction_LR_dir\n",
    "        return result_laps_epochs_df\n",
    "\n",
    "    # BEGIN FUNCTION BODY ________________________________________________________________________________________________ #\n",
    "    assert collected_outputs_path.exists()\n",
    "    curr_session_name: str = curr_active_pipeline.session_name # '2006-6-08_14-26-15'\n",
    "    CURR_BATCH_OUTPUT_PREFIX: str = f\"{BATCH_DATE_TO_USE}-{curr_session_name}\"\n",
    "    print(f'CURR_BATCH_OUTPUT_PREFIX: {CURR_BATCH_OUTPUT_PREFIX}')\n",
    "\n",
    "    active_context = curr_active_pipeline.get_session_context()\n",
    "    session_ctxt_key:str = active_context.get_description(separator='|', subset_includelist=IdentifyingContext._get_session_context_keys())\n",
    "    \n",
    "    ## INPUT PARAMETER: time_bin_size sweep paraemters\n",
    "    desired_shared_decoding_time_bin_size = np.linspace(start=0.030, stop=0.10, num=6)\n",
    "    \n",
    "    # Shared time bin sizes\n",
    "    # all_param_sweep_options, param_sweep_option_n_values = parameter_sweeps(desired_laps_decoding_time_bin_size=desired_laps_decoding_time_bin_sizes, use_single_time_bin_per_epoch=[False], desired_ripple_decoding_time_bin_size=[None])\n",
    "    all_param_sweep_options, param_sweep_option_n_values = parameter_sweeps(desired_shared_decoding_time_bin_size=desired_shared_decoding_time_bin_size, use_single_time_bin_per_epoch=[False], minimum_event_duration=[desired_shared_decoding_time_bin_size[-1]]) # with Ripples\n",
    "    # len(all_param_sweep_options)\n",
    "    \n",
    "    ## Perfrom the computations:\n",
    "\n",
    "    # DirectionalMergedDecoders: Get the result after computation:\n",
    "    ## Copy the default result:\n",
    "    directional_merged_decoders_result: DirectionalMergedDecodersResult = curr_active_pipeline.global_computation_results.computed_data['DirectionalMergedDecoders']\n",
    "    alt_directional_merged_decoders_result: DirectionalMergedDecodersResult = deepcopy(directional_merged_decoders_result)\n",
    "\n",
    "    # out_path_basename_str: str = f\"{now_day_str}_{active_context}_time_bin_size-{laps_decoding_time_bin_size}_{data_identifier_str}\"\n",
    "    # out_path_basename_str: str = f\"{now_day_str}_{active_context}_time_bin_size_sweep_results\"\n",
    "    out_path_basename_str: str = f\"{CURR_BATCH_OUTPUT_PREFIX}_time_bin_size_sweep_results\"\n",
    "    # out_path_filenname_str: str = f\"{out_path_basename_str}.csv\"\n",
    "\n",
    "    out_path_filenname_str: str = f\"{out_path_basename_str}.h5\"\n",
    "    out_path: Path = collected_outputs_path.resolve().joinpath(out_path_filenname_str).resolve()\n",
    "    print(f'\\out_path_str: \"{out_path_filenname_str}\"')\n",
    "    print(f'\\tout_path: \"{out_path}\"')\n",
    "    \n",
    "    # Ensure it has the 'lap_track' column\n",
    "    ## Compute the ground-truth information using the position information:\n",
    "    # adds columns: ['maze_id', 'is_LR_dir']\n",
    "    t_start, t_delta, t_end = curr_active_pipeline.find_LongShortDelta_times()\n",
    "    laps_obj: Laps = curr_active_pipeline.sess.laps\n",
    "    laps_obj.update_lap_dir_from_smoothed_velocity(pos_input=curr_active_pipeline.sess.position)\n",
    "    laps_obj.update_maze_id_if_needed(t_start=t_start, t_delta=t_delta, t_end=t_end)\n",
    "    laps_df = laps_obj.to_dataframe()\n",
    "    \n",
    "    # Uses: session_ctxt_key, all_param_sweep_options\n",
    "    output_alt_directional_merged_decoders_result = {} # empty dict\n",
    "    output_laps_decoding_accuracy_results_dict = {} # empty dict\n",
    "    output_extracted_result_tuples = {}\n",
    "\n",
    "    for a_sweep_dict in all_param_sweep_options:\n",
    "        a_sweep_tuple = frozenset(a_sweep_dict.items())\n",
    "        print(f'a_sweep_dict: {a_sweep_dict}')\n",
    "        # Convert parameters to string because Parquet supports metadata as string\n",
    "        a_sweep_str_params = {key: str(value) for key, value in a_sweep_dict.items() if value is not None}\n",
    "        \n",
    "        output_alt_directional_merged_decoders_result[a_sweep_tuple] = _try_single_decode(curr_active_pipeline, alt_directional_merged_decoders_result, **a_sweep_dict)\n",
    "\n",
    "        laps_time_bin_marginals_df: pd.DataFrame = output_alt_directional_merged_decoders_result[a_sweep_tuple].laps_time_bin_marginals_df.copy()\n",
    "        laps_all_epoch_bins_marginals_df: pd.DataFrame = output_alt_directional_merged_decoders_result[a_sweep_tuple].laps_all_epoch_bins_marginals_df.copy()\n",
    "        \n",
    "        ## Ripples:\n",
    "        ripple_time_bin_marginals_df: pd.DataFrame = output_alt_directional_merged_decoders_result[a_sweep_tuple].ripple_time_bin_marginals_df.copy()\n",
    "        ripple_all_epoch_bins_marginals_df: pd.DataFrame = output_alt_directional_merged_decoders_result[a_sweep_tuple].ripple_all_epoch_bins_marginals_df.copy()\n",
    "\n",
    "        session_name = curr_session_name\n",
    "        curr_session_t_delta = t_delta\n",
    "        \n",
    "        for a_df, a_time_bin_column_name in zip((laps_time_bin_marginals_df, laps_all_epoch_bins_marginals_df, ripple_time_bin_marginals_df, ripple_all_epoch_bins_marginals_df), ('t_bin_center', 'lap_start_t', 't_bin_center', 'ripple_start_t')):\n",
    "            ## Add the session-specific columns:\n",
    "            a_df = add_session_df_columns(a_df, session_name, curr_session_t_delta, a_time_bin_column_name)\n",
    "\n",
    "        ## Build the output tuple:\n",
    "        output_extracted_result_tuples[a_sweep_tuple] = (laps_time_bin_marginals_df, laps_all_epoch_bins_marginals_df, ripple_time_bin_marginals_df, ripple_all_epoch_bins_marginals_df)\n",
    "        \n",
    "        # desired_laps_decoding_time_bin_size_str: str = a_sweep_str_params.get('desired_laps_decoding_time_bin_size', None)\n",
    "        laps_decoding_time_bin_size: float = output_alt_directional_merged_decoders_result[a_sweep_tuple].laps_decoding_time_bin_size\n",
    "        # ripple_decoding_time_bin_size: float = output_alt_directional_merged_decoders_result[a_sweep_tuple].ripple_decoding_time_bin_size\n",
    "        actual_laps_decoding_time_bin_size_str: str = str(laps_decoding_time_bin_size)\n",
    "        if save_hdf and (actual_laps_decoding_time_bin_size_str is not None):\n",
    "            laps_time_bin_marginals_df.to_hdf(out_path, key=f'{session_ctxt_key}/{actual_laps_decoding_time_bin_size_str}/laps_time_bin_marginals_df', format='table', data_columns=True)\n",
    "            laps_all_epoch_bins_marginals_df.to_hdf(out_path, key=f'{session_ctxt_key}/{actual_laps_decoding_time_bin_size_str}/laps_all_epoch_bins_marginals_df', format='table', data_columns=True)\n",
    "\n",
    "        ## TODO: output ripple .h5 here if desired.\n",
    "            \n",
    "\n",
    "        # get the current lap object and determine the percentage correct:\n",
    "        result_laps_epochs_df: pd.DataFrame = _update_result_laps(a_result=output_alt_directional_merged_decoders_result[a_sweep_tuple], laps_df=laps_df)\n",
    "        (is_decoded_track_correct, is_decoded_dir_correct, are_both_decoded_properties_correct), (percent_laps_track_identity_estimated_correctly, percent_laps_direction_estimated_correctly, percent_laps_estimated_correctly) = _check_result_laps_epochs_df_performance(result_laps_epochs_df)\n",
    "        output_laps_decoding_accuracy_results_dict[laps_decoding_time_bin_size] = (percent_laps_track_identity_estimated_correctly, percent_laps_direction_estimated_correctly, percent_laps_estimated_correctly)\n",
    "        \n",
    "\n",
    "    ## Output the performance:\n",
    "    output_laps_decoding_accuracy_results_df: pd.DataFrame = pd.DataFrame(output_laps_decoding_accuracy_results_dict.values(), index=output_laps_decoding_accuracy_results_dict.keys(), \n",
    "                    columns=['percent_laps_track_identity_estimated_correctly',\n",
    "                            'percent_laps_direction_estimated_correctly',\n",
    "                            'percent_laps_estimated_correctly'])\n",
    "    output_laps_decoding_accuracy_results_df.index.name = 'laps_decoding_time_bin_size'\n",
    "    ## Save out the laps peformance result\n",
    "    if save_hdf:\n",
    "        output_laps_decoding_accuracy_results_df.to_hdf(out_path, key=f'{session_ctxt_key}/laps_decoding_accuracy_results', format='table', data_columns=True)\n",
    "\n",
    "    ## Call the subfunction to process the time_bin_size swept result and produce combined output dataframes:\n",
    "    combined_multi_timebin_outputs_tuple = _subfn_process_time_bin_swept_results(curr_active_pipeline, output_extracted_result_tuples)\n",
    "    # Unpacking:    \n",
    "    # (several_time_bin_sizes_laps_df, laps_out_path, several_time_bin_sizes_time_bin_laps_df, laps_time_bin_marginals_out_path), (several_time_bin_sizes_ripple_df, ripple_out_path, several_time_bin_sizes_time_bin_ripple_df, ripple_time_bin_marginals_out_path) = combined_multi_timebin_outputs_tuple\n",
    "\n",
    "    # add to output dict\n",
    "    # across_session_results_extended_dict['compute_and_export_marginals_dfs_completion_function'] = _out\n",
    "    across_session_results_extended_dict['perform_sweep_decoding_time_bin_sizes_marginals_dfs_completion_function'] = (out_path, output_laps_decoding_accuracy_results_df, output_extracted_result_tuples, combined_multi_timebin_outputs_tuple)\n",
    "    # can unpack like:\n",
    "    (several_time_bin_sizes_laps_df, laps_out_path, several_time_bin_sizes_time_bin_laps_df, laps_time_bin_marginals_out_path), (several_time_bin_sizes_ripple_df, ripple_out_path, several_time_bin_sizes_time_bin_ripple_df, ripple_time_bin_marginals_out_path) = combined_multi_timebin_outputs_tuple\n",
    "\n",
    "    print(f'>>\\t done with {curr_session_context}')\n",
    "    print(f'>>>>>>>>>>>>>>>>>>>>>>>>>>>>>>>>>>>>>>>>>>>>>>>>>>>>>>>>>>>>>>>>>>>>>>>>>>>>>>>>')\n",
    "    print(f'>>>>>>>>>>>>>>>>>>>>>>>>>>>>>>>>>>>>>>>>>>>>>>>>>>>>>>>>>>>>>>>>>>>>>>>>>>>>>>>>')\n",
    "\n",
    "    return across_session_results_extended_dict\n",
    "\n"
   ]
  },
  {
   "cell_type": "code",
   "execution_count": 16,
   "id": "773e9f51",
   "metadata": {
    "notebookRunGroups": {
     "groupValue": "1"
    }
   },
   "outputs": [],
   "source": [
    "_across_session_results_extended_dict = {}"
   ]
  },
  {
   "cell_type": "code",
   "execution_count": null,
   "id": "6c0f6b31",
   "metadata": {
    "notebookRunGroups": {
     "groupValue": ""
    }
   },
   "outputs": [],
   "source": [
    "## Combine the output of `perform_sweep_decoding_time_bin_sizes_marginals_dfs_completion_function` into two dataframes for the laps, one per-epoch and one per-time-bin\n",
    "_across_session_results_extended_dict = _across_session_results_extended_dict | perform_sweep_decoding_time_bin_sizes_marginals_dfs_completion_function(None, None,\n",
    "\t\t\t\t\t\t\t\t\t\t\t\tcurr_session_context=curr_active_pipeline.get_session_context(), curr_session_basedir=curr_active_pipeline.sess.basepath.resolve(), curr_active_pipeline=curr_active_pipeline,\n",
    "\t\t\t\t\t\t\t\t\t\t\t\tacross_session_results_extended_dict=_across_session_results_extended_dict, save_hdf=False)\n",
    "out_path, output_laps_decoding_accuracy_results_df, output_extracted_result_tuples, combined_multi_timebin_outputs_tuple = _across_session_results_extended_dict['perform_sweep_decoding_time_bin_sizes_marginals_dfs_completion_function']\n",
    "(several_time_bin_sizes_laps_df, laps_out_path, several_time_bin_sizes_time_bin_laps_df, laps_time_bin_marginals_out_path), (several_time_bin_sizes_ripple_df, ripple_out_path, several_time_bin_sizes_time_bin_ripple_df, ripple_time_bin_marginals_out_path) = combined_multi_timebin_outputs_tuple\n"
   ]
  },
  {
   "cell_type": "code",
   "execution_count": null,
   "id": "09a71abd",
   "metadata": {},
   "outputs": [],
   "source": [
    "# get_file_pat\n",
    "collected_outputs_path"
   ]
  },
  {
   "cell_type": "code",
   "execution_count": null,
   "id": "97c0f606",
   "metadata": {},
   "outputs": [],
   "source": [
    "output_laps_decoding_accuracy_results_df"
   ]
  },
  {
   "cell_type": "code",
   "execution_count": null,
   "id": "dd970d51",
   "metadata": {},
   "outputs": [],
   "source": [
    "import matplotlib.pyplot as plt\n",
    "\n",
    "# def plot_histograms( data_type: str, session_spec: str, data_results_df: pd.DataFrame, time_bin_duration_str: str ) -> None:\n",
    "#     # get the pre-delta epochs\n",
    "#     pre_delta_df = data_results_df[data_results_df['delta_aligned_start_t'] <= 0]\n",
    "#     post_delta_df = data_results_df[data_results_df['delta_aligned_start_t'] > 0]\n",
    "\n",
    "#     descriptor_str: str = '|'.join([data_type, session_spec, time_bin_duration_str])\n",
    "    \n",
    "#     # plot pre-delta histogram\n",
    "#     pre_delta_df.hist(column='P_Long')\n",
    "#     plt.title(f'{descriptor_str} - pre-$\\Delta$ time bins')\n",
    "#     plt.show()\n",
    "\n",
    "#     # plot post-delta histogram\n",
    "#     post_delta_df.hist(column='P_Long')\n",
    "#     plt.title(f'{descriptor_str} - post-$\\Delta$ time bins')\n",
    "#     plt.show()\n",
    "    \n",
    "\n",
    "def plot_histograms(data_type: str, session_spec: str, data_results_df: pd.DataFrame, time_bin_duration_str: str) -> None:\n",
    "    \"\"\" plots a stacked histogram of the many time-bin sizes \"\"\"\n",
    "    # get the pre-delta epochs\n",
    "    pre_delta_df = data_results_df[data_results_df['delta_aligned_start_t'] <= 0]\n",
    "    post_delta_df = data_results_df[data_results_df['delta_aligned_start_t'] > 0]\n",
    "\n",
    "    descriptor_str: str = '|'.join([data_type, session_spec, time_bin_duration_str])\n",
    "    \n",
    "    # plot pre-delta histogram\n",
    "    time_bin_sizes = pre_delta_df['time_bin_size'].unique()\n",
    "    \n",
    "    figure_identifier: str = f\"{descriptor_str}_preDelta\"\n",
    "    plt.figure(num=figure_identifier, clear=True, figsize=(6, 2))\n",
    "    for time_bin_size in time_bin_sizes:\n",
    "        df_tbs = pre_delta_df[pre_delta_df['time_bin_size']==time_bin_size]\n",
    "        df_tbs['P_Long'].hist(alpha=0.5, label=str(time_bin_size)) \n",
    "    \n",
    "    plt.title(f'{descriptor_str} - pre-$\\Delta$ time bins')\n",
    "    plt.legend()\n",
    "    plt.show()\n",
    "\n",
    "    # plot post-delta histogram\n",
    "    time_bin_sizes = post_delta_df['time_bin_size'].unique()\n",
    "    figure_identifier: str = f\"{descriptor_str}_postDelta\"\n",
    "    plt.figure(num=figure_identifier, clear=True, figsize=(6, 2))\n",
    "    for time_bin_size in time_bin_sizes:\n",
    "        df_tbs = post_delta_df[post_delta_df['time_bin_size']==time_bin_size]\n",
    "        df_tbs['P_Long'].hist(alpha=0.5, label=str(time_bin_size)) \n",
    "    \n",
    "    plt.title(f'{descriptor_str} - post-$\\Delta$ time bins')\n",
    "    plt.legend()\n",
    "    plt.show()\n",
    "\n",
    "# # You can use it like this:\n",
    "# plot_histograms('Laps', 'All Sessions', all_sessions_laps_time_bin_df, \"75 ms\")\n",
    "# plot_histograms('Ripples', 'All Sessions', all_sessions_ripple_time_bin_df, \"75 ms\")\n"
   ]
  },
  {
   "cell_type": "code",
   "execution_count": null,
   "id": "49dd6f87",
   "metadata": {},
   "outputs": [],
   "source": [
    "import seaborn as sns\n",
    "sns.set_theme(style=\"ticks\")\n",
    "def pho_jointplot(*args, **kwargs):\n",
    "\t\"\"\" wraps sns.jointplot to allow adding titles/axis labels/etc.\"\"\"\n",
    "\ttitle = kwargs.pop('title', None)\n",
    "\t_out = sns.jointplot(*args, **kwargs)\n",
    "\tif title is not None:\n",
    "\t\tplt.suptitle(title)\n",
    "\treturn _out\n",
    "\n",
    "common_kwargs = dict(ylim=(0,1), hue='time_bin_size') # , marginal_kws=dict(bins=25, fill=True)\n",
    "# sns.jointplot(data=a_laps_all_epoch_bins_marginals_df, x='lap_start_t', y='P_Long', kind=\"scatter\", color=\"#4CB391\")\n",
    "pho_jointplot(data=several_time_bin_sizes_laps_df, x='delta_aligned_start_t', y='P_Long', kind=\"scatter\", **common_kwargs, title='Laps: per epoch') #color=\"#4CB391\")\n",
    "pho_jointplot(data=several_time_bin_sizes_ripple_df, x='delta_aligned_start_t', y='P_Long', kind=\"scatter\", **common_kwargs, title='Ripple: per epoch')\n",
    "pho_jointplot(data=several_time_bin_sizes_time_bin_ripple_df, x='delta_aligned_start_t', y='P_Long', kind=\"scatter\", **common_kwargs, title='Ripple: per time bin')\n",
    "pho_jointplot(data=several_time_bin_sizes_time_bin_laps_df, x='delta_aligned_start_t', y='P_Long', kind=\"scatter\", **common_kwargs, title='Laps: per time bin')"
   ]
  },
  {
   "cell_type": "code",
   "execution_count": null,
   "id": "c43311ee",
   "metadata": {},
   "outputs": [],
   "source": [
    "# You can use it like this:\n",
    "plot_histograms('Laps', 'One Session', several_time_bin_sizes_time_bin_laps_df, \"several\")\n",
    "plot_histograms('Ripples', 'One Session', several_time_bin_sizes_time_bin_ripple_df, \"several\")"
   ]
  },
  {
   "cell_type": "code",
   "execution_count": null,
   "id": "6a33b924",
   "metadata": {},
   "outputs": [],
   "source": [
    "several_time_bin_sizes_ripple_df"
   ]
  },
  {
   "cell_type": "code",
   "execution_count": null,
   "id": "e102212a",
   "metadata": {},
   "outputs": [],
   "source": [
    "# sns.displot(\n",
    "#     several_time_bin_sizes_laps_df, x=\"P_Long\", col=\"species\", row=\"time_bin_size\",\n",
    "#     binwidth=3, height=3, facet_kws=dict(margin_titles=True),\n",
    "# )\n",
    "\n",
    "sns.displot(\n",
    "    several_time_bin_sizes_laps_df, x='delta_aligned_start_t', y='P_Long', row=\"time_bin_size\",\n",
    "    binwidth=3, height=3, facet_kws=dict(margin_titles=True),\n",
    ")\n"
   ]
  },
  {
   "cell_type": "markdown",
   "id": "be351c18",
   "metadata": {},
   "source": [
    "# 2024-01-31 - Reinvestigation regarding remapping"
   ]
  },
  {
   "cell_type": "code",
   "execution_count": 21,
   "id": "911d7495",
   "metadata": {
    "notebookRunGroups": {
     "groupValue": "1"
    }
   },
   "outputs": [
    {
     "data": {
      "text/plain": [
       "TruncationCheckingResults(_VersionedResultMixin_version='2024.01.10_0', disappearing_endcap_aclus=Int64Index([17, 28, 54, 68, 96, 97], dtype='int64'), non_disappearing_endcap_aclus=Int64Index([5, 7, 9, 11, 16, 21, 35, 36, 37, 45, 48, 51, 53, 57, 59, 60, 61, 62, 63, 70, 71, 81, 84, 88, 89, 92, 98, 102, 107, 108], dtype='int64'), significant_distant_remapping_endcap_aclus=Int64Index([11, 21, 53, 57, 62, 63, 70, 81, 89, 92], dtype='int64'), minor_remapping_endcap_aclus=Int64Index([5, 7, 9, 16, 35, 36, 37, 45, 48, 51, 59, 60, 61, 71, 84, 88, 98, 102, 107, 108], dtype='int64'))"
      ]
     },
     "execution_count": 21,
     "metadata": {},
     "output_type": "execute_result"
    }
   ],
   "source": [
    "## long_short_endcap_analysis:\n",
    "truncation_checking_result: TruncationCheckingResults = curr_active_pipeline.global_computation_results.computed_data.long_short_endcap\n",
    "truncation_checking_result"
   ]
  },
  {
   "cell_type": "code",
   "execution_count": null,
   "metadata": {},
   "outputs": [],
   "source": [
    "truncation_checking_result"
   ]
  },
  {
   "cell_type": "code",
   "execution_count": 22,
   "id": "1a5d9b54",
   "metadata": {
    "notebookRunGroups": {
     "groupValue": "1"
    }
   },
   "outputs": [
    {
     "data": {
      "text/html": [
       "<div>\n",
       "<style scoped>\n",
       "    .dataframe tbody tr th:only-of-type {\n",
       "        vertical-align: middle;\n",
       "    }\n",
       "\n",
       "    .dataframe tbody tr th {\n",
       "        vertical-align: top;\n",
       "    }\n",
       "\n",
       "    .dataframe thead th {\n",
       "        text-align: right;\n",
       "    }\n",
       "</style>\n",
       "<table border=\"1\" class=\"dataframe\">\n",
       "  <thead>\n",
       "    <tr style=\"text-align: right;\">\n",
       "      <th></th>\n",
       "      <th>long_pf_peak_x</th>\n",
       "      <th>has_long_pf</th>\n",
       "      <th>short_pf_peak_x</th>\n",
       "      <th>has_short_pf</th>\n",
       "      <th>has_na</th>\n",
       "      <th>track_membership</th>\n",
       "      <th>long_non_replay_mean</th>\n",
       "      <th>short_non_replay_mean</th>\n",
       "      <th>non_replay_diff</th>\n",
       "      <th>long_replay_mean</th>\n",
       "      <th>short_replay_mean</th>\n",
       "      <th>replay_diff</th>\n",
       "      <th>long_mean</th>\n",
       "      <th>short_mean</th>\n",
       "      <th>mean_diff</th>\n",
       "      <th>neuron_IDX</th>\n",
       "      <th>num_replays</th>\n",
       "      <th>long_num_replays</th>\n",
       "      <th>short_num_replays</th>\n",
       "      <th>neuron_type</th>\n",
       "      <th>aclu</th>\n",
       "      <th>custom_frs_index</th>\n",
       "      <th>is_rate_extrema</th>\n",
       "      <th>is_refined_exclusive</th>\n",
       "      <th>is_refined_LxC</th>\n",
       "      <th>is_refined_SxC</th>\n",
       "      <th>is_long_peak_left_cap</th>\n",
       "      <th>is_long_peak_right_cap</th>\n",
       "      <th>is_long_peak_either_cap</th>\n",
       "      <th>LS_pf_peak_x_diff</th>\n",
       "    </tr>\n",
       "  </thead>\n",
       "  <tbody>\n",
       "    <tr>\n",
       "      <th>2</th>\n",
       "      <td>213.121619</td>\n",
       "      <td>True</td>\n",
       "      <td>NaN</td>\n",
       "      <td>False</td>\n",
       "      <td>True</td>\n",
       "      <td>SplitPartitionMembership.LEFT_ONLY</td>\n",
       "      <td>0.412424</td>\n",
       "      <td>0.115533</td>\n",
       "      <td>-0.296891</td>\n",
       "      <td>7.912740</td>\n",
       "      <td>NaN</td>\n",
       "      <td>NaN</td>\n",
       "      <td>4.162582</td>\n",
       "      <td>NaN</td>\n",
       "      <td>NaN</td>\n",
       "      <td>0</td>\n",
       "      <td>45</td>\n",
       "      <td>45</td>\n",
       "      <td>0</td>\n",
       "      <td>NeuronType.PYRAMIDAL</td>\n",
       "      <td>2</td>\n",
       "      <td>0.233430</td>\n",
       "      <td>False</td>\n",
       "      <td>False</td>\n",
       "      <td>False</td>\n",
       "      <td>False</td>\n",
       "      <td>False</td>\n",
       "      <td>False</td>\n",
       "      <td>False</td>\n",
       "      <td>NaN</td>\n",
       "    </tr>\n",
       "    <tr>\n",
       "      <th>3</th>\n",
       "      <td>141.054181</td>\n",
       "      <td>True</td>\n",
       "      <td>129.675112</td>\n",
       "      <td>True</td>\n",
       "      <td>False</td>\n",
       "      <td>SplitPartitionMembership.SHARED</td>\n",
       "      <td>0.274069</td>\n",
       "      <td>1.394595</td>\n",
       "      <td>1.120526</td>\n",
       "      <td>9.241991</td>\n",
       "      <td>8.536258</td>\n",
       "      <td>-0.705733</td>\n",
       "      <td>4.758030</td>\n",
       "      <td>4.965426</td>\n",
       "      <td>0.207397</td>\n",
       "      <td>1</td>\n",
       "      <td>91</td>\n",
       "      <td>23</td>\n",
       "      <td>68</td>\n",
       "      <td>NeuronType.PYRAMIDAL</td>\n",
       "      <td>3</td>\n",
       "      <td>-0.692958</td>\n",
       "      <td>True</td>\n",
       "      <td>False</td>\n",
       "      <td>False</td>\n",
       "      <td>False</td>\n",
       "      <td>False</td>\n",
       "      <td>False</td>\n",
       "      <td>False</td>\n",
       "      <td>11.379069</td>\n",
       "    </tr>\n",
       "    <tr>\n",
       "      <th>4</th>\n",
       "      <td>201.742550</td>\n",
       "      <td>True</td>\n",
       "      <td>182.777435</td>\n",
       "      <td>True</td>\n",
       "      <td>False</td>\n",
       "      <td>SplitPartitionMembership.SHARED</td>\n",
       "      <td>0.119382</td>\n",
       "      <td>0.924896</td>\n",
       "      <td>0.805514</td>\n",
       "      <td>NaN</td>\n",
       "      <td>12.484801</td>\n",
       "      <td>NaN</td>\n",
       "      <td>NaN</td>\n",
       "      <td>6.704848</td>\n",
       "      <td>NaN</td>\n",
       "      <td>2</td>\n",
       "      <td>87</td>\n",
       "      <td>0</td>\n",
       "      <td>87</td>\n",
       "      <td>NeuronType.PYRAMIDAL</td>\n",
       "      <td>4</td>\n",
       "      <td>-0.982542</td>\n",
       "      <td>True</td>\n",
       "      <td>False</td>\n",
       "      <td>False</td>\n",
       "      <td>False</td>\n",
       "      <td>False</td>\n",
       "      <td>False</td>\n",
       "      <td>False</td>\n",
       "      <td>18.965115</td>\n",
       "    </tr>\n",
       "    <tr>\n",
       "      <th>5</th>\n",
       "      <td>235.879758</td>\n",
       "      <td>True</td>\n",
       "      <td>201.742550</td>\n",
       "      <td>True</td>\n",
       "      <td>False</td>\n",
       "      <td>SplitPartitionMembership.SHARED</td>\n",
       "      <td>2.326046</td>\n",
       "      <td>2.012612</td>\n",
       "      <td>-0.313434</td>\n",
       "      <td>11.994904</td>\n",
       "      <td>11.315249</td>\n",
       "      <td>-0.679655</td>\n",
       "      <td>7.160475</td>\n",
       "      <td>6.663930</td>\n",
       "      <td>-0.496545</td>\n",
       "      <td>3</td>\n",
       "      <td>229</td>\n",
       "      <td>126</td>\n",
       "      <td>103</td>\n",
       "      <td>NeuronType.PYRAMIDAL</td>\n",
       "      <td>5</td>\n",
       "      <td>-0.035629</td>\n",
       "      <td>False</td>\n",
       "      <td>False</td>\n",
       "      <td>False</td>\n",
       "      <td>False</td>\n",
       "      <td>False</td>\n",
       "      <td>True</td>\n",
       "      <td>True</td>\n",
       "      <td>34.137208</td>\n",
       "    </tr>\n",
       "    <tr>\n",
       "      <th>6</th>\n",
       "      <td>NaN</td>\n",
       "      <td>False</td>\n",
       "      <td>NaN</td>\n",
       "      <td>False</td>\n",
       "      <td>True</td>\n",
       "      <td>SplitPartitionMembership.SHARED</td>\n",
       "      <td>25.389639</td>\n",
       "      <td>12.754636</td>\n",
       "      <td>-12.635004</td>\n",
       "      <td>105.811996</td>\n",
       "      <td>41.364962</td>\n",
       "      <td>-64.447034</td>\n",
       "      <td>65.600818</td>\n",
       "      <td>27.059799</td>\n",
       "      <td>-38.541019</td>\n",
       "      <td>4</td>\n",
       "      <td>602</td>\n",
       "      <td>345</td>\n",
       "      <td>257</td>\n",
       "      <td>NeuronType.INTERNEURONS</td>\n",
       "      <td>6</td>\n",
       "      <td>0.099237</td>\n",
       "      <td>False</td>\n",
       "      <td>False</td>\n",
       "      <td>False</td>\n",
       "      <td>False</td>\n",
       "      <td>False</td>\n",
       "      <td>False</td>\n",
       "      <td>False</td>\n",
       "      <td>NaN</td>\n",
       "    </tr>\n",
       "    <tr>\n",
       "      <th>7</th>\n",
       "      <td>53.814650</td>\n",
       "      <td>True</td>\n",
       "      <td>91.744881</td>\n",
       "      <td>True</td>\n",
       "      <td>False</td>\n",
       "      <td>SplitPartitionMembership.SHARED</td>\n",
       "      <td>2.645898</td>\n",
       "      <td>2.329686</td>\n",
       "      <td>-0.316212</td>\n",
       "      <td>12.134340</td>\n",
       "      <td>11.446703</td>\n",
       "      <td>-0.687637</td>\n",
       "      <td>7.390119</td>\n",
       "      <td>6.888194</td>\n",
       "      <td>-0.501925</td>\n",
       "      <td>5</td>\n",
       "      <td>134</td>\n",
       "      <td>81</td>\n",
       "      <td>53</td>\n",
       "      <td>NeuronType.PYRAMIDAL</td>\n",
       "      <td>7</td>\n",
       "      <td>-0.048261</td>\n",
       "      <td>False</td>\n",
       "      <td>False</td>\n",
       "      <td>False</td>\n",
       "      <td>False</td>\n",
       "      <td>True</td>\n",
       "      <td>False</td>\n",
       "      <td>True</td>\n",
       "      <td>-37.930231</td>\n",
       "    </tr>\n",
       "    <tr>\n",
       "      <th>...</th>\n",
       "      <td>...</td>\n",
       "      <td>...</td>\n",
       "      <td>...</td>\n",
       "      <td>...</td>\n",
       "      <td>...</td>\n",
       "      <td>...</td>\n",
       "      <td>...</td>\n",
       "      <td>...</td>\n",
       "      <td>...</td>\n",
       "      <td>...</td>\n",
       "      <td>...</td>\n",
       "      <td>...</td>\n",
       "      <td>...</td>\n",
       "      <td>...</td>\n",
       "      <td>...</td>\n",
       "      <td>...</td>\n",
       "      <td>...</td>\n",
       "      <td>...</td>\n",
       "      <td>...</td>\n",
       "      <td>...</td>\n",
       "      <td>...</td>\n",
       "      <td>...</td>\n",
       "      <td>...</td>\n",
       "      <td>...</td>\n",
       "      <td>...</td>\n",
       "      <td>...</td>\n",
       "      <td>...</td>\n",
       "      <td>...</td>\n",
       "      <td>...</td>\n",
       "      <td>...</td>\n",
       "    </tr>\n",
       "    <tr>\n",
       "      <th>104</th>\n",
       "      <td>NaN</td>\n",
       "      <td>False</td>\n",
       "      <td>NaN</td>\n",
       "      <td>False</td>\n",
       "      <td>True</td>\n",
       "      <td>SplitPartitionMembership.SHARED</td>\n",
       "      <td>8.319111</td>\n",
       "      <td>8.258146</td>\n",
       "      <td>-0.060964</td>\n",
       "      <td>44.095706</td>\n",
       "      <td>45.925855</td>\n",
       "      <td>1.830149</td>\n",
       "      <td>26.207408</td>\n",
       "      <td>27.092001</td>\n",
       "      <td>0.884593</td>\n",
       "      <td>102</td>\n",
       "      <td>607</td>\n",
       "      <td>342</td>\n",
       "      <td>265</td>\n",
       "      <td>NeuronType.INTERNEURONS</td>\n",
       "      <td>104</td>\n",
       "      <td>-0.032710</td>\n",
       "      <td>False</td>\n",
       "      <td>False</td>\n",
       "      <td>False</td>\n",
       "      <td>False</td>\n",
       "      <td>False</td>\n",
       "      <td>False</td>\n",
       "      <td>False</td>\n",
       "      <td>NaN</td>\n",
       "    </tr>\n",
       "    <tr>\n",
       "      <th>105</th>\n",
       "      <td>194.156504</td>\n",
       "      <td>True</td>\n",
       "      <td>NaN</td>\n",
       "      <td>False</td>\n",
       "      <td>True</td>\n",
       "      <td>SplitPartitionMembership.LEFT_ONLY</td>\n",
       "      <td>0.136261</td>\n",
       "      <td>0.230261</td>\n",
       "      <td>0.094000</td>\n",
       "      <td>7.458060</td>\n",
       "      <td>6.859425</td>\n",
       "      <td>-0.598635</td>\n",
       "      <td>3.797161</td>\n",
       "      <td>3.544843</td>\n",
       "      <td>-0.252318</td>\n",
       "      <td>103</td>\n",
       "      <td>13</td>\n",
       "      <td>7</td>\n",
       "      <td>6</td>\n",
       "      <td>NeuronType.PYRAMIDAL</td>\n",
       "      <td>105</td>\n",
       "      <td>0.067339</td>\n",
       "      <td>False</td>\n",
       "      <td>False</td>\n",
       "      <td>False</td>\n",
       "      <td>False</td>\n",
       "      <td>False</td>\n",
       "      <td>False</td>\n",
       "      <td>False</td>\n",
       "      <td>NaN</td>\n",
       "    </tr>\n",
       "    <tr>\n",
       "      <th>106</th>\n",
       "      <td>NaN</td>\n",
       "      <td>False</td>\n",
       "      <td>NaN</td>\n",
       "      <td>False</td>\n",
       "      <td>True</td>\n",
       "      <td>SplitPartitionMembership.SHARED</td>\n",
       "      <td>11.276574</td>\n",
       "      <td>11.563384</td>\n",
       "      <td>0.286810</td>\n",
       "      <td>43.624018</td>\n",
       "      <td>47.821274</td>\n",
       "      <td>4.197255</td>\n",
       "      <td>27.450296</td>\n",
       "      <td>29.692329</td>\n",
       "      <td>2.242033</td>\n",
       "      <td>104</td>\n",
       "      <td>597</td>\n",
       "      <td>336</td>\n",
       "      <td>261</td>\n",
       "      <td>NeuronType.INTERNEURONS</td>\n",
       "      <td>106</td>\n",
       "      <td>-0.026434</td>\n",
       "      <td>False</td>\n",
       "      <td>False</td>\n",
       "      <td>False</td>\n",
       "      <td>False</td>\n",
       "      <td>False</td>\n",
       "      <td>False</td>\n",
       "      <td>False</td>\n",
       "      <td>NaN</td>\n",
       "    </tr>\n",
       "    <tr>\n",
       "      <th>107</th>\n",
       "      <td>224.500689</td>\n",
       "      <td>True</td>\n",
       "      <td>190.363481</td>\n",
       "      <td>True</td>\n",
       "      <td>False</td>\n",
       "      <td>SplitPartitionMembership.SHARED</td>\n",
       "      <td>1.924502</td>\n",
       "      <td>1.317425</td>\n",
       "      <td>-0.607077</td>\n",
       "      <td>16.194792</td>\n",
       "      <td>17.026847</td>\n",
       "      <td>0.832055</td>\n",
       "      <td>9.059647</td>\n",
       "      <td>9.172136</td>\n",
       "      <td>0.112489</td>\n",
       "      <td>105</td>\n",
       "      <td>196</td>\n",
       "      <td>114</td>\n",
       "      <td>82</td>\n",
       "      <td>NeuronType.PYRAMIDAL</td>\n",
       "      <td>107</td>\n",
       "      <td>0.032538</td>\n",
       "      <td>False</td>\n",
       "      <td>False</td>\n",
       "      <td>False</td>\n",
       "      <td>False</td>\n",
       "      <td>False</td>\n",
       "      <td>True</td>\n",
       "      <td>True</td>\n",
       "      <td>34.137208</td>\n",
       "    </tr>\n",
       "    <tr>\n",
       "      <th>108</th>\n",
       "      <td>243.465804</td>\n",
       "      <td>True</td>\n",
       "      <td>209.328596</td>\n",
       "      <td>True</td>\n",
       "      <td>False</td>\n",
       "      <td>SplitPartitionMembership.SHARED</td>\n",
       "      <td>3.010788</td>\n",
       "      <td>3.946123</td>\n",
       "      <td>0.935335</td>\n",
       "      <td>19.377112</td>\n",
       "      <td>19.273611</td>\n",
       "      <td>-0.103502</td>\n",
       "      <td>11.193950</td>\n",
       "      <td>11.609867</td>\n",
       "      <td>0.415917</td>\n",
       "      <td>106</td>\n",
       "      <td>398</td>\n",
       "      <td>198</td>\n",
       "      <td>200</td>\n",
       "      <td>NeuronType.PYRAMIDAL</td>\n",
       "      <td>108</td>\n",
       "      <td>-0.118601</td>\n",
       "      <td>False</td>\n",
       "      <td>False</td>\n",
       "      <td>False</td>\n",
       "      <td>False</td>\n",
       "      <td>False</td>\n",
       "      <td>True</td>\n",
       "      <td>True</td>\n",
       "      <td>34.137208</td>\n",
       "    </tr>\n",
       "    <tr>\n",
       "      <th>109</th>\n",
       "      <td>NaN</td>\n",
       "      <td>False</td>\n",
       "      <td>NaN</td>\n",
       "      <td>False</td>\n",
       "      <td>True</td>\n",
       "      <td>SplitPartitionMembership.SHARED</td>\n",
       "      <td>0.403703</td>\n",
       "      <td>0.224922</td>\n",
       "      <td>-0.178781</td>\n",
       "      <td>7.531930</td>\n",
       "      <td>4.882151</td>\n",
       "      <td>-2.649779</td>\n",
       "      <td>3.967817</td>\n",
       "      <td>2.553537</td>\n",
       "      <td>-1.414280</td>\n",
       "      <td>107</td>\n",
       "      <td>19</td>\n",
       "      <td>13</td>\n",
       "      <td>6</td>\n",
       "      <td>NeuronType.PYRAMIDAL</td>\n",
       "      <td>109</td>\n",
       "      <td>0.110712</td>\n",
       "      <td>False</td>\n",
       "      <td>False</td>\n",
       "      <td>False</td>\n",
       "      <td>False</td>\n",
       "      <td>False</td>\n",
       "      <td>False</td>\n",
       "      <td>False</td>\n",
       "      <td>NaN</td>\n",
       "    </tr>\n",
       "  </tbody>\n",
       "</table>\n",
       "<p>108 rows × 30 columns</p>\n",
       "</div>"
      ],
      "text/plain": [
       "     long_pf_peak_x  has_long_pf  short_pf_peak_x  has_short_pf  has_na                    track_membership  long_non_replay_mean  short_non_replay_mean  non_replay_diff  long_replay_mean  short_replay_mean  replay_diff  long_mean  short_mean  mean_diff  neuron_IDX  num_replays  long_num_replays  short_num_replays              neuron_type  aclu  custom_frs_index  is_rate_extrema  is_refined_exclusive  is_refined_LxC  is_refined_SxC  is_long_peak_left_cap  is_long_peak_right_cap  is_long_peak_either_cap  LS_pf_peak_x_diff\n",
       "2        213.121619         True              NaN         False    True  SplitPartitionMembership.LEFT_ONLY              0.412424               0.115533        -0.296891          7.912740                NaN          NaN   4.162582         NaN        NaN           0           45                45                  0     NeuronType.PYRAMIDAL     2          0.233430            False                 False           False           False                  False                   False                    False                NaN\n",
       "3        141.054181         True       129.675112          True   False     SplitPartitionMembership.SHARED              0.274069               1.394595         1.120526          9.241991           8.536258    -0.705733   4.758030    4.965426   0.207397           1           91                23                 68     NeuronType.PYRAMIDAL     3         -0.692958             True                 False           False           False                  False                   False                    False          11.379069\n",
       "4        201.742550         True       182.777435          True   False     SplitPartitionMembership.SHARED              0.119382               0.924896         0.805514               NaN          12.484801          NaN        NaN    6.704848        NaN           2           87                 0                 87     NeuronType.PYRAMIDAL     4         -0.982542             True                 False           False           False                  False                   False                    False          18.965115\n",
       "5        235.879758         True       201.742550          True   False     SplitPartitionMembership.SHARED              2.326046               2.012612        -0.313434         11.994904          11.315249    -0.679655   7.160475    6.663930  -0.496545           3          229               126                103     NeuronType.PYRAMIDAL     5         -0.035629            False                 False           False           False                  False                    True                     True          34.137208\n",
       "6               NaN        False              NaN         False    True     SplitPartitionMembership.SHARED             25.389639              12.754636       -12.635004        105.811996          41.364962   -64.447034  65.600818   27.059799 -38.541019           4          602               345                257  NeuronType.INTERNEURONS     6          0.099237            False                 False           False           False                  False                   False                    False                NaN\n",
       "7         53.814650         True        91.744881          True   False     SplitPartitionMembership.SHARED              2.645898               2.329686        -0.316212         12.134340          11.446703    -0.687637   7.390119    6.888194  -0.501925           5          134                81                 53     NeuronType.PYRAMIDAL     7         -0.048261            False                 False           False           False                   True                   False                     True         -37.930231\n",
       "..              ...          ...              ...           ...     ...                                 ...                   ...                    ...              ...               ...                ...          ...        ...         ...        ...         ...          ...               ...                ...                      ...   ...               ...              ...                   ...             ...             ...                    ...                     ...                      ...                ...\n",
       "104             NaN        False              NaN         False    True     SplitPartitionMembership.SHARED              8.319111               8.258146        -0.060964         44.095706          45.925855     1.830149  26.207408   27.092001   0.884593         102          607               342                265  NeuronType.INTERNEURONS   104         -0.032710            False                 False           False           False                  False                   False                    False                NaN\n",
       "105      194.156504         True              NaN         False    True  SplitPartitionMembership.LEFT_ONLY              0.136261               0.230261         0.094000          7.458060           6.859425    -0.598635   3.797161    3.544843  -0.252318         103           13                 7                  6     NeuronType.PYRAMIDAL   105          0.067339            False                 False           False           False                  False                   False                    False                NaN\n",
       "106             NaN        False              NaN         False    True     SplitPartitionMembership.SHARED             11.276574              11.563384         0.286810         43.624018          47.821274     4.197255  27.450296   29.692329   2.242033         104          597               336                261  NeuronType.INTERNEURONS   106         -0.026434            False                 False           False           False                  False                   False                    False                NaN\n",
       "107      224.500689         True       190.363481          True   False     SplitPartitionMembership.SHARED              1.924502               1.317425        -0.607077         16.194792          17.026847     0.832055   9.059647    9.172136   0.112489         105          196               114                 82     NeuronType.PYRAMIDAL   107          0.032538            False                 False           False           False                  False                    True                     True          34.137208\n",
       "108      243.465804         True       209.328596          True   False     SplitPartitionMembership.SHARED              3.010788               3.946123         0.935335         19.377112          19.273611    -0.103502  11.193950   11.609867   0.415917         106          398               198                200     NeuronType.PYRAMIDAL   108         -0.118601            False                 False           False           False                  False                    True                     True          34.137208\n",
       "109             NaN        False              NaN         False    True     SplitPartitionMembership.SHARED              0.403703               0.224922        -0.178781          7.531930           4.882151    -2.649779   3.967817    2.553537  -1.414280         107           19                13                  6     NeuronType.PYRAMIDAL   109          0.110712            False                 False           False           False                  False                   False                    False                NaN\n",
       "\n",
       "[108 rows x 30 columns]"
      ]
     },
     "execution_count": 22,
     "metadata": {},
     "output_type": "execute_result"
    }
   ],
   "source": [
    "jonathan_firing_rate_analysis_result: JonathanFiringRateAnalysisResult = curr_active_pipeline.global_computation_results.computed_data.jonathan_firing_rate_analysis\n",
    "neuron_replay_stats_df = deepcopy(jonathan_firing_rate_analysis_result.neuron_replay_stats_df)\n",
    "neuron_replay_stats_df"
   ]
  },
  {
   "cell_type": "code",
   "execution_count": 23,
   "id": "dfd73407",
   "metadata": {},
   "outputs": [
    {
     "data": {
      "text/html": [
       "<div>\n",
       "<style scoped>\n",
       "    .dataframe tbody tr th:only-of-type {\n",
       "        vertical-align: middle;\n",
       "    }\n",
       "\n",
       "    .dataframe tbody tr th {\n",
       "        vertical-align: top;\n",
       "    }\n",
       "\n",
       "    .dataframe thead th {\n",
       "        text-align: right;\n",
       "    }\n",
       "</style>\n",
       "<table border=\"1\" class=\"dataframe\">\n",
       "  <thead>\n",
       "    <tr style=\"text-align: right;\">\n",
       "      <th></th>\n",
       "      <th>long_pf_peak_x</th>\n",
       "      <th>has_long_pf</th>\n",
       "      <th>short_pf_peak_x</th>\n",
       "      <th>has_short_pf</th>\n",
       "      <th>has_na</th>\n",
       "      <th>track_membership</th>\n",
       "      <th>long_non_replay_mean</th>\n",
       "      <th>short_non_replay_mean</th>\n",
       "      <th>non_replay_diff</th>\n",
       "      <th>long_replay_mean</th>\n",
       "      <th>short_replay_mean</th>\n",
       "      <th>replay_diff</th>\n",
       "      <th>long_mean</th>\n",
       "      <th>short_mean</th>\n",
       "      <th>mean_diff</th>\n",
       "      <th>neuron_IDX</th>\n",
       "      <th>num_replays</th>\n",
       "      <th>long_num_replays</th>\n",
       "      <th>short_num_replays</th>\n",
       "      <th>neuron_type</th>\n",
       "      <th>aclu</th>\n",
       "      <th>custom_frs_index</th>\n",
       "      <th>is_rate_extrema</th>\n",
       "      <th>is_refined_exclusive</th>\n",
       "      <th>is_refined_LxC</th>\n",
       "      <th>is_refined_SxC</th>\n",
       "      <th>is_long_peak_left_cap</th>\n",
       "      <th>is_long_peak_right_cap</th>\n",
       "      <th>is_long_peak_either_cap</th>\n",
       "      <th>LS_pf_peak_x_diff</th>\n",
       "      <th>long_pf2D_peak_x</th>\n",
       "      <th>short_pf2D_peak_x</th>\n",
       "      <th>long_pf2D_peak_y</th>\n",
       "      <th>short_pf2D_peak_y</th>\n",
       "    </tr>\n",
       "  </thead>\n",
       "  <tbody>\n",
       "    <tr>\n",
       "      <th>2</th>\n",
       "      <td>213.121619</td>\n",
       "      <td>True</td>\n",
       "      <td>NaN</td>\n",
       "      <td>False</td>\n",
       "      <td>True</td>\n",
       "      <td>SplitPartitionMembership.LEFT_ONLY</td>\n",
       "      <td>0.412424</td>\n",
       "      <td>0.115533</td>\n",
       "      <td>-0.296891</td>\n",
       "      <td>7.912740</td>\n",
       "      <td>NaN</td>\n",
       "      <td>NaN</td>\n",
       "      <td>4.162582</td>\n",
       "      <td>NaN</td>\n",
       "      <td>NaN</td>\n",
       "      <td>0</td>\n",
       "      <td>45</td>\n",
       "      <td>45</td>\n",
       "      <td>0</td>\n",
       "      <td>NeuronType.PYRAMIDAL</td>\n",
       "      <td>2</td>\n",
       "      <td>0.233430</td>\n",
       "      <td>False</td>\n",
       "      <td>False</td>\n",
       "      <td>False</td>\n",
       "      <td>False</td>\n",
       "      <td>False</td>\n",
       "      <td>False</td>\n",
       "      <td>False</td>\n",
       "      <td>NaN</td>\n",
       "      <td>81.454582</td>\n",
       "      <td>&lt;NA&gt;</td>\n",
       "      <td>145.332624</td>\n",
       "      <td>&lt;NA&gt;</td>\n",
       "    </tr>\n",
       "    <tr>\n",
       "      <th>3</th>\n",
       "      <td>141.054181</td>\n",
       "      <td>True</td>\n",
       "      <td>129.675112</td>\n",
       "      <td>True</td>\n",
       "      <td>False</td>\n",
       "      <td>SplitPartitionMembership.SHARED</td>\n",
       "      <td>0.274069</td>\n",
       "      <td>1.394595</td>\n",
       "      <td>1.120526</td>\n",
       "      <td>9.241991</td>\n",
       "      <td>8.536258</td>\n",
       "      <td>-0.705733</td>\n",
       "      <td>4.758030</td>\n",
       "      <td>4.965426</td>\n",
       "      <td>0.207397</td>\n",
       "      <td>1</td>\n",
       "      <td>91</td>\n",
       "      <td>23</td>\n",
       "      <td>68</td>\n",
       "      <td>NeuronType.PYRAMIDAL</td>\n",
       "      <td>3</td>\n",
       "      <td>-0.692958</td>\n",
       "      <td>True</td>\n",
       "      <td>False</td>\n",
       "      <td>False</td>\n",
       "      <td>False</td>\n",
       "      <td>False</td>\n",
       "      <td>False</td>\n",
       "      <td>False</td>\n",
       "      <td>11.379069</td>\n",
       "      <td>&lt;NA&gt;</td>\n",
       "      <td>197.630669</td>\n",
       "      <td>&lt;NA&gt;</td>\n",
       "      <td>141.510583</td>\n",
       "    </tr>\n",
       "    <tr>\n",
       "      <th>4</th>\n",
       "      <td>201.742550</td>\n",
       "      <td>True</td>\n",
       "      <td>182.777435</td>\n",
       "      <td>True</td>\n",
       "      <td>False</td>\n",
       "      <td>SplitPartitionMembership.SHARED</td>\n",
       "      <td>0.119382</td>\n",
       "      <td>0.924896</td>\n",
       "      <td>0.805514</td>\n",
       "      <td>NaN</td>\n",
       "      <td>12.484801</td>\n",
       "      <td>NaN</td>\n",
       "      <td>NaN</td>\n",
       "      <td>6.704848</td>\n",
       "      <td>NaN</td>\n",
       "      <td>2</td>\n",
       "      <td>87</td>\n",
       "      <td>0</td>\n",
       "      <td>87</td>\n",
       "      <td>NeuronType.PYRAMIDAL</td>\n",
       "      <td>4</td>\n",
       "      <td>-0.982542</td>\n",
       "      <td>True</td>\n",
       "      <td>False</td>\n",
       "      <td>False</td>\n",
       "      <td>False</td>\n",
       "      <td>False</td>\n",
       "      <td>False</td>\n",
       "      <td>False</td>\n",
       "      <td>18.965115</td>\n",
       "      <td>&lt;NA&gt;</td>\n",
       "      <td>183.040645</td>\n",
       "      <td>&lt;NA&gt;</td>\n",
       "      <td>142.190024</td>\n",
       "    </tr>\n",
       "    <tr>\n",
       "      <th>5</th>\n",
       "      <td>235.879758</td>\n",
       "      <td>True</td>\n",
       "      <td>201.742550</td>\n",
       "      <td>True</td>\n",
       "      <td>False</td>\n",
       "      <td>SplitPartitionMembership.SHARED</td>\n",
       "      <td>2.326046</td>\n",
       "      <td>2.012612</td>\n",
       "      <td>-0.313434</td>\n",
       "      <td>11.994904</td>\n",
       "      <td>11.315249</td>\n",
       "      <td>-0.679655</td>\n",
       "      <td>7.160475</td>\n",
       "      <td>6.663930</td>\n",
       "      <td>-0.496545</td>\n",
       "      <td>3</td>\n",
       "      <td>229</td>\n",
       "      <td>126</td>\n",
       "      <td>103</td>\n",
       "      <td>NeuronType.PYRAMIDAL</td>\n",
       "      <td>5</td>\n",
       "      <td>-0.035629</td>\n",
       "      <td>False</td>\n",
       "      <td>False</td>\n",
       "      <td>False</td>\n",
       "      <td>False</td>\n",
       "      <td>False</td>\n",
       "      <td>True</td>\n",
       "      <td>True</td>\n",
       "      <td>34.137208</td>\n",
       "      <td>98.681807</td>\n",
       "      <td>181.049062</td>\n",
       "      <td>142.371315</td>\n",
       "      <td>142.116042</td>\n",
       "    </tr>\n",
       "    <tr>\n",
       "      <th>6</th>\n",
       "      <td>NaN</td>\n",
       "      <td>False</td>\n",
       "      <td>NaN</td>\n",
       "      <td>False</td>\n",
       "      <td>True</td>\n",
       "      <td>SplitPartitionMembership.SHARED</td>\n",
       "      <td>25.389639</td>\n",
       "      <td>12.754636</td>\n",
       "      <td>-12.635004</td>\n",
       "      <td>105.811996</td>\n",
       "      <td>41.364962</td>\n",
       "      <td>-64.447034</td>\n",
       "      <td>65.600818</td>\n",
       "      <td>27.059799</td>\n",
       "      <td>-38.541019</td>\n",
       "      <td>4</td>\n",
       "      <td>602</td>\n",
       "      <td>345</td>\n",
       "      <td>257</td>\n",
       "      <td>NeuronType.INTERNEURONS</td>\n",
       "      <td>6</td>\n",
       "      <td>0.099237</td>\n",
       "      <td>False</td>\n",
       "      <td>False</td>\n",
       "      <td>False</td>\n",
       "      <td>False</td>\n",
       "      <td>False</td>\n",
       "      <td>False</td>\n",
       "      <td>False</td>\n",
       "      <td>NaN</td>\n",
       "      <td>&lt;NA&gt;</td>\n",
       "      <td>&lt;NA&gt;</td>\n",
       "      <td>&lt;NA&gt;</td>\n",
       "      <td>&lt;NA&gt;</td>\n",
       "    </tr>\n",
       "    <tr>\n",
       "      <th>7</th>\n",
       "      <td>53.814650</td>\n",
       "      <td>True</td>\n",
       "      <td>91.744881</td>\n",
       "      <td>True</td>\n",
       "      <td>False</td>\n",
       "      <td>SplitPartitionMembership.SHARED</td>\n",
       "      <td>2.645898</td>\n",
       "      <td>2.329686</td>\n",
       "      <td>-0.316212</td>\n",
       "      <td>12.134340</td>\n",
       "      <td>11.446703</td>\n",
       "      <td>-0.687637</td>\n",
       "      <td>7.390119</td>\n",
       "      <td>6.888194</td>\n",
       "      <td>-0.501925</td>\n",
       "      <td>5</td>\n",
       "      <td>134</td>\n",
       "      <td>81</td>\n",
       "      <td>53</td>\n",
       "      <td>NeuronType.PYRAMIDAL</td>\n",
       "      <td>7</td>\n",
       "      <td>-0.048261</td>\n",
       "      <td>False</td>\n",
       "      <td>False</td>\n",
       "      <td>False</td>\n",
       "      <td>False</td>\n",
       "      <td>True</td>\n",
       "      <td>False</td>\n",
       "      <td>True</td>\n",
       "      <td>-37.930231</td>\n",
       "      <td>51.291169</td>\n",
       "      <td>85.380173</td>\n",
       "      <td>142.268096</td>\n",
       "      <td>142.331922</td>\n",
       "    </tr>\n",
       "    <tr>\n",
       "      <th>...</th>\n",
       "      <td>...</td>\n",
       "      <td>...</td>\n",
       "      <td>...</td>\n",
       "      <td>...</td>\n",
       "      <td>...</td>\n",
       "      <td>...</td>\n",
       "      <td>...</td>\n",
       "      <td>...</td>\n",
       "      <td>...</td>\n",
       "      <td>...</td>\n",
       "      <td>...</td>\n",
       "      <td>...</td>\n",
       "      <td>...</td>\n",
       "      <td>...</td>\n",
       "      <td>...</td>\n",
       "      <td>...</td>\n",
       "      <td>...</td>\n",
       "      <td>...</td>\n",
       "      <td>...</td>\n",
       "      <td>...</td>\n",
       "      <td>...</td>\n",
       "      <td>...</td>\n",
       "      <td>...</td>\n",
       "      <td>...</td>\n",
       "      <td>...</td>\n",
       "      <td>...</td>\n",
       "      <td>...</td>\n",
       "      <td>...</td>\n",
       "      <td>...</td>\n",
       "      <td>...</td>\n",
       "      <td>...</td>\n",
       "      <td>...</td>\n",
       "      <td>...</td>\n",
       "      <td>...</td>\n",
       "    </tr>\n",
       "    <tr>\n",
       "      <th>104</th>\n",
       "      <td>NaN</td>\n",
       "      <td>False</td>\n",
       "      <td>NaN</td>\n",
       "      <td>False</td>\n",
       "      <td>True</td>\n",
       "      <td>SplitPartitionMembership.SHARED</td>\n",
       "      <td>8.319111</td>\n",
       "      <td>8.258146</td>\n",
       "      <td>-0.060964</td>\n",
       "      <td>44.095706</td>\n",
       "      <td>45.925855</td>\n",
       "      <td>1.830149</td>\n",
       "      <td>26.207408</td>\n",
       "      <td>27.092001</td>\n",
       "      <td>0.884593</td>\n",
       "      <td>102</td>\n",
       "      <td>607</td>\n",
       "      <td>342</td>\n",
       "      <td>265</td>\n",
       "      <td>NeuronType.INTERNEURONS</td>\n",
       "      <td>104</td>\n",
       "      <td>-0.032710</td>\n",
       "      <td>False</td>\n",
       "      <td>False</td>\n",
       "      <td>False</td>\n",
       "      <td>False</td>\n",
       "      <td>False</td>\n",
       "      <td>False</td>\n",
       "      <td>False</td>\n",
       "      <td>NaN</td>\n",
       "      <td>&lt;NA&gt;</td>\n",
       "      <td>&lt;NA&gt;</td>\n",
       "      <td>&lt;NA&gt;</td>\n",
       "      <td>&lt;NA&gt;</td>\n",
       "    </tr>\n",
       "    <tr>\n",
       "      <th>105</th>\n",
       "      <td>194.156504</td>\n",
       "      <td>True</td>\n",
       "      <td>NaN</td>\n",
       "      <td>False</td>\n",
       "      <td>True</td>\n",
       "      <td>SplitPartitionMembership.LEFT_ONLY</td>\n",
       "      <td>0.136261</td>\n",
       "      <td>0.230261</td>\n",
       "      <td>0.094000</td>\n",
       "      <td>7.458060</td>\n",
       "      <td>6.859425</td>\n",
       "      <td>-0.598635</td>\n",
       "      <td>3.797161</td>\n",
       "      <td>3.544843</td>\n",
       "      <td>-0.252318</td>\n",
       "      <td>103</td>\n",
       "      <td>13</td>\n",
       "      <td>7</td>\n",
       "      <td>6</td>\n",
       "      <td>NeuronType.PYRAMIDAL</td>\n",
       "      <td>105</td>\n",
       "      <td>0.067339</td>\n",
       "      <td>False</td>\n",
       "      <td>False</td>\n",
       "      <td>False</td>\n",
       "      <td>False</td>\n",
       "      <td>False</td>\n",
       "      <td>False</td>\n",
       "      <td>False</td>\n",
       "      <td>NaN</td>\n",
       "      <td>&lt;NA&gt;</td>\n",
       "      <td>&lt;NA&gt;</td>\n",
       "      <td>&lt;NA&gt;</td>\n",
       "      <td>&lt;NA&gt;</td>\n",
       "    </tr>\n",
       "    <tr>\n",
       "      <th>106</th>\n",
       "      <td>NaN</td>\n",
       "      <td>False</td>\n",
       "      <td>NaN</td>\n",
       "      <td>False</td>\n",
       "      <td>True</td>\n",
       "      <td>SplitPartitionMembership.SHARED</td>\n",
       "      <td>11.276574</td>\n",
       "      <td>11.563384</td>\n",
       "      <td>0.286810</td>\n",
       "      <td>43.624018</td>\n",
       "      <td>47.821274</td>\n",
       "      <td>4.197255</td>\n",
       "      <td>27.450296</td>\n",
       "      <td>29.692329</td>\n",
       "      <td>2.242033</td>\n",
       "      <td>104</td>\n",
       "      <td>597</td>\n",
       "      <td>336</td>\n",
       "      <td>261</td>\n",
       "      <td>NeuronType.INTERNEURONS</td>\n",
       "      <td>106</td>\n",
       "      <td>-0.026434</td>\n",
       "      <td>False</td>\n",
       "      <td>False</td>\n",
       "      <td>False</td>\n",
       "      <td>False</td>\n",
       "      <td>False</td>\n",
       "      <td>False</td>\n",
       "      <td>False</td>\n",
       "      <td>NaN</td>\n",
       "      <td>&lt;NA&gt;</td>\n",
       "      <td>&lt;NA&gt;</td>\n",
       "      <td>&lt;NA&gt;</td>\n",
       "      <td>&lt;NA&gt;</td>\n",
       "    </tr>\n",
       "    <tr>\n",
       "      <th>107</th>\n",
       "      <td>224.500689</td>\n",
       "      <td>True</td>\n",
       "      <td>190.363481</td>\n",
       "      <td>True</td>\n",
       "      <td>False</td>\n",
       "      <td>SplitPartitionMembership.SHARED</td>\n",
       "      <td>1.924502</td>\n",
       "      <td>1.317425</td>\n",
       "      <td>-0.607077</td>\n",
       "      <td>16.194792</td>\n",
       "      <td>17.026847</td>\n",
       "      <td>0.832055</td>\n",
       "      <td>9.059647</td>\n",
       "      <td>9.172136</td>\n",
       "      <td>0.112489</td>\n",
       "      <td>105</td>\n",
       "      <td>196</td>\n",
       "      <td>114</td>\n",
       "      <td>82</td>\n",
       "      <td>NeuronType.PYRAMIDAL</td>\n",
       "      <td>107</td>\n",
       "      <td>0.032538</td>\n",
       "      <td>False</td>\n",
       "      <td>False</td>\n",
       "      <td>False</td>\n",
       "      <td>False</td>\n",
       "      <td>False</td>\n",
       "      <td>True</td>\n",
       "      <td>True</td>\n",
       "      <td>34.137208</td>\n",
       "      <td>218.709732</td>\n",
       "      <td>194.104934</td>\n",
       "      <td>140.468257</td>\n",
       "      <td>140.689579</td>\n",
       "    </tr>\n",
       "    <tr>\n",
       "      <th>108</th>\n",
       "      <td>243.465804</td>\n",
       "      <td>True</td>\n",
       "      <td>209.328596</td>\n",
       "      <td>True</td>\n",
       "      <td>False</td>\n",
       "      <td>SplitPartitionMembership.SHARED</td>\n",
       "      <td>3.010788</td>\n",
       "      <td>3.946123</td>\n",
       "      <td>0.935335</td>\n",
       "      <td>19.377112</td>\n",
       "      <td>19.273611</td>\n",
       "      <td>-0.103502</td>\n",
       "      <td>11.193950</td>\n",
       "      <td>11.609867</td>\n",
       "      <td>0.415917</td>\n",
       "      <td>106</td>\n",
       "      <td>398</td>\n",
       "      <td>198</td>\n",
       "      <td>200</td>\n",
       "      <td>NeuronType.PYRAMIDAL</td>\n",
       "      <td>108</td>\n",
       "      <td>-0.118601</td>\n",
       "      <td>False</td>\n",
       "      <td>False</td>\n",
       "      <td>False</td>\n",
       "      <td>False</td>\n",
       "      <td>False</td>\n",
       "      <td>True</td>\n",
       "      <td>True</td>\n",
       "      <td>34.137208</td>\n",
       "      <td>238.75877</td>\n",
       "      <td>207.189748</td>\n",
       "      <td>139.094646</td>\n",
       "      <td>140.630012</td>\n",
       "    </tr>\n",
       "    <tr>\n",
       "      <th>109</th>\n",
       "      <td>NaN</td>\n",
       "      <td>False</td>\n",
       "      <td>NaN</td>\n",
       "      <td>False</td>\n",
       "      <td>True</td>\n",
       "      <td>SplitPartitionMembership.SHARED</td>\n",
       "      <td>0.403703</td>\n",
       "      <td>0.224922</td>\n",
       "      <td>-0.178781</td>\n",
       "      <td>7.531930</td>\n",
       "      <td>4.882151</td>\n",
       "      <td>-2.649779</td>\n",
       "      <td>3.967817</td>\n",
       "      <td>2.553537</td>\n",
       "      <td>-1.414280</td>\n",
       "      <td>107</td>\n",
       "      <td>19</td>\n",
       "      <td>13</td>\n",
       "      <td>6</td>\n",
       "      <td>NeuronType.PYRAMIDAL</td>\n",
       "      <td>109</td>\n",
       "      <td>0.110712</td>\n",
       "      <td>False</td>\n",
       "      <td>False</td>\n",
       "      <td>False</td>\n",
       "      <td>False</td>\n",
       "      <td>False</td>\n",
       "      <td>False</td>\n",
       "      <td>False</td>\n",
       "      <td>NaN</td>\n",
       "      <td>87.954071</td>\n",
       "      <td>&lt;NA&gt;</td>\n",
       "      <td>142.682941</td>\n",
       "      <td>&lt;NA&gt;</td>\n",
       "    </tr>\n",
       "  </tbody>\n",
       "</table>\n",
       "<p>108 rows × 34 columns</p>\n",
       "</div>"
      ],
      "text/plain": [
       "     long_pf_peak_x  has_long_pf  short_pf_peak_x  has_short_pf  has_na                    track_membership  long_non_replay_mean  short_non_replay_mean  non_replay_diff  long_replay_mean  short_replay_mean  replay_diff  long_mean  short_mean  mean_diff  neuron_IDX  num_replays  long_num_replays  short_num_replays              neuron_type  aclu  custom_frs_index  is_rate_extrema  is_refined_exclusive  is_refined_LxC  is_refined_SxC  is_long_peak_left_cap  is_long_peak_right_cap  is_long_peak_either_cap  LS_pf_peak_x_diff long_pf2D_peak_x short_pf2D_peak_x long_pf2D_peak_y short_pf2D_peak_y\n",
       "2        213.121619         True              NaN         False    True  SplitPartitionMembership.LEFT_ONLY              0.412424               0.115533        -0.296891          7.912740                NaN          NaN   4.162582         NaN        NaN           0           45                45                  0     NeuronType.PYRAMIDAL     2          0.233430            False                 False           False           False                  False                   False                    False                NaN        81.454582              <NA>       145.332624              <NA>\n",
       "3        141.054181         True       129.675112          True   False     SplitPartitionMembership.SHARED              0.274069               1.394595         1.120526          9.241991           8.536258    -0.705733   4.758030    4.965426   0.207397           1           91                23                 68     NeuronType.PYRAMIDAL     3         -0.692958             True                 False           False           False                  False                   False                    False          11.379069             <NA>        197.630669             <NA>        141.510583\n",
       "4        201.742550         True       182.777435          True   False     SplitPartitionMembership.SHARED              0.119382               0.924896         0.805514               NaN          12.484801          NaN        NaN    6.704848        NaN           2           87                 0                 87     NeuronType.PYRAMIDAL     4         -0.982542             True                 False           False           False                  False                   False                    False          18.965115             <NA>        183.040645             <NA>        142.190024\n",
       "5        235.879758         True       201.742550          True   False     SplitPartitionMembership.SHARED              2.326046               2.012612        -0.313434         11.994904          11.315249    -0.679655   7.160475    6.663930  -0.496545           3          229               126                103     NeuronType.PYRAMIDAL     5         -0.035629            False                 False           False           False                  False                    True                     True          34.137208        98.681807        181.049062       142.371315        142.116042\n",
       "6               NaN        False              NaN         False    True     SplitPartitionMembership.SHARED             25.389639              12.754636       -12.635004        105.811996          41.364962   -64.447034  65.600818   27.059799 -38.541019           4          602               345                257  NeuronType.INTERNEURONS     6          0.099237            False                 False           False           False                  False                   False                    False                NaN             <NA>              <NA>             <NA>              <NA>\n",
       "7         53.814650         True        91.744881          True   False     SplitPartitionMembership.SHARED              2.645898               2.329686        -0.316212         12.134340          11.446703    -0.687637   7.390119    6.888194  -0.501925           5          134                81                 53     NeuronType.PYRAMIDAL     7         -0.048261            False                 False           False           False                   True                   False                     True         -37.930231        51.291169         85.380173       142.268096        142.331922\n",
       "..              ...          ...              ...           ...     ...                                 ...                   ...                    ...              ...               ...                ...          ...        ...         ...        ...         ...          ...               ...                ...                      ...   ...               ...              ...                   ...             ...             ...                    ...                     ...                      ...                ...              ...               ...              ...               ...\n",
       "104             NaN        False              NaN         False    True     SplitPartitionMembership.SHARED              8.319111               8.258146        -0.060964         44.095706          45.925855     1.830149  26.207408   27.092001   0.884593         102          607               342                265  NeuronType.INTERNEURONS   104         -0.032710            False                 False           False           False                  False                   False                    False                NaN             <NA>              <NA>             <NA>              <NA>\n",
       "105      194.156504         True              NaN         False    True  SplitPartitionMembership.LEFT_ONLY              0.136261               0.230261         0.094000          7.458060           6.859425    -0.598635   3.797161    3.544843  -0.252318         103           13                 7                  6     NeuronType.PYRAMIDAL   105          0.067339            False                 False           False           False                  False                   False                    False                NaN             <NA>              <NA>             <NA>              <NA>\n",
       "106             NaN        False              NaN         False    True     SplitPartitionMembership.SHARED             11.276574              11.563384         0.286810         43.624018          47.821274     4.197255  27.450296   29.692329   2.242033         104          597               336                261  NeuronType.INTERNEURONS   106         -0.026434            False                 False           False           False                  False                   False                    False                NaN             <NA>              <NA>             <NA>              <NA>\n",
       "107      224.500689         True       190.363481          True   False     SplitPartitionMembership.SHARED              1.924502               1.317425        -0.607077         16.194792          17.026847     0.832055   9.059647    9.172136   0.112489         105          196               114                 82     NeuronType.PYRAMIDAL   107          0.032538            False                 False           False           False                  False                    True                     True          34.137208       218.709732        194.104934       140.468257        140.689579\n",
       "108      243.465804         True       209.328596          True   False     SplitPartitionMembership.SHARED              3.010788               3.946123         0.935335         19.377112          19.273611    -0.103502  11.193950   11.609867   0.415917         106          398               198                200     NeuronType.PYRAMIDAL   108         -0.118601            False                 False           False           False                  False                    True                     True          34.137208        238.75877        207.189748       139.094646        140.630012\n",
       "109             NaN        False              NaN         False    True     SplitPartitionMembership.SHARED              0.403703               0.224922        -0.178781          7.531930           4.882151    -2.649779   3.967817    2.553537  -1.414280         107           19                13                  6     NeuronType.PYRAMIDAL   109          0.110712            False                 False           False           False                  False                   False                    False                NaN        87.954071              <NA>       142.682941              <NA>\n",
       "\n",
       "[108 rows x 34 columns]"
      ]
     },
     "execution_count": 23,
     "metadata": {},
     "output_type": "execute_result"
    }
   ],
   "source": [
    "from pyphoplacecellanalysis.Pho3D.PyVista.peak_prominences import render_all_neuron_peak_prominence_2d_results_on_pyvista_plotter\n",
    "\n",
    "## try to add the 2D peak information to the cells in `neuron_replay_stats_df`:\n",
    "neuron_replay_stats_df['long_pf2D_peak_x'] = pd.NA\n",
    "neuron_replay_stats_df['short_pf2D_peak_x'] = pd.NA\n",
    "neuron_replay_stats_df['long_pf2D_peak_y'] = pd.NA\n",
    "neuron_replay_stats_df['short_pf2D_peak_y'] = pd.NA\n",
    "\n",
    "# flat_peaks_df: pd.DataFrame = deepcopy(active_peak_prominence_2d_results['flat_peaks_df']).reset_index(drop=True)\n",
    "long_filtered_flat_peaks_df: pd.DataFrame = deepcopy(curr_active_pipeline.computation_results[long_any_name].computed_data['RatemapPeaksAnalysis']['PeakProminence2D']['filtered_flat_peaks_df']).reset_index(drop=True)\n",
    "short_filtered_flat_peaks_df: pd.DataFrame = deepcopy(curr_active_pipeline.computation_results[short_any_name].computed_data['RatemapPeaksAnalysis']['PeakProminence2D']['filtered_flat_peaks_df']).reset_index(drop=True)\n",
    "\n",
    "neuron_replay_stats_df.loc[np.isin(neuron_replay_stats_df['aclu'].to_numpy(), long_filtered_flat_peaks_df.neuron_id.to_numpy()), ['long_pf2D_peak_x', 'long_pf2D_peak_y']] = long_filtered_flat_peaks_df[['peak_center_x', 'peak_center_y']].to_numpy()\n",
    "neuron_replay_stats_df.loc[np.isin(neuron_replay_stats_df['aclu'].to_numpy(), short_filtered_flat_peaks_df.neuron_id.to_numpy()), ['short_pf2D_peak_x', 'short_pf2D_peak_y']] = short_filtered_flat_peaks_df[['peak_center_x', 'peak_center_y']].to_numpy()\n",
    "\n",
    "neuron_replay_stats_df"
   ]
  },
  {
   "cell_type": "code",
   "execution_count": null,
   "metadata": {},
   "outputs": [],
   "source": [
    "['long_pf_peak_x']\n"
   ]
  },
  {
   "cell_type": "code",
   "execution_count": null,
   "id": "2b798e45",
   "metadata": {},
   "outputs": [],
   "source": [
    "truncation_checking_result.disappearing_endcap_aclus"
   ]
  },
  {
   "cell_type": "code",
   "execution_count": 30,
   "metadata": {},
   "outputs": [
    {
     "data": {
      "text/plain": [
       "'maze1_any'"
      ]
     },
     "execution_count": 30,
     "metadata": {},
     "output_type": "execute_result"
    },
    {
     "data": {
      "text/plain": [
       "          start         stop label   duration  lap_id  lap_dir\n",
       "0      5.635867    17.447765     0  11.811898       1        1\n",
       "1     31.862536    39.770308     1   7.907772       2        0\n",
       "2    135.801698   144.175555     2   8.373857       3        1\n",
       "3    161.458825   167.331790     3   5.872965       4        0\n",
       "4    234.465983   239.806649     4   5.340666       5        1\n",
       "5    255.120847   262.696165     5   7.575318       6        0\n",
       "..          ...          ...   ...        ...     ...      ...\n",
       "74  1998.978809  2002.849139    74   3.870330      75        1\n",
       "75  2002.883510  2008.287350    75   5.403840      76        0\n",
       "76  2019.131459  2024.905445    76   5.773986      77        1\n",
       "77  2026.006596  2031.378739    77   5.372143      78        0\n",
       "78  2037.617503  2042.288964    78   4.671461      79        1\n",
       "79  2057.637436  2068.848792    79  11.211356      80        0\n",
       "\n",
       "[80 rows x 6 columns]"
      ]
     },
     "execution_count": 30,
     "metadata": {},
     "output_type": "execute_result"
    }
   ],
   "source": [
    "long_epoch_name\n",
    "\n",
    "# Unpacking for `(long_LR_name, long_RL_name, short_LR_name, short_RL_name)`\n",
    "# (long_LR_context, long_RL_context, short_LR_context, short_RL_context) = [curr_active_pipeline.filtered_contexts[a_name] for a_name in (long_LR_name, long_RL_name, short_LR_name, short_RL_name)]\n",
    "# long_LR_epochs_obj, long_RL_epochs_obj, short_LR_epochs_obj, short_RL_epochs_obj, global_any_laps_epochs_obj = [curr_active_pipeline.computation_results[an_epoch_name].computation_config.pf_params.computation_epochs for an_epoch_name in (long_LR_name, long_RL_name, short_LR_name, short_RL_name, global_any_name)] # note has global also\n",
    "# (long_LR_session, long_RL_session, short_LR_session, short_RL_session) = [curr_active_pipeline.filtered_sessions[an_epoch_name] for an_epoch_name in (long_LR_name, long_RL_name, short_LR_name, short_RL_name)] # sessions are correct at least, seems like just the computation parameters are messed up\n",
    "# (long_LR_results, long_RL_results, short_LR_results, short_RL_results) = [curr_active_pipeline.computation_results[an_epoch_name].computed_data for an_epoch_name in (long_LR_name, long_RL_name, short_LR_name, short_RL_name)]\n",
    "# (long_LR_computation_config, long_RL_computation_config, short_LR_computation_config, short_RL_computation_config) = [curr_active_pipeline.computation_results[an_epoch_name].computation_config for an_epoch_name in (long_LR_name, long_RL_name, short_LR_name, short_RL_name)]\n",
    "# (long_LR_pf1D, long_RL_pf1D, short_LR_pf1D, short_RL_pf1D) = (long_LR_results.pf1D, long_RL_results.pf1D, short_LR_results.pf1D, short_RL_results.pf1D)\n",
    "# (long_LR_pf2D, long_RL_pf2D, short_LR_pf2D, short_RL_pf2D) = (long_LR_results.pf2D, long_RL_results.pf2D, short_LR_results.pf2D, short_RL_results.pf2D)\n",
    "# (long_LR_pf1D_Decoder, long_RL_pf1D_Decoder, short_LR_pf1D_Decoder, short_RL_pf1D_Decoder) = (long_LR_results.pf1D_Decoder, long_RL_results.pf1D_Decoder, short_LR_results.pf1D_Decoder, short_RL_results.pf1D_Decoder)\n",
    "\n",
    "\n",
    "global_any_laps_epochs_obj"
   ]
  },
  {
   "cell_type": "markdown",
   "id": "1353b2f7",
   "metadata": {},
   "source": [
    "## NEXT 2024-01-31 - TODO - This is the perfect use of pf1D_dt"
   ]
  },
  {
   "cell_type": "code",
   "execution_count": 19,
   "id": "504580c3",
   "metadata": {
    "notebookRunGroups": {
     "groupValue": "1"
    }
   },
   "outputs": [
    {
     "name": "stdout",
     "output_type": "stream",
     "text": [
      "Performing run_specific_computations_single_context on filtered_session with filter named \"maze1_odd\"...\n",
      "Recomputing active_epoch_time_dependent_placefields... \t done.\n",
      "Recomputing active_epoch_time_dependent_placefields2D... \t done.\n",
      "Performing run_specific_computations_single_context on filtered_session with filter named \"maze2_odd\"...\n",
      "Recomputing active_epoch_time_dependent_placefields... \t done.\n",
      "Recomputing active_epoch_time_dependent_placefields2D... \t done.\n",
      "Performing run_specific_computations_single_context on filtered_session with filter named \"maze_odd\"...\n",
      "Recomputing active_epoch_time_dependent_placefields... \t done.\n",
      "Recomputing active_epoch_time_dependent_placefields2D... \t done.\n",
      "Performing run_specific_computations_single_context on filtered_session with filter named \"maze1_even\"...\n",
      "Recomputing active_epoch_time_dependent_placefields... \t done.\n",
      "Recomputing active_epoch_time_dependent_placefields2D... \t done.\n",
      "Performing run_specific_computations_single_context on filtered_session with filter named \"maze2_even\"...\n",
      "Recomputing active_epoch_time_dependent_placefields... \t done.\n",
      "Recomputing active_epoch_time_dependent_placefields2D... \t done.\n",
      "Performing run_specific_computations_single_context on filtered_session with filter named \"maze_even\"...\n",
      "Recomputing active_epoch_time_dependent_placefields... \t done.\n",
      "Recomputing active_epoch_time_dependent_placefields2D... \t done.\n",
      "Performing run_specific_computations_single_context on filtered_session with filter named \"maze1_any\"...\n",
      "Recomputing active_epoch_time_dependent_placefields... \t done.\n",
      "Recomputing active_epoch_time_dependent_placefields2D... \t done.\n",
      "Performing run_specific_computations_single_context on filtered_session with filter named \"maze2_any\"...\n",
      "Recomputing active_epoch_time_dependent_placefields... \t done.\n",
      "Recomputing active_epoch_time_dependent_placefields2D... \t done.\n",
      "Performing run_specific_computations_single_context on filtered_session with filter named \"maze_any\"...\n",
      "Recomputing active_epoch_time_dependent_placefields... \t done.\n",
      "Recomputing active_epoch_time_dependent_placefields2D... \t done.\n"
     ]
    }
   ],
   "source": [
    "from neuropy.analyses.time_dependent_placefields import PfND_TimeDependent\n",
    "from pyphoplacecellanalysis.SpecificResults.PendingNotebookCode import compute_spatial_binned_activity_via_pfdt\n",
    "\n",
    "\n",
    "if 'pf1D_dt' not in curr_active_pipeline.computation_results[global_epoch_name].computed_data:\n",
    "\t# if `KeyError: 'pf1D_dt'` recompute\n",
    "\tcurr_active_pipeline.perform_specific_computation(computation_functions_name_includelist=['pfdt_computation'], enabled_filter_names=None, fail_on_exception=True, debug_print=False)\n",
    "\n",
    "\n",
    "active_pf_1D_dt: PfND_TimeDependent = deepcopy(curr_active_pipeline.computation_results[global_epoch_name].computed_data['pf1D_dt'])\n",
    "active_pf_2D_dt: PfND_TimeDependent = deepcopy(curr_active_pipeline.computation_results[global_epoch_name].computed_data['pf2D_dt'])\n",
    "\n",
    "\n",
    "laps_df = deepcopy(global_any_laps_epochs_obj.to_dataframe())\n",
    "n_laps = len(laps_df)\n",
    "\n",
    "active_pf_dt: PfND_TimeDependent = deepcopy(active_pf_1D_dt)\n",
    "# active_pf_dt: PfND_TimeDependent = deepcopy(active_pf_2D_dt) # 2D\n",
    "active_lap_pf_results_dict = compute_spatial_binned_activity_via_pfdt(active_pf_dt=active_pf_dt, epochs_df=laps_df)\n",
    "# Unpack the variables:\n",
    "historical_snapshots = active_lap_pf_results_dict['historical_snapshots']\n",
    "occupancy_weighted_tuning_maps_matrix = active_lap_pf_results_dict['occupancy_weighted_tuning_maps'] # .shape: (n_epochs, n_aclus, n_xbins) - (84, 80, 56)"
   ]
  },
  {
   "cell_type": "markdown",
   "id": "0ef13541",
   "metadata": {},
   "source": [
    "# 2024-02-02 - Trial-by-trial Correlation Matrix C"
   ]
  },
  {
   "cell_type": "code",
   "execution_count": 20,
   "id": "ad72df59",
   "metadata": {
    "notebookRunGroups": {
     "groupValue": "1"
    }
   },
   "outputs": [
    {
     "name": "stderr",
     "output_type": "stream",
     "text": [
      "/home/halechr/repos/pyPhoPlaceCellAnalysis/src/pyphoplacecellanalysis/SpecificResults/PendingNotebookCode.py:158: RuntimeWarning: invalid value encountered in divide\n",
      "  z_scored_tuning_map_matrix: NDArray = (occupancy_weighted_tuning_maps_matrix - np.nanmean(occupancy_weighted_tuning_maps_matrix, axis=position_axis_idx, keepdims=True)) / np.nanstd(occupancy_weighted_tuning_maps_matrix, axis=position_axis_idx, keepdims=True)\n"
     ]
    }
   ],
   "source": [
    "from pyphoplacecellanalysis.SpecificResults.PendingNotebookCode import compute_trial_by_trial_correlation_matrix\n",
    "\n",
    "C_trial_by_trial_correlation_matrix, z_scored_tuning_map_matrix, aclu_to_matrix_IDX_map = compute_trial_by_trial_correlation_matrix(active_pf_dt, occupancy_weighted_tuning_maps_matrix=occupancy_weighted_tuning_maps_matrix)\n",
    "neuron_ids = np.array(list(aclu_to_matrix_IDX_map.keys()))"
   ]
  },
  {
   "cell_type": "markdown",
   "id": "1ddd735e",
   "metadata": {},
   "source": [
    "### 🎨 Show Trial-by-trial Correlation Matrix C in `napari`"
   ]
  },
  {
   "cell_type": "code",
   "execution_count": null,
   "metadata": {},
   "outputs": [],
   "source": [
    "import napari\n",
    "from pyphoplacecellanalysis.SpecificResults.PendingNotebookCode import napari_trial_by_trial_activity_viz\n",
    "from pyphoplacecellanalysis.SpecificResults.PendingNotebookCode import napari_export_image_sequence\n",
    "\n",
    "viewer, image_layer_dict = napari_trial_by_trial_activity_viz(z_scored_tuning_map_matrix, C_trial_by_trial_correlation_matrix)\n"
   ]
  },
  {
   "cell_type": "code",
   "execution_count": null,
   "metadata": {},
   "outputs": [],
   "source": []
  },
  {
   "cell_type": "code",
   "execution_count": null,
   "metadata": {},
   "outputs": [],
   "source": [
    "def on_update_slider(event):\n",
    "    \"\"\" captures: neuron_ids\n",
    "    \n",
    "    Adds a little text label to the bottom right corner\n",
    "    \n",
    "    \"\"\"\n",
    "    # only trigger if update comes from first axis (optional)\n",
    "    # print('inside')\n",
    "    #ind_lambda = viewer.dims.indices[0]\n",
    "\n",
    "    time = viewer.dims.current_step[0]\n",
    "    matrix_aclu_IDX = int(time)\n",
    "    # find the aclu value for this index:\n",
    "    aclu: int = neuron_ids[matrix_aclu_IDX]\n",
    "    viewer.text_overlay.text = f\"aclu: {aclu}, IDX: {matrix_aclu_IDX}\"\n",
    "    \n",
    "    # viewer.text_overlay.text = f\"{time:1.1f} time\"\n",
    "\n",
    "\n",
    "# viewer = napari.Viewer()\n",
    "# viewer.add_image(np.random.random((5, 5, 5)), colormap='red', opacity=0.8)\n",
    "viewer.text_overlay.visible = True\n",
    "viewer.dims.events.current_step.connect(on_update_slider)\n",
    "# viewer.dims.events.current_step.disconnect(on_update_slider)\n",
    "\n",
    "\n",
    "def build_filename_from_viewer(viewer, desired_save_parent_path: Path, slider_axis_IDX: int = 0) -> Path:\n",
    "    \"\"\"\n",
    "    Captures: curr_active_pipeline, neuron_ids, global_any_name\n",
    "    \n",
    "     Usage:\n",
    "        file_out_path = build_filename_from_viewer(viewer)\n",
    "        viewer.screenshot(path=file_out_path, canvas_only=True, flash=False)\n",
    "\n",
    "    \"\"\"\n",
    "    # desired_save_parent_path = Path('/home/halechr/Desktop/test_napari_out').resolve()\n",
    "\n",
    "    matrix_aclu_IDX: int = int(viewer.dims.current_step[slider_axis_IDX])\n",
    "    # find the aclu value for this index:\n",
    "    aclu: int = int(neuron_ids[matrix_aclu_IDX])\n",
    "    curr_context = curr_active_pipeline.build_display_context_for_filtered_session(global_any_name, 'napari_trial_by_trial_activity_viz', aclu=str(aclu))\n",
    "    curr_context_string: str = curr_context.get_description() #.get_description(suffix_items=[f'aclu-{aclu}'])\n",
    "    filename_string: str = f\"{curr_context_string}.png\"\n",
    "\n",
    "    file_out_path = desired_save_parent_path.joinpath(filename_string).resolve()\n",
    "    return file_out_path\n",
    "\n",
    "\n",
    "desired_save_parent_path = Path('/home/halechr/Desktop/test_napari_out').resolve()\n",
    "imageseries_output_directory = napari_export_image_sequence(viewer=viewer, imageseries_output_directory=desired_save_parent_path, slider_axis_IDX=0, build_filename_from_viewer_callback_fn=build_filename_from_viewer)\n"
   ]
  },
  {
   "cell_type": "markdown",
   "metadata": {},
   "source": [
    "### 2024-02-02 - Changepoint detection via `ruptures`"
   ]
  },
  {
   "cell_type": "code",
   "execution_count": null,
   "metadata": {},
   "outputs": [],
   "source": [
    "import ruptures as rpt  # our package\n",
    "\n",
    "## Gotta do something, so just focus on the 1D pf peak locations for now:\n",
    "\n",
    "\n",
    "# detection\n",
    "algo = rpt.Dynp(model=\"l2\").fit(signal)\n",
    "result = algo.predict(n_bkps=4)\n",
    "\n",
    "print(result)\n"
   ]
  },
  {
   "cell_type": "markdown",
   "id": "adbefbbb",
   "metadata": {},
   "source": [
    "### 2024-02-02 - Determining PDF transformation function -- not particularlly useful"
   ]
  },
  {
   "cell_type": "code",
   "execution_count": null,
   "id": "7b20dba5",
   "metadata": {},
   "outputs": [],
   "source": [
    "# viewer.reset_view()"
   ]
  },
  {
   "cell_type": "code",
   "execution_count": null,
   "id": "a17cb50d",
   "metadata": {},
   "outputs": [],
   "source": [
    "\n",
    "global_pf1D_ratemap = global_pf1D.ratemap\n",
    "global_pf1D_ratemap.tuning_curve_unsmoothed_peak_firing_rates"
   ]
  },
  {
   "cell_type": "code",
   "execution_count": null,
   "id": "098ed0d4",
   "metadata": {},
   "outputs": [],
   "source": [
    "# global_pf1D_ratemap\n",
    "from neuropy.core.flattened_spiketrains import SpikesAccessor\n",
    "from neuropy.utils.mixins.binning_helpers import build_df_discretized_binned_position_columns\n",
    "from pyphoplacecellanalysis.SpecificResults.PendingNotebookCode import compute_spatial_information\n",
    "\n",
    "an_active_pf = deepcopy(global_pf1D)\n",
    "SI, global_spikes_df, epoch_averaged_activity_per_pos_bin, global_all_spikes_counts = compute_spatial_information(global_spikes_df=global_spikes_df, an_active_pf=an_active_pf, global_session_duration=global_session.duration)\n",
    "SI"
   ]
  },
  {
   "cell_type": "code",
   "execution_count": null,
   "id": "9a6ab361",
   "metadata": {},
   "outputs": [],
   "source": [
    "\n",
    "\n",
    "import napari\n",
    "\n",
    "viewer = napari.view_image(occupancy_weighted_tuning_maps_matrix)\n",
    "\n",
    "# viewer.add_image(p_i, name='p_i')"
   ]
  },
  {
   "cell_type": "code",
   "execution_count": null,
   "id": "400177a6",
   "metadata": {},
   "outputs": [],
   "source": [
    "# active_laps_epochs = deepcopy(global_any_laps_epochs_obj.to_dataframe())\n",
    "\n",
    "# _out_snapshots = active_pf_2D_dt.batch_snapshotting(combined_records_list=laps_df, reset_at_start=True)\n",
    "_out_snapshots = historical_snapshots\n",
    "\n",
    "active_lap_pf_results_dict = {'historical_snapshots': _out_snapshots}\n",
    "\n",
    "# active_pf_2D_dt\n",
    "# active_pf1D_dt, active_pf2D_dt = perform_compute_time_dependent_placefields(all_spikes_df, position_df.position., deepcopy(global_pf1D), deepcopy(global_pf2D), deepcopy(an_active_pf.config), # active_config.computation_config\n",
    "# \t\t\t\t\t\t\t\t\t\t\t\t\t\t\t\t\t\t\t\t\t\t\t\t\tshould_force_recompute_placefields=True)\n",
    "\n",
    "# long_pf1D_dt\n",
    "\n",
    "# global_any_laps_epochs_obj\n",
    "# global_an\n"
   ]
  },
  {
   "cell_type": "code",
   "execution_count": null,
   "id": "54cd53e2",
   "metadata": {},
   "outputs": [],
   "source": [
    "# a_snapshot.smoothed_spikes_maps_matrix\n",
    "# a_snapshot.seconds_occupancy\n",
    "# a_snapshot.occupancy_weighted_tuning_maps_matrix\n",
    "# a_snapshot.normalized_occupancy\n",
    "# a_snapshot.num_position_samples_occupancy\n",
    "# a_snapshot.__doc__\n",
    "# a_snapshot.__annotations__ ## Very good\n",
    "# a_snapshot.__class__\n",
    "# a_snapshot.__dir__()\n",
    "# a_snapshot."
   ]
  },
  {
   "cell_type": "code",
   "execution_count": null,
   "id": "5534a3dc",
   "metadata": {},
   "outputs": [],
   "source": [
    "import napari\n",
    "\n",
    "# if 'snapshot_occupancy_weighted_tuning_maps' not in active_lap_pf_results_dict:\n",
    "active_lap_pf_results_dict['snapshot_occupancy_weighted_tuning_maps'] = np.stack([placefield_snapshot.occupancy_weighted_tuning_maps_matrix for placefield_snapshot in active_lap_pf_results_dict['historical_snapshots'].values()])\n",
    "active_lap_pf_results_dict['num_position_samples_occupancy'] = np.stack([placefield_snapshot.num_position_samples_occupancy for placefield_snapshot in active_lap_pf_results_dict['historical_snapshots'].values()])\n",
    "active_lap_pf_results_dict['normalized_occupancy'] = np.stack([placefield_snapshot.normalized_occupancy for placefield_snapshot in active_lap_pf_results_dict['historical_snapshots'].values()])\n",
    "active_lap_pf_results_dict['spikes_maps_matrix'] = np.stack([placefield_snapshot.spikes_maps_matrix for placefield_snapshot in active_lap_pf_results_dict['historical_snapshots'].values()])\n",
    "# active_lap_pf_results_dict['snapshot_occupancy_weighted_tuning_maps'] = np.stack([placefield_snapshot.occupancy_weighted_tuning_maps_matrix for placefield_snapshot in active_lap_pf_results_dict['historical_snapshots'].values()])\n",
    "\n",
    "\n",
    "image_layer_dict = {}\n",
    "layer_properties_dict = {\n",
    "\t'snapshot_occupancy_weighted_tuning_maps': dict(blending='translucent', colormap='viridis', name='pf1D_dt'),\n",
    "\t'num_position_samples_occupancy': dict(blending='translucent', colormap='viridis', name='num_position_samples_occupancy'),\n",
    "\t'normalized_occupancy': dict(blending='translucent', colormap='viridis', name='normalized_occupancy'),\n",
    "\t'spikes_maps_matrix': dict(blending='translucent', colormap='viridis', name='spikes_maps'),\n",
    "#  'flat_jensen_shannon_distance_results': dict(blending='additive', colormap='gray'),\n",
    "\t# 'long_short_rel_entr_curves_frames': dict(blending='additive', colormap='bop blue'),\n",
    "\t# 'short_long_rel_entr_curves_frames': dict(blending='additive', colormap='red'),\n",
    "}\n",
    "\n",
    "viewer = None\n",
    "for i, (a_name, layer_properties) in enumerate(layer_properties_dict.items()):\n",
    "\timg_data = active_lap_pf_results_dict[a_name].astype(float)\n",
    "\tif viewer is None: #i == 0:\n",
    "\t\t# viewer = napari.view_image(img_data) # rgb=True\n",
    "\t\tviewer = napari.Viewer(title='Laps Viewer')\n",
    "\t\t# image_layer_dict[a_name] = viewer.add_image(active_lap_pf_results_dict[a_name].astype(float), **(dict(name=a_name)|layer_properties))\n",
    "\t# else:\n",
    "\t\t# image_layer_dict[a_name] = viewer.add_image(active_relative_entropy_results_xr_dict[a_name].to_numpy().astype(float), name=a_name)\n",
    "\timage_layer_dict[a_name] = viewer.add_image(img_data, **(dict(name=a_name)|layer_properties))\n",
    "\n",
    "\n",
    "if viewer.dims.ndim == 3:\n",
    "\t## Set the dimensions appropriately\n",
    "\tviewer.dims.axis_labels = ('lap_id', 'aclu', 'xbin')\n",
    "elif viewer.dims.ndim == 4:\n",
    "\t## Set the dimensions appropriately\n",
    "\tviewer.dims.axis_labels = ('lap_id', 'aclu', 'xbin', 'ybin')\n",
    "else:\n",
    "\traise ValueError(f\"viewer.dims.ndim is not known: {viewer.dims.ndim}, viewer.dims: {viewer.dims}\")\n"
   ]
  },
  {
   "cell_type": "code",
   "execution_count": null,
   "id": "6c517ca7",
   "metadata": {},
   "outputs": [],
   "source": [
    "viewer.dims"
   ]
  },
  {
   "cell_type": "code",
   "execution_count": null,
   "id": "78b57ec1",
   "metadata": {},
   "outputs": [],
   "source": [
    "# list(_out_snapshots)"
   ]
  },
  {
   "cell_type": "code",
   "execution_count": null,
   "id": "e5bc8526",
   "metadata": {},
   "outputs": [],
   "source": [
    "## Find which position bin each peak falls in and add it to the flat_peaks_df:\n",
    "from neuropy.utils.mixins.binning_helpers import build_df_discretized_binned_position_columns\n",
    "from neuropy.utils.mixins.time_slicing import add_epochs_id_identity # needed to add laps column\n",
    "from pyphoplacecellanalysis.SpecificResults.PendingNotebookCode import compute_spatially_binned_activity\n",
    "\n",
    "\n",
    "# a_spikes_df = None\n",
    "# a_spikes_df: pd.DataFrame = deepcopy(long_one_step_decoder_1D.spikes_df) #.drop(columns=['neuron_type'], inplace=False)\n",
    "\n",
    "# an_active_pf = deepcopy(global_pf2D)\n",
    "# an_active_pf = deepcopy(global_pf1D)\n",
    "# an_active_pf.linear_pos_obj\n",
    "\n",
    "\n",
    "# an_active_pf = active_pf_2D_dt\n",
    "an_active_pf = active_pf_1D_dt\n",
    "position_binned_activity_matr_dict, split_spikes_df_dict, (neuron_id_to_new_IDX_map, lap_id_to_matrix_IDX_map) = compute_spatially_binned_activity(an_active_pf)\n",
    "# 14.8s"
   ]
  },
  {
   "cell_type": "code",
   "execution_count": null,
   "id": "50ffce8d",
   "metadata": {},
   "outputs": [],
   "source": [
    "position_binned_activity_matr_dict = active_out_matr_dict\n"
   ]
  },
  {
   "cell_type": "code",
   "execution_count": null,
   "id": "9ee29212",
   "metadata": {},
   "outputs": [],
   "source": [
    "position_binned_activity_matr_dict"
   ]
  },
  {
   "cell_type": "code",
   "execution_count": null,
   "id": "a239b0d5",
   "metadata": {},
   "outputs": [],
   "source": [
    "an_active_pf.get_by_id([aclu]) # get for a single plot\n",
    "a_ratemap = an_active_pf.ratemap\n",
    "a_ratemap.ge"
   ]
  },
  {
   "cell_type": "code",
   "execution_count": null,
   "id": "9e643f48",
   "metadata": {},
   "outputs": [],
   "source": [
    "position_df.lap.nunique()"
   ]
  },
  {
   "cell_type": "markdown",
   "id": "55226f6a",
   "metadata": {},
   "source": [
    "### For a single neuron:"
   ]
  },
  {
   "cell_type": "code",
   "execution_count": null,
   "id": "c3166ffe",
   "metadata": {},
   "outputs": [],
   "source": [
    "\n",
    "\n",
    "\n",
    "import seaborn as sns\n",
    "import matplotlib.pyplot as plt\n",
    "\n",
    "plt.figure(figsize=(10,7))\n",
    "sns.heatmap(active_out_matr, cmap='viridis')\n",
    "plt.show()"
   ]
  },
  {
   "cell_type": "code",
   "execution_count": null,
   "id": "77f08c22",
   "metadata": {},
   "outputs": [],
   "source": [
    "# list(a_spikes_df_bin_grouped.itertuples(index=False))\n"
   ]
  },
  {
   "cell_type": "code",
   "execution_count": null,
   "id": "6abad004",
   "metadata": {},
   "outputs": [],
   "source": [
    "bin_infos\n",
    "\n",
    "# long_pf2D.ratemap\n",
    "\n",
    "# facet_col='aclu'\n",
    "\n",
    "# long_LR_pf1D_Decoder.\n",
    "# long_pf1D\n",
    "# long_pf2D.filtered_spikes_df\n",
    "# long_pf2D.ratemap.occupancy\n",
    "\n",
    "# row=['maze_id','maze_relative_lap']\n",
    "# row='lap'\n",
    "\n",
    "# 'binned_x'\n"
   ]
  },
  {
   "cell_type": "code",
   "execution_count": null,
   "id": "950cbad6",
   "metadata": {},
   "outputs": [],
   "source": [
    "fig = plt.figure(clear=True)\n",
    "ax = long_filtered_flat_peaks_df[['peak_center_x', 'peak_center_y']].plot.scatter(x='peak_center_x', y='peak_center_y')\n",
    "# plt.show()\n",
    "fig"
   ]
  },
  {
   "cell_type": "code",
   "execution_count": null,
   "id": "9c2c035d",
   "metadata": {},
   "outputs": [],
   "source": [
    "active_neuron_replay_stats_df = SplitPartitionMembership.convert_dataframe_columns_for_hdf(neuron_replay_stats_df.copy())\n",
    "active_neuron_replay_stats_df['aclu'] = active_neuron_replay_stats_df['aclu'].astype('str')\n",
    "\n",
    "\n",
    "_temp_long_peak2D_center_label_xy = active_neuron_replay_stats_df[['long_pf2D_peak_x', 'long_pf2D_peak_y']].dropna().to_numpy() # (26, 2) # Continuous\n",
    "_temp_short_peak2D_center_label_xy = active_neuron_replay_stats_df[['short_pf2D_peak_x', 'short_pf2D_peak_y']].dropna().to_numpy() # (26, 2) # Continuous\n",
    "\n",
    "\n",
    "# _temp_peak_center_bin_label_xy = neuron_replay_stats_df[['peak_center_binned_x', 'peak_center_binned_y']].dropna().to_numpy()-1 # (26, 2) # Indicies\n",
    "# _temp_long_peak2D_center_label_xy\n",
    "\n",
    "import plotly.express as px\n",
    "\n",
    "long_fig = px.scatter(active_neuron_replay_stats_df, x='long_pf2D_peak_x', y='long_pf2D_peak_y', color='aclu', title='long peak2Ds') # , marker='aclu'\n",
    "short_fig = px.scatter(active_neuron_replay_stats_df, x='short_pf2D_peak_x', y='short_pf2D_peak_y', color='aclu', title='short peak2Ds') # , marker='aclu'\n",
    "\n",
    "# ax = px.scatter(neuron_replay_stats_df, x=['long_pf2D_peak_x', 'short_pf2D_peak_x'], y=['long_pf2D_peak_y', 'short_pf2D_peak_y'], color='aclu') # , marker='aclu'\n",
    "# ax = active_neuron_replay_stats_df.plot.scatter(x='long_pf_peak_x', y='track_membership', c='aclu')\n",
    "long_fig\n",
    "short_fig\n"
   ]
  },
  {
   "cell_type": "code",
   "execution_count": null,
   "id": "9f86899b",
   "metadata": {},
   "outputs": [],
   "source": [
    "import plotly.graph_objects as go\n",
    "import matplotlib.cm as cm\n",
    "import numpy as np\n",
    "\n",
    "# Normalize your 'aclu' values to [0, 1] for color mapping\n",
    "normalize = lambda x: (x - np.min(x)) / (np.max(x) - np.min(x))\n",
    "aclu_norm = normalize(active_neuron_replay_stats_df['aclu'].astype(float))\n",
    "\n",
    "# Convert these normalized values to a list of RGB strings using a colormap\n",
    "color_mapping = cm.get_cmap('viridis')  # You can use any colormap here\n",
    "aclu_colors = [cm.colors.rgb2hex(color_mapping(val)) for val in aclu_norm]\n",
    "\n",
    "fig = go.Figure()\n",
    "\n",
    "_ = fig.add_trace(\n",
    "    go.Scatter(\n",
    "        x=active_neuron_replay_stats_df['long_pf2D_peak_x'], \n",
    "        y=active_neuron_replay_stats_df['long_pf2D_peak_y'],\n",
    "        mode='markers',\n",
    "        marker_color=aclu_colors,  # Use the mapped colors\n",
    "        name='long peak2Ds', opacity=0.75, marker_size=10, \n",
    "    )\n",
    ")\n",
    "\n",
    "_ = fig.add_trace(\n",
    "    go.Scatter(\n",
    "        x=active_neuron_replay_stats_df['short_pf2D_peak_x'], \n",
    "        y=active_neuron_replay_stats_df['short_pf2D_peak_y'],\n",
    "        mode='markers',\n",
    "        marker_color=aclu_colors,  # Use the mapped colors\n",
    "        name='short peak2Ds', opacity=0.45, marker_size=14, marker_symbol='square',\n",
    "    )\n",
    ")\n",
    "\n",
    "# Arrows trace\n",
    "for i in range(len(aclu_colors)):\n",
    "    _ = fig.add_trace(\n",
    "        go.Scatter(\n",
    "            x=[active_neuron_replay_stats_df['long_pf2D_peak_x'].iloc[i], active_neuron_replay_stats_df['short_pf2D_peak_x'].iloc[i]], \n",
    "            y=[active_neuron_replay_stats_df['long_pf2D_peak_y'].iloc[i], active_neuron_replay_stats_df['short_pf2D_peak_y'].iloc[i]],\n",
    "            mode='lines',\n",
    "            line=dict(\n",
    "                color=aclu_colors[i],\n",
    "            ),\n",
    "            showlegend=False\n",
    "        )\n",
    "    )\n",
    "\n",
    "_ = fig.update_layout(title='Long and Short peak2Ds')\n",
    "fig.show()\n",
    "\n"
   ]
  },
  {
   "cell_type": "code",
   "execution_count": null,
   "id": "74f912d7",
   "metadata": {},
   "outputs": [],
   "source": [
    "long_plot_df = deepcopy(active_neuron_replay_stats_df[['aclu', 'long_pf2D_peak_x', 'long_pf2D_peak_y']]).set_index('aclu')\n",
    "long_plot_df['z'] = 5.6\n",
    "long_plot_df = long_plot_df.dropna()\n",
    "long_plot_df.index.name = 'aclu'\n",
    "# long_plot_df.to_records(index='aclu')\n",
    "long_plot_df\n",
    "# pActiveTuningCurvesPlotter.add_nearest_decoded_position_indicator_circle\n",
    "# _out = pActiveTuningCurvesPlotter.add_points(long_plot_df.to_records(index='aclu'))\n",
    "\n",
    "points_data = list(long_plot_df.itertuples(index='aclu'))\n",
    "points_data\n",
    "# curr_debug_point"
   ]
  },
  {
   "cell_type": "code",
   "execution_count": null,
   "id": "0f559096",
   "metadata": {},
   "outputs": [],
   "source": [
    "# perform_plot_location_point\n",
    "# pActiveSpikesBehaviorPlotter\n",
    "# a_point_tuple = list(points_data[0][1:])\n",
    "\n",
    "a_point_tuple_list = [list(a_point_tuple[1:]) for a_point_tuple in points_data]\n",
    "a_point_tuple_list"
   ]
  },
  {
   "cell_type": "code",
   "execution_count": null,
   "id": "94a92e6a",
   "metadata": {},
   "outputs": [],
   "source": [
    "# ipcDataExplorer.z_fixed\n",
    "ipcDataExplorer.update()"
   ]
  },
  {
   "cell_type": "code",
   "execution_count": null,
   "id": "60c11acc",
   "metadata": {},
   "outputs": [],
   "source": [
    "_out = ipcDataExplorer.perform_plot_location_point('long_remapping_peaks', a_point_tuple_list, color='orange', render=True)"
   ]
  },
  {
   "cell_type": "code",
   "execution_count": null,
   "id": "16d46829",
   "metadata": {},
   "outputs": [],
   "source": [
    "\n",
    "## Add tot he 3D plotter:\n",
    "curr_debug_point = [curr_x, curr_y, self.z_fixed[-1]]\n",
    "if debug_print:\n",
    "    print(f'tcurr_debug_point: {curr_debug_point}') # \\n\\tlast_window_time: {last_window_time}\\n\\tdisplayed_time_offset: {displayed_time_offset}\n",
    "self.perform_plot_location_point('decoded_position_point_plot', curr_debug_point, color='r', render=True)\n"
   ]
  },
  {
   "cell_type": "code",
   "execution_count": null,
   "id": "3768fc2e",
   "metadata": {},
   "outputs": [],
   "source": []
  },
  {
   "cell_type": "code",
   "execution_count": null,
   "id": "3c30b322",
   "metadata": {},
   "outputs": [],
   "source": [
    "_restore_previous_matplotlib_settings_callback = matplotlib_configuration_update(is_interactive=True, backend='Qt5Agg')\n",
    "from pyphoplacecellanalysis.Pho2D.track_shape_drawing import test_LinearTrackDimensions_2D_Matplotlib\n",
    "fig, ax1, ax2 = test_LinearTrackDimensions_2D_Matplotlib()\n",
    "fig"
   ]
  },
  {
   "cell_type": "code",
   "execution_count": null,
   "id": "1945b6de",
   "metadata": {},
   "outputs": [],
   "source": [
    "from pyphoplacecellanalysis.General.Mixins.CrossComputationComparisonHelpers import SplitPartitionMembership\n",
    "\n",
    "active_neuron_replay_stats_df = SplitPartitionMembership.convert_dataframe_columns_for_hdf(neuron_replay_stats_df.copy())\n",
    "active_neuron_replay_stats_df['aclu'] = active_neuron_replay_stats_df['aclu'].astype('str')\n",
    "['long_pf_peak_x']\n",
    "# ['short_pf_peak_x']\n",
    "\n",
    "active_neuron_replay_stats_df['track_membership']"
   ]
  },
  {
   "cell_type": "code",
   "execution_count": null,
   "id": "11985646",
   "metadata": {},
   "outputs": [],
   "source": [
    "import plotly.express as px\n",
    "\n",
    "# error_x\n",
    "ax = px.scatter(active_neuron_replay_stats_df, x=['long_pf_peak_x', 'short_pf_peak_x'], y='track_membership', marker='aclu', color='aclu')\n",
    "# ax = active_neuron_replay_stats_df.plot.scatter(x='long_pf_peak_x', y='track_membership', c='aclu')\n",
    "ax"
   ]
  },
  {
   "cell_type": "code",
   "execution_count": null,
   "id": "91d7f8cc",
   "metadata": {},
   "outputs": [],
   "source": [
    "active_neuron_replay_stats_df.plot.scatter(x='short_pf_peak_x', y='track_membership', ax=ax)"
   ]
  },
  {
   "cell_type": "code",
   "execution_count": null,
   "id": "99cbbb2b",
   "metadata": {},
   "outputs": [],
   "source": [
    "figure, ax = curr_active_pipeline.display('_display_pf_peak_prominence2d_plots', long_any_name, neuron_id=5) "
   ]
  },
  {
   "cell_type": "code",
   "execution_count": null,
   "id": "c960ba8d",
   "metadata": {},
   "outputs": [],
   "source": [
    "out_figs, out_axes, out_idxs = curr_active_pipeline.display('_display_pf_peak_prominence2d_default_quadrant_plots', long_any_name) "
   ]
  },
  {
   "cell_type": "code",
   "execution_count": null,
   "id": "2252a427",
   "metadata": {},
   "outputs": [],
   "source": [
    "_out_display_3d_interactive_tuning_curves_plotter = curr_active_pipeline.display('_display_3d_interactive_tuning_curves_plotter', long_any_name) \n"
   ]
  },
  {
   "cell_type": "code",
   "execution_count": null,
   "id": "bba23f9d",
   "metadata": {},
   "outputs": [],
   "source": [
    "_out_display_3d_interactive_custom_data_explorer = curr_active_pipeline.display('_display_3d_interactive_custom_data_explorer', long_any_name) "
   ]
  },
  {
   "cell_type": "code",
   "execution_count": null,
   "id": "e447c7ac",
   "metadata": {},
   "outputs": [],
   "source": [
    "from pyphoplacecellanalysis.Pho3D.PyVista.peak_prominences import render_all_neuron_peak_prominence_2d_results_on_pyvista_plotter\n",
    "\n",
    "active_config_name = global_any_name\n",
    "display_output = {}\n",
    "active_peak_prominence_2d_results = curr_active_pipeline.computation_results[active_config_name].computed_data.get('RatemapPeaksAnalysis', {}).get('PeakProminence2D', None)\n",
    "pActiveTuningCurvesPlotter = None\n",
    "display_output = display_output | curr_active_pipeline.display('_display_3d_interactive_tuning_curves_plotter', active_config_name, extant_plotter=display_output.get('pActiveTuningCurvesPlotter', None), panel_controls_mode='Qt', should_nan_non_visited_elements=False, zScalingFactor=2000.0) # Works now!\n",
    "ipcDataExplorer = display_output['ipcDataExplorer']\n",
    "display_output['pActiveTuningCurvesPlotter'] = display_output.pop('plotter') # rename the key from the generic \"plotter\" to \"pActiveSpikesBehaviorPlotter\" to avoid collisions with others\n",
    "pActiveTuningCurvesPlotter = display_output['pActiveTuningCurvesPlotter']\n",
    "root_dockAreaWindow, placefieldControlsContainerWidget, pf_widgets = display_output['pane'] # for Qt mode\n"
   ]
  },
  {
   "cell_type": "code",
   "execution_count": null,
   "id": "accf5493",
   "metadata": {},
   "outputs": [],
   "source": [
    "active_peak_prominence_2d_results = curr_active_pipeline.computation_results[active_config_name].computed_data.get('RatemapPeaksAnalysis', {}).get('PeakProminence2D', None)\n",
    "render_all_neuron_peak_prominence_2d_results_on_pyvista_plotter(ipcDataExplorer, active_peak_prominence_2d_results)"
   ]
  },
  {
   "cell_type": "code",
   "execution_count": null,
   "id": "82a768d7",
   "metadata": {},
   "outputs": [],
   "source": [
    "from PendingNotebookCode import display_all_eloy_pf_density_measures_results\n",
    "\n",
    "\n",
    "out_all_eloy_pf_density_fig = display_all_eloy_pf_density_measures_results(active_pf_2D, active_eloy_analysis, active_simpler_pf_densities_analysis, active_peak_prominence_2d_results)"
   ]
  },
  {
   "cell_type": "code",
   "execution_count": null,
   "id": "ee641968",
   "metadata": {},
   "outputs": [],
   "source": [
    "from pyphoplacecellanalysis.General.Pipeline.Stages.DisplayFunctions.DecoderPredictionError import _temp_debug_draw_predicted_position_difference"
   ]
  },
  {
   "cell_type": "markdown",
   "metadata": {},
   "source": [
    "# PrettyPrinting Improvements"
   ]
  },
  {
   "cell_type": "markdown",
   "metadata": {},
   "source": [
    "I'm having issues with how python and Jupyter lab format outputs (specifically as notebook outputs in VSCode). They seem to strongly prefer linebreaks when this isn't efficient for my screen, as it's a widescreen and is more limited in vertical space than horizontal space. For example, when I call `` on my class the output cell prints:\n",
    "```\n",
    "['num_position_samples_occupancy',\n",
    " 'num_position_samples_smoothed_occupancy',\n",
    " 'seconds_occupancy',\n",
    " 'normalized_occupancy',\n",
    " 'spikes_maps_matrix',\n",
    " 'smoothed_spikes_maps_matrix',\n",
    " 'occupancy_weighted_tuning_maps_matrix',\n",
    " '__module__',\n",
    " '__annotations__',\n",
    " '__doc__',\n",
    " 'to_dict',\n",
    " 'from_dict',\n",
    " '__getstate__',\n",
    " '__setstate__',\n",
    " 'get_by_IDX',\n",
    " '__attrs_attrs__',\n",
    " '__eq__',\n",
    " '__ne__',\n",
    " '__hash__',\n",
    " '__init__',\n",
    " 'deserialize',\n",
    " 'read_hdf',\n",
    " 'get_fields_with_tag',\n",
    " 'get_serialized_fields',\n",
    " 'get_serialized_dataset_fields',\n",
    " 'get_serialized_attribute_fields',\n",
    " '__dict__',\n",
    " '__weakref__',\n",
    " '__repr__',\n",
    " '__str__',\n",
    " '__getattribute__',\n",
    " '__setattr__',\n",
    " '__delattr__',\n",
    " '__lt__',\n",
    " '__le__',\n",
    " '__gt__',\n",
    " '__ge__',\n",
    " '__new__',\n",
    " '__reduce_ex__',\n",
    " '__reduce__',\n",
    " '__subclasshook__',\n",
    " '__init_subclass__',\n",
    " '__format__',\n",
    " '__sizeof__',\n",
    " '__dir__',\n",
    " '__class__',\n",
    " 'is_hdf_serializable',\n",
    " 'to_hdf']\n",
    "```\n",
    "Where I'd like it to print without all the excessive line breaks, e.g.:\n",
    "```\n",
    "['num_position_samples_occupancy', 'num_position_samples_smoothed_occupancy', 'seconds_occupancy', 'normalized_occupancy', 'spikes_maps_matrix', 'smoothed_spikes_maps_matrix', 'occupancy_weighted_tuning_maps_matrix', '__module__', '__annotations__', '__doc__', 'to_dict', 'from_dict', '__getstate__', '__setstate__', 'get_by_IDX', '__attrs_attrs__', '__eq__', '__ne__', '__hash__', '__init__', 'deserialize', 'read_hdf', 'get_fields_with_tag', 'get_serialized_fields', 'get_serialized_dataset_fields', 'get_serialized_attribute_fields', '__dict__', '__weakref__', '__repr__', '__str__', '__getattribute__', '__setattr__', '__delattr__', '__lt__', '__le__', '__gt__', '__ge__', '__new__', '__reduce_ex__', '__reduce__', '__subclasshook__', '__init_subclass__', '__format__', '__sizeof__', '__dir__', '__class__', 'is_hdf_serializable', 'to_hdf']\n",
    "```\n",
    "What setting or configuration option controls when the linebreaks are inserted in the output, and how can I change it generally without having to customize it on a per-class basis?\n"
   ]
  }
 ],
 "metadata": {
  "kernelspec": {
   "display_name": "Python 3",
   "language": "python",
   "name": "python3"
  },
  "language_info": {
   "codemirror_mode": {
    "name": "ipython",
    "version": 3
   },
   "file_extension": ".py",
   "mimetype": "text/x-python",
   "name": "python",
   "nbconvert_exporter": "python",
   "pygments_lexer": "ipython3",
   "version": "3.9.13"
  },
  "vscode": {
   "interpreter": {
    "hash": "d0174187368f176085df53c2cec5d63d0b8400e63ae887d077931481ed3fab96"
   }
  }
 },
 "nbformat": 4,
 "nbformat_minor": 5
}
