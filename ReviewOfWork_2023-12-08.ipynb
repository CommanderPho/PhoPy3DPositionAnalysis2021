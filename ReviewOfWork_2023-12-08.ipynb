{
 "cells": [
  {
   "cell_type": "code",
   "execution_count": 1,
   "id": "initial_id",
   "metadata": {
    "ExecuteTime": {
     "end_time": "2023-11-16T23:21:20.608442900Z",
     "start_time": "2023-11-16T23:21:20.217442100Z"
    },
    "collapsed": true,
    "notebookRunGroups": {
     "groupValue": "1"
    }
   },
   "outputs": [
    {
     "name": "stdout",
     "output_type": "stream",
     "text": [
      "Exception reporting mode: Verbose\n",
      "Automatic pdb calling has been turned OFF\n",
      "build_module_logger(module_name=\"Spike3D.pipeline\"):\n",
      "\t Module logger com.PhoHale.Spike3D.pipeline has file logging enabled and will log to EXTERNAL\\TESTING\\Logging\\debug_com.PhoHale.Spike3D.pipeline.log\n"
     ]
    }
   ],
   "source": [
    "%config IPCompleter.use_jedi = False\n",
    "%xmode Verbose\n",
    "%pdb off\n",
    "%load_ext viztracer\n",
    "from viztracer import VizTracer\n",
    "%load_ext autoreload\n",
    "%autoreload 3\n",
    "import sys\n",
    "from typing import Dict, List, Tuple, Optional\n",
    "from pathlib import Path\n",
    "\n",
    "# required to enable non-blocking interaction:\n",
    "%gui qt5\n",
    "\n",
    "from copy import deepcopy\n",
    "from numba import jit\n",
    "import numpy as np\n",
    "import pandas as pd\n",
    "pd.options.mode.chained_assignment = None  # default='warn'\n",
    "# pd.options.mode.dtype_backend = 'pyarrow' # use new pyarrow backend instead of numpy\n",
    "from attrs import define, field, fields, Factory\n",
    "import tables as tb\n",
    "from datetime import datetime, timedelta\n",
    "\n",
    "# Pho's Formatting Preferences\n",
    "from pyphocorehelpers.preferences_helpers import set_pho_preferences, set_pho_preferences_concise, set_pho_preferences_verbose\n",
    "set_pho_preferences_concise()\n",
    "from pyphocorehelpers.print_helpers import get_now_time_str, get_now_day_str\n",
    "\n",
    "## Pho's Custom Libraries:\n",
    "from pyphocorehelpers.Filesystem.path_helpers import find_first_extant_path\n",
    "from pyphocorehelpers.Filesystem.open_in_system_file_manager import reveal_in_system_file_manager\n",
    "\n",
    "# NeuroPy (Diba Lab Python Repo) Loading\n",
    "# from neuropy import core\n",
    "from neuropy.analyses.placefields import PlacefieldComputationParameters\n",
    "from neuropy.core.epoch import NamedTimerange, Epoch\n",
    "from neuropy.core.ratemap import Ratemap\n",
    "from neuropy.core.session.Formats.BaseDataSessionFormats import DataSessionFormatRegistryHolder\n",
    "from neuropy.core.session.Formats.Specific.KDibaOldDataSessionFormat import KDibaOldDataSessionFormatRegisteredClass\n",
    "from neuropy.utils.matplotlib_helpers import matplotlib_file_only, matplotlib_configuration, matplotlib_configuration_update\n",
    "from neuropy.core.neuron_identities import NeuronIdentityTable, neuronTypesList, neuronTypesEnum\n",
    "from neuropy.utils.mixins.AttrsClassHelpers import AttrsBasedClassHelperMixin, serialized_field, serialized_attribute_field, non_serialized_field, custom_define\n",
    "from neuropy.utils.mixins.HDF5_representable import HDF_DeserializationMixin, post_deserialize, HDF_SerializationMixin, HDFMixin, HDF_Converter\n",
    "\n",
    "## For computation parameters:\n",
    "from neuropy.analyses.placefields import PlacefieldComputationParameters\n",
    "from neuropy.utils.dynamic_container import DynamicContainer\n",
    "from neuropy.utils.result_context import IdentifyingContext\n",
    "from neuropy.core.session.Formats.BaseDataSessionFormats import find_local_session_paths\n",
    "from neuropy.core.neurons import NeuronType\n",
    "from neuropy.core.user_annotations import UserAnnotationsManager\n",
    "from neuropy.core.position import Position\n",
    "from neuropy.core.session.dataSession import DataSession\n",
    "from neuropy.analyses.time_dependent_placefields import PfND_TimeDependent, PlacefieldSnapshot\n",
    "from neuropy.utils.debug_helpers import debug_print_placefield, debug_print_subsession_neuron_differences, debug_print_ratemap, debug_print_spike_counts, debug_plot_2d_binning, print_aligned_columns\n",
    "from neuropy.utils.debug_helpers import parameter_sweeps, _plot_parameter_sweep, compare_placefields_info\n",
    "\n",
    "from pyphocorehelpers.print_helpers import print_object_memory_usage, print_dataframe_memory_usage, print_value_overview_only, DocumentationFilePrinter, print_keys_if_possible, generate_html_string, CapturedException, document_active_variables\n",
    "from pyphocorehelpers.general_helpers import GeneratedClassDefinitionType, CodeConversion, inspect_callable_arguments\n",
    "\n",
    "## Pho Programming Helpers:\n",
    "import inspect\n",
    "from pyphocorehelpers.general_helpers import inspect_callable_arguments, get_arguments_as_optional_dict, GeneratedClassDefinitionType, CodeConversion\n",
    "from pyphocorehelpers.print_helpers import DocumentationFilePrinter, TypePrintMode, print_keys_if_possible, debug_dump_object_member_shapes, print_value_overview_only, document_active_variables, CapturedException\n",
    "from pyphocorehelpers.programming_helpers import IPythonHelpers, PythonDictionaryDefinitionFormat, MemoryManagement\n",
    "from pyphocorehelpers.gui.Qt.TopLevelWindowHelper import TopLevelWindowHelper, print_widget_hierarchy\n",
    "\n",
    "# pyPhoPlaceCellAnalysis:\n",
    "from pyphoplacecellanalysis.General.Pipeline.NeuropyPipeline import NeuropyPipeline # get_neuron_identities\n",
    "from pyphoplacecellanalysis.General.Mixins.ExportHelpers import export_pyqtgraph_plot\n",
    "from pyphoplacecellanalysis.General.Batch.NonInteractiveProcessing import batch_load_session, batch_extended_computations, batch_extended_programmatic_figures\n",
    "from pyphoplacecellanalysis.General.Pipeline.NeuropyPipeline import PipelineSavingScheme\n",
    "\n",
    "import pyphoplacecellanalysis.External.pyqtgraph as pg\n",
    "\n",
    "from pyphoplacecellanalysis.General.Batch.NonInteractiveProcessing import batch_perform_all_plots\n",
    "from pyphoplacecellanalysis.General.Pipeline.Stages.ComputationFunctions.MultiContextComputationFunctions.LongShortTrackComputations import JonathanFiringRateAnalysisResult\n",
    "from pyphoplacecellanalysis.General.Mixins.CrossComputationComparisonHelpers import _find_any_context_neurons\n",
    "from pyphoplacecellanalysis.General.Batch.runBatch import BatchSessionCompletionHandler # for `post_compute_validate(...)`\n",
    "from pyphoplacecellanalysis.Analysis.Decoder.reconstruction import BasePositionDecoder\n",
    "from pyphoplacecellanalysis.SpecificResults.AcrossSessionResults import AcrossSessionsResults\n",
    "from pyphoplacecellanalysis.General.Pipeline.Stages.ComputationFunctions.SpikeAnalysis import SpikeRateTrends # for `_perform_long_short_instantaneous_spike_rate_groups_analysis`\n",
    "from pyphoplacecellanalysis.General.Pipeline.Stages.ComputationFunctions.MultiContextComputationFunctions.LongShortTrackComputations import SingleBarResult, InstantaneousSpikeRateGroupsComputation, TruncationCheckingResults # for `BatchSessionCompletionHandler`, `AcrossSessionsAggregator`\n",
    "from pyphoplacecellanalysis.General.Mixins.CrossComputationComparisonHelpers import SplitPartitionMembership\n",
    "from pyphoplacecellanalysis.General.Pipeline.Stages.ComputationFunctions.MultiContextComputationFunctions.DirectionalPlacefieldGlobalComputationFunctions import DirectionalPlacefieldGlobalComputationFunctions, DirectionalLapsResult, TrackTemplates\n",
    "from pyphoplacecellanalysis.General.Pipeline.Stages.ComputationFunctions.MultiContextComputationFunctions.RankOrderComputations import RankOrderGlobalComputationFunctions\n",
    "from neuropy.utils.indexing_helpers import union_of_arrays, intersection_of_arrays, find_desired_sort_indicies, paired_incremental_sorting\n",
    "\n",
    "# Plotting\n",
    "# import pylustrator # customization of figures\n",
    "import matplotlib\n",
    "import matplotlib as mpl\n",
    "import matplotlib.pyplot as plt\n",
    "_bak_rcParams = mpl.rcParams.copy()\n",
    "\n",
    "matplotlib.use('Qt5Agg')\n",
    "# %matplotlib inline\n",
    "\n",
    "# _restore_previous_matplotlib_settings_callback = matplotlib_configuration_update(is_interactive=True, backend='Qt5Agg')\n",
    "_restore_previous_matplotlib_settings_callback = matplotlib_configuration_update(is_interactive=True, backend='Qt5Agg')\n",
    "\n",
    "\n",
    "# import pylustrator # call `pylustrator.start()` before creating your first figure in code.\n",
    "from pyphoplacecellanalysis.Pho2D.matplotlib.visualize_heatmap import visualize_heatmap\n",
    "from pyphoplacecellanalysis.Pho2D.matplotlib.visualize_heatmap import visualize_heatmap_pyqtgraph # used in `plot_kourosh_activity_style_figure`\n",
    "from pyphoplacecellanalysis.General.Pipeline.Stages.DisplayFunctions.SpikeRasters import plot_multiple_raster_plot, plot_raster_plot\n",
    "from pyphoplacecellanalysis.General.Mixins.DataSeriesColorHelpers import UnitColoringMode, DataSeriesColorHelpers\n",
    "from pyphoplacecellanalysis.General.Pipeline.Stages.DisplayFunctions.SpikeRasters import _build_default_tick, build_scatter_plot_kwargs\n",
    "from pyphoplacecellanalysis.GUI.PyQtPlot.Widgets.Mixins.Render2DScrollWindowPlot import Render2DScrollWindowPlotMixin, ScatterItemData\n",
    "from pyphoplacecellanalysis.General.Batch.NonInteractiveProcessing import batch_extended_programmatic_figures, batch_programmatic_figures\n",
    "from pyphoplacecellanalysis.General.Pipeline.Stages.ComputationFunctions.SpikeAnalysis import SpikeRateTrends\n",
    "from pyphoplacecellanalysis.General.Mixins.SpikesRenderingBaseMixin import SpikeEmphasisState\n",
    "\n",
    "from pyphoplacecellanalysis.SpecificResults.PhoDiba2023Paper import PAPER_FIGURE_figure_1_add_replay_epoch_rasters, PAPER_FIGURE_figure_1_full, PAPER_FIGURE_figure_3, main_complete_figure_generations\n",
    "from pyphoplacecellanalysis.SpecificResults.fourthYearPresentation import *\n",
    "\n",
    "# Jupyter Widget Interactive\n",
    "import ipywidgets as widgets\n",
    "from IPython.display import display, HTML\n",
    "from pyphocorehelpers.Filesystem.open_in_system_file_manager import reveal_in_system_file_manager\n",
    "from pyphoplacecellanalysis.GUI.IPyWidgets.pipeline_ipywidgets import interactive_pipeline_widget, fullwidth_path_widget, interactive_pipeline_files\n",
    "from pyphocorehelpers.gui.Jupyter.simple_widgets import render_colors\n",
    "\n",
    "global_data_root_parent_path = find_first_extant_path([Path(r'W:\\Data'), Path(r'/media/MAX/Data'), Path(r'/home/halechr/FastData'), Path(r'/Volumes/MoverNew/data'), Path(r'/home/halechr/turbo/Data'), Path(r'/home/halechr/cloud/turbo/Data')])\n",
    "assert global_data_root_parent_path.exists(), f\"global_data_root_parent_path: {global_data_root_parent_path} does not exist! Is the right computer's config commented out above?\""
   ]
  },
  {
   "cell_type": "markdown",
   "id": "30db844b",
   "metadata": {},
   "source": [
    "# Load Pipeline"
   ]
  },
  {
   "cell_type": "code",
   "execution_count": 2,
   "id": "233d2b8a",
   "metadata": {
    "ExecuteTime": {
     "end_time": "2023-11-16T23:21:36.073368600Z",
     "start_time": "2023-11-16T23:21:27.575793Z"
    },
    "notebookRunGroups": {
     "groupValue": "1"
    }
   },
   "outputs": [
    {
     "name": "stdout",
     "output_type": "stream",
     "text": [
      "basedir: W:\\Data\\KDIBA\\gor01\\one\\2006-6-08_14-26-15\n",
      "Loading loaded session pickle file results : W:\\Data\\KDIBA\\gor01\\one\\2006-6-08_14-26-15\\loadedSessPickle.pkl... "
     ]
    },
    {
     "name": "stderr",
     "output_type": "stream",
     "text": [
      "INFO:com.PhoHale.Spike3D.pipeline:NeuropyPipeline.__setstate__(state=\"{'pipeline_name': 'kdiba_pipeline', 'session_data_type': 'kdiba', '_stage': <pyphoplacecellanalysis.General.Pipeline.Stages.Display.DisplayPipelineStage object at 0x00000256E29534F0>}\")\n",
      "INFO:com.PhoHale.Spike3D.pipeline:select_filters(...) with: []\n",
      "INFO:com.PhoHale.Spike3D.pipeline:Performing perform_action_for_all_contexts with action EvaluationActions.EVALUATE_COMPUTATIONS on filtered_session with filter named \"maze1_odd\"...\n",
      "INFO:com.PhoHale.Spike3D.pipeline:WARNING: skipping computation because overwrite_extant_results=False and active_computation_results[maze1_odd] already exists and is non-None\n",
      "INFO:com.PhoHale.Spike3D.pipeline:\t TODO: this will prevent recomputation even when the excludelist/includelist or computation function definitions change. Rework so that this is smarter.\n",
      "INFO:com.PhoHale.Spike3D.pipeline:Performing perform_action_for_all_contexts with action EvaluationActions.EVALUATE_COMPUTATIONS on filtered_session with filter named \"maze2_odd\"...\n",
      "INFO:com.PhoHale.Spike3D.pipeline:WARNING: skipping computation because overwrite_extant_results=False and active_computation_results[maze2_odd] already exists and is non-None\n",
      "INFO:com.PhoHale.Spike3D.pipeline:\t TODO: this will prevent recomputation even when the excludelist/includelist or computation function definitions change. Rework so that this is smarter.\n",
      "INFO:com.PhoHale.Spike3D.pipeline:Performing perform_action_for_all_contexts with action EvaluationActions.EVALUATE_COMPUTATIONS on filtered_session with filter named \"maze_odd\"...\n",
      "INFO:com.PhoHale.Spike3D.pipeline:WARNING: skipping computation because overwrite_extant_results=False and active_computation_results[maze_odd] already exists and is non-None\n",
      "INFO:com.PhoHale.Spike3D.pipeline:\t TODO: this will prevent recomputation even when the excludelist/includelist or computation function definitions change. Rework so that this is smarter.\n",
      "INFO:com.PhoHale.Spike3D.pipeline:Performing perform_action_for_all_contexts with action EvaluationActions.EVALUATE_COMPUTATIONS on filtered_session with filter named \"maze1_even\"...\n",
      "INFO:com.PhoHale.Spike3D.pipeline:WARNING: skipping computation because overwrite_extant_results=False and active_computation_results[maze1_even] already exists and is non-None\n",
      "INFO:com.PhoHale.Spike3D.pipeline:\t TODO: this will prevent recomputation even when the excludelist/includelist or computation function definitions change. Rework so that this is smarter.\n",
      "INFO:com.PhoHale.Spike3D.pipeline:Performing perform_action_for_all_contexts with action EvaluationActions.EVALUATE_COMPUTATIONS on filtered_session with filter named \"maze2_even\"...\n",
      "INFO:com.PhoHale.Spike3D.pipeline:WARNING: skipping computation because overwrite_extant_results=False and active_computation_results[maze2_even] already exists and is non-None\n",
      "INFO:com.PhoHale.Spike3D.pipeline:\t TODO: this will prevent recomputation even when the excludelist/includelist or computation function definitions change. Rework so that this is smarter.\n",
      "INFO:com.PhoHale.Spike3D.pipeline:Performing perform_action_for_all_contexts with action EvaluationActions.EVALUATE_COMPUTATIONS on filtered_session with filter named \"maze_even\"...\n",
      "INFO:com.PhoHale.Spike3D.pipeline:WARNING: skipping computation because overwrite_extant_results=False and active_computation_results[maze_even] already exists and is non-None\n",
      "INFO:com.PhoHale.Spike3D.pipeline:\t TODO: this will prevent recomputation even when the excludelist/includelist or computation function definitions change. Rework so that this is smarter.\n",
      "INFO:com.PhoHale.Spike3D.pipeline:Performing perform_action_for_all_contexts with action EvaluationActions.EVALUATE_COMPUTATIONS on filtered_session with filter named \"maze1_any\"...\n",
      "INFO:com.PhoHale.Spike3D.pipeline:WARNING: skipping computation because overwrite_extant_results=False and active_computation_results[maze1_any] already exists and is non-None\n",
      "INFO:com.PhoHale.Spike3D.pipeline:\t TODO: this will prevent recomputation even when the excludelist/includelist or computation function definitions change. Rework so that this is smarter.\n",
      "INFO:com.PhoHale.Spike3D.pipeline:Performing perform_action_for_all_contexts with action EvaluationActions.EVALUATE_COMPUTATIONS on filtered_session with filter named \"maze2_any\"...\n",
      "INFO:com.PhoHale.Spike3D.pipeline:WARNING: skipping computation because overwrite_extant_results=False and active_computation_results[maze2_any] already exists and is non-None\n",
      "INFO:com.PhoHale.Spike3D.pipeline:\t TODO: this will prevent recomputation even when the excludelist/includelist or computation function definitions change. Rework so that this is smarter.\n",
      "INFO:com.PhoHale.Spike3D.pipeline:Performing perform_action_for_all_contexts with action EvaluationActions.EVALUATE_COMPUTATIONS on filtered_session with filter named \"maze_any\"...\n",
      "INFO:com.PhoHale.Spike3D.pipeline:WARNING: skipping computation because overwrite_extant_results=False and active_computation_results[maze_any] already exists and is non-None\n",
      "INFO:com.PhoHale.Spike3D.pipeline:\t TODO: this will prevent recomputation even when the excludelist/includelist or computation function definitions change. Rework so that this is smarter.\n",
      "INFO:com.PhoHale.Spike3D.pipeline:Performing global computations...\n",
      "INFO:com.PhoHale.Spike3D.pipeline:select_filters(...) with: []\n",
      "INFO:com.PhoHale.Spike3D.pipeline:Performing perform_action_for_all_contexts with action EvaluationActions.EVALUATE_COMPUTATIONS on filtered_session with filter named \"maze1_odd\"...\n",
      "INFO:com.PhoHale.Spike3D.pipeline:WARNING: skipping computation because overwrite_extant_results=False and active_computation_results[maze1_odd] already exists and is non-None\n",
      "INFO:com.PhoHale.Spike3D.pipeline:\t TODO: this will prevent recomputation even when the excludelist/includelist or computation function definitions change. Rework so that this is smarter.\n",
      "INFO:com.PhoHale.Spike3D.pipeline:Performing perform_action_for_all_contexts with action EvaluationActions.EVALUATE_COMPUTATIONS on filtered_session with filter named \"maze2_odd\"...\n",
      "INFO:com.PhoHale.Spike3D.pipeline:WARNING: skipping computation because overwrite_extant_results=False and active_computation_results[maze2_odd] already exists and is non-None\n",
      "INFO:com.PhoHale.Spike3D.pipeline:\t TODO: this will prevent recomputation even when the excludelist/includelist or computation function definitions change. Rework so that this is smarter.\n",
      "INFO:com.PhoHale.Spike3D.pipeline:Performing perform_action_for_all_contexts with action EvaluationActions.EVALUATE_COMPUTATIONS on filtered_session with filter named \"maze_odd\"...\n",
      "INFO:com.PhoHale.Spike3D.pipeline:WARNING: skipping computation because overwrite_extant_results=False and active_computation_results[maze_odd] already exists and is non-None\n",
      "INFO:com.PhoHale.Spike3D.pipeline:\t TODO: this will prevent recomputation even when the excludelist/includelist or computation function definitions change. Rework so that this is smarter.\n",
      "INFO:com.PhoHale.Spike3D.pipeline:Performing perform_action_for_all_contexts with action EvaluationActions.EVALUATE_COMPUTATIONS on filtered_session with filter named \"maze1_even\"...\n",
      "INFO:com.PhoHale.Spike3D.pipeline:WARNING: skipping computation because overwrite_extant_results=False and active_computation_results[maze1_even] already exists and is non-None\n",
      "INFO:com.PhoHale.Spike3D.pipeline:\t TODO: this will prevent recomputation even when the excludelist/includelist or computation function definitions change. Rework so that this is smarter.\n",
      "INFO:com.PhoHale.Spike3D.pipeline:Performing perform_action_for_all_contexts with action EvaluationActions.EVALUATE_COMPUTATIONS on filtered_session with filter named \"maze2_even\"...\n",
      "INFO:com.PhoHale.Spike3D.pipeline:WARNING: skipping computation because overwrite_extant_results=False and active_computation_results[maze2_even] already exists and is non-None\n",
      "INFO:com.PhoHale.Spike3D.pipeline:\t TODO: this will prevent recomputation even when the excludelist/includelist or computation function definitions change. Rework so that this is smarter.\n",
      "INFO:com.PhoHale.Spike3D.pipeline:Performing perform_action_for_all_contexts with action EvaluationActions.EVALUATE_COMPUTATIONS on filtered_session with filter named \"maze_even\"...\n",
      "INFO:com.PhoHale.Spike3D.pipeline:WARNING: skipping computation because overwrite_extant_results=False and active_computation_results[maze_even] already exists and is non-None\n",
      "INFO:com.PhoHale.Spike3D.pipeline:\t TODO: this will prevent recomputation even when the excludelist/includelist or computation function definitions change. Rework so that this is smarter.\n",
      "INFO:com.PhoHale.Spike3D.pipeline:Performing perform_action_for_all_contexts with action EvaluationActions.EVALUATE_COMPUTATIONS on filtered_session with filter named \"maze1_any\"...\n",
      "INFO:com.PhoHale.Spike3D.pipeline:WARNING: skipping computation because overwrite_extant_results=False and active_computation_results[maze1_any] already exists and is non-None\n",
      "INFO:com.PhoHale.Spike3D.pipeline:\t TODO: this will prevent recomputation even when the excludelist/includelist or computation function definitions change. Rework so that this is smarter.\n",
      "INFO:com.PhoHale.Spike3D.pipeline:Performing perform_action_for_all_contexts with action EvaluationActions.EVALUATE_COMPUTATIONS on filtered_session with filter named \"maze2_any\"...\n",
      "INFO:com.PhoHale.Spike3D.pipeline:WARNING: skipping computation because overwrite_extant_results=False and active_computation_results[maze2_any] already exists and is non-None\n",
      "INFO:com.PhoHale.Spike3D.pipeline:\t TODO: this will prevent recomputation even when the excludelist/includelist or computation function definitions change. Rework so that this is smarter.\n",
      "INFO:com.PhoHale.Spike3D.pipeline:Performing perform_action_for_all_contexts with action EvaluationActions.EVALUATE_COMPUTATIONS on filtered_session with filter named \"maze_any\"...\n",
      "INFO:com.PhoHale.Spike3D.pipeline:WARNING: skipping computation because overwrite_extant_results=False and active_computation_results[maze_any] already exists and is non-None\n",
      "INFO:com.PhoHale.Spike3D.pipeline:\t TODO: this will prevent recomputation even when the excludelist/includelist or computation function definitions change. Rework so that this is smarter.\n",
      "INFO:com.PhoHale.Spike3D.pipeline:Performing global computations...\n",
      "INFO:com.PhoHale.Spike3D.pipeline:select_filters(...) with: []\n",
      "INFO:com.PhoHale.Spike3D.pipeline:Performing perform_action_for_all_contexts with action EvaluationActions.EVALUATE_COMPUTATIONS on filtered_session with filter named \"maze1_odd\"...\n",
      "INFO:com.PhoHale.Spike3D.pipeline:WARNING: skipping computation because overwrite_extant_results=False and active_computation_results[maze1_odd] already exists and is non-None\n",
      "INFO:com.PhoHale.Spike3D.pipeline:\t TODO: this will prevent recomputation even when the excludelist/includelist or computation function definitions change. Rework so that this is smarter.\n",
      "INFO:com.PhoHale.Spike3D.pipeline:Performing perform_action_for_all_contexts with action EvaluationActions.EVALUATE_COMPUTATIONS on filtered_session with filter named \"maze2_odd\"...\n",
      "INFO:com.PhoHale.Spike3D.pipeline:WARNING: skipping computation because overwrite_extant_results=False and active_computation_results[maze2_odd] already exists and is non-None\n",
      "INFO:com.PhoHale.Spike3D.pipeline:\t TODO: this will prevent recomputation even when the excludelist/includelist or computation function definitions change. Rework so that this is smarter.\n",
      "INFO:com.PhoHale.Spike3D.pipeline:Performing perform_action_for_all_contexts with action EvaluationActions.EVALUATE_COMPUTATIONS on filtered_session with filter named \"maze_odd\"...\n",
      "INFO:com.PhoHale.Spike3D.pipeline:WARNING: skipping computation because overwrite_extant_results=False and active_computation_results[maze_odd] already exists and is non-None\n",
      "INFO:com.PhoHale.Spike3D.pipeline:\t TODO: this will prevent recomputation even when the excludelist/includelist or computation function definitions change. Rework so that this is smarter.\n",
      "INFO:com.PhoHale.Spike3D.pipeline:Performing perform_action_for_all_contexts with action EvaluationActions.EVALUATE_COMPUTATIONS on filtered_session with filter named \"maze1_even\"...\n",
      "INFO:com.PhoHale.Spike3D.pipeline:WARNING: skipping computation because overwrite_extant_results=False and active_computation_results[maze1_even] already exists and is non-None\n",
      "INFO:com.PhoHale.Spike3D.pipeline:\t TODO: this will prevent recomputation even when the excludelist/includelist or computation function definitions change. Rework so that this is smarter.\n",
      "INFO:com.PhoHale.Spike3D.pipeline:Performing perform_action_for_all_contexts with action EvaluationActions.EVALUATE_COMPUTATIONS on filtered_session with filter named \"maze2_even\"...\n",
      "INFO:com.PhoHale.Spike3D.pipeline:WARNING: skipping computation because overwrite_extant_results=False and active_computation_results[maze2_even] already exists and is non-None\n",
      "INFO:com.PhoHale.Spike3D.pipeline:\t TODO: this will prevent recomputation even when the excludelist/includelist or computation function definitions change. Rework so that this is smarter.\n",
      "INFO:com.PhoHale.Spike3D.pipeline:Performing perform_action_for_all_contexts with action EvaluationActions.EVALUATE_COMPUTATIONS on filtered_session with filter named \"maze_even\"...\n",
      "INFO:com.PhoHale.Spike3D.pipeline:WARNING: skipping computation because overwrite_extant_results=False and active_computation_results[maze_even] already exists and is non-None\n",
      "INFO:com.PhoHale.Spike3D.pipeline:\t TODO: this will prevent recomputation even when the excludelist/includelist or computation function definitions change. Rework so that this is smarter.\n",
      "INFO:com.PhoHale.Spike3D.pipeline:Performing perform_action_for_all_contexts with action EvaluationActions.EVALUATE_COMPUTATIONS on filtered_session with filter named \"maze1_any\"...\n"
     ]
    },
    {
     "name": "stdout",
     "output_type": "stream",
     "text": [
      "done.\n",
      "Loading pickled pipeline success: W:\\Data\\KDIBA\\gor01\\one\\2006-6-08_14-26-15\\loadedSessPickle.pkl.\n",
      "properties already present in pickled version. No need to save.\n",
      "pipeline load success!\n",
      "using provided computation_functions_name_includelist: ['pf_computation', 'firing_rate_trends', 'position_decoding']\n",
      "WARNING: skipping computation because overwrite_extant_results=False and active_computation_results[maze1_odd] already exists and is non-None\n",
      "\t TODO: this will prevent recomputation even when the excludelist/includelist or computation function definitions change. Rework so that this is smarter.\n",
      "WARNING: skipping computation because overwrite_extant_results=False and active_computation_results[maze2_odd] already exists and is non-None\n",
      "\t TODO: this will prevent recomputation even when the excludelist/includelist or computation function definitions change. Rework so that this is smarter.\n",
      "WARNING: skipping computation because overwrite_extant_results=False and active_computation_results[maze_odd] already exists and is non-None\n",
      "\t TODO: this will prevent recomputation even when the excludelist/includelist or computation function definitions change. Rework so that this is smarter.\n",
      "WARNING: skipping computation because overwrite_extant_results=False and active_computation_results[maze1_even] already exists and is non-None\n",
      "\t TODO: this will prevent recomputation even when the excludelist/includelist or computation function definitions change. Rework so that this is smarter.\n",
      "WARNING: skipping computation because overwrite_extant_results=False and active_computation_results[maze2_even] already exists and is non-None\n",
      "\t TODO: this will prevent recomputation even when the excludelist/includelist or computation function definitions change. Rework so that this is smarter.\n",
      "WARNING: skipping computation because overwrite_extant_results=False and active_computation_results[maze_even] already exists and is non-None\n",
      "\t TODO: this will prevent recomputation even when the excludelist/includelist or computation function definitions change. Rework so that this is smarter.\n",
      "WARNING: skipping computation because overwrite_extant_results=False and active_computation_results[maze1_any] already exists and is non-None\n",
      "\t TODO: this will prevent recomputation even when the excludelist/includelist or computation function definitions change. Rework so that this is smarter.\n",
      "WARNING: skipping computation because overwrite_extant_results=False and active_computation_results[maze2_any] already exists and is non-None\n",
      "\t TODO: this will prevent recomputation even when the excludelist/includelist or computation function definitions change. Rework so that this is smarter.\n",
      "WARNING: skipping computation because overwrite_extant_results=False and active_computation_results[maze_any] already exists and is non-None\n",
      "\t TODO: this will prevent recomputation even when the excludelist/includelist or computation function definitions change. Rework so that this is smarter.\n",
      "WARNING: skipping computation because overwrite_extant_results=False and active_computation_results[maze1_odd] already exists and is non-None\n",
      "\t TODO: this will prevent recomputation even when the excludelist/includelist or computation function definitions change. Rework so that this is smarter.\n",
      "WARNING: skipping computation because overwrite_extant_results=False and active_computation_results[maze2_odd] already exists and is non-None\n",
      "\t TODO: this will prevent recomputation even when the excludelist/includelist or computation function definitions change. Rework so that this is smarter.\n",
      "WARNING: skipping computation because overwrite_extant_results=False and active_computation_results[maze_odd] already exists and is non-None\n",
      "\t TODO: this will prevent recomputation even when the excludelist/includelist or computation function definitions change. Rework so that this is smarter.\n",
      "WARNING: skipping computation because overwrite_extant_results=False and active_computation_results[maze1_even] already exists and is non-None\n",
      "\t TODO: this will prevent recomputation even when the excludelist/includelist or computation function definitions change. Rework so that this is smarter.\n",
      "WARNING: skipping computation because overwrite_extant_results=False and active_computation_results[maze2_even] already exists and is non-None\n",
      "\t TODO: this will prevent recomputation even when the excludelist/includelist or computation function definitions change. Rework so that this is smarter.\n",
      "WARNING: skipping computation because overwrite_extant_results=False and active_computation_results[maze_even] already exists and is non-None\n",
      "\t TODO: this will prevent recomputation even when the excludelist/includelist or computation function definitions change. Rework so that this is smarter.\n",
      "WARNING: skipping computation because overwrite_extant_results=False and active_computation_results[maze1_any] already exists and is non-None\n",
      "\t TODO: this will prevent recomputation even when the excludelist/includelist or computation function definitions change. Rework so that this is smarter.\n",
      "WARNING: skipping computation because overwrite_extant_results=False and active_computation_results[maze2_any] already exists and is non-None\n",
      "\t TODO: this will prevent recomputation even when the excludelist/includelist or computation function definitions change. Rework so that this is smarter.\n",
      "WARNING: skipping computation because overwrite_extant_results=False and active_computation_results[maze_any] already exists and is non-None\n",
      "\t TODO: this will prevent recomputation even when the excludelist/includelist or computation function definitions change. Rework so that this is smarter.\n",
      "WARNING: skipping computation because overwrite_extant_results=False and active_computation_results[maze1_odd] already exists and is non-None\n",
      "\t TODO: this will prevent recomputation even when the excludelist/includelist or computation function definitions change. Rework so that this is smarter.\n",
      "WARNING: skipping computation because overwrite_extant_results=False and active_computation_results[maze2_odd] already exists and is non-None\n",
      "\t TODO: this will prevent recomputation even when the excludelist/includelist or computation function definitions change. Rework so that this is smarter.\n",
      "WARNING: skipping computation because overwrite_extant_results=False and active_computation_results[maze_odd] already exists and is non-None\n",
      "\t TODO: this will prevent recomputation even when the excludelist/includelist or computation function definitions change. Rework so that this is smarter.\n",
      "WARNING: skipping computation because overwrite_extant_results=False and active_computation_results[maze1_even] already exists and is non-None\n",
      "\t TODO: this will prevent recomputation even when the excludelist/includelist or computation function definitions change. Rework so that this is smarter.\n",
      "WARNING: skipping computation because overwrite_extant_results=False and active_computation_results[maze2_even] already exists and is non-None\n",
      "\t TODO: this will prevent recomputation even when the excludelist/includelist or computation function definitions change. Rework so that this is smarter.\n",
      "WARNING: skipping computation because overwrite_extant_results=False and active_computation_results[maze_even] already exists and is non-None\n",
      "\t TODO: this will prevent recomputation even when the excludelist/includelist or computation function definitions change. Rework so that this is smarter.\n"
     ]
    },
    {
     "name": "stderr",
     "output_type": "stream",
     "text": [
      "INFO:com.PhoHale.Spike3D.pipeline:WARNING: skipping computation because overwrite_extant_results=False and active_computation_results[maze1_any] already exists and is non-None\n",
      "INFO:com.PhoHale.Spike3D.pipeline:\t TODO: this will prevent recomputation even when the excludelist/includelist or computation function definitions change. Rework so that this is smarter.\n",
      "INFO:com.PhoHale.Spike3D.pipeline:Performing perform_action_for_all_contexts with action EvaluationActions.EVALUATE_COMPUTATIONS on filtered_session with filter named \"maze2_any\"...\n",
      "INFO:com.PhoHale.Spike3D.pipeline:WARNING: skipping computation because overwrite_extant_results=False and active_computation_results[maze2_any] already exists and is non-None\n",
      "INFO:com.PhoHale.Spike3D.pipeline:\t TODO: this will prevent recomputation even when the excludelist/includelist or computation function definitions change. Rework so that this is smarter.\n",
      "INFO:com.PhoHale.Spike3D.pipeline:Performing perform_action_for_all_contexts with action EvaluationActions.EVALUATE_COMPUTATIONS on filtered_session with filter named \"maze_any\"...\n",
      "INFO:com.PhoHale.Spike3D.pipeline:WARNING: skipping computation because overwrite_extant_results=False and active_computation_results[maze_any] already exists and is non-None\n",
      "INFO:com.PhoHale.Spike3D.pipeline:\t TODO: this will prevent recomputation even when the excludelist/includelist or computation function definitions change. Rework so that this is smarter.\n",
      "INFO:com.PhoHale.Spike3D.pipeline:Performing global computations...\n",
      "INFO:com.PhoHale.Spike3D.pipeline:NeuropyPipeline.on_stage_changed(new_stage=\"PipelineStage.Displayed\")\n",
      "WARNING:com.PhoHale.Spike3D.pipeline:WARNING: saving_mode is SKIP_SAVING so pipeline will not be saved despite calling .save_pipeline(...).\n"
     ]
    },
    {
     "name": "stdout",
     "output_type": "stream",
     "text": [
      "WARNING: skipping computation because overwrite_extant_results=False and active_computation_results[maze1_any] already exists and is non-None\n",
      "\t TODO: this will prevent recomputation even when the excludelist/includelist or computation function definitions change. Rework so that this is smarter.\n",
      "WARNING: skipping computation because overwrite_extant_results=False and active_computation_results[maze2_any] already exists and is non-None\n",
      "\t TODO: this will prevent recomputation even when the excludelist/includelist or computation function definitions change. Rework so that this is smarter.\n",
      "WARNING: skipping computation because overwrite_extant_results=False and active_computation_results[maze_any] already exists and is non-None\n",
      "\t TODO: this will prevent recomputation even when the excludelist/includelist or computation function definitions change. Rework so that this is smarter.\n",
      "WARNING: saving_mode is SKIP_SAVING so pipeline will not be saved despite calling .save_pipeline(...).\n",
      "saving_mode.shouldSave == False, so not saving at the end of batch_load_session\n",
      "DEPRICATION WARNING: workaround to allow subscripting ComputationResult objects. Will be depricated. key: computed_data\n",
      "DEPRICATION WARNING: workaround to allow subscripting ComputationResult objects. Will be depricated. key: computed_data\n",
      "DEPRICATION WARNING: workaround to allow subscripting ComputationResult objects. Will be depricated. key: computed_data\n",
      "DEPRICATION WARNING: workaround to allow subscripting ComputationResult objects. Will be depricated. key: computed_data\n",
      "DEPRICATION WARNING: workaround to allow subscripting ComputationResult objects. Will be depricated. key: computed_data\n",
      "DEPRICATION WARNING: workaround to allow subscripting ComputationResult objects. Will be depricated. key: computed_data\n",
      "were pipeline preprocessing parameters missing and updated?: False\n"
     ]
    }
   ],
   "source": [
    "# ==================================================================================================================== #\n",
    "# Load Data                                                                                                            #\n",
    "# ==================================================================================================================== #\n",
    "\n",
    "active_data_mode_name = 'kdiba'\n",
    "local_session_root_parent_context = IdentifyingContext(format_name=active_data_mode_name) # , animal_name='', configuration_name='one', session_name=a_sess.session_name\n",
    "local_session_root_parent_path = global_data_root_parent_path.joinpath('KDIBA')\n",
    "\n",
    "# [*] - indicates bad or session with a problem\n",
    "# 0, 1, 2, 3, 4, 5, 6, 7, [8], [9], 10, 11, [12], 13, 14, [15], [16], 17, \n",
    "# curr_context: IdentifyingContext = good_contexts_list[1] # select the session from all of the good sessions here.\n",
    "curr_context = IdentifyingContext(format_name='kdiba',animal='gor01',exper_name='one',session_name='2006-6-08_14-26-15') # DONE. Very good. Many good Pfs, many good replays.\n",
    "# curr_context = IdentifyingContext(format_name='kdiba',animal='gor01',exper_name='one',session_name='2006-6-09_1-22-43') # DONE, might be the BEST SESSION, good example session with lots of place cells, clean replays, and clear bar graphs.\n",
    "# curr_context = IdentifyingContext(format_name='kdiba',animal='gor01',exper_name='one',session_name='2006-6-12_15-55-31') # DONE, Good Pfs but no good replays\n",
    "# curr_context = IdentifyingContext(format_name='kdiba',animal='gor01',exper_name='one',session_name='2006-6-13_14-42-6') # BAD, 2023-07-14, unsure why still.\n",
    "# curr_context = IdentifyingContext(format_name='kdiba',animal='gor01',exper_name='two',session_name='2006-6-07_16-40-19') # DONE, GREAT, both good Pfs and replays!\n",
    "# curr_context = IdentifyingContext(format_name='kdiba',animal='gor01',exper_name='two',session_name='2006-6-08_21-16-25') # DONE, Added replay selections. Very \"jumpy\" between the starts and ends of the track.\n",
    "# curr_context = IdentifyingContext(format_name='kdiba',animal='gor01',exper_name='two',session_name='2006-6-09_22-24-40') # DONE, Added replay selections. A TON of putative replays in general, most bad, but some good.\n",
    "# curr_context = IdentifyingContext(format_name='kdiba',animal='gor01',exper_name='two',session_name='2006-6-12_16-53-46') # DONE, added replay selections. Very few (like 12) replays each.\n",
    "# curr_context = IdentifyingContext(format_name='kdiba',animal='gor01',exper_name='two',session_name='2006-6-13_15-22-3') # DONE, Good Pfs, no good epochs.\n",
    "# curr_context = IdentifyingContext(format_name='kdiba',animal='vvp01',exper_name='one',session_name='2006-4-09_17-29-30') # DONE, okay replays (selected)\n",
    "# curr_context = IdentifyingContext(format_name='kdiba',animal='vvp01',exper_name='one',session_name='2006-4-10_12-25-50') # DONE, very few replays (selected)\n",
    "# curr_context = IdentifyingContext(format_name='kdiba',animal='vvp01',exper_name='one',session_name='2006-4-19_13-34-40') # BAD\n",
    "# curr_context = IdentifyingContext(format_name='kdiba',animal='vvp01',exper_name='two',session_name='2006-4-09_16-40-54') # DONE, one replay each (selected)\n",
    "# curr_context = IdentifyingContext(format_name='kdiba',animal='vvp01',exper_name='two',session_name='2006-4-10_12-58-3') # BAD, Good Pfs strangely despite horrible map, no good epochs\n",
    "# curr_context = IdentifyingContext(format_name='kdiba',animal='vvp01',exper_name='two',session_name='2006-4-12_15-25-59') # BAD, No Epochs\n",
    "# curr_context = IdentifyingContext(format_name='kdiba',animal='vvp01',exper_name='two',session_name='2006-4-16_18-47-52')\n",
    "# curr_context = IdentifyingContext(format_name='kdiba',animal='vvp01',exper_name='two',session_name='2006-4-17_12-52-15')\n",
    "# curr_context = IdentifyingContext(format_name='kdiba',animal='vvp01',exper_name='two',session_name='2006-4-25_13-20-55')\n",
    "# curr_context = IdentifyingContext(format_name='kdiba',animal='vvp01',exper_name='two',session_name='2006-4-28_12-38-13')\n",
    "# curr_context = IdentifyingContext(format_name='kdiba',animal='pin01',exper_name='one',session_name='11-02_17-46-44') # DONE, good. Many good pfs, many good replays. Noticed very strange jumping off the track in the 3D behavior/spikes viewer. Is there something wrong with this session?\n",
    "# curr_context = IdentifyingContext(format_name='kdiba',animal='pin01',exper_name='one',session_name='11-02_19-28-0') # DONE, good?, replays selected, few\n",
    "# curr_context = IdentifyingContext(format_name='kdiba',animal='pin01',exper_name='one',session_name='11-03_12-3-25') # DONE, very few replays\n",
    "# curr_context = IdentifyingContext(format_name='kdiba',animal='pin01',exper_name='one',session_name='11-09_12-15-3')\n",
    "# curr_context = IdentifyingContext(format_name='kdiba',animal='pin01',exper_name='one',session_name='11-09_22-4-5')\n",
    "# curr_context = IdentifyingContext(format_name='kdiba',animal='pin01',exper_name='one',session_name='fet11-01_12-58-54') # DONE, replays selected, quite a few replays but few are very good.\n",
    "\n",
    "# curr_context = IdentifyingContext(format_name='kdiba',animal='gor01',exper_name='two',session_name='2006-6-08_21-16-25')\n",
    "\n",
    "local_session_parent_path: Path = local_session_root_parent_path.joinpath(curr_context.animal, curr_context.exper_name) # 'gor01', 'one' - probably not needed anymore\n",
    "basedir: Path = local_session_parent_path.joinpath(curr_context.session_name).resolve()\n",
    "print(f'basedir: {str(basedir)}')\n",
    "\n",
    "# Read if possible:\n",
    "saving_mode = PipelineSavingScheme.SKIP_SAVING\n",
    "force_reload = False\n",
    "\n",
    "# # Force write:\n",
    "# saving_mode = PipelineSavingScheme.TEMP_THEN_OVERWRITE\n",
    "# saving_mode = PipelineSavingScheme.OVERWRITE_IN_PLACE\n",
    "# force_reload = True\n",
    "\n",
    "## TODO: if loading is not possible, we need to change the `saving_mode` so that the new results are properly saved.\n",
    "\n",
    "# ==================================================================================================================== #\n",
    "# Load Pipeline                                                                                                        #\n",
    "# ==================================================================================================================== #\n",
    "# with VizTracer(output_file=f\"viztracer_{get_now_time_str()}-full_session_LOO_decoding_analysis.json\", min_duration=200, tracer_entries=3000000, ignore_frozen=True) as tracer:\n",
    "# epoch_name_includelist = ['maze']\n",
    "epoch_name_includelist = None\n",
    "active_computation_functions_name_includelist=['pf_computation',\n",
    "                                            #    'pfdt_computation',\n",
    "                                                'firing_rate_trends',\n",
    "                                                # 'pf_dt_sequential_surprise', \n",
    "                                            #    'ratemap_peaks_prominence2d',\n",
    "                                                'position_decoding', \n",
    "                                                # 'position_decoding_two_step', \n",
    "                                            #    'long_short_decoding_analyses', 'jonathan_firing_rate_analysis', 'long_short_fr_indicies_analyses', 'short_long_pf_overlap_analyses', 'long_short_post_decoding', 'long_short_rate_remapping',\n",
    "                                            #     'long_short_inst_spike_rate_groups',\n",
    "                                            #     'long_short_endcap_analysis',\n",
    "                                            # 'split_to_directional_laps',\n",
    "]\n",
    "\n",
    "curr_active_pipeline: NeuropyPipeline = batch_load_session(global_data_root_parent_path, active_data_mode_name, basedir, epoch_name_includelist=epoch_name_includelist,\n",
    "                                        computation_functions_name_includelist=active_computation_functions_name_includelist,\n",
    "                                        saving_mode=saving_mode, force_reload=force_reload,\n",
    "                                        skip_extended_batch_computations=True, debug_print=False, fail_on_exception=True) # , active_pickle_filename = 'loadedSessPickle_withParameters.pkl'\n",
    "\n",
    "\n",
    "\n",
    "## Post Compute Validate 2023-05-16:\n",
    "was_updated = BatchSessionCompletionHandler.post_compute_validate(curr_active_pipeline) ## TODO: need to potentially re-save if was_updated. This will fail because constained versions not ran yet.\n",
    "if was_updated:\n",
    "    print(f'was_updated: {was_updated}')\n",
    "    try:\n",
    "        curr_active_pipeline.save_pipeline(saving_mode=saving_mode)\n",
    "    except Exception as e:\n",
    "        ## TODO: catch/log saving error and indicate that it isn't saved.\n",
    "        exception_info = sys.exc_info()\n",
    "        e = CapturedException(e, exception_info)\n",
    "        print(f'ERROR RE-SAVING PIPELINE after update. error: {e}')\n"
   ]
  },
  {
   "cell_type": "code",
   "execution_count": 3,
   "id": "acba46b6",
   "metadata": {
    "ExecuteTime": {
     "end_time": "2023-11-16T23:21:40.574268400Z",
     "start_time": "2023-11-16T23:21:35.966373700Z"
    },
    "notebookRunGroups": {
     "groupValue": "1"
    }
   },
   "outputs": [
    {
     "name": "stdout",
     "output_type": "stream",
     "text": [
      "Loading loaded session pickle file results : W:\\Data\\KDIBA\\gor01\\one\\2006-6-08_14-26-15\\output\\global_computation_results.pkl... done.\n",
      "included includelist is specified: ['pf_computation', 'firing_rate_trends', 'long_short_decoding_analyses', 'jonathan_firing_rate_analysis', 'long_short_fr_indicies_analyses', 'short_long_pf_overlap_analyses', 'long_short_post_decoding', 'long_short_endcap_analysis', 'split_to_directional_laps'], so only performing these extended computations.\n",
      "Running batch_extended_computations(...) with global_epoch_name: \"maze_any\"\n",
      "pf_computation, maze_any already computed.\n",
      "firing_rate_trends, maze_any already computed.\n",
      "split_to_directional_laps, maze_any already computed.\n",
      "long_short_decoding_analyses, maze_any already computed.\n",
      "short_long_pf_overlap_analyses, maze_any already computed.\n",
      "long_short_fr_indicies_analyses, maze_any already computed.\n",
      "jonathan_firing_rate_analysis, maze_any already computed.\n",
      "long_short_post_decoding, maze_any already computed.\n",
      "long_short_endcap_analysis, maze_any already computed.\n",
      "done with all batch_extended_computations(...).\n",
      "no changes in global results.\n"
     ]
    },
    {
     "data": {
      "application/vnd.jupyter.widget-view+json": {
       "model_id": "a34ddc3a5e384d60a9f5e22151899291",
       "version_major": 2,
       "version_minor": 0
      },
      "text/plain": [
       "VBox(children=(Box(children=(Label(value='session path:', layout=Layout(width='auto')), Label(value='W:\\\\Data\\…"
      ]
     },
     "execution_count": 3,
     "metadata": {},
     "output_type": "execute_result"
    }
   ],
   "source": [
    "### GLOBAL COMPUTATIONS:\n",
    "if not force_reload: # not just force_reload, needs to recompute whenever the computation fails.\n",
    "    try:\n",
    "        curr_active_pipeline.load_pickled_global_computation_results()\n",
    "    except Exception as e:\n",
    "        exception_info = sys.exc_info()\n",
    "        e = CapturedException(e, exception_info)\n",
    "        print(f'cannot load global results: {e}')\n",
    "        raise\n",
    "\n",
    "curr_active_pipeline.reload_default_computation_functions()\n",
    "\n",
    "extended_computations_include_includelist=['pf_computation', 'firing_rate_trends', # 'pfdt_computation',\n",
    "    # 'pf_dt_sequential_surprise',\n",
    "    #  'ratemap_peaks_prominence2d',\n",
    "    'long_short_decoding_analyses', 'jonathan_firing_rate_analysis', 'long_short_fr_indicies_analyses', 'short_long_pf_overlap_analyses', 'long_short_post_decoding',\n",
    "    # 'long_short_rate_remapping',\n",
    "    # 'long_short_inst_spike_rate_groups',\n",
    "    'long_short_endcap_analysis',\n",
    "    # 'spike_burst_detection',\n",
    "    'split_to_directional_laps',\n",
    "    # 'rank_order_shuffle_analysis'\n",
    "] # do only specified\n",
    "\n",
    "force_recompute_global = force_reload\n",
    "# force_recompute_global = True\n",
    "newly_computed_values = batch_extended_computations(curr_active_pipeline, include_includelist=extended_computations_include_includelist, include_global_functions=True, fail_on_exception=False, progress_print=True, force_recompute=force_recompute_global, debug_print=False)\n",
    "if (len(newly_computed_values) > 0):\n",
    "    print(f'newly_computed_values: {newly_computed_values}.')\n",
    "    if (saving_mode.value != 'skip_saving'):\n",
    "        print(f'Saving global results...')\n",
    "        try:\n",
    "            # curr_active_pipeline.global_computation_results.persist_time = datetime.now()\n",
    "            # Try to write out the global computation function results:\n",
    "            curr_active_pipeline.save_global_computation_results()\n",
    "        except Exception as e:\n",
    "            exception_info = sys.exc_info()\n",
    "            e = CapturedException(e, exception_info)\n",
    "            print(f'\\n\\n!!WARNING!!: saving the global results threw the exception: {e}')\n",
    "            print(f'\\tthe global results are currently unsaved! proceed with caution and save as soon as you can!\\n\\n\\n')\n",
    "    else:\n",
    "        print(f'\\n\\n!!WARNING!!: changes to global results have been made but they will not be saved since saving_mode.value == \"skip_saving\"')\n",
    "        print(f'\\tthe global results are currently unsaved! proceed with caution and save as soon as you can!\\n\\n\\n')\n",
    "else:\n",
    "    print(f'no changes in global results.')\n",
    "\n",
    "# except Exception as e:\n",
    "#     exception_info = sys.exc_info()\n",
    "#     e = CapturedException(e, exception_info)\n",
    "#     print(f'second half threw: {e}')\n",
    "\n",
    "\n",
    "# 4m 5.2s for inst fr computations\n",
    "# Jupyter Widget Interactive\n",
    "import ipywidgets as widgets\n",
    "from IPython.display import display\n",
    "from pyphocorehelpers.Filesystem.open_in_system_file_manager import reveal_in_system_file_manager\n",
    "from pyphoplacecellanalysis.GUI.IPyWidgets.pipeline_ipywidgets import interactive_pipeline_widget, fullwidth_path_widget, interactive_pipeline_files\n",
    "\n",
    "_pipeline_jupyter_widget = interactive_pipeline_widget(curr_active_pipeline=curr_active_pipeline)\n",
    "# display(_pipeline_jupyter_widget)\n",
    "_pipeline_jupyter_widget"
   ]
  },
  {
   "cell_type": "code",
   "execution_count": null,
   "id": "ee3d4f61",
   "metadata": {},
   "outputs": [],
   "source": [
    "curr_active_pipeline.save_global_computation_results()"
   ]
  },
  {
   "cell_type": "code",
   "execution_count": null,
   "id": "e5cbb6cf",
   "metadata": {},
   "outputs": [],
   "source": [
    "curr_active_pipeline.export_pipeline_to_h5()"
   ]
  },
  {
   "cell_type": "code",
   "execution_count": null,
   "id": "e3f06d1f",
   "metadata": {},
   "outputs": [],
   "source": [
    "curr_active_pipeline.clear_display_outputs()\n",
    "curr_active_pipeline.clear_registered_output_files()"
   ]
  },
  {
   "cell_type": "code",
   "execution_count": null,
   "id": "837f39f2",
   "metadata": {},
   "outputs": [],
   "source": [
    "curr_active_pipeline.save_pipeline(saving_mode=PipelineSavingScheme.TEMP_THEN_OVERWRITE)"
   ]
  },
  {
   "cell_type": "markdown",
   "id": "1fe54599",
   "metadata": {},
   "source": [
    "# End Run"
   ]
  },
  {
   "cell_type": "code",
   "execution_count": 4,
   "id": "1a533ba8",
   "metadata": {
    "ExecuteTime": {
     "end_time": "2023-11-16T23:21:40.700275900Z",
     "start_time": "2023-11-16T23:21:40.584273Z"
    },
    "notebookRunGroups": {
     "groupValue": "1"
    }
   },
   "outputs": [],
   "source": [
    "# (long_one_step_decoder_1D, short_one_step_decoder_1D), (long_one_step_decoder_2D, short_one_step_decoder_2D) = compute_short_long_constrained_decoders(curr_active_pipeline, recalculate_anyway=True)\n",
    "long_epoch_name, short_epoch_name, global_epoch_name = curr_active_pipeline.find_LongShortGlobal_epoch_names()\n",
    "long_epoch_context, short_epoch_context, global_epoch_context = [curr_active_pipeline.filtered_contexts[a_name] for a_name in (long_epoch_name, short_epoch_name, global_epoch_name)]\n",
    "long_epoch_obj, short_epoch_obj = [Epoch(curr_active_pipeline.sess.epochs.to_dataframe().epochs.label_slice(an_epoch_name.removesuffix('_any'))) for an_epoch_name in [long_epoch_name, short_epoch_name]] #TODO 2023-11-10 20:41: - [ ] Issue with getting actual Epochs from sess.epochs for directional laps: emerges because long_epoch_name: 'maze1_any' and the actual epoch label in curr_active_pipeline.sess.epochs is 'maze1' without the '_any' part.\n",
    "long_session, short_session, global_session = [curr_active_pipeline.filtered_sessions[an_epoch_name] for an_epoch_name in [long_epoch_name, short_epoch_name, global_epoch_name]]\n",
    "long_results, short_results, global_results = [curr_active_pipeline.computation_results[an_epoch_name].computed_data for an_epoch_name in [long_epoch_name, short_epoch_name, global_epoch_name]]\n",
    "long_computation_config, short_computation_config, global_computation_config = [curr_active_pipeline.computation_results[an_epoch_name].computation_config for an_epoch_name in [long_epoch_name, short_epoch_name, global_epoch_name]]\n",
    "long_pf1D, short_pf1D, global_pf1D = long_results.pf1D, short_results.pf1D, global_results.pf1D\n",
    "long_pf2D, short_pf2D, global_pf2D = long_results.pf2D, short_results.pf2D, global_results.pf2D\n",
    "\n",
    "assert short_epoch_obj.n_epochs > 0, f'long_epoch_obj: {long_epoch_obj}, short_epoch_obj: {short_epoch_obj}'\n",
    "assert long_epoch_obj.n_epochs > 0, f'long_epoch_obj: {long_epoch_obj}, short_epoch_obj: {short_epoch_obj}'"
   ]
  },
  {
   "cell_type": "code",
   "execution_count": 5,
   "id": "9071e94f",
   "metadata": {
    "ExecuteTime": {
     "end_time": "2023-11-16T23:21:43.601382Z",
     "start_time": "2023-11-16T23:21:40.702275600Z"
    },
    "notebookRunGroups": {
     "groupValue": "1"
    }
   },
   "outputs": [
    {
     "name": "stdout",
     "output_type": "stream",
     "text": [
      "WARN: 2023-09-28 16:15: - [ ] fix the combination properties. Would work if we directly used the computed _is_L_only and _is_S_only above\n",
      "WARNING: PAPER_FIGURE_figure_1_add_replay_epoch_rasters(...): no user-assigned manually labeled replay epochs. Reeturning all epochs.\n",
      "WARN: 2023-09-28 16:15: - [ ] fix the combination properties. Would work if we directly used the computed _is_L_only and _is_S_only above\n"
     ]
    }
   ],
   "source": [
    "## long_short_decoding_analyses:\n",
    "curr_long_short_decoding_analyses = curr_active_pipeline.global_computation_results.computed_data['long_short_leave_one_out_decoding_analysis']\n",
    "long_one_step_decoder_1D, short_one_step_decoder_1D, long_replays, short_replays, global_replays, long_shared_aclus_only_decoder, short_shared_aclus_only_decoder, shared_aclus, long_short_pf_neurons_diff, n_neurons, long_results_obj, short_results_obj, is_global = curr_long_short_decoding_analyses.long_decoder, curr_long_short_decoding_analyses.short_decoder, curr_long_short_decoding_analyses.long_replays, curr_long_short_decoding_analyses.short_replays, curr_long_short_decoding_analyses.global_replays, curr_long_short_decoding_analyses.long_shared_aclus_only_decoder, curr_long_short_decoding_analyses.short_shared_aclus_only_decoder, curr_long_short_decoding_analyses.shared_aclus, curr_long_short_decoding_analyses.long_short_pf_neurons_diff, curr_long_short_decoding_analyses.n_neurons, curr_long_short_decoding_analyses.long_results_obj, curr_long_short_decoding_analyses.short_results_obj, curr_long_short_decoding_analyses.is_global \n",
    "decoding_time_bin_size = long_one_step_decoder_1D.time_bin_size # 1.0/30.0 # 0.03333333333333333\n",
    "\n",
    "## Get global `long_short_fr_indicies_analysis`:\n",
    "long_short_fr_indicies_analysis_results = curr_active_pipeline.global_computation_results.computed_data['long_short_fr_indicies_analysis']\n",
    "long_laps, long_replays, short_laps, short_replays, global_laps, global_replays = [long_short_fr_indicies_analysis_results[k] for k in ['long_laps', 'long_replays', 'short_laps', 'short_replays', 'global_laps', 'global_replays']]\n",
    "long_short_fr_indicies_df = long_short_fr_indicies_analysis_results['long_short_fr_indicies_df']\n",
    "\n",
    "## Get global 'long_short_post_decoding' results:\n",
    "curr_long_short_post_decoding = curr_active_pipeline.global_computation_results.computed_data['long_short_post_decoding']\n",
    "expected_v_observed_result, curr_long_short_rr = curr_long_short_post_decoding.expected_v_observed_result, curr_long_short_post_decoding.rate_remapping\n",
    "rate_remapping_df, high_remapping_cells_only = curr_long_short_rr.rr_df, curr_long_short_rr.high_only_rr_df\n",
    "Flat_epoch_time_bins_mean, Flat_decoder_time_bin_centers, num_neurons, num_timebins_in_epoch, num_total_flat_timebins, is_short_track_epoch, is_long_track_epoch, short_short_diff, long_long_diff = expected_v_observed_result.Flat_epoch_time_bins_mean, expected_v_observed_result.Flat_decoder_time_bin_centers, expected_v_observed_result.num_neurons, expected_v_observed_result.num_timebins_in_epoch, expected_v_observed_result.num_total_flat_timebins, expected_v_observed_result.is_short_track_epoch, expected_v_observed_result.is_long_track_epoch, expected_v_observed_result.short_short_diff, expected_v_observed_result.long_long_diff\n",
    "\n",
    "jonathan_firing_rate_analysis_result: JonathanFiringRateAnalysisResult = curr_active_pipeline.global_computation_results.computed_data.jonathan_firing_rate_analysis\n",
    "(epochs_df_L, epochs_df_S), (filter_epoch_spikes_df_L, filter_epoch_spikes_df_S), (good_example_epoch_indicies_L, good_example_epoch_indicies_S), (short_exclusive, long_exclusive, BOTH_subset, EITHER_subset, XOR_subset, NEITHER_subset), new_all_aclus_sort_indicies, assigning_epochs_obj = PAPER_FIGURE_figure_1_add_replay_epoch_rasters(curr_active_pipeline)\n",
    "neuron_replay_stats_df, short_exclusive, long_exclusive, BOTH_subset, EITHER_subset, XOR_subset, NEITHER_subset = jonathan_firing_rate_analysis_result.get_cell_track_partitions(frs_index_inclusion_magnitude=0.05)\n",
    "\n",
    "## Update long_exclusive/short_exclusive properties with `long_short_fr_indicies_df`\n",
    "# long_exclusive.refine_exclusivity_by_inst_frs_index(long_short_fr_indicies_df, frs_index_inclusion_magnitude=0.5)\n",
    "# short_exclusive.refine_exclusivity_by_inst_frs_index(long_short_fr_indicies_df, frs_index_inclusion_magnitude=0.5)\n"
   ]
  },
  {
   "cell_type": "code",
   "execution_count": 6,
   "id": "395e294e98e2f59e",
   "metadata": {
    "ExecuteTime": {
     "end_time": "2023-11-16T23:21:43.820890500Z",
     "start_time": "2023-11-16T23:21:43.722893300Z"
    },
    "notebookRunGroups": {
     "groupValue": "1"
    }
   },
   "outputs": [],
   "source": [
    "# Unpack all directional variables:\n",
    "## {\"even\": \"RL\", \"odd\": \"LR\"}\n",
    "long_LR_name, short_LR_name, global_LR_name, long_RL_name, short_RL_name, global_RL_name, long_any_name, short_any_name, global_any_name = ['maze1_odd', 'maze2_odd', 'maze_odd', 'maze1_even', 'maze2_even', 'maze_even', 'maze1_any', 'maze2_any', 'maze_any']\n",
    "\n",
    "# Most popular\n",
    "# long_LR_name, short_LR_name, long_RL_name, short_RL_name, global_any_name\n",
    "\n",
    "# Unpacking for `(long_LR_name, long_RL_name, short_LR_name, short_RL_name)`\n",
    "(long_LR_context, long_RL_context, short_LR_context, short_RL_context) = [curr_active_pipeline.filtered_contexts[a_name] for a_name in (long_LR_name, long_RL_name, short_LR_name, short_RL_name)]\n",
    "long_LR_epochs_obj, long_RL_epochs_obj, short_LR_epochs_obj, short_RL_epochs_obj, global_any_laps_epochs_obj = [curr_active_pipeline.computation_results[an_epoch_name].computation_config.pf_params.computation_epochs for an_epoch_name in (long_LR_name, long_RL_name, short_LR_name, short_RL_name, global_any_name)] # note has global also\n",
    "(long_LR_session, long_RL_session, short_LR_session, short_RL_session) = [curr_active_pipeline.filtered_sessions[an_epoch_name] for an_epoch_name in (long_LR_name, long_RL_name, short_LR_name, short_RL_name)] # sessions are correct at least, seems like just the computation parameters are messed up\n",
    "(long_LR_results, long_RL_results, short_LR_results, short_RL_results) = [curr_active_pipeline.computation_results[an_epoch_name].computed_data for an_epoch_name in (long_LR_name, long_RL_name, short_LR_name, short_RL_name)]\n",
    "(long_LR_computation_config, long_RL_computation_config, short_LR_computation_config, short_RL_computation_config) = [curr_active_pipeline.computation_results[an_epoch_name].computation_config for an_epoch_name in (long_LR_name, long_RL_name, short_LR_name, short_RL_name)]\n",
    "(long_LR_pf1D, long_RL_pf1D, short_LR_pf1D, short_RL_pf1D) = (long_LR_results.pf1D, long_RL_results.pf1D, short_LR_results.pf1D, short_RL_results.pf1D)\n",
    "(long_LR_pf2D, long_RL_pf2D, short_LR_pf2D, short_RL_pf2D) = (long_LR_results.pf2D, long_RL_results.pf2D, short_LR_results.pf2D, short_RL_results.pf2D)\n",
    "(long_LR_pf1D_Decoder, long_RL_pf1D_Decoder, short_LR_pf1D_Decoder, short_RL_pf1D_Decoder) = (long_LR_results.pf1D_Decoder, long_RL_results.pf1D_Decoder, short_LR_results.pf1D_Decoder, short_RL_results.pf1D_Decoder)\n"
   ]
  },
  {
   "cell_type": "code",
   "execution_count": null,
   "id": "c260739a4f36c662",
   "metadata": {},
   "outputs": [],
   "source": [
    "active_burst_intervals = curr_active_pipeline.computation_results[global_epoch_name].computed_data['burst_detection']['burst_intervals']\n",
    "# active_burst_intervals"
   ]
  },
  {
   "cell_type": "code",
   "execution_count": null,
   "id": "769a1c6006aba5b7",
   "metadata": {},
   "outputs": [],
   "source": [
    "# Relative Entropy/Surprise Results:\n",
    "active_extended_stats = global_results['extended_stats']\n",
    "active_relative_entropy_results = active_extended_stats['pf_dt_sequential_surprise'] # DynamicParameters\n",
    "historical_snapshots = active_relative_entropy_results['historical_snapshots']\n",
    "post_update_times: np.ndarray = active_relative_entropy_results['post_update_times'] # (4152,) = (n_post_update_times,)\n",
    "snapshot_differences_result_dict = active_relative_entropy_results['snapshot_differences_result_dict']\n",
    "time_intervals: np.ndarray = active_relative_entropy_results['time_intervals']\n",
    "surprise_time_bin_duration = (post_update_times[2]-post_update_times[1])\n",
    "long_short_rel_entr_curves_frames: np.ndarray = active_relative_entropy_results['long_short_rel_entr_curves_frames'] # (4152, 108, 63) = (n_post_update_times, n_neurons, n_xbins)\n",
    "short_long_rel_entr_curves_frames: np.ndarray = active_relative_entropy_results['short_long_rel_entr_curves_frames'] # (4152, 108, 63) = (n_post_update_times, n_neurons, n_xbins)\n",
    "flat_relative_entropy_results: np.ndarray = active_relative_entropy_results['flat_relative_entropy_results'] # (149, 63) - (nSnapshots, nXbins)\n",
    "flat_jensen_shannon_distance_results: np.ndarray = active_relative_entropy_results['flat_jensen_shannon_distance_results'] # (149, 63) - (nSnapshots, nXbins)\n",
    "flat_jensen_shannon_distance_across_all_positions: np.ndarray = np.sum(np.abs(flat_jensen_shannon_distance_results), axis=1) # sum across all position bins # (4152,) - (nSnapshots)\n",
    "flat_surprise_across_all_positions: np.ndarray = np.sum(np.abs(flat_relative_entropy_results), axis=1) # sum across all position bins # (4152,) - (nSnapshots)\n",
    "\n",
    "## Get the placefield dt matrix:\n",
    "if 'snapshot_occupancy_weighted_tuning_maps' not in active_relative_entropy_results:\n",
    "\t## Compute it if missing:\n",
    "\toccupancy_weighted_tuning_maps_over_time = np.stack([placefield_snapshot.occupancy_weighted_tuning_maps_matrix for placefield_snapshot in historical_snapshots.values()])\n",
    "\tactive_relative_entropy_results['snapshot_occupancy_weighted_tuning_maps'] = occupancy_weighted_tuning_maps_over_time\n",
    "else:\n",
    "\toccupancy_weighted_tuning_maps_over_time = active_relative_entropy_results['snapshot_occupancy_weighted_tuning_maps'] # (n_post_update_times, n_neurons, n_xbins)\n"
   ]
  },
  {
   "cell_type": "code",
   "execution_count": null,
   "id": "9554d3bf5955d9d3",
   "metadata": {},
   "outputs": [],
   "source": [
    "# Time-dependent\n",
    "long_pf1D_dt, short_pf1D_dt, global_pf1D_dt = long_results.pf1D_dt, short_results.pf1D_dt, global_results.pf1D_dt\n",
    "long_pf2D_dt, short_pf2D_dt, global_pf2D_dt = long_results.pf2D_dt, short_results.pf2D_dt, global_results.pf2D_dt\n",
    "global_pf1D_dt: PfND_TimeDependent = global_results.pf1D_dt\n",
    "global_pf2D_dt: PfND_TimeDependent = global_results.pf2D_dt"
   ]
  },
  {
   "cell_type": "code",
   "execution_count": null,
   "id": "8624c62d5c18c556",
   "metadata": {},
   "outputs": [],
   "source": [
    "## long_short_endcap_analysis: checks for cells localized to the endcaps that have their placefields truncated after shortening the track\n",
    "truncation_checking_result: TruncationCheckingResults = curr_active_pipeline.global_computation_results.computed_data.long_short_endcap\n",
    "disappearing_endcap_aclus = truncation_checking_result.disappearing_endcap_aclus\n",
    "# disappearing_endcap_aclus\n",
    "trivially_remapping_endcap_aclus = truncation_checking_result.minor_remapping_endcap_aclus\n",
    "# trivially_remapping_endcap_aclus\n",
    "significant_distant_remapping_endcap_aclus = truncation_checking_result.significant_distant_remapping_endcap_aclus\n",
    "# significant_distant_remapping_endcap_aclus\n",
    "appearing_aclus = jonathan_firing_rate_analysis_result.neuron_replay_stats_df[jonathan_firing_rate_analysis_result.neuron_replay_stats_df['track_membership'] == SplitPartitionMembership.RIGHT_ONLY].index\n",
    "# appearing_aclus"
   ]
  },
  {
   "cell_type": "code",
   "execution_count": null,
   "id": "aabbbaf1",
   "metadata": {},
   "outputs": [],
   "source": [
    "epoch_active_aclus = np.array([9,  26,  31,  39,  40,  43,  47,  52,  53,  54,  60,  61,  65,  68,  72,  75,  77,  78,  81,  82,  84,  85,  90,  92,  93,  98, 102])\n",
    "\n",
    "\n",
    "curr_active_pipeline.filtered_contexts['maze1_odd']\n",
    "curr_active_pipeline.computation_results['maze1_odd']"
   ]
  },
  {
   "cell_type": "code",
   "execution_count": null,
   "id": "cbf30c04",
   "metadata": {},
   "outputs": [],
   "source": [
    "curr_active_pipeline.prepare_for_display()\n",
    "curr_active_pipeline.display('_display_1d_placefields') # , 'maze1_odd'\n"
   ]
  },
  {
   "cell_type": "code",
   "execution_count": null,
   "id": "bcc832fb",
   "metadata": {},
   "outputs": [],
   "source": [
    "from pyphoplacecellanalysis.General.Mixins.ExportHelpers import programmatic_render_to_file\n",
    "\n",
    "programmatic_render_to_file(curr_active_pipeline, curr_display_function_name='_display_1d_placefields', write_vector_format=True, write_png=True, debug_print=True)"
   ]
  },
  {
   "cell_type": "code",
   "execution_count": null,
   "id": "6314950a",
   "metadata": {},
   "outputs": [],
   "source": [
    "curr_active_pipeline.reload_default_display_functions()\n",
    "curr_active_pipeline.prepare_for_display()"
   ]
  },
  {
   "cell_type": "code",
   "execution_count": null,
   "id": "b0ccab8b",
   "metadata": {},
   "outputs": [],
   "source": [
    "\n",
    "curr_active_pipeline.display('_display_1d_placefields', 'maze_any')\n"
   ]
  },
  {
   "cell_type": "code",
   "execution_count": null,
   "id": "357f844b",
   "metadata": {},
   "outputs": [],
   "source": [
    "curr_active_pipeline.display('_display_1d_placefields', 'maze_any')"
   ]
  },
  {
   "cell_type": "code",
   "execution_count": null,
   "id": "546f7639",
   "metadata": {},
   "outputs": [],
   "source": [
    "curr_active_pipeline.display('_display_placemaps_pyqtplot_2D', 'maze2_odd')"
   ]
  },
  {
   "cell_type": "code",
   "execution_count": null,
   "id": "0aaf32b0",
   "metadata": {},
   "outputs": [],
   "source": [
    "curr_active_pipeline.display('_display_1d_placefields', 'maze2_odd')"
   ]
  },
  {
   "cell_type": "code",
   "execution_count": null,
   "id": "45a6994d",
   "metadata": {},
   "outputs": [],
   "source": [
    "curr_active_pipeline.display('_display_3d_interactive_spike_and_behavior_browser', 'maze1_odd')"
   ]
  },
  {
   "cell_type": "code",
   "execution_count": null,
   "id": "971436c7",
   "metadata": {},
   "outputs": [],
   "source": []
  },
  {
   "cell_type": "code",
   "execution_count": null,
   "id": "885ecb1d",
   "metadata": {},
   "outputs": [],
   "source": [
    "_display_placemaps_pyqtplot_2D"
   ]
  },
  {
   "cell_type": "code",
   "execution_count": null,
   "id": "44a1db23",
   "metadata": {},
   "outputs": [],
   "source": [
    "curr_active_pipeline.registered_display_function_docs_dict"
   ]
  },
  {
   "cell_type": "markdown",
   "id": "37bc7dfe",
   "metadata": {},
   "source": [
    "## Set matplotlib rcparams"
   ]
  },
  {
   "cell_type": "code",
   "execution_count": null,
   "id": "40a1bcfa",
   "metadata": {},
   "outputs": [],
   "source": [
    "# plt.style.use('ggplot')\n",
    "matplotlib_configuration_update(is_interactive=True)\n",
    "from pyphoplacecellanalysis.General.Mixins.ExportHelpers import programmatic_display_to_PDF, programmatic_render_to_file\n",
    "\n",
    "\n",
    "# plt.style.use(['Solarize_Light2']) # , 'presentation'\n",
    "plt.style.use('bmh')\n",
    "\n",
    "# size=(8.5, 11)\n",
    "# fontsize=8\n",
    "# axis_color=\"#545454\"\n",
    "# axis_lw=1.2\n",
    "# tick_size=3.5\n",
    "# constrained_layout=True\n",
    "# fontname=\"Arial\"\n",
    "\n",
    "# # --- plot settings --------\n",
    "# mpl.rcParams[\"font.family\"] = fontname\n",
    "# mpl.rcParams[\"font.sans-serif\"] = \"Arial\"\n",
    "mpl.rcParams[\"pdf.fonttype\"] = 42\n",
    "mpl.rcParams[\"ps.fonttype\"] = 42\n",
    "mpl.rcParams[\"svg.fonttype\"] = \"none\"\n",
    "# mpl.rcParams[\"axes.linewidth\"] = axis_lw\n",
    "# mpl.rcParams[\"axes.labelsize\"] = fontsize\n",
    "# mpl.rcParams[\"axes.titlesize\"] = fontsize\n",
    "# mpl.rcParams[\"axes.edgecolor\"] = axis_color\n",
    "# mpl.rcParams[\"xtick.labelsize\"] = fontsize\n",
    "# mpl.rcParams[\"xtick.major.pad\"] = 2\n",
    "# mpl.rcParams[\"ytick.labelsize\"] = fontsize\n",
    "# mpl.rcParams[\"axes.spines.top\"] = False\n",
    "# mpl.rcParams[\"axes.spines.right\"] = False\n",
    "# mpl.rcParams[\"xtick.major.width\"] = axis_lw\n",
    "# # mpl.rcParams[\"axes.autolimit_mode\"] = \"round_numbers\"\n",
    "# mpl.rcParams[\"axes.ymargin\"] = 0\n",
    "# mpl.rcParams[\"xtick.major.size\"] = tick_size\n",
    "# mpl.rcParams[\"ytick.major.size\"] = tick_size\n",
    "# mpl.rcParams[\"xtick.color\"] = axis_color\n",
    "# mpl.rcParams[\"xtick.labelcolor\"] = \"k\"\n",
    "# mpl.rcParams[\"ytick.major.width\"] = axis_lw\n",
    "# mpl.rcParams[\"ytick.color\"] = axis_color\n",
    "# mpl.rcParams[\"ytick.labelcolor\"] = \"k\"\n",
    "# mpl.rcParams[\"figure.constrained_layout.use\"] = constrained_layout\n",
    "# mpl.rcParams[\"axes.prop_cycle\"] = cycler(\n",
    "# \t\"color\",\n",
    "# \t[\n",
    "# \t\t\"#5cc0eb\",\n",
    "# \t\t\"#faa49d\",\n",
    "# \t\t\"#05d69e\",\n",
    "# \t\t\"#253237\",\n",
    "# \t\t\"#ef6e4e\",\n",
    "# \t\t\"#f0a8e6\",\n",
    "# \t\t\"#aaa8f0\",\n",
    "# \t\t\"#f0a8af\",\n",
    "# \t\t\"#dfe36b\",\n",
    "# \t\t\"#825265\",\n",
    "# \t\t\"#e8594f\",\n",
    "# \t],\n",
    "# )\n",
    "# figure.titlesize\n",
    "# axes.titlesize\n",
    "# axes.labelsize\n",
    "\n",
    "mpl.rcParams[\"figure.titlesize\"] = 12\n",
    "mpl.rcParams[\"axes.titlesize\"] = 10\n",
    "mpl.rcParams[\"axes.labelsize\"] = 8\n",
    "\n",
    "# def set_pub():\n",
    "#     rcParams.update({\n",
    "#         \"font.weight\": \"bold\",  # bold fonts\n",
    "#         \"tick.labelsize\": 15,   # large tick labels\n",
    "#         \"lines.linewidth\": 1,   # thick lines\n",
    "#         \"lines.color\": \"k\",     # black lines\n",
    "#         \"grid.color\": \"0.5\",    # gray gridlines\n",
    "#         \"grid.linestyle\": \"-\",  # solid gridlines\n",
    "#         \"grid.linewidth\": 0.5,  # thin gridlines\n",
    "#         \"savefig.dpi\": 300,     # higher resolution output.\n",
    "#     })\n",
    "    \n",
    "# restore_rc()\n",
    "\n",
    "# data = np.random.randn(50)\n",
    "\n",
    "# fig = plt.plot(data)\n",
    "# plt.show()\n"
   ]
  },
  {
   "cell_type": "code",
   "execution_count": null,
   "id": "b558758b",
   "metadata": {},
   "outputs": [],
   "source": [
    "from mpl_multitab import MplMultiTab, MplMultiTab2D\n",
    "from pyphoplacecellanalysis.General.Mixins.ExportHelpers import programmatic_display_to_PDF, programmatic_render_to_file\n",
    "from pyphoplacecellanalysis.PhoPositionalData.plotting.placefield import plot_single_cell_1D_placecell_validation\n",
    "from pyphoplacecellanalysis.PhoPositionalData.plotting.placefield import plot_1d_placecell_validations\n",
    "\n",
    "\n",
    "# matplotlib_configuration_update(is_interactive=True)\n",
    "\n",
    "# curr_active_pipeline.display('_display_grid_bin_bounds_validation')\n",
    "_out = curr_active_pipeline.display('_display_1d_placefield_validations', 'maze1_odd')\n",
    "_out.ui.show()\n"
   ]
  },
  {
   "cell_type": "code",
   "execution_count": null,
   "id": "7f301b08",
   "metadata": {},
   "outputs": [],
   "source": [
    "\n",
    "programmatic_display_to_PDF(curr_active_pipeline, curr_display_function_name='_display_1d_placefield_validations', filter_name='maze1_odd', debug_print=True)\n",
    "\n",
    "# plt.show()"
   ]
  },
  {
   "cell_type": "code",
   "execution_count": null,
   "id": "ff5d7994",
   "metadata": {},
   "outputs": [],
   "source": [
    "curr_active_pipeline.display('_display_1d_placefields', 'maze1_odd')"
   ]
  },
  {
   "cell_type": "code",
   "execution_count": null,
   "id": "77344ed3",
   "metadata": {},
   "outputs": [],
   "source": [
    "curr_active_pipeline.display('_display_1d_placefields', 'maze2_even')"
   ]
  },
  {
   "cell_type": "code",
   "execution_count": null,
   "id": "a66fdc07",
   "metadata": {},
   "outputs": [],
   "source": [
    "\n",
    "#TODO 2023-11-29 09:18: - [ ] Not good, the self.filtered_contexts are not unique!\n",
    "list(curr_active_pipeline.filtered_contexts.values())\n",
    "# [IdentifyingContext<(... 'maze2')>, IdentifyingContext<(... 'maze2')>, IdentifyingContext<(..., 'maze')>, IdentifyingContext<(... 'maze2')>, IdentifyingContext<(... 'maze2')>, IdentifyingContext<(..., 'maze')>, IdentifyingContext<(...ze1_any')>, IdentifyingContext<(... 'maze2')>, IdentifyingContext<(..., 'maze')>]\n",
    "[(v == curr_active_pipeline.filtered_contexts['maze1_even']) for v in list(curr_active_pipeline.filtered_contexts.values())]\n",
    "# [True, True, False, True, True, False, False, True, False]\n",
    "# meaning `curr_active_pipeline.display('_display_1d_placefields', curr_active_pipeline.filtered_contexts['maze1_even'])` doesn't work\n",
    "curr_active_pipeline.filtered_contexts.index(curr_active_pipeline.filtered_contexts['maze1_even'])"
   ]
  },
  {
   "cell_type": "code",
   "execution_count": null,
   "id": "8c4e9d82",
   "metadata": {},
   "outputs": [],
   "source": [
    "curr_active_pipeline.display('_display_1d_placefields', 'maze2_odd')\n"
   ]
  },
  {
   "cell_type": "code",
   "execution_count": null,
   "id": "3a44c478",
   "metadata": {},
   "outputs": [],
   "source": [
    "curr_active_pipeline.filtered_contexts['maze1_even']"
   ]
  },
  {
   "cell_type": "markdown",
   "id": "1fcd14e5",
   "metadata": {},
   "source": [
    "# TODO 2023-11-27 18:20: - [ ] Generalized ordered sort"
   ]
  },
  {
   "cell_type": "code",
   "execution_count": null,
   "id": "ac58b0ca",
   "metadata": {},
   "outputs": [],
   "source": [
    "from pyphoplacecellanalysis.General.Pipeline.Stages.ComputationFunctions.MultiContextComputationFunctions.DirectionalPlacefieldGlobalComputationFunctions import DirectionalPlacefieldGlobalDisplayFunctions\n",
    "\n",
    "curr_active_pipeline.reload_default_display_functions()\n",
    "curr_active_pipeline.prepare_for_display()\n",
    "_out = curr_active_pipeline.display(DirectionalPlacefieldGlobalDisplayFunctions._display_directional_laps_overview)\n"
   ]
  },
  {
   "cell_type": "code",
   "execution_count": null,
   "id": "b38faf55",
   "metadata": {},
   "outputs": [],
   "source": [
    "\n",
    "# recieves lists of identities (such as cell aclus) and a function that returns a sortable value for each identity:\n",
    "directional_laps_results = curr_active_pipeline.global_computation_results.computed_data['DirectionalLaps']\n",
    "track_templates: TrackTemplates = directional_laps_results.get_templates(minimum_inclusion_fr_Hz=None) # non-shared-only\n",
    "decoders_dict = track_templates.get_decoders_dict() # decoders_dict = {'long_LR': track_templates.long_LR_decoder, 'long_RL': track_templates.long_RL_decoder, 'short_LR': track_templates.short_LR_decoder, 'short_RL': track_templates.short_RL_decoder, }\n",
    "\n",
    "neuron_IDs_lists = [a_decoder.neuron_IDs for a_decoder in decoders_dict.values()] # [A, B, C, D, ...]\n",
    "neuron_ID_sets = [set(a_list) for a_list in neuron_IDs_lists]\n",
    "individual_List_sort_indicies = [a_decoder.pf.ratemap.get_sort_indicies() for a_decoder in decoders_dict.values()] # [a_s, b_s, c_s, d_s, ...] individual sort indicies that can be applied to A, B, C, D, ..\n",
    "individual_sorted_neuron_IDs_lists = [a_list[a_sort] for a_list, a_sort in zip(neuron_IDs_lists, individual_List_sort_indicies)] # [A[a_s], B[b_s], C[c_s], D[d_s], ...]\n",
    "sortable_values_lists = [np.argmax(a_decoder.pf.ratemap.normalized_tuning_curves, axis=1) for a_decoder in decoders_dict.values()]\n",
    "# decoders_dict"
   ]
  },
  {
   "cell_type": "code",
   "execution_count": null,
   "id": "28d3acbe",
   "metadata": {},
   "outputs": [],
   "source": [
    "from neuropy.utils.indexing_helpers import paired_incremental_sorting\n",
    "\n",
    "# epoch_active_aclus = np.array([9,  26,  31,  39,  40,  43,  47,  52,  53,  54,  60,  61,  65,  68,  72,  75,  77,  78,  81,  82,  84,  85,  90,  92,  93,  98, 102])\n",
    "\n",
    "neuron_IDs_lists = [a_decoder.neuron_IDs for a_decoder in decoders_dict.values()] # [A, B, C, D, ...]\n",
    "sort_helper_original_neuron_id_to_IDX_dicts = [dict(zip(neuron_ids, np.arange(len(neuron_ids)))) for neuron_ids in neuron_IDs_lists] # just maps each neuron_id in the list to a fragile_linear_IDX \n",
    "sortable_values_lists = [np.argmax(a_decoder.pf.ratemap.normalized_tuning_curves, axis=1) for a_decoder in decoders_dict.values()]\n",
    "sorted_neuron_IDs_lists = paired_incremental_sorting(neuron_IDs_lists, sortable_values_lists)\n",
    "# `sort_helper_neuron_id_to_sort_IDX_dicts` dictionaries in the appropriate order (sorted order) with appropriate indexes. Its .values() can be used to index into things originally indexed with aclus.\n",
    "sort_helper_neuron_id_to_sort_IDX_dicts = [{aclu:a_sort_helper_neuron_id_to_IDX_map[aclu] for aclu in sorted_neuron_ids} for a_sort_helper_neuron_id_to_IDX_map, sorted_neuron_ids in zip(sort_helper_original_neuron_id_to_IDX_dicts, sorted_neuron_IDs_lists)]\n",
    "\n",
    "print(sorted_neuron_IDs_lists)\n"
   ]
  },
  {
   "cell_type": "code",
   "execution_count": null,
   "id": "01b05dff",
   "metadata": {},
   "outputs": [],
   "source": [
    "# If you have a set of values that can be larger than the entries in each list:\n",
    "any_list_neuron_IDs = np.sort(union_of_arrays(*neuron_IDs_lists)) # neuron_IDs as they appear in any list\n",
    "## build color values from these:\n",
    "n_neurons = len(any_list_neuron_IDs)\n",
    "_neuron_qcolors_list, neuron_colors_ndarray = DataSeriesColorHelpers.build_cell_colors(n_neurons, colormap_name='PAL-relaxed_bright', colormap_source=None)\n",
    "unit_colors_map: Dict = dict(zip(any_list_neuron_IDs, neuron_colors_ndarray.copy().T)) # Int:NDArray[(4,)] - {5: array([255, 157, 0.278431, 1]), 7: array([252.817, 175.545, 0.202502, 1]), ...}\n",
    "\n",
    "# `unit_colors_map` is main output\n",
    "# So unlike other attempts, these colors are sorted along with the aclus for each decoder, and we don't try to keep them separate. Since they're actually in a dict (where conceptually the order doesn't really matter) this should be indistinguishable performance-wise from other implementation.\n",
    "sort_helper_neuron_id_to_sort_IDX_dicts = [{aclu:unit_colors_map[aclu] for aclu in sorted_neuron_ids} for sorted_neuron_ids in sorted_neuron_IDs_lists] # [{72: array([11.2724, 145.455, 0.815335, 1]), 84: array([165, 77, 1, 1]), ...}, {72: array([11.2724, 145.455, 0.815335, 1]), 84: array([165, 77, 1, 1]), ...}, ...]\n",
    "sort_helper_neuron_id_to_sort_IDX_dicts\n",
    "# `sort_helper_neuron_id_to_sort_IDX_dicts` is main output here:\n"
   ]
  },
  {
   "cell_type": "code",
   "execution_count": null,
   "id": "604c2b18",
   "metadata": {},
   "outputs": [],
   "source": [
    "\n",
    "\n",
    "# sorted_pf_tuning_curves = [a_decoder.pf.ratemap.pdf_normalized_tuning_curves[a_sort_list, :] for a_decoder, a_sort_list in zip(decoders_dict.values(), sorted_neuron_IDs_lists)]\n",
    "\n",
    "sorted_pf_tuning_curves = [a_decoder.pf.ratemap.pdf_normalized_tuning_curves[np.array(list(a_sort_helper_neuron_id_to_IDX_dict.values())), :] for a_decoder, a_sort_helper_neuron_id_to_IDX_dict in zip(decoders_dict.values(), sort_helper_neuron_id_to_sort_IDX_dicts)]\n",
    "sorted_pf_tuning_curves"
   ]
  },
  {
   "cell_type": "code",
   "execution_count": null,
   "id": "f0fbdb06",
   "metadata": {},
   "outputs": [],
   "source": [
    "# shared_sort_IDX = _get_decoder_sorted_pfs(track_templates.long_LR_decoder)\n",
    "# track_templates.long_LR_decoder"
   ]
  },
  {
   "cell_type": "markdown",
   "id": "5a572825",
   "metadata": {},
   "source": [
    "# EVEN: \"RL\", ODD: \"LR\"\n",
    "Starts with Even (idx=0)\n",
    "- EVEN: \"RL\"\n",
    "shared_RL_aclus_only_neuron_IDs\n",
    "`is_even = (an_epoch.lap_dir == 0)`\n",
    "- ODD: \"LR\"\n",
    "shared_LR_aclus_only_neuron_IDs\n",
    "`is_odd = (an_epoch.lap_dir == 1)`"
   ]
  },
  {
   "cell_type": "markdown",
   "id": "9ac0ef2b",
   "metadata": {},
   "source": [
    "# 🟢 2023-10-20 - Z-Score Comparisons with Neuron_ID Shuffled templates\n",
    "1. Take the intersection of the long and short templates to get only the common cells\n",
    "2. Determine the long and short \"tempaltes\": this is done by ranking the aclus for each by their placefields' center of mass. `compute_placefield_center_of_masses`\n",
    "\t2a. `long_pf_peak_ranks`, `short_pf_peak_ranks` - there are one of each of these for each shared aclu.\n",
    "3. Generate the unit_id shuffled (`shuffled_aclus`, `shuffle_IDXs`) ahead of time to use to shuffle the two templates during the epochs.\n",
    "4. For each replay event, take each shuffled template\n",
    "\t4a. Iterate through each shuffle and obtain the shuffled templates like `long_pf_peak_ranks[epoch_specific_shuffled_indicies]`, `short_pf_peak_ranks[epoch_specific_shuffled_indicies]`\n",
    "\t4b. compute the spearman rank-order of the event and each shuffled template, and accumulate the results in `long_spearmanr_rank_stats_results`, `short_spearmanr_rank_stats_results`\n",
    "\n",
    "5. After we're done with the shuffle loop, accumulate the results and convert to the right output format.\n",
    "\n",
    "6. When all epochs are done, loop through the results (the epochs again) and compute the z-scores for each epoch so they can be compared to each other. Keep track of the means and std_dev for comparisons later, and subtract the two sets of z-scores (long/short) to get the delta_Z for each template.\n",
    "\n",
    "7. TODO: Next figure out what to do with the array of z-scores and delta_Z. We have:\n",
    "\tn_epochs sets of results\n",
    "\t\tn_shuffles scores of delta_Z\n",
    "\n"
   ]
  },
  {
   "cell_type": "markdown",
   "id": "87fd9d61",
   "metadata": {},
   "source": [
    "## Convo with Kamran 2023-10-23:\n",
    "- Use directional templates **\n",
    "- No need to worry about re-ranking\n",
    "[X] Plot the long and short separately in addition to the difference, so we show significant reqplay on each as a sanity check\n",
    "[X] Absolute value difference?\n",
    "[X] Fisher transform the correlation values (check if there is a difference) because correlation coefficients aren't going to be normally distributed.\n",
    "\t[ ] Then Z-score releative to fisher.\n",
    "\n",
    "- T-test to compare to mean of zero (if looking at the difference)"
   ]
  },
  {
   "cell_type": "code",
   "execution_count": null,
   "id": "419ffd4a",
   "metadata": {},
   "outputs": [],
   "source": [
    "## Concerns:\n",
    "# 1. Permutation recommended over shuffling for small numbers of ids\n",
    "# 2.\n",
    "\n",
    "# 5Hz thresholding of templates\n"
   ]
  },
  {
   "cell_type": "markdown",
   "id": "ec58689d",
   "metadata": {},
   "source": [
    "## Resume"
   ]
  },
  {
   "cell_type": "code",
   "execution_count": 7,
   "id": "fd86cb20",
   "metadata": {
    "ExecuteTime": {
     "end_time": "2023-11-16T23:22:34.093953500Z",
     "start_time": "2023-11-16T23:22:33.960957900Z"
    },
    "notebookRunGroups": {
     "groupValue": "1"
    },
    "slideshow": {
     "slide_type": "fragment"
    }
   },
   "outputs": [
    {
     "ename": "ValueError",
     "evalue": "not enough values to unpack (expected 5, got 3)",
     "output_type": "error",
     "traceback": [
      "\u001b[1;31m---------------------------------------------------------------------------\u001b[0m",
      "\u001b[1;31mValueError\u001b[0m                                Traceback (most recent call last)",
      "\u001b[1;32mc:\\Users\\pho\\repos\\Spike3DWorkEnv\\Spike3D\\ReviewOfWork_2023-12-08.ipynb Cell 50\u001b[0m line \u001b[0;36m4\n\u001b[0;32m     <a href='vscode-notebook-cell:/c%3A/Users/pho/repos/Spike3DWorkEnv/Spike3D/ReviewOfWork_2023-12-08.ipynb#Y100sZmlsZQ%3D%3D?line=36'>37</a>\u001b[0m (long_LR_pf2D, long_RL_pf2D, short_LR_pf2D, short_RL_pf2D) \u001b[39m=\u001b[39m (long_LR_results\u001b[39m.\u001b[39mpf2D, long_RL_results\u001b[39m.\u001b[39mpf2D, short_LR_results\u001b[39m.\u001b[39mpf2D, short_RL_results\u001b[39m.\u001b[39mpf2D)\n\u001b[0;32m     <a href='vscode-notebook-cell:/c%3A/Users/pho/repos/Spike3DWorkEnv/Spike3D/ReviewOfWork_2023-12-08.ipynb#Y100sZmlsZQ%3D%3D?line=37'>38</a>\u001b[0m (long_LR_pf1D_Decoder, long_RL_pf1D_Decoder, short_LR_pf1D_Decoder, short_RL_pf1D_Decoder) \u001b[39m=\u001b[39m (long_LR_results\u001b[39m.\u001b[39mpf1D_Decoder, long_RL_results\u001b[39m.\u001b[39mpf1D_Decoder, short_LR_results\u001b[39m.\u001b[39mpf1D_Decoder, short_RL_results\u001b[39m.\u001b[39mpf1D_Decoder)\n\u001b[1;32m---> <a href='vscode-notebook-cell:/c%3A/Users/pho/repos/Spike3DWorkEnv/Spike3D/ReviewOfWork_2023-12-08.ipynb#Y100sZmlsZQ%3D%3D?line=39'>40</a>\u001b[0m LR_results_real_values \u001b[39m=\u001b[39m np\u001b[39m.\u001b[39marray([(long_stats_z_scorer\u001b[39m.\u001b[39mreal_value, short_stats_z_scorer\u001b[39m.\u001b[39mreal_value) \u001b[39mfor\u001b[39;00m epoch_id, (long_stats_z_scorer, short_stats_z_scorer, long_short_z_diff, long_short_naive_z_diff, is_forward_replay) \u001b[39min\u001b[39;00m rank_order_results\u001b[39m.\u001b[39mLR_ripple\u001b[39m.\u001b[39mranked_aclus_stats_dict\u001b[39m.\u001b[39mitems()])\n        rank_order_results \u001b[1;34m= <pyphoplacecellanalysis.General.Pipeline.Stages.ComputationFunctions.MultiContextComputationFunctions.RankOrderComputations.RankOrderComputationsContainer object at 0x00000256DB8812B0>\u001b[0m\u001b[1;34m\n        \u001b[0mnp \u001b[1;34m= <module 'numpy' from 'c:\\\\Users\\\\pho\\\\repos\\\\Spike3DWorkEnv\\\\Spike3D\\\\.venv\\\\lib\\\\site-packages\\\\numpy\\\\__init__.py'>\u001b[0m\u001b[1;34m\n        \u001b[0mrank_order_results.LR_ripple.ranked_aclus_stats_dict \u001b[1;34m= {0: (<pyphoplacecellanalysis.General.Pipeline.Stages.ComputationFunctions.MultiContextComputationFunctions.RankOrderComputations.Zscorer object at 0x00000256DB881310>, <pyphoplacecellanalysis.General.Pipeline.Stages.ComputationFunctions.MultiContextComputationFunctions.RankOrderComputations.Zscorer object at 0x00000256DB881430>, -0.04189058040810045), 1: (<pyphoplacecellanalysis.General.Pipeline.Stages.ComputationFunctions.MultiContextComputationFunctions.RankOrderComputations.Zscorer object at 0x00000256DB881580>, <pyphoplacecellanalysis.General.Pipeline.Stages.ComputationFunctions.MultiContextComputationFunctions.RankOrderComputations.Zscorer object at 0x00000256DB881850>, 0.4970734760161246), 2: (<pyphoplacecellanalysis.General.Pipeline.Stages.ComputationFunctions.MultiContextComputationFunctions.RankOrderComputations.Zscorer object at 0x00000256DB881B20>, <pyphoplacecellanalysis.General.Pipeline.Stages.ComputationFunctions.MultiContextComputationFunctions.RankOrderComputations.Zscorer object at 0x00000256DB881E20>, 0.09403113599336788), 3: (<pyphoplacecellanalysis.General.Pipeline.Stages.ComputationFunctions.MultiContextComputationFunctions.RankOrderComputations.Zscorer object at 0x00000256DB881F40>, <pyphoplacecellanalysis.General.Pipeline.Stages.ComputationFunctions.MultiContextComputationFunctions.RankOrderComputations.Zscorer object at 0x00000256DB889040>, 0.5022253455692223), 4: (<pyphoplacecellanalysis.General.Pipeline.Stages.ComputationFunctions.MultiContextComputationFunctions.RankOrderComputations.Zscorer object at 0x00000256DB8893D0>, <pyphoplacecellanalysis.General.Pipeline.Stages.ComputationFunctions.MultiContextComputationFunctions.RankOrderComputations.Zscorer object at 0x00000256DB8895E0>, 0.25851689345704076), 5: (<pyphoplacecellanalysis.General.Pipeline.Stages.ComputationFunctions.MultiContextComputationFunctions.RankOrderComputations.Zscorer object at 0x00000256DB889850>, <pyphoplacecellanalysis.General.Pipeline.Stages.ComputationFunctions.MultiContextComputationFunctions.RankOrderComputations.Zscorer object at 0x00000256DB889C70>, 0.07787537260899846), 6: (<pyphoplacecellanalysis.General.Pipeline.Stages.ComputationFunctions.MultiContextComputationFunctions.RankOrderComputations.Zscorer object at 0x00000256DB891790>, <pyphoplacecellanalysis.General.Pipeline.Stages.ComputationFunctions.MultiContextComputationFunctions.RankOrderComputations.Zscorer object at 0x00000256DB891880>, -1.0710922488753252), 7: (<pyphoplacecellanalysis.General.Pipeline.Stages.ComputationFunctions.MultiContextComputationFunctions.RankOrderComputations.Zscorer object at 0x00000256DB8919A0>, <pyphoplacecellanalysis.General.Pipeline.Stages.ComputationFunctions.MultiContextComputationFunctions.RankOrderComputations.Zscorer object at 0x00000256DB891A90>, -0.5157130325050436), 8: (<pyphoplacecellanalysis.General.Pipeline.Stages.ComputationFunctions.MultiContextComputationFunctions.RankOrderComputations.Zscorer object at 0x00000256DB891C40>, <pyphoplacecellanalysis.General.Pipeline.Stages.ComputationFunctions.MultiContextComputationFunctions.RankOrderComputations.Zscorer object at 0x00000256DB891D90>, 0.0011278234311309365), 9: (<pyphoplacecellanalysis.General.Pipeline.Stages.ComputationFunctions.MultiContextComputationFunctions.RankOrderComputations.Zscorer object at 0x00000256DB891EB0>, <pyphoplacecellanalysis.General.Pipeline.Stages.ComputationFunctions.MultiContextComputationFunctions.RankOrderComputations.Zscorer object at 0x00000256DB891FA0>, 0.17392370197461868), 10: (<pyphoplacecellanalysis.General.Pipeline.Stages.ComputationFunctions.MultiContextComputationFunctions.RankOrderComputations.Zscorer object at 0x00000256DB8AA220>, <pyphoplacecellanalysis.General.Pipeline.Stages.ComputationFunctions.MultiContextComputationFunctions.RankOrderComputations.Zscorer object at 0x00000256DB8AA430>, 0.893984613904477), 11: (<pyphoplacecellanalysis.General.Pipeline.Stages.ComputationFunctions.MultiContextComputationFunctions.RankOrderComputations.Zscorer object at 0x00000256DB8AA700>, <pyphoplacecellanalysis.General.Pipeline.Stages.ComputationFunctions.MultiContextComputationFunctions.RankOrderComputations.Zscorer object at 0x00000256DB8AA790>, -0.04199156776634977), 12: (<pyphoplacecellanalysis.General.Pipeline.Stages.ComputationFunctions.MultiContextComputationFunctions.RankOrderComputations.Zscorer object at 0x00000256DB8AAB20>, <pyphoplacecellanalysis.General.Pipeline.Stages.ComputationFunctions.MultiContextComputationFunctions.RankOrderComputations.Zscorer object at 0x00000256DB8AAC10>, 0.5083137619908652), 13: (<pyphoplacecellanalysis.General.Pipeline.Stages.ComputationFunctions.MultiContextComputationFunctions.RankOrderComputations.Zscorer object at 0x00000256DB8AAEE0>, <pyphoplacecellanalysis.General.Pipeline.Stages.ComputationFunctions.MultiContextComputationFunctions.RankOrderComputations.Zscorer object at 0x00000256DB8B3070>, 0.0), 14: (<pyphoplacecellanalysis.General.Pipeline.Stages.ComputationFunctions.MultiContextComputationFunctions.RankOrderComputations.Zscorer object at 0x00000256DB8B3340>, <pyphoplacecellanalysis.General.Pipeline.Stages.ComputationFunctions.MultiContextComputationFunctions.RankOrderComputations.Zscorer object at 0x00000256DB8B3760>, -0.021937534575548145), 15: (<pyphoplacecellanalysis.General.Pipeline.Stages.ComputationFunctions.MultiContextComputationFunctions.RankOrderComputations.Zscorer object at 0x00000256DB8BD370>, <pyphoplacecellanalysis.General.Pipeline.Stages.ComputationFunctions.MultiContextComputationFunctions.RankOrderComputations.Zscorer object at 0x00000256DB8BD460>, 0.07358133666406985), 16: (<pyphoplacecellanalysis.General.Pipeline.Stages.ComputationFunctions.MultiContextComputationFunctions.RankOrderComputations.Zscorer object at 0x00000256DB8BD580>, <pyphoplacecellanalysis.General.Pipeline.Stages.ComputationFunctions.MultiContextComputationFunctions.RankOrderComputations.Zscorer object at 0x00000256DB8BD670>, -0.5011942638662705), 17: (<pyphoplacecellanalysis.General.Pipeline.Stages.ComputationFunctions.MultiContextComputationFunctions.RankOrderComputations.Zscorer object at 0x00000256DB8BD790>, <pyphoplacecellanalysis.General.Pipeline.Stages.ComputationFunctions.MultiContextComputationFunctions.RankOrderComputations.Zscorer object at 0x00000256DB8BD970>, -0.15226847579023262), 18: (<pyphoplacecellanalysis.General.Pipeline.Stages.ComputationFunctions.MultiContextComputationFunctions.RankOrderComputations.Zscorer object at 0x00000256DB8BDA90>, <pyphoplacecellanalysis.General.Pipeline.Stages.ComputationFunctions.MultiContextComputationFunctions.RankOrderComputations.Zscorer object at 0x00000256DB8BDB80>, 0.0), 19: (<pyphoplacecellanalysis.General.Pipeline.Stages.ComputationFunctions.MultiContextComputationFunctions.RankOrderComputations.Zscorer object at 0x00000256DB8BDCA0>, <pyphoplacecellanalysis.General.Pipeline.Stages.ComputationFunctions.MultiContextComputationFunctions.RankOrderComputations.Zscorer object at 0x00000256DB8BDD90>, 0.5356840762740709), 20: (<pyphoplacecellanalysis.General.Pipeline.Stages.ComputationFunctions.MultiContextComputationFunctions.RankOrderComputations.Zscorer object at 0x00000256DB8BDEB0>, <pyphoplacecellanalysis.General.Pipeline.Stages.ComputationFunctions.MultiContextComputationFunctions.RankOrderComputations.Zscorer object at 0x00000256DB8BDFA0>, 0.2814462970633236), 21: (<pyphoplacecellanalysis.General.Pipeline.Stages.ComputationFunctions.MultiContextComputationFunctions.RankOrderComputations.Zscorer object at 0x00000256DB8D2100>, <pyphoplacecellanalysis.General.Pipeline.Stages.ComputationFunctions.MultiContextComputationFunctions.RankOrderComputations.Zscorer object at 0x00000256DB8D21F0>, 0.020277624399427596), 22: (<pyphoplacecellanalysis.General.Pipeline.Stages.ComputationFunctions.MultiContextComputationFunctions.RankOrderComputations.Zscorer object at 0x00000256DB8D2310>, <pyphoplacecellanalysis.General.Pipeline.Stages.ComputationFunctions.MultiContextComputationFunctions.RankOrderComputations.Zscorer object at 0x00000256DB8D2400>, 0.0), 23: (<pyphoplacecellanalysis.General.Pipeline.Stages.ComputationFunctions.MultiContextComputationFunctions.RankOrderComputations.Zscorer object at 0x00000256DB8D2520>, <pyphoplacecellanalysis.General.Pipeline.Stages.ComputationFunctions.MultiContextComputationFunctions.RankOrderComputations.Zscorer object at 0x00000256DB8D2610>, 0.6975031220399557), 24: (<pyphoplacecellanalysis.General.Pipeline.Stages.ComputationFunctions.MultiContextComputationFunctions.RankOrderComputations.Zscorer object at 0x00000256DB8D2730>, <pyphoplacecellanalysis.General.Pipeline.Stages.ComputationFunctions.MultiContextComputationFunctions.RankOrderComputations.Zscorer object at 0x00000256DB8D2820>, -0.7779284849648636), 25: (<pyphoplacecellanalysis.General.Pipeline.Stages.ComputationFunctions.MultiContextComputationFunctions.RankOrderComputations.Zscorer object at 0x00000256DB8D2940>, <pyphoplacecellanalysis.General.Pipeline.Stages.ComputationFunctions.MultiContextComputationFunctions.RankOrderComputations.Zscorer object at 0x00000256DB8D2A30>, -0.4472991673009712), 26: (<pyphoplacecellanalysis.General.Pipeline.Stages.ComputationFunctions.MultiContextComputationFunctions.RankOrderComputations.Zscorer object at 0x00000256DB8D2B50>, <pyphoplacecellanalysis.General.Pipeline.Stages.ComputationFunctions.MultiContextComputationFunctions.RankOrderComputations.Zscorer object at 0x00000256DB8D2C70>, 0.037567733315821576), 27: (<pyphoplacecellanalysis.General.Pipeline.Stages.ComputationFunctions.MultiContextComputationFunctions.RankOrderComputations.Zscorer object at 0x00000256DB8D2DC0>, <pyphoplacecellanalysis.General.Pipeline.Stages.ComputationFunctions.MultiContextComputationFunctions.RankOrderComputations.Zscorer object at 0x00000256DB8D50A0>, 0.0), 28: (<pyphoplacecellanalysis.General.Pipeline.Stages.ComputationFunctions.MultiContextComputationFunctions.RankOrderComputations.Zscorer object at 0x00000256DB8D5430>, <pyphoplacecellanalysis.General.Pipeline.Stages.ComputationFunctions.MultiContextComputationFunctions.RankOrderComputations.Zscorer object at 0x00000256DB8D56A0>, 0.5290905005557427), 29: (<pyphoplacecellanalysis.General.Pipeline.Stages.ComputationFunctions.MultiContextComputationFunctions.RankOrderComputations.Zscorer object at 0x00000256DB8D57C0>, <pyphoplacecellanalysis.General.Pipeline.Stages.ComputationFunctions.MultiContextComputationFunctions.RankOrderComputations.Zscorer object at 0x00000256DB8D59A0>, 0.7357113518030816), 30: (<pyphoplacecellanalysis.General.Pipeline.Stages.ComputationFunctions.MultiContextComputationFunctions.RankOrderComputations.Zscorer object at 0x00000256DB8D5CA0>, <pyphoplacecellanalysis.General.Pipeline.Stages.ComputationFunctions.MultiContextComputationFunctions.RankOrderComputations.Zscorer object at 0x00000256DB8D5EB0>, 0.03527109614302759), 31: (<pyphoplacecellanalysis.General.Pipeline.Stages.ComputationFunctions.MultiContextComputationFunctions.RankOrderComputations.Zscorer object at 0x00000256DB8E12E0>, <pyphoplacecellanalysis.General.Pipeline.Stages.ComputationFunctions.MultiContextComputationFunctions.RankOrderComputations.Zscorer object at 0x00000256DB8E1700>, 0.16281825579076648), 32: (<pyphoplacecellanalysis.General.Pipeline.Stages.ComputationFunctions.MultiContextComputationFunctions.RankOrderComputations.Zscorer object at 0x00000256DB8E1940>, <pyphoplacecellanalysis.General.Pipeline.Stages.ComputationFunctions.MultiContextComputationFunctions.RankOrderComputations.Zscorer object at 0x00000256DB8E1AF0>, -0.016893279869471645), 33: (<pyphoplacecellanalysis.General.Pipeline.Stages.ComputationFunctions.MultiContextComputationFunctions.RankOrderComputations.Zscorer object at 0x00000256DB8E1F70>, <pyphoplacecellanalysis.General.Pipeline.Stages.ComputationFunctions.MultiContextComputationFunctions.RankOrderComputations.Zscorer object at 0x00000256DB8E81F0>, -0.53911627820231), 34: (<pyphoplacecellanalysis.General.Pipeline.Stages.ComputationFunctions.MultiContextComputationFunctions.RankOrderComputations.Zscorer object at 0x00000256DB8E8430>, <pyphoplacecellanalysis.General.Pipeline.Stages.ComputationFunctions.MultiContextComputationFunctions.RankOrderComputations.Zscorer object at 0x00000256DB8E85E0>, 0.20786395795917145), 35: (<pyphoplacecellanalysis.General.Pipeline.Stages.ComputationFunctions.MultiContextComputationFunctions.RankOrderComputations.Zscorer object at 0x00000256DB8E8820>, <pyphoplacecellanalysis.General.Pipeline.Stages.ComputationFunctions.MultiContextComputationFunctions.RankOrderComputations.Zscorer object at 0x00000256DB8E8A30>, -0.6469748533741865), 36: (<pyphoplacecellanalysis.General.Pipeline.Stages.ComputationFunctions.MultiContextComputationFunctions.RankOrderComputations.Zscorer object at 0x00000256DB8E8C70>, <pyphoplacecellanalysis.General.Pipeline.Stages.ComputationFunctions.MultiContextComputationFunctions.RankOrderComputations.Zscorer object at 0x00000256DB8E8E20>, -0.26707475037604467), 37: (<pyphoplacecellanalysis.General.Pipeline.Stages.ComputationFunctions.MultiContextComputationFunctions.RankOrderComputations.Zscorer object at 0x00000256DB8EC0A0>, <pyphoplacecellanalysis.General.Pipeline.Stages.ComputationFunctions.MultiContextComputationFunctions.RankOrderComputations.Zscorer object at 0x00000256DB8EC2B0>, 0.384320840434246), 38: (<pyphoplacecellanalysis.General.Pipeline.Stages.ComputationFunctions.MultiContextComputationFunctions.RankOrderComputations.Zscorer object at 0x00000256DB8EC4F0>, <pyphoplacecellanalysis.General.Pipeline.Stages.ComputationFunctions.MultiContextComputationFunctions.RankOrderComputations.Zscorer object at 0x00000256DB8EC6A0>, -0.237527651794881), 39: (<pyphoplacecellanalysis.General.Pipeline.Stages.ComputationFunctions.MultiContextComputationFunctions.RankOrderComputations.Zscorer object at 0x00000256DB8EC8E0>, <pyphoplacecellanalysis.General.Pipeline.Stages.ComputationFunctions.MultiContextComputationFunctions.RankOrderComputations.Zscorer object at 0x00000256DB8ECAF0>, 0.18116810729947164), 40: (<pyphoplacecellanalysis.General.Pipeline.Stages.ComputationFunctions.MultiContextComputationFunctions.RankOrderComputations.Zscorer object at 0x00000256DB8ECD30>, <pyphoplacecellanalysis.General.Pipeline.Stages.ComputationFunctions.MultiContextComputationFunctions.RankOrderComputations.Zscorer object at 0x00000256DB8ECEE0>, -0.2196317048668872), 41: (<pyphoplacecellanalysis.General.Pipeline.Stages.ComputationFunctions.MultiContextComputationFunctions.RankOrderComputations.Zscorer object at 0x00000256DB8F0160>, <pyphoplacecellanalysis.General.Pipeline.Stages.ComputationFunctions.MultiContextComputationFunctions.RankOrderComputations.Zscorer object at 0x00000256DB8F0370>, 0.1883553306790663), 42: (<pyphoplacecellanalysis.General.Pipeline.Stages.ComputationFunctions.MultiContextComputationFunctions.RankOrderComputations.Zscorer object at 0x00000256DB8F05B0>, <pyphoplacecellanalysis.General.Pipeline.Stages.ComputationFunctions.MultiContextComputationFunctions.RankOrderComputations.Zscorer object at 0x00000256DB8F0760>, 0.3430395172938847), 43: (<pyphoplacecellanalysis.General.Pipeline.Stages.ComputationFunctions.MultiContextComputationFunctions.RankOrderComputations.Zscorer object at 0x00000256DB8F09A0>, <pyphoplacecellanalysis.General.Pipeline.Stages.ComputationFunctions.MultiContextComputationFunctions.RankOrderComputations.Zscorer object at 0x00000256DB8F0BB0>, 0.4503893261382972), 44: (<pyphoplacecellanalysis.General.Pipeline.Stages.ComputationFunctions.MultiContextComputationFunctions.RankOrderComputations.Zscorer object at 0x00000256DB8F0DF0>, <pyphoplacecellanalysis.General.Pipeline.Stages.ComputationFunctions.MultiContextComputationFunctions.RankOrderComputations.Zscorer object at 0x00000256DB8F0FA0>, -0.0017995434106584107), 45: (<pyphoplacecellanalysis.General.Pipeline.Stages.ComputationFunctions.MultiContextComputationFunctions.RankOrderComputations.Zscorer object at 0x00000256DB8F59D0>, <pyphoplacecellanalysis.General.Pipeline.Stages.ComputationFunctions.MultiContextComputationFunctions.RankOrderComputations.Zscorer object at 0x00000256DB8F57C0>, -0.9439246630624605), 46: (<pyphoplacecellanalysis.General.Pipeline.Stages.ComputationFunctions.MultiContextComputationFunctions.RankOrderComputations.Zscorer object at 0x00000256DB8F5070>, <pyphoplacecellanalysis.General.Pipeline.Stages.ComputationFunctions.MultiContextComputationFunctions.RankOrderComputations.Zscorer object at 0x00000256DB8F5220>, -0.2516610915726564), 47: (<pyphoplacecellanalysis.General.Pipeline.Stages.ComputationFunctions.MultiContextComputationFunctions.RankOrderComputations.Zscorer object at 0x00000256DB8F5430>, <pyphoplacecellanalysis.General.Pipeline.Stages.ComputationFunctions.MultiContextComputationFunctions.RankOrderComputations.Zscorer object at 0x00000256DB8F5610>, -0.28717420330582577), 48: (<pyphoplacecellanalysis.General.Pipeline.Stages.ComputationFunctions.MultiContextComputationFunctions.RankOrderComputations.Zscorer object at 0x00000256DB8F5730>, <pyphoplacecellanalysis.General.Pipeline.Stages.ComputationFunctions.MultiContextComputationFunctions.RankOrderComputations.Zscorer object at 0x00000256DB8F5BB0>, -0.7301243773423991), 49: (<pyphoplacecellanalysis.General.Pipeline.Stages.ComputationFunctions.MultiContextComputationFunctions.RankOrderComputations.Zscorer object at 0x00000256DB8F5E20>, <pyphoplacecellanalysis.General.Pipeline.Stages.ComputationFunctions.MultiContextComputationFunctions.RankOrderComputations.Zscorer object at 0x00000256DB8F5FD0>, 0.3647297274593257), 50: (<pyphoplacecellanalysis.General.Pipeline.Stages.ComputationFunctions.MultiContextComputationFunctions.RankOrderComputations.Zscorer object at 0x00000256DB8FD250>, <pyphoplacecellanalysis.General.Pipeline.Stages.ComputationFunctions.MultiContextComputationFunctions.RankOrderComputations.Zscorer object at 0x00000256DB8FD460>, -0.3126517123555602), 51: (<pyphoplacecellanalysis.General.Pipeline.Stages.ComputationFunctions.MultiContextComputationFunctions.RankOrderComputations.Zscorer object at 0x00000256DB8FD6A0>, <pyphoplacecellanalysis.General.Pipeline.Stages.ComputationFunctions.MultiContextComputationFunctions.RankOrderComputations.Zscorer object at 0x00000256DB8FD850>, -1.426863843718599), 52: (<pyphoplacecellanalysis.General.Pipeline.Stages.ComputationFunctions.MultiContextComputationFunctions.RankOrderComputations.Zscorer object at 0x00000256DB8FDA90>, <pyphoplacecellanalysis.General.Pipeline.Stages.ComputationFunctions.MultiContextComputationFunctions.RankOrderComputations.Zscorer object at 0x00000256DB8FDCA0>, -0.06622161891331602), 53: (<pyphoplacecellanalysis.General.Pipeline.Stages.ComputationFunctions.MultiContextComputationFunctions.RankOrderComputations.Zscorer object at 0x00000256DB8FDEE0>, <pyphoplacecellanalysis.General.Pipeline.Stages.ComputationFunctions.MultiContextComputationFunctions.RankOrderComputations.Zscorer object at 0x00000256DB9010D0>, -0.1535274853783295), 54: (<pyphoplacecellanalysis.General.Pipeline.Stages.ComputationFunctions.MultiContextComputationFunctions.RankOrderComputations.Zscorer object at 0x00000256DB901310>, <pyphoplacecellanalysis.General.Pipeline.Stages.ComputationFunctions.MultiContextComputationFunctions.RankOrderComputations.Zscorer object at 0x00000256DB901520>, -0.27584117270142505), 55: (<pyphoplacecellanalysis.General.Pipeline.Stages.ComputationFunctions.MultiContextComputationFunctions.RankOrderComputations.Zscorer object at 0x00000256DB901760>, <pyphoplacecellanalysis.General.Pipeline.Stages.ComputationFunctions.MultiContextComputationFunctions.RankOrderComputations.Zscorer object at 0x00000256DB901910>, -0.039162316598793295), 56: (<pyphoplacecellanalysis.General.Pipeline.Stages.ComputationFunctions.MultiContextComputationFunctions.RankOrderComputations.Zscorer object at 0x00000256DB901B50>, <pyphoplacecellanalysis.General.Pipeline.Stages.ComputationFunctions.MultiContextComputationFunctions.RankOrderComputations.Zscorer object at 0x00000256DB901D60>, 0.8182487489655798), 57: (<pyphoplacecellanalysis.General.Pipeline.Stages.ComputationFunctions.MultiContextComputationFunctions.RankOrderComputations.Zscorer object at 0x00000256DB901FA0>, <pyphoplacecellanalysis.General.Pipeline.Stages.ComputationFunctions.MultiContextComputationFunctions.RankOrderComputations.Zscorer object at 0x00000256DB906E50>, -0.8763369147729437), 58: (<pyphoplacecellanalysis.General.Pipeline.Stages.ComputationFunctions.MultiContextComputationFunctions.RankOrderComputations.Zscorer object at 0x00000256DB906190>, <pyphoplacecellanalysis.General.Pipeline.Stages.ComputationFunctions.MultiContextComputationFunctions.RankOrderComputations.Zscorer object at 0x00000256DB9063A0>, 0.5665916252561587), 59: (<pyphoplacecellanalysis.General.Pipeline.Stages.ComputationFunctions.MultiContextComputationFunctions.RankOrderComputations.Zscorer object at 0x00000256DB9065E0>, <pyphoplacecellanalysis.General.Pipeline.Stages.ComputationFunctions.MultiContextComputationFunctions.RankOrderComputations.Zscorer object at 0x00000256DB906790>, -0.4929261672778774), 60: (<pyphoplacecellanalysis.General.Pipeline.Stages.ComputationFunctions.MultiContextComputationFunctions.RankOrderComputations.Zscorer object at 0x00000256DB9069D0>, <pyphoplacecellanalysis.General.Pipeline.Stages.ComputationFunctions.MultiContextComputationFunctions.RankOrderComputations.Zscorer object at 0x00000256DB906BE0>, -1.0479082642828272), 61: (<pyphoplacecellanalysis.General.Pipeline.Stages.ComputationFunctions.MultiContextComputationFunctions.RankOrderComputations.Zscorer object at 0x00000256DB906DF0>, <pyphoplacecellanalysis.General.Pipeline.Stages.ComputationFunctions.MultiContextComputationFunctions.RankOrderComputations.Zscorer object at 0x00000256DB906F10>, 0.6830591165575406), 62: (<pyphoplacecellanalysis.General.Pipeline.Stages.ComputationFunctions.MultiContextComputationFunctions.RankOrderComputations.Zscorer object at 0x00000256DB90B1F0>, <pyphoplacecellanalysis.General.Pipeline.Stages.ComputationFunctions.MultiContextComputationFunctions.RankOrderComputations.Zscorer object at 0x00000256DB90B130>, 0.10340479803364644), 63: (<pyphoplacecellanalysis.General.Pipeline.Stages.ComputationFunctions.MultiContextComputationFunctions.RankOrderComputations.Zscorer object at 0x00000256DB90B400>, <pyphoplacecellanalysis.General.Pipeline.Stages.ComputationFunctions.MultiContextComputationFunctions.RankOrderComputations.Zscorer object at 0x00000256DB90B610>, 0.7355356542878133), 64: (<pyphoplacecellanalysis.General.Pipeline.Stages.ComputationFunctions.MultiContextComputationFunctions.RankOrderComputations.Zscorer object at 0x00000256DB90B850>, <pyphoplacecellanalysis.General.Pipeline.Stages.ComputationFunctions.MultiContextComputationFunctions.RankOrderComputations.Zscorer object at 0x00000256DB90BA00>, -0.22147208867827217), 65: (<pyphoplacecellanalysis.General.Pipeline.Stages.ComputationFunctions.MultiContextComputationFunctions.RankOrderComputations.Zscorer object at 0x00000256DB90BC40>, <pyphoplacecellanalysis.General.Pipeline.Stages.ComputationFunctions.MultiContextComputationFunctions.RankOrderComputations.Zscorer object at 0x00000256DB90BE50>, 0.1899185470691549), 66: (<pyphoplacecellanalysis.General.Pipeline.Stages.ComputationFunctions.MultiContextComputationFunctions.RankOrderComputations.Zscorer object at 0x00000256DB9110D0>, <pyphoplacecellanalysis.General.Pipeline.Stages.ComputationFunctions.MultiContextComputationFunctions.RankOrderComputations.Zscorer object at 0x00000256DB911280>, 0.015197426829876529), 67: (<pyphoplacecellanalysis.General.Pipeline.Stages.ComputationFunctions.MultiContextComputationFunctions.RankOrderComputations.Zscorer object at 0x00000256DB9114C0>, <pyphoplacecellanalysis.General.Pipeline.Stages.ComputationFunctions.MultiContextComputationFunctions.RankOrderComputations.Zscorer object at 0x00000256DB9116D0>, 0.0), 68: (<pyphoplacecellanalysis.General.Pipeline.Stages.ComputationFunctions.MultiContextComputationFunctions.RankOrderComputations.Zscorer object at 0x00000256DB911910>, <pyphoplacecellanalysis.General.Pipeline.Stages.ComputationFunctions.MultiContextComputationFunctions.RankOrderComputations.Zscorer object at 0x00000256DB911AC0>, -0.7106338550907764), 69: (<pyphoplacecellanalysis.General.Pipeline.Stages.ComputationFunctions.MultiContextComputationFunctions.RankOrderComputations.Zscorer object at 0x00000256DB911D00>, <pyphoplacecellanalysis.General.Pipeline.Stages.ComputationFunctions.MultiContextComputationFunctions.RankOrderComputations.Zscorer object at 0x00000256DB911F10>, 1.3153484626225334), 70: (<pyphoplacecellanalysis.General.Pipeline.Stages.ComputationFunctions.MultiContextComputationFunctions.RankOrderComputations.Zscorer object at 0x00000256DB914190>, <pyphoplacecellanalysis.General.Pipeline.Stages.ComputationFunctions.MultiContextComputationFunctions.RankOrderComputations.Zscorer object at 0x00000256DB914340>, -0.9678278255195677), 71: (<pyphoplacecellanalysis.General.Pipeline.Stages.ComputationFunctions.MultiContextComputationFunctions.RankOrderComputations.Zscorer object at 0x00000256DB914580>, <pyphoplacecellanalysis.General.Pipeline.Stages.ComputationFunctions.MultiContextComputationFunctions.RankOrderComputations.Zscorer object at 0x00000256DB914790>, -0.9039415637566255), 72: (<pyphoplacecellanalysis.General.Pipeline.Stages.ComputationFunctions.MultiContextComputationFunctions.RankOrderComputations.Zscorer object at 0x00000256DB9149D0>, <pyphoplacecellanalysis.General.Pipeline.Stages.ComputationFunctions.MultiContextComputationFunctions.RankOrderComputations.Zscorer object at 0x00000256DB914B80>, -0.701889297694017), 73: (<pyphoplacecellanalysis.General.Pipeline.Stages.ComputationFunctions.MultiContextComputationFunctions.RankOrderComputations.Zscorer object at 0x00000256DB914DC0>, <pyphoplacecellanalysis.General.Pipeline.Stages.ComputationFunctions.MultiContextComputationFunctions.RankOrderComputations.Zscorer object at 0x00000256DB914FD0>, -0.06914196706302578), 74: (<pyphoplacecellanalysis.General.Pipeline.Stages.ComputationFunctions.MultiContextComputationFunctions.RankOrderComputations.Zscorer object at 0x00000256DB919F10>, <pyphoplacecellanalysis.General.Pipeline.Stages.ComputationFunctions.MultiContextComputationFunctions.RankOrderComputations.Zscorer object at 0x00000256DB919D00>, 0.8658436174556559), 75: (<pyphoplacecellanalysis.General.Pipeline.Stages.ComputationFunctions.MultiContextComputationFunctions.RankOrderComputations.Zscorer object at 0x00000256DB919040>, <pyphoplacecellanalysis.General.Pipeline.Stages.ComputationFunctions.MultiContextComputationFunctions.RankOrderComputations.Zscorer object at 0x00000256DB919250>, 0.03829955773259486), 76: (<pyphoplacecellanalysis.General.Pipeline.Stages.ComputationFunctions.MultiContextComputationFunctions.RankOrderComputations.Zscorer object at 0x00000256DB919490>, <pyphoplacecellanalysis.General.Pipeline.Stages.ComputationFunctions.MultiContextComputationFunctions.RankOrderComputations.Zscorer object at 0x00000256DB919640>, 0.5978820809383318), 77: (<pyphoplacecellanalysis.General.Pipeline.Stages.ComputationFunctions.MultiContextComputationFunctions.RankOrderComputations.Zscorer object at 0x00000256DB919880>, <pyphoplacecellanalysis.General.Pipeline.Stages.ComputationFunctions.MultiContextComputationFunctions.RankOrderComputations.Zscorer object at 0x00000256DB919A00>, 0.8859348726229042), 78: (<pyphoplacecellanalysis.General.Pipeline.Stages.ComputationFunctions.MultiContextComputationFunctions.RankOrderComputations.Zscorer object at 0x00000256DB919C10>, <pyphoplacecellanalysis.General.Pipeline.Stages.ComputationFunctions.MultiContextComputationFunctions.RankOrderComputations.Zscorer object at 0x00000256DB919D90>, -1.0480321203492167), 79: (<pyphoplacecellanalysis.General.Pipeline.Stages.ComputationFunctions.MultiContextComputationFunctions.RankOrderComputations.Zscorer object at 0x00000256DB91F220>, <pyphoplacecellanalysis.General.Pipeline.Stages.ComputationFunctions.MultiContextComputationFunctions.RankOrderComputations.Zscorer object at 0x00000256DB91F400>, -0.34638411806285063), 80: (<pyphoplacecellanalysis.General.Pipeline.Stages.ComputationFunctions.MultiContextComputationFunctions.RankOrderComputations.Zscorer object at 0x00000256DB91F640>, <pyphoplacecellanalysis.General.Pipeline.Stages.ComputationFunctions.MultiContextComputationFunctions.RankOrderComputations.Zscorer object at 0x00000256DB91F850>, -0.001358564762879988), 81: (<pyphoplacecellanalysis.General.Pipeline.Stages.ComputationFunctions.MultiContextComputationFunctions.RankOrderComputations.Zscorer object at 0x00000256DB91FA90>, <pyphoplacecellanalysis.General.Pipeline.Stages.ComputationFunctions.MultiContextComputationFunctions.RankOrderComputations.Zscorer object at 0x00000256DB91FC40>, 0.022562076293417554), 82: (<pyphoplacecellanalysis.General.Pipeline.Stages.ComputationFunctions.MultiContextComputationFunctions.RankOrderComputations.Zscorer object at 0x00000256DB91FE80>, <pyphoplacecellanalysis.General.Pipeline.Stages.ComputationFunctions.MultiContextComputationFunctions.RankOrderComputations.Zscorer object at 0x00000256DB9240D0>, -0.8848486074401788), 83: (<pyphoplacecellanalysis.General.Pipeline.Stages.ComputationFunctions.MultiContextComputationFunctions.RankOrderComputations.Zscorer object at 0x00000256DB924340>, <pyphoplacecellanalysis.General.Pipeline.Stages.ComputationFunctions.MultiContextComputationFunctions.RankOrderComputations.Zscorer object at 0x00000256DB924550>, 0.30993416734890755), 84: (<pyphoplacecellanalysis.General.Pipeline.Stages.ComputationFunctions.MultiContextComputationFunctions.RankOrderComputations.Zscorer object at 0x00000256DB924790>, <pyphoplacecellanalysis.General.Pipeline.Stages.ComputationFunctions.MultiContextComputationFunctions.RankOrderComputations.Zscorer object at 0x00000256DB924940>, 0.38009858221111004), 85: (<pyphoplacecellanalysis.General.Pipeline.Stages.ComputationFunctions.MultiContextComputationFunctions.RankOrderComputations.Zscorer object at 0x00000256DB924B80>, <pyphoplacecellanalysis.General.Pipeline.Stages.ComputationFunctions.MultiContextComputationFunctions.RankOrderComputations.Zscorer object at 0x00000256DB924D90>, 0.3148533827729814), 86: (<pyphoplacecellanalysis.General.Pipeline.Stages.ComputationFunctions.MultiContextComputationFunctions.RankOrderComputations.Zscorer object at 0x00000256DB924FD0>, <pyphoplacecellanalysis.General.Pipeline.Stages.ComputationFunctions.MultiContextComputationFunctions.RankOrderComputations.Zscorer object at 0x00000256DB9281C0>, -0.506754163061732), 87: (<pyphoplacecellanalysis.General.Pipeline.Stages.ComputationFunctions.MultiContextComputationFunctions.RankOrderComputations.Zscorer object at 0x00000256DB928400>, <pyphoplacecellanalysis.General.Pipeline.Stages.ComputationFunctions.MultiContextComputationFunctions.RankOrderComputations.Zscorer object at 0x00000256DB928610>, 0.1750906107167456), 88: (<pyphoplacecellanalysis.General.Pipeline.Stages.ComputationFunctions.MultiContextComputationFunctions.RankOrderComputations.Zscorer object at 0x00000256DB928850>, <pyphoplacecellanalysis.General.Pipeline.Stages.ComputationFunctions.MultiContextComputationFunctions.RankOrderComputations.Zscorer object at 0x00000256DB928A00>, 1.6213528524850584), 89: (<pyphoplacecellanalysis.General.Pipeline.Stages.ComputationFunctions.MultiContextComputationFunctions.RankOrderComputations.Zscorer object at 0x00000256DB928C40>, <pyphoplacecellanalysis.General.Pipeline.Stages.ComputationFunctions.MultiContextComputationFunctions.RankOrderComputations.Zscorer object at 0x00000256DB928E50>, -0.9262207695883642), 90: (<pyphoplacecellanalysis.General.Pipeline.Stages.ComputationFunctions.MultiContextComputationFunctions.RankOrderComputations.Zscorer object at 0x00000256DB92D7F0>, <pyphoplacecellanalysis.General.Pipeline.Stages.ComputationFunctions.MultiContextComputationFunctions.RankOrderComputations.Zscorer object at 0x00000256DB92D340>, 0.3737991491369086), 91: (<pyphoplacecellanalysis.General.Pipeline.Stages.ComputationFunctions.MultiContextComputationFunctions.RankOrderComputations.Zscorer object at 0x00000256DB92D640>, <pyphoplacecellanalysis.General.Pipeline.Stages.ComputationFunctions.MultiContextComputationFunctions.RankOrderComputations.Zscorer object at 0x00000256DB92D0D0>, -0.5422541071867465), 92: (<pyphoplacecellanalysis.General.Pipeline.Stages.ComputationFunctions.MultiContextComputationFunctions.RankOrderComputations.Zscorer object at 0x00000256DB92D280>, <pyphoplacecellanalysis.General.Pipeline.Stages.ComputationFunctions.MultiContextComputationFunctions.RankOrderComputations.Zscorer object at 0x00000256DB92D460>, -0.562138528853006), 93: (<pyphoplacecellanalysis.General.Pipeline.Stages.ComputationFunctions.MultiContextComputationFunctions.RankOrderComputations.Zscorer object at 0x00000256DB92D520>, <pyphoplacecellanalysis.General.Pipeline.Stages.ComputationFunctions.MultiContextComputationFunctions.RankOrderComputations.Zscorer object at 0x00000256DB92DA00>, -0.6236811610807816), 94: (<pyphoplacecellanalysis.General.Pipeline.Stages.ComputationFunctions.MultiContextComputationFunctions.RankOrderComputations.Zscorer object at 0x00000256DB92DC40>, <pyphoplacecellanalysis.General.Pipeline.Stages.ComputationFunctions.MultiContextComputationFunctions.RankOrderComputations.Zscorer object at 0x00000256DB92DE50>, -0.38294671262759883), 95: (<pyphoplacecellanalysis.General.Pipeline.Stages.ComputationFunctions.MultiContextComputationFunctions.RankOrderComputations.Zscorer object at 0x00000256DB9320D0>, <pyphoplacecellanalysis.General.Pipeline.Stages.ComputationFunctions.MultiContextComputationFunctions.RankOrderComputations.Zscorer object at 0x00000256DB932280>, -0.40309797924984264), 96: (<pyphoplacecellanalysis.General.Pipeline.Stages.ComputationFunctions.MultiContextComputationFunctions.RankOrderComputations.Zscorer object at 0x00000256DB9324C0>, <pyphoplacecellanalysis.General.Pipeline.Stages.ComputationFunctions.MultiContextComputationFunctions.RankOrderComputations.Zscorer object at 0x00000256DB9326D0>, 0.847369632853087), 97: (<pyphoplacecellanalysis.General.Pipeline.Stages.ComputationFunctions.MultiContextComputationFunctions.RankOrderComputations.Zscorer object at 0x00000256DB932910>, <pyphoplacecellanalysis.General.Pipeline.Stages.ComputationFunctions.MultiContextComputationFunctions.RankOrderComputations.Zscorer object at 0x00000256DB932AC0>, -0.6014805935876922), 98: (<pyphoplacecellanalysis.General.Pipeline.Stages.ComputationFunctions.MultiContextComputationFunctions.RankOrderComputations.Zscorer object at 0x00000256DB932D00>, <pyphoplacecellanalysis.General.Pipeline.Stages.ComputationFunctions.MultiContextComputationFunctions.RankOrderComputations.Zscorer object at 0x00000256DB932F10>, -0.6061546187539231), 99: (<pyphoplacecellanalysis.General.Pipeline.Stages.ComputationFunctions.MultiContextComputationFunctions.RankOrderComputations.Zscorer object at 0x00000256DB937190>, <pyphoplacecellanalysis.General.Pipeline.Stages.ComputationFunctions.MultiContextComputationFunctions.RankOrderComputations.Zscorer object at 0x00000256DB937340>, -0.37047385625315443), 100: (<pyphoplacecellanalysis.General.Pipeline.Stages.ComputationFunctions.MultiContextComputationFunctions.RankOrderComputations.Zscorer object at 0x00000256DB937580>, <pyphoplacecellanalysis.General.Pipeline.Stages.ComputationFunctions.MultiContextComputationFunctions.RankOrderComputations.Zscorer object at 0x00000256DB937790>, 0.241967234161985), 101: (<pyphoplacecellanalysis.General.Pipeline.Stages.ComputationFunctions.MultiContextComputationFunctions.RankOrderComputations.Zscorer object at 0x00000256DB9379D0>, <pyphoplacecellanalysis.General.Pipeline.Stages.ComputationFunctions.MultiContextComputationFunctions.RankOrderComputations.Zscorer object at 0x00000256DB937B80>, 1.0002984893561369), 102: (<pyphoplacecellanalysis.General.Pipeline.Stages.ComputationFunctions.MultiContextComputationFunctions.RankOrderComputations.Zscorer object at 0x00000256DB937DC0>, <pyphoplacecellanalysis.General.Pipeline.Stages.ComputationFunctions.MultiContextComputationFunctions.RankOrderComputations.Zscorer object at 0x00000256DB937FD0>, 0.10764806825152803), 103: (<pyphoplacecellanalysis.General.Pipeline.Stages.ComputationFunctions.MultiContextComputationFunctions.RankOrderComputations.Zscorer object at 0x00000256DB93BEE0>, <pyphoplacecellanalysis.General.Pipeline.Stages.ComputationFunctions.MultiContextComputationFunctions.RankOrderComputations.Zscorer object at 0x00000256DB93B040>, -0.35046574850001044), 104: (<pyphoplacecellanalysis.General.Pipeline.Stages.ComputationFunctions.MultiContextComputationFunctions.RankOrderComputations.Zscorer object at 0x00000256DB93B280>, <pyphoplacecellanalysis.General.Pipeline.Stages.ComputationFunctions.MultiContextComputationFunctions.RankOrderComputations.Zscorer object at 0x00000256DB93B490>, -1.5493217357472466), 105: (<pyphoplacecellanalysis.General.Pipeline.Stages.ComputationFunctions.MultiContextComputationFunctions.RankOrderComputations.Zscorer object at 0x00000256DB93B6D0>, <pyphoplacecellanalysis.General.Pipeline.Stages.ComputationFunctions.MultiContextComputationFunctions.RankOrderComputations.Zscorer object at 0x00000256DB93B880>, 0.09076398336671782), 106: (<pyphoplacecellanalysis.General.Pipeline.Stages.ComputationFunctions.MultiContextComputationFunctions.RankOrderComputations.Zscorer object at 0x00000256DB93BAC0>, <pyphoplacecellanalysis.General.Pipeline.Stages.ComputationFunctions.MultiContextComputationFunctions.RankOrderComputations.Zscorer object at 0x00000256DB93BCA0>, 0.31187187541139794), 107: (<pyphoplacecellanalysis.General.Pipeline.Stages.ComputationFunctions.MultiContextComputationFunctions.RankOrderComputations.Zscorer object at 0x00000256DB93BDF0>, <pyphoplacecellanalysis.General.Pipeline.Stages.ComputationFunctions.MultiContextComputationFunctions.RankOrderComputations.Zscorer object at 0x00000256DD313130>, 0.1189392617551146), 108: (<pyphoplacecellanalysis.General.Pipeline.Stages.ComputationFunctions.MultiContextComputationFunctions.RankOrderComputations.Zscorer object at 0x00000256DD313250>, <pyphoplacecellanalysis.General.Pipeline.Stages.ComputationFunctions.MultiContextComputationFunctions.RankOrderComputations.Zscorer object at 0x00000256DD313400>, -0.020230700937606816), 109: (<pyphoplacecellanalysis.General.Pipeline.Stages.ComputationFunctions.MultiContextComputationFunctions.RankOrderComputations.Zscorer object at 0x00000256DD313640>, <pyphoplacecellanalysis.General.Pipeline.Stages.ComputationFunctions.MultiContextComputationFunctions.RankOrderComputations.Zscorer object at 0x00000256DD313850>, -0.2881631763282992), 110: (<pyphoplacecellanalysis.General.Pipeline.Stages.ComputationFunctions.MultiContextComputationFunctions.RankOrderComputations.Zscorer object at 0x00000256DD313A90>, <pyphoplacecellanalysis.General.Pipeline.Stages.ComputationFunctions.MultiContextComputationFunctions.RankOrderComputations.Zscorer object at 0x00000256DD313C40>, 0.17763244671423745), 111: (<pyphoplacecellanalysis.General.Pipeline.Stages.ComputationFunctions.MultiContextComputationFunctions.RankOrderComputations.Zscorer object at 0x00000256DD313E80>, <pyphoplacecellanalysis.General.Pipeline.Stages.ComputationFunctions.MultiContextComputationFunctions.RankOrderComputations.Zscorer object at 0x00000256DD3170D0>, 0.033875675924090354), 112: (<pyphoplacecellanalysis.General.Pipeline.Stages.ComputationFunctions.MultiContextComputationFunctions.RankOrderComputations.Zscorer object at 0x00000256DD317310>, <pyphoplacecellanalysis.General.Pipeline.Stages.ComputationFunctions.MultiContextComputationFunctions.RankOrderComputations.Zscorer object at 0x00000256DD3174C0>, -1.081639774697333), 113: (<pyphoplacecellanalysis.General.Pipeline.Stages.ComputationFunctions.MultiContextComputationFunctions.RankOrderComputations.Zscorer object at 0x00000256DD317700>, <pyphoplacecellanalysis.General.Pipeline.Stages.ComputationFunctions.MultiContextComputationFunctions.RankOrderComputations.Zscorer object at 0x00000256DD317910>, 0.11168232665462893), 114: (<pyphoplacecellanalysis.General.Pipeline.Stages.ComputationFunctions.MultiContextComputationFunctions.RankOrderComputations.Zscorer object at 0x00000256DD317B50>, <pyphoplacecellanalysis.General.Pipeline.Stages.ComputationFunctions.MultiContextComputationFunctions.RankOrderComputations.Zscorer object at 0x00000256DD317D00>, 0.6401530896423324), 115: (<pyphoplacecellanalysis.General.Pipeline.Stages.ComputationFunctions.MultiContextComputationFunctions.RankOrderComputations.Zscorer object at 0x00000256DD317F40>, <pyphoplacecellanalysis.General.Pipeline.Stages.ComputationFunctions.MultiContextComputationFunctions.RankOrderComputations.Zscorer object at 0x00000256DD31B190>, 0.6860630797875655), 116: (<pyphoplacecellanalysis.General.Pipeline.Stages.ComputationFunctions.MultiContextComputationFunctions.RankOrderComputations.Zscorer object at 0x00000256DD31B3D0>, <pyphoplacecellanalysis.General.Pipeline.Stages.ComputationFunctions.MultiContextComputationFunctions.RankOrderComputations.Zscorer object at 0x00000256DD31B580>, -0.42091484864643847), 117: (<pyphoplacecellanalysis.General.Pipeline.Stages.ComputationFunctions.MultiContextComputationFunctions.RankOrderComputations.Zscorer object at 0x00000256DD31B7C0>, <pyphoplacecellanalysis.General.Pipeline.Stages.ComputationFunctions.MultiContextComputationFunctions.RankOrderComputations.Zscorer object at 0x00000256DD31B9D0>, 0.056460570266954724), 118: (<pyphoplacecellanalysis.General.Pipeline.Stages.ComputationFunctions.MultiContextComputationFunctions.RankOrderComputations.Zscorer object at 0x00000256DD31BC10>, <pyphoplacecellanalysis.General.Pipeline.Stages.ComputationFunctions.MultiContextComputationFunctions.RankOrderComputations.Zscorer object at 0x00000256DD31BDC0>, 1.1859647387068124), 119: (<pyphoplacecellanalysis.General.Pipeline.Stages.ComputationFunctions.MultiContextComputationFunctions.RankOrderComputations.Zscorer object at 0x00000256DD31F850>, <pyphoplacecellanalysis.General.Pipeline.Stages.ComputationFunctions.MultiContextComputationFunctions.RankOrderComputations.Zscorer object at 0x00000256DD31FCD0>, 1.4966873091594275), 120: (<pyphoplacecellanalysis.General.Pipeline.Stages.ComputationFunctions.MultiContextComputationFunctions.RankOrderComputations.Zscorer object at 0x00000256DD31FB20>, <pyphoplacecellanalysis.General.Pipeline.Stages.ComputationFunctions.MultiContextComputationFunctions.RankOrderComputations.Zscorer object at 0x00000256DD31F040>, -0.039766176332883596), 121: (<pyphoplacecellanalysis.General.Pipeline.Stages.ComputationFunctions.MultiContextComputationFunctions.RankOrderComputations.Zscorer object at 0x00000256DD31F280>, <pyphoplacecellanalysis.General.Pipeline.Stages.ComputationFunctions.MultiContextComputationFunctions.RankOrderComputations.Zscorer object at 0x00000256DD31F490>, -0.5341159913393967), 122: (<pyphoplacecellanalysis.General.Pipeline.Stages.ComputationFunctions.MultiContextComputationFunctions.RankOrderComputations.Zscorer object at 0x00000256DD31F6D0>, <pyphoplacecellanalysis.General.Pipeline.Stages.ComputationFunctions.MultiContextComputationFunctions.RankOrderComputations.Zscorer object at 0x00000256DD31F8B0>, 0.09616598708424862), 123: (<pyphoplacecellanalysis.General.Pipeline.Stages.ComputationFunctions.MultiContextComputationFunctions.RankOrderComputations.Zscorer object at 0x00000256DD31FA00>, <pyphoplacecellanalysis.General.Pipeline.Stages.ComputationFunctions.MultiContextComputationFunctions.RankOrderComputations.Zscorer object at 0x00000256DD31FB50>, -0.8391382363556591), 124: (<pyphoplacecellanalysis.General.Pipeline.Stages.ComputationFunctions.MultiContextComputationFunctions.RankOrderComputations.Zscorer object at 0x00000256DD325040>, <pyphoplacecellanalysis.General.Pipeline.Stages.ComputationFunctions.MultiContextComputationFunctions.RankOrderComputations.Zscorer object at 0x00000256DD325250>, -0.3011236373631825), 125: (<pyphoplacecellanalysis.General.Pipeline.Stages.ComputationFunctions.MultiContextComputationFunctions.RankOrderComputations.Zscorer object at 0x00000256DD325490>, <pyphoplacecellanalysis.General.Pipeline.Stages.ComputationFunctions.MultiContextComputationFunctions.RankOrderComputations.Zscorer object at 0x00000256DD325640>, 0.5649279514025929), 126: (<pyphoplacecellanalysis.General.Pipeline.Stages.ComputationFunctions.MultiContextComputationFunctions.RankOrderComputations.Zscorer object at 0x00000256DD325880>, <pyphoplacecellanalysis.General.Pipeline.Stages.ComputationFunctions.MultiContextComputationFunctions.RankOrderComputations.Zscorer object at 0x00000256DD325A90>, 0.492825609033017), 127: (<pyphoplacecellanalysis.General.Pipeline.Stages.ComputationFunctions.MultiContextComputationFunctions.RankOrderComputations.Zscorer object at 0x00000256DD325CD0>, <pyphoplacecellanalysis.General.Pipeline.Stages.ComputationFunctions.MultiContextComputationFunctions.RankOrderComputations.Zscorer object at 0x00000256DD325E80>, 0.24339022775730007), 128: (<pyphoplacecellanalysis.General.Pipeline.Stages.ComputationFunctions.MultiContextComputationFunctions.RankOrderComputations.Zscorer object at 0x00000256DD32A100>, <pyphoplacecellanalysis.General.Pipeline.Stages.ComputationFunctions.MultiContextComputationFunctions.RankOrderComputations.Zscorer object at 0x00000256DD32A310>, -0.14076264091756308), 129: (<pyphoplacecellanalysis.General.Pipeline.Stages.ComputationFunctions.MultiContextComputationFunctions.RankOrderComputations.Zscorer object at 0x00000256DD32A550>, <pyphoplacecellanalysis.General.Pipeline.Stages.ComputationFunctions.MultiContextComputationFunctions.RankOrderComputations.Zscorer object at 0x00000256DD32A700>, -0.520399080744643), 130: (<pyphoplacecellanalysis.General.Pipeline.Stages.ComputationFunctions.MultiContextComputationFunctions.RankOrderComputations.Zscorer object at 0x00000256DD32A940>, <pyphoplacecellanalysis.General.Pipeline.Stages.ComputationFunctions.MultiContextComputationFunctions.RankOrderComputations.Zscorer object at 0x00000256DD32AB50>, -0.42205821886476175), 131: (<pyphoplacecellanalysis.General.Pipeline.Stages.ComputationFunctions.MultiContextComputationFunctions.RankOrderComputations.Zscorer object at 0x00000256DD32AD90>, <pyphoplacecellanalysis.General.Pipeline.Stages.ComputationFunctions.MultiContextComputationFunctions.RankOrderComputations.Zscorer object at 0x00000256DD32AF40>, 0.050134865549765206), 132: (<pyphoplacecellanalysis.General.Pipeline.Stages.ComputationFunctions.MultiContextComputationFunctions.RankOrderComputations.Zscorer object at 0x00000256DD32E1C0>, <pyphoplacecellanalysis.General.Pipeline.Stages.ComputationFunctions.MultiContextComputationFunctions.RankOrderComputations.Zscorer object at 0x00000256DD32E3D0>, 0.009163480469790652), 133: (<pyphoplacecellanalysis.General.Pipeline.Stages.ComputationFunctions.MultiContextComputationFunctions.RankOrderComputations.Zscorer object at 0x00000256DD32E610>, <pyphoplacecellanalysis.General.Pipeline.Stages.ComputationFunctions.MultiContextComputationFunctions.RankOrderComputations.Zscorer object at 0x00000256DD32E7C0>, 0.08463022920002788), 134: (<pyphoplacecellanalysis.General.Pipeline.Stages.ComputationFunctions.MultiContextComputationFunctions.RankOrderComputations.Zscorer object at 0x00000256DD32EA00>, <pyphoplacecellanalysis.General.Pipeline.Stages.ComputationFunctions.MultiContextComputationFunctions.RankOrderComputations.Zscorer object at 0x00000256DD32EC10>, 0.1897603325615808), 135: (<pyphoplacecellanalysis.General.Pipeline.Stages.ComputationFunctions.MultiContextComputationFunctions.RankOrderComputations.Zscorer object at 0x00000256DD32EE50>, <pyphoplacecellanalysis.General.Pipeline.Stages.ComputationFunctions.MultiContextComputationFunctions.RankOrderComputations.Zscorer object at 0x00000256DD333B50>, -0.8601189640053811), 136: (<pyphoplacecellanalysis.General.Pipeline.Stages.ComputationFunctions.MultiContextComputationFunctions.RankOrderComputations.Zscorer object at 0x00000256DD333F40>, <pyphoplacecellanalysis.General.Pipeline.Stages.ComputationFunctions.MultiContextComputationFunctions.RankOrderComputations.Zscorer object at 0x00000256DD333EE0>, -0.011330230614436054), 137: (<pyphoplacecellanalysis.General.Pipeline.Stages.ComputationFunctions.MultiContextComputationFunctions.RankOrderComputations.Zscorer object at 0x00000256DD333190>, <pyphoplacecellanalysis.General.Pipeline.Stages.ComputationFunctions.MultiContextComputationFunctions.RankOrderComputations.Zscorer object at 0x00000256DD333340>, 0.33992382938048127), 138: (<pyphoplacecellanalysis.General.Pipeline.Stages.ComputationFunctions.MultiContextComputationFunctions.RankOrderComputations.Zscorer object at 0x00000256DD333580>, <pyphoplacecellanalysis.General.Pipeline.Stages.ComputationFunctions.MultiContextComputationFunctions.RankOrderComputations.Zscorer object at 0x00000256DD333790>, -0.18350817515428253), 139: (<pyphoplacecellanalysis.General.Pipeline.Stages.ComputationFunctions.MultiContextComputationFunctions.RankOrderComputations.Zscorer object at 0x00000256DD3339D0>, <pyphoplacecellanalysis.General.Pipeline.Stages.ComputationFunctions.MultiContextComputationFunctions.RankOrderComputations.Zscorer object at 0x00000256DD333BB0>, 0.5387372182339631), 140: (<pyphoplacecellanalysis.General.Pipeline.Stages.ComputationFunctions.MultiContextComputationFunctions.RankOrderComputations.Zscorer object at 0x00000256DD333D00>, <pyphoplacecellanalysis.General.Pipeline.Stages.ComputationFunctions.MultiContextComputationFunctions.RankOrderComputations.Zscorer object at 0x00000256DD333E50>, 0.0017743840559190094), 141: (<pyphoplacecellanalysis.General.Pipeline.Stages.ComputationFunctions.MultiContextComputationFunctions.RankOrderComputations.Zscorer object at 0x00000256DD339280>, <pyphoplacecellanalysis.General.Pipeline.Stages.ComputationFunctions.MultiContextComputationFunctions.RankOrderComputations.Zscorer object at 0x00000256DD339490>, 1.6339481924447827), 142: (<pyphoplacecellanalysis.General.Pipeline.Stages.ComputationFunctions.MultiContextComputationFunctions.RankOrderComputations.Zscorer object at 0x00000256DD3396D0>, <pyphoplacecellanalysis.General.Pipeline.Stages.ComputationFunctions.MultiContextComputationFunctions.RankOrderComputations.Zscorer object at 0x00000256DD339880>, -1.4226870475286304), 143: (<pyphoplacecellanalysis.General.Pipeline.Stages.ComputationFunctions.MultiContextComputationFunctions.RankOrderComputations.Zscorer object at 0x00000256DD339AC0>, <pyphoplacecellanalysis.General.Pipeline.Stages.ComputationFunctions.MultiContextComputationFunctions.RankOrderComputations.Zscorer object at 0x00000256DD339CD0>, 0.8725137650521881), 144: (<pyphoplacecellanalysis.General.Pipeline.Stages.ComputationFunctions.MultiContextComputationFunctions.RankOrderComputations.Zscorer object at 0x00000256DD339F10>, <pyphoplacecellanalysis.General.Pipeline.Stages.ComputationFunctions.MultiContextComputationFunctions.RankOrderComputations.Zscorer object at 0x00000256DD33D100>, -0.5599169413663424), 145: (<pyphoplacecellanalysis.General.Pipeline.Stages.ComputationFunctions.MultiContextComputationFunctions.RankOrderComputations.Zscorer object at 0x00000256DD33D340>, <pyphoplacecellanalysis.General.Pipeline.Stages.ComputationFunctions.MultiContextComputationFunctions.RankOrderComputations.Zscorer object at 0x00000256DD33D550>, -0.139937749556031), 146: (<pyphoplacecellanalysis.General.Pipeline.Stages.ComputationFunctions.MultiContextComputationFunctions.RankOrderComputations.Zscorer object at 0x00000256DD33D790>, <pyphoplacecellanalysis.General.Pipeline.Stages.ComputationFunctions.MultiContextComputationFunctions.RankOrderComputations.Zscorer object at 0x00000256DD33D940>, -0.8205603460577651), 147: (<pyphoplacecellanalysis.General.Pipeline.Stages.ComputationFunctions.MultiContextComputationFunctions.RankOrderComputations.Zscorer object at 0x00000256DD33DB80>, <pyphoplacecellanalysis.General.Pipeline.Stages.ComputationFunctions.MultiContextComputationFunctions.RankOrderComputations.Zscorer object at 0x00000256DD33DD90>, -0.3723143255705179), 148: (<pyphoplacecellanalysis.General.Pipeline.Stages.ComputationFunctions.MultiContextComputationFunctions.RankOrderComputations.Zscorer object at 0x00000256DD33DFD0>, <pyphoplacecellanalysis.General.Pipeline.Stages.ComputationFunctions.MultiContextComputationFunctions.RankOrderComputations.Zscorer object at 0x00000256DD3411C0>, -0.22698115928811258), 149: (<pyphoplacecellanalysis.General.Pipeline.Stages.ComputationFunctions.MultiContextComputationFunctions.RankOrderComputations.Zscorer object at 0x00000256DD341400>, <pyphoplacecellanalysis.General.Pipeline.Stages.ComputationFunctions.MultiContextComputationFunctions.RankOrderComputations.Zscorer object at 0x00000256DD341610>, 0.13763666265143393), 150: (<pyphoplacecellanalysis.General.Pipeline.Stages.ComputationFunctions.MultiContextComputationFunctions.RankOrderComputations.Zscorer object at 0x00000256DD341850>, <pyphoplacecellanalysis.General.Pipeline.Stages.ComputationFunctions.MultiContextComputationFunctions.RankOrderComputations.Zscorer object at 0x00000256DD341A00>, 0.09583392596022755), 151: (<pyphoplacecellanalysis.General.Pipeline.Stages.ComputationFunctions.MultiContextComputationFunctions.RankOrderComputations.Zscorer object at 0x00000256DD341C40>, <pyphoplacecellanalysis.General.Pipeline.Stages.ComputationFunctions.MultiContextComputationFunctions.RankOrderComputations.Zscorer object at 0x00000256DD341E50>, -0.5583347672239702), 152: (<pyphoplacecellanalysis.General.Pipeline.Stages.ComputationFunctions.MultiContextComputationFunctions.RankOrderComputations.Zscorer object at 0x00000256DD346DC0>, <pyphoplacecellanalysis.General.Pipeline.Stages.ComputationFunctions.MultiContextComputationFunctions.RankOrderComputations.Zscorer object at 0x00000256DD3460D0>, 0.36907129964277624), 153: (<pyphoplacecellanalysis.General.Pipeline.Stages.ComputationFunctions.MultiContextComputationFunctions.RankOrderComputations.Zscorer object at 0x00000256DD346310>, <pyphoplacecellanalysis.General.Pipeline.Stages.ComputationFunctions.MultiContextComputationFunctions.RankOrderComputations.Zscorer object at 0x00000256DD3464C0>, -0.5115115390396564), 154: (<pyphoplacecellanalysis.General.Pipeline.Stages.ComputationFunctions.MultiContextComputationFunctions.RankOrderComputations.Zscorer object at 0x00000256DD346700>, <pyphoplacecellanalysis.General.Pipeline.Stages.ComputationFunctions.MultiContextComputationFunctions.RankOrderComputations.Zscorer object at 0x00000256DD346910>, -1.1089810186069178), 155: (<pyphoplacecellanalysis.General.Pipeline.Stages.ComputationFunctions.MultiContextComputationFunctions.RankOrderComputations.Zscorer object at 0x00000256DD346B50>, <pyphoplacecellanalysis.General.Pipeline.Stages.ComputationFunctions.MultiContextComputationFunctions.RankOrderComputations.Zscorer object at 0x00000256DD346CD0>, -0.21967034510998668), 156: (<pyphoplacecellanalysis.General.Pipeline.Stages.ComputationFunctions.MultiContextComputationFunctions.RankOrderComputations.Zscorer object at 0x00000256DD346EE0>, <pyphoplacecellanalysis.General.Pipeline.Stages.ComputationFunctions.MultiContextComputationFunctions.RankOrderComputations.Zscorer object at 0x00000256DD34A2B0>, -0.2603261818272693), 157: (<pyphoplacecellanalysis.General.Pipeline.Stages.ComputationFunctions.MultiContextComputationFunctions.RankOrderComputations.Zscorer object at 0x00000256DD34A040>, <pyphoplacecellanalysis.General.Pipeline.Stages.ComputationFunctions.MultiContextComputationFunctions.RankOrderComputations.Zscorer object at 0x00000256DD34A070>, 0.016760831677217425), 158: (<pyphoplacecellanalysis.General.Pipeline.Stages.ComputationFunctions.MultiContextComputationFunctions.RankOrderComputations.Zscorer object at 0x00000256DD34A4C0>, <pyphoplacecellanalysis.General.Pipeline.Stages.ComputationFunctions.MultiContextComputationFunctions.RankOrderComputations.Zscorer object at 0x00000256DD34A6D0>, 0.11512213566556806), 159: (<pyphoplacecellanalysis.General.Pipeline.Stages.ComputationFunctions.MultiContextComputationFunctions.RankOrderComputations.Zscorer object at 0x00000256DD34A910>, <pyphoplacecellanalysis.General.Pipeline.Stages.ComputationFunctions.MultiContextComputationFunctions.RankOrderComputations.Zscorer object at 0x00000256DD34AAC0>, -0.766820324068967), 160: (<pyphoplacecellanalysis.General.Pipeline.Stages.ComputationFunctions.MultiContextComputationFunctions.RankOrderComputations.Zscorer object at 0x00000256DD34AD00>, <pyphoplacecellanalysis.General.Pipeline.Stages.ComputationFunctions.MultiContextComputationFunctions.RankOrderComputations.Zscorer object at 0x00000256DD34AF10>, -0.08542842105495257), 161: (<pyphoplacecellanalysis.General.Pipeline.Stages.ComputationFunctions.MultiContextComputationFunctions.RankOrderComputations.Zscorer object at 0x00000256DD351190>, <pyphoplacecellanalysis.General.Pipeline.Stages.ComputationFunctions.MultiContextComputationFunctions.RankOrderComputations.Zscorer object at 0x00000256DD351340>, -0.23905038775451948), 162: (<pyphoplacecellanalysis.General.Pipeline.Stages.ComputationFunctions.MultiContextComputationFunctions.RankOrderComputations.Zscorer object at 0x00000256DD351580>, <pyphoplacecellanalysis.General.Pipeline.Stages.ComputationFunctions.MultiContextComputationFunctions.RankOrderComputations.Zscorer object at 0x00000256DD351790>, 0.09542626358665696), 163: (<pyphoplacecellanalysis.General.Pipeline.Stages.ComputationFunctions.MultiContextComputationFunctions.RankOrderComputations.Zscorer object at 0x00000256DD3519D0>, <pyphoplacecellanalysis.General.Pipeline.Stages.ComputationFunctions.MultiContextComputationFunctions.RankOrderComputations.Zscorer object at 0x00000256DD351B80>, -0.8414628689373611), 164: (<pyphoplacecellanalysis.General.Pipeline.Stages.ComputationFunctions.MultiContextComputationFunctions.RankOrderComputations.Zscorer object at 0x00000256DD351DC0>, <pyphoplacecellanalysis.General.Pipeline.Stages.ComputationFunctions.MultiContextComputationFunctions.RankOrderComputations.Zscorer object at 0x00000256DD351FD0>, -0.22255734621720724), 165: (<pyphoplacecellanalysis.General.Pipeline.Stages.ComputationFunctions.MultiContextComputationFunctions.RankOrderComputations.Zscorer object at 0x00000256DD355250>, <pyphoplacecellanalysis.General.Pipeline.Stages.ComputationFunctions.MultiContextComputationFunctions.RankOrderComputations.Zscorer object at 0x00000256DD355400>, -0.8707525875415736), 166: (<pyphoplacecellanalysis.General.Pipeline.Stages.ComputationFunctions.MultiContextComputationFunctions.RankOrderComputations.Zscorer object at 0x00000256DD355640>, <pyphoplacecellanalysis.General.Pipeline.Stages.ComputationFunctions.MultiContextComputationFunctions.RankOrderComputations.Zscorer object at 0x00000256DD355850>, -0.9230881453817275), 167: (<pyphoplacecellanalysis.General.Pipeline.Stages.ComputationFunctions.MultiContextComputationFunctions.RankOrderComputations.Zscorer object at 0x00000256DD355A90>, <pyphoplacecellanalysis.General.Pipeline.Stages.ComputationFunctions.MultiContextComputationFunctions.RankOrderComputations.Zscorer object at 0x00000256DD355C40>, 0.9068556185126669), 168: (<pyphoplacecellanalysis.General.Pipeline.Stages.ComputationFunctions.MultiContextComputationFunctions.RankOrderComputations.Zscorer object at 0x00000256DD355E80>, <pyphoplacecellanalysis.General.Pipeline.Stages.ComputationFunctions.MultiContextComputationFunctions.RankOrderComputations.Zscorer object at 0x00000256DD3580D0>, 0.25810920343647714), 169: (<pyphoplacecellanalysis.General.Pipeline.Stages.ComputationFunctions.MultiContextComputationFunctions.RankOrderComputations.Zscorer object at 0x00000256DD358310>, <pyphoplacecellanalysis.General.Pipeline.Stages.ComputationFunctions.MultiContextComputationFunctions.RankOrderComputations.Zscorer object at 0x00000256DD3584C0>, -0.43695900107743846), 170: (<pyphoplacecellanalysis.General.Pipeline.Stages.ComputationFunctions.MultiContextComputationFunctions.RankOrderComputations.Zscorer object at 0x00000256DD358700>, <pyphoplacecellanalysis.General.Pipeline.Stages.ComputationFunctions.MultiContextComputationFunctions.RankOrderComputations.Zscorer object at 0x00000256DD358910>, 0.33965518349722323), 171: (<pyphoplacecellanalysis.General.Pipeline.Stages.ComputationFunctions.MultiContextComputationFunctions.RankOrderComputations.Zscorer object at 0x00000256DD358B50>, <pyphoplacecellanalysis.General.Pipeline.Stages.ComputationFunctions.MultiContextComputationFunctions.RankOrderComputations.Zscorer object at 0x00000256DD358D00>, 0.18044233612927724), 172: (<pyphoplacecellanalysis.General.Pipeline.Stages.ComputationFunctions.MultiContextComputationFunctions.RankOrderComputations.Zscorer object at 0x00000256DD358F40>, <pyphoplacecellanalysis.General.Pipeline.Stages.ComputationFunctions.MultiContextComputationFunctions.RankOrderComputations.Zscorer object at 0x00000256DD35C7C0>, -1.3504216625503327), 173: (<pyphoplacecellanalysis.General.Pipeline.Stages.ComputationFunctions.MultiContextComputationFunctions.RankOrderComputations.Zscorer object at 0x00000256DD35C400>, <pyphoplacecellanalysis.General.Pipeline.Stages.ComputationFunctions.MultiContextComputationFunctions.RankOrderComputations.Zscorer object at 0x00000256DD35C550>, -0.4288551357964253), 174: (<pyphoplacecellanalysis.General.Pipeline.Stages.ComputationFunctions.MultiContextComputationFunctions.RankOrderComputations.Zscorer object at 0x00000256DD35C1C0>, <pyphoplacecellanalysis.General.Pipeline.Stages.ComputationFunctions.MultiContextComputationFunctions.RankOrderComputations.Zscorer object at 0x00000256DD35C3A0>, -0.5136138571859566), 175: (<pyphoplacecellanalysis.General.Pipeline.Stages.ComputationFunctions.MultiContextComputationFunctions.RankOrderComputations.Zscorer object at 0x00000256DD35C4F0>, <pyphoplacecellanalysis.General.Pipeline.Stages.ComputationFunctions.MultiContextComputationFunctions.RankOrderComputations.Zscorer object at 0x00000256DD35C520>, -0.3426722396510816), 176: (<pyphoplacecellanalysis.General.Pipeline.Stages.ComputationFunctions.MultiContextComputationFunctions.RankOrderComputations.Zscorer object at 0x00000256DD35CB50>, <pyphoplacecellanalysis.General.Pipeline.Stages.ComputationFunctions.MultiContextComputationFunctions.RankOrderComputations.Zscorer object at 0x00000256DD35CDF0>, -0.4216164232797497), 177: (<pyphoplacecellanalysis.General.Pipeline.Stages.ComputationFunctions.MultiContextComputationFunctions.RankOrderComputations.Zscorer object at 0x00000256DD366340>, <pyphoplacecellanalysis.General.Pipeline.Stages.ComputationFunctions.MultiContextComputationFunctions.RankOrderComputations.Zscorer object at 0x00000256DD366460>, -0.32220893184406485), 178: (<pyphoplacecellanalysis.General.Pipeline.Stages.ComputationFunctions.MultiContextComputationFunctions.RankOrderComputations.Zscorer object at 0x00000256DD3665E0>, <pyphoplacecellanalysis.General.Pipeline.Stages.ComputationFunctions.MultiContextComputationFunctions.RankOrderComputations.Zscorer object at 0x00000256DD366730>, -0.3408015940450463), 179: (<pyphoplacecellanalysis.General.Pipeline.Stages.ComputationFunctions.MultiContextComputationFunctions.RankOrderComputations.Zscorer object at 0x00000256DD3668B0>, <pyphoplacecellanalysis.General.Pipeline.Stages.ComputationFunctions.MultiContextComputationFunctions.RankOrderComputations.Zscorer object at 0x00000256DD366A00>, 0.5276847532487863), 180: (<pyphoplacecellanalysis.General.Pipeline.Stages.ComputationFunctions.MultiContextComputationFunctions.RankOrderComputations.Zscorer object at 0x00000256DD366B80>, <pyphoplacecellanalysis.General.Pipeline.Stages.ComputationFunctions.MultiContextComputationFunctions.RankOrderComputations.Zscorer object at 0x00000256DD366CD0>, -0.11025628773575935), 181: (<pyphoplacecellanalysis.General.Pipeline.Stages.ComputationFunctions.MultiContextComputationFunctions.RankOrderComputations.Zscorer object at 0x00000256DD366E50>, <pyphoplacecellanalysis.General.Pipeline.Stages.ComputationFunctions.MultiContextComputationFunctions.RankOrderComputations.Zscorer object at 0x00000256DD366FA0>, 0.4609036237437223), 182: (<pyphoplacecellanalysis.General.Pipeline.Stages.ComputationFunctions.MultiContextComputationFunctions.RankOrderComputations.Zscorer object at 0x00000256DD379130>, <pyphoplacecellanalysis.General.Pipeline.Stages.ComputationFunctions.MultiContextComputationFunctions.RankOrderComputations.Zscorer object at 0x00000256DD379280>, -0.008112796151214408), 183: (<pyphoplacecellanalysis.General.Pipeline.Stages.ComputationFunctions.MultiContextComputationFunctions.RankOrderComputations.Zscorer object at 0x00000256DD379400>, <pyphoplacecellanalysis.General.Pipeline.Stages.ComputationFunctions.MultiContextComputationFunctions.RankOrderComputations.Zscorer object at 0x00000256DD379550>, -1.0375158526535797), 184: (<pyphoplacecellanalysis.General.Pipeline.Stages.ComputationFunctions.MultiContextComputationFunctions.RankOrderComputations.Zscorer object at 0x00000256DD3796D0>, <pyphoplacecellanalysis.General.Pipeline.Stages.ComputationFunctions.MultiContextComputationFunctions.RankOrderComputations.Zscorer object at 0x00000256DD379820>, -0.7087406798261523), 185: (<pyphoplacecellanalysis.General.Pipeline.Stages.ComputationFunctions.MultiContextComputationFunctions.RankOrderComputations.Zscorer object at 0x00000256DD379A90>, <pyphoplacecellanalysis.General.Pipeline.Stages.ComputationFunctions.MultiContextComputationFunctions.RankOrderComputations.Zscorer object at 0x00000256DD379C40>, -0.1295936527656244), 186: (<pyphoplacecellanalysis.General.Pipeline.Stages.ComputationFunctions.MultiContextComputationFunctions.RankOrderComputations.Zscorer object at 0x00000256DD381040>, <pyphoplacecellanalysis.General.Pipeline.Stages.ComputationFunctions.MultiContextComputationFunctions.RankOrderComputations.Zscorer object at 0x00000256DD3813D0>, 0.19333080315787357), 187: (<pyphoplacecellanalysis.General.Pipeline.Stages.ComputationFunctions.MultiContextComputationFunctions.RankOrderComputations.Zscorer object at 0x00000256DD381700>, <pyphoplacecellanalysis.General.Pipeline.Stages.ComputationFunctions.MultiContextComputationFunctions.RankOrderComputations.Zscorer object at 0x00000256DD381850>, -0.0962157132928183), 188: (<pyphoplacecellanalysis.General.Pipeline.Stages.ComputationFunctions.MultiContextComputationFunctions.RankOrderComputations.Zscorer object at 0x00000256DD3819D0>, <pyphoplacecellanalysis.General.Pipeline.Stages.ComputationFunctions.MultiContextComputationFunctions.RankOrderComputations.Zscorer object at 0x00000256DD381B20>, 1.1765600438965251), 189: (<pyphoplacecellanalysis.General.Pipeline.Stages.ComputationFunctions.MultiContextComputationFunctions.RankOrderComputations.Zscorer object at 0x00000256DD381CA0>, <pyphoplacecellanalysis.General.Pipeline.Stages.ComputationFunctions.MultiContextComputationFunctions.RankOrderComputations.Zscorer object at 0x00000256DD381DF0>, -0.1700129623627541), 190: (<pyphoplacecellanalysis.General.Pipeline.Stages.ComputationFunctions.MultiContextComputationFunctions.RankOrderComputations.Zscorer object at 0x00000256DD381F70>, <pyphoplacecellanalysis.General.Pipeline.Stages.ComputationFunctions.MultiContextComputationFunctions.RankOrderComputations.Zscorer object at 0x00000256FE5C10D0>, -0.6398738363203584), 191: (<pyphoplacecellanalysis.General.Pipeline.Stages.ComputationFunctions.MultiContextComputationFunctions.RankOrderComputations.Zscorer object at 0x00000256FE5C1340>, <pyphoplacecellanalysis.General.Pipeline.Stages.ComputationFunctions.MultiContextComputationFunctions.RankOrderComputations.Zscorer object at 0x00000256FE5C1550>, -0.9274994811356709), 192: (<pyphoplacecellanalysis.General.Pipeline.Stages.ComputationFunctions.MultiContextComputationFunctions.RankOrderComputations.Zscorer object at 0x00000256FE5C1910>, <pyphoplacecellanalysis.General.Pipeline.Stages.ComputationFunctions.MultiContextComputationFunctions.RankOrderComputations.Zscorer object at 0x00000256FE5C1B20>, 0.45960451442352424), 193: (<pyphoplacecellanalysis.General.Pipeline.Stages.ComputationFunctions.MultiContextComputationFunctions.RankOrderComputations.Zscorer object at 0x00000256FE5C1D00>, <pyphoplacecellanalysis.General.Pipeline.Stages.ComputationFunctions.MultiContextComputationFunctions.RankOrderComputations.Zscorer object at 0x00000256FE5C80A0>, 0.43136686089858234), 194: (<pyphoplacecellanalysis.General.Pipeline.Stages.ComputationFunctions.MultiContextComputationFunctions.RankOrderComputations.Zscorer object at 0x00000256FE5C82B0>, <pyphoplacecellanalysis.General.Pipeline.Stages.ComputationFunctions.MultiContextComputationFunctions.RankOrderComputations.Zscorer object at 0x00000256FE5C8460>, -0.17974715640652023), 195: (<pyphoplacecellanalysis.General.Pipeline.Stages.ComputationFunctions.MultiContextComputationFunctions.RankOrderComputations.Zscorer object at 0x00000256FE5C86A0>, <pyphoplacecellanalysis.General.Pipeline.Stages.ComputationFunctions.MultiContextComputationFunctions.RankOrderComputations.Zscorer object at 0x00000256FE5C8820>, -0.059821576428004564), 196: (<pyphoplacecellanalysis.General.Pipeline.Stages.ComputationFunctions.MultiContextComputationFunctions.RankOrderComputations.Zscorer object at 0x00000256FE5C8A00>, <pyphoplacecellanalysis.General.Pipeline.Stages.ComputationFunctions.MultiContextComputationFunctions.RankOrderComputations.Zscorer object at 0x00000256FE5C8D60>, -0.1869596176152808), 197: (<pyphoplacecellanalysis.General.Pipeline.Stages.ComputationFunctions.MultiContextComputationFunctions.RankOrderComputations.Zscorer object at 0x00000256FE5C8F70>, <pyphoplacecellanalysis.General.Pipeline.Stages.ComputationFunctions.MultiContextComputationFunctions.RankOrderComputations.Zscorer object at 0x00000256FE5CF160>, 1.1061017823692123), 198: (<pyphoplacecellanalysis.General.Pipeline.Stages.ComputationFunctions.MultiContextComputationFunctions.RankOrderComputations.Zscorer object at 0x00000256FE5CF3A0>, <pyphoplacecellanalysis.General.Pipeline.Stages.ComputationFunctions.MultiContextComputationFunctions.RankOrderComputations.Zscorer object at 0x00000256FE5CF5E0>, -0.6695462444618409), 199: (<pyphoplacecellanalysis.General.Pipeline.Stages.ComputationFunctions.MultiContextComputationFunctions.RankOrderComputations.Zscorer object at 0x00000256FE5CF7F0>, <pyphoplacecellanalysis.General.Pipeline.Stages.ComputationFunctions.MultiContextComputationFunctions.RankOrderComputations.Zscorer object at 0x00000256FE5CFBE0>, -0.04605025504583882), 200: (<pyphoplacecellanalysis.General.Pipeline.Stages.ComputationFunctions.MultiContextComputationFunctions.RankOrderComputations.Zscorer object at 0x00000256FE5CFDC0>, <pyphoplacecellanalysis.General.Pipeline.Stages.ComputationFunctions.MultiContextComputationFunctions.RankOrderComputations.Zscorer object at 0x00000256FE5D6040>, -0.2596067437265299), 201: (<pyphoplacecellanalysis.General.Pipeline.Stages.ComputationFunctions.MultiContextComputationFunctions.RankOrderComputations.Zscorer object at 0x00000256FE5D6310>, <pyphoplacecellanalysis.General.Pipeline.Stages.ComputationFunctions.MultiContextComputationFunctions.RankOrderComputations.Zscorer object at 0x00000256FE5D6640>, -0.7615455006614624), 202: (<pyphoplacecellanalysis.General.Pipeline.Stages.ComputationFunctions.MultiContextComputationFunctions.RankOrderComputations.Zscorer object at 0x00000256FE5D6970>, <pyphoplacecellanalysis.General.Pipeline.Stages.ComputationFunctions.MultiContextComputationFunctions.RankOrderComputations.Zscorer object at 0x00000256FE5D69A0>, 0.0), 203: (<pyphoplacecellanalysis.General.Pipeline.Stages.ComputationFunctions.MultiContextComputationFunctions.RankOrderComputations.Zscorer object at 0x00000256FE5D6F70>, <pyphoplacecellanalysis.General.Pipeline.Stages.ComputationFunctions.MultiContextComputationFunctions.RankOrderComputations.Zscorer object at 0x00000256FE5E0280>, -0.3682503292141893), 204: (<pyphoplacecellanalysis.General.Pipeline.Stages.ComputationFunctions.MultiContextComputationFunctions.RankOrderComputations.Zscorer object at 0x00000256FE5E06D0>, <pyphoplacecellanalysis.General.Pipeline.Stages.ComputationFunctions.MultiContextComputationFunctions.RankOrderComputations.Zscorer object at 0x00000256FE5E0790>, -0.5120281731684928), 205: (<pyphoplacecellanalysis.General.Pipeline.Stages.ComputationFunctions.MultiContextComputationFunctions.RankOrderComputations.Zscorer object at 0x00000256FE5E0A90>, <pyphoplacecellanalysis.General.Pipeline.Stages.ComputationFunctions.MultiContextComputationFunctions.RankOrderComputations.Zscorer object at 0x00000256FE5E0DF0>, -0.24265846291353643), 206: (<pyphoplacecellanalysis.General.Pipeline.Stages.ComputationFunctions.MultiContextComputationFunctions.RankOrderComputations.Zscorer object at 0x00000256FE5E7460>, <pyphoplacecellanalysis.General.Pipeline.Stages.ComputationFunctions.MultiContextComputationFunctions.RankOrderComputations.Zscorer object at 0x00000256FE5E77C0>, -1.0025934141789814), 207: (<pyphoplacecellanalysis.General.Pipeline.Stages.ComputationFunctions.MultiContextComputationFunctions.RankOrderComputations.Zscorer object at 0x00000256FE5E7AC0>, <pyphoplacecellanalysis.General.Pipeline.Stages.ComputationFunctions.MultiContextComputationFunctions.RankOrderComputations.Zscorer object at 0x00000256FE5E7EE0>, 0.4834880081719256), 208: (<pyphoplacecellanalysis.General.Pipeline.Stages.ComputationFunctions.MultiContextComputationFunctions.RankOrderComputations.Zscorer object at 0x00000256FE5F5460>, <pyphoplacecellanalysis.General.Pipeline.Stages.ComputationFunctions.MultiContextComputationFunctions.RankOrderComputations.Zscorer object at 0x00000256FE5F5580>, 0.7159490606636436), 209: (<pyphoplacecellanalysis.General.Pipeline.Stages.ComputationFunctions.MultiContextComputationFunctions.RankOrderComputations.Zscorer object at 0x00000256FE5F5700>, <pyphoplacecellanalysis.General.Pipeline.Stages.ComputationFunctions.MultiContextComputationFunctions.RankOrderComputations.Zscorer object at 0x00000256FE5F5850>, -0.2758940313696574), 210: (<pyphoplacecellanalysis.General.Pipeline.Stages.ComputationFunctions.MultiContextComputationFunctions.RankOrderComputations.Zscorer object at 0x00000256FE5F59D0>, <pyphoplacecellanalysis.General.Pipeline.Stages.ComputationFunctions.MultiContextComputationFunctions.RankOrderComputations.Zscorer object at 0x00000256FE5F5B20>, 0.212604838083561), 211: (<pyphoplacecellanalysis.General.Pipeline.Stages.ComputationFunctions.MultiContextComputationFunctions.RankOrderComputations.Zscorer object at 0x00000256FE5F5CA0>, <pyphoplacecellanalysis.General.Pipeline.Stages.ComputationFunctions.MultiContextComputationFunctions.RankOrderComputations.Zscorer object at 0x00000256FE5F5DF0>, 1.8730089122042564), 212: (<pyphoplacecellanalysis.General.Pipeline.Stages.ComputationFunctions.MultiContextComputationFunctions.RankOrderComputations.Zscorer object at 0x00000256FE5F5F70>, <pyphoplacecellanalysis.General.Pipeline.Stages.ComputationFunctions.MultiContextComputationFunctions.RankOrderComputations.Zscorer object at 0x00000256FE6080D0>, 0.1353820488039601), 213: (<pyphoplacecellanalysis.General.Pipeline.Stages.ComputationFunctions.MultiContextComputationFunctions.RankOrderComputations.Zscorer object at 0x00000256FE608250>, <pyphoplacecellanalysis.General.Pipeline.Stages.ComputationFunctions.MultiContextComputationFunctions.RankOrderComputations.Zscorer object at 0x00000256FE6083A0>, 0.32240155694241746), 214: (<pyphoplacecellanalysis.General.Pipeline.Stages.ComputationFunctions.MultiContextComputationFunctions.RankOrderComputations.Zscorer object at 0x00000256FE608520>, <pyphoplacecellanalysis.General.Pipeline.Stages.ComputationFunctions.MultiContextComputationFunctions.RankOrderComputations.Zscorer object at 0x00000256FE608670>, -0.7168220161511925), 215: (<pyphoplacecellanalysis.General.Pipeline.Stages.ComputationFunctions.MultiContextComputationFunctions.RankOrderComputations.Zscorer object at 0x00000256FE6087F0>, <pyphoplacecellanalysis.General.Pipeline.Stages.ComputationFunctions.MultiContextComputationFunctions.RankOrderComputations.Zscorer object at 0x00000256FE608940>, -1.2810026591394827), 216: (<pyphoplacecellanalysis.General.Pipeline.Stages.ComputationFunctions.MultiContextComputationFunctions.RankOrderComputations.Zscorer object at 0x00000256FE608BB0>, <pyphoplacecellanalysis.General.Pipeline.Stages.ComputationFunctions.MultiContextComputationFunctions.RankOrderComputations.Zscorer object at 0x00000256FE608D60>, 0.17522863514093248), 217: (<pyphoplacecellanalysis.General.Pipeline.Stages.ComputationFunctions.MultiContextComputationFunctions.RankOrderComputations.Zscorer object at 0x00000256FE60F070>, <pyphoplacecellanalysis.General.Pipeline.Stages.ComputationFunctions.MultiContextComputationFunctions.RankOrderComputations.Zscorer object at 0x00000256FE60F4F0>, 0.0), 218: (<pyphoplacecellanalysis.General.Pipeline.Stages.ComputationFunctions.MultiContextComputationFunctions.RankOrderComputations.Zscorer object at 0x00000256FE60F820>, <pyphoplacecellanalysis.General.Pipeline.Stages.ComputationFunctions.MultiContextComputationFunctions.RankOrderComputations.Zscorer object at 0x00000256FE60F970>, -0.4115943656449935), 219: (<pyphoplacecellanalysis.General.Pipeline.Stages.ComputationFunctions.MultiContextComputationFunctions.RankOrderComputations.Zscorer object at 0x00000256FE60FAF0>, <pyphoplacecellanalysis.General.Pipeline.Stages.ComputationFunctions.MultiContextComputationFunctions.RankOrderComputations.Zscorer object at 0x00000256FE60FC40>, -0.007776163961276561), 220: (<pyphoplacecellanalysis.General.Pipeline.Stages.ComputationFunctions.MultiContextComputationFunctions.RankOrderComputations.Zscorer object at 0x00000256FE60FDC0>, <pyphoplacecellanalysis.General.Pipeline.Stages.ComputationFunctions.MultiContextComputationFunctions.RankOrderComputations.Zscorer object at 0x00000256FE60FF10>, 0.26514051715807163), 221: (<pyphoplacecellanalysis.General.Pipeline.Stages.ComputationFunctions.MultiContextComputationFunctions.RankOrderComputations.Zscorer object at 0x00000256FE6290A0>, <pyphoplacecellanalysis.General.Pipeline.Stages.ComputationFunctions.MultiContextComputationFunctions.RankOrderComputations.Zscorer object at 0x00000256FE6291F0>, 0.12613573927443666), 222: (<pyphoplacecellanalysis.General.Pipeline.Stages.ComputationFunctions.MultiContextComputationFunctions.RankOrderComputations.Zscorer object at 0x00000256FE629370>, <pyphoplacecellanalysis.General.Pipeline.Stages.ComputationFunctions.MultiContextComputationFunctions.RankOrderComputations.Zscorer object at 0x00000256FE6294C0>, -0.4344787890299928), 223: (<pyphoplacecellanalysis.General.Pipeline.Stages.ComputationFunctions.MultiContextComputationFunctions.RankOrderComputations.Zscorer object at 0x00000256FE629640>, <pyphoplacecellanalysis.General.Pipeline.Stages.ComputationFunctions.MultiContextComputationFunctions.RankOrderComputations.Zscorer object at 0x00000256FE629790>, -0.18380187550415236), 224: (<pyphoplacecellanalysis.General.Pipeline.Stages.ComputationFunctions.MultiContextComputationFunctions.RankOrderComputations.Zscorer object at 0x00000256FE629910>, <pyphoplacecellanalysis.General.Pipeline.Stages.ComputationFunctions.MultiContextComputationFunctions.RankOrderComputations.Zscorer object at 0x00000256FE629A60>, -0.6655458241630694), 225: (<pyphoplacecellanalysis.General.Pipeline.Stages.ComputationFunctions.MultiContextComputationFunctions.RankOrderComputations.Zscorer object at 0x00000256FE629BE0>, <pyphoplacecellanalysis.General.Pipeline.Stages.ComputationFunctions.MultiContextComputationFunctions.RankOrderComputations.Zscorer object at 0x00000256FE629E50>, -0.579638501294355), 226: (<pyphoplacecellanalysis.General.Pipeline.Stages.ComputationFunctions.MultiContextComputationFunctions.RankOrderComputations.Zscorer object at 0x00000256FE62E100>, <pyphoplacecellanalysis.General.Pipeline.Stages.ComputationFunctions.MultiContextComputationFunctions.RankOrderComputations.Zscorer object at 0x00000256FE62E310>, 0.807973700320201), 227: (<pyphoplacecellanalysis.General.Pipeline.Stages.ComputationFunctions.MultiContextComputationFunctions.RankOrderComputations.Zscorer object at 0x00000256FE62E6A0>, <pyphoplacecellanalysis.General.Pipeline.Stages.ComputationFunctions.MultiContextComputationFunctions.RankOrderComputations.Zscorer object at 0x00000256FE62E8B0>, -0.13515499137644182), 228: (<pyphoplacecellanalysis.General.Pipeline.Stages.ComputationFunctions.MultiContextComputationFunctions.RankOrderComputations.Zscorer object at 0x00000256FE62EB20>, <pyphoplacecellanalysis.General.Pipeline.Stages.ComputationFunctions.MultiContextComputationFunctions.RankOrderComputations.Zscorer object at 0x00000256FE62EDF0>, -0.09155234822235447), 229: (<pyphoplacecellanalysis.General.Pipeline.Stages.ComputationFunctions.MultiContextComputationFunctions.RankOrderComputations.Zscorer object at 0x00000256FE62EFD0>, <pyphoplacecellanalysis.General.Pipeline.Stages.ComputationFunctions.MultiContextComputationFunctions.RankOrderComputations.Zscorer object at 0x00000257F2F561F0>, 0.8491048251833453), 230: (<pyphoplacecellanalysis.General.Pipeline.Stages.ComputationFunctions.MultiContextComputationFunctions.RankOrderComputations.Zscorer object at 0x00000257F2F563A0>, <pyphoplacecellanalysis.General.Pipeline.Stages.ComputationFunctions.MultiContextComputationFunctions.RankOrderComputations.Zscorer object at 0x00000257F2F565B0>, 0.9600802577369656), 231: (<pyphoplacecellanalysis.General.Pipeline.Stages.ComputationFunctions.MultiContextComputationFunctions.RankOrderComputations.Zscorer object at 0x00000257F2F56820>, <pyphoplacecellanalysis.General.Pipeline.Stages.ComputationFunctions.MultiContextComputationFunctions.RankOrderComputations.Zscorer object at 0x00000257F2F56AF0>, 1.0636671818886985), 232: (<pyphoplacecellanalysis.General.Pipeline.Stages.ComputationFunctions.MultiContextComputationFunctions.RankOrderComputations.Zscorer object at 0x00000257F2F56CD0>, <pyphoplacecellanalysis.General.Pipeline.Stages.ComputationFunctions.MultiContextComputationFunctions.RankOrderComputations.Zscorer object at 0x00000257F2F56E80>, 0.6396077822793259), 233: (<pyphoplacecellanalysis.General.Pipeline.Stages.ComputationFunctions.MultiContextComputationFunctions.RankOrderComputations.Zscorer object at 0x00000257F2F5D0D0>, <pyphoplacecellanalysis.General.Pipeline.Stages.ComputationFunctions.MultiContextComputationFunctions.RankOrderComputations.Zscorer object at 0x00000257F2F5D3D0>, 1.1544565724424225), 234: (<pyphoplacecellanalysis.General.Pipeline.Stages.ComputationFunctions.MultiContextComputationFunctions.RankOrderComputations.Zscorer object at 0x00000257F2F5D8E0>, <pyphoplacecellanalysis.General.Pipeline.Stages.ComputationFunctions.MultiContextComputationFunctions.RankOrderComputations.Zscorer object at 0x00000257F2F5DAF0>, -0.5283633596243712), 235: (<pyphoplacecellanalysis.General.Pipeline.Stages.ComputationFunctions.MultiContextComputationFunctions.RankOrderComputations.Zscorer object at 0x00000257F2F5DDF0>, <pyphoplacecellanalysis.General.Pipeline.Stages.ComputationFunctions.MultiContextComputationFunctions.RankOrderComputations.Zscorer object at 0x00000257F2F5DEB0>, 0.6623877514755636), 236: (<pyphoplacecellanalysis.General.Pipeline.Stages.ComputationFunctions.MultiContextComputationFunctions.RankOrderComputations.Zscorer object at 0x00000257F2F643A0>, <pyphoplacecellanalysis.General.Pipeline.Stages.ComputationFunctions.MultiContextComputationFunctions.RankOrderComputations.Zscorer object at 0x00000257F2F64250>, 0.03613487582944086), 237: (<pyphoplacecellanalysis.General.Pipeline.Stages.ComputationFunctions.MultiContextComputationFunctions.RankOrderComputations.Zscorer object at 0x00000257F2F64970>, <pyphoplacecellanalysis.General.Pipeline.Stages.ComputationFunctions.MultiContextComputationFunctions.RankOrderComputations.Zscorer object at 0x00000257F2F64BB0>, -1.3294349226726518), 238: (<pyphoplacecellanalysis.General.Pipeline.Stages.ComputationFunctions.MultiContextComputationFunctions.RankOrderComputations.Zscorer object at 0x00000257F2F64FA0>, <pyphoplacecellanalysis.General.Pipeline.Stages.ComputationFunctions.MultiContextComputationFunctions.RankOrderComputations.Zscorer object at 0x00000257F2F6A100>, -0.1423188105049984), 239: (<pyphoplacecellanalysis.General.Pipeline.Stages.ComputationFunctions.MultiContextComputationFunctions.RankOrderComputations.Zscorer object at 0x00000257F2F6A400>, <pyphoplacecellanalysis.General.Pipeline.Stages.ComputationFunctions.MultiContextComputationFunctions.RankOrderComputations.Zscorer object at 0x00000257F2F6A760>, 0.8050276079657108), 240: (<pyphoplacecellanalysis.General.Pipeline.Stages.ComputationFunctions.MultiContextComputationFunctions.RankOrderComputations.Zscorer object at 0x00000257F2F6A9A0>, <pyphoplacecellanalysis.General.Pipeline.Stages.ComputationFunctions.MultiContextComputationFunctions.RankOrderComputations.Zscorer object at 0x00000257F2F6ADC0>, 0.7970849754374236), 241: (<pyphoplacecellanalysis.General.Pipeline.Stages.ComputationFunctions.MultiContextComputationFunctions.RankOrderComputations.Zscorer object at 0x00000257F2F710A0>, <pyphoplacecellanalysis.General.Pipeline.Stages.ComputationFunctions.MultiContextComputationFunctions.RankOrderComputations.Zscorer object at 0x00000257F2F715B0>, 0.5971707751093795), 242: (<pyphoplacecellanalysis.General.Pipeline.Stages.ComputationFunctions.MultiContextComputationFunctions.RankOrderComputations.Zscorer object at 0x00000257F2F71A30>, <pyphoplacecellanalysis.General.Pipeline.Stages.ComputationFunctions.MultiContextComputationFunctions.RankOrderComputations.Zscorer object at 0x00000257F2F71B80>, 0.9437006432837998), 243: (<pyphoplacecellanalysis.General.Pipeline.Stages.ComputationFunctions.MultiContextComputationFunctions.RankOrderComputations.Zscorer object at 0x00000257F2F71D00>, <pyphoplacecellanalysis.General.Pipeline.Stages.ComputationFunctions.MultiContextComputationFunctions.RankOrderComputations.Zscorer object at 0x00000257F2F71E50>, 1.1724640324564146), 244: (<pyphoplacecellanalysis.General.Pipeline.Stages.ComputationFunctions.MultiContextComputationFunctions.RankOrderComputations.Zscorer object at 0x00000257F2F71FD0>, <pyphoplacecellanalysis.General.Pipeline.Stages.ComputationFunctions.MultiContextComputationFunctions.RankOrderComputations.Zscorer object at 0x00000257F2F8C130>, 0.264297807236179), 245: (<pyphoplacecellanalysis.General.Pipeline.Stages.ComputationFunctions.MultiContextComputationFunctions.RankOrderComputations.Zscorer object at 0x00000257F2F8C2B0>, <pyphoplacecellanalysis.General.Pipeline.Stages.ComputationFunctions.MultiContextComputationFunctions.RankOrderComputations.Zscorer object at 0x00000257F2F8C400>, -1.311958519008626), 246: (<pyphoplacecellanalysis.General.Pipeline.Stages.ComputationFunctions.MultiContextComputationFunctions.RankOrderComputations.Zscorer object at 0x00000257F2F8C5B0>, <pyphoplacecellanalysis.General.Pipeline.Stages.ComputationFunctions.MultiContextComputationFunctions.RankOrderComputations.Zscorer object at 0x00000257F2F8C7C0>, -0.9540833209783677), 247: (<pyphoplacecellanalysis.General.Pipeline.Stages.ComputationFunctions.MultiContextComputationFunctions.RankOrderComputations.Zscorer object at 0x00000257F2F8CBB0>, <pyphoplacecellanalysis.General.Pipeline.Stages.ComputationFunctions.MultiContextComputationFunctions.RankOrderComputations.Zscorer object at 0x00000257F2F8CEB0>, 0.26062351207846124), 248: (<pyphoplacecellanalysis.General.Pipeline.Stages.ComputationFunctions.MultiContextComputationFunctions.RankOrderComputations.Zscorer object at 0x00000257F2F952E0>, <pyphoplacecellanalysis.General.Pipeline.Stages.ComputationFunctions.MultiContextComputationFunctions.RankOrderComputations.Zscorer object at 0x00000257F2F95430>, -0.25264207726224813), 249: (<pyphoplacecellanalysis.General.Pipeline.Stages.ComputationFunctions.MultiContextComputationFunctions.RankOrderComputations.Zscorer object at 0x00000257F2F955B0>, <pyphoplacecellanalysis.General.Pipeline.Stages.ComputationFunctions.MultiContextComputationFunctions.RankOrderComputations.Zscorer object at 0x00000257F2F95700>, -0.4653395329672376), 250: (<pyphoplacecellanalysis.General.Pipeline.Stages.ComputationFunctions.MultiContextComputationFunctions.RankOrderComputations.Zscorer object at 0x00000257F2F95880>, <pyphoplacecellanalysis.General.Pipeline.Stages.ComputationFunctions.MultiContextComputationFunctions.RankOrderComputations.Zscorer object at 0x00000257F2F959D0>, -0.855245782093735), 251: (<pyphoplacecellanalysis.General.Pipeline.Stages.ComputationFunctions.MultiContextComputationFunctions.RankOrderComputations.Zscorer object at 0x00000257F2F95B50>, <pyphoplacecellanalysis.General.Pipeline.Stages.ComputationFunctions.MultiContextComputationFunctions.RankOrderComputations.Zscorer object at 0x00000257F2F95CA0>, 0.36792298600438467), 252: (<pyphoplacecellanalysis.General.Pipeline.Stages.ComputationFunctions.MultiContextComputationFunctions.RankOrderComputations.Zscorer object at 0x00000257F2F95E20>, <pyphoplacecellanalysis.General.Pipeline.Stages.ComputationFunctions.MultiContextComputationFunctions.RankOrderComputations.Zscorer object at 0x00000257F2F95F70>, 0.0), 253: (<pyphoplacecellanalysis.General.Pipeline.Stages.ComputationFunctions.MultiContextComputationFunctions.RankOrderComputations.Zscorer object at 0x00000257F2FAE100>, <pyphoplacecellanalysis.General.Pipeline.Stages.ComputationFunctions.MultiContextComputationFunctions.RankOrderComputations.Zscorer object at 0x00000257F2FAE2B0>, 0.47437243520711103), 254: (<pyphoplacecellanalysis.General.Pipeline.Stages.ComputationFunctions.MultiContextComputationFunctions.RankOrderComputations.Zscorer object at 0x00000257F2FAE580>, <pyphoplacecellanalysis.General.Pipeline.Stages.ComputationFunctions.MultiContextComputationFunctions.RankOrderComputations.Zscorer object at 0x00000257F2FAE880>, -0.8632275472834086), 255: (<pyphoplacecellanalysis.General.Pipeline.Stages.ComputationFunctions.MultiContextComputationFunctions.RankOrderComputations.Zscorer object at 0x00000257F2FAEB50>, <pyphoplacecellanalysis.General.Pipeline.Stages.ComputationFunctions.MultiContextComputationFunctions.RankOrderComputations.Zscorer object at 0x00000257F2FAECD0>, -0.37570176094923874), 256: (<pyphoplacecellanalysis.General.Pipeline.Stages.ComputationFunctions.MultiContextComputationFunctions.RankOrderComputations.Zscorer object at 0x00000257F2FB70D0>, <pyphoplacecellanalysis.General.Pipeline.Stages.ComputationFunctions.MultiContextComputationFunctions.RankOrderComputations.Zscorer object at 0x00000257F2FB7220>, 0.17898305288958727), 257: (<pyphoplacecellanalysis.General.Pipeline.Stages.ComputationFunctions.MultiContextComputationFunctions.RankOrderComputations.Zscorer object at 0x00000257F2FB7490>, <pyphoplacecellanalysis.General.Pipeline.Stages.ComputationFunctions.MultiContextComputationFunctions.RankOrderComputations.Zscorer object at 0x00000257F2FB76A0>, -0.0498530353097939), 258: (<pyphoplacecellanalysis.General.Pipeline.Stages.ComputationFunctions.MultiContextComputationFunctions.RankOrderComputations.Zscorer object at 0x00000257F2FB7850>, <pyphoplacecellanalysis.General.Pipeline.Stages.ComputationFunctions.MultiContextComputationFunctions.RankOrderComputations.Zscorer object at 0x00000257F2FB79D0>, 1.2624614849627456), 259: (<pyphoplacecellanalysis.General.Pipeline.Stages.ComputationFunctions.MultiContextComputationFunctions.RankOrderComputations.Zscorer object at 0x00000257F2FB7D90>, <pyphoplacecellanalysis.General.Pipeline.Stages.ComputationFunctions.MultiContextComputationFunctions.RankOrderComputations.Zscorer object at 0x00000257F2FB7EE0>, 0.1340686746411045), 260: (<pyphoplacecellanalysis.General.Pipeline.Stages.ComputationFunctions.MultiContextComputationFunctions.RankOrderComputations.Zscorer object at 0x00000257F2FBD190>, <pyphoplacecellanalysis.General.Pipeline.Stages.ComputationFunctions.MultiContextComputationFunctions.RankOrderComputations.Zscorer object at 0x00000257F2FBD3A0>, 0.3079558921284865), 261: (<pyphoplacecellanalysis.General.Pipeline.Stages.ComputationFunctions.MultiContextComputationFunctions.RankOrderComputations.Zscorer object at 0x00000257F2FBD610>, <pyphoplacecellanalysis.General.Pipeline.Stages.ComputationFunctions.MultiContextComputationFunctions.RankOrderComputations.Zscorer object at 0x00000257F2FBD760>, -1.5746055175608942), 262: (<pyphoplacecellanalysis.General.Pipeline.Stages.ComputationFunctions.MultiContextComputationFunctions.RankOrderComputations.Zscorer object at 0x00000257F2FBDC10>, <pyphoplacecellanalysis.General.Pipeline.Stages.ComputationFunctions.MultiContextComputationFunctions.RankOrderComputations.Zscorer object at 0x00000257F2FBDD00>, -0.6175261392047791), 263: (<pyphoplacecellanalysis.General.Pipeline.Stages.ComputationFunctions.MultiContextComputationFunctions.RankOrderComputations.Zscorer object at 0x00000257F2FC3040>, <pyphoplacecellanalysis.General.Pipeline.Stages.ComputationFunctions.MultiContextComputationFunctions.RankOrderComputations.Zscorer object at 0x00000257F2FC3370>, -0.23953040523446867), 264: (<pyphoplacecellanalysis.General.Pipeline.Stages.ComputationFunctions.MultiContextComputationFunctions.RankOrderComputations.Zscorer object at 0x00000257F2FC3670>, <pyphoplacecellanalysis.General.Pipeline.Stages.ComputationFunctions.MultiContextComputationFunctions.RankOrderComputations.Zscorer object at 0x00000257F2FC3A90>, -0.45464116392287657), 265: (<pyphoplacecellanalysis.General.Pipeline.Stages.ComputationFunctions.MultiContextComputationFunctions.RankOrderComputations.Zscorer object at 0x00000257F2FC3BE0>, <pyphoplacecellanalysis.General.Pipeline.Stages.ComputationFunctions.MultiContextComputationFunctions.RankOrderComputations.Zscorer object at 0x00000257F2FC3F70>, -0.17698407459471444), 266: (<pyphoplacecellanalysis.General.Pipeline.Stages.ComputationFunctions.MultiContextComputationFunctions.RankOrderComputations.Zscorer object at 0x00000257F2FC9370>, <pyphoplacecellanalysis.General.Pipeline.Stages.ComputationFunctions.MultiContextComputationFunctions.RankOrderComputations.Zscorer object at 0x00000257F2FC9580>, -0.02717259152229856), 267: (<pyphoplacecellanalysis.General.Pipeline.Stages.ComputationFunctions.MultiContextComputationFunctions.RankOrderComputations.Zscorer object at 0x00000257F2FC9880>, <pyphoplacecellanalysis.General.Pipeline.Stages.ComputationFunctions.MultiContextComputationFunctions.RankOrderComputations.Zscorer object at 0x00000257F2FC9D30>, -0.4622528722327365), 268: (<pyphoplacecellanalysis.General.Pipeline.Stages.ComputationFunctions.MultiContextComputationFunctions.RankOrderComputations.Zscorer object at 0x00000257F2FC9E80>, <pyphoplacecellanalysis.General.Pipeline.Stages.ComputationFunctions.MultiContextComputationFunctions.RankOrderComputations.Zscorer object at 0x00000257F2FCF040>, 0.29368384550085425), 269: (<pyphoplacecellanalysis.General.Pipeline.Stages.ComputationFunctions.MultiContextComputationFunctions.RankOrderComputations.Zscorer object at 0x00000257F2FCF5E0>, <pyphoplacecellanalysis.General.Pipeline.Stages.ComputationFunctions.MultiContextComputationFunctions.RankOrderComputations.Zscorer object at 0x00000257F2FCFA00>, -0.15456235466282775), 270: (<pyphoplacecellanalysis.General.Pipeline.Stages.ComputationFunctions.MultiContextComputationFunctions.RankOrderComputations.Zscorer object at 0x00000257F2FCFF40>, <pyphoplacecellanalysis.General.Pipeline.Stages.ComputationFunctions.MultiContextComputationFunctions.RankOrderComputations.Zscorer object at 0x00000257F2FED070>, -0.24709598537080524), 271: (<pyphoplacecellanalysis.General.Pipeline.Stages.ComputationFunctions.MultiContextComputationFunctions.RankOrderComputations.Zscorer object at 0x00000257F2FED1F0>, <pyphoplacecellanalysis.General.Pipeline.Stages.ComputationFunctions.MultiContextComputationFunctions.RankOrderComputations.Zscorer object at 0x00000257F2FED340>, -0.23916467757505655), 272: (<pyphoplacecellanalysis.General.Pipeline.Stages.ComputationFunctions.MultiContextComputationFunctions.RankOrderComputations.Zscorer object at 0x00000257F2FED4C0>, <pyphoplacecellanalysis.General.Pipeline.Stages.ComputationFunctions.MultiContextComputationFunctions.RankOrderComputations.Zscorer object at 0x00000257F2FED610>, -0.8241712059979381), 273: (<pyphoplacecellanalysis.General.Pipeline.Stages.ComputationFunctions.MultiContextComputationFunctions.RankOrderComputations.Zscorer object at 0x00000257F2FED910>, <pyphoplacecellanalysis.General.Pipeline.Stages.ComputationFunctions.MultiContextComputationFunctions.RankOrderComputations.Zscorer object at 0x00000257F2FEDBE0>, -0.7446463249730231), 274: (<pyphoplacecellanalysis.General.Pipeline.Stages.ComputationFunctions.MultiContextComputationFunctions.RankOrderComputations.Zscorer object at 0x00000257F2FEDEE0>, <pyphoplacecellanalysis.General.Pipeline.Stages.ComputationFunctions.MultiContextComputationFunctions.RankOrderComputations.Zscorer object at 0x00000257F2FF4370>, -0.9137881245188206), 275: (<pyphoplacecellanalysis.General.Pipeline.Stages.ComputationFunctions.MultiContextComputationFunctions.RankOrderComputations.Zscorer object at 0x00000257F2FF44F0>, <pyphoplacecellanalysis.General.Pipeline.Stages.ComputationFunctions.MultiContextComputationFunctions.RankOrderComputations.Zscorer object at 0x00000257F2FF4640>, -1.022760755868232), 276: (<pyphoplacecellanalysis.General.Pipeline.Stages.ComputationFunctions.MultiContextComputationFunctions.RankOrderComputations.Zscorer object at 0x00000257F2FF47C0>, <pyphoplacecellanalysis.General.Pipeline.Stages.ComputationFunctions.MultiContextComputationFunctions.RankOrderComputations.Zscorer object at 0x00000257F2FF4910>, -0.2590638616620997), 277: (<pyphoplacecellanalysis.General.Pipeline.Stages.ComputationFunctions.MultiContextComputationFunctions.RankOrderComputations.Zscorer object at 0x00000257F2FF4A90>, <pyphoplacecellanalysis.General.Pipeline.Stages.ComputationFunctions.MultiContextComputationFunctions.RankOrderComputations.Zscorer object at 0x00000257F2FF4BE0>, -0.5060798158671214), 278: (<pyphoplacecellanalysis.General.Pipeline.Stages.ComputationFunctions.MultiContextComputationFunctions.RankOrderComputations.Zscorer object at 0x00000257F2FF4D60>, <pyphoplacecellanalysis.General.Pipeline.Stages.ComputationFunctions.MultiContextComputationFunctions.RankOrderComputations.Zscorer object at 0x00000257F2FF4EB0>, -1.052442278951283), 279: (<pyphoplacecellanalysis.General.Pipeline.Stages.ComputationFunctions.MultiContextComputationFunctions.RankOrderComputations.Zscorer object at 0x00000257F300D040>, <pyphoplacecellanalysis.General.Pipeline.Stages.ComputationFunctions.MultiContextComputationFunctions.RankOrderComputations.Zscorer object at 0x00000257F300D190>, -0.7780460787099673), 280: (<pyphoplacecellanalysis.General.Pipeline.Stages.ComputationFunctions.MultiContextComputationFunctions.RankOrderComputations.Zscorer object at 0x00000257F300D310>, <pyphoplacecellanalysis.General.Pipeline.Stages.ComputationFunctions.MultiContextComputationFunctions.RankOrderComputations.Zscorer object at 0x00000257F300D460>, 0.08196270966989916), 281: (<pyphoplacecellanalysis.General.Pipeline.Stages.ComputationFunctions.MultiContextComputationFunctions.RankOrderComputations.Zscorer object at 0x00000257F300D5E0>, <pyphoplacecellanalysis.General.Pipeline.Stages.ComputationFunctions.MultiContextComputationFunctions.RankOrderComputations.Zscorer object at 0x00000257F300D790>, -1.1133040278474549), 282: (<pyphoplacecellanalysis.General.Pipeline.Stages.ComputationFunctions.MultiContextComputationFunctions.RankOrderComputations.Zscorer object at 0x00000257F300DA60>, <pyphoplacecellanalysis.General.Pipeline.Stages.ComputationFunctions.MultiContextComputationFunctions.RankOrderComputations.Zscorer object at 0x00000257F300DD60>, -0.6279512796015956), 283: (<pyphoplacecellanalysis.General.Pipeline.Stages.ComputationFunctions.MultiContextComputationFunctions.RankOrderComputations.Zscorer object at 0x00000258EB085070>, <pyphoplacecellanalysis.General.Pipeline.Stages.ComputationFunctions.MultiContextComputationFunctions.RankOrderComputations.Zscorer object at 0x00000258EB0851F0>, 0.05449751467778656), 284: (<pyphoplacecellanalysis.General.Pipeline.Stages.ComputationFunctions.MultiContextComputationFunctions.RankOrderComputations.Zscorer object at 0x00000258EB0855B0>, <pyphoplacecellanalysis.General.Pipeline.Stages.ComputationFunctions.MultiContextComputationFunctions.RankOrderComputations.Zscorer object at 0x00000258EB085700>, -0.5377250554222732), 285: (<pyphoplacecellanalysis.General.Pipeline.Stages.ComputationFunctions.MultiContextComputationFunctions.RankOrderComputations.Zscorer object at 0x00000258EB085970>, <pyphoplacecellanalysis.General.Pipeline.Stages.ComputationFunctions.MultiContextComputationFunctions.RankOrderComputations.Zscorer object at 0x00000258EB085B80>, -0.8676294856940299), 286: (<pyphoplacecellanalysis.General.Pipeline.Stages.ComputationFunctions.MultiContextComputationFunctions.RankOrderComputations.Zscorer object at 0x00000258EB085D30>, <pyphoplacecellanalysis.General.Pipeline.Stages.ComputationFunctions.MultiContextComputationFunctions.RankOrderComputations.Zscorer object at 0x00000258EB085EB0>, -1.0780624217986823), 287: (<pyphoplacecellanalysis.General.Pipeline.Stages.ComputationFunctions.MultiContextComputationFunctions.RankOrderComputations.Zscorer object at 0x00000258EB08B2B0>, <pyphoplacecellanalysis.General.Pipeline.Stages.ComputationFunctions.MultiContextComputationFunctions.RankOrderComputations.Zscorer object at 0x00000258EB08B400>, -0.22944358164754242), 288: (<pyphoplacecellanalysis.General.Pipeline.Stages.ComputationFunctions.MultiContextComputationFunctions.RankOrderComputations.Zscorer object at 0x00000258EB08B670>, <pyphoplacecellanalysis.General.Pipeline.Stages.ComputationFunctions.MultiContextComputationFunctions.RankOrderComputations.Zscorer object at 0x00000258EB08B880>, -0.5550582239850217), 289: (<pyphoplacecellanalysis.General.Pipeline.Stages.ComputationFunctions.MultiContextComputationFunctions.RankOrderComputations.Zscorer object at 0x00000258EB08BAF0>, <pyphoplacecellanalysis.General.Pipeline.Stages.ComputationFunctions.MultiContextComputationFunctions.RankOrderComputations.Zscorer object at 0x00000258EB08BC40>, -0.6180574068230553), 290: (<pyphoplacecellanalysis.General.Pipeline.Stages.ComputationFunctions.MultiContextComputationFunctions.RankOrderComputations.Zscorer object at 0x00000258EB090040>, <pyphoplacecellanalysis.General.Pipeline.Stages.ComputationFunctions.MultiContextComputationFunctions.RankOrderComputations.Zscorer object at 0x00000258EB090220>, 0.2673945536838169), 291: (<pyphoplacecellanalysis.General.Pipeline.Stages.ComputationFunctions.MultiContextComputationFunctions.RankOrderComputations.Zscorer object at 0x00000258EB090520>, <pyphoplacecellanalysis.General.Pipeline.Stages.ComputationFunctions.MultiContextComputationFunctions.RankOrderComputations.Zscorer object at 0x00000258EB090850>, -0.12324849448190722), 292: (<pyphoplacecellanalysis.General.Pipeline.Stages.ComputationFunctions.MultiContextComputationFunctions.RankOrderComputations.Zscorer object at 0x00000258EB090B50>, <pyphoplacecellanalysis.General.Pipeline.Stages.ComputationFunctions.MultiContextComputationFunctions.RankOrderComputations.Zscorer object at 0x00000258EB090F70>, 1.180622142783382), 293: (<pyphoplacecellanalysis.General.Pipeline.Stages.ComputationFunctions.MultiContextComputationFunctions.RankOrderComputations.Zscorer object at 0x00000258EB098100>, <pyphoplacecellanalysis.General.Pipeline.Stages.ComputationFunctions.MultiContextComputationFunctions.RankOrderComputations.Zscorer object at 0x00000258EB098520>, 0.5565120649606061), 294: (<pyphoplacecellanalysis.General.Pipeline.Stages.ComputationFunctions.MultiContextComputationFunctions.RankOrderComputations.Zscorer object at 0x00000258EB098850>, <pyphoplacecellanalysis.General.Pipeline.Stages.ComputationFunctions.MultiContextComputationFunctions.RankOrderComputations.Zscorer object at 0x00000258EB098A60>, -1.137090426497316), 295: (<pyphoplacecellanalysis.General.Pipeline.Stages.ComputationFunctions.MultiContextComputationFunctions.RankOrderComputations.Zscorer object at 0x00000258EB098D60>, <pyphoplacecellanalysis.General.Pipeline.Stages.ComputationFunctions.MultiContextComputationFunctions.RankOrderComputations.Zscorer object at 0x00000258EB0A1250>, -0.46986299118789576), 296: (<pyphoplacecellanalysis.General.Pipeline.Stages.ComputationFunctions.MultiContextComputationFunctions.RankOrderComputations.Zscorer object at 0x00000258EB0A1550>, <pyphoplacecellanalysis.General.Pipeline.Stages.ComputationFunctions.MultiContextComputationFunctions.RankOrderComputations.Zscorer object at 0x00000258EB0A17F0>, 0.000536311582583604), 297: (<pyphoplacecellanalysis.General.Pipeline.Stages.ComputationFunctions.MultiContextComputationFunctions.RankOrderComputations.Zscorer object at 0x00000258EB0A1AC0>, <pyphoplacecellanalysis.General.Pipeline.Stages.ComputationFunctions.MultiContextComputationFunctions.RankOrderComputations.Zscorer object at 0x00000258EB0A1EE0>, -0.8242158632217158), 298: (<pyphoplacecellanalysis.General.Pipeline.Stages.ComputationFunctions.MultiContextComputationFunctions.RankOrderComputations.Zscorer object at 0x00000258EB0A8460>, <pyphoplacecellanalysis.General.Pipeline.Stages.ComputationFunctions.MultiContextComputationFunctions.RankOrderComputations.Zscorer object at 0x00000258EB0A8580>, 0.014750230697781697), 299: (<pyphoplacecellanalysis.General.Pipeline.Stages.ComputationFunctions.MultiContextComputationFunctions.RankOrderComputations.Zscorer object at 0x00000258EB0A8700>, <pyphoplacecellanalysis.General.Pipeline.Stages.ComputationFunctions.MultiContextComputationFunctions.RankOrderComputations.Zscorer object at 0x00000258EB0A8850>, 0.8961969981842526), 300: (<pyphoplacecellanalysis.General.Pipeline.Stages.ComputationFunctions.MultiContextComputationFunctions.RankOrderComputations.Zscorer object at 0x00000258EB0A89D0>, <pyphoplacecellanalysis.General.Pipeline.Stages.ComputationFunctions.MultiContextComputationFunctions.RankOrderComputations.Zscorer object at 0x00000258EB0A8B20>, 0.44204227048143974), 301: (<pyphoplacecellanalysis.General.Pipeline.Stages.ComputationFunctions.MultiContextComputationFunctions.RankOrderComputations.Zscorer object at 0x00000258EB0A8CA0>, <pyphoplacecellanalysis.General.Pipeline.Stages.ComputationFunctions.MultiContextComputationFunctions.RankOrderComputations.Zscorer object at 0x00000258EB0A8DF0>, 0.3630543618394816), 302: (<pyphoplacecellanalysis.General.Pipeline.Stages.ComputationFunctions.MultiContextComputationFunctions.RankOrderComputations.Zscorer object at 0x00000258EB0A8F70>, <pyphoplacecellanalysis.General.Pipeline.Stages.ComputationFunctions.MultiContextComputationFunctions.RankOrderComputations.Zscorer object at 0x00000258EB0BD0D0>, -0.2596492345743032), 303: (<pyphoplacecellanalysis.General.Pipeline.Stages.ComputationFunctions.MultiContextComputationFunctions.RankOrderComputations.Zscorer object at 0x00000258EB0BD250>, <pyphoplacecellanalysis.General.Pipeline.Stages.ComputationFunctions.MultiContextComputationFunctions.RankOrderComputations.Zscorer object at 0x00000258EB0BD3A0>, 0.38946954992343186), 304: (<pyphoplacecellanalysis.General.Pipeline.Stages.ComputationFunctions.MultiContextComputationFunctions.RankOrderComputations.Zscorer object at 0x00000258EB0BD520>, <pyphoplacecellanalysis.General.Pipeline.Stages.ComputationFunctions.MultiContextComputationFunctions.RankOrderComputations.Zscorer object at 0x00000258EB0BD670>, -0.7297775624050239), 305: (<pyphoplacecellanalysis.General.Pipeline.Stages.ComputationFunctions.MultiContextComputationFunctions.RankOrderComputations.Zscorer object at 0x00000258EB0BD7F0>, <pyphoplacecellanalysis.General.Pipeline.Stages.ComputationFunctions.MultiContextComputationFunctions.RankOrderComputations.Zscorer object at 0x00000258EB0BD940>, -0.10794973010829072), 306: (<pyphoplacecellanalysis.General.Pipeline.Stages.ComputationFunctions.MultiContextComputationFunctions.RankOrderComputations.Zscorer object at 0x00000258EB0BDAC0>, <pyphoplacecellanalysis.General.Pipeline.Stages.ComputationFunctions.MultiContextComputationFunctions.RankOrderComputations.Zscorer object at 0x00000258EB0BDD00>, -0.3165352854922875), 307: (<pyphoplacecellanalysis.General.Pipeline.Stages.ComputationFunctions.MultiContextComputationFunctions.RankOrderComputations.Zscorer object at 0x0000025910292040>, <pyphoplacecellanalysis.General.Pipeline.Stages.ComputationFunctions.MultiContextComputationFunctions.RankOrderComputations.Zscorer object at 0x0000025910292310>, 1.6247891769439406), 308: (<pyphoplacecellanalysis.General.Pipeline.Stages.ComputationFunctions.MultiContextComputationFunctions.RankOrderComputations.Zscorer object at 0x0000025910292820>, <pyphoplacecellanalysis.General.Pipeline.Stages.ComputationFunctions.MultiContextComputationFunctions.RankOrderComputations.Zscorer object at 0x0000025910292970>, -0.16392369377509142), 309: (<pyphoplacecellanalysis.General.Pipeline.Stages.ComputationFunctions.MultiContextComputationFunctions.RankOrderComputations.Zscorer object at 0x0000025910292AF0>, <pyphoplacecellanalysis.General.Pipeline.Stages.ComputationFunctions.MultiContextComputationFunctions.RankOrderComputations.Zscorer object at 0x0000025910292C40>, 0.9043542606186878), 310: (<pyphoplacecellanalysis.General.Pipeline.Stages.ComputationFunctions.MultiContextComputationFunctions.RankOrderComputations.Zscorer object at 0x0000025910292DC0>, <pyphoplacecellanalysis.General.Pipeline.Stages.ComputationFunctions.MultiContextComputationFunctions.RankOrderComputations.Zscorer object at 0x0000025910292F10>, -1.0640855100344981), 311: (<pyphoplacecellanalysis.General.Pipeline.Stages.ComputationFunctions.MultiContextComputationFunctions.RankOrderComputations.Zscorer object at 0x00000259102B50A0>, <pyphoplacecellanalysis.General.Pipeline.Stages.ComputationFunctions.MultiContextComputationFunctions.RankOrderComputations.Zscorer object at 0x00000259102B5250>, 0.376337705054138), 312: (<pyphoplacecellanalysis.General.Pipeline.Stages.ComputationFunctions.MultiContextComputationFunctions.RankOrderComputations.Zscorer object at 0x00000259102B5640>, <pyphoplacecellanalysis.General.Pipeline.Stages.ComputationFunctions.MultiContextComputationFunctions.RankOrderComputations.Zscorer object at 0x00000259102B59D0>, -0.3710036256555912), 313: (<pyphoplacecellanalysis.General.Pipeline.Stages.ComputationFunctions.MultiContextComputationFunctions.RankOrderComputations.Zscorer object at 0x00000259102B5B20>, <pyphoplacecellanalysis.General.Pipeline.Stages.ComputationFunctions.MultiContextComputationFunctions.RankOrderComputations.Zscorer object at 0x00000259102B5D30>, 0.4740719657880471), 314: (<pyphoplacecellanalysis.General.Pipeline.Stages.ComputationFunctions.MultiContextComputationFunctions.RankOrderComputations.Zscorer object at 0x00000259102BD0D0>, <pyphoplacecellanalysis.General.Pipeline.Stages.ComputationFunctions.MultiContextComputationFunctions.RankOrderComputations.Zscorer object at 0x00000259102BD250>, 1.8028514412196492), 315: (<pyphoplacecellanalysis.General.Pipeline.Stages.ComputationFunctions.MultiContextComputationFunctions.RankOrderComputations.Zscorer object at 0x00000259102BD490>, <pyphoplacecellanalysis.General.Pipeline.Stages.ComputationFunctions.MultiContextComputationFunctions.RankOrderComputations.Zscorer object at 0x00000259102BD640>, 1.3432917311190375), 316: (<pyphoplacecellanalysis.General.Pipeline.Stages.ComputationFunctions.MultiContextComputationFunctions.RankOrderComputations.Zscorer object at 0x00000259102BD820>, <pyphoplacecellanalysis.General.Pipeline.Stages.ComputationFunctions.MultiContextComputationFunctions.RankOrderComputations.Zscorer object at 0x00000259102BDA30>, 0.5860124821801277), 317: (<pyphoplacecellanalysis.General.Pipeline.Stages.ComputationFunctions.MultiContextComputationFunctions.RankOrderComputations.Zscorer object at 0x00000259102BDD90>, <pyphoplacecellanalysis.General.Pipeline.Stages.ComputationFunctions.MultiContextComputationFunctions.RankOrderComputations.Zscorer object at 0x00000259102BDF10>, 1.0928023565308496), 318: (<pyphoplacecellanalysis.General.Pipeline.Stages.ComputationFunctions.MultiContextComputationFunctions.RankOrderComputations.Zscorer object at 0x00000259102C1190>, <pyphoplacecellanalysis.General.Pipeline.Stages.ComputationFunctions.MultiContextComputationFunctions.RankOrderComputations.Zscorer object at 0x00000259102C1340>, 0.2229171067851361), 319: (<pyphoplacecellanalysis.General.Pipeline.Stages.ComputationFunctions.MultiContextComputationFunctions.RankOrderComputations.Zscorer object at 0x00000259102C1610>, <pyphoplacecellanalysis.General.Pipeline.Stages.ComputationFunctions.MultiContextComputationFunctions.RankOrderComputations.Zscorer object at 0x00000259102C1790>, -0.2388660180594595), 320: (<pyphoplacecellanalysis.General.Pipeline.Stages.ComputationFunctions.MultiContextComputationFunctions.RankOrderComputations.Zscorer object at 0x00000259102C1BB0>, <pyphoplacecellanalysis.General.Pipeline.Stages.ComputationFunctions.MultiContextComputationFunctions.RankOrderComputations.Zscorer object at 0x00000259102C1DF0>, -0.5591308621666629), 321: (<pyphoplacecellanalysis.General.Pipeline.Stages.ComputationFunctions.MultiContextComputationFunctions.RankOrderComputations.Zscorer object at 0x00000259102C7130>, <pyphoplacecellanalysis.General.Pipeline.Stages.ComputationFunctions.MultiContextComputationFunctions.RankOrderComputations.Zscorer object at 0x00000259102C7370>, -0.5481744114227632), 322: (<pyphoplacecellanalysis.General.Pipeline.Stages.ComputationFunctions.MultiContextComputationFunctions.RankOrderComputations.Zscorer object at 0x00000259102C7670>, <pyphoplacecellanalysis.General.Pipeline.Stages.ComputationFunctions.MultiContextComputationFunctions.RankOrderComputations.Zscorer object at 0x00000259102C7A30>, 0.2658899706171354), 323: (<pyphoplacecellanalysis.General.Pipeline.Stages.ComputationFunctions.MultiContextComputationFunctions.RankOrderComputations.Zscorer object at 0x00000259102C7D90>, <pyphoplacecellanalysis.General.Pipeline.Stages.ComputationFunctions.MultiContextComputationFunctions.RankOrderComputations.Zscorer object at 0x00000259102C7F70>, -0.49867063704408876), 324: (<pyphoplacecellanalysis.General.Pipeline.Stages.ComputationFunctions.MultiContextComputationFunctions.RankOrderComputations.Zscorer object at 0x00000259102CF250>, <pyphoplacecellanalysis.General.Pipeline.Stages.ComputationFunctions.MultiContextComputationFunctions.RankOrderComputations.Zscorer object at 0x00000259102CF580>, 0.19405839089194443), 325: (<pyphoplacecellanalysis.General.Pipeline.Stages.ComputationFunctions.MultiContextComputationFunctions.RankOrderComputations.Zscorer object at 0x00000259102CF880>, <pyphoplacecellanalysis.General.Pipeline.Stages.ComputationFunctions.MultiContextComputationFunctions.RankOrderComputations.Zscorer object at 0x00000259102CFA90>, -0.18163843141760522), 326: (<pyphoplacecellanalysis.General.Pipeline.Stages.ComputationFunctions.MultiContextComputationFunctions.RankOrderComputations.Zscorer object at 0x00000259102CFD90>, <pyphoplacecellanalysis.General.Pipeline.Stages.ComputationFunctions.MultiContextComputationFunctions.RankOrderComputations.Zscorer object at 0x000002592A1C63D0>, -0.06418453192870241), 327: (<pyphoplacecellanalysis.General.Pipeline.Stages.ComputationFunctions.MultiContextComputationFunctions.RankOrderComputations.Zscorer object at 0x000002592A1C6610>, <pyphoplacecellanalysis.General.Pipeline.Stages.ComputationFunctions.MultiContextComputationFunctions.RankOrderComputations.Zscorer object at 0x000002592A1C6A30>, 0.3801512600668202), 328: (<pyphoplacecellanalysis.General.Pipeline.Stages.ComputationFunctions.MultiContextComputationFunctions.RankOrderComputations.Zscorer object at 0x000002592A1C6C70>, <pyphoplacecellanalysis.General.Pipeline.Stages.ComputationFunctions.MultiContextComputationFunctions.RankOrderComputations.Zscorer object at 0x000002592A1C6EE0>, -0.21917127355413668), 329: (<pyphoplacecellanalysis.General.Pipeline.Stages.ComputationFunctions.MultiContextComputationFunctions.RankOrderComputations.Zscorer object at 0x000002592A1E0190>, <pyphoplacecellanalysis.General.Pipeline.Stages.ComputationFunctions.MultiContextComputationFunctions.RankOrderComputations.Zscorer object at 0x000002592A1E02E0>, -0.37000595984150864), 330: (<pyphoplacecellanalysis.General.Pipeline.Stages.ComputationFunctions.MultiContextComputationFunctions.RankOrderComputations.Zscorer object at 0x000002592A1E0460>, <pyphoplacecellanalysis.General.Pipeline.Stages.ComputationFunctions.MultiContextComputationFunctions.RankOrderComputations.Zscorer object at 0x000002592A1E05B0>, 0.09269830084889019), 331: (<pyphoplacecellanalysis.General.Pipeline.Stages.ComputationFunctions.MultiContextComputationFunctions.RankOrderComputations.Zscorer object at 0x000002592A1E0730>, <pyphoplacecellanalysis.General.Pipeline.Stages.ComputationFunctions.MultiContextComputationFunctions.RankOrderComputations.Zscorer object at 0x000002592A1E08B0>, 0.9291321114397895), 332: (<pyphoplacecellanalysis.General.Pipeline.Stages.ComputationFunctions.MultiContextComputationFunctions.RankOrderComputations.Zscorer object at 0x000002592A1E0BE0>, <pyphoplacecellanalysis.General.Pipeline.Stages.ComputationFunctions.MultiContextComputationFunctions.RankOrderComputations.Zscorer object at 0x000002592A1E0EB0>, -0.011106798402923057), 333: (<pyphoplacecellanalysis.General.Pipeline.Stages.ComputationFunctions.MultiContextComputationFunctions.RankOrderComputations.Zscorer object at 0x000002592A1E64C0>, <pyphoplacecellanalysis.General.Pipeline.Stages.ComputationFunctions.MultiContextComputationFunctions.RankOrderComputations.Zscorer object at 0x000002592A1E65E0>, 0.5063067806826509), 334: (<pyphoplacecellanalysis.General.Pipeline.Stages.ComputationFunctions.MultiContextComputationFunctions.RankOrderComputations.Zscorer object at 0x000002592A1E6760>, <pyphoplacecellanalysis.General.Pipeline.Stages.ComputationFunctions.MultiContextComputationFunctions.RankOrderComputations.Zscorer object at 0x000002592A1E68B0>, 1.122542351367267), 335: (<pyphoplacecellanalysis.General.Pipeline.Stages.ComputationFunctions.MultiContextComputationFunctions.RankOrderComputations.Zscorer object at 0x000002592A1E6A30>, <pyphoplacecellanalysis.General.Pipeline.Stages.ComputationFunctions.MultiContextComputationFunctions.RankOrderComputations.Zscorer object at 0x000002592A1E6B80>, 0.10599595928882799), 336: (<pyphoplacecellanalysis.General.Pipeline.Stages.ComputationFunctions.MultiContextComputationFunctions.RankOrderComputations.Zscorer object at 0x000002592A1E6D00>, <pyphoplacecellanalysis.General.Pipeline.Stages.ComputationFunctions.MultiContextComputationFunctions.RankOrderComputations.Zscorer object at 0x000002592A1E6E50>, -0.8490447779065751), 337: (<pyphoplacecellanalysis.General.Pipeline.Stages.ComputationFunctions.MultiContextComputationFunctions.RankOrderComputations.Zscorer object at 0x000002592A1E6FD0>, <pyphoplacecellanalysis.General.Pipeline.Stages.ComputationFunctions.MultiContextComputationFunctions.RankOrderComputations.Zscorer object at 0x000002592E6A2130>, 0.6347684708412026), 338: (<pyphoplacecellanalysis.General.Pipeline.Stages.ComputationFunctions.MultiContextComputationFunctions.RankOrderComputations.Zscorer object at 0x000002592E6A22B0>, <pyphoplacecellanalysis.General.Pipeline.Stages.ComputationFunctions.MultiContextComputationFunctions.RankOrderComputations.Zscorer object at 0x000002592E6A2460>, 0.4416885122194918), 339: (<pyphoplacecellanalysis.General.Pipeline.Stages.ComputationFunctions.MultiContextComputationFunctions.RankOrderComputations.Zscorer object at 0x000002592E6A2730>, <pyphoplacecellanalysis.General.Pipeline.Stages.ComputationFunctions.MultiContextComputationFunctions.RankOrderComputations.Zscorer object at 0x000002592E6A2A30>, -0.7768862052264628), 340: (<pyphoplacecellanalysis.General.Pipeline.Stages.ComputationFunctions.MultiContextComputationFunctions.RankOrderComputations.Zscorer object at 0x000002592E6A2D00>, <pyphoplacecellanalysis.General.Pipeline.Stages.ComputationFunctions.MultiContextComputationFunctions.RankOrderComputations.Zscorer object at 0x000002592E6A2E80>, 0.29501031986166426), 341: (<pyphoplacecellanalysis.General.Pipeline.Stages.ComputationFunctions.MultiContextComputationFunctions.RankOrderComputations.Zscorer object at 0x000002592E6AB280>, <pyphoplacecellanalysis.General.Pipeline.Stages.ComputationFunctions.MultiContextComputationFunctions.RankOrderComputations.Zscorer object at 0x000002592E6AB3D0>, 0.4081717039358349), 342: (<pyphoplacecellanalysis.General.Pipeline.Stages.ComputationFunctions.MultiContextComputationFunctions.RankOrderComputations.Zscorer object at 0x000002592E6AB640>, <pyphoplacecellanalysis.General.Pipeline.Stages.ComputationFunctions.MultiContextComputationFunctions.RankOrderComputations.Zscorer object at 0x000002592E6AB850>, 1.147374920715835), 343: (<pyphoplacecellanalysis.General.Pipeline.Stages.ComputationFunctions.MultiContextComputationFunctions.RankOrderComputations.Zscorer object at 0x000002592E6ABA00>, <pyphoplacecellanalysis.General.Pipeline.Stages.ComputationFunctions.MultiContextComputationFunctions.RankOrderComputations.Zscorer object at 0x000002592E6ABB80>, -0.09066630573863255), 344: (<pyphoplacecellanalysis.General.Pipeline.Stages.ComputationFunctions.MultiContextComputationFunctions.RankOrderComputations.Zscorer object at 0x000002592E6ABF40>, <pyphoplacecellanalysis.General.Pipeline.Stages.ComputationFunctions.MultiContextComputationFunctions.RankOrderComputations.Zscorer object at 0x000002592E6B10D0>, -1.4271476410100292), 345: (<pyphoplacecellanalysis.General.Pipeline.Stages.ComputationFunctions.MultiContextComputationFunctions.RankOrderComputations.Zscorer object at 0x000002592E6B1340>, <pyphoplacecellanalysis.General.Pipeline.Stages.ComputationFunctions.MultiContextComputationFunctions.RankOrderComputations.Zscorer object at 0x000002592E6B1550>, -0.0484732830249035), 346: (<pyphoplacecellanalysis.General.Pipeline.Stages.ComputationFunctions.MultiContextComputationFunctions.RankOrderComputations.Zscorer object at 0x000002592E6B17C0>, <pyphoplacecellanalysis.General.Pipeline.Stages.ComputationFunctions.MultiContextComputationFunctions.RankOrderComputations.Zscorer object at 0x000002592E6B1910>, -0.1305411157209535), 347: (<pyphoplacecellanalysis.General.Pipeline.Stages.ComputationFunctions.MultiContextComputationFunctions.RankOrderComputations.Zscorer object at 0x000002592E6B1DC0>, <pyphoplacecellanalysis.General.Pipeline.Stages.ComputationFunctions.MultiContextComputationFunctions.RankOrderComputations.Zscorer object at 0x000002592E6B5070>, -0.07558782262635078), 348: (<pyphoplacecellanalysis.General.Pipeline.Stages.ComputationFunctions.MultiContextComputationFunctions.RankOrderComputations.Zscorer object at 0x000002592E6B51F0>, <pyphoplacecellanalysis.General.Pipeline.Stages.ComputationFunctions.MultiContextComputationFunctions.RankOrderComputations.Zscorer object at 0x000002592E6B5520>, 0.8139758506593536), 349: (<pyphoplacecellanalysis.General.Pipeline.Stages.ComputationFunctions.MultiContextComputationFunctions.RankOrderComputations.Zscorer object at 0x000002592E6B5820>, <pyphoplacecellanalysis.General.Pipeline.Stages.ComputationFunctions.MultiContextComputationFunctions.RankOrderComputations.Zscorer object at 0x000002592E6B5C40>, 0.7446591119351739), 350: (<pyphoplacecellanalysis.General.Pipeline.Stages.ComputationFunctions.MultiContextComputationFunctions.RankOrderComputations.Zscorer object at 0x000002592E6B5D90>, <pyphoplacecellanalysis.General.Pipeline.Stages.ComputationFunctions.MultiContextComputationFunctions.RankOrderComputations.Zscorer object at 0x000002592E6BE1F0>, 1.5394790255481912), 351: (<pyphoplacecellanalysis.General.Pipeline.Stages.ComputationFunctions.MultiContextComputationFunctions.RankOrderComputations.Zscorer object at 0x000002592E6BE520>, <pyphoplacecellanalysis.General.Pipeline.Stages.ComputationFunctions.MultiContextComputationFunctions.RankOrderComputations.Zscorer object at 0x000002592E6BE730>, -0.5839831944795012), 352: (<pyphoplacecellanalysis.General.Pipeline.Stages.ComputationFunctions.MultiContextComputationFunctions.RankOrderComputations.Zscorer object at 0x000002592E6BEA30>, <pyphoplacecellanalysis.General.Pipeline.Stages.ComputationFunctions.MultiContextComputationFunctions.RankOrderComputations.Zscorer object at 0x000002592E6BEEE0>, 0.5391986787336815), 353: (<pyphoplacecellanalysis.General.Pipeline.Stages.ComputationFunctions.MultiContextComputationFunctions.RankOrderComputations.Zscorer object at 0x000002592E6C6220>, <pyphoplacecellanalysis.General.Pipeline.Stages.ComputationFunctions.MultiContextComputationFunctions.RankOrderComputations.Zscorer object at 0x000002592E6C64C0>, -0.34627546648012386), 354: (<pyphoplacecellanalysis.General.Pipeline.Stages.ComputationFunctions.MultiContextComputationFunctions.RankOrderComputations.Zscorer object at 0x000002592E6C6760>, <pyphoplacecellanalysis.General.Pipeline.Stages.ComputationFunctions.MultiContextComputationFunctions.RankOrderComputations.Zscorer object at 0x000002592E6C6C40>, 0.0), 355: (<pyphoplacecellanalysis.General.Pipeline.Stages.ComputationFunctions.MultiContextComputationFunctions.RankOrderComputations.Zscorer object at 0x000002592E6CD100>, <pyphoplacecellanalysis.General.Pipeline.Stages.ComputationFunctions.MultiContextComputationFunctions.RankOrderComputations.Zscorer object at 0x000002592E6CD250>, -0.2100160094870161), 356: (<pyphoplacecellanalysis.General.Pipeline.Stages.ComputationFunctions.MultiContextComputationFunctions.RankOrderComputations.Zscorer object at 0x000002592E6CD3D0>, <pyphoplacecellanalysis.General.Pipeline.Stages.ComputationFunctions.MultiContextComputationFunctions.RankOrderComputations.Zscorer object at 0x000002592E6CD520>, -0.3773531297135762), 357: (<pyphoplacecellanalysis.General.Pipeline.Stages.ComputationFunctions.MultiContextComputationFunctions.RankOrderComputations.Zscorer object at 0x000002592E6CD6A0>, <pyphoplacecellanalysis.General.Pipeline.Stages.ComputationFunctions.MultiContextComputationFunctions.RankOrderComputations.Zscorer object at 0x000002592E6CD7F0>, 0.2022275069264321), 358: (<pyphoplacecellanalysis.General.Pipeline.Stages.ComputationFunctions.MultiContextComputationFunctions.RankOrderComputations.Zscorer object at 0x000002592E6CD970>, <pyphoplacecellanalysis.General.Pipeline.Stages.ComputationFunctions.MultiContextComputationFunctions.RankOrderComputations.Zscorer object at 0x000002592E6CDAC0>, 0.7226707898119948), 359: (<pyphoplacecellanalysis.General.Pipeline.Stages.ComputationFunctions.MultiContextComputationFunctions.RankOrderComputations.Zscorer object at 0x000002592E6CDC40>, <pyphoplacecellanalysis.General.Pipeline.Stages.ComputationFunctions.MultiContextComputationFunctions.RankOrderComputations.Zscorer object at 0x000002592E6CDD90>, 0.020839662317274854), 360: (<pyphoplacecellanalysis.General.Pipeline.Stages.ComputationFunctions.MultiContextComputationFunctions.RankOrderComputations.Zscorer object at 0x000002592E6CDF10>, <pyphoplacecellanalysis.General.Pipeline.Stages.ComputationFunctions.MultiContextComputationFunctions.RankOrderComputations.Zscorer object at 0x000002596EF50070>, 0.32365730618134103), 361: (<pyphoplacecellanalysis.General.Pipeline.Stages.ComputationFunctions.MultiContextComputationFunctions.RankOrderComputations.Zscorer object at 0x000002596EF501F0>, <pyphoplacecellanalysis.General.Pipeline.Stages.ComputationFunctions.MultiContextComputationFunctions.RankOrderComputations.Zscorer object at 0x000002596EF50340>, -0.4751371394271242), 362: (<pyphoplacecellanalysis.General.Pipeline.Stages.ComputationFunctions.MultiContextComputationFunctions.RankOrderComputations.Zscorer object at 0x000002596EF504C0>, <pyphoplacecellanalysis.General.Pipeline.Stages.ComputationFunctions.MultiContextComputationFunctions.RankOrderComputations.Zscorer object at 0x000002596EF50610>, -1.3265933676486408), 363: (<pyphoplacecellanalysis.General.Pipeline.Stages.ComputationFunctions.MultiContextComputationFunctions.RankOrderComputations.Zscorer object at 0x000002596EF50790>, <pyphoplacecellanalysis.General.Pipeline.Stages.ComputationFunctions.MultiContextComputationFunctions.RankOrderComputations.Zscorer object at 0x000002596EF508E0>, -0.3831813175799318), 364: (<pyphoplacecellanalysis.General.Pipeline.Stages.ComputationFunctions.MultiContextComputationFunctions.RankOrderComputations.Zscorer object at 0x000002596EF50A60>, <pyphoplacecellanalysis.General.Pipeline.Stages.ComputationFunctions.MultiContextComputationFunctions.RankOrderComputations.Zscorer object at 0x000002596EF50BB0>, -0.5875817555183421), 365: (<pyphoplacecellanalysis.General.Pipeline.Stages.ComputationFunctions.MultiContextComputationFunctions.RankOrderComputations.Zscorer object at 0x000002596EF50D90>, <pyphoplacecellanalysis.General.Pipeline.Stages.ComputationFunctions.MultiContextComputationFunctions.RankOrderComputations.Zscorer object at 0x000002596EF550A0>, -0.08978153566265978), 366: (<pyphoplacecellanalysis.General.Pipeline.Stages.ComputationFunctions.MultiContextComputationFunctions.RankOrderComputations.Zscorer object at 0x000002596EF55220>, <pyphoplacecellanalysis.General.Pipeline.Stages.ComputationFunctions.MultiContextComputationFunctions.RankOrderComputations.Zscorer object at 0x000002596EF55940>, 0.2157365003096201), 367: (<pyphoplacecellanalysis.General.Pipeline.Stages.ComputationFunctions.MultiContextComputationFunctions.RankOrderComputations.Zscorer object at 0x000002596EF55A90>, <pyphoplacecellanalysis.General.Pipeline.Stages.ComputationFunctions.MultiContextComputationFunctions.RankOrderComputations.Zscorer object at 0x000002596EF55BE0>, 0.2269619897071955), 368: (<pyphoplacecellanalysis.General.Pipeline.Stages.ComputationFunctions.MultiContextComputationFunctions.RankOrderComputations.Zscorer object at 0x000002596EF55D60>, <pyphoplacecellanalysis.General.Pipeline.Stages.ComputationFunctions.MultiContextComputationFunctions.RankOrderComputations.Zscorer object at 0x000002596EF55EB0>, -0.6739286327740013), 369: (<pyphoplacecellanalysis.General.Pipeline.Stages.ComputationFunctions.MultiContextComputationFunctions.RankOrderComputations.Zscorer object at 0x000002596EF79040>, <pyphoplacecellanalysis.General.Pipeline.Stages.ComputationFunctions.MultiContextComputationFunctions.RankOrderComputations.Zscorer object at 0x000002596EF79190>, 2.0035145146479674), 370: (<pyphoplacecellanalysis.General.Pipeline.Stages.ComputationFunctions.MultiContextComputationFunctions.RankOrderComputations.Zscorer object at 0x000002596EF79310>, <pyphoplacecellanalysis.General.Pipeline.Stages.ComputationFunctions.MultiContextComputationFunctions.RankOrderComputations.Zscorer object at 0x000002596EF79490>, -0.6042843649836956), 371: (<pyphoplacecellanalysis.General.Pipeline.Stages.ComputationFunctions.MultiContextComputationFunctions.RankOrderComputations.Zscorer object at 0x000002596EF79790>, <pyphoplacecellanalysis.General.Pipeline.Stages.ComputationFunctions.MultiContextComputationFunctions.RankOrderComputations.Zscorer object at 0x000002596EF79A90>, 0.22223380382930036), 372: (<pyphoplacecellanalysis.General.Pipeline.Stages.ComputationFunctions.MultiContextComputationFunctions.RankOrderComputations.Zscorer object at 0x000002596EF79D60>, <pyphoplacecellanalysis.General.Pipeline.Stages.ComputationFunctions.MultiContextComputationFunctions.RankOrderComputations.Zscorer object at 0x000002596EF79EE0>, 0.000656714435818273), 373: (<pyphoplacecellanalysis.General.Pipeline.Stages.ComputationFunctions.MultiContextComputationFunctions.RankOrderComputations.Zscorer object at 0x000002596EF801C0>, <pyphoplacecellanalysis.General.Pipeline.Stages.ComputationFunctions.MultiContextComputationFunctions.RankOrderComputations.Zscorer object at 0x000002596EF804F0>, -0.6049554717085601), 374: (<pyphoplacecellanalysis.General.Pipeline.Stages.ComputationFunctions.MultiContextComputationFunctions.RankOrderComputations.Zscorer object at 0x000002596EF806A0>, <pyphoplacecellanalysis.General.Pipeline.Stages.ComputationFunctions.MultiContextComputationFunctions.RankOrderComputations.Zscorer object at 0x000002596EF80850>, 0.35802795239977897), 375: (<pyphoplacecellanalysis.General.Pipeline.Stages.ComputationFunctions.MultiContextComputationFunctions.RankOrderComputations.Zscorer object at 0x000002596EF80A60>, <pyphoplacecellanalysis.General.Pipeline.Stages.ComputationFunctions.MultiContextComputationFunctions.RankOrderComputations.Zscorer object at 0x000002596EF80BE0>, -0.6327188760479614), 376: (<pyphoplacecellanalysis.General.Pipeline.Stages.ComputationFunctions.MultiContextComputationFunctions.RankOrderComputations.Zscorer object at 0x000002596EF80E80>, <pyphoplacecellanalysis.General.Pipeline.Stages.ComputationFunctions.MultiContextComputationFunctions.RankOrderComputations.Zscorer object at 0x000002596EF871F0>, 0.0998603884154754), 377: (<pyphoplacecellanalysis.General.Pipeline.Stages.ComputationFunctions.MultiContextComputationFunctions.RankOrderComputations.Zscorer object at 0x000002596EF873A0>, <pyphoplacecellanalysis.General.Pipeline.Stages.ComputationFunctions.MultiContextComputationFunctions.RankOrderComputations.Zscorer object at 0x000002596EF87550>, -0.5252291249812019), 378: (<pyphoplacecellanalysis.General.Pipeline.Stages.ComputationFunctions.MultiContextComputationFunctions.RankOrderComputations.Zscorer object at 0x000002596EF87820>, <pyphoplacecellanalysis.General.Pipeline.Stages.ComputationFunctions.MultiContextComputationFunctions.RankOrderComputations.Zscorer object at 0x000002596EF87A30>, 0.10270469841759455), 379: (<pyphoplacecellanalysis.General.Pipeline.Stages.ComputationFunctions.MultiContextComputationFunctions.RankOrderComputations.Zscorer object at 0x000002596EF87D60>, <pyphoplacecellanalysis.General.Pipeline.Stages.ComputationFunctions.MultiContextComputationFunctions.RankOrderComputations.Zscorer object at 0x000002596EF8D100>, 0.025219775659997445), 380: (<pyphoplacecellanalysis.General.Pipeline.Stages.ComputationFunctions.MultiContextComputationFunctions.RankOrderComputations.Zscorer object at 0x000002596EF8D2B0>, <pyphoplacecellanalysis.General.Pipeline.Stages.ComputationFunctions.MultiContextComputationFunctions.RankOrderComputations.Zscorer object at 0x000002596EF8D760>, -0.36253119693591307), 381: (<pyphoplacecellanalysis.General.Pipeline.Stages.ComputationFunctions.MultiContextComputationFunctions.RankOrderComputations.Zscorer object at 0x000002596EF8DA60>, <pyphoplacecellanalysis.General.Pipeline.Stages.ComputationFunctions.MultiContextComputationFunctions.RankOrderComputations.Zscorer object at 0x000002596EF8DBB0>, -0.23527885535390142), 382: (<pyphoplacecellanalysis.General.Pipeline.Stages.ComputationFunctions.MultiContextComputationFunctions.RankOrderComputations.Zscorer object at 0x000002596EF8DE80>, <pyphoplacecellanalysis.General.Pipeline.Stages.ComputationFunctions.MultiContextComputationFunctions.RankOrderComputations.Zscorer object at 0x00000259956431C0>, 0.3362091628398998), 383: (<pyphoplacecellanalysis.General.Pipeline.Stages.ComputationFunctions.MultiContextComputationFunctions.RankOrderComputations.Zscorer object at 0x00000259956434F0>, <pyphoplacecellanalysis.General.Pipeline.Stages.ComputationFunctions.MultiContextComputationFunctions.RankOrderComputations.Zscorer object at 0x0000025995643970>, -0.29046431448700777), 384: (<pyphoplacecellanalysis.General.Pipeline.Stages.ComputationFunctions.MultiContextComputationFunctions.RankOrderComputations.Zscorer object at 0x0000025995643C70>, <pyphoplacecellanalysis.General.Pipeline.Stages.ComputationFunctions.MultiContextComputationFunctions.RankOrderComputations.Zscorer object at 0x0000025995643F10>, -0.03436967429876514), 385: (<pyphoplacecellanalysis.General.Pipeline.Stages.ComputationFunctions.MultiContextComputationFunctions.RankOrderComputations.Zscorer object at 0x000002599564A250>, <pyphoplacecellanalysis.General.Pipeline.Stages.ComputationFunctions.MultiContextComputationFunctions.RankOrderComputations.Zscorer object at 0x000002599564A280>, 0.29764465258706835), 386: (<pyphoplacecellanalysis.General.Pipeline.Stages.ComputationFunctions.MultiContextComputationFunctions.RankOrderComputations.Zscorer object at 0x000002599564A820>, <pyphoplacecellanalysis.General.Pipeline.Stages.ComputationFunctions.MultiContextComputationFunctions.RankOrderComputations.Zscorer object at 0x000002599564AD30>, 0.21345042898027267), 387: (<pyphoplacecellanalysis.General.Pipeline.Stages.ComputationFunctions.MultiContextComputationFunctions.RankOrderComputations.Zscorer object at 0x0000025995652100>, <pyphoplacecellanalysis.General.Pipeline.Stages.ComputationFunctions.MultiContextComputationFunctions.RankOrderComputations.Zscorer object at 0x00000259956522B0>, -0.10830521665826276), 388: (<pyphoplacecellanalysis.General.Pipeline.Stages.ComputationFunctions.MultiContextComputationFunctions.RankOrderComputations.Zscorer object at 0x0000025995652430>, <pyphoplacecellanalysis.General.Pipeline.Stages.ComputationFunctions.MultiContextComputationFunctions.RankOrderComputations.Zscorer object at 0x0000025995652580>, 0.06956354784080543), 389: (<pyphoplacecellanalysis.General.Pipeline.Stages.ComputationFunctions.MultiContextComputationFunctions.RankOrderComputations.Zscorer object at 0x0000025995652700>, <pyphoplacecellanalysis.General.Pipeline.Stages.ComputationFunctions.MultiContextComputationFunctions.RankOrderComputations.Zscorer object at 0x0000025995652850>, 0.619588580450301), 390: (<pyphoplacecellanalysis.General.Pipeline.Stages.ComputationFunctions.MultiContextComputationFunctions.RankOrderComputations.Zscorer object at 0x00000259956529D0>, <pyphoplacecellanalysis.General.Pipeline.Stages.ComputationFunctions.MultiContextComputationFunctions.RankOrderComputations.Zscorer object at 0x0000025995652B20>, -0.011198055246729309), 391: (<pyphoplacecellanalysis.General.Pipeline.Stages.ComputationFunctions.MultiContextComputationFunctions.RankOrderComputations.Zscorer object at 0x0000025995652CA0>, <pyphoplacecellanalysis.General.Pipeline.Stages.ComputationFunctions.MultiContextComputationFunctions.RankOrderComputations.Zscorer object at 0x0000025995652DF0>, -0.3248951794937305), 392: (<pyphoplacecellanalysis.General.Pipeline.Stages.ComputationFunctions.MultiContextComputationFunctions.RankOrderComputations.Zscorer object at 0x0000025995652F70>, <pyphoplacecellanalysis.General.Pipeline.Stages.ComputationFunctions.MultiContextComputationFunctions.RankOrderComputations.Zscorer object at 0x000002599565D4F0>, 0.08865621472283935), 393: (<pyphoplacecellanalysis.General.Pipeline.Stages.ComputationFunctions.MultiContextComputationFunctions.RankOrderComputations.Zscorer object at 0x000002599565D0A0>, <pyphoplacecellanalysis.General.Pipeline.Stages.ComputationFunctions.MultiContextComputationFunctions.RankOrderComputations.Zscorer object at 0x000002599566AB80>, -0.060558738733299755), 394: (<pyphoplacecellanalysis.General.Pipeline.Stages.ComputationFunctions.MultiContextComputationFunctions.RankOrderComputations.Zscorer object at 0x000002599566AD00>, <pyphoplacecellanalysis.General.Pipeline.Stages.ComputationFunctions.MultiContextComputationFunctions.RankOrderComputations.Zscorer object at 0x000002599566AE50>, -0.16206728287918004), 395: (<pyphoplacecellanalysis.General.Pipeline.Stages.ComputationFunctions.MultiContextComputationFunctions.RankOrderComputations.Zscorer object at 0x000002599566AFD0>, <pyphoplacecellanalysis.General.Pipeline.Stages.ComputationFunctions.MultiContextComputationFunctions.RankOrderComputations.Zscorer object at 0x0000025995671160>, 0.1414715377114752), 396: (<pyphoplacecellanalysis.General.Pipeline.Stages.ComputationFunctions.MultiContextComputationFunctions.RankOrderComputations.Zscorer object at 0x00000259956712E0>, <pyphoplacecellanalysis.General.Pipeline.Stages.ComputationFunctions.MultiContextComputationFunctions.RankOrderComputations.Zscorer object at 0x0000025995671430>, 0.399731666343357), 397: (<pyphoplacecellanalysis.General.Pipeline.Stages.ComputationFunctions.MultiContextComputationFunctions.RankOrderComputations.Zscorer object at 0x00000259956715B0>, <pyphoplacecellanalysis.General.Pipeline.Stages.ComputationFunctions.MultiContextComputationFunctions.RankOrderComputations.Zscorer object at 0x0000025995671700>, 0.24549090024308795), 398: (<pyphoplacecellanalysis.General.Pipeline.Stages.ComputationFunctions.MultiContextComputationFunctions.RankOrderComputations.Zscorer object at 0x0000025995671880>, <pyphoplacecellanalysis.General.Pipeline.Stages.ComputationFunctions.MultiContextComputationFunctions.RankOrderComputations.Zscorer object at 0x00000259956719D0>, 1.360314655997051), 399: (<pyphoplacecellanalysis.General.Pipeline.Stages.ComputationFunctions.MultiContextComputationFunctions.RankOrderComputations.Zscorer object at 0x0000025997A2D100>, <pyphoplacecellanalysis.General.Pipeline.Stages.ComputationFunctions.MultiContextComputationFunctions.RankOrderComputations.Zscorer object at 0x0000025997A31190>, -0.094809708484755), 400: (<pyphoplacecellanalysis.General.Pipeline.Stages.ComputationFunctions.MultiContextComputationFunctions.RankOrderComputations.Zscorer object at 0x0000025997A31BB0>, <pyphoplacecellanalysis.General.Pipeline.Stages.ComputationFunctions.MultiContextComputationFunctions.RankOrderComputations.Zscorer object at 0x0000025997A38190>, 0.18662795460060258), 401: (<pyphoplacecellanalysis.General.Pipeline.Stages.ComputationFunctions.MultiContextComputationFunctions.RankOrderComputations.Zscorer object at 0x0000025997A38FA0>, <pyphoplacecellanalysis.General.Pipeline.Stages.ComputationFunctions.MultiContextComputationFunctions.RankOrderComputations.Zscorer object at 0x0000025997A3E730>, -0.037076563726983536), 402: (<pyphoplacecellanalysis.General.Pipeline.Stages.ComputationFunctions.MultiContextComputationFunctions.RankOrderComputations.Zscorer object at 0x0000025997A472E0>, <pyphoplacecellanalysis.General.Pipeline.Stages.ComputationFunctions.MultiContextComputationFunctions.RankOrderComputations.Zscorer object at 0x0000025997A47430>, 0.31179235862412524), 403: (<pyphoplacecellanalysis.General.Pipeline.Stages.ComputationFunctions.MultiContextComputationFunctions.RankOrderComputations.Zscorer object at 0x0000025997A475B0>, <pyphoplacecellanalysis.General.Pipeline.Stages.ComputationFunctions.MultiContextComputationFunctions.RankOrderComputations.Zscorer object at 0x0000025997A47700>, 0.4928287288818822), 404: (<pyphoplacecellanalysis.General.Pipeline.Stages.ComputationFunctions.MultiContextComputationFunctions.RankOrderComputations.Zscorer object at 0x0000025997A47880>, <pyphoplacecellanalysis.General.Pipeline.Stages.ComputationFunctions.MultiContextComputationFunctions.RankOrderComputations.Zscorer object at 0x0000025997A479D0>, -0.11903356164000511), 405: (<pyphoplacecellanalysis.General.Pipeline.Stages.ComputationFunctions.MultiContextComputationFunctions.RankOrderComputations.Zscorer object at 0x0000025997A47B50>, <pyphoplacecellanalysis.General.Pipeline.Stages.ComputationFunctions.MultiContextComputationFunctions.RankOrderComputations.Zscorer object at 0x0000025997A47CA0>, -0.407465401202292), 406: (<pyphoplacecellanalysis.General.Pipeline.Stages.ComputationFunctions.MultiContextComputationFunctions.RankOrderComputations.Zscorer object at 0x0000025997A47E20>, <pyphoplacecellanalysis.General.Pipeline.Stages.ComputationFunctions.MultiContextComputationFunctions.RankOrderComputations.Zscorer object at 0x0000025997A47F70>, 1.4238631941984425), 407: (<pyphoplacecellanalysis.General.Pipeline.Stages.ComputationFunctions.MultiContextComputationFunctions.RankOrderComputations.Zscorer object at 0x0000025997A4A130>, <pyphoplacecellanalysis.General.Pipeline.Stages.ComputationFunctions.MultiContextComputationFunctions.RankOrderComputations.Zscorer object at 0x00000259B457EEE0>, -0.5607366966958813), 408: (<pyphoplacecellanalysis.General.Pipeline.Stages.ComputationFunctions.MultiContextComputationFunctions.RankOrderComputations.Zscorer object at 0x00000259B45850A0>, <pyphoplacecellanalysis.General.Pipeline.Stages.ComputationFunctions.MultiContextComputationFunctions.RankOrderComputations.Zscorer object at 0x00000259B45851F0>, -0.5800461988609171), 409: (<pyphoplacecellanalysis.General.Pipeline.Stages.ComputationFunctions.MultiContextComputationFunctions.RankOrderComputations.Zscorer object at 0x00000259B4585370>, <pyphoplacecellanalysis.General.Pipeline.Stages.ComputationFunctions.MultiContextComputationFunctions.RankOrderComputations.Zscorer object at 0x00000259B45854C0>, -0.5423349212127166), 410: (<pyphoplacecellanalysis.General.Pipeline.Stages.ComputationFunctions.MultiContextComputationFunctions.RankOrderComputations.Zscorer object at 0x00000259B4585640>, <pyphoplacecellanalysis.General.Pipeline.Stages.ComputationFunctions.MultiContextComputationFunctions.RankOrderComputations.Zscorer object at 0x00000259B4585790>, -0.987506510493076), 411: (<pyphoplacecellanalysis.General.Pipeline.Stages.ComputationFunctions.MultiContextComputationFunctions.RankOrderComputations.Zscorer object at 0x00000259B4585910>, <pyphoplacecellanalysis.General.Pipeline.Stages.ComputationFunctions.MultiContextComputationFunctions.RankOrderComputations.Zscorer object at 0x00000259B4585A60>, -0.4057975742214034), 412: (<pyphoplacecellanalysis.General.Pipeline.Stages.ComputationFunctions.MultiContextComputationFunctions.RankOrderComputations.Zscorer object at 0x00000259B4585BE0>, <pyphoplacecellanalysis.General.Pipeline.Stages.ComputationFunctions.MultiContextComputationFunctions.RankOrderComputations.Zscorer object at 0x00000259B4585D30>, -0.23103715575061878), 413: (<pyphoplacecellanalysis.General.Pipeline.Stages.ComputationFunctions.MultiContextComputationFunctions.RankOrderComputations.Zscorer object at 0x00000259B45A5D60>, <pyphoplacecellanalysis.General.Pipeline.Stages.ComputationFunctions.MultiContextComputationFunctions.RankOrderComputations.Zscorer object at 0x00000259C13A42E0>, -0.642194903672771), 414: (<pyphoplacecellanalysis.General.Pipeline.Stages.ComputationFunctions.MultiContextComputationFunctions.RankOrderComputations.Zscorer object at 0x00000259C13AB310>, <pyphoplacecellanalysis.General.Pipeline.Stages.ComputationFunctions.MultiContextComputationFunctions.RankOrderComputations.Zscorer object at 0x00000259C13AB5E0>, 0.46177201075618046), 415: (<pyphoplacecellanalysis.General.Pipeline.Stages.ComputationFunctions.MultiContextComputationFunctions.RankOrderComputations.Zscorer object at 0x00000259C13B3520>, <pyphoplacecellanalysis.General.Pipeline.Stages.ComputationFunctions.MultiContextComputationFunctions.RankOrderComputations.Zscorer object at 0x00000259C13B3DC0>, 0.31525349346451176), 416: (<pyphoplacecellanalysis.General.Pipeline.Stages.ComputationFunctions.MultiContextComputationFunctions.RankOrderComputations.Zscorer object at 0x00000256E2953460>, <pyphoplacecellanalysis.General.Pipeline.Stages.ComputationFunctions.MultiContextComputationFunctions.RankOrderComputations.Zscorer object at 0x00000256E2953760>, 0.003021314355761362), 417: (<pyphoplacecellanalysis.General.Pipeline.Stages.ComputationFunctions.MultiContextComputationFunctions.RankOrderComputations.Zscorer object at 0x00000256E29531F0>, <pyphoplacecellanalysis.General.Pipeline.Stages.ComputationFunctions.MultiContextComputationFunctions.RankOrderComputations.Zscorer object at 0x00000256E2953A60>, 0.2829463229442344), 418: (<pyphoplacecellanalysis.General.Pipeline.Stages.ComputationFunctions.MultiContextComputationFunctions.RankOrderComputations.Zscorer object at 0x00000259F87CB610>, <pyphoplacecellanalysis.General.Pipeline.Stages.ComputationFunctions.MultiContextComputationFunctions.RankOrderComputations.Zscorer object at 0x00000259F87CB400>, 0.3314650299906141), 419: (<pyphoplacecellanalysis.General.Pipeline.Stages.ComputationFunctions.MultiContextComputationFunctions.RankOrderComputations.Zscorer object at 0x00000259F87CB0D0>, <pyphoplacecellanalysis.General.Pipeline.Stages.ComputationFunctions.MultiContextComputationFunctions.RankOrderComputations.Zscorer object at 0x00000259F87CB2E0>, 0.8687286748991667), 420: (<pyphoplacecellanalysis.General.Pipeline.Stages.ComputationFunctions.MultiContextComputationFunctions.RankOrderComputations.Zscorer object at 0x00000259F87CB790>, <pyphoplacecellanalysis.General.Pipeline.Stages.ComputationFunctions.MultiContextComputationFunctions.RankOrderComputations.Zscorer object at 0x00000259F87CB970>, 0.21450014590548028), 421: (<pyphoplacecellanalysis.General.Pipeline.Stages.ComputationFunctions.MultiContextComputationFunctions.RankOrderComputations.Zscorer object at 0x00000259F87CBAF0>, <pyphoplacecellanalysis.General.Pipeline.Stages.ComputationFunctions.MultiContextComputationFunctions.RankOrderComputations.Zscorer object at 0x00000259F87CBC40>, -0.012894235532727505), 422: (<pyphoplacecellanalysis.General.Pipeline.Stages.ComputationFunctions.MultiContextComputationFunctions.RankOrderComputations.Zscorer object at 0x00000259F87CBDC0>, <pyphoplacecellanalysis.General.Pipeline.Stages.ComputationFunctions.MultiContextComputationFunctions.RankOrderComputations.Zscorer object at 0x00000259F87CBF10>, 0.43897200129827585), 423: (<pyphoplacecellanalysis.General.Pipeline.Stages.ComputationFunctions.MultiContextComputationFunctions.RankOrderComputations.Zscorer object at 0x00000256D1C020D0>, <pyphoplacecellanalysis.General.Pipeline.Stages.ComputationFunctions.MultiContextComputationFunctions.RankOrderComputations.Zscorer object at 0x00000256D1C02220>, 0.17266823442723633), 424: (<pyphoplacecellanalysis.General.Pipeline.Stages.ComputationFunctions.MultiContextComputationFunctions.RankOrderComputations.Zscorer object at 0x00000256D1C023A0>, <pyphoplacecellanalysis.General.Pipeline.Stages.ComputationFunctions.MultiContextComputationFunctions.RankOrderComputations.Zscorer object at 0x00000256D1C024F0>, -0.26611454323853645), 425: (<pyphoplacecellanalysis.General.Pipeline.Stages.ComputationFunctions.MultiContextComputationFunctions.RankOrderComputations.Zscorer object at 0x00000256D1C02670>, <pyphoplacecellanalysis.General.Pipeline.Stages.ComputationFunctions.MultiContextComputationFunctions.RankOrderComputations.Zscorer object at 0x00000256D1C027C0>, -0.9952304733608285), 426: (<pyphoplacecellanalysis.General.Pipeline.Stages.ComputationFunctions.MultiContextComputationFunctions.RankOrderComputations.Zscorer object at 0x00000256D1C02940>, <pyphoplacecellanalysis.General.Pipeline.Stages.ComputationFunctions.MultiContextComputationFunctions.RankOrderComputations.Zscorer object at 0x00000256D1C02A90>, 0.3105273750882843), 427: (<pyphoplacecellanalysis.General.Pipeline.Stages.ComputationFunctions.MultiContextComputationFunctions.RankOrderComputations.Zscorer object at 0x00000256D1C02C10>, <pyphoplacecellanalysis.General.Pipeline.Stages.ComputationFunctions.MultiContextComputationFunctions.RankOrderComputations.Zscorer object at 0x00000256D1C02D60>, 0.41918033240782), 428: (<pyphoplacecellanalysis.General.Pipeline.Stages.ComputationFunctions.MultiContextComputationFunctions.RankOrderComputations.Zscorer object at 0x00000256D1C02EE0>, <pyphoplacecellanalysis.General.Pipeline.Stages.ComputationFunctions.MultiContextComputationFunctions.RankOrderComputations.Zscorer object at 0x00000256D1C08070>, 0.0639557487180793), 429: (<pyphoplacecellanalysis.General.Pipeline.Stages.ComputationFunctions.MultiContextComputationFunctions.RankOrderComputations.Zscorer object at 0x00000256D1C081F0>, <pyphoplacecellanalysis.General.Pipeline.Stages.ComputationFunctions.MultiContextComputationFunctions.RankOrderComputations.Zscorer object at 0x00000256D1C08340>, 0.2964193817510674), 430: (<pyphoplacecellanalysis.General.Pipeline.Stages.ComputationFunctions.MultiContextComputationFunctions.RankOrderComputations.Zscorer object at 0x00000256D1C084C0>, <pyphoplacecellanalysis.General.Pipeline.Stages.ComputationFunctions.MultiContextComputationFunctions.RankOrderComputations.Zscorer object at 0x00000256D1C08610>, 0.7534536259763753), 431: (<pyphoplacecellanalysis.General.Pipeline.Stages.ComputationFunctions.MultiContextComputationFunctions.RankOrderComputations.Zscorer object at 0x00000256D1C08790>, <pyphoplacecellanalysis.General.Pipeline.Stages.ComputationFunctions.MultiContextComputationFunctions.RankOrderComputations.Zscorer object at 0x00000256D1C088E0>, -0.9790905377399309), 432: (<pyphoplacecellanalysis.General.Pipeline.Stages.ComputationFunctions.MultiContextComputationFunctions.RankOrderComputations.Zscorer object at 0x00000256D1C08A60>, <pyphoplacecellanalysis.General.Pipeline.Stages.ComputationFunctions.MultiContextComputationFunctions.RankOrderComputations.Zscorer object at 0x00000256D1C08BB0>, 0.19618357559022653), 433: (<pyphoplacecellanalysis.General.Pipeline.Stages.ComputationFunctions.MultiContextComputationFunctions.RankOrderComputations.Zscorer object at 0x00000256D1C08D30>, <pyphoplacecellanalysis.General.Pipeline.Stages.ComputationFunctions.MultiContextComputationFunctions.RankOrderComputations.Zscorer object at 0x00000256D1C08E80>, 1.2818477088465476), 434: (<pyphoplacecellanalysis.General.Pipeline.Stages.ComputationFunctions.MultiContextComputationFunctions.RankOrderComputations.Zscorer object at 0x00000256D1C0D040>, <pyphoplacecellanalysis.General.Pipeline.Stages.ComputationFunctions.MultiContextComputationFunctions.RankOrderComputations.Zscorer object at 0x00000256D1C0D190>, 0.7553402000478646), 435: (<pyphoplacecellanalysis.General.Pipeline.Stages.ComputationFunctions.MultiContextComputationFunctions.RankOrderComputations.Zscorer object at 0x00000256D1C0D310>, <pyphoplacecellanalysis.General.Pipeline.Stages.ComputationFunctions.MultiContextComputationFunctions.RankOrderComputations.Zscorer object at 0x00000256D1C0D460>, -0.7633735766214601), 436: (<pyphoplacecellanalysis.General.Pipeline.Stages.ComputationFunctions.MultiContextComputationFunctions.RankOrderComputations.Zscorer object at 0x00000256D1C0D5E0>, <pyphoplacecellanalysis.General.Pipeline.Stages.ComputationFunctions.MultiContextComputationFunctions.RankOrderComputations.Zscorer object at 0x00000256D1C0D730>, -0.0897124947094069), 437: (<pyphoplacecellanalysis.General.Pipeline.Stages.ComputationFunctions.MultiContextComputationFunctions.RankOrderComputations.Zscorer object at 0x00000256D1C0D8B0>, <pyphoplacecellanalysis.General.Pipeline.Stages.ComputationFunctions.MultiContextComputationFunctions.RankOrderComputations.Zscorer object at 0x00000256D1C0DA00>, 0.027696895919842146), 438: (<pyphoplacecellanalysis.General.Pipeline.Stages.ComputationFunctions.MultiContextComputationFunctions.RankOrderComputations.Zscorer object at 0x00000256D1C0DB80>, <pyphoplacecellanalysis.General.Pipeline.Stages.ComputationFunctions.MultiContextComputationFunctions.RankOrderComputations.Zscorer object at 0x00000256D1C0DCD0>, -0.7171932889147917), 439: (<pyphoplacecellanalysis.General.Pipeline.Stages.ComputationFunctions.MultiContextComputationFunctions.RankOrderComputations.Zscorer object at 0x00000256D1C0DE50>, <pyphoplacecellanalysis.General.Pipeline.Stages.ComputationFunctions.MultiContextComputationFunctions.RankOrderComputations.Zscorer object at 0x00000256D1C0DFA0>, 0.2061562446309374), 440: (<pyphoplacecellanalysis.General.Pipeline.Stages.ComputationFunctions.MultiContextComputationFunctions.RankOrderComputations.Zscorer object at 0x00000256D1C13160>, <pyphoplacecellanalysis.General.Pipeline.Stages.ComputationFunctions.MultiContextComputationFunctions.RankOrderComputations.Zscorer object at 0x00000256D1C132B0>, 0.27595593263164775), 441: (<pyphoplacecellanalysis.General.Pipeline.Stages.ComputationFunctions.MultiContextComputationFunctions.RankOrderComputations.Zscorer object at 0x00000256D1C13430>, <pyphoplacecellanalysis.General.Pipeline.Stages.ComputationFunctions.MultiContextComputationFunctions.RankOrderComputations.Zscorer object at 0x00000256D1C13580>, -0.26129494221334926), 442: (<pyphoplacecellanalysis.General.Pipeline.Stages.ComputationFunctions.MultiContextComputationFunctions.RankOrderComputations.Zscorer object at 0x00000256D1C13700>, <pyphoplacecellanalysis.General.Pipeline.Stages.ComputationFunctions.MultiContextComputationFunctions.RankOrderComputations.Zscorer object at 0x00000256D1C13850>, -0.5051273115263841), 443: (<pyphoplacecellanalysis.General.Pipeline.Stages.ComputationFunctions.MultiContextComputationFunctions.RankOrderComputations.Zscorer object at 0x00000256D1C139D0>, <pyphoplacecellanalysis.General.Pipeline.Stages.ComputationFunctions.MultiContextComputationFunctions.RankOrderComputations.Zscorer object at 0x00000256D1C13B20>, -0.2641204799737005), 444: (<pyphoplacecellanalysis.General.Pipeline.Stages.ComputationFunctions.MultiContextComputationFunctions.RankOrderComputations.Zscorer object at 0x00000256D1C13CA0>, <pyphoplacecellanalysis.General.Pipeline.Stages.ComputationFunctions.MultiContextComputationFunctions.RankOrderComputations.Zscorer object at 0x00000256D1C13DF0>, 0.24246469549247107), 445: (<pyphoplacecellanalysis.General.Pipeline.Stages.ComputationFunctions.MultiContextComputationFunctions.RankOrderComputations.Zscorer object at 0x00000256D1C13F70>, <pyphoplacecellanalysis.General.Pipeline.Stages.ComputationFunctions.MultiContextComputationFunctions.RankOrderComputations.Zscorer object at 0x00000256D1C17100>, -0.6912027896553194), 446: (<pyphoplacecellanalysis.General.Pipeline.Stages.ComputationFunctions.MultiContextComputationFunctions.RankOrderComputations.Zscorer object at 0x00000256D1C17280>, <pyphoplacecellanalysis.General.Pipeline.Stages.ComputationFunctions.MultiContextComputationFunctions.RankOrderComputations.Zscorer object at 0x00000256D1C173D0>, -1.157248180690181), 447: (<pyphoplacecellanalysis.General.Pipeline.Stages.ComputationFunctions.MultiContextComputationFunctions.RankOrderComputations.Zscorer object at 0x00000256D1C17550>, <pyphoplacecellanalysis.General.Pipeline.Stages.ComputationFunctions.MultiContextComputationFunctions.RankOrderComputations.Zscorer object at 0x00000256D1C176A0>, -0.33931231602131584), 448: (<pyphoplacecellanalysis.General.Pipeline.Stages.ComputationFunctions.MultiContextComputationFunctions.RankOrderComputations.Zscorer object at 0x00000256D1C17820>, <pyphoplacecellanalysis.General.Pipeline.Stages.ComputationFunctions.MultiContextComputationFunctions.RankOrderComputations.Zscorer object at 0x00000256D1C17970>, 0.959698610474425), 449: (<pyphoplacecellanalysis.General.Pipeline.Stages.ComputationFunctions.MultiContextComputationFunctions.RankOrderComputations.Zscorer object at 0x00000256D1C17AF0>, <pyphoplacecellanalysis.General.Pipeline.Stages.ComputationFunctions.MultiContextComputationFunctions.RankOrderComputations.Zscorer object at 0x00000256D1C17C40>, -0.7399296196666217), 450: (<pyphoplacecellanalysis.General.Pipeline.Stages.ComputationFunctions.MultiContextComputationFunctions.RankOrderComputations.Zscorer object at 0x00000256D1C17DC0>, <pyphoplacecellanalysis.General.Pipeline.Stages.ComputationFunctions.MultiContextComputationFunctions.RankOrderComputations.Zscorer object at 0x00000256D1C17F10>, 0.397712158053257), 451: (<pyphoplacecellanalysis.General.Pipeline.Stages.ComputationFunctions.MultiContextComputationFunctions.RankOrderComputations.Zscorer object at 0x00000256D1C1C0D0>, <pyphoplacecellanalysis.General.Pipeline.Stages.ComputationFunctions.MultiContextComputationFunctions.RankOrderComputations.Zscorer object at 0x00000256D1C1C220>, -0.6449282939399952), 452: (<pyphoplacecellanalysis.General.Pipeline.Stages.ComputationFunctions.MultiContextComputationFunctions.RankOrderComputations.Zscorer object at 0x00000256D1C1C3A0>, <pyphoplacecellanalysis.General.Pipeline.Stages.ComputationFunctions.MultiContextComputationFunctions.RankOrderComputations.Zscorer object at 0x00000256D1C1C4F0>, 0.10307953418481242), 453: (<pyphoplacecellanalysis.General.Pipeline.Stages.ComputationFunctions.MultiContextComputationFunctions.RankOrderComputations.Zscorer object at 0x00000256D1C1C670>, <pyphoplacecellanalysis.General.Pipeline.Stages.ComputationFunctions.MultiContextComputationFunctions.RankOrderComputations.Zscorer object at 0x00000256D1C1C7C0>, 0.12407055092878361), 454: (<pyphoplacecellanalysis.General.Pipeline.Stages.ComputationFunctions.MultiContextComputationFunctions.RankOrderComputations.Zscorer object at 0x00000256D1C1C940>, <pyphoplacecellanalysis.General.Pipeline.Stages.ComputationFunctions.MultiContextComputationFunctions.RankOrderComputations.Zscorer object at 0x00000256D1C1CA90>, 0.4440237053294369), 455: (<pyphoplacecellanalysis.General.Pipeline.Stages.ComputationFunctions.MultiContextComputationFunctions.RankOrderComputations.Zscorer object at 0x00000256D1C1CC10>, <pyphoplacecellanalysis.General.Pipeline.Stages.ComputationFunctions.MultiContextComputationFunctions.RankOrderComputations.Zscorer object at 0x00000256D1C1CD60>, -0.006747609522139042), 456: (<pyphoplacecellanalysis.General.Pipeline.Stages.ComputationFunctions.MultiContextComputationFunctions.RankOrderComputations.Zscorer object at 0x00000256D1C1CEE0>, <pyphoplacecellanalysis.General.Pipeline.Stages.ComputationFunctions.MultiContextComputationFunctions.RankOrderComputations.Zscorer object at 0x00000256D1C22070>, -0.5156605271729288), 457: (<pyphoplacecellanalysis.General.Pipeline.Stages.ComputationFunctions.MultiContextComputationFunctions.RankOrderComputations.Zscorer object at 0x00000256D1C221F0>, <pyphoplacecellanalysis.General.Pipeline.Stages.ComputationFunctions.MultiContextComputationFunctions.RankOrderComputations.Zscorer object at 0x00000256D1C22340>, -0.8248409872230595), 458: (<pyphoplacecellanalysis.General.Pipeline.Stages.ComputationFunctions.MultiContextComputationFunctions.RankOrderComputations.Zscorer object at 0x00000256D1C224C0>, <pyphoplacecellanalysis.General.Pipeline.Stages.ComputationFunctions.MultiContextComputationFunctions.RankOrderComputations.Zscorer object at 0x00000256D1C22610>, -0.8034174281227233), 459: (<pyphoplacecellanalysis.General.Pipeline.Stages.ComputationFunctions.MultiContextComputationFunctions.RankOrderComputations.Zscorer object at 0x00000256D1C22790>, <pyphoplacecellanalysis.General.Pipeline.Stages.ComputationFunctions.MultiContextComputationFunctions.RankOrderComputations.Zscorer object at 0x00000256D1C228E0>, 0.22535285815003592), 460: (<pyphoplacecellanalysis.General.Pipeline.Stages.ComputationFunctions.MultiContextComputationFunctions.RankOrderComputations.Zscorer object at 0x00000256D1C22A60>, <pyphoplacecellanalysis.General.Pipeline.Stages.ComputationFunctions.MultiContextComputationFunctions.RankOrderComputations.Zscorer object at 0x00000256D1C22BB0>, 0.20264751216088683), 461: (<pyphoplacecellanalysis.General.Pipeline.Stages.ComputationFunctions.MultiContextComputationFunctions.RankOrderComputations.Zscorer object at 0x00000256D1C22D30>, <pyphoplacecellanalysis.General.Pipeline.Stages.ComputationFunctions.MultiContextComputationFunctions.RankOrderComputations.Zscorer object at 0x00000256D1C22E80>, -0.8802478590483334), 462: (<pyphoplacecellanalysis.General.Pipeline.Stages.ComputationFunctions.MultiContextComputationFunctions.RankOrderComputations.Zscorer object at 0x00000256D1C27040>, <pyphoplacecellanalysis.General.Pipeline.Stages.ComputationFunctions.MultiContextComputationFunctions.RankOrderComputations.Zscorer object at 0x00000256D1C27190>, -1.1092806583337234), 463: (<pyphoplacecellanalysis.General.Pipeline.Stages.ComputationFunctions.MultiContextComputationFunctions.RankOrderComputations.Zscorer object at 0x00000256D1C27310>, <pyphoplacecellanalysis.General.Pipeline.Stages.ComputationFunctions.MultiContextComputationFunctions.RankOrderComputations.Zscorer object at 0x00000256D1C27460>, 1.2156724345014729), 464: (<pyphoplacecellanalysis.General.Pipeline.Stages.ComputationFunctions.MultiContextComputationFunctions.RankOrderComputations.Zscorer object at 0x00000256D1C275E0>, <pyphoplacecellanalysis.General.Pipeline.Stages.ComputationFunctions.MultiContextComputationFunctions.RankOrderComputations.Zscorer object at 0x00000256D1C27730>, -0.2664133274770738), 465: (<pyphoplacecellanalysis.General.Pipeline.Stages.ComputationFunctions.MultiContextComputationFunctions.RankOrderComputations.Zscorer object at 0x00000256D1C278B0>, <pyphoplacecellanalysis.General.Pipeline.Stages.ComputationFunctions.MultiContextComputationFunctions.RankOrderComputations.Zscorer object at 0x00000256D1C27A00>, 0.13803921077610337), 466: (<pyphoplacecellanalysis.General.Pipeline.Stages.ComputationFunctions.MultiContextComputationFunctions.RankOrderComputations.Zscorer object at 0x00000256D1C27B80>, <pyphoplacecellanalysis.General.Pipeline.Stages.ComputationFunctions.MultiContextComputationFunctions.RankOrderComputations.Zscorer object at 0x00000256D1C27CD0>, 0.0), 467: (<pyphoplacecellanalysis.General.Pipeline.Stages.ComputationFunctions.MultiContextComputationFunctions.RankOrderComputations.Zscorer object at 0x00000256D1C27E50>, <pyphoplacecellanalysis.General.Pipeline.Stages.ComputationFunctions.MultiContextComputationFunctions.RankOrderComputations.Zscorer object at 0x00000256D1C27FA0>, 0.0004685969176945193), 468: (<pyphoplacecellanalysis.General.Pipeline.Stages.ComputationFunctions.MultiContextComputationFunctions.RankOrderComputations.Zscorer object at 0x00000256D1C2C160>, <pyphoplacecellanalysis.General.Pipeline.Stages.ComputationFunctions.MultiContextComputationFunctions.RankOrderComputations.Zscorer object at 0x00000256D1C2C2B0>, 0.26833463238076605), 469: (<pyphoplacecellanalysis.General.Pipeline.Stages.ComputationFunctions.MultiContextComputationFunctions.RankOrderComputations.Zscorer object at 0x00000256D1C2C430>, <pyphoplacecellanalysis.General.Pipeline.Stages.ComputationFunctions.MultiContextComputationFunctions.RankOrderComputations.Zscorer object at 0x00000256D1C2C580>, -0.039695250801983356), 470: (<pyphoplacecellanalysis.General.Pipeline.Stages.ComputationFunctions.MultiContextComputationFunctions.RankOrderComputations.Zscorer object at 0x00000256D1C2C700>, <pyphoplacecellanalysis.General.Pipeline.Stages.ComputationFunctions.MultiContextComputationFunctions.RankOrderComputations.Zscorer object at 0x00000256D1C2C850>, -1.3166893332140488), 471: (<pyphoplacecellanalysis.General.Pipeline.Stages.ComputationFunctions.MultiContextComputationFunctions.RankOrderComputations.Zscorer object at 0x00000256D1C2C9D0>, <pyphoplacecellanalysis.General.Pipeline.Stages.ComputationFunctions.MultiContextComputationFunctions.RankOrderComputations.Zscorer object at 0x00000256D1C2CB20>, -0.19251382488298185), 472: (<pyphoplacecellanalysis.General.Pipeline.Stages.ComputationFunctions.MultiContextComputationFunctions.RankOrderComputations.Zscorer object at 0x00000256D1C2CCA0>, <pyphoplacecellanalysis.General.Pipeline.Stages.ComputationFunctions.MultiContextComputationFunctions.RankOrderComputations.Zscorer object at 0x00000256D1C2CDF0>, 0.38047712641569836), 473: (<pyphoplacecellanalysis.General.Pipeline.Stages.ComputationFunctions.MultiContextComputationFunctions.RankOrderComputations.Zscorer object at 0x00000256D1C2CF70>, <pyphoplacecellanalysis.General.Pipeline.Stages.ComputationFunctions.MultiContextComputationFunctions.RankOrderComputations.Zscorer object at 0x00000256D1C31100>, 0.6676336389853827), 474: (<pyphoplacecellanalysis.General.Pipeline.Stages.ComputationFunctions.MultiContextComputationFunctions.RankOrderComputations.Zscorer object at 0x00000256D1C31280>, <pyphoplacecellanalysis.General.Pipeline.Stages.ComputationFunctions.MultiContextComputationFunctions.RankOrderComputations.Zscorer object at 0x00000256D1C313D0>, 0.22569094599897788), 475: (<pyphoplacecellanalysis.General.Pipeline.Stages.ComputationFunctions.MultiContextComputationFunctions.RankOrderComputations.Zscorer object at 0x00000256D1C31550>, <pyphoplacecellanalysis.General.Pipeline.Stages.ComputationFunctions.MultiContextComputationFunctions.RankOrderComputations.Zscorer object at 0x00000256D1C316A0>, 1.5901374621457096), 476: (<pyphoplacecellanalysis.General.Pipeline.Stages.ComputationFunctions.MultiContextComputationFunctions.RankOrderComputations.Zscorer object at 0x00000256D1C31820>, <pyphoplacecellanalysis.General.Pipeline.Stages.ComputationFunctions.MultiContextComputationFunctions.RankOrderComputations.Zscorer object at 0x00000256D1C31970>, -0.775366600902614), 477: (<pyphoplacecellanalysis.General.Pipeline.Stages.ComputationFunctions.MultiContextComputationFunctions.RankOrderComputations.Zscorer object at 0x00000256D1C31AF0>, <pyphoplacecellanalysis.General.Pipeline.Stages.ComputationFunctions.MultiContextComputationFunctions.RankOrderComputations.Zscorer object at 0x00000256D1C31C40>, -0.48676795455646327), 478: (<pyphoplacecellanalysis.General.Pipeline.Stages.ComputationFunctions.MultiContextComputationFunctions.RankOrderComputations.Zscorer object at 0x00000256D1C31DC0>, <pyphoplacecellanalysis.General.Pipeline.Stages.ComputationFunctions.MultiContextComputationFunctions.RankOrderComputations.Zscorer object at 0x00000256D1C31F10>, -0.5237589651278503), 479: (<pyphoplacecellanalysis.General.Pipeline.Stages.ComputationFunctions.MultiContextComputationFunctions.RankOrderComputations.Zscorer object at 0x00000256D1C360D0>, <pyphoplacecellanalysis.General.Pipeline.Stages.ComputationFunctions.MultiContextComputationFunctions.RankOrderComputations.Zscorer object at 0x00000256D1C36220>, 0.24727279976409924), 480: (<pyphoplacecellanalysis.General.Pipeline.Stages.ComputationFunctions.MultiContextComputationFunctions.RankOrderComputations.Zscorer object at 0x00000256D1C363A0>, <pyphoplacecellanalysis.General.Pipeline.Stages.ComputationFunctions.MultiContextComputationFunctions.RankOrderComputations.Zscorer object at 0x00000256D1C364F0>, 0.9242805427167189), 481: (<pyphoplacecellanalysis.General.Pipeline.Stages.ComputationFunctions.MultiContextComputationFunctions.RankOrderComputations.Zscorer object at 0x00000256D1C36670>, <pyphoplacecellanalysis.General.Pipeline.Stages.ComputationFunctions.MultiContextComputationFunctions.RankOrderComputations.Zscorer object at 0x00000256D1C367C0>, 0.32160730727067177), 482: (<pyphoplacecellanalysis.General.Pipeline.Stages.ComputationFunctions.MultiContextComputationFunctions.RankOrderComputations.Zscorer object at 0x00000256D1C36940>, <pyphoplacecellanalysis.General.Pipeline.Stages.ComputationFunctions.MultiContextComputationFunctions.RankOrderComputations.Zscorer object at 0x00000256D1C36A90>, 0.8325661840214473), 483: (<pyphoplacecellanalysis.General.Pipeline.Stages.ComputationFunctions.MultiContextComputationFunctions.RankOrderComputations.Zscorer object at 0x00000256D1C36C10>, <pyphoplacecellanalysis.General.Pipeline.Stages.ComputationFunctions.MultiContextComputationFunctions.RankOrderComputations.Zscorer object at 0x00000256D1C36D60>, 0.5841323538503802), 484: (<pyphoplacecellanalysis.General.Pipeline.Stages.ComputationFunctions.MultiContextComputationFunctions.RankOrderComputations.Zscorer object at 0x00000256D1C36EE0>, <pyphoplacecellanalysis.General.Pipeline.Stages.ComputationFunctions.MultiContextComputationFunctions.RankOrderComputations.Zscorer object at 0x00000256D1C3B070>, -0.6753272905701136), 485: (<pyphoplacecellanalysis.General.Pipeline.Stages.ComputationFunctions.MultiContextComputationFunctions.RankOrderComputations.Zscorer object at 0x00000256D1C3B1F0>, <pyphoplacecellanalysis.General.Pipeline.Stages.ComputationFunctions.MultiContextComputationFunctions.RankOrderComputations.Zscorer object at 0x00000256D1C3B340>, 0.5938658330792764), 486: (<pyphoplacecellanalysis.General.Pipeline.Stages.ComputationFunctions.MultiContextComputationFunctions.RankOrderComputations.Zscorer object at 0x00000256D1C3B4C0>, <pyphoplacecellanalysis.General.Pipeline.Stages.ComputationFunctions.MultiContextComputationFunctions.RankOrderComputations.Zscorer object at 0x00000256D1C3B610>, -0.9881818494664353), 487: (<pyphoplacecellanalysis.General.Pipeline.Stages.ComputationFunctions.MultiContextComputationFunctions.RankOrderComputations.Zscorer object at 0x00000256D1C3B790>, <pyphoplacecellanalysis.General.Pipeline.Stages.ComputationFunctions.MultiContextComputationFunctions.RankOrderComputations.Zscorer object at 0x00000256D1C3B8E0>, -0.37993234340112614), 488: (<pyphoplacecellanalysis.General.Pipeline.Stages.ComputationFunctions.MultiContextComputationFunctions.RankOrderComputations.Zscorer object at 0x00000256D1C3BA60>, <pyphoplacecellanalysis.General.Pipeline.Stages.ComputationFunctions.MultiContextComputationFunctions.RankOrderComputations.Zscorer object at 0x00000256D1C3BBB0>, 0.6128185817378582), 489: (<pyphoplacecellanalysis.General.Pipeline.Stages.ComputationFunctions.MultiContextComputationFunctions.RankOrderComputations.Zscorer object at 0x00000256D1C3BD30>, <pyphoplacecellanalysis.General.Pipeline.Stages.ComputationFunctions.MultiContextComputationFunctions.RankOrderComputations.Zscorer object at 0x00000256D1C3BE80>, -0.747458513018898), 490: (<pyphoplacecellanalysis.General.Pipeline.Stages.ComputationFunctions.MultiContextComputationFunctions.RankOrderComputations.Zscorer object at 0x00000256D1C40040>, <pyphoplacecellanalysis.General.Pipeline.Stages.ComputationFunctions.MultiContextComputationFunctions.RankOrderComputations.Zscorer object at 0x00000256D1C40190>, 0.6614397431004018), 491: (<pyphoplacecellanalysis.General.Pipeline.Stages.ComputationFunctions.MultiContextComputationFunctions.RankOrderComputations.Zscorer object at 0x00000256D1C40310>, <pyphoplacecellanalysis.General.Pipeline.Stages.ComputationFunctions.MultiContextComputationFunctions.RankOrderComputations.Zscorer object at 0x00000256D1C40460>, -0.29701513996836365), 492: (<pyphoplacecellanalysis.General.Pipeline.Stages.ComputationFunctions.MultiContextComputationFunctions.RankOrderComputations.Zscorer object at 0x00000256D1C405E0>, <pyphoplacecellanalysis.General.Pipeline.Stages.ComputationFunctions.MultiContextComputationFunctions.RankOrderComputations.Zscorer object at 0x00000256D1C40730>, -0.29253487499862346), 493: (<pyphoplacecellanalysis.General.Pipeline.Stages.ComputationFunctions.MultiContextComputationFunctions.RankOrderComputations.Zscorer object at 0x00000256D1C408B0>, <pyphoplacecellanalysis.General.Pipeline.Stages.ComputationFunctions.MultiContextComputationFunctions.RankOrderComputations.Zscorer object at 0x00000256D1C40A00>, -0.037893091202036044), 494: (<pyphoplacecellanalysis.General.Pipeline.Stages.ComputationFunctions.MultiContextComputationFunctions.RankOrderComputations.Zscorer object at 0x00000256D1C40B80>, <pyphoplacecellanalysis.General.Pipeline.Stages.ComputationFunctions.MultiContextComputationFunctions.RankOrderComputations.Zscorer object at 0x00000256D1C40CD0>, 0.4623795883298891), 495: (<pyphoplacecellanalysis.General.Pipeline.Stages.ComputationFunctions.MultiContextComputationFunctions.RankOrderComputations.Zscorer object at 0x00000256D1C40E50>, <pyphoplacecellanalysis.General.Pipeline.Stages.ComputationFunctions.MultiContextComputationFunctions.RankOrderComputations.Zscorer object at 0x00000256D1C40FA0>, 0.23391746905796573), 496: (<pyphoplacecellanalysis.General.Pipeline.Stages.ComputationFunctions.MultiContextComputationFunctions.RankOrderComputations.Zscorer object at 0x00000256D1C46160>, <pyphoplacecellanalysis.General.Pipeline.Stages.ComputationFunctions.MultiContextComputationFunctions.RankOrderComputations.Zscorer object at 0x00000256D1C462B0>, -0.887869139289884), 497: (<pyphoplacecellanalysis.General.Pipeline.Stages.ComputationFunctions.MultiContextComputationFunctions.RankOrderComputations.Zscorer object at 0x00000256D1C46430>, <pyphoplacecellanalysis.General.Pipeline.Stages.ComputationFunctions.MultiContextComputationFunctions.RankOrderComputations.Zscorer object at 0x00000256D1C46580>, 0.6529487079875378), 498: (<pyphoplacecellanalysis.General.Pipeline.Stages.ComputationFunctions.MultiContextComputationFunctions.RankOrderComputations.Zscorer object at 0x00000256D1C46700>, <pyphoplacecellanalysis.General.Pipeline.Stages.ComputationFunctions.MultiContextComputationFunctions.RankOrderComputations.Zscorer object at 0x00000256D1C46850>, 0.2686882429561268), 499: (<pyphoplacecellanalysis.General.Pipeline.Stages.ComputationFunctions.MultiContextComputationFunctions.RankOrderComputations.Zscorer object at 0x00000256D1C469D0>, <pyphoplacecellanalysis.General.Pipeline.Stages.ComputationFunctions.MultiContextComputationFunctions.RankOrderComputations.Zscorer object at 0x00000256D1C46B20>, 0.40736433544117645), 500: (<pyphoplacecellanalysis.General.Pipeline.Stages.ComputationFunctions.MultiContextComputationFunctions.RankOrderComputations.Zscorer object at 0x00000256D1C46CA0>, <pyphoplacecellanalysis.General.Pipeline.Stages.ComputationFunctions.MultiContextComputationFunctions.RankOrderComputations.Zscorer object at 0x00000256D1C46DF0>, -0.19018855070116247), 501: (<pyphoplacecellanalysis.General.Pipeline.Stages.ComputationFunctions.MultiContextComputationFunctions.RankOrderComputations.Zscorer object at 0x00000256D1C46F70>, <pyphoplacecellanalysis.General.Pipeline.Stages.ComputationFunctions.MultiContextComputationFunctions.RankOrderComputations.Zscorer object at 0x00000256D1C4B100>, 0.26022632076467955), 502: (<pyphoplacecellanalysis.General.Pipeline.Stages.ComputationFunctions.MultiContextComputationFunctions.RankOrderComputations.Zscorer object at 0x00000256D1C4B280>, <pyphoplacecellanalysis.General.Pipeline.Stages.ComputationFunctions.MultiContextComputationFunctions.RankOrderComputations.Zscorer object at 0x00000256D1C4B3D0>, 1.9754174412761931), 503: (<pyphoplacecellanalysis.General.Pipeline.Stages.ComputationFunctions.MultiContextComputationFunctions.RankOrderComputations.Zscorer object at 0x00000256D1C4B550>, <pyphoplacecellanalysis.General.Pipeline.Stages.ComputationFunctions.MultiContextComputationFunctions.RankOrderComputations.Zscorer object at 0x00000256D1C4B6A0>, 0.04369795381973274), 504: (<pyphoplacecellanalysis.General.Pipeline.Stages.ComputationFunctions.MultiContextComputationFunctions.RankOrderComputations.Zscorer object at 0x00000256D1C4B820>, <pyphoplacecellanalysis.General.Pipeline.Stages.ComputationFunctions.MultiContextComputationFunctions.RankOrderComputations.Zscorer object at 0x00000256D1C4B970>, -0.44523250362348854), 505: (<pyphoplacecellanalysis.General.Pipeline.Stages.ComputationFunctions.MultiContextComputationFunctions.RankOrderComputations.Zscorer object at 0x00000256D1C4BAF0>, <pyphoplacecellanalysis.General.Pipeline.Stages.ComputationFunctions.MultiContextComputationFunctions.RankOrderComputations.Zscorer object at 0x00000256D1C4BC40>, -0.15379415061550072), 506: (<pyphoplacecellanalysis.General.Pipeline.Stages.ComputationFunctions.MultiContextComputationFunctions.RankOrderComputations.Zscorer object at 0x00000256D1C4BDC0>, <pyphoplacecellanalysis.General.Pipeline.Stages.ComputationFunctions.MultiContextComputationFunctions.RankOrderComputations.Zscorer object at 0x00000256D1C4BF10>, 0.11877765190215145), 507: (<pyphoplacecellanalysis.General.Pipeline.Stages.ComputationFunctions.MultiContextComputationFunctions.RankOrderComputations.Zscorer object at 0x00000256D1C500D0>, <pyphoplacecellanalysis.General.Pipeline.Stages.ComputationFunctions.MultiContextComputationFunctions.RankOrderComputations.Zscorer object at 0x00000256D1C50220>, 0.18638073490708718), 508: (<pyphoplacecellanalysis.General.Pipeline.Stages.ComputationFunctions.MultiContextComputationFunctions.RankOrderComputations.Zscorer object at 0x00000256D1C503A0>, <pyphoplacecellanalysis.General.Pipeline.Stages.ComputationFunctions.MultiContextComputationFunctions.RankOrderComputations.Zscorer object at 0x00000256D1C504F0>, -0.551873838181853), 509: (<pyphoplacecellanalysis.General.Pipeline.Stages.ComputationFunctions.MultiContextComputationFunctions.RankOrderComputations.Zscorer object at 0x00000256D1C50670>, <pyphoplacecellanalysis.General.Pipeline.Stages.ComputationFunctions.MultiContextComputationFunctions.RankOrderComputations.Zscorer object at 0x00000256D1C507C0>, -0.6065555380589531), 510: (<pyphoplacecellanalysis.General.Pipeline.Stages.ComputationFunctions.MultiContextComputationFunctions.RankOrderComputations.Zscorer object at 0x00000256D1C50940>, <pyphoplacecellanalysis.General.Pipeline.Stages.ComputationFunctions.MultiContextComputationFunctions.RankOrderComputations.Zscorer object at 0x00000256D1C50A90>, -0.16258227781657764), 511: (<pyphoplacecellanalysis.General.Pipeline.Stages.ComputationFunctions.MultiContextComputationFunctions.RankOrderComputations.Zscorer object at 0x00000256D1C50C10>, <pyphoplacecellanalysis.General.Pipeline.Stages.ComputationFunctions.MultiContextComputationFunctions.RankOrderComputations.Zscorer object at 0x00000256D1C50D60>, -0.03851828526617229), 512: (<pyphoplacecellanalysis.General.Pipeline.Stages.ComputationFunctions.MultiContextComputationFunctions.RankOrderComputations.Zscorer object at 0x00000256D1C50EE0>, <pyphoplacecellanalysis.General.Pipeline.Stages.ComputationFunctions.MultiContextComputationFunctions.RankOrderComputations.Zscorer object at 0x00000256D1C55070>, -0.02392323332772639), 513: (<pyphoplacecellanalysis.General.Pipeline.Stages.ComputationFunctions.MultiContextComputationFunctions.RankOrderComputations.Zscorer object at 0x00000256D1C551F0>, <pyphoplacecellanalysis.General.Pipeline.Stages.ComputationFunctions.MultiContextComputationFunctions.RankOrderComputations.Zscorer object at 0x00000256D1C55340>, 0.032727414223554616), 514: (<pyphoplacecellanalysis.General.Pipeline.Stages.ComputationFunctions.MultiContextComputationFunctions.RankOrderComputations.Zscorer object at 0x00000256D1C554C0>, <pyphoplacecellanalysis.General.Pipeline.Stages.ComputationFunctions.MultiContextComputationFunctions.RankOrderComputations.Zscorer object at 0x00000256D1C55610>, -1.06797282426079), 515: (<pyphoplacecellanalysis.General.Pipeline.Stages.ComputationFunctions.MultiContextComputationFunctions.RankOrderComputations.Zscorer object at 0x00000256D1C55790>, <pyphoplacecellanalysis.General.Pipeline.Stages.ComputationFunctions.MultiContextComputationFunctions.RankOrderComputations.Zscorer object at 0x00000256D1C558E0>, -0.1770798703147154), 516: (<pyphoplacecellanalysis.General.Pipeline.Stages.ComputationFunctions.MultiContextComputationFunctions.RankOrderComputations.Zscorer object at 0x00000256D1C55A60>, <pyphoplacecellanalysis.General.Pipeline.Stages.ComputationFunctions.MultiContextComputationFunctions.RankOrderComputations.Zscorer object at 0x00000256D1C55BB0>, 0.7593998128477735), 517: (<pyphoplacecellanalysis.General.Pipeline.Stages.ComputationFunctions.MultiContextComputationFunctions.RankOrderComputations.Zscorer object at 0x00000256D1C55D30>, <pyphoplacecellanalysis.General.Pipeline.Stages.ComputationFunctions.MultiContextComputationFunctions.RankOrderComputations.Zscorer object at 0x00000256D1C55E80>, 0.7547306563188638), 518: (<pyphoplacecellanalysis.General.Pipeline.Stages.ComputationFunctions.MultiContextComputationFunctions.RankOrderComputations.Zscorer object at 0x00000256D1C5A040>, <pyphoplacecellanalysis.General.Pipeline.Stages.ComputationFunctions.MultiContextComputationFunctions.RankOrderComputations.Zscorer object at 0x00000256D1C5A190>, 0.2506096952485972), 519: (<pyphoplacecellanalysis.General.Pipeline.Stages.ComputationFunctions.MultiContextComputationFunctions.RankOrderComputations.Zscorer object at 0x00000256D1C5A310>, <pyphoplacecellanalysis.General.Pipeline.Stages.ComputationFunctions.MultiContextComputationFunctions.RankOrderComputations.Zscorer object at 0x00000256D1C5A460>, -0.32409891786461575), 520: (<pyphoplacecellanalysis.General.Pipeline.Stages.ComputationFunctions.MultiContextComputationFunctions.RankOrderComputations.Zscorer object at 0x00000256D1C5A5E0>, <pyphoplacecellanalysis.General.Pipeline.Stages.ComputationFunctions.MultiContextComputationFunctions.RankOrderComputations.Zscorer object at 0x00000256D1C5A730>, -0.25626479425856075), 521: (<pyphoplacecellanalysis.General.Pipeline.Stages.ComputationFunctions.MultiContextComputationFunctions.RankOrderComputations.Zscorer object at 0x00000256D1C5A8B0>, <pyphoplacecellanalysis.General.Pipeline.Stages.ComputationFunctions.MultiContextComputationFunctions.RankOrderComputations.Zscorer object at 0x00000256D1C5AA00>, 0.2880474888810607), 522: (<pyphoplacecellanalysis.General.Pipeline.Stages.ComputationFunctions.MultiContextComputationFunctions.RankOrderComputations.Zscorer object at 0x00000256D1C5AB80>, <pyphoplacecellanalysis.General.Pipeline.Stages.ComputationFunctions.MultiContextComputationFunctions.RankOrderComputations.Zscorer object at 0x00000256D1C5ACD0>, -0.3510952609156057), 523: (<pyphoplacecellanalysis.General.Pipeline.Stages.ComputationFunctions.MultiContextComputationFunctions.RankOrderComputations.Zscorer object at 0x00000256D1C5AE50>, <pyphoplacecellanalysis.General.Pipeline.Stages.ComputationFunctions.MultiContextComputationFunctions.RankOrderComputations.Zscorer object at 0x00000256D1C5AFA0>, 0.0), 524: (<pyphoplacecellanalysis.General.Pipeline.Stages.ComputationFunctions.MultiContextComputationFunctions.RankOrderComputations.Zscorer object at 0x00000256D1C60160>, <pyphoplacecellanalysis.General.Pipeline.Stages.ComputationFunctions.MultiContextComputationFunctions.RankOrderComputations.Zscorer object at 0x00000256D1C602B0>, -0.33439303084533), 525: (<pyphoplacecellanalysis.General.Pipeline.Stages.ComputationFunctions.MultiContextComputationFunctions.RankOrderComputations.Zscorer object at 0x00000256D1C60430>, <pyphoplacecellanalysis.General.Pipeline.Stages.ComputationFunctions.MultiContextComputationFunctions.RankOrderComputations.Zscorer object at 0x00000256D1C60580>, 0.6395880229000115), 526: (<pyphoplacecellanalysis.General.Pipeline.Stages.ComputationFunctions.MultiContextComputationFunctions.RankOrderComputations.Zscorer object at 0x00000256D1C60700>, <pyphoplacecellanalysis.General.Pipeline.Stages.ComputationFunctions.MultiContextComputationFunctions.RankOrderComputations.Zscorer object at 0x00000256D1C60850>, 0.2976584058185363), 527: (<pyphoplacecellanalysis.General.Pipeline.Stages.ComputationFunctions.MultiContextComputationFunctions.RankOrderComputations.Zscorer object at 0x00000256D1C609D0>, <pyphoplacecellanalysis.General.Pipeline.Stages.ComputationFunctions.MultiContextComputationFunctions.RankOrderComputations.Zscorer object at 0x00000256D1C60B20>, 0.6055232242746571), 528: (<pyphoplacecellanalysis.General.Pipeline.Stages.ComputationFunctions.MultiContextComputationFunctions.RankOrderComputations.Zscorer object at 0x00000256D1C60CA0>, <pyphoplacecellanalysis.General.Pipeline.Stages.ComputationFunctions.MultiContextComputationFunctions.RankOrderComputations.Zscorer object at 0x00000256D1C60DF0>, -0.36863672568086514), 529: (<pyphoplacecellanalysis.General.Pipeline.Stages.ComputationFunctions.MultiContextComputationFunctions.RankOrderComputations.Zscorer object at 0x00000256D1C60F70>, <pyphoplacecellanalysis.General.Pipeline.Stages.ComputationFunctions.MultiContextComputationFunctions.RankOrderComputations.Zscorer object at 0x00000256D1C64100>, -0.23106557547515938), 530: (<pyphoplacecellanalysis.General.Pipeline.Stages.ComputationFunctions.MultiContextComputationFunctions.RankOrderComputations.Zscorer object at 0x00000256D1C64280>, <pyphoplacecellanalysis.General.Pipeline.Stages.ComputationFunctions.MultiContextComputationFunctions.RankOrderComputations.Zscorer object at 0x00000256D1C643D0>, -0.5743390624640696), 531: (<pyphoplacecellanalysis.General.Pipeline.Stages.ComputationFunctions.MultiContextComputationFunctions.RankOrderComputations.Zscorer object at 0x00000256D1C64550>, <pyphoplacecellanalysis.General.Pipeline.Stages.ComputationFunctions.MultiContextComputationFunctions.RankOrderComputations.Zscorer object at 0x00000256D1C646A0>, -0.7505049986791744), 532: (<pyphoplacecellanalysis.General.Pipeline.Stages.ComputationFunctions.MultiContextComputationFunctions.RankOrderComputations.Zscorer object at 0x00000256D1C64820>, <pyphoplacecellanalysis.General.Pipeline.Stages.ComputationFunctions.MultiContextComputationFunctions.RankOrderComputations.Zscorer object at 0x00000256D1C64970>, -0.1195003217587145), 533: (<pyphoplacecellanalysis.General.Pipeline.Stages.ComputationFunctions.MultiContextComputationFunctions.RankOrderComputations.Zscorer object at 0x00000256D1C64AF0>, <pyphoplacecellanalysis.General.Pipeline.Stages.ComputationFunctions.MultiContextComputationFunctions.RankOrderComputations.Zscorer object at 0x00000256D1C64C40>, -0.07031011496065709), 534: (<pyphoplacecellanalysis.General.Pipeline.Stages.ComputationFunctions.MultiContextComputationFunctions.RankOrderComputations.Zscorer object at 0x00000256D1C64DC0>, <pyphoplacecellanalysis.General.Pipeline.Stages.ComputationFunctions.MultiContextComputationFunctions.RankOrderComputations.Zscorer object at 0x00000256D1C64F10>, -0.798774011279412), 535: (<pyphoplacecellanalysis.General.Pipeline.Stages.ComputationFunctions.MultiContextComputationFunctions.RankOrderComputations.Zscorer object at 0x00000256D1C6A0D0>, <pyphoplacecellanalysis.General.Pipeline.Stages.ComputationFunctions.MultiContextComputationFunctions.RankOrderComputations.Zscorer object at 0x00000256D1C6A220>, 0.7019954326343205), 536: (<pyphoplacecellanalysis.General.Pipeline.Stages.ComputationFunctions.MultiContextComputationFunctions.RankOrderComputations.Zscorer object at 0x00000256D1C6A3A0>, <pyphoplacecellanalysis.General.Pipeline.Stages.ComputationFunctions.MultiContextComputationFunctions.RankOrderComputations.Zscorer object at 0x00000256D1C6A4F0>, 0.47706097392768876), 537: (<pyphoplacecellanalysis.General.Pipeline.Stages.ComputationFunctions.MultiContextComputationFunctions.RankOrderComputations.Zscorer object at 0x00000256D1C6A670>, <pyphoplacecellanalysis.General.Pipeline.Stages.ComputationFunctions.MultiContextComputationFunctions.RankOrderComputations.Zscorer object at 0x00000256D1C6A7C0>, -1.3700511452791146), 538: (<pyphoplacecellanalysis.General.Pipeline.Stages.ComputationFunctions.MultiContextComputationFunctions.RankOrderComputations.Zscorer object at 0x00000256D1C6A940>, <pyphoplacecellanalysis.General.Pipeline.Stages.ComputationFunctions.MultiContextComputationFunctions.RankOrderComputations.Zscorer object at 0x00000256D1C6AA90>, 0.2812871587123873), 539: (<pyphoplacecellanalysis.General.Pipeline.Stages.ComputationFunctions.MultiContextComputationFunctions.RankOrderComputations.Zscorer object at 0x00000256D1C6AC10>, <pyphoplacecellanalysis.General.Pipeline.Stages.ComputationFunctions.MultiContextComputationFunctions.RankOrderComputations.Zscorer object at 0x00000256D1C6AD60>, 0.2594275545088168), 540: (<pyphoplacecellanalysis.General.Pipeline.Stages.ComputationFunctions.MultiContextComputationFunctions.RankOrderComputations.Zscorer object at 0x00000256D1C6AEE0>, <pyphoplacecellanalysis.General.Pipeline.Stages.ComputationFunctions.MultiContextComputationFunctions.RankOrderComputations.Zscorer object at 0x00000256D1C6E070>, -0.3457123105226736), 541: (<pyphoplacecellanalysis.General.Pipeline.Stages.ComputationFunctions.MultiContextComputationFunctions.RankOrderComputations.Zscorer object at 0x00000256D1C6E1F0>, <pyphoplacecellanalysis.General.Pipeline.Stages.ComputationFunctions.MultiContextComputationFunctions.RankOrderComputations.Zscorer object at 0x00000256D1C6E340>, -0.24580257831655405), 542: (<pyphoplacecellanalysis.General.Pipeline.Stages.ComputationFunctions.MultiContextComputationFunctions.RankOrderComputations.Zscorer object at 0x00000256D1C6E4C0>, <pyphoplacecellanalysis.General.Pipeline.Stages.ComputationFunctions.MultiContextComputationFunctions.RankOrderComputations.Zscorer object at 0x00000256D1C6E610>, 0.5735892493011967), 543: (<pyphoplacecellanalysis.General.Pipeline.Stages.ComputationFunctions.MultiContextComputationFunctions.RankOrderComputations.Zscorer object at 0x00000256D1C6E790>, <pyphoplacecellanalysis.General.Pipeline.Stages.ComputationFunctions.MultiContextComputationFunctions.RankOrderComputations.Zscorer object at 0x00000256D1C6E8E0>, 0.6485995392837758), 544: (<pyphoplacecellanalysis.General.Pipeline.Stages.ComputationFunctions.MultiContextComputationFunctions.RankOrderComputations.Zscorer object at 0x00000256D1C6EA60>, <pyphoplacecellanalysis.General.Pipeline.Stages.ComputationFunctions.MultiContextComputationFunctions.RankOrderComputations.Zscorer object at 0x00000256D1C6EBB0>, 0.13128255815983048), 545: (<pyphoplacecellanalysis.General.Pipeline.Stages.ComputationFunctions.MultiContextComputationFunctions.RankOrderComputations.Zscorer object at 0x00000256D1C6ED30>, <pyphoplacecellanalysis.General.Pipeline.Stages.ComputationFunctions.MultiContextComputationFunctions.RankOrderComputations.Zscorer object at 0x00000256D1C6EE80>, -0.5275919097292456), 546: (<pyphoplacecellanalysis.General.Pipeline.Stages.ComputationFunctions.MultiContextComputationFunctions.RankOrderComputations.Zscorer object at 0x00000256D1C74040>, <pyphoplacecellanalysis.General.Pipeline.Stages.ComputationFunctions.MultiContextComputationFunctions.RankOrderComputations.Zscorer object at 0x00000256D1C74190>, -0.6524659743233931), 547: (<pyphoplacecellanalysis.General.Pipeline.Stages.ComputationFunctions.MultiContextComputationFunctions.RankOrderComputations.Zscorer object at 0x00000256D1C74310>, <pyphoplacecellanalysis.General.Pipeline.Stages.ComputationFunctions.MultiContextComputationFunctions.RankOrderComputations.Zscorer object at 0x00000256D1C74460>, -0.5858087719085499), 548: (<pyphoplacecellanalysis.General.Pipeline.Stages.ComputationFunctions.MultiContextComputationFunctions.RankOrderComputations.Zscorer object at 0x00000256D1C745E0>, <pyphoplacecellanalysis.General.Pipeline.Stages.ComputationFunctions.MultiContextComputationFunctions.RankOrderComputations.Zscorer object at 0x00000256D1C74730>, 0.41099350505084775), 549: (<pyphoplacecellanalysis.General.Pipeline.Stages.ComputationFunctions.MultiContextComputationFunctions.RankOrderComputations.Zscorer object at 0x00000256D1C748B0>, <pyphoplacecellanalysis.General.Pipeline.Stages.ComputationFunctions.MultiContextComputationFunctions.RankOrderComputations.Zscorer object at 0x00000256D1C74A00>, -0.5304484017461863), 550: (<pyphoplacecellanalysis.General.Pipeline.Stages.ComputationFunctions.MultiContextComputationFunctions.RankOrderComputations.Zscorer object at 0x00000256D1C74B80>, <pyphoplacecellanalysis.General.Pipeline.Stages.ComputationFunctions.MultiContextComputationFunctions.RankOrderComputations.Zscorer object at 0x00000256D1C74CD0>, 0.003082290776406066), 551: (<pyphoplacecellanalysis.General.Pipeline.Stages.ComputationFunctions.MultiContextComputationFunctions.RankOrderComputations.Zscorer object at 0x00000256D1C74E50>, <pyphoplacecellanalysis.General.Pipeline.Stages.ComputationFunctions.MultiContextComputationFunctions.RankOrderComputations.Zscorer object at 0x00000256D1C74FA0>, 0.587433727748838), 552: (<pyphoplacecellanalysis.General.Pipeline.Stages.ComputationFunctions.MultiContextComputationFunctions.RankOrderComputations.Zscorer object at 0x00000256D1C79160>, <pyphoplacecellanalysis.General.Pipeline.Stages.ComputationFunctions.MultiContextComputationFunctions.RankOrderComputations.Zscorer object at 0x00000256D1C792B0>, 0.04355332121076971), 553: (<pyphoplacecellanalysis.General.Pipeline.Stages.ComputationFunctions.MultiContextComputationFunctions.RankOrderComputations.Zscorer object at 0x00000256D1C79430>, <pyphoplacecellanalysis.General.Pipeline.Stages.ComputationFunctions.MultiContextComputationFunctions.RankOrderComputations.Zscorer object at 0x00000256D1C79580>, 0.5640302062625286), 554: (<pyphoplacecellanalysis.General.Pipeline.Stages.ComputationFunctions.MultiContextComputationFunctions.RankOrderComputations.Zscorer object at 0x00000256D1C79700>, <pyphoplacecellanalysis.General.Pipeline.Stages.ComputationFunctions.MultiContextComputationFunctions.RankOrderComputations.Zscorer object at 0x00000256D1C79850>, -0.7445923812033624), 555: (<pyphoplacecellanalysis.General.Pipeline.Stages.ComputationFunctions.MultiContextComputationFunctions.RankOrderComputations.Zscorer object at 0x00000256D1C799D0>, <pyphoplacecellanalysis.General.Pipeline.Stages.ComputationFunctions.MultiContextComputationFunctions.RankOrderComputations.Zscorer object at 0x00000256D1C79B20>, 0.5093985726794894), 556: (<pyphoplacecellanalysis.General.Pipeline.Stages.ComputationFunctions.MultiContextComputationFunctions.RankOrderComputations.Zscorer object at 0x00000256D1C79CA0>, <pyphoplacecellanalysis.General.Pipeline.Stages.ComputationFunctions.MultiContextComputationFunctions.RankOrderComputations.Zscorer object at 0x00000256D1C79DF0>, 0.017184671878985203), 557: (<pyphoplacecellanalysis.General.Pipeline.Stages.ComputationFunctions.MultiContextComputationFunctions.RankOrderComputations.Zscorer object at 0x00000256D1C79F70>, <pyphoplacecellanalysis.General.Pipeline.Stages.ComputationFunctions.MultiContextComputationFunctions.RankOrderComputations.Zscorer object at 0x00000256D1C7D100>, 0.02100175201045218), 558: (<pyphoplacecellanalysis.General.Pipeline.Stages.ComputationFunctions.MultiContextComputationFunctions.RankOrderComputations.Zscorer object at 0x00000256D1C7D280>, <pyphoplacecellanalysis.General.Pipeline.Stages.ComputationFunctions.MultiContextComputationFunctions.RankOrderComputations.Zscorer object at 0x00000256D1C7D3D0>, 0.0685321733670885), 559: (<pyphoplacecellanalysis.General.Pipeline.Stages.ComputationFunctions.MultiContextComputationFunctions.RankOrderComputations.Zscorer object at 0x00000256D1C7D550>, <pyphoplacecellanalysis.General.Pipeline.Stages.ComputationFunctions.MultiContextComputationFunctions.RankOrderComputations.Zscorer object at 0x00000256D1C7D6A0>, 0.10869820649569406), 560: (<pyphoplacecellanalysis.General.Pipeline.Stages.ComputationFunctions.MultiContextComputationFunctions.RankOrderComputations.Zscorer object at 0x00000256D1C7D820>, <pyphoplacecellanalysis.General.Pipeline.Stages.ComputationFunctions.MultiContextComputationFunctions.RankOrderComputations.Zscorer object at 0x00000256D1C7D970>, 0.5531608869932367), 561: (<pyphoplacecellanalysis.General.Pipeline.Stages.ComputationFunctions.MultiContextComputationFunctions.RankOrderComputations.Zscorer object at 0x00000256D1C7DAF0>, <pyphoplacecellanalysis.General.Pipeline.Stages.ComputationFunctions.MultiContextComputationFunctions.RankOrderComputations.Zscorer object at 0x00000256D1C7DC40>, 0.22457891476329742), 562: (<pyphoplacecellanalysis.General.Pipeline.Stages.ComputationFunctions.MultiContextComputationFunctions.RankOrderComputations.Zscorer object at 0x00000256D1C7DDC0>, <pyphoplacecellanalysis.General.Pipeline.Stages.ComputationFunctions.MultiContextComputationFunctions.RankOrderComputations.Zscorer object at 0x00000256D1C7DF10>, 0.21894902628796453), 563: (<pyphoplacecellanalysis.General.Pipeline.Stages.ComputationFunctions.MultiContextComputationFunctions.RankOrderComputations.Zscorer object at 0x00000256D1C830D0>, <pyphoplacecellanalysis.General.Pipeline.Stages.ComputationFunctions.MultiContextComputationFunctions.RankOrderComputations.Zscorer object at 0x00000256D1C83220>, -0.4979577301683661), 564: (<pyphoplacecellanalysis.General.Pipeline.Stages.ComputationFunctions.MultiContextComputationFunctions.RankOrderComputations.Zscorer object at 0x00000256D1C833A0>, <pyphoplacecellanalysis.General.Pipeline.Stages.ComputationFunctions.MultiContextComputationFunctions.RankOrderComputations.Zscorer object at 0x00000256D1C834F0>, 0.31233688857704767), 565: (<pyphoplacecellanalysis.General.Pipeline.Stages.ComputationFunctions.MultiContextComputationFunctions.RankOrderComputations.Zscorer object at 0x00000256D1C83670>, <pyphoplacecellanalysis.General.Pipeline.Stages.ComputationFunctions.MultiContextComputationFunctions.RankOrderComputations.Zscorer object at 0x00000256D1C837C0>, -0.6395948253526563), 566: (<pyphoplacecellanalysis.General.Pipeline.Stages.ComputationFunctions.MultiContextComputationFunctions.RankOrderComputations.Zscorer object at 0x00000256D1C83940>, <pyphoplacecellanalysis.General.Pipeline.Stages.ComputationFunctions.MultiContextComputationFunctions.RankOrderComputations.Zscorer object at 0x00000256D1C83A90>, 0.7478646038099074), 567: (<pyphoplacecellanalysis.General.Pipeline.Stages.ComputationFunctions.MultiContextComputationFunctions.RankOrderComputations.Zscorer object at 0x00000256D1C83C10>, <pyphoplacecellanalysis.General.Pipeline.Stages.ComputationFunctions.MultiContextComputationFunctions.RankOrderComputations.Zscorer object at 0x00000256D1C83D60>, -0.0940067542894889), 568: (<pyphoplacecellanalysis.General.Pipeline.Stages.ComputationFunctions.MultiContextComputationFunctions.RankOrderComputations.Zscorer object at 0x00000256D1C83EE0>, <pyphoplacecellanalysis.General.Pipeline.Stages.ComputationFunctions.MultiContextComputationFunctions.RankOrderComputations.Zscorer object at 0x00000256D1C88070>, 0.5396501113039507), 569: (<pyphoplacecellanalysis.General.Pipeline.Stages.ComputationFunctions.MultiContextComputationFunctions.RankOrderComputations.Zscorer object at 0x00000256D1C881F0>, <pyphoplacecellanalysis.General.Pipeline.Stages.ComputationFunctions.MultiContextComputationFunctions.RankOrderComputations.Zscorer object at 0x00000256D1C88340>, -0.7652440611399959), 570: (<pyphoplacecellanalysis.General.Pipeline.Stages.ComputationFunctions.MultiContextComputationFunctions.RankOrderComputations.Zscorer object at 0x00000256D1C884C0>, <pyphoplacecellanalysis.General.Pipeline.Stages.ComputationFunctions.MultiContextComputationFunctions.RankOrderComputations.Zscorer object at 0x00000256D1C88610>, 0.33268076259426654), 571: (<pyphoplacecellanalysis.General.Pipeline.Stages.ComputationFunctions.MultiContextComputationFunctions.RankOrderComputations.Zscorer object at 0x00000256D1C88790>, <pyphoplacecellanalysis.General.Pipeline.Stages.ComputationFunctions.MultiContextComputationFunctions.RankOrderComputations.Zscorer object at 0x00000256D1C888E0>, -0.12549903011883057), 572: (<pyphoplacecellanalysis.General.Pipeline.Stages.ComputationFunctions.MultiContextComputationFunctions.RankOrderComputations.Zscorer object at 0x00000256D1C88A60>, <pyphoplacecellanalysis.General.Pipeline.Stages.ComputationFunctions.MultiContextComputationFunctions.RankOrderComputations.Zscorer object at 0x00000256D1C88BB0>, -0.38429303471720555), 573: (<pyphoplacecellanalysis.General.Pipeline.Stages.ComputationFunctions.MultiContextComputationFunctions.RankOrderComputations.Zscorer object at 0x00000256D1C88D30>, <pyphoplacecellanalysis.General.Pipeline.Stages.ComputationFunctions.MultiContextComputationFunctions.RankOrderComputations.Zscorer object at 0x00000256D1C88E80>, -0.7124319955142717), 574: (<pyphoplacecellanalysis.General.Pipeline.Stages.ComputationFunctions.MultiContextComputationFunctions.RankOrderComputations.Zscorer object at 0x00000256D1C8E040>, <pyphoplacecellanalysis.General.Pipeline.Stages.ComputationFunctions.MultiContextComputationFunctions.RankOrderComputations.Zscorer object at 0x00000256D1C8E190>, 0.7236462100036634), 575: (<pyphoplacecellanalysis.General.Pipeline.Stages.ComputationFunctions.MultiContextComputationFunctions.RankOrderComputations.Zscorer object at 0x00000256D1C8E310>, <pyphoplacecellanalysis.General.Pipeline.Stages.ComputationFunctions.MultiContextComputationFunctions.RankOrderComputations.Zscorer object at 0x00000256D1C8E460>, -0.014471829388108537), 576: (<pyphoplacecellanalysis.General.Pipeline.Stages.ComputationFunctions.MultiContextComputationFunctions.RankOrderComputations.Zscorer object at 0x00000256D1C8E5E0>, <pyphoplacecellanalysis.General.Pipeline.Stages.ComputationFunctions.MultiContextComputationFunctions.RankOrderComputations.Zscorer object at 0x00000256D1C8E730>, -0.3827449560849201), 577: (<pyphoplacecellanalysis.General.Pipeline.Stages.ComputationFunctions.MultiContextComputationFunctions.RankOrderComputations.Zscorer object at 0x00000256D1C8E8B0>, <pyphoplacecellanalysis.General.Pipeline.Stages.ComputationFunctions.MultiContextComputationFunctions.RankOrderComputations.Zscorer object at 0x00000256D1C8EA00>, 0.701350767772746), 578: (<pyphoplacecellanalysis.General.Pipeline.Stages.ComputationFunctions.MultiContextComputationFunctions.RankOrderComputations.Zscorer object at 0x00000256D1C8EB80>, <pyphoplacecellanalysis.General.Pipeline.Stages.ComputationFunctions.MultiContextComputationFunctions.RankOrderComputations.Zscorer object at 0x00000256D1C8ECD0>, 0.0), 579: (<pyphoplacecellanalysis.General.Pipeline.Stages.ComputationFunctions.MultiContextComputationFunctions.RankOrderComputations.Zscorer object at 0x00000256D1C8EE50>, <pyphoplacecellanalysis.General.Pipeline.Stages.ComputationFunctions.MultiContextComputationFunctions.RankOrderComputations.Zscorer object at 0x00000256D1C8EFA0>, -0.7996851999711749), 580: (<pyphoplacecellanalysis.General.Pipeline.Stages.ComputationFunctions.MultiContextComputationFunctions.RankOrderComputations.Zscorer object at 0x00000256D1C92160>, <pyphoplacecellanalysis.General.Pipeline.Stages.ComputationFunctions.MultiContextComputationFunctions.RankOrderComputations.Zscorer object at 0x00000256D1C922B0>, 0.3588082021866905), 581: (<pyphoplacecellanalysis.General.Pipeline.Stages.ComputationFunctions.MultiContextComputationFunctions.RankOrderComputations.Zscorer object at 0x00000256D1C92430>, <pyphoplacecellanalysis.General.Pipeline.Stages.ComputationFunctions.MultiContextComputationFunctions.RankOrderComputations.Zscorer object at 0x00000256D1C92580>, -0.6453678645310714), 582: (<pyphoplacecellanalysis.General.Pipeline.Stages.ComputationFunctions.MultiContextComputationFunctions.RankOrderComputations.Zscorer object at 0x00000256D1C92700>, <pyphoplacecellanalysis.General.Pipeline.Stages.ComputationFunctions.MultiContextComputationFunctions.RankOrderComputations.Zscorer object at 0x00000256D1C92850>, 0.544797611659799), 583: (<pyphoplacecellanalysis.General.Pipeline.Stages.ComputationFunctions.MultiContextComputationFunctions.RankOrderComputations.Zscorer object at 0x00000256D1C929D0>, <pyphoplacecellanalysis.General.Pipeline.Stages.ComputationFunctions.MultiContextComputationFunctions.RankOrderComputations.Zscorer object at 0x00000256D1C92B20>, -1.0113212984300586), 584: (<pyphoplacecellanalysis.General.Pipeline.Stages.ComputationFunctions.MultiContextComputationFunctions.RankOrderComputations.Zscorer object at 0x00000256D1C92CA0>, <pyphoplacecellanalysis.General.Pipeline.Stages.ComputationFunctions.MultiContextComputationFunctions.RankOrderComputations.Zscorer object at 0x00000256D1C92DF0>, 0.3029978680539135), 585: (<pyphoplacecellanalysis.General.Pipeline.Stages.ComputationFunctions.MultiContextComputationFunctions.RankOrderComputations.Zscorer object at 0x00000256D1C92F70>, <pyphoplacecellanalysis.General.Pipeline.Stages.ComputationFunctions.MultiContextComputationFunctions.RankOrderComputations.Zscorer object at 0x00000256D1C97100>, 0.6177829031496458), 586: (<pyphoplacecellanalysis.General.Pipeline.Stages.ComputationFunctions.MultiContextComputationFunctions.RankOrderComputations.Zscorer object at 0x00000256D1C97280>, <pyphoplacecellanalysis.General.Pipeline.Stages.ComputationFunctions.MultiContextComputationFunctions.RankOrderComputations.Zscorer object at 0x00000256D1C973D0>, 0.002786929700246965), 587: (<pyphoplacecellanalysis.General.Pipeline.Stages.ComputationFunctions.MultiContextComputationFunctions.RankOrderComputations.Zscorer object at 0x00000256D1C97550>, <pyphoplacecellanalysis.General.Pipeline.Stages.ComputationFunctions.MultiContextComputationFunctions.RankOrderComputations.Zscorer object at 0x00000256D1C976A0>, 0.5472958420942358), 588: (<pyphoplacecellanalysis.General.Pipeline.Stages.ComputationFunctions.MultiContextComputationFunctions.RankOrderComputations.Zscorer object at 0x00000256D1C97820>, <pyphoplacecellanalysis.General.Pipeline.Stages.ComputationFunctions.MultiContextComputationFunctions.RankOrderComputations.Zscorer object at 0x00000256D1C97970>, 0.021420138631259647), 589: (<pyphoplacecellanalysis.General.Pipeline.Stages.ComputationFunctions.MultiContextComputationFunctions.RankOrderComputations.Zscorer object at 0x00000256D1C97AF0>, <pyphoplacecellanalysis.General.Pipeline.Stages.ComputationFunctions.MultiContextComputationFunctions.RankOrderComputations.Zscorer object at 0x00000256D1C97C40>, 0.020559834275388766), 590: (<pyphoplacecellanalysis.General.Pipeline.Stages.ComputationFunctions.MultiContextComputationFunctions.RankOrderComputations.Zscorer object at 0x00000256D1C97DC0>, <pyphoplacecellanalysis.General.Pipeline.Stages.ComputationFunctions.MultiContextComputationFunctions.RankOrderComputations.Zscorer object at 0x00000256D1C97F10>, 0.4786447427935123), 591: (<pyphoplacecellanalysis.General.Pipeline.Stages.ComputationFunctions.MultiContextComputationFunctions.RankOrderComputations.Zscorer object at 0x00000256D1C9D0D0>, <pyphoplacecellanalysis.General.Pipeline.Stages.ComputationFunctions.MultiContextComputationFunctions.RankOrderComputations.Zscorer object at 0x00000256D1C9D220>, -1.607998661273854), 592: (<pyphoplacecellanalysis.General.Pipeline.Stages.ComputationFunctions.MultiContextComputationFunctions.RankOrderComputations.Zscorer object at 0x00000256D1C9D3A0>, <pyphoplacecellanalysis.General.Pipeline.Stages.ComputationFunctions.MultiContextComputationFunctions.RankOrderComputations.Zscorer object at 0x00000256D1C9D4F0>, 0.5866564643498615), 593: (<pyphoplacecellanalysis.General.Pipeline.Stages.ComputationFunctions.MultiContextComputationFunctions.RankOrderComputations.Zscorer object at 0x00000256D1C9D670>, <pyphoplacecellanalysis.General.Pipeline.Stages.ComputationFunctions.MultiContextComputationFunctions.RankOrderComputations.Zscorer object at 0x00000256D1C9D7C0>, 0.6758763627116755), 594: (<pyphoplacecellanalysis.General.Pipeline.Stages.ComputationFunctions.MultiContextComputationFunctions.RankOrderComputations.Zscorer object at 0x00000256D1C9D940>, <pyphoplacecellanalysis.General.Pipeline.Stages.ComputationFunctions.MultiContextComputationFunctions.RankOrderComputations.Zscorer object at 0x00000256D1C9DA90>, 0.1288135959616759), 595: (<pyphoplacecellanalysis.General.Pipeline.Stages.ComputationFunctions.MultiContextComputationFunctions.RankOrderComputations.Zscorer object at 0x00000256D1C9DC10>, <pyphoplacecellanalysis.General.Pipeline.Stages.ComputationFunctions.MultiContextComputationFunctions.RankOrderComputations.Zscorer object at 0x00000256D1C9DD60>, -0.638487573737719), 596: (<pyphoplacecellanalysis.General.Pipeline.Stages.ComputationFunctions.MultiContextComputationFunctions.RankOrderComputations.Zscorer object at 0x00000256D1C9DEE0>, <pyphoplacecellanalysis.General.Pipeline.Stages.ComputationFunctions.MultiContextComputationFunctions.RankOrderComputations.Zscorer object at 0x00000256D1CA1070>, -0.2414023611622783), 597: (<pyphoplacecellanalysis.General.Pipeline.Stages.ComputationFunctions.MultiContextComputationFunctions.RankOrderComputations.Zscorer object at 0x00000256D1CA11F0>, <pyphoplacecellanalysis.General.Pipeline.Stages.ComputationFunctions.MultiContextComputationFunctions.RankOrderComputations.Zscorer object at 0x00000256D1CA1340>, 0.18937723499129633), 598: (<pyphoplacecellanalysis.General.Pipeline.Stages.ComputationFunctions.MultiContextComputationFunctions.RankOrderComputations.Zscorer object at 0x00000256D1CA14C0>, <pyphoplacecellanalysis.General.Pipeline.Stages.ComputationFunctions.MultiContextComputationFunctions.RankOrderComputations.Zscorer object at 0x00000256D1CA1610>, 0.11568617843803541), 599: (<pyphoplacecellanalysis.General.Pipeline.Stages.ComputationFunctions.MultiContextComputationFunctions.RankOrderComputations.Zscorer object at 0x00000256D1CA1790>, <pyphoplacecellanalysis.General.Pipeline.Stages.ComputationFunctions.MultiContextComputationFunctions.RankOrderComputations.Zscorer object at 0x00000256D1CA18E0>, 0.057060281766761284), 600: (<pyphoplacecellanalysis.General.Pipeline.Stages.ComputationFunctions.MultiContextComputationFunctions.RankOrderComputations.Zscorer object at 0x00000256D1CA1A60>, <pyphoplacecellanalysis.General.Pipeline.Stages.ComputationFunctions.MultiContextComputationFunctions.RankOrderComputations.Zscorer object at 0x00000256D1CA1BB0>, -0.4886339041011527), 601: (<pyphoplacecellanalysis.General.Pipeline.Stages.ComputationFunctions.MultiContextComputationFunctions.RankOrderComputations.Zscorer object at 0x00000256D1CA1D30>, <pyphoplacecellanalysis.General.Pipeline.Stages.ComputationFunctions.MultiContextComputationFunctions.RankOrderComputations.Zscorer object at 0x00000256D1CA1E80>, -0.5463400918005727), 602: (<pyphoplacecellanalysis.General.Pipeline.Stages.ComputationFunctions.MultiContextComputationFunctions.RankOrderComputations.Zscorer object at 0x00000256D1CA7040>, <pyphoplacecellanalysis.General.Pipeline.Stages.ComputationFunctions.MultiContextComputationFunctions.RankOrderComputations.Zscorer object at 0x00000256D1CA7190>, -1.1366093834579392), 603: (<pyphoplacecellanalysis.General.Pipeline.Stages.ComputationFunctions.MultiContextComputationFunctions.RankOrderComputations.Zscorer object at 0x00000256D1CA7310>, <pyphoplacecellanalysis.General.Pipeline.Stages.ComputationFunctions.MultiContextComputationFunctions.RankOrderComputations.Zscorer object at 0x00000256D1CA7460>, 0.0), 604: (<pyphoplacecellanalysis.General.Pipeline.Stages.ComputationFunctions.MultiContextComputationFunctions.RankOrderComputations.Zscorer object at 0x00000256D1CA75E0>, <pyphoplacecellanalysis.General.Pipeline.Stages.ComputationFunctions.MultiContextComputationFunctions.RankOrderComputations.Zscorer object at 0x00000256D1CA7730>, 0.124255505895847), 605: (<pyphoplacecellanalysis.General.Pipeline.Stages.ComputationFunctions.MultiContextComputationFunctions.RankOrderComputations.Zscorer object at 0x00000256D1CA78B0>, <pyphoplacecellanalysis.General.Pipeline.Stages.ComputationFunctions.MultiContextComputationFunctions.RankOrderComputations.Zscorer object at 0x00000256D1CA7A00>, 2.4225427951013727), 606: (<pyphoplacecellanalysis.General.Pipeline.Stages.ComputationFunctions.MultiContextComputationFunctions.RankOrderComputations.Zscorer object at 0x00000256D1CA7B80>, <pyphoplacecellanalysis.General.Pipeline.Stages.ComputationFunctions.MultiContextComputationFunctions.RankOrderComputations.Zscorer object at 0x00000256D1CA7CD0>, -1.2976960441501044), 607: (<pyphoplacecellanalysis.General.Pipeline.Stages.ComputationFunctions.MultiContextComputationFunctions.RankOrderComputations.Zscorer object at 0x00000256D1CA7E50>, <pyphoplacecellanalysis.General.Pipeline.Stages.ComputationFunctions.MultiContextComputationFunctions.RankOrderComputations.Zscorer object at 0x00000256D1CA7FA0>, 1.5185233449091131), 608: (<pyphoplacecellanalysis.General.Pipeline.Stages.ComputationFunctions.MultiContextComputationFunctions.RankOrderComputations.Zscorer object at 0x00000256D1CAC160>, <pyphoplacecellanalysis.General.Pipeline.Stages.ComputationFunctions.MultiContextComputationFunctions.RankOrderComputations.Zscorer object at 0x00000256D1CAC2B0>, -0.4658311324965958), 609: (<pyphoplacecellanalysis.General.Pipeline.Stages.ComputationFunctions.MultiContextComputationFunctions.RankOrderComputations.Zscorer object at 0x00000256D1CAC430>, <pyphoplacecellanalysis.General.Pipeline.Stages.ComputationFunctions.MultiContextComputationFunctions.RankOrderComputations.Zscorer object at 0x00000256D1CAC580>, -0.6390503218666279), 610: (<pyphoplacecellanalysis.General.Pipeline.Stages.ComputationFunctions.MultiContextComputationFunctions.RankOrderComputations.Zscorer object at 0x00000256D1CAC700>, <pyphoplacecellanalysis.General.Pipeline.Stages.ComputationFunctions.MultiContextComputationFunctions.RankOrderComputations.Zscorer object at 0x00000256D1CAC850>, -0.9521725240631116), 611: (<pyphoplacecellanalysis.General.Pipeline.Stages.ComputationFunctions.MultiContextComputationFunctions.RankOrderComputations.Zscorer object at 0x00000256D1CAC9D0>, <pyphoplacecellanalysis.General.Pipeline.Stages.ComputationFunctions.MultiContextComputationFunctions.RankOrderComputations.Zscorer object at 0x00000256D1CACB20>, 0.10038713145048517), 612: (<pyphoplacecellanalysis.General.Pipeline.Stages.ComputationFunctions.MultiContextComputationFunctions.RankOrderComputations.Zscorer object at 0x00000256D1CACCA0>, <pyphoplacecellanalysis.General.Pipeline.Stages.ComputationFunctions.MultiContextComputationFunctions.RankOrderComputations.Zscorer object at 0x00000256D1CACDF0>, 0.3359883673816062), 613: (<pyphoplacecellanalysis.General.Pipeline.Stages.ComputationFunctions.MultiContextComputationFunctions.RankOrderComputations.Zscorer object at 0x00000256D1CACF70>, <pyphoplacecellanalysis.General.Pipeline.Stages.ComputationFunctions.MultiContextComputationFunctions.RankOrderComputations.Zscorer object at 0x00000256DBC22100>, 0.6409723530434183), 614: (<pyphoplacecellanalysis.General.Pipeline.Stages.ComputationFunctions.MultiContextComputationFunctions.RankOrderComputations.Zscorer object at 0x00000256DBC22280>, <pyphoplacecellanalysis.General.Pipeline.Stages.ComputationFunctions.MultiContextComputationFunctions.RankOrderComputations.Zscorer object at 0x00000256DBC223D0>, -0.7430593690934428), 615: (<pyphoplacecellanalysis.General.Pipeline.Stages.ComputationFunctions.MultiContextComputationFunctions.RankOrderComputations.Zscorer object at 0x00000256DBC22550>, <pyphoplacecellanalysis.General.Pipeline.Stages.ComputationFunctions.MultiContextComputationFunctions.RankOrderComputations.Zscorer object at 0x00000256DBC226A0>, 0.335314684184034), 616: (<pyphoplacecellanalysis.General.Pipeline.Stages.ComputationFunctions.MultiContextComputationFunctions.RankOrderComputations.Zscorer object at 0x00000256DBC22820>, <pyphoplacecellanalysis.General.Pipeline.Stages.ComputationFunctions.MultiContextComputationFunctions.RankOrderComputations.Zscorer object at 0x00000256DBC22970>, 1.128276691653711), 617: (<pyphoplacecellanalysis.General.Pipeline.Stages.ComputationFunctions.MultiContextComputationFunctions.RankOrderComputations.Zscorer object at 0x00000256DBC22AF0>, <pyphoplacecellanalysis.General.Pipeline.Stages.ComputationFunctions.MultiContextComputationFunctions.RankOrderComputations.Zscorer object at 0x00000256DBC22C40>, 1.4268731748996912), 618: (<pyphoplacecellanalysis.General.Pipeline.Stages.ComputationFunctions.MultiContextComputationFunctions.RankOrderComputations.Zscorer object at 0x00000256DBC22DC0>, <pyphoplacecellanalysis.General.Pipeline.Stages.ComputationFunctions.MultiContextComputationFunctions.RankOrderComputations.Zscorer object at 0x00000256DBC22F10>, -0.26652753081021996), 619: (<pyphoplacecellanalysis.General.Pipeline.Stages.ComputationFunctions.MultiContextComputationFunctions.RankOrderComputations.Zscorer object at 0x00000256DBC260D0>, <pyphoplacecellanalysis.General.Pipeline.Stages.ComputationFunctions.MultiContextComputationFunctions.RankOrderComputations.Zscorer object at 0x00000256DBC26220>, 0.6735134298500864), 620: (<pyphoplacecellanalysis.General.Pipeline.Stages.ComputationFunctions.MultiContextComputationFunctions.RankOrderComputations.Zscorer object at 0x00000256DBC263A0>, <pyphoplacecellanalysis.General.Pipeline.Stages.ComputationFunctions.MultiContextComputationFunctions.RankOrderComputations.Zscorer object at 0x00000256DBC264F0>, -0.36139078124350105), 621: (<pyphoplacecellanalysis.General.Pipeline.Stages.ComputationFunctions.MultiContextComputationFunctions.RankOrderComputations.Zscorer object at 0x00000256DBC26670>, <pyphoplacecellanalysis.General.Pipeline.Stages.ComputationFunctions.MultiContextComputationFunctions.RankOrderComputations.Zscorer object at 0x00000256DBC267C0>, 1.0188684477419325), 622: (<pyphoplacecellanalysis.General.Pipeline.Stages.ComputationFunctions.MultiContextComputationFunctions.RankOrderComputations.Zscorer object at 0x00000256DBC26940>, <pyphoplacecellanalysis.General.Pipeline.Stages.ComputationFunctions.MultiContextComputationFunctions.RankOrderComputations.Zscorer object at 0x00000256DBC26A90>, -0.09201221566518247), 623: (<pyphoplacecellanalysis.General.Pipeline.Stages.ComputationFunctions.MultiContextComputationFunctions.RankOrderComputations.Zscorer object at 0x00000256DBC26C10>, <pyphoplacecellanalysis.General.Pipeline.Stages.ComputationFunctions.MultiContextComputationFunctions.RankOrderComputations.Zscorer object at 0x00000256DBC26D60>, -0.1657233536949656), 624: (<pyphoplacecellanalysis.General.Pipeline.Stages.ComputationFunctions.MultiContextComputationFunctions.RankOrderComputations.Zscorer object at 0x00000256DBC26EE0>, <pyphoplacecellanalysis.General.Pipeline.Stages.ComputationFunctions.MultiContextComputationFunctions.RankOrderComputations.Zscorer object at 0x00000256DBC2A070>, -1.4051823796192187), 625: (<pyphoplacecellanalysis.General.Pipeline.Stages.ComputationFunctions.MultiContextComputationFunctions.RankOrderComputations.Zscorer object at 0x00000256DBC2A1F0>, <pyphoplacecellanalysis.General.Pipeline.Stages.ComputationFunctions.MultiContextComputationFunctions.RankOrderComputations.Zscorer object at 0x00000256DBC2A340>, 0.1626364141539186)}\u001b[0m\u001b[1;34m\n        \u001b[0mrank_order_results.LR_ripple \u001b[1;34m= <pyphoplacecellanalysis.General.Pipeline.Stages.ComputationFunctions.MultiContextComputationFunctions.RankOrderComputations.RankOrderResult object at 0x00000256DB8812E0>\u001b[0m\n\u001b[0;32m     <a href='vscode-notebook-cell:/c%3A/Users/pho/repos/Spike3DWorkEnv/Spike3D/ReviewOfWork_2023-12-08.ipynb#Y100sZmlsZQ%3D%3D?line=40'>41</a>\u001b[0m RL_results_real_values \u001b[39m=\u001b[39m np\u001b[39m.\u001b[39marray([(long_stats_z_scorer\u001b[39m.\u001b[39mreal_value, short_stats_z_scorer\u001b[39m.\u001b[39mreal_value) \u001b[39mfor\u001b[39;00m epoch_id, (long_stats_z_scorer, short_stats_z_scorer, long_short_z_diff, long_short_naive_z_diff, is_forward_replay) \u001b[39min\u001b[39;00m rank_order_results\u001b[39m.\u001b[39mRL_ripple\u001b[39m.\u001b[39mranked_aclus_stats_dict\u001b[39m.\u001b[39mitems()])\n\u001b[0;32m     <a href='vscode-notebook-cell:/c%3A/Users/pho/repos/Spike3DWorkEnv/Spike3D/ReviewOfWork_2023-12-08.ipynb#Y100sZmlsZQ%3D%3D?line=42'>43</a>\u001b[0m LR_results_long_short_z_diffs \u001b[39m=\u001b[39m np\u001b[39m.\u001b[39marray([long_short_z_diff \u001b[39mfor\u001b[39;00m epoch_id, (long_stats_z_scorer, short_stats_z_scorer, long_short_z_diff, long_short_naive_z_diff, is_forward_replay) \u001b[39min\u001b[39;00m rank_order_results\u001b[39m.\u001b[39mLR_ripple\u001b[39m.\u001b[39mranked_aclus_stats_dict\u001b[39m.\u001b[39mitems()])\n",
      "\u001b[1;32mc:\\Users\\pho\\repos\\Spike3DWorkEnv\\Spike3D\\ReviewOfWork_2023-12-08.ipynb Cell 50\u001b[0m line \u001b[0;36m4\n\u001b[0;32m     <a href='vscode-notebook-cell:/c%3A/Users/pho/repos/Spike3DWorkEnv/Spike3D/ReviewOfWork_2023-12-08.ipynb#Y100sZmlsZQ%3D%3D?line=36'>37</a>\u001b[0m (long_LR_pf2D, long_RL_pf2D, short_LR_pf2D, short_RL_pf2D) \u001b[39m=\u001b[39m (long_LR_results\u001b[39m.\u001b[39mpf2D, long_RL_results\u001b[39m.\u001b[39mpf2D, short_LR_results\u001b[39m.\u001b[39mpf2D, short_RL_results\u001b[39m.\u001b[39mpf2D)\n\u001b[0;32m     <a href='vscode-notebook-cell:/c%3A/Users/pho/repos/Spike3DWorkEnv/Spike3D/ReviewOfWork_2023-12-08.ipynb#Y100sZmlsZQ%3D%3D?line=37'>38</a>\u001b[0m (long_LR_pf1D_Decoder, long_RL_pf1D_Decoder, short_LR_pf1D_Decoder, short_RL_pf1D_Decoder) \u001b[39m=\u001b[39m (long_LR_results\u001b[39m.\u001b[39mpf1D_Decoder, long_RL_results\u001b[39m.\u001b[39mpf1D_Decoder, short_LR_results\u001b[39m.\u001b[39mpf1D_Decoder, short_RL_results\u001b[39m.\u001b[39mpf1D_Decoder)\n\u001b[1;32m---> <a href='vscode-notebook-cell:/c%3A/Users/pho/repos/Spike3DWorkEnv/Spike3D/ReviewOfWork_2023-12-08.ipynb#Y100sZmlsZQ%3D%3D?line=39'>40</a>\u001b[0m LR_results_real_values \u001b[39m=\u001b[39m np\u001b[39m.\u001b[39marray([(long_stats_z_scorer\u001b[39m.\u001b[39mreal_value, short_stats_z_scorer\u001b[39m.\u001b[39mreal_value) \u001b[39mfor\u001b[39;00m epoch_id, (long_stats_z_scorer, short_stats_z_scorer, long_short_z_diff, long_short_naive_z_diff, is_forward_replay) \u001b[39min\u001b[39;00m rank_order_results\u001b[39m.\u001b[39mLR_ripple\u001b[39m.\u001b[39mranked_aclus_stats_dict\u001b[39m.\u001b[39mitems()])\n        rank_order_results \u001b[1;34m= <pyphoplacecellanalysis.General.Pipeline.Stages.ComputationFunctions.MultiContextComputationFunctions.RankOrderComputations.RankOrderComputationsContainer object at 0x00000256DB8812B0>\u001b[0m\u001b[1;34m\n        \u001b[0mnp \u001b[1;34m= <module 'numpy' from 'c:\\\\Users\\\\pho\\\\repos\\\\Spike3DWorkEnv\\\\Spike3D\\\\.venv\\\\lib\\\\site-packages\\\\numpy\\\\__init__.py'>\u001b[0m\u001b[1;34m\n        \u001b[0mepoch_id \u001b[1;34m= 0\u001b[0m\u001b[1;34m\n        \u001b[0mrank_order_results.LR_ripple.ranked_aclus_stats_dict \u001b[1;34m= {0: (<pyphoplacecellanalysis.General.Pipeline.Stages.ComputationFunctions.MultiContextComputationFunctions.RankOrderComputations.Zscorer object at 0x00000256DB881310>, <pyphoplacecellanalysis.General.Pipeline.Stages.ComputationFunctions.MultiContextComputationFunctions.RankOrderComputations.Zscorer object at 0x00000256DB881430>, -0.04189058040810045), 1: (<pyphoplacecellanalysis.General.Pipeline.Stages.ComputationFunctions.MultiContextComputationFunctions.RankOrderComputations.Zscorer object at 0x00000256DB881580>, <pyphoplacecellanalysis.General.Pipeline.Stages.ComputationFunctions.MultiContextComputationFunctions.RankOrderComputations.Zscorer object at 0x00000256DB881850>, 0.4970734760161246), 2: (<pyphoplacecellanalysis.General.Pipeline.Stages.ComputationFunctions.MultiContextComputationFunctions.RankOrderComputations.Zscorer object at 0x00000256DB881B20>, <pyphoplacecellanalysis.General.Pipeline.Stages.ComputationFunctions.MultiContextComputationFunctions.RankOrderComputations.Zscorer object at 0x00000256DB881E20>, 0.09403113599336788), 3: (<pyphoplacecellanalysis.General.Pipeline.Stages.ComputationFunctions.MultiContextComputationFunctions.RankOrderComputations.Zscorer object at 0x00000256DB881F40>, <pyphoplacecellanalysis.General.Pipeline.Stages.ComputationFunctions.MultiContextComputationFunctions.RankOrderComputations.Zscorer object at 0x00000256DB889040>, 0.5022253455692223), 4: (<pyphoplacecellanalysis.General.Pipeline.Stages.ComputationFunctions.MultiContextComputationFunctions.RankOrderComputations.Zscorer object at 0x00000256DB8893D0>, <pyphoplacecellanalysis.General.Pipeline.Stages.ComputationFunctions.MultiContextComputationFunctions.RankOrderComputations.Zscorer object at 0x00000256DB8895E0>, 0.25851689345704076), 5: (<pyphoplacecellanalysis.General.Pipeline.Stages.ComputationFunctions.MultiContextComputationFunctions.RankOrderComputations.Zscorer object at 0x00000256DB889850>, <pyphoplacecellanalysis.General.Pipeline.Stages.ComputationFunctions.MultiContextComputationFunctions.RankOrderComputations.Zscorer object at 0x00000256DB889C70>, 0.07787537260899846), 6: (<pyphoplacecellanalysis.General.Pipeline.Stages.ComputationFunctions.MultiContextComputationFunctions.RankOrderComputations.Zscorer object at 0x00000256DB891790>, <pyphoplacecellanalysis.General.Pipeline.Stages.ComputationFunctions.MultiContextComputationFunctions.RankOrderComputations.Zscorer object at 0x00000256DB891880>, -1.0710922488753252), 7: (<pyphoplacecellanalysis.General.Pipeline.Stages.ComputationFunctions.MultiContextComputationFunctions.RankOrderComputations.Zscorer object at 0x00000256DB8919A0>, <pyphoplacecellanalysis.General.Pipeline.Stages.ComputationFunctions.MultiContextComputationFunctions.RankOrderComputations.Zscorer object at 0x00000256DB891A90>, -0.5157130325050436), 8: (<pyphoplacecellanalysis.General.Pipeline.Stages.ComputationFunctions.MultiContextComputationFunctions.RankOrderComputations.Zscorer object at 0x00000256DB891C40>, <pyphoplacecellanalysis.General.Pipeline.Stages.ComputationFunctions.MultiContextComputationFunctions.RankOrderComputations.Zscorer object at 0x00000256DB891D90>, 0.0011278234311309365), 9: (<pyphoplacecellanalysis.General.Pipeline.Stages.ComputationFunctions.MultiContextComputationFunctions.RankOrderComputations.Zscorer object at 0x00000256DB891EB0>, <pyphoplacecellanalysis.General.Pipeline.Stages.ComputationFunctions.MultiContextComputationFunctions.RankOrderComputations.Zscorer object at 0x00000256DB891FA0>, 0.17392370197461868), 10: (<pyphoplacecellanalysis.General.Pipeline.Stages.ComputationFunctions.MultiContextComputationFunctions.RankOrderComputations.Zscorer object at 0x00000256DB8AA220>, <pyphoplacecellanalysis.General.Pipeline.Stages.ComputationFunctions.MultiContextComputationFunctions.RankOrderComputations.Zscorer object at 0x00000256DB8AA430>, 0.893984613904477), 11: (<pyphoplacecellanalysis.General.Pipeline.Stages.ComputationFunctions.MultiContextComputationFunctions.RankOrderComputations.Zscorer object at 0x00000256DB8AA700>, <pyphoplacecellanalysis.General.Pipeline.Stages.ComputationFunctions.MultiContextComputationFunctions.RankOrderComputations.Zscorer object at 0x00000256DB8AA790>, -0.04199156776634977), 12: (<pyphoplacecellanalysis.General.Pipeline.Stages.ComputationFunctions.MultiContextComputationFunctions.RankOrderComputations.Zscorer object at 0x00000256DB8AAB20>, <pyphoplacecellanalysis.General.Pipeline.Stages.ComputationFunctions.MultiContextComputationFunctions.RankOrderComputations.Zscorer object at 0x00000256DB8AAC10>, 0.5083137619908652), 13: (<pyphoplacecellanalysis.General.Pipeline.Stages.ComputationFunctions.MultiContextComputationFunctions.RankOrderComputations.Zscorer object at 0x00000256DB8AAEE0>, <pyphoplacecellanalysis.General.Pipeline.Stages.ComputationFunctions.MultiContextComputationFunctions.RankOrderComputations.Zscorer object at 0x00000256DB8B3070>, 0.0), 14: (<pyphoplacecellanalysis.General.Pipeline.Stages.ComputationFunctions.MultiContextComputationFunctions.RankOrderComputations.Zscorer object at 0x00000256DB8B3340>, <pyphoplacecellanalysis.General.Pipeline.Stages.ComputationFunctions.MultiContextComputationFunctions.RankOrderComputations.Zscorer object at 0x00000256DB8B3760>, -0.021937534575548145), 15: (<pyphoplacecellanalysis.General.Pipeline.Stages.ComputationFunctions.MultiContextComputationFunctions.RankOrderComputations.Zscorer object at 0x00000256DB8BD370>, <pyphoplacecellanalysis.General.Pipeline.Stages.ComputationFunctions.MultiContextComputationFunctions.RankOrderComputations.Zscorer object at 0x00000256DB8BD460>, 0.07358133666406985), 16: (<pyphoplacecellanalysis.General.Pipeline.Stages.ComputationFunctions.MultiContextComputationFunctions.RankOrderComputations.Zscorer object at 0x00000256DB8BD580>, <pyphoplacecellanalysis.General.Pipeline.Stages.ComputationFunctions.MultiContextComputationFunctions.RankOrderComputations.Zscorer object at 0x00000256DB8BD670>, -0.5011942638662705), 17: (<pyphoplacecellanalysis.General.Pipeline.Stages.ComputationFunctions.MultiContextComputationFunctions.RankOrderComputations.Zscorer object at 0x00000256DB8BD790>, <pyphoplacecellanalysis.General.Pipeline.Stages.ComputationFunctions.MultiContextComputationFunctions.RankOrderComputations.Zscorer object at 0x00000256DB8BD970>, -0.15226847579023262), 18: (<pyphoplacecellanalysis.General.Pipeline.Stages.ComputationFunctions.MultiContextComputationFunctions.RankOrderComputations.Zscorer object at 0x00000256DB8BDA90>, <pyphoplacecellanalysis.General.Pipeline.Stages.ComputationFunctions.MultiContextComputationFunctions.RankOrderComputations.Zscorer object at 0x00000256DB8BDB80>, 0.0), 19: (<pyphoplacecellanalysis.General.Pipeline.Stages.ComputationFunctions.MultiContextComputationFunctions.RankOrderComputations.Zscorer object at 0x00000256DB8BDCA0>, <pyphoplacecellanalysis.General.Pipeline.Stages.ComputationFunctions.MultiContextComputationFunctions.RankOrderComputations.Zscorer object at 0x00000256DB8BDD90>, 0.5356840762740709), 20: (<pyphoplacecellanalysis.General.Pipeline.Stages.ComputationFunctions.MultiContextComputationFunctions.RankOrderComputations.Zscorer object at 0x00000256DB8BDEB0>, <pyphoplacecellanalysis.General.Pipeline.Stages.ComputationFunctions.MultiContextComputationFunctions.RankOrderComputations.Zscorer object at 0x00000256DB8BDFA0>, 0.2814462970633236), 21: (<pyphoplacecellanalysis.General.Pipeline.Stages.ComputationFunctions.MultiContextComputationFunctions.RankOrderComputations.Zscorer object at 0x00000256DB8D2100>, <pyphoplacecellanalysis.General.Pipeline.Stages.ComputationFunctions.MultiContextComputationFunctions.RankOrderComputations.Zscorer object at 0x00000256DB8D21F0>, 0.020277624399427596), 22: (<pyphoplacecellanalysis.General.Pipeline.Stages.ComputationFunctions.MultiContextComputationFunctions.RankOrderComputations.Zscorer object at 0x00000256DB8D2310>, <pyphoplacecellanalysis.General.Pipeline.Stages.ComputationFunctions.MultiContextComputationFunctions.RankOrderComputations.Zscorer object at 0x00000256DB8D2400>, 0.0), 23: (<pyphoplacecellanalysis.General.Pipeline.Stages.ComputationFunctions.MultiContextComputationFunctions.RankOrderComputations.Zscorer object at 0x00000256DB8D2520>, <pyphoplacecellanalysis.General.Pipeline.Stages.ComputationFunctions.MultiContextComputationFunctions.RankOrderComputations.Zscorer object at 0x00000256DB8D2610>, 0.6975031220399557), 24: (<pyphoplacecellanalysis.General.Pipeline.Stages.ComputationFunctions.MultiContextComputationFunctions.RankOrderComputations.Zscorer object at 0x00000256DB8D2730>, <pyphoplacecellanalysis.General.Pipeline.Stages.ComputationFunctions.MultiContextComputationFunctions.RankOrderComputations.Zscorer object at 0x00000256DB8D2820>, -0.7779284849648636), 25: (<pyphoplacecellanalysis.General.Pipeline.Stages.ComputationFunctions.MultiContextComputationFunctions.RankOrderComputations.Zscorer object at 0x00000256DB8D2940>, <pyphoplacecellanalysis.General.Pipeline.Stages.ComputationFunctions.MultiContextComputationFunctions.RankOrderComputations.Zscorer object at 0x00000256DB8D2A30>, -0.4472991673009712), 26: (<pyphoplacecellanalysis.General.Pipeline.Stages.ComputationFunctions.MultiContextComputationFunctions.RankOrderComputations.Zscorer object at 0x00000256DB8D2B50>, <pyphoplacecellanalysis.General.Pipeline.Stages.ComputationFunctions.MultiContextComputationFunctions.RankOrderComputations.Zscorer object at 0x00000256DB8D2C70>, 0.037567733315821576), 27: (<pyphoplacecellanalysis.General.Pipeline.Stages.ComputationFunctions.MultiContextComputationFunctions.RankOrderComputations.Zscorer object at 0x00000256DB8D2DC0>, <pyphoplacecellanalysis.General.Pipeline.Stages.ComputationFunctions.MultiContextComputationFunctions.RankOrderComputations.Zscorer object at 0x00000256DB8D50A0>, 0.0), 28: (<pyphoplacecellanalysis.General.Pipeline.Stages.ComputationFunctions.MultiContextComputationFunctions.RankOrderComputations.Zscorer object at 0x00000256DB8D5430>, <pyphoplacecellanalysis.General.Pipeline.Stages.ComputationFunctions.MultiContextComputationFunctions.RankOrderComputations.Zscorer object at 0x00000256DB8D56A0>, 0.5290905005557427), 29: (<pyphoplacecellanalysis.General.Pipeline.Stages.ComputationFunctions.MultiContextComputationFunctions.RankOrderComputations.Zscorer object at 0x00000256DB8D57C0>, <pyphoplacecellanalysis.General.Pipeline.Stages.ComputationFunctions.MultiContextComputationFunctions.RankOrderComputations.Zscorer object at 0x00000256DB8D59A0>, 0.7357113518030816), 30: (<pyphoplacecellanalysis.General.Pipeline.Stages.ComputationFunctions.MultiContextComputationFunctions.RankOrderComputations.Zscorer object at 0x00000256DB8D5CA0>, <pyphoplacecellanalysis.General.Pipeline.Stages.ComputationFunctions.MultiContextComputationFunctions.RankOrderComputations.Zscorer object at 0x00000256DB8D5EB0>, 0.03527109614302759), 31: (<pyphoplacecellanalysis.General.Pipeline.Stages.ComputationFunctions.MultiContextComputationFunctions.RankOrderComputations.Zscorer object at 0x00000256DB8E12E0>, <pyphoplacecellanalysis.General.Pipeline.Stages.ComputationFunctions.MultiContextComputationFunctions.RankOrderComputations.Zscorer object at 0x00000256DB8E1700>, 0.16281825579076648), 32: (<pyphoplacecellanalysis.General.Pipeline.Stages.ComputationFunctions.MultiContextComputationFunctions.RankOrderComputations.Zscorer object at 0x00000256DB8E1940>, <pyphoplacecellanalysis.General.Pipeline.Stages.ComputationFunctions.MultiContextComputationFunctions.RankOrderComputations.Zscorer object at 0x00000256DB8E1AF0>, -0.016893279869471645), 33: (<pyphoplacecellanalysis.General.Pipeline.Stages.ComputationFunctions.MultiContextComputationFunctions.RankOrderComputations.Zscorer object at 0x00000256DB8E1F70>, <pyphoplacecellanalysis.General.Pipeline.Stages.ComputationFunctions.MultiContextComputationFunctions.RankOrderComputations.Zscorer object at 0x00000256DB8E81F0>, -0.53911627820231), 34: (<pyphoplacecellanalysis.General.Pipeline.Stages.ComputationFunctions.MultiContextComputationFunctions.RankOrderComputations.Zscorer object at 0x00000256DB8E8430>, <pyphoplacecellanalysis.General.Pipeline.Stages.ComputationFunctions.MultiContextComputationFunctions.RankOrderComputations.Zscorer object at 0x00000256DB8E85E0>, 0.20786395795917145), 35: (<pyphoplacecellanalysis.General.Pipeline.Stages.ComputationFunctions.MultiContextComputationFunctions.RankOrderComputations.Zscorer object at 0x00000256DB8E8820>, <pyphoplacecellanalysis.General.Pipeline.Stages.ComputationFunctions.MultiContextComputationFunctions.RankOrderComputations.Zscorer object at 0x00000256DB8E8A30>, -0.6469748533741865), 36: (<pyphoplacecellanalysis.General.Pipeline.Stages.ComputationFunctions.MultiContextComputationFunctions.RankOrderComputations.Zscorer object at 0x00000256DB8E8C70>, <pyphoplacecellanalysis.General.Pipeline.Stages.ComputationFunctions.MultiContextComputationFunctions.RankOrderComputations.Zscorer object at 0x00000256DB8E8E20>, -0.26707475037604467), 37: (<pyphoplacecellanalysis.General.Pipeline.Stages.ComputationFunctions.MultiContextComputationFunctions.RankOrderComputations.Zscorer object at 0x00000256DB8EC0A0>, <pyphoplacecellanalysis.General.Pipeline.Stages.ComputationFunctions.MultiContextComputationFunctions.RankOrderComputations.Zscorer object at 0x00000256DB8EC2B0>, 0.384320840434246), 38: (<pyphoplacecellanalysis.General.Pipeline.Stages.ComputationFunctions.MultiContextComputationFunctions.RankOrderComputations.Zscorer object at 0x00000256DB8EC4F0>, <pyphoplacecellanalysis.General.Pipeline.Stages.ComputationFunctions.MultiContextComputationFunctions.RankOrderComputations.Zscorer object at 0x00000256DB8EC6A0>, -0.237527651794881), 39: (<pyphoplacecellanalysis.General.Pipeline.Stages.ComputationFunctions.MultiContextComputationFunctions.RankOrderComputations.Zscorer object at 0x00000256DB8EC8E0>, <pyphoplacecellanalysis.General.Pipeline.Stages.ComputationFunctions.MultiContextComputationFunctions.RankOrderComputations.Zscorer object at 0x00000256DB8ECAF0>, 0.18116810729947164), 40: (<pyphoplacecellanalysis.General.Pipeline.Stages.ComputationFunctions.MultiContextComputationFunctions.RankOrderComputations.Zscorer object at 0x00000256DB8ECD30>, <pyphoplacecellanalysis.General.Pipeline.Stages.ComputationFunctions.MultiContextComputationFunctions.RankOrderComputations.Zscorer object at 0x00000256DB8ECEE0>, -0.2196317048668872), 41: (<pyphoplacecellanalysis.General.Pipeline.Stages.ComputationFunctions.MultiContextComputationFunctions.RankOrderComputations.Zscorer object at 0x00000256DB8F0160>, <pyphoplacecellanalysis.General.Pipeline.Stages.ComputationFunctions.MultiContextComputationFunctions.RankOrderComputations.Zscorer object at 0x00000256DB8F0370>, 0.1883553306790663), 42: (<pyphoplacecellanalysis.General.Pipeline.Stages.ComputationFunctions.MultiContextComputationFunctions.RankOrderComputations.Zscorer object at 0x00000256DB8F05B0>, <pyphoplacecellanalysis.General.Pipeline.Stages.ComputationFunctions.MultiContextComputationFunctions.RankOrderComputations.Zscorer object at 0x00000256DB8F0760>, 0.3430395172938847), 43: (<pyphoplacecellanalysis.General.Pipeline.Stages.ComputationFunctions.MultiContextComputationFunctions.RankOrderComputations.Zscorer object at 0x00000256DB8F09A0>, <pyphoplacecellanalysis.General.Pipeline.Stages.ComputationFunctions.MultiContextComputationFunctions.RankOrderComputations.Zscorer object at 0x00000256DB8F0BB0>, 0.4503893261382972), 44: (<pyphoplacecellanalysis.General.Pipeline.Stages.ComputationFunctions.MultiContextComputationFunctions.RankOrderComputations.Zscorer object at 0x00000256DB8F0DF0>, <pyphoplacecellanalysis.General.Pipeline.Stages.ComputationFunctions.MultiContextComputationFunctions.RankOrderComputations.Zscorer object at 0x00000256DB8F0FA0>, -0.0017995434106584107), 45: (<pyphoplacecellanalysis.General.Pipeline.Stages.ComputationFunctions.MultiContextComputationFunctions.RankOrderComputations.Zscorer object at 0x00000256DB8F59D0>, <pyphoplacecellanalysis.General.Pipeline.Stages.ComputationFunctions.MultiContextComputationFunctions.RankOrderComputations.Zscorer object at 0x00000256DB8F57C0>, -0.9439246630624605), 46: (<pyphoplacecellanalysis.General.Pipeline.Stages.ComputationFunctions.MultiContextComputationFunctions.RankOrderComputations.Zscorer object at 0x00000256DB8F5070>, <pyphoplacecellanalysis.General.Pipeline.Stages.ComputationFunctions.MultiContextComputationFunctions.RankOrderComputations.Zscorer object at 0x00000256DB8F5220>, -0.2516610915726564), 47: (<pyphoplacecellanalysis.General.Pipeline.Stages.ComputationFunctions.MultiContextComputationFunctions.RankOrderComputations.Zscorer object at 0x00000256DB8F5430>, <pyphoplacecellanalysis.General.Pipeline.Stages.ComputationFunctions.MultiContextComputationFunctions.RankOrderComputations.Zscorer object at 0x00000256DB8F5610>, -0.28717420330582577), 48: (<pyphoplacecellanalysis.General.Pipeline.Stages.ComputationFunctions.MultiContextComputationFunctions.RankOrderComputations.Zscorer object at 0x00000256DB8F5730>, <pyphoplacecellanalysis.General.Pipeline.Stages.ComputationFunctions.MultiContextComputationFunctions.RankOrderComputations.Zscorer object at 0x00000256DB8F5BB0>, -0.7301243773423991), 49: (<pyphoplacecellanalysis.General.Pipeline.Stages.ComputationFunctions.MultiContextComputationFunctions.RankOrderComputations.Zscorer object at 0x00000256DB8F5E20>, <pyphoplacecellanalysis.General.Pipeline.Stages.ComputationFunctions.MultiContextComputationFunctions.RankOrderComputations.Zscorer object at 0x00000256DB8F5FD0>, 0.3647297274593257), 50: (<pyphoplacecellanalysis.General.Pipeline.Stages.ComputationFunctions.MultiContextComputationFunctions.RankOrderComputations.Zscorer object at 0x00000256DB8FD250>, <pyphoplacecellanalysis.General.Pipeline.Stages.ComputationFunctions.MultiContextComputationFunctions.RankOrderComputations.Zscorer object at 0x00000256DB8FD460>, -0.3126517123555602), 51: (<pyphoplacecellanalysis.General.Pipeline.Stages.ComputationFunctions.MultiContextComputationFunctions.RankOrderComputations.Zscorer object at 0x00000256DB8FD6A0>, <pyphoplacecellanalysis.General.Pipeline.Stages.ComputationFunctions.MultiContextComputationFunctions.RankOrderComputations.Zscorer object at 0x00000256DB8FD850>, -1.426863843718599), 52: (<pyphoplacecellanalysis.General.Pipeline.Stages.ComputationFunctions.MultiContextComputationFunctions.RankOrderComputations.Zscorer object at 0x00000256DB8FDA90>, <pyphoplacecellanalysis.General.Pipeline.Stages.ComputationFunctions.MultiContextComputationFunctions.RankOrderComputations.Zscorer object at 0x00000256DB8FDCA0>, -0.06622161891331602), 53: (<pyphoplacecellanalysis.General.Pipeline.Stages.ComputationFunctions.MultiContextComputationFunctions.RankOrderComputations.Zscorer object at 0x00000256DB8FDEE0>, <pyphoplacecellanalysis.General.Pipeline.Stages.ComputationFunctions.MultiContextComputationFunctions.RankOrderComputations.Zscorer object at 0x00000256DB9010D0>, -0.1535274853783295), 54: (<pyphoplacecellanalysis.General.Pipeline.Stages.ComputationFunctions.MultiContextComputationFunctions.RankOrderComputations.Zscorer object at 0x00000256DB901310>, <pyphoplacecellanalysis.General.Pipeline.Stages.ComputationFunctions.MultiContextComputationFunctions.RankOrderComputations.Zscorer object at 0x00000256DB901520>, -0.27584117270142505), 55: (<pyphoplacecellanalysis.General.Pipeline.Stages.ComputationFunctions.MultiContextComputationFunctions.RankOrderComputations.Zscorer object at 0x00000256DB901760>, <pyphoplacecellanalysis.General.Pipeline.Stages.ComputationFunctions.MultiContextComputationFunctions.RankOrderComputations.Zscorer object at 0x00000256DB901910>, -0.039162316598793295), 56: (<pyphoplacecellanalysis.General.Pipeline.Stages.ComputationFunctions.MultiContextComputationFunctions.RankOrderComputations.Zscorer object at 0x00000256DB901B50>, <pyphoplacecellanalysis.General.Pipeline.Stages.ComputationFunctions.MultiContextComputationFunctions.RankOrderComputations.Zscorer object at 0x00000256DB901D60>, 0.8182487489655798), 57: (<pyphoplacecellanalysis.General.Pipeline.Stages.ComputationFunctions.MultiContextComputationFunctions.RankOrderComputations.Zscorer object at 0x00000256DB901FA0>, <pyphoplacecellanalysis.General.Pipeline.Stages.ComputationFunctions.MultiContextComputationFunctions.RankOrderComputations.Zscorer object at 0x00000256DB906E50>, -0.8763369147729437), 58: (<pyphoplacecellanalysis.General.Pipeline.Stages.ComputationFunctions.MultiContextComputationFunctions.RankOrderComputations.Zscorer object at 0x00000256DB906190>, <pyphoplacecellanalysis.General.Pipeline.Stages.ComputationFunctions.MultiContextComputationFunctions.RankOrderComputations.Zscorer object at 0x00000256DB9063A0>, 0.5665916252561587), 59: (<pyphoplacecellanalysis.General.Pipeline.Stages.ComputationFunctions.MultiContextComputationFunctions.RankOrderComputations.Zscorer object at 0x00000256DB9065E0>, <pyphoplacecellanalysis.General.Pipeline.Stages.ComputationFunctions.MultiContextComputationFunctions.RankOrderComputations.Zscorer object at 0x00000256DB906790>, -0.4929261672778774), 60: (<pyphoplacecellanalysis.General.Pipeline.Stages.ComputationFunctions.MultiContextComputationFunctions.RankOrderComputations.Zscorer object at 0x00000256DB9069D0>, <pyphoplacecellanalysis.General.Pipeline.Stages.ComputationFunctions.MultiContextComputationFunctions.RankOrderComputations.Zscorer object at 0x00000256DB906BE0>, -1.0479082642828272), 61: (<pyphoplacecellanalysis.General.Pipeline.Stages.ComputationFunctions.MultiContextComputationFunctions.RankOrderComputations.Zscorer object at 0x00000256DB906DF0>, <pyphoplacecellanalysis.General.Pipeline.Stages.ComputationFunctions.MultiContextComputationFunctions.RankOrderComputations.Zscorer object at 0x00000256DB906F10>, 0.6830591165575406), 62: (<pyphoplacecellanalysis.General.Pipeline.Stages.ComputationFunctions.MultiContextComputationFunctions.RankOrderComputations.Zscorer object at 0x00000256DB90B1F0>, <pyphoplacecellanalysis.General.Pipeline.Stages.ComputationFunctions.MultiContextComputationFunctions.RankOrderComputations.Zscorer object at 0x00000256DB90B130>, 0.10340479803364644), 63: (<pyphoplacecellanalysis.General.Pipeline.Stages.ComputationFunctions.MultiContextComputationFunctions.RankOrderComputations.Zscorer object at 0x00000256DB90B400>, <pyphoplacecellanalysis.General.Pipeline.Stages.ComputationFunctions.MultiContextComputationFunctions.RankOrderComputations.Zscorer object at 0x00000256DB90B610>, 0.7355356542878133), 64: (<pyphoplacecellanalysis.General.Pipeline.Stages.ComputationFunctions.MultiContextComputationFunctions.RankOrderComputations.Zscorer object at 0x00000256DB90B850>, <pyphoplacecellanalysis.General.Pipeline.Stages.ComputationFunctions.MultiContextComputationFunctions.RankOrderComputations.Zscorer object at 0x00000256DB90BA00>, -0.22147208867827217), 65: (<pyphoplacecellanalysis.General.Pipeline.Stages.ComputationFunctions.MultiContextComputationFunctions.RankOrderComputations.Zscorer object at 0x00000256DB90BC40>, <pyphoplacecellanalysis.General.Pipeline.Stages.ComputationFunctions.MultiContextComputationFunctions.RankOrderComputations.Zscorer object at 0x00000256DB90BE50>, 0.1899185470691549), 66: (<pyphoplacecellanalysis.General.Pipeline.Stages.ComputationFunctions.MultiContextComputationFunctions.RankOrderComputations.Zscorer object at 0x00000256DB9110D0>, <pyphoplacecellanalysis.General.Pipeline.Stages.ComputationFunctions.MultiContextComputationFunctions.RankOrderComputations.Zscorer object at 0x00000256DB911280>, 0.015197426829876529), 67: (<pyphoplacecellanalysis.General.Pipeline.Stages.ComputationFunctions.MultiContextComputationFunctions.RankOrderComputations.Zscorer object at 0x00000256DB9114C0>, <pyphoplacecellanalysis.General.Pipeline.Stages.ComputationFunctions.MultiContextComputationFunctions.RankOrderComputations.Zscorer object at 0x00000256DB9116D0>, 0.0), 68: (<pyphoplacecellanalysis.General.Pipeline.Stages.ComputationFunctions.MultiContextComputationFunctions.RankOrderComputations.Zscorer object at 0x00000256DB911910>, <pyphoplacecellanalysis.General.Pipeline.Stages.ComputationFunctions.MultiContextComputationFunctions.RankOrderComputations.Zscorer object at 0x00000256DB911AC0>, -0.7106338550907764), 69: (<pyphoplacecellanalysis.General.Pipeline.Stages.ComputationFunctions.MultiContextComputationFunctions.RankOrderComputations.Zscorer object at 0x00000256DB911D00>, <pyphoplacecellanalysis.General.Pipeline.Stages.ComputationFunctions.MultiContextComputationFunctions.RankOrderComputations.Zscorer object at 0x00000256DB911F10>, 1.3153484626225334), 70: (<pyphoplacecellanalysis.General.Pipeline.Stages.ComputationFunctions.MultiContextComputationFunctions.RankOrderComputations.Zscorer object at 0x00000256DB914190>, <pyphoplacecellanalysis.General.Pipeline.Stages.ComputationFunctions.MultiContextComputationFunctions.RankOrderComputations.Zscorer object at 0x00000256DB914340>, -0.9678278255195677), 71: (<pyphoplacecellanalysis.General.Pipeline.Stages.ComputationFunctions.MultiContextComputationFunctions.RankOrderComputations.Zscorer object at 0x00000256DB914580>, <pyphoplacecellanalysis.General.Pipeline.Stages.ComputationFunctions.MultiContextComputationFunctions.RankOrderComputations.Zscorer object at 0x00000256DB914790>, -0.9039415637566255), 72: (<pyphoplacecellanalysis.General.Pipeline.Stages.ComputationFunctions.MultiContextComputationFunctions.RankOrderComputations.Zscorer object at 0x00000256DB9149D0>, <pyphoplacecellanalysis.General.Pipeline.Stages.ComputationFunctions.MultiContextComputationFunctions.RankOrderComputations.Zscorer object at 0x00000256DB914B80>, -0.701889297694017), 73: (<pyphoplacecellanalysis.General.Pipeline.Stages.ComputationFunctions.MultiContextComputationFunctions.RankOrderComputations.Zscorer object at 0x00000256DB914DC0>, <pyphoplacecellanalysis.General.Pipeline.Stages.ComputationFunctions.MultiContextComputationFunctions.RankOrderComputations.Zscorer object at 0x00000256DB914FD0>, -0.06914196706302578), 74: (<pyphoplacecellanalysis.General.Pipeline.Stages.ComputationFunctions.MultiContextComputationFunctions.RankOrderComputations.Zscorer object at 0x00000256DB919F10>, <pyphoplacecellanalysis.General.Pipeline.Stages.ComputationFunctions.MultiContextComputationFunctions.RankOrderComputations.Zscorer object at 0x00000256DB919D00>, 0.8658436174556559), 75: (<pyphoplacecellanalysis.General.Pipeline.Stages.ComputationFunctions.MultiContextComputationFunctions.RankOrderComputations.Zscorer object at 0x00000256DB919040>, <pyphoplacecellanalysis.General.Pipeline.Stages.ComputationFunctions.MultiContextComputationFunctions.RankOrderComputations.Zscorer object at 0x00000256DB919250>, 0.03829955773259486), 76: (<pyphoplacecellanalysis.General.Pipeline.Stages.ComputationFunctions.MultiContextComputationFunctions.RankOrderComputations.Zscorer object at 0x00000256DB919490>, <pyphoplacecellanalysis.General.Pipeline.Stages.ComputationFunctions.MultiContextComputationFunctions.RankOrderComputations.Zscorer object at 0x00000256DB919640>, 0.5978820809383318), 77: (<pyphoplacecellanalysis.General.Pipeline.Stages.ComputationFunctions.MultiContextComputationFunctions.RankOrderComputations.Zscorer object at 0x00000256DB919880>, <pyphoplacecellanalysis.General.Pipeline.Stages.ComputationFunctions.MultiContextComputationFunctions.RankOrderComputations.Zscorer object at 0x00000256DB919A00>, 0.8859348726229042), 78: (<pyphoplacecellanalysis.General.Pipeline.Stages.ComputationFunctions.MultiContextComputationFunctions.RankOrderComputations.Zscorer object at 0x00000256DB919C10>, <pyphoplacecellanalysis.General.Pipeline.Stages.ComputationFunctions.MultiContextComputationFunctions.RankOrderComputations.Zscorer object at 0x00000256DB919D90>, -1.0480321203492167), 79: (<pyphoplacecellanalysis.General.Pipeline.Stages.ComputationFunctions.MultiContextComputationFunctions.RankOrderComputations.Zscorer object at 0x00000256DB91F220>, <pyphoplacecellanalysis.General.Pipeline.Stages.ComputationFunctions.MultiContextComputationFunctions.RankOrderComputations.Zscorer object at 0x00000256DB91F400>, -0.34638411806285063), 80: (<pyphoplacecellanalysis.General.Pipeline.Stages.ComputationFunctions.MultiContextComputationFunctions.RankOrderComputations.Zscorer object at 0x00000256DB91F640>, <pyphoplacecellanalysis.General.Pipeline.Stages.ComputationFunctions.MultiContextComputationFunctions.RankOrderComputations.Zscorer object at 0x00000256DB91F850>, -0.001358564762879988), 81: (<pyphoplacecellanalysis.General.Pipeline.Stages.ComputationFunctions.MultiContextComputationFunctions.RankOrderComputations.Zscorer object at 0x00000256DB91FA90>, <pyphoplacecellanalysis.General.Pipeline.Stages.ComputationFunctions.MultiContextComputationFunctions.RankOrderComputations.Zscorer object at 0x00000256DB91FC40>, 0.022562076293417554), 82: (<pyphoplacecellanalysis.General.Pipeline.Stages.ComputationFunctions.MultiContextComputationFunctions.RankOrderComputations.Zscorer object at 0x00000256DB91FE80>, <pyphoplacecellanalysis.General.Pipeline.Stages.ComputationFunctions.MultiContextComputationFunctions.RankOrderComputations.Zscorer object at 0x00000256DB9240D0>, -0.8848486074401788), 83: (<pyphoplacecellanalysis.General.Pipeline.Stages.ComputationFunctions.MultiContextComputationFunctions.RankOrderComputations.Zscorer object at 0x00000256DB924340>, <pyphoplacecellanalysis.General.Pipeline.Stages.ComputationFunctions.MultiContextComputationFunctions.RankOrderComputations.Zscorer object at 0x00000256DB924550>, 0.30993416734890755), 84: (<pyphoplacecellanalysis.General.Pipeline.Stages.ComputationFunctions.MultiContextComputationFunctions.RankOrderComputations.Zscorer object at 0x00000256DB924790>, <pyphoplacecellanalysis.General.Pipeline.Stages.ComputationFunctions.MultiContextComputationFunctions.RankOrderComputations.Zscorer object at 0x00000256DB924940>, 0.38009858221111004), 85: (<pyphoplacecellanalysis.General.Pipeline.Stages.ComputationFunctions.MultiContextComputationFunctions.RankOrderComputations.Zscorer object at 0x00000256DB924B80>, <pyphoplacecellanalysis.General.Pipeline.Stages.ComputationFunctions.MultiContextComputationFunctions.RankOrderComputations.Zscorer object at 0x00000256DB924D90>, 0.3148533827729814), 86: (<pyphoplacecellanalysis.General.Pipeline.Stages.ComputationFunctions.MultiContextComputationFunctions.RankOrderComputations.Zscorer object at 0x00000256DB924FD0>, <pyphoplacecellanalysis.General.Pipeline.Stages.ComputationFunctions.MultiContextComputationFunctions.RankOrderComputations.Zscorer object at 0x00000256DB9281C0>, -0.506754163061732), 87: (<pyphoplacecellanalysis.General.Pipeline.Stages.ComputationFunctions.MultiContextComputationFunctions.RankOrderComputations.Zscorer object at 0x00000256DB928400>, <pyphoplacecellanalysis.General.Pipeline.Stages.ComputationFunctions.MultiContextComputationFunctions.RankOrderComputations.Zscorer object at 0x00000256DB928610>, 0.1750906107167456), 88: (<pyphoplacecellanalysis.General.Pipeline.Stages.ComputationFunctions.MultiContextComputationFunctions.RankOrderComputations.Zscorer object at 0x00000256DB928850>, <pyphoplacecellanalysis.General.Pipeline.Stages.ComputationFunctions.MultiContextComputationFunctions.RankOrderComputations.Zscorer object at 0x00000256DB928A00>, 1.6213528524850584), 89: (<pyphoplacecellanalysis.General.Pipeline.Stages.ComputationFunctions.MultiContextComputationFunctions.RankOrderComputations.Zscorer object at 0x00000256DB928C40>, <pyphoplacecellanalysis.General.Pipeline.Stages.ComputationFunctions.MultiContextComputationFunctions.RankOrderComputations.Zscorer object at 0x00000256DB928E50>, -0.9262207695883642), 90: (<pyphoplacecellanalysis.General.Pipeline.Stages.ComputationFunctions.MultiContextComputationFunctions.RankOrderComputations.Zscorer object at 0x00000256DB92D7F0>, <pyphoplacecellanalysis.General.Pipeline.Stages.ComputationFunctions.MultiContextComputationFunctions.RankOrderComputations.Zscorer object at 0x00000256DB92D340>, 0.3737991491369086), 91: (<pyphoplacecellanalysis.General.Pipeline.Stages.ComputationFunctions.MultiContextComputationFunctions.RankOrderComputations.Zscorer object at 0x00000256DB92D640>, <pyphoplacecellanalysis.General.Pipeline.Stages.ComputationFunctions.MultiContextComputationFunctions.RankOrderComputations.Zscorer object at 0x00000256DB92D0D0>, -0.5422541071867465), 92: (<pyphoplacecellanalysis.General.Pipeline.Stages.ComputationFunctions.MultiContextComputationFunctions.RankOrderComputations.Zscorer object at 0x00000256DB92D280>, <pyphoplacecellanalysis.General.Pipeline.Stages.ComputationFunctions.MultiContextComputationFunctions.RankOrderComputations.Zscorer object at 0x00000256DB92D460>, -0.562138528853006), 93: (<pyphoplacecellanalysis.General.Pipeline.Stages.ComputationFunctions.MultiContextComputationFunctions.RankOrderComputations.Zscorer object at 0x00000256DB92D520>, <pyphoplacecellanalysis.General.Pipeline.Stages.ComputationFunctions.MultiContextComputationFunctions.RankOrderComputations.Zscorer object at 0x00000256DB92DA00>, -0.6236811610807816), 94: (<pyphoplacecellanalysis.General.Pipeline.Stages.ComputationFunctions.MultiContextComputationFunctions.RankOrderComputations.Zscorer object at 0x00000256DB92DC40>, <pyphoplacecellanalysis.General.Pipeline.Stages.ComputationFunctions.MultiContextComputationFunctions.RankOrderComputations.Zscorer object at 0x00000256DB92DE50>, -0.38294671262759883), 95: (<pyphoplacecellanalysis.General.Pipeline.Stages.ComputationFunctions.MultiContextComputationFunctions.RankOrderComputations.Zscorer object at 0x00000256DB9320D0>, <pyphoplacecellanalysis.General.Pipeline.Stages.ComputationFunctions.MultiContextComputationFunctions.RankOrderComputations.Zscorer object at 0x00000256DB932280>, -0.40309797924984264), 96: (<pyphoplacecellanalysis.General.Pipeline.Stages.ComputationFunctions.MultiContextComputationFunctions.RankOrderComputations.Zscorer object at 0x00000256DB9324C0>, <pyphoplacecellanalysis.General.Pipeline.Stages.ComputationFunctions.MultiContextComputationFunctions.RankOrderComputations.Zscorer object at 0x00000256DB9326D0>, 0.847369632853087), 97: (<pyphoplacecellanalysis.General.Pipeline.Stages.ComputationFunctions.MultiContextComputationFunctions.RankOrderComputations.Zscorer object at 0x00000256DB932910>, <pyphoplacecellanalysis.General.Pipeline.Stages.ComputationFunctions.MultiContextComputationFunctions.RankOrderComputations.Zscorer object at 0x00000256DB932AC0>, -0.6014805935876922), 98: (<pyphoplacecellanalysis.General.Pipeline.Stages.ComputationFunctions.MultiContextComputationFunctions.RankOrderComputations.Zscorer object at 0x00000256DB932D00>, <pyphoplacecellanalysis.General.Pipeline.Stages.ComputationFunctions.MultiContextComputationFunctions.RankOrderComputations.Zscorer object at 0x00000256DB932F10>, -0.6061546187539231), 99: (<pyphoplacecellanalysis.General.Pipeline.Stages.ComputationFunctions.MultiContextComputationFunctions.RankOrderComputations.Zscorer object at 0x00000256DB937190>, <pyphoplacecellanalysis.General.Pipeline.Stages.ComputationFunctions.MultiContextComputationFunctions.RankOrderComputations.Zscorer object at 0x00000256DB937340>, -0.37047385625315443), 100: (<pyphoplacecellanalysis.General.Pipeline.Stages.ComputationFunctions.MultiContextComputationFunctions.RankOrderComputations.Zscorer object at 0x00000256DB937580>, <pyphoplacecellanalysis.General.Pipeline.Stages.ComputationFunctions.MultiContextComputationFunctions.RankOrderComputations.Zscorer object at 0x00000256DB937790>, 0.241967234161985), 101: (<pyphoplacecellanalysis.General.Pipeline.Stages.ComputationFunctions.MultiContextComputationFunctions.RankOrderComputations.Zscorer object at 0x00000256DB9379D0>, <pyphoplacecellanalysis.General.Pipeline.Stages.ComputationFunctions.MultiContextComputationFunctions.RankOrderComputations.Zscorer object at 0x00000256DB937B80>, 1.0002984893561369), 102: (<pyphoplacecellanalysis.General.Pipeline.Stages.ComputationFunctions.MultiContextComputationFunctions.RankOrderComputations.Zscorer object at 0x00000256DB937DC0>, <pyphoplacecellanalysis.General.Pipeline.Stages.ComputationFunctions.MultiContextComputationFunctions.RankOrderComputations.Zscorer object at 0x00000256DB937FD0>, 0.10764806825152803), 103: (<pyphoplacecellanalysis.General.Pipeline.Stages.ComputationFunctions.MultiContextComputationFunctions.RankOrderComputations.Zscorer object at 0x00000256DB93BEE0>, <pyphoplacecellanalysis.General.Pipeline.Stages.ComputationFunctions.MultiContextComputationFunctions.RankOrderComputations.Zscorer object at 0x00000256DB93B040>, -0.35046574850001044), 104: (<pyphoplacecellanalysis.General.Pipeline.Stages.ComputationFunctions.MultiContextComputationFunctions.RankOrderComputations.Zscorer object at 0x00000256DB93B280>, <pyphoplacecellanalysis.General.Pipeline.Stages.ComputationFunctions.MultiContextComputationFunctions.RankOrderComputations.Zscorer object at 0x00000256DB93B490>, -1.5493217357472466), 105: (<pyphoplacecellanalysis.General.Pipeline.Stages.ComputationFunctions.MultiContextComputationFunctions.RankOrderComputations.Zscorer object at 0x00000256DB93B6D0>, <pyphoplacecellanalysis.General.Pipeline.Stages.ComputationFunctions.MultiContextComputationFunctions.RankOrderComputations.Zscorer object at 0x00000256DB93B880>, 0.09076398336671782), 106: (<pyphoplacecellanalysis.General.Pipeline.Stages.ComputationFunctions.MultiContextComputationFunctions.RankOrderComputations.Zscorer object at 0x00000256DB93BAC0>, <pyphoplacecellanalysis.General.Pipeline.Stages.ComputationFunctions.MultiContextComputationFunctions.RankOrderComputations.Zscorer object at 0x00000256DB93BCA0>, 0.31187187541139794), 107: (<pyphoplacecellanalysis.General.Pipeline.Stages.ComputationFunctions.MultiContextComputationFunctions.RankOrderComputations.Zscorer object at 0x00000256DB93BDF0>, <pyphoplacecellanalysis.General.Pipeline.Stages.ComputationFunctions.MultiContextComputationFunctions.RankOrderComputations.Zscorer object at 0x00000256DD313130>, 0.1189392617551146), 108: (<pyphoplacecellanalysis.General.Pipeline.Stages.ComputationFunctions.MultiContextComputationFunctions.RankOrderComputations.Zscorer object at 0x00000256DD313250>, <pyphoplacecellanalysis.General.Pipeline.Stages.ComputationFunctions.MultiContextComputationFunctions.RankOrderComputations.Zscorer object at 0x00000256DD313400>, -0.020230700937606816), 109: (<pyphoplacecellanalysis.General.Pipeline.Stages.ComputationFunctions.MultiContextComputationFunctions.RankOrderComputations.Zscorer object at 0x00000256DD313640>, <pyphoplacecellanalysis.General.Pipeline.Stages.ComputationFunctions.MultiContextComputationFunctions.RankOrderComputations.Zscorer object at 0x00000256DD313850>, -0.2881631763282992), 110: (<pyphoplacecellanalysis.General.Pipeline.Stages.ComputationFunctions.MultiContextComputationFunctions.RankOrderComputations.Zscorer object at 0x00000256DD313A90>, <pyphoplacecellanalysis.General.Pipeline.Stages.ComputationFunctions.MultiContextComputationFunctions.RankOrderComputations.Zscorer object at 0x00000256DD313C40>, 0.17763244671423745), 111: (<pyphoplacecellanalysis.General.Pipeline.Stages.ComputationFunctions.MultiContextComputationFunctions.RankOrderComputations.Zscorer object at 0x00000256DD313E80>, <pyphoplacecellanalysis.General.Pipeline.Stages.ComputationFunctions.MultiContextComputationFunctions.RankOrderComputations.Zscorer object at 0x00000256DD3170D0>, 0.033875675924090354), 112: (<pyphoplacecellanalysis.General.Pipeline.Stages.ComputationFunctions.MultiContextComputationFunctions.RankOrderComputations.Zscorer object at 0x00000256DD317310>, <pyphoplacecellanalysis.General.Pipeline.Stages.ComputationFunctions.MultiContextComputationFunctions.RankOrderComputations.Zscorer object at 0x00000256DD3174C0>, -1.081639774697333), 113: (<pyphoplacecellanalysis.General.Pipeline.Stages.ComputationFunctions.MultiContextComputationFunctions.RankOrderComputations.Zscorer object at 0x00000256DD317700>, <pyphoplacecellanalysis.General.Pipeline.Stages.ComputationFunctions.MultiContextComputationFunctions.RankOrderComputations.Zscorer object at 0x00000256DD317910>, 0.11168232665462893), 114: (<pyphoplacecellanalysis.General.Pipeline.Stages.ComputationFunctions.MultiContextComputationFunctions.RankOrderComputations.Zscorer object at 0x00000256DD317B50>, <pyphoplacecellanalysis.General.Pipeline.Stages.ComputationFunctions.MultiContextComputationFunctions.RankOrderComputations.Zscorer object at 0x00000256DD317D00>, 0.6401530896423324), 115: (<pyphoplacecellanalysis.General.Pipeline.Stages.ComputationFunctions.MultiContextComputationFunctions.RankOrderComputations.Zscorer object at 0x00000256DD317F40>, <pyphoplacecellanalysis.General.Pipeline.Stages.ComputationFunctions.MultiContextComputationFunctions.RankOrderComputations.Zscorer object at 0x00000256DD31B190>, 0.6860630797875655), 116: (<pyphoplacecellanalysis.General.Pipeline.Stages.ComputationFunctions.MultiContextComputationFunctions.RankOrderComputations.Zscorer object at 0x00000256DD31B3D0>, <pyphoplacecellanalysis.General.Pipeline.Stages.ComputationFunctions.MultiContextComputationFunctions.RankOrderComputations.Zscorer object at 0x00000256DD31B580>, -0.42091484864643847), 117: (<pyphoplacecellanalysis.General.Pipeline.Stages.ComputationFunctions.MultiContextComputationFunctions.RankOrderComputations.Zscorer object at 0x00000256DD31B7C0>, <pyphoplacecellanalysis.General.Pipeline.Stages.ComputationFunctions.MultiContextComputationFunctions.RankOrderComputations.Zscorer object at 0x00000256DD31B9D0>, 0.056460570266954724), 118: (<pyphoplacecellanalysis.General.Pipeline.Stages.ComputationFunctions.MultiContextComputationFunctions.RankOrderComputations.Zscorer object at 0x00000256DD31BC10>, <pyphoplacecellanalysis.General.Pipeline.Stages.ComputationFunctions.MultiContextComputationFunctions.RankOrderComputations.Zscorer object at 0x00000256DD31BDC0>, 1.1859647387068124), 119: (<pyphoplacecellanalysis.General.Pipeline.Stages.ComputationFunctions.MultiContextComputationFunctions.RankOrderComputations.Zscorer object at 0x00000256DD31F850>, <pyphoplacecellanalysis.General.Pipeline.Stages.ComputationFunctions.MultiContextComputationFunctions.RankOrderComputations.Zscorer object at 0x00000256DD31FCD0>, 1.4966873091594275), 120: (<pyphoplacecellanalysis.General.Pipeline.Stages.ComputationFunctions.MultiContextComputationFunctions.RankOrderComputations.Zscorer object at 0x00000256DD31FB20>, <pyphoplacecellanalysis.General.Pipeline.Stages.ComputationFunctions.MultiContextComputationFunctions.RankOrderComputations.Zscorer object at 0x00000256DD31F040>, -0.039766176332883596), 121: (<pyphoplacecellanalysis.General.Pipeline.Stages.ComputationFunctions.MultiContextComputationFunctions.RankOrderComputations.Zscorer object at 0x00000256DD31F280>, <pyphoplacecellanalysis.General.Pipeline.Stages.ComputationFunctions.MultiContextComputationFunctions.RankOrderComputations.Zscorer object at 0x00000256DD31F490>, -0.5341159913393967), 122: (<pyphoplacecellanalysis.General.Pipeline.Stages.ComputationFunctions.MultiContextComputationFunctions.RankOrderComputations.Zscorer object at 0x00000256DD31F6D0>, <pyphoplacecellanalysis.General.Pipeline.Stages.ComputationFunctions.MultiContextComputationFunctions.RankOrderComputations.Zscorer object at 0x00000256DD31F8B0>, 0.09616598708424862), 123: (<pyphoplacecellanalysis.General.Pipeline.Stages.ComputationFunctions.MultiContextComputationFunctions.RankOrderComputations.Zscorer object at 0x00000256DD31FA00>, <pyphoplacecellanalysis.General.Pipeline.Stages.ComputationFunctions.MultiContextComputationFunctions.RankOrderComputations.Zscorer object at 0x00000256DD31FB50>, -0.8391382363556591), 124: (<pyphoplacecellanalysis.General.Pipeline.Stages.ComputationFunctions.MultiContextComputationFunctions.RankOrderComputations.Zscorer object at 0x00000256DD325040>, <pyphoplacecellanalysis.General.Pipeline.Stages.ComputationFunctions.MultiContextComputationFunctions.RankOrderComputations.Zscorer object at 0x00000256DD325250>, -0.3011236373631825), 125: (<pyphoplacecellanalysis.General.Pipeline.Stages.ComputationFunctions.MultiContextComputationFunctions.RankOrderComputations.Zscorer object at 0x00000256DD325490>, <pyphoplacecellanalysis.General.Pipeline.Stages.ComputationFunctions.MultiContextComputationFunctions.RankOrderComputations.Zscorer object at 0x00000256DD325640>, 0.5649279514025929), 126: (<pyphoplacecellanalysis.General.Pipeline.Stages.ComputationFunctions.MultiContextComputationFunctions.RankOrderComputations.Zscorer object at 0x00000256DD325880>, <pyphoplacecellanalysis.General.Pipeline.Stages.ComputationFunctions.MultiContextComputationFunctions.RankOrderComputations.Zscorer object at 0x00000256DD325A90>, 0.492825609033017), 127: (<pyphoplacecellanalysis.General.Pipeline.Stages.ComputationFunctions.MultiContextComputationFunctions.RankOrderComputations.Zscorer object at 0x00000256DD325CD0>, <pyphoplacecellanalysis.General.Pipeline.Stages.ComputationFunctions.MultiContextComputationFunctions.RankOrderComputations.Zscorer object at 0x00000256DD325E80>, 0.24339022775730007), 128: (<pyphoplacecellanalysis.General.Pipeline.Stages.ComputationFunctions.MultiContextComputationFunctions.RankOrderComputations.Zscorer object at 0x00000256DD32A100>, <pyphoplacecellanalysis.General.Pipeline.Stages.ComputationFunctions.MultiContextComputationFunctions.RankOrderComputations.Zscorer object at 0x00000256DD32A310>, -0.14076264091756308), 129: (<pyphoplacecellanalysis.General.Pipeline.Stages.ComputationFunctions.MultiContextComputationFunctions.RankOrderComputations.Zscorer object at 0x00000256DD32A550>, <pyphoplacecellanalysis.General.Pipeline.Stages.ComputationFunctions.MultiContextComputationFunctions.RankOrderComputations.Zscorer object at 0x00000256DD32A700>, -0.520399080744643), 130: (<pyphoplacecellanalysis.General.Pipeline.Stages.ComputationFunctions.MultiContextComputationFunctions.RankOrderComputations.Zscorer object at 0x00000256DD32A940>, <pyphoplacecellanalysis.General.Pipeline.Stages.ComputationFunctions.MultiContextComputationFunctions.RankOrderComputations.Zscorer object at 0x00000256DD32AB50>, -0.42205821886476175), 131: (<pyphoplacecellanalysis.General.Pipeline.Stages.ComputationFunctions.MultiContextComputationFunctions.RankOrderComputations.Zscorer object at 0x00000256DD32AD90>, <pyphoplacecellanalysis.General.Pipeline.Stages.ComputationFunctions.MultiContextComputationFunctions.RankOrderComputations.Zscorer object at 0x00000256DD32AF40>, 0.050134865549765206), 132: (<pyphoplacecellanalysis.General.Pipeline.Stages.ComputationFunctions.MultiContextComputationFunctions.RankOrderComputations.Zscorer object at 0x00000256DD32E1C0>, <pyphoplacecellanalysis.General.Pipeline.Stages.ComputationFunctions.MultiContextComputationFunctions.RankOrderComputations.Zscorer object at 0x00000256DD32E3D0>, 0.009163480469790652), 133: (<pyphoplacecellanalysis.General.Pipeline.Stages.ComputationFunctions.MultiContextComputationFunctions.RankOrderComputations.Zscorer object at 0x00000256DD32E610>, <pyphoplacecellanalysis.General.Pipeline.Stages.ComputationFunctions.MultiContextComputationFunctions.RankOrderComputations.Zscorer object at 0x00000256DD32E7C0>, 0.08463022920002788), 134: (<pyphoplacecellanalysis.General.Pipeline.Stages.ComputationFunctions.MultiContextComputationFunctions.RankOrderComputations.Zscorer object at 0x00000256DD32EA00>, <pyphoplacecellanalysis.General.Pipeline.Stages.ComputationFunctions.MultiContextComputationFunctions.RankOrderComputations.Zscorer object at 0x00000256DD32EC10>, 0.1897603325615808), 135: (<pyphoplacecellanalysis.General.Pipeline.Stages.ComputationFunctions.MultiContextComputationFunctions.RankOrderComputations.Zscorer object at 0x00000256DD32EE50>, <pyphoplacecellanalysis.General.Pipeline.Stages.ComputationFunctions.MultiContextComputationFunctions.RankOrderComputations.Zscorer object at 0x00000256DD333B50>, -0.8601189640053811), 136: (<pyphoplacecellanalysis.General.Pipeline.Stages.ComputationFunctions.MultiContextComputationFunctions.RankOrderComputations.Zscorer object at 0x00000256DD333F40>, <pyphoplacecellanalysis.General.Pipeline.Stages.ComputationFunctions.MultiContextComputationFunctions.RankOrderComputations.Zscorer object at 0x00000256DD333EE0>, -0.011330230614436054), 137: (<pyphoplacecellanalysis.General.Pipeline.Stages.ComputationFunctions.MultiContextComputationFunctions.RankOrderComputations.Zscorer object at 0x00000256DD333190>, <pyphoplacecellanalysis.General.Pipeline.Stages.ComputationFunctions.MultiContextComputationFunctions.RankOrderComputations.Zscorer object at 0x00000256DD333340>, 0.33992382938048127), 138: (<pyphoplacecellanalysis.General.Pipeline.Stages.ComputationFunctions.MultiContextComputationFunctions.RankOrderComputations.Zscorer object at 0x00000256DD333580>, <pyphoplacecellanalysis.General.Pipeline.Stages.ComputationFunctions.MultiContextComputationFunctions.RankOrderComputations.Zscorer object at 0x00000256DD333790>, -0.18350817515428253), 139: (<pyphoplacecellanalysis.General.Pipeline.Stages.ComputationFunctions.MultiContextComputationFunctions.RankOrderComputations.Zscorer object at 0x00000256DD3339D0>, <pyphoplacecellanalysis.General.Pipeline.Stages.ComputationFunctions.MultiContextComputationFunctions.RankOrderComputations.Zscorer object at 0x00000256DD333BB0>, 0.5387372182339631), 140: (<pyphoplacecellanalysis.General.Pipeline.Stages.ComputationFunctions.MultiContextComputationFunctions.RankOrderComputations.Zscorer object at 0x00000256DD333D00>, <pyphoplacecellanalysis.General.Pipeline.Stages.ComputationFunctions.MultiContextComputationFunctions.RankOrderComputations.Zscorer object at 0x00000256DD333E50>, 0.0017743840559190094), 141: (<pyphoplacecellanalysis.General.Pipeline.Stages.ComputationFunctions.MultiContextComputationFunctions.RankOrderComputations.Zscorer object at 0x00000256DD339280>, <pyphoplacecellanalysis.General.Pipeline.Stages.ComputationFunctions.MultiContextComputationFunctions.RankOrderComputations.Zscorer object at 0x00000256DD339490>, 1.6339481924447827), 142: (<pyphoplacecellanalysis.General.Pipeline.Stages.ComputationFunctions.MultiContextComputationFunctions.RankOrderComputations.Zscorer object at 0x00000256DD3396D0>, <pyphoplacecellanalysis.General.Pipeline.Stages.ComputationFunctions.MultiContextComputationFunctions.RankOrderComputations.Zscorer object at 0x00000256DD339880>, -1.4226870475286304), 143: (<pyphoplacecellanalysis.General.Pipeline.Stages.ComputationFunctions.MultiContextComputationFunctions.RankOrderComputations.Zscorer object at 0x00000256DD339AC0>, <pyphoplacecellanalysis.General.Pipeline.Stages.ComputationFunctions.MultiContextComputationFunctions.RankOrderComputations.Zscorer object at 0x00000256DD339CD0>, 0.8725137650521881), 144: (<pyphoplacecellanalysis.General.Pipeline.Stages.ComputationFunctions.MultiContextComputationFunctions.RankOrderComputations.Zscorer object at 0x00000256DD339F10>, <pyphoplacecellanalysis.General.Pipeline.Stages.ComputationFunctions.MultiContextComputationFunctions.RankOrderComputations.Zscorer object at 0x00000256DD33D100>, -0.5599169413663424), 145: (<pyphoplacecellanalysis.General.Pipeline.Stages.ComputationFunctions.MultiContextComputationFunctions.RankOrderComputations.Zscorer object at 0x00000256DD33D340>, <pyphoplacecellanalysis.General.Pipeline.Stages.ComputationFunctions.MultiContextComputationFunctions.RankOrderComputations.Zscorer object at 0x00000256DD33D550>, -0.139937749556031), 146: (<pyphoplacecellanalysis.General.Pipeline.Stages.ComputationFunctions.MultiContextComputationFunctions.RankOrderComputations.Zscorer object at 0x00000256DD33D790>, <pyphoplacecellanalysis.General.Pipeline.Stages.ComputationFunctions.MultiContextComputationFunctions.RankOrderComputations.Zscorer object at 0x00000256DD33D940>, -0.8205603460577651), 147: (<pyphoplacecellanalysis.General.Pipeline.Stages.ComputationFunctions.MultiContextComputationFunctions.RankOrderComputations.Zscorer object at 0x00000256DD33DB80>, <pyphoplacecellanalysis.General.Pipeline.Stages.ComputationFunctions.MultiContextComputationFunctions.RankOrderComputations.Zscorer object at 0x00000256DD33DD90>, -0.3723143255705179), 148: (<pyphoplacecellanalysis.General.Pipeline.Stages.ComputationFunctions.MultiContextComputationFunctions.RankOrderComputations.Zscorer object at 0x00000256DD33DFD0>, <pyphoplacecellanalysis.General.Pipeline.Stages.ComputationFunctions.MultiContextComputationFunctions.RankOrderComputations.Zscorer object at 0x00000256DD3411C0>, -0.22698115928811258), 149: (<pyphoplacecellanalysis.General.Pipeline.Stages.ComputationFunctions.MultiContextComputationFunctions.RankOrderComputations.Zscorer object at 0x00000256DD341400>, <pyphoplacecellanalysis.General.Pipeline.Stages.ComputationFunctions.MultiContextComputationFunctions.RankOrderComputations.Zscorer object at 0x00000256DD341610>, 0.13763666265143393), 150: (<pyphoplacecellanalysis.General.Pipeline.Stages.ComputationFunctions.MultiContextComputationFunctions.RankOrderComputations.Zscorer object at 0x00000256DD341850>, <pyphoplacecellanalysis.General.Pipeline.Stages.ComputationFunctions.MultiContextComputationFunctions.RankOrderComputations.Zscorer object at 0x00000256DD341A00>, 0.09583392596022755), 151: (<pyphoplacecellanalysis.General.Pipeline.Stages.ComputationFunctions.MultiContextComputationFunctions.RankOrderComputations.Zscorer object at 0x00000256DD341C40>, <pyphoplacecellanalysis.General.Pipeline.Stages.ComputationFunctions.MultiContextComputationFunctions.RankOrderComputations.Zscorer object at 0x00000256DD341E50>, -0.5583347672239702), 152: (<pyphoplacecellanalysis.General.Pipeline.Stages.ComputationFunctions.MultiContextComputationFunctions.RankOrderComputations.Zscorer object at 0x00000256DD346DC0>, <pyphoplacecellanalysis.General.Pipeline.Stages.ComputationFunctions.MultiContextComputationFunctions.RankOrderComputations.Zscorer object at 0x00000256DD3460D0>, 0.36907129964277624), 153: (<pyphoplacecellanalysis.General.Pipeline.Stages.ComputationFunctions.MultiContextComputationFunctions.RankOrderComputations.Zscorer object at 0x00000256DD346310>, <pyphoplacecellanalysis.General.Pipeline.Stages.ComputationFunctions.MultiContextComputationFunctions.RankOrderComputations.Zscorer object at 0x00000256DD3464C0>, -0.5115115390396564), 154: (<pyphoplacecellanalysis.General.Pipeline.Stages.ComputationFunctions.MultiContextComputationFunctions.RankOrderComputations.Zscorer object at 0x00000256DD346700>, <pyphoplacecellanalysis.General.Pipeline.Stages.ComputationFunctions.MultiContextComputationFunctions.RankOrderComputations.Zscorer object at 0x00000256DD346910>, -1.1089810186069178), 155: (<pyphoplacecellanalysis.General.Pipeline.Stages.ComputationFunctions.MultiContextComputationFunctions.RankOrderComputations.Zscorer object at 0x00000256DD346B50>, <pyphoplacecellanalysis.General.Pipeline.Stages.ComputationFunctions.MultiContextComputationFunctions.RankOrderComputations.Zscorer object at 0x00000256DD346CD0>, -0.21967034510998668), 156: (<pyphoplacecellanalysis.General.Pipeline.Stages.ComputationFunctions.MultiContextComputationFunctions.RankOrderComputations.Zscorer object at 0x00000256DD346EE0>, <pyphoplacecellanalysis.General.Pipeline.Stages.ComputationFunctions.MultiContextComputationFunctions.RankOrderComputations.Zscorer object at 0x00000256DD34A2B0>, -0.2603261818272693), 157: (<pyphoplacecellanalysis.General.Pipeline.Stages.ComputationFunctions.MultiContextComputationFunctions.RankOrderComputations.Zscorer object at 0x00000256DD34A040>, <pyphoplacecellanalysis.General.Pipeline.Stages.ComputationFunctions.MultiContextComputationFunctions.RankOrderComputations.Zscorer object at 0x00000256DD34A070>, 0.016760831677217425), 158: (<pyphoplacecellanalysis.General.Pipeline.Stages.ComputationFunctions.MultiContextComputationFunctions.RankOrderComputations.Zscorer object at 0x00000256DD34A4C0>, <pyphoplacecellanalysis.General.Pipeline.Stages.ComputationFunctions.MultiContextComputationFunctions.RankOrderComputations.Zscorer object at 0x00000256DD34A6D0>, 0.11512213566556806), 159: (<pyphoplacecellanalysis.General.Pipeline.Stages.ComputationFunctions.MultiContextComputationFunctions.RankOrderComputations.Zscorer object at 0x00000256DD34A910>, <pyphoplacecellanalysis.General.Pipeline.Stages.ComputationFunctions.MultiContextComputationFunctions.RankOrderComputations.Zscorer object at 0x00000256DD34AAC0>, -0.766820324068967), 160: (<pyphoplacecellanalysis.General.Pipeline.Stages.ComputationFunctions.MultiContextComputationFunctions.RankOrderComputations.Zscorer object at 0x00000256DD34AD00>, <pyphoplacecellanalysis.General.Pipeline.Stages.ComputationFunctions.MultiContextComputationFunctions.RankOrderComputations.Zscorer object at 0x00000256DD34AF10>, -0.08542842105495257), 161: (<pyphoplacecellanalysis.General.Pipeline.Stages.ComputationFunctions.MultiContextComputationFunctions.RankOrderComputations.Zscorer object at 0x00000256DD351190>, <pyphoplacecellanalysis.General.Pipeline.Stages.ComputationFunctions.MultiContextComputationFunctions.RankOrderComputations.Zscorer object at 0x00000256DD351340>, -0.23905038775451948), 162: (<pyphoplacecellanalysis.General.Pipeline.Stages.ComputationFunctions.MultiContextComputationFunctions.RankOrderComputations.Zscorer object at 0x00000256DD351580>, <pyphoplacecellanalysis.General.Pipeline.Stages.ComputationFunctions.MultiContextComputationFunctions.RankOrderComputations.Zscorer object at 0x00000256DD351790>, 0.09542626358665696), 163: (<pyphoplacecellanalysis.General.Pipeline.Stages.ComputationFunctions.MultiContextComputationFunctions.RankOrderComputations.Zscorer object at 0x00000256DD3519D0>, <pyphoplacecellanalysis.General.Pipeline.Stages.ComputationFunctions.MultiContextComputationFunctions.RankOrderComputations.Zscorer object at 0x00000256DD351B80>, -0.8414628689373611), 164: (<pyphoplacecellanalysis.General.Pipeline.Stages.ComputationFunctions.MultiContextComputationFunctions.RankOrderComputations.Zscorer object at 0x00000256DD351DC0>, <pyphoplacecellanalysis.General.Pipeline.Stages.ComputationFunctions.MultiContextComputationFunctions.RankOrderComputations.Zscorer object at 0x00000256DD351FD0>, -0.22255734621720724), 165: (<pyphoplacecellanalysis.General.Pipeline.Stages.ComputationFunctions.MultiContextComputationFunctions.RankOrderComputations.Zscorer object at 0x00000256DD355250>, <pyphoplacecellanalysis.General.Pipeline.Stages.ComputationFunctions.MultiContextComputationFunctions.RankOrderComputations.Zscorer object at 0x00000256DD355400>, -0.8707525875415736), 166: (<pyphoplacecellanalysis.General.Pipeline.Stages.ComputationFunctions.MultiContextComputationFunctions.RankOrderComputations.Zscorer object at 0x00000256DD355640>, <pyphoplacecellanalysis.General.Pipeline.Stages.ComputationFunctions.MultiContextComputationFunctions.RankOrderComputations.Zscorer object at 0x00000256DD355850>, -0.9230881453817275), 167: (<pyphoplacecellanalysis.General.Pipeline.Stages.ComputationFunctions.MultiContextComputationFunctions.RankOrderComputations.Zscorer object at 0x00000256DD355A90>, <pyphoplacecellanalysis.General.Pipeline.Stages.ComputationFunctions.MultiContextComputationFunctions.RankOrderComputations.Zscorer object at 0x00000256DD355C40>, 0.9068556185126669), 168: (<pyphoplacecellanalysis.General.Pipeline.Stages.ComputationFunctions.MultiContextComputationFunctions.RankOrderComputations.Zscorer object at 0x00000256DD355E80>, <pyphoplacecellanalysis.General.Pipeline.Stages.ComputationFunctions.MultiContextComputationFunctions.RankOrderComputations.Zscorer object at 0x00000256DD3580D0>, 0.25810920343647714), 169: (<pyphoplacecellanalysis.General.Pipeline.Stages.ComputationFunctions.MultiContextComputationFunctions.RankOrderComputations.Zscorer object at 0x00000256DD358310>, <pyphoplacecellanalysis.General.Pipeline.Stages.ComputationFunctions.MultiContextComputationFunctions.RankOrderComputations.Zscorer object at 0x00000256DD3584C0>, -0.43695900107743846), 170: (<pyphoplacecellanalysis.General.Pipeline.Stages.ComputationFunctions.MultiContextComputationFunctions.RankOrderComputations.Zscorer object at 0x00000256DD358700>, <pyphoplacecellanalysis.General.Pipeline.Stages.ComputationFunctions.MultiContextComputationFunctions.RankOrderComputations.Zscorer object at 0x00000256DD358910>, 0.33965518349722323), 171: (<pyphoplacecellanalysis.General.Pipeline.Stages.ComputationFunctions.MultiContextComputationFunctions.RankOrderComputations.Zscorer object at 0x00000256DD358B50>, <pyphoplacecellanalysis.General.Pipeline.Stages.ComputationFunctions.MultiContextComputationFunctions.RankOrderComputations.Zscorer object at 0x00000256DD358D00>, 0.18044233612927724), 172: (<pyphoplacecellanalysis.General.Pipeline.Stages.ComputationFunctions.MultiContextComputationFunctions.RankOrderComputations.Zscorer object at 0x00000256DD358F40>, <pyphoplacecellanalysis.General.Pipeline.Stages.ComputationFunctions.MultiContextComputationFunctions.RankOrderComputations.Zscorer object at 0x00000256DD35C7C0>, -1.3504216625503327), 173: (<pyphoplacecellanalysis.General.Pipeline.Stages.ComputationFunctions.MultiContextComputationFunctions.RankOrderComputations.Zscorer object at 0x00000256DD35C400>, <pyphoplacecellanalysis.General.Pipeline.Stages.ComputationFunctions.MultiContextComputationFunctions.RankOrderComputations.Zscorer object at 0x00000256DD35C550>, -0.4288551357964253), 174: (<pyphoplacecellanalysis.General.Pipeline.Stages.ComputationFunctions.MultiContextComputationFunctions.RankOrderComputations.Zscorer object at 0x00000256DD35C1C0>, <pyphoplacecellanalysis.General.Pipeline.Stages.ComputationFunctions.MultiContextComputationFunctions.RankOrderComputations.Zscorer object at 0x00000256DD35C3A0>, -0.5136138571859566), 175: (<pyphoplacecellanalysis.General.Pipeline.Stages.ComputationFunctions.MultiContextComputationFunctions.RankOrderComputations.Zscorer object at 0x00000256DD35C4F0>, <pyphoplacecellanalysis.General.Pipeline.Stages.ComputationFunctions.MultiContextComputationFunctions.RankOrderComputations.Zscorer object at 0x00000256DD35C520>, -0.3426722396510816), 176: (<pyphoplacecellanalysis.General.Pipeline.Stages.ComputationFunctions.MultiContextComputationFunctions.RankOrderComputations.Zscorer object at 0x00000256DD35CB50>, <pyphoplacecellanalysis.General.Pipeline.Stages.ComputationFunctions.MultiContextComputationFunctions.RankOrderComputations.Zscorer object at 0x00000256DD35CDF0>, -0.4216164232797497), 177: (<pyphoplacecellanalysis.General.Pipeline.Stages.ComputationFunctions.MultiContextComputationFunctions.RankOrderComputations.Zscorer object at 0x00000256DD366340>, <pyphoplacecellanalysis.General.Pipeline.Stages.ComputationFunctions.MultiContextComputationFunctions.RankOrderComputations.Zscorer object at 0x00000256DD366460>, -0.32220893184406485), 178: (<pyphoplacecellanalysis.General.Pipeline.Stages.ComputationFunctions.MultiContextComputationFunctions.RankOrderComputations.Zscorer object at 0x00000256DD3665E0>, <pyphoplacecellanalysis.General.Pipeline.Stages.ComputationFunctions.MultiContextComputationFunctions.RankOrderComputations.Zscorer object at 0x00000256DD366730>, -0.3408015940450463), 179: (<pyphoplacecellanalysis.General.Pipeline.Stages.ComputationFunctions.MultiContextComputationFunctions.RankOrderComputations.Zscorer object at 0x00000256DD3668B0>, <pyphoplacecellanalysis.General.Pipeline.Stages.ComputationFunctions.MultiContextComputationFunctions.RankOrderComputations.Zscorer object at 0x00000256DD366A00>, 0.5276847532487863), 180: (<pyphoplacecellanalysis.General.Pipeline.Stages.ComputationFunctions.MultiContextComputationFunctions.RankOrderComputations.Zscorer object at 0x00000256DD366B80>, <pyphoplacecellanalysis.General.Pipeline.Stages.ComputationFunctions.MultiContextComputationFunctions.RankOrderComputations.Zscorer object at 0x00000256DD366CD0>, -0.11025628773575935), 181: (<pyphoplacecellanalysis.General.Pipeline.Stages.ComputationFunctions.MultiContextComputationFunctions.RankOrderComputations.Zscorer object at 0x00000256DD366E50>, <pyphoplacecellanalysis.General.Pipeline.Stages.ComputationFunctions.MultiContextComputationFunctions.RankOrderComputations.Zscorer object at 0x00000256DD366FA0>, 0.4609036237437223), 182: (<pyphoplacecellanalysis.General.Pipeline.Stages.ComputationFunctions.MultiContextComputationFunctions.RankOrderComputations.Zscorer object at 0x00000256DD379130>, <pyphoplacecellanalysis.General.Pipeline.Stages.ComputationFunctions.MultiContextComputationFunctions.RankOrderComputations.Zscorer object at 0x00000256DD379280>, -0.008112796151214408), 183: (<pyphoplacecellanalysis.General.Pipeline.Stages.ComputationFunctions.MultiContextComputationFunctions.RankOrderComputations.Zscorer object at 0x00000256DD379400>, <pyphoplacecellanalysis.General.Pipeline.Stages.ComputationFunctions.MultiContextComputationFunctions.RankOrderComputations.Zscorer object at 0x00000256DD379550>, -1.0375158526535797), 184: (<pyphoplacecellanalysis.General.Pipeline.Stages.ComputationFunctions.MultiContextComputationFunctions.RankOrderComputations.Zscorer object at 0x00000256DD3796D0>, <pyphoplacecellanalysis.General.Pipeline.Stages.ComputationFunctions.MultiContextComputationFunctions.RankOrderComputations.Zscorer object at 0x00000256DD379820>, -0.7087406798261523), 185: (<pyphoplacecellanalysis.General.Pipeline.Stages.ComputationFunctions.MultiContextComputationFunctions.RankOrderComputations.Zscorer object at 0x00000256DD379A90>, <pyphoplacecellanalysis.General.Pipeline.Stages.ComputationFunctions.MultiContextComputationFunctions.RankOrderComputations.Zscorer object at 0x00000256DD379C40>, -0.1295936527656244), 186: (<pyphoplacecellanalysis.General.Pipeline.Stages.ComputationFunctions.MultiContextComputationFunctions.RankOrderComputations.Zscorer object at 0x00000256DD381040>, <pyphoplacecellanalysis.General.Pipeline.Stages.ComputationFunctions.MultiContextComputationFunctions.RankOrderComputations.Zscorer object at 0x00000256DD3813D0>, 0.19333080315787357), 187: (<pyphoplacecellanalysis.General.Pipeline.Stages.ComputationFunctions.MultiContextComputationFunctions.RankOrderComputations.Zscorer object at 0x00000256DD381700>, <pyphoplacecellanalysis.General.Pipeline.Stages.ComputationFunctions.MultiContextComputationFunctions.RankOrderComputations.Zscorer object at 0x00000256DD381850>, -0.0962157132928183), 188: (<pyphoplacecellanalysis.General.Pipeline.Stages.ComputationFunctions.MultiContextComputationFunctions.RankOrderComputations.Zscorer object at 0x00000256DD3819D0>, <pyphoplacecellanalysis.General.Pipeline.Stages.ComputationFunctions.MultiContextComputationFunctions.RankOrderComputations.Zscorer object at 0x00000256DD381B20>, 1.1765600438965251), 189: (<pyphoplacecellanalysis.General.Pipeline.Stages.ComputationFunctions.MultiContextComputationFunctions.RankOrderComputations.Zscorer object at 0x00000256DD381CA0>, <pyphoplacecellanalysis.General.Pipeline.Stages.ComputationFunctions.MultiContextComputationFunctions.RankOrderComputations.Zscorer object at 0x00000256DD381DF0>, -0.1700129623627541), 190: (<pyphoplacecellanalysis.General.Pipeline.Stages.ComputationFunctions.MultiContextComputationFunctions.RankOrderComputations.Zscorer object at 0x00000256DD381F70>, <pyphoplacecellanalysis.General.Pipeline.Stages.ComputationFunctions.MultiContextComputationFunctions.RankOrderComputations.Zscorer object at 0x00000256FE5C10D0>, -0.6398738363203584), 191: (<pyphoplacecellanalysis.General.Pipeline.Stages.ComputationFunctions.MultiContextComputationFunctions.RankOrderComputations.Zscorer object at 0x00000256FE5C1340>, <pyphoplacecellanalysis.General.Pipeline.Stages.ComputationFunctions.MultiContextComputationFunctions.RankOrderComputations.Zscorer object at 0x00000256FE5C1550>, -0.9274994811356709), 192: (<pyphoplacecellanalysis.General.Pipeline.Stages.ComputationFunctions.MultiContextComputationFunctions.RankOrderComputations.Zscorer object at 0x00000256FE5C1910>, <pyphoplacecellanalysis.General.Pipeline.Stages.ComputationFunctions.MultiContextComputationFunctions.RankOrderComputations.Zscorer object at 0x00000256FE5C1B20>, 0.45960451442352424), 193: (<pyphoplacecellanalysis.General.Pipeline.Stages.ComputationFunctions.MultiContextComputationFunctions.RankOrderComputations.Zscorer object at 0x00000256FE5C1D00>, <pyphoplacecellanalysis.General.Pipeline.Stages.ComputationFunctions.MultiContextComputationFunctions.RankOrderComputations.Zscorer object at 0x00000256FE5C80A0>, 0.43136686089858234), 194: (<pyphoplacecellanalysis.General.Pipeline.Stages.ComputationFunctions.MultiContextComputationFunctions.RankOrderComputations.Zscorer object at 0x00000256FE5C82B0>, <pyphoplacecellanalysis.General.Pipeline.Stages.ComputationFunctions.MultiContextComputationFunctions.RankOrderComputations.Zscorer object at 0x00000256FE5C8460>, -0.17974715640652023), 195: (<pyphoplacecellanalysis.General.Pipeline.Stages.ComputationFunctions.MultiContextComputationFunctions.RankOrderComputations.Zscorer object at 0x00000256FE5C86A0>, <pyphoplacecellanalysis.General.Pipeline.Stages.ComputationFunctions.MultiContextComputationFunctions.RankOrderComputations.Zscorer object at 0x00000256FE5C8820>, -0.059821576428004564), 196: (<pyphoplacecellanalysis.General.Pipeline.Stages.ComputationFunctions.MultiContextComputationFunctions.RankOrderComputations.Zscorer object at 0x00000256FE5C8A00>, <pyphoplacecellanalysis.General.Pipeline.Stages.ComputationFunctions.MultiContextComputationFunctions.RankOrderComputations.Zscorer object at 0x00000256FE5C8D60>, -0.1869596176152808), 197: (<pyphoplacecellanalysis.General.Pipeline.Stages.ComputationFunctions.MultiContextComputationFunctions.RankOrderComputations.Zscorer object at 0x00000256FE5C8F70>, <pyphoplacecellanalysis.General.Pipeline.Stages.ComputationFunctions.MultiContextComputationFunctions.RankOrderComputations.Zscorer object at 0x00000256FE5CF160>, 1.1061017823692123), 198: (<pyphoplacecellanalysis.General.Pipeline.Stages.ComputationFunctions.MultiContextComputationFunctions.RankOrderComputations.Zscorer object at 0x00000256FE5CF3A0>, <pyphoplacecellanalysis.General.Pipeline.Stages.ComputationFunctions.MultiContextComputationFunctions.RankOrderComputations.Zscorer object at 0x00000256FE5CF5E0>, -0.6695462444618409), 199: (<pyphoplacecellanalysis.General.Pipeline.Stages.ComputationFunctions.MultiContextComputationFunctions.RankOrderComputations.Zscorer object at 0x00000256FE5CF7F0>, <pyphoplacecellanalysis.General.Pipeline.Stages.ComputationFunctions.MultiContextComputationFunctions.RankOrderComputations.Zscorer object at 0x00000256FE5CFBE0>, -0.04605025504583882), 200: (<pyphoplacecellanalysis.General.Pipeline.Stages.ComputationFunctions.MultiContextComputationFunctions.RankOrderComputations.Zscorer object at 0x00000256FE5CFDC0>, <pyphoplacecellanalysis.General.Pipeline.Stages.ComputationFunctions.MultiContextComputationFunctions.RankOrderComputations.Zscorer object at 0x00000256FE5D6040>, -0.2596067437265299), 201: (<pyphoplacecellanalysis.General.Pipeline.Stages.ComputationFunctions.MultiContextComputationFunctions.RankOrderComputations.Zscorer object at 0x00000256FE5D6310>, <pyphoplacecellanalysis.General.Pipeline.Stages.ComputationFunctions.MultiContextComputationFunctions.RankOrderComputations.Zscorer object at 0x00000256FE5D6640>, -0.7615455006614624), 202: (<pyphoplacecellanalysis.General.Pipeline.Stages.ComputationFunctions.MultiContextComputationFunctions.RankOrderComputations.Zscorer object at 0x00000256FE5D6970>, <pyphoplacecellanalysis.General.Pipeline.Stages.ComputationFunctions.MultiContextComputationFunctions.RankOrderComputations.Zscorer object at 0x00000256FE5D69A0>, 0.0), 203: (<pyphoplacecellanalysis.General.Pipeline.Stages.ComputationFunctions.MultiContextComputationFunctions.RankOrderComputations.Zscorer object at 0x00000256FE5D6F70>, <pyphoplacecellanalysis.General.Pipeline.Stages.ComputationFunctions.MultiContextComputationFunctions.RankOrderComputations.Zscorer object at 0x00000256FE5E0280>, -0.3682503292141893), 204: (<pyphoplacecellanalysis.General.Pipeline.Stages.ComputationFunctions.MultiContextComputationFunctions.RankOrderComputations.Zscorer object at 0x00000256FE5E06D0>, <pyphoplacecellanalysis.General.Pipeline.Stages.ComputationFunctions.MultiContextComputationFunctions.RankOrderComputations.Zscorer object at 0x00000256FE5E0790>, -0.5120281731684928), 205: (<pyphoplacecellanalysis.General.Pipeline.Stages.ComputationFunctions.MultiContextComputationFunctions.RankOrderComputations.Zscorer object at 0x00000256FE5E0A90>, <pyphoplacecellanalysis.General.Pipeline.Stages.ComputationFunctions.MultiContextComputationFunctions.RankOrderComputations.Zscorer object at 0x00000256FE5E0DF0>, -0.24265846291353643), 206: (<pyphoplacecellanalysis.General.Pipeline.Stages.ComputationFunctions.MultiContextComputationFunctions.RankOrderComputations.Zscorer object at 0x00000256FE5E7460>, <pyphoplacecellanalysis.General.Pipeline.Stages.ComputationFunctions.MultiContextComputationFunctions.RankOrderComputations.Zscorer object at 0x00000256FE5E77C0>, -1.0025934141789814), 207: (<pyphoplacecellanalysis.General.Pipeline.Stages.ComputationFunctions.MultiContextComputationFunctions.RankOrderComputations.Zscorer object at 0x00000256FE5E7AC0>, <pyphoplacecellanalysis.General.Pipeline.Stages.ComputationFunctions.MultiContextComputationFunctions.RankOrderComputations.Zscorer object at 0x00000256FE5E7EE0>, 0.4834880081719256), 208: (<pyphoplacecellanalysis.General.Pipeline.Stages.ComputationFunctions.MultiContextComputationFunctions.RankOrderComputations.Zscorer object at 0x00000256FE5F5460>, <pyphoplacecellanalysis.General.Pipeline.Stages.ComputationFunctions.MultiContextComputationFunctions.RankOrderComputations.Zscorer object at 0x00000256FE5F5580>, 0.7159490606636436), 209: (<pyphoplacecellanalysis.General.Pipeline.Stages.ComputationFunctions.MultiContextComputationFunctions.RankOrderComputations.Zscorer object at 0x00000256FE5F5700>, <pyphoplacecellanalysis.General.Pipeline.Stages.ComputationFunctions.MultiContextComputationFunctions.RankOrderComputations.Zscorer object at 0x00000256FE5F5850>, -0.2758940313696574), 210: (<pyphoplacecellanalysis.General.Pipeline.Stages.ComputationFunctions.MultiContextComputationFunctions.RankOrderComputations.Zscorer object at 0x00000256FE5F59D0>, <pyphoplacecellanalysis.General.Pipeline.Stages.ComputationFunctions.MultiContextComputationFunctions.RankOrderComputations.Zscorer object at 0x00000256FE5F5B20>, 0.212604838083561), 211: (<pyphoplacecellanalysis.General.Pipeline.Stages.ComputationFunctions.MultiContextComputationFunctions.RankOrderComputations.Zscorer object at 0x00000256FE5F5CA0>, <pyphoplacecellanalysis.General.Pipeline.Stages.ComputationFunctions.MultiContextComputationFunctions.RankOrderComputations.Zscorer object at 0x00000256FE5F5DF0>, 1.8730089122042564), 212: (<pyphoplacecellanalysis.General.Pipeline.Stages.ComputationFunctions.MultiContextComputationFunctions.RankOrderComputations.Zscorer object at 0x00000256FE5F5F70>, <pyphoplacecellanalysis.General.Pipeline.Stages.ComputationFunctions.MultiContextComputationFunctions.RankOrderComputations.Zscorer object at 0x00000256FE6080D0>, 0.1353820488039601), 213: (<pyphoplacecellanalysis.General.Pipeline.Stages.ComputationFunctions.MultiContextComputationFunctions.RankOrderComputations.Zscorer object at 0x00000256FE608250>, <pyphoplacecellanalysis.General.Pipeline.Stages.ComputationFunctions.MultiContextComputationFunctions.RankOrderComputations.Zscorer object at 0x00000256FE6083A0>, 0.32240155694241746), 214: (<pyphoplacecellanalysis.General.Pipeline.Stages.ComputationFunctions.MultiContextComputationFunctions.RankOrderComputations.Zscorer object at 0x00000256FE608520>, <pyphoplacecellanalysis.General.Pipeline.Stages.ComputationFunctions.MultiContextComputationFunctions.RankOrderComputations.Zscorer object at 0x00000256FE608670>, -0.7168220161511925), 215: (<pyphoplacecellanalysis.General.Pipeline.Stages.ComputationFunctions.MultiContextComputationFunctions.RankOrderComputations.Zscorer object at 0x00000256FE6087F0>, <pyphoplacecellanalysis.General.Pipeline.Stages.ComputationFunctions.MultiContextComputationFunctions.RankOrderComputations.Zscorer object at 0x00000256FE608940>, -1.2810026591394827), 216: (<pyphoplacecellanalysis.General.Pipeline.Stages.ComputationFunctions.MultiContextComputationFunctions.RankOrderComputations.Zscorer object at 0x00000256FE608BB0>, <pyphoplacecellanalysis.General.Pipeline.Stages.ComputationFunctions.MultiContextComputationFunctions.RankOrderComputations.Zscorer object at 0x00000256FE608D60>, 0.17522863514093248), 217: (<pyphoplacecellanalysis.General.Pipeline.Stages.ComputationFunctions.MultiContextComputationFunctions.RankOrderComputations.Zscorer object at 0x00000256FE60F070>, <pyphoplacecellanalysis.General.Pipeline.Stages.ComputationFunctions.MultiContextComputationFunctions.RankOrderComputations.Zscorer object at 0x00000256FE60F4F0>, 0.0), 218: (<pyphoplacecellanalysis.General.Pipeline.Stages.ComputationFunctions.MultiContextComputationFunctions.RankOrderComputations.Zscorer object at 0x00000256FE60F820>, <pyphoplacecellanalysis.General.Pipeline.Stages.ComputationFunctions.MultiContextComputationFunctions.RankOrderComputations.Zscorer object at 0x00000256FE60F970>, -0.4115943656449935), 219: (<pyphoplacecellanalysis.General.Pipeline.Stages.ComputationFunctions.MultiContextComputationFunctions.RankOrderComputations.Zscorer object at 0x00000256FE60FAF0>, <pyphoplacecellanalysis.General.Pipeline.Stages.ComputationFunctions.MultiContextComputationFunctions.RankOrderComputations.Zscorer object at 0x00000256FE60FC40>, -0.007776163961276561), 220: (<pyphoplacecellanalysis.General.Pipeline.Stages.ComputationFunctions.MultiContextComputationFunctions.RankOrderComputations.Zscorer object at 0x00000256FE60FDC0>, <pyphoplacecellanalysis.General.Pipeline.Stages.ComputationFunctions.MultiContextComputationFunctions.RankOrderComputations.Zscorer object at 0x00000256FE60FF10>, 0.26514051715807163), 221: (<pyphoplacecellanalysis.General.Pipeline.Stages.ComputationFunctions.MultiContextComputationFunctions.RankOrderComputations.Zscorer object at 0x00000256FE6290A0>, <pyphoplacecellanalysis.General.Pipeline.Stages.ComputationFunctions.MultiContextComputationFunctions.RankOrderComputations.Zscorer object at 0x00000256FE6291F0>, 0.12613573927443666), 222: (<pyphoplacecellanalysis.General.Pipeline.Stages.ComputationFunctions.MultiContextComputationFunctions.RankOrderComputations.Zscorer object at 0x00000256FE629370>, <pyphoplacecellanalysis.General.Pipeline.Stages.ComputationFunctions.MultiContextComputationFunctions.RankOrderComputations.Zscorer object at 0x00000256FE6294C0>, -0.4344787890299928), 223: (<pyphoplacecellanalysis.General.Pipeline.Stages.ComputationFunctions.MultiContextComputationFunctions.RankOrderComputations.Zscorer object at 0x00000256FE629640>, <pyphoplacecellanalysis.General.Pipeline.Stages.ComputationFunctions.MultiContextComputationFunctions.RankOrderComputations.Zscorer object at 0x00000256FE629790>, -0.18380187550415236), 224: (<pyphoplacecellanalysis.General.Pipeline.Stages.ComputationFunctions.MultiContextComputationFunctions.RankOrderComputations.Zscorer object at 0x00000256FE629910>, <pyphoplacecellanalysis.General.Pipeline.Stages.ComputationFunctions.MultiContextComputationFunctions.RankOrderComputations.Zscorer object at 0x00000256FE629A60>, -0.6655458241630694), 225: (<pyphoplacecellanalysis.General.Pipeline.Stages.ComputationFunctions.MultiContextComputationFunctions.RankOrderComputations.Zscorer object at 0x00000256FE629BE0>, <pyphoplacecellanalysis.General.Pipeline.Stages.ComputationFunctions.MultiContextComputationFunctions.RankOrderComputations.Zscorer object at 0x00000256FE629E50>, -0.579638501294355), 226: (<pyphoplacecellanalysis.General.Pipeline.Stages.ComputationFunctions.MultiContextComputationFunctions.RankOrderComputations.Zscorer object at 0x00000256FE62E100>, <pyphoplacecellanalysis.General.Pipeline.Stages.ComputationFunctions.MultiContextComputationFunctions.RankOrderComputations.Zscorer object at 0x00000256FE62E310>, 0.807973700320201), 227: (<pyphoplacecellanalysis.General.Pipeline.Stages.ComputationFunctions.MultiContextComputationFunctions.RankOrderComputations.Zscorer object at 0x00000256FE62E6A0>, <pyphoplacecellanalysis.General.Pipeline.Stages.ComputationFunctions.MultiContextComputationFunctions.RankOrderComputations.Zscorer object at 0x00000256FE62E8B0>, -0.13515499137644182), 228: (<pyphoplacecellanalysis.General.Pipeline.Stages.ComputationFunctions.MultiContextComputationFunctions.RankOrderComputations.Zscorer object at 0x00000256FE62EB20>, <pyphoplacecellanalysis.General.Pipeline.Stages.ComputationFunctions.MultiContextComputationFunctions.RankOrderComputations.Zscorer object at 0x00000256FE62EDF0>, -0.09155234822235447), 229: (<pyphoplacecellanalysis.General.Pipeline.Stages.ComputationFunctions.MultiContextComputationFunctions.RankOrderComputations.Zscorer object at 0x00000256FE62EFD0>, <pyphoplacecellanalysis.General.Pipeline.Stages.ComputationFunctions.MultiContextComputationFunctions.RankOrderComputations.Zscorer object at 0x00000257F2F561F0>, 0.8491048251833453), 230: (<pyphoplacecellanalysis.General.Pipeline.Stages.ComputationFunctions.MultiContextComputationFunctions.RankOrderComputations.Zscorer object at 0x00000257F2F563A0>, <pyphoplacecellanalysis.General.Pipeline.Stages.ComputationFunctions.MultiContextComputationFunctions.RankOrderComputations.Zscorer object at 0x00000257F2F565B0>, 0.9600802577369656), 231: (<pyphoplacecellanalysis.General.Pipeline.Stages.ComputationFunctions.MultiContextComputationFunctions.RankOrderComputations.Zscorer object at 0x00000257F2F56820>, <pyphoplacecellanalysis.General.Pipeline.Stages.ComputationFunctions.MultiContextComputationFunctions.RankOrderComputations.Zscorer object at 0x00000257F2F56AF0>, 1.0636671818886985), 232: (<pyphoplacecellanalysis.General.Pipeline.Stages.ComputationFunctions.MultiContextComputationFunctions.RankOrderComputations.Zscorer object at 0x00000257F2F56CD0>, <pyphoplacecellanalysis.General.Pipeline.Stages.ComputationFunctions.MultiContextComputationFunctions.RankOrderComputations.Zscorer object at 0x00000257F2F56E80>, 0.6396077822793259), 233: (<pyphoplacecellanalysis.General.Pipeline.Stages.ComputationFunctions.MultiContextComputationFunctions.RankOrderComputations.Zscorer object at 0x00000257F2F5D0D0>, <pyphoplacecellanalysis.General.Pipeline.Stages.ComputationFunctions.MultiContextComputationFunctions.RankOrderComputations.Zscorer object at 0x00000257F2F5D3D0>, 1.1544565724424225), 234: (<pyphoplacecellanalysis.General.Pipeline.Stages.ComputationFunctions.MultiContextComputationFunctions.RankOrderComputations.Zscorer object at 0x00000257F2F5D8E0>, <pyphoplacecellanalysis.General.Pipeline.Stages.ComputationFunctions.MultiContextComputationFunctions.RankOrderComputations.Zscorer object at 0x00000257F2F5DAF0>, -0.5283633596243712), 235: (<pyphoplacecellanalysis.General.Pipeline.Stages.ComputationFunctions.MultiContextComputationFunctions.RankOrderComputations.Zscorer object at 0x00000257F2F5DDF0>, <pyphoplacecellanalysis.General.Pipeline.Stages.ComputationFunctions.MultiContextComputationFunctions.RankOrderComputations.Zscorer object at 0x00000257F2F5DEB0>, 0.6623877514755636), 236: (<pyphoplacecellanalysis.General.Pipeline.Stages.ComputationFunctions.MultiContextComputationFunctions.RankOrderComputations.Zscorer object at 0x00000257F2F643A0>, <pyphoplacecellanalysis.General.Pipeline.Stages.ComputationFunctions.MultiContextComputationFunctions.RankOrderComputations.Zscorer object at 0x00000257F2F64250>, 0.03613487582944086), 237: (<pyphoplacecellanalysis.General.Pipeline.Stages.ComputationFunctions.MultiContextComputationFunctions.RankOrderComputations.Zscorer object at 0x00000257F2F64970>, <pyphoplacecellanalysis.General.Pipeline.Stages.ComputationFunctions.MultiContextComputationFunctions.RankOrderComputations.Zscorer object at 0x00000257F2F64BB0>, -1.3294349226726518), 238: (<pyphoplacecellanalysis.General.Pipeline.Stages.ComputationFunctions.MultiContextComputationFunctions.RankOrderComputations.Zscorer object at 0x00000257F2F64FA0>, <pyphoplacecellanalysis.General.Pipeline.Stages.ComputationFunctions.MultiContextComputationFunctions.RankOrderComputations.Zscorer object at 0x00000257F2F6A100>, -0.1423188105049984), 239: (<pyphoplacecellanalysis.General.Pipeline.Stages.ComputationFunctions.MultiContextComputationFunctions.RankOrderComputations.Zscorer object at 0x00000257F2F6A400>, <pyphoplacecellanalysis.General.Pipeline.Stages.ComputationFunctions.MultiContextComputationFunctions.RankOrderComputations.Zscorer object at 0x00000257F2F6A760>, 0.8050276079657108), 240: (<pyphoplacecellanalysis.General.Pipeline.Stages.ComputationFunctions.MultiContextComputationFunctions.RankOrderComputations.Zscorer object at 0x00000257F2F6A9A0>, <pyphoplacecellanalysis.General.Pipeline.Stages.ComputationFunctions.MultiContextComputationFunctions.RankOrderComputations.Zscorer object at 0x00000257F2F6ADC0>, 0.7970849754374236), 241: (<pyphoplacecellanalysis.General.Pipeline.Stages.ComputationFunctions.MultiContextComputationFunctions.RankOrderComputations.Zscorer object at 0x00000257F2F710A0>, <pyphoplacecellanalysis.General.Pipeline.Stages.ComputationFunctions.MultiContextComputationFunctions.RankOrderComputations.Zscorer object at 0x00000257F2F715B0>, 0.5971707751093795), 242: (<pyphoplacecellanalysis.General.Pipeline.Stages.ComputationFunctions.MultiContextComputationFunctions.RankOrderComputations.Zscorer object at 0x00000257F2F71A30>, <pyphoplacecellanalysis.General.Pipeline.Stages.ComputationFunctions.MultiContextComputationFunctions.RankOrderComputations.Zscorer object at 0x00000257F2F71B80>, 0.9437006432837998), 243: (<pyphoplacecellanalysis.General.Pipeline.Stages.ComputationFunctions.MultiContextComputationFunctions.RankOrderComputations.Zscorer object at 0x00000257F2F71D00>, <pyphoplacecellanalysis.General.Pipeline.Stages.ComputationFunctions.MultiContextComputationFunctions.RankOrderComputations.Zscorer object at 0x00000257F2F71E50>, 1.1724640324564146), 244: (<pyphoplacecellanalysis.General.Pipeline.Stages.ComputationFunctions.MultiContextComputationFunctions.RankOrderComputations.Zscorer object at 0x00000257F2F71FD0>, <pyphoplacecellanalysis.General.Pipeline.Stages.ComputationFunctions.MultiContextComputationFunctions.RankOrderComputations.Zscorer object at 0x00000257F2F8C130>, 0.264297807236179), 245: (<pyphoplacecellanalysis.General.Pipeline.Stages.ComputationFunctions.MultiContextComputationFunctions.RankOrderComputations.Zscorer object at 0x00000257F2F8C2B0>, <pyphoplacecellanalysis.General.Pipeline.Stages.ComputationFunctions.MultiContextComputationFunctions.RankOrderComputations.Zscorer object at 0x00000257F2F8C400>, -1.311958519008626), 246: (<pyphoplacecellanalysis.General.Pipeline.Stages.ComputationFunctions.MultiContextComputationFunctions.RankOrderComputations.Zscorer object at 0x00000257F2F8C5B0>, <pyphoplacecellanalysis.General.Pipeline.Stages.ComputationFunctions.MultiContextComputationFunctions.RankOrderComputations.Zscorer object at 0x00000257F2F8C7C0>, -0.9540833209783677), 247: (<pyphoplacecellanalysis.General.Pipeline.Stages.ComputationFunctions.MultiContextComputationFunctions.RankOrderComputations.Zscorer object at 0x00000257F2F8CBB0>, <pyphoplacecellanalysis.General.Pipeline.Stages.ComputationFunctions.MultiContextComputationFunctions.RankOrderComputations.Zscorer object at 0x00000257F2F8CEB0>, 0.26062351207846124), 248: (<pyphoplacecellanalysis.General.Pipeline.Stages.ComputationFunctions.MultiContextComputationFunctions.RankOrderComputations.Zscorer object at 0x00000257F2F952E0>, <pyphoplacecellanalysis.General.Pipeline.Stages.ComputationFunctions.MultiContextComputationFunctions.RankOrderComputations.Zscorer object at 0x00000257F2F95430>, -0.25264207726224813), 249: (<pyphoplacecellanalysis.General.Pipeline.Stages.ComputationFunctions.MultiContextComputationFunctions.RankOrderComputations.Zscorer object at 0x00000257F2F955B0>, <pyphoplacecellanalysis.General.Pipeline.Stages.ComputationFunctions.MultiContextComputationFunctions.RankOrderComputations.Zscorer object at 0x00000257F2F95700>, -0.4653395329672376), 250: (<pyphoplacecellanalysis.General.Pipeline.Stages.ComputationFunctions.MultiContextComputationFunctions.RankOrderComputations.Zscorer object at 0x00000257F2F95880>, <pyphoplacecellanalysis.General.Pipeline.Stages.ComputationFunctions.MultiContextComputationFunctions.RankOrderComputations.Zscorer object at 0x00000257F2F959D0>, -0.855245782093735), 251: (<pyphoplacecellanalysis.General.Pipeline.Stages.ComputationFunctions.MultiContextComputationFunctions.RankOrderComputations.Zscorer object at 0x00000257F2F95B50>, <pyphoplacecellanalysis.General.Pipeline.Stages.ComputationFunctions.MultiContextComputationFunctions.RankOrderComputations.Zscorer object at 0x00000257F2F95CA0>, 0.36792298600438467), 252: (<pyphoplacecellanalysis.General.Pipeline.Stages.ComputationFunctions.MultiContextComputationFunctions.RankOrderComputations.Zscorer object at 0x00000257F2F95E20>, <pyphoplacecellanalysis.General.Pipeline.Stages.ComputationFunctions.MultiContextComputationFunctions.RankOrderComputations.Zscorer object at 0x00000257F2F95F70>, 0.0), 253: (<pyphoplacecellanalysis.General.Pipeline.Stages.ComputationFunctions.MultiContextComputationFunctions.RankOrderComputations.Zscorer object at 0x00000257F2FAE100>, <pyphoplacecellanalysis.General.Pipeline.Stages.ComputationFunctions.MultiContextComputationFunctions.RankOrderComputations.Zscorer object at 0x00000257F2FAE2B0>, 0.47437243520711103), 254: (<pyphoplacecellanalysis.General.Pipeline.Stages.ComputationFunctions.MultiContextComputationFunctions.RankOrderComputations.Zscorer object at 0x00000257F2FAE580>, <pyphoplacecellanalysis.General.Pipeline.Stages.ComputationFunctions.MultiContextComputationFunctions.RankOrderComputations.Zscorer object at 0x00000257F2FAE880>, -0.8632275472834086), 255: (<pyphoplacecellanalysis.General.Pipeline.Stages.ComputationFunctions.MultiContextComputationFunctions.RankOrderComputations.Zscorer object at 0x00000257F2FAEB50>, <pyphoplacecellanalysis.General.Pipeline.Stages.ComputationFunctions.MultiContextComputationFunctions.RankOrderComputations.Zscorer object at 0x00000257F2FAECD0>, -0.37570176094923874), 256: (<pyphoplacecellanalysis.General.Pipeline.Stages.ComputationFunctions.MultiContextComputationFunctions.RankOrderComputations.Zscorer object at 0x00000257F2FB70D0>, <pyphoplacecellanalysis.General.Pipeline.Stages.ComputationFunctions.MultiContextComputationFunctions.RankOrderComputations.Zscorer object at 0x00000257F2FB7220>, 0.17898305288958727), 257: (<pyphoplacecellanalysis.General.Pipeline.Stages.ComputationFunctions.MultiContextComputationFunctions.RankOrderComputations.Zscorer object at 0x00000257F2FB7490>, <pyphoplacecellanalysis.General.Pipeline.Stages.ComputationFunctions.MultiContextComputationFunctions.RankOrderComputations.Zscorer object at 0x00000257F2FB76A0>, -0.0498530353097939), 258: (<pyphoplacecellanalysis.General.Pipeline.Stages.ComputationFunctions.MultiContextComputationFunctions.RankOrderComputations.Zscorer object at 0x00000257F2FB7850>, <pyphoplacecellanalysis.General.Pipeline.Stages.ComputationFunctions.MultiContextComputationFunctions.RankOrderComputations.Zscorer object at 0x00000257F2FB79D0>, 1.2624614849627456), 259: (<pyphoplacecellanalysis.General.Pipeline.Stages.ComputationFunctions.MultiContextComputationFunctions.RankOrderComputations.Zscorer object at 0x00000257F2FB7D90>, <pyphoplacecellanalysis.General.Pipeline.Stages.ComputationFunctions.MultiContextComputationFunctions.RankOrderComputations.Zscorer object at 0x00000257F2FB7EE0>, 0.1340686746411045), 260: (<pyphoplacecellanalysis.General.Pipeline.Stages.ComputationFunctions.MultiContextComputationFunctions.RankOrderComputations.Zscorer object at 0x00000257F2FBD190>, <pyphoplacecellanalysis.General.Pipeline.Stages.ComputationFunctions.MultiContextComputationFunctions.RankOrderComputations.Zscorer object at 0x00000257F2FBD3A0>, 0.3079558921284865), 261: (<pyphoplacecellanalysis.General.Pipeline.Stages.ComputationFunctions.MultiContextComputationFunctions.RankOrderComputations.Zscorer object at 0x00000257F2FBD610>, <pyphoplacecellanalysis.General.Pipeline.Stages.ComputationFunctions.MultiContextComputationFunctions.RankOrderComputations.Zscorer object at 0x00000257F2FBD760>, -1.5746055175608942), 262: (<pyphoplacecellanalysis.General.Pipeline.Stages.ComputationFunctions.MultiContextComputationFunctions.RankOrderComputations.Zscorer object at 0x00000257F2FBDC10>, <pyphoplacecellanalysis.General.Pipeline.Stages.ComputationFunctions.MultiContextComputationFunctions.RankOrderComputations.Zscorer object at 0x00000257F2FBDD00>, -0.6175261392047791), 263: (<pyphoplacecellanalysis.General.Pipeline.Stages.ComputationFunctions.MultiContextComputationFunctions.RankOrderComputations.Zscorer object at 0x00000257F2FC3040>, <pyphoplacecellanalysis.General.Pipeline.Stages.ComputationFunctions.MultiContextComputationFunctions.RankOrderComputations.Zscorer object at 0x00000257F2FC3370>, -0.23953040523446867), 264: (<pyphoplacecellanalysis.General.Pipeline.Stages.ComputationFunctions.MultiContextComputationFunctions.RankOrderComputations.Zscorer object at 0x00000257F2FC3670>, <pyphoplacecellanalysis.General.Pipeline.Stages.ComputationFunctions.MultiContextComputationFunctions.RankOrderComputations.Zscorer object at 0x00000257F2FC3A90>, -0.45464116392287657), 265: (<pyphoplacecellanalysis.General.Pipeline.Stages.ComputationFunctions.MultiContextComputationFunctions.RankOrderComputations.Zscorer object at 0x00000257F2FC3BE0>, <pyphoplacecellanalysis.General.Pipeline.Stages.ComputationFunctions.MultiContextComputationFunctions.RankOrderComputations.Zscorer object at 0x00000257F2FC3F70>, -0.17698407459471444), 266: (<pyphoplacecellanalysis.General.Pipeline.Stages.ComputationFunctions.MultiContextComputationFunctions.RankOrderComputations.Zscorer object at 0x00000257F2FC9370>, <pyphoplacecellanalysis.General.Pipeline.Stages.ComputationFunctions.MultiContextComputationFunctions.RankOrderComputations.Zscorer object at 0x00000257F2FC9580>, -0.02717259152229856), 267: (<pyphoplacecellanalysis.General.Pipeline.Stages.ComputationFunctions.MultiContextComputationFunctions.RankOrderComputations.Zscorer object at 0x00000257F2FC9880>, <pyphoplacecellanalysis.General.Pipeline.Stages.ComputationFunctions.MultiContextComputationFunctions.RankOrderComputations.Zscorer object at 0x00000257F2FC9D30>, -0.4622528722327365), 268: (<pyphoplacecellanalysis.General.Pipeline.Stages.ComputationFunctions.MultiContextComputationFunctions.RankOrderComputations.Zscorer object at 0x00000257F2FC9E80>, <pyphoplacecellanalysis.General.Pipeline.Stages.ComputationFunctions.MultiContextComputationFunctions.RankOrderComputations.Zscorer object at 0x00000257F2FCF040>, 0.29368384550085425), 269: (<pyphoplacecellanalysis.General.Pipeline.Stages.ComputationFunctions.MultiContextComputationFunctions.RankOrderComputations.Zscorer object at 0x00000257F2FCF5E0>, <pyphoplacecellanalysis.General.Pipeline.Stages.ComputationFunctions.MultiContextComputationFunctions.RankOrderComputations.Zscorer object at 0x00000257F2FCFA00>, -0.15456235466282775), 270: (<pyphoplacecellanalysis.General.Pipeline.Stages.ComputationFunctions.MultiContextComputationFunctions.RankOrderComputations.Zscorer object at 0x00000257F2FCFF40>, <pyphoplacecellanalysis.General.Pipeline.Stages.ComputationFunctions.MultiContextComputationFunctions.RankOrderComputations.Zscorer object at 0x00000257F2FED070>, -0.24709598537080524), 271: (<pyphoplacecellanalysis.General.Pipeline.Stages.ComputationFunctions.MultiContextComputationFunctions.RankOrderComputations.Zscorer object at 0x00000257F2FED1F0>, <pyphoplacecellanalysis.General.Pipeline.Stages.ComputationFunctions.MultiContextComputationFunctions.RankOrderComputations.Zscorer object at 0x00000257F2FED340>, -0.23916467757505655), 272: (<pyphoplacecellanalysis.General.Pipeline.Stages.ComputationFunctions.MultiContextComputationFunctions.RankOrderComputations.Zscorer object at 0x00000257F2FED4C0>, <pyphoplacecellanalysis.General.Pipeline.Stages.ComputationFunctions.MultiContextComputationFunctions.RankOrderComputations.Zscorer object at 0x00000257F2FED610>, -0.8241712059979381), 273: (<pyphoplacecellanalysis.General.Pipeline.Stages.ComputationFunctions.MultiContextComputationFunctions.RankOrderComputations.Zscorer object at 0x00000257F2FED910>, <pyphoplacecellanalysis.General.Pipeline.Stages.ComputationFunctions.MultiContextComputationFunctions.RankOrderComputations.Zscorer object at 0x00000257F2FEDBE0>, -0.7446463249730231), 274: (<pyphoplacecellanalysis.General.Pipeline.Stages.ComputationFunctions.MultiContextComputationFunctions.RankOrderComputations.Zscorer object at 0x00000257F2FEDEE0>, <pyphoplacecellanalysis.General.Pipeline.Stages.ComputationFunctions.MultiContextComputationFunctions.RankOrderComputations.Zscorer object at 0x00000257F2FF4370>, -0.9137881245188206), 275: (<pyphoplacecellanalysis.General.Pipeline.Stages.ComputationFunctions.MultiContextComputationFunctions.RankOrderComputations.Zscorer object at 0x00000257F2FF44F0>, <pyphoplacecellanalysis.General.Pipeline.Stages.ComputationFunctions.MultiContextComputationFunctions.RankOrderComputations.Zscorer object at 0x00000257F2FF4640>, -1.022760755868232), 276: (<pyphoplacecellanalysis.General.Pipeline.Stages.ComputationFunctions.MultiContextComputationFunctions.RankOrderComputations.Zscorer object at 0x00000257F2FF47C0>, <pyphoplacecellanalysis.General.Pipeline.Stages.ComputationFunctions.MultiContextComputationFunctions.RankOrderComputations.Zscorer object at 0x00000257F2FF4910>, -0.2590638616620997), 277: (<pyphoplacecellanalysis.General.Pipeline.Stages.ComputationFunctions.MultiContextComputationFunctions.RankOrderComputations.Zscorer object at 0x00000257F2FF4A90>, <pyphoplacecellanalysis.General.Pipeline.Stages.ComputationFunctions.MultiContextComputationFunctions.RankOrderComputations.Zscorer object at 0x00000257F2FF4BE0>, -0.5060798158671214), 278: (<pyphoplacecellanalysis.General.Pipeline.Stages.ComputationFunctions.MultiContextComputationFunctions.RankOrderComputations.Zscorer object at 0x00000257F2FF4D60>, <pyphoplacecellanalysis.General.Pipeline.Stages.ComputationFunctions.MultiContextComputationFunctions.RankOrderComputations.Zscorer object at 0x00000257F2FF4EB0>, -1.052442278951283), 279: (<pyphoplacecellanalysis.General.Pipeline.Stages.ComputationFunctions.MultiContextComputationFunctions.RankOrderComputations.Zscorer object at 0x00000257F300D040>, <pyphoplacecellanalysis.General.Pipeline.Stages.ComputationFunctions.MultiContextComputationFunctions.RankOrderComputations.Zscorer object at 0x00000257F300D190>, -0.7780460787099673), 280: (<pyphoplacecellanalysis.General.Pipeline.Stages.ComputationFunctions.MultiContextComputationFunctions.RankOrderComputations.Zscorer object at 0x00000257F300D310>, <pyphoplacecellanalysis.General.Pipeline.Stages.ComputationFunctions.MultiContextComputationFunctions.RankOrderComputations.Zscorer object at 0x00000257F300D460>, 0.08196270966989916), 281: (<pyphoplacecellanalysis.General.Pipeline.Stages.ComputationFunctions.MultiContextComputationFunctions.RankOrderComputations.Zscorer object at 0x00000257F300D5E0>, <pyphoplacecellanalysis.General.Pipeline.Stages.ComputationFunctions.MultiContextComputationFunctions.RankOrderComputations.Zscorer object at 0x00000257F300D790>, -1.1133040278474549), 282: (<pyphoplacecellanalysis.General.Pipeline.Stages.ComputationFunctions.MultiContextComputationFunctions.RankOrderComputations.Zscorer object at 0x00000257F300DA60>, <pyphoplacecellanalysis.General.Pipeline.Stages.ComputationFunctions.MultiContextComputationFunctions.RankOrderComputations.Zscorer object at 0x00000257F300DD60>, -0.6279512796015956), 283: (<pyphoplacecellanalysis.General.Pipeline.Stages.ComputationFunctions.MultiContextComputationFunctions.RankOrderComputations.Zscorer object at 0x00000258EB085070>, <pyphoplacecellanalysis.General.Pipeline.Stages.ComputationFunctions.MultiContextComputationFunctions.RankOrderComputations.Zscorer object at 0x00000258EB0851F0>, 0.05449751467778656), 284: (<pyphoplacecellanalysis.General.Pipeline.Stages.ComputationFunctions.MultiContextComputationFunctions.RankOrderComputations.Zscorer object at 0x00000258EB0855B0>, <pyphoplacecellanalysis.General.Pipeline.Stages.ComputationFunctions.MultiContextComputationFunctions.RankOrderComputations.Zscorer object at 0x00000258EB085700>, -0.5377250554222732), 285: (<pyphoplacecellanalysis.General.Pipeline.Stages.ComputationFunctions.MultiContextComputationFunctions.RankOrderComputations.Zscorer object at 0x00000258EB085970>, <pyphoplacecellanalysis.General.Pipeline.Stages.ComputationFunctions.MultiContextComputationFunctions.RankOrderComputations.Zscorer object at 0x00000258EB085B80>, -0.8676294856940299), 286: (<pyphoplacecellanalysis.General.Pipeline.Stages.ComputationFunctions.MultiContextComputationFunctions.RankOrderComputations.Zscorer object at 0x00000258EB085D30>, <pyphoplacecellanalysis.General.Pipeline.Stages.ComputationFunctions.MultiContextComputationFunctions.RankOrderComputations.Zscorer object at 0x00000258EB085EB0>, -1.0780624217986823), 287: (<pyphoplacecellanalysis.General.Pipeline.Stages.ComputationFunctions.MultiContextComputationFunctions.RankOrderComputations.Zscorer object at 0x00000258EB08B2B0>, <pyphoplacecellanalysis.General.Pipeline.Stages.ComputationFunctions.MultiContextComputationFunctions.RankOrderComputations.Zscorer object at 0x00000258EB08B400>, -0.22944358164754242), 288: (<pyphoplacecellanalysis.General.Pipeline.Stages.ComputationFunctions.MultiContextComputationFunctions.RankOrderComputations.Zscorer object at 0x00000258EB08B670>, <pyphoplacecellanalysis.General.Pipeline.Stages.ComputationFunctions.MultiContextComputationFunctions.RankOrderComputations.Zscorer object at 0x00000258EB08B880>, -0.5550582239850217), 289: (<pyphoplacecellanalysis.General.Pipeline.Stages.ComputationFunctions.MultiContextComputationFunctions.RankOrderComputations.Zscorer object at 0x00000258EB08BAF0>, <pyphoplacecellanalysis.General.Pipeline.Stages.ComputationFunctions.MultiContextComputationFunctions.RankOrderComputations.Zscorer object at 0x00000258EB08BC40>, -0.6180574068230553), 290: (<pyphoplacecellanalysis.General.Pipeline.Stages.ComputationFunctions.MultiContextComputationFunctions.RankOrderComputations.Zscorer object at 0x00000258EB090040>, <pyphoplacecellanalysis.General.Pipeline.Stages.ComputationFunctions.MultiContextComputationFunctions.RankOrderComputations.Zscorer object at 0x00000258EB090220>, 0.2673945536838169), 291: (<pyphoplacecellanalysis.General.Pipeline.Stages.ComputationFunctions.MultiContextComputationFunctions.RankOrderComputations.Zscorer object at 0x00000258EB090520>, <pyphoplacecellanalysis.General.Pipeline.Stages.ComputationFunctions.MultiContextComputationFunctions.RankOrderComputations.Zscorer object at 0x00000258EB090850>, -0.12324849448190722), 292: (<pyphoplacecellanalysis.General.Pipeline.Stages.ComputationFunctions.MultiContextComputationFunctions.RankOrderComputations.Zscorer object at 0x00000258EB090B50>, <pyphoplacecellanalysis.General.Pipeline.Stages.ComputationFunctions.MultiContextComputationFunctions.RankOrderComputations.Zscorer object at 0x00000258EB090F70>, 1.180622142783382), 293: (<pyphoplacecellanalysis.General.Pipeline.Stages.ComputationFunctions.MultiContextComputationFunctions.RankOrderComputations.Zscorer object at 0x00000258EB098100>, <pyphoplacecellanalysis.General.Pipeline.Stages.ComputationFunctions.MultiContextComputationFunctions.RankOrderComputations.Zscorer object at 0x00000258EB098520>, 0.5565120649606061), 294: (<pyphoplacecellanalysis.General.Pipeline.Stages.ComputationFunctions.MultiContextComputationFunctions.RankOrderComputations.Zscorer object at 0x00000258EB098850>, <pyphoplacecellanalysis.General.Pipeline.Stages.ComputationFunctions.MultiContextComputationFunctions.RankOrderComputations.Zscorer object at 0x00000258EB098A60>, -1.137090426497316), 295: (<pyphoplacecellanalysis.General.Pipeline.Stages.ComputationFunctions.MultiContextComputationFunctions.RankOrderComputations.Zscorer object at 0x00000258EB098D60>, <pyphoplacecellanalysis.General.Pipeline.Stages.ComputationFunctions.MultiContextComputationFunctions.RankOrderComputations.Zscorer object at 0x00000258EB0A1250>, -0.46986299118789576), 296: (<pyphoplacecellanalysis.General.Pipeline.Stages.ComputationFunctions.MultiContextComputationFunctions.RankOrderComputations.Zscorer object at 0x00000258EB0A1550>, <pyphoplacecellanalysis.General.Pipeline.Stages.ComputationFunctions.MultiContextComputationFunctions.RankOrderComputations.Zscorer object at 0x00000258EB0A17F0>, 0.000536311582583604), 297: (<pyphoplacecellanalysis.General.Pipeline.Stages.ComputationFunctions.MultiContextComputationFunctions.RankOrderComputations.Zscorer object at 0x00000258EB0A1AC0>, <pyphoplacecellanalysis.General.Pipeline.Stages.ComputationFunctions.MultiContextComputationFunctions.RankOrderComputations.Zscorer object at 0x00000258EB0A1EE0>, -0.8242158632217158), 298: (<pyphoplacecellanalysis.General.Pipeline.Stages.ComputationFunctions.MultiContextComputationFunctions.RankOrderComputations.Zscorer object at 0x00000258EB0A8460>, <pyphoplacecellanalysis.General.Pipeline.Stages.ComputationFunctions.MultiContextComputationFunctions.RankOrderComputations.Zscorer object at 0x00000258EB0A8580>, 0.014750230697781697), 299: (<pyphoplacecellanalysis.General.Pipeline.Stages.ComputationFunctions.MultiContextComputationFunctions.RankOrderComputations.Zscorer object at 0x00000258EB0A8700>, <pyphoplacecellanalysis.General.Pipeline.Stages.ComputationFunctions.MultiContextComputationFunctions.RankOrderComputations.Zscorer object at 0x00000258EB0A8850>, 0.8961969981842526), 300: (<pyphoplacecellanalysis.General.Pipeline.Stages.ComputationFunctions.MultiContextComputationFunctions.RankOrderComputations.Zscorer object at 0x00000258EB0A89D0>, <pyphoplacecellanalysis.General.Pipeline.Stages.ComputationFunctions.MultiContextComputationFunctions.RankOrderComputations.Zscorer object at 0x00000258EB0A8B20>, 0.44204227048143974), 301: (<pyphoplacecellanalysis.General.Pipeline.Stages.ComputationFunctions.MultiContextComputationFunctions.RankOrderComputations.Zscorer object at 0x00000258EB0A8CA0>, <pyphoplacecellanalysis.General.Pipeline.Stages.ComputationFunctions.MultiContextComputationFunctions.RankOrderComputations.Zscorer object at 0x00000258EB0A8DF0>, 0.3630543618394816), 302: (<pyphoplacecellanalysis.General.Pipeline.Stages.ComputationFunctions.MultiContextComputationFunctions.RankOrderComputations.Zscorer object at 0x00000258EB0A8F70>, <pyphoplacecellanalysis.General.Pipeline.Stages.ComputationFunctions.MultiContextComputationFunctions.RankOrderComputations.Zscorer object at 0x00000258EB0BD0D0>, -0.2596492345743032), 303: (<pyphoplacecellanalysis.General.Pipeline.Stages.ComputationFunctions.MultiContextComputationFunctions.RankOrderComputations.Zscorer object at 0x00000258EB0BD250>, <pyphoplacecellanalysis.General.Pipeline.Stages.ComputationFunctions.MultiContextComputationFunctions.RankOrderComputations.Zscorer object at 0x00000258EB0BD3A0>, 0.38946954992343186), 304: (<pyphoplacecellanalysis.General.Pipeline.Stages.ComputationFunctions.MultiContextComputationFunctions.RankOrderComputations.Zscorer object at 0x00000258EB0BD520>, <pyphoplacecellanalysis.General.Pipeline.Stages.ComputationFunctions.MultiContextComputationFunctions.RankOrderComputations.Zscorer object at 0x00000258EB0BD670>, -0.7297775624050239), 305: (<pyphoplacecellanalysis.General.Pipeline.Stages.ComputationFunctions.MultiContextComputationFunctions.RankOrderComputations.Zscorer object at 0x00000258EB0BD7F0>, <pyphoplacecellanalysis.General.Pipeline.Stages.ComputationFunctions.MultiContextComputationFunctions.RankOrderComputations.Zscorer object at 0x00000258EB0BD940>, -0.10794973010829072), 306: (<pyphoplacecellanalysis.General.Pipeline.Stages.ComputationFunctions.MultiContextComputationFunctions.RankOrderComputations.Zscorer object at 0x00000258EB0BDAC0>, <pyphoplacecellanalysis.General.Pipeline.Stages.ComputationFunctions.MultiContextComputationFunctions.RankOrderComputations.Zscorer object at 0x00000258EB0BDD00>, -0.3165352854922875), 307: (<pyphoplacecellanalysis.General.Pipeline.Stages.ComputationFunctions.MultiContextComputationFunctions.RankOrderComputations.Zscorer object at 0x0000025910292040>, <pyphoplacecellanalysis.General.Pipeline.Stages.ComputationFunctions.MultiContextComputationFunctions.RankOrderComputations.Zscorer object at 0x0000025910292310>, 1.6247891769439406), 308: (<pyphoplacecellanalysis.General.Pipeline.Stages.ComputationFunctions.MultiContextComputationFunctions.RankOrderComputations.Zscorer object at 0x0000025910292820>, <pyphoplacecellanalysis.General.Pipeline.Stages.ComputationFunctions.MultiContextComputationFunctions.RankOrderComputations.Zscorer object at 0x0000025910292970>, -0.16392369377509142), 309: (<pyphoplacecellanalysis.General.Pipeline.Stages.ComputationFunctions.MultiContextComputationFunctions.RankOrderComputations.Zscorer object at 0x0000025910292AF0>, <pyphoplacecellanalysis.General.Pipeline.Stages.ComputationFunctions.MultiContextComputationFunctions.RankOrderComputations.Zscorer object at 0x0000025910292C40>, 0.9043542606186878), 310: (<pyphoplacecellanalysis.General.Pipeline.Stages.ComputationFunctions.MultiContextComputationFunctions.RankOrderComputations.Zscorer object at 0x0000025910292DC0>, <pyphoplacecellanalysis.General.Pipeline.Stages.ComputationFunctions.MultiContextComputationFunctions.RankOrderComputations.Zscorer object at 0x0000025910292F10>, -1.0640855100344981), 311: (<pyphoplacecellanalysis.General.Pipeline.Stages.ComputationFunctions.MultiContextComputationFunctions.RankOrderComputations.Zscorer object at 0x00000259102B50A0>, <pyphoplacecellanalysis.General.Pipeline.Stages.ComputationFunctions.MultiContextComputationFunctions.RankOrderComputations.Zscorer object at 0x00000259102B5250>, 0.376337705054138), 312: (<pyphoplacecellanalysis.General.Pipeline.Stages.ComputationFunctions.MultiContextComputationFunctions.RankOrderComputations.Zscorer object at 0x00000259102B5640>, <pyphoplacecellanalysis.General.Pipeline.Stages.ComputationFunctions.MultiContextComputationFunctions.RankOrderComputations.Zscorer object at 0x00000259102B59D0>, -0.3710036256555912), 313: (<pyphoplacecellanalysis.General.Pipeline.Stages.ComputationFunctions.MultiContextComputationFunctions.RankOrderComputations.Zscorer object at 0x00000259102B5B20>, <pyphoplacecellanalysis.General.Pipeline.Stages.ComputationFunctions.MultiContextComputationFunctions.RankOrderComputations.Zscorer object at 0x00000259102B5D30>, 0.4740719657880471), 314: (<pyphoplacecellanalysis.General.Pipeline.Stages.ComputationFunctions.MultiContextComputationFunctions.RankOrderComputations.Zscorer object at 0x00000259102BD0D0>, <pyphoplacecellanalysis.General.Pipeline.Stages.ComputationFunctions.MultiContextComputationFunctions.RankOrderComputations.Zscorer object at 0x00000259102BD250>, 1.8028514412196492), 315: (<pyphoplacecellanalysis.General.Pipeline.Stages.ComputationFunctions.MultiContextComputationFunctions.RankOrderComputations.Zscorer object at 0x00000259102BD490>, <pyphoplacecellanalysis.General.Pipeline.Stages.ComputationFunctions.MultiContextComputationFunctions.RankOrderComputations.Zscorer object at 0x00000259102BD640>, 1.3432917311190375), 316: (<pyphoplacecellanalysis.General.Pipeline.Stages.ComputationFunctions.MultiContextComputationFunctions.RankOrderComputations.Zscorer object at 0x00000259102BD820>, <pyphoplacecellanalysis.General.Pipeline.Stages.ComputationFunctions.MultiContextComputationFunctions.RankOrderComputations.Zscorer object at 0x00000259102BDA30>, 0.5860124821801277), 317: (<pyphoplacecellanalysis.General.Pipeline.Stages.ComputationFunctions.MultiContextComputationFunctions.RankOrderComputations.Zscorer object at 0x00000259102BDD90>, <pyphoplacecellanalysis.General.Pipeline.Stages.ComputationFunctions.MultiContextComputationFunctions.RankOrderComputations.Zscorer object at 0x00000259102BDF10>, 1.0928023565308496), 318: (<pyphoplacecellanalysis.General.Pipeline.Stages.ComputationFunctions.MultiContextComputationFunctions.RankOrderComputations.Zscorer object at 0x00000259102C1190>, <pyphoplacecellanalysis.General.Pipeline.Stages.ComputationFunctions.MultiContextComputationFunctions.RankOrderComputations.Zscorer object at 0x00000259102C1340>, 0.2229171067851361), 319: (<pyphoplacecellanalysis.General.Pipeline.Stages.ComputationFunctions.MultiContextComputationFunctions.RankOrderComputations.Zscorer object at 0x00000259102C1610>, <pyphoplacecellanalysis.General.Pipeline.Stages.ComputationFunctions.MultiContextComputationFunctions.RankOrderComputations.Zscorer object at 0x00000259102C1790>, -0.2388660180594595), 320: (<pyphoplacecellanalysis.General.Pipeline.Stages.ComputationFunctions.MultiContextComputationFunctions.RankOrderComputations.Zscorer object at 0x00000259102C1BB0>, <pyphoplacecellanalysis.General.Pipeline.Stages.ComputationFunctions.MultiContextComputationFunctions.RankOrderComputations.Zscorer object at 0x00000259102C1DF0>, -0.5591308621666629), 321: (<pyphoplacecellanalysis.General.Pipeline.Stages.ComputationFunctions.MultiContextComputationFunctions.RankOrderComputations.Zscorer object at 0x00000259102C7130>, <pyphoplacecellanalysis.General.Pipeline.Stages.ComputationFunctions.MultiContextComputationFunctions.RankOrderComputations.Zscorer object at 0x00000259102C7370>, -0.5481744114227632), 322: (<pyphoplacecellanalysis.General.Pipeline.Stages.ComputationFunctions.MultiContextComputationFunctions.RankOrderComputations.Zscorer object at 0x00000259102C7670>, <pyphoplacecellanalysis.General.Pipeline.Stages.ComputationFunctions.MultiContextComputationFunctions.RankOrderComputations.Zscorer object at 0x00000259102C7A30>, 0.2658899706171354), 323: (<pyphoplacecellanalysis.General.Pipeline.Stages.ComputationFunctions.MultiContextComputationFunctions.RankOrderComputations.Zscorer object at 0x00000259102C7D90>, <pyphoplacecellanalysis.General.Pipeline.Stages.ComputationFunctions.MultiContextComputationFunctions.RankOrderComputations.Zscorer object at 0x00000259102C7F70>, -0.49867063704408876), 324: (<pyphoplacecellanalysis.General.Pipeline.Stages.ComputationFunctions.MultiContextComputationFunctions.RankOrderComputations.Zscorer object at 0x00000259102CF250>, <pyphoplacecellanalysis.General.Pipeline.Stages.ComputationFunctions.MultiContextComputationFunctions.RankOrderComputations.Zscorer object at 0x00000259102CF580>, 0.19405839089194443), 325: (<pyphoplacecellanalysis.General.Pipeline.Stages.ComputationFunctions.MultiContextComputationFunctions.RankOrderComputations.Zscorer object at 0x00000259102CF880>, <pyphoplacecellanalysis.General.Pipeline.Stages.ComputationFunctions.MultiContextComputationFunctions.RankOrderComputations.Zscorer object at 0x00000259102CFA90>, -0.18163843141760522), 326: (<pyphoplacecellanalysis.General.Pipeline.Stages.ComputationFunctions.MultiContextComputationFunctions.RankOrderComputations.Zscorer object at 0x00000259102CFD90>, <pyphoplacecellanalysis.General.Pipeline.Stages.ComputationFunctions.MultiContextComputationFunctions.RankOrderComputations.Zscorer object at 0x000002592A1C63D0>, -0.06418453192870241), 327: (<pyphoplacecellanalysis.General.Pipeline.Stages.ComputationFunctions.MultiContextComputationFunctions.RankOrderComputations.Zscorer object at 0x000002592A1C6610>, <pyphoplacecellanalysis.General.Pipeline.Stages.ComputationFunctions.MultiContextComputationFunctions.RankOrderComputations.Zscorer object at 0x000002592A1C6A30>, 0.3801512600668202), 328: (<pyphoplacecellanalysis.General.Pipeline.Stages.ComputationFunctions.MultiContextComputationFunctions.RankOrderComputations.Zscorer object at 0x000002592A1C6C70>, <pyphoplacecellanalysis.General.Pipeline.Stages.ComputationFunctions.MultiContextComputationFunctions.RankOrderComputations.Zscorer object at 0x000002592A1C6EE0>, -0.21917127355413668), 329: (<pyphoplacecellanalysis.General.Pipeline.Stages.ComputationFunctions.MultiContextComputationFunctions.RankOrderComputations.Zscorer object at 0x000002592A1E0190>, <pyphoplacecellanalysis.General.Pipeline.Stages.ComputationFunctions.MultiContextComputationFunctions.RankOrderComputations.Zscorer object at 0x000002592A1E02E0>, -0.37000595984150864), 330: (<pyphoplacecellanalysis.General.Pipeline.Stages.ComputationFunctions.MultiContextComputationFunctions.RankOrderComputations.Zscorer object at 0x000002592A1E0460>, <pyphoplacecellanalysis.General.Pipeline.Stages.ComputationFunctions.MultiContextComputationFunctions.RankOrderComputations.Zscorer object at 0x000002592A1E05B0>, 0.09269830084889019), 331: (<pyphoplacecellanalysis.General.Pipeline.Stages.ComputationFunctions.MultiContextComputationFunctions.RankOrderComputations.Zscorer object at 0x000002592A1E0730>, <pyphoplacecellanalysis.General.Pipeline.Stages.ComputationFunctions.MultiContextComputationFunctions.RankOrderComputations.Zscorer object at 0x000002592A1E08B0>, 0.9291321114397895), 332: (<pyphoplacecellanalysis.General.Pipeline.Stages.ComputationFunctions.MultiContextComputationFunctions.RankOrderComputations.Zscorer object at 0x000002592A1E0BE0>, <pyphoplacecellanalysis.General.Pipeline.Stages.ComputationFunctions.MultiContextComputationFunctions.RankOrderComputations.Zscorer object at 0x000002592A1E0EB0>, -0.011106798402923057), 333: (<pyphoplacecellanalysis.General.Pipeline.Stages.ComputationFunctions.MultiContextComputationFunctions.RankOrderComputations.Zscorer object at 0x000002592A1E64C0>, <pyphoplacecellanalysis.General.Pipeline.Stages.ComputationFunctions.MultiContextComputationFunctions.RankOrderComputations.Zscorer object at 0x000002592A1E65E0>, 0.5063067806826509), 334: (<pyphoplacecellanalysis.General.Pipeline.Stages.ComputationFunctions.MultiContextComputationFunctions.RankOrderComputations.Zscorer object at 0x000002592A1E6760>, <pyphoplacecellanalysis.General.Pipeline.Stages.ComputationFunctions.MultiContextComputationFunctions.RankOrderComputations.Zscorer object at 0x000002592A1E68B0>, 1.122542351367267), 335: (<pyphoplacecellanalysis.General.Pipeline.Stages.ComputationFunctions.MultiContextComputationFunctions.RankOrderComputations.Zscorer object at 0x000002592A1E6A30>, <pyphoplacecellanalysis.General.Pipeline.Stages.ComputationFunctions.MultiContextComputationFunctions.RankOrderComputations.Zscorer object at 0x000002592A1E6B80>, 0.10599595928882799), 336: (<pyphoplacecellanalysis.General.Pipeline.Stages.ComputationFunctions.MultiContextComputationFunctions.RankOrderComputations.Zscorer object at 0x000002592A1E6D00>, <pyphoplacecellanalysis.General.Pipeline.Stages.ComputationFunctions.MultiContextComputationFunctions.RankOrderComputations.Zscorer object at 0x000002592A1E6E50>, -0.8490447779065751), 337: (<pyphoplacecellanalysis.General.Pipeline.Stages.ComputationFunctions.MultiContextComputationFunctions.RankOrderComputations.Zscorer object at 0x000002592A1E6FD0>, <pyphoplacecellanalysis.General.Pipeline.Stages.ComputationFunctions.MultiContextComputationFunctions.RankOrderComputations.Zscorer object at 0x000002592E6A2130>, 0.6347684708412026), 338: (<pyphoplacecellanalysis.General.Pipeline.Stages.ComputationFunctions.MultiContextComputationFunctions.RankOrderComputations.Zscorer object at 0x000002592E6A22B0>, <pyphoplacecellanalysis.General.Pipeline.Stages.ComputationFunctions.MultiContextComputationFunctions.RankOrderComputations.Zscorer object at 0x000002592E6A2460>, 0.4416885122194918), 339: (<pyphoplacecellanalysis.General.Pipeline.Stages.ComputationFunctions.MultiContextComputationFunctions.RankOrderComputations.Zscorer object at 0x000002592E6A2730>, <pyphoplacecellanalysis.General.Pipeline.Stages.ComputationFunctions.MultiContextComputationFunctions.RankOrderComputations.Zscorer object at 0x000002592E6A2A30>, -0.7768862052264628), 340: (<pyphoplacecellanalysis.General.Pipeline.Stages.ComputationFunctions.MultiContextComputationFunctions.RankOrderComputations.Zscorer object at 0x000002592E6A2D00>, <pyphoplacecellanalysis.General.Pipeline.Stages.ComputationFunctions.MultiContextComputationFunctions.RankOrderComputations.Zscorer object at 0x000002592E6A2E80>, 0.29501031986166426), 341: (<pyphoplacecellanalysis.General.Pipeline.Stages.ComputationFunctions.MultiContextComputationFunctions.RankOrderComputations.Zscorer object at 0x000002592E6AB280>, <pyphoplacecellanalysis.General.Pipeline.Stages.ComputationFunctions.MultiContextComputationFunctions.RankOrderComputations.Zscorer object at 0x000002592E6AB3D0>, 0.4081717039358349), 342: (<pyphoplacecellanalysis.General.Pipeline.Stages.ComputationFunctions.MultiContextComputationFunctions.RankOrderComputations.Zscorer object at 0x000002592E6AB640>, <pyphoplacecellanalysis.General.Pipeline.Stages.ComputationFunctions.MultiContextComputationFunctions.RankOrderComputations.Zscorer object at 0x000002592E6AB850>, 1.147374920715835), 343: (<pyphoplacecellanalysis.General.Pipeline.Stages.ComputationFunctions.MultiContextComputationFunctions.RankOrderComputations.Zscorer object at 0x000002592E6ABA00>, <pyphoplacecellanalysis.General.Pipeline.Stages.ComputationFunctions.MultiContextComputationFunctions.RankOrderComputations.Zscorer object at 0x000002592E6ABB80>, -0.09066630573863255), 344: (<pyphoplacecellanalysis.General.Pipeline.Stages.ComputationFunctions.MultiContextComputationFunctions.RankOrderComputations.Zscorer object at 0x000002592E6ABF40>, <pyphoplacecellanalysis.General.Pipeline.Stages.ComputationFunctions.MultiContextComputationFunctions.RankOrderComputations.Zscorer object at 0x000002592E6B10D0>, -1.4271476410100292), 345: (<pyphoplacecellanalysis.General.Pipeline.Stages.ComputationFunctions.MultiContextComputationFunctions.RankOrderComputations.Zscorer object at 0x000002592E6B1340>, <pyphoplacecellanalysis.General.Pipeline.Stages.ComputationFunctions.MultiContextComputationFunctions.RankOrderComputations.Zscorer object at 0x000002592E6B1550>, -0.0484732830249035), 346: (<pyphoplacecellanalysis.General.Pipeline.Stages.ComputationFunctions.MultiContextComputationFunctions.RankOrderComputations.Zscorer object at 0x000002592E6B17C0>, <pyphoplacecellanalysis.General.Pipeline.Stages.ComputationFunctions.MultiContextComputationFunctions.RankOrderComputations.Zscorer object at 0x000002592E6B1910>, -0.1305411157209535), 347: (<pyphoplacecellanalysis.General.Pipeline.Stages.ComputationFunctions.MultiContextComputationFunctions.RankOrderComputations.Zscorer object at 0x000002592E6B1DC0>, <pyphoplacecellanalysis.General.Pipeline.Stages.ComputationFunctions.MultiContextComputationFunctions.RankOrderComputations.Zscorer object at 0x000002592E6B5070>, -0.07558782262635078), 348: (<pyphoplacecellanalysis.General.Pipeline.Stages.ComputationFunctions.MultiContextComputationFunctions.RankOrderComputations.Zscorer object at 0x000002592E6B51F0>, <pyphoplacecellanalysis.General.Pipeline.Stages.ComputationFunctions.MultiContextComputationFunctions.RankOrderComputations.Zscorer object at 0x000002592E6B5520>, 0.8139758506593536), 349: (<pyphoplacecellanalysis.General.Pipeline.Stages.ComputationFunctions.MultiContextComputationFunctions.RankOrderComputations.Zscorer object at 0x000002592E6B5820>, <pyphoplacecellanalysis.General.Pipeline.Stages.ComputationFunctions.MultiContextComputationFunctions.RankOrderComputations.Zscorer object at 0x000002592E6B5C40>, 0.7446591119351739), 350: (<pyphoplacecellanalysis.General.Pipeline.Stages.ComputationFunctions.MultiContextComputationFunctions.RankOrderComputations.Zscorer object at 0x000002592E6B5D90>, <pyphoplacecellanalysis.General.Pipeline.Stages.ComputationFunctions.MultiContextComputationFunctions.RankOrderComputations.Zscorer object at 0x000002592E6BE1F0>, 1.5394790255481912), 351: (<pyphoplacecellanalysis.General.Pipeline.Stages.ComputationFunctions.MultiContextComputationFunctions.RankOrderComputations.Zscorer object at 0x000002592E6BE520>, <pyphoplacecellanalysis.General.Pipeline.Stages.ComputationFunctions.MultiContextComputationFunctions.RankOrderComputations.Zscorer object at 0x000002592E6BE730>, -0.5839831944795012), 352: (<pyphoplacecellanalysis.General.Pipeline.Stages.ComputationFunctions.MultiContextComputationFunctions.RankOrderComputations.Zscorer object at 0x000002592E6BEA30>, <pyphoplacecellanalysis.General.Pipeline.Stages.ComputationFunctions.MultiContextComputationFunctions.RankOrderComputations.Zscorer object at 0x000002592E6BEEE0>, 0.5391986787336815), 353: (<pyphoplacecellanalysis.General.Pipeline.Stages.ComputationFunctions.MultiContextComputationFunctions.RankOrderComputations.Zscorer object at 0x000002592E6C6220>, <pyphoplacecellanalysis.General.Pipeline.Stages.ComputationFunctions.MultiContextComputationFunctions.RankOrderComputations.Zscorer object at 0x000002592E6C64C0>, -0.34627546648012386), 354: (<pyphoplacecellanalysis.General.Pipeline.Stages.ComputationFunctions.MultiContextComputationFunctions.RankOrderComputations.Zscorer object at 0x000002592E6C6760>, <pyphoplacecellanalysis.General.Pipeline.Stages.ComputationFunctions.MultiContextComputationFunctions.RankOrderComputations.Zscorer object at 0x000002592E6C6C40>, 0.0), 355: (<pyphoplacecellanalysis.General.Pipeline.Stages.ComputationFunctions.MultiContextComputationFunctions.RankOrderComputations.Zscorer object at 0x000002592E6CD100>, <pyphoplacecellanalysis.General.Pipeline.Stages.ComputationFunctions.MultiContextComputationFunctions.RankOrderComputations.Zscorer object at 0x000002592E6CD250>, -0.2100160094870161), 356: (<pyphoplacecellanalysis.General.Pipeline.Stages.ComputationFunctions.MultiContextComputationFunctions.RankOrderComputations.Zscorer object at 0x000002592E6CD3D0>, <pyphoplacecellanalysis.General.Pipeline.Stages.ComputationFunctions.MultiContextComputationFunctions.RankOrderComputations.Zscorer object at 0x000002592E6CD520>, -0.3773531297135762), 357: (<pyphoplacecellanalysis.General.Pipeline.Stages.ComputationFunctions.MultiContextComputationFunctions.RankOrderComputations.Zscorer object at 0x000002592E6CD6A0>, <pyphoplacecellanalysis.General.Pipeline.Stages.ComputationFunctions.MultiContextComputationFunctions.RankOrderComputations.Zscorer object at 0x000002592E6CD7F0>, 0.2022275069264321), 358: (<pyphoplacecellanalysis.General.Pipeline.Stages.ComputationFunctions.MultiContextComputationFunctions.RankOrderComputations.Zscorer object at 0x000002592E6CD970>, <pyphoplacecellanalysis.General.Pipeline.Stages.ComputationFunctions.MultiContextComputationFunctions.RankOrderComputations.Zscorer object at 0x000002592E6CDAC0>, 0.7226707898119948), 359: (<pyphoplacecellanalysis.General.Pipeline.Stages.ComputationFunctions.MultiContextComputationFunctions.RankOrderComputations.Zscorer object at 0x000002592E6CDC40>, <pyphoplacecellanalysis.General.Pipeline.Stages.ComputationFunctions.MultiContextComputationFunctions.RankOrderComputations.Zscorer object at 0x000002592E6CDD90>, 0.020839662317274854), 360: (<pyphoplacecellanalysis.General.Pipeline.Stages.ComputationFunctions.MultiContextComputationFunctions.RankOrderComputations.Zscorer object at 0x000002592E6CDF10>, <pyphoplacecellanalysis.General.Pipeline.Stages.ComputationFunctions.MultiContextComputationFunctions.RankOrderComputations.Zscorer object at 0x000002596EF50070>, 0.32365730618134103), 361: (<pyphoplacecellanalysis.General.Pipeline.Stages.ComputationFunctions.MultiContextComputationFunctions.RankOrderComputations.Zscorer object at 0x000002596EF501F0>, <pyphoplacecellanalysis.General.Pipeline.Stages.ComputationFunctions.MultiContextComputationFunctions.RankOrderComputations.Zscorer object at 0x000002596EF50340>, -0.4751371394271242), 362: (<pyphoplacecellanalysis.General.Pipeline.Stages.ComputationFunctions.MultiContextComputationFunctions.RankOrderComputations.Zscorer object at 0x000002596EF504C0>, <pyphoplacecellanalysis.General.Pipeline.Stages.ComputationFunctions.MultiContextComputationFunctions.RankOrderComputations.Zscorer object at 0x000002596EF50610>, -1.3265933676486408), 363: (<pyphoplacecellanalysis.General.Pipeline.Stages.ComputationFunctions.MultiContextComputationFunctions.RankOrderComputations.Zscorer object at 0x000002596EF50790>, <pyphoplacecellanalysis.General.Pipeline.Stages.ComputationFunctions.MultiContextComputationFunctions.RankOrderComputations.Zscorer object at 0x000002596EF508E0>, -0.3831813175799318), 364: (<pyphoplacecellanalysis.General.Pipeline.Stages.ComputationFunctions.MultiContextComputationFunctions.RankOrderComputations.Zscorer object at 0x000002596EF50A60>, <pyphoplacecellanalysis.General.Pipeline.Stages.ComputationFunctions.MultiContextComputationFunctions.RankOrderComputations.Zscorer object at 0x000002596EF50BB0>, -0.5875817555183421), 365: (<pyphoplacecellanalysis.General.Pipeline.Stages.ComputationFunctions.MultiContextComputationFunctions.RankOrderComputations.Zscorer object at 0x000002596EF50D90>, <pyphoplacecellanalysis.General.Pipeline.Stages.ComputationFunctions.MultiContextComputationFunctions.RankOrderComputations.Zscorer object at 0x000002596EF550A0>, -0.08978153566265978), 366: (<pyphoplacecellanalysis.General.Pipeline.Stages.ComputationFunctions.MultiContextComputationFunctions.RankOrderComputations.Zscorer object at 0x000002596EF55220>, <pyphoplacecellanalysis.General.Pipeline.Stages.ComputationFunctions.MultiContextComputationFunctions.RankOrderComputations.Zscorer object at 0x000002596EF55940>, 0.2157365003096201), 367: (<pyphoplacecellanalysis.General.Pipeline.Stages.ComputationFunctions.MultiContextComputationFunctions.RankOrderComputations.Zscorer object at 0x000002596EF55A90>, <pyphoplacecellanalysis.General.Pipeline.Stages.ComputationFunctions.MultiContextComputationFunctions.RankOrderComputations.Zscorer object at 0x000002596EF55BE0>, 0.2269619897071955), 368: (<pyphoplacecellanalysis.General.Pipeline.Stages.ComputationFunctions.MultiContextComputationFunctions.RankOrderComputations.Zscorer object at 0x000002596EF55D60>, <pyphoplacecellanalysis.General.Pipeline.Stages.ComputationFunctions.MultiContextComputationFunctions.RankOrderComputations.Zscorer object at 0x000002596EF55EB0>, -0.6739286327740013), 369: (<pyphoplacecellanalysis.General.Pipeline.Stages.ComputationFunctions.MultiContextComputationFunctions.RankOrderComputations.Zscorer object at 0x000002596EF79040>, <pyphoplacecellanalysis.General.Pipeline.Stages.ComputationFunctions.MultiContextComputationFunctions.RankOrderComputations.Zscorer object at 0x000002596EF79190>, 2.0035145146479674), 370: (<pyphoplacecellanalysis.General.Pipeline.Stages.ComputationFunctions.MultiContextComputationFunctions.RankOrderComputations.Zscorer object at 0x000002596EF79310>, <pyphoplacecellanalysis.General.Pipeline.Stages.ComputationFunctions.MultiContextComputationFunctions.RankOrderComputations.Zscorer object at 0x000002596EF79490>, -0.6042843649836956), 371: (<pyphoplacecellanalysis.General.Pipeline.Stages.ComputationFunctions.MultiContextComputationFunctions.RankOrderComputations.Zscorer object at 0x000002596EF79790>, <pyphoplacecellanalysis.General.Pipeline.Stages.ComputationFunctions.MultiContextComputationFunctions.RankOrderComputations.Zscorer object at 0x000002596EF79A90>, 0.22223380382930036), 372: (<pyphoplacecellanalysis.General.Pipeline.Stages.ComputationFunctions.MultiContextComputationFunctions.RankOrderComputations.Zscorer object at 0x000002596EF79D60>, <pyphoplacecellanalysis.General.Pipeline.Stages.ComputationFunctions.MultiContextComputationFunctions.RankOrderComputations.Zscorer object at 0x000002596EF79EE0>, 0.000656714435818273), 373: (<pyphoplacecellanalysis.General.Pipeline.Stages.ComputationFunctions.MultiContextComputationFunctions.RankOrderComputations.Zscorer object at 0x000002596EF801C0>, <pyphoplacecellanalysis.General.Pipeline.Stages.ComputationFunctions.MultiContextComputationFunctions.RankOrderComputations.Zscorer object at 0x000002596EF804F0>, -0.6049554717085601), 374: (<pyphoplacecellanalysis.General.Pipeline.Stages.ComputationFunctions.MultiContextComputationFunctions.RankOrderComputations.Zscorer object at 0x000002596EF806A0>, <pyphoplacecellanalysis.General.Pipeline.Stages.ComputationFunctions.MultiContextComputationFunctions.RankOrderComputations.Zscorer object at 0x000002596EF80850>, 0.35802795239977897), 375: (<pyphoplacecellanalysis.General.Pipeline.Stages.ComputationFunctions.MultiContextComputationFunctions.RankOrderComputations.Zscorer object at 0x000002596EF80A60>, <pyphoplacecellanalysis.General.Pipeline.Stages.ComputationFunctions.MultiContextComputationFunctions.RankOrderComputations.Zscorer object at 0x000002596EF80BE0>, -0.6327188760479614), 376: (<pyphoplacecellanalysis.General.Pipeline.Stages.ComputationFunctions.MultiContextComputationFunctions.RankOrderComputations.Zscorer object at 0x000002596EF80E80>, <pyphoplacecellanalysis.General.Pipeline.Stages.ComputationFunctions.MultiContextComputationFunctions.RankOrderComputations.Zscorer object at 0x000002596EF871F0>, 0.0998603884154754), 377: (<pyphoplacecellanalysis.General.Pipeline.Stages.ComputationFunctions.MultiContextComputationFunctions.RankOrderComputations.Zscorer object at 0x000002596EF873A0>, <pyphoplacecellanalysis.General.Pipeline.Stages.ComputationFunctions.MultiContextComputationFunctions.RankOrderComputations.Zscorer object at 0x000002596EF87550>, -0.5252291249812019), 378: (<pyphoplacecellanalysis.General.Pipeline.Stages.ComputationFunctions.MultiContextComputationFunctions.RankOrderComputations.Zscorer object at 0x000002596EF87820>, <pyphoplacecellanalysis.General.Pipeline.Stages.ComputationFunctions.MultiContextComputationFunctions.RankOrderComputations.Zscorer object at 0x000002596EF87A30>, 0.10270469841759455), 379: (<pyphoplacecellanalysis.General.Pipeline.Stages.ComputationFunctions.MultiContextComputationFunctions.RankOrderComputations.Zscorer object at 0x000002596EF87D60>, <pyphoplacecellanalysis.General.Pipeline.Stages.ComputationFunctions.MultiContextComputationFunctions.RankOrderComputations.Zscorer object at 0x000002596EF8D100>, 0.025219775659997445), 380: (<pyphoplacecellanalysis.General.Pipeline.Stages.ComputationFunctions.MultiContextComputationFunctions.RankOrderComputations.Zscorer object at 0x000002596EF8D2B0>, <pyphoplacecellanalysis.General.Pipeline.Stages.ComputationFunctions.MultiContextComputationFunctions.RankOrderComputations.Zscorer object at 0x000002596EF8D760>, -0.36253119693591307), 381: (<pyphoplacecellanalysis.General.Pipeline.Stages.ComputationFunctions.MultiContextComputationFunctions.RankOrderComputations.Zscorer object at 0x000002596EF8DA60>, <pyphoplacecellanalysis.General.Pipeline.Stages.ComputationFunctions.MultiContextComputationFunctions.RankOrderComputations.Zscorer object at 0x000002596EF8DBB0>, -0.23527885535390142), 382: (<pyphoplacecellanalysis.General.Pipeline.Stages.ComputationFunctions.MultiContextComputationFunctions.RankOrderComputations.Zscorer object at 0x000002596EF8DE80>, <pyphoplacecellanalysis.General.Pipeline.Stages.ComputationFunctions.MultiContextComputationFunctions.RankOrderComputations.Zscorer object at 0x00000259956431C0>, 0.3362091628398998), 383: (<pyphoplacecellanalysis.General.Pipeline.Stages.ComputationFunctions.MultiContextComputationFunctions.RankOrderComputations.Zscorer object at 0x00000259956434F0>, <pyphoplacecellanalysis.General.Pipeline.Stages.ComputationFunctions.MultiContextComputationFunctions.RankOrderComputations.Zscorer object at 0x0000025995643970>, -0.29046431448700777), 384: (<pyphoplacecellanalysis.General.Pipeline.Stages.ComputationFunctions.MultiContextComputationFunctions.RankOrderComputations.Zscorer object at 0x0000025995643C70>, <pyphoplacecellanalysis.General.Pipeline.Stages.ComputationFunctions.MultiContextComputationFunctions.RankOrderComputations.Zscorer object at 0x0000025995643F10>, -0.03436967429876514), 385: (<pyphoplacecellanalysis.General.Pipeline.Stages.ComputationFunctions.MultiContextComputationFunctions.RankOrderComputations.Zscorer object at 0x000002599564A250>, <pyphoplacecellanalysis.General.Pipeline.Stages.ComputationFunctions.MultiContextComputationFunctions.RankOrderComputations.Zscorer object at 0x000002599564A280>, 0.29764465258706835), 386: (<pyphoplacecellanalysis.General.Pipeline.Stages.ComputationFunctions.MultiContextComputationFunctions.RankOrderComputations.Zscorer object at 0x000002599564A820>, <pyphoplacecellanalysis.General.Pipeline.Stages.ComputationFunctions.MultiContextComputationFunctions.RankOrderComputations.Zscorer object at 0x000002599564AD30>, 0.21345042898027267), 387: (<pyphoplacecellanalysis.General.Pipeline.Stages.ComputationFunctions.MultiContextComputationFunctions.RankOrderComputations.Zscorer object at 0x0000025995652100>, <pyphoplacecellanalysis.General.Pipeline.Stages.ComputationFunctions.MultiContextComputationFunctions.RankOrderComputations.Zscorer object at 0x00000259956522B0>, -0.10830521665826276), 388: (<pyphoplacecellanalysis.General.Pipeline.Stages.ComputationFunctions.MultiContextComputationFunctions.RankOrderComputations.Zscorer object at 0x0000025995652430>, <pyphoplacecellanalysis.General.Pipeline.Stages.ComputationFunctions.MultiContextComputationFunctions.RankOrderComputations.Zscorer object at 0x0000025995652580>, 0.06956354784080543), 389: (<pyphoplacecellanalysis.General.Pipeline.Stages.ComputationFunctions.MultiContextComputationFunctions.RankOrderComputations.Zscorer object at 0x0000025995652700>, <pyphoplacecellanalysis.General.Pipeline.Stages.ComputationFunctions.MultiContextComputationFunctions.RankOrderComputations.Zscorer object at 0x0000025995652850>, 0.619588580450301), 390: (<pyphoplacecellanalysis.General.Pipeline.Stages.ComputationFunctions.MultiContextComputationFunctions.RankOrderComputations.Zscorer object at 0x00000259956529D0>, <pyphoplacecellanalysis.General.Pipeline.Stages.ComputationFunctions.MultiContextComputationFunctions.RankOrderComputations.Zscorer object at 0x0000025995652B20>, -0.011198055246729309), 391: (<pyphoplacecellanalysis.General.Pipeline.Stages.ComputationFunctions.MultiContextComputationFunctions.RankOrderComputations.Zscorer object at 0x0000025995652CA0>, <pyphoplacecellanalysis.General.Pipeline.Stages.ComputationFunctions.MultiContextComputationFunctions.RankOrderComputations.Zscorer object at 0x0000025995652DF0>, -0.3248951794937305), 392: (<pyphoplacecellanalysis.General.Pipeline.Stages.ComputationFunctions.MultiContextComputationFunctions.RankOrderComputations.Zscorer object at 0x0000025995652F70>, <pyphoplacecellanalysis.General.Pipeline.Stages.ComputationFunctions.MultiContextComputationFunctions.RankOrderComputations.Zscorer object at 0x000002599565D4F0>, 0.08865621472283935), 393: (<pyphoplacecellanalysis.General.Pipeline.Stages.ComputationFunctions.MultiContextComputationFunctions.RankOrderComputations.Zscorer object at 0x000002599565D0A0>, <pyphoplacecellanalysis.General.Pipeline.Stages.ComputationFunctions.MultiContextComputationFunctions.RankOrderComputations.Zscorer object at 0x000002599566AB80>, -0.060558738733299755), 394: (<pyphoplacecellanalysis.General.Pipeline.Stages.ComputationFunctions.MultiContextComputationFunctions.RankOrderComputations.Zscorer object at 0x000002599566AD00>, <pyphoplacecellanalysis.General.Pipeline.Stages.ComputationFunctions.MultiContextComputationFunctions.RankOrderComputations.Zscorer object at 0x000002599566AE50>, -0.16206728287918004), 395: (<pyphoplacecellanalysis.General.Pipeline.Stages.ComputationFunctions.MultiContextComputationFunctions.RankOrderComputations.Zscorer object at 0x000002599566AFD0>, <pyphoplacecellanalysis.General.Pipeline.Stages.ComputationFunctions.MultiContextComputationFunctions.RankOrderComputations.Zscorer object at 0x0000025995671160>, 0.1414715377114752), 396: (<pyphoplacecellanalysis.General.Pipeline.Stages.ComputationFunctions.MultiContextComputationFunctions.RankOrderComputations.Zscorer object at 0x00000259956712E0>, <pyphoplacecellanalysis.General.Pipeline.Stages.ComputationFunctions.MultiContextComputationFunctions.RankOrderComputations.Zscorer object at 0x0000025995671430>, 0.399731666343357), 397: (<pyphoplacecellanalysis.General.Pipeline.Stages.ComputationFunctions.MultiContextComputationFunctions.RankOrderComputations.Zscorer object at 0x00000259956715B0>, <pyphoplacecellanalysis.General.Pipeline.Stages.ComputationFunctions.MultiContextComputationFunctions.RankOrderComputations.Zscorer object at 0x0000025995671700>, 0.24549090024308795), 398: (<pyphoplacecellanalysis.General.Pipeline.Stages.ComputationFunctions.MultiContextComputationFunctions.RankOrderComputations.Zscorer object at 0x0000025995671880>, <pyphoplacecellanalysis.General.Pipeline.Stages.ComputationFunctions.MultiContextComputationFunctions.RankOrderComputations.Zscorer object at 0x00000259956719D0>, 1.360314655997051), 399: (<pyphoplacecellanalysis.General.Pipeline.Stages.ComputationFunctions.MultiContextComputationFunctions.RankOrderComputations.Zscorer object at 0x0000025997A2D100>, <pyphoplacecellanalysis.General.Pipeline.Stages.ComputationFunctions.MultiContextComputationFunctions.RankOrderComputations.Zscorer object at 0x0000025997A31190>, -0.094809708484755), 400: (<pyphoplacecellanalysis.General.Pipeline.Stages.ComputationFunctions.MultiContextComputationFunctions.RankOrderComputations.Zscorer object at 0x0000025997A31BB0>, <pyphoplacecellanalysis.General.Pipeline.Stages.ComputationFunctions.MultiContextComputationFunctions.RankOrderComputations.Zscorer object at 0x0000025997A38190>, 0.18662795460060258), 401: (<pyphoplacecellanalysis.General.Pipeline.Stages.ComputationFunctions.MultiContextComputationFunctions.RankOrderComputations.Zscorer object at 0x0000025997A38FA0>, <pyphoplacecellanalysis.General.Pipeline.Stages.ComputationFunctions.MultiContextComputationFunctions.RankOrderComputations.Zscorer object at 0x0000025997A3E730>, -0.037076563726983536), 402: (<pyphoplacecellanalysis.General.Pipeline.Stages.ComputationFunctions.MultiContextComputationFunctions.RankOrderComputations.Zscorer object at 0x0000025997A472E0>, <pyphoplacecellanalysis.General.Pipeline.Stages.ComputationFunctions.MultiContextComputationFunctions.RankOrderComputations.Zscorer object at 0x0000025997A47430>, 0.31179235862412524), 403: (<pyphoplacecellanalysis.General.Pipeline.Stages.ComputationFunctions.MultiContextComputationFunctions.RankOrderComputations.Zscorer object at 0x0000025997A475B0>, <pyphoplacecellanalysis.General.Pipeline.Stages.ComputationFunctions.MultiContextComputationFunctions.RankOrderComputations.Zscorer object at 0x0000025997A47700>, 0.4928287288818822), 404: (<pyphoplacecellanalysis.General.Pipeline.Stages.ComputationFunctions.MultiContextComputationFunctions.RankOrderComputations.Zscorer object at 0x0000025997A47880>, <pyphoplacecellanalysis.General.Pipeline.Stages.ComputationFunctions.MultiContextComputationFunctions.RankOrderComputations.Zscorer object at 0x0000025997A479D0>, -0.11903356164000511), 405: (<pyphoplacecellanalysis.General.Pipeline.Stages.ComputationFunctions.MultiContextComputationFunctions.RankOrderComputations.Zscorer object at 0x0000025997A47B50>, <pyphoplacecellanalysis.General.Pipeline.Stages.ComputationFunctions.MultiContextComputationFunctions.RankOrderComputations.Zscorer object at 0x0000025997A47CA0>, -0.407465401202292), 406: (<pyphoplacecellanalysis.General.Pipeline.Stages.ComputationFunctions.MultiContextComputationFunctions.RankOrderComputations.Zscorer object at 0x0000025997A47E20>, <pyphoplacecellanalysis.General.Pipeline.Stages.ComputationFunctions.MultiContextComputationFunctions.RankOrderComputations.Zscorer object at 0x0000025997A47F70>, 1.4238631941984425), 407: (<pyphoplacecellanalysis.General.Pipeline.Stages.ComputationFunctions.MultiContextComputationFunctions.RankOrderComputations.Zscorer object at 0x0000025997A4A130>, <pyphoplacecellanalysis.General.Pipeline.Stages.ComputationFunctions.MultiContextComputationFunctions.RankOrderComputations.Zscorer object at 0x00000259B457EEE0>, -0.5607366966958813), 408: (<pyphoplacecellanalysis.General.Pipeline.Stages.ComputationFunctions.MultiContextComputationFunctions.RankOrderComputations.Zscorer object at 0x00000259B45850A0>, <pyphoplacecellanalysis.General.Pipeline.Stages.ComputationFunctions.MultiContextComputationFunctions.RankOrderComputations.Zscorer object at 0x00000259B45851F0>, -0.5800461988609171), 409: (<pyphoplacecellanalysis.General.Pipeline.Stages.ComputationFunctions.MultiContextComputationFunctions.RankOrderComputations.Zscorer object at 0x00000259B4585370>, <pyphoplacecellanalysis.General.Pipeline.Stages.ComputationFunctions.MultiContextComputationFunctions.RankOrderComputations.Zscorer object at 0x00000259B45854C0>, -0.5423349212127166), 410: (<pyphoplacecellanalysis.General.Pipeline.Stages.ComputationFunctions.MultiContextComputationFunctions.RankOrderComputations.Zscorer object at 0x00000259B4585640>, <pyphoplacecellanalysis.General.Pipeline.Stages.ComputationFunctions.MultiContextComputationFunctions.RankOrderComputations.Zscorer object at 0x00000259B4585790>, -0.987506510493076), 411: (<pyphoplacecellanalysis.General.Pipeline.Stages.ComputationFunctions.MultiContextComputationFunctions.RankOrderComputations.Zscorer object at 0x00000259B4585910>, <pyphoplacecellanalysis.General.Pipeline.Stages.ComputationFunctions.MultiContextComputationFunctions.RankOrderComputations.Zscorer object at 0x00000259B4585A60>, -0.4057975742214034), 412: (<pyphoplacecellanalysis.General.Pipeline.Stages.ComputationFunctions.MultiContextComputationFunctions.RankOrderComputations.Zscorer object at 0x00000259B4585BE0>, <pyphoplacecellanalysis.General.Pipeline.Stages.ComputationFunctions.MultiContextComputationFunctions.RankOrderComputations.Zscorer object at 0x00000259B4585D30>, -0.23103715575061878), 413: (<pyphoplacecellanalysis.General.Pipeline.Stages.ComputationFunctions.MultiContextComputationFunctions.RankOrderComputations.Zscorer object at 0x00000259B45A5D60>, <pyphoplacecellanalysis.General.Pipeline.Stages.ComputationFunctions.MultiContextComputationFunctions.RankOrderComputations.Zscorer object at 0x00000259C13A42E0>, -0.642194903672771), 414: (<pyphoplacecellanalysis.General.Pipeline.Stages.ComputationFunctions.MultiContextComputationFunctions.RankOrderComputations.Zscorer object at 0x00000259C13AB310>, <pyphoplacecellanalysis.General.Pipeline.Stages.ComputationFunctions.MultiContextComputationFunctions.RankOrderComputations.Zscorer object at 0x00000259C13AB5E0>, 0.46177201075618046), 415: (<pyphoplacecellanalysis.General.Pipeline.Stages.ComputationFunctions.MultiContextComputationFunctions.RankOrderComputations.Zscorer object at 0x00000259C13B3520>, <pyphoplacecellanalysis.General.Pipeline.Stages.ComputationFunctions.MultiContextComputationFunctions.RankOrderComputations.Zscorer object at 0x00000259C13B3DC0>, 0.31525349346451176), 416: (<pyphoplacecellanalysis.General.Pipeline.Stages.ComputationFunctions.MultiContextComputationFunctions.RankOrderComputations.Zscorer object at 0x00000256E2953460>, <pyphoplacecellanalysis.General.Pipeline.Stages.ComputationFunctions.MultiContextComputationFunctions.RankOrderComputations.Zscorer object at 0x00000256E2953760>, 0.003021314355761362), 417: (<pyphoplacecellanalysis.General.Pipeline.Stages.ComputationFunctions.MultiContextComputationFunctions.RankOrderComputations.Zscorer object at 0x00000256E29531F0>, <pyphoplacecellanalysis.General.Pipeline.Stages.ComputationFunctions.MultiContextComputationFunctions.RankOrderComputations.Zscorer object at 0x00000256E2953A60>, 0.2829463229442344), 418: (<pyphoplacecellanalysis.General.Pipeline.Stages.ComputationFunctions.MultiContextComputationFunctions.RankOrderComputations.Zscorer object at 0x00000259F87CB610>, <pyphoplacecellanalysis.General.Pipeline.Stages.ComputationFunctions.MultiContextComputationFunctions.RankOrderComputations.Zscorer object at 0x00000259F87CB400>, 0.3314650299906141), 419: (<pyphoplacecellanalysis.General.Pipeline.Stages.ComputationFunctions.MultiContextComputationFunctions.RankOrderComputations.Zscorer object at 0x00000259F87CB0D0>, <pyphoplacecellanalysis.General.Pipeline.Stages.ComputationFunctions.MultiContextComputationFunctions.RankOrderComputations.Zscorer object at 0x00000259F87CB2E0>, 0.8687286748991667), 420: (<pyphoplacecellanalysis.General.Pipeline.Stages.ComputationFunctions.MultiContextComputationFunctions.RankOrderComputations.Zscorer object at 0x00000259F87CB790>, <pyphoplacecellanalysis.General.Pipeline.Stages.ComputationFunctions.MultiContextComputationFunctions.RankOrderComputations.Zscorer object at 0x00000259F87CB970>, 0.21450014590548028), 421: (<pyphoplacecellanalysis.General.Pipeline.Stages.ComputationFunctions.MultiContextComputationFunctions.RankOrderComputations.Zscorer object at 0x00000259F87CBAF0>, <pyphoplacecellanalysis.General.Pipeline.Stages.ComputationFunctions.MultiContextComputationFunctions.RankOrderComputations.Zscorer object at 0x00000259F87CBC40>, -0.012894235532727505), 422: (<pyphoplacecellanalysis.General.Pipeline.Stages.ComputationFunctions.MultiContextComputationFunctions.RankOrderComputations.Zscorer object at 0x00000259F87CBDC0>, <pyphoplacecellanalysis.General.Pipeline.Stages.ComputationFunctions.MultiContextComputationFunctions.RankOrderComputations.Zscorer object at 0x00000259F87CBF10>, 0.43897200129827585), 423: (<pyphoplacecellanalysis.General.Pipeline.Stages.ComputationFunctions.MultiContextComputationFunctions.RankOrderComputations.Zscorer object at 0x00000256D1C020D0>, <pyphoplacecellanalysis.General.Pipeline.Stages.ComputationFunctions.MultiContextComputationFunctions.RankOrderComputations.Zscorer object at 0x00000256D1C02220>, 0.17266823442723633), 424: (<pyphoplacecellanalysis.General.Pipeline.Stages.ComputationFunctions.MultiContextComputationFunctions.RankOrderComputations.Zscorer object at 0x00000256D1C023A0>, <pyphoplacecellanalysis.General.Pipeline.Stages.ComputationFunctions.MultiContextComputationFunctions.RankOrderComputations.Zscorer object at 0x00000256D1C024F0>, -0.26611454323853645), 425: (<pyphoplacecellanalysis.General.Pipeline.Stages.ComputationFunctions.MultiContextComputationFunctions.RankOrderComputations.Zscorer object at 0x00000256D1C02670>, <pyphoplacecellanalysis.General.Pipeline.Stages.ComputationFunctions.MultiContextComputationFunctions.RankOrderComputations.Zscorer object at 0x00000256D1C027C0>, -0.9952304733608285), 426: (<pyphoplacecellanalysis.General.Pipeline.Stages.ComputationFunctions.MultiContextComputationFunctions.RankOrderComputations.Zscorer object at 0x00000256D1C02940>, <pyphoplacecellanalysis.General.Pipeline.Stages.ComputationFunctions.MultiContextComputationFunctions.RankOrderComputations.Zscorer object at 0x00000256D1C02A90>, 0.3105273750882843), 427: (<pyphoplacecellanalysis.General.Pipeline.Stages.ComputationFunctions.MultiContextComputationFunctions.RankOrderComputations.Zscorer object at 0x00000256D1C02C10>, <pyphoplacecellanalysis.General.Pipeline.Stages.ComputationFunctions.MultiContextComputationFunctions.RankOrderComputations.Zscorer object at 0x00000256D1C02D60>, 0.41918033240782), 428: (<pyphoplacecellanalysis.General.Pipeline.Stages.ComputationFunctions.MultiContextComputationFunctions.RankOrderComputations.Zscorer object at 0x00000256D1C02EE0>, <pyphoplacecellanalysis.General.Pipeline.Stages.ComputationFunctions.MultiContextComputationFunctions.RankOrderComputations.Zscorer object at 0x00000256D1C08070>, 0.0639557487180793), 429: (<pyphoplacecellanalysis.General.Pipeline.Stages.ComputationFunctions.MultiContextComputationFunctions.RankOrderComputations.Zscorer object at 0x00000256D1C081F0>, <pyphoplacecellanalysis.General.Pipeline.Stages.ComputationFunctions.MultiContextComputationFunctions.RankOrderComputations.Zscorer object at 0x00000256D1C08340>, 0.2964193817510674), 430: (<pyphoplacecellanalysis.General.Pipeline.Stages.ComputationFunctions.MultiContextComputationFunctions.RankOrderComputations.Zscorer object at 0x00000256D1C084C0>, <pyphoplacecellanalysis.General.Pipeline.Stages.ComputationFunctions.MultiContextComputationFunctions.RankOrderComputations.Zscorer object at 0x00000256D1C08610>, 0.7534536259763753), 431: (<pyphoplacecellanalysis.General.Pipeline.Stages.ComputationFunctions.MultiContextComputationFunctions.RankOrderComputations.Zscorer object at 0x00000256D1C08790>, <pyphoplacecellanalysis.General.Pipeline.Stages.ComputationFunctions.MultiContextComputationFunctions.RankOrderComputations.Zscorer object at 0x00000256D1C088E0>, -0.9790905377399309), 432: (<pyphoplacecellanalysis.General.Pipeline.Stages.ComputationFunctions.MultiContextComputationFunctions.RankOrderComputations.Zscorer object at 0x00000256D1C08A60>, <pyphoplacecellanalysis.General.Pipeline.Stages.ComputationFunctions.MultiContextComputationFunctions.RankOrderComputations.Zscorer object at 0x00000256D1C08BB0>, 0.19618357559022653), 433: (<pyphoplacecellanalysis.General.Pipeline.Stages.ComputationFunctions.MultiContextComputationFunctions.RankOrderComputations.Zscorer object at 0x00000256D1C08D30>, <pyphoplacecellanalysis.General.Pipeline.Stages.ComputationFunctions.MultiContextComputationFunctions.RankOrderComputations.Zscorer object at 0x00000256D1C08E80>, 1.2818477088465476), 434: (<pyphoplacecellanalysis.General.Pipeline.Stages.ComputationFunctions.MultiContextComputationFunctions.RankOrderComputations.Zscorer object at 0x00000256D1C0D040>, <pyphoplacecellanalysis.General.Pipeline.Stages.ComputationFunctions.MultiContextComputationFunctions.RankOrderComputations.Zscorer object at 0x00000256D1C0D190>, 0.7553402000478646), 435: (<pyphoplacecellanalysis.General.Pipeline.Stages.ComputationFunctions.MultiContextComputationFunctions.RankOrderComputations.Zscorer object at 0x00000256D1C0D310>, <pyphoplacecellanalysis.General.Pipeline.Stages.ComputationFunctions.MultiContextComputationFunctions.RankOrderComputations.Zscorer object at 0x00000256D1C0D460>, -0.7633735766214601), 436: (<pyphoplacecellanalysis.General.Pipeline.Stages.ComputationFunctions.MultiContextComputationFunctions.RankOrderComputations.Zscorer object at 0x00000256D1C0D5E0>, <pyphoplacecellanalysis.General.Pipeline.Stages.ComputationFunctions.MultiContextComputationFunctions.RankOrderComputations.Zscorer object at 0x00000256D1C0D730>, -0.0897124947094069), 437: (<pyphoplacecellanalysis.General.Pipeline.Stages.ComputationFunctions.MultiContextComputationFunctions.RankOrderComputations.Zscorer object at 0x00000256D1C0D8B0>, <pyphoplacecellanalysis.General.Pipeline.Stages.ComputationFunctions.MultiContextComputationFunctions.RankOrderComputations.Zscorer object at 0x00000256D1C0DA00>, 0.027696895919842146), 438: (<pyphoplacecellanalysis.General.Pipeline.Stages.ComputationFunctions.MultiContextComputationFunctions.RankOrderComputations.Zscorer object at 0x00000256D1C0DB80>, <pyphoplacecellanalysis.General.Pipeline.Stages.ComputationFunctions.MultiContextComputationFunctions.RankOrderComputations.Zscorer object at 0x00000256D1C0DCD0>, -0.7171932889147917), 439: (<pyphoplacecellanalysis.General.Pipeline.Stages.ComputationFunctions.MultiContextComputationFunctions.RankOrderComputations.Zscorer object at 0x00000256D1C0DE50>, <pyphoplacecellanalysis.General.Pipeline.Stages.ComputationFunctions.MultiContextComputationFunctions.RankOrderComputations.Zscorer object at 0x00000256D1C0DFA0>, 0.2061562446309374), 440: (<pyphoplacecellanalysis.General.Pipeline.Stages.ComputationFunctions.MultiContextComputationFunctions.RankOrderComputations.Zscorer object at 0x00000256D1C13160>, <pyphoplacecellanalysis.General.Pipeline.Stages.ComputationFunctions.MultiContextComputationFunctions.RankOrderComputations.Zscorer object at 0x00000256D1C132B0>, 0.27595593263164775), 441: (<pyphoplacecellanalysis.General.Pipeline.Stages.ComputationFunctions.MultiContextComputationFunctions.RankOrderComputations.Zscorer object at 0x00000256D1C13430>, <pyphoplacecellanalysis.General.Pipeline.Stages.ComputationFunctions.MultiContextComputationFunctions.RankOrderComputations.Zscorer object at 0x00000256D1C13580>, -0.26129494221334926), 442: (<pyphoplacecellanalysis.General.Pipeline.Stages.ComputationFunctions.MultiContextComputationFunctions.RankOrderComputations.Zscorer object at 0x00000256D1C13700>, <pyphoplacecellanalysis.General.Pipeline.Stages.ComputationFunctions.MultiContextComputationFunctions.RankOrderComputations.Zscorer object at 0x00000256D1C13850>, -0.5051273115263841), 443: (<pyphoplacecellanalysis.General.Pipeline.Stages.ComputationFunctions.MultiContextComputationFunctions.RankOrderComputations.Zscorer object at 0x00000256D1C139D0>, <pyphoplacecellanalysis.General.Pipeline.Stages.ComputationFunctions.MultiContextComputationFunctions.RankOrderComputations.Zscorer object at 0x00000256D1C13B20>, -0.2641204799737005), 444: (<pyphoplacecellanalysis.General.Pipeline.Stages.ComputationFunctions.MultiContextComputationFunctions.RankOrderComputations.Zscorer object at 0x00000256D1C13CA0>, <pyphoplacecellanalysis.General.Pipeline.Stages.ComputationFunctions.MultiContextComputationFunctions.RankOrderComputations.Zscorer object at 0x00000256D1C13DF0>, 0.24246469549247107), 445: (<pyphoplacecellanalysis.General.Pipeline.Stages.ComputationFunctions.MultiContextComputationFunctions.RankOrderComputations.Zscorer object at 0x00000256D1C13F70>, <pyphoplacecellanalysis.General.Pipeline.Stages.ComputationFunctions.MultiContextComputationFunctions.RankOrderComputations.Zscorer object at 0x00000256D1C17100>, -0.6912027896553194), 446: (<pyphoplacecellanalysis.General.Pipeline.Stages.ComputationFunctions.MultiContextComputationFunctions.RankOrderComputations.Zscorer object at 0x00000256D1C17280>, <pyphoplacecellanalysis.General.Pipeline.Stages.ComputationFunctions.MultiContextComputationFunctions.RankOrderComputations.Zscorer object at 0x00000256D1C173D0>, -1.157248180690181), 447: (<pyphoplacecellanalysis.General.Pipeline.Stages.ComputationFunctions.MultiContextComputationFunctions.RankOrderComputations.Zscorer object at 0x00000256D1C17550>, <pyphoplacecellanalysis.General.Pipeline.Stages.ComputationFunctions.MultiContextComputationFunctions.RankOrderComputations.Zscorer object at 0x00000256D1C176A0>, -0.33931231602131584), 448: (<pyphoplacecellanalysis.General.Pipeline.Stages.ComputationFunctions.MultiContextComputationFunctions.RankOrderComputations.Zscorer object at 0x00000256D1C17820>, <pyphoplacecellanalysis.General.Pipeline.Stages.ComputationFunctions.MultiContextComputationFunctions.RankOrderComputations.Zscorer object at 0x00000256D1C17970>, 0.959698610474425), 449: (<pyphoplacecellanalysis.General.Pipeline.Stages.ComputationFunctions.MultiContextComputationFunctions.RankOrderComputations.Zscorer object at 0x00000256D1C17AF0>, <pyphoplacecellanalysis.General.Pipeline.Stages.ComputationFunctions.MultiContextComputationFunctions.RankOrderComputations.Zscorer object at 0x00000256D1C17C40>, -0.7399296196666217), 450: (<pyphoplacecellanalysis.General.Pipeline.Stages.ComputationFunctions.MultiContextComputationFunctions.RankOrderComputations.Zscorer object at 0x00000256D1C17DC0>, <pyphoplacecellanalysis.General.Pipeline.Stages.ComputationFunctions.MultiContextComputationFunctions.RankOrderComputations.Zscorer object at 0x00000256D1C17F10>, 0.397712158053257), 451: (<pyphoplacecellanalysis.General.Pipeline.Stages.ComputationFunctions.MultiContextComputationFunctions.RankOrderComputations.Zscorer object at 0x00000256D1C1C0D0>, <pyphoplacecellanalysis.General.Pipeline.Stages.ComputationFunctions.MultiContextComputationFunctions.RankOrderComputations.Zscorer object at 0x00000256D1C1C220>, -0.6449282939399952), 452: (<pyphoplacecellanalysis.General.Pipeline.Stages.ComputationFunctions.MultiContextComputationFunctions.RankOrderComputations.Zscorer object at 0x00000256D1C1C3A0>, <pyphoplacecellanalysis.General.Pipeline.Stages.ComputationFunctions.MultiContextComputationFunctions.RankOrderComputations.Zscorer object at 0x00000256D1C1C4F0>, 0.10307953418481242), 453: (<pyphoplacecellanalysis.General.Pipeline.Stages.ComputationFunctions.MultiContextComputationFunctions.RankOrderComputations.Zscorer object at 0x00000256D1C1C670>, <pyphoplacecellanalysis.General.Pipeline.Stages.ComputationFunctions.MultiContextComputationFunctions.RankOrderComputations.Zscorer object at 0x00000256D1C1C7C0>, 0.12407055092878361), 454: (<pyphoplacecellanalysis.General.Pipeline.Stages.ComputationFunctions.MultiContextComputationFunctions.RankOrderComputations.Zscorer object at 0x00000256D1C1C940>, <pyphoplacecellanalysis.General.Pipeline.Stages.ComputationFunctions.MultiContextComputationFunctions.RankOrderComputations.Zscorer object at 0x00000256D1C1CA90>, 0.4440237053294369), 455: (<pyphoplacecellanalysis.General.Pipeline.Stages.ComputationFunctions.MultiContextComputationFunctions.RankOrderComputations.Zscorer object at 0x00000256D1C1CC10>, <pyphoplacecellanalysis.General.Pipeline.Stages.ComputationFunctions.MultiContextComputationFunctions.RankOrderComputations.Zscorer object at 0x00000256D1C1CD60>, -0.006747609522139042), 456: (<pyphoplacecellanalysis.General.Pipeline.Stages.ComputationFunctions.MultiContextComputationFunctions.RankOrderComputations.Zscorer object at 0x00000256D1C1CEE0>, <pyphoplacecellanalysis.General.Pipeline.Stages.ComputationFunctions.MultiContextComputationFunctions.RankOrderComputations.Zscorer object at 0x00000256D1C22070>, -0.5156605271729288), 457: (<pyphoplacecellanalysis.General.Pipeline.Stages.ComputationFunctions.MultiContextComputationFunctions.RankOrderComputations.Zscorer object at 0x00000256D1C221F0>, <pyphoplacecellanalysis.General.Pipeline.Stages.ComputationFunctions.MultiContextComputationFunctions.RankOrderComputations.Zscorer object at 0x00000256D1C22340>, -0.8248409872230595), 458: (<pyphoplacecellanalysis.General.Pipeline.Stages.ComputationFunctions.MultiContextComputationFunctions.RankOrderComputations.Zscorer object at 0x00000256D1C224C0>, <pyphoplacecellanalysis.General.Pipeline.Stages.ComputationFunctions.MultiContextComputationFunctions.RankOrderComputations.Zscorer object at 0x00000256D1C22610>, -0.8034174281227233), 459: (<pyphoplacecellanalysis.General.Pipeline.Stages.ComputationFunctions.MultiContextComputationFunctions.RankOrderComputations.Zscorer object at 0x00000256D1C22790>, <pyphoplacecellanalysis.General.Pipeline.Stages.ComputationFunctions.MultiContextComputationFunctions.RankOrderComputations.Zscorer object at 0x00000256D1C228E0>, 0.22535285815003592), 460: (<pyphoplacecellanalysis.General.Pipeline.Stages.ComputationFunctions.MultiContextComputationFunctions.RankOrderComputations.Zscorer object at 0x00000256D1C22A60>, <pyphoplacecellanalysis.General.Pipeline.Stages.ComputationFunctions.MultiContextComputationFunctions.RankOrderComputations.Zscorer object at 0x00000256D1C22BB0>, 0.20264751216088683), 461: (<pyphoplacecellanalysis.General.Pipeline.Stages.ComputationFunctions.MultiContextComputationFunctions.RankOrderComputations.Zscorer object at 0x00000256D1C22D30>, <pyphoplacecellanalysis.General.Pipeline.Stages.ComputationFunctions.MultiContextComputationFunctions.RankOrderComputations.Zscorer object at 0x00000256D1C22E80>, -0.8802478590483334), 462: (<pyphoplacecellanalysis.General.Pipeline.Stages.ComputationFunctions.MultiContextComputationFunctions.RankOrderComputations.Zscorer object at 0x00000256D1C27040>, <pyphoplacecellanalysis.General.Pipeline.Stages.ComputationFunctions.MultiContextComputationFunctions.RankOrderComputations.Zscorer object at 0x00000256D1C27190>, -1.1092806583337234), 463: (<pyphoplacecellanalysis.General.Pipeline.Stages.ComputationFunctions.MultiContextComputationFunctions.RankOrderComputations.Zscorer object at 0x00000256D1C27310>, <pyphoplacecellanalysis.General.Pipeline.Stages.ComputationFunctions.MultiContextComputationFunctions.RankOrderComputations.Zscorer object at 0x00000256D1C27460>, 1.2156724345014729), 464: (<pyphoplacecellanalysis.General.Pipeline.Stages.ComputationFunctions.MultiContextComputationFunctions.RankOrderComputations.Zscorer object at 0x00000256D1C275E0>, <pyphoplacecellanalysis.General.Pipeline.Stages.ComputationFunctions.MultiContextComputationFunctions.RankOrderComputations.Zscorer object at 0x00000256D1C27730>, -0.2664133274770738), 465: (<pyphoplacecellanalysis.General.Pipeline.Stages.ComputationFunctions.MultiContextComputationFunctions.RankOrderComputations.Zscorer object at 0x00000256D1C278B0>, <pyphoplacecellanalysis.General.Pipeline.Stages.ComputationFunctions.MultiContextComputationFunctions.RankOrderComputations.Zscorer object at 0x00000256D1C27A00>, 0.13803921077610337), 466: (<pyphoplacecellanalysis.General.Pipeline.Stages.ComputationFunctions.MultiContextComputationFunctions.RankOrderComputations.Zscorer object at 0x00000256D1C27B80>, <pyphoplacecellanalysis.General.Pipeline.Stages.ComputationFunctions.MultiContextComputationFunctions.RankOrderComputations.Zscorer object at 0x00000256D1C27CD0>, 0.0), 467: (<pyphoplacecellanalysis.General.Pipeline.Stages.ComputationFunctions.MultiContextComputationFunctions.RankOrderComputations.Zscorer object at 0x00000256D1C27E50>, <pyphoplacecellanalysis.General.Pipeline.Stages.ComputationFunctions.MultiContextComputationFunctions.RankOrderComputations.Zscorer object at 0x00000256D1C27FA0>, 0.0004685969176945193), 468: (<pyphoplacecellanalysis.General.Pipeline.Stages.ComputationFunctions.MultiContextComputationFunctions.RankOrderComputations.Zscorer object at 0x00000256D1C2C160>, <pyphoplacecellanalysis.General.Pipeline.Stages.ComputationFunctions.MultiContextComputationFunctions.RankOrderComputations.Zscorer object at 0x00000256D1C2C2B0>, 0.26833463238076605), 469: (<pyphoplacecellanalysis.General.Pipeline.Stages.ComputationFunctions.MultiContextComputationFunctions.RankOrderComputations.Zscorer object at 0x00000256D1C2C430>, <pyphoplacecellanalysis.General.Pipeline.Stages.ComputationFunctions.MultiContextComputationFunctions.RankOrderComputations.Zscorer object at 0x00000256D1C2C580>, -0.039695250801983356), 470: (<pyphoplacecellanalysis.General.Pipeline.Stages.ComputationFunctions.MultiContextComputationFunctions.RankOrderComputations.Zscorer object at 0x00000256D1C2C700>, <pyphoplacecellanalysis.General.Pipeline.Stages.ComputationFunctions.MultiContextComputationFunctions.RankOrderComputations.Zscorer object at 0x00000256D1C2C850>, -1.3166893332140488), 471: (<pyphoplacecellanalysis.General.Pipeline.Stages.ComputationFunctions.MultiContextComputationFunctions.RankOrderComputations.Zscorer object at 0x00000256D1C2C9D0>, <pyphoplacecellanalysis.General.Pipeline.Stages.ComputationFunctions.MultiContextComputationFunctions.RankOrderComputations.Zscorer object at 0x00000256D1C2CB20>, -0.19251382488298185), 472: (<pyphoplacecellanalysis.General.Pipeline.Stages.ComputationFunctions.MultiContextComputationFunctions.RankOrderComputations.Zscorer object at 0x00000256D1C2CCA0>, <pyphoplacecellanalysis.General.Pipeline.Stages.ComputationFunctions.MultiContextComputationFunctions.RankOrderComputations.Zscorer object at 0x00000256D1C2CDF0>, 0.38047712641569836), 473: (<pyphoplacecellanalysis.General.Pipeline.Stages.ComputationFunctions.MultiContextComputationFunctions.RankOrderComputations.Zscorer object at 0x00000256D1C2CF70>, <pyphoplacecellanalysis.General.Pipeline.Stages.ComputationFunctions.MultiContextComputationFunctions.RankOrderComputations.Zscorer object at 0x00000256D1C31100>, 0.6676336389853827), 474: (<pyphoplacecellanalysis.General.Pipeline.Stages.ComputationFunctions.MultiContextComputationFunctions.RankOrderComputations.Zscorer object at 0x00000256D1C31280>, <pyphoplacecellanalysis.General.Pipeline.Stages.ComputationFunctions.MultiContextComputationFunctions.RankOrderComputations.Zscorer object at 0x00000256D1C313D0>, 0.22569094599897788), 475: (<pyphoplacecellanalysis.General.Pipeline.Stages.ComputationFunctions.MultiContextComputationFunctions.RankOrderComputations.Zscorer object at 0x00000256D1C31550>, <pyphoplacecellanalysis.General.Pipeline.Stages.ComputationFunctions.MultiContextComputationFunctions.RankOrderComputations.Zscorer object at 0x00000256D1C316A0>, 1.5901374621457096), 476: (<pyphoplacecellanalysis.General.Pipeline.Stages.ComputationFunctions.MultiContextComputationFunctions.RankOrderComputations.Zscorer object at 0x00000256D1C31820>, <pyphoplacecellanalysis.General.Pipeline.Stages.ComputationFunctions.MultiContextComputationFunctions.RankOrderComputations.Zscorer object at 0x00000256D1C31970>, -0.775366600902614), 477: (<pyphoplacecellanalysis.General.Pipeline.Stages.ComputationFunctions.MultiContextComputationFunctions.RankOrderComputations.Zscorer object at 0x00000256D1C31AF0>, <pyphoplacecellanalysis.General.Pipeline.Stages.ComputationFunctions.MultiContextComputationFunctions.RankOrderComputations.Zscorer object at 0x00000256D1C31C40>, -0.48676795455646327), 478: (<pyphoplacecellanalysis.General.Pipeline.Stages.ComputationFunctions.MultiContextComputationFunctions.RankOrderComputations.Zscorer object at 0x00000256D1C31DC0>, <pyphoplacecellanalysis.General.Pipeline.Stages.ComputationFunctions.MultiContextComputationFunctions.RankOrderComputations.Zscorer object at 0x00000256D1C31F10>, -0.5237589651278503), 479: (<pyphoplacecellanalysis.General.Pipeline.Stages.ComputationFunctions.MultiContextComputationFunctions.RankOrderComputations.Zscorer object at 0x00000256D1C360D0>, <pyphoplacecellanalysis.General.Pipeline.Stages.ComputationFunctions.MultiContextComputationFunctions.RankOrderComputations.Zscorer object at 0x00000256D1C36220>, 0.24727279976409924), 480: (<pyphoplacecellanalysis.General.Pipeline.Stages.ComputationFunctions.MultiContextComputationFunctions.RankOrderComputations.Zscorer object at 0x00000256D1C363A0>, <pyphoplacecellanalysis.General.Pipeline.Stages.ComputationFunctions.MultiContextComputationFunctions.RankOrderComputations.Zscorer object at 0x00000256D1C364F0>, 0.9242805427167189), 481: (<pyphoplacecellanalysis.General.Pipeline.Stages.ComputationFunctions.MultiContextComputationFunctions.RankOrderComputations.Zscorer object at 0x00000256D1C36670>, <pyphoplacecellanalysis.General.Pipeline.Stages.ComputationFunctions.MultiContextComputationFunctions.RankOrderComputations.Zscorer object at 0x00000256D1C367C0>, 0.32160730727067177), 482: (<pyphoplacecellanalysis.General.Pipeline.Stages.ComputationFunctions.MultiContextComputationFunctions.RankOrderComputations.Zscorer object at 0x00000256D1C36940>, <pyphoplacecellanalysis.General.Pipeline.Stages.ComputationFunctions.MultiContextComputationFunctions.RankOrderComputations.Zscorer object at 0x00000256D1C36A90>, 0.8325661840214473), 483: (<pyphoplacecellanalysis.General.Pipeline.Stages.ComputationFunctions.MultiContextComputationFunctions.RankOrderComputations.Zscorer object at 0x00000256D1C36C10>, <pyphoplacecellanalysis.General.Pipeline.Stages.ComputationFunctions.MultiContextComputationFunctions.RankOrderComputations.Zscorer object at 0x00000256D1C36D60>, 0.5841323538503802), 484: (<pyphoplacecellanalysis.General.Pipeline.Stages.ComputationFunctions.MultiContextComputationFunctions.RankOrderComputations.Zscorer object at 0x00000256D1C36EE0>, <pyphoplacecellanalysis.General.Pipeline.Stages.ComputationFunctions.MultiContextComputationFunctions.RankOrderComputations.Zscorer object at 0x00000256D1C3B070>, -0.6753272905701136), 485: (<pyphoplacecellanalysis.General.Pipeline.Stages.ComputationFunctions.MultiContextComputationFunctions.RankOrderComputations.Zscorer object at 0x00000256D1C3B1F0>, <pyphoplacecellanalysis.General.Pipeline.Stages.ComputationFunctions.MultiContextComputationFunctions.RankOrderComputations.Zscorer object at 0x00000256D1C3B340>, 0.5938658330792764), 486: (<pyphoplacecellanalysis.General.Pipeline.Stages.ComputationFunctions.MultiContextComputationFunctions.RankOrderComputations.Zscorer object at 0x00000256D1C3B4C0>, <pyphoplacecellanalysis.General.Pipeline.Stages.ComputationFunctions.MultiContextComputationFunctions.RankOrderComputations.Zscorer object at 0x00000256D1C3B610>, -0.9881818494664353), 487: (<pyphoplacecellanalysis.General.Pipeline.Stages.ComputationFunctions.MultiContextComputationFunctions.RankOrderComputations.Zscorer object at 0x00000256D1C3B790>, <pyphoplacecellanalysis.General.Pipeline.Stages.ComputationFunctions.MultiContextComputationFunctions.RankOrderComputations.Zscorer object at 0x00000256D1C3B8E0>, -0.37993234340112614), 488: (<pyphoplacecellanalysis.General.Pipeline.Stages.ComputationFunctions.MultiContextComputationFunctions.RankOrderComputations.Zscorer object at 0x00000256D1C3BA60>, <pyphoplacecellanalysis.General.Pipeline.Stages.ComputationFunctions.MultiContextComputationFunctions.RankOrderComputations.Zscorer object at 0x00000256D1C3BBB0>, 0.6128185817378582), 489: (<pyphoplacecellanalysis.General.Pipeline.Stages.ComputationFunctions.MultiContextComputationFunctions.RankOrderComputations.Zscorer object at 0x00000256D1C3BD30>, <pyphoplacecellanalysis.General.Pipeline.Stages.ComputationFunctions.MultiContextComputationFunctions.RankOrderComputations.Zscorer object at 0x00000256D1C3BE80>, -0.747458513018898), 490: (<pyphoplacecellanalysis.General.Pipeline.Stages.ComputationFunctions.MultiContextComputationFunctions.RankOrderComputations.Zscorer object at 0x00000256D1C40040>, <pyphoplacecellanalysis.General.Pipeline.Stages.ComputationFunctions.MultiContextComputationFunctions.RankOrderComputations.Zscorer object at 0x00000256D1C40190>, 0.6614397431004018), 491: (<pyphoplacecellanalysis.General.Pipeline.Stages.ComputationFunctions.MultiContextComputationFunctions.RankOrderComputations.Zscorer object at 0x00000256D1C40310>, <pyphoplacecellanalysis.General.Pipeline.Stages.ComputationFunctions.MultiContextComputationFunctions.RankOrderComputations.Zscorer object at 0x00000256D1C40460>, -0.29701513996836365), 492: (<pyphoplacecellanalysis.General.Pipeline.Stages.ComputationFunctions.MultiContextComputationFunctions.RankOrderComputations.Zscorer object at 0x00000256D1C405E0>, <pyphoplacecellanalysis.General.Pipeline.Stages.ComputationFunctions.MultiContextComputationFunctions.RankOrderComputations.Zscorer object at 0x00000256D1C40730>, -0.29253487499862346), 493: (<pyphoplacecellanalysis.General.Pipeline.Stages.ComputationFunctions.MultiContextComputationFunctions.RankOrderComputations.Zscorer object at 0x00000256D1C408B0>, <pyphoplacecellanalysis.General.Pipeline.Stages.ComputationFunctions.MultiContextComputationFunctions.RankOrderComputations.Zscorer object at 0x00000256D1C40A00>, -0.037893091202036044), 494: (<pyphoplacecellanalysis.General.Pipeline.Stages.ComputationFunctions.MultiContextComputationFunctions.RankOrderComputations.Zscorer object at 0x00000256D1C40B80>, <pyphoplacecellanalysis.General.Pipeline.Stages.ComputationFunctions.MultiContextComputationFunctions.RankOrderComputations.Zscorer object at 0x00000256D1C40CD0>, 0.4623795883298891), 495: (<pyphoplacecellanalysis.General.Pipeline.Stages.ComputationFunctions.MultiContextComputationFunctions.RankOrderComputations.Zscorer object at 0x00000256D1C40E50>, <pyphoplacecellanalysis.General.Pipeline.Stages.ComputationFunctions.MultiContextComputationFunctions.RankOrderComputations.Zscorer object at 0x00000256D1C40FA0>, 0.23391746905796573), 496: (<pyphoplacecellanalysis.General.Pipeline.Stages.ComputationFunctions.MultiContextComputationFunctions.RankOrderComputations.Zscorer object at 0x00000256D1C46160>, <pyphoplacecellanalysis.General.Pipeline.Stages.ComputationFunctions.MultiContextComputationFunctions.RankOrderComputations.Zscorer object at 0x00000256D1C462B0>, -0.887869139289884), 497: (<pyphoplacecellanalysis.General.Pipeline.Stages.ComputationFunctions.MultiContextComputationFunctions.RankOrderComputations.Zscorer object at 0x00000256D1C46430>, <pyphoplacecellanalysis.General.Pipeline.Stages.ComputationFunctions.MultiContextComputationFunctions.RankOrderComputations.Zscorer object at 0x00000256D1C46580>, 0.6529487079875378), 498: (<pyphoplacecellanalysis.General.Pipeline.Stages.ComputationFunctions.MultiContextComputationFunctions.RankOrderComputations.Zscorer object at 0x00000256D1C46700>, <pyphoplacecellanalysis.General.Pipeline.Stages.ComputationFunctions.MultiContextComputationFunctions.RankOrderComputations.Zscorer object at 0x00000256D1C46850>, 0.2686882429561268), 499: (<pyphoplacecellanalysis.General.Pipeline.Stages.ComputationFunctions.MultiContextComputationFunctions.RankOrderComputations.Zscorer object at 0x00000256D1C469D0>, <pyphoplacecellanalysis.General.Pipeline.Stages.ComputationFunctions.MultiContextComputationFunctions.RankOrderComputations.Zscorer object at 0x00000256D1C46B20>, 0.40736433544117645), 500: (<pyphoplacecellanalysis.General.Pipeline.Stages.ComputationFunctions.MultiContextComputationFunctions.RankOrderComputations.Zscorer object at 0x00000256D1C46CA0>, <pyphoplacecellanalysis.General.Pipeline.Stages.ComputationFunctions.MultiContextComputationFunctions.RankOrderComputations.Zscorer object at 0x00000256D1C46DF0>, -0.19018855070116247), 501: (<pyphoplacecellanalysis.General.Pipeline.Stages.ComputationFunctions.MultiContextComputationFunctions.RankOrderComputations.Zscorer object at 0x00000256D1C46F70>, <pyphoplacecellanalysis.General.Pipeline.Stages.ComputationFunctions.MultiContextComputationFunctions.RankOrderComputations.Zscorer object at 0x00000256D1C4B100>, 0.26022632076467955), 502: (<pyphoplacecellanalysis.General.Pipeline.Stages.ComputationFunctions.MultiContextComputationFunctions.RankOrderComputations.Zscorer object at 0x00000256D1C4B280>, <pyphoplacecellanalysis.General.Pipeline.Stages.ComputationFunctions.MultiContextComputationFunctions.RankOrderComputations.Zscorer object at 0x00000256D1C4B3D0>, 1.9754174412761931), 503: (<pyphoplacecellanalysis.General.Pipeline.Stages.ComputationFunctions.MultiContextComputationFunctions.RankOrderComputations.Zscorer object at 0x00000256D1C4B550>, <pyphoplacecellanalysis.General.Pipeline.Stages.ComputationFunctions.MultiContextComputationFunctions.RankOrderComputations.Zscorer object at 0x00000256D1C4B6A0>, 0.04369795381973274), 504: (<pyphoplacecellanalysis.General.Pipeline.Stages.ComputationFunctions.MultiContextComputationFunctions.RankOrderComputations.Zscorer object at 0x00000256D1C4B820>, <pyphoplacecellanalysis.General.Pipeline.Stages.ComputationFunctions.MultiContextComputationFunctions.RankOrderComputations.Zscorer object at 0x00000256D1C4B970>, -0.44523250362348854), 505: (<pyphoplacecellanalysis.General.Pipeline.Stages.ComputationFunctions.MultiContextComputationFunctions.RankOrderComputations.Zscorer object at 0x00000256D1C4BAF0>, <pyphoplacecellanalysis.General.Pipeline.Stages.ComputationFunctions.MultiContextComputationFunctions.RankOrderComputations.Zscorer object at 0x00000256D1C4BC40>, -0.15379415061550072), 506: (<pyphoplacecellanalysis.General.Pipeline.Stages.ComputationFunctions.MultiContextComputationFunctions.RankOrderComputations.Zscorer object at 0x00000256D1C4BDC0>, <pyphoplacecellanalysis.General.Pipeline.Stages.ComputationFunctions.MultiContextComputationFunctions.RankOrderComputations.Zscorer object at 0x00000256D1C4BF10>, 0.11877765190215145), 507: (<pyphoplacecellanalysis.General.Pipeline.Stages.ComputationFunctions.MultiContextComputationFunctions.RankOrderComputations.Zscorer object at 0x00000256D1C500D0>, <pyphoplacecellanalysis.General.Pipeline.Stages.ComputationFunctions.MultiContextComputationFunctions.RankOrderComputations.Zscorer object at 0x00000256D1C50220>, 0.18638073490708718), 508: (<pyphoplacecellanalysis.General.Pipeline.Stages.ComputationFunctions.MultiContextComputationFunctions.RankOrderComputations.Zscorer object at 0x00000256D1C503A0>, <pyphoplacecellanalysis.General.Pipeline.Stages.ComputationFunctions.MultiContextComputationFunctions.RankOrderComputations.Zscorer object at 0x00000256D1C504F0>, -0.551873838181853), 509: (<pyphoplacecellanalysis.General.Pipeline.Stages.ComputationFunctions.MultiContextComputationFunctions.RankOrderComputations.Zscorer object at 0x00000256D1C50670>, <pyphoplacecellanalysis.General.Pipeline.Stages.ComputationFunctions.MultiContextComputationFunctions.RankOrderComputations.Zscorer object at 0x00000256D1C507C0>, -0.6065555380589531), 510: (<pyphoplacecellanalysis.General.Pipeline.Stages.ComputationFunctions.MultiContextComputationFunctions.RankOrderComputations.Zscorer object at 0x00000256D1C50940>, <pyphoplacecellanalysis.General.Pipeline.Stages.ComputationFunctions.MultiContextComputationFunctions.RankOrderComputations.Zscorer object at 0x00000256D1C50A90>, -0.16258227781657764), 511: (<pyphoplacecellanalysis.General.Pipeline.Stages.ComputationFunctions.MultiContextComputationFunctions.RankOrderComputations.Zscorer object at 0x00000256D1C50C10>, <pyphoplacecellanalysis.General.Pipeline.Stages.ComputationFunctions.MultiContextComputationFunctions.RankOrderComputations.Zscorer object at 0x00000256D1C50D60>, -0.03851828526617229), 512: (<pyphoplacecellanalysis.General.Pipeline.Stages.ComputationFunctions.MultiContextComputationFunctions.RankOrderComputations.Zscorer object at 0x00000256D1C50EE0>, <pyphoplacecellanalysis.General.Pipeline.Stages.ComputationFunctions.MultiContextComputationFunctions.RankOrderComputations.Zscorer object at 0x00000256D1C55070>, -0.02392323332772639), 513: (<pyphoplacecellanalysis.General.Pipeline.Stages.ComputationFunctions.MultiContextComputationFunctions.RankOrderComputations.Zscorer object at 0x00000256D1C551F0>, <pyphoplacecellanalysis.General.Pipeline.Stages.ComputationFunctions.MultiContextComputationFunctions.RankOrderComputations.Zscorer object at 0x00000256D1C55340>, 0.032727414223554616), 514: (<pyphoplacecellanalysis.General.Pipeline.Stages.ComputationFunctions.MultiContextComputationFunctions.RankOrderComputations.Zscorer object at 0x00000256D1C554C0>, <pyphoplacecellanalysis.General.Pipeline.Stages.ComputationFunctions.MultiContextComputationFunctions.RankOrderComputations.Zscorer object at 0x00000256D1C55610>, -1.06797282426079), 515: (<pyphoplacecellanalysis.General.Pipeline.Stages.ComputationFunctions.MultiContextComputationFunctions.RankOrderComputations.Zscorer object at 0x00000256D1C55790>, <pyphoplacecellanalysis.General.Pipeline.Stages.ComputationFunctions.MultiContextComputationFunctions.RankOrderComputations.Zscorer object at 0x00000256D1C558E0>, -0.1770798703147154), 516: (<pyphoplacecellanalysis.General.Pipeline.Stages.ComputationFunctions.MultiContextComputationFunctions.RankOrderComputations.Zscorer object at 0x00000256D1C55A60>, <pyphoplacecellanalysis.General.Pipeline.Stages.ComputationFunctions.MultiContextComputationFunctions.RankOrderComputations.Zscorer object at 0x00000256D1C55BB0>, 0.7593998128477735), 517: (<pyphoplacecellanalysis.General.Pipeline.Stages.ComputationFunctions.MultiContextComputationFunctions.RankOrderComputations.Zscorer object at 0x00000256D1C55D30>, <pyphoplacecellanalysis.General.Pipeline.Stages.ComputationFunctions.MultiContextComputationFunctions.RankOrderComputations.Zscorer object at 0x00000256D1C55E80>, 0.7547306563188638), 518: (<pyphoplacecellanalysis.General.Pipeline.Stages.ComputationFunctions.MultiContextComputationFunctions.RankOrderComputations.Zscorer object at 0x00000256D1C5A040>, <pyphoplacecellanalysis.General.Pipeline.Stages.ComputationFunctions.MultiContextComputationFunctions.RankOrderComputations.Zscorer object at 0x00000256D1C5A190>, 0.2506096952485972), 519: (<pyphoplacecellanalysis.General.Pipeline.Stages.ComputationFunctions.MultiContextComputationFunctions.RankOrderComputations.Zscorer object at 0x00000256D1C5A310>, <pyphoplacecellanalysis.General.Pipeline.Stages.ComputationFunctions.MultiContextComputationFunctions.RankOrderComputations.Zscorer object at 0x00000256D1C5A460>, -0.32409891786461575), 520: (<pyphoplacecellanalysis.General.Pipeline.Stages.ComputationFunctions.MultiContextComputationFunctions.RankOrderComputations.Zscorer object at 0x00000256D1C5A5E0>, <pyphoplacecellanalysis.General.Pipeline.Stages.ComputationFunctions.MultiContextComputationFunctions.RankOrderComputations.Zscorer object at 0x00000256D1C5A730>, -0.25626479425856075), 521: (<pyphoplacecellanalysis.General.Pipeline.Stages.ComputationFunctions.MultiContextComputationFunctions.RankOrderComputations.Zscorer object at 0x00000256D1C5A8B0>, <pyphoplacecellanalysis.General.Pipeline.Stages.ComputationFunctions.MultiContextComputationFunctions.RankOrderComputations.Zscorer object at 0x00000256D1C5AA00>, 0.2880474888810607), 522: (<pyphoplacecellanalysis.General.Pipeline.Stages.ComputationFunctions.MultiContextComputationFunctions.RankOrderComputations.Zscorer object at 0x00000256D1C5AB80>, <pyphoplacecellanalysis.General.Pipeline.Stages.ComputationFunctions.MultiContextComputationFunctions.RankOrderComputations.Zscorer object at 0x00000256D1C5ACD0>, -0.3510952609156057), 523: (<pyphoplacecellanalysis.General.Pipeline.Stages.ComputationFunctions.MultiContextComputationFunctions.RankOrderComputations.Zscorer object at 0x00000256D1C5AE50>, <pyphoplacecellanalysis.General.Pipeline.Stages.ComputationFunctions.MultiContextComputationFunctions.RankOrderComputations.Zscorer object at 0x00000256D1C5AFA0>, 0.0), 524: (<pyphoplacecellanalysis.General.Pipeline.Stages.ComputationFunctions.MultiContextComputationFunctions.RankOrderComputations.Zscorer object at 0x00000256D1C60160>, <pyphoplacecellanalysis.General.Pipeline.Stages.ComputationFunctions.MultiContextComputationFunctions.RankOrderComputations.Zscorer object at 0x00000256D1C602B0>, -0.33439303084533), 525: (<pyphoplacecellanalysis.General.Pipeline.Stages.ComputationFunctions.MultiContextComputationFunctions.RankOrderComputations.Zscorer object at 0x00000256D1C60430>, <pyphoplacecellanalysis.General.Pipeline.Stages.ComputationFunctions.MultiContextComputationFunctions.RankOrderComputations.Zscorer object at 0x00000256D1C60580>, 0.6395880229000115), 526: (<pyphoplacecellanalysis.General.Pipeline.Stages.ComputationFunctions.MultiContextComputationFunctions.RankOrderComputations.Zscorer object at 0x00000256D1C60700>, <pyphoplacecellanalysis.General.Pipeline.Stages.ComputationFunctions.MultiContextComputationFunctions.RankOrderComputations.Zscorer object at 0x00000256D1C60850>, 0.2976584058185363), 527: (<pyphoplacecellanalysis.General.Pipeline.Stages.ComputationFunctions.MultiContextComputationFunctions.RankOrderComputations.Zscorer object at 0x00000256D1C609D0>, <pyphoplacecellanalysis.General.Pipeline.Stages.ComputationFunctions.MultiContextComputationFunctions.RankOrderComputations.Zscorer object at 0x00000256D1C60B20>, 0.6055232242746571), 528: (<pyphoplacecellanalysis.General.Pipeline.Stages.ComputationFunctions.MultiContextComputationFunctions.RankOrderComputations.Zscorer object at 0x00000256D1C60CA0>, <pyphoplacecellanalysis.General.Pipeline.Stages.ComputationFunctions.MultiContextComputationFunctions.RankOrderComputations.Zscorer object at 0x00000256D1C60DF0>, -0.36863672568086514), 529: (<pyphoplacecellanalysis.General.Pipeline.Stages.ComputationFunctions.MultiContextComputationFunctions.RankOrderComputations.Zscorer object at 0x00000256D1C60F70>, <pyphoplacecellanalysis.General.Pipeline.Stages.ComputationFunctions.MultiContextComputationFunctions.RankOrderComputations.Zscorer object at 0x00000256D1C64100>, -0.23106557547515938), 530: (<pyphoplacecellanalysis.General.Pipeline.Stages.ComputationFunctions.MultiContextComputationFunctions.RankOrderComputations.Zscorer object at 0x00000256D1C64280>, <pyphoplacecellanalysis.General.Pipeline.Stages.ComputationFunctions.MultiContextComputationFunctions.RankOrderComputations.Zscorer object at 0x00000256D1C643D0>, -0.5743390624640696), 531: (<pyphoplacecellanalysis.General.Pipeline.Stages.ComputationFunctions.MultiContextComputationFunctions.RankOrderComputations.Zscorer object at 0x00000256D1C64550>, <pyphoplacecellanalysis.General.Pipeline.Stages.ComputationFunctions.MultiContextComputationFunctions.RankOrderComputations.Zscorer object at 0x00000256D1C646A0>, -0.7505049986791744), 532: (<pyphoplacecellanalysis.General.Pipeline.Stages.ComputationFunctions.MultiContextComputationFunctions.RankOrderComputations.Zscorer object at 0x00000256D1C64820>, <pyphoplacecellanalysis.General.Pipeline.Stages.ComputationFunctions.MultiContextComputationFunctions.RankOrderComputations.Zscorer object at 0x00000256D1C64970>, -0.1195003217587145), 533: (<pyphoplacecellanalysis.General.Pipeline.Stages.ComputationFunctions.MultiContextComputationFunctions.RankOrderComputations.Zscorer object at 0x00000256D1C64AF0>, <pyphoplacecellanalysis.General.Pipeline.Stages.ComputationFunctions.MultiContextComputationFunctions.RankOrderComputations.Zscorer object at 0x00000256D1C64C40>, -0.07031011496065709), 534: (<pyphoplacecellanalysis.General.Pipeline.Stages.ComputationFunctions.MultiContextComputationFunctions.RankOrderComputations.Zscorer object at 0x00000256D1C64DC0>, <pyphoplacecellanalysis.General.Pipeline.Stages.ComputationFunctions.MultiContextComputationFunctions.RankOrderComputations.Zscorer object at 0x00000256D1C64F10>, -0.798774011279412), 535: (<pyphoplacecellanalysis.General.Pipeline.Stages.ComputationFunctions.MultiContextComputationFunctions.RankOrderComputations.Zscorer object at 0x00000256D1C6A0D0>, <pyphoplacecellanalysis.General.Pipeline.Stages.ComputationFunctions.MultiContextComputationFunctions.RankOrderComputations.Zscorer object at 0x00000256D1C6A220>, 0.7019954326343205), 536: (<pyphoplacecellanalysis.General.Pipeline.Stages.ComputationFunctions.MultiContextComputationFunctions.RankOrderComputations.Zscorer object at 0x00000256D1C6A3A0>, <pyphoplacecellanalysis.General.Pipeline.Stages.ComputationFunctions.MultiContextComputationFunctions.RankOrderComputations.Zscorer object at 0x00000256D1C6A4F0>, 0.47706097392768876), 537: (<pyphoplacecellanalysis.General.Pipeline.Stages.ComputationFunctions.MultiContextComputationFunctions.RankOrderComputations.Zscorer object at 0x00000256D1C6A670>, <pyphoplacecellanalysis.General.Pipeline.Stages.ComputationFunctions.MultiContextComputationFunctions.RankOrderComputations.Zscorer object at 0x00000256D1C6A7C0>, -1.3700511452791146), 538: (<pyphoplacecellanalysis.General.Pipeline.Stages.ComputationFunctions.MultiContextComputationFunctions.RankOrderComputations.Zscorer object at 0x00000256D1C6A940>, <pyphoplacecellanalysis.General.Pipeline.Stages.ComputationFunctions.MultiContextComputationFunctions.RankOrderComputations.Zscorer object at 0x00000256D1C6AA90>, 0.2812871587123873), 539: (<pyphoplacecellanalysis.General.Pipeline.Stages.ComputationFunctions.MultiContextComputationFunctions.RankOrderComputations.Zscorer object at 0x00000256D1C6AC10>, <pyphoplacecellanalysis.General.Pipeline.Stages.ComputationFunctions.MultiContextComputationFunctions.RankOrderComputations.Zscorer object at 0x00000256D1C6AD60>, 0.2594275545088168), 540: (<pyphoplacecellanalysis.General.Pipeline.Stages.ComputationFunctions.MultiContextComputationFunctions.RankOrderComputations.Zscorer object at 0x00000256D1C6AEE0>, <pyphoplacecellanalysis.General.Pipeline.Stages.ComputationFunctions.MultiContextComputationFunctions.RankOrderComputations.Zscorer object at 0x00000256D1C6E070>, -0.3457123105226736), 541: (<pyphoplacecellanalysis.General.Pipeline.Stages.ComputationFunctions.MultiContextComputationFunctions.RankOrderComputations.Zscorer object at 0x00000256D1C6E1F0>, <pyphoplacecellanalysis.General.Pipeline.Stages.ComputationFunctions.MultiContextComputationFunctions.RankOrderComputations.Zscorer object at 0x00000256D1C6E340>, -0.24580257831655405), 542: (<pyphoplacecellanalysis.General.Pipeline.Stages.ComputationFunctions.MultiContextComputationFunctions.RankOrderComputations.Zscorer object at 0x00000256D1C6E4C0>, <pyphoplacecellanalysis.General.Pipeline.Stages.ComputationFunctions.MultiContextComputationFunctions.RankOrderComputations.Zscorer object at 0x00000256D1C6E610>, 0.5735892493011967), 543: (<pyphoplacecellanalysis.General.Pipeline.Stages.ComputationFunctions.MultiContextComputationFunctions.RankOrderComputations.Zscorer object at 0x00000256D1C6E790>, <pyphoplacecellanalysis.General.Pipeline.Stages.ComputationFunctions.MultiContextComputationFunctions.RankOrderComputations.Zscorer object at 0x00000256D1C6E8E0>, 0.6485995392837758), 544: (<pyphoplacecellanalysis.General.Pipeline.Stages.ComputationFunctions.MultiContextComputationFunctions.RankOrderComputations.Zscorer object at 0x00000256D1C6EA60>, <pyphoplacecellanalysis.General.Pipeline.Stages.ComputationFunctions.MultiContextComputationFunctions.RankOrderComputations.Zscorer object at 0x00000256D1C6EBB0>, 0.13128255815983048), 545: (<pyphoplacecellanalysis.General.Pipeline.Stages.ComputationFunctions.MultiContextComputationFunctions.RankOrderComputations.Zscorer object at 0x00000256D1C6ED30>, <pyphoplacecellanalysis.General.Pipeline.Stages.ComputationFunctions.MultiContextComputationFunctions.RankOrderComputations.Zscorer object at 0x00000256D1C6EE80>, -0.5275919097292456), 546: (<pyphoplacecellanalysis.General.Pipeline.Stages.ComputationFunctions.MultiContextComputationFunctions.RankOrderComputations.Zscorer object at 0x00000256D1C74040>, <pyphoplacecellanalysis.General.Pipeline.Stages.ComputationFunctions.MultiContextComputationFunctions.RankOrderComputations.Zscorer object at 0x00000256D1C74190>, -0.6524659743233931), 547: (<pyphoplacecellanalysis.General.Pipeline.Stages.ComputationFunctions.MultiContextComputationFunctions.RankOrderComputations.Zscorer object at 0x00000256D1C74310>, <pyphoplacecellanalysis.General.Pipeline.Stages.ComputationFunctions.MultiContextComputationFunctions.RankOrderComputations.Zscorer object at 0x00000256D1C74460>, -0.5858087719085499), 548: (<pyphoplacecellanalysis.General.Pipeline.Stages.ComputationFunctions.MultiContextComputationFunctions.RankOrderComputations.Zscorer object at 0x00000256D1C745E0>, <pyphoplacecellanalysis.General.Pipeline.Stages.ComputationFunctions.MultiContextComputationFunctions.RankOrderComputations.Zscorer object at 0x00000256D1C74730>, 0.41099350505084775), 549: (<pyphoplacecellanalysis.General.Pipeline.Stages.ComputationFunctions.MultiContextComputationFunctions.RankOrderComputations.Zscorer object at 0x00000256D1C748B0>, <pyphoplacecellanalysis.General.Pipeline.Stages.ComputationFunctions.MultiContextComputationFunctions.RankOrderComputations.Zscorer object at 0x00000256D1C74A00>, -0.5304484017461863), 550: (<pyphoplacecellanalysis.General.Pipeline.Stages.ComputationFunctions.MultiContextComputationFunctions.RankOrderComputations.Zscorer object at 0x00000256D1C74B80>, <pyphoplacecellanalysis.General.Pipeline.Stages.ComputationFunctions.MultiContextComputationFunctions.RankOrderComputations.Zscorer object at 0x00000256D1C74CD0>, 0.003082290776406066), 551: (<pyphoplacecellanalysis.General.Pipeline.Stages.ComputationFunctions.MultiContextComputationFunctions.RankOrderComputations.Zscorer object at 0x00000256D1C74E50>, <pyphoplacecellanalysis.General.Pipeline.Stages.ComputationFunctions.MultiContextComputationFunctions.RankOrderComputations.Zscorer object at 0x00000256D1C74FA0>, 0.587433727748838), 552: (<pyphoplacecellanalysis.General.Pipeline.Stages.ComputationFunctions.MultiContextComputationFunctions.RankOrderComputations.Zscorer object at 0x00000256D1C79160>, <pyphoplacecellanalysis.General.Pipeline.Stages.ComputationFunctions.MultiContextComputationFunctions.RankOrderComputations.Zscorer object at 0x00000256D1C792B0>, 0.04355332121076971), 553: (<pyphoplacecellanalysis.General.Pipeline.Stages.ComputationFunctions.MultiContextComputationFunctions.RankOrderComputations.Zscorer object at 0x00000256D1C79430>, <pyphoplacecellanalysis.General.Pipeline.Stages.ComputationFunctions.MultiContextComputationFunctions.RankOrderComputations.Zscorer object at 0x00000256D1C79580>, 0.5640302062625286), 554: (<pyphoplacecellanalysis.General.Pipeline.Stages.ComputationFunctions.MultiContextComputationFunctions.RankOrderComputations.Zscorer object at 0x00000256D1C79700>, <pyphoplacecellanalysis.General.Pipeline.Stages.ComputationFunctions.MultiContextComputationFunctions.RankOrderComputations.Zscorer object at 0x00000256D1C79850>, -0.7445923812033624), 555: (<pyphoplacecellanalysis.General.Pipeline.Stages.ComputationFunctions.MultiContextComputationFunctions.RankOrderComputations.Zscorer object at 0x00000256D1C799D0>, <pyphoplacecellanalysis.General.Pipeline.Stages.ComputationFunctions.MultiContextComputationFunctions.RankOrderComputations.Zscorer object at 0x00000256D1C79B20>, 0.5093985726794894), 556: (<pyphoplacecellanalysis.General.Pipeline.Stages.ComputationFunctions.MultiContextComputationFunctions.RankOrderComputations.Zscorer object at 0x00000256D1C79CA0>, <pyphoplacecellanalysis.General.Pipeline.Stages.ComputationFunctions.MultiContextComputationFunctions.RankOrderComputations.Zscorer object at 0x00000256D1C79DF0>, 0.017184671878985203), 557: (<pyphoplacecellanalysis.General.Pipeline.Stages.ComputationFunctions.MultiContextComputationFunctions.RankOrderComputations.Zscorer object at 0x00000256D1C79F70>, <pyphoplacecellanalysis.General.Pipeline.Stages.ComputationFunctions.MultiContextComputationFunctions.RankOrderComputations.Zscorer object at 0x00000256D1C7D100>, 0.02100175201045218), 558: (<pyphoplacecellanalysis.General.Pipeline.Stages.ComputationFunctions.MultiContextComputationFunctions.RankOrderComputations.Zscorer object at 0x00000256D1C7D280>, <pyphoplacecellanalysis.General.Pipeline.Stages.ComputationFunctions.MultiContextComputationFunctions.RankOrderComputations.Zscorer object at 0x00000256D1C7D3D0>, 0.0685321733670885), 559: (<pyphoplacecellanalysis.General.Pipeline.Stages.ComputationFunctions.MultiContextComputationFunctions.RankOrderComputations.Zscorer object at 0x00000256D1C7D550>, <pyphoplacecellanalysis.General.Pipeline.Stages.ComputationFunctions.MultiContextComputationFunctions.RankOrderComputations.Zscorer object at 0x00000256D1C7D6A0>, 0.10869820649569406), 560: (<pyphoplacecellanalysis.General.Pipeline.Stages.ComputationFunctions.MultiContextComputationFunctions.RankOrderComputations.Zscorer object at 0x00000256D1C7D820>, <pyphoplacecellanalysis.General.Pipeline.Stages.ComputationFunctions.MultiContextComputationFunctions.RankOrderComputations.Zscorer object at 0x00000256D1C7D970>, 0.5531608869932367), 561: (<pyphoplacecellanalysis.General.Pipeline.Stages.ComputationFunctions.MultiContextComputationFunctions.RankOrderComputations.Zscorer object at 0x00000256D1C7DAF0>, <pyphoplacecellanalysis.General.Pipeline.Stages.ComputationFunctions.MultiContextComputationFunctions.RankOrderComputations.Zscorer object at 0x00000256D1C7DC40>, 0.22457891476329742), 562: (<pyphoplacecellanalysis.General.Pipeline.Stages.ComputationFunctions.MultiContextComputationFunctions.RankOrderComputations.Zscorer object at 0x00000256D1C7DDC0>, <pyphoplacecellanalysis.General.Pipeline.Stages.ComputationFunctions.MultiContextComputationFunctions.RankOrderComputations.Zscorer object at 0x00000256D1C7DF10>, 0.21894902628796453), 563: (<pyphoplacecellanalysis.General.Pipeline.Stages.ComputationFunctions.MultiContextComputationFunctions.RankOrderComputations.Zscorer object at 0x00000256D1C830D0>, <pyphoplacecellanalysis.General.Pipeline.Stages.ComputationFunctions.MultiContextComputationFunctions.RankOrderComputations.Zscorer object at 0x00000256D1C83220>, -0.4979577301683661), 564: (<pyphoplacecellanalysis.General.Pipeline.Stages.ComputationFunctions.MultiContextComputationFunctions.RankOrderComputations.Zscorer object at 0x00000256D1C833A0>, <pyphoplacecellanalysis.General.Pipeline.Stages.ComputationFunctions.MultiContextComputationFunctions.RankOrderComputations.Zscorer object at 0x00000256D1C834F0>, 0.31233688857704767), 565: (<pyphoplacecellanalysis.General.Pipeline.Stages.ComputationFunctions.MultiContextComputationFunctions.RankOrderComputations.Zscorer object at 0x00000256D1C83670>, <pyphoplacecellanalysis.General.Pipeline.Stages.ComputationFunctions.MultiContextComputationFunctions.RankOrderComputations.Zscorer object at 0x00000256D1C837C0>, -0.6395948253526563), 566: (<pyphoplacecellanalysis.General.Pipeline.Stages.ComputationFunctions.MultiContextComputationFunctions.RankOrderComputations.Zscorer object at 0x00000256D1C83940>, <pyphoplacecellanalysis.General.Pipeline.Stages.ComputationFunctions.MultiContextComputationFunctions.RankOrderComputations.Zscorer object at 0x00000256D1C83A90>, 0.7478646038099074), 567: (<pyphoplacecellanalysis.General.Pipeline.Stages.ComputationFunctions.MultiContextComputationFunctions.RankOrderComputations.Zscorer object at 0x00000256D1C83C10>, <pyphoplacecellanalysis.General.Pipeline.Stages.ComputationFunctions.MultiContextComputationFunctions.RankOrderComputations.Zscorer object at 0x00000256D1C83D60>, -0.0940067542894889), 568: (<pyphoplacecellanalysis.General.Pipeline.Stages.ComputationFunctions.MultiContextComputationFunctions.RankOrderComputations.Zscorer object at 0x00000256D1C83EE0>, <pyphoplacecellanalysis.General.Pipeline.Stages.ComputationFunctions.MultiContextComputationFunctions.RankOrderComputations.Zscorer object at 0x00000256D1C88070>, 0.5396501113039507), 569: (<pyphoplacecellanalysis.General.Pipeline.Stages.ComputationFunctions.MultiContextComputationFunctions.RankOrderComputations.Zscorer object at 0x00000256D1C881F0>, <pyphoplacecellanalysis.General.Pipeline.Stages.ComputationFunctions.MultiContextComputationFunctions.RankOrderComputations.Zscorer object at 0x00000256D1C88340>, -0.7652440611399959), 570: (<pyphoplacecellanalysis.General.Pipeline.Stages.ComputationFunctions.MultiContextComputationFunctions.RankOrderComputations.Zscorer object at 0x00000256D1C884C0>, <pyphoplacecellanalysis.General.Pipeline.Stages.ComputationFunctions.MultiContextComputationFunctions.RankOrderComputations.Zscorer object at 0x00000256D1C88610>, 0.33268076259426654), 571: (<pyphoplacecellanalysis.General.Pipeline.Stages.ComputationFunctions.MultiContextComputationFunctions.RankOrderComputations.Zscorer object at 0x00000256D1C88790>, <pyphoplacecellanalysis.General.Pipeline.Stages.ComputationFunctions.MultiContextComputationFunctions.RankOrderComputations.Zscorer object at 0x00000256D1C888E0>, -0.12549903011883057), 572: (<pyphoplacecellanalysis.General.Pipeline.Stages.ComputationFunctions.MultiContextComputationFunctions.RankOrderComputations.Zscorer object at 0x00000256D1C88A60>, <pyphoplacecellanalysis.General.Pipeline.Stages.ComputationFunctions.MultiContextComputationFunctions.RankOrderComputations.Zscorer object at 0x00000256D1C88BB0>, -0.38429303471720555), 573: (<pyphoplacecellanalysis.General.Pipeline.Stages.ComputationFunctions.MultiContextComputationFunctions.RankOrderComputations.Zscorer object at 0x00000256D1C88D30>, <pyphoplacecellanalysis.General.Pipeline.Stages.ComputationFunctions.MultiContextComputationFunctions.RankOrderComputations.Zscorer object at 0x00000256D1C88E80>, -0.7124319955142717), 574: (<pyphoplacecellanalysis.General.Pipeline.Stages.ComputationFunctions.MultiContextComputationFunctions.RankOrderComputations.Zscorer object at 0x00000256D1C8E040>, <pyphoplacecellanalysis.General.Pipeline.Stages.ComputationFunctions.MultiContextComputationFunctions.RankOrderComputations.Zscorer object at 0x00000256D1C8E190>, 0.7236462100036634), 575: (<pyphoplacecellanalysis.General.Pipeline.Stages.ComputationFunctions.MultiContextComputationFunctions.RankOrderComputations.Zscorer object at 0x00000256D1C8E310>, <pyphoplacecellanalysis.General.Pipeline.Stages.ComputationFunctions.MultiContextComputationFunctions.RankOrderComputations.Zscorer object at 0x00000256D1C8E460>, -0.014471829388108537), 576: (<pyphoplacecellanalysis.General.Pipeline.Stages.ComputationFunctions.MultiContextComputationFunctions.RankOrderComputations.Zscorer object at 0x00000256D1C8E5E0>, <pyphoplacecellanalysis.General.Pipeline.Stages.ComputationFunctions.MultiContextComputationFunctions.RankOrderComputations.Zscorer object at 0x00000256D1C8E730>, -0.3827449560849201), 577: (<pyphoplacecellanalysis.General.Pipeline.Stages.ComputationFunctions.MultiContextComputationFunctions.RankOrderComputations.Zscorer object at 0x00000256D1C8E8B0>, <pyphoplacecellanalysis.General.Pipeline.Stages.ComputationFunctions.MultiContextComputationFunctions.RankOrderComputations.Zscorer object at 0x00000256D1C8EA00>, 0.701350767772746), 578: (<pyphoplacecellanalysis.General.Pipeline.Stages.ComputationFunctions.MultiContextComputationFunctions.RankOrderComputations.Zscorer object at 0x00000256D1C8EB80>, <pyphoplacecellanalysis.General.Pipeline.Stages.ComputationFunctions.MultiContextComputationFunctions.RankOrderComputations.Zscorer object at 0x00000256D1C8ECD0>, 0.0), 579: (<pyphoplacecellanalysis.General.Pipeline.Stages.ComputationFunctions.MultiContextComputationFunctions.RankOrderComputations.Zscorer object at 0x00000256D1C8EE50>, <pyphoplacecellanalysis.General.Pipeline.Stages.ComputationFunctions.MultiContextComputationFunctions.RankOrderComputations.Zscorer object at 0x00000256D1C8EFA0>, -0.7996851999711749), 580: (<pyphoplacecellanalysis.General.Pipeline.Stages.ComputationFunctions.MultiContextComputationFunctions.RankOrderComputations.Zscorer object at 0x00000256D1C92160>, <pyphoplacecellanalysis.General.Pipeline.Stages.ComputationFunctions.MultiContextComputationFunctions.RankOrderComputations.Zscorer object at 0x00000256D1C922B0>, 0.3588082021866905), 581: (<pyphoplacecellanalysis.General.Pipeline.Stages.ComputationFunctions.MultiContextComputationFunctions.RankOrderComputations.Zscorer object at 0x00000256D1C92430>, <pyphoplacecellanalysis.General.Pipeline.Stages.ComputationFunctions.MultiContextComputationFunctions.RankOrderComputations.Zscorer object at 0x00000256D1C92580>, -0.6453678645310714), 582: (<pyphoplacecellanalysis.General.Pipeline.Stages.ComputationFunctions.MultiContextComputationFunctions.RankOrderComputations.Zscorer object at 0x00000256D1C92700>, <pyphoplacecellanalysis.General.Pipeline.Stages.ComputationFunctions.MultiContextComputationFunctions.RankOrderComputations.Zscorer object at 0x00000256D1C92850>, 0.544797611659799), 583: (<pyphoplacecellanalysis.General.Pipeline.Stages.ComputationFunctions.MultiContextComputationFunctions.RankOrderComputations.Zscorer object at 0x00000256D1C929D0>, <pyphoplacecellanalysis.General.Pipeline.Stages.ComputationFunctions.MultiContextComputationFunctions.RankOrderComputations.Zscorer object at 0x00000256D1C92B20>, -1.0113212984300586), 584: (<pyphoplacecellanalysis.General.Pipeline.Stages.ComputationFunctions.MultiContextComputationFunctions.RankOrderComputations.Zscorer object at 0x00000256D1C92CA0>, <pyphoplacecellanalysis.General.Pipeline.Stages.ComputationFunctions.MultiContextComputationFunctions.RankOrderComputations.Zscorer object at 0x00000256D1C92DF0>, 0.3029978680539135), 585: (<pyphoplacecellanalysis.General.Pipeline.Stages.ComputationFunctions.MultiContextComputationFunctions.RankOrderComputations.Zscorer object at 0x00000256D1C92F70>, <pyphoplacecellanalysis.General.Pipeline.Stages.ComputationFunctions.MultiContextComputationFunctions.RankOrderComputations.Zscorer object at 0x00000256D1C97100>, 0.6177829031496458), 586: (<pyphoplacecellanalysis.General.Pipeline.Stages.ComputationFunctions.MultiContextComputationFunctions.RankOrderComputations.Zscorer object at 0x00000256D1C97280>, <pyphoplacecellanalysis.General.Pipeline.Stages.ComputationFunctions.MultiContextComputationFunctions.RankOrderComputations.Zscorer object at 0x00000256D1C973D0>, 0.002786929700246965), 587: (<pyphoplacecellanalysis.General.Pipeline.Stages.ComputationFunctions.MultiContextComputationFunctions.RankOrderComputations.Zscorer object at 0x00000256D1C97550>, <pyphoplacecellanalysis.General.Pipeline.Stages.ComputationFunctions.MultiContextComputationFunctions.RankOrderComputations.Zscorer object at 0x00000256D1C976A0>, 0.5472958420942358), 588: (<pyphoplacecellanalysis.General.Pipeline.Stages.ComputationFunctions.MultiContextComputationFunctions.RankOrderComputations.Zscorer object at 0x00000256D1C97820>, <pyphoplacecellanalysis.General.Pipeline.Stages.ComputationFunctions.MultiContextComputationFunctions.RankOrderComputations.Zscorer object at 0x00000256D1C97970>, 0.021420138631259647), 589: (<pyphoplacecellanalysis.General.Pipeline.Stages.ComputationFunctions.MultiContextComputationFunctions.RankOrderComputations.Zscorer object at 0x00000256D1C97AF0>, <pyphoplacecellanalysis.General.Pipeline.Stages.ComputationFunctions.MultiContextComputationFunctions.RankOrderComputations.Zscorer object at 0x00000256D1C97C40>, 0.020559834275388766), 590: (<pyphoplacecellanalysis.General.Pipeline.Stages.ComputationFunctions.MultiContextComputationFunctions.RankOrderComputations.Zscorer object at 0x00000256D1C97DC0>, <pyphoplacecellanalysis.General.Pipeline.Stages.ComputationFunctions.MultiContextComputationFunctions.RankOrderComputations.Zscorer object at 0x00000256D1C97F10>, 0.4786447427935123), 591: (<pyphoplacecellanalysis.General.Pipeline.Stages.ComputationFunctions.MultiContextComputationFunctions.RankOrderComputations.Zscorer object at 0x00000256D1C9D0D0>, <pyphoplacecellanalysis.General.Pipeline.Stages.ComputationFunctions.MultiContextComputationFunctions.RankOrderComputations.Zscorer object at 0x00000256D1C9D220>, -1.607998661273854), 592: (<pyphoplacecellanalysis.General.Pipeline.Stages.ComputationFunctions.MultiContextComputationFunctions.RankOrderComputations.Zscorer object at 0x00000256D1C9D3A0>, <pyphoplacecellanalysis.General.Pipeline.Stages.ComputationFunctions.MultiContextComputationFunctions.RankOrderComputations.Zscorer object at 0x00000256D1C9D4F0>, 0.5866564643498615), 593: (<pyphoplacecellanalysis.General.Pipeline.Stages.ComputationFunctions.MultiContextComputationFunctions.RankOrderComputations.Zscorer object at 0x00000256D1C9D670>, <pyphoplacecellanalysis.General.Pipeline.Stages.ComputationFunctions.MultiContextComputationFunctions.RankOrderComputations.Zscorer object at 0x00000256D1C9D7C0>, 0.6758763627116755), 594: (<pyphoplacecellanalysis.General.Pipeline.Stages.ComputationFunctions.MultiContextComputationFunctions.RankOrderComputations.Zscorer object at 0x00000256D1C9D940>, <pyphoplacecellanalysis.General.Pipeline.Stages.ComputationFunctions.MultiContextComputationFunctions.RankOrderComputations.Zscorer object at 0x00000256D1C9DA90>, 0.1288135959616759), 595: (<pyphoplacecellanalysis.General.Pipeline.Stages.ComputationFunctions.MultiContextComputationFunctions.RankOrderComputations.Zscorer object at 0x00000256D1C9DC10>, <pyphoplacecellanalysis.General.Pipeline.Stages.ComputationFunctions.MultiContextComputationFunctions.RankOrderComputations.Zscorer object at 0x00000256D1C9DD60>, -0.638487573737719), 596: (<pyphoplacecellanalysis.General.Pipeline.Stages.ComputationFunctions.MultiContextComputationFunctions.RankOrderComputations.Zscorer object at 0x00000256D1C9DEE0>, <pyphoplacecellanalysis.General.Pipeline.Stages.ComputationFunctions.MultiContextComputationFunctions.RankOrderComputations.Zscorer object at 0x00000256D1CA1070>, -0.2414023611622783), 597: (<pyphoplacecellanalysis.General.Pipeline.Stages.ComputationFunctions.MultiContextComputationFunctions.RankOrderComputations.Zscorer object at 0x00000256D1CA11F0>, <pyphoplacecellanalysis.General.Pipeline.Stages.ComputationFunctions.MultiContextComputationFunctions.RankOrderComputations.Zscorer object at 0x00000256D1CA1340>, 0.18937723499129633), 598: (<pyphoplacecellanalysis.General.Pipeline.Stages.ComputationFunctions.MultiContextComputationFunctions.RankOrderComputations.Zscorer object at 0x00000256D1CA14C0>, <pyphoplacecellanalysis.General.Pipeline.Stages.ComputationFunctions.MultiContextComputationFunctions.RankOrderComputations.Zscorer object at 0x00000256D1CA1610>, 0.11568617843803541), 599: (<pyphoplacecellanalysis.General.Pipeline.Stages.ComputationFunctions.MultiContextComputationFunctions.RankOrderComputations.Zscorer object at 0x00000256D1CA1790>, <pyphoplacecellanalysis.General.Pipeline.Stages.ComputationFunctions.MultiContextComputationFunctions.RankOrderComputations.Zscorer object at 0x00000256D1CA18E0>, 0.057060281766761284), 600: (<pyphoplacecellanalysis.General.Pipeline.Stages.ComputationFunctions.MultiContextComputationFunctions.RankOrderComputations.Zscorer object at 0x00000256D1CA1A60>, <pyphoplacecellanalysis.General.Pipeline.Stages.ComputationFunctions.MultiContextComputationFunctions.RankOrderComputations.Zscorer object at 0x00000256D1CA1BB0>, -0.4886339041011527), 601: (<pyphoplacecellanalysis.General.Pipeline.Stages.ComputationFunctions.MultiContextComputationFunctions.RankOrderComputations.Zscorer object at 0x00000256D1CA1D30>, <pyphoplacecellanalysis.General.Pipeline.Stages.ComputationFunctions.MultiContextComputationFunctions.RankOrderComputations.Zscorer object at 0x00000256D1CA1E80>, -0.5463400918005727), 602: (<pyphoplacecellanalysis.General.Pipeline.Stages.ComputationFunctions.MultiContextComputationFunctions.RankOrderComputations.Zscorer object at 0x00000256D1CA7040>, <pyphoplacecellanalysis.General.Pipeline.Stages.ComputationFunctions.MultiContextComputationFunctions.RankOrderComputations.Zscorer object at 0x00000256D1CA7190>, -1.1366093834579392), 603: (<pyphoplacecellanalysis.General.Pipeline.Stages.ComputationFunctions.MultiContextComputationFunctions.RankOrderComputations.Zscorer object at 0x00000256D1CA7310>, <pyphoplacecellanalysis.General.Pipeline.Stages.ComputationFunctions.MultiContextComputationFunctions.RankOrderComputations.Zscorer object at 0x00000256D1CA7460>, 0.0), 604: (<pyphoplacecellanalysis.General.Pipeline.Stages.ComputationFunctions.MultiContextComputationFunctions.RankOrderComputations.Zscorer object at 0x00000256D1CA75E0>, <pyphoplacecellanalysis.General.Pipeline.Stages.ComputationFunctions.MultiContextComputationFunctions.RankOrderComputations.Zscorer object at 0x00000256D1CA7730>, 0.124255505895847), 605: (<pyphoplacecellanalysis.General.Pipeline.Stages.ComputationFunctions.MultiContextComputationFunctions.RankOrderComputations.Zscorer object at 0x00000256D1CA78B0>, <pyphoplacecellanalysis.General.Pipeline.Stages.ComputationFunctions.MultiContextComputationFunctions.RankOrderComputations.Zscorer object at 0x00000256D1CA7A00>, 2.4225427951013727), 606: (<pyphoplacecellanalysis.General.Pipeline.Stages.ComputationFunctions.MultiContextComputationFunctions.RankOrderComputations.Zscorer object at 0x00000256D1CA7B80>, <pyphoplacecellanalysis.General.Pipeline.Stages.ComputationFunctions.MultiContextComputationFunctions.RankOrderComputations.Zscorer object at 0x00000256D1CA7CD0>, -1.2976960441501044), 607: (<pyphoplacecellanalysis.General.Pipeline.Stages.ComputationFunctions.MultiContextComputationFunctions.RankOrderComputations.Zscorer object at 0x00000256D1CA7E50>, <pyphoplacecellanalysis.General.Pipeline.Stages.ComputationFunctions.MultiContextComputationFunctions.RankOrderComputations.Zscorer object at 0x00000256D1CA7FA0>, 1.5185233449091131), 608: (<pyphoplacecellanalysis.General.Pipeline.Stages.ComputationFunctions.MultiContextComputationFunctions.RankOrderComputations.Zscorer object at 0x00000256D1CAC160>, <pyphoplacecellanalysis.General.Pipeline.Stages.ComputationFunctions.MultiContextComputationFunctions.RankOrderComputations.Zscorer object at 0x00000256D1CAC2B0>, -0.4658311324965958), 609: (<pyphoplacecellanalysis.General.Pipeline.Stages.ComputationFunctions.MultiContextComputationFunctions.RankOrderComputations.Zscorer object at 0x00000256D1CAC430>, <pyphoplacecellanalysis.General.Pipeline.Stages.ComputationFunctions.MultiContextComputationFunctions.RankOrderComputations.Zscorer object at 0x00000256D1CAC580>, -0.6390503218666279), 610: (<pyphoplacecellanalysis.General.Pipeline.Stages.ComputationFunctions.MultiContextComputationFunctions.RankOrderComputations.Zscorer object at 0x00000256D1CAC700>, <pyphoplacecellanalysis.General.Pipeline.Stages.ComputationFunctions.MultiContextComputationFunctions.RankOrderComputations.Zscorer object at 0x00000256D1CAC850>, -0.9521725240631116), 611: (<pyphoplacecellanalysis.General.Pipeline.Stages.ComputationFunctions.MultiContextComputationFunctions.RankOrderComputations.Zscorer object at 0x00000256D1CAC9D0>, <pyphoplacecellanalysis.General.Pipeline.Stages.ComputationFunctions.MultiContextComputationFunctions.RankOrderComputations.Zscorer object at 0x00000256D1CACB20>, 0.10038713145048517), 612: (<pyphoplacecellanalysis.General.Pipeline.Stages.ComputationFunctions.MultiContextComputationFunctions.RankOrderComputations.Zscorer object at 0x00000256D1CACCA0>, <pyphoplacecellanalysis.General.Pipeline.Stages.ComputationFunctions.MultiContextComputationFunctions.RankOrderComputations.Zscorer object at 0x00000256D1CACDF0>, 0.3359883673816062), 613: (<pyphoplacecellanalysis.General.Pipeline.Stages.ComputationFunctions.MultiContextComputationFunctions.RankOrderComputations.Zscorer object at 0x00000256D1CACF70>, <pyphoplacecellanalysis.General.Pipeline.Stages.ComputationFunctions.MultiContextComputationFunctions.RankOrderComputations.Zscorer object at 0x00000256DBC22100>, 0.6409723530434183), 614: (<pyphoplacecellanalysis.General.Pipeline.Stages.ComputationFunctions.MultiContextComputationFunctions.RankOrderComputations.Zscorer object at 0x00000256DBC22280>, <pyphoplacecellanalysis.General.Pipeline.Stages.ComputationFunctions.MultiContextComputationFunctions.RankOrderComputations.Zscorer object at 0x00000256DBC223D0>, -0.7430593690934428), 615: (<pyphoplacecellanalysis.General.Pipeline.Stages.ComputationFunctions.MultiContextComputationFunctions.RankOrderComputations.Zscorer object at 0x00000256DBC22550>, <pyphoplacecellanalysis.General.Pipeline.Stages.ComputationFunctions.MultiContextComputationFunctions.RankOrderComputations.Zscorer object at 0x00000256DBC226A0>, 0.335314684184034), 616: (<pyphoplacecellanalysis.General.Pipeline.Stages.ComputationFunctions.MultiContextComputationFunctions.RankOrderComputations.Zscorer object at 0x00000256DBC22820>, <pyphoplacecellanalysis.General.Pipeline.Stages.ComputationFunctions.MultiContextComputationFunctions.RankOrderComputations.Zscorer object at 0x00000256DBC22970>, 1.128276691653711), 617: (<pyphoplacecellanalysis.General.Pipeline.Stages.ComputationFunctions.MultiContextComputationFunctions.RankOrderComputations.Zscorer object at 0x00000256DBC22AF0>, <pyphoplacecellanalysis.General.Pipeline.Stages.ComputationFunctions.MultiContextComputationFunctions.RankOrderComputations.Zscorer object at 0x00000256DBC22C40>, 1.4268731748996912), 618: (<pyphoplacecellanalysis.General.Pipeline.Stages.ComputationFunctions.MultiContextComputationFunctions.RankOrderComputations.Zscorer object at 0x00000256DBC22DC0>, <pyphoplacecellanalysis.General.Pipeline.Stages.ComputationFunctions.MultiContextComputationFunctions.RankOrderComputations.Zscorer object at 0x00000256DBC22F10>, -0.26652753081021996), 619: (<pyphoplacecellanalysis.General.Pipeline.Stages.ComputationFunctions.MultiContextComputationFunctions.RankOrderComputations.Zscorer object at 0x00000256DBC260D0>, <pyphoplacecellanalysis.General.Pipeline.Stages.ComputationFunctions.MultiContextComputationFunctions.RankOrderComputations.Zscorer object at 0x00000256DBC26220>, 0.6735134298500864), 620: (<pyphoplacecellanalysis.General.Pipeline.Stages.ComputationFunctions.MultiContextComputationFunctions.RankOrderComputations.Zscorer object at 0x00000256DBC263A0>, <pyphoplacecellanalysis.General.Pipeline.Stages.ComputationFunctions.MultiContextComputationFunctions.RankOrderComputations.Zscorer object at 0x00000256DBC264F0>, -0.36139078124350105), 621: (<pyphoplacecellanalysis.General.Pipeline.Stages.ComputationFunctions.MultiContextComputationFunctions.RankOrderComputations.Zscorer object at 0x00000256DBC26670>, <pyphoplacecellanalysis.General.Pipeline.Stages.ComputationFunctions.MultiContextComputationFunctions.RankOrderComputations.Zscorer object at 0x00000256DBC267C0>, 1.0188684477419325), 622: (<pyphoplacecellanalysis.General.Pipeline.Stages.ComputationFunctions.MultiContextComputationFunctions.RankOrderComputations.Zscorer object at 0x00000256DBC26940>, <pyphoplacecellanalysis.General.Pipeline.Stages.ComputationFunctions.MultiContextComputationFunctions.RankOrderComputations.Zscorer object at 0x00000256DBC26A90>, -0.09201221566518247), 623: (<pyphoplacecellanalysis.General.Pipeline.Stages.ComputationFunctions.MultiContextComputationFunctions.RankOrderComputations.Zscorer object at 0x00000256DBC26C10>, <pyphoplacecellanalysis.General.Pipeline.Stages.ComputationFunctions.MultiContextComputationFunctions.RankOrderComputations.Zscorer object at 0x00000256DBC26D60>, -0.1657233536949656), 624: (<pyphoplacecellanalysis.General.Pipeline.Stages.ComputationFunctions.MultiContextComputationFunctions.RankOrderComputations.Zscorer object at 0x00000256DBC26EE0>, <pyphoplacecellanalysis.General.Pipeline.Stages.ComputationFunctions.MultiContextComputationFunctions.RankOrderComputations.Zscorer object at 0x00000256DBC2A070>, -1.4051823796192187), 625: (<pyphoplacecellanalysis.General.Pipeline.Stages.ComputationFunctions.MultiContextComputationFunctions.RankOrderComputations.Zscorer object at 0x00000256DBC2A1F0>, <pyphoplacecellanalysis.General.Pipeline.Stages.ComputationFunctions.MultiContextComputationFunctions.RankOrderComputations.Zscorer object at 0x00000256DBC2A340>, 0.1626364141539186)}\u001b[0m\u001b[1;34m\n        \u001b[0mrank_order_results.LR_ripple \u001b[1;34m= <pyphoplacecellanalysis.General.Pipeline.Stages.ComputationFunctions.MultiContextComputationFunctions.RankOrderComputations.RankOrderResult object at 0x00000256DB8812E0>\u001b[0m\n\u001b[0;32m     <a href='vscode-notebook-cell:/c%3A/Users/pho/repos/Spike3DWorkEnv/Spike3D/ReviewOfWork_2023-12-08.ipynb#Y100sZmlsZQ%3D%3D?line=40'>41</a>\u001b[0m RL_results_real_values \u001b[39m=\u001b[39m np\u001b[39m.\u001b[39marray([(long_stats_z_scorer\u001b[39m.\u001b[39mreal_value, short_stats_z_scorer\u001b[39m.\u001b[39mreal_value) \u001b[39mfor\u001b[39;00m epoch_id, (long_stats_z_scorer, short_stats_z_scorer, long_short_z_diff, long_short_naive_z_diff, is_forward_replay) \u001b[39min\u001b[39;00m rank_order_results\u001b[39m.\u001b[39mRL_ripple\u001b[39m.\u001b[39mranked_aclus_stats_dict\u001b[39m.\u001b[39mitems()])\n\u001b[0;32m     <a href='vscode-notebook-cell:/c%3A/Users/pho/repos/Spike3DWorkEnv/Spike3D/ReviewOfWork_2023-12-08.ipynb#Y100sZmlsZQ%3D%3D?line=42'>43</a>\u001b[0m LR_results_long_short_z_diffs \u001b[39m=\u001b[39m np\u001b[39m.\u001b[39marray([long_short_z_diff \u001b[39mfor\u001b[39;00m epoch_id, (long_stats_z_scorer, short_stats_z_scorer, long_short_z_diff, long_short_naive_z_diff, is_forward_replay) \u001b[39min\u001b[39;00m rank_order_results\u001b[39m.\u001b[39mLR_ripple\u001b[39m.\u001b[39mranked_aclus_stats_dict\u001b[39m.\u001b[39mitems()])\n",
      "\u001b[1;31mValueError\u001b[0m: not enough values to unpack (expected 5, got 3)"
     ]
    }
   ],
   "source": [
    "from nptyping import NDArray\n",
    "from attrs import define, field, Factory, astuple\n",
    "import scipy.stats\n",
    "from scipy import ndimage\n",
    "from neuropy.utils.misc import build_shuffled_ids # used in _SHELL_analyze_leave_one_out_decoding_results\n",
    "from pyphoplacecellanalysis.SpecificResults.PhoDiba2023Paper import pho_stats_paired_t_test\n",
    "from pyphoplacecellanalysis.General.Pipeline.Stages.ComputationFunctions.MultiContextComputationFunctions.DirectionalPlacefieldGlobalComputationFunctions import TrackTemplates\n",
    "from pyphoplacecellanalysis.General.Pipeline.Stages.ComputationFunctions.MultiContextComputationFunctions.RankOrderComputations import RankOrderComputationsContainer, RankOrderResult\n",
    "\n",
    "# minimum_inclusion_fr_Hz: float = 2.0\n",
    "rank_order_results: RankOrderComputationsContainer = curr_active_pipeline.global_computation_results.computed_data['RankOrder']\n",
    "minimum_inclusion_fr_Hz: float = rank_order_results.minimum_inclusion_fr_Hz\n",
    "\n",
    "# Recover from the saved global result:\n",
    "directional_laps_results = curr_active_pipeline.global_computation_results.computed_data['DirectionalLaps']\n",
    "# NEW 2023-11-22 method: Get the templates (which can be filtered by frate first) and the from those get the decoders):        \n",
    "# track_templates: TrackTemplates = directional_laps_results.get_shared_aclus_only_templates(minimum_inclusion_fr_Hz=minimum_inclusion_fr_Hz) # shared-only\n",
    "track_templates: TrackTemplates = directional_laps_results.get_templates(minimum_inclusion_fr_Hz=minimum_inclusion_fr_Hz) # non-shared-only\n",
    "long_LR_decoder, long_RL_decoder, short_LR_decoder, short_RL_decoder = track_templates.get_decoders()\n",
    "\n",
    "## Pre 2023-11-22 method: building a TrackTemplates object after getting the raw decoders:\n",
    "# long_LR_one_step_decoder_1D, long_RL_one_step_decoder_1D, short_LR_one_step_decoder_1D, short_RL_one_step_decoder_1D = directional_laps_results.get_decoders()\n",
    "# long_LR_decoder, long_RL_decoder, short_LR_decoder, short_RL_decoder = directional_laps_results.get_shared_aclus_only_decoders()\n",
    "# track_templates: TrackTemplates = TrackTemplates.init_from_paired_decoders(LR_decoder_pair=(long_LR_decoder, short_LR_decoder), RL_decoder_pair=(long_RL_decoder, short_RL_decoder))\n",
    "# # track_templates: TrackTemplates = TrackTemplates.init_from_paired_decoders(LR_decoder_pair=(long_LR_one_step_decoder_1D, short_LR_one_step_decoder_1D), RL_decoder_pair=(long_RL_one_step_decoder_1D, short_RL_one_step_decoder_1D)) # NOTE: now use the un-constrained versions\n",
    "\n",
    "# Unpack all directional variables:\n",
    "## {\"even\": \"RL\", \"odd\": \"LR\"}\n",
    "long_LR_name, short_LR_name, global_LR_name, long_RL_name, short_RL_name, global_RL_name, long_any_name, short_any_name, global_any_name = ['maze1_odd', 'maze2_odd', 'maze_odd', 'maze1_even', 'maze2_even', 'maze_even', 'maze1_any', 'maze2_any', 'maze_any']\n",
    "# Unpacking for `(long_LR_name, long_RL_name, short_LR_name, short_RL_name)`\n",
    "(long_LR_context, long_RL_context, short_LR_context, short_RL_context) = [curr_active_pipeline.filtered_contexts[a_name] for a_name in (long_LR_name, long_RL_name, short_LR_name, short_RL_name)]\n",
    "long_LR_epochs_obj, long_RL_epochs_obj, short_LR_epochs_obj, short_RL_epochs_obj, global_any_laps_epochs_obj = [curr_active_pipeline.computation_results[an_epoch_name].computation_config.pf_params.computation_epochs for an_epoch_name in (long_LR_name, long_RL_name, short_LR_name, short_RL_name, global_any_name)] # note has global also\n",
    "(long_LR_session, long_RL_session, short_LR_session, short_RL_session) = [curr_active_pipeline.filtered_sessions[an_epoch_name] for an_epoch_name in (long_LR_name, long_RL_name, short_LR_name, short_RL_name)] # sessions are correct at least, seems like just the computation parameters are messed up\n",
    "(long_LR_results, long_RL_results, short_LR_results, short_RL_results) = [curr_active_pipeline.computation_results[an_epoch_name].computed_data for an_epoch_name in (long_LR_name, long_RL_name, short_LR_name, short_RL_name)]\n",
    "(long_LR_computation_config, long_RL_computation_config, short_LR_computation_config, short_RL_computation_config) = [curr_active_pipeline.computation_results[an_epoch_name].computation_config for an_epoch_name in (long_LR_name, long_RL_name, short_LR_name, short_RL_name)]\n",
    "(long_LR_pf1D, long_RL_pf1D, short_LR_pf1D, short_RL_pf1D) = (long_LR_results.pf1D, long_RL_results.pf1D, short_LR_results.pf1D, short_RL_results.pf1D)\n",
    "(long_LR_pf2D, long_RL_pf2D, short_LR_pf2D, short_RL_pf2D) = (long_LR_results.pf2D, long_RL_results.pf2D, short_LR_results.pf2D, short_RL_results.pf2D)\n",
    "(long_LR_pf1D_Decoder, long_RL_pf1D_Decoder, short_LR_pf1D_Decoder, short_RL_pf1D_Decoder) = (long_LR_results.pf1D_Decoder, long_RL_results.pf1D_Decoder, short_LR_results.pf1D_Decoder, short_RL_results.pf1D_Decoder)\n",
    "\n",
    "LR_results_real_values = np.array([(long_stats_z_scorer.real_value, short_stats_z_scorer.real_value) for epoch_id, (long_stats_z_scorer, short_stats_z_scorer, long_short_z_diff, long_short_naive_z_diff, is_forward_replay) in rank_order_results.LR_ripple.ranked_aclus_stats_dict.items()])\n",
    "RL_results_real_values = np.array([(long_stats_z_scorer.real_value, short_stats_z_scorer.real_value) for epoch_id, (long_stats_z_scorer, short_stats_z_scorer, long_short_z_diff, long_short_naive_z_diff, is_forward_replay) in rank_order_results.RL_ripple.ranked_aclus_stats_dict.items()])\n",
    "\n",
    "LR_results_long_short_z_diffs = np.array([long_short_z_diff for epoch_id, (long_stats_z_scorer, short_stats_z_scorer, long_short_z_diff, long_short_naive_z_diff, is_forward_replay) in rank_order_results.LR_ripple.ranked_aclus_stats_dict.items()])\n",
    "RL_results_long_short_z_diff = np.array([long_short_z_diff for epoch_id, (long_stats_z_scorer, short_stats_z_scorer, long_short_z_diff, long_short_naive_z_diff, is_forward_replay) in rank_order_results.RL_ripple.ranked_aclus_stats_dict.items()])\n",
    "\n",
    "\n",
    "# LR_results_real_values"
   ]
  },
  {
   "cell_type": "code",
   "execution_count": null,
   "id": "a383a58b",
   "metadata": {},
   "outputs": [],
   "source": [
    "rank_order_results.LR_laps.spikes_df\n",
    "\n",
    "track_templates.filtered_by_frate(minimum_inclusion_fr_Hz=10.0)\n"
   ]
  },
  {
   "cell_type": "code",
   "execution_count": null,
   "id": "71203955",
   "metadata": {},
   "outputs": [],
   "source": [
    "from neuropy.core.neuron_identities import NeuronType\n",
    "\n",
    "def determine_good_aclus_by_qclu(curr_active_pipeline, included_qclu_values=[1,2,4,9]):\n",
    "\t\"\"\" \n",
    "\tFrom all neuron_IDs in the session, get the ones that meet the new qclu criteria (their value is in) `included_qclu_values`\n",
    "\t\n",
    "\tincluded_aclus = determine_good_aclus_by_qclu(curr_active_pipeline, included_qclu_values=[1,2,4,9])\n",
    "\tincluded_aclus\n",
    "\n",
    "\t\"\"\"\n",
    "\tfrom neuropy.core.neuron_identities import NeuronType\n",
    "\t\n",
    "\tneuron_identities: pd.DataFrame = curr_active_pipeline.get_session_unique_aclu_information()\n",
    "\tprint(f\"original {len(neuron_identities)}\")\n",
    "\tfiltered_neuron_identities: pd.DataFrame = neuron_identities[neuron_identities.neuron_type == NeuronType.PYRAMIDAL]\n",
    "\tprint(f\"post PYRAMIDAL filtering {len(filtered_neuron_identities)}\")\n",
    "\tfiltered_neuron_identities = filtered_neuron_identities[['aclu', 'shank', 'cluster', 'qclu']]\n",
    "\tfiltered_neuron_identities = filtered_neuron_identities[np.isin(filtered_neuron_identities.qclu, included_qclu_values)] # drop [6, 7], which are said to have double fields - 80 remain\n",
    "\tprint(f\"post (qclu != [6, 7]) filtering {len(filtered_neuron_identities)}\")\n",
    "\treturn filtered_neuron_identities.aclu.to_numpy()\n",
    "\n",
    "\n",
    "included_aclus = determine_good_aclus_by_qclu(curr_active_pipeline, included_qclu_values=[1,2,4,9])\n",
    "included_aclus\n",
    "\n",
    "track_templates.fi\n"
   ]
  },
  {
   "cell_type": "code",
   "execution_count": null,
   "id": "af7c59b8",
   "metadata": {},
   "outputs": [],
   "source": [
    "\n",
    "\n",
    "track_templates.shared_LR_aclus_only_neuron_IDs\n",
    "track_templates.shared_RL_aclus_only_neuron_IDs"
   ]
  },
  {
   "cell_type": "code",
   "execution_count": null,
   "id": "eaee5744",
   "metadata": {},
   "outputs": [],
   "source": [
    "track_templates.long_LR_decoder.neuron_IDs\n",
    "ratemap = track_templates.long_LR_decoder.ratemap\n",
    "# ratemap.neuron_extended_ids\n",
    "\n",
    "track_templates.long_LR_decoder.spikes_df"
   ]
  },
  {
   "cell_type": "code",
   "execution_count": null,
   "id": "659d5e5e",
   "metadata": {},
   "outputs": [],
   "source": [
    "track_templates.shared_LR_aclus_only_neuron_IDs"
   ]
  },
  {
   "cell_type": "code",
   "execution_count": null,
   "id": "64c66001",
   "metadata": {},
   "outputs": [],
   "source": [
    "LR_results_long_short_z_diffs"
   ]
  },
  {
   "cell_type": "code",
   "execution_count": null,
   "id": "3ebb454c",
   "metadata": {},
   "outputs": [],
   "source": [
    "# Plot histograms:\n",
    "\n",
    "def plot_rank_order_histograms(number_of_bins: int = 21):\n",
    "    \"\"\" plots 1D histograms from the rank-order shuffled data during the ripples. \n",
    "    \n",
    "    https://pandas.pydata.org/pandas-docs/version/0.24.1/user_guide/visualization.html\n",
    "    \n",
    "    Captures: rank_order_results, minimum_inclusion_fr_Hz, curr_active_pipeline.get_session_context().get_description()\n",
    "    \n",
    "    \"\"\"\n",
    "    \n",
    "    # fig = build_or_reuse_figure(fignum=f'1D Histograms')\n",
    "    # ax1 = fig.add_subplot(3, 1, 1)\n",
    "    # ax2 = fig.add_subplot(3, 1, 2)\n",
    "    # ax3 = fig.add_subplot(3, 1, 3)\n",
    "\n",
    "    ax1, ax2, ax3 = None, None, None\n",
    "    _out_z_score = pd.DataFrame({'LR_long_z_scores': rank_order_results.LR_ripple.long_z_score, 'LR_short_z_scores': rank_order_results.LR_ripple.short_z_score,\n",
    "              'RL_long_z_scores': rank_order_results.RL_ripple.long_z_score, 'RL_short_z_scores': rank_order_results.RL_ripple.short_z_score}).hist(bins=number_of_bins, ax=ax1, sharex=True, sharey=True)\n",
    "    plt.suptitle(f'Ripple Z-scores: {minimum_inclusion_fr_Hz} Hz\\n{curr_active_pipeline.get_session_context().get_description()}')\n",
    "\n",
    "    _out_real = pd.DataFrame({'LR_long_real_corr': np.squeeze(LR_results_real_values[:,0]), 'LR_short_real_corr': np.squeeze(LR_results_real_values[:,1]),\n",
    "              'RL_long_real_corr': np.squeeze(RL_results_real_values[:,0]), 'RL_short_real_corr': np.squeeze(RL_results_real_values[:,1])}).hist(bins=number_of_bins, ax=ax2, sharex=True, sharey=True)\n",
    "    plt.suptitle(f'Ripple real correlations: {minimum_inclusion_fr_Hz} Hz\\n{curr_active_pipeline.get_session_context().get_description()}')\n",
    "\n",
    "    _out_most_likely_z = pd.DataFrame({'most_likely_long_z_scores': rank_order_results.ripple_most_likely_result_tuple.long_best_dir_z_score_values, 'most_likely_short_z_scores': rank_order_results.ripple_most_likely_result_tuple.short_best_dir_z_score_values}).hist(bins=number_of_bins, ax=ax3, sharex=True, sharey=True)\n",
    "    plt.suptitle(f'Ripple Most-likely z-scores: {minimum_inclusion_fr_Hz} Hz\\n{curr_active_pipeline.get_session_context().get_description()}')\n",
    "\n",
    "    return _out_z_score, _out_real, _out_most_likely_z\n",
    "\n",
    "_out_z_score, _out_real, _out_most_likely_z = plot_rank_order_histograms()\n"
   ]
  },
  {
   "cell_type": "code",
   "execution_count": null,
   "id": "56890830",
   "metadata": {},
   "outputs": [],
   "source": [
    "win = pg.GraphicsLayoutWidget(show=True)\n",
    "win.resize(800,350)\n",
    "win.setWindowTitle('Pho pyqtgraph marginal histogram testing')\n",
    "plt1 = win.addPlot()\n",
    "plt2 = win.addPlot()\n",
    "\n",
    "## compute standard histogram\n",
    "number_of_bins: int = 21\n",
    "vals = deepcopy(LR_results_long_short_z_diffs)\n",
    "# y,x = np.histogram(vals, bins=np.linspace(-3, 8, 40))\n",
    "\n",
    "y,x = np.histogram(vals, bins=number_of_bins)\n",
    "\n",
    "# plt1.plot(vals, y, pen=None, symbol='o', symbolSize=5, symbolPen=(255,255,255,200), symbolBrush=(0,0,255,150))\n",
    "\n",
    "## Using stepMode=\"center\" causes the plot to draw two lines for each sample.\n",
    "## notice that len(x) == len(y)+1\n",
    "plt1.plot(x, y, stepMode=\"center\", fillLevel=0, fillOutline=True, brush=(0,0,255,150))"
   ]
  },
  {
   "cell_type": "code",
   "execution_count": null,
   "id": "3f150d13",
   "metadata": {},
   "outputs": [],
   "source": [
    "# Compute the histogram\n",
    "hist, bins = np.histogram(y, bins='auto')\n",
    "\n",
    "# Create a new axis\n",
    "axis = pg.AxisItem('right')\n",
    "plot.layout.addItem(axis, 2, 1)\n",
    "axis.linkToView(plot.getViewBox())\n",
    "\n",
    "# Create a bar graph item\n",
    "hist_plot = pg.BarGraphItem(x=bins[:-1], height=hist, width=np.diff(bins), brush='r')\n",
    "plot.addItem(hist_plot)"
   ]
  },
  {
   "cell_type": "code",
   "execution_count": null,
   "id": "d9036d3a",
   "metadata": {},
   "outputs": [],
   "source": [
    "\n",
    "curr_active_pipeline.get_session_context().get_description()\n"
   ]
  },
  {
   "cell_type": "code",
   "execution_count": null,
   "id": "59639f2d",
   "metadata": {},
   "outputs": [],
   "source": [
    "from qtpy import QtGui # for QColor\n",
    "from qtpy.QtGui import QColor, QBrush, QPen\n",
    "from pyphocorehelpers.gui.Qt.color_helpers import ColorFormatConverter\n",
    "from pyphoplacecellanalysis.General.Mixins.DataSeriesColorHelpers import DataSeriesColorHelpers\n",
    "\n",
    "[ColorFormatConverter.qColor_to_hexstring(a_qcolor, include_alpha=False) for a_qcolor in RL_unit_colors_list]\n",
    "\n",
    "['#ff9d47', '#fdab39', '#fcb82b', '#fac61c', '#f9d30e', '#f7e100', '#e9dd00', '#dcda00', '#ced600', '#c1d300', '#b3cf00', '#95cc0c', '#77ca17', '#5ac723', '#3cc52e', '#1ec23a', '#18bb53', '#12b46b', '#0cae84', '#06a79c', '#00a0b5', '#0698c4', '#0c90d3', '#1388e1', '#1980f0', '#1f78ff', '#3a6fff', '#5567ff', '#6f5eff', '#8a56ff', '#a54dff', '#b146ee', '#bd40dc', '#ca39cb', '#d633b9', '#e22ca8', '#e8348f', '#ee3c76', '#f3435d', '#f94b44', '#ff532b', '#ff6231', '#ff7136', '#ff7f3c', '#ff8e41', '#ff9d47']\n",
    "\n",
    "\n",
    "render_colors([ColorFormatConverter.qColor_to_hexstring(a_qcolor, include_alpha=False) for a_qcolor in RL_unit_colors_list])"
   ]
  },
  {
   "cell_type": "code",
   "execution_count": null,
   "id": "c33ed6d2",
   "metadata": {},
   "outputs": [],
   "source": [
    "# filtered_decoder_list = [filtered_by_frate(a_decoder, minimum_inclusion_fr_Hz=minimum_inclusion_fr_Hz, debug_print=True) for a_decoder in (long_LR_one_step_decoder_1D, long_RL_one_step_decoder_1D, short_LR_one_step_decoder_1D, short_RL_one_step_decoder_1D)]\n",
    "original_neuron_ids_list = [a_decoder.pf.ratemap.neuron_ids for a_decoder in (long_LR_decoder, long_RL_decoder, short_LR_decoder, short_RL_decoder)]\n",
    "is_aclu_included_list = [a_decoder.pf.ratemap.tuning_curve_unsmoothed_peak_firing_rates >= minimum_inclusion_fr_Hz for a_decoder in (long_LR_decoder, long_RL_decoder, short_LR_decoder, short_RL_decoder)]\n",
    "filtered_aclus_list = [np.array(a_decoder.pf.ratemap.neuron_ids)[a_decoder.pf.ratemap.tuning_curve_unsmoothed_peak_firing_rates >= minimum_inclusion_fr_Hz] for a_decoder in (long_LR_decoder, long_RL_decoder, short_LR_decoder, short_RL_decoder)]\n",
    "\n",
    "## For a given run direction (LR/RL) let's require inclusion in either (OR) long v. short to be included.\n",
    "filtered_included_LR_aclus = np.union1d(filtered_aclus_list[0], filtered_aclus_list[2])\n",
    "filtered_included_RL_aclus = np.union1d(filtered_aclus_list[1], filtered_aclus_list[3])\n",
    "# build the final shared aclus:\n",
    "filtered_direction_shared_aclus_list = [filtered_included_LR_aclus, filtered_included_RL_aclus, filtered_included_LR_aclus, filtered_included_RL_aclus] # contains the shared aclus for that direction\n",
    "# rebuild the is_aclu_included_list from the shared aclus\n",
    "is_aclu_included_list = [np.isin(an_original_neuron_ids, a_filtered_neuron_ids) for an_original_neuron_ids, a_filtered_neuron_ids in zip(original_neuron_ids_list, filtered_direction_shared_aclus_list)]\n",
    "\n",
    "# is_aclu_included_list[0]\n",
    "filtered_direction_shared_aclus_list"
   ]
  },
  {
   "cell_type": "code",
   "execution_count": null,
   "id": "017813cc",
   "metadata": {},
   "outputs": [],
   "source": [
    "# # for 5Hz:\n",
    "# [array([  5,   7,  31,  39,  41,  45,  46,  48,  50,  55,  61,  62,  64,  69,  72,  75,  76,  78,  79,  83,  84,  86,  88,  90,  91,  92,  95,  99, 100, 108]),\n",
    "#  array([  5,   7,   9,  31,  32,  39,  41,  45,  46,  48,  50,  55,  61,  62,  64,  69,  72,  75,  76,  78,  79,  83,  84,  86,  88,  90,  91,  92,  93,  95,  99, 101, 108]),\n",
    "#  array([  5,   7,  31,  39,  41,  45,  46,  48,  50,  55,  61,  62,  64,  69,  72,  75,  76,  78,  79,  83,  84,  86,  88,  90,  91,  92,  95,  99, 100, 108]),\n",
    "#  array([  5,   7,   9,  31,  32,  39,  41,  45,  46,  48,  50,  55,  61,  62,  64,  69,  72,  75,  76,  78,  79,  83,  84,  86,  88,  90,  91,  92,  93,  95,  99, 101, 108])]\n",
    "\n",
    "# # for 20Hz:\n",
    "# [array([  5,  41,  46,  48,  69,  78,  79,  83,  86,  88,  90, 108]),\n",
    "#  array([ 62,  64,  75,  78,  83,  91, 101]),\n",
    "#  array([  5,  41,  46,  48,  69,  78,  79,  83,  86,  88,  90, 108]),\n",
    "#  array([ 62,  64,  75,  78,  83,  91, 101])]"
   ]
  },
  {
   "cell_type": "markdown",
   "id": "f6ccfe1f",
   "metadata": {},
   "source": [
    "# 2023-11-22 - RECOMPUTE"
   ]
  },
  {
   "cell_type": "code",
   "execution_count": 11,
   "id": "c22e7090",
   "metadata": {},
   "outputs": [
    {
     "name": "stdout",
     "output_type": "stream",
     "text": [
      "build_global_directional_result_from_natural_epochs(...): was_modified: False\n",
      "n_neurons: 45, shared_aclus: [  5   7   9  31  32  36  38  39  41  45  46  48  50  51  53  55  57  59  61  62  63  64  69  72  75  76  78  79  81  83  84  86  88  89  90  91  92  93  95  98  99 100 101 102 108]\n",
      "perform_rank_order_shuffle_analysis(..., num_shuffles=1000)\n",
      "\tcomputing Ripple rank-order shuffles:\n"
     ]
    }
   ],
   "source": [
    "from pyphoplacecellanalysis.General.Pipeline.Stages.ComputationFunctions.MultiContextComputationFunctions.DirectionalPlacefieldGlobalComputationFunctions import DirectionalLapsHelpers\n",
    "from pyphoplacecellanalysis.General.Pipeline.Stages.ComputationFunctions.MultiContextComputationFunctions.RankOrderComputations import RankOrderGlobalComputationFunctions\n",
    "\n",
    "curr_active_pipeline.reload_default_computation_functions()\n",
    "\n",
    "## clear the old values to prepare for the new ones:\n",
    "curr_active_pipeline.global_computation_results.computed_data['DirectionalLaps'] = None\n",
    "curr_active_pipeline.global_computation_results.computed_data['RankOrder'] = None\n",
    "del curr_active_pipeline.global_computation_results.computed_data['DirectionalLaps']\n",
    "del curr_active_pipeline.global_computation_results.computed_data['RankOrder']\n",
    "\n",
    "curr_active_pipeline.global_computation_results.computed_data['DirectionalLaps'] = DirectionalLapsHelpers.build_global_directional_result_from_natural_epochs(curr_active_pipeline, progress_print=True) # repalce the directional laps object\n",
    "\n",
    "\n",
    "minimum_inclusion_fr_Hz = 2.0\n",
    "\n",
    "# perform_rank_order_shuffle_analysis\n",
    "# with VizTracer(output_file=f\"viztracer_{get_now_time_str()}-perform_rank_order_shuffle_analysis_{curr_active_pipeline.session_name}.json\", min_duration=200, tracer_entries=3000000, ignore_frozen=True) as tracer:\n",
    "RankOrderGlobalComputationFunctions.perform_rank_order_shuffle_analysis(curr_active_pipeline, curr_active_pipeline.global_computation_results, None, None, include_includelist=None, debug_print=False,\n",
    "                                                                        num_shuffles=1000, minimum_inclusion_fr_Hz=minimum_inclusion_fr_Hz, skip_laps=True)\n",
    "\n",
    "\n",
    "# 10m 29.5s for 1000 shuffles.  c:\\Users\\pho\\repos\\Spike3DWorkEnv\\Spike3D\\viztracer_2023-11-22_16-11-perform_rank_order_shuffle_analysis.json\n",
    "\n",
    "# 3m 33.9s - 500\n",
    "# 3m 26.4s - 1000"
   ]
  },
  {
   "cell_type": "markdown",
   "id": "426c292d",
   "metadata": {},
   "source": [
    "\n",
    "\n",
    "\n",
    "\n",
    "# Saving/Loading `DirectionalLaps_2Hz`"
   ]
  },
  {
   "cell_type": "code",
   "execution_count": null,
   "id": "fb8cd6c4",
   "metadata": {},
   "outputs": [],
   "source": [
    "# 2023-11-27 - I'd like to be able to save/load single results a time, (meaning specific to their parameters):\n",
    "\n",
    "from pyphoplacecellanalysis.General.Pipeline.Stages.Loading import saveData\n",
    "\n",
    "# list = ['2Hz', '12Hz']\n",
    "\n",
    "day_date_str: str = '2023-12-08_'\n",
    "directional_laps_output_path = curr_active_pipeline.get_output_path().joinpath(f'{day_date_str}DirectionalLaps_2Hz.pkl').resolve()\n",
    "saveData(directional_laps_output_path, (curr_active_pipeline.global_computation_results.computed_data['DirectionalLaps'], curr_active_pipeline.global_computation_results.computed_data['RankOrder']))"
   ]
  },
  {
   "cell_type": "code",
   "execution_count": null,
   "id": "d2230163",
   "metadata": {},
   "outputs": [],
   "source": [
    "from pyphoplacecellanalysis.General.Pipeline.Stages.Loading import loadData\n",
    "\n",
    "\n",
    "# Load the data from a file into the pipeline:\n",
    "day_date_str: str = '2023-12-08_'\n",
    "# day_date_str: str = ''\n",
    "directional_laps_output_path = curr_active_pipeline.get_output_path().joinpath(f'{day_date_str}DirectionalLaps_2Hz.pkl').resolve()\n",
    "assert directional_laps_output_path.exists()\n",
    "loaded_directional_laps, loaded_rank_order = loadData(directional_laps_output_path)\n",
    "assert (loaded_directional_laps is not None)\n",
    "assert (loaded_rank_order is not None)\n",
    "# Apply the loaded data to the pipeline:\n",
    "curr_active_pipeline.global_computation_results.computed_data['DirectionalLaps'], curr_active_pipeline.global_computation_results.computed_data['RankOrder'] = loaded_directional_laps, loaded_rank_order\n",
    "curr_active_pipeline.global_computation_results.computed_data['RankOrder']"
   ]
  },
  {
   "cell_type": "markdown",
   "id": "f4ec24467335a760",
   "metadata": {},
   "source": [
    "# POST-Compute:"
   ]
  },
  {
   "cell_type": "code",
   "execution_count": null,
   "id": "728c46e6",
   "metadata": {
    "notebookRunGroups": {
     "groupValue": "21"
    }
   },
   "outputs": [],
   "source": [
    "from pyphoplacecellanalysis.General.Pipeline.Stages.ComputationFunctions.MultiContextComputationFunctions.DirectionalPlacefieldGlobalComputationFunctions import DirectionalPlacefieldGlobalDisplayFunctions\n",
    "from pyphoplacecellanalysis.General.Pipeline.Stages.DisplayFunctions.SpikeRasters import plot_multi_sort_raster_browser\n",
    "from pyphoplacecellanalysis.GUI.PyQtPlot.Widgets.ContainerBased.RankOrderRastersDebugger import RankOrderRastersDebugger\n",
    "\n",
    "from pyphoplacecellanalysis.General.Pipeline.Stages.DisplayFunctions.SpikeRasters import paired_separately_sort_neurons, paired_incremental_sort_neurons # _display_directional_template_debugger\n",
    "from neuropy.utils.indexing_helpers import paired_incremental_sorting, union_of_arrays, intersection_of_arrays, find_desired_sort_indicies\n",
    "from pyphoplacecellanalysis.GUI.Qt.Widgets.ScrollBarWithSpinBox.ScrollBarWithSpinBox import ScrollBarWithSpinBox\n",
    "\n",
    "# pg.setConfigOption('background', 'w')\n",
    "# pg.setConfigOption('foreground', 'k')\n",
    "\n",
    "spikes_df = curr_active_pipeline.sess.spikes_df\n",
    "rank_order_results: RankOrderComputationsContainer = curr_active_pipeline.global_computation_results.computed_data['RankOrder']\n",
    "minimum_inclusion_fr_Hz: float = rank_order_results.minimum_inclusion_fr_Hz\n",
    "ripple_result_tuple, laps_result_tuple = rank_order_results.ripple_most_likely_result_tuple, rank_order_results.laps_most_likely_result_tuple\n",
    "directional_laps_results = curr_active_pipeline.global_computation_results.computed_data['DirectionalLaps']\n",
    "track_templates: TrackTemplates = directional_laps_results.get_templates(minimum_inclusion_fr_Hz=minimum_inclusion_fr_Hz) # non-shared-only -- !! Is minimum_inclusion_fr_Hz=None the issue/difference?\n",
    "print(f'minimum_inclusion_fr_Hz: {minimum_inclusion_fr_Hz}')\n",
    "ripple_result_tuple\n"
   ]
  },
  {
   "cell_type": "code",
   "execution_count": null,
   "id": "46a722e2",
   "metadata": {},
   "outputs": [],
   "source": [
    "rank_order_results.LR_laps.long_z_score"
   ]
  },
  {
   "cell_type": "code",
   "execution_count": null,
   "id": "7dfbe341",
   "metadata": {},
   "outputs": [],
   "source": [
    "# Find only the significant events (|z| > 1.96):\n",
    "from pyphoplacecellanalysis.General.Pipeline.Stages.ComputationFunctions.MultiContextComputationFunctions.RankOrderComputations import RankOrderAnalyses\n",
    "\n",
    "filtered_z_score_df, (n_events, n_significant_events, percent_significant_events) = RankOrderAnalyses.find_only_significant_events(rank_order_results, high_z_criteria=1.96)\n",
    "filtered_z_score_df"
   ]
  },
  {
   "cell_type": "code",
   "execution_count": null,
   "id": "86532662",
   "metadata": {},
   "outputs": [],
   "source": [
    "# 2023-11-20 - Finding high-significance periods for Kamran:\n",
    "z_threshold = 1.96\n",
    "is_greater_than_z_threshold_long = (np.abs(ripple_result_tuple.long_best_dir_z_score_values) > z_threshold)\n",
    "is_greater_than_z_threshold_short = (np.abs(ripple_result_tuple.short_best_dir_z_score_values) > z_threshold)\n",
    "is_significant_either = np.logical_or(is_greater_than_z_threshold_long, is_greater_than_z_threshold_short)\n",
    "\n",
    "# is_greater_than_3std_long = (np.abs(ripple_result_tuple.long_best_dir_z_score_values) >= 3.0)\n",
    "# is_greater_than_3std_short = (np.abs(ripple_result_tuple.short_best_dir_z_score_values) >= 3.0)\n",
    "# is_significant_either = np.logical_or(is_greater_than_3std_long, is_greater_than_3std_short)\n",
    "\n",
    "significant_ripple_epochs = deepcopy(global_replays).boolean_indicies_slice(is_significant_either)\n",
    "significant_ripple_epochs.to_dataframe()\n",
    "\n",
    "# significant_ripple_epochs.filename = Path(f'output/2023-11-27_SignificantReplayRipples').resolve()\n",
    "# significant_ripple_epochs.to_neuroscope()\n"
   ]
  },
  {
   "cell_type": "code",
   "execution_count": null,
   "id": "6a8beece",
   "metadata": {},
   "outputs": [],
   "source": []
  },
  {
   "cell_type": "code",
   "execution_count": null,
   "id": "6616af69",
   "metadata": {
    "notebookRunGroups": {
     "groupValue": "2"
    }
   },
   "outputs": [],
   "source": [
    "curr_active_pipeline.reload_default_display_functions()\n",
    "\n",
    "## RankOrderRastersDebugger: \n",
    "_out_rank_order_event_raster_debugger = RankOrderRastersDebugger.init_rank_order_debugger(spikes_df, ripple_result_tuple.active_epochs, track_templates, rank_order_results.RL_ripple.selected_spikes_fragile_linear_neuron_IDX_dict, rank_order_results.LR_ripple.selected_spikes_fragile_linear_neuron_IDX_dict)"
   ]
  },
  {
   "cell_type": "markdown",
   "id": "aac746d8",
   "metadata": {},
   "source": [
    "## Connects TemplatesDebugger to RasterDebugger"
   ]
  },
  {
   "cell_type": "code",
   "execution_count": null,
   "id": "bdc4e5be",
   "metadata": {
    "notebookRunGroups": {
     "groupValue": ""
    }
   },
   "outputs": [],
   "source": [
    "from pyphocorehelpers.print_helpers import generate_html_string\n",
    "\n",
    "## Unpacks `rank_order_results`: \n",
    "spikes_df = curr_active_pipeline.sess.spikes_df\n",
    "global_replays = Epoch(deepcopy(curr_active_pipeline.filtered_sessions[global_epoch_name].replay))\n",
    "# global_replays.filename = Path('output/2023-11-16_phoEvents.mew.evt').resolve()\n",
    "# global_replays.to_neuroscope()\n",
    "\n",
    "rank_order_results: RankOrderComputationsContainer = curr_active_pipeline.global_computation_results.computed_data['RankOrder']\n",
    "ripple_result_tuple, laps_result_tuple = rank_order_results.ripple_most_likely_result_tuple, rank_order_results.laps_most_likely_result_tuple\n",
    "\n",
    "# Extract the real spearman-values/p-values:\n",
    "LR_long_relative_real_p_values = np.array([x[0].real_p_value for x in rank_order_results.LR_ripple.ranked_aclus_stats_dict.values()])\n",
    "LR_long_relative_real_values = np.array([x[0].real_value for x in rank_order_results.LR_ripple.ranked_aclus_stats_dict.values()])\n",
    "\n",
    "LR_short_relative_real_p_values = np.array([x[1].real_p_value for x in rank_order_results.LR_ripple.ranked_aclus_stats_dict.values()])\n",
    "LR_short_relative_real_values = np.array([x[1].real_value for x in rank_order_results.LR_ripple.ranked_aclus_stats_dict.values()])\n",
    "\n",
    "LR_template_epoch_actually_included_aclus = [v[1] for v in rank_order_results.LR_ripple.extra_info_dict.values()] # (template_epoch_neuron_IDXs, template_epoch_actually_included_aclus, epoch_neuron_IDX_ranks)\n",
    "LR_relative_num_cells = np.array([len(v[1]) for v in rank_order_results.LR_ripple.extra_info_dict.values()])\n",
    "\n",
    "RL_long_relative_real_p_values = np.array([x[0].real_p_value for x in rank_order_results.RL_ripple.ranked_aclus_stats_dict.values()])\n",
    "RL_long_relative_real_values = np.array([x[0].real_value for x in rank_order_results.RL_ripple.ranked_aclus_stats_dict.values()])\n",
    "\n",
    "RL_short_relative_real_p_values = np.array([x[1].real_p_value for x in rank_order_results.RL_ripple.ranked_aclus_stats_dict.values()])\n",
    "RL_short_relative_real_values = np.array([x[1].real_value for x in rank_order_results.RL_ripple.ranked_aclus_stats_dict.values()])\n",
    "\n",
    "RL_template_epoch_actually_included_aclus = [v[1] for v in rank_order_results.RL_ripple.extra_info_dict.values()] # (template_epoch_neuron_IDXs, template_epoch_actually_included_aclus, epoch_neuron_IDX_ranks)\n",
    "RL_relative_num_cells = np.array([len(v[1]) for v in rank_order_results.RL_ripple.extra_info_dict.values()])\n",
    "\n",
    "# LR_relative_num_cells = np.array([len(x) for x in rank_order_results.LR_ripple.selected_spikes_fragile_linear_neuron_IDX_dict.values()])\n",
    "# RL_relative_num_cells = np.array([len(x) for x in rank_order_results.RL_ripple.selected_spikes_fragile_linear_neuron_IDX_dict.values()])\n",
    "\n",
    "rank_order_results_debug_values = dict(zip(('long_LR', 'long_RL', 'short_LR', 'short_RL'), ([LR_long_relative_real_values, LR_long_relative_real_p_values], [RL_long_relative_real_values, RL_long_relative_real_p_values], [LR_short_relative_real_values, LR_short_relative_real_p_values], [RL_short_relative_real_values, RL_short_relative_real_p_values])))\n",
    "\n",
    "def debug_update_plot_titles(a_plotter, an_idx: int):\n",
    "\t\"\"\" Updates the titles of each of the four rasters with the appropriate spearman rho value.\n",
    "\tcaptures: rank_order_results_debug_values, \n",
    "\t\"\"\"\n",
    "\tfor a_decoder_name, a_root_plot in a_plotter.plots.root_plots.items():\n",
    "\t\ta_real_value = rank_order_results_debug_values[a_decoder_name][0][an_idx]\n",
    "\t\tprint(f'a_decoder_name: {a_decoder_name}, a_real_value: {a_real_value:0.3f}')\n",
    "\t\treal_value_str = generate_html_string(f'{a_real_value:0.3f}', color='white', bold=True)\n",
    "\t\t# j_str = generate_html_string('j', color='red', bold=True)\n",
    "\t\ttitle_str = generate_html_string(f'{a_decoder_name}: spearman: {real_value_str}')\n",
    "\t\ta_root_plot.setTitle(title=title_str)\n",
    "\n",
    "\n",
    "def debug_update_long_short_info_titles(a_plotter, an_idx: int):\n",
    "\t\"\"\" Updates the titles of each of the four rasters with the appropriate spearman rho value.\n",
    "\tcaptures: ripple_result_tuple, \n",
    "\t\"\"\"\n",
    "\thas_long_short_info_labels = (hasattr(a_plotter.ui, 'long_info_label') and hasattr(a_plotter.ui, 'short_info_label'))\n",
    "\tif has_long_short_info_labels:\n",
    "\t\tlong_best_dir_z_score_value_str = generate_html_string(f'{float(ripple_result_tuple.long_best_dir_z_score_values[an_idx]):0.3f}', color='black', bold=True)\n",
    "\t\tshort_best_dir_z_score_value_str = generate_html_string(f'{float(ripple_result_tuple.short_best_dir_z_score_values[an_idx]):0.3f}', color='black', bold=True)\n",
    "\t\t# j_str = generate_html_string('j', color='red', bold=True)\n",
    "\t\ta_plotter.ui.long_info_label.setText(generate_html_string(f'LONG best_dir_z_score_value: {long_best_dir_z_score_value_str}'))\n",
    "\t\ta_plotter.ui.short_info_label.setText(generate_html_string(f'SHORT best_dir_z_score_value: {short_best_dir_z_score_value_str}'))\n",
    "\telse:\n",
    "\t\tprint(f'WARN: debug_update_long_short_info_titles(...) but plotter does not have the `a_plotter.ui.long_info_label`')\n",
    "\t\t\n",
    "\n",
    "\n",
    "curr_active_pipeline.reload_default_display_functions()\n",
    "# epoch_active_aclus = np.array([9,  26,  31,  39,  40,  43,  47,  52,  53,  54,  60,  61,  65,  68,  72,  75,  77,  78,  81,  82,  84,  85,  90,  92,  93,  98, 102]) # some test indicies\n",
    "epoch_active_aclus = None\n",
    "_out_directional_template_pfs_debugger = curr_active_pipeline.display(DirectionalPlacefieldGlobalDisplayFunctions._display_directional_template_debugger, included_any_context_neuron_ids=epoch_active_aclus, figure_name=f'<Controlled by RankOrderRastersDebugger>')\n",
    "\n",
    "\n",
    "def debug_update_paired_directional_template_pfs_debugger(a_plotter, an_idx: int):\n",
    "\t\"\"\" captures: _out_directional_template_pfs_debugger, \"\"\"\n",
    "\tepoch_active_aclus = deepcopy(a_plotter.get_epoch_active_aclus())\n",
    "\t# update the displayed cells:\n",
    "\tdirectional_template_pfs_debugger_on_update_callback = _out_directional_template_pfs_debugger.get('ui').on_update_callback\n",
    "\tdirectional_template_pfs_debugger_on_update_callback(epoch_active_aclus)\n",
    "\n",
    "\n",
    "\n",
    "\n",
    "import io\n",
    "from contextlib import redirect_stdout # used by DocumentationFilePrinter to capture print output\n",
    "\n",
    "def a_debug_callback_fn(a_plotter, an_idx: int):\n",
    "\tglobal epoch_active_aclus, _out_directional_template_pfs_debugger\n",
    "\tout = io.StringIO()\n",
    "\t# _out.on_update_epoch_IDX(an_idx)\n",
    "\twith redirect_stdout(out):\n",
    "\t\tprint(f'active_epoch_IDX: {an_idx}')\n",
    "\t\tprint(f'')\n",
    "\t\tprint(f'LR_long_relative_real_values[an_idx]: {LR_long_relative_real_values[an_idx]}, LR_long_relative_real_p_values[an_idx]: {LR_long_relative_real_p_values[an_idx]}')\n",
    "\t\tprint(f'LR_short_relative_real_values[an_idx]: {LR_short_relative_real_values[an_idx]}, LR_short_relative_real_p_values[an_idx]: {LR_short_relative_real_p_values[an_idx]}')\n",
    "\t\tprint(f'LR_ripple.long_z_score[an_idx]: {rank_order_results.LR_ripple.long_z_score[an_idx]}, LR_ripple.short_z_score[an_idx]: {rank_order_results.LR_ripple.short_z_score[an_idx]}')\n",
    "\t\tprint(f'RL_long_relative_real_values[an_idx]: {RL_long_relative_real_values[an_idx]}, RL_long_relative_real_p_values[an_idx]: {RL_long_relative_real_p_values[an_idx]}')\n",
    "\t\tprint(f'RL_short_relative_real_values[an_idx]: {RL_short_relative_real_values[an_idx]}, RL_short_relative_real_p_values[an_idx]: {RL_short_relative_real_p_values[an_idx]}')\n",
    "\t\tprint(f'RL_ripple.long_z_score[an_idx]: {rank_order_results.RL_ripple.long_z_score[an_idx]}, RL_ripple.short_z_score[an_idx]: {rank_order_results.RL_ripple.short_z_score[an_idx]}')\n",
    "\t\tprint(f'LR_relative_num_cells[an_idx]: {LR_relative_num_cells[an_idx]}, RL_relative_num_cells[an_idx]: {RL_relative_num_cells[an_idx]}')\n",
    "\t\tprint(f'LR_template_epoch_actually_included_aclus[an_idx]: {LR_template_epoch_actually_included_aclus[an_idx]}, RL_template_epoch_actually_included_aclus[an_idx]: {RL_template_epoch_actually_included_aclus[an_idx]}')\n",
    "\t\t# display(LR_template_epoch_actually_included_aclus[an_idx])\n",
    "\t\t# display(RL_template_epoch_actually_included_aclus[an_idx])\n",
    "\t\tepoch_active_aclus = np.sort(union_of_arrays(LR_template_epoch_actually_included_aclus[an_idx], RL_template_epoch_actually_included_aclus[an_idx]))\n",
    "\t\tprint(f'epoch_active_aclus: {epoch_active_aclus}')\n",
    "\t\t\n",
    "\ta_plotter.write_to_log(str(out.getvalue()))\n",
    "\t# # update the displayed cells:\n",
    "\t# directional_template_pfs_debugger_on_update_callback = _out_directional_template_pfs_debugger.get('ui').on_update_callback\n",
    "\t# directional_template_pfs_debugger_on_update_callback(epoch_active_aclus)\n",
    "\t# _out_directional_template_pfs_debugger = curr_active_pipeline.display(DirectionalPlacefieldGlobalDisplayFunctions._display_directional_template_debugger, included_any_context_neuron_ids=epoch_active_aclus)\n",
    "\t\n",
    "\t# rank_order_results.ripple_most_likely_result_tuple.long_short_best_dir_z_score_diff_values[an_idx]\n",
    "\t# display(LR_template_epoch_actually_included_aclus[an_idx])\n",
    "\t# display(RL_template_epoch_actually_included_aclus[an_idx])\n",
    "\n",
    "\n",
    "_out_rank_order_event_raster_debugger.on_idx_changed_callback_function_dict['a_debug_callback'] = a_debug_callback_fn\n",
    "_out_rank_order_event_raster_debugger.on_idx_changed_callback_function_dict['debug_update_plot_titles_callback'] = debug_update_plot_titles\n",
    "_out_rank_order_event_raster_debugger.on_idx_changed_callback_function_dict['debug_update_paired_directional_template_pfs_debugger'] = debug_update_paired_directional_template_pfs_debugger\n",
    "_out_rank_order_event_raster_debugger.on_idx_changed_callback_function_dict['debug_update_long_short_info_titles'] = debug_update_long_short_info_titles\n"
   ]
  },
  {
   "cell_type": "code",
   "execution_count": null,
   "id": "6c2c9ff4",
   "metadata": {},
   "outputs": [],
   "source": [
    "matplotlib.matplotlib_fname() # '/home/halechr/repos/Spike3D/.venv/lib/python3.9/site-packages/matplotlib/mpl-data/matplotlibrc'"
   ]
  },
  {
   "cell_type": "code",
   "execution_count": null,
   "id": "bcba29ed",
   "metadata": {},
   "outputs": [],
   "source": []
  },
  {
   "cell_type": "code",
   "execution_count": null,
   "id": "828a2ccf",
   "metadata": {},
   "outputs": [],
   "source": []
  },
  {
   "cell_type": "code",
   "execution_count": null,
   "id": "36883563",
   "metadata": {},
   "outputs": [],
   "source": []
  },
  {
   "cell_type": "code",
   "execution_count": null,
   "id": "32db858d",
   "metadata": {
    "notebookRunGroups": {
     "groupValue": ""
    }
   },
   "outputs": [],
   "source": [
    "_out_rank_order_event_raster_debugger.on_update_epoch_IDX(298)"
   ]
  },
  {
   "cell_type": "code",
   "execution_count": null,
   "id": "0787873b",
   "metadata": {},
   "outputs": [],
   "source": [
    "ripple_result_tuple.directional_likelihoods_tuple[0][248]"
   ]
  },
  {
   "cell_type": "code",
   "execution_count": null,
   "id": "32cef07a",
   "metadata": {},
   "outputs": [],
   "source": [
    "from pyphoplacecellanalysis.GUI.PyQtPlot.DockingWidgets.DynamicDockDisplayAreaContent import CustomDockDisplayConfig\n",
    "\n",
    "root_dockAreaWindow = _out_rank_order_event_raster_debugger.ui.root_dockAreaWindow"
   ]
  },
  {
   "cell_type": "code",
   "execution_count": null,
   "id": "3e9ab10c",
   "metadata": {},
   "outputs": [],
   "source": [
    "long_LR_dock = root_dockAreaWindow.find_display_dock('long_LR')\n",
    "short_LR_dock = root_dockAreaWindow.find_display_dock('short_LR')\n",
    "\n",
    "\n",
    "long_short_info_layout = pg.LayoutWidget()\n",
    "\n",
    "long_info_label = long_short_info_layout.addLabel(text='LONG', row=0, col=0)\n",
    "short_info_label = long_short_info_layout.addLabel(text='SHORT', row=0, col=1)\n",
    "\n",
    "# ['left', long_LR_dock]\n",
    "# \n",
    "_out_rank_order_event_raster_debugger.plots.dock_widgets['left_Long_best_result_dock'] = root_dockAreaWindow.add_display_dock(identifier='left_Long_best_result_dock', widget=long_short_info_layout, dockSize=(600,60), dockAddLocationOpts=['top'], display_config=CustomDockDisplayConfig(showCloseButton=False, corner_radius='0px'))\n",
    "_out_rank_order_event_raster_debugger.plots.dock_widgets['left_Long_best_result_dock'][1].hideTitleBar() # hide the dock title bar\n",
    "\n",
    "# Add the widgets to the .ui:\n",
    "_out_rank_order_event_raster_debugger.ui.long_short_info_layout = long_short_info_layout\n",
    "_out_rank_order_event_raster_debugger.ui.long_info_label = long_info_label\n",
    "_out_rank_order_event_raster_debugger.ui.short_info_label = short_info_label"
   ]
  },
  {
   "cell_type": "code",
   "execution_count": null,
   "id": "47a7a00a",
   "metadata": {},
   "outputs": [],
   "source": [
    "\n"
   ]
  },
  {
   "cell_type": "code",
   "execution_count": null,
   "id": "a839f9e3",
   "metadata": {},
   "outputs": [],
   "source": [
    "_out_rank_order_event_raster_debugger.ui.ctrls_widget.setValue(298)"
   ]
  },
  {
   "cell_type": "code",
   "execution_count": null,
   "id": "2a91522b",
   "metadata": {},
   "outputs": [],
   "source": [
    "\n",
    "unit_sort_orders_dict = dict(zip(['long_LR', 'long_RL', 'short_LR', 'short_RL'], (long_LR, long_RL, short_LR, short_RL)))\n",
    "display('unit_sort_orders_dict')\n",
    "display(unit_sort_orders_dict)\n",
    "unit_unordered_neuron_IDs_dict = dict(zip(['long_LR', 'long_RL', 'short_LR', 'short_RL'], (track_templates.long_LR_decoder.neuron_IDs, track_templates.long_RL_decoder.neuron_IDs, track_templates.short_LR_decoder.neuron_IDs, track_templates.short_RL_decoder.neuron_IDs)))\n",
    "unit_ordered_neuron_IDs_dict = {a_decoder_name:neuron_IDs[unit_sort_orders_dict[a_decoder_name]] for a_decoder_name, neuron_IDs in unit_unordered_neuron_IDs_dict.items()}\n",
    "unit_ordered_neuron_IDs_dict\n",
    "\n",
    "display(f'unit_unordered_neuron_IDs_dict')\n",
    "display(unit_unordered_neuron_IDs_dict)\n",
    "# unit_unordered_neuron_IDs_dict:\n",
    "# {'long_RL': array([  9,  10,  11,  15,  16,  18,  24,  25,  26,  31,  39,  40,  43,  44,  47,  48,  51,  52,  53,  54,  56,  60,  61,  65,  66,  68,  70,  72,  75,  77,  78,  79,  80,  81,  82,  84,  85,  87,  89,  90,  92,  93,  98, 101, 102, 104]),\n",
    "#  'long_LR': array([  9,  10,  11,  15,  16,  18,  24,  25,  26,  31,  39,  40,  43,  44,  47,  48,  51,  52,  53,  54,  56,  60,  61,  65,  66,  68,  70,  72,  75,  77,  78,  79,  80,  81,  82,  84,  85,  87,  89,  90,  92,  93,  98, 101, 102, 104]),\n",
    "#  'short_RL': array([  9,  10,  11,  15,  16,  18,  24,  25,  26,  31,  39,  40,  43,  44,  47,  48,  51,  52,  53,  54,  56,  60,  61,  65,  66,  68,  70,  72,  75,  77,  78,  79,  80,  81,  82,  84,  85,  87,  89,  90,  92,  93,  98, 101, 102, 104]),\n",
    "#  'short_LR': array([  9,  10,  11,  15,  16,  18,  24,  25,  26,  31,  39,  40,  43,  44,  47,  48,  51,  52,  53,  54,  56,  60,  61,  65,  66,  68,  70,  72,  75,  77,  78,  79,  80,  81,  82,  84,  85,  87,  89,  90,  92,  93,  98, 101, 102, 104])}\n",
    "\n",
    "# unit_ordered_neuron_IDs_dict:\n",
    "# {'long_RL': np.array([ 81,  70,  60,  11, 101,  85,  52,  10, 102,  77,  56,  82,  31,  44,  39,  47,  16,  78,  61,  43,  24,  92,  87,  80,  75,  84,   9,  54,  72, 104,  89,  40,  51,  79,  48,  25,  90,  15,  18,  65,  26,  68,  53,  93,  98,  66]),\n",
    "#  'long_LR': np.array([ 53,  52,  54,  18,  84,  65,  79,  16, 104,  60,  87,  85,  39,  25,  51,  31,  11,  92,  56,  75,  44,  93,  89,  68,  77,  98,   9,  47,  82, 102,  80,  40,  78,  43,  66,  15,  90,  10,  24,  72,  26,  61,  48,  81, 101,  70]),\n",
    "#  'short_RL': np.array([ 68,  75,  54,  10, 104,  90,  44,  15,  93,  79,  56,  84,  78,  31,  16,  40,  25,  81,  70,  66,  24,  98,  80,  77,  60,  39,   9,  82,  85, 101,  87,  26,  43,  65,  48,  52,  92,  11,  51,  72,  18,  53,  47,  89, 102,  61]),\n",
    "#  'short_LR': np.array([ 53,  51,  16,  15,  81,  87,  54,  11, 104,  65,  82,  84,  31,  26,  24,  40,  61, 101,  80,  77,  44,  90,  79,  70,  75,  93,  10,  52,  85, 102,  89,  47,  78,  43,  72,  48,  92,   9,  18,  66,  25,  60,  56,  68,  98,  39])}\n",
    "\n",
    "## TemplateDebugger way of getting neuron_ids:\n",
    "rank_order_results: RankOrderComputationsContainer = curr_active_pipeline.global_computation_results.computed_data['RankOrder']\n",
    "minimum_inclusion_fr_Hz: float = rank_order_results.minimum_inclusion_fr_Hz\n",
    "track_templates: TrackTemplates = directional_laps_results.get_templates(minimum_inclusion_fr_Hz=minimum_inclusion_fr_Hz) # non-shared-only -- !! Is minimum_inclusion_fr_Hz=None the issue/difference?\n",
    "decoders_dict = track_templates.get_decoders_dict() # decoders_dict = {'long_LR': track_templates.long_LR_decoder, 'long_RL': track_templates.long_RL_decoder, 'short_LR': track_templates.short_LR_decoder, 'short_RL': track_templates.short_RL_decoder, }\n",
    "\n",
    "# INDIVIDUAL SORTING:\n",
    "sorted_neuron_IDs_lists, sort_helper_neuron_id_to_neuron_colors_dicts, sort_helper_neuron_id_to_sort_IDX_dicts = paired_separately_sort_neurons(decoders_dict, None)\n",
    "\n",
    "display(sorted_neuron_IDs_lists)\n",
    "\n",
    "# [array([ 25,  47,  56,  70,  89,  92, 101,  15,  43,  84,  87,  10,  51,  53,  44,  48,  79,  81,  72,  98,   9,  93,  82,  31,  11,  66,  90,  78,  16, 104,  80,  24,  75,  40,  60,  85,  52, 102,  65,  18,  26,  39,  54,  61,  68,  77]),\n",
    "#  array([ 25,  56,  70,  89,  47,  15,  87,  54,  84,  43,  51,  92,  44,  72,  79,  48,  24,  39,  53,  80,  98,  31,  75,  11,  66,  81,  82,  90, 104,   9,  93,  10,  78, 101,  16,  18,  26,  40,  52,  60,  61,  65,  68,  77,  85, 102]),\n",
    "#  array([ 11,  47,  87,  25,  56,  70,  92,  15,  89,  43, 104,  10,  84,  81,  24,  44,  48,  79,   9,  72,  93,  31,  98,  66,  90,  82,  16,  51,  61,  75,  53,  80,  65,  78,  40,  60,  85, 102,  39,  52, 101,  26,  68,  18,  54,  77]),\n",
    "#  array([ 70,  25,  47,  51,  56,  87,  15,  92,  68,  44,  48,  79,  24,  80,  53,  39,  89,   9,  93,  98,  66,  11,  81,  82, 104,  90,  61,  65,  84,  31,  75,  10,  72, 101,  40,  43,  60,  16,  26,  52,  54,  77,  78,  85, 102,  18])]\n",
    "\n",
    "required_sort_indicies = [find_desired_sort_indicies(neuron_ids, sorted_neuron_IDs)[0] for neuron_ids, sorted_neuron_IDs in zip(list(unit_unordered_neuron_IDs_dict.values()), sorted_neuron_IDs_lists)]   \n",
    "display(required_sort_indicies)\n",
    "# [array([ 7, 14, 20, 26, 38, 40, 43,  3, 12, 35, 37,  1, 16, 18, 13, 15, 31, 33, 27, 42,  0, 41, 34,  9,  2, 24, 39, 30,  4, 45, 32,  6, 28, 11, 21, 36, 17, 44, 23,  5,  8, 10, 19, 22, 25, 29]),\n",
    "#  array([ 7, 20, 26, 38, 14,  3, 37, 19, 35, 12, 16, 40, 13, 27, 31, 15,  6, 10, 18, 32, 42,  9, 28,  2, 24, 33, 34, 39, 45,  0, 41,  1, 30, 43,  4,  5,  8, 11, 17, 21, 22, 23, 25, 29, 36, 44]),\n",
    "#  array([ 2, 14, 37,  7, 20, 26, 40,  3, 38, 12, 45,  1, 35, 33,  6, 13, 15, 31,  0, 27, 41,  9, 42, 24, 39, 34,  4, 16, 22, 28, 18, 32, 23, 30, 11, 21, 36, 44, 10, 17, 43,  8, 25,  5, 19, 29]),\n",
    "#  array([26,  7, 14, 16, 20, 37,  3, 40, 25, 13, 15, 31,  6, 32, 18, 10, 38,  0, 41, 42, 24,  2, 33, 34, 45, 39, 22, 23, 35,  9, 28,  1, 27, 43, 11, 12, 21,  4,  8, 17, 19, 29, 30, 36, 44,  5])]\n"
   ]
  },
  {
   "cell_type": "code",
   "execution_count": null,
   "id": "7e66edd1",
   "metadata": {},
   "outputs": [],
   "source": [
    "# a_sorted_neuron_ids, unit_sort_orders_dict=an_unit_sort_orders, unit_colors_list=a_decoder_color_list\n",
    "\n",
    "\n",
    "# Get only the spikes for the shared_aclus:\n",
    "a_spikes_df = deepcopy(spikes_df).spikes.sliced_by_neuron_id(LR_neuron_ids)\n",
    "a_spikes_df, neuron_id_to_new_IDX_map = a_spikes_df.spikes.rebuild_fragile_linear_neuron_IDXs() # rebuild the fragile indicies afterwards\n",
    "\n",
    "rasters_display_outputs = plot_raster_plot(a_spikes_df, LR_neuron_ids, unit_sort_order=np.arange(len(LR_neuron_ids)), scatter_app_name=f'pho_directional_laps_rasters', defer_show=False, active_context=None)\n"
   ]
  },
  {
   "cell_type": "code",
   "execution_count": null,
   "id": "fec97c43",
   "metadata": {},
   "outputs": [],
   "source": [
    "# Passing no colors at all, passing a different `unit_sort_order` produces a different location for the color rows (the color stays with the spikes), as desired but perhaps not expected.\n",
    "rasters_display_outputs2 = plot_raster_plot(a_spikes_df, LR_neuron_ids, unit_sort_order=np.array(list(reversed(np.arange(len(LR_neuron_ids))))), scatter_app_name=f'pho_directional_laps_rasters2', defer_show=False, active_context=None)\n"
   ]
  },
  {
   "cell_type": "markdown",
   "id": "82e909cd",
   "metadata": {},
   "source": [
    "# 2023-12-01 - Working manual 4 raster plots??"
   ]
  },
  {
   "cell_type": "code",
   "execution_count": null,
   "id": "7d7d158e",
   "metadata": {},
   "outputs": [],
   "source": [
    "active_neuron_ids = np.array([  9,  10,  11,  15,  16,  18,  24,  25,  26,  31,  39,  40,  43,  44,  47,  48,  51,  52,  53,  54,  56,  60,  61,  65,  66,  68,  70,  72,  75,  77,  78,  79,  80,  81,  82,  84,  85,  87,  89,  90,  92,  93,  98, 101, 102, 104])\n",
    "active_sort_idxs = np.arange(len(active_neuron_ids))\n",
    "# Get only the spikes for the shared_aclus:\n",
    "a_spikes_df = deepcopy(spikes_df).spikes.sliced_by_neuron_id(active_neuron_ids)\n",
    "a_spikes_df, neuron_id_to_new_IDX_map = a_spikes_df.spikes.rebuild_fragile_linear_neuron_IDXs() # rebuild the fragile indicies afterwards\n",
    "\n",
    "rasters_display_outputs_unsorted = plot_raster_plot(a_spikes_df, active_neuron_ids, unit_sort_order=active_sort_idxs, scatter_app_name=f'pho_directional_laps_rasters_unsorted', defer_show=False, active_context=None)"
   ]
  },
  {
   "cell_type": "code",
   "execution_count": null,
   "id": "06a51a2a",
   "metadata": {
    "notebookRunGroups": {
     "groupValue": "3"
    }
   },
   "outputs": [],
   "source": [
    "from attrs import asdict\n",
    "from qtpy import QtGui # for QColor\n",
    "from qtpy.QtGui import QColor, QBrush, QPen\n",
    "from pyphocorehelpers.gui.Qt.color_helpers import ColorFormatConverter\n",
    "from pyphoplacecellanalysis.General.Mixins.DataSeriesColorHelpers import DataSeriesColorHelpers\n",
    "from pyphoplacecellanalysis.General.Pipeline.Stages.DisplayFunctions.SpikeRasters import DataSeriesToSpatial, RasterPlotSetupTuple, _build_scatter_plotting_managers, _build_units_y_grid, _plot_empty_raster_plot_frame\n",
    "from pyphoplacecellanalysis.General.Pipeline.Stages.DisplayFunctions.SpikeRasters import new_plot_raster_plot, NewSimpleRaster\n",
    "\n",
    "active_neuron_ids = np.array([  9,  10,  11,  15,  16,  18,  24,  25,  26,  31,  39,  40,  43,  44,  47,  48,  51,  52,  53,  54,  56,  60,  61,  65,  66,  68,  70,  72,  75,  77,  78,  79,  80,  81,  82,  84,  85,  87,  89,  90,  92,  93,  98, 101, 102, 104])\n",
    "active_sort_idxs = np.array([18, 17, 19,  5, 35, 23, 31,  4, 45, 21, 37, 36, 10,  7, 16,  9,  2, 40, 20, 28, 13, 41, 38, 25, 29, 42,  0, 14, 34, 44, 32, 11, 30, 12, 24,  3, 39,  1,  6, 27,  8, 22, 15, 33, 43, 26])\n",
    "active_sorted_neuron_ids = active_neuron_ids[active_sort_idxs] # [ 53  52  54  18  84  65  79  16 104  60  87  85  39  25  51  31  11  92  56  75  44  93  89  68  77  98   9  47  82 102  80  40  78  43  66  15  90  10  24  72  26  61  48  81 101  70]\n",
    "print(f\"active_sorted_neuron_ids: {active_sorted_neuron_ids}\")\n",
    "\n",
    "## Do this just once:\n",
    "global_neuron_qcolors_list = DataSeriesColorHelpers._build_cell_qcolor_list(np.arange(len(active_neuron_ids)), mode=UnitColoringMode.PRESERVE_FRAGILE_LINEAR_NEURON_IDXS, provided_cell_colors=None)\n",
    "global_neuron_colors_dict = dict(zip(active_neuron_ids, global_neuron_qcolors_list))\n",
    "\n",
    "# # test_raster = NewRaster.init_from_neuron_ids(active_neuron_ids)\n",
    "# test_sorted_raster = NewRaster.init_from_neuron_ids(active_sorted_neuron_ids, neuron_colors=global_neuron_colors_dict)\n",
    "# # test_sorted_raster\n",
    "\n",
    "# a_spikes_df = test_sorted_raster.update_spikes_df_visualization_columns(spikes_df=spikes_df)\n",
    "# display(a_spikes_df)\n",
    "# all_spots, all_scatterplot_tooltips_kwargs = test_sorted_raster.build_spikes_all_spots_from_df(spikes_df=a_spikes_df, should_return_data_tooltips_kwargs=True, generate_debug_tuples=False)\n",
    "# rasters_display_outputs3 = new_plot_raster_plot(spikes_df, active_neuron_ids, unit_sort_order=active_sort_idxs, unit_colors_list=global_neuron_colors_dict, scatter_plot_kwargs=None, scatter_app_name='pho_directional_laps_rasters3', defer_show=False, active_context=None)"
   ]
  },
  {
   "cell_type": "code",
   "execution_count": null,
   "id": "6bf647d0",
   "metadata": {
    "notebookRunGroups": {
     "groupValue": "3"
    }
   },
   "outputs": [],
   "source": [
    "active_neuron_ids = np.array([  9,  10,  11,  15,  16,  18,  24,  25,  26,  31,  39,  40,  43,  44,  47,  48,  51,  52,  53,  54,  56,  60,  61,  65,  66,  68,  70,  72,  75,  77,  78,  79,  80,  81,  82,  84,  85,  87,  89,  90,  92,  93,  98, 101, 102, 104])\n",
    "active_sort_idxs = np.array([18, 17, 19,  5, 35, 23, 31,  4, 45, 21, 37, 36, 10,  7, 16,  9,  2, 40, 20, 28, 13, 41, 38, 25, 29, 42,  0, 14, 34, 44, 32, 11, 30, 12, 24,  3, 39,  1,  6, 27,  8, 22, 15, 33, 43, 26])\n",
    "active_sorted_neuron_ids = active_neuron_ids[active_sort_idxs] # [ 53  52  54  18  84  65  79  16 104  60  87  85  39  25  51  31  11  92  56  75  44  93  89  68  77  98   9  47  82 102  80  40  78  43  66  15  90  10  24  72  26  61  48  81 101  70]\n",
    "print(f\"active_sorted_neuron_ids: {active_sorted_neuron_ids}\")\n",
    "# Get only the spikes for the shared_aclus:\n",
    "# a_spikes_df = deepcopy(spikes_df).spikes.sliced_by_neuron_id(active_neuron_ids)\n",
    "# a_spikes_df, neuron_id_to_new_IDX_map = a_spikes_df.spikes.rebuild_fragile_linear_neuron_IDXs() # rebuild the fragile indicies afterwards\n",
    "# a_spikes_df = deepcopy(spikes_df).spikes.sliced_by_neuron_id(active_neuron_ids)\n",
    "\n",
    "rasters_display_outputs3 = new_plot_raster_plot(spikes_df, active_neuron_ids, unit_sort_order=active_sort_idxs, unit_colors_list=global_neuron_colors_dict, scatter_plot_kwargs=None, scatter_app_name='pho_directional_laps_rasters3', defer_show=False, active_context=None)\n",
    "# rasters_display_outputs3 = plot_raster_plot(a_spikes_df, active_neuron_ids, unit_sort_order=active_sort_idxs, scatter_app_name=f'pho_directional_laps_rasters3', defer_show=False, active_context=None)"
   ]
  },
  {
   "cell_type": "code",
   "execution_count": null,
   "id": "f9e32625",
   "metadata": {},
   "outputs": [],
   "source": [
    "# rasters_display_outputs3.plots_data\n",
    "rasters_display_outputs3.plots.debug_header_label.setText('TEST LABEL')"
   ]
  },
  {
   "cell_type": "code",
   "execution_count": null,
   "id": "558cce3f",
   "metadata": {
    "notebookRunGroups": {
     "groupValue": "3"
    }
   },
   "outputs": [],
   "source": [
    "active_neuron_ids = np.array([  9,  10,  11,  15,  16,  18,  24,  25,  26,  31,  39,  40,  43,  44,  47,  48,  51,  52,  53,  54,  56,  60,  61,  65,  66,  68,  70,  72,  75,  77,  78,  79,  80,  81,  82,  84,  85,  87,  89,  90,  92,  93,  98, 101, 102, 104])\n",
    "active_sort_idxs = np.array([33, 26, 21,  2, 43, 36, 17,  1, 44, 29, 20, 34,  9, 13, 10, 14,  4, 30, 22, 12,  6, 40, 37, 32, 28, 35,  0, 19, 27, 45, 38, 11, 16, 31, 15,  7, 39,  3,  5, 23,  8, 25, 18, 41, 42, 24])\n",
    "# Get only the spikes for the shared_aclus:\n",
    "# a_spikes_df = deepcopy(spikes_df).spikes.sliced_by_neuron_id(active_neuron_ids)\n",
    "# a_spikes_df, neuron_id_to_new_IDX_map = a_spikes_df.spikes.rebuild_fragile_linear_neuron_IDXs() # rebuild the fragile indicies afterwards\n",
    "\n",
    "# rasters_display_outputs4 = plot_raster_plot(a_spikes_df, active_neuron_ids, unit_sort_order=active_sort_idxs, scatter_app_name=f'pho_directional_laps_rasters4', defer_show=False, active_context=None)\n",
    "rasters_display_outputs4 = new_plot_raster_plot(spikes_df, active_neuron_ids, unit_sort_order=active_sort_idxs, unit_colors_list=global_neuron_colors_dict, scatter_plot_kwargs=None, scatter_app_name='pho_directional_laps_rasters4', defer_show=False, active_context=None)\n"
   ]
  },
  {
   "cell_type": "code",
   "execution_count": null,
   "id": "f5394427",
   "metadata": {
    "notebookRunGroups": {
     "groupValue": "3"
    }
   },
   "outputs": [],
   "source": [
    "active_neuron_ids = np.array([  9,  10,  11,  15,  16,  18,  24,  25,  26,  31,  39,  40,  43,  44,  47,  48,  51,  52,  53,  54,  56,  60,  61,  65,  66,  68,  70,  72,  75,  77,  78,  79,  80,  81,  82,  84,  85,  87,  89,  90,  92,  93,  98, 101, 102, 104])\n",
    "active_sort_idxs = np.array([18, 16,  4,  3, 33, 37, 19,  2, 45, 23, 34, 35,  9,  8,  6, 11, 22, 43, 32, 29, 13, 39, 31, 26, 28, 41,  1, 17, 36, 44, 38, 14, 30, 12, 27, 15, 40,  0,  5, 24,  7, 21, 20, 25, 42, 10])\n",
    "# Get only the spikes for the shared_aclus:\n",
    "# a_spikes_df = deepcopy(spikes_df).spikes.sliced_by_neuron_id(active_neuron_ids)\n",
    "# a_spikes_df, neuron_id_to_new_IDX_map = a_spikes_df.spikes.rebuild_fragile_linear_neuron_IDXs() # rebuild the fragile indicies afterwards\n",
    "\n",
    "# rasters_display_outputs5 = plot_raster_plot(a_spikes_df, active_neuron_ids, unit_sort_order=active_sort_idxs, scatter_app_name=f'pho_directional_laps_rasters5', defer_show=False, active_context=None)\n",
    "rasters_display_outputs5 = new_plot_raster_plot(spikes_df, active_neuron_ids, unit_sort_order=active_sort_idxs, unit_colors_list=global_neuron_colors_dict, scatter_plot_kwargs=None, scatter_app_name='pho_directional_laps_rasters5', defer_show=False, active_context=None)"
   ]
  },
  {
   "cell_type": "code",
   "execution_count": null,
   "id": "1271b2a0",
   "metadata": {
    "notebookRunGroups": {
     "groupValue": "3"
    }
   },
   "outputs": [],
   "source": [
    "active_neuron_ids = np.array([  9,  10,  11,  15,  16,  18,  24,  25,  26,  31,  39,  40,  43,  44,  47,  48,  51,  52,  53,  54,  56,  60,  61,  65,  66,  68,  70,  72,  75,  77,  78,  79,  80,  81,  82,  84,  85,  87,  89,  90,  92,  93,  98, 101, 102, 104])\n",
    "active_sort_idxs = np.array([25, 28, 19,  1, 45, 39, 13,  3, 41, 31, 20, 35, 30,  9,  4, 11,  7, 33, 26, 24,  6, 42, 32, 29, 21, 10,  0, 34, 36, 43, 37,  8, 12, 23, 15, 17, 40,  2, 16, 27,  5, 18, 14, 38, 44, 22])\n",
    "# Get only the spikes for the shared_aclus:\n",
    "# a_spikes_df = deepcopy(spikes_df).spikes.sliced_by_neuron_id(active_neuron_ids)\n",
    "# a_spikes_df, neuron_id_to_new_IDX_map = a_spikes_df.spikes.rebuild_fragile_linear_neuron_IDXs() # rebuild the fragile indicies afterwards\n",
    "\n",
    "# rasters_display_outputs6 = plot_raster_plot(a_spikes_df, active_neuron_ids, unit_sort_order=active_sort_idxs, scatter_app_name=f'pho_directional_laps_rasters6', defer_show=False, active_context=None)\n",
    "rasters_display_outputs6 = new_plot_raster_plot(spikes_df, active_neuron_ids, unit_sort_order=active_sort_idxs, unit_colors_list=global_neuron_colors_dict, scatter_plot_kwargs=None, scatter_app_name='pho_directional_laps_rasters6', defer_show=False, active_context=None)"
   ]
  },
  {
   "cell_type": "code",
   "execution_count": null,
   "id": "59ecdc2d",
   "metadata": {
    "notebookRunGroups": {
     "groupValue": "3"
    }
   },
   "outputs": [],
   "source": [
    "main_plot3 = rasters_display_outputs3[2]['root_plot']\n",
    "main_plot4 = rasters_display_outputs4[2]['root_plot']\n",
    "main_plot5 = rasters_display_outputs5[2]['root_plot']\n",
    "main_plot6 = rasters_display_outputs6[2]['root_plot']\n",
    "\n",
    "# Link em' up my friend:\n",
    "main_plot4.setXLink(main_plot3)\n",
    "main_plot5.setXLink(main_plot3)\n",
    "main_plot6.setXLink(main_plot3)\n",
    "\n",
    "# y-links, yum:\n",
    "main_plot4.setYLink(main_plot3)\n",
    "main_plot5.setYLink(main_plot3)\n",
    "main_plot6.setYLink(main_plot3)\n",
    "\n"
   ]
  },
  {
   "cell_type": "code",
   "execution_count": null,
   "id": "c04326fe",
   "metadata": {},
   "outputs": [],
   "source": [
    "# if index > 0 and index < len(data1):\n",
    "debug_footer_label.setText(\"test\")\n",
    "# <span style='font-size: 12pt'>x=%0.1f,   <span style='color: red'>y1=%0.1f</span>,   <span style='color: green'>y2=%0.1f</span>\" % (mousePoint.x(), data1[index], data2[index]))\n",
    "            \n"
   ]
  },
  {
   "cell_type": "code",
   "execution_count": null,
   "id": "e9c42f1c",
   "metadata": {},
   "outputs": [],
   "source": [
    "rasters_display_outputs_unsorted.plots_data.raster_plot_manager.unit_sort_manager.y_fragile_linear_neuron_IDX_map\n",
    "# rasters_display_outputs_unsorted.plots_data.raster_plot_manager.unit_sort_manager.params.config_items\n",
    "# rasters_display_outputs_unsorted.plots_data.raster_plot_manager.config_fragile_linear_neuron_IDX_map"
   ]
  },
  {
   "cell_type": "code",
   "execution_count": null,
   "id": "7700bdb9",
   "metadata": {},
   "outputs": [],
   "source": [
    "rasters_display_outputs3.plots_data.raster_plot_manager.unit_sort_manager.y_fragile_linear_neuron_IDX_map\n",
    "# rasters_display_outputs3.plots_data.raster_plot_manager.unit_sort_manager.params.config_items\n",
    "# rasters_display_outputs3.plots_data.raster_plot_manager.config_fragile_linear_neuron_IDX_map"
   ]
  },
  {
   "cell_type": "code",
   "execution_count": null,
   "id": "15364325",
   "metadata": {},
   "outputs": [],
   "source": [
    "from pyphoplacecellanalysis.GUI.PyQtPlot.Widgets.GraphicsObjects.CustomLinearRegionItem import CustomLinearRegionItem\n",
    "\n",
    "kwargs = {}\n",
    "\n",
    "neuron_label = f\"{9}\"\n",
    "epoch_linear_region:CustomLinearRegionItem = CustomLinearRegionItem(**(dict(pen=pg.mkPen('#fff'), brush=pg.mkBrush('#f004'), hoverBrush=pg.mkBrush('#fff4'), hoverPen=pg.mkPen('#f00'))|kwargs), movable=False) #, clipItem=plots['difference']  bound the LinearRegionItem to the plotted data\n",
    "epoch_linear_region.setObjectName(f'neuron_region[{neuron_label}]')\n",
    "epoch_linear_region.setZValue(-3) # put it in the back\n",
    "epoch_region_label:pg.InfLineLabel = pg.InfLineLabel(epoch_linear_region.lines[0], f\"{neuron_label}\", position=0.95, rotateAxis=(1,0), anchor=(1, 1)) # add the label for the short epoch\n",
    "# Add the LinearRegionItem to the ViewBox, but tell the ViewBox to exclude this item when doing auto-range calculations.\n",
    "a_main_plot.addItem(epoch_linear_region, ignoreBounds=True)\n",
    "# Set the position:\n",
    "\n"
   ]
  },
  {
   "cell_type": "code",
   "execution_count": null,
   "id": "380ce211",
   "metadata": {},
   "outputs": [],
   "source": [
    "\n",
    "lower_uppder_y_pairs = [(lower_y, upper_y) for lower_y, upper_y in zip(a_raster_plot_manager.unit_sort_manager._series_identity_lower_y_values, a_raster_plot_manager.unit_sort_manager._series_identity_upper_y_values)]\n",
    "lower_uppder_y_pairs\n"
   ]
  },
  {
   "cell_type": "code",
   "execution_count": null,
   "id": "02de5ef6",
   "metadata": {},
   "outputs": [],
   "source": [
    "\n",
    "epoch_linear_region.setRegion([t_start, t_stop]) # adjust scroll control"
   ]
  },
  {
   "cell_type": "code",
   "execution_count": null,
   "id": "347ab55b",
   "metadata": {},
   "outputs": [],
   "source": [
    "## One issue seems to be just ascending vs. descending expectation order!\n",
    "sorted_neuron_ids"
   ]
  },
  {
   "cell_type": "code",
   "execution_count": null,
   "id": "6347c1cc",
   "metadata": {},
   "outputs": [],
   "source": [
    "curr_neuron_ids_list = a_raster_plot_manager.unit_sort_manager.find_cell_ids_from_neuron_IDXs(a_raster_plot_manager.unit_sort_manager.fragile_linear_neuron_IDXs)\n",
    "curr_neuron_ids_list"
   ]
  },
  {
   "cell_type": "code",
   "execution_count": null,
   "id": "55b48f2a",
   "metadata": {},
   "outputs": [],
   "source": [
    "sorted_neuron_ids = a_raster_plot_manager.unit_sort_manager.neuron_ids[a_raster_plot_manager.unit_sort_manager.unit_sort_order] ## This finally matches the order of the labels\n",
    "sorted_neuron_ids\n"
   ]
  },
  {
   "cell_type": "code",
   "execution_count": null,
   "id": "d9416c94",
   "metadata": {},
   "outputs": [],
   "source": [
    "# `y_fragile_linear_neuron_IDX_map` gives map for fragile_linear_neuron_IDXs, not neuron_IDs\n",
    "sorted_y_fragile_linear_neuron_IDX_map = dict(sorted(deepcopy(a_raster_plot_manager.unit_sort_manager.y_fragile_linear_neuron_IDX_map).items(), key=lambda item: item[1]))\n",
    "print(sorted_y_fragile_linear_neuron_IDX_map) # {26: 0.5, 37: 1.5, 16: 2.5, 35: 3.5, 7: 4.5, 3: 5.5, 38: 6.5, 13: 7.5, 40: 8.5, 15: 9.5, 12: 10.5, 31: 11.5, 33: 12.5, 20: 13.5, 27: 14.5, 42: 15.5, 14: 16.5, 1: 17.5, 0: 18.5, 2: 19.5, 18: 20.5, 9: 21.5, 41: 22.5, 5: 23.5, 34: 24.5, 23: 25.5, 45: 26.5, 39: 27.5, 19: 28.5, 24: 29.5, 32: 30.5, 6: 31.5, 30: 32.5, 43: 33.5, 28: 34.5, 4: 35.5, 11: 36.5, 10: 37.5, 22: 38.5, 36: 39.5, 17: 40.5, 21: 41.5, 25: 42.5, 44: 43.5, 29: 44.5, 8: 45.5}\n"
   ]
  },
  {
   "cell_type": "code",
   "execution_count": null,
   "id": "699ceaa8",
   "metadata": {},
   "outputs": [],
   "source": [
    "win = rasters_display_outputs_list[0].win # GraphicsLayoutWidget \n",
    "saved_window_geometry = []\n",
    "\n",
    "\n",
    "saved_pos0 = win.saveGeometry() # QByteArray\n",
    "saved_pos0"
   ]
  },
  {
   "cell_type": "code",
   "execution_count": null,
   "id": "9f357d8c",
   "metadata": {},
   "outputs": [],
   "source": [
    "saved_window_geometry = [deepcopy(a_rasters_display_output.win.saveGeometry()) for a_rasters_display_output in rasters_display_outputs_list] # QByteArray\n"
   ]
  },
  {
   "cell_type": "code",
   "execution_count": null,
   "id": "74b0aa29",
   "metadata": {},
   "outputs": [],
   "source": [
    "win.restoreGeometry(saved_pos0)"
   ]
  },
  {
   "cell_type": "code",
   "execution_count": null,
   "id": "51b1dd08",
   "metadata": {},
   "outputs": [],
   "source": [
    "custom_font = pg.QtGui.QFont()\n",
    "custom_font.setPixelSize(30)\n",
    "\n",
    "a_main_plot.getAxis(\"bottom\").tickFont = custom_font\n",
    "a_main_plot.getAxis(\"bottom\").setStyle(tickTextOffset = 30)"
   ]
  },
  {
   "cell_type": "code",
   "execution_count": null,
   "id": "aeb0f7ea",
   "metadata": {},
   "outputs": [],
   "source": [
    "# ay.tickSpacing() # tickSpacing() missing 3 required positional arguments: 'minVal', 'maxVal', and 'size'\n",
    "# ay.tickValues() # tickValues() missing 3 required positional arguments: 'minVal', 'maxVal', and 'size'\n",
    "\n"
   ]
  },
  {
   "cell_type": "code",
   "execution_count": null,
   "id": "87fd2831",
   "metadata": {},
   "outputs": [],
   "source": [
    "\n",
    "unsorted_neuron_ids = np.array([  9,  10,  11,  15,  16,  18,  24,  25,  26,  31,  39,  40,  43,  44,  47,  48,  51,  52,  53,  54,  56,  60,  61,  65,  66,  68,  70,  72,  75,  77,  78,  79,  80,  81,  82,  84,  85,  87,  89,  90,  92,  93,  98, 101, 102, 104])\n",
    "\n",
    "sort_list = np.array([ 7, 14, 20, 26, 38, 40, 43,  3, 12, 35, 37,  1, 16, 18, 13, 15, 31, 33, 27, 42,  0, 41, 34,  9,  2, 24, 39, 30,  4, 45, 32,  6, 28, 11, 21, 36, 17, 44, 23,  5,  8, 10, 19, 22, 25, 29])\n",
    "\n",
    "\n",
    "# np.all(\n",
    "\n"
   ]
  },
  {
   "cell_type": "code",
   "execution_count": null,
   "id": "90f22dc7",
   "metadata": {},
   "outputs": [],
   "source": [
    "_out_rank_order_event_raster_debugger.get_epoch_active_aclus()"
   ]
  },
  {
   "cell_type": "code",
   "execution_count": null,
   "id": "93f02e24",
   "metadata": {},
   "outputs": [],
   "source": [
    "_out_rank_order_event_raster_debugger.active_epoch_tuple"
   ]
  },
  {
   "cell_type": "code",
   "execution_count": null,
   "id": "a7931c5b",
   "metadata": {},
   "outputs": [],
   "source": [
    "debug_update_plot_titles(_out_rank_order_event_raster_debugger, an_idx=309)"
   ]
  },
  {
   "cell_type": "code",
   "execution_count": null,
   "id": "0536617f",
   "metadata": {},
   "outputs": [],
   "source": [
    "from pyphoplacecellanalysis.General.Pipeline.Stages.ComputationFunctions.MultiContextComputationFunctions.DirectionalPlacefieldGlobalComputationFunctions import DirectionalPlacefieldGlobalDisplayFunctions\n",
    "\n",
    "curr_active_pipeline.reload_default_display_functions()\n",
    "epoch_active_aclus = None\n",
    "_out_directional_template_pfs_debugger = curr_active_pipeline.display(DirectionalPlacefieldGlobalDisplayFunctions._display_directional_template_debugger, included_any_context_neuron_ids=epoch_active_aclus)\n",
    "directional_template_pfs_debugger_on_update_callback = _out_directional_template_pfs_debugger.get('ui').on_update_callback\n",
    "directional_template_pfs_debugger_on_update_callback"
   ]
  },
  {
   "cell_type": "code",
   "execution_count": null,
   "id": "bd973981",
   "metadata": {},
   "outputs": [],
   "source": [
    "# directional_template_pfs_debugger_on_update_callback(np.array([77, 18, 25]))\n",
    "\n",
    "directional_template_pfs_debugger_on_update_callback(np.array([9,  26,  31,  39,  40,  43,  47,  52,  53,  54,  60,  61,  65,  68,  72,  75,  77,  78,  81,  82,  84,  85,  90,  92,  93,  98, 102]))\n",
    "\n"
   ]
  },
  {
   "cell_type": "code",
   "execution_count": null,
   "id": "04124521",
   "metadata": {},
   "outputs": [],
   "source": [
    "# _out_directional_template_pfs_debugger\n",
    "\n",
    "win = _out_directional_template_pfs_debugger.get('win')\n",
    "app = _out_directional_template_pfs_debugger.get('app')\n",
    "ui = _out_directional_template_pfs_debugger.get('ui')\n",
    "plots = _out_directional_template_pfs_debugger.get('plots')\n",
    "data = _out_directional_template_pfs_debugger.get('data')\n"
   ]
  },
  {
   "cell_type": "code",
   "execution_count": null,
   "id": "6ce86d90",
   "metadata": {},
   "outputs": [],
   "source": [
    "data.unsorted_included_any_context_neuron_ids"
   ]
  },
  {
   "cell_type": "code",
   "execution_count": null,
   "id": "1220d352",
   "metadata": {},
   "outputs": [],
   "source": [
    "a_decoder_name = 'short_RL'\n",
    "curr_win, curr_img = plots.pf1D_heatmaps[a_decoder_name] # pyphoplacecellanalysis.External.pyqtgraph.widgets.PlotWidget.PlotWidget\n",
    "\n",
    "# a_text_item = ui.text_items_dict[a_decoder_name][31] # pyqtgraph.graphicsItems.TextItem.TextItem\n",
    "\n",
    "unused_text_items_dict = {aclu:a_text_item for aclu, a_text_item in ui.text_items_dict[a_decoder_name].items() if aclu not in data.unsorted_included_any_context_neuron_ids}\n",
    "\n",
    "for aclu, a_text_item in unused_text_items_dict.items():\n",
    "\ta_text_item.hide()\n"
   ]
  },
  {
   "cell_type": "code",
   "execution_count": null,
   "id": "ee16d641",
   "metadata": {},
   "outputs": [],
   "source": [
    "\n",
    "for aclu, a_text_item in ui.text_items_dict[a_decoder_name].items():\n",
    "\tcurr_win.removeItem(a_text_item)\n",
    "\ta_text_item.deleteLater()\n",
    "\n",
    "# curr_win.addItem(text)\n",
    "# curr_win.add"
   ]
  },
  {
   "cell_type": "code",
   "execution_count": null,
   "id": "a6027b20",
   "metadata": {},
   "outputs": [],
   "source": [
    "# data #'sorted_neuron_IDs_lists'\n",
    "curr_active_pipeline.display('_display_1d_placefield_occupancy', 'maze_any')"
   ]
  },
  {
   "cell_type": "code",
   "execution_count": null,
   "id": "c1e9a8ce",
   "metadata": {},
   "outputs": [],
   "source": [
    "curr_active_pipeline.display('_display_2d_placefield_occupancy', 'maze_any')"
   ]
  },
  {
   "cell_type": "code",
   "execution_count": null,
   "id": "b1f353f3",
   "metadata": {},
   "outputs": [],
   "source": [
    "curr_active_pipeline.registered_display_function_docs_dict\n",
    "\n",
    "_display_1d_placefield_occupancy\n",
    "_display_2d_placefield_occupancy"
   ]
  },
  {
   "cell_type": "markdown",
   "id": "1e4b438c",
   "metadata": {
    "notebookRunGroups": {
     "groupValue": "21"
    }
   },
   "source": [
    "### Independent DirectionalTemplatePFsDebugger for testing"
   ]
  },
  {
   "cell_type": "code",
   "execution_count": null,
   "id": "a5f7ac4e",
   "metadata": {
    "notebookRunGroups": {
     "groupValue": "3"
    }
   },
   "outputs": [],
   "source": [
    "# _display_directional_laps_overview:\n",
    "curr_active_pipeline.prepare_for_display()\n",
    "curr_active_pipeline.reload_default_display_functions()\n",
    "session_description: str = curr_active_pipeline.get_session_context().get_description()\n",
    "print(f'session_description: {session_description}')\n",
    "# _out = curr_active_pipeline.display(DirectionalPlacefieldGlobalDisplayFunctions._display_directional_laps_overview)\n",
    "_out_all_cells_directional_template_pfs_debugger = curr_active_pipeline.display(DirectionalPlacefieldGlobalDisplayFunctions._display_directional_template_debugger, included_any_context_neuron_ids=None, figure_name='All Cells (Independent)')"
   ]
  },
  {
   "cell_type": "code",
   "execution_count": null,
   "id": "6b612abf",
   "metadata": {},
   "outputs": [],
   "source": [
    "_out_rank_order_event_raster_debugger.on_update_epoch_IDX(298)"
   ]
  },
  {
   "cell_type": "code",
   "execution_count": null,
   "id": "aeb7f089",
   "metadata": {},
   "outputs": [],
   "source": [
    "def convert_to_seconds(minutes: int, seconds: float) -> float:\n",
    "\t\"\"\" returns fractional seconds \"\"\"\n",
    "\treturn (60.0 * float(minutes)) + seconds\n",
    "\n",
    "convert_to_seconds(18, 37.5) # 1117.5"
   ]
  },
  {
   "cell_type": "code",
   "execution_count": null,
   "id": "01b8607b",
   "metadata": {},
   "outputs": [],
   "source": [
    "# Set spike emphasis on debug rasters?\n",
    "\n",
    "# Get debug rasters to match the colors in template viewer?\n"
   ]
  },
  {
   "cell_type": "code",
   "execution_count": null,
   "id": "973dd266",
   "metadata": {},
   "outputs": [],
   "source": [
    "import ipywidgets as widgets\n",
    "\n",
    "# 2023-11-17: Displays a slider that allows the user to select the epoch_IDX instead of having to type it and call it manually\n",
    "# https://ipywidgets.readthedocs.io/en/latest/examples/Widget%20Events.html#throttling\n",
    "\n",
    "active_epoch_IDX = 0\n",
    "# Define the update function\n",
    "def update_function(change):\n",
    "    global active_epoch_IDX\n",
    "    new_value = change['new']\n",
    "    active_epoch_IDX = new_value\n",
    "    # convert to good value:\n",
    "\n",
    "    # significant_ripple_epochs = deepcopy(global_replays)\n",
    "    active_epoch_IDX = significant_ripple_epochs.to_dataframe().index[new_value]\n",
    "\n",
    "    # Add your update logic here\n",
    "    print(f\"Slider value updated to: {new_value}\")\n",
    "    _out.on_update_epoch_IDX(active_epoch_IDX) # call the update\n",
    "    # print(f'n_unique_cells_participating_in_replay[{active_epoch_IDX}]: {n_unique_cells_participating_in_replay[active_epoch_IDX]}')\n",
    "    selected_epoch_df = global_replays.to_dataframe()[global_replays.to_dataframe().index == active_epoch_IDX] # should only contain one entry, the selected epoch.\n",
    "    curr_epoch = list(selected_epoch_df.itertuples())[0] # extract the interval of interest as a namedtuple object\n",
    "    print(f\"curr_epoch: {curr_epoch}\")\n",
    "\n",
    "    \n",
    "# Create a slider widget\n",
    "slider = widgets.IntSlider(value=0, min=0, max=np.shape(_out.active_epochs_df)[0], step=1, description='Test Slider')\n",
    "\n",
    "# Link the update function to value changes in the slider\n",
    "slider.observe(update_function, names='value')\n",
    "\n",
    "# Display the slider\n",
    "display(slider)\n"
   ]
  },
  {
   "cell_type": "markdown",
   "id": "220c19f9",
   "metadata": {
    "notebookRunGroups": {
     "groupValue": "2"
    }
   },
   "source": [
    "# Plot the z-scores differences and their raw-values"
   ]
  },
  {
   "cell_type": "code",
   "execution_count": null,
   "id": "c36856cb",
   "metadata": {},
   "outputs": [],
   "source": [
    "## filter events by (|z| > 1.0)\n",
    "ripple_result_tuple.active_epochs\n",
    "ripple_result_tuple.long_best_dir_z_score_values"
   ]
  },
  {
   "cell_type": "code",
   "execution_count": null,
   "id": "de5402b9",
   "metadata": {},
   "outputs": [],
   "source": [
    "# ripple_result_tuple.directional_likelihoods_tuple\n",
    "ripple_result_tuple.directional_likelihoods_tuple.long_best_direction_indices[105] # 1, "
   ]
  },
  {
   "cell_type": "code",
   "execution_count": null,
   "id": "23ac85b9",
   "metadata": {},
   "outputs": [],
   "source": [
    "ripple_result_tuple.directional_likelihoods_tuple.short_best_direction_indices[105]"
   ]
  },
  {
   "cell_type": "code",
   "execution_count": null,
   "id": "751e2ba3",
   "metadata": {},
   "outputs": [],
   "source": [
    "ripple_result_tuple.long_best_dir_z_score_values[105]"
   ]
  },
  {
   "cell_type": "code",
   "execution_count": null,
   "id": "9372e0f2",
   "metadata": {},
   "outputs": [],
   "source": [
    "ripple_result_tuple.short_best_dir_z_score_values[105]"
   ]
  },
  {
   "cell_type": "code",
   "execution_count": null,
   "id": "8a1cad5d",
   "metadata": {},
   "outputs": [],
   "source": [
    "from pyphoplacecellanalysis.General.Pipeline.Stages.ComputationFunctions.MultiContextComputationFunctions.RankOrderComputations import plot_rank_order_epoch_inst_fr_result_tuples\n",
    "\n",
    "ripple_outputs = plot_rank_order_epoch_inst_fr_result_tuples(curr_active_pipeline, ripple_result_tuple, 'Ripple')\n"
   ]
  },
  {
   "cell_type": "code",
   "execution_count": null,
   "id": "3144e337",
   "metadata": {},
   "outputs": [],
   "source": [
    "\n",
    "# Usage of the function for Lap\n",
    "lap_outputs = plot_rank_order_epoch_inst_fr_result_tuples(curr_active_pipeline, laps_result_tuple, 'Lap')"
   ]
  },
  {
   "cell_type": "code",
   "execution_count": null,
   "id": "905e6b71",
   "metadata": {},
   "outputs": [],
   "source": [
    "np.shape(ripple_result_tuple.long_best_dir_z_score_values)"
   ]
  },
  {
   "cell_type": "code",
   "execution_count": null,
   "id": "ff13302a",
   "metadata": {},
   "outputs": [],
   "source": [
    "np.shape(ripple_result_tuple.short_best_dir_z_score_values)"
   ]
  },
  {
   "cell_type": "code",
   "execution_count": null,
   "id": "c18e3936",
   "metadata": {},
   "outputs": [],
   "source": [
    "global_replays.n_epochs"
   ]
  },
  {
   "cell_type": "code",
   "execution_count": null,
   "id": "9e99e913",
   "metadata": {},
   "outputs": [],
   "source": [
    "global_replays"
   ]
  },
  {
   "cell_type": "code",
   "execution_count": null,
   "id": "4d468a50",
   "metadata": {},
   "outputs": [],
   "source": [
    "ratemap = long_pf1D.ratemap\n",
    "ratemap.tuning_curve_unsmoothed_peak_firing_rates"
   ]
  },
  {
   "cell_type": "code",
   "execution_count": null,
   "id": "c6b025f2",
   "metadata": {},
   "outputs": [],
   "source": [
    "from pyphoplacecellanalysis.General.Pipeline.Stages.ComputationFunctions.MultiContextComputationFunctions.RankOrderComputations import DirectionalRankOrderResult\n",
    "\n",
    "type(ripple_result_tuple)\n",
    "ripple_result_tuple.plot_histogram()"
   ]
  },
  {
   "cell_type": "code",
   "execution_count": null,
   "id": "5965ce17bb581dd3",
   "metadata": {
    "ExecuteTime": {
     "end_time": "2023-11-16T23:23:47.022252100Z",
     "start_time": "2023-11-16T23:23:46.862250100Z"
    }
   },
   "outputs": [],
   "source": [
    "pd.DataFrame({'long_best_z_scores': ripple_result_tuple.long_best_dir_z_score_values, 'short_best_z_scores': ripple_result_tuple.short_best_dir_z_score_values}).hist()\n",
    "plt.suptitle('Ripple Rank-Order')"
   ]
  },
  {
   "cell_type": "code",
   "execution_count": null,
   "id": "3213cd164073dbb3",
   "metadata": {
    "ExecuteTime": {
     "end_time": "2023-11-16T23:24:06.810860500Z",
     "start_time": "2023-11-16T23:24:06.644858700Z"
    }
   },
   "outputs": [],
   "source": [
    "# 2023-11-16_LapsRankOrderHistogram Figure:\n",
    "pd.DataFrame({'long_z_scores': laps_result_tuple.long_best_dir_z_score_values, 'short_z_scores': laps_result_tuple.short_best_dir_z_score_values}).hist()"
   ]
  },
  {
   "cell_type": "markdown",
   "id": "f1f2a9a6",
   "metadata": {},
   "source": [
    "# Create a new `SpikeRaster2D` instance using `_display_spike_raster_pyqtplot_2D` and capture its outputs:\n"
   ]
  },
  {
   "cell_type": "code",
   "execution_count": null,
   "id": "7cc87fb8",
   "metadata": {},
   "outputs": [],
   "source": [
    "curr_active_pipeline.prepare_for_display()"
   ]
  },
  {
   "cell_type": "code",
   "execution_count": null,
   "id": "82cc7400",
   "metadata": {},
   "outputs": [],
   "source": [
    "# Create a new `SpikeRaster2D` instance using `_display_spike_raster_pyqtplot_2D` and capture its outputs:\n",
    "# active_2d_plot, active_3d_plot, spike_raster_window = curr_active_pipeline.plot._display_spike_rasters_pyqtplot_2D()\n",
    "\n",
    "active_2d_plot, active_3d_plot, spike_raster_window = curr_active_pipeline.display('_display_spike_rasters_pyqtplot_2D', 'maze_any') # 'maze_any'\n"
   ]
  },
  {
   "cell_type": "code",
   "execution_count": null,
   "id": "39840338",
   "metadata": {},
   "outputs": [],
   "source": [
    "active_2d_plot, active_3d_plot, spike_raster_window = curr_active_pipeline.plot._display_spike_rasters_pyqtplot_2D()\n"
   ]
  },
  {
   "cell_type": "code",
   "execution_count": null,
   "id": "e75eb376",
   "metadata": {},
   "outputs": [],
   "source": [
    "spike_raster_window"
   ]
  },
  {
   "cell_type": "code",
   "execution_count": null,
   "id": "10b7afeb",
   "metadata": {},
   "outputs": [],
   "source": [
    "spikes_window = spike_raster_window.spikes_window # SpikesDataframeWindow\n",
    "\n",
    "bottomPlaybackControlBarWidget = spike_raster_window.ui.bottomPlaybackControlBarWidget # Spike3DRasterBottomPlaybackControlBar \n",
    "\n",
    "doubleSpinBox_ActiveWindowStartTime = bottomPlaybackControlBarWidget.ui.doubleSpinBox_ActiveWindowStartTime\n",
    "doubleSpinBox_ActiveWindowEndTime = bottomPlaybackControlBarWidget.ui.doubleSpinBox_ActiveWindowEndTime\n",
    "\n",
    "\n",
    "# spikes_window.timeWindow.start\n",
    "# spikes_window.active_window_start_time\n",
    "# spikes_window.update_window_start_end(451.8908457518555, 451.9895490613999) ## Works but does not trigger refresh/update of the window. The changes are reflected as soon as you try to scroll at all though.\n",
    "# spikes_window.active_window_end_time\n",
    "\n",
    "print(f'spikes_window.active_window_start_time: {spikes_window.active_window_start_time}, spikes_window.active_window_end_time: {spikes_window.active_window_end_time}')\n",
    "# need to block signals:\n",
    "# doubleSpinBox_ActiveWindowStartTime.blockSignals(True)\n",
    "# doubleSpinBox_ActiveWindowEndTime.blockSignals(True)\n",
    "doubleSpinBox_ActiveWindowStartTime.setValue(spikes_window.active_window_start_time)\n",
    "doubleSpinBox_ActiveWindowEndTime.setValue(spikes_window.active_window_end_time)\n",
    "# doubleSpinBox_ActiveWindowStartTime.blockSignals(False) # unblock the signals when done\n",
    "# doubleSpinBox_ActiveWindowEndTime.blockSignals(False)\n",
    "\n",
    "\n",
    "# @pyqtExceptionPrintingSlot(float, float)\n",
    "def on_active_window_changed(start_t, end_t, _obj):\n",
    "\t# need to block signals:\n",
    "\t# doubleSpinBox_ActiveWindowStartTime.blockSignals(True)\n",
    "\t# doubleSpinBox_ActiveWindowEndTime.blockSignals(True)\n",
    "\tif start_t is not None:\n",
    "\t\tdoubleSpinBox_ActiveWindowStartTime.setValue(start_t)\n",
    "\tif end_t is not None:\n",
    "\t\tdoubleSpinBox_ActiveWindowEndTime.setValue(end_t)\n",
    "\t# doubleSpinBox_ActiveWindowStartTime.blockSignals(False) # unblock the signals when done\n",
    "\t# doubleSpinBox_ActiveWindowEndTime.blockSignals(False)\n",
    "\n",
    "curr_window_ctrls_connection = spikes_window.windowed_data_window_updated_signal.connect(on_active_window_changed)\n"
   ]
  },
  {
   "cell_type": "code",
   "execution_count": null,
   "id": "113a3acd",
   "metadata": {},
   "outputs": [],
   "source": [
    "doubleSpinBox_ActiveWindowStartTime.setReadOnly(True)\n",
    "doubleSpinBox_ActiveWindowEndTime.setReadOnly(True)\n",
    "\n",
    "spikes_window.on_window_changed.connect("
   ]
  },
  {
   "cell_type": "code",
   "execution_count": null,
   "id": "8319e362",
   "metadata": {},
   "outputs": [],
   "source": [
    "doubleSpinBox_ActiveWindowStartTime.setVisible(False)\n",
    "bottomPlaybackControlBarWidget.setVisible(False)"
   ]
  },
  {
   "cell_type": "code",
   "execution_count": null,
   "id": "01d043d6",
   "metadata": {},
   "outputs": [],
   "source": [
    "# global_epoch_context\n",
    "curr_active_pipeline.reload_default_display_functions()\n",
    "# curr_active_pipeline.prepare_for_display()\n",
    "curr_active_pipeline.clear_display_outputs()\n"
   ]
  },
  {
   "cell_type": "code",
   "execution_count": null,
   "id": "baddcf94",
   "metadata": {},
   "outputs": [],
   "source": []
  },
  {
   "cell_type": "code",
   "execution_count": null,
   "id": "2441e547",
   "metadata": {},
   "outputs": [],
   "source": [
    "# Gets the existing SpikeRasterWindow or creates a new one if one doesn't already exist:\n",
    "from pyphocorehelpers.gui.Qt.TopLevelWindowHelper import TopLevelWindowHelper\n",
    "import pyphoplacecellanalysis.External.pyqtgraph as pg # Used to get the app for TopLevelWindowHelper.top_level_windows\n",
    "## For searching with `TopLevelWindowHelper.all_widgets(...)`:\n",
    "from pyphoplacecellanalysis.GUI.PyQtPlot.Widgets.SpikeRasterWidgets.Spike2DRaster import Spike2DRaster\n",
    "from pyphoplacecellanalysis.GUI.PyQtPlot.Widgets.SpikeRasterWidgets.Spike3DRaster import Spike3DRaster\n",
    "from pyphoplacecellanalysis.GUI.Qt.SpikeRasterWindows.Spike3DRasterWindowWidget import Spike3DRasterWindowWidget\n",
    "\n",
    "found_spike_raster_windows = TopLevelWindowHelper.all_widgets(pg.mkQApp(), searchType=Spike3DRasterWindowWidget)\n",
    "\n",
    "if len(found_spike_raster_windows) < 1:\n",
    "\t# no existing spike_raster_windows. Make a new one\n",
    "\tprint(f'no existing SpikeRasterWindow. Creating a new one.')\n",
    "\t# Create a new `SpikeRaster2D` instance using `_display_spike_raster_pyqtplot_2D` and capture its outputs:\n",
    "\t# active_2d_plot, active_3d_plot, spike_raster_window = curr_active_pipeline.plot._display_spike_rasters_pyqtplot_2D()\n",
    "\n",
    "\tactive_2d_plot, active_3d_plot, spike_raster_window = curr_active_pipeline.plot._display_spike_rasters_pyqtplot_2D()\n",
    "\n",
    "else:\n",
    "\tprint(f'found {len(found_spike_raster_windows)} existing Spike3DRasterWindowWidget windows using TopLevelWindowHelper.all_widgets(...). Will use the most recent.')\n",
    "\t# assert len(found_spike_raster_windows) == 1, f\"found {len(found_spike_raster_windows)} Spike3DRasterWindowWidget windows using TopLevelWindowHelper.all_widgets(...) but require exactly one.\"\n",
    "\t# Get the most recent existing one and reuse that:\n",
    "\tspike_raster_window = found_spike_raster_windows[0]\n",
    "\n",
    "\n",
    "# Extras:\n",
    "active_2d_plot = spike_raster_window.spike_raster_plt_2d # <pyphoplacecellanalysis.GUI.PyQtPlot.Widgets.SpikeRasterWidgets.Spike2DRaster.Spike2DRaster at 0x196c7244280>\n",
    "active_3d_plot = spike_raster_window.spike_raster_plt_3d # <pyphoplacecellanalysis.GUI.PyQtPlot.Widgets.SpikeRasterWidgets.Spike2DRaster.Spike2DRaster at 0x196c7244280>\n",
    "main_graphics_layout_widget = active_2d_plot.ui.main_graphics_layout_widget # GraphicsLayoutWidget\n",
    "main_plot_widget = active_2d_plot.plots.main_plot_widget # PlotItem\n",
    "background_static_scroll_plot_widget = active_2d_plot.plots.background_static_scroll_window_plot # PlotItem"
   ]
  },
  {
   "cell_type": "code",
   "execution_count": null,
   "id": "7c6338da",
   "metadata": {},
   "outputs": [],
   "source": [
    "spike_raster_window.isVisible() # False\n",
    "# spike_raster_window.show()\n",
    "spike_raster_window.close()"
   ]
  },
  {
   "cell_type": "code",
   "execution_count": null,
   "id": "0bafe4df",
   "metadata": {},
   "outputs": [],
   "source": [
    "spike_raster_window.connection_man.active_connections"
   ]
  },
  {
   "cell_type": "code",
   "execution_count": null,
   "id": "0a801d59",
   "metadata": {},
   "outputs": [],
   "source": [
    "found_any_window = TopLevelWindowHelper.top_level_windows(pg.mkQApp())\n",
    "found_any_window"
   ]
  },
  {
   "cell_type": "code",
   "execution_count": null,
   "id": "17d815bb",
   "metadata": {},
   "outputs": [],
   "source": [
    "# print windows:\n",
    "[print_widget_hierarchy(v) for k, v in found_any_window.items()]"
   ]
  },
  {
   "cell_type": "code",
   "execution_count": null,
   "id": "5c00e166",
   "metadata": {},
   "outputs": [],
   "source": [
    "_display_out = curr_active_pipeline.last_added_display_output\n"
   ]
  },
  {
   "cell_type": "code",
   "execution_count": null,
   "id": "b06ea13e",
   "metadata": {},
   "outputs": [],
   "source": [
    "ipspikesDataExplorer = _display_out['ipspikesDataExplorer']\n",
    "pActiveSpikesBehaviorPlotter = _display_out['plotter']\n"
   ]
  },
  {
   "cell_type": "code",
   "execution_count": null,
   "id": "0d0cd1f5",
   "metadata": {},
   "outputs": [],
   "source": [
    "ipspikesDataExplorer\n",
    "\n"
   ]
  },
  {
   "cell_type": "code",
   "execution_count": null,
   "id": "2c92cd2f",
   "metadata": {},
   "outputs": [],
   "source": [
    " = curr_active_pipeline.last_added_display_output\n",
    "_display_out\n"
   ]
  },
  {
   "cell_type": "code",
   "execution_count": null,
   "id": "e02ac639",
   "metadata": {},
   "outputs": [],
   "source": [
    "\n",
    "\n",
    "ipspikesDataExplorer = self._display_output['ipspikesDataExplorer']"
   ]
  },
  {
   "cell_type": "code",
   "execution_count": null,
   "id": "bd461fb3",
   "metadata": {},
   "outputs": [],
   "source": [
    "### Adjusting Spike Emphasis:\n",
    "#### Usage Examples:\n",
    "from pyphoplacecellanalysis.General.Mixins.SpikesRenderingBaseMixin import SpikeEmphasisState\n",
    "from neuropy.core.neuron_identities import NeuronType\n"
   ]
  },
  {
   "cell_type": "code",
   "execution_count": null,
   "id": "b1dd5449",
   "metadata": {},
   "outputs": [],
   "source": [
    "\n",
    "## Example 1: De-emphasize spikes excluded from the placefield calculations:\n",
    "is_spike_included_in_pf = np.isin(spike_raster_window.spike_raster_plt_2d.spikes_df.index, active_pf_2D.filtered_spikes_df.index)\n",
    "spike_raster_window.spike_raster_plt_2d.update_spike_emphasis(np.logical_not(is_spike_included_in_pf), SpikeEmphasisState.Deemphasized)\n",
    "\n",
    "## Example 2: De-emphasize spikes that don't have their 'aclu' from a given set of indicies:\n",
    "is_spike_included = spike_raster_window.spike_raster_plt_2d.spikes_df.aclu.to_numpy() == 2\n",
    "spike_raster_window.spike_raster_plt_2d.update_spike_emphasis(np.logical_not(is_spike_included), SpikeEmphasisState.Deemphasized)\n",
    "\n",
    "## Example 3: De-emphasize all spikes \n",
    "active_2d_plot.update_spike_emphasis(new_emphasis_state=SpikeEmphasisState.Deemphasized)\n",
    "\n",
    "## Example 4: Hide all spikes entirely\n",
    "active_2d_plot.update_spike_emphasis(new_emphasis_state=SpikeEmphasisState.Hidden)\n"
   ]
  },
  {
   "cell_type": "code",
   "execution_count": null,
   "id": "98b9a61d",
   "metadata": {},
   "outputs": [],
   "source": [
    "## Setup: Hide all non-pyramidal spikes entirely\n",
    "spikes_df = spike_raster_window.spikes_df\n",
    "spike_raster_window.spike_raster_plt_2d.update_spike_emphasis(np.logical_not((spikes_df.neuron_type == NeuronType.from_string('pyr'))), SpikeEmphasisState.Hidden)"
   ]
  },
  {
   "cell_type": "code",
   "execution_count": null,
   "id": "f3feb699",
   "metadata": {},
   "outputs": [],
   "source": [
    "spikes_window = spike_raster_window.spikes_window # SpikesDataframeWindow\n",
    "# spikes_window.update_window_start_end(451.8908457518555, 451.9895490613999) ## Works but does not trigger refresh/update of the window. The changes are reflected as soon as you try to scroll at all though.\n"
   ]
  },
  {
   "cell_type": "code",
   "execution_count": null,
   "id": "1ae85b4a",
   "metadata": {},
   "outputs": [],
   "source": [
    "# 20*60.0 + 50.0 +  0.218 = 1250.218\n",
    "\n",
    "spikes_window.update_window_start_end(1250.218, (1250.218 + 3.0))\n",
    "\n"
   ]
  },
  {
   "cell_type": "code",
   "execution_count": null,
   "id": "325548b0",
   "metadata": {},
   "outputs": [],
   "source": [
    "spikes_window.window_duration # Prints the current window's duration. The win. dur. label control in the left bar is not updated.\n",
    "\n",
    "desired_window_fraction: float = 0.1 # 10% of the window is the default jump size\n",
    "relevant_jump_duration: float = spikes_window.window_duration * desired_window_fraction\n",
    "relevant_jump_duration\n"
   ]
  },
  {
   "cell_type": "code",
   "execution_count": null,
   "id": "7bc81002",
   "metadata": {},
   "outputs": [],
   "source": [
    "from pyphoplacecellanalysis.PhoPositionalData.plotting.mixins.spikes_mixins import SpikeRenderingPyVistaMixin\n",
    "from pyphoplacecellanalysis.GUI.PyVista.InteractivePlotter.InteractivePlaceCellTuningCurvesDataExplorer import InteractivePlaceCellTuningCurvesDataExplorer\n",
    "# from pyphoplacecellanalysis.GUI.PyVista.InteractivePlotter.InteractivePlaceCellTuningCurvesDataExplorer import InteractivePlaceCellTuningCurvesDataExplorer\n",
    "from pyphoplacecellanalysis.GUI.PyVista.InteractivePlotter.InteractivePlaceCellDataExplorer import InteractivePlaceCellDataExplorer\n",
    "\n",
    "found_windows_of_type = TopLevelWindowHelper.all_widgets(pg.mkQApp(), searchType=InteractivePlaceCellDataExplorer)\n",
    "found_windows_of_type\n",
    "TopLevelWindowHelper.top_level_windows(pg.mkQApp(), only_visible=True)"
   ]
  },
  {
   "cell_type": "code",
   "execution_count": null,
   "id": "e2abd93f",
   "metadata": {},
   "outputs": [],
   "source": [
    "(451.8908457518555, 451.9895490613999)"
   ]
  },
  {
   "cell_type": "code",
   "execution_count": null,
   "id": "6c418968",
   "metadata": {},
   "outputs": [],
   "source": [
    "from pyphoplacecellanalysis.SpecificResults.PhoDiba2023Paper import BatchPhoJonathanFiguresHelper\n",
    "\n",
    "fig_1c_figures_out_dict = BatchPhoJonathanFiguresHelper.run(curr_active_pipeline, neuron_replay_stats_df, included_unit_neuron_IDs=XOR_subset.track_exclusive_aclus, n_max_page_rows=20, write_vector_format=False, write_png=True, disable_top_row=True) # active_out_figures_dict: {IdentifyingContext<('kdiba', 'gor01', 'two', '2006-6-07_16-40-19', 'BatchPhoJonathanReplayFRC', 'long_only', '(12,21,48)')>: <Figure size 1920x660 with 12 Axes>, IdentifyingContext<('kdiba', 'gor01', 'two', '2006-6-07_16-40-19', 'BatchPhoJonathanReplayFRC', 'short_only', '(18,19,65)')>: <Figure size 1920x660 with 12 Axes>}"
   ]
  },
  {
   "cell_type": "markdown",
   "id": "2ea2f309",
   "metadata": {},
   "source": [
    "# PhoKamran2023Paper Results"
   ]
  },
  {
   "cell_type": "code",
   "execution_count": null,
   "id": "85a7dd8b",
   "metadata": {},
   "outputs": [],
   "source": [
    "pg.setConfigOptions(background='white', foreground='black') # black on white background (more traditional) color scheme"
   ]
  },
  {
   "cell_type": "markdown",
   "id": "162d813d",
   "metadata": {},
   "source": [
    "## Figure 1) pf1D Ratemaps, Active set, etc"
   ]
  },
  {
   "cell_type": "code",
   "execution_count": null,
   "id": "273696fc",
   "metadata": {},
   "outputs": [],
   "source": [
    "from pyphoplacecellanalysis.General.Pipeline.Stages.DisplayFunctions.SpikeRasters import plot_multiple_raster_plot, plot_raster_plot\n",
    "from pyphoplacecellanalysis.Pho2D.matplotlib.visualize_heatmap import visualize_heatmap_pyqtgraph # used in `plot_kourosh_activity_style_figure`\n",
    "from pyphoplacecellanalysis.SpecificResults.PhoDiba2023Paper import PAPER_FIGURE_figure_1_full, PAPER_FIGURE_figure_1_add_replay_epoch_rasters\n",
    "\n",
    "curr_active_pipeline.prepare_for_display()\n",
    "pf1d_compare_graphics, (example_epoch_rasters_L, example_epoch_rasters_S), example_stacked_epoch_graphics, fig_1c_figures_out_dict = PAPER_FIGURE_figure_1_full(curr_active_pipeline) # did not display the pf1"
   ]
  },
  {
   "cell_type": "code",
   "execution_count": null,
   "id": "84fa9acc",
   "metadata": {},
   "outputs": [],
   "source": [
    "# rdf = jonathan_firing_rate_analysis_result.rdf.rdf\n",
    "# rdf\n",
    "# ==================================================================================================================== #\n",
    "# Fig 1c) 2023-07-14 - LxC and SxC PhoJonathanSession plots                                                            #\n",
    "# ==================================================================================================================== #\n",
    "from pyphoplacecellanalysis.General.Batch.NonInteractiveProcessing import BatchPhoJonathanFiguresHelper\n",
    "\n",
    "## Get global 'jonathan_firing_rate_analysis' results:\n",
    "curr_jonathan_firing_rate_analysis = curr_active_pipeline.global_computation_results.computed_data['jonathan_firing_rate_analysis']\n",
    "neuron_replay_stats_df, rdf, aclu_to_idx, irdf = curr_jonathan_firing_rate_analysis.neuron_replay_stats_df, curr_jonathan_firing_rate_analysis.rdf.rdf, curr_jonathan_firing_rate_analysis.rdf.aclu_to_idx, curr_jonathan_firing_rate_analysis.irdf.irdf\n",
    "\n",
    "fig_1c_figures_out_dict = BatchPhoJonathanFiguresHelper.run(curr_active_pipeline, neuron_replay_stats_df, included_unit_neuron_IDs=XOR_subset.track_exclusive_aclus, n_max_page_rows=20, write_vector_format=False, write_png=True, disable_top_row=True) # active_out_figures_dict: {IdentifyingContext<('kdiba', 'gor01', 'two', '2006-6-07_16-40-19', 'BatchPhoJonathanReplayFRC', 'long_only', '(12,21,48)')>: <Figure size 1920x660 with 12 Axes>, IdentifyingContext<('kdiba', 'gor01', 'two', '2006-6-07_16-40-19', 'BatchPhoJonathanReplayFRC', 'short_only', '(18,19,65)')>: <Figure size 1920x660 with 12 Axes>}\n"
   ]
  },
  {
   "cell_type": "markdown",
   "id": "5cba3c7a",
   "metadata": {},
   "source": [
    "## Figure 2) `PaperFigureTwo`: LxC/SxC Analyses\n",
    "Note: this fails when SxC or LxC are empty for this session (as it's not meaningful to produce a comparison bar plot). In this case, aggregate across multiple sessions."
   ]
  },
  {
   "cell_type": "code",
   "execution_count": null,
   "id": "97d3e1ff",
   "metadata": {},
   "outputs": [],
   "source": [
    "from pyphoplacecellanalysis.SpecificResults.PhoDiba2023Paper import PaperFigureTwo\n",
    "\n",
    "_out_fig_2 = PaperFigureTwo(instantaneous_time_bin_size_seconds=0.01) # 10ms\n",
    "_out_fig_2.compute(curr_active_pipeline=curr_active_pipeline)\n",
    "_out_fig_2.display()"
   ]
  },
  {
   "cell_type": "markdown",
   "id": "14a52142",
   "metadata": {},
   "source": [
    "## Figure 3) `PAPER_FIGURE_figure_3`: Firing Rate Index and Long/Short Firing Rate Replays v. Laps"
   ]
  },
  {
   "cell_type": "code",
   "execution_count": null,
   "id": "5f765ed6",
   "metadata": {},
   "outputs": [],
   "source": [
    "from neuropy.utils.matplotlib_helpers import FormattedFigureText\n",
    "from pyphoplacecellanalysis.General.Pipeline.Stages.DisplayFunctions.MultiContextComparingDisplayFunctions.LongShortTrackComparingDisplayFunctions import _plot_long_short_firing_rate_indicies\n",
    "# curr_active_pipeline.reload_default_display_functions()\n",
    "\n",
    "_out, _out2 = PAPER_FIGURE_figure_3(curr_active_pipeline, defer_render=False, save_figure=True)"
   ]
  }
 ],
 "metadata": {
  "kernelspec": {
   "display_name": ".venv",
   "language": "python",
   "name": "python3"
  },
  "language_info": {
   "codemirror_mode": {
    "name": "ipython",
    "version": 3
   },
   "file_extension": ".py",
   "mimetype": "text/x-python",
   "name": "python",
   "nbconvert_exporter": "python",
   "pygments_lexer": "ipython3",
   "version": "3.9.13"
  }
 },
 "nbformat": 4,
 "nbformat_minor": 5
}
