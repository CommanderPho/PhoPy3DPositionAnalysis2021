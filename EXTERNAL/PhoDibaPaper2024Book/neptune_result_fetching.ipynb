{
 "cells": [
  {
   "cell_type": "markdown",
   "metadata": {
    "vscode": {
     "languageId": "plaintext"
    }
   },
   "source": [
    "# Neptune Result Fetching Notebook"
   ]
  },
  {
   "cell_type": "code",
   "execution_count": 1,
   "metadata": {
    "tags": [
     "run/main"
    ]
   },
   "outputs": [
    {
     "name": "stdout",
     "output_type": "stream",
     "text": [
      "Automatic pdb calling has been turned OFF\n",
      "TODAY_DAY_DATE: 2024-10-15_Lab\n"
     ]
    }
   ],
   "source": [
    "%config IPCompleter.use_jedi = False\n",
    "%pdb off\n",
    "%load_ext autoreload\n",
    "%autoreload 3\n",
    "\n",
    "# required to enable non-blocking interaction:\n",
    "%gui qt5\n",
    "\n",
    "# import ipywidgets as widgets\n",
    "# widgets.Widget.control_comm_live = False\n",
    "\n",
    "import sys\n",
    "from copy import deepcopy\n",
    "from typing import Dict, List, Tuple, Optional, Callable, Union, Any\n",
    "from typing_extensions import TypeAlias\n",
    "from neuropy.utils.result_context import IdentifyingContext\n",
    "from nptyping import NDArray\n",
    "import neuropy.utils.type_aliases as types\n",
    "from collections import defaultdict\n",
    "\n",
    "import numpy as np\n",
    "import pandas as pd\n",
    "import re\n",
    "from pathlib import Path\n",
    "from datetime import datetime\n",
    "\n",
    "from neuropy.utils.indexing_helpers import PandasHelpers\n",
    "from pyphocorehelpers.indexing_helpers import partition_df\n",
    "# Set the maximum number of columns to display\n",
    "pd.set_option('display.max_columns', 100)\n",
    "\n",
    "import IPython\n",
    "from pyphocorehelpers.programming_helpers import IPythonHelpers\n",
    "from pyphocorehelpers.notebook_helpers import NotebookCellExecutionLogger\n",
    "from pyphocorehelpers.assertion_helpers import Assert\n",
    "\n",
    "# Jupyter-lab enable printing for any line on its own (instead of just the last one in the cell)\n",
    "from IPython.core.interactiveshell import InteractiveShell\n",
    "InteractiveShell.ast_node_interactivity = \"all\"\n",
    "\n",
    "# _notebook_path:Path = Path(IPythonHelpers.try_find_notebook_filepath(IPython.extract_module_locals())).resolve() # Finds the path of THIS notebook\n",
    "\n",
    "# Plotting\n",
    "# import pylustrator # customization of figures\n",
    "import matplotlib\n",
    "import matplotlib as mpl\n",
    "import matplotlib.pyplot as plt\n",
    "_bak_rcParams = mpl.rcParams.copy()\n",
    "\n",
    "matplotlib.use('Qt5Agg')\n",
    "\n",
    "# Switch to the desired interactivity mode\n",
    "plt.interactive(True)\n",
    "\n",
    "import seaborn as sns\n",
    "\n",
    "import plotly.express as px\n",
    "import plotly.graph_objects as go\n",
    "from plotly.subplots import make_subplots\n",
    "import plotly.io as pio\n",
    "template: str = 'plotly_dark' # set plotl template\n",
    "pio.templates.default = template\n",
    "from pyphocorehelpers.plotting.media_output_helpers import fig_to_clipboard\n",
    "from pyphocorehelpers.Filesystem.path_helpers import file_uri_from_path, sanitize_filename_for_Windows\n",
    "from pyphocorehelpers.gui.Jupyter.simple_widgets import fullwidth_path_widget, simple_path_display_widget\n",
    "from pyphoplacecellanalysis.Pho2D.plotly.Extensions.plotly_helpers import plotly_helper_save_figures, _helper_build_figure, plotly_pre_post_delta_scatter, plot_across_sessions_scatter_results\n",
    "from pyphocorehelpers.assertion_helpers import Assert\n",
    "\n",
    "# from ..PendingNotebookCode import plot_across_sessions_scatter_results, plot_histograms, plot_stacked_histograms\n",
    "from pyphocorehelpers.Filesystem.path_helpers import find_first_extant_path\n",
    "from pyphoplacecellanalysis.SpecificResults.AcrossSessionResults import find_csv_files, find_HDF5_files, find_most_recent_files\n",
    "from pyphoplacecellanalysis.Pho2D.statistics_plotting_helpers import plot_histograms_across_sessions, plot_histograms, plot_stacked_histograms\n",
    "\n",
    "from pyphoplacecellanalysis.General.Pipeline.Stages.ComputationFunctions.MultiContextComputationFunctions.DirectionalPlacefieldGlobalComputationFunctions import DecoderDecodedEpochsResult\n",
    "from pyphoplacecellanalysis.SpecificResults.AcrossSessionResults import load_across_sessions_exported_files, _process_and_load_exported_file, _common_cleanup_operations\n",
    "\n",
    "from pyphocorehelpers.programming_helpers import metadata_attributes\n",
    "from pyphocorehelpers.function_helpers import function_attributes\n",
    "\n",
    "from pyphoplacecellanalysis.SpecificResults.AcrossSessionResults import build_session_t_delta, _new_process_csv_files, _old_process_csv_files\n",
    "from pyphoplacecellanalysis.General.Batch.NeptuneAiHelpers import get_nested_value, flatten_dict\n",
    "# from neptune.types import File\n",
    "from neptune.attributes.atoms.file import File\n",
    "\n",
    "debug_print: bool = False\n",
    "\n",
    "_TODAY_DAY_ONLY_DATE: str = \"2024-10-15\"\n",
    "# TODAY_DAY_DATE: str = f\"{_TODAY_DAY_ONLY_DATE}_Apogee\"\n",
    "# TODAY_DAY_DATE: str = f\"{_TODAY_DAY_ONLY_DATE}_GL\"\n",
    "TODAY_DAY_DATE: str = f\"{_TODAY_DAY_ONLY_DATE}_Lab\"\n",
    "# TODAY_DAY_DATE: str = f\"{_TODAY_DAY_ONLY_DATE}_rMBP\"\n",
    "\n",
    "print(f'TODAY_DAY_DATE: {TODAY_DAY_DATE}')\n",
    "\n",
    "types.session_str: TypeAlias = str # a unique session identifier\n",
    "\n",
    "import neptune # for logging progress and results\n",
    "from neptune.types import File\n",
    "from pyphoplacecellanalysis.General.Batch.NeptuneAiHelpers import Neptuner, AutoValueConvertingNeptuneRun, set_environment_variables, SessionDescriptorString, RunID, NeptuneRunCollectedResults, KnownNeptuneProjects\n",
    "\n",
    "## Gets the notebook filepath for Neptune:\n",
    "import IPython\n",
    "from pyphocorehelpers.programming_helpers import IPythonHelpers\n",
    "# notebook_filepath: str = IPythonHelpers.try_find_notebook_filepath(IPython.extract_module_locals())\n",
    "# assert Path(notebook_filepath).resolve().exists(), f\"found notebook filepath: '{notebook_filepath}' does not exist\"\n",
    "# notebook_filepath\n",
    "\n",
    "        \n",
    "from pyphoplacecellanalysis.SpecificResults.PendingNotebookCode import ProgrammaticDisplayFunctionTestingFolderImageLoading\n"
   ]
  },
  {
   "cell_type": "code",
   "execution_count": 2,
   "metadata": {},
   "outputs": [
    {
     "name": "stdout",
     "output_type": "stream",
     "text": [
      "[neptune] [info   ] Neptune initialized. Open in the app: https://app.neptune.ai/commander.pho/PhoDibaLongShortUpdated/\n",
      "project_main_name: \"PhoDibaLongShortUpdated\"\n"
     ]
    },
    {
     "data": {
      "text/plain": [
       "PosixPath('/home/halechr/repos/Spike3D/data')"
      ]
     },
     "execution_count": 2,
     "metadata": {},
     "output_type": "execute_result"
    },
    {
     "data": {
      "text/plain": [
       "PosixPath('/home/halechr/repos/Spike3D/data/commander.pho/PhoDibaLongShortUpdated')"
      ]
     },
     "execution_count": 2,
     "metadata": {},
     "output_type": "execute_result"
    },
    {
     "data": {
      "text/plain": [
       "PosixPath('/home/halechr/repos/Spike3D/data/commander.pho/PhoDibaLongShortUpdated/figs')"
      ]
     },
     "execution_count": 2,
     "metadata": {},
     "output_type": "execute_result"
    },
    {
     "data": {
      "text/plain": [
       "PosixPath('/home/halechr/repos/Spike3D/data/commander.pho/PhoDibaLongShortUpdated/logs')"
      ]
     },
     "execution_count": 2,
     "metadata": {},
     "output_type": "execute_result"
    }
   ],
   "source": [
    "# neptune_kwargs = KnownNeptuneProjects.get_PhoDibaBatchProcessing_neptune_kwargs() # the one with logs and stuff\n",
    "neptune_kwargs = KnownNeptuneProjects.get_PhoDibaLongShortUpdated_neptune_kwargs() # the one with images and stuff\n",
    "neptuner = Neptuner(project_name=neptune_kwargs['project'], api_token=neptune_kwargs['api_token'])\n",
    "project_main_name: str = neptuner.project_name.split('/')[-1] # 'PhoDibaLongShortUpdated'\n",
    "print(f'project_main_name: \"{project_main_name}\"')\n",
    "neptune_root_output_path = find_first_extant_path(path_list=[Path(r\"C:/Users/pho/repos/Spike3DWorkEnv/Spike3D/EXTERNAL/PhoDibaPaper2024Book/data/neptune\").resolve(),\n",
    "                                  Path(\"/home/halechr/repos/Spike3D/EXTERNAL/PhoDibaPaper2024Book/data\").resolve(),\n",
    "                                  Path('EXTERNAL/PhoDibaPaper2024Book/data/neptune').resolve(),\n",
    "])\n",
    "neptune_root_output_path.mkdir(exist_ok=True)\n",
    "neptune_root_output_path\n",
    "# neptune_project_output_path = neptune_root_output_path.joinpath(neptuner.project_name).resolve()\n",
    "neptune_project_output_path = neptune_root_output_path.joinpath(neptuner.project_name).resolve()\n",
    "neptune_project_output_path.mkdir(exist_ok=True, parents=True)\n",
    "neptune_project_output_path\n",
    "\n",
    "neptune_project_figures_output_path = neptune_project_output_path.joinpath('figs').resolve()\n",
    "neptune_project_figures_output_path.mkdir(exist_ok=True, parents=True)\n",
    "neptune_project_figures_output_path\n",
    "\n",
    "neptune_logs_output_path = neptune_project_output_path.joinpath('logs').resolve()\n",
    "neptune_logs_output_path.mkdir(exist_ok=True, parents=True)\n",
    "neptune_logs_output_path"
   ]
  },
  {
   "cell_type": "code",
   "execution_count": 3,
   "metadata": {
    "tags": [
     "run/main"
    ]
   },
   "outputs": [
    {
     "data": {
      "application/vnd.jupyter.widget-view+json": {
       "model_id": "f8df5c76e2c749d88aca1ac8230caf65",
       "version_major": 2,
       "version_minor": 0
      },
      "text/plain": [
       "Fetching table...: 0 [00:00, ?/s]"
      ]
     },
     "metadata": {},
     "output_type": "display_data"
    },
    {
     "name": "stdout",
     "output_type": "stream",
     "text": [
      "[neptune] [info   ] Neptune initialized. Open in the app: https://app.neptune.ai/commander.pho/PhoDibaLongShortUpdated/e/LS2023-1408\n",
      "[neptune] [info   ] Neptune initialized. Open in the app: https://app.neptune.ai/commander.pho/PhoDibaLongShortUpdated/e/LS2023-1409\n",
      "[neptune] [info   ] Neptune initialized. Open in the app: https://app.neptune.ai/commander.pho/PhoDibaLongShortUpdated/e/LS2023-1406\n",
      "[neptune] [info   ] Neptune initialized. Open in the app: https://app.neptune.ai/commander.pho/PhoDibaLongShortUpdated/e/LS2023-1407\n",
      "[neptune] [info   ] Neptune initialized. Open in the app: https://app.neptune.ai/commander.pho/PhoDibaLongShortUpdated/e/LS2023-1402\n",
      "[neptune] [info   ] Neptune initialized. Open in the app: https://app.neptune.ai/commander.pho/PhoDibaLongShortUpdated/e/LS2023-1399\n",
      "[neptune] [info   ] Neptune initialized. Open in the app: https://app.neptune.ai/commander.pho/PhoDibaLongShortUpdated/e/LS2023-1405\n",
      "[neptune] [info   ] Neptune initialized. Open in the app: https://app.neptune.ai/commander.pho/PhoDibaLongShortUpdated/e/LS2023-1401\n",
      "[neptune] [info   ] Neptune initialized. Open in the app: https://app.neptune.ai/commander.pho/PhoDibaLongShortUpdated/e/LS2023-1403\n",
      "[neptune] [info   ] Neptune initialized. Open in the app: https://app.neptune.ai/commander.pho/PhoDibaLongShortUpdated/e/LS2023-1400\n",
      "[neptune] [info   ] Neptune initialized. Open in the app: https://app.neptune.ai/commander.pho/PhoDibaLongShortUpdated/e/LS2023-1404\n",
      "[neptune] [info   ] Neptune initialized. Open in the app: https://app.neptune.ai/commander.pho/PhoDibaLongShortUpdated/e/LS2023-1398\n",
      "[neptune] [info   ] Neptune initialized. Open in the app: https://app.neptune.ai/commander.pho/PhoDibaLongShortUpdated/e/LS2023-1397\n",
      "[neptune] [info   ] Neptune initialized. Open in the app: https://app.neptune.ai/commander.pho/PhoDibaLongShortUpdated/e/LS2023-1395\n",
      "[neptune] [info   ] Neptune initialized. Open in the app: https://app.neptune.ai/commander.pho/PhoDibaLongShortUpdated/e/LS2023-1396\n",
      "[neptune] [info   ] Neptune initialized. Open in the app: https://app.neptune.ai/commander.pho/PhoDibaLongShortUpdated/e/LS2023-1390\n",
      "[neptune] [info   ] Neptune initialized. Open in the app: https://app.neptune.ai/commander.pho/PhoDibaLongShortUpdated/e/LS2023-1392\n",
      "[neptune] [info   ] Neptune initialized. Open in the app: https://app.neptune.ai/commander.pho/PhoDibaLongShortUpdated/e/LS2023-1394\n",
      "[neptune] [info   ] Neptune initialized. Open in the app: https://app.neptune.ai/commander.pho/PhoDibaLongShortUpdated/e/LS2023-1391\n",
      "[neptune] [info   ] Neptune initialized. Open in the app: https://app.neptune.ai/commander.pho/PhoDibaLongShortUpdated/e/LS2023-1389\n",
      "[neptune] [info   ] Neptune initialized. Open in the app: https://app.neptune.ai/commander.pho/PhoDibaLongShortUpdated/e/LS2023-1393\n",
      "[neptune] [info   ] Neptune initialized. Open in the app: https://app.neptune.ai/commander.pho/PhoDibaLongShortUpdated/e/LS2023-1388\n",
      "[neptune] [info   ] Neptune initialized. Open in the app: https://app.neptune.ai/commander.pho/PhoDibaLongShortUpdated/e/LS2023-1387\n",
      "[neptune] [info   ] Neptune initialized. Open in the app: https://app.neptune.ai/commander.pho/PhoDibaLongShortUpdated/e/LS2023-1386\n",
      "[neptune] [info   ] Neptune initialized. Open in the app: https://app.neptune.ai/commander.pho/PhoDibaLongShortUpdated/e/LS2023-1377\n",
      "[neptune] [info   ] Neptune initialized. Open in the app: https://app.neptune.ai/commander.pho/PhoDibaLongShortUpdated/e/LS2023-1378\n",
      "[neptune] [info   ] Neptune initialized. Open in the app: https://app.neptune.ai/commander.pho/PhoDibaLongShortUpdated/e/LS2023-1375\n",
      "[neptune] [info   ] Neptune initialized. Open in the app: https://app.neptune.ai/commander.pho/PhoDibaLongShortUpdated/e/LS2023-1385\n",
      "Failed to fetch figures for run LS2023-1408: monitoring_log_key was not found\n",
      "Failed to fetch figures for run LS2023-1409: monitoring_log_key was not found\n",
      "Failed to fetch figures for run LS2023-1406: monitoring_log_key was not found\n",
      "Failed to fetch figures for run LS2023-1407: monitoring_log_key was not found\n",
      "Failed to fetch figures for run LS2023-1402: monitoring_log_key was not found\n",
      "Failed to fetch figures for run LS2023-1399: monitoring_log_key was not found\n",
      "Failed to fetch figures for run LS2023-1405: monitoring_log_key was not found\n",
      "Failed to fetch figures for run LS2023-1401: monitoring_log_key was not found\n",
      "Failed to fetch figures for run LS2023-1403: monitoring_log_key was not found\n",
      "Failed to fetch figures for run LS2023-1400: monitoring_log_key was not found\n",
      "Failed to fetch figures for run LS2023-1404: monitoring_log_key was not found\n",
      "Failed to fetch figures for run LS2023-1398: monitoring_log_key was not found\n",
      "Failed to fetch figures for run LS2023-1397: monitoring_log_key was not found\n",
      "Failed to fetch figures for run LS2023-1395: monitoring_log_key was not found\n",
      "Failed to fetch figures for run LS2023-1396: monitoring_log_key was not found\n",
      "Failed to fetch figures for run LS2023-1390: monitoring_log_key was not found\n",
      "Failed to fetch figures for run LS2023-1392: monitoring_log_key was not found\n",
      "Failed to fetch figures for run LS2023-1394: monitoring_log_key was not found\n",
      "Failed to fetch figures for run LS2023-1391: monitoring_log_key was not found\n",
      "Failed to fetch figures for run LS2023-1389: monitoring_log_key was not found\n",
      "Failed to fetch figures for run LS2023-1393: monitoring_log_key was not found\n",
      "Failed to fetch figures for run LS2023-1388: monitoring_log_key was not found\n",
      "Failed to fetch figures for run LS2023-1387: monitoring_log_key was not found\n",
      "Failed to fetch figures for run LS2023-1386: monitoring_log_key was not found\n",
      "Failed to fetch figures for run LS2023-1377: monitoring_log_key was not found\n",
      "Failed to fetch figures for run LS2023-1378: monitoring_log_key was not found\n",
      "Failed to fetch figures for run LS2023-1375: monitoring_log_key was not found\n",
      "Failed to fetch figures for run LS2023-1385: monitoring_log_key was not found\n"
     ]
    }
   ],
   "source": [
    "# neptune_run_collected_results: NeptuneRunCollectedResults = neptuner.get_most_recent_session_runs(oldest_included_run_date='2024-10-01', n_recent_results=3)\n",
    "# neptune_run_collected_results: NeptuneRunCollectedResults = neptuner.get_most_recent_session_runs(oldest_included_run_date='2024-07-20', n_recent_results=16)\n",
    "neptune_run_collected_results: NeptuneRunCollectedResults = neptuner.get_most_recent_session_runs(oldest_included_run_date='2024-10-08', n_recent_results=16)\n",
    "# neptune_run_collected_results: NeptuneRunCollectedResults = neptuner.get_most_recent_session_runs(oldest_included_run_date='2024-09-20', n_recent_results=3)\n",
    "# neptune_run_collected_results\n",
    "# runs_dict, most_recent_runs_table_df = neptuner.get_most_recent_session_runs(oldest_included_run_date='2024-06-01', n_recent_results=2)\n",
    "# most_recent_runs_table_df"
   ]
  },
  {
   "cell_type": "code",
   "execution_count": 4,
   "metadata": {
    "tags": [
     "run/main"
    ]
   },
   "outputs": [
    {
     "data": {
      "text/html": [
       "<div>\n",
       "<style scoped>\n",
       "    .dataframe tbody tr th:only-of-type {\n",
       "        vertical-align: middle;\n",
       "    }\n",
       "\n",
       "    .dataframe tbody tr th {\n",
       "        vertical-align: top;\n",
       "    }\n",
       "\n",
       "    .dataframe thead th {\n",
       "        text-align: right;\n",
       "    }\n",
       "</style>\n",
       "<table border=\"1\" class=\"dataframe\">\n",
       "  <thead>\n",
       "    <tr style=\"text-align: right;\">\n",
       "      <th></th>\n",
       "      <th>creation_time</th>\n",
       "      <th>description</th>\n",
       "      <th>failed</th>\n",
       "      <th>group_tags</th>\n",
       "      <th>hostname</th>\n",
       "      <th>id</th>\n",
       "      <th>modification_time</th>\n",
       "      <th>monitoring_time</th>\n",
       "      <th>name</th>\n",
       "      <th>owner</th>\n",
       "      <th>ping_time</th>\n",
       "      <th>running_time</th>\n",
       "      <th>size</th>\n",
       "      <th>state</th>\n",
       "      <th>tags</th>\n",
       "      <th>trashed</th>\n",
       "      <th>animal</th>\n",
       "      <th>exper_name</th>\n",
       "      <th>format_name</th>\n",
       "      <th>session_descriptor_string</th>\n",
       "      <th>session_name</th>\n",
       "      <th>entrypoint</th>\n",
       "      <th>git</th>\n",
       "    </tr>\n",
       "  </thead>\n",
       "  <tbody>\n",
       "    <tr>\n",
       "      <th>0</th>\n",
       "      <td>2024-10-14 17:06:45.583</td>\n",
       "      <td></td>\n",
       "      <td>False</td>\n",
       "      <td></td>\n",
       "      <td>gl3174.arc-ts.umich.edu</td>\n",
       "      <td>LS2023-1408</td>\n",
       "      <td>2024-10-14 19:10:45.154</td>\n",
       "      <td>7439</td>\n",
       "      <td>LS2023-1408</td>\n",
       "      <td>commander.pho</td>\n",
       "      <td>2024-10-14 19:10:45.154</td>\n",
       "      <td>3224.297</td>\n",
       "      <td>64571705.0</td>\n",
       "      <td>Inactive</td>\n",
       "      <td>gor01,kdiba,2006-6-08_14-26-15,one</td>\n",
       "      <td>False</td>\n",
       "      <td>gor01</td>\n",
       "      <td>one</td>\n",
       "      <td>kdiba</td>\n",
       "      <td>kdiba_gor01_one_2006-6-08_14-26-15_sess</td>\n",
       "      <td>2006-6-08_14-26-15</td>\n",
       "      <td>figures_kdiba_gor01_one_2006-6-08_14-26-15.py</td>\n",
       "      <td>NaN</td>\n",
       "    </tr>\n",
       "    <tr>\n",
       "      <th>1</th>\n",
       "      <td>2024-10-14 17:07:24.692</td>\n",
       "      <td></td>\n",
       "      <td>False</td>\n",
       "      <td></td>\n",
       "      <td>gl3162.arc-ts.umich.edu</td>\n",
       "      <td>LS2023-1409</td>\n",
       "      <td>2024-10-14 18:59:34.871</td>\n",
       "      <td>6730</td>\n",
       "      <td>LS2023-1409</td>\n",
       "      <td>commander.pho</td>\n",
       "      <td>2024-10-14 18:59:34.871</td>\n",
       "      <td>2580.797</td>\n",
       "      <td>34413062.0</td>\n",
       "      <td>Inactive</td>\n",
       "      <td>kdiba,fet11-01_12-58-54,pin01,one</td>\n",
       "      <td>False</td>\n",
       "      <td>pin01</td>\n",
       "      <td>one</td>\n",
       "      <td>kdiba</td>\n",
       "      <td>kdiba_pin01_one_fet11-01_12-58-54_sess</td>\n",
       "      <td>fet11-01_12-58-54</td>\n",
       "      <td>figures_kdiba_pin01_one_fet11-01_12-58-54.py</td>\n",
       "      <td>NaN</td>\n",
       "    </tr>\n",
       "    <tr>\n",
       "      <th>2</th>\n",
       "      <td>2024-10-14 17:06:35.244</td>\n",
       "      <td></td>\n",
       "      <td>False</td>\n",
       "      <td></td>\n",
       "      <td>gl3402.arc-ts.umich.edu</td>\n",
       "      <td>LS2023-1406</td>\n",
       "      <td>2024-10-14 18:58:14.356</td>\n",
       "      <td>6699</td>\n",
       "      <td>LS2023-1406</td>\n",
       "      <td>commander.pho</td>\n",
       "      <td>2024-10-14 18:58:14.356</td>\n",
       "      <td>2796.309</td>\n",
       "      <td>46259807.0</td>\n",
       "      <td>Inactive</td>\n",
       "      <td>kdiba,gor01,2006-6-07_16-40-19,two</td>\n",
       "      <td>False</td>\n",
       "      <td>gor01</td>\n",
       "      <td>two</td>\n",
       "      <td>kdiba</td>\n",
       "      <td>kdiba_gor01_two_2006-6-07_16-40-19_sess</td>\n",
       "      <td>2006-6-07_16-40-19</td>\n",
       "      <td>figures_kdiba_gor01_two_2006-6-07_16-40-19.py</td>\n",
       "      <td>NaN</td>\n",
       "    </tr>\n",
       "    <tr>\n",
       "      <th>3</th>\n",
       "      <td>2024-10-14 17:06:44.323</td>\n",
       "      <td></td>\n",
       "      <td>False</td>\n",
       "      <td></td>\n",
       "      <td>gl3268.arc-ts.umich.edu</td>\n",
       "      <td>LS2023-1407</td>\n",
       "      <td>2024-10-14 18:21:22.050</td>\n",
       "      <td>4478</td>\n",
       "      <td>LS2023-1407</td>\n",
       "      <td>commander.pho</td>\n",
       "      <td>2024-10-14 18:21:22.050</td>\n",
       "      <td>2120.751</td>\n",
       "      <td>65353146.0</td>\n",
       "      <td>Inactive</td>\n",
       "      <td>kdiba,gor01,one,2006-6-09_1-22-43</td>\n",
       "      <td>False</td>\n",
       "      <td>gor01</td>\n",
       "      <td>one</td>\n",
       "      <td>kdiba</td>\n",
       "      <td>kdiba_gor01_one_2006-6-09_1-22-43_sess</td>\n",
       "      <td>2006-6-09_1-22-43</td>\n",
       "      <td>figures_kdiba_gor01_one_2006-6-09_1-22-43.py</td>\n",
       "      <td>NaN</td>\n",
       "    </tr>\n",
       "    <tr>\n",
       "      <th>4</th>\n",
       "      <td>2024-10-14 17:06:30.794</td>\n",
       "      <td></td>\n",
       "      <td>False</td>\n",
       "      <td></td>\n",
       "      <td>gl3049.arc-ts.umich.edu</td>\n",
       "      <td>LS2023-1402</td>\n",
       "      <td>2024-10-14 17:13:42.234</td>\n",
       "      <td>431</td>\n",
       "      <td>LS2023-1402</td>\n",
       "      <td>commander.pho</td>\n",
       "      <td>2024-10-14 17:13:42.234</td>\n",
       "      <td>407.788</td>\n",
       "      <td>35020031.0</td>\n",
       "      <td>Inactive</td>\n",
       "      <td>two,kdiba,gor01,2006-6-12_16-53-46</td>\n",
       "      <td>False</td>\n",
       "      <td>gor01</td>\n",
       "      <td>two</td>\n",
       "      <td>kdiba</td>\n",
       "      <td>kdiba_gor01_two_2006-6-12_16-53-46_sess</td>\n",
       "      <td>2006-6-12_16-53-46</td>\n",
       "      <td>figures_kdiba_gor01_two_2006-6-12_16-53-46.py</td>\n",
       "      <td>NaN</td>\n",
       "    </tr>\n",
       "    <tr>\n",
       "      <th>5</th>\n",
       "      <td>2024-10-14 17:06:18.903</td>\n",
       "      <td></td>\n",
       "      <td>False</td>\n",
       "      <td></td>\n",
       "      <td>gl3286.arc-ts.umich.edu</td>\n",
       "      <td>LS2023-1399</td>\n",
       "      <td>2024-10-14 17:13:05.206</td>\n",
       "      <td>406</td>\n",
       "      <td>LS2023-1399</td>\n",
       "      <td>commander.pho</td>\n",
       "      <td>2024-10-14 17:13:05.206</td>\n",
       "      <td>385.102</td>\n",
       "      <td>34172726.0</td>\n",
       "      <td>Inactive</td>\n",
       "      <td>gor01,2006-6-12_15-55-31,one,kdiba</td>\n",
       "      <td>False</td>\n",
       "      <td>gor01</td>\n",
       "      <td>one</td>\n",
       "      <td>kdiba</td>\n",
       "      <td>kdiba_gor01_one_2006-6-12_15-55-31_sess</td>\n",
       "      <td>2006-6-12_15-55-31</td>\n",
       "      <td>figures_kdiba_gor01_one_2006-6-12_15-55-31.py</td>\n",
       "      <td>NaN</td>\n",
       "    </tr>\n",
       "    <tr>\n",
       "      <th>6</th>\n",
       "      <td>2024-10-14 17:06:34.678</td>\n",
       "      <td></td>\n",
       "      <td>False</td>\n",
       "      <td></td>\n",
       "      <td>gl3152.arc-ts.umich.edu</td>\n",
       "      <td>LS2023-1405</td>\n",
       "      <td>2024-10-14 17:12:21.868</td>\n",
       "      <td>347</td>\n",
       "      <td>LS2023-1405</td>\n",
       "      <td>commander.pho</td>\n",
       "      <td>2024-10-14 17:12:21.868</td>\n",
       "      <td>347.161</td>\n",
       "      <td>28509563.0</td>\n",
       "      <td>Inactive</td>\n",
       "      <td>kdiba,vvp01,one,2006-4-09_17-29-30</td>\n",
       "      <td>False</td>\n",
       "      <td>vvp01</td>\n",
       "      <td>one</td>\n",
       "      <td>kdiba</td>\n",
       "      <td>kdiba_vvp01_one_2006-4-09_17-29-30_sess</td>\n",
       "      <td>2006-4-09_17-29-30</td>\n",
       "      <td>figures_kdiba_vvp01_one_2006-4-09_17-29-30.py</td>\n",
       "      <td>NaN</td>\n",
       "    </tr>\n",
       "    <tr>\n",
       "      <th>7</th>\n",
       "      <td>2024-10-14 17:06:30.027</td>\n",
       "      <td></td>\n",
       "      <td>False</td>\n",
       "      <td></td>\n",
       "      <td>gl3104.arc-ts.umich.edu</td>\n",
       "      <td>LS2023-1401</td>\n",
       "      <td>2024-10-14 17:11:13.844</td>\n",
       "      <td>284</td>\n",
       "      <td>LS2023-1401</td>\n",
       "      <td>commander.pho</td>\n",
       "      <td>2024-10-14 17:11:13.844</td>\n",
       "      <td>257.549</td>\n",
       "      <td>29911948.0</td>\n",
       "      <td>Inactive</td>\n",
       "      <td>vvp01,kdiba,2006-4-10_12-58-3,two</td>\n",
       "      <td>False</td>\n",
       "      <td>vvp01</td>\n",
       "      <td>two</td>\n",
       "      <td>kdiba</td>\n",
       "      <td>kdiba_vvp01_two_2006-4-10_12-58-3_sess</td>\n",
       "      <td>2006-4-10_12-58-3</td>\n",
       "      <td>figures_kdiba_vvp01_two_2006-4-10_12-58-3.py</td>\n",
       "      <td>NaN</td>\n",
       "    </tr>\n",
       "    <tr>\n",
       "      <th>8</th>\n",
       "      <td>2024-10-14 17:06:31.583</td>\n",
       "      <td></td>\n",
       "      <td>False</td>\n",
       "      <td></td>\n",
       "      <td>gl3104.arc-ts.umich.edu</td>\n",
       "      <td>LS2023-1403</td>\n",
       "      <td>2024-10-14 17:10:46.583</td>\n",
       "      <td>255</td>\n",
       "      <td>LS2023-1403</td>\n",
       "      <td>commander.pho</td>\n",
       "      <td>2024-10-14 17:10:46.583</td>\n",
       "      <td>232.900</td>\n",
       "      <td>25197137.0</td>\n",
       "      <td>Inactive</td>\n",
       "      <td>kdiba,two,vvp01,2006-4-09_16-40-54</td>\n",
       "      <td>False</td>\n",
       "      <td>vvp01</td>\n",
       "      <td>two</td>\n",
       "      <td>kdiba</td>\n",
       "      <td>kdiba_vvp01_two_2006-4-09_16-40-54_sess</td>\n",
       "      <td>2006-4-09_16-40-54</td>\n",
       "      <td>figures_kdiba_vvp01_two_2006-4-09_16-40-54.py</td>\n",
       "      <td>NaN</td>\n",
       "    </tr>\n",
       "    <tr>\n",
       "      <th>9</th>\n",
       "      <td>2024-10-14 17:06:23.361</td>\n",
       "      <td></td>\n",
       "      <td>False</td>\n",
       "      <td></td>\n",
       "      <td>gl3152.arc-ts.umich.edu</td>\n",
       "      <td>LS2023-1400</td>\n",
       "      <td>2024-10-14 17:10:11.791</td>\n",
       "      <td>229</td>\n",
       "      <td>LS2023-1400</td>\n",
       "      <td>commander.pho</td>\n",
       "      <td>2024-10-14 17:10:11.791</td>\n",
       "      <td>207.516</td>\n",
       "      <td>26497775.0</td>\n",
       "      <td>Inactive</td>\n",
       "      <td>kdiba,vvp01,one,2006-4-10_12-25-50</td>\n",
       "      <td>False</td>\n",
       "      <td>vvp01</td>\n",
       "      <td>one</td>\n",
       "      <td>kdiba</td>\n",
       "      <td>kdiba_vvp01_one_2006-4-10_12-25-50_sess</td>\n",
       "      <td>2006-4-10_12-25-50</td>\n",
       "      <td>figures_kdiba_vvp01_one_2006-4-10_12-25-50.py</td>\n",
       "      <td>NaN</td>\n",
       "    </tr>\n",
       "    <tr>\n",
       "      <th>10</th>\n",
       "      <td>2024-10-14 17:06:31.597</td>\n",
       "      <td></td>\n",
       "      <td>False</td>\n",
       "      <td></td>\n",
       "      <td>gl3080.arc-ts.umich.edu</td>\n",
       "      <td>LS2023-1404</td>\n",
       "      <td>2024-10-14 17:09:56.841</td>\n",
       "      <td>205</td>\n",
       "      <td>LS2023-1404</td>\n",
       "      <td>commander.pho</td>\n",
       "      <td>2024-10-14 17:09:56.841</td>\n",
       "      <td>205.226</td>\n",
       "      <td>23160071.0</td>\n",
       "      <td>Inactive</td>\n",
       "      <td>one,kdiba,11-03_12-3-25,pin01</td>\n",
       "      <td>False</td>\n",
       "      <td>pin01</td>\n",
       "      <td>one</td>\n",
       "      <td>kdiba</td>\n",
       "      <td>kdiba_pin01_one_11-03_12-3-25_sess</td>\n",
       "      <td>11-03_12-3-25</td>\n",
       "      <td>figures_kdiba_pin01_one_11-03_12-3-25.py</td>\n",
       "      <td>NaN</td>\n",
       "    </tr>\n",
       "    <tr>\n",
       "      <th>11</th>\n",
       "      <td>2024-10-11 02:28:30.218</td>\n",
       "      <td></td>\n",
       "      <td>False</td>\n",
       "      <td></td>\n",
       "      <td>gl3043.arc-ts.umich.edu</td>\n",
       "      <td>LS2023-1398</td>\n",
       "      <td>2024-10-11 04:35:27.719</td>\n",
       "      <td>7617</td>\n",
       "      <td>LS2023-1398</td>\n",
       "      <td>commander.pho</td>\n",
       "      <td>2024-10-11 04:35:27.719</td>\n",
       "      <td>3329.037</td>\n",
       "      <td>64571217.0</td>\n",
       "      <td>Inactive</td>\n",
       "      <td>kdiba,2006-6-08_14-26-15,gor01,one</td>\n",
       "      <td>False</td>\n",
       "      <td>gor01</td>\n",
       "      <td>one</td>\n",
       "      <td>kdiba</td>\n",
       "      <td>kdiba_gor01_one_2006-6-08_14-26-15_sess</td>\n",
       "      <td>2006-6-08_14-26-15</td>\n",
       "      <td>figures_kdiba_gor01_one_2006-6-08_14-26-15.py</td>\n",
       "      <td>NaN</td>\n",
       "    </tr>\n",
       "    <tr>\n",
       "      <th>12</th>\n",
       "      <td>2024-10-11 02:28:23.728</td>\n",
       "      <td></td>\n",
       "      <td>False</td>\n",
       "      <td></td>\n",
       "      <td>gl3056.arc-ts.umich.edu</td>\n",
       "      <td>LS2023-1397</td>\n",
       "      <td>2024-10-11 04:27:13.905</td>\n",
       "      <td>7130</td>\n",
       "      <td>LS2023-1397</td>\n",
       "      <td>commander.pho</td>\n",
       "      <td>2024-10-11 04:27:13.905</td>\n",
       "      <td>3083.360</td>\n",
       "      <td>46259578.0</td>\n",
       "      <td>Inactive</td>\n",
       "      <td>kdiba,gor01,2006-6-07_16-40-19,two</td>\n",
       "      <td>False</td>\n",
       "      <td>gor01</td>\n",
       "      <td>two</td>\n",
       "      <td>kdiba</td>\n",
       "      <td>kdiba_gor01_two_2006-6-07_16-40-19_sess</td>\n",
       "      <td>2006-6-07_16-40-19</td>\n",
       "      <td>figures_kdiba_gor01_two_2006-6-07_16-40-19.py</td>\n",
       "      <td>NaN</td>\n",
       "    </tr>\n",
       "    <tr>\n",
       "      <th>13</th>\n",
       "      <td>2024-10-11 02:28:15.007</td>\n",
       "      <td></td>\n",
       "      <td>False</td>\n",
       "      <td></td>\n",
       "      <td>gl3125.arc-ts.umich.edu</td>\n",
       "      <td>LS2023-1395</td>\n",
       "      <td>2024-10-11 04:19:08.241</td>\n",
       "      <td>6653</td>\n",
       "      <td>LS2023-1395</td>\n",
       "      <td>commander.pho</td>\n",
       "      <td>2024-10-11 04:19:08.241</td>\n",
       "      <td>2558.483</td>\n",
       "      <td>34410108.0</td>\n",
       "      <td>Inactive</td>\n",
       "      <td>kdiba,one,pin01,fet11-01_12-58-54</td>\n",
       "      <td>False</td>\n",
       "      <td>pin01</td>\n",
       "      <td>one</td>\n",
       "      <td>kdiba</td>\n",
       "      <td>kdiba_pin01_one_fet11-01_12-58-54_sess</td>\n",
       "      <td>fet11-01_12-58-54</td>\n",
       "      <td>figures_kdiba_pin01_one_fet11-01_12-58-54.py</td>\n",
       "      <td>NaN</td>\n",
       "    </tr>\n",
       "    <tr>\n",
       "      <th>14</th>\n",
       "      <td>2024-10-11 02:28:15.111</td>\n",
       "      <td></td>\n",
       "      <td>False</td>\n",
       "      <td></td>\n",
       "      <td>gl3045.arc-ts.umich.edu</td>\n",
       "      <td>LS2023-1396</td>\n",
       "      <td>2024-10-11 03:43:22.474</td>\n",
       "      <td>4507</td>\n",
       "      <td>LS2023-1396</td>\n",
       "      <td>commander.pho</td>\n",
       "      <td>2024-10-11 03:43:22.474</td>\n",
       "      <td>2151.174</td>\n",
       "      <td>65352499.0</td>\n",
       "      <td>Inactive</td>\n",
       "      <td>gor01,one,2006-6-09_1-22-43,kdiba</td>\n",
       "      <td>False</td>\n",
       "      <td>gor01</td>\n",
       "      <td>one</td>\n",
       "      <td>kdiba</td>\n",
       "      <td>kdiba_gor01_one_2006-6-09_1-22-43_sess</td>\n",
       "      <td>2006-6-09_1-22-43</td>\n",
       "      <td>figures_kdiba_gor01_one_2006-6-09_1-22-43.py</td>\n",
       "      <td>NaN</td>\n",
       "    </tr>\n",
       "    <tr>\n",
       "      <th>15</th>\n",
       "      <td>2024-10-11 02:27:58.635</td>\n",
       "      <td></td>\n",
       "      <td>False</td>\n",
       "      <td></td>\n",
       "      <td>gl3065.arc-ts.umich.edu</td>\n",
       "      <td>LS2023-1390</td>\n",
       "      <td>2024-10-11 02:35:11.389</td>\n",
       "      <td>433</td>\n",
       "      <td>LS2023-1390</td>\n",
       "      <td>commander.pho</td>\n",
       "      <td>2024-10-11 02:35:11.389</td>\n",
       "      <td>411.651</td>\n",
       "      <td>35020068.0</td>\n",
       "      <td>Inactive</td>\n",
       "      <td>two,kdiba,gor01,2006-6-12_16-53-46</td>\n",
       "      <td>False</td>\n",
       "      <td>gor01</td>\n",
       "      <td>two</td>\n",
       "      <td>kdiba</td>\n",
       "      <td>kdiba_gor01_two_2006-6-12_16-53-46_sess</td>\n",
       "      <td>2006-6-12_16-53-46</td>\n",
       "      <td>figures_kdiba_gor01_two_2006-6-12_16-53-46.py</td>\n",
       "      <td>NaN</td>\n",
       "    </tr>\n",
       "    <tr>\n",
       "      <th>16</th>\n",
       "      <td>2024-10-11 02:28:03.189</td>\n",
       "      <td></td>\n",
       "      <td>False</td>\n",
       "      <td></td>\n",
       "      <td>gl3056.arc-ts.umich.edu</td>\n",
       "      <td>LS2023-1392</td>\n",
       "      <td>2024-10-11 02:35:02.823</td>\n",
       "      <td>420</td>\n",
       "      <td>LS2023-1392</td>\n",
       "      <td>commander.pho</td>\n",
       "      <td>2024-10-11 02:35:02.823</td>\n",
       "      <td>397.283</td>\n",
       "      <td>34174718.0</td>\n",
       "      <td>Inactive</td>\n",
       "      <td>one,gor01,kdiba,2006-6-12_15-55-31</td>\n",
       "      <td>False</td>\n",
       "      <td>gor01</td>\n",
       "      <td>one</td>\n",
       "      <td>kdiba</td>\n",
       "      <td>kdiba_gor01_one_2006-6-12_15-55-31_sess</td>\n",
       "      <td>2006-6-12_15-55-31</td>\n",
       "      <td>figures_kdiba_gor01_one_2006-6-12_15-55-31.py</td>\n",
       "      <td>NaN</td>\n",
       "    </tr>\n",
       "    <tr>\n",
       "      <th>17</th>\n",
       "      <td>2024-10-11 02:28:10.775</td>\n",
       "      <td></td>\n",
       "      <td>False</td>\n",
       "      <td></td>\n",
       "      <td>gl3071.arc-ts.umich.edu</td>\n",
       "      <td>LS2023-1394</td>\n",
       "      <td>2024-10-11 02:34:04.035</td>\n",
       "      <td>353</td>\n",
       "      <td>LS2023-1394</td>\n",
       "      <td>commander.pho</td>\n",
       "      <td>2024-10-11 02:34:04.035</td>\n",
       "      <td>353.232</td>\n",
       "      <td>28509366.0</td>\n",
       "      <td>Inactive</td>\n",
       "      <td>one,kdiba,vvp01,2006-4-09_17-29-30</td>\n",
       "      <td>False</td>\n",
       "      <td>vvp01</td>\n",
       "      <td>one</td>\n",
       "      <td>kdiba</td>\n",
       "      <td>kdiba_vvp01_one_2006-4-09_17-29-30_sess</td>\n",
       "      <td>2006-4-09_17-29-30</td>\n",
       "      <td>figures_kdiba_vvp01_one_2006-4-09_17-29-30.py</td>\n",
       "      <td>NaN</td>\n",
       "    </tr>\n",
       "    <tr>\n",
       "      <th>18</th>\n",
       "      <td>2024-10-11 02:28:01.029</td>\n",
       "      <td></td>\n",
       "      <td>False</td>\n",
       "      <td></td>\n",
       "      <td>gl3101.arc-ts.umich.edu</td>\n",
       "      <td>LS2023-1391</td>\n",
       "      <td>2024-10-11 02:33:05.119</td>\n",
       "      <td>304</td>\n",
       "      <td>LS2023-1391</td>\n",
       "      <td>commander.pho</td>\n",
       "      <td>2024-10-11 02:33:05.119</td>\n",
       "      <td>276.365</td>\n",
       "      <td>29910943.0</td>\n",
       "      <td>Inactive</td>\n",
       "      <td>two,kdiba,2006-4-10_12-58-3,vvp01</td>\n",
       "      <td>False</td>\n",
       "      <td>vvp01</td>\n",
       "      <td>two</td>\n",
       "      <td>kdiba</td>\n",
       "      <td>kdiba_vvp01_two_2006-4-10_12-58-3_sess</td>\n",
       "      <td>2006-4-10_12-58-3</td>\n",
       "      <td>figures_kdiba_vvp01_two_2006-4-10_12-58-3.py</td>\n",
       "      <td>NaN</td>\n",
       "    </tr>\n",
       "    <tr>\n",
       "      <th>19</th>\n",
       "      <td>2024-10-11 02:27:56.399</td>\n",
       "      <td></td>\n",
       "      <td>False</td>\n",
       "      <td></td>\n",
       "      <td>gl3089.arc-ts.umich.edu</td>\n",
       "      <td>LS2023-1389</td>\n",
       "      <td>2024-10-11 02:32:17.666</td>\n",
       "      <td>261</td>\n",
       "      <td>LS2023-1389</td>\n",
       "      <td>commander.pho</td>\n",
       "      <td>2024-10-11 02:32:17.666</td>\n",
       "      <td>235.917</td>\n",
       "      <td>25195793.0</td>\n",
       "      <td>Inactive</td>\n",
       "      <td>two,vvp01,2006-4-09_16-40-54,kdiba</td>\n",
       "      <td>False</td>\n",
       "      <td>vvp01</td>\n",
       "      <td>two</td>\n",
       "      <td>kdiba</td>\n",
       "      <td>kdiba_vvp01_two_2006-4-09_16-40-54_sess</td>\n",
       "      <td>2006-4-09_16-40-54</td>\n",
       "      <td>figures_kdiba_vvp01_two_2006-4-09_16-40-54.py</td>\n",
       "      <td>NaN</td>\n",
       "    </tr>\n",
       "    <tr>\n",
       "      <th>20</th>\n",
       "      <td>2024-10-11 02:28:04.016</td>\n",
       "      <td></td>\n",
       "      <td>False</td>\n",
       "      <td></td>\n",
       "      <td>gl3078.arc-ts.umich.edu</td>\n",
       "      <td>LS2023-1393</td>\n",
       "      <td>2024-10-11 02:31:44.322</td>\n",
       "      <td>220</td>\n",
       "      <td>LS2023-1393</td>\n",
       "      <td>commander.pho</td>\n",
       "      <td>2024-10-11 02:31:44.322</td>\n",
       "      <td>199.467</td>\n",
       "      <td>26495493.0</td>\n",
       "      <td>Inactive</td>\n",
       "      <td>kdiba,vvp01,one,2006-4-10_12-25-50</td>\n",
       "      <td>False</td>\n",
       "      <td>vvp01</td>\n",
       "      <td>one</td>\n",
       "      <td>kdiba</td>\n",
       "      <td>kdiba_vvp01_one_2006-4-10_12-25-50_sess</td>\n",
       "      <td>2006-4-10_12-25-50</td>\n",
       "      <td>figures_kdiba_vvp01_one_2006-4-10_12-25-50.py</td>\n",
       "      <td>NaN</td>\n",
       "    </tr>\n",
       "    <tr>\n",
       "      <th>21</th>\n",
       "      <td>2024-10-11 02:27:55.195</td>\n",
       "      <td></td>\n",
       "      <td>False</td>\n",
       "      <td></td>\n",
       "      <td>gl3101.arc-ts.umich.edu</td>\n",
       "      <td>LS2023-1388</td>\n",
       "      <td>2024-10-11 02:31:22.274</td>\n",
       "      <td>207</td>\n",
       "      <td>LS2023-1388</td>\n",
       "      <td>commander.pho</td>\n",
       "      <td>2024-10-11 02:31:22.274</td>\n",
       "      <td>207.062</td>\n",
       "      <td>23161976.0</td>\n",
       "      <td>Inactive</td>\n",
       "      <td>kdiba,one,pin01,11-03_12-3-25</td>\n",
       "      <td>False</td>\n",
       "      <td>pin01</td>\n",
       "      <td>one</td>\n",
       "      <td>kdiba</td>\n",
       "      <td>kdiba_pin01_one_11-03_12-3-25_sess</td>\n",
       "      <td>11-03_12-3-25</td>\n",
       "      <td>figures_kdiba_pin01_one_11-03_12-3-25.py</td>\n",
       "      <td>NaN</td>\n",
       "    </tr>\n",
       "    <tr>\n",
       "      <th>22</th>\n",
       "      <td>2024-10-08 12:12:27.809</td>\n",
       "      <td></td>\n",
       "      <td>False</td>\n",
       "      <td></td>\n",
       "      <td>Apogee</td>\n",
       "      <td>LS2023-1387</td>\n",
       "      <td>2024-10-08 12:12:33.972</td>\n",
       "      <td>6</td>\n",
       "      <td>LS2023-1387</td>\n",
       "      <td>commander.pho</td>\n",
       "      <td>2024-10-08 12:24:14.602</td>\n",
       "      <td>468.934</td>\n",
       "      <td>493229.0</td>\n",
       "      <td>Inactive</td>\n",
       "      <td>2006-6-08_14-26-15,gor01,one,kdiba</td>\n",
       "      <td>False</td>\n",
       "      <td>gor01</td>\n",
       "      <td>one</td>\n",
       "      <td>kdiba</td>\n",
       "      <td>kdiba_gor01_one_2006-6-08_14-26-15_sess</td>\n",
       "      <td>2006-6-08_14-26-15</td>\n",
       "      <td>NaN</td>\n",
       "      <td>c9643c51603422e33485434cce48e0ff3cd921ec</td>\n",
       "    </tr>\n",
       "    <tr>\n",
       "      <th>23</th>\n",
       "      <td>2024-10-07 23:33:02.148</td>\n",
       "      <td></td>\n",
       "      <td>False</td>\n",
       "      <td></td>\n",
       "      <td>gl3040.arc-ts.umich.edu</td>\n",
       "      <td>LS2023-1386</td>\n",
       "      <td>2024-10-08 01:43:41.606</td>\n",
       "      <td>7839</td>\n",
       "      <td>LS2023-1386</td>\n",
       "      <td>commander.pho</td>\n",
       "      <td>2024-10-08 01:43:41.606</td>\n",
       "      <td>3451.950</td>\n",
       "      <td>64429786.0</td>\n",
       "      <td>Inactive</td>\n",
       "      <td>gor01,kdiba,one,2006-6-08_14-26-15</td>\n",
       "      <td>False</td>\n",
       "      <td>gor01</td>\n",
       "      <td>one</td>\n",
       "      <td>kdiba</td>\n",
       "      <td>kdiba_gor01_one_2006-6-08_14-26-15_sess</td>\n",
       "      <td>2006-6-08_14-26-15</td>\n",
       "      <td>figures_kdiba_gor01_one_2006-6-08_14-26-15.py</td>\n",
       "      <td>NaN</td>\n",
       "    </tr>\n",
       "    <tr>\n",
       "      <th>24</th>\n",
       "      <td>2024-10-07 23:32:12.323</td>\n",
       "      <td></td>\n",
       "      <td>False</td>\n",
       "      <td></td>\n",
       "      <td>gl3054.arc-ts.umich.edu</td>\n",
       "      <td>LS2023-1377</td>\n",
       "      <td>2024-10-08 01:33:30.060</td>\n",
       "      <td>7278</td>\n",
       "      <td>LS2023-1377</td>\n",
       "      <td>commander.pho</td>\n",
       "      <td>2024-10-08 01:33:30.060</td>\n",
       "      <td>3170.835</td>\n",
       "      <td>46261259.0</td>\n",
       "      <td>Inactive</td>\n",
       "      <td>2006-6-07_16-40-19,gor01,kdiba,two</td>\n",
       "      <td>False</td>\n",
       "      <td>gor01</td>\n",
       "      <td>two</td>\n",
       "      <td>kdiba</td>\n",
       "      <td>kdiba_gor01_two_2006-6-07_16-40-19_sess</td>\n",
       "      <td>2006-6-07_16-40-19</td>\n",
       "      <td>figures_kdiba_gor01_two_2006-6-07_16-40-19.py</td>\n",
       "      <td>NaN</td>\n",
       "    </tr>\n",
       "    <tr>\n",
       "      <th>25</th>\n",
       "      <td>2024-10-07 23:32:13.385</td>\n",
       "      <td></td>\n",
       "      <td>False</td>\n",
       "      <td></td>\n",
       "      <td>gl3127.arc-ts.umich.edu</td>\n",
       "      <td>LS2023-1378</td>\n",
       "      <td>2024-10-08 01:25:10.317</td>\n",
       "      <td>6777</td>\n",
       "      <td>LS2023-1378</td>\n",
       "      <td>commander.pho</td>\n",
       "      <td>2024-10-08 01:25:10.317</td>\n",
       "      <td>2646.891</td>\n",
       "      <td>33910591.0</td>\n",
       "      <td>Inactive</td>\n",
       "      <td>kdiba,pin01,one,fet11-01_12-58-54</td>\n",
       "      <td>False</td>\n",
       "      <td>pin01</td>\n",
       "      <td>one</td>\n",
       "      <td>kdiba</td>\n",
       "      <td>kdiba_pin01_one_fet11-01_12-58-54_sess</td>\n",
       "      <td>fet11-01_12-58-54</td>\n",
       "      <td>figures_kdiba_pin01_one_fet11-01_12-58-54.py</td>\n",
       "      <td>NaN</td>\n",
       "    </tr>\n",
       "    <tr>\n",
       "      <th>26</th>\n",
       "      <td>2024-10-07 23:03:31.377</td>\n",
       "      <td></td>\n",
       "      <td>False</td>\n",
       "      <td></td>\n",
       "      <td>gl3081.arc-ts.umich.edu</td>\n",
       "      <td>LS2023-1375</td>\n",
       "      <td>2024-10-08 01:05:51.635</td>\n",
       "      <td>7340</td>\n",
       "      <td>LS2023-1375</td>\n",
       "      <td>commander.pho</td>\n",
       "      <td>2024-10-08 01:05:51.635</td>\n",
       "      <td>3067.838</td>\n",
       "      <td>31900560.0</td>\n",
       "      <td>Inactive</td>\n",
       "      <td>kdiba,2006-6-07_11-26-53,gor01,one</td>\n",
       "      <td>False</td>\n",
       "      <td>gor01</td>\n",
       "      <td>one</td>\n",
       "      <td>kdiba</td>\n",
       "      <td>kdiba_gor01_one_2006-6-07_11-26-53_sess</td>\n",
       "      <td>2006-6-07_11-26-53</td>\n",
       "      <td>figures_kdiba_gor01_one_2006-6-07_11-26-53.py</td>\n",
       "      <td>NaN</td>\n",
       "    </tr>\n",
       "    <tr>\n",
       "      <th>27</th>\n",
       "      <td>2024-10-07 23:32:43.333</td>\n",
       "      <td></td>\n",
       "      <td>False</td>\n",
       "      <td></td>\n",
       "      <td>gl3050.arc-ts.umich.edu</td>\n",
       "      <td>LS2023-1385</td>\n",
       "      <td>2024-10-08 00:51:47.952</td>\n",
       "      <td>4745</td>\n",
       "      <td>LS2023-1385</td>\n",
       "      <td>commander.pho</td>\n",
       "      <td>2024-10-08 00:51:47.952</td>\n",
       "      <td>2197.797</td>\n",
       "      <td>64999251.0</td>\n",
       "      <td>Inactive</td>\n",
       "      <td>gor01,one,kdiba,2006-6-09_1-22-43</td>\n",
       "      <td>False</td>\n",
       "      <td>gor01</td>\n",
       "      <td>one</td>\n",
       "      <td>kdiba</td>\n",
       "      <td>kdiba_gor01_one_2006-6-09_1-22-43_sess</td>\n",
       "      <td>2006-6-09_1-22-43</td>\n",
       "      <td>figures_kdiba_gor01_one_2006-6-09_1-22-43.py</td>\n",
       "      <td>NaN</td>\n",
       "    </tr>\n",
       "  </tbody>\n",
       "</table>\n",
       "</div>"
      ],
      "text/plain": [
       "             creation_time description  failed group_tags  \\\n",
       "0  2024-10-14 17:06:45.583               False              \n",
       "1  2024-10-14 17:07:24.692               False              \n",
       "2  2024-10-14 17:06:35.244               False              \n",
       "3  2024-10-14 17:06:44.323               False              \n",
       "4  2024-10-14 17:06:30.794               False              \n",
       "5  2024-10-14 17:06:18.903               False              \n",
       "6  2024-10-14 17:06:34.678               False              \n",
       "7  2024-10-14 17:06:30.027               False              \n",
       "8  2024-10-14 17:06:31.583               False              \n",
       "9  2024-10-14 17:06:23.361               False              \n",
       "10 2024-10-14 17:06:31.597               False              \n",
       "11 2024-10-11 02:28:30.218               False              \n",
       "12 2024-10-11 02:28:23.728               False              \n",
       "13 2024-10-11 02:28:15.007               False              \n",
       "14 2024-10-11 02:28:15.111               False              \n",
       "15 2024-10-11 02:27:58.635               False              \n",
       "16 2024-10-11 02:28:03.189               False              \n",
       "17 2024-10-11 02:28:10.775               False              \n",
       "18 2024-10-11 02:28:01.029               False              \n",
       "19 2024-10-11 02:27:56.399               False              \n",
       "20 2024-10-11 02:28:04.016               False              \n",
       "21 2024-10-11 02:27:55.195               False              \n",
       "22 2024-10-08 12:12:27.809               False              \n",
       "23 2024-10-07 23:33:02.148               False              \n",
       "24 2024-10-07 23:32:12.323               False              \n",
       "25 2024-10-07 23:32:13.385               False              \n",
       "26 2024-10-07 23:03:31.377               False              \n",
       "27 2024-10-07 23:32:43.333               False              \n",
       "\n",
       "                   hostname           id       modification_time  \\\n",
       "0   gl3174.arc-ts.umich.edu  LS2023-1408 2024-10-14 19:10:45.154   \n",
       "1   gl3162.arc-ts.umich.edu  LS2023-1409 2024-10-14 18:59:34.871   \n",
       "2   gl3402.arc-ts.umich.edu  LS2023-1406 2024-10-14 18:58:14.356   \n",
       "3   gl3268.arc-ts.umich.edu  LS2023-1407 2024-10-14 18:21:22.050   \n",
       "4   gl3049.arc-ts.umich.edu  LS2023-1402 2024-10-14 17:13:42.234   \n",
       "5   gl3286.arc-ts.umich.edu  LS2023-1399 2024-10-14 17:13:05.206   \n",
       "6   gl3152.arc-ts.umich.edu  LS2023-1405 2024-10-14 17:12:21.868   \n",
       "7   gl3104.arc-ts.umich.edu  LS2023-1401 2024-10-14 17:11:13.844   \n",
       "8   gl3104.arc-ts.umich.edu  LS2023-1403 2024-10-14 17:10:46.583   \n",
       "9   gl3152.arc-ts.umich.edu  LS2023-1400 2024-10-14 17:10:11.791   \n",
       "10  gl3080.arc-ts.umich.edu  LS2023-1404 2024-10-14 17:09:56.841   \n",
       "11  gl3043.arc-ts.umich.edu  LS2023-1398 2024-10-11 04:35:27.719   \n",
       "12  gl3056.arc-ts.umich.edu  LS2023-1397 2024-10-11 04:27:13.905   \n",
       "13  gl3125.arc-ts.umich.edu  LS2023-1395 2024-10-11 04:19:08.241   \n",
       "14  gl3045.arc-ts.umich.edu  LS2023-1396 2024-10-11 03:43:22.474   \n",
       "15  gl3065.arc-ts.umich.edu  LS2023-1390 2024-10-11 02:35:11.389   \n",
       "16  gl3056.arc-ts.umich.edu  LS2023-1392 2024-10-11 02:35:02.823   \n",
       "17  gl3071.arc-ts.umich.edu  LS2023-1394 2024-10-11 02:34:04.035   \n",
       "18  gl3101.arc-ts.umich.edu  LS2023-1391 2024-10-11 02:33:05.119   \n",
       "19  gl3089.arc-ts.umich.edu  LS2023-1389 2024-10-11 02:32:17.666   \n",
       "20  gl3078.arc-ts.umich.edu  LS2023-1393 2024-10-11 02:31:44.322   \n",
       "21  gl3101.arc-ts.umich.edu  LS2023-1388 2024-10-11 02:31:22.274   \n",
       "22                   Apogee  LS2023-1387 2024-10-08 12:12:33.972   \n",
       "23  gl3040.arc-ts.umich.edu  LS2023-1386 2024-10-08 01:43:41.606   \n",
       "24  gl3054.arc-ts.umich.edu  LS2023-1377 2024-10-08 01:33:30.060   \n",
       "25  gl3127.arc-ts.umich.edu  LS2023-1378 2024-10-08 01:25:10.317   \n",
       "26  gl3081.arc-ts.umich.edu  LS2023-1375 2024-10-08 01:05:51.635   \n",
       "27  gl3050.arc-ts.umich.edu  LS2023-1385 2024-10-08 00:51:47.952   \n",
       "\n",
       "    monitoring_time         name          owner               ping_time  \\\n",
       "0              7439  LS2023-1408  commander.pho 2024-10-14 19:10:45.154   \n",
       "1              6730  LS2023-1409  commander.pho 2024-10-14 18:59:34.871   \n",
       "2              6699  LS2023-1406  commander.pho 2024-10-14 18:58:14.356   \n",
       "3              4478  LS2023-1407  commander.pho 2024-10-14 18:21:22.050   \n",
       "4               431  LS2023-1402  commander.pho 2024-10-14 17:13:42.234   \n",
       "5               406  LS2023-1399  commander.pho 2024-10-14 17:13:05.206   \n",
       "6               347  LS2023-1405  commander.pho 2024-10-14 17:12:21.868   \n",
       "7               284  LS2023-1401  commander.pho 2024-10-14 17:11:13.844   \n",
       "8               255  LS2023-1403  commander.pho 2024-10-14 17:10:46.583   \n",
       "9               229  LS2023-1400  commander.pho 2024-10-14 17:10:11.791   \n",
       "10              205  LS2023-1404  commander.pho 2024-10-14 17:09:56.841   \n",
       "11             7617  LS2023-1398  commander.pho 2024-10-11 04:35:27.719   \n",
       "12             7130  LS2023-1397  commander.pho 2024-10-11 04:27:13.905   \n",
       "13             6653  LS2023-1395  commander.pho 2024-10-11 04:19:08.241   \n",
       "14             4507  LS2023-1396  commander.pho 2024-10-11 03:43:22.474   \n",
       "15              433  LS2023-1390  commander.pho 2024-10-11 02:35:11.389   \n",
       "16              420  LS2023-1392  commander.pho 2024-10-11 02:35:02.823   \n",
       "17              353  LS2023-1394  commander.pho 2024-10-11 02:34:04.035   \n",
       "18              304  LS2023-1391  commander.pho 2024-10-11 02:33:05.119   \n",
       "19              261  LS2023-1389  commander.pho 2024-10-11 02:32:17.666   \n",
       "20              220  LS2023-1393  commander.pho 2024-10-11 02:31:44.322   \n",
       "21              207  LS2023-1388  commander.pho 2024-10-11 02:31:22.274   \n",
       "22                6  LS2023-1387  commander.pho 2024-10-08 12:24:14.602   \n",
       "23             7839  LS2023-1386  commander.pho 2024-10-08 01:43:41.606   \n",
       "24             7278  LS2023-1377  commander.pho 2024-10-08 01:33:30.060   \n",
       "25             6777  LS2023-1378  commander.pho 2024-10-08 01:25:10.317   \n",
       "26             7340  LS2023-1375  commander.pho 2024-10-08 01:05:51.635   \n",
       "27             4745  LS2023-1385  commander.pho 2024-10-08 00:51:47.952   \n",
       "\n",
       "    running_time        size     state                                tags  \\\n",
       "0       3224.297  64571705.0  Inactive  gor01,kdiba,2006-6-08_14-26-15,one   \n",
       "1       2580.797  34413062.0  Inactive   kdiba,fet11-01_12-58-54,pin01,one   \n",
       "2       2796.309  46259807.0  Inactive  kdiba,gor01,2006-6-07_16-40-19,two   \n",
       "3       2120.751  65353146.0  Inactive   kdiba,gor01,one,2006-6-09_1-22-43   \n",
       "4        407.788  35020031.0  Inactive  two,kdiba,gor01,2006-6-12_16-53-46   \n",
       "5        385.102  34172726.0  Inactive  gor01,2006-6-12_15-55-31,one,kdiba   \n",
       "6        347.161  28509563.0  Inactive  kdiba,vvp01,one,2006-4-09_17-29-30   \n",
       "7        257.549  29911948.0  Inactive   vvp01,kdiba,2006-4-10_12-58-3,two   \n",
       "8        232.900  25197137.0  Inactive  kdiba,two,vvp01,2006-4-09_16-40-54   \n",
       "9        207.516  26497775.0  Inactive  kdiba,vvp01,one,2006-4-10_12-25-50   \n",
       "10       205.226  23160071.0  Inactive       one,kdiba,11-03_12-3-25,pin01   \n",
       "11      3329.037  64571217.0  Inactive  kdiba,2006-6-08_14-26-15,gor01,one   \n",
       "12      3083.360  46259578.0  Inactive  kdiba,gor01,2006-6-07_16-40-19,two   \n",
       "13      2558.483  34410108.0  Inactive   kdiba,one,pin01,fet11-01_12-58-54   \n",
       "14      2151.174  65352499.0  Inactive   gor01,one,2006-6-09_1-22-43,kdiba   \n",
       "15       411.651  35020068.0  Inactive  two,kdiba,gor01,2006-6-12_16-53-46   \n",
       "16       397.283  34174718.0  Inactive  one,gor01,kdiba,2006-6-12_15-55-31   \n",
       "17       353.232  28509366.0  Inactive  one,kdiba,vvp01,2006-4-09_17-29-30   \n",
       "18       276.365  29910943.0  Inactive   two,kdiba,2006-4-10_12-58-3,vvp01   \n",
       "19       235.917  25195793.0  Inactive  two,vvp01,2006-4-09_16-40-54,kdiba   \n",
       "20       199.467  26495493.0  Inactive  kdiba,vvp01,one,2006-4-10_12-25-50   \n",
       "21       207.062  23161976.0  Inactive       kdiba,one,pin01,11-03_12-3-25   \n",
       "22       468.934    493229.0  Inactive  2006-6-08_14-26-15,gor01,one,kdiba   \n",
       "23      3451.950  64429786.0  Inactive  gor01,kdiba,one,2006-6-08_14-26-15   \n",
       "24      3170.835  46261259.0  Inactive  2006-6-07_16-40-19,gor01,kdiba,two   \n",
       "25      2646.891  33910591.0  Inactive   kdiba,pin01,one,fet11-01_12-58-54   \n",
       "26      3067.838  31900560.0  Inactive  kdiba,2006-6-07_11-26-53,gor01,one   \n",
       "27      2197.797  64999251.0  Inactive   gor01,one,kdiba,2006-6-09_1-22-43   \n",
       "\n",
       "    trashed animal exper_name format_name  \\\n",
       "0     False  gor01        one       kdiba   \n",
       "1     False  pin01        one       kdiba   \n",
       "2     False  gor01        two       kdiba   \n",
       "3     False  gor01        one       kdiba   \n",
       "4     False  gor01        two       kdiba   \n",
       "5     False  gor01        one       kdiba   \n",
       "6     False  vvp01        one       kdiba   \n",
       "7     False  vvp01        two       kdiba   \n",
       "8     False  vvp01        two       kdiba   \n",
       "9     False  vvp01        one       kdiba   \n",
       "10    False  pin01        one       kdiba   \n",
       "11    False  gor01        one       kdiba   \n",
       "12    False  gor01        two       kdiba   \n",
       "13    False  pin01        one       kdiba   \n",
       "14    False  gor01        one       kdiba   \n",
       "15    False  gor01        two       kdiba   \n",
       "16    False  gor01        one       kdiba   \n",
       "17    False  vvp01        one       kdiba   \n",
       "18    False  vvp01        two       kdiba   \n",
       "19    False  vvp01        two       kdiba   \n",
       "20    False  vvp01        one       kdiba   \n",
       "21    False  pin01        one       kdiba   \n",
       "22    False  gor01        one       kdiba   \n",
       "23    False  gor01        one       kdiba   \n",
       "24    False  gor01        two       kdiba   \n",
       "25    False  pin01        one       kdiba   \n",
       "26    False  gor01        one       kdiba   \n",
       "27    False  gor01        one       kdiba   \n",
       "\n",
       "                  session_descriptor_string        session_name  \\\n",
       "0   kdiba_gor01_one_2006-6-08_14-26-15_sess  2006-6-08_14-26-15   \n",
       "1    kdiba_pin01_one_fet11-01_12-58-54_sess   fet11-01_12-58-54   \n",
       "2   kdiba_gor01_two_2006-6-07_16-40-19_sess  2006-6-07_16-40-19   \n",
       "3    kdiba_gor01_one_2006-6-09_1-22-43_sess   2006-6-09_1-22-43   \n",
       "4   kdiba_gor01_two_2006-6-12_16-53-46_sess  2006-6-12_16-53-46   \n",
       "5   kdiba_gor01_one_2006-6-12_15-55-31_sess  2006-6-12_15-55-31   \n",
       "6   kdiba_vvp01_one_2006-4-09_17-29-30_sess  2006-4-09_17-29-30   \n",
       "7    kdiba_vvp01_two_2006-4-10_12-58-3_sess   2006-4-10_12-58-3   \n",
       "8   kdiba_vvp01_two_2006-4-09_16-40-54_sess  2006-4-09_16-40-54   \n",
       "9   kdiba_vvp01_one_2006-4-10_12-25-50_sess  2006-4-10_12-25-50   \n",
       "10       kdiba_pin01_one_11-03_12-3-25_sess       11-03_12-3-25   \n",
       "11  kdiba_gor01_one_2006-6-08_14-26-15_sess  2006-6-08_14-26-15   \n",
       "12  kdiba_gor01_two_2006-6-07_16-40-19_sess  2006-6-07_16-40-19   \n",
       "13   kdiba_pin01_one_fet11-01_12-58-54_sess   fet11-01_12-58-54   \n",
       "14   kdiba_gor01_one_2006-6-09_1-22-43_sess   2006-6-09_1-22-43   \n",
       "15  kdiba_gor01_two_2006-6-12_16-53-46_sess  2006-6-12_16-53-46   \n",
       "16  kdiba_gor01_one_2006-6-12_15-55-31_sess  2006-6-12_15-55-31   \n",
       "17  kdiba_vvp01_one_2006-4-09_17-29-30_sess  2006-4-09_17-29-30   \n",
       "18   kdiba_vvp01_two_2006-4-10_12-58-3_sess   2006-4-10_12-58-3   \n",
       "19  kdiba_vvp01_two_2006-4-09_16-40-54_sess  2006-4-09_16-40-54   \n",
       "20  kdiba_vvp01_one_2006-4-10_12-25-50_sess  2006-4-10_12-25-50   \n",
       "21       kdiba_pin01_one_11-03_12-3-25_sess       11-03_12-3-25   \n",
       "22  kdiba_gor01_one_2006-6-08_14-26-15_sess  2006-6-08_14-26-15   \n",
       "23  kdiba_gor01_one_2006-6-08_14-26-15_sess  2006-6-08_14-26-15   \n",
       "24  kdiba_gor01_two_2006-6-07_16-40-19_sess  2006-6-07_16-40-19   \n",
       "25   kdiba_pin01_one_fet11-01_12-58-54_sess   fet11-01_12-58-54   \n",
       "26  kdiba_gor01_one_2006-6-07_11-26-53_sess  2006-6-07_11-26-53   \n",
       "27   kdiba_gor01_one_2006-6-09_1-22-43_sess   2006-6-09_1-22-43   \n",
       "\n",
       "                                       entrypoint  \\\n",
       "0   figures_kdiba_gor01_one_2006-6-08_14-26-15.py   \n",
       "1    figures_kdiba_pin01_one_fet11-01_12-58-54.py   \n",
       "2   figures_kdiba_gor01_two_2006-6-07_16-40-19.py   \n",
       "3    figures_kdiba_gor01_one_2006-6-09_1-22-43.py   \n",
       "4   figures_kdiba_gor01_two_2006-6-12_16-53-46.py   \n",
       "5   figures_kdiba_gor01_one_2006-6-12_15-55-31.py   \n",
       "6   figures_kdiba_vvp01_one_2006-4-09_17-29-30.py   \n",
       "7    figures_kdiba_vvp01_two_2006-4-10_12-58-3.py   \n",
       "8   figures_kdiba_vvp01_two_2006-4-09_16-40-54.py   \n",
       "9   figures_kdiba_vvp01_one_2006-4-10_12-25-50.py   \n",
       "10       figures_kdiba_pin01_one_11-03_12-3-25.py   \n",
       "11  figures_kdiba_gor01_one_2006-6-08_14-26-15.py   \n",
       "12  figures_kdiba_gor01_two_2006-6-07_16-40-19.py   \n",
       "13   figures_kdiba_pin01_one_fet11-01_12-58-54.py   \n",
       "14   figures_kdiba_gor01_one_2006-6-09_1-22-43.py   \n",
       "15  figures_kdiba_gor01_two_2006-6-12_16-53-46.py   \n",
       "16  figures_kdiba_gor01_one_2006-6-12_15-55-31.py   \n",
       "17  figures_kdiba_vvp01_one_2006-4-09_17-29-30.py   \n",
       "18   figures_kdiba_vvp01_two_2006-4-10_12-58-3.py   \n",
       "19  figures_kdiba_vvp01_two_2006-4-09_16-40-54.py   \n",
       "20  figures_kdiba_vvp01_one_2006-4-10_12-25-50.py   \n",
       "21       figures_kdiba_pin01_one_11-03_12-3-25.py   \n",
       "22                                            NaN   \n",
       "23  figures_kdiba_gor01_one_2006-6-08_14-26-15.py   \n",
       "24  figures_kdiba_gor01_two_2006-6-07_16-40-19.py   \n",
       "25   figures_kdiba_pin01_one_fet11-01_12-58-54.py   \n",
       "26  figures_kdiba_gor01_one_2006-6-07_11-26-53.py   \n",
       "27   figures_kdiba_gor01_one_2006-6-09_1-22-43.py   \n",
       "\n",
       "                                         git  \n",
       "0                                        NaN  \n",
       "1                                        NaN  \n",
       "2                                        NaN  \n",
       "3                                        NaN  \n",
       "4                                        NaN  \n",
       "5                                        NaN  \n",
       "6                                        NaN  \n",
       "7                                        NaN  \n",
       "8                                        NaN  \n",
       "9                                        NaN  \n",
       "10                                       NaN  \n",
       "11                                       NaN  \n",
       "12                                       NaN  \n",
       "13                                       NaN  \n",
       "14                                       NaN  \n",
       "15                                       NaN  \n",
       "16                                       NaN  \n",
       "17                                       NaN  \n",
       "18                                       NaN  \n",
       "19                                       NaN  \n",
       "20                                       NaN  \n",
       "21                                       NaN  \n",
       "22  c9643c51603422e33485434cce48e0ff3cd921ec  \n",
       "23                                       NaN  \n",
       "24                                       NaN  \n",
       "25                                       NaN  \n",
       "26                                       NaN  \n",
       "27                                       NaN  "
      ]
     },
     "execution_count": 4,
     "metadata": {},
     "output_type": "execute_result"
    }
   ],
   "source": [
    "context_indexed_runs_list_dict: Dict[IdentifyingContext, List[AutoValueConvertingNeptuneRun]] = neptune_run_collected_results.context_indexed_runs_list_dict\n",
    "## INPUTS: neptuner, run_logs, most_recent_runs_table_df\n",
    "\n",
    "most_recent_runs_table_df: pd.DataFrame = neptune_run_collected_results.most_recent_runs_table_df\n",
    "most_recent_runs_table_df\n",
    "most_recent_runs_session_descriptor_string_to_context_map: Dict[SessionDescriptorString, IdentifyingContext] = neptune_run_collected_results.most_recent_runs_session_descriptor_string_to_context_map\n",
    "## INPUTS: most_recent_runs_session_descriptor_string_to_context_map, run_logs\n",
    "context_indexed_run_logs: Dict[IdentifyingContext, str] = neptune_run_collected_results.context_indexed_run_logs # get the IdentifyingContext indexed item\n",
    "## INPUTS: most_recent_runs_table_df\n",
    "most_recent_runs_context_indexed_run_extra_data: Dict[IdentifyingContext, Dict] = neptune_run_collected_results.most_recent_runs_context_indexed_run_extra_data\n",
    "# most_recent_runs_context_indexed_run_extra_data # SessionTuple(format_name='kdiba', animal='pin01', exper_name='one', session_name='11-02_17-46-44', session_descriptor_string='kdiba_pin01_one_11-02_17-46-44_sess', id='LS2023-1335', hostname='gl3126.arc-ts.umich.edu', creation_time=Timestamp('2024-08-29 16:39:16.613000'), running_time=8735.629, ping_time=Timestamp('2024-09-24 08:38:06.626000'), monitoring_time=1543, size=28686905.0, tags='11-02_17-46-44,one,kdiba,pin01', entrypoint='figures_kdiba_pin01_one_11-02_17-46-44.py')\n",
    "most_recent_runs_table_df.to_csv(f'output/{TODAY_DAY_DATE}_{project_main_name}_most_recent_neptune_runs_csv.csv')\n",
    "\n",
    "## OUTPUTS: most_recent_runs_session_descriptor_string_to_context_map, context_indexed_run_logs, most_recent_runs_context_indexed_run_extra_data"
   ]
  },
  {
   "cell_type": "code",
   "execution_count": null,
   "metadata": {},
   "outputs": [],
   "source": [
    "context_indexed_run_logs"
   ]
  },
  {
   "cell_type": "code",
   "execution_count": null,
   "metadata": {},
   "outputs": [],
   "source": [
    "# self.context_dropdown = Dropdown(options=self.contexts, description='Context:', layout=widgets.Layout(width='600px'))"
   ]
  },
  {
   "cell_type": "code",
   "execution_count": null,
   "metadata": {},
   "outputs": [],
   "source": [
    "most_recent_runs_table_df"
   ]
  },
  {
   "cell_type": "code",
   "execution_count": null,
   "metadata": {},
   "outputs": [],
   "source": [
    "# Performed 1 aggregation grouped on columns: 'session_descriptor_string', 'entrypoint'\n",
    "most_recent_runs_table_df.groupby(['session_descriptor_string', 'entrypoint']).agg(modification_time_max=('modification_time', 'max')).reset_index()\n"
   ]
  },
  {
   "cell_type": "code",
   "execution_count": null,
   "metadata": {},
   "outputs": [],
   "source": [
    "most_recent_runs_context_indexed_run_extra_data"
   ]
  },
  {
   "cell_type": "markdown",
   "metadata": {},
   "source": [
    "##  2024-09-24 - tries to get the figures from the runs"
   ]
  },
  {
   "cell_type": "code",
   "execution_count": null,
   "metadata": {},
   "outputs": [],
   "source": [
    "\"outputs/figures/display_fn_name:display_short_long_pf1D_comparison/track:long\"\n",
    "\"outputs/figures/display_fn_name:display_short_long_pf1D_comparison/track:short\"\n",
    "\n",
    "\"display_fn_name:display_long_short_laps\"\n",
    "\n",
    "\"display_fn_name:_display_grid_bin_bounds_validation\"\n",
    "\n",
    "\n",
    "\n",
    "# Particular Run: `https://app.neptune.ai/commander.pho/PhoDibaLongShortUpdated/e/LS2023-1343`\n",
    "# most_recent_runs_context_indexed_run_extra_data\n",
    "# a_session_descriptor_str: str = 'kdiba_gor01_two_2006-6-07_16-40-19'\n",
    "# a_session_descriptor_str: str = 'kdiba_gor01_one_2006-6-09_1-22-43'\n",
    "# a_run = neptune_run_collected_results.runs_dict['LS2023-1343'] # kdiba_gor01_two_2006-6-07_16-40-19_sess\n",
    "\n",
    "# fig_input_key: str = \"outputs/figures/display_fn_name:display_short_long_pf1D_comparison/track:long\"\n",
    "# fig_input_key: str = \"display_fn_name:display_short_long_pf1D_comparison/track:long\"\n",
    "# fig_input_key: str = \"display_fn_name:display_short_long_pf1D_comparison/track:short\"\n",
    "# download_image(a_run=a_run, fig_input_key=fig_input_key, a_session_descriptor_str=a_session_descriptor_str)\n",
    "\n",
    "\n",
    "# Support Incomplete Keys to export multiple images: _________________________________________________________________ #\n",
    "# fig_input_key: str = \"display_fn_name:BatchPhoJonathanReplayFRC/plot_result_set:shared/page:1of6/aclus:(2,4,5,6,7,8,9,11,12,13)\"\n",
    "# fig_input_key: str = \"display_fn_name:BatchPhoJonathanReplayFRC\" # plot_result_set:shared/page:1of6/aclus:(2,4,5,6,7,8,9,11,12,13)\n",
    "# check if the key ends with a forward-slash, in which case it may describe multiple images\n",
    "# fig_input_key.endswith('/')\n",
    "\n",
    "# {'plot_result_set:long_only': {'aclus:(48)': <neptune.attributes.atoms.file.File at 0x282be50c760>},\n",
    "#  'plot_result_set:shared': {'page:1of3': {'aclus:(7,41,20,23,32,63,46,52,15,54,51,60,50,28,31,49,26,5,40,62)': <neptune.attributes.atoms.file.File at 0x282be50c7c0>},\n",
    "#   'page:1of6': {'aclus:(2,4,5,6,7,8,9,11,12,13)': <neptune.attributes.atoms.file.File at 0x282be50caf0>},\n",
    "#   'page:2of3': {'aclus:(11,55,27,45,24,53,17,56,6,35,34,8,25,21,39,33,44,64,43,2)': <neptune.attributes.atoms.file.File at 0x282be50cb20>},\n",
    "#   'page:2of6': {'aclus:(14,15,16,17,20,21,22,23,24,25)': <neptune.attributes.atoms.file.File at 0x282be4f2040>},\n",
    "#   'page:3of3': {'aclus:(4,9,12,13,14,16,22,29,30,36,37,38,42,47,57,58,59,61)': <neptune.attributes.atoms.file.File at 0x282be4df9d0>},\n",
    "#   'page:3of6': {'aclus:(26,27,28,29,30,31,32,33,34,35)': <neptune.attributes.atoms.file.File at 0x282be4dfb80>},\n",
    "#   'page:4of6': {'aclus:(36,37,38,39,40,41,42,43,44,45)': <neptune.attributes.atoms.file.File at 0x282be4dfc70>},\n",
    "#   'page:5of6': {'aclus:(46,47,49,50,51,52,53,54,55,56)': <neptune.attributes.atoms.file.File at 0x282be4df8e0>},\n",
    "#   'page:6of6': {'aclus:(57,58,59,60,61,62,63,64)': <neptune.attributes.atoms.file.File at 0x282be4df5b0>}},\n",
    "#  'plot_result_set:short_only': {'aclus:(3,10,18,19,65)': <neptune.attributes.atoms.file.File at 0x282be4df760>}}\n",
    "\n",
    "\n",
    "# {'plot_result_set:long_only/aclus:(48)': <neptune.attributes.atoms.file.File at 0x282be50c760>,\n",
    "#  'plot_result_set:shared/page:1of3/aclus:(7,41,20,23,32,63,46,52,15,54,51,60,50,28,31,49,26,5,40,62)': <neptune.attributes.atoms.file.File at 0x282be50c7c0>,\n",
    "#  'plot_result_set:shared/page:1of6/aclus:(2,4,5,6,7,8,9,11,12,13)': <neptune.attributes.atoms.file.File at 0x282be50caf0>,\n",
    "#  'plot_result_set:shared/page:2of3/aclus:(11,55,27,45,24,53,17,56,6,35,34,8,25,21,39,33,44,64,43,2)': <neptune.attributes.atoms.file.File at 0x282be50cb20>,\n",
    "#  'plot_result_set:shared/page:2of6/aclus:(14,15,16,17,20,21,22,23,24,25)': <neptune.attributes.atoms.file.File at 0x282be4f2040>,\n",
    "#  'plot_result_set:shared/page:3of3/aclus:(4,9,12,13,14,16,22,29,30,36,37,38,42,47,57,58,59,61)': <neptune.attributes.atoms.file.File at 0x282be4df9d0>,\n",
    "#  'plot_result_set:shared/page:3of6/aclus:(26,27,28,29,30,31,32,33,34,35)': <neptune.attributes.atoms.file.File at 0x282be4dfb80>,\n",
    "#  'plot_result_set:shared/page:4of6/aclus:(36,37,38,39,40,41,42,43,44,45)': <neptune.attributes.atoms.file.File at 0x282be4dfc70>,\n",
    "#  'plot_result_set:shared/page:5of6/aclus:(46,47,49,50,51,52,53,54,55,56)': <neptune.attributes.atoms.file.File at 0x282be4df8e0>,\n",
    "#  'plot_result_set:shared/page:6of6/aclus:(57,58,59,60,61,62,63,64)': <neptune.attributes.atoms.file.File at 0x282be4df5b0>,\n",
    "#  'plot_result_set:short_only/aclus:(3,10,18,19,65)': <neptune.attributes.atoms.file.File at 0x282be4df760>}\n"
   ]
  },
  {
   "cell_type": "code",
   "execution_count": 6,
   "metadata": {},
   "outputs": [
    {
     "name": "stdout",
     "output_type": "stream",
     "text": [
      "not a figure file! a dictionary instead probably: type(a_fig_file_field): <class 'dict'>\n"
     ]
    },
    {
     "data": {
      "application/vnd.jupyter.widget-view+json": {
       "model_id": "94a2c7df09a04e378945ef9d578a30e0",
       "version_major": 2,
       "version_minor": 0
      },
      "text/plain": [
       "Fetching file...: 0 [00:00, ?/s]"
      ]
     },
     "metadata": {},
     "output_type": "display_data"
    },
    {
     "data": {
      "application/vnd.jupyter.widget-view+json": {
       "model_id": "cb9209aacd744d94a9c9e64919b0432c",
       "version_major": 2,
       "version_minor": 0
      },
      "text/plain": [
       "Fetching file...: 0 [00:00, ?/s]"
      ]
     },
     "metadata": {},
     "output_type": "display_data"
    },
    {
     "data": {
      "application/vnd.jupyter.widget-view+json": {
       "model_id": "cc6936a8dbf148c7ae9b99be42419d15",
       "version_major": 2,
       "version_minor": 0
      },
      "text/plain": [
       "Fetching file...: 0 [00:00, ?/s]"
      ]
     },
     "metadata": {},
     "output_type": "display_data"
    },
    {
     "data": {
      "application/vnd.jupyter.widget-view+json": {
       "model_id": "069e6cf6e75944939f11c9531d902cce",
       "version_major": 2,
       "version_minor": 0
      },
      "text/plain": [
       "Fetching file...: 0 [00:00, ?/s]"
      ]
     },
     "metadata": {},
     "output_type": "display_data"
    },
    {
     "data": {
      "application/vnd.jupyter.widget-view+json": {
       "model_id": "ef348a475cff46ba9853c54e9af5735c",
       "version_major": 2,
       "version_minor": 0
      },
      "text/plain": [
       "Fetching file...: 0 [00:00, ?/s]"
      ]
     },
     "metadata": {},
     "output_type": "display_data"
    },
    {
     "data": {
      "application/vnd.jupyter.widget-view+json": {
       "model_id": "44e5fd54598f46ce84c65afe1b33e324",
       "version_major": 2,
       "version_minor": 0
      },
      "text/plain": [
       "Fetching file...: 0 [00:00, ?/s]"
      ]
     },
     "metadata": {},
     "output_type": "display_data"
    },
    {
     "data": {
      "application/vnd.jupyter.widget-view+json": {
       "model_id": "02acd9c373a24d9a88770d26ca623344",
       "version_major": 2,
       "version_minor": 0
      },
      "text/plain": [
       "Fetching file...: 0 [00:00, ?/s]"
      ]
     },
     "metadata": {},
     "output_type": "display_data"
    },
    {
     "data": {
      "application/vnd.jupyter.widget-view+json": {
       "model_id": "6a6c80810ff946c48a5f3442d9819e36",
       "version_major": 2,
       "version_minor": 0
      },
      "text/plain": [
       "Fetching file...: 0 [00:00, ?/s]"
      ]
     },
     "metadata": {},
     "output_type": "display_data"
    },
    {
     "data": {
      "application/vnd.jupyter.widget-view+json": {
       "model_id": "2531a9751617447ab10d491fb0f267b7",
       "version_major": 2,
       "version_minor": 0
      },
      "text/plain": [
       "Fetching file...: 0 [00:00, ?/s]"
      ]
     },
     "metadata": {},
     "output_type": "display_data"
    },
    {
     "data": {
      "application/vnd.jupyter.widget-view+json": {
       "model_id": "d2d10c2f3fbe4b968edafc772a254e90",
       "version_major": 2,
       "version_minor": 0
      },
      "text/plain": [
       "Fetching file...: 0 [00:00, ?/s]"
      ]
     },
     "metadata": {},
     "output_type": "display_data"
    },
    {
     "data": {
      "application/vnd.jupyter.widget-view+json": {
       "model_id": "25532074748a437f8ef7c8dcffa5a57d",
       "version_major": 2,
       "version_minor": 0
      },
      "text/plain": [
       "Fetching file...: 0 [00:00, ?/s]"
      ]
     },
     "metadata": {},
     "output_type": "display_data"
    },
    {
     "data": {
      "application/vnd.jupyter.widget-view+json": {
       "model_id": "f134ea8c18b54d079b48161103e0e8b8",
       "version_major": 2,
       "version_minor": 0
      },
      "text/plain": [
       "Fetching file...: 0 [00:00, ?/s]"
      ]
     },
     "metadata": {},
     "output_type": "display_data"
    },
    {
     "data": {
      "application/vnd.jupyter.widget-view+json": {
       "model_id": "85954df85a844e5d8e5e914ceff07d89",
       "version_major": 2,
       "version_minor": 0
      },
      "text/plain": [
       "Fetching file...: 0 [00:00, ?/s]"
      ]
     },
     "metadata": {},
     "output_type": "display_data"
    },
    {
     "data": {
      "application/vnd.jupyter.widget-view+json": {
       "model_id": "fc1aee6b043c44faa753d84d8bf984ca",
       "version_major": 2,
       "version_minor": 0
      },
      "text/plain": [
       "Fetching file...: 0 [00:00, ?/s]"
      ]
     },
     "metadata": {},
     "output_type": "display_data"
    },
    {
     "name": "stdout",
     "output_type": "stream",
     "text": [
      "not a figure file! a dictionary instead probably: type(a_fig_file_field): <class 'dict'>\n"
     ]
    },
    {
     "data": {
      "application/vnd.jupyter.widget-view+json": {
       "model_id": "ec7d39ed27424f62ae3fc19dd32b9252",
       "version_major": 2,
       "version_minor": 0
      },
      "text/plain": [
       "Fetching file...: 0 [00:00, ?/s]"
      ]
     },
     "metadata": {},
     "output_type": "display_data"
    },
    {
     "data": {
      "application/vnd.jupyter.widget-view+json": {
       "model_id": "c52aa0b9ca48416cb37743bf4505cb33",
       "version_major": 2,
       "version_minor": 0
      },
      "text/plain": [
       "Fetching file...: 0 [00:00, ?/s]"
      ]
     },
     "metadata": {},
     "output_type": "display_data"
    },
    {
     "data": {
      "application/vnd.jupyter.widget-view+json": {
       "model_id": "cef14a7013594a09ac017ac9e56588b8",
       "version_major": 2,
       "version_minor": 0
      },
      "text/plain": [
       "Fetching file...: 0 [00:00, ?/s]"
      ]
     },
     "metadata": {},
     "output_type": "display_data"
    },
    {
     "data": {
      "application/vnd.jupyter.widget-view+json": {
       "model_id": "7b83a2aa19074b688ac62ee2f880991c",
       "version_major": 2,
       "version_minor": 0
      },
      "text/plain": [
       "Fetching file...: 0 [00:00, ?/s]"
      ]
     },
     "metadata": {},
     "output_type": "display_data"
    },
    {
     "data": {
      "application/vnd.jupyter.widget-view+json": {
       "model_id": "88eb145dd63e457da3ea26635064c643",
       "version_major": 2,
       "version_minor": 0
      },
      "text/plain": [
       "Fetching file...: 0 [00:00, ?/s]"
      ]
     },
     "metadata": {},
     "output_type": "display_data"
    },
    {
     "data": {
      "application/vnd.jupyter.widget-view+json": {
       "model_id": "7b697e7bc3114231a7e54edbb0d2158a",
       "version_major": 2,
       "version_minor": 0
      },
      "text/plain": [
       "Fetching file...: 0 [00:00, ?/s]"
      ]
     },
     "metadata": {},
     "output_type": "display_data"
    },
    {
     "data": {
      "application/vnd.jupyter.widget-view+json": {
       "model_id": "36a60f43633d445f8e478f77f00f6832",
       "version_major": 2,
       "version_minor": 0
      },
      "text/plain": [
       "Fetching file...: 0 [00:00, ?/s]"
      ]
     },
     "metadata": {},
     "output_type": "display_data"
    },
    {
     "data": {
      "application/vnd.jupyter.widget-view+json": {
       "model_id": "4f0b84a7010548179dbb40055640e85d",
       "version_major": 2,
       "version_minor": 0
      },
      "text/plain": [
       "Fetching file...: 0 [00:00, ?/s]"
      ]
     },
     "metadata": {},
     "output_type": "display_data"
    },
    {
     "data": {
      "application/vnd.jupyter.widget-view+json": {
       "model_id": "096935bfbc474d409dde65b791af406e",
       "version_major": 2,
       "version_minor": 0
      },
      "text/plain": [
       "Fetching file...: 0 [00:00, ?/s]"
      ]
     },
     "metadata": {},
     "output_type": "display_data"
    },
    {
     "data": {
      "application/vnd.jupyter.widget-view+json": {
       "model_id": "e4235d5a186e406d8e73483b99975d0f",
       "version_major": 2,
       "version_minor": 0
      },
      "text/plain": [
       "Fetching file...: 0 [00:00, ?/s]"
      ]
     },
     "metadata": {},
     "output_type": "display_data"
    },
    {
     "data": {
      "application/vnd.jupyter.widget-view+json": {
       "model_id": "2dbf53de4d7741f2920ab9a215d15fe9",
       "version_major": 2,
       "version_minor": 0
      },
      "text/plain": [
       "Fetching file...: 0 [00:00, ?/s]"
      ]
     },
     "metadata": {},
     "output_type": "display_data"
    },
    {
     "data": {
      "application/vnd.jupyter.widget-view+json": {
       "model_id": "c813038e11ee457d96ca8fcb924cd235",
       "version_major": 2,
       "version_minor": 0
      },
      "text/plain": [
       "Fetching file...: 0 [00:00, ?/s]"
      ]
     },
     "metadata": {},
     "output_type": "display_data"
    },
    {
     "data": {
      "application/vnd.jupyter.widget-view+json": {
       "model_id": "9542555669df43ccb6ed2f294a791f2e",
       "version_major": 2,
       "version_minor": 0
      },
      "text/plain": [
       "Fetching file...: 0 [00:00, ?/s]"
      ]
     },
     "metadata": {},
     "output_type": "display_data"
    },
    {
     "data": {
      "application/vnd.jupyter.widget-view+json": {
       "model_id": "a7d50fb34d5544469497d57fa57aaad2",
       "version_major": 2,
       "version_minor": 0
      },
      "text/plain": [
       "Fetching file...: 0 [00:00, ?/s]"
      ]
     },
     "metadata": {},
     "output_type": "display_data"
    },
    {
     "name": "stdout",
     "output_type": "stream",
     "text": [
      "not a figure file! a dictionary instead probably: type(a_fig_file_field): <class 'dict'>\n"
     ]
    },
    {
     "data": {
      "application/vnd.jupyter.widget-view+json": {
       "model_id": "a63250cfe6ba4b5e8d1c3a5de8928a50",
       "version_major": 2,
       "version_minor": 0
      },
      "text/plain": [
       "Fetching file...: 0 [00:00, ?/s]"
      ]
     },
     "metadata": {},
     "output_type": "display_data"
    },
    {
     "data": {
      "application/vnd.jupyter.widget-view+json": {
       "model_id": "19e629d777084d1bb8fa4e3524cccf07",
       "version_major": 2,
       "version_minor": 0
      },
      "text/plain": [
       "Fetching file...: 0 [00:00, ?/s]"
      ]
     },
     "metadata": {},
     "output_type": "display_data"
    },
    {
     "data": {
      "application/vnd.jupyter.widget-view+json": {
       "model_id": "da37897593034e93863900634e451add",
       "version_major": 2,
       "version_minor": 0
      },
      "text/plain": [
       "Fetching file...: 0 [00:00, ?/s]"
      ]
     },
     "metadata": {},
     "output_type": "display_data"
    },
    {
     "data": {
      "application/vnd.jupyter.widget-view+json": {
       "model_id": "f543ad5255d84f1fa1e07c2a660f4fb9",
       "version_major": 2,
       "version_minor": 0
      },
      "text/plain": [
       "Fetching file...: 0 [00:00, ?/s]"
      ]
     },
     "metadata": {},
     "output_type": "display_data"
    },
    {
     "data": {
      "application/vnd.jupyter.widget-view+json": {
       "model_id": "858de115a5944df6b258baeee8a4697d",
       "version_major": 2,
       "version_minor": 0
      },
      "text/plain": [
       "Fetching file...: 0 [00:00, ?/s]"
      ]
     },
     "metadata": {},
     "output_type": "display_data"
    },
    {
     "data": {
      "application/vnd.jupyter.widget-view+json": {
       "model_id": "67449723f4214caa8d80e9eb64295ac2",
       "version_major": 2,
       "version_minor": 0
      },
      "text/plain": [
       "Fetching file...: 0 [00:00, ?/s]"
      ]
     },
     "metadata": {},
     "output_type": "display_data"
    },
    {
     "data": {
      "application/vnd.jupyter.widget-view+json": {
       "model_id": "3e5ce1fbf6ee41e98ce6d0c51ebd0290",
       "version_major": 2,
       "version_minor": 0
      },
      "text/plain": [
       "Fetching file...: 0 [00:00, ?/s]"
      ]
     },
     "metadata": {},
     "output_type": "display_data"
    },
    {
     "data": {
      "application/vnd.jupyter.widget-view+json": {
       "model_id": "3d8a545f65014f48800520d8cf011c8b",
       "version_major": 2,
       "version_minor": 0
      },
      "text/plain": [
       "Fetching file...: 0 [00:00, ?/s]"
      ]
     },
     "metadata": {},
     "output_type": "display_data"
    },
    {
     "data": {
      "application/vnd.jupyter.widget-view+json": {
       "model_id": "2d77bc0ffc58437d885bafdac5337376",
       "version_major": 2,
       "version_minor": 0
      },
      "text/plain": [
       "Fetching file...: 0 [00:00, ?/s]"
      ]
     },
     "metadata": {},
     "output_type": "display_data"
    },
    {
     "data": {
      "application/vnd.jupyter.widget-view+json": {
       "model_id": "d3189abb836840db9fd9034852d42391",
       "version_major": 2,
       "version_minor": 0
      },
      "text/plain": [
       "Fetching file...: 0 [00:00, ?/s]"
      ]
     },
     "metadata": {},
     "output_type": "display_data"
    },
    {
     "data": {
      "application/vnd.jupyter.widget-view+json": {
       "model_id": "dce4ed41ce8a4e4bb34928afa0a5a2f8",
       "version_major": 2,
       "version_minor": 0
      },
      "text/plain": [
       "Fetching file...: 0 [00:00, ?/s]"
      ]
     },
     "metadata": {},
     "output_type": "display_data"
    },
    {
     "data": {
      "application/vnd.jupyter.widget-view+json": {
       "model_id": "e3a49f710f424125893493bc5abf8e58",
       "version_major": 2,
       "version_minor": 0
      },
      "text/plain": [
       "Fetching file...: 0 [00:00, ?/s]"
      ]
     },
     "metadata": {},
     "output_type": "display_data"
    },
    {
     "data": {
      "application/vnd.jupyter.widget-view+json": {
       "model_id": "f556ea9b011c4a6eb5ed6315df6b30c3",
       "version_major": 2,
       "version_minor": 0
      },
      "text/plain": [
       "Fetching file...: 0 [00:00, ?/s]"
      ]
     },
     "metadata": {},
     "output_type": "display_data"
    },
    {
     "data": {
      "application/vnd.jupyter.widget-view+json": {
       "model_id": "02dc0a2ff79c4d599dde080265322cbb",
       "version_major": 2,
       "version_minor": 0
      },
      "text/plain": [
       "Fetching file...: 0 [00:00, ?/s]"
      ]
     },
     "metadata": {},
     "output_type": "display_data"
    },
    {
     "name": "stdout",
     "output_type": "stream",
     "text": [
      "not a figure file! a dictionary instead probably: type(a_fig_file_field): <class 'dict'>\n"
     ]
    },
    {
     "data": {
      "application/vnd.jupyter.widget-view+json": {
       "model_id": "353b47254cc045eda19bb8efc4ff59c2",
       "version_major": 2,
       "version_minor": 0
      },
      "text/plain": [
       "Fetching file...: 0 [00:00, ?/s]"
      ]
     },
     "metadata": {},
     "output_type": "display_data"
    },
    {
     "data": {
      "application/vnd.jupyter.widget-view+json": {
       "model_id": "15419193be924d85b432c43db291ad44",
       "version_major": 2,
       "version_minor": 0
      },
      "text/plain": [
       "Fetching file...: 0 [00:00, ?/s]"
      ]
     },
     "metadata": {},
     "output_type": "display_data"
    },
    {
     "data": {
      "application/vnd.jupyter.widget-view+json": {
       "model_id": "17897aa499f8499a99278a1d49b087ec",
       "version_major": 2,
       "version_minor": 0
      },
      "text/plain": [
       "Fetching file...: 0 [00:00, ?/s]"
      ]
     },
     "metadata": {},
     "output_type": "display_data"
    },
    {
     "name": "stdout",
     "output_type": "stream",
     "text": [
      "not a figure file! a dictionary instead probably: type(a_fig_file_field): <class 'dict'>\n"
     ]
    },
    {
     "data": {
      "application/vnd.jupyter.widget-view+json": {
       "model_id": "a1c26a68317e4eb8a60682f72d2917d4",
       "version_major": 2,
       "version_minor": 0
      },
      "text/plain": [
       "Fetching file...: 0 [00:00, ?/s]"
      ]
     },
     "metadata": {},
     "output_type": "display_data"
    },
    {
     "data": {
      "application/vnd.jupyter.widget-view+json": {
       "model_id": "7e4d11d216884d6ea49e5c0ca622a1ea",
       "version_major": 2,
       "version_minor": 0
      },
      "text/plain": [
       "Fetching file...: 0 [00:00, ?/s]"
      ]
     },
     "metadata": {},
     "output_type": "display_data"
    },
    {
     "data": {
      "application/vnd.jupyter.widget-view+json": {
       "model_id": "e4928b6a0e44436ba6da9cbe28167d2a",
       "version_major": 2,
       "version_minor": 0
      },
      "text/plain": [
       "Fetching file...: 0 [00:00, ?/s]"
      ]
     },
     "metadata": {},
     "output_type": "display_data"
    },
    {
     "name": "stdout",
     "output_type": "stream",
     "text": [
      "not a figure file! a dictionary instead probably: type(a_fig_file_field): <class 'dict'>\n"
     ]
    },
    {
     "data": {
      "application/vnd.jupyter.widget-view+json": {
       "model_id": "cd45933bd72c4b06aaed2bdded73d522",
       "version_major": 2,
       "version_minor": 0
      },
      "text/plain": [
       "Fetching file...: 0 [00:00, ?/s]"
      ]
     },
     "metadata": {},
     "output_type": "display_data"
    },
    {
     "data": {
      "application/vnd.jupyter.widget-view+json": {
       "model_id": "bdfcd417ecb24e4f8572d95d0b2437d5",
       "version_major": 2,
       "version_minor": 0
      },
      "text/plain": [
       "Fetching file...: 0 [00:00, ?/s]"
      ]
     },
     "metadata": {},
     "output_type": "display_data"
    },
    {
     "data": {
      "application/vnd.jupyter.widget-view+json": {
       "model_id": "bf3f5d9c134a4f90b2b1be56f2e62f59",
       "version_major": 2,
       "version_minor": 0
      },
      "text/plain": [
       "Fetching file...: 0 [00:00, ?/s]"
      ]
     },
     "metadata": {},
     "output_type": "display_data"
    },
    {
     "name": "stdout",
     "output_type": "stream",
     "text": [
      "not a figure file! a dictionary instead probably: type(a_fig_file_field): <class 'dict'>\n"
     ]
    },
    {
     "data": {
      "application/vnd.jupyter.widget-view+json": {
       "model_id": "820c82252af24b2e84bb1fae298b66b0",
       "version_major": 2,
       "version_minor": 0
      },
      "text/plain": [
       "Fetching file...: 0 [00:00, ?/s]"
      ]
     },
     "metadata": {},
     "output_type": "display_data"
    },
    {
     "data": {
      "application/vnd.jupyter.widget-view+json": {
       "model_id": "0980bec68db1428580e265301230a305",
       "version_major": 2,
       "version_minor": 0
      },
      "text/plain": [
       "Fetching file...: 0 [00:00, ?/s]"
      ]
     },
     "metadata": {},
     "output_type": "display_data"
    },
    {
     "data": {
      "application/vnd.jupyter.widget-view+json": {
       "model_id": "2a44a371d9c04a328231217e1ed10eff",
       "version_major": 2,
       "version_minor": 0
      },
      "text/plain": [
       "Fetching file...: 0 [00:00, ?/s]"
      ]
     },
     "metadata": {},
     "output_type": "display_data"
    },
    {
     "data": {
      "application/vnd.jupyter.widget-view+json": {
       "model_id": "4bd3ec22e6934fcbac49ff06c1b7f6ac",
       "version_major": 2,
       "version_minor": 0
      },
      "text/plain": [
       "Fetching file...: 0 [00:00, ?/s]"
      ]
     },
     "metadata": {},
     "output_type": "display_data"
    },
    {
     "data": {
      "application/vnd.jupyter.widget-view+json": {
       "model_id": "81c8deb8534c445a9bf0c69e7fa94787",
       "version_major": 2,
       "version_minor": 0
      },
      "text/plain": [
       "Fetching file...: 0 [00:00, ?/s]"
      ]
     },
     "metadata": {},
     "output_type": "display_data"
    },
    {
     "data": {
      "application/vnd.jupyter.widget-view+json": {
       "model_id": "baf12cdeabda42ac985e8d9cba6a1418",
       "version_major": 2,
       "version_minor": 0
      },
      "text/plain": [
       "Fetching file...: 0 [00:00, ?/s]"
      ]
     },
     "metadata": {},
     "output_type": "display_data"
    },
    {
     "data": {
      "application/vnd.jupyter.widget-view+json": {
       "model_id": "a4c33ebeca144f38a5caad5d9e810d1a",
       "version_major": 2,
       "version_minor": 0
      },
      "text/plain": [
       "Fetching file...: 0 [00:00, ?/s]"
      ]
     },
     "metadata": {},
     "output_type": "display_data"
    },
    {
     "data": {
      "application/vnd.jupyter.widget-view+json": {
       "model_id": "589803c3f3fe4085ba1e9c9bf921373a",
       "version_major": 2,
       "version_minor": 0
      },
      "text/plain": [
       "Fetching file...: 0 [00:00, ?/s]"
      ]
     },
     "metadata": {},
     "output_type": "display_data"
    },
    {
     "name": "stdout",
     "output_type": "stream",
     "text": [
      "not a figure file! a dictionary instead probably: type(a_fig_file_field): <class 'dict'>\n"
     ]
    },
    {
     "data": {
      "application/vnd.jupyter.widget-view+json": {
       "model_id": "b32f41ce44b245f0aa76df3a358473d1",
       "version_major": 2,
       "version_minor": 0
      },
      "text/plain": [
       "Fetching file...: 0 [00:00, ?/s]"
      ]
     },
     "metadata": {},
     "output_type": "display_data"
    },
    {
     "data": {
      "application/vnd.jupyter.widget-view+json": {
       "model_id": "dd65565945774f58b51267ec96b1d70b",
       "version_major": 2,
       "version_minor": 0
      },
      "text/plain": [
       "Fetching file...: 0 [00:00, ?/s]"
      ]
     },
     "metadata": {},
     "output_type": "display_data"
    },
    {
     "data": {
      "application/vnd.jupyter.widget-view+json": {
       "model_id": "147ad851003e4c05bc8d0a4d40e2488d",
       "version_major": 2,
       "version_minor": 0
      },
      "text/plain": [
       "Fetching file...: 0 [00:00, ?/s]"
      ]
     },
     "metadata": {},
     "output_type": "display_data"
    },
    {
     "data": {
      "application/vnd.jupyter.widget-view+json": {
       "model_id": "fc781efd9941413e88096e1230b12468",
       "version_major": 2,
       "version_minor": 0
      },
      "text/plain": [
       "Fetching file...: 0 [00:00, ?/s]"
      ]
     },
     "metadata": {},
     "output_type": "display_data"
    },
    {
     "data": {
      "application/vnd.jupyter.widget-view+json": {
       "model_id": "5c4e81612f784132976dad03577d6a44",
       "version_major": 2,
       "version_minor": 0
      },
      "text/plain": [
       "Fetching file...: 0 [00:00, ?/s]"
      ]
     },
     "metadata": {},
     "output_type": "display_data"
    },
    {
     "data": {
      "application/vnd.jupyter.widget-view+json": {
       "model_id": "32da19819fc24681a5e86d880e984b8d",
       "version_major": 2,
       "version_minor": 0
      },
      "text/plain": [
       "Fetching file...: 0 [00:00, ?/s]"
      ]
     },
     "metadata": {},
     "output_type": "display_data"
    },
    {
     "data": {
      "application/vnd.jupyter.widget-view+json": {
       "model_id": "d9c9333890194ff0b1056d71bbc9e85d",
       "version_major": 2,
       "version_minor": 0
      },
      "text/plain": [
       "Fetching file...: 0 [00:00, ?/s]"
      ]
     },
     "metadata": {},
     "output_type": "display_data"
    },
    {
     "data": {
      "application/vnd.jupyter.widget-view+json": {
       "model_id": "0c658a006fa548ba90b0611f392fa726",
       "version_major": 2,
       "version_minor": 0
      },
      "text/plain": [
       "Fetching file...: 0 [00:00, ?/s]"
      ]
     },
     "metadata": {},
     "output_type": "display_data"
    },
    {
     "name": "stdout",
     "output_type": "stream",
     "text": [
      "not a figure file! a dictionary instead probably: type(a_fig_file_field): <class 'dict'>\n"
     ]
    },
    {
     "data": {
      "application/vnd.jupyter.widget-view+json": {
       "model_id": "99c3d4dea96e40ff99856e1d0b047a0b",
       "version_major": 2,
       "version_minor": 0
      },
      "text/plain": [
       "Fetching file...: 0 [00:00, ?/s]"
      ]
     },
     "metadata": {},
     "output_type": "display_data"
    },
    {
     "data": {
      "application/vnd.jupyter.widget-view+json": {
       "model_id": "71fefaf09ae8409b9a724ab25c040235",
       "version_major": 2,
       "version_minor": 0
      },
      "text/plain": [
       "Fetching file...: 0 [00:00, ?/s]"
      ]
     },
     "metadata": {},
     "output_type": "display_data"
    },
    {
     "data": {
      "application/vnd.jupyter.widget-view+json": {
       "model_id": "64966479377342608f42fab1a3ffe959",
       "version_major": 2,
       "version_minor": 0
      },
      "text/plain": [
       "Fetching file...: 0 [00:00, ?/s]"
      ]
     },
     "metadata": {},
     "output_type": "display_data"
    },
    {
     "data": {
      "application/vnd.jupyter.widget-view+json": {
       "model_id": "f0d1892266494afca2c3f628e97ce16f",
       "version_major": 2,
       "version_minor": 0
      },
      "text/plain": [
       "Fetching file...: 0 [00:00, ?/s]"
      ]
     },
     "metadata": {},
     "output_type": "display_data"
    },
    {
     "data": {
      "application/vnd.jupyter.widget-view+json": {
       "model_id": "5e92901f704643b98ac8327d7e5bf9e7",
       "version_major": 2,
       "version_minor": 0
      },
      "text/plain": [
       "Fetching file...: 0 [00:00, ?/s]"
      ]
     },
     "metadata": {},
     "output_type": "display_data"
    },
    {
     "data": {
      "application/vnd.jupyter.widget-view+json": {
       "model_id": "bb6b8b00973844de88e1d9f530b8748b",
       "version_major": 2,
       "version_minor": 0
      },
      "text/plain": [
       "Fetching file...: 0 [00:00, ?/s]"
      ]
     },
     "metadata": {},
     "output_type": "display_data"
    },
    {
     "data": {
      "application/vnd.jupyter.widget-view+json": {
       "model_id": "81f9d195557645c8969baec0f85a3a74",
       "version_major": 2,
       "version_minor": 0
      },
      "text/plain": [
       "Fetching file...: 0 [00:00, ?/s]"
      ]
     },
     "metadata": {},
     "output_type": "display_data"
    },
    {
     "data": {
      "application/vnd.jupyter.widget-view+json": {
       "model_id": "b6d9e6e89f8547e5a35feb41e696c9db",
       "version_major": 2,
       "version_minor": 0
      },
      "text/plain": [
       "Fetching file...: 0 [00:00, ?/s]"
      ]
     },
     "metadata": {},
     "output_type": "display_data"
    },
    {
     "name": "stdout",
     "output_type": "stream",
     "text": [
      "not a figure file! a dictionary instead probably: type(a_fig_file_field): <class 'dict'>\n"
     ]
    },
    {
     "data": {
      "application/vnd.jupyter.widget-view+json": {
       "model_id": "a2278cb02e4f4066a3f916867b3220d5",
       "version_major": 2,
       "version_minor": 0
      },
      "text/plain": [
       "Fetching file...: 0 [00:00, ?/s]"
      ]
     },
     "metadata": {},
     "output_type": "display_data"
    },
    {
     "data": {
      "application/vnd.jupyter.widget-view+json": {
       "model_id": "0730bd9a42644829840350a6330845c7",
       "version_major": 2,
       "version_minor": 0
      },
      "text/plain": [
       "Fetching file...: 0 [00:00, ?/s]"
      ]
     },
     "metadata": {},
     "output_type": "display_data"
    },
    {
     "data": {
      "application/vnd.jupyter.widget-view+json": {
       "model_id": "ee6da0294dac4780ad0b7cd0dd080c23",
       "version_major": 2,
       "version_minor": 0
      },
      "text/plain": [
       "Fetching file...: 0 [00:00, ?/s]"
      ]
     },
     "metadata": {},
     "output_type": "display_data"
    },
    {
     "data": {
      "application/vnd.jupyter.widget-view+json": {
       "model_id": "267f9dac322b48a8b937ea3da4c9cd86",
       "version_major": 2,
       "version_minor": 0
      },
      "text/plain": [
       "Fetching file...: 0 [00:00, ?/s]"
      ]
     },
     "metadata": {},
     "output_type": "display_data"
    },
    {
     "data": {
      "application/vnd.jupyter.widget-view+json": {
       "model_id": "3d35fdf967f24cd7a280f301c1c33905",
       "version_major": 2,
       "version_minor": 0
      },
      "text/plain": [
       "Fetching file...: 0 [00:00, ?/s]"
      ]
     },
     "metadata": {},
     "output_type": "display_data"
    },
    {
     "data": {
      "application/vnd.jupyter.widget-view+json": {
       "model_id": "f69b0fcec630403488f96cc56736679e",
       "version_major": 2,
       "version_minor": 0
      },
      "text/plain": [
       "Fetching file...: 0 [00:00, ?/s]"
      ]
     },
     "metadata": {},
     "output_type": "display_data"
    },
    {
     "data": {
      "application/vnd.jupyter.widget-view+json": {
       "model_id": "424a6e3dc0744254a6e822cf117241e4",
       "version_major": 2,
       "version_minor": 0
      },
      "text/plain": [
       "Fetching file...: 0 [00:00, ?/s]"
      ]
     },
     "metadata": {},
     "output_type": "display_data"
    },
    {
     "data": {
      "application/vnd.jupyter.widget-view+json": {
       "model_id": "840f78f404d74e6790aac8808bcac0fb",
       "version_major": 2,
       "version_minor": 0
      },
      "text/plain": [
       "Fetching file...: 0 [00:00, ?/s]"
      ]
     },
     "metadata": {},
     "output_type": "display_data"
    },
    {
     "data": {
      "application/vnd.jupyter.widget-view+json": {
       "model_id": "22094d8a803b45fb8bd5d10ced8a2653",
       "version_major": 2,
       "version_minor": 0
      },
      "text/plain": [
       "Fetching file...: 0 [00:00, ?/s]"
      ]
     },
     "metadata": {},
     "output_type": "display_data"
    },
    {
     "data": {
      "application/vnd.jupyter.widget-view+json": {
       "model_id": "09d6afdeea6342988f21bfeaf543ee94",
       "version_major": 2,
       "version_minor": 0
      },
      "text/plain": [
       "Fetching file...: 0 [00:00, ?/s]"
      ]
     },
     "metadata": {},
     "output_type": "display_data"
    },
    {
     "data": {
      "application/vnd.jupyter.widget-view+json": {
       "model_id": "8d5670e06eaa40f79ce4c971aab78389",
       "version_major": 2,
       "version_minor": 0
      },
      "text/plain": [
       "Fetching file...: 0 [00:00, ?/s]"
      ]
     },
     "metadata": {},
     "output_type": "display_data"
    },
    {
     "data": {
      "application/vnd.jupyter.widget-view+json": {
       "model_id": "6b7e93f4522d427a9b1eb81ab20110b0",
       "version_major": 2,
       "version_minor": 0
      },
      "text/plain": [
       "Fetching file...: 0 [00:00, ?/s]"
      ]
     },
     "metadata": {},
     "output_type": "display_data"
    },
    {
     "data": {
      "application/vnd.jupyter.widget-view+json": {
       "model_id": "2407642765264c24be4bbafc91e27e2f",
       "version_major": 2,
       "version_minor": 0
      },
      "text/plain": [
       "Fetching file...: 0 [00:00, ?/s]"
      ]
     },
     "metadata": {},
     "output_type": "display_data"
    },
    {
     "name": "stdout",
     "output_type": "stream",
     "text": [
      "not a figure file! a dictionary instead probably: type(a_fig_file_field): <class 'dict'>\n"
     ]
    },
    {
     "data": {
      "application/vnd.jupyter.widget-view+json": {
       "model_id": "052b3ba6e055497887586296e6d8f5d1",
       "version_major": 2,
       "version_minor": 0
      },
      "text/plain": [
       "Fetching file...: 0 [00:00, ?/s]"
      ]
     },
     "metadata": {},
     "output_type": "display_data"
    },
    {
     "data": {
      "application/vnd.jupyter.widget-view+json": {
       "model_id": "050121e3bbfd4c3484130eb4a48c2e03",
       "version_major": 2,
       "version_minor": 0
      },
      "text/plain": [
       "Fetching file...: 0 [00:00, ?/s]"
      ]
     },
     "metadata": {},
     "output_type": "display_data"
    },
    {
     "data": {
      "application/vnd.jupyter.widget-view+json": {
       "model_id": "1fab7bf99203408c82c37516256a7bbd",
       "version_major": 2,
       "version_minor": 0
      },
      "text/plain": [
       "Fetching file...: 0 [00:00, ?/s]"
      ]
     },
     "metadata": {},
     "output_type": "display_data"
    },
    {
     "data": {
      "application/vnd.jupyter.widget-view+json": {
       "model_id": "4e412b6f337e4878bba7ec66c032f285",
       "version_major": 2,
       "version_minor": 0
      },
      "text/plain": [
       "Fetching file...: 0 [00:00, ?/s]"
      ]
     },
     "metadata": {},
     "output_type": "display_data"
    },
    {
     "data": {
      "application/vnd.jupyter.widget-view+json": {
       "model_id": "d9e5265a3b2845a7b5d83cdda9097fb8",
       "version_major": 2,
       "version_minor": 0
      },
      "text/plain": [
       "Fetching file...: 0 [00:00, ?/s]"
      ]
     },
     "metadata": {},
     "output_type": "display_data"
    },
    {
     "data": {
      "application/vnd.jupyter.widget-view+json": {
       "model_id": "a7f6a40f5a9741f58930db4d2be2302c",
       "version_major": 2,
       "version_minor": 0
      },
      "text/plain": [
       "Fetching file...: 0 [00:00, ?/s]"
      ]
     },
     "metadata": {},
     "output_type": "display_data"
    },
    {
     "data": {
      "application/vnd.jupyter.widget-view+json": {
       "model_id": "da0879343b404f5c97abae956ca7c34b",
       "version_major": 2,
       "version_minor": 0
      },
      "text/plain": [
       "Fetching file...: 0 [00:00, ?/s]"
      ]
     },
     "metadata": {},
     "output_type": "display_data"
    },
    {
     "data": {
      "application/vnd.jupyter.widget-view+json": {
       "model_id": "305e68e3d43047a595979f2e507e97e3",
       "version_major": 2,
       "version_minor": 0
      },
      "text/plain": [
       "Fetching file...: 0 [00:00, ?/s]"
      ]
     },
     "metadata": {},
     "output_type": "display_data"
    },
    {
     "data": {
      "application/vnd.jupyter.widget-view+json": {
       "model_id": "2de270ab80b24f8bb3ea5fcf8a37f7a3",
       "version_major": 2,
       "version_minor": 0
      },
      "text/plain": [
       "Fetching file...: 0 [00:00, ?/s]"
      ]
     },
     "metadata": {},
     "output_type": "display_data"
    },
    {
     "data": {
      "application/vnd.jupyter.widget-view+json": {
       "model_id": "167d9f818f1e4f94a9e31b673438fd48",
       "version_major": 2,
       "version_minor": 0
      },
      "text/plain": [
       "Fetching file...: 0 [00:00, ?/s]"
      ]
     },
     "metadata": {},
     "output_type": "display_data"
    },
    {
     "data": {
      "application/vnd.jupyter.widget-view+json": {
       "model_id": "4f425e04fe9146ee8b7616bfdd596ba9",
       "version_major": 2,
       "version_minor": 0
      },
      "text/plain": [
       "Fetching file...: 0 [00:00, ?/s]"
      ]
     },
     "metadata": {},
     "output_type": "display_data"
    },
    {
     "data": {
      "application/vnd.jupyter.widget-view+json": {
       "model_id": "4075fa73f76f4ce4a2f2f2b8187068f5",
       "version_major": 2,
       "version_minor": 0
      },
      "text/plain": [
       "Fetching file...: 0 [00:00, ?/s]"
      ]
     },
     "metadata": {},
     "output_type": "display_data"
    },
    {
     "data": {
      "application/vnd.jupyter.widget-view+json": {
       "model_id": "bf0ae33b01934325b89eeff0e9b31ecd",
       "version_major": 2,
       "version_minor": 0
      },
      "text/plain": [
       "Fetching file...: 0 [00:00, ?/s]"
      ]
     },
     "metadata": {},
     "output_type": "display_data"
    },
    {
     "name": "stdout",
     "output_type": "stream",
     "text": [
      "not a figure file! a dictionary instead probably: type(a_fig_file_field): <class 'dict'>\n"
     ]
    },
    {
     "data": {
      "application/vnd.jupyter.widget-view+json": {
       "model_id": "cbc0bcfd62b547599648945907a606ab",
       "version_major": 2,
       "version_minor": 0
      },
      "text/plain": [
       "Fetching file...: 0 [00:00, ?/s]"
      ]
     },
     "metadata": {},
     "output_type": "display_data"
    },
    {
     "data": {
      "application/vnd.jupyter.widget-view+json": {
       "model_id": "bef1a886ed4b4e0ebe4fd0edf89aab93",
       "version_major": 2,
       "version_minor": 0
      },
      "text/plain": [
       "Fetching file...: 0 [00:00, ?/s]"
      ]
     },
     "metadata": {},
     "output_type": "display_data"
    },
    {
     "data": {
      "application/vnd.jupyter.widget-view+json": {
       "model_id": "68e5b4857a1043c18cef255f93d74d31",
       "version_major": 2,
       "version_minor": 0
      },
      "text/plain": [
       "Fetching file...: 0 [00:00, ?/s]"
      ]
     },
     "metadata": {},
     "output_type": "display_data"
    },
    {
     "data": {
      "application/vnd.jupyter.widget-view+json": {
       "model_id": "21ca639a491f48c3a56a36f895b6e339",
       "version_major": 2,
       "version_minor": 0
      },
      "text/plain": [
       "Fetching file...: 0 [00:00, ?/s]"
      ]
     },
     "metadata": {},
     "output_type": "display_data"
    },
    {
     "data": {
      "application/vnd.jupyter.widget-view+json": {
       "model_id": "9d1ff91ae72044eaa91be84d50751284",
       "version_major": 2,
       "version_minor": 0
      },
      "text/plain": [
       "Fetching file...: 0 [00:00, ?/s]"
      ]
     },
     "metadata": {},
     "output_type": "display_data"
    },
    {
     "data": {
      "application/vnd.jupyter.widget-view+json": {
       "model_id": "7eeaaf3f23aa4d788d1df71f91792b73",
       "version_major": 2,
       "version_minor": 0
      },
      "text/plain": [
       "Fetching file...: 0 [00:00, ?/s]"
      ]
     },
     "metadata": {},
     "output_type": "display_data"
    },
    {
     "data": {
      "application/vnd.jupyter.widget-view+json": {
       "model_id": "61f962e5d35a447785764726ccb62805",
       "version_major": 2,
       "version_minor": 0
      },
      "text/plain": [
       "Fetching file...: 0 [00:00, ?/s]"
      ]
     },
     "metadata": {},
     "output_type": "display_data"
    },
    {
     "data": {
      "application/vnd.jupyter.widget-view+json": {
       "model_id": "151ab29d2e444f1cbcd3e4c6cbb16c6c",
       "version_major": 2,
       "version_minor": 0
      },
      "text/plain": [
       "Fetching file...: 0 [00:00, ?/s]"
      ]
     },
     "metadata": {},
     "output_type": "display_data"
    },
    {
     "data": {
      "application/vnd.jupyter.widget-view+json": {
       "model_id": "2369d02839b94d388c7bf9cd284268fe",
       "version_major": 2,
       "version_minor": 0
      },
      "text/plain": [
       "Fetching file...: 0 [00:00, ?/s]"
      ]
     },
     "metadata": {},
     "output_type": "display_data"
    },
    {
     "data": {
      "application/vnd.jupyter.widget-view+json": {
       "model_id": "dc31c58a54a84c3aba66c371e7e714e8",
       "version_major": 2,
       "version_minor": 0
      },
      "text/plain": [
       "Fetching file...: 0 [00:00, ?/s]"
      ]
     },
     "metadata": {},
     "output_type": "display_data"
    },
    {
     "data": {
      "application/vnd.jupyter.widget-view+json": {
       "model_id": "b16e8fa4da7e43c6bf5b7147e451b8c2",
       "version_major": 2,
       "version_minor": 0
      },
      "text/plain": [
       "Fetching file...: 0 [00:00, ?/s]"
      ]
     },
     "metadata": {},
     "output_type": "display_data"
    },
    {
     "data": {
      "application/vnd.jupyter.widget-view+json": {
       "model_id": "4b950228bd6b4a2785c16b010e77780c",
       "version_major": 2,
       "version_minor": 0
      },
      "text/plain": [
       "Fetching file...: 0 [00:00, ?/s]"
      ]
     },
     "metadata": {},
     "output_type": "display_data"
    },
    {
     "data": {
      "application/vnd.jupyter.widget-view+json": {
       "model_id": "cd2637295c7b441096b0c40e023d3ebb",
       "version_major": 2,
       "version_minor": 0
      },
      "text/plain": [
       "Fetching file...: 0 [00:00, ?/s]"
      ]
     },
     "metadata": {},
     "output_type": "display_data"
    },
    {
     "name": "stdout",
     "output_type": "stream",
     "text": [
      "not a figure file! a dictionary instead probably: type(a_fig_file_field): <class 'dict'>\n"
     ]
    },
    {
     "data": {
      "application/vnd.jupyter.widget-view+json": {
       "model_id": "d43578f3fb2b44b69d06cdf6a022c2d4",
       "version_major": 2,
       "version_minor": 0
      },
      "text/plain": [
       "Fetching file...: 0 [00:00, ?/s]"
      ]
     },
     "metadata": {},
     "output_type": "display_data"
    },
    {
     "data": {
      "application/vnd.jupyter.widget-view+json": {
       "model_id": "7f912f9e856047a695af4b6952430ece",
       "version_major": 2,
       "version_minor": 0
      },
      "text/plain": [
       "Fetching file...: 0 [00:00, ?/s]"
      ]
     },
     "metadata": {},
     "output_type": "display_data"
    },
    {
     "data": {
      "application/vnd.jupyter.widget-view+json": {
       "model_id": "ac8befe1a3a14aa180b273632003236f",
       "version_major": 2,
       "version_minor": 0
      },
      "text/plain": [
       "Fetching file...: 0 [00:00, ?/s]"
      ]
     },
     "metadata": {},
     "output_type": "display_data"
    },
    {
     "data": {
      "application/vnd.jupyter.widget-view+json": {
       "model_id": "f83125483eb147edb82aafbcdf74e54f",
       "version_major": 2,
       "version_minor": 0
      },
      "text/plain": [
       "Fetching file...: 0 [00:00, ?/s]"
      ]
     },
     "metadata": {},
     "output_type": "display_data"
    },
    {
     "data": {
      "application/vnd.jupyter.widget-view+json": {
       "model_id": "d10be8d17cb74a308ec135b7edd9141c",
       "version_major": 2,
       "version_minor": 0
      },
      "text/plain": [
       "Fetching file...: 0 [00:00, ?/s]"
      ]
     },
     "metadata": {},
     "output_type": "display_data"
    },
    {
     "data": {
      "application/vnd.jupyter.widget-view+json": {
       "model_id": "051744090cb7493aab30afe9836763fb",
       "version_major": 2,
       "version_minor": 0
      },
      "text/plain": [
       "Fetching file...: 0 [00:00, ?/s]"
      ]
     },
     "metadata": {},
     "output_type": "display_data"
    },
    {
     "data": {
      "application/vnd.jupyter.widget-view+json": {
       "model_id": "e9b1fdb42a4743708e59b0377533110e",
       "version_major": 2,
       "version_minor": 0
      },
      "text/plain": [
       "Fetching file...: 0 [00:00, ?/s]"
      ]
     },
     "metadata": {},
     "output_type": "display_data"
    },
    {
     "data": {
      "application/vnd.jupyter.widget-view+json": {
       "model_id": "5ae1746716134c6c91ff251b3f228142",
       "version_major": 2,
       "version_minor": 0
      },
      "text/plain": [
       "Fetching file...: 0 [00:00, ?/s]"
      ]
     },
     "metadata": {},
     "output_type": "display_data"
    },
    {
     "name": "stdout",
     "output_type": "stream",
     "text": [
      "not a figure file! a dictionary instead probably: type(a_fig_file_field): <class 'dict'>\n"
     ]
    },
    {
     "data": {
      "application/vnd.jupyter.widget-view+json": {
       "model_id": "020faac252f34b8db1bfc193ee9fb175",
       "version_major": 2,
       "version_minor": 0
      },
      "text/plain": [
       "Fetching file...: 0 [00:00, ?/s]"
      ]
     },
     "metadata": {},
     "output_type": "display_data"
    },
    {
     "data": {
      "application/vnd.jupyter.widget-view+json": {
       "model_id": "700a434909104543b3a52db0a34f772d",
       "version_major": 2,
       "version_minor": 0
      },
      "text/plain": [
       "Fetching file...: 0 [00:00, ?/s]"
      ]
     },
     "metadata": {},
     "output_type": "display_data"
    },
    {
     "data": {
      "application/vnd.jupyter.widget-view+json": {
       "model_id": "39d1df8f773242ff881c62a8472072c5",
       "version_major": 2,
       "version_minor": 0
      },
      "text/plain": [
       "Fetching file...: 0 [00:00, ?/s]"
      ]
     },
     "metadata": {},
     "output_type": "display_data"
    },
    {
     "data": {
      "application/vnd.jupyter.widget-view+json": {
       "model_id": "a6871cd6cfdb40cba65e4ea4d9a5aaf1",
       "version_major": 2,
       "version_minor": 0
      },
      "text/plain": [
       "Fetching file...: 0 [00:00, ?/s]"
      ]
     },
     "metadata": {},
     "output_type": "display_data"
    },
    {
     "data": {
      "application/vnd.jupyter.widget-view+json": {
       "model_id": "ece9da815b534c03b69aefbe4b68d489",
       "version_major": 2,
       "version_minor": 0
      },
      "text/plain": [
       "Fetching file...: 0 [00:00, ?/s]"
      ]
     },
     "metadata": {},
     "output_type": "display_data"
    },
    {
     "data": {
      "application/vnd.jupyter.widget-view+json": {
       "model_id": "5192a59e7bdf49379ad98b4076b33624",
       "version_major": 2,
       "version_minor": 0
      },
      "text/plain": [
       "Fetching file...: 0 [00:00, ?/s]"
      ]
     },
     "metadata": {},
     "output_type": "display_data"
    },
    {
     "data": {
      "application/vnd.jupyter.widget-view+json": {
       "model_id": "4c4da482d9e34863b00b1883886942ee",
       "version_major": 2,
       "version_minor": 0
      },
      "text/plain": [
       "Fetching file...: 0 [00:00, ?/s]"
      ]
     },
     "metadata": {},
     "output_type": "display_data"
    },
    {
     "data": {
      "application/vnd.jupyter.widget-view+json": {
       "model_id": "0f11b1cecb0c4158942fe8fdd75ce37c",
       "version_major": 2,
       "version_minor": 0
      },
      "text/plain": [
       "Fetching file...: 0 [00:00, ?/s]"
      ]
     },
     "metadata": {},
     "output_type": "display_data"
    },
    {
     "name": "stdout",
     "output_type": "stream",
     "text": [
      "not a figure file! a dictionary instead probably: type(a_fig_file_field): <class 'dict'>\n"
     ]
    },
    {
     "data": {
      "application/vnd.jupyter.widget-view+json": {
       "model_id": "16db9eb6e0ad412182fadd0c1eba9738",
       "version_major": 2,
       "version_minor": 0
      },
      "text/plain": [
       "Fetching file...: 0 [00:00, ?/s]"
      ]
     },
     "metadata": {},
     "output_type": "display_data"
    },
    {
     "data": {
      "application/vnd.jupyter.widget-view+json": {
       "model_id": "2fb9c830767f430c8de995a34eaea1a3",
       "version_major": 2,
       "version_minor": 0
      },
      "text/plain": [
       "Fetching file...: 0 [00:00, ?/s]"
      ]
     },
     "metadata": {},
     "output_type": "display_data"
    },
    {
     "data": {
      "application/vnd.jupyter.widget-view+json": {
       "model_id": "1d43d056d90345049cd00acb0312cf3b",
       "version_major": 2,
       "version_minor": 0
      },
      "text/plain": [
       "Fetching file...: 0 [00:00, ?/s]"
      ]
     },
     "metadata": {},
     "output_type": "display_data"
    },
    {
     "data": {
      "application/vnd.jupyter.widget-view+json": {
       "model_id": "5514ff2fa8214afc974087df071c53bb",
       "version_major": 2,
       "version_minor": 0
      },
      "text/plain": [
       "Fetching file...: 0 [00:00, ?/s]"
      ]
     },
     "metadata": {},
     "output_type": "display_data"
    },
    {
     "data": {
      "application/vnd.jupyter.widget-view+json": {
       "model_id": "de70b3557e0746c7a363c124631cf5b4",
       "version_major": 2,
       "version_minor": 0
      },
      "text/plain": [
       "Fetching file...: 0 [00:00, ?/s]"
      ]
     },
     "metadata": {},
     "output_type": "display_data"
    },
    {
     "data": {
      "application/vnd.jupyter.widget-view+json": {
       "model_id": "68566b8458494acf9afb6e56cf54b683",
       "version_major": 2,
       "version_minor": 0
      },
      "text/plain": [
       "Fetching file...: 0 [00:00, ?/s]"
      ]
     },
     "metadata": {},
     "output_type": "display_data"
    },
    {
     "name": "stdout",
     "output_type": "stream",
     "text": [
      "not a figure file! a dictionary instead probably: type(a_fig_file_field): <class 'dict'>\n"
     ]
    },
    {
     "data": {
      "application/vnd.jupyter.widget-view+json": {
       "model_id": "ba0df0a9bd2a4e27a995709e3483b3f0",
       "version_major": 2,
       "version_minor": 0
      },
      "text/plain": [
       "Fetching file...: 0 [00:00, ?/s]"
      ]
     },
     "metadata": {},
     "output_type": "display_data"
    },
    {
     "data": {
      "application/vnd.jupyter.widget-view+json": {
       "model_id": "e27c2390a3a449ad85f834858edc0d56",
       "version_major": 2,
       "version_minor": 0
      },
      "text/plain": [
       "Fetching file...: 0 [00:00, ?/s]"
      ]
     },
     "metadata": {},
     "output_type": "display_data"
    },
    {
     "data": {
      "application/vnd.jupyter.widget-view+json": {
       "model_id": "f5d86103a30247e5877c12506b2b78f0",
       "version_major": 2,
       "version_minor": 0
      },
      "text/plain": [
       "Fetching file...: 0 [00:00, ?/s]"
      ]
     },
     "metadata": {},
     "output_type": "display_data"
    },
    {
     "data": {
      "application/vnd.jupyter.widget-view+json": {
       "model_id": "6577dfc11de048feb3fcaab54fc1ccb5",
       "version_major": 2,
       "version_minor": 0
      },
      "text/plain": [
       "Fetching file...: 0 [00:00, ?/s]"
      ]
     },
     "metadata": {},
     "output_type": "display_data"
    },
    {
     "data": {
      "application/vnd.jupyter.widget-view+json": {
       "model_id": "951c6fe1f79b4c47af6702ca1cd90cd6",
       "version_major": 2,
       "version_minor": 0
      },
      "text/plain": [
       "Fetching file...: 0 [00:00, ?/s]"
      ]
     },
     "metadata": {},
     "output_type": "display_data"
    },
    {
     "data": {
      "application/vnd.jupyter.widget-view+json": {
       "model_id": "d7aefbb2ed064fc4994ab414cb6dbe5d",
       "version_major": 2,
       "version_minor": 0
      },
      "text/plain": [
       "Fetching file...: 0 [00:00, ?/s]"
      ]
     },
     "metadata": {},
     "output_type": "display_data"
    },
    {
     "name": "stdout",
     "output_type": "stream",
     "text": [
      "not a figure file! a dictionary instead probably: type(a_fig_file_field): <class 'dict'>\n"
     ]
    },
    {
     "data": {
      "application/vnd.jupyter.widget-view+json": {
       "model_id": "25a3383ef6734416bbc7d46b0fde0988",
       "version_major": 2,
       "version_minor": 0
      },
      "text/plain": [
       "Fetching file...: 0 [00:00, ?/s]"
      ]
     },
     "metadata": {},
     "output_type": "display_data"
    },
    {
     "data": {
      "application/vnd.jupyter.widget-view+json": {
       "model_id": "66f5a6dbd0d34fcdbe5d09e9da30adda",
       "version_major": 2,
       "version_minor": 0
      },
      "text/plain": [
       "Fetching file...: 0 [00:00, ?/s]"
      ]
     },
     "metadata": {},
     "output_type": "display_data"
    },
    {
     "data": {
      "application/vnd.jupyter.widget-view+json": {
       "model_id": "6cfedeeac5f646f7a8eaab6d5da2b39a",
       "version_major": 2,
       "version_minor": 0
      },
      "text/plain": [
       "Fetching file...: 0 [00:00, ?/s]"
      ]
     },
     "metadata": {},
     "output_type": "display_data"
    },
    {
     "data": {
      "application/vnd.jupyter.widget-view+json": {
       "model_id": "f73da5470331426e9911e5d6e595093c",
       "version_major": 2,
       "version_minor": 0
      },
      "text/plain": [
       "Fetching file...: 0 [00:00, ?/s]"
      ]
     },
     "metadata": {},
     "output_type": "display_data"
    },
    {
     "name": "stdout",
     "output_type": "stream",
     "text": [
      "not a figure file! a dictionary instead probably: type(a_fig_file_field): <class 'dict'>\n"
     ]
    },
    {
     "data": {
      "application/vnd.jupyter.widget-view+json": {
       "model_id": "a7f982f35e624b28a54783e73e898b74",
       "version_major": 2,
       "version_minor": 0
      },
      "text/plain": [
       "Fetching file...: 0 [00:00, ?/s]"
      ]
     },
     "metadata": {},
     "output_type": "display_data"
    },
    {
     "data": {
      "application/vnd.jupyter.widget-view+json": {
       "model_id": "206f37ea9328437c8dff68a9ac517469",
       "version_major": 2,
       "version_minor": 0
      },
      "text/plain": [
       "Fetching file...: 0 [00:00, ?/s]"
      ]
     },
     "metadata": {},
     "output_type": "display_data"
    },
    {
     "data": {
      "application/vnd.jupyter.widget-view+json": {
       "model_id": "18c7fd9d8f5142e38f046ca9a03d834b",
       "version_major": 2,
       "version_minor": 0
      },
      "text/plain": [
       "Fetching file...: 0 [00:00, ?/s]"
      ]
     },
     "metadata": {},
     "output_type": "display_data"
    },
    {
     "data": {
      "application/vnd.jupyter.widget-view+json": {
       "model_id": "49af8af5224042db8a3c034ded114e64",
       "version_major": 2,
       "version_minor": 0
      },
      "text/plain": [
       "Fetching file...: 0 [00:00, ?/s]"
      ]
     },
     "metadata": {},
     "output_type": "display_data"
    },
    {
     "name": "stdout",
     "output_type": "stream",
     "text": [
      "not a figure file! a dictionary instead probably: type(a_fig_file_field): <class 'dict'>\n"
     ]
    },
    {
     "data": {
      "application/vnd.jupyter.widget-view+json": {
       "model_id": "15d1845eb66040f0926621cba4a0eba1",
       "version_major": 2,
       "version_minor": 0
      },
      "text/plain": [
       "Fetching file...: 0 [00:00, ?/s]"
      ]
     },
     "metadata": {},
     "output_type": "display_data"
    },
    {
     "data": {
      "application/vnd.jupyter.widget-view+json": {
       "model_id": "c07e1bf014f8446e97214613ad45a179",
       "version_major": 2,
       "version_minor": 0
      },
      "text/plain": [
       "Fetching file...: 0 [00:00, ?/s]"
      ]
     },
     "metadata": {},
     "output_type": "display_data"
    },
    {
     "data": {
      "application/vnd.jupyter.widget-view+json": {
       "model_id": "e56b38cca8704671973f27a8fe5b24bf",
       "version_major": 2,
       "version_minor": 0
      },
      "text/plain": [
       "Fetching file...: 0 [00:00, ?/s]"
      ]
     },
     "metadata": {},
     "output_type": "display_data"
    },
    {
     "data": {
      "application/vnd.jupyter.widget-view+json": {
       "model_id": "5698387b23594172b918cd842b9912f7",
       "version_major": 2,
       "version_minor": 0
      },
      "text/plain": [
       "Fetching file...: 0 [00:00, ?/s]"
      ]
     },
     "metadata": {},
     "output_type": "display_data"
    },
    {
     "name": "stdout",
     "output_type": "stream",
     "text": [
      "not a figure file! a dictionary instead probably: type(a_fig_file_field): <class 'dict'>\n"
     ]
    },
    {
     "data": {
      "application/vnd.jupyter.widget-view+json": {
       "model_id": "ffd2aa70b8c64d80ac8fe7d213b1281d",
       "version_major": 2,
       "version_minor": 0
      },
      "text/plain": [
       "Fetching file...: 0 [00:00, ?/s]"
      ]
     },
     "metadata": {},
     "output_type": "display_data"
    },
    {
     "data": {
      "application/vnd.jupyter.widget-view+json": {
       "model_id": "3a942c6a730e4adda31c031ecab2ac50",
       "version_major": 2,
       "version_minor": 0
      },
      "text/plain": [
       "Fetching file...: 0 [00:00, ?/s]"
      ]
     },
     "metadata": {},
     "output_type": "display_data"
    },
    {
     "data": {
      "application/vnd.jupyter.widget-view+json": {
       "model_id": "2122f57af86e438b82bb3d50604a9d39",
       "version_major": 2,
       "version_minor": 0
      },
      "text/plain": [
       "Fetching file...: 0 [00:00, ?/s]"
      ]
     },
     "metadata": {},
     "output_type": "display_data"
    },
    {
     "data": {
      "application/vnd.jupyter.widget-view+json": {
       "model_id": "ad10a6e2217a4babb228c77fdb1e9d2b",
       "version_major": 2,
       "version_minor": 0
      },
      "text/plain": [
       "Fetching file...: 0 [00:00, ?/s]"
      ]
     },
     "metadata": {},
     "output_type": "display_data"
    },
    {
     "name": "stdout",
     "output_type": "stream",
     "text": [
      "not a figure file! a dictionary instead probably: type(a_fig_file_field): <class 'dict'>\n"
     ]
    },
    {
     "data": {
      "application/vnd.jupyter.widget-view+json": {
       "model_id": "bb7c1458f61c47aebfed8df2fdc93a2d",
       "version_major": 2,
       "version_minor": 0
      },
      "text/plain": [
       "Fetching file...: 0 [00:00, ?/s]"
      ]
     },
     "metadata": {},
     "output_type": "display_data"
    },
    {
     "data": {
      "application/vnd.jupyter.widget-view+json": {
       "model_id": "575b92a3d39c4cc084429341a2c7954c",
       "version_major": 2,
       "version_minor": 0
      },
      "text/plain": [
       "Fetching file...: 0 [00:00, ?/s]"
      ]
     },
     "metadata": {},
     "output_type": "display_data"
    },
    {
     "name": "stdout",
     "output_type": "stream",
     "text": [
      "not a figure file! a dictionary instead probably: type(a_fig_file_field): <class 'dict'>\n"
     ]
    },
    {
     "data": {
      "application/vnd.jupyter.widget-view+json": {
       "model_id": "f66629505b1c460facfe9017c5954594",
       "version_major": 2,
       "version_minor": 0
      },
      "text/plain": [
       "Fetching file...: 0 [00:00, ?/s]"
      ]
     },
     "metadata": {},
     "output_type": "display_data"
    },
    {
     "data": {
      "application/vnd.jupyter.widget-view+json": {
       "model_id": "d12cf6df7fba45728cf575f6a2a0ab25",
       "version_major": 2,
       "version_minor": 0
      },
      "text/plain": [
       "Fetching file...: 0 [00:00, ?/s]"
      ]
     },
     "metadata": {},
     "output_type": "display_data"
    },
    {
     "name": "stdout",
     "output_type": "stream",
     "text": [
      "not a figure file! a dictionary instead probably: type(a_fig_file_field): <class 'dict'>\n"
     ]
    },
    {
     "data": {
      "application/vnd.jupyter.widget-view+json": {
       "model_id": "3f2cca484f5043c1beec719f57844970",
       "version_major": 2,
       "version_minor": 0
      },
      "text/plain": [
       "Fetching file...: 0 [00:00, ?/s]"
      ]
     },
     "metadata": {},
     "output_type": "display_data"
    },
    {
     "data": {
      "application/vnd.jupyter.widget-view+json": {
       "model_id": "500370fd493d4a50b97b683270380d4b",
       "version_major": 2,
       "version_minor": 0
      },
      "text/plain": [
       "Fetching file...: 0 [00:00, ?/s]"
      ]
     },
     "metadata": {},
     "output_type": "display_data"
    },
    {
     "data": {
      "application/vnd.jupyter.widget-view+json": {
       "model_id": "75d7d3e5ea0548ff8f5cfc2f83fadf76",
       "version_major": 2,
       "version_minor": 0
      },
      "text/plain": [
       "Fetching file...: 0 [00:00, ?/s]"
      ]
     },
     "metadata": {},
     "output_type": "display_data"
    },
    {
     "name": "stdout",
     "output_type": "stream",
     "text": [
      "not a figure file! a dictionary instead probably: type(a_fig_file_field): <class 'dict'>\n"
     ]
    },
    {
     "data": {
      "application/vnd.jupyter.widget-view+json": {
       "model_id": "ad535bdb83f84517aab8c7d4ee60d61f",
       "version_major": 2,
       "version_minor": 0
      },
      "text/plain": [
       "Fetching file...: 0 [00:00, ?/s]"
      ]
     },
     "metadata": {},
     "output_type": "display_data"
    },
    {
     "data": {
      "application/vnd.jupyter.widget-view+json": {
       "model_id": "ace2855c886d4bcfbb6defe6b44b64eb",
       "version_major": 2,
       "version_minor": 0
      },
      "text/plain": [
       "Fetching file...: 0 [00:00, ?/s]"
      ]
     },
     "metadata": {},
     "output_type": "display_data"
    },
    {
     "data": {
      "application/vnd.jupyter.widget-view+json": {
       "model_id": "f0d58043f6a64678877e677561be77ee",
       "version_major": 2,
       "version_minor": 0
      },
      "text/plain": [
       "Fetching file...: 0 [00:00, ?/s]"
      ]
     },
     "metadata": {},
     "output_type": "display_data"
    },
    {
     "name": "stdout",
     "output_type": "stream",
     "text": [
      "not a figure file! a dictionary instead probably: type(a_fig_file_field): <class 'dict'>\n"
     ]
    },
    {
     "data": {
      "application/vnd.jupyter.widget-view+json": {
       "model_id": "6ec11a7887c2411ca30a29648673d081",
       "version_major": 2,
       "version_minor": 0
      },
      "text/plain": [
       "Fetching file...: 0 [00:00, ?/s]"
      ]
     },
     "metadata": {},
     "output_type": "display_data"
    },
    {
     "data": {
      "application/vnd.jupyter.widget-view+json": {
       "model_id": "276a5baa1d384aaea6d9f0dc51ef8703",
       "version_major": 2,
       "version_minor": 0
      },
      "text/plain": [
       "Fetching file...: 0 [00:00, ?/s]"
      ]
     },
     "metadata": {},
     "output_type": "display_data"
    },
    {
     "data": {
      "application/vnd.jupyter.widget-view+json": {
       "model_id": "5f9aa10f506b4af1b59aca2d8d9b55f7",
       "version_major": 2,
       "version_minor": 0
      },
      "text/plain": [
       "Fetching file...: 0 [00:00, ?/s]"
      ]
     },
     "metadata": {},
     "output_type": "display_data"
    },
    {
     "name": "stdout",
     "output_type": "stream",
     "text": [
      "not a figure file! a dictionary instead probably: type(a_fig_file_field): <class 'dict'>\n"
     ]
    },
    {
     "data": {
      "application/vnd.jupyter.widget-view+json": {
       "model_id": "23ca63e0f5944b4787c43e5656117c81",
       "version_major": 2,
       "version_minor": 0
      },
      "text/plain": [
       "Fetching file...: 0 [00:00, ?/s]"
      ]
     },
     "metadata": {},
     "output_type": "display_data"
    },
    {
     "data": {
      "application/vnd.jupyter.widget-view+json": {
       "model_id": "d3cf4c9a80984c71a2f1d56a8b4b0463",
       "version_major": 2,
       "version_minor": 0
      },
      "text/plain": [
       "Fetching file...: 0 [00:00, ?/s]"
      ]
     },
     "metadata": {},
     "output_type": "display_data"
    },
    {
     "data": {
      "application/vnd.jupyter.widget-view+json": {
       "model_id": "93d6aa9febad463b9c199a2cda4411e5",
       "version_major": 2,
       "version_minor": 0
      },
      "text/plain": [
       "Fetching file...: 0 [00:00, ?/s]"
      ]
     },
     "metadata": {},
     "output_type": "display_data"
    },
    {
     "name": "stdout",
     "output_type": "stream",
     "text": [
      "not a figure file! a dictionary instead probably: type(a_fig_file_field): <class 'dict'>\n"
     ]
    },
    {
     "data": {
      "application/vnd.jupyter.widget-view+json": {
       "model_id": "3c8e1669f8204b7784bf3b00b39a0abf",
       "version_major": 2,
       "version_minor": 0
      },
      "text/plain": [
       "Fetching file...: 0 [00:00, ?/s]"
      ]
     },
     "metadata": {},
     "output_type": "display_data"
    },
    {
     "data": {
      "application/vnd.jupyter.widget-view+json": {
       "model_id": "eea42527619e4233b654128da7c582f6",
       "version_major": 2,
       "version_minor": 0
      },
      "text/plain": [
       "Fetching file...: 0 [00:00, ?/s]"
      ]
     },
     "metadata": {},
     "output_type": "display_data"
    },
    {
     "data": {
      "application/vnd.jupyter.widget-view+json": {
       "model_id": "1ff59995658e432f87fce06ce087bc67",
       "version_major": 2,
       "version_minor": 0
      },
      "text/plain": [
       "Fetching file...: 0 [00:00, ?/s]"
      ]
     },
     "metadata": {},
     "output_type": "display_data"
    },
    {
     "data": {
      "application/vnd.jupyter.widget-view+json": {
       "model_id": "ecbda62cb1a340a2b2b716e45f7b3c88",
       "version_major": 2,
       "version_minor": 0
      },
      "text/plain": [
       "Fetching file...: 0 [00:00, ?/s]"
      ]
     },
     "metadata": {},
     "output_type": "display_data"
    },
    {
     "data": {
      "application/vnd.jupyter.widget-view+json": {
       "model_id": "9c270b23ed4b42e1b7578700f7f5e895",
       "version_major": 2,
       "version_minor": 0
      },
      "text/plain": [
       "Fetching file...: 0 [00:00, ?/s]"
      ]
     },
     "metadata": {},
     "output_type": "display_data"
    },
    {
     "data": {
      "application/vnd.jupyter.widget-view+json": {
       "model_id": "8c14c8231f0948ad9b4eb5a7970288a0",
       "version_major": 2,
       "version_minor": 0
      },
      "text/plain": [
       "Fetching file...: 0 [00:00, ?/s]"
      ]
     },
     "metadata": {},
     "output_type": "display_data"
    },
    {
     "data": {
      "application/vnd.jupyter.widget-view+json": {
       "model_id": "39fb1bb1f0fb4e0dbf1efdf811a9e511",
       "version_major": 2,
       "version_minor": 0
      },
      "text/plain": [
       "Fetching file...: 0 [00:00, ?/s]"
      ]
     },
     "metadata": {},
     "output_type": "display_data"
    },
    {
     "data": {
      "application/vnd.jupyter.widget-view+json": {
       "model_id": "bb7b526df0c245f5a9135f742a8a748a",
       "version_major": 2,
       "version_minor": 0
      },
      "text/plain": [
       "Fetching file...: 0 [00:00, ?/s]"
      ]
     },
     "metadata": {},
     "output_type": "display_data"
    },
    {
     "data": {
      "text/plain": [
       "{Context(format_name= 'kdiba', animal= 'gor01', exper_name= 'one', session_name= '2006-6-08_14-26-15'): ['/home/halechr/repos/Spike3D/data/commander.pho/PhoDibaLongShortUpdated/figs/gor01_one_2006-6-08_14-26-15/BatchPhoJonathanReplayFRC-long_only-(8,16,28,37,74,97,109).png',\n",
       "  '/home/halechr/repos/Spike3D/data/commander.pho/PhoDibaLongShortUpdated/figs/gor01_one_2006-6-08_14-26-15/BatchPhoJonathanReplayFRC-long_only-(97,74,109,8,16,37,28).png',\n",
       "  '/home/halechr/repos/Spike3D/data/commander.pho/PhoDibaLongShortUpdated/figs/gor01_one_2006-6-08_14-26-15/BatchPhoJonathanReplayFRC-shared-10of10-(105,106,107,108).png',\n",
       "  '/home/halechr/repos/Spike3D/data/commander.pho/PhoDibaLongShortUpdated/figs/gor01_one_2006-6-08_14-26-15/BatchPhoJonathanReplayFRC-shared-1of10-(2,3,5,6,7,9,10,12,14,15).png',\n",
       "  '/home/halechr/repos/Spike3D/data/commander.pho/PhoDibaLongShortUpdated/figs/gor01_one_2006-6-08_14-26-15/BatchPhoJonathanReplayFRC-shared-1of5-(54,61,102,81,68,70,84,7,45,71,34,17,51,92,5,83,93,49,69,96).png',\n",
       "  '/home/halechr/repos/Spike3D/data/commander.pho/PhoDibaLongShortUpdated/figs/gor01_one_2006-6-08_14-26-15/BatchPhoJonathanReplayFRC-shared-2of10-(17,18,19,20,21,22,24,25,26,27).png',\n",
       "  '/home/halechr/repos/Spike3D/data/commander.pho/PhoDibaLongShortUpdated/figs/gor01_one_2006-6-08_14-26-15/BatchPhoJonathanReplayFRC-shared-2of5-(26,15,14,31,32,55,3,33,50,76,25,24,82,10,90,78,64,75,85,73).png',\n",
       "  '/home/halechr/repos/Spike3D/data/commander.pho/PhoDibaLongShortUpdated/figs/gor01_one_2006-6-08_14-26-15/BatchPhoJonathanReplayFRC-shared-3of10-(29,30,31,32,33,34,35,36,38,39).png',\n",
       "  '/home/halechr/repos/Spike3D/data/commander.pho/PhoDibaLongShortUpdated/figs/gor01_one_2006-6-08_14-26-15/BatchPhoJonathanReplayFRC-shared-3of5-(41,86,107,100,53,62,88,35,89,98,56,59,60,108,57,48,63,67,66,19).png',\n",
       "  '/home/halechr/repos/Spike3D/data/commander.pho/PhoDibaLongShortUpdated/figs/gor01_one_2006-6-08_14-26-15/BatchPhoJonathanReplayFRC-shared-4of10-(40,41,42,43,44,45,46,47,48,49).png',\n",
       "  '/home/halechr/repos/Spike3D/data/commander.pho/PhoDibaLongShortUpdated/figs/gor01_one_2006-6-08_14-26-15/BatchPhoJonathanReplayFRC-shared-4of5-(9,36,2,6,12,18,20,21,22,27,29,30,38,39,40,42,43,44,46,47).png',\n",
       "  '/home/halechr/repos/Spike3D/data/commander.pho/PhoDibaLongShortUpdated/figs/gor01_one_2006-6-08_14-26-15/BatchPhoJonathanReplayFRC-shared-5of10-(50,51,53,54,55,56,57,59,60,61).png',\n",
       "  '/home/halechr/repos/Spike3D/data/commander.pho/PhoDibaLongShortUpdated/figs/gor01_one_2006-6-08_14-26-15/BatchPhoJonathanReplayFRC-shared-5of5-(65,72,77,79,80,91,94,95,99,101,103,104,105,106).png',\n",
       "  '/home/halechr/repos/Spike3D/data/commander.pho/PhoDibaLongShortUpdated/figs/gor01_one_2006-6-08_14-26-15/BatchPhoJonathanReplayFRC-shared-6of10-(62,63,64,65,66,67,68,69,70,71).png',\n",
       "  '/home/halechr/repos/Spike3D/data/commander.pho/PhoDibaLongShortUpdated/figs/gor01_one_2006-6-08_14-26-15/BatchPhoJonathanReplayFRC-shared-7of10-(72,73,75,76,77,78,79,80,81,82).png',\n",
       "  '/home/halechr/repos/Spike3D/data/commander.pho/PhoDibaLongShortUpdated/figs/gor01_one_2006-6-08_14-26-15/BatchPhoJonathanReplayFRC-shared-8of10-(83,84,85,86,88,89,90,91,92,93).png',\n",
       "  '/home/halechr/repos/Spike3D/data/commander.pho/PhoDibaLongShortUpdated/figs/gor01_one_2006-6-08_14-26-15/BatchPhoJonathanReplayFRC-shared-9of10-(94,95,96,98,99,100,101,102,103,104).png',\n",
       "  '/home/halechr/repos/Spike3D/data/commander.pho/PhoDibaLongShortUpdated/figs/gor01_one_2006-6-08_14-26-15/BatchPhoJonathanReplayFRC-short_only-(4,11,13,23,52,58,87).png',\n",
       "  '/home/halechr/repos/Spike3D/data/commander.pho/PhoDibaLongShortUpdated/figs/gor01_one_2006-6-08_14-26-15/BatchPhoJonathanReplayFRC-long_only-(8,16,28,37,74,97,109).png',\n",
       "  '/home/halechr/repos/Spike3D/data/commander.pho/PhoDibaLongShortUpdated/figs/gor01_one_2006-6-08_14-26-15/BatchPhoJonathanReplayFRC-long_only-(97,74,109,8,16,37,28).png',\n",
       "  '/home/halechr/repos/Spike3D/data/commander.pho/PhoDibaLongShortUpdated/figs/gor01_one_2006-6-08_14-26-15/BatchPhoJonathanReplayFRC-shared-10of10-(105,106,107,108).png',\n",
       "  '/home/halechr/repos/Spike3D/data/commander.pho/PhoDibaLongShortUpdated/figs/gor01_one_2006-6-08_14-26-15/BatchPhoJonathanReplayFRC-shared-1of10-(2,3,5,6,7,9,10,12,14,15).png',\n",
       "  '/home/halechr/repos/Spike3D/data/commander.pho/PhoDibaLongShortUpdated/figs/gor01_one_2006-6-08_14-26-15/BatchPhoJonathanReplayFRC-shared-1of5-(54,61,102,81,68,70,84,7,45,71,34,17,51,92,5,83,93,49,69,96).png',\n",
       "  '/home/halechr/repos/Spike3D/data/commander.pho/PhoDibaLongShortUpdated/figs/gor01_one_2006-6-08_14-26-15/BatchPhoJonathanReplayFRC-shared-2of10-(17,18,19,20,21,22,24,25,26,27).png',\n",
       "  '/home/halechr/repos/Spike3D/data/commander.pho/PhoDibaLongShortUpdated/figs/gor01_one_2006-6-08_14-26-15/BatchPhoJonathanReplayFRC-shared-2of5-(26,15,14,31,32,55,3,33,50,76,25,24,82,10,90,78,64,75,85,73).png',\n",
       "  '/home/halechr/repos/Spike3D/data/commander.pho/PhoDibaLongShortUpdated/figs/gor01_one_2006-6-08_14-26-15/BatchPhoJonathanReplayFRC-shared-3of10-(29,30,31,32,33,34,35,36,38,39).png',\n",
       "  '/home/halechr/repos/Spike3D/data/commander.pho/PhoDibaLongShortUpdated/figs/gor01_one_2006-6-08_14-26-15/BatchPhoJonathanReplayFRC-shared-3of5-(41,86,107,100,53,62,88,35,89,98,56,59,60,108,57,48,63,67,66,19).png',\n",
       "  '/home/halechr/repos/Spike3D/data/commander.pho/PhoDibaLongShortUpdated/figs/gor01_one_2006-6-08_14-26-15/BatchPhoJonathanReplayFRC-shared-4of10-(40,41,42,43,44,45,46,47,48,49).png',\n",
       "  '/home/halechr/repos/Spike3D/data/commander.pho/PhoDibaLongShortUpdated/figs/gor01_one_2006-6-08_14-26-15/BatchPhoJonathanReplayFRC-shared-4of5-(9,36,2,6,12,18,20,21,22,27,29,30,38,39,40,42,43,44,46,47).png',\n",
       "  '/home/halechr/repos/Spike3D/data/commander.pho/PhoDibaLongShortUpdated/figs/gor01_one_2006-6-08_14-26-15/BatchPhoJonathanReplayFRC-shared-5of10-(50,51,53,54,55,56,57,59,60,61).png',\n",
       "  '/home/halechr/repos/Spike3D/data/commander.pho/PhoDibaLongShortUpdated/figs/gor01_one_2006-6-08_14-26-15/BatchPhoJonathanReplayFRC-shared-5of5-(65,72,77,79,80,91,94,95,99,101,103,104,105,106).png',\n",
       "  '/home/halechr/repos/Spike3D/data/commander.pho/PhoDibaLongShortUpdated/figs/gor01_one_2006-6-08_14-26-15/BatchPhoJonathanReplayFRC-shared-6of10-(62,63,64,65,66,67,68,69,70,71).png',\n",
       "  '/home/halechr/repos/Spike3D/data/commander.pho/PhoDibaLongShortUpdated/figs/gor01_one_2006-6-08_14-26-15/BatchPhoJonathanReplayFRC-shared-7of10-(72,73,75,76,77,78,79,80,81,82).png',\n",
       "  '/home/halechr/repos/Spike3D/data/commander.pho/PhoDibaLongShortUpdated/figs/gor01_one_2006-6-08_14-26-15/BatchPhoJonathanReplayFRC-shared-8of10-(83,84,85,86,88,89,90,91,92,93).png',\n",
       "  '/home/halechr/repos/Spike3D/data/commander.pho/PhoDibaLongShortUpdated/figs/gor01_one_2006-6-08_14-26-15/BatchPhoJonathanReplayFRC-shared-9of10-(94,95,96,98,99,100,101,102,103,104).png',\n",
       "  '/home/halechr/repos/Spike3D/data/commander.pho/PhoDibaLongShortUpdated/figs/gor01_one_2006-6-08_14-26-15/BatchPhoJonathanReplayFRC-short_only-(4,11,13,23,52,58,87).png',\n",
       "  '/home/halechr/repos/Spike3D/data/commander.pho/PhoDibaLongShortUpdated/figs/gor01_one_2006-6-08_14-26-15/BatchPhoJonathanReplayFRC-long_only-(8,16,28,37,74,97,109).png',\n",
       "  '/home/halechr/repos/Spike3D/data/commander.pho/PhoDibaLongShortUpdated/figs/gor01_one_2006-6-08_14-26-15/BatchPhoJonathanReplayFRC-long_only-(97,74,109,8,16,37,28).png',\n",
       "  '/home/halechr/repos/Spike3D/data/commander.pho/PhoDibaLongShortUpdated/figs/gor01_one_2006-6-08_14-26-15/BatchPhoJonathanReplayFRC-shared-10of10-(105,106,107,108).png',\n",
       "  '/home/halechr/repos/Spike3D/data/commander.pho/PhoDibaLongShortUpdated/figs/gor01_one_2006-6-08_14-26-15/BatchPhoJonathanReplayFRC-shared-1of10-(2,3,5,6,7,9,10,12,14,15).png',\n",
       "  '/home/halechr/repos/Spike3D/data/commander.pho/PhoDibaLongShortUpdated/figs/gor01_one_2006-6-08_14-26-15/BatchPhoJonathanReplayFRC-shared-1of5-(54,61,102,81,68,70,84,7,45,71,34,17,51,92,5,83,93,49,69,96).png',\n",
       "  '/home/halechr/repos/Spike3D/data/commander.pho/PhoDibaLongShortUpdated/figs/gor01_one_2006-6-08_14-26-15/BatchPhoJonathanReplayFRC-shared-2of10-(17,18,19,20,21,22,24,25,26,27).png',\n",
       "  '/home/halechr/repos/Spike3D/data/commander.pho/PhoDibaLongShortUpdated/figs/gor01_one_2006-6-08_14-26-15/BatchPhoJonathanReplayFRC-shared-2of5-(26,15,14,31,32,55,3,33,50,76,25,24,82,10,90,78,64,75,85,73).png',\n",
       "  '/home/halechr/repos/Spike3D/data/commander.pho/PhoDibaLongShortUpdated/figs/gor01_one_2006-6-08_14-26-15/BatchPhoJonathanReplayFRC-shared-3of10-(29,30,31,32,33,34,35,36,38,39).png',\n",
       "  '/home/halechr/repos/Spike3D/data/commander.pho/PhoDibaLongShortUpdated/figs/gor01_one_2006-6-08_14-26-15/BatchPhoJonathanReplayFRC-shared-3of5-(41,86,107,100,53,62,88,35,89,98,56,59,60,108,57,48,63,67,66,19).png',\n",
       "  '/home/halechr/repos/Spike3D/data/commander.pho/PhoDibaLongShortUpdated/figs/gor01_one_2006-6-08_14-26-15/BatchPhoJonathanReplayFRC-shared-4of10-(40,41,42,43,44,45,46,47,48,49).png',\n",
       "  '/home/halechr/repos/Spike3D/data/commander.pho/PhoDibaLongShortUpdated/figs/gor01_one_2006-6-08_14-26-15/BatchPhoJonathanReplayFRC-shared-4of5-(9,36,2,6,12,18,20,21,22,27,29,30,38,39,40,42,43,44,46,47).png',\n",
       "  '/home/halechr/repos/Spike3D/data/commander.pho/PhoDibaLongShortUpdated/figs/gor01_one_2006-6-08_14-26-15/BatchPhoJonathanReplayFRC-shared-5of10-(50,51,53,54,55,56,57,59,60,61).png',\n",
       "  '/home/halechr/repos/Spike3D/data/commander.pho/PhoDibaLongShortUpdated/figs/gor01_one_2006-6-08_14-26-15/BatchPhoJonathanReplayFRC-shared-5of5-(65,72,77,79,80,91,94,95,99,101,103,104,105,106).png',\n",
       "  '/home/halechr/repos/Spike3D/data/commander.pho/PhoDibaLongShortUpdated/figs/gor01_one_2006-6-08_14-26-15/BatchPhoJonathanReplayFRC-shared-6of10-(62,63,64,65,66,67,68,69,70,71).png',\n",
       "  '/home/halechr/repos/Spike3D/data/commander.pho/PhoDibaLongShortUpdated/figs/gor01_one_2006-6-08_14-26-15/BatchPhoJonathanReplayFRC-shared-7of10-(72,73,75,76,77,78,79,80,81,82).png',\n",
       "  '/home/halechr/repos/Spike3D/data/commander.pho/PhoDibaLongShortUpdated/figs/gor01_one_2006-6-08_14-26-15/BatchPhoJonathanReplayFRC-shared-8of10-(83,84,85,86,88,89,90,91,92,93).png',\n",
       "  '/home/halechr/repos/Spike3D/data/commander.pho/PhoDibaLongShortUpdated/figs/gor01_one_2006-6-08_14-26-15/BatchPhoJonathanReplayFRC-shared-9of10-(94,95,96,98,99,100,101,102,103,104).png',\n",
       "  '/home/halechr/repos/Spike3D/data/commander.pho/PhoDibaLongShortUpdated/figs/gor01_one_2006-6-08_14-26-15/BatchPhoJonathanReplayFRC-short_only-(4,11,13,23,52,58,87).png'],\n",
       " Context(format_name= 'kdiba', animal= 'pin01', exper_name= 'one', session_name= 'fet11-01_12-58-54'): ['/home/halechr/repos/Spike3D/data/commander.pho/PhoDibaLongShortUpdated/figs/pin01_one_fet11-01_12-58-54/BatchPhoJonathanReplayFRC-long_only-(16,19,6,31,10).png',\n",
       "  '/home/halechr/repos/Spike3D/data/commander.pho/PhoDibaLongShortUpdated/figs/pin01_one_fet11-01_12-58-54/BatchPhoJonathanReplayFRC-long_only-(6,10,16,19,31).png',\n",
       "  '/home/halechr/repos/Spike3D/data/commander.pho/PhoDibaLongShortUpdated/figs/pin01_one_fet11-01_12-58-54/BatchPhoJonathanReplayFRC-shared-1of2-(26,20,29,18,3,4,7,32,13,11,12,2,30,15,9,28,22,14,21,25).png',\n",
       "  '/home/halechr/repos/Spike3D/data/commander.pho/PhoDibaLongShortUpdated/figs/pin01_one_fet11-01_12-58-54/BatchPhoJonathanReplayFRC-shared-1of3-(2,3,4,5,7,8,9,11,12,13).png',\n",
       "  '/home/halechr/repos/Spike3D/data/commander.pho/PhoDibaLongShortUpdated/figs/pin01_one_fet11-01_12-58-54/BatchPhoJonathanReplayFRC-shared-2of2-(5,8,17,23,27).png',\n",
       "  '/home/halechr/repos/Spike3D/data/commander.pho/PhoDibaLongShortUpdated/figs/pin01_one_fet11-01_12-58-54/BatchPhoJonathanReplayFRC-shared-2of3-(14,15,17,18,20,21,22,23,25,26).png',\n",
       "  '/home/halechr/repos/Spike3D/data/commander.pho/PhoDibaLongShortUpdated/figs/pin01_one_fet11-01_12-58-54/BatchPhoJonathanReplayFRC-shared-3of3-(27,28,29,30,32).png',\n",
       "  '/home/halechr/repos/Spike3D/data/commander.pho/PhoDibaLongShortUpdated/figs/pin01_one_fet11-01_12-58-54/BatchPhoJonathanReplayFRC-short_only-(24).png',\n",
       "  '/home/halechr/repos/Spike3D/data/commander.pho/PhoDibaLongShortUpdated/figs/pin01_one_fet11-01_12-58-54/BatchPhoJonathanReplayFRC-long_only-(16,19,6,31,10).png',\n",
       "  '/home/halechr/repos/Spike3D/data/commander.pho/PhoDibaLongShortUpdated/figs/pin01_one_fet11-01_12-58-54/BatchPhoJonathanReplayFRC-long_only-(6,10,16,19,31).png',\n",
       "  '/home/halechr/repos/Spike3D/data/commander.pho/PhoDibaLongShortUpdated/figs/pin01_one_fet11-01_12-58-54/BatchPhoJonathanReplayFRC-shared-1of2-(26,20,29,18,3,4,7,32,13,11,12,2,30,15,9,28,22,14,21,25).png',\n",
       "  '/home/halechr/repos/Spike3D/data/commander.pho/PhoDibaLongShortUpdated/figs/pin01_one_fet11-01_12-58-54/BatchPhoJonathanReplayFRC-shared-1of3-(2,3,4,5,7,8,9,11,12,13).png',\n",
       "  '/home/halechr/repos/Spike3D/data/commander.pho/PhoDibaLongShortUpdated/figs/pin01_one_fet11-01_12-58-54/BatchPhoJonathanReplayFRC-shared-2of2-(5,8,17,23,27).png',\n",
       "  '/home/halechr/repos/Spike3D/data/commander.pho/PhoDibaLongShortUpdated/figs/pin01_one_fet11-01_12-58-54/BatchPhoJonathanReplayFRC-shared-2of3-(14,15,17,18,20,21,22,23,25,26).png',\n",
       "  '/home/halechr/repos/Spike3D/data/commander.pho/PhoDibaLongShortUpdated/figs/pin01_one_fet11-01_12-58-54/BatchPhoJonathanReplayFRC-shared-3of3-(27,28,29,30,32).png',\n",
       "  '/home/halechr/repos/Spike3D/data/commander.pho/PhoDibaLongShortUpdated/figs/pin01_one_fet11-01_12-58-54/BatchPhoJonathanReplayFRC-short_only-(24).png',\n",
       "  '/home/halechr/repos/Spike3D/data/commander.pho/PhoDibaLongShortUpdated/figs/pin01_one_fet11-01_12-58-54/BatchPhoJonathanReplayFRC-long_only-(16,19,6,31,10).png',\n",
       "  '/home/halechr/repos/Spike3D/data/commander.pho/PhoDibaLongShortUpdated/figs/pin01_one_fet11-01_12-58-54/BatchPhoJonathanReplayFRC-long_only-(6,10,16,19,31).png',\n",
       "  '/home/halechr/repos/Spike3D/data/commander.pho/PhoDibaLongShortUpdated/figs/pin01_one_fet11-01_12-58-54/BatchPhoJonathanReplayFRC-shared-1of2-(26,20,29,18,3,4,7,32,13,11,12,2,30,15,9,28,22,14,21,25).png',\n",
       "  '/home/halechr/repos/Spike3D/data/commander.pho/PhoDibaLongShortUpdated/figs/pin01_one_fet11-01_12-58-54/BatchPhoJonathanReplayFRC-shared-1of3-(2,3,4,5,7,8,9,11,12,13).png',\n",
       "  '/home/halechr/repos/Spike3D/data/commander.pho/PhoDibaLongShortUpdated/figs/pin01_one_fet11-01_12-58-54/BatchPhoJonathanReplayFRC-shared-2of2-(5,8,17,23,27).png',\n",
       "  '/home/halechr/repos/Spike3D/data/commander.pho/PhoDibaLongShortUpdated/figs/pin01_one_fet11-01_12-58-54/BatchPhoJonathanReplayFRC-shared-2of3-(14,15,17,18,20,21,22,23,25,26).png',\n",
       "  '/home/halechr/repos/Spike3D/data/commander.pho/PhoDibaLongShortUpdated/figs/pin01_one_fet11-01_12-58-54/BatchPhoJonathanReplayFRC-shared-3of3-(27,28,29,30,32).png',\n",
       "  '/home/halechr/repos/Spike3D/data/commander.pho/PhoDibaLongShortUpdated/figs/pin01_one_fet11-01_12-58-54/BatchPhoJonathanReplayFRC-short_only-(24).png'],\n",
       " Context(format_name= 'kdiba', animal= 'gor01', exper_name= 'two', session_name= '2006-6-07_16-40-19'): ['/home/halechr/repos/Spike3D/data/commander.pho/PhoDibaLongShortUpdated/figs/gor01_two_2006-6-07_16-40-19/BatchPhoJonathanReplayFRC-long_only-(48).png',\n",
       "  '/home/halechr/repos/Spike3D/data/commander.pho/PhoDibaLongShortUpdated/figs/gor01_two_2006-6-07_16-40-19/BatchPhoJonathanReplayFRC-shared-1of3-(7,41,20,23,32,63,46,52,15,54,51,60,50,28,31,49,26,5,40,62).png',\n",
       "  '/home/halechr/repos/Spike3D/data/commander.pho/PhoDibaLongShortUpdated/figs/gor01_two_2006-6-07_16-40-19/BatchPhoJonathanReplayFRC-shared-1of6-(2,4,5,6,7,8,9,11,12,13).png',\n",
       "  '/home/halechr/repos/Spike3D/data/commander.pho/PhoDibaLongShortUpdated/figs/gor01_two_2006-6-07_16-40-19/BatchPhoJonathanReplayFRC-shared-2of3-(11,55,27,45,24,53,17,56,6,35,34,8,25,21,39,33,44,64,43,2).png',\n",
       "  '/home/halechr/repos/Spike3D/data/commander.pho/PhoDibaLongShortUpdated/figs/gor01_two_2006-6-07_16-40-19/BatchPhoJonathanReplayFRC-shared-2of6-(14,15,16,17,20,21,22,23,24,25).png',\n",
       "  '/home/halechr/repos/Spike3D/data/commander.pho/PhoDibaLongShortUpdated/figs/gor01_two_2006-6-07_16-40-19/BatchPhoJonathanReplayFRC-shared-3of3-(4,9,12,13,14,16,22,29,30,36,37,38,42,47,57,58,59,61).png',\n",
       "  '/home/halechr/repos/Spike3D/data/commander.pho/PhoDibaLongShortUpdated/figs/gor01_two_2006-6-07_16-40-19/BatchPhoJonathanReplayFRC-shared-3of6-(26,27,28,29,30,31,32,33,34,35).png',\n",
       "  '/home/halechr/repos/Spike3D/data/commander.pho/PhoDibaLongShortUpdated/figs/gor01_two_2006-6-07_16-40-19/BatchPhoJonathanReplayFRC-shared-4of6-(36,37,38,39,40,41,42,43,44,45).png',\n",
       "  '/home/halechr/repos/Spike3D/data/commander.pho/PhoDibaLongShortUpdated/figs/gor01_two_2006-6-07_16-40-19/BatchPhoJonathanReplayFRC-shared-5of6-(46,47,49,50,51,52,53,54,55,56).png',\n",
       "  '/home/halechr/repos/Spike3D/data/commander.pho/PhoDibaLongShortUpdated/figs/gor01_two_2006-6-07_16-40-19/BatchPhoJonathanReplayFRC-shared-6of6-(57,58,59,60,61,62,63,64).png',\n",
       "  '/home/halechr/repos/Spike3D/data/commander.pho/PhoDibaLongShortUpdated/figs/gor01_two_2006-6-07_16-40-19/BatchPhoJonathanReplayFRC-short_only-(3,10,18,19,65).png',\n",
       "  '/home/halechr/repos/Spike3D/data/commander.pho/PhoDibaLongShortUpdated/figs/gor01_two_2006-6-07_16-40-19/BatchPhoJonathanReplayFRC-long_only-(48).png',\n",
       "  '/home/halechr/repos/Spike3D/data/commander.pho/PhoDibaLongShortUpdated/figs/gor01_two_2006-6-07_16-40-19/BatchPhoJonathanReplayFRC-shared-1of3-(7,41,20,23,32,63,46,52,15,54,51,60,50,28,31,49,26,5,40,62).png',\n",
       "  '/home/halechr/repos/Spike3D/data/commander.pho/PhoDibaLongShortUpdated/figs/gor01_two_2006-6-07_16-40-19/BatchPhoJonathanReplayFRC-shared-1of6-(2,4,5,6,7,8,9,11,12,13).png',\n",
       "  '/home/halechr/repos/Spike3D/data/commander.pho/PhoDibaLongShortUpdated/figs/gor01_two_2006-6-07_16-40-19/BatchPhoJonathanReplayFRC-shared-2of3-(11,55,27,45,24,53,17,56,6,35,34,8,25,21,39,33,44,64,43,2).png',\n",
       "  '/home/halechr/repos/Spike3D/data/commander.pho/PhoDibaLongShortUpdated/figs/gor01_two_2006-6-07_16-40-19/BatchPhoJonathanReplayFRC-shared-2of6-(14,15,16,17,20,21,22,23,24,25).png',\n",
       "  '/home/halechr/repos/Spike3D/data/commander.pho/PhoDibaLongShortUpdated/figs/gor01_two_2006-6-07_16-40-19/BatchPhoJonathanReplayFRC-shared-3of3-(4,9,12,13,14,16,22,29,30,36,37,38,42,47,57,58,59,61).png',\n",
       "  '/home/halechr/repos/Spike3D/data/commander.pho/PhoDibaLongShortUpdated/figs/gor01_two_2006-6-07_16-40-19/BatchPhoJonathanReplayFRC-shared-3of6-(26,27,28,29,30,31,32,33,34,35).png',\n",
       "  '/home/halechr/repos/Spike3D/data/commander.pho/PhoDibaLongShortUpdated/figs/gor01_two_2006-6-07_16-40-19/BatchPhoJonathanReplayFRC-shared-4of6-(36,37,38,39,40,41,42,43,44,45).png',\n",
       "  '/home/halechr/repos/Spike3D/data/commander.pho/PhoDibaLongShortUpdated/figs/gor01_two_2006-6-07_16-40-19/BatchPhoJonathanReplayFRC-shared-5of6-(46,47,49,50,51,52,53,54,55,56).png',\n",
       "  '/home/halechr/repos/Spike3D/data/commander.pho/PhoDibaLongShortUpdated/figs/gor01_two_2006-6-07_16-40-19/BatchPhoJonathanReplayFRC-shared-6of6-(57,58,59,60,61,62,63,64).png',\n",
       "  '/home/halechr/repos/Spike3D/data/commander.pho/PhoDibaLongShortUpdated/figs/gor01_two_2006-6-07_16-40-19/BatchPhoJonathanReplayFRC-short_only-(3,10,18,19,65).png',\n",
       "  '/home/halechr/repos/Spike3D/data/commander.pho/PhoDibaLongShortUpdated/figs/gor01_two_2006-6-07_16-40-19/BatchPhoJonathanReplayFRC-long_only-(48).png',\n",
       "  '/home/halechr/repos/Spike3D/data/commander.pho/PhoDibaLongShortUpdated/figs/gor01_two_2006-6-07_16-40-19/BatchPhoJonathanReplayFRC-shared-1of3-(7,41,20,23,32,63,46,52,15,54,51,60,50,28,31,49,26,5,40,62).png',\n",
       "  '/home/halechr/repos/Spike3D/data/commander.pho/PhoDibaLongShortUpdated/figs/gor01_two_2006-6-07_16-40-19/BatchPhoJonathanReplayFRC-shared-1of6-(2,4,5,6,7,8,9,11,12,13).png',\n",
       "  '/home/halechr/repos/Spike3D/data/commander.pho/PhoDibaLongShortUpdated/figs/gor01_two_2006-6-07_16-40-19/BatchPhoJonathanReplayFRC-shared-2of3-(11,55,27,45,24,53,17,56,6,35,34,8,25,21,39,33,44,64,43,2).png',\n",
       "  '/home/halechr/repos/Spike3D/data/commander.pho/PhoDibaLongShortUpdated/figs/gor01_two_2006-6-07_16-40-19/BatchPhoJonathanReplayFRC-shared-2of6-(14,15,16,17,20,21,22,23,24,25).png',\n",
       "  '/home/halechr/repos/Spike3D/data/commander.pho/PhoDibaLongShortUpdated/figs/gor01_two_2006-6-07_16-40-19/BatchPhoJonathanReplayFRC-shared-3of3-(4,9,12,13,14,16,22,29,30,36,37,38,42,47,57,58,59,61).png',\n",
       "  '/home/halechr/repos/Spike3D/data/commander.pho/PhoDibaLongShortUpdated/figs/gor01_two_2006-6-07_16-40-19/BatchPhoJonathanReplayFRC-shared-3of6-(26,27,28,29,30,31,32,33,34,35).png',\n",
       "  '/home/halechr/repos/Spike3D/data/commander.pho/PhoDibaLongShortUpdated/figs/gor01_two_2006-6-07_16-40-19/BatchPhoJonathanReplayFRC-shared-4of6-(36,37,38,39,40,41,42,43,44,45).png',\n",
       "  '/home/halechr/repos/Spike3D/data/commander.pho/PhoDibaLongShortUpdated/figs/gor01_two_2006-6-07_16-40-19/BatchPhoJonathanReplayFRC-shared-5of6-(46,47,49,50,51,52,53,54,55,56).png',\n",
       "  '/home/halechr/repos/Spike3D/data/commander.pho/PhoDibaLongShortUpdated/figs/gor01_two_2006-6-07_16-40-19/BatchPhoJonathanReplayFRC-shared-6of6-(57,58,59,60,61,62,63,64).png',\n",
       "  '/home/halechr/repos/Spike3D/data/commander.pho/PhoDibaLongShortUpdated/figs/gor01_two_2006-6-07_16-40-19/BatchPhoJonathanReplayFRC-short_only-(3,10,18,19,65).png'],\n",
       " Context(format_name= 'kdiba', animal= 'gor01', exper_name= 'one', session_name= '2006-6-09_1-22-43'): ['/home/halechr/repos/Spike3D/data/commander.pho/PhoDibaLongShortUpdated/figs/gor01_one_2006-6-09_1-22-43/BatchPhoJonathanReplayFRC-long_only-(103,38,5,23,29,3,63).png',\n",
       "  '/home/halechr/repos/Spike3D/data/commander.pho/PhoDibaLongShortUpdated/figs/gor01_one_2006-6-09_1-22-43/BatchPhoJonathanReplayFRC-long_only-(3,5,23,29,38,63,103).png',\n",
       "  '/home/halechr/repos/Spike3D/data/commander.pho/PhoDibaLongShortUpdated/figs/gor01_one_2006-6-09_1-22-43/BatchPhoJonathanReplayFRC-shared-10of10-(104).png',\n",
       "  '/home/halechr/repos/Spike3D/data/commander.pho/PhoDibaLongShortUpdated/figs/gor01_one_2006-6-09_1-22-43/BatchPhoJonathanReplayFRC-shared-1of10-(2,4,6,7,8,9,10,11,12,13).png',\n",
       "  '/home/halechr/repos/Spike3D/data/commander.pho/PhoDibaLongShortUpdated/figs/gor01_one_2006-6-09_1-22-43/BatchPhoJonathanReplayFRC-shared-1of5-(70,25,14,87,33,19,15,34,92,71,84,51,53,79,89,56,43,30,81,12).png',\n",
       "  '/home/halechr/repos/Spike3D/data/commander.pho/PhoDibaLongShortUpdated/figs/gor01_one_2006-6-09_1-22-43/BatchPhoJonathanReplayFRC-shared-2of10-(14,15,17,18,19,20,21,22,24,25).png',\n",
       "  '/home/halechr/repos/Spike3D/data/commander.pho/PhoDibaLongShortUpdated/figs/gor01_one_2006-6-09_1-22-43/BatchPhoJonathanReplayFRC-shared-2of5-(72,44,48,98,35,24,93,39,2,31,80,20,82,11,4,27,66,86,9,90).png',\n",
       "  '/home/halechr/repos/Spike3D/data/commander.pho/PhoDibaLongShortUpdated/figs/gor01_one_2006-6-09_1-22-43/BatchPhoJonathanReplayFRC-shared-3of10-(26,27,28,30,31,32,33,34,35,36).png',\n",
       "  '/home/halechr/repos/Spike3D/data/commander.pho/PhoDibaLongShortUpdated/figs/gor01_one_2006-6-09_1-22-43/BatchPhoJonathanReplayFRC-shared-3of5-(104,8,6,91,75,13,83,95,57,85,40,60,102,101,28,59,67,52,32,68).png',\n",
       "  '/home/halechr/repos/Spike3D/data/commander.pho/PhoDibaLongShortUpdated/figs/gor01_one_2006-6-09_1-22-43/BatchPhoJonathanReplayFRC-shared-4of10-(37,39,40,41,42,43,44,45,46,47).png',\n",
       "  '/home/halechr/repos/Spike3D/data/commander.pho/PhoDibaLongShortUpdated/figs/gor01_one_2006-6-09_1-22-43/BatchPhoJonathanReplayFRC-shared-4of5-(26,18,61,47,77,58,7,10,17,21,22,36,37,41,42,45,46,49,50,54).png',\n",
       "  '/home/halechr/repos/Spike3D/data/commander.pho/PhoDibaLongShortUpdated/figs/gor01_one_2006-6-09_1-22-43/BatchPhoJonathanReplayFRC-shared-5of10-(48,49,50,51,52,53,54,56,57,58).png',\n",
       "  '/home/halechr/repos/Spike3D/data/commander.pho/PhoDibaLongShortUpdated/figs/gor01_one_2006-6-09_1-22-43/BatchPhoJonathanReplayFRC-shared-5of5-(64,65,73,74,76,78,88,94,96,97,99).png',\n",
       "  '/home/halechr/repos/Spike3D/data/commander.pho/PhoDibaLongShortUpdated/figs/gor01_one_2006-6-09_1-22-43/BatchPhoJonathanReplayFRC-shared-6of10-(59,60,61,64,65,66,67,68,70,71).png',\n",
       "  '/home/halechr/repos/Spike3D/data/commander.pho/PhoDibaLongShortUpdated/figs/gor01_one_2006-6-09_1-22-43/BatchPhoJonathanReplayFRC-shared-7of10-(72,73,74,75,76,77,78,79,80,81).png',\n",
       "  '/home/halechr/repos/Spike3D/data/commander.pho/PhoDibaLongShortUpdated/figs/gor01_one_2006-6-09_1-22-43/BatchPhoJonathanReplayFRC-shared-8of10-(82,83,84,85,86,87,88,89,90,91).png',\n",
       "  '/home/halechr/repos/Spike3D/data/commander.pho/PhoDibaLongShortUpdated/figs/gor01_one_2006-6-09_1-22-43/BatchPhoJonathanReplayFRC-shared-9of10-(92,93,94,95,96,97,98,99,101,102).png',\n",
       "  '/home/halechr/repos/Spike3D/data/commander.pho/PhoDibaLongShortUpdated/figs/gor01_one_2006-6-09_1-22-43/BatchPhoJonathanReplayFRC-short_only-(16,55,62,69,100).png',\n",
       "  '/home/halechr/repos/Spike3D/data/commander.pho/PhoDibaLongShortUpdated/figs/gor01_one_2006-6-09_1-22-43/BatchPhoJonathanReplayFRC-long_only-(103,38,5,23,29,3,63).png',\n",
       "  '/home/halechr/repos/Spike3D/data/commander.pho/PhoDibaLongShortUpdated/figs/gor01_one_2006-6-09_1-22-43/BatchPhoJonathanReplayFRC-long_only-(3,5,23,29,38,63,103).png',\n",
       "  '/home/halechr/repos/Spike3D/data/commander.pho/PhoDibaLongShortUpdated/figs/gor01_one_2006-6-09_1-22-43/BatchPhoJonathanReplayFRC-shared-10of10-(104).png',\n",
       "  '/home/halechr/repos/Spike3D/data/commander.pho/PhoDibaLongShortUpdated/figs/gor01_one_2006-6-09_1-22-43/BatchPhoJonathanReplayFRC-shared-1of10-(2,4,6,7,8,9,10,11,12,13).png',\n",
       "  '/home/halechr/repos/Spike3D/data/commander.pho/PhoDibaLongShortUpdated/figs/gor01_one_2006-6-09_1-22-43/BatchPhoJonathanReplayFRC-shared-1of5-(70,25,14,87,33,19,15,34,92,71,84,51,53,79,89,56,43,30,81,12).png',\n",
       "  '/home/halechr/repos/Spike3D/data/commander.pho/PhoDibaLongShortUpdated/figs/gor01_one_2006-6-09_1-22-43/BatchPhoJonathanReplayFRC-shared-2of10-(14,15,17,18,19,20,21,22,24,25).png',\n",
       "  '/home/halechr/repos/Spike3D/data/commander.pho/PhoDibaLongShortUpdated/figs/gor01_one_2006-6-09_1-22-43/BatchPhoJonathanReplayFRC-shared-2of5-(72,44,48,98,35,24,93,39,2,31,80,20,82,11,4,27,66,86,9,90).png',\n",
       "  '/home/halechr/repos/Spike3D/data/commander.pho/PhoDibaLongShortUpdated/figs/gor01_one_2006-6-09_1-22-43/BatchPhoJonathanReplayFRC-shared-3of10-(26,27,28,30,31,32,33,34,35,36).png',\n",
       "  '/home/halechr/repos/Spike3D/data/commander.pho/PhoDibaLongShortUpdated/figs/gor01_one_2006-6-09_1-22-43/BatchPhoJonathanReplayFRC-shared-3of5-(104,8,6,91,75,13,83,95,57,85,40,60,102,101,28,59,67,52,32,68).png',\n",
       "  '/home/halechr/repos/Spike3D/data/commander.pho/PhoDibaLongShortUpdated/figs/gor01_one_2006-6-09_1-22-43/BatchPhoJonathanReplayFRC-shared-4of10-(37,39,40,41,42,43,44,45,46,47).png',\n",
       "  '/home/halechr/repos/Spike3D/data/commander.pho/PhoDibaLongShortUpdated/figs/gor01_one_2006-6-09_1-22-43/BatchPhoJonathanReplayFRC-shared-4of5-(26,18,61,47,77,58,7,10,17,21,22,36,37,41,42,45,46,49,50,54).png',\n",
       "  '/home/halechr/repos/Spike3D/data/commander.pho/PhoDibaLongShortUpdated/figs/gor01_one_2006-6-09_1-22-43/BatchPhoJonathanReplayFRC-shared-5of10-(48,49,50,51,52,53,54,56,57,58).png',\n",
       "  '/home/halechr/repos/Spike3D/data/commander.pho/PhoDibaLongShortUpdated/figs/gor01_one_2006-6-09_1-22-43/BatchPhoJonathanReplayFRC-shared-5of5-(64,65,73,74,76,78,88,94,96,97,99).png',\n",
       "  '/home/halechr/repos/Spike3D/data/commander.pho/PhoDibaLongShortUpdated/figs/gor01_one_2006-6-09_1-22-43/BatchPhoJonathanReplayFRC-shared-6of10-(59,60,61,64,65,66,67,68,70,71).png',\n",
       "  '/home/halechr/repos/Spike3D/data/commander.pho/PhoDibaLongShortUpdated/figs/gor01_one_2006-6-09_1-22-43/BatchPhoJonathanReplayFRC-shared-7of10-(72,73,74,75,76,77,78,79,80,81).png',\n",
       "  '/home/halechr/repos/Spike3D/data/commander.pho/PhoDibaLongShortUpdated/figs/gor01_one_2006-6-09_1-22-43/BatchPhoJonathanReplayFRC-shared-8of10-(82,83,84,85,86,87,88,89,90,91).png',\n",
       "  '/home/halechr/repos/Spike3D/data/commander.pho/PhoDibaLongShortUpdated/figs/gor01_one_2006-6-09_1-22-43/BatchPhoJonathanReplayFRC-shared-9of10-(92,93,94,95,96,97,98,99,101,102).png',\n",
       "  '/home/halechr/repos/Spike3D/data/commander.pho/PhoDibaLongShortUpdated/figs/gor01_one_2006-6-09_1-22-43/BatchPhoJonathanReplayFRC-short_only-(16,55,62,69,100).png',\n",
       "  '/home/halechr/repos/Spike3D/data/commander.pho/PhoDibaLongShortUpdated/figs/gor01_one_2006-6-09_1-22-43/BatchPhoJonathanReplayFRC-long_only-(103,38,5,23,29,3,63).png',\n",
       "  '/home/halechr/repos/Spike3D/data/commander.pho/PhoDibaLongShortUpdated/figs/gor01_one_2006-6-09_1-22-43/BatchPhoJonathanReplayFRC-long_only-(3,5,23,29,38,63,103).png',\n",
       "  '/home/halechr/repos/Spike3D/data/commander.pho/PhoDibaLongShortUpdated/figs/gor01_one_2006-6-09_1-22-43/BatchPhoJonathanReplayFRC-shared-10of10-(104).png',\n",
       "  '/home/halechr/repos/Spike3D/data/commander.pho/PhoDibaLongShortUpdated/figs/gor01_one_2006-6-09_1-22-43/BatchPhoJonathanReplayFRC-shared-1of10-(2,4,6,7,8,9,10,11,12,13).png',\n",
       "  '/home/halechr/repos/Spike3D/data/commander.pho/PhoDibaLongShortUpdated/figs/gor01_one_2006-6-09_1-22-43/BatchPhoJonathanReplayFRC-shared-1of5-(70,25,14,87,33,19,15,34,92,71,84,51,53,79,89,56,43,30,81,12).png',\n",
       "  '/home/halechr/repos/Spike3D/data/commander.pho/PhoDibaLongShortUpdated/figs/gor01_one_2006-6-09_1-22-43/BatchPhoJonathanReplayFRC-shared-2of10-(14,15,17,18,19,20,21,22,24,25).png',\n",
       "  '/home/halechr/repos/Spike3D/data/commander.pho/PhoDibaLongShortUpdated/figs/gor01_one_2006-6-09_1-22-43/BatchPhoJonathanReplayFRC-shared-2of5-(72,44,48,98,35,24,93,39,2,31,80,20,82,11,4,27,66,86,9,90).png',\n",
       "  '/home/halechr/repos/Spike3D/data/commander.pho/PhoDibaLongShortUpdated/figs/gor01_one_2006-6-09_1-22-43/BatchPhoJonathanReplayFRC-shared-3of10-(26,27,28,30,31,32,33,34,35,36).png',\n",
       "  '/home/halechr/repos/Spike3D/data/commander.pho/PhoDibaLongShortUpdated/figs/gor01_one_2006-6-09_1-22-43/BatchPhoJonathanReplayFRC-shared-3of5-(104,8,6,91,75,13,83,95,57,85,40,60,102,101,28,59,67,52,32,68).png',\n",
       "  '/home/halechr/repos/Spike3D/data/commander.pho/PhoDibaLongShortUpdated/figs/gor01_one_2006-6-09_1-22-43/BatchPhoJonathanReplayFRC-shared-4of10-(37,39,40,41,42,43,44,45,46,47).png',\n",
       "  '/home/halechr/repos/Spike3D/data/commander.pho/PhoDibaLongShortUpdated/figs/gor01_one_2006-6-09_1-22-43/BatchPhoJonathanReplayFRC-shared-4of5-(26,18,61,47,77,58,7,10,17,21,22,36,37,41,42,45,46,49,50,54).png',\n",
       "  '/home/halechr/repos/Spike3D/data/commander.pho/PhoDibaLongShortUpdated/figs/gor01_one_2006-6-09_1-22-43/BatchPhoJonathanReplayFRC-shared-5of10-(48,49,50,51,52,53,54,56,57,58).png',\n",
       "  '/home/halechr/repos/Spike3D/data/commander.pho/PhoDibaLongShortUpdated/figs/gor01_one_2006-6-09_1-22-43/BatchPhoJonathanReplayFRC-shared-5of5-(64,65,73,74,76,78,88,94,96,97,99).png',\n",
       "  '/home/halechr/repos/Spike3D/data/commander.pho/PhoDibaLongShortUpdated/figs/gor01_one_2006-6-09_1-22-43/BatchPhoJonathanReplayFRC-shared-6of10-(59,60,61,64,65,66,67,68,70,71).png',\n",
       "  '/home/halechr/repos/Spike3D/data/commander.pho/PhoDibaLongShortUpdated/figs/gor01_one_2006-6-09_1-22-43/BatchPhoJonathanReplayFRC-shared-7of10-(72,73,74,75,76,77,78,79,80,81).png',\n",
       "  '/home/halechr/repos/Spike3D/data/commander.pho/PhoDibaLongShortUpdated/figs/gor01_one_2006-6-09_1-22-43/BatchPhoJonathanReplayFRC-shared-8of10-(82,83,84,85,86,87,88,89,90,91).png',\n",
       "  '/home/halechr/repos/Spike3D/data/commander.pho/PhoDibaLongShortUpdated/figs/gor01_one_2006-6-09_1-22-43/BatchPhoJonathanReplayFRC-shared-9of10-(92,93,94,95,96,97,98,99,101,102).png',\n",
       "  '/home/halechr/repos/Spike3D/data/commander.pho/PhoDibaLongShortUpdated/figs/gor01_one_2006-6-09_1-22-43/BatchPhoJonathanReplayFRC-short_only-(16,55,62,69,100).png'],\n",
       " Context(format_name= 'kdiba', animal= 'gor01', exper_name= 'two', session_name= '2006-6-12_16-53-46'): ['/home/halechr/repos/Spike3D/data/commander.pho/PhoDibaLongShortUpdated/figs/gor01_two_2006-6-12_16-53-46/BatchPhoJonathanReplayFRC-long_only-(38,51,53,59,60).png',\n",
       "  '/home/halechr/repos/Spike3D/data/commander.pho/PhoDibaLongShortUpdated/figs/gor01_two_2006-6-12_16-53-46/BatchPhoJonathanReplayFRC-long_only-(53,59,60,51,38).png',\n",
       "  '/home/halechr/repos/Spike3D/data/commander.pho/PhoDibaLongShortUpdated/figs/gor01_two_2006-6-12_16-53-46/BatchPhoJonathanReplayFRC-shared-1of3-(31,15,23,52,34,12,24,35,40,17,50,43,49,42,6,2,27,14,39,21).png',\n",
       "  '/home/halechr/repos/Spike3D/data/commander.pho/PhoDibaLongShortUpdated/figs/gor01_two_2006-6-12_16-53-46/BatchPhoJonathanReplayFRC-shared-1of6-(2,3,4,5,6,9,10,11,12,13).png',\n",
       "  '/home/halechr/repos/Spike3D/data/commander.pho/PhoDibaLongShortUpdated/figs/gor01_two_2006-6-12_16-53-46/BatchPhoJonathanReplayFRC-shared-2of3-(19,3,33,32,22,20,41,37,13,47,36,29,57,5,4,11,9,10,16,18).png',\n",
       "  '/home/halechr/repos/Spike3D/data/commander.pho/PhoDibaLongShortUpdated/figs/gor01_two_2006-6-12_16-53-46/BatchPhoJonathanReplayFRC-shared-2of6-(14,15,16,17,18,19,20,21,22,23).png',\n",
       "  '/home/halechr/repos/Spike3D/data/commander.pho/PhoDibaLongShortUpdated/figs/gor01_two_2006-6-12_16-53-46/BatchPhoJonathanReplayFRC-shared-3of3-(25,26,28,30,44,45,46,48,54,55,56,58).png',\n",
       "  '/home/halechr/repos/Spike3D/data/commander.pho/PhoDibaLongShortUpdated/figs/gor01_two_2006-6-12_16-53-46/BatchPhoJonathanReplayFRC-shared-3of6-(24,25,26,27,28,29,30,31,32,33).png',\n",
       "  '/home/halechr/repos/Spike3D/data/commander.pho/PhoDibaLongShortUpdated/figs/gor01_two_2006-6-12_16-53-46/BatchPhoJonathanReplayFRC-shared-4of6-(34,35,36,37,39,40,41,42,43,44).png',\n",
       "  '/home/halechr/repos/Spike3D/data/commander.pho/PhoDibaLongShortUpdated/figs/gor01_two_2006-6-12_16-53-46/BatchPhoJonathanReplayFRC-shared-5of6-(45,46,47,48,49,50,52,54,55,56).png',\n",
       "  '/home/halechr/repos/Spike3D/data/commander.pho/PhoDibaLongShortUpdated/figs/gor01_two_2006-6-12_16-53-46/BatchPhoJonathanReplayFRC-shared-6of6-(57,58).png',\n",
       "  '/home/halechr/repos/Spike3D/data/commander.pho/PhoDibaLongShortUpdated/figs/gor01_two_2006-6-12_16-53-46/BatchPhoJonathanReplayFRC-short_only-(7,8).png',\n",
       "  '/home/halechr/repos/Spike3D/data/commander.pho/PhoDibaLongShortUpdated/figs/gor01_two_2006-6-12_16-53-46/BatchPhoJonathanReplayFRC-long_only-(38,51,53,59,60).png',\n",
       "  '/home/halechr/repos/Spike3D/data/commander.pho/PhoDibaLongShortUpdated/figs/gor01_two_2006-6-12_16-53-46/BatchPhoJonathanReplayFRC-long_only-(53,59,60,51,38).png',\n",
       "  '/home/halechr/repos/Spike3D/data/commander.pho/PhoDibaLongShortUpdated/figs/gor01_two_2006-6-12_16-53-46/BatchPhoJonathanReplayFRC-shared-1of3-(31,15,23,52,34,12,24,35,40,17,50,43,49,42,6,2,27,14,39,21).png',\n",
       "  '/home/halechr/repos/Spike3D/data/commander.pho/PhoDibaLongShortUpdated/figs/gor01_two_2006-6-12_16-53-46/BatchPhoJonathanReplayFRC-shared-1of6-(2,3,4,5,6,9,10,11,12,13).png',\n",
       "  '/home/halechr/repos/Spike3D/data/commander.pho/PhoDibaLongShortUpdated/figs/gor01_two_2006-6-12_16-53-46/BatchPhoJonathanReplayFRC-shared-2of3-(19,3,33,32,22,20,41,37,13,47,36,29,57,5,4,11,9,10,16,18).png',\n",
       "  '/home/halechr/repos/Spike3D/data/commander.pho/PhoDibaLongShortUpdated/figs/gor01_two_2006-6-12_16-53-46/BatchPhoJonathanReplayFRC-shared-2of6-(14,15,16,17,18,19,20,21,22,23).png',\n",
       "  '/home/halechr/repos/Spike3D/data/commander.pho/PhoDibaLongShortUpdated/figs/gor01_two_2006-6-12_16-53-46/BatchPhoJonathanReplayFRC-shared-3of3-(25,26,28,30,44,45,46,48,54,55,56,58).png',\n",
       "  '/home/halechr/repos/Spike3D/data/commander.pho/PhoDibaLongShortUpdated/figs/gor01_two_2006-6-12_16-53-46/BatchPhoJonathanReplayFRC-shared-3of6-(24,25,26,27,28,29,30,31,32,33).png',\n",
       "  '/home/halechr/repos/Spike3D/data/commander.pho/PhoDibaLongShortUpdated/figs/gor01_two_2006-6-12_16-53-46/BatchPhoJonathanReplayFRC-shared-4of6-(34,35,36,37,39,40,41,42,43,44).png',\n",
       "  '/home/halechr/repos/Spike3D/data/commander.pho/PhoDibaLongShortUpdated/figs/gor01_two_2006-6-12_16-53-46/BatchPhoJonathanReplayFRC-shared-5of6-(45,46,47,48,49,50,52,54,55,56).png',\n",
       "  '/home/halechr/repos/Spike3D/data/commander.pho/PhoDibaLongShortUpdated/figs/gor01_two_2006-6-12_16-53-46/BatchPhoJonathanReplayFRC-shared-6of6-(57,58).png',\n",
       "  '/home/halechr/repos/Spike3D/data/commander.pho/PhoDibaLongShortUpdated/figs/gor01_two_2006-6-12_16-53-46/BatchPhoJonathanReplayFRC-short_only-(7,8).png'],\n",
       " Context(format_name= 'kdiba', animal= 'gor01', exper_name= 'one', session_name= '2006-6-12_15-55-31'): ['/home/halechr/repos/Spike3D/data/commander.pho/PhoDibaLongShortUpdated/figs/gor01_one_2006-6-12_15-55-31/BatchPhoJonathanReplayFRC-long_only-(2,3,34).png',\n",
       "  '/home/halechr/repos/Spike3D/data/commander.pho/PhoDibaLongShortUpdated/figs/gor01_one_2006-6-12_15-55-31/BatchPhoJonathanReplayFRC-long_only-(34,3,2).png',\n",
       "  '/home/halechr/repos/Spike3D/data/commander.pho/PhoDibaLongShortUpdated/figs/gor01_one_2006-6-12_15-55-31/BatchPhoJonathanReplayFRC-shared-1of3-(24,40,7,29,45,14,20,9,52,11,39,17,21,12,15,19,10,16,23,4).png',\n",
       "  '/home/halechr/repos/Spike3D/data/commander.pho/PhoDibaLongShortUpdated/figs/gor01_one_2006-6-12_15-55-31/BatchPhoJonathanReplayFRC-shared-1of5-(4,5,6,7,8,9,10,11,12,13).png',\n",
       "  '/home/halechr/repos/Spike3D/data/commander.pho/PhoDibaLongShortUpdated/figs/gor01_one_2006-6-12_15-55-31/BatchPhoJonathanReplayFRC-shared-2of3-(44,35,41,5,37,46,53,49,43,32,31,26,25,18,50,6,8,13,22,28).png',\n",
       "  '/home/halechr/repos/Spike3D/data/commander.pho/PhoDibaLongShortUpdated/figs/gor01_one_2006-6-12_15-55-31/BatchPhoJonathanReplayFRC-shared-2of5-(14,15,16,17,18,19,20,21,22,23).png',\n",
       "  '/home/halechr/repos/Spike3D/data/commander.pho/PhoDibaLongShortUpdated/figs/gor01_one_2006-6-12_15-55-31/BatchPhoJonathanReplayFRC-shared-3of3-(36,38,42,47,48,51).png',\n",
       "  '/home/halechr/repos/Spike3D/data/commander.pho/PhoDibaLongShortUpdated/figs/gor01_one_2006-6-12_15-55-31/BatchPhoJonathanReplayFRC-shared-3of5-(24,25,26,28,29,31,32,35,36,37).png',\n",
       "  '/home/halechr/repos/Spike3D/data/commander.pho/PhoDibaLongShortUpdated/figs/gor01_one_2006-6-12_15-55-31/BatchPhoJonathanReplayFRC-shared-4of5-(38,39,40,41,42,43,44,45,46,47).png',\n",
       "  '/home/halechr/repos/Spike3D/data/commander.pho/PhoDibaLongShortUpdated/figs/gor01_one_2006-6-12_15-55-31/BatchPhoJonathanReplayFRC-shared-5of5-(48,49,50,51,52,53).png',\n",
       "  '/home/halechr/repos/Spike3D/data/commander.pho/PhoDibaLongShortUpdated/figs/gor01_one_2006-6-12_15-55-31/BatchPhoJonathanReplayFRC-short_only-(27,30,33).png',\n",
       "  '/home/halechr/repos/Spike3D/data/commander.pho/PhoDibaLongShortUpdated/figs/gor01_one_2006-6-12_15-55-31/BatchPhoJonathanReplayFRC-long_only-(2,3,34).png',\n",
       "  '/home/halechr/repos/Spike3D/data/commander.pho/PhoDibaLongShortUpdated/figs/gor01_one_2006-6-12_15-55-31/BatchPhoJonathanReplayFRC-long_only-(34,3,2).png',\n",
       "  '/home/halechr/repos/Spike3D/data/commander.pho/PhoDibaLongShortUpdated/figs/gor01_one_2006-6-12_15-55-31/BatchPhoJonathanReplayFRC-shared-1of3-(24,40,7,29,45,14,20,9,52,11,39,17,21,12,15,19,10,16,23,4).png',\n",
       "  '/home/halechr/repos/Spike3D/data/commander.pho/PhoDibaLongShortUpdated/figs/gor01_one_2006-6-12_15-55-31/BatchPhoJonathanReplayFRC-shared-1of5-(4,5,6,7,8,9,10,11,12,13).png',\n",
       "  '/home/halechr/repos/Spike3D/data/commander.pho/PhoDibaLongShortUpdated/figs/gor01_one_2006-6-12_15-55-31/BatchPhoJonathanReplayFRC-shared-2of3-(44,35,41,5,37,46,53,49,43,32,31,26,25,18,50,6,8,13,22,28).png',\n",
       "  '/home/halechr/repos/Spike3D/data/commander.pho/PhoDibaLongShortUpdated/figs/gor01_one_2006-6-12_15-55-31/BatchPhoJonathanReplayFRC-shared-2of5-(14,15,16,17,18,19,20,21,22,23).png',\n",
       "  '/home/halechr/repos/Spike3D/data/commander.pho/PhoDibaLongShortUpdated/figs/gor01_one_2006-6-12_15-55-31/BatchPhoJonathanReplayFRC-shared-3of3-(36,38,42,47,48,51).png',\n",
       "  '/home/halechr/repos/Spike3D/data/commander.pho/PhoDibaLongShortUpdated/figs/gor01_one_2006-6-12_15-55-31/BatchPhoJonathanReplayFRC-shared-3of5-(24,25,26,28,29,31,32,35,36,37).png',\n",
       "  '/home/halechr/repos/Spike3D/data/commander.pho/PhoDibaLongShortUpdated/figs/gor01_one_2006-6-12_15-55-31/BatchPhoJonathanReplayFRC-shared-4of5-(38,39,40,41,42,43,44,45,46,47).png',\n",
       "  '/home/halechr/repos/Spike3D/data/commander.pho/PhoDibaLongShortUpdated/figs/gor01_one_2006-6-12_15-55-31/BatchPhoJonathanReplayFRC-shared-5of5-(48,49,50,51,52,53).png',\n",
       "  '/home/halechr/repos/Spike3D/data/commander.pho/PhoDibaLongShortUpdated/figs/gor01_one_2006-6-12_15-55-31/BatchPhoJonathanReplayFRC-short_only-(27,30,33).png'],\n",
       " Context(format_name= 'kdiba', animal= 'vvp01', exper_name= 'one', session_name= '2006-4-09_17-29-30'): ['/home/halechr/repos/Spike3D/data/commander.pho/PhoDibaLongShortUpdated/figs/vvp01_one_2006-4-09_17-29-30/BatchPhoJonathanReplayFRC-long_only-(6,12,17,28,32,37).png',\n",
       "  '/home/halechr/repos/Spike3D/data/commander.pho/PhoDibaLongShortUpdated/figs/vvp01_one_2006-4-09_17-29-30/BatchPhoJonathanReplayFRC-long_only-(6,32,17,28,12,37).png',\n",
       "  '/home/halechr/repos/Spike3D/data/commander.pho/PhoDibaLongShortUpdated/figs/vvp01_one_2006-4-09_17-29-30/BatchPhoJonathanReplayFRC-shared-1of2-(43,22,4,23,13,20,3,39,10,26,9,38,27,8,33,34,19,29,7,14).png',\n",
       "  '/home/halechr/repos/Spike3D/data/commander.pho/PhoDibaLongShortUpdated/figs/vvp01_one_2006-4-09_17-29-30/BatchPhoJonathanReplayFRC-shared-1of4-(2,3,4,5,7,8,9,10,11,13).png',\n",
       "  '/home/halechr/repos/Spike3D/data/commander.pho/PhoDibaLongShortUpdated/figs/vvp01_one_2006-4-09_17-29-30/BatchPhoJonathanReplayFRC-shared-2of2-(42,2,5,11,15,16,18,24,35,36,40,44,45).png',\n",
       "  '/home/halechr/repos/Spike3D/data/commander.pho/PhoDibaLongShortUpdated/figs/vvp01_one_2006-4-09_17-29-30/BatchPhoJonathanReplayFRC-shared-2of4-(14,15,16,18,19,20,22,23,24,26).png',\n",
       "  '/home/halechr/repos/Spike3D/data/commander.pho/PhoDibaLongShortUpdated/figs/vvp01_one_2006-4-09_17-29-30/BatchPhoJonathanReplayFRC-shared-3of4-(27,29,33,34,35,36,38,39,40,42).png',\n",
       "  '/home/halechr/repos/Spike3D/data/commander.pho/PhoDibaLongShortUpdated/figs/vvp01_one_2006-4-09_17-29-30/BatchPhoJonathanReplayFRC-shared-4of4-(43,44,45).png',\n",
       "  '/home/halechr/repos/Spike3D/data/commander.pho/PhoDibaLongShortUpdated/figs/vvp01_one_2006-4-09_17-29-30/BatchPhoJonathanReplayFRC-short_only-(21,25,30,31,41).png',\n",
       "  '/home/halechr/repos/Spike3D/data/commander.pho/PhoDibaLongShortUpdated/figs/vvp01_one_2006-4-09_17-29-30/BatchPhoJonathanReplayFRC-long_only-(6,12,17,28,32,37).png',\n",
       "  '/home/halechr/repos/Spike3D/data/commander.pho/PhoDibaLongShortUpdated/figs/vvp01_one_2006-4-09_17-29-30/BatchPhoJonathanReplayFRC-long_only-(6,32,17,28,12,37).png',\n",
       "  '/home/halechr/repos/Spike3D/data/commander.pho/PhoDibaLongShortUpdated/figs/vvp01_one_2006-4-09_17-29-30/BatchPhoJonathanReplayFRC-shared-1of2-(43,22,4,23,13,20,3,39,10,26,9,38,27,8,33,34,19,29,7,14).png',\n",
       "  '/home/halechr/repos/Spike3D/data/commander.pho/PhoDibaLongShortUpdated/figs/vvp01_one_2006-4-09_17-29-30/BatchPhoJonathanReplayFRC-shared-1of4-(2,3,4,5,7,8,9,10,11,13).png',\n",
       "  '/home/halechr/repos/Spike3D/data/commander.pho/PhoDibaLongShortUpdated/figs/vvp01_one_2006-4-09_17-29-30/BatchPhoJonathanReplayFRC-shared-2of2-(42,2,5,11,15,16,18,24,35,36,40,44,45).png',\n",
       "  '/home/halechr/repos/Spike3D/data/commander.pho/PhoDibaLongShortUpdated/figs/vvp01_one_2006-4-09_17-29-30/BatchPhoJonathanReplayFRC-shared-2of4-(14,15,16,18,19,20,22,23,24,26).png',\n",
       "  '/home/halechr/repos/Spike3D/data/commander.pho/PhoDibaLongShortUpdated/figs/vvp01_one_2006-4-09_17-29-30/BatchPhoJonathanReplayFRC-shared-3of4-(27,29,33,34,35,36,38,39,40,42).png',\n",
       "  '/home/halechr/repos/Spike3D/data/commander.pho/PhoDibaLongShortUpdated/figs/vvp01_one_2006-4-09_17-29-30/BatchPhoJonathanReplayFRC-shared-4of4-(43,44,45).png',\n",
       "  '/home/halechr/repos/Spike3D/data/commander.pho/PhoDibaLongShortUpdated/figs/vvp01_one_2006-4-09_17-29-30/BatchPhoJonathanReplayFRC-short_only-(21,25,30,31,41).png'],\n",
       " Context(format_name= 'kdiba', animal= 'vvp01', exper_name= 'two', session_name= '2006-4-10_12-58-3'): ['/home/halechr/repos/Spike3D/data/commander.pho/PhoDibaLongShortUpdated/figs/vvp01_two_2006-4-10_12-58-3/BatchPhoJonathanReplayFRC-long_only-(7,14,16,30,32,35,40).png',\n",
       "  '/home/halechr/repos/Spike3D/data/commander.pho/PhoDibaLongShortUpdated/figs/vvp01_two_2006-4-10_12-58-3/BatchPhoJonathanReplayFRC-long_only-(7,40,14,35,16,30,32).png',\n",
       "  '/home/halechr/repos/Spike3D/data/commander.pho/PhoDibaLongShortUpdated/figs/vvp01_two_2006-4-10_12-58-3/BatchPhoJonathanReplayFRC-shared-1of2-(37,29,5,25,15,6,34,33,43,28,19,20,17,12,41,10,31,27,36,42).png',\n",
       "  '/home/halechr/repos/Spike3D/data/commander.pho/PhoDibaLongShortUpdated/figs/vvp01_two_2006-4-10_12-58-3/BatchPhoJonathanReplayFRC-shared-1of4-(2,3,4,5,6,8,10,11,12,13).png',\n",
       "  '/home/halechr/repos/Spike3D/data/commander.pho/PhoDibaLongShortUpdated/figs/vvp01_two_2006-4-10_12-58-3/BatchPhoJonathanReplayFRC-shared-2of2-(11,8,18,39,24,26,3,2,4,13,21,22,23,38,44,45,46,47).png',\n",
       "  '/home/halechr/repos/Spike3D/data/commander.pho/PhoDibaLongShortUpdated/figs/vvp01_two_2006-4-10_12-58-3/BatchPhoJonathanReplayFRC-shared-2of4-(15,17,18,19,20,21,22,23,24,25).png',\n",
       "  '/home/halechr/repos/Spike3D/data/commander.pho/PhoDibaLongShortUpdated/figs/vvp01_two_2006-4-10_12-58-3/BatchPhoJonathanReplayFRC-shared-3of4-(26,27,28,29,31,33,34,36,37,38).png',\n",
       "  '/home/halechr/repos/Spike3D/data/commander.pho/PhoDibaLongShortUpdated/figs/vvp01_two_2006-4-10_12-58-3/BatchPhoJonathanReplayFRC-shared-4of4-(39,41,42,43,44,45,46,47).png',\n",
       "  '/home/halechr/repos/Spike3D/data/commander.pho/PhoDibaLongShortUpdated/figs/vvp01_two_2006-4-10_12-58-3/BatchPhoJonathanReplayFRC-short_only-(9).png',\n",
       "  '/home/halechr/repos/Spike3D/data/commander.pho/PhoDibaLongShortUpdated/figs/vvp01_two_2006-4-10_12-58-3/BatchPhoJonathanReplayFRC-long_only-(7,14,16,30,32,35,40).png',\n",
       "  '/home/halechr/repos/Spike3D/data/commander.pho/PhoDibaLongShortUpdated/figs/vvp01_two_2006-4-10_12-58-3/BatchPhoJonathanReplayFRC-long_only-(7,40,14,35,16,30,32).png',\n",
       "  '/home/halechr/repos/Spike3D/data/commander.pho/PhoDibaLongShortUpdated/figs/vvp01_two_2006-4-10_12-58-3/BatchPhoJonathanReplayFRC-shared-1of2-(37,29,5,25,15,6,34,33,43,28,19,20,17,12,41,10,31,27,36,42).png',\n",
       "  '/home/halechr/repos/Spike3D/data/commander.pho/PhoDibaLongShortUpdated/figs/vvp01_two_2006-4-10_12-58-3/BatchPhoJonathanReplayFRC-shared-1of4-(2,3,4,5,6,8,10,11,12,13).png',\n",
       "  '/home/halechr/repos/Spike3D/data/commander.pho/PhoDibaLongShortUpdated/figs/vvp01_two_2006-4-10_12-58-3/BatchPhoJonathanReplayFRC-shared-2of2-(11,8,18,39,24,26,3,2,4,13,21,22,23,38,44,45,46,47).png',\n",
       "  '/home/halechr/repos/Spike3D/data/commander.pho/PhoDibaLongShortUpdated/figs/vvp01_two_2006-4-10_12-58-3/BatchPhoJonathanReplayFRC-shared-2of4-(15,17,18,19,20,21,22,23,24,25).png',\n",
       "  '/home/halechr/repos/Spike3D/data/commander.pho/PhoDibaLongShortUpdated/figs/vvp01_two_2006-4-10_12-58-3/BatchPhoJonathanReplayFRC-shared-3of4-(26,27,28,29,31,33,34,36,37,38).png',\n",
       "  '/home/halechr/repos/Spike3D/data/commander.pho/PhoDibaLongShortUpdated/figs/vvp01_two_2006-4-10_12-58-3/BatchPhoJonathanReplayFRC-shared-4of4-(39,41,42,43,44,45,46,47).png',\n",
       "  '/home/halechr/repos/Spike3D/data/commander.pho/PhoDibaLongShortUpdated/figs/vvp01_two_2006-4-10_12-58-3/BatchPhoJonathanReplayFRC-short_only-(9).png'],\n",
       " Context(format_name= 'kdiba', animal= 'vvp01', exper_name= 'two', session_name= '2006-4-09_16-40-54'): ['/home/halechr/repos/Spike3D/data/commander.pho/PhoDibaLongShortUpdated/figs/vvp01_two_2006-4-09_16-40-54/BatchPhoJonathanReplayFRC-long_only-(12,14,17,25,29).png',\n",
       "  '/home/halechr/repos/Spike3D/data/commander.pho/PhoDibaLongShortUpdated/figs/vvp01_two_2006-4-09_16-40-54/BatchPhoJonathanReplayFRC-long_only-(29,14,12,25,17).png',\n",
       "  '/home/halechr/repos/Spike3D/data/commander.pho/PhoDibaLongShortUpdated/figs/vvp01_two_2006-4-09_16-40-54/BatchPhoJonathanReplayFRC-shared-1of2-(21,9,7,23,33,32,28,10,18,3,11,6,8,5,26,20,19,24,31,22).png',\n",
       "  '/home/halechr/repos/Spike3D/data/commander.pho/PhoDibaLongShortUpdated/figs/vvp01_two_2006-4-09_16-40-54/BatchPhoJonathanReplayFRC-shared-1of3-(2,3,4,5,6,7,8,9,10,11).png',\n",
       "  '/home/halechr/repos/Spike3D/data/commander.pho/PhoDibaLongShortUpdated/figs/vvp01_two_2006-4-09_16-40-54/BatchPhoJonathanReplayFRC-shared-2of2-(15,2,4,13,16,27,35,36).png',\n",
       "  '/home/halechr/repos/Spike3D/data/commander.pho/PhoDibaLongShortUpdated/figs/vvp01_two_2006-4-09_16-40-54/BatchPhoJonathanReplayFRC-shared-2of3-(13,15,16,18,19,20,21,22,23,24).png',\n",
       "  '/home/halechr/repos/Spike3D/data/commander.pho/PhoDibaLongShortUpdated/figs/vvp01_two_2006-4-09_16-40-54/BatchPhoJonathanReplayFRC-shared-3of3-(26,27,28,31,32,33,35,36).png',\n",
       "  '/home/halechr/repos/Spike3D/data/commander.pho/PhoDibaLongShortUpdated/figs/vvp01_two_2006-4-09_16-40-54/BatchPhoJonathanReplayFRC-short_only-(30,34).png',\n",
       "  '/home/halechr/repos/Spike3D/data/commander.pho/PhoDibaLongShortUpdated/figs/vvp01_two_2006-4-09_16-40-54/BatchPhoJonathanReplayFRC-long_only-(12,14,17,25,29).png',\n",
       "  '/home/halechr/repos/Spike3D/data/commander.pho/PhoDibaLongShortUpdated/figs/vvp01_two_2006-4-09_16-40-54/BatchPhoJonathanReplayFRC-long_only-(29,14,12,25,17).png',\n",
       "  '/home/halechr/repos/Spike3D/data/commander.pho/PhoDibaLongShortUpdated/figs/vvp01_two_2006-4-09_16-40-54/BatchPhoJonathanReplayFRC-shared-1of2-(21,9,7,23,33,32,28,10,18,3,11,6,8,5,26,20,19,24,31,22).png',\n",
       "  '/home/halechr/repos/Spike3D/data/commander.pho/PhoDibaLongShortUpdated/figs/vvp01_two_2006-4-09_16-40-54/BatchPhoJonathanReplayFRC-shared-1of3-(2,3,4,5,6,7,8,9,10,11).png',\n",
       "  '/home/halechr/repos/Spike3D/data/commander.pho/PhoDibaLongShortUpdated/figs/vvp01_two_2006-4-09_16-40-54/BatchPhoJonathanReplayFRC-shared-2of2-(15,2,4,13,16,27,35,36).png',\n",
       "  '/home/halechr/repos/Spike3D/data/commander.pho/PhoDibaLongShortUpdated/figs/vvp01_two_2006-4-09_16-40-54/BatchPhoJonathanReplayFRC-shared-2of3-(13,15,16,18,19,20,21,22,23,24).png',\n",
       "  '/home/halechr/repos/Spike3D/data/commander.pho/PhoDibaLongShortUpdated/figs/vvp01_two_2006-4-09_16-40-54/BatchPhoJonathanReplayFRC-shared-3of3-(26,27,28,31,32,33,35,36).png',\n",
       "  '/home/halechr/repos/Spike3D/data/commander.pho/PhoDibaLongShortUpdated/figs/vvp01_two_2006-4-09_16-40-54/BatchPhoJonathanReplayFRC-short_only-(30,34).png'],\n",
       " Context(format_name= 'kdiba', animal= 'vvp01', exper_name= 'one', session_name= '2006-4-10_12-25-50'): ['/home/halechr/repos/Spike3D/data/commander.pho/PhoDibaLongShortUpdated/figs/vvp01_one_2006-4-10_12-25-50/BatchPhoJonathanReplayFRC-long_only-(6,19,20,23).png',\n",
       "  '/home/halechr/repos/Spike3D/data/commander.pho/PhoDibaLongShortUpdated/figs/vvp01_one_2006-4-10_12-25-50/BatchPhoJonathanReplayFRC-long_only-(6,20,23,19).png',\n",
       "  '/home/halechr/repos/Spike3D/data/commander.pho/PhoDibaLongShortUpdated/figs/vvp01_one_2006-4-10_12-25-50/BatchPhoJonathanReplayFRC-shared-1of2-(27,37,22,34,33,32,13,21,25,15,10,16,9,31,5,18,12,35,17,8).png',\n",
       "  '/home/halechr/repos/Spike3D/data/commander.pho/PhoDibaLongShortUpdated/figs/vvp01_one_2006-4-10_12-25-50/BatchPhoJonathanReplayFRC-shared-1of4-(2,3,4,5,7,8,9,10,11,12).png',\n",
       "  '/home/halechr/repos/Spike3D/data/commander.pho/PhoDibaLongShortUpdated/figs/vvp01_one_2006-4-10_12-25-50/BatchPhoJonathanReplayFRC-shared-2of2-(4,11,7,2,3,14,24,26,28,30,38,39).png',\n",
       "  '/home/halechr/repos/Spike3D/data/commander.pho/PhoDibaLongShortUpdated/figs/vvp01_one_2006-4-10_12-25-50/BatchPhoJonathanReplayFRC-shared-2of4-(13,14,15,16,17,18,21,22,24,25).png',\n",
       "  '/home/halechr/repos/Spike3D/data/commander.pho/PhoDibaLongShortUpdated/figs/vvp01_one_2006-4-10_12-25-50/BatchPhoJonathanReplayFRC-shared-3of4-(26,27,28,30,31,32,33,34,35,37).png',\n",
       "  '/home/halechr/repos/Spike3D/data/commander.pho/PhoDibaLongShortUpdated/figs/vvp01_one_2006-4-10_12-25-50/BatchPhoJonathanReplayFRC-shared-4of4-(38,39).png',\n",
       "  '/home/halechr/repos/Spike3D/data/commander.pho/PhoDibaLongShortUpdated/figs/vvp01_one_2006-4-10_12-25-50/BatchPhoJonathanReplayFRC-short_only-(29,36).png',\n",
       "  '/home/halechr/repos/Spike3D/data/commander.pho/PhoDibaLongShortUpdated/figs/vvp01_one_2006-4-10_12-25-50/BatchPhoJonathanReplayFRC-long_only-(6,19,20,23).png',\n",
       "  '/home/halechr/repos/Spike3D/data/commander.pho/PhoDibaLongShortUpdated/figs/vvp01_one_2006-4-10_12-25-50/BatchPhoJonathanReplayFRC-long_only-(6,20,23,19).png',\n",
       "  '/home/halechr/repos/Spike3D/data/commander.pho/PhoDibaLongShortUpdated/figs/vvp01_one_2006-4-10_12-25-50/BatchPhoJonathanReplayFRC-shared-1of2-(27,37,22,34,33,32,13,21,25,15,10,16,9,31,5,18,12,35,17,8).png',\n",
       "  '/home/halechr/repos/Spike3D/data/commander.pho/PhoDibaLongShortUpdated/figs/vvp01_one_2006-4-10_12-25-50/BatchPhoJonathanReplayFRC-shared-1of4-(2,3,4,5,7,8,9,10,11,12).png',\n",
       "  '/home/halechr/repos/Spike3D/data/commander.pho/PhoDibaLongShortUpdated/figs/vvp01_one_2006-4-10_12-25-50/BatchPhoJonathanReplayFRC-shared-2of2-(4,11,7,2,3,14,24,26,28,30,38,39).png',\n",
       "  '/home/halechr/repos/Spike3D/data/commander.pho/PhoDibaLongShortUpdated/figs/vvp01_one_2006-4-10_12-25-50/BatchPhoJonathanReplayFRC-shared-2of4-(13,14,15,16,17,18,21,22,24,25).png',\n",
       "  '/home/halechr/repos/Spike3D/data/commander.pho/PhoDibaLongShortUpdated/figs/vvp01_one_2006-4-10_12-25-50/BatchPhoJonathanReplayFRC-shared-3of4-(26,27,28,30,31,32,33,34,35,37).png',\n",
       "  '/home/halechr/repos/Spike3D/data/commander.pho/PhoDibaLongShortUpdated/figs/vvp01_one_2006-4-10_12-25-50/BatchPhoJonathanReplayFRC-shared-4of4-(38,39).png',\n",
       "  '/home/halechr/repos/Spike3D/data/commander.pho/PhoDibaLongShortUpdated/figs/vvp01_one_2006-4-10_12-25-50/BatchPhoJonathanReplayFRC-short_only-(29,36).png'],\n",
       " Context(format_name= 'kdiba', animal= 'pin01', exper_name= 'one', session_name= '11-03_12-3-25'): ['/home/halechr/repos/Spike3D/data/commander.pho/PhoDibaLongShortUpdated/figs/pin01_one_11-03_12-3-25/BatchPhoJonathanReplayFRC-long_only-(25,8,24).png',\n",
       "  '/home/halechr/repos/Spike3D/data/commander.pho/PhoDibaLongShortUpdated/figs/pin01_one_11-03_12-3-25/BatchPhoJonathanReplayFRC-long_only-(8,24,25).png',\n",
       "  '/home/halechr/repos/Spike3D/data/commander.pho/PhoDibaLongShortUpdated/figs/pin01_one_11-03_12-3-25/BatchPhoJonathanReplayFRC-shared-1of2-(29,21,17,10,2,6,27,16,7,19,18,23,26,11,14,5,9,12,3,4).png',\n",
       "  '/home/halechr/repos/Spike3D/data/commander.pho/PhoDibaLongShortUpdated/figs/pin01_one_11-03_12-3-25/BatchPhoJonathanReplayFRC-shared-1of3-(2,3,4,5,6,7,9,10,11,12).png',\n",
       "  '/home/halechr/repos/Spike3D/data/commander.pho/PhoDibaLongShortUpdated/figs/pin01_one_11-03_12-3-25/BatchPhoJonathanReplayFRC-shared-2of2-(15,20,30).png',\n",
       "  '/home/halechr/repos/Spike3D/data/commander.pho/PhoDibaLongShortUpdated/figs/pin01_one_11-03_12-3-25/BatchPhoJonathanReplayFRC-shared-2of3-(14,15,16,17,18,19,20,21,23,26).png',\n",
       "  '/home/halechr/repos/Spike3D/data/commander.pho/PhoDibaLongShortUpdated/figs/pin01_one_11-03_12-3-25/BatchPhoJonathanReplayFRC-shared-3of3-(27,29,30).png',\n",
       "  '/home/halechr/repos/Spike3D/data/commander.pho/PhoDibaLongShortUpdated/figs/pin01_one_11-03_12-3-25/BatchPhoJonathanReplayFRC-short_only-(13,22,28).png',\n",
       "  '/home/halechr/repos/Spike3D/data/commander.pho/PhoDibaLongShortUpdated/figs/pin01_one_11-03_12-3-25/BatchPhoJonathanReplayFRC-long_only-(25,8,24).png',\n",
       "  '/home/halechr/repos/Spike3D/data/commander.pho/PhoDibaLongShortUpdated/figs/pin01_one_11-03_12-3-25/BatchPhoJonathanReplayFRC-long_only-(8,24,25).png',\n",
       "  '/home/halechr/repos/Spike3D/data/commander.pho/PhoDibaLongShortUpdated/figs/pin01_one_11-03_12-3-25/BatchPhoJonathanReplayFRC-shared-1of2-(29,21,17,10,2,6,27,16,7,19,18,23,26,11,14,5,9,12,3,4).png',\n",
       "  '/home/halechr/repos/Spike3D/data/commander.pho/PhoDibaLongShortUpdated/figs/pin01_one_11-03_12-3-25/BatchPhoJonathanReplayFRC-shared-1of3-(2,3,4,5,6,7,9,10,11,12).png',\n",
       "  '/home/halechr/repos/Spike3D/data/commander.pho/PhoDibaLongShortUpdated/figs/pin01_one_11-03_12-3-25/BatchPhoJonathanReplayFRC-shared-2of2-(15,20,30).png',\n",
       "  '/home/halechr/repos/Spike3D/data/commander.pho/PhoDibaLongShortUpdated/figs/pin01_one_11-03_12-3-25/BatchPhoJonathanReplayFRC-shared-2of3-(14,15,16,17,18,19,20,21,23,26).png',\n",
       "  '/home/halechr/repos/Spike3D/data/commander.pho/PhoDibaLongShortUpdated/figs/pin01_one_11-03_12-3-25/BatchPhoJonathanReplayFRC-shared-3of3-(27,29,30).png',\n",
       "  '/home/halechr/repos/Spike3D/data/commander.pho/PhoDibaLongShortUpdated/figs/pin01_one_11-03_12-3-25/BatchPhoJonathanReplayFRC-short_only-(13,22,28).png'],\n",
       " Context(format_name= 'kdiba', animal= 'gor01', exper_name= 'one', session_name= '2006-6-07_11-26-53'): ['/home/halechr/repos/Spike3D/data/commander.pho/PhoDibaLongShortUpdated/figs/gor01_one_2006-6-07_11-26-53/BatchPhoJonathanReplayFRC-long_only-(3,5,8,12,14,18,24,26,39,44,51,58,62).png',\n",
       "  '/home/halechr/repos/Spike3D/data/commander.pho/PhoDibaLongShortUpdated/figs/gor01_one_2006-6-07_11-26-53/BatchPhoJonathanReplayFRC-long_only-(51,14,26,39,8,24,44,3,18,5,12,62,58).png',\n",
       "  '/home/halechr/repos/Spike3D/data/commander.pho/PhoDibaLongShortUpdated/figs/gor01_one_2006-6-07_11-26-53/BatchPhoJonathanReplayFRC-shared-1of3-(46,53,27,57,63,64,33,9,7,22,28,25,4,55,47,11,10,2,42,36).png',\n",
       "  '/home/halechr/repos/Spike3D/data/commander.pho/PhoDibaLongShortUpdated/figs/gor01_one_2006-6-07_11-26-53/BatchPhoJonathanReplayFRC-shared-1of6-(2,4,6,7,9,10,11,13,15,16).png',\n",
       "  '/home/halechr/repos/Spike3D/data/commander.pho/PhoDibaLongShortUpdated/figs/gor01_one_2006-6-07_11-26-53/BatchPhoJonathanReplayFRC-shared-2of3-(34,21,29,38,52,45,31,48,65,6,13,15,16,17,19,20,23,30,32,35).png',\n",
       "  '/home/halechr/repos/Spike3D/data/commander.pho/PhoDibaLongShortUpdated/figs/gor01_one_2006-6-07_11-26-53/BatchPhoJonathanReplayFRC-shared-2of6-(17,19,20,21,22,23,25,27,28,29).png',\n",
       "  '/home/halechr/repos/Spike3D/data/commander.pho/PhoDibaLongShortUpdated/figs/gor01_one_2006-6-07_11-26-53/BatchPhoJonathanReplayFRC-shared-3of3-(37,40,41,43,49,50,54,56,59,60,61).png',\n",
       "  '/home/halechr/repos/Spike3D/data/commander.pho/PhoDibaLongShortUpdated/figs/gor01_one_2006-6-07_11-26-53/BatchPhoJonathanReplayFRC-shared-3of6-(30,31,32,33,34,35,36,37,38,40).png',\n",
       "  '/home/halechr/repos/Spike3D/data/commander.pho/PhoDibaLongShortUpdated/figs/gor01_one_2006-6-07_11-26-53/BatchPhoJonathanReplayFRC-shared-4of6-(41,42,43,45,46,47,48,49,50,52).png',\n",
       "  '/home/halechr/repos/Spike3D/data/commander.pho/PhoDibaLongShortUpdated/figs/gor01_one_2006-6-07_11-26-53/BatchPhoJonathanReplayFRC-shared-5of6-(53,54,55,56,57,59,60,61,63,64).png',\n",
       "  '/home/halechr/repos/Spike3D/data/commander.pho/PhoDibaLongShortUpdated/figs/gor01_one_2006-6-07_11-26-53/BatchPhoJonathanReplayFRC-shared-6of6-(65).png']}"
      ]
     },
     "execution_count": 6,
     "metadata": {},
     "output_type": "execute_result"
    }
   ],
   "source": [
    "from neuropy.utils.indexing_helpers import flatten_dict\n",
    "import ipywidgets as widgets\n",
    "from ipywidgets import HBox, VBox\n",
    "from IPython.display import display, HTML, Javascript\n",
    "from pyphocorehelpers.gui.Jupyter.simple_widgets import filesystem_path_folder_contents_widget, fullwidth_path_widget, simple_path_display_widget\n",
    "from pyphoplacecellanalysis.General.Batch.NeptuneAiHelpers import flatten_context_nested_dict\n",
    "\n",
    "\n",
    "# fig_input_key: str = \"display_fn_name:display_long_short_laps\"\n",
    "# fig_input_key: str = \"display_fn_name:display_short_long_pf1D_comparison/track:long\"\n",
    "# fig_input_key: str = \"display_fn_name:display_short_long_pf1D_comparison/track:short\"\n",
    "# fig_input_key: str = \"display_fn_name:running_and_replay_speeds_over_time\"\n",
    "# fig_input_key: str = \"display_fn_name:running_and_replay_speeds_over_time\"\n",
    "\n",
    "# fig_input_key: str = \"display_fn_name:trial_to_trial_reliability\"\n",
    "\n",
    "# Support Incomplete Keys to export multiple images: _________________________________________________________________ #\n",
    "# fig_input_key: str = \"display_fn_name:BatchPhoJonathanReplayFRC/plot_result_set:shared/page:1of6/aclus:(2,4,5,6,7,8,9,11,12,13)\"\n",
    "fig_input_key: str = \"display_fn_name:BatchPhoJonathanReplayFRC\" # plot_result_set:shared/page:1of6/aclus:(2,4,5,6,7,8,9,11,12,13)\n",
    "# check if the key ends with a forward-slash, in which case it may describe multiple images\n",
    "# fig_input_key.endswith('/')\n",
    "\n",
    "# fig_input_key: str = \"display_fn_name:plot_all_epoch_bins_marginal_predictions/subplot_name:Laps all_epoch_binned Marginals\"\n",
    "\n",
    "# fig_input_key: str = \"display_fn_name:display_long_short_laps\"\n",
    "# fig_input_key: str = \"display_fn_name:_display_grid_bin_bounds_validation\"\n",
    "\n",
    "_context_figures_dict = neptune_run_collected_results.download_uploaded_figure_files(neptune_project_figures_output_path=neptune_project_figures_output_path, fig_input_key=fig_input_key, debug_print=False)\n",
    "# _context_figures_dict\n",
    "## INPUTS: _context_figures_dict\n",
    "_flattened_context_path_dict, _flat_out_path_items = flatten_context_nested_dict(_context_figures_dict)\n",
    "# OUTPUTS: _flattened_context_path_dict\n",
    "_flattened_context_path_dict"
   ]
  },
  {
   "cell_type": "code",
   "execution_count": null,
   "metadata": {},
   "outputs": [],
   "source": [
    "# ['C:/Users/pho/repos/Spike3DWorkEnv/Spike3D/data/neptune/commander.pho/PhoDibaLongShortUpdated/figs/gor01_one_2006-6-07_11-26-53/display_short_long_pf1D_comparison-short.png',\n",
    "#   'C:/Users/pho/repos/Spike3DWorkEnv/Spike3D/data/neptune/commander.pho/PhoDibaLongShortUpdated/figs/gor01_one_2006-6-07_11-26-53/display_short_long_pf1D_comparison-short.png',\n",
    "#   'C:/Users/pho/repos/Spike3DWorkEnv/Spike3D/data/neptune/commander.pho/PhoDibaLongShortUpdated/figs/gor01_one_2006-6-07_11-26-53/display_short_long_pf1D_comparison-short.png']\n"
   ]
  },
  {
   "cell_type": "code",
   "execution_count": null,
   "metadata": {},
   "outputs": [],
   "source": [
    "from pyphocorehelpers.gui.Jupyter.JupyterImageNavigatorWidget import ImageContextViewer\n",
    "\n",
    "viewer = ImageContextViewer(_flattened_context_path_dict)\n",
    "viewer.display()\n",
    "\n",
    "# \"pin01_one_fet11-01_12...\" - bad looking position data\n",
    "# \"pin01_one_11-02_17_46\" - same as above, identical looking\n"
   ]
  },
  {
   "cell_type": "code",
   "execution_count": null,
   "metadata": {},
   "outputs": [],
   "source": [
    "## INPUTS: _final_out_dict_dict: Dict[ContextDescStr, Dict[ImageNameStr, Dict[datetime, Path]]]\n",
    "from pyphocorehelpers.gui.Jupyter.JupyterImageNavigatorWidget import build_context_images_navigator_widget, ContextSidebar, ImageNavigator\n",
    "\n",
    "\n",
    "context_tabs_dict = {curr_context_desc_str:build_context_images_navigator_widget(curr_context_images_dict, curr_context_desc_str=curr_context_desc_str, max_num_widget_debug=2) for curr_context_desc_str, curr_context_images_list in list(_flattened_context_path_dict.items())}\n",
    "sidebar = ContextSidebar(context_tabs_dict)\n",
    "sidebar.display()\n",
    "\n"
   ]
  },
  {
   "cell_type": "code",
   "execution_count": null,
   "metadata": {},
   "outputs": [],
   "source": [
    "## INPUTS: _context_figures_dict\n",
    "\n",
    "# {'kdiba_gor01_two_2006-6-07_16-40-19/LS2023-1370/gor01_two_2006-6-07_16-40-19/display_fn_name:_display_grid_bin_bounds_validation': 'C:/Users/pho/repos/Spike3DWorkEnv/Spike3D/data/neptune/commander.pho/PhoDibaLongShortUpdated/figs/gor01_two_2006-6-07_16-40-19/_display_grid_bin_bounds_validation.png',\n",
    "#  'kdiba_gor01_two_2006-6-07_16-40-19/LS2023-1354/gor01_two_2006-6-07_16-40-19/display_fn_name:_display_grid_bin_bounds_validation': 'C:/Users/pho/repos/Spike3DWorkEnv/Spike3D/data/neptune/commander.pho/PhoDibaLongShortUpdated/figs/gor01_two_2006-6-07_16-40-19/_display_grid_bin_bounds_validation.png',\n",
    "#  'kdiba_gor01_one_2006-6-12_15-55-31/LS2023-1369/gor01_one_2006-6-12_15-55-31/display_fn_name:_display_grid_bin_bounds_validation': 'C:/Users/pho/repos/Spike3DWorkEnv/Spike3D/data/neptune/commander.pho/PhoDibaLongShortUpdated/figs/gor01_one_2006-6-12_15-55-31/_display_grid_bin_bounds_validation.png',\n",
    "#  'kdiba_gor01_one_2006-6-09_1-22-43/LS2023-1368/gor01_one_2006-6-09_1-22-43/display_fn_name:_display_grid_bin_bounds_validation': 'C:/Users/pho/repos/Spike3DWorkEnv/Spike3D/data/neptune/commander.pho/PhoDibaLongShortUpdated/figs/gor01_one_2006-6-09_1-22-43/_display_grid_bin_bounds_validation.png',\n",
    "#  'kdiba_gor01_one_2006-6-08_14-26-15/LS2023-1367/gor01_one_2006-6-08_14-26-15/display_fn_name:_display_grid_bin_bounds_validation': 'C:/Users/pho/repos/Spike3DWorkEnv/Spike3D/data/neptune/commander.pho/PhoDibaLongShortUpdated/figs/gor01_one_2006-6-08_14-26-15/_display_grid_bin_bounds_validation.png',\n",
    "#  'kdiba_gor01_one_2006-6-08_14-26-15/LS2023-1361/gor01_one_2006-6-08_14-26-15/display_fn_name:_display_grid_bin_bounds_validation': 'C:/Users/pho/repos/Spike3DWorkEnv/Spike3D/data/neptune/commander.pho/PhoDibaLongShortUpdated/figs/gor01_one_2006-6-08_14-26-15/_display_grid_bin_bounds_validation.png',\n",
    "#  'kdiba_gor01_one_2006-6-07_11-26-53/LS2023-1351/gor01_one_2006-6-07_11-26-53/display_fn_name:_display_grid_bin_bounds_validation': 'C:/Users/pho/repos/Spike3DWorkEnv/Spike3D/data/neptune/commander.pho/PhoDibaLongShortUpdated/figs/gor01_one_2006-6-07_11-26-53/_display_grid_bin_bounds_validation.png'}\n"
   ]
  },
  {
   "cell_type": "markdown",
   "metadata": {},
   "source": [
    "# Parse ProgrammaticDisplayFunctionTesting"
   ]
  },
  {
   "cell_type": "code",
   "execution_count": null,
   "metadata": {},
   "outputs": [],
   "source": [
    "import os\n",
    "from datetime import datetime\n",
    "from pathlib import Path\n",
    "from pyphoplacecellanalysis.SpecificResults.PendingNotebookCode import ProgrammaticDisplayFunctionTestingFolderImageLoading\n",
    "\n",
    "# programmatic_display_function_testing_path: Path = Path(r\"C:\\Users\\pho\\repos\\Spike3DWorkEnv\\Spike3D\\EXTERNAL\\Screenshots\\ProgrammaticDisplayFunctionTesting\").resolve()\n",
    "programmatic_display_function_testing_path: Path = Path('/home/halechr/repos/Spike3D/EXTERNAL/Screenshots/ProgrammaticDisplayFunctionTesting').resolve()\n",
    "programmatic_display_function_outputs_df, programmatic_display_function_outputs_tuples, csv_out_path = ProgrammaticDisplayFunctionTestingFolderImageLoading.parse_ProgrammaticDisplayFunctionTesting_image_folder(programmatic_display_function_testing_path=programmatic_display_function_testing_path)\n",
    "programmatic_display_function_outputs_df\n",
    "csv_out_path\n"
   ]
  },
  {
   "cell_type": "code",
   "execution_count": null,
   "metadata": {},
   "outputs": [],
   "source": [
    "_flattened_context_path_dict"
   ]
  },
  {
   "cell_type": "code",
   "execution_count": null,
   "metadata": {},
   "outputs": [],
   "source": [
    "# file_uri_from_path()\n"
   ]
  },
  {
   "cell_type": "code",
   "execution_count": null,
   "metadata": {},
   "outputs": [],
   "source": []
  },
  {
   "cell_type": "markdown",
   "metadata": {},
   "source": [
    "# Run Structure/Variables"
   ]
  },
  {
   "cell_type": "code",
   "execution_count": null,
   "metadata": {},
   "outputs": [],
   "source": [
    "from pyphocorehelpers.print_helpers import DocumentationFilePrinter, TypePrintMode, print_keys_if_possible\n",
    "# doc_output_parent_folder: Path = Path('EXTERNAL/DEVELOPER_NOTES/DataStructureDocumentation').resolve() # ../.\n",
    "doc_output_parent_folder: Path = Path(r'C:/Users/pho/repos/Spike3DWorkEnv/Spike3D/EXTERNAL/DEVELOPER_NOTES/DataStructureDocumentation').resolve() # ../.\n",
    "print(f\"doc_output_parent_folder: {doc_output_parent_folder}\")\n",
    "assert doc_output_parent_folder.exists()\n",
    "\n",
    "\n",
    "## Document `compute_and_export_session_alternative_replay_wcorr_shuffles_completion_function_results`\n",
    "doc_printer = DocumentationFilePrinter(doc_output_parent_folder=doc_output_parent_folder, doc_name='_context_run_structure_dict')\n",
    "doc_printer.save_documentation('_context_run_structure_dict', _context_run_structure_dict)"
   ]
  },
  {
   "cell_type": "code",
   "execution_count": null,
   "metadata": {},
   "outputs": [],
   "source": [
    "_context_run_structure_dict = neptune_run_collected_results.get_resolved_structure()\n",
    "_context_run_structure_dict\n",
    "\n"
   ]
  },
  {
   "cell_type": "markdown",
   "metadata": {},
   "source": [
    "# Log Viewer Widget"
   ]
  },
  {
   "cell_type": "code",
   "execution_count": null,
   "metadata": {},
   "outputs": [],
   "source": [
    "_context_log_files_dict = neptune_run_collected_results.download_uploaded_log_files(neptune_logs_output_path=neptune_logs_output_path)\n",
    "_context_log_files_dict"
   ]
  },
  {
   "cell_type": "code",
   "execution_count": null,
   "metadata": {},
   "outputs": [],
   "source": [
    "most_recent_runs_table_df['final_log_file_path']\n"
   ]
  },
  {
   "cell_type": "code",
   "execution_count": null,
   "metadata": {},
   "outputs": [],
   "source": [
    "## INPUTS: context_indexed_run_logs, neptune_logs_output_path\n",
    "## OUTPUT: _out_log_paths\n",
    "neptune_logs_output_path = neptune_project_output_path.joinpath('logs').resolve()\n",
    "neptune_logs_output_path.mkdir(exist_ok=True, parents=True)\n",
    "_out_log_paths = neptune_run_collected_results._perform_export_log_files_to_separate_files(context_indexed_run_logs=context_indexed_run_logs, neptune_logs_output_path=neptune_logs_output_path)\n",
    "_out_log_paths"
   ]
  },
  {
   "cell_type": "code",
   "execution_count": null,
   "metadata": {},
   "outputs": [],
   "source": [
    "_out_log_paths"
   ]
  },
  {
   "cell_type": "code",
   "execution_count": null,
   "metadata": {},
   "outputs": [],
   "source": [
    "# Call the function to build and display the interactive session display\n",
    "interactive_layout = Neptuner.build_interactive_session_run_logs_widget(context_indexed_run_logs, most_recent_runs_session_descriptor_string_to_context_map, most_recent_runs_context_indexed_run_extra_data)\n",
    "display(interactive_layout)"
   ]
  },
  {
   "cell_type": "code",
   "execution_count": null,
   "metadata": {},
   "outputs": [],
   "source": [
    "# does not trigger change:\n",
    "# .on_node_selected(change: {'name': 'selected', 'old': True, 'new': False, 'owner': Node(name='11-02_17-46-44'), 'type': 'change'})\n",
    "# .on_node_selected(change: {'name': 'selected', 'old': False, 'new': True, 'owner': Node(name='fet11-01_12-58-54', selected=True), 'type': 'change'})\n",
    "# Selected context: {'format_name': 'kdiba', 'animal': 'pin01', 'exper_name': 'one', 'session_name': 'fet11-01_12-58-54'}\n"
   ]
  },
  {
   "cell_type": "code",
   "execution_count": null,
   "metadata": {},
   "outputs": [],
   "source": [
    "empty_session_tuple = {\n",
    "    'format_name': '',\n",
    "    'animal': '',\n",
    "    'exper_name': '',\n",
    "    'session_name': '',\n",
    "    'session_descriptor_string': '',\n",
    "    'id': '<Selection Not Found>',\n",
    "    'hostname': '',\n",
    "    'creation_time': '',\n",
    "    'running_time': '',\n",
    "    'ping_time': '',\n",
    "    'monitoring_time': '',\n",
    "    'size': '',\n",
    "    'tags': '',\n",
    "    'entrypoint': ''\n",
    "}\n",
    "\n",
    "print(list(empty_session_tuple.keys())) # ['format_name', 'animal', 'exper_name', 'session_name', 'session_descriptor_string', 'id', 'hostname', 'creation_time', 'running_time', 'ping_time', 'monitoring_time', 'size', 'tags', 'entrypoint']\n",
    "display_session_extra_data_keys = ['id', 'hostname', 'creation_time', 'running_time', 'ping_time', 'monitoring_time', 'size', 'tags', 'entrypoint']\n",
    "\n",
    "# hostname: gl3126.arc-ts.umich.edu\n",
    "# creation_time: 2024-08-29 16:47:55.150000\n",
    "# running_time: 8512.876\n",
    "# ping_time: 2024-09-24 08:38:06.349000\n",
    "# monitoring_time: 1291\n",
    "# size: 24744223.0\n",
    "# tags: one,kdiba,11-02_19-28-0,pin01\n",
    "# entrypoint: figures_kdiba_pin01_one_11-02_19-28-0.py\n",
    "\n"
   ]
  },
  {
   "cell_type": "code",
   "execution_count": null,
   "metadata": {
    "tags": []
   },
   "outputs": [],
   "source": [
    "from pandas import Timestamp\n",
    "import ipywidgets as widgets\n",
    "from IPython.display import display\n",
    "from pyphocorehelpers.gui.Jupyter.TreeWidget import JupyterTreeWidget\n",
    "\n",
    "## INPUTS: context_indexed_run_logs, most_recent_runs_session_descriptor_string_to_context_map, header_hbox\n",
    "\n",
    "# Tree Widget ________________________________________________________________________________________________________ #\n",
    "included_session_contexts: List[IdentifyingContext] = list(most_recent_runs_session_descriptor_string_to_context_map.values())\n",
    "jupyter_tree_widget = JupyterTreeWidget(included_session_contexts=included_session_contexts,\n",
    "                                        on_selection_changed_callbacks=[],\n",
    "                                        display_on_init=False)\n",
    "# type(jupyter_tree_widget.tree) # ipytree.tree.Tree\n",
    "\n",
    "# Set a layout for the tree to prevent it from being cut off\n",
    "jupyter_tree_widget.tree.layout = widgets.Layout(min_width='200px', max_width='600px', overflow='auto', height='auto')\n",
    "\n",
    "# Content Widget _____________________________________________________________________________________________________ #\n",
    "def build_session_tuple_header_widget(a_session_tuple: Tuple):\n",
    "    # Create widgets for each key-value pair\n",
    "    # widgets_list = [widgets.Label(f\"{key}: {value}\") for key, value in a_session_tuple.items()]\n",
    "    \n",
    "    # Create a dictionary to hold the label widgets\n",
    "    header_label_widgets = {key: widgets.Label(f\"{key}: '{value}',\") for key, value in a_session_tuple.items()}\n",
    "\n",
    "    # Horizontally stack the label widgets\n",
    "    # header_hbox = widgets.HBox(list(header_label_widgets.values()), layout=widgets.Layout(min_width='400px', min_height='50px', width='auto', height='auto')) # , overflow='auto'\n",
    "    \n",
    "    # Define a layout that enables wrapping\n",
    "    box_layout = widgets.Layout(\n",
    "        display='flex',\n",
    "        flex_flow='row wrap',\n",
    "        align_items='stretch',\n",
    "        width='100%'\n",
    "    )\n",
    "\n",
    "    # Create a Box with the custom layout\n",
    "    header_hbox = widgets.Box(list(header_label_widgets.values()), layout=box_layout)\n",
    "\n",
    "\n",
    "    # Function to update the values in the labels\n",
    "    def update_header_labels_fn(new_values):\n",
    "        \"\"\" captures: label_widgets\"\"\"\n",
    "        for key, value in new_values.items():\n",
    "            header_label_widgets[key].value = f\"{key}: {value}\"\n",
    "            \n",
    "    # Display the widget\n",
    "    return header_hbox, header_label_widgets, update_header_labels_fn\n",
    "\n",
    "\n",
    "# Example SessionTuple\n",
    "empty_session_tuple = {\n",
    "    'format_name': '',\n",
    "    'animal': '',\n",
    "    'exper_name': '',\n",
    "    'session_name': '',\n",
    "    'session_descriptor_string': '',\n",
    "    'id': '<Selection Not Found>',\n",
    "    'hostname': '',\n",
    "    'creation_time': '',\n",
    "    'running_time': '',\n",
    "    'ping_time': '',\n",
    "    'monitoring_time': '',\n",
    "    'size': '',\n",
    "    'tags': '',\n",
    "    'entrypoint': ''\n",
    "}\n",
    "\n",
    "header_hbox, header_label_widgets, update_header_labels_fn = build_session_tuple_header_widget(a_session_tuple=empty_session_tuple)\n",
    "\n",
    "# Create Textarea widget with a defined width\n",
    "textarea = widgets.Textarea(value='<No Selection>',\n",
    "    disabled=True,  # Make it read-only\n",
    "    style={'font_size': '10px'},  # Smaller font size\n",
    "    layout=widgets.Layout(flex='1', width='650px', min_height='650px',\n",
    "                        height='850px',\n",
    "                        ))\n",
    "\n",
    "content_view_layout = widgets.VBox([header_hbox, textarea], layout=widgets.Layout(min_width='500px', min_height='200px', width='auto', height='auto')) # INPUTS: header_hbox\n",
    "\n",
    "# Layout widgets side by side with proper spacing\n",
    "layout = widgets.HBox([jupyter_tree_widget.tree, content_view_layout], layout=widgets.Layout(min_width='500px', min_height='100px', width='auto', height='auto'))\n",
    "\n",
    "\n",
    "def _on_tree_node_selection_changed(selected_node, selected_context):\n",
    "    \"\"\" \n",
    "    captures: context_indexed_run_logs, textarea, most_recent_runs_context_indexed_run_extra_data, empty_session_tuple, update_header_labels_fn\n",
    "    \"\"\"\n",
    "    print(f'_on_tree_node_selection_changed(selected_node: {selected_node}, selected_context: {selected_context})') # Selected context: {'format_name': 'kdiba', 'animal': 'pin01', 'exper_name': 'one', 'session_name': 'fet11-01_12-58-54'}\n",
    "    #_on_tree_node_selection_changed(selected_node: Node(name='fet11-01_12-58-54', selected=True), selected_context: {'format_name': 'kdiba', 'animal': 'pin01', 'exper_name': 'one', 'session_name': 'fet11-01_12-58-54'})\n",
    "    if isinstance(selected_context, dict):\n",
    "        selected_context = IdentifyingContext(**selected_context)\n",
    "    \n",
    "    curr_context_extra_data_tuple = most_recent_runs_context_indexed_run_extra_data.get(selected_context, empty_session_tuple)\n",
    "    update_header_labels_fn(curr_context_extra_data_tuple)\n",
    "    curr_context_run_log: str = context_indexed_run_logs.get(selected_context, '<Context Not Found>')\n",
    "    textarea.value = curr_context_run_log\n",
    "\n",
    "jupyter_tree_widget.on_selection_changed_callback = [_on_tree_node_selection_changed]\n",
    "# Display the layout\n",
    "layout\n"
   ]
  },
  {
   "cell_type": "code",
   "execution_count": null,
   "metadata": {},
   "outputs": [],
   "source": [
    "\n",
    "\n",
    "text_area = widgets.Textarea(\n",
    "    value='<No Selection>',\n",
    "    disabled=True,  # Make it read-only\n",
    "    layout=widgets.Layout(width='100%', height='400px')  # Scrollable area\n",
    ")\n",
    "\n",
    "combined_widget = widgets.HBox([jupyter_tree_widget.tree, text_area])\n",
    "combined_widget\n",
    "# log_viewer = create_log_viewer(logs=run_logs)\n",
    "# display(log_viewer)\n"
   ]
  },
  {
   "cell_type": "code",
   "execution_count": null,
   "metadata": {},
   "outputs": [],
   "source": [
    "parsed_structure = run.get_parsed_structure()\n",
    "parsed_structure"
   ]
  },
  {
   "cell_type": "code",
   "execution_count": null,
   "metadata": {},
   "outputs": [],
   "source": [
    "import regions\n",
    "(parsed_structure['monitoring'])\n"
   ]
  },
  {
   "cell_type": "code",
   "execution_count": null,
   "metadata": {},
   "outputs": [],
   "source": [
    "for run_id, a_log in run_logs.items():\n",
    "    print(\"# ==================================================================================================================== #\")\n",
    "    print(f\"# run_id: {run_id}                                                                                                     #\")\n",
    "    print(\"# ==================================================================================================================== #\")    \n",
    "    # print(f'run_id: {run_id} =================')\n",
    "    # print(f\"# run_id: {run_id:<100} #\")\n",
    "    print(a_log)\n",
    "    print(\"# END LOG ____________________________________________________________________________________________________________ #\")\n",
    "    \n"
   ]
  },
  {
   "cell_type": "markdown",
   "metadata": {},
   "source": [
    "Calling `run.print_structure()` produces the following output:\n",
    "```python\n",
    "'animal': String\n",
    "'exper_name': String\n",
    "'format_name': String\n",
    "'monitoring':\n",
    "    '5f739afe':\n",
    "        'hostname': String\n",
    "        'pid': String\n",
    "        'tid': String\n",
    "    'be28f54f':\n",
    "        'cpu': FloatSeries\n",
    "        'hostname': String\n",
    "        'memory': FloatSeries\n",
    "        'pid': String\n",
    "        'stderr': StringSeries\n",
    "        'stdout': StringSeries\n",
    "        'tid': String\n",
    "'outputs':\n",
    "    'figures':\n",
    "        'display_fn_name:BatchPhoJonathanReplayFRC':\n",
    "            'plot_result_set:long_only':\n",
    "                'aclus:(16,19,6,31,10)': File\n",
    "                'aclus:(6,10,16,19,31)': File\n",
    "            'plot_result_set:shared':\n",
    "                'page:1of2':\n",
    "                    'aclus:(26,20,29,18,3,4,7,32,13,11,12,2,30,15,9,28,22,14,21,25)': File\n",
    "                'page:1of3':\n",
    "                    'aclus:(2,3,4,5,7,8,9,11,12,13)': File\n",
    "                'page:2of2':\n",
    "                    'aclus:(5,8,17,23,27)': File\n",
    "                'page:2of3':\n",
    "                    'aclus:(14,15,17,18,20,21,22,23,25,26)': File\n",
    "                'page:3of3':\n",
    "                    'aclus:(27,28,29,30,32)': File\n",
    "            'plot_result_set:short_only':\n",
    "                'aclus:(24)': File\n",
    "        'display_fn_name:_display_grid_bin_bounds_validation': File\n",
    "        'display_fn_name:bidir_track_remap':\n",
    "            'subplot_name:Track Remapping': File\n",
    "        'display_fn_name:display_long_short_laps': File\n",
    "        'display_fn_name:display_short_long_pf1D_comparison':\n",
    "            'track:long': File\n",
    "            'track:short': File\n",
    "        'display_fn_name:plot_all_epoch_bins_marginal_predictions':\n",
    "            'subplot_name:Laps all_epoch_binned Marginals': File\n",
    "            'subplot_name:Ripple all_epoch_binned Marginals': File\n",
    "        'display_fn_name:plot_expected_vs_observed':\n",
    "            'x_variable:epoch_idx':\n",
    "                'variable:obs_exp_diff_ptp': File\n",
    "        'display_fn_name:plot_histograms':\n",
    "            'subplot_name:laps_result_tuple': File\n",
    "            'subplot_name:ripple_result_tuple': File\n",
    "        'display_fn_name:plot_quantile_diffs':\n",
    "            'subplot_name:BestDir': File\n",
    "        'display_fn_name:plot_rank_order_epoch_inst_fr_result_tuples':\n",
    "            'subplot_name:Lap':\n",
    "                'subplotsubplot_name:raw': File\n",
    "                'subplotsubplot_name:z_score_diff': File\n",
    "            'subplot_name:Ripple':\n",
    "                'subplotsubplot_name:raw': File\n",
    "                'subplotsubplot_name:z_score_diff': File\n",
    "        'display_fn_name:plot_rank_order_histograms':\n",
    "            'subplot_name:Ripple Most-likely Spearman Rho': File\n",
    "            'subplot_name:Ripple Most-likely Z-scores': File\n",
    "            'subplot_name:Ripple Z-scores': File\n",
    "            'subplot_name:Ripple real correlations': File\n",
    "        'display_fn_name:running_and_replay_speeds_over_time': File\n",
    "        'filter_name:maze1_any':\n",
    "            'lap_dir:any':\n",
    "                'display_fn_name:1d_placefields': File\n",
    "                'display_fn_name:_display_1d_placefield_validations': File\n",
    "                'display_fn_name:_display_2d_placefield_result_plot_ratemaps_2D': File\n",
    "                'display_fn_name:plot_occupancy':\n",
    "                    'plot_variable:OCCUPANCY': File\n",
    "                'display_fn_name:plot_single_track_firing_rate_compare': File\n",
    "        'filter_name:maze1_even':\n",
    "            'lap_dir:even':\n",
    "                'display_fn_name:1d_placefields': File\n",
    "                'display_fn_name:_display_1d_placefield_validations': File\n",
    "                'display_fn_name:_display_2d_placefield_result_plot_ratemaps_2D': File\n",
    "                'display_fn_name:plot_occupancy':\n",
    "                    'plot_variable:OCCUPANCY': File\n",
    "        'filter_name:maze1_odd':\n",
    "            'lap_dir:odd':\n",
    "                'display_fn_name:1d_placefields': File\n",
    "                'display_fn_name:_display_1d_placefield_validations': File\n",
    "                'display_fn_name:_display_2d_placefield_result_plot_ratemaps_2D': File\n",
    "                'display_fn_name:plot_occupancy':\n",
    "                    'plot_variable:OCCUPANCY': File\n",
    "        'filter_name:maze2_any':\n",
    "            'lap_dir:any':\n",
    "                'display_fn_name:1d_placefields': File\n",
    "                'display_fn_name:_display_1d_placefield_validations': File\n",
    "                'display_fn_name:_display_2d_placefield_result_plot_ratemaps_2D': File\n",
    "                'display_fn_name:plot_occupancy':\n",
    "                    'plot_variable:OCCUPANCY': File\n",
    "                'display_fn_name:plot_single_track_firing_rate_compare': File\n",
    "        'filter_name:maze2_even':\n",
    "            'lap_dir:even':\n",
    "                'display_fn_name:1d_placefields': File\n",
    "                'display_fn_name:_display_1d_placefield_validations': File\n",
    "                'display_fn_name:_display_2d_placefield_result_plot_ratemaps_2D': File\n",
    "                'display_fn_name:plot_occupancy':\n",
    "                    'plot_variable:OCCUPANCY': File\n",
    "        'filter_name:maze2_odd':\n",
    "            'lap_dir:odd':\n",
    "                'display_fn_name:1d_placefields': File\n",
    "                'display_fn_name:_display_1d_placefield_validations': File\n",
    "                'display_fn_name:_display_2d_placefield_result_plot_ratemaps_2D': File\n",
    "                'display_fn_name:plot_occupancy':\n",
    "                    'plot_variable:OCCUPANCY': File\n",
    "        'filter_name:maze_any':\n",
    "            'lap_dir:any':\n",
    "                'display_fn_name:1d_placefields': File\n",
    "                'display_fn_name:_display_1d_placefield_validations': File\n",
    "                'display_fn_name:_display_2d_placefield_result_plot_ratemaps_2D': File\n",
    "                'display_fn_name:plot_occupancy':\n",
    "                    'plot_variable:OCCUPANCY': File\n",
    "        'filter_name:maze_even':\n",
    "            'lap_dir:even':\n",
    "                'display_fn_name:1d_placefields': File\n",
    "                'display_fn_name:_display_1d_placefield_validations': File\n",
    "                'display_fn_name:_display_2d_placefield_result_plot_ratemaps_2D': File\n",
    "                'display_fn_name:plot_occupancy':\n",
    "                    'plot_variable:OCCUPANCY': File\n",
    "        'filter_name:maze_odd':\n",
    "            'lap_dir:odd':\n",
    "                'display_fn_name:1d_placefields': File\n",
    "                'display_fn_name:_display_1d_placefield_validations': File\n",
    "                'display_fn_name:_display_2d_placefield_result_plot_ratemaps_2D': File\n",
    "                'display_fn_name:plot_occupancy':\n",
    "                    'plot_variable:OCCUPANCY': File\n",
    "        'fn_name:long_short_firing_rate_indicies':\n",
    "            'display_fn_name:display_long_short_laps': File\n",
    "'session_descriptor_string': String\n",
    "'session_name': String\n",
    "'source_code':\n",
    "    'diff': File\n",
    "    'entrypoint': String\n",
    "'sys':\n",
    "    'creation_time': Datetime\n",
    "    'description': String\n",
    "    'failed': Boolean\n",
    "    'group_tags': StringSet\n",
    "    'hostname': String\n",
    "    'id': String\n",
    "    'modification_time': Datetime\n",
    "    'monitoring_time': Integer\n",
    "    'name': String\n",
    "    'owner': String\n",
    "    'ping_time': Datetime\n",
    "    'running_time': Float\n",
    "    'size': Float\n",
    "    'state': RunState\n",
    "    'tags': StringSet\n",
    "    'trashed': Boolean\n",
    "```\n",
    "How can I capture this printed output (printed to stdout I think) and then parse it into a tree-like structure made of nested-dictionaries to be able to figure out the available structure?"
   ]
  },
  {
   "cell_type": "code",
   "execution_count": null,
   "metadata": {},
   "outputs": [],
   "source": [
    "# Fetch all experiments\n",
    "experiments = neptuner.project.fetch_experiments_table().to_pandas()\n",
    "experiments"
   ]
  },
  {
   "cell_type": "code",
   "execution_count": null,
   "metadata": {},
   "outputs": [],
   "source": [
    "# Initialize the neptune client\n",
    "# neptune.init(project=neptune_kwargs['project'], api_token=neptune_kwargs['api_token'])\n",
    "\n",
    "# project = neptune.get_project()\n",
    "# project"
   ]
  },
  {
   "cell_type": "code",
   "execution_count": null,
   "metadata": {},
   "outputs": [],
   "source": [
    "\n",
    "\n",
    "if neptuner.run is None:\n",
    "    neptuner.run = AutoValueConvertingNeptuneRun(project=neptuner.project_name, api_token=neptuner.api_token, dependencies=\"infer\", source_files=[notebook_filepath])\n",
    "    params = {\"TODAY_DAY_DATE\": TODAY_DAY_DATE, \"run_workstation\": \"Apogee\"}\n",
    "    neptuner.run[\"parameters\"] = params\n",
    "    neptuner.outputs = neptuner.run['outputs']\n",
    "    neptuner.figures = neptuner.outputs['figures']\n",
    "\n",
    "neptuner_run: AutoValueConvertingNeptuneRun = neptuner.run\n",
    "\n",
    "# run = neptune.init_run(source_files=[\"**/*.dvc\"])\n",
    "\n",
    "# # Pre-execution dataframe view:\n",
    "# run[\"dataset/global_batch_run_progress_df\"].upload(File.as_html(global_batch_run.to_dataframe(expand_context=True, good_only=False))) # \"path/to/test_preds.csv\"\n",
    "\n",
    "\n",
    "\n",
    "known_bad_sessions = [IdentifyingContext(format_name='kdiba',animal='pin01',exper_name='one',session_name='11-02_17-46-44')]\n",
    "known_bad_session_strs = [str(v.get_description()) for v in known_bad_sessions]\n",
    "known_bad_session_strs"
   ]
  },
  {
   "cell_type": "code",
   "execution_count": null,
   "metadata": {},
   "outputs": [],
   "source": [
    "from pyphocorehelpers.gui.Qt.testLogFileViewer import LogViewerWidget\n",
    "\n",
    "# Call the function to build and display the interactive session display\n",
    "# interactive_layout = Neptuner.build_interactive_session_run_logs_widget(context_indexed_run_logs, most_recent_runs_session_descriptor_string_to_context_map, most_recent_runs_context_indexed_run_extra_data)\n",
    "# display(interactive_layout)\n",
    "\n",
    "# Instantiate the widget\n",
    "viewer = LogViewerWidget(context_indexed_run_logs, most_recent_runs_session_descriptor_string_to_context_map, most_recent_runs_context_indexed_run_extra_data)\n",
    "\n",
    "# Set window title or other properties if needed\n",
    "viewer.setWindowTitle('Session Log Viewer')\n",
    "\n",
    "# Show the widget\n",
    "viewer.show()"
   ]
  },
  {
   "cell_type": "code",
   "execution_count": null,
   "metadata": {},
   "outputs": [],
   "source": []
  }
 ],
 "metadata": {
  "kernelspec": {
   "display_name": "Python 3 (ipykernel)",
   "language": "python",
   "name": "python3"
  },
  "language_info": {
   "codemirror_mode": {
    "name": "ipython",
    "version": 3
   },
   "file_extension": ".py",
   "mimetype": "text/x-python",
   "name": "python",
   "nbconvert_exporter": "python",
   "pygments_lexer": "ipython3",
   "version": "3.9.19"
  }
 },
 "nbformat": 4,
 "nbformat_minor": 4
}
