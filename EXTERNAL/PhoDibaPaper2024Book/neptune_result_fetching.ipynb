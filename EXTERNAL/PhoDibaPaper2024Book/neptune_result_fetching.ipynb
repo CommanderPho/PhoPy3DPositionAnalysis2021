{
 "cells": [
  {
   "cell_type": "markdown",
   "metadata": {
    "vscode": {
     "languageId": "plaintext"
    }
   },
   "source": [
    "# Neptune Result Fetching Notebook"
   ]
  },
  {
   "cell_type": "code",
   "execution_count": 1,
   "metadata": {
    "tags": []
   },
   "outputs": [
    {
     "name": "stdout",
     "output_type": "stream",
     "text": [
      "Automatic pdb calling has been turned OFF\n",
      "TODAY_DAY_DATE: 2024-09-24_Apogee\n",
      "[neptune] [info   ] Neptune initialized. Open in the app: https://app.neptune.ai/commander.pho/PhoDibaLongShortUpdated/\n"
     ]
    }
   ],
   "source": [
    "%config IPCompleter.use_jedi = False\n",
    "%pdb off\n",
    "%load_ext autoreload\n",
    "%autoreload 3\n",
    "\n",
    "# required to enable non-blocking interaction:\n",
    "%gui qt5\n",
    "\n",
    "# import ipywidgets as widgets\n",
    "# widgets.Widget.control_comm_live = False\n",
    "\n",
    "import sys\n",
    "from copy import deepcopy\n",
    "from typing import Dict, List, Tuple, Optional, Callable, Union, Any\n",
    "from typing_extensions import TypeAlias\n",
    "from neuropy.utils.result_context import IdentifyingContext\n",
    "from nptyping import NDArray\n",
    "import neuropy.utils.type_aliases as types\n",
    "from collections import defaultdict\n",
    "\n",
    "import numpy as np\n",
    "import pandas as pd\n",
    "import re\n",
    "from pathlib import Path\n",
    "from datetime import datetime\n",
    "\n",
    "from neuropy.utils.indexing_helpers import PandasHelpers\n",
    "from pyphocorehelpers.indexing_helpers import partition_df\n",
    "# Set the maximum number of columns to display\n",
    "pd.set_option('display.max_columns', 100)\n",
    "\n",
    "import IPython\n",
    "from pyphocorehelpers.programming_helpers import IPythonHelpers\n",
    "from pyphocorehelpers.notebook_helpers import NotebookCellExecutionLogger\n",
    "from pyphocorehelpers.assertion_helpers import Assert\n",
    "\n",
    "# Jupyter-lab enable printing for any line on its own (instead of just the last one in the cell)\n",
    "from IPython.core.interactiveshell import InteractiveShell\n",
    "InteractiveShell.ast_node_interactivity = \"all\"\n",
    "\n",
    "# _notebook_path:Path = Path(IPythonHelpers.try_find_notebook_filepath(IPython.extract_module_locals())).resolve() # Finds the path of THIS notebook\n",
    "\n",
    "# Plotting\n",
    "# import pylustrator # customization of figures\n",
    "import matplotlib\n",
    "import matplotlib as mpl\n",
    "import matplotlib.pyplot as plt\n",
    "_bak_rcParams = mpl.rcParams.copy()\n",
    "\n",
    "matplotlib.use('Qt5Agg')\n",
    "\n",
    "# Switch to the desired interactivity mode\n",
    "plt.interactive(True)\n",
    "\n",
    "import seaborn as sns\n",
    "\n",
    "import plotly.express as px\n",
    "import plotly.graph_objects as go\n",
    "from plotly.subplots import make_subplots\n",
    "import plotly.io as pio\n",
    "template: str = 'plotly_dark' # set plotl template\n",
    "pio.templates.default = template\n",
    "from pyphocorehelpers.plotting.media_output_helpers import fig_to_clipboard\n",
    "from pyphocorehelpers.Filesystem.path_helpers import file_uri_from_path, sanitize_filename_for_Windows\n",
    "from pyphocorehelpers.gui.Jupyter.simple_widgets import fullwidth_path_widget, simple_path_display_widget\n",
    "from pyphoplacecellanalysis.Pho2D.plotly.Extensions.plotly_helpers import plotly_helper_save_figures, _helper_build_figure, plotly_pre_post_delta_scatter, plot_across_sessions_scatter_results\n",
    "from pyphocorehelpers.assertion_helpers import Assert\n",
    "\n",
    "# from ..PendingNotebookCode import plot_across_sessions_scatter_results, plot_histograms, plot_stacked_histograms\n",
    "from pyphocorehelpers.Filesystem.path_helpers import find_first_extant_path\n",
    "from pyphoplacecellanalysis.SpecificResults.AcrossSessionResults import find_csv_files, find_HDF5_files, find_most_recent_files\n",
    "from pyphoplacecellanalysis.Pho2D.statistics_plotting_helpers import plot_histograms_across_sessions, plot_histograms, plot_stacked_histograms\n",
    "\n",
    "from pyphoplacecellanalysis.General.Pipeline.Stages.ComputationFunctions.MultiContextComputationFunctions.DirectionalPlacefieldGlobalComputationFunctions import DecoderDecodedEpochsResult\n",
    "from pyphoplacecellanalysis.SpecificResults.AcrossSessionResults import load_across_sessions_exported_files, _process_and_load_exported_file, _common_cleanup_operations\n",
    "\n",
    "from pyphocorehelpers.programming_helpers import metadata_attributes\n",
    "from pyphocorehelpers.function_helpers import function_attributes\n",
    "\n",
    "from pyphoplacecellanalysis.SpecificResults.AcrossSessionResults import build_session_t_delta, _new_process_csv_files, _old_process_csv_files\n",
    "\n",
    "debug_print: bool = False\n",
    "\n",
    "_TODAY_DAY_ONLY_DATE: str = \"2024-09-24\"\n",
    "TODAY_DAY_DATE: str = f\"{_TODAY_DAY_ONLY_DATE}_Apogee\"\n",
    "# TODAY_DAY_DATE: str = f\"{_TODAY_DAY_ONLY_DATE}_GL\"\n",
    "# TODAY_DAY_DATE: str = f\"{_TODAY_DAY_ONLY_DATE}_Lab\"\n",
    "# TODAY_DAY_DATE: str = f\"{_TODAY_DAY_ONLY_DATE}_rMBP\"\n",
    "\n",
    "print(f'TODAY_DAY_DATE: {TODAY_DAY_DATE}')\n",
    "\n",
    "types.session_str: TypeAlias = str # a unique session identifier\n",
    "\n",
    "import neptune # for logging progress and results\n",
    "from neptune.types import File\n",
    "from pyphoplacecellanalysis.General.Batch.NeptuneAiHelpers import Neptuner, AutoValueConvertingNeptuneRun, set_environment_variables, SessionDescriptorString, RunID, NeptuneRunCollectedResults\n",
    "\n",
    "## Gets the notebook filepath for Neptune:\n",
    "import IPython\n",
    "from pyphocorehelpers.programming_helpers import IPythonHelpers\n",
    "# notebook_filepath: str = IPythonHelpers.try_find_notebook_filepath(IPython.extract_module_locals())\n",
    "# assert Path(notebook_filepath).resolve().exists(), f\"found notebook filepath: '{notebook_filepath}' does not exist\"\n",
    "# notebook_filepath\n",
    "\n",
    "neptune_kwargs = {'project':\"commander.pho/PhoDibaLongShortUpdated\",\n",
    "'api_token':\"eyJhcGlfYWRkcmVzcyI6Imh0dHBzOi8vYXBwLm5lcHR1bmUuYWkiLCJhcGlfdXJsIjoiaHR0cHM6Ly9hcHAubmVwdHVuZS5haSIsImFwaV9rZXkiOiIxOGIxODU2My1lZTNhLTQ2ZWMtOTkzNS02ZTRmNzM5YmNjNjIifQ==\"}\n",
    "        \n",
    "neptuner = Neptuner(project_name=neptune_kwargs['project'], api_token=neptune_kwargs['api_token'])\n",
    "# neptuner\n",
    "# neptuner.project"
   ]
  },
  {
   "cell_type": "code",
   "execution_count": 2,
   "metadata": {
    "tags": []
   },
   "outputs": [
    {
     "data": {
      "application/vnd.jupyter.widget-view+json": {
       "model_id": "0ddeccfdc73d451cadaef504acd4564d",
       "version_major": 2,
       "version_minor": 0
      },
      "text/plain": [
       "Fetching table...: 0 [00:00, ?/s]"
      ]
     },
     "metadata": {},
     "output_type": "display_data"
    },
    {
     "name": "stdout",
     "output_type": "stream",
     "text": [
      "[neptune] [info   ] Neptune initialized. Open in the app: https://app.neptune.ai/commander.pho/PhoDibaLongShortUpdated/e/LS2023-1337\n",
      "[neptune] [info   ] Neptune initialized. Open in the app: https://app.neptune.ai/commander.pho/PhoDibaLongShortUpdated/e/LS2023-1336\n",
      "[neptune] [info   ] Neptune initialized. Open in the app: https://app.neptune.ai/commander.pho/PhoDibaLongShortUpdated/e/LS2023-1335\n",
      "[neptune] [info   ] Neptune initialized. Open in the app: https://app.neptune.ai/commander.pho/PhoDibaLongShortUpdated/e/LS2023-1334\n",
      "[neptune] [info   ] Neptune initialized. Open in the app: https://app.neptune.ai/commander.pho/PhoDibaLongShortUpdated/e/LS2023-1333\n",
      "[neptune] [info   ] Neptune initialized. Open in the app: https://app.neptune.ai/commander.pho/PhoDibaLongShortUpdated/e/LS2023-1332\n",
      "[neptune] [info   ] Neptune initialized. Open in the app: https://app.neptune.ai/commander.pho/PhoDibaLongShortUpdated/e/LS2023-1331\n",
      "[neptune] [info   ] Neptune initialized. Open in the app: https://app.neptune.ai/commander.pho/PhoDibaLongShortUpdated/e/LS2023-1330\n",
      "[neptune] [info   ] Neptune initialized. Open in the app: https://app.neptune.ai/commander.pho/PhoDibaLongShortUpdated/e/LS2023-1329\n",
      "[neptune] [info   ] Neptune initialized. Open in the app: https://app.neptune.ai/commander.pho/PhoDibaLongShortUpdated/e/LS2023-1328\n",
      "[neptune] [info   ] Neptune initialized. Open in the app: https://app.neptune.ai/commander.pho/PhoDibaLongShortUpdated/e/LS2023-1326\n",
      "[neptune] [info   ] Neptune initialized. Open in the app: https://app.neptune.ai/commander.pho/PhoDibaLongShortUpdated/e/LS2023-1344\n",
      "[neptune] [info   ] Neptune initialized. Open in the app: https://app.neptune.ai/commander.pho/PhoDibaLongShortUpdated/e/LS2023-1343\n",
      "[neptune] [info   ] Neptune initialized. Open in the app: https://app.neptune.ai/commander.pho/PhoDibaLongShortUpdated/e/LS2023-1342\n",
      "[neptune] [info   ] Neptune initialized. Open in the app: https://app.neptune.ai/commander.pho/PhoDibaLongShortUpdated/e/LS2023-1339\n",
      "[neptune] [info   ] Neptune initialized. Open in the app: https://app.neptune.ai/commander.pho/PhoDibaLongShortUpdated/e/LS2023-1338\n",
      "Failed to fetch figures for run LS2023-1344: monitoring_log_key was not found\n",
      "Failed to fetch figures for run LS2023-1339: monitoring_log_key was not found\n"
     ]
    },
    {
     "data": {
      "text/plain": [
       "<pyphoplacecellanalysis.General.Batch.NeptuneAiHelpers.NeptuneRunCollectedResults at 0x212c3120d30>"
      ]
     },
     "execution_count": 2,
     "metadata": {},
     "output_type": "execute_result"
    }
   ],
   "source": [
    "# runs_dict, most_recent_runs_table_df, original_column_names_map = neptuner.get_most_recent_session_runs(oldest_included_run_date='2024-09-22', n_recent_results=1)\n",
    "# runs_dict, most_recent_runs_table_df, original_column_names_map = neptuner.get_most_recent_session_runs(oldest_included_run_date='2024-09-20', n_recent_results=3)\n",
    "neptune_run_collected_results: NeptuneRunCollectedResults = neptuner.get_most_recent_session_runs(oldest_included_run_date='2024-09-20', n_recent_results=3)\n",
    "neptune_run_collected_results\n",
    "# runs_dict, most_recent_runs_table_df = neptuner.get_most_recent_session_runs(oldest_included_run_date='2024-06-01', n_recent_results=2)\n",
    "# most_recent_runs_table_df"
   ]
  },
  {
   "cell_type": "code",
   "execution_count": null,
   "metadata": {},
   "outputs": [],
   "source": [
    "runs_dict\n",
    "# most_recent_runs_table_df"
   ]
  },
  {
   "cell_type": "code",
   "execution_count": 40,
   "metadata": {},
   "outputs": [
    {
     "data": {
      "text/plain": [
       "WindowsPath('C:/Users/pho/repos/Spike3DWorkEnv/Spike3D/data/neptune')"
      ]
     },
     "execution_count": 40,
     "metadata": {},
     "output_type": "execute_result"
    },
    {
     "data": {
      "text/plain": [
       "WindowsPath('C:/Users/pho/repos/Spike3DWorkEnv/Spike3D/data/neptune/commander.pho/PhoDibaLongShortUpdated')"
      ]
     },
     "execution_count": 40,
     "metadata": {},
     "output_type": "execute_result"
    },
    {
     "data": {
      "text/plain": [
       "WindowsPath('C:/Users/pho/repos/Spike3DWorkEnv/Spike3D/data/neptune/commander.pho/PhoDibaLongShortUpdated/figs')"
      ]
     },
     "execution_count": 40,
     "metadata": {},
     "output_type": "execute_result"
    }
   ],
   "source": [
    "# neptune_root_output_path = Path('EXTERNAL/PhoDibaPaper2024Book/data/neptune').resolve()\n",
    "neptune_root_output_path = Path(r\"C:\\Users\\pho\\repos\\Spike3DWorkEnv\\Spike3D\\EXTERNAL\\PhoDibaPaper2024Book\\data\\neptune\").resolve()\n",
    "neptune_root_output_path.mkdir(exist_ok=True)\n",
    "neptune_root_output_path\n",
    "# neptune_project_output_path = neptune_root_output_path.joinpath(neptuner.project_name).resolve()\n",
    "neptune_project_output_path = neptune_root_output_path.joinpath(neptune_kwargs['project']).resolve()\n",
    "neptune_project_output_path.mkdir(exist_ok=True, parents=True)\n",
    "neptune_project_output_path\n",
    "\n",
    "neptune_project_figures_output_path = neptune_project_output_path.joinpath('figs').resolve()\n",
    "neptune_project_figures_output_path.mkdir(exist_ok=True, parents=True)\n",
    "neptune_project_figures_output_path\n"
   ]
  },
  {
   "cell_type": "code",
   "execution_count": 42,
   "metadata": {},
   "outputs": [
    {
     "data": {
      "application/vnd.jupyter.widget-view+json": {
       "model_id": "214d6652303f44af8f7f5fdd6b7f2e68",
       "version_major": 2,
       "version_minor": 0
      },
      "text/plain": [
       "Fetching file...: 0 [00:00, ?/s]"
      ]
     },
     "metadata": {},
     "output_type": "display_data"
    },
    {
     "data": {
      "application/vnd.jupyter.widget-view+json": {
       "model_id": "542267d4a3254dd199c799bec5281c24",
       "version_major": 2,
       "version_minor": 0
      },
      "text/plain": [
       "Fetching file...: 0 [00:00, ?/s]"
      ]
     },
     "metadata": {},
     "output_type": "display_data"
    },
    {
     "data": {
      "application/vnd.jupyter.widget-view+json": {
       "model_id": "516fe8b1fd944ab2972aac8f56995184",
       "version_major": 2,
       "version_minor": 0
      },
      "text/plain": [
       "Fetching file...: 0 [00:00, ?/s]"
      ]
     },
     "metadata": {},
     "output_type": "display_data"
    },
    {
     "data": {
      "application/vnd.jupyter.widget-view+json": {
       "model_id": "fe2a615931b34df4a5e6358ef7ff628f",
       "version_major": 2,
       "version_minor": 0
      },
      "text/plain": [
       "Fetching file...: 0 [00:00, ?/s]"
      ]
     },
     "metadata": {},
     "output_type": "display_data"
    },
    {
     "data": {
      "application/vnd.jupyter.widget-view+json": {
       "model_id": "ff8afbc380af4539abf09987b2d6c30d",
       "version_major": 2,
       "version_minor": 0
      },
      "text/plain": [
       "Fetching file...: 0 [00:00, ?/s]"
      ]
     },
     "metadata": {},
     "output_type": "display_data"
    },
    {
     "ename": "KeyboardInterrupt",
     "evalue": "",
     "output_type": "error",
     "traceback": [
      "\u001b[1;31m---------------------------------------------------------------------------\u001b[0m",
      "\u001b[1;31mKeyboardInterrupt\u001b[0m                         Traceback (most recent call last)",
      "Cell \u001b[1;32mIn[42], line 101\u001b[0m\n\u001b[0;32m     50\u001b[0m         \u001b[38;5;66;03m# [{'display_fn_name:_display_grid_bin_bounds_validation': <neptune.attributes.atoms.file.File at 0x212bfbd4a30>,\u001b[39;00m\n\u001b[0;32m     51\u001b[0m         \u001b[38;5;66;03m# 'display_fn_name:display_long_short_laps': <neptune.attributes.atoms.file.File at 0x212bfbd4a90>,\u001b[39;00m\n\u001b[0;32m     52\u001b[0m         \u001b[38;5;66;03m# 'filter_name:maze1_any': {'lap_dir:any': {'display_fn_name:1d_placefields': <neptune.attributes.atoms.file.File at 0x212bfbd4bb0>,\u001b[39;00m\n\u001b[1;32m   (...)\u001b[0m\n\u001b[0;32m     98\u001b[0m     \u001b[38;5;66;03m# END FOR a_run\u001b[39;00m\n\u001b[0;32m     99\u001b[0m     \u001b[38;5;66;03m## get the values for each File\u001b[39;00m\n\u001b[0;32m    100\u001b[0m     \u001b[38;5;28;01mfor\u001b[39;00m k, v \u001b[38;5;129;01min\u001b[39;00m _parsed_run_structure_dict[a_ctxt]\u001b[38;5;241m.\u001b[39mitems():\n\u001b[1;32m--> 101\u001b[0m         _context_figures_dict[a_ctxt][k] \u001b[38;5;241m=\u001b[39m \u001b[43mv\u001b[49m\u001b[38;5;241;43m.\u001b[39;49m\u001b[43mdownload\u001b[49m\u001b[43m(\u001b[49m\u001b[43m)\u001b[49m\n\u001b[0;32m    102\u001b[0m         \u001b[38;5;66;03m# _context_figures_dict[a_ctxt][k] = v.download(destination=neptune_project_figures_output_path.as_posix())\u001b[39;00m\n\u001b[0;32m    105\u001b[0m _parsed_run_structure_dict\n",
      "File \u001b[1;32mc:\\Users\\pho\\repos\\Spike3DWorkEnv\\Spike3D\\.venv\\lib\\site-packages\\neptune\\attributes\\atoms\\file.py:49\u001b[0m, in \u001b[0;36mFile.download\u001b[1;34m(self, destination, progress_bar)\u001b[0m\n\u001b[0;32m     43\u001b[0m \u001b[38;5;28;01mdef\u001b[39;00m \u001b[38;5;21mdownload\u001b[39m(\n\u001b[0;32m     44\u001b[0m     \u001b[38;5;28mself\u001b[39m,\n\u001b[0;32m     45\u001b[0m     destination: Optional[\u001b[38;5;28mstr\u001b[39m] \u001b[38;5;241m=\u001b[39m \u001b[38;5;28;01mNone\u001b[39;00m,\n\u001b[0;32m     46\u001b[0m     progress_bar: Optional[ProgressBarType] \u001b[38;5;241m=\u001b[39m \u001b[38;5;28;01mNone\u001b[39;00m,\n\u001b[0;32m     47\u001b[0m ) \u001b[38;5;241m-\u001b[39m\u001b[38;5;241m>\u001b[39m \u001b[38;5;28;01mNone\u001b[39;00m:\n\u001b[0;32m     48\u001b[0m     verify_type(\u001b[38;5;124m\"\u001b[39m\u001b[38;5;124mdestination\u001b[39m\u001b[38;5;124m\"\u001b[39m, destination, (\u001b[38;5;28mstr\u001b[39m, \u001b[38;5;28mtype\u001b[39m(\u001b[38;5;28;01mNone\u001b[39;00m)))\n\u001b[1;32m---> 49\u001b[0m     \u001b[38;5;28;43mself\u001b[39;49m\u001b[38;5;241;43m.\u001b[39;49m\u001b[43m_backend\u001b[49m\u001b[38;5;241;43m.\u001b[39;49m\u001b[43mdownload_file\u001b[49m\u001b[43m(\u001b[49m\u001b[38;5;28;43mself\u001b[39;49m\u001b[38;5;241;43m.\u001b[39;49m\u001b[43m_container_id\u001b[49m\u001b[43m,\u001b[49m\u001b[43m \u001b[49m\u001b[38;5;28;43mself\u001b[39;49m\u001b[38;5;241;43m.\u001b[39;49m\u001b[43m_container_type\u001b[49m\u001b[43m,\u001b[49m\u001b[43m \u001b[49m\u001b[38;5;28;43mself\u001b[39;49m\u001b[38;5;241;43m.\u001b[39;49m\u001b[43m_path\u001b[49m\u001b[43m,\u001b[49m\u001b[43m \u001b[49m\u001b[43mdestination\u001b[49m\u001b[43m,\u001b[49m\u001b[43m \u001b[49m\u001b[43mprogress_bar\u001b[49m\u001b[43m)\u001b[49m\n",
      "File \u001b[1;32mc:\\Users\\pho\\repos\\Spike3DWorkEnv\\Spike3D\\.venv\\lib\\site-packages\\neptune\\internal\\backends\\hosted_neptune_backend.py:752\u001b[0m, in \u001b[0;36mHostedNeptuneBackend.download_file\u001b[1;34m(self, container_id, container_type, path, destination, progress_bar)\u001b[0m\n\u001b[0;32m    743\u001b[0m \u001b[38;5;28;01mdef\u001b[39;00m \u001b[38;5;21mdownload_file\u001b[39m(\n\u001b[0;32m    744\u001b[0m     \u001b[38;5;28mself\u001b[39m,\n\u001b[0;32m    745\u001b[0m     container_id: \u001b[38;5;28mstr\u001b[39m,\n\u001b[1;32m   (...)\u001b[0m\n\u001b[0;32m    749\u001b[0m     progress_bar: Optional[ProgressBarType] \u001b[38;5;241m=\u001b[39m \u001b[38;5;28;01mNone\u001b[39;00m,\n\u001b[0;32m    750\u001b[0m ):\n\u001b[0;32m    751\u001b[0m     \u001b[38;5;28;01mtry\u001b[39;00m:\n\u001b[1;32m--> 752\u001b[0m         \u001b[43mdownload_file_attribute\u001b[49m\u001b[43m(\u001b[49m\n\u001b[0;32m    753\u001b[0m \u001b[43m            \u001b[49m\u001b[43mswagger_client\u001b[49m\u001b[38;5;241;43m=\u001b[39;49m\u001b[38;5;28;43mself\u001b[39;49m\u001b[38;5;241;43m.\u001b[39;49m\u001b[43mleaderboard_client\u001b[49m\u001b[43m,\u001b[49m\n\u001b[0;32m    754\u001b[0m \u001b[43m            \u001b[49m\u001b[43mcontainer_id\u001b[49m\u001b[38;5;241;43m=\u001b[39;49m\u001b[43mcontainer_id\u001b[49m\u001b[43m,\u001b[49m\n\u001b[0;32m    755\u001b[0m \u001b[43m            \u001b[49m\u001b[43mattribute\u001b[49m\u001b[38;5;241;43m=\u001b[39;49m\u001b[43mpath_to_str\u001b[49m\u001b[43m(\u001b[49m\u001b[43mpath\u001b[49m\u001b[43m)\u001b[49m\u001b[43m,\u001b[49m\n\u001b[0;32m    756\u001b[0m \u001b[43m            \u001b[49m\u001b[43mdestination\u001b[49m\u001b[38;5;241;43m=\u001b[39;49m\u001b[43mdestination\u001b[49m\u001b[43m,\u001b[49m\n\u001b[0;32m    757\u001b[0m \u001b[43m            \u001b[49m\u001b[43mprogress_bar\u001b[49m\u001b[38;5;241;43m=\u001b[39;49m\u001b[43mprogress_bar\u001b[49m\u001b[43m,\u001b[49m\n\u001b[0;32m    758\u001b[0m \u001b[43m        \u001b[49m\u001b[43m)\u001b[49m\n\u001b[0;32m    759\u001b[0m     \u001b[38;5;28;01mexcept\u001b[39;00m ClientHttpError \u001b[38;5;28;01mas\u001b[39;00m e:\n\u001b[0;32m    760\u001b[0m         \u001b[38;5;28;01mif\u001b[39;00m e\u001b[38;5;241m.\u001b[39mstatus \u001b[38;5;241m==\u001b[39m HTTPNotFound\u001b[38;5;241m.\u001b[39mstatus_code:\n",
      "File \u001b[1;32mc:\\Users\\pho\\repos\\Spike3DWorkEnv\\Spike3D\\.venv\\lib\\site-packages\\neptune\\internal\\backends\\hosted_file_operations.py:435\u001b[0m, in \u001b[0;36mdownload_file_attribute\u001b[1;34m(swagger_client, container_id, attribute, destination, progress_bar)\u001b[0m\n\u001b[0;32m    424\u001b[0m \u001b[38;5;28;01mdef\u001b[39;00m \u001b[38;5;21mdownload_file_attribute\u001b[39m(\n\u001b[0;32m    425\u001b[0m     swagger_client: SwaggerClientWrapper,\n\u001b[0;32m    426\u001b[0m     container_id: \u001b[38;5;28mstr\u001b[39m,\n\u001b[1;32m   (...)\u001b[0m\n\u001b[0;32m    429\u001b[0m     progress_bar: Optional[ProgressBarType] \u001b[38;5;241m=\u001b[39m \u001b[38;5;28;01mNone\u001b[39;00m,\n\u001b[0;32m    430\u001b[0m ):\n\u001b[0;32m    431\u001b[0m     url \u001b[38;5;241m=\u001b[39m build_operation_url(\n\u001b[0;32m    432\u001b[0m         swagger_client\u001b[38;5;241m.\u001b[39mswagger_spec\u001b[38;5;241m.\u001b[39mapi_url,\n\u001b[0;32m    433\u001b[0m         swagger_client\u001b[38;5;241m.\u001b[39mapi\u001b[38;5;241m.\u001b[39mdownloadAttribute\u001b[38;5;241m.\u001b[39moperation\u001b[38;5;241m.\u001b[39mpath_name,\n\u001b[0;32m    434\u001b[0m     )\n\u001b[1;32m--> 435\u001b[0m     response \u001b[38;5;241m=\u001b[39m \u001b[43m_download_raw_data\u001b[49m\u001b[43m(\u001b[49m\n\u001b[0;32m    436\u001b[0m \u001b[43m        \u001b[49m\u001b[43mhttp_client\u001b[49m\u001b[38;5;241;43m=\u001b[39;49m\u001b[43mswagger_client\u001b[49m\u001b[38;5;241;43m.\u001b[39;49m\u001b[43mswagger_spec\u001b[49m\u001b[38;5;241;43m.\u001b[39;49m\u001b[43mhttp_client\u001b[49m\u001b[43m,\u001b[49m\n\u001b[0;32m    437\u001b[0m \u001b[43m        \u001b[49m\u001b[43murl\u001b[49m\u001b[38;5;241;43m=\u001b[39;49m\u001b[43murl\u001b[49m\u001b[43m,\u001b[49m\n\u001b[0;32m    438\u001b[0m \u001b[43m        \u001b[49m\u001b[43mheaders\u001b[49m\u001b[38;5;241;43m=\u001b[39;49m\u001b[43m{\u001b[49m\u001b[38;5;124;43m\"\u001b[39;49m\u001b[38;5;124;43mAccept\u001b[39;49m\u001b[38;5;124;43m\"\u001b[39;49m\u001b[43m:\u001b[49m\u001b[43m \u001b[49m\u001b[38;5;124;43m\"\u001b[39;49m\u001b[38;5;124;43mapplication/octet-stream\u001b[39;49m\u001b[38;5;124;43m\"\u001b[39;49m\u001b[43m}\u001b[49m\u001b[43m,\u001b[49m\n\u001b[0;32m    439\u001b[0m \u001b[43m        \u001b[49m\u001b[43mquery_params\u001b[49m\u001b[38;5;241;43m=\u001b[39;49m\u001b[43m{\u001b[49m\u001b[38;5;124;43m\"\u001b[39;49m\u001b[38;5;124;43mexperimentId\u001b[39;49m\u001b[38;5;124;43m\"\u001b[39;49m\u001b[43m:\u001b[49m\u001b[43m \u001b[49m\u001b[43mcontainer_id\u001b[49m\u001b[43m,\u001b[49m\u001b[43m \u001b[49m\u001b[38;5;124;43m\"\u001b[39;49m\u001b[38;5;124;43mattribute\u001b[39;49m\u001b[38;5;124;43m\"\u001b[39;49m\u001b[43m:\u001b[49m\u001b[43m \u001b[49m\u001b[43mattribute\u001b[49m\u001b[43m}\u001b[49m\u001b[43m,\u001b[49m\n\u001b[0;32m    440\u001b[0m \u001b[43m    \u001b[49m\u001b[43m)\u001b[49m\n\u001b[0;32m    441\u001b[0m     _store_response_as_file(response, destination, progress_bar)\n",
      "File \u001b[1;32mc:\\Users\\pho\\repos\\Spike3DWorkEnv\\Spike3D\\.venv\\lib\\site-packages\\neptune\\common\\backends\\utils.py:79\u001b[0m, in \u001b[0;36mwith_api_exceptions_handler.<locals>.wrapper\u001b[1;34m(*args, **kwargs)\u001b[0m\n\u001b[0;32m     76\u001b[0m     \u001b[38;5;28;01mbreak\u001b[39;00m\n\u001b[0;32m     78\u001b[0m \u001b[38;5;28;01mtry\u001b[39;00m:\n\u001b[1;32m---> 79\u001b[0m     \u001b[38;5;28;01mreturn\u001b[39;00m func(\u001b[38;5;241m*\u001b[39margs, \u001b[38;5;241m*\u001b[39m\u001b[38;5;241m*\u001b[39mkwargs)\n\u001b[0;32m     80\u001b[0m \u001b[38;5;28;01mexcept\u001b[39;00m requests\u001b[38;5;241m.\u001b[39mexceptions\u001b[38;5;241m.\u001b[39mInvalidHeader \u001b[38;5;28;01mas\u001b[39;00m e:\n\u001b[0;32m     81\u001b[0m     \u001b[38;5;28;01mif\u001b[39;00m \u001b[38;5;124m\"\u001b[39m\u001b[38;5;124mX-Neptune-Api-Token\u001b[39m\u001b[38;5;124m\"\u001b[39m \u001b[38;5;129;01min\u001b[39;00m e\u001b[38;5;241m.\u001b[39margs[\u001b[38;5;241m0\u001b[39m]:\n",
      "File \u001b[1;32mc:\\Users\\pho\\repos\\Spike3DWorkEnv\\Spike3D\\.venv\\lib\\site-packages\\neptune\\internal\\backends\\hosted_file_operations.py:521\u001b[0m, in \u001b[0;36m_download_raw_data\u001b[1;34m(http_client, url, path_params, query_params, headers)\u001b[0m\n\u001b[0;32m    518\u001b[0m session \u001b[38;5;241m=\u001b[39m http_client\u001b[38;5;241m.\u001b[39msession\n\u001b[0;32m    519\u001b[0m request \u001b[38;5;241m=\u001b[39m http_client\u001b[38;5;241m.\u001b[39mauthenticator\u001b[38;5;241m.\u001b[39mapply(Request(method\u001b[38;5;241m=\u001b[39m\u001b[38;5;124m\"\u001b[39m\u001b[38;5;124mGET\u001b[39m\u001b[38;5;124m\"\u001b[39m, url\u001b[38;5;241m=\u001b[39murl, headers\u001b[38;5;241m=\u001b[39mheaders))\n\u001b[1;32m--> 521\u001b[0m response \u001b[38;5;241m=\u001b[39m handle_server_raw_response_messages(\u001b[43msession\u001b[49m\u001b[38;5;241;43m.\u001b[39;49m\u001b[43msend\u001b[49m\u001b[43m(\u001b[49m\u001b[43msession\u001b[49m\u001b[38;5;241;43m.\u001b[39;49m\u001b[43mprepare_request\u001b[49m\u001b[43m(\u001b[49m\u001b[43mrequest\u001b[49m\u001b[43m)\u001b[49m\u001b[43m,\u001b[49m\u001b[43m \u001b[49m\u001b[43mstream\u001b[49m\u001b[38;5;241;43m=\u001b[39;49m\u001b[38;5;28;43;01mTrue\u001b[39;49;00m\u001b[43m)\u001b[49m)\n\u001b[0;32m    523\u001b[0m response\u001b[38;5;241m.\u001b[39mraise_for_status()\n\u001b[0;32m    524\u001b[0m \u001b[38;5;28;01mreturn\u001b[39;00m response\n",
      "File \u001b[1;32mc:\\Users\\pho\\repos\\Spike3DWorkEnv\\Spike3D\\.venv\\lib\\site-packages\\requests\\sessions.py:703\u001b[0m, in \u001b[0;36mSession.send\u001b[1;34m(self, request, **kwargs)\u001b[0m\n\u001b[0;32m    700\u001b[0m start \u001b[38;5;241m=\u001b[39m preferred_clock()\n\u001b[0;32m    702\u001b[0m \u001b[38;5;66;03m# Send the request\u001b[39;00m\n\u001b[1;32m--> 703\u001b[0m r \u001b[38;5;241m=\u001b[39m adapter\u001b[38;5;241m.\u001b[39msend(request, \u001b[38;5;241m*\u001b[39m\u001b[38;5;241m*\u001b[39mkwargs)\n\u001b[0;32m    705\u001b[0m \u001b[38;5;66;03m# Total elapsed time of the request (approximately)\u001b[39;00m\n\u001b[0;32m    706\u001b[0m elapsed \u001b[38;5;241m=\u001b[39m preferred_clock() \u001b[38;5;241m-\u001b[39m start\n",
      "File \u001b[1;32mc:\\Users\\pho\\repos\\Spike3DWorkEnv\\Spike3D\\.venv\\lib\\site-packages\\requests\\adapters.py:486\u001b[0m, in \u001b[0;36mHTTPAdapter.send\u001b[1;34m(self, request, stream, timeout, verify, cert, proxies)\u001b[0m\n\u001b[0;32m    483\u001b[0m     timeout \u001b[38;5;241m=\u001b[39m TimeoutSauce(connect\u001b[38;5;241m=\u001b[39mtimeout, read\u001b[38;5;241m=\u001b[39mtimeout)\n\u001b[0;32m    485\u001b[0m \u001b[38;5;28;01mtry\u001b[39;00m:\n\u001b[1;32m--> 486\u001b[0m     resp \u001b[38;5;241m=\u001b[39m \u001b[43mconn\u001b[49m\u001b[38;5;241;43m.\u001b[39;49m\u001b[43murlopen\u001b[49m\u001b[43m(\u001b[49m\n\u001b[0;32m    487\u001b[0m \u001b[43m        \u001b[49m\u001b[43mmethod\u001b[49m\u001b[38;5;241;43m=\u001b[39;49m\u001b[43mrequest\u001b[49m\u001b[38;5;241;43m.\u001b[39;49m\u001b[43mmethod\u001b[49m\u001b[43m,\u001b[49m\n\u001b[0;32m    488\u001b[0m \u001b[43m        \u001b[49m\u001b[43murl\u001b[49m\u001b[38;5;241;43m=\u001b[39;49m\u001b[43murl\u001b[49m\u001b[43m,\u001b[49m\n\u001b[0;32m    489\u001b[0m \u001b[43m        \u001b[49m\u001b[43mbody\u001b[49m\u001b[38;5;241;43m=\u001b[39;49m\u001b[43mrequest\u001b[49m\u001b[38;5;241;43m.\u001b[39;49m\u001b[43mbody\u001b[49m\u001b[43m,\u001b[49m\n\u001b[0;32m    490\u001b[0m \u001b[43m        \u001b[49m\u001b[43mheaders\u001b[49m\u001b[38;5;241;43m=\u001b[39;49m\u001b[43mrequest\u001b[49m\u001b[38;5;241;43m.\u001b[39;49m\u001b[43mheaders\u001b[49m\u001b[43m,\u001b[49m\n\u001b[0;32m    491\u001b[0m \u001b[43m        \u001b[49m\u001b[43mredirect\u001b[49m\u001b[38;5;241;43m=\u001b[39;49m\u001b[38;5;28;43;01mFalse\u001b[39;49;00m\u001b[43m,\u001b[49m\n\u001b[0;32m    492\u001b[0m \u001b[43m        \u001b[49m\u001b[43massert_same_host\u001b[49m\u001b[38;5;241;43m=\u001b[39;49m\u001b[38;5;28;43;01mFalse\u001b[39;49;00m\u001b[43m,\u001b[49m\n\u001b[0;32m    493\u001b[0m \u001b[43m        \u001b[49m\u001b[43mpreload_content\u001b[49m\u001b[38;5;241;43m=\u001b[39;49m\u001b[38;5;28;43;01mFalse\u001b[39;49;00m\u001b[43m,\u001b[49m\n\u001b[0;32m    494\u001b[0m \u001b[43m        \u001b[49m\u001b[43mdecode_content\u001b[49m\u001b[38;5;241;43m=\u001b[39;49m\u001b[38;5;28;43;01mFalse\u001b[39;49;00m\u001b[43m,\u001b[49m\n\u001b[0;32m    495\u001b[0m \u001b[43m        \u001b[49m\u001b[43mretries\u001b[49m\u001b[38;5;241;43m=\u001b[39;49m\u001b[38;5;28;43mself\u001b[39;49m\u001b[38;5;241;43m.\u001b[39;49m\u001b[43mmax_retries\u001b[49m\u001b[43m,\u001b[49m\n\u001b[0;32m    496\u001b[0m \u001b[43m        \u001b[49m\u001b[43mtimeout\u001b[49m\u001b[38;5;241;43m=\u001b[39;49m\u001b[43mtimeout\u001b[49m\u001b[43m,\u001b[49m\n\u001b[0;32m    497\u001b[0m \u001b[43m        \u001b[49m\u001b[43mchunked\u001b[49m\u001b[38;5;241;43m=\u001b[39;49m\u001b[43mchunked\u001b[49m\u001b[43m,\u001b[49m\n\u001b[0;32m    498\u001b[0m \u001b[43m    \u001b[49m\u001b[43m)\u001b[49m\n\u001b[0;32m    500\u001b[0m \u001b[38;5;28;01mexcept\u001b[39;00m (ProtocolError, \u001b[38;5;167;01mOSError\u001b[39;00m) \u001b[38;5;28;01mas\u001b[39;00m err:\n\u001b[0;32m    501\u001b[0m     \u001b[38;5;28;01mraise\u001b[39;00m \u001b[38;5;167;01mConnectionError\u001b[39;00m(err, request\u001b[38;5;241m=\u001b[39mrequest)\n",
      "File \u001b[1;32mc:\\Users\\pho\\repos\\Spike3DWorkEnv\\Spike3D\\.venv\\lib\\site-packages\\urllib3\\connectionpool.py:715\u001b[0m, in \u001b[0;36mHTTPConnectionPool.urlopen\u001b[1;34m(self, method, url, body, headers, retries, redirect, assert_same_host, timeout, pool_timeout, release_conn, chunked, body_pos, **response_kw)\u001b[0m\n\u001b[0;32m    712\u001b[0m     \u001b[38;5;28mself\u001b[39m\u001b[38;5;241m.\u001b[39m_prepare_proxy(conn)\n\u001b[0;32m    714\u001b[0m \u001b[38;5;66;03m# Make the request on the httplib connection object.\u001b[39;00m\n\u001b[1;32m--> 715\u001b[0m httplib_response \u001b[38;5;241m=\u001b[39m \u001b[38;5;28;43mself\u001b[39;49m\u001b[38;5;241;43m.\u001b[39;49m\u001b[43m_make_request\u001b[49m\u001b[43m(\u001b[49m\n\u001b[0;32m    716\u001b[0m \u001b[43m    \u001b[49m\u001b[43mconn\u001b[49m\u001b[43m,\u001b[49m\n\u001b[0;32m    717\u001b[0m \u001b[43m    \u001b[49m\u001b[43mmethod\u001b[49m\u001b[43m,\u001b[49m\n\u001b[0;32m    718\u001b[0m \u001b[43m    \u001b[49m\u001b[43murl\u001b[49m\u001b[43m,\u001b[49m\n\u001b[0;32m    719\u001b[0m \u001b[43m    \u001b[49m\u001b[43mtimeout\u001b[49m\u001b[38;5;241;43m=\u001b[39;49m\u001b[43mtimeout_obj\u001b[49m\u001b[43m,\u001b[49m\n\u001b[0;32m    720\u001b[0m \u001b[43m    \u001b[49m\u001b[43mbody\u001b[49m\u001b[38;5;241;43m=\u001b[39;49m\u001b[43mbody\u001b[49m\u001b[43m,\u001b[49m\n\u001b[0;32m    721\u001b[0m \u001b[43m    \u001b[49m\u001b[43mheaders\u001b[49m\u001b[38;5;241;43m=\u001b[39;49m\u001b[43mheaders\u001b[49m\u001b[43m,\u001b[49m\n\u001b[0;32m    722\u001b[0m \u001b[43m    \u001b[49m\u001b[43mchunked\u001b[49m\u001b[38;5;241;43m=\u001b[39;49m\u001b[43mchunked\u001b[49m\u001b[43m,\u001b[49m\n\u001b[0;32m    723\u001b[0m \u001b[43m\u001b[49m\u001b[43m)\u001b[49m\n\u001b[0;32m    725\u001b[0m \u001b[38;5;66;03m# If we're going to release the connection in ``finally:``, then\u001b[39;00m\n\u001b[0;32m    726\u001b[0m \u001b[38;5;66;03m# the response doesn't need to know about the connection. Otherwise\u001b[39;00m\n\u001b[0;32m    727\u001b[0m \u001b[38;5;66;03m# it will also try to release it and we'll have a double-release\u001b[39;00m\n\u001b[0;32m    728\u001b[0m \u001b[38;5;66;03m# mess.\u001b[39;00m\n\u001b[0;32m    729\u001b[0m response_conn \u001b[38;5;241m=\u001b[39m conn \u001b[38;5;28;01mif\u001b[39;00m \u001b[38;5;129;01mnot\u001b[39;00m release_conn \u001b[38;5;28;01melse\u001b[39;00m \u001b[38;5;28;01mNone\u001b[39;00m\n",
      "File \u001b[1;32mc:\\Users\\pho\\repos\\Spike3DWorkEnv\\Spike3D\\.venv\\lib\\site-packages\\urllib3\\connectionpool.py:467\u001b[0m, in \u001b[0;36mHTTPConnectionPool._make_request\u001b[1;34m(self, conn, method, url, timeout, chunked, **httplib_request_kw)\u001b[0m\n\u001b[0;32m    462\u001b[0m             httplib_response \u001b[38;5;241m=\u001b[39m conn\u001b[38;5;241m.\u001b[39mgetresponse()\n\u001b[0;32m    463\u001b[0m         \u001b[38;5;28;01mexcept\u001b[39;00m \u001b[38;5;167;01mBaseException\u001b[39;00m \u001b[38;5;28;01mas\u001b[39;00m e:\n\u001b[0;32m    464\u001b[0m             \u001b[38;5;66;03m# Remove the TypeError from the exception chain in\u001b[39;00m\n\u001b[0;32m    465\u001b[0m             \u001b[38;5;66;03m# Python 3 (including for exceptions like SystemExit).\u001b[39;00m\n\u001b[0;32m    466\u001b[0m             \u001b[38;5;66;03m# Otherwise it looks like a bug in the code.\u001b[39;00m\n\u001b[1;32m--> 467\u001b[0m             \u001b[43msix\u001b[49m\u001b[38;5;241;43m.\u001b[39;49m\u001b[43mraise_from\u001b[49m\u001b[43m(\u001b[49m\u001b[43me\u001b[49m\u001b[43m,\u001b[49m\u001b[43m \u001b[49m\u001b[38;5;28;43;01mNone\u001b[39;49;00m\u001b[43m)\u001b[49m\n\u001b[0;32m    468\u001b[0m \u001b[38;5;28;01mexcept\u001b[39;00m (SocketTimeout, BaseSSLError, SocketError) \u001b[38;5;28;01mas\u001b[39;00m e:\n\u001b[0;32m    469\u001b[0m     \u001b[38;5;28mself\u001b[39m\u001b[38;5;241m.\u001b[39m_raise_timeout(err\u001b[38;5;241m=\u001b[39me, url\u001b[38;5;241m=\u001b[39murl, timeout_value\u001b[38;5;241m=\u001b[39mread_timeout)\n",
      "File \u001b[1;32m<string>:3\u001b[0m, in \u001b[0;36mraise_from\u001b[1;34m(value, from_value)\u001b[0m\n",
      "File \u001b[1;32mc:\\Users\\pho\\repos\\Spike3DWorkEnv\\Spike3D\\.venv\\lib\\site-packages\\urllib3\\connectionpool.py:462\u001b[0m, in \u001b[0;36mHTTPConnectionPool._make_request\u001b[1;34m(self, conn, method, url, timeout, chunked, **httplib_request_kw)\u001b[0m\n\u001b[0;32m    459\u001b[0m \u001b[38;5;28;01mexcept\u001b[39;00m \u001b[38;5;167;01mTypeError\u001b[39;00m:\n\u001b[0;32m    460\u001b[0m     \u001b[38;5;66;03m# Python 3\u001b[39;00m\n\u001b[0;32m    461\u001b[0m     \u001b[38;5;28;01mtry\u001b[39;00m:\n\u001b[1;32m--> 462\u001b[0m         httplib_response \u001b[38;5;241m=\u001b[39m \u001b[43mconn\u001b[49m\u001b[38;5;241;43m.\u001b[39;49m\u001b[43mgetresponse\u001b[49m\u001b[43m(\u001b[49m\u001b[43m)\u001b[49m\n\u001b[0;32m    463\u001b[0m     \u001b[38;5;28;01mexcept\u001b[39;00m \u001b[38;5;167;01mBaseException\u001b[39;00m \u001b[38;5;28;01mas\u001b[39;00m e:\n\u001b[0;32m    464\u001b[0m         \u001b[38;5;66;03m# Remove the TypeError from the exception chain in\u001b[39;00m\n\u001b[0;32m    465\u001b[0m         \u001b[38;5;66;03m# Python 3 (including for exceptions like SystemExit).\u001b[39;00m\n\u001b[0;32m    466\u001b[0m         \u001b[38;5;66;03m# Otherwise it looks like a bug in the code.\u001b[39;00m\n\u001b[0;32m    467\u001b[0m         six\u001b[38;5;241m.\u001b[39mraise_from(e, \u001b[38;5;28;01mNone\u001b[39;00m)\n",
      "File \u001b[1;32m~\\.pyenv\\pyenv-win\\versions\\3.9.13\\lib\\http\\client.py:1377\u001b[0m, in \u001b[0;36mHTTPConnection.getresponse\u001b[1;34m(self)\u001b[0m\n\u001b[0;32m   1375\u001b[0m \u001b[38;5;28;01mtry\u001b[39;00m:\n\u001b[0;32m   1376\u001b[0m     \u001b[38;5;28;01mtry\u001b[39;00m:\n\u001b[1;32m-> 1377\u001b[0m         \u001b[43mresponse\u001b[49m\u001b[38;5;241;43m.\u001b[39;49m\u001b[43mbegin\u001b[49m\u001b[43m(\u001b[49m\u001b[43m)\u001b[49m\n\u001b[0;32m   1378\u001b[0m     \u001b[38;5;28;01mexcept\u001b[39;00m \u001b[38;5;167;01mConnectionError\u001b[39;00m:\n\u001b[0;32m   1379\u001b[0m         \u001b[38;5;28mself\u001b[39m\u001b[38;5;241m.\u001b[39mclose()\n",
      "File \u001b[1;32m~\\.pyenv\\pyenv-win\\versions\\3.9.13\\lib\\http\\client.py:320\u001b[0m, in \u001b[0;36mHTTPResponse.begin\u001b[1;34m(self)\u001b[0m\n\u001b[0;32m    318\u001b[0m \u001b[38;5;66;03m# read until we get a non-100 response\u001b[39;00m\n\u001b[0;32m    319\u001b[0m \u001b[38;5;28;01mwhile\u001b[39;00m \u001b[38;5;28;01mTrue\u001b[39;00m:\n\u001b[1;32m--> 320\u001b[0m     version, status, reason \u001b[38;5;241m=\u001b[39m \u001b[38;5;28;43mself\u001b[39;49m\u001b[38;5;241;43m.\u001b[39;49m\u001b[43m_read_status\u001b[49m\u001b[43m(\u001b[49m\u001b[43m)\u001b[49m\n\u001b[0;32m    321\u001b[0m     \u001b[38;5;28;01mif\u001b[39;00m status \u001b[38;5;241m!=\u001b[39m CONTINUE:\n\u001b[0;32m    322\u001b[0m         \u001b[38;5;28;01mbreak\u001b[39;00m\n",
      "File \u001b[1;32m~\\.pyenv\\pyenv-win\\versions\\3.9.13\\lib\\http\\client.py:281\u001b[0m, in \u001b[0;36mHTTPResponse._read_status\u001b[1;34m(self)\u001b[0m\n\u001b[0;32m    280\u001b[0m \u001b[38;5;28;01mdef\u001b[39;00m \u001b[38;5;21m_read_status\u001b[39m(\u001b[38;5;28mself\u001b[39m):\n\u001b[1;32m--> 281\u001b[0m     line \u001b[38;5;241m=\u001b[39m \u001b[38;5;28mstr\u001b[39m(\u001b[38;5;28;43mself\u001b[39;49m\u001b[38;5;241;43m.\u001b[39;49m\u001b[43mfp\u001b[49m\u001b[38;5;241;43m.\u001b[39;49m\u001b[43mreadline\u001b[49m\u001b[43m(\u001b[49m\u001b[43m_MAXLINE\u001b[49m\u001b[43m \u001b[49m\u001b[38;5;241;43m+\u001b[39;49m\u001b[43m \u001b[49m\u001b[38;5;241;43m1\u001b[39;49m\u001b[43m)\u001b[49m, \u001b[38;5;124m\"\u001b[39m\u001b[38;5;124miso-8859-1\u001b[39m\u001b[38;5;124m\"\u001b[39m)\n\u001b[0;32m    282\u001b[0m     \u001b[38;5;28;01mif\u001b[39;00m \u001b[38;5;28mlen\u001b[39m(line) \u001b[38;5;241m>\u001b[39m _MAXLINE:\n\u001b[0;32m    283\u001b[0m         \u001b[38;5;28;01mraise\u001b[39;00m LineTooLong(\u001b[38;5;124m\"\u001b[39m\u001b[38;5;124mstatus line\u001b[39m\u001b[38;5;124m\"\u001b[39m)\n",
      "File \u001b[1;32m~\\.pyenv\\pyenv-win\\versions\\3.9.13\\lib\\socket.py:704\u001b[0m, in \u001b[0;36mSocketIO.readinto\u001b[1;34m(self, b)\u001b[0m\n\u001b[0;32m    702\u001b[0m \u001b[38;5;28;01mwhile\u001b[39;00m \u001b[38;5;28;01mTrue\u001b[39;00m:\n\u001b[0;32m    703\u001b[0m     \u001b[38;5;28;01mtry\u001b[39;00m:\n\u001b[1;32m--> 704\u001b[0m         \u001b[38;5;28;01mreturn\u001b[39;00m \u001b[38;5;28;43mself\u001b[39;49m\u001b[38;5;241;43m.\u001b[39;49m\u001b[43m_sock\u001b[49m\u001b[38;5;241;43m.\u001b[39;49m\u001b[43mrecv_into\u001b[49m\u001b[43m(\u001b[49m\u001b[43mb\u001b[49m\u001b[43m)\u001b[49m\n\u001b[0;32m    705\u001b[0m     \u001b[38;5;28;01mexcept\u001b[39;00m timeout:\n\u001b[0;32m    706\u001b[0m         \u001b[38;5;28mself\u001b[39m\u001b[38;5;241m.\u001b[39m_timeout_occurred \u001b[38;5;241m=\u001b[39m \u001b[38;5;28;01mTrue\u001b[39;00m\n",
      "File \u001b[1;32m~\\.pyenv\\pyenv-win\\versions\\3.9.13\\lib\\ssl.py:1242\u001b[0m, in \u001b[0;36mSSLSocket.recv_into\u001b[1;34m(self, buffer, nbytes, flags)\u001b[0m\n\u001b[0;32m   1238\u001b[0m     \u001b[38;5;28;01mif\u001b[39;00m flags \u001b[38;5;241m!=\u001b[39m \u001b[38;5;241m0\u001b[39m:\n\u001b[0;32m   1239\u001b[0m         \u001b[38;5;28;01mraise\u001b[39;00m \u001b[38;5;167;01mValueError\u001b[39;00m(\n\u001b[0;32m   1240\u001b[0m           \u001b[38;5;124m\"\u001b[39m\u001b[38;5;124mnon-zero flags not allowed in calls to recv_into() on \u001b[39m\u001b[38;5;132;01m%s\u001b[39;00m\u001b[38;5;124m\"\u001b[39m \u001b[38;5;241m%\u001b[39m\n\u001b[0;32m   1241\u001b[0m           \u001b[38;5;28mself\u001b[39m\u001b[38;5;241m.\u001b[39m\u001b[38;5;18m__class__\u001b[39m)\n\u001b[1;32m-> 1242\u001b[0m     \u001b[38;5;28;01mreturn\u001b[39;00m \u001b[38;5;28;43mself\u001b[39;49m\u001b[38;5;241;43m.\u001b[39;49m\u001b[43mread\u001b[49m\u001b[43m(\u001b[49m\u001b[43mnbytes\u001b[49m\u001b[43m,\u001b[49m\u001b[43m \u001b[49m\u001b[43mbuffer\u001b[49m\u001b[43m)\u001b[49m\n\u001b[0;32m   1243\u001b[0m \u001b[38;5;28;01melse\u001b[39;00m:\n\u001b[0;32m   1244\u001b[0m     \u001b[38;5;28;01mreturn\u001b[39;00m \u001b[38;5;28msuper\u001b[39m()\u001b[38;5;241m.\u001b[39mrecv_into(buffer, nbytes, flags)\n",
      "File \u001b[1;32m~\\.pyenv\\pyenv-win\\versions\\3.9.13\\lib\\ssl.py:1100\u001b[0m, in \u001b[0;36mSSLSocket.read\u001b[1;34m(self, len, buffer)\u001b[0m\n\u001b[0;32m   1098\u001b[0m \u001b[38;5;28;01mtry\u001b[39;00m:\n\u001b[0;32m   1099\u001b[0m     \u001b[38;5;28;01mif\u001b[39;00m buffer \u001b[38;5;129;01mis\u001b[39;00m \u001b[38;5;129;01mnot\u001b[39;00m \u001b[38;5;28;01mNone\u001b[39;00m:\n\u001b[1;32m-> 1100\u001b[0m         \u001b[38;5;28;01mreturn\u001b[39;00m \u001b[38;5;28;43mself\u001b[39;49m\u001b[38;5;241;43m.\u001b[39;49m\u001b[43m_sslobj\u001b[49m\u001b[38;5;241;43m.\u001b[39;49m\u001b[43mread\u001b[49m\u001b[43m(\u001b[49m\u001b[38;5;28;43mlen\u001b[39;49m\u001b[43m,\u001b[49m\u001b[43m \u001b[49m\u001b[43mbuffer\u001b[49m\u001b[43m)\u001b[49m\n\u001b[0;32m   1101\u001b[0m     \u001b[38;5;28;01melse\u001b[39;00m:\n\u001b[0;32m   1102\u001b[0m         \u001b[38;5;28;01mreturn\u001b[39;00m \u001b[38;5;28mself\u001b[39m\u001b[38;5;241m.\u001b[39m_sslobj\u001b[38;5;241m.\u001b[39mread(\u001b[38;5;28mlen\u001b[39m)\n",
      "\u001b[1;31mKeyboardInterrupt\u001b[0m: "
     ]
    }
   ],
   "source": [
    "def flatten_dict(d, parent_key='', sep='/'):\n",
    "    if (not isinstance(d, dict)):\n",
    "        assert isinstance(parent_key, str), f\"expected type(parent_key) == str but instead type(parent_key): {type(parent_key)}, parent_key: {parent_key}\"\n",
    "        return {parent_key:d}\n",
    "    \n",
    "    items = {}\n",
    "    for k, v in d.items():\n",
    "        # Construct the new key by concatenating the parent key and current key\n",
    "        new_key = f\"{parent_key}{sep}{k}\" if parent_key else k\n",
    "        if isinstance(v, dict):\n",
    "            # If the value is a dictionary, recursively flatten it\n",
    "            items.update(flatten_dict(v, new_key, sep=sep))\n",
    "        else:\n",
    "            # If the value is not a dictionary, add it to the items\n",
    "            items[new_key] = v\n",
    "    return items\n",
    "\n",
    "\n",
    "context_indexed_runs_list_dict: Dict[IdentifyingContext, List[AutoValueConvertingNeptuneRun]] = neptune_run_collected_results.context_indexed_runs_list_dict\n",
    "# context_indexed_runs_list_dict\n",
    "\n",
    "_parsed_run_structure_dict = {}\n",
    "_context_figures_dict = {}\n",
    "\n",
    "for a_ctxt, a_run_list in context_indexed_runs_list_dict.items():\n",
    "    # _parsed_run_structure_dict[a_ctxt] = []\n",
    "    _parsed_run_structure_dict[a_ctxt] = {}\n",
    "    _context_figures_dict[a_ctxt] = {}\n",
    "    for a_run in a_run_list:\n",
    "        a_parsed_structure = a_run.get_structure()['outputs']['figures']\n",
    "        assert isinstance(a_parsed_structure, dict), f\"type(a_parsed_structure): {type(a_parsed_structure)} instead of dict. a_parsed_structure: {a_parsed_structure}\"\n",
    "        # If there is only one dictionary in the list, you can access it directly\n",
    "        # assert len(a_parsed_structure) == 1, f\"len(a_parsed_structure): {len(a_parsed_structure)} should equal 1\"\n",
    "        # a_parsed_structure = a_parsed_structure[0] # a dict\n",
    "        # a_parsed_structure = flatten_dict(a_parsed_structure)\n",
    "        # Flatten each dictionary in the list\n",
    "        # a_parsed_structure = [flatten_dict(v, parent_key=k) for k, v in a_parsed_structure.items()]\n",
    "        # _parsed_run_structure_dict[a_ctxt].append(a_parsed_structure)\n",
    "        # a_parsed_structure = a_run.get_parsed_structure()['outputs']['figures']\n",
    "        # _parsed_run_structure_dict[a_ctxt].append(a_parsed_structure)\n",
    "        \n",
    "        # Initialize an empty dictionary to collect the flattened items\n",
    "        # flattened_dict = {}\n",
    "        for k, v in a_parsed_structure.items():\n",
    "            # Flatten each nested dictionary and update the flattened_dict\n",
    "            # flattened_dict.update(flatten_dict(v, parent_key=k))\n",
    "            _parsed_run_structure_dict[a_ctxt].update(flatten_dict(v, parent_key=k))\n",
    "\n",
    "    \n",
    "        # [{'display_fn_name:_display_grid_bin_bounds_validation': <neptune.attributes.atoms.file.File at 0x212bfbd4a30>,\n",
    "        # 'display_fn_name:display_long_short_laps': <neptune.attributes.atoms.file.File at 0x212bfbd4a90>,\n",
    "        # 'filter_name:maze1_any': {'lap_dir:any': {'display_fn_name:1d_placefields': <neptune.attributes.atoms.file.File at 0x212bfbd4bb0>,\n",
    "        #     'display_fn_name:_display_1d_placefield_validations': <neptune.attributes.atoms.file.File at 0x212bfbd4c10>,\n",
    "        #     'display_fn_name:_display_2d_placefield_result_plot_ratemaps_2D': <neptune.attributes.atoms.file.File at 0x212bfbd4d30>,\n",
    "        #     'display_fn_name:plot_occupancy': {'plot_variable:OCCUPANCY': <neptune.attributes.atoms.file.File at 0x212bfbd4d90>}}},\n",
    "        # 'filter_name:maze1_even': {'lap_dir:even': {'display_fn_name:1d_placefields': <neptune.attributes.atoms.file.File at 0x212bfbd4f40>,\n",
    "        #     'display_fn_name:_display_1d_placefield_validations': <neptune.attributes.atoms.file.File at 0x212bfbd4e80>,\n",
    "        #     'display_fn_name:_display_2d_placefield_result_plot_ratemaps_2D': <neptune.attributes.atoms.file.File at 0x212bf2e58e0>,\n",
    "        #     'display_fn_name:plot_occupancy': {'plot_variable:OCCUPANCY': <neptune.attributes.atoms.file.File at 0x212bf2e5790>}}},\n",
    "        # 'filter_name:maze1_odd': {'lap_dir:odd': {'display_fn_name:1d_placefields': <neptune.attributes.atoms.file.File at 0x212bf2e52b0>,\n",
    "        #     'display_fn_name:_display_1d_placefield_validations': <neptune.attributes.atoms.file.File at 0x212bf2e5730>,\n",
    "        #     'display_fn_name:_display_2d_placefield_result_plot_ratemaps_2D': <neptune.attributes.atoms.file.File at 0x212b0cb1760>,\n",
    "        #     'display_fn_name:plot_occupancy': {'plot_variable:OCCUPANCY': <neptune.attributes.atoms.file.File at 0x212b0cb1490>}}},\n",
    "        # 'filter_name:maze2_any': {'lap_dir:any': {'display_fn_name:1d_placefields': <neptune.attributes.atoms.file.File at 0x212bf375a00>,\n",
    "        #     'display_fn_name:_display_1d_placefield_validations': <neptune.attributes.atoms.file.File at 0x212bf37a190>,\n",
    "        #     'display_fn_name:_display_2d_placefield_result_plot_ratemaps_2D': <neptune.attributes.atoms.file.File at 0x212bf37afa0>,\n",
    "        #     'display_fn_name:plot_occupancy': {'plot_variable:OCCUPANCY': <neptune.attributes.atoms.file.File at 0x212bf37d130>}}},\n",
    "        # 'filter_name:maze2_even': {'lap_dir:even': {'display_fn_name:1d_placefields': <neptune.attributes.atoms.file.File at 0x212d8381700>,\n",
    "        #     'display_fn_name:_display_1d_placefield_validations': <neptune.attributes.atoms.file.File at 0x212bfbd3760>,\n",
    "        #     'display_fn_name:_display_2d_placefield_result_plot_ratemaps_2D': <neptune.attributes.atoms.file.File at 0x212bfbd3610>,\n",
    "        #     'display_fn_name:plot_occupancy': {'plot_variable:OCCUPANCY': <neptune.attributes.atoms.file.File at 0x212bfbd35b0>}}},\n",
    "        # 'filter_name:maze2_odd': {'lap_dir:odd': {'display_fn_name:1d_placefields': <neptune.attributes.atoms.file.File at 0x212bfbd3340>,\n",
    "        #     'display_fn_name:_display_1d_placefield_validations': <neptune.attributes.atoms.file.File at 0x212bfbd34c0>,\n",
    "        #     'display_fn_name:_display_2d_placefield_result_plot_ratemaps_2D': <neptune.attributes.atoms.file.File at 0x212bfbd31f0>,\n",
    "        #     'display_fn_name:plot_occupancy': {'plot_variable:OCCUPANCY': <neptune.attributes.atoms.file.File at 0x212bfbd3190>}}},\n",
    "        # 'filter_name:maze_any': {'lap_dir:any': {'display_fn_name:1d_placefields': <neptune.attributes.atoms.file.File at 0x212bfbd38b0>,\n",
    "        #     'display_fn_name:_display_1d_placefield_validations': <neptune.attributes.atoms.file.File at 0x212bfbd3130>,\n",
    "        #     'display_fn_name:_display_2d_placefield_result_plot_ratemaps_2D': <neptune.attributes.atoms.file.File at 0x212bfbd3b50>,\n",
    "        #     'display_fn_name:plot_occupancy': {'plot_variable:OCCUPANCY': <neptune.attributes.atoms.file.File at 0x212bfbd3ca0>}}},\n",
    "        # 'filter_name:maze_even': {'lap_dir:even': {'display_fn_name:1d_placefields': <neptune.attributes.atoms.file.File at 0x212bfbd3970>,\n",
    "        #     'display_fn_name:_display_1d_placefield_validations': <neptune.attributes.atoms.file.File at 0x212bfbd3be0>,\n",
    "        #     'display_fn_name:_display_2d_placefield_result_plot_ratemaps_2D': <neptune.attributes.atoms.file.File at 0x212c0df0c40>,\n",
    "        #     'display_fn_name:plot_occupancy': {'plot_variable:OCCUPANCY': <neptune.attributes.atoms.file.File at 0x212c0df0cd0>}}},\n",
    "        # 'filter_name:maze_odd': {'lap_dir:odd': {'display_fn_name:1d_placefields': <neptune.attributes.atoms.file.File at 0x212c0df0eb0>,\n",
    "        #     'display_fn_name:_display_1d_placefield_validations': <neptune.attributes.atoms.file.File at 0x212c0df0d90>,\n",
    "        #     'display_fn_name:_display_2d_placefield_result_plot_ratemaps_2D': <neptune.attributes.atoms.file.File at 0x212bfbc3580>,\n",
    "        #     'display_fn_name:plot_occupancy': {'plot_variable:OCCUPANCY': <neptune.attributes.atoms.file.File at 0x212bfbc33d0>}}}},\n",
    "        #     ],\n",
    "        \n",
    "        # {'display_fn_name:_display_grid_bin_bounds_validation': <neptune.attributes.atoms.file.File at 0x212bfbd4a30>,\n",
    "        # 'display_fn_name:display_long_short_laps': <neptune.attributes.atoms.file.File at 0x212bfbd4a90>,\n",
    "        # 'filter_name:maze1_any,lap_dir:any,display_fn_name:1d_placefields': <neptune.attributes.atoms.file.File at 0x212bfbd4bb0>,\n",
    "        # 'filter_name:maze1_any,lap_dir:any,display_fn_name:_display_1d_placefield_validations': <neptune.attributes.atoms.file.File at 0x212bfbd4c10>,\n",
    "        # 'filter_name:maze1_any,lap_dir:any,display_fn_name:_display_2d_placefield_result_plot_ratemaps_2D': <neptune.attributes.atoms.file.File at 0x212bfbd4d30>,\n",
    "        # 'filter_name:maze1_any,lap_dir:any,display_fn_name:plot_occupancy,plot_variable:OCCUPANCY': <neptune.attributes.atoms.file.File at 0x212bfbd4d90>,\n",
    "        # ...\n",
    "        # }\n",
    "    # END FOR a_run\n",
    "    ## get the values for each File\n",
    "    # for k, v in _parsed_run_structure_dict[a_ctxt].items():\n",
    "    #     _context_figures_dict[a_ctxt][k] = v.download()\n",
    "        # _context_figures_dict[a_ctxt][k] = v.download(destination=neptune_project_figures_output_path.as_posix())\n",
    "\n",
    "\n",
    "_parsed_run_structure_dict\n",
    "# _context_figures_dict"
   ]
  },
  {
   "cell_type": "code",
   "execution_count": 39,
   "metadata": {},
   "outputs": [
    {
     "data": {
      "text/plain": [
       "dict"
      ]
     },
     "execution_count": 39,
     "metadata": {},
     "output_type": "execute_result"
    },
    {
     "data": {
      "text/plain": [
       "68"
      ]
     },
     "execution_count": 39,
     "metadata": {},
     "output_type": "execute_result"
    }
   ],
   "source": [
    "a_figures_dict = list(_parsed_run_structure_dict.values())[5]\n",
    "type(a_figures_dict)\n",
    "len(a_figures_dict)\n"
   ]
  },
  {
   "cell_type": "code",
   "execution_count": null,
   "metadata": {},
   "outputs": [],
   "source": [
    "most_recent_runs_table_df.to_csv('output/2024-09-24_most_recent_neptune_runs_csv.csv')"
   ]
  },
  {
   "cell_type": "code",
   "execution_count": 6,
   "metadata": {
    "tags": []
   },
   "outputs": [],
   "source": [
    "# run_logs: Dict[SessionDescriptorString, str] = neptune_run_collected_results.run_logs\n",
    "# run_logs\n",
    "\n",
    "## INPUTS: neptuner, run_logs, most_recent_runs_table_df\n",
    "\n",
    "# session_column_individual_variables = ['format_name', 'animal', 'exper_name', 'session_name']\n",
    "# session_column_variables = ['session_descriptor_string']\n",
    "# processing_status_column_names = ['sys/id', 'sys/hostname', 'sys/creation_time', 'sys/running_time', 'sys/ping_time', 'sys/monitoring_time', 'sys/size', 'sys/tags', 'source_code/entrypoint']\n",
    "# processing_status_column_names = ['sys/id', 'sys/hostname', 'sys/creation_time', 'sys/running_time', 'sys/ping_time', 'sys/monitoring_time', 'sys/size', 'sys/tags', 'source_code/entrypoint']\n",
    "# processing_status_column_names = ['id', 'hostname', 'creation_time', 'running_time', 'ping_time', 'monitoring_time', 'size', 'tags', 'entrypoint']\n",
    "\n",
    "most_recent_runs_session_descriptor_string_to_context_map: Dict[SessionDescriptorString, IdentifyingContext] = neptune_run_collected_results.most_recent_runs_session_descriptor_string_to_context_map\n",
    "## INPUTS: most_recent_runs_session_descriptor_string_to_context_map, run_logs\n",
    "context_indexed_run_logs: Dict[IdentifyingContext, str] = neptune_run_collected_results.context_indexed_run_logs # get the IdentifyingContext indexed item\n",
    "# context_indexed_run_logs\n",
    "\n",
    "## INPUTS: most_recent_runs_table_df\n",
    "most_recent_runs_context_indexed_run_extra_data: Dict[IdentifyingContext, Dict] = neptune_run_collected_results.most_recent_runs_context_indexed_run_extra_data\n",
    "# most_recent_runs_context_indexed_run_extra_data # SessionTuple(format_name='kdiba', animal='pin01', exper_name='one', session_name='11-02_17-46-44', session_descriptor_string='kdiba_pin01_one_11-02_17-46-44_sess', id='LS2023-1335', hostname='gl3126.arc-ts.umich.edu', creation_time=Timestamp('2024-08-29 16:39:16.613000'), running_time=8735.629, ping_time=Timestamp('2024-09-24 08:38:06.626000'), monitoring_time=1543, size=28686905.0, tags='11-02_17-46-44,one,kdiba,pin01', entrypoint='figures_kdiba_pin01_one_11-02_17-46-44.py')\n",
    "\n",
    "## OUTPUTS: most_recent_runs_session_descriptor_string_to_context_map, context_indexed_run_logs, most_recent_runs_context_indexed_run_extra_data"
   ]
  },
  {
   "cell_type": "code",
   "execution_count": 7,
   "metadata": {},
   "outputs": [
    {
     "data": {
      "text/plain": [
       "{Context(format_name: 'kdiba'\n",
       "         animal: 'pin01'\n",
       "         exper_name: 'one'\n",
       "         session_name: '11-03_12-3-25'): WindowsPath('C:/Users/pho/repos/Spike3DWorkEnv/Spike3D/data/neptune/commander.pho/PhoDibaLongShortUpdated/logs/pin01=one=11-03_12-3-25.log'),\n",
       " Context(format_name: 'kdiba'\n",
       "         animal: 'pin01'\n",
       "         exper_name: 'one'\n",
       "         session_name: '11-02_19-28-0'): WindowsPath('C:/Users/pho/repos/Spike3DWorkEnv/Spike3D/data/neptune/commander.pho/PhoDibaLongShortUpdated/logs/pin01=one=11-02_19-28-0.log'),\n",
       " Context(format_name: 'kdiba'\n",
       "         animal: 'pin01'\n",
       "         exper_name: 'one'\n",
       "         session_name: '11-02_17-46-44'): WindowsPath('C:/Users/pho/repos/Spike3DWorkEnv/Spike3D/data/neptune/commander.pho/PhoDibaLongShortUpdated/logs/pin01=one=11-02_17-46-44.log'),\n",
       " Context(format_name: 'kdiba'\n",
       "         animal: 'vvp01'\n",
       "         exper_name: 'two'\n",
       "         session_name: '2006-4-10_12-58-3'): WindowsPath('C:/Users/pho/repos/Spike3DWorkEnv/Spike3D/data/neptune/commander.pho/PhoDibaLongShortUpdated/logs/vvp01=two=2006-4-10_12-58-3.log'),\n",
       " Context(format_name: 'kdiba'\n",
       "         animal: 'vvp01'\n",
       "         exper_name: 'two'\n",
       "         session_name: '2006-4-09_16-40-54'): WindowsPath('C:/Users/pho/repos/Spike3DWorkEnv/Spike3D/data/neptune/commander.pho/PhoDibaLongShortUpdated/logs/vvp01=two=2006-4-09_16-40-54.log'),\n",
       " Context(format_name: 'kdiba'\n",
       "         animal: 'vvp01'\n",
       "         exper_name: 'one'\n",
       "         session_name: '2006-4-10_12-25-50'): WindowsPath('C:/Users/pho/repos/Spike3DWorkEnv/Spike3D/data/neptune/commander.pho/PhoDibaLongShortUpdated/logs/vvp01=one=2006-4-10_12-25-50.log'),\n",
       " Context(format_name: 'kdiba'\n",
       "         animal: 'vvp01'\n",
       "         exper_name: 'one'\n",
       "         session_name: '2006-4-09_17-29-30'): WindowsPath('C:/Users/pho/repos/Spike3DWorkEnv/Spike3D/data/neptune/commander.pho/PhoDibaLongShortUpdated/logs/vvp01=one=2006-4-09_17-29-30.log'),\n",
       " Context(format_name: 'kdiba'\n",
       "         animal: 'gor01'\n",
       "         exper_name: 'two'\n",
       "         session_name: '2006-6-12_16-53-46'): WindowsPath('C:/Users/pho/repos/Spike3DWorkEnv/Spike3D/data/neptune/commander.pho/PhoDibaLongShortUpdated/logs/gor01=two=2006-6-12_16-53-46.log'),\n",
       " Context(format_name: 'kdiba'\n",
       "         animal: 'gor01'\n",
       "         exper_name: 'two'\n",
       "         session_name: '2006-6-09_22-24-40'): WindowsPath('C:/Users/pho/repos/Spike3DWorkEnv/Spike3D/data/neptune/commander.pho/PhoDibaLongShortUpdated/logs/gor01=two=2006-6-09_22-24-40.log'),\n",
       " Context(format_name: 'kdiba'\n",
       "         animal: 'gor01'\n",
       "         exper_name: 'two'\n",
       "         session_name: '2006-6-08_21-16-25'): WindowsPath('C:/Users/pho/repos/Spike3DWorkEnv/Spike3D/data/neptune/commander.pho/PhoDibaLongShortUpdated/logs/gor01=two=2006-6-08_21-16-25.log'),\n",
       " Context(format_name: 'kdiba'\n",
       "         animal: 'gor01'\n",
       "         exper_name: 'one'\n",
       "         session_name: '2006-6-12_15-55-31'): WindowsPath('C:/Users/pho/repos/Spike3DWorkEnv/Spike3D/data/neptune/commander.pho/PhoDibaLongShortUpdated/logs/gor01=one=2006-6-12_15-55-31.log'),\n",
       " Context(format_name: 'kdiba'\n",
       "         animal: 'gor01'\n",
       "         exper_name: 'two'\n",
       "         session_name: '2006-6-07_16-40-19'): WindowsPath('C:/Users/pho/repos/Spike3DWorkEnv/Spike3D/data/neptune/commander.pho/PhoDibaLongShortUpdated/logs/gor01=two=2006-6-07_16-40-19.log'),\n",
       " Context(format_name: 'kdiba'\n",
       "         animal: 'gor01'\n",
       "         exper_name: 'one'\n",
       "         session_name: '2006-6-07_11-26-53'): WindowsPath('C:/Users/pho/repos/Spike3DWorkEnv/Spike3D/data/neptune/commander.pho/PhoDibaLongShortUpdated/logs/gor01=one=2006-6-07_11-26-53.log'),\n",
       " Context(format_name: 'kdiba'\n",
       "         animal: 'pin01'\n",
       "         exper_name: 'one'\n",
       "         session_name: 'fet11-01_12-58-54'): WindowsPath('C:/Users/pho/repos/Spike3DWorkEnv/Spike3D/data/neptune/commander.pho/PhoDibaLongShortUpdated/logs/pin01=one=fet11-01_12-58-54.log')}"
      ]
     },
     "execution_count": 7,
     "metadata": {},
     "output_type": "execute_result"
    }
   ],
   "source": [
    "## INPUTS: context_indexed_run_logs, neptune_logs_output_path\n",
    "## OUTPUT: _out_log_paths\n",
    "neptune_logs_output_path = neptune_project_output_path.joinpath('logs').resolve()\n",
    "neptune_logs_output_path.mkdir(exist_ok=True, parents=True)\n",
    "_out_log_paths = neptune_run_collected_results._perform_export_log_files_to_separate_files(context_indexed_run_logs=context_indexed_run_logs, neptune_logs_output_path=neptune_logs_output_path)\n",
    "_out_log_paths"
   ]
  },
  {
   "cell_type": "code",
   "execution_count": null,
   "metadata": {},
   "outputs": [],
   "source": []
  },
  {
   "cell_type": "markdown",
   "metadata": {},
   "source": [
    "# Trivial ipytree Example that causes jumping"
   ]
  },
  {
   "cell_type": "code",
   "execution_count": null,
   "metadata": {
    "tags": []
   },
   "outputs": [],
   "source": [
    "from IPython.display import clear_output, display\n",
    "from ipytree import Tree, Node\n",
    "\n",
    "\n",
    "tree = Tree(stripes=False)\n",
    "for i in range(3):\n",
    "    node = Node(f\"Node {i}\")\n",
    "    tree.add_node(node)\n",
    "    \n",
    "def handle_click(event):\n",
    "    clear_output(wait=True)  # Prevent scrolling\n",
    "    display(tree)  # Re-display the tree to keep focus\n",
    "    print(f\"Clicked on: {event['owner'].name}\")\n",
    "\n",
    "for node in tree.nodes:\n",
    "    node.observe(handle_click, names='selected')\n",
    "\n",
    "tree\n"
   ]
  },
  {
   "cell_type": "markdown",
   "metadata": {},
   "source": [
    "# Log Viewer Widget"
   ]
  },
  {
   "cell_type": "code",
   "execution_count": null,
   "metadata": {},
   "outputs": [],
   "source": [
    "# Call the function to build and display the interactive session display\n",
    "interactive_layout = Neptuner.build_interactive_session_run_logs_widget(context_indexed_run_logs, most_recent_runs_session_descriptor_string_to_context_map, most_recent_runs_context_indexed_run_extra_data)\n",
    "display(interactive_layout)"
   ]
  },
  {
   "cell_type": "code",
   "execution_count": null,
   "metadata": {},
   "outputs": [],
   "source": [
    "# does not trigger change:\n",
    "# .on_node_selected(change: {'name': 'selected', 'old': True, 'new': False, 'owner': Node(name='11-02_17-46-44'), 'type': 'change'})\n",
    "# .on_node_selected(change: {'name': 'selected', 'old': False, 'new': True, 'owner': Node(name='fet11-01_12-58-54', selected=True), 'type': 'change'})\n",
    "# Selected context: {'format_name': 'kdiba', 'animal': 'pin01', 'exper_name': 'one', 'session_name': 'fet11-01_12-58-54'}\n"
   ]
  },
  {
   "cell_type": "code",
   "execution_count": null,
   "metadata": {},
   "outputs": [],
   "source": [
    "import ipywidgets as widgets\n",
    "from IPython.display import display\n",
    "import json\n",
    "\n",
    "def save_widget_as_html(widget, filename):\n",
    "    \"\"\"Saves the widget as a self-contained HTML file.\"\"\"\n",
    "    from ipywidgets.embed import embed_minimal_html\n",
    "    \n",
    "    embed_minimal_html(filename, views=[widget], title=\"Interactive Session Display\")\n",
    "\n",
    "# Assuming 'root_box' is your widget\n",
    "export_html_path = Path(r'C:\\Users\\pho\\repos\\Spike3DWorkEnv\\Spike3D\\EXTERNAL\\PhoDibaPaper2024Book\\data\\neptune').joinpath('interactive_session_display.html').resolve()\n",
    "save_widget_as_html(interactive_layout, export_html_path)\n",
    "export_html_path\n"
   ]
  },
  {
   "cell_type": "code",
   "execution_count": null,
   "metadata": {},
   "outputs": [],
   "source": [
    "empty_session_tuple = {\n",
    "    'format_name': '',\n",
    "    'animal': '',\n",
    "    'exper_name': '',\n",
    "    'session_name': '',\n",
    "    'session_descriptor_string': '',\n",
    "    'id': '<Selection Not Found>',\n",
    "    'hostname': '',\n",
    "    'creation_time': '',\n",
    "    'running_time': '',\n",
    "    'ping_time': '',\n",
    "    'monitoring_time': '',\n",
    "    'size': '',\n",
    "    'tags': '',\n",
    "    'entrypoint': ''\n",
    "}\n",
    "\n",
    "print(list(empty_session_tuple.keys())) # ['format_name', 'animal', 'exper_name', 'session_name', 'session_descriptor_string', 'id', 'hostname', 'creation_time', 'running_time', 'ping_time', 'monitoring_time', 'size', 'tags', 'entrypoint']\n",
    "display_session_extra_data_keys = ['id', 'hostname', 'creation_time', 'running_time', 'ping_time', 'monitoring_time', 'size', 'tags', 'entrypoint']\n",
    "\n",
    "# hostname: gl3126.arc-ts.umich.edu\n",
    "# creation_time: 2024-08-29 16:47:55.150000\n",
    "# running_time: 8512.876\n",
    "# ping_time: 2024-09-24 08:38:06.349000\n",
    "# monitoring_time: 1291\n",
    "# size: 24744223.0\n",
    "# tags: one,kdiba,11-02_19-28-0,pin01\n",
    "# entrypoint: figures_kdiba_pin01_one_11-02_19-28-0.py\n",
    "\n"
   ]
  },
  {
   "cell_type": "code",
   "execution_count": null,
   "metadata": {
    "tags": []
   },
   "outputs": [],
   "source": [
    "from pandas import Timestamp\n",
    "import ipywidgets as widgets\n",
    "from IPython.display import display\n",
    "from pyphocorehelpers.gui.Jupyter.TreeWidget import JupyterTreeWidget\n",
    "\n",
    "## INPUTS: context_indexed_run_logs, most_recent_runs_session_descriptor_string_to_context_map, header_hbox\n",
    "\n",
    "# Tree Widget ________________________________________________________________________________________________________ #\n",
    "included_session_contexts: List[IdentifyingContext] = list(most_recent_runs_session_descriptor_string_to_context_map.values())\n",
    "jupyter_tree_widget = JupyterTreeWidget(included_session_contexts=included_session_contexts,\n",
    "\t\t\t\t\t\t\t\t\t\ton_selection_changed_callbacks=[],\n",
    "\t\t\t\t\t\t\t\t\t\tdisplay_on_init=False)\n",
    "# type(jupyter_tree_widget.tree) # ipytree.tree.Tree\n",
    "\n",
    "# Set a layout for the tree to prevent it from being cut off\n",
    "jupyter_tree_widget.tree.layout = widgets.Layout(min_width='200px', max_width='600px', overflow='auto', height='auto')\n",
    "\n",
    "# Content Widget _____________________________________________________________________________________________________ #\n",
    "def build_session_tuple_header_widget(a_session_tuple: Tuple):\n",
    "    # Create widgets for each key-value pair\n",
    "    # widgets_list = [widgets.Label(f\"{key}: {value}\") for key, value in a_session_tuple.items()]\n",
    "    \n",
    "    # Create a dictionary to hold the label widgets\n",
    "    header_label_widgets = {key: widgets.Label(f\"{key}: '{value}',\") for key, value in a_session_tuple.items()}\n",
    "\n",
    "    # Horizontally stack the label widgets\n",
    "    # header_hbox = widgets.HBox(list(header_label_widgets.values()), layout=widgets.Layout(min_width='400px', min_height='50px', width='auto', height='auto')) # , overflow='auto'\n",
    "    \n",
    "    # Define a layout that enables wrapping\n",
    "    box_layout = widgets.Layout(\n",
    "        display='flex',\n",
    "        flex_flow='row wrap',\n",
    "        align_items='stretch',\n",
    "        width='100%'\n",
    "    )\n",
    "\n",
    "    # Create a Box with the custom layout\n",
    "    header_hbox = widgets.Box(list(header_label_widgets.values()), layout=box_layout)\n",
    "\n",
    "\n",
    "    # Function to update the values in the labels\n",
    "    def update_header_labels_fn(new_values):\n",
    "        \"\"\" captures: label_widgets\"\"\"\n",
    "        for key, value in new_values.items():\n",
    "            header_label_widgets[key].value = f\"{key}: {value}\"\n",
    "            \n",
    "    # Display the widget\n",
    "    return header_hbox, header_label_widgets, update_header_labels_fn\n",
    "\n",
    "\n",
    "# Example SessionTuple\n",
    "empty_session_tuple = {\n",
    "    'format_name': '',\n",
    "    'animal': '',\n",
    "    'exper_name': '',\n",
    "    'session_name': '',\n",
    "    'session_descriptor_string': '',\n",
    "    'id': '<Selection Not Found>',\n",
    "    'hostname': '',\n",
    "    'creation_time': '',\n",
    "    'running_time': '',\n",
    "    'ping_time': '',\n",
    "    'monitoring_time': '',\n",
    "    'size': '',\n",
    "    'tags': '',\n",
    "    'entrypoint': ''\n",
    "}\n",
    "\n",
    "header_hbox, header_label_widgets, update_header_labels_fn = build_session_tuple_header_widget(a_session_tuple=empty_session_tuple)\n",
    "\n",
    "# Create Textarea widget with a defined width\n",
    "textarea = widgets.Textarea(value='<No Selection>',\n",
    "    disabled=True,  # Make it read-only\n",
    "    style={'font_size': '10px'},  # Smaller font size\n",
    "\tlayout=widgets.Layout(flex='1', width='650px', min_height='650px',\n",
    "                        height='850px',\n",
    "                        ))\n",
    "\n",
    "content_view_layout = widgets.VBox([header_hbox, textarea], layout=widgets.Layout(min_width='500px', min_height='200px', width='auto', height='auto')) # INPUTS: header_hbox\n",
    "\n",
    "# Layout widgets side by side with proper spacing\n",
    "layout = widgets.HBox([jupyter_tree_widget.tree, content_view_layout], layout=widgets.Layout(min_width='500px', min_height='100px', width='auto', height='auto'))\n",
    "\n",
    "\n",
    "def _on_tree_node_selection_changed(selected_node, selected_context):\n",
    "    \"\"\" \n",
    "    captures: context_indexed_run_logs, textarea, most_recent_runs_context_indexed_run_extra_data, empty_session_tuple, update_header_labels_fn\n",
    "    \"\"\"\n",
    "    print(f'_on_tree_node_selection_changed(selected_node: {selected_node}, selected_context: {selected_context})') # Selected context: {'format_name': 'kdiba', 'animal': 'pin01', 'exper_name': 'one', 'session_name': 'fet11-01_12-58-54'}\n",
    "    #_on_tree_node_selection_changed(selected_node: Node(name='fet11-01_12-58-54', selected=True), selected_context: {'format_name': 'kdiba', 'animal': 'pin01', 'exper_name': 'one', 'session_name': 'fet11-01_12-58-54'})\n",
    "    if isinstance(selected_context, dict):\n",
    "        selected_context = IdentifyingContext(**selected_context)\n",
    "    \n",
    "    curr_context_extra_data_tuple = most_recent_runs_context_indexed_run_extra_data.get(selected_context, empty_session_tuple)\n",
    "    update_header_labels_fn(curr_context_extra_data_tuple)\n",
    "    curr_context_run_log: str = context_indexed_run_logs.get(selected_context, '<Context Not Found>')\n",
    "    textarea.value = curr_context_run_log\n",
    "\n",
    "jupyter_tree_widget.on_selection_changed_callback = [_on_tree_node_selection_changed]\n",
    "# Display the layout\n",
    "layout\n"
   ]
  },
  {
   "cell_type": "code",
   "execution_count": null,
   "metadata": {},
   "outputs": [],
   "source": [
    "\n",
    "\n",
    "text_area = widgets.Textarea(\n",
    "    value='<No Selection>',\n",
    "    disabled=True,  # Make it read-only\n",
    "    layout=widgets.Layout(width='100%', height='400px')  # Scrollable area\n",
    ")\n",
    "\n",
    "combined_widget = widgets.HBox([jupyter_tree_widget.tree, text_area])\n",
    "combined_widget\n",
    "# log_viewer = create_log_viewer(logs=run_logs)\n",
    "# display(log_viewer)\n"
   ]
  },
  {
   "cell_type": "code",
   "execution_count": null,
   "metadata": {},
   "outputs": [],
   "source": [
    "parsed_structure = run.get_parsed_structure()\n",
    "parsed_structure"
   ]
  },
  {
   "cell_type": "code",
   "execution_count": null,
   "metadata": {},
   "outputs": [],
   "source": [
    "import regions\n",
    "(parsed_structure['monitoring'])\n"
   ]
  },
  {
   "cell_type": "code",
   "execution_count": null,
   "metadata": {},
   "outputs": [],
   "source": [
    "for run_id, a_log in run_logs.items():\n",
    "    print(\"# ==================================================================================================================== #\")\n",
    "    print(f\"# run_id: {run_id}                                                                                                     #\")\n",
    "    print(\"# ==================================================================================================================== #\")    \n",
    "    # print(f'run_id: {run_id} =================')\n",
    "    # print(f\"# run_id: {run_id:<100} #\")\n",
    "    print(a_log)\n",
    "    print(\"# END LOG ____________________________________________________________________________________________________________ #\")\n",
    "    \n"
   ]
  },
  {
   "cell_type": "markdown",
   "metadata": {},
   "source": [
    "Calling `run.print_structure()` produces the following output:\n",
    "```python\n",
    "'animal': String\n",
    "'exper_name': String\n",
    "'format_name': String\n",
    "'monitoring':\n",
    "    '5f739afe':\n",
    "        'hostname': String\n",
    "        'pid': String\n",
    "        'tid': String\n",
    "    'be28f54f':\n",
    "        'cpu': FloatSeries\n",
    "        'hostname': String\n",
    "        'memory': FloatSeries\n",
    "        'pid': String\n",
    "        'stderr': StringSeries\n",
    "        'stdout': StringSeries\n",
    "        'tid': String\n",
    "'outputs':\n",
    "    'figures':\n",
    "        'display_fn_name:BatchPhoJonathanReplayFRC':\n",
    "            'plot_result_set:long_only':\n",
    "                'aclus:(16,19,6,31,10)': File\n",
    "                'aclus:(6,10,16,19,31)': File\n",
    "            'plot_result_set:shared':\n",
    "                'page:1of2':\n",
    "                    'aclus:(26,20,29,18,3,4,7,32,13,11,12,2,30,15,9,28,22,14,21,25)': File\n",
    "                'page:1of3':\n",
    "                    'aclus:(2,3,4,5,7,8,9,11,12,13)': File\n",
    "                'page:2of2':\n",
    "                    'aclus:(5,8,17,23,27)': File\n",
    "                'page:2of3':\n",
    "                    'aclus:(14,15,17,18,20,21,22,23,25,26)': File\n",
    "                'page:3of3':\n",
    "                    'aclus:(27,28,29,30,32)': File\n",
    "            'plot_result_set:short_only':\n",
    "                'aclus:(24)': File\n",
    "        'display_fn_name:_display_grid_bin_bounds_validation': File\n",
    "        'display_fn_name:bidir_track_remap':\n",
    "            'subplot_name:Track Remapping': File\n",
    "        'display_fn_name:display_long_short_laps': File\n",
    "        'display_fn_name:display_short_long_pf1D_comparison':\n",
    "            'track:long': File\n",
    "            'track:short': File\n",
    "        'display_fn_name:plot_all_epoch_bins_marginal_predictions':\n",
    "            'subplot_name:Laps all_epoch_binned Marginals': File\n",
    "            'subplot_name:Ripple all_epoch_binned Marginals': File\n",
    "        'display_fn_name:plot_expected_vs_observed':\n",
    "            'x_variable:epoch_idx':\n",
    "                'variable:obs_exp_diff_ptp': File\n",
    "        'display_fn_name:plot_histograms':\n",
    "            'subplot_name:laps_result_tuple': File\n",
    "            'subplot_name:ripple_result_tuple': File\n",
    "        'display_fn_name:plot_quantile_diffs':\n",
    "            'subplot_name:BestDir': File\n",
    "        'display_fn_name:plot_rank_order_epoch_inst_fr_result_tuples':\n",
    "            'subplot_name:Lap':\n",
    "                'subplotsubplot_name:raw': File\n",
    "                'subplotsubplot_name:z_score_diff': File\n",
    "            'subplot_name:Ripple':\n",
    "                'subplotsubplot_name:raw': File\n",
    "                'subplotsubplot_name:z_score_diff': File\n",
    "        'display_fn_name:plot_rank_order_histograms':\n",
    "            'subplot_name:Ripple Most-likely Spearman Rho': File\n",
    "            'subplot_name:Ripple Most-likely Z-scores': File\n",
    "            'subplot_name:Ripple Z-scores': File\n",
    "            'subplot_name:Ripple real correlations': File\n",
    "        'display_fn_name:running_and_replay_speeds_over_time': File\n",
    "        'filter_name:maze1_any':\n",
    "            'lap_dir:any':\n",
    "                'display_fn_name:1d_placefields': File\n",
    "                'display_fn_name:_display_1d_placefield_validations': File\n",
    "                'display_fn_name:_display_2d_placefield_result_plot_ratemaps_2D': File\n",
    "                'display_fn_name:plot_occupancy':\n",
    "                    'plot_variable:OCCUPANCY': File\n",
    "                'display_fn_name:plot_single_track_firing_rate_compare': File\n",
    "        'filter_name:maze1_even':\n",
    "            'lap_dir:even':\n",
    "                'display_fn_name:1d_placefields': File\n",
    "                'display_fn_name:_display_1d_placefield_validations': File\n",
    "                'display_fn_name:_display_2d_placefield_result_plot_ratemaps_2D': File\n",
    "                'display_fn_name:plot_occupancy':\n",
    "                    'plot_variable:OCCUPANCY': File\n",
    "        'filter_name:maze1_odd':\n",
    "            'lap_dir:odd':\n",
    "                'display_fn_name:1d_placefields': File\n",
    "                'display_fn_name:_display_1d_placefield_validations': File\n",
    "                'display_fn_name:_display_2d_placefield_result_plot_ratemaps_2D': File\n",
    "                'display_fn_name:plot_occupancy':\n",
    "                    'plot_variable:OCCUPANCY': File\n",
    "        'filter_name:maze2_any':\n",
    "            'lap_dir:any':\n",
    "                'display_fn_name:1d_placefields': File\n",
    "                'display_fn_name:_display_1d_placefield_validations': File\n",
    "                'display_fn_name:_display_2d_placefield_result_plot_ratemaps_2D': File\n",
    "                'display_fn_name:plot_occupancy':\n",
    "                    'plot_variable:OCCUPANCY': File\n",
    "                'display_fn_name:plot_single_track_firing_rate_compare': File\n",
    "        'filter_name:maze2_even':\n",
    "            'lap_dir:even':\n",
    "                'display_fn_name:1d_placefields': File\n",
    "                'display_fn_name:_display_1d_placefield_validations': File\n",
    "                'display_fn_name:_display_2d_placefield_result_plot_ratemaps_2D': File\n",
    "                'display_fn_name:plot_occupancy':\n",
    "                    'plot_variable:OCCUPANCY': File\n",
    "        'filter_name:maze2_odd':\n",
    "            'lap_dir:odd':\n",
    "                'display_fn_name:1d_placefields': File\n",
    "                'display_fn_name:_display_1d_placefield_validations': File\n",
    "                'display_fn_name:_display_2d_placefield_result_plot_ratemaps_2D': File\n",
    "                'display_fn_name:plot_occupancy':\n",
    "                    'plot_variable:OCCUPANCY': File\n",
    "        'filter_name:maze_any':\n",
    "            'lap_dir:any':\n",
    "                'display_fn_name:1d_placefields': File\n",
    "                'display_fn_name:_display_1d_placefield_validations': File\n",
    "                'display_fn_name:_display_2d_placefield_result_plot_ratemaps_2D': File\n",
    "                'display_fn_name:plot_occupancy':\n",
    "                    'plot_variable:OCCUPANCY': File\n",
    "        'filter_name:maze_even':\n",
    "            'lap_dir:even':\n",
    "                'display_fn_name:1d_placefields': File\n",
    "                'display_fn_name:_display_1d_placefield_validations': File\n",
    "                'display_fn_name:_display_2d_placefield_result_plot_ratemaps_2D': File\n",
    "                'display_fn_name:plot_occupancy':\n",
    "                    'plot_variable:OCCUPANCY': File\n",
    "        'filter_name:maze_odd':\n",
    "            'lap_dir:odd':\n",
    "                'display_fn_name:1d_placefields': File\n",
    "                'display_fn_name:_display_1d_placefield_validations': File\n",
    "                'display_fn_name:_display_2d_placefield_result_plot_ratemaps_2D': File\n",
    "                'display_fn_name:plot_occupancy':\n",
    "                    'plot_variable:OCCUPANCY': File\n",
    "        'fn_name:long_short_firing_rate_indicies':\n",
    "            'display_fn_name:display_long_short_laps': File\n",
    "'session_descriptor_string': String\n",
    "'session_name': String\n",
    "'source_code':\n",
    "    'diff': File\n",
    "    'entrypoint': String\n",
    "'sys':\n",
    "    'creation_time': Datetime\n",
    "    'description': String\n",
    "    'failed': Boolean\n",
    "    'group_tags': StringSet\n",
    "    'hostname': String\n",
    "    'id': String\n",
    "    'modification_time': Datetime\n",
    "    'monitoring_time': Integer\n",
    "    'name': String\n",
    "    'owner': String\n",
    "    'ping_time': Datetime\n",
    "    'running_time': Float\n",
    "    'size': Float\n",
    "    'state': RunState\n",
    "    'tags': StringSet\n",
    "    'trashed': Boolean\n",
    "```\n",
    "How can I capture this printed output (printed to stdout I think) and then parse it into a tree-like structure made of nested-dictionaries to be able to figure out the available structure?"
   ]
  },
  {
   "cell_type": "code",
   "execution_count": null,
   "metadata": {},
   "outputs": [],
   "source": [
    "# Fetch all experiments\n",
    "experiments = neptuner.project.fetch_experiments_table().to_pandas()\n",
    "experiments"
   ]
  },
  {
   "cell_type": "code",
   "execution_count": null,
   "metadata": {},
   "outputs": [],
   "source": [
    "# Initialize the neptune client\n",
    "# neptune.init(project=neptune_kwargs['project'], api_token=neptune_kwargs['api_token'])\n",
    "\n",
    "# project = neptune.get_project()\n",
    "# project"
   ]
  },
  {
   "cell_type": "code",
   "execution_count": null,
   "metadata": {},
   "outputs": [],
   "source": [
    "\n",
    "\n",
    "if neptuner.run is None:\n",
    "    neptuner.run = AutoValueConvertingNeptuneRun(project=neptuner.project_name, api_token=neptuner.api_token, dependencies=\"infer\", source_files=[notebook_filepath])\n",
    "    params = {\"TODAY_DAY_DATE\": TODAY_DAY_DATE, \"run_workstation\": \"Apogee\"}\n",
    "    neptuner.run[\"parameters\"] = params\n",
    "    neptuner.outputs = neptuner.run['outputs']\n",
    "    neptuner.figures = neptuner.outputs['figures']\n",
    "\n",
    "neptuner_run: AutoValueConvertingNeptuneRun = neptuner.run\n",
    "\n",
    "# run = neptune.init_run(source_files=[\"**/*.dvc\"])\n",
    "\n",
    "# # Pre-execution dataframe view:\n",
    "# run[\"dataset/global_batch_run_progress_df\"].upload(File.as_html(global_batch_run.to_dataframe(expand_context=True, good_only=False))) # \"path/to/test_preds.csv\"\n",
    "\n",
    "\n",
    "\n",
    "known_bad_sessions = [IdentifyingContext(format_name='kdiba',animal='pin01',exper_name='one',session_name='11-02_17-46-44')]\n",
    "known_bad_session_strs = [str(v.get_description()) for v in known_bad_sessions]\n",
    "known_bad_session_strs"
   ]
  }
 ],
 "metadata": {
  "kernelspec": {
   "display_name": "Python 3 (ipykernel)",
   "language": "python",
   "name": "python3"
  },
  "language_info": {
   "codemirror_mode": {
    "name": "ipython",
    "version": 3
   },
   "file_extension": ".py",
   "mimetype": "text/x-python",
   "name": "python",
   "nbconvert_exporter": "python",
   "pygments_lexer": "ipython3",
   "version": "3.9.13"
  }
 },
 "nbformat": 4,
 "nbformat_minor": 4
}
