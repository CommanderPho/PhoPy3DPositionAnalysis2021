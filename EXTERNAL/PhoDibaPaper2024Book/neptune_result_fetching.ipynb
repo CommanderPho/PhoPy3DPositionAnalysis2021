{
 "cells": [
  {
   "cell_type": "markdown",
   "metadata": {
    "vscode": {
     "languageId": "plaintext"
    }
   },
   "source": [
    "# Neptune Result Fetching Notebook"
   ]
  },
  {
   "cell_type": "code",
   "execution_count": 1,
   "metadata": {
    "tags": []
   },
   "outputs": [
    {
     "name": "stdout",
     "output_type": "stream",
     "text": [
      "Automatic pdb calling has been turned OFF\n",
      "TODAY_DAY_DATE: 2024-09-24_Lab\n",
      "[neptune] [info   ] Neptune initialized. Open in the app: https://app.neptune.ai/commander.pho/PhoDibaBatchProcessing/\n"
     ]
    }
   ],
   "source": [
    "%config IPCompleter.use_jedi = False\n",
    "%pdb off\n",
    "%load_ext autoreload\n",
    "%autoreload 3\n",
    "\n",
    "# required to enable non-blocking interaction:\n",
    "%gui qt5\n",
    "\n",
    "# import ipywidgets as widgets\n",
    "# widgets.Widget.control_comm_live = False\n",
    "\n",
    "import sys\n",
    "from copy import deepcopy\n",
    "from typing import Dict, List, Tuple, Optional, Callable, Union, Any\n",
    "from typing_extensions import TypeAlias\n",
    "from neuropy.utils.result_context import IdentifyingContext\n",
    "from nptyping import NDArray\n",
    "import neuropy.utils.type_aliases as types\n",
    "from collections import defaultdict\n",
    "\n",
    "import numpy as np\n",
    "import pandas as pd\n",
    "import re\n",
    "from pathlib import Path\n",
    "from datetime import datetime\n",
    "\n",
    "from neuropy.utils.indexing_helpers import PandasHelpers\n",
    "from pyphocorehelpers.indexing_helpers import partition_df\n",
    "# Set the maximum number of columns to display\n",
    "pd.set_option('display.max_columns', 100)\n",
    "\n",
    "import IPython\n",
    "from pyphocorehelpers.programming_helpers import IPythonHelpers\n",
    "from pyphocorehelpers.notebook_helpers import NotebookCellExecutionLogger\n",
    "from pyphocorehelpers.assertion_helpers import Assert\n",
    "\n",
    "# Jupyter-lab enable printing for any line on its own (instead of just the last one in the cell)\n",
    "from IPython.core.interactiveshell import InteractiveShell\n",
    "InteractiveShell.ast_node_interactivity = \"all\"\n",
    "\n",
    "# _notebook_path:Path = Path(IPythonHelpers.try_find_notebook_filepath(IPython.extract_module_locals())).resolve() # Finds the path of THIS notebook\n",
    "\n",
    "# Plotting\n",
    "# import pylustrator # customization of figures\n",
    "import matplotlib\n",
    "import matplotlib as mpl\n",
    "import matplotlib.pyplot as plt\n",
    "_bak_rcParams = mpl.rcParams.copy()\n",
    "\n",
    "matplotlib.use('Qt5Agg')\n",
    "\n",
    "# Switch to the desired interactivity mode\n",
    "plt.interactive(True)\n",
    "\n",
    "import seaborn as sns\n",
    "\n",
    "import plotly.express as px\n",
    "import plotly.graph_objects as go\n",
    "from plotly.subplots import make_subplots\n",
    "import plotly.io as pio\n",
    "template: str = 'plotly_dark' # set plotl template\n",
    "pio.templates.default = template\n",
    "from pyphocorehelpers.plotting.media_output_helpers import fig_to_clipboard\n",
    "from pyphocorehelpers.Filesystem.path_helpers import file_uri_from_path, sanitize_filename_for_Windows\n",
    "from pyphocorehelpers.gui.Jupyter.simple_widgets import fullwidth_path_widget, simple_path_display_widget\n",
    "from pyphoplacecellanalysis.Pho2D.plotly.Extensions.plotly_helpers import plotly_helper_save_figures, _helper_build_figure, plotly_pre_post_delta_scatter, plot_across_sessions_scatter_results\n",
    "from pyphocorehelpers.assertion_helpers import Assert\n",
    "\n",
    "# from ..PendingNotebookCode import plot_across_sessions_scatter_results, plot_histograms, plot_stacked_histograms\n",
    "from pyphocorehelpers.Filesystem.path_helpers import find_first_extant_path\n",
    "from pyphoplacecellanalysis.SpecificResults.AcrossSessionResults import find_csv_files, find_HDF5_files, find_most_recent_files\n",
    "from pyphoplacecellanalysis.Pho2D.statistics_plotting_helpers import plot_histograms_across_sessions, plot_histograms, plot_stacked_histograms\n",
    "\n",
    "from pyphoplacecellanalysis.General.Pipeline.Stages.ComputationFunctions.MultiContextComputationFunctions.DirectionalPlacefieldGlobalComputationFunctions import DecoderDecodedEpochsResult\n",
    "from pyphoplacecellanalysis.SpecificResults.AcrossSessionResults import load_across_sessions_exported_files, _process_and_load_exported_file, _common_cleanup_operations\n",
    "\n",
    "from pyphocorehelpers.programming_helpers import metadata_attributes\n",
    "from pyphocorehelpers.function_helpers import function_attributes\n",
    "\n",
    "from pyphoplacecellanalysis.SpecificResults.AcrossSessionResults import build_session_t_delta, _new_process_csv_files, _old_process_csv_files\n",
    "\n",
    "debug_print: bool = False\n",
    "\n",
    "_TODAY_DAY_ONLY_DATE: str = \"2024-09-24\"\n",
    "# TODAY_DAY_DATE: str = f\"{_TODAY_DAY_ONLY_DATE}_Apogee\"\n",
    "# TODAY_DAY_DATE: str = f\"{_TODAY_DAY_ONLY_DATE}_GL\"\n",
    "TODAY_DAY_DATE: str = f\"{_TODAY_DAY_ONLY_DATE}_Lab\"\n",
    "# TODAY_DAY_DATE: str = f\"{_TODAY_DAY_ONLY_DATE}_rMBP\"\n",
    "\n",
    "print(f'TODAY_DAY_DATE: {TODAY_DAY_DATE}')\n",
    "\n",
    "types.session_str: TypeAlias = str # a unique session identifier\n",
    "\n",
    "import neptune # for logging progress and results\n",
    "from neptune.types import File\n",
    "from pyphoplacecellanalysis.General.Batch.NeptuneAiHelpers import Neptuner, AutoValueConvertingNeptuneRun, set_environment_variables, SessionDescriptorString, RunID, NeptuneRunCollectedResults\n",
    "from pyphoplacecellanalysis.General.Batch.NeptuneAiHelpers import KnownNeptuneProjects\n",
    "\n",
    "## Gets the notebook filepath for Neptune:\n",
    "import IPython\n",
    "from pyphocorehelpers.programming_helpers import IPythonHelpers\n",
    "# notebook_filepath: str = IPythonHelpers.try_find_notebook_filepath(IPython.extract_module_locals())\n",
    "# assert Path(notebook_filepath).resolve().exists(), f\"found notebook filepath: '{notebook_filepath}' does not exist\"\n",
    "# notebook_filepath\n",
    "        \n",
    "neptune_kwargs = KnownNeptuneProjects.get_PhoDibaBatchProcessing_neptune_kwargs()\n",
    "# neptune_kwargs = KnownNeptuneProjects.get_PhoDibaLongShortUpdated_neptune_kwargs()\n",
    "neptuner = Neptuner(project_name=neptune_kwargs['project'], api_token=neptune_kwargs['api_token'])\n",
    "# neptuner\n",
    "# neptuner.project"
   ]
  },
  {
   "cell_type": "code",
   "execution_count": 2,
   "metadata": {
    "tags": []
   },
   "outputs": [
    {
     "data": {
      "application/vnd.jupyter.widget-view+json": {
       "model_id": "0e1fb03690da4052bec4ff974a10c026",
       "version_major": 2,
       "version_minor": 0
      },
      "text/plain": [
       "Fetching table...: 0 [00:00, ?/s]"
      ]
     },
     "metadata": {},
     "output_type": "display_data"
    },
    {
     "name": "stdout",
     "output_type": "stream",
     "text": [
      "[neptune] [info   ] Neptune initialized. Open in the app: https://app.neptune.ai/commander.pho/PhoDibaBatchProcessing/e/PHDBATCH-1380\n",
      "[neptune] [info   ] Neptune initialized. Open in the app: https://app.neptune.ai/commander.pho/PhoDibaBatchProcessing/e/PHDBATCH-1395\n",
      "[neptune] [info   ] Neptune initialized. Open in the app: https://app.neptune.ai/commander.pho/PhoDibaBatchProcessing/e/PHDBATCH-1394\n",
      "[neptune] [info   ] Neptune initialized. Open in the app: https://app.neptune.ai/commander.pho/PhoDibaBatchProcessing/e/PHDBATCH-1393\n",
      "[neptune] [info   ] Neptune initialized. Open in the app: https://app.neptune.ai/commander.pho/PhoDibaBatchProcessing/e/PHDBATCH-1392\n",
      "[neptune] [info   ] Neptune initialized. Open in the app: https://app.neptune.ai/commander.pho/PhoDibaBatchProcessing/e/PHDBATCH-1390\n",
      "[neptune] [info   ] Neptune initialized. Open in the app: https://app.neptune.ai/commander.pho/PhoDibaBatchProcessing/e/PHDBATCH-1391\n",
      "[neptune] [info   ] Neptune initialized. Open in the app: https://app.neptune.ai/commander.pho/PhoDibaBatchProcessing/e/PHDBATCH-1388\n",
      "[neptune] [info   ] Neptune initialized. Open in the app: https://app.neptune.ai/commander.pho/PhoDibaBatchProcessing/e/PHDBATCH-1389\n",
      "[neptune] [info   ] Neptune initialized. Open in the app: https://app.neptune.ai/commander.pho/PhoDibaBatchProcessing/e/PHDBATCH-1387\n",
      "[neptune] [info   ] Neptune initialized. Open in the app: https://app.neptune.ai/commander.pho/PhoDibaBatchProcessing/e/PHDBATCH-1386\n",
      "[neptune] [info   ] Neptune initialized. Open in the app: https://app.neptune.ai/commander.pho/PhoDibaBatchProcessing/e/PHDBATCH-1384\n",
      "[neptune] [info   ] Neptune initialized. Open in the app: https://app.neptune.ai/commander.pho/PhoDibaBatchProcessing/e/PHDBATCH-1385\n",
      "[neptune] [info   ] Neptune initialized. Open in the app: https://app.neptune.ai/commander.pho/PhoDibaBatchProcessing/e/PHDBATCH-1382\n",
      "[neptune] [info   ] Neptune initialized. Open in the app: https://app.neptune.ai/commander.pho/PhoDibaBatchProcessing/e/PHDBATCH-1383\n",
      "[neptune] [info   ] Neptune initialized. Open in the app: https://app.neptune.ai/commander.pho/PhoDibaBatchProcessing/e/PHDBATCH-1381\n",
      "[neptune] [info   ] Neptune initialized. Open in the app: https://app.neptune.ai/commander.pho/PhoDibaBatchProcessing/e/PHDBATCH-1373\n",
      "[neptune] [info   ] Neptune initialized. Open in the app: https://app.neptune.ai/commander.pho/PhoDibaBatchProcessing/e/PHDBATCH-1369\n",
      "[neptune] [info   ] Neptune initialized. Open in the app: https://app.neptune.ai/commander.pho/PhoDibaBatchProcessing/e/PHDBATCH-1370\n",
      "[neptune] [info   ] Neptune initialized. Open in the app: https://app.neptune.ai/commander.pho/PhoDibaBatchProcessing/e/PHDBATCH-1368\n",
      "[neptune] [info   ] Neptune initialized. Open in the app: https://app.neptune.ai/commander.pho/PhoDibaBatchProcessing/e/PHDBATCH-1377\n",
      "[neptune] [info   ] Neptune initialized. Open in the app: https://app.neptune.ai/commander.pho/PhoDibaBatchProcessing/e/PHDBATCH-1378\n",
      "[neptune] [info   ] Neptune initialized. Open in the app: https://app.neptune.ai/commander.pho/PhoDibaBatchProcessing/e/PHDBATCH-1379\n",
      "[neptune] [info   ] Neptune initialized. Open in the app: https://app.neptune.ai/commander.pho/PhoDibaBatchProcessing/e/PHDBATCH-1372\n",
      "[neptune] [info   ] Neptune initialized. Open in the app: https://app.neptune.ai/commander.pho/PhoDibaBatchProcessing/e/PHDBATCH-1374\n",
      "[neptune] [info   ] Neptune initialized. Open in the app: https://app.neptune.ai/commander.pho/PhoDibaBatchProcessing/e/PHDBATCH-1364\n",
      "[neptune] [info   ] Neptune initialized. Open in the app: https://app.neptune.ai/commander.pho/PhoDibaBatchProcessing/e/PHDBATCH-1365\n",
      "[neptune] [info   ] Neptune initialized. Open in the app: https://app.neptune.ai/commander.pho/PhoDibaBatchProcessing/e/PHDBATCH-1367\n",
      "[neptune] [info   ] Neptune initialized. Open in the app: https://app.neptune.ai/commander.pho/PhoDibaBatchProcessing/e/PHDBATCH-1366\n",
      "[neptune] [info   ] Neptune initialized. Open in the app: https://app.neptune.ai/commander.pho/PhoDibaBatchProcessing/e/PHDBATCH-1375\n",
      "[neptune] [info   ] Neptune initialized. Open in the app: https://app.neptune.ai/commander.pho/PhoDibaBatchProcessing/e/PHDBATCH-1371\n",
      "[neptune] [info   ] Neptune initialized. Open in the app: https://app.neptune.ai/commander.pho/PhoDibaBatchProcessing/e/PHDBATCH-1376\n",
      "[neptune] [info   ] Neptune initialized. Open in the app: https://app.neptune.ai/commander.pho/PhoDibaBatchProcessing/e/PHDBATCH-1361\n",
      "[neptune] [info   ] Neptune initialized. Open in the app: https://app.neptune.ai/commander.pho/PhoDibaBatchProcessing/e/PHDBATCH-1348\n",
      "[neptune] [info   ] Neptune initialized. Open in the app: https://app.neptune.ai/commander.pho/PhoDibaBatchProcessing/e/PHDBATCH-1350\n",
      "[neptune] [info   ] Neptune initialized. Open in the app: https://app.neptune.ai/commander.pho/PhoDibaBatchProcessing/e/PHDBATCH-1349\n",
      "[neptune] [info   ] Neptune initialized. Open in the app: https://app.neptune.ai/commander.pho/PhoDibaBatchProcessing/e/PHDBATCH-1357\n",
      "[neptune] [info   ] Neptune initialized. Open in the app: https://app.neptune.ai/commander.pho/PhoDibaBatchProcessing/e/PHDBATCH-1359\n",
      "[neptune] [info   ] Neptune initialized. Open in the app: https://app.neptune.ai/commander.pho/PhoDibaBatchProcessing/e/PHDBATCH-1363\n",
      "[neptune] [info   ] Neptune initialized. Open in the app: https://app.neptune.ai/commander.pho/PhoDibaBatchProcessing/e/PHDBATCH-1362\n",
      "[neptune] [info   ] Neptune initialized. Open in the app: https://app.neptune.ai/commander.pho/PhoDibaBatchProcessing/e/PHDBATCH-1351\n",
      "[neptune] [info   ] Neptune initialized. Open in the app: https://app.neptune.ai/commander.pho/PhoDibaBatchProcessing/e/PHDBATCH-1352\n",
      "[neptune] [info   ] Neptune initialized. Open in the app: https://app.neptune.ai/commander.pho/PhoDibaBatchProcessing/e/PHDBATCH-1353\n",
      "[neptune] [info   ] Neptune initialized. Open in the app: https://app.neptune.ai/commander.pho/PhoDibaBatchProcessing/e/PHDBATCH-1355\n",
      "[neptune] [info   ] Neptune initialized. Open in the app: https://app.neptune.ai/commander.pho/PhoDibaBatchProcessing/e/PHDBATCH-1354\n",
      "[neptune] [info   ] Neptune initialized. Open in the app: https://app.neptune.ai/commander.pho/PhoDibaBatchProcessing/e/PHDBATCH-1356\n",
      "[neptune] [info   ] Neptune initialized. Open in the app: https://app.neptune.ai/commander.pho/PhoDibaBatchProcessing/e/PHDBATCH-1358\n",
      "[neptune] [info   ] Neptune initialized. Open in the app: https://app.neptune.ai/commander.pho/PhoDibaBatchProcessing/e/PHDBATCH-1360\n",
      "Failed to fetch figures for run PHDBATCH-1395: 'value'\n",
      "Failed to fetch figures for run PHDBATCH-1394: 'value'\n",
      "Failed to fetch figures for run PHDBATCH-1393: 'value'\n",
      "Failed to fetch figures for run PHDBATCH-1392: 'value'\n",
      "Failed to fetch figures for run PHDBATCH-1390: 'value'\n",
      "Failed to fetch figures for run PHDBATCH-1391: 'value'\n",
      "Failed to fetch figures for run PHDBATCH-1388: 'value'\n",
      "Failed to fetch figures for run PHDBATCH-1389: 'value'\n",
      "Failed to fetch figures for run PHDBATCH-1387: 'value'\n",
      "Failed to fetch figures for run PHDBATCH-1386: 'value'\n",
      "Failed to fetch figures for run PHDBATCH-1384: 'value'\n",
      "Failed to fetch figures for run PHDBATCH-1385: 'value'\n",
      "Failed to fetch figures for run PHDBATCH-1382: 'value'\n",
      "Failed to fetch figures for run PHDBATCH-1383: 'value'\n",
      "Failed to fetch figures for run PHDBATCH-1381: 'value'\n"
     ]
    },
    {
     "data": {
      "text/plain": [
       "<pyphoplacecellanalysis.General.Batch.NeptuneAiHelpers.NeptuneRunCollectedResults at 0x7fcd3007ae80>"
      ]
     },
     "execution_count": 2,
     "metadata": {},
     "output_type": "execute_result"
    }
   ],
   "source": [
    "neptune_run_collected_results: NeptuneRunCollectedResults = neptuner.get_most_recent_session_runs(oldest_included_run_date='2024-09-24', n_recent_results=3)\n",
    "# neptune_run_collected_results: NeptuneRunCollectedResults = neptuner.get_most_recent_session_runs(oldest_included_run_date='2024-09-20', n_recent_results=3)\n",
    "# neptune_run_collected_results: NeptuneRunCollectedResults = neptuner.get_most_recent_session_runs(oldest_included_run_date='2024-09-20', n_recent_results=3)\n",
    "neptune_run_collected_results\n",
    "# runs_dict, most_recent_runs_table_df = neptuner.get_most_recent_session_runs(oldest_included_run_date='2024-06-01', n_recent_results=2)\n",
    "# most_recent_runs_table_df"
   ]
  },
  {
   "cell_type": "code",
   "execution_count": null,
   "metadata": {},
   "outputs": [],
   "source": [
    "context_indexed_runs_list_dict: Dict[IdentifyingContext, List[AutoValueConvertingNeptuneRun]] = neptune_run_collected_results.context_indexed_runs_list_dict\n",
    "# context_indexed_runs_list_dict\n",
    "\n",
    "# most_recent_runs_table_df\n",
    "context_indexed_run_logs: Dict[IdentifyingContext, str] = neptune_run_collected_results.context_indexed_run_logs\n",
    "# context_indexed_run_logs\n",
    "\n",
    "# run_logs: Dict[SessionDescriptorString, str] = neptune_run_collected_results.run_logs\n",
    "# run_logs\n",
    "\n",
    "## INPUTS: neptuner, run_logs, most_recent_runs_table_df\n",
    "\n",
    "# session_column_individual_variables = ['format_name', 'animal', 'exper_name', 'session_name']\n",
    "# session_column_variables = ['session_descriptor_string']\n",
    "# processing_status_column_names = ['sys/id', 'sys/hostname', 'sys/creation_time', 'sys/running_time', 'sys/ping_time', 'sys/monitoring_time', 'sys/size', 'sys/tags', 'source_code/entrypoint']\n",
    "# processing_status_column_names = ['sys/id', 'sys/hostname', 'sys/creation_time', 'sys/running_time', 'sys/ping_time', 'sys/monitoring_time', 'sys/size', 'sys/tags', 'source_code/entrypoint']\n",
    "# processing_status_column_names = ['id', 'hostname', 'creation_time', 'running_time', 'ping_time', 'monitoring_time', 'size', 'tags', 'entrypoint']\n",
    "\n",
    "most_recent_runs_table_df: pd.DataFrame = neptune_run_collected_results.most_recent_runs_table_df\n",
    "most_recent_runs_table_df\n",
    "most_recent_runs_session_descriptor_string_to_context_map: Dict[SessionDescriptorString, IdentifyingContext] = neptune_run_collected_results.most_recent_runs_session_descriptor_string_to_context_map\n",
    "## INPUTS: most_recent_runs_session_descriptor_string_to_context_map, run_logs\n",
    "context_indexed_run_logs: Dict[IdentifyingContext, str] = neptune_run_collected_results.context_indexed_run_logs # get the IdentifyingContext indexed item\n",
    "# context_indexed_run_logs\n",
    "\n",
    "# 'outputs/log'\n",
    "\n",
    "## INPUTS: most_recent_runs_table_df\n",
    "most_recent_runs_context_indexed_run_extra_data: Dict[IdentifyingContext, Dict] = neptune_run_collected_results.most_recent_runs_context_indexed_run_extra_data\n",
    "# most_recent_runs_context_indexed_run_extra_data # SessionTuple(format_name='kdiba', animal='pin01', exper_name='one', session_name='11-02_17-46-44', session_descriptor_string='kdiba_pin01_one_11-02_17-46-44_sess', id='LS2023-1335', hostname='gl3126.arc-ts.umich.edu', creation_time=Timestamp('2024-08-29 16:39:16.613000'), running_time=8735.629, ping_time=Timestamp('2024-09-24 08:38:06.626000'), monitoring_time=1543, size=28686905.0, tags='11-02_17-46-44,one,kdiba,pin01', entrypoint='figures_kdiba_pin01_one_11-02_17-46-44.py')\n",
    "\n",
    "# ['script_type']\n",
    "\n",
    "## OUTPUTS: most_recent_runs_session_descriptor_string_to_context_map, context_indexed_run_logs, most_recent_runs_context_indexed_run_extra_data"
   ]
  },
  {
   "cell_type": "code",
   "execution_count": 8,
   "metadata": {},
   "outputs": [
    {
     "data": {
      "text/plain": [
       "PosixPath('/home/halechr/repos/Spike3D/data')"
      ]
     },
     "execution_count": 8,
     "metadata": {},
     "output_type": "execute_result"
    },
    {
     "data": {
      "text/plain": [
       "PosixPath('/home/halechr/repos/Spike3D/data/commander.pho/PhoDibaBatchProcessing')"
      ]
     },
     "execution_count": 8,
     "metadata": {},
     "output_type": "execute_result"
    },
    {
     "data": {
      "text/plain": [
       "PosixPath('/home/halechr/repos/Spike3D/data/commander.pho/PhoDibaBatchProcessing/figs')"
      ]
     },
     "execution_count": 8,
     "metadata": {},
     "output_type": "execute_result"
    },
    {
     "data": {
      "text/plain": [
       "PosixPath('/home/halechr/repos/Spike3D/data/commander.pho/PhoDibaBatchProcessing/figs')"
      ]
     },
     "execution_count": 8,
     "metadata": {},
     "output_type": "execute_result"
    },
    {
     "data": {
      "text/plain": [
       "PosixPath('/home/halechr/repos/Spike3D/data/commander.pho/PhoDibaBatchProcessing/logs')"
      ]
     },
     "execution_count": 8,
     "metadata": {},
     "output_type": "execute_result"
    }
   ],
   "source": [
    "# neptune_root_output_path = Path('EXTERNAL/PhoDibaPaper2024Book/data/neptune').resolve()\n",
    "# neptune_root_output_path = Path(r\"C:\\Users\\pho\\repos\\Spike3DWorkEnv\\Spike3D\\EXTERNAL\\PhoDibaPaper2024Book\\data\\neptune\").resolve()\n",
    "neptune_root_output_path = Path(\"/home/halechr/repos/Spike3D/EXTERNAL/PhoDibaPaper2024Book/data\").resolve()\n",
    "neptune_root_output_path.mkdir(exist_ok=True)\n",
    "neptune_root_output_path\n",
    "# neptune_project_output_path = neptune_root_output_path.joinpath(neptuner.project_name).resolve()\n",
    "neptune_project_output_path = neptune_root_output_path.joinpath(neptuner.project_name).resolve()\n",
    "neptune_project_output_path.mkdir(exist_ok=True, parents=True)\n",
    "neptune_project_output_path\n",
    "\n",
    "neptune_project_figures_output_path = neptune_project_output_path.joinpath('figs').resolve()\n",
    "neptune_project_figures_output_path.mkdir(exist_ok=True, parents=True)\n",
    "neptune_project_figures_output_path\n",
    "\n",
    "neptune_project_figures_output_path = neptune_project_output_path.joinpath('figs').resolve()\n",
    "neptune_project_figures_output_path.mkdir(exist_ok=True, parents=True)\n",
    "neptune_project_figures_output_path\n",
    "\n",
    "neptune_logs_output_path = neptune_project_output_path.joinpath('logs').resolve()\n",
    "neptune_logs_output_path.mkdir(exist_ok=True, parents=True)\n",
    "neptune_logs_output_path"
   ]
  },
  {
   "cell_type": "code",
   "execution_count": 11,
   "metadata": {},
   "outputs": [
    {
     "data": {
      "application/vnd.jupyter.widget-view+json": {
       "model_id": "29c9d941eac74c71995d29aa7fb2d4c9",
       "version_major": 2,
       "version_minor": 0
      },
      "text/plain": [
       "Fetching file...: 0 [00:00, ?/s]"
      ]
     },
     "metadata": {},
     "output_type": "display_data"
    },
    {
     "data": {
      "application/vnd.jupyter.widget-view+json": {
       "model_id": "357a4401fbb847b0bad50b1b0d9e7a87",
       "version_major": 2,
       "version_minor": 0
      },
      "text/plain": [
       "Fetching file...: 0 [00:00, ?/s]"
      ]
     },
     "metadata": {},
     "output_type": "display_data"
    },
    {
     "data": {
      "application/vnd.jupyter.widget-view+json": {
       "model_id": "e475cf57613946b1990ac2bf38b74c15",
       "version_major": 2,
       "version_minor": 0
      },
      "text/plain": [
       "Fetching file...: 0 [00:00, ?/s]"
      ]
     },
     "metadata": {},
     "output_type": "display_data"
    },
    {
     "name": "stdout",
     "output_type": "stream",
     "text": [
      "MissingFieldException for a_run.id: PHDBATCH-1395\n"
     ]
    },
    {
     "data": {
      "application/vnd.jupyter.widget-view+json": {
       "model_id": "f91101eef4d8446d94a9c89fd608c95c",
       "version_major": 2,
       "version_minor": 0
      },
      "text/plain": [
       "Fetching file...: 0 [00:00, ?/s]"
      ]
     },
     "metadata": {},
     "output_type": "display_data"
    },
    {
     "data": {
      "application/vnd.jupyter.widget-view+json": {
       "model_id": "8d425fe5a2fc46f09a2f4ccfac981e8d",
       "version_major": 2,
       "version_minor": 0
      },
      "text/plain": [
       "Fetching file...: 0 [00:00, ?/s]"
      ]
     },
     "metadata": {},
     "output_type": "display_data"
    },
    {
     "name": "stdout",
     "output_type": "stream",
     "text": [
      "MissingFieldException for a_run.id: PHDBATCH-1394\n"
     ]
    },
    {
     "data": {
      "application/vnd.jupyter.widget-view+json": {
       "model_id": "8bb683ba13894193a9d4ff228445a356",
       "version_major": 2,
       "version_minor": 0
      },
      "text/plain": [
       "Fetching file...: 0 [00:00, ?/s]"
      ]
     },
     "metadata": {},
     "output_type": "display_data"
    },
    {
     "data": {
      "application/vnd.jupyter.widget-view+json": {
       "model_id": "5da85809d1b64ac2a6c27f4dba8add8a",
       "version_major": 2,
       "version_minor": 0
      },
      "text/plain": [
       "Fetching file...: 0 [00:00, ?/s]"
      ]
     },
     "metadata": {},
     "output_type": "display_data"
    },
    {
     "name": "stdout",
     "output_type": "stream",
     "text": [
      "MissingFieldException for a_run.id: PHDBATCH-1393\n"
     ]
    },
    {
     "data": {
      "application/vnd.jupyter.widget-view+json": {
       "model_id": "b318bcbd76e74a09b9c3edb1a2409c1b",
       "version_major": 2,
       "version_minor": 0
      },
      "text/plain": [
       "Fetching file...: 0 [00:00, ?/s]"
      ]
     },
     "metadata": {},
     "output_type": "display_data"
    },
    {
     "data": {
      "application/vnd.jupyter.widget-view+json": {
       "model_id": "c8082efa28a140f79ca84a0c058ad8d0",
       "version_major": 2,
       "version_minor": 0
      },
      "text/plain": [
       "Fetching file...: 0 [00:00, ?/s]"
      ]
     },
     "metadata": {},
     "output_type": "display_data"
    },
    {
     "name": "stdout",
     "output_type": "stream",
     "text": [
      "MissingFieldException for a_run.id: PHDBATCH-1392\n"
     ]
    },
    {
     "data": {
      "application/vnd.jupyter.widget-view+json": {
       "model_id": "9e174081655442f0aafa5c30007e1319",
       "version_major": 2,
       "version_minor": 0
      },
      "text/plain": [
       "Fetching file...: 0 [00:00, ?/s]"
      ]
     },
     "metadata": {},
     "output_type": "display_data"
    },
    {
     "data": {
      "application/vnd.jupyter.widget-view+json": {
       "model_id": "3b3e93adcccc49cc982c78eb7705e47a",
       "version_major": 2,
       "version_minor": 0
      },
      "text/plain": [
       "Fetching file...: 0 [00:00, ?/s]"
      ]
     },
     "metadata": {},
     "output_type": "display_data"
    },
    {
     "name": "stdout",
     "output_type": "stream",
     "text": [
      "MissingFieldException for a_run.id: PHDBATCH-1390\n"
     ]
    },
    {
     "data": {
      "application/vnd.jupyter.widget-view+json": {
       "model_id": "1e244376c034472897384e0a4036929c",
       "version_major": 2,
       "version_minor": 0
      },
      "text/plain": [
       "Fetching file...: 0 [00:00, ?/s]"
      ]
     },
     "metadata": {},
     "output_type": "display_data"
    },
    {
     "data": {
      "application/vnd.jupyter.widget-view+json": {
       "model_id": "37a1bcef65f04c40a2967807d22940c0",
       "version_major": 2,
       "version_minor": 0
      },
      "text/plain": [
       "Fetching file...: 0 [00:00, ?/s]"
      ]
     },
     "metadata": {},
     "output_type": "display_data"
    },
    {
     "name": "stdout",
     "output_type": "stream",
     "text": [
      "MissingFieldException for a_run.id: PHDBATCH-1391\n"
     ]
    },
    {
     "data": {
      "application/vnd.jupyter.widget-view+json": {
       "model_id": "34883abc7800446fb717849e4caa7bbf",
       "version_major": 2,
       "version_minor": 0
      },
      "text/plain": [
       "Fetching file...: 0 [00:00, ?/s]"
      ]
     },
     "metadata": {},
     "output_type": "display_data"
    },
    {
     "data": {
      "application/vnd.jupyter.widget-view+json": {
       "model_id": "2e3020cb6a364935a0dbcb7099591bf8",
       "version_major": 2,
       "version_minor": 0
      },
      "text/plain": [
       "Fetching file...: 0 [00:00, ?/s]"
      ]
     },
     "metadata": {},
     "output_type": "display_data"
    },
    {
     "name": "stdout",
     "output_type": "stream",
     "text": [
      "MissingFieldException for a_run.id: PHDBATCH-1388\n"
     ]
    },
    {
     "data": {
      "application/vnd.jupyter.widget-view+json": {
       "model_id": "f069828e57bb43bbbe779b806173a8ac",
       "version_major": 2,
       "version_minor": 0
      },
      "text/plain": [
       "Fetching file...: 0 [00:00, ?/s]"
      ]
     },
     "metadata": {},
     "output_type": "display_data"
    },
    {
     "data": {
      "application/vnd.jupyter.widget-view+json": {
       "model_id": "8a19f198dff14706b383e908cdb120de",
       "version_major": 2,
       "version_minor": 0
      },
      "text/plain": [
       "Fetching file...: 0 [00:00, ?/s]"
      ]
     },
     "metadata": {},
     "output_type": "display_data"
    },
    {
     "name": "stdout",
     "output_type": "stream",
     "text": [
      "MissingFieldException for a_run.id: PHDBATCH-1389\n"
     ]
    },
    {
     "data": {
      "application/vnd.jupyter.widget-view+json": {
       "model_id": "69d869b4168f4312ad59cb9fe7217b09",
       "version_major": 2,
       "version_minor": 0
      },
      "text/plain": [
       "Fetching file...: 0 [00:00, ?/s]"
      ]
     },
     "metadata": {},
     "output_type": "display_data"
    },
    {
     "data": {
      "application/vnd.jupyter.widget-view+json": {
       "model_id": "04098c9de3ce4a22a3ec87c9dca12bb4",
       "version_major": 2,
       "version_minor": 0
      },
      "text/plain": [
       "Fetching file...: 0 [00:00, ?/s]"
      ]
     },
     "metadata": {},
     "output_type": "display_data"
    },
    {
     "name": "stdout",
     "output_type": "stream",
     "text": [
      "MissingFieldException for a_run.id: PHDBATCH-1387\n"
     ]
    },
    {
     "data": {
      "application/vnd.jupyter.widget-view+json": {
       "model_id": "7f1d10934bb643b2b0ead7faed3573b2",
       "version_major": 2,
       "version_minor": 0
      },
      "text/plain": [
       "Fetching file...: 0 [00:00, ?/s]"
      ]
     },
     "metadata": {},
     "output_type": "display_data"
    },
    {
     "data": {
      "application/vnd.jupyter.widget-view+json": {
       "model_id": "659db6c8ef4640ae93d169feb3ba6717",
       "version_major": 2,
       "version_minor": 0
      },
      "text/plain": [
       "Fetching file...: 0 [00:00, ?/s]"
      ]
     },
     "metadata": {},
     "output_type": "display_data"
    },
    {
     "name": "stdout",
     "output_type": "stream",
     "text": [
      "MissingFieldException for a_run.id: PHDBATCH-1386\n"
     ]
    },
    {
     "data": {
      "application/vnd.jupyter.widget-view+json": {
       "model_id": "27ad27f3efb14d9384d25d321b1e7660",
       "version_major": 2,
       "version_minor": 0
      },
      "text/plain": [
       "Fetching file...: 0 [00:00, ?/s]"
      ]
     },
     "metadata": {},
     "output_type": "display_data"
    },
    {
     "data": {
      "application/vnd.jupyter.widget-view+json": {
       "model_id": "553c8a5ce5ea4734a308484b11e054cd",
       "version_major": 2,
       "version_minor": 0
      },
      "text/plain": [
       "Fetching file...: 0 [00:00, ?/s]"
      ]
     },
     "metadata": {},
     "output_type": "display_data"
    },
    {
     "name": "stdout",
     "output_type": "stream",
     "text": [
      "MissingFieldException for a_run.id: PHDBATCH-1384\n"
     ]
    },
    {
     "data": {
      "application/vnd.jupyter.widget-view+json": {
       "model_id": "6822c96085b3429c8476a3d8d401b1df",
       "version_major": 2,
       "version_minor": 0
      },
      "text/plain": [
       "Fetching file...: 0 [00:00, ?/s]"
      ]
     },
     "metadata": {},
     "output_type": "display_data"
    },
    {
     "data": {
      "application/vnd.jupyter.widget-view+json": {
       "model_id": "ccd97b97da6a43c886937c8af4104fca",
       "version_major": 2,
       "version_minor": 0
      },
      "text/plain": [
       "Fetching file...: 0 [00:00, ?/s]"
      ]
     },
     "metadata": {},
     "output_type": "display_data"
    },
    {
     "name": "stdout",
     "output_type": "stream",
     "text": [
      "MissingFieldException for a_run.id: PHDBATCH-1385\n"
     ]
    },
    {
     "data": {
      "application/vnd.jupyter.widget-view+json": {
       "model_id": "6c1471251c4a4ae1a74989e3a7af79aa",
       "version_major": 2,
       "version_minor": 0
      },
      "text/plain": [
       "Fetching file...: 0 [00:00, ?/s]"
      ]
     },
     "metadata": {},
     "output_type": "display_data"
    },
    {
     "data": {
      "application/vnd.jupyter.widget-view+json": {
       "model_id": "750e492ffb4b406390f54972b0b93b0c",
       "version_major": 2,
       "version_minor": 0
      },
      "text/plain": [
       "Fetching file...: 0 [00:00, ?/s]"
      ]
     },
     "metadata": {},
     "output_type": "display_data"
    },
    {
     "name": "stdout",
     "output_type": "stream",
     "text": [
      "MissingFieldException for a_run.id: PHDBATCH-1382\n"
     ]
    },
    {
     "data": {
      "application/vnd.jupyter.widget-view+json": {
       "model_id": "f1be5c75c15043b68030c8401b9fdc16",
       "version_major": 2,
       "version_minor": 0
      },
      "text/plain": [
       "Fetching file...: 0 [00:00, ?/s]"
      ]
     },
     "metadata": {},
     "output_type": "display_data"
    },
    {
     "data": {
      "application/vnd.jupyter.widget-view+json": {
       "model_id": "d55b942ad1f84b9788d3af2f7c91de1c",
       "version_major": 2,
       "version_minor": 0
      },
      "text/plain": [
       "Fetching file...: 0 [00:00, ?/s]"
      ]
     },
     "metadata": {},
     "output_type": "display_data"
    },
    {
     "name": "stdout",
     "output_type": "stream",
     "text": [
      "MissingFieldException for a_run.id: PHDBATCH-1383\n"
     ]
    },
    {
     "data": {
      "application/vnd.jupyter.widget-view+json": {
       "model_id": "33db37c6ca014c96b7a8e5bb7c7b9aff",
       "version_major": 2,
       "version_minor": 0
      },
      "text/plain": [
       "Fetching file...: 0 [00:00, ?/s]"
      ]
     },
     "metadata": {},
     "output_type": "display_data"
    },
    {
     "data": {
      "application/vnd.jupyter.widget-view+json": {
       "model_id": "4597e2efed7146c8a17a911ad1fd454b",
       "version_major": 2,
       "version_minor": 0
      },
      "text/plain": [
       "Fetching file...: 0 [00:00, ?/s]"
      ]
     },
     "metadata": {},
     "output_type": "display_data"
    },
    {
     "name": "stdout",
     "output_type": "stream",
     "text": [
      "MissingFieldException for a_run.id: PHDBATCH-1381\n"
     ]
    },
    {
     "data": {
      "application/vnd.jupyter.widget-view+json": {
       "model_id": "0c931da449644f2598b5a95c49a83a97",
       "version_major": 2,
       "version_minor": 0
      },
      "text/plain": [
       "Fetching file...: 0 [00:00, ?/s]"
      ]
     },
     "metadata": {},
     "output_type": "display_data"
    },
    {
     "data": {
      "application/vnd.jupyter.widget-view+json": {
       "model_id": "6fefd8f47ce94967b552d7c3cdff3478",
       "version_major": 2,
       "version_minor": 0
      },
      "text/plain": [
       "Fetching file...: 0 [00:00, ?/s]"
      ]
     },
     "metadata": {},
     "output_type": "display_data"
    },
    {
     "data": {
      "text/plain": [
       "{Context(format_name: 'kdiba'\n",
       "         animal: 'vvp01'\n",
       "         exper_name: 'one'\n",
       "         session_name: '2006-4-10_12-25-50'): {'PHDBATCH-1380': '/home/halechr/repos/Spike3D/data/commander.pho/PhoDibaBatchProcessing/logs/kdiba|vvp01|one|2006-4-10_12-25-50|figures|PHDBATCH-1380.log',\n",
       "  'PHDBATCH-1367': '/home/halechr/repos/Spike3D/data/commander.pho/PhoDibaBatchProcessing/logs/kdiba|vvp01|one|2006-4-10_12-25-50|run|PHDBATCH-1367.log',\n",
       "  'PHDBATCH-1354': '/home/halechr/repos/Spike3D/data/commander.pho/PhoDibaBatchProcessing/logs/kdiba|vvp01|one|2006-4-10_12-25-50|run|PHDBATCH-1354.log'},\n",
       " Context(format_name: 'kdiba'\n",
       "         animal: 'pin01'\n",
       "         exper_name: 'one'\n",
       "         session_name: '11-02_19-28-0'): {'PHDBATCH-1375': '/home/halechr/repos/Spike3D/data/commander.pho/PhoDibaBatchProcessing/logs/kdiba|pin01|one|11-02_19-28-0|run|PHDBATCH-1375.log',\n",
       "  'PHDBATCH-1356': '/home/halechr/repos/Spike3D/data/commander.pho/PhoDibaBatchProcessing/logs/kdiba|pin01|one|11-02_19-28-0|run|PHDBATCH-1356.log'},\n",
       " Context(format_name: 'kdiba'\n",
       "         animal: 'pin01'\n",
       "         exper_name: 'one'\n",
       "         session_name: '11-03_12-3-25'): {'PHDBATCH-1371': '/home/halechr/repos/Spike3D/data/commander.pho/PhoDibaBatchProcessing/logs/kdiba|pin01|one|11-03_12-3-25|run|PHDBATCH-1371.log',\n",
       "  'PHDBATCH-1358': '/home/halechr/repos/Spike3D/data/commander.pho/PhoDibaBatchProcessing/logs/kdiba|pin01|one|11-03_12-3-25|run|PHDBATCH-1358.log'},\n",
       " Context(format_name: 'kdiba'\n",
       "         animal: 'pin01'\n",
       "         exper_name: 'one'\n",
       "         session_name: '11-02_17-46-44'): {'PHDBATCH-1374': '/home/halechr/repos/Spike3D/data/commander.pho/PhoDibaBatchProcessing/logs/kdiba|pin01|one|11-02_17-46-44|run|PHDBATCH-1374.log',\n",
       "  'PHDBATCH-1355': '/home/halechr/repos/Spike3D/data/commander.pho/PhoDibaBatchProcessing/logs/kdiba|pin01|one|11-02_17-46-44|run|PHDBATCH-1355.log'},\n",
       " Context(format_name: 'kdiba'\n",
       "         animal: 'vvp01'\n",
       "         exper_name: 'two'\n",
       "         session_name: '2006-4-10_12-58-3'): {'PHDBATCH-1372': '/home/halechr/repos/Spike3D/data/commander.pho/PhoDibaBatchProcessing/logs/kdiba|vvp01|two|2006-4-10_12-58-3|run|PHDBATCH-1372.log',\n",
       "  'PHDBATCH-1362': '/home/halechr/repos/Spike3D/data/commander.pho/PhoDibaBatchProcessing/logs/kdiba|vvp01|two|2006-4-10_12-58-3|run|PHDBATCH-1362.log'},\n",
       " Context(format_name: 'kdiba'\n",
       "         animal: 'gor01'\n",
       "         exper_name: 'one'\n",
       "         session_name: '2006-6-09_1-22-43'): {'PHDBATCH-1378': '/home/halechr/repos/Spike3D/data/commander.pho/PhoDibaBatchProcessing/logs/kdiba|gor01|one|2006-6-09_1-22-43|run|PHDBATCH-1378.log',\n",
       "  'PHDBATCH-1359': '/home/halechr/repos/Spike3D/data/commander.pho/PhoDibaBatchProcessing/logs/kdiba|gor01|one|2006-6-09_1-22-43|run|PHDBATCH-1359.log'},\n",
       " Context(format_name: 'kdiba'\n",
       "         animal: 'gor01'\n",
       "         exper_name: 'one'\n",
       "         session_name: '2006-6-12_15-55-31'): {'PHDBATCH-1376': '/home/halechr/repos/Spike3D/data/commander.pho/PhoDibaBatchProcessing/logs/kdiba|gor01|one|2006-6-12_15-55-31|run|PHDBATCH-1376.log',\n",
       "  'PHDBATCH-1360': '/home/halechr/repos/Spike3D/data/commander.pho/PhoDibaBatchProcessing/logs/kdiba|gor01|one|2006-6-12_15-55-31|run|PHDBATCH-1360.log'},\n",
       " Context(format_name: 'kdiba'\n",
       "         animal: 'gor01'\n",
       "         exper_name: 'one'\n",
       "         session_name: '2006-6-07_11-26-53'): {'PHDBATCH-1373': '/home/halechr/repos/Spike3D/data/commander.pho/PhoDibaBatchProcessing/logs/kdiba|gor01|one|2006-6-07_11-26-53|run|PHDBATCH-1373.log',\n",
       "  'PHDBATCH-1361': '/home/halechr/repos/Spike3D/data/commander.pho/PhoDibaBatchProcessing/logs/kdiba|gor01|one|2006-6-07_11-26-53|run|PHDBATCH-1361.log'},\n",
       " Context(format_name: 'kdiba'\n",
       "         animal: 'pin01'\n",
       "         exper_name: 'one'\n",
       "         session_name: 'fet11-01_12-58-54'): {'PHDBATCH-1379': '/home/halechr/repos/Spike3D/data/commander.pho/PhoDibaBatchProcessing/logs/kdiba|pin01|one|fet11-01_12-58-54|run|PHDBATCH-1379.log',\n",
       "  'PHDBATCH-1351': '/home/halechr/repos/Spike3D/data/commander.pho/PhoDibaBatchProcessing/logs/kdiba|pin01|one|fet11-01_12-58-54|run|PHDBATCH-1351.log'},\n",
       " Context(format_name: 'kdiba'\n",
       "         animal: 'vvp01'\n",
       "         exper_name: 'two'\n",
       "         session_name: '2006-4-09_16-40-54'): {'PHDBATCH-1366': '/home/halechr/repos/Spike3D/data/commander.pho/PhoDibaBatchProcessing/logs/kdiba|vvp01|two|2006-4-09_16-40-54|run|PHDBATCH-1366.log',\n",
       "  'PHDBATCH-1353': '/home/halechr/repos/Spike3D/data/commander.pho/PhoDibaBatchProcessing/logs/kdiba|vvp01|two|2006-4-09_16-40-54|run|PHDBATCH-1353.log'},\n",
       " Context(format_name: 'kdiba'\n",
       "         animal: 'gor01'\n",
       "         exper_name: 'one'\n",
       "         session_name: '2006-6-08_14-26-15'): {'PHDBATCH-1368': '/home/halechr/repos/Spike3D/data/commander.pho/PhoDibaBatchProcessing/logs/kdiba|gor01|one|2006-6-08_14-26-15|run|PHDBATCH-1368.log',\n",
       "  'PHDBATCH-1357': '/home/halechr/repos/Spike3D/data/commander.pho/PhoDibaBatchProcessing/logs/kdiba|gor01|one|2006-6-08_14-26-15|run|PHDBATCH-1357.log'},\n",
       " Context(format_name: 'kdiba'\n",
       "         animal: 'gor01'\n",
       "         exper_name: 'two'\n",
       "         session_name: '2006-6-12_16-53-46'): {'PHDBATCH-1364': '/home/halechr/repos/Spike3D/data/commander.pho/PhoDibaBatchProcessing/logs/kdiba|gor01|two|2006-6-12_16-53-46|run|PHDBATCH-1364.log',\n",
       "  'PHDBATCH-1352': '/home/halechr/repos/Spike3D/data/commander.pho/PhoDibaBatchProcessing/logs/kdiba|gor01|two|2006-6-12_16-53-46|run|PHDBATCH-1352.log'},\n",
       " Context(format_name: 'kdiba'\n",
       "         animal: 'gor01'\n",
       "         exper_name: 'two'\n",
       "         session_name: '2006-6-09_22-24-40'): {'PHDBATCH-1370': '/home/halechr/repos/Spike3D/data/commander.pho/PhoDibaBatchProcessing/logs/kdiba|gor01|two|2006-6-09_22-24-40|run|PHDBATCH-1370.log',\n",
       "  'PHDBATCH-1350': '/home/halechr/repos/Spike3D/data/commander.pho/PhoDibaBatchProcessing/logs/kdiba|gor01|two|2006-6-09_22-24-40|run|PHDBATCH-1350.log'},\n",
       " Context(format_name: 'kdiba'\n",
       "         animal: 'gor01'\n",
       "         exper_name: 'two'\n",
       "         session_name: '2006-6-07_16-40-19'): {'PHDBATCH-1377': '/home/halechr/repos/Spike3D/data/commander.pho/PhoDibaBatchProcessing/logs/kdiba|gor01|two|2006-6-07_16-40-19|run|PHDBATCH-1377.log',\n",
       "  'PHDBATCH-1349': '/home/halechr/repos/Spike3D/data/commander.pho/PhoDibaBatchProcessing/logs/kdiba|gor01|two|2006-6-07_16-40-19|run|PHDBATCH-1349.log'},\n",
       " Context(format_name: 'kdiba'\n",
       "         animal: 'gor01'\n",
       "         exper_name: 'two'\n",
       "         session_name: '2006-6-08_21-16-25'): {'PHDBATCH-1369': '/home/halechr/repos/Spike3D/data/commander.pho/PhoDibaBatchProcessing/logs/kdiba|gor01|two|2006-6-08_21-16-25|run|PHDBATCH-1369.log',\n",
       "  'PHDBATCH-1348': '/home/halechr/repos/Spike3D/data/commander.pho/PhoDibaBatchProcessing/logs/kdiba|gor01|two|2006-6-08_21-16-25|run|PHDBATCH-1348.log'},\n",
       " Context(format_name: 'kdiba'\n",
       "         animal: 'vvp01'\n",
       "         exper_name: 'one'\n",
       "         session_name: '2006-4-09_17-29-30'): {'PHDBATCH-1365': '/home/halechr/repos/Spike3D/data/commander.pho/PhoDibaBatchProcessing/logs/kdiba|vvp01|one|2006-4-09_17-29-30|run|PHDBATCH-1365.log',\n",
       "  'PHDBATCH-1363': '/home/halechr/repos/Spike3D/data/commander.pho/PhoDibaBatchProcessing/logs/kdiba|vvp01|one|2006-4-09_17-29-30|run|PHDBATCH-1363.log'}}"
      ]
     },
     "execution_count": 11,
     "metadata": {},
     "output_type": "execute_result"
    }
   ],
   "source": [
    "_context_log_files_dict = neptune_run_collected_results.download_uploaded_log_files(neptune_logs_output_path=neptune_logs_output_path)\n",
    "_context_log_files_dict"
   ]
  },
  {
   "cell_type": "code",
   "execution_count": null,
   "metadata": {},
   "outputs": [],
   "source": [
    "def flatten_dict(d, parent_key='', sep='/'):\n",
    "    if (not isinstance(d, dict)):\n",
    "        assert isinstance(parent_key, str), f\"expected type(parent_key) == str but instead type(parent_key): {type(parent_key)}, parent_key: {parent_key}\"\n",
    "        return {parent_key:d}\n",
    "    \n",
    "    items = {}\n",
    "    for k, v in d.items():\n",
    "        # Construct the new key by concatenating the parent key and current key\n",
    "        new_key = f\"{parent_key}{sep}{k}\" if parent_key else k\n",
    "        if isinstance(v, dict):\n",
    "            # If the value is a dictionary, recursively flatten it\n",
    "            items.update(flatten_dict(v, new_key, sep=sep))\n",
    "        else:\n",
    "            # If the value is not a dictionary, add it to the items\n",
    "            items[new_key] = v\n",
    "    return items\n",
    "\n",
    "\n",
    "context_indexed_runs_list_dict: Dict[IdentifyingContext, List[AutoValueConvertingNeptuneRun]] = neptune_run_collected_results.context_indexed_runs_list_dict\n",
    "# context_indexed_runs_list_dict\n",
    "\n",
    "_parsed_run_structure_dict = {}\n",
    "_context_figures_dict = {}\n",
    "\n",
    "for a_ctxt, a_run_list in context_indexed_runs_list_dict.items():\n",
    "    _parsed_run_structure_dict[a_ctxt] = {}\n",
    "    _context_figures_dict[a_ctxt] = {}\n",
    "    for a_run in a_run_list:\n",
    "        a_parsed_structure = a_run.get_structure()['outputs']['figures']\n",
    "        assert isinstance(a_parsed_structure, dict), f\"type(a_parsed_structure): {type(a_parsed_structure)} instead of dict. a_parsed_structure: {a_parsed_structure}\"\n",
    "        for k, v in a_parsed_structure.items():\n",
    "            # Flatten each nested dictionary and update the flattened_dict\n",
    "            _parsed_run_structure_dict[a_ctxt].update(flatten_dict(v, parent_key=k))\n",
    "\n",
    "    \n",
    "        # [{'display_fn_name:_display_grid_bin_bounds_validation': <neptune.attributes.atoms.file.File at 0x212bfbd4a30>,\n",
    "        # 'display_fn_name:display_long_short_laps': <neptune.attributes.atoms.file.File at 0x212bfbd4a90>,\n",
    "        # 'filter_name:maze1_any': {'lap_dir:any': {'display_fn_name:1d_placefields': <neptune.attributes.atoms.file.File at 0x212bfbd4bb0>,\n",
    "        #     'display_fn_name:_display_1d_placefield_validations': <neptune.attributes.atoms.file.File at 0x212bfbd4c10>,\n",
    "        #     'display_fn_name:_display_2d_placefield_result_plot_ratemaps_2D': <neptune.attributes.atoms.file.File at 0x212bfbd4d30>,\n",
    "        #     'display_fn_name:plot_occupancy': {'plot_variable:OCCUPANCY': <neptune.attributes.atoms.file.File at 0x212bfbd4d90>}}},\n",
    "        # 'filter_name:maze1_even': {'lap_dir:even': {'display_fn_name:1d_placefields': <neptune.attributes.atoms.file.File at 0x212bfbd4f40>,\n",
    "        #     'display_fn_name:_display_1d_placefield_validations': <neptune.attributes.atoms.file.File at 0x212bfbd4e80>,\n",
    "        #     'display_fn_name:_display_2d_placefield_result_plot_ratemaps_2D': <neptune.attributes.atoms.file.File at 0x212bf2e58e0>,\n",
    "        #     'display_fn_name:plot_occupancy': {'plot_variable:OCCUPANCY': <neptune.attributes.atoms.file.File at 0x212bf2e5790>}}},\n",
    "        # 'filter_name:maze1_odd': {'lap_dir:odd': {'display_fn_name:1d_placefields': <neptune.attributes.atoms.file.File at 0x212bf2e52b0>,\n",
    "        #     'display_fn_name:_display_1d_placefield_validations': <neptune.attributes.atoms.file.File at 0x212bf2e5730>,\n",
    "        #     'display_fn_name:_display_2d_placefield_result_plot_ratemaps_2D': <neptune.attributes.atoms.file.File at 0x212b0cb1760>,\n",
    "        #     'display_fn_name:plot_occupancy': {'plot_variable:OCCUPANCY': <neptune.attributes.atoms.file.File at 0x212b0cb1490>}}},\n",
    "        # 'filter_name:maze2_any': {'lap_dir:any': {'display_fn_name:1d_placefields': <neptune.attributes.atoms.file.File at 0x212bf375a00>,\n",
    "        #     'display_fn_name:_display_1d_placefield_validations': <neptune.attributes.atoms.file.File at 0x212bf37a190>,\n",
    "        #     'display_fn_name:_display_2d_placefield_result_plot_ratemaps_2D': <neptune.attributes.atoms.file.File at 0x212bf37afa0>,\n",
    "        #     'display_fn_name:plot_occupancy': {'plot_variable:OCCUPANCY': <neptune.attributes.atoms.file.File at 0x212bf37d130>}}},\n",
    "        # 'filter_name:maze2_even': {'lap_dir:even': {'display_fn_name:1d_placefields': <neptune.attributes.atoms.file.File at 0x212d8381700>,\n",
    "        #     'display_fn_name:_display_1d_placefield_validations': <neptune.attributes.atoms.file.File at 0x212bfbd3760>,\n",
    "        #     'display_fn_name:_display_2d_placefield_result_plot_ratemaps_2D': <neptune.attributes.atoms.file.File at 0x212bfbd3610>,\n",
    "        #     'display_fn_name:plot_occupancy': {'plot_variable:OCCUPANCY': <neptune.attributes.atoms.file.File at 0x212bfbd35b0>}}},\n",
    "        # 'filter_name:maze2_odd': {'lap_dir:odd': {'display_fn_name:1d_placefields': <neptune.attributes.atoms.file.File at 0x212bfbd3340>,\n",
    "        #     'display_fn_name:_display_1d_placefield_validations': <neptune.attributes.atoms.file.File at 0x212bfbd34c0>,\n",
    "        #     'display_fn_name:_display_2d_placefield_result_plot_ratemaps_2D': <neptune.attributes.atoms.file.File at 0x212bfbd31f0>,\n",
    "        #     'display_fn_name:plot_occupancy': {'plot_variable:OCCUPANCY': <neptune.attributes.atoms.file.File at 0x212bfbd3190>}}},\n",
    "        # 'filter_name:maze_any': {'lap_dir:any': {'display_fn_name:1d_placefields': <neptune.attributes.atoms.file.File at 0x212bfbd38b0>,\n",
    "        #     'display_fn_name:_display_1d_placefield_validations': <neptune.attributes.atoms.file.File at 0x212bfbd3130>,\n",
    "        #     'display_fn_name:_display_2d_placefield_result_plot_ratemaps_2D': <neptune.attributes.atoms.file.File at 0x212bfbd3b50>,\n",
    "        #     'display_fn_name:plot_occupancy': {'plot_variable:OCCUPANCY': <neptune.attributes.atoms.file.File at 0x212bfbd3ca0>}}},\n",
    "        # 'filter_name:maze_even': {'lap_dir:even': {'display_fn_name:1d_placefields': <neptune.attributes.atoms.file.File at 0x212bfbd3970>,\n",
    "        #     'display_fn_name:_display_1d_placefield_validations': <neptune.attributes.atoms.file.File at 0x212bfbd3be0>,\n",
    "        #     'display_fn_name:_display_2d_placefield_result_plot_ratemaps_2D': <neptune.attributes.atoms.file.File at 0x212c0df0c40>,\n",
    "        #     'display_fn_name:plot_occupancy': {'plot_variable:OCCUPANCY': <neptune.attributes.atoms.file.File at 0x212c0df0cd0>}}},\n",
    "        # 'filter_name:maze_odd': {'lap_dir:odd': {'display_fn_name:1d_placefields': <neptune.attributes.atoms.file.File at 0x212c0df0eb0>,\n",
    "        #     'display_fn_name:_display_1d_placefield_validations': <neptune.attributes.atoms.file.File at 0x212c0df0d90>,\n",
    "        #     'display_fn_name:_display_2d_placefield_result_plot_ratemaps_2D': <neptune.attributes.atoms.file.File at 0x212bfbc3580>,\n",
    "        #     'display_fn_name:plot_occupancy': {'plot_variable:OCCUPANCY': <neptune.attributes.atoms.file.File at 0x212bfbc33d0>}}}},\n",
    "        #     ],\n",
    "        \n",
    "        # {'display_fn_name:_display_grid_bin_bounds_validation': <neptune.attributes.atoms.file.File at 0x212bfbd4a30>,\n",
    "        # 'display_fn_name:display_long_short_laps': <neptune.attributes.atoms.file.File at 0x212bfbd4a90>,\n",
    "        # 'filter_name:maze1_any,lap_dir:any,display_fn_name:1d_placefields': <neptune.attributes.atoms.file.File at 0x212bfbd4bb0>,\n",
    "        # 'filter_name:maze1_any,lap_dir:any,display_fn_name:_display_1d_placefield_validations': <neptune.attributes.atoms.file.File at 0x212bfbd4c10>,\n",
    "        # 'filter_name:maze1_any,lap_dir:any,display_fn_name:_display_2d_placefield_result_plot_ratemaps_2D': <neptune.attributes.atoms.file.File at 0x212bfbd4d30>,\n",
    "        # 'filter_name:maze1_any,lap_dir:any,display_fn_name:plot_occupancy,plot_variable:OCCUPANCY': <neptune.attributes.atoms.file.File at 0x212bfbd4d90>,\n",
    "        # ...\n",
    "        # }\n",
    "    # END FOR a_run\n",
    "    ## get the values for each File\n",
    "    # for k, v in _parsed_run_structure_dict[a_ctxt].items():\n",
    "    #     _context_figures_dict[a_ctxt][k] = v.download()\n",
    "        # _context_figures_dict[a_ctxt][k] = v.download(destination=neptune_project_figures_output_path.as_posix())\n",
    "\n",
    "\n",
    "_parsed_run_structure_dict\n",
    "# _context_figures_dict"
   ]
  },
  {
   "cell_type": "code",
   "execution_count": null,
   "metadata": {},
   "outputs": [],
   "source": [
    "most_recent_runs_table_df.to_csv('output/2024-09-24_most_recent_neptune_runs_csv.csv')"
   ]
  },
  {
   "cell_type": "code",
   "execution_count": null,
   "metadata": {},
   "outputs": [],
   "source": [
    "most_recent_runs_table_df['final_log_file_path']\n"
   ]
  },
  {
   "cell_type": "code",
   "execution_count": null,
   "metadata": {},
   "outputs": [],
   "source": [
    "## INPUTS: context_indexed_run_logs, neptune_logs_output_path\n",
    "## OUTPUT: _out_log_paths\n",
    "neptune_logs_output_path = neptune_project_output_path.joinpath('logs').resolve()\n",
    "neptune_logs_output_path.mkdir(exist_ok=True, parents=True)\n",
    "_out_log_paths = neptune_run_collected_results._perform_export_log_files_to_separate_files(context_indexed_run_logs=context_indexed_run_logs, neptune_logs_output_path=neptune_logs_output_path)\n",
    "_out_log_paths"
   ]
  },
  {
   "cell_type": "code",
   "execution_count": null,
   "metadata": {},
   "outputs": [],
   "source": []
  },
  {
   "cell_type": "markdown",
   "metadata": {},
   "source": [
    "# Trivial ipytree Example that causes jumping"
   ]
  },
  {
   "cell_type": "code",
   "execution_count": null,
   "metadata": {
    "tags": []
   },
   "outputs": [],
   "source": [
    "from IPython.display import clear_output, display\n",
    "from ipytree import Tree, Node\n",
    "\n",
    "\n",
    "tree = Tree(stripes=False)\n",
    "for i in range(3):\n",
    "    node = Node(f\"Node {i}\")\n",
    "    tree.add_node(node)\n",
    "    \n",
    "def handle_click(event):\n",
    "    clear_output(wait=True)  # Prevent scrolling\n",
    "    display(tree)  # Re-display the tree to keep focus\n",
    "    print(f\"Clicked on: {event['owner'].name}\")\n",
    "\n",
    "for node in tree.nodes:\n",
    "    node.observe(handle_click, names='selected')\n",
    "\n",
    "tree\n"
   ]
  },
  {
   "cell_type": "markdown",
   "metadata": {},
   "source": [
    "# Log Viewer Widget"
   ]
  },
  {
   "cell_type": "code",
   "execution_count": null,
   "metadata": {},
   "outputs": [],
   "source": [
    "# Call the function to build and display the interactive session display\n",
    "interactive_layout = Neptuner.build_interactive_session_run_logs_widget(context_indexed_run_logs, most_recent_runs_session_descriptor_string_to_context_map, most_recent_runs_context_indexed_run_extra_data)\n",
    "display(interactive_layout)"
   ]
  },
  {
   "cell_type": "code",
   "execution_count": null,
   "metadata": {},
   "outputs": [],
   "source": [
    "# does not trigger change:\n",
    "# .on_node_selected(change: {'name': 'selected', 'old': True, 'new': False, 'owner': Node(name='11-02_17-46-44'), 'type': 'change'})\n",
    "# .on_node_selected(change: {'name': 'selected', 'old': False, 'new': True, 'owner': Node(name='fet11-01_12-58-54', selected=True), 'type': 'change'})\n",
    "# Selected context: {'format_name': 'kdiba', 'animal': 'pin01', 'exper_name': 'one', 'session_name': 'fet11-01_12-58-54'}\n"
   ]
  },
  {
   "cell_type": "code",
   "execution_count": null,
   "metadata": {},
   "outputs": [],
   "source": [
    "import ipywidgets as widgets\n",
    "from IPython.display import display\n",
    "import json\n",
    "\n",
    "def save_widget_as_html(widget, filename):\n",
    "    \"\"\"Saves the widget as a self-contained HTML file.\"\"\"\n",
    "    from ipywidgets.embed import embed_minimal_html\n",
    "    \n",
    "    embed_minimal_html(filename, views=[widget], title=\"Interactive Session Display\")\n",
    "\n",
    "# Assuming 'root_box' is your widget\n",
    "export_html_path = Path(r'C:\\Users\\pho\\repos\\Spike3DWorkEnv\\Spike3D\\EXTERNAL\\PhoDibaPaper2024Book\\data\\neptune').joinpath('interactive_session_display.html').resolve()\n",
    "save_widget_as_html(interactive_layout, export_html_path)\n",
    "export_html_path\n"
   ]
  },
  {
   "cell_type": "code",
   "execution_count": null,
   "metadata": {},
   "outputs": [],
   "source": [
    "empty_session_tuple = {\n",
    "    'format_name': '',\n",
    "    'animal': '',\n",
    "    'exper_name': '',\n",
    "    'session_name': '',\n",
    "    'session_descriptor_string': '',\n",
    "    'id': '<Selection Not Found>',\n",
    "    'hostname': '',\n",
    "    'creation_time': '',\n",
    "    'running_time': '',\n",
    "    'ping_time': '',\n",
    "    'monitoring_time': '',\n",
    "    'size': '',\n",
    "    'tags': '',\n",
    "    'entrypoint': ''\n",
    "}\n",
    "\n",
    "print(list(empty_session_tuple.keys())) # ['format_name', 'animal', 'exper_name', 'session_name', 'session_descriptor_string', 'id', 'hostname', 'creation_time', 'running_time', 'ping_time', 'monitoring_time', 'size', 'tags', 'entrypoint']\n",
    "display_session_extra_data_keys = ['id', 'hostname', 'creation_time', 'running_time', 'ping_time', 'monitoring_time', 'size', 'tags', 'entrypoint']\n",
    "\n",
    "# hostname: gl3126.arc-ts.umich.edu\n",
    "# creation_time: 2024-08-29 16:47:55.150000\n",
    "# running_time: 8512.876\n",
    "# ping_time: 2024-09-24 08:38:06.349000\n",
    "# monitoring_time: 1291\n",
    "# size: 24744223.0\n",
    "# tags: one,kdiba,11-02_19-28-0,pin01\n",
    "# entrypoint: figures_kdiba_pin01_one_11-02_19-28-0.py\n",
    "\n"
   ]
  },
  {
   "cell_type": "code",
   "execution_count": null,
   "metadata": {
    "tags": []
   },
   "outputs": [],
   "source": [
    "from pandas import Timestamp\n",
    "import ipywidgets as widgets\n",
    "from IPython.display import display\n",
    "from pyphocorehelpers.gui.Jupyter.TreeWidget import JupyterTreeWidget\n",
    "\n",
    "## INPUTS: context_indexed_run_logs, most_recent_runs_session_descriptor_string_to_context_map, header_hbox\n",
    "\n",
    "# Tree Widget ________________________________________________________________________________________________________ #\n",
    "included_session_contexts: List[IdentifyingContext] = list(most_recent_runs_session_descriptor_string_to_context_map.values())\n",
    "jupyter_tree_widget = JupyterTreeWidget(included_session_contexts=included_session_contexts,\n",
    "\t\t\t\t\t\t\t\t\t\ton_selection_changed_callbacks=[],\n",
    "\t\t\t\t\t\t\t\t\t\tdisplay_on_init=False)\n",
    "# type(jupyter_tree_widget.tree) # ipytree.tree.Tree\n",
    "\n",
    "# Set a layout for the tree to prevent it from being cut off\n",
    "jupyter_tree_widget.tree.layout = widgets.Layout(min_width='200px', max_width='600px', overflow='auto', height='auto')\n",
    "\n",
    "# Content Widget _____________________________________________________________________________________________________ #\n",
    "def build_session_tuple_header_widget(a_session_tuple: Tuple):\n",
    "    # Create widgets for each key-value pair\n",
    "    # widgets_list = [widgets.Label(f\"{key}: {value}\") for key, value in a_session_tuple.items()]\n",
    "    \n",
    "    # Create a dictionary to hold the label widgets\n",
    "    header_label_widgets = {key: widgets.Label(f\"{key}: '{value}',\") for key, value in a_session_tuple.items()}\n",
    "\n",
    "    # Horizontally stack the label widgets\n",
    "    # header_hbox = widgets.HBox(list(header_label_widgets.values()), layout=widgets.Layout(min_width='400px', min_height='50px', width='auto', height='auto')) # , overflow='auto'\n",
    "    \n",
    "    # Define a layout that enables wrapping\n",
    "    box_layout = widgets.Layout(\n",
    "        display='flex',\n",
    "        flex_flow='row wrap',\n",
    "        align_items='stretch',\n",
    "        width='100%'\n",
    "    )\n",
    "\n",
    "    # Create a Box with the custom layout\n",
    "    header_hbox = widgets.Box(list(header_label_widgets.values()), layout=box_layout)\n",
    "\n",
    "\n",
    "    # Function to update the values in the labels\n",
    "    def update_header_labels_fn(new_values):\n",
    "        \"\"\" captures: label_widgets\"\"\"\n",
    "        for key, value in new_values.items():\n",
    "            header_label_widgets[key].value = f\"{key}: {value}\"\n",
    "            \n",
    "    # Display the widget\n",
    "    return header_hbox, header_label_widgets, update_header_labels_fn\n",
    "\n",
    "\n",
    "# Example SessionTuple\n",
    "empty_session_tuple = {\n",
    "    'format_name': '',\n",
    "    'animal': '',\n",
    "    'exper_name': '',\n",
    "    'session_name': '',\n",
    "    'session_descriptor_string': '',\n",
    "    'id': '<Selection Not Found>',\n",
    "    'hostname': '',\n",
    "    'creation_time': '',\n",
    "    'running_time': '',\n",
    "    'ping_time': '',\n",
    "    'monitoring_time': '',\n",
    "    'size': '',\n",
    "    'tags': '',\n",
    "    'entrypoint': ''\n",
    "}\n",
    "\n",
    "header_hbox, header_label_widgets, update_header_labels_fn = build_session_tuple_header_widget(a_session_tuple=empty_session_tuple)\n",
    "\n",
    "# Create Textarea widget with a defined width\n",
    "textarea = widgets.Textarea(value='<No Selection>',\n",
    "    disabled=True,  # Make it read-only\n",
    "    style={'font_size': '10px'},  # Smaller font size\n",
    "\tlayout=widgets.Layout(flex='1', width='650px', min_height='650px',\n",
    "                        height='850px',\n",
    "                        ))\n",
    "\n",
    "content_view_layout = widgets.VBox([header_hbox, textarea], layout=widgets.Layout(min_width='500px', min_height='200px', width='auto', height='auto')) # INPUTS: header_hbox\n",
    "\n",
    "# Layout widgets side by side with proper spacing\n",
    "layout = widgets.HBox([jupyter_tree_widget.tree, content_view_layout], layout=widgets.Layout(min_width='500px', min_height='100px', width='auto', height='auto'))\n",
    "\n",
    "\n",
    "def _on_tree_node_selection_changed(selected_node, selected_context):\n",
    "    \"\"\" \n",
    "    captures: context_indexed_run_logs, textarea, most_recent_runs_context_indexed_run_extra_data, empty_session_tuple, update_header_labels_fn\n",
    "    \"\"\"\n",
    "    print(f'_on_tree_node_selection_changed(selected_node: {selected_node}, selected_context: {selected_context})') # Selected context: {'format_name': 'kdiba', 'animal': 'pin01', 'exper_name': 'one', 'session_name': 'fet11-01_12-58-54'}\n",
    "    #_on_tree_node_selection_changed(selected_node: Node(name='fet11-01_12-58-54', selected=True), selected_context: {'format_name': 'kdiba', 'animal': 'pin01', 'exper_name': 'one', 'session_name': 'fet11-01_12-58-54'})\n",
    "    if isinstance(selected_context, dict):\n",
    "        selected_context = IdentifyingContext(**selected_context)\n",
    "    \n",
    "    curr_context_extra_data_tuple = most_recent_runs_context_indexed_run_extra_data.get(selected_context, empty_session_tuple)\n",
    "    update_header_labels_fn(curr_context_extra_data_tuple)\n",
    "    curr_context_run_log: str = context_indexed_run_logs.get(selected_context, '<Context Not Found>')\n",
    "    textarea.value = curr_context_run_log\n",
    "\n",
    "jupyter_tree_widget.on_selection_changed_callback = [_on_tree_node_selection_changed]\n",
    "# Display the layout\n",
    "layout\n"
   ]
  },
  {
   "cell_type": "code",
   "execution_count": null,
   "metadata": {},
   "outputs": [],
   "source": [
    "\n",
    "\n",
    "text_area = widgets.Textarea(\n",
    "    value='<No Selection>',\n",
    "    disabled=True,  # Make it read-only\n",
    "    layout=widgets.Layout(width='100%', height='400px')  # Scrollable area\n",
    ")\n",
    "\n",
    "combined_widget = widgets.HBox([jupyter_tree_widget.tree, text_area])\n",
    "combined_widget\n",
    "# log_viewer = create_log_viewer(logs=run_logs)\n",
    "# display(log_viewer)\n"
   ]
  },
  {
   "cell_type": "code",
   "execution_count": null,
   "metadata": {},
   "outputs": [],
   "source": [
    "parsed_structure = run.get_parsed_structure()\n",
    "parsed_structure"
   ]
  },
  {
   "cell_type": "code",
   "execution_count": null,
   "metadata": {},
   "outputs": [],
   "source": [
    "import regions\n",
    "(parsed_structure['monitoring'])\n"
   ]
  },
  {
   "cell_type": "code",
   "execution_count": null,
   "metadata": {},
   "outputs": [],
   "source": [
    "for run_id, a_log in run_logs.items():\n",
    "    print(\"# ==================================================================================================================== #\")\n",
    "    print(f\"# run_id: {run_id}                                                                                                     #\")\n",
    "    print(\"# ==================================================================================================================== #\")    \n",
    "    # print(f'run_id: {run_id} =================')\n",
    "    # print(f\"# run_id: {run_id:<100} #\")\n",
    "    print(a_log)\n",
    "    print(\"# END LOG ____________________________________________________________________________________________________________ #\")\n",
    "    \n"
   ]
  },
  {
   "cell_type": "markdown",
   "metadata": {},
   "source": [
    "Calling `run.print_structure()` produces the following output:\n",
    "```python\n",
    "'animal': String\n",
    "'exper_name': String\n",
    "'format_name': String\n",
    "'monitoring':\n",
    "    '5f739afe':\n",
    "        'hostname': String\n",
    "        'pid': String\n",
    "        'tid': String\n",
    "    'be28f54f':\n",
    "        'cpu': FloatSeries\n",
    "        'hostname': String\n",
    "        'memory': FloatSeries\n",
    "        'pid': String\n",
    "        'stderr': StringSeries\n",
    "        'stdout': StringSeries\n",
    "        'tid': String\n",
    "'outputs':\n",
    "    'figures':\n",
    "        'display_fn_name:BatchPhoJonathanReplayFRC':\n",
    "            'plot_result_set:long_only':\n",
    "                'aclus:(16,19,6,31,10)': File\n",
    "                'aclus:(6,10,16,19,31)': File\n",
    "            'plot_result_set:shared':\n",
    "                'page:1of2':\n",
    "                    'aclus:(26,20,29,18,3,4,7,32,13,11,12,2,30,15,9,28,22,14,21,25)': File\n",
    "                'page:1of3':\n",
    "                    'aclus:(2,3,4,5,7,8,9,11,12,13)': File\n",
    "                'page:2of2':\n",
    "                    'aclus:(5,8,17,23,27)': File\n",
    "                'page:2of3':\n",
    "                    'aclus:(14,15,17,18,20,21,22,23,25,26)': File\n",
    "                'page:3of3':\n",
    "                    'aclus:(27,28,29,30,32)': File\n",
    "            'plot_result_set:short_only':\n",
    "                'aclus:(24)': File\n",
    "        'display_fn_name:_display_grid_bin_bounds_validation': File\n",
    "        'display_fn_name:bidir_track_remap':\n",
    "            'subplot_name:Track Remapping': File\n",
    "        'display_fn_name:display_long_short_laps': File\n",
    "        'display_fn_name:display_short_long_pf1D_comparison':\n",
    "            'track:long': File\n",
    "            'track:short': File\n",
    "        'display_fn_name:plot_all_epoch_bins_marginal_predictions':\n",
    "            'subplot_name:Laps all_epoch_binned Marginals': File\n",
    "            'subplot_name:Ripple all_epoch_binned Marginals': File\n",
    "        'display_fn_name:plot_expected_vs_observed':\n",
    "            'x_variable:epoch_idx':\n",
    "                'variable:obs_exp_diff_ptp': File\n",
    "        'display_fn_name:plot_histograms':\n",
    "            'subplot_name:laps_result_tuple': File\n",
    "            'subplot_name:ripple_result_tuple': File\n",
    "        'display_fn_name:plot_quantile_diffs':\n",
    "            'subplot_name:BestDir': File\n",
    "        'display_fn_name:plot_rank_order_epoch_inst_fr_result_tuples':\n",
    "            'subplot_name:Lap':\n",
    "                'subplotsubplot_name:raw': File\n",
    "                'subplotsubplot_name:z_score_diff': File\n",
    "            'subplot_name:Ripple':\n",
    "                'subplotsubplot_name:raw': File\n",
    "                'subplotsubplot_name:z_score_diff': File\n",
    "        'display_fn_name:plot_rank_order_histograms':\n",
    "            'subplot_name:Ripple Most-likely Spearman Rho': File\n",
    "            'subplot_name:Ripple Most-likely Z-scores': File\n",
    "            'subplot_name:Ripple Z-scores': File\n",
    "            'subplot_name:Ripple real correlations': File\n",
    "        'display_fn_name:running_and_replay_speeds_over_time': File\n",
    "        'filter_name:maze1_any':\n",
    "            'lap_dir:any':\n",
    "                'display_fn_name:1d_placefields': File\n",
    "                'display_fn_name:_display_1d_placefield_validations': File\n",
    "                'display_fn_name:_display_2d_placefield_result_plot_ratemaps_2D': File\n",
    "                'display_fn_name:plot_occupancy':\n",
    "                    'plot_variable:OCCUPANCY': File\n",
    "                'display_fn_name:plot_single_track_firing_rate_compare': File\n",
    "        'filter_name:maze1_even':\n",
    "            'lap_dir:even':\n",
    "                'display_fn_name:1d_placefields': File\n",
    "                'display_fn_name:_display_1d_placefield_validations': File\n",
    "                'display_fn_name:_display_2d_placefield_result_plot_ratemaps_2D': File\n",
    "                'display_fn_name:plot_occupancy':\n",
    "                    'plot_variable:OCCUPANCY': File\n",
    "        'filter_name:maze1_odd':\n",
    "            'lap_dir:odd':\n",
    "                'display_fn_name:1d_placefields': File\n",
    "                'display_fn_name:_display_1d_placefield_validations': File\n",
    "                'display_fn_name:_display_2d_placefield_result_plot_ratemaps_2D': File\n",
    "                'display_fn_name:plot_occupancy':\n",
    "                    'plot_variable:OCCUPANCY': File\n",
    "        'filter_name:maze2_any':\n",
    "            'lap_dir:any':\n",
    "                'display_fn_name:1d_placefields': File\n",
    "                'display_fn_name:_display_1d_placefield_validations': File\n",
    "                'display_fn_name:_display_2d_placefield_result_plot_ratemaps_2D': File\n",
    "                'display_fn_name:plot_occupancy':\n",
    "                    'plot_variable:OCCUPANCY': File\n",
    "                'display_fn_name:plot_single_track_firing_rate_compare': File\n",
    "        'filter_name:maze2_even':\n",
    "            'lap_dir:even':\n",
    "                'display_fn_name:1d_placefields': File\n",
    "                'display_fn_name:_display_1d_placefield_validations': File\n",
    "                'display_fn_name:_display_2d_placefield_result_plot_ratemaps_2D': File\n",
    "                'display_fn_name:plot_occupancy':\n",
    "                    'plot_variable:OCCUPANCY': File\n",
    "        'filter_name:maze2_odd':\n",
    "            'lap_dir:odd':\n",
    "                'display_fn_name:1d_placefields': File\n",
    "                'display_fn_name:_display_1d_placefield_validations': File\n",
    "                'display_fn_name:_display_2d_placefield_result_plot_ratemaps_2D': File\n",
    "                'display_fn_name:plot_occupancy':\n",
    "                    'plot_variable:OCCUPANCY': File\n",
    "        'filter_name:maze_any':\n",
    "            'lap_dir:any':\n",
    "                'display_fn_name:1d_placefields': File\n",
    "                'display_fn_name:_display_1d_placefield_validations': File\n",
    "                'display_fn_name:_display_2d_placefield_result_plot_ratemaps_2D': File\n",
    "                'display_fn_name:plot_occupancy':\n",
    "                    'plot_variable:OCCUPANCY': File\n",
    "        'filter_name:maze_even':\n",
    "            'lap_dir:even':\n",
    "                'display_fn_name:1d_placefields': File\n",
    "                'display_fn_name:_display_1d_placefield_validations': File\n",
    "                'display_fn_name:_display_2d_placefield_result_plot_ratemaps_2D': File\n",
    "                'display_fn_name:plot_occupancy':\n",
    "                    'plot_variable:OCCUPANCY': File\n",
    "        'filter_name:maze_odd':\n",
    "            'lap_dir:odd':\n",
    "                'display_fn_name:1d_placefields': File\n",
    "                'display_fn_name:_display_1d_placefield_validations': File\n",
    "                'display_fn_name:_display_2d_placefield_result_plot_ratemaps_2D': File\n",
    "                'display_fn_name:plot_occupancy':\n",
    "                    'plot_variable:OCCUPANCY': File\n",
    "        'fn_name:long_short_firing_rate_indicies':\n",
    "            'display_fn_name:display_long_short_laps': File\n",
    "'session_descriptor_string': String\n",
    "'session_name': String\n",
    "'source_code':\n",
    "    'diff': File\n",
    "    'entrypoint': String\n",
    "'sys':\n",
    "    'creation_time': Datetime\n",
    "    'description': String\n",
    "    'failed': Boolean\n",
    "    'group_tags': StringSet\n",
    "    'hostname': String\n",
    "    'id': String\n",
    "    'modification_time': Datetime\n",
    "    'monitoring_time': Integer\n",
    "    'name': String\n",
    "    'owner': String\n",
    "    'ping_time': Datetime\n",
    "    'running_time': Float\n",
    "    'size': Float\n",
    "    'state': RunState\n",
    "    'tags': StringSet\n",
    "    'trashed': Boolean\n",
    "```\n",
    "How can I capture this printed output (printed to stdout I think) and then parse it into a tree-like structure made of nested-dictionaries to be able to figure out the available structure?"
   ]
  },
  {
   "cell_type": "code",
   "execution_count": null,
   "metadata": {},
   "outputs": [],
   "source": [
    "# Fetch all experiments\n",
    "experiments = neptuner.project.fetch_experiments_table().to_pandas()\n",
    "experiments"
   ]
  },
  {
   "cell_type": "code",
   "execution_count": null,
   "metadata": {},
   "outputs": [],
   "source": [
    "# Initialize the neptune client\n",
    "# neptune.init(project=neptune_kwargs['project'], api_token=neptune_kwargs['api_token'])\n",
    "\n",
    "# project = neptune.get_project()\n",
    "# project"
   ]
  },
  {
   "cell_type": "code",
   "execution_count": null,
   "metadata": {},
   "outputs": [],
   "source": [
    "\n",
    "\n",
    "if neptuner.run is None:\n",
    "    neptuner.run = AutoValueConvertingNeptuneRun(project=neptuner.project_name, api_token=neptuner.api_token, dependencies=\"infer\", source_files=[notebook_filepath])\n",
    "    params = {\"TODAY_DAY_DATE\": TODAY_DAY_DATE, \"run_workstation\": \"Apogee\"}\n",
    "    neptuner.run[\"parameters\"] = params\n",
    "    neptuner.outputs = neptuner.run['outputs']\n",
    "    neptuner.figures = neptuner.outputs['figures']\n",
    "\n",
    "neptuner_run: AutoValueConvertingNeptuneRun = neptuner.run\n",
    "\n",
    "# run = neptune.init_run(source_files=[\"**/*.dvc\"])\n",
    "\n",
    "# # Pre-execution dataframe view:\n",
    "# run[\"dataset/global_batch_run_progress_df\"].upload(File.as_html(global_batch_run.to_dataframe(expand_context=True, good_only=False))) # \"path/to/test_preds.csv\"\n",
    "\n",
    "\n",
    "\n",
    "known_bad_sessions = [IdentifyingContext(format_name='kdiba',animal='pin01',exper_name='one',session_name='11-02_17-46-44')]\n",
    "known_bad_session_strs = [str(v.get_description()) for v in known_bad_sessions]\n",
    "known_bad_session_strs"
   ]
  }
 ],
 "metadata": {
  "kernelspec": {
   "display_name": "Python 3 (ipykernel)",
   "language": "python",
   "name": "python3"
  },
  "language_info": {
   "codemirror_mode": {
    "name": "ipython",
    "version": 3
   },
   "file_extension": ".py",
   "mimetype": "text/x-python",
   "name": "python",
   "nbconvert_exporter": "python",
   "pygments_lexer": "ipython3",
   "version": "3.9.19"
  }
 },
 "nbformat": 4,
 "nbformat_minor": 4
}
