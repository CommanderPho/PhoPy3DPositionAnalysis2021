{
 "cells": [
  {
   "cell_type": "markdown",
   "metadata": {
    "vscode": {
     "languageId": "plaintext"
    }
   },
   "source": [
    "# Neptune Result Fetching Notebook"
   ]
  },
  {
   "cell_type": "code",
   "execution_count": 21,
   "metadata": {
    "tags": [
     "run/main"
    ]
   },
   "outputs": [
    {
     "name": "stdout",
     "output_type": "stream",
     "text": [
      "Automatic pdb calling has been turned OFF\n",
      "The autoreload extension is already loaded. To reload it, use:\n",
      "  %reload_ext autoreload\n",
      "TODAY_DAY_DATE: 2024-09-27_Apogee\n",
      "[neptune] [info   ] Neptune initialized. Open in the app: https://app.neptune.ai/commander.pho/PhoDibaLongShortUpdated/\n"
     ]
    },
    {
     "data": {
      "text/plain": [
       "WindowsPath('C:/Users/pho/repos/Spike3DWorkEnv/Spike3D/data/neptune')"
      ]
     },
     "execution_count": 21,
     "metadata": {},
     "output_type": "execute_result"
    },
    {
     "data": {
      "text/plain": [
       "WindowsPath('C:/Users/pho/repos/Spike3DWorkEnv/Spike3D/data/neptune/commander.pho/PhoDibaLongShortUpdated')"
      ]
     },
     "execution_count": 21,
     "metadata": {},
     "output_type": "execute_result"
    },
    {
     "data": {
      "text/plain": [
       "WindowsPath('C:/Users/pho/repos/Spike3DWorkEnv/Spike3D/data/neptune/commander.pho/PhoDibaLongShortUpdated/figs')"
      ]
     },
     "execution_count": 21,
     "metadata": {},
     "output_type": "execute_result"
    },
    {
     "data": {
      "text/plain": [
       "WindowsPath('C:/Users/pho/repos/Spike3DWorkEnv/Spike3D/data/neptune/commander.pho/PhoDibaLongShortUpdated/logs')"
      ]
     },
     "execution_count": 21,
     "metadata": {},
     "output_type": "execute_result"
    }
   ],
   "source": [
    "%config IPCompleter.use_jedi = False\n",
    "%pdb off\n",
    "%load_ext autoreload\n",
    "%autoreload 3\n",
    "\n",
    "# required to enable non-blocking interaction:\n",
    "%gui qt5\n",
    "\n",
    "# import ipywidgets as widgets\n",
    "# widgets.Widget.control_comm_live = False\n",
    "\n",
    "import sys\n",
    "from copy import deepcopy\n",
    "from typing import Dict, List, Tuple, Optional, Callable, Union, Any\n",
    "from typing_extensions import TypeAlias\n",
    "from neuropy.utils.result_context import IdentifyingContext\n",
    "from nptyping import NDArray\n",
    "import neuropy.utils.type_aliases as types\n",
    "from collections import defaultdict\n",
    "\n",
    "import numpy as np\n",
    "import pandas as pd\n",
    "import re\n",
    "from pathlib import Path\n",
    "from datetime import datetime\n",
    "\n",
    "from neuropy.utils.indexing_helpers import PandasHelpers\n",
    "from pyphocorehelpers.indexing_helpers import partition_df\n",
    "# Set the maximum number of columns to display\n",
    "pd.set_option('display.max_columns', 100)\n",
    "\n",
    "import IPython\n",
    "from pyphocorehelpers.programming_helpers import IPythonHelpers\n",
    "from pyphocorehelpers.notebook_helpers import NotebookCellExecutionLogger\n",
    "from pyphocorehelpers.assertion_helpers import Assert\n",
    "\n",
    "# Jupyter-lab enable printing for any line on its own (instead of just the last one in the cell)\n",
    "from IPython.core.interactiveshell import InteractiveShell\n",
    "InteractiveShell.ast_node_interactivity = \"all\"\n",
    "\n",
    "# _notebook_path:Path = Path(IPythonHelpers.try_find_notebook_filepath(IPython.extract_module_locals())).resolve() # Finds the path of THIS notebook\n",
    "\n",
    "# Plotting\n",
    "# import pylustrator # customization of figures\n",
    "import matplotlib\n",
    "import matplotlib as mpl\n",
    "import matplotlib.pyplot as plt\n",
    "_bak_rcParams = mpl.rcParams.copy()\n",
    "\n",
    "matplotlib.use('Qt5Agg')\n",
    "\n",
    "# Switch to the desired interactivity mode\n",
    "plt.interactive(True)\n",
    "\n",
    "import seaborn as sns\n",
    "\n",
    "import plotly.express as px\n",
    "import plotly.graph_objects as go\n",
    "from plotly.subplots import make_subplots\n",
    "import plotly.io as pio\n",
    "template: str = 'plotly_dark' # set plotl template\n",
    "pio.templates.default = template\n",
    "from pyphocorehelpers.plotting.media_output_helpers import fig_to_clipboard\n",
    "from pyphocorehelpers.Filesystem.path_helpers import file_uri_from_path, sanitize_filename_for_Windows\n",
    "from pyphocorehelpers.gui.Jupyter.simple_widgets import fullwidth_path_widget, simple_path_display_widget\n",
    "from pyphoplacecellanalysis.Pho2D.plotly.Extensions.plotly_helpers import plotly_helper_save_figures, _helper_build_figure, plotly_pre_post_delta_scatter, plot_across_sessions_scatter_results\n",
    "from pyphocorehelpers.assertion_helpers import Assert\n",
    "\n",
    "# from ..PendingNotebookCode import plot_across_sessions_scatter_results, plot_histograms, plot_stacked_histograms\n",
    "from pyphocorehelpers.Filesystem.path_helpers import find_first_extant_path\n",
    "from pyphoplacecellanalysis.SpecificResults.AcrossSessionResults import find_csv_files, find_HDF5_files, find_most_recent_files\n",
    "from pyphoplacecellanalysis.Pho2D.statistics_plotting_helpers import plot_histograms_across_sessions, plot_histograms, plot_stacked_histograms\n",
    "\n",
    "from pyphoplacecellanalysis.General.Pipeline.Stages.ComputationFunctions.MultiContextComputationFunctions.DirectionalPlacefieldGlobalComputationFunctions import DecoderDecodedEpochsResult\n",
    "from pyphoplacecellanalysis.SpecificResults.AcrossSessionResults import load_across_sessions_exported_files, _process_and_load_exported_file, _common_cleanup_operations\n",
    "\n",
    "from pyphocorehelpers.programming_helpers import metadata_attributes\n",
    "from pyphocorehelpers.function_helpers import function_attributes\n",
    "\n",
    "from pyphoplacecellanalysis.SpecificResults.AcrossSessionResults import build_session_t_delta, _new_process_csv_files, _old_process_csv_files\n",
    "\n",
    "debug_print: bool = False\n",
    "\n",
    "_TODAY_DAY_ONLY_DATE: str = \"2024-09-27\"\n",
    "TODAY_DAY_DATE: str = f\"{_TODAY_DAY_ONLY_DATE}_Apogee\"\n",
    "# TODAY_DAY_DATE: str = f\"{_TODAY_DAY_ONLY_DATE}_GL\"\n",
    "# TODAY_DAY_DATE: str = f\"{_TODAY_DAY_ONLY_DATE}_Lab\"\n",
    "# TODAY_DAY_DATE: str = f\"{_TODAY_DAY_ONLY_DATE}_rMBP\"\n",
    "\n",
    "print(f'TODAY_DAY_DATE: {TODAY_DAY_DATE}')\n",
    "\n",
    "types.session_str: TypeAlias = str # a unique session identifier\n",
    "\n",
    "import neptune # for logging progress and results\n",
    "from neptune.types import File\n",
    "from pyphoplacecellanalysis.General.Batch.NeptuneAiHelpers import Neptuner, AutoValueConvertingNeptuneRun, set_environment_variables, SessionDescriptorString, RunID, NeptuneRunCollectedResults\n",
    "from pyphoplacecellanalysis.General.Batch.NeptuneAiHelpers import KnownNeptuneProjects\n",
    "\n",
    "## Gets the notebook filepath for Neptune:\n",
    "import IPython\n",
    "from pyphocorehelpers.programming_helpers import IPythonHelpers\n",
    "# notebook_filepath: str = IPythonHelpers.try_find_notebook_filepath(IPython.extract_module_locals())\n",
    "# assert Path(notebook_filepath).resolve().exists(), f\"found notebook filepath: '{notebook_filepath}' does not exist\"\n",
    "# notebook_filepath\n",
    "        \n",
    "# neptune_kwargs = KnownNeptuneProjects.get_PhoDibaBatchProcessing_neptune_kwargs()\n",
    "neptune_kwargs = KnownNeptuneProjects.get_PhoDibaLongShortUpdated_neptune_kwargs()\n",
    "neptuner = Neptuner(project_name=neptune_kwargs['project'], api_token=neptune_kwargs['api_token'])\n",
    "# neptuner\n",
    "# neptuner.project\n",
    "# neptune_root_output_path = Path('EXTERNAL/PhoDibaPaper2024Book/data/neptune').resolve()\n",
    "neptune_root_output_path = Path(r\"C:\\Users\\pho\\repos\\Spike3DWorkEnv\\Spike3D\\EXTERNAL\\PhoDibaPaper2024Book\\data\\neptune\").resolve()\n",
    "# neptune_root_output_path = Path(\"/home/halechr/repos/Spike3D/EXTERNAL/PhoDibaPaper2024Book/data\").resolve()\n",
    "neptune_root_output_path.mkdir(exist_ok=True)\n",
    "neptune_root_output_path\n",
    "# neptune_project_output_path = neptune_root_output_path.joinpath(neptuner.project_name).resolve()\n",
    "neptune_project_output_path = neptune_root_output_path.joinpath(neptuner.project_name).resolve()\n",
    "neptune_project_output_path.mkdir(exist_ok=True, parents=True)\n",
    "neptune_project_output_path\n",
    "\n",
    "neptune_project_figures_output_path = neptune_project_output_path.joinpath('figs').resolve()\n",
    "neptune_project_figures_output_path.mkdir(exist_ok=True, parents=True)\n",
    "neptune_project_figures_output_path\n",
    "\n",
    "neptune_logs_output_path = neptune_project_output_path.joinpath('logs').resolve()\n",
    "neptune_logs_output_path.mkdir(exist_ok=True, parents=True)\n",
    "neptune_logs_output_path"
   ]
  },
  {
   "cell_type": "code",
   "execution_count": 2,
   "metadata": {
    "tags": [
     "run/main"
    ]
   },
   "outputs": [
    {
     "data": {
      "application/vnd.jupyter.widget-view+json": {
       "model_id": "0bd4ff75506a40adb01107d850a9be9b",
       "version_major": 2,
       "version_minor": 0
      },
      "text/plain": [
       "Fetching table...: 0 [00:00, ?/s]"
      ]
     },
     "metadata": {},
     "output_type": "display_data"
    },
    {
     "name": "stdout",
     "output_type": "stream",
     "text": [
      "[neptune] [info   ] Neptune initialized. Open in the app: https://app.neptune.ai/commander.pho/PhoDibaLongShortUpdated/e/LS2023-1371\n",
      "[neptune] [info   ] Neptune initialized. Open in the app: https://app.neptune.ai/commander.pho/PhoDibaLongShortUpdated/e/LS2023-1370\n",
      "[neptune] [info   ] Neptune initialized. Open in the app: https://app.neptune.ai/commander.pho/PhoDibaLongShortUpdated/e/LS2023-1369\n",
      "[neptune] [info   ] Neptune initialized. Open in the app: https://app.neptune.ai/commander.pho/PhoDibaLongShortUpdated/e/LS2023-1368\n",
      "[neptune] [info   ] Neptune initialized. Open in the app: https://app.neptune.ai/commander.pho/PhoDibaLongShortUpdated/e/LS2023-1367\n",
      "[neptune] [info   ] Neptune initialized. Open in the app: https://app.neptune.ai/commander.pho/PhoDibaLongShortUpdated/e/LS2023-1366\n",
      "[neptune] [info   ] Neptune initialized. Open in the app: https://app.neptune.ai/commander.pho/PhoDibaLongShortUpdated/e/LS2023-1365\n",
      "[neptune] [info   ] Neptune initialized. Open in the app: https://app.neptune.ai/commander.pho/PhoDibaLongShortUpdated/e/LS2023-1361\n",
      "[neptune] [info   ] Neptune initialized. Open in the app: https://app.neptune.ai/commander.pho/PhoDibaLongShortUpdated/e/LS2023-1354\n",
      "[neptune] [info   ] Neptune initialized. Open in the app: https://app.neptune.ai/commander.pho/PhoDibaLongShortUpdated/e/LS2023-1351\n",
      "[neptune] [info   ] Neptune initialized. Open in the app: https://app.neptune.ai/commander.pho/PhoDibaLongShortUpdated/e/LS2023-1362\n",
      "[neptune] [info   ] Neptune initialized. Open in the app: https://app.neptune.ai/commander.pho/PhoDibaLongShortUpdated/e/LS2023-1359\n",
      "[neptune] [info   ] Neptune initialized. Open in the app: https://app.neptune.ai/commander.pho/PhoDibaLongShortUpdated/e/LS2023-1364\n",
      "[neptune] [info   ] Neptune initialized. Open in the app: https://app.neptune.ai/commander.pho/PhoDibaLongShortUpdated/e/LS2023-1357\n",
      "[neptune] [info   ] Neptune initialized. Open in the app: https://app.neptune.ai/commander.pho/PhoDibaLongShortUpdated/e/LS2023-1356\n",
      "[neptune] [info   ] Neptune initialized. Open in the app: https://app.neptune.ai/commander.pho/PhoDibaLongShortUpdated/e/LS2023-1360\n",
      "[neptune] [info   ] Neptune initialized. Open in the app: https://app.neptune.ai/commander.pho/PhoDibaLongShortUpdated/e/LS2023-1363\n",
      "[neptune] [info   ] Neptune initialized. Open in the app: https://app.neptune.ai/commander.pho/PhoDibaLongShortUpdated/e/LS2023-1358\n",
      "[neptune] [info   ] Neptune initialized. Open in the app: https://app.neptune.ai/commander.pho/PhoDibaLongShortUpdated/e/LS2023-1353\n",
      "[neptune] [info   ] Neptune initialized. Open in the app: https://app.neptune.ai/commander.pho/PhoDibaLongShortUpdated/e/LS2023-1355\n",
      "[neptune] [info   ] Neptune initialized. Open in the app: https://app.neptune.ai/commander.pho/PhoDibaLongShortUpdated/e/LS2023-1349\n",
      "[neptune] [info   ] Neptune initialized. Open in the app: https://app.neptune.ai/commander.pho/PhoDibaLongShortUpdated/e/LS2023-1350\n",
      "[neptune] [info   ] Neptune initialized. Open in the app: https://app.neptune.ai/commander.pho/PhoDibaLongShortUpdated/e/LS2023-1352\n",
      "[neptune] [info   ] Neptune initialized. Open in the app: https://app.neptune.ai/commander.pho/PhoDibaLongShortUpdated/e/LS2023-1348\n",
      "[neptune] [info   ] Neptune initialized. Open in the app: https://app.neptune.ai/commander.pho/PhoDibaLongShortUpdated/e/LS2023-1347\n",
      "[neptune] [info   ] Neptune initialized. Open in the app: https://app.neptune.ai/commander.pho/PhoDibaLongShortUpdated/e/LS2023-1345\n",
      "[neptune] [info   ] Neptune initialized. Open in the app: https://app.neptune.ai/commander.pho/PhoDibaLongShortUpdated/e/LS2023-1337\n",
      "[neptune] [info   ] Neptune initialized. Open in the app: https://app.neptune.ai/commander.pho/PhoDibaLongShortUpdated/e/LS2023-1336\n",
      "[neptune] [info   ] Neptune initialized. Open in the app: https://app.neptune.ai/commander.pho/PhoDibaLongShortUpdated/e/LS2023-1335\n",
      "[neptune] [info   ] Neptune initialized. Open in the app: https://app.neptune.ai/commander.pho/PhoDibaLongShortUpdated/e/LS2023-1334\n",
      "[neptune] [info   ] Neptune initialized. Open in the app: https://app.neptune.ai/commander.pho/PhoDibaLongShortUpdated/e/LS2023-1332\n",
      "[neptune] [info   ] Neptune initialized. Open in the app: https://app.neptune.ai/commander.pho/PhoDibaLongShortUpdated/e/LS2023-1331\n",
      "[neptune] [info   ] Neptune initialized. Open in the app: https://app.neptune.ai/commander.pho/PhoDibaLongShortUpdated/e/LS2023-1330\n",
      "[neptune] [info   ] Neptune initialized. Open in the app: https://app.neptune.ai/commander.pho/PhoDibaLongShortUpdated/e/LS2023-1329\n",
      "[neptune] [info   ] Neptune initialized. Open in the app: https://app.neptune.ai/commander.pho/PhoDibaLongShortUpdated/e/LS2023-1328\n",
      "[neptune] [info   ] Neptune initialized. Open in the app: https://app.neptune.ai/commander.pho/PhoDibaLongShortUpdated/e/LS2023-1326\n",
      "[neptune] [info   ] Neptune initialized. Open in the app: https://app.neptune.ai/commander.pho/PhoDibaLongShortUpdated/e/LS2023-1343\n",
      "[neptune] [info   ] Neptune initialized. Open in the app: https://app.neptune.ai/commander.pho/PhoDibaLongShortUpdated/e/LS2023-1342\n",
      "[neptune] [info   ] Neptune initialized. Open in the app: https://app.neptune.ai/commander.pho/PhoDibaLongShortUpdated/e/LS2023-1339\n",
      "[neptune] [info   ] Neptune initialized. Open in the app: https://app.neptune.ai/commander.pho/PhoDibaLongShortUpdated/e/LS2023-1338\n",
      "Failed to fetch figures for run LS2023-1371: monitoring_log_key was not found\n",
      "Failed to fetch figures for run LS2023-1370: monitoring_log_key was not found\n",
      "Failed to fetch figures for run LS2023-1369: monitoring_log_key was not found\n",
      "Failed to fetch figures for run LS2023-1368: monitoring_log_key was not found\n",
      "Failed to fetch figures for run LS2023-1367: monitoring_log_key was not found\n",
      "Failed to fetch figures for run LS2023-1365: monitoring_log_key was not found\n",
      "Failed to fetch figures for run LS2023-1339: monitoring_log_key was not found\n"
     ]
    },
    {
     "data": {
      "text/plain": [
       "<pyphoplacecellanalysis.General.Batch.NeptuneAiHelpers.NeptuneRunCollectedResults at 0x282bdd98a00>"
      ]
     },
     "execution_count": 2,
     "metadata": {},
     "output_type": "execute_result"
    }
   ],
   "source": [
    "neptune_run_collected_results: NeptuneRunCollectedResults = neptuner.get_most_recent_session_runs(oldest_included_run_date='2024-09-24', n_recent_results=3)\n",
    "# neptune_run_collected_results: NeptuneRunCollectedResults = neptuner.get_most_recent_session_runs(oldest_included_run_date='2024-09-20', n_recent_results=3)\n",
    "# neptune_run_collected_results: NeptuneRunCollectedResults = neptuner.get_most_recent_session_runs(oldest_included_run_date='2024-09-20', n_recent_results=3)\n",
    "neptune_run_collected_results\n",
    "# runs_dict, most_recent_runs_table_df = neptuner.get_most_recent_session_runs(oldest_included_run_date='2024-06-01', n_recent_results=2)\n",
    "# most_recent_runs_table_df"
   ]
  },
  {
   "cell_type": "code",
   "execution_count": 3,
   "metadata": {
    "tags": [
     "run/main"
    ]
   },
   "outputs": [
    {
     "data": {
      "text/html": [
       "<div>\n",
       "<style scoped>\n",
       "    .dataframe tbody tr th:only-of-type {\n",
       "        vertical-align: middle;\n",
       "    }\n",
       "\n",
       "    .dataframe tbody tr th {\n",
       "        vertical-align: top;\n",
       "    }\n",
       "\n",
       "    .dataframe thead th {\n",
       "        text-align: right;\n",
       "    }\n",
       "</style>\n",
       "<table border=\"1\" class=\"dataframe\">\n",
       "  <thead>\n",
       "    <tr style=\"text-align: right;\">\n",
       "      <th></th>\n",
       "      <th>creation_time</th>\n",
       "      <th>description</th>\n",
       "      <th>failed</th>\n",
       "      <th>group_tags</th>\n",
       "      <th>hostname</th>\n",
       "      <th>id</th>\n",
       "      <th>modification_time</th>\n",
       "      <th>monitoring_time</th>\n",
       "      <th>name</th>\n",
       "      <th>owner</th>\n",
       "      <th>ping_time</th>\n",
       "      <th>running_time</th>\n",
       "      <th>size</th>\n",
       "      <th>state</th>\n",
       "      <th>tags</th>\n",
       "      <th>trashed</th>\n",
       "      <th>animal</th>\n",
       "      <th>exper_name</th>\n",
       "      <th>format_name</th>\n",
       "      <th>session_descriptor_string</th>\n",
       "      <th>session_name</th>\n",
       "      <th>entrypoint</th>\n",
       "      <th>git</th>\n",
       "    </tr>\n",
       "  </thead>\n",
       "  <tbody>\n",
       "    <tr>\n",
       "      <th>0</th>\n",
       "      <td>2024-09-27 01:53:50.822</td>\n",
       "      <td></td>\n",
       "      <td>False</td>\n",
       "      <td></td>\n",
       "      <td>gl3151.arc-ts.umich.edu</td>\n",
       "      <td>LS2023-1371</td>\n",
       "      <td>2024-09-27 01:54:12.213</td>\n",
       "      <td>18</td>\n",
       "      <td>Untitled</td>\n",
       "      <td>commander.pho</td>\n",
       "      <td>2024-09-27 01:56:39.355</td>\n",
       "      <td>168.525</td>\n",
       "      <td>35866309.0</td>\n",
       "      <td>Inactive</td>\n",
       "      <td>gor01,two,2006-6-08_21-16-25,kdiba</td>\n",
       "      <td>False</td>\n",
       "      <td>gor01</td>\n",
       "      <td>two</td>\n",
       "      <td>kdiba</td>\n",
       "      <td>kdiba_gor01_two_2006-6-08_21-16-25_sess</td>\n",
       "      <td>2006-6-08_21-16-25</td>\n",
       "      <td>NaN</td>\n",
       "      <td>9dd361af7023578e85667f33bff9958f73877f49</td>\n",
       "    </tr>\n",
       "    <tr>\n",
       "      <th>1</th>\n",
       "      <td>2024-09-26 23:42:29.831</td>\n",
       "      <td></td>\n",
       "      <td>False</td>\n",
       "      <td></td>\n",
       "      <td>gl3151.arc-ts.umich.edu</td>\n",
       "      <td>LS2023-1370</td>\n",
       "      <td>2024-09-27 01:53:11.610</td>\n",
       "      <td>30</td>\n",
       "      <td>Untitled</td>\n",
       "      <td>commander.pho</td>\n",
       "      <td>2024-09-27 01:53:11.610</td>\n",
       "      <td>3552.545</td>\n",
       "      <td>79622445.0</td>\n",
       "      <td>Inactive</td>\n",
       "      <td>gor01,2006-6-07_16-40-19,two,kdiba</td>\n",
       "      <td>False</td>\n",
       "      <td>gor01</td>\n",
       "      <td>two</td>\n",
       "      <td>kdiba</td>\n",
       "      <td>kdiba_gor01_two_2006-6-07_16-40-19_sess</td>\n",
       "      <td>2006-6-07_16-40-19</td>\n",
       "      <td>NaN</td>\n",
       "      <td>9dd361af7023578e85667f33bff9958f73877f49</td>\n",
       "    </tr>\n",
       "    <tr>\n",
       "      <th>2</th>\n",
       "      <td>2024-09-26 23:38:42.638</td>\n",
       "      <td></td>\n",
       "      <td>False</td>\n",
       "      <td></td>\n",
       "      <td>gl3151.arc-ts.umich.edu</td>\n",
       "      <td>LS2023-1369</td>\n",
       "      <td>2024-09-26 23:41:30.996</td>\n",
       "      <td>163</td>\n",
       "      <td>Untitled</td>\n",
       "      <td>commander.pho</td>\n",
       "      <td>2024-09-26 23:41:30.996</td>\n",
       "      <td>168.351</td>\n",
       "      <td>53852089.0</td>\n",
       "      <td>Inactive</td>\n",
       "      <td>gor01,one,2006-6-12_15-55-31,kdiba</td>\n",
       "      <td>False</td>\n",
       "      <td>gor01</td>\n",
       "      <td>one</td>\n",
       "      <td>kdiba</td>\n",
       "      <td>kdiba_gor01_one_2006-6-12_15-55-31_sess</td>\n",
       "      <td>2006-6-12_15-55-31</td>\n",
       "      <td>NaN</td>\n",
       "      <td>9dd361af7023578e85667f33bff9958f73877f49</td>\n",
       "    </tr>\n",
       "    <tr>\n",
       "      <th>3</th>\n",
       "      <td>2024-09-26 22:15:22.256</td>\n",
       "      <td></td>\n",
       "      <td>False</td>\n",
       "      <td></td>\n",
       "      <td>gl3151.arc-ts.umich.edu</td>\n",
       "      <td>LS2023-1368</td>\n",
       "      <td>2024-09-26 23:37:58.759</td>\n",
       "      <td>52</td>\n",
       "      <td>Untitled</td>\n",
       "      <td>commander.pho</td>\n",
       "      <td>2024-09-26 23:37:58.759</td>\n",
       "      <td>2420.797</td>\n",
       "      <td>97688467.0</td>\n",
       "      <td>Inactive</td>\n",
       "      <td>gor01,one,2006-6-09_1-22-43,kdiba</td>\n",
       "      <td>False</td>\n",
       "      <td>gor01</td>\n",
       "      <td>one</td>\n",
       "      <td>kdiba</td>\n",
       "      <td>kdiba_gor01_one_2006-6-09_1-22-43_sess</td>\n",
       "      <td>2006-6-09_1-22-43</td>\n",
       "      <td>NaN</td>\n",
       "      <td>9dd361af7023578e85667f33bff9958f73877f49</td>\n",
       "    </tr>\n",
       "    <tr>\n",
       "      <th>4</th>\n",
       "      <td>2024-09-26 20:04:12.728</td>\n",
       "      <td></td>\n",
       "      <td>False</td>\n",
       "      <td></td>\n",
       "      <td>gl3151.arc-ts.umich.edu</td>\n",
       "      <td>LS2023-1367</td>\n",
       "      <td>2024-09-26 22:14:36.671</td>\n",
       "      <td>30</td>\n",
       "      <td>Untitled</td>\n",
       "      <td>commander.pho</td>\n",
       "      <td>2024-09-26 22:14:36.671</td>\n",
       "      <td>3276.621</td>\n",
       "      <td>64017238.0</td>\n",
       "      <td>Inactive</td>\n",
       "      <td>gor01,one,kdiba,2006-6-08_14-26-15</td>\n",
       "      <td>False</td>\n",
       "      <td>gor01</td>\n",
       "      <td>one</td>\n",
       "      <td>kdiba</td>\n",
       "      <td>kdiba_gor01_one_2006-6-08_14-26-15_sess</td>\n",
       "      <td>2006-6-08_14-26-15</td>\n",
       "      <td>NaN</td>\n",
       "      <td>9dd361af7023578e85667f33bff9958f73877f49</td>\n",
       "    </tr>\n",
       "    <tr>\n",
       "      <th>5</th>\n",
       "      <td>2024-09-26 19:54:03.665</td>\n",
       "      <td></td>\n",
       "      <td>False</td>\n",
       "      <td></td>\n",
       "      <td>gl3151.arc-ts.umich.edu</td>\n",
       "      <td>LS2023-1366</td>\n",
       "      <td>2024-09-26 20:03:53.204</td>\n",
       "      <td>590</td>\n",
       "      <td>Untitled</td>\n",
       "      <td>commander.pho</td>\n",
       "      <td>2024-09-26 20:03:53.204</td>\n",
       "      <td>589.497</td>\n",
       "      <td>55133.0</td>\n",
       "      <td>Inactive</td>\n",
       "      <td>2006-6-09_22-24-40,gor01,two,kdiba</td>\n",
       "      <td>False</td>\n",
       "      <td>gor01</td>\n",
       "      <td>two</td>\n",
       "      <td>kdiba</td>\n",
       "      <td>kdiba_gor01_two_2006-6-09_22-24-40_sess</td>\n",
       "      <td>2006-6-09_22-24-40</td>\n",
       "      <td>figures_kdiba_gor01_two_2006-6-09_22-24-40.py</td>\n",
       "      <td>NaN</td>\n",
       "    </tr>\n",
       "    <tr>\n",
       "      <th>6</th>\n",
       "      <td>2024-09-26 18:07:18.635</td>\n",
       "      <td></td>\n",
       "      <td>False</td>\n",
       "      <td></td>\n",
       "      <td>RDLU0039</td>\n",
       "      <td>LS2023-1365</td>\n",
       "      <td>2024-09-26 18:07:25.787</td>\n",
       "      <td>6</td>\n",
       "      <td>Untitled</td>\n",
       "      <td>commander.pho</td>\n",
       "      <td>2024-09-26 19:14:57.618</td>\n",
       "      <td>2082.457</td>\n",
       "      <td>125206.0</td>\n",
       "      <td>Inactive</td>\n",
       "      <td>one,gor01,2006-6-08_14-26-15,kdiba</td>\n",
       "      <td>False</td>\n",
       "      <td>gor01</td>\n",
       "      <td>one</td>\n",
       "      <td>kdiba</td>\n",
       "      <td>kdiba_gor01_one_2006-6-08_14-26-15_sess</td>\n",
       "      <td>2006-6-08_14-26-15</td>\n",
       "      <td>NaN</td>\n",
       "      <td>33ac89fbe949834c027943c9a4eb54887f208457</td>\n",
       "    </tr>\n",
       "    <tr>\n",
       "      <th>7</th>\n",
       "      <td>2024-09-24 22:33:44.029</td>\n",
       "      <td></td>\n",
       "      <td>False</td>\n",
       "      <td></td>\n",
       "      <td>gl3062.arc-ts.umich.edu</td>\n",
       "      <td>LS2023-1361</td>\n",
       "      <td>2024-09-25 00:50:53.585</td>\n",
       "      <td>8230</td>\n",
       "      <td>Untitled</td>\n",
       "      <td>commander.pho</td>\n",
       "      <td>2024-09-25 00:50:53.585</td>\n",
       "      <td>3688.118</td>\n",
       "      <td>64141629.0</td>\n",
       "      <td>Inactive</td>\n",
       "      <td>one,gor01,kdiba,2006-6-08_14-26-15</td>\n",
       "      <td>False</td>\n",
       "      <td>gor01</td>\n",
       "      <td>one</td>\n",
       "      <td>kdiba</td>\n",
       "      <td>kdiba_gor01_one_2006-6-08_14-26-15_sess</td>\n",
       "      <td>2006-6-08_14-26-15</td>\n",
       "      <td>figures_kdiba_gor01_one_2006-6-08_14-26-15.py</td>\n",
       "      <td>NaN</td>\n",
       "    </tr>\n",
       "    <tr>\n",
       "      <th>8</th>\n",
       "      <td>2024-09-24 22:33:10.662</td>\n",
       "      <td></td>\n",
       "      <td>False</td>\n",
       "      <td></td>\n",
       "      <td>gl3067.arc-ts.umich.edu</td>\n",
       "      <td>LS2023-1354</td>\n",
       "      <td>2024-09-25 00:37:37.273</td>\n",
       "      <td>7467</td>\n",
       "      <td>Untitled</td>\n",
       "      <td>commander.pho</td>\n",
       "      <td>2024-09-25 00:37:37.273</td>\n",
       "      <td>3364.046</td>\n",
       "      <td>45650258.0</td>\n",
       "      <td>Inactive</td>\n",
       "      <td>2006-6-07_16-40-19,two,kdiba,gor01</td>\n",
       "      <td>False</td>\n",
       "      <td>gor01</td>\n",
       "      <td>two</td>\n",
       "      <td>kdiba</td>\n",
       "      <td>kdiba_gor01_two_2006-6-07_16-40-19_sess</td>\n",
       "      <td>2006-6-07_16-40-19</td>\n",
       "      <td>figures_kdiba_gor01_two_2006-6-07_16-40-19.py</td>\n",
       "      <td>NaN</td>\n",
       "    </tr>\n",
       "    <tr>\n",
       "      <th>9</th>\n",
       "      <td>2024-09-24 22:32:55.056</td>\n",
       "      <td></td>\n",
       "      <td>False</td>\n",
       "      <td></td>\n",
       "      <td>gl3026.arc-ts.umich.edu</td>\n",
       "      <td>LS2023-1351</td>\n",
       "      <td>2024-09-25 00:32:43.297</td>\n",
       "      <td>7188</td>\n",
       "      <td>Untitled</td>\n",
       "      <td>commander.pho</td>\n",
       "      <td>2024-09-25 00:32:43.297</td>\n",
       "      <td>3009.733</td>\n",
       "      <td>31825763.0</td>\n",
       "      <td>Inactive</td>\n",
       "      <td>kdiba,gor01,2006-6-07_11-26-53,one</td>\n",
       "      <td>False</td>\n",
       "      <td>gor01</td>\n",
       "      <td>one</td>\n",
       "      <td>kdiba</td>\n",
       "      <td>kdiba_gor01_one_2006-6-07_11-26-53_sess</td>\n",
       "      <td>2006-6-07_11-26-53</td>\n",
       "      <td>figures_kdiba_gor01_one_2006-6-07_11-26-53.py</td>\n",
       "      <td>NaN</td>\n",
       "    </tr>\n",
       "    <tr>\n",
       "      <th>10</th>\n",
       "      <td>2024-09-24 22:33:56.928</td>\n",
       "      <td></td>\n",
       "      <td>False</td>\n",
       "      <td></td>\n",
       "      <td>gl3184.arc-ts.umich.edu</td>\n",
       "      <td>LS2023-1362</td>\n",
       "      <td>2024-09-25 00:29:30.278</td>\n",
       "      <td>6933</td>\n",
       "      <td>Untitled</td>\n",
       "      <td>commander.pho</td>\n",
       "      <td>2024-09-25 00:29:30.278</td>\n",
       "      <td>2776.148</td>\n",
       "      <td>33737186.0</td>\n",
       "      <td>Inactive</td>\n",
       "      <td>kdiba,pin01,fet11-01_12-58-54,one</td>\n",
       "      <td>False</td>\n",
       "      <td>pin01</td>\n",
       "      <td>one</td>\n",
       "      <td>kdiba</td>\n",
       "      <td>kdiba_pin01_one_fet11-01_12-58-54_sess</td>\n",
       "      <td>fet11-01_12-58-54</td>\n",
       "      <td>figures_kdiba_pin01_one_fet11-01_12-58-54.py</td>\n",
       "      <td>NaN</td>\n",
       "    </tr>\n",
       "    <tr>\n",
       "      <th>11</th>\n",
       "      <td>2024-09-24 22:33:40.330</td>\n",
       "      <td></td>\n",
       "      <td>False</td>\n",
       "      <td></td>\n",
       "      <td>gl3062.arc-ts.umich.edu</td>\n",
       "      <td>LS2023-1359</td>\n",
       "      <td>2024-09-24 23:56:57.533</td>\n",
       "      <td>4997</td>\n",
       "      <td>Untitled</td>\n",
       "      <td>commander.pho</td>\n",
       "      <td>2024-09-24 23:56:57.533</td>\n",
       "      <td>2478.537</td>\n",
       "      <td>64753792.0</td>\n",
       "      <td>Inactive</td>\n",
       "      <td>gor01,kdiba,2006-6-09_1-22-43,one</td>\n",
       "      <td>False</td>\n",
       "      <td>gor01</td>\n",
       "      <td>one</td>\n",
       "      <td>kdiba</td>\n",
       "      <td>kdiba_gor01_one_2006-6-09_1-22-43_sess</td>\n",
       "      <td>2006-6-09_1-22-43</td>\n",
       "      <td>figures_kdiba_gor01_one_2006-6-09_1-22-43.py</td>\n",
       "      <td>NaN</td>\n",
       "    </tr>\n",
       "    <tr>\n",
       "      <th>12</th>\n",
       "      <td>2024-09-24 22:34:20.630</td>\n",
       "      <td></td>\n",
       "      <td>False</td>\n",
       "      <td></td>\n",
       "      <td>gl3174.arc-ts.umich.edu</td>\n",
       "      <td>LS2023-1364</td>\n",
       "      <td>2024-09-24 22:57:48.604</td>\n",
       "      <td>1398</td>\n",
       "      <td>Untitled</td>\n",
       "      <td>commander.pho</td>\n",
       "      <td>2024-09-24 22:57:48.604</td>\n",
       "      <td>736.235</td>\n",
       "      <td>31259692.0</td>\n",
       "      <td>Inactive</td>\n",
       "      <td>pin01,11-02_17-46-44,one,kdiba</td>\n",
       "      <td>False</td>\n",
       "      <td>pin01</td>\n",
       "      <td>one</td>\n",
       "      <td>kdiba</td>\n",
       "      <td>kdiba_pin01_one_11-02_17-46-44_sess</td>\n",
       "      <td>11-02_17-46-44</td>\n",
       "      <td>figures_kdiba_pin01_one_11-02_17-46-44.py</td>\n",
       "      <td>NaN</td>\n",
       "    </tr>\n",
       "    <tr>\n",
       "      <th>13</th>\n",
       "      <td>2024-09-24 22:33:14.119</td>\n",
       "      <td></td>\n",
       "      <td>False</td>\n",
       "      <td></td>\n",
       "      <td>gl3070.arc-ts.umich.edu</td>\n",
       "      <td>LS2023-1357</td>\n",
       "      <td>2024-09-24 22:46:35.392</td>\n",
       "      <td>801</td>\n",
       "      <td>Untitled</td>\n",
       "      <td>commander.pho</td>\n",
       "      <td>2024-09-24 22:46:35.392</td>\n",
       "      <td>801.224</td>\n",
       "      <td>54885566.0</td>\n",
       "      <td>Inactive</td>\n",
       "      <td>gor01,two,kdiba,2006-6-08_21-16-25</td>\n",
       "      <td>False</td>\n",
       "      <td>gor01</td>\n",
       "      <td>two</td>\n",
       "      <td>kdiba</td>\n",
       "      <td>kdiba_gor01_two_2006-6-08_21-16-25_sess</td>\n",
       "      <td>2006-6-08_21-16-25</td>\n",
       "      <td>figures_kdiba_gor01_two_2006-6-08_21-16-25.py</td>\n",
       "      <td>NaN</td>\n",
       "    </tr>\n",
       "    <tr>\n",
       "      <th>14</th>\n",
       "      <td>2024-09-24 22:33:12.075</td>\n",
       "      <td></td>\n",
       "      <td>False</td>\n",
       "      <td></td>\n",
       "      <td>gl3092.arc-ts.umich.edu</td>\n",
       "      <td>LS2023-1356</td>\n",
       "      <td>2024-09-24 22:45:32.126</td>\n",
       "      <td>740</td>\n",
       "      <td>Untitled</td>\n",
       "      <td>commander.pho</td>\n",
       "      <td>2024-09-24 22:45:32.126</td>\n",
       "      <td>739.998</td>\n",
       "      <td>36709.0</td>\n",
       "      <td>Inactive</td>\n",
       "      <td>2006-6-09_22-24-40,kdiba,gor01,two</td>\n",
       "      <td>False</td>\n",
       "      <td>gor01</td>\n",
       "      <td>two</td>\n",
       "      <td>kdiba</td>\n",
       "      <td>kdiba_gor01_two_2006-6-09_22-24-40_sess</td>\n",
       "      <td>2006-6-09_22-24-40</td>\n",
       "      <td>figures_kdiba_gor01_two_2006-6-09_22-24-40.py</td>\n",
       "      <td>NaN</td>\n",
       "    </tr>\n",
       "    <tr>\n",
       "      <th>15</th>\n",
       "      <td>2024-09-24 22:33:41.590</td>\n",
       "      <td></td>\n",
       "      <td>False</td>\n",
       "      <td></td>\n",
       "      <td>gl3145.arc-ts.umich.edu</td>\n",
       "      <td>LS2023-1360</td>\n",
       "      <td>2024-09-24 22:40:33.370</td>\n",
       "      <td>412</td>\n",
       "      <td>Untitled</td>\n",
       "      <td>commander.pho</td>\n",
       "      <td>2024-09-24 22:40:33.370</td>\n",
       "      <td>411.753</td>\n",
       "      <td>28060978.0</td>\n",
       "      <td>Inactive</td>\n",
       "      <td>one,vvp01,2006-4-09_17-29-30,kdiba</td>\n",
       "      <td>False</td>\n",
       "      <td>vvp01</td>\n",
       "      <td>one</td>\n",
       "      <td>kdiba</td>\n",
       "      <td>kdiba_vvp01_one_2006-4-09_17-29-30_sess</td>\n",
       "      <td>2006-4-09_17-29-30</td>\n",
       "      <td>figures_kdiba_vvp01_one_2006-4-09_17-29-30.py</td>\n",
       "      <td>NaN</td>\n",
       "    </tr>\n",
       "    <tr>\n",
       "      <th>16</th>\n",
       "      <td>2024-09-24 22:34:14.707</td>\n",
       "      <td></td>\n",
       "      <td>False</td>\n",
       "      <td></td>\n",
       "      <td>gl3174.arc-ts.umich.edu</td>\n",
       "      <td>LS2023-1363</td>\n",
       "      <td>2024-09-24 22:40:22.880</td>\n",
       "      <td>368</td>\n",
       "      <td>Untitled</td>\n",
       "      <td>commander.pho</td>\n",
       "      <td>2024-09-24 22:40:22.880</td>\n",
       "      <td>368.144</td>\n",
       "      <td>29600511.0</td>\n",
       "      <td>Inactive</td>\n",
       "      <td>vvp01,2006-4-10_12-58-3,kdiba,two</td>\n",
       "      <td>False</td>\n",
       "      <td>vvp01</td>\n",
       "      <td>two</td>\n",
       "      <td>kdiba</td>\n",
       "      <td>kdiba_vvp01_two_2006-4-10_12-58-3_sess</td>\n",
       "      <td>2006-4-10_12-58-3</td>\n",
       "      <td>figures_kdiba_vvp01_two_2006-4-10_12-58-3.py</td>\n",
       "      <td>NaN</td>\n",
       "    </tr>\n",
       "    <tr>\n",
       "      <th>17</th>\n",
       "      <td>2024-09-24 22:33:19.390</td>\n",
       "      <td></td>\n",
       "      <td>False</td>\n",
       "      <td></td>\n",
       "      <td>gl3092.arc-ts.umich.edu</td>\n",
       "      <td>LS2023-1358</td>\n",
       "      <td>2024-09-24 22:40:11.827</td>\n",
       "      <td>412</td>\n",
       "      <td>Untitled</td>\n",
       "      <td>commander.pho</td>\n",
       "      <td>2024-09-24 22:40:11.827</td>\n",
       "      <td>387.448</td>\n",
       "      <td>34575219.0</td>\n",
       "      <td>Inactive</td>\n",
       "      <td>two,2006-6-12_16-53-46,kdiba,gor01</td>\n",
       "      <td>False</td>\n",
       "      <td>gor01</td>\n",
       "      <td>two</td>\n",
       "      <td>kdiba</td>\n",
       "      <td>kdiba_gor01_two_2006-6-12_16-53-46_sess</td>\n",
       "      <td>2006-6-12_16-53-46</td>\n",
       "      <td>figures_kdiba_gor01_two_2006-6-12_16-53-46.py</td>\n",
       "      <td>NaN</td>\n",
       "    </tr>\n",
       "    <tr>\n",
       "      <th>18</th>\n",
       "      <td>2024-09-24 22:33:07.401</td>\n",
       "      <td></td>\n",
       "      <td>False</td>\n",
       "      <td></td>\n",
       "      <td>gl3177.arc-ts.umich.edu</td>\n",
       "      <td>LS2023-1353</td>\n",
       "      <td>2024-09-24 22:39:45.134</td>\n",
       "      <td>398</td>\n",
       "      <td>Untitled</td>\n",
       "      <td>commander.pho</td>\n",
       "      <td>2024-09-24 22:39:45.134</td>\n",
       "      <td>376.756</td>\n",
       "      <td>27296068.0</td>\n",
       "      <td>Inactive</td>\n",
       "      <td>11-02_19-28-0,kdiba,pin01,one</td>\n",
       "      <td>False</td>\n",
       "      <td>pin01</td>\n",
       "      <td>one</td>\n",
       "      <td>kdiba</td>\n",
       "      <td>kdiba_pin01_one_11-02_19-28-0_sess</td>\n",
       "      <td>11-02_19-28-0</td>\n",
       "      <td>figures_kdiba_pin01_one_11-02_19-28-0.py</td>\n",
       "      <td>NaN</td>\n",
       "    </tr>\n",
       "    <tr>\n",
       "      <th>19</th>\n",
       "      <td>2024-09-24 22:33:10.970</td>\n",
       "      <td></td>\n",
       "      <td>False</td>\n",
       "      <td></td>\n",
       "      <td>gl3163.arc-ts.umich.edu</td>\n",
       "      <td>LS2023-1355</td>\n",
       "      <td>2024-09-24 22:37:24.229</td>\n",
       "      <td>253</td>\n",
       "      <td>Untitled</td>\n",
       "      <td>commander.pho</td>\n",
       "      <td>2024-09-24 22:37:24.229</td>\n",
       "      <td>253.240</td>\n",
       "      <td>24992047.0</td>\n",
       "      <td>Inactive</td>\n",
       "      <td>kdiba,vvp01,two,2006-4-09_16-40-54</td>\n",
       "      <td>False</td>\n",
       "      <td>vvp01</td>\n",
       "      <td>two</td>\n",
       "      <td>kdiba</td>\n",
       "      <td>kdiba_vvp01_two_2006-4-09_16-40-54_sess</td>\n",
       "      <td>2006-4-09_16-40-54</td>\n",
       "      <td>figures_kdiba_vvp01_two_2006-4-09_16-40-54.py</td>\n",
       "      <td>NaN</td>\n",
       "    </tr>\n",
       "    <tr>\n",
       "      <th>20</th>\n",
       "      <td>2024-09-24 22:32:42.574</td>\n",
       "      <td></td>\n",
       "      <td>False</td>\n",
       "      <td></td>\n",
       "      <td>gl3159.arc-ts.umich.edu</td>\n",
       "      <td>LS2023-1349</td>\n",
       "      <td>2024-09-24 22:36:35.668</td>\n",
       "      <td>233</td>\n",
       "      <td>Untitled</td>\n",
       "      <td>commander.pho</td>\n",
       "      <td>2024-09-24 22:36:35.668</td>\n",
       "      <td>211.597</td>\n",
       "      <td>26178416.0</td>\n",
       "      <td>Inactive</td>\n",
       "      <td>kdiba,vvp01,one,2006-4-10_12-25-50</td>\n",
       "      <td>False</td>\n",
       "      <td>vvp01</td>\n",
       "      <td>one</td>\n",
       "      <td>kdiba</td>\n",
       "      <td>kdiba_vvp01_one_2006-4-10_12-25-50_sess</td>\n",
       "      <td>2006-4-10_12-25-50</td>\n",
       "      <td>figures_kdiba_vvp01_one_2006-4-10_12-25-50.py</td>\n",
       "      <td>NaN</td>\n",
       "    </tr>\n",
       "    <tr>\n",
       "      <th>21</th>\n",
       "      <td>2024-09-24 22:32:53.078</td>\n",
       "      <td></td>\n",
       "      <td>False</td>\n",
       "      <td></td>\n",
       "      <td>gl3065.arc-ts.umich.edu</td>\n",
       "      <td>LS2023-1350</td>\n",
       "      <td>2024-09-24 22:34:45.775</td>\n",
       "      <td>113</td>\n",
       "      <td>Untitled</td>\n",
       "      <td>commander.pho</td>\n",
       "      <td>2024-09-24 22:34:45.775</td>\n",
       "      <td>112.689</td>\n",
       "      <td>18057587.0</td>\n",
       "      <td>Inactive</td>\n",
       "      <td>kdiba,gor01,one,2006-6-12_15-55-31</td>\n",
       "      <td>False</td>\n",
       "      <td>gor01</td>\n",
       "      <td>one</td>\n",
       "      <td>kdiba</td>\n",
       "      <td>kdiba_gor01_one_2006-6-12_15-55-31_sess</td>\n",
       "      <td>2006-6-12_15-55-31</td>\n",
       "      <td>figures_kdiba_gor01_one_2006-6-12_15-55-31.py</td>\n",
       "      <td>NaN</td>\n",
       "    </tr>\n",
       "    <tr>\n",
       "      <th>22</th>\n",
       "      <td>2024-09-24 22:32:55.676</td>\n",
       "      <td></td>\n",
       "      <td>False</td>\n",
       "      <td></td>\n",
       "      <td>gl3184.arc-ts.umich.edu</td>\n",
       "      <td>LS2023-1352</td>\n",
       "      <td>2024-09-24 22:34:03.087</td>\n",
       "      <td>67</td>\n",
       "      <td>Untitled</td>\n",
       "      <td>commander.pho</td>\n",
       "      <td>2024-09-24 22:34:03.087</td>\n",
       "      <td>67.404</td>\n",
       "      <td>12985651.0</td>\n",
       "      <td>Inactive</td>\n",
       "      <td>pin01,kdiba,11-03_12-3-25,one</td>\n",
       "      <td>False</td>\n",
       "      <td>pin01</td>\n",
       "      <td>one</td>\n",
       "      <td>kdiba</td>\n",
       "      <td>kdiba_pin01_one_11-03_12-3-25_sess</td>\n",
       "      <td>11-03_12-3-25</td>\n",
       "      <td>figures_kdiba_pin01_one_11-03_12-3-25.py</td>\n",
       "      <td>NaN</td>\n",
       "    </tr>\n",
       "    <tr>\n",
       "      <th>23</th>\n",
       "      <td>2024-09-24 17:11:20.792</td>\n",
       "      <td></td>\n",
       "      <td>False</td>\n",
       "      <td></td>\n",
       "      <td>gl3070.arc-ts.umich.edu</td>\n",
       "      <td>LS2023-1348</td>\n",
       "      <td>2024-09-24 17:13:48.398</td>\n",
       "      <td>146</td>\n",
       "      <td>Untitled</td>\n",
       "      <td>commander.pho</td>\n",
       "      <td>2024-09-24 17:13:48.398</td>\n",
       "      <td>147.598</td>\n",
       "      <td>16360314.0</td>\n",
       "      <td>Inactive</td>\n",
       "      <td>kdiba,vvp01,two,2006-4-09_16-40-54</td>\n",
       "      <td>False</td>\n",
       "      <td>vvp01</td>\n",
       "      <td>two</td>\n",
       "      <td>kdiba</td>\n",
       "      <td>kdiba_vvp01_two_2006-4-09_16-40-54_sess</td>\n",
       "      <td>2006-4-09_16-40-54</td>\n",
       "      <td>figures_kdiba_vvp01_two_2006-4-09_16-40-54.py</td>\n",
       "      <td>NaN</td>\n",
       "    </tr>\n",
       "    <tr>\n",
       "      <th>24</th>\n",
       "      <td>2024-09-24 17:00:46.766</td>\n",
       "      <td></td>\n",
       "      <td>False</td>\n",
       "      <td></td>\n",
       "      <td>gl3070.arc-ts.umich.edu</td>\n",
       "      <td>LS2023-1347</td>\n",
       "      <td>2024-09-24 17:02:40.303</td>\n",
       "      <td>114</td>\n",
       "      <td>Untitled</td>\n",
       "      <td>commander.pho</td>\n",
       "      <td>2024-09-24 17:02:40.303</td>\n",
       "      <td>113.530</td>\n",
       "      <td>16357577.0</td>\n",
       "      <td>Inactive</td>\n",
       "      <td>two,vvp01,kdiba,2006-4-09_16-40-54</td>\n",
       "      <td>False</td>\n",
       "      <td>vvp01</td>\n",
       "      <td>two</td>\n",
       "      <td>kdiba</td>\n",
       "      <td>kdiba_vvp01_two_2006-4-09_16-40-54_sess</td>\n",
       "      <td>2006-4-09_16-40-54</td>\n",
       "      <td>figures_kdiba_vvp01_two_2006-4-09_16-40-54.py</td>\n",
       "      <td>NaN</td>\n",
       "    </tr>\n",
       "    <tr>\n",
       "      <th>25</th>\n",
       "      <td>2024-09-24 15:32:23.308</td>\n",
       "      <td></td>\n",
       "      <td>False</td>\n",
       "      <td></td>\n",
       "      <td>gl3070.arc-ts.umich.edu</td>\n",
       "      <td>LS2023-1345</td>\n",
       "      <td>2024-09-24 15:34:33.432</td>\n",
       "      <td>130</td>\n",
       "      <td>Untitled</td>\n",
       "      <td>commander.pho</td>\n",
       "      <td>2024-09-24 15:34:33.432</td>\n",
       "      <td>110.061</td>\n",
       "      <td>17209280.0</td>\n",
       "      <td>Inactive</td>\n",
       "      <td>vvp01,2006-4-10_12-25-50,one,kdiba</td>\n",
       "      <td>False</td>\n",
       "      <td>vvp01</td>\n",
       "      <td>one</td>\n",
       "      <td>kdiba</td>\n",
       "      <td>kdiba_vvp01_one_2006-4-10_12-25-50_sess</td>\n",
       "      <td>2006-4-10_12-25-50</td>\n",
       "      <td>figures_kdiba_vvp01_one_2006-4-10_12-25-50.py</td>\n",
       "      <td>NaN</td>\n",
       "    </tr>\n",
       "    <tr>\n",
       "      <th>26</th>\n",
       "      <td>2024-08-29 16:51:51.376</td>\n",
       "      <td></td>\n",
       "      <td>False</td>\n",
       "      <td></td>\n",
       "      <td>gl3126.arc-ts.umich.edu</td>\n",
       "      <td>LS2023-1337</td>\n",
       "      <td>2024-09-24 10:38:29.744</td>\n",
       "      <td>1189</td>\n",
       "      <td>Untitled</td>\n",
       "      <td>commander.pho</td>\n",
       "      <td>2024-09-24 12:50:30.379</td>\n",
       "      <td>23519.802</td>\n",
       "      <td>13032464.0</td>\n",
       "      <td>Inactive</td>\n",
       "      <td>pin01,kdiba,one,11-03_12-3-25,good</td>\n",
       "      <td>False</td>\n",
       "      <td>pin01</td>\n",
       "      <td>one</td>\n",
       "      <td>kdiba</td>\n",
       "      <td>kdiba_pin01_one_11-03_12-3-25_sess</td>\n",
       "      <td>11-03_12-3-25</td>\n",
       "      <td>figures_kdiba_pin01_one_11-03_12-3-25.py</td>\n",
       "      <td>NaN</td>\n",
       "    </tr>\n",
       "    <tr>\n",
       "      <th>27</th>\n",
       "      <td>2024-08-29 16:47:55.150</td>\n",
       "      <td></td>\n",
       "      <td>False</td>\n",
       "      <td></td>\n",
       "      <td>gl3126.arc-ts.umich.edu</td>\n",
       "      <td>LS2023-1336</td>\n",
       "      <td>2024-09-24 10:38:28.396</td>\n",
       "      <td>1299</td>\n",
       "      <td>Untitled</td>\n",
       "      <td>commander.pho</td>\n",
       "      <td>2024-09-24 12:50:32.269</td>\n",
       "      <td>23635.277</td>\n",
       "      <td>24035276.0</td>\n",
       "      <td>Inactive</td>\n",
       "      <td>one,kdiba,11-02_19-28-0,pin01</td>\n",
       "      <td>False</td>\n",
       "      <td>pin01</td>\n",
       "      <td>one</td>\n",
       "      <td>kdiba</td>\n",
       "      <td>kdiba_pin01_one_11-02_19-28-0_sess</td>\n",
       "      <td>11-02_19-28-0</td>\n",
       "      <td>figures_kdiba_pin01_one_11-02_19-28-0.py</td>\n",
       "      <td>NaN</td>\n",
       "    </tr>\n",
       "    <tr>\n",
       "      <th>28</th>\n",
       "      <td>2024-08-29 16:39:16.613</td>\n",
       "      <td></td>\n",
       "      <td>False</td>\n",
       "      <td></td>\n",
       "      <td>gl3126.arc-ts.umich.edu</td>\n",
       "      <td>LS2023-1335</td>\n",
       "      <td>2024-09-24 10:38:27.054</td>\n",
       "      <td>1553</td>\n",
       "      <td>Untitled</td>\n",
       "      <td>commander.pho</td>\n",
       "      <td>2024-09-24 12:50:30.382</td>\n",
       "      <td>23831.900</td>\n",
       "      <td>27977958.0</td>\n",
       "      <td>Inactive</td>\n",
       "      <td>11-02_17-46-44,one,kdiba,pin01</td>\n",
       "      <td>False</td>\n",
       "      <td>pin01</td>\n",
       "      <td>one</td>\n",
       "      <td>kdiba</td>\n",
       "      <td>kdiba_pin01_one_11-02_17-46-44_sess</td>\n",
       "      <td>11-02_17-46-44</td>\n",
       "      <td>figures_kdiba_pin01_one_11-02_17-46-44.py</td>\n",
       "      <td>NaN</td>\n",
       "    </tr>\n",
       "    <tr>\n",
       "      <th>29</th>\n",
       "      <td>2024-08-29 16:34:57.740</td>\n",
       "      <td></td>\n",
       "      <td>False</td>\n",
       "      <td></td>\n",
       "      <td>gl3126.arc-ts.umich.edu</td>\n",
       "      <td>LS2023-1334</td>\n",
       "      <td>2024-09-24 10:38:25.420</td>\n",
       "      <td>1290</td>\n",
       "      <td>Untitled</td>\n",
       "      <td>commander.pho</td>\n",
       "      <td>2024-09-24 12:50:31.435</td>\n",
       "      <td>23635.703</td>\n",
       "      <td>26509423.0</td>\n",
       "      <td>Inactive</td>\n",
       "      <td>vvp01,two,kdiba,2006-4-10_12-58-3</td>\n",
       "      <td>False</td>\n",
       "      <td>vvp01</td>\n",
       "      <td>two</td>\n",
       "      <td>kdiba</td>\n",
       "      <td>kdiba_vvp01_two_2006-4-10_12-58-3_sess</td>\n",
       "      <td>2006-4-10_12-58-3</td>\n",
       "      <td>figures_kdiba_vvp01_two_2006-4-10_12-58-3.py</td>\n",
       "      <td>NaN</td>\n",
       "    </tr>\n",
       "    <tr>\n",
       "      <th>30</th>\n",
       "      <td>2024-08-29 16:27:59.606</td>\n",
       "      <td></td>\n",
       "      <td>False</td>\n",
       "      <td></td>\n",
       "      <td>gl3126.arc-ts.umich.edu</td>\n",
       "      <td>LS2023-1332</td>\n",
       "      <td>2024-09-24 10:38:22.200</td>\n",
       "      <td>1246</td>\n",
       "      <td>Untitled</td>\n",
       "      <td>commander.pho</td>\n",
       "      <td>2024-09-24 12:50:31.014</td>\n",
       "      <td>23612.472</td>\n",
       "      <td>23322925.0</td>\n",
       "      <td>Inactive</td>\n",
       "      <td>one,kdiba,vvp01,2006-4-10_12-25-50</td>\n",
       "      <td>False</td>\n",
       "      <td>vvp01</td>\n",
       "      <td>one</td>\n",
       "      <td>kdiba</td>\n",
       "      <td>kdiba_vvp01_one_2006-4-10_12-25-50_sess</td>\n",
       "      <td>2006-4-10_12-25-50</td>\n",
       "      <td>figures_kdiba_vvp01_one_2006-4-10_12-25-50.py</td>\n",
       "      <td>NaN</td>\n",
       "    </tr>\n",
       "    <tr>\n",
       "      <th>31</th>\n",
       "      <td>2024-08-29 16:23:52.797</td>\n",
       "      <td></td>\n",
       "      <td>False</td>\n",
       "      <td></td>\n",
       "      <td>gl3126.arc-ts.umich.edu</td>\n",
       "      <td>LS2023-1331</td>\n",
       "      <td>2024-09-24 10:38:20.520</td>\n",
       "      <td>1279</td>\n",
       "      <td>Untitled</td>\n",
       "      <td>commander.pho</td>\n",
       "      <td>2024-09-24 12:50:26.040</td>\n",
       "      <td>23599.138</td>\n",
       "      <td>24820277.0</td>\n",
       "      <td>Inactive</td>\n",
       "      <td>kdiba,2006-4-09_17-29-30,one,vvp01</td>\n",
       "      <td>False</td>\n",
       "      <td>vvp01</td>\n",
       "      <td>one</td>\n",
       "      <td>kdiba</td>\n",
       "      <td>kdiba_vvp01_one_2006-4-09_17-29-30_sess</td>\n",
       "      <td>2006-4-09_17-29-30</td>\n",
       "      <td>figures_kdiba_vvp01_one_2006-4-09_17-29-30.py</td>\n",
       "      <td>NaN</td>\n",
       "    </tr>\n",
       "    <tr>\n",
       "      <th>32</th>\n",
       "      <td>2024-08-29 16:20:54.420</td>\n",
       "      <td></td>\n",
       "      <td>False</td>\n",
       "      <td></td>\n",
       "      <td>gl3126.arc-ts.umich.edu</td>\n",
       "      <td>LS2023-1330</td>\n",
       "      <td>2024-09-24 10:38:19.205</td>\n",
       "      <td>1210</td>\n",
       "      <td>Untitled</td>\n",
       "      <td>commander.pho</td>\n",
       "      <td>2024-09-24 12:50:24.230</td>\n",
       "      <td>23547.741</td>\n",
       "      <td>17169827.0</td>\n",
       "      <td>Inactive</td>\n",
       "      <td>two,2006-6-12_16-53-46,gor01,kdiba</td>\n",
       "      <td>False</td>\n",
       "      <td>gor01</td>\n",
       "      <td>two</td>\n",
       "      <td>kdiba</td>\n",
       "      <td>kdiba_gor01_two_2006-6-12_16-53-46_sess</td>\n",
       "      <td>2006-6-12_16-53-46</td>\n",
       "      <td>figures_kdiba_gor01_two_2006-6-12_16-53-46.py</td>\n",
       "      <td>NaN</td>\n",
       "    </tr>\n",
       "    <tr>\n",
       "      <th>33</th>\n",
       "      <td>2024-08-29 16:03:17.406</td>\n",
       "      <td></td>\n",
       "      <td>False</td>\n",
       "      <td></td>\n",
       "      <td>gl3126.arc-ts.umich.edu</td>\n",
       "      <td>LS2023-1329</td>\n",
       "      <td>2024-09-24 10:38:17.583</td>\n",
       "      <td>2034</td>\n",
       "      <td>Untitled</td>\n",
       "      <td>commander.pho</td>\n",
       "      <td>2024-09-24 12:50:27.540</td>\n",
       "      <td>24276.029</td>\n",
       "      <td>60538130.0</td>\n",
       "      <td>Inactive</td>\n",
       "      <td>two,2006-6-09_22-24-40,gor01,kdiba</td>\n",
       "      <td>False</td>\n",
       "      <td>gor01</td>\n",
       "      <td>two</td>\n",
       "      <td>kdiba</td>\n",
       "      <td>kdiba_gor01_two_2006-6-09_22-24-40_sess</td>\n",
       "      <td>2006-6-09_22-24-40</td>\n",
       "      <td>figures_kdiba_gor01_two_2006-6-09_22-24-40.py</td>\n",
       "      <td>NaN</td>\n",
       "    </tr>\n",
       "    <tr>\n",
       "      <th>34</th>\n",
       "      <td>2024-08-29 15:54:39.196</td>\n",
       "      <td></td>\n",
       "      <td>False</td>\n",
       "      <td></td>\n",
       "      <td>gl3126.arc-ts.umich.edu</td>\n",
       "      <td>LS2023-1328</td>\n",
       "      <td>2024-09-24 10:38:15.950</td>\n",
       "      <td>1499</td>\n",
       "      <td>Untitled</td>\n",
       "      <td>commander.pho</td>\n",
       "      <td>2024-09-24 12:50:28.141</td>\n",
       "      <td>23787.353</td>\n",
       "      <td>50215368.0</td>\n",
       "      <td>Inactive</td>\n",
       "      <td>kdiba,gor01,2006-6-08_21-16-25,two</td>\n",
       "      <td>False</td>\n",
       "      <td>gor01</td>\n",
       "      <td>two</td>\n",
       "      <td>kdiba</td>\n",
       "      <td>kdiba_gor01_two_2006-6-08_21-16-25_sess</td>\n",
       "      <td>2006-6-08_21-16-25</td>\n",
       "      <td>figures_kdiba_gor01_two_2006-6-08_21-16-25.py</td>\n",
       "      <td>NaN</td>\n",
       "    </tr>\n",
       "    <tr>\n",
       "      <th>35</th>\n",
       "      <td>2024-08-29 15:37:46.293</td>\n",
       "      <td></td>\n",
       "      <td>False</td>\n",
       "      <td></td>\n",
       "      <td>gl3126.arc-ts.umich.edu</td>\n",
       "      <td>LS2023-1326</td>\n",
       "      <td>2024-09-24 10:38:14.392</td>\n",
       "      <td>1192</td>\n",
       "      <td>Untitled</td>\n",
       "      <td>commander.pho</td>\n",
       "      <td>2024-09-24 12:50:30.234</td>\n",
       "      <td>23540.936</td>\n",
       "      <td>18104404.0</td>\n",
       "      <td>Inactive</td>\n",
       "      <td>kdiba,2006-6-12_15-55-31,gor01,one</td>\n",
       "      <td>False</td>\n",
       "      <td>gor01</td>\n",
       "      <td>one</td>\n",
       "      <td>kdiba</td>\n",
       "      <td>kdiba_gor01_one_2006-6-12_15-55-31_sess</td>\n",
       "      <td>2006-6-12_15-55-31</td>\n",
       "      <td>figures_kdiba_gor01_one_2006-6-12_15-55-31.py</td>\n",
       "      <td>NaN</td>\n",
       "    </tr>\n",
       "    <tr>\n",
       "      <th>36</th>\n",
       "      <td>2024-09-10 20:49:04.507</td>\n",
       "      <td></td>\n",
       "      <td>False</td>\n",
       "      <td></td>\n",
       "      <td>Apogee</td>\n",
       "      <td>LS2023-1343</td>\n",
       "      <td>2024-09-24 10:38:11.409</td>\n",
       "      <td>1311</td>\n",
       "      <td>Untitled</td>\n",
       "      <td>commander.pho</td>\n",
       "      <td>2024-09-24 12:50:29.986</td>\n",
       "      <td>23811.228</td>\n",
       "      <td>39651676.0</td>\n",
       "      <td>Inactive</td>\n",
       "      <td>kdiba,two,gor01,2006-6-07_16-40-19</td>\n",
       "      <td>False</td>\n",
       "      <td>gor01</td>\n",
       "      <td>two</td>\n",
       "      <td>kdiba</td>\n",
       "      <td>kdiba_gor01_two_2006-6-07_16-40-19_sess</td>\n",
       "      <td>2006-6-07_16-40-19</td>\n",
       "      <td>figures_kdiba_gor01_two_2006-6-07_16-40-19.py</td>\n",
       "      <td>NaN</td>\n",
       "    </tr>\n",
       "    <tr>\n",
       "      <th>37</th>\n",
       "      <td>2024-09-10 20:26:31.650</td>\n",
       "      <td></td>\n",
       "      <td>False</td>\n",
       "      <td></td>\n",
       "      <td>Apogee</td>\n",
       "      <td>LS2023-1342</td>\n",
       "      <td>2024-09-24 10:38:09.742</td>\n",
       "      <td>1265</td>\n",
       "      <td>Untitled</td>\n",
       "      <td>commander.pho</td>\n",
       "      <td>2024-09-24 12:50:26.394</td>\n",
       "      <td>23750.136</td>\n",
       "      <td>27967324.0</td>\n",
       "      <td>Inactive</td>\n",
       "      <td>2006-6-07_11-26-53,one,kdiba,gor01</td>\n",
       "      <td>False</td>\n",
       "      <td>gor01</td>\n",
       "      <td>one</td>\n",
       "      <td>kdiba</td>\n",
       "      <td>kdiba_gor01_one_2006-6-07_11-26-53_sess</td>\n",
       "      <td>2006-6-07_11-26-53</td>\n",
       "      <td>figures_kdiba_gor01_one_2006-6-07_11-26-53.py</td>\n",
       "      <td>NaN</td>\n",
       "    </tr>\n",
       "    <tr>\n",
       "      <th>38</th>\n",
       "      <td>2024-09-06 15:14:53.755</td>\n",
       "      <td></td>\n",
       "      <td>False</td>\n",
       "      <td></td>\n",
       "      <td>RDLU0039</td>\n",
       "      <td>LS2023-1339</td>\n",
       "      <td>2024-09-24 10:38:08.300</td>\n",
       "      <td>1377</td>\n",
       "      <td>Untitled</td>\n",
       "      <td>commander.pho</td>\n",
       "      <td>2024-09-24 12:50:32.547</td>\n",
       "      <td>23842.805</td>\n",
       "      <td>60519146.0</td>\n",
       "      <td>Inactive</td>\n",
       "      <td>kdiba,gor01,one,2006-6-09_1-22-43</td>\n",
       "      <td>False</td>\n",
       "      <td>gor01</td>\n",
       "      <td>one</td>\n",
       "      <td>kdiba</td>\n",
       "      <td>kdiba_gor01_one_2006-6-09_1-22-43_sess</td>\n",
       "      <td>2006-6-09_1-22-43</td>\n",
       "      <td>NaN</td>\n",
       "      <td>eb466454290b109e0b5b95ef61932d9c4efe9c96</td>\n",
       "    </tr>\n",
       "    <tr>\n",
       "      <th>39</th>\n",
       "      <td>2024-08-29 16:53:55.515</td>\n",
       "      <td></td>\n",
       "      <td>False</td>\n",
       "      <td></td>\n",
       "      <td>gl3126.arc-ts.umich.edu</td>\n",
       "      <td>LS2023-1338</td>\n",
       "      <td>2024-09-24 10:38:06.849</td>\n",
       "      <td>1442</td>\n",
       "      <td>Untitled</td>\n",
       "      <td>commander.pho</td>\n",
       "      <td>2024-09-24 12:50:31.426</td>\n",
       "      <td>23888.844</td>\n",
       "      <td>30428612.0</td>\n",
       "      <td>Inactive</td>\n",
       "      <td>pin01,one,fet11-01_12-58-54,kdiba</td>\n",
       "      <td>False</td>\n",
       "      <td>pin01</td>\n",
       "      <td>one</td>\n",
       "      <td>kdiba</td>\n",
       "      <td>kdiba_pin01_one_fet11-01_12-58-54_sess</td>\n",
       "      <td>fet11-01_12-58-54</td>\n",
       "      <td>figures_kdiba_pin01_one_fet11-01_12-58-54.py</td>\n",
       "      <td>NaN</td>\n",
       "    </tr>\n",
       "  </tbody>\n",
       "</table>\n",
       "</div>"
      ],
      "text/plain": [
       "             creation_time description  failed group_tags  \\\n",
       "0  2024-09-27 01:53:50.822               False              \n",
       "1  2024-09-26 23:42:29.831               False              \n",
       "2  2024-09-26 23:38:42.638               False              \n",
       "3  2024-09-26 22:15:22.256               False              \n",
       "4  2024-09-26 20:04:12.728               False              \n",
       "5  2024-09-26 19:54:03.665               False              \n",
       "6  2024-09-26 18:07:18.635               False              \n",
       "7  2024-09-24 22:33:44.029               False              \n",
       "8  2024-09-24 22:33:10.662               False              \n",
       "9  2024-09-24 22:32:55.056               False              \n",
       "10 2024-09-24 22:33:56.928               False              \n",
       "11 2024-09-24 22:33:40.330               False              \n",
       "12 2024-09-24 22:34:20.630               False              \n",
       "13 2024-09-24 22:33:14.119               False              \n",
       "14 2024-09-24 22:33:12.075               False              \n",
       "15 2024-09-24 22:33:41.590               False              \n",
       "16 2024-09-24 22:34:14.707               False              \n",
       "17 2024-09-24 22:33:19.390               False              \n",
       "18 2024-09-24 22:33:07.401               False              \n",
       "19 2024-09-24 22:33:10.970               False              \n",
       "20 2024-09-24 22:32:42.574               False              \n",
       "21 2024-09-24 22:32:53.078               False              \n",
       "22 2024-09-24 22:32:55.676               False              \n",
       "23 2024-09-24 17:11:20.792               False              \n",
       "24 2024-09-24 17:00:46.766               False              \n",
       "25 2024-09-24 15:32:23.308               False              \n",
       "26 2024-08-29 16:51:51.376               False              \n",
       "27 2024-08-29 16:47:55.150               False              \n",
       "28 2024-08-29 16:39:16.613               False              \n",
       "29 2024-08-29 16:34:57.740               False              \n",
       "30 2024-08-29 16:27:59.606               False              \n",
       "31 2024-08-29 16:23:52.797               False              \n",
       "32 2024-08-29 16:20:54.420               False              \n",
       "33 2024-08-29 16:03:17.406               False              \n",
       "34 2024-08-29 15:54:39.196               False              \n",
       "35 2024-08-29 15:37:46.293               False              \n",
       "36 2024-09-10 20:49:04.507               False              \n",
       "37 2024-09-10 20:26:31.650               False              \n",
       "38 2024-09-06 15:14:53.755               False              \n",
       "39 2024-08-29 16:53:55.515               False              \n",
       "\n",
       "                   hostname           id       modification_time  \\\n",
       "0   gl3151.arc-ts.umich.edu  LS2023-1371 2024-09-27 01:54:12.213   \n",
       "1   gl3151.arc-ts.umich.edu  LS2023-1370 2024-09-27 01:53:11.610   \n",
       "2   gl3151.arc-ts.umich.edu  LS2023-1369 2024-09-26 23:41:30.996   \n",
       "3   gl3151.arc-ts.umich.edu  LS2023-1368 2024-09-26 23:37:58.759   \n",
       "4   gl3151.arc-ts.umich.edu  LS2023-1367 2024-09-26 22:14:36.671   \n",
       "5   gl3151.arc-ts.umich.edu  LS2023-1366 2024-09-26 20:03:53.204   \n",
       "6                  RDLU0039  LS2023-1365 2024-09-26 18:07:25.787   \n",
       "7   gl3062.arc-ts.umich.edu  LS2023-1361 2024-09-25 00:50:53.585   \n",
       "8   gl3067.arc-ts.umich.edu  LS2023-1354 2024-09-25 00:37:37.273   \n",
       "9   gl3026.arc-ts.umich.edu  LS2023-1351 2024-09-25 00:32:43.297   \n",
       "10  gl3184.arc-ts.umich.edu  LS2023-1362 2024-09-25 00:29:30.278   \n",
       "11  gl3062.arc-ts.umich.edu  LS2023-1359 2024-09-24 23:56:57.533   \n",
       "12  gl3174.arc-ts.umich.edu  LS2023-1364 2024-09-24 22:57:48.604   \n",
       "13  gl3070.arc-ts.umich.edu  LS2023-1357 2024-09-24 22:46:35.392   \n",
       "14  gl3092.arc-ts.umich.edu  LS2023-1356 2024-09-24 22:45:32.126   \n",
       "15  gl3145.arc-ts.umich.edu  LS2023-1360 2024-09-24 22:40:33.370   \n",
       "16  gl3174.arc-ts.umich.edu  LS2023-1363 2024-09-24 22:40:22.880   \n",
       "17  gl3092.arc-ts.umich.edu  LS2023-1358 2024-09-24 22:40:11.827   \n",
       "18  gl3177.arc-ts.umich.edu  LS2023-1353 2024-09-24 22:39:45.134   \n",
       "19  gl3163.arc-ts.umich.edu  LS2023-1355 2024-09-24 22:37:24.229   \n",
       "20  gl3159.arc-ts.umich.edu  LS2023-1349 2024-09-24 22:36:35.668   \n",
       "21  gl3065.arc-ts.umich.edu  LS2023-1350 2024-09-24 22:34:45.775   \n",
       "22  gl3184.arc-ts.umich.edu  LS2023-1352 2024-09-24 22:34:03.087   \n",
       "23  gl3070.arc-ts.umich.edu  LS2023-1348 2024-09-24 17:13:48.398   \n",
       "24  gl3070.arc-ts.umich.edu  LS2023-1347 2024-09-24 17:02:40.303   \n",
       "25  gl3070.arc-ts.umich.edu  LS2023-1345 2024-09-24 15:34:33.432   \n",
       "26  gl3126.arc-ts.umich.edu  LS2023-1337 2024-09-24 10:38:29.744   \n",
       "27  gl3126.arc-ts.umich.edu  LS2023-1336 2024-09-24 10:38:28.396   \n",
       "28  gl3126.arc-ts.umich.edu  LS2023-1335 2024-09-24 10:38:27.054   \n",
       "29  gl3126.arc-ts.umich.edu  LS2023-1334 2024-09-24 10:38:25.420   \n",
       "30  gl3126.arc-ts.umich.edu  LS2023-1332 2024-09-24 10:38:22.200   \n",
       "31  gl3126.arc-ts.umich.edu  LS2023-1331 2024-09-24 10:38:20.520   \n",
       "32  gl3126.arc-ts.umich.edu  LS2023-1330 2024-09-24 10:38:19.205   \n",
       "33  gl3126.arc-ts.umich.edu  LS2023-1329 2024-09-24 10:38:17.583   \n",
       "34  gl3126.arc-ts.umich.edu  LS2023-1328 2024-09-24 10:38:15.950   \n",
       "35  gl3126.arc-ts.umich.edu  LS2023-1326 2024-09-24 10:38:14.392   \n",
       "36                   Apogee  LS2023-1343 2024-09-24 10:38:11.409   \n",
       "37                   Apogee  LS2023-1342 2024-09-24 10:38:09.742   \n",
       "38                 RDLU0039  LS2023-1339 2024-09-24 10:38:08.300   \n",
       "39  gl3126.arc-ts.umich.edu  LS2023-1338 2024-09-24 10:38:06.849   \n",
       "\n",
       "    monitoring_time      name          owner               ping_time  \\\n",
       "0                18  Untitled  commander.pho 2024-09-27 01:56:39.355   \n",
       "1                30  Untitled  commander.pho 2024-09-27 01:53:11.610   \n",
       "2               163  Untitled  commander.pho 2024-09-26 23:41:30.996   \n",
       "3                52  Untitled  commander.pho 2024-09-26 23:37:58.759   \n",
       "4                30  Untitled  commander.pho 2024-09-26 22:14:36.671   \n",
       "5               590  Untitled  commander.pho 2024-09-26 20:03:53.204   \n",
       "6                 6  Untitled  commander.pho 2024-09-26 19:14:57.618   \n",
       "7              8230  Untitled  commander.pho 2024-09-25 00:50:53.585   \n",
       "8              7467  Untitled  commander.pho 2024-09-25 00:37:37.273   \n",
       "9              7188  Untitled  commander.pho 2024-09-25 00:32:43.297   \n",
       "10             6933  Untitled  commander.pho 2024-09-25 00:29:30.278   \n",
       "11             4997  Untitled  commander.pho 2024-09-24 23:56:57.533   \n",
       "12             1398  Untitled  commander.pho 2024-09-24 22:57:48.604   \n",
       "13              801  Untitled  commander.pho 2024-09-24 22:46:35.392   \n",
       "14              740  Untitled  commander.pho 2024-09-24 22:45:32.126   \n",
       "15              412  Untitled  commander.pho 2024-09-24 22:40:33.370   \n",
       "16              368  Untitled  commander.pho 2024-09-24 22:40:22.880   \n",
       "17              412  Untitled  commander.pho 2024-09-24 22:40:11.827   \n",
       "18              398  Untitled  commander.pho 2024-09-24 22:39:45.134   \n",
       "19              253  Untitled  commander.pho 2024-09-24 22:37:24.229   \n",
       "20              233  Untitled  commander.pho 2024-09-24 22:36:35.668   \n",
       "21              113  Untitled  commander.pho 2024-09-24 22:34:45.775   \n",
       "22               67  Untitled  commander.pho 2024-09-24 22:34:03.087   \n",
       "23              146  Untitled  commander.pho 2024-09-24 17:13:48.398   \n",
       "24              114  Untitled  commander.pho 2024-09-24 17:02:40.303   \n",
       "25              130  Untitled  commander.pho 2024-09-24 15:34:33.432   \n",
       "26             1189  Untitled  commander.pho 2024-09-24 12:50:30.379   \n",
       "27             1299  Untitled  commander.pho 2024-09-24 12:50:32.269   \n",
       "28             1553  Untitled  commander.pho 2024-09-24 12:50:30.382   \n",
       "29             1290  Untitled  commander.pho 2024-09-24 12:50:31.435   \n",
       "30             1246  Untitled  commander.pho 2024-09-24 12:50:31.014   \n",
       "31             1279  Untitled  commander.pho 2024-09-24 12:50:26.040   \n",
       "32             1210  Untitled  commander.pho 2024-09-24 12:50:24.230   \n",
       "33             2034  Untitled  commander.pho 2024-09-24 12:50:27.540   \n",
       "34             1499  Untitled  commander.pho 2024-09-24 12:50:28.141   \n",
       "35             1192  Untitled  commander.pho 2024-09-24 12:50:30.234   \n",
       "36             1311  Untitled  commander.pho 2024-09-24 12:50:29.986   \n",
       "37             1265  Untitled  commander.pho 2024-09-24 12:50:26.394   \n",
       "38             1377  Untitled  commander.pho 2024-09-24 12:50:32.547   \n",
       "39             1442  Untitled  commander.pho 2024-09-24 12:50:31.426   \n",
       "\n",
       "    running_time        size     state                                tags  \\\n",
       "0        168.525  35866309.0  Inactive  gor01,two,2006-6-08_21-16-25,kdiba   \n",
       "1       3552.545  79622445.0  Inactive  gor01,2006-6-07_16-40-19,two,kdiba   \n",
       "2        168.351  53852089.0  Inactive  gor01,one,2006-6-12_15-55-31,kdiba   \n",
       "3       2420.797  97688467.0  Inactive   gor01,one,2006-6-09_1-22-43,kdiba   \n",
       "4       3276.621  64017238.0  Inactive  gor01,one,kdiba,2006-6-08_14-26-15   \n",
       "5        589.497     55133.0  Inactive  2006-6-09_22-24-40,gor01,two,kdiba   \n",
       "6       2082.457    125206.0  Inactive  one,gor01,2006-6-08_14-26-15,kdiba   \n",
       "7       3688.118  64141629.0  Inactive  one,gor01,kdiba,2006-6-08_14-26-15   \n",
       "8       3364.046  45650258.0  Inactive  2006-6-07_16-40-19,two,kdiba,gor01   \n",
       "9       3009.733  31825763.0  Inactive  kdiba,gor01,2006-6-07_11-26-53,one   \n",
       "10      2776.148  33737186.0  Inactive   kdiba,pin01,fet11-01_12-58-54,one   \n",
       "11      2478.537  64753792.0  Inactive   gor01,kdiba,2006-6-09_1-22-43,one   \n",
       "12       736.235  31259692.0  Inactive      pin01,11-02_17-46-44,one,kdiba   \n",
       "13       801.224  54885566.0  Inactive  gor01,two,kdiba,2006-6-08_21-16-25   \n",
       "14       739.998     36709.0  Inactive  2006-6-09_22-24-40,kdiba,gor01,two   \n",
       "15       411.753  28060978.0  Inactive  one,vvp01,2006-4-09_17-29-30,kdiba   \n",
       "16       368.144  29600511.0  Inactive   vvp01,2006-4-10_12-58-3,kdiba,two   \n",
       "17       387.448  34575219.0  Inactive  two,2006-6-12_16-53-46,kdiba,gor01   \n",
       "18       376.756  27296068.0  Inactive       11-02_19-28-0,kdiba,pin01,one   \n",
       "19       253.240  24992047.0  Inactive  kdiba,vvp01,two,2006-4-09_16-40-54   \n",
       "20       211.597  26178416.0  Inactive  kdiba,vvp01,one,2006-4-10_12-25-50   \n",
       "21       112.689  18057587.0  Inactive  kdiba,gor01,one,2006-6-12_15-55-31   \n",
       "22        67.404  12985651.0  Inactive       pin01,kdiba,11-03_12-3-25,one   \n",
       "23       147.598  16360314.0  Inactive  kdiba,vvp01,two,2006-4-09_16-40-54   \n",
       "24       113.530  16357577.0  Inactive  two,vvp01,kdiba,2006-4-09_16-40-54   \n",
       "25       110.061  17209280.0  Inactive  vvp01,2006-4-10_12-25-50,one,kdiba   \n",
       "26     23519.802  13032464.0  Inactive  pin01,kdiba,one,11-03_12-3-25,good   \n",
       "27     23635.277  24035276.0  Inactive       one,kdiba,11-02_19-28-0,pin01   \n",
       "28     23831.900  27977958.0  Inactive      11-02_17-46-44,one,kdiba,pin01   \n",
       "29     23635.703  26509423.0  Inactive   vvp01,two,kdiba,2006-4-10_12-58-3   \n",
       "30     23612.472  23322925.0  Inactive  one,kdiba,vvp01,2006-4-10_12-25-50   \n",
       "31     23599.138  24820277.0  Inactive  kdiba,2006-4-09_17-29-30,one,vvp01   \n",
       "32     23547.741  17169827.0  Inactive  two,2006-6-12_16-53-46,gor01,kdiba   \n",
       "33     24276.029  60538130.0  Inactive  two,2006-6-09_22-24-40,gor01,kdiba   \n",
       "34     23787.353  50215368.0  Inactive  kdiba,gor01,2006-6-08_21-16-25,two   \n",
       "35     23540.936  18104404.0  Inactive  kdiba,2006-6-12_15-55-31,gor01,one   \n",
       "36     23811.228  39651676.0  Inactive  kdiba,two,gor01,2006-6-07_16-40-19   \n",
       "37     23750.136  27967324.0  Inactive  2006-6-07_11-26-53,one,kdiba,gor01   \n",
       "38     23842.805  60519146.0  Inactive   kdiba,gor01,one,2006-6-09_1-22-43   \n",
       "39     23888.844  30428612.0  Inactive   pin01,one,fet11-01_12-58-54,kdiba   \n",
       "\n",
       "    trashed animal exper_name format_name  \\\n",
       "0     False  gor01        two       kdiba   \n",
       "1     False  gor01        two       kdiba   \n",
       "2     False  gor01        one       kdiba   \n",
       "3     False  gor01        one       kdiba   \n",
       "4     False  gor01        one       kdiba   \n",
       "5     False  gor01        two       kdiba   \n",
       "6     False  gor01        one       kdiba   \n",
       "7     False  gor01        one       kdiba   \n",
       "8     False  gor01        two       kdiba   \n",
       "9     False  gor01        one       kdiba   \n",
       "10    False  pin01        one       kdiba   \n",
       "11    False  gor01        one       kdiba   \n",
       "12    False  pin01        one       kdiba   \n",
       "13    False  gor01        two       kdiba   \n",
       "14    False  gor01        two       kdiba   \n",
       "15    False  vvp01        one       kdiba   \n",
       "16    False  vvp01        two       kdiba   \n",
       "17    False  gor01        two       kdiba   \n",
       "18    False  pin01        one       kdiba   \n",
       "19    False  vvp01        two       kdiba   \n",
       "20    False  vvp01        one       kdiba   \n",
       "21    False  gor01        one       kdiba   \n",
       "22    False  pin01        one       kdiba   \n",
       "23    False  vvp01        two       kdiba   \n",
       "24    False  vvp01        two       kdiba   \n",
       "25    False  vvp01        one       kdiba   \n",
       "26    False  pin01        one       kdiba   \n",
       "27    False  pin01        one       kdiba   \n",
       "28    False  pin01        one       kdiba   \n",
       "29    False  vvp01        two       kdiba   \n",
       "30    False  vvp01        one       kdiba   \n",
       "31    False  vvp01        one       kdiba   \n",
       "32    False  gor01        two       kdiba   \n",
       "33    False  gor01        two       kdiba   \n",
       "34    False  gor01        two       kdiba   \n",
       "35    False  gor01        one       kdiba   \n",
       "36    False  gor01        two       kdiba   \n",
       "37    False  gor01        one       kdiba   \n",
       "38    False  gor01        one       kdiba   \n",
       "39    False  pin01        one       kdiba   \n",
       "\n",
       "                  session_descriptor_string        session_name  \\\n",
       "0   kdiba_gor01_two_2006-6-08_21-16-25_sess  2006-6-08_21-16-25   \n",
       "1   kdiba_gor01_two_2006-6-07_16-40-19_sess  2006-6-07_16-40-19   \n",
       "2   kdiba_gor01_one_2006-6-12_15-55-31_sess  2006-6-12_15-55-31   \n",
       "3    kdiba_gor01_one_2006-6-09_1-22-43_sess   2006-6-09_1-22-43   \n",
       "4   kdiba_gor01_one_2006-6-08_14-26-15_sess  2006-6-08_14-26-15   \n",
       "5   kdiba_gor01_two_2006-6-09_22-24-40_sess  2006-6-09_22-24-40   \n",
       "6   kdiba_gor01_one_2006-6-08_14-26-15_sess  2006-6-08_14-26-15   \n",
       "7   kdiba_gor01_one_2006-6-08_14-26-15_sess  2006-6-08_14-26-15   \n",
       "8   kdiba_gor01_two_2006-6-07_16-40-19_sess  2006-6-07_16-40-19   \n",
       "9   kdiba_gor01_one_2006-6-07_11-26-53_sess  2006-6-07_11-26-53   \n",
       "10   kdiba_pin01_one_fet11-01_12-58-54_sess   fet11-01_12-58-54   \n",
       "11   kdiba_gor01_one_2006-6-09_1-22-43_sess   2006-6-09_1-22-43   \n",
       "12      kdiba_pin01_one_11-02_17-46-44_sess      11-02_17-46-44   \n",
       "13  kdiba_gor01_two_2006-6-08_21-16-25_sess  2006-6-08_21-16-25   \n",
       "14  kdiba_gor01_two_2006-6-09_22-24-40_sess  2006-6-09_22-24-40   \n",
       "15  kdiba_vvp01_one_2006-4-09_17-29-30_sess  2006-4-09_17-29-30   \n",
       "16   kdiba_vvp01_two_2006-4-10_12-58-3_sess   2006-4-10_12-58-3   \n",
       "17  kdiba_gor01_two_2006-6-12_16-53-46_sess  2006-6-12_16-53-46   \n",
       "18       kdiba_pin01_one_11-02_19-28-0_sess       11-02_19-28-0   \n",
       "19  kdiba_vvp01_two_2006-4-09_16-40-54_sess  2006-4-09_16-40-54   \n",
       "20  kdiba_vvp01_one_2006-4-10_12-25-50_sess  2006-4-10_12-25-50   \n",
       "21  kdiba_gor01_one_2006-6-12_15-55-31_sess  2006-6-12_15-55-31   \n",
       "22       kdiba_pin01_one_11-03_12-3-25_sess       11-03_12-3-25   \n",
       "23  kdiba_vvp01_two_2006-4-09_16-40-54_sess  2006-4-09_16-40-54   \n",
       "24  kdiba_vvp01_two_2006-4-09_16-40-54_sess  2006-4-09_16-40-54   \n",
       "25  kdiba_vvp01_one_2006-4-10_12-25-50_sess  2006-4-10_12-25-50   \n",
       "26       kdiba_pin01_one_11-03_12-3-25_sess       11-03_12-3-25   \n",
       "27       kdiba_pin01_one_11-02_19-28-0_sess       11-02_19-28-0   \n",
       "28      kdiba_pin01_one_11-02_17-46-44_sess      11-02_17-46-44   \n",
       "29   kdiba_vvp01_two_2006-4-10_12-58-3_sess   2006-4-10_12-58-3   \n",
       "30  kdiba_vvp01_one_2006-4-10_12-25-50_sess  2006-4-10_12-25-50   \n",
       "31  kdiba_vvp01_one_2006-4-09_17-29-30_sess  2006-4-09_17-29-30   \n",
       "32  kdiba_gor01_two_2006-6-12_16-53-46_sess  2006-6-12_16-53-46   \n",
       "33  kdiba_gor01_two_2006-6-09_22-24-40_sess  2006-6-09_22-24-40   \n",
       "34  kdiba_gor01_two_2006-6-08_21-16-25_sess  2006-6-08_21-16-25   \n",
       "35  kdiba_gor01_one_2006-6-12_15-55-31_sess  2006-6-12_15-55-31   \n",
       "36  kdiba_gor01_two_2006-6-07_16-40-19_sess  2006-6-07_16-40-19   \n",
       "37  kdiba_gor01_one_2006-6-07_11-26-53_sess  2006-6-07_11-26-53   \n",
       "38   kdiba_gor01_one_2006-6-09_1-22-43_sess   2006-6-09_1-22-43   \n",
       "39   kdiba_pin01_one_fet11-01_12-58-54_sess   fet11-01_12-58-54   \n",
       "\n",
       "                                       entrypoint  \\\n",
       "0                                             NaN   \n",
       "1                                             NaN   \n",
       "2                                             NaN   \n",
       "3                                             NaN   \n",
       "4                                             NaN   \n",
       "5   figures_kdiba_gor01_two_2006-6-09_22-24-40.py   \n",
       "6                                             NaN   \n",
       "7   figures_kdiba_gor01_one_2006-6-08_14-26-15.py   \n",
       "8   figures_kdiba_gor01_two_2006-6-07_16-40-19.py   \n",
       "9   figures_kdiba_gor01_one_2006-6-07_11-26-53.py   \n",
       "10   figures_kdiba_pin01_one_fet11-01_12-58-54.py   \n",
       "11   figures_kdiba_gor01_one_2006-6-09_1-22-43.py   \n",
       "12      figures_kdiba_pin01_one_11-02_17-46-44.py   \n",
       "13  figures_kdiba_gor01_two_2006-6-08_21-16-25.py   \n",
       "14  figures_kdiba_gor01_two_2006-6-09_22-24-40.py   \n",
       "15  figures_kdiba_vvp01_one_2006-4-09_17-29-30.py   \n",
       "16   figures_kdiba_vvp01_two_2006-4-10_12-58-3.py   \n",
       "17  figures_kdiba_gor01_two_2006-6-12_16-53-46.py   \n",
       "18       figures_kdiba_pin01_one_11-02_19-28-0.py   \n",
       "19  figures_kdiba_vvp01_two_2006-4-09_16-40-54.py   \n",
       "20  figures_kdiba_vvp01_one_2006-4-10_12-25-50.py   \n",
       "21  figures_kdiba_gor01_one_2006-6-12_15-55-31.py   \n",
       "22       figures_kdiba_pin01_one_11-03_12-3-25.py   \n",
       "23  figures_kdiba_vvp01_two_2006-4-09_16-40-54.py   \n",
       "24  figures_kdiba_vvp01_two_2006-4-09_16-40-54.py   \n",
       "25  figures_kdiba_vvp01_one_2006-4-10_12-25-50.py   \n",
       "26       figures_kdiba_pin01_one_11-03_12-3-25.py   \n",
       "27       figures_kdiba_pin01_one_11-02_19-28-0.py   \n",
       "28      figures_kdiba_pin01_one_11-02_17-46-44.py   \n",
       "29   figures_kdiba_vvp01_two_2006-4-10_12-58-3.py   \n",
       "30  figures_kdiba_vvp01_one_2006-4-10_12-25-50.py   \n",
       "31  figures_kdiba_vvp01_one_2006-4-09_17-29-30.py   \n",
       "32  figures_kdiba_gor01_two_2006-6-12_16-53-46.py   \n",
       "33  figures_kdiba_gor01_two_2006-6-09_22-24-40.py   \n",
       "34  figures_kdiba_gor01_two_2006-6-08_21-16-25.py   \n",
       "35  figures_kdiba_gor01_one_2006-6-12_15-55-31.py   \n",
       "36  figures_kdiba_gor01_two_2006-6-07_16-40-19.py   \n",
       "37  figures_kdiba_gor01_one_2006-6-07_11-26-53.py   \n",
       "38                                            NaN   \n",
       "39   figures_kdiba_pin01_one_fet11-01_12-58-54.py   \n",
       "\n",
       "                                         git  \n",
       "0   9dd361af7023578e85667f33bff9958f73877f49  \n",
       "1   9dd361af7023578e85667f33bff9958f73877f49  \n",
       "2   9dd361af7023578e85667f33bff9958f73877f49  \n",
       "3   9dd361af7023578e85667f33bff9958f73877f49  \n",
       "4   9dd361af7023578e85667f33bff9958f73877f49  \n",
       "5                                        NaN  \n",
       "6   33ac89fbe949834c027943c9a4eb54887f208457  \n",
       "7                                        NaN  \n",
       "8                                        NaN  \n",
       "9                                        NaN  \n",
       "10                                       NaN  \n",
       "11                                       NaN  \n",
       "12                                       NaN  \n",
       "13                                       NaN  \n",
       "14                                       NaN  \n",
       "15                                       NaN  \n",
       "16                                       NaN  \n",
       "17                                       NaN  \n",
       "18                                       NaN  \n",
       "19                                       NaN  \n",
       "20                                       NaN  \n",
       "21                                       NaN  \n",
       "22                                       NaN  \n",
       "23                                       NaN  \n",
       "24                                       NaN  \n",
       "25                                       NaN  \n",
       "26                                       NaN  \n",
       "27                                       NaN  \n",
       "28                                       NaN  \n",
       "29                                       NaN  \n",
       "30                                       NaN  \n",
       "31                                       NaN  \n",
       "32                                       NaN  \n",
       "33                                       NaN  \n",
       "34                                       NaN  \n",
       "35                                       NaN  \n",
       "36                                       NaN  \n",
       "37                                       NaN  \n",
       "38  eb466454290b109e0b5b95ef61932d9c4efe9c96  \n",
       "39                                       NaN  "
      ]
     },
     "execution_count": 3,
     "metadata": {},
     "output_type": "execute_result"
    }
   ],
   "source": [
    "context_indexed_runs_list_dict: Dict[IdentifyingContext, List[AutoValueConvertingNeptuneRun]] = neptune_run_collected_results.context_indexed_runs_list_dict\n",
    "# context_indexed_runs_list_dict\n",
    "\n",
    "# most_recent_runs_table_df\n",
    "context_indexed_run_logs: Dict[IdentifyingContext, str] = neptune_run_collected_results.context_indexed_run_logs\n",
    "# context_indexed_run_logs\n",
    "\n",
    "# run_logs: Dict[SessionDescriptorString, str] = neptune_run_collected_results.run_logs\n",
    "# run_logs\n",
    "\n",
    "## INPUTS: neptuner, run_logs, most_recent_runs_table_df\n",
    "\n",
    "# session_column_individual_variables = ['format_name', 'animal', 'exper_name', 'session_name']\n",
    "# session_column_variables = ['session_descriptor_string']\n",
    "# processing_status_column_names = ['sys/id', 'sys/hostname', 'sys/creation_time', 'sys/running_time', 'sys/ping_time', 'sys/monitoring_time', 'sys/size', 'sys/tags', 'source_code/entrypoint']\n",
    "# processing_status_column_names = ['sys/id', 'sys/hostname', 'sys/creation_time', 'sys/running_time', 'sys/ping_time', 'sys/monitoring_time', 'sys/size', 'sys/tags', 'source_code/entrypoint']\n",
    "# processing_status_column_names = ['id', 'hostname', 'creation_time', 'running_time', 'ping_time', 'monitoring_time', 'size', 'tags', 'entrypoint']\n",
    "\n",
    "most_recent_runs_table_df: pd.DataFrame = neptune_run_collected_results.most_recent_runs_table_df\n",
    "most_recent_runs_table_df\n",
    "most_recent_runs_session_descriptor_string_to_context_map: Dict[SessionDescriptorString, IdentifyingContext] = neptune_run_collected_results.most_recent_runs_session_descriptor_string_to_context_map\n",
    "## INPUTS: most_recent_runs_session_descriptor_string_to_context_map, run_logs\n",
    "context_indexed_run_logs: Dict[IdentifyingContext, str] = neptune_run_collected_results.context_indexed_run_logs # get the IdentifyingContext indexed item\n",
    "# context_indexed_run_logs\n",
    "\n",
    "# 'outputs/log'\n",
    "\n",
    "## INPUTS: most_recent_runs_table_df\n",
    "most_recent_runs_context_indexed_run_extra_data: Dict[IdentifyingContext, Dict] = neptune_run_collected_results.most_recent_runs_context_indexed_run_extra_data\n",
    "# most_recent_runs_context_indexed_run_extra_data # SessionTuple(format_name='kdiba', animal='pin01', exper_name='one', session_name='11-02_17-46-44', session_descriptor_string='kdiba_pin01_one_11-02_17-46-44_sess', id='LS2023-1335', hostname='gl3126.arc-ts.umich.edu', creation_time=Timestamp('2024-08-29 16:39:16.613000'), running_time=8735.629, ping_time=Timestamp('2024-09-24 08:38:06.626000'), monitoring_time=1543, size=28686905.0, tags='11-02_17-46-44,one,kdiba,pin01', entrypoint='figures_kdiba_pin01_one_11-02_17-46-44.py')\n",
    "\n",
    "# ['script_type']\n",
    "\n",
    "## OUTPUTS: most_recent_runs_session_descriptor_string_to_context_map, context_indexed_run_logs, most_recent_runs_context_indexed_run_extra_data"
   ]
  },
  {
   "cell_type": "code",
   "execution_count": 22,
   "metadata": {},
   "outputs": [
    {
     "data": {
      "text/plain": [
       "<pyphoplacecellanalysis.General.Batch.NeptuneAiHelpers.AutoValueConvertingNeptuneRun at 0x282be4d8bb0>"
      ]
     },
     "execution_count": 22,
     "metadata": {},
     "output_type": "execute_result"
    }
   ],
   "source": []
  },
  {
   "cell_type": "code",
   "execution_count": 54,
   "metadata": {},
   "outputs": [
    {
     "data": {
      "text/plain": [
       "'outputs/figures/display_fn_name:display_short_long_pf1D_comparison/track:long'"
      ]
     },
     "execution_count": 54,
     "metadata": {},
     "output_type": "execute_result"
    },
    {
     "data": {
      "text/plain": [
       "'outputs/figures/display_fn_name:display_short_long_pf1D_comparison/track:short'"
      ]
     },
     "execution_count": 54,
     "metadata": {},
     "output_type": "execute_result"
    }
   ],
   "source": [
    "\"outputs/figures/display_fn_name:display_short_long_pf1D_comparison/track:long\"\n",
    "\"outputs/figures/display_fn_name:display_short_long_pf1D_comparison/track:short\"\n",
    "\n",
    "\n",
    "\n",
    "\n",
    "\n",
    "\n",
    "# Particular Run: `https://app.neptune.ai/commander.pho/PhoDibaLongShortUpdated/e/LS2023-1343`\n",
    "# most_recent_runs_context_indexed_run_extra_data\n",
    "a_session_descriptor_str: str = 'kdiba_gor01_two_2006-6-07_16-40-19'\n",
    "a_run = neptune_run_collected_results.runs_dict['LS2023-1343'] # kdiba_gor01_two_2006-6-07_16-40-19_sess\n",
    "\n",
    "# fig_input_key: str = \"outputs/figures/display_fn_name:display_short_long_pf1D_comparison/track:long\"\n",
    "# fig_input_key: str = \"display_fn_name:display_short_long_pf1D_comparison/track:long\"\n",
    "# fig_input_key: str = \"display_fn_name:display_short_long_pf1D_comparison/track:short\"\n",
    "# download_image(a_run=a_run, fig_input_key=fig_input_key, a_session_descriptor_str=a_session_descriptor_str)\n",
    "\n",
    "\n",
    "# Support Incomplete Keys to export multiple images: _________________________________________________________________ #\n",
    "# fig_input_key: str = \"display_fn_name:BatchPhoJonathanReplayFRC/plot_result_set:shared/page:1of6/aclus:(2,4,5,6,7,8,9,11,12,13)\"\n",
    "fig_input_key: str = \"display_fn_name:BatchPhoJonathanReplayFRC\" # plot_result_set:shared/page:1of6/aclus:(2,4,5,6,7,8,9,11,12,13)\n",
    "# check if the key ends with a forward-slash, in which case it may describe multiple images\n",
    "# fig_input_key.endswith('/')\n",
    "\n"
   ]
  },
  {
   "cell_type": "code",
   "execution_count": 59,
   "metadata": {},
   "outputs": [
    {
     "data": {
      "text/plain": [
       "['display_fn_name:BatchPhoJonathanReplayFRC']"
      ]
     },
     "execution_count": 59,
     "metadata": {},
     "output_type": "execute_result"
    },
    {
     "name": "stdout",
     "output_type": "stream",
     "text": [
      "not a figure file! a dictionary instead probably: type(a_fig_file_field): <class 'dict'>\n"
     ]
    },
    {
     "data": {
      "text/plain": [
       "{'plot_result_set:long_only/aclus:(48)': <neptune.attributes.atoms.file.File at 0x282be50c760>,\n",
       " 'plot_result_set:shared/page:1of3/aclus:(7,41,20,23,32,63,46,52,15,54,51,60,50,28,31,49,26,5,40,62)': <neptune.attributes.atoms.file.File at 0x282be50c7c0>,\n",
       " 'plot_result_set:shared/page:1of6/aclus:(2,4,5,6,7,8,9,11,12,13)': <neptune.attributes.atoms.file.File at 0x282be50caf0>,\n",
       " 'plot_result_set:shared/page:2of3/aclus:(11,55,27,45,24,53,17,56,6,35,34,8,25,21,39,33,44,64,43,2)': <neptune.attributes.atoms.file.File at 0x282be50cb20>,\n",
       " 'plot_result_set:shared/page:2of6/aclus:(14,15,16,17,20,21,22,23,24,25)': <neptune.attributes.atoms.file.File at 0x282be4f2040>,\n",
       " 'plot_result_set:shared/page:3of3/aclus:(4,9,12,13,14,16,22,29,30,36,37,38,42,47,57,58,59,61)': <neptune.attributes.atoms.file.File at 0x282be4df9d0>,\n",
       " 'plot_result_set:shared/page:3of6/aclus:(26,27,28,29,30,31,32,33,34,35)': <neptune.attributes.atoms.file.File at 0x282be4dfb80>,\n",
       " 'plot_result_set:shared/page:4of6/aclus:(36,37,38,39,40,41,42,43,44,45)': <neptune.attributes.atoms.file.File at 0x282be4dfc70>,\n",
       " 'plot_result_set:shared/page:5of6/aclus:(46,47,49,50,51,52,53,54,55,56)': <neptune.attributes.atoms.file.File at 0x282be4df8e0>,\n",
       " 'plot_result_set:shared/page:6of6/aclus:(57,58,59,60,61,62,63,64)': <neptune.attributes.atoms.file.File at 0x282be4df5b0>,\n",
       " 'plot_result_set:short_only/aclus:(3,10,18,19,65)': <neptune.attributes.atoms.file.File at 0x282be4df760>}"
      ]
     },
     "execution_count": 59,
     "metadata": {},
     "output_type": "execute_result"
    }
   ],
   "source": [
    "from pyphoplacecellanalysis.General.Batch.NeptuneAiHelpers import get_nested_value\n",
    "from pyphoplacecellanalysis.General.Batch.NeptuneAiHelpers import flatten_dict\n",
    "# from neptune.types import File\n",
    "from neptune.attributes.atoms.file import File\n",
    "\n",
    "a_parsed_structure = a_run.get_structure().get('outputs', {}).get('figures', None)\n",
    "if a_parsed_structure is None:\n",
    "    raise ValueError(f'No \"outputs/values\" in this run.') #skip this one\n",
    "\n",
    "# a_parsed_structure = a_run.get_structure()['outputs']['figures']\n",
    "assert isinstance(a_parsed_structure, dict), f\"type(a_parsed_structure): {type(a_parsed_structure)} instead of dict. a_parsed_structure: {a_parsed_structure}\"\n",
    "if debug_print:\n",
    "    print(f'a_parsed_structure: {a_parsed_structure}')\n",
    "\n",
    "# for k, v in a_parsed_structure.items():\n",
    "#     # Flatten each nested dictionary and update the flattened_dict\n",
    "#     _parsed_run_structure_dict[a_ctxt].update(flatten_dict(v, parent_key=k))\n",
    "\n",
    "## parse the key:\n",
    "fig_input_key_parts: List[str] = fig_input_key.split('/') # ['display_fn_name:display_short_long_pf1D_comparison', 'track:long']\n",
    "fig_input_key_parts\n",
    "\n",
    "## parse key:value pairs into split arrays\n",
    "# [k.split(':') for k in fig_input_key_parts] # [['display_fn_name', 'display_short_long_pf1D_comparison'], ['track', 'short']]\n",
    "\n",
    "fig_split_key_value_pair_parts = [k.split(':')[-1] for k in fig_input_key_parts] ## remove the keys from the path, ['display_short_long_pf1D_comparison', 'short']\n",
    "# fig_split_key_value_pair_parts\n",
    "\n",
    "## Find the figure or figure(s):\n",
    "\n",
    "# a_fig_file_field = a_parsed_structure['display_fn_name:display_short_long_pf1D_comparison'][\"track:long\"]\n",
    "a_fig_file_field = get_nested_value(a_parsed_structure, fig_input_key_parts)\n",
    "# a_fig_file_field\n",
    "\n",
    "# {'plot_result_set:long_only': {'aclus:(48)': <neptune.attributes.atoms.file.File at 0x282be50c760>},\n",
    "#  'plot_result_set:shared': {'page:1of3': {'aclus:(7,41,20,23,32,63,46,52,15,54,51,60,50,28,31,49,26,5,40,62)': <neptune.attributes.atoms.file.File at 0x282be50c7c0>},\n",
    "#   'page:1of6': {'aclus:(2,4,5,6,7,8,9,11,12,13)': <neptune.attributes.atoms.file.File at 0x282be50caf0>},\n",
    "#   'page:2of3': {'aclus:(11,55,27,45,24,53,17,56,6,35,34,8,25,21,39,33,44,64,43,2)': <neptune.attributes.atoms.file.File at 0x282be50cb20>},\n",
    "#   'page:2of6': {'aclus:(14,15,16,17,20,21,22,23,24,25)': <neptune.attributes.atoms.file.File at 0x282be4f2040>},\n",
    "#   'page:3of3': {'aclus:(4,9,12,13,14,16,22,29,30,36,37,38,42,47,57,58,59,61)': <neptune.attributes.atoms.file.File at 0x282be4df9d0>},\n",
    "#   'page:3of6': {'aclus:(26,27,28,29,30,31,32,33,34,35)': <neptune.attributes.atoms.file.File at 0x282be4dfb80>},\n",
    "#   'page:4of6': {'aclus:(36,37,38,39,40,41,42,43,44,45)': <neptune.attributes.atoms.file.File at 0x282be4dfc70>},\n",
    "#   'page:5of6': {'aclus:(46,47,49,50,51,52,53,54,55,56)': <neptune.attributes.atoms.file.File at 0x282be4df8e0>},\n",
    "#   'page:6of6': {'aclus:(57,58,59,60,61,62,63,64)': <neptune.attributes.atoms.file.File at 0x282be4df5b0>}},\n",
    "#  'plot_result_set:short_only': {'aclus:(3,10,18,19,65)': <neptune.attributes.atoms.file.File at 0x282be4df760>}}\n",
    "\n",
    "## Build the output file path\n",
    "a_session_figures_output_path = neptune_project_figures_output_path.joinpath(a_session_descriptor_str)\n",
    "a_session_figures_output_path.mkdir(exist_ok=True)\n",
    "\n",
    "if not isinstance(a_fig_file_field, File):\n",
    "    print(f'not a figure file! a dictionary instead probably: type(a_fig_file_field): {type(a_fig_file_field)}')\n",
    "    a_flattened_figure_dict = flatten_dict(a_fig_file_field)\n",
    "    for a_sub_key, a_sub_fig_file_field in a_flattened_figure_dict.items():\n",
    "        ## Each sub-item:\n",
    "        sub_fig_full_input_key: str = '/'.join([fig_input_key, a_sub_key])\n",
    "        if debug_print:\n",
    "            print(f'sub_fig_full_input_key: \"{sub_fig_full_input_key}\"')\n",
    "        sub_fig_input_key_parts: List[str] = a_sub_key.split('/') # ['display_fn_name:display_short_long_pf1D_comparison', 'track:long']\n",
    "        sub_fig_split_key_value_pair_parts = [k.split(':')[-1] for k in sub_fig_input_key_parts]\n",
    "        a_fig_output_name: str = '-'.join(fig_split_key_value_pair_parts + sub_fig_split_key_value_pair_parts) + '.png'\n",
    "        a_fig_output_path = a_session_figures_output_path.joinpath(a_fig_output_name).resolve()\n",
    "        if debug_print:\n",
    "            print(f'a_fig_output_path: \"{a_fig_output_path}\"')\n",
    "        ## Try the download\n",
    "        try:\n",
    "            _a_download_result = a_sub_fig_file_field.download(destination=a_fig_output_path.as_posix())\n",
    "            _context_fig_files_dict[a_session_descriptor_str][sub_fig_full_input_key] = a_fig_output_path.as_posix()\n",
    "            if debug_print:\n",
    "                print(f'\\tdone.')\n",
    "        except MissingFieldException as err:\n",
    "            # print(f'MissingFieldException for a_run.id: {a_run_id} (err: {err})')\n",
    "            print(f'MissingFieldException for a_run.id: {self}')\n",
    "            pass\n",
    "    \n",
    "# {'plot_result_set:long_only/aclus:(48)': <neptune.attributes.atoms.file.File at 0x282be50c760>,\n",
    "#  'plot_result_set:shared/page:1of3/aclus:(7,41,20,23,32,63,46,52,15,54,51,60,50,28,31,49,26,5,40,62)': <neptune.attributes.atoms.file.File at 0x282be50c7c0>,\n",
    "#  'plot_result_set:shared/page:1of6/aclus:(2,4,5,6,7,8,9,11,12,13)': <neptune.attributes.atoms.file.File at 0x282be50caf0>,\n",
    "#  'plot_result_set:shared/page:2of3/aclus:(11,55,27,45,24,53,17,56,6,35,34,8,25,21,39,33,44,64,43,2)': <neptune.attributes.atoms.file.File at 0x282be50cb20>,\n",
    "#  'plot_result_set:shared/page:2of6/aclus:(14,15,16,17,20,21,22,23,24,25)': <neptune.attributes.atoms.file.File at 0x282be4f2040>,\n",
    "#  'plot_result_set:shared/page:3of3/aclus:(4,9,12,13,14,16,22,29,30,36,37,38,42,47,57,58,59,61)': <neptune.attributes.atoms.file.File at 0x282be4df9d0>,\n",
    "#  'plot_result_set:shared/page:3of6/aclus:(26,27,28,29,30,31,32,33,34,35)': <neptune.attributes.atoms.file.File at 0x282be4dfb80>,\n",
    "#  'plot_result_set:shared/page:4of6/aclus:(36,37,38,39,40,41,42,43,44,45)': <neptune.attributes.atoms.file.File at 0x282be4dfc70>,\n",
    "#  'plot_result_set:shared/page:5of6/aclus:(46,47,49,50,51,52,53,54,55,56)': <neptune.attributes.atoms.file.File at 0x282be4df8e0>,\n",
    "#  'plot_result_set:shared/page:6of6/aclus:(57,58,59,60,61,62,63,64)': <neptune.attributes.atoms.file.File at 0x282be4df5b0>,\n",
    "#  'plot_result_set:short_only/aclus:(3,10,18,19,65)': <neptune.attributes.atoms.file.File at 0x282be4df760>}\n"
   ]
  },
  {
   "cell_type": "code",
   "execution_count": null,
   "metadata": {
    "tags": [
     "run/main"
    ]
   },
   "outputs": [],
   "source": [
    "_context_log_files_dict = neptune_run_collected_results.download_uploaded_log_files(neptune_logs_output_path=neptune_logs_output_path)\n",
    "_context_log_files_dict"
   ]
  },
  {
   "cell_type": "markdown",
   "metadata": {},
   "source": [
    "##  2024-09-24 - tries to get the figures from the runs"
   ]
  },
  {
   "cell_type": "code",
   "execution_count": 61,
   "metadata": {},
   "outputs": [
    {
     "name": "stdout",
     "output_type": "stream",
     "text": [
      "a_parsed_structure: {'display_fn_name:BatchPhoJonathanReplayFRC': {'plot_result_set:long_only': {'aclus:(13,19,23,29,36,54,60,73,78,90)': <neptune.attributes.atoms.file.File object at 0x00000282B9EC37F0>, 'aclus:(54,60,78,23,90,73,13,36,29,19)': <neptune.attributes.atoms.file.File object at 0x00000282B9EC3640>}, 'plot_result_set:shared': {'page:1of5': {'aclus:(58,41,42,46,55,101,31,63,68,11,69,87,25,91,14,92,2,65,100,86)': <neptune.attributes.atoms.file.File object at 0x00000282B9EC3EE0>}, 'page:1of9': {'aclus:(2,3,5,6,7,9,10,11,12,14)': <neptune.attributes.atoms.file.File object at 0x00000282B9EC3F70>}, 'page:2of5': {'aclus:(59,12,7,74,76,64,103,44,24,34,61,85,38,51,56,9,22,15,66,75)': <neptune.attributes.atoms.file.File object at 0x00000282BE13E1C0>}, 'page:2of9': {'aclus:(15,17,18,20,21,22,24,25,26,28)': <neptune.attributes.atoms.file.File object at 0x00000282BE13E2B0>}, 'page:3of5': {'aclus:(57,37,94,71,95,97,50,17,77,67,18,70,6,79,3,47,82,83,96,26)': <neptune.attributes.atoms.file.File object at 0x00000282BE13E3A0>}, 'page:3of9': {'aclus:(30,31,32,34,35,37,38,40,41,42)': <neptune.attributes.atoms.file.File object at 0x00000282BE13E4C0>}, 'page:4of5': {'aclus:(89,5,10,20,21,28,30,32,35,40,43,45,48,49,52,53,62,72,80,81)': <neptune.attributes.atoms.file.File object at 0x00000282BE13E580>}, 'page:4of9': {'aclus:(43,44,45,46,47,48,49,50,51,52)': <neptune.attributes.atoms.file.File object at 0x00000282BE13E670>}, 'page:5of5': {'aclus:(84,88,93,98,99,102)': <neptune.attributes.atoms.file.File object at 0x00000282BE13E6D0>}, 'page:5of9': {'aclus:(53,55,56,57,58,59,61,62,63,64)': <neptune.attributes.atoms.file.File object at 0x00000282BE13E850>}, 'page:6of9': {'aclus:(65,66,67,68,69,70,71,72,74,75)': <neptune.attributes.atoms.file.File object at 0x00000282BE13E940>}, 'page:7of9': {'aclus:(76,77,79,80,81,82,83,84,85,86)': <neptune.attributes.atoms.file.File object at 0x00000282BE13EA30>}, 'page:8of9': {'aclus:(87,88,89,91,92,93,94,95,96,97)': <neptune.attributes.atoms.file.File object at 0x00000282BE13EA60>}, 'page:9of9': {'aclus:(98,99,100,101,102,103)': <neptune.attributes.atoms.file.File object at 0x00000282BE13F640>}}, 'plot_result_set:short_only': {'aclus:(4,8,16,27,33,39)': <neptune.attributes.atoms.file.File object at 0x00000282BE13F7F0>}}, 'display_fn_name:_display_grid_bin_bounds_validation': <neptune.attributes.atoms.file.File object at 0x00000282BE13F670>, 'display_fn_name:bidir_track_remap': {'subplot_name:Track Remapping': <neptune.attributes.atoms.file.File object at 0x00000282BE13F8B0>}, 'display_fn_name:directional_merged_pf_decoded_epochs': {'decoded_epochs:Laps': {'Marginal:Direction': {'t_bin:0.25': <neptune.attributes.atoms.file.File object at 0x00000282BE13F910>}, 'Marginal:TrackID': {'t_bin:0.25': <neptune.attributes.atoms.file.File object at 0x00000282BE13F3A0>}}, 'decoded_epochs:Ripple': {'Marginal:Direction': {'t_bin:0.025': <neptune.attributes.atoms.file.File object at 0x00000282BE13F490>}, 'Marginal:TrackID': {'t_bin:0.025': <neptune.attributes.atoms.file.File object at 0x00000282BE13FAF0>}}}, 'display_fn_name:display_long_short_laps': <neptune.attributes.atoms.file.File object at 0x00000282BE13F9A0>, 'display_fn_name:display_short_long_pf1D_comparison': {'track:long': <neptune.attributes.atoms.file.File object at 0x00000282BE13FB50>, 'track:short': <neptune.attributes.atoms.file.File object at 0x00000282BE13FBB0>}, 'display_fn_name:plot_all_epoch_bins_marginal_predictions': {'subplot_name:Laps all_epoch_binned Marginals': <neptune.attributes.atoms.file.File object at 0x00000282BE13FA60>, 'subplot_name:Ripple all_epoch_binned Marginals': <neptune.attributes.atoms.file.File object at 0x00000282BE13FBE0>}, 'display_fn_name:plot_expected_vs_observed': {'x_variable:epoch_idx': {'variable:obs_exp_diff_ptp': <neptune.attributes.atoms.file.File object at 0x00000282BE13FA00>}}, 'display_fn_name:plot_histograms': {'subplot_name:laps_result_tuple': <neptune.attributes.atoms.file.File object at 0x00000282BE13F970>, 'subplot_name:ripple_result_tuple': <neptune.attributes.atoms.file.File object at 0x00000282BE11BE80>}, 'display_fn_name:plot_quantile_diffs': {'subplot_name:BestDir': <neptune.attributes.atoms.file.File object at 0x00000282BE11BF40>}, 'display_fn_name:plot_rank_order_epoch_inst_fr_result_tuples': {'subplot_name:Lap': {'subplotsubplot_name:raw': <neptune.attributes.atoms.file.File object at 0x00000282BE11BFA0>, 'subplotsubplot_name:z_score_diff': <neptune.attributes.atoms.file.File object at 0x00000282BE1040A0>}, 'subplot_name:Ripple': {'subplotsubplot_name:raw': <neptune.attributes.atoms.file.File object at 0x00000282BE1041C0>, 'subplotsubplot_name:z_score_diff': <neptune.attributes.atoms.file.File object at 0x00000282BE104220>}}, 'display_fn_name:plot_rank_order_histograms': {'subplot_name:Ripple Most-likely Spearman Rho': <neptune.attributes.atoms.file.File object at 0x00000282BE1042E0>, 'subplot_name:Ripple Most-likely Z-scores': <neptune.attributes.atoms.file.File object at 0x00000282BE104340>, 'subplot_name:Ripple Z-scores': <neptune.attributes.atoms.file.File object at 0x00000282BE104400>, 'subplot_name:Ripple real correlations': <neptune.attributes.atoms.file.File object at 0x00000282BE104460>}, 'display_fn_name:running_and_replay_speeds_over_time': <neptune.attributes.atoms.file.File object at 0x00000282BE1044C0>, 'filter_name:maze1_any': {'lap_dir:any': {'display_fn_name:1d_placefields': <neptune.attributes.atoms.file.File object at 0x00000282BE104520>, 'display_fn_name:_display_1d_placefield_validations': <neptune.attributes.atoms.file.File object at 0x00000282BE104580>, 'display_fn_name:_display_2d_placefield_result_plot_ratemaps_2D': <neptune.attributes.atoms.file.File object at 0x00000282BE1046A0>, 'display_fn_name:plot_occupancy': {'plot_variable:OCCUPANCY': <neptune.attributes.atoms.file.File object at 0x00000282BE104700>}, 'display_fn_name:plot_single_track_firing_rate_compare': <neptune.attributes.atoms.file.File object at 0x00000282BE104850>}}, 'filter_name:maze1_even': {'lap_dir:even': {'display_fn_name:1d_placefields': <neptune.attributes.atoms.file.File object at 0x00000282BE104790>, 'display_fn_name:_display_1d_placefield_validations': <neptune.attributes.atoms.file.File object at 0x00000282BE1048B0>, 'display_fn_name:_display_2d_placefield_result_plot_ratemaps_2D': <neptune.attributes.atoms.file.File object at 0x00000282BE1049D0>, 'display_fn_name:plot_occupancy': {'plot_variable:OCCUPANCY': <neptune.attributes.atoms.file.File object at 0x00000282BE104A30>}}}, 'filter_name:maze1_odd': {'lap_dir:odd': {'display_fn_name:1d_placefields': <neptune.attributes.atoms.file.File object at 0x00000282BE104B80>, 'display_fn_name:_display_1d_placefield_validations': <neptune.attributes.atoms.file.File object at 0x00000282BE104AC0>, 'display_fn_name:_display_2d_placefield_result_plot_ratemaps_2D': <neptune.attributes.atoms.file.File object at 0x00000282BE104CA0>, 'display_fn_name:plot_occupancy': {'plot_variable:OCCUPANCY': <neptune.attributes.atoms.file.File object at 0x00000282BE104D00>}}}, 'filter_name:maze2_any': {'lap_dir:any': {'display_fn_name:1d_placefields': <neptune.attributes.atoms.file.File object at 0x00000282BE104E50>, 'display_fn_name:_display_1d_placefield_validations': <neptune.attributes.atoms.file.File object at 0x00000282BE104D90>, 'display_fn_name:_display_2d_placefield_result_plot_ratemaps_2D': <neptune.attributes.atoms.file.File object at 0x00000282BE104F70>, 'display_fn_name:plot_occupancy': {'plot_variable:OCCUPANCY': <neptune.attributes.atoms.file.File object at 0x00000282BE104FD0>}, 'display_fn_name:plot_single_track_firing_rate_compare': <neptune.attributes.atoms.file.File object at 0x00000282BE10C160>}}, 'filter_name:maze2_even': {'lap_dir:even': {'display_fn_name:1d_placefields': <neptune.attributes.atoms.file.File object at 0x00000282BE10C0A0>, 'display_fn_name:_display_1d_placefield_validations': <neptune.attributes.atoms.file.File object at 0x00000282BE10C1C0>, 'display_fn_name:_display_2d_placefield_result_plot_ratemaps_2D': <neptune.attributes.atoms.file.File object at 0x00000282BE10C2E0>, 'display_fn_name:plot_occupancy': {'plot_variable:OCCUPANCY': <neptune.attributes.atoms.file.File object at 0x00000282BE10C340>}}}, 'filter_name:maze2_odd': {'lap_dir:odd': {'display_fn_name:1d_placefields': <neptune.attributes.atoms.file.File object at 0x00000282BE10C490>, 'display_fn_name:_display_1d_placefield_validations': <neptune.attributes.atoms.file.File object at 0x00000282BE10C3D0>, 'display_fn_name:_display_2d_placefield_result_plot_ratemaps_2D': <neptune.attributes.atoms.file.File object at 0x00000282BE10C5B0>, 'display_fn_name:plot_occupancy': {'plot_variable:OCCUPANCY': <neptune.attributes.atoms.file.File object at 0x00000282BE10C610>}}}, 'filter_name:maze_any': {'lap_dir:any': {'display_fn_name:1d_placefields': <neptune.attributes.atoms.file.File object at 0x00000282BE10C760>, 'display_fn_name:_display_1d_placefield_validations': <neptune.attributes.atoms.file.File object at 0x00000282BE10C6A0>, 'display_fn_name:_display_2d_placefield_result_plot_ratemaps_2D': <neptune.attributes.atoms.file.File object at 0x00000282BE10C880>, 'display_fn_name:plot_occupancy': {'plot_variable:OCCUPANCY': <neptune.attributes.atoms.file.File object at 0x00000282BE10C8E0>}}}, 'filter_name:maze_even': {'lap_dir:even': {'display_fn_name:1d_placefields': <neptune.attributes.atoms.file.File object at 0x00000282BE10CA30>, 'display_fn_name:_display_1d_placefield_validations': <neptune.attributes.atoms.file.File object at 0x00000282BE10C970>, 'display_fn_name:_display_2d_placefield_result_plot_ratemaps_2D': <neptune.attributes.atoms.file.File object at 0x00000282BE10CB50>, 'display_fn_name:plot_occupancy': {'plot_variable:OCCUPANCY': <neptune.attributes.atoms.file.File object at 0x00000282BE10CBB0>}}}, 'filter_name:maze_odd': {'lap_dir:odd': {'display_fn_name:1d_placefields': <neptune.attributes.atoms.file.File object at 0x00000282BE10CD00>, 'display_fn_name:_display_1d_placefield_validations': <neptune.attributes.atoms.file.File object at 0x00000282BE10CC40>, 'display_fn_name:_display_2d_placefield_result_plot_ratemaps_2D': <neptune.attributes.atoms.file.File object at 0x00000282BE10CE20>, 'display_fn_name:plot_occupancy': {'plot_variable:OCCUPANCY': <neptune.attributes.atoms.file.File object at 0x00000282BE10CE80>}}}, 'fn_name:long_short_firing_rate_indicies': {'display_fn_name:display_long_short_laps': <neptune.attributes.atoms.file.File object at 0x00000282BE10CFD0>}}\n",
      "not a figure file! a dictionary instead probably: type(a_fig_file_field): <class 'dict'>\n",
      "sub_fig_full_input_key: \"display_fn_name:BatchPhoJonathanReplayFRC/plot_result_set:long_only/aclus:(13,19,23,29,36,54,60,73,78,90)\"\n",
      "a_fig_output_path: \"C:\\Users\\pho\\repos\\Spike3DWorkEnv\\Spike3D\\data\\neptune\\commander.pho\\PhoDibaLongShortUpdated\\figs\\gor01_two_2006-6-08_21-16-25\\BatchPhoJonathanReplayFRC-long_only-(13,19,23,29,36,54,60,73,78,90).png\"\n",
      "\tdone.\n",
      "sub_fig_full_input_key: \"display_fn_name:BatchPhoJonathanReplayFRC/plot_result_set:long_only/aclus:(54,60,78,23,90,73,13,36,29,19)\"\n",
      "a_fig_output_path: \"C:\\Users\\pho\\repos\\Spike3DWorkEnv\\Spike3D\\data\\neptune\\commander.pho\\PhoDibaLongShortUpdated\\figs\\gor01_two_2006-6-08_21-16-25\\BatchPhoJonathanReplayFRC-long_only-(54,60,78,23,90,73,13,36,29,19).png\"\n",
      "\tdone.\n",
      "sub_fig_full_input_key: \"display_fn_name:BatchPhoJonathanReplayFRC/plot_result_set:shared/page:1of5/aclus:(58,41,42,46,55,101,31,63,68,11,69,87,25,91,14,92,2,65,100,86)\"\n",
      "a_fig_output_path: \"C:\\Users\\pho\\repos\\Spike3DWorkEnv\\Spike3D\\data\\neptune\\commander.pho\\PhoDibaLongShortUpdated\\figs\\gor01_two_2006-6-08_21-16-25\\BatchPhoJonathanReplayFRC-shared-1of5-(58,41,42,46,55,101,31,63,68,11,69,87,25,91,14,92,2,65,100,86).png\"\n"
     ]
    },
    {
     "data": {
      "application/vnd.jupyter.widget-view+json": {
       "model_id": "aebf183dc2444e41969222104ff9e068",
       "version_major": 2,
       "version_minor": 0
      },
      "text/plain": [
       "Fetching file...: 0 [00:00, ?/s]"
      ]
     },
     "metadata": {},
     "output_type": "display_data"
    },
    {
     "name": "stdout",
     "output_type": "stream",
     "text": [
      "\tdone.\n",
      "sub_fig_full_input_key: \"display_fn_name:BatchPhoJonathanReplayFRC/plot_result_set:shared/page:1of9/aclus:(2,3,5,6,7,9,10,11,12,14)\"\n",
      "a_fig_output_path: \"C:\\Users\\pho\\repos\\Spike3DWorkEnv\\Spike3D\\data\\neptune\\commander.pho\\PhoDibaLongShortUpdated\\figs\\gor01_two_2006-6-08_21-16-25\\BatchPhoJonathanReplayFRC-shared-1of9-(2,3,5,6,7,9,10,11,12,14).png\"\n"
     ]
    },
    {
     "data": {
      "application/vnd.jupyter.widget-view+json": {
       "model_id": "ebf10a92ff09470abec8f6e1d11d49eb",
       "version_major": 2,
       "version_minor": 0
      },
      "text/plain": [
       "Fetching file...: 0 [00:00, ?/s]"
      ]
     },
     "metadata": {},
     "output_type": "display_data"
    },
    {
     "name": "stdout",
     "output_type": "stream",
     "text": [
      "\tdone.\n",
      "sub_fig_full_input_key: \"display_fn_name:BatchPhoJonathanReplayFRC/plot_result_set:shared/page:2of5/aclus:(59,12,7,74,76,64,103,44,24,34,61,85,38,51,56,9,22,15,66,75)\"\n",
      "a_fig_output_path: \"C:\\Users\\pho\\repos\\Spike3DWorkEnv\\Spike3D\\data\\neptune\\commander.pho\\PhoDibaLongShortUpdated\\figs\\gor01_two_2006-6-08_21-16-25\\BatchPhoJonathanReplayFRC-shared-2of5-(59,12,7,74,76,64,103,44,24,34,61,85,38,51,56,9,22,15,66,75).png\"\n"
     ]
    },
    {
     "data": {
      "application/vnd.jupyter.widget-view+json": {
       "model_id": "67f8c63bdbe445cbb4dd3f51cc0fbf48",
       "version_major": 2,
       "version_minor": 0
      },
      "text/plain": [
       "Fetching file...: 0 [00:00, ?/s]"
      ]
     },
     "metadata": {},
     "output_type": "display_data"
    },
    {
     "name": "stdout",
     "output_type": "stream",
     "text": [
      "\tdone.\n",
      "sub_fig_full_input_key: \"display_fn_name:BatchPhoJonathanReplayFRC/plot_result_set:shared/page:2of9/aclus:(15,17,18,20,21,22,24,25,26,28)\"\n",
      "a_fig_output_path: \"C:\\Users\\pho\\repos\\Spike3DWorkEnv\\Spike3D\\data\\neptune\\commander.pho\\PhoDibaLongShortUpdated\\figs\\gor01_two_2006-6-08_21-16-25\\BatchPhoJonathanReplayFRC-shared-2of9-(15,17,18,20,21,22,24,25,26,28).png\"\n"
     ]
    },
    {
     "data": {
      "application/vnd.jupyter.widget-view+json": {
       "model_id": "b9b83364a05c460f87c6a1272e5e7558",
       "version_major": 2,
       "version_minor": 0
      },
      "text/plain": [
       "Fetching file...: 0 [00:00, ?/s]"
      ]
     },
     "metadata": {},
     "output_type": "display_data"
    },
    {
     "name": "stdout",
     "output_type": "stream",
     "text": [
      "\tdone.\n",
      "sub_fig_full_input_key: \"display_fn_name:BatchPhoJonathanReplayFRC/plot_result_set:shared/page:3of5/aclus:(57,37,94,71,95,97,50,17,77,67,18,70,6,79,3,47,82,83,96,26)\"\n",
      "a_fig_output_path: \"C:\\Users\\pho\\repos\\Spike3DWorkEnv\\Spike3D\\data\\neptune\\commander.pho\\PhoDibaLongShortUpdated\\figs\\gor01_two_2006-6-08_21-16-25\\BatchPhoJonathanReplayFRC-shared-3of5-(57,37,94,71,95,97,50,17,77,67,18,70,6,79,3,47,82,83,96,26).png\"\n"
     ]
    },
    {
     "data": {
      "application/vnd.jupyter.widget-view+json": {
       "model_id": "7217223522714d4fbba8c0c9d5257b55",
       "version_major": 2,
       "version_minor": 0
      },
      "text/plain": [
       "Fetching file...: 0 [00:00, ?/s]"
      ]
     },
     "metadata": {},
     "output_type": "display_data"
    },
    {
     "name": "stdout",
     "output_type": "stream",
     "text": [
      "\tdone.\n",
      "sub_fig_full_input_key: \"display_fn_name:BatchPhoJonathanReplayFRC/plot_result_set:shared/page:3of9/aclus:(30,31,32,34,35,37,38,40,41,42)\"\n",
      "a_fig_output_path: \"C:\\Users\\pho\\repos\\Spike3DWorkEnv\\Spike3D\\data\\neptune\\commander.pho\\PhoDibaLongShortUpdated\\figs\\gor01_two_2006-6-08_21-16-25\\BatchPhoJonathanReplayFRC-shared-3of9-(30,31,32,34,35,37,38,40,41,42).png\"\n"
     ]
    },
    {
     "data": {
      "application/vnd.jupyter.widget-view+json": {
       "model_id": "c3b2a868d1d440fba87966a5bbaac09e",
       "version_major": 2,
       "version_minor": 0
      },
      "text/plain": [
       "Fetching file...: 0 [00:00, ?/s]"
      ]
     },
     "metadata": {},
     "output_type": "display_data"
    },
    {
     "name": "stdout",
     "output_type": "stream",
     "text": [
      "\tdone.\n",
      "sub_fig_full_input_key: \"display_fn_name:BatchPhoJonathanReplayFRC/plot_result_set:shared/page:4of5/aclus:(89,5,10,20,21,28,30,32,35,40,43,45,48,49,52,53,62,72,80,81)\"\n",
      "a_fig_output_path: \"C:\\Users\\pho\\repos\\Spike3DWorkEnv\\Spike3D\\data\\neptune\\commander.pho\\PhoDibaLongShortUpdated\\figs\\gor01_two_2006-6-08_21-16-25\\BatchPhoJonathanReplayFRC-shared-4of5-(89,5,10,20,21,28,30,32,35,40,43,45,48,49,52,53,62,72,80,81).png\"\n"
     ]
    },
    {
     "data": {
      "application/vnd.jupyter.widget-view+json": {
       "model_id": "10338f5d64c04d2f84fc49f62254128f",
       "version_major": 2,
       "version_minor": 0
      },
      "text/plain": [
       "Fetching file...: 0 [00:00, ?/s]"
      ]
     },
     "metadata": {},
     "output_type": "display_data"
    },
    {
     "name": "stdout",
     "output_type": "stream",
     "text": [
      "\tdone.\n",
      "sub_fig_full_input_key: \"display_fn_name:BatchPhoJonathanReplayFRC/plot_result_set:shared/page:4of9/aclus:(43,44,45,46,47,48,49,50,51,52)\"\n",
      "a_fig_output_path: \"C:\\Users\\pho\\repos\\Spike3DWorkEnv\\Spike3D\\data\\neptune\\commander.pho\\PhoDibaLongShortUpdated\\figs\\gor01_two_2006-6-08_21-16-25\\BatchPhoJonathanReplayFRC-shared-4of9-(43,44,45,46,47,48,49,50,51,52).png\"\n"
     ]
    },
    {
     "data": {
      "application/vnd.jupyter.widget-view+json": {
       "model_id": "544baa628a1e437c951710334ff3f181",
       "version_major": 2,
       "version_minor": 0
      },
      "text/plain": [
       "Fetching file...: 0 [00:00, ?/s]"
      ]
     },
     "metadata": {},
     "output_type": "display_data"
    },
    {
     "name": "stdout",
     "output_type": "stream",
     "text": [
      "\tdone.\n",
      "sub_fig_full_input_key: \"display_fn_name:BatchPhoJonathanReplayFRC/plot_result_set:shared/page:5of5/aclus:(84,88,93,98,99,102)\"\n",
      "a_fig_output_path: \"C:\\Users\\pho\\repos\\Spike3DWorkEnv\\Spike3D\\data\\neptune\\commander.pho\\PhoDibaLongShortUpdated\\figs\\gor01_two_2006-6-08_21-16-25\\BatchPhoJonathanReplayFRC-shared-5of5-(84,88,93,98,99,102).png\"\n",
      "\tdone.\n",
      "sub_fig_full_input_key: \"display_fn_name:BatchPhoJonathanReplayFRC/plot_result_set:shared/page:5of9/aclus:(53,55,56,57,58,59,61,62,63,64)\"\n",
      "a_fig_output_path: \"C:\\Users\\pho\\repos\\Spike3DWorkEnv\\Spike3D\\data\\neptune\\commander.pho\\PhoDibaLongShortUpdated\\figs\\gor01_two_2006-6-08_21-16-25\\BatchPhoJonathanReplayFRC-shared-5of9-(53,55,56,57,58,59,61,62,63,64).png\"\n"
     ]
    },
    {
     "data": {
      "application/vnd.jupyter.widget-view+json": {
       "model_id": "36c9248f61d34c7f99fb76a1c86b1629",
       "version_major": 2,
       "version_minor": 0
      },
      "text/plain": [
       "Fetching file...: 0 [00:00, ?/s]"
      ]
     },
     "metadata": {},
     "output_type": "display_data"
    },
    {
     "name": "stdout",
     "output_type": "stream",
     "text": [
      "\tdone.\n",
      "sub_fig_full_input_key: \"display_fn_name:BatchPhoJonathanReplayFRC/plot_result_set:shared/page:6of9/aclus:(65,66,67,68,69,70,71,72,74,75)\"\n",
      "a_fig_output_path: \"C:\\Users\\pho\\repos\\Spike3DWorkEnv\\Spike3D\\data\\neptune\\commander.pho\\PhoDibaLongShortUpdated\\figs\\gor01_two_2006-6-08_21-16-25\\BatchPhoJonathanReplayFRC-shared-6of9-(65,66,67,68,69,70,71,72,74,75).png\"\n",
      "\tdone.\n",
      "sub_fig_full_input_key: \"display_fn_name:BatchPhoJonathanReplayFRC/plot_result_set:shared/page:7of9/aclus:(76,77,79,80,81,82,83,84,85,86)\"\n",
      "a_fig_output_path: \"C:\\Users\\pho\\repos\\Spike3DWorkEnv\\Spike3D\\data\\neptune\\commander.pho\\PhoDibaLongShortUpdated\\figs\\gor01_two_2006-6-08_21-16-25\\BatchPhoJonathanReplayFRC-shared-7of9-(76,77,79,80,81,82,83,84,85,86).png\"\n"
     ]
    },
    {
     "data": {
      "application/vnd.jupyter.widget-view+json": {
       "model_id": "b31320e5fde94da1abe77c236d8bb600",
       "version_major": 2,
       "version_minor": 0
      },
      "text/plain": [
       "Fetching file...: 0 [00:00, ?/s]"
      ]
     },
     "metadata": {},
     "output_type": "display_data"
    },
    {
     "name": "stdout",
     "output_type": "stream",
     "text": [
      "\tdone.\n",
      "sub_fig_full_input_key: \"display_fn_name:BatchPhoJonathanReplayFRC/plot_result_set:shared/page:8of9/aclus:(87,88,89,91,92,93,94,95,96,97)\"\n",
      "a_fig_output_path: \"C:\\Users\\pho\\repos\\Spike3DWorkEnv\\Spike3D\\data\\neptune\\commander.pho\\PhoDibaLongShortUpdated\\figs\\gor01_two_2006-6-08_21-16-25\\BatchPhoJonathanReplayFRC-shared-8of9-(87,88,89,91,92,93,94,95,96,97).png\"\n"
     ]
    },
    {
     "data": {
      "application/vnd.jupyter.widget-view+json": {
       "model_id": "c82b87df2e674b97b6e0d61d4e0eb972",
       "version_major": 2,
       "version_minor": 0
      },
      "text/plain": [
       "Fetching file...: 0 [00:00, ?/s]"
      ]
     },
     "metadata": {},
     "output_type": "display_data"
    },
    {
     "name": "stdout",
     "output_type": "stream",
     "text": [
      "\tdone.\n",
      "sub_fig_full_input_key: \"display_fn_name:BatchPhoJonathanReplayFRC/plot_result_set:shared/page:9of9/aclus:(98,99,100,101,102,103)\"\n",
      "a_fig_output_path: \"C:\\Users\\pho\\repos\\Spike3DWorkEnv\\Spike3D\\data\\neptune\\commander.pho\\PhoDibaLongShortUpdated\\figs\\gor01_two_2006-6-08_21-16-25\\BatchPhoJonathanReplayFRC-shared-9of9-(98,99,100,101,102,103).png\"\n",
      "\tdone.\n",
      "sub_fig_full_input_key: \"display_fn_name:BatchPhoJonathanReplayFRC/plot_result_set:short_only/aclus:(4,8,16,27,33,39)\"\n",
      "a_fig_output_path: \"C:\\Users\\pho\\repos\\Spike3DWorkEnv\\Spike3D\\data\\neptune\\commander.pho\\PhoDibaLongShortUpdated\\figs\\gor01_two_2006-6-08_21-16-25\\BatchPhoJonathanReplayFRC-short_only-(4,8,16,27,33,39).png\"\n",
      "\tdone.\n",
      "a_parsed_structure: {'display_fn_name:BatchPhoJonathanReplayFRC': {'plot_result_set:long_only': {'aclus:(13,19,23,29,36,54,60,73,78,90)': <neptune.attributes.atoms.file.File object at 0x00000282BE4DD160>, 'aclus:(54,60,78,23,90,73,13,36,29,19)': <neptune.attributes.atoms.file.File object at 0x00000282BE4DD1C0>}, 'plot_result_set:shared': {'page:1of5': {'aclus:(58,41,42,46,55,101,31,63,68,11,69,87,25,91,14,92,2,65,100,86)': <neptune.attributes.atoms.file.File object at 0x00000282BE4DD3A0>}, 'page:1of9': {'aclus:(2,3,5,6,7,9,10,11,12,14)': <neptune.attributes.atoms.file.File object at 0x00000282BE4DD550>}, 'page:2of5': {'aclus:(59,12,7,74,76,64,103,44,24,34,61,85,38,51,56,9,22,15,66,75)': <neptune.attributes.atoms.file.File object at 0x00000282BE4DD640>}, 'page:2of9': {'aclus:(15,17,18,20,21,22,24,25,26,28)': <neptune.attributes.atoms.file.File object at 0x00000282BE4DD700>}, 'page:3of5': {'aclus:(57,37,94,71,95,97,50,17,77,67,18,70,6,79,3,47,82,83,96,26)': <neptune.attributes.atoms.file.File object at 0x00000282BE4DD820>}, 'page:3of9': {'aclus:(30,31,32,34,35,37,38,40,41,42)': <neptune.attributes.atoms.file.File object at 0x00000282BE4DD880>}, 'page:4of5': {'aclus:(89,5,10,20,21,28,30,32,35,40,43,45,48,49,52,53,62,72,80,81)': <neptune.attributes.atoms.file.File object at 0x00000282BE4DDA00>}, 'page:4of9': {'aclus:(43,44,45,46,47,48,49,50,51,52)': <neptune.attributes.atoms.file.File object at 0x00000282BE4DDA30>}, 'page:5of5': {'aclus:(84,88,93,98,99,102)': <neptune.attributes.atoms.file.File object at 0x00000282BE4D86A0>}, 'page:5of9': {'aclus:(53,55,56,57,58,59,61,62,63,64)': <neptune.attributes.atoms.file.File object at 0x00000282BE4D8850>}, 'page:6of9': {'aclus:(65,66,67,68,69,70,71,72,74,75)': <neptune.attributes.atoms.file.File object at 0x00000282BE4D8940>}, 'page:7of9': {'aclus:(76,77,79,80,81,82,83,84,85,86)': <neptune.attributes.atoms.file.File object at 0x00000282BE4D82E0>}, 'page:8of9': {'aclus:(87,88,89,91,92,93,94,95,96,97)': <neptune.attributes.atoms.file.File object at 0x00000282BE4D8280>}, 'page:9of9': {'aclus:(98,99,100,101,102,103)': <neptune.attributes.atoms.file.File object at 0x00000282BE4D8430>}}, 'plot_result_set:short_only': {'aclus:(4,8,16,27,33,39)': <neptune.attributes.atoms.file.File object at 0x00000282BE4D8520>}}, 'display_fn_name:_display_grid_bin_bounds_validation': <neptune.attributes.atoms.file.File object at 0x00000282BE4D8460>, 'display_fn_name:bidir_track_remap': {'subplot_name:Track Remapping': <neptune.attributes.atoms.file.File object at 0x00000282BE4D8970>}, 'display_fn_name:display_long_short_laps': <neptune.attributes.atoms.file.File object at 0x00000282BE4D8B80>, 'display_fn_name:display_short_long_pf1D_comparison': {'track:long': <neptune.attributes.atoms.file.File object at 0x00000282BE4D89D0>, 'track:short': <neptune.attributes.atoms.file.File object at 0x00000282BE4D8BE0>}, 'display_fn_name:plot_all_epoch_bins_marginal_predictions': {'subplot_name:Laps all_epoch_binned Marginals': <neptune.attributes.atoms.file.File object at 0x00000282BE4D8A90>, 'subplot_name:Ripple all_epoch_binned Marginals': <neptune.attributes.atoms.file.File object at 0x00000282BE4D8C10>}, 'display_fn_name:plot_expected_vs_observed': {'x_variable:epoch_idx': {'variable:obs_exp_diff_ptp': <neptune.attributes.atoms.file.File object at 0x00000282BE4D8A30>}}, 'display_fn_name:plot_histograms': {'subplot_name:laps_result_tuple': <neptune.attributes.atoms.file.File object at 0x00000282BE4D89A0>, 'subplot_name:ripple_result_tuple': <neptune.attributes.atoms.file.File object at 0x00000282BE4E98E0>}, 'display_fn_name:plot_quantile_diffs': {'subplot_name:BestDir': <neptune.attributes.atoms.file.File object at 0x00000282BE4E99A0>}, 'display_fn_name:plot_rank_order_epoch_inst_fr_result_tuples': {'subplot_name:Lap': {'subplotsubplot_name:raw': <neptune.attributes.atoms.file.File object at 0x00000282BE4E9A00>, 'subplotsubplot_name:z_score_diff': <neptune.attributes.atoms.file.File object at 0x00000282BE4E9AC0>}, 'subplot_name:Ripple': {'subplotsubplot_name:raw': <neptune.attributes.atoms.file.File object at 0x00000282BE4E9BE0>, 'subplotsubplot_name:z_score_diff': <neptune.attributes.atoms.file.File object at 0x00000282BE4E9C40>}}, 'display_fn_name:plot_rank_order_histograms': {'subplot_name:Ripple Most-likely Spearman Rho': <neptune.attributes.atoms.file.File object at 0x00000282BE4E9D00>, 'subplot_name:Ripple Most-likely Z-scores': <neptune.attributes.atoms.file.File object at 0x00000282BE4E9D60>, 'subplot_name:Ripple Z-scores': <neptune.attributes.atoms.file.File object at 0x00000282BE4E9E20>, 'subplot_name:Ripple real correlations': <neptune.attributes.atoms.file.File object at 0x00000282BE4E9E80>}, 'display_fn_name:running_and_replay_speeds_over_time': <neptune.attributes.atoms.file.File object at 0x00000282BE4E9EE0>, 'filter_name:maze1_any': {'lap_dir:any': {'display_fn_name:1d_placefields': <neptune.attributes.atoms.file.File object at 0x00000282BE4E9F40>, 'display_fn_name:_display_1d_placefield_validations': <neptune.attributes.atoms.file.File object at 0x00000282BE4E9FA0>, 'display_fn_name:_display_2d_placefield_result_plot_ratemaps_2D': <neptune.attributes.atoms.file.File object at 0x00000282BE4E6100>, 'display_fn_name:plot_occupancy': {'plot_variable:OCCUPANCY': <neptune.attributes.atoms.file.File object at 0x00000282BE4E6160>}, 'display_fn_name:plot_single_track_firing_rate_compare': <neptune.attributes.atoms.file.File object at 0x00000282BE4E62B0>}}, 'filter_name:maze1_even': {'lap_dir:even': {'display_fn_name:1d_placefields': <neptune.attributes.atoms.file.File object at 0x00000282BE4E61F0>, 'display_fn_name:_display_1d_placefield_validations': <neptune.attributes.atoms.file.File object at 0x00000282BE4E6310>, 'display_fn_name:_display_2d_placefield_result_plot_ratemaps_2D': <neptune.attributes.atoms.file.File object at 0x00000282BE4E6430>, 'display_fn_name:plot_occupancy': {'plot_variable:OCCUPANCY': <neptune.attributes.atoms.file.File object at 0x00000282BE4E6490>}}}, 'filter_name:maze1_odd': {'lap_dir:odd': {'display_fn_name:1d_placefields': <neptune.attributes.atoms.file.File object at 0x00000282BE4E65E0>, 'display_fn_name:_display_1d_placefield_validations': <neptune.attributes.atoms.file.File object at 0x00000282BE4E6520>, 'display_fn_name:_display_2d_placefield_result_plot_ratemaps_2D': <neptune.attributes.atoms.file.File object at 0x00000282BE4E6700>, 'display_fn_name:plot_occupancy': {'plot_variable:OCCUPANCY': <neptune.attributes.atoms.file.File object at 0x00000282BE4E6760>}}}, 'filter_name:maze2_any': {'lap_dir:any': {'display_fn_name:1d_placefields': <neptune.attributes.atoms.file.File object at 0x00000282BE4E68B0>, 'display_fn_name:_display_1d_placefield_validations': <neptune.attributes.atoms.file.File object at 0x00000282BE4E67F0>, 'display_fn_name:_display_2d_placefield_result_plot_ratemaps_2D': <neptune.attributes.atoms.file.File object at 0x00000282BE4E69D0>, 'display_fn_name:plot_occupancy': {'plot_variable:OCCUPANCY': <neptune.attributes.atoms.file.File object at 0x00000282BE4E6A30>}, 'display_fn_name:plot_single_track_firing_rate_compare': <neptune.attributes.atoms.file.File object at 0x00000282BE4E6B80>}}, 'filter_name:maze2_even': {'lap_dir:even': {'display_fn_name:1d_placefields': <neptune.attributes.atoms.file.File object at 0x00000282BE4E6AC0>, 'display_fn_name:_display_1d_placefield_validations': <neptune.attributes.atoms.file.File object at 0x00000282BE4E6BE0>, 'display_fn_name:_display_2d_placefield_result_plot_ratemaps_2D': <neptune.attributes.atoms.file.File object at 0x00000282BE4E6D00>, 'display_fn_name:plot_occupancy': {'plot_variable:OCCUPANCY': <neptune.attributes.atoms.file.File object at 0x00000282BE4E6D60>}}}, 'filter_name:maze2_odd': {'lap_dir:odd': {'display_fn_name:1d_placefields': <neptune.attributes.atoms.file.File object at 0x00000282BE4E6EB0>, 'display_fn_name:_display_1d_placefield_validations': <neptune.attributes.atoms.file.File object at 0x00000282BE4E6DF0>, 'display_fn_name:_display_2d_placefield_result_plot_ratemaps_2D': <neptune.attributes.atoms.file.File object at 0x00000282BE4E6FD0>, 'display_fn_name:plot_occupancy': {'plot_variable:OCCUPANCY': <neptune.attributes.atoms.file.File object at 0x00000282BE4F7070>}}}, 'filter_name:maze_any': {'lap_dir:any': {'display_fn_name:1d_placefields': <neptune.attributes.atoms.file.File object at 0x00000282BE4F71C0>, 'display_fn_name:_display_1d_placefield_validations': <neptune.attributes.atoms.file.File object at 0x00000282BE4F7100>, 'display_fn_name:_display_2d_placefield_result_plot_ratemaps_2D': <neptune.attributes.atoms.file.File object at 0x00000282BE4F72E0>, 'display_fn_name:plot_occupancy': {'plot_variable:OCCUPANCY': <neptune.attributes.atoms.file.File object at 0x00000282BE4F7340>}}}, 'filter_name:maze_even': {'lap_dir:even': {'display_fn_name:1d_placefields': <neptune.attributes.atoms.file.File object at 0x00000282BE4F7490>, 'display_fn_name:_display_1d_placefield_validations': <neptune.attributes.atoms.file.File object at 0x00000282BE4F73D0>, 'display_fn_name:_display_2d_placefield_result_plot_ratemaps_2D': <neptune.attributes.atoms.file.File object at 0x00000282BE4F75B0>, 'display_fn_name:plot_occupancy': {'plot_variable:OCCUPANCY': <neptune.attributes.atoms.file.File object at 0x00000282BE4F7610>}}}, 'filter_name:maze_odd': {'lap_dir:odd': {'display_fn_name:1d_placefields': <neptune.attributes.atoms.file.File object at 0x00000282BE4F7760>, 'display_fn_name:_display_1d_placefield_validations': <neptune.attributes.atoms.file.File object at 0x00000282BE4F76A0>, 'display_fn_name:_display_2d_placefield_result_plot_ratemaps_2D': <neptune.attributes.atoms.file.File object at 0x00000282BE4F7880>, 'display_fn_name:plot_occupancy': {'plot_variable:OCCUPANCY': <neptune.attributes.atoms.file.File object at 0x00000282BE4F78E0>}}}, 'fn_name:long_short_firing_rate_indicies': {'display_fn_name:display_long_short_laps': <neptune.attributes.atoms.file.File object at 0x00000282BE4F7A30>}}\n",
      "not a figure file! a dictionary instead probably: type(a_fig_file_field): <class 'dict'>\n",
      "sub_fig_full_input_key: \"display_fn_name:BatchPhoJonathanReplayFRC/plot_result_set:long_only/aclus:(13,19,23,29,36,54,60,73,78,90)\"\n",
      "a_fig_output_path: \"C:\\Users\\pho\\repos\\Spike3DWorkEnv\\Spike3D\\data\\neptune\\commander.pho\\PhoDibaLongShortUpdated\\figs\\gor01_two_2006-6-08_21-16-25\\BatchPhoJonathanReplayFRC-long_only-(13,19,23,29,36,54,60,73,78,90).png\"\n",
      "\tdone.\n",
      "sub_fig_full_input_key: \"display_fn_name:BatchPhoJonathanReplayFRC/plot_result_set:long_only/aclus:(54,60,78,23,90,73,13,36,29,19)\"\n",
      "a_fig_output_path: \"C:\\Users\\pho\\repos\\Spike3DWorkEnv\\Spike3D\\data\\neptune\\commander.pho\\PhoDibaLongShortUpdated\\figs\\gor01_two_2006-6-08_21-16-25\\BatchPhoJonathanReplayFRC-long_only-(54,60,78,23,90,73,13,36,29,19).png\"\n",
      "\tdone.\n",
      "sub_fig_full_input_key: \"display_fn_name:BatchPhoJonathanReplayFRC/plot_result_set:shared/page:1of5/aclus:(58,41,42,46,55,101,31,63,68,11,69,87,25,91,14,92,2,65,100,86)\"\n",
      "a_fig_output_path: \"C:\\Users\\pho\\repos\\Spike3DWorkEnv\\Spike3D\\data\\neptune\\commander.pho\\PhoDibaLongShortUpdated\\figs\\gor01_two_2006-6-08_21-16-25\\BatchPhoJonathanReplayFRC-shared-1of5-(58,41,42,46,55,101,31,63,68,11,69,87,25,91,14,92,2,65,100,86).png\"\n"
     ]
    },
    {
     "data": {
      "application/vnd.jupyter.widget-view+json": {
       "model_id": "eedbbd79db24448297d2206d62031689",
       "version_major": 2,
       "version_minor": 0
      },
      "text/plain": [
       "Fetching file...: 0 [00:00, ?/s]"
      ]
     },
     "metadata": {},
     "output_type": "display_data"
    },
    {
     "name": "stdout",
     "output_type": "stream",
     "text": [
      "\tdone.\n",
      "sub_fig_full_input_key: \"display_fn_name:BatchPhoJonathanReplayFRC/plot_result_set:shared/page:1of9/aclus:(2,3,5,6,7,9,10,11,12,14)\"\n",
      "a_fig_output_path: \"C:\\Users\\pho\\repos\\Spike3DWorkEnv\\Spike3D\\data\\neptune\\commander.pho\\PhoDibaLongShortUpdated\\figs\\gor01_two_2006-6-08_21-16-25\\BatchPhoJonathanReplayFRC-shared-1of9-(2,3,5,6,7,9,10,11,12,14).png\"\n",
      "\tdone.\n",
      "sub_fig_full_input_key: \"display_fn_name:BatchPhoJonathanReplayFRC/plot_result_set:shared/page:2of5/aclus:(59,12,7,74,76,64,103,44,24,34,61,85,38,51,56,9,22,15,66,75)\"\n",
      "a_fig_output_path: \"C:\\Users\\pho\\repos\\Spike3DWorkEnv\\Spike3D\\data\\neptune\\commander.pho\\PhoDibaLongShortUpdated\\figs\\gor01_two_2006-6-08_21-16-25\\BatchPhoJonathanReplayFRC-shared-2of5-(59,12,7,74,76,64,103,44,24,34,61,85,38,51,56,9,22,15,66,75).png\"\n"
     ]
    },
    {
     "data": {
      "application/vnd.jupyter.widget-view+json": {
       "model_id": "f7dd930b71254ea68954a9b9da0b48b6",
       "version_major": 2,
       "version_minor": 0
      },
      "text/plain": [
       "Fetching file...: 0 [00:00, ?/s]"
      ]
     },
     "metadata": {},
     "output_type": "display_data"
    },
    {
     "name": "stdout",
     "output_type": "stream",
     "text": [
      "\tdone.\n",
      "sub_fig_full_input_key: \"display_fn_name:BatchPhoJonathanReplayFRC/plot_result_set:shared/page:2of9/aclus:(15,17,18,20,21,22,24,25,26,28)\"\n",
      "a_fig_output_path: \"C:\\Users\\pho\\repos\\Spike3DWorkEnv\\Spike3D\\data\\neptune\\commander.pho\\PhoDibaLongShortUpdated\\figs\\gor01_two_2006-6-08_21-16-25\\BatchPhoJonathanReplayFRC-shared-2of9-(15,17,18,20,21,22,24,25,26,28).png\"\n",
      "\tdone.\n",
      "sub_fig_full_input_key: \"display_fn_name:BatchPhoJonathanReplayFRC/plot_result_set:shared/page:3of5/aclus:(57,37,94,71,95,97,50,17,77,67,18,70,6,79,3,47,82,83,96,26)\"\n",
      "a_fig_output_path: \"C:\\Users\\pho\\repos\\Spike3DWorkEnv\\Spike3D\\data\\neptune\\commander.pho\\PhoDibaLongShortUpdated\\figs\\gor01_two_2006-6-08_21-16-25\\BatchPhoJonathanReplayFRC-shared-3of5-(57,37,94,71,95,97,50,17,77,67,18,70,6,79,3,47,82,83,96,26).png\"\n"
     ]
    },
    {
     "data": {
      "application/vnd.jupyter.widget-view+json": {
       "model_id": "3bdaa4f506c246489d97e27d9b6520da",
       "version_major": 2,
       "version_minor": 0
      },
      "text/plain": [
       "Fetching file...: 0 [00:00, ?/s]"
      ]
     },
     "metadata": {},
     "output_type": "display_data"
    },
    {
     "name": "stdout",
     "output_type": "stream",
     "text": [
      "\tdone.\n",
      "sub_fig_full_input_key: \"display_fn_name:BatchPhoJonathanReplayFRC/plot_result_set:shared/page:3of9/aclus:(30,31,32,34,35,37,38,40,41,42)\"\n",
      "a_fig_output_path: \"C:\\Users\\pho\\repos\\Spike3DWorkEnv\\Spike3D\\data\\neptune\\commander.pho\\PhoDibaLongShortUpdated\\figs\\gor01_two_2006-6-08_21-16-25\\BatchPhoJonathanReplayFRC-shared-3of9-(30,31,32,34,35,37,38,40,41,42).png\"\n",
      "\tdone.\n",
      "sub_fig_full_input_key: \"display_fn_name:BatchPhoJonathanReplayFRC/plot_result_set:shared/page:4of5/aclus:(89,5,10,20,21,28,30,32,35,40,43,45,48,49,52,53,62,72,80,81)\"\n",
      "a_fig_output_path: \"C:\\Users\\pho\\repos\\Spike3DWorkEnv\\Spike3D\\data\\neptune\\commander.pho\\PhoDibaLongShortUpdated\\figs\\gor01_two_2006-6-08_21-16-25\\BatchPhoJonathanReplayFRC-shared-4of5-(89,5,10,20,21,28,30,32,35,40,43,45,48,49,52,53,62,72,80,81).png\"\n"
     ]
    },
    {
     "data": {
      "application/vnd.jupyter.widget-view+json": {
       "model_id": "92bb33d328bb49c6a991c6d15db3a9b3",
       "version_major": 2,
       "version_minor": 0
      },
      "text/plain": [
       "Fetching file...: 0 [00:00, ?/s]"
      ]
     },
     "metadata": {},
     "output_type": "display_data"
    },
    {
     "name": "stdout",
     "output_type": "stream",
     "text": [
      "\tdone.\n",
      "sub_fig_full_input_key: \"display_fn_name:BatchPhoJonathanReplayFRC/plot_result_set:shared/page:4of9/aclus:(43,44,45,46,47,48,49,50,51,52)\"\n",
      "a_fig_output_path: \"C:\\Users\\pho\\repos\\Spike3DWorkEnv\\Spike3D\\data\\neptune\\commander.pho\\PhoDibaLongShortUpdated\\figs\\gor01_two_2006-6-08_21-16-25\\BatchPhoJonathanReplayFRC-shared-4of9-(43,44,45,46,47,48,49,50,51,52).png\"\n",
      "\tdone.\n",
      "sub_fig_full_input_key: \"display_fn_name:BatchPhoJonathanReplayFRC/plot_result_set:shared/page:5of5/aclus:(84,88,93,98,99,102)\"\n",
      "a_fig_output_path: \"C:\\Users\\pho\\repos\\Spike3DWorkEnv\\Spike3D\\data\\neptune\\commander.pho\\PhoDibaLongShortUpdated\\figs\\gor01_two_2006-6-08_21-16-25\\BatchPhoJonathanReplayFRC-shared-5of5-(84,88,93,98,99,102).png\"\n",
      "\tdone.\n",
      "sub_fig_full_input_key: \"display_fn_name:BatchPhoJonathanReplayFRC/plot_result_set:shared/page:5of9/aclus:(53,55,56,57,58,59,61,62,63,64)\"\n",
      "a_fig_output_path: \"C:\\Users\\pho\\repos\\Spike3DWorkEnv\\Spike3D\\data\\neptune\\commander.pho\\PhoDibaLongShortUpdated\\figs\\gor01_two_2006-6-08_21-16-25\\BatchPhoJonathanReplayFRC-shared-5of9-(53,55,56,57,58,59,61,62,63,64).png\"\n",
      "\tdone.\n",
      "sub_fig_full_input_key: \"display_fn_name:BatchPhoJonathanReplayFRC/plot_result_set:shared/page:6of9/aclus:(65,66,67,68,69,70,71,72,74,75)\"\n",
      "a_fig_output_path: \"C:\\Users\\pho\\repos\\Spike3DWorkEnv\\Spike3D\\data\\neptune\\commander.pho\\PhoDibaLongShortUpdated\\figs\\gor01_two_2006-6-08_21-16-25\\BatchPhoJonathanReplayFRC-shared-6of9-(65,66,67,68,69,70,71,72,74,75).png\"\n",
      "\tdone.\n",
      "sub_fig_full_input_key: \"display_fn_name:BatchPhoJonathanReplayFRC/plot_result_set:shared/page:7of9/aclus:(76,77,79,80,81,82,83,84,85,86)\"\n",
      "a_fig_output_path: \"C:\\Users\\pho\\repos\\Spike3DWorkEnv\\Spike3D\\data\\neptune\\commander.pho\\PhoDibaLongShortUpdated\\figs\\gor01_two_2006-6-08_21-16-25\\BatchPhoJonathanReplayFRC-shared-7of9-(76,77,79,80,81,82,83,84,85,86).png\"\n",
      "\tdone.\n",
      "sub_fig_full_input_key: \"display_fn_name:BatchPhoJonathanReplayFRC/plot_result_set:shared/page:8of9/aclus:(87,88,89,91,92,93,94,95,96,97)\"\n",
      "a_fig_output_path: \"C:\\Users\\pho\\repos\\Spike3DWorkEnv\\Spike3D\\data\\neptune\\commander.pho\\PhoDibaLongShortUpdated\\figs\\gor01_two_2006-6-08_21-16-25\\BatchPhoJonathanReplayFRC-shared-8of9-(87,88,89,91,92,93,94,95,96,97).png\"\n",
      "\tdone.\n",
      "sub_fig_full_input_key: \"display_fn_name:BatchPhoJonathanReplayFRC/plot_result_set:shared/page:9of9/aclus:(98,99,100,101,102,103)\"\n",
      "a_fig_output_path: \"C:\\Users\\pho\\repos\\Spike3DWorkEnv\\Spike3D\\data\\neptune\\commander.pho\\PhoDibaLongShortUpdated\\figs\\gor01_two_2006-6-08_21-16-25\\BatchPhoJonathanReplayFRC-shared-9of9-(98,99,100,101,102,103).png\"\n",
      "\tdone.\n",
      "sub_fig_full_input_key: \"display_fn_name:BatchPhoJonathanReplayFRC/plot_result_set:short_only/aclus:(4,8,16,27,33,39)\"\n",
      "a_fig_output_path: \"C:\\Users\\pho\\repos\\Spike3DWorkEnv\\Spike3D\\data\\neptune\\commander.pho\\PhoDibaLongShortUpdated\\figs\\gor01_two_2006-6-08_21-16-25\\BatchPhoJonathanReplayFRC-short_only-(4,8,16,27,33,39).png\"\n",
      "\tdone.\n",
      "a_parsed_structure: {'display_fn_name:BatchPhoJonathanReplayFRC': {'plot_result_set:long_only': {'aclus:(48)': <neptune.attributes.atoms.file.File object at 0x00000282B9694B80>}, 'plot_result_set:shared': {'page:1of3': {'aclus:(7,41,20,23,32,63,46,52,15,54,51,60,50,28,31,49,26,5,40,62)': <neptune.attributes.atoms.file.File object at 0x00000282B96945E0>}, 'page:1of6': {'aclus:(2,4,5,6,7,8,9,11,12,13)': <neptune.attributes.atoms.file.File object at 0x00000282B9C74610>}, 'page:2of3': {'aclus:(11,55,27,45,24,53,17,56,6,35,34,8,25,21,39,33,44,64,43,2)': <neptune.attributes.atoms.file.File object at 0x00000282B9515FD0>}, 'page:2of6': {'aclus:(14,15,16,17,20,21,22,23,24,25)': <neptune.attributes.atoms.file.File object at 0x00000282B9515E20>}, 'page:3of3': {'aclus:(4,9,12,13,14,16,22,29,30,36,37,38,42,47,57,58,59,61)': <neptune.attributes.atoms.file.File object at 0x00000282B87BD5E0>}, 'page:3of6': {'aclus:(26,27,28,29,30,31,32,33,34,35)': <neptune.attributes.atoms.file.File object at 0x00000282B87BD640>}, 'page:4of6': {'aclus:(36,37,38,39,40,41,42,43,44,45)': <neptune.attributes.atoms.file.File object at 0x00000282B87ADBB0>}, 'page:5of6': {'aclus:(46,47,49,50,51,52,53,54,55,56)': <neptune.attributes.atoms.file.File object at 0x00000282B5281340>}, 'page:6of6': {'aclus:(57,58,59,60,61,62,63,64)': <neptune.attributes.atoms.file.File object at 0x00000282B5281430>}}, 'plot_result_set:short_only': {'aclus:(3,10,18,19,65)': <neptune.attributes.atoms.file.File object at 0x00000282B52813A0>}}, 'display_fn_name:_display_grid_bin_bounds_validation': <neptune.attributes.atoms.file.File object at 0x00000282AF428250>, 'display_fn_name:bidir_track_remap': {'subplot_name:Track Remapping': <neptune.attributes.atoms.file.File object at 0x00000282AF428580>}, 'display_fn_name:directional_merged_pf_decoded_epochs': {'decoded_epochs:Laps': {'Marginal:Direction': {'t_bin:0.25': <neptune.attributes.atoms.file.File object at 0x00000282AF428340>}, 'Marginal:TrackID': {'t_bin:0.25': <neptune.attributes.atoms.file.File object at 0x00000282BB1457C0>}}, 'decoded_epochs:Ripple': {'Marginal:Direction': {'t_bin:0.025': <neptune.attributes.atoms.file.File object at 0x00000282BB145430>}, 'Marginal:TrackID': {'t_bin:0.025': <neptune.attributes.atoms.file.File object at 0x00000282BB1450A0>}}}, 'display_fn_name:display_long_short_laps': <neptune.attributes.atoms.file.File object at 0x00000282BB145130>, 'display_fn_name:display_short_long_pf1D_comparison': {'track:long': <neptune.attributes.atoms.file.File object at 0x00000282BB145040>, 'track:short': <neptune.attributes.atoms.file.File object at 0x00000282BB1451C0>}, 'display_fn_name:plot_all_epoch_bins_marginal_predictions': {'subplot_name:Laps all_epoch_binned Marginals': <neptune.attributes.atoms.file.File object at 0x00000282BB1452E0>, 'subplot_name:Ripple all_epoch_binned Marginals': <neptune.attributes.atoms.file.File object at 0x00000282B9EC44F0>}, 'display_fn_name:plot_expected_vs_observed': {'x_variable:epoch_idx': {'variable:obs_exp_diff_ptp': <neptune.attributes.atoms.file.File object at 0x00000282B9EC4640>}}, 'display_fn_name:plot_histograms': {'subplot_name:laps_result_tuple': <neptune.attributes.atoms.file.File object at 0x00000282B9EC4760>, 'subplot_name:ripple_result_tuple': <neptune.attributes.atoms.file.File object at 0x00000282B9EC4880>}, 'display_fn_name:plot_quantile_diffs': {'subplot_name:BestDir': <neptune.attributes.atoms.file.File object at 0x00000282B9EC4E80>}, 'display_fn_name:plot_rank_order_epoch_inst_fr_result_tuples': {'subplot_name:Lap': {'subplotsubplot_name:raw': <neptune.attributes.atoms.file.File object at 0x00000282B9EC4E20>, 'subplotsubplot_name:z_score_diff': <neptune.attributes.atoms.file.File object at 0x00000282B9EC46D0>}, 'subplot_name:Ripple': {'subplotsubplot_name:raw': <neptune.attributes.atoms.file.File object at 0x00000282B9EC43A0>, 'subplotsubplot_name:z_score_diff': <neptune.attributes.atoms.file.File object at 0x00000282B9EC40D0>}}, 'display_fn_name:plot_rank_order_histograms': {'subplot_name:Ripple Most-likely Spearman Rho': <neptune.attributes.atoms.file.File object at 0x00000282B9EC42E0>, 'subplot_name:Ripple Most-likely Z-scores': <neptune.attributes.atoms.file.File object at 0x00000282B9EC44C0>, 'subplot_name:Ripple Z-scores': <neptune.attributes.atoms.file.File object at 0x00000282B9EC4040>, 'subplot_name:Ripple real correlations': <neptune.attributes.atoms.file.File object at 0x00000282B9EC48E0>}, 'display_fn_name:running_and_replay_speeds_over_time': <neptune.attributes.atoms.file.File object at 0x00000282B9EC4730>, 'filter_name:maze1_any': {'lap_dir:any': {'display_fn_name:1d_placefields': <neptune.attributes.atoms.file.File object at 0x00000282B9EC4550>, 'display_fn_name:_display_1d_placefield_validations': <neptune.attributes.atoms.file.File object at 0x00000282B9EC4130>, 'display_fn_name:_display_2d_placefield_result_plot_ratemaps_2D': <neptune.attributes.atoms.file.File object at 0x00000282B9EC4700>, 'display_fn_name:plot_occupancy': {'plot_variable:OCCUPANCY': <neptune.attributes.atoms.file.File object at 0x00000282B9EC46A0>}, 'display_fn_name:plot_single_track_firing_rate_compare': <neptune.attributes.atoms.file.File object at 0x00000282B9EC49D0>}}, 'filter_name:maze1_even': {'lap_dir:even': {'display_fn_name:1d_placefields': <neptune.attributes.atoms.file.File object at 0x00000282B9ECBF70>, 'display_fn_name:_display_1d_placefield_validations': <neptune.attributes.atoms.file.File object at 0x00000282B9ECB430>, 'display_fn_name:_display_2d_placefield_result_plot_ratemaps_2D': <neptune.attributes.atoms.file.File object at 0x00000282B9ECB130>, 'display_fn_name:plot_occupancy': {'plot_variable:OCCUPANCY': <neptune.attributes.atoms.file.File object at 0x00000282B9ECB280>}}}, 'filter_name:maze1_odd': {'lap_dir:odd': {'display_fn_name:1d_placefields': <neptune.attributes.atoms.file.File object at 0x00000282B9ECB100>, 'display_fn_name:_display_1d_placefield_validations': <neptune.attributes.atoms.file.File object at 0x00000282B9EC2D90>, 'display_fn_name:_display_2d_placefield_result_plot_ratemaps_2D': <neptune.attributes.atoms.file.File object at 0x00000282B9EC2430>, 'display_fn_name:plot_occupancy': {'plot_variable:OCCUPANCY': <neptune.attributes.atoms.file.File object at 0x00000282B9EC2760>}}}, 'filter_name:maze2_any': {'lap_dir:any': {'display_fn_name:1d_placefields': <neptune.attributes.atoms.file.File object at 0x00000282B960EE20>, 'display_fn_name:_display_1d_placefield_validations': <neptune.attributes.atoms.file.File object at 0x00000282B96AA2B0>, 'display_fn_name:_display_2d_placefield_result_plot_ratemaps_2D': <neptune.attributes.atoms.file.File object at 0x00000282B96A5D90>, 'display_fn_name:plot_occupancy': {'plot_variable:OCCUPANCY': <neptune.attributes.atoms.file.File object at 0x00000282B96A25B0>}, 'display_fn_name:plot_single_track_firing_rate_compare': <neptune.attributes.atoms.file.File object at 0x00000282B96A2700>}}, 'filter_name:maze2_even': {'lap_dir:even': {'display_fn_name:1d_placefields': <neptune.attributes.atoms.file.File object at 0x00000282B96BEBB0>, 'display_fn_name:_display_1d_placefield_validations': <neptune.attributes.atoms.file.File object at 0x00000282B96BE190>, 'display_fn_name:_display_2d_placefield_result_plot_ratemaps_2D': <neptune.attributes.atoms.file.File object at 0x00000282BBD65970>, 'display_fn_name:plot_occupancy': {'plot_variable:OCCUPANCY': <neptune.attributes.atoms.file.File object at 0x00000282BBD659D0>}}}, 'filter_name:maze2_odd': {'lap_dir:odd': {'display_fn_name:1d_placefields': <neptune.attributes.atoms.file.File object at 0x00000282BBD65AC0>, 'display_fn_name:_display_1d_placefield_validations': <neptune.attributes.atoms.file.File object at 0x00000282BBD65A00>, 'display_fn_name:_display_2d_placefield_result_plot_ratemaps_2D': <neptune.attributes.atoms.file.File object at 0x00000282BBD65BE0>, 'display_fn_name:plot_occupancy': {'plot_variable:OCCUPANCY': <neptune.attributes.atoms.file.File object at 0x00000282BBD65C40>}}}, 'filter_name:maze_any': {'lap_dir:any': {'display_fn_name:1d_placefields': <neptune.attributes.atoms.file.File object at 0x00000282BBD65DF0>, 'display_fn_name:_display_1d_placefield_validations': <neptune.attributes.atoms.file.File object at 0x00000282BBD65D30>, 'display_fn_name:_display_2d_placefield_result_plot_ratemaps_2D': <neptune.attributes.atoms.file.File object at 0x00000282BBD65F10>, 'display_fn_name:plot_occupancy': {'plot_variable:OCCUPANCY': <neptune.attributes.atoms.file.File object at 0x00000282BBD65F70>}}}, 'filter_name:maze_even': {'lap_dir:even': {'display_fn_name:1d_placefields': <neptune.attributes.atoms.file.File object at 0x00000282BBD65400>, 'display_fn_name:_display_1d_placefield_validations': <neptune.attributes.atoms.file.File object at 0x00000282BBD65FA0>, 'display_fn_name:_display_2d_placefield_result_plot_ratemaps_2D': <neptune.attributes.atoms.file.File object at 0x00000282BBD620A0>, 'display_fn_name:plot_occupancy': {'plot_variable:OCCUPANCY': <neptune.attributes.atoms.file.File object at 0x00000282BBD62100>}}}, 'filter_name:maze_odd': {'lap_dir:odd': {'display_fn_name:1d_placefields': <neptune.attributes.atoms.file.File object at 0x00000282BBD622B0>, 'display_fn_name:_display_1d_placefield_validations': <neptune.attributes.atoms.file.File object at 0x00000282BBD621F0>, 'display_fn_name:_display_2d_placefield_result_plot_ratemaps_2D': <neptune.attributes.atoms.file.File object at 0x00000282BBD623D0>, 'display_fn_name:plot_occupancy': {'plot_variable:OCCUPANCY': <neptune.attributes.atoms.file.File object at 0x00000282BBD62430>}}}, 'fn_name:long_short_firing_rate_indicies': {'display_fn_name:display_long_short_laps': <neptune.attributes.atoms.file.File object at 0x00000282BBD62520>}}\n",
      "not a figure file! a dictionary instead probably: type(a_fig_file_field): <class 'dict'>\n",
      "sub_fig_full_input_key: \"display_fn_name:BatchPhoJonathanReplayFRC/plot_result_set:long_only/aclus:(48)\"\n",
      "a_fig_output_path: \"C:\\Users\\pho\\repos\\Spike3DWorkEnv\\Spike3D\\data\\neptune\\commander.pho\\PhoDibaLongShortUpdated\\figs\\gor01_two_2006-6-07_16-40-19\\BatchPhoJonathanReplayFRC-long_only-(48).png\"\n",
      "\tdone.\n",
      "sub_fig_full_input_key: \"display_fn_name:BatchPhoJonathanReplayFRC/plot_result_set:shared/page:1of3/aclus:(7,41,20,23,32,63,46,52,15,54,51,60,50,28,31,49,26,5,40,62)\"\n",
      "a_fig_output_path: \"C:\\Users\\pho\\repos\\Spike3DWorkEnv\\Spike3D\\data\\neptune\\commander.pho\\PhoDibaLongShortUpdated\\figs\\gor01_two_2006-6-07_16-40-19\\BatchPhoJonathanReplayFRC-shared-1of3-(7,41,20,23,32,63,46,52,15,54,51,60,50,28,31,49,26,5,40,62).png\"\n"
     ]
    },
    {
     "data": {
      "application/vnd.jupyter.widget-view+json": {
       "model_id": "2027b2f6e6314146993f2e35a9a393fe",
       "version_major": 2,
       "version_minor": 0
      },
      "text/plain": [
       "Fetching file...: 0 [00:00, ?/s]"
      ]
     },
     "metadata": {},
     "output_type": "display_data"
    },
    {
     "name": "stdout",
     "output_type": "stream",
     "text": [
      "\tdone.\n",
      "sub_fig_full_input_key: \"display_fn_name:BatchPhoJonathanReplayFRC/plot_result_set:shared/page:1of6/aclus:(2,4,5,6,7,8,9,11,12,13)\"\n",
      "a_fig_output_path: \"C:\\Users\\pho\\repos\\Spike3DWorkEnv\\Spike3D\\data\\neptune\\commander.pho\\PhoDibaLongShortUpdated\\figs\\gor01_two_2006-6-07_16-40-19\\BatchPhoJonathanReplayFRC-shared-1of6-(2,4,5,6,7,8,9,11,12,13).png\"\n"
     ]
    },
    {
     "data": {
      "application/vnd.jupyter.widget-view+json": {
       "model_id": "6057cd96d24e43459d5b9c90615d2dc6",
       "version_major": 2,
       "version_minor": 0
      },
      "text/plain": [
       "Fetching file...: 0 [00:00, ?/s]"
      ]
     },
     "metadata": {},
     "output_type": "display_data"
    },
    {
     "name": "stdout",
     "output_type": "stream",
     "text": [
      "\tdone.\n",
      "sub_fig_full_input_key: \"display_fn_name:BatchPhoJonathanReplayFRC/plot_result_set:shared/page:2of3/aclus:(11,55,27,45,24,53,17,56,6,35,34,8,25,21,39,33,44,64,43,2)\"\n",
      "a_fig_output_path: \"C:\\Users\\pho\\repos\\Spike3DWorkEnv\\Spike3D\\data\\neptune\\commander.pho\\PhoDibaLongShortUpdated\\figs\\gor01_two_2006-6-07_16-40-19\\BatchPhoJonathanReplayFRC-shared-2of3-(11,55,27,45,24,53,17,56,6,35,34,8,25,21,39,33,44,64,43,2).png\"\n"
     ]
    },
    {
     "data": {
      "application/vnd.jupyter.widget-view+json": {
       "model_id": "5045e15372ec48d2a0e25288d3bfd42c",
       "version_major": 2,
       "version_minor": 0
      },
      "text/plain": [
       "Fetching file...: 0 [00:00, ?/s]"
      ]
     },
     "metadata": {},
     "output_type": "display_data"
    },
    {
     "name": "stdout",
     "output_type": "stream",
     "text": [
      "\tdone.\n",
      "sub_fig_full_input_key: \"display_fn_name:BatchPhoJonathanReplayFRC/plot_result_set:shared/page:2of6/aclus:(14,15,16,17,20,21,22,23,24,25)\"\n",
      "a_fig_output_path: \"C:\\Users\\pho\\repos\\Spike3DWorkEnv\\Spike3D\\data\\neptune\\commander.pho\\PhoDibaLongShortUpdated\\figs\\gor01_two_2006-6-07_16-40-19\\BatchPhoJonathanReplayFRC-shared-2of6-(14,15,16,17,20,21,22,23,24,25).png\"\n"
     ]
    },
    {
     "data": {
      "application/vnd.jupyter.widget-view+json": {
       "model_id": "7fd00c9654014e628b07e6da2b86900b",
       "version_major": 2,
       "version_minor": 0
      },
      "text/plain": [
       "Fetching file...: 0 [00:00, ?/s]"
      ]
     },
     "metadata": {},
     "output_type": "display_data"
    },
    {
     "name": "stdout",
     "output_type": "stream",
     "text": [
      "\tdone.\n",
      "sub_fig_full_input_key: \"display_fn_name:BatchPhoJonathanReplayFRC/plot_result_set:shared/page:3of3/aclus:(4,9,12,13,14,16,22,29,30,36,37,38,42,47,57,58,59,61)\"\n",
      "a_fig_output_path: \"C:\\Users\\pho\\repos\\Spike3DWorkEnv\\Spike3D\\data\\neptune\\commander.pho\\PhoDibaLongShortUpdated\\figs\\gor01_two_2006-6-07_16-40-19\\BatchPhoJonathanReplayFRC-shared-3of3-(4,9,12,13,14,16,22,29,30,36,37,38,42,47,57,58,59,61).png\"\n"
     ]
    },
    {
     "data": {
      "application/vnd.jupyter.widget-view+json": {
       "model_id": "b00bcb578f7d4255bd5abd99f8a8148a",
       "version_major": 2,
       "version_minor": 0
      },
      "text/plain": [
       "Fetching file...: 0 [00:00, ?/s]"
      ]
     },
     "metadata": {},
     "output_type": "display_data"
    },
    {
     "name": "stdout",
     "output_type": "stream",
     "text": [
      "\tdone.\n",
      "sub_fig_full_input_key: \"display_fn_name:BatchPhoJonathanReplayFRC/plot_result_set:shared/page:3of6/aclus:(26,27,28,29,30,31,32,33,34,35)\"\n",
      "a_fig_output_path: \"C:\\Users\\pho\\repos\\Spike3DWorkEnv\\Spike3D\\data\\neptune\\commander.pho\\PhoDibaLongShortUpdated\\figs\\gor01_two_2006-6-07_16-40-19\\BatchPhoJonathanReplayFRC-shared-3of6-(26,27,28,29,30,31,32,33,34,35).png\"\n"
     ]
    },
    {
     "data": {
      "application/vnd.jupyter.widget-view+json": {
       "model_id": "a4bd1fda180043f0b2330577680bee72",
       "version_major": 2,
       "version_minor": 0
      },
      "text/plain": [
       "Fetching file...: 0 [00:00, ?/s]"
      ]
     },
     "metadata": {},
     "output_type": "display_data"
    },
    {
     "name": "stdout",
     "output_type": "stream",
     "text": [
      "\tdone.\n",
      "sub_fig_full_input_key: \"display_fn_name:BatchPhoJonathanReplayFRC/plot_result_set:shared/page:4of6/aclus:(36,37,38,39,40,41,42,43,44,45)\"\n",
      "a_fig_output_path: \"C:\\Users\\pho\\repos\\Spike3DWorkEnv\\Spike3D\\data\\neptune\\commander.pho\\PhoDibaLongShortUpdated\\figs\\gor01_two_2006-6-07_16-40-19\\BatchPhoJonathanReplayFRC-shared-4of6-(36,37,38,39,40,41,42,43,44,45).png\"\n"
     ]
    },
    {
     "data": {
      "application/vnd.jupyter.widget-view+json": {
       "model_id": "5e3690517e0f4b259f34329800571156",
       "version_major": 2,
       "version_minor": 0
      },
      "text/plain": [
       "Fetching file...: 0 [00:00, ?/s]"
      ]
     },
     "metadata": {},
     "output_type": "display_data"
    },
    {
     "name": "stdout",
     "output_type": "stream",
     "text": [
      "\tdone.\n",
      "sub_fig_full_input_key: \"display_fn_name:BatchPhoJonathanReplayFRC/plot_result_set:shared/page:5of6/aclus:(46,47,49,50,51,52,53,54,55,56)\"\n",
      "a_fig_output_path: \"C:\\Users\\pho\\repos\\Spike3DWorkEnv\\Spike3D\\data\\neptune\\commander.pho\\PhoDibaLongShortUpdated\\figs\\gor01_two_2006-6-07_16-40-19\\BatchPhoJonathanReplayFRC-shared-5of6-(46,47,49,50,51,52,53,54,55,56).png\"\n"
     ]
    },
    {
     "data": {
      "application/vnd.jupyter.widget-view+json": {
       "model_id": "e319a0abd80144fdb8e602197437f7dd",
       "version_major": 2,
       "version_minor": 0
      },
      "text/plain": [
       "Fetching file...: 0 [00:00, ?/s]"
      ]
     },
     "metadata": {},
     "output_type": "display_data"
    },
    {
     "name": "stdout",
     "output_type": "stream",
     "text": [
      "\tdone.\n",
      "sub_fig_full_input_key: \"display_fn_name:BatchPhoJonathanReplayFRC/plot_result_set:shared/page:6of6/aclus:(57,58,59,60,61,62,63,64)\"\n",
      "a_fig_output_path: \"C:\\Users\\pho\\repos\\Spike3DWorkEnv\\Spike3D\\data\\neptune\\commander.pho\\PhoDibaLongShortUpdated\\figs\\gor01_two_2006-6-07_16-40-19\\BatchPhoJonathanReplayFRC-shared-6of6-(57,58,59,60,61,62,63,64).png\"\n",
      "\tdone.\n",
      "sub_fig_full_input_key: \"display_fn_name:BatchPhoJonathanReplayFRC/plot_result_set:short_only/aclus:(3,10,18,19,65)\"\n",
      "a_fig_output_path: \"C:\\Users\\pho\\repos\\Spike3DWorkEnv\\Spike3D\\data\\neptune\\commander.pho\\PhoDibaLongShortUpdated\\figs\\gor01_two_2006-6-07_16-40-19\\BatchPhoJonathanReplayFRC-short_only-(3,10,18,19,65).png\"\n",
      "\tdone.\n",
      "a_parsed_structure: {'display_fn_name:BatchPhoJonathanReplayFRC': {'plot_result_set:long_only': {'aclus:(48)': <neptune.attributes.atoms.file.File object at 0x00000282BEBF82E0>}, 'plot_result_set:shared': {'page:1of3': {'aclus:(7,41,20,23,32,63,46,52,15,54,51,60,50,28,31,49,26,5,40,62)': <neptune.attributes.atoms.file.File object at 0x00000282BEBF80D0>}, 'page:1of6': {'aclus:(2,4,5,6,7,8,9,11,12,13)': <neptune.attributes.atoms.file.File object at 0x00000282BEBF8CD0>}, 'page:2of3': {'aclus:(11,55,27,45,24,53,17,56,6,35,34,8,25,21,39,33,44,64,43,2)': <neptune.attributes.atoms.file.File object at 0x00000282BEBF8FA0>}, 'page:2of6': {'aclus:(14,15,16,17,20,21,22,23,24,25)': <neptune.attributes.atoms.file.File object at 0x00000282BEBF88E0>}, 'page:3of3': {'aclus:(4,9,12,13,14,16,22,29,30,36,37,38,42,47,57,58,59,61)': <neptune.attributes.atoms.file.File object at 0x00000282BEBF8B80>}, 'page:3of6': {'aclus:(26,27,28,29,30,31,32,33,34,35)': <neptune.attributes.atoms.file.File object at 0x00000282BE662100>}, 'page:4of6': {'aclus:(36,37,38,39,40,41,42,43,44,45)': <neptune.attributes.atoms.file.File object at 0x00000282BE662250>}, 'page:5of6': {'aclus:(46,47,49,50,51,52,53,54,55,56)': <neptune.attributes.atoms.file.File object at 0x00000282BE6622E0>}, 'page:6of6': {'aclus:(57,58,59,60,61,62,63,64)': <neptune.attributes.atoms.file.File object at 0x00000282BE662430>}}, 'plot_result_set:short_only': {'aclus:(3,10,18,19,65)': <neptune.attributes.atoms.file.File object at 0x00000282BE6624C0>}}, 'display_fn_name:_display_grid_bin_bounds_validation': <neptune.attributes.atoms.file.File object at 0x00000282BE662400>, 'display_fn_name:bidir_track_remap': {'subplot_name:Track Remapping': <neptune.attributes.atoms.file.File object at 0x00000282BE6625E0>}, 'display_fn_name:directional_merged_pf_decoded_epochs': {'decoded_epochs:Laps': {'Marginal:Direction': {'t_bin:0.25': <neptune.attributes.atoms.file.File object at 0x00000282BE662640>}, 'Marginal:TrackID': {'t_bin:0.25': <neptune.attributes.atoms.file.File object at 0x00000282BE6629D0>}}, 'decoded_epochs:Ripple': {'Marginal:Direction': {'t_bin:0.025': <neptune.attributes.atoms.file.File object at 0x00000282BE662A60>}, 'Marginal:TrackID': {'t_bin:0.025': <neptune.attributes.atoms.file.File object at 0x00000282BE662AF0>}}}, 'display_fn_name:display_long_short_laps': <neptune.attributes.atoms.file.File object at 0x00000282BD604640>, 'display_fn_name:display_short_long_pf1D_comparison': {'track:long': <neptune.attributes.atoms.file.File object at 0x00000282BD604580>, 'track:short': <neptune.attributes.atoms.file.File object at 0x00000282BD6046A0>}, 'display_fn_name:plot_all_epoch_bins_marginal_predictions': {'subplot_name:Laps all_epoch_binned Marginals': <neptune.attributes.atoms.file.File object at 0x00000282BD604760>, 'subplot_name:Ripple all_epoch_binned Marginals': <neptune.attributes.atoms.file.File object at 0x00000282BD6047C0>}, 'display_fn_name:plot_expected_vs_observed': {'x_variable:epoch_idx': {'variable:obs_exp_diff_ptp': <neptune.attributes.atoms.file.File object at 0x00000282BD604880>}}, 'display_fn_name:plot_histograms': {'subplot_name:laps_result_tuple': <neptune.attributes.atoms.file.File object at 0x00000282BD6048E0>, 'subplot_name:ripple_result_tuple': <neptune.attributes.atoms.file.File object at 0x00000282BD604A00>}, 'display_fn_name:plot_quantile_diffs': {'subplot_name:BestDir': <neptune.attributes.atoms.file.File object at 0x00000282BD604AC0>}, 'display_fn_name:plot_rank_order_epoch_inst_fr_result_tuples': {'subplot_name:Lap': {'subplotsubplot_name:raw': <neptune.attributes.atoms.file.File object at 0x00000282BD604B20>, 'subplotsubplot_name:z_score_diff': <neptune.attributes.atoms.file.File object at 0x00000282BD604BE0>}, 'subplot_name:Ripple': {'subplotsubplot_name:raw': <neptune.attributes.atoms.file.File object at 0x00000282BD604CD0>, 'subplotsubplot_name:z_score_diff': <neptune.attributes.atoms.file.File object at 0x00000282BD604D60>}}, 'display_fn_name:plot_rank_order_histograms': {'subplot_name:Ripple Most-likely Spearman Rho': <neptune.attributes.atoms.file.File object at 0x00000282BD604E20>, 'subplot_name:Ripple Most-likely Z-scores': <neptune.attributes.atoms.file.File object at 0x00000282BD604E80>, 'subplot_name:Ripple Z-scores': <neptune.attributes.atoms.file.File object at 0x00000282BD604F70>, 'subplot_name:Ripple real correlations': <neptune.attributes.atoms.file.File object at 0x00000282BD604F10>}, 'display_fn_name:running_and_replay_speeds_over_time': <neptune.attributes.atoms.file.File object at 0x00000282BD60A040>, 'filter_name:maze1_any': {'lap_dir:any': {'display_fn_name:1d_placefields': <neptune.attributes.atoms.file.File object at 0x00000282BD60A0A0>, 'display_fn_name:_display_1d_placefield_validations': <neptune.attributes.atoms.file.File object at 0x00000282BD60A190>, 'display_fn_name:_display_2d_placefield_result_plot_ratemaps_2D': <neptune.attributes.atoms.file.File object at 0x00000282BD60A220>, 'display_fn_name:plot_occupancy': {'plot_variable:OCCUPANCY': <neptune.attributes.atoms.file.File object at 0x00000282BD60A280>}, 'display_fn_name:plot_single_track_firing_rate_compare': <neptune.attributes.atoms.file.File object at 0x00000282BD60A2E0>}}, 'filter_name:maze1_even': {'lap_dir:even': {'display_fn_name:1d_placefields': <neptune.attributes.atoms.file.File object at 0x00000282BEC7D460>, 'display_fn_name:_display_1d_placefield_validations': <neptune.attributes.atoms.file.File object at 0x00000282BEC7DA30>, 'display_fn_name:_display_2d_placefield_result_plot_ratemaps_2D': <neptune.attributes.atoms.file.File object at 0x00000282BEC7DDF0>, 'display_fn_name:plot_occupancy': {'plot_variable:OCCUPANCY': <neptune.attributes.atoms.file.File object at 0x00000282BEC7D6D0>}}}, 'filter_name:maze1_odd': {'lap_dir:odd': {'display_fn_name:1d_placefields': <neptune.attributes.atoms.file.File object at 0x00000282BEC7D970>, 'display_fn_name:_display_1d_placefield_validations': <neptune.attributes.atoms.file.File object at 0x00000282BEC7D7C0>, 'display_fn_name:_display_2d_placefield_result_plot_ratemaps_2D': <neptune.attributes.atoms.file.File object at 0x00000282BEC7D0A0>, 'display_fn_name:plot_occupancy': {'plot_variable:OCCUPANCY': <neptune.attributes.atoms.file.File object at 0x00000282BEC7D580>}}}, 'filter_name:maze2_any': {'lap_dir:any': {'display_fn_name:1d_placefields': <neptune.attributes.atoms.file.File object at 0x00000282BEC7D190>, 'display_fn_name:_display_1d_placefield_validations': <neptune.attributes.atoms.file.File object at 0x00000282BEC7D1C0>, 'display_fn_name:_display_2d_placefield_result_plot_ratemaps_2D': <neptune.attributes.atoms.file.File object at 0x00000282BEC7D310>, 'display_fn_name:plot_occupancy': {'plot_variable:OCCUPANCY': <neptune.attributes.atoms.file.File object at 0x00000282BEC7D220>}, 'display_fn_name:plot_single_track_firing_rate_compare': <neptune.attributes.atoms.file.File object at 0x00000282BEC7D430>}}, 'filter_name:maze2_even': {'lap_dir:even': {'display_fn_name:1d_placefields': <neptune.attributes.atoms.file.File object at 0x00000282BD6053D0>, 'display_fn_name:_display_1d_placefield_validations': <neptune.attributes.atoms.file.File object at 0x00000282BD6054F0>, 'display_fn_name:_display_2d_placefield_result_plot_ratemaps_2D': <neptune.attributes.atoms.file.File object at 0x00000282BD605610>, 'display_fn_name:plot_occupancy': {'plot_variable:OCCUPANCY': <neptune.attributes.atoms.file.File object at 0x00000282BD605670>}}}, 'filter_name:maze2_odd': {'lap_dir:odd': {'display_fn_name:1d_placefields': <neptune.attributes.atoms.file.File object at 0x00000282BD6057C0>, 'display_fn_name:_display_1d_placefield_validations': <neptune.attributes.atoms.file.File object at 0x00000282BD605700>, 'display_fn_name:_display_2d_placefield_result_plot_ratemaps_2D': <neptune.attributes.atoms.file.File object at 0x00000282BD6058E0>, 'display_fn_name:plot_occupancy': {'plot_variable:OCCUPANCY': <neptune.attributes.atoms.file.File object at 0x00000282BD605940>}}}, 'filter_name:maze_any': {'lap_dir:any': {'display_fn_name:1d_placefields': <neptune.attributes.atoms.file.File object at 0x00000282BD605A90>, 'display_fn_name:_display_1d_placefield_validations': <neptune.attributes.atoms.file.File object at 0x00000282BD6059D0>, 'display_fn_name:_display_2d_placefield_result_plot_ratemaps_2D': <neptune.attributes.atoms.file.File object at 0x00000282BD605BB0>, 'display_fn_name:plot_occupancy': {'plot_variable:OCCUPANCY': <neptune.attributes.atoms.file.File object at 0x00000282BD605C10>}}}, 'filter_name:maze_even': {'lap_dir:even': {'display_fn_name:1d_placefields': <neptune.attributes.atoms.file.File object at 0x00000282BD605D60>, 'display_fn_name:_display_1d_placefield_validations': <neptune.attributes.atoms.file.File object at 0x00000282BD605CA0>, 'display_fn_name:_display_2d_placefield_result_plot_ratemaps_2D': <neptune.attributes.atoms.file.File object at 0x00000282BD605E80>, 'display_fn_name:plot_occupancy': {'plot_variable:OCCUPANCY': <neptune.attributes.atoms.file.File object at 0x00000282BD605EE0>}}}, 'filter_name:maze_odd': {'lap_dir:odd': {'display_fn_name:1d_placefields': <neptune.attributes.atoms.file.File object at 0x00000282BD605F70>, 'display_fn_name:_display_1d_placefield_validations': <neptune.attributes.atoms.file.File object at 0x00000282BD9F0070>, 'display_fn_name:_display_2d_placefield_result_plot_ratemaps_2D': <neptune.attributes.atoms.file.File object at 0x00000282BD9F0190>, 'display_fn_name:plot_occupancy': {'plot_variable:OCCUPANCY': <neptune.attributes.atoms.file.File object at 0x00000282BD9F01F0>}}}, 'fn_name:long_short_firing_rate_indicies': {'display_fn_name:display_long_short_laps': <neptune.attributes.atoms.file.File object at 0x00000282BD9F0340>}}\n",
      "not a figure file! a dictionary instead probably: type(a_fig_file_field): <class 'dict'>\n",
      "sub_fig_full_input_key: \"display_fn_name:BatchPhoJonathanReplayFRC/plot_result_set:long_only/aclus:(48)\"\n",
      "a_fig_output_path: \"C:\\Users\\pho\\repos\\Spike3DWorkEnv\\Spike3D\\data\\neptune\\commander.pho\\PhoDibaLongShortUpdated\\figs\\gor01_two_2006-6-07_16-40-19\\BatchPhoJonathanReplayFRC-long_only-(48).png\"\n",
      "\tdone.\n",
      "sub_fig_full_input_key: \"display_fn_name:BatchPhoJonathanReplayFRC/plot_result_set:shared/page:1of3/aclus:(7,41,20,23,32,63,46,52,15,54,51,60,50,28,31,49,26,5,40,62)\"\n",
      "a_fig_output_path: \"C:\\Users\\pho\\repos\\Spike3DWorkEnv\\Spike3D\\data\\neptune\\commander.pho\\PhoDibaLongShortUpdated\\figs\\gor01_two_2006-6-07_16-40-19\\BatchPhoJonathanReplayFRC-shared-1of3-(7,41,20,23,32,63,46,52,15,54,51,60,50,28,31,49,26,5,40,62).png\"\n"
     ]
    },
    {
     "data": {
      "application/vnd.jupyter.widget-view+json": {
       "model_id": "08aae2c09e9a406bb97bd4f0e9d94bac",
       "version_major": 2,
       "version_minor": 0
      },
      "text/plain": [
       "Fetching file...: 0 [00:00, ?/s]"
      ]
     },
     "metadata": {},
     "output_type": "display_data"
    },
    {
     "name": "stdout",
     "output_type": "stream",
     "text": [
      "\tdone.\n",
      "sub_fig_full_input_key: \"display_fn_name:BatchPhoJonathanReplayFRC/plot_result_set:shared/page:1of6/aclus:(2,4,5,6,7,8,9,11,12,13)\"\n",
      "a_fig_output_path: \"C:\\Users\\pho\\repos\\Spike3DWorkEnv\\Spike3D\\data\\neptune\\commander.pho\\PhoDibaLongShortUpdated\\figs\\gor01_two_2006-6-07_16-40-19\\BatchPhoJonathanReplayFRC-shared-1of6-(2,4,5,6,7,8,9,11,12,13).png\"\n"
     ]
    },
    {
     "data": {
      "application/vnd.jupyter.widget-view+json": {
       "model_id": "1936fca489f54e31826f97887cd6b1bd",
       "version_major": 2,
       "version_minor": 0
      },
      "text/plain": [
       "Fetching file...: 0 [00:00, ?/s]"
      ]
     },
     "metadata": {},
     "output_type": "display_data"
    },
    {
     "name": "stdout",
     "output_type": "stream",
     "text": [
      "\tdone.\n",
      "sub_fig_full_input_key: \"display_fn_name:BatchPhoJonathanReplayFRC/plot_result_set:shared/page:2of3/aclus:(11,55,27,45,24,53,17,56,6,35,34,8,25,21,39,33,44,64,43,2)\"\n",
      "a_fig_output_path: \"C:\\Users\\pho\\repos\\Spike3DWorkEnv\\Spike3D\\data\\neptune\\commander.pho\\PhoDibaLongShortUpdated\\figs\\gor01_two_2006-6-07_16-40-19\\BatchPhoJonathanReplayFRC-shared-2of3-(11,55,27,45,24,53,17,56,6,35,34,8,25,21,39,33,44,64,43,2).png\"\n"
     ]
    },
    {
     "data": {
      "application/vnd.jupyter.widget-view+json": {
       "model_id": "e14fbfa6dc1541a6b7fe8bf60c08e843",
       "version_major": 2,
       "version_minor": 0
      },
      "text/plain": [
       "Fetching file...: 0 [00:00, ?/s]"
      ]
     },
     "metadata": {},
     "output_type": "display_data"
    },
    {
     "name": "stdout",
     "output_type": "stream",
     "text": [
      "\tdone.\n",
      "sub_fig_full_input_key: \"display_fn_name:BatchPhoJonathanReplayFRC/plot_result_set:shared/page:2of6/aclus:(14,15,16,17,20,21,22,23,24,25)\"\n",
      "a_fig_output_path: \"C:\\Users\\pho\\repos\\Spike3DWorkEnv\\Spike3D\\data\\neptune\\commander.pho\\PhoDibaLongShortUpdated\\figs\\gor01_two_2006-6-07_16-40-19\\BatchPhoJonathanReplayFRC-shared-2of6-(14,15,16,17,20,21,22,23,24,25).png\"\n"
     ]
    },
    {
     "data": {
      "application/vnd.jupyter.widget-view+json": {
       "model_id": "ac8f80ad141943be879f1058565bae7a",
       "version_major": 2,
       "version_minor": 0
      },
      "text/plain": [
       "Fetching file...: 0 [00:00, ?/s]"
      ]
     },
     "metadata": {},
     "output_type": "display_data"
    },
    {
     "name": "stdout",
     "output_type": "stream",
     "text": [
      "\tdone.\n",
      "sub_fig_full_input_key: \"display_fn_name:BatchPhoJonathanReplayFRC/plot_result_set:shared/page:3of3/aclus:(4,9,12,13,14,16,22,29,30,36,37,38,42,47,57,58,59,61)\"\n",
      "a_fig_output_path: \"C:\\Users\\pho\\repos\\Spike3DWorkEnv\\Spike3D\\data\\neptune\\commander.pho\\PhoDibaLongShortUpdated\\figs\\gor01_two_2006-6-07_16-40-19\\BatchPhoJonathanReplayFRC-shared-3of3-(4,9,12,13,14,16,22,29,30,36,37,38,42,47,57,58,59,61).png\"\n"
     ]
    },
    {
     "data": {
      "application/vnd.jupyter.widget-view+json": {
       "model_id": "cef6835b9845493581e12268de10fc58",
       "version_major": 2,
       "version_minor": 0
      },
      "text/plain": [
       "Fetching file...: 0 [00:00, ?/s]"
      ]
     },
     "metadata": {},
     "output_type": "display_data"
    },
    {
     "name": "stdout",
     "output_type": "stream",
     "text": [
      "\tdone.\n",
      "sub_fig_full_input_key: \"display_fn_name:BatchPhoJonathanReplayFRC/plot_result_set:shared/page:3of6/aclus:(26,27,28,29,30,31,32,33,34,35)\"\n",
      "a_fig_output_path: \"C:\\Users\\pho\\repos\\Spike3DWorkEnv\\Spike3D\\data\\neptune\\commander.pho\\PhoDibaLongShortUpdated\\figs\\gor01_two_2006-6-07_16-40-19\\BatchPhoJonathanReplayFRC-shared-3of6-(26,27,28,29,30,31,32,33,34,35).png\"\n"
     ]
    },
    {
     "data": {
      "application/vnd.jupyter.widget-view+json": {
       "model_id": "80cdecf22d82490b8c57ef3705023ace",
       "version_major": 2,
       "version_minor": 0
      },
      "text/plain": [
       "Fetching file...: 0 [00:00, ?/s]"
      ]
     },
     "metadata": {},
     "output_type": "display_data"
    },
    {
     "name": "stdout",
     "output_type": "stream",
     "text": [
      "\tdone.\n",
      "sub_fig_full_input_key: \"display_fn_name:BatchPhoJonathanReplayFRC/plot_result_set:shared/page:4of6/aclus:(36,37,38,39,40,41,42,43,44,45)\"\n",
      "a_fig_output_path: \"C:\\Users\\pho\\repos\\Spike3DWorkEnv\\Spike3D\\data\\neptune\\commander.pho\\PhoDibaLongShortUpdated\\figs\\gor01_two_2006-6-07_16-40-19\\BatchPhoJonathanReplayFRC-shared-4of6-(36,37,38,39,40,41,42,43,44,45).png\"\n"
     ]
    },
    {
     "data": {
      "application/vnd.jupyter.widget-view+json": {
       "model_id": "8198282d985d43268e8da0ced1da98a1",
       "version_major": 2,
       "version_minor": 0
      },
      "text/plain": [
       "Fetching file...: 0 [00:00, ?/s]"
      ]
     },
     "metadata": {},
     "output_type": "display_data"
    },
    {
     "name": "stdout",
     "output_type": "stream",
     "text": [
      "\tdone.\n",
      "sub_fig_full_input_key: \"display_fn_name:BatchPhoJonathanReplayFRC/plot_result_set:shared/page:5of6/aclus:(46,47,49,50,51,52,53,54,55,56)\"\n",
      "a_fig_output_path: \"C:\\Users\\pho\\repos\\Spike3DWorkEnv\\Spike3D\\data\\neptune\\commander.pho\\PhoDibaLongShortUpdated\\figs\\gor01_two_2006-6-07_16-40-19\\BatchPhoJonathanReplayFRC-shared-5of6-(46,47,49,50,51,52,53,54,55,56).png\"\n"
     ]
    },
    {
     "data": {
      "application/vnd.jupyter.widget-view+json": {
       "model_id": "37b255e423ad4ffe81131f1a3f3d987f",
       "version_major": 2,
       "version_minor": 0
      },
      "text/plain": [
       "Fetching file...: 0 [00:00, ?/s]"
      ]
     },
     "metadata": {},
     "output_type": "display_data"
    },
    {
     "name": "stdout",
     "output_type": "stream",
     "text": [
      "\tdone.\n",
      "sub_fig_full_input_key: \"display_fn_name:BatchPhoJonathanReplayFRC/plot_result_set:shared/page:6of6/aclus:(57,58,59,60,61,62,63,64)\"\n",
      "a_fig_output_path: \"C:\\Users\\pho\\repos\\Spike3DWorkEnv\\Spike3D\\data\\neptune\\commander.pho\\PhoDibaLongShortUpdated\\figs\\gor01_two_2006-6-07_16-40-19\\BatchPhoJonathanReplayFRC-shared-6of6-(57,58,59,60,61,62,63,64).png\"\n",
      "\tdone.\n",
      "sub_fig_full_input_key: \"display_fn_name:BatchPhoJonathanReplayFRC/plot_result_set:short_only/aclus:(3,10,18,19,65)\"\n",
      "a_fig_output_path: \"C:\\Users\\pho\\repos\\Spike3DWorkEnv\\Spike3D\\data\\neptune\\commander.pho\\PhoDibaLongShortUpdated\\figs\\gor01_two_2006-6-07_16-40-19\\BatchPhoJonathanReplayFRC-short_only-(3,10,18,19,65).png\"\n",
      "\tdone.\n",
      "a_parsed_structure: {'display_fn_name:BatchPhoJonathanReplayFRC': {'plot_result_set:long_only': {'aclus:(48)': <neptune.attributes.atoms.file.File object at 0x00000282BE50C760>}, 'plot_result_set:shared': {'page:1of3': {'aclus:(7,41,20,23,32,63,46,52,15,54,51,60,50,28,31,49,26,5,40,62)': <neptune.attributes.atoms.file.File object at 0x00000282BE50C7C0>}, 'page:1of6': {'aclus:(2,4,5,6,7,8,9,11,12,13)': <neptune.attributes.atoms.file.File object at 0x00000282BE50CAF0>}, 'page:2of3': {'aclus:(11,55,27,45,24,53,17,56,6,35,34,8,25,21,39,33,44,64,43,2)': <neptune.attributes.atoms.file.File object at 0x00000282BE50CB20>}, 'page:2of6': {'aclus:(14,15,16,17,20,21,22,23,24,25)': <neptune.attributes.atoms.file.File object at 0x00000282BE4F2040>}, 'page:3of3': {'aclus:(4,9,12,13,14,16,22,29,30,36,37,38,42,47,57,58,59,61)': <neptune.attributes.atoms.file.File object at 0x00000282BE4DF9D0>}, 'page:3of6': {'aclus:(26,27,28,29,30,31,32,33,34,35)': <neptune.attributes.atoms.file.File object at 0x00000282BE4DFB80>}, 'page:4of6': {'aclus:(36,37,38,39,40,41,42,43,44,45)': <neptune.attributes.atoms.file.File object at 0x00000282BE4DFC70>}, 'page:5of6': {'aclus:(46,47,49,50,51,52,53,54,55,56)': <neptune.attributes.atoms.file.File object at 0x00000282BE4DF8E0>}, 'page:6of6': {'aclus:(57,58,59,60,61,62,63,64)': <neptune.attributes.atoms.file.File object at 0x00000282BE4DF5B0>}}, 'plot_result_set:short_only': {'aclus:(3,10,18,19,65)': <neptune.attributes.atoms.file.File object at 0x00000282BE4DF760>}}, 'display_fn_name:_display_grid_bin_bounds_validation': <neptune.attributes.atoms.file.File object at 0x00000282BE4DF5E0>, 'display_fn_name:directional_merged_pf_decoded_epochs': {'decoded_epochs:Laps': {'Marginal:Direction': {'t_bin:0.25': <neptune.attributes.atoms.file.File object at 0x00000282BE4DF820>}, 'Marginal:TrackID': {'t_bin:0.25': <neptune.attributes.atoms.file.File object at 0x00000282BE4DFD90>}}, 'decoded_epochs:Ripple': {'Marginal:Direction': {'t_bin:0.025': <neptune.attributes.atoms.file.File object at 0x00000282BE4DFDC0>}, 'Marginal:TrackID': {'t_bin:0.025': <neptune.attributes.atoms.file.File object at 0x00000282BE4DFFA0>}}}, 'display_fn_name:display_long_short_laps': <neptune.attributes.atoms.file.File object at 0x00000282BDD945B0>, 'display_fn_name:display_short_long_pf1D_comparison': {'track:long': <neptune.attributes.atoms.file.File object at 0x00000282BDD944F0>, 'track:short': <neptune.attributes.atoms.file.File object at 0x00000282BDD94610>}, 'display_fn_name:plot_all_epoch_bins_marginal_predictions': {'subplot_name:Laps all_epoch_binned Marginals': <neptune.attributes.atoms.file.File object at 0x00000282BDD946D0>, 'subplot_name:Ripple all_epoch_binned Marginals': <neptune.attributes.atoms.file.File object at 0x00000282BDD94730>}, 'display_fn_name:plot_expected_vs_observed': {'x_variable:epoch_idx': {'variable:obs_exp_diff_ptp': <neptune.attributes.atoms.file.File object at 0x00000282BDD947F0>}}, 'display_fn_name:running_and_replay_speeds_over_time': <neptune.attributes.atoms.file.File object at 0x00000282BDD94850>, 'filter_name:maze1_any': {'lap_dir:any': {'display_fn_name:1d_placefields': <neptune.attributes.atoms.file.File object at 0x00000282BDD94970>, 'display_fn_name:_display_1d_placefield_validations': <neptune.attributes.atoms.file.File object at 0x00000282BDD949D0>, 'display_fn_name:_display_2d_placefield_result_plot_ratemaps_2D': <neptune.attributes.atoms.file.File object at 0x00000282BDD94AF0>, 'display_fn_name:plot_occupancy': {'plot_variable:OCCUPANCY': <neptune.attributes.atoms.file.File object at 0x00000282BDD94B50>}, 'display_fn_name:plot_single_track_firing_rate_compare': <neptune.attributes.atoms.file.File object at 0x00000282BDD94CA0>}}, 'filter_name:maze1_even': {'lap_dir:even': {'display_fn_name:1d_placefields': <neptune.attributes.atoms.file.File object at 0x00000282BDD94BE0>, 'display_fn_name:_display_1d_placefield_validations': <neptune.attributes.atoms.file.File object at 0x00000282BDD94D00>, 'display_fn_name:_display_2d_placefield_result_plot_ratemaps_2D': <neptune.attributes.atoms.file.File object at 0x00000282BDD94E20>, 'display_fn_name:plot_occupancy': {'plot_variable:OCCUPANCY': <neptune.attributes.atoms.file.File object at 0x00000282BDD94E80>}}}, 'filter_name:maze1_odd': {'lap_dir:odd': {'display_fn_name:1d_placefields': <neptune.attributes.atoms.file.File object at 0x00000282BDD94FD0>, 'display_fn_name:_display_1d_placefield_validations': <neptune.attributes.atoms.file.File object at 0x00000282BDD94F10>, 'display_fn_name:_display_2d_placefield_result_plot_ratemaps_2D': <neptune.attributes.atoms.file.File object at 0x00000282BE4F1130>, 'display_fn_name:plot_occupancy': {'plot_variable:OCCUPANCY': <neptune.attributes.atoms.file.File object at 0x00000282BE4F1190>}}}, 'filter_name:maze2_any': {'lap_dir:any': {'display_fn_name:1d_placefields': <neptune.attributes.atoms.file.File object at 0x00000282BE4F12E0>, 'display_fn_name:_display_1d_placefield_validations': <neptune.attributes.atoms.file.File object at 0x00000282BE4F1220>, 'display_fn_name:_display_2d_placefield_result_plot_ratemaps_2D': <neptune.attributes.atoms.file.File object at 0x00000282BE4F1400>, 'display_fn_name:plot_occupancy': {'plot_variable:OCCUPANCY': <neptune.attributes.atoms.file.File object at 0x00000282BE4F1460>}, 'display_fn_name:plot_single_track_firing_rate_compare': <neptune.attributes.atoms.file.File object at 0x00000282BE4F15B0>}}, 'filter_name:maze2_even': {'lap_dir:even': {'display_fn_name:1d_placefields': <neptune.attributes.atoms.file.File object at 0x00000282BE4F14F0>, 'display_fn_name:_display_1d_placefield_validations': <neptune.attributes.atoms.file.File object at 0x00000282BE4F1610>, 'display_fn_name:_display_2d_placefield_result_plot_ratemaps_2D': <neptune.attributes.atoms.file.File object at 0x00000282BE4F1730>, 'display_fn_name:plot_occupancy': {'plot_variable:OCCUPANCY': <neptune.attributes.atoms.file.File object at 0x00000282BE4F1790>}}}, 'filter_name:maze2_odd': {'lap_dir:odd': {'display_fn_name:1d_placefields': <neptune.attributes.atoms.file.File object at 0x00000282BE4F18E0>, 'display_fn_name:_display_1d_placefield_validations': <neptune.attributes.atoms.file.File object at 0x00000282BE4F1820>, 'display_fn_name:_display_2d_placefield_result_plot_ratemaps_2D': <neptune.attributes.atoms.file.File object at 0x00000282BE4F1A00>, 'display_fn_name:plot_occupancy': {'plot_variable:OCCUPANCY': <neptune.attributes.atoms.file.File object at 0x00000282BE4F1A60>}}}, 'filter_name:maze_any': {'lap_dir:any': {'display_fn_name:1d_placefields': <neptune.attributes.atoms.file.File object at 0x00000282BE4F1BB0>, 'display_fn_name:_display_1d_placefield_validations': <neptune.attributes.atoms.file.File object at 0x00000282BE4F1AF0>, 'display_fn_name:_display_2d_placefield_result_plot_ratemaps_2D': <neptune.attributes.atoms.file.File object at 0x00000282BE4F1CD0>, 'display_fn_name:plot_occupancy': {'plot_variable:OCCUPANCY': <neptune.attributes.atoms.file.File object at 0x00000282BE4F1D30>}}}, 'filter_name:maze_even': {'lap_dir:even': {'display_fn_name:1d_placefields': <neptune.attributes.atoms.file.File object at 0x00000282BE4F1E80>, 'display_fn_name:_display_1d_placefield_validations': <neptune.attributes.atoms.file.File object at 0x00000282BE4F1DC0>, 'display_fn_name:_display_2d_placefield_result_plot_ratemaps_2D': <neptune.attributes.atoms.file.File object at 0x00000282BE4F1FA0>, 'display_fn_name:plot_occupancy': {'plot_variable:OCCUPANCY': <neptune.attributes.atoms.file.File object at 0x00000282BE4F9040>}}}, 'filter_name:maze_odd': {'lap_dir:odd': {'display_fn_name:1d_placefields': <neptune.attributes.atoms.file.File object at 0x00000282BE4F9190>, 'display_fn_name:_display_1d_placefield_validations': <neptune.attributes.atoms.file.File object at 0x00000282BE4F90D0>, 'display_fn_name:_display_2d_placefield_result_plot_ratemaps_2D': <neptune.attributes.atoms.file.File object at 0x00000282BE4F92B0>, 'display_fn_name:plot_occupancy': {'plot_variable:OCCUPANCY': <neptune.attributes.atoms.file.File object at 0x00000282BE4F9310>}}}, 'fn_name:long_short_firing_rate_indicies': {'display_fn_name:display_long_short_laps': <neptune.attributes.atoms.file.File object at 0x00000282BE4F9460>}}\n",
      "not a figure file! a dictionary instead probably: type(a_fig_file_field): <class 'dict'>\n",
      "sub_fig_full_input_key: \"display_fn_name:BatchPhoJonathanReplayFRC/plot_result_set:long_only/aclus:(48)\"\n",
      "a_fig_output_path: \"C:\\Users\\pho\\repos\\Spike3DWorkEnv\\Spike3D\\data\\neptune\\commander.pho\\PhoDibaLongShortUpdated\\figs\\gor01_two_2006-6-07_16-40-19\\BatchPhoJonathanReplayFRC-long_only-(48).png\"\n",
      "\tdone.\n",
      "sub_fig_full_input_key: \"display_fn_name:BatchPhoJonathanReplayFRC/plot_result_set:shared/page:1of3/aclus:(7,41,20,23,32,63,46,52,15,54,51,60,50,28,31,49,26,5,40,62)\"\n",
      "a_fig_output_path: \"C:\\Users\\pho\\repos\\Spike3DWorkEnv\\Spike3D\\data\\neptune\\commander.pho\\PhoDibaLongShortUpdated\\figs\\gor01_two_2006-6-07_16-40-19\\BatchPhoJonathanReplayFRC-shared-1of3-(7,41,20,23,32,63,46,52,15,54,51,60,50,28,31,49,26,5,40,62).png\"\n"
     ]
    },
    {
     "data": {
      "application/vnd.jupyter.widget-view+json": {
       "model_id": "7c54d16e1dd84c9a866d8b02f60910e7",
       "version_major": 2,
       "version_minor": 0
      },
      "text/plain": [
       "Fetching file...: 0 [00:00, ?/s]"
      ]
     },
     "metadata": {},
     "output_type": "display_data"
    },
    {
     "name": "stdout",
     "output_type": "stream",
     "text": [
      "\tdone.\n",
      "sub_fig_full_input_key: \"display_fn_name:BatchPhoJonathanReplayFRC/plot_result_set:shared/page:1of6/aclus:(2,4,5,6,7,8,9,11,12,13)\"\n",
      "a_fig_output_path: \"C:\\Users\\pho\\repos\\Spike3DWorkEnv\\Spike3D\\data\\neptune\\commander.pho\\PhoDibaLongShortUpdated\\figs\\gor01_two_2006-6-07_16-40-19\\BatchPhoJonathanReplayFRC-shared-1of6-(2,4,5,6,7,8,9,11,12,13).png\"\n"
     ]
    },
    {
     "data": {
      "application/vnd.jupyter.widget-view+json": {
       "model_id": "7de7fa91a114476e8f12424910f87fcf",
       "version_major": 2,
       "version_minor": 0
      },
      "text/plain": [
       "Fetching file...: 0 [00:00, ?/s]"
      ]
     },
     "metadata": {},
     "output_type": "display_data"
    },
    {
     "name": "stdout",
     "output_type": "stream",
     "text": [
      "\tdone.\n",
      "sub_fig_full_input_key: \"display_fn_name:BatchPhoJonathanReplayFRC/plot_result_set:shared/page:2of3/aclus:(11,55,27,45,24,53,17,56,6,35,34,8,25,21,39,33,44,64,43,2)\"\n",
      "a_fig_output_path: \"C:\\Users\\pho\\repos\\Spike3DWorkEnv\\Spike3D\\data\\neptune\\commander.pho\\PhoDibaLongShortUpdated\\figs\\gor01_two_2006-6-07_16-40-19\\BatchPhoJonathanReplayFRC-shared-2of3-(11,55,27,45,24,53,17,56,6,35,34,8,25,21,39,33,44,64,43,2).png\"\n"
     ]
    },
    {
     "data": {
      "application/vnd.jupyter.widget-view+json": {
       "model_id": "c64d8b74b1174d09ad1c85f82ac8a39b",
       "version_major": 2,
       "version_minor": 0
      },
      "text/plain": [
       "Fetching file...: 0 [00:00, ?/s]"
      ]
     },
     "metadata": {},
     "output_type": "display_data"
    },
    {
     "name": "stdout",
     "output_type": "stream",
     "text": [
      "\tdone.\n",
      "sub_fig_full_input_key: \"display_fn_name:BatchPhoJonathanReplayFRC/plot_result_set:shared/page:2of6/aclus:(14,15,16,17,20,21,22,23,24,25)\"\n",
      "a_fig_output_path: \"C:\\Users\\pho\\repos\\Spike3DWorkEnv\\Spike3D\\data\\neptune\\commander.pho\\PhoDibaLongShortUpdated\\figs\\gor01_two_2006-6-07_16-40-19\\BatchPhoJonathanReplayFRC-shared-2of6-(14,15,16,17,20,21,22,23,24,25).png\"\n",
      "\tdone.\n",
      "sub_fig_full_input_key: \"display_fn_name:BatchPhoJonathanReplayFRC/plot_result_set:shared/page:3of3/aclus:(4,9,12,13,14,16,22,29,30,36,37,38,42,47,57,58,59,61)\"\n",
      "a_fig_output_path: \"C:\\Users\\pho\\repos\\Spike3DWorkEnv\\Spike3D\\data\\neptune\\commander.pho\\PhoDibaLongShortUpdated\\figs\\gor01_two_2006-6-07_16-40-19\\BatchPhoJonathanReplayFRC-shared-3of3-(4,9,12,13,14,16,22,29,30,36,37,38,42,47,57,58,59,61).png\"\n"
     ]
    },
    {
     "data": {
      "application/vnd.jupyter.widget-view+json": {
       "model_id": "e807c994388f40f3bc2bf7e243a3d77e",
       "version_major": 2,
       "version_minor": 0
      },
      "text/plain": [
       "Fetching file...: 0 [00:00, ?/s]"
      ]
     },
     "metadata": {},
     "output_type": "display_data"
    },
    {
     "name": "stdout",
     "output_type": "stream",
     "text": [
      "\tdone.\n",
      "sub_fig_full_input_key: \"display_fn_name:BatchPhoJonathanReplayFRC/plot_result_set:shared/page:3of6/aclus:(26,27,28,29,30,31,32,33,34,35)\"\n",
      "a_fig_output_path: \"C:\\Users\\pho\\repos\\Spike3DWorkEnv\\Spike3D\\data\\neptune\\commander.pho\\PhoDibaLongShortUpdated\\figs\\gor01_two_2006-6-07_16-40-19\\BatchPhoJonathanReplayFRC-shared-3of6-(26,27,28,29,30,31,32,33,34,35).png\"\n"
     ]
    },
    {
     "data": {
      "application/vnd.jupyter.widget-view+json": {
       "model_id": "9fab63a21bb341279d0eefd21d99ffa6",
       "version_major": 2,
       "version_minor": 0
      },
      "text/plain": [
       "Fetching file...: 0 [00:00, ?/s]"
      ]
     },
     "metadata": {},
     "output_type": "display_data"
    },
    {
     "name": "stdout",
     "output_type": "stream",
     "text": [
      "\tdone.\n",
      "sub_fig_full_input_key: \"display_fn_name:BatchPhoJonathanReplayFRC/plot_result_set:shared/page:4of6/aclus:(36,37,38,39,40,41,42,43,44,45)\"\n",
      "a_fig_output_path: \"C:\\Users\\pho\\repos\\Spike3DWorkEnv\\Spike3D\\data\\neptune\\commander.pho\\PhoDibaLongShortUpdated\\figs\\gor01_two_2006-6-07_16-40-19\\BatchPhoJonathanReplayFRC-shared-4of6-(36,37,38,39,40,41,42,43,44,45).png\"\n"
     ]
    },
    {
     "data": {
      "application/vnd.jupyter.widget-view+json": {
       "model_id": "412ddca28ba5435f87010eb300ff6afa",
       "version_major": 2,
       "version_minor": 0
      },
      "text/plain": [
       "Fetching file...: 0 [00:00, ?/s]"
      ]
     },
     "metadata": {},
     "output_type": "display_data"
    },
    {
     "name": "stdout",
     "output_type": "stream",
     "text": [
      "\tdone.\n",
      "sub_fig_full_input_key: \"display_fn_name:BatchPhoJonathanReplayFRC/plot_result_set:shared/page:5of6/aclus:(46,47,49,50,51,52,53,54,55,56)\"\n",
      "a_fig_output_path: \"C:\\Users\\pho\\repos\\Spike3DWorkEnv\\Spike3D\\data\\neptune\\commander.pho\\PhoDibaLongShortUpdated\\figs\\gor01_two_2006-6-07_16-40-19\\BatchPhoJonathanReplayFRC-shared-5of6-(46,47,49,50,51,52,53,54,55,56).png\"\n",
      "\tdone.\n",
      "sub_fig_full_input_key: \"display_fn_name:BatchPhoJonathanReplayFRC/plot_result_set:shared/page:6of6/aclus:(57,58,59,60,61,62,63,64)\"\n",
      "a_fig_output_path: \"C:\\Users\\pho\\repos\\Spike3DWorkEnv\\Spike3D\\data\\neptune\\commander.pho\\PhoDibaLongShortUpdated\\figs\\gor01_two_2006-6-07_16-40-19\\BatchPhoJonathanReplayFRC-shared-6of6-(57,58,59,60,61,62,63,64).png\"\n",
      "\tdone.\n",
      "sub_fig_full_input_key: \"display_fn_name:BatchPhoJonathanReplayFRC/plot_result_set:short_only/aclus:(3,10,18,19,65)\"\n",
      "a_fig_output_path: \"C:\\Users\\pho\\repos\\Spike3DWorkEnv\\Spike3D\\data\\neptune\\commander.pho\\PhoDibaLongShortUpdated\\figs\\gor01_two_2006-6-07_16-40-19\\BatchPhoJonathanReplayFRC-short_only-(3,10,18,19,65).png\"\n",
      "\tdone.\n",
      "a_parsed_structure: {'display_fn_name:_display_grid_bin_bounds_validation': <neptune.attributes.atoms.file.File object at 0x00000282B969FA90>, 'display_fn_name:display_long_short_laps': <neptune.attributes.atoms.file.File object at 0x00000282B969FB80>, 'filter_name:maze1_any': {'lap_dir:any': {'display_fn_name:1d_placefields': <neptune.attributes.atoms.file.File object at 0x00000282BBD657C0>, 'display_fn_name:_display_1d_placefield_validations': <neptune.attributes.atoms.file.File object at 0x00000282BBD65070>, 'display_fn_name:_display_2d_placefield_result_plot_ratemaps_2D': <neptune.attributes.atoms.file.File object at 0x00000282BBD651F0>, 'display_fn_name:plot_occupancy': {'plot_variable:OCCUPANCY': <neptune.attributes.atoms.file.File object at 0x00000282BBD652B0>}}}, 'filter_name:maze1_even': {'lap_dir:even': {'display_fn_name:1d_placefields': <neptune.attributes.atoms.file.File object at 0x00000282BBD653A0>, 'display_fn_name:_display_1d_placefield_validations': <neptune.attributes.atoms.file.File object at 0x00000282BBD652E0>, 'display_fn_name:_display_2d_placefield_result_plot_ratemaps_2D': <neptune.attributes.atoms.file.File object at 0x00000282BBD65520>, 'display_fn_name:plot_occupancy': {'plot_variable:OCCUPANCY': <neptune.attributes.atoms.file.File object at 0x00000282BBD65610>}}}, 'filter_name:maze1_odd': {'lap_dir:odd': {'display_fn_name:1d_placefields': <neptune.attributes.atoms.file.File object at 0x00000282BBD65730>, 'display_fn_name:_display_1d_placefield_validations': <neptune.attributes.atoms.file.File object at 0x00000282BBD65670>, 'display_fn_name:_display_2d_placefield_result_plot_ratemaps_2D': <neptune.attributes.atoms.file.File object at 0x00000282BBD62E80>, 'display_fn_name:plot_occupancy': {'plot_variable:OCCUPANCY': <neptune.attributes.atoms.file.File object at 0x00000282BBD62C70>}}}, 'filter_name:maze2_any': {'lap_dir:any': {'display_fn_name:1d_placefields': <neptune.attributes.atoms.file.File object at 0x00000282BBD62820>, 'display_fn_name:_display_1d_placefield_validations': <neptune.attributes.atoms.file.File object at 0x00000282BC7CD0D0>, 'display_fn_name:_display_2d_placefield_result_plot_ratemaps_2D': <neptune.attributes.atoms.file.File object at 0x00000282BC7CD160>, 'display_fn_name:plot_occupancy': {'plot_variable:OCCUPANCY': <neptune.attributes.atoms.file.File object at 0x00000282BC7CD1C0>}}}, 'filter_name:maze2_even': {'lap_dir:even': {'display_fn_name:1d_placefields': <neptune.attributes.atoms.file.File object at 0x00000282BAEDF0D0>, 'display_fn_name:_display_1d_placefield_validations': <neptune.attributes.atoms.file.File object at 0x00000282BAEDF700>, 'display_fn_name:_display_2d_placefield_result_plot_ratemaps_2D': <neptune.attributes.atoms.file.File object at 0x00000282BAEDF1C0>, 'display_fn_name:plot_occupancy': {'plot_variable:OCCUPANCY': <neptune.attributes.atoms.file.File object at 0x00000282BAEDF220>}}}, 'filter_name:maze2_odd': {'lap_dir:odd': {'display_fn_name:1d_placefields': <neptune.attributes.atoms.file.File object at 0x00000282BAEDFB20>, 'display_fn_name:_display_1d_placefield_validations': <neptune.attributes.atoms.file.File object at 0x00000282BAEDF310>, 'display_fn_name:_display_2d_placefield_result_plot_ratemaps_2D': <neptune.attributes.atoms.file.File object at 0x00000282BAEDFAF0>, 'display_fn_name:plot_occupancy': {'plot_variable:OCCUPANCY': <neptune.attributes.atoms.file.File object at 0x00000282BAEDFE80>}}}, 'filter_name:maze_any': {'lap_dir:any': {'display_fn_name:1d_placefields': <neptune.attributes.atoms.file.File object at 0x00000282BAEDFCA0>, 'display_fn_name:_display_1d_placefield_validations': <neptune.attributes.atoms.file.File object at 0x00000282BB145D30>, 'display_fn_name:_display_2d_placefield_result_plot_ratemaps_2D': <neptune.attributes.atoms.file.File object at 0x00000282BB145B80>, 'display_fn_name:plot_occupancy': {'plot_variable:OCCUPANCY': <neptune.attributes.atoms.file.File object at 0x00000282BB145490>}}}, 'filter_name:maze_even': {'lap_dir:even': {'display_fn_name:1d_placefields': <neptune.attributes.atoms.file.File object at 0x00000282BB145610>, 'display_fn_name:_display_1d_placefield_validations': <neptune.attributes.atoms.file.File object at 0x00000282BB145370>, 'display_fn_name:_display_2d_placefield_result_plot_ratemaps_2D': <neptune.attributes.atoms.file.File object at 0x00000282BB145790>, 'display_fn_name:plot_occupancy': {'plot_variable:OCCUPANCY': <neptune.attributes.atoms.file.File object at 0x00000282BB145820>}}}, 'filter_name:maze_odd': {'lap_dir:odd': {'display_fn_name:1d_placefields': <neptune.attributes.atoms.file.File object at 0x00000282BB145AF0>, 'display_fn_name:_display_1d_placefield_validations': <neptune.attributes.atoms.file.File object at 0x00000282BB1455E0>, 'display_fn_name:_display_2d_placefield_result_plot_ratemaps_2D': <neptune.attributes.atoms.file.File object at 0x00000282BB145EE0>, 'display_fn_name:plot_occupancy': {'plot_variable:OCCUPANCY': <neptune.attributes.atoms.file.File object at 0x00000282BB1459A0>}}}}\n",
      "a_parsed_structure: {'display_fn_name:_display_grid_bin_bounds_validation': <neptune.attributes.atoms.file.File object at 0x00000282BD67DC10>, 'display_fn_name:display_long_short_laps': <neptune.attributes.atoms.file.File object at 0x00000282BD67DC70>, 'filter_name:maze1_any': {'lap_dir:any': {'display_fn_name:1d_placefields': <neptune.attributes.atoms.file.File object at 0x00000282BD672C40>, 'display_fn_name:_display_1d_placefield_validations': <neptune.attributes.atoms.file.File object at 0x00000282BD672AC0>, 'display_fn_name:_display_2d_placefield_result_plot_ratemaps_2D': <neptune.attributes.atoms.file.File object at 0x00000282BD672AF0>, 'display_fn_name:plot_occupancy': {'plot_variable:OCCUPANCY': <neptune.attributes.atoms.file.File object at 0x00000282BD672FD0>}}}, 'filter_name:maze1_even': {'lap_dir:even': {'display_fn_name:1d_placefields': <neptune.attributes.atoms.file.File object at 0x00000282BD672EE0>, 'display_fn_name:_display_1d_placefield_validations': <neptune.attributes.atoms.file.File object at 0x00000282BD672D90>, 'display_fn_name:_display_2d_placefield_result_plot_ratemaps_2D': <neptune.attributes.atoms.file.File object at 0x00000282BD680760>, 'display_fn_name:plot_occupancy': {'plot_variable:OCCUPANCY': <neptune.attributes.atoms.file.File object at 0x00000282BD6807C0>}}}, 'filter_name:maze1_odd': {'lap_dir:odd': {'display_fn_name:1d_placefields': <neptune.attributes.atoms.file.File object at 0x00000282BD680910>, 'display_fn_name:_display_1d_placefield_validations': <neptune.attributes.atoms.file.File object at 0x00000282BD680850>, 'display_fn_name:_display_2d_placefield_result_plot_ratemaps_2D': <neptune.attributes.atoms.file.File object at 0x00000282BD680A30>, 'display_fn_name:plot_occupancy': {'plot_variable:OCCUPANCY': <neptune.attributes.atoms.file.File object at 0x00000282BD680A90>}}}, 'filter_name:maze2_any': {'lap_dir:any': {'display_fn_name:1d_placefields': <neptune.attributes.atoms.file.File object at 0x00000282BD680BE0>, 'display_fn_name:_display_1d_placefield_validations': <neptune.attributes.atoms.file.File object at 0x00000282BD680B20>, 'display_fn_name:_display_2d_placefield_result_plot_ratemaps_2D': <neptune.attributes.atoms.file.File object at 0x00000282BD680D00>, 'display_fn_name:plot_occupancy': {'plot_variable:OCCUPANCY': <neptune.attributes.atoms.file.File object at 0x00000282BD680D60>}}}, 'filter_name:maze2_even': {'lap_dir:even': {'display_fn_name:1d_placefields': <neptune.attributes.atoms.file.File object at 0x00000282BD680E80>, 'display_fn_name:_display_1d_placefield_validations': <neptune.attributes.atoms.file.File object at 0x00000282BD680DF0>, 'display_fn_name:_display_2d_placefield_result_plot_ratemaps_2D': <neptune.attributes.atoms.file.File object at 0x00000282BD680FD0>, 'display_fn_name:plot_occupancy': {'plot_variable:OCCUPANCY': <neptune.attributes.atoms.file.File object at 0x00000282BD67C070>}}}, 'filter_name:maze2_odd': {'lap_dir:odd': {'display_fn_name:1d_placefields': <neptune.attributes.atoms.file.File object at 0x00000282BD67C1C0>, 'display_fn_name:_display_1d_placefield_validations': <neptune.attributes.atoms.file.File object at 0x00000282BD67C190>, 'display_fn_name:_display_2d_placefield_result_plot_ratemaps_2D': <neptune.attributes.atoms.file.File object at 0x00000282BD67C310>, 'display_fn_name:plot_occupancy': {'plot_variable:OCCUPANCY': <neptune.attributes.atoms.file.File object at 0x00000282BD67C2B0>}}}, 'filter_name:maze_any': {'lap_dir:any': {'display_fn_name:1d_placefields': <neptune.attributes.atoms.file.File object at 0x00000282BD67C490>, 'display_fn_name:_display_1d_placefield_validations': <neptune.attributes.atoms.file.File object at 0x00000282BD67C3D0>, 'display_fn_name:_display_2d_placefield_result_plot_ratemaps_2D': <neptune.attributes.atoms.file.File object at 0x00000282BD69D100>, 'display_fn_name:plot_occupancy': {'plot_variable:OCCUPANCY': <neptune.attributes.atoms.file.File object at 0x00000282BD69D160>}}}, 'filter_name:maze_even': {'lap_dir:even': {'display_fn_name:1d_placefields': <neptune.attributes.atoms.file.File object at 0x00000282BD69D070>, 'display_fn_name:_display_1d_placefield_validations': <neptune.attributes.atoms.file.File object at 0x00000282BD69D1F0>, 'display_fn_name:_display_2d_placefield_result_plot_ratemaps_2D': <neptune.attributes.atoms.file.File object at 0x00000282BD69D640>, 'display_fn_name:plot_occupancy': {'plot_variable:OCCUPANCY': <neptune.attributes.atoms.file.File object at 0x00000282BD69D520>}}}, 'filter_name:maze_odd': {'lap_dir:odd': {'display_fn_name:1d_placefields': <neptune.attributes.atoms.file.File object at 0x00000282BD69D4F0>, 'display_fn_name:_display_1d_placefield_validations': <neptune.attributes.atoms.file.File object at 0x00000282BD69D2E0>, 'display_fn_name:_display_2d_placefield_result_plot_ratemaps_2D': <neptune.attributes.atoms.file.File object at 0x00000282BD69D280>, 'display_fn_name:plot_occupancy': {'plot_variable:OCCUPANCY': <neptune.attributes.atoms.file.File object at 0x00000282BD67E7F0>}}}}\n",
      "a_parsed_structure: {'display_fn_name:_display_grid_bin_bounds_validation': <neptune.attributes.atoms.file.File object at 0x00000282BE4DF4C0>, 'display_fn_name:display_long_short_laps': <neptune.attributes.atoms.file.File object at 0x00000282BE4E9070>, 'filter_name:maze1_any': {'lap_dir:any': {'display_fn_name:1d_placefields': <neptune.attributes.atoms.file.File object at 0x00000282BE4E9190>, 'display_fn_name:_display_1d_placefield_validations': <neptune.attributes.atoms.file.File object at 0x00000282BE4E91F0>, 'display_fn_name:_display_2d_placefield_result_plot_ratemaps_2D': <neptune.attributes.atoms.file.File object at 0x00000282BE4E9430>, 'display_fn_name:plot_occupancy': {'plot_variable:OCCUPANCY': <neptune.attributes.atoms.file.File object at 0x00000282BE4E9310>}}}, 'filter_name:maze1_even': {'lap_dir:even': {'display_fn_name:1d_placefields': <neptune.attributes.atoms.file.File object at 0x00000282BE4E9550>, 'display_fn_name:_display_1d_placefield_validations': <neptune.attributes.atoms.file.File object at 0x00000282BE4E94F0>, 'display_fn_name:_display_2d_placefield_result_plot_ratemaps_2D': <neptune.attributes.atoms.file.File object at 0x00000282BE4E9580>, 'display_fn_name:plot_occupancy': {'plot_variable:OCCUPANCY': <neptune.attributes.atoms.file.File object at 0x00000282BE4E93A0>}}}, 'filter_name:maze1_odd': {'lap_dir:odd': {'display_fn_name:1d_placefields': <neptune.attributes.atoms.file.File object at 0x00000282BE4F24F0>, 'display_fn_name:_display_1d_placefield_validations': <neptune.attributes.atoms.file.File object at 0x00000282BE4F2430>, 'display_fn_name:_display_2d_placefield_result_plot_ratemaps_2D': <neptune.attributes.atoms.file.File object at 0x00000282BE4F2610>, 'display_fn_name:plot_occupancy': {'plot_variable:OCCUPANCY': <neptune.attributes.atoms.file.File object at 0x00000282BE4F2670>}}}, 'filter_name:maze2_any': {'lap_dir:any': {'display_fn_name:1d_placefields': <neptune.attributes.atoms.file.File object at 0x00000282BE4F27C0>, 'display_fn_name:_display_1d_placefield_validations': <neptune.attributes.atoms.file.File object at 0x00000282BE4F2700>, 'display_fn_name:_display_2d_placefield_result_plot_ratemaps_2D': <neptune.attributes.atoms.file.File object at 0x00000282BE4F28E0>, 'display_fn_name:plot_occupancy': {'plot_variable:OCCUPANCY': <neptune.attributes.atoms.file.File object at 0x00000282BE4F2940>}}}, 'filter_name:maze2_even': {'lap_dir:even': {'display_fn_name:1d_placefields': <neptune.attributes.atoms.file.File object at 0x00000282BE4F2A90>, 'display_fn_name:_display_1d_placefield_validations': <neptune.attributes.atoms.file.File object at 0x00000282BE4F29D0>, 'display_fn_name:_display_2d_placefield_result_plot_ratemaps_2D': <neptune.attributes.atoms.file.File object at 0x00000282BE4F2BB0>, 'display_fn_name:plot_occupancy': {'plot_variable:OCCUPANCY': <neptune.attributes.atoms.file.File object at 0x00000282BE4F2C10>}}}, 'filter_name:maze2_odd': {'lap_dir:odd': {'display_fn_name:1d_placefields': <neptune.attributes.atoms.file.File object at 0x00000282BE4F2D60>, 'display_fn_name:_display_1d_placefield_validations': <neptune.attributes.atoms.file.File object at 0x00000282BE4F2CA0>, 'display_fn_name:_display_2d_placefield_result_plot_ratemaps_2D': <neptune.attributes.atoms.file.File object at 0x00000282BE4F2E80>, 'display_fn_name:plot_occupancy': {'plot_variable:OCCUPANCY': <neptune.attributes.atoms.file.File object at 0x00000282BE4F2EE0>}}}, 'filter_name:maze_any': {'lap_dir:any': {'display_fn_name:1d_placefields': <neptune.attributes.atoms.file.File object at 0x00000282BE4F2F70>, 'display_fn_name:_display_1d_placefield_validations': <neptune.attributes.atoms.file.File object at 0x00000282BD4E9070>, 'display_fn_name:_display_2d_placefield_result_plot_ratemaps_2D': <neptune.attributes.atoms.file.File object at 0x00000282BD4E9190>, 'display_fn_name:plot_occupancy': {'plot_variable:OCCUPANCY': <neptune.attributes.atoms.file.File object at 0x00000282BD4E91F0>}}}, 'filter_name:maze_even': {'lap_dir:even': {'display_fn_name:1d_placefields': <neptune.attributes.atoms.file.File object at 0x00000282BD4E9340>, 'display_fn_name:_display_1d_placefield_validations': <neptune.attributes.atoms.file.File object at 0x00000282BD4E9280>, 'display_fn_name:_display_2d_placefield_result_plot_ratemaps_2D': <neptune.attributes.atoms.file.File object at 0x00000282BD4E9460>, 'display_fn_name:plot_occupancy': {'plot_variable:OCCUPANCY': <neptune.attributes.atoms.file.File object at 0x00000282BD4E94C0>}}}, 'filter_name:maze_odd': {'lap_dir:odd': {'display_fn_name:1d_placefields': <neptune.attributes.atoms.file.File object at 0x00000282BD4E9610>, 'display_fn_name:_display_1d_placefield_validations': <neptune.attributes.atoms.file.File object at 0x00000282BD4E9550>, 'display_fn_name:_display_2d_placefield_result_plot_ratemaps_2D': <neptune.attributes.atoms.file.File object at 0x00000282BD4E9730>, 'display_fn_name:plot_occupancy': {'plot_variable:OCCUPANCY': <neptune.attributes.atoms.file.File object at 0x00000282BD4E9790>}}}}\n",
      "a_parsed_structure: {'display_fn_name:BatchPhoJonathanReplayFRC': {'plot_result_set:long_only': {'aclus:(103,38,5,23,29,3,63)': <neptune.attributes.atoms.file.File object at 0x00000282BC7CDF40>, 'aclus:(3,5,23,29,38,63,103)': <neptune.attributes.atoms.file.File object at 0x00000282BC7CDD60>}, 'plot_result_set:shared': {'page:10of10': {'aclus:(104)': <neptune.attributes.atoms.file.File object at 0x00000282BC7CD8B0>}, 'page:1of10': {'aclus:(2,4,6,7,8,9,10,11,12,13)': <neptune.attributes.atoms.file.File object at 0x00000282BC7CDB50>}, 'page:1of5': {'aclus:(70,25,14,87,33,19,15,34,92,71,84,51,53,79,89,56,43,30,81,12)': <neptune.attributes.atoms.file.File object at 0x00000282BC7CD700>}, 'page:2of10': {'aclus:(14,15,17,18,19,20,21,22,24,25)': <neptune.attributes.atoms.file.File object at 0x00000282BC7CD370>}, 'page:2of5': {'aclus:(72,44,48,98,35,24,93,39,2,31,80,20,82,11,4,27,66,86,9,90)': <neptune.attributes.atoms.file.File object at 0x00000282BC7CD520>}, 'page:3of10': {'aclus:(26,27,28,30,31,32,33,34,35,36)': <neptune.attributes.atoms.file.File object at 0x00000282BC7CD6D0>}, 'page:3of5': {'aclus:(104,8,6,91,75,13,83,95,57,85,40,60,102,101,28,59,67,52,32,68)': <neptune.attributes.atoms.file.File object at 0x00000282BC7CD6A0>}, 'page:4of10': {'aclus:(37,39,40,41,42,43,44,45,46,47)': <neptune.attributes.atoms.file.File object at 0x00000282BAEDF2E0>}, 'page:4of5': {'aclus:(26,18,61,47,77,58,7,10,17,21,22,36,37,41,42,45,46,49,50,54)': <neptune.attributes.atoms.file.File object at 0x00000282BAEDF730>}, 'page:5of10': {'aclus:(48,49,50,51,52,53,54,56,57,58)': <neptune.attributes.atoms.file.File object at 0x00000282BAEDF9A0>}, 'page:5of5': {'aclus:(64,65,73,74,76,78,88,94,96,97,99)': <neptune.attributes.atoms.file.File object at 0x00000282BAEDFB80>}, 'page:6of10': {'aclus:(59,60,61,64,65,66,67,68,70,71)': <neptune.attributes.atoms.file.File object at 0x00000282BAEDF790>}, 'page:7of10': {'aclus:(72,73,74,75,76,77,78,79,80,81)': <neptune.attributes.atoms.file.File object at 0x00000282B9EC6070>}, 'page:8of10': {'aclus:(82,83,84,85,86,87,88,89,90,91)': <neptune.attributes.atoms.file.File object at 0x00000282B9EC61C0>}, 'page:9of10': {'aclus:(92,93,94,95,96,97,98,99,101,102)': <neptune.attributes.atoms.file.File object at 0x00000282B9EC6130>}}, 'plot_result_set:short_only': {'aclus:(16,55,62,69,100)': <neptune.attributes.atoms.file.File object at 0x00000282B9EC6700>}}, 'display_fn_name:_display_grid_bin_bounds_validation': <neptune.attributes.atoms.file.File object at 0x00000282B9EC6340>, 'display_fn_name:bidir_track_remap': {'subplot_name:Track Remapping': <neptune.attributes.atoms.file.File object at 0x00000282B9EC65E0>}, 'display_fn_name:directional_merged_pf_decoded_epochs': {'decoded_epochs:Laps': {'Marginal:Direction': {'t_bin:0.25': <neptune.attributes.atoms.file.File object at 0x00000282B9EC6640>}, 'Marginal:TrackID': {'t_bin:0.25': <neptune.attributes.atoms.file.File object at 0x00000282B9EC6790>}}, 'decoded_epochs:Ripple': {'Marginal:Direction': {'t_bin:0.025': <neptune.attributes.atoms.file.File object at 0x00000282B9EC6A00>}, 'Marginal:TrackID': {'t_bin:0.025': <neptune.attributes.atoms.file.File object at 0x00000282B9EC6A30>}}}, 'display_fn_name:display_long_short_laps': <neptune.attributes.atoms.file.File object at 0x00000282B9EC68B0>, 'display_fn_name:display_short_long_pf1D_comparison': {'track:long': <neptune.attributes.atoms.file.File object at 0x00000282B9EC6970>, 'track:short': <neptune.attributes.atoms.file.File object at 0x00000282B9EC6910>}, 'display_fn_name:plot_all_epoch_bins_marginal_predictions': {'subplot_name:Laps all_epoch_binned Marginals': <neptune.attributes.atoms.file.File object at 0x00000282B9EC6CA0>, 'subplot_name:Ripple all_epoch_binned Marginals': <neptune.attributes.atoms.file.File object at 0x00000282B9EC6E80>}, 'display_fn_name:plot_expected_vs_observed': {'x_variable:epoch_idx': {'variable:obs_exp_diff_ptp': <neptune.attributes.atoms.file.File object at 0x00000282B9EC6820>}}, 'display_fn_name:plot_histograms': {'subplot_name:laps_result_tuple': <neptune.attributes.atoms.file.File object at 0x00000282B9EC6FD0>, 'subplot_name:ripple_result_tuple': <neptune.attributes.atoms.file.File object at 0x00000282BB0171C0>}, 'display_fn_name:plot_quantile_diffs': {'subplot_name:BestDir': <neptune.attributes.atoms.file.File object at 0x00000282BB017640>}, 'display_fn_name:plot_rank_order_epoch_inst_fr_result_tuples': {'subplot_name:Lap': {'subplotsubplot_name:raw': <neptune.attributes.atoms.file.File object at 0x00000282BB03E190>, 'subplotsubplot_name:z_score_diff': <neptune.attributes.atoms.file.File object at 0x00000282BB046730>}, 'subplot_name:Ripple': {'subplotsubplot_name:raw': <neptune.attributes.atoms.file.File object at 0x00000282BB046610>, 'subplotsubplot_name:z_score_diff': <neptune.attributes.atoms.file.File object at 0x00000282BB0465B0>}}, 'display_fn_name:plot_rank_order_histograms': {'subplot_name:Ripple Most-likely Spearman Rho': <neptune.attributes.atoms.file.File object at 0x00000282BB0464F0>, 'subplot_name:Ripple Most-likely Z-scores': <neptune.attributes.atoms.file.File object at 0x00000282BB046490>, 'subplot_name:Ripple Z-scores': <neptune.attributes.atoms.file.File object at 0x00000282BB0463D0>, 'subplot_name:Ripple real correlations': <neptune.attributes.atoms.file.File object at 0x00000282BB046370>}, 'display_fn_name:running_and_replay_speeds_over_time': <neptune.attributes.atoms.file.File object at 0x00000282BB0462E0>, 'filter_name:maze1_any': {'lap_dir:any': {'display_fn_name:1d_placefields': <neptune.attributes.atoms.file.File object at 0x00000282BB046280>, 'display_fn_name:_display_1d_placefield_validations': <neptune.attributes.atoms.file.File object at 0x00000282BB046220>, 'display_fn_name:_display_2d_placefield_result_plot_ratemaps_2D': <neptune.attributes.atoms.file.File object at 0x00000282BB046100>, 'display_fn_name:plot_occupancy': {'plot_variable:OCCUPANCY': <neptune.attributes.atoms.file.File object at 0x00000282BB0460A0>}, 'display_fn_name:plot_single_track_firing_rate_compare': <neptune.attributes.atoms.file.File object at 0x00000282BB046FD0>}}, 'filter_name:maze1_even': {'lap_dir:even': {'display_fn_name:1d_placefields': <neptune.attributes.atoms.file.File object at 0x00000282BB046F10>, 'display_fn_name:_display_1d_placefield_validations': <neptune.attributes.atoms.file.File object at 0x00000282BB046850>, 'display_fn_name:_display_2d_placefield_result_plot_ratemaps_2D': <neptune.attributes.atoms.file.File object at 0x00000282BB046C40>, 'display_fn_name:plot_occupancy': {'plot_variable:OCCUPANCY': <neptune.attributes.atoms.file.File object at 0x00000282BB046760>}}}, 'filter_name:maze1_odd': {'lap_dir:odd': {'display_fn_name:1d_placefields': <neptune.attributes.atoms.file.File object at 0x00000282BB046A60>, 'display_fn_name:_display_1d_placefield_validations': <neptune.attributes.atoms.file.File object at 0x00000282BB0468E0>, 'display_fn_name:_display_2d_placefield_result_plot_ratemaps_2D': <neptune.attributes.atoms.file.File object at 0x00000282BB046970>, 'display_fn_name:plot_occupancy': {'plot_variable:OCCUPANCY': <neptune.attributes.atoms.file.File object at 0x00000282BB0468B0>}}}, 'filter_name:maze2_any': {'lap_dir:any': {'display_fn_name:1d_placefields': <neptune.attributes.atoms.file.File object at 0x00000282BB0469D0>, 'display_fn_name:_display_1d_placefield_validations': <neptune.attributes.atoms.file.File object at 0x00000282BD9DF4C0>, 'display_fn_name:_display_2d_placefield_result_plot_ratemaps_2D': <neptune.attributes.atoms.file.File object at 0x00000282BD9DF5E0>, 'display_fn_name:plot_occupancy': {'plot_variable:OCCUPANCY': <neptune.attributes.atoms.file.File object at 0x00000282BD9DF6A0>}, 'display_fn_name:plot_single_track_firing_rate_compare': <neptune.attributes.atoms.file.File object at 0x00000282BD9DF850>}}, 'filter_name:maze2_even': {'lap_dir:even': {'display_fn_name:1d_placefields': <neptune.attributes.atoms.file.File object at 0x00000282BD9DF790>, 'display_fn_name:_display_1d_placefield_validations': <neptune.attributes.atoms.file.File object at 0x00000282BD9DF910>, 'display_fn_name:_display_2d_placefield_result_plot_ratemaps_2D': <neptune.attributes.atoms.file.File object at 0x00000282BD9DFA90>, 'display_fn_name:plot_occupancy': {'plot_variable:OCCUPANCY': <neptune.attributes.atoms.file.File object at 0x00000282BD9DFAF0>}}}, 'filter_name:maze2_odd': {'lap_dir:odd': {'display_fn_name:1d_placefields': <neptune.attributes.atoms.file.File object at 0x00000282BD9DFC70>, 'display_fn_name:_display_1d_placefield_validations': <neptune.attributes.atoms.file.File object at 0x00000282BD9DFB20>, 'display_fn_name:_display_2d_placefield_result_plot_ratemaps_2D': <neptune.attributes.atoms.file.File object at 0x00000282BD9DFD60>, 'display_fn_name:plot_occupancy': {'plot_variable:OCCUPANCY': <neptune.attributes.atoms.file.File object at 0x00000282BD9DFDC0>}}}, 'filter_name:maze_any': {'lap_dir:any': {'display_fn_name:1d_placefields': <neptune.attributes.atoms.file.File object at 0x00000282BD9DFF70>, 'display_fn_name:_display_1d_placefield_validations': <neptune.attributes.atoms.file.File object at 0x00000282BD9DFEB0>, 'display_fn_name:_display_2d_placefield_result_plot_ratemaps_2D': <neptune.attributes.atoms.file.File object at 0x00000282BD9DF820>, 'display_fn_name:plot_occupancy': {'plot_variable:OCCUPANCY': <neptune.attributes.atoms.file.File object at 0x00000282BD9DFC40>}}}, 'filter_name:maze_even': {'lap_dir:even': {'display_fn_name:1d_placefields': <neptune.attributes.atoms.file.File object at 0x00000282BD9DF8B0>, 'display_fn_name:_display_1d_placefield_validations': <neptune.attributes.atoms.file.File object at 0x00000282BCA55070>, 'display_fn_name:_display_2d_placefield_result_plot_ratemaps_2D': <neptune.attributes.atoms.file.File object at 0x00000282BCA55310>, 'display_fn_name:plot_occupancy': {'plot_variable:OCCUPANCY': <neptune.attributes.atoms.file.File object at 0x00000282BCA55370>}}}, 'filter_name:maze_odd': {'lap_dir:odd': {'display_fn_name:1d_placefields': <neptune.attributes.atoms.file.File object at 0x00000282BCA554C0>, 'display_fn_name:_display_1d_placefield_validations': <neptune.attributes.atoms.file.File object at 0x00000282BCA55400>, 'display_fn_name:_display_2d_placefield_result_plot_ratemaps_2D': <neptune.attributes.atoms.file.File object at 0x00000282BCA55670>, 'display_fn_name:plot_occupancy': {'plot_variable:OCCUPANCY': <neptune.attributes.atoms.file.File object at 0x00000282BCA556A0>}}}, 'fn_name:long_short_firing_rate_indicies': {'display_fn_name:display_long_short_laps': <neptune.attributes.atoms.file.File object at 0x00000282BCA55850>}}\n",
      "not a figure file! a dictionary instead probably: type(a_fig_file_field): <class 'dict'>\n",
      "sub_fig_full_input_key: \"display_fn_name:BatchPhoJonathanReplayFRC/plot_result_set:long_only/aclus:(103,38,5,23,29,3,63)\"\n",
      "a_fig_output_path: \"C:\\Users\\pho\\repos\\Spike3DWorkEnv\\Spike3D\\data\\neptune\\commander.pho\\PhoDibaLongShortUpdated\\figs\\gor01_one_2006-6-09_1-22-43\\BatchPhoJonathanReplayFRC-long_only-(103,38,5,23,29,3,63).png\"\n",
      "\tdone.\n",
      "sub_fig_full_input_key: \"display_fn_name:BatchPhoJonathanReplayFRC/plot_result_set:long_only/aclus:(3,5,23,29,38,63,103)\"\n",
      "a_fig_output_path: \"C:\\Users\\pho\\repos\\Spike3DWorkEnv\\Spike3D\\data\\neptune\\commander.pho\\PhoDibaLongShortUpdated\\figs\\gor01_one_2006-6-09_1-22-43\\BatchPhoJonathanReplayFRC-long_only-(3,5,23,29,38,63,103).png\"\n",
      "\tdone.\n",
      "sub_fig_full_input_key: \"display_fn_name:BatchPhoJonathanReplayFRC/plot_result_set:shared/page:10of10/aclus:(104)\"\n",
      "a_fig_output_path: \"C:\\Users\\pho\\repos\\Spike3DWorkEnv\\Spike3D\\data\\neptune\\commander.pho\\PhoDibaLongShortUpdated\\figs\\gor01_one_2006-6-09_1-22-43\\BatchPhoJonathanReplayFRC-shared-10of10-(104).png\"\n",
      "\tdone.\n",
      "sub_fig_full_input_key: \"display_fn_name:BatchPhoJonathanReplayFRC/plot_result_set:shared/page:1of10/aclus:(2,4,6,7,8,9,10,11,12,13)\"\n",
      "a_fig_output_path: \"C:\\Users\\pho\\repos\\Spike3DWorkEnv\\Spike3D\\data\\neptune\\commander.pho\\PhoDibaLongShortUpdated\\figs\\gor01_one_2006-6-09_1-22-43\\BatchPhoJonathanReplayFRC-shared-1of10-(2,4,6,7,8,9,10,11,12,13).png\"\n"
     ]
    },
    {
     "data": {
      "application/vnd.jupyter.widget-view+json": {
       "model_id": "def7a32b93c74e708ad9967cc32d519d",
       "version_major": 2,
       "version_minor": 0
      },
      "text/plain": [
       "Fetching file...: 0 [00:00, ?/s]"
      ]
     },
     "metadata": {},
     "output_type": "display_data"
    },
    {
     "name": "stdout",
     "output_type": "stream",
     "text": [
      "\tdone.\n",
      "sub_fig_full_input_key: \"display_fn_name:BatchPhoJonathanReplayFRC/plot_result_set:shared/page:1of5/aclus:(70,25,14,87,33,19,15,34,92,71,84,51,53,79,89,56,43,30,81,12)\"\n",
      "a_fig_output_path: \"C:\\Users\\pho\\repos\\Spike3DWorkEnv\\Spike3D\\data\\neptune\\commander.pho\\PhoDibaLongShortUpdated\\figs\\gor01_one_2006-6-09_1-22-43\\BatchPhoJonathanReplayFRC-shared-1of5-(70,25,14,87,33,19,15,34,92,71,84,51,53,79,89,56,43,30,81,12).png\"\n"
     ]
    },
    {
     "data": {
      "application/vnd.jupyter.widget-view+json": {
       "model_id": "cc094c63b3f343eea59d9c8c4175659f",
       "version_major": 2,
       "version_minor": 0
      },
      "text/plain": [
       "Fetching file...: 0 [00:00, ?/s]"
      ]
     },
     "metadata": {},
     "output_type": "display_data"
    },
    {
     "name": "stdout",
     "output_type": "stream",
     "text": [
      "\tdone.\n",
      "sub_fig_full_input_key: \"display_fn_name:BatchPhoJonathanReplayFRC/plot_result_set:shared/page:2of10/aclus:(14,15,17,18,19,20,21,22,24,25)\"\n",
      "a_fig_output_path: \"C:\\Users\\pho\\repos\\Spike3DWorkEnv\\Spike3D\\data\\neptune\\commander.pho\\PhoDibaLongShortUpdated\\figs\\gor01_one_2006-6-09_1-22-43\\BatchPhoJonathanReplayFRC-shared-2of10-(14,15,17,18,19,20,21,22,24,25).png\"\n"
     ]
    },
    {
     "data": {
      "application/vnd.jupyter.widget-view+json": {
       "model_id": "8bc68e8a4fa24151abf08d708c9b166c",
       "version_major": 2,
       "version_minor": 0
      },
      "text/plain": [
       "Fetching file...: 0 [00:00, ?/s]"
      ]
     },
     "metadata": {},
     "output_type": "display_data"
    },
    {
     "name": "stdout",
     "output_type": "stream",
     "text": [
      "\tdone.\n",
      "sub_fig_full_input_key: \"display_fn_name:BatchPhoJonathanReplayFRC/plot_result_set:shared/page:2of5/aclus:(72,44,48,98,35,24,93,39,2,31,80,20,82,11,4,27,66,86,9,90)\"\n",
      "a_fig_output_path: \"C:\\Users\\pho\\repos\\Spike3DWorkEnv\\Spike3D\\data\\neptune\\commander.pho\\PhoDibaLongShortUpdated\\figs\\gor01_one_2006-6-09_1-22-43\\BatchPhoJonathanReplayFRC-shared-2of5-(72,44,48,98,35,24,93,39,2,31,80,20,82,11,4,27,66,86,9,90).png\"\n"
     ]
    },
    {
     "data": {
      "application/vnd.jupyter.widget-view+json": {
       "model_id": "eedc2b029d744f048c582845231298f2",
       "version_major": 2,
       "version_minor": 0
      },
      "text/plain": [
       "Fetching file...: 0 [00:00, ?/s]"
      ]
     },
     "metadata": {},
     "output_type": "display_data"
    },
    {
     "name": "stdout",
     "output_type": "stream",
     "text": [
      "\tdone.\n",
      "sub_fig_full_input_key: \"display_fn_name:BatchPhoJonathanReplayFRC/plot_result_set:shared/page:3of10/aclus:(26,27,28,30,31,32,33,34,35,36)\"\n",
      "a_fig_output_path: \"C:\\Users\\pho\\repos\\Spike3DWorkEnv\\Spike3D\\data\\neptune\\commander.pho\\PhoDibaLongShortUpdated\\figs\\gor01_one_2006-6-09_1-22-43\\BatchPhoJonathanReplayFRC-shared-3of10-(26,27,28,30,31,32,33,34,35,36).png\"\n",
      "\tdone.\n",
      "sub_fig_full_input_key: \"display_fn_name:BatchPhoJonathanReplayFRC/plot_result_set:shared/page:3of5/aclus:(104,8,6,91,75,13,83,95,57,85,40,60,102,101,28,59,67,52,32,68)\"\n",
      "a_fig_output_path: \"C:\\Users\\pho\\repos\\Spike3DWorkEnv\\Spike3D\\data\\neptune\\commander.pho\\PhoDibaLongShortUpdated\\figs\\gor01_one_2006-6-09_1-22-43\\BatchPhoJonathanReplayFRC-shared-3of5-(104,8,6,91,75,13,83,95,57,85,40,60,102,101,28,59,67,52,32,68).png\"\n"
     ]
    },
    {
     "data": {
      "application/vnd.jupyter.widget-view+json": {
       "model_id": "02e2ad4070944d32a17a567fb9d1023e",
       "version_major": 2,
       "version_minor": 0
      },
      "text/plain": [
       "Fetching file...: 0 [00:00, ?/s]"
      ]
     },
     "metadata": {},
     "output_type": "display_data"
    },
    {
     "name": "stdout",
     "output_type": "stream",
     "text": [
      "\tdone.\n",
      "sub_fig_full_input_key: \"display_fn_name:BatchPhoJonathanReplayFRC/plot_result_set:shared/page:4of10/aclus:(37,39,40,41,42,43,44,45,46,47)\"\n",
      "a_fig_output_path: \"C:\\Users\\pho\\repos\\Spike3DWorkEnv\\Spike3D\\data\\neptune\\commander.pho\\PhoDibaLongShortUpdated\\figs\\gor01_one_2006-6-09_1-22-43\\BatchPhoJonathanReplayFRC-shared-4of10-(37,39,40,41,42,43,44,45,46,47).png\"\n"
     ]
    },
    {
     "data": {
      "application/vnd.jupyter.widget-view+json": {
       "model_id": "ff2ab682d5ca4c82a6ea41df1c81e855",
       "version_major": 2,
       "version_minor": 0
      },
      "text/plain": [
       "Fetching file...: 0 [00:00, ?/s]"
      ]
     },
     "metadata": {},
     "output_type": "display_data"
    },
    {
     "name": "stdout",
     "output_type": "stream",
     "text": [
      "\tdone.\n",
      "sub_fig_full_input_key: \"display_fn_name:BatchPhoJonathanReplayFRC/plot_result_set:shared/page:4of5/aclus:(26,18,61,47,77,58,7,10,17,21,22,36,37,41,42,45,46,49,50,54)\"\n",
      "a_fig_output_path: \"C:\\Users\\pho\\repos\\Spike3DWorkEnv\\Spike3D\\data\\neptune\\commander.pho\\PhoDibaLongShortUpdated\\figs\\gor01_one_2006-6-09_1-22-43\\BatchPhoJonathanReplayFRC-shared-4of5-(26,18,61,47,77,58,7,10,17,21,22,36,37,41,42,45,46,49,50,54).png\"\n"
     ]
    },
    {
     "data": {
      "application/vnd.jupyter.widget-view+json": {
       "model_id": "2c811c16b9c2453e8c06ad85449e7eeb",
       "version_major": 2,
       "version_minor": 0
      },
      "text/plain": [
       "Fetching file...: 0 [00:00, ?/s]"
      ]
     },
     "metadata": {},
     "output_type": "display_data"
    },
    {
     "name": "stdout",
     "output_type": "stream",
     "text": [
      "\tdone.\n",
      "sub_fig_full_input_key: \"display_fn_name:BatchPhoJonathanReplayFRC/plot_result_set:shared/page:5of10/aclus:(48,49,50,51,52,53,54,56,57,58)\"\n",
      "a_fig_output_path: \"C:\\Users\\pho\\repos\\Spike3DWorkEnv\\Spike3D\\data\\neptune\\commander.pho\\PhoDibaLongShortUpdated\\figs\\gor01_one_2006-6-09_1-22-43\\BatchPhoJonathanReplayFRC-shared-5of10-(48,49,50,51,52,53,54,56,57,58).png\"\n"
     ]
    },
    {
     "data": {
      "application/vnd.jupyter.widget-view+json": {
       "model_id": "fefe4eaffb94440499c31341eed5cc6b",
       "version_major": 2,
       "version_minor": 0
      },
      "text/plain": [
       "Fetching file...: 0 [00:00, ?/s]"
      ]
     },
     "metadata": {},
     "output_type": "display_data"
    },
    {
     "name": "stdout",
     "output_type": "stream",
     "text": [
      "\tdone.\n",
      "sub_fig_full_input_key: \"display_fn_name:BatchPhoJonathanReplayFRC/plot_result_set:shared/page:5of5/aclus:(64,65,73,74,76,78,88,94,96,97,99)\"\n",
      "a_fig_output_path: \"C:\\Users\\pho\\repos\\Spike3DWorkEnv\\Spike3D\\data\\neptune\\commander.pho\\PhoDibaLongShortUpdated\\figs\\gor01_one_2006-6-09_1-22-43\\BatchPhoJonathanReplayFRC-shared-5of5-(64,65,73,74,76,78,88,94,96,97,99).png\"\n"
     ]
    },
    {
     "data": {
      "application/vnd.jupyter.widget-view+json": {
       "model_id": "0ea737968c2f43f995b451f2d076bbf7",
       "version_major": 2,
       "version_minor": 0
      },
      "text/plain": [
       "Fetching file...: 0 [00:00, ?/s]"
      ]
     },
     "metadata": {},
     "output_type": "display_data"
    },
    {
     "name": "stdout",
     "output_type": "stream",
     "text": [
      "\tdone.\n",
      "sub_fig_full_input_key: \"display_fn_name:BatchPhoJonathanReplayFRC/plot_result_set:shared/page:6of10/aclus:(59,60,61,64,65,66,67,68,70,71)\"\n",
      "a_fig_output_path: \"C:\\Users\\pho\\repos\\Spike3DWorkEnv\\Spike3D\\data\\neptune\\commander.pho\\PhoDibaLongShortUpdated\\figs\\gor01_one_2006-6-09_1-22-43\\BatchPhoJonathanReplayFRC-shared-6of10-(59,60,61,64,65,66,67,68,70,71).png\"\n"
     ]
    },
    {
     "data": {
      "application/vnd.jupyter.widget-view+json": {
       "model_id": "536d6c16435b4953a1078be44b4c8d7b",
       "version_major": 2,
       "version_minor": 0
      },
      "text/plain": [
       "Fetching file...: 0 [00:00, ?/s]"
      ]
     },
     "metadata": {},
     "output_type": "display_data"
    },
    {
     "name": "stdout",
     "output_type": "stream",
     "text": [
      "\tdone.\n",
      "sub_fig_full_input_key: \"display_fn_name:BatchPhoJonathanReplayFRC/plot_result_set:shared/page:7of10/aclus:(72,73,74,75,76,77,78,79,80,81)\"\n",
      "a_fig_output_path: \"C:\\Users\\pho\\repos\\Spike3DWorkEnv\\Spike3D\\data\\neptune\\commander.pho\\PhoDibaLongShortUpdated\\figs\\gor01_one_2006-6-09_1-22-43\\BatchPhoJonathanReplayFRC-shared-7of10-(72,73,74,75,76,77,78,79,80,81).png\"\n"
     ]
    },
    {
     "data": {
      "application/vnd.jupyter.widget-view+json": {
       "model_id": "d976e40b22304d7ca4ea2ff3f49fef6a",
       "version_major": 2,
       "version_minor": 0
      },
      "text/plain": [
       "Fetching file...: 0 [00:00, ?/s]"
      ]
     },
     "metadata": {},
     "output_type": "display_data"
    },
    {
     "name": "stdout",
     "output_type": "stream",
     "text": [
      "\tdone.\n",
      "sub_fig_full_input_key: \"display_fn_name:BatchPhoJonathanReplayFRC/plot_result_set:shared/page:8of10/aclus:(82,83,84,85,86,87,88,89,90,91)\"\n",
      "a_fig_output_path: \"C:\\Users\\pho\\repos\\Spike3DWorkEnv\\Spike3D\\data\\neptune\\commander.pho\\PhoDibaLongShortUpdated\\figs\\gor01_one_2006-6-09_1-22-43\\BatchPhoJonathanReplayFRC-shared-8of10-(82,83,84,85,86,87,88,89,90,91).png\"\n"
     ]
    },
    {
     "data": {
      "application/vnd.jupyter.widget-view+json": {
       "model_id": "2ed62137eedb4bb9b85f8c3500dfd186",
       "version_major": 2,
       "version_minor": 0
      },
      "text/plain": [
       "Fetching file...: 0 [00:00, ?/s]"
      ]
     },
     "metadata": {},
     "output_type": "display_data"
    },
    {
     "name": "stdout",
     "output_type": "stream",
     "text": [
      "\tdone.\n",
      "sub_fig_full_input_key: \"display_fn_name:BatchPhoJonathanReplayFRC/plot_result_set:shared/page:9of10/aclus:(92,93,94,95,96,97,98,99,101,102)\"\n",
      "a_fig_output_path: \"C:\\Users\\pho\\repos\\Spike3DWorkEnv\\Spike3D\\data\\neptune\\commander.pho\\PhoDibaLongShortUpdated\\figs\\gor01_one_2006-6-09_1-22-43\\BatchPhoJonathanReplayFRC-shared-9of10-(92,93,94,95,96,97,98,99,101,102).png\"\n"
     ]
    },
    {
     "data": {
      "application/vnd.jupyter.widget-view+json": {
       "model_id": "a08cf7f8708541cf8e404e2608794ed0",
       "version_major": 2,
       "version_minor": 0
      },
      "text/plain": [
       "Fetching file...: 0 [00:00, ?/s]"
      ]
     },
     "metadata": {},
     "output_type": "display_data"
    },
    {
     "name": "stdout",
     "output_type": "stream",
     "text": [
      "\tdone.\n",
      "sub_fig_full_input_key: \"display_fn_name:BatchPhoJonathanReplayFRC/plot_result_set:short_only/aclus:(16,55,62,69,100)\"\n",
      "a_fig_output_path: \"C:\\Users\\pho\\repos\\Spike3DWorkEnv\\Spike3D\\data\\neptune\\commander.pho\\PhoDibaLongShortUpdated\\figs\\gor01_one_2006-6-09_1-22-43\\BatchPhoJonathanReplayFRC-short_only-(16,55,62,69,100).png\"\n",
      "\tdone.\n",
      "a_parsed_structure: {'display_fn_name:BatchPhoJonathanReplayFRC': {'plot_result_set:long_only': {'aclus:(103,38,5,23,29,3,63)': <neptune.attributes.atoms.file.File object at 0x00000282BD5D9D60>, 'aclus:(3,5,23,29,38,63,103)': <neptune.attributes.atoms.file.File object at 0x00000282BD5D9A00>}, 'plot_result_set:shared': {'page:10of10': {'aclus:(104)': <neptune.attributes.atoms.file.File object at 0x00000282BD5D9B50>}, 'page:1of10': {'aclus:(2,4,6,7,8,9,10,11,12,13)': <neptune.attributes.atoms.file.File object at 0x00000282BD5E31F0>}, 'page:1of5': {'aclus:(70,25,14,87,33,19,15,34,92,71,84,51,53,79,89,56,43,30,81,12)': <neptune.attributes.atoms.file.File object at 0x00000282BD5D59A0>}, 'page:2of10': {'aclus:(14,15,17,18,19,20,21,22,24,25)': <neptune.attributes.atoms.file.File object at 0x00000282BD5D5A90>}, 'page:2of5': {'aclus:(72,44,48,98,35,24,93,39,2,31,80,20,82,11,4,27,66,86,9,90)': <neptune.attributes.atoms.file.File object at 0x00000282BD5D5B80>}, 'page:3of10': {'aclus:(26,27,28,30,31,32,33,34,35,36)': <neptune.attributes.atoms.file.File object at 0x00000282BD5D5C70>}, 'page:3of5': {'aclus:(104,8,6,91,75,13,83,95,57,85,40,60,102,101,28,59,67,52,32,68)': <neptune.attributes.atoms.file.File object at 0x00000282BD5D5D60>}, 'page:4of10': {'aclus:(37,39,40,41,42,43,44,45,46,47)': <neptune.attributes.atoms.file.File object at 0x00000282BD5D5E50>}, 'page:4of5': {'aclus:(26,18,61,47,77,58,7,10,17,21,22,36,37,41,42,45,46,49,50,54)': <neptune.attributes.atoms.file.File object at 0x00000282BD5D5F40>}, 'page:5of10': {'aclus:(48,49,50,51,52,53,54,56,57,58)': <neptune.attributes.atoms.file.File object at 0x00000282BD5D5F70>}, 'page:5of5': {'aclus:(64,65,73,74,76,78,88,94,96,97,99)': <neptune.attributes.atoms.file.File object at 0x00000282B9EE5160>}, 'page:6of10': {'aclus:(59,60,61,64,65,66,67,68,70,71)': <neptune.attributes.atoms.file.File object at 0x00000282B9EE5250>}, 'page:7of10': {'aclus:(72,73,74,75,76,77,78,79,80,81)': <neptune.attributes.atoms.file.File object at 0x00000282B9EE5340>}, 'page:8of10': {'aclus:(82,83,84,85,86,87,88,89,90,91)': <neptune.attributes.atoms.file.File object at 0x00000282B9EE54C0>}, 'page:9of10': {'aclus:(92,93,94,95,96,97,98,99,101,102)': <neptune.attributes.atoms.file.File object at 0x00000282B9EE5520>}}, 'plot_result_set:short_only': {'aclus:(16,55,62,69,100)': <neptune.attributes.atoms.file.File object at 0x00000282B9EE5610>}}, 'display_fn_name:_display_grid_bin_bounds_validation': <neptune.attributes.atoms.file.File object at 0x00000282B9EE5550>, 'display_fn_name:bidir_track_remap': {'subplot_name:Track Remapping': <neptune.attributes.atoms.file.File object at 0x00000282B9EEB040>}, 'display_fn_name:directional_merged_pf_decoded_epochs': {'decoded_epochs:Laps': {'Marginal:Direction': {'t_bin:0.25': <neptune.attributes.atoms.file.File object at 0x00000282B9EEB0D0>}, 'Marginal:TrackID': {'t_bin:0.25': <neptune.attributes.atoms.file.File object at 0x00000282B9EEB400>}}, 'decoded_epochs:Ripple': {'Marginal:Direction': {'t_bin:0.025': <neptune.attributes.atoms.file.File object at 0x00000282B9EEB070>}, 'Marginal:TrackID': {'t_bin:0.025': <neptune.attributes.atoms.file.File object at 0x00000282B9EEB550>}}}, 'display_fn_name:display_long_short_laps': <neptune.attributes.atoms.file.File object at 0x00000282B9EEB760>, 'display_fn_name:display_short_long_pf1D_comparison': {'track:long': <neptune.attributes.atoms.file.File object at 0x00000282B9EEB850>, 'track:short': <neptune.attributes.atoms.file.File object at 0x00000282B9EEB790>}, 'display_fn_name:plot_all_epoch_bins_marginal_predictions': {'subplot_name:Laps all_epoch_binned Marginals': <neptune.attributes.atoms.file.File object at 0x00000282B9EEB820>, 'subplot_name:Ripple all_epoch_binned Marginals': <neptune.attributes.atoms.file.File object at 0x00000282B9EEB7C0>}, 'display_fn_name:plot_expected_vs_observed': {'x_variable:epoch_idx': {'variable:obs_exp_diff_ptp': <neptune.attributes.atoms.file.File object at 0x00000282B9EE39A0>}}, 'display_fn_name:plot_histograms': {'subplot_name:laps_result_tuple': <neptune.attributes.atoms.file.File object at 0x00000282B9EE3A00>, 'subplot_name:ripple_result_tuple': <neptune.attributes.atoms.file.File object at 0x00000282B9EE3B20>}, 'display_fn_name:plot_quantile_diffs': {'subplot_name:BestDir': <neptune.attributes.atoms.file.File object at 0x00000282B9EE3BE0>}, 'display_fn_name:plot_rank_order_epoch_inst_fr_result_tuples': {'subplot_name:Lap': {'subplotsubplot_name:raw': <neptune.attributes.atoms.file.File object at 0x00000282B9EE3C40>, 'subplotsubplot_name:z_score_diff': <neptune.attributes.atoms.file.File object at 0x00000282B9EE3D00>}, 'subplot_name:Ripple': {'subplotsubplot_name:raw': <neptune.attributes.atoms.file.File object at 0x00000282B9EE3E20>, 'subplotsubplot_name:z_score_diff': <neptune.attributes.atoms.file.File object at 0x00000282B9EE3E80>}}, 'display_fn_name:plot_rank_order_histograms': {'subplot_name:Ripple Most-likely Spearman Rho': <neptune.attributes.atoms.file.File object at 0x00000282B9EE3F40>, 'subplot_name:Ripple Most-likely Z-scores': <neptune.attributes.atoms.file.File object at 0x00000282B9EE3FA0>, 'subplot_name:Ripple Z-scores': <neptune.attributes.atoms.file.File object at 0x00000282B9EED0A0>, 'subplot_name:Ripple real correlations': <neptune.attributes.atoms.file.File object at 0x00000282B9EED100>}, 'display_fn_name:running_and_replay_speeds_over_time': <neptune.attributes.atoms.file.File object at 0x00000282B9EED160>, 'filter_name:maze1_any': {'lap_dir:any': {'display_fn_name:1d_placefields': <neptune.attributes.atoms.file.File object at 0x00000282B9EED1C0>, 'display_fn_name:_display_1d_placefield_validations': <neptune.attributes.atoms.file.File object at 0x00000282B9EED220>, 'display_fn_name:_display_2d_placefield_result_plot_ratemaps_2D': <neptune.attributes.atoms.file.File object at 0x00000282B9EED340>, 'display_fn_name:plot_occupancy': {'plot_variable:OCCUPANCY': <neptune.attributes.atoms.file.File object at 0x00000282B9EED3A0>}, 'display_fn_name:plot_single_track_firing_rate_compare': <neptune.attributes.atoms.file.File object at 0x00000282B9EED4F0>}}, 'filter_name:maze1_even': {'lap_dir:even': {'display_fn_name:1d_placefields': <neptune.attributes.atoms.file.File object at 0x00000282B9EED430>, 'display_fn_name:_display_1d_placefield_validations': <neptune.attributes.atoms.file.File object at 0x00000282B9EED550>, 'display_fn_name:_display_2d_placefield_result_plot_ratemaps_2D': <neptune.attributes.atoms.file.File object at 0x00000282B9EED670>, 'display_fn_name:plot_occupancy': {'plot_variable:OCCUPANCY': <neptune.attributes.atoms.file.File object at 0x00000282B9EED6D0>}}}, 'filter_name:maze1_odd': {'lap_dir:odd': {'display_fn_name:1d_placefields': <neptune.attributes.atoms.file.File object at 0x00000282B9EED820>, 'display_fn_name:_display_1d_placefield_validations': <neptune.attributes.atoms.file.File object at 0x00000282B9EED760>, 'display_fn_name:_display_2d_placefield_result_plot_ratemaps_2D': <neptune.attributes.atoms.file.File object at 0x00000282B9EED940>, 'display_fn_name:plot_occupancy': {'plot_variable:OCCUPANCY': <neptune.attributes.atoms.file.File object at 0x00000282B9EED9A0>}}}, 'filter_name:maze2_any': {'lap_dir:any': {'display_fn_name:1d_placefields': <neptune.attributes.atoms.file.File object at 0x00000282B9EEDAF0>, 'display_fn_name:_display_1d_placefield_validations': <neptune.attributes.atoms.file.File object at 0x00000282B9EEDA30>, 'display_fn_name:_display_2d_placefield_result_plot_ratemaps_2D': <neptune.attributes.atoms.file.File object at 0x00000282B9EEDC10>, 'display_fn_name:plot_occupancy': {'plot_variable:OCCUPANCY': <neptune.attributes.atoms.file.File object at 0x00000282B9EEDC70>}, 'display_fn_name:plot_single_track_firing_rate_compare': <neptune.attributes.atoms.file.File object at 0x00000282B9EEDDC0>}}, 'filter_name:maze2_even': {'lap_dir:even': {'display_fn_name:1d_placefields': <neptune.attributes.atoms.file.File object at 0x00000282B9EEDD00>, 'display_fn_name:_display_1d_placefield_validations': <neptune.attributes.atoms.file.File object at 0x00000282B9EEDE20>, 'display_fn_name:_display_2d_placefield_result_plot_ratemaps_2D': <neptune.attributes.atoms.file.File object at 0x00000282B9EEDF40>, 'display_fn_name:plot_occupancy': {'plot_variable:OCCUPANCY': <neptune.attributes.atoms.file.File object at 0x00000282B9EEDFA0>}}}, 'filter_name:maze2_odd': {'lap_dir:odd': {'display_fn_name:1d_placefields': <neptune.attributes.atoms.file.File object at 0x00000282B9EEA130>, 'display_fn_name:_display_1d_placefield_validations': <neptune.attributes.atoms.file.File object at 0x00000282B9EEA070>, 'display_fn_name:_display_2d_placefield_result_plot_ratemaps_2D': <neptune.attributes.atoms.file.File object at 0x00000282B9EEA250>, 'display_fn_name:plot_occupancy': {'plot_variable:OCCUPANCY': <neptune.attributes.atoms.file.File object at 0x00000282B9EEA2B0>}}}, 'filter_name:maze_any': {'lap_dir:any': {'display_fn_name:1d_placefields': <neptune.attributes.atoms.file.File object at 0x00000282B9EEA400>, 'display_fn_name:_display_1d_placefield_validations': <neptune.attributes.atoms.file.File object at 0x00000282B9EEA340>, 'display_fn_name:_display_2d_placefield_result_plot_ratemaps_2D': <neptune.attributes.atoms.file.File object at 0x00000282B9EEA520>, 'display_fn_name:plot_occupancy': {'plot_variable:OCCUPANCY': <neptune.attributes.atoms.file.File object at 0x00000282B9EEA580>}}}, 'filter_name:maze_even': {'lap_dir:even': {'display_fn_name:1d_placefields': <neptune.attributes.atoms.file.File object at 0x00000282B9EEA6D0>, 'display_fn_name:_display_1d_placefield_validations': <neptune.attributes.atoms.file.File object at 0x00000282B9EEA610>, 'display_fn_name:_display_2d_placefield_result_plot_ratemaps_2D': <neptune.attributes.atoms.file.File object at 0x00000282B9EEA7F0>, 'display_fn_name:plot_occupancy': {'plot_variable:OCCUPANCY': <neptune.attributes.atoms.file.File object at 0x00000282B9EEA850>}}}, 'filter_name:maze_odd': {'lap_dir:odd': {'display_fn_name:1d_placefields': <neptune.attributes.atoms.file.File object at 0x00000282B9EEA9A0>, 'display_fn_name:_display_1d_placefield_validations': <neptune.attributes.atoms.file.File object at 0x00000282B9EEA8E0>, 'display_fn_name:_display_2d_placefield_result_plot_ratemaps_2D': <neptune.attributes.atoms.file.File object at 0x00000282B9EEAAC0>, 'display_fn_name:plot_occupancy': {'plot_variable:OCCUPANCY': <neptune.attributes.atoms.file.File object at 0x00000282B9EEAB20>}}}, 'fn_name:long_short_firing_rate_indicies': {'display_fn_name:display_long_short_laps': <neptune.attributes.atoms.file.File object at 0x00000282B9EEAC70>}}\n",
      "not a figure file! a dictionary instead probably: type(a_fig_file_field): <class 'dict'>\n",
      "sub_fig_full_input_key: \"display_fn_name:BatchPhoJonathanReplayFRC/plot_result_set:long_only/aclus:(103,38,5,23,29,3,63)\"\n",
      "a_fig_output_path: \"C:\\Users\\pho\\repos\\Spike3DWorkEnv\\Spike3D\\data\\neptune\\commander.pho\\PhoDibaLongShortUpdated\\figs\\gor01_one_2006-6-09_1-22-43\\BatchPhoJonathanReplayFRC-long_only-(103,38,5,23,29,3,63).png\"\n",
      "\tdone.\n",
      "sub_fig_full_input_key: \"display_fn_name:BatchPhoJonathanReplayFRC/plot_result_set:long_only/aclus:(3,5,23,29,38,63,103)\"\n",
      "a_fig_output_path: \"C:\\Users\\pho\\repos\\Spike3DWorkEnv\\Spike3D\\data\\neptune\\commander.pho\\PhoDibaLongShortUpdated\\figs\\gor01_one_2006-6-09_1-22-43\\BatchPhoJonathanReplayFRC-long_only-(3,5,23,29,38,63,103).png\"\n",
      "\tdone.\n",
      "sub_fig_full_input_key: \"display_fn_name:BatchPhoJonathanReplayFRC/plot_result_set:shared/page:10of10/aclus:(104)\"\n",
      "a_fig_output_path: \"C:\\Users\\pho\\repos\\Spike3DWorkEnv\\Spike3D\\data\\neptune\\commander.pho\\PhoDibaLongShortUpdated\\figs\\gor01_one_2006-6-09_1-22-43\\BatchPhoJonathanReplayFRC-shared-10of10-(104).png\"\n",
      "\tdone.\n",
      "sub_fig_full_input_key: \"display_fn_name:BatchPhoJonathanReplayFRC/plot_result_set:shared/page:1of10/aclus:(2,4,6,7,8,9,10,11,12,13)\"\n",
      "a_fig_output_path: \"C:\\Users\\pho\\repos\\Spike3DWorkEnv\\Spike3D\\data\\neptune\\commander.pho\\PhoDibaLongShortUpdated\\figs\\gor01_one_2006-6-09_1-22-43\\BatchPhoJonathanReplayFRC-shared-1of10-(2,4,6,7,8,9,10,11,12,13).png\"\n"
     ]
    },
    {
     "data": {
      "application/vnd.jupyter.widget-view+json": {
       "model_id": "2b14fcbd82e643ea9755a95a32bfd130",
       "version_major": 2,
       "version_minor": 0
      },
      "text/plain": [
       "Fetching file...: 0 [00:00, ?/s]"
      ]
     },
     "metadata": {},
     "output_type": "display_data"
    },
    {
     "name": "stdout",
     "output_type": "stream",
     "text": [
      "\tdone.\n",
      "sub_fig_full_input_key: \"display_fn_name:BatchPhoJonathanReplayFRC/plot_result_set:shared/page:1of5/aclus:(70,25,14,87,33,19,15,34,92,71,84,51,53,79,89,56,43,30,81,12)\"\n",
      "a_fig_output_path: \"C:\\Users\\pho\\repos\\Spike3DWorkEnv\\Spike3D\\data\\neptune\\commander.pho\\PhoDibaLongShortUpdated\\figs\\gor01_one_2006-6-09_1-22-43\\BatchPhoJonathanReplayFRC-shared-1of5-(70,25,14,87,33,19,15,34,92,71,84,51,53,79,89,56,43,30,81,12).png\"\n"
     ]
    },
    {
     "data": {
      "application/vnd.jupyter.widget-view+json": {
       "model_id": "15d5e4165479463fb143e13ea90537eb",
       "version_major": 2,
       "version_minor": 0
      },
      "text/plain": [
       "Fetching file...: 0 [00:00, ?/s]"
      ]
     },
     "metadata": {},
     "output_type": "display_data"
    },
    {
     "name": "stdout",
     "output_type": "stream",
     "text": [
      "\tdone.\n",
      "sub_fig_full_input_key: \"display_fn_name:BatchPhoJonathanReplayFRC/plot_result_set:shared/page:2of10/aclus:(14,15,17,18,19,20,21,22,24,25)\"\n",
      "a_fig_output_path: \"C:\\Users\\pho\\repos\\Spike3DWorkEnv\\Spike3D\\data\\neptune\\commander.pho\\PhoDibaLongShortUpdated\\figs\\gor01_one_2006-6-09_1-22-43\\BatchPhoJonathanReplayFRC-shared-2of10-(14,15,17,18,19,20,21,22,24,25).png\"\n"
     ]
    },
    {
     "data": {
      "application/vnd.jupyter.widget-view+json": {
       "model_id": "0bbba73976984351acfc4b6e3219827d",
       "version_major": 2,
       "version_minor": 0
      },
      "text/plain": [
       "Fetching file...: 0 [00:00, ?/s]"
      ]
     },
     "metadata": {},
     "output_type": "display_data"
    },
    {
     "name": "stdout",
     "output_type": "stream",
     "text": [
      "\tdone.\n",
      "sub_fig_full_input_key: \"display_fn_name:BatchPhoJonathanReplayFRC/plot_result_set:shared/page:2of5/aclus:(72,44,48,98,35,24,93,39,2,31,80,20,82,11,4,27,66,86,9,90)\"\n",
      "a_fig_output_path: \"C:\\Users\\pho\\repos\\Spike3DWorkEnv\\Spike3D\\data\\neptune\\commander.pho\\PhoDibaLongShortUpdated\\figs\\gor01_one_2006-6-09_1-22-43\\BatchPhoJonathanReplayFRC-shared-2of5-(72,44,48,98,35,24,93,39,2,31,80,20,82,11,4,27,66,86,9,90).png\"\n"
     ]
    },
    {
     "data": {
      "application/vnd.jupyter.widget-view+json": {
       "model_id": "afa0a54233b94e369e8a7bb968681854",
       "version_major": 2,
       "version_minor": 0
      },
      "text/plain": [
       "Fetching file...: 0 [00:00, ?/s]"
      ]
     },
     "metadata": {},
     "output_type": "display_data"
    },
    {
     "name": "stdout",
     "output_type": "stream",
     "text": [
      "\tdone.\n",
      "sub_fig_full_input_key: \"display_fn_name:BatchPhoJonathanReplayFRC/plot_result_set:shared/page:3of10/aclus:(26,27,28,30,31,32,33,34,35,36)\"\n",
      "a_fig_output_path: \"C:\\Users\\pho\\repos\\Spike3DWorkEnv\\Spike3D\\data\\neptune\\commander.pho\\PhoDibaLongShortUpdated\\figs\\gor01_one_2006-6-09_1-22-43\\BatchPhoJonathanReplayFRC-shared-3of10-(26,27,28,30,31,32,33,34,35,36).png\"\n",
      "\tdone.\n",
      "sub_fig_full_input_key: \"display_fn_name:BatchPhoJonathanReplayFRC/plot_result_set:shared/page:3of5/aclus:(104,8,6,91,75,13,83,95,57,85,40,60,102,101,28,59,67,52,32,68)\"\n",
      "a_fig_output_path: \"C:\\Users\\pho\\repos\\Spike3DWorkEnv\\Spike3D\\data\\neptune\\commander.pho\\PhoDibaLongShortUpdated\\figs\\gor01_one_2006-6-09_1-22-43\\BatchPhoJonathanReplayFRC-shared-3of5-(104,8,6,91,75,13,83,95,57,85,40,60,102,101,28,59,67,52,32,68).png\"\n"
     ]
    },
    {
     "data": {
      "application/vnd.jupyter.widget-view+json": {
       "model_id": "d459cf07a1a24468995f88786f7a2f76",
       "version_major": 2,
       "version_minor": 0
      },
      "text/plain": [
       "Fetching file...: 0 [00:00, ?/s]"
      ]
     },
     "metadata": {},
     "output_type": "display_data"
    },
    {
     "name": "stdout",
     "output_type": "stream",
     "text": [
      "\tdone.\n",
      "sub_fig_full_input_key: \"display_fn_name:BatchPhoJonathanReplayFRC/plot_result_set:shared/page:4of10/aclus:(37,39,40,41,42,43,44,45,46,47)\"\n",
      "a_fig_output_path: \"C:\\Users\\pho\\repos\\Spike3DWorkEnv\\Spike3D\\data\\neptune\\commander.pho\\PhoDibaLongShortUpdated\\figs\\gor01_one_2006-6-09_1-22-43\\BatchPhoJonathanReplayFRC-shared-4of10-(37,39,40,41,42,43,44,45,46,47).png\"\n"
     ]
    },
    {
     "data": {
      "application/vnd.jupyter.widget-view+json": {
       "model_id": "35f1c7bc397d4adfabc9a78e6c2bd7c1",
       "version_major": 2,
       "version_minor": 0
      },
      "text/plain": [
       "Fetching file...: 0 [00:00, ?/s]"
      ]
     },
     "metadata": {},
     "output_type": "display_data"
    },
    {
     "name": "stdout",
     "output_type": "stream",
     "text": [
      "\tdone.\n",
      "sub_fig_full_input_key: \"display_fn_name:BatchPhoJonathanReplayFRC/plot_result_set:shared/page:4of5/aclus:(26,18,61,47,77,58,7,10,17,21,22,36,37,41,42,45,46,49,50,54)\"\n",
      "a_fig_output_path: \"C:\\Users\\pho\\repos\\Spike3DWorkEnv\\Spike3D\\data\\neptune\\commander.pho\\PhoDibaLongShortUpdated\\figs\\gor01_one_2006-6-09_1-22-43\\BatchPhoJonathanReplayFRC-shared-4of5-(26,18,61,47,77,58,7,10,17,21,22,36,37,41,42,45,46,49,50,54).png\"\n"
     ]
    },
    {
     "data": {
      "application/vnd.jupyter.widget-view+json": {
       "model_id": "bd397d5d0d96489698f161a526656318",
       "version_major": 2,
       "version_minor": 0
      },
      "text/plain": [
       "Fetching file...: 0 [00:00, ?/s]"
      ]
     },
     "metadata": {},
     "output_type": "display_data"
    },
    {
     "name": "stdout",
     "output_type": "stream",
     "text": [
      "\tdone.\n",
      "sub_fig_full_input_key: \"display_fn_name:BatchPhoJonathanReplayFRC/plot_result_set:shared/page:5of10/aclus:(48,49,50,51,52,53,54,56,57,58)\"\n",
      "a_fig_output_path: \"C:\\Users\\pho\\repos\\Spike3DWorkEnv\\Spike3D\\data\\neptune\\commander.pho\\PhoDibaLongShortUpdated\\figs\\gor01_one_2006-6-09_1-22-43\\BatchPhoJonathanReplayFRC-shared-5of10-(48,49,50,51,52,53,54,56,57,58).png\"\n"
     ]
    },
    {
     "data": {
      "application/vnd.jupyter.widget-view+json": {
       "model_id": "cb93437672a64a6895eb37014d558f46",
       "version_major": 2,
       "version_minor": 0
      },
      "text/plain": [
       "Fetching file...: 0 [00:00, ?/s]"
      ]
     },
     "metadata": {},
     "output_type": "display_data"
    },
    {
     "name": "stdout",
     "output_type": "stream",
     "text": [
      "\tdone.\n",
      "sub_fig_full_input_key: \"display_fn_name:BatchPhoJonathanReplayFRC/plot_result_set:shared/page:5of5/aclus:(64,65,73,74,76,78,88,94,96,97,99)\"\n",
      "a_fig_output_path: \"C:\\Users\\pho\\repos\\Spike3DWorkEnv\\Spike3D\\data\\neptune\\commander.pho\\PhoDibaLongShortUpdated\\figs\\gor01_one_2006-6-09_1-22-43\\BatchPhoJonathanReplayFRC-shared-5of5-(64,65,73,74,76,78,88,94,96,97,99).png\"\n"
     ]
    },
    {
     "data": {
      "application/vnd.jupyter.widget-view+json": {
       "model_id": "b762d24fcb824033bf5fb327e8ec11b2",
       "version_major": 2,
       "version_minor": 0
      },
      "text/plain": [
       "Fetching file...: 0 [00:00, ?/s]"
      ]
     },
     "metadata": {},
     "output_type": "display_data"
    },
    {
     "name": "stdout",
     "output_type": "stream",
     "text": [
      "\tdone.\n",
      "sub_fig_full_input_key: \"display_fn_name:BatchPhoJonathanReplayFRC/plot_result_set:shared/page:6of10/aclus:(59,60,61,64,65,66,67,68,70,71)\"\n",
      "a_fig_output_path: \"C:\\Users\\pho\\repos\\Spike3DWorkEnv\\Spike3D\\data\\neptune\\commander.pho\\PhoDibaLongShortUpdated\\figs\\gor01_one_2006-6-09_1-22-43\\BatchPhoJonathanReplayFRC-shared-6of10-(59,60,61,64,65,66,67,68,70,71).png\"\n"
     ]
    },
    {
     "data": {
      "application/vnd.jupyter.widget-view+json": {
       "model_id": "d29671e835ba44fbabb3dea18ce1c689",
       "version_major": 2,
       "version_minor": 0
      },
      "text/plain": [
       "Fetching file...: 0 [00:00, ?/s]"
      ]
     },
     "metadata": {},
     "output_type": "display_data"
    },
    {
     "name": "stdout",
     "output_type": "stream",
     "text": [
      "\tdone.\n",
      "sub_fig_full_input_key: \"display_fn_name:BatchPhoJonathanReplayFRC/plot_result_set:shared/page:7of10/aclus:(72,73,74,75,76,77,78,79,80,81)\"\n",
      "a_fig_output_path: \"C:\\Users\\pho\\repos\\Spike3DWorkEnv\\Spike3D\\data\\neptune\\commander.pho\\PhoDibaLongShortUpdated\\figs\\gor01_one_2006-6-09_1-22-43\\BatchPhoJonathanReplayFRC-shared-7of10-(72,73,74,75,76,77,78,79,80,81).png\"\n"
     ]
    },
    {
     "data": {
      "application/vnd.jupyter.widget-view+json": {
       "model_id": "3a3c7fb278f84533b35f3359d714fcdd",
       "version_major": 2,
       "version_minor": 0
      },
      "text/plain": [
       "Fetching file...: 0 [00:00, ?/s]"
      ]
     },
     "metadata": {},
     "output_type": "display_data"
    },
    {
     "name": "stdout",
     "output_type": "stream",
     "text": [
      "\tdone.\n",
      "sub_fig_full_input_key: \"display_fn_name:BatchPhoJonathanReplayFRC/plot_result_set:shared/page:8of10/aclus:(82,83,84,85,86,87,88,89,90,91)\"\n",
      "a_fig_output_path: \"C:\\Users\\pho\\repos\\Spike3DWorkEnv\\Spike3D\\data\\neptune\\commander.pho\\PhoDibaLongShortUpdated\\figs\\gor01_one_2006-6-09_1-22-43\\BatchPhoJonathanReplayFRC-shared-8of10-(82,83,84,85,86,87,88,89,90,91).png\"\n"
     ]
    },
    {
     "data": {
      "application/vnd.jupyter.widget-view+json": {
       "model_id": "d07f8023cd7d471ab3dd451487a5e663",
       "version_major": 2,
       "version_minor": 0
      },
      "text/plain": [
       "Fetching file...: 0 [00:00, ?/s]"
      ]
     },
     "metadata": {},
     "output_type": "display_data"
    },
    {
     "name": "stdout",
     "output_type": "stream",
     "text": [
      "\tdone.\n",
      "sub_fig_full_input_key: \"display_fn_name:BatchPhoJonathanReplayFRC/plot_result_set:shared/page:9of10/aclus:(92,93,94,95,96,97,98,99,101,102)\"\n",
      "a_fig_output_path: \"C:\\Users\\pho\\repos\\Spike3DWorkEnv\\Spike3D\\data\\neptune\\commander.pho\\PhoDibaLongShortUpdated\\figs\\gor01_one_2006-6-09_1-22-43\\BatchPhoJonathanReplayFRC-shared-9of10-(92,93,94,95,96,97,98,99,101,102).png\"\n"
     ]
    },
    {
     "data": {
      "application/vnd.jupyter.widget-view+json": {
       "model_id": "d558800c8409431799c59c03695229e2",
       "version_major": 2,
       "version_minor": 0
      },
      "text/plain": [
       "Fetching file...: 0 [00:00, ?/s]"
      ]
     },
     "metadata": {},
     "output_type": "display_data"
    },
    {
     "name": "stdout",
     "output_type": "stream",
     "text": [
      "\tdone.\n",
      "sub_fig_full_input_key: \"display_fn_name:BatchPhoJonathanReplayFRC/plot_result_set:short_only/aclus:(16,55,62,69,100)\"\n",
      "a_fig_output_path: \"C:\\Users\\pho\\repos\\Spike3DWorkEnv\\Spike3D\\data\\neptune\\commander.pho\\PhoDibaLongShortUpdated\\figs\\gor01_one_2006-6-09_1-22-43\\BatchPhoJonathanReplayFRC-short_only-(16,55,62,69,100).png\"\n",
      "\tdone.\n",
      "a_parsed_structure: {'display_fn_name:BatchPhoJonathanReplayFRC': {'plot_result_set:long_only': {'aclus:(103,38,5,23,29,3,63)': <neptune.attributes.atoms.file.File object at 0x00000282BDD82EE0>, 'aclus:(3,5,23,29,38,63,103)': <neptune.attributes.atoms.file.File object at 0x00000282BDD82EB0>}, 'plot_result_set:shared': {'page:10of10': {'aclus:(104)': <neptune.attributes.atoms.file.File object at 0x00000282BDD8B580>}, 'page:1of10': {'aclus:(2,4,6,7,8,9,10,11,12,13)': <neptune.attributes.atoms.file.File object at 0x00000282BDD8B0A0>}, 'page:1of5': {'aclus:(70,25,14,87,33,19,15,34,92,71,84,51,53,79,89,56,43,30,81,12)': <neptune.attributes.atoms.file.File object at 0x00000282BDD8B190>}, 'page:2of10': {'aclus:(14,15,17,18,19,20,21,22,24,25)': <neptune.attributes.atoms.file.File object at 0x00000282BDD8B370>}, 'page:2of5': {'aclus:(72,44,48,98,35,24,93,39,2,31,80,20,82,11,4,27,66,86,9,90)': <neptune.attributes.atoms.file.File object at 0x00000282BDD8B220>}, 'page:3of10': {'aclus:(26,27,28,30,31,32,33,34,35,36)': <neptune.attributes.atoms.file.File object at 0x00000282BDD8B280>}, 'page:3of5': {'aclus:(104,8,6,91,75,13,83,95,57,85,40,60,102,101,28,59,67,52,32,68)': <neptune.attributes.atoms.file.File object at 0x00000282BDD8B250>}, 'page:4of10': {'aclus:(37,39,40,41,42,43,44,45,46,47)': <neptune.attributes.atoms.file.File object at 0x00000282BDDAA640>}, 'page:4of5': {'aclus:(26,18,61,47,77,58,7,10,17,21,22,36,37,41,42,45,46,49,50,54)': <neptune.attributes.atoms.file.File object at 0x00000282BDDAA730>}, 'page:5of10': {'aclus:(48,49,50,51,52,53,54,56,57,58)': <neptune.attributes.atoms.file.File object at 0x00000282BDDAA820>}, 'page:5of5': {'aclus:(64,65,73,74,76,78,88,94,96,97,99)': <neptune.attributes.atoms.file.File object at 0x00000282BDDAA910>}, 'page:6of10': {'aclus:(59,60,61,64,65,66,67,68,70,71)': <neptune.attributes.atoms.file.File object at 0x00000282BDDAAA00>}, 'page:7of10': {'aclus:(72,73,74,75,76,77,78,79,80,81)': <neptune.attributes.atoms.file.File object at 0x00000282BDDAAAF0>}, 'page:8of10': {'aclus:(82,83,84,85,86,87,88,89,90,91)': <neptune.attributes.atoms.file.File object at 0x00000282BDDAABE0>}, 'page:9of10': {'aclus:(92,93,94,95,96,97,98,99,101,102)': <neptune.attributes.atoms.file.File object at 0x00000282BDDAACD0>}}, 'plot_result_set:short_only': {'aclus:(16,55,62,69,100)': <neptune.attributes.atoms.file.File object at 0x00000282BDDAADC0>}}, 'display_fn_name:_display_grid_bin_bounds_validation': <neptune.attributes.atoms.file.File object at 0x00000282BDDAAD00>, 'display_fn_name:bidir_track_remap': {'subplot_name:Track Remapping': <neptune.attributes.atoms.file.File object at 0x00000282BDDAAE80>}, 'display_fn_name:directional_merged_pf_decoded_epochs': {'decoded_epochs:Laps': {'Marginal:Direction': {'t_bin:0.25': <neptune.attributes.atoms.file.File object at 0x00000282BDDAAEE0>}, 'Marginal:TrackID': {'t_bin:0.25': <neptune.attributes.atoms.file.File object at 0x00000282BDDAAFD0>}}, 'decoded_epochs:Ripple': {'Marginal:Direction': {'t_bin:0.025': <neptune.attributes.atoms.file.File object at 0x00000282BDD88280>}, 'Marginal:TrackID': {'t_bin:0.025': <neptune.attributes.atoms.file.File object at 0x00000282BDD883D0>}}}, 'display_fn_name:display_long_short_laps': <neptune.attributes.atoms.file.File object at 0x00000282BDD884C0>, 'display_fn_name:display_short_long_pf1D_comparison': {'track:long': <neptune.attributes.atoms.file.File object at 0x00000282BDD88400>, 'track:short': <neptune.attributes.atoms.file.File object at 0x00000282BDD88520>}, 'display_fn_name:plot_all_epoch_bins_marginal_predictions': {'subplot_name:Laps all_epoch_binned Marginals': <neptune.attributes.atoms.file.File object at 0x00000282BDD885E0>, 'subplot_name:Ripple all_epoch_binned Marginals': <neptune.attributes.atoms.file.File object at 0x00000282BDD88640>}, 'display_fn_name:plot_expected_vs_observed': {'x_variable:epoch_idx': {'variable:obs_exp_diff_ptp': <neptune.attributes.atoms.file.File object at 0x00000282BDD88700>}}, 'display_fn_name:plot_histograms': {'subplot_name:laps_result_tuple': <neptune.attributes.atoms.file.File object at 0x00000282BDD88760>, 'subplot_name:ripple_result_tuple': <neptune.attributes.atoms.file.File object at 0x00000282BDD88880>}, 'display_fn_name:plot_quantile_diffs': {'subplot_name:BestDir': <neptune.attributes.atoms.file.File object at 0x00000282BDD88940>}, 'display_fn_name:plot_rank_order_epoch_inst_fr_result_tuples': {'subplot_name:Lap': {'subplotsubplot_name:raw': <neptune.attributes.atoms.file.File object at 0x00000282BDD889A0>, 'subplotsubplot_name:z_score_diff': <neptune.attributes.atoms.file.File object at 0x00000282BDD88A60>}, 'subplot_name:Ripple': {'subplotsubplot_name:raw': <neptune.attributes.atoms.file.File object at 0x00000282BDD88B80>, 'subplotsubplot_name:z_score_diff': <neptune.attributes.atoms.file.File object at 0x00000282BDD88BE0>}}, 'display_fn_name:plot_rank_order_histograms': {'subplot_name:Ripple Most-likely Spearman Rho': <neptune.attributes.atoms.file.File object at 0x00000282BDD88CA0>, 'subplot_name:Ripple Most-likely Z-scores': <neptune.attributes.atoms.file.File object at 0x00000282BDD88D00>, 'subplot_name:Ripple Z-scores': <neptune.attributes.atoms.file.File object at 0x00000282BDD88DC0>, 'subplot_name:Ripple real correlations': <neptune.attributes.atoms.file.File object at 0x00000282BDD88E20>}, 'display_fn_name:running_and_replay_speeds_over_time': <neptune.attributes.atoms.file.File object at 0x00000282BDD88E80>, 'display_fn_name:trial_to_trial_reliability': <neptune.attributes.atoms.file.File object at 0x00000282BDD88EE0>, 'filter_name:maze1_any': {'lap_dir:any': {'display_fn_name:1d_placefields': <neptune.attributes.atoms.file.File object at 0x00000282BDD88F40>, 'display_fn_name:_display_1d_placefield_validations': <neptune.attributes.atoms.file.File object at 0x00000282BDD88FA0>, 'display_fn_name:_display_2d_placefield_result_plot_ratemaps_2D': <neptune.attributes.atoms.file.File object at 0x00000282BDD92100>, 'display_fn_name:plot_occupancy': {'plot_variable:OCCUPANCY': <neptune.attributes.atoms.file.File object at 0x00000282BDD92160>}, 'display_fn_name:plot_single_track_firing_rate_compare': <neptune.attributes.atoms.file.File object at 0x00000282BDD922B0>}}, 'filter_name:maze1_even': {'lap_dir:even': {'display_fn_name:1d_placefields': <neptune.attributes.atoms.file.File object at 0x00000282BDD921F0>, 'display_fn_name:_display_1d_placefield_validations': <neptune.attributes.atoms.file.File object at 0x00000282BDD92310>, 'display_fn_name:_display_2d_placefield_result_plot_ratemaps_2D': <neptune.attributes.atoms.file.File object at 0x00000282BDD92430>, 'display_fn_name:plot_occupancy': {'plot_variable:OCCUPANCY': <neptune.attributes.atoms.file.File object at 0x00000282BDD92490>}}}, 'filter_name:maze1_odd': {'lap_dir:odd': {'display_fn_name:1d_placefields': <neptune.attributes.atoms.file.File object at 0x00000282BDD925E0>, 'display_fn_name:_display_1d_placefield_validations': <neptune.attributes.atoms.file.File object at 0x00000282BDD92520>, 'display_fn_name:_display_2d_placefield_result_plot_ratemaps_2D': <neptune.attributes.atoms.file.File object at 0x00000282BDD92700>, 'display_fn_name:plot_occupancy': {'plot_variable:OCCUPANCY': <neptune.attributes.atoms.file.File object at 0x00000282BDD92760>}}}, 'filter_name:maze2_any': {'lap_dir:any': {'display_fn_name:1d_placefields': <neptune.attributes.atoms.file.File object at 0x00000282BDD928B0>, 'display_fn_name:_display_1d_placefield_validations': <neptune.attributes.atoms.file.File object at 0x00000282BDD927F0>, 'display_fn_name:_display_2d_placefield_result_plot_ratemaps_2D': <neptune.attributes.atoms.file.File object at 0x00000282BDD929D0>, 'display_fn_name:plot_occupancy': {'plot_variable:OCCUPANCY': <neptune.attributes.atoms.file.File object at 0x00000282BDD92A30>}, 'display_fn_name:plot_single_track_firing_rate_compare': <neptune.attributes.atoms.file.File object at 0x00000282BDD92B80>}}, 'filter_name:maze2_even': {'lap_dir:even': {'display_fn_name:1d_placefields': <neptune.attributes.atoms.file.File object at 0x00000282BDD92AC0>, 'display_fn_name:_display_1d_placefield_validations': <neptune.attributes.atoms.file.File object at 0x00000282BDD92BE0>, 'display_fn_name:_display_2d_placefield_result_plot_ratemaps_2D': <neptune.attributes.atoms.file.File object at 0x00000282BDD92D00>, 'display_fn_name:plot_occupancy': {'plot_variable:OCCUPANCY': <neptune.attributes.atoms.file.File object at 0x00000282BDD92D60>}}}, 'filter_name:maze2_odd': {'lap_dir:odd': {'display_fn_name:1d_placefields': <neptune.attributes.atoms.file.File object at 0x00000282BDD92EB0>, 'display_fn_name:_display_1d_placefield_validations': <neptune.attributes.atoms.file.File object at 0x00000282BDD92DF0>, 'display_fn_name:_display_2d_placefield_result_plot_ratemaps_2D': <neptune.attributes.atoms.file.File object at 0x00000282BDD92FD0>, 'display_fn_name:plot_occupancy': {'plot_variable:OCCUPANCY': <neptune.attributes.atoms.file.File object at 0x00000282BDD93070>}}}, 'filter_name:maze_any': {'lap_dir:any': {'display_fn_name:1d_placefields': <neptune.attributes.atoms.file.File object at 0x00000282BDD931C0>, 'display_fn_name:_display_1d_placefield_validations': <neptune.attributes.atoms.file.File object at 0x00000282BDD93100>, 'display_fn_name:_display_2d_placefield_result_plot_ratemaps_2D': <neptune.attributes.atoms.file.File object at 0x00000282BDD932E0>, 'display_fn_name:plot_occupancy': {'plot_variable:OCCUPANCY': <neptune.attributes.atoms.file.File object at 0x00000282BDD93340>}}}, 'filter_name:maze_even': {'lap_dir:even': {'display_fn_name:1d_placefields': <neptune.attributes.atoms.file.File object at 0x00000282BDD93490>, 'display_fn_name:_display_1d_placefield_validations': <neptune.attributes.atoms.file.File object at 0x00000282BDD933D0>, 'display_fn_name:_display_2d_placefield_result_plot_ratemaps_2D': <neptune.attributes.atoms.file.File object at 0x00000282BDD935B0>, 'display_fn_name:plot_occupancy': {'plot_variable:OCCUPANCY': <neptune.attributes.atoms.file.File object at 0x00000282BDD93610>}}}, 'filter_name:maze_odd': {'lap_dir:odd': {'display_fn_name:1d_placefields': <neptune.attributes.atoms.file.File object at 0x00000282BDD93760>, 'display_fn_name:_display_1d_placefield_validations': <neptune.attributes.atoms.file.File object at 0x00000282BDD936A0>, 'display_fn_name:_display_2d_placefield_result_plot_ratemaps_2D': <neptune.attributes.atoms.file.File object at 0x00000282BDD93880>, 'display_fn_name:plot_occupancy': {'plot_variable:OCCUPANCY': <neptune.attributes.atoms.file.File object at 0x00000282BDD938E0>}}}, 'fn_name:long_short_firing_rate_indicies': {'display_fn_name:display_long_short_laps': <neptune.attributes.atoms.file.File object at 0x00000282BDD93A30>}}\n",
      "not a figure file! a dictionary instead probably: type(a_fig_file_field): <class 'dict'>\n",
      "sub_fig_full_input_key: \"display_fn_name:BatchPhoJonathanReplayFRC/plot_result_set:long_only/aclus:(103,38,5,23,29,3,63)\"\n",
      "a_fig_output_path: \"C:\\Users\\pho\\repos\\Spike3DWorkEnv\\Spike3D\\data\\neptune\\commander.pho\\PhoDibaLongShortUpdated\\figs\\gor01_one_2006-6-09_1-22-43\\BatchPhoJonathanReplayFRC-long_only-(103,38,5,23,29,3,63).png\"\n",
      "\tdone.\n",
      "sub_fig_full_input_key: \"display_fn_name:BatchPhoJonathanReplayFRC/plot_result_set:long_only/aclus:(3,5,23,29,38,63,103)\"\n",
      "a_fig_output_path: \"C:\\Users\\pho\\repos\\Spike3DWorkEnv\\Spike3D\\data\\neptune\\commander.pho\\PhoDibaLongShortUpdated\\figs\\gor01_one_2006-6-09_1-22-43\\BatchPhoJonathanReplayFRC-long_only-(3,5,23,29,38,63,103).png\"\n",
      "\tdone.\n",
      "sub_fig_full_input_key: \"display_fn_name:BatchPhoJonathanReplayFRC/plot_result_set:shared/page:10of10/aclus:(104)\"\n",
      "a_fig_output_path: \"C:\\Users\\pho\\repos\\Spike3DWorkEnv\\Spike3D\\data\\neptune\\commander.pho\\PhoDibaLongShortUpdated\\figs\\gor01_one_2006-6-09_1-22-43\\BatchPhoJonathanReplayFRC-shared-10of10-(104).png\"\n",
      "\tdone.\n",
      "sub_fig_full_input_key: \"display_fn_name:BatchPhoJonathanReplayFRC/plot_result_set:shared/page:1of10/aclus:(2,4,6,7,8,9,10,11,12,13)\"\n",
      "a_fig_output_path: \"C:\\Users\\pho\\repos\\Spike3DWorkEnv\\Spike3D\\data\\neptune\\commander.pho\\PhoDibaLongShortUpdated\\figs\\gor01_one_2006-6-09_1-22-43\\BatchPhoJonathanReplayFRC-shared-1of10-(2,4,6,7,8,9,10,11,12,13).png\"\n",
      "\tdone.\n",
      "sub_fig_full_input_key: \"display_fn_name:BatchPhoJonathanReplayFRC/plot_result_set:shared/page:1of5/aclus:(70,25,14,87,33,19,15,34,92,71,84,51,53,79,89,56,43,30,81,12)\"\n",
      "a_fig_output_path: \"C:\\Users\\pho\\repos\\Spike3DWorkEnv\\Spike3D\\data\\neptune\\commander.pho\\PhoDibaLongShortUpdated\\figs\\gor01_one_2006-6-09_1-22-43\\BatchPhoJonathanReplayFRC-shared-1of5-(70,25,14,87,33,19,15,34,92,71,84,51,53,79,89,56,43,30,81,12).png\"\n"
     ]
    },
    {
     "data": {
      "application/vnd.jupyter.widget-view+json": {
       "model_id": "8a50e04b2fb141a28c36ac3b5d9744a5",
       "version_major": 2,
       "version_minor": 0
      },
      "text/plain": [
       "Fetching file...: 0 [00:00, ?/s]"
      ]
     },
     "metadata": {},
     "output_type": "display_data"
    },
    {
     "name": "stdout",
     "output_type": "stream",
     "text": [
      "\tdone.\n",
      "sub_fig_full_input_key: \"display_fn_name:BatchPhoJonathanReplayFRC/plot_result_set:shared/page:2of10/aclus:(14,15,17,18,19,20,21,22,24,25)\"\n",
      "a_fig_output_path: \"C:\\Users\\pho\\repos\\Spike3DWorkEnv\\Spike3D\\data\\neptune\\commander.pho\\PhoDibaLongShortUpdated\\figs\\gor01_one_2006-6-09_1-22-43\\BatchPhoJonathanReplayFRC-shared-2of10-(14,15,17,18,19,20,21,22,24,25).png\"\n",
      "\tdone.\n",
      "sub_fig_full_input_key: \"display_fn_name:BatchPhoJonathanReplayFRC/plot_result_set:shared/page:2of5/aclus:(72,44,48,98,35,24,93,39,2,31,80,20,82,11,4,27,66,86,9,90)\"\n",
      "a_fig_output_path: \"C:\\Users\\pho\\repos\\Spike3DWorkEnv\\Spike3D\\data\\neptune\\commander.pho\\PhoDibaLongShortUpdated\\figs\\gor01_one_2006-6-09_1-22-43\\BatchPhoJonathanReplayFRC-shared-2of5-(72,44,48,98,35,24,93,39,2,31,80,20,82,11,4,27,66,86,9,90).png\"\n"
     ]
    },
    {
     "data": {
      "application/vnd.jupyter.widget-view+json": {
       "model_id": "81efeed836bd4827b607b07785345c11",
       "version_major": 2,
       "version_minor": 0
      },
      "text/plain": [
       "Fetching file...: 0 [00:00, ?/s]"
      ]
     },
     "metadata": {},
     "output_type": "display_data"
    },
    {
     "name": "stdout",
     "output_type": "stream",
     "text": [
      "\tdone.\n",
      "sub_fig_full_input_key: \"display_fn_name:BatchPhoJonathanReplayFRC/plot_result_set:shared/page:3of10/aclus:(26,27,28,30,31,32,33,34,35,36)\"\n",
      "a_fig_output_path: \"C:\\Users\\pho\\repos\\Spike3DWorkEnv\\Spike3D\\data\\neptune\\commander.pho\\PhoDibaLongShortUpdated\\figs\\gor01_one_2006-6-09_1-22-43\\BatchPhoJonathanReplayFRC-shared-3of10-(26,27,28,30,31,32,33,34,35,36).png\"\n",
      "\tdone.\n",
      "sub_fig_full_input_key: \"display_fn_name:BatchPhoJonathanReplayFRC/plot_result_set:shared/page:3of5/aclus:(104,8,6,91,75,13,83,95,57,85,40,60,102,101,28,59,67,52,32,68)\"\n",
      "a_fig_output_path: \"C:\\Users\\pho\\repos\\Spike3DWorkEnv\\Spike3D\\data\\neptune\\commander.pho\\PhoDibaLongShortUpdated\\figs\\gor01_one_2006-6-09_1-22-43\\BatchPhoJonathanReplayFRC-shared-3of5-(104,8,6,91,75,13,83,95,57,85,40,60,102,101,28,59,67,52,32,68).png\"\n"
     ]
    },
    {
     "data": {
      "application/vnd.jupyter.widget-view+json": {
       "model_id": "93cf0de3eaf549ebac784a50538ebe4d",
       "version_major": 2,
       "version_minor": 0
      },
      "text/plain": [
       "Fetching file...: 0 [00:00, ?/s]"
      ]
     },
     "metadata": {},
     "output_type": "display_data"
    },
    {
     "name": "stdout",
     "output_type": "stream",
     "text": [
      "\tdone.\n",
      "sub_fig_full_input_key: \"display_fn_name:BatchPhoJonathanReplayFRC/plot_result_set:shared/page:4of10/aclus:(37,39,40,41,42,43,44,45,46,47)\"\n",
      "a_fig_output_path: \"C:\\Users\\pho\\repos\\Spike3DWorkEnv\\Spike3D\\data\\neptune\\commander.pho\\PhoDibaLongShortUpdated\\figs\\gor01_one_2006-6-09_1-22-43\\BatchPhoJonathanReplayFRC-shared-4of10-(37,39,40,41,42,43,44,45,46,47).png\"\n"
     ]
    },
    {
     "data": {
      "application/vnd.jupyter.widget-view+json": {
       "model_id": "95ea1ebd4da24cf9befcfab46c994ee1",
       "version_major": 2,
       "version_minor": 0
      },
      "text/plain": [
       "Fetching file...: 0 [00:00, ?/s]"
      ]
     },
     "metadata": {},
     "output_type": "display_data"
    },
    {
     "name": "stdout",
     "output_type": "stream",
     "text": [
      "\tdone.\n",
      "sub_fig_full_input_key: \"display_fn_name:BatchPhoJonathanReplayFRC/plot_result_set:shared/page:4of5/aclus:(26,18,61,47,77,58,7,10,17,21,22,36,37,41,42,45,46,49,50,54)\"\n",
      "a_fig_output_path: \"C:\\Users\\pho\\repos\\Spike3DWorkEnv\\Spike3D\\data\\neptune\\commander.pho\\PhoDibaLongShortUpdated\\figs\\gor01_one_2006-6-09_1-22-43\\BatchPhoJonathanReplayFRC-shared-4of5-(26,18,61,47,77,58,7,10,17,21,22,36,37,41,42,45,46,49,50,54).png\"\n"
     ]
    },
    {
     "data": {
      "application/vnd.jupyter.widget-view+json": {
       "model_id": "86cf9cd3cae2404ba6bd349a61a1a35c",
       "version_major": 2,
       "version_minor": 0
      },
      "text/plain": [
       "Fetching file...: 0 [00:00, ?/s]"
      ]
     },
     "metadata": {},
     "output_type": "display_data"
    },
    {
     "name": "stdout",
     "output_type": "stream",
     "text": [
      "\tdone.\n",
      "sub_fig_full_input_key: \"display_fn_name:BatchPhoJonathanReplayFRC/plot_result_set:shared/page:5of10/aclus:(48,49,50,51,52,53,54,56,57,58)\"\n",
      "a_fig_output_path: \"C:\\Users\\pho\\repos\\Spike3DWorkEnv\\Spike3D\\data\\neptune\\commander.pho\\PhoDibaLongShortUpdated\\figs\\gor01_one_2006-6-09_1-22-43\\BatchPhoJonathanReplayFRC-shared-5of10-(48,49,50,51,52,53,54,56,57,58).png\"\n"
     ]
    },
    {
     "data": {
      "application/vnd.jupyter.widget-view+json": {
       "model_id": "de9aea047cc14eb09d060d5928498e93",
       "version_major": 2,
       "version_minor": 0
      },
      "text/plain": [
       "Fetching file...: 0 [00:00, ?/s]"
      ]
     },
     "metadata": {},
     "output_type": "display_data"
    },
    {
     "name": "stdout",
     "output_type": "stream",
     "text": [
      "\tdone.\n",
      "sub_fig_full_input_key: \"display_fn_name:BatchPhoJonathanReplayFRC/plot_result_set:shared/page:5of5/aclus:(64,65,73,74,76,78,88,94,96,97,99)\"\n",
      "a_fig_output_path: \"C:\\Users\\pho\\repos\\Spike3DWorkEnv\\Spike3D\\data\\neptune\\commander.pho\\PhoDibaLongShortUpdated\\figs\\gor01_one_2006-6-09_1-22-43\\BatchPhoJonathanReplayFRC-shared-5of5-(64,65,73,74,76,78,88,94,96,97,99).png\"\n",
      "\tdone.\n",
      "sub_fig_full_input_key: \"display_fn_name:BatchPhoJonathanReplayFRC/plot_result_set:shared/page:6of10/aclus:(59,60,61,64,65,66,67,68,70,71)\"\n",
      "a_fig_output_path: \"C:\\Users\\pho\\repos\\Spike3DWorkEnv\\Spike3D\\data\\neptune\\commander.pho\\PhoDibaLongShortUpdated\\figs\\gor01_one_2006-6-09_1-22-43\\BatchPhoJonathanReplayFRC-shared-6of10-(59,60,61,64,65,66,67,68,70,71).png\"\n",
      "\tdone.\n",
      "sub_fig_full_input_key: \"display_fn_name:BatchPhoJonathanReplayFRC/plot_result_set:shared/page:7of10/aclus:(72,73,74,75,76,77,78,79,80,81)\"\n",
      "a_fig_output_path: \"C:\\Users\\pho\\repos\\Spike3DWorkEnv\\Spike3D\\data\\neptune\\commander.pho\\PhoDibaLongShortUpdated\\figs\\gor01_one_2006-6-09_1-22-43\\BatchPhoJonathanReplayFRC-shared-7of10-(72,73,74,75,76,77,78,79,80,81).png\"\n"
     ]
    },
    {
     "data": {
      "application/vnd.jupyter.widget-view+json": {
       "model_id": "bcac6e597a1d426f80c84c999663ed59",
       "version_major": 2,
       "version_minor": 0
      },
      "text/plain": [
       "Fetching file...: 0 [00:00, ?/s]"
      ]
     },
     "metadata": {},
     "output_type": "display_data"
    },
    {
     "name": "stdout",
     "output_type": "stream",
     "text": [
      "\tdone.\n",
      "sub_fig_full_input_key: \"display_fn_name:BatchPhoJonathanReplayFRC/plot_result_set:shared/page:8of10/aclus:(82,83,84,85,86,87,88,89,90,91)\"\n",
      "a_fig_output_path: \"C:\\Users\\pho\\repos\\Spike3DWorkEnv\\Spike3D\\data\\neptune\\commander.pho\\PhoDibaLongShortUpdated\\figs\\gor01_one_2006-6-09_1-22-43\\BatchPhoJonathanReplayFRC-shared-8of10-(82,83,84,85,86,87,88,89,90,91).png\"\n",
      "\tdone.\n",
      "sub_fig_full_input_key: \"display_fn_name:BatchPhoJonathanReplayFRC/plot_result_set:shared/page:9of10/aclus:(92,93,94,95,96,97,98,99,101,102)\"\n",
      "a_fig_output_path: \"C:\\Users\\pho\\repos\\Spike3DWorkEnv\\Spike3D\\data\\neptune\\commander.pho\\PhoDibaLongShortUpdated\\figs\\gor01_one_2006-6-09_1-22-43\\BatchPhoJonathanReplayFRC-shared-9of10-(92,93,94,95,96,97,98,99,101,102).png\"\n",
      "\tdone.\n",
      "sub_fig_full_input_key: \"display_fn_name:BatchPhoJonathanReplayFRC/plot_result_set:short_only/aclus:(16,55,62,69,100)\"\n",
      "a_fig_output_path: \"C:\\Users\\pho\\repos\\Spike3DWorkEnv\\Spike3D\\data\\neptune\\commander.pho\\PhoDibaLongShortUpdated\\figs\\gor01_one_2006-6-09_1-22-43\\BatchPhoJonathanReplayFRC-short_only-(16,55,62,69,100).png\"\n",
      "\tdone.\n",
      "a_parsed_structure: {'display_fn_name:BatchPhoJonathanReplayFRC': {'plot_result_set:long_only': {'aclus:(8,16,28,37,74,97,109)': <neptune.attributes.atoms.file.File object at 0x00000282BB03E2E0>, 'aclus:(97,74,109,8,16,37,28)': <neptune.attributes.atoms.file.File object at 0x00000282BB03E430>}, 'plot_result_set:shared': {'page:10of10': {'aclus:(105,106,107,108)': <neptune.attributes.atoms.file.File object at 0x00000282BC829A30>}, 'page:1of10': {'aclus:(2,3,5,6,7,9,10,12,14,15)': <neptune.attributes.atoms.file.File object at 0x00000282BC829BB0>}, 'page:1of5': {'aclus:(54,61,102,81,68,70,84,7,45,71,34,17,51,92,5,83,93,49,69,96)': <neptune.attributes.atoms.file.File object at 0x00000282BC829C40>}, 'page:2of10': {'aclus:(17,18,19,20,21,22,24,25,26,27)': <neptune.attributes.atoms.file.File object at 0x00000282BC829D90>}, 'page:2of5': {'aclus:(26,15,14,31,32,55,3,33,50,76,25,24,82,10,90,78,64,75,85,73)': <neptune.attributes.atoms.file.File object at 0x00000282BC829E20>}, 'page:3of10': {'aclus:(29,30,31,32,33,34,35,36,38,39)': <neptune.attributes.atoms.file.File object at 0x00000282BC829F70>}, 'page:3of5': {'aclus:(41,86,107,100,53,62,88,35,89,98,56,59,60,108,57,48,63,67,66,19)': <neptune.attributes.atoms.file.File object at 0x00000282BC829490>}, 'page:4of10': {'aclus:(40,41,42,43,44,45,46,47,48,49)': <neptune.attributes.atoms.file.File object at 0x00000282BC8299A0>}, 'page:4of5': {'aclus:(9,36,2,6,12,18,20,21,22,27,29,30,38,39,40,42,43,44,46,47)': <neptune.attributes.atoms.file.File object at 0x00000282BC829760>}, 'page:5of10': {'aclus:(50,51,53,54,55,56,57,59,60,61)': <neptune.attributes.atoms.file.File object at 0x00000282BD9DF160>}, 'page:5of5': {'aclus:(65,72,77,79,80,91,94,95,99,101,103,104,105,106)': <neptune.attributes.atoms.file.File object at 0x00000282BD9DF2B0>}, 'page:6of10': {'aclus:(62,63,64,65,66,67,68,69,70,71)': <neptune.attributes.atoms.file.File object at 0x00000282BD9DF340>}, 'page:7of10': {'aclus:(72,73,75,76,77,78,79,80,81,82)': <neptune.attributes.atoms.file.File object at 0x00000282BD9DF490>}, 'page:8of10': {'aclus:(83,84,85,86,88,89,90,91,92,93)': <neptune.attributes.atoms.file.File object at 0x00000282BC7CDD00>}, 'page:9of10': {'aclus:(94,95,96,98,99,100,101,102,103,104)': <neptune.attributes.atoms.file.File object at 0x00000282BD4E11C0>}}, 'plot_result_set:short_only': {'aclus:(4,11,13,23,52,58,87)': <neptune.attributes.atoms.file.File object at 0x00000282BD4E1310>}}, 'display_fn_name:_display_grid_bin_bounds_validation': <neptune.attributes.atoms.file.File object at 0x00000282BD4E1250>, 'display_fn_name:bidir_track_remap': {'subplot_name:Track Remapping': <neptune.attributes.atoms.file.File object at 0x00000282BD4E1430>}, 'display_fn_name:directional_merged_pf_decoded_epochs': {'decoded_epochs:Laps': {'Marginal:Direction': {'t_bin:0.25': <neptune.attributes.atoms.file.File object at 0x00000282BD4E1490>}, 'Marginal:TrackID': {'t_bin:0.25': <neptune.attributes.atoms.file.File object at 0x00000282BD4E1790>}}, 'decoded_epochs:Ripple': {'Marginal:Direction': {'t_bin:0.025': <neptune.attributes.atoms.file.File object at 0x00000282BD4E18B0>}, 'Marginal:TrackID': {'t_bin:0.025': <neptune.attributes.atoms.file.File object at 0x00000282BD4E19A0>}}}, 'display_fn_name:display_long_short_laps': <neptune.attributes.atoms.file.File object at 0x00000282BD4E1AF0>, 'display_fn_name:display_short_long_pf1D_comparison': {'track:long': <neptune.attributes.atoms.file.File object at 0x00000282BD4E1A30>, 'track:short': <neptune.attributes.atoms.file.File object at 0x00000282BD4E1B20>}, 'display_fn_name:plot_all_epoch_bins_marginal_predictions': {'subplot_name:Laps all_epoch_binned Marginals': <neptune.attributes.atoms.file.File object at 0x00000282BD4E1B80>, 'subplot_name:Ripple all_epoch_binned Marginals': <neptune.attributes.atoms.file.File object at 0x00000282BD4E1C70>}, 'display_fn_name:plot_expected_vs_observed': {'x_variable:epoch_idx': {'variable:obs_exp_diff_ptp': <neptune.attributes.atoms.file.File object at 0x00000282BD4E1D30>}}, 'display_fn_name:plot_histograms': {'subplot_name:laps_result_tuple': <neptune.attributes.atoms.file.File object at 0x00000282BD4E1D90>, 'subplot_name:ripple_result_tuple': <neptune.attributes.atoms.file.File object at 0x00000282BD4E1DC0>}, 'display_fn_name:plot_quantile_diffs': {'subplot_name:BestDir': <neptune.attributes.atoms.file.File object at 0x00000282BD4E1F70>}, 'display_fn_name:plot_rank_order_epoch_inst_fr_result_tuples': {'subplot_name:Lap': {'subplotsubplot_name:raw': <neptune.attributes.atoms.file.File object at 0x00000282BD4E13D0>, 'subplotsubplot_name:z_score_diff': <neptune.attributes.atoms.file.File object at 0x00000282BD4E1160>}, 'subplot_name:Ripple': {'subplotsubplot_name:raw': <neptune.attributes.atoms.file.File object at 0x00000282BE42B040>, 'subplotsubplot_name:z_score_diff': <neptune.attributes.atoms.file.File object at 0x00000282BB0178E0>}}, 'display_fn_name:plot_rank_order_histograms': {'subplot_name:Ripple Most-likely Spearman Rho': <neptune.attributes.atoms.file.File object at 0x00000282BB017A00>, 'subplot_name:Ripple Most-likely Z-scores': <neptune.attributes.atoms.file.File object at 0x00000282BB0174C0>, 'subplot_name:Ripple Z-scores': <neptune.attributes.atoms.file.File object at 0x00000282BB017610>, 'subplot_name:Ripple real correlations': <neptune.attributes.atoms.file.File object at 0x00000282BB0175E0>}, 'display_fn_name:running_and_replay_speeds_over_time': <neptune.attributes.atoms.file.File object at 0x00000282BB017BB0>, 'filter_name:maze1_any': {'lap_dir:any': {'display_fn_name:1d_placefields': <neptune.attributes.atoms.file.File object at 0x00000282BB017C10>, 'display_fn_name:_display_1d_placefield_validations': <neptune.attributes.atoms.file.File object at 0x00000282BB017B80>, 'display_fn_name:_display_2d_placefield_result_plot_ratemaps_2D': <neptune.attributes.atoms.file.File object at 0x00000282BB0174F0>, 'display_fn_name:plot_occupancy': {'plot_variable:OCCUPANCY': <neptune.attributes.atoms.file.File object at 0x00000282BB017E80>}, 'display_fn_name:plot_single_track_firing_rate_compare': <neptune.attributes.atoms.file.File object at 0x00000282BB017970>}}, 'filter_name:maze1_even': {'lap_dir:even': {'display_fn_name:1d_placefields': <neptune.attributes.atoms.file.File object at 0x00000282BB017880>, 'display_fn_name:_display_1d_placefield_validations': <neptune.attributes.atoms.file.File object at 0x00000282BB017C40>, 'display_fn_name:_display_2d_placefield_result_plot_ratemaps_2D': <neptune.attributes.atoms.file.File object at 0x00000282BB0171F0>, 'display_fn_name:plot_occupancy': {'plot_variable:OCCUPANCY': <neptune.attributes.atoms.file.File object at 0x00000282BB017820>}}}, 'filter_name:maze1_odd': {'lap_dir:odd': {'display_fn_name:1d_placefields': <neptune.attributes.atoms.file.File object at 0x00000282BB0177C0>, 'display_fn_name:_display_1d_placefield_validations': <neptune.attributes.atoms.file.File object at 0x00000282BB017160>, 'display_fn_name:_display_2d_placefield_result_plot_ratemaps_2D': <neptune.attributes.atoms.file.File object at 0x00000282BB0172E0>, 'display_fn_name:plot_occupancy': {'plot_variable:OCCUPANCY': <neptune.attributes.atoms.file.File object at 0x00000282BB017790>}}}, 'filter_name:maze2_any': {'lap_dir:any': {'display_fn_name:1d_placefields': <neptune.attributes.atoms.file.File object at 0x00000282BB017580>, 'display_fn_name:_display_1d_placefield_validations': <neptune.attributes.atoms.file.File object at 0x00000282B9EDCDF0>, 'display_fn_name:_display_2d_placefield_result_plot_ratemaps_2D': <neptune.attributes.atoms.file.File object at 0x00000282B9EDCBE0>, 'display_fn_name:plot_occupancy': {'plot_variable:OCCUPANCY': <neptune.attributes.atoms.file.File object at 0x00000282B9EDCB80>}, 'display_fn_name:plot_single_track_firing_rate_compare': <neptune.attributes.atoms.file.File object at 0x00000282B9EDC9D0>}}, 'filter_name:maze2_even': {'lap_dir:even': {'display_fn_name:1d_placefields': <neptune.attributes.atoms.file.File object at 0x00000282B9EDCA90>, 'display_fn_name:_display_1d_placefield_validations': <neptune.attributes.atoms.file.File object at 0x00000282B9EDC970>, 'display_fn_name:_display_2d_placefield_result_plot_ratemaps_2D': <neptune.attributes.atoms.file.File object at 0x00000282B9EDC760>, 'display_fn_name:plot_occupancy': {'plot_variable:OCCUPANCY': <neptune.attributes.atoms.file.File object at 0x00000282B9EDC700>}}}, 'filter_name:maze2_odd': {'lap_dir:odd': {'display_fn_name:1d_placefields': <neptune.attributes.atoms.file.File object at 0x00000282B9EDC490>, 'display_fn_name:_display_1d_placefield_validations': <neptune.attributes.atoms.file.File object at 0x00000282B9EDC550>, 'display_fn_name:_display_2d_placefield_result_plot_ratemaps_2D': <neptune.attributes.atoms.file.File object at 0x00000282B9EDC310>, 'display_fn_name:plot_occupancy': {'plot_variable:OCCUPANCY': <neptune.attributes.atoms.file.File object at 0x00000282B9EDC2B0>}}}, 'filter_name:maze_any': {'lap_dir:any': {'display_fn_name:1d_placefields': <neptune.attributes.atoms.file.File object at 0x00000282B9EDC1C0>, 'display_fn_name:_display_1d_placefield_validations': <neptune.attributes.atoms.file.File object at 0x00000282B9EDC280>, 'display_fn_name:_display_2d_placefield_result_plot_ratemaps_2D': <neptune.attributes.atoms.file.File object at 0x00000282B9EDCFD0>, 'display_fn_name:plot_occupancy': {'plot_variable:OCCUPANCY': <neptune.attributes.atoms.file.File object at 0x00000282B9EDCB50>}}}, 'filter_name:maze_even': {'lap_dir:even': {'display_fn_name:1d_placefields': <neptune.attributes.atoms.file.File object at 0x00000282B9EDCA60>, 'display_fn_name:_display_1d_placefield_validations': <neptune.attributes.atoms.file.File object at 0x00000282B96895B0>, 'display_fn_name:_display_2d_placefield_result_plot_ratemaps_2D': <neptune.attributes.atoms.file.File object at 0x00000282B9EC9100>, 'display_fn_name:plot_occupancy': {'plot_variable:OCCUPANCY': <neptune.attributes.atoms.file.File object at 0x00000282B9EC9340>}}}, 'filter_name:maze_odd': {'lap_dir:odd': {'display_fn_name:1d_placefields': <neptune.attributes.atoms.file.File object at 0x00000282B9EC91F0>, 'display_fn_name:_display_1d_placefield_validations': <neptune.attributes.atoms.file.File object at 0x00000282B9EC92B0>, 'display_fn_name:_display_2d_placefield_result_plot_ratemaps_2D': <neptune.attributes.atoms.file.File object at 0x00000282B9EC96A0>, 'display_fn_name:plot_occupancy': {'plot_variable:OCCUPANCY': <neptune.attributes.atoms.file.File object at 0x00000282B9EC9700>}}}, 'fn_name:long_short_firing_rate_indicies': {'display_fn_name:display_long_short_laps': <neptune.attributes.atoms.file.File object at 0x00000282B9EC9250>}}\n",
      "not a figure file! a dictionary instead probably: type(a_fig_file_field): <class 'dict'>\n",
      "sub_fig_full_input_key: \"display_fn_name:BatchPhoJonathanReplayFRC/plot_result_set:long_only/aclus:(8,16,28,37,74,97,109)\"\n",
      "a_fig_output_path: \"C:\\Users\\pho\\repos\\Spike3DWorkEnv\\Spike3D\\data\\neptune\\commander.pho\\PhoDibaLongShortUpdated\\figs\\gor01_one_2006-6-08_14-26-15\\BatchPhoJonathanReplayFRC-long_only-(8,16,28,37,74,97,109).png\"\n",
      "\tdone.\n",
      "sub_fig_full_input_key: \"display_fn_name:BatchPhoJonathanReplayFRC/plot_result_set:long_only/aclus:(97,74,109,8,16,37,28)\"\n",
      "a_fig_output_path: \"C:\\Users\\pho\\repos\\Spike3DWorkEnv\\Spike3D\\data\\neptune\\commander.pho\\PhoDibaLongShortUpdated\\figs\\gor01_one_2006-6-08_14-26-15\\BatchPhoJonathanReplayFRC-long_only-(97,74,109,8,16,37,28).png\"\n",
      "\tdone.\n",
      "sub_fig_full_input_key: \"display_fn_name:BatchPhoJonathanReplayFRC/plot_result_set:shared/page:10of10/aclus:(105,106,107,108)\"\n",
      "a_fig_output_path: \"C:\\Users\\pho\\repos\\Spike3DWorkEnv\\Spike3D\\data\\neptune\\commander.pho\\PhoDibaLongShortUpdated\\figs\\gor01_one_2006-6-08_14-26-15\\BatchPhoJonathanReplayFRC-shared-10of10-(105,106,107,108).png\"\n",
      "\tdone.\n",
      "sub_fig_full_input_key: \"display_fn_name:BatchPhoJonathanReplayFRC/plot_result_set:shared/page:1of10/aclus:(2,3,5,6,7,9,10,12,14,15)\"\n",
      "a_fig_output_path: \"C:\\Users\\pho\\repos\\Spike3DWorkEnv\\Spike3D\\data\\neptune\\commander.pho\\PhoDibaLongShortUpdated\\figs\\gor01_one_2006-6-08_14-26-15\\BatchPhoJonathanReplayFRC-shared-1of10-(2,3,5,6,7,9,10,12,14,15).png\"\n"
     ]
    },
    {
     "data": {
      "application/vnd.jupyter.widget-view+json": {
       "model_id": "b266cfd106fd4828aba0f6e491b03adb",
       "version_major": 2,
       "version_minor": 0
      },
      "text/plain": [
       "Fetching file...: 0 [00:00, ?/s]"
      ]
     },
     "metadata": {},
     "output_type": "display_data"
    },
    {
     "name": "stdout",
     "output_type": "stream",
     "text": [
      "\tdone.\n",
      "sub_fig_full_input_key: \"display_fn_name:BatchPhoJonathanReplayFRC/plot_result_set:shared/page:1of5/aclus:(54,61,102,81,68,70,84,7,45,71,34,17,51,92,5,83,93,49,69,96)\"\n",
      "a_fig_output_path: \"C:\\Users\\pho\\repos\\Spike3DWorkEnv\\Spike3D\\data\\neptune\\commander.pho\\PhoDibaLongShortUpdated\\figs\\gor01_one_2006-6-08_14-26-15\\BatchPhoJonathanReplayFRC-shared-1of5-(54,61,102,81,68,70,84,7,45,71,34,17,51,92,5,83,93,49,69,96).png\"\n"
     ]
    },
    {
     "data": {
      "application/vnd.jupyter.widget-view+json": {
       "model_id": "55385ed84ac74e45829585b8b337761d",
       "version_major": 2,
       "version_minor": 0
      },
      "text/plain": [
       "Fetching file...: 0 [00:00, ?/s]"
      ]
     },
     "metadata": {},
     "output_type": "display_data"
    },
    {
     "name": "stdout",
     "output_type": "stream",
     "text": [
      "\tdone.\n",
      "sub_fig_full_input_key: \"display_fn_name:BatchPhoJonathanReplayFRC/plot_result_set:shared/page:2of10/aclus:(17,18,19,20,21,22,24,25,26,27)\"\n",
      "a_fig_output_path: \"C:\\Users\\pho\\repos\\Spike3DWorkEnv\\Spike3D\\data\\neptune\\commander.pho\\PhoDibaLongShortUpdated\\figs\\gor01_one_2006-6-08_14-26-15\\BatchPhoJonathanReplayFRC-shared-2of10-(17,18,19,20,21,22,24,25,26,27).png\"\n"
     ]
    },
    {
     "data": {
      "application/vnd.jupyter.widget-view+json": {
       "model_id": "dc396f319cb84665bb2ce164f86bdf1a",
       "version_major": 2,
       "version_minor": 0
      },
      "text/plain": [
       "Fetching file...: 0 [00:00, ?/s]"
      ]
     },
     "metadata": {},
     "output_type": "display_data"
    },
    {
     "name": "stdout",
     "output_type": "stream",
     "text": [
      "\tdone.\n",
      "sub_fig_full_input_key: \"display_fn_name:BatchPhoJonathanReplayFRC/plot_result_set:shared/page:2of5/aclus:(26,15,14,31,32,55,3,33,50,76,25,24,82,10,90,78,64,75,85,73)\"\n",
      "a_fig_output_path: \"C:\\Users\\pho\\repos\\Spike3DWorkEnv\\Spike3D\\data\\neptune\\commander.pho\\PhoDibaLongShortUpdated\\figs\\gor01_one_2006-6-08_14-26-15\\BatchPhoJonathanReplayFRC-shared-2of5-(26,15,14,31,32,55,3,33,50,76,25,24,82,10,90,78,64,75,85,73).png\"\n"
     ]
    },
    {
     "data": {
      "application/vnd.jupyter.widget-view+json": {
       "model_id": "48047351454547b0a547580e64786458",
       "version_major": 2,
       "version_minor": 0
      },
      "text/plain": [
       "Fetching file...: 0 [00:00, ?/s]"
      ]
     },
     "metadata": {},
     "output_type": "display_data"
    },
    {
     "name": "stdout",
     "output_type": "stream",
     "text": [
      "\tdone.\n",
      "sub_fig_full_input_key: \"display_fn_name:BatchPhoJonathanReplayFRC/plot_result_set:shared/page:3of10/aclus:(29,30,31,32,33,34,35,36,38,39)\"\n",
      "a_fig_output_path: \"C:\\Users\\pho\\repos\\Spike3DWorkEnv\\Spike3D\\data\\neptune\\commander.pho\\PhoDibaLongShortUpdated\\figs\\gor01_one_2006-6-08_14-26-15\\BatchPhoJonathanReplayFRC-shared-3of10-(29,30,31,32,33,34,35,36,38,39).png\"\n"
     ]
    },
    {
     "data": {
      "application/vnd.jupyter.widget-view+json": {
       "model_id": "bc57f2059ddf47769ffab77ee3696212",
       "version_major": 2,
       "version_minor": 0
      },
      "text/plain": [
       "Fetching file...: 0 [00:00, ?/s]"
      ]
     },
     "metadata": {},
     "output_type": "display_data"
    },
    {
     "name": "stdout",
     "output_type": "stream",
     "text": [
      "\tdone.\n",
      "sub_fig_full_input_key: \"display_fn_name:BatchPhoJonathanReplayFRC/plot_result_set:shared/page:3of5/aclus:(41,86,107,100,53,62,88,35,89,98,56,59,60,108,57,48,63,67,66,19)\"\n",
      "a_fig_output_path: \"C:\\Users\\pho\\repos\\Spike3DWorkEnv\\Spike3D\\data\\neptune\\commander.pho\\PhoDibaLongShortUpdated\\figs\\gor01_one_2006-6-08_14-26-15\\BatchPhoJonathanReplayFRC-shared-3of5-(41,86,107,100,53,62,88,35,89,98,56,59,60,108,57,48,63,67,66,19).png\"\n"
     ]
    },
    {
     "data": {
      "application/vnd.jupyter.widget-view+json": {
       "model_id": "5f546b7e1dd742fcb936f60936a8d724",
       "version_major": 2,
       "version_minor": 0
      },
      "text/plain": [
       "Fetching file...: 0 [00:00, ?/s]"
      ]
     },
     "metadata": {},
     "output_type": "display_data"
    },
    {
     "name": "stdout",
     "output_type": "stream",
     "text": [
      "\tdone.\n",
      "sub_fig_full_input_key: \"display_fn_name:BatchPhoJonathanReplayFRC/plot_result_set:shared/page:4of10/aclus:(40,41,42,43,44,45,46,47,48,49)\"\n",
      "a_fig_output_path: \"C:\\Users\\pho\\repos\\Spike3DWorkEnv\\Spike3D\\data\\neptune\\commander.pho\\PhoDibaLongShortUpdated\\figs\\gor01_one_2006-6-08_14-26-15\\BatchPhoJonathanReplayFRC-shared-4of10-(40,41,42,43,44,45,46,47,48,49).png\"\n"
     ]
    },
    {
     "data": {
      "application/vnd.jupyter.widget-view+json": {
       "model_id": "48e76e4321064334b4391bd1f1f29e69",
       "version_major": 2,
       "version_minor": 0
      },
      "text/plain": [
       "Fetching file...: 0 [00:00, ?/s]"
      ]
     },
     "metadata": {},
     "output_type": "display_data"
    },
    {
     "name": "stdout",
     "output_type": "stream",
     "text": [
      "\tdone.\n",
      "sub_fig_full_input_key: \"display_fn_name:BatchPhoJonathanReplayFRC/plot_result_set:shared/page:4of5/aclus:(9,36,2,6,12,18,20,21,22,27,29,30,38,39,40,42,43,44,46,47)\"\n",
      "a_fig_output_path: \"C:\\Users\\pho\\repos\\Spike3DWorkEnv\\Spike3D\\data\\neptune\\commander.pho\\PhoDibaLongShortUpdated\\figs\\gor01_one_2006-6-08_14-26-15\\BatchPhoJonathanReplayFRC-shared-4of5-(9,36,2,6,12,18,20,21,22,27,29,30,38,39,40,42,43,44,46,47).png\"\n"
     ]
    },
    {
     "data": {
      "application/vnd.jupyter.widget-view+json": {
       "model_id": "3531c31bbc9642c8b0a259f06122a098",
       "version_major": 2,
       "version_minor": 0
      },
      "text/plain": [
       "Fetching file...: 0 [00:00, ?/s]"
      ]
     },
     "metadata": {},
     "output_type": "display_data"
    },
    {
     "name": "stdout",
     "output_type": "stream",
     "text": [
      "\tdone.\n",
      "sub_fig_full_input_key: \"display_fn_name:BatchPhoJonathanReplayFRC/plot_result_set:shared/page:5of10/aclus:(50,51,53,54,55,56,57,59,60,61)\"\n",
      "a_fig_output_path: \"C:\\Users\\pho\\repos\\Spike3DWorkEnv\\Spike3D\\data\\neptune\\commander.pho\\PhoDibaLongShortUpdated\\figs\\gor01_one_2006-6-08_14-26-15\\BatchPhoJonathanReplayFRC-shared-5of10-(50,51,53,54,55,56,57,59,60,61).png\"\n"
     ]
    },
    {
     "data": {
      "application/vnd.jupyter.widget-view+json": {
       "model_id": "f23da29f5449481590416240dbc642ee",
       "version_major": 2,
       "version_minor": 0
      },
      "text/plain": [
       "Fetching file...: 0 [00:00, ?/s]"
      ]
     },
     "metadata": {},
     "output_type": "display_data"
    },
    {
     "name": "stdout",
     "output_type": "stream",
     "text": [
      "\tdone.\n",
      "sub_fig_full_input_key: \"display_fn_name:BatchPhoJonathanReplayFRC/plot_result_set:shared/page:5of5/aclus:(65,72,77,79,80,91,94,95,99,101,103,104,105,106)\"\n",
      "a_fig_output_path: \"C:\\Users\\pho\\repos\\Spike3DWorkEnv\\Spike3D\\data\\neptune\\commander.pho\\PhoDibaLongShortUpdated\\figs\\gor01_one_2006-6-08_14-26-15\\BatchPhoJonathanReplayFRC-shared-5of5-(65,72,77,79,80,91,94,95,99,101,103,104,105,106).png\"\n"
     ]
    },
    {
     "data": {
      "application/vnd.jupyter.widget-view+json": {
       "model_id": "e2d9064c79d1417aabe390edab5572cd",
       "version_major": 2,
       "version_minor": 0
      },
      "text/plain": [
       "Fetching file...: 0 [00:00, ?/s]"
      ]
     },
     "metadata": {},
     "output_type": "display_data"
    },
    {
     "name": "stdout",
     "output_type": "stream",
     "text": [
      "\tdone.\n",
      "sub_fig_full_input_key: \"display_fn_name:BatchPhoJonathanReplayFRC/plot_result_set:shared/page:6of10/aclus:(62,63,64,65,66,67,68,69,70,71)\"\n",
      "a_fig_output_path: \"C:\\Users\\pho\\repos\\Spike3DWorkEnv\\Spike3D\\data\\neptune\\commander.pho\\PhoDibaLongShortUpdated\\figs\\gor01_one_2006-6-08_14-26-15\\BatchPhoJonathanReplayFRC-shared-6of10-(62,63,64,65,66,67,68,69,70,71).png\"\n"
     ]
    },
    {
     "data": {
      "application/vnd.jupyter.widget-view+json": {
       "model_id": "648872a7055a40628b22e453ed4f7b85",
       "version_major": 2,
       "version_minor": 0
      },
      "text/plain": [
       "Fetching file...: 0 [00:00, ?/s]"
      ]
     },
     "metadata": {},
     "output_type": "display_data"
    },
    {
     "name": "stdout",
     "output_type": "stream",
     "text": [
      "\tdone.\n",
      "sub_fig_full_input_key: \"display_fn_name:BatchPhoJonathanReplayFRC/plot_result_set:shared/page:7of10/aclus:(72,73,75,76,77,78,79,80,81,82)\"\n",
      "a_fig_output_path: \"C:\\Users\\pho\\repos\\Spike3DWorkEnv\\Spike3D\\data\\neptune\\commander.pho\\PhoDibaLongShortUpdated\\figs\\gor01_one_2006-6-08_14-26-15\\BatchPhoJonathanReplayFRC-shared-7of10-(72,73,75,76,77,78,79,80,81,82).png\"\n"
     ]
    },
    {
     "data": {
      "application/vnd.jupyter.widget-view+json": {
       "model_id": "241b431e8bfe4b818d948bc91b97af73",
       "version_major": 2,
       "version_minor": 0
      },
      "text/plain": [
       "Fetching file...: 0 [00:00, ?/s]"
      ]
     },
     "metadata": {},
     "output_type": "display_data"
    },
    {
     "name": "stdout",
     "output_type": "stream",
     "text": [
      "\tdone.\n",
      "sub_fig_full_input_key: \"display_fn_name:BatchPhoJonathanReplayFRC/plot_result_set:shared/page:8of10/aclus:(83,84,85,86,88,89,90,91,92,93)\"\n",
      "a_fig_output_path: \"C:\\Users\\pho\\repos\\Spike3DWorkEnv\\Spike3D\\data\\neptune\\commander.pho\\PhoDibaLongShortUpdated\\figs\\gor01_one_2006-6-08_14-26-15\\BatchPhoJonathanReplayFRC-shared-8of10-(83,84,85,86,88,89,90,91,92,93).png\"\n"
     ]
    },
    {
     "data": {
      "application/vnd.jupyter.widget-view+json": {
       "model_id": "12df68f4a56444959eedbab4fb4d2805",
       "version_major": 2,
       "version_minor": 0
      },
      "text/plain": [
       "Fetching file...: 0 [00:00, ?/s]"
      ]
     },
     "metadata": {},
     "output_type": "display_data"
    },
    {
     "name": "stdout",
     "output_type": "stream",
     "text": [
      "\tdone.\n",
      "sub_fig_full_input_key: \"display_fn_name:BatchPhoJonathanReplayFRC/plot_result_set:shared/page:9of10/aclus:(94,95,96,98,99,100,101,102,103,104)\"\n",
      "a_fig_output_path: \"C:\\Users\\pho\\repos\\Spike3DWorkEnv\\Spike3D\\data\\neptune\\commander.pho\\PhoDibaLongShortUpdated\\figs\\gor01_one_2006-6-08_14-26-15\\BatchPhoJonathanReplayFRC-shared-9of10-(94,95,96,98,99,100,101,102,103,104).png\"\n"
     ]
    },
    {
     "data": {
      "application/vnd.jupyter.widget-view+json": {
       "model_id": "12ccb5543d714eb0bdb35e03c012c831",
       "version_major": 2,
       "version_minor": 0
      },
      "text/plain": [
       "Fetching file...: 0 [00:00, ?/s]"
      ]
     },
     "metadata": {},
     "output_type": "display_data"
    },
    {
     "name": "stdout",
     "output_type": "stream",
     "text": [
      "\tdone.\n",
      "sub_fig_full_input_key: \"display_fn_name:BatchPhoJonathanReplayFRC/plot_result_set:short_only/aclus:(4,11,13,23,52,58,87)\"\n",
      "a_fig_output_path: \"C:\\Users\\pho\\repos\\Spike3DWorkEnv\\Spike3D\\data\\neptune\\commander.pho\\PhoDibaLongShortUpdated\\figs\\gor01_one_2006-6-08_14-26-15\\BatchPhoJonathanReplayFRC-short_only-(4,11,13,23,52,58,87).png\"\n",
      "\tdone.\n",
      "a_parsed_structure: {'display_fn_name:BatchPhoJonathanReplayFRC': {'plot_result_set:long_only': {'aclus:(8,16,28,37,74,97,109)': <neptune.attributes.atoms.file.File object at 0x00000282B9E75520>, 'aclus:(97,74,109,8,16,37,28)': <neptune.attributes.atoms.file.File object at 0x00000282BB044670>}, 'plot_result_set:shared': {'page:10of10': {'aclus:(105,106,107,108)': <neptune.attributes.atoms.file.File object at 0x00000282BB0442B0>}, 'page:1of10': {'aclus:(2,3,5,6,7,9,10,12,14,15)': <neptune.attributes.atoms.file.File object at 0x00000282BB044400>}, 'page:1of5': {'aclus:(54,61,102,81,68,70,84,7,45,71,34,17,51,92,5,83,93,49,69,96)': <neptune.attributes.atoms.file.File object at 0x00000282BB044DC0>}, 'page:2of10': {'aclus:(17,18,19,20,21,22,24,25,26,27)': <neptune.attributes.atoms.file.File object at 0x00000282BB0449A0>}, 'page:2of5': {'aclus:(26,15,14,31,32,55,3,33,50,76,25,24,82,10,90,78,64,75,85,73)': <neptune.attributes.atoms.file.File object at 0x00000282BB044700>}, 'page:3of10': {'aclus:(29,30,31,32,33,34,35,36,38,39)': <neptune.attributes.atoms.file.File object at 0x00000282BB0448B0>}, 'page:3of5': {'aclus:(41,86,107,100,53,62,88,35,89,98,56,59,60,108,57,48,63,67,66,19)': <neptune.attributes.atoms.file.File object at 0x00000282BB044610>}, 'page:4of10': {'aclus:(40,41,42,43,44,45,46,47,48,49)': <neptune.attributes.atoms.file.File object at 0x00000282BB044C10>}, 'page:4of5': {'aclus:(9,36,2,6,12,18,20,21,22,27,29,30,38,39,40,42,43,44,46,47)': <neptune.attributes.atoms.file.File object at 0x00000282BB044A30>}, 'page:5of10': {'aclus:(50,51,53,54,55,56,57,59,60,61)': <neptune.attributes.atoms.file.File object at 0x00000282BB044CD0>}, 'page:5of5': {'aclus:(65,72,77,79,80,91,94,95,99,101,103,104,105,106)': <neptune.attributes.atoms.file.File object at 0x00000282BB044F70>}, 'page:6of10': {'aclus:(62,63,64,65,66,67,68,69,70,71)': <neptune.attributes.atoms.file.File object at 0x00000282BE42BE20>}, 'page:7of10': {'aclus:(72,73,75,76,77,78,79,80,81,82)': <neptune.attributes.atoms.file.File object at 0x00000282BE42BAF0>}, 'page:8of10': {'aclus:(83,84,85,86,88,89,90,91,92,93)': <neptune.attributes.atoms.file.File object at 0x00000282BE42B8E0>}, 'page:9of10': {'aclus:(94,95,96,98,99,100,101,102,103,104)': <neptune.attributes.atoms.file.File object at 0x00000282BE42B910>}}, 'plot_result_set:short_only': {'aclus:(4,11,13,23,52,58,87)': <neptune.attributes.atoms.file.File object at 0x00000282BE42BA30>}}, 'display_fn_name:_display_grid_bin_bounds_validation': <neptune.attributes.atoms.file.File object at 0x00000282BEC7F700>, 'display_fn_name:bidir_track_remap': {'subplot_name:Track Remapping': <neptune.attributes.atoms.file.File object at 0x00000282BEC7FAF0>}, 'display_fn_name:directional_merged_pf_decoded_epochs': {'decoded_epochs:Laps': {'Marginal:Direction': {'t_bin:0.25': <neptune.attributes.atoms.file.File object at 0x00000282BEC7FB80>}, 'Marginal:TrackID': {'t_bin:0.25': <neptune.attributes.atoms.file.File object at 0x00000282BEC7FF10>}}, 'decoded_epochs:Ripple': {'Marginal:Direction': {'t_bin:0.025': <neptune.attributes.atoms.file.File object at 0x00000282BEC7F220>}, 'Marginal:TrackID': {'t_bin:0.025': <neptune.attributes.atoms.file.File object at 0x00000282BEC7F2E0>}}}, 'display_fn_name:display_long_short_laps': <neptune.attributes.atoms.file.File object at 0x00000282BEC7F3A0>, 'display_fn_name:display_short_long_pf1D_comparison': {'track:long': <neptune.attributes.atoms.file.File object at 0x00000282BEC7F100>, 'track:short': <neptune.attributes.atoms.file.File object at 0x00000282BEC7D5B0>}, 'display_fn_name:plot_all_epoch_bins_marginal_predictions': {'subplot_name:Laps all_epoch_binned Marginals': <neptune.attributes.atoms.file.File object at 0x00000282BEC7D520>, 'subplot_name:Ripple all_epoch_binned Marginals': <neptune.attributes.atoms.file.File object at 0x00000282BEC7D2E0>}, 'display_fn_name:plot_expected_vs_observed': {'x_variable:epoch_idx': {'variable:obs_exp_diff_ptp': <neptune.attributes.atoms.file.File object at 0x00000282BEC7D940>}}, 'display_fn_name:plot_histograms': {'subplot_name:laps_result_tuple': <neptune.attributes.atoms.file.File object at 0x00000282BEC7D700>, 'subplot_name:ripple_result_tuple': <neptune.attributes.atoms.file.File object at 0x00000282BEC7DA90>}, 'display_fn_name:plot_quantile_diffs': {'subplot_name:BestDir': <neptune.attributes.atoms.file.File object at 0x00000282BEC7DBE0>}, 'display_fn_name:plot_rank_order_epoch_inst_fr_result_tuples': {'subplot_name:Lap': {'subplotsubplot_name:raw': <neptune.attributes.atoms.file.File object at 0x00000282BEC7DF40>, 'subplotsubplot_name:z_score_diff': <neptune.attributes.atoms.file.File object at 0x00000282BEC7DAF0>}, 'subplot_name:Ripple': {'subplotsubplot_name:raw': <neptune.attributes.atoms.file.File object at 0x00000282BE427430>, 'subplotsubplot_name:z_score_diff': <neptune.attributes.atoms.file.File object at 0x00000282BE427460>}}, 'display_fn_name:plot_rank_order_histograms': {'subplot_name:Ripple Most-likely Spearman Rho': <neptune.attributes.atoms.file.File object at 0x00000282BE427550>, 'subplot_name:Ripple Most-likely Z-scores': <neptune.attributes.atoms.file.File object at 0x00000282BE427640>, 'subplot_name:Ripple Z-scores': <neptune.attributes.atoms.file.File object at 0x00000282BE427790>, 'subplot_name:Ripple real correlations': <neptune.attributes.atoms.file.File object at 0x00000282BE4277F0>}, 'display_fn_name:running_and_replay_speeds_over_time': <neptune.attributes.atoms.file.File object at 0x00000282BE427850>, 'filter_name:maze1_any': {'lap_dir:any': {'display_fn_name:1d_placefields': <neptune.attributes.atoms.file.File object at 0x00000282BE4276A0>, 'display_fn_name:_display_1d_placefield_validations': <neptune.attributes.atoms.file.File object at 0x00000282BE4273A0>, 'display_fn_name:_display_2d_placefield_result_plot_ratemaps_2D': <neptune.attributes.atoms.file.File object at 0x00000282BE427880>, 'display_fn_name:plot_occupancy': {'plot_variable:OCCUPANCY': <neptune.attributes.atoms.file.File object at 0x00000282BE4279A0>}, 'display_fn_name:plot_single_track_firing_rate_compare': <neptune.attributes.atoms.file.File object at 0x00000282BE427B50>}}, 'filter_name:maze1_even': {'lap_dir:even': {'display_fn_name:1d_placefields': <neptune.attributes.atoms.file.File object at 0x00000282BE427A90>, 'display_fn_name:_display_1d_placefield_validations': <neptune.attributes.atoms.file.File object at 0x00000282BE427970>, 'display_fn_name:_display_2d_placefield_result_plot_ratemaps_2D': <neptune.attributes.atoms.file.File object at 0x00000282BE427CD0>, 'display_fn_name:plot_occupancy': {'plot_variable:OCCUPANCY': <neptune.attributes.atoms.file.File object at 0x00000282BE427BE0>}}}, 'filter_name:maze1_odd': {'lap_dir:odd': {'display_fn_name:1d_placefields': <neptune.attributes.atoms.file.File object at 0x00000282BE427D30>, 'display_fn_name:_display_1d_placefield_validations': <neptune.attributes.atoms.file.File object at 0x00000282BE427E80>, 'display_fn_name:_display_2d_placefield_result_plot_ratemaps_2D': <neptune.attributes.atoms.file.File object at 0x00000282BE427D00>, 'display_fn_name:plot_occupancy': {'plot_variable:OCCUPANCY': <neptune.attributes.atoms.file.File object at 0x00000282BE662BE0>}}}, 'filter_name:maze2_any': {'lap_dir:any': {'display_fn_name:1d_placefields': <neptune.attributes.atoms.file.File object at 0x00000282BE662D90>, 'display_fn_name:_display_1d_placefield_validations': <neptune.attributes.atoms.file.File object at 0x00000282BE662CD0>, 'display_fn_name:_display_2d_placefield_result_plot_ratemaps_2D': <neptune.attributes.atoms.file.File object at 0x00000282BE662EB0>, 'display_fn_name:plot_occupancy': {'plot_variable:OCCUPANCY': <neptune.attributes.atoms.file.File object at 0x00000282BE662F10>}, 'display_fn_name:plot_single_track_firing_rate_compare': <neptune.attributes.atoms.file.File object at 0x00000282BE6625B0>}}, 'filter_name:maze2_even': {'lap_dir:even': {'display_fn_name:1d_placefields': <neptune.attributes.atoms.file.File object at 0x00000282BE662F40>, 'display_fn_name:_display_1d_placefield_validations': <neptune.attributes.atoms.file.File object at 0x00000282BE662790>, 'display_fn_name:_display_2d_placefield_result_plot_ratemaps_2D': <neptune.attributes.atoms.file.File object at 0x00000282BF05A040>, 'display_fn_name:plot_occupancy': {'plot_variable:OCCUPANCY': <neptune.attributes.atoms.file.File object at 0x00000282BF05A0A0>}}}, 'filter_name:maze2_odd': {'lap_dir:odd': {'display_fn_name:1d_placefields': <neptune.attributes.atoms.file.File object at 0x00000282BF05A2B0>, 'display_fn_name:_display_1d_placefield_validations': <neptune.attributes.atoms.file.File object at 0x00000282BF05A1F0>, 'display_fn_name:_display_2d_placefield_result_plot_ratemaps_2D': <neptune.attributes.atoms.file.File object at 0x00000282BF05A430>, 'display_fn_name:plot_occupancy': {'plot_variable:OCCUPANCY': <neptune.attributes.atoms.file.File object at 0x00000282BF05A490>}}}, 'filter_name:maze_any': {'lap_dir:any': {'display_fn_name:1d_placefields': <neptune.attributes.atoms.file.File object at 0x00000282BF05A610>, 'display_fn_name:_display_1d_placefield_validations': <neptune.attributes.atoms.file.File object at 0x00000282BF05A580>, 'display_fn_name:_display_2d_placefield_result_plot_ratemaps_2D': <neptune.attributes.atoms.file.File object at 0x00000282BF05A730>, 'display_fn_name:plot_occupancy': {'plot_variable:OCCUPANCY': <neptune.attributes.atoms.file.File object at 0x00000282BF05A790>}}}, 'filter_name:maze_even': {'lap_dir:even': {'display_fn_name:1d_placefields': <neptune.attributes.atoms.file.File object at 0x00000282BF05A940>, 'display_fn_name:_display_1d_placefield_validations': <neptune.attributes.atoms.file.File object at 0x00000282BF05A880>, 'display_fn_name:_display_2d_placefield_result_plot_ratemaps_2D': <neptune.attributes.atoms.file.File object at 0x00000282BF05AA60>, 'display_fn_name:plot_occupancy': {'plot_variable:OCCUPANCY': <neptune.attributes.atoms.file.File object at 0x00000282BF05AAC0>}}}, 'filter_name:maze_odd': {'lap_dir:odd': {'display_fn_name:1d_placefields': <neptune.attributes.atoms.file.File object at 0x00000282BF05ABB0>, 'display_fn_name:_display_1d_placefield_validations': <neptune.attributes.atoms.file.File object at 0x00000282BF05AAF0>, 'display_fn_name:_display_2d_placefield_result_plot_ratemaps_2D': <neptune.attributes.atoms.file.File object at 0x00000282BF05ACD0>, 'display_fn_name:plot_occupancy': {'plot_variable:OCCUPANCY': <neptune.attributes.atoms.file.File object at 0x00000282BF05AD30>}}}, 'fn_name:long_short_firing_rate_indicies': {'display_fn_name:display_long_short_laps': <neptune.attributes.atoms.file.File object at 0x00000282BF05AEE0>}}\n",
      "not a figure file! a dictionary instead probably: type(a_fig_file_field): <class 'dict'>\n",
      "sub_fig_full_input_key: \"display_fn_name:BatchPhoJonathanReplayFRC/plot_result_set:long_only/aclus:(8,16,28,37,74,97,109)\"\n",
      "a_fig_output_path: \"C:\\Users\\pho\\repos\\Spike3DWorkEnv\\Spike3D\\data\\neptune\\commander.pho\\PhoDibaLongShortUpdated\\figs\\gor01_one_2006-6-08_14-26-15\\BatchPhoJonathanReplayFRC-long_only-(8,16,28,37,74,97,109).png\"\n",
      "\tdone.\n",
      "sub_fig_full_input_key: \"display_fn_name:BatchPhoJonathanReplayFRC/plot_result_set:long_only/aclus:(97,74,109,8,16,37,28)\"\n",
      "a_fig_output_path: \"C:\\Users\\pho\\repos\\Spike3DWorkEnv\\Spike3D\\data\\neptune\\commander.pho\\PhoDibaLongShortUpdated\\figs\\gor01_one_2006-6-08_14-26-15\\BatchPhoJonathanReplayFRC-long_only-(97,74,109,8,16,37,28).png\"\n",
      "\tdone.\n",
      "sub_fig_full_input_key: \"display_fn_name:BatchPhoJonathanReplayFRC/plot_result_set:shared/page:10of10/aclus:(105,106,107,108)\"\n",
      "a_fig_output_path: \"C:\\Users\\pho\\repos\\Spike3DWorkEnv\\Spike3D\\data\\neptune\\commander.pho\\PhoDibaLongShortUpdated\\figs\\gor01_one_2006-6-08_14-26-15\\BatchPhoJonathanReplayFRC-shared-10of10-(105,106,107,108).png\"\n",
      "\tdone.\n",
      "sub_fig_full_input_key: \"display_fn_name:BatchPhoJonathanReplayFRC/plot_result_set:shared/page:1of10/aclus:(2,3,5,6,7,9,10,12,14,15)\"\n",
      "a_fig_output_path: \"C:\\Users\\pho\\repos\\Spike3DWorkEnv\\Spike3D\\data\\neptune\\commander.pho\\PhoDibaLongShortUpdated\\figs\\gor01_one_2006-6-08_14-26-15\\BatchPhoJonathanReplayFRC-shared-1of10-(2,3,5,6,7,9,10,12,14,15).png\"\n"
     ]
    },
    {
     "data": {
      "application/vnd.jupyter.widget-view+json": {
       "model_id": "c000708bd1bd4180b708110473679384",
       "version_major": 2,
       "version_minor": 0
      },
      "text/plain": [
       "Fetching file...: 0 [00:00, ?/s]"
      ]
     },
     "metadata": {},
     "output_type": "display_data"
    },
    {
     "name": "stdout",
     "output_type": "stream",
     "text": [
      "\tdone.\n",
      "sub_fig_full_input_key: \"display_fn_name:BatchPhoJonathanReplayFRC/plot_result_set:shared/page:1of5/aclus:(54,61,102,81,68,70,84,7,45,71,34,17,51,92,5,83,93,49,69,96)\"\n",
      "a_fig_output_path: \"C:\\Users\\pho\\repos\\Spike3DWorkEnv\\Spike3D\\data\\neptune\\commander.pho\\PhoDibaLongShortUpdated\\figs\\gor01_one_2006-6-08_14-26-15\\BatchPhoJonathanReplayFRC-shared-1of5-(54,61,102,81,68,70,84,7,45,71,34,17,51,92,5,83,93,49,69,96).png\"\n"
     ]
    },
    {
     "data": {
      "application/vnd.jupyter.widget-view+json": {
       "model_id": "73b77665154245f5b19140fc99cf7c75",
       "version_major": 2,
       "version_minor": 0
      },
      "text/plain": [
       "Fetching file...: 0 [00:00, ?/s]"
      ]
     },
     "metadata": {},
     "output_type": "display_data"
    },
    {
     "name": "stdout",
     "output_type": "stream",
     "text": [
      "\tdone.\n",
      "sub_fig_full_input_key: \"display_fn_name:BatchPhoJonathanReplayFRC/plot_result_set:shared/page:2of10/aclus:(17,18,19,20,21,22,24,25,26,27)\"\n",
      "a_fig_output_path: \"C:\\Users\\pho\\repos\\Spike3DWorkEnv\\Spike3D\\data\\neptune\\commander.pho\\PhoDibaLongShortUpdated\\figs\\gor01_one_2006-6-08_14-26-15\\BatchPhoJonathanReplayFRC-shared-2of10-(17,18,19,20,21,22,24,25,26,27).png\"\n"
     ]
    },
    {
     "data": {
      "application/vnd.jupyter.widget-view+json": {
       "model_id": "76aef579095643f2bc4733ed099a5787",
       "version_major": 2,
       "version_minor": 0
      },
      "text/plain": [
       "Fetching file...: 0 [00:00, ?/s]"
      ]
     },
     "metadata": {},
     "output_type": "display_data"
    },
    {
     "name": "stdout",
     "output_type": "stream",
     "text": [
      "\tdone.\n",
      "sub_fig_full_input_key: \"display_fn_name:BatchPhoJonathanReplayFRC/plot_result_set:shared/page:2of5/aclus:(26,15,14,31,32,55,3,33,50,76,25,24,82,10,90,78,64,75,85,73)\"\n",
      "a_fig_output_path: \"C:\\Users\\pho\\repos\\Spike3DWorkEnv\\Spike3D\\data\\neptune\\commander.pho\\PhoDibaLongShortUpdated\\figs\\gor01_one_2006-6-08_14-26-15\\BatchPhoJonathanReplayFRC-shared-2of5-(26,15,14,31,32,55,3,33,50,76,25,24,82,10,90,78,64,75,85,73).png\"\n"
     ]
    },
    {
     "data": {
      "application/vnd.jupyter.widget-view+json": {
       "model_id": "2f22667ebb7548a18dba4175e290729e",
       "version_major": 2,
       "version_minor": 0
      },
      "text/plain": [
       "Fetching file...: 0 [00:00, ?/s]"
      ]
     },
     "metadata": {},
     "output_type": "display_data"
    },
    {
     "name": "stdout",
     "output_type": "stream",
     "text": [
      "\tdone.\n",
      "sub_fig_full_input_key: \"display_fn_name:BatchPhoJonathanReplayFRC/plot_result_set:shared/page:3of10/aclus:(29,30,31,32,33,34,35,36,38,39)\"\n",
      "a_fig_output_path: \"C:\\Users\\pho\\repos\\Spike3DWorkEnv\\Spike3D\\data\\neptune\\commander.pho\\PhoDibaLongShortUpdated\\figs\\gor01_one_2006-6-08_14-26-15\\BatchPhoJonathanReplayFRC-shared-3of10-(29,30,31,32,33,34,35,36,38,39).png\"\n"
     ]
    },
    {
     "data": {
      "application/vnd.jupyter.widget-view+json": {
       "model_id": "6857a6c2a1e3450d9efa050316e271e6",
       "version_major": 2,
       "version_minor": 0
      },
      "text/plain": [
       "Fetching file...: 0 [00:00, ?/s]"
      ]
     },
     "metadata": {},
     "output_type": "display_data"
    },
    {
     "name": "stdout",
     "output_type": "stream",
     "text": [
      "\tdone.\n",
      "sub_fig_full_input_key: \"display_fn_name:BatchPhoJonathanReplayFRC/plot_result_set:shared/page:3of5/aclus:(41,86,107,100,53,62,88,35,89,98,56,59,60,108,57,48,63,67,66,19)\"\n",
      "a_fig_output_path: \"C:\\Users\\pho\\repos\\Spike3DWorkEnv\\Spike3D\\data\\neptune\\commander.pho\\PhoDibaLongShortUpdated\\figs\\gor01_one_2006-6-08_14-26-15\\BatchPhoJonathanReplayFRC-shared-3of5-(41,86,107,100,53,62,88,35,89,98,56,59,60,108,57,48,63,67,66,19).png\"\n"
     ]
    },
    {
     "data": {
      "application/vnd.jupyter.widget-view+json": {
       "model_id": "c92dc151e7ca4eefbd93b9ee6cbaeb5f",
       "version_major": 2,
       "version_minor": 0
      },
      "text/plain": [
       "Fetching file...: 0 [00:00, ?/s]"
      ]
     },
     "metadata": {},
     "output_type": "display_data"
    },
    {
     "name": "stdout",
     "output_type": "stream",
     "text": [
      "\tdone.\n",
      "sub_fig_full_input_key: \"display_fn_name:BatchPhoJonathanReplayFRC/plot_result_set:shared/page:4of10/aclus:(40,41,42,43,44,45,46,47,48,49)\"\n",
      "a_fig_output_path: \"C:\\Users\\pho\\repos\\Spike3DWorkEnv\\Spike3D\\data\\neptune\\commander.pho\\PhoDibaLongShortUpdated\\figs\\gor01_one_2006-6-08_14-26-15\\BatchPhoJonathanReplayFRC-shared-4of10-(40,41,42,43,44,45,46,47,48,49).png\"\n"
     ]
    },
    {
     "data": {
      "application/vnd.jupyter.widget-view+json": {
       "model_id": "957833617b5642c8989908fa0dc54560",
       "version_major": 2,
       "version_minor": 0
      },
      "text/plain": [
       "Fetching file...: 0 [00:00, ?/s]"
      ]
     },
     "metadata": {},
     "output_type": "display_data"
    },
    {
     "name": "stdout",
     "output_type": "stream",
     "text": [
      "\tdone.\n",
      "sub_fig_full_input_key: \"display_fn_name:BatchPhoJonathanReplayFRC/plot_result_set:shared/page:4of5/aclus:(9,36,2,6,12,18,20,21,22,27,29,30,38,39,40,42,43,44,46,47)\"\n",
      "a_fig_output_path: \"C:\\Users\\pho\\repos\\Spike3DWorkEnv\\Spike3D\\data\\neptune\\commander.pho\\PhoDibaLongShortUpdated\\figs\\gor01_one_2006-6-08_14-26-15\\BatchPhoJonathanReplayFRC-shared-4of5-(9,36,2,6,12,18,20,21,22,27,29,30,38,39,40,42,43,44,46,47).png\"\n"
     ]
    },
    {
     "data": {
      "application/vnd.jupyter.widget-view+json": {
       "model_id": "4b569ce73d98447997fcaedb5e33b9c2",
       "version_major": 2,
       "version_minor": 0
      },
      "text/plain": [
       "Fetching file...: 0 [00:00, ?/s]"
      ]
     },
     "metadata": {},
     "output_type": "display_data"
    },
    {
     "name": "stdout",
     "output_type": "stream",
     "text": [
      "\tdone.\n",
      "sub_fig_full_input_key: \"display_fn_name:BatchPhoJonathanReplayFRC/plot_result_set:shared/page:5of10/aclus:(50,51,53,54,55,56,57,59,60,61)\"\n",
      "a_fig_output_path: \"C:\\Users\\pho\\repos\\Spike3DWorkEnv\\Spike3D\\data\\neptune\\commander.pho\\PhoDibaLongShortUpdated\\figs\\gor01_one_2006-6-08_14-26-15\\BatchPhoJonathanReplayFRC-shared-5of10-(50,51,53,54,55,56,57,59,60,61).png\"\n"
     ]
    },
    {
     "data": {
      "application/vnd.jupyter.widget-view+json": {
       "model_id": "47a69b977c3549b2b82f337f3b1e0c1e",
       "version_major": 2,
       "version_minor": 0
      },
      "text/plain": [
       "Fetching file...: 0 [00:00, ?/s]"
      ]
     },
     "metadata": {},
     "output_type": "display_data"
    },
    {
     "name": "stdout",
     "output_type": "stream",
     "text": [
      "\tdone.\n",
      "sub_fig_full_input_key: \"display_fn_name:BatchPhoJonathanReplayFRC/plot_result_set:shared/page:5of5/aclus:(65,72,77,79,80,91,94,95,99,101,103,104,105,106)\"\n",
      "a_fig_output_path: \"C:\\Users\\pho\\repos\\Spike3DWorkEnv\\Spike3D\\data\\neptune\\commander.pho\\PhoDibaLongShortUpdated\\figs\\gor01_one_2006-6-08_14-26-15\\BatchPhoJonathanReplayFRC-shared-5of5-(65,72,77,79,80,91,94,95,99,101,103,104,105,106).png\"\n"
     ]
    },
    {
     "data": {
      "application/vnd.jupyter.widget-view+json": {
       "model_id": "fcb238d2f85f46b0a6c51156efae394d",
       "version_major": 2,
       "version_minor": 0
      },
      "text/plain": [
       "Fetching file...: 0 [00:00, ?/s]"
      ]
     },
     "metadata": {},
     "output_type": "display_data"
    },
    {
     "name": "stdout",
     "output_type": "stream",
     "text": [
      "\tdone.\n",
      "sub_fig_full_input_key: \"display_fn_name:BatchPhoJonathanReplayFRC/plot_result_set:shared/page:6of10/aclus:(62,63,64,65,66,67,68,69,70,71)\"\n",
      "a_fig_output_path: \"C:\\Users\\pho\\repos\\Spike3DWorkEnv\\Spike3D\\data\\neptune\\commander.pho\\PhoDibaLongShortUpdated\\figs\\gor01_one_2006-6-08_14-26-15\\BatchPhoJonathanReplayFRC-shared-6of10-(62,63,64,65,66,67,68,69,70,71).png\"\n"
     ]
    },
    {
     "data": {
      "application/vnd.jupyter.widget-view+json": {
       "model_id": "900178ccb544471c80218cca7309819f",
       "version_major": 2,
       "version_minor": 0
      },
      "text/plain": [
       "Fetching file...: 0 [00:00, ?/s]"
      ]
     },
     "metadata": {},
     "output_type": "display_data"
    },
    {
     "name": "stdout",
     "output_type": "stream",
     "text": [
      "\tdone.\n",
      "sub_fig_full_input_key: \"display_fn_name:BatchPhoJonathanReplayFRC/plot_result_set:shared/page:7of10/aclus:(72,73,75,76,77,78,79,80,81,82)\"\n",
      "a_fig_output_path: \"C:\\Users\\pho\\repos\\Spike3DWorkEnv\\Spike3D\\data\\neptune\\commander.pho\\PhoDibaLongShortUpdated\\figs\\gor01_one_2006-6-08_14-26-15\\BatchPhoJonathanReplayFRC-shared-7of10-(72,73,75,76,77,78,79,80,81,82).png\"\n"
     ]
    },
    {
     "data": {
      "application/vnd.jupyter.widget-view+json": {
       "model_id": "21d90a14421b46229e87d7a8015fdafc",
       "version_major": 2,
       "version_minor": 0
      },
      "text/plain": [
       "Fetching file...: 0 [00:00, ?/s]"
      ]
     },
     "metadata": {},
     "output_type": "display_data"
    },
    {
     "name": "stdout",
     "output_type": "stream",
     "text": [
      "\tdone.\n",
      "sub_fig_full_input_key: \"display_fn_name:BatchPhoJonathanReplayFRC/plot_result_set:shared/page:8of10/aclus:(83,84,85,86,88,89,90,91,92,93)\"\n",
      "a_fig_output_path: \"C:\\Users\\pho\\repos\\Spike3DWorkEnv\\Spike3D\\data\\neptune\\commander.pho\\PhoDibaLongShortUpdated\\figs\\gor01_one_2006-6-08_14-26-15\\BatchPhoJonathanReplayFRC-shared-8of10-(83,84,85,86,88,89,90,91,92,93).png\"\n"
     ]
    },
    {
     "data": {
      "application/vnd.jupyter.widget-view+json": {
       "model_id": "2d68e00955f1411ab1c25484b00aa4da",
       "version_major": 2,
       "version_minor": 0
      },
      "text/plain": [
       "Fetching file...: 0 [00:00, ?/s]"
      ]
     },
     "metadata": {},
     "output_type": "display_data"
    },
    {
     "name": "stdout",
     "output_type": "stream",
     "text": [
      "\tdone.\n",
      "sub_fig_full_input_key: \"display_fn_name:BatchPhoJonathanReplayFRC/plot_result_set:shared/page:9of10/aclus:(94,95,96,98,99,100,101,102,103,104)\"\n",
      "a_fig_output_path: \"C:\\Users\\pho\\repos\\Spike3DWorkEnv\\Spike3D\\data\\neptune\\commander.pho\\PhoDibaLongShortUpdated\\figs\\gor01_one_2006-6-08_14-26-15\\BatchPhoJonathanReplayFRC-shared-9of10-(94,95,96,98,99,100,101,102,103,104).png\"\n"
     ]
    },
    {
     "data": {
      "application/vnd.jupyter.widget-view+json": {
       "model_id": "6e387fedecc7447eb4e5a620c480280e",
       "version_major": 2,
       "version_minor": 0
      },
      "text/plain": [
       "Fetching file...: 0 [00:00, ?/s]"
      ]
     },
     "metadata": {},
     "output_type": "display_data"
    },
    {
     "name": "stdout",
     "output_type": "stream",
     "text": [
      "\tdone.\n",
      "sub_fig_full_input_key: \"display_fn_name:BatchPhoJonathanReplayFRC/plot_result_set:short_only/aclus:(4,11,13,23,52,58,87)\"\n",
      "a_fig_output_path: \"C:\\Users\\pho\\repos\\Spike3DWorkEnv\\Spike3D\\data\\neptune\\commander.pho\\PhoDibaLongShortUpdated\\figs\\gor01_one_2006-6-08_14-26-15\\BatchPhoJonathanReplayFRC-short_only-(4,11,13,23,52,58,87).png\"\n",
      "\tdone.\n",
      "a_parsed_structure: {'display_fn_name:BatchPhoJonathanReplayFRC': {'plot_result_set:long_only': {'aclus:(15,16,32,91,95)': <neptune.attributes.atoms.file.File object at 0x00000282BD4E67C0>, 'aclus:(15,95,16,91,32)': <neptune.attributes.atoms.file.File object at 0x00000282BD4E66D0>}, 'plot_result_set:shared': {'page:1of5': {'aclus:(97,41,33,43,50,53,54,84,38,85,19,81,9,79,20,76,8,56,62,74)': <neptune.attributes.atoms.file.File object at 0x00000282BD4E6970>}, 'page:1of9': {'aclus:(2,3,4,5,6,8,9,13,14,17)': <neptune.attributes.atoms.file.File object at 0x00000282BD4E6F40>}, 'page:2of5': {'aclus:(83,25,24,5,61,69,89,51,77,28,39,47,57,35,55,63,72,31,49,82)': <neptune.attributes.atoms.file.File object at 0x00000282BD4E6E80>}, 'page:2of9': {'aclus:(18,19,20,21,22,23,24,25,26,27)': <neptune.attributes.atoms.file.File object at 0x00000282BD4E6E50>}, 'page:3of5': {'aclus:(52,60,40,18,73,68,94,4,64,23,21,13,2,3,6,14,17,22,26,27)': <neptune.attributes.atoms.file.File object at 0x00000282BE4D0FD0>}, 'page:3of9': {'aclus:(28,29,30,31,33,34,35,36,38,39)': <neptune.attributes.atoms.file.File object at 0x00000282BE5011C0>}, 'page:4of5': {'aclus:(29,30,34,36,42,44,45,46,48,58,59,65,66,67,70,78,86,87,88,90)': <neptune.attributes.atoms.file.File object at 0x00000282BE5012B0>}, 'page:4of9': {'aclus:(40,41,42,43,44,45,46,47,48,49)': <neptune.attributes.atoms.file.File object at 0x00000282BE5013A0>}, 'page:5of5': {'aclus:(93,96)': <neptune.attributes.atoms.file.File object at 0x00000282BE501490>}, 'page:5of9': {'aclus:(50,51,52,53,54,55,56,57,58,59)': <neptune.attributes.atoms.file.File object at 0x00000282BE501580>}, 'page:6of9': {'aclus:(60,61,62,63,64,65,66,67,68,69)': <neptune.attributes.atoms.file.File object at 0x00000282BE501670>}, 'page:7of9': {'aclus:(70,72,73,74,76,77,78,79,81,82)': <neptune.attributes.atoms.file.File object at 0x00000282BE501760>}, 'page:8of9': {'aclus:(83,84,85,86,87,88,89,90,93,94)': <neptune.attributes.atoms.file.File object at 0x00000282BE501850>}, 'page:9of9': {'aclus:(96,97)': <neptune.attributes.atoms.file.File object at 0x00000282BE501940>}}, 'plot_result_set:short_only': {'aclus:(7,10,11,12,37,71,75,80,92)': <neptune.attributes.atoms.file.File object at 0x00000282BE501A30>}}, 'display_fn_name:_display_grid_bin_bounds_validation': <neptune.attributes.atoms.file.File object at 0x00000282BE501970>, 'display_fn_name:bidir_track_remap': {'subplot_name:Track Remapping': <neptune.attributes.atoms.file.File object at 0x00000282BE501AF0>}, 'display_fn_name:display_long_short_laps': <neptune.attributes.atoms.file.File object at 0x00000282BE501B50>, 'display_fn_name:display_short_long_pf1D_comparison': {'track:long': <neptune.attributes.atoms.file.File object at 0x00000282BE501C10>, 'track:short': <neptune.attributes.atoms.file.File object at 0x00000282BE501C70>}, 'display_fn_name:plot_all_epoch_bins_marginal_predictions': {'subplot_name:Laps all_epoch_binned Marginals': <neptune.attributes.atoms.file.File object at 0x00000282BE501D30>, 'subplot_name:Ripple all_epoch_binned Marginals': <neptune.attributes.atoms.file.File object at 0x00000282BE501D90>}, 'display_fn_name:plot_expected_vs_observed': {'x_variable:epoch_idx': {'variable:obs_exp_diff_ptp': <neptune.attributes.atoms.file.File object at 0x00000282BE501E50>}}, 'display_fn_name:plot_histograms': {'subplot_name:laps_result_tuple': <neptune.attributes.atoms.file.File object at 0x00000282BE501EB0>, 'subplot_name:ripple_result_tuple': <neptune.attributes.atoms.file.File object at 0x00000282BE501FD0>}, 'display_fn_name:plot_quantile_diffs': {'subplot_name:BestDir': <neptune.attributes.atoms.file.File object at 0x00000282BE4FF0D0>}, 'display_fn_name:plot_rank_order_epoch_inst_fr_result_tuples': {'subplot_name:Lap': {'subplotsubplot_name:raw': <neptune.attributes.atoms.file.File object at 0x00000282BE4FF130>, 'subplotsubplot_name:z_score_diff': <neptune.attributes.atoms.file.File object at 0x00000282BE4FF1F0>}, 'subplot_name:Ripple': {'subplotsubplot_name:raw': <neptune.attributes.atoms.file.File object at 0x00000282BE4FF310>, 'subplotsubplot_name:z_score_diff': <neptune.attributes.atoms.file.File object at 0x00000282BE4FF370>}}, 'display_fn_name:plot_rank_order_histograms': {'subplot_name:Ripple Most-likely Spearman Rho': <neptune.attributes.atoms.file.File object at 0x00000282BE4FF430>, 'subplot_name:Ripple Most-likely Z-scores': <neptune.attributes.atoms.file.File object at 0x00000282BE4FF490>, 'subplot_name:Ripple Z-scores': <neptune.attributes.atoms.file.File object at 0x00000282BE4FF550>, 'subplot_name:Ripple real correlations': <neptune.attributes.atoms.file.File object at 0x00000282BE4FF5B0>}, 'display_fn_name:running_and_replay_speeds_over_time': <neptune.attributes.atoms.file.File object at 0x00000282BE4FF610>, 'filter_name:maze1_any': {'lap_dir:any': {'display_fn_name:1d_placefields': <neptune.attributes.atoms.file.File object at 0x00000282BE4FF670>, 'display_fn_name:_display_1d_placefield_validations': <neptune.attributes.atoms.file.File object at 0x00000282BE4FF6D0>, 'display_fn_name:_display_2d_placefield_result_plot_ratemaps_2D': <neptune.attributes.atoms.file.File object at 0x00000282BE4FF7F0>, 'display_fn_name:plot_occupancy': {'plot_variable:OCCUPANCY': <neptune.attributes.atoms.file.File object at 0x00000282BE4FF850>}, 'display_fn_name:plot_single_track_firing_rate_compare': <neptune.attributes.atoms.file.File object at 0x00000282BE4FF9A0>}}, 'filter_name:maze1_even': {'lap_dir:even': {'display_fn_name:1d_placefields': <neptune.attributes.atoms.file.File object at 0x00000282BE4FF8E0>, 'display_fn_name:_display_1d_placefield_validations': <neptune.attributes.atoms.file.File object at 0x00000282BE4FFA00>, 'display_fn_name:_display_2d_placefield_result_plot_ratemaps_2D': <neptune.attributes.atoms.file.File object at 0x00000282BE4FFB20>, 'display_fn_name:plot_occupancy': {'plot_variable:OCCUPANCY': <neptune.attributes.atoms.file.File object at 0x00000282BE4FFB80>}}}, 'filter_name:maze1_odd': {'lap_dir:odd': {'display_fn_name:1d_placefields': <neptune.attributes.atoms.file.File object at 0x00000282BE4FFCD0>, 'display_fn_name:_display_1d_placefield_validations': <neptune.attributes.atoms.file.File object at 0x00000282BE4FFC10>, 'display_fn_name:_display_2d_placefield_result_plot_ratemaps_2D': <neptune.attributes.atoms.file.File object at 0x00000282BE4FFDF0>, 'display_fn_name:plot_occupancy': {'plot_variable:OCCUPANCY': <neptune.attributes.atoms.file.File object at 0x00000282BE4FFE50>}}}, 'filter_name:maze2_any': {'lap_dir:any': {'display_fn_name:1d_placefields': <neptune.attributes.atoms.file.File object at 0x00000282BE4FFFA0>, 'display_fn_name:_display_1d_placefield_validations': <neptune.attributes.atoms.file.File object at 0x00000282BE4FFEE0>, 'display_fn_name:_display_2d_placefield_result_plot_ratemaps_2D': <neptune.attributes.atoms.file.File object at 0x00000282BE4F3100>, 'display_fn_name:plot_occupancy': {'plot_variable:OCCUPANCY': <neptune.attributes.atoms.file.File object at 0x00000282BE4F3160>}, 'display_fn_name:plot_single_track_firing_rate_compare': <neptune.attributes.atoms.file.File object at 0x00000282BE4F32B0>}}, 'filter_name:maze2_even': {'lap_dir:even': {'display_fn_name:1d_placefields': <neptune.attributes.atoms.file.File object at 0x00000282BE4F31F0>, 'display_fn_name:_display_1d_placefield_validations': <neptune.attributes.atoms.file.File object at 0x00000282BE4F3310>, 'display_fn_name:_display_2d_placefield_result_plot_ratemaps_2D': <neptune.attributes.atoms.file.File object at 0x00000282BE4F3430>, 'display_fn_name:plot_occupancy': {'plot_variable:OCCUPANCY': <neptune.attributes.atoms.file.File object at 0x00000282BE4F3490>}}}, 'filter_name:maze2_odd': {'lap_dir:odd': {'display_fn_name:1d_placefields': <neptune.attributes.atoms.file.File object at 0x00000282BE4F35E0>, 'display_fn_name:_display_1d_placefield_validations': <neptune.attributes.atoms.file.File object at 0x00000282BE4F3520>, 'display_fn_name:_display_2d_placefield_result_plot_ratemaps_2D': <neptune.attributes.atoms.file.File object at 0x00000282BE4F3700>, 'display_fn_name:plot_occupancy': {'plot_variable:OCCUPANCY': <neptune.attributes.atoms.file.File object at 0x00000282BE4F3760>}}}, 'filter_name:maze_any': {'lap_dir:any': {'display_fn_name:1d_placefields': <neptune.attributes.atoms.file.File object at 0x00000282BE4F38B0>, 'display_fn_name:_display_1d_placefield_validations': <neptune.attributes.atoms.file.File object at 0x00000282BE4F37F0>, 'display_fn_name:_display_2d_placefield_result_plot_ratemaps_2D': <neptune.attributes.atoms.file.File object at 0x00000282BE4F39D0>, 'display_fn_name:plot_occupancy': {'plot_variable:OCCUPANCY': <neptune.attributes.atoms.file.File object at 0x00000282BE4F3A30>}}}, 'filter_name:maze_even': {'lap_dir:even': {'display_fn_name:1d_placefields': <neptune.attributes.atoms.file.File object at 0x00000282BE4F3B80>, 'display_fn_name:_display_1d_placefield_validations': <neptune.attributes.atoms.file.File object at 0x00000282BE4F3AC0>, 'display_fn_name:_display_2d_placefield_result_plot_ratemaps_2D': <neptune.attributes.atoms.file.File object at 0x00000282BE4F3CA0>, 'display_fn_name:plot_occupancy': {'plot_variable:OCCUPANCY': <neptune.attributes.atoms.file.File object at 0x00000282BE4F3D00>}}}, 'filter_name:maze_odd': {'lap_dir:odd': {'display_fn_name:1d_placefields': <neptune.attributes.atoms.file.File object at 0x00000282BE4F3E50>, 'display_fn_name:_display_1d_placefield_validations': <neptune.attributes.atoms.file.File object at 0x00000282BE4F3D90>, 'display_fn_name:_display_2d_placefield_result_plot_ratemaps_2D': <neptune.attributes.atoms.file.File object at 0x00000282BE4F3F70>, 'display_fn_name:plot_occupancy': {'plot_variable:OCCUPANCY': <neptune.attributes.atoms.file.File object at 0x00000282BE4F3FD0>}}}, 'fn_name:long_short_firing_rate_indicies': {'display_fn_name:display_long_short_laps': <neptune.attributes.atoms.file.File object at 0x00000282BE4FB160>}}\n",
      "not a figure file! a dictionary instead probably: type(a_fig_file_field): <class 'dict'>\n",
      "sub_fig_full_input_key: \"display_fn_name:BatchPhoJonathanReplayFRC/plot_result_set:long_only/aclus:(15,16,32,91,95)\"\n",
      "a_fig_output_path: \"C:\\Users\\pho\\repos\\Spike3DWorkEnv\\Spike3D\\data\\neptune\\commander.pho\\PhoDibaLongShortUpdated\\figs\\gor01_two_2006-6-09_22-24-40\\BatchPhoJonathanReplayFRC-long_only-(15,16,32,91,95).png\"\n",
      "\tdone.\n",
      "sub_fig_full_input_key: \"display_fn_name:BatchPhoJonathanReplayFRC/plot_result_set:long_only/aclus:(15,95,16,91,32)\"\n",
      "a_fig_output_path: \"C:\\Users\\pho\\repos\\Spike3DWorkEnv\\Spike3D\\data\\neptune\\commander.pho\\PhoDibaLongShortUpdated\\figs\\gor01_two_2006-6-09_22-24-40\\BatchPhoJonathanReplayFRC-long_only-(15,95,16,91,32).png\"\n",
      "\tdone.\n",
      "sub_fig_full_input_key: \"display_fn_name:BatchPhoJonathanReplayFRC/plot_result_set:shared/page:1of5/aclus:(97,41,33,43,50,53,54,84,38,85,19,81,9,79,20,76,8,56,62,74)\"\n",
      "a_fig_output_path: \"C:\\Users\\pho\\repos\\Spike3DWorkEnv\\Spike3D\\data\\neptune\\commander.pho\\PhoDibaLongShortUpdated\\figs\\gor01_two_2006-6-09_22-24-40\\BatchPhoJonathanReplayFRC-shared-1of5-(97,41,33,43,50,53,54,84,38,85,19,81,9,79,20,76,8,56,62,74).png\"\n"
     ]
    },
    {
     "data": {
      "application/vnd.jupyter.widget-view+json": {
       "model_id": "67c1ecc80b824dcca7b456386a886d7a",
       "version_major": 2,
       "version_minor": 0
      },
      "text/plain": [
       "Fetching file...: 0 [00:00, ?/s]"
      ]
     },
     "metadata": {},
     "output_type": "display_data"
    },
    {
     "name": "stdout",
     "output_type": "stream",
     "text": [
      "\tdone.\n",
      "sub_fig_full_input_key: \"display_fn_name:BatchPhoJonathanReplayFRC/plot_result_set:shared/page:1of9/aclus:(2,3,4,5,6,8,9,13,14,17)\"\n",
      "a_fig_output_path: \"C:\\Users\\pho\\repos\\Spike3DWorkEnv\\Spike3D\\data\\neptune\\commander.pho\\PhoDibaLongShortUpdated\\figs\\gor01_two_2006-6-09_22-24-40\\BatchPhoJonathanReplayFRC-shared-1of9-(2,3,4,5,6,8,9,13,14,17).png\"\n"
     ]
    },
    {
     "data": {
      "application/vnd.jupyter.widget-view+json": {
       "model_id": "b222e652515f4b8a8d9d1a2e16e6739a",
       "version_major": 2,
       "version_minor": 0
      },
      "text/plain": [
       "Fetching file...: 0 [00:00, ?/s]"
      ]
     },
     "metadata": {},
     "output_type": "display_data"
    },
    {
     "name": "stdout",
     "output_type": "stream",
     "text": [
      "\tdone.\n",
      "sub_fig_full_input_key: \"display_fn_name:BatchPhoJonathanReplayFRC/plot_result_set:shared/page:2of5/aclus:(83,25,24,5,61,69,89,51,77,28,39,47,57,35,55,63,72,31,49,82)\"\n",
      "a_fig_output_path: \"C:\\Users\\pho\\repos\\Spike3DWorkEnv\\Spike3D\\data\\neptune\\commander.pho\\PhoDibaLongShortUpdated\\figs\\gor01_two_2006-6-09_22-24-40\\BatchPhoJonathanReplayFRC-shared-2of5-(83,25,24,5,61,69,89,51,77,28,39,47,57,35,55,63,72,31,49,82).png\"\n"
     ]
    },
    {
     "data": {
      "application/vnd.jupyter.widget-view+json": {
       "model_id": "858f9adea16e49e0bc00d5aa120165f8",
       "version_major": 2,
       "version_minor": 0
      },
      "text/plain": [
       "Fetching file...: 0 [00:00, ?/s]"
      ]
     },
     "metadata": {},
     "output_type": "display_data"
    },
    {
     "name": "stdout",
     "output_type": "stream",
     "text": [
      "\tdone.\n",
      "sub_fig_full_input_key: \"display_fn_name:BatchPhoJonathanReplayFRC/plot_result_set:shared/page:2of9/aclus:(18,19,20,21,22,23,24,25,26,27)\"\n",
      "a_fig_output_path: \"C:\\Users\\pho\\repos\\Spike3DWorkEnv\\Spike3D\\data\\neptune\\commander.pho\\PhoDibaLongShortUpdated\\figs\\gor01_two_2006-6-09_22-24-40\\BatchPhoJonathanReplayFRC-shared-2of9-(18,19,20,21,22,23,24,25,26,27).png\"\n",
      "\tdone.\n",
      "sub_fig_full_input_key: \"display_fn_name:BatchPhoJonathanReplayFRC/plot_result_set:shared/page:3of5/aclus:(52,60,40,18,73,68,94,4,64,23,21,13,2,3,6,14,17,22,26,27)\"\n",
      "a_fig_output_path: \"C:\\Users\\pho\\repos\\Spike3DWorkEnv\\Spike3D\\data\\neptune\\commander.pho\\PhoDibaLongShortUpdated\\figs\\gor01_two_2006-6-09_22-24-40\\BatchPhoJonathanReplayFRC-shared-3of5-(52,60,40,18,73,68,94,4,64,23,21,13,2,3,6,14,17,22,26,27).png\"\n"
     ]
    },
    {
     "data": {
      "application/vnd.jupyter.widget-view+json": {
       "model_id": "112126b6eedd477291612645f2706566",
       "version_major": 2,
       "version_minor": 0
      },
      "text/plain": [
       "Fetching file...: 0 [00:00, ?/s]"
      ]
     },
     "metadata": {},
     "output_type": "display_data"
    },
    {
     "name": "stdout",
     "output_type": "stream",
     "text": [
      "\tdone.\n",
      "sub_fig_full_input_key: \"display_fn_name:BatchPhoJonathanReplayFRC/plot_result_set:shared/page:3of9/aclus:(28,29,30,31,33,34,35,36,38,39)\"\n",
      "a_fig_output_path: \"C:\\Users\\pho\\repos\\Spike3DWorkEnv\\Spike3D\\data\\neptune\\commander.pho\\PhoDibaLongShortUpdated\\figs\\gor01_two_2006-6-09_22-24-40\\BatchPhoJonathanReplayFRC-shared-3of9-(28,29,30,31,33,34,35,36,38,39).png\"\n"
     ]
    },
    {
     "data": {
      "application/vnd.jupyter.widget-view+json": {
       "model_id": "1d8ef7ae6cab444b81297a5c41e69b04",
       "version_major": 2,
       "version_minor": 0
      },
      "text/plain": [
       "Fetching file...: 0 [00:00, ?/s]"
      ]
     },
     "metadata": {},
     "output_type": "display_data"
    },
    {
     "name": "stdout",
     "output_type": "stream",
     "text": [
      "\tdone.\n",
      "sub_fig_full_input_key: \"display_fn_name:BatchPhoJonathanReplayFRC/plot_result_set:shared/page:4of5/aclus:(29,30,34,36,42,44,45,46,48,58,59,65,66,67,70,78,86,87,88,90)\"\n",
      "a_fig_output_path: \"C:\\Users\\pho\\repos\\Spike3DWorkEnv\\Spike3D\\data\\neptune\\commander.pho\\PhoDibaLongShortUpdated\\figs\\gor01_two_2006-6-09_22-24-40\\BatchPhoJonathanReplayFRC-shared-4of5-(29,30,34,36,42,44,45,46,48,58,59,65,66,67,70,78,86,87,88,90).png\"\n"
     ]
    },
    {
     "data": {
      "application/vnd.jupyter.widget-view+json": {
       "model_id": "4479dbc519c64f51a6dd6590a2719538",
       "version_major": 2,
       "version_minor": 0
      },
      "text/plain": [
       "Fetching file...: 0 [00:00, ?/s]"
      ]
     },
     "metadata": {},
     "output_type": "display_data"
    },
    {
     "name": "stdout",
     "output_type": "stream",
     "text": [
      "\tdone.\n",
      "sub_fig_full_input_key: \"display_fn_name:BatchPhoJonathanReplayFRC/plot_result_set:shared/page:4of9/aclus:(40,41,42,43,44,45,46,47,48,49)\"\n",
      "a_fig_output_path: \"C:\\Users\\pho\\repos\\Spike3DWorkEnv\\Spike3D\\data\\neptune\\commander.pho\\PhoDibaLongShortUpdated\\figs\\gor01_two_2006-6-09_22-24-40\\BatchPhoJonathanReplayFRC-shared-4of9-(40,41,42,43,44,45,46,47,48,49).png\"\n"
     ]
    },
    {
     "data": {
      "application/vnd.jupyter.widget-view+json": {
       "model_id": "16885e38c10a46c78435cf23fd2ac9df",
       "version_major": 2,
       "version_minor": 0
      },
      "text/plain": [
       "Fetching file...: 0 [00:00, ?/s]"
      ]
     },
     "metadata": {},
     "output_type": "display_data"
    },
    {
     "name": "stdout",
     "output_type": "stream",
     "text": [
      "\tdone.\n",
      "sub_fig_full_input_key: \"display_fn_name:BatchPhoJonathanReplayFRC/plot_result_set:shared/page:5of5/aclus:(93,96)\"\n",
      "a_fig_output_path: \"C:\\Users\\pho\\repos\\Spike3DWorkEnv\\Spike3D\\data\\neptune\\commander.pho\\PhoDibaLongShortUpdated\\figs\\gor01_two_2006-6-09_22-24-40\\BatchPhoJonathanReplayFRC-shared-5of5-(93,96).png\"\n",
      "\tdone.\n",
      "sub_fig_full_input_key: \"display_fn_name:BatchPhoJonathanReplayFRC/plot_result_set:shared/page:5of9/aclus:(50,51,52,53,54,55,56,57,58,59)\"\n",
      "a_fig_output_path: \"C:\\Users\\pho\\repos\\Spike3DWorkEnv\\Spike3D\\data\\neptune\\commander.pho\\PhoDibaLongShortUpdated\\figs\\gor01_two_2006-6-09_22-24-40\\BatchPhoJonathanReplayFRC-shared-5of9-(50,51,52,53,54,55,56,57,58,59).png\"\n"
     ]
    },
    {
     "data": {
      "application/vnd.jupyter.widget-view+json": {
       "model_id": "801421172ed54c57b5cbeb3be0353988",
       "version_major": 2,
       "version_minor": 0
      },
      "text/plain": [
       "Fetching file...: 0 [00:00, ?/s]"
      ]
     },
     "metadata": {},
     "output_type": "display_data"
    },
    {
     "name": "stdout",
     "output_type": "stream",
     "text": [
      "\tdone.\n",
      "sub_fig_full_input_key: \"display_fn_name:BatchPhoJonathanReplayFRC/plot_result_set:shared/page:6of9/aclus:(60,61,62,63,64,65,66,67,68,69)\"\n",
      "a_fig_output_path: \"C:\\Users\\pho\\repos\\Spike3DWorkEnv\\Spike3D\\data\\neptune\\commander.pho\\PhoDibaLongShortUpdated\\figs\\gor01_two_2006-6-09_22-24-40\\BatchPhoJonathanReplayFRC-shared-6of9-(60,61,62,63,64,65,66,67,68,69).png\"\n"
     ]
    },
    {
     "data": {
      "application/vnd.jupyter.widget-view+json": {
       "model_id": "01c146e043634dbf8c7ce035c1c47a95",
       "version_major": 2,
       "version_minor": 0
      },
      "text/plain": [
       "Fetching file...: 0 [00:00, ?/s]"
      ]
     },
     "metadata": {},
     "output_type": "display_data"
    },
    {
     "name": "stdout",
     "output_type": "stream",
     "text": [
      "\tdone.\n",
      "sub_fig_full_input_key: \"display_fn_name:BatchPhoJonathanReplayFRC/plot_result_set:shared/page:7of9/aclus:(70,72,73,74,76,77,78,79,81,82)\"\n",
      "a_fig_output_path: \"C:\\Users\\pho\\repos\\Spike3DWorkEnv\\Spike3D\\data\\neptune\\commander.pho\\PhoDibaLongShortUpdated\\figs\\gor01_two_2006-6-09_22-24-40\\BatchPhoJonathanReplayFRC-shared-7of9-(70,72,73,74,76,77,78,79,81,82).png\"\n"
     ]
    },
    {
     "data": {
      "application/vnd.jupyter.widget-view+json": {
       "model_id": "577852190cd24b34a33086c639456aa7",
       "version_major": 2,
       "version_minor": 0
      },
      "text/plain": [
       "Fetching file...: 0 [00:00, ?/s]"
      ]
     },
     "metadata": {},
     "output_type": "display_data"
    },
    {
     "name": "stdout",
     "output_type": "stream",
     "text": [
      "\tdone.\n",
      "sub_fig_full_input_key: \"display_fn_name:BatchPhoJonathanReplayFRC/plot_result_set:shared/page:8of9/aclus:(83,84,85,86,87,88,89,90,93,94)\"\n",
      "a_fig_output_path: \"C:\\Users\\pho\\repos\\Spike3DWorkEnv\\Spike3D\\data\\neptune\\commander.pho\\PhoDibaLongShortUpdated\\figs\\gor01_two_2006-6-09_22-24-40\\BatchPhoJonathanReplayFRC-shared-8of9-(83,84,85,86,87,88,89,90,93,94).png\"\n"
     ]
    },
    {
     "data": {
      "application/vnd.jupyter.widget-view+json": {
       "model_id": "f2ec408ab164494494ce5e512655bcae",
       "version_major": 2,
       "version_minor": 0
      },
      "text/plain": [
       "Fetching file...: 0 [00:00, ?/s]"
      ]
     },
     "metadata": {},
     "output_type": "display_data"
    },
    {
     "name": "stdout",
     "output_type": "stream",
     "text": [
      "\tdone.\n",
      "sub_fig_full_input_key: \"display_fn_name:BatchPhoJonathanReplayFRC/plot_result_set:shared/page:9of9/aclus:(96,97)\"\n",
      "a_fig_output_path: \"C:\\Users\\pho\\repos\\Spike3DWorkEnv\\Spike3D\\data\\neptune\\commander.pho\\PhoDibaLongShortUpdated\\figs\\gor01_two_2006-6-09_22-24-40\\BatchPhoJonathanReplayFRC-shared-9of9-(96,97).png\"\n",
      "\tdone.\n",
      "sub_fig_full_input_key: \"display_fn_name:BatchPhoJonathanReplayFRC/plot_result_set:short_only/aclus:(7,10,11,12,37,71,75,80,92)\"\n",
      "a_fig_output_path: \"C:\\Users\\pho\\repos\\Spike3DWorkEnv\\Spike3D\\data\\neptune\\commander.pho\\PhoDibaLongShortUpdated\\figs\\gor01_two_2006-6-09_22-24-40\\BatchPhoJonathanReplayFRC-short_only-(7,10,11,12,37,71,75,80,92).png\"\n",
      "\tdone.\n",
      "a_parsed_structure: {'display_fn_name:BatchPhoJonathanReplayFRC': {'plot_result_set:long_only': {'aclus:(3,5,8,12,14,18,24,26,39,44,51,58,62)': <neptune.attributes.atoms.file.File object at 0x00000282BEBF84C0>, 'aclus:(51,14,26,39,8,24,44,3,18,5,12,62,58)': <neptune.attributes.atoms.file.File object at 0x00000282BD9F0FD0>}, 'plot_result_set:shared': {'page:1of3': {'aclus:(46,53,27,57,63,64,33,9,7,22,28,25,4,55,47,11,10,2,42,36)': <neptune.attributes.atoms.file.File object at 0x00000282BD608280>}, 'page:1of6': {'aclus:(2,4,6,7,9,10,11,13,15,16)': <neptune.attributes.atoms.file.File object at 0x00000282BD608430>}, 'page:2of3': {'aclus:(34,21,29,38,52,45,31,48,65,6,13,15,16,17,19,20,23,30,32,35)': <neptune.attributes.atoms.file.File object at 0x00000282BD608520>}, 'page:2of6': {'aclus:(17,19,20,21,22,23,25,27,28,29)': <neptune.attributes.atoms.file.File object at 0x00000282BD608610>}, 'page:3of3': {'aclus:(37,40,41,43,49,50,54,56,59,60,61)': <neptune.attributes.atoms.file.File object at 0x00000282BD608700>}, 'page:3of6': {'aclus:(30,31,32,33,34,35,36,37,38,40)': <neptune.attributes.atoms.file.File object at 0x00000282BD6087F0>}, 'page:4of6': {'aclus:(41,42,43,45,46,47,48,49,50,52)': <neptune.attributes.atoms.file.File object at 0x00000282BD6088E0>}, 'page:5of6': {'aclus:(53,54,55,56,57,59,60,61,63,64)': <neptune.attributes.atoms.file.File object at 0x00000282BD6089D0>}, 'page:6of6': {'aclus:(65)': <neptune.attributes.atoms.file.File object at 0x00000282BD608AC0>}}}, 'display_fn_name:_display_grid_bin_bounds_validation': <neptune.attributes.atoms.file.File object at 0x00000282BD608BB0>, 'display_fn_name:directional_merged_pf_decoded_epochs': {'decoded_epochs:Laps': {'Marginal:Direction': {'t_bin:0.25': <neptune.attributes.atoms.file.File object at 0x00000282BD608AF0>}, 'Marginal:TrackID': {'t_bin:0.25': <neptune.attributes.atoms.file.File object at 0x00000282BD608DC0>}}, 'decoded_epochs:Ripple': {'Marginal:Direction': {'t_bin:0.025': <neptune.attributes.atoms.file.File object at 0x00000282BD608EB0>}, 'Marginal:TrackID': {'t_bin:0.025': <neptune.attributes.atoms.file.File object at 0x00000282BD608EE0>}}}, 'display_fn_name:display_long_short_laps': <neptune.attributes.atoms.file.File object at 0x00000282BD5EC130>, 'display_fn_name:display_short_long_pf1D_comparison': {'track:long': <neptune.attributes.atoms.file.File object at 0x00000282BD5EC070>, 'track:short': <neptune.attributes.atoms.file.File object at 0x00000282BD5EC1C0>}, 'display_fn_name:plot_all_epoch_bins_marginal_predictions': {'subplot_name:Laps all_epoch_binned Marginals': <neptune.attributes.atoms.file.File object at 0x00000282BD5EC250>, 'subplot_name:Ripple all_epoch_binned Marginals': <neptune.attributes.atoms.file.File object at 0x00000282BD5EC2B0>}, 'display_fn_name:plot_expected_vs_observed': {'x_variable:epoch_idx': {'variable:obs_exp_diff_ptp': <neptune.attributes.atoms.file.File object at 0x00000282BD5EC370>}}, 'display_fn_name:running_and_replay_speeds_over_time': <neptune.attributes.atoms.file.File object at 0x00000282BD5EC460>, 'filter_name:maze1_any': {'lap_dir:any': {'display_fn_name:1d_placefields': <neptune.attributes.atoms.file.File object at 0x00000282BD5EC4F0>, 'display_fn_name:_display_1d_placefield_validations': <neptune.attributes.atoms.file.File object at 0x00000282BD5EC550>, 'display_fn_name:_display_2d_placefield_result_plot_ratemaps_2D': <neptune.attributes.atoms.file.File object at 0x00000282BD5EC670>, 'display_fn_name:plot_occupancy': {'plot_variable:OCCUPANCY': <neptune.attributes.atoms.file.File object at 0x00000282BD5EC6D0>}, 'display_fn_name:plot_single_track_firing_rate_compare': <neptune.attributes.atoms.file.File object at 0x00000282BD5EC760>}}, 'filter_name:maze1_even': {'lap_dir:even': {'display_fn_name:1d_placefields': <neptune.attributes.atoms.file.File object at 0x00000282BD60A730>, 'display_fn_name:_display_1d_placefield_validations': <neptune.attributes.atoms.file.File object at 0x00000282BD60A790>, 'display_fn_name:_display_2d_placefield_result_plot_ratemaps_2D': <neptune.attributes.atoms.file.File object at 0x00000282BD60A970>, 'display_fn_name:plot_occupancy': {'plot_variable:OCCUPANCY': <neptune.attributes.atoms.file.File object at 0x00000282BD60A9D0>}}}, 'filter_name:maze1_odd': {'lap_dir:odd': {'display_fn_name:1d_placefields': <neptune.attributes.atoms.file.File object at 0x00000282BD60A8E0>, 'display_fn_name:_display_1d_placefield_validations': <neptune.attributes.atoms.file.File object at 0x00000282BD60AA60>, 'display_fn_name:_display_2d_placefield_result_plot_ratemaps_2D': <neptune.attributes.atoms.file.File object at 0x00000282BD60A3A0>, 'display_fn_name:plot_occupancy': {'plot_variable:OCCUPANCY': <neptune.attributes.atoms.file.File object at 0x00000282BD60A400>}}}, 'filter_name:maze2_any': {'lap_dir:any': {'display_fn_name:1d_placefields': <neptune.attributes.atoms.file.File object at 0x00000282BD60A610>, 'display_fn_name:_display_1d_placefield_validations': <neptune.attributes.atoms.file.File object at 0x00000282BD60A550>, 'display_fn_name:_display_2d_placefield_result_plot_ratemaps_2D': <neptune.attributes.atoms.file.File object at 0x00000282BD60AAC0>, 'display_fn_name:plot_occupancy': {'plot_variable:OCCUPANCY': <neptune.attributes.atoms.file.File object at 0x00000282BD60ACD0>}, 'display_fn_name:plot_single_track_firing_rate_compare': <neptune.attributes.atoms.file.File object at 0x00000282BD60ADC0>}}, 'filter_name:maze2_even': {'lap_dir:even': {'display_fn_name:1d_placefields': <neptune.attributes.atoms.file.File object at 0x00000282BD60AEB0>, 'display_fn_name:_display_1d_placefield_validations': <neptune.attributes.atoms.file.File object at 0x00000282BD60ADF0>, 'display_fn_name:_display_2d_placefield_result_plot_ratemaps_2D': <neptune.attributes.atoms.file.File object at 0x00000282BD60AE20>, 'display_fn_name:plot_occupancy': {'plot_variable:OCCUPANCY': <neptune.attributes.atoms.file.File object at 0x00000282BD60AC40>}}}, 'filter_name:maze2_odd': {'lap_dir:odd': {'display_fn_name:1d_placefields': <neptune.attributes.atoms.file.File object at 0x00000282BD5E54C0>, 'display_fn_name:_display_1d_placefield_validations': <neptune.attributes.atoms.file.File object at 0x00000282BD5E5400>, 'display_fn_name:_display_2d_placefield_result_plot_ratemaps_2D': <neptune.attributes.atoms.file.File object at 0x00000282BD5E55E0>, 'display_fn_name:plot_occupancy': {'plot_variable:OCCUPANCY': <neptune.attributes.atoms.file.File object at 0x00000282BD5E5640>}}}, 'filter_name:maze_any': {'lap_dir:any': {'display_fn_name:1d_placefields': <neptune.attributes.atoms.file.File object at 0x00000282BD5E5790>, 'display_fn_name:_display_1d_placefield_validations': <neptune.attributes.atoms.file.File object at 0x00000282BD5E56D0>, 'display_fn_name:_display_2d_placefield_result_plot_ratemaps_2D': <neptune.attributes.atoms.file.File object at 0x00000282BD5E58B0>, 'display_fn_name:plot_occupancy': {'plot_variable:OCCUPANCY': <neptune.attributes.atoms.file.File object at 0x00000282BD5E5910>}}}, 'filter_name:maze_even': {'lap_dir:even': {'display_fn_name:1d_placefields': <neptune.attributes.atoms.file.File object at 0x00000282BD5E5A60>, 'display_fn_name:_display_1d_placefield_validations': <neptune.attributes.atoms.file.File object at 0x00000282BD5E59A0>, 'display_fn_name:_display_2d_placefield_result_plot_ratemaps_2D': <neptune.attributes.atoms.file.File object at 0x00000282BD5E5B80>, 'display_fn_name:plot_occupancy': {'plot_variable:OCCUPANCY': <neptune.attributes.atoms.file.File object at 0x00000282BD5E5BE0>}}}, 'filter_name:maze_odd': {'lap_dir:odd': {'display_fn_name:1d_placefields': <neptune.attributes.atoms.file.File object at 0x00000282BD5E5D30>, 'display_fn_name:_display_1d_placefield_validations': <neptune.attributes.atoms.file.File object at 0x00000282BD5E5C70>, 'display_fn_name:_display_2d_placefield_result_plot_ratemaps_2D': <neptune.attributes.atoms.file.File object at 0x00000282BD5E5E50>, 'display_fn_name:plot_occupancy': {'plot_variable:OCCUPANCY': <neptune.attributes.atoms.file.File object at 0x00000282BD5E5EB0>}}}, 'fn_name:long_short_firing_rate_indicies': {'display_fn_name:display_long_short_laps': <neptune.attributes.atoms.file.File object at 0x00000282BD5E5F40>}}\n",
      "not a figure file! a dictionary instead probably: type(a_fig_file_field): <class 'dict'>\n",
      "sub_fig_full_input_key: \"display_fn_name:BatchPhoJonathanReplayFRC/plot_result_set:long_only/aclus:(3,5,8,12,14,18,24,26,39,44,51,58,62)\"\n",
      "a_fig_output_path: \"C:\\Users\\pho\\repos\\Spike3DWorkEnv\\Spike3D\\data\\neptune\\commander.pho\\PhoDibaLongShortUpdated\\figs\\gor01_one_2006-6-07_11-26-53\\BatchPhoJonathanReplayFRC-long_only-(3,5,8,12,14,18,24,26,39,44,51,58,62).png\"\n"
     ]
    },
    {
     "data": {
      "application/vnd.jupyter.widget-view+json": {
       "model_id": "4c3e8e90d87f43d3b447823016b5a355",
       "version_major": 2,
       "version_minor": 0
      },
      "text/plain": [
       "Fetching file...: 0 [00:00, ?/s]"
      ]
     },
     "metadata": {},
     "output_type": "display_data"
    },
    {
     "name": "stdout",
     "output_type": "stream",
     "text": [
      "\tdone.\n",
      "sub_fig_full_input_key: \"display_fn_name:BatchPhoJonathanReplayFRC/plot_result_set:long_only/aclus:(51,14,26,39,8,24,44,3,18,5,12,62,58)\"\n",
      "a_fig_output_path: \"C:\\Users\\pho\\repos\\Spike3DWorkEnv\\Spike3D\\data\\neptune\\commander.pho\\PhoDibaLongShortUpdated\\figs\\gor01_one_2006-6-07_11-26-53\\BatchPhoJonathanReplayFRC-long_only-(51,14,26,39,8,24,44,3,18,5,12,62,58).png\"\n",
      "\tdone.\n",
      "sub_fig_full_input_key: \"display_fn_name:BatchPhoJonathanReplayFRC/plot_result_set:shared/page:1of3/aclus:(46,53,27,57,63,64,33,9,7,22,28,25,4,55,47,11,10,2,42,36)\"\n",
      "a_fig_output_path: \"C:\\Users\\pho\\repos\\Spike3DWorkEnv\\Spike3D\\data\\neptune\\commander.pho\\PhoDibaLongShortUpdated\\figs\\gor01_one_2006-6-07_11-26-53\\BatchPhoJonathanReplayFRC-shared-1of3-(46,53,27,57,63,64,33,9,7,22,28,25,4,55,47,11,10,2,42,36).png\"\n"
     ]
    },
    {
     "data": {
      "application/vnd.jupyter.widget-view+json": {
       "model_id": "ed5dbc9f40044f11a9fde05bd24c141d",
       "version_major": 2,
       "version_minor": 0
      },
      "text/plain": [
       "Fetching file...: 0 [00:00, ?/s]"
      ]
     },
     "metadata": {},
     "output_type": "display_data"
    },
    {
     "name": "stdout",
     "output_type": "stream",
     "text": [
      "\tdone.\n",
      "sub_fig_full_input_key: \"display_fn_name:BatchPhoJonathanReplayFRC/plot_result_set:shared/page:1of6/aclus:(2,4,6,7,9,10,11,13,15,16)\"\n",
      "a_fig_output_path: \"C:\\Users\\pho\\repos\\Spike3DWorkEnv\\Spike3D\\data\\neptune\\commander.pho\\PhoDibaLongShortUpdated\\figs\\gor01_one_2006-6-07_11-26-53\\BatchPhoJonathanReplayFRC-shared-1of6-(2,4,6,7,9,10,11,13,15,16).png\"\n"
     ]
    },
    {
     "data": {
      "application/vnd.jupyter.widget-view+json": {
       "model_id": "fade3bcf10f04ba2b5d7a2349bae0b65",
       "version_major": 2,
       "version_minor": 0
      },
      "text/plain": [
       "Fetching file...: 0 [00:00, ?/s]"
      ]
     },
     "metadata": {},
     "output_type": "display_data"
    },
    {
     "name": "stdout",
     "output_type": "stream",
     "text": [
      "\tdone.\n",
      "sub_fig_full_input_key: \"display_fn_name:BatchPhoJonathanReplayFRC/plot_result_set:shared/page:2of3/aclus:(34,21,29,38,52,45,31,48,65,6,13,15,16,17,19,20,23,30,32,35)\"\n",
      "a_fig_output_path: \"C:\\Users\\pho\\repos\\Spike3DWorkEnv\\Spike3D\\data\\neptune\\commander.pho\\PhoDibaLongShortUpdated\\figs\\gor01_one_2006-6-07_11-26-53\\BatchPhoJonathanReplayFRC-shared-2of3-(34,21,29,38,52,45,31,48,65,6,13,15,16,17,19,20,23,30,32,35).png\"\n"
     ]
    },
    {
     "data": {
      "application/vnd.jupyter.widget-view+json": {
       "model_id": "2b04911a1dec404e96daae058fccf28f",
       "version_major": 2,
       "version_minor": 0
      },
      "text/plain": [
       "Fetching file...: 0 [00:00, ?/s]"
      ]
     },
     "metadata": {},
     "output_type": "display_data"
    },
    {
     "name": "stdout",
     "output_type": "stream",
     "text": [
      "\tdone.\n",
      "sub_fig_full_input_key: \"display_fn_name:BatchPhoJonathanReplayFRC/plot_result_set:shared/page:2of6/aclus:(17,19,20,21,22,23,25,27,28,29)\"\n",
      "a_fig_output_path: \"C:\\Users\\pho\\repos\\Spike3DWorkEnv\\Spike3D\\data\\neptune\\commander.pho\\PhoDibaLongShortUpdated\\figs\\gor01_one_2006-6-07_11-26-53\\BatchPhoJonathanReplayFRC-shared-2of6-(17,19,20,21,22,23,25,27,28,29).png\"\n"
     ]
    },
    {
     "data": {
      "application/vnd.jupyter.widget-view+json": {
       "model_id": "617254afa4a840929dfcb8139b93e1d5",
       "version_major": 2,
       "version_minor": 0
      },
      "text/plain": [
       "Fetching file...: 0 [00:00, ?/s]"
      ]
     },
     "metadata": {},
     "output_type": "display_data"
    },
    {
     "name": "stdout",
     "output_type": "stream",
     "text": [
      "\tdone.\n",
      "sub_fig_full_input_key: \"display_fn_name:BatchPhoJonathanReplayFRC/plot_result_set:shared/page:3of3/aclus:(37,40,41,43,49,50,54,56,59,60,61)\"\n",
      "a_fig_output_path: \"C:\\Users\\pho\\repos\\Spike3DWorkEnv\\Spike3D\\data\\neptune\\commander.pho\\PhoDibaLongShortUpdated\\figs\\gor01_one_2006-6-07_11-26-53\\BatchPhoJonathanReplayFRC-shared-3of3-(37,40,41,43,49,50,54,56,59,60,61).png\"\n",
      "\tdone.\n",
      "sub_fig_full_input_key: \"display_fn_name:BatchPhoJonathanReplayFRC/plot_result_set:shared/page:3of6/aclus:(30,31,32,33,34,35,36,37,38,40)\"\n",
      "a_fig_output_path: \"C:\\Users\\pho\\repos\\Spike3DWorkEnv\\Spike3D\\data\\neptune\\commander.pho\\PhoDibaLongShortUpdated\\figs\\gor01_one_2006-6-07_11-26-53\\BatchPhoJonathanReplayFRC-shared-3of6-(30,31,32,33,34,35,36,37,38,40).png\"\n"
     ]
    },
    {
     "data": {
      "application/vnd.jupyter.widget-view+json": {
       "model_id": "2f5da7d830fe4c48b98ea899d0fd201a",
       "version_major": 2,
       "version_minor": 0
      },
      "text/plain": [
       "Fetching file...: 0 [00:00, ?/s]"
      ]
     },
     "metadata": {},
     "output_type": "display_data"
    },
    {
     "name": "stdout",
     "output_type": "stream",
     "text": [
      "\tdone.\n",
      "sub_fig_full_input_key: \"display_fn_name:BatchPhoJonathanReplayFRC/plot_result_set:shared/page:4of6/aclus:(41,42,43,45,46,47,48,49,50,52)\"\n",
      "a_fig_output_path: \"C:\\Users\\pho\\repos\\Spike3DWorkEnv\\Spike3D\\data\\neptune\\commander.pho\\PhoDibaLongShortUpdated\\figs\\gor01_one_2006-6-07_11-26-53\\BatchPhoJonathanReplayFRC-shared-4of6-(41,42,43,45,46,47,48,49,50,52).png\"\n"
     ]
    },
    {
     "data": {
      "application/vnd.jupyter.widget-view+json": {
       "model_id": "c4042c0c916941099da91269fe298514",
       "version_major": 2,
       "version_minor": 0
      },
      "text/plain": [
       "Fetching file...: 0 [00:00, ?/s]"
      ]
     },
     "metadata": {},
     "output_type": "display_data"
    },
    {
     "name": "stdout",
     "output_type": "stream",
     "text": [
      "\tdone.\n",
      "sub_fig_full_input_key: \"display_fn_name:BatchPhoJonathanReplayFRC/plot_result_set:shared/page:5of6/aclus:(53,54,55,56,57,59,60,61,63,64)\"\n",
      "a_fig_output_path: \"C:\\Users\\pho\\repos\\Spike3DWorkEnv\\Spike3D\\data\\neptune\\commander.pho\\PhoDibaLongShortUpdated\\figs\\gor01_one_2006-6-07_11-26-53\\BatchPhoJonathanReplayFRC-shared-5of6-(53,54,55,56,57,59,60,61,63,64).png\"\n"
     ]
    },
    {
     "data": {
      "application/vnd.jupyter.widget-view+json": {
       "model_id": "806ce8d8f750401c8d6601349a30212d",
       "version_major": 2,
       "version_minor": 0
      },
      "text/plain": [
       "Fetching file...: 0 [00:00, ?/s]"
      ]
     },
     "metadata": {},
     "output_type": "display_data"
    },
    {
     "name": "stdout",
     "output_type": "stream",
     "text": [
      "\tdone.\n",
      "sub_fig_full_input_key: \"display_fn_name:BatchPhoJonathanReplayFRC/plot_result_set:shared/page:6of6/aclus:(65)\"\n",
      "a_fig_output_path: \"C:\\Users\\pho\\repos\\Spike3DWorkEnv\\Spike3D\\data\\neptune\\commander.pho\\PhoDibaLongShortUpdated\\figs\\gor01_one_2006-6-07_11-26-53\\BatchPhoJonathanReplayFRC-shared-6of6-(65).png\"\n",
      "\tdone.\n",
      "a_parsed_structure: {'display_fn_name:BatchPhoJonathanReplayFRC': {'plot_result_set:long_only': {'aclus:(3,5,8,12,14,18,24,26,39,44,51,58,62)': <neptune.attributes.atoms.file.File object at 0x00000282BDD82550>, 'aclus:(51,14,26,39,8,24,44,3,18,5,12,62,58)': <neptune.attributes.atoms.file.File object at 0x00000282BDD825B0>}, 'plot_result_set:shared': {'page:1of3': {'aclus:(46,53,27,57,63,64,33,9,7,22,28,25,4,55,47,11,10,2,42,36)': <neptune.attributes.atoms.file.File object at 0x00000282BDD82790>}, 'page:1of6': {'aclus:(2,4,6,7,9,10,11,13,15,16)': <neptune.attributes.atoms.file.File object at 0x00000282BDD82940>}, 'page:2of3': {'aclus:(34,21,29,38,52,45,31,48,65,6,13,15,16,17,19,20,23,30,32,35)': <neptune.attributes.atoms.file.File object at 0x00000282BDD82A30>}, 'page:2of6': {'aclus:(17,19,20,21,22,23,25,27,28,29)': <neptune.attributes.atoms.file.File object at 0x00000282BDD82A90>}, 'page:3of3': {'aclus:(37,40,41,43,49,50,54,56,59,60,61)': <neptune.attributes.atoms.file.File object at 0x00000282BDD82C10>}, 'page:3of6': {'aclus:(30,31,32,33,34,35,36,37,38,40)': <neptune.attributes.atoms.file.File object at 0x00000282BDD82D00>}, 'page:4of6': {'aclus:(41,42,43,45,46,47,48,49,50,52)': <neptune.attributes.atoms.file.File object at 0x00000282BDD82DF0>}, 'page:5of6': {'aclus:(53,54,55,56,57,59,60,61,63,64)': <neptune.attributes.atoms.file.File object at 0x00000282BDD82E20>}, 'page:6of6': {'aclus:(65)': <neptune.attributes.atoms.file.File object at 0x00000282BE4F9FD0>}}}, 'display_fn_name:_display_grid_bin_bounds_validation': <neptune.attributes.atoms.file.File object at 0x00000282BE4F9DF0>, 'display_fn_name:bidir_track_remap': {'subplot_name:Track Remapping': <neptune.attributes.atoms.file.File object at 0x00000282BE4F9E80>}, 'display_fn_name:directional_merged_pf_decoded_epochs': {'decoded_epochs:Laps': {'Marginal:Direction': {'t_bin:0.25': <neptune.attributes.atoms.file.File object at 0x00000282BE4F9D60>}, 'Marginal:TrackID': {'t_bin:0.25': <neptune.attributes.atoms.file.File object at 0x00000282BDD94280>}}, 'decoded_epochs:Ripple': {'Marginal:Direction': {'t_bin:0.025': <neptune.attributes.atoms.file.File object at 0x00000282BDD94130>}, 'Marginal:TrackID': {'t_bin:0.025': <neptune.attributes.atoms.file.File object at 0x00000282BDD94160>}}}, 'display_fn_name:display_long_short_laps': <neptune.attributes.atoms.file.File object at 0x00000282BDD8B8B0>, 'display_fn_name:display_short_long_pf1D_comparison': {'track:long': <neptune.attributes.atoms.file.File object at 0x00000282BDD8B7F0>, 'track:short': <neptune.attributes.atoms.file.File object at 0x00000282BDD8B910>}, 'display_fn_name:plot_all_epoch_bins_marginal_predictions': {'subplot_name:Laps all_epoch_binned Marginals': <neptune.attributes.atoms.file.File object at 0x00000282BDD8B9D0>, 'subplot_name:Ripple all_epoch_binned Marginals': <neptune.attributes.atoms.file.File object at 0x00000282BDD8BA30>}, 'display_fn_name:plot_expected_vs_observed': {'x_variable:epoch_idx': {'variable:obs_exp_diff_ptp': <neptune.attributes.atoms.file.File object at 0x00000282BDD8BAF0>}}, 'display_fn_name:running_and_replay_speeds_over_time': <neptune.attributes.atoms.file.File object at 0x00000282BDD8BB50>, 'filter_name:maze1_any': {'lap_dir:any': {'display_fn_name:1d_placefields': <neptune.attributes.atoms.file.File object at 0x00000282BDD8BC70>, 'display_fn_name:_display_1d_placefield_validations': <neptune.attributes.atoms.file.File object at 0x00000282BDD8BCD0>, 'display_fn_name:_display_2d_placefield_result_plot_ratemaps_2D': <neptune.attributes.atoms.file.File object at 0x00000282BDD8BDF0>, 'display_fn_name:plot_occupancy': {'plot_variable:OCCUPANCY': <neptune.attributes.atoms.file.File object at 0x00000282BDD8BE50>}, 'display_fn_name:plot_single_track_firing_rate_compare': <neptune.attributes.atoms.file.File object at 0x00000282BDD8BFA0>}}, 'filter_name:maze1_even': {'lap_dir:even': {'display_fn_name:1d_placefields': <neptune.attributes.atoms.file.File object at 0x00000282BDD8BEE0>, 'display_fn_name:_display_1d_placefield_validations': <neptune.attributes.atoms.file.File object at 0x00000282BDD81040>, 'display_fn_name:_display_2d_placefield_result_plot_ratemaps_2D': <neptune.attributes.atoms.file.File object at 0x00000282BDD81160>, 'display_fn_name:plot_occupancy': {'plot_variable:OCCUPANCY': <neptune.attributes.atoms.file.File object at 0x00000282BDD811C0>}}}, 'filter_name:maze1_odd': {'lap_dir:odd': {'display_fn_name:1d_placefields': <neptune.attributes.atoms.file.File object at 0x00000282BDD81310>, 'display_fn_name:_display_1d_placefield_validations': <neptune.attributes.atoms.file.File object at 0x00000282BDD81250>, 'display_fn_name:_display_2d_placefield_result_plot_ratemaps_2D': <neptune.attributes.atoms.file.File object at 0x00000282BDD81430>, 'display_fn_name:plot_occupancy': {'plot_variable:OCCUPANCY': <neptune.attributes.atoms.file.File object at 0x00000282BDD81490>}}}, 'filter_name:maze2_any': {'lap_dir:any': {'display_fn_name:1d_placefields': <neptune.attributes.atoms.file.File object at 0x00000282BDD815E0>, 'display_fn_name:_display_1d_placefield_validations': <neptune.attributes.atoms.file.File object at 0x00000282BDD81520>, 'display_fn_name:_display_2d_placefield_result_plot_ratemaps_2D': <neptune.attributes.atoms.file.File object at 0x00000282BDD81700>, 'display_fn_name:plot_occupancy': {'plot_variable:OCCUPANCY': <neptune.attributes.atoms.file.File object at 0x00000282BDD81760>}, 'display_fn_name:plot_single_track_firing_rate_compare': <neptune.attributes.atoms.file.File object at 0x00000282BDD818B0>}}, 'filter_name:maze2_even': {'lap_dir:even': {'display_fn_name:1d_placefields': <neptune.attributes.atoms.file.File object at 0x00000282BDD817F0>, 'display_fn_name:_display_1d_placefield_validations': <neptune.attributes.atoms.file.File object at 0x00000282BDD81910>, 'display_fn_name:_display_2d_placefield_result_plot_ratemaps_2D': <neptune.attributes.atoms.file.File object at 0x00000282BDD81A30>, 'display_fn_name:plot_occupancy': {'plot_variable:OCCUPANCY': <neptune.attributes.atoms.file.File object at 0x00000282BDD81A90>}}}, 'filter_name:maze2_odd': {'lap_dir:odd': {'display_fn_name:1d_placefields': <neptune.attributes.atoms.file.File object at 0x00000282BDD81BE0>, 'display_fn_name:_display_1d_placefield_validations': <neptune.attributes.atoms.file.File object at 0x00000282BDD81B20>, 'display_fn_name:_display_2d_placefield_result_plot_ratemaps_2D': <neptune.attributes.atoms.file.File object at 0x00000282BDD81D00>, 'display_fn_name:plot_occupancy': {'plot_variable:OCCUPANCY': <neptune.attributes.atoms.file.File object at 0x00000282BDD81D60>}}}, 'filter_name:maze_any': {'lap_dir:any': {'display_fn_name:1d_placefields': <neptune.attributes.atoms.file.File object at 0x00000282BDD81EB0>, 'display_fn_name:_display_1d_placefield_validations': <neptune.attributes.atoms.file.File object at 0x00000282BDD81DF0>, 'display_fn_name:_display_2d_placefield_result_plot_ratemaps_2D': <neptune.attributes.atoms.file.File object at 0x00000282BDD81FD0>, 'display_fn_name:plot_occupancy': {'plot_variable:OCCUPANCY': <neptune.attributes.atoms.file.File object at 0x00000282BDDAD070>}}}, 'filter_name:maze_even': {'lap_dir:even': {'display_fn_name:1d_placefields': <neptune.attributes.atoms.file.File object at 0x00000282BDDAD1C0>, 'display_fn_name:_display_1d_placefield_validations': <neptune.attributes.atoms.file.File object at 0x00000282BDDAD100>, 'display_fn_name:_display_2d_placefield_result_plot_ratemaps_2D': <neptune.attributes.atoms.file.File object at 0x00000282BDDAD2E0>, 'display_fn_name:plot_occupancy': {'plot_variable:OCCUPANCY': <neptune.attributes.atoms.file.File object at 0x00000282BDDAD340>}}}, 'filter_name:maze_odd': {'lap_dir:odd': {'display_fn_name:1d_placefields': <neptune.attributes.atoms.file.File object at 0x00000282BDDAD490>, 'display_fn_name:_display_1d_placefield_validations': <neptune.attributes.atoms.file.File object at 0x00000282BDDAD3D0>, 'display_fn_name:_display_2d_placefield_result_plot_ratemaps_2D': <neptune.attributes.atoms.file.File object at 0x00000282BDDAD5B0>, 'display_fn_name:plot_occupancy': {'plot_variable:OCCUPANCY': <neptune.attributes.atoms.file.File object at 0x00000282BDDAD610>}}}, 'fn_name:long_short_firing_rate_indicies': {'display_fn_name:display_long_short_laps': <neptune.attributes.atoms.file.File object at 0x00000282BDDAD760>}}\n",
      "not a figure file! a dictionary instead probably: type(a_fig_file_field): <class 'dict'>\n",
      "sub_fig_full_input_key: \"display_fn_name:BatchPhoJonathanReplayFRC/plot_result_set:long_only/aclus:(3,5,8,12,14,18,24,26,39,44,51,58,62)\"\n",
      "a_fig_output_path: \"C:\\Users\\pho\\repos\\Spike3DWorkEnv\\Spike3D\\data\\neptune\\commander.pho\\PhoDibaLongShortUpdated\\figs\\gor01_one_2006-6-07_11-26-53\\BatchPhoJonathanReplayFRC-long_only-(3,5,8,12,14,18,24,26,39,44,51,58,62).png\"\n"
     ]
    },
    {
     "data": {
      "application/vnd.jupyter.widget-view+json": {
       "model_id": "f7611268eb944542b5c055a6b597ddcf",
       "version_major": 2,
       "version_minor": 0
      },
      "text/plain": [
       "Fetching file...: 0 [00:00, ?/s]"
      ]
     },
     "metadata": {},
     "output_type": "display_data"
    },
    {
     "name": "stdout",
     "output_type": "stream",
     "text": [
      "\tdone.\n",
      "sub_fig_full_input_key: \"display_fn_name:BatchPhoJonathanReplayFRC/plot_result_set:long_only/aclus:(51,14,26,39,8,24,44,3,18,5,12,62,58)\"\n",
      "a_fig_output_path: \"C:\\Users\\pho\\repos\\Spike3DWorkEnv\\Spike3D\\data\\neptune\\commander.pho\\PhoDibaLongShortUpdated\\figs\\gor01_one_2006-6-07_11-26-53\\BatchPhoJonathanReplayFRC-long_only-(51,14,26,39,8,24,44,3,18,5,12,62,58).png\"\n",
      "\tdone.\n",
      "sub_fig_full_input_key: \"display_fn_name:BatchPhoJonathanReplayFRC/plot_result_set:shared/page:1of3/aclus:(46,53,27,57,63,64,33,9,7,22,28,25,4,55,47,11,10,2,42,36)\"\n",
      "a_fig_output_path: \"C:\\Users\\pho\\repos\\Spike3DWorkEnv\\Spike3D\\data\\neptune\\commander.pho\\PhoDibaLongShortUpdated\\figs\\gor01_one_2006-6-07_11-26-53\\BatchPhoJonathanReplayFRC-shared-1of3-(46,53,27,57,63,64,33,9,7,22,28,25,4,55,47,11,10,2,42,36).png\"\n"
     ]
    },
    {
     "data": {
      "application/vnd.jupyter.widget-view+json": {
       "model_id": "f1feff5ed5f540c7850a17bd67f3e665",
       "version_major": 2,
       "version_minor": 0
      },
      "text/plain": [
       "Fetching file...: 0 [00:00, ?/s]"
      ]
     },
     "metadata": {},
     "output_type": "display_data"
    },
    {
     "name": "stdout",
     "output_type": "stream",
     "text": [
      "\tdone.\n",
      "sub_fig_full_input_key: \"display_fn_name:BatchPhoJonathanReplayFRC/plot_result_set:shared/page:1of6/aclus:(2,4,6,7,9,10,11,13,15,16)\"\n",
      "a_fig_output_path: \"C:\\Users\\pho\\repos\\Spike3DWorkEnv\\Spike3D\\data\\neptune\\commander.pho\\PhoDibaLongShortUpdated\\figs\\gor01_one_2006-6-07_11-26-53\\BatchPhoJonathanReplayFRC-shared-1of6-(2,4,6,7,9,10,11,13,15,16).png\"\n",
      "\tdone.\n",
      "sub_fig_full_input_key: \"display_fn_name:BatchPhoJonathanReplayFRC/plot_result_set:shared/page:2of3/aclus:(34,21,29,38,52,45,31,48,65,6,13,15,16,17,19,20,23,30,32,35)\"\n",
      "a_fig_output_path: \"C:\\Users\\pho\\repos\\Spike3DWorkEnv\\Spike3D\\data\\neptune\\commander.pho\\PhoDibaLongShortUpdated\\figs\\gor01_one_2006-6-07_11-26-53\\BatchPhoJonathanReplayFRC-shared-2of3-(34,21,29,38,52,45,31,48,65,6,13,15,16,17,19,20,23,30,32,35).png\"\n"
     ]
    },
    {
     "data": {
      "application/vnd.jupyter.widget-view+json": {
       "model_id": "8c47aba1d8fd4c7da62a4f3ea1d28978",
       "version_major": 2,
       "version_minor": 0
      },
      "text/plain": [
       "Fetching file...: 0 [00:00, ?/s]"
      ]
     },
     "metadata": {},
     "output_type": "display_data"
    },
    {
     "name": "stdout",
     "output_type": "stream",
     "text": [
      "\tdone.\n",
      "sub_fig_full_input_key: \"display_fn_name:BatchPhoJonathanReplayFRC/plot_result_set:shared/page:2of6/aclus:(17,19,20,21,22,23,25,27,28,29)\"\n",
      "a_fig_output_path: \"C:\\Users\\pho\\repos\\Spike3DWorkEnv\\Spike3D\\data\\neptune\\commander.pho\\PhoDibaLongShortUpdated\\figs\\gor01_one_2006-6-07_11-26-53\\BatchPhoJonathanReplayFRC-shared-2of6-(17,19,20,21,22,23,25,27,28,29).png\"\n",
      "\tdone.\n",
      "sub_fig_full_input_key: \"display_fn_name:BatchPhoJonathanReplayFRC/plot_result_set:shared/page:3of3/aclus:(37,40,41,43,49,50,54,56,59,60,61)\"\n",
      "a_fig_output_path: \"C:\\Users\\pho\\repos\\Spike3DWorkEnv\\Spike3D\\data\\neptune\\commander.pho\\PhoDibaLongShortUpdated\\figs\\gor01_one_2006-6-07_11-26-53\\BatchPhoJonathanReplayFRC-shared-3of3-(37,40,41,43,49,50,54,56,59,60,61).png\"\n",
      "\tdone.\n",
      "sub_fig_full_input_key: \"display_fn_name:BatchPhoJonathanReplayFRC/plot_result_set:shared/page:3of6/aclus:(30,31,32,33,34,35,36,37,38,40)\"\n",
      "a_fig_output_path: \"C:\\Users\\pho\\repos\\Spike3DWorkEnv\\Spike3D\\data\\neptune\\commander.pho\\PhoDibaLongShortUpdated\\figs\\gor01_one_2006-6-07_11-26-53\\BatchPhoJonathanReplayFRC-shared-3of6-(30,31,32,33,34,35,36,37,38,40).png\"\n",
      "\tdone.\n",
      "sub_fig_full_input_key: \"display_fn_name:BatchPhoJonathanReplayFRC/plot_result_set:shared/page:4of6/aclus:(41,42,43,45,46,47,48,49,50,52)\"\n",
      "a_fig_output_path: \"C:\\Users\\pho\\repos\\Spike3DWorkEnv\\Spike3D\\data\\neptune\\commander.pho\\PhoDibaLongShortUpdated\\figs\\gor01_one_2006-6-07_11-26-53\\BatchPhoJonathanReplayFRC-shared-4of6-(41,42,43,45,46,47,48,49,50,52).png\"\n",
      "\tdone.\n",
      "sub_fig_full_input_key: \"display_fn_name:BatchPhoJonathanReplayFRC/plot_result_set:shared/page:5of6/aclus:(53,54,55,56,57,59,60,61,63,64)\"\n",
      "a_fig_output_path: \"C:\\Users\\pho\\repos\\Spike3DWorkEnv\\Spike3D\\data\\neptune\\commander.pho\\PhoDibaLongShortUpdated\\figs\\gor01_one_2006-6-07_11-26-53\\BatchPhoJonathanReplayFRC-shared-5of6-(53,54,55,56,57,59,60,61,63,64).png\"\n",
      "\tdone.\n",
      "sub_fig_full_input_key: \"display_fn_name:BatchPhoJonathanReplayFRC/plot_result_set:shared/page:6of6/aclus:(65)\"\n",
      "a_fig_output_path: \"C:\\Users\\pho\\repos\\Spike3DWorkEnv\\Spike3D\\data\\neptune\\commander.pho\\PhoDibaLongShortUpdated\\figs\\gor01_one_2006-6-07_11-26-53\\BatchPhoJonathanReplayFRC-shared-6of6-(65).png\"\n",
      "\tdone.\n",
      "a_parsed_structure: {'display_fn_name:BatchPhoJonathanReplayFRC': {'plot_result_set:long_only': {'aclus:(16,19,6,31,10)': <neptune.attributes.atoms.file.File object at 0x00000282BD5EC7F0>, 'aclus:(6,10,16,19,31)': <neptune.attributes.atoms.file.File object at 0x00000282BD5EC880>}, 'plot_result_set:shared': {'page:1of2': {'aclus:(26,20,29,18,3,4,7,32,13,11,12,2,30,15,9,28,22,14,21,25)': <neptune.attributes.atoms.file.File object at 0x00000282BD5ECB20>}, 'page:1of3': {'aclus:(2,3,4,5,7,8,9,11,12,13)': <neptune.attributes.atoms.file.File object at 0x00000282BD5EC790>}, 'page:2of2': {'aclus:(5,8,17,23,27)': <neptune.attributes.atoms.file.File object at 0x00000282BD5EC7C0>}, 'page:2of3': {'aclus:(14,15,17,18,20,21,22,23,25,26)': <neptune.attributes.atoms.file.File object at 0x00000282BD9F0F10>}, 'page:3of3': {'aclus:(27,28,29,30,32)': <neptune.attributes.atoms.file.File object at 0x00000282BD9F0F70>}}, 'plot_result_set:short_only': {'aclus:(24)': <neptune.attributes.atoms.file.File object at 0x00000282BD9F0E80>}}, 'display_fn_name:_display_grid_bin_bounds_validation': <neptune.attributes.atoms.file.File object at 0x00000282BD5D9C10>, 'display_fn_name:bidir_track_remap': {'subplot_name:Track Remapping': <neptune.attributes.atoms.file.File object at 0x00000282BD5E32B0>}, 'display_fn_name:directional_merged_pf_decoded_epochs': {'decoded_epochs:Laps': {'Marginal:Direction': {'t_bin:0.25': <neptune.attributes.atoms.file.File object at 0x00000282BD5E3310>}, 'Marginal:TrackID': {'t_bin:0.25': <neptune.attributes.atoms.file.File object at 0x00000282BD5E3580>}}, 'decoded_epochs:Ripple': {'Marginal:Direction': {'t_bin:0.025': <neptune.attributes.atoms.file.File object at 0x00000282BD5E3670>}, 'Marginal:TrackID': {'t_bin:0.025': <neptune.attributes.atoms.file.File object at 0x00000282BD5E37C0>}}}, 'display_fn_name:display_long_short_laps': <neptune.attributes.atoms.file.File object at 0x00000282BD5E38B0>, 'display_fn_name:display_short_long_pf1D_comparison': {'track:long': <neptune.attributes.atoms.file.File object at 0x00000282BD5E37F0>, 'track:short': <neptune.attributes.atoms.file.File object at 0x00000282BD5E3910>}, 'display_fn_name:plot_all_epoch_bins_marginal_predictions': {'subplot_name:Laps all_epoch_binned Marginals': <neptune.attributes.atoms.file.File object at 0x00000282BD5E39D0>, 'subplot_name:Ripple all_epoch_binned Marginals': <neptune.attributes.atoms.file.File object at 0x00000282BD5E3A30>}, 'display_fn_name:plot_expected_vs_observed': {'x_variable:epoch_idx': {'variable:obs_exp_diff_ptp': <neptune.attributes.atoms.file.File object at 0x00000282BD5E3AF0>}}, 'display_fn_name:plot_histograms': {'subplot_name:laps_result_tuple': <neptune.attributes.atoms.file.File object at 0x00000282BD5E3B50>, 'subplot_name:ripple_result_tuple': <neptune.attributes.atoms.file.File object at 0x00000282BD5E3C70>}, 'display_fn_name:plot_quantile_diffs': {'subplot_name:BestDir': <neptune.attributes.atoms.file.File object at 0x00000282BD5E3D30>}, 'display_fn_name:plot_rank_order_epoch_inst_fr_result_tuples': {'subplot_name:Lap': {'subplotsubplot_name:raw': <neptune.attributes.atoms.file.File object at 0x00000282BD5E3D90>, 'subplotsubplot_name:z_score_diff': <neptune.attributes.atoms.file.File object at 0x00000282BD5E3E50>}, 'subplot_name:Ripple': {'subplotsubplot_name:raw': <neptune.attributes.atoms.file.File object at 0x00000282BD5E3F70>, 'subplotsubplot_name:z_score_diff': <neptune.attributes.atoms.file.File object at 0x00000282BD5E3FD0>}}, 'display_fn_name:plot_rank_order_histograms': {'subplot_name:Ripple Most-likely Spearman Rho': <neptune.attributes.atoms.file.File object at 0x00000282B9EEE0D0>, 'subplot_name:Ripple Most-likely Z-scores': <neptune.attributes.atoms.file.File object at 0x00000282B9EEE130>, 'subplot_name:Ripple Z-scores': <neptune.attributes.atoms.file.File object at 0x00000282B9EEE1F0>, 'subplot_name:Ripple real correlations': <neptune.attributes.atoms.file.File object at 0x00000282B9EEE250>}, 'display_fn_name:running_and_replay_speeds_over_time': <neptune.attributes.atoms.file.File object at 0x00000282B9EEE2B0>, 'display_fn_name:trial_to_trial_reliability': <neptune.attributes.atoms.file.File object at 0x00000282B9EEE310>, 'filter_name:maze1_any': {'lap_dir:any': {'display_fn_name:1d_placefields': <neptune.attributes.atoms.file.File object at 0x00000282B9EEE370>, 'display_fn_name:_display_1d_placefield_validations': <neptune.attributes.atoms.file.File object at 0x00000282B9EEE3D0>, 'display_fn_name:_display_2d_placefield_result_plot_ratemaps_2D': <neptune.attributes.atoms.file.File object at 0x00000282B9EEE4F0>, 'display_fn_name:plot_occupancy': {'plot_variable:OCCUPANCY': <neptune.attributes.atoms.file.File object at 0x00000282B9EEE550>}, 'display_fn_name:plot_single_track_firing_rate_compare': <neptune.attributes.atoms.file.File object at 0x00000282B9EEE730>}}, 'filter_name:maze1_even': {'lap_dir:even': {'display_fn_name:1d_placefields': <neptune.attributes.atoms.file.File object at 0x00000282B9EEE5E0>, 'display_fn_name:_display_1d_placefield_validations': <neptune.attributes.atoms.file.File object at 0x00000282B9EEE6D0>, 'display_fn_name:_display_2d_placefield_result_plot_ratemaps_2D': <neptune.attributes.atoms.file.File object at 0x00000282B9EEE820>, 'display_fn_name:plot_occupancy': {'plot_variable:OCCUPANCY': <neptune.attributes.atoms.file.File object at 0x00000282B9EEE880>}}}, 'filter_name:maze1_odd': {'lap_dir:odd': {'display_fn_name:1d_placefields': <neptune.attributes.atoms.file.File object at 0x00000282B9EEE9D0>, 'display_fn_name:_display_1d_placefield_validations': <neptune.attributes.atoms.file.File object at 0x00000282B9EEE9A0>, 'display_fn_name:_display_2d_placefield_result_plot_ratemaps_2D': <neptune.attributes.atoms.file.File object at 0x00000282B9EEEB20>, 'display_fn_name:plot_occupancy': {'plot_variable:OCCUPANCY': <neptune.attributes.atoms.file.File object at 0x00000282B9EEEAC0>}}}, 'filter_name:maze2_any': {'lap_dir:any': {'display_fn_name:1d_placefields': <neptune.attributes.atoms.file.File object at 0x00000282B9EEECA0>, 'display_fn_name:_display_1d_placefield_validations': <neptune.attributes.atoms.file.File object at 0x00000282B9EEEBE0>, 'display_fn_name:_display_2d_placefield_result_plot_ratemaps_2D': <neptune.attributes.atoms.file.File object at 0x00000282BD5E5220>, 'display_fn_name:plot_occupancy': {'plot_variable:OCCUPANCY': <neptune.attributes.atoms.file.File object at 0x00000282BD5E53A0>}, 'display_fn_name:plot_single_track_firing_rate_compare': <neptune.attributes.atoms.file.File object at 0x00000282BD5E50A0>}}, 'filter_name:maze2_even': {'lap_dir:even': {'display_fn_name:1d_placefields': <neptune.attributes.atoms.file.File object at 0x00000282BD5E5100>, 'display_fn_name:_display_1d_placefield_validations': <neptune.attributes.atoms.file.File object at 0x00000282BD5E5310>, 'display_fn_name:_display_2d_placefield_result_plot_ratemaps_2D': <neptune.attributes.atoms.file.File object at 0x00000282B9EEBCD0>, 'display_fn_name:plot_occupancy': {'plot_variable:OCCUPANCY': <neptune.attributes.atoms.file.File object at 0x00000282B9EEBD30>}}}, 'filter_name:maze2_odd': {'lap_dir:odd': {'display_fn_name:1d_placefields': <neptune.attributes.atoms.file.File object at 0x00000282B9EEBE80>, 'display_fn_name:_display_1d_placefield_validations': <neptune.attributes.atoms.file.File object at 0x00000282B9EEBDC0>, 'display_fn_name:_display_2d_placefield_result_plot_ratemaps_2D': <neptune.attributes.atoms.file.File object at 0x00000282B9EEBFA0>, 'display_fn_name:plot_occupancy': {'plot_variable:OCCUPANCY': <neptune.attributes.atoms.file.File object at 0x00000282BD5DA040>}}}, 'filter_name:maze_any': {'lap_dir:any': {'display_fn_name:1d_placefields': <neptune.attributes.atoms.file.File object at 0x00000282BD5DA190>, 'display_fn_name:_display_1d_placefield_validations': <neptune.attributes.atoms.file.File object at 0x00000282BD5DA0D0>, 'display_fn_name:_display_2d_placefield_result_plot_ratemaps_2D': <neptune.attributes.atoms.file.File object at 0x00000282BD5DA2B0>, 'display_fn_name:plot_occupancy': {'plot_variable:OCCUPANCY': <neptune.attributes.atoms.file.File object at 0x00000282BD5DA310>}}}, 'filter_name:maze_even': {'lap_dir:even': {'display_fn_name:1d_placefields': <neptune.attributes.atoms.file.File object at 0x00000282BD5DA460>, 'display_fn_name:_display_1d_placefield_validations': <neptune.attributes.atoms.file.File object at 0x00000282BD5DA3A0>, 'display_fn_name:_display_2d_placefield_result_plot_ratemaps_2D': <neptune.attributes.atoms.file.File object at 0x00000282BD5DA580>, 'display_fn_name:plot_occupancy': {'plot_variable:OCCUPANCY': <neptune.attributes.atoms.file.File object at 0x00000282BD5DA5E0>}}}, 'filter_name:maze_odd': {'lap_dir:odd': {'display_fn_name:1d_placefields': <neptune.attributes.atoms.file.File object at 0x00000282BD5DA730>, 'display_fn_name:_display_1d_placefield_validations': <neptune.attributes.atoms.file.File object at 0x00000282BD5DA670>, 'display_fn_name:_display_2d_placefield_result_plot_ratemaps_2D': <neptune.attributes.atoms.file.File object at 0x00000282BD5DA850>, 'display_fn_name:plot_occupancy': {'plot_variable:OCCUPANCY': <neptune.attributes.atoms.file.File object at 0x00000282BD5DA8B0>}}}, 'fn_name:long_short_firing_rate_indicies': {'display_fn_name:display_long_short_laps': <neptune.attributes.atoms.file.File object at 0x00000282BD5DAA00>}}\n",
      "not a figure file! a dictionary instead probably: type(a_fig_file_field): <class 'dict'>\n",
      "sub_fig_full_input_key: \"display_fn_name:BatchPhoJonathanReplayFRC/plot_result_set:long_only/aclus:(16,19,6,31,10)\"\n",
      "a_fig_output_path: \"C:\\Users\\pho\\repos\\Spike3DWorkEnv\\Spike3D\\data\\neptune\\commander.pho\\PhoDibaLongShortUpdated\\figs\\pin01_one_fet11-01_12-58-54\\BatchPhoJonathanReplayFRC-long_only-(16,19,6,31,10).png\"\n",
      "\tdone.\n",
      "sub_fig_full_input_key: \"display_fn_name:BatchPhoJonathanReplayFRC/plot_result_set:long_only/aclus:(6,10,16,19,31)\"\n",
      "a_fig_output_path: \"C:\\Users\\pho\\repos\\Spike3DWorkEnv\\Spike3D\\data\\neptune\\commander.pho\\PhoDibaLongShortUpdated\\figs\\pin01_one_fet11-01_12-58-54\\BatchPhoJonathanReplayFRC-long_only-(6,10,16,19,31).png\"\n",
      "\tdone.\n",
      "sub_fig_full_input_key: \"display_fn_name:BatchPhoJonathanReplayFRC/plot_result_set:shared/page:1of2/aclus:(26,20,29,18,3,4,7,32,13,11,12,2,30,15,9,28,22,14,21,25)\"\n",
      "a_fig_output_path: \"C:\\Users\\pho\\repos\\Spike3DWorkEnv\\Spike3D\\data\\neptune\\commander.pho\\PhoDibaLongShortUpdated\\figs\\pin01_one_fet11-01_12-58-54\\BatchPhoJonathanReplayFRC-shared-1of2-(26,20,29,18,3,4,7,32,13,11,12,2,30,15,9,28,22,14,21,25).png\"\n"
     ]
    },
    {
     "data": {
      "application/vnd.jupyter.widget-view+json": {
       "model_id": "27923f3a34ea400e81e767d78b9128d0",
       "version_major": 2,
       "version_minor": 0
      },
      "text/plain": [
       "Fetching file...: 0 [00:00, ?/s]"
      ]
     },
     "metadata": {},
     "output_type": "display_data"
    },
    {
     "name": "stdout",
     "output_type": "stream",
     "text": [
      "\tdone.\n",
      "sub_fig_full_input_key: \"display_fn_name:BatchPhoJonathanReplayFRC/plot_result_set:shared/page:1of3/aclus:(2,3,4,5,7,8,9,11,12,13)\"\n",
      "a_fig_output_path: \"C:\\Users\\pho\\repos\\Spike3DWorkEnv\\Spike3D\\data\\neptune\\commander.pho\\PhoDibaLongShortUpdated\\figs\\pin01_one_fet11-01_12-58-54\\BatchPhoJonathanReplayFRC-shared-1of3-(2,3,4,5,7,8,9,11,12,13).png\"\n"
     ]
    },
    {
     "data": {
      "application/vnd.jupyter.widget-view+json": {
       "model_id": "729a69953c954fa2a114e39eb4b06628",
       "version_major": 2,
       "version_minor": 0
      },
      "text/plain": [
       "Fetching file...: 0 [00:00, ?/s]"
      ]
     },
     "metadata": {},
     "output_type": "display_data"
    },
    {
     "name": "stdout",
     "output_type": "stream",
     "text": [
      "\tdone.\n",
      "sub_fig_full_input_key: \"display_fn_name:BatchPhoJonathanReplayFRC/plot_result_set:shared/page:2of2/aclus:(5,8,17,23,27)\"\n",
      "a_fig_output_path: \"C:\\Users\\pho\\repos\\Spike3DWorkEnv\\Spike3D\\data\\neptune\\commander.pho\\PhoDibaLongShortUpdated\\figs\\pin01_one_fet11-01_12-58-54\\BatchPhoJonathanReplayFRC-shared-2of2-(5,8,17,23,27).png\"\n",
      "\tdone.\n",
      "sub_fig_full_input_key: \"display_fn_name:BatchPhoJonathanReplayFRC/plot_result_set:shared/page:2of3/aclus:(14,15,17,18,20,21,22,23,25,26)\"\n",
      "a_fig_output_path: \"C:\\Users\\pho\\repos\\Spike3DWorkEnv\\Spike3D\\data\\neptune\\commander.pho\\PhoDibaLongShortUpdated\\figs\\pin01_one_fet11-01_12-58-54\\BatchPhoJonathanReplayFRC-shared-2of3-(14,15,17,18,20,21,22,23,25,26).png\"\n"
     ]
    },
    {
     "data": {
      "application/vnd.jupyter.widget-view+json": {
       "model_id": "12c7ade89581491b8538ddfa572c4d92",
       "version_major": 2,
       "version_minor": 0
      },
      "text/plain": [
       "Fetching file...: 0 [00:00, ?/s]"
      ]
     },
     "metadata": {},
     "output_type": "display_data"
    },
    {
     "name": "stdout",
     "output_type": "stream",
     "text": [
      "\tdone.\n",
      "sub_fig_full_input_key: \"display_fn_name:BatchPhoJonathanReplayFRC/plot_result_set:shared/page:3of3/aclus:(27,28,29,30,32)\"\n",
      "a_fig_output_path: \"C:\\Users\\pho\\repos\\Spike3DWorkEnv\\Spike3D\\data\\neptune\\commander.pho\\PhoDibaLongShortUpdated\\figs\\pin01_one_fet11-01_12-58-54\\BatchPhoJonathanReplayFRC-shared-3of3-(27,28,29,30,32).png\"\n",
      "\tdone.\n",
      "sub_fig_full_input_key: \"display_fn_name:BatchPhoJonathanReplayFRC/plot_result_set:short_only/aclus:(24)\"\n",
      "a_fig_output_path: \"C:\\Users\\pho\\repos\\Spike3DWorkEnv\\Spike3D\\data\\neptune\\commander.pho\\PhoDibaLongShortUpdated\\figs\\pin01_one_fet11-01_12-58-54\\BatchPhoJonathanReplayFRC-short_only-(24).png\"\n",
      "\tdone.\n",
      "a_parsed_structure: {'display_fn_name:BatchPhoJonathanReplayFRC': {'plot_result_set:long_only': {'aclus:(16,19,6,31,10)': <neptune.attributes.atoms.file.File object at 0x00000282BDDAE910>, 'aclus:(6,10,16,19,31)': <neptune.attributes.atoms.file.File object at 0x00000282BDDAE9A0>}, 'plot_result_set:shared': {'page:1of2': {'aclus:(26,20,29,18,3,4,7,32,13,11,12,2,30,15,9,28,22,14,21,25)': <neptune.attributes.atoms.file.File object at 0x00000282BDDAEBB0>}, 'page:1of3': {'aclus:(2,3,4,5,7,8,9,11,12,13)': <neptune.attributes.atoms.file.File object at 0x00000282BDDAED60>}, 'page:2of2': {'aclus:(5,8,17,23,27)': <neptune.attributes.atoms.file.File object at 0x00000282BDDAEE20>}, 'page:2of3': {'aclus:(14,15,17,18,20,21,22,23,25,26)': <neptune.attributes.atoms.file.File object at 0x00000282BDDAEE50>}, 'page:3of3': {'aclus:(27,28,29,30,32)': <neptune.attributes.atoms.file.File object at 0x00000282BDDAA430>}}, 'plot_result_set:short_only': {'aclus:(24)': <neptune.attributes.atoms.file.File object at 0x00000282BDDAA130>}}, 'display_fn_name:_display_grid_bin_bounds_validation': <neptune.attributes.atoms.file.File object at 0x00000282BDDAA100>, 'display_fn_name:bidir_track_remap': {'subplot_name:Track Remapping': <neptune.attributes.atoms.file.File object at 0x00000282BDDA2A60>}, 'display_fn_name:display_long_short_laps': <neptune.attributes.atoms.file.File object at 0x00000282BDDA2AC0>, 'display_fn_name:display_short_long_pf1D_comparison': {'track:long': <neptune.attributes.atoms.file.File object at 0x00000282BDDA2B80>, 'track:short': <neptune.attributes.atoms.file.File object at 0x00000282BDDA2CA0>}, 'display_fn_name:plot_all_epoch_bins_marginal_predictions': {'subplot_name:Laps all_epoch_binned Marginals': <neptune.attributes.atoms.file.File object at 0x00000282BDDA2D60>, 'subplot_name:Ripple all_epoch_binned Marginals': <neptune.attributes.atoms.file.File object at 0x00000282BDDA2DC0>}, 'display_fn_name:plot_expected_vs_observed': {'x_variable:epoch_idx': {'variable:obs_exp_diff_ptp': <neptune.attributes.atoms.file.File object at 0x00000282BDDA2C40>}}, 'display_fn_name:plot_histograms': {'subplot_name:laps_result_tuple': <neptune.attributes.atoms.file.File object at 0x00000282BDDA2790>, 'subplot_name:ripple_result_tuple': <neptune.attributes.atoms.file.File object at 0x00000282BDDA2760>}, 'display_fn_name:plot_quantile_diffs': {'subplot_name:BestDir': <neptune.attributes.atoms.file.File object at 0x00000282BDDA28E0>}, 'display_fn_name:plot_rank_order_epoch_inst_fr_result_tuples': {'subplot_name:Lap': {'subplotsubplot_name:raw': <neptune.attributes.atoms.file.File object at 0x00000282BDDA2940>, 'subplotsubplot_name:z_score_diff': <neptune.attributes.atoms.file.File object at 0x00000282BDDA27C0>}, 'subplot_name:Ripple': {'subplotsubplot_name:raw': <neptune.attributes.atoms.file.File object at 0x00000282BDDA2FD0>, 'subplotsubplot_name:z_score_diff': <neptune.attributes.atoms.file.File object at 0x00000282BDDA2EE0>}}, 'display_fn_name:plot_rank_order_histograms': {'subplot_name:Ripple Most-likely Spearman Rho': <neptune.attributes.atoms.file.File object at 0x00000282BE8C2910>, 'subplot_name:Ripple Most-likely Z-scores': <neptune.attributes.atoms.file.File object at 0x00000282BE8C2970>, 'subplot_name:Ripple Z-scores': <neptune.attributes.atoms.file.File object at 0x00000282BE8C2A30>, 'subplot_name:Ripple real correlations': <neptune.attributes.atoms.file.File object at 0x00000282BE8C2A90>}, 'display_fn_name:running_and_replay_speeds_over_time': <neptune.attributes.atoms.file.File object at 0x00000282BE8C2AF0>, 'filter_name:maze1_any': {'lap_dir:any': {'display_fn_name:1d_placefields': <neptune.attributes.atoms.file.File object at 0x00000282BE8C2B50>, 'display_fn_name:_display_1d_placefield_validations': <neptune.attributes.atoms.file.File object at 0x00000282BE8C2BB0>, 'display_fn_name:_display_2d_placefield_result_plot_ratemaps_2D': <neptune.attributes.atoms.file.File object at 0x00000282BE8C2CD0>, 'display_fn_name:plot_occupancy': {'plot_variable:OCCUPANCY': <neptune.attributes.atoms.file.File object at 0x00000282BE8C2D30>}, 'display_fn_name:plot_single_track_firing_rate_compare': <neptune.attributes.atoms.file.File object at 0x00000282BE8C2E80>}}, 'filter_name:maze1_even': {'lap_dir:even': {'display_fn_name:1d_placefields': <neptune.attributes.atoms.file.File object at 0x00000282BE8C2DC0>, 'display_fn_name:_display_1d_placefield_validations': <neptune.attributes.atoms.file.File object at 0x00000282BE8C2EE0>, 'display_fn_name:_display_2d_placefield_result_plot_ratemaps_2D': <neptune.attributes.atoms.file.File object at 0x00000282BDD9A040>, 'display_fn_name:plot_occupancy': {'plot_variable:OCCUPANCY': <neptune.attributes.atoms.file.File object at 0x00000282BDD9A0A0>}}}, 'filter_name:maze1_odd': {'lap_dir:odd': {'display_fn_name:1d_placefields': <neptune.attributes.atoms.file.File object at 0x00000282BDD9A1F0>, 'display_fn_name:_display_1d_placefield_validations': <neptune.attributes.atoms.file.File object at 0x00000282BDD9A130>, 'display_fn_name:_display_2d_placefield_result_plot_ratemaps_2D': <neptune.attributes.atoms.file.File object at 0x00000282BDD9A310>, 'display_fn_name:plot_occupancy': {'plot_variable:OCCUPANCY': <neptune.attributes.atoms.file.File object at 0x00000282BDD9A370>}}}, 'filter_name:maze2_any': {'lap_dir:any': {'display_fn_name:1d_placefields': <neptune.attributes.atoms.file.File object at 0x00000282BDD9A4C0>, 'display_fn_name:_display_1d_placefield_validations': <neptune.attributes.atoms.file.File object at 0x00000282BDD9A400>, 'display_fn_name:_display_2d_placefield_result_plot_ratemaps_2D': <neptune.attributes.atoms.file.File object at 0x00000282BDD9A5E0>, 'display_fn_name:plot_occupancy': {'plot_variable:OCCUPANCY': <neptune.attributes.atoms.file.File object at 0x00000282BDD9A640>}, 'display_fn_name:plot_single_track_firing_rate_compare': <neptune.attributes.atoms.file.File object at 0x00000282BDD9A790>}}, 'filter_name:maze2_even': {'lap_dir:even': {'display_fn_name:1d_placefields': <neptune.attributes.atoms.file.File object at 0x00000282BDD9A6D0>, 'display_fn_name:_display_1d_placefield_validations': <neptune.attributes.atoms.file.File object at 0x00000282BDD9A7F0>, 'display_fn_name:_display_2d_placefield_result_plot_ratemaps_2D': <neptune.attributes.atoms.file.File object at 0x00000282BDD9A910>, 'display_fn_name:plot_occupancy': {'plot_variable:OCCUPANCY': <neptune.attributes.atoms.file.File object at 0x00000282BDD9A970>}}}, 'filter_name:maze2_odd': {'lap_dir:odd': {'display_fn_name:1d_placefields': <neptune.attributes.atoms.file.File object at 0x00000282BDD9AAC0>, 'display_fn_name:_display_1d_placefield_validations': <neptune.attributes.atoms.file.File object at 0x00000282BDD9AA00>, 'display_fn_name:_display_2d_placefield_result_plot_ratemaps_2D': <neptune.attributes.atoms.file.File object at 0x00000282BDD9ABE0>, 'display_fn_name:plot_occupancy': {'plot_variable:OCCUPANCY': <neptune.attributes.atoms.file.File object at 0x00000282BDD9AC40>}}}, 'filter_name:maze_any': {'lap_dir:any': {'display_fn_name:1d_placefields': <neptune.attributes.atoms.file.File object at 0x00000282BDD9AD90>, 'display_fn_name:_display_1d_placefield_validations': <neptune.attributes.atoms.file.File object at 0x00000282BDD9ACD0>, 'display_fn_name:_display_2d_placefield_result_plot_ratemaps_2D': <neptune.attributes.atoms.file.File object at 0x00000282BDD9AEB0>, 'display_fn_name:plot_occupancy': {'plot_variable:OCCUPANCY': <neptune.attributes.atoms.file.File object at 0x00000282BDD9AF10>}}}, 'filter_name:maze_even': {'lap_dir:even': {'display_fn_name:1d_placefields': <neptune.attributes.atoms.file.File object at 0x00000282BDD9AFA0>, 'display_fn_name:_display_1d_placefield_validations': <neptune.attributes.atoms.file.File object at 0x00000282BDD9C0A0>, 'display_fn_name:_display_2d_placefield_result_plot_ratemaps_2D': <neptune.attributes.atoms.file.File object at 0x00000282BDD9C1C0>, 'display_fn_name:plot_occupancy': {'plot_variable:OCCUPANCY': <neptune.attributes.atoms.file.File object at 0x00000282BDD9C220>}}}, 'filter_name:maze_odd': {'lap_dir:odd': {'display_fn_name:1d_placefields': <neptune.attributes.atoms.file.File object at 0x00000282BDD9C370>, 'display_fn_name:_display_1d_placefield_validations': <neptune.attributes.atoms.file.File object at 0x00000282BDD9C2B0>, 'display_fn_name:_display_2d_placefield_result_plot_ratemaps_2D': <neptune.attributes.atoms.file.File object at 0x00000282BDD9C490>, 'display_fn_name:plot_occupancy': {'plot_variable:OCCUPANCY': <neptune.attributes.atoms.file.File object at 0x00000282BDD9C4F0>}}}, 'fn_name:long_short_firing_rate_indicies': {'display_fn_name:display_long_short_laps': <neptune.attributes.atoms.file.File object at 0x00000282BDD9C640>}}\n",
      "not a figure file! a dictionary instead probably: type(a_fig_file_field): <class 'dict'>\n",
      "sub_fig_full_input_key: \"display_fn_name:BatchPhoJonathanReplayFRC/plot_result_set:long_only/aclus:(16,19,6,31,10)\"\n",
      "a_fig_output_path: \"C:\\Users\\pho\\repos\\Spike3DWorkEnv\\Spike3D\\data\\neptune\\commander.pho\\PhoDibaLongShortUpdated\\figs\\pin01_one_fet11-01_12-58-54\\BatchPhoJonathanReplayFRC-long_only-(16,19,6,31,10).png\"\n",
      "\tdone.\n",
      "sub_fig_full_input_key: \"display_fn_name:BatchPhoJonathanReplayFRC/plot_result_set:long_only/aclus:(6,10,16,19,31)\"\n",
      "a_fig_output_path: \"C:\\Users\\pho\\repos\\Spike3DWorkEnv\\Spike3D\\data\\neptune\\commander.pho\\PhoDibaLongShortUpdated\\figs\\pin01_one_fet11-01_12-58-54\\BatchPhoJonathanReplayFRC-long_only-(6,10,16,19,31).png\"\n",
      "\tdone.\n",
      "sub_fig_full_input_key: \"display_fn_name:BatchPhoJonathanReplayFRC/plot_result_set:shared/page:1of2/aclus:(26,20,29,18,3,4,7,32,13,11,12,2,30,15,9,28,22,14,21,25)\"\n",
      "a_fig_output_path: \"C:\\Users\\pho\\repos\\Spike3DWorkEnv\\Spike3D\\data\\neptune\\commander.pho\\PhoDibaLongShortUpdated\\figs\\pin01_one_fet11-01_12-58-54\\BatchPhoJonathanReplayFRC-shared-1of2-(26,20,29,18,3,4,7,32,13,11,12,2,30,15,9,28,22,14,21,25).png\"\n"
     ]
    },
    {
     "data": {
      "application/vnd.jupyter.widget-view+json": {
       "model_id": "879cca94424c4321a4f572e73fc63417",
       "version_major": 2,
       "version_minor": 0
      },
      "text/plain": [
       "Fetching file...: 0 [00:00, ?/s]"
      ]
     },
     "metadata": {},
     "output_type": "display_data"
    },
    {
     "name": "stdout",
     "output_type": "stream",
     "text": [
      "\tdone.\n",
      "sub_fig_full_input_key: \"display_fn_name:BatchPhoJonathanReplayFRC/plot_result_set:shared/page:1of3/aclus:(2,3,4,5,7,8,9,11,12,13)\"\n",
      "a_fig_output_path: \"C:\\Users\\pho\\repos\\Spike3DWorkEnv\\Spike3D\\data\\neptune\\commander.pho\\PhoDibaLongShortUpdated\\figs\\pin01_one_fet11-01_12-58-54\\BatchPhoJonathanReplayFRC-shared-1of3-(2,3,4,5,7,8,9,11,12,13).png\"\n"
     ]
    },
    {
     "data": {
      "application/vnd.jupyter.widget-view+json": {
       "model_id": "2cf50cf5f231470aac56fc5e9b145a55",
       "version_major": 2,
       "version_minor": 0
      },
      "text/plain": [
       "Fetching file...: 0 [00:00, ?/s]"
      ]
     },
     "metadata": {},
     "output_type": "display_data"
    },
    {
     "name": "stdout",
     "output_type": "stream",
     "text": [
      "\tdone.\n",
      "sub_fig_full_input_key: \"display_fn_name:BatchPhoJonathanReplayFRC/plot_result_set:shared/page:2of2/aclus:(5,8,17,23,27)\"\n",
      "a_fig_output_path: \"C:\\Users\\pho\\repos\\Spike3DWorkEnv\\Spike3D\\data\\neptune\\commander.pho\\PhoDibaLongShortUpdated\\figs\\pin01_one_fet11-01_12-58-54\\BatchPhoJonathanReplayFRC-shared-2of2-(5,8,17,23,27).png\"\n",
      "\tdone.\n",
      "sub_fig_full_input_key: \"display_fn_name:BatchPhoJonathanReplayFRC/plot_result_set:shared/page:2of3/aclus:(14,15,17,18,20,21,22,23,25,26)\"\n",
      "a_fig_output_path: \"C:\\Users\\pho\\repos\\Spike3DWorkEnv\\Spike3D\\data\\neptune\\commander.pho\\PhoDibaLongShortUpdated\\figs\\pin01_one_fet11-01_12-58-54\\BatchPhoJonathanReplayFRC-shared-2of3-(14,15,17,18,20,21,22,23,25,26).png\"\n"
     ]
    },
    {
     "data": {
      "application/vnd.jupyter.widget-view+json": {
       "model_id": "6650acf9e83843d7b86b7444137e823c",
       "version_major": 2,
       "version_minor": 0
      },
      "text/plain": [
       "Fetching file...: 0 [00:00, ?/s]"
      ]
     },
     "metadata": {},
     "output_type": "display_data"
    },
    {
     "name": "stdout",
     "output_type": "stream",
     "text": [
      "\tdone.\n",
      "sub_fig_full_input_key: \"display_fn_name:BatchPhoJonathanReplayFRC/plot_result_set:shared/page:3of3/aclus:(27,28,29,30,32)\"\n",
      "a_fig_output_path: \"C:\\Users\\pho\\repos\\Spike3DWorkEnv\\Spike3D\\data\\neptune\\commander.pho\\PhoDibaLongShortUpdated\\figs\\pin01_one_fet11-01_12-58-54\\BatchPhoJonathanReplayFRC-shared-3of3-(27,28,29,30,32).png\"\n",
      "\tdone.\n",
      "sub_fig_full_input_key: \"display_fn_name:BatchPhoJonathanReplayFRC/plot_result_set:short_only/aclus:(24)\"\n",
      "a_fig_output_path: \"C:\\Users\\pho\\repos\\Spike3DWorkEnv\\Spike3D\\data\\neptune\\commander.pho\\PhoDibaLongShortUpdated\\figs\\pin01_one_fet11-01_12-58-54\\BatchPhoJonathanReplayFRC-short_only-(24).png\"\n",
      "\tdone.\n",
      "a_parsed_structure: {'display_fn_name:BatchPhoJonathanReplayFRC': {'plot_result_set:long_only': {'aclus:(10,8,27,41,34,33,21)': <neptune.attributes.atoms.file.File object at 0x00000282B9EE3820>, 'aclus:(8,10,21,27,33,34,41)': <neptune.attributes.atoms.file.File object at 0x00000282B9EE3040>}, 'plot_result_set:shared': {'page:1of2': {'aclus:(3,15,31,42,26,9,2,14,30,39,38,43,16,11,29,7,22,37,6,12)': <neptune.attributes.atoms.file.File object at 0x00000282B9EE3970>}, 'page:1of3': {'aclus:(2,3,6,7,9,11,12,13,14,15)': <neptune.attributes.atoms.file.File object at 0x00000282B9EE98E0>}, 'page:2of2': {'aclus:(13,19,24,25,28,32,35,36)': <neptune.attributes.atoms.file.File object at 0x00000282B9EE99D0>}, 'page:2of3': {'aclus:(16,19,22,24,25,26,28,29,30,31)': <neptune.attributes.atoms.file.File object at 0x00000282B9EE9AC0>}, 'page:3of3': {'aclus:(32,35,36,37,38,39,42,43)': <neptune.attributes.atoms.file.File object at 0x00000282B9EE9BB0>}}, 'plot_result_set:short_only': {'aclus:(4,5,17,18,20,23,40)': <neptune.attributes.atoms.file.File object at 0x00000282B9EE9CA0>}}, 'display_fn_name:_display_grid_bin_bounds_validation': <neptune.attributes.atoms.file.File object at 0x00000282B9EE9BE0>, 'display_fn_name:bidir_track_remap': {'subplot_name:Track Remapping': <neptune.attributes.atoms.file.File object at 0x00000282B9EE9D60>}, 'display_fn_name:directional_merged_pf_decoded_epochs': {'decoded_epochs:Laps': {'Marginal:Direction': {'t_bin:0.25': <neptune.attributes.atoms.file.File object at 0x00000282B9EE9DC0>}, 'Marginal:TrackID': {'t_bin:0.25': <neptune.attributes.atoms.file.File object at 0x00000282B9EE9EB0>}}, 'decoded_epochs:Ripple': {'Marginal:Direction': {'t_bin:0.025': <neptune.attributes.atoms.file.File object at 0x00000282BE13F160>}, 'Marginal:TrackID': {'t_bin:0.025': <neptune.attributes.atoms.file.File object at 0x00000282BE13F0A0>}}}, 'display_fn_name:display_short_long_pf1D_comparison': {'track:long': <neptune.attributes.atoms.file.File object at 0x00000282B9EE5760>, 'track:short': <neptune.attributes.atoms.file.File object at 0x00000282B9EE5BB0>}, 'display_fn_name:plot_all_epoch_bins_marginal_predictions': {'subplot_name:Laps all_epoch_binned Marginals': <neptune.attributes.atoms.file.File object at 0x00000282B9EE56D0>, 'subplot_name:Ripple all_epoch_binned Marginals': <neptune.attributes.atoms.file.File object at 0x00000282B9EE5730>}, 'display_fn_name:plot_expected_vs_observed': {'x_variable:epoch_idx': {'variable:obs_exp_diff_ptp': <neptune.attributes.atoms.file.File object at 0x00000282B9EE58B0>}}, 'display_fn_name:plot_histograms': {'subplot_name:laps_result_tuple': <neptune.attributes.atoms.file.File object at 0x00000282B9EE5910>, 'subplot_name:ripple_result_tuple': <neptune.attributes.atoms.file.File object at 0x00000282B9EE57F0>}, 'display_fn_name:plot_quantile_diffs': {'subplot_name:BestDir': <neptune.attributes.atoms.file.File object at 0x00000282B9EE5B20>}, 'display_fn_name:plot_rank_order_epoch_inst_fr_result_tuples': {'subplot_name:Lap': {'subplotsubplot_name:raw': <neptune.attributes.atoms.file.File object at 0x00000282B9EE5AF0>, 'subplotsubplot_name:z_score_diff': <neptune.attributes.atoms.file.File object at 0x00000282B9EE59D0>}, 'subplot_name:Ripple': {'subplotsubplot_name:raw': <neptune.attributes.atoms.file.File object at 0x00000282B9EE5AC0>, 'subplotsubplot_name:z_score_diff': <neptune.attributes.atoms.file.File object at 0x00000282B9EE5A60>}}, 'display_fn_name:plot_rank_order_histograms': {'subplot_name:Ripple Most-likely Spearman Rho': <neptune.attributes.atoms.file.File object at 0x00000282BE11C0D0>, 'subplot_name:Ripple Most-likely Z-scores': <neptune.attributes.atoms.file.File object at 0x00000282BE11C130>, 'subplot_name:Ripple Z-scores': <neptune.attributes.atoms.file.File object at 0x00000282BE11C1F0>, 'subplot_name:Ripple real correlations': <neptune.attributes.atoms.file.File object at 0x00000282BE11C250>}, 'display_fn_name:running_and_replay_speeds_over_time': <neptune.attributes.atoms.file.File object at 0x00000282BE11C2B0>, 'filter_name:maze1_any': {'lap_dir:any': {'display_fn_name:1d_placefields': <neptune.attributes.atoms.file.File object at 0x00000282BE11C310>, 'display_fn_name:_display_1d_placefield_validations': <neptune.attributes.atoms.file.File object at 0x00000282BE11C370>, 'display_fn_name:_display_2d_placefield_result_plot_ratemaps_2D': <neptune.attributes.atoms.file.File object at 0x00000282BE11C490>, 'display_fn_name:plot_occupancy': {'plot_variable:OCCUPANCY': <neptune.attributes.atoms.file.File object at 0x00000282BE11C4F0>}, 'display_fn_name:plot_single_track_firing_rate_compare': <neptune.attributes.atoms.file.File object at 0x00000282BE11C640>}}, 'filter_name:maze1_even': {'lap_dir:even': {'display_fn_name:1d_placefields': <neptune.attributes.atoms.file.File object at 0x00000282BE11C580>, 'display_fn_name:_display_1d_placefield_validations': <neptune.attributes.atoms.file.File object at 0x00000282BE11C6A0>, 'display_fn_name:_display_2d_placefield_result_plot_ratemaps_2D': <neptune.attributes.atoms.file.File object at 0x00000282BE11C7C0>, 'display_fn_name:plot_occupancy': {'plot_variable:OCCUPANCY': <neptune.attributes.atoms.file.File object at 0x00000282BE11C820>}}}, 'filter_name:maze1_odd': {'lap_dir:odd': {'display_fn_name:1d_placefields': <neptune.attributes.atoms.file.File object at 0x00000282BE11C970>, 'display_fn_name:_display_1d_placefield_validations': <neptune.attributes.atoms.file.File object at 0x00000282BE11C8B0>, 'display_fn_name:_display_2d_placefield_result_plot_ratemaps_2D': <neptune.attributes.atoms.file.File object at 0x00000282BE11CA90>, 'display_fn_name:plot_occupancy': {'plot_variable:OCCUPANCY': <neptune.attributes.atoms.file.File object at 0x00000282BE11CAF0>}}}, 'filter_name:maze2_any': {'lap_dir:any': {'display_fn_name:1d_placefields': <neptune.attributes.atoms.file.File object at 0x00000282BE11CC40>, 'display_fn_name:_display_1d_placefield_validations': <neptune.attributes.atoms.file.File object at 0x00000282BE11CB80>, 'display_fn_name:_display_2d_placefield_result_plot_ratemaps_2D': <neptune.attributes.atoms.file.File object at 0x00000282BE11CD60>, 'display_fn_name:plot_occupancy': {'plot_variable:OCCUPANCY': <neptune.attributes.atoms.file.File object at 0x00000282BE11CDC0>}, 'display_fn_name:plot_single_track_firing_rate_compare': <neptune.attributes.atoms.file.File object at 0x00000282BE11CF10>}}, 'filter_name:maze2_even': {'lap_dir:even': {'display_fn_name:1d_placefields': <neptune.attributes.atoms.file.File object at 0x00000282BE11CE50>, 'display_fn_name:_display_1d_placefield_validations': <neptune.attributes.atoms.file.File object at 0x00000282BE11CF70>, 'display_fn_name:_display_2d_placefield_result_plot_ratemaps_2D': <neptune.attributes.atoms.file.File object at 0x00000282B9EE40D0>, 'display_fn_name:plot_occupancy': {'plot_variable:OCCUPANCY': <neptune.attributes.atoms.file.File object at 0x00000282B9EE4130>}}}, 'filter_name:maze2_odd': {'lap_dir:odd': {'display_fn_name:1d_placefields': <neptune.attributes.atoms.file.File object at 0x00000282B9EE4280>, 'display_fn_name:_display_1d_placefield_validations': <neptune.attributes.atoms.file.File object at 0x00000282B9EE41C0>, 'display_fn_name:_display_2d_placefield_result_plot_ratemaps_2D': <neptune.attributes.atoms.file.File object at 0x00000282B9EE43A0>, 'display_fn_name:plot_occupancy': {'plot_variable:OCCUPANCY': <neptune.attributes.atoms.file.File object at 0x00000282B9EE4400>}}}, 'filter_name:maze_any': {'lap_dir:any': {'display_fn_name:1d_placefields': <neptune.attributes.atoms.file.File object at 0x00000282B9EE4550>, 'display_fn_name:_display_1d_placefield_validations': <neptune.attributes.atoms.file.File object at 0x00000282B9EE4490>, 'display_fn_name:_display_2d_placefield_result_plot_ratemaps_2D': <neptune.attributes.atoms.file.File object at 0x00000282B9EE4670>, 'display_fn_name:plot_occupancy': {'plot_variable:OCCUPANCY': <neptune.attributes.atoms.file.File object at 0x00000282B9EE46D0>}}}, 'filter_name:maze_even': {'lap_dir:even': {'display_fn_name:1d_placefields': <neptune.attributes.atoms.file.File object at 0x00000282B9EE4820>, 'display_fn_name:_display_1d_placefield_validations': <neptune.attributes.atoms.file.File object at 0x00000282B9EE4760>, 'display_fn_name:_display_2d_placefield_result_plot_ratemaps_2D': <neptune.attributes.atoms.file.File object at 0x00000282B9EE4940>, 'display_fn_name:plot_occupancy': {'plot_variable:OCCUPANCY': <neptune.attributes.atoms.file.File object at 0x00000282B9EE49A0>}}}, 'filter_name:maze_odd': {'lap_dir:odd': {'display_fn_name:1d_placefields': <neptune.attributes.atoms.file.File object at 0x00000282B9EE4AF0>, 'display_fn_name:_display_1d_placefield_validations': <neptune.attributes.atoms.file.File object at 0x00000282B9EE4A30>, 'display_fn_name:_display_2d_placefield_result_plot_ratemaps_2D': <neptune.attributes.atoms.file.File object at 0x00000282B9EE4C10>, 'display_fn_name:plot_occupancy': {'plot_variable:OCCUPANCY': <neptune.attributes.atoms.file.File object at 0x00000282B9EE4C70>}}}, 'fn_name:long_short_firing_rate_indicies': {'display_fn_name:display_long_short_laps': <neptune.attributes.atoms.file.File object at 0x00000282B9EE4DC0>}}\n",
      "not a figure file! a dictionary instead probably: type(a_fig_file_field): <class 'dict'>\n",
      "sub_fig_full_input_key: \"display_fn_name:BatchPhoJonathanReplayFRC/plot_result_set:long_only/aclus:(10,8,27,41,34,33,21)\"\n",
      "a_fig_output_path: \"C:\\Users\\pho\\repos\\Spike3DWorkEnv\\Spike3D\\data\\neptune\\commander.pho\\PhoDibaLongShortUpdated\\figs\\pin01_one_11-02_17-46-44\\BatchPhoJonathanReplayFRC-long_only-(10,8,27,41,34,33,21).png\"\n",
      "\tdone.\n",
      "sub_fig_full_input_key: \"display_fn_name:BatchPhoJonathanReplayFRC/plot_result_set:long_only/aclus:(8,10,21,27,33,34,41)\"\n",
      "a_fig_output_path: \"C:\\Users\\pho\\repos\\Spike3DWorkEnv\\Spike3D\\data\\neptune\\commander.pho\\PhoDibaLongShortUpdated\\figs\\pin01_one_11-02_17-46-44\\BatchPhoJonathanReplayFRC-long_only-(8,10,21,27,33,34,41).png\"\n",
      "\tdone.\n",
      "sub_fig_full_input_key: \"display_fn_name:BatchPhoJonathanReplayFRC/plot_result_set:shared/page:1of2/aclus:(3,15,31,42,26,9,2,14,30,39,38,43,16,11,29,7,22,37,6,12)\"\n",
      "a_fig_output_path: \"C:\\Users\\pho\\repos\\Spike3DWorkEnv\\Spike3D\\data\\neptune\\commander.pho\\PhoDibaLongShortUpdated\\figs\\pin01_one_11-02_17-46-44\\BatchPhoJonathanReplayFRC-shared-1of2-(3,15,31,42,26,9,2,14,30,39,38,43,16,11,29,7,22,37,6,12).png\"\n"
     ]
    },
    {
     "data": {
      "application/vnd.jupyter.widget-view+json": {
       "model_id": "7c6a3d18aa134421afe5a4d7ddd39fd3",
       "version_major": 2,
       "version_minor": 0
      },
      "text/plain": [
       "Fetching file...: 0 [00:00, ?/s]"
      ]
     },
     "metadata": {},
     "output_type": "display_data"
    },
    {
     "name": "stdout",
     "output_type": "stream",
     "text": [
      "\tdone.\n",
      "sub_fig_full_input_key: \"display_fn_name:BatchPhoJonathanReplayFRC/plot_result_set:shared/page:1of3/aclus:(2,3,6,7,9,11,12,13,14,15)\"\n",
      "a_fig_output_path: \"C:\\Users\\pho\\repos\\Spike3DWorkEnv\\Spike3D\\data\\neptune\\commander.pho\\PhoDibaLongShortUpdated\\figs\\pin01_one_11-02_17-46-44\\BatchPhoJonathanReplayFRC-shared-1of3-(2,3,6,7,9,11,12,13,14,15).png\"\n"
     ]
    },
    {
     "data": {
      "application/vnd.jupyter.widget-view+json": {
       "model_id": "df7abe5fb7bd4027a0a2cf366105f9d8",
       "version_major": 2,
       "version_minor": 0
      },
      "text/plain": [
       "Fetching file...: 0 [00:00, ?/s]"
      ]
     },
     "metadata": {},
     "output_type": "display_data"
    },
    {
     "name": "stdout",
     "output_type": "stream",
     "text": [
      "\tdone.\n",
      "sub_fig_full_input_key: \"display_fn_name:BatchPhoJonathanReplayFRC/plot_result_set:shared/page:2of2/aclus:(13,19,24,25,28,32,35,36)\"\n",
      "a_fig_output_path: \"C:\\Users\\pho\\repos\\Spike3DWorkEnv\\Spike3D\\data\\neptune\\commander.pho\\PhoDibaLongShortUpdated\\figs\\pin01_one_11-02_17-46-44\\BatchPhoJonathanReplayFRC-shared-2of2-(13,19,24,25,28,32,35,36).png\"\n"
     ]
    },
    {
     "data": {
      "application/vnd.jupyter.widget-view+json": {
       "model_id": "3a8e4dafabe849f58b6edb4b8cd417e1",
       "version_major": 2,
       "version_minor": 0
      },
      "text/plain": [
       "Fetching file...: 0 [00:00, ?/s]"
      ]
     },
     "metadata": {},
     "output_type": "display_data"
    },
    {
     "name": "stdout",
     "output_type": "stream",
     "text": [
      "\tdone.\n",
      "sub_fig_full_input_key: \"display_fn_name:BatchPhoJonathanReplayFRC/plot_result_set:shared/page:2of3/aclus:(16,19,22,24,25,26,28,29,30,31)\"\n",
      "a_fig_output_path: \"C:\\Users\\pho\\repos\\Spike3DWorkEnv\\Spike3D\\data\\neptune\\commander.pho\\PhoDibaLongShortUpdated\\figs\\pin01_one_11-02_17-46-44\\BatchPhoJonathanReplayFRC-shared-2of3-(16,19,22,24,25,26,28,29,30,31).png\"\n"
     ]
    },
    {
     "data": {
      "application/vnd.jupyter.widget-view+json": {
       "model_id": "8613bb8b56fc400ab92b5bd1feff3bc6",
       "version_major": 2,
       "version_minor": 0
      },
      "text/plain": [
       "Fetching file...: 0 [00:00, ?/s]"
      ]
     },
     "metadata": {},
     "output_type": "display_data"
    },
    {
     "name": "stdout",
     "output_type": "stream",
     "text": [
      "\tdone.\n",
      "sub_fig_full_input_key: \"display_fn_name:BatchPhoJonathanReplayFRC/plot_result_set:shared/page:3of3/aclus:(32,35,36,37,38,39,42,43)\"\n",
      "a_fig_output_path: \"C:\\Users\\pho\\repos\\Spike3DWorkEnv\\Spike3D\\data\\neptune\\commander.pho\\PhoDibaLongShortUpdated\\figs\\pin01_one_11-02_17-46-44\\BatchPhoJonathanReplayFRC-shared-3of3-(32,35,36,37,38,39,42,43).png\"\n",
      "\tdone.\n",
      "sub_fig_full_input_key: \"display_fn_name:BatchPhoJonathanReplayFRC/plot_result_set:short_only/aclus:(4,5,17,18,20,23,40)\"\n",
      "a_fig_output_path: \"C:\\Users\\pho\\repos\\Spike3DWorkEnv\\Spike3D\\data\\neptune\\commander.pho\\PhoDibaLongShortUpdated\\figs\\pin01_one_11-02_17-46-44\\BatchPhoJonathanReplayFRC-short_only-(4,5,17,18,20,23,40).png\"\n",
      "\tdone.\n",
      "a_parsed_structure: {'display_fn_name:BatchPhoJonathanReplayFRC': {'plot_result_set:long_only': {'aclus:(10,8,27,41,34,33,21)': <neptune.attributes.atoms.file.File object at 0x00000282BCC45370>, 'aclus:(8,10,21,27,33,34,41)': <neptune.attributes.atoms.file.File object at 0x00000282BCC453D0>}, 'plot_result_set:shared': {'page:1of2': {'aclus:(3,15,31,42,26,9,2,14,30,39,38,43,16,11,29,7,22,37,6,12)': <neptune.attributes.atoms.file.File object at 0x00000282BCC455B0>}, 'page:1of3': {'aclus:(2,3,6,7,9,11,12,13,14,15)': <neptune.attributes.atoms.file.File object at 0x00000282BCC45730>}, 'page:2of2': {'aclus:(13,19,24,25,28,32,35,36)': <neptune.attributes.atoms.file.File object at 0x00000282BCC45850>}, 'page:2of3': {'aclus:(16,19,22,24,25,26,28,29,30,31)': <neptune.attributes.atoms.file.File object at 0x00000282BCC45940>}, 'page:3of3': {'aclus:(32,35,36,37,38,39,42,43)': <neptune.attributes.atoms.file.File object at 0x00000282BCC45A30>}}, 'plot_result_set:short_only': {'aclus:(4,5,17,18,20,23,40)': <neptune.attributes.atoms.file.File object at 0x00000282BCC45BB0>}}, 'display_fn_name:_display_grid_bin_bounds_validation': <neptune.attributes.atoms.file.File object at 0x00000282BCC45A60>, 'display_fn_name:bidir_track_remap': {'subplot_name:Track Remapping': <neptune.attributes.atoms.file.File object at 0x00000282BCC45BE0>}, 'display_fn_name:display_short_long_pf1D_comparison': {'track:long': <neptune.attributes.atoms.file.File object at 0x00000282BCC45C40>, 'track:short': <neptune.attributes.atoms.file.File object at 0x00000282BCC45D00>}, 'display_fn_name:plot_all_epoch_bins_marginal_predictions': {'subplot_name:Laps all_epoch_binned Marginals': <neptune.attributes.atoms.file.File object at 0x00000282BCC4DDC0>, 'subplot_name:Ripple all_epoch_binned Marginals': <neptune.attributes.atoms.file.File object at 0x00000282BCC2E6A0>}, 'display_fn_name:plot_expected_vs_observed': {'x_variable:epoch_idx': {'variable:obs_exp_diff_ptp': <neptune.attributes.atoms.file.File object at 0x00000282BCC2E0A0>}}, 'display_fn_name:plot_histograms': {'subplot_name:laps_result_tuple': <neptune.attributes.atoms.file.File object at 0x00000282BCC2E1C0>, 'subplot_name:ripple_result_tuple': <neptune.attributes.atoms.file.File object at 0x00000282BCC2E2E0>}, 'display_fn_name:plot_quantile_diffs': {'subplot_name:BestDir': <neptune.attributes.atoms.file.File object at 0x00000282BCC2E160>}, 'display_fn_name:plot_rank_order_epoch_inst_fr_result_tuples': {'subplot_name:Lap': {'subplotsubplot_name:raw': <neptune.attributes.atoms.file.File object at 0x00000282BCC2E520>, 'subplotsubplot_name:z_score_diff': <neptune.attributes.atoms.file.File object at 0x00000282BCC2E430>}, 'subplot_name:Ripple': {'subplotsubplot_name:raw': <neptune.attributes.atoms.file.File object at 0x00000282BCC2E640>, 'subplotsubplot_name:z_score_diff': <neptune.attributes.atoms.file.File object at 0x00000282BCC2E5E0>}}, 'display_fn_name:plot_rank_order_histograms': {'subplot_name:Ripple Most-likely Spearman Rho': <neptune.attributes.atoms.file.File object at 0x00000282BCC536D0>, 'subplot_name:Ripple Most-likely Z-scores': <neptune.attributes.atoms.file.File object at 0x00000282BCC53730>, 'subplot_name:Ripple Z-scores': <neptune.attributes.atoms.file.File object at 0x00000282BCC537F0>, 'subplot_name:Ripple real correlations': <neptune.attributes.atoms.file.File object at 0x00000282BCC53850>}, 'display_fn_name:running_and_replay_speeds_over_time': <neptune.attributes.atoms.file.File object at 0x00000282BCC538B0>, 'filter_name:maze1_any': {'lap_dir:any': {'display_fn_name:1d_placefields': <neptune.attributes.atoms.file.File object at 0x00000282BCC53910>, 'display_fn_name:_display_1d_placefield_validations': <neptune.attributes.atoms.file.File object at 0x00000282BCC53970>, 'display_fn_name:_display_2d_placefield_result_plot_ratemaps_2D': <neptune.attributes.atoms.file.File object at 0x00000282BCC53A90>, 'display_fn_name:plot_occupancy': {'plot_variable:OCCUPANCY': <neptune.attributes.atoms.file.File object at 0x00000282BCC53AF0>}, 'display_fn_name:plot_single_track_firing_rate_compare': <neptune.attributes.atoms.file.File object at 0x00000282BCC53C40>}}, 'filter_name:maze1_even': {'lap_dir:even': {'display_fn_name:1d_placefields': <neptune.attributes.atoms.file.File object at 0x00000282BCC53B80>, 'display_fn_name:_display_1d_placefield_validations': <neptune.attributes.atoms.file.File object at 0x00000282BCC53CA0>, 'display_fn_name:_display_2d_placefield_result_plot_ratemaps_2D': <neptune.attributes.atoms.file.File object at 0x00000282BCC53DC0>, 'display_fn_name:plot_occupancy': {'plot_variable:OCCUPANCY': <neptune.attributes.atoms.file.File object at 0x00000282BCC53E20>}}}, 'filter_name:maze1_odd': {'lap_dir:odd': {'display_fn_name:1d_placefields': <neptune.attributes.atoms.file.File object at 0x00000282BCC53F70>, 'display_fn_name:_display_1d_placefield_validations': <neptune.attributes.atoms.file.File object at 0x00000282BCC53EB0>, 'display_fn_name:_display_2d_placefield_result_plot_ratemaps_2D': <neptune.attributes.atoms.file.File object at 0x00000282BCC210D0>, 'display_fn_name:plot_occupancy': {'plot_variable:OCCUPANCY': <neptune.attributes.atoms.file.File object at 0x00000282BCC21130>}}}, 'filter_name:maze2_any': {'lap_dir:any': {'display_fn_name:1d_placefields': <neptune.attributes.atoms.file.File object at 0x00000282BCC21280>, 'display_fn_name:_display_1d_placefield_validations': <neptune.attributes.atoms.file.File object at 0x00000282BCC211C0>, 'display_fn_name:_display_2d_placefield_result_plot_ratemaps_2D': <neptune.attributes.atoms.file.File object at 0x00000282BCC213A0>, 'display_fn_name:plot_occupancy': {'plot_variable:OCCUPANCY': <neptune.attributes.atoms.file.File object at 0x00000282BCC21400>}, 'display_fn_name:plot_single_track_firing_rate_compare': <neptune.attributes.atoms.file.File object at 0x00000282BCC21550>}}, 'filter_name:maze2_even': {'lap_dir:even': {'display_fn_name:1d_placefields': <neptune.attributes.atoms.file.File object at 0x00000282BCC21490>, 'display_fn_name:_display_1d_placefield_validations': <neptune.attributes.atoms.file.File object at 0x00000282BCC215B0>, 'display_fn_name:_display_2d_placefield_result_plot_ratemaps_2D': <neptune.attributes.atoms.file.File object at 0x00000282BCC216D0>, 'display_fn_name:plot_occupancy': {'plot_variable:OCCUPANCY': <neptune.attributes.atoms.file.File object at 0x00000282BCC21730>}}}, 'filter_name:maze2_odd': {'lap_dir:odd': {'display_fn_name:1d_placefields': <neptune.attributes.atoms.file.File object at 0x00000282BCC21880>, 'display_fn_name:_display_1d_placefield_validations': <neptune.attributes.atoms.file.File object at 0x00000282BCC217C0>, 'display_fn_name:_display_2d_placefield_result_plot_ratemaps_2D': <neptune.attributes.atoms.file.File object at 0x00000282BCC219A0>, 'display_fn_name:plot_occupancy': {'plot_variable:OCCUPANCY': <neptune.attributes.atoms.file.File object at 0x00000282BCC21A00>}}}, 'filter_name:maze_any': {'lap_dir:any': {'display_fn_name:1d_placefields': <neptune.attributes.atoms.file.File object at 0x00000282BCC21B50>, 'display_fn_name:_display_1d_placefield_validations': <neptune.attributes.atoms.file.File object at 0x00000282BCC21A90>, 'display_fn_name:_display_2d_placefield_result_plot_ratemaps_2D': <neptune.attributes.atoms.file.File object at 0x00000282BCC21C70>, 'display_fn_name:plot_occupancy': {'plot_variable:OCCUPANCY': <neptune.attributes.atoms.file.File object at 0x00000282BCC21CD0>}}}, 'filter_name:maze_even': {'lap_dir:even': {'display_fn_name:1d_placefields': <neptune.attributes.atoms.file.File object at 0x00000282BCC21E20>, 'display_fn_name:_display_1d_placefield_validations': <neptune.attributes.atoms.file.File object at 0x00000282BCC21D60>, 'display_fn_name:_display_2d_placefield_result_plot_ratemaps_2D': <neptune.attributes.atoms.file.File object at 0x00000282BCC21F40>, 'display_fn_name:plot_occupancy': {'plot_variable:OCCUPANCY': <neptune.attributes.atoms.file.File object at 0x00000282BCC21FA0>}}}, 'filter_name:maze_odd': {'lap_dir:odd': {'display_fn_name:1d_placefields': <neptune.attributes.atoms.file.File object at 0x00000282BCC20130>, 'display_fn_name:_display_1d_placefield_validations': <neptune.attributes.atoms.file.File object at 0x00000282BCC20070>, 'display_fn_name:_display_2d_placefield_result_plot_ratemaps_2D': <neptune.attributes.atoms.file.File object at 0x00000282BCC20250>, 'display_fn_name:plot_occupancy': {'plot_variable:OCCUPANCY': <neptune.attributes.atoms.file.File object at 0x00000282BCC202B0>}}}, 'fn_name:long_short_firing_rate_indicies': {'display_fn_name:display_long_short_laps': <neptune.attributes.atoms.file.File object at 0x00000282BCC20400>}}\n",
      "not a figure file! a dictionary instead probably: type(a_fig_file_field): <class 'dict'>\n",
      "sub_fig_full_input_key: \"display_fn_name:BatchPhoJonathanReplayFRC/plot_result_set:long_only/aclus:(10,8,27,41,34,33,21)\"\n",
      "a_fig_output_path: \"C:\\Users\\pho\\repos\\Spike3DWorkEnv\\Spike3D\\data\\neptune\\commander.pho\\PhoDibaLongShortUpdated\\figs\\pin01_one_11-02_17-46-44\\BatchPhoJonathanReplayFRC-long_only-(10,8,27,41,34,33,21).png\"\n",
      "\tdone.\n",
      "sub_fig_full_input_key: \"display_fn_name:BatchPhoJonathanReplayFRC/plot_result_set:long_only/aclus:(8,10,21,27,33,34,41)\"\n",
      "a_fig_output_path: \"C:\\Users\\pho\\repos\\Spike3DWorkEnv\\Spike3D\\data\\neptune\\commander.pho\\PhoDibaLongShortUpdated\\figs\\pin01_one_11-02_17-46-44\\BatchPhoJonathanReplayFRC-long_only-(8,10,21,27,33,34,41).png\"\n",
      "\tdone.\n",
      "sub_fig_full_input_key: \"display_fn_name:BatchPhoJonathanReplayFRC/plot_result_set:shared/page:1of2/aclus:(3,15,31,42,26,9,2,14,30,39,38,43,16,11,29,7,22,37,6,12)\"\n",
      "a_fig_output_path: \"C:\\Users\\pho\\repos\\Spike3DWorkEnv\\Spike3D\\data\\neptune\\commander.pho\\PhoDibaLongShortUpdated\\figs\\pin01_one_11-02_17-46-44\\BatchPhoJonathanReplayFRC-shared-1of2-(3,15,31,42,26,9,2,14,30,39,38,43,16,11,29,7,22,37,6,12).png\"\n"
     ]
    },
    {
     "data": {
      "application/vnd.jupyter.widget-view+json": {
       "model_id": "08d85552bf424abbb8d1ae8871be2a0e",
       "version_major": 2,
       "version_minor": 0
      },
      "text/plain": [
       "Fetching file...: 0 [00:00, ?/s]"
      ]
     },
     "metadata": {},
     "output_type": "display_data"
    },
    {
     "name": "stdout",
     "output_type": "stream",
     "text": [
      "\tdone.\n",
      "sub_fig_full_input_key: \"display_fn_name:BatchPhoJonathanReplayFRC/plot_result_set:shared/page:1of3/aclus:(2,3,6,7,9,11,12,13,14,15)\"\n",
      "a_fig_output_path: \"C:\\Users\\pho\\repos\\Spike3DWorkEnv\\Spike3D\\data\\neptune\\commander.pho\\PhoDibaLongShortUpdated\\figs\\pin01_one_11-02_17-46-44\\BatchPhoJonathanReplayFRC-shared-1of3-(2,3,6,7,9,11,12,13,14,15).png\"\n"
     ]
    },
    {
     "data": {
      "application/vnd.jupyter.widget-view+json": {
       "model_id": "1d9a2bda626d451f95f546284197d9bd",
       "version_major": 2,
       "version_minor": 0
      },
      "text/plain": [
       "Fetching file...: 0 [00:00, ?/s]"
      ]
     },
     "metadata": {},
     "output_type": "display_data"
    },
    {
     "name": "stdout",
     "output_type": "stream",
     "text": [
      "\tdone.\n",
      "sub_fig_full_input_key: \"display_fn_name:BatchPhoJonathanReplayFRC/plot_result_set:shared/page:2of2/aclus:(13,19,24,25,28,32,35,36)\"\n",
      "a_fig_output_path: \"C:\\Users\\pho\\repos\\Spike3DWorkEnv\\Spike3D\\data\\neptune\\commander.pho\\PhoDibaLongShortUpdated\\figs\\pin01_one_11-02_17-46-44\\BatchPhoJonathanReplayFRC-shared-2of2-(13,19,24,25,28,32,35,36).png\"\n",
      "\tdone.\n",
      "sub_fig_full_input_key: \"display_fn_name:BatchPhoJonathanReplayFRC/plot_result_set:shared/page:2of3/aclus:(16,19,22,24,25,26,28,29,30,31)\"\n",
      "a_fig_output_path: \"C:\\Users\\pho\\repos\\Spike3DWorkEnv\\Spike3D\\data\\neptune\\commander.pho\\PhoDibaLongShortUpdated\\figs\\pin01_one_11-02_17-46-44\\BatchPhoJonathanReplayFRC-shared-2of3-(16,19,22,24,25,26,28,29,30,31).png\"\n",
      "\tdone.\n",
      "sub_fig_full_input_key: \"display_fn_name:BatchPhoJonathanReplayFRC/plot_result_set:shared/page:3of3/aclus:(32,35,36,37,38,39,42,43)\"\n",
      "a_fig_output_path: \"C:\\Users\\pho\\repos\\Spike3DWorkEnv\\Spike3D\\data\\neptune\\commander.pho\\PhoDibaLongShortUpdated\\figs\\pin01_one_11-02_17-46-44\\BatchPhoJonathanReplayFRC-shared-3of3-(32,35,36,37,38,39,42,43).png\"\n",
      "\tdone.\n",
      "sub_fig_full_input_key: \"display_fn_name:BatchPhoJonathanReplayFRC/plot_result_set:short_only/aclus:(4,5,17,18,20,23,40)\"\n",
      "a_fig_output_path: \"C:\\Users\\pho\\repos\\Spike3DWorkEnv\\Spike3D\\data\\neptune\\commander.pho\\PhoDibaLongShortUpdated\\figs\\pin01_one_11-02_17-46-44\\BatchPhoJonathanReplayFRC-short_only-(4,5,17,18,20,23,40).png\"\n",
      "\tdone.\n",
      "a_parsed_structure: {'display_fn_name:BatchPhoJonathanReplayFRC': {'plot_result_set:long_only': {'aclus:(6,12,17,28,32,37)': <neptune.attributes.atoms.file.File object at 0x00000282BE13CD30>, 'aclus:(6,32,17,28,12,37)': <neptune.attributes.atoms.file.File object at 0x00000282BE13CE50>}, 'plot_result_set:shared': {'page:1of2': {'aclus:(43,22,4,23,13,20,3,39,10,26,9,38,27,8,33,34,19,29,7,14)': <neptune.attributes.atoms.file.File object at 0x00000282BE13CDF0>}, 'page:1of4': {'aclus:(2,3,4,5,7,8,9,10,11,13)': <neptune.attributes.atoms.file.File object at 0x00000282BE13CB50>}, 'page:2of2': {'aclus:(42,2,5,11,15,16,18,24,35,36,40,44,45)': <neptune.attributes.atoms.file.File object at 0x00000282BE13CB80>}, 'page:2of4': {'aclus:(14,15,16,18,19,20,22,23,24,26)': <neptune.attributes.atoms.file.File object at 0x00000282BE13EBB0>}, 'page:3of4': {'aclus:(27,29,33,34,35,36,38,39,40,42)': <neptune.attributes.atoms.file.File object at 0x00000282BE13EB20>}, 'page:4of4': {'aclus:(43,44,45)': <neptune.attributes.atoms.file.File object at 0x00000282BE13EF70>}}, 'plot_result_set:short_only': {'aclus:(21,25,30,31,41)': <neptune.attributes.atoms.file.File object at 0x00000282B9EC3C40>}}, 'display_fn_name:_display_grid_bin_bounds_validation': <neptune.attributes.atoms.file.File object at 0x00000282B9EC36D0>, 'display_fn_name:bidir_track_remap': {'subplot_name:Track Remapping': <neptune.attributes.atoms.file.File object at 0x00000282BE106040>}, 'display_fn_name:directional_merged_pf_decoded_epochs': {'decoded_epochs:Laps': {'Marginal:Direction': {'t_bin:0.25': <neptune.attributes.atoms.file.File object at 0x00000282BE1060A0>}, 'Marginal:TrackID': {'t_bin:0.25': <neptune.attributes.atoms.file.File object at 0x00000282BE106310>}}, 'decoded_epochs:Ripple': {'Marginal:Direction': {'t_bin:0.025': <neptune.attributes.atoms.file.File object at 0x00000282BE1063D0>}, 'Marginal:TrackID': {'t_bin:0.025': <neptune.attributes.atoms.file.File object at 0x00000282BE1065E0>}}}, 'display_fn_name:display_long_short_laps': <neptune.attributes.atoms.file.File object at 0x00000282BE106640>, 'display_fn_name:display_short_long_pf1D_comparison': {'track:long': <neptune.attributes.atoms.file.File object at 0x00000282BE1065B0>, 'track:short': <neptune.attributes.atoms.file.File object at 0x00000282BE1066A0>}, 'display_fn_name:plot_all_epoch_bins_marginal_predictions': {'subplot_name:Laps all_epoch_binned Marginals': <neptune.attributes.atoms.file.File object at 0x00000282BE11D7F0>, 'subplot_name:Ripple all_epoch_binned Marginals': <neptune.attributes.atoms.file.File object at 0x00000282BE11D040>}, 'display_fn_name:plot_expected_vs_observed': {'x_variable:epoch_idx': {'variable:obs_exp_diff_ptp': <neptune.attributes.atoms.file.File object at 0x00000282BE11D190>}}, 'display_fn_name:plot_histograms': {'subplot_name:laps_result_tuple': <neptune.attributes.atoms.file.File object at 0x00000282BE11D1F0>, 'subplot_name:ripple_result_tuple': <neptune.attributes.atoms.file.File object at 0x00000282BE11D0D0>}, 'display_fn_name:plot_quantile_diffs': {'subplot_name:BestDir': <neptune.attributes.atoms.file.File object at 0x00000282BE11DD60>}, 'display_fn_name:plot_rank_order_epoch_inst_fr_result_tuples': {'subplot_name:Lap': {'subplotsubplot_name:raw': <neptune.attributes.atoms.file.File object at 0x00000282BE11D8B0>, 'subplotsubplot_name:z_score_diff': <neptune.attributes.atoms.file.File object at 0x00000282BE11DD00>}, 'subplot_name:Ripple': {'subplotsubplot_name:raw': <neptune.attributes.atoms.file.File object at 0x00000282BE11DF40>, 'subplotsubplot_name:z_score_diff': <neptune.attributes.atoms.file.File object at 0x00000282BE11DD30>}}, 'display_fn_name:plot_rank_order_histograms': {'subplot_name:Ripple Most-likely Spearman Rho': <neptune.attributes.atoms.file.File object at 0x00000282BE119130>, 'subplot_name:Ripple Most-likely Z-scores': <neptune.attributes.atoms.file.File object at 0x00000282BE119190>, 'subplot_name:Ripple Z-scores': <neptune.attributes.atoms.file.File object at 0x00000282BE119250>, 'subplot_name:Ripple real correlations': <neptune.attributes.atoms.file.File object at 0x00000282BE1192B0>}, 'display_fn_name:running_and_replay_speeds_over_time': <neptune.attributes.atoms.file.File object at 0x00000282BE119310>, 'filter_name:maze1_any': {'lap_dir:any': {'display_fn_name:1d_placefields': <neptune.attributes.atoms.file.File object at 0x00000282BE119370>, 'display_fn_name:_display_1d_placefield_validations': <neptune.attributes.atoms.file.File object at 0x00000282BE1193D0>, 'display_fn_name:_display_2d_placefield_result_plot_ratemaps_2D': <neptune.attributes.atoms.file.File object at 0x00000282BE1194F0>, 'display_fn_name:plot_occupancy': {'plot_variable:OCCUPANCY': <neptune.attributes.atoms.file.File object at 0x00000282BE119550>}, 'display_fn_name:plot_single_track_firing_rate_compare': <neptune.attributes.atoms.file.File object at 0x00000282BE1196A0>}}, 'filter_name:maze1_even': {'lap_dir:even': {'display_fn_name:1d_placefields': <neptune.attributes.atoms.file.File object at 0x00000282BE1195E0>, 'display_fn_name:_display_1d_placefield_validations': <neptune.attributes.atoms.file.File object at 0x00000282BE119700>, 'display_fn_name:_display_2d_placefield_result_plot_ratemaps_2D': <neptune.attributes.atoms.file.File object at 0x00000282BE119820>, 'display_fn_name:plot_occupancy': {'plot_variable:OCCUPANCY': <neptune.attributes.atoms.file.File object at 0x00000282BE119880>}}}, 'filter_name:maze1_odd': {'lap_dir:odd': {'display_fn_name:1d_placefields': <neptune.attributes.atoms.file.File object at 0x00000282BE1199D0>, 'display_fn_name:_display_1d_placefield_validations': <neptune.attributes.atoms.file.File object at 0x00000282BE119910>, 'display_fn_name:_display_2d_placefield_result_plot_ratemaps_2D': <neptune.attributes.atoms.file.File object at 0x00000282BE119AF0>, 'display_fn_name:plot_occupancy': {'plot_variable:OCCUPANCY': <neptune.attributes.atoms.file.File object at 0x00000282BE119B50>}}}, 'filter_name:maze2_any': {'lap_dir:any': {'display_fn_name:1d_placefields': <neptune.attributes.atoms.file.File object at 0x00000282BE119CA0>, 'display_fn_name:_display_1d_placefield_validations': <neptune.attributes.atoms.file.File object at 0x00000282BE119BE0>, 'display_fn_name:_display_2d_placefield_result_plot_ratemaps_2D': <neptune.attributes.atoms.file.File object at 0x00000282BE119DC0>, 'display_fn_name:plot_occupancy': {'plot_variable:OCCUPANCY': <neptune.attributes.atoms.file.File object at 0x00000282BE119E20>}, 'display_fn_name:plot_single_track_firing_rate_compare': <neptune.attributes.atoms.file.File object at 0x00000282BE119F70>}}, 'filter_name:maze2_even': {'lap_dir:even': {'display_fn_name:1d_placefields': <neptune.attributes.atoms.file.File object at 0x00000282BE119EB0>, 'display_fn_name:_display_1d_placefield_validations': <neptune.attributes.atoms.file.File object at 0x00000282BE119FD0>, 'display_fn_name:_display_2d_placefield_result_plot_ratemaps_2D': <neptune.attributes.atoms.file.File object at 0x00000282BD6237F0>, 'display_fn_name:plot_occupancy': {'plot_variable:OCCUPANCY': <neptune.attributes.atoms.file.File object at 0x00000282BD623850>}}}, 'filter_name:maze2_odd': {'lap_dir:odd': {'display_fn_name:1d_placefields': <neptune.attributes.atoms.file.File object at 0x00000282BD6239A0>, 'display_fn_name:_display_1d_placefield_validations': <neptune.attributes.atoms.file.File object at 0x00000282BD6238E0>, 'display_fn_name:_display_2d_placefield_result_plot_ratemaps_2D': <neptune.attributes.atoms.file.File object at 0x00000282BD623AC0>, 'display_fn_name:plot_occupancy': {'plot_variable:OCCUPANCY': <neptune.attributes.atoms.file.File object at 0x00000282BD623B20>}}}, 'filter_name:maze_any': {'lap_dir:any': {'display_fn_name:1d_placefields': <neptune.attributes.atoms.file.File object at 0x00000282BD623C70>, 'display_fn_name:_display_1d_placefield_validations': <neptune.attributes.atoms.file.File object at 0x00000282BD623BB0>, 'display_fn_name:_display_2d_placefield_result_plot_ratemaps_2D': <neptune.attributes.atoms.file.File object at 0x00000282BD623D90>, 'display_fn_name:plot_occupancy': {'plot_variable:OCCUPANCY': <neptune.attributes.atoms.file.File object at 0x00000282BD623DF0>}}}, 'filter_name:maze_even': {'lap_dir:even': {'display_fn_name:1d_placefields': <neptune.attributes.atoms.file.File object at 0x00000282BD623F40>, 'display_fn_name:_display_1d_placefield_validations': <neptune.attributes.atoms.file.File object at 0x00000282BD623E80>, 'display_fn_name:_display_2d_placefield_result_plot_ratemaps_2D': <neptune.attributes.atoms.file.File object at 0x00000282BE1180A0>, 'display_fn_name:plot_occupancy': {'plot_variable:OCCUPANCY': <neptune.attributes.atoms.file.File object at 0x00000282BE118100>}}}, 'filter_name:maze_odd': {'lap_dir:odd': {'display_fn_name:1d_placefields': <neptune.attributes.atoms.file.File object at 0x00000282BE118250>, 'display_fn_name:_display_1d_placefield_validations': <neptune.attributes.atoms.file.File object at 0x00000282BE118190>, 'display_fn_name:_display_2d_placefield_result_plot_ratemaps_2D': <neptune.attributes.atoms.file.File object at 0x00000282BE118370>, 'display_fn_name:plot_occupancy': {'plot_variable:OCCUPANCY': <neptune.attributes.atoms.file.File object at 0x00000282BE1183D0>}}}, 'fn_name:long_short_firing_rate_indicies': {'display_fn_name:display_long_short_laps': <neptune.attributes.atoms.file.File object at 0x00000282BE118520>}}\n",
      "not a figure file! a dictionary instead probably: type(a_fig_file_field): <class 'dict'>\n",
      "sub_fig_full_input_key: \"display_fn_name:BatchPhoJonathanReplayFRC/plot_result_set:long_only/aclus:(6,12,17,28,32,37)\"\n",
      "a_fig_output_path: \"C:\\Users\\pho\\repos\\Spike3DWorkEnv\\Spike3D\\data\\neptune\\commander.pho\\PhoDibaLongShortUpdated\\figs\\vvp01_one_2006-4-09_17-29-30\\BatchPhoJonathanReplayFRC-long_only-(6,12,17,28,32,37).png\"\n",
      "\tdone.\n",
      "sub_fig_full_input_key: \"display_fn_name:BatchPhoJonathanReplayFRC/plot_result_set:long_only/aclus:(6,32,17,28,12,37)\"\n",
      "a_fig_output_path: \"C:\\Users\\pho\\repos\\Spike3DWorkEnv\\Spike3D\\data\\neptune\\commander.pho\\PhoDibaLongShortUpdated\\figs\\vvp01_one_2006-4-09_17-29-30\\BatchPhoJonathanReplayFRC-long_only-(6,32,17,28,12,37).png\"\n",
      "\tdone.\n",
      "sub_fig_full_input_key: \"display_fn_name:BatchPhoJonathanReplayFRC/plot_result_set:shared/page:1of2/aclus:(43,22,4,23,13,20,3,39,10,26,9,38,27,8,33,34,19,29,7,14)\"\n",
      "a_fig_output_path: \"C:\\Users\\pho\\repos\\Spike3DWorkEnv\\Spike3D\\data\\neptune\\commander.pho\\PhoDibaLongShortUpdated\\figs\\vvp01_one_2006-4-09_17-29-30\\BatchPhoJonathanReplayFRC-shared-1of2-(43,22,4,23,13,20,3,39,10,26,9,38,27,8,33,34,19,29,7,14).png\"\n"
     ]
    },
    {
     "data": {
      "application/vnd.jupyter.widget-view+json": {
       "model_id": "41fd80208eed41fe982e9c2160334ebc",
       "version_major": 2,
       "version_minor": 0
      },
      "text/plain": [
       "Fetching file...: 0 [00:00, ?/s]"
      ]
     },
     "metadata": {},
     "output_type": "display_data"
    },
    {
     "name": "stdout",
     "output_type": "stream",
     "text": [
      "\tdone.\n",
      "sub_fig_full_input_key: \"display_fn_name:BatchPhoJonathanReplayFRC/plot_result_set:shared/page:1of4/aclus:(2,3,4,5,7,8,9,10,11,13)\"\n",
      "a_fig_output_path: \"C:\\Users\\pho\\repos\\Spike3DWorkEnv\\Spike3D\\data\\neptune\\commander.pho\\PhoDibaLongShortUpdated\\figs\\vvp01_one_2006-4-09_17-29-30\\BatchPhoJonathanReplayFRC-shared-1of4-(2,3,4,5,7,8,9,10,11,13).png\"\n"
     ]
    },
    {
     "data": {
      "application/vnd.jupyter.widget-view+json": {
       "model_id": "b33e14d231a9470fab3ed2af0506c09c",
       "version_major": 2,
       "version_minor": 0
      },
      "text/plain": [
       "Fetching file...: 0 [00:00, ?/s]"
      ]
     },
     "metadata": {},
     "output_type": "display_data"
    },
    {
     "name": "stdout",
     "output_type": "stream",
     "text": [
      "\tdone.\n",
      "sub_fig_full_input_key: \"display_fn_name:BatchPhoJonathanReplayFRC/plot_result_set:shared/page:2of2/aclus:(42,2,5,11,15,16,18,24,35,36,40,44,45)\"\n",
      "a_fig_output_path: \"C:\\Users\\pho\\repos\\Spike3DWorkEnv\\Spike3D\\data\\neptune\\commander.pho\\PhoDibaLongShortUpdated\\figs\\vvp01_one_2006-4-09_17-29-30\\BatchPhoJonathanReplayFRC-shared-2of2-(42,2,5,11,15,16,18,24,35,36,40,44,45).png\"\n"
     ]
    },
    {
     "data": {
      "application/vnd.jupyter.widget-view+json": {
       "model_id": "fca95c80e25f4a5cb50851d1710dc830",
       "version_major": 2,
       "version_minor": 0
      },
      "text/plain": [
       "Fetching file...: 0 [00:00, ?/s]"
      ]
     },
     "metadata": {},
     "output_type": "display_data"
    },
    {
     "name": "stdout",
     "output_type": "stream",
     "text": [
      "\tdone.\n",
      "sub_fig_full_input_key: \"display_fn_name:BatchPhoJonathanReplayFRC/plot_result_set:shared/page:2of4/aclus:(14,15,16,18,19,20,22,23,24,26)\"\n",
      "a_fig_output_path: \"C:\\Users\\pho\\repos\\Spike3DWorkEnv\\Spike3D\\data\\neptune\\commander.pho\\PhoDibaLongShortUpdated\\figs\\vvp01_one_2006-4-09_17-29-30\\BatchPhoJonathanReplayFRC-shared-2of4-(14,15,16,18,19,20,22,23,24,26).png\"\n"
     ]
    },
    {
     "data": {
      "application/vnd.jupyter.widget-view+json": {
       "model_id": "04c03621fa1d4575bfe360cf837991c6",
       "version_major": 2,
       "version_minor": 0
      },
      "text/plain": [
       "Fetching file...: 0 [00:00, ?/s]"
      ]
     },
     "metadata": {},
     "output_type": "display_data"
    },
    {
     "name": "stdout",
     "output_type": "stream",
     "text": [
      "\tdone.\n",
      "sub_fig_full_input_key: \"display_fn_name:BatchPhoJonathanReplayFRC/plot_result_set:shared/page:3of4/aclus:(27,29,33,34,35,36,38,39,40,42)\"\n",
      "a_fig_output_path: \"C:\\Users\\pho\\repos\\Spike3DWorkEnv\\Spike3D\\data\\neptune\\commander.pho\\PhoDibaLongShortUpdated\\figs\\vvp01_one_2006-4-09_17-29-30\\BatchPhoJonathanReplayFRC-shared-3of4-(27,29,33,34,35,36,38,39,40,42).png\"\n",
      "\tdone.\n",
      "sub_fig_full_input_key: \"display_fn_name:BatchPhoJonathanReplayFRC/plot_result_set:shared/page:4of4/aclus:(43,44,45)\"\n",
      "a_fig_output_path: \"C:\\Users\\pho\\repos\\Spike3DWorkEnv\\Spike3D\\data\\neptune\\commander.pho\\PhoDibaLongShortUpdated\\figs\\vvp01_one_2006-4-09_17-29-30\\BatchPhoJonathanReplayFRC-shared-4of4-(43,44,45).png\"\n",
      "\tdone.\n",
      "sub_fig_full_input_key: \"display_fn_name:BatchPhoJonathanReplayFRC/plot_result_set:short_only/aclus:(21,25,30,31,41)\"\n",
      "a_fig_output_path: \"C:\\Users\\pho\\repos\\Spike3DWorkEnv\\Spike3D\\data\\neptune\\commander.pho\\PhoDibaLongShortUpdated\\figs\\vvp01_one_2006-4-09_17-29-30\\BatchPhoJonathanReplayFRC-short_only-(21,25,30,31,41).png\"\n",
      "\tdone.\n",
      "a_parsed_structure: {'display_fn_name:BatchPhoJonathanReplayFRC': {'plot_result_set:long_only': {'aclus:(6,12,17,28,32,37)': <neptune.attributes.atoms.file.File object at 0x00000282BD4C78B0>, 'aclus:(6,32,17,28,12,37)': <neptune.attributes.atoms.file.File object at 0x00000282BD4C7790>}, 'plot_result_set:shared': {'page:1of2': {'aclus:(43,22,4,23,13,20,3,39,10,26,9,38,27,8,33,34,19,29,7,14)': <neptune.attributes.atoms.file.File object at 0x00000282BD4DCB20>}, 'page:1of4': {'aclus:(2,3,4,5,7,8,9,10,11,13)': <neptune.attributes.atoms.file.File object at 0x00000282BD4DCCD0>}, 'page:2of2': {'aclus:(42,2,5,11,15,16,18,24,35,36,40,44,45)': <neptune.attributes.atoms.file.File object at 0x00000282BD4DCDC0>}, 'page:2of4': {'aclus:(14,15,16,18,19,20,22,23,24,26)': <neptune.attributes.atoms.file.File object at 0x00000282BD4DCEB0>}, 'page:3of4': {'aclus:(27,29,33,34,35,36,38,39,40,42)': <neptune.attributes.atoms.file.File object at 0x00000282BD4DCFA0>}, 'page:4of4': {'aclus:(43,44,45)': <neptune.attributes.atoms.file.File object at 0x00000282BD4DCFD0>}}, 'plot_result_set:short_only': {'aclus:(21,25,30,31,41)': <neptune.attributes.atoms.file.File object at 0x00000282BD4B71C0>}}, 'display_fn_name:_display_grid_bin_bounds_validation': <neptune.attributes.atoms.file.File object at 0x00000282BD4B7100>, 'display_fn_name:bidir_track_remap': {'subplot_name:Track Remapping': <neptune.attributes.atoms.file.File object at 0x00000282BD4B7280>}, 'display_fn_name:display_long_short_laps': <neptune.attributes.atoms.file.File object at 0x00000282BD4B72E0>, 'display_fn_name:display_short_long_pf1D_comparison': {'track:long': <neptune.attributes.atoms.file.File object at 0x00000282BD4B73A0>, 'track:short': <neptune.attributes.atoms.file.File object at 0x00000282BD4B7400>}, 'display_fn_name:plot_all_epoch_bins_marginal_predictions': {'subplot_name:Laps all_epoch_binned Marginals': <neptune.attributes.atoms.file.File object at 0x00000282BD4B74C0>, 'subplot_name:Ripple all_epoch_binned Marginals': <neptune.attributes.atoms.file.File object at 0x00000282BD4B7520>}, 'display_fn_name:plot_expected_vs_observed': {'x_variable:epoch_idx': {'variable:obs_exp_diff_ptp': <neptune.attributes.atoms.file.File object at 0x00000282BD4B75E0>}}, 'display_fn_name:plot_histograms': {'subplot_name:laps_result_tuple': <neptune.attributes.atoms.file.File object at 0x00000282BD4B7640>, 'subplot_name:ripple_result_tuple': <neptune.attributes.atoms.file.File object at 0x00000282BD4B7760>}, 'display_fn_name:plot_quantile_diffs': {'subplot_name:BestDir': <neptune.attributes.atoms.file.File object at 0x00000282BD4B7820>}, 'display_fn_name:plot_rank_order_epoch_inst_fr_result_tuples': {'subplot_name:Lap': {'subplotsubplot_name:raw': <neptune.attributes.atoms.file.File object at 0x00000282BD4B7880>, 'subplotsubplot_name:z_score_diff': <neptune.attributes.atoms.file.File object at 0x00000282BD4B7940>}, 'subplot_name:Ripple': {'subplotsubplot_name:raw': <neptune.attributes.atoms.file.File object at 0x00000282BD4B7A60>, 'subplotsubplot_name:z_score_diff': <neptune.attributes.atoms.file.File object at 0x00000282BD4B7AC0>}}, 'display_fn_name:plot_rank_order_histograms': {'subplot_name:Ripple Most-likely Spearman Rho': <neptune.attributes.atoms.file.File object at 0x00000282BD4B7B80>, 'subplot_name:Ripple Most-likely Z-scores': <neptune.attributes.atoms.file.File object at 0x00000282BD4B7BE0>, 'subplot_name:Ripple Z-scores': <neptune.attributes.atoms.file.File object at 0x00000282BD4B7CA0>, 'subplot_name:Ripple real correlations': <neptune.attributes.atoms.file.File object at 0x00000282BD4B7D00>}, 'display_fn_name:running_and_replay_speeds_over_time': <neptune.attributes.atoms.file.File object at 0x00000282BD4B7D60>, 'filter_name:maze1_any': {'lap_dir:any': {'display_fn_name:1d_placefields': <neptune.attributes.atoms.file.File object at 0x00000282BD4B7DC0>, 'display_fn_name:_display_1d_placefield_validations': <neptune.attributes.atoms.file.File object at 0x00000282BD4B7E20>, 'display_fn_name:_display_2d_placefield_result_plot_ratemaps_2D': <neptune.attributes.atoms.file.File object at 0x00000282BD4B7F40>, 'display_fn_name:plot_occupancy': {'plot_variable:OCCUPANCY': <neptune.attributes.atoms.file.File object at 0x00000282BD4B7FA0>}, 'display_fn_name:plot_single_track_firing_rate_compare': <neptune.attributes.atoms.file.File object at 0x00000282BD4C0130>}}, 'filter_name:maze1_even': {'lap_dir:even': {'display_fn_name:1d_placefields': <neptune.attributes.atoms.file.File object at 0x00000282BD4C0070>, 'display_fn_name:_display_1d_placefield_validations': <neptune.attributes.atoms.file.File object at 0x00000282BD4C0190>, 'display_fn_name:_display_2d_placefield_result_plot_ratemaps_2D': <neptune.attributes.atoms.file.File object at 0x00000282BD4C02B0>, 'display_fn_name:plot_occupancy': {'plot_variable:OCCUPANCY': <neptune.attributes.atoms.file.File object at 0x00000282BD4C0310>}}}, 'filter_name:maze1_odd': {'lap_dir:odd': {'display_fn_name:1d_placefields': <neptune.attributes.atoms.file.File object at 0x00000282BD4C0460>, 'display_fn_name:_display_1d_placefield_validations': <neptune.attributes.atoms.file.File object at 0x00000282BD4C03A0>, 'display_fn_name:_display_2d_placefield_result_plot_ratemaps_2D': <neptune.attributes.atoms.file.File object at 0x00000282BD4C0580>, 'display_fn_name:plot_occupancy': {'plot_variable:OCCUPANCY': <neptune.attributes.atoms.file.File object at 0x00000282BD4C05E0>}}}, 'filter_name:maze2_any': {'lap_dir:any': {'display_fn_name:1d_placefields': <neptune.attributes.atoms.file.File object at 0x00000282BD4C0730>, 'display_fn_name:_display_1d_placefield_validations': <neptune.attributes.atoms.file.File object at 0x00000282BD4C0670>, 'display_fn_name:_display_2d_placefield_result_plot_ratemaps_2D': <neptune.attributes.atoms.file.File object at 0x00000282BD4C0850>, 'display_fn_name:plot_occupancy': {'plot_variable:OCCUPANCY': <neptune.attributes.atoms.file.File object at 0x00000282BD4C08B0>}, 'display_fn_name:plot_single_track_firing_rate_compare': <neptune.attributes.atoms.file.File object at 0x00000282BD4C0A00>}}, 'filter_name:maze2_even': {'lap_dir:even': {'display_fn_name:1d_placefields': <neptune.attributes.atoms.file.File object at 0x00000282BD4C0940>, 'display_fn_name:_display_1d_placefield_validations': <neptune.attributes.atoms.file.File object at 0x00000282BD4C0A60>, 'display_fn_name:_display_2d_placefield_result_plot_ratemaps_2D': <neptune.attributes.atoms.file.File object at 0x00000282BD4C0B80>, 'display_fn_name:plot_occupancy': {'plot_variable:OCCUPANCY': <neptune.attributes.atoms.file.File object at 0x00000282BD4C0BE0>}}}, 'filter_name:maze2_odd': {'lap_dir:odd': {'display_fn_name:1d_placefields': <neptune.attributes.atoms.file.File object at 0x00000282BD4C0D30>, 'display_fn_name:_display_1d_placefield_validations': <neptune.attributes.atoms.file.File object at 0x00000282BD4C0C70>, 'display_fn_name:_display_2d_placefield_result_plot_ratemaps_2D': <neptune.attributes.atoms.file.File object at 0x00000282BD4C0E50>, 'display_fn_name:plot_occupancy': {'plot_variable:OCCUPANCY': <neptune.attributes.atoms.file.File object at 0x00000282BD4C0EB0>}}}, 'filter_name:maze_any': {'lap_dir:any': {'display_fn_name:1d_placefields': <neptune.attributes.atoms.file.File object at 0x00000282BD4C0F40>, 'display_fn_name:_display_1d_placefield_validations': <neptune.attributes.atoms.file.File object at 0x00000282BD4C1040>, 'display_fn_name:_display_2d_placefield_result_plot_ratemaps_2D': <neptune.attributes.atoms.file.File object at 0x00000282BD4C1160>, 'display_fn_name:plot_occupancy': {'plot_variable:OCCUPANCY': <neptune.attributes.atoms.file.File object at 0x00000282BD4C11C0>}}}, 'filter_name:maze_even': {'lap_dir:even': {'display_fn_name:1d_placefields': <neptune.attributes.atoms.file.File object at 0x00000282BD4C1310>, 'display_fn_name:_display_1d_placefield_validations': <neptune.attributes.atoms.file.File object at 0x00000282BD4C1250>, 'display_fn_name:_display_2d_placefield_result_plot_ratemaps_2D': <neptune.attributes.atoms.file.File object at 0x00000282BD4C1430>, 'display_fn_name:plot_occupancy': {'plot_variable:OCCUPANCY': <neptune.attributes.atoms.file.File object at 0x00000282BD4C1490>}}}, 'filter_name:maze_odd': {'lap_dir:odd': {'display_fn_name:1d_placefields': <neptune.attributes.atoms.file.File object at 0x00000282BD4C15E0>, 'display_fn_name:_display_1d_placefield_validations': <neptune.attributes.atoms.file.File object at 0x00000282BD4C1520>, 'display_fn_name:_display_2d_placefield_result_plot_ratemaps_2D': <neptune.attributes.atoms.file.File object at 0x00000282BD4C1700>, 'display_fn_name:plot_occupancy': {'plot_variable:OCCUPANCY': <neptune.attributes.atoms.file.File object at 0x00000282BD4C1760>}}}, 'fn_name:long_short_firing_rate_indicies': {'display_fn_name:display_long_short_laps': <neptune.attributes.atoms.file.File object at 0x00000282BD4C18B0>}}\n",
      "not a figure file! a dictionary instead probably: type(a_fig_file_field): <class 'dict'>\n",
      "sub_fig_full_input_key: \"display_fn_name:BatchPhoJonathanReplayFRC/plot_result_set:long_only/aclus:(6,12,17,28,32,37)\"\n",
      "a_fig_output_path: \"C:\\Users\\pho\\repos\\Spike3DWorkEnv\\Spike3D\\data\\neptune\\commander.pho\\PhoDibaLongShortUpdated\\figs\\vvp01_one_2006-4-09_17-29-30\\BatchPhoJonathanReplayFRC-long_only-(6,12,17,28,32,37).png\"\n",
      "\tdone.\n",
      "sub_fig_full_input_key: \"display_fn_name:BatchPhoJonathanReplayFRC/plot_result_set:long_only/aclus:(6,32,17,28,12,37)\"\n",
      "a_fig_output_path: \"C:\\Users\\pho\\repos\\Spike3DWorkEnv\\Spike3D\\data\\neptune\\commander.pho\\PhoDibaLongShortUpdated\\figs\\vvp01_one_2006-4-09_17-29-30\\BatchPhoJonathanReplayFRC-long_only-(6,32,17,28,12,37).png\"\n",
      "\tdone.\n",
      "sub_fig_full_input_key: \"display_fn_name:BatchPhoJonathanReplayFRC/plot_result_set:shared/page:1of2/aclus:(43,22,4,23,13,20,3,39,10,26,9,38,27,8,33,34,19,29,7,14)\"\n",
      "a_fig_output_path: \"C:\\Users\\pho\\repos\\Spike3DWorkEnv\\Spike3D\\data\\neptune\\commander.pho\\PhoDibaLongShortUpdated\\figs\\vvp01_one_2006-4-09_17-29-30\\BatchPhoJonathanReplayFRC-shared-1of2-(43,22,4,23,13,20,3,39,10,26,9,38,27,8,33,34,19,29,7,14).png\"\n"
     ]
    },
    {
     "data": {
      "application/vnd.jupyter.widget-view+json": {
       "model_id": "fafda90dd4e44a5c88b772f91fb798ca",
       "version_major": 2,
       "version_minor": 0
      },
      "text/plain": [
       "Fetching file...: 0 [00:00, ?/s]"
      ]
     },
     "metadata": {},
     "output_type": "display_data"
    },
    {
     "name": "stdout",
     "output_type": "stream",
     "text": [
      "\tdone.\n",
      "sub_fig_full_input_key: \"display_fn_name:BatchPhoJonathanReplayFRC/plot_result_set:shared/page:1of4/aclus:(2,3,4,5,7,8,9,10,11,13)\"\n",
      "a_fig_output_path: \"C:\\Users\\pho\\repos\\Spike3DWorkEnv\\Spike3D\\data\\neptune\\commander.pho\\PhoDibaLongShortUpdated\\figs\\vvp01_one_2006-4-09_17-29-30\\BatchPhoJonathanReplayFRC-shared-1of4-(2,3,4,5,7,8,9,10,11,13).png\"\n",
      "\tdone.\n",
      "sub_fig_full_input_key: \"display_fn_name:BatchPhoJonathanReplayFRC/plot_result_set:shared/page:2of2/aclus:(42,2,5,11,15,16,18,24,35,36,40,44,45)\"\n",
      "a_fig_output_path: \"C:\\Users\\pho\\repos\\Spike3DWorkEnv\\Spike3D\\data\\neptune\\commander.pho\\PhoDibaLongShortUpdated\\figs\\vvp01_one_2006-4-09_17-29-30\\BatchPhoJonathanReplayFRC-shared-2of2-(42,2,5,11,15,16,18,24,35,36,40,44,45).png\"\n",
      "\tdone.\n",
      "sub_fig_full_input_key: \"display_fn_name:BatchPhoJonathanReplayFRC/plot_result_set:shared/page:2of4/aclus:(14,15,16,18,19,20,22,23,24,26)\"\n",
      "a_fig_output_path: \"C:\\Users\\pho\\repos\\Spike3DWorkEnv\\Spike3D\\data\\neptune\\commander.pho\\PhoDibaLongShortUpdated\\figs\\vvp01_one_2006-4-09_17-29-30\\BatchPhoJonathanReplayFRC-shared-2of4-(14,15,16,18,19,20,22,23,24,26).png\"\n",
      "\tdone.\n",
      "sub_fig_full_input_key: \"display_fn_name:BatchPhoJonathanReplayFRC/plot_result_set:shared/page:3of4/aclus:(27,29,33,34,35,36,38,39,40,42)\"\n",
      "a_fig_output_path: \"C:\\Users\\pho\\repos\\Spike3DWorkEnv\\Spike3D\\data\\neptune\\commander.pho\\PhoDibaLongShortUpdated\\figs\\vvp01_one_2006-4-09_17-29-30\\BatchPhoJonathanReplayFRC-shared-3of4-(27,29,33,34,35,36,38,39,40,42).png\"\n",
      "\tdone.\n",
      "sub_fig_full_input_key: \"display_fn_name:BatchPhoJonathanReplayFRC/plot_result_set:shared/page:4of4/aclus:(43,44,45)\"\n",
      "a_fig_output_path: \"C:\\Users\\pho\\repos\\Spike3DWorkEnv\\Spike3D\\data\\neptune\\commander.pho\\PhoDibaLongShortUpdated\\figs\\vvp01_one_2006-4-09_17-29-30\\BatchPhoJonathanReplayFRC-shared-4of4-(43,44,45).png\"\n",
      "\tdone.\n",
      "sub_fig_full_input_key: \"display_fn_name:BatchPhoJonathanReplayFRC/plot_result_set:short_only/aclus:(21,25,30,31,41)\"\n",
      "a_fig_output_path: \"C:\\Users\\pho\\repos\\Spike3DWorkEnv\\Spike3D\\data\\neptune\\commander.pho\\PhoDibaLongShortUpdated\\figs\\vvp01_one_2006-4-09_17-29-30\\BatchPhoJonathanReplayFRC-short_only-(21,25,30,31,41).png\"\n",
      "\tdone.\n",
      "a_parsed_structure: {'display_fn_name:BatchPhoJonathanReplayFRC': {'plot_result_set:long_only': {'aclus:(7,14,16,30,32,35,40)': <neptune.attributes.atoms.file.File object at 0x00000282BE108490>, 'aclus:(7,40,14,35,16,30,32)': <neptune.attributes.atoms.file.File object at 0x00000282BE108430>}, 'plot_result_set:shared': {'page:1of2': {'aclus:(37,29,5,25,15,6,34,33,43,28,19,20,17,12,41,10,31,27,36,42)': <neptune.attributes.atoms.file.File object at 0x00000282BE108580>}, 'page:1of4': {'aclus:(2,3,4,5,6,8,10,11,12,13)': <neptune.attributes.atoms.file.File object at 0x00000282BE108730>}, 'page:2of2': {'aclus:(11,8,18,39,24,26,3,2,4,13,21,22,23,38,44,45,46,47)': <neptune.attributes.atoms.file.File object at 0x00000282BE108820>}, 'page:2of4': {'aclus:(15,17,18,19,20,21,22,23,24,25)': <neptune.attributes.atoms.file.File object at 0x00000282BE108910>}, 'page:3of4': {'aclus:(26,27,28,29,31,33,34,36,37,38)': <neptune.attributes.atoms.file.File object at 0x00000282BE108A00>}, 'page:4of4': {'aclus:(39,41,42,43,44,45,46,47)': <neptune.attributes.atoms.file.File object at 0x00000282BE108AF0>}}, 'plot_result_set:short_only': {'aclus:(9)': <neptune.attributes.atoms.file.File object at 0x00000282BE108BE0>}}, 'display_fn_name:_display_grid_bin_bounds_validation': <neptune.attributes.atoms.file.File object at 0x00000282BE108B20>, 'display_fn_name:bidir_track_remap': {'subplot_name:Track Remapping': <neptune.attributes.atoms.file.File object at 0x00000282BE108CA0>}, 'display_fn_name:directional_merged_pf_decoded_epochs': {'decoded_epochs:Laps': {'Marginal:Direction': {'t_bin:0.25': <neptune.attributes.atoms.file.File object at 0x00000282BE108D00>}, 'Marginal:TrackID': {'t_bin:0.25': <neptune.attributes.atoms.file.File object at 0x00000282BE108F70>}}, 'decoded_epochs:Ripple': {'Marginal:Direction': {'t_bin:0.025': <neptune.attributes.atoms.file.File object at 0x00000282BE108FA0>}, 'Marginal:TrackID': {'t_bin:0.025': <neptune.attributes.atoms.file.File object at 0x00000282BD6421F0>}}}, 'display_fn_name:display_long_short_laps': <neptune.attributes.atoms.file.File object at 0x00000282BD6422E0>, 'display_fn_name:display_short_long_pf1D_comparison': {'track:long': <neptune.attributes.atoms.file.File object at 0x00000282BD642220>, 'track:short': <neptune.attributes.atoms.file.File object at 0x00000282BD642340>}, 'display_fn_name:plot_all_epoch_bins_marginal_predictions': {'subplot_name:Laps all_epoch_binned Marginals': <neptune.attributes.atoms.file.File object at 0x00000282BD642400>, 'subplot_name:Ripple all_epoch_binned Marginals': <neptune.attributes.atoms.file.File object at 0x00000282BD642460>}, 'display_fn_name:plot_expected_vs_observed': {'x_variable:epoch_idx': {'variable:obs_exp_diff_ptp': <neptune.attributes.atoms.file.File object at 0x00000282BD642520>}}, 'display_fn_name:plot_histograms': {'subplot_name:laps_result_tuple': <neptune.attributes.atoms.file.File object at 0x00000282BD642580>, 'subplot_name:ripple_result_tuple': <neptune.attributes.atoms.file.File object at 0x00000282BD6426A0>}, 'display_fn_name:plot_quantile_diffs': {'subplot_name:BestDir': <neptune.attributes.atoms.file.File object at 0x00000282BD642760>}, 'display_fn_name:plot_rank_order_epoch_inst_fr_result_tuples': {'subplot_name:Lap': {'subplotsubplot_name:raw': <neptune.attributes.atoms.file.File object at 0x00000282BD642850>, 'subplotsubplot_name:z_score_diff': <neptune.attributes.atoms.file.File object at 0x00000282BD642880>}, 'subplot_name:Ripple': {'subplotsubplot_name:raw': <neptune.attributes.atoms.file.File object at 0x00000282BD6429A0>, 'subplotsubplot_name:z_score_diff': <neptune.attributes.atoms.file.File object at 0x00000282BD642A00>}}, 'display_fn_name:plot_rank_order_histograms': {'subplot_name:Ripple Most-likely Spearman Rho': <neptune.attributes.atoms.file.File object at 0x00000282BD642A30>, 'subplot_name:Ripple Most-likely Z-scores': <neptune.attributes.atoms.file.File object at 0x00000282BD642B20>, 'subplot_name:Ripple Z-scores': <neptune.attributes.atoms.file.File object at 0x00000282BD642C70>, 'subplot_name:Ripple real correlations': <neptune.attributes.atoms.file.File object at 0x00000282BD642C10>}, 'display_fn_name:running_and_replay_speeds_over_time': <neptune.attributes.atoms.file.File object at 0x00000282BD642CA0>, 'filter_name:maze1_any': {'lap_dir:any': {'display_fn_name:1d_placefields': <neptune.attributes.atoms.file.File object at 0x00000282BD642D00>, 'display_fn_name:_display_1d_placefield_validations': <neptune.attributes.atoms.file.File object at 0x00000282BD642D60>, 'display_fn_name:_display_2d_placefield_result_plot_ratemaps_2D': <neptune.attributes.atoms.file.File object at 0x00000282BD6230A0>, 'display_fn_name:plot_occupancy': {'plot_variable:OCCUPANCY': <neptune.attributes.atoms.file.File object at 0x00000282BD623730>}, 'display_fn_name:plot_single_track_firing_rate_compare': <neptune.attributes.atoms.file.File object at 0x00000282BD6231C0>}}, 'filter_name:maze1_even': {'lap_dir:even': {'display_fn_name:1d_placefields': <neptune.attributes.atoms.file.File object at 0x00000282BD6232B0>, 'display_fn_name:_display_1d_placefield_validations': <neptune.attributes.atoms.file.File object at 0x00000282BD623130>, 'display_fn_name:_display_2d_placefield_result_plot_ratemaps_2D': <neptune.attributes.atoms.file.File object at 0x00000282BE106AF0>, 'display_fn_name:plot_occupancy': {'plot_variable:OCCUPANCY': <neptune.attributes.atoms.file.File object at 0x00000282BE106B80>}}}, 'filter_name:maze1_odd': {'lap_dir:odd': {'display_fn_name:1d_placefields': <neptune.attributes.atoms.file.File object at 0x00000282BE106D90>, 'display_fn_name:_display_1d_placefield_validations': <neptune.attributes.atoms.file.File object at 0x00000282BE106C10>, 'display_fn_name:_display_2d_placefield_result_plot_ratemaps_2D': <neptune.attributes.atoms.file.File object at 0x00000282BE106EB0>, 'display_fn_name:plot_occupancy': {'plot_variable:OCCUPANCY': <neptune.attributes.atoms.file.File object at 0x00000282BE106CD0>}}}, 'filter_name:maze2_any': {'lap_dir:any': {'display_fn_name:1d_placefields': <neptune.attributes.atoms.file.File object at 0x00000282BE1067C0>, 'display_fn_name:_display_1d_placefield_validations': <neptune.attributes.atoms.file.File object at 0x00000282BE106B20>, 'display_fn_name:_display_2d_placefield_result_plot_ratemaps_2D': <neptune.attributes.atoms.file.File object at 0x00000282BE1069A0>, 'display_fn_name:plot_occupancy': {'plot_variable:OCCUPANCY': <neptune.attributes.atoms.file.File object at 0x00000282BE106A00>}, 'display_fn_name:plot_single_track_firing_rate_compare': <neptune.attributes.atoms.file.File object at 0x00000282BE106910>}}, 'filter_name:maze2_even': {'lap_dir:even': {'display_fn_name:1d_placefields': <neptune.attributes.atoms.file.File object at 0x00000282BE106A90>, 'display_fn_name:_display_1d_placefield_validations': <neptune.attributes.atoms.file.File object at 0x00000282BE106F70>, 'display_fn_name:_display_2d_placefield_result_plot_ratemaps_2D': <neptune.attributes.atoms.file.File object at 0x00000282BD643E80>, 'display_fn_name:plot_occupancy': {'plot_variable:OCCUPANCY': <neptune.attributes.atoms.file.File object at 0x00000282BD643EE0>}}}, 'filter_name:maze2_odd': {'lap_dir:odd': {'display_fn_name:1d_placefields': <neptune.attributes.atoms.file.File object at 0x00000282BD643F70>, 'display_fn_name:_display_1d_placefield_validations': <neptune.attributes.atoms.file.File object at 0x00000282BD63A070>, 'display_fn_name:_display_2d_placefield_result_plot_ratemaps_2D': <neptune.attributes.atoms.file.File object at 0x00000282BD63A190>, 'display_fn_name:plot_occupancy': {'plot_variable:OCCUPANCY': <neptune.attributes.atoms.file.File object at 0x00000282BD63A1F0>}}}, 'filter_name:maze_any': {'lap_dir:any': {'display_fn_name:1d_placefields': <neptune.attributes.atoms.file.File object at 0x00000282BD63A340>, 'display_fn_name:_display_1d_placefield_validations': <neptune.attributes.atoms.file.File object at 0x00000282BD63A280>, 'display_fn_name:_display_2d_placefield_result_plot_ratemaps_2D': <neptune.attributes.atoms.file.File object at 0x00000282BD63A460>, 'display_fn_name:plot_occupancy': {'plot_variable:OCCUPANCY': <neptune.attributes.atoms.file.File object at 0x00000282BD63A4C0>}}}, 'filter_name:maze_even': {'lap_dir:even': {'display_fn_name:1d_placefields': <neptune.attributes.atoms.file.File object at 0x00000282BD63A610>, 'display_fn_name:_display_1d_placefield_validations': <neptune.attributes.atoms.file.File object at 0x00000282BD63A550>, 'display_fn_name:_display_2d_placefield_result_plot_ratemaps_2D': <neptune.attributes.atoms.file.File object at 0x00000282BD63A730>, 'display_fn_name:plot_occupancy': {'plot_variable:OCCUPANCY': <neptune.attributes.atoms.file.File object at 0x00000282BD63A790>}}}, 'filter_name:maze_odd': {'lap_dir:odd': {'display_fn_name:1d_placefields': <neptune.attributes.atoms.file.File object at 0x00000282BD63A8E0>, 'display_fn_name:_display_1d_placefield_validations': <neptune.attributes.atoms.file.File object at 0x00000282BD63A820>, 'display_fn_name:_display_2d_placefield_result_plot_ratemaps_2D': <neptune.attributes.atoms.file.File object at 0x00000282BD63AA00>, 'display_fn_name:plot_occupancy': {'plot_variable:OCCUPANCY': <neptune.attributes.atoms.file.File object at 0x00000282BD63AA60>}}}, 'fn_name:long_short_firing_rate_indicies': {'display_fn_name:display_long_short_laps': <neptune.attributes.atoms.file.File object at 0x00000282BD63ABB0>}}\n",
      "not a figure file! a dictionary instead probably: type(a_fig_file_field): <class 'dict'>\n",
      "sub_fig_full_input_key: \"display_fn_name:BatchPhoJonathanReplayFRC/plot_result_set:long_only/aclus:(7,14,16,30,32,35,40)\"\n",
      "a_fig_output_path: \"C:\\Users\\pho\\repos\\Spike3DWorkEnv\\Spike3D\\data\\neptune\\commander.pho\\PhoDibaLongShortUpdated\\figs\\vvp01_two_2006-4-10_12-58-3\\BatchPhoJonathanReplayFRC-long_only-(7,14,16,30,32,35,40).png\"\n",
      "\tdone.\n",
      "sub_fig_full_input_key: \"display_fn_name:BatchPhoJonathanReplayFRC/plot_result_set:long_only/aclus:(7,40,14,35,16,30,32)\"\n",
      "a_fig_output_path: \"C:\\Users\\pho\\repos\\Spike3DWorkEnv\\Spike3D\\data\\neptune\\commander.pho\\PhoDibaLongShortUpdated\\figs\\vvp01_two_2006-4-10_12-58-3\\BatchPhoJonathanReplayFRC-long_only-(7,40,14,35,16,30,32).png\"\n",
      "\tdone.\n",
      "sub_fig_full_input_key: \"display_fn_name:BatchPhoJonathanReplayFRC/plot_result_set:shared/page:1of2/aclus:(37,29,5,25,15,6,34,33,43,28,19,20,17,12,41,10,31,27,36,42)\"\n",
      "a_fig_output_path: \"C:\\Users\\pho\\repos\\Spike3DWorkEnv\\Spike3D\\data\\neptune\\commander.pho\\PhoDibaLongShortUpdated\\figs\\vvp01_two_2006-4-10_12-58-3\\BatchPhoJonathanReplayFRC-shared-1of2-(37,29,5,25,15,6,34,33,43,28,19,20,17,12,41,10,31,27,36,42).png\"\n"
     ]
    },
    {
     "data": {
      "application/vnd.jupyter.widget-view+json": {
       "model_id": "d32ccae8524c494793b8dbee6f7e9610",
       "version_major": 2,
       "version_minor": 0
      },
      "text/plain": [
       "Fetching file...: 0 [00:00, ?/s]"
      ]
     },
     "metadata": {},
     "output_type": "display_data"
    },
    {
     "name": "stdout",
     "output_type": "stream",
     "text": [
      "\tdone.\n",
      "sub_fig_full_input_key: \"display_fn_name:BatchPhoJonathanReplayFRC/plot_result_set:shared/page:1of4/aclus:(2,3,4,5,6,8,10,11,12,13)\"\n",
      "a_fig_output_path: \"C:\\Users\\pho\\repos\\Spike3DWorkEnv\\Spike3D\\data\\neptune\\commander.pho\\PhoDibaLongShortUpdated\\figs\\vvp01_two_2006-4-10_12-58-3\\BatchPhoJonathanReplayFRC-shared-1of4-(2,3,4,5,6,8,10,11,12,13).png\"\n",
      "\tdone.\n",
      "sub_fig_full_input_key: \"display_fn_name:BatchPhoJonathanReplayFRC/plot_result_set:shared/page:2of2/aclus:(11,8,18,39,24,26,3,2,4,13,21,22,23,38,44,45,46,47)\"\n",
      "a_fig_output_path: \"C:\\Users\\pho\\repos\\Spike3DWorkEnv\\Spike3D\\data\\neptune\\commander.pho\\PhoDibaLongShortUpdated\\figs\\vvp01_two_2006-4-10_12-58-3\\BatchPhoJonathanReplayFRC-shared-2of2-(11,8,18,39,24,26,3,2,4,13,21,22,23,38,44,45,46,47).png\"\n"
     ]
    },
    {
     "data": {
      "application/vnd.jupyter.widget-view+json": {
       "model_id": "b0896eaf75144d6aacda0102cf05ebc1",
       "version_major": 2,
       "version_minor": 0
      },
      "text/plain": [
       "Fetching file...: 0 [00:00, ?/s]"
      ]
     },
     "metadata": {},
     "output_type": "display_data"
    },
    {
     "name": "stdout",
     "output_type": "stream",
     "text": [
      "\tdone.\n",
      "sub_fig_full_input_key: \"display_fn_name:BatchPhoJonathanReplayFRC/plot_result_set:shared/page:2of4/aclus:(15,17,18,19,20,21,22,23,24,25)\"\n",
      "a_fig_output_path: \"C:\\Users\\pho\\repos\\Spike3DWorkEnv\\Spike3D\\data\\neptune\\commander.pho\\PhoDibaLongShortUpdated\\figs\\vvp01_two_2006-4-10_12-58-3\\BatchPhoJonathanReplayFRC-shared-2of4-(15,17,18,19,20,21,22,23,24,25).png\"\n",
      "\tdone.\n",
      "sub_fig_full_input_key: \"display_fn_name:BatchPhoJonathanReplayFRC/plot_result_set:shared/page:3of4/aclus:(26,27,28,29,31,33,34,36,37,38)\"\n",
      "a_fig_output_path: \"C:\\Users\\pho\\repos\\Spike3DWorkEnv\\Spike3D\\data\\neptune\\commander.pho\\PhoDibaLongShortUpdated\\figs\\vvp01_two_2006-4-10_12-58-3\\BatchPhoJonathanReplayFRC-shared-3of4-(26,27,28,29,31,33,34,36,37,38).png\"\n"
     ]
    },
    {
     "data": {
      "application/vnd.jupyter.widget-view+json": {
       "model_id": "f8475820c01742e4aa4de12a477560ca",
       "version_major": 2,
       "version_minor": 0
      },
      "text/plain": [
       "Fetching file...: 0 [00:00, ?/s]"
      ]
     },
     "metadata": {},
     "output_type": "display_data"
    },
    {
     "name": "stdout",
     "output_type": "stream",
     "text": [
      "\tdone.\n",
      "sub_fig_full_input_key: \"display_fn_name:BatchPhoJonathanReplayFRC/plot_result_set:shared/page:4of4/aclus:(39,41,42,43,44,45,46,47)\"\n",
      "a_fig_output_path: \"C:\\Users\\pho\\repos\\Spike3DWorkEnv\\Spike3D\\data\\neptune\\commander.pho\\PhoDibaLongShortUpdated\\figs\\vvp01_two_2006-4-10_12-58-3\\BatchPhoJonathanReplayFRC-shared-4of4-(39,41,42,43,44,45,46,47).png\"\n",
      "\tdone.\n",
      "sub_fig_full_input_key: \"display_fn_name:BatchPhoJonathanReplayFRC/plot_result_set:short_only/aclus:(9)\"\n",
      "a_fig_output_path: \"C:\\Users\\pho\\repos\\Spike3DWorkEnv\\Spike3D\\data\\neptune\\commander.pho\\PhoDibaLongShortUpdated\\figs\\vvp01_two_2006-4-10_12-58-3\\BatchPhoJonathanReplayFRC-short_only-(9).png\"\n",
      "\tdone.\n",
      "a_parsed_structure: {'display_fn_name:BatchPhoJonathanReplayFRC': {'plot_result_set:long_only': {'aclus:(7,14,16,30,32,35,40)': <neptune.attributes.atoms.file.File object at 0x00000282BD4D24F0>, 'aclus:(7,40,14,35,16,30,32)': <neptune.attributes.atoms.file.File object at 0x00000282BD4D2550>}, 'plot_result_set:shared': {'page:1of2': {'aclus:(37,29,5,25,15,6,34,33,43,28,19,20,17,12,41,10,31,27,36,42)': <neptune.attributes.atoms.file.File object at 0x00000282BD4D2730>}, 'page:1of4': {'aclus:(2,3,4,5,6,8,10,11,12,13)': <neptune.attributes.atoms.file.File object at 0x00000282BD4D28E0>}, 'page:2of2': {'aclus:(11,8,18,39,24,26,3,2,4,13,21,22,23,38,44,45,46,47)': <neptune.attributes.atoms.file.File object at 0x00000282BD4D29D0>}, 'page:2of4': {'aclus:(15,17,18,19,20,21,22,23,24,25)': <neptune.attributes.atoms.file.File object at 0x00000282BD4D2A30>}, 'page:3of4': {'aclus:(26,27,28,29,31,33,34,36,37,38)': <neptune.attributes.atoms.file.File object at 0x00000282BD4D2BB0>}, 'page:4of4': {'aclus:(39,41,42,43,44,45,46,47)': <neptune.attributes.atoms.file.File object at 0x00000282BD4D2CA0>}}, 'plot_result_set:short_only': {'aclus:(9)': <neptune.attributes.atoms.file.File object at 0x00000282BD4D2D90>}}, 'display_fn_name:_display_grid_bin_bounds_validation': <neptune.attributes.atoms.file.File object at 0x00000282BD4D2CD0>, 'display_fn_name:bidir_track_remap': {'subplot_name:Track Remapping': <neptune.attributes.atoms.file.File object at 0x00000282BCC20DF0>}, 'display_fn_name:display_long_short_laps': <neptune.attributes.atoms.file.File object at 0x00000282BCC20CA0>, 'display_fn_name:display_short_long_pf1D_comparison': {'track:long': <neptune.attributes.atoms.file.File object at 0x00000282BCC20E20>, 'track:short': <neptune.attributes.atoms.file.File object at 0x00000282BCC20CD0>}, 'display_fn_name:plot_all_epoch_bins_marginal_predictions': {'subplot_name:Laps all_epoch_binned Marginals': <neptune.attributes.atoms.file.File object at 0x00000282BCC530A0>, 'subplot_name:Ripple all_epoch_binned Marginals': <neptune.attributes.atoms.file.File object at 0x00000282BCC53130>}, 'display_fn_name:plot_expected_vs_observed': {'x_variable:epoch_idx': {'variable:obs_exp_diff_ptp': <neptune.attributes.atoms.file.File object at 0x00000282BCC531F0>}}, 'display_fn_name:plot_histograms': {'subplot_name:laps_result_tuple': <neptune.attributes.atoms.file.File object at 0x00000282BCC53310>, 'subplot_name:ripple_result_tuple': <neptune.attributes.atoms.file.File object at 0x00000282BCC53430>}, 'display_fn_name:plot_quantile_diffs': {'subplot_name:BestDir': <neptune.attributes.atoms.file.File object at 0x00000282BCC532B0>}, 'display_fn_name:plot_rank_order_epoch_inst_fr_result_tuples': {'subplot_name:Lap': {'subplotsubplot_name:raw': <neptune.attributes.atoms.file.File object at 0x00000282BCC530D0>, 'subplotsubplot_name:z_score_diff': <neptune.attributes.atoms.file.File object at 0x00000282BCC53070>}, 'subplot_name:Ripple': {'subplotsubplot_name:raw': <neptune.attributes.atoms.file.File object at 0x00000282BCC53550>, 'subplotsubplot_name:z_score_diff': <neptune.attributes.atoms.file.File object at 0x00000282BCC534F0>}}, 'display_fn_name:plot_rank_order_histograms': {'subplot_name:Ripple Most-likely Spearman Rho': <neptune.attributes.atoms.file.File object at 0x00000282BD4C28E0>, 'subplot_name:Ripple Most-likely Z-scores': <neptune.attributes.atoms.file.File object at 0x00000282BD4C2940>, 'subplot_name:Ripple Z-scores': <neptune.attributes.atoms.file.File object at 0x00000282BD4C2A00>, 'subplot_name:Ripple real correlations': <neptune.attributes.atoms.file.File object at 0x00000282BD4C2A60>}, 'display_fn_name:running_and_replay_speeds_over_time': <neptune.attributes.atoms.file.File object at 0x00000282BD4C2AC0>, 'filter_name:maze1_any': {'lap_dir:any': {'display_fn_name:1d_placefields': <neptune.attributes.atoms.file.File object at 0x00000282BD4C2B20>, 'display_fn_name:_display_1d_placefield_validations': <neptune.attributes.atoms.file.File object at 0x00000282BD4C2B80>, 'display_fn_name:_display_2d_placefield_result_plot_ratemaps_2D': <neptune.attributes.atoms.file.File object at 0x00000282BD4C2CA0>, 'display_fn_name:plot_occupancy': {'plot_variable:OCCUPANCY': <neptune.attributes.atoms.file.File object at 0x00000282BD4C2D00>}, 'display_fn_name:plot_single_track_firing_rate_compare': <neptune.attributes.atoms.file.File object at 0x00000282BD4C2E50>}}, 'filter_name:maze1_even': {'lap_dir:even': {'display_fn_name:1d_placefields': <neptune.attributes.atoms.file.File object at 0x00000282BD4C2D90>, 'display_fn_name:_display_1d_placefield_validations': <neptune.attributes.atoms.file.File object at 0x00000282BD4C2EB0>, 'display_fn_name:_display_2d_placefield_result_plot_ratemaps_2D': <neptune.attributes.atoms.file.File object at 0x00000282BD4C2FD0>, 'display_fn_name:plot_occupancy': {'plot_variable:OCCUPANCY': <neptune.attributes.atoms.file.File object at 0x00000282BCC3E070>}}}, 'filter_name:maze1_odd': {'lap_dir:odd': {'display_fn_name:1d_placefields': <neptune.attributes.atoms.file.File object at 0x00000282BCC3E1C0>, 'display_fn_name:_display_1d_placefield_validations': <neptune.attributes.atoms.file.File object at 0x00000282BCC3E100>, 'display_fn_name:_display_2d_placefield_result_plot_ratemaps_2D': <neptune.attributes.atoms.file.File object at 0x00000282BCC3E2E0>, 'display_fn_name:plot_occupancy': {'plot_variable:OCCUPANCY': <neptune.attributes.atoms.file.File object at 0x00000282BCC3E340>}}}, 'filter_name:maze2_any': {'lap_dir:any': {'display_fn_name:1d_placefields': <neptune.attributes.atoms.file.File object at 0x00000282BCC3E490>, 'display_fn_name:_display_1d_placefield_validations': <neptune.attributes.atoms.file.File object at 0x00000282BCC3E3D0>, 'display_fn_name:_display_2d_placefield_result_plot_ratemaps_2D': <neptune.attributes.atoms.file.File object at 0x00000282BCC3E5B0>, 'display_fn_name:plot_occupancy': {'plot_variable:OCCUPANCY': <neptune.attributes.atoms.file.File object at 0x00000282BCC3E610>}, 'display_fn_name:plot_single_track_firing_rate_compare': <neptune.attributes.atoms.file.File object at 0x00000282BCC3E760>}}, 'filter_name:maze2_even': {'lap_dir:even': {'display_fn_name:1d_placefields': <neptune.attributes.atoms.file.File object at 0x00000282BCC3E6A0>, 'display_fn_name:_display_1d_placefield_validations': <neptune.attributes.atoms.file.File object at 0x00000282BCC3E7C0>, 'display_fn_name:_display_2d_placefield_result_plot_ratemaps_2D': <neptune.attributes.atoms.file.File object at 0x00000282BCC3E8E0>, 'display_fn_name:plot_occupancy': {'plot_variable:OCCUPANCY': <neptune.attributes.atoms.file.File object at 0x00000282BCC3E940>}}}, 'filter_name:maze2_odd': {'lap_dir:odd': {'display_fn_name:1d_placefields': <neptune.attributes.atoms.file.File object at 0x00000282BCC3EA90>, 'display_fn_name:_display_1d_placefield_validations': <neptune.attributes.atoms.file.File object at 0x00000282BCC3E9D0>, 'display_fn_name:_display_2d_placefield_result_plot_ratemaps_2D': <neptune.attributes.atoms.file.File object at 0x00000282BCC3EBB0>, 'display_fn_name:plot_occupancy': {'plot_variable:OCCUPANCY': <neptune.attributes.atoms.file.File object at 0x00000282BCC3EC10>}}}, 'filter_name:maze_any': {'lap_dir:any': {'display_fn_name:1d_placefields': <neptune.attributes.atoms.file.File object at 0x00000282BCC3ED60>, 'display_fn_name:_display_1d_placefield_validations': <neptune.attributes.atoms.file.File object at 0x00000282BCC3ECA0>, 'display_fn_name:_display_2d_placefield_result_plot_ratemaps_2D': <neptune.attributes.atoms.file.File object at 0x00000282BCC3EE80>, 'display_fn_name:plot_occupancy': {'plot_variable:OCCUPANCY': <neptune.attributes.atoms.file.File object at 0x00000282BCC3EEE0>}}}, 'filter_name:maze_even': {'lap_dir:even': {'display_fn_name:1d_placefields': <neptune.attributes.atoms.file.File object at 0x00000282BCC3EF70>, 'display_fn_name:_display_1d_placefield_validations': <neptune.attributes.atoms.file.File object at 0x00000282BCC47070>, 'display_fn_name:_display_2d_placefield_result_plot_ratemaps_2D': <neptune.attributes.atoms.file.File object at 0x00000282BCC47190>, 'display_fn_name:plot_occupancy': {'plot_variable:OCCUPANCY': <neptune.attributes.atoms.file.File object at 0x00000282BCC471F0>}}}, 'filter_name:maze_odd': {'lap_dir:odd': {'display_fn_name:1d_placefields': <neptune.attributes.atoms.file.File object at 0x00000282BCC47340>, 'display_fn_name:_display_1d_placefield_validations': <neptune.attributes.atoms.file.File object at 0x00000282BCC47280>, 'display_fn_name:_display_2d_placefield_result_plot_ratemaps_2D': <neptune.attributes.atoms.file.File object at 0x00000282BCC47460>, 'display_fn_name:plot_occupancy': {'plot_variable:OCCUPANCY': <neptune.attributes.atoms.file.File object at 0x00000282BCC474C0>}}}, 'fn_name:long_short_firing_rate_indicies': {'display_fn_name:display_long_short_laps': <neptune.attributes.atoms.file.File object at 0x00000282BCC47610>}}\n",
      "not a figure file! a dictionary instead probably: type(a_fig_file_field): <class 'dict'>\n",
      "sub_fig_full_input_key: \"display_fn_name:BatchPhoJonathanReplayFRC/plot_result_set:long_only/aclus:(7,14,16,30,32,35,40)\"\n",
      "a_fig_output_path: \"C:\\Users\\pho\\repos\\Spike3DWorkEnv\\Spike3D\\data\\neptune\\commander.pho\\PhoDibaLongShortUpdated\\figs\\vvp01_two_2006-4-10_12-58-3\\BatchPhoJonathanReplayFRC-long_only-(7,14,16,30,32,35,40).png\"\n",
      "\tdone.\n",
      "sub_fig_full_input_key: \"display_fn_name:BatchPhoJonathanReplayFRC/plot_result_set:long_only/aclus:(7,40,14,35,16,30,32)\"\n",
      "a_fig_output_path: \"C:\\Users\\pho\\repos\\Spike3DWorkEnv\\Spike3D\\data\\neptune\\commander.pho\\PhoDibaLongShortUpdated\\figs\\vvp01_two_2006-4-10_12-58-3\\BatchPhoJonathanReplayFRC-long_only-(7,40,14,35,16,30,32).png\"\n",
      "\tdone.\n",
      "sub_fig_full_input_key: \"display_fn_name:BatchPhoJonathanReplayFRC/plot_result_set:shared/page:1of2/aclus:(37,29,5,25,15,6,34,33,43,28,19,20,17,12,41,10,31,27,36,42)\"\n",
      "a_fig_output_path: \"C:\\Users\\pho\\repos\\Spike3DWorkEnv\\Spike3D\\data\\neptune\\commander.pho\\PhoDibaLongShortUpdated\\figs\\vvp01_two_2006-4-10_12-58-3\\BatchPhoJonathanReplayFRC-shared-1of2-(37,29,5,25,15,6,34,33,43,28,19,20,17,12,41,10,31,27,36,42).png\"\n"
     ]
    },
    {
     "data": {
      "application/vnd.jupyter.widget-view+json": {
       "model_id": "3b54b80c818c409ba08451d834f06efe",
       "version_major": 2,
       "version_minor": 0
      },
      "text/plain": [
       "Fetching file...: 0 [00:00, ?/s]"
      ]
     },
     "metadata": {},
     "output_type": "display_data"
    },
    {
     "name": "stdout",
     "output_type": "stream",
     "text": [
      "\tdone.\n",
      "sub_fig_full_input_key: \"display_fn_name:BatchPhoJonathanReplayFRC/plot_result_set:shared/page:1of4/aclus:(2,3,4,5,6,8,10,11,12,13)\"\n",
      "a_fig_output_path: \"C:\\Users\\pho\\repos\\Spike3DWorkEnv\\Spike3D\\data\\neptune\\commander.pho\\PhoDibaLongShortUpdated\\figs\\vvp01_two_2006-4-10_12-58-3\\BatchPhoJonathanReplayFRC-shared-1of4-(2,3,4,5,6,8,10,11,12,13).png\"\n",
      "\tdone.\n",
      "sub_fig_full_input_key: \"display_fn_name:BatchPhoJonathanReplayFRC/plot_result_set:shared/page:2of2/aclus:(11,8,18,39,24,26,3,2,4,13,21,22,23,38,44,45,46,47)\"\n",
      "a_fig_output_path: \"C:\\Users\\pho\\repos\\Spike3DWorkEnv\\Spike3D\\data\\neptune\\commander.pho\\PhoDibaLongShortUpdated\\figs\\vvp01_two_2006-4-10_12-58-3\\BatchPhoJonathanReplayFRC-shared-2of2-(11,8,18,39,24,26,3,2,4,13,21,22,23,38,44,45,46,47).png\"\n"
     ]
    },
    {
     "data": {
      "application/vnd.jupyter.widget-view+json": {
       "model_id": "2cc7acc175b54f048d40a6ba34a77065",
       "version_major": 2,
       "version_minor": 0
      },
      "text/plain": [
       "Fetching file...: 0 [00:00, ?/s]"
      ]
     },
     "metadata": {},
     "output_type": "display_data"
    },
    {
     "name": "stdout",
     "output_type": "stream",
     "text": [
      "\tdone.\n",
      "sub_fig_full_input_key: \"display_fn_name:BatchPhoJonathanReplayFRC/plot_result_set:shared/page:2of4/aclus:(15,17,18,19,20,21,22,23,24,25)\"\n",
      "a_fig_output_path: \"C:\\Users\\pho\\repos\\Spike3DWorkEnv\\Spike3D\\data\\neptune\\commander.pho\\PhoDibaLongShortUpdated\\figs\\vvp01_two_2006-4-10_12-58-3\\BatchPhoJonathanReplayFRC-shared-2of4-(15,17,18,19,20,21,22,23,24,25).png\"\n",
      "\tdone.\n",
      "sub_fig_full_input_key: \"display_fn_name:BatchPhoJonathanReplayFRC/plot_result_set:shared/page:3of4/aclus:(26,27,28,29,31,33,34,36,37,38)\"\n",
      "a_fig_output_path: \"C:\\Users\\pho\\repos\\Spike3DWorkEnv\\Spike3D\\data\\neptune\\commander.pho\\PhoDibaLongShortUpdated\\figs\\vvp01_two_2006-4-10_12-58-3\\BatchPhoJonathanReplayFRC-shared-3of4-(26,27,28,29,31,33,34,36,37,38).png\"\n",
      "\tdone.\n",
      "sub_fig_full_input_key: \"display_fn_name:BatchPhoJonathanReplayFRC/plot_result_set:shared/page:4of4/aclus:(39,41,42,43,44,45,46,47)\"\n",
      "a_fig_output_path: \"C:\\Users\\pho\\repos\\Spike3DWorkEnv\\Spike3D\\data\\neptune\\commander.pho\\PhoDibaLongShortUpdated\\figs\\vvp01_two_2006-4-10_12-58-3\\BatchPhoJonathanReplayFRC-shared-4of4-(39,41,42,43,44,45,46,47).png\"\n",
      "\tdone.\n",
      "sub_fig_full_input_key: \"display_fn_name:BatchPhoJonathanReplayFRC/plot_result_set:short_only/aclus:(9)\"\n",
      "a_fig_output_path: \"C:\\Users\\pho\\repos\\Spike3DWorkEnv\\Spike3D\\data\\neptune\\commander.pho\\PhoDibaLongShortUpdated\\figs\\vvp01_two_2006-4-10_12-58-3\\BatchPhoJonathanReplayFRC-short_only-(9).png\"\n",
      "\tdone.\n",
      "a_parsed_structure: {'display_fn_name:BatchPhoJonathanReplayFRC': {'plot_result_set:long_only': {'aclus:(38,51,53,59,60)': <neptune.attributes.atoms.file.File object at 0x00000282BE118EE0>, 'aclus:(53,59,60,51,38)': <neptune.attributes.atoms.file.File object at 0x00000282BE1083A0>}, 'plot_result_set:shared': {'page:1of3': {'aclus:(31,15,23,52,34,12,24,35,40,17,50,43,49,42,6,2,27,14,39,21)': <neptune.attributes.atoms.file.File object at 0x00000282BD648A90>}, 'page:1of6': {'aclus:(2,3,4,5,6,9,10,11,12,13)': <neptune.attributes.atoms.file.File object at 0x00000282BD648C40>}, 'page:2of3': {'aclus:(19,3,33,32,22,20,41,37,13,47,36,29,57,5,4,11,9,10,16,18)': <neptune.attributes.atoms.file.File object at 0x00000282BD648D30>}, 'page:2of6': {'aclus:(14,15,16,17,18,19,20,21,22,23)': <neptune.attributes.atoms.file.File object at 0x00000282BD648E20>}, 'page:3of3': {'aclus:(25,26,28,30,44,45,46,48,54,55,56,58)': <neptune.attributes.atoms.file.File object at 0x00000282BD648F10>}, 'page:3of6': {'aclus:(24,25,26,27,28,29,30,31,32,33)': <neptune.attributes.atoms.file.File object at 0x00000282BD648F40>}, 'page:4of6': {'aclus:(34,35,36,37,39,40,41,42,43,44)': <neptune.attributes.atoms.file.File object at 0x00000282BD62C130>}, 'page:5of6': {'aclus:(45,46,47,48,49,50,52,54,55,56)': <neptune.attributes.atoms.file.File object at 0x00000282BD62C220>}, 'page:6of6': {'aclus:(57,58)': <neptune.attributes.atoms.file.File object at 0x00000282BD62C280>}}, 'plot_result_set:short_only': {'aclus:(7,8)': <neptune.attributes.atoms.file.File object at 0x00000282BD62C400>}}, 'display_fn_name:_display_grid_bin_bounds_validation': <neptune.attributes.atoms.file.File object at 0x00000282BD62C340>, 'display_fn_name:bidir_track_remap': {'subplot_name:Track Remapping': <neptune.attributes.atoms.file.File object at 0x00000282BD62C430>}, 'display_fn_name:directional_merged_pf_decoded_epochs': {'decoded_epochs:Laps': {'Marginal:Direction': {'t_bin:0.25': <neptune.attributes.atoms.file.File object at 0x00000282BD62C520>}, 'Marginal:TrackID': {'t_bin:0.25': <neptune.attributes.atoms.file.File object at 0x00000282BD62C610>}}, 'decoded_epochs:Ripple': {'Marginal:Direction': {'t_bin:0.025': <neptune.attributes.atoms.file.File object at 0x00000282BD643490>}, 'Marginal:TrackID': {'t_bin:0.025': <neptune.attributes.atoms.file.File object at 0x00000282BD6435E0>}}}, 'display_fn_name:display_long_short_laps': <neptune.attributes.atoms.file.File object at 0x00000282BD643040>, 'display_fn_name:display_short_long_pf1D_comparison': {'track:long': <neptune.attributes.atoms.file.File object at 0x00000282BD6433D0>, 'track:short': <neptune.attributes.atoms.file.File object at 0x00000282BD6430A0>}, 'display_fn_name:plot_all_epoch_bins_marginal_predictions': {'subplot_name:Laps all_epoch_binned Marginals': <neptune.attributes.atoms.file.File object at 0x00000282BD643160>, 'subplot_name:Ripple all_epoch_binned Marginals': <neptune.attributes.atoms.file.File object at 0x00000282BD6431C0>}, 'display_fn_name:plot_expected_vs_observed': {'x_variable:epoch_idx': {'variable:obs_exp_diff_ptp': <neptune.attributes.atoms.file.File object at 0x00000282BD6437C0>}}, 'display_fn_name:plot_histograms': {'subplot_name:laps_result_tuple': <neptune.attributes.atoms.file.File object at 0x00000282BD6437F0>, 'subplot_name:ripple_result_tuple': <neptune.attributes.atoms.file.File object at 0x00000282BD643910>}, 'display_fn_name:plot_quantile_diffs': {'subplot_name:BestDir': <neptune.attributes.atoms.file.File object at 0x00000282BD643760>}, 'display_fn_name:plot_rank_order_epoch_inst_fr_result_tuples': {'subplot_name:Lap': {'subplotsubplot_name:raw': <neptune.attributes.atoms.file.File object at 0x00000282BD6439D0>, 'subplotsubplot_name:z_score_diff': <neptune.attributes.atoms.file.File object at 0x00000282BD643790>}, 'subplot_name:Ripple': {'subplotsubplot_name:raw': <neptune.attributes.atoms.file.File object at 0x00000282BD624880>, 'subplotsubplot_name:z_score_diff': <neptune.attributes.atoms.file.File object at 0x00000282BD6248E0>}}, 'display_fn_name:plot_rank_order_histograms': {'subplot_name:Ripple Most-likely Spearman Rho': <neptune.attributes.atoms.file.File object at 0x00000282BD6249A0>, 'subplot_name:Ripple Most-likely Z-scores': <neptune.attributes.atoms.file.File object at 0x00000282BD624A00>, 'subplot_name:Ripple Z-scores': <neptune.attributes.atoms.file.File object at 0x00000282BD624AC0>, 'subplot_name:Ripple real correlations': <neptune.attributes.atoms.file.File object at 0x00000282BD624B20>}, 'display_fn_name:running_and_replay_speeds_over_time': <neptune.attributes.atoms.file.File object at 0x00000282BD624B80>, 'display_fn_name:trial_to_trial_reliability': <neptune.attributes.atoms.file.File object at 0x00000282BD624BE0>, 'filter_name:maze1_any': {'lap_dir:any': {'display_fn_name:1d_placefields': <neptune.attributes.atoms.file.File object at 0x00000282BD624C40>, 'display_fn_name:_display_1d_placefield_validations': <neptune.attributes.atoms.file.File object at 0x00000282BD624CA0>, 'display_fn_name:_display_2d_placefield_result_plot_ratemaps_2D': <neptune.attributes.atoms.file.File object at 0x00000282BD624DC0>, 'display_fn_name:plot_occupancy': {'plot_variable:OCCUPANCY': <neptune.attributes.atoms.file.File object at 0x00000282BD624E20>}, 'display_fn_name:plot_single_track_firing_rate_compare': <neptune.attributes.atoms.file.File object at 0x00000282BD624F70>}}, 'filter_name:maze1_even': {'lap_dir:even': {'display_fn_name:1d_placefields': <neptune.attributes.atoms.file.File object at 0x00000282BD624EB0>, 'display_fn_name:_display_1d_placefield_validations': <neptune.attributes.atoms.file.File object at 0x00000282BD624FD0>, 'display_fn_name:_display_2d_placefield_result_plot_ratemaps_2D': <neptune.attributes.atoms.file.File object at 0x00000282BD61C130>, 'display_fn_name:plot_occupancy': {'plot_variable:OCCUPANCY': <neptune.attributes.atoms.file.File object at 0x00000282BD61C190>}}}, 'filter_name:maze1_odd': {'lap_dir:odd': {'display_fn_name:1d_placefields': <neptune.attributes.atoms.file.File object at 0x00000282BD61C2E0>, 'display_fn_name:_display_1d_placefield_validations': <neptune.attributes.atoms.file.File object at 0x00000282BD61C220>, 'display_fn_name:_display_2d_placefield_result_plot_ratemaps_2D': <neptune.attributes.atoms.file.File object at 0x00000282BD61C400>, 'display_fn_name:plot_occupancy': {'plot_variable:OCCUPANCY': <neptune.attributes.atoms.file.File object at 0x00000282BD61C460>}}}, 'filter_name:maze2_any': {'lap_dir:any': {'display_fn_name:1d_placefields': <neptune.attributes.atoms.file.File object at 0x00000282BD61C5B0>, 'display_fn_name:_display_1d_placefield_validations': <neptune.attributes.atoms.file.File object at 0x00000282BD61C4F0>, 'display_fn_name:_display_2d_placefield_result_plot_ratemaps_2D': <neptune.attributes.atoms.file.File object at 0x00000282BD61C6D0>, 'display_fn_name:plot_occupancy': {'plot_variable:OCCUPANCY': <neptune.attributes.atoms.file.File object at 0x00000282BD61C730>}, 'display_fn_name:plot_single_track_firing_rate_compare': <neptune.attributes.atoms.file.File object at 0x00000282BD61C880>}}, 'filter_name:maze2_even': {'lap_dir:even': {'display_fn_name:1d_placefields': <neptune.attributes.atoms.file.File object at 0x00000282BD61C7C0>, 'display_fn_name:_display_1d_placefield_validations': <neptune.attributes.atoms.file.File object at 0x00000282BD61C8E0>, 'display_fn_name:_display_2d_placefield_result_plot_ratemaps_2D': <neptune.attributes.atoms.file.File object at 0x00000282BD61CA00>, 'display_fn_name:plot_occupancy': {'plot_variable:OCCUPANCY': <neptune.attributes.atoms.file.File object at 0x00000282BD61CA60>}}}, 'filter_name:maze2_odd': {'lap_dir:odd': {'display_fn_name:1d_placefields': <neptune.attributes.atoms.file.File object at 0x00000282BD61CBB0>, 'display_fn_name:_display_1d_placefield_validations': <neptune.attributes.atoms.file.File object at 0x00000282BD61CAF0>, 'display_fn_name:_display_2d_placefield_result_plot_ratemaps_2D': <neptune.attributes.atoms.file.File object at 0x00000282BD61CCD0>, 'display_fn_name:plot_occupancy': {'plot_variable:OCCUPANCY': <neptune.attributes.atoms.file.File object at 0x00000282BD61CD30>}}}, 'filter_name:maze_any': {'lap_dir:any': {'display_fn_name:1d_placefields': <neptune.attributes.atoms.file.File object at 0x00000282BD61CE80>, 'display_fn_name:_display_1d_placefield_validations': <neptune.attributes.atoms.file.File object at 0x00000282BD61CDC0>, 'display_fn_name:_display_2d_placefield_result_plot_ratemaps_2D': <neptune.attributes.atoms.file.File object at 0x00000282BD61CFA0>, 'display_fn_name:plot_occupancy': {'plot_variable:OCCUPANCY': <neptune.attributes.atoms.file.File object at 0x00000282BD641040>}}}, 'filter_name:maze_even': {'lap_dir:even': {'display_fn_name:1d_placefields': <neptune.attributes.atoms.file.File object at 0x00000282BD641190>, 'display_fn_name:_display_1d_placefield_validations': <neptune.attributes.atoms.file.File object at 0x00000282BD6410D0>, 'display_fn_name:_display_2d_placefield_result_plot_ratemaps_2D': <neptune.attributes.atoms.file.File object at 0x00000282BD6412B0>, 'display_fn_name:plot_occupancy': {'plot_variable:OCCUPANCY': <neptune.attributes.atoms.file.File object at 0x00000282BD641310>}}}, 'filter_name:maze_odd': {'lap_dir:odd': {'display_fn_name:1d_placefields': <neptune.attributes.atoms.file.File object at 0x00000282BD641460>, 'display_fn_name:_display_1d_placefield_validations': <neptune.attributes.atoms.file.File object at 0x00000282BD6413A0>, 'display_fn_name:_display_2d_placefield_result_plot_ratemaps_2D': <neptune.attributes.atoms.file.File object at 0x00000282BD641580>, 'display_fn_name:plot_occupancy': {'plot_variable:OCCUPANCY': <neptune.attributes.atoms.file.File object at 0x00000282BD6415E0>}}}, 'fn_name:long_short_firing_rate_indicies': {'display_fn_name:display_long_short_laps': <neptune.attributes.atoms.file.File object at 0x00000282BD641730>}}\n",
      "not a figure file! a dictionary instead probably: type(a_fig_file_field): <class 'dict'>\n",
      "sub_fig_full_input_key: \"display_fn_name:BatchPhoJonathanReplayFRC/plot_result_set:long_only/aclus:(38,51,53,59,60)\"\n",
      "a_fig_output_path: \"C:\\Users\\pho\\repos\\Spike3DWorkEnv\\Spike3D\\data\\neptune\\commander.pho\\PhoDibaLongShortUpdated\\figs\\gor01_two_2006-6-12_16-53-46\\BatchPhoJonathanReplayFRC-long_only-(38,51,53,59,60).png\"\n",
      "\tdone.\n",
      "sub_fig_full_input_key: \"display_fn_name:BatchPhoJonathanReplayFRC/plot_result_set:long_only/aclus:(53,59,60,51,38)\"\n",
      "a_fig_output_path: \"C:\\Users\\pho\\repos\\Spike3DWorkEnv\\Spike3D\\data\\neptune\\commander.pho\\PhoDibaLongShortUpdated\\figs\\gor01_two_2006-6-12_16-53-46\\BatchPhoJonathanReplayFRC-long_only-(53,59,60,51,38).png\"\n",
      "\tdone.\n",
      "sub_fig_full_input_key: \"display_fn_name:BatchPhoJonathanReplayFRC/plot_result_set:shared/page:1of3/aclus:(31,15,23,52,34,12,24,35,40,17,50,43,49,42,6,2,27,14,39,21)\"\n",
      "a_fig_output_path: \"C:\\Users\\pho\\repos\\Spike3DWorkEnv\\Spike3D\\data\\neptune\\commander.pho\\PhoDibaLongShortUpdated\\figs\\gor01_two_2006-6-12_16-53-46\\BatchPhoJonathanReplayFRC-shared-1of3-(31,15,23,52,34,12,24,35,40,17,50,43,49,42,6,2,27,14,39,21).png\"\n"
     ]
    },
    {
     "data": {
      "application/vnd.jupyter.widget-view+json": {
       "model_id": "a23361cda84f43f38301d55504dd7f95",
       "version_major": 2,
       "version_minor": 0
      },
      "text/plain": [
       "Fetching file...: 0 [00:00, ?/s]"
      ]
     },
     "metadata": {},
     "output_type": "display_data"
    },
    {
     "name": "stdout",
     "output_type": "stream",
     "text": [
      "\tdone.\n",
      "sub_fig_full_input_key: \"display_fn_name:BatchPhoJonathanReplayFRC/plot_result_set:shared/page:1of6/aclus:(2,3,4,5,6,9,10,11,12,13)\"\n",
      "a_fig_output_path: \"C:\\Users\\pho\\repos\\Spike3DWorkEnv\\Spike3D\\data\\neptune\\commander.pho\\PhoDibaLongShortUpdated\\figs\\gor01_two_2006-6-12_16-53-46\\BatchPhoJonathanReplayFRC-shared-1of6-(2,3,4,5,6,9,10,11,12,13).png\"\n"
     ]
    },
    {
     "data": {
      "application/vnd.jupyter.widget-view+json": {
       "model_id": "51913a2a71e244c387910925c39ba848",
       "version_major": 2,
       "version_minor": 0
      },
      "text/plain": [
       "Fetching file...: 0 [00:00, ?/s]"
      ]
     },
     "metadata": {},
     "output_type": "display_data"
    },
    {
     "name": "stdout",
     "output_type": "stream",
     "text": [
      "\tdone.\n",
      "sub_fig_full_input_key: \"display_fn_name:BatchPhoJonathanReplayFRC/plot_result_set:shared/page:2of3/aclus:(19,3,33,32,22,20,41,37,13,47,36,29,57,5,4,11,9,10,16,18)\"\n",
      "a_fig_output_path: \"C:\\Users\\pho\\repos\\Spike3DWorkEnv\\Spike3D\\data\\neptune\\commander.pho\\PhoDibaLongShortUpdated\\figs\\gor01_two_2006-6-12_16-53-46\\BatchPhoJonathanReplayFRC-shared-2of3-(19,3,33,32,22,20,41,37,13,47,36,29,57,5,4,11,9,10,16,18).png\"\n"
     ]
    },
    {
     "data": {
      "application/vnd.jupyter.widget-view+json": {
       "model_id": "aa7a00f876fe4e20b3985d0adca488e5",
       "version_major": 2,
       "version_minor": 0
      },
      "text/plain": [
       "Fetching file...: 0 [00:00, ?/s]"
      ]
     },
     "metadata": {},
     "output_type": "display_data"
    },
    {
     "name": "stdout",
     "output_type": "stream",
     "text": [
      "\tdone.\n",
      "sub_fig_full_input_key: \"display_fn_name:BatchPhoJonathanReplayFRC/plot_result_set:shared/page:2of6/aclus:(14,15,16,17,18,19,20,21,22,23)\"\n",
      "a_fig_output_path: \"C:\\Users\\pho\\repos\\Spike3DWorkEnv\\Spike3D\\data\\neptune\\commander.pho\\PhoDibaLongShortUpdated\\figs\\gor01_two_2006-6-12_16-53-46\\BatchPhoJonathanReplayFRC-shared-2of6-(14,15,16,17,18,19,20,21,22,23).png\"\n"
     ]
    },
    {
     "data": {
      "application/vnd.jupyter.widget-view+json": {
       "model_id": "607f9c61977c42cb8ee4a1c610506295",
       "version_major": 2,
       "version_minor": 0
      },
      "text/plain": [
       "Fetching file...: 0 [00:00, ?/s]"
      ]
     },
     "metadata": {},
     "output_type": "display_data"
    },
    {
     "name": "stdout",
     "output_type": "stream",
     "text": [
      "\tdone.\n",
      "sub_fig_full_input_key: \"display_fn_name:BatchPhoJonathanReplayFRC/plot_result_set:shared/page:3of3/aclus:(25,26,28,30,44,45,46,48,54,55,56,58)\"\n",
      "a_fig_output_path: \"C:\\Users\\pho\\repos\\Spike3DWorkEnv\\Spike3D\\data\\neptune\\commander.pho\\PhoDibaLongShortUpdated\\figs\\gor01_two_2006-6-12_16-53-46\\BatchPhoJonathanReplayFRC-shared-3of3-(25,26,28,30,44,45,46,48,54,55,56,58).png\"\n"
     ]
    },
    {
     "data": {
      "application/vnd.jupyter.widget-view+json": {
       "model_id": "b53ad550b57e423ea79cd2d11fef36d6",
       "version_major": 2,
       "version_minor": 0
      },
      "text/plain": [
       "Fetching file...: 0 [00:00, ?/s]"
      ]
     },
     "metadata": {},
     "output_type": "display_data"
    },
    {
     "name": "stdout",
     "output_type": "stream",
     "text": [
      "\tdone.\n",
      "sub_fig_full_input_key: \"display_fn_name:BatchPhoJonathanReplayFRC/plot_result_set:shared/page:3of6/aclus:(24,25,26,27,28,29,30,31,32,33)\"\n",
      "a_fig_output_path: \"C:\\Users\\pho\\repos\\Spike3DWorkEnv\\Spike3D\\data\\neptune\\commander.pho\\PhoDibaLongShortUpdated\\figs\\gor01_two_2006-6-12_16-53-46\\BatchPhoJonathanReplayFRC-shared-3of6-(24,25,26,27,28,29,30,31,32,33).png\"\n"
     ]
    },
    {
     "data": {
      "application/vnd.jupyter.widget-view+json": {
       "model_id": "70dacced69a243328eb8bc7ace0e9cd8",
       "version_major": 2,
       "version_minor": 0
      },
      "text/plain": [
       "Fetching file...: 0 [00:00, ?/s]"
      ]
     },
     "metadata": {},
     "output_type": "display_data"
    },
    {
     "name": "stdout",
     "output_type": "stream",
     "text": [
      "\tdone.\n",
      "sub_fig_full_input_key: \"display_fn_name:BatchPhoJonathanReplayFRC/plot_result_set:shared/page:4of6/aclus:(34,35,36,37,39,40,41,42,43,44)\"\n",
      "a_fig_output_path: \"C:\\Users\\pho\\repos\\Spike3DWorkEnv\\Spike3D\\data\\neptune\\commander.pho\\PhoDibaLongShortUpdated\\figs\\gor01_two_2006-6-12_16-53-46\\BatchPhoJonathanReplayFRC-shared-4of6-(34,35,36,37,39,40,41,42,43,44).png\"\n"
     ]
    },
    {
     "data": {
      "application/vnd.jupyter.widget-view+json": {
       "model_id": "d5b1de5002674f5680edab6129f77525",
       "version_major": 2,
       "version_minor": 0
      },
      "text/plain": [
       "Fetching file...: 0 [00:00, ?/s]"
      ]
     },
     "metadata": {},
     "output_type": "display_data"
    },
    {
     "name": "stdout",
     "output_type": "stream",
     "text": [
      "\tdone.\n",
      "sub_fig_full_input_key: \"display_fn_name:BatchPhoJonathanReplayFRC/plot_result_set:shared/page:5of6/aclus:(45,46,47,48,49,50,52,54,55,56)\"\n",
      "a_fig_output_path: \"C:\\Users\\pho\\repos\\Spike3DWorkEnv\\Spike3D\\data\\neptune\\commander.pho\\PhoDibaLongShortUpdated\\figs\\gor01_two_2006-6-12_16-53-46\\BatchPhoJonathanReplayFRC-shared-5of6-(45,46,47,48,49,50,52,54,55,56).png\"\n"
     ]
    },
    {
     "data": {
      "application/vnd.jupyter.widget-view+json": {
       "model_id": "feb912a9b7b640fa81a31ffae38d7cfe",
       "version_major": 2,
       "version_minor": 0
      },
      "text/plain": [
       "Fetching file...: 0 [00:00, ?/s]"
      ]
     },
     "metadata": {},
     "output_type": "display_data"
    },
    {
     "name": "stdout",
     "output_type": "stream",
     "text": [
      "\tdone.\n",
      "sub_fig_full_input_key: \"display_fn_name:BatchPhoJonathanReplayFRC/plot_result_set:shared/page:6of6/aclus:(57,58)\"\n",
      "a_fig_output_path: \"C:\\Users\\pho\\repos\\Spike3DWorkEnv\\Spike3D\\data\\neptune\\commander.pho\\PhoDibaLongShortUpdated\\figs\\gor01_two_2006-6-12_16-53-46\\BatchPhoJonathanReplayFRC-shared-6of6-(57,58).png\"\n",
      "\tdone.\n",
      "sub_fig_full_input_key: \"display_fn_name:BatchPhoJonathanReplayFRC/plot_result_set:short_only/aclus:(7,8)\"\n",
      "a_fig_output_path: \"C:\\Users\\pho\\repos\\Spike3DWorkEnv\\Spike3D\\data\\neptune\\commander.pho\\PhoDibaLongShortUpdated\\figs\\gor01_two_2006-6-12_16-53-46\\BatchPhoJonathanReplayFRC-short_only-(7,8).png\"\n",
      "\tdone.\n",
      "a_parsed_structure: {'display_fn_name:_display_grid_bin_bounds_validation': <neptune.attributes.atoms.file.File object at 0x00000282BD4CBC10>, 'display_fn_name:display_long_short_laps': <neptune.attributes.atoms.file.File object at 0x00000282BD4CBC70>, 'filter_name:maze1_any': {'lap_dir:any': {'display_fn_name:1d_placefields': <neptune.attributes.atoms.file.File object at 0x00000282BD4CBD90>, 'display_fn_name:_display_1d_placefield_validations': <neptune.attributes.atoms.file.File object at 0x00000282BD4CBDF0>, 'display_fn_name:_display_2d_placefield_result_plot_ratemaps_2D': <neptune.attributes.atoms.file.File object at 0x00000282BD4CBF10>, 'display_fn_name:plot_occupancy': {'plot_variable:OCCUPANCY': <neptune.attributes.atoms.file.File object at 0x00000282BD4CBF70>}}}, 'filter_name:maze1_even': {'lap_dir:even': {'display_fn_name:1d_placefields': <neptune.attributes.atoms.file.File object at 0x00000282BD4CBFD0>, 'display_fn_name:_display_1d_placefield_validations': <neptune.attributes.atoms.file.File object at 0x00000282BD4E6040>, 'display_fn_name:_display_2d_placefield_result_plot_ratemaps_2D': <neptune.attributes.atoms.file.File object at 0x00000282BD4E6220>, 'display_fn_name:plot_occupancy': {'plot_variable:OCCUPANCY': <neptune.attributes.atoms.file.File object at 0x00000282BD4E6280>}}}, 'filter_name:maze1_odd': {'lap_dir:odd': {'display_fn_name:1d_placefields': <neptune.attributes.atoms.file.File object at 0x00000282BD4E63D0>, 'display_fn_name:_display_1d_placefield_validations': <neptune.attributes.atoms.file.File object at 0x00000282BD4E6340>, 'display_fn_name:_display_2d_placefield_result_plot_ratemaps_2D': <neptune.attributes.atoms.file.File object at 0x00000282BD4E64C0>, 'display_fn_name:plot_occupancy': {'plot_variable:OCCUPANCY': <neptune.attributes.atoms.file.File object at 0x00000282BD4E6550>}}}, 'filter_name:maze2_any': {'lap_dir:any': {'display_fn_name:1d_placefields': <neptune.attributes.atoms.file.File object at 0x00000282BD4E65E0>, 'display_fn_name:_display_1d_placefield_validations': <neptune.attributes.atoms.file.File object at 0x00000282BD4D7E20>, 'display_fn_name:_display_2d_placefield_result_plot_ratemaps_2D': <neptune.attributes.atoms.file.File object at 0x00000282BD4D7520>, 'display_fn_name:plot_occupancy': {'plot_variable:OCCUPANCY': <neptune.attributes.atoms.file.File object at 0x00000282BD4D7580>}}}, 'filter_name:maze2_even': {'lap_dir:even': {'display_fn_name:1d_placefields': <neptune.attributes.atoms.file.File object at 0x00000282BD4D7790>, 'display_fn_name:_display_1d_placefield_validations': <neptune.attributes.atoms.file.File object at 0x00000282BD4D76D0>, 'display_fn_name:_display_2d_placefield_result_plot_ratemaps_2D': <neptune.attributes.atoms.file.File object at 0x00000282BD4D7670>, 'display_fn_name:plot_occupancy': {'plot_variable:OCCUPANCY': <neptune.attributes.atoms.file.File object at 0x00000282BD4D7490>}}}, 'filter_name:maze2_odd': {'lap_dir:odd': {'display_fn_name:1d_placefields': <neptune.attributes.atoms.file.File object at 0x00000282BD4D71C0>, 'display_fn_name:_display_1d_placefield_validations': <neptune.attributes.atoms.file.File object at 0x00000282BD4D7100>, 'display_fn_name:_display_2d_placefield_result_plot_ratemaps_2D': <neptune.attributes.atoms.file.File object at 0x00000282BD4D73A0>, 'display_fn_name:plot_occupancy': {'plot_variable:OCCUPANCY': <neptune.attributes.atoms.file.File object at 0x00000282BD4D7400>}}}, 'filter_name:maze_any': {'lap_dir:any': {'display_fn_name:1d_placefields': <neptune.attributes.atoms.file.File object at 0x00000282BD4D7A90>, 'display_fn_name:_display_1d_placefield_validations': <neptune.attributes.atoms.file.File object at 0x00000282BD4D7250>, 'display_fn_name:_display_2d_placefield_result_plot_ratemaps_2D': <neptune.attributes.atoms.file.File object at 0x00000282BD4D7AF0>, 'display_fn_name:plot_occupancy': {'plot_variable:OCCUPANCY': <neptune.attributes.atoms.file.File object at 0x00000282BD4D7910>}}}, 'filter_name:maze_even': {'lap_dir:even': {'display_fn_name:1d_placefields': <neptune.attributes.atoms.file.File object at 0x00000282BD4D7BE0>, 'display_fn_name:_display_1d_placefield_validations': <neptune.attributes.atoms.file.File object at 0x00000282BD4D79D0>, 'display_fn_name:_display_2d_placefield_result_plot_ratemaps_2D': <neptune.attributes.atoms.file.File object at 0x00000282BD4ED5E0>, 'display_fn_name:plot_occupancy': {'plot_variable:OCCUPANCY': <neptune.attributes.atoms.file.File object at 0x00000282BD4ED640>}}}, 'filter_name:maze_odd': {'lap_dir:odd': {'display_fn_name:1d_placefields': <neptune.attributes.atoms.file.File object at 0x00000282BD4ED790>, 'display_fn_name:_display_1d_placefield_validations': <neptune.attributes.atoms.file.File object at 0x00000282BD4ED6D0>, 'display_fn_name:_display_2d_placefield_result_plot_ratemaps_2D': <neptune.attributes.atoms.file.File object at 0x00000282BD4ED8B0>, 'display_fn_name:plot_occupancy': {'plot_variable:OCCUPANCY': <neptune.attributes.atoms.file.File object at 0x00000282BD4ED910>}}}}\n",
      "a_parsed_structure: {'display_fn_name:BatchPhoJonathanReplayFRC': {'plot_result_set:long_only': {'aclus:(13,20,27,29)': <neptune.attributes.atoms.file.File object at 0x00000282BD63B130>, 'aclus:(29,27,20,13)': <neptune.attributes.atoms.file.File object at 0x00000282BD63B250>}, 'plot_result_set:shared': {'page:1of2': {'aclus:(4,5,7,15,33,28,9,12,38,32,34,22,16,21,39,30,11,25,37,36)': <neptune.attributes.atoms.file.File object at 0x00000282BD63B610>}, 'page:1of4': {'aclus:(2,3,4,5,7,8,9,10,11,12)': <neptune.attributes.atoms.file.File object at 0x00000282BD63B7C0>}, 'page:2of2': {'aclus:(2,3,8,10,14,17,18,19,23,26,31,35)': <neptune.attributes.atoms.file.File object at 0x00000282BD63B8B0>}, 'page:2of4': {'aclus:(14,15,16,17,18,19,21,22,23,25)': <neptune.attributes.atoms.file.File object at 0x00000282BD63B9A0>}, 'page:3of4': {'aclus:(26,28,30,31,32,33,34,35,36,37)': <neptune.attributes.atoms.file.File object at 0x00000282BD63BA90>}, 'page:4of4': {'aclus:(38,39)': <neptune.attributes.atoms.file.File object at 0x00000282BD63BB80>}}, 'plot_result_set:short_only': {'aclus:(6,24)': <neptune.attributes.atoms.file.File object at 0x00000282BD63BC70>}}, 'display_fn_name:_display_grid_bin_bounds_validation': <neptune.attributes.atoms.file.File object at 0x00000282BD63BBB0>, 'display_fn_name:bidir_track_remap': {'subplot_name:Track Remapping': <neptune.attributes.atoms.file.File object at 0x00000282BD63BD30>}, 'display_fn_name:directional_merged_pf_decoded_epochs': {'decoded_epochs:Laps': {'Marginal:Direction': {'t_bin:0.25': <neptune.attributes.atoms.file.File object at 0x00000282BD63BD90>}, 'Marginal:TrackID': {'t_bin:0.25': <neptune.attributes.atoms.file.File object at 0x00000282BD63BE80>}}, 'decoded_epochs:Ripple': {'Marginal:Direction': {'t_bin:0.025': <neptune.attributes.atoms.file.File object at 0x00000282BD615130>}, 'Marginal:TrackID': {'t_bin:0.025': <neptune.attributes.atoms.file.File object at 0x00000282BD615280>}}}, 'display_fn_name:display_long_short_laps': <neptune.attributes.atoms.file.File object at 0x00000282BD615370>, 'display_fn_name:display_short_long_pf1D_comparison': {'track:long': <neptune.attributes.atoms.file.File object at 0x00000282BD6152B0>, 'track:short': <neptune.attributes.atoms.file.File object at 0x00000282BD6153D0>}, 'display_fn_name:plot_all_epoch_bins_marginal_predictions': {'subplot_name:Laps all_epoch_binned Marginals': <neptune.attributes.atoms.file.File object at 0x00000282BD615490>, 'subplot_name:Ripple all_epoch_binned Marginals': <neptune.attributes.atoms.file.File object at 0x00000282BD6154F0>}, 'display_fn_name:plot_expected_vs_observed': {'x_variable:epoch_idx': {'variable:obs_exp_diff_ptp': <neptune.attributes.atoms.file.File object at 0x00000282BD6155B0>}}, 'display_fn_name:plot_histograms': {'subplot_name:laps_result_tuple': <neptune.attributes.atoms.file.File object at 0x00000282BD615610>, 'subplot_name:ripple_result_tuple': <neptune.attributes.atoms.file.File object at 0x00000282BD615730>}, 'display_fn_name:plot_quantile_diffs': {'subplot_name:BestDir': <neptune.attributes.atoms.file.File object at 0x00000282BD6157F0>}, 'display_fn_name:plot_rank_order_epoch_inst_fr_result_tuples': {'subplot_name:Lap': {'subplotsubplot_name:raw': <neptune.attributes.atoms.file.File object at 0x00000282BD6158E0>, 'subplotsubplot_name:z_score_diff': <neptune.attributes.atoms.file.File object at 0x00000282BD615910>}, 'subplot_name:Ripple': {'subplotsubplot_name:raw': <neptune.attributes.atoms.file.File object at 0x00000282BD615A30>, 'subplotsubplot_name:z_score_diff': <neptune.attributes.atoms.file.File object at 0x00000282BD615A90>}}, 'display_fn_name:plot_rank_order_histograms': {'subplot_name:Ripple Most-likely Spearman Rho': <neptune.attributes.atoms.file.File object at 0x00000282BD615AC0>, 'subplot_name:Ripple Most-likely Z-scores': <neptune.attributes.atoms.file.File object at 0x00000282BD615BB0>, 'subplot_name:Ripple Z-scores': <neptune.attributes.atoms.file.File object at 0x00000282BD615D00>, 'subplot_name:Ripple real correlations': <neptune.attributes.atoms.file.File object at 0x00000282BD615CA0>}, 'display_fn_name:running_and_replay_speeds_over_time': <neptune.attributes.atoms.file.File object at 0x00000282BD615D30>, 'filter_name:maze1_any': {'lap_dir:any': {'display_fn_name:1d_placefields': <neptune.attributes.atoms.file.File object at 0x00000282BD615D90>, 'display_fn_name:_display_1d_placefield_validations': <neptune.attributes.atoms.file.File object at 0x00000282BD615DF0>, 'display_fn_name:_display_2d_placefield_result_plot_ratemaps_2D': <neptune.attributes.atoms.file.File object at 0x00000282BD624040>, 'display_fn_name:plot_occupancy': {'plot_variable:OCCUPANCY': <neptune.attributes.atoms.file.File object at 0x00000282BD624160>}, 'display_fn_name:plot_single_track_firing_rate_compare': <neptune.attributes.atoms.file.File object at 0x00000282BD6241C0>}}, 'filter_name:maze1_even': {'lap_dir:even': {'display_fn_name:1d_placefields': <neptune.attributes.atoms.file.File object at 0x00000282BD624130>, 'display_fn_name:_display_1d_placefield_validations': <neptune.attributes.atoms.file.File object at 0x00000282BD62C9D0>, 'display_fn_name:_display_2d_placefield_result_plot_ratemaps_2D': <neptune.attributes.atoms.file.File object at 0x00000282BD62CB20>, 'display_fn_name:plot_occupancy': {'plot_variable:OCCUPANCY': <neptune.attributes.atoms.file.File object at 0x00000282BD62CC40>}}}, 'filter_name:maze1_odd': {'lap_dir:odd': {'display_fn_name:1d_placefields': <neptune.attributes.atoms.file.File object at 0x00000282BD62CD90>, 'display_fn_name:_display_1d_placefield_validations': <neptune.attributes.atoms.file.File object at 0x00000282BD62CCD0>, 'display_fn_name:_display_2d_placefield_result_plot_ratemaps_2D': <neptune.attributes.atoms.file.File object at 0x00000282BD62C760>, 'display_fn_name:plot_occupancy': {'plot_variable:OCCUPANCY': <neptune.attributes.atoms.file.File object at 0x00000282BD62C670>}}}, 'filter_name:maze2_any': {'lap_dir:any': {'display_fn_name:1d_placefields': <neptune.attributes.atoms.file.File object at 0x00000282BD62C880>, 'display_fn_name:_display_1d_placefield_validations': <neptune.attributes.atoms.file.File object at 0x00000282BD62C700>, 'display_fn_name:_display_2d_placefield_result_plot_ratemaps_2D': <neptune.attributes.atoms.file.File object at 0x00000282BD62C9A0>, 'display_fn_name:plot_occupancy': {'plot_variable:OCCUPANCY': <neptune.attributes.atoms.file.File object at 0x00000282BD62C7C0>}, 'display_fn_name:plot_single_track_firing_rate_compare': <neptune.attributes.atoms.file.File object at 0x00000282BD62CE50>}}, 'filter_name:maze2_even': {'lap_dir:even': {'display_fn_name:1d_placefields': <neptune.attributes.atoms.file.File object at 0x00000282BD62CF40>, 'display_fn_name:_display_1d_placefield_validations': <neptune.attributes.atoms.file.File object at 0x00000282BD62CEB0>, 'display_fn_name:_display_2d_placefield_result_plot_ratemaps_2D': <neptune.attributes.atoms.file.File object at 0x00000282BD6A6F10>, 'display_fn_name:plot_occupancy': {'plot_variable:OCCUPANCY': <neptune.attributes.atoms.file.File object at 0x00000282BD6A6F70>}}}, 'filter_name:maze2_odd': {'lap_dir:odd': {'display_fn_name:1d_placefields': <neptune.attributes.atoms.file.File object at 0x00000282BD6A6FD0>, 'display_fn_name:_display_1d_placefield_validations': <neptune.attributes.atoms.file.File object at 0x00000282BD62E040>, 'display_fn_name:_display_2d_placefield_result_plot_ratemaps_2D': <neptune.attributes.atoms.file.File object at 0x00000282BD62E220>, 'display_fn_name:plot_occupancy': {'plot_variable:OCCUPANCY': <neptune.attributes.atoms.file.File object at 0x00000282BD62E280>}}}, 'filter_name:maze_any': {'lap_dir:any': {'display_fn_name:1d_placefields': <neptune.attributes.atoms.file.File object at 0x00000282BD62E3D0>, 'display_fn_name:_display_1d_placefield_validations': <neptune.attributes.atoms.file.File object at 0x00000282BD62E310>, 'display_fn_name:_display_2d_placefield_result_plot_ratemaps_2D': <neptune.attributes.atoms.file.File object at 0x00000282BD62E4F0>, 'display_fn_name:plot_occupancy': {'plot_variable:OCCUPANCY': <neptune.attributes.atoms.file.File object at 0x00000282BD62E550>}}}, 'filter_name:maze_even': {'lap_dir:even': {'display_fn_name:1d_placefields': <neptune.attributes.atoms.file.File object at 0x00000282BD62E6A0>, 'display_fn_name:_display_1d_placefield_validations': <neptune.attributes.atoms.file.File object at 0x00000282BD62E5E0>, 'display_fn_name:_display_2d_placefield_result_plot_ratemaps_2D': <neptune.attributes.atoms.file.File object at 0x00000282BD62E7C0>, 'display_fn_name:plot_occupancy': {'plot_variable:OCCUPANCY': <neptune.attributes.atoms.file.File object at 0x00000282BD62E820>}}}, 'filter_name:maze_odd': {'lap_dir:odd': {'display_fn_name:1d_placefields': <neptune.attributes.atoms.file.File object at 0x00000282BD62E970>, 'display_fn_name:_display_1d_placefield_validations': <neptune.attributes.atoms.file.File object at 0x00000282BD62E8B0>, 'display_fn_name:_display_2d_placefield_result_plot_ratemaps_2D': <neptune.attributes.atoms.file.File object at 0x00000282BD62EA90>, 'display_fn_name:plot_occupancy': {'plot_variable:OCCUPANCY': <neptune.attributes.atoms.file.File object at 0x00000282BD62EAF0>}}}, 'fn_name:long_short_firing_rate_indicies': {'display_fn_name:display_long_short_laps': <neptune.attributes.atoms.file.File object at 0x00000282BD62EC40>}}\n",
      "not a figure file! a dictionary instead probably: type(a_fig_file_field): <class 'dict'>\n",
      "sub_fig_full_input_key: \"display_fn_name:BatchPhoJonathanReplayFRC/plot_result_set:long_only/aclus:(13,20,27,29)\"\n",
      "a_fig_output_path: \"C:\\Users\\pho\\repos\\Spike3DWorkEnv\\Spike3D\\data\\neptune\\commander.pho\\PhoDibaLongShortUpdated\\figs\\pin01_one_11-02_19-28-0\\BatchPhoJonathanReplayFRC-long_only-(13,20,27,29).png\"\n",
      "\tdone.\n",
      "sub_fig_full_input_key: \"display_fn_name:BatchPhoJonathanReplayFRC/plot_result_set:long_only/aclus:(29,27,20,13)\"\n",
      "a_fig_output_path: \"C:\\Users\\pho\\repos\\Spike3DWorkEnv\\Spike3D\\data\\neptune\\commander.pho\\PhoDibaLongShortUpdated\\figs\\pin01_one_11-02_19-28-0\\BatchPhoJonathanReplayFRC-long_only-(29,27,20,13).png\"\n",
      "\tdone.\n",
      "sub_fig_full_input_key: \"display_fn_name:BatchPhoJonathanReplayFRC/plot_result_set:shared/page:1of2/aclus:(4,5,7,15,33,28,9,12,38,32,34,22,16,21,39,30,11,25,37,36)\"\n",
      "a_fig_output_path: \"C:\\Users\\pho\\repos\\Spike3DWorkEnv\\Spike3D\\data\\neptune\\commander.pho\\PhoDibaLongShortUpdated\\figs\\pin01_one_11-02_19-28-0\\BatchPhoJonathanReplayFRC-shared-1of2-(4,5,7,15,33,28,9,12,38,32,34,22,16,21,39,30,11,25,37,36).png\"\n"
     ]
    },
    {
     "data": {
      "application/vnd.jupyter.widget-view+json": {
       "model_id": "73e45431ab9b4a79b3f7f83213173796",
       "version_major": 2,
       "version_minor": 0
      },
      "text/plain": [
       "Fetching file...: 0 [00:00, ?/s]"
      ]
     },
     "metadata": {},
     "output_type": "display_data"
    },
    {
     "name": "stdout",
     "output_type": "stream",
     "text": [
      "\tdone.\n",
      "sub_fig_full_input_key: \"display_fn_name:BatchPhoJonathanReplayFRC/plot_result_set:shared/page:1of4/aclus:(2,3,4,5,7,8,9,10,11,12)\"\n",
      "a_fig_output_path: \"C:\\Users\\pho\\repos\\Spike3DWorkEnv\\Spike3D\\data\\neptune\\commander.pho\\PhoDibaLongShortUpdated\\figs\\pin01_one_11-02_19-28-0\\BatchPhoJonathanReplayFRC-shared-1of4-(2,3,4,5,7,8,9,10,11,12).png\"\n"
     ]
    },
    {
     "data": {
      "application/vnd.jupyter.widget-view+json": {
       "model_id": "b75e97262781486fb615f400512d3fcb",
       "version_major": 2,
       "version_minor": 0
      },
      "text/plain": [
       "Fetching file...: 0 [00:00, ?/s]"
      ]
     },
     "metadata": {},
     "output_type": "display_data"
    },
    {
     "name": "stdout",
     "output_type": "stream",
     "text": [
      "\tdone.\n",
      "sub_fig_full_input_key: \"display_fn_name:BatchPhoJonathanReplayFRC/plot_result_set:shared/page:2of2/aclus:(2,3,8,10,14,17,18,19,23,26,31,35)\"\n",
      "a_fig_output_path: \"C:\\Users\\pho\\repos\\Spike3DWorkEnv\\Spike3D\\data\\neptune\\commander.pho\\PhoDibaLongShortUpdated\\figs\\pin01_one_11-02_19-28-0\\BatchPhoJonathanReplayFRC-shared-2of2-(2,3,8,10,14,17,18,19,23,26,31,35).png\"\n"
     ]
    },
    {
     "data": {
      "application/vnd.jupyter.widget-view+json": {
       "model_id": "3524c5a6e3944742995b58567f48d0be",
       "version_major": 2,
       "version_minor": 0
      },
      "text/plain": [
       "Fetching file...: 0 [00:00, ?/s]"
      ]
     },
     "metadata": {},
     "output_type": "display_data"
    },
    {
     "name": "stdout",
     "output_type": "stream",
     "text": [
      "\tdone.\n",
      "sub_fig_full_input_key: \"display_fn_name:BatchPhoJonathanReplayFRC/plot_result_set:shared/page:2of4/aclus:(14,15,16,17,18,19,21,22,23,25)\"\n",
      "a_fig_output_path: \"C:\\Users\\pho\\repos\\Spike3DWorkEnv\\Spike3D\\data\\neptune\\commander.pho\\PhoDibaLongShortUpdated\\figs\\pin01_one_11-02_19-28-0\\BatchPhoJonathanReplayFRC-shared-2of4-(14,15,16,17,18,19,21,22,23,25).png\"\n"
     ]
    },
    {
     "data": {
      "application/vnd.jupyter.widget-view+json": {
       "model_id": "5b97228f1d82409e91f3206e40d170fa",
       "version_major": 2,
       "version_minor": 0
      },
      "text/plain": [
       "Fetching file...: 0 [00:00, ?/s]"
      ]
     },
     "metadata": {},
     "output_type": "display_data"
    },
    {
     "name": "stdout",
     "output_type": "stream",
     "text": [
      "\tdone.\n",
      "sub_fig_full_input_key: \"display_fn_name:BatchPhoJonathanReplayFRC/plot_result_set:shared/page:3of4/aclus:(26,28,30,31,32,33,34,35,36,37)\"\n",
      "a_fig_output_path: \"C:\\Users\\pho\\repos\\Spike3DWorkEnv\\Spike3D\\data\\neptune\\commander.pho\\PhoDibaLongShortUpdated\\figs\\pin01_one_11-02_19-28-0\\BatchPhoJonathanReplayFRC-shared-3of4-(26,28,30,31,32,33,34,35,36,37).png\"\n"
     ]
    },
    {
     "data": {
      "application/vnd.jupyter.widget-view+json": {
       "model_id": "48132e15819d44a1a448afc5f56dd97f",
       "version_major": 2,
       "version_minor": 0
      },
      "text/plain": [
       "Fetching file...: 0 [00:00, ?/s]"
      ]
     },
     "metadata": {},
     "output_type": "display_data"
    },
    {
     "name": "stdout",
     "output_type": "stream",
     "text": [
      "\tdone.\n",
      "sub_fig_full_input_key: \"display_fn_name:BatchPhoJonathanReplayFRC/plot_result_set:shared/page:4of4/aclus:(38,39)\"\n",
      "a_fig_output_path: \"C:\\Users\\pho\\repos\\Spike3DWorkEnv\\Spike3D\\data\\neptune\\commander.pho\\PhoDibaLongShortUpdated\\figs\\pin01_one_11-02_19-28-0\\BatchPhoJonathanReplayFRC-shared-4of4-(38,39).png\"\n",
      "\tdone.\n",
      "sub_fig_full_input_key: \"display_fn_name:BatchPhoJonathanReplayFRC/plot_result_set:short_only/aclus:(6,24)\"\n",
      "a_fig_output_path: \"C:\\Users\\pho\\repos\\Spike3DWorkEnv\\Spike3D\\data\\neptune\\commander.pho\\PhoDibaLongShortUpdated\\figs\\pin01_one_11-02_19-28-0\\BatchPhoJonathanReplayFRC-short_only-(6,24).png\"\n",
      "\tdone.\n",
      "a_parsed_structure: {'display_fn_name:BatchPhoJonathanReplayFRC': {'plot_result_set:long_only': {'aclus:(13,20,27,29)': <neptune.attributes.atoms.file.File object at 0x00000282BCC30700>, 'aclus:(29,27,20,13)': <neptune.attributes.atoms.file.File object at 0x00000282BCC306A0>}, 'plot_result_set:shared': {'page:1of2': {'aclus:(4,5,7,15,33,28,9,12,38,32,34,22,16,21,39,30,11,25,37,36)': <neptune.attributes.atoms.file.File object at 0x00000282BCC308B0>}, 'page:1of4': {'aclus:(2,3,4,5,7,8,9,10,11,12)': <neptune.attributes.atoms.file.File object at 0x00000282BCC30A60>}, 'page:2of2': {'aclus:(2,3,8,10,14,17,18,19,23,26,31,35)': <neptune.attributes.atoms.file.File object at 0x00000282BCC30B50>}, 'page:2of4': {'aclus:(14,15,16,17,18,19,21,22,23,25)': <neptune.attributes.atoms.file.File object at 0x00000282BCC30C40>}, 'page:3of4': {'aclus:(26,28,30,31,32,33,34,35,36,37)': <neptune.attributes.atoms.file.File object at 0x00000282BCC3D070>}, 'page:4of4': {'aclus:(38,39)': <neptune.attributes.atoms.file.File object at 0x00000282BCC30C70>}}, 'plot_result_set:short_only': {'aclus:(6,24)': <neptune.attributes.atoms.file.File object at 0x00000282BCC3CAF0>}}, 'display_fn_name:_display_grid_bin_bounds_validation': <neptune.attributes.atoms.file.File object at 0x00000282BCC3C970>, 'display_fn_name:bidir_track_remap': {'subplot_name:Track Remapping': <neptune.attributes.atoms.file.File object at 0x00000282BCC3CBB0>}, 'display_fn_name:display_long_short_laps': <neptune.attributes.atoms.file.File object at 0x00000282BCC3CC10>, 'display_fn_name:display_short_long_pf1D_comparison': {'track:long': <neptune.attributes.atoms.file.File object at 0x00000282BCC3CA90>, 'track:short': <neptune.attributes.atoms.file.File object at 0x00000282BCC3C8B0>}, 'display_fn_name:plot_all_epoch_bins_marginal_predictions': {'subplot_name:Laps all_epoch_binned Marginals': <neptune.attributes.atoms.file.File object at 0x00000282BCC3C550>, 'subplot_name:Ripple all_epoch_binned Marginals': <neptune.attributes.atoms.file.File object at 0x00000282BCC3C5B0>}, 'display_fn_name:plot_expected_vs_observed': {'x_variable:epoch_idx': {'variable:obs_exp_diff_ptp': <neptune.attributes.atoms.file.File object at 0x00000282BCC3C730>}}, 'display_fn_name:plot_histograms': {'subplot_name:laps_result_tuple': <neptune.attributes.atoms.file.File object at 0x00000282BCC3C790>, 'subplot_name:ripple_result_tuple': <neptune.attributes.atoms.file.File object at 0x00000282BCC3C670>}, 'display_fn_name:plot_quantile_diffs': {'subplot_name:BestDir': <neptune.attributes.atoms.file.File object at 0x00000282BCC3CCA0>}, 'display_fn_name:plot_rank_order_epoch_inst_fr_result_tuples': {'subplot_name:Lap': {'subplotsubplot_name:raw': <neptune.attributes.atoms.file.File object at 0x00000282BCC3CDF0>, 'subplotsubplot_name:z_score_diff': <neptune.attributes.atoms.file.File object at 0x00000282BCC3CD00>}, 'subplot_name:Ripple': {'subplotsubplot_name:raw': <neptune.attributes.atoms.file.File object at 0x00000282BCC3CE50>, 'subplotsubplot_name:z_score_diff': <neptune.attributes.atoms.file.File object at 0x00000282BCC3CCD0>}}, 'display_fn_name:plot_rank_order_histograms': {'subplot_name:Ripple Most-likely Spearman Rho': <neptune.attributes.atoms.file.File object at 0x00000282BCC2E790>, 'subplot_name:Ripple Most-likely Z-scores': <neptune.attributes.atoms.file.File object at 0x00000282BCC2E7F0>, 'subplot_name:Ripple Z-scores': <neptune.attributes.atoms.file.File object at 0x00000282BCC2E8B0>, 'subplot_name:Ripple real correlations': <neptune.attributes.atoms.file.File object at 0x00000282BCC2E910>}, 'display_fn_name:running_and_replay_speeds_over_time': <neptune.attributes.atoms.file.File object at 0x00000282BCC2E970>, 'filter_name:maze1_any': {'lap_dir:any': {'display_fn_name:1d_placefields': <neptune.attributes.atoms.file.File object at 0x00000282BCC2E9D0>, 'display_fn_name:_display_1d_placefield_validations': <neptune.attributes.atoms.file.File object at 0x00000282BCC2EA30>, 'display_fn_name:_display_2d_placefield_result_plot_ratemaps_2D': <neptune.attributes.atoms.file.File object at 0x00000282BCC2EB50>, 'display_fn_name:plot_occupancy': {'plot_variable:OCCUPANCY': <neptune.attributes.atoms.file.File object at 0x00000282BCC2EBB0>}, 'display_fn_name:plot_single_track_firing_rate_compare': <neptune.attributes.atoms.file.File object at 0x00000282BCC2ED00>}}, 'filter_name:maze1_even': {'lap_dir:even': {'display_fn_name:1d_placefields': <neptune.attributes.atoms.file.File object at 0x00000282BCC2EC40>, 'display_fn_name:_display_1d_placefield_validations': <neptune.attributes.atoms.file.File object at 0x00000282BCC2ED60>, 'display_fn_name:_display_2d_placefield_result_plot_ratemaps_2D': <neptune.attributes.atoms.file.File object at 0x00000282BCC2EE80>, 'display_fn_name:plot_occupancy': {'plot_variable:OCCUPANCY': <neptune.attributes.atoms.file.File object at 0x00000282BCC2EEE0>}}}, 'filter_name:maze1_odd': {'lap_dir:odd': {'display_fn_name:1d_placefields': <neptune.attributes.atoms.file.File object at 0x00000282BCC2EF70>, 'display_fn_name:_display_1d_placefield_validations': <neptune.attributes.atoms.file.File object at 0x00000282BCC25070>, 'display_fn_name:_display_2d_placefield_result_plot_ratemaps_2D': <neptune.attributes.atoms.file.File object at 0x00000282BCC25190>, 'display_fn_name:plot_occupancy': {'plot_variable:OCCUPANCY': <neptune.attributes.atoms.file.File object at 0x00000282BCC251F0>}}}, 'filter_name:maze2_any': {'lap_dir:any': {'display_fn_name:1d_placefields': <neptune.attributes.atoms.file.File object at 0x00000282BCC25340>, 'display_fn_name:_display_1d_placefield_validations': <neptune.attributes.atoms.file.File object at 0x00000282BCC25280>, 'display_fn_name:_display_2d_placefield_result_plot_ratemaps_2D': <neptune.attributes.atoms.file.File object at 0x00000282BCC25460>, 'display_fn_name:plot_occupancy': {'plot_variable:OCCUPANCY': <neptune.attributes.atoms.file.File object at 0x00000282BCC254C0>}, 'display_fn_name:plot_single_track_firing_rate_compare': <neptune.attributes.atoms.file.File object at 0x00000282BCC25610>}}, 'filter_name:maze2_even': {'lap_dir:even': {'display_fn_name:1d_placefields': <neptune.attributes.atoms.file.File object at 0x00000282BCC25550>, 'display_fn_name:_display_1d_placefield_validations': <neptune.attributes.atoms.file.File object at 0x00000282BCC25670>, 'display_fn_name:_display_2d_placefield_result_plot_ratemaps_2D': <neptune.attributes.atoms.file.File object at 0x00000282BCC25790>, 'display_fn_name:plot_occupancy': {'plot_variable:OCCUPANCY': <neptune.attributes.atoms.file.File object at 0x00000282BCC257F0>}}}, 'filter_name:maze2_odd': {'lap_dir:odd': {'display_fn_name:1d_placefields': <neptune.attributes.atoms.file.File object at 0x00000282BCC25940>, 'display_fn_name:_display_1d_placefield_validations': <neptune.attributes.atoms.file.File object at 0x00000282BCC25880>, 'display_fn_name:_display_2d_placefield_result_plot_ratemaps_2D': <neptune.attributes.atoms.file.File object at 0x00000282BCC25A60>, 'display_fn_name:plot_occupancy': {'plot_variable:OCCUPANCY': <neptune.attributes.atoms.file.File object at 0x00000282BCC25AC0>}}}, 'filter_name:maze_any': {'lap_dir:any': {'display_fn_name:1d_placefields': <neptune.attributes.atoms.file.File object at 0x00000282BCC25C10>, 'display_fn_name:_display_1d_placefield_validations': <neptune.attributes.atoms.file.File object at 0x00000282BCC25B50>, 'display_fn_name:_display_2d_placefield_result_plot_ratemaps_2D': <neptune.attributes.atoms.file.File object at 0x00000282BCC25D30>, 'display_fn_name:plot_occupancy': {'plot_variable:OCCUPANCY': <neptune.attributes.atoms.file.File object at 0x00000282BCC25D90>}}}, 'filter_name:maze_even': {'lap_dir:even': {'display_fn_name:1d_placefields': <neptune.attributes.atoms.file.File object at 0x00000282BCC25EE0>, 'display_fn_name:_display_1d_placefield_validations': <neptune.attributes.atoms.file.File object at 0x00000282BCC25E20>, 'display_fn_name:_display_2d_placefield_result_plot_ratemaps_2D': <neptune.attributes.atoms.file.File object at 0x00000282BCC4D040>, 'display_fn_name:plot_occupancy': {'plot_variable:OCCUPANCY': <neptune.attributes.atoms.file.File object at 0x00000282BCC4D0A0>}}}, 'filter_name:maze_odd': {'lap_dir:odd': {'display_fn_name:1d_placefields': <neptune.attributes.atoms.file.File object at 0x00000282BCC4D1F0>, 'display_fn_name:_display_1d_placefield_validations': <neptune.attributes.atoms.file.File object at 0x00000282BCC4D130>, 'display_fn_name:_display_2d_placefield_result_plot_ratemaps_2D': <neptune.attributes.atoms.file.File object at 0x00000282BCC4D310>, 'display_fn_name:plot_occupancy': {'plot_variable:OCCUPANCY': <neptune.attributes.atoms.file.File object at 0x00000282BCC4D370>}}}, 'fn_name:long_short_firing_rate_indicies': {'display_fn_name:display_long_short_laps': <neptune.attributes.atoms.file.File object at 0x00000282BCC4D4C0>}}\n",
      "not a figure file! a dictionary instead probably: type(a_fig_file_field): <class 'dict'>\n",
      "sub_fig_full_input_key: \"display_fn_name:BatchPhoJonathanReplayFRC/plot_result_set:long_only/aclus:(13,20,27,29)\"\n",
      "a_fig_output_path: \"C:\\Users\\pho\\repos\\Spike3DWorkEnv\\Spike3D\\data\\neptune\\commander.pho\\PhoDibaLongShortUpdated\\figs\\pin01_one_11-02_19-28-0\\BatchPhoJonathanReplayFRC-long_only-(13,20,27,29).png\"\n",
      "\tdone.\n",
      "sub_fig_full_input_key: \"display_fn_name:BatchPhoJonathanReplayFRC/plot_result_set:long_only/aclus:(29,27,20,13)\"\n",
      "a_fig_output_path: \"C:\\Users\\pho\\repos\\Spike3DWorkEnv\\Spike3D\\data\\neptune\\commander.pho\\PhoDibaLongShortUpdated\\figs\\pin01_one_11-02_19-28-0\\BatchPhoJonathanReplayFRC-long_only-(29,27,20,13).png\"\n",
      "\tdone.\n",
      "sub_fig_full_input_key: \"display_fn_name:BatchPhoJonathanReplayFRC/plot_result_set:shared/page:1of2/aclus:(4,5,7,15,33,28,9,12,38,32,34,22,16,21,39,30,11,25,37,36)\"\n",
      "a_fig_output_path: \"C:\\Users\\pho\\repos\\Spike3DWorkEnv\\Spike3D\\data\\neptune\\commander.pho\\PhoDibaLongShortUpdated\\figs\\pin01_one_11-02_19-28-0\\BatchPhoJonathanReplayFRC-shared-1of2-(4,5,7,15,33,28,9,12,38,32,34,22,16,21,39,30,11,25,37,36).png\"\n"
     ]
    },
    {
     "data": {
      "application/vnd.jupyter.widget-view+json": {
       "model_id": "bbf2a53f1f764e11a7446b9170593f82",
       "version_major": 2,
       "version_minor": 0
      },
      "text/plain": [
       "Fetching file...: 0 [00:00, ?/s]"
      ]
     },
     "metadata": {},
     "output_type": "display_data"
    },
    {
     "name": "stdout",
     "output_type": "stream",
     "text": [
      "\tdone.\n",
      "sub_fig_full_input_key: \"display_fn_name:BatchPhoJonathanReplayFRC/plot_result_set:shared/page:1of4/aclus:(2,3,4,5,7,8,9,10,11,12)\"\n",
      "a_fig_output_path: \"C:\\Users\\pho\\repos\\Spike3DWorkEnv\\Spike3D\\data\\neptune\\commander.pho\\PhoDibaLongShortUpdated\\figs\\pin01_one_11-02_19-28-0\\BatchPhoJonathanReplayFRC-shared-1of4-(2,3,4,5,7,8,9,10,11,12).png\"\n",
      "\tdone.\n",
      "sub_fig_full_input_key: \"display_fn_name:BatchPhoJonathanReplayFRC/plot_result_set:shared/page:2of2/aclus:(2,3,8,10,14,17,18,19,23,26,31,35)\"\n",
      "a_fig_output_path: \"C:\\Users\\pho\\repos\\Spike3DWorkEnv\\Spike3D\\data\\neptune\\commander.pho\\PhoDibaLongShortUpdated\\figs\\pin01_one_11-02_19-28-0\\BatchPhoJonathanReplayFRC-shared-2of2-(2,3,8,10,14,17,18,19,23,26,31,35).png\"\n"
     ]
    },
    {
     "data": {
      "application/vnd.jupyter.widget-view+json": {
       "model_id": "52df2217524341d5aa91d8da0782152d",
       "version_major": 2,
       "version_minor": 0
      },
      "text/plain": [
       "Fetching file...: 0 [00:00, ?/s]"
      ]
     },
     "metadata": {},
     "output_type": "display_data"
    },
    {
     "name": "stdout",
     "output_type": "stream",
     "text": [
      "\tdone.\n",
      "sub_fig_full_input_key: \"display_fn_name:BatchPhoJonathanReplayFRC/plot_result_set:shared/page:2of4/aclus:(14,15,16,17,18,19,21,22,23,25)\"\n",
      "a_fig_output_path: \"C:\\Users\\pho\\repos\\Spike3DWorkEnv\\Spike3D\\data\\neptune\\commander.pho\\PhoDibaLongShortUpdated\\figs\\pin01_one_11-02_19-28-0\\BatchPhoJonathanReplayFRC-shared-2of4-(14,15,16,17,18,19,21,22,23,25).png\"\n",
      "\tdone.\n",
      "sub_fig_full_input_key: \"display_fn_name:BatchPhoJonathanReplayFRC/plot_result_set:shared/page:3of4/aclus:(26,28,30,31,32,33,34,35,36,37)\"\n",
      "a_fig_output_path: \"C:\\Users\\pho\\repos\\Spike3DWorkEnv\\Spike3D\\data\\neptune\\commander.pho\\PhoDibaLongShortUpdated\\figs\\pin01_one_11-02_19-28-0\\BatchPhoJonathanReplayFRC-shared-3of4-(26,28,30,31,32,33,34,35,36,37).png\"\n",
      "\tdone.\n",
      "sub_fig_full_input_key: \"display_fn_name:BatchPhoJonathanReplayFRC/plot_result_set:shared/page:4of4/aclus:(38,39)\"\n",
      "a_fig_output_path: \"C:\\Users\\pho\\repos\\Spike3DWorkEnv\\Spike3D\\data\\neptune\\commander.pho\\PhoDibaLongShortUpdated\\figs\\pin01_one_11-02_19-28-0\\BatchPhoJonathanReplayFRC-shared-4of4-(38,39).png\"\n",
      "\tdone.\n",
      "sub_fig_full_input_key: \"display_fn_name:BatchPhoJonathanReplayFRC/plot_result_set:short_only/aclus:(6,24)\"\n",
      "a_fig_output_path: \"C:\\Users\\pho\\repos\\Spike3DWorkEnv\\Spike3D\\data\\neptune\\commander.pho\\PhoDibaLongShortUpdated\\figs\\pin01_one_11-02_19-28-0\\BatchPhoJonathanReplayFRC-short_only-(6,24).png\"\n",
      "\tdone.\n",
      "a_parsed_structure: {'display_fn_name:BatchPhoJonathanReplayFRC': {'plot_result_set:long_only': {'aclus:(12,14,17,25,29)': <neptune.attributes.atoms.file.File object at 0x00000282BD63B340>, 'aclus:(29,14,12,25,17)': <neptune.attributes.atoms.file.File object at 0x00000282BD63B1F0>}, 'plot_result_set:shared': {'page:1of2': {'aclus:(21,9,7,23,33,32,28,10,18,3,11,6,8,5,26,20,19,24,31,22)': <neptune.attributes.atoms.file.File object at 0x00000282BD622B80>}, 'page:1of3': {'aclus:(2,3,4,5,6,7,8,9,10,11)': <neptune.attributes.atoms.file.File object at 0x00000282BD622D30>}, 'page:2of2': {'aclus:(15,2,4,13,16,27,35,36)': <neptune.attributes.atoms.file.File object at 0x00000282BD622E20>}, 'page:2of3': {'aclus:(13,15,16,18,19,20,21,22,23,24)': <neptune.attributes.atoms.file.File object at 0x00000282BD622F10>}, 'page:3of3': {'aclus:(26,27,28,31,32,33,35,36)': <neptune.attributes.atoms.file.File object at 0x00000282BD622F40>}}, 'plot_result_set:short_only': {'aclus:(30,34)': <neptune.attributes.atoms.file.File object at 0x00000282BD6971C0>}}, 'display_fn_name:_display_grid_bin_bounds_validation': <neptune.attributes.atoms.file.File object at 0x00000282BD697070>, 'display_fn_name:bidir_track_remap': {'subplot_name:Track Remapping': <neptune.attributes.atoms.file.File object at 0x00000282BD6971F0>}, 'display_fn_name:directional_merged_pf_decoded_epochs': {'decoded_epochs:Laps': {'Marginal:Direction': {'t_bin:0.25': <neptune.attributes.atoms.file.File object at 0x00000282BD697250>}, 'Marginal:TrackID': {'t_bin:0.25': <neptune.attributes.atoms.file.File object at 0x00000282BD6974C0>}}, 'decoded_epochs:Ripple': {'Marginal:Direction': {'t_bin:0.025': <neptune.attributes.atoms.file.File object at 0x00000282BD697310>}, 'Marginal:TrackID': {'t_bin:0.025': <neptune.attributes.atoms.file.File object at 0x00000282BD6A64C0>}}}, 'display_fn_name:display_long_short_laps': <neptune.attributes.atoms.file.File object at 0x00000282BD6A65B0>, 'display_fn_name:display_short_long_pf1D_comparison': {'track:long': <neptune.attributes.atoms.file.File object at 0x00000282BD6A64F0>, 'track:short': <neptune.attributes.atoms.file.File object at 0x00000282BD6A6610>}, 'display_fn_name:plot_all_epoch_bins_marginal_predictions': {'subplot_name:Laps all_epoch_binned Marginals': <neptune.attributes.atoms.file.File object at 0x00000282BD6A6490>, 'subplot_name:Ripple all_epoch_binned Marginals': <neptune.attributes.atoms.file.File object at 0x00000282BD6A6E20>}, 'display_fn_name:plot_expected_vs_observed': {'x_variable:epoch_idx': {'variable:obs_exp_diff_ptp': <neptune.attributes.atoms.file.File object at 0x00000282BD6A6130>}}, 'display_fn_name:plot_histograms': {'subplot_name:laps_result_tuple': <neptune.attributes.atoms.file.File object at 0x00000282BD6A6190>, 'subplot_name:ripple_result_tuple': <neptune.attributes.atoms.file.File object at 0x00000282BD6A6070>}, 'display_fn_name:plot_quantile_diffs': {'subplot_name:BestDir': <neptune.attributes.atoms.file.File object at 0x00000282BD6A6850>}, 'display_fn_name:plot_rank_order_epoch_inst_fr_result_tuples': {'subplot_name:Lap': {'subplotsubplot_name:raw': <neptune.attributes.atoms.file.File object at 0x00000282BD6A6A60>, 'subplotsubplot_name:z_score_diff': <neptune.attributes.atoms.file.File object at 0x00000282BD6A6970>}, 'subplot_name:Ripple': {'subplotsubplot_name:raw': <neptune.attributes.atoms.file.File object at 0x00000282BD6A6A30>, 'subplotsubplot_name:z_score_diff': <neptune.attributes.atoms.file.File object at 0x00000282BD6A69D0>}}, 'display_fn_name:plot_rank_order_histograms': {'subplot_name:Ripple Most-likely Spearman Rho': <neptune.attributes.atoms.file.File object at 0x00000282BD687490>, 'subplot_name:Ripple Most-likely Z-scores': <neptune.attributes.atoms.file.File object at 0x00000282BD6874F0>, 'subplot_name:Ripple Z-scores': <neptune.attributes.atoms.file.File object at 0x00000282BD6875B0>, 'subplot_name:Ripple real correlations': <neptune.attributes.atoms.file.File object at 0x00000282BD687610>}, 'display_fn_name:running_and_replay_speeds_over_time': <neptune.attributes.atoms.file.File object at 0x00000282BD687670>, 'filter_name:maze1_any': {'lap_dir:any': {'display_fn_name:1d_placefields': <neptune.attributes.atoms.file.File object at 0x00000282BD6876D0>, 'display_fn_name:_display_1d_placefield_validations': <neptune.attributes.atoms.file.File object at 0x00000282BD687730>, 'display_fn_name:_display_2d_placefield_result_plot_ratemaps_2D': <neptune.attributes.atoms.file.File object at 0x00000282BD687850>, 'display_fn_name:plot_occupancy': {'plot_variable:OCCUPANCY': <neptune.attributes.atoms.file.File object at 0x00000282BD6878B0>}, 'display_fn_name:plot_single_track_firing_rate_compare': <neptune.attributes.atoms.file.File object at 0x00000282BD687A00>}}, 'filter_name:maze1_even': {'lap_dir:even': {'display_fn_name:1d_placefields': <neptune.attributes.atoms.file.File object at 0x00000282BD687940>, 'display_fn_name:_display_1d_placefield_validations': <neptune.attributes.atoms.file.File object at 0x00000282BD687A60>, 'display_fn_name:_display_2d_placefield_result_plot_ratemaps_2D': <neptune.attributes.atoms.file.File object at 0x00000282BD687B80>, 'display_fn_name:plot_occupancy': {'plot_variable:OCCUPANCY': <neptune.attributes.atoms.file.File object at 0x00000282BD687BE0>}}}, 'filter_name:maze1_odd': {'lap_dir:odd': {'display_fn_name:1d_placefields': <neptune.attributes.atoms.file.File object at 0x00000282BD687D30>, 'display_fn_name:_display_1d_placefield_validations': <neptune.attributes.atoms.file.File object at 0x00000282BD687C70>, 'display_fn_name:_display_2d_placefield_result_plot_ratemaps_2D': <neptune.attributes.atoms.file.File object at 0x00000282BD687E50>, 'display_fn_name:plot_occupancy': {'plot_variable:OCCUPANCY': <neptune.attributes.atoms.file.File object at 0x00000282BD687EB0>}}}, 'filter_name:maze2_any': {'lap_dir:any': {'display_fn_name:1d_placefields': <neptune.attributes.atoms.file.File object at 0x00000282BD687F40>, 'display_fn_name:_display_1d_placefield_validations': <neptune.attributes.atoms.file.File object at 0x00000282BD689040>, 'display_fn_name:_display_2d_placefield_result_plot_ratemaps_2D': <neptune.attributes.atoms.file.File object at 0x00000282BD689160>, 'display_fn_name:plot_occupancy': {'plot_variable:OCCUPANCY': <neptune.attributes.atoms.file.File object at 0x00000282BD6891C0>}, 'display_fn_name:plot_single_track_firing_rate_compare': <neptune.attributes.atoms.file.File object at 0x00000282BD689310>}}, 'filter_name:maze2_even': {'lap_dir:even': {'display_fn_name:1d_placefields': <neptune.attributes.atoms.file.File object at 0x00000282BD689250>, 'display_fn_name:_display_1d_placefield_validations': <neptune.attributes.atoms.file.File object at 0x00000282BD689370>, 'display_fn_name:_display_2d_placefield_result_plot_ratemaps_2D': <neptune.attributes.atoms.file.File object at 0x00000282BD689490>, 'display_fn_name:plot_occupancy': {'plot_variable:OCCUPANCY': <neptune.attributes.atoms.file.File object at 0x00000282BD6894F0>}}}, 'filter_name:maze2_odd': {'lap_dir:odd': {'display_fn_name:1d_placefields': <neptune.attributes.atoms.file.File object at 0x00000282BD689640>, 'display_fn_name:_display_1d_placefield_validations': <neptune.attributes.atoms.file.File object at 0x00000282BD689580>, 'display_fn_name:_display_2d_placefield_result_plot_ratemaps_2D': <neptune.attributes.atoms.file.File object at 0x00000282BD689760>, 'display_fn_name:plot_occupancy': {'plot_variable:OCCUPANCY': <neptune.attributes.atoms.file.File object at 0x00000282BD6897C0>}}}, 'filter_name:maze_any': {'lap_dir:any': {'display_fn_name:1d_placefields': <neptune.attributes.atoms.file.File object at 0x00000282BD689910>, 'display_fn_name:_display_1d_placefield_validations': <neptune.attributes.atoms.file.File object at 0x00000282BD689850>, 'display_fn_name:_display_2d_placefield_result_plot_ratemaps_2D': <neptune.attributes.atoms.file.File object at 0x00000282BD689A30>, 'display_fn_name:plot_occupancy': {'plot_variable:OCCUPANCY': <neptune.attributes.atoms.file.File object at 0x00000282BD689A90>}}}, 'filter_name:maze_even': {'lap_dir:even': {'display_fn_name:1d_placefields': <neptune.attributes.atoms.file.File object at 0x00000282BD689BE0>, 'display_fn_name:_display_1d_placefield_validations': <neptune.attributes.atoms.file.File object at 0x00000282BD689B20>, 'display_fn_name:_display_2d_placefield_result_plot_ratemaps_2D': <neptune.attributes.atoms.file.File object at 0x00000282BD689D00>, 'display_fn_name:plot_occupancy': {'plot_variable:OCCUPANCY': <neptune.attributes.atoms.file.File object at 0x00000282BD689D60>}}}, 'filter_name:maze_odd': {'lap_dir:odd': {'display_fn_name:1d_placefields': <neptune.attributes.atoms.file.File object at 0x00000282BD689EB0>, 'display_fn_name:_display_1d_placefield_validations': <neptune.attributes.atoms.file.File object at 0x00000282BD689DF0>, 'display_fn_name:_display_2d_placefield_result_plot_ratemaps_2D': <neptune.attributes.atoms.file.File object at 0x00000282BD689FD0>, 'display_fn_name:plot_occupancy': {'plot_variable:OCCUPANCY': <neptune.attributes.atoms.file.File object at 0x00000282BD672070>}}}, 'fn_name:long_short_firing_rate_indicies': {'display_fn_name:display_long_short_laps': <neptune.attributes.atoms.file.File object at 0x00000282BD6721C0>}}\n",
      "not a figure file! a dictionary instead probably: type(a_fig_file_field): <class 'dict'>\n",
      "sub_fig_full_input_key: \"display_fn_name:BatchPhoJonathanReplayFRC/plot_result_set:long_only/aclus:(12,14,17,25,29)\"\n",
      "a_fig_output_path: \"C:\\Users\\pho\\repos\\Spike3DWorkEnv\\Spike3D\\data\\neptune\\commander.pho\\PhoDibaLongShortUpdated\\figs\\vvp01_two_2006-4-09_16-40-54\\BatchPhoJonathanReplayFRC-long_only-(12,14,17,25,29).png\"\n",
      "\tdone.\n",
      "sub_fig_full_input_key: \"display_fn_name:BatchPhoJonathanReplayFRC/plot_result_set:long_only/aclus:(29,14,12,25,17)\"\n",
      "a_fig_output_path: \"C:\\Users\\pho\\repos\\Spike3DWorkEnv\\Spike3D\\data\\neptune\\commander.pho\\PhoDibaLongShortUpdated\\figs\\vvp01_two_2006-4-09_16-40-54\\BatchPhoJonathanReplayFRC-long_only-(29,14,12,25,17).png\"\n",
      "\tdone.\n",
      "sub_fig_full_input_key: \"display_fn_name:BatchPhoJonathanReplayFRC/plot_result_set:shared/page:1of2/aclus:(21,9,7,23,33,32,28,10,18,3,11,6,8,5,26,20,19,24,31,22)\"\n",
      "a_fig_output_path: \"C:\\Users\\pho\\repos\\Spike3DWorkEnv\\Spike3D\\data\\neptune\\commander.pho\\PhoDibaLongShortUpdated\\figs\\vvp01_two_2006-4-09_16-40-54\\BatchPhoJonathanReplayFRC-shared-1of2-(21,9,7,23,33,32,28,10,18,3,11,6,8,5,26,20,19,24,31,22).png\"\n"
     ]
    },
    {
     "data": {
      "application/vnd.jupyter.widget-view+json": {
       "model_id": "bd54d6440bdf42499ed509cdb185b2d1",
       "version_major": 2,
       "version_minor": 0
      },
      "text/plain": [
       "Fetching file...: 0 [00:00, ?/s]"
      ]
     },
     "metadata": {},
     "output_type": "display_data"
    },
    {
     "name": "stdout",
     "output_type": "stream",
     "text": [
      "\tdone.\n",
      "sub_fig_full_input_key: \"display_fn_name:BatchPhoJonathanReplayFRC/plot_result_set:shared/page:1of3/aclus:(2,3,4,5,6,7,8,9,10,11)\"\n",
      "a_fig_output_path: \"C:\\Users\\pho\\repos\\Spike3DWorkEnv\\Spike3D\\data\\neptune\\commander.pho\\PhoDibaLongShortUpdated\\figs\\vvp01_two_2006-4-09_16-40-54\\BatchPhoJonathanReplayFRC-shared-1of3-(2,3,4,5,6,7,8,9,10,11).png\"\n",
      "\tdone.\n",
      "sub_fig_full_input_key: \"display_fn_name:BatchPhoJonathanReplayFRC/plot_result_set:shared/page:2of2/aclus:(15,2,4,13,16,27,35,36)\"\n",
      "a_fig_output_path: \"C:\\Users\\pho\\repos\\Spike3DWorkEnv\\Spike3D\\data\\neptune\\commander.pho\\PhoDibaLongShortUpdated\\figs\\vvp01_two_2006-4-09_16-40-54\\BatchPhoJonathanReplayFRC-shared-2of2-(15,2,4,13,16,27,35,36).png\"\n"
     ]
    },
    {
     "data": {
      "application/vnd.jupyter.widget-view+json": {
       "model_id": "8b8fc056c1ae4ce7ada652542fb00712",
       "version_major": 2,
       "version_minor": 0
      },
      "text/plain": [
       "Fetching file...: 0 [00:00, ?/s]"
      ]
     },
     "metadata": {},
     "output_type": "display_data"
    },
    {
     "name": "stdout",
     "output_type": "stream",
     "text": [
      "\tdone.\n",
      "sub_fig_full_input_key: \"display_fn_name:BatchPhoJonathanReplayFRC/plot_result_set:shared/page:2of3/aclus:(13,15,16,18,19,20,21,22,23,24)\"\n",
      "a_fig_output_path: \"C:\\Users\\pho\\repos\\Spike3DWorkEnv\\Spike3D\\data\\neptune\\commander.pho\\PhoDibaLongShortUpdated\\figs\\vvp01_two_2006-4-09_16-40-54\\BatchPhoJonathanReplayFRC-shared-2of3-(13,15,16,18,19,20,21,22,23,24).png\"\n"
     ]
    },
    {
     "data": {
      "application/vnd.jupyter.widget-view+json": {
       "model_id": "7835a88a4255477b953402fa1a52069f",
       "version_major": 2,
       "version_minor": 0
      },
      "text/plain": [
       "Fetching file...: 0 [00:00, ?/s]"
      ]
     },
     "metadata": {},
     "output_type": "display_data"
    },
    {
     "name": "stdout",
     "output_type": "stream",
     "text": [
      "\tdone.\n",
      "sub_fig_full_input_key: \"display_fn_name:BatchPhoJonathanReplayFRC/plot_result_set:shared/page:3of3/aclus:(26,27,28,31,32,33,35,36)\"\n",
      "a_fig_output_path: \"C:\\Users\\pho\\repos\\Spike3DWorkEnv\\Spike3D\\data\\neptune\\commander.pho\\PhoDibaLongShortUpdated\\figs\\vvp01_two_2006-4-09_16-40-54\\BatchPhoJonathanReplayFRC-shared-3of3-(26,27,28,31,32,33,35,36).png\"\n",
      "\tdone.\n",
      "sub_fig_full_input_key: \"display_fn_name:BatchPhoJonathanReplayFRC/plot_result_set:short_only/aclus:(30,34)\"\n",
      "a_fig_output_path: \"C:\\Users\\pho\\repos\\Spike3DWorkEnv\\Spike3D\\data\\neptune\\commander.pho\\PhoDibaLongShortUpdated\\figs\\vvp01_two_2006-4-09_16-40-54\\BatchPhoJonathanReplayFRC-short_only-(30,34).png\"\n",
      "\tdone.\n",
      "a_parsed_structure: {'display_fn_name:_display_grid_bin_bounds_validation': <neptune.attributes.atoms.file.File object at 0x00000282BD6A75E0>, 'display_fn_name:bidir_track_remap': {'subplot_name:Track Remapping': <neptune.attributes.atoms.file.File object at 0x00000282BD6A7640>}, 'display_fn_name:directional_merged_pf_decoded_epochs': {'decoded_epochs:Laps': {'Marginal:Direction': {'t_bin:0.25': <neptune.attributes.atoms.file.File object at 0x00000282BD6A7820>}, 'Marginal:TrackID': {'t_bin:0.25': <neptune.attributes.atoms.file.File object at 0x00000282BD6A7910>}}, 'decoded_epochs:Ripple': {'Marginal:Direction': {'t_bin:0.025': <neptune.attributes.atoms.file.File object at 0x00000282BD680220>}, 'Marginal:TrackID': {'t_bin:0.025': <neptune.attributes.atoms.file.File object at 0x00000282BD680670>}}}, 'display_fn_name:display_long_short_laps': <neptune.attributes.atoms.file.File object at 0x00000282BD680370>, 'display_fn_name:display_short_long_pf1D_comparison': {'track:long': <neptune.attributes.atoms.file.File object at 0x00000282BD67E400>, 'track:short': <neptune.attributes.atoms.file.File object at 0x00000282BD67E070>}, 'display_fn_name:plot_all_epoch_bins_marginal_predictions': {'subplot_name:Laps all_epoch_binned Marginals': <neptune.attributes.atoms.file.File object at 0x00000282BD67E430>, 'subplot_name:Ripple all_epoch_binned Marginals': <neptune.attributes.atoms.file.File object at 0x00000282BD67E520>}, 'display_fn_name:plot_expected_vs_observed': {'x_variable:epoch_idx': {'variable:obs_exp_diff_ptp': <neptune.attributes.atoms.file.File object at 0x00000282BD67E5E0>}}, 'display_fn_name:plot_histograms': {'subplot_name:laps_result_tuple': <neptune.attributes.atoms.file.File object at 0x00000282BD67E580>, 'subplot_name:ripple_result_tuple': <neptune.attributes.atoms.file.File object at 0x00000282BD674400>}, 'display_fn_name:plot_quantile_diffs': {'subplot_name:BestDir': <neptune.attributes.atoms.file.File object at 0x00000282BD674130>}, 'display_fn_name:plot_rank_order_epoch_inst_fr_result_tuples': {'subplot_name:Lap': {'subplotsubplot_name:raw': <neptune.attributes.atoms.file.File object at 0x00000282BD342070>, 'subplotsubplot_name:z_score_diff': <neptune.attributes.atoms.file.File object at 0x00000282BD342130>}, 'subplot_name:Ripple': {'subplotsubplot_name:raw': <neptune.attributes.atoms.file.File object at 0x00000282BD342250>, 'subplotsubplot_name:z_score_diff': <neptune.attributes.atoms.file.File object at 0x00000282BD3422B0>}}, 'display_fn_name:plot_rank_order_histograms': {'subplot_name:Ripple Most-likely Spearman Rho': <neptune.attributes.atoms.file.File object at 0x00000282BD342370>, 'subplot_name:Ripple Most-likely Z-scores': <neptune.attributes.atoms.file.File object at 0x00000282BD3423D0>, 'subplot_name:Ripple Z-scores': <neptune.attributes.atoms.file.File object at 0x00000282BD342400>, 'subplot_name:Ripple real correlations': <neptune.attributes.atoms.file.File object at 0x00000282BD3424F0>}, 'display_fn_name:running_and_replay_speeds_over_time': <neptune.attributes.atoms.file.File object at 0x00000282BD342550>, 'filter_name:maze1_any': {'lap_dir:any': {'display_fn_name:1d_placefields': <neptune.attributes.atoms.file.File object at 0x00000282BD342640>, 'display_fn_name:_display_1d_placefield_validations': <neptune.attributes.atoms.file.File object at 0x00000282BD3425E0>, 'display_fn_name:_display_2d_placefield_result_plot_ratemaps_2D': <neptune.attributes.atoms.file.File object at 0x00000282BD342730>, 'display_fn_name:plot_occupancy': {'plot_variable:OCCUPANCY': <neptune.attributes.atoms.file.File object at 0x00000282BD342790>}, 'display_fn_name:plot_single_track_firing_rate_compare': <neptune.attributes.atoms.file.File object at 0x00000282BD330E50>}}, 'filter_name:maze1_even': {'lap_dir:even': {'display_fn_name:1d_placefields': <neptune.attributes.atoms.file.File object at 0x00000282BD67F4F0>, 'display_fn_name:_display_1d_placefield_validations': <neptune.attributes.atoms.file.File object at 0x00000282BD67F550>, 'display_fn_name:_display_2d_placefield_result_plot_ratemaps_2D': <neptune.attributes.atoms.file.File object at 0x00000282BD67F670>, 'display_fn_name:plot_occupancy': {'plot_variable:OCCUPANCY': <neptune.attributes.atoms.file.File object at 0x00000282BD67F6D0>}}}, 'filter_name:maze1_odd': {'lap_dir:odd': {'display_fn_name:1d_placefields': <neptune.attributes.atoms.file.File object at 0x00000282BD67F820>, 'display_fn_name:_display_1d_placefield_validations': <neptune.attributes.atoms.file.File object at 0x00000282BD67F760>, 'display_fn_name:_display_2d_placefield_result_plot_ratemaps_2D': <neptune.attributes.atoms.file.File object at 0x00000282BD67F940>, 'display_fn_name:plot_occupancy': {'plot_variable:OCCUPANCY': <neptune.attributes.atoms.file.File object at 0x00000282BD67F9A0>}}}, 'filter_name:maze2_any': {'lap_dir:any': {'display_fn_name:1d_placefields': <neptune.attributes.atoms.file.File object at 0x00000282BD67FAF0>, 'display_fn_name:_display_1d_placefield_validations': <neptune.attributes.atoms.file.File object at 0x00000282BD67FA30>, 'display_fn_name:_display_2d_placefield_result_plot_ratemaps_2D': <neptune.attributes.atoms.file.File object at 0x00000282BD67FC10>, 'display_fn_name:plot_occupancy': {'plot_variable:OCCUPANCY': <neptune.attributes.atoms.file.File object at 0x00000282BD67FC70>}, 'display_fn_name:plot_single_track_firing_rate_compare': <neptune.attributes.atoms.file.File object at 0x00000282BD67FDC0>}}, 'filter_name:maze2_even': {'lap_dir:even': {'display_fn_name:1d_placefields': <neptune.attributes.atoms.file.File object at 0x00000282BD67FD00>, 'display_fn_name:_display_1d_placefield_validations': <neptune.attributes.atoms.file.File object at 0x00000282BD67FE20>, 'display_fn_name:_display_2d_placefield_result_plot_ratemaps_2D': <neptune.attributes.atoms.file.File object at 0x00000282BD67FF40>, 'display_fn_name:plot_occupancy': {'plot_variable:OCCUPANCY': <neptune.attributes.atoms.file.File object at 0x00000282BD67FFA0>}}}, 'filter_name:maze2_odd': {'lap_dir:odd': {'display_fn_name:1d_placefields': <neptune.attributes.atoms.file.File object at 0x00000282BD67F280>, 'display_fn_name:_display_1d_placefield_validations': <neptune.attributes.atoms.file.File object at 0x00000282BD67F3D0>, 'display_fn_name:_display_2d_placefield_result_plot_ratemaps_2D': <neptune.attributes.atoms.file.File object at 0x00000282BD67F1C0>, 'display_fn_name:plot_occupancy': {'plot_variable:OCCUPANCY': <neptune.attributes.atoms.file.File object at 0x00000282BD67F370>}}}, 'filter_name:maze_any': {'lap_dir:any': {'display_fn_name:1d_placefields': <neptune.attributes.atoms.file.File object at 0x00000282BD67F130>, 'display_fn_name:_display_1d_placefield_validations': <neptune.attributes.atoms.file.File object at 0x00000282BD349490>, 'display_fn_name:_display_2d_placefield_result_plot_ratemaps_2D': <neptune.attributes.atoms.file.File object at 0x00000282BD3495B0>, 'display_fn_name:plot_occupancy': {'plot_variable:OCCUPANCY': <neptune.attributes.atoms.file.File object at 0x00000282BD349610>}}}, 'filter_name:maze_even': {'lap_dir:even': {'display_fn_name:1d_placefields': <neptune.attributes.atoms.file.File object at 0x00000282BD349760>, 'display_fn_name:_display_1d_placefield_validations': <neptune.attributes.atoms.file.File object at 0x00000282BD3496A0>, 'display_fn_name:_display_2d_placefield_result_plot_ratemaps_2D': <neptune.attributes.atoms.file.File object at 0x00000282BD349880>, 'display_fn_name:plot_occupancy': {'plot_variable:OCCUPANCY': <neptune.attributes.atoms.file.File object at 0x00000282BD3498E0>}}}, 'filter_name:maze_odd': {'lap_dir:odd': {'display_fn_name:1d_placefields': <neptune.attributes.atoms.file.File object at 0x00000282BD349A30>, 'display_fn_name:_display_1d_placefield_validations': <neptune.attributes.atoms.file.File object at 0x00000282BD349970>, 'display_fn_name:_display_2d_placefield_result_plot_ratemaps_2D': <neptune.attributes.atoms.file.File object at 0x00000282BD349B50>, 'display_fn_name:plot_occupancy': {'plot_variable:OCCUPANCY': <neptune.attributes.atoms.file.File object at 0x00000282BD349BB0>}}}, 'fn_name:long_short_firing_rate_indicies': {'display_fn_name:display_long_short_laps': <neptune.attributes.atoms.file.File object at 0x00000282BD349D00>}}\n",
      "a_parsed_structure: {'display_fn_name:_display_grid_bin_bounds_validation': <neptune.attributes.atoms.file.File object at 0x00000282BD3428E0>, 'display_fn_name:bidir_track_remap': {'subplot_name:Track Remapping': <neptune.attributes.atoms.file.File object at 0x00000282BD3427F0>}, 'display_fn_name:directional_merged_pf_decoded_epochs': {'decoded_epochs:Laps': {'Marginal:Direction': {'t_bin:0.25': <neptune.attributes.atoms.file.File object at 0x00000282BD3429D0>}, 'Marginal:TrackID': {'t_bin:0.25': <neptune.attributes.atoms.file.File object at 0x00000282BD342AC0>}}, 'decoded_epochs:Ripple': {'Marginal:Direction': {'t_bin:0.025': <neptune.attributes.atoms.file.File object at 0x00000282BD330070>}, 'Marginal:TrackID': {'t_bin:0.025': <neptune.attributes.atoms.file.File object at 0x00000282BD330E80>}}}, 'display_fn_name:display_long_short_laps': <neptune.attributes.atoms.file.File object at 0x00000282BD330160>, 'display_fn_name:display_short_long_pf1D_comparison': {'track:long': <neptune.attributes.atoms.file.File object at 0x00000282BD330DC0>, 'track:short': <neptune.attributes.atoms.file.File object at 0x00000282BD330F70>}, 'display_fn_name:plot_all_epoch_bins_marginal_predictions': {'subplot_name:Laps all_epoch_binned Marginals': <neptune.attributes.atoms.file.File object at 0x00000282BD352070>, 'subplot_name:Ripple all_epoch_binned Marginals': <neptune.attributes.atoms.file.File object at 0x00000282BD3520A0>}, 'display_fn_name:plot_expected_vs_observed': {'x_variable:epoch_idx': {'variable:obs_exp_diff_ptp': <neptune.attributes.atoms.file.File object at 0x00000282BD352160>}}, 'display_fn_name:plot_histograms': {'subplot_name:laps_result_tuple': <neptune.attributes.atoms.file.File object at 0x00000282BD3521C0>, 'subplot_name:ripple_result_tuple': <neptune.attributes.atoms.file.File object at 0x00000282BD352250>}, 'display_fn_name:plot_quantile_diffs': {'subplot_name:BestDir': <neptune.attributes.atoms.file.File object at 0x00000282BD3523A0>}, 'display_fn_name:plot_rank_order_epoch_inst_fr_result_tuples': {'subplot_name:Lap': {'subplotsubplot_name:raw': <neptune.attributes.atoms.file.File object at 0x00000282BD352490>, 'subplotsubplot_name:z_score_diff': <neptune.attributes.atoms.file.File object at 0x00000282BD3524C0>}, 'subplot_name:Ripple': {'subplotsubplot_name:raw': <neptune.attributes.atoms.file.File object at 0x00000282BD3525E0>, 'subplotsubplot_name:z_score_diff': <neptune.attributes.atoms.file.File object at 0x00000282BD3377F0>}}, 'display_fn_name:plot_rank_order_histograms': {'subplot_name:Ripple Most-likely Spearman Rho': <neptune.attributes.atoms.file.File object at 0x00000282BD337FA0>, 'subplot_name:Ripple Most-likely Z-scores': <neptune.attributes.atoms.file.File object at 0x00000282BD3376A0>, 'subplot_name:Ripple Z-scores': <neptune.attributes.atoms.file.File object at 0x00000282BD3490D0>, 'subplot_name:Ripple real correlations': <neptune.attributes.atoms.file.File object at 0x00000282BD3491F0>}, 'display_fn_name:running_and_replay_speeds_over_time': <neptune.attributes.atoms.file.File object at 0x00000282BD349250>, 'filter_name:maze1_any': {'lap_dir:any': {'display_fn_name:1d_placefields': <neptune.attributes.atoms.file.File object at 0x00000282BD3492B0>, 'display_fn_name:_display_1d_placefield_validations': <neptune.attributes.atoms.file.File object at 0x00000282BD349310>, 'display_fn_name:_display_2d_placefield_result_plot_ratemaps_2D': <neptune.attributes.atoms.file.File object at 0x00000282BD349400>, 'display_fn_name:plot_occupancy': {'plot_variable:OCCUPANCY': <neptune.attributes.atoms.file.File object at 0x00000282BD349070>}, 'display_fn_name:plot_single_track_firing_rate_compare': <neptune.attributes.atoms.file.File object at 0x00000282BD3593D0>}}, 'filter_name:maze1_even': {'lap_dir:even': {'display_fn_name:1d_placefields': <neptune.attributes.atoms.file.File object at 0x00000282BD359310>, 'display_fn_name:_display_1d_placefield_validations': <neptune.attributes.atoms.file.File object at 0x00000282BD359430>, 'display_fn_name:_display_2d_placefield_result_plot_ratemaps_2D': <neptune.attributes.atoms.file.File object at 0x00000282BD359550>, 'display_fn_name:plot_occupancy': {'plot_variable:OCCUPANCY': <neptune.attributes.atoms.file.File object at 0x00000282BD3595B0>}}}, 'filter_name:maze1_odd': {'lap_dir:odd': {'display_fn_name:1d_placefields': <neptune.attributes.atoms.file.File object at 0x00000282BD359700>, 'display_fn_name:_display_1d_placefield_validations': <neptune.attributes.atoms.file.File object at 0x00000282BD359640>, 'display_fn_name:_display_2d_placefield_result_plot_ratemaps_2D': <neptune.attributes.atoms.file.File object at 0x00000282BD359820>, 'display_fn_name:plot_occupancy': {'plot_variable:OCCUPANCY': <neptune.attributes.atoms.file.File object at 0x00000282BD359880>}}}, 'filter_name:maze2_any': {'lap_dir:any': {'display_fn_name:1d_placefields': <neptune.attributes.atoms.file.File object at 0x00000282BD3599D0>, 'display_fn_name:_display_1d_placefield_validations': <neptune.attributes.atoms.file.File object at 0x00000282BD359910>, 'display_fn_name:_display_2d_placefield_result_plot_ratemaps_2D': <neptune.attributes.atoms.file.File object at 0x00000282BD359AF0>, 'display_fn_name:plot_occupancy': {'plot_variable:OCCUPANCY': <neptune.attributes.atoms.file.File object at 0x00000282BD359B50>}, 'display_fn_name:plot_single_track_firing_rate_compare': <neptune.attributes.atoms.file.File object at 0x00000282BD359CA0>}}, 'filter_name:maze2_even': {'lap_dir:even': {'display_fn_name:1d_placefields': <neptune.attributes.atoms.file.File object at 0x00000282BD359BE0>, 'display_fn_name:_display_1d_placefield_validations': <neptune.attributes.atoms.file.File object at 0x00000282BD359D00>, 'display_fn_name:_display_2d_placefield_result_plot_ratemaps_2D': <neptune.attributes.atoms.file.File object at 0x00000282BD359E20>, 'display_fn_name:plot_occupancy': {'plot_variable:OCCUPANCY': <neptune.attributes.atoms.file.File object at 0x00000282BD359E80>}}}, 'filter_name:maze2_odd': {'lap_dir:odd': {'display_fn_name:1d_placefields': <neptune.attributes.atoms.file.File object at 0x00000282BD359FD0>, 'display_fn_name:_display_1d_placefield_validations': <neptune.attributes.atoms.file.File object at 0x00000282BD359F10>, 'display_fn_name:_display_2d_placefield_result_plot_ratemaps_2D': <neptune.attributes.atoms.file.File object at 0x00000282BD33F130>, 'display_fn_name:plot_occupancy': {'plot_variable:OCCUPANCY': <neptune.attributes.atoms.file.File object at 0x00000282BD33F190>}}}, 'filter_name:maze_any': {'lap_dir:any': {'display_fn_name:1d_placefields': <neptune.attributes.atoms.file.File object at 0x00000282BD33F2E0>, 'display_fn_name:_display_1d_placefield_validations': <neptune.attributes.atoms.file.File object at 0x00000282BD33F220>, 'display_fn_name:_display_2d_placefield_result_plot_ratemaps_2D': <neptune.attributes.atoms.file.File object at 0x00000282BD33F400>, 'display_fn_name:plot_occupancy': {'plot_variable:OCCUPANCY': <neptune.attributes.atoms.file.File object at 0x00000282BD33F460>}}}, 'filter_name:maze_even': {'lap_dir:even': {'display_fn_name:1d_placefields': <neptune.attributes.atoms.file.File object at 0x00000282BD33F5B0>, 'display_fn_name:_display_1d_placefield_validations': <neptune.attributes.atoms.file.File object at 0x00000282BD33F4F0>, 'display_fn_name:_display_2d_placefield_result_plot_ratemaps_2D': <neptune.attributes.atoms.file.File object at 0x00000282BD33F6D0>, 'display_fn_name:plot_occupancy': {'plot_variable:OCCUPANCY': <neptune.attributes.atoms.file.File object at 0x00000282BD33F730>}}}, 'filter_name:maze_odd': {'lap_dir:odd': {'display_fn_name:1d_placefields': <neptune.attributes.atoms.file.File object at 0x00000282BD33F880>, 'display_fn_name:_display_1d_placefield_validations': <neptune.attributes.atoms.file.File object at 0x00000282BD33F7C0>, 'display_fn_name:_display_2d_placefield_result_plot_ratemaps_2D': <neptune.attributes.atoms.file.File object at 0x00000282BD33F9A0>, 'display_fn_name:plot_occupancy': {'plot_variable:OCCUPANCY': <neptune.attributes.atoms.file.File object at 0x00000282BD33FA00>}}}, 'fn_name:long_short_firing_rate_indicies': {'display_fn_name:display_long_short_laps': <neptune.attributes.atoms.file.File object at 0x00000282BD33FB50>}}\n",
      "a_parsed_structure: {'display_fn_name:BatchPhoJonathanReplayFRC': {'plot_result_set:long_only': {'aclus:(6,19,20,23)': <neptune.attributes.atoms.file.File object at 0x00000282BD672A30>, 'aclus:(6,20,23,19)': <neptune.attributes.atoms.file.File object at 0x00000282BD681070>}, 'plot_result_set:shared': {'page:1of2': {'aclus:(27,37,22,34,33,32,13,21,25,15,10,16,9,31,5,18,12,35,17,8)': <neptune.attributes.atoms.file.File object at 0x00000282BD681250>}, 'page:1of4': {'aclus:(2,3,4,5,7,8,9,10,11,12)': <neptune.attributes.atoms.file.File object at 0x00000282BD681400>}, 'page:2of2': {'aclus:(4,11,7,2,3,14,24,26,28,30,38,39)': <neptune.attributes.atoms.file.File object at 0x00000282BD6814F0>}, 'page:2of4': {'aclus:(13,14,15,16,17,18,21,22,24,25)': <neptune.attributes.atoms.file.File object at 0x00000282BD6815E0>}, 'page:3of4': {'aclus:(26,27,28,30,31,32,33,34,35,37)': <neptune.attributes.atoms.file.File object at 0x00000282BD6816D0>}, 'page:4of4': {'aclus:(38,39)': <neptune.attributes.atoms.file.File object at 0x00000282BD6817C0>}}, 'plot_result_set:short_only': {'aclus:(29,36)': <neptune.attributes.atoms.file.File object at 0x00000282BD6818B0>}}, 'display_fn_name:_display_grid_bin_bounds_validation': <neptune.attributes.atoms.file.File object at 0x00000282BD6817F0>, 'display_fn_name:bidir_track_remap': {'subplot_name:Track Remapping': <neptune.attributes.atoms.file.File object at 0x00000282BD681970>}, 'display_fn_name:directional_merged_pf_decoded_epochs': {'decoded_epochs:Laps': {'Marginal:Direction': {'t_bin:0.25': <neptune.attributes.atoms.file.File object at 0x00000282BD6819D0>}, 'Marginal:TrackID': {'t_bin:0.25': <neptune.attributes.atoms.file.File object at 0x00000282BD681C40>}}, 'decoded_epochs:Ripple': {'Marginal:Direction': {'t_bin:0.025': <neptune.attributes.atoms.file.File object at 0x00000282BD681D30>}, 'Marginal:TrackID': {'t_bin:0.025': <neptune.attributes.atoms.file.File object at 0x00000282BD681E80>}}}, 'display_fn_name:display_long_short_laps': <neptune.attributes.atoms.file.File object at 0x00000282BD681F70>, 'display_fn_name:display_short_long_pf1D_comparison': {'track:long': <neptune.attributes.atoms.file.File object at 0x00000282BD681EB0>, 'track:short': <neptune.attributes.atoms.file.File object at 0x00000282BD681FD0>}, 'display_fn_name:plot_all_epoch_bins_marginal_predictions': {'subplot_name:Laps all_epoch_binned Marginals': <neptune.attributes.atoms.file.File object at 0x00000282BD67D0D0>, 'subplot_name:Ripple all_epoch_binned Marginals': <neptune.attributes.atoms.file.File object at 0x00000282BD67D130>}, 'display_fn_name:plot_expected_vs_observed': {'x_variable:epoch_idx': {'variable:obs_exp_diff_ptp': <neptune.attributes.atoms.file.File object at 0x00000282BD67D1F0>}}, 'display_fn_name:plot_histograms': {'subplot_name:laps_result_tuple': <neptune.attributes.atoms.file.File object at 0x00000282BD67D250>, 'subplot_name:ripple_result_tuple': <neptune.attributes.atoms.file.File object at 0x00000282BD67D370>}, 'display_fn_name:plot_quantile_diffs': {'subplot_name:BestDir': <neptune.attributes.atoms.file.File object at 0x00000282BD67D430>}, 'display_fn_name:plot_rank_order_epoch_inst_fr_result_tuples': {'subplot_name:Lap': {'subplotsubplot_name:raw': <neptune.attributes.atoms.file.File object at 0x00000282BD67D520>, 'subplotsubplot_name:z_score_diff': <neptune.attributes.atoms.file.File object at 0x00000282BD67D550>}, 'subplot_name:Ripple': {'subplotsubplot_name:raw': <neptune.attributes.atoms.file.File object at 0x00000282BD67D670>, 'subplotsubplot_name:z_score_diff': <neptune.attributes.atoms.file.File object at 0x00000282BD67D6D0>}}, 'display_fn_name:plot_rank_order_histograms': {'subplot_name:Ripple Most-likely Spearman Rho': <neptune.attributes.atoms.file.File object at 0x00000282BD67D700>, 'subplot_name:Ripple Most-likely Z-scores': <neptune.attributes.atoms.file.File object at 0x00000282BD67D7F0>, 'subplot_name:Ripple Z-scores': <neptune.attributes.atoms.file.File object at 0x00000282BD67D940>, 'subplot_name:Ripple real correlations': <neptune.attributes.atoms.file.File object at 0x00000282BD67D8E0>}, 'display_fn_name:running_and_replay_speeds_over_time': <neptune.attributes.atoms.file.File object at 0x00000282BD67D970>, 'filter_name:maze1_any': {'lap_dir:any': {'display_fn_name:1d_placefields': <neptune.attributes.atoms.file.File object at 0x00000282BD67D9D0>, 'display_fn_name:_display_1d_placefield_validations': <neptune.attributes.atoms.file.File object at 0x00000282BD67DA30>, 'display_fn_name:_display_2d_placefield_result_plot_ratemaps_2D': <neptune.attributes.atoms.file.File object at 0x00000282BD687430>, 'display_fn_name:plot_occupancy': {'plot_variable:OCCUPANCY': <neptune.attributes.atoms.file.File object at 0x00000282BD687070>}, 'display_fn_name:plot_single_track_firing_rate_compare': <neptune.attributes.atoms.file.File object at 0x00000282BD6979A0>}}, 'filter_name:maze1_even': {'lap_dir:even': {'display_fn_name:1d_placefields': <neptune.attributes.atoms.file.File object at 0x00000282BD6978E0>, 'display_fn_name:_display_1d_placefield_validations': <neptune.attributes.atoms.file.File object at 0x00000282BD697A00>, 'display_fn_name:_display_2d_placefield_result_plot_ratemaps_2D': <neptune.attributes.atoms.file.File object at 0x00000282BD697BE0>, 'display_fn_name:plot_occupancy': {'plot_variable:OCCUPANCY': <neptune.attributes.atoms.file.File object at 0x00000282BD697C40>}}}, 'filter_name:maze1_odd': {'lap_dir:odd': {'display_fn_name:1d_placefields': <neptune.attributes.atoms.file.File object at 0x00000282BD6974F0>, 'display_fn_name:_display_1d_placefield_validations': <neptune.attributes.atoms.file.File object at 0x00000282BD697A90>, 'display_fn_name:_display_2d_placefield_result_plot_ratemaps_2D': <neptune.attributes.atoms.file.File object at 0x00000282BD6976D0>, 'display_fn_name:plot_occupancy': {'plot_variable:OCCUPANCY': <neptune.attributes.atoms.file.File object at 0x00000282BD697730>}}}, 'filter_name:maze2_any': {'lap_dir:any': {'display_fn_name:1d_placefields': <neptune.attributes.atoms.file.File object at 0x00000282BD697640>, 'display_fn_name:_display_1d_placefield_validations': <neptune.attributes.atoms.file.File object at 0x00000282BD6977C0>, 'display_fn_name:_display_2d_placefield_result_plot_ratemaps_2D': <neptune.attributes.atoms.file.File object at 0x00000282BD697FD0>, 'display_fn_name:plot_occupancy': {'plot_variable:OCCUPANCY': <neptune.attributes.atoms.file.File object at 0x00000282BD697D90>}, 'display_fn_name:plot_single_track_firing_rate_compare': <neptune.attributes.atoms.file.File object at 0x00000282BD697F70>}}, 'filter_name:maze2_even': {'lap_dir:even': {'display_fn_name:1d_placefields': <neptune.attributes.atoms.file.File object at 0x00000282BD697D00>, 'display_fn_name:_display_1d_placefield_validations': <neptune.attributes.atoms.file.File object at 0x00000282BD697E50>, 'display_fn_name:_display_2d_placefield_result_plot_ratemaps_2D': <neptune.attributes.atoms.file.File object at 0x00000282BD69DB50>, 'display_fn_name:plot_occupancy': {'plot_variable:OCCUPANCY': <neptune.attributes.atoms.file.File object at 0x00000282BD69DBB0>}}}, 'filter_name:maze2_odd': {'lap_dir:odd': {'display_fn_name:1d_placefields': <neptune.attributes.atoms.file.File object at 0x00000282BD69DD00>, 'display_fn_name:_display_1d_placefield_validations': <neptune.attributes.atoms.file.File object at 0x00000282BD69DC40>, 'display_fn_name:_display_2d_placefield_result_plot_ratemaps_2D': <neptune.attributes.atoms.file.File object at 0x00000282BD69DE20>, 'display_fn_name:plot_occupancy': {'plot_variable:OCCUPANCY': <neptune.attributes.atoms.file.File object at 0x00000282BD69DE80>}}}, 'filter_name:maze_any': {'lap_dir:any': {'display_fn_name:1d_placefields': <neptune.attributes.atoms.file.File object at 0x00000282BD69DFD0>, 'display_fn_name:_display_1d_placefield_validations': <neptune.attributes.atoms.file.File object at 0x00000282BD69DF10>, 'display_fn_name:_display_2d_placefield_result_plot_ratemaps_2D': <neptune.attributes.atoms.file.File object at 0x00000282BD675130>, 'display_fn_name:plot_occupancy': {'plot_variable:OCCUPANCY': <neptune.attributes.atoms.file.File object at 0x00000282BD675190>}}}, 'filter_name:maze_even': {'lap_dir:even': {'display_fn_name:1d_placefields': <neptune.attributes.atoms.file.File object at 0x00000282BD6752E0>, 'display_fn_name:_display_1d_placefield_validations': <neptune.attributes.atoms.file.File object at 0x00000282BD675220>, 'display_fn_name:_display_2d_placefield_result_plot_ratemaps_2D': <neptune.attributes.atoms.file.File object at 0x00000282BD675400>, 'display_fn_name:plot_occupancy': {'plot_variable:OCCUPANCY': <neptune.attributes.atoms.file.File object at 0x00000282BD675460>}}}, 'filter_name:maze_odd': {'lap_dir:odd': {'display_fn_name:1d_placefields': <neptune.attributes.atoms.file.File object at 0x00000282BD6755B0>, 'display_fn_name:_display_1d_placefield_validations': <neptune.attributes.atoms.file.File object at 0x00000282BD6754F0>, 'display_fn_name:_display_2d_placefield_result_plot_ratemaps_2D': <neptune.attributes.atoms.file.File object at 0x00000282BD6756D0>, 'display_fn_name:plot_occupancy': {'plot_variable:OCCUPANCY': <neptune.attributes.atoms.file.File object at 0x00000282BD675730>}}}, 'fn_name:long_short_firing_rate_indicies': {'display_fn_name:display_long_short_laps': <neptune.attributes.atoms.file.File object at 0x00000282BD675880>}}\n",
      "not a figure file! a dictionary instead probably: type(a_fig_file_field): <class 'dict'>\n",
      "sub_fig_full_input_key: \"display_fn_name:BatchPhoJonathanReplayFRC/plot_result_set:long_only/aclus:(6,19,20,23)\"\n",
      "a_fig_output_path: \"C:\\Users\\pho\\repos\\Spike3DWorkEnv\\Spike3D\\data\\neptune\\commander.pho\\PhoDibaLongShortUpdated\\figs\\vvp01_one_2006-4-10_12-25-50\\BatchPhoJonathanReplayFRC-long_only-(6,19,20,23).png\"\n",
      "\tdone.\n",
      "sub_fig_full_input_key: \"display_fn_name:BatchPhoJonathanReplayFRC/plot_result_set:long_only/aclus:(6,20,23,19)\"\n",
      "a_fig_output_path: \"C:\\Users\\pho\\repos\\Spike3DWorkEnv\\Spike3D\\data\\neptune\\commander.pho\\PhoDibaLongShortUpdated\\figs\\vvp01_one_2006-4-10_12-25-50\\BatchPhoJonathanReplayFRC-long_only-(6,20,23,19).png\"\n",
      "\tdone.\n",
      "sub_fig_full_input_key: \"display_fn_name:BatchPhoJonathanReplayFRC/plot_result_set:shared/page:1of2/aclus:(27,37,22,34,33,32,13,21,25,15,10,16,9,31,5,18,12,35,17,8)\"\n",
      "a_fig_output_path: \"C:\\Users\\pho\\repos\\Spike3DWorkEnv\\Spike3D\\data\\neptune\\commander.pho\\PhoDibaLongShortUpdated\\figs\\vvp01_one_2006-4-10_12-25-50\\BatchPhoJonathanReplayFRC-shared-1of2-(27,37,22,34,33,32,13,21,25,15,10,16,9,31,5,18,12,35,17,8).png\"\n"
     ]
    },
    {
     "data": {
      "application/vnd.jupyter.widget-view+json": {
       "model_id": "ff0eccb4c6904d35a41f9c8d6eaa9271",
       "version_major": 2,
       "version_minor": 0
      },
      "text/plain": [
       "Fetching file...: 0 [00:00, ?/s]"
      ]
     },
     "metadata": {},
     "output_type": "display_data"
    },
    {
     "name": "stdout",
     "output_type": "stream",
     "text": [
      "\tdone.\n",
      "sub_fig_full_input_key: \"display_fn_name:BatchPhoJonathanReplayFRC/plot_result_set:shared/page:1of4/aclus:(2,3,4,5,7,8,9,10,11,12)\"\n",
      "a_fig_output_path: \"C:\\Users\\pho\\repos\\Spike3DWorkEnv\\Spike3D\\data\\neptune\\commander.pho\\PhoDibaLongShortUpdated\\figs\\vvp01_one_2006-4-10_12-25-50\\BatchPhoJonathanReplayFRC-shared-1of4-(2,3,4,5,7,8,9,10,11,12).png\"\n",
      "\tdone.\n",
      "sub_fig_full_input_key: \"display_fn_name:BatchPhoJonathanReplayFRC/plot_result_set:shared/page:2of2/aclus:(4,11,7,2,3,14,24,26,28,30,38,39)\"\n",
      "a_fig_output_path: \"C:\\Users\\pho\\repos\\Spike3DWorkEnv\\Spike3D\\data\\neptune\\commander.pho\\PhoDibaLongShortUpdated\\figs\\vvp01_one_2006-4-10_12-25-50\\BatchPhoJonathanReplayFRC-shared-2of2-(4,11,7,2,3,14,24,26,28,30,38,39).png\"\n"
     ]
    },
    {
     "data": {
      "application/vnd.jupyter.widget-view+json": {
       "model_id": "c4f2e001d454451eaaeb634b811bf510",
       "version_major": 2,
       "version_minor": 0
      },
      "text/plain": [
       "Fetching file...: 0 [00:00, ?/s]"
      ]
     },
     "metadata": {},
     "output_type": "display_data"
    },
    {
     "name": "stdout",
     "output_type": "stream",
     "text": [
      "\tdone.\n",
      "sub_fig_full_input_key: \"display_fn_name:BatchPhoJonathanReplayFRC/plot_result_set:shared/page:2of4/aclus:(13,14,15,16,17,18,21,22,24,25)\"\n",
      "a_fig_output_path: \"C:\\Users\\pho\\repos\\Spike3DWorkEnv\\Spike3D\\data\\neptune\\commander.pho\\PhoDibaLongShortUpdated\\figs\\vvp01_one_2006-4-10_12-25-50\\BatchPhoJonathanReplayFRC-shared-2of4-(13,14,15,16,17,18,21,22,24,25).png\"\n",
      "\tdone.\n",
      "sub_fig_full_input_key: \"display_fn_name:BatchPhoJonathanReplayFRC/plot_result_set:shared/page:3of4/aclus:(26,27,28,30,31,32,33,34,35,37)\"\n",
      "a_fig_output_path: \"C:\\Users\\pho\\repos\\Spike3DWorkEnv\\Spike3D\\data\\neptune\\commander.pho\\PhoDibaLongShortUpdated\\figs\\vvp01_one_2006-4-10_12-25-50\\BatchPhoJonathanReplayFRC-shared-3of4-(26,27,28,30,31,32,33,34,35,37).png\"\n"
     ]
    },
    {
     "data": {
      "application/vnd.jupyter.widget-view+json": {
       "model_id": "af688a41dfc6450898412c3229268922",
       "version_major": 2,
       "version_minor": 0
      },
      "text/plain": [
       "Fetching file...: 0 [00:00, ?/s]"
      ]
     },
     "metadata": {},
     "output_type": "display_data"
    },
    {
     "name": "stdout",
     "output_type": "stream",
     "text": [
      "\tdone.\n",
      "sub_fig_full_input_key: \"display_fn_name:BatchPhoJonathanReplayFRC/plot_result_set:shared/page:4of4/aclus:(38,39)\"\n",
      "a_fig_output_path: \"C:\\Users\\pho\\repos\\Spike3DWorkEnv\\Spike3D\\data\\neptune\\commander.pho\\PhoDibaLongShortUpdated\\figs\\vvp01_one_2006-4-10_12-25-50\\BatchPhoJonathanReplayFRC-shared-4of4-(38,39).png\"\n",
      "\tdone.\n",
      "sub_fig_full_input_key: \"display_fn_name:BatchPhoJonathanReplayFRC/plot_result_set:short_only/aclus:(29,36)\"\n",
      "a_fig_output_path: \"C:\\Users\\pho\\repos\\Spike3DWorkEnv\\Spike3D\\data\\neptune\\commander.pho\\PhoDibaLongShortUpdated\\figs\\vvp01_one_2006-4-10_12-25-50\\BatchPhoJonathanReplayFRC-short_only-(29,36).png\"\n",
      "\tdone.\n",
      "a_parsed_structure: {'display_fn_name:_display_grid_bin_bounds_validation': <neptune.attributes.atoms.file.File object at 0x00000282BD352CD0>, 'display_fn_name:bidir_track_remap': {'subplot_name:Track Remapping': <neptune.attributes.atoms.file.File object at 0x00000282BD352D30>}, 'display_fn_name:directional_merged_pf_decoded_epochs': {'decoded_epochs:Laps': {'Marginal:Direction': {'t_bin:0.25': <neptune.attributes.atoms.file.File object at 0x00000282BD3529D0>}, 'Marginal:TrackID': {'t_bin:0.25': <neptune.attributes.atoms.file.File object at 0x00000282BD3528E0>}}, 'decoded_epochs:Ripple': {'Marginal:Direction': {'t_bin:0.025': <neptune.attributes.atoms.file.File object at 0x00000282BD352790>}, 'Marginal:TrackID': {'t_bin:0.025': <neptune.attributes.atoms.file.File object at 0x00000282BD3527C0>}}}, 'display_fn_name:display_long_short_laps': <neptune.attributes.atoms.file.File object at 0x00000282BD3378B0>, 'display_fn_name:display_short_long_pf1D_comparison': {'track:long': <neptune.attributes.atoms.file.File object at 0x00000282BD337CD0>, 'track:short': <neptune.attributes.atoms.file.File object at 0x00000282BD337D60>}, 'display_fn_name:plot_all_epoch_bins_marginal_predictions': {'subplot_name:Laps all_epoch_binned Marginals': <neptune.attributes.atoms.file.File object at 0x00000282BD337B20>, 'subplot_name:Ripple all_epoch_binned Marginals': <neptune.attributes.atoms.file.File object at 0x00000282BD337970>}, 'display_fn_name:plot_expected_vs_observed': {'x_variable:epoch_idx': {'variable:obs_exp_diff_ptp': <neptune.attributes.atoms.file.File object at 0x00000282BD3377C0>}}, 'display_fn_name:plot_histograms': {'subplot_name:laps_result_tuple': <neptune.attributes.atoms.file.File object at 0x00000282BD337910>, 'subplot_name:ripple_result_tuple': <neptune.attributes.atoms.file.File object at 0x00000282BD3650A0>}, 'display_fn_name:plot_quantile_diffs': {'subplot_name:BestDir': <neptune.attributes.atoms.file.File object at 0x00000282BD3651F0>}, 'display_fn_name:plot_rank_order_epoch_inst_fr_result_tuples': {'subplot_name:Lap': {'subplotsubplot_name:raw': <neptune.attributes.atoms.file.File object at 0x00000282BD3652E0>, 'subplotsubplot_name:z_score_diff': <neptune.attributes.atoms.file.File object at 0x00000282BD365310>}, 'subplot_name:Ripple': {'subplotsubplot_name:raw': <neptune.attributes.atoms.file.File object at 0x00000282BD365430>, 'subplotsubplot_name:z_score_diff': <neptune.attributes.atoms.file.File object at 0x00000282BD34B640>}}, 'display_fn_name:plot_rank_order_histograms': {'subplot_name:Ripple Most-likely Spearman Rho': <neptune.attributes.atoms.file.File object at 0x00000282BD34B4F0>, 'subplot_name:Ripple Most-likely Z-scores': <neptune.attributes.atoms.file.File object at 0x00000282BD34BE80>, 'subplot_name:Ripple Z-scores': <neptune.attributes.atoms.file.File object at 0x00000282BD34BDF0>, 'subplot_name:Ripple real correlations': <neptune.attributes.atoms.file.File object at 0x00000282BD34BEB0>}, 'display_fn_name:running_and_replay_speeds_over_time': <neptune.attributes.atoms.file.File object at 0x00000282BD34BFA0>, 'filter_name:maze1_any': {'lap_dir:any': {'display_fn_name:1d_placefields': <neptune.attributes.atoms.file.File object at 0x00000282BD34BD90>, 'display_fn_name:_display_1d_placefield_validations': <neptune.attributes.atoms.file.File object at 0x00000282BD359100>, 'display_fn_name:_display_2d_placefield_result_plot_ratemaps_2D': <neptune.attributes.atoms.file.File object at 0x00000282BD359040>, 'display_fn_name:plot_occupancy': {'plot_variable:OCCUPANCY': <neptune.attributes.atoms.file.File object at 0x00000282BD3590D0>}, 'display_fn_name:plot_single_track_firing_rate_compare': <neptune.attributes.atoms.file.File object at 0x00000282BD36B220>}}, 'filter_name:maze1_even': {'lap_dir:even': {'display_fn_name:1d_placefields': <neptune.attributes.atoms.file.File object at 0x00000282BD36B160>, 'display_fn_name:_display_1d_placefield_validations': <neptune.attributes.atoms.file.File object at 0x00000282BD36B280>, 'display_fn_name:_display_2d_placefield_result_plot_ratemaps_2D': <neptune.attributes.atoms.file.File object at 0x00000282BD36B3A0>, 'display_fn_name:plot_occupancy': {'plot_variable:OCCUPANCY': <neptune.attributes.atoms.file.File object at 0x00000282BD36B400>}}}, 'filter_name:maze1_odd': {'lap_dir:odd': {'display_fn_name:1d_placefields': <neptune.attributes.atoms.file.File object at 0x00000282BD36B550>, 'display_fn_name:_display_1d_placefield_validations': <neptune.attributes.atoms.file.File object at 0x00000282BD36B490>, 'display_fn_name:_display_2d_placefield_result_plot_ratemaps_2D': <neptune.attributes.atoms.file.File object at 0x00000282BD36B670>, 'display_fn_name:plot_occupancy': {'plot_variable:OCCUPANCY': <neptune.attributes.atoms.file.File object at 0x00000282BD36B6D0>}}}, 'filter_name:maze2_any': {'lap_dir:any': {'display_fn_name:1d_placefields': <neptune.attributes.atoms.file.File object at 0x00000282BD36B820>, 'display_fn_name:_display_1d_placefield_validations': <neptune.attributes.atoms.file.File object at 0x00000282BD36B760>, 'display_fn_name:_display_2d_placefield_result_plot_ratemaps_2D': <neptune.attributes.atoms.file.File object at 0x00000282BD36B940>, 'display_fn_name:plot_occupancy': {'plot_variable:OCCUPANCY': <neptune.attributes.atoms.file.File object at 0x00000282BD36B9A0>}, 'display_fn_name:plot_single_track_firing_rate_compare': <neptune.attributes.atoms.file.File object at 0x00000282BD36BAF0>}}, 'filter_name:maze2_even': {'lap_dir:even': {'display_fn_name:1d_placefields': <neptune.attributes.atoms.file.File object at 0x00000282BD36BA30>, 'display_fn_name:_display_1d_placefield_validations': <neptune.attributes.atoms.file.File object at 0x00000282BD36BB50>, 'display_fn_name:_display_2d_placefield_result_plot_ratemaps_2D': <neptune.attributes.atoms.file.File object at 0x00000282BD36BC70>, 'display_fn_name:plot_occupancy': {'plot_variable:OCCUPANCY': <neptune.attributes.atoms.file.File object at 0x00000282BD36BCD0>}}}, 'filter_name:maze2_odd': {'lap_dir:odd': {'display_fn_name:1d_placefields': <neptune.attributes.atoms.file.File object at 0x00000282BD36BE20>, 'display_fn_name:_display_1d_placefield_validations': <neptune.attributes.atoms.file.File object at 0x00000282BD36BD60>, 'display_fn_name:_display_2d_placefield_result_plot_ratemaps_2D': <neptune.attributes.atoms.file.File object at 0x00000282BD36BF40>, 'display_fn_name:plot_occupancy': {'plot_variable:OCCUPANCY': <neptune.attributes.atoms.file.File object at 0x00000282BD36BFA0>}}}, 'filter_name:maze_any': {'lap_dir:any': {'display_fn_name:1d_placefields': <neptune.attributes.atoms.file.File object at 0x00000282BD350130>, 'display_fn_name:_display_1d_placefield_validations': <neptune.attributes.atoms.file.File object at 0x00000282BD350070>, 'display_fn_name:_display_2d_placefield_result_plot_ratemaps_2D': <neptune.attributes.atoms.file.File object at 0x00000282BD350250>, 'display_fn_name:plot_occupancy': {'plot_variable:OCCUPANCY': <neptune.attributes.atoms.file.File object at 0x00000282BD3502B0>}}}, 'filter_name:maze_even': {'lap_dir:even': {'display_fn_name:1d_placefields': <neptune.attributes.atoms.file.File object at 0x00000282BD350400>, 'display_fn_name:_display_1d_placefield_validations': <neptune.attributes.atoms.file.File object at 0x00000282BD350340>, 'display_fn_name:_display_2d_placefield_result_plot_ratemaps_2D': <neptune.attributes.atoms.file.File object at 0x00000282BD350520>, 'display_fn_name:plot_occupancy': {'plot_variable:OCCUPANCY': <neptune.attributes.atoms.file.File object at 0x00000282BD350580>}}}, 'filter_name:maze_odd': {'lap_dir:odd': {'display_fn_name:1d_placefields': <neptune.attributes.atoms.file.File object at 0x00000282BD3506D0>, 'display_fn_name:_display_1d_placefield_validations': <neptune.attributes.atoms.file.File object at 0x00000282BD350610>, 'display_fn_name:_display_2d_placefield_result_plot_ratemaps_2D': <neptune.attributes.atoms.file.File object at 0x00000282BD3507F0>, 'display_fn_name:plot_occupancy': {'plot_variable:OCCUPANCY': <neptune.attributes.atoms.file.File object at 0x00000282BD350850>}}}, 'fn_name:long_short_firing_rate_indicies': {'display_fn_name:display_long_short_laps': <neptune.attributes.atoms.file.File object at 0x00000282BD3509A0>}}\n",
      "a_parsed_structure: {'display_fn_name:BatchPhoJonathanReplayFRC': {'plot_result_set:long_only': {'aclus:(6,19,20,23)': <neptune.attributes.atoms.file.File object at 0x00000282BD4BF6A0>, 'aclus:(6,20,23,19)': <neptune.attributes.atoms.file.File object at 0x00000282BD4BF700>}, 'plot_result_set:shared': {'page:1of2': {'aclus:(27,37,22,34,33,32,13,21,25,15,10,16,9,31,5,18,12,35,17,8)': <neptune.attributes.atoms.file.File object at 0x00000282BD4BF970>}, 'page:1of4': {'aclus:(2,3,4,5,7,8,9,10,11,12)': <neptune.attributes.atoms.file.File object at 0x00000282BD4BFA90>}, 'page:2of2': {'aclus:(4,11,7,2,3,14,24,26,28,30,38,39)': <neptune.attributes.atoms.file.File object at 0x00000282BD4BFBB0>}, 'page:2of4': {'aclus:(13,14,15,16,17,18,21,22,24,25)': <neptune.attributes.atoms.file.File object at 0x00000282BD4BFC70>}, 'page:3of4': {'aclus:(26,27,28,30,31,32,33,34,35,37)': <neptune.attributes.atoms.file.File object at 0x00000282BD4BFD30>}, 'page:4of4': {'aclus:(38,39)': <neptune.attributes.atoms.file.File object at 0x00000282BD4BFE50>}}, 'plot_result_set:short_only': {'aclus:(29,36)': <neptune.attributes.atoms.file.File object at 0x00000282BD4BFE80>}}, 'display_fn_name:_display_grid_bin_bounds_validation': <neptune.attributes.atoms.file.File object at 0x00000282BCC47EE0>, 'display_fn_name:bidir_track_remap': {'subplot_name:Track Remapping': <neptune.attributes.atoms.file.File object at 0x00000282BCC47F10>}, 'display_fn_name:display_long_short_laps': <neptune.attributes.atoms.file.File object at 0x00000282BCC47F40>, 'display_fn_name:display_short_long_pf1D_comparison': {'track:long': <neptune.attributes.atoms.file.File object at 0x00000282BD4C2220>, 'track:short': <neptune.attributes.atoms.file.File object at 0x00000282BD4C2280>}, 'display_fn_name:plot_all_epoch_bins_marginal_predictions': {'subplot_name:Laps all_epoch_binned Marginals': <neptune.attributes.atoms.file.File object at 0x00000282BD4C2400>, 'subplot_name:Ripple all_epoch_binned Marginals': <neptune.attributes.atoms.file.File object at 0x00000282BD4C2460>}, 'display_fn_name:plot_expected_vs_observed': {'x_variable:epoch_idx': {'variable:obs_exp_diff_ptp': <neptune.attributes.atoms.file.File object at 0x00000282BD4C2520>}}, 'display_fn_name:plot_histograms': {'subplot_name:laps_result_tuple': <neptune.attributes.atoms.file.File object at 0x00000282BD4C2340>, 'subplot_name:ripple_result_tuple': <neptune.attributes.atoms.file.File object at 0x00000282BD4C2040>}, 'display_fn_name:plot_quantile_diffs': {'subplot_name:BestDir': <neptune.attributes.atoms.file.File object at 0x00000282BD4C2100>}, 'display_fn_name:plot_rank_order_epoch_inst_fr_result_tuples': {'subplot_name:Lap': {'subplotsubplot_name:raw': <neptune.attributes.atoms.file.File object at 0x00000282BD4C27C0>, 'subplotsubplot_name:z_score_diff': <neptune.attributes.atoms.file.File object at 0x00000282BD4C2640>}, 'subplot_name:Ripple': {'subplotsubplot_name:raw': <neptune.attributes.atoms.file.File object at 0x00000282BD4C26A0>, 'subplotsubplot_name:z_score_diff': <neptune.attributes.atoms.file.File object at 0x00000282BD4C2310>}}, 'display_fn_name:plot_rank_order_histograms': {'subplot_name:Ripple Most-likely Spearman Rho': <neptune.attributes.atoms.file.File object at 0x00000282BD4C7A00>, 'subplot_name:Ripple Most-likely Z-scores': <neptune.attributes.atoms.file.File object at 0x00000282BD4C7A60>, 'subplot_name:Ripple Z-scores': <neptune.attributes.atoms.file.File object at 0x00000282BD4C7B20>, 'subplot_name:Ripple real correlations': <neptune.attributes.atoms.file.File object at 0x00000282BD4C7B80>}, 'display_fn_name:running_and_replay_speeds_over_time': <neptune.attributes.atoms.file.File object at 0x00000282BD4C7BE0>, 'filter_name:maze1_any': {'lap_dir:any': {'display_fn_name:1d_placefields': <neptune.attributes.atoms.file.File object at 0x00000282BD4C7C40>, 'display_fn_name:_display_1d_placefield_validations': <neptune.attributes.atoms.file.File object at 0x00000282BD4C7CA0>, 'display_fn_name:_display_2d_placefield_result_plot_ratemaps_2D': <neptune.attributes.atoms.file.File object at 0x00000282BD4C7DC0>, 'display_fn_name:plot_occupancy': {'plot_variable:OCCUPANCY': <neptune.attributes.atoms.file.File object at 0x00000282BD4C7E20>}, 'display_fn_name:plot_single_track_firing_rate_compare': <neptune.attributes.atoms.file.File object at 0x00000282BD4C7F70>}}, 'filter_name:maze1_even': {'lap_dir:even': {'display_fn_name:1d_placefields': <neptune.attributes.atoms.file.File object at 0x00000282BD4C7EB0>, 'display_fn_name:_display_1d_placefield_validations': <neptune.attributes.atoms.file.File object at 0x00000282BD4C7FD0>, 'display_fn_name:_display_2d_placefield_result_plot_ratemaps_2D': <neptune.attributes.atoms.file.File object at 0x00000282BD4B5130>, 'display_fn_name:plot_occupancy': {'plot_variable:OCCUPANCY': <neptune.attributes.atoms.file.File object at 0x00000282BD4B5190>}}}, 'filter_name:maze1_odd': {'lap_dir:odd': {'display_fn_name:1d_placefields': <neptune.attributes.atoms.file.File object at 0x00000282BD4B52E0>, 'display_fn_name:_display_1d_placefield_validations': <neptune.attributes.atoms.file.File object at 0x00000282BD4B5220>, 'display_fn_name:_display_2d_placefield_result_plot_ratemaps_2D': <neptune.attributes.atoms.file.File object at 0x00000282BD4B5400>, 'display_fn_name:plot_occupancy': {'plot_variable:OCCUPANCY': <neptune.attributes.atoms.file.File object at 0x00000282BD4B5460>}}}, 'filter_name:maze2_any': {'lap_dir:any': {'display_fn_name:1d_placefields': <neptune.attributes.atoms.file.File object at 0x00000282BD4B55B0>, 'display_fn_name:_display_1d_placefield_validations': <neptune.attributes.atoms.file.File object at 0x00000282BD4B54F0>, 'display_fn_name:_display_2d_placefield_result_plot_ratemaps_2D': <neptune.attributes.atoms.file.File object at 0x00000282BD4B56D0>, 'display_fn_name:plot_occupancy': {'plot_variable:OCCUPANCY': <neptune.attributes.atoms.file.File object at 0x00000282BD4B5730>}, 'display_fn_name:plot_single_track_firing_rate_compare': <neptune.attributes.atoms.file.File object at 0x00000282BD4B5880>}}, 'filter_name:maze2_even': {'lap_dir:even': {'display_fn_name:1d_placefields': <neptune.attributes.atoms.file.File object at 0x00000282BD4B57C0>, 'display_fn_name:_display_1d_placefield_validations': <neptune.attributes.atoms.file.File object at 0x00000282BD4B58E0>, 'display_fn_name:_display_2d_placefield_result_plot_ratemaps_2D': <neptune.attributes.atoms.file.File object at 0x00000282BD4B5A00>, 'display_fn_name:plot_occupancy': {'plot_variable:OCCUPANCY': <neptune.attributes.atoms.file.File object at 0x00000282BD4B5A60>}}}, 'filter_name:maze2_odd': {'lap_dir:odd': {'display_fn_name:1d_placefields': <neptune.attributes.atoms.file.File object at 0x00000282BD4B5BB0>, 'display_fn_name:_display_1d_placefield_validations': <neptune.attributes.atoms.file.File object at 0x00000282BD4B5AF0>, 'display_fn_name:_display_2d_placefield_result_plot_ratemaps_2D': <neptune.attributes.atoms.file.File object at 0x00000282BD4B5CD0>, 'display_fn_name:plot_occupancy': {'plot_variable:OCCUPANCY': <neptune.attributes.atoms.file.File object at 0x00000282BD4B5D30>}}}, 'filter_name:maze_any': {'lap_dir:any': {'display_fn_name:1d_placefields': <neptune.attributes.atoms.file.File object at 0x00000282BD4B5E80>, 'display_fn_name:_display_1d_placefield_validations': <neptune.attributes.atoms.file.File object at 0x00000282BD4B5DC0>, 'display_fn_name:_display_2d_placefield_result_plot_ratemaps_2D': <neptune.attributes.atoms.file.File object at 0x00000282BD4B5FA0>, 'display_fn_name:plot_occupancy': {'plot_variable:OCCUPANCY': <neptune.attributes.atoms.file.File object at 0x00000282BD4D0040>}}}, 'filter_name:maze_even': {'lap_dir:even': {'display_fn_name:1d_placefields': <neptune.attributes.atoms.file.File object at 0x00000282BD4D0190>, 'display_fn_name:_display_1d_placefield_validations': <neptune.attributes.atoms.file.File object at 0x00000282BD4D00D0>, 'display_fn_name:_display_2d_placefield_result_plot_ratemaps_2D': <neptune.attributes.atoms.file.File object at 0x00000282BD4D02B0>, 'display_fn_name:plot_occupancy': {'plot_variable:OCCUPANCY': <neptune.attributes.atoms.file.File object at 0x00000282BD4D0310>}}}, 'filter_name:maze_odd': {'lap_dir:odd': {'display_fn_name:1d_placefields': <neptune.attributes.atoms.file.File object at 0x00000282BD4D0460>, 'display_fn_name:_display_1d_placefield_validations': <neptune.attributes.atoms.file.File object at 0x00000282BD4D03A0>, 'display_fn_name:_display_2d_placefield_result_plot_ratemaps_2D': <neptune.attributes.atoms.file.File object at 0x00000282BD4D0580>, 'display_fn_name:plot_occupancy': {'plot_variable:OCCUPANCY': <neptune.attributes.atoms.file.File object at 0x00000282BD4D05E0>}}}, 'fn_name:long_short_firing_rate_indicies': {'display_fn_name:display_long_short_laps': <neptune.attributes.atoms.file.File object at 0x00000282BD4D0730>}}\n",
      "not a figure file! a dictionary instead probably: type(a_fig_file_field): <class 'dict'>\n",
      "sub_fig_full_input_key: \"display_fn_name:BatchPhoJonathanReplayFRC/plot_result_set:long_only/aclus:(6,19,20,23)\"\n",
      "a_fig_output_path: \"C:\\Users\\pho\\repos\\Spike3DWorkEnv\\Spike3D\\data\\neptune\\commander.pho\\PhoDibaLongShortUpdated\\figs\\vvp01_one_2006-4-10_12-25-50\\BatchPhoJonathanReplayFRC-long_only-(6,19,20,23).png\"\n",
      "\tdone.\n",
      "sub_fig_full_input_key: \"display_fn_name:BatchPhoJonathanReplayFRC/plot_result_set:long_only/aclus:(6,20,23,19)\"\n",
      "a_fig_output_path: \"C:\\Users\\pho\\repos\\Spike3DWorkEnv\\Spike3D\\data\\neptune\\commander.pho\\PhoDibaLongShortUpdated\\figs\\vvp01_one_2006-4-10_12-25-50\\BatchPhoJonathanReplayFRC-long_only-(6,20,23,19).png\"\n",
      "\tdone.\n",
      "sub_fig_full_input_key: \"display_fn_name:BatchPhoJonathanReplayFRC/plot_result_set:shared/page:1of2/aclus:(27,37,22,34,33,32,13,21,25,15,10,16,9,31,5,18,12,35,17,8)\"\n",
      "a_fig_output_path: \"C:\\Users\\pho\\repos\\Spike3DWorkEnv\\Spike3D\\data\\neptune\\commander.pho\\PhoDibaLongShortUpdated\\figs\\vvp01_one_2006-4-10_12-25-50\\BatchPhoJonathanReplayFRC-shared-1of2-(27,37,22,34,33,32,13,21,25,15,10,16,9,31,5,18,12,35,17,8).png\"\n"
     ]
    },
    {
     "data": {
      "application/vnd.jupyter.widget-view+json": {
       "model_id": "56fd73e32e7e467e9fa9f047111c141b",
       "version_major": 2,
       "version_minor": 0
      },
      "text/plain": [
       "Fetching file...: 0 [00:00, ?/s]"
      ]
     },
     "metadata": {},
     "output_type": "display_data"
    },
    {
     "name": "stdout",
     "output_type": "stream",
     "text": [
      "\tdone.\n",
      "sub_fig_full_input_key: \"display_fn_name:BatchPhoJonathanReplayFRC/plot_result_set:shared/page:1of4/aclus:(2,3,4,5,7,8,9,10,11,12)\"\n",
      "a_fig_output_path: \"C:\\Users\\pho\\repos\\Spike3DWorkEnv\\Spike3D\\data\\neptune\\commander.pho\\PhoDibaLongShortUpdated\\figs\\vvp01_one_2006-4-10_12-25-50\\BatchPhoJonathanReplayFRC-shared-1of4-(2,3,4,5,7,8,9,10,11,12).png\"\n",
      "\tdone.\n",
      "sub_fig_full_input_key: \"display_fn_name:BatchPhoJonathanReplayFRC/plot_result_set:shared/page:2of2/aclus:(4,11,7,2,3,14,24,26,28,30,38,39)\"\n",
      "a_fig_output_path: \"C:\\Users\\pho\\repos\\Spike3DWorkEnv\\Spike3D\\data\\neptune\\commander.pho\\PhoDibaLongShortUpdated\\figs\\vvp01_one_2006-4-10_12-25-50\\BatchPhoJonathanReplayFRC-shared-2of2-(4,11,7,2,3,14,24,26,28,30,38,39).png\"\n",
      "\tdone.\n",
      "sub_fig_full_input_key: \"display_fn_name:BatchPhoJonathanReplayFRC/plot_result_set:shared/page:2of4/aclus:(13,14,15,16,17,18,21,22,24,25)\"\n",
      "a_fig_output_path: \"C:\\Users\\pho\\repos\\Spike3DWorkEnv\\Spike3D\\data\\neptune\\commander.pho\\PhoDibaLongShortUpdated\\figs\\vvp01_one_2006-4-10_12-25-50\\BatchPhoJonathanReplayFRC-shared-2of4-(13,14,15,16,17,18,21,22,24,25).png\"\n",
      "\tdone.\n",
      "sub_fig_full_input_key: \"display_fn_name:BatchPhoJonathanReplayFRC/plot_result_set:shared/page:3of4/aclus:(26,27,28,30,31,32,33,34,35,37)\"\n",
      "a_fig_output_path: \"C:\\Users\\pho\\repos\\Spike3DWorkEnv\\Spike3D\\data\\neptune\\commander.pho\\PhoDibaLongShortUpdated\\figs\\vvp01_one_2006-4-10_12-25-50\\BatchPhoJonathanReplayFRC-shared-3of4-(26,27,28,30,31,32,33,34,35,37).png\"\n",
      "\tdone.\n",
      "sub_fig_full_input_key: \"display_fn_name:BatchPhoJonathanReplayFRC/plot_result_set:shared/page:4of4/aclus:(38,39)\"\n",
      "a_fig_output_path: \"C:\\Users\\pho\\repos\\Spike3DWorkEnv\\Spike3D\\data\\neptune\\commander.pho\\PhoDibaLongShortUpdated\\figs\\vvp01_one_2006-4-10_12-25-50\\BatchPhoJonathanReplayFRC-shared-4of4-(38,39).png\"\n",
      "\tdone.\n",
      "sub_fig_full_input_key: \"display_fn_name:BatchPhoJonathanReplayFRC/plot_result_set:short_only/aclus:(29,36)\"\n",
      "a_fig_output_path: \"C:\\Users\\pho\\repos\\Spike3DWorkEnv\\Spike3D\\data\\neptune\\commander.pho\\PhoDibaLongShortUpdated\\figs\\vvp01_one_2006-4-10_12-25-50\\BatchPhoJonathanReplayFRC-short_only-(29,36).png\"\n",
      "\tdone.\n",
      "a_parsed_structure: {'display_fn_name:_display_grid_bin_bounds_validation': <neptune.attributes.atoms.file.File object at 0x00000282BD6A74F0>, 'display_fn_name:display_long_short_laps': <neptune.attributes.atoms.file.File object at 0x00000282BD6A7550>, 'filter_name:maze1_any': {'lap_dir:any': {'display_fn_name:1d_placefields': <neptune.attributes.atoms.file.File object at 0x00000282BD67CE20>, 'display_fn_name:_display_1d_placefield_validations': <neptune.attributes.atoms.file.File object at 0x00000282BD67CCD0>, 'display_fn_name:_display_2d_placefield_result_plot_ratemaps_2D': <neptune.attributes.atoms.file.File object at 0x00000282BD67CDF0>, 'display_fn_name:plot_occupancy': {'plot_variable:OCCUPANCY': <neptune.attributes.atoms.file.File object at 0x00000282BD67CF10>}}}, 'filter_name:maze1_even': {'lap_dir:even': {'display_fn_name:1d_placefields': <neptune.attributes.atoms.file.File object at 0x00000282BD67CEB0>, 'display_fn_name:_display_1d_placefield_validations': <neptune.attributes.atoms.file.File object at 0x00000282BD67CFA0>, 'display_fn_name:_display_2d_placefield_result_plot_ratemaps_2D': <neptune.attributes.atoms.file.File object at 0x00000282BD67C910>, 'display_fn_name:plot_occupancy': {'plot_variable:OCCUPANCY': <neptune.attributes.atoms.file.File object at 0x00000282BD67C970>}}}, 'filter_name:maze1_odd': {'lap_dir:odd': {'display_fn_name:1d_placefields': <neptune.attributes.atoms.file.File object at 0x00000282BD67CBB0>, 'display_fn_name:_display_1d_placefield_validations': <neptune.attributes.atoms.file.File object at 0x00000282BD67CAC0>, 'display_fn_name:_display_2d_placefield_result_plot_ratemaps_2D': <neptune.attributes.atoms.file.File object at 0x00000282BD67CA60>, 'display_fn_name:plot_occupancy': {'plot_variable:OCCUPANCY': <neptune.attributes.atoms.file.File object at 0x00000282BD67C880>}}}, 'filter_name:maze2_any': {'lap_dir:any': {'display_fn_name:1d_placefields': <neptune.attributes.atoms.file.File object at 0x00000282BD67C520>, 'display_fn_name:_display_1d_placefield_validations': <neptune.attributes.atoms.file.File object at 0x00000282BD67C4F0>, 'display_fn_name:_display_2d_placefield_result_plot_ratemaps_2D': <neptune.attributes.atoms.file.File object at 0x00000282BD67C820>, 'display_fn_name:plot_occupancy': {'plot_variable:OCCUPANCY': <neptune.attributes.atoms.file.File object at 0x00000282BD67C7C0>}}}, 'filter_name:maze2_even': {'lap_dir:even': {'display_fn_name:1d_placefields': <neptune.attributes.atoms.file.File object at 0x00000282BD67C640>, 'display_fn_name:_display_1d_placefield_validations': <neptune.attributes.atoms.file.File object at 0x00000282BD680130>, 'display_fn_name:_display_2d_placefield_result_plot_ratemaps_2D': <neptune.attributes.atoms.file.File object at 0x00000282BD674880>, 'display_fn_name:plot_occupancy': {'plot_variable:OCCUPANCY': <neptune.attributes.atoms.file.File object at 0x00000282BD6748E0>}}}, 'filter_name:maze2_odd': {'lap_dir:odd': {'display_fn_name:1d_placefields': <neptune.attributes.atoms.file.File object at 0x00000282BD674A30>, 'display_fn_name:_display_1d_placefield_validations': <neptune.attributes.atoms.file.File object at 0x00000282BD674970>, 'display_fn_name:_display_2d_placefield_result_plot_ratemaps_2D': <neptune.attributes.atoms.file.File object at 0x00000282BD674B50>, 'display_fn_name:plot_occupancy': {'plot_variable:OCCUPANCY': <neptune.attributes.atoms.file.File object at 0x00000282BD674BB0>}}}, 'filter_name:maze_any': {'lap_dir:any': {'display_fn_name:1d_placefields': <neptune.attributes.atoms.file.File object at 0x00000282BD674D00>, 'display_fn_name:_display_1d_placefield_validations': <neptune.attributes.atoms.file.File object at 0x00000282BD674C40>, 'display_fn_name:_display_2d_placefield_result_plot_ratemaps_2D': <neptune.attributes.atoms.file.File object at 0x00000282BD674E20>, 'display_fn_name:plot_occupancy': {'plot_variable:OCCUPANCY': <neptune.attributes.atoms.file.File object at 0x00000282BD674E80>}}}, 'filter_name:maze_even': {'lap_dir:even': {'display_fn_name:1d_placefields': <neptune.attributes.atoms.file.File object at 0x00000282BD674FD0>, 'display_fn_name:_display_1d_placefield_validations': <neptune.attributes.atoms.file.File object at 0x00000282BD674F10>, 'display_fn_name:_display_2d_placefield_result_plot_ratemaps_2D': <neptune.attributes.atoms.file.File object at 0x00000282BD6746D0>, 'display_fn_name:plot_occupancy': {'plot_variable:OCCUPANCY': <neptune.attributes.atoms.file.File object at 0x00000282BD6745B0>}}}, 'filter_name:maze_odd': {'lap_dir:odd': {'display_fn_name:1d_placefields': <neptune.attributes.atoms.file.File object at 0x00000282BD674580>, 'display_fn_name:_display_1d_placefield_validations': <neptune.attributes.atoms.file.File object at 0x00000282BD674220>, 'display_fn_name:_display_2d_placefield_result_plot_ratemaps_2D': <neptune.attributes.atoms.file.File object at 0x00000282BD674790>, 'display_fn_name:plot_occupancy': {'plot_variable:OCCUPANCY': <neptune.attributes.atoms.file.File object at 0x00000282BD3304C0>}}}}\n",
      "a_parsed_structure: {'display_fn_name:_display_grid_bin_bounds_validation': <neptune.attributes.atoms.file.File object at 0x00000282BD365A00>, 'display_fn_name:display_long_short_laps': <neptune.attributes.atoms.file.File object at 0x00000282BD365820>, 'filter_name:maze1_any': {'lap_dir:any': {'display_fn_name:1d_placefields': <neptune.attributes.atoms.file.File object at 0x00000282BD365520>, 'display_fn_name:_display_1d_placefield_validations': <neptune.attributes.atoms.file.File object at 0x00000282BD365640>, 'display_fn_name:_display_2d_placefield_result_plot_ratemaps_2D': <neptune.attributes.atoms.file.File object at 0x00000282BD365760>, 'display_fn_name:plot_occupancy': {'plot_variable:OCCUPANCY': <neptune.attributes.atoms.file.File object at 0x00000282BD3657C0>}}}, 'filter_name:maze1_even': {'lap_dir:even': {'display_fn_name:1d_placefields': <neptune.attributes.atoms.file.File object at 0x00000282BD365E80>, 'display_fn_name:_display_1d_placefield_validations': <neptune.attributes.atoms.file.File object at 0x00000282BD365610>, 'display_fn_name:_display_2d_placefield_result_plot_ratemaps_2D': <neptune.attributes.atoms.file.File object at 0x00000282BD365D90>, 'display_fn_name:plot_occupancy': {'plot_variable:OCCUPANCY': <neptune.attributes.atoms.file.File object at 0x00000282BD365D30>}}}, 'filter_name:maze1_odd': {'lap_dir:odd': {'display_fn_name:1d_placefields': <neptune.attributes.atoms.file.File object at 0x00000282BCC3D4C0>, 'display_fn_name:_display_1d_placefield_validations': <neptune.attributes.atoms.file.File object at 0x00000282BCC3D400>, 'display_fn_name:_display_2d_placefield_result_plot_ratemaps_2D': <neptune.attributes.atoms.file.File object at 0x00000282BCC3D5E0>, 'display_fn_name:plot_occupancy': {'plot_variable:OCCUPANCY': <neptune.attributes.atoms.file.File object at 0x00000282BCC3D640>}}}, 'filter_name:maze2_any': {'lap_dir:any': {'display_fn_name:1d_placefields': <neptune.attributes.atoms.file.File object at 0x00000282BCC3D790>, 'display_fn_name:_display_1d_placefield_validations': <neptune.attributes.atoms.file.File object at 0x00000282BCC3D6D0>, 'display_fn_name:_display_2d_placefield_result_plot_ratemaps_2D': <neptune.attributes.atoms.file.File object at 0x00000282BCC3D8B0>, 'display_fn_name:plot_occupancy': {'plot_variable:OCCUPANCY': <neptune.attributes.atoms.file.File object at 0x00000282BCC3D910>}}}, 'filter_name:maze2_even': {'lap_dir:even': {'display_fn_name:1d_placefields': <neptune.attributes.atoms.file.File object at 0x00000282BCC3DA60>, 'display_fn_name:_display_1d_placefield_validations': <neptune.attributes.atoms.file.File object at 0x00000282BCC3D9A0>, 'display_fn_name:_display_2d_placefield_result_plot_ratemaps_2D': <neptune.attributes.atoms.file.File object at 0x00000282BCC3DB80>, 'display_fn_name:plot_occupancy': {'plot_variable:OCCUPANCY': <neptune.attributes.atoms.file.File object at 0x00000282BCC3DBE0>}}}, 'filter_name:maze2_odd': {'lap_dir:odd': {'display_fn_name:1d_placefields': <neptune.attributes.atoms.file.File object at 0x00000282BCC3DD30>, 'display_fn_name:_display_1d_placefield_validations': <neptune.attributes.atoms.file.File object at 0x00000282BCC3DC70>, 'display_fn_name:_display_2d_placefield_result_plot_ratemaps_2D': <neptune.attributes.atoms.file.File object at 0x00000282BCC3DE50>, 'display_fn_name:plot_occupancy': {'plot_variable:OCCUPANCY': <neptune.attributes.atoms.file.File object at 0x00000282BCC3DEB0>}}}, 'filter_name:maze_any': {'lap_dir:any': {'display_fn_name:1d_placefields': <neptune.attributes.atoms.file.File object at 0x00000282BCC3DF40>, 'display_fn_name:_display_1d_placefield_validations': <neptune.attributes.atoms.file.File object at 0x00000282BD362040>, 'display_fn_name:_display_2d_placefield_result_plot_ratemaps_2D': <neptune.attributes.atoms.file.File object at 0x00000282BD362160>, 'display_fn_name:plot_occupancy': {'plot_variable:OCCUPANCY': <neptune.attributes.atoms.file.File object at 0x00000282BD3621C0>}}}, 'filter_name:maze_even': {'lap_dir:even': {'display_fn_name:1d_placefields': <neptune.attributes.atoms.file.File object at 0x00000282BD362310>, 'display_fn_name:_display_1d_placefield_validations': <neptune.attributes.atoms.file.File object at 0x00000282BD362250>, 'display_fn_name:_display_2d_placefield_result_plot_ratemaps_2D': <neptune.attributes.atoms.file.File object at 0x00000282BD362430>, 'display_fn_name:plot_occupancy': {'plot_variable:OCCUPANCY': <neptune.attributes.atoms.file.File object at 0x00000282BD362490>}}}, 'filter_name:maze_odd': {'lap_dir:odd': {'display_fn_name:1d_placefields': <neptune.attributes.atoms.file.File object at 0x00000282BD3625E0>, 'display_fn_name:_display_1d_placefield_validations': <neptune.attributes.atoms.file.File object at 0x00000282BD362520>, 'display_fn_name:_display_2d_placefield_result_plot_ratemaps_2D': <neptune.attributes.atoms.file.File object at 0x00000282BD362700>, 'display_fn_name:plot_occupancy': {'plot_variable:OCCUPANCY': <neptune.attributes.atoms.file.File object at 0x00000282BD362760>}}}}\n"
     ]
    },
    {
     "data": {
      "text/plain": [
       "{Context(format_name= 'kdiba', animal= 'gor01', exper_name= 'two', session_name= '2006-6-08_21-16-25'): {<String field at \"sys/id\">: {'gor01_two_2006-6-08_21-16-25': {'display_fn_name:BatchPhoJonathanReplayFRC/plot_result_set:long_only/aclus:(13,19,23,29,36,54,60,73,78,90)': 'C:/Users/pho/repos/Spike3DWorkEnv/Spike3D/data/neptune/commander.pho/PhoDibaLongShortUpdated/figs/gor01_two_2006-6-08_21-16-25/BatchPhoJonathanReplayFRC-long_only-(13,19,23,29,36,54,60,73,78,90).png',\n",
       "    'display_fn_name:BatchPhoJonathanReplayFRC/plot_result_set:long_only/aclus:(54,60,78,23,90,73,13,36,29,19)': 'C:/Users/pho/repos/Spike3DWorkEnv/Spike3D/data/neptune/commander.pho/PhoDibaLongShortUpdated/figs/gor01_two_2006-6-08_21-16-25/BatchPhoJonathanReplayFRC-long_only-(54,60,78,23,90,73,13,36,29,19).png',\n",
       "    'display_fn_name:BatchPhoJonathanReplayFRC/plot_result_set:shared/page:1of5/aclus:(58,41,42,46,55,101,31,63,68,11,69,87,25,91,14,92,2,65,100,86)': 'C:/Users/pho/repos/Spike3DWorkEnv/Spike3D/data/neptune/commander.pho/PhoDibaLongShortUpdated/figs/gor01_two_2006-6-08_21-16-25/BatchPhoJonathanReplayFRC-shared-1of5-(58,41,42,46,55,101,31,63,68,11,69,87,25,91,14,92,2,65,100,86).png',\n",
       "    'display_fn_name:BatchPhoJonathanReplayFRC/plot_result_set:shared/page:1of9/aclus:(2,3,5,6,7,9,10,11,12,14)': 'C:/Users/pho/repos/Spike3DWorkEnv/Spike3D/data/neptune/commander.pho/PhoDibaLongShortUpdated/figs/gor01_two_2006-6-08_21-16-25/BatchPhoJonathanReplayFRC-shared-1of9-(2,3,5,6,7,9,10,11,12,14).png',\n",
       "    'display_fn_name:BatchPhoJonathanReplayFRC/plot_result_set:shared/page:2of5/aclus:(59,12,7,74,76,64,103,44,24,34,61,85,38,51,56,9,22,15,66,75)': 'C:/Users/pho/repos/Spike3DWorkEnv/Spike3D/data/neptune/commander.pho/PhoDibaLongShortUpdated/figs/gor01_two_2006-6-08_21-16-25/BatchPhoJonathanReplayFRC-shared-2of5-(59,12,7,74,76,64,103,44,24,34,61,85,38,51,56,9,22,15,66,75).png',\n",
       "    'display_fn_name:BatchPhoJonathanReplayFRC/plot_result_set:shared/page:2of9/aclus:(15,17,18,20,21,22,24,25,26,28)': 'C:/Users/pho/repos/Spike3DWorkEnv/Spike3D/data/neptune/commander.pho/PhoDibaLongShortUpdated/figs/gor01_two_2006-6-08_21-16-25/BatchPhoJonathanReplayFRC-shared-2of9-(15,17,18,20,21,22,24,25,26,28).png',\n",
       "    'display_fn_name:BatchPhoJonathanReplayFRC/plot_result_set:shared/page:3of5/aclus:(57,37,94,71,95,97,50,17,77,67,18,70,6,79,3,47,82,83,96,26)': 'C:/Users/pho/repos/Spike3DWorkEnv/Spike3D/data/neptune/commander.pho/PhoDibaLongShortUpdated/figs/gor01_two_2006-6-08_21-16-25/BatchPhoJonathanReplayFRC-shared-3of5-(57,37,94,71,95,97,50,17,77,67,18,70,6,79,3,47,82,83,96,26).png',\n",
       "    'display_fn_name:BatchPhoJonathanReplayFRC/plot_result_set:shared/page:3of9/aclus:(30,31,32,34,35,37,38,40,41,42)': 'C:/Users/pho/repos/Spike3DWorkEnv/Spike3D/data/neptune/commander.pho/PhoDibaLongShortUpdated/figs/gor01_two_2006-6-08_21-16-25/BatchPhoJonathanReplayFRC-shared-3of9-(30,31,32,34,35,37,38,40,41,42).png',\n",
       "    'display_fn_name:BatchPhoJonathanReplayFRC/plot_result_set:shared/page:4of5/aclus:(89,5,10,20,21,28,30,32,35,40,43,45,48,49,52,53,62,72,80,81)': 'C:/Users/pho/repos/Spike3DWorkEnv/Spike3D/data/neptune/commander.pho/PhoDibaLongShortUpdated/figs/gor01_two_2006-6-08_21-16-25/BatchPhoJonathanReplayFRC-shared-4of5-(89,5,10,20,21,28,30,32,35,40,43,45,48,49,52,53,62,72,80,81).png',\n",
       "    'display_fn_name:BatchPhoJonathanReplayFRC/plot_result_set:shared/page:4of9/aclus:(43,44,45,46,47,48,49,50,51,52)': 'C:/Users/pho/repos/Spike3DWorkEnv/Spike3D/data/neptune/commander.pho/PhoDibaLongShortUpdated/figs/gor01_two_2006-6-08_21-16-25/BatchPhoJonathanReplayFRC-shared-4of9-(43,44,45,46,47,48,49,50,51,52).png',\n",
       "    'display_fn_name:BatchPhoJonathanReplayFRC/plot_result_set:shared/page:5of5/aclus:(84,88,93,98,99,102)': 'C:/Users/pho/repos/Spike3DWorkEnv/Spike3D/data/neptune/commander.pho/PhoDibaLongShortUpdated/figs/gor01_two_2006-6-08_21-16-25/BatchPhoJonathanReplayFRC-shared-5of5-(84,88,93,98,99,102).png',\n",
       "    'display_fn_name:BatchPhoJonathanReplayFRC/plot_result_set:shared/page:5of9/aclus:(53,55,56,57,58,59,61,62,63,64)': 'C:/Users/pho/repos/Spike3DWorkEnv/Spike3D/data/neptune/commander.pho/PhoDibaLongShortUpdated/figs/gor01_two_2006-6-08_21-16-25/BatchPhoJonathanReplayFRC-shared-5of9-(53,55,56,57,58,59,61,62,63,64).png',\n",
       "    'display_fn_name:BatchPhoJonathanReplayFRC/plot_result_set:shared/page:6of9/aclus:(65,66,67,68,69,70,71,72,74,75)': 'C:/Users/pho/repos/Spike3DWorkEnv/Spike3D/data/neptune/commander.pho/PhoDibaLongShortUpdated/figs/gor01_two_2006-6-08_21-16-25/BatchPhoJonathanReplayFRC-shared-6of9-(65,66,67,68,69,70,71,72,74,75).png',\n",
       "    'display_fn_name:BatchPhoJonathanReplayFRC/plot_result_set:shared/page:7of9/aclus:(76,77,79,80,81,82,83,84,85,86)': 'C:/Users/pho/repos/Spike3DWorkEnv/Spike3D/data/neptune/commander.pho/PhoDibaLongShortUpdated/figs/gor01_two_2006-6-08_21-16-25/BatchPhoJonathanReplayFRC-shared-7of9-(76,77,79,80,81,82,83,84,85,86).png',\n",
       "    'display_fn_name:BatchPhoJonathanReplayFRC/plot_result_set:shared/page:8of9/aclus:(87,88,89,91,92,93,94,95,96,97)': 'C:/Users/pho/repos/Spike3DWorkEnv/Spike3D/data/neptune/commander.pho/PhoDibaLongShortUpdated/figs/gor01_two_2006-6-08_21-16-25/BatchPhoJonathanReplayFRC-shared-8of9-(87,88,89,91,92,93,94,95,96,97).png',\n",
       "    'display_fn_name:BatchPhoJonathanReplayFRC/plot_result_set:shared/page:9of9/aclus:(98,99,100,101,102,103)': 'C:/Users/pho/repos/Spike3DWorkEnv/Spike3D/data/neptune/commander.pho/PhoDibaLongShortUpdated/figs/gor01_two_2006-6-08_21-16-25/BatchPhoJonathanReplayFRC-shared-9of9-(98,99,100,101,102,103).png',\n",
       "    'display_fn_name:BatchPhoJonathanReplayFRC/plot_result_set:short_only/aclus:(4,8,16,27,33,39)': 'C:/Users/pho/repos/Spike3DWorkEnv/Spike3D/data/neptune/commander.pho/PhoDibaLongShortUpdated/figs/gor01_two_2006-6-08_21-16-25/BatchPhoJonathanReplayFRC-short_only-(4,8,16,27,33,39).png'}},\n",
       "  <String field at \"sys/id\">: {'gor01_two_2006-6-08_21-16-25': {'display_fn_name:BatchPhoJonathanReplayFRC/plot_result_set:long_only/aclus:(13,19,23,29,36,54,60,73,78,90)': 'C:/Users/pho/repos/Spike3DWorkEnv/Spike3D/data/neptune/commander.pho/PhoDibaLongShortUpdated/figs/gor01_two_2006-6-08_21-16-25/BatchPhoJonathanReplayFRC-long_only-(13,19,23,29,36,54,60,73,78,90).png',\n",
       "    'display_fn_name:BatchPhoJonathanReplayFRC/plot_result_set:long_only/aclus:(54,60,78,23,90,73,13,36,29,19)': 'C:/Users/pho/repos/Spike3DWorkEnv/Spike3D/data/neptune/commander.pho/PhoDibaLongShortUpdated/figs/gor01_two_2006-6-08_21-16-25/BatchPhoJonathanReplayFRC-long_only-(54,60,78,23,90,73,13,36,29,19).png',\n",
       "    'display_fn_name:BatchPhoJonathanReplayFRC/plot_result_set:shared/page:1of5/aclus:(58,41,42,46,55,101,31,63,68,11,69,87,25,91,14,92,2,65,100,86)': 'C:/Users/pho/repos/Spike3DWorkEnv/Spike3D/data/neptune/commander.pho/PhoDibaLongShortUpdated/figs/gor01_two_2006-6-08_21-16-25/BatchPhoJonathanReplayFRC-shared-1of5-(58,41,42,46,55,101,31,63,68,11,69,87,25,91,14,92,2,65,100,86).png',\n",
       "    'display_fn_name:BatchPhoJonathanReplayFRC/plot_result_set:shared/page:1of9/aclus:(2,3,5,6,7,9,10,11,12,14)': 'C:/Users/pho/repos/Spike3DWorkEnv/Spike3D/data/neptune/commander.pho/PhoDibaLongShortUpdated/figs/gor01_two_2006-6-08_21-16-25/BatchPhoJonathanReplayFRC-shared-1of9-(2,3,5,6,7,9,10,11,12,14).png',\n",
       "    'display_fn_name:BatchPhoJonathanReplayFRC/plot_result_set:shared/page:2of5/aclus:(59,12,7,74,76,64,103,44,24,34,61,85,38,51,56,9,22,15,66,75)': 'C:/Users/pho/repos/Spike3DWorkEnv/Spike3D/data/neptune/commander.pho/PhoDibaLongShortUpdated/figs/gor01_two_2006-6-08_21-16-25/BatchPhoJonathanReplayFRC-shared-2of5-(59,12,7,74,76,64,103,44,24,34,61,85,38,51,56,9,22,15,66,75).png',\n",
       "    'display_fn_name:BatchPhoJonathanReplayFRC/plot_result_set:shared/page:2of9/aclus:(15,17,18,20,21,22,24,25,26,28)': 'C:/Users/pho/repos/Spike3DWorkEnv/Spike3D/data/neptune/commander.pho/PhoDibaLongShortUpdated/figs/gor01_two_2006-6-08_21-16-25/BatchPhoJonathanReplayFRC-shared-2of9-(15,17,18,20,21,22,24,25,26,28).png',\n",
       "    'display_fn_name:BatchPhoJonathanReplayFRC/plot_result_set:shared/page:3of5/aclus:(57,37,94,71,95,97,50,17,77,67,18,70,6,79,3,47,82,83,96,26)': 'C:/Users/pho/repos/Spike3DWorkEnv/Spike3D/data/neptune/commander.pho/PhoDibaLongShortUpdated/figs/gor01_two_2006-6-08_21-16-25/BatchPhoJonathanReplayFRC-shared-3of5-(57,37,94,71,95,97,50,17,77,67,18,70,6,79,3,47,82,83,96,26).png',\n",
       "    'display_fn_name:BatchPhoJonathanReplayFRC/plot_result_set:shared/page:3of9/aclus:(30,31,32,34,35,37,38,40,41,42)': 'C:/Users/pho/repos/Spike3DWorkEnv/Spike3D/data/neptune/commander.pho/PhoDibaLongShortUpdated/figs/gor01_two_2006-6-08_21-16-25/BatchPhoJonathanReplayFRC-shared-3of9-(30,31,32,34,35,37,38,40,41,42).png',\n",
       "    'display_fn_name:BatchPhoJonathanReplayFRC/plot_result_set:shared/page:4of5/aclus:(89,5,10,20,21,28,30,32,35,40,43,45,48,49,52,53,62,72,80,81)': 'C:/Users/pho/repos/Spike3DWorkEnv/Spike3D/data/neptune/commander.pho/PhoDibaLongShortUpdated/figs/gor01_two_2006-6-08_21-16-25/BatchPhoJonathanReplayFRC-shared-4of5-(89,5,10,20,21,28,30,32,35,40,43,45,48,49,52,53,62,72,80,81).png',\n",
       "    'display_fn_name:BatchPhoJonathanReplayFRC/plot_result_set:shared/page:4of9/aclus:(43,44,45,46,47,48,49,50,51,52)': 'C:/Users/pho/repos/Spike3DWorkEnv/Spike3D/data/neptune/commander.pho/PhoDibaLongShortUpdated/figs/gor01_two_2006-6-08_21-16-25/BatchPhoJonathanReplayFRC-shared-4of9-(43,44,45,46,47,48,49,50,51,52).png',\n",
       "    'display_fn_name:BatchPhoJonathanReplayFRC/plot_result_set:shared/page:5of5/aclus:(84,88,93,98,99,102)': 'C:/Users/pho/repos/Spike3DWorkEnv/Spike3D/data/neptune/commander.pho/PhoDibaLongShortUpdated/figs/gor01_two_2006-6-08_21-16-25/BatchPhoJonathanReplayFRC-shared-5of5-(84,88,93,98,99,102).png',\n",
       "    'display_fn_name:BatchPhoJonathanReplayFRC/plot_result_set:shared/page:5of9/aclus:(53,55,56,57,58,59,61,62,63,64)': 'C:/Users/pho/repos/Spike3DWorkEnv/Spike3D/data/neptune/commander.pho/PhoDibaLongShortUpdated/figs/gor01_two_2006-6-08_21-16-25/BatchPhoJonathanReplayFRC-shared-5of9-(53,55,56,57,58,59,61,62,63,64).png',\n",
       "    'display_fn_name:BatchPhoJonathanReplayFRC/plot_result_set:shared/page:6of9/aclus:(65,66,67,68,69,70,71,72,74,75)': 'C:/Users/pho/repos/Spike3DWorkEnv/Spike3D/data/neptune/commander.pho/PhoDibaLongShortUpdated/figs/gor01_two_2006-6-08_21-16-25/BatchPhoJonathanReplayFRC-shared-6of9-(65,66,67,68,69,70,71,72,74,75).png',\n",
       "    'display_fn_name:BatchPhoJonathanReplayFRC/plot_result_set:shared/page:7of9/aclus:(76,77,79,80,81,82,83,84,85,86)': 'C:/Users/pho/repos/Spike3DWorkEnv/Spike3D/data/neptune/commander.pho/PhoDibaLongShortUpdated/figs/gor01_two_2006-6-08_21-16-25/BatchPhoJonathanReplayFRC-shared-7of9-(76,77,79,80,81,82,83,84,85,86).png',\n",
       "    'display_fn_name:BatchPhoJonathanReplayFRC/plot_result_set:shared/page:8of9/aclus:(87,88,89,91,92,93,94,95,96,97)': 'C:/Users/pho/repos/Spike3DWorkEnv/Spike3D/data/neptune/commander.pho/PhoDibaLongShortUpdated/figs/gor01_two_2006-6-08_21-16-25/BatchPhoJonathanReplayFRC-shared-8of9-(87,88,89,91,92,93,94,95,96,97).png',\n",
       "    'display_fn_name:BatchPhoJonathanReplayFRC/plot_result_set:shared/page:9of9/aclus:(98,99,100,101,102,103)': 'C:/Users/pho/repos/Spike3DWorkEnv/Spike3D/data/neptune/commander.pho/PhoDibaLongShortUpdated/figs/gor01_two_2006-6-08_21-16-25/BatchPhoJonathanReplayFRC-shared-9of9-(98,99,100,101,102,103).png',\n",
       "    'display_fn_name:BatchPhoJonathanReplayFRC/plot_result_set:short_only/aclus:(4,8,16,27,33,39)': 'C:/Users/pho/repos/Spike3DWorkEnv/Spike3D/data/neptune/commander.pho/PhoDibaLongShortUpdated/figs/gor01_two_2006-6-08_21-16-25/BatchPhoJonathanReplayFRC-short_only-(4,8,16,27,33,39).png'}}},\n",
       " Context(format_name= 'kdiba', animal= 'gor01', exper_name= 'two', session_name= '2006-6-07_16-40-19'): {<String field at \"sys/id\">: {'gor01_two_2006-6-07_16-40-19': {'display_fn_name:BatchPhoJonathanReplayFRC/plot_result_set:long_only/aclus:(48)': 'C:/Users/pho/repos/Spike3DWorkEnv/Spike3D/data/neptune/commander.pho/PhoDibaLongShortUpdated/figs/gor01_two_2006-6-07_16-40-19/BatchPhoJonathanReplayFRC-long_only-(48).png',\n",
       "    'display_fn_name:BatchPhoJonathanReplayFRC/plot_result_set:shared/page:1of3/aclus:(7,41,20,23,32,63,46,52,15,54,51,60,50,28,31,49,26,5,40,62)': 'C:/Users/pho/repos/Spike3DWorkEnv/Spike3D/data/neptune/commander.pho/PhoDibaLongShortUpdated/figs/gor01_two_2006-6-07_16-40-19/BatchPhoJonathanReplayFRC-shared-1of3-(7,41,20,23,32,63,46,52,15,54,51,60,50,28,31,49,26,5,40,62).png',\n",
       "    'display_fn_name:BatchPhoJonathanReplayFRC/plot_result_set:shared/page:1of6/aclus:(2,4,5,6,7,8,9,11,12,13)': 'C:/Users/pho/repos/Spike3DWorkEnv/Spike3D/data/neptune/commander.pho/PhoDibaLongShortUpdated/figs/gor01_two_2006-6-07_16-40-19/BatchPhoJonathanReplayFRC-shared-1of6-(2,4,5,6,7,8,9,11,12,13).png',\n",
       "    'display_fn_name:BatchPhoJonathanReplayFRC/plot_result_set:shared/page:2of3/aclus:(11,55,27,45,24,53,17,56,6,35,34,8,25,21,39,33,44,64,43,2)': 'C:/Users/pho/repos/Spike3DWorkEnv/Spike3D/data/neptune/commander.pho/PhoDibaLongShortUpdated/figs/gor01_two_2006-6-07_16-40-19/BatchPhoJonathanReplayFRC-shared-2of3-(11,55,27,45,24,53,17,56,6,35,34,8,25,21,39,33,44,64,43,2).png',\n",
       "    'display_fn_name:BatchPhoJonathanReplayFRC/plot_result_set:shared/page:2of6/aclus:(14,15,16,17,20,21,22,23,24,25)': 'C:/Users/pho/repos/Spike3DWorkEnv/Spike3D/data/neptune/commander.pho/PhoDibaLongShortUpdated/figs/gor01_two_2006-6-07_16-40-19/BatchPhoJonathanReplayFRC-shared-2of6-(14,15,16,17,20,21,22,23,24,25).png',\n",
       "    'display_fn_name:BatchPhoJonathanReplayFRC/plot_result_set:shared/page:3of3/aclus:(4,9,12,13,14,16,22,29,30,36,37,38,42,47,57,58,59,61)': 'C:/Users/pho/repos/Spike3DWorkEnv/Spike3D/data/neptune/commander.pho/PhoDibaLongShortUpdated/figs/gor01_two_2006-6-07_16-40-19/BatchPhoJonathanReplayFRC-shared-3of3-(4,9,12,13,14,16,22,29,30,36,37,38,42,47,57,58,59,61).png',\n",
       "    'display_fn_name:BatchPhoJonathanReplayFRC/plot_result_set:shared/page:3of6/aclus:(26,27,28,29,30,31,32,33,34,35)': 'C:/Users/pho/repos/Spike3DWorkEnv/Spike3D/data/neptune/commander.pho/PhoDibaLongShortUpdated/figs/gor01_two_2006-6-07_16-40-19/BatchPhoJonathanReplayFRC-shared-3of6-(26,27,28,29,30,31,32,33,34,35).png',\n",
       "    'display_fn_name:BatchPhoJonathanReplayFRC/plot_result_set:shared/page:4of6/aclus:(36,37,38,39,40,41,42,43,44,45)': 'C:/Users/pho/repos/Spike3DWorkEnv/Spike3D/data/neptune/commander.pho/PhoDibaLongShortUpdated/figs/gor01_two_2006-6-07_16-40-19/BatchPhoJonathanReplayFRC-shared-4of6-(36,37,38,39,40,41,42,43,44,45).png',\n",
       "    'display_fn_name:BatchPhoJonathanReplayFRC/plot_result_set:shared/page:5of6/aclus:(46,47,49,50,51,52,53,54,55,56)': 'C:/Users/pho/repos/Spike3DWorkEnv/Spike3D/data/neptune/commander.pho/PhoDibaLongShortUpdated/figs/gor01_two_2006-6-07_16-40-19/BatchPhoJonathanReplayFRC-shared-5of6-(46,47,49,50,51,52,53,54,55,56).png',\n",
       "    'display_fn_name:BatchPhoJonathanReplayFRC/plot_result_set:shared/page:6of6/aclus:(57,58,59,60,61,62,63,64)': 'C:/Users/pho/repos/Spike3DWorkEnv/Spike3D/data/neptune/commander.pho/PhoDibaLongShortUpdated/figs/gor01_two_2006-6-07_16-40-19/BatchPhoJonathanReplayFRC-shared-6of6-(57,58,59,60,61,62,63,64).png',\n",
       "    'display_fn_name:BatchPhoJonathanReplayFRC/plot_result_set:short_only/aclus:(3,10,18,19,65)': 'C:/Users/pho/repos/Spike3DWorkEnv/Spike3D/data/neptune/commander.pho/PhoDibaLongShortUpdated/figs/gor01_two_2006-6-07_16-40-19/BatchPhoJonathanReplayFRC-short_only-(3,10,18,19,65).png'}},\n",
       "  <String field at \"sys/id\">: {'gor01_two_2006-6-07_16-40-19': {'display_fn_name:BatchPhoJonathanReplayFRC/plot_result_set:long_only/aclus:(48)': 'C:/Users/pho/repos/Spike3DWorkEnv/Spike3D/data/neptune/commander.pho/PhoDibaLongShortUpdated/figs/gor01_two_2006-6-07_16-40-19/BatchPhoJonathanReplayFRC-long_only-(48).png',\n",
       "    'display_fn_name:BatchPhoJonathanReplayFRC/plot_result_set:shared/page:1of3/aclus:(7,41,20,23,32,63,46,52,15,54,51,60,50,28,31,49,26,5,40,62)': 'C:/Users/pho/repos/Spike3DWorkEnv/Spike3D/data/neptune/commander.pho/PhoDibaLongShortUpdated/figs/gor01_two_2006-6-07_16-40-19/BatchPhoJonathanReplayFRC-shared-1of3-(7,41,20,23,32,63,46,52,15,54,51,60,50,28,31,49,26,5,40,62).png',\n",
       "    'display_fn_name:BatchPhoJonathanReplayFRC/plot_result_set:shared/page:1of6/aclus:(2,4,5,6,7,8,9,11,12,13)': 'C:/Users/pho/repos/Spike3DWorkEnv/Spike3D/data/neptune/commander.pho/PhoDibaLongShortUpdated/figs/gor01_two_2006-6-07_16-40-19/BatchPhoJonathanReplayFRC-shared-1of6-(2,4,5,6,7,8,9,11,12,13).png',\n",
       "    'display_fn_name:BatchPhoJonathanReplayFRC/plot_result_set:shared/page:2of3/aclus:(11,55,27,45,24,53,17,56,6,35,34,8,25,21,39,33,44,64,43,2)': 'C:/Users/pho/repos/Spike3DWorkEnv/Spike3D/data/neptune/commander.pho/PhoDibaLongShortUpdated/figs/gor01_two_2006-6-07_16-40-19/BatchPhoJonathanReplayFRC-shared-2of3-(11,55,27,45,24,53,17,56,6,35,34,8,25,21,39,33,44,64,43,2).png',\n",
       "    'display_fn_name:BatchPhoJonathanReplayFRC/plot_result_set:shared/page:2of6/aclus:(14,15,16,17,20,21,22,23,24,25)': 'C:/Users/pho/repos/Spike3DWorkEnv/Spike3D/data/neptune/commander.pho/PhoDibaLongShortUpdated/figs/gor01_two_2006-6-07_16-40-19/BatchPhoJonathanReplayFRC-shared-2of6-(14,15,16,17,20,21,22,23,24,25).png',\n",
       "    'display_fn_name:BatchPhoJonathanReplayFRC/plot_result_set:shared/page:3of3/aclus:(4,9,12,13,14,16,22,29,30,36,37,38,42,47,57,58,59,61)': 'C:/Users/pho/repos/Spike3DWorkEnv/Spike3D/data/neptune/commander.pho/PhoDibaLongShortUpdated/figs/gor01_two_2006-6-07_16-40-19/BatchPhoJonathanReplayFRC-shared-3of3-(4,9,12,13,14,16,22,29,30,36,37,38,42,47,57,58,59,61).png',\n",
       "    'display_fn_name:BatchPhoJonathanReplayFRC/plot_result_set:shared/page:3of6/aclus:(26,27,28,29,30,31,32,33,34,35)': 'C:/Users/pho/repos/Spike3DWorkEnv/Spike3D/data/neptune/commander.pho/PhoDibaLongShortUpdated/figs/gor01_two_2006-6-07_16-40-19/BatchPhoJonathanReplayFRC-shared-3of6-(26,27,28,29,30,31,32,33,34,35).png',\n",
       "    'display_fn_name:BatchPhoJonathanReplayFRC/plot_result_set:shared/page:4of6/aclus:(36,37,38,39,40,41,42,43,44,45)': 'C:/Users/pho/repos/Spike3DWorkEnv/Spike3D/data/neptune/commander.pho/PhoDibaLongShortUpdated/figs/gor01_two_2006-6-07_16-40-19/BatchPhoJonathanReplayFRC-shared-4of6-(36,37,38,39,40,41,42,43,44,45).png',\n",
       "    'display_fn_name:BatchPhoJonathanReplayFRC/plot_result_set:shared/page:5of6/aclus:(46,47,49,50,51,52,53,54,55,56)': 'C:/Users/pho/repos/Spike3DWorkEnv/Spike3D/data/neptune/commander.pho/PhoDibaLongShortUpdated/figs/gor01_two_2006-6-07_16-40-19/BatchPhoJonathanReplayFRC-shared-5of6-(46,47,49,50,51,52,53,54,55,56).png',\n",
       "    'display_fn_name:BatchPhoJonathanReplayFRC/plot_result_set:shared/page:6of6/aclus:(57,58,59,60,61,62,63,64)': 'C:/Users/pho/repos/Spike3DWorkEnv/Spike3D/data/neptune/commander.pho/PhoDibaLongShortUpdated/figs/gor01_two_2006-6-07_16-40-19/BatchPhoJonathanReplayFRC-shared-6of6-(57,58,59,60,61,62,63,64).png',\n",
       "    'display_fn_name:BatchPhoJonathanReplayFRC/plot_result_set:short_only/aclus:(3,10,18,19,65)': 'C:/Users/pho/repos/Spike3DWorkEnv/Spike3D/data/neptune/commander.pho/PhoDibaLongShortUpdated/figs/gor01_two_2006-6-07_16-40-19/BatchPhoJonathanReplayFRC-short_only-(3,10,18,19,65).png'}},\n",
       "  <String field at \"sys/id\">: {'gor01_two_2006-6-07_16-40-19': {'display_fn_name:BatchPhoJonathanReplayFRC/plot_result_set:long_only/aclus:(48)': 'C:/Users/pho/repos/Spike3DWorkEnv/Spike3D/data/neptune/commander.pho/PhoDibaLongShortUpdated/figs/gor01_two_2006-6-07_16-40-19/BatchPhoJonathanReplayFRC-long_only-(48).png',\n",
       "    'display_fn_name:BatchPhoJonathanReplayFRC/plot_result_set:shared/page:1of3/aclus:(7,41,20,23,32,63,46,52,15,54,51,60,50,28,31,49,26,5,40,62)': 'C:/Users/pho/repos/Spike3DWorkEnv/Spike3D/data/neptune/commander.pho/PhoDibaLongShortUpdated/figs/gor01_two_2006-6-07_16-40-19/BatchPhoJonathanReplayFRC-shared-1of3-(7,41,20,23,32,63,46,52,15,54,51,60,50,28,31,49,26,5,40,62).png',\n",
       "    'display_fn_name:BatchPhoJonathanReplayFRC/plot_result_set:shared/page:1of6/aclus:(2,4,5,6,7,8,9,11,12,13)': 'C:/Users/pho/repos/Spike3DWorkEnv/Spike3D/data/neptune/commander.pho/PhoDibaLongShortUpdated/figs/gor01_two_2006-6-07_16-40-19/BatchPhoJonathanReplayFRC-shared-1of6-(2,4,5,6,7,8,9,11,12,13).png',\n",
       "    'display_fn_name:BatchPhoJonathanReplayFRC/plot_result_set:shared/page:2of3/aclus:(11,55,27,45,24,53,17,56,6,35,34,8,25,21,39,33,44,64,43,2)': 'C:/Users/pho/repos/Spike3DWorkEnv/Spike3D/data/neptune/commander.pho/PhoDibaLongShortUpdated/figs/gor01_two_2006-6-07_16-40-19/BatchPhoJonathanReplayFRC-shared-2of3-(11,55,27,45,24,53,17,56,6,35,34,8,25,21,39,33,44,64,43,2).png',\n",
       "    'display_fn_name:BatchPhoJonathanReplayFRC/plot_result_set:shared/page:2of6/aclus:(14,15,16,17,20,21,22,23,24,25)': 'C:/Users/pho/repos/Spike3DWorkEnv/Spike3D/data/neptune/commander.pho/PhoDibaLongShortUpdated/figs/gor01_two_2006-6-07_16-40-19/BatchPhoJonathanReplayFRC-shared-2of6-(14,15,16,17,20,21,22,23,24,25).png',\n",
       "    'display_fn_name:BatchPhoJonathanReplayFRC/plot_result_set:shared/page:3of3/aclus:(4,9,12,13,14,16,22,29,30,36,37,38,42,47,57,58,59,61)': 'C:/Users/pho/repos/Spike3DWorkEnv/Spike3D/data/neptune/commander.pho/PhoDibaLongShortUpdated/figs/gor01_two_2006-6-07_16-40-19/BatchPhoJonathanReplayFRC-shared-3of3-(4,9,12,13,14,16,22,29,30,36,37,38,42,47,57,58,59,61).png',\n",
       "    'display_fn_name:BatchPhoJonathanReplayFRC/plot_result_set:shared/page:3of6/aclus:(26,27,28,29,30,31,32,33,34,35)': 'C:/Users/pho/repos/Spike3DWorkEnv/Spike3D/data/neptune/commander.pho/PhoDibaLongShortUpdated/figs/gor01_two_2006-6-07_16-40-19/BatchPhoJonathanReplayFRC-shared-3of6-(26,27,28,29,30,31,32,33,34,35).png',\n",
       "    'display_fn_name:BatchPhoJonathanReplayFRC/plot_result_set:shared/page:4of6/aclus:(36,37,38,39,40,41,42,43,44,45)': 'C:/Users/pho/repos/Spike3DWorkEnv/Spike3D/data/neptune/commander.pho/PhoDibaLongShortUpdated/figs/gor01_two_2006-6-07_16-40-19/BatchPhoJonathanReplayFRC-shared-4of6-(36,37,38,39,40,41,42,43,44,45).png',\n",
       "    'display_fn_name:BatchPhoJonathanReplayFRC/plot_result_set:shared/page:5of6/aclus:(46,47,49,50,51,52,53,54,55,56)': 'C:/Users/pho/repos/Spike3DWorkEnv/Spike3D/data/neptune/commander.pho/PhoDibaLongShortUpdated/figs/gor01_two_2006-6-07_16-40-19/BatchPhoJonathanReplayFRC-shared-5of6-(46,47,49,50,51,52,53,54,55,56).png',\n",
       "    'display_fn_name:BatchPhoJonathanReplayFRC/plot_result_set:shared/page:6of6/aclus:(57,58,59,60,61,62,63,64)': 'C:/Users/pho/repos/Spike3DWorkEnv/Spike3D/data/neptune/commander.pho/PhoDibaLongShortUpdated/figs/gor01_two_2006-6-07_16-40-19/BatchPhoJonathanReplayFRC-shared-6of6-(57,58,59,60,61,62,63,64).png',\n",
       "    'display_fn_name:BatchPhoJonathanReplayFRC/plot_result_set:short_only/aclus:(3,10,18,19,65)': 'C:/Users/pho/repos/Spike3DWorkEnv/Spike3D/data/neptune/commander.pho/PhoDibaLongShortUpdated/figs/gor01_two_2006-6-07_16-40-19/BatchPhoJonathanReplayFRC-short_only-(3,10,18,19,65).png'}}},\n",
       " Context(format_name= 'kdiba', animal= 'gor01', exper_name= 'one', session_name= '2006-6-12_15-55-31'): {},\n",
       " Context(format_name= 'kdiba', animal= 'gor01', exper_name= 'one', session_name= '2006-6-09_1-22-43'): {<String field at \"sys/id\">: {'gor01_one_2006-6-09_1-22-43': {'display_fn_name:BatchPhoJonathanReplayFRC/plot_result_set:long_only/aclus:(103,38,5,23,29,3,63)': 'C:/Users/pho/repos/Spike3DWorkEnv/Spike3D/data/neptune/commander.pho/PhoDibaLongShortUpdated/figs/gor01_one_2006-6-09_1-22-43/BatchPhoJonathanReplayFRC-long_only-(103,38,5,23,29,3,63).png',\n",
       "    'display_fn_name:BatchPhoJonathanReplayFRC/plot_result_set:long_only/aclus:(3,5,23,29,38,63,103)': 'C:/Users/pho/repos/Spike3DWorkEnv/Spike3D/data/neptune/commander.pho/PhoDibaLongShortUpdated/figs/gor01_one_2006-6-09_1-22-43/BatchPhoJonathanReplayFRC-long_only-(3,5,23,29,38,63,103).png',\n",
       "    'display_fn_name:BatchPhoJonathanReplayFRC/plot_result_set:shared/page:10of10/aclus:(104)': 'C:/Users/pho/repos/Spike3DWorkEnv/Spike3D/data/neptune/commander.pho/PhoDibaLongShortUpdated/figs/gor01_one_2006-6-09_1-22-43/BatchPhoJonathanReplayFRC-shared-10of10-(104).png',\n",
       "    'display_fn_name:BatchPhoJonathanReplayFRC/plot_result_set:shared/page:1of10/aclus:(2,4,6,7,8,9,10,11,12,13)': 'C:/Users/pho/repos/Spike3DWorkEnv/Spike3D/data/neptune/commander.pho/PhoDibaLongShortUpdated/figs/gor01_one_2006-6-09_1-22-43/BatchPhoJonathanReplayFRC-shared-1of10-(2,4,6,7,8,9,10,11,12,13).png',\n",
       "    'display_fn_name:BatchPhoJonathanReplayFRC/plot_result_set:shared/page:1of5/aclus:(70,25,14,87,33,19,15,34,92,71,84,51,53,79,89,56,43,30,81,12)': 'C:/Users/pho/repos/Spike3DWorkEnv/Spike3D/data/neptune/commander.pho/PhoDibaLongShortUpdated/figs/gor01_one_2006-6-09_1-22-43/BatchPhoJonathanReplayFRC-shared-1of5-(70,25,14,87,33,19,15,34,92,71,84,51,53,79,89,56,43,30,81,12).png',\n",
       "    'display_fn_name:BatchPhoJonathanReplayFRC/plot_result_set:shared/page:2of10/aclus:(14,15,17,18,19,20,21,22,24,25)': 'C:/Users/pho/repos/Spike3DWorkEnv/Spike3D/data/neptune/commander.pho/PhoDibaLongShortUpdated/figs/gor01_one_2006-6-09_1-22-43/BatchPhoJonathanReplayFRC-shared-2of10-(14,15,17,18,19,20,21,22,24,25).png',\n",
       "    'display_fn_name:BatchPhoJonathanReplayFRC/plot_result_set:shared/page:2of5/aclus:(72,44,48,98,35,24,93,39,2,31,80,20,82,11,4,27,66,86,9,90)': 'C:/Users/pho/repos/Spike3DWorkEnv/Spike3D/data/neptune/commander.pho/PhoDibaLongShortUpdated/figs/gor01_one_2006-6-09_1-22-43/BatchPhoJonathanReplayFRC-shared-2of5-(72,44,48,98,35,24,93,39,2,31,80,20,82,11,4,27,66,86,9,90).png',\n",
       "    'display_fn_name:BatchPhoJonathanReplayFRC/plot_result_set:shared/page:3of10/aclus:(26,27,28,30,31,32,33,34,35,36)': 'C:/Users/pho/repos/Spike3DWorkEnv/Spike3D/data/neptune/commander.pho/PhoDibaLongShortUpdated/figs/gor01_one_2006-6-09_1-22-43/BatchPhoJonathanReplayFRC-shared-3of10-(26,27,28,30,31,32,33,34,35,36).png',\n",
       "    'display_fn_name:BatchPhoJonathanReplayFRC/plot_result_set:shared/page:3of5/aclus:(104,8,6,91,75,13,83,95,57,85,40,60,102,101,28,59,67,52,32,68)': 'C:/Users/pho/repos/Spike3DWorkEnv/Spike3D/data/neptune/commander.pho/PhoDibaLongShortUpdated/figs/gor01_one_2006-6-09_1-22-43/BatchPhoJonathanReplayFRC-shared-3of5-(104,8,6,91,75,13,83,95,57,85,40,60,102,101,28,59,67,52,32,68).png',\n",
       "    'display_fn_name:BatchPhoJonathanReplayFRC/plot_result_set:shared/page:4of10/aclus:(37,39,40,41,42,43,44,45,46,47)': 'C:/Users/pho/repos/Spike3DWorkEnv/Spike3D/data/neptune/commander.pho/PhoDibaLongShortUpdated/figs/gor01_one_2006-6-09_1-22-43/BatchPhoJonathanReplayFRC-shared-4of10-(37,39,40,41,42,43,44,45,46,47).png',\n",
       "    'display_fn_name:BatchPhoJonathanReplayFRC/plot_result_set:shared/page:4of5/aclus:(26,18,61,47,77,58,7,10,17,21,22,36,37,41,42,45,46,49,50,54)': 'C:/Users/pho/repos/Spike3DWorkEnv/Spike3D/data/neptune/commander.pho/PhoDibaLongShortUpdated/figs/gor01_one_2006-6-09_1-22-43/BatchPhoJonathanReplayFRC-shared-4of5-(26,18,61,47,77,58,7,10,17,21,22,36,37,41,42,45,46,49,50,54).png',\n",
       "    'display_fn_name:BatchPhoJonathanReplayFRC/plot_result_set:shared/page:5of10/aclus:(48,49,50,51,52,53,54,56,57,58)': 'C:/Users/pho/repos/Spike3DWorkEnv/Spike3D/data/neptune/commander.pho/PhoDibaLongShortUpdated/figs/gor01_one_2006-6-09_1-22-43/BatchPhoJonathanReplayFRC-shared-5of10-(48,49,50,51,52,53,54,56,57,58).png',\n",
       "    'display_fn_name:BatchPhoJonathanReplayFRC/plot_result_set:shared/page:5of5/aclus:(64,65,73,74,76,78,88,94,96,97,99)': 'C:/Users/pho/repos/Spike3DWorkEnv/Spike3D/data/neptune/commander.pho/PhoDibaLongShortUpdated/figs/gor01_one_2006-6-09_1-22-43/BatchPhoJonathanReplayFRC-shared-5of5-(64,65,73,74,76,78,88,94,96,97,99).png',\n",
       "    'display_fn_name:BatchPhoJonathanReplayFRC/plot_result_set:shared/page:6of10/aclus:(59,60,61,64,65,66,67,68,70,71)': 'C:/Users/pho/repos/Spike3DWorkEnv/Spike3D/data/neptune/commander.pho/PhoDibaLongShortUpdated/figs/gor01_one_2006-6-09_1-22-43/BatchPhoJonathanReplayFRC-shared-6of10-(59,60,61,64,65,66,67,68,70,71).png',\n",
       "    'display_fn_name:BatchPhoJonathanReplayFRC/plot_result_set:shared/page:7of10/aclus:(72,73,74,75,76,77,78,79,80,81)': 'C:/Users/pho/repos/Spike3DWorkEnv/Spike3D/data/neptune/commander.pho/PhoDibaLongShortUpdated/figs/gor01_one_2006-6-09_1-22-43/BatchPhoJonathanReplayFRC-shared-7of10-(72,73,74,75,76,77,78,79,80,81).png',\n",
       "    'display_fn_name:BatchPhoJonathanReplayFRC/plot_result_set:shared/page:8of10/aclus:(82,83,84,85,86,87,88,89,90,91)': 'C:/Users/pho/repos/Spike3DWorkEnv/Spike3D/data/neptune/commander.pho/PhoDibaLongShortUpdated/figs/gor01_one_2006-6-09_1-22-43/BatchPhoJonathanReplayFRC-shared-8of10-(82,83,84,85,86,87,88,89,90,91).png',\n",
       "    'display_fn_name:BatchPhoJonathanReplayFRC/plot_result_set:shared/page:9of10/aclus:(92,93,94,95,96,97,98,99,101,102)': 'C:/Users/pho/repos/Spike3DWorkEnv/Spike3D/data/neptune/commander.pho/PhoDibaLongShortUpdated/figs/gor01_one_2006-6-09_1-22-43/BatchPhoJonathanReplayFRC-shared-9of10-(92,93,94,95,96,97,98,99,101,102).png',\n",
       "    'display_fn_name:BatchPhoJonathanReplayFRC/plot_result_set:short_only/aclus:(16,55,62,69,100)': 'C:/Users/pho/repos/Spike3DWorkEnv/Spike3D/data/neptune/commander.pho/PhoDibaLongShortUpdated/figs/gor01_one_2006-6-09_1-22-43/BatchPhoJonathanReplayFRC-short_only-(16,55,62,69,100).png'}},\n",
       "  <String field at \"sys/id\">: {'gor01_one_2006-6-09_1-22-43': {'display_fn_name:BatchPhoJonathanReplayFRC/plot_result_set:long_only/aclus:(103,38,5,23,29,3,63)': 'C:/Users/pho/repos/Spike3DWorkEnv/Spike3D/data/neptune/commander.pho/PhoDibaLongShortUpdated/figs/gor01_one_2006-6-09_1-22-43/BatchPhoJonathanReplayFRC-long_only-(103,38,5,23,29,3,63).png',\n",
       "    'display_fn_name:BatchPhoJonathanReplayFRC/plot_result_set:long_only/aclus:(3,5,23,29,38,63,103)': 'C:/Users/pho/repos/Spike3DWorkEnv/Spike3D/data/neptune/commander.pho/PhoDibaLongShortUpdated/figs/gor01_one_2006-6-09_1-22-43/BatchPhoJonathanReplayFRC-long_only-(3,5,23,29,38,63,103).png',\n",
       "    'display_fn_name:BatchPhoJonathanReplayFRC/plot_result_set:shared/page:10of10/aclus:(104)': 'C:/Users/pho/repos/Spike3DWorkEnv/Spike3D/data/neptune/commander.pho/PhoDibaLongShortUpdated/figs/gor01_one_2006-6-09_1-22-43/BatchPhoJonathanReplayFRC-shared-10of10-(104).png',\n",
       "    'display_fn_name:BatchPhoJonathanReplayFRC/plot_result_set:shared/page:1of10/aclus:(2,4,6,7,8,9,10,11,12,13)': 'C:/Users/pho/repos/Spike3DWorkEnv/Spike3D/data/neptune/commander.pho/PhoDibaLongShortUpdated/figs/gor01_one_2006-6-09_1-22-43/BatchPhoJonathanReplayFRC-shared-1of10-(2,4,6,7,8,9,10,11,12,13).png',\n",
       "    'display_fn_name:BatchPhoJonathanReplayFRC/plot_result_set:shared/page:1of5/aclus:(70,25,14,87,33,19,15,34,92,71,84,51,53,79,89,56,43,30,81,12)': 'C:/Users/pho/repos/Spike3DWorkEnv/Spike3D/data/neptune/commander.pho/PhoDibaLongShortUpdated/figs/gor01_one_2006-6-09_1-22-43/BatchPhoJonathanReplayFRC-shared-1of5-(70,25,14,87,33,19,15,34,92,71,84,51,53,79,89,56,43,30,81,12).png',\n",
       "    'display_fn_name:BatchPhoJonathanReplayFRC/plot_result_set:shared/page:2of10/aclus:(14,15,17,18,19,20,21,22,24,25)': 'C:/Users/pho/repos/Spike3DWorkEnv/Spike3D/data/neptune/commander.pho/PhoDibaLongShortUpdated/figs/gor01_one_2006-6-09_1-22-43/BatchPhoJonathanReplayFRC-shared-2of10-(14,15,17,18,19,20,21,22,24,25).png',\n",
       "    'display_fn_name:BatchPhoJonathanReplayFRC/plot_result_set:shared/page:2of5/aclus:(72,44,48,98,35,24,93,39,2,31,80,20,82,11,4,27,66,86,9,90)': 'C:/Users/pho/repos/Spike3DWorkEnv/Spike3D/data/neptune/commander.pho/PhoDibaLongShortUpdated/figs/gor01_one_2006-6-09_1-22-43/BatchPhoJonathanReplayFRC-shared-2of5-(72,44,48,98,35,24,93,39,2,31,80,20,82,11,4,27,66,86,9,90).png',\n",
       "    'display_fn_name:BatchPhoJonathanReplayFRC/plot_result_set:shared/page:3of10/aclus:(26,27,28,30,31,32,33,34,35,36)': 'C:/Users/pho/repos/Spike3DWorkEnv/Spike3D/data/neptune/commander.pho/PhoDibaLongShortUpdated/figs/gor01_one_2006-6-09_1-22-43/BatchPhoJonathanReplayFRC-shared-3of10-(26,27,28,30,31,32,33,34,35,36).png',\n",
       "    'display_fn_name:BatchPhoJonathanReplayFRC/plot_result_set:shared/page:3of5/aclus:(104,8,6,91,75,13,83,95,57,85,40,60,102,101,28,59,67,52,32,68)': 'C:/Users/pho/repos/Spike3DWorkEnv/Spike3D/data/neptune/commander.pho/PhoDibaLongShortUpdated/figs/gor01_one_2006-6-09_1-22-43/BatchPhoJonathanReplayFRC-shared-3of5-(104,8,6,91,75,13,83,95,57,85,40,60,102,101,28,59,67,52,32,68).png',\n",
       "    'display_fn_name:BatchPhoJonathanReplayFRC/plot_result_set:shared/page:4of10/aclus:(37,39,40,41,42,43,44,45,46,47)': 'C:/Users/pho/repos/Spike3DWorkEnv/Spike3D/data/neptune/commander.pho/PhoDibaLongShortUpdated/figs/gor01_one_2006-6-09_1-22-43/BatchPhoJonathanReplayFRC-shared-4of10-(37,39,40,41,42,43,44,45,46,47).png',\n",
       "    'display_fn_name:BatchPhoJonathanReplayFRC/plot_result_set:shared/page:4of5/aclus:(26,18,61,47,77,58,7,10,17,21,22,36,37,41,42,45,46,49,50,54)': 'C:/Users/pho/repos/Spike3DWorkEnv/Spike3D/data/neptune/commander.pho/PhoDibaLongShortUpdated/figs/gor01_one_2006-6-09_1-22-43/BatchPhoJonathanReplayFRC-shared-4of5-(26,18,61,47,77,58,7,10,17,21,22,36,37,41,42,45,46,49,50,54).png',\n",
       "    'display_fn_name:BatchPhoJonathanReplayFRC/plot_result_set:shared/page:5of10/aclus:(48,49,50,51,52,53,54,56,57,58)': 'C:/Users/pho/repos/Spike3DWorkEnv/Spike3D/data/neptune/commander.pho/PhoDibaLongShortUpdated/figs/gor01_one_2006-6-09_1-22-43/BatchPhoJonathanReplayFRC-shared-5of10-(48,49,50,51,52,53,54,56,57,58).png',\n",
       "    'display_fn_name:BatchPhoJonathanReplayFRC/plot_result_set:shared/page:5of5/aclus:(64,65,73,74,76,78,88,94,96,97,99)': 'C:/Users/pho/repos/Spike3DWorkEnv/Spike3D/data/neptune/commander.pho/PhoDibaLongShortUpdated/figs/gor01_one_2006-6-09_1-22-43/BatchPhoJonathanReplayFRC-shared-5of5-(64,65,73,74,76,78,88,94,96,97,99).png',\n",
       "    'display_fn_name:BatchPhoJonathanReplayFRC/plot_result_set:shared/page:6of10/aclus:(59,60,61,64,65,66,67,68,70,71)': 'C:/Users/pho/repos/Spike3DWorkEnv/Spike3D/data/neptune/commander.pho/PhoDibaLongShortUpdated/figs/gor01_one_2006-6-09_1-22-43/BatchPhoJonathanReplayFRC-shared-6of10-(59,60,61,64,65,66,67,68,70,71).png',\n",
       "    'display_fn_name:BatchPhoJonathanReplayFRC/plot_result_set:shared/page:7of10/aclus:(72,73,74,75,76,77,78,79,80,81)': 'C:/Users/pho/repos/Spike3DWorkEnv/Spike3D/data/neptune/commander.pho/PhoDibaLongShortUpdated/figs/gor01_one_2006-6-09_1-22-43/BatchPhoJonathanReplayFRC-shared-7of10-(72,73,74,75,76,77,78,79,80,81).png',\n",
       "    'display_fn_name:BatchPhoJonathanReplayFRC/plot_result_set:shared/page:8of10/aclus:(82,83,84,85,86,87,88,89,90,91)': 'C:/Users/pho/repos/Spike3DWorkEnv/Spike3D/data/neptune/commander.pho/PhoDibaLongShortUpdated/figs/gor01_one_2006-6-09_1-22-43/BatchPhoJonathanReplayFRC-shared-8of10-(82,83,84,85,86,87,88,89,90,91).png',\n",
       "    'display_fn_name:BatchPhoJonathanReplayFRC/plot_result_set:shared/page:9of10/aclus:(92,93,94,95,96,97,98,99,101,102)': 'C:/Users/pho/repos/Spike3DWorkEnv/Spike3D/data/neptune/commander.pho/PhoDibaLongShortUpdated/figs/gor01_one_2006-6-09_1-22-43/BatchPhoJonathanReplayFRC-shared-9of10-(92,93,94,95,96,97,98,99,101,102).png',\n",
       "    'display_fn_name:BatchPhoJonathanReplayFRC/plot_result_set:short_only/aclus:(16,55,62,69,100)': 'C:/Users/pho/repos/Spike3DWorkEnv/Spike3D/data/neptune/commander.pho/PhoDibaLongShortUpdated/figs/gor01_one_2006-6-09_1-22-43/BatchPhoJonathanReplayFRC-short_only-(16,55,62,69,100).png'}},\n",
       "  <String field at \"sys/id\">: {'gor01_one_2006-6-09_1-22-43': {'display_fn_name:BatchPhoJonathanReplayFRC/plot_result_set:long_only/aclus:(103,38,5,23,29,3,63)': 'C:/Users/pho/repos/Spike3DWorkEnv/Spike3D/data/neptune/commander.pho/PhoDibaLongShortUpdated/figs/gor01_one_2006-6-09_1-22-43/BatchPhoJonathanReplayFRC-long_only-(103,38,5,23,29,3,63).png',\n",
       "    'display_fn_name:BatchPhoJonathanReplayFRC/plot_result_set:long_only/aclus:(3,5,23,29,38,63,103)': 'C:/Users/pho/repos/Spike3DWorkEnv/Spike3D/data/neptune/commander.pho/PhoDibaLongShortUpdated/figs/gor01_one_2006-6-09_1-22-43/BatchPhoJonathanReplayFRC-long_only-(3,5,23,29,38,63,103).png',\n",
       "    'display_fn_name:BatchPhoJonathanReplayFRC/plot_result_set:shared/page:10of10/aclus:(104)': 'C:/Users/pho/repos/Spike3DWorkEnv/Spike3D/data/neptune/commander.pho/PhoDibaLongShortUpdated/figs/gor01_one_2006-6-09_1-22-43/BatchPhoJonathanReplayFRC-shared-10of10-(104).png',\n",
       "    'display_fn_name:BatchPhoJonathanReplayFRC/plot_result_set:shared/page:1of10/aclus:(2,4,6,7,8,9,10,11,12,13)': 'C:/Users/pho/repos/Spike3DWorkEnv/Spike3D/data/neptune/commander.pho/PhoDibaLongShortUpdated/figs/gor01_one_2006-6-09_1-22-43/BatchPhoJonathanReplayFRC-shared-1of10-(2,4,6,7,8,9,10,11,12,13).png',\n",
       "    'display_fn_name:BatchPhoJonathanReplayFRC/plot_result_set:shared/page:1of5/aclus:(70,25,14,87,33,19,15,34,92,71,84,51,53,79,89,56,43,30,81,12)': 'C:/Users/pho/repos/Spike3DWorkEnv/Spike3D/data/neptune/commander.pho/PhoDibaLongShortUpdated/figs/gor01_one_2006-6-09_1-22-43/BatchPhoJonathanReplayFRC-shared-1of5-(70,25,14,87,33,19,15,34,92,71,84,51,53,79,89,56,43,30,81,12).png',\n",
       "    'display_fn_name:BatchPhoJonathanReplayFRC/plot_result_set:shared/page:2of10/aclus:(14,15,17,18,19,20,21,22,24,25)': 'C:/Users/pho/repos/Spike3DWorkEnv/Spike3D/data/neptune/commander.pho/PhoDibaLongShortUpdated/figs/gor01_one_2006-6-09_1-22-43/BatchPhoJonathanReplayFRC-shared-2of10-(14,15,17,18,19,20,21,22,24,25).png',\n",
       "    'display_fn_name:BatchPhoJonathanReplayFRC/plot_result_set:shared/page:2of5/aclus:(72,44,48,98,35,24,93,39,2,31,80,20,82,11,4,27,66,86,9,90)': 'C:/Users/pho/repos/Spike3DWorkEnv/Spike3D/data/neptune/commander.pho/PhoDibaLongShortUpdated/figs/gor01_one_2006-6-09_1-22-43/BatchPhoJonathanReplayFRC-shared-2of5-(72,44,48,98,35,24,93,39,2,31,80,20,82,11,4,27,66,86,9,90).png',\n",
       "    'display_fn_name:BatchPhoJonathanReplayFRC/plot_result_set:shared/page:3of10/aclus:(26,27,28,30,31,32,33,34,35,36)': 'C:/Users/pho/repos/Spike3DWorkEnv/Spike3D/data/neptune/commander.pho/PhoDibaLongShortUpdated/figs/gor01_one_2006-6-09_1-22-43/BatchPhoJonathanReplayFRC-shared-3of10-(26,27,28,30,31,32,33,34,35,36).png',\n",
       "    'display_fn_name:BatchPhoJonathanReplayFRC/plot_result_set:shared/page:3of5/aclus:(104,8,6,91,75,13,83,95,57,85,40,60,102,101,28,59,67,52,32,68)': 'C:/Users/pho/repos/Spike3DWorkEnv/Spike3D/data/neptune/commander.pho/PhoDibaLongShortUpdated/figs/gor01_one_2006-6-09_1-22-43/BatchPhoJonathanReplayFRC-shared-3of5-(104,8,6,91,75,13,83,95,57,85,40,60,102,101,28,59,67,52,32,68).png',\n",
       "    'display_fn_name:BatchPhoJonathanReplayFRC/plot_result_set:shared/page:4of10/aclus:(37,39,40,41,42,43,44,45,46,47)': 'C:/Users/pho/repos/Spike3DWorkEnv/Spike3D/data/neptune/commander.pho/PhoDibaLongShortUpdated/figs/gor01_one_2006-6-09_1-22-43/BatchPhoJonathanReplayFRC-shared-4of10-(37,39,40,41,42,43,44,45,46,47).png',\n",
       "    'display_fn_name:BatchPhoJonathanReplayFRC/plot_result_set:shared/page:4of5/aclus:(26,18,61,47,77,58,7,10,17,21,22,36,37,41,42,45,46,49,50,54)': 'C:/Users/pho/repos/Spike3DWorkEnv/Spike3D/data/neptune/commander.pho/PhoDibaLongShortUpdated/figs/gor01_one_2006-6-09_1-22-43/BatchPhoJonathanReplayFRC-shared-4of5-(26,18,61,47,77,58,7,10,17,21,22,36,37,41,42,45,46,49,50,54).png',\n",
       "    'display_fn_name:BatchPhoJonathanReplayFRC/plot_result_set:shared/page:5of10/aclus:(48,49,50,51,52,53,54,56,57,58)': 'C:/Users/pho/repos/Spike3DWorkEnv/Spike3D/data/neptune/commander.pho/PhoDibaLongShortUpdated/figs/gor01_one_2006-6-09_1-22-43/BatchPhoJonathanReplayFRC-shared-5of10-(48,49,50,51,52,53,54,56,57,58).png',\n",
       "    'display_fn_name:BatchPhoJonathanReplayFRC/plot_result_set:shared/page:5of5/aclus:(64,65,73,74,76,78,88,94,96,97,99)': 'C:/Users/pho/repos/Spike3DWorkEnv/Spike3D/data/neptune/commander.pho/PhoDibaLongShortUpdated/figs/gor01_one_2006-6-09_1-22-43/BatchPhoJonathanReplayFRC-shared-5of5-(64,65,73,74,76,78,88,94,96,97,99).png',\n",
       "    'display_fn_name:BatchPhoJonathanReplayFRC/plot_result_set:shared/page:6of10/aclus:(59,60,61,64,65,66,67,68,70,71)': 'C:/Users/pho/repos/Spike3DWorkEnv/Spike3D/data/neptune/commander.pho/PhoDibaLongShortUpdated/figs/gor01_one_2006-6-09_1-22-43/BatchPhoJonathanReplayFRC-shared-6of10-(59,60,61,64,65,66,67,68,70,71).png',\n",
       "    'display_fn_name:BatchPhoJonathanReplayFRC/plot_result_set:shared/page:7of10/aclus:(72,73,74,75,76,77,78,79,80,81)': 'C:/Users/pho/repos/Spike3DWorkEnv/Spike3D/data/neptune/commander.pho/PhoDibaLongShortUpdated/figs/gor01_one_2006-6-09_1-22-43/BatchPhoJonathanReplayFRC-shared-7of10-(72,73,74,75,76,77,78,79,80,81).png',\n",
       "    'display_fn_name:BatchPhoJonathanReplayFRC/plot_result_set:shared/page:8of10/aclus:(82,83,84,85,86,87,88,89,90,91)': 'C:/Users/pho/repos/Spike3DWorkEnv/Spike3D/data/neptune/commander.pho/PhoDibaLongShortUpdated/figs/gor01_one_2006-6-09_1-22-43/BatchPhoJonathanReplayFRC-shared-8of10-(82,83,84,85,86,87,88,89,90,91).png',\n",
       "    'display_fn_name:BatchPhoJonathanReplayFRC/plot_result_set:shared/page:9of10/aclus:(92,93,94,95,96,97,98,99,101,102)': 'C:/Users/pho/repos/Spike3DWorkEnv/Spike3D/data/neptune/commander.pho/PhoDibaLongShortUpdated/figs/gor01_one_2006-6-09_1-22-43/BatchPhoJonathanReplayFRC-shared-9of10-(92,93,94,95,96,97,98,99,101,102).png',\n",
       "    'display_fn_name:BatchPhoJonathanReplayFRC/plot_result_set:short_only/aclus:(16,55,62,69,100)': 'C:/Users/pho/repos/Spike3DWorkEnv/Spike3D/data/neptune/commander.pho/PhoDibaLongShortUpdated/figs/gor01_one_2006-6-09_1-22-43/BatchPhoJonathanReplayFRC-short_only-(16,55,62,69,100).png'}}},\n",
       " Context(format_name= 'kdiba', animal= 'gor01', exper_name= 'one', session_name= '2006-6-08_14-26-15'): {<String field at \"sys/id\">: {'gor01_one_2006-6-08_14-26-15': {'display_fn_name:BatchPhoJonathanReplayFRC/plot_result_set:long_only/aclus:(8,16,28,37,74,97,109)': 'C:/Users/pho/repos/Spike3DWorkEnv/Spike3D/data/neptune/commander.pho/PhoDibaLongShortUpdated/figs/gor01_one_2006-6-08_14-26-15/BatchPhoJonathanReplayFRC-long_only-(8,16,28,37,74,97,109).png',\n",
       "    'display_fn_name:BatchPhoJonathanReplayFRC/plot_result_set:long_only/aclus:(97,74,109,8,16,37,28)': 'C:/Users/pho/repos/Spike3DWorkEnv/Spike3D/data/neptune/commander.pho/PhoDibaLongShortUpdated/figs/gor01_one_2006-6-08_14-26-15/BatchPhoJonathanReplayFRC-long_only-(97,74,109,8,16,37,28).png',\n",
       "    'display_fn_name:BatchPhoJonathanReplayFRC/plot_result_set:shared/page:10of10/aclus:(105,106,107,108)': 'C:/Users/pho/repos/Spike3DWorkEnv/Spike3D/data/neptune/commander.pho/PhoDibaLongShortUpdated/figs/gor01_one_2006-6-08_14-26-15/BatchPhoJonathanReplayFRC-shared-10of10-(105,106,107,108).png',\n",
       "    'display_fn_name:BatchPhoJonathanReplayFRC/plot_result_set:shared/page:1of10/aclus:(2,3,5,6,7,9,10,12,14,15)': 'C:/Users/pho/repos/Spike3DWorkEnv/Spike3D/data/neptune/commander.pho/PhoDibaLongShortUpdated/figs/gor01_one_2006-6-08_14-26-15/BatchPhoJonathanReplayFRC-shared-1of10-(2,3,5,6,7,9,10,12,14,15).png',\n",
       "    'display_fn_name:BatchPhoJonathanReplayFRC/plot_result_set:shared/page:1of5/aclus:(54,61,102,81,68,70,84,7,45,71,34,17,51,92,5,83,93,49,69,96)': 'C:/Users/pho/repos/Spike3DWorkEnv/Spike3D/data/neptune/commander.pho/PhoDibaLongShortUpdated/figs/gor01_one_2006-6-08_14-26-15/BatchPhoJonathanReplayFRC-shared-1of5-(54,61,102,81,68,70,84,7,45,71,34,17,51,92,5,83,93,49,69,96).png',\n",
       "    'display_fn_name:BatchPhoJonathanReplayFRC/plot_result_set:shared/page:2of10/aclus:(17,18,19,20,21,22,24,25,26,27)': 'C:/Users/pho/repos/Spike3DWorkEnv/Spike3D/data/neptune/commander.pho/PhoDibaLongShortUpdated/figs/gor01_one_2006-6-08_14-26-15/BatchPhoJonathanReplayFRC-shared-2of10-(17,18,19,20,21,22,24,25,26,27).png',\n",
       "    'display_fn_name:BatchPhoJonathanReplayFRC/plot_result_set:shared/page:2of5/aclus:(26,15,14,31,32,55,3,33,50,76,25,24,82,10,90,78,64,75,85,73)': 'C:/Users/pho/repos/Spike3DWorkEnv/Spike3D/data/neptune/commander.pho/PhoDibaLongShortUpdated/figs/gor01_one_2006-6-08_14-26-15/BatchPhoJonathanReplayFRC-shared-2of5-(26,15,14,31,32,55,3,33,50,76,25,24,82,10,90,78,64,75,85,73).png',\n",
       "    'display_fn_name:BatchPhoJonathanReplayFRC/plot_result_set:shared/page:3of10/aclus:(29,30,31,32,33,34,35,36,38,39)': 'C:/Users/pho/repos/Spike3DWorkEnv/Spike3D/data/neptune/commander.pho/PhoDibaLongShortUpdated/figs/gor01_one_2006-6-08_14-26-15/BatchPhoJonathanReplayFRC-shared-3of10-(29,30,31,32,33,34,35,36,38,39).png',\n",
       "    'display_fn_name:BatchPhoJonathanReplayFRC/plot_result_set:shared/page:3of5/aclus:(41,86,107,100,53,62,88,35,89,98,56,59,60,108,57,48,63,67,66,19)': 'C:/Users/pho/repos/Spike3DWorkEnv/Spike3D/data/neptune/commander.pho/PhoDibaLongShortUpdated/figs/gor01_one_2006-6-08_14-26-15/BatchPhoJonathanReplayFRC-shared-3of5-(41,86,107,100,53,62,88,35,89,98,56,59,60,108,57,48,63,67,66,19).png',\n",
       "    'display_fn_name:BatchPhoJonathanReplayFRC/plot_result_set:shared/page:4of10/aclus:(40,41,42,43,44,45,46,47,48,49)': 'C:/Users/pho/repos/Spike3DWorkEnv/Spike3D/data/neptune/commander.pho/PhoDibaLongShortUpdated/figs/gor01_one_2006-6-08_14-26-15/BatchPhoJonathanReplayFRC-shared-4of10-(40,41,42,43,44,45,46,47,48,49).png',\n",
       "    'display_fn_name:BatchPhoJonathanReplayFRC/plot_result_set:shared/page:4of5/aclus:(9,36,2,6,12,18,20,21,22,27,29,30,38,39,40,42,43,44,46,47)': 'C:/Users/pho/repos/Spike3DWorkEnv/Spike3D/data/neptune/commander.pho/PhoDibaLongShortUpdated/figs/gor01_one_2006-6-08_14-26-15/BatchPhoJonathanReplayFRC-shared-4of5-(9,36,2,6,12,18,20,21,22,27,29,30,38,39,40,42,43,44,46,47).png',\n",
       "    'display_fn_name:BatchPhoJonathanReplayFRC/plot_result_set:shared/page:5of10/aclus:(50,51,53,54,55,56,57,59,60,61)': 'C:/Users/pho/repos/Spike3DWorkEnv/Spike3D/data/neptune/commander.pho/PhoDibaLongShortUpdated/figs/gor01_one_2006-6-08_14-26-15/BatchPhoJonathanReplayFRC-shared-5of10-(50,51,53,54,55,56,57,59,60,61).png',\n",
       "    'display_fn_name:BatchPhoJonathanReplayFRC/plot_result_set:shared/page:5of5/aclus:(65,72,77,79,80,91,94,95,99,101,103,104,105,106)': 'C:/Users/pho/repos/Spike3DWorkEnv/Spike3D/data/neptune/commander.pho/PhoDibaLongShortUpdated/figs/gor01_one_2006-6-08_14-26-15/BatchPhoJonathanReplayFRC-shared-5of5-(65,72,77,79,80,91,94,95,99,101,103,104,105,106).png',\n",
       "    'display_fn_name:BatchPhoJonathanReplayFRC/plot_result_set:shared/page:6of10/aclus:(62,63,64,65,66,67,68,69,70,71)': 'C:/Users/pho/repos/Spike3DWorkEnv/Spike3D/data/neptune/commander.pho/PhoDibaLongShortUpdated/figs/gor01_one_2006-6-08_14-26-15/BatchPhoJonathanReplayFRC-shared-6of10-(62,63,64,65,66,67,68,69,70,71).png',\n",
       "    'display_fn_name:BatchPhoJonathanReplayFRC/plot_result_set:shared/page:7of10/aclus:(72,73,75,76,77,78,79,80,81,82)': 'C:/Users/pho/repos/Spike3DWorkEnv/Spike3D/data/neptune/commander.pho/PhoDibaLongShortUpdated/figs/gor01_one_2006-6-08_14-26-15/BatchPhoJonathanReplayFRC-shared-7of10-(72,73,75,76,77,78,79,80,81,82).png',\n",
       "    'display_fn_name:BatchPhoJonathanReplayFRC/plot_result_set:shared/page:8of10/aclus:(83,84,85,86,88,89,90,91,92,93)': 'C:/Users/pho/repos/Spike3DWorkEnv/Spike3D/data/neptune/commander.pho/PhoDibaLongShortUpdated/figs/gor01_one_2006-6-08_14-26-15/BatchPhoJonathanReplayFRC-shared-8of10-(83,84,85,86,88,89,90,91,92,93).png',\n",
       "    'display_fn_name:BatchPhoJonathanReplayFRC/plot_result_set:shared/page:9of10/aclus:(94,95,96,98,99,100,101,102,103,104)': 'C:/Users/pho/repos/Spike3DWorkEnv/Spike3D/data/neptune/commander.pho/PhoDibaLongShortUpdated/figs/gor01_one_2006-6-08_14-26-15/BatchPhoJonathanReplayFRC-shared-9of10-(94,95,96,98,99,100,101,102,103,104).png',\n",
       "    'display_fn_name:BatchPhoJonathanReplayFRC/plot_result_set:short_only/aclus:(4,11,13,23,52,58,87)': 'C:/Users/pho/repos/Spike3DWorkEnv/Spike3D/data/neptune/commander.pho/PhoDibaLongShortUpdated/figs/gor01_one_2006-6-08_14-26-15/BatchPhoJonathanReplayFRC-short_only-(4,11,13,23,52,58,87).png'}},\n",
       "  <String field at \"sys/id\">: {'gor01_one_2006-6-08_14-26-15': {'display_fn_name:BatchPhoJonathanReplayFRC/plot_result_set:long_only/aclus:(8,16,28,37,74,97,109)': 'C:/Users/pho/repos/Spike3DWorkEnv/Spike3D/data/neptune/commander.pho/PhoDibaLongShortUpdated/figs/gor01_one_2006-6-08_14-26-15/BatchPhoJonathanReplayFRC-long_only-(8,16,28,37,74,97,109).png',\n",
       "    'display_fn_name:BatchPhoJonathanReplayFRC/plot_result_set:long_only/aclus:(97,74,109,8,16,37,28)': 'C:/Users/pho/repos/Spike3DWorkEnv/Spike3D/data/neptune/commander.pho/PhoDibaLongShortUpdated/figs/gor01_one_2006-6-08_14-26-15/BatchPhoJonathanReplayFRC-long_only-(97,74,109,8,16,37,28).png',\n",
       "    'display_fn_name:BatchPhoJonathanReplayFRC/plot_result_set:shared/page:10of10/aclus:(105,106,107,108)': 'C:/Users/pho/repos/Spike3DWorkEnv/Spike3D/data/neptune/commander.pho/PhoDibaLongShortUpdated/figs/gor01_one_2006-6-08_14-26-15/BatchPhoJonathanReplayFRC-shared-10of10-(105,106,107,108).png',\n",
       "    'display_fn_name:BatchPhoJonathanReplayFRC/plot_result_set:shared/page:1of10/aclus:(2,3,5,6,7,9,10,12,14,15)': 'C:/Users/pho/repos/Spike3DWorkEnv/Spike3D/data/neptune/commander.pho/PhoDibaLongShortUpdated/figs/gor01_one_2006-6-08_14-26-15/BatchPhoJonathanReplayFRC-shared-1of10-(2,3,5,6,7,9,10,12,14,15).png',\n",
       "    'display_fn_name:BatchPhoJonathanReplayFRC/plot_result_set:shared/page:1of5/aclus:(54,61,102,81,68,70,84,7,45,71,34,17,51,92,5,83,93,49,69,96)': 'C:/Users/pho/repos/Spike3DWorkEnv/Spike3D/data/neptune/commander.pho/PhoDibaLongShortUpdated/figs/gor01_one_2006-6-08_14-26-15/BatchPhoJonathanReplayFRC-shared-1of5-(54,61,102,81,68,70,84,7,45,71,34,17,51,92,5,83,93,49,69,96).png',\n",
       "    'display_fn_name:BatchPhoJonathanReplayFRC/plot_result_set:shared/page:2of10/aclus:(17,18,19,20,21,22,24,25,26,27)': 'C:/Users/pho/repos/Spike3DWorkEnv/Spike3D/data/neptune/commander.pho/PhoDibaLongShortUpdated/figs/gor01_one_2006-6-08_14-26-15/BatchPhoJonathanReplayFRC-shared-2of10-(17,18,19,20,21,22,24,25,26,27).png',\n",
       "    'display_fn_name:BatchPhoJonathanReplayFRC/plot_result_set:shared/page:2of5/aclus:(26,15,14,31,32,55,3,33,50,76,25,24,82,10,90,78,64,75,85,73)': 'C:/Users/pho/repos/Spike3DWorkEnv/Spike3D/data/neptune/commander.pho/PhoDibaLongShortUpdated/figs/gor01_one_2006-6-08_14-26-15/BatchPhoJonathanReplayFRC-shared-2of5-(26,15,14,31,32,55,3,33,50,76,25,24,82,10,90,78,64,75,85,73).png',\n",
       "    'display_fn_name:BatchPhoJonathanReplayFRC/plot_result_set:shared/page:3of10/aclus:(29,30,31,32,33,34,35,36,38,39)': 'C:/Users/pho/repos/Spike3DWorkEnv/Spike3D/data/neptune/commander.pho/PhoDibaLongShortUpdated/figs/gor01_one_2006-6-08_14-26-15/BatchPhoJonathanReplayFRC-shared-3of10-(29,30,31,32,33,34,35,36,38,39).png',\n",
       "    'display_fn_name:BatchPhoJonathanReplayFRC/plot_result_set:shared/page:3of5/aclus:(41,86,107,100,53,62,88,35,89,98,56,59,60,108,57,48,63,67,66,19)': 'C:/Users/pho/repos/Spike3DWorkEnv/Spike3D/data/neptune/commander.pho/PhoDibaLongShortUpdated/figs/gor01_one_2006-6-08_14-26-15/BatchPhoJonathanReplayFRC-shared-3of5-(41,86,107,100,53,62,88,35,89,98,56,59,60,108,57,48,63,67,66,19).png',\n",
       "    'display_fn_name:BatchPhoJonathanReplayFRC/plot_result_set:shared/page:4of10/aclus:(40,41,42,43,44,45,46,47,48,49)': 'C:/Users/pho/repos/Spike3DWorkEnv/Spike3D/data/neptune/commander.pho/PhoDibaLongShortUpdated/figs/gor01_one_2006-6-08_14-26-15/BatchPhoJonathanReplayFRC-shared-4of10-(40,41,42,43,44,45,46,47,48,49).png',\n",
       "    'display_fn_name:BatchPhoJonathanReplayFRC/plot_result_set:shared/page:4of5/aclus:(9,36,2,6,12,18,20,21,22,27,29,30,38,39,40,42,43,44,46,47)': 'C:/Users/pho/repos/Spike3DWorkEnv/Spike3D/data/neptune/commander.pho/PhoDibaLongShortUpdated/figs/gor01_one_2006-6-08_14-26-15/BatchPhoJonathanReplayFRC-shared-4of5-(9,36,2,6,12,18,20,21,22,27,29,30,38,39,40,42,43,44,46,47).png',\n",
       "    'display_fn_name:BatchPhoJonathanReplayFRC/plot_result_set:shared/page:5of10/aclus:(50,51,53,54,55,56,57,59,60,61)': 'C:/Users/pho/repos/Spike3DWorkEnv/Spike3D/data/neptune/commander.pho/PhoDibaLongShortUpdated/figs/gor01_one_2006-6-08_14-26-15/BatchPhoJonathanReplayFRC-shared-5of10-(50,51,53,54,55,56,57,59,60,61).png',\n",
       "    'display_fn_name:BatchPhoJonathanReplayFRC/plot_result_set:shared/page:5of5/aclus:(65,72,77,79,80,91,94,95,99,101,103,104,105,106)': 'C:/Users/pho/repos/Spike3DWorkEnv/Spike3D/data/neptune/commander.pho/PhoDibaLongShortUpdated/figs/gor01_one_2006-6-08_14-26-15/BatchPhoJonathanReplayFRC-shared-5of5-(65,72,77,79,80,91,94,95,99,101,103,104,105,106).png',\n",
       "    'display_fn_name:BatchPhoJonathanReplayFRC/plot_result_set:shared/page:6of10/aclus:(62,63,64,65,66,67,68,69,70,71)': 'C:/Users/pho/repos/Spike3DWorkEnv/Spike3D/data/neptune/commander.pho/PhoDibaLongShortUpdated/figs/gor01_one_2006-6-08_14-26-15/BatchPhoJonathanReplayFRC-shared-6of10-(62,63,64,65,66,67,68,69,70,71).png',\n",
       "    'display_fn_name:BatchPhoJonathanReplayFRC/plot_result_set:shared/page:7of10/aclus:(72,73,75,76,77,78,79,80,81,82)': 'C:/Users/pho/repos/Spike3DWorkEnv/Spike3D/data/neptune/commander.pho/PhoDibaLongShortUpdated/figs/gor01_one_2006-6-08_14-26-15/BatchPhoJonathanReplayFRC-shared-7of10-(72,73,75,76,77,78,79,80,81,82).png',\n",
       "    'display_fn_name:BatchPhoJonathanReplayFRC/plot_result_set:shared/page:8of10/aclus:(83,84,85,86,88,89,90,91,92,93)': 'C:/Users/pho/repos/Spike3DWorkEnv/Spike3D/data/neptune/commander.pho/PhoDibaLongShortUpdated/figs/gor01_one_2006-6-08_14-26-15/BatchPhoJonathanReplayFRC-shared-8of10-(83,84,85,86,88,89,90,91,92,93).png',\n",
       "    'display_fn_name:BatchPhoJonathanReplayFRC/plot_result_set:shared/page:9of10/aclus:(94,95,96,98,99,100,101,102,103,104)': 'C:/Users/pho/repos/Spike3DWorkEnv/Spike3D/data/neptune/commander.pho/PhoDibaLongShortUpdated/figs/gor01_one_2006-6-08_14-26-15/BatchPhoJonathanReplayFRC-shared-9of10-(94,95,96,98,99,100,101,102,103,104).png',\n",
       "    'display_fn_name:BatchPhoJonathanReplayFRC/plot_result_set:short_only/aclus:(4,11,13,23,52,58,87)': 'C:/Users/pho/repos/Spike3DWorkEnv/Spike3D/data/neptune/commander.pho/PhoDibaLongShortUpdated/figs/gor01_one_2006-6-08_14-26-15/BatchPhoJonathanReplayFRC-short_only-(4,11,13,23,52,58,87).png'}}},\n",
       " Context(format_name= 'kdiba', animal= 'gor01', exper_name= 'two', session_name= '2006-6-09_22-24-40'): {<String field at \"sys/id\">: {'gor01_two_2006-6-09_22-24-40': {'display_fn_name:BatchPhoJonathanReplayFRC/plot_result_set:long_only/aclus:(15,16,32,91,95)': 'C:/Users/pho/repos/Spike3DWorkEnv/Spike3D/data/neptune/commander.pho/PhoDibaLongShortUpdated/figs/gor01_two_2006-6-09_22-24-40/BatchPhoJonathanReplayFRC-long_only-(15,16,32,91,95).png',\n",
       "    'display_fn_name:BatchPhoJonathanReplayFRC/plot_result_set:long_only/aclus:(15,95,16,91,32)': 'C:/Users/pho/repos/Spike3DWorkEnv/Spike3D/data/neptune/commander.pho/PhoDibaLongShortUpdated/figs/gor01_two_2006-6-09_22-24-40/BatchPhoJonathanReplayFRC-long_only-(15,95,16,91,32).png',\n",
       "    'display_fn_name:BatchPhoJonathanReplayFRC/plot_result_set:shared/page:1of5/aclus:(97,41,33,43,50,53,54,84,38,85,19,81,9,79,20,76,8,56,62,74)': 'C:/Users/pho/repos/Spike3DWorkEnv/Spike3D/data/neptune/commander.pho/PhoDibaLongShortUpdated/figs/gor01_two_2006-6-09_22-24-40/BatchPhoJonathanReplayFRC-shared-1of5-(97,41,33,43,50,53,54,84,38,85,19,81,9,79,20,76,8,56,62,74).png',\n",
       "    'display_fn_name:BatchPhoJonathanReplayFRC/plot_result_set:shared/page:1of9/aclus:(2,3,4,5,6,8,9,13,14,17)': 'C:/Users/pho/repos/Spike3DWorkEnv/Spike3D/data/neptune/commander.pho/PhoDibaLongShortUpdated/figs/gor01_two_2006-6-09_22-24-40/BatchPhoJonathanReplayFRC-shared-1of9-(2,3,4,5,6,8,9,13,14,17).png',\n",
       "    'display_fn_name:BatchPhoJonathanReplayFRC/plot_result_set:shared/page:2of5/aclus:(83,25,24,5,61,69,89,51,77,28,39,47,57,35,55,63,72,31,49,82)': 'C:/Users/pho/repos/Spike3DWorkEnv/Spike3D/data/neptune/commander.pho/PhoDibaLongShortUpdated/figs/gor01_two_2006-6-09_22-24-40/BatchPhoJonathanReplayFRC-shared-2of5-(83,25,24,5,61,69,89,51,77,28,39,47,57,35,55,63,72,31,49,82).png',\n",
       "    'display_fn_name:BatchPhoJonathanReplayFRC/plot_result_set:shared/page:2of9/aclus:(18,19,20,21,22,23,24,25,26,27)': 'C:/Users/pho/repos/Spike3DWorkEnv/Spike3D/data/neptune/commander.pho/PhoDibaLongShortUpdated/figs/gor01_two_2006-6-09_22-24-40/BatchPhoJonathanReplayFRC-shared-2of9-(18,19,20,21,22,23,24,25,26,27).png',\n",
       "    'display_fn_name:BatchPhoJonathanReplayFRC/plot_result_set:shared/page:3of5/aclus:(52,60,40,18,73,68,94,4,64,23,21,13,2,3,6,14,17,22,26,27)': 'C:/Users/pho/repos/Spike3DWorkEnv/Spike3D/data/neptune/commander.pho/PhoDibaLongShortUpdated/figs/gor01_two_2006-6-09_22-24-40/BatchPhoJonathanReplayFRC-shared-3of5-(52,60,40,18,73,68,94,4,64,23,21,13,2,3,6,14,17,22,26,27).png',\n",
       "    'display_fn_name:BatchPhoJonathanReplayFRC/plot_result_set:shared/page:3of9/aclus:(28,29,30,31,33,34,35,36,38,39)': 'C:/Users/pho/repos/Spike3DWorkEnv/Spike3D/data/neptune/commander.pho/PhoDibaLongShortUpdated/figs/gor01_two_2006-6-09_22-24-40/BatchPhoJonathanReplayFRC-shared-3of9-(28,29,30,31,33,34,35,36,38,39).png',\n",
       "    'display_fn_name:BatchPhoJonathanReplayFRC/plot_result_set:shared/page:4of5/aclus:(29,30,34,36,42,44,45,46,48,58,59,65,66,67,70,78,86,87,88,90)': 'C:/Users/pho/repos/Spike3DWorkEnv/Spike3D/data/neptune/commander.pho/PhoDibaLongShortUpdated/figs/gor01_two_2006-6-09_22-24-40/BatchPhoJonathanReplayFRC-shared-4of5-(29,30,34,36,42,44,45,46,48,58,59,65,66,67,70,78,86,87,88,90).png',\n",
       "    'display_fn_name:BatchPhoJonathanReplayFRC/plot_result_set:shared/page:4of9/aclus:(40,41,42,43,44,45,46,47,48,49)': 'C:/Users/pho/repos/Spike3DWorkEnv/Spike3D/data/neptune/commander.pho/PhoDibaLongShortUpdated/figs/gor01_two_2006-6-09_22-24-40/BatchPhoJonathanReplayFRC-shared-4of9-(40,41,42,43,44,45,46,47,48,49).png',\n",
       "    'display_fn_name:BatchPhoJonathanReplayFRC/plot_result_set:shared/page:5of5/aclus:(93,96)': 'C:/Users/pho/repos/Spike3DWorkEnv/Spike3D/data/neptune/commander.pho/PhoDibaLongShortUpdated/figs/gor01_two_2006-6-09_22-24-40/BatchPhoJonathanReplayFRC-shared-5of5-(93,96).png',\n",
       "    'display_fn_name:BatchPhoJonathanReplayFRC/plot_result_set:shared/page:5of9/aclus:(50,51,52,53,54,55,56,57,58,59)': 'C:/Users/pho/repos/Spike3DWorkEnv/Spike3D/data/neptune/commander.pho/PhoDibaLongShortUpdated/figs/gor01_two_2006-6-09_22-24-40/BatchPhoJonathanReplayFRC-shared-5of9-(50,51,52,53,54,55,56,57,58,59).png',\n",
       "    'display_fn_name:BatchPhoJonathanReplayFRC/plot_result_set:shared/page:6of9/aclus:(60,61,62,63,64,65,66,67,68,69)': 'C:/Users/pho/repos/Spike3DWorkEnv/Spike3D/data/neptune/commander.pho/PhoDibaLongShortUpdated/figs/gor01_two_2006-6-09_22-24-40/BatchPhoJonathanReplayFRC-shared-6of9-(60,61,62,63,64,65,66,67,68,69).png',\n",
       "    'display_fn_name:BatchPhoJonathanReplayFRC/plot_result_set:shared/page:7of9/aclus:(70,72,73,74,76,77,78,79,81,82)': 'C:/Users/pho/repos/Spike3DWorkEnv/Spike3D/data/neptune/commander.pho/PhoDibaLongShortUpdated/figs/gor01_two_2006-6-09_22-24-40/BatchPhoJonathanReplayFRC-shared-7of9-(70,72,73,74,76,77,78,79,81,82).png',\n",
       "    'display_fn_name:BatchPhoJonathanReplayFRC/plot_result_set:shared/page:8of9/aclus:(83,84,85,86,87,88,89,90,93,94)': 'C:/Users/pho/repos/Spike3DWorkEnv/Spike3D/data/neptune/commander.pho/PhoDibaLongShortUpdated/figs/gor01_two_2006-6-09_22-24-40/BatchPhoJonathanReplayFRC-shared-8of9-(83,84,85,86,87,88,89,90,93,94).png',\n",
       "    'display_fn_name:BatchPhoJonathanReplayFRC/plot_result_set:shared/page:9of9/aclus:(96,97)': 'C:/Users/pho/repos/Spike3DWorkEnv/Spike3D/data/neptune/commander.pho/PhoDibaLongShortUpdated/figs/gor01_two_2006-6-09_22-24-40/BatchPhoJonathanReplayFRC-shared-9of9-(96,97).png',\n",
       "    'display_fn_name:BatchPhoJonathanReplayFRC/plot_result_set:short_only/aclus:(7,10,11,12,37,71,75,80,92)': 'C:/Users/pho/repos/Spike3DWorkEnv/Spike3D/data/neptune/commander.pho/PhoDibaLongShortUpdated/figs/gor01_two_2006-6-09_22-24-40/BatchPhoJonathanReplayFRC-short_only-(7,10,11,12,37,71,75,80,92).png'}}},\n",
       " Context(format_name= 'kdiba', animal= 'gor01', exper_name= 'one', session_name= '2006-6-07_11-26-53'): {<String field at \"sys/id\">: {'gor01_one_2006-6-07_11-26-53': {'display_fn_name:BatchPhoJonathanReplayFRC/plot_result_set:long_only/aclus:(3,5,8,12,14,18,24,26,39,44,51,58,62)': 'C:/Users/pho/repos/Spike3DWorkEnv/Spike3D/data/neptune/commander.pho/PhoDibaLongShortUpdated/figs/gor01_one_2006-6-07_11-26-53/BatchPhoJonathanReplayFRC-long_only-(3,5,8,12,14,18,24,26,39,44,51,58,62).png',\n",
       "    'display_fn_name:BatchPhoJonathanReplayFRC/plot_result_set:long_only/aclus:(51,14,26,39,8,24,44,3,18,5,12,62,58)': 'C:/Users/pho/repos/Spike3DWorkEnv/Spike3D/data/neptune/commander.pho/PhoDibaLongShortUpdated/figs/gor01_one_2006-6-07_11-26-53/BatchPhoJonathanReplayFRC-long_only-(51,14,26,39,8,24,44,3,18,5,12,62,58).png',\n",
       "    'display_fn_name:BatchPhoJonathanReplayFRC/plot_result_set:shared/page:1of3/aclus:(46,53,27,57,63,64,33,9,7,22,28,25,4,55,47,11,10,2,42,36)': 'C:/Users/pho/repos/Spike3DWorkEnv/Spike3D/data/neptune/commander.pho/PhoDibaLongShortUpdated/figs/gor01_one_2006-6-07_11-26-53/BatchPhoJonathanReplayFRC-shared-1of3-(46,53,27,57,63,64,33,9,7,22,28,25,4,55,47,11,10,2,42,36).png',\n",
       "    'display_fn_name:BatchPhoJonathanReplayFRC/plot_result_set:shared/page:1of6/aclus:(2,4,6,7,9,10,11,13,15,16)': 'C:/Users/pho/repos/Spike3DWorkEnv/Spike3D/data/neptune/commander.pho/PhoDibaLongShortUpdated/figs/gor01_one_2006-6-07_11-26-53/BatchPhoJonathanReplayFRC-shared-1of6-(2,4,6,7,9,10,11,13,15,16).png',\n",
       "    'display_fn_name:BatchPhoJonathanReplayFRC/plot_result_set:shared/page:2of3/aclus:(34,21,29,38,52,45,31,48,65,6,13,15,16,17,19,20,23,30,32,35)': 'C:/Users/pho/repos/Spike3DWorkEnv/Spike3D/data/neptune/commander.pho/PhoDibaLongShortUpdated/figs/gor01_one_2006-6-07_11-26-53/BatchPhoJonathanReplayFRC-shared-2of3-(34,21,29,38,52,45,31,48,65,6,13,15,16,17,19,20,23,30,32,35).png',\n",
       "    'display_fn_name:BatchPhoJonathanReplayFRC/plot_result_set:shared/page:2of6/aclus:(17,19,20,21,22,23,25,27,28,29)': 'C:/Users/pho/repos/Spike3DWorkEnv/Spike3D/data/neptune/commander.pho/PhoDibaLongShortUpdated/figs/gor01_one_2006-6-07_11-26-53/BatchPhoJonathanReplayFRC-shared-2of6-(17,19,20,21,22,23,25,27,28,29).png',\n",
       "    'display_fn_name:BatchPhoJonathanReplayFRC/plot_result_set:shared/page:3of3/aclus:(37,40,41,43,49,50,54,56,59,60,61)': 'C:/Users/pho/repos/Spike3DWorkEnv/Spike3D/data/neptune/commander.pho/PhoDibaLongShortUpdated/figs/gor01_one_2006-6-07_11-26-53/BatchPhoJonathanReplayFRC-shared-3of3-(37,40,41,43,49,50,54,56,59,60,61).png',\n",
       "    'display_fn_name:BatchPhoJonathanReplayFRC/plot_result_set:shared/page:3of6/aclus:(30,31,32,33,34,35,36,37,38,40)': 'C:/Users/pho/repos/Spike3DWorkEnv/Spike3D/data/neptune/commander.pho/PhoDibaLongShortUpdated/figs/gor01_one_2006-6-07_11-26-53/BatchPhoJonathanReplayFRC-shared-3of6-(30,31,32,33,34,35,36,37,38,40).png',\n",
       "    'display_fn_name:BatchPhoJonathanReplayFRC/plot_result_set:shared/page:4of6/aclus:(41,42,43,45,46,47,48,49,50,52)': 'C:/Users/pho/repos/Spike3DWorkEnv/Spike3D/data/neptune/commander.pho/PhoDibaLongShortUpdated/figs/gor01_one_2006-6-07_11-26-53/BatchPhoJonathanReplayFRC-shared-4of6-(41,42,43,45,46,47,48,49,50,52).png',\n",
       "    'display_fn_name:BatchPhoJonathanReplayFRC/plot_result_set:shared/page:5of6/aclus:(53,54,55,56,57,59,60,61,63,64)': 'C:/Users/pho/repos/Spike3DWorkEnv/Spike3D/data/neptune/commander.pho/PhoDibaLongShortUpdated/figs/gor01_one_2006-6-07_11-26-53/BatchPhoJonathanReplayFRC-shared-5of6-(53,54,55,56,57,59,60,61,63,64).png',\n",
       "    'display_fn_name:BatchPhoJonathanReplayFRC/plot_result_set:shared/page:6of6/aclus:(65)': 'C:/Users/pho/repos/Spike3DWorkEnv/Spike3D/data/neptune/commander.pho/PhoDibaLongShortUpdated/figs/gor01_one_2006-6-07_11-26-53/BatchPhoJonathanReplayFRC-shared-6of6-(65).png'}},\n",
       "  <String field at \"sys/id\">: {'gor01_one_2006-6-07_11-26-53': {'display_fn_name:BatchPhoJonathanReplayFRC/plot_result_set:long_only/aclus:(3,5,8,12,14,18,24,26,39,44,51,58,62)': 'C:/Users/pho/repos/Spike3DWorkEnv/Spike3D/data/neptune/commander.pho/PhoDibaLongShortUpdated/figs/gor01_one_2006-6-07_11-26-53/BatchPhoJonathanReplayFRC-long_only-(3,5,8,12,14,18,24,26,39,44,51,58,62).png',\n",
       "    'display_fn_name:BatchPhoJonathanReplayFRC/plot_result_set:long_only/aclus:(51,14,26,39,8,24,44,3,18,5,12,62,58)': 'C:/Users/pho/repos/Spike3DWorkEnv/Spike3D/data/neptune/commander.pho/PhoDibaLongShortUpdated/figs/gor01_one_2006-6-07_11-26-53/BatchPhoJonathanReplayFRC-long_only-(51,14,26,39,8,24,44,3,18,5,12,62,58).png',\n",
       "    'display_fn_name:BatchPhoJonathanReplayFRC/plot_result_set:shared/page:1of3/aclus:(46,53,27,57,63,64,33,9,7,22,28,25,4,55,47,11,10,2,42,36)': 'C:/Users/pho/repos/Spike3DWorkEnv/Spike3D/data/neptune/commander.pho/PhoDibaLongShortUpdated/figs/gor01_one_2006-6-07_11-26-53/BatchPhoJonathanReplayFRC-shared-1of3-(46,53,27,57,63,64,33,9,7,22,28,25,4,55,47,11,10,2,42,36).png',\n",
       "    'display_fn_name:BatchPhoJonathanReplayFRC/plot_result_set:shared/page:1of6/aclus:(2,4,6,7,9,10,11,13,15,16)': 'C:/Users/pho/repos/Spike3DWorkEnv/Spike3D/data/neptune/commander.pho/PhoDibaLongShortUpdated/figs/gor01_one_2006-6-07_11-26-53/BatchPhoJonathanReplayFRC-shared-1of6-(2,4,6,7,9,10,11,13,15,16).png',\n",
       "    'display_fn_name:BatchPhoJonathanReplayFRC/plot_result_set:shared/page:2of3/aclus:(34,21,29,38,52,45,31,48,65,6,13,15,16,17,19,20,23,30,32,35)': 'C:/Users/pho/repos/Spike3DWorkEnv/Spike3D/data/neptune/commander.pho/PhoDibaLongShortUpdated/figs/gor01_one_2006-6-07_11-26-53/BatchPhoJonathanReplayFRC-shared-2of3-(34,21,29,38,52,45,31,48,65,6,13,15,16,17,19,20,23,30,32,35).png',\n",
       "    'display_fn_name:BatchPhoJonathanReplayFRC/plot_result_set:shared/page:2of6/aclus:(17,19,20,21,22,23,25,27,28,29)': 'C:/Users/pho/repos/Spike3DWorkEnv/Spike3D/data/neptune/commander.pho/PhoDibaLongShortUpdated/figs/gor01_one_2006-6-07_11-26-53/BatchPhoJonathanReplayFRC-shared-2of6-(17,19,20,21,22,23,25,27,28,29).png',\n",
       "    'display_fn_name:BatchPhoJonathanReplayFRC/plot_result_set:shared/page:3of3/aclus:(37,40,41,43,49,50,54,56,59,60,61)': 'C:/Users/pho/repos/Spike3DWorkEnv/Spike3D/data/neptune/commander.pho/PhoDibaLongShortUpdated/figs/gor01_one_2006-6-07_11-26-53/BatchPhoJonathanReplayFRC-shared-3of3-(37,40,41,43,49,50,54,56,59,60,61).png',\n",
       "    'display_fn_name:BatchPhoJonathanReplayFRC/plot_result_set:shared/page:3of6/aclus:(30,31,32,33,34,35,36,37,38,40)': 'C:/Users/pho/repos/Spike3DWorkEnv/Spike3D/data/neptune/commander.pho/PhoDibaLongShortUpdated/figs/gor01_one_2006-6-07_11-26-53/BatchPhoJonathanReplayFRC-shared-3of6-(30,31,32,33,34,35,36,37,38,40).png',\n",
       "    'display_fn_name:BatchPhoJonathanReplayFRC/plot_result_set:shared/page:4of6/aclus:(41,42,43,45,46,47,48,49,50,52)': 'C:/Users/pho/repos/Spike3DWorkEnv/Spike3D/data/neptune/commander.pho/PhoDibaLongShortUpdated/figs/gor01_one_2006-6-07_11-26-53/BatchPhoJonathanReplayFRC-shared-4of6-(41,42,43,45,46,47,48,49,50,52).png',\n",
       "    'display_fn_name:BatchPhoJonathanReplayFRC/plot_result_set:shared/page:5of6/aclus:(53,54,55,56,57,59,60,61,63,64)': 'C:/Users/pho/repos/Spike3DWorkEnv/Spike3D/data/neptune/commander.pho/PhoDibaLongShortUpdated/figs/gor01_one_2006-6-07_11-26-53/BatchPhoJonathanReplayFRC-shared-5of6-(53,54,55,56,57,59,60,61,63,64).png',\n",
       "    'display_fn_name:BatchPhoJonathanReplayFRC/plot_result_set:shared/page:6of6/aclus:(65)': 'C:/Users/pho/repos/Spike3DWorkEnv/Spike3D/data/neptune/commander.pho/PhoDibaLongShortUpdated/figs/gor01_one_2006-6-07_11-26-53/BatchPhoJonathanReplayFRC-shared-6of6-(65).png'}}},\n",
       " Context(format_name= 'kdiba', animal= 'pin01', exper_name= 'one', session_name= 'fet11-01_12-58-54'): {<String field at \"sys/id\">: {'pin01_one_fet11-01_12-58-54': {'display_fn_name:BatchPhoJonathanReplayFRC/plot_result_set:long_only/aclus:(16,19,6,31,10)': 'C:/Users/pho/repos/Spike3DWorkEnv/Spike3D/data/neptune/commander.pho/PhoDibaLongShortUpdated/figs/pin01_one_fet11-01_12-58-54/BatchPhoJonathanReplayFRC-long_only-(16,19,6,31,10).png',\n",
       "    'display_fn_name:BatchPhoJonathanReplayFRC/plot_result_set:long_only/aclus:(6,10,16,19,31)': 'C:/Users/pho/repos/Spike3DWorkEnv/Spike3D/data/neptune/commander.pho/PhoDibaLongShortUpdated/figs/pin01_one_fet11-01_12-58-54/BatchPhoJonathanReplayFRC-long_only-(6,10,16,19,31).png',\n",
       "    'display_fn_name:BatchPhoJonathanReplayFRC/plot_result_set:shared/page:1of2/aclus:(26,20,29,18,3,4,7,32,13,11,12,2,30,15,9,28,22,14,21,25)': 'C:/Users/pho/repos/Spike3DWorkEnv/Spike3D/data/neptune/commander.pho/PhoDibaLongShortUpdated/figs/pin01_one_fet11-01_12-58-54/BatchPhoJonathanReplayFRC-shared-1of2-(26,20,29,18,3,4,7,32,13,11,12,2,30,15,9,28,22,14,21,25).png',\n",
       "    'display_fn_name:BatchPhoJonathanReplayFRC/plot_result_set:shared/page:1of3/aclus:(2,3,4,5,7,8,9,11,12,13)': 'C:/Users/pho/repos/Spike3DWorkEnv/Spike3D/data/neptune/commander.pho/PhoDibaLongShortUpdated/figs/pin01_one_fet11-01_12-58-54/BatchPhoJonathanReplayFRC-shared-1of3-(2,3,4,5,7,8,9,11,12,13).png',\n",
       "    'display_fn_name:BatchPhoJonathanReplayFRC/plot_result_set:shared/page:2of2/aclus:(5,8,17,23,27)': 'C:/Users/pho/repos/Spike3DWorkEnv/Spike3D/data/neptune/commander.pho/PhoDibaLongShortUpdated/figs/pin01_one_fet11-01_12-58-54/BatchPhoJonathanReplayFRC-shared-2of2-(5,8,17,23,27).png',\n",
       "    'display_fn_name:BatchPhoJonathanReplayFRC/plot_result_set:shared/page:2of3/aclus:(14,15,17,18,20,21,22,23,25,26)': 'C:/Users/pho/repos/Spike3DWorkEnv/Spike3D/data/neptune/commander.pho/PhoDibaLongShortUpdated/figs/pin01_one_fet11-01_12-58-54/BatchPhoJonathanReplayFRC-shared-2of3-(14,15,17,18,20,21,22,23,25,26).png',\n",
       "    'display_fn_name:BatchPhoJonathanReplayFRC/plot_result_set:shared/page:3of3/aclus:(27,28,29,30,32)': 'C:/Users/pho/repos/Spike3DWorkEnv/Spike3D/data/neptune/commander.pho/PhoDibaLongShortUpdated/figs/pin01_one_fet11-01_12-58-54/BatchPhoJonathanReplayFRC-shared-3of3-(27,28,29,30,32).png',\n",
       "    'display_fn_name:BatchPhoJonathanReplayFRC/plot_result_set:short_only/aclus:(24)': 'C:/Users/pho/repos/Spike3DWorkEnv/Spike3D/data/neptune/commander.pho/PhoDibaLongShortUpdated/figs/pin01_one_fet11-01_12-58-54/BatchPhoJonathanReplayFRC-short_only-(24).png'}},\n",
       "  <String field at \"sys/id\">: {'pin01_one_fet11-01_12-58-54': {'display_fn_name:BatchPhoJonathanReplayFRC/plot_result_set:long_only/aclus:(16,19,6,31,10)': 'C:/Users/pho/repos/Spike3DWorkEnv/Spike3D/data/neptune/commander.pho/PhoDibaLongShortUpdated/figs/pin01_one_fet11-01_12-58-54/BatchPhoJonathanReplayFRC-long_only-(16,19,6,31,10).png',\n",
       "    'display_fn_name:BatchPhoJonathanReplayFRC/plot_result_set:long_only/aclus:(6,10,16,19,31)': 'C:/Users/pho/repos/Spike3DWorkEnv/Spike3D/data/neptune/commander.pho/PhoDibaLongShortUpdated/figs/pin01_one_fet11-01_12-58-54/BatchPhoJonathanReplayFRC-long_only-(6,10,16,19,31).png',\n",
       "    'display_fn_name:BatchPhoJonathanReplayFRC/plot_result_set:shared/page:1of2/aclus:(26,20,29,18,3,4,7,32,13,11,12,2,30,15,9,28,22,14,21,25)': 'C:/Users/pho/repos/Spike3DWorkEnv/Spike3D/data/neptune/commander.pho/PhoDibaLongShortUpdated/figs/pin01_one_fet11-01_12-58-54/BatchPhoJonathanReplayFRC-shared-1of2-(26,20,29,18,3,4,7,32,13,11,12,2,30,15,9,28,22,14,21,25).png',\n",
       "    'display_fn_name:BatchPhoJonathanReplayFRC/plot_result_set:shared/page:1of3/aclus:(2,3,4,5,7,8,9,11,12,13)': 'C:/Users/pho/repos/Spike3DWorkEnv/Spike3D/data/neptune/commander.pho/PhoDibaLongShortUpdated/figs/pin01_one_fet11-01_12-58-54/BatchPhoJonathanReplayFRC-shared-1of3-(2,3,4,5,7,8,9,11,12,13).png',\n",
       "    'display_fn_name:BatchPhoJonathanReplayFRC/plot_result_set:shared/page:2of2/aclus:(5,8,17,23,27)': 'C:/Users/pho/repos/Spike3DWorkEnv/Spike3D/data/neptune/commander.pho/PhoDibaLongShortUpdated/figs/pin01_one_fet11-01_12-58-54/BatchPhoJonathanReplayFRC-shared-2of2-(5,8,17,23,27).png',\n",
       "    'display_fn_name:BatchPhoJonathanReplayFRC/plot_result_set:shared/page:2of3/aclus:(14,15,17,18,20,21,22,23,25,26)': 'C:/Users/pho/repos/Spike3DWorkEnv/Spike3D/data/neptune/commander.pho/PhoDibaLongShortUpdated/figs/pin01_one_fet11-01_12-58-54/BatchPhoJonathanReplayFRC-shared-2of3-(14,15,17,18,20,21,22,23,25,26).png',\n",
       "    'display_fn_name:BatchPhoJonathanReplayFRC/plot_result_set:shared/page:3of3/aclus:(27,28,29,30,32)': 'C:/Users/pho/repos/Spike3DWorkEnv/Spike3D/data/neptune/commander.pho/PhoDibaLongShortUpdated/figs/pin01_one_fet11-01_12-58-54/BatchPhoJonathanReplayFRC-shared-3of3-(27,28,29,30,32).png',\n",
       "    'display_fn_name:BatchPhoJonathanReplayFRC/plot_result_set:short_only/aclus:(24)': 'C:/Users/pho/repos/Spike3DWorkEnv/Spike3D/data/neptune/commander.pho/PhoDibaLongShortUpdated/figs/pin01_one_fet11-01_12-58-54/BatchPhoJonathanReplayFRC-short_only-(24).png'}}},\n",
       " Context(format_name= 'kdiba', animal= 'pin01', exper_name= 'one', session_name= '11-02_17-46-44'): {<String field at \"sys/id\">: {'pin01_one_11-02_17-46-44': {'display_fn_name:BatchPhoJonathanReplayFRC/plot_result_set:long_only/aclus:(10,8,27,41,34,33,21)': 'C:/Users/pho/repos/Spike3DWorkEnv/Spike3D/data/neptune/commander.pho/PhoDibaLongShortUpdated/figs/pin01_one_11-02_17-46-44/BatchPhoJonathanReplayFRC-long_only-(10,8,27,41,34,33,21).png',\n",
       "    'display_fn_name:BatchPhoJonathanReplayFRC/plot_result_set:long_only/aclus:(8,10,21,27,33,34,41)': 'C:/Users/pho/repos/Spike3DWorkEnv/Spike3D/data/neptune/commander.pho/PhoDibaLongShortUpdated/figs/pin01_one_11-02_17-46-44/BatchPhoJonathanReplayFRC-long_only-(8,10,21,27,33,34,41).png',\n",
       "    'display_fn_name:BatchPhoJonathanReplayFRC/plot_result_set:shared/page:1of2/aclus:(3,15,31,42,26,9,2,14,30,39,38,43,16,11,29,7,22,37,6,12)': 'C:/Users/pho/repos/Spike3DWorkEnv/Spike3D/data/neptune/commander.pho/PhoDibaLongShortUpdated/figs/pin01_one_11-02_17-46-44/BatchPhoJonathanReplayFRC-shared-1of2-(3,15,31,42,26,9,2,14,30,39,38,43,16,11,29,7,22,37,6,12).png',\n",
       "    'display_fn_name:BatchPhoJonathanReplayFRC/plot_result_set:shared/page:1of3/aclus:(2,3,6,7,9,11,12,13,14,15)': 'C:/Users/pho/repos/Spike3DWorkEnv/Spike3D/data/neptune/commander.pho/PhoDibaLongShortUpdated/figs/pin01_one_11-02_17-46-44/BatchPhoJonathanReplayFRC-shared-1of3-(2,3,6,7,9,11,12,13,14,15).png',\n",
       "    'display_fn_name:BatchPhoJonathanReplayFRC/plot_result_set:shared/page:2of2/aclus:(13,19,24,25,28,32,35,36)': 'C:/Users/pho/repos/Spike3DWorkEnv/Spike3D/data/neptune/commander.pho/PhoDibaLongShortUpdated/figs/pin01_one_11-02_17-46-44/BatchPhoJonathanReplayFRC-shared-2of2-(13,19,24,25,28,32,35,36).png',\n",
       "    'display_fn_name:BatchPhoJonathanReplayFRC/plot_result_set:shared/page:2of3/aclus:(16,19,22,24,25,26,28,29,30,31)': 'C:/Users/pho/repos/Spike3DWorkEnv/Spike3D/data/neptune/commander.pho/PhoDibaLongShortUpdated/figs/pin01_one_11-02_17-46-44/BatchPhoJonathanReplayFRC-shared-2of3-(16,19,22,24,25,26,28,29,30,31).png',\n",
       "    'display_fn_name:BatchPhoJonathanReplayFRC/plot_result_set:shared/page:3of3/aclus:(32,35,36,37,38,39,42,43)': 'C:/Users/pho/repos/Spike3DWorkEnv/Spike3D/data/neptune/commander.pho/PhoDibaLongShortUpdated/figs/pin01_one_11-02_17-46-44/BatchPhoJonathanReplayFRC-shared-3of3-(32,35,36,37,38,39,42,43).png',\n",
       "    'display_fn_name:BatchPhoJonathanReplayFRC/plot_result_set:short_only/aclus:(4,5,17,18,20,23,40)': 'C:/Users/pho/repos/Spike3DWorkEnv/Spike3D/data/neptune/commander.pho/PhoDibaLongShortUpdated/figs/pin01_one_11-02_17-46-44/BatchPhoJonathanReplayFRC-short_only-(4,5,17,18,20,23,40).png'}},\n",
       "  <String field at \"sys/id\">: {'pin01_one_11-02_17-46-44': {'display_fn_name:BatchPhoJonathanReplayFRC/plot_result_set:long_only/aclus:(10,8,27,41,34,33,21)': 'C:/Users/pho/repos/Spike3DWorkEnv/Spike3D/data/neptune/commander.pho/PhoDibaLongShortUpdated/figs/pin01_one_11-02_17-46-44/BatchPhoJonathanReplayFRC-long_only-(10,8,27,41,34,33,21).png',\n",
       "    'display_fn_name:BatchPhoJonathanReplayFRC/plot_result_set:long_only/aclus:(8,10,21,27,33,34,41)': 'C:/Users/pho/repos/Spike3DWorkEnv/Spike3D/data/neptune/commander.pho/PhoDibaLongShortUpdated/figs/pin01_one_11-02_17-46-44/BatchPhoJonathanReplayFRC-long_only-(8,10,21,27,33,34,41).png',\n",
       "    'display_fn_name:BatchPhoJonathanReplayFRC/plot_result_set:shared/page:1of2/aclus:(3,15,31,42,26,9,2,14,30,39,38,43,16,11,29,7,22,37,6,12)': 'C:/Users/pho/repos/Spike3DWorkEnv/Spike3D/data/neptune/commander.pho/PhoDibaLongShortUpdated/figs/pin01_one_11-02_17-46-44/BatchPhoJonathanReplayFRC-shared-1of2-(3,15,31,42,26,9,2,14,30,39,38,43,16,11,29,7,22,37,6,12).png',\n",
       "    'display_fn_name:BatchPhoJonathanReplayFRC/plot_result_set:shared/page:1of3/aclus:(2,3,6,7,9,11,12,13,14,15)': 'C:/Users/pho/repos/Spike3DWorkEnv/Spike3D/data/neptune/commander.pho/PhoDibaLongShortUpdated/figs/pin01_one_11-02_17-46-44/BatchPhoJonathanReplayFRC-shared-1of3-(2,3,6,7,9,11,12,13,14,15).png',\n",
       "    'display_fn_name:BatchPhoJonathanReplayFRC/plot_result_set:shared/page:2of2/aclus:(13,19,24,25,28,32,35,36)': 'C:/Users/pho/repos/Spike3DWorkEnv/Spike3D/data/neptune/commander.pho/PhoDibaLongShortUpdated/figs/pin01_one_11-02_17-46-44/BatchPhoJonathanReplayFRC-shared-2of2-(13,19,24,25,28,32,35,36).png',\n",
       "    'display_fn_name:BatchPhoJonathanReplayFRC/plot_result_set:shared/page:2of3/aclus:(16,19,22,24,25,26,28,29,30,31)': 'C:/Users/pho/repos/Spike3DWorkEnv/Spike3D/data/neptune/commander.pho/PhoDibaLongShortUpdated/figs/pin01_one_11-02_17-46-44/BatchPhoJonathanReplayFRC-shared-2of3-(16,19,22,24,25,26,28,29,30,31).png',\n",
       "    'display_fn_name:BatchPhoJonathanReplayFRC/plot_result_set:shared/page:3of3/aclus:(32,35,36,37,38,39,42,43)': 'C:/Users/pho/repos/Spike3DWorkEnv/Spike3D/data/neptune/commander.pho/PhoDibaLongShortUpdated/figs/pin01_one_11-02_17-46-44/BatchPhoJonathanReplayFRC-shared-3of3-(32,35,36,37,38,39,42,43).png',\n",
       "    'display_fn_name:BatchPhoJonathanReplayFRC/plot_result_set:short_only/aclus:(4,5,17,18,20,23,40)': 'C:/Users/pho/repos/Spike3DWorkEnv/Spike3D/data/neptune/commander.pho/PhoDibaLongShortUpdated/figs/pin01_one_11-02_17-46-44/BatchPhoJonathanReplayFRC-short_only-(4,5,17,18,20,23,40).png'}}},\n",
       " Context(format_name= 'kdiba', animal= 'vvp01', exper_name= 'one', session_name= '2006-4-09_17-29-30'): {<String field at \"sys/id\">: {'vvp01_one_2006-4-09_17-29-30': {'display_fn_name:BatchPhoJonathanReplayFRC/plot_result_set:long_only/aclus:(6,12,17,28,32,37)': 'C:/Users/pho/repos/Spike3DWorkEnv/Spike3D/data/neptune/commander.pho/PhoDibaLongShortUpdated/figs/vvp01_one_2006-4-09_17-29-30/BatchPhoJonathanReplayFRC-long_only-(6,12,17,28,32,37).png',\n",
       "    'display_fn_name:BatchPhoJonathanReplayFRC/plot_result_set:long_only/aclus:(6,32,17,28,12,37)': 'C:/Users/pho/repos/Spike3DWorkEnv/Spike3D/data/neptune/commander.pho/PhoDibaLongShortUpdated/figs/vvp01_one_2006-4-09_17-29-30/BatchPhoJonathanReplayFRC-long_only-(6,32,17,28,12,37).png',\n",
       "    'display_fn_name:BatchPhoJonathanReplayFRC/plot_result_set:shared/page:1of2/aclus:(43,22,4,23,13,20,3,39,10,26,9,38,27,8,33,34,19,29,7,14)': 'C:/Users/pho/repos/Spike3DWorkEnv/Spike3D/data/neptune/commander.pho/PhoDibaLongShortUpdated/figs/vvp01_one_2006-4-09_17-29-30/BatchPhoJonathanReplayFRC-shared-1of2-(43,22,4,23,13,20,3,39,10,26,9,38,27,8,33,34,19,29,7,14).png',\n",
       "    'display_fn_name:BatchPhoJonathanReplayFRC/plot_result_set:shared/page:1of4/aclus:(2,3,4,5,7,8,9,10,11,13)': 'C:/Users/pho/repos/Spike3DWorkEnv/Spike3D/data/neptune/commander.pho/PhoDibaLongShortUpdated/figs/vvp01_one_2006-4-09_17-29-30/BatchPhoJonathanReplayFRC-shared-1of4-(2,3,4,5,7,8,9,10,11,13).png',\n",
       "    'display_fn_name:BatchPhoJonathanReplayFRC/plot_result_set:shared/page:2of2/aclus:(42,2,5,11,15,16,18,24,35,36,40,44,45)': 'C:/Users/pho/repos/Spike3DWorkEnv/Spike3D/data/neptune/commander.pho/PhoDibaLongShortUpdated/figs/vvp01_one_2006-4-09_17-29-30/BatchPhoJonathanReplayFRC-shared-2of2-(42,2,5,11,15,16,18,24,35,36,40,44,45).png',\n",
       "    'display_fn_name:BatchPhoJonathanReplayFRC/plot_result_set:shared/page:2of4/aclus:(14,15,16,18,19,20,22,23,24,26)': 'C:/Users/pho/repos/Spike3DWorkEnv/Spike3D/data/neptune/commander.pho/PhoDibaLongShortUpdated/figs/vvp01_one_2006-4-09_17-29-30/BatchPhoJonathanReplayFRC-shared-2of4-(14,15,16,18,19,20,22,23,24,26).png',\n",
       "    'display_fn_name:BatchPhoJonathanReplayFRC/plot_result_set:shared/page:3of4/aclus:(27,29,33,34,35,36,38,39,40,42)': 'C:/Users/pho/repos/Spike3DWorkEnv/Spike3D/data/neptune/commander.pho/PhoDibaLongShortUpdated/figs/vvp01_one_2006-4-09_17-29-30/BatchPhoJonathanReplayFRC-shared-3of4-(27,29,33,34,35,36,38,39,40,42).png',\n",
       "    'display_fn_name:BatchPhoJonathanReplayFRC/plot_result_set:shared/page:4of4/aclus:(43,44,45)': 'C:/Users/pho/repos/Spike3DWorkEnv/Spike3D/data/neptune/commander.pho/PhoDibaLongShortUpdated/figs/vvp01_one_2006-4-09_17-29-30/BatchPhoJonathanReplayFRC-shared-4of4-(43,44,45).png',\n",
       "    'display_fn_name:BatchPhoJonathanReplayFRC/plot_result_set:short_only/aclus:(21,25,30,31,41)': 'C:/Users/pho/repos/Spike3DWorkEnv/Spike3D/data/neptune/commander.pho/PhoDibaLongShortUpdated/figs/vvp01_one_2006-4-09_17-29-30/BatchPhoJonathanReplayFRC-short_only-(21,25,30,31,41).png'}},\n",
       "  <String field at \"sys/id\">: {'vvp01_one_2006-4-09_17-29-30': {'display_fn_name:BatchPhoJonathanReplayFRC/plot_result_set:long_only/aclus:(6,12,17,28,32,37)': 'C:/Users/pho/repos/Spike3DWorkEnv/Spike3D/data/neptune/commander.pho/PhoDibaLongShortUpdated/figs/vvp01_one_2006-4-09_17-29-30/BatchPhoJonathanReplayFRC-long_only-(6,12,17,28,32,37).png',\n",
       "    'display_fn_name:BatchPhoJonathanReplayFRC/plot_result_set:long_only/aclus:(6,32,17,28,12,37)': 'C:/Users/pho/repos/Spike3DWorkEnv/Spike3D/data/neptune/commander.pho/PhoDibaLongShortUpdated/figs/vvp01_one_2006-4-09_17-29-30/BatchPhoJonathanReplayFRC-long_only-(6,32,17,28,12,37).png',\n",
       "    'display_fn_name:BatchPhoJonathanReplayFRC/plot_result_set:shared/page:1of2/aclus:(43,22,4,23,13,20,3,39,10,26,9,38,27,8,33,34,19,29,7,14)': 'C:/Users/pho/repos/Spike3DWorkEnv/Spike3D/data/neptune/commander.pho/PhoDibaLongShortUpdated/figs/vvp01_one_2006-4-09_17-29-30/BatchPhoJonathanReplayFRC-shared-1of2-(43,22,4,23,13,20,3,39,10,26,9,38,27,8,33,34,19,29,7,14).png',\n",
       "    'display_fn_name:BatchPhoJonathanReplayFRC/plot_result_set:shared/page:1of4/aclus:(2,3,4,5,7,8,9,10,11,13)': 'C:/Users/pho/repos/Spike3DWorkEnv/Spike3D/data/neptune/commander.pho/PhoDibaLongShortUpdated/figs/vvp01_one_2006-4-09_17-29-30/BatchPhoJonathanReplayFRC-shared-1of4-(2,3,4,5,7,8,9,10,11,13).png',\n",
       "    'display_fn_name:BatchPhoJonathanReplayFRC/plot_result_set:shared/page:2of2/aclus:(42,2,5,11,15,16,18,24,35,36,40,44,45)': 'C:/Users/pho/repos/Spike3DWorkEnv/Spike3D/data/neptune/commander.pho/PhoDibaLongShortUpdated/figs/vvp01_one_2006-4-09_17-29-30/BatchPhoJonathanReplayFRC-shared-2of2-(42,2,5,11,15,16,18,24,35,36,40,44,45).png',\n",
       "    'display_fn_name:BatchPhoJonathanReplayFRC/plot_result_set:shared/page:2of4/aclus:(14,15,16,18,19,20,22,23,24,26)': 'C:/Users/pho/repos/Spike3DWorkEnv/Spike3D/data/neptune/commander.pho/PhoDibaLongShortUpdated/figs/vvp01_one_2006-4-09_17-29-30/BatchPhoJonathanReplayFRC-shared-2of4-(14,15,16,18,19,20,22,23,24,26).png',\n",
       "    'display_fn_name:BatchPhoJonathanReplayFRC/plot_result_set:shared/page:3of4/aclus:(27,29,33,34,35,36,38,39,40,42)': 'C:/Users/pho/repos/Spike3DWorkEnv/Spike3D/data/neptune/commander.pho/PhoDibaLongShortUpdated/figs/vvp01_one_2006-4-09_17-29-30/BatchPhoJonathanReplayFRC-shared-3of4-(27,29,33,34,35,36,38,39,40,42).png',\n",
       "    'display_fn_name:BatchPhoJonathanReplayFRC/plot_result_set:shared/page:4of4/aclus:(43,44,45)': 'C:/Users/pho/repos/Spike3DWorkEnv/Spike3D/data/neptune/commander.pho/PhoDibaLongShortUpdated/figs/vvp01_one_2006-4-09_17-29-30/BatchPhoJonathanReplayFRC-shared-4of4-(43,44,45).png',\n",
       "    'display_fn_name:BatchPhoJonathanReplayFRC/plot_result_set:short_only/aclus:(21,25,30,31,41)': 'C:/Users/pho/repos/Spike3DWorkEnv/Spike3D/data/neptune/commander.pho/PhoDibaLongShortUpdated/figs/vvp01_one_2006-4-09_17-29-30/BatchPhoJonathanReplayFRC-short_only-(21,25,30,31,41).png'}}},\n",
       " Context(format_name= 'kdiba', animal= 'vvp01', exper_name= 'two', session_name= '2006-4-10_12-58-3'): {<String field at \"sys/id\">: {'vvp01_two_2006-4-10_12-58-3': {'display_fn_name:BatchPhoJonathanReplayFRC/plot_result_set:long_only/aclus:(7,14,16,30,32,35,40)': 'C:/Users/pho/repos/Spike3DWorkEnv/Spike3D/data/neptune/commander.pho/PhoDibaLongShortUpdated/figs/vvp01_two_2006-4-10_12-58-3/BatchPhoJonathanReplayFRC-long_only-(7,14,16,30,32,35,40).png',\n",
       "    'display_fn_name:BatchPhoJonathanReplayFRC/plot_result_set:long_only/aclus:(7,40,14,35,16,30,32)': 'C:/Users/pho/repos/Spike3DWorkEnv/Spike3D/data/neptune/commander.pho/PhoDibaLongShortUpdated/figs/vvp01_two_2006-4-10_12-58-3/BatchPhoJonathanReplayFRC-long_only-(7,40,14,35,16,30,32).png',\n",
       "    'display_fn_name:BatchPhoJonathanReplayFRC/plot_result_set:shared/page:1of2/aclus:(37,29,5,25,15,6,34,33,43,28,19,20,17,12,41,10,31,27,36,42)': 'C:/Users/pho/repos/Spike3DWorkEnv/Spike3D/data/neptune/commander.pho/PhoDibaLongShortUpdated/figs/vvp01_two_2006-4-10_12-58-3/BatchPhoJonathanReplayFRC-shared-1of2-(37,29,5,25,15,6,34,33,43,28,19,20,17,12,41,10,31,27,36,42).png',\n",
       "    'display_fn_name:BatchPhoJonathanReplayFRC/plot_result_set:shared/page:1of4/aclus:(2,3,4,5,6,8,10,11,12,13)': 'C:/Users/pho/repos/Spike3DWorkEnv/Spike3D/data/neptune/commander.pho/PhoDibaLongShortUpdated/figs/vvp01_two_2006-4-10_12-58-3/BatchPhoJonathanReplayFRC-shared-1of4-(2,3,4,5,6,8,10,11,12,13).png',\n",
       "    'display_fn_name:BatchPhoJonathanReplayFRC/plot_result_set:shared/page:2of2/aclus:(11,8,18,39,24,26,3,2,4,13,21,22,23,38,44,45,46,47)': 'C:/Users/pho/repos/Spike3DWorkEnv/Spike3D/data/neptune/commander.pho/PhoDibaLongShortUpdated/figs/vvp01_two_2006-4-10_12-58-3/BatchPhoJonathanReplayFRC-shared-2of2-(11,8,18,39,24,26,3,2,4,13,21,22,23,38,44,45,46,47).png',\n",
       "    'display_fn_name:BatchPhoJonathanReplayFRC/plot_result_set:shared/page:2of4/aclus:(15,17,18,19,20,21,22,23,24,25)': 'C:/Users/pho/repos/Spike3DWorkEnv/Spike3D/data/neptune/commander.pho/PhoDibaLongShortUpdated/figs/vvp01_two_2006-4-10_12-58-3/BatchPhoJonathanReplayFRC-shared-2of4-(15,17,18,19,20,21,22,23,24,25).png',\n",
       "    'display_fn_name:BatchPhoJonathanReplayFRC/plot_result_set:shared/page:3of4/aclus:(26,27,28,29,31,33,34,36,37,38)': 'C:/Users/pho/repos/Spike3DWorkEnv/Spike3D/data/neptune/commander.pho/PhoDibaLongShortUpdated/figs/vvp01_two_2006-4-10_12-58-3/BatchPhoJonathanReplayFRC-shared-3of4-(26,27,28,29,31,33,34,36,37,38).png',\n",
       "    'display_fn_name:BatchPhoJonathanReplayFRC/plot_result_set:shared/page:4of4/aclus:(39,41,42,43,44,45,46,47)': 'C:/Users/pho/repos/Spike3DWorkEnv/Spike3D/data/neptune/commander.pho/PhoDibaLongShortUpdated/figs/vvp01_two_2006-4-10_12-58-3/BatchPhoJonathanReplayFRC-shared-4of4-(39,41,42,43,44,45,46,47).png',\n",
       "    'display_fn_name:BatchPhoJonathanReplayFRC/plot_result_set:short_only/aclus:(9)': 'C:/Users/pho/repos/Spike3DWorkEnv/Spike3D/data/neptune/commander.pho/PhoDibaLongShortUpdated/figs/vvp01_two_2006-4-10_12-58-3/BatchPhoJonathanReplayFRC-short_only-(9).png'}},\n",
       "  <String field at \"sys/id\">: {'vvp01_two_2006-4-10_12-58-3': {'display_fn_name:BatchPhoJonathanReplayFRC/plot_result_set:long_only/aclus:(7,14,16,30,32,35,40)': 'C:/Users/pho/repos/Spike3DWorkEnv/Spike3D/data/neptune/commander.pho/PhoDibaLongShortUpdated/figs/vvp01_two_2006-4-10_12-58-3/BatchPhoJonathanReplayFRC-long_only-(7,14,16,30,32,35,40).png',\n",
       "    'display_fn_name:BatchPhoJonathanReplayFRC/plot_result_set:long_only/aclus:(7,40,14,35,16,30,32)': 'C:/Users/pho/repos/Spike3DWorkEnv/Spike3D/data/neptune/commander.pho/PhoDibaLongShortUpdated/figs/vvp01_two_2006-4-10_12-58-3/BatchPhoJonathanReplayFRC-long_only-(7,40,14,35,16,30,32).png',\n",
       "    'display_fn_name:BatchPhoJonathanReplayFRC/plot_result_set:shared/page:1of2/aclus:(37,29,5,25,15,6,34,33,43,28,19,20,17,12,41,10,31,27,36,42)': 'C:/Users/pho/repos/Spike3DWorkEnv/Spike3D/data/neptune/commander.pho/PhoDibaLongShortUpdated/figs/vvp01_two_2006-4-10_12-58-3/BatchPhoJonathanReplayFRC-shared-1of2-(37,29,5,25,15,6,34,33,43,28,19,20,17,12,41,10,31,27,36,42).png',\n",
       "    'display_fn_name:BatchPhoJonathanReplayFRC/plot_result_set:shared/page:1of4/aclus:(2,3,4,5,6,8,10,11,12,13)': 'C:/Users/pho/repos/Spike3DWorkEnv/Spike3D/data/neptune/commander.pho/PhoDibaLongShortUpdated/figs/vvp01_two_2006-4-10_12-58-3/BatchPhoJonathanReplayFRC-shared-1of4-(2,3,4,5,6,8,10,11,12,13).png',\n",
       "    'display_fn_name:BatchPhoJonathanReplayFRC/plot_result_set:shared/page:2of2/aclus:(11,8,18,39,24,26,3,2,4,13,21,22,23,38,44,45,46,47)': 'C:/Users/pho/repos/Spike3DWorkEnv/Spike3D/data/neptune/commander.pho/PhoDibaLongShortUpdated/figs/vvp01_two_2006-4-10_12-58-3/BatchPhoJonathanReplayFRC-shared-2of2-(11,8,18,39,24,26,3,2,4,13,21,22,23,38,44,45,46,47).png',\n",
       "    'display_fn_name:BatchPhoJonathanReplayFRC/plot_result_set:shared/page:2of4/aclus:(15,17,18,19,20,21,22,23,24,25)': 'C:/Users/pho/repos/Spike3DWorkEnv/Spike3D/data/neptune/commander.pho/PhoDibaLongShortUpdated/figs/vvp01_two_2006-4-10_12-58-3/BatchPhoJonathanReplayFRC-shared-2of4-(15,17,18,19,20,21,22,23,24,25).png',\n",
       "    'display_fn_name:BatchPhoJonathanReplayFRC/plot_result_set:shared/page:3of4/aclus:(26,27,28,29,31,33,34,36,37,38)': 'C:/Users/pho/repos/Spike3DWorkEnv/Spike3D/data/neptune/commander.pho/PhoDibaLongShortUpdated/figs/vvp01_two_2006-4-10_12-58-3/BatchPhoJonathanReplayFRC-shared-3of4-(26,27,28,29,31,33,34,36,37,38).png',\n",
       "    'display_fn_name:BatchPhoJonathanReplayFRC/plot_result_set:shared/page:4of4/aclus:(39,41,42,43,44,45,46,47)': 'C:/Users/pho/repos/Spike3DWorkEnv/Spike3D/data/neptune/commander.pho/PhoDibaLongShortUpdated/figs/vvp01_two_2006-4-10_12-58-3/BatchPhoJonathanReplayFRC-shared-4of4-(39,41,42,43,44,45,46,47).png',\n",
       "    'display_fn_name:BatchPhoJonathanReplayFRC/plot_result_set:short_only/aclus:(9)': 'C:/Users/pho/repos/Spike3DWorkEnv/Spike3D/data/neptune/commander.pho/PhoDibaLongShortUpdated/figs/vvp01_two_2006-4-10_12-58-3/BatchPhoJonathanReplayFRC-short_only-(9).png'}}},\n",
       " Context(format_name= 'kdiba', animal= 'gor01', exper_name= 'two', session_name= '2006-6-12_16-53-46'): {<String field at \"sys/id\">: {'gor01_two_2006-6-12_16-53-46': {'display_fn_name:BatchPhoJonathanReplayFRC/plot_result_set:long_only/aclus:(38,51,53,59,60)': 'C:/Users/pho/repos/Spike3DWorkEnv/Spike3D/data/neptune/commander.pho/PhoDibaLongShortUpdated/figs/gor01_two_2006-6-12_16-53-46/BatchPhoJonathanReplayFRC-long_only-(38,51,53,59,60).png',\n",
       "    'display_fn_name:BatchPhoJonathanReplayFRC/plot_result_set:long_only/aclus:(53,59,60,51,38)': 'C:/Users/pho/repos/Spike3DWorkEnv/Spike3D/data/neptune/commander.pho/PhoDibaLongShortUpdated/figs/gor01_two_2006-6-12_16-53-46/BatchPhoJonathanReplayFRC-long_only-(53,59,60,51,38).png',\n",
       "    'display_fn_name:BatchPhoJonathanReplayFRC/plot_result_set:shared/page:1of3/aclus:(31,15,23,52,34,12,24,35,40,17,50,43,49,42,6,2,27,14,39,21)': 'C:/Users/pho/repos/Spike3DWorkEnv/Spike3D/data/neptune/commander.pho/PhoDibaLongShortUpdated/figs/gor01_two_2006-6-12_16-53-46/BatchPhoJonathanReplayFRC-shared-1of3-(31,15,23,52,34,12,24,35,40,17,50,43,49,42,6,2,27,14,39,21).png',\n",
       "    'display_fn_name:BatchPhoJonathanReplayFRC/plot_result_set:shared/page:1of6/aclus:(2,3,4,5,6,9,10,11,12,13)': 'C:/Users/pho/repos/Spike3DWorkEnv/Spike3D/data/neptune/commander.pho/PhoDibaLongShortUpdated/figs/gor01_two_2006-6-12_16-53-46/BatchPhoJonathanReplayFRC-shared-1of6-(2,3,4,5,6,9,10,11,12,13).png',\n",
       "    'display_fn_name:BatchPhoJonathanReplayFRC/plot_result_set:shared/page:2of3/aclus:(19,3,33,32,22,20,41,37,13,47,36,29,57,5,4,11,9,10,16,18)': 'C:/Users/pho/repos/Spike3DWorkEnv/Spike3D/data/neptune/commander.pho/PhoDibaLongShortUpdated/figs/gor01_two_2006-6-12_16-53-46/BatchPhoJonathanReplayFRC-shared-2of3-(19,3,33,32,22,20,41,37,13,47,36,29,57,5,4,11,9,10,16,18).png',\n",
       "    'display_fn_name:BatchPhoJonathanReplayFRC/plot_result_set:shared/page:2of6/aclus:(14,15,16,17,18,19,20,21,22,23)': 'C:/Users/pho/repos/Spike3DWorkEnv/Spike3D/data/neptune/commander.pho/PhoDibaLongShortUpdated/figs/gor01_two_2006-6-12_16-53-46/BatchPhoJonathanReplayFRC-shared-2of6-(14,15,16,17,18,19,20,21,22,23).png',\n",
       "    'display_fn_name:BatchPhoJonathanReplayFRC/plot_result_set:shared/page:3of3/aclus:(25,26,28,30,44,45,46,48,54,55,56,58)': 'C:/Users/pho/repos/Spike3DWorkEnv/Spike3D/data/neptune/commander.pho/PhoDibaLongShortUpdated/figs/gor01_two_2006-6-12_16-53-46/BatchPhoJonathanReplayFRC-shared-3of3-(25,26,28,30,44,45,46,48,54,55,56,58).png',\n",
       "    'display_fn_name:BatchPhoJonathanReplayFRC/plot_result_set:shared/page:3of6/aclus:(24,25,26,27,28,29,30,31,32,33)': 'C:/Users/pho/repos/Spike3DWorkEnv/Spike3D/data/neptune/commander.pho/PhoDibaLongShortUpdated/figs/gor01_two_2006-6-12_16-53-46/BatchPhoJonathanReplayFRC-shared-3of6-(24,25,26,27,28,29,30,31,32,33).png',\n",
       "    'display_fn_name:BatchPhoJonathanReplayFRC/plot_result_set:shared/page:4of6/aclus:(34,35,36,37,39,40,41,42,43,44)': 'C:/Users/pho/repos/Spike3DWorkEnv/Spike3D/data/neptune/commander.pho/PhoDibaLongShortUpdated/figs/gor01_two_2006-6-12_16-53-46/BatchPhoJonathanReplayFRC-shared-4of6-(34,35,36,37,39,40,41,42,43,44).png',\n",
       "    'display_fn_name:BatchPhoJonathanReplayFRC/plot_result_set:shared/page:5of6/aclus:(45,46,47,48,49,50,52,54,55,56)': 'C:/Users/pho/repos/Spike3DWorkEnv/Spike3D/data/neptune/commander.pho/PhoDibaLongShortUpdated/figs/gor01_two_2006-6-12_16-53-46/BatchPhoJonathanReplayFRC-shared-5of6-(45,46,47,48,49,50,52,54,55,56).png',\n",
       "    'display_fn_name:BatchPhoJonathanReplayFRC/plot_result_set:shared/page:6of6/aclus:(57,58)': 'C:/Users/pho/repos/Spike3DWorkEnv/Spike3D/data/neptune/commander.pho/PhoDibaLongShortUpdated/figs/gor01_two_2006-6-12_16-53-46/BatchPhoJonathanReplayFRC-shared-6of6-(57,58).png',\n",
       "    'display_fn_name:BatchPhoJonathanReplayFRC/plot_result_set:short_only/aclus:(7,8)': 'C:/Users/pho/repos/Spike3DWorkEnv/Spike3D/data/neptune/commander.pho/PhoDibaLongShortUpdated/figs/gor01_two_2006-6-12_16-53-46/BatchPhoJonathanReplayFRC-short_only-(7,8).png'}}},\n",
       " Context(format_name= 'kdiba', animal= 'pin01', exper_name= 'one', session_name= '11-02_19-28-0'): {<String field at \"sys/id\">: {'pin01_one_11-02_19-28-0': {'display_fn_name:BatchPhoJonathanReplayFRC/plot_result_set:long_only/aclus:(13,20,27,29)': 'C:/Users/pho/repos/Spike3DWorkEnv/Spike3D/data/neptune/commander.pho/PhoDibaLongShortUpdated/figs/pin01_one_11-02_19-28-0/BatchPhoJonathanReplayFRC-long_only-(13,20,27,29).png',\n",
       "    'display_fn_name:BatchPhoJonathanReplayFRC/plot_result_set:long_only/aclus:(29,27,20,13)': 'C:/Users/pho/repos/Spike3DWorkEnv/Spike3D/data/neptune/commander.pho/PhoDibaLongShortUpdated/figs/pin01_one_11-02_19-28-0/BatchPhoJonathanReplayFRC-long_only-(29,27,20,13).png',\n",
       "    'display_fn_name:BatchPhoJonathanReplayFRC/plot_result_set:shared/page:1of2/aclus:(4,5,7,15,33,28,9,12,38,32,34,22,16,21,39,30,11,25,37,36)': 'C:/Users/pho/repos/Spike3DWorkEnv/Spike3D/data/neptune/commander.pho/PhoDibaLongShortUpdated/figs/pin01_one_11-02_19-28-0/BatchPhoJonathanReplayFRC-shared-1of2-(4,5,7,15,33,28,9,12,38,32,34,22,16,21,39,30,11,25,37,36).png',\n",
       "    'display_fn_name:BatchPhoJonathanReplayFRC/plot_result_set:shared/page:1of4/aclus:(2,3,4,5,7,8,9,10,11,12)': 'C:/Users/pho/repos/Spike3DWorkEnv/Spike3D/data/neptune/commander.pho/PhoDibaLongShortUpdated/figs/pin01_one_11-02_19-28-0/BatchPhoJonathanReplayFRC-shared-1of4-(2,3,4,5,7,8,9,10,11,12).png',\n",
       "    'display_fn_name:BatchPhoJonathanReplayFRC/plot_result_set:shared/page:2of2/aclus:(2,3,8,10,14,17,18,19,23,26,31,35)': 'C:/Users/pho/repos/Spike3DWorkEnv/Spike3D/data/neptune/commander.pho/PhoDibaLongShortUpdated/figs/pin01_one_11-02_19-28-0/BatchPhoJonathanReplayFRC-shared-2of2-(2,3,8,10,14,17,18,19,23,26,31,35).png',\n",
       "    'display_fn_name:BatchPhoJonathanReplayFRC/plot_result_set:shared/page:2of4/aclus:(14,15,16,17,18,19,21,22,23,25)': 'C:/Users/pho/repos/Spike3DWorkEnv/Spike3D/data/neptune/commander.pho/PhoDibaLongShortUpdated/figs/pin01_one_11-02_19-28-0/BatchPhoJonathanReplayFRC-shared-2of4-(14,15,16,17,18,19,21,22,23,25).png',\n",
       "    'display_fn_name:BatchPhoJonathanReplayFRC/plot_result_set:shared/page:3of4/aclus:(26,28,30,31,32,33,34,35,36,37)': 'C:/Users/pho/repos/Spike3DWorkEnv/Spike3D/data/neptune/commander.pho/PhoDibaLongShortUpdated/figs/pin01_one_11-02_19-28-0/BatchPhoJonathanReplayFRC-shared-3of4-(26,28,30,31,32,33,34,35,36,37).png',\n",
       "    'display_fn_name:BatchPhoJonathanReplayFRC/plot_result_set:shared/page:4of4/aclus:(38,39)': 'C:/Users/pho/repos/Spike3DWorkEnv/Spike3D/data/neptune/commander.pho/PhoDibaLongShortUpdated/figs/pin01_one_11-02_19-28-0/BatchPhoJonathanReplayFRC-shared-4of4-(38,39).png',\n",
       "    'display_fn_name:BatchPhoJonathanReplayFRC/plot_result_set:short_only/aclus:(6,24)': 'C:/Users/pho/repos/Spike3DWorkEnv/Spike3D/data/neptune/commander.pho/PhoDibaLongShortUpdated/figs/pin01_one_11-02_19-28-0/BatchPhoJonathanReplayFRC-short_only-(6,24).png'}},\n",
       "  <String field at \"sys/id\">: {'pin01_one_11-02_19-28-0': {'display_fn_name:BatchPhoJonathanReplayFRC/plot_result_set:long_only/aclus:(13,20,27,29)': 'C:/Users/pho/repos/Spike3DWorkEnv/Spike3D/data/neptune/commander.pho/PhoDibaLongShortUpdated/figs/pin01_one_11-02_19-28-0/BatchPhoJonathanReplayFRC-long_only-(13,20,27,29).png',\n",
       "    'display_fn_name:BatchPhoJonathanReplayFRC/plot_result_set:long_only/aclus:(29,27,20,13)': 'C:/Users/pho/repos/Spike3DWorkEnv/Spike3D/data/neptune/commander.pho/PhoDibaLongShortUpdated/figs/pin01_one_11-02_19-28-0/BatchPhoJonathanReplayFRC-long_only-(29,27,20,13).png',\n",
       "    'display_fn_name:BatchPhoJonathanReplayFRC/plot_result_set:shared/page:1of2/aclus:(4,5,7,15,33,28,9,12,38,32,34,22,16,21,39,30,11,25,37,36)': 'C:/Users/pho/repos/Spike3DWorkEnv/Spike3D/data/neptune/commander.pho/PhoDibaLongShortUpdated/figs/pin01_one_11-02_19-28-0/BatchPhoJonathanReplayFRC-shared-1of2-(4,5,7,15,33,28,9,12,38,32,34,22,16,21,39,30,11,25,37,36).png',\n",
       "    'display_fn_name:BatchPhoJonathanReplayFRC/plot_result_set:shared/page:1of4/aclus:(2,3,4,5,7,8,9,10,11,12)': 'C:/Users/pho/repos/Spike3DWorkEnv/Spike3D/data/neptune/commander.pho/PhoDibaLongShortUpdated/figs/pin01_one_11-02_19-28-0/BatchPhoJonathanReplayFRC-shared-1of4-(2,3,4,5,7,8,9,10,11,12).png',\n",
       "    'display_fn_name:BatchPhoJonathanReplayFRC/plot_result_set:shared/page:2of2/aclus:(2,3,8,10,14,17,18,19,23,26,31,35)': 'C:/Users/pho/repos/Spike3DWorkEnv/Spike3D/data/neptune/commander.pho/PhoDibaLongShortUpdated/figs/pin01_one_11-02_19-28-0/BatchPhoJonathanReplayFRC-shared-2of2-(2,3,8,10,14,17,18,19,23,26,31,35).png',\n",
       "    'display_fn_name:BatchPhoJonathanReplayFRC/plot_result_set:shared/page:2of4/aclus:(14,15,16,17,18,19,21,22,23,25)': 'C:/Users/pho/repos/Spike3DWorkEnv/Spike3D/data/neptune/commander.pho/PhoDibaLongShortUpdated/figs/pin01_one_11-02_19-28-0/BatchPhoJonathanReplayFRC-shared-2of4-(14,15,16,17,18,19,21,22,23,25).png',\n",
       "    'display_fn_name:BatchPhoJonathanReplayFRC/plot_result_set:shared/page:3of4/aclus:(26,28,30,31,32,33,34,35,36,37)': 'C:/Users/pho/repos/Spike3DWorkEnv/Spike3D/data/neptune/commander.pho/PhoDibaLongShortUpdated/figs/pin01_one_11-02_19-28-0/BatchPhoJonathanReplayFRC-shared-3of4-(26,28,30,31,32,33,34,35,36,37).png',\n",
       "    'display_fn_name:BatchPhoJonathanReplayFRC/plot_result_set:shared/page:4of4/aclus:(38,39)': 'C:/Users/pho/repos/Spike3DWorkEnv/Spike3D/data/neptune/commander.pho/PhoDibaLongShortUpdated/figs/pin01_one_11-02_19-28-0/BatchPhoJonathanReplayFRC-shared-4of4-(38,39).png',\n",
       "    'display_fn_name:BatchPhoJonathanReplayFRC/plot_result_set:short_only/aclus:(6,24)': 'C:/Users/pho/repos/Spike3DWorkEnv/Spike3D/data/neptune/commander.pho/PhoDibaLongShortUpdated/figs/pin01_one_11-02_19-28-0/BatchPhoJonathanReplayFRC-short_only-(6,24).png'}}},\n",
       " Context(format_name= 'kdiba', animal= 'vvp01', exper_name= 'two', session_name= '2006-4-09_16-40-54'): {<String field at \"sys/id\">: {'vvp01_two_2006-4-09_16-40-54': {'display_fn_name:BatchPhoJonathanReplayFRC/plot_result_set:long_only/aclus:(12,14,17,25,29)': 'C:/Users/pho/repos/Spike3DWorkEnv/Spike3D/data/neptune/commander.pho/PhoDibaLongShortUpdated/figs/vvp01_two_2006-4-09_16-40-54/BatchPhoJonathanReplayFRC-long_only-(12,14,17,25,29).png',\n",
       "    'display_fn_name:BatchPhoJonathanReplayFRC/plot_result_set:long_only/aclus:(29,14,12,25,17)': 'C:/Users/pho/repos/Spike3DWorkEnv/Spike3D/data/neptune/commander.pho/PhoDibaLongShortUpdated/figs/vvp01_two_2006-4-09_16-40-54/BatchPhoJonathanReplayFRC-long_only-(29,14,12,25,17).png',\n",
       "    'display_fn_name:BatchPhoJonathanReplayFRC/plot_result_set:shared/page:1of2/aclus:(21,9,7,23,33,32,28,10,18,3,11,6,8,5,26,20,19,24,31,22)': 'C:/Users/pho/repos/Spike3DWorkEnv/Spike3D/data/neptune/commander.pho/PhoDibaLongShortUpdated/figs/vvp01_two_2006-4-09_16-40-54/BatchPhoJonathanReplayFRC-shared-1of2-(21,9,7,23,33,32,28,10,18,3,11,6,8,5,26,20,19,24,31,22).png',\n",
       "    'display_fn_name:BatchPhoJonathanReplayFRC/plot_result_set:shared/page:1of3/aclus:(2,3,4,5,6,7,8,9,10,11)': 'C:/Users/pho/repos/Spike3DWorkEnv/Spike3D/data/neptune/commander.pho/PhoDibaLongShortUpdated/figs/vvp01_two_2006-4-09_16-40-54/BatchPhoJonathanReplayFRC-shared-1of3-(2,3,4,5,6,7,8,9,10,11).png',\n",
       "    'display_fn_name:BatchPhoJonathanReplayFRC/plot_result_set:shared/page:2of2/aclus:(15,2,4,13,16,27,35,36)': 'C:/Users/pho/repos/Spike3DWorkEnv/Spike3D/data/neptune/commander.pho/PhoDibaLongShortUpdated/figs/vvp01_two_2006-4-09_16-40-54/BatchPhoJonathanReplayFRC-shared-2of2-(15,2,4,13,16,27,35,36).png',\n",
       "    'display_fn_name:BatchPhoJonathanReplayFRC/plot_result_set:shared/page:2of3/aclus:(13,15,16,18,19,20,21,22,23,24)': 'C:/Users/pho/repos/Spike3DWorkEnv/Spike3D/data/neptune/commander.pho/PhoDibaLongShortUpdated/figs/vvp01_two_2006-4-09_16-40-54/BatchPhoJonathanReplayFRC-shared-2of3-(13,15,16,18,19,20,21,22,23,24).png',\n",
       "    'display_fn_name:BatchPhoJonathanReplayFRC/plot_result_set:shared/page:3of3/aclus:(26,27,28,31,32,33,35,36)': 'C:/Users/pho/repos/Spike3DWorkEnv/Spike3D/data/neptune/commander.pho/PhoDibaLongShortUpdated/figs/vvp01_two_2006-4-09_16-40-54/BatchPhoJonathanReplayFRC-shared-3of3-(26,27,28,31,32,33,35,36).png',\n",
       "    'display_fn_name:BatchPhoJonathanReplayFRC/plot_result_set:short_only/aclus:(30,34)': 'C:/Users/pho/repos/Spike3DWorkEnv/Spike3D/data/neptune/commander.pho/PhoDibaLongShortUpdated/figs/vvp01_two_2006-4-09_16-40-54/BatchPhoJonathanReplayFRC-short_only-(30,34).png'}}},\n",
       " Context(format_name= 'kdiba', animal= 'vvp01', exper_name= 'one', session_name= '2006-4-10_12-25-50'): {<String field at \"sys/id\">: {'vvp01_one_2006-4-10_12-25-50': {'display_fn_name:BatchPhoJonathanReplayFRC/plot_result_set:long_only/aclus:(6,19,20,23)': 'C:/Users/pho/repos/Spike3DWorkEnv/Spike3D/data/neptune/commander.pho/PhoDibaLongShortUpdated/figs/vvp01_one_2006-4-10_12-25-50/BatchPhoJonathanReplayFRC-long_only-(6,19,20,23).png',\n",
       "    'display_fn_name:BatchPhoJonathanReplayFRC/plot_result_set:long_only/aclus:(6,20,23,19)': 'C:/Users/pho/repos/Spike3DWorkEnv/Spike3D/data/neptune/commander.pho/PhoDibaLongShortUpdated/figs/vvp01_one_2006-4-10_12-25-50/BatchPhoJonathanReplayFRC-long_only-(6,20,23,19).png',\n",
       "    'display_fn_name:BatchPhoJonathanReplayFRC/plot_result_set:shared/page:1of2/aclus:(27,37,22,34,33,32,13,21,25,15,10,16,9,31,5,18,12,35,17,8)': 'C:/Users/pho/repos/Spike3DWorkEnv/Spike3D/data/neptune/commander.pho/PhoDibaLongShortUpdated/figs/vvp01_one_2006-4-10_12-25-50/BatchPhoJonathanReplayFRC-shared-1of2-(27,37,22,34,33,32,13,21,25,15,10,16,9,31,5,18,12,35,17,8).png',\n",
       "    'display_fn_name:BatchPhoJonathanReplayFRC/plot_result_set:shared/page:1of4/aclus:(2,3,4,5,7,8,9,10,11,12)': 'C:/Users/pho/repos/Spike3DWorkEnv/Spike3D/data/neptune/commander.pho/PhoDibaLongShortUpdated/figs/vvp01_one_2006-4-10_12-25-50/BatchPhoJonathanReplayFRC-shared-1of4-(2,3,4,5,7,8,9,10,11,12).png',\n",
       "    'display_fn_name:BatchPhoJonathanReplayFRC/plot_result_set:shared/page:2of2/aclus:(4,11,7,2,3,14,24,26,28,30,38,39)': 'C:/Users/pho/repos/Spike3DWorkEnv/Spike3D/data/neptune/commander.pho/PhoDibaLongShortUpdated/figs/vvp01_one_2006-4-10_12-25-50/BatchPhoJonathanReplayFRC-shared-2of2-(4,11,7,2,3,14,24,26,28,30,38,39).png',\n",
       "    'display_fn_name:BatchPhoJonathanReplayFRC/plot_result_set:shared/page:2of4/aclus:(13,14,15,16,17,18,21,22,24,25)': 'C:/Users/pho/repos/Spike3DWorkEnv/Spike3D/data/neptune/commander.pho/PhoDibaLongShortUpdated/figs/vvp01_one_2006-4-10_12-25-50/BatchPhoJonathanReplayFRC-shared-2of4-(13,14,15,16,17,18,21,22,24,25).png',\n",
       "    'display_fn_name:BatchPhoJonathanReplayFRC/plot_result_set:shared/page:3of4/aclus:(26,27,28,30,31,32,33,34,35,37)': 'C:/Users/pho/repos/Spike3DWorkEnv/Spike3D/data/neptune/commander.pho/PhoDibaLongShortUpdated/figs/vvp01_one_2006-4-10_12-25-50/BatchPhoJonathanReplayFRC-shared-3of4-(26,27,28,30,31,32,33,34,35,37).png',\n",
       "    'display_fn_name:BatchPhoJonathanReplayFRC/plot_result_set:shared/page:4of4/aclus:(38,39)': 'C:/Users/pho/repos/Spike3DWorkEnv/Spike3D/data/neptune/commander.pho/PhoDibaLongShortUpdated/figs/vvp01_one_2006-4-10_12-25-50/BatchPhoJonathanReplayFRC-shared-4of4-(38,39).png',\n",
       "    'display_fn_name:BatchPhoJonathanReplayFRC/plot_result_set:short_only/aclus:(29,36)': 'C:/Users/pho/repos/Spike3DWorkEnv/Spike3D/data/neptune/commander.pho/PhoDibaLongShortUpdated/figs/vvp01_one_2006-4-10_12-25-50/BatchPhoJonathanReplayFRC-short_only-(29,36).png'}},\n",
       "  <String field at \"sys/id\">: {'vvp01_one_2006-4-10_12-25-50': {'display_fn_name:BatchPhoJonathanReplayFRC/plot_result_set:long_only/aclus:(6,19,20,23)': 'C:/Users/pho/repos/Spike3DWorkEnv/Spike3D/data/neptune/commander.pho/PhoDibaLongShortUpdated/figs/vvp01_one_2006-4-10_12-25-50/BatchPhoJonathanReplayFRC-long_only-(6,19,20,23).png',\n",
       "    'display_fn_name:BatchPhoJonathanReplayFRC/plot_result_set:long_only/aclus:(6,20,23,19)': 'C:/Users/pho/repos/Spike3DWorkEnv/Spike3D/data/neptune/commander.pho/PhoDibaLongShortUpdated/figs/vvp01_one_2006-4-10_12-25-50/BatchPhoJonathanReplayFRC-long_only-(6,20,23,19).png',\n",
       "    'display_fn_name:BatchPhoJonathanReplayFRC/plot_result_set:shared/page:1of2/aclus:(27,37,22,34,33,32,13,21,25,15,10,16,9,31,5,18,12,35,17,8)': 'C:/Users/pho/repos/Spike3DWorkEnv/Spike3D/data/neptune/commander.pho/PhoDibaLongShortUpdated/figs/vvp01_one_2006-4-10_12-25-50/BatchPhoJonathanReplayFRC-shared-1of2-(27,37,22,34,33,32,13,21,25,15,10,16,9,31,5,18,12,35,17,8).png',\n",
       "    'display_fn_name:BatchPhoJonathanReplayFRC/plot_result_set:shared/page:1of4/aclus:(2,3,4,5,7,8,9,10,11,12)': 'C:/Users/pho/repos/Spike3DWorkEnv/Spike3D/data/neptune/commander.pho/PhoDibaLongShortUpdated/figs/vvp01_one_2006-4-10_12-25-50/BatchPhoJonathanReplayFRC-shared-1of4-(2,3,4,5,7,8,9,10,11,12).png',\n",
       "    'display_fn_name:BatchPhoJonathanReplayFRC/plot_result_set:shared/page:2of2/aclus:(4,11,7,2,3,14,24,26,28,30,38,39)': 'C:/Users/pho/repos/Spike3DWorkEnv/Spike3D/data/neptune/commander.pho/PhoDibaLongShortUpdated/figs/vvp01_one_2006-4-10_12-25-50/BatchPhoJonathanReplayFRC-shared-2of2-(4,11,7,2,3,14,24,26,28,30,38,39).png',\n",
       "    'display_fn_name:BatchPhoJonathanReplayFRC/plot_result_set:shared/page:2of4/aclus:(13,14,15,16,17,18,21,22,24,25)': 'C:/Users/pho/repos/Spike3DWorkEnv/Spike3D/data/neptune/commander.pho/PhoDibaLongShortUpdated/figs/vvp01_one_2006-4-10_12-25-50/BatchPhoJonathanReplayFRC-shared-2of4-(13,14,15,16,17,18,21,22,24,25).png',\n",
       "    'display_fn_name:BatchPhoJonathanReplayFRC/plot_result_set:shared/page:3of4/aclus:(26,27,28,30,31,32,33,34,35,37)': 'C:/Users/pho/repos/Spike3DWorkEnv/Spike3D/data/neptune/commander.pho/PhoDibaLongShortUpdated/figs/vvp01_one_2006-4-10_12-25-50/BatchPhoJonathanReplayFRC-shared-3of4-(26,27,28,30,31,32,33,34,35,37).png',\n",
       "    'display_fn_name:BatchPhoJonathanReplayFRC/plot_result_set:shared/page:4of4/aclus:(38,39)': 'C:/Users/pho/repos/Spike3DWorkEnv/Spike3D/data/neptune/commander.pho/PhoDibaLongShortUpdated/figs/vvp01_one_2006-4-10_12-25-50/BatchPhoJonathanReplayFRC-shared-4of4-(38,39).png',\n",
       "    'display_fn_name:BatchPhoJonathanReplayFRC/plot_result_set:short_only/aclus:(29,36)': 'C:/Users/pho/repos/Spike3DWorkEnv/Spike3D/data/neptune/commander.pho/PhoDibaLongShortUpdated/figs/vvp01_one_2006-4-10_12-25-50/BatchPhoJonathanReplayFRC-short_only-(29,36).png'}}},\n",
       " Context(format_name= 'kdiba', animal= 'pin01', exper_name= 'one', session_name= '11-03_12-3-25'): {}}"
      ]
     },
     "execution_count": 61,
     "metadata": {},
     "output_type": "execute_result"
    }
   ],
   "source": [
    "# fig_input_key: str = \"display_fn_name:display_long_short_laps\"\n",
    "# fig_input_key: str = \"display_fn_name:display_short_long_pf1D_comparison/track:long\"\n",
    "# fig_input_key: str = \"display_fn_name:display_short_long_pf1D_comparison/track:short\"\n",
    "# fig_input_key: str = \"display_fn_name:running_and_replay_speeds_over_time\"\n",
    "\n",
    "# Support Incomplete Keys to export multiple images: _________________________________________________________________ #\n",
    "# fig_input_key: str = \"display_fn_name:BatchPhoJonathanReplayFRC/plot_result_set:shared/page:1of6/aclus:(2,4,5,6,7,8,9,11,12,13)\"\n",
    "fig_input_key: str = \"display_fn_name:BatchPhoJonathanReplayFRC\" # plot_result_set:shared/page:1of6/aclus:(2,4,5,6,7,8,9,11,12,13)\n",
    "# check if the key ends with a forward-slash, in which case it may describe multiple images\n",
    "# fig_input_key.endswith('/')\n",
    "\n",
    "_context_figures_dict = neptune_run_collected_results.download_uploaded_figure_files(neptune_project_figures_output_path=neptune_project_figures_output_path, fig_input_key=fig_input_key, debug_print=True)\n",
    "_context_figures_dict\n"
   ]
  },
  {
   "cell_type": "code",
   "execution_count": null,
   "metadata": {},
   "outputs": [],
   "source": [
    "most_recent_runs_table_df.to_csv('output/2024-09-24_most_recent_neptune_runs_csv.csv')"
   ]
  },
  {
   "cell_type": "code",
   "execution_count": null,
   "metadata": {},
   "outputs": [],
   "source": [
    "most_recent_runs_table_df['final_log_file_path']\n"
   ]
  },
  {
   "cell_type": "code",
   "execution_count": null,
   "metadata": {},
   "outputs": [],
   "source": [
    "## INPUTS: context_indexed_run_logs, neptune_logs_output_path\n",
    "## OUTPUT: _out_log_paths\n",
    "neptune_logs_output_path = neptune_project_output_path.joinpath('logs').resolve()\n",
    "neptune_logs_output_path.mkdir(exist_ok=True, parents=True)\n",
    "_out_log_paths = neptune_run_collected_results._perform_export_log_files_to_separate_files(context_indexed_run_logs=context_indexed_run_logs, neptune_logs_output_path=neptune_logs_output_path)\n",
    "_out_log_paths"
   ]
  },
  {
   "cell_type": "code",
   "execution_count": null,
   "metadata": {},
   "outputs": [],
   "source": []
  },
  {
   "cell_type": "markdown",
   "metadata": {},
   "source": [
    "# Trivial ipytree Example that causes jumping"
   ]
  },
  {
   "cell_type": "code",
   "execution_count": null,
   "metadata": {
    "tags": []
   },
   "outputs": [],
   "source": [
    "from IPython.display import clear_output, display\n",
    "from ipytree import Tree, Node\n",
    "\n",
    "\n",
    "tree = Tree(stripes=False)\n",
    "for i in range(3):\n",
    "    node = Node(f\"Node {i}\")\n",
    "    tree.add_node(node)\n",
    "    \n",
    "def handle_click(event):\n",
    "    clear_output(wait=True)  # Prevent scrolling\n",
    "    display(tree)  # Re-display the tree to keep focus\n",
    "    print(f\"Clicked on: {event['owner'].name}\")\n",
    "\n",
    "for node in tree.nodes:\n",
    "    node.observe(handle_click, names='selected')\n",
    "\n",
    "tree\n"
   ]
  },
  {
   "cell_type": "markdown",
   "metadata": {},
   "source": [
    "# Log Viewer Widget"
   ]
  },
  {
   "cell_type": "code",
   "execution_count": null,
   "metadata": {},
   "outputs": [],
   "source": [
    "# Call the function to build and display the interactive session display\n",
    "interactive_layout = Neptuner.build_interactive_session_run_logs_widget(context_indexed_run_logs, most_recent_runs_session_descriptor_string_to_context_map, most_recent_runs_context_indexed_run_extra_data)\n",
    "display(interactive_layout)"
   ]
  },
  {
   "cell_type": "code",
   "execution_count": null,
   "metadata": {},
   "outputs": [],
   "source": [
    "# does not trigger change:\n",
    "# .on_node_selected(change: {'name': 'selected', 'old': True, 'new': False, 'owner': Node(name='11-02_17-46-44'), 'type': 'change'})\n",
    "# .on_node_selected(change: {'name': 'selected', 'old': False, 'new': True, 'owner': Node(name='fet11-01_12-58-54', selected=True), 'type': 'change'})\n",
    "# Selected context: {'format_name': 'kdiba', 'animal': 'pin01', 'exper_name': 'one', 'session_name': 'fet11-01_12-58-54'}\n"
   ]
  },
  {
   "cell_type": "code",
   "execution_count": null,
   "metadata": {},
   "outputs": [],
   "source": [
    "empty_session_tuple = {\n",
    "    'format_name': '',\n",
    "    'animal': '',\n",
    "    'exper_name': '',\n",
    "    'session_name': '',\n",
    "    'session_descriptor_string': '',\n",
    "    'id': '<Selection Not Found>',\n",
    "    'hostname': '',\n",
    "    'creation_time': '',\n",
    "    'running_time': '',\n",
    "    'ping_time': '',\n",
    "    'monitoring_time': '',\n",
    "    'size': '',\n",
    "    'tags': '',\n",
    "    'entrypoint': ''\n",
    "}\n",
    "\n",
    "print(list(empty_session_tuple.keys())) # ['format_name', 'animal', 'exper_name', 'session_name', 'session_descriptor_string', 'id', 'hostname', 'creation_time', 'running_time', 'ping_time', 'monitoring_time', 'size', 'tags', 'entrypoint']\n",
    "display_session_extra_data_keys = ['id', 'hostname', 'creation_time', 'running_time', 'ping_time', 'monitoring_time', 'size', 'tags', 'entrypoint']\n",
    "\n",
    "# hostname: gl3126.arc-ts.umich.edu\n",
    "# creation_time: 2024-08-29 16:47:55.150000\n",
    "# running_time: 8512.876\n",
    "# ping_time: 2024-09-24 08:38:06.349000\n",
    "# monitoring_time: 1291\n",
    "# size: 24744223.0\n",
    "# tags: one,kdiba,11-02_19-28-0,pin01\n",
    "# entrypoint: figures_kdiba_pin01_one_11-02_19-28-0.py\n",
    "\n"
   ]
  },
  {
   "cell_type": "code",
   "execution_count": null,
   "metadata": {
    "tags": []
   },
   "outputs": [],
   "source": [
    "from pandas import Timestamp\n",
    "import ipywidgets as widgets\n",
    "from IPython.display import display\n",
    "from pyphocorehelpers.gui.Jupyter.TreeWidget import JupyterTreeWidget\n",
    "\n",
    "## INPUTS: context_indexed_run_logs, most_recent_runs_session_descriptor_string_to_context_map, header_hbox\n",
    "\n",
    "# Tree Widget ________________________________________________________________________________________________________ #\n",
    "included_session_contexts: List[IdentifyingContext] = list(most_recent_runs_session_descriptor_string_to_context_map.values())\n",
    "jupyter_tree_widget = JupyterTreeWidget(included_session_contexts=included_session_contexts,\n",
    "\t\t\t\t\t\t\t\t\t\ton_selection_changed_callbacks=[],\n",
    "\t\t\t\t\t\t\t\t\t\tdisplay_on_init=False)\n",
    "# type(jupyter_tree_widget.tree) # ipytree.tree.Tree\n",
    "\n",
    "# Set a layout for the tree to prevent it from being cut off\n",
    "jupyter_tree_widget.tree.layout = widgets.Layout(min_width='200px', max_width='600px', overflow='auto', height='auto')\n",
    "\n",
    "# Content Widget _____________________________________________________________________________________________________ #\n",
    "def build_session_tuple_header_widget(a_session_tuple: Tuple):\n",
    "    # Create widgets for each key-value pair\n",
    "    # widgets_list = [widgets.Label(f\"{key}: {value}\") for key, value in a_session_tuple.items()]\n",
    "    \n",
    "    # Create a dictionary to hold the label widgets\n",
    "    header_label_widgets = {key: widgets.Label(f\"{key}: '{value}',\") for key, value in a_session_tuple.items()}\n",
    "\n",
    "    # Horizontally stack the label widgets\n",
    "    # header_hbox = widgets.HBox(list(header_label_widgets.values()), layout=widgets.Layout(min_width='400px', min_height='50px', width='auto', height='auto')) # , overflow='auto'\n",
    "    \n",
    "    # Define a layout that enables wrapping\n",
    "    box_layout = widgets.Layout(\n",
    "        display='flex',\n",
    "        flex_flow='row wrap',\n",
    "        align_items='stretch',\n",
    "        width='100%'\n",
    "    )\n",
    "\n",
    "    # Create a Box with the custom layout\n",
    "    header_hbox = widgets.Box(list(header_label_widgets.values()), layout=box_layout)\n",
    "\n",
    "\n",
    "    # Function to update the values in the labels\n",
    "    def update_header_labels_fn(new_values):\n",
    "        \"\"\" captures: label_widgets\"\"\"\n",
    "        for key, value in new_values.items():\n",
    "            header_label_widgets[key].value = f\"{key}: {value}\"\n",
    "            \n",
    "    # Display the widget\n",
    "    return header_hbox, header_label_widgets, update_header_labels_fn\n",
    "\n",
    "\n",
    "# Example SessionTuple\n",
    "empty_session_tuple = {\n",
    "    'format_name': '',\n",
    "    'animal': '',\n",
    "    'exper_name': '',\n",
    "    'session_name': '',\n",
    "    'session_descriptor_string': '',\n",
    "    'id': '<Selection Not Found>',\n",
    "    'hostname': '',\n",
    "    'creation_time': '',\n",
    "    'running_time': '',\n",
    "    'ping_time': '',\n",
    "    'monitoring_time': '',\n",
    "    'size': '',\n",
    "    'tags': '',\n",
    "    'entrypoint': ''\n",
    "}\n",
    "\n",
    "header_hbox, header_label_widgets, update_header_labels_fn = build_session_tuple_header_widget(a_session_tuple=empty_session_tuple)\n",
    "\n",
    "# Create Textarea widget with a defined width\n",
    "textarea = widgets.Textarea(value='<No Selection>',\n",
    "    disabled=True,  # Make it read-only\n",
    "    style={'font_size': '10px'},  # Smaller font size\n",
    "\tlayout=widgets.Layout(flex='1', width='650px', min_height='650px',\n",
    "                        height='850px',\n",
    "                        ))\n",
    "\n",
    "content_view_layout = widgets.VBox([header_hbox, textarea], layout=widgets.Layout(min_width='500px', min_height='200px', width='auto', height='auto')) # INPUTS: header_hbox\n",
    "\n",
    "# Layout widgets side by side with proper spacing\n",
    "layout = widgets.HBox([jupyter_tree_widget.tree, content_view_layout], layout=widgets.Layout(min_width='500px', min_height='100px', width='auto', height='auto'))\n",
    "\n",
    "\n",
    "def _on_tree_node_selection_changed(selected_node, selected_context):\n",
    "    \"\"\" \n",
    "    captures: context_indexed_run_logs, textarea, most_recent_runs_context_indexed_run_extra_data, empty_session_tuple, update_header_labels_fn\n",
    "    \"\"\"\n",
    "    print(f'_on_tree_node_selection_changed(selected_node: {selected_node}, selected_context: {selected_context})') # Selected context: {'format_name': 'kdiba', 'animal': 'pin01', 'exper_name': 'one', 'session_name': 'fet11-01_12-58-54'}\n",
    "    #_on_tree_node_selection_changed(selected_node: Node(name='fet11-01_12-58-54', selected=True), selected_context: {'format_name': 'kdiba', 'animal': 'pin01', 'exper_name': 'one', 'session_name': 'fet11-01_12-58-54'})\n",
    "    if isinstance(selected_context, dict):\n",
    "        selected_context = IdentifyingContext(**selected_context)\n",
    "    \n",
    "    curr_context_extra_data_tuple = most_recent_runs_context_indexed_run_extra_data.get(selected_context, empty_session_tuple)\n",
    "    update_header_labels_fn(curr_context_extra_data_tuple)\n",
    "    curr_context_run_log: str = context_indexed_run_logs.get(selected_context, '<Context Not Found>')\n",
    "    textarea.value = curr_context_run_log\n",
    "\n",
    "jupyter_tree_widget.on_selection_changed_callback = [_on_tree_node_selection_changed]\n",
    "# Display the layout\n",
    "layout\n"
   ]
  },
  {
   "cell_type": "code",
   "execution_count": null,
   "metadata": {},
   "outputs": [],
   "source": [
    "\n",
    "\n",
    "text_area = widgets.Textarea(\n",
    "    value='<No Selection>',\n",
    "    disabled=True,  # Make it read-only\n",
    "    layout=widgets.Layout(width='100%', height='400px')  # Scrollable area\n",
    ")\n",
    "\n",
    "combined_widget = widgets.HBox([jupyter_tree_widget.tree, text_area])\n",
    "combined_widget\n",
    "# log_viewer = create_log_viewer(logs=run_logs)\n",
    "# display(log_viewer)\n"
   ]
  },
  {
   "cell_type": "code",
   "execution_count": null,
   "metadata": {},
   "outputs": [],
   "source": [
    "parsed_structure = run.get_parsed_structure()\n",
    "parsed_structure"
   ]
  },
  {
   "cell_type": "code",
   "execution_count": null,
   "metadata": {},
   "outputs": [],
   "source": [
    "import regions\n",
    "(parsed_structure['monitoring'])\n"
   ]
  },
  {
   "cell_type": "code",
   "execution_count": null,
   "metadata": {},
   "outputs": [],
   "source": [
    "for run_id, a_log in run_logs.items():\n",
    "    print(\"# ==================================================================================================================== #\")\n",
    "    print(f\"# run_id: {run_id}                                                                                                     #\")\n",
    "    print(\"# ==================================================================================================================== #\")    \n",
    "    # print(f'run_id: {run_id} =================')\n",
    "    # print(f\"# run_id: {run_id:<100} #\")\n",
    "    print(a_log)\n",
    "    print(\"# END LOG ____________________________________________________________________________________________________________ #\")\n",
    "    \n"
   ]
  },
  {
   "cell_type": "markdown",
   "metadata": {},
   "source": [
    "Calling `run.print_structure()` produces the following output:\n",
    "```python\n",
    "'animal': String\n",
    "'exper_name': String\n",
    "'format_name': String\n",
    "'monitoring':\n",
    "    '5f739afe':\n",
    "        'hostname': String\n",
    "        'pid': String\n",
    "        'tid': String\n",
    "    'be28f54f':\n",
    "        'cpu': FloatSeries\n",
    "        'hostname': String\n",
    "        'memory': FloatSeries\n",
    "        'pid': String\n",
    "        'stderr': StringSeries\n",
    "        'stdout': StringSeries\n",
    "        'tid': String\n",
    "'outputs':\n",
    "    'figures':\n",
    "        'display_fn_name:BatchPhoJonathanReplayFRC':\n",
    "            'plot_result_set:long_only':\n",
    "                'aclus:(16,19,6,31,10)': File\n",
    "                'aclus:(6,10,16,19,31)': File\n",
    "            'plot_result_set:shared':\n",
    "                'page:1of2':\n",
    "                    'aclus:(26,20,29,18,3,4,7,32,13,11,12,2,30,15,9,28,22,14,21,25)': File\n",
    "                'page:1of3':\n",
    "                    'aclus:(2,3,4,5,7,8,9,11,12,13)': File\n",
    "                'page:2of2':\n",
    "                    'aclus:(5,8,17,23,27)': File\n",
    "                'page:2of3':\n",
    "                    'aclus:(14,15,17,18,20,21,22,23,25,26)': File\n",
    "                'page:3of3':\n",
    "                    'aclus:(27,28,29,30,32)': File\n",
    "            'plot_result_set:short_only':\n",
    "                'aclus:(24)': File\n",
    "        'display_fn_name:_display_grid_bin_bounds_validation': File\n",
    "        'display_fn_name:bidir_track_remap':\n",
    "            'subplot_name:Track Remapping': File\n",
    "        'display_fn_name:display_long_short_laps': File\n",
    "        'display_fn_name:display_short_long_pf1D_comparison':\n",
    "            'track:long': File\n",
    "            'track:short': File\n",
    "        'display_fn_name:plot_all_epoch_bins_marginal_predictions':\n",
    "            'subplot_name:Laps all_epoch_binned Marginals': File\n",
    "            'subplot_name:Ripple all_epoch_binned Marginals': File\n",
    "        'display_fn_name:plot_expected_vs_observed':\n",
    "            'x_variable:epoch_idx':\n",
    "                'variable:obs_exp_diff_ptp': File\n",
    "        'display_fn_name:plot_histograms':\n",
    "            'subplot_name:laps_result_tuple': File\n",
    "            'subplot_name:ripple_result_tuple': File\n",
    "        'display_fn_name:plot_quantile_diffs':\n",
    "            'subplot_name:BestDir': File\n",
    "        'display_fn_name:plot_rank_order_epoch_inst_fr_result_tuples':\n",
    "            'subplot_name:Lap':\n",
    "                'subplotsubplot_name:raw': File\n",
    "                'subplotsubplot_name:z_score_diff': File\n",
    "            'subplot_name:Ripple':\n",
    "                'subplotsubplot_name:raw': File\n",
    "                'subplotsubplot_name:z_score_diff': File\n",
    "        'display_fn_name:plot_rank_order_histograms':\n",
    "            'subplot_name:Ripple Most-likely Spearman Rho': File\n",
    "            'subplot_name:Ripple Most-likely Z-scores': File\n",
    "            'subplot_name:Ripple Z-scores': File\n",
    "            'subplot_name:Ripple real correlations': File\n",
    "        'display_fn_name:running_and_replay_speeds_over_time': File\n",
    "        'filter_name:maze1_any':\n",
    "            'lap_dir:any':\n",
    "                'display_fn_name:1d_placefields': File\n",
    "                'display_fn_name:_display_1d_placefield_validations': File\n",
    "                'display_fn_name:_display_2d_placefield_result_plot_ratemaps_2D': File\n",
    "                'display_fn_name:plot_occupancy':\n",
    "                    'plot_variable:OCCUPANCY': File\n",
    "                'display_fn_name:plot_single_track_firing_rate_compare': File\n",
    "        'filter_name:maze1_even':\n",
    "            'lap_dir:even':\n",
    "                'display_fn_name:1d_placefields': File\n",
    "                'display_fn_name:_display_1d_placefield_validations': File\n",
    "                'display_fn_name:_display_2d_placefield_result_plot_ratemaps_2D': File\n",
    "                'display_fn_name:plot_occupancy':\n",
    "                    'plot_variable:OCCUPANCY': File\n",
    "        'filter_name:maze1_odd':\n",
    "            'lap_dir:odd':\n",
    "                'display_fn_name:1d_placefields': File\n",
    "                'display_fn_name:_display_1d_placefield_validations': File\n",
    "                'display_fn_name:_display_2d_placefield_result_plot_ratemaps_2D': File\n",
    "                'display_fn_name:plot_occupancy':\n",
    "                    'plot_variable:OCCUPANCY': File\n",
    "        'filter_name:maze2_any':\n",
    "            'lap_dir:any':\n",
    "                'display_fn_name:1d_placefields': File\n",
    "                'display_fn_name:_display_1d_placefield_validations': File\n",
    "                'display_fn_name:_display_2d_placefield_result_plot_ratemaps_2D': File\n",
    "                'display_fn_name:plot_occupancy':\n",
    "                    'plot_variable:OCCUPANCY': File\n",
    "                'display_fn_name:plot_single_track_firing_rate_compare': File\n",
    "        'filter_name:maze2_even':\n",
    "            'lap_dir:even':\n",
    "                'display_fn_name:1d_placefields': File\n",
    "                'display_fn_name:_display_1d_placefield_validations': File\n",
    "                'display_fn_name:_display_2d_placefield_result_plot_ratemaps_2D': File\n",
    "                'display_fn_name:plot_occupancy':\n",
    "                    'plot_variable:OCCUPANCY': File\n",
    "        'filter_name:maze2_odd':\n",
    "            'lap_dir:odd':\n",
    "                'display_fn_name:1d_placefields': File\n",
    "                'display_fn_name:_display_1d_placefield_validations': File\n",
    "                'display_fn_name:_display_2d_placefield_result_plot_ratemaps_2D': File\n",
    "                'display_fn_name:plot_occupancy':\n",
    "                    'plot_variable:OCCUPANCY': File\n",
    "        'filter_name:maze_any':\n",
    "            'lap_dir:any':\n",
    "                'display_fn_name:1d_placefields': File\n",
    "                'display_fn_name:_display_1d_placefield_validations': File\n",
    "                'display_fn_name:_display_2d_placefield_result_plot_ratemaps_2D': File\n",
    "                'display_fn_name:plot_occupancy':\n",
    "                    'plot_variable:OCCUPANCY': File\n",
    "        'filter_name:maze_even':\n",
    "            'lap_dir:even':\n",
    "                'display_fn_name:1d_placefields': File\n",
    "                'display_fn_name:_display_1d_placefield_validations': File\n",
    "                'display_fn_name:_display_2d_placefield_result_plot_ratemaps_2D': File\n",
    "                'display_fn_name:plot_occupancy':\n",
    "                    'plot_variable:OCCUPANCY': File\n",
    "        'filter_name:maze_odd':\n",
    "            'lap_dir:odd':\n",
    "                'display_fn_name:1d_placefields': File\n",
    "                'display_fn_name:_display_1d_placefield_validations': File\n",
    "                'display_fn_name:_display_2d_placefield_result_plot_ratemaps_2D': File\n",
    "                'display_fn_name:plot_occupancy':\n",
    "                    'plot_variable:OCCUPANCY': File\n",
    "        'fn_name:long_short_firing_rate_indicies':\n",
    "            'display_fn_name:display_long_short_laps': File\n",
    "'session_descriptor_string': String\n",
    "'session_name': String\n",
    "'source_code':\n",
    "    'diff': File\n",
    "    'entrypoint': String\n",
    "'sys':\n",
    "    'creation_time': Datetime\n",
    "    'description': String\n",
    "    'failed': Boolean\n",
    "    'group_tags': StringSet\n",
    "    'hostname': String\n",
    "    'id': String\n",
    "    'modification_time': Datetime\n",
    "    'monitoring_time': Integer\n",
    "    'name': String\n",
    "    'owner': String\n",
    "    'ping_time': Datetime\n",
    "    'running_time': Float\n",
    "    'size': Float\n",
    "    'state': RunState\n",
    "    'tags': StringSet\n",
    "    'trashed': Boolean\n",
    "```\n",
    "How can I capture this printed output (printed to stdout I think) and then parse it into a tree-like structure made of nested-dictionaries to be able to figure out the available structure?"
   ]
  },
  {
   "cell_type": "code",
   "execution_count": null,
   "metadata": {},
   "outputs": [],
   "source": [
    "# Fetch all experiments\n",
    "experiments = neptuner.project.fetch_experiments_table().to_pandas()\n",
    "experiments"
   ]
  },
  {
   "cell_type": "code",
   "execution_count": null,
   "metadata": {},
   "outputs": [],
   "source": [
    "# Initialize the neptune client\n",
    "# neptune.init(project=neptune_kwargs['project'], api_token=neptune_kwargs['api_token'])\n",
    "\n",
    "# project = neptune.get_project()\n",
    "# project"
   ]
  },
  {
   "cell_type": "code",
   "execution_count": null,
   "metadata": {},
   "outputs": [],
   "source": [
    "\n",
    "\n",
    "if neptuner.run is None:\n",
    "    neptuner.run = AutoValueConvertingNeptuneRun(project=neptuner.project_name, api_token=neptuner.api_token, dependencies=\"infer\", source_files=[notebook_filepath])\n",
    "    params = {\"TODAY_DAY_DATE\": TODAY_DAY_DATE, \"run_workstation\": \"Apogee\"}\n",
    "    neptuner.run[\"parameters\"] = params\n",
    "    neptuner.outputs = neptuner.run['outputs']\n",
    "    neptuner.figures = neptuner.outputs['figures']\n",
    "\n",
    "neptuner_run: AutoValueConvertingNeptuneRun = neptuner.run\n",
    "\n",
    "# run = neptune.init_run(source_files=[\"**/*.dvc\"])\n",
    "\n",
    "# # Pre-execution dataframe view:\n",
    "# run[\"dataset/global_batch_run_progress_df\"].upload(File.as_html(global_batch_run.to_dataframe(expand_context=True, good_only=False))) # \"path/to/test_preds.csv\"\n",
    "\n",
    "\n",
    "\n",
    "known_bad_sessions = [IdentifyingContext(format_name='kdiba',animal='pin01',exper_name='one',session_name='11-02_17-46-44')]\n",
    "known_bad_session_strs = [str(v.get_description()) for v in known_bad_sessions]\n",
    "known_bad_session_strs"
   ]
  }
 ],
 "metadata": {
  "kernelspec": {
   "display_name": "Python 3 (ipykernel)",
   "language": "python",
   "name": "python3"
  },
  "language_info": {
   "codemirror_mode": {
    "name": "ipython",
    "version": 3
   },
   "file_extension": ".py",
   "mimetype": "text/x-python",
   "name": "python",
   "nbconvert_exporter": "python",
   "pygments_lexer": "ipython3",
   "version": "3.9.13"
  }
 },
 "nbformat": 4,
 "nbformat_minor": 4
}
