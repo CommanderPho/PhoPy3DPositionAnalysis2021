{
 "cells": [
  {
   "cell_type": "code",
   "execution_count": 1,
   "metadata": {
    "notebookRunGroups": {
     "groupValue": "1"
    },
    "tags": [
     "remove-input",
     "run_main",
     "run-group-startup"
    ]
   },
   "outputs": [
    {
     "name": "stdout",
     "output_type": "stream",
     "text": [
      "Automatic pdb calling has been turned OFF\n",
      "TODAY_DAY_DATE: 2024-11-21_Lab\n"
     ]
    }
   ],
   "source": [
    "%config IPCompleter.use_jedi = False\n",
    "%pdb off\n",
    "%load_ext autoreload\n",
    "%autoreload 3\n",
    "\n",
    "# required to enable non-blocking interaction:\n",
    "%gui qt5\n",
    "\n",
    "import sys\n",
    "from copy import deepcopy\n",
    "from typing import Dict, List, Tuple, Optional, Callable, Union, Any\n",
    "from typing_extensions import TypeAlias\n",
    "from neuropy.utils.result_context import IdentifyingContext\n",
    "from nptyping import NDArray\n",
    "import neuropy.utils.type_aliases as types\n",
    "from collections import defaultdict\n",
    "from functools import partial\n",
    "\n",
    "import numpy as np\n",
    "import pandas as pd\n",
    "import re\n",
    "from pathlib import Path\n",
    "from datetime import datetime\n",
    "\n",
    "from neuropy.utils.indexing_helpers import PandasHelpers\n",
    "from neuropy.core.user_annotations import UserAnnotationsManager\n",
    "from pyphocorehelpers.indexing_helpers import partition_df\n",
    "# Set the maximum number of columns to display\n",
    "pd.set_option('display.max_columns', 100)\n",
    "\n",
    "import IPython\n",
    "from pyphocorehelpers.programming_helpers import IPythonHelpers\n",
    "from pyphocorehelpers.notebook_helpers import NotebookCellExecutionLogger\n",
    "from pyphocorehelpers.assertion_helpers import Assert\n",
    "\n",
    "# Jupyter-lab enable printing for any line on its own (instead of just the last one in the cell)\n",
    "from IPython.core.interactiveshell import InteractiveShell\n",
    "InteractiveShell.ast_node_interactivity = \"all\"\n",
    "\n",
    "_notebook_path:Path = Path(IPythonHelpers.try_find_notebook_filepath(IPython.extract_module_locals())).resolve() # Finds the path of THIS notebook\n",
    "\n",
    "# Plotting\n",
    "# import pylustrator # customization of figures\n",
    "import matplotlib\n",
    "import matplotlib as mpl\n",
    "import matplotlib.pyplot as plt\n",
    "_bak_rcParams = mpl.rcParams.copy()\n",
    "\n",
    "matplotlib.use('Qt5Agg')\n",
    "\n",
    "# Switch to the desired interactivity mode\n",
    "plt.interactive(True)\n",
    "\n",
    "import seaborn as sns\n",
    "\n",
    "import plotly.express as px\n",
    "import plotly.graph_objects as go\n",
    "from plotly.subplots import make_subplots\n",
    "import plotly.io as pio\n",
    "template: str = 'plotly_dark' # set plotl template\n",
    "pio.templates.default = template\n",
    "from pyphocorehelpers.plotting.media_output_helpers import fig_to_clipboard\n",
    "from pyphocorehelpers.Filesystem.path_helpers import file_uri_from_path, sanitize_filename_for_Windows\n",
    "from pyphocorehelpers.gui.Jupyter.simple_widgets import fullwidth_path_widget, simple_path_display_widget\n",
    "from pyphoplacecellanalysis.Pho2D.plotly.Extensions.plotly_helpers import plotly_helper_save_figures, _helper_build_figure, plotly_pre_post_delta_scatter, plot_across_sessions_scatter_results\n",
    "from pyphocorehelpers.assertion_helpers import Assert\n",
    "\n",
    "# from ..PendingNotebookCode import plot_across_sessions_scatter_results, plot_histograms, plot_stacked_histograms\n",
    "from pyphocorehelpers.Filesystem.path_helpers import find_first_extant_path\n",
    "from pyphoplacecellanalysis.SpecificResults.AcrossSessionResults import find_csv_files, find_HDF5_files, find_most_recent_files\n",
    "from pyphoplacecellanalysis.Pho2D.statistics_plotting_helpers import plot_histograms_across_sessions, plot_histograms, plot_stacked_histograms\n",
    "\n",
    "from pyphoplacecellanalysis.General.Pipeline.Stages.ComputationFunctions.MultiContextComputationFunctions.DirectionalPlacefieldGlobalComputationFunctions import DecoderDecodedEpochsResult\n",
    "from pyphoplacecellanalysis.SpecificResults.AcrossSessionResults import load_across_sessions_exported_files, _process_and_load_exported_file, _common_cleanup_operations\n",
    "\n",
    "from pyphocorehelpers.programming_helpers import metadata_attributes\n",
    "from pyphocorehelpers.function_helpers import function_attributes\n",
    "\n",
    "from pyphoplacecellanalysis.SpecificResults.AcrossSessionResults import AcrossSessionHelpers, build_session_t_delta, _new_process_csv_files\n",
    "from pyphoplacecellanalysis.SpecificResults.PhoDiba2023Paper import DataFrameFilter\n",
    "from pyphocorehelpers.plotting.media_output_helpers import figure_to_pil_image, vertical_image_stack, horizontal_image_stack, image_grid\n",
    "\n",
    "debug_print: bool = False\n",
    "enable_neptune: bool = False\n",
    "\n",
    "_TODAY_DAY_ONLY_DATE: str = \"2024-11-21\"\n",
    "# TODAY_DAY_DATE: str = f\"{_TODAY_DAY_ONLY_DATE}_Apogee\"\n",
    "# TODAY_DAY_DATE: str = f\"{_TODAY_DAY_ONLY_DATE}_GL\"\n",
    "TODAY_DAY_DATE: str = f\"{_TODAY_DAY_ONLY_DATE}_Lab\"\n",
    "# TODAY_DAY_DATE: str = f\"{_TODAY_DAY_ONLY_DATE}_rMBP\"\n",
    "\n",
    "print(f'TODAY_DAY_DATE: {TODAY_DAY_DATE}')\n",
    "\n",
    "types.session_str: TypeAlias = str # a unique session identifier\n",
    "\n",
    "if enable_neptune:\n",
    "    import neptune # for logging progress and results\n",
    "    from neptune.types import File\n",
    "    from pyphoplacecellanalysis.General.Batch.NeptuneAiHelpers import Neptuner, AutoValueConvertingNeptuneRun, set_environment_variables \n",
    "\n",
    "    ## Gets the notebook filepath for Neptune:\n",
    "    import IPython\n",
    "    from pyphocorehelpers.programming_helpers import IPythonHelpers\n",
    "    notebook_filepath: str = IPythonHelpers.try_find_notebook_filepath(IPython.extract_module_locals())\n",
    "    assert Path(notebook_filepath).resolve().exists(), f\"found notebook filepath: '{notebook_filepath}' does not exist\"\n",
    "    # notebook_filepath\n",
    "\n",
    "    neptune_kwargs = {'project':\"commander.pho/PhoDibaLongShortAcrossSessions\",\n",
    "    'api_token':\"eyJhcGlfYWRkcmVzcyI6Imh0dHBzOi8vYXBwLm5lcHR1bmUuYWkiLCJhcGlfdXJsIjoiaHR0cHM6Ly9hcHAubmVwdHVuZS5haSIsImFwaV9rZXkiOiIxOGIxODU2My1lZTNhLTQ2ZWMtOTkzNS02ZTRmNzM5YmNjNjIifQ==\"}\n",
    "            \n",
    "    neptuner = Neptuner(project_name=neptune_kwargs['project'], api_token=neptune_kwargs['api_token'])\n",
    "\n",
    "\n",
    "    if neptuner.run is None:\n",
    "        neptuner.run = AutoValueConvertingNeptuneRun(project=neptuner.project_name, api_token=neptuner.api_token, dependencies=\"infer\", source_files=[notebook_filepath])\n",
    "        params = {\"TODAY_DAY_DATE\": TODAY_DAY_DATE, \"run_workstation\": \"Apogee\"}\n",
    "        neptuner.run[\"parameters\"] = params\n",
    "        neptuner.outputs = neptuner.run['outputs']\n",
    "        neptuner.figures = neptuner.outputs['figures']\n",
    "\n",
    "    neptuner_run: AutoValueConvertingNeptuneRun = neptuner.run\n",
    "    \n",
    "    # run = neptune.init_run(source_files=[\"**/*.dvc\"])\n",
    "\n",
    "    # # Pre-execution dataframe view:\n",
    "    # run[\"dataset/global_batch_run_progress_df\"].upload(File.as_html(global_batch_run.to_dataframe(expand_context=True, good_only=False))) # \"path/to/test_preds.csv\"\n",
    "\n",
    "else:\n",
    "    # no neptune:\n",
    "    neptuner = None    \n",
    "    neptuner_run = None\n",
    "\n",
    "\n",
    "\n",
    "known_bad_sessions: List[IdentifyingContext] = UserAnnotationsManager.get_hardcoded_bad_sessions()\n",
    "# bad_session_df: pd.DataFrame = pd.DataFrame.from_records([v.to_dict() for v in known_bad_sessions], columns=['format_name', 'animal', 'exper_name', 'session_name'])\n",
    "# bad_session_df\n",
    "\n",
    "known_bad_session_strs = [str(v.get_description()) for v in known_bad_sessions]\n",
    "# known_bad_session_strs"
   ]
  },
  {
   "cell_type": "markdown",
   "metadata": {},
   "source": [
    "# Graphics Imports"
   ]
  },
  {
   "cell_type": "code",
   "execution_count": 2,
   "metadata": {
    "tags": [
     "run-group-startup",
     "run_main"
    ]
   },
   "outputs": [],
   "source": [
    "import matplotlib\n",
    "from neuropy.core.user_annotations import UserAnnotationsManager\n",
    "from pyphocorehelpers.DataStructure.RenderPlots.MatplotLibRenderPlots import MatplotlibRenderPlots\n",
    "from neuropy.utils.matplotlib_helpers import matplotlib_configuration_update\n",
    "# matplotlib.use('Qt5Agg')\n",
    "from pyphoplacecellanalysis.SpecificResults.AcrossSessionResults import AcrossSessionsResults, AcrossSessionTables, AcrossSessionsVisualizations\n",
    "from pyphoplacecellanalysis.SpecificResults.PhoDiba2023Paper import PaperFigureTwo\n",
    "\n",
    "def _save_matplotlib_fig(matplotlib_output_container: MatplotlibRenderPlots):\n",
    "    \"\"\" captures: neptuner_run\n",
    "    \n",
    "    \"\"\"\n",
    "    a_fig_context = matplotlib_output_container.context\n",
    "    assert len(matplotlib_output_container.saved_figures) == 1\n",
    "    a_saved_fig_path = matplotlib_output_container.saved_figures[0][0]\n",
    "    assert a_saved_fig_path.exists()\n",
    "\n",
    "    if neptuner_run is not None:\n",
    "        a_full_figure_path_key: str = a_fig_context.get_description(separator='/', include_property_names=True, key_value_separator=':') # .replace(' ', '_')\n",
    "        # a_full_figure_path_key: str = a_fig_context.get_description(separator=':', include_property_names=True, key_value_separator='|')\n",
    "        print(f'a_full_figure_path_key: \"{a_full_figure_path_key}\"')\n",
    "        # neptuner_run['outputs']['figures'][f\"{a_full_figure_path_key}\"].upload(a_fig)\n",
    "        neptuner_run['outputs']['figures'][f\"{a_full_figure_path_key}\"].upload(a_saved_fig_path.as_posix())\n",
    "        # neptuner.figures[f\"{a_full_figure_path_key}\"].upload(a_fig)\n",
    "        \n",
    "\n",
    "# %matplotlib inline\n",
    "\n",
    "\n",
    "# with matplotlib_configuration_update(is_interactive=False, backend='nbAgg'):\n",
    "# 'collected_outputs/across_session_result_long_short_recomputed_inst_firing_rate_2024-06-11_GL.pkl'"
   ]
  },
  {
   "cell_type": "code",
   "execution_count": 3,
   "metadata": {
    "tags": [
     "run-group-startup",
     "run_main"
    ]
   },
   "outputs": [],
   "source": [
    "import plotly.io as pio\n",
    "import plotly.graph_objects as go\n",
    "from pyphoplacecellanalysis.Pho2D.plotly.plotly_templates import PlotlyHelpers\n",
    "from pyphoplacecellanalysis.Pho2D.statistics_plotting_helpers import plot_histograms_across_sessions, plot_stacked_histograms\n",
    "from pyphoplacecellanalysis.Pho2D.plotly.Extensions.plotly_helpers import plotly_helper_save_figures, _helper_build_figure, plotly_pre_post_delta_scatter, plot_across_sessions_scatter_results, add_copy_save_action_buttons\n",
    "\n",
    "# fig_size_kwargs = {'width': 1650, 'height': 480}\n",
    "resolution_multiplier = 1\n",
    "# fig_size_kwargs = {'width': resolution_multiplier*1650, 'height': resolution_multiplier*480}\n",
    " ## set up figure size\n",
    "fig_size_kwargs = {'width': (resolution_multiplier * 1800), 'height': (resolution_multiplier*480)}\n",
    "# fig_size_kwargs = {'width': (resolution_multiplier * 1080), 'height': resolution_multiplier*480}\n",
    "is_dark_mode, template = PlotlyHelpers.get_plotly_template(is_dark_mode=False)\n",
    "pio.templates.default = template\n",
    "\n",
    "# figure_export_path = Path(r'E:\\Dropbox (Personal)\\Active\\Kamran Diba Lab\\Presentations\\2024-05-30 - Pho iNAV Poster\\Figures').resolve()\n",
    "# figure_export_path = Path('/Users/pho/Dropbox (Personal)/Active/Kamran Diba Lab/Presentations/2024-05-30 - Pho iNAV Poster/Figures').resolve()\n",
    "\n",
    "# assert figure_export_path.exists()\n",
    "\n",
    "from PIL import Image\n",
    "\n",
    "from pyphocorehelpers.programming_helpers import copy_image_to_clipboard\n",
    "\n",
    "def save_plotly(a_fig, a_fig_context):\n",
    "    \"\"\" \n",
    "    captures: TODAY_DAY_DATE, figures_folder, neptuner_run\n",
    "    \"\"\"\n",
    "    fig_save_path: Path = figures_folder.joinpath('_'.join([TODAY_DAY_DATE, sanitize_filename_for_Windows(a_fig_context.get_description())])).resolve()\n",
    "    figure_out_paths = {'.html': fig_save_path.with_suffix('.html'), '.png': fig_save_path.with_suffix('.png')}\n",
    "    a_fig.write_html(figure_out_paths['.html'])\n",
    "    display(fullwidth_path_widget(figure_out_paths['.html'], file_name_label='.html'))\n",
    "    # print(file_uri_from_path(figure_out_paths['.html']))\n",
    "    a_fig.write_image(figure_out_paths['.png'])\n",
    "    # print(file_uri_from_path(figure_out_paths['.png']))\n",
    "    display(fullwidth_path_widget(figure_out_paths['.png'], file_name_label='.png'))\n",
    "\n",
    "    if neptuner_run is not None:\n",
    "        a_full_figure_path_key: str = a_fig_context.get_description(separator='/', include_property_names=True, key_value_separator=':') # .replace(' ', '_')\n",
    "        # a_full_figure_path_key: str = a_fig_context.get_description(separator=':', include_property_names=True, key_value_separator='|')\n",
    "        print(f'a_full_figure_path_key: \"{a_full_figure_path_key}\"')\n",
    "        # neptuner_run['outputs']['figures'][f\"{a_full_figure_path_key}\"].upload(a_fig)\n",
    "        neptuner_run['outputs']['figures'][f\"{a_full_figure_path_key}\"].upload(figure_out_paths['.html'].as_posix())\n",
    "        # neptuner.figures[f\"{a_full_figure_path_key}\"].upload(a_fig)\n",
    "        \n",
    "    return figure_out_paths\n"
   ]
  },
  {
   "cell_type": "markdown",
   "metadata": {},
   "source": [
    "# csv_files"
   ]
  },
  {
   "cell_type": "code",
   "execution_count": 4,
   "metadata": {
    "notebookRunGroups": {
     "groupValue": "1"
    },
    "tags": [
     "remove-cell",
     "run_main",
     "run-group-startup"
    ]
   },
   "outputs": [],
   "source": [
    "## Load across session t_delta CSV, which contains the t_delta for each session:\n",
    "\n",
    "## INPUTS: known_bad_session_strs,\n",
    "\n",
    "# cuttoff_date = datetime(2024, 9, 26)\n",
    "# cuttoff_date = datetime(2024, 10, 28)\n",
    "cuttoff_date = datetime(2024, 11, 10)\n",
    "# cuttoff_date = datetime(2024, 5, 18)\n",
    "# cuttoff_date = None\n"
   ]
  },
  {
   "cell_type": "code",
   "execution_count": 5,
   "metadata": {
    "tags": [
     "run-group-startup",
     "run_main"
    ]
   },
   "outputs": [
    {
     "name": "stdout",
     "output_type": "stream",
     "text": [
      "collected_outputs_directory: /home/halechr/FastData/collected_outputs\n",
      "\tfigures_folder: file:///home/halechr/FastData/collected_outputs/figures\n",
      "\tacross_sessions_output_folder: file:///home/halechr/FastData/across_sessions\n"
     ]
    }
   ],
   "source": [
    "\n",
    "known_collected_outputs_paths = [Path(v).resolve() for v in ['/Users/pho/data/collected_outputs',\n",
    "                                                            '/Volumes/SwapSSD/Data/collected_outputs', r\"K:/scratch/collected_outputs\", '/Users/pho/Dropbox (University of Michigan)/MED-DibaLabDropbox/Data/Pho/Outputs/output/collected_outputs', r'C:/Users/pho/repos/Spike3DWorkEnv/Spike3D/output/collected_outputs',\n",
    "                                                            '/home/halechr/cloud/turbo/Data/Output/collected_outputs',\n",
    "                                                            '/home/halechr/cloud/turbo/Pho/Output/collected_outputs',\n",
    "                                                            '/home/halechr/FastData/collected_outputs/',\n",
    "                                                            ]]\n",
    "collected_outputs_directory = find_first_extant_path(known_collected_outputs_paths)\n",
    "assert collected_outputs_directory.exists(), f\"collected_outputs_directory: {collected_outputs_directory} does not exist! Is the right computer's config commented out above?\"\n",
    "# fullwidth_path_widget(scripts_output_path, file_name_label='Scripts Output Path:')\n",
    "print(f'collected_outputs_directory: {collected_outputs_directory}')\n",
    "\n",
    "\n",
    "# _active_folder_widget = fullwidth_path_widget(collected_outputs_directory)\n",
    "# display(_active_folder_widget)\n",
    "\n",
    "# Create a 'figures' subfolder if it doesn't exist\n",
    "figures_folder: Path = collected_outputs_directory.joinpath('figures').resolve()\n",
    "figures_folder.mkdir(parents=False, exist_ok=True)\n",
    "assert figures_folder.exists()\n",
    "print(f'\\tfigures_folder: {file_uri_from_path(figures_folder)}')\n",
    "\n",
    "# Create an output path for the across session collected results (like the aggregate CSVs built from the individual session CSVs)\n",
    "across_sessions_output_folder: Path = collected_outputs_directory.joinpath('../across_sessions').resolve()\n",
    "across_sessions_output_folder.mkdir(parents=False, exist_ok=True)\n",
    "assert across_sessions_output_folder.exists()\n",
    "print(f'\\tacross_sessions_output_folder: {file_uri_from_path(across_sessions_output_folder)}')\n",
    "\n",
    "\n",
    "# ## Find the files:\n",
    "# csv_files = find_csv_files(collected_outputs_directory)\n",
    "# h5_files = find_HDF5_files(collected_outputs_directory)\n",
    "\n",
    "# csv_sessions, parsed_csv_files_df  = find_most_recent_files(found_session_export_paths=csv_files, cuttoff_date=cuttoff_date) # #TODO 2024-09-27 02:01: - [ ] Note `csv_sessions` is unused, replaced by `parsed_csv_files_df`\n",
    "# h5_sessions, parsed_h5_files_df = find_most_recent_files(found_session_export_paths=h5_files)\n"
   ]
  },
  {
   "cell_type": "code",
   "execution_count": 6,
   "metadata": {
    "tags": [
     "run-group-startup",
     "run_main"
    ]
   },
   "outputs": [
    {
     "name": "stdout",
     "output_type": "stream",
     "text": [
      "collected_outputs_directory: /home/halechr/FastData/collected_outputs\n",
      "earliest_delta_aligned_t_start: -2057.2259484970764, latest_delta_aligned_t_end: 1661.8560019930592\n",
      "for file \"2024-11-15_GL-kdiba-gor01-two-2006-6-07_16-40-19__withNormalComputedReplays-frateThresh_5.0-qclu_[1, 2, 4, 6, 7, 9]-(merged_complete_epoch_stats_df)\" using more modern parse method...\n",
      "for file \"2024-11-15_GL-kdiba-gor01-two-2006-6-07_16-40-19__withNormalComputedReplays-frateThresh_5.0-qclu_[1, 2, 4, 6, 7, 9]-(merged_complete_epoch_stats_df)\" using more modern parse method...\n",
      "ERR: Could not parse filename: \"session_h5_files_copydict_2024-09-05_Lab\"\n",
      "ERR: Could not parse filename: \"session_h5_files_copydict_2024-09-11_GL\"\n",
      "ERR: Could not parse filename: \"session_h5_files_copydict_2024-10-24_GL\"\n",
      "for file \"2024-11-15_GL-kdiba-gor01-one-2006-6-08_14-26-15__withNormalComputedReplays-frateThresh_5.0-qclu_[1, 2, 4, 6, 7, 9]-(merged_complete_epoch_stats_df)\" using more modern parse method...\n",
      "for file \"2024-11-15_GL-kdiba-gor01-one-2006-6-08_14-26-15__withNormalComputedReplays-frateThresh_5.0-qclu_[1, 2, 4, 6, 7, 9]-(merged_complete_epoch_stats_df)\" using more modern parse method...\n",
      "for file \"2024-11-15_Lab-kdiba-gor01-one-2006-6-09_1-22-43__withNormalComputedReplays-frateThresh_5.0-qclu_[1, 2, 4, 6, 7, 9]-(merged_complete_epoch_stats_df)\" using more modern parse method...\n",
      "for file \"2024-11-15_Lab-kdiba-gor01-one-2006-6-09_1-22-43__withNormalComputedReplays-frateThresh_5.0-qclu_[1, 2, 4, 6, 7, 9]-(merged_complete_epoch_stats_df)\" using more modern parse method...\n",
      "for file \"2024-11-15_GL-kdiba-pin01-one-11-03_12-3-25__withNormalComputedReplays-frateThresh_5.0-qclu_[1, 2, 4, 6, 7, 9]-(merged_complete_epoch_stats_df)\" using more modern parse method...\n",
      "for file \"2024-11-15_GL-kdiba-pin01-one-11-03_12-3-25__withNormalComputedReplays-frateThresh_5.0-qclu_[1, 2, 4, 6, 7, 9]-(merged_complete_epoch_stats_df)\" using more modern parse method...\n",
      "ERR: Could not parse filename: \"session_h5_files_copydict_2024-10-22_GL\"\n",
      "for file \"2024-11-15_GL-kdiba-vvp01-one-2006-4-10_12-25-50__withNormalComputedReplays-frateThresh_5.0-qclu_[1, 2, 4, 6, 7, 9]-(merged_complete_epoch_stats_df)\" using more modern parse method...\n",
      "for file \"2024-11-15_GL-kdiba-vvp01-one-2006-4-10_12-25-50__withNormalComputedReplays-frateThresh_5.0-qclu_[1, 2, 4, 6, 7, 9]-(merged_complete_epoch_stats_df)\" using more modern parse method...\n",
      "for file \"2024-11-15_GL-kdiba-gor01-two-2006-6-12_16-53-46__withNormalComputedReplays-frateThresh_5.0-qclu_[1, 2, 4, 6, 7, 9]-(merged_complete_epoch_stats_df)\" using more modern parse method...\n",
      "for file \"2024-11-15_GL-kdiba-gor01-two-2006-6-12_16-53-46__withNormalComputedReplays-frateThresh_5.0-qclu_[1, 2, 4, 6, 7, 9]-(merged_complete_epoch_stats_df)\" using more modern parse method...\n",
      "ERR: Could not parse filename: \"session_h5_files_copydict_2024-10-31_GL\"\n",
      "for file \"2024-11-15_GL-kdiba-gor01-one-2006-6-09_1-22-43__withNormalComputedReplays-frateThresh_5.0-qclu_[1, 2, 4, 6, 7, 9]-(merged_complete_epoch_stats_df)\" using more modern parse method...\n",
      "for file \"2024-11-15_GL-kdiba-gor01-one-2006-6-09_1-22-43__withNormalComputedReplays-frateThresh_5.0-qclu_[1, 2, 4, 6, 7, 9]-(merged_complete_epoch_stats_df)\" using more modern parse method...\n",
      "ERR: Could not parse filename: \"session_h5_files_copydict_2024-11-07_GL\"\n",
      "ERR: Could not parse filename: \"session_h5_files_copydict_2024-10-28_GL_allQClus\"\n",
      "for file \"2024-11-15_GL-kdiba-gor01-one-2006-6-12_15-55-31__withNormalComputedReplays-frateThresh_5.0-qclu_[1, 2, 4, 6, 7, 9]-(merged_complete_epoch_stats_df)\" using more modern parse method...\n",
      "for file \"2024-11-15_GL-kdiba-gor01-one-2006-6-12_15-55-31__withNormalComputedReplays-frateThresh_5.0-qclu_[1, 2, 4, 6, 7, 9]-(merged_complete_epoch_stats_df)\" using more modern parse method...\n",
      "for file \"2024-11-15_GL-kdiba-vvp01-two-2006-4-10_12-58-3__withNormalComputedReplays-frateThresh_5.0-qclu_[1, 2, 4, 6, 7, 9]-(merged_complete_epoch_stats_df)\" using more modern parse method...\n",
      "for file \"2024-11-15_GL-kdiba-vvp01-two-2006-4-10_12-58-3__withNormalComputedReplays-frateThresh_5.0-qclu_[1, 2, 4, 6, 7, 9]-(merged_complete_epoch_stats_df)\" using more modern parse method...\n",
      "ERR: Could not parse filename: \"session_h5_files_copydict_2024-09-02_GL\"\n",
      "for file \"2024-11-15_GL-kdiba-vvp01-two-2006-4-09_16-40-54__withNormalComputedReplays-frateThresh_5.0-qclu_[1, 2, 4, 6, 7, 9]-(merged_complete_epoch_stats_df)\" using more modern parse method...\n",
      "for file \"2024-11-15_GL-kdiba-vvp01-two-2006-4-09_16-40-54__withNormalComputedReplays-frateThresh_5.0-qclu_[1, 2, 4, 6, 7, 9]-(merged_complete_epoch_stats_df)\" using more modern parse method...\n",
      "ERR: Could not parse filename: \"session_h5_files_copydict_2024-10-28_GL\"\n",
      "ERR: Could not parse filename: \"session_h5_files_copydict_2024-09-10_GL\"\n",
      "ERR: Could not parse filename: \"session_h5_files_copydict_2024-09-12_GL\"\n",
      "for file \"2024-11-15_GL-kdiba-pin01-one-fet11-01_12-58-54__withNormalComputedReplays-frateThresh_5.0-qclu_[1, 2, 4, 6, 7, 9]-(merged_complete_epoch_stats_df)\" using more modern parse method...\n",
      "for file \"2024-11-15_GL-kdiba-pin01-one-fet11-01_12-58-54__withNormalComputedReplays-frateThresh_5.0-qclu_[1, 2, 4, 6, 7, 9]-(merged_complete_epoch_stats_df)\" using more modern parse method...\n",
      "ERR: Could not parse filename: \"kdiba-gor01-two-2006-6-07_16-40-19__withNormalComputedReplays-frateThresh_5.0-qclu_[1, 2, 4, 6, 7, 9]_first_spike_activity_data\"\n",
      "ERR: Could not parse filename: \"kdiba-vvp01-two-2006-4-09_16-40-54__withNormalComputedReplays-frateThresh_5.0-qclu_[1, 2, 4, 6, 7, 9]_first_spike_activity_data\"\n",
      "ERR: Could not parse filename: \"kdiba-gor01-one-2006-6-08_14-26-15__withNormalComputedReplays-frateThresh_5.0-qclu_[1, 2, 4, 6, 7, 9]_first_spike_activity_data\"\n",
      "ERR: Could not parse filename: \"kdiba-gor01-two-2006-6-12_16-53-46__withNormalComputedReplays-frateThresh_5.0-qclu_[1, 2, 4, 6, 7, 9]_first_spike_activity_data\"\n",
      "ERR: Could not parse filename: \"kdiba-gor01-two-2006-6-07_16-40-19__withNormalComputedReplays-frateThresh_5.0-qclu_[1, 2]_first_spike_activity_data\"\n",
      "ERR: Could not parse filename: \"kdiba-pin01-one-fet11-01_12-58-54__withNormalComputedReplays-frateThresh_5.0-qclu_[1, 2, 4, 6, 7, 9]_first_spike_activity_data\"\n",
      "ERR: Could not parse filename: \"kdiba-gor01-one-2006-6-12_15-55-31__withNormalComputedReplays-frateThresh_5.0-qclu_[1, 2, 4, 6, 7, 9]_first_spike_activity_data\"\n",
      "ERR: Could not parse filename: \"kdiba-gor01-one-2006-6-09_1-22-43__withNormalComputedReplays-frateThresh_5.0-qclu_[1, 2, 4, 6, 7, 9]_first_spike_activity_data\"\n",
      "ERR: Could not parse filename: \"kdiba-vvp01-one-2006-4-10_12-25-50__withNormalComputedReplays-frateThresh_5.0-qclu_[1, 2, 4, 6, 7, 9]_first_spike_activity_data\"\n",
      "ERR: Could not parse filename: \"kdiba-pin01-one-11-03_12-3-25__withNormalComputedReplays-frateThresh_5.0-qclu_[1, 2, 4, 6, 7, 9]_first_spike_activity_data\"\n",
      "ERR: Could not parse filename: \"kdiba-vvp01-two-2006-4-10_12-58-3__withNormalComputedReplays-frateThresh_5.0-qclu_[1, 2, 4, 6, 7, 9]_first_spike_activity_data\"\n",
      "WARN: File type \"neuron_replay_stats_df\" for filename \"2024-11-19_GL-11-03_12-3-25_neuron_replay_stats_df.csv\" not implemented.\n",
      "WARN: File type \"neuron_replay_stats_df\" for filename \"2024-11-19_GL-2006-4-09_16-40-54_neuron_replay_stats_df.csv\" not implemented.\n",
      "WARN: File type \"neuron_replay_stats_df\" for filename \"2024-11-19_GL-2006-4-10_12-25-50_neuron_replay_stats_df.csv\" not implemented.\n",
      "WARN: File type \"neuron_replay_stats_df\" for filename \"2024-11-19_GL-2006-4-10_12-58-3_neuron_replay_stats_df.csv\" not implemented.\n",
      "WARN: File type \"neuron_replay_stats_df\" for filename \"2024-11-19_GL-2006-6-07_16-40-19_neuron_replay_stats_df.csv\" not implemented.\n",
      "WARN: File type \"neuron_replay_stats_df\" for filename \"2024-11-19_GL-2006-6-08_14-26-15_neuron_replay_stats_df.csv\" not implemented.\n",
      "WARN: File type \"neuron_replay_stats_df\" for filename \"2024-11-19_GL-2006-6-09_1-22-43_neuron_replay_stats_df.csv\" not implemented.\n",
      "WARN: File type \"neuron_replay_stats_df\" for filename \"2024-11-19_GL-2006-6-12_15-55-31_neuron_replay_stats_df.csv\" not implemented.\n",
      "WARN: File type \"neuron_replay_stats_df\" for filename \"2024-11-19_GL-2006-6-12_16-53-46_neuron_replay_stats_df.csv\" not implemented.\n",
      "WARN: File type \"neuron_replay_stats_df\" for filename \"2024-11-19_GL-fet11-01_12-58-54_neuron_replay_stats_df.csv\" not implemented.\n",
      "WARN: File type \"gor\" for filename \"2024-11-19_GL-kdiba_gor01_two_2006-6-12_16-53-46__withNormalComputedReplays-qclu_[1, 2, 4, 6, 7, 9]-frateThresh_5.0-(ripple_weighted_corr_merged_df)_tbin-0.025.csv\" not implemented.\n",
      "WARN: File type \"pin\" for filename \"2024-11-19_GL-kdiba_pin01_one_fet11-01_12-58-54__withNormalComputedReplays-qclu_[1, 2, 4, 6, 7, 9]-frateThresh_5.0-(ripple_weighted_corr_merged_df)_tbin-0.025.csv\" not implemented.\n",
      "WARN: File type \"vvp\" for filename \"2024-11-19_GL-kdiba_vvp01_two_2006-4-10_12-58-3__withNormalComputedReplays-qclu_[1, 2, 4, 6, 7, 9]-frateThresh_5.0-(ripple_weighted_corr_merged_df)_tbin-0.025.csv\" not implemented.\n",
      "failed to find proper 'is_user_annotated_epoch' and 'is_valid_epoch' columns for the epochs passed with error: Cannot mask with non-boolean array containing NA / NaN values. Skipping.\n",
      "WARNING: no `all_sessions_all_scores_df` to get \"is_valid_epoch\" and \"is_user_annotated_epoch\" from!\n",
      "\tSetting \"is_valid_epoch\" all to True and \"is_user_annotated_Epoch\" all to False.\n"
     ]
    }
   ],
   "source": [
    "from pyphoplacecellanalysis.SpecificResults.AcrossSessionResults import load_across_sessions_exported_files\n",
    "from pyphoplacecellanalysis.SpecificResults.AcrossSessionResults import AcrossSessionHelpers\n",
    "\n",
    "final_sessions, sessions_t_delta_tuple, df_results, (parsed_csv_files_df, csv_files, csv_sessions), (parsed_h5_files_df, h5_files, h5_sessions), excluded_or_outdated_files_list = load_across_sessions_exported_files(collected_outputs_directory=collected_outputs_directory, cuttoff_date=cuttoff_date, debug_print=True)\n",
    "all_sessions_laps_df, all_sessions_ripple_df, all_sessions_laps_time_bin_df, all_sessions_ripple_time_bin_df, all_sessions_MultiMeasure_laps_df, all_sessions_MultiMeasure_ripple_df, all_sessions_all_scores_ripple_df, all_sessions_merged_complete_epoch_stats_df, *final_sessions_loaded_extra_dfs_list = df_results\n",
    "# df_result_dfs_dict: Dict[str, pd.DataFrame] = {df.attrs.get('file_type', f'MISSING[{i}]'):df for i, df in enumerate(df_results)} ## use `df_results` as a dict, which is much better than how we currently unpack\n",
    "# final_sessions_loaded_extra_dfs_dict = {df.attrs.get('file_type', f'MISSING[{i}]'):df for i, df in enumerate(final_sessions_loaded_extra_dfs_list)}\n",
    "t_delta_df, t_delta_dict, (earliest_delta_aligned_t_start, latest_delta_aligned_t_end) = sessions_t_delta_tuple ## UNPACK\n",
    "assert PandasHelpers.require_columns(all_sessions_merged_complete_epoch_stats_df, required_columns=['Long_BestDir_quantile', 'Short_BestDir_quantile'], print_missing_columns=True)\n",
    "all_sessions_merged_complete_epoch_stats_df['best_overall_quantile'] = np.nanmax(all_sessions_merged_complete_epoch_stats_df[['Long_BestDir_quantile', 'Short_BestDir_quantile']], axis=1)\n",
    "assert PandasHelpers.require_columns(all_sessions_merged_complete_epoch_stats_df, required_columns=['Long_BestDir_quantile', 'Short_BestDir_quantile', 'best_overall_quantile'], print_missing_columns=True)\n",
    "all_sessions_merged_complete_epoch_stats_df = all_sessions_merged_complete_epoch_stats_df[all_sessions_merged_complete_epoch_stats_df['custom_replay_name'] != ''] # only non-blank values"
   ]
  },
  {
   "cell_type": "code",
   "execution_count": null,
   "metadata": {},
   "outputs": [],
   "source": [
    "all_sessions_merged_complete_epoch_stats_df"
   ]
  },
  {
   "cell_type": "code",
   "execution_count": 7,
   "metadata": {
    "tags": [
     "run_main",
     "run-filtered-main",
     "run-group-startup"
    ]
   },
   "outputs": [
    {
     "name": "stdout",
     "output_type": "stream",
     "text": [
      "num non-na 'best_overall_quantile' rows for `all_sessions_all_scores_ripple_df`: 5308\n",
      "num non-na 'best_overall_quantile' rows for `all_sessions_MultiMeasure_ripple_df`: 5495\n"
     ]
    }
   ],
   "source": [
    "## Adds the best_overall_quantile columns in to ['all_sessions_all_scores_ripple_df', 'all_sessions_MultiMeasure_ripple_df']\n",
    "\n",
    "## Differences in format of 'session_name' for the two dataframes:\n",
    "# all_sessions_all_scores_ripple_df['session_name']: 'kdiba_gor01_one_2006-6-08_14-26-15', ...\n",
    "# all_sessions_merged_complete_epoch_stats_df['session_name']: 'kdiba-gor01-one-2006-6-08_14-26-15', ...\n",
    "\n",
    "assert 'best_overall_quantile' in all_sessions_merged_complete_epoch_stats_df, f'all_sessions_merged_complete_epoch_stats_df is missing \"best_overall_quantile\"'\n",
    "\n",
    "all_sessions_all_scores_ripple_df = AcrossSessionHelpers._subfn_perform_add_merged_complete_epoch_stats_df(a_paired_main_ripple_df=deepcopy(all_sessions_all_scores_ripple_df), an_all_sessions_merged_complete_epoch_stats_df=deepcopy(all_sessions_merged_complete_epoch_stats_df),\n",
    "\t\t\t\t\t\t\t\t\t\t\t\t\t\t\t\t\t\t\t\t\t\t\t\t\t\t   comparison_must_match_column_names = ['custom_replay_name', 'session_name', 'start', 'stop'], comparison_must_match_non_temporal_column_names = ['custom_replay_name', 'session_name'], desired_transfer_col_names = ['Long_BestDir_quantile', 'Short_BestDir_quantile', 'best_overall_quantile'])\n",
    "all_sessions_MultiMeasure_ripple_df = AcrossSessionHelpers._subfn_perform_add_merged_complete_epoch_stats_df(a_paired_main_ripple_df=deepcopy(all_sessions_MultiMeasure_ripple_df), an_all_sessions_merged_complete_epoch_stats_df=deepcopy(all_sessions_merged_complete_epoch_stats_df),\n",
    "\t\t\t\t\t\t\t\t\t\t\t\t\t\t\t\t\t\t\t\t\t\t\t\t\t\t\t comparison_must_match_column_names = ['custom_replay_name', 'session_name', 'start', 'stop'], comparison_must_match_non_temporal_column_names = ['custom_replay_name', 'session_name'], desired_transfer_col_names = ['Long_BestDir_quantile', 'Short_BestDir_quantile', 'best_overall_quantile'])\n",
    "# all_sessions_ripple_df = AcrossSessionHelpers._subfn_perform_add_merged_complete_epoch_stats_df(a_paired_main_ripple_df=deepcopy(all_sessions_ripple_df), an_all_sessions_merged_complete_epoch_stats_df=deepcopy(all_sessions_merged_complete_epoch_stats_df))\n",
    "\n",
    "print(f\"num non-na 'best_overall_quantile' rows for `all_sessions_all_scores_ripple_df`: {all_sessions_all_scores_ripple_df['best_overall_quantile'].notna().sum()}\")\n",
    "print(f\"num non-na 'best_overall_quantile' rows for `all_sessions_MultiMeasure_ripple_df`: {all_sessions_MultiMeasure_ripple_df['best_overall_quantile'].notna().sum()}\")\n",
    "\n",
    "assert PandasHelpers.require_columns(all_sessions_all_scores_ripple_df, required_columns=['Long_BestDir_quantile', 'Short_BestDir_quantile', 'best_overall_quantile'], print_missing_columns=True)\n",
    "assert PandasHelpers.require_columns(all_sessions_MultiMeasure_ripple_df, required_columns=['Long_BestDir_quantile', 'Short_BestDir_quantile', 'best_overall_quantile'], print_missing_columns=True)\n",
    "\n",
    "## re-pack `df_results`\n",
    "df_results = all_sessions_laps_df, all_sessions_ripple_df, all_sessions_laps_time_bin_df, all_sessions_ripple_time_bin_df, all_sessions_MultiMeasure_laps_df, all_sessions_MultiMeasure_ripple_df, all_sessions_all_scores_ripple_df, all_sessions_merged_complete_epoch_stats_df, *final_sessions_loaded_extra_dfs_list\n",
    "df_result_dfs_dict: Dict[str, pd.DataFrame] = {df.attrs.get('file_type', f'MISSING[{i}]'):df for i, df in enumerate(df_results)} ## use `df_results` as a dict, which is much better than how we currently unpack\n",
    "final_sessions_loaded_extra_dfs_dict = {df.attrs.get('file_type', f'MISSING[{i}]'):df for i, df in enumerate(final_sessions_loaded_extra_dfs_list)}"
   ]
  },
  {
   "cell_type": "code",
   "execution_count": 8,
   "metadata": {
    "tags": [
     "run_main",
     "run-filtered-main",
     "run-group-startup"
    ]
   },
   "outputs": [
    {
     "name": "stderr",
     "output_type": "stream",
     "text": [
      "/tmp/ipykernel_14309/2660393155.py:13: RuntimeWarning: All-NaN axis encountered\n",
      "  ripple_WCorrShuffle_df['best_overall_wcorr_z'] = np.nanmax(np.abs(ripple_WCorrShuffle_df[['wcorr_z_long', 'wcorr_z_short']]), axis=1)\n"
     ]
    },
    {
     "name": "stdout",
     "output_type": "stream",
     "text": [
      "num non-na 'best_overall_wcorr_z' rows for `all_sessions_all_scores_ripple_df`: 2592\n",
      "num non-na 'best_overall_wcorr_z' rows for `all_sessions_MultiMeasure_ripple_df`: 2484\n"
     ]
    }
   ],
   "source": [
    "## Adds the WCorrShuffle columns in to ['all_sessions_all_scores_ripple_df', 'all_sessions_MultiMeasure_ripple_df']\n",
    "# df_result_dfs_dict\n",
    "ripple_WCorrShuffle_df = final_sessions_loaded_extra_dfs_dict['ripple_WCorrShuffle_df']\n",
    "\n",
    "assert PandasHelpers.require_columns(ripple_WCorrShuffle_df, required_columns=['wcorr_z_long', 'wcorr_z_short'], print_missing_columns=True)\n",
    "# ripple_WCorrShuffle_df['custom_replay_name'].unique()\n",
    "\n",
    "wcorr_shuffle_time_idx_column_names = ['custom_replay_name', 'session_name', 'start', 'stop', 'time_bin_size'] # , 'time_bin_size'\n",
    "wcorr_shuffle_relevent_column_names = ['wcorr_z_long', 'wcorr_z_short', 'best_overall_wcorr_z'] # , 'n_unique_aclus'\n",
    "comparison_must_match_non_temporal_column_names = ['custom_replay_name', 'session_name', 'time_bin_size']\n",
    "\n",
    "if 'best_overall_wcorr_z' not in ripple_WCorrShuffle_df.columns:\n",
    "    ripple_WCorrShuffle_df['best_overall_wcorr_z'] = np.nanmax(np.abs(ripple_WCorrShuffle_df[['wcorr_z_long', 'wcorr_z_short']]), axis=1)\n",
    "\n",
    "assert PandasHelpers.require_columns(ripple_WCorrShuffle_df, required_columns=wcorr_shuffle_relevent_column_names, print_missing_columns=True)\n",
    "\n",
    "all_sessions_all_scores_ripple_df = AcrossSessionHelpers._subfn_perform_add_merged_complete_epoch_stats_df(a_paired_main_ripple_df=deepcopy(all_sessions_all_scores_ripple_df), an_all_sessions_merged_complete_epoch_stats_df=deepcopy(ripple_WCorrShuffle_df),\n",
    "\t\t\t\t\t\t\t\t\t\t\t\t\t\t\t\t\t\t\t\t\t\t\t\t\t\t   comparison_must_match_column_names = wcorr_shuffle_time_idx_column_names, comparison_must_match_non_temporal_column_names=comparison_must_match_non_temporal_column_names, desired_transfer_col_names=wcorr_shuffle_relevent_column_names,\n",
    "\t\t\t\t\t\t\t\t\t\t\t\t\t\t\t\t\t\t\t\t\t\t\t\t\t\t   )\n",
    "\n",
    "all_sessions_MultiMeasure_ripple_df = AcrossSessionHelpers._subfn_perform_add_merged_complete_epoch_stats_df(a_paired_main_ripple_df=deepcopy(all_sessions_MultiMeasure_ripple_df), an_all_sessions_merged_complete_epoch_stats_df=deepcopy(ripple_WCorrShuffle_df),\n",
    "\t\t\t\t\t\t\t\t\t\t\t\t\t\t\t\t\t\t\t\t\t\t\t\t\t\t   comparison_must_match_column_names = wcorr_shuffle_time_idx_column_names, comparison_must_match_non_temporal_column_names=comparison_must_match_non_temporal_column_names, desired_transfer_col_names=wcorr_shuffle_relevent_column_names,\n",
    "\t\t\t\t\t\t\t\t\t\t\t\t\t\t\t\t\t\t\t\t\t\t\t\t\t\t   )\n",
    "\n",
    "\n",
    "# all_sessions_all_scores_ripple_df\n",
    "# all_sessions_MultiMeasure_ripple_df\n",
    "print(f\"num non-na 'best_overall_wcorr_z' rows for `all_sessions_all_scores_ripple_df`: {all_sessions_all_scores_ripple_df['best_overall_wcorr_z'].notna().sum()}\")\n",
    "print(f\"num non-na 'best_overall_wcorr_z' rows for `all_sessions_MultiMeasure_ripple_df`: {all_sessions_MultiMeasure_ripple_df['best_overall_wcorr_z'].notna().sum()}\")\n",
    "\n",
    "assert PandasHelpers.require_columns(all_sessions_all_scores_ripple_df, required_columns=wcorr_shuffle_relevent_column_names, print_missing_columns=True)\n",
    "assert PandasHelpers.require_columns(all_sessions_MultiMeasure_ripple_df, required_columns=wcorr_shuffle_relevent_column_names, print_missing_columns=True)\n",
    "\n",
    "## re-pack `df_results`\n",
    "df_results = all_sessions_laps_df, all_sessions_ripple_df, all_sessions_laps_time_bin_df, all_sessions_ripple_time_bin_df, all_sessions_MultiMeasure_laps_df, all_sessions_MultiMeasure_ripple_df, all_sessions_all_scores_ripple_df, all_sessions_merged_complete_epoch_stats_df, *final_sessions_loaded_extra_dfs_list\n",
    "df_result_dfs_dict: Dict[str, pd.DataFrame] = {df.attrs.get('file_type', f'MISSING[{i}]'):df for i, df in enumerate(df_results)} ## use `df_results` as a dict, which is much better than how we currently unpack\n",
    "final_sessions_loaded_extra_dfs_dict = {df.attrs.get('file_type', f'MISSING[{i}]'):df for i, df in enumerate(final_sessions_loaded_extra_dfs_list)}\n"
   ]
  },
  {
   "cell_type": "code",
   "execution_count": null,
   "metadata": {},
   "outputs": [],
   "source": [
    "# all_sessions_all_scores_ripple_df\n",
    "all_sessions_MultiMeasure_ripple_df"
   ]
  },
  {
   "cell_type": "code",
   "execution_count": null,
   "metadata": {},
   "outputs": [],
   "source": [
    "from pyphoplacecellanalysis.SpecificResults.AcrossSessionResults import AcrossSessionHelpers\n",
    "\n",
    "'result_t_bin_idx', 'epoch_df_idx', 'parent_epoch_label', 'label'\n",
    "\n",
    "# epoch_idx_col_name: str = 'epoch_idx'\n",
    "# epoch_idx_col_name: str = 'label' # for 'all_sessions_all_scores_ripple_df', doesn't quite work\n",
    "epoch_idx_col_name: str = 'ripple_idx' # for 'all_sessions_MultiMeasure_ripple_df',\n",
    "\n",
    "\n",
    "\n",
    "an_epoch_time_bin_df = deepcopy(all_sessions_ripple_time_bin_df)\n",
    "# a_paired_epoch_stats_df = deepcopy(all_sessions_ripple_df)\n",
    "# a_paired_epoch_stats_df = deepcopy(all_sessions_all_scores_ripple_df)\n",
    "a_paired_epoch_stats_df = deepcopy(all_sessions_MultiMeasure_ripple_df)\n",
    "\n",
    "\n",
    "\n",
    "\n",
    "an_epoch_time_bin_df.set_index(['session_name', 'custom_replay_name', 'time_bin_size'], drop=False)\n",
    "\n",
    "# all_sessions_ripple_time_bin_df = all_sessions_ripple_time_bin_df.groupby(['session_name', 'custom_replay_name', 'time_bin_size']).count().reset_index()[['session_name', 'custom_replay_name', 'time_bin_size']]\n",
    "\n",
    "\n",
    "# df.groupby(['session_name', 'custom_replay_name', 'time_bin_size']).count().reset_index()[['session_name', 'custom_replay_name', 'time_bin_size']].drop_duplicates()\n",
    "\n",
    "['epoch_df_idx', 'parent_epoch_label', 'result_t_bin_idx'] ## all seem the same... are they?\n",
    "\n",
    "# df.groupby(['session_name', 'custom_replay_name', 'time_bin_size']).count().reset_index()[['session_name', 'custom_replay_name', 'time_bin_size', 'parent_epoch_label']] #.drop_duplicates()\n",
    "# df.groupby(['session_name', 'custom_replay_name', 'time_bin_size']).count().reset_index()[['session_name', 'custom_replay_name', 'time_bin_size', 'epoch_df_idx']]\n",
    "\n",
    "time_bin_epoch_complete_identifier_uniques_df = an_epoch_time_bin_df.groupby(['session_name', 'custom_replay_name', 'time_bin_size', 'parent_epoch_label']).count().reset_index()[['session_name', 'custom_replay_name', 'time_bin_size', 'parent_epoch_label']].drop_duplicates()\n",
    "\n",
    "epoch_complete_identifier_uniques_df = a_paired_epoch_stats_df.groupby(['session_name', 'custom_replay_name', 'time_bin_size', epoch_idx_col_name]).count().reset_index()[['session_name', 'custom_replay_name', 'time_bin_size', epoch_idx_col_name]].drop_duplicates()\n",
    "assert len(time_bin_epoch_complete_identifier_uniques_df) == len(epoch_complete_identifier_uniques_df), f\"epoch_complete_identifier_uniques: {len(epoch_complete_identifier_uniques_df)}, time_bin_epoch_complete_identifier_uniques: {len(time_bin_epoch_complete_identifier_uniques_df)}\""
   ]
  },
  {
   "cell_type": "code",
   "execution_count": null,
   "metadata": {
    "tags": [
     "slow"
    ]
   },
   "outputs": [],
   "source": [
    "from pyphoplacecellanalysis.SpecificResults.AcrossSessionResults import AcrossSessionHelpers\n",
    "\n",
    "desired_transfer_col_names = ['Long_BestDir_quantile', 'Short_BestDir_quantile', 'best_overall_quantile', 'wcorr_z_long', 'wcorr_z_short', 'best_overall_wcorr_z']\n",
    "\n",
    "comparison_must_match_column_names = ['session_name', 'custom_replay_name', 'time_bin_size', epoch_idx_col_name]\n",
    "an_epoch_time_bin_df = AcrossSessionHelpers._subfn_perform_add_stats_to_time_bins_df(a_paired_epoch_stats_df=deepcopy(all_sessions_MultiMeasure_ripple_df), an_epoch_time_bin_df=deepcopy(all_sessions_ripple_time_bin_df),\n",
    "                                                                                        comparison_must_match_column_names = comparison_must_match_column_names, comparison_must_match_non_temporal_column_names = comparison_must_match_column_names,\n",
    "                                                                                         desired_transfer_col_names = desired_transfer_col_names)\n",
    "\n",
    "an_epoch_time_bin_df\n",
    "\n",
    "# all_sessions_ripple_time_bin_df = an_epoch_time_bin_df ## assign\n",
    "\n",
    "## SLOW - took 18m for ~240203 rows\n",
    "an_epoch_time_bin_df.to_csv(Path('C:/Users/pho/repos/Spike3DWorkEnv/Spike3D/EXTERNAL/PhoDibaPaper2024Book/data').joinpath(f'2024-11-20_full_merged_stats_properties_all_sessions_ripple_time_bin_df.csv'))\n",
    "\n",
    "# Assert.same_length(all_sessions_ripple_time_bin_df, an_epoch_time_bin_df)\n",
    "# an_epoch_time_bin_df\n",
    "all_sessions_ripple_time_bin_df = an_epoch_time_bin_df ## assign\n",
    "\n",
    "assert PandasHelpers.require_columns(all_sessions_ripple_time_bin_df, required_columns=desired_transfer_col_names, print_missing_columns=True)\n",
    "\n",
    "## re-pack `df_results`\n",
    "df_results = all_sessions_laps_df, all_sessions_ripple_df, all_sessions_laps_time_bin_df, all_sessions_ripple_time_bin_df, all_sessions_MultiMeasure_laps_df, all_sessions_MultiMeasure_ripple_df, all_sessions_all_scores_ripple_df, all_sessions_merged_complete_epoch_stats_df, *final_sessions_loaded_extra_dfs_list\n",
    "df_result_dfs_dict: Dict[str, pd.DataFrame] = {df.attrs.get('file_type', f'MISSING[{i}]'):df for i, df in enumerate(df_results)} ## use `df_results` as a dict, which is much better than how we currently unpack\n",
    "final_sessions_loaded_extra_dfs_dict = {df.attrs.get('file_type', f'MISSING[{i}]'):df for i, df in enumerate(final_sessions_loaded_extra_dfs_list)}\n",
    "\n",
    "# all_sessions_ripple_time_bin_df\n",
    "all_sessions_ripple_time_bin_df"
   ]
  },
  {
   "cell_type": "code",
   "execution_count": null,
   "metadata": {},
   "outputs": [],
   "source": []
  },
  {
   "cell_type": "code",
   "execution_count": null,
   "metadata": {},
   "outputs": [],
   "source": [
    "print(list(all_sessions_ripple_time_bin_df.columns))\n",
    "# 'result_t_bin_idx', 'epoch_df_idx', 'parent_epoch_label', 'label'\n",
    "['session_name', 'time_bin_size', 'custom_replay_name']"
   ]
  },
  {
   "cell_type": "code",
   "execution_count": null,
   "metadata": {},
   "outputs": [],
   "source": [
    "all_sessions_all_scores_ripple_df"
   ]
  },
  {
   "cell_type": "code",
   "execution_count": null,
   "metadata": {},
   "outputs": [],
   "source": [
    "parsed_csv_files_df[parsed_csv_files_df['file_type'] == 'ripple_WCorrShuffle_df']\n"
   ]
  },
  {
   "cell_type": "code",
   "execution_count": null,
   "metadata": {},
   "outputs": [],
   "source": [
    "all_sessions_all_scores_ripple_df['custom_replay_name'].unique()"
   ]
  },
  {
   "cell_type": "code",
   "execution_count": null,
   "metadata": {},
   "outputs": [],
   "source": [
    "assert 'best_overall_quantile' in all_sessions_all_scores_ripple_df\n",
    "\n",
    "['best_overall_quantile']\n",
    "all_sessions_all_scores_ripple_df['best_overall_quantile']"
   ]
  },
  {
   "cell_type": "code",
   "execution_count": null,
   "metadata": {},
   "outputs": [],
   "source": [
    "\"2024-11-15_GL-kdiba-gor01-one-2006-6-08_14-26-15__withNormalComputedReplays-frateThresh_5.0-qclu_[1, 2, 4, 6, 7, 9]-(merged_complete_epoch_stats_df).csv\"\n",
    "excluded_or_outdated_files_list"
   ]
  },
  {
   "cell_type": "code",
   "execution_count": null,
   "metadata": {},
   "outputs": [],
   "source": [
    "parsed_csv_files_df"
   ]
  },
  {
   "cell_type": "code",
   "execution_count": null,
   "metadata": {},
   "outputs": [],
   "source": [
    "all_sessions_merged_complete_epoch_stats_relevant_df # 'Long_BestDir_quantile', 'Short_BestDir_quantile'"
   ]
  },
  {
   "cell_type": "code",
   "execution_count": null,
   "metadata": {},
   "outputs": [],
   "source": [
    "all_sessions_all_scores_ripple_df['custom_replay_name'].unique()"
   ]
  },
  {
   "cell_type": "code",
   "execution_count": null,
   "metadata": {},
   "outputs": [],
   "source": [
    "parsed_h5_files_df"
   ]
  },
  {
   "cell_type": "code",
   "execution_count": null,
   "metadata": {},
   "outputs": [],
   "source": [
    "# INPUTS: sessions_t_delta_tuple\n",
    "t_delta_df, t_delta_dict, (earliest_delta_aligned_t_start, latest_delta_aligned_t_end) = sessions_t_delta_tuple ## UNPACK\n",
    "t_delta_dict"
   ]
  },
  {
   "cell_type": "code",
   "execution_count": null,
   "metadata": {},
   "outputs": [],
   "source": [
    "all_sessions_all_scores_ripple_df"
   ]
  },
  {
   "cell_type": "code",
   "execution_count": null,
   "metadata": {},
   "outputs": [],
   "source": [
    "all_sessions_MultiMeasure_ripple_df"
   ]
  },
  {
   "cell_type": "code",
   "execution_count": null,
   "metadata": {},
   "outputs": [],
   "source": [
    "parsed_csv_files_df"
   ]
  },
  {
   "cell_type": "code",
   "execution_count": null,
   "metadata": {},
   "outputs": [],
   "source": [
    "parsed_csv_files_df['custom_replay_name'].unique()"
   ]
  },
  {
   "cell_type": "code",
   "execution_count": null,
   "metadata": {},
   "outputs": [],
   "source": [
    "# all_sessions_MultiMeasure_laps_df\n",
    "all_columns = list(all_sessions_all_scores_ripple_df.columns)\n",
    "# all_columns\n",
    "bad_columns = [v for v in all_columns if ('.1' in v)]\n",
    "bad_columns # ['P_Long.1', 'P_Short.1', 'P_LR.1', 'P_RL.1']\n",
    "\n",
    "equiv_columns = [v.strip('.1') for v in bad_columns]\n",
    "equiv_columns # ['P_Long', 'P_Short', 'P_LR', 'P_RL']\n",
    "\n",
    "equiv_values = all_sessions_all_scores_ripple_df[equiv_columns]\n",
    "bad_values = all_sessions_all_scores_ripple_df[bad_columns]\n",
    "\n",
    "equiv_values\n",
    "bad_values\n",
    "does_row_have_bad_entry = np.any(np.isclose(equiv_values.to_numpy(), bad_values.to_numpy()), axis=1)\n",
    "does_row_have_bad_entry"
   ]
  },
  {
   "cell_type": "markdown",
   "metadata": {},
   "source": [
    "# h5_files"
   ]
  },
  {
   "cell_type": "code",
   "execution_count": 9,
   "metadata": {
    "tags": [
     "remove-cell",
     "run_main"
    ]
   },
   "outputs": [
    {
     "name": "stdout",
     "output_type": "stream",
     "text": [
      "collected_outputs_directory: /home/halechr/FastData/collected_outputs\n",
      "ERR: Could not parse filename: \"kdiba-gor01-two-2006-6-07_16-40-19__withNormalComputedReplays-frateThresh_5.0-qclu_[1, 2, 4, 6, 7, 9]_first_spike_activity_data\"\n",
      "ERR: Could not parse filename: \"kdiba-vvp01-two-2006-4-09_16-40-54__withNormalComputedReplays-frateThresh_5.0-qclu_[1, 2, 4, 6, 7, 9]_first_spike_activity_data\"\n",
      "ERR: Could not parse filename: \"kdiba-gor01-one-2006-6-08_14-26-15__withNormalComputedReplays-frateThresh_5.0-qclu_[1, 2, 4, 6, 7, 9]_first_spike_activity_data\"\n",
      "ERR: Could not parse filename: \"kdiba-gor01-two-2006-6-12_16-53-46__withNormalComputedReplays-frateThresh_5.0-qclu_[1, 2, 4, 6, 7, 9]_first_spike_activity_data\"\n",
      "ERR: Could not parse filename: \"kdiba-gor01-two-2006-6-07_16-40-19__withNormalComputedReplays-frateThresh_5.0-qclu_[1, 2]_first_spike_activity_data\"\n",
      "ERR: Could not parse filename: \"kdiba-pin01-one-fet11-01_12-58-54__withNormalComputedReplays-frateThresh_5.0-qclu_[1, 2, 4, 6, 7, 9]_first_spike_activity_data\"\n",
      "ERR: Could not parse filename: \"kdiba-gor01-one-2006-6-12_15-55-31__withNormalComputedReplays-frateThresh_5.0-qclu_[1, 2, 4, 6, 7, 9]_first_spike_activity_data\"\n",
      "ERR: Could not parse filename: \"kdiba-gor01-one-2006-6-09_1-22-43__withNormalComputedReplays-frateThresh_5.0-qclu_[1, 2, 4, 6, 7, 9]_first_spike_activity_data\"\n",
      "ERR: Could not parse filename: \"kdiba-vvp01-one-2006-4-10_12-25-50__withNormalComputedReplays-frateThresh_5.0-qclu_[1, 2, 4, 6, 7, 9]_first_spike_activity_data\"\n",
      "ERR: Could not parse filename: \"kdiba-pin01-one-11-03_12-3-25__withNormalComputedReplays-frateThresh_5.0-qclu_[1, 2, 4, 6, 7, 9]_first_spike_activity_data\"\n",
      "ERR: Could not parse filename: \"kdiba-vvp01-two-2006-4-10_12-58-3__withNormalComputedReplays-frateThresh_5.0-qclu_[1, 2, 4, 6, 7, 9]_first_spike_activity_data\"\n"
     ]
    },
    {
     "data": {
      "text/plain": [
       "{Context(format_name= 'kdiba', animal= 'gor01', exper_name= 'one', session_name= '2006-6-08_14-26-15'): None,\n",
       " Context(format_name= 'kdiba', animal= 'gor01', exper_name= 'one', session_name= '2006-6-09_1-22-43'): None,\n",
       " Context(format_name= 'kdiba', animal= 'gor01', exper_name= 'one', session_name= '2006-6-12_15-55-31'): None,\n",
       " Context(format_name= 'kdiba', animal= 'gor01', exper_name= 'two', session_name= '2006-6-07_16-40-19'): None,\n",
       " Context(format_name= 'kdiba', animal= 'gor01', exper_name= 'two', session_name= '2006-6-12_16-53-46'): None,\n",
       " Context(format_name= 'kdiba', animal= 'vvp01', exper_name= 'one', session_name= '2006-4-09_17-29-30'): None,\n",
       " Context(format_name= 'kdiba', animal= 'vvp01', exper_name= 'one', session_name= '2006-4-10_12-25-50'): None,\n",
       " Context(format_name= 'kdiba', animal= 'vvp01', exper_name= 'two', session_name= '2006-4-09_16-40-54'): None,\n",
       " Context(format_name= 'kdiba', animal= 'vvp01', exper_name= 'two', session_name= '2006-4-10_12-58-3'): None,\n",
       " Context(format_name= 'kdiba', animal= 'pin01', exper_name= 'one', session_name= '11-03_12-3-25'): None,\n",
       " Context(format_name= 'kdiba', animal= 'pin01', exper_name= 'one', session_name= 'fet11-01_12-58-54'): None}"
      ]
     },
     "execution_count": 9,
     "metadata": {},
     "output_type": "execute_result"
    },
    {
     "data": {
      "text/html": [
       "<div>\n",
       "<style scoped>\n",
       "    .dataframe tbody tr th:only-of-type {\n",
       "        vertical-align: middle;\n",
       "    }\n",
       "\n",
       "    .dataframe tbody tr th {\n",
       "        vertical-align: top;\n",
       "    }\n",
       "\n",
       "    .dataframe thead th {\n",
       "        text-align: right;\n",
       "    }\n",
       "</style>\n",
       "<table border=\"1\" class=\"dataframe\">\n",
       "  <thead>\n",
       "    <tr style=\"text-align: right;\">\n",
       "      <th></th>\n",
       "      <th>export_datetime</th>\n",
       "      <th>session</th>\n",
       "      <th>custom_replay_name</th>\n",
       "      <th>file_type</th>\n",
       "      <th>decoding_time_bin_size_str</th>\n",
       "      <th>path</th>\n",
       "      <th>_comparable_custom_replay_name</th>\n",
       "    </tr>\n",
       "  </thead>\n",
       "  <tbody>\n",
       "    <tr>\n",
       "      <th>414</th>\n",
       "      <td>2024-11-19</td>\n",
       "      <td>kdiba</td>\n",
       "      <td></td>\n",
       "      <td>gor</td>\n",
       "      <td></td>\n",
       "      <td>/home/halechr/FastData/collected_outputs/2024-...</td>\n",
       "      <td></td>\n",
       "    </tr>\n",
       "    <tr>\n",
       "      <th>419</th>\n",
       "      <td>2024-11-19</td>\n",
       "      <td>kdiba</td>\n",
       "      <td></td>\n",
       "      <td>pin</td>\n",
       "      <td></td>\n",
       "      <td>/home/halechr/FastData/collected_outputs/2024-...</td>\n",
       "      <td></td>\n",
       "    </tr>\n",
       "    <tr>\n",
       "      <th>421</th>\n",
       "      <td>2024-11-19</td>\n",
       "      <td>kdiba</td>\n",
       "      <td></td>\n",
       "      <td>vvp</td>\n",
       "      <td></td>\n",
       "      <td>/home/halechr/FastData/collected_outputs/2024-...</td>\n",
       "      <td></td>\n",
       "    </tr>\n",
       "    <tr>\n",
       "      <th>431</th>\n",
       "      <td>2024-11-12</td>\n",
       "      <td>kdiba-gor01-one-2006-6-09_1-22-43</td>\n",
       "      <td>withNormalComputedReplays-frateThresh_5.0-qclu...</td>\n",
       "      <td>first_spike_activity_data</td>\n",
       "      <td></td>\n",
       "      <td>/home/halechr/FastData/collected_outputs/2024-...</td>\n",
       "      <td>withNormalComputedReplays-frateThresh-5.0-qclu...</td>\n",
       "    </tr>\n",
       "    <tr>\n",
       "      <th>465</th>\n",
       "      <td>2024-11-19</td>\n",
       "      <td>kdiba_gor01_one_2006-6-08_14-26-15</td>\n",
       "      <td>withNormalComputedReplays-qclu_[1, 2, 4, 6, 7,...</td>\n",
       "      <td>first_spike_activity_data</td>\n",
       "      <td></td>\n",
       "      <td>/home/halechr/FastData/collected_outputs/2024-...</td>\n",
       "      <td>withNormalComputedReplays-qclu-[1, 2, 4, 6, 7,...</td>\n",
       "    </tr>\n",
       "    <tr>\n",
       "      <th>466</th>\n",
       "      <td>2024-11-19</td>\n",
       "      <td>kdiba_gor01_one_2006-6-09_1-22-43</td>\n",
       "      <td>withNormalComputedReplays-qclu_[1, 2, 4, 6, 7,...</td>\n",
       "      <td>first_spike_activity_data</td>\n",
       "      <td></td>\n",
       "      <td>/home/halechr/FastData/collected_outputs/2024-...</td>\n",
       "      <td>withNormalComputedReplays-qclu-[1, 2, 4, 6, 7,...</td>\n",
       "    </tr>\n",
       "    <tr>\n",
       "      <th>467</th>\n",
       "      <td>2024-11-19</td>\n",
       "      <td>kdiba_gor01_two_2006-6-07_16-40-19</td>\n",
       "      <td>withNormalComputedReplays-qclu_[1, 2, 4, 6, 7,...</td>\n",
       "      <td>first_spike_activity_data</td>\n",
       "      <td></td>\n",
       "      <td>/home/halechr/FastData/collected_outputs/2024-...</td>\n",
       "      <td>withNormalComputedReplays-qclu-[1, 2, 4, 6, 7,...</td>\n",
       "    </tr>\n",
       "    <tr>\n",
       "      <th>468</th>\n",
       "      <td>2024-11-19</td>\n",
       "      <td>kdiba_pin01_one_11-03_12-3-25</td>\n",
       "      <td>withNormalComputedReplays-qclu_[1, 2, 4, 6, 7,...</td>\n",
       "      <td>first_spike_activity_data</td>\n",
       "      <td></td>\n",
       "      <td>/home/halechr/FastData/collected_outputs/2024-...</td>\n",
       "      <td>withNormalComputedReplays-qclu-[1, 2, 4, 6, 7,...</td>\n",
       "    </tr>\n",
       "    <tr>\n",
       "      <th>469</th>\n",
       "      <td>2024-11-19</td>\n",
       "      <td>kdiba_pin01_one_fet11-01_12-58-54</td>\n",
       "      <td>withNormalComputedReplays-qclu_[1, 2, 4, 6, 7,...</td>\n",
       "      <td>first_spike_activity_data</td>\n",
       "      <td></td>\n",
       "      <td>/home/halechr/FastData/collected_outputs/2024-...</td>\n",
       "      <td>withNormalComputedReplays-qclu-[1, 2, 4, 6, 7,...</td>\n",
       "    </tr>\n",
       "    <tr>\n",
       "      <th>470</th>\n",
       "      <td>2024-11-19</td>\n",
       "      <td>kdiba_vvp01_one_2006-4-10_12-25-50</td>\n",
       "      <td>withNormalComputedReplays-qclu_[1, 2, 4, 6, 7,...</td>\n",
       "      <td>first_spike_activity_data</td>\n",
       "      <td></td>\n",
       "      <td>/home/halechr/FastData/collected_outputs/2024-...</td>\n",
       "      <td>withNormalComputedReplays-qclu-[1, 2, 4, 6, 7,...</td>\n",
       "    </tr>\n",
       "    <tr>\n",
       "      <th>471</th>\n",
       "      <td>2024-11-19</td>\n",
       "      <td>kdiba_vvp01_two_2006-4-09_16-40-54</td>\n",
       "      <td>withNormalComputedReplays-qclu_[1, 2, 4, 6, 7,...</td>\n",
       "      <td>first_spike_activity_data</td>\n",
       "      <td></td>\n",
       "      <td>/home/halechr/FastData/collected_outputs/2024-...</td>\n",
       "      <td>withNormalComputedReplays-qclu-[1, 2, 4, 6, 7,...</td>\n",
       "    </tr>\n",
       "    <tr>\n",
       "      <th>472</th>\n",
       "      <td>2024-11-19</td>\n",
       "      <td>kdiba_vvp01_two_2006-4-10_12-58-3</td>\n",
       "      <td>withNormalComputedReplays-qclu_[1, 2, 4, 6, 7,...</td>\n",
       "      <td>first_spike_activity_data</td>\n",
       "      <td></td>\n",
       "      <td>/home/halechr/FastData/collected_outputs/2024-...</td>\n",
       "      <td>withNormalComputedReplays-qclu-[1, 2, 4, 6, 7,...</td>\n",
       "    </tr>\n",
       "  </tbody>\n",
       "</table>\n",
       "</div>"
      ],
      "text/plain": [
       "    export_datetime                             session  \\\n",
       "414      2024-11-19                               kdiba   \n",
       "419      2024-11-19                               kdiba   \n",
       "421      2024-11-19                               kdiba   \n",
       "431      2024-11-12   kdiba-gor01-one-2006-6-09_1-22-43   \n",
       "465      2024-11-19  kdiba_gor01_one_2006-6-08_14-26-15   \n",
       "466      2024-11-19   kdiba_gor01_one_2006-6-09_1-22-43   \n",
       "467      2024-11-19  kdiba_gor01_two_2006-6-07_16-40-19   \n",
       "468      2024-11-19       kdiba_pin01_one_11-03_12-3-25   \n",
       "469      2024-11-19   kdiba_pin01_one_fet11-01_12-58-54   \n",
       "470      2024-11-19  kdiba_vvp01_one_2006-4-10_12-25-50   \n",
       "471      2024-11-19  kdiba_vvp01_two_2006-4-09_16-40-54   \n",
       "472      2024-11-19   kdiba_vvp01_two_2006-4-10_12-58-3   \n",
       "\n",
       "                                    custom_replay_name  \\\n",
       "414                                                      \n",
       "419                                                      \n",
       "421                                                      \n",
       "431  withNormalComputedReplays-frateThresh_5.0-qclu...   \n",
       "465  withNormalComputedReplays-qclu_[1, 2, 4, 6, 7,...   \n",
       "466  withNormalComputedReplays-qclu_[1, 2, 4, 6, 7,...   \n",
       "467  withNormalComputedReplays-qclu_[1, 2, 4, 6, 7,...   \n",
       "468  withNormalComputedReplays-qclu_[1, 2, 4, 6, 7,...   \n",
       "469  withNormalComputedReplays-qclu_[1, 2, 4, 6, 7,...   \n",
       "470  withNormalComputedReplays-qclu_[1, 2, 4, 6, 7,...   \n",
       "471  withNormalComputedReplays-qclu_[1, 2, 4, 6, 7,...   \n",
       "472  withNormalComputedReplays-qclu_[1, 2, 4, 6, 7,...   \n",
       "\n",
       "                     file_type decoding_time_bin_size_str  \\\n",
       "414                        gor                              \n",
       "419                        pin                              \n",
       "421                        vvp                              \n",
       "431  first_spike_activity_data                              \n",
       "465  first_spike_activity_data                              \n",
       "466  first_spike_activity_data                              \n",
       "467  first_spike_activity_data                              \n",
       "468  first_spike_activity_data                              \n",
       "469  first_spike_activity_data                              \n",
       "470  first_spike_activity_data                              \n",
       "471  first_spike_activity_data                              \n",
       "472  first_spike_activity_data                              \n",
       "\n",
       "                                                  path  \\\n",
       "414  /home/halechr/FastData/collected_outputs/2024-...   \n",
       "419  /home/halechr/FastData/collected_outputs/2024-...   \n",
       "421  /home/halechr/FastData/collected_outputs/2024-...   \n",
       "431  /home/halechr/FastData/collected_outputs/2024-...   \n",
       "465  /home/halechr/FastData/collected_outputs/2024-...   \n",
       "466  /home/halechr/FastData/collected_outputs/2024-...   \n",
       "467  /home/halechr/FastData/collected_outputs/2024-...   \n",
       "468  /home/halechr/FastData/collected_outputs/2024-...   \n",
       "469  /home/halechr/FastData/collected_outputs/2024-...   \n",
       "470  /home/halechr/FastData/collected_outputs/2024-...   \n",
       "471  /home/halechr/FastData/collected_outputs/2024-...   \n",
       "472  /home/halechr/FastData/collected_outputs/2024-...   \n",
       "\n",
       "                        _comparable_custom_replay_name  \n",
       "414                                                     \n",
       "419                                                     \n",
       "421                                                     \n",
       "431  withNormalComputedReplays-frateThresh-5.0-qclu...  \n",
       "465  withNormalComputedReplays-qclu-[1, 2, 4, 6, 7,...  \n",
       "466  withNormalComputedReplays-qclu-[1, 2, 4, 6, 7,...  \n",
       "467  withNormalComputedReplays-qclu-[1, 2, 4, 6, 7,...  \n",
       "468  withNormalComputedReplays-qclu-[1, 2, 4, 6, 7,...  \n",
       "469  withNormalComputedReplays-qclu-[1, 2, 4, 6, 7,...  \n",
       "470  withNormalComputedReplays-qclu-[1, 2, 4, 6, 7,...  \n",
       "471  withNormalComputedReplays-qclu-[1, 2, 4, 6, 7,...  \n",
       "472  withNormalComputedReplays-qclu-[1, 2, 4, 6, 7,...  "
      ]
     },
     "execution_count": 9,
     "metadata": {},
     "output_type": "execute_result"
    },
    {
     "data": {
      "text/plain": [
       "[None, None, None, None, None, None, None, None, None, None, None]"
      ]
     },
     "execution_count": 9,
     "metadata": {},
     "output_type": "execute_result"
    }
   ],
   "source": [
    "from pyphoplacecellanalysis.SpecificResults.AcrossSessionResults import load_across_sessions_exported_h5_files\n",
    "\n",
    "## INPUTS: h5_sessions, session_dict, cuttoff_date, known_bad_session_strs\n",
    "parsed_h5_files_df, h5_contexts_paths_dict = load_across_sessions_exported_h5_files(collected_outputs_directory=collected_outputs_directory, cuttoff_date=cuttoff_date,\n",
    "                                                                                    known_bad_session_strs=known_bad_session_strs, debug_print=True)\n",
    "\n",
    "h5_contexts_paths_dict\n",
    "h5_session_contexts = list(h5_contexts_paths_dict.keys())\n",
    "included_h5_paths = list(h5_contexts_paths_dict.values())\n",
    "\n",
    "if neptuner_run is not None:\n",
    "    _neptuner_run_parameters = dict(parsed_h5_files_df=parsed_h5_files_df,\n",
    "                                       )\n",
    "    for k, v in _neptuner_run_parameters.items():\n",
    "        neptuner_run[f'parsed/{k}'] = v\n",
    "    _neptuner_run_parameters = {} # reset after writing\n",
    "\n",
    "parsed_h5_files_df\n",
    "# h5_contexts_paths_dict\n",
    "\n",
    "included_h5_paths\n"
   ]
  },
  {
   "cell_type": "code",
   "execution_count": null,
   "metadata": {
    "tags": [
     "remove-cell",
     "run_main"
    ]
   },
   "outputs": [],
   "source": [
    "from pyphoplacecellanalysis.SpecificResults.AcrossSessionResults import AcrossSessionTables\n",
    "from pyphoplacecellanalysis.SpecificResults.AcrossSessionResults import AcrossSessionsVisualizations\n",
    "from pyphocorehelpers.indexing_helpers import reorder_columns, reorder_columns_relative\n",
    "\n",
    "included_session_contexts = deepcopy(h5_session_contexts)\n",
    "included_h5_paths = deepcopy(included_h5_paths)\n",
    "num_sessions = len(included_session_contexts)\n",
    "(neuron_identities_table, long_short_fr_indicies_analysis_table, neuron_replay_stats_table), output_path_dicts = AcrossSessionTables.build_and_save_all_combined_tables(included_session_contexts, included_h5_paths,\n",
    "                                                                                                                                                    override_output_parent_path=across_sessions_output_folder, output_path_suffix=f'{TODAY_DAY_DATE}',\n",
    "                                                                                                                                                    should_restore_native_column_types=True, include_csv=True, include_pkl=True)\n",
    "\n",
    "\n",
    "if neptuner_run is not None:\n",
    "    _neptuner_run_parameters = dict(neuron_identities_table=neuron_identities_table, long_short_fr_indicies_analysis_table=long_short_fr_indicies_analysis_table, neuron_replay_stats_table=neuron_replay_stats_table,\n",
    "                                       num_sessions=num_sessions)\n",
    "    for k, v in _neptuner_run_parameters.items():\n",
    "        neptuner_run[f'parsed/{k}'] = v\n",
    "    _neptuner_run_parameters = {} # reset after writing\n",
    "\n",
    "    for output_name, a_paths_dict in output_path_dicts.items():\n",
    "        for format_extension, an_output_path in a_paths_dict.items():\n",
    "            neptuner_run[f\"output_files/{format_extension}/{output_name}\"].upload(an_output_path.resolve().as_posix())\n",
    "\n",
    "\n",
    "# {'neuron_identities_table': {'.csv': WindowsPath('K:/scratch/across_sessions/2024-06-05_Apogee/neuron_identities_table.csv'),\n",
    "#   '.pkl': WindowsPath('K:/scratch/across_sessions/2024-06-05_Apogee/neuron_identities_table.pkl')},\n",
    "#  'long_short_fr_indicies_analysis_table': {'.csv': WindowsPath('K:/scratch/across_sessions/2024-06-05_Apogee/long_short_fr_indicies_analysis_table.csv'),\n",
    "#   '.pkl': WindowsPath('K:/scratch/across_sessions/2024-06-05_Apogee/long_short_fr_indicies_analysis_table.pkl')},\n",
    "#  'neuron_replay_stats_table': {'.csv': WindowsPath('K:/scratch/across_sessions/2024-06-05_Apogee/neuron_replay_stats_table.csv'),\n",
    "#   '.pkl': WindowsPath('K:/scratch/across_sessions/2024-06-05_Apogee/neuron_replay_stats_table.pkl')}}\n",
    "\n",
    "output_path_dicts\n",
    "\n",
    "## Move the \"height\" columns to the end\n",
    "neuron_replay_stats_table = reorder_columns_relative(neuron_replay_stats_table, column_names=['neuron_uid', 'format_name', 'animal', 'exper_name', 'session_name', 'neuron_type', 'aclu', 'session_uid', 'session_datetime'], relative_mode='start')\n",
    "\n",
    "neuron_replay_stats_table\n"
   ]
  },
  {
   "cell_type": "code",
   "execution_count": null,
   "metadata": {},
   "outputs": [],
   "source": [
    "parsed_h5_files_df"
   ]
  },
  {
   "cell_type": "markdown",
   "metadata": {},
   "source": [
    "# 🚧🎯⌚ `first_spike_activity_data` loading and analysis - 2024-11-01"
   ]
  },
  {
   "cell_type": "code",
   "execution_count": null,
   "metadata": {},
   "outputs": [],
   "source": [
    "import pandas as pd\n",
    "from pathlib import Path\n",
    "from neuropy.core.neuron_identities import NeuronIdentityDataframeAccessor\n",
    "from neuropy.core.flattened_spiketrains import SpikesAccessor\n",
    "from pyphoplacecellanalysis.SpecificResults.PendingNotebookCode import CellsFirstSpikeTimes\n",
    "from neuropy.utils.result_context import IdentifyingContext\n",
    "\n",
    "\n",
    "first_spike_activity_parsed_h5_files_df = parsed_h5_files_df[parsed_h5_files_df['file_type'] == 'first_spike_activity_data']\n",
    "\n",
    "print(first_spike_activity_parsed_h5_files_df['custom_replay_name'].unique())\n",
    "\n",
    "# matching_custom_replay_name_str: str = \"withNormalComputedReplays-frateThresh_5.0-qclu_[1, 2]\"\n",
    "# matching_custom_replay_name_str: str = \"withNormalComputedReplays-frateThresh_5.0-qclu_[1, 2, 4, 6, 7, 9]\"\n",
    "matching_custom_replay_name_str: str = 'withNormalComputedReplays-qclu_[1, 2, 4, 6, 7, 9]-frateThresh_5.0'\n",
    "first_spike_activity_parsed_h5_files_df = first_spike_activity_parsed_h5_files_df[first_spike_activity_parsed_h5_files_df['custom_replay_name'] == matching_custom_replay_name_str]\n",
    "first_spike_activity_parsed_h5_files_df\n",
    "first_spike_activity_data_h5_files = [v.as_posix() for v in first_spike_activity_parsed_h5_files_df['path'].to_list()]\n",
    "first_spike_activity_data_h5_files\n",
    "\n",
    "test_obj: CellsFirstSpikeTimes = CellsFirstSpikeTimes.init_from_batch_hdf5_exports(first_spike_activity_data_h5_files=first_spike_activity_data_h5_files)\n",
    "test_obj\n",
    "# INPUTS: sessions_t_delta_tuple\n",
    "t_delta_df, t_delta_dict, (earliest_delta_aligned_t_start, latest_delta_aligned_t_end) = sessions_t_delta_tuple ## UNPACK\n",
    "# t_delta_dict\n",
    "# curr_session_t_delta = t_delta_dict.get(session_name, {}).get('t_delta', None)\n",
    "\n",
    "# test_obj.all_cells_first_spike_time_df\n",
    "# test_obj.first_spikes_dict\n",
    "# test_obj.all_cells_first_spike_time_df.session_name # \"kdiba-gor01-one-2006-6-08_14-26-15\"\n",
    "# IdentifyingContext.try_init_from_session_key(session_str=\"kdiba-gor01-one-2006-6-08_14-26-15\", separator='-').get_description(separator='_')\n",
    "\n",
    "test_obj.add_session_info(t_delta_dict=t_delta_dict)\n",
    "test_obj.post_init_cleanup()\n"
   ]
  },
  {
   "cell_type": "code",
   "execution_count": null,
   "metadata": {},
   "outputs": [],
   "source": []
  },
  {
   "cell_type": "code",
   "execution_count": null,
   "metadata": {},
   "outputs": [],
   "source": [
    "post_initial_laps_all_cells_first_spike_time_df = deepcopy(test_obj.all_cells_first_spike_time_df[test_obj.all_cells_first_spike_time_df['lap_spike_lap'] > 4].reset_index(drop=True))\n",
    "post_initial_laps_all_cells_first_spike_time_df"
   ]
  },
  {
   "cell_type": "code",
   "execution_count": null,
   "metadata": {},
   "outputs": [],
   "source": [
    "from bokeh.plotting import figure, show, output_notebook\n",
    "from bokeh.models import ColumnDataSource, Span, HoverTool\n",
    "from bokeh.palettes import Category10\n",
    "import pandas as pd\n",
    "from copy import deepcopy\n",
    "\n",
    "# Enable Bokeh output in the Jupyter notebook\n",
    "output_notebook()"
   ]
  },
  {
   "cell_type": "code",
   "execution_count": null,
   "metadata": {},
   "outputs": [],
   "source": [
    "spike_width = 0.9\n",
    "spike_height = 0.8 # Height of the tick mark (can be adjusted)\n",
    "active_df: pd.DataFrame = deepcopy(post_initial_laps_all_cells_first_spike_time_df)\n",
    "# active_df: pd.DataFrame = deepcopy(test_obj.all_cells_first_spike_time_df)\n",
    "enable_aclu_horizontal_trace_lines: bool = False\n",
    "## INPUTS: spike_width: float, spike_height: float, active_df: pd.DataFrame\n",
    "\n",
    "# Data preparation (factorize for color)\n",
    "_temp_active_spikes_df = deepcopy(active_df)[['neuron_uid', 'first_spike_PBE', 'first_spike_lap', 'session_uid']]\n",
    "_temp_active_spikes_df['lap_spike_relative_first_spike'] = _temp_active_spikes_df['first_spike_PBE'] - _temp_active_spikes_df['first_spike_lap']\n",
    "_temp_active_spikes_df['aclu'], _ = pd.factorize(_temp_active_spikes_df['neuron_uid'])\n",
    "_temp_active_spikes_df['aclu'] = _temp_active_spikes_df['aclu'] + 1  # Optionally start aclu from 1\n",
    "\n",
    "# Add tick_top and tick_bottom columns for short tick representation\n",
    "\n",
    "_temp_active_spikes_df['tick_bottom'] = _temp_active_spikes_df['aclu'] - spike_height / 2\n",
    "_temp_active_spikes_df['tick_top'] = _temp_active_spikes_df['aclu'] + spike_height / 2\n",
    "_temp_active_spikes_df = _temp_active_spikes_df.dropna(subset=['lap_spike_relative_first_spike', 'tick_top', 'tick_bottom'])\n",
    "\n",
    "# Bokeh specific preparation\n",
    "source = ColumnDataSource(_temp_active_spikes_df)\n",
    "unique_sessions = _temp_active_spikes_df['session_uid'].unique()\n",
    "\n",
    "# Create a wider figure by setting the width to 3x the default\n",
    "p = figure(title=\"First PBE Spike Relative to First Lap Spike (t=0)\", \n",
    "           x_axis_label=\"First PBE Spike Time (seconds, relative to first lap spike)\", \n",
    "           y_axis_label=\"Cell ID\", \n",
    "           tools=\"pan,box_zoom,reset\",\n",
    "           width=1300)\n",
    "\n",
    "colors = Category10[len(unique_sessions)]\n",
    "\n",
    "# Iterate over sessions to create vertical tick \"spikes\" for each point\n",
    "for i, session in enumerate(unique_sessions):\n",
    "    session_data = _temp_active_spikes_df[_temp_active_spikes_df['session_uid'] == session]\n",
    "    session_source = ColumnDataSource(session_data)\n",
    "    # Remove rows with NaN values in critical columns\n",
    "    \n",
    "    # Render each spike as a very short vertical bar (like a tick mark)\n",
    "    _ = p.vbar(x='lap_spike_relative_first_spike', bottom='tick_bottom', \n",
    "           top='tick_top', width=spike_width, \n",
    "           source=session_source, color=colors[i], legend_label=f\"Session: {session}\")\n",
    "\n",
    "# Add a vertical line at x=0 to indicate the first lap spike event\n",
    "vline = Span(location=0, dimension='height', line_color='red', line_width=2, line_alpha=0.5)\n",
    "p.add_layout(vline)\n",
    "\n",
    "if enable_aclu_horizontal_trace_lines:\n",
    "    # Add grid lines at each aclu value\n",
    "    unique_aclus = _temp_active_spikes_df['aclu'].unique()\n",
    "    print(f'unique_aclus: {unique_aclus}')\n",
    "    for aclu_value in unique_aclus:\n",
    "        hline = Span(location=aclu_value, dimension='width', line_color='gray', line_width=1, line_dash='dotted')\n",
    "        p.add_layout(hline)\n",
    "\n",
    "# Add hover tool for interactivity\n",
    "hover = HoverTool(tooltips=[(\"Neuron\", \"@neuron_uid\"), (\"Session\", \"@session_uid\"), (\"Relative Spike Time\", \"@lap_spike_relative_first_spike\")])\n",
    "p.add_tools(hover)\n",
    "\n",
    "# Adjust legend properties\n",
    "p.legend.click_policy = \"hide\"\n",
    "p.legend.background_fill_alpha = 0.3  # Make the legend background more transparent\n",
    "p.add_layout(p.legend[0], 'right')  # Move the legend outside the plot area to the right\n",
    "\n",
    "# Show the plot inline in the Jupyter notebook\n",
    "show(p)\n"
   ]
  },
  {
   "cell_type": "code",
   "execution_count": null,
   "metadata": {},
   "outputs": [],
   "source": [
    "import altair as alt\n",
    "import pandas as pd\n",
    "from copy import deepcopy\n",
    "\n",
    "# Data preparation\n",
    "_temp_active_spikes_df = deepcopy(post_initial_laps_all_cells_first_spike_time_df)[['neuron_uid', 'first_spike_PBE', 'first_spike_lap', 'session_uid']]\n",
    "_temp_active_spikes_df['lap_spike_relative_first_spike'] = _temp_active_spikes_df['first_spike_PBE'] - _temp_active_spikes_df['first_spike_lap']\n",
    "_temp_active_spikes_df['aclu'], _ = pd.factorize(_temp_active_spikes_df['neuron_uid'])\n",
    "_temp_active_spikes_df['aclu'] = _temp_active_spikes_df['aclu'] + 1\n",
    "\n",
    "# Plotting\n",
    "chart = alt.Chart(_temp_active_spikes_df).mark_circle(size=60).encode(\n",
    "    x='lap_spike_relative_first_spike',\n",
    "    y='aclu',\n",
    "    color='session_uid:N',\n",
    "    tooltip=['neuron_uid', 'session_uid']\n",
    ").properties(\n",
    "    title='First PBE Spike Relative to First Lap Spike (t=0)'\n",
    ").interactive()\n",
    "\n",
    "chart.show()\n"
   ]
  },
  {
   "cell_type": "code",
   "execution_count": null,
   "metadata": {},
   "outputs": [],
   "source": [
    "\n",
    "_out = test_obj.plot_first_lap_spike_relative_first_PBE_spike_scatter_figure()\n"
   ]
  },
  {
   "cell_type": "code",
   "execution_count": null,
   "metadata": {},
   "outputs": [],
   "source": [
    "test_obj.global_spikes_df\n",
    "test_obj.all_cells_first_spike_time_df"
   ]
  },
  {
   "cell_type": "code",
   "execution_count": null,
   "metadata": {},
   "outputs": [],
   "source": [
    "test_obj.all_cells_first_spike_time_df['first_spike_lap']\n",
    "\n"
   ]
  },
  {
   "cell_type": "code",
   "execution_count": null,
   "metadata": {},
   "outputs": [],
   "source": [
    "\n",
    "\n",
    "_out = test_obj.plot_first_lap_spike_relative_first_PBE_spike_scatter_figure()\n"
   ]
  },
  {
   "cell_type": "code",
   "execution_count": null,
   "metadata": {},
   "outputs": [],
   "source": [
    "# trimmed_result_tuples_dict\n",
    "# post_initial_laps_result_tuples_dict\n",
    "_accumulated_global_spikes_df"
   ]
  },
  {
   "cell_type": "code",
   "execution_count": null,
   "metadata": {},
   "outputs": [],
   "source": [
    "test_obj.global_spikes_df # session_uid: \"2024|11|05|kdiba-gor01-one-2006-6-08_14-26-15\""
   ]
  },
  {
   "cell_type": "code",
   "execution_count": null,
   "metadata": {},
   "outputs": [],
   "source": [
    "app, win, plots, plots_data = test_obj.plot_first_lap_spike_relative_first_PBE_spike_scatter_figure()\n"
   ]
  },
  {
   "cell_type": "markdown",
   "metadata": {},
   "source": [
    "# Across Session CSV Outputs"
   ]
  },
  {
   "cell_type": "code",
   "execution_count": 11,
   "metadata": {
    "notebookRunGroups": {
     "groupValue": "1"
    },
    "tags": [
     "export",
     "CSV",
     "run_main"
    ]
   },
   "outputs": [
    {
     "data": {
      "text/html": [
       "<div>\n",
       "<style scoped>\n",
       "    .dataframe tbody tr th:only-of-type {\n",
       "        vertical-align: middle;\n",
       "    }\n",
       "\n",
       "    .dataframe tbody tr th {\n",
       "        vertical-align: top;\n",
       "    }\n",
       "\n",
       "    .dataframe thead th {\n",
       "        text-align: right;\n",
       "    }\n",
       "</style>\n",
       "<table border=\"1\" class=\"dataframe\">\n",
       "  <thead>\n",
       "    <tr style=\"text-align: right;\">\n",
       "      <th></th>\n",
       "      <th>export_datetime</th>\n",
       "      <th>session</th>\n",
       "      <th>custom_replay_name</th>\n",
       "      <th>file_type</th>\n",
       "      <th>decoding_time_bin_size_str</th>\n",
       "      <th>path</th>\n",
       "      <th>_comparable_custom_replay_name</th>\n",
       "    </tr>\n",
       "  </thead>\n",
       "  <tbody>\n",
       "    <tr>\n",
       "      <th>24</th>\n",
       "      <td>2024-11-12 00:00:00</td>\n",
       "      <td>11-03_12-3-25</td>\n",
       "      <td></td>\n",
       "      <td>merged_complete_epoch_stats_df</td>\n",
       "      <td></td>\n",
       "      <td>/home/halechr/FastData/collected_outputs/2024-...</td>\n",
       "      <td></td>\n",
       "    </tr>\n",
       "    <tr>\n",
       "      <th>32</th>\n",
       "      <td>2024-11-19 00:00:00</td>\n",
       "      <td>11-03_12-3-25</td>\n",
       "      <td></td>\n",
       "      <td>neuron_replay_stats_df</td>\n",
       "      <td></td>\n",
       "      <td>/home/halechr/FastData/collected_outputs/2024-...</td>\n",
       "      <td></td>\n",
       "    </tr>\n",
       "    <tr>\n",
       "      <th>43</th>\n",
       "      <td>2024-11-12 00:00:00</td>\n",
       "      <td>2006-4-09_16-40-54</td>\n",
       "      <td></td>\n",
       "      <td>merged_complete_epoch_stats_df</td>\n",
       "      <td></td>\n",
       "      <td>/home/halechr/FastData/collected_outputs/2024-...</td>\n",
       "      <td></td>\n",
       "    </tr>\n",
       "    <tr>\n",
       "      <th>56</th>\n",
       "      <td>2024-11-19 00:00:00</td>\n",
       "      <td>2006-4-09_16-40-54</td>\n",
       "      <td></td>\n",
       "      <td>neuron_replay_stats_df</td>\n",
       "      <td></td>\n",
       "      <td>/home/halechr/FastData/collected_outputs/2024-...</td>\n",
       "      <td></td>\n",
       "    </tr>\n",
       "    <tr>\n",
       "      <th>78</th>\n",
       "      <td>2024-11-12 00:00:00</td>\n",
       "      <td>2006-4-10_12-25-50</td>\n",
       "      <td></td>\n",
       "      <td>merged_complete_epoch_stats_df</td>\n",
       "      <td></td>\n",
       "      <td>/home/halechr/FastData/collected_outputs/2024-...</td>\n",
       "      <td></td>\n",
       "    </tr>\n",
       "    <tr>\n",
       "      <th>...</th>\n",
       "      <td>...</td>\n",
       "      <td>...</td>\n",
       "      <td>...</td>\n",
       "      <td>...</td>\n",
       "      <td>...</td>\n",
       "      <td>...</td>\n",
       "      <td>...</td>\n",
       "    </tr>\n",
       "    <tr>\n",
       "      <th>10313</th>\n",
       "      <td>2024-11-19 14:20:00</td>\n",
       "      <td>kdiba_vvp01_two_2006-4-10_12-58-3</td>\n",
       "      <td>withNormalComputedReplays-qclu_[1, 2, 4, 6, 7,...</td>\n",
       "      <td>ripple_simple_pf_pearson_merged_df</td>\n",
       "      <td>0.058</td>\n",
       "      <td>/home/halechr/FastData/collected_outputs/2024-...</td>\n",
       "      <td>withNormalComputedReplays-qclu-[1, 2, 4, 6, 7,...</td>\n",
       "    </tr>\n",
       "    <tr>\n",
       "      <th>10391</th>\n",
       "      <td>2024-11-19 00:00:00</td>\n",
       "      <td>kdiba_vvp01_two_2006-4-10_12-58-3</td>\n",
       "      <td>withNormalComputedReplays-qclu_[1, 2, 4, 6, 7,...</td>\n",
       "      <td>ripple_time_bin_marginals_df</td>\n",
       "      <td></td>\n",
       "      <td>/home/halechr/FastData/collected_outputs/2024-...</td>\n",
       "      <td>withNormalComputedReplays-qclu-[1, 2, 4, 6, 7,...</td>\n",
       "    </tr>\n",
       "    <tr>\n",
       "      <th>10457</th>\n",
       "      <td>2024-11-19 11:00:00</td>\n",
       "      <td>kdiba_vvp01_two_2006-4-10_12-58-3</td>\n",
       "      <td>withNormalComputedReplays-qclu_[1, 2, 4, 6, 7,...</td>\n",
       "      <td>ripple_weighted_corr_merged_df</td>\n",
       "      <td>0.01</td>\n",
       "      <td>/home/halechr/FastData/collected_outputs/2024-...</td>\n",
       "      <td>withNormalComputedReplays-qclu-[1, 2, 4, 6, 7,...</td>\n",
       "    </tr>\n",
       "    <tr>\n",
       "      <th>10460</th>\n",
       "      <td>2024-11-19 14:20:00</td>\n",
       "      <td>kdiba_vvp01_two_2006-4-10_12-58-3</td>\n",
       "      <td>withNormalComputedReplays-qclu_[1, 2, 4, 6, 7,...</td>\n",
       "      <td>ripple_weighted_corr_merged_df</td>\n",
       "      <td>0.025</td>\n",
       "      <td>/home/halechr/FastData/collected_outputs/2024-...</td>\n",
       "      <td>withNormalComputedReplays-qclu-[1, 2, 4, 6, 7,...</td>\n",
       "    </tr>\n",
       "    <tr>\n",
       "      <th>10462</th>\n",
       "      <td>2024-11-19 14:20:00</td>\n",
       "      <td>kdiba_vvp01_two_2006-4-10_12-58-3</td>\n",
       "      <td>withNormalComputedReplays-qclu_[1, 2, 4, 6, 7,...</td>\n",
       "      <td>ripple_weighted_corr_merged_df</td>\n",
       "      <td>0.058</td>\n",
       "      <td>/home/halechr/FastData/collected_outputs/2024-...</td>\n",
       "      <td>withNormalComputedReplays-qclu-[1, 2, 4, 6, 7,...</td>\n",
       "    </tr>\n",
       "  </tbody>\n",
       "</table>\n",
       "<p>464 rows × 7 columns</p>\n",
       "</div>"
      ],
      "text/plain": [
       "          export_datetime                            session  \\\n",
       "24    2024-11-12 00:00:00                      11-03_12-3-25   \n",
       "32    2024-11-19 00:00:00                      11-03_12-3-25   \n",
       "43    2024-11-12 00:00:00                 2006-4-09_16-40-54   \n",
       "56    2024-11-19 00:00:00                 2006-4-09_16-40-54   \n",
       "78    2024-11-12 00:00:00                 2006-4-10_12-25-50   \n",
       "...                   ...                                ...   \n",
       "10313 2024-11-19 14:20:00  kdiba_vvp01_two_2006-4-10_12-58-3   \n",
       "10391 2024-11-19 00:00:00  kdiba_vvp01_two_2006-4-10_12-58-3   \n",
       "10457 2024-11-19 11:00:00  kdiba_vvp01_two_2006-4-10_12-58-3   \n",
       "10460 2024-11-19 14:20:00  kdiba_vvp01_two_2006-4-10_12-58-3   \n",
       "10462 2024-11-19 14:20:00  kdiba_vvp01_two_2006-4-10_12-58-3   \n",
       "\n",
       "                                      custom_replay_name  \\\n",
       "24                                                         \n",
       "32                                                         \n",
       "43                                                         \n",
       "56                                                         \n",
       "78                                                         \n",
       "...                                                  ...   \n",
       "10313  withNormalComputedReplays-qclu_[1, 2, 4, 6, 7,...   \n",
       "10391  withNormalComputedReplays-qclu_[1, 2, 4, 6, 7,...   \n",
       "10457  withNormalComputedReplays-qclu_[1, 2, 4, 6, 7,...   \n",
       "10460  withNormalComputedReplays-qclu_[1, 2, 4, 6, 7,...   \n",
       "10462  withNormalComputedReplays-qclu_[1, 2, 4, 6, 7,...   \n",
       "\n",
       "                                file_type decoding_time_bin_size_str  \\\n",
       "24         merged_complete_epoch_stats_df                              \n",
       "32                 neuron_replay_stats_df                              \n",
       "43         merged_complete_epoch_stats_df                              \n",
       "56                 neuron_replay_stats_df                              \n",
       "78         merged_complete_epoch_stats_df                              \n",
       "...                                   ...                        ...   \n",
       "10313  ripple_simple_pf_pearson_merged_df                      0.058   \n",
       "10391        ripple_time_bin_marginals_df                              \n",
       "10457      ripple_weighted_corr_merged_df                       0.01   \n",
       "10460      ripple_weighted_corr_merged_df                      0.025   \n",
       "10462      ripple_weighted_corr_merged_df                      0.058   \n",
       "\n",
       "                                                    path  \\\n",
       "24     /home/halechr/FastData/collected_outputs/2024-...   \n",
       "32     /home/halechr/FastData/collected_outputs/2024-...   \n",
       "43     /home/halechr/FastData/collected_outputs/2024-...   \n",
       "56     /home/halechr/FastData/collected_outputs/2024-...   \n",
       "78     /home/halechr/FastData/collected_outputs/2024-...   \n",
       "...                                                  ...   \n",
       "10313  /home/halechr/FastData/collected_outputs/2024-...   \n",
       "10391  /home/halechr/FastData/collected_outputs/2024-...   \n",
       "10457  /home/halechr/FastData/collected_outputs/2024-...   \n",
       "10460  /home/halechr/FastData/collected_outputs/2024-...   \n",
       "10462  /home/halechr/FastData/collected_outputs/2024-...   \n",
       "\n",
       "                          _comparable_custom_replay_name  \n",
       "24                                                        \n",
       "32                                                        \n",
       "43                                                        \n",
       "56                                                        \n",
       "78                                                        \n",
       "...                                                  ...  \n",
       "10313  withNormalComputedReplays-qclu-[1, 2, 4, 6, 7,...  \n",
       "10391  withNormalComputedReplays-qclu-[1, 2, 4, 6, 7,...  \n",
       "10457  withNormalComputedReplays-qclu-[1, 2, 4, 6, 7,...  \n",
       "10460  withNormalComputedReplays-qclu-[1, 2, 4, 6, 7,...  \n",
       "10462  withNormalComputedReplays-qclu-[1, 2, 4, 6, 7,...  \n",
       "\n",
       "[464 rows x 7 columns]"
      ]
     },
     "metadata": {},
     "output_type": "display_data"
    },
    {
     "data": {
      "application/vnd.jupyter.widget-view+json": {
       "model_id": "a591db815b95424bb0912f6866285c6b",
       "version_major": 2,
       "version_minor": 0
      },
      "text/plain": [
       "Box(children=(Label(value='across_sessions_parsed_csv_files_path:', layout=Layout(width='auto')), HTML(value=\"…"
      ]
     },
     "metadata": {},
     "output_type": "display_data"
    }
   ],
   "source": [
    "## INPUTS: parsed_csv_files_df, TODAY_DAY_DATE\n",
    "display(parsed_csv_files_df)\n",
    "\n",
    "across_sessions_parsed_csv_files_path = across_sessions_output_folder.joinpath(f'{TODAY_DAY_DATE}_parsed_csv_files_df.csv').resolve()\n",
    "# parsed_csv_files_df.to_clipboard(excel=True)\n",
    "parsed_csv_files_df.to_csv(across_sessions_parsed_csv_files_path)\n",
    "display(fullwidth_path_widget(across_sessions_parsed_csv_files_path, file_name_label='across_sessions_parsed_csv_files_path:'))"
   ]
  },
  {
   "cell_type": "code",
   "execution_count": 12,
   "metadata": {
    "notebookRunGroups": {
     "groupValue": "1"
    },
    "tags": [
     "export",
     "CSV",
     "run_main"
    ]
   },
   "outputs": [
    {
     "data": {
      "application/vnd.jupyter.widget-view+json": {
       "model_id": "f7a125cbde6c4c27b0f989409a465d1d",
       "version_major": 2,
       "version_minor": 0
      },
      "text/plain": [
       "Box(children=(Label(value='final_across_session_summary_CSVs_output_path:', layout=Layout(width='auto')), HTML…"
      ]
     },
     "metadata": {},
     "output_type": "display_data"
    },
    {
     "data": {
      "text/plain": [
       "{'AcrossSession_Laps_per-Epoch': PosixPath('/home/halechr/FastData/across_sessions/2024-11-21_Lab_AcrossSession_Laps_per-Epoch.csv'),\n",
       " 'AcrossSession_Ripple_per-Epoch': PosixPath('/home/halechr/FastData/across_sessions/2024-11-21_Lab_AcrossSession_Ripple_per-Epoch.csv'),\n",
       " 'AcrossSession_Laps_per-TimeBin': PosixPath('/home/halechr/FastData/across_sessions/2024-11-21_Lab_AcrossSession_Laps_per-TimeBin.csv'),\n",
       " 'AcrossSession_Ripple_per-TimeBin': PosixPath('/home/halechr/FastData/across_sessions/2024-11-21_Lab_AcrossSession_Ripple_per-TimeBin.csv'),\n",
       " 'AcrossSession_MultiMeasure_Laps_per-Epoch': PosixPath('/home/halechr/FastData/across_sessions/2024-11-21_Lab_AcrossSession_MultiMeasure_Laps_per-Epoch.csv'),\n",
       " 'AcrossSession_MultiMeasure_Ripple_per-Epoch': PosixPath('/home/halechr/FastData/across_sessions/2024-11-21_Lab_AcrossSession_MultiMeasure_Ripple_per-Epoch.csv'),\n",
       " 'AcrossSession_AllScores_Ripple_per-Epoch': PosixPath('/home/halechr/FastData/across_sessions/2024-11-21_Lab_AcrossSession_AllScores_Ripple_per-Epoch.csv')}"
      ]
     },
     "execution_count": 12,
     "metadata": {},
     "output_type": "execute_result"
    }
   ],
   "source": [
    "from pyphoplacecellanalysis.SpecificResults.AcrossSessionResults import export_across_session_CSVs\n",
    "\n",
    "## INPUTS: df_results\n",
    "all_sessions_laps_df, all_sessions_ripple_df, all_sessions_laps_time_bin_df, all_sessions_ripple_time_bin_df, all_sessions_MultiMeasure_laps_df, all_sessions_MultiMeasure_ripple_df, all_sessions_all_scores_ripple_df, all_sessions_merged_complete_epoch_stats_df, *final_sessions_loaded_extra_dfs_list = df_results\n",
    "final_across_session_summary_CSVs_output_path = across_sessions_output_folder.resolve()\n",
    "display(fullwidth_path_widget(final_across_session_summary_CSVs_output_path, file_name_label='final_across_session_summary_CSVs_output_path:'))\n",
    "final_csv_export_paths = export_across_session_CSVs(final_output_path=final_across_session_summary_CSVs_output_path, TODAY_DAY_DATE=TODAY_DAY_DATE,\n",
    "                                                    all_sessions_laps_df=all_sessions_laps_df,  all_sessions_ripple_df=all_sessions_ripple_df,\n",
    "                                                    all_sessions_laps_time_bin_df=all_sessions_laps_time_bin_df, all_sessions_ripple_time_bin_df=all_sessions_ripple_time_bin_df, \n",
    "                                                    # all_sessions_simple_pearson_laps_df=all_sessions_simple_pearson_laps_df,  all_sessions_simple_pearson_ripple_df=all_sessions_simple_pearson_ripple_df,\n",
    "                                                    all_sessions_MultiMeasure_laps_df=all_sessions_MultiMeasure_laps_df,  all_sessions_MultiMeasure_ripple_df=all_sessions_MultiMeasure_ripple_df,\n",
    "                                                    all_sessions_all_scores_ripple_df=all_sessions_all_scores_ripple_df,  all_sessions_all_scores_laps_df=None,\n",
    "                                                )\n",
    "\n",
    "# final_csv_export_paths: {'AcrossSession_Laps_per-Epoch': WindowsPath('K:/scratch/across_sessions/2024-06-05_Apogee_AcrossSession_Laps_per-Epoch.csv'),\n",
    "#  'AcrossSession_Ripple_per-Epoch': WindowsPath('K:/scratch/across_sessions/2024-06-05_Apogee_AcrossSession_Ripple_per-Epoch.csv'),\n",
    "#  'AcrossSession_Laps_per-TimeBin': WindowsPath('K:/scratch/across_sessions/2024-06-05_Apogee_AcrossSession_Laps_per-TimeBin.csv'),\n",
    "#  'AcrossSession_Ripple_per-TimeBin': WindowsPath('K:/scratch/across_sessions/2024-06-05_Apogee_AcrossSession_Ripple_per-TimeBin.csv'),\n",
    "#  'AcrossSession_SimplePearson_Laps_per-Epoch': WindowsPath('K:/scratch/across_sessions/2024-06-05_Apogee_AcrossSession_SimplePearson_Laps_per-Epoch.csv'),\n",
    "#  'AcrossSession_SimplePearson_Ripple_per-Epoch': WindowsPath('K:/scratch/across_sessions/2024-06-05_Apogee_AcrossSession_SimplePearson_Ripple_per-Epoch.csv'),\n",
    "#  'AcrossSession_AllScores_Ripple_per-Epoch': WindowsPath('K:/scratch/across_sessions/2024-06-05_Apogee_AcrossSession_AllScores_Ripple_per-Epoch.csv')}\n",
    "\n",
    "if neptuner_run is not None:\n",
    "    _neptuner_run_parameters = dict(across_sessions_parsed_csv_files_path=across_sessions_parsed_csv_files_path.as_posix(), final_across_session_summary_CSVs_output_path=final_across_session_summary_CSVs_output_path.as_posix(),\n",
    "                                       )\n",
    "    for k, v in _neptuner_run_parameters.items():\n",
    "        neptuner_run[f'output_files/{k}'] = v\n",
    "    _neptuner_run_parameters = {} # reset after writing\n",
    "\n",
    "    for k, v in final_csv_export_paths.items():\n",
    "        neptuner_run[f\"output_files/{k}\"].upload(v.resolve().as_posix())\n",
    "        \n",
    "    neptuner_run.sync()\n",
    "    \n",
    "final_csv_export_paths"
   ]
  },
  {
   "cell_type": "markdown",
   "metadata": {},
   "source": [
    "# 2024-03-02 - Get only the user-annotated ripples:"
   ]
  },
  {
   "cell_type": "code",
   "execution_count": null,
   "metadata": {},
   "outputs": [],
   "source": [
    "from pyphoplacecellanalysis.SpecificResults.AcrossSessionResults import _split_user_annotated_ripple_df\n",
    "\n",
    "## Bump\n",
    "# input_df = all_sessions_simple_pearson_ripple_df\n",
    "# input_df = all_sessions_all_scores_ripple_df\n",
    "\n",
    "all_sessions_all_scores_ripple_df, (valid_ripple_df, invalid_ripple_df), (user_approved_ripple_df, user_rejected_ripple_df) = _split_user_annotated_ripple_df(all_sessions_all_scores_ripple_df)\n",
    "\n",
    "## 2024-03-14 - 'is_valid_epoch' column\n",
    "# 'is_valid_epoch'\n",
    "## OUTPUTS: valid_ripple_df, invalid_ripple_df, user_approved_ripple_df, user_rejected_ripple_df, (user_annotated_epoch_unique_session_names, unannotated_session_names)\n",
    "user_approved_ripple_df"
   ]
  },
  {
   "cell_type": "markdown",
   "metadata": {},
   "source": [
    "### 2024-02-29 - 4pm - Filter the events for those meeting wcorr criteria:\n"
   ]
  },
  {
   "cell_type": "code",
   "execution_count": null,
   "metadata": {},
   "outputs": [],
   "source": [
    "# df: pd.DataFrame = deepcopy(all_sessions_user_annotated_ripple_df)\n",
    "df: pd.DataFrame = deepcopy(valid_ripple_df) # valid epochs, but not just those that the user approved\n",
    "# df: pd.DataFrame = deepcopy(user_approved_ripple_df)\n",
    "\n",
    "## INPUTS: df\n",
    "\n",
    "min_wcorr_threshold: float = 0.33\n",
    "min_wcorr_diff_threshold: float = 0.2\n",
    "\n",
    "# is_included_large_wcorr_diff = np.any((df[['wcorr_abs_diff']].abs() > min_wcorr_diff_threshold), axis=1)\n",
    "is_included_large_wcorr_diff = np.any((df[['wcorr_diff']].abs() > min_wcorr_diff_threshold), axis=1)\n",
    "is_included_high_wcorr = np.any((df[['long_best_wcorr', 'short_best_wcorr']].abs() > min_wcorr_threshold), axis=1)\n",
    "\n",
    "df = df[is_included_high_wcorr]\n",
    "df\n",
    "\n",
    "# wcorr_long_LR\n"
   ]
  },
  {
   "cell_type": "code",
   "execution_count": null,
   "metadata": {},
   "outputs": [],
   "source": [
    "all_sessions_all_scores_ripple_df.time_bin_size.unique() # does not seem to return NaNs"
   ]
  },
  {
   "cell_type": "code",
   "execution_count": null,
   "metadata": {},
   "outputs": [],
   "source": [
    "all_sessions_ripple_time_bin_df.time_bin_size.unique()"
   ]
  },
  {
   "cell_type": "code",
   "execution_count": null,
   "metadata": {},
   "outputs": [],
   "source": [
    "all_sessions_ripple_time_bin_df"
   ]
  },
  {
   "cell_type": "markdown",
   "metadata": {},
   "source": [
    "# 2024-03-28 - AcrossSessionTable (PhoDibaPaper2023 formats) .h5 and figure exports\n",
    "\n",
    "neuron_identities_table, long_short_fr_indicies_analysis_table, neuron_replay_stats_table: all tables of the same length, one entry per neuron"
   ]
  },
  {
   "cell_type": "code",
   "execution_count": null,
   "metadata": {
    "tags": [
     "remove-cell",
     "figures"
    ]
   },
   "outputs": [],
   "source": [
    "from pyphoplacecellanalysis.SpecificResults.AcrossSessionResults import AcrossSessionTables, AcrossSessionsResults, AcrossSessionsVisualizations\n",
    "from neuropy.utils.mixins.HDF5_representable import HDF_Converter\n",
    "from pyphoplacecellanalysis.General.Batch.runBatch import BatchResultDataframeAccessor\n",
    "\n",
    "# output_path_suffix: str = '2024-09-26'\n",
    "# output_path_suffix: str = '2024-10-22'\n",
    "output_path_suffix: str = '2024-10-22'\n",
    "# output_path_suffix: str = '2024-10-04'\n",
    "# inst_fr_output_filename: str = f'across_session_result_long_short_recomputed_inst_firing_rate_{output_path_suffix}.pkl'\n",
    "# inst_fr_output_filename: str = f'across_session_result_long_short_recomputed_inst_firing_rate_{output_path_suffix}_0.0009.pkl' # single time bin size\n",
    "# inst_fr_output_filename: str = f'across_session_result_long_short_recomputed_inst_firing_rate_{output_path_suffix}_0.0015.pkl' # single time bin size\n",
    "# inst_fr_output_filename: str = f'across_session_result_long_short_recomputed_inst_firing_rate_{output_path_suffix}_0.0025.pkl' # single time bin size\n",
    "# inst_fr_output_filename: str = f'across_session_result_long_short_recomputed_inst_firing_rate_{output_path_suffix}_0.025.pkl' # single time bin size\n",
    "inst_fr_output_filename: str = f'across_session_result_long_short_recomputed_inst_firing_rate_{output_path_suffix}_1000.0.pkl' # single time bin size\n",
    "\n",
    "## INPUTS: included_session_contexts, included_h5_paths\n",
    "neuron_identities_table, long_short_fr_indicies_analysis_table, neuron_replay_stats_table = AcrossSessionTables.build_all_known_tables(included_session_contexts, included_h5_paths, should_restore_native_column_types=True)\n",
    "\n",
    "## different than load_all_combined_tables, which seems to work with `long_short_fr_indicies_analysis_table`\n",
    "# graphics_output_dict |= AcrossSessionsVisualizations.across_sessions_firing_rate_index_figure(long_short_fr_indicies_analysis_results=long_short_fr_indicies_analysis_table, num_sessions=num_sessions, save_figure=True)\n",
    "\n",
    "## Load all across-session tables from the pickles:\n",
    "output_path_suffix: str = f'{output_path_suffix}'\n",
    "neuron_identities_table, long_short_fr_indicies_analysis_table, neuron_replay_stats_table = AcrossSessionTables.load_all_combined_tables(override_output_parent_path=collected_outputs_directory, output_path_suffix=output_path_suffix) # output_path_suffix=f'2023-10-04-GL-Recomp'\n",
    "# num_sessions = len(neuron_replay_stats_table.session_uid.unique().to_numpy())\n",
    "# print(f'num_sessions: {num_sessions}')\n",
    "num_sessions: int = len(long_short_fr_indicies_analysis_table['session_uid'].unique())\n",
    "print(f'num_sessions: {num_sessions}')\n",
    "\n",
    "inst_fr_output_load_filepath: Path = collected_outputs_directory.joinpath(inst_fr_output_filename).resolve() # single time bin size # non-instantaneous version\n",
    "assert inst_fr_output_load_filepath.exists()\n",
    "# inst_fr_output_filename: str = inst_fr_output_load_filepath.name\n",
    "# across_session_inst_fr_computation, across_sessions_instantaneous_fr_dict, across_sessions_instantaneous_frs_list = AcrossSessionsResults.load_across_sessions_data(global_data_root_parent_path=global_data_root_parent_path, inst_fr_output_filename=inst_fr_output_filename)\n",
    "across_session_inst_fr_computation, across_sessions_instantaneous_fr_dict, across_sessions_instantaneous_frs_list = AcrossSessionsResults.load_across_sessions_data(global_data_root_parent_path=inst_fr_output_load_filepath.parent, inst_fr_output_filename=inst_fr_output_filename)\n",
    "\n",
    "graphics_output_dict = AcrossSessionsResults.post_compute_all_sessions_processing(global_data_root_parent_path=collected_outputs_directory, output_path_suffix=output_path_suffix, plotting_enabled=False, output_override_path=Path('../../output'), inst_fr_output_filename=inst_fr_output_filename)\n",
    "\n",
    "num_sessions = len(across_sessions_instantaneous_fr_dict)\n",
    "print(f'num_sessions: {num_sessions}')\n",
    "\n",
    "# Convert byte strings to regular strings\n",
    "neuron_replay_stats_table = neuron_replay_stats_table.applymap(lambda x: x.decode('utf-8') if isinstance(x, bytes) else x)\n",
    "neuron_replay_stats_table"
   ]
  },
  {
   "cell_type": "markdown",
   "metadata": {},
   "source": [
    "### Figure Generation"
   ]
  },
  {
   "cell_type": "code",
   "execution_count": null,
   "metadata": {
    "tags": [
     "tiny-test",
     "test"
    ]
   },
   "outputs": [],
   "source": [
    "long_short_fr_indicies_analysis_table"
   ]
  },
  {
   "cell_type": "code",
   "execution_count": null,
   "metadata": {},
   "outputs": [],
   "source": [
    "neuron_identities_table"
   ]
  },
  {
   "cell_type": "code",
   "execution_count": null,
   "metadata": {},
   "outputs": [],
   "source": [
    "neuron_replay_stats_table"
   ]
  },
  {
   "cell_type": "code",
   "execution_count": null,
   "metadata": {},
   "outputs": [],
   "source": [
    "from pyphoplacecellanalysis.SpecificResults.PhoDiba2023Paper import pho_stats_bar_graph_t_tests\n",
    "\n",
    "LxC_Laps_T_result, SxC_Laps_T_result, LxC_Replay_T_result, SxC_Replay_T_result = pho_stats_bar_graph_t_tests(across_session_inst_fr_computation)\n",
    "\n",
    "# LxC_Laps_T_result: TtestResult(statistic=5.550057784140024, pvalue=4.394229331160663e-05, df=16)\n",
    "# SxC_Laps_T_result: TtestResult(statistic=-4.50982955925142, pvalue=0.001125880142367611, df=10)\n",
    "# LxC_Replay_T_result: TtestResult(statistic=-0.4086778656072959, pvalue=0.6881937588138113, df=16)\n",
    "# SxC_Replay_T_result: TtestResult(statistic=-3.551930809035679, pvalue=0.0052513298000637825, df=10)\n",
    "\n",
    "\n",
    "\n",
    "# LxC_Replay_T_result is NOT p<0.05 significant (pvalue=0.6882)\n",
    "# SxC_Replay_T_result IS NOT p<0.05 significant (pvalue=0.0052513298000637825)"
   ]
  },
  {
   "cell_type": "code",
   "execution_count": null,
   "metadata": {},
   "outputs": [],
   "source": [
    "from pyphoplacecellanalysis.SpecificResults.PhoDiba2023Paper import PaperFigureTwo\n",
    "from pyphoplacecellanalysis.SpecificResults.AcrossSessionResults import AcrossSessionsVisualizations\n",
    "\n",
    "# %matplotlib inline \n",
    "# %matplotlib qt5\n",
    "## Plotting:\n",
    "graphics_output_dict = {}\n",
    "\n",
    "matplotlib_configuration_update(is_interactive=True, backend='Qt5Agg')\n",
    "\n",
    "## 2023-10-04 - Run `AcrossSessionsVisualizations` corresponding to the PhoDibaPaper2023 figures for all sessions\n",
    "## Hacks the `PaperFigureTwo` and `InstantaneousSpikeRateGroupsComputation`\n",
    "global_multi_session_context, _out_aggregate_fig_2 = AcrossSessionsVisualizations.across_sessions_bar_graphs(across_session_inst_fr_computation, num_sessions=num_sessions, enable_tiny_point_labels=False, enable_hover_labels=False, enabled_point_connection_lines=True, save_figure=False)\n"
   ]
  },
  {
   "cell_type": "code",
   "execution_count": null,
   "metadata": {},
   "outputs": [],
   "source": [
    "plt.show()\n"
   ]
  },
  {
   "cell_type": "code",
   "execution_count": null,
   "metadata": {},
   "outputs": [],
   "source": [
    "# across_session_inst_fr_computation\n",
    "## Document `InstantaneousSpikeRateGroupsComputation`\n",
    "from pyphocorehelpers.print_helpers import DocumentationFilePrinter\n",
    "from pyphocorehelpers.print_helpers import print_keys_if_possible\n",
    "\n",
    "doc_output_parent_folder = Path(r'C:\\Users\\pho\\repos\\Spike3DWorkEnv\\Spike3D\\EXTERNAL\\DEVELOPER_NOTES\\DataStructureDocumentation').resolve()\n",
    "Assert.path_exists(doc_output_parent_folder)\n",
    "doc_printer = DocumentationFilePrinter(doc_output_parent_folder=doc_output_parent_folder, doc_name='InstantaneousSpikeRateGroupsComputation')\n",
    "doc_printer.save_documentation('InstantaneousSpikeRateGroupsComputation', across_session_inst_fr_computation, non_expanded_item_keys=['_reverse_cellID_index_map'])"
   ]
  },
  {
   "cell_type": "code",
   "execution_count": null,
   "metadata": {},
   "outputs": [],
   "source": [
    "doc_printer = DocumentationFilePrinter(doc_output_parent_folder=doc_output_parent_folder, doc_name='SingleBarResult')\n",
    "doc_printer.save_documentation('SingleBarResult', across_session_inst_fr_computation.Fig2_Replay_FR[0], non_expanded_item_keys=['_reverse_cellID_index_map'])\n",
    "doc_printer.save_documentation('SingleBarResult', across_session_inst_fr_computation.Fig2_Replay_FR[1], non_expanded_item_keys=['_reverse_cellID_index_map'])\n",
    "doc_printer.save_documentation('SingleBarResult', across_session_inst_fr_computation.Fig2_Replay_FR[2], non_expanded_item_keys=['_reverse_cellID_index_map'])\n",
    "doc_printer.save_documentation('SingleBarResult', across_session_inst_fr_computation.Fig2_Replay_FR[3], non_expanded_item_keys=['_reverse_cellID_index_map'])"
   ]
  },
  {
   "cell_type": "code",
   "execution_count": null,
   "metadata": {},
   "outputs": [],
   "source": [
    "across_session_inst_fr_computation.get_summary_dataframe()"
   ]
  },
  {
   "cell_type": "code",
   "execution_count": null,
   "metadata": {},
   "outputs": [],
   "source": [
    "across_sessions_instantaneous_frs_list\n"
   ]
  },
  {
   "cell_type": "markdown",
   "metadata": {},
   "source": [
    "### 2024-09-10 - TODO: Filter out the datapoints from the bar plot corresponding to the novel vs. non-novel sessions"
   ]
  },
  {
   "cell_type": "code",
   "execution_count": null,
   "metadata": {},
   "outputs": [],
   "source": [
    "import re\n",
    "from typing import List, Tuple\n",
    "from pyphoplacecellanalysis.SpecificResults.AcrossSessionResults import ConciseSessionIdentifiers\n",
    "\n",
    "# `across_session_inst_fr_computation.Fig2_Replay_FR`\n",
    "\n",
    "novel_Fig2_Replay_FR = deepcopy(across_session_inst_fr_computation.Fig2_Replay_FR)\n",
    "non_novel_Fig2_Replay_FR = deepcopy(across_session_inst_fr_computation.Fig2_Replay_FR)\n",
    "\n",
    "# [0] and [1] both only use LxC_aclus\n",
    "LxC_aclus = deepcopy(across_session_inst_fr_computation.Fig2_Replay_FR[0].LxC_aclus.tolist()) # ['a0s0_109', 'a0s1_3', 'a0s1_29', 'a0s1_103', 'a0s3_90', 'a0s4_91', 'a0s4_95', 'a1s1_23', 'a1s2_25', 'a1s3_14', 'a1s3_30', 'a1s3_32', 'a2s0_8', 'a2s0_27', 'a2s1_27']\n",
    "_LxC_aclus_alt = deepcopy(across_session_inst_fr_computation.Fig2_Replay_FR[1].LxC_aclus.tolist()) # ['a0s0_109', 'a0s1_3', 'a0s1_29', 'a0s1_103', 'a0s3_90', 'a0s4_91', 'a0s4_95', 'a1s1_23', 'a1s2_25', 'a1s3_14', 'a1s3_30', 'a1s3_32', 'a2s0_8', 'a2s0_27', 'a2s1_27']\n",
    "assert _LxC_aclus_alt == LxC_aclus\n",
    "\n",
    "# [2] and [3] both only use SxC_aclus\n",
    "SxC_aclus = deepcopy(across_session_inst_fr_computation.Fig2_Replay_FR[2].SxC_aclus.tolist()) # ['a0s0_109', 'a0s1_3', 'a0s1_29', 'a0s1_103', 'a0s3_90', 'a0s4_91', 'a0s4_95', 'a1s1_23', 'a1s2_25', 'a1s3_14', 'a1s3_30', 'a1s3_32', 'a2s0_8', 'a2s0_27', 'a2s1_27']\n",
    "_SxC_aclus_alt = deepcopy(across_session_inst_fr_computation.Fig2_Replay_FR[3].SxC_aclus.tolist()) # ['a0s0_109', 'a0s1_3', 'a0s1_29', 'a0s1_103', 'a0s3_90', 'a0s4_91', 'a0s4_95', 'a1s1_23', 'a1s2_25', 'a1s3_14', 'a1s3_30', 'a1s3_32', 'a2s0_8', 'a2s0_27', 'a2s1_27']\n",
    "assert _SxC_aclus_alt == SxC_aclus\n",
    "\n",
    "parsed_LxC_aclus_df: pd.DataFrame = ConciseSessionIdentifiers.parse_concise_abbreviated_neuron_identifying_strings(LxC_aclus)\n",
    "# parsed_LxC_aclus_df\n",
    "\n",
    "parsed_SxC_aclus_df: pd.DataFrame = ConciseSessionIdentifiers.parse_concise_abbreviated_neuron_identifying_strings(SxC_aclus)\n",
    "# parsed_SxC_aclus_df\n",
    "\n",
    "# novel_LxC_indicies, non_novel_LxC_indicies = \n",
    "# partition_df(parsed_LxC_aclus_df, partitionColumn='is_session_novel')\n",
    "# partition_df(parsed_SxC_aclus_df, partitionColumn='is_session_novel')\n",
    "\n",
    "novel_LxC_indicies = np.where(parsed_LxC_aclus_df['is_session_novel'])[0]\n",
    "non_novel_LxC_indicies = np.where(np.logical_not(parsed_LxC_aclus_df['is_session_novel']))[0]\n",
    "\n",
    "(novel_LxC_indicies, non_novel_LxC_indicies)\n",
    "\n",
    "novel_SxC_indicies = np.where(parsed_SxC_aclus_df['is_session_novel'])[0]\n",
    "non_novel_SxC_indicies = np.where(np.logical_not(parsed_SxC_aclus_df['is_session_novel']))[0]\n",
    "\n",
    "(novel_SxC_indicies, non_novel_SxC_indicies)\n",
    "\n",
    "## OUTPUTS: (novel_LxC_indicies, non_novel_LxC_indicies), (novel_SxC_indicies, non_novel_SxC_indicies)\n",
    "curr_idx: int = 0\n",
    "novel_Fig2_Replay_FR[curr_idx].LxC_aclus = novel_Fig2_Replay_FR[curr_idx].LxC_aclus[novel_LxC_indicies]\n",
    "novel_Fig2_Replay_FR[curr_idx].values = novel_Fig2_Replay_FR[curr_idx].values[novel_LxC_indicies]\n",
    "curr_idx: int = 1\n",
    "novel_Fig2_Replay_FR[curr_idx].LxC_aclus = novel_Fig2_Replay_FR[curr_idx].LxC_aclus[novel_LxC_indicies]\n",
    "novel_Fig2_Replay_FR[curr_idx].values = novel_Fig2_Replay_FR[curr_idx].values[novel_LxC_indicies]\n",
    "curr_idx: int = 2\n",
    "novel_Fig2_Replay_FR[curr_idx].SxC_aclus = novel_Fig2_Replay_FR[curr_idx].SxC_aclus[novel_SxC_indicies]\n",
    "novel_Fig2_Replay_FR[curr_idx].values = novel_Fig2_Replay_FR[curr_idx].values[novel_SxC_indicies]\n",
    "curr_idx: int = 3\n",
    "novel_Fig2_Replay_FR[curr_idx].SxC_aclus = novel_Fig2_Replay_FR[curr_idx].SxC_aclus[novel_SxC_indicies]\n",
    "novel_Fig2_Replay_FR[curr_idx].values = novel_Fig2_Replay_FR[curr_idx].values[novel_SxC_indicies]\n",
    "\n",
    "across_session_inst_fr_computation.Fig2_Replay_FR = novel_Fig2_Replay_FR"
   ]
  },
  {
   "cell_type": "code",
   "execution_count": null,
   "metadata": {},
   "outputs": [],
   "source": [
    "global_multi_session_context, _out_aggregate_fig_2 = AcrossSessionsVisualizations.across_sessions_bar_graphs(across_session_inst_fr_computation, num_sessions=num_sessions, enable_tiny_point_labels=True, enable_hover_labels=False, save_figure=False)"
   ]
  },
  {
   "cell_type": "code",
   "execution_count": null,
   "metadata": {},
   "outputs": [],
   "source": [
    "## group by 'is_novel_exposure'\n",
    "## for `long_short_fr_indicies_analysis_table`\n",
    "is_novel_partitioned_dfs = dict(zip(*partition_df(long_short_fr_indicies_analysis_table, partitionColumn='is_novel_exposure')))\n",
    "novel_session_uids = is_novel_partitioned_dfs[True]['session_uid'].unique().tolist()\n",
    "non_novel_session_uids = is_novel_partitioned_dfs[False]['session_uid'].unique().tolist()\n",
    "## build dicts:\n",
    "novel_only_inst_fr_dict = {k:v for k, v in across_sessions_instantaneous_fr_dict.items() if k.get_description(separator='|') in novel_session_uids}\n",
    "non_novel_inst_fr_dict = {k:v for k, v in across_sessions_instantaneous_fr_dict.items() if k.get_description(separator='|') not in novel_session_uids}\n",
    "# novel_only_inst_fr_dict"
   ]
  },
  {
   "cell_type": "code",
   "execution_count": null,
   "metadata": {},
   "outputs": [],
   "source": [
    "# all\n",
    "# graphics_output_dict |= AcrossSessionsVisualizations.across_sessions_firing_rate_index_figure(long_short_fr_indicies_analysis_results=long_short_fr_indicies_analysis_table, num_sessions=num_sessions, save_figure=False)\n",
    "# split based on session novelty:\n",
    "graphics_output_dict |= AcrossSessionsVisualizations.across_sessions_firing_rate_index_figure(long_short_fr_indicies_analysis_results=is_novel_partitioned_dfs[True], num_sessions=len(novel_session_uids), save_figure=False)\n",
    "graphics_output_dict |= AcrossSessionsVisualizations.across_sessions_firing_rate_index_figure(long_short_fr_indicies_analysis_results=is_novel_partitioned_dfs[False], num_sessions=len(non_novel_session_uids), save_figure=False)\n"
   ]
  },
  {
   "cell_type": "code",
   "execution_count": null,
   "metadata": {},
   "outputs": [],
   "source": [
    "graphics_output_dict |= AcrossSessionsVisualizations.across_sessions_long_and_short_firing_rate_replays_v_laps_figure(neuron_replay_stats_table=neuron_replay_stats_table, num_sessions=num_sessions, save_figure=True)\n"
   ]
  },
  {
   "cell_type": "code",
   "execution_count": null,
   "metadata": {},
   "outputs": [],
   "source": [
    "## Aggregate across all of the sessions to build a new combined `InstantaneousSpikeRateGroupsComputation`, which can be used to plot the \"PaperFigureTwo\", bar plots for many sessions.\n",
    "global_multi_session_context = IdentifyingContext(format_name='kdiba', num_sessions=num_sessions) # some global context across all of the sessions, not sure what to put here.\n",
    "\n"
   ]
  },
  {
   "cell_type": "code",
   "execution_count": null,
   "metadata": {},
   "outputs": [],
   "source": [
    "_restore_previous_matplotlib_settings_callback = matplotlib_configuration_update(is_interactive=True, backend='Qt5Agg')\n",
    "# _restore_previous_matplotlib_settings_callback = matplotlib_configuration_update(is_interactive=False, backend='AGG')\n",
    "\n",
    "plt.show()\n"
   ]
  },
  {
   "cell_type": "code",
   "execution_count": null,
   "metadata": {},
   "outputs": [],
   "source": [
    "plt.close('all')    "
   ]
  },
  {
   "cell_type": "code",
   "execution_count": null,
   "metadata": {
    "tags": [
     "diagonal-histogram"
    ]
   },
   "outputs": [],
   "source": [
    "np.sqrt(2)"
   ]
  },
  {
   "cell_type": "code",
   "execution_count": null,
   "metadata": {
    "tags": [
     "diagonal-histogram"
    ]
   },
   "outputs": [],
   "source": [
    "\n",
    "# ax_histdiagonal.\n",
    "\n"
   ]
  },
  {
   "cell_type": "code",
   "execution_count": null,
   "metadata": {
    "tags": [
     "diagonal-histogram"
    ]
   },
   "outputs": [],
   "source": [
    "max_num_bins = np.max(diagonal_hist_artist[0])\n",
    "max_num_bins\n",
    "# diagonal_hist_artist[1]"
   ]
  },
  {
   "cell_type": "code",
   "execution_count": null,
   "metadata": {},
   "outputs": [],
   "source": [
    "\n",
    "matplotlib_configuration_update(is_interactive=True, backend='Qt5Agg')\n",
    "matplotlib_output_container: MatplotlibRenderPlots = AcrossSessionsVisualizations.across_sessions_firing_rate_index_figure(long_short_fr_indicies_analysis_results=long_short_fr_indicies_analysis_table, num_sessions=num_sessions, save_figure=False)"
   ]
  },
  {
   "cell_type": "code",
   "execution_count": null,
   "metadata": {},
   "outputs": [],
   "source": [
    "duplicates = long_short_fr_indicies_analysis_table[['x_frs_index', 'y_frs_index']].duplicated().sum()\n",
    "print(f\"Number of duplicate rows: {duplicates}\")\n"
   ]
  },
  {
   "cell_type": "code",
   "execution_count": null,
   "metadata": {},
   "outputs": [],
   "source": [
    "print(long_short_fr_indicies_analysis_table[['x_frs_index', 'y_frs_index']].std())\n"
   ]
  },
  {
   "cell_type": "code",
   "execution_count": null,
   "metadata": {},
   "outputs": [],
   "source": [
    "\n",
    "# long_short_fr_indicies_analysis_table[['x_frs_index']].corrwith(long_short_fr_indicies_analysis_table['y_frs_index']) # long_short_fr_indicies_analysis_table[['x_frs_index']].corrwith(long_short_fr_indicies_analysis_table['y_frs_index'])\n",
    "# Compute correlation and p-value\n",
    "df_cleaned: pd.DataFrame = long_short_fr_indicies_analysis_table[['x_frs_index', 'y_frs_index']].dropna()\n",
    "df_cleaned\n",
    "\n",
    "print(df_cleaned.shape)\n",
    "corr, p_value = pearsonr(df_cleaned['x_frs_index'], df_cleaned['y_frs_index'])\n",
    "print(f\"Correlation: {corr}, P-value: {p_value}\")\n",
    "# Correlation: 0.48548405144431905, P-value: 1.0243398539233502e-48\n",
    "\n"
   ]
  },
  {
   "cell_type": "code",
   "execution_count": null,
   "metadata": {
    "tags": [
     "remove-input"
    ]
   },
   "outputs": [],
   "source": [
    "plt.close('all')"
   ]
  },
  {
   "cell_type": "code",
   "execution_count": null,
   "metadata": {
    "tags": [
     "remove-input"
    ]
   },
   "outputs": [],
   "source": [
    "graphics_output_dict.saved_figures[0][0] #.plot_data['saved_figures']"
   ]
  },
  {
   "cell_type": "code",
   "execution_count": null,
   "metadata": {
    "tags": [
     "remove-input"
    ]
   },
   "outputs": [],
   "source": [
    "from pyphocorehelpers.plotting.media_output_helpers import fig_to_clipboard\n",
    "\n",
    "fig_to_clipboard(fig)\n"
   ]
  },
  {
   "cell_type": "code",
   "execution_count": null,
   "metadata": {
    "tags": [
     "remove-input"
    ]
   },
   "outputs": [],
   "source": [
    "# copy_image_to_clipboard(graphics_output_dict['figures'][0])\n",
    "fig_to_clipboard(matplotlib_output_container.figures[0])"
   ]
  },
  {
   "cell_type": "code",
   "execution_count": null,
   "metadata": {},
   "outputs": [],
   "source": [
    "matplotlib_configuration_update(is_interactive=True, backend='Qt5Agg')\n",
    "graphics_output_dict = AcrossSessionsVisualizations.across_sessions_long_and_short_firing_rate_replays_v_laps_figure(neuron_replay_stats_table=neuron_replay_stats_table, num_sessions=num_sessions)"
   ]
  },
  {
   "cell_type": "code",
   "execution_count": null,
   "metadata": {},
   "outputs": [],
   "source": [
    "_save_matplotlib_fig(graphics_output_dict)\n"
   ]
  },
  {
   "cell_type": "code",
   "execution_count": null,
   "metadata": {
    "tags": [
     "remove-input"
    ]
   },
   "outputs": [],
   "source": [
    "## Load the saved across-session results:\n",
    "# Outputs: across_session_inst_fr_computation, across_sessions_instantaneous_fr_dict, across_sessions_instantaneous_frs_list, neuron_identities_table, long_short_fr_indicies_analysis_table, neuron_replay_stats_table\n",
    "\n",
    "BATCH_DATE_TO_USE = f'2024-10-22'\n",
    "inst_fr_output_filename: str = f'across_session_result_long_short_recomputed_inst_firing_rate_{BATCH_DATE_TO_USE}.pkl'\n",
    "\n",
    "inst_fr_output_file = collected_outputs_directory.joinpath(inst_fr_output_filename).resolve()\n",
    "Assert.path_exists(inst_fr_output_file)\n",
    "\n",
    "across_session_inst_fr_computation, across_sessions_instantaneous_fr_dict, across_sessions_instantaneous_frs_list = AcrossSessionsResults.load_across_sessions_data(global_data_root_parent_path=collected_outputs_directory, inst_fr_output_filename=inst_fr_output_filename)\n",
    "# across_sessions_instantaneous_fr_dict = loadData(global_batch_result_inst_fr_file_path)\n",
    "num_sessions = len(across_sessions_instantaneous_fr_dict)\n",
    "print(f'num_sessions: {num_sessions}')\n",
    "\n",
    "## Load all across-session tables from the pickles:\n",
    "output_path_suffix: str = f'{BATCH_DATE_TO_USE}'\n",
    "neuron_identities_table, long_short_fr_indicies_analysis_table, neuron_replay_stats_table = AcrossSessionTables.load_all_combined_tables(override_output_parent_path=collected_outputs_directory, output_path_suffix=output_path_suffix) # output_path_suffix=f'2023-10-04-GL-Recomp'\n",
    "num_sessions = len(neuron_replay_stats_table.session_uid.unique().to_numpy())\n",
    "print(f'num_sessions: {num_sessions}')\n",
    "# neuron_replay_stats_table\n"
   ]
  },
  {
   "cell_type": "code",
   "execution_count": null,
   "metadata": {},
   "outputs": [],
   "source": [
    "neptuner.stop()"
   ]
  },
  {
   "cell_type": "markdown",
   "metadata": {},
   "source": [
    "## 2024-09-04 - Batch Output Files"
   ]
  },
  {
   "cell_type": "code",
   "execution_count": null,
   "metadata": {
    "tags": [
     "file_output",
     "run_main"
    ]
   },
   "outputs": [],
   "source": [
    "from neuropy.core.user_annotations import UserAnnotationsManager\n",
    "from pyphocorehelpers.Filesystem.metadata_helpers import FilesystemMetadata, get_file_metadata\n",
    "from pyphocorehelpers.Filesystem.path_helpers import discover_data_files, generate_copydict, copy_movedict, copy_file, save_copydict_to_text_file, read_copydict_from_text_file, invert_filedict\n",
    "from pyphoplacecellanalysis.General.Batch.runBatch import get_file_str_if_file_exists\n",
    "from pyphoplacecellanalysis.SpecificResults.AcrossSessionResults import check_output_h5_files, copy_files_in_filelist_to_dest\n",
    "from pyphoplacecellanalysis.General.Batch.runBatch import ConcreteSessionFolder, BackupMethods\n",
    "\n",
    "# a_batch_progress_df = included_session_batch_progress_df.copy()\n",
    "included_session_contexts\n",
    "h5_contexts_paths_dict\n",
    "# h5_session_contexts\n",
    "\n",
    "debug_print = False\n",
    "known_global_data_root_parent_paths = [Path(r'/nfs/turbo/umms-kdiba/Data'), Path(r'W:\\Data'), Path(r'/home/halechr/cloud/turbo/Data'), Path(r'/media/halechr/MAX/Data'), Path(r'/Volumes/MoverNew/data')] # , Path(r'/home/halechr/FastData'), Path(r'/home/halechr/turbo/Data'), Path(r'W:\\Data'), Path(r'/home/halechr/cloud/turbo/Data')\n",
    "global_data_root_parent_path = find_first_extant_path(known_global_data_root_parent_paths)\n",
    "assert global_data_root_parent_path.exists(), f\"global_data_root_parent_path: {global_data_root_parent_path} does not exist! Is the right computer's config commented out above?\"\n",
    "## Build Pickle Path:\n",
    "# Hardcoded included_session_contexts:\n",
    "included_session_contexts = UserAnnotationsManager.get_hardcoded_good_sessions()\n",
    "good_session_concrete_folders = ConcreteSessionFolder.build_concrete_session_folders(global_data_root_parent_path, included_session_contexts)\n",
    "\n",
    "# Output Paths:\n",
    "included_h5_paths = [get_file_str_if_file_exists(v.pipeline_results_h5) for v in good_session_concrete_folders]\n",
    "# copy_dict = ConcreteSessionFolder.build_backup_copydict(good_session_concrete_folders, backup_mode=BackupMethods.RenameInSourceDirectory, only_include_file_types=['local_pkl', 'global_pkl'])\n",
    "check_output_h5_files(included_h5_paths)\n",
    "\n",
    "## OUTPUTS: included_h5_paths, included_session_contexts, good_session_concrete_folders\n",
    "\n",
    "included_h5_paths\n",
    "\n",
    "# included_file_types_paths_dict = {'h5': included_h5_paths, 'recomputed_inst_fr_comps': []}\n",
    "# included_file_types_paths_dict['recomputed_inst_fr_comps'] = [get_file_path_if_file_exists(v.output_folder.joinpath(f'{RESULT_DATE_TO_USE}_recomputed_inst_fr_comps_0.0005.h5').resolve()) for v in good_session_concrete_folders]\n",
    "# included_file_types_paths_dict\n"
   ]
  },
  {
   "cell_type": "markdown",
   "metadata": {},
   "source": [
    "# Plotting via Plotly\n",
    "`!pip install kaleido==\"v0.1.0.post1\" `"
   ]
  },
  {
   "cell_type": "code",
   "execution_count": 13,
   "metadata": {
    "tags": [
     "plotly-figure",
     "active-2024-10-23",
     "best",
     "run_main"
    ]
   },
   "outputs": [],
   "source": [
    "from functools import partial\n",
    "from pyphoplacecellanalysis.Pho2D.plotly.Extensions.plotly_helpers import add_copy_save_action_buttons\n",
    "from pyphoplacecellanalysis.Pho2D.plotly.Extensions.plotly_helpers import plotly_pre_post_delta_scatter\n",
    "from pyphoplacecellanalysis.SpecificResults.PhoDiba2023Paper import _perform_plot_pre_post_delta_scatter\n",
    "from neuropy.utils.result_context import DisplaySpecifyingIdentifyingContext\n",
    "from pyphoplacecellanalysis.Pho2D.plotly.Extensions.plotly_helpers import PlotlyFigureContainer\n",
    "\n",
    "## INPUTS: earliest_delta_aligned_t_start, latest_delta_aligned_t_end\n",
    "is_dark_mode, template = PlotlyHelpers.get_plotly_template(is_dark_mode=False)\n",
    "# should_save: bool = True\n",
    "should_save: bool = False\n",
    "\n",
    "\n",
    "_perform_plot_pre_post_delta_scatter = partial(\n",
    "    _perform_plot_pre_post_delta_scatter,\n",
    "    time_delta_tuple=(earliest_delta_aligned_t_start, 0.0, latest_delta_aligned_t_end),\n",
    "    fig_size_kwargs=fig_size_kwargs,\n",
    "    is_dark_mode=is_dark_mode,\n",
    "    save_plotly=save_plotly,\n",
    ")\n",
    "\n",
    "_perform_plot_pre_post_delta_scatter_with_embedded_context = partial(\n",
    "    _perform_plot_pre_post_delta_scatter,\n",
    "    data_context=None,\n",
    ")\n",
    "\n",
    "## Set dataframe context metadata\n",
    "\n",
    "def _perform_update_df_context_metadata(data_context: IdentifyingContext, concatenated_ripple_df: pd.DataFrame):\n",
    "    \"\"\" sets the metadata in-place for the dataframe \"\"\"\n",
    "    concatenated_ripple_df.attrs.update(**dict(data_context=deepcopy(data_context)))\n",
    "\n",
    "_perform_update_df_context_metadata(data_context=IdentifyingContext(epochs_name='laps', data_grain='per_epoch', title_prefix=\"Lap Per Epoch\", dataframe_name='df'), concatenated_ripple_df=all_sessions_laps_df)\n",
    "_perform_update_df_context_metadata(data_context=IdentifyingContext(epochs_name='laps', data_grain='per_time_bin', title_prefix=\"Lap Individual Time Bins\", dataframe_name='time_bin_df'), concatenated_ripple_df=all_sessions_laps_time_bin_df)\n",
    "_perform_update_df_context_metadata(data_context = IdentifyingContext(epochs_name='PBE', data_grain='per_epoch', title_prefix=\"PBE Per Epoch\", dataframe_name='df'), concatenated_ripple_df = all_sessions_ripple_df)\n",
    "_perform_update_df_context_metadata(data_context = IdentifyingContext(epochs_name='PBE', data_grain='per_time_bin', title_prefix=\"PBE Individual Time Bins\", dataframe_name='time_bin_df'), concatenated_ripple_df = all_sessions_ripple_time_bin_df)\n",
    "_perform_update_df_context_metadata(data_context = IdentifyingContext(epochs_name='PBE', data_grain='per_epoch', dataframe_name='MultiMeasure_ripple_df', title_prefix=\"multiMeasure - PBE Per Epoch\"), concatenated_ripple_df = all_sessions_MultiMeasure_ripple_df)\n",
    "_perform_update_df_context_metadata(data_context = IdentifyingContext(epochs_name='PBE', data_grain='per_epoch', dataframe_name='all_scores_ripple_df', title_prefix=\"allScores - PBE Per Epoch\"), concatenated_ripple_df = all_sessions_all_scores_ripple_df)\n",
    "_perform_update_df_context_metadata(data_context = IdentifyingContext(epochs_name='laps', data_grain='per_epoch', dataframe_name='MultiMeasure_laps_df', title_prefix=\"multiMeasure - Lap Per Epoch\"), concatenated_ripple_df = all_sessions_MultiMeasure_laps_df)\n",
    "\n",
    "\n",
    "# all_sessions_MultiMeasure_ripple_df.attrs\n"
   ]
  },
  {
   "cell_type": "markdown",
   "metadata": {},
   "source": [
    "# Unfiltered"
   ]
  },
  {
   "cell_type": "code",
   "execution_count": null,
   "metadata": {
    "tags": [
     "plotly-figure"
    ]
   },
   "outputs": [],
   "source": [
    "\n",
    "\n",
    "# grainularity_desc: str = 'by-time-bin'\n",
    "# laps_df: pd.DataFrame = all_sessions_laps_time_bin_df\n",
    "# ripple_df: pd.DataFrame = all_sessions_ripple_time_bin_df\n",
    "# _laps_histogram_out, _ripple_histogram_out = _perform_plot_pre_post_delta_scatter(grainularity_desc='by-time-bin', laps_df=all_sessions_laps_time_bin_df, ripple_df=all_sessions_ripple_time_bin_df)\n",
    "\n",
    "# ==================================================================================================================== #\n",
    "# Produces all four hist/scatter/hist plotly figures with clear labels in one call                                     #\n",
    "# ==================================================================================================================== #\n",
    "\n",
    "# BEGIN CALL _________________________________________________________________________________________________________ #\n",
    "new_fig, new_fig_context, _extras_output_dict, figure_out_paths = _perform_plot_pre_post_delta_scatter(data_context=IdentifyingContext(epochs_name='laps', data_grain='per_epoch', title_prefix=\"Lap Per Epoch\", dataframe_name='df'), concatenated_ripple_df=deepcopy(all_sessions_laps_df))\n",
    "# new_fig\n",
    "\n",
    "new_fig, new_fig_context, _extras_output_dict, figure_out_paths = _perform_plot_pre_post_delta_scatter(data_context=IdentifyingContext(epochs_name='laps', data_grain='per_time_bin', title_prefix=\"Lap Individual Time Bins\", dataframe_name='time_bin_df'), concatenated_ripple_df=deepcopy(all_sessions_laps_time_bin_df))\n",
    "# new_fig\n",
    "\n",
    "new_fig, new_fig_context, _extras_output_dict, figure_out_paths = _perform_plot_pre_post_delta_scatter(data_context = IdentifyingContext(epochs_name='PBE', data_grain='per_epoch', title_prefix=\"PBE Per Epoch\", dataframe_name='df'), concatenated_ripple_df = deepcopy(all_sessions_ripple_df))\n",
    "# new_fig\n",
    "\n",
    "new_fig, new_fig_context, _extras_output_dict, figure_out_paths = _perform_plot_pre_post_delta_scatter(data_context = IdentifyingContext(epochs_name='PBE', data_grain='per_time_bin', title_prefix=\"PBE Individual Time Bins\", dataframe_name='time_bin_df'), concatenated_ripple_df = deepcopy(all_sessions_ripple_time_bin_df))\n",
    "# new_fig\n",
    "\n"
   ]
  },
  {
   "cell_type": "markdown",
   "metadata": {},
   "source": [
    "# 🟢 Filtered (for specific qclus/firing_Hz/replays"
   ]
  },
  {
   "cell_type": "code",
   "execution_count": 14,
   "metadata": {
    "tags": [
     "run_main",
     "run-filtered-main"
    ]
   },
   "outputs": [],
   "source": [
    "# all_sessions_MultiMeasure_ripple_df\n",
    "# all_sessions_all_scores_ripple_df\n",
    "\n",
    "def _add_animal_name_to_session_key(df: pd.DataFrame):\n",
    "    \"\"\" Split 'session_name' to the individual columns:\n",
    "        adds columns ['format_name', 'animal', 'exper_name'] based on 'session_name'\n",
    "    \"\"\"\n",
    "    if 'format_name' not in df.columns:\n",
    "        df['format_name'] = df['session_name'].map(lambda x: x.split('_', maxsplit=3)[0]) ## add animal name\n",
    "    if 'animal' not in df.columns:\n",
    "        df['animal'] = df['session_name'].map(lambda x: x.split('_', maxsplit=3)[1]) ## add animal name\n",
    "        ## strip the '01' suffix from each\n",
    "    if 'exper_name' not in df.columns:\n",
    "        df['exper_name'] = df['session_name'].map(lambda x: x.split('_', maxsplit=3)[2]) # not needed\n",
    "    return df\n",
    "\n",
    "\n",
    "all_sessions_all_scores_ripple_df = _add_animal_name_to_session_key(df=deepcopy(all_sessions_all_scores_ripple_df))\n",
    "all_sessions_MultiMeasure_ripple_df = _add_animal_name_to_session_key(df=deepcopy(all_sessions_MultiMeasure_ripple_df))\n",
    "all_sessions_ripple_df = _add_animal_name_to_session_key(df=deepcopy(all_sessions_ripple_df))\n",
    "all_sessions_ripple_time_bin_df = _add_animal_name_to_session_key(df=deepcopy(all_sessions_ripple_time_bin_df))\n",
    "# all_sessions_all_scores_ripple_df"
   ]
  },
  {
   "cell_type": "code",
   "execution_count": 19,
   "metadata": {},
   "outputs": [
    {
     "data": {
      "text/html": [
       "<div>\n",
       "<style scoped>\n",
       "    .dataframe tbody tr th:only-of-type {\n",
       "        vertical-align: middle;\n",
       "    }\n",
       "\n",
       "    .dataframe tbody tr th {\n",
       "        vertical-align: top;\n",
       "    }\n",
       "\n",
       "    .dataframe thead th {\n",
       "        text-align: right;\n",
       "    }\n",
       "</style>\n",
       "<table border=\"1\" class=\"dataframe\">\n",
       "  <thead>\n",
       "    <tr style=\"text-align: right;\">\n",
       "      <th></th>\n",
       "      <th>0</th>\n",
       "      <th>1</th>\n",
       "      <th>2</th>\n",
       "      <th>3</th>\n",
       "      <th>4</th>\n",
       "      <th>5</th>\n",
       "      <th>6</th>\n",
       "      <th>7</th>\n",
       "      <th>8</th>\n",
       "      <th>9</th>\n",
       "    </tr>\n",
       "  </thead>\n",
       "  <tbody>\n",
       "    <tr>\n",
       "      <th>0</th>\n",
       "      <td>withNormalComputedReplays</td>\n",
       "      <td>qclu</td>\n",
       "      <td>[1, 2, 4, 6, 7, 9]</td>\n",
       "      <td>frateThresh</td>\n",
       "      <td>1.0</td>\n",
       "      <td>None</td>\n",
       "      <td>None</td>\n",
       "      <td>None</td>\n",
       "      <td>None</td>\n",
       "      <td>None</td>\n",
       "    </tr>\n",
       "    <tr>\n",
       "      <th>1</th>\n",
       "      <td>withNormalComputedReplays</td>\n",
       "      <td>qclu</td>\n",
       "      <td>[1, 2, 4, 6, 7, 9]</td>\n",
       "      <td>frateThresh</td>\n",
       "      <td>1.0</td>\n",
       "      <td>None</td>\n",
       "      <td>None</td>\n",
       "      <td>None</td>\n",
       "      <td>None</td>\n",
       "      <td>None</td>\n",
       "    </tr>\n",
       "    <tr>\n",
       "      <th>2</th>\n",
       "      <td>withNormalComputedReplays</td>\n",
       "      <td>qclu</td>\n",
       "      <td>[1, 2, 4, 6, 7, 9]</td>\n",
       "      <td>frateThresh</td>\n",
       "      <td>1.0</td>\n",
       "      <td>None</td>\n",
       "      <td>None</td>\n",
       "      <td>None</td>\n",
       "      <td>None</td>\n",
       "      <td>None</td>\n",
       "    </tr>\n",
       "    <tr>\n",
       "      <th>3</th>\n",
       "      <td>withNormalComputedReplays</td>\n",
       "      <td>qclu</td>\n",
       "      <td>[1, 2, 4, 6, 7, 9]</td>\n",
       "      <td>frateThresh</td>\n",
       "      <td>1.0</td>\n",
       "      <td>None</td>\n",
       "      <td>None</td>\n",
       "      <td>None</td>\n",
       "      <td>None</td>\n",
       "      <td>None</td>\n",
       "    </tr>\n",
       "    <tr>\n",
       "      <th>4</th>\n",
       "      <td>withNormalComputedReplays</td>\n",
       "      <td>qclu</td>\n",
       "      <td>[1, 2, 4, 6, 7, 9]</td>\n",
       "      <td>frateThresh</td>\n",
       "      <td>1.0</td>\n",
       "      <td>None</td>\n",
       "      <td>None</td>\n",
       "      <td>None</td>\n",
       "      <td>None</td>\n",
       "      <td>None</td>\n",
       "    </tr>\n",
       "    <tr>\n",
       "      <th>...</th>\n",
       "      <td>...</td>\n",
       "      <td>...</td>\n",
       "      <td>...</td>\n",
       "      <td>...</td>\n",
       "      <td>...</td>\n",
       "      <td>...</td>\n",
       "      <td>...</td>\n",
       "      <td>...</td>\n",
       "      <td>...</td>\n",
       "      <td>...</td>\n",
       "    </tr>\n",
       "    <tr>\n",
       "      <th>19146</th>\n",
       "      <td>withNormalComputedReplays</td>\n",
       "      <td>qclu</td>\n",
       "      <td>[1, 2, 4, 6, 7, 9]</td>\n",
       "      <td>frateThresh</td>\n",
       "      <td>5.0</td>\n",
       "      <td>None</td>\n",
       "      <td>None</td>\n",
       "      <td>None</td>\n",
       "      <td>None</td>\n",
       "      <td>None</td>\n",
       "    </tr>\n",
       "    <tr>\n",
       "      <th>19147</th>\n",
       "      <td>withNormalComputedReplays</td>\n",
       "      <td>qclu</td>\n",
       "      <td>[1, 2, 4, 6, 7, 9]</td>\n",
       "      <td>frateThresh</td>\n",
       "      <td>5.0</td>\n",
       "      <td>None</td>\n",
       "      <td>None</td>\n",
       "      <td>None</td>\n",
       "      <td>None</td>\n",
       "      <td>None</td>\n",
       "    </tr>\n",
       "    <tr>\n",
       "      <th>19148</th>\n",
       "      <td>withNormalComputedReplays</td>\n",
       "      <td>qclu</td>\n",
       "      <td>[1, 2, 4, 6, 7, 9]</td>\n",
       "      <td>frateThresh</td>\n",
       "      <td>5.0</td>\n",
       "      <td>None</td>\n",
       "      <td>None</td>\n",
       "      <td>None</td>\n",
       "      <td>None</td>\n",
       "      <td>None</td>\n",
       "    </tr>\n",
       "    <tr>\n",
       "      <th>19149</th>\n",
       "      <td>withNormalComputedReplays</td>\n",
       "      <td>qclu</td>\n",
       "      <td>[1, 2, 4, 6, 7, 9]</td>\n",
       "      <td>frateThresh</td>\n",
       "      <td>5.0</td>\n",
       "      <td>None</td>\n",
       "      <td>None</td>\n",
       "      <td>None</td>\n",
       "      <td>None</td>\n",
       "      <td>None</td>\n",
       "    </tr>\n",
       "    <tr>\n",
       "      <th>19150</th>\n",
       "      <td>withNormalComputedReplays</td>\n",
       "      <td>qclu</td>\n",
       "      <td>[1, 2, 4, 6, 7, 9]</td>\n",
       "      <td>frateThresh</td>\n",
       "      <td>5.0</td>\n",
       "      <td>None</td>\n",
       "      <td>None</td>\n",
       "      <td>None</td>\n",
       "      <td>None</td>\n",
       "      <td>None</td>\n",
       "    </tr>\n",
       "  </tbody>\n",
       "</table>\n",
       "<p>19151 rows × 10 columns</p>\n",
       "</div>"
      ],
      "text/plain": [
       "                               0     1                   2            3    4  \\\n",
       "0      withNormalComputedReplays  qclu  [1, 2, 4, 6, 7, 9]  frateThresh  1.0   \n",
       "1      withNormalComputedReplays  qclu  [1, 2, 4, 6, 7, 9]  frateThresh  1.0   \n",
       "2      withNormalComputedReplays  qclu  [1, 2, 4, 6, 7, 9]  frateThresh  1.0   \n",
       "3      withNormalComputedReplays  qclu  [1, 2, 4, 6, 7, 9]  frateThresh  1.0   \n",
       "4      withNormalComputedReplays  qclu  [1, 2, 4, 6, 7, 9]  frateThresh  1.0   \n",
       "...                          ...   ...                 ...          ...  ...   \n",
       "19146  withNormalComputedReplays  qclu  [1, 2, 4, 6, 7, 9]  frateThresh  5.0   \n",
       "19147  withNormalComputedReplays  qclu  [1, 2, 4, 6, 7, 9]  frateThresh  5.0   \n",
       "19148  withNormalComputedReplays  qclu  [1, 2, 4, 6, 7, 9]  frateThresh  5.0   \n",
       "19149  withNormalComputedReplays  qclu  [1, 2, 4, 6, 7, 9]  frateThresh  5.0   \n",
       "19150  withNormalComputedReplays  qclu  [1, 2, 4, 6, 7, 9]  frateThresh  5.0   \n",
       "\n",
       "          5     6     7     8     9  \n",
       "0      None  None  None  None  None  \n",
       "1      None  None  None  None  None  \n",
       "2      None  None  None  None  None  \n",
       "3      None  None  None  None  None  \n",
       "4      None  None  None  None  None  \n",
       "...     ...   ...   ...   ...   ...  \n",
       "19146  None  None  None  None  None  \n",
       "19147  None  None  None  None  None  \n",
       "19148  None  None  None  None  None  \n",
       "19149  None  None  None  None  None  \n",
       "19150  None  None  None  None  None  \n",
       "\n",
       "[19151 rows x 10 columns]"
      ]
     },
     "execution_count": 19,
     "metadata": {},
     "output_type": "execute_result"
    }
   ],
   "source": [
    "## Split on 'custom_replay_name' field\n",
    "all_sessions_all_scores_ripple_df['custom_replay_name'].str.split(r'[_-]', expand=True, regex=True)"
   ]
  },
  {
   "cell_type": "markdown",
   "metadata": {},
   "source": [
    "## Get filtered for a particular type of replay:"
   ]
  },
  {
   "cell_type": "code",
   "execution_count": 20,
   "metadata": {
    "tags": [
     "run-filtered-main",
     "run_main"
    ]
   },
   "outputs": [
    {
     "name": "stdout",
     "output_type": "stream",
     "text": [
      "Please select at least one Time Bin Size.\n",
      "Please select at least one Time Bin Size.\n"
     ]
    },
    {
     "data": {
      "application/vnd.jupyter.widget-view+json": {
       "model_id": "da688da611a34504bb4c2c77e1e8ebd1",
       "version_major": 2,
       "version_minor": 0
      },
      "text/plain": [
       "VBox(children=(HBox(children=(Dropdown(description='Replay Name:', layout=Layout(width='500px'), options=('wit…"
      ]
     },
     "metadata": {},
     "output_type": "display_data"
    },
    {
     "name": "stdout",
     "output_type": "stream",
     "text": [
      "Width: 1800, Height: 480\n"
     ]
    },
    {
     "data": {
      "application/javascript": "\n                const img = new Image();\n                img.src = 'data:image/png;base64,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';\n                img.onload = function() {\n                    const canvas = document.createElement('canvas');\n                    canvas.width = img.width;\n                    canvas.height = img.height;\n                    const ctx = canvas.getContext('2d');\n                    ctx.drawImage(img, 0, 0);\n                    canvas.toBlob(function(blob) {\n                        const item = new ClipboardItem({ 'image/png': blob });\n                        navigator.clipboard.write([item]).then(function() {\n                            console.log('Image copied to clipboard');\n                        }).catch(function(error) {\n                            console.error('Error copying image to clipboard: ', error);\n                        });\n                    });\n                };\n            ",
      "text/plain": [
       "<IPython.core.display.Javascript object>"
      ]
     },
     "metadata": {},
     "output_type": "display_data"
    },
    {
     "name": "stdout",
     "output_type": "stream",
     "text": [
      "Width: 1800, Height: 480\n"
     ]
    },
    {
     "data": {
      "application/javascript": "\n                const img = new Image();\n                img.src = 'data:image/png;base64,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';\n                img.onload = function() {\n                    const canvas = document.createElement('canvas');\n                    canvas.width = img.width;\n                    canvas.height = img.height;\n                    const ctx = canvas.getContext('2d');\n                    ctx.drawImage(img, 0, 0);\n                    canvas.toBlob(function(blob) {\n                        const item = new ClipboardItem({ 'image/png': blob });\n                        navigator.clipboard.write([item]).then(function() {\n                            console.log('Image copied to clipboard');\n                        }).catch(function(error) {\n                            console.error('Error copying image to clipboard: ', error);\n                        });\n                    });\n                };\n            ",
      "text/plain": [
       "<IPython.core.display.Javascript object>"
      ]
     },
     "metadata": {},
     "output_type": "display_data"
    }
   ],
   "source": [
    "# pd.options.mode.copy_on_write = False\n",
    "# pd.options.mode.chained_assignment = 'raise'\n",
    "# pd.options.mode.chained_assignment = None\n",
    "from pyphoplacecellanalysis.SpecificResults.PhoDiba2023Paper import DataFrameFilter\n",
    "\n",
    "\n",
    "assert 'best_overall_quantile' in all_sessions_all_scores_ripple_df\n",
    "assert 'best_overall_quantile' in all_sessions_MultiMeasure_ripple_df\n",
    "\n",
    "min_wcorr_threshold: float = 0.7\n",
    "high_pearsonr_threshold: float = 0.9\n",
    "high_shuffle_score_threshold: float = 0.9\n",
    "high_shuffle_wcorr_z_score_threshold: float = 0.9\n",
    "minimum_duration_event_threshold: float = 0.025 * 6 # at least 4 time bins\n",
    "\n",
    "additional_filter_predicates = {\n",
    "    'high_wcorr': (lambda df: np.any((df[['long_best_wcorr', 'short_best_wcorr']].abs() > min_wcorr_threshold), axis=1)),\n",
    "    'user_selected': lambda df: np.all((df[['is_user_annotated_epoch', 'is_valid_epoch']]), axis=1),\n",
    "    'high_pearsonr_corr': (lambda df: np.any((df[['long_LR_pf_peak_x_pearsonr', 'long_RL_pf_peak_x_pearsonr', 'short_LR_pf_peak_x_pearsonr', 'short_RL_pf_peak_x_pearsonr']].abs() > high_pearsonr_threshold), axis=1)),\n",
    "    'high_shuffle_percentile_score': (lambda df: (df['best_overall_quantile'].abs() > high_shuffle_score_threshold)),\n",
    "    'high_shuffle_wcorr_z_score': (lambda df: (df['best_overall_wcorr_z'].abs() > high_shuffle_wcorr_z_score_threshold)),\n",
    "\t'long_duration':  (lambda df: (df['duration'] >= minimum_duration_event_threshold)),\n",
    "}\n",
    "\n",
    "## ensure that the qclu is always before the frateThresh, reversing them if needed:\n",
    "replay_name: str = 'withNormalComputedReplays-qclu_[1, 2, 4, 6, 7, 9]-frateThresh_5.0'\n",
    "# time_bin_size: float = 0.025\n",
    "time_bin_size: Tuple[float] = (0.025, 0.058)\n",
    "\n",
    "_build_filter_changed_plotly_plotting_callback_fn = DataFrameFilter._build_plot_callback(earliest_delta_aligned_t_start=earliest_delta_aligned_t_start, latest_delta_aligned_t_end=latest_delta_aligned_t_end, save_plotly=save_plotly, resolution_multiplier=resolution_multiplier,\n",
    "\t\t\t\t\t\t\t\t\t\t\t\t\t\t\t\t\t\t\t\t\t\t#   px_scatter_kwargs = {'symbol': 'session_name'},\n",
    "\t\t\t\t\t\t\t\t\t\t\t\t\t\t\t\t\t\t\t\t\t\t# px_scatter_kwargs = {'color': 'session_name', 'facet_row': 'time_bin_size'}, hist_kwargs = {'color': 'session_name', 'facet_row': 'time_bin_size'},\n",
    "\t\t\t\t\t\t\t\t\t\t\t\t\t\t\t\t\t\t\t\t\t\t# px_scatter_kwargs = {'color': 'session_name'}, hist_kwargs = {'color': 'session_name'}, ## Split by session_name\n",
    "                                            px_scatter_kwargs = {\n",
    "                                                # 'color': 'session_name',\n",
    "\t\t\t\t\t\t\t\t\t\t\t\t'color': 'animal',\n",
    "    \t\t\t\t\t\t\t\t\t\t    # 'size': 'session_experience_rank', 'size_max': 10,\n",
    "\t\t\t\t\t\t\t\t\t\t\t\t# 'size': 'duration', 'size_max': 10,\n",
    "\t\t\t\t\t\t\t\t\t\t\t},\n",
    "\t\t\t\t\t\t\t\t\t\t\t hist_kwargs = {\n",
    "\t\t\t\t\t\t\t\t\t\t\t\t# 'color': 'session_name',\n",
    "\t\t\t\t\t\t\t\t\t\t\t\t'color': 'animal',\n",
    "                                            }, ## Split by session_name\n",
    "\t\t\t\t\t\t\t\t\t\t\t\t\t\t\t\t\t\t\t\t\t\t  \n",
    ")\n",
    "\n",
    "df_filter: DataFrameFilter = DataFrameFilter(\n",
    "    all_sessions_ripple_df=all_sessions_ripple_df,\n",
    "    all_sessions_ripple_time_bin_df=all_sessions_ripple_time_bin_df,\n",
    "    all_sessions_MultiMeasure_ripple_df=all_sessions_MultiMeasure_ripple_df,\n",
    "    all_sessions_all_scores_ripple_df=all_sessions_all_scores_ripple_df,\n",
    "    all_sessions_laps_df=all_sessions_laps_df,\n",
    "    all_sessions_laps_time_bin_df=all_sessions_laps_time_bin_df,\n",
    "    all_sessions_MultiMeasure_laps_df=all_sessions_MultiMeasure_laps_df,\n",
    "    additional_filter_predicates=additional_filter_predicates,\n",
    "    on_filtered_dataframes_changed_callback_fns={'build_filter_changed_plotly_plotting_callback_fn': _build_filter_changed_plotly_plotting_callback_fn},\n",
    "    active_plot_df_name='filtered_all_sessions_all_scores_ripple_df',\n",
    ")\n",
    "\n",
    "# Set initial values: ________________________________________________________________________________________________ #\n",
    "df_filter.replay_name = replay_name # 'withNormalComputedReplays-frateThresh_5.0-qclu_[1, 2, 4, 6, 7, 9]'\n",
    "# df_filter.time_bin_size = (time_bin_size, )\n",
    "# df_filter.time_bin_size = time_bin_size\n",
    "# df_filter.time_bin_size = (0.025, 0.058)\n",
    "df_filter.update_filters()\n",
    "df_filter.display()"
   ]
  },
  {
   "cell_type": "code",
   "execution_count": null,
   "metadata": {},
   "outputs": [],
   "source": [
    "df_filter.filtered_all_sessions_all_scores_ripple_df['custom_replay_name'].unique()\n",
    "parts = 'withNormalComputedReplays-qclu_[1, 2, 4, 6, 7, 9]-frateThresh_5.0'.split('-')\n",
    "[v.split('_', maxsplit=1) for v in parts]"
   ]
  },
  {
   "cell_type": "code",
   "execution_count": null,
   "metadata": {},
   "outputs": [],
   "source": [
    "df_filter.active_plot_df.attrs\n",
    "\n",
    "# {v.split('_', maxsplit=1)[0]:v.split('_', maxsplit=1)[1] for v in parts}\n"
   ]
  },
  {
   "cell_type": "code",
   "execution_count": null,
   "metadata": {},
   "outputs": [],
   "source": [
    "# Saving the DataFrameFilter instance to an HDF5 file\n",
    "dataframe_filter_obj_out_path = Path(r'C:\\Users\\pho\\repos\\Spike3DWorkEnv\\Spike3D\\EXTERNAL\\PhoDibaPaper2024Book\\data').joinpath('dataframe_filter_data.hdf5')\n",
    "df_filter.save_to_hdf(dataframe_filter_obj_out_path)\n",
    "print(f'dataframe_filter_obj_out_path: \"{dataframe_filter_obj_out_path}\"')"
   ]
  },
  {
   "cell_type": "code",
   "execution_count": null,
   "metadata": {},
   "outputs": [],
   "source": [
    "fig = df_filter.figure_widget\n",
    "# Customize the hovertemplate\n",
    "fig.update_traces(\n",
    "    hovertemplate=\"<b>sess:</b> %{customdata[0]}<br>\"\n",
    "                  \"<b>X:</b> %{x}<br>\"\n",
    "                  \"<b>Y:</b> %{y}<br>\"\n",
    "                  \"<b>custom_replay:</b> %{customdata[1]}\",\n",
    "    customdata=df_filter.active_plot_df[[\"session_name\", \"custom_replay_name\", \"start\"]].values\n",
    ")\n",
    "\n",
    "def on_click(trace, points, selector):\n",
    "    if points.point_inds:\n",
    "        ind = points.point_inds[0]\n",
    "        session_name = df_filter.active_plot_df['session_name'].iloc[ind]\n",
    "        custom_replay_name = df_filter.active_plot_df['custom_replay_name'].iloc[ind]\n",
    "        print(f\"Clicked point index: {ind}\")\n",
    "        print(f\"session_name: {session_name}\")\n",
    "        print(f\"custom_replay_name: {custom_replay_name}\")\n",
    "\n",
    "fig.data[0].on_click(on_click)\n",
    "\n"
   ]
  },
  {
   "cell_type": "code",
   "execution_count": null,
   "metadata": {},
   "outputs": [],
   "source": [
    "df_filter.filtered_all_sessions_all_scores_ripple_df[df_filter.filtered_all_sessions_all_scores_ripple_df['pre_post_delta_category'] == 'post-delta']\n"
   ]
  },
  {
   "cell_type": "code",
   "execution_count": null,
   "metadata": {},
   "outputs": [],
   "source": [
    "from typing import Callable, Optional, List, Dict, Union, Any\n",
    "import ipywidgets as widgets\n",
    "from ipywidgets import HBox, VBox\n",
    "from IPython.display import display, HTML, Javascript\n",
    "from pathlib import Path\n",
    "from pyphocorehelpers.gui.Jupyter.simple_widgets import filesystem_path_folder_contents_widget\n",
    "import base64\n",
    "\n",
    "# from pyphocorehelpers.gui.Jupyter.simple_widgets import file_save_widget\n",
    "\n",
    "# curr_collected_outputs_folder = Path(output_path_dicts['neuron_replay_stats_table']['.csv']).resolve().parent       \n",
    "# file_save_widget(None)\n",
    "\n",
    "import solara # `pip install \"solara[assets]`\n",
    "\n",
    "# data = \"This is the content of the file\"\n",
    "    \n",
    "# type(df_filter.button_download)\n",
    "df_filter.button_download.\n",
    "\n",
    "self.button_download =  _build_solera_file_download_widget(fig=self.figure_widget, filename=\"figure-image.png\")\n",
    "\n"
   ]
  },
  {
   "cell_type": "code",
   "execution_count": null,
   "metadata": {},
   "outputs": [],
   "source": [
    "fig = df_filter.figure_widget\n",
    "# Convert the figure to a PNG image\n",
    "# encoded_image = base64.b64encode(png_bytes).decode('utf-8')\n",
    "\n",
    "\n",
    "png_bytes = pio.to_image(fig, format='png')\n",
    "mime_type=\"image/png\"\n",
    "filename=\"figure-image.png\"\n",
    "data = deepcopy(png_bytes)\n",
    "\n",
    "a_path = Path(filename).resolve()\n",
    "\n",
    "# data = deepcopy(fig)\n",
    "# data = encoded_image\n",
    "# data = deepcopy(png_bytes)\n",
    "\n",
    "# only open the file once by using use_memo\n",
    "# file_object = solara.use_memo(lambda: open(filename, \"rb\"), [])\n",
    "\n",
    "\n",
    "\n",
    "\n",
    "# , mime_type=\"image/jpeg\", close_file=False\n",
    "\n",
    "display(_out)\n"
   ]
  },
  {
   "cell_type": "code",
   "execution_count": null,
   "metadata": {},
   "outputs": [],
   "source": [
    "Path(df_filter.filename).with_suffix('.png').as_posix()"
   ]
  },
  {
   "cell_type": "code",
   "execution_count": null,
   "metadata": {},
   "outputs": [],
   "source": [
    "filtered_size_info_df = df_filter.filtered_size_info_df\n",
    "filtered_size_info_df"
   ]
  },
  {
   "cell_type": "code",
   "execution_count": null,
   "metadata": {},
   "outputs": [],
   "source": [
    "df_filter.update_filters()"
   ]
  },
  {
   "cell_type": "code",
   "execution_count": null,
   "metadata": {},
   "outputs": [],
   "source": [
    "# df_filter.figure_widget.for_each_legend(lambda x: print(x))\n",
    "fig = df_filter.figure_widget\n",
    "(n_row, n_col), (row_indicies, column_indicies) = PlotlyFigureContainer.get_figure_subplot_indicies(fig)\n",
    "(n_row, n_col)\n",
    "row_indicies\n",
    "column_indicies\n",
    "\n",
    "list(fig.select_legends())\n",
    "\n",
    "# fig.layout.annotations\n",
    "\n",
    "# fig.layout.annotations[-2].name"
   ]
  },
  {
   "cell_type": "code",
   "execution_count": null,
   "metadata": {},
   "outputs": [],
   "source": [
    "fig.data"
   ]
  },
  {
   "cell_type": "code",
   "execution_count": null,
   "metadata": {},
   "outputs": [],
   "source": [
    "## one for each time_bin_size:\n",
    "# legend_entries = list(set([trace.name for trace in fig.data if trace.showlegend]))\n",
    "legend_entries = list(set([trace.legendgroup for trace in fig.data if trace.showlegend]))\n",
    "# legend_entries\n",
    "\n",
    "extant_traces_dict = {trace.name:trace for trace in fig.data}\n",
    "# extant_traces_dict\n",
    "left_hist_traces = list(fig.select_traces(row=1, col=1))\n",
    "scatter_traces = list(fig.select_traces(selector=None, row=1, col=2))\n",
    "right_hist_traces = list(fig.select_traces(row=1, col=3))\n",
    "\n",
    "# right_hist_traces\n",
    "# list(fig.select_traces(selector=None, row=1, col=2))[0].name\n",
    "\n",
    "scatter_traces"
   ]
  },
  {
   "cell_type": "code",
   "execution_count": null,
   "metadata": {},
   "outputs": [],
   "source": [
    "# fig.update_traces(patch=,\n",
    "# \t\t\t\t  selector={'name': }\n",
    "                  \n",
    "a_trace = extant_traces_dict['trace_post_delta_hist_0.025']\n",
    "# a_trace.update(, overwrite=True)\n",
    "# a_trace.__dict__\n",
    "a_trace.x\n",
    "a_trace.y\n",
    "a_trace.xaxis\n"
   ]
  },
  {
   "cell_type": "code",
   "execution_count": null,
   "metadata": {},
   "outputs": [],
   "source": [
    "fig.layout.shapes"
   ]
  },
  {
   "cell_type": "code",
   "execution_count": null,
   "metadata": {},
   "outputs": [],
   "source": [
    "a_shape = fig.layout.shapes[-1]\n",
    "# a_shape.plotly_name\n",
    "a_shape.name = 'test_shape_name'\n",
    "a_shape"
   ]
  },
  {
   "cell_type": "code",
   "execution_count": null,
   "metadata": {},
   "outputs": [],
   "source": [
    "last_ann = fig.layout.annotations[-1]\n",
    "last_ann.name\n",
    "# fig.update_layout(\n",
    "# legend_entries = [trace.name for trace in fig.data if trace.showlegend]\n",
    "# print(legend_entries)\n",
    "\n",
    "# already_added_legend_entries = set(legend_entries)\n",
    "# already_added_legend_entries\n"
   ]
  },
  {
   "cell_type": "code",
   "execution_count": null,
   "metadata": {},
   "outputs": [],
   "source": [
    "figure_sup_huge_title_text_annotation = list(fig.select_annotations(selector={'name':'figure_sup_huge_title_text_annotation'}))[0]\n",
    "\n",
    "figure_footer_text_annotation = list(fig.select_annotations(selector={'name':'figure_footer_text_annotation'}))[0]\n",
    "figure_footer_text_annotation"
   ]
  },
  {
   "cell_type": "code",
   "execution_count": null,
   "metadata": {},
   "outputs": [],
   "source": [
    "all_annotations = list(fig.select_annotations())\n",
    "bottom_footer_annotation = all_annotations[-1]\n",
    "# bottom_footer_annotation.remove()\n",
    "\n",
    "\n",
    "annotation_idx: int = -1\n",
    "fig.layout.annotations[annotation_idx].text = \"Updated Annotation Text\"\n",
    "# fig.layout.annotations[annotation_idx].x = 3\n",
    "# fig.layout.annotations[0].y = 6\n"
   ]
  },
  {
   "cell_type": "code",
   "execution_count": null,
   "metadata": {},
   "outputs": [],
   "source": [
    "fig.layout.shapes\n"
   ]
  },
  {
   "cell_type": "code",
   "execution_count": null,
   "metadata": {},
   "outputs": [],
   "source": [
    "# n_records_dict = {name:len(df) for name, df in df_filter.filtered_df_dict.items()}\n",
    "n_records_tuples = [(name, len(df)) for name, df in df_filter.filtered_df_dict.items()]\n",
    "n_records_tuples\n",
    "\n",
    "pd.DataFrame(n_records_tuples, columns=['df_name', 'n_elements'])"
   ]
  },
  {
   "cell_type": "code",
   "execution_count": null,
   "metadata": {},
   "outputs": [],
   "source": [
    "PlotlyFigureContainer.update_subplot_title(df_filter.figure_widget, row=1, col=2, new_title='New Title Test')"
   ]
  },
  {
   "cell_type": "code",
   "execution_count": null,
   "metadata": {},
   "outputs": [],
   "source": [
    "df_filter.update_filters()"
   ]
  },
  {
   "cell_type": "code",
   "execution_count": null,
   "metadata": {},
   "outputs": [],
   "source": [
    "df_filter.filtered_all_sessions_all_scores_ripple_df"
   ]
  },
  {
   "cell_type": "code",
   "execution_count": null,
   "metadata": {},
   "outputs": [],
   "source": [
    "\n",
    "\n",
    "\n",
    "def add_merged_complete_epoch_stats_df(df_filter, all_sessions_merged_complete_epoch_stats_df: pd.DataFrame):\n",
    "    \"\"\" adds in the percentile score values to the dataframes \n",
    "    \"\"\"\n",
    "\n",
    "    # ==================================================================================================================== #\n",
    "    # BEGIN FUNCTION BODY                                                                                                  #\n",
    "    # ==================================================================================================================== #\n",
    "    # paired_main_ripple_df: pd.DataFrame = df_filter.all_sessions_all_scores_ripple_df\n",
    "    # paired_main_ripple_df: pd.DataFrame = df_filter.all_sessions_MultiMeasure_ripple_df\n",
    "    # paired_main_ripple_df = _perform_add_merged_complete_epoch_stats_df(a_paired_main_ripple_df=paired_main_ripple_df, a_all_sessions_merged_complete_epoch_stats_df=all_sessions_merged_complete_epoch_stats_df)\n",
    "    \n",
    "    ## re-assign to the appopriate dataframe\n",
    "    # df_filter.all_sessions_all_scores_ripple_df = paired_main_ripple_df\n",
    "    # df_filter.all_sessions_MultiMeasure_ripple_df = paired_main_ripple_df\n",
    "    \n",
    "    df_filter.all_sessions_all_scores_ripple_df = _subfn_perform_add_merged_complete_epoch_stats_df(a_paired_main_ripple_df=df_filter.all_sessions_all_scores_ripple_df, a_all_sessions_merged_complete_epoch_stats_df=all_sessions_merged_complete_epoch_stats_df)\n",
    "    # df_filter.all_sessions_MultiMeasure_ripple_df = _perform_add_merged_complete_epoch_stats_df(a_paired_main_ripple_df=df_filter.all_sessions_MultiMeasure_ripple_df, a_all_sessions_merged_complete_epoch_stats_df=all_sessions_merged_complete_epoch_stats_df)\n",
    "    \n",
    "\n",
    "add_merged_complete_epoch_stats_df(df_filter=df_filter, all_sessions_merged_complete_epoch_stats_df=all_sessions_merged_complete_epoch_stats_df)"
   ]
  },
  {
   "cell_type": "code",
   "execution_count": null,
   "metadata": {},
   "outputs": [],
   "source": [
    "df_filter.update_filters()"
   ]
  },
  {
   "cell_type": "code",
   "execution_count": null,
   "metadata": {},
   "outputs": [],
   "source": [
    "df_filter.update_filters()\n",
    "# # assert np.size(df_filter.all_sessions_all_scores_ripple_df)[0] == np.size(filtered_temp)[0], f\"np.size(df_filter.all_sessions_all_scores_ripple_df)[0]: {np.size(df_filter.all_sessions_all_scores_ripple_df)[0]} must equal np.size(filtered_temp)[0]: {np.size(filtered_temp)[0]}.\"\n",
    "# # assert len(filtered_temp) == len(df_filter.all_sessions_all_scores_ripple_df), f\"len(filtered_temp): {len(filtered_temp)}, len(df_filter.all_sessions_all_scores_ripple_df): {len(df_filter.all_sessions_all_scores_ripple_df)}\"\n",
    "# filtered_temp = pd.concat([df_filter.all_sessions_all_scores_ripple_df, filtered_temp], axis='columns')\n",
    "# filtered_temp\n",
    "# assert len(filtered_temp) == len(df_filter.all_sessions_all_scores_ripple_df), f\"len(filtered_temp): {len(filtered_temp)}, len(df_filter.all_sessions_all_scores_ripple_df): {len(df_filter.all_sessions_all_scores_ripple_df)}\" ## ensure they match after the fact\n",
    "\n",
    "# ## re-assign\n",
    "# df_filter.all_sessions_all_scores_ripple_df = deepcopy(filtered_temp)\n",
    "# df_filter.all_sessions_all_scores_ripple_df\n",
    "# df_filter.update_filtered_dataframes()"
   ]
  },
  {
   "cell_type": "code",
   "execution_count": null,
   "metadata": {},
   "outputs": [],
   "source": [
    "# df_filter.all_sessions_MultiMeasure_ripple_df\n",
    "# fig, new_fig_context, _extras_output_dict, figure_out_paths = _perform_plot_pre_post_delta_scatter_with_embedded_context(concatenated_ripple_df=deepcopy(all_sessions_merged_complete_epoch_stats_relevant_df), is_dark_mode=False, should_save=False)\n",
    "# new_fig, new_fig_context, _extras_output_dict, figure_out_paths = _perform_plot_pre_post_delta_scatter(data_context=IdentifyingContext(epochs_name='PBEs', data_grain='per_epoch', title_prefix=\"PBEs Per Epoch\", dataframe_name='df'), concatenated_ripple_df=deepcopy(all_sessions_merged_complete_epoch_stats_relevant_df), variable_name='Long_BestDir_quantile')\n",
    "new_fig, new_fig_context, _extras_output_dict, figure_out_paths = _perform_plot_pre_post_delta_scatter(data_context=IdentifyingContext(epochs_name='PBEs', data_grain='per_epoch', title_prefix=\"PBEs Per Epoch\", dataframe_name='df'),\n",
    "                                                                                                        concatenated_ripple_df=deepcopy(all_sessions_merged_complete_epoch_stats_relevant_df), variable_name='best_overall_quantile')\n",
    "new_fig"
   ]
  },
  {
   "cell_type": "markdown",
   "metadata": {},
   "source": [
    "### 2024-11-15 - Next Steps after shuffles"
   ]
  },
  {
   "cell_type": "code",
   "execution_count": null,
   "metadata": {},
   "outputs": [],
   "source": [
    "# high_percentile_score_df: pd.DataFrame = deepcopy(all_sessions_merged_complete_epoch_stats_relevant_df[all_sessions_merged_complete_epoch_stats_relevant_df['best_overall_quantile'] >= 0.9]) ## TODO: make a filter okay? Handle NaNs\n",
    "# high_percentile_score_df: pd.DataFrame = deepcopy(df_filter.all_sessions_all_scores_ripple_df) # [df_filter.all_sessions_all_scores_ripple_df['best_overall_quantile'] >= 0.9] ## TODO: make a filter okay? Handle NaNs\n",
    "# high_percentile_score_df: pd.DataFrame = deepcopy(df_filter.all_sessions_all_scores_ripple_df)[df_filter.all_sessions_all_scores_ripple_df['best_overall_quantile'] >= 0.9] ## TODO: make a filter okay? Handle NaNs\n",
    "high_percentile_score_df: pd.DataFrame = deepcopy(df_filter.filtered_all_sessions_all_scores_ripple_df)[df_filter.filtered_all_sessions_all_scores_ripple_df['best_overall_quantile'] >= 0.9] ## TODO: make a filter okay? Handle NaNs\n",
    "high_percentile_score_df\n",
    "# df_filter.filtered_all_sessions_all_scores_ripple_df\n",
    "\n",
    "# high_percentile_score_df['start']\n"
   ]
  },
  {
   "cell_type": "code",
   "execution_count": null,
   "metadata": {},
   "outputs": [],
   "source": [
    "\n",
    "# new_fig, new_fig_context, _extras_output_dict, figure_out_paths = _perform_plot_pre_post_delta_scatter(data_context=IdentifyingContext(epochs_name='PBEs', data_grain='per_epoch', title_prefix=\"PBEs Per Epoch\", dataframe_name='df'),\n",
    "# \t\t\t\t\t\t\t\t\t\t\t\t\t\t\t\t\t\t\t\t\t\t\t\t\t    concatenated_ripple_df=deepcopy(high_percentile_score_df), variable_name='best_overall_quantile')\n",
    "new_fig, new_fig_context, _extras_output_dict, figure_out_paths = _perform_plot_pre_post_delta_scatter(data_context=IdentifyingContext(epochs_name='PBEs', data_grain='per_epoch', title_prefix=\"PBEs Per Epoch\", dataframe_name='df'),\n",
    "                                                                                                        concatenated_ripple_df=deepcopy(high_percentile_score_df), variable_name='P_Short')\n",
    "new_fig\n",
    "\n"
   ]
  },
  {
   "cell_type": "code",
   "execution_count": null,
   "metadata": {},
   "outputs": [],
   "source": [
    "## Sub-select for high-shuffle score events (0.9 or higher), use as a filter\n",
    "## Plot these bad boys on the scatter\n",
    "\n",
    "## Look at Long-like events on the filtered df that occur after delta, these should be the good examples of long-like after delta.\n",
    "## Confirm that I'm shuffling appropriately for the \n"
   ]
  },
  {
   "cell_type": "code",
   "execution_count": null,
   "metadata": {},
   "outputs": [],
   "source": []
  },
  {
   "cell_type": "code",
   "execution_count": null,
   "metadata": {},
   "outputs": [],
   "source": []
  },
  {
   "cell_type": "code",
   "execution_count": null,
   "metadata": {},
   "outputs": [],
   "source": [
    "# df_filter.all_sessions_MultiMeasure_ripple_df\n",
    "fig, new_fig_context, _extras_output_dict, figure_out_paths = _perform_plot_pre_post_delta_scatter_with_embedded_context(concatenated_ripple_df=deepcopy(df_filter.filtered_all_sessions_MultiMeasure_ripple_df), is_dark_mode=False, should_save=False)"
   ]
  },
  {
   "cell_type": "code",
   "execution_count": null,
   "metadata": {},
   "outputs": [],
   "source": [
    "fig, new_fig_context, _extras_output_dict, figure_out_paths = _perform_plot_pre_post_delta_scatter_with_embedded_context(concatenated_ripple_df=deepcopy(df_filter.filtered_all_sessions_MultiMeasure_ripple_df), is_dark_mode=False, should_save=should_save)\n"
   ]
  },
  {
   "cell_type": "code",
   "execution_count": null,
   "metadata": {},
   "outputs": [],
   "source": [
    "\n",
    "n_events: int = len(df_filter.filtered_all_sessions_MultiMeasure_ripple_df)\n",
    "df: pd.DataFrame = df_filter.filtered_all_sessions_MultiMeasure_ripple_df\n",
    "\n",
    "df.attrs.update(**dict(data_context = IdentifyingContext(epochs_name='PBE', data_grain='per_epoch', dataframe_name='MultiMeasure_ripple_df', filter='user-annotated', n_events=f'{n_events} events',\n",
    "                                            title_prefix=f\"<b>user-annotated FILTERED</b> MultiMeasure_ripple_df - <b>PBE</b> <i>Per <b>Epoch</b></i>\"),\n",
    "                        ))\n",
    "\n",
    "\n",
    "fig, new_fig_context, _extras_output_dict, figure_out_paths = _perform_plot_pre_post_delta_scatter_with_embedded_context(concatenated_ripple_df=deepcopy(df_filter.filtered_all_sessions_MultiMeasure_ripple_df), is_dark_mode=False, should_save=should_save)"
   ]
  },
  {
   "cell_type": "code",
   "execution_count": null,
   "metadata": {
    "tags": [
     "run-filtered-main"
    ]
   },
   "outputs": [],
   "source": [
    "min_wcorr_threshold: float = 0.7\n",
    "\n",
    "df_filter.additional_filter_predicates = {\n",
    "    'high_wcorr': (lambda df: np.any((df[['long_best_wcorr', 'short_best_wcorr']].abs() > min_wcorr_threshold), axis=1)),\n",
    "    # 'user_selected': lambda df: np.all((df[['is_user_annotated_epoch', 'is_valid_epoch']]), axis=1),\n",
    "}\n",
    "df_filter.update_filters()\n",
    "\n",
    "# df_filter.update_filtered_dataframes\n",
    "fig, new_fig_context, _extras_output_dict, figure_out_paths = _perform_plot_pre_post_delta_scatter(data_context = IdentifyingContext(epochs_name='PBE', data_grain='per_epoch', dataframe_name='MultiMeasure_ripple_df', filter='high-wcorr', title_prefix=\"<b>high-wcorr FILTERED</b> MultiMeasure_ripple_df - <b>PBE</b> <i>Per <b>Epoch</b></i>\"),\n",
    "                                                                                                concatenated_ripple_df = deepcopy(df_filter.filtered_all_sessions_MultiMeasure_ripple_df), is_dark_mode=False)"
   ]
  },
  {
   "cell_type": "code",
   "execution_count": null,
   "metadata": {
    "tags": [
     "run_figures_main",
     "plotly-figure"
    ]
   },
   "outputs": [],
   "source": [
    "df_filter.time_bin_size\n",
    "df_filter.replay_name\n",
    "\n",
    "filter_context = df_filter.filter_context # IdentifyingContext(time_bin_sizes=df_filter.time_bin_size, custom_suffix=df_filter.replay_name)\n",
    "filter_context\n",
    "\n",
    "_out_figs_dict = {}\n",
    "\n",
    "## INPUTS: df_filter\n",
    "\n",
    "# BEGIN CALL _________________________________________________________________________________________________________ #\n",
    "new_fig, new_fig_context, _extras_output_dict, figure_out_paths = _perform_plot_pre_post_delta_scatter(data_context=IdentifyingContext(epochs_name='laps', data_grain='per_epoch', title_prefix=\"FILTERED Lap Per Epoch\", dataframe_name='df', **filter_context.to_dict()), concatenated_ripple_df=deepcopy(df_filter.filtered_all_sessions_laps_df))\n",
    "_out_figs_dict[new_fig_context] = new_fig\n",
    "\n",
    "\n",
    "new_fig, new_fig_context, _extras_output_dict, figure_out_paths = _perform_plot_pre_post_delta_scatter(data_context=IdentifyingContext(epochs_name='laps', data_grain='per_time_bin', title_prefix=\"FILTERED Lap Individual Time Bins\", dataframe_name='time_bin_df', **filter_context.to_dict()), concatenated_ripple_df=deepcopy(df_filter.filtered_all_sessions_laps_time_bin_df))\n",
    "_out_figs_dict[new_fig_context] = new_fig\n",
    "\n",
    "\n",
    "new_fig, new_fig_context, _extras_output_dict, figure_out_paths = _perform_plot_pre_post_delta_scatter(data_context = IdentifyingContext(epochs_name='PBE', data_grain='per_epoch', title_prefix=\"FILTERED PBE Per Epoch\", dataframe_name='df', **filter_context.to_dict()), concatenated_ripple_df = deepcopy(df_filter.filtered_all_sessions_ripple_df))\n",
    "_out_figs_dict[new_fig_context] = new_fig\n",
    "\n",
    "new_fig, new_fig_context, _extras_output_dict, figure_out_paths = _perform_plot_pre_post_delta_scatter(data_context = IdentifyingContext(epochs_name='PBE', data_grain='per_time_bin', title_prefix=\"FILTERED PBE Individual Time Bins\", dataframe_name='time_bin_df', **filter_context.to_dict()), concatenated_ripple_df = deepcopy(df_filter.filtered_all_sessions_ripple_time_bin_df))\n",
    "_out_figs_dict[new_fig_context] = new_fig\n",
    "\n",
    "\n",
    "new_fig, new_fig_context, _extras_output_dict, figure_out_paths = _perform_plot_pre_post_delta_scatter(data_context = IdentifyingContext(epochs_name='PBE', data_grain='per_epoch', dataframe_name='all_scores_ripple_df', filter_status='filtered', title_prefix=\"FILTERED  - Filtered PBE Per Epoch\"),\n",
    "                                                                                                        concatenated_ripple_df = deepcopy(df_filter.filtered_all_sessions_all_scores_ripple_df))\n",
    "_out_figs_dict[new_fig_context] = new_fig\n",
    "\n",
    "# new_fig, new_fig_context, _extras_output_dict, figure_out_paths = _perform_plot_pre_post_delta_scatter(data_context = IdentifyingContext(epochs_name='PBE', data_grain='per_epoch', dataframe_name='all_scores_ripple_df', filter_status='filtered', title_prefix=\"filtered_all_sessions_all_scores_ripple_df - Filtered PBE Per Epoch\"),\n",
    "# \t\t\t\t\t\t\t\t\t\t\t\t\t\t\t\t\t\t\t\t\t\t\t\t\t\tconcatenated_ripple_df = deepcopy(df_filter.filtered_all_sessions_all_scores_ripple_df))\n",
    "# _out_figs_dict[new_fig_context] = new_fig\n",
    "\n",
    "\n",
    "\n",
    "# OUTPUTS: _out_figs_dict"
   ]
  },
  {
   "cell_type": "code",
   "execution_count": null,
   "metadata": {},
   "outputs": [],
   "source": [
    "## INPUTS: _out_figs_dict\n",
    "all_img_list = []\n",
    "laps_list = []\n",
    "PBEs_list = []\n",
    "\n",
    "for a_context, a_fig in _out_figs_dict.items():\n",
    "    fig_img = figure_to_pil_image(a_fig=a_fig)\n",
    "    epochs_name: str = a_context.epochs_name\n",
    "\n",
    "    if 'laps' in epochs_name:\n",
    "        laps_list.append(fig_img)\n",
    "        \n",
    "    if 'PBE' in epochs_name:\n",
    "        PBEs_list.append(fig_img)\n",
    "        \n",
    "    \n",
    "# all_img_list\n",
    "## OUTPUTS: laps_list, PBEs_list"
   ]
  },
  {
   "cell_type": "code",
   "execution_count": null,
   "metadata": {},
   "outputs": [],
   "source": [
    "\n",
    "PBEs_img = vertical_image_stack(PBEs_list)\n",
    "PBEs_img\n",
    "copy_image_to_clipboard(combined_all_img)\n"
   ]
  },
  {
   "cell_type": "code",
   "execution_count": null,
   "metadata": {},
   "outputs": [],
   "source": [
    "laps_img = vertical_image_stack(laps_list)\n",
    "laps_img\n",
    "copy_image_to_clipboard(laps_img)\n"
   ]
  },
  {
   "cell_type": "code",
   "execution_count": null,
   "metadata": {},
   "outputs": [],
   "source": [
    "# # combined_all_img = horizontal_image_stack([figure_to_pil_image(a_fig=a_fig) for a_fig in [fig_laps, fig_ripples]])\n",
    "# combined_all_img = vertical_image_stack([\n",
    "# \thorizontal_image_stack([fig_laps, fig_ripples]),\n",
    "# \t# horizontal_image_stack(PBEs_list)\n",
    "# ])\n",
    "# combined_all_img\n",
    "\n",
    "copy_image_to_clipboard(combined_all_img)"
   ]
  },
  {
   "cell_type": "code",
   "execution_count": null,
   "metadata": {
    "tags": [
     "by-session",
     "run_figures_main",
     "plotly-figure"
    ]
   },
   "outputs": [],
   "source": [
    "\n",
    "# Example usage:\n",
    "all_session_figures = plot_across_sessions_scatter_results(collected_outputs_directory, concatenated_laps_df=deepcopy(df_filter.filtered_all_sessions_laps_df), concatenated_ripple_df=deepcopy(df_filter.filtered_all_sessions_ripple_df),\n",
    "                                                           enabled_time_bin_sizes=df_filter.time_bin_size,\n",
    "                                                           earliest_delta_aligned_t_start=earliest_delta_aligned_t_start, latest_delta_aligned_t_end=latest_delta_aligned_t_end,\n",
    "                                                           laps_title_prefix=f\"FILTERED_Laps\", ripple_title_prefix=f\"FILTERED_Ripples\", save_figures=True, figure_save_extension=['.html','.png'], is_dark_mode=is_dark_mode)\n",
    "fig_laps, fig_ripples = all_session_figures[0]\n",
    "# fig_laps.update_layout(fig_size_kwargs)\n",
    "# fig_ripples.update_layout(fig_size_kwargs)\n",
    "\n",
    "fig = fig_ripples\n"
   ]
  },
  {
   "cell_type": "code",
   "execution_count": null,
   "metadata": {},
   "outputs": [],
   "source": [
    "df_filter.time_bin_size\n",
    "df_filter.replay_name\n",
    "\n",
    "filter_context = df_filter.filter_context # IdentifyingContext(time_bin_sizes=df_filter.time_bin_size, custom_suffix=df_filter.replay_name)\n",
    "filter_context\n",
    "\n",
    "footer_text: str = filter_context.get_description(separator='|', subset_excludelist=['time_bin_sizes'])\n",
    "\n",
    "print(f'footer_text: \"{footer_text}\"')\n",
    "\n",
    "# Add footer annotation\n",
    "fig = fig.update_layout(\n",
    "    annotations=[\n",
    "        dict(\n",
    "            text=footer_text,\n",
    "            **{'x': 0.5, 'y': -0.19, 'xref': 'paper', 'yref': 'paper', 'showarrow': False, 'font': {'size': 11, 'color': 'gray'}, 'textangle': 0, 'xanchor': 'center', 'yanchor': 'middle'},\n",
    "        )\n",
    "    ],\n",
    "    margin=dict(b=60)  # Increase bottom margin to accommodate the footer\n",
    ")\n",
    "\n",
    "\n",
    "# fig_laps.show()\n",
    "# fig_ripples.show()\n",
    "# fig_laps.write_html(f\"../output/{TODAY_DAY_DATE}_AcrossSession_fig_laps.html\")\n",
    "# fig_ripples.write_html(f\"../output/{TODAY_DAY_DATE}_AcrossSession_fig_ripples.html\")\n",
    "full_fig = fig.full_figure_for_development()\n",
    "full_fig.to_json(collected_outputs_directory.joinpath('figures/11-Sessions_filtered_ripples_marginal.json'))\n"
   ]
  },
  {
   "cell_type": "code",
   "execution_count": null,
   "metadata": {
    "tags": [
     "plotly-figure"
    ]
   },
   "outputs": [],
   "source": [
    "# variable_name = 'short_best_direction_change_bin_ratio'\n",
    "# variable_name = 'long_best_congruent_dir_bins_ratio'\n",
    "variable_name = 'short_best_wcorr'\n",
    "# 'color':'is_user_annotated_epoch'\n",
    "# 'color': 'is_user_annotated_epoch', \n",
    "px_scatter_kwargs = {'x': 'delta_aligned_start_t', 'y': variable_name, 'title': f\"'{variable_name}'\"} # , 'color': 'time_bin_size', 'range_y': [-1.0, 1.0], , 'labels': {'session_name': 'Session', 'time_bin_size': 'tbin_size', 'is_user_annotated_epoch':'user_sel'}\n",
    "# hist_kwargs = dict(color=\"time_bin_size\")\n",
    "hist_kwargs = dict(color=\"pre_post_delta_category\") # , histnorm='probability density'\n",
    "new_fig_ripples, figure_context = plotly_pre_post_delta_scatter(data_results_df=concatenated_ripple_df, out_scatter_fig=None, histogram_bins=histogram_bins,\n",
    "                        px_scatter_kwargs=px_scatter_kwargs, histogram_variable_name=variable_name, hist_kwargs=hist_kwargs, forced_range_y=None,\n",
    "                        time_delta_tuple=(earliest_delta_aligned_t_start, 0.0, latest_delta_aligned_t_end), is_dark_mode=is_dark_mode)\n",
    "_extras_output_dict = {}\n",
    "_extras_output_dict[\"y_mid_line\"] = new_fig_ripples.add_hline(y=0.0, line=dict(color=\"rgba(0.8,0.8,0.8,.75)\", width=2), row='all', col='all')\n",
    "new_fig_ripples.update_layout(fig_size_kwargs)\n",
    "new_fig_ripples.show()\n",
    "figure_out_paths = save_plotly(a_fig=new_fig_ripples, a_fig_context=figure_context)\n"
   ]
  },
  {
   "cell_type": "code",
   "execution_count": null,
   "metadata": {
    "tags": [
     "plotly-figure"
    ]
   },
   "outputs": [],
   "source": [
    "# variable_name = 'total_congruent_direction_change_diff'\n",
    "# variable_name = 'long_best_congruent_dir_bins_ratio'\n",
    "# variable_name = 'long_best_total_congruent_direction_change'\n",
    "variable_name = 'wcorr_diff'\n",
    "# variable_name = 'long_best_wcorr'\n",
    "# 'color':'is_user_annotated_epoch'\n",
    "# 'color': 'is_user_annotated_epoch', \n",
    "px_scatter_kwargs = {'x': 'delta_aligned_start_t', 'y': variable_name, 'color':\"is_user_annotated_epoch\", 'title': f\"'{variable_name}'\", 'labels': {'session_name': 'Session', 'time_bin_size': 'tbin_size', 'is_user_annotated_epoch':'user_sel'}} # , 'color': 'time_bin_size', 'range_y': [-1.0, 1.0], \n",
    "# hist_kwargs = dict(color=\"time_bin_size\")\n",
    "hist_kwargs = dict(color=\"is_user_annotated_epoch\") # , histnorm='probability density'\n",
    "new_fig_ripples, figure_context = plotly_pre_post_delta_scatter(data_results_df=concatenated_ripple_df, out_scatter_fig=None, histogram_bins=histogram_bins,\n",
    "                        px_scatter_kwargs=px_scatter_kwargs, histogram_variable_name=variable_name, hist_kwargs=hist_kwargs, forced_range_y=None,\n",
    "                        time_delta_tuple=(earliest_delta_aligned_t_start, 0.0, latest_delta_aligned_t_end), is_dark_mode=is_dark_mode)\n",
    "_extras_output_dict = {}\n",
    "_extras_output_dict[\"y_mid_line\"] = new_fig_ripples.add_hline(y=0.0, line=dict(color=\"rgba(0.8,0.8,0.8,.75)\", width=2), row='all', col='all')\n",
    "new_fig_ripples.update_layout(fig_size_kwargs)\n",
    "new_fig_ripples.show()\n",
    "\n",
    "figure_context = figure_context.adding_context_if_missing(num_sessions=num_sessions, plot_type='scatter+hist', comparison='pre-post-delta', variable_name=variable_name)\n",
    "figure_out_paths = save_plotly(a_fig=new_fig_ripples, a_fig_context=figure_context)\n"
   ]
  },
  {
   "cell_type": "markdown",
   "metadata": {},
   "source": [
    "## Stats Tests"
   ]
  },
  {
   "cell_type": "code",
   "execution_count": null,
   "metadata": {},
   "outputs": [],
   "source": [
    "from pyphoplacecellanalysis.Pho2D.statistics_plotting_helpers import _perform_stats_tests\n",
    "\n",
    "stats_variable_name: str = 'P_Short'\n",
    "# stats_variable_name: str = 'short_best_direction_change_bin_ratio'\n",
    "# stats_variable_name: str = 'short_best_wcorr'\n",
    "\n",
    "shuffle_results, p_value, f_value, (dof1, dof2), (variance1, variance2) = _perform_stats_tests(deepcopy(concatenated_ripple_df), stats_variable_name=stats_variable_name)\n"
   ]
  },
  {
   "cell_type": "code",
   "execution_count": null,
   "metadata": {},
   "outputs": [],
   "source": [
    "# Show that wcorr in both periods is higher than shuffles\n",
    "\n",
    "stats_variable_name: str = 'P_Short'\n",
    "stats_variable_name = 'short_best_wcorr'\n",
    "# stats_variable_name = 'long_best_wcorr'\n",
    "# stats_variable_name = 'long_best_wcorr'\n",
    "\n",
    "\n",
    "\n",
    "shuffle_results, p_value, f_value, (dof1, dof2), (variance1, variance2) = _perform_stats_tests(deepcopy(concatenated_ripple_df), stats_variable_name=stats_variable_name)\n",
    "\n",
    "\n",
    "# stats_variable_name: \"short_best_wcorr\" -- actual_diff_means: -0.00983910691641765\n",
    "# stats_variable_name: short_best_wcorr\n",
    "# Statistics=72308.00, p=0.73\n",
    "# Do not Reject Null Hypothesis (No significant difference between two samples)\n",
    "# Variance 1: 0.1395112660465373\n",
    "# Variance 2: 0.18436187114204847\n",
    "# Degree of freedom 1: 395\n",
    "# Degree of freedom 2: 359\n",
    "# F-statistic: 0.756725157877388\n",
    "# p-value: 0.003419223265796241\n",
    "\n",
    "# stats_variable_name: \"long_best_wcorr\" -- actual_diff_means: -0.0028337579937901397\n",
    "# stats_variable_name: long_best_wcorr\n",
    "# Statistics=71529.00, p=0.93\n",
    "# Do not Reject Null Hypothesis (No significant difference between two samples)\n",
    "# Variance 1: 0.1659575407149896\n",
    "# Variance 2: 0.20687539745971859\n",
    "# Degree of freedom 1: 395\n",
    "# Degree of freedom 2: 359\n",
    "# F-statistic: 0.8022101359215698\n",
    "# p-value: 0.016221081810852238"
   ]
  },
  {
   "cell_type": "code",
   "execution_count": null,
   "metadata": {},
   "outputs": [],
   "source": [
    "## User non-selected:\n",
    "scatter_title = f'user_approved_ripple_df Several Sessions {variable_name}'\n",
    "# variable_name = 'wcorr_abs_diff'\n",
    "px_scatter_kwargs = {'x': 'delta_aligned_start_t', 'y': variable_name, 'title': scatter_title, 'range_y': [0.0, 1.0], 'labels': {'session_name': 'Session', 'time_bin_size': 'tbin_size'}} # , 'color': 'time_bin_size'\n",
    "new_fig_ripples, figure_context = plotly_pre_post_delta_scatter(data_results_df=deepcopy(user_approved_ripple_df), out_scatter_fig=None, histogram_bins=histogram_bins,\n",
    "                        px_scatter_kwargs=px_scatter_kwargs, histogram_variable_name=variable_name, forced_range_y=None,\n",
    "                        time_delta_tuple=(earliest_delta_aligned_t_start, 0.0, latest_delta_aligned_t_end), is_dark_mode=is_dark_mode)\n",
    "_extras_output_dict[\"y_mid_line\"] = new_fig_ripples.add_hline(y=0.5, line=dict(color=\"rgba(0.8,0.8,0.8,.75)\", width=2), row='all', col='all')\n",
    "new_fig_ripples.update_layout(fig_size_kwargs)\n",
    "new_fig_ripples"
   ]
  },
  {
   "cell_type": "code",
   "execution_count": null,
   "metadata": {},
   "outputs": [],
   "source": [
    "# IDEA: The ones with clear replays (diagonal sequences in the decoded posteriors) are by definiition ambiguous, because there's not much difference between the long/short decoders.\n"
   ]
  },
  {
   "cell_type": "code",
   "execution_count": null,
   "metadata": {},
   "outputs": [],
   "source": [
    "## User non-selected:\n",
    "scatter_title = f'Non-selected Several Sessions {variable_name}'\n",
    "# variable_name = 'wcorr_abs_diff'\n",
    "px_scatter_kwargs = {'x': 'delta_aligned_start_t', 'y': variable_name, 'title': scatter_title, 'range_y': [0.0, 1.0], 'labels': {'session_name': 'Session', 'time_bin_size': 'tbin_size'}} # , 'color': 'time_bin_size'\n",
    "new_fig_ripples, figure_context = plotly_pre_post_delta_scatter(data_results_df=deepcopy(user_rejected_ripple_df), out_scatter_fig=None, histogram_bins=histogram_bins,\n",
    "                        px_scatter_kwargs=px_scatter_kwargs, histogram_variable_name=variable_name, forced_range_y=None,\n",
    "                        time_delta_tuple=(earliest_delta_aligned_t_start, 0.0, latest_delta_aligned_t_end))\n",
    "new_fig_ripples.update_layout(fig_size_kwargs)\n",
    "new_fig_ripples\n"
   ]
  },
  {
   "cell_type": "code",
   "execution_count": null,
   "metadata": {},
   "outputs": [],
   "source": [
    "# Laps test\n",
    "concatenated_ripple_df = deepcopy(all_sessions_MultiMeasure_laps_df)\n",
    "\n",
    "scatter_title = 'Several Sessions'\n",
    "variable_name = 'wcorr_abs_diff'\n",
    "px_scatter_kwargs = {'x': 'delta_aligned_start_t', 'y': variable_name, 'title': scatter_title, 'range_y': [0.0, 1.0], 'labels': {'session_name': 'Session', 'time_bin_size': 'tbin_size'}} \n",
    "new_fig_ripples, figure_context = plotly_pre_post_delta_scatter(data_results_df=deepcopy(concatenated_ripple_df), out_scatter_fig=None, histogram_bins=histogram_bins,\n",
    "                        px_scatter_kwargs=px_scatter_kwargs, histogram_variable_name=variable_name, forced_range_y=None,\n",
    "                        time_delta_tuple=(earliest_delta_aligned_t_start, 0.0, latest_delta_aligned_t_end))\n",
    "new_fig_ripples.update_layout(fig_size_kwargs)\n",
    "new_fig_ripples\n"
   ]
  },
  {
   "cell_type": "code",
   "execution_count": null,
   "metadata": {},
   "outputs": [],
   "source": [
    "num_unique_sessions: int = len(all_sessions_laps_df['session_name'].unique())\n",
    "num_unique_sessions\n"
   ]
  },
  {
   "cell_type": "code",
   "execution_count": null,
   "metadata": {},
   "outputs": [],
   "source": [
    "num_unique_sessions: int = len(all_sessions_ripple_df['session_name'].unique())\n",
    "num_unique_sessions"
   ]
  },
  {
   "cell_type": "markdown",
   "metadata": {},
   "source": [
    "# Plotting functions"
   ]
  },
  {
   "cell_type": "code",
   "execution_count": null,
   "metadata": {
    "tags": [
     "plotly-figure",
     "by-session"
    ]
   },
   "outputs": [],
   "source": [
    "from pyphoplacecellanalysis.General.Model.Configs.LongShortDisplayConfig import PlottingHelpers\n",
    "# from pyphoplacecellanalysis.SpecificResults.AcrossSessionResults import plot_across_sessions_scatter_results\n",
    "\n",
    "# Example usage:\n",
    "all_session_figures = plot_across_sessions_scatter_results(collected_outputs_directory, concatenated_laps_df=all_sessions_laps_df, concatenated_ripple_df=all_sessions_ripple_df,\n",
    "                                                           enabled_time_bin_sizes=[0.03, 0.10],\n",
    "                                                           earliest_delta_aligned_t_start=earliest_delta_aligned_t_start, latest_delta_aligned_t_end=latest_delta_aligned_t_end,\n",
    "                                                           laps_title_prefix=f\"Laps\", ripple_title_prefix=f\"Ripples\", save_figures=True, figure_save_extension=['.html','.png'], is_dark_mode=is_dark_mode)\n",
    "fig_laps, fig_ripples = all_session_figures[0]\n",
    "# fig_laps.update_layout(fig_size_kwargs)\n",
    "# fig_ripples.update_layout(fig_size_kwargs)\n",
    "\n",
    "# fig_laps.show()\n",
    "fig_ripples.show()\n",
    "# fig_laps.write_html(f\"../output/{TODAY_DAY_DATE}_AcrossSession_fig_laps.html\")\n",
    "# fig_ripples.write_html(f\"../output/{TODAY_DAY_DATE}_AcrossSession_fig_ripples.html\")\n"
   ]
  },
  {
   "cell_type": "code",
   "execution_count": null,
   "metadata": {},
   "outputs": [],
   "source": [
    "figure_context = figure_context.adding_context_if_missing(num_sessions=num_sessions, plot_type='scatter+hist', comparison='pre-post-delta', variable_name=variable_name)\n",
    "\n"
   ]
  },
  {
   "cell_type": "code",
   "execution_count": null,
   "metadata": {},
   "outputs": [],
   "source": [
    "fig_to_clipboard(fig_ripples)"
   ]
  },
  {
   "cell_type": "code",
   "execution_count": null,
   "metadata": {
    "tags": [
     "plotly-figure"
    ]
   },
   "outputs": [],
   "source": [
    "## time_bin version:\n",
    "all_time_bin_session_figures = plot_across_sessions_scatter_results(collected_outputs_directory, concatenated_laps_df=all_sessions_laps_time_bin_df, concatenated_ripple_df=all_sessions_ripple_time_bin_df,\n",
    "                                                        #    enabled_time_bin_sizes=[0.03, 0.10],\n",
    "                                                           earliest_delta_aligned_t_start=earliest_delta_aligned_t_start, latest_delta_aligned_t_end=latest_delta_aligned_t_end,\n",
    "                                                           main_plot_mode='separate_row_per_session',\n",
    "                                                           laps_title_prefix=f\"Laps_per_time_bin\", ripple_title_prefix=f\"Ripples_per_time_bin\", save_figures=True, figure_save_extension=['.html','.png'], is_dark_mode=is_dark_mode)\n",
    "fig_time_bin_laps, fig_time_bin_ripples = all_time_bin_session_figures[0]\n",
    "# fig_time_bin_laps.show()\n",
    "fig_time_bin_ripples.show()"
   ]
  },
  {
   "cell_type": "code",
   "execution_count": null,
   "metadata": {
    "tags": [
     "plotly-figure"
    ]
   },
   "outputs": [],
   "source": [
    "from pyphoplacecellanalysis.Pho2D.plotly.Extensions.plotly_helpers import plot_across_sessions_scatter_results\n",
    "\n",
    "## Test collapsed histograms-only results:\n",
    "histograms_only_all_time_bin_session_figures = plot_across_sessions_scatter_results(collected_outputs_directory, concatenated_laps_df=all_sessions_laps_time_bin_df, concatenated_ripple_df=all_sessions_ripple_time_bin_df,\n",
    "                                                        #    enabled_time_bin_sizes=[0.03, 0.10],\n",
    "                                                            # enabled_time_bin_sizes=[0.03, 0.058, 0.10], # [0.03 , 0.044, 0.058, 0.072, 0.086, 0.1]\n",
    "                                                           earliest_delta_aligned_t_start=earliest_delta_aligned_t_start, latest_delta_aligned_t_end=latest_delta_aligned_t_end,\n",
    "                                                           main_plot_mode='default',\n",
    "                                                           laps_title_prefix=f\"Laps_per_time_bin\", ripple_title_prefix=f\"Ripples_per_time_bin\", save_figures=False, figure_save_extension=['.html','.png'])\n",
    "histograms_only_fig_time_bin_laps, histograms_only_fig_time_bin_ripples = histograms_only_all_time_bin_session_figures[0]\n",
    "# histograms_only_fig_time_bin_laps.show()\n",
    "histograms_only_fig_time_bin_ripples.show()"
   ]
  },
  {
   "cell_type": "markdown",
   "metadata": {},
   "source": [
    "# Matplotlib-based versions:"
   ]
  },
  {
   "cell_type": "code",
   "execution_count": 16,
   "metadata": {
    "tags": [
     "matplotlib-figure",
     "run_main",
     "run_figures_main"
    ]
   },
   "outputs": [],
   "source": [
    "from pyphoplacecellanalysis.Pho2D.statistics_plotting_helpers import plot_histograms_across_sessions, plot_stacked_histograms\n",
    "from pyphoplacecellanalysis.SpecificResults.PhoDiba2023Paper import _perform_dual_hist_plot\n",
    "matplotlib.use('Qt5Agg')\n",
    "\n",
    "\n",
    "_perform_dual_hist_plot = partial(\n",
    "    _perform_dual_hist_plot,\n",
    "    # time_delta_tuple=(earliest_delta_aligned_t_start, 0.0, latest_delta_aligned_t_end),\n",
    "    legend_groups_to_solo=[0.025, 0.058], legend_groups_to_hide=None,\n",
    "    # legend_groups_to_solo=None, legend_groups_to_hide=[0.03, 0.0444, 0.05],\n",
    ")\n",
    "\n"
   ]
  },
  {
   "attachments": {
    "image.png": {
     "image/png": "[encoded data removed]"
    }
   },
   "cell_type": "markdown",
   "metadata": {},
   "source": [
    "## 2024-09-27 - Really goood Matplotlib plotting code\n",
    "![image.png](attachment:image.png)"
   ]
  },
  {
   "cell_type": "code",
   "execution_count": null,
   "metadata": {
    "tags": [
     "matplotlib-figure"
    ]
   },
   "outputs": [],
   "source": [
    "matplotlib.use('Qt5Agg')\n",
    "# grainularity_desc: str = 'by-time-bin'\n",
    "# laps_df: pd.DataFrame = all_sessions_laps_time_bin_df\n",
    "# ripple_df: pd.DataFrame = all_sessions_ripple_time_bin_df\n",
    "_out_figs_dict = {}\n",
    "_laps_histogram_out, _ripple_histogram_out = _perform_dual_hist_plot(grainularity_desc='by-time-bin', laps_df=all_sessions_laps_time_bin_df, ripple_df=all_sessions_ripple_time_bin_df,\n",
    "                                                                    #   legend_groups_to_solo=[0.025, 0.058], legend_groups_to_hide=None,\n",
    "                                                                    #   legend_groups_to_solo=None, legend_groups_to_hide=[0.03, 0.0444, 0.05],\n",
    "                                                                      )\n",
    "\n",
    "_out_figs_dict[_laps_histogram_out.context.descriptor_str] = _laps_histogram_out.figures[0]\n",
    "_out_figs_dict[_ripple_histogram_out.context.descriptor_str] = _ripple_histogram_out.figures[0]\n",
    "\n",
    "# grainularity_desc: str = 'by-epoch'\n",
    "# laps_df: pd.DataFrame = all_sessions_laps_df\n",
    "# ripple_df: pd.DataFrame = all_sessions_ripple_df\n",
    "_laps_histogram_out, _ripple_histogram_out = _perform_dual_hist_plot(grainularity_desc='by-epoch', laps_df=all_sessions_laps_df, ripple_df=all_sessions_ripple_df)\n",
    "_out_figs_dict[_laps_histogram_out.context.descriptor_str] = _laps_histogram_out.figures[0]\n",
    "_out_figs_dict[_ripple_histogram_out.context.descriptor_str] = _ripple_histogram_out.figures[0]\n",
    "_out_figs_dict"
   ]
  },
  {
   "cell_type": "code",
   "execution_count": null,
   "metadata": {},
   "outputs": [],
   "source": [
    "\n",
    "# display(_laps_histogram_out)\n",
    "# display(_ripple_histogram_out)\n",
    "fig_to_clipboard(_laps_histogram_out.figures[0], bbox_inches='tight')\n"
   ]
  },
  {
   "cell_type": "code",
   "execution_count": null,
   "metadata": {},
   "outputs": [],
   "source": [
    "fig_to_clipboard(_ripple_histogram_out.figures[0], bbox_inches='tight')"
   ]
  },
  {
   "cell_type": "code",
   "execution_count": null,
   "metadata": {},
   "outputs": [],
   "source": [
    "\n",
    "fig_to_clipboard(_laps_histogram_out.figures[0], bbox_inches='tight')"
   ]
  },
  {
   "cell_type": "code",
   "execution_count": null,
   "metadata": {},
   "outputs": [],
   "source": [
    "fig_to_clipboard(_ripple_histogram_out.figures[0], bbox_inches='tight')"
   ]
  },
  {
   "cell_type": "code",
   "execution_count": null,
   "metadata": {},
   "outputs": [],
   "source": [
    "from pyphocorehelpers.plotting.media_output_helpers import figure_to_pil_image, vertical_image_stack, horizontal_image_stack, image_grid\n",
    "\n",
    "# fig_img = figure_to_pil_image(a_fig=_ripple_histogram_out.figures[0])\n",
    "# fig_img\n",
    "\n",
    "all_img_list = []\n",
    "laps_list = []\n",
    "PBEs_list = []\n",
    "\n",
    "for a_key, a_fig in _out_figs_dict.items():\n",
    "    fig_img = figure_to_pil_image(a_fig=a_fig)\n",
    "\n",
    "    if 'Laps' in a_key:\n",
    "        laps_list.append(fig_img)\n",
    "        \n",
    "    if 'PBEs' in a_key:\n",
    "        PBEs_list.append(fig_img)\n",
    "        \n",
    "    all_img_list.append(fig_img)\n",
    "    \n",
    "# all_img_list\n",
    "\n",
    "# vertical_image_stack(laps_list)\n",
    "combined_all_img = vertical_image_stack([\n",
    "    horizontal_image_stack(laps_list),\n",
    "    horizontal_image_stack(PBEs_list)\n",
    "])\n",
    "combined_all_img\n",
    "\n",
    "copy_image_to_clipboard(combined_all_img)"
   ]
  },
  {
   "cell_type": "markdown",
   "metadata": {},
   "source": [
    "# 2024-11-18 - Collecting wcorr results from session_data folders:"
   ]
  },
  {
   "cell_type": "code",
   "execution_count": null,
   "metadata": {},
   "outputs": [],
   "source": [
    "from pyphoplacecellanalysis.General.Batch.runBatch import get_file_path_if_file_exists\n",
    "# from pyphoplacecellanalysis.SpecificResults.AcrossSessionResults import copy_session_folder_files_to_target_dir\n",
    "from pyphocorehelpers.Filesystem.path_helpers import copy_movedict\n",
    "from neuropy.core.user_annotations import UserAnnotationsManager\n",
    "from pyphoplacecellanalysis.SpecificResults.AcrossSessionResults import AcrossSessionHelpers\n",
    "\n",
    "copy_dict, moved_files_dict_files = AcrossSessionHelpers._copy_exported_files_from_session_folder_to_collected_outputs(BATCH_DATE_TO_USE='2024-11-19', cuttoff_date=datetime(2024, 11, 16), target_dir=collected_outputs_directory, is_dry_run=True)\n",
    "# copy_dict, moved_files_dict_files = AcrossSessionHelpers._copy_exported_files_from_session_folder_to_collected_outputs(BATCH_DATE_TO_USE='2024-11-19', cuttoff_date=datetime(2024, 11, 16), target_dir=collected_outputs_directory, is_dry_run=False)\n",
    "copy_dict\n",
    "    "
   ]
  },
  {
   "cell_type": "code",
   "execution_count": null,
   "metadata": {},
   "outputs": [],
   "source": [
    "len(all_found_parsed_csv_files_df_dict[a_session_basedir])\n",
    "all_found_parsed_csv_files_df_dict[a_session_basedir]['_comparable_custom_replay_name'].unique()\n",
    "all_found_parsed_csv_files_df_dict[a_session_basedir]['custom_replay_name'].unique()\n",
    "len(all_found_parsed_csv_files_df_dict[a_session_basedir]['_comparable_custom_replay_name'].unique()), len(all_found_parsed_csv_files_df_dict[a_session_basedir]['custom_replay_name'].unique())\n",
    "all_found_parsed_csv_files_df_dict[a_session_basedir]['path'].unique()\n",
    "\n",
    "8, (7, 7) # compare_custom_replay_name_col_name: str = '_comparable_custom_replay_name' ## fewer total entries\n",
    "9, (7, 8) # compare_custom_replay_name_col_name: str = 'custom_replay_name'\n",
    "\n",
    "# \"2024-11-18_1210PM-kdiba_gor01_one_2006-6-09_1-22-43__withNormalComputedReplays-qclu_[1, 2, 4, 6, 7, 9]-frateThresh_1.0-(ripple_WCorrShuffle_df)_tbin-0.025.csv\" # \"-\" separator\n",
    "# \"2024-11-18_1210PM-kdiba_gor01_one_2006-6-09_1-22-43__withNormalComputedReplays_qclu_[1, 2, 4, 6, 7, 9]_frateThresh_1.0-(ripple_WCorrShuffle_df)_tbin-0.025.csv\" # \"_\" separator\n",
    "\n",
    "test_path: Path = Path('W:/Data/KDIBA/gor01/one/2006-6-09_1-22-43/output/2024-11-18_1020PM-kdiba_gor01_one_2006-6-09_1-22-43__withNormalComputedReplays_qclu_[1, 2, 4, 6, 7, 9]_frateThresh_1.0-(ripple_WCorrShuffle_df)_tbin-0.025.csv').resolve()\n",
    "test_path\n",
    "\n",
    "collected_outputs_directory.joinpath(test_path.name)"
   ]
  },
  {
   "cell_type": "code",
   "execution_count": null,
   "metadata": {},
   "outputs": [],
   "source": []
  }
 ],
 "metadata": {
  "kernelspec": {
   "display_name": "Python 3 (ipykernel)",
   "language": "python",
   "name": "python3"
  },
  "language_info": {
   "codemirror_mode": {
    "name": "ipython",
    "version": 3
   },
   "file_extension": ".py",
   "mimetype": "text/x-python",
   "name": "python",
   "nbconvert_exporter": "python",
   "pygments_lexer": "ipython3",
   "version": "3.9.19"
  }
 },
 "nbformat": 4,
 "nbformat_minor": 2
}
