{
 "cells": [
  {
   "cell_type": "code",
   "execution_count": 5,
   "metadata": {
    "notebookRunGroups": {
     "groupValue": "1"
    },
    "tags": [
     "remove-input",
     "run_main",
     "run-group-startup"
    ]
   },
   "outputs": [
    {
     "name": "stdout",
     "output_type": "stream",
     "text": [
      "Automatic pdb calling has been turned OFF\n",
      "The autoreload extension is already loaded. To reload it, use:\n",
      "  %reload_ext autoreload\n",
      "TODAY_DAY_DATE: 2024-10-29_GL\n"
     ]
    }
   ],
   "source": [
    "%config IPCompleter.use_jedi = False\n",
    "%pdb off\n",
    "%load_ext autoreload\n",
    "%autoreload 3\n",
    "\n",
    "# required to enable non-blocking interaction:\n",
    "%gui qt5\n",
    "\n",
    "import sys\n",
    "from copy import deepcopy\n",
    "from typing import Dict, List, Tuple, Optional, Callable, Union, Any\n",
    "from typing_extensions import TypeAlias\n",
    "from neuropy.utils.result_context import IdentifyingContext\n",
    "from nptyping import NDArray\n",
    "import neuropy.utils.type_aliases as types\n",
    "from collections import defaultdict\n",
    "\n",
    "import numpy as np\n",
    "import pandas as pd\n",
    "import re\n",
    "from pathlib import Path\n",
    "from datetime import datetime\n",
    "\n",
    "from neuropy.utils.indexing_helpers import PandasHelpers\n",
    "from neuropy.core.user_annotations import UserAnnotationsManager\n",
    "from pyphocorehelpers.indexing_helpers import partition_df\n",
    "# Set the maximum number of columns to display\n",
    "pd.set_option('display.max_columns', 100)\n",
    "\n",
    "import IPython\n",
    "from pyphocorehelpers.programming_helpers import IPythonHelpers\n",
    "from pyphocorehelpers.notebook_helpers import NotebookCellExecutionLogger\n",
    "from pyphocorehelpers.assertion_helpers import Assert\n",
    "\n",
    "# Jupyter-lab enable printing for any line on its own (instead of just the last one in the cell)\n",
    "from IPython.core.interactiveshell import InteractiveShell\n",
    "InteractiveShell.ast_node_interactivity = \"all\"\n",
    "\n",
    "_notebook_path:Path = Path(IPythonHelpers.try_find_notebook_filepath(IPython.extract_module_locals())).resolve() # Finds the path of THIS notebook\n",
    "\n",
    "# Plotting\n",
    "# import pylustrator # customization of figures\n",
    "import matplotlib\n",
    "import matplotlib as mpl\n",
    "import matplotlib.pyplot as plt\n",
    "_bak_rcParams = mpl.rcParams.copy()\n",
    "\n",
    "matplotlib.use('Qt5Agg')\n",
    "\n",
    "# Switch to the desired interactivity mode\n",
    "plt.interactive(True)\n",
    "\n",
    "import seaborn as sns\n",
    "\n",
    "import plotly.express as px\n",
    "import plotly.graph_objects as go\n",
    "from plotly.subplots import make_subplots\n",
    "import plotly.io as pio\n",
    "template: str = 'plotly_dark' # set plotl template\n",
    "pio.templates.default = template\n",
    "from pyphocorehelpers.plotting.media_output_helpers import fig_to_clipboard\n",
    "from pyphocorehelpers.Filesystem.path_helpers import file_uri_from_path, sanitize_filename_for_Windows\n",
    "from pyphocorehelpers.gui.Jupyter.simple_widgets import fullwidth_path_widget, simple_path_display_widget\n",
    "from pyphoplacecellanalysis.Pho2D.plotly.Extensions.plotly_helpers import plotly_helper_save_figures, _helper_build_figure, plotly_pre_post_delta_scatter, plot_across_sessions_scatter_results\n",
    "from pyphocorehelpers.assertion_helpers import Assert\n",
    "\n",
    "# from ..PendingNotebookCode import plot_across_sessions_scatter_results, plot_histograms, plot_stacked_histograms\n",
    "from pyphocorehelpers.Filesystem.path_helpers import find_first_extant_path\n",
    "from pyphoplacecellanalysis.SpecificResults.AcrossSessionResults import find_csv_files, find_HDF5_files, find_most_recent_files\n",
    "from pyphoplacecellanalysis.Pho2D.statistics_plotting_helpers import plot_histograms_across_sessions, plot_histograms, plot_stacked_histograms\n",
    "\n",
    "from pyphoplacecellanalysis.General.Pipeline.Stages.ComputationFunctions.MultiContextComputationFunctions.DirectionalPlacefieldGlobalComputationFunctions import DecoderDecodedEpochsResult\n",
    "from pyphoplacecellanalysis.SpecificResults.AcrossSessionResults import load_across_sessions_exported_files, _process_and_load_exported_file, _common_cleanup_operations\n",
    "\n",
    "from pyphocorehelpers.programming_helpers import metadata_attributes\n",
    "from pyphocorehelpers.function_helpers import function_attributes\n",
    "\n",
    "from pyphoplacecellanalysis.SpecificResults.AcrossSessionResults import build_session_t_delta, _new_process_csv_files, _old_process_csv_files\n",
    "\n",
    "debug_print: bool = False\n",
    "enable_neptune: bool = False\n",
    "\n",
    "_TODAY_DAY_ONLY_DATE: str = \"2024-10-29\"\n",
    "# TODAY_DAY_DATE: str = f\"{_TODAY_DAY_ONLY_DATE}_Apogee\"\n",
    "TODAY_DAY_DATE: str = f\"{_TODAY_DAY_ONLY_DATE}_GL\"\n",
    "# TODAY_DAY_DATE: str = f\"{_TODAY_DAY_ONLY_DATE}_Lab\"\n",
    "# TODAY_DAY_DATE: str = f\"{_TODAY_DAY_ONLY_DATE}_rMBP\"\n",
    "\n",
    "print(f'TODAY_DAY_DATE: {TODAY_DAY_DATE}')\n",
    "\n",
    "types.session_str: TypeAlias = str # a unique session identifier\n",
    "\n",
    "if enable_neptune:\n",
    "    import neptune # for logging progress and results\n",
    "    from neptune.types import File\n",
    "    from pyphoplacecellanalysis.General.Batch.NeptuneAiHelpers import Neptuner, AutoValueConvertingNeptuneRun, set_environment_variables \n",
    "\n",
    "    ## Gets the notebook filepath for Neptune:\n",
    "    import IPython\n",
    "    from pyphocorehelpers.programming_helpers import IPythonHelpers\n",
    "    notebook_filepath: str = IPythonHelpers.try_find_notebook_filepath(IPython.extract_module_locals())\n",
    "    assert Path(notebook_filepath).resolve().exists(), f\"found notebook filepath: '{notebook_filepath}' does not exist\"\n",
    "    # notebook_filepath\n",
    "\n",
    "    neptune_kwargs = {'project':\"commander.pho/PhoDibaLongShortAcrossSessions\",\n",
    "    'api_token':\"eyJhcGlfYWRkcmVzcyI6Imh0dHBzOi8vYXBwLm5lcHR1bmUuYWkiLCJhcGlfdXJsIjoiaHR0cHM6Ly9hcHAubmVwdHVuZS5haSIsImFwaV9rZXkiOiIxOGIxODU2My1lZTNhLTQ2ZWMtOTkzNS02ZTRmNzM5YmNjNjIifQ==\"}\n",
    "            \n",
    "    neptuner = Neptuner(project_name=neptune_kwargs['project'], api_token=neptune_kwargs['api_token'])\n",
    "\n",
    "\n",
    "    if neptuner.run is None:\n",
    "        neptuner.run = AutoValueConvertingNeptuneRun(project=neptuner.project_name, api_token=neptuner.api_token, dependencies=\"infer\", source_files=[notebook_filepath])\n",
    "        params = {\"TODAY_DAY_DATE\": TODAY_DAY_DATE, \"run_workstation\": \"Apogee\"}\n",
    "        neptuner.run[\"parameters\"] = params\n",
    "        neptuner.outputs = neptuner.run['outputs']\n",
    "        neptuner.figures = neptuner.outputs['figures']\n",
    "\n",
    "    neptuner_run: AutoValueConvertingNeptuneRun = neptuner.run\n",
    "    \n",
    "    # run = neptune.init_run(source_files=[\"**/*.dvc\"])\n",
    "\n",
    "    # # Pre-execution dataframe view:\n",
    "    # run[\"dataset/global_batch_run_progress_df\"].upload(File.as_html(global_batch_run.to_dataframe(expand_context=True, good_only=False))) # \"path/to/test_preds.csv\"\n",
    "\n",
    "else:\n",
    "    # no neptune:\n",
    "    neptuner = None    \n",
    "    neptuner_run = None\n",
    "\n",
    "\n",
    "\n",
    "known_bad_sessions: List[IdentifyingContext] = UserAnnotationsManager.get_hardcoded_bad_sessions()\n",
    "# bad_session_df: pd.DataFrame = pd.DataFrame.from_records([v.to_dict() for v in known_bad_sessions], columns=['format_name', 'animal', 'exper_name', 'session_name'])\n",
    "# bad_session_df\n",
    "\n",
    "known_bad_session_strs = [str(v.get_description()) for v in known_bad_sessions]\n",
    "# known_bad_session_strs"
   ]
  },
  {
   "cell_type": "markdown",
   "metadata": {},
   "source": [
    "# Graphics Imports"
   ]
  },
  {
   "cell_type": "code",
   "execution_count": 6,
   "metadata": {
    "tags": [
     "run-group-startup",
     "run_main"
    ]
   },
   "outputs": [],
   "source": [
    "import matplotlib\n",
    "from neuropy.core.user_annotations import UserAnnotationsManager\n",
    "from pyphocorehelpers.DataStructure.RenderPlots.MatplotLibRenderPlots import MatplotlibRenderPlots\n",
    "from neuropy.utils.matplotlib_helpers import matplotlib_configuration_update\n",
    "# matplotlib.use('Qt5Agg')\n",
    "from pyphoplacecellanalysis.SpecificResults.AcrossSessionResults import AcrossSessionsResults, AcrossSessionTables, AcrossSessionsVisualizations\n",
    "from pyphoplacecellanalysis.SpecificResults.PhoDiba2023Paper import PaperFigureTwo\n",
    "\n",
    "def _save_matplotlib_fig(matplotlib_output_container: MatplotlibRenderPlots):\n",
    "\n",
    "    a_fig_context = matplotlib_output_container.context\n",
    "    assert len(matplotlib_output_container.saved_figures) == 1\n",
    "    a_saved_fig_path = matplotlib_output_container.saved_figures[0][0]\n",
    "    assert a_saved_fig_path.exists()\n",
    "\n",
    "    if neptuner_run is not None:\n",
    "        a_full_figure_path_key: str = a_fig_context.get_description(separator='/', include_property_names=True, key_value_separator=':') # .replace(' ', '_')\n",
    "        # a_full_figure_path_key: str = a_fig_context.get_description(separator=':', include_property_names=True, key_value_separator='|')\n",
    "        print(f'a_full_figure_path_key: \"{a_full_figure_path_key}\"')\n",
    "        # neptuner_run['outputs']['figures'][f\"{a_full_figure_path_key}\"].upload(a_fig)\n",
    "        neptuner_run['outputs']['figures'][f\"{a_full_figure_path_key}\"].upload(a_saved_fig_path.as_posix())\n",
    "        # neptuner.figures[f\"{a_full_figure_path_key}\"].upload(a_fig)\n",
    "        \n",
    "\n",
    "# %matplotlib inline\n",
    "\n",
    "\n",
    "# with matplotlib_configuration_update(is_interactive=False, backend='nbAgg'):\n",
    "# 'collected_outputs/across_session_result_long_short_recomputed_inst_firing_rate_2024-06-11_GL.pkl'"
   ]
  },
  {
   "cell_type": "code",
   "execution_count": 7,
   "metadata": {
    "tags": [
     "run-group-startup",
     "run_main"
    ]
   },
   "outputs": [],
   "source": [
    "import plotly.io as pio\n",
    "from pyphoplacecellanalysis.Pho2D.plotly.plotly_templates import PlotlyHelpers\n",
    "from pyphoplacecellanalysis.Pho2D.statistics_plotting_helpers import plot_histograms_across_sessions, plot_stacked_histograms\n",
    "from pyphoplacecellanalysis.Pho2D.plotly.Extensions.plotly_helpers import plotly_helper_save_figures, _helper_build_figure, plotly_pre_post_delta_scatter, plot_across_sessions_scatter_results, add_copy_save_action_buttons\n",
    "\n",
    "# fig_size_kwargs = {'width': 1650, 'height': 480}\n",
    "resolution_multiplier = 1\n",
    "# fig_size_kwargs = {'width': resolution_multiplier*1650, 'height': resolution_multiplier*480}\n",
    " ## set up figure size\n",
    "fig_size_kwargs = {'width': (resolution_multiplier * 1800), 'height': (resolution_multiplier*480)}\n",
    "# fig_size_kwargs = {'width': (resolution_multiplier * 1080), 'height': resolution_multiplier*480}\n",
    "is_dark_mode, template = PlotlyHelpers.get_plotly_template(is_dark_mode=False)\n",
    "pio.templates.default = template\n",
    "\n",
    "# figure_export_path = Path(r'E:\\Dropbox (Personal)\\Active\\Kamran Diba Lab\\Presentations\\2024-05-30 - Pho iNAV Poster\\Figures').resolve()\n",
    "# figure_export_path = Path('/Users/pho/Dropbox (Personal)/Active/Kamran Diba Lab/Presentations/2024-05-30 - Pho iNAV Poster/Figures').resolve()\n",
    "\n",
    "# assert figure_export_path.exists()\n",
    "\n",
    "from PIL import Image\n",
    "\n",
    "from pyphocorehelpers.programming_helpers import copy_image_to_clipboard\n",
    "\n",
    "def save_plotly(a_fig, a_fig_context):\n",
    "    \"\"\" \n",
    "    captures: TODAY_DAY_DATE, figures_folder, neptuner_run\n",
    "    \"\"\"\n",
    "    fig_save_path: Path = figures_folder.joinpath('_'.join([TODAY_DAY_DATE, sanitize_filename_for_Windows(a_fig_context.get_description())])).resolve()\n",
    "    figure_out_paths = {'.html': fig_save_path.with_suffix('.html'), '.png': fig_save_path.with_suffix('.png')}\n",
    "    a_fig.write_html(figure_out_paths['.html'])\n",
    "    display(fullwidth_path_widget(figure_out_paths['.html'], file_name_label='.html'))\n",
    "    # print(file_uri_from_path(figure_out_paths['.html']))\n",
    "    a_fig.write_image(figure_out_paths['.png'])\n",
    "    # print(file_uri_from_path(figure_out_paths['.png']))\n",
    "    display(fullwidth_path_widget(figure_out_paths['.png'], file_name_label='.png'))\n",
    "\n",
    "    if neptuner_run is not None:\n",
    "        a_full_figure_path_key: str = a_fig_context.get_description(separator='/', include_property_names=True, key_value_separator=':') # .replace(' ', '_')\n",
    "        # a_full_figure_path_key: str = a_fig_context.get_description(separator=':', include_property_names=True, key_value_separator='|')\n",
    "        print(f'a_full_figure_path_key: \"{a_full_figure_path_key}\"')\n",
    "        # neptuner_run['outputs']['figures'][f\"{a_full_figure_path_key}\"].upload(a_fig)\n",
    "        neptuner_run['outputs']['figures'][f\"{a_full_figure_path_key}\"].upload(figure_out_paths['.html'].as_posix())\n",
    "        # neptuner.figures[f\"{a_full_figure_path_key}\"].upload(a_fig)\n",
    "        \n",
    "    return figure_out_paths\n"
   ]
  },
  {
   "cell_type": "markdown",
   "metadata": {},
   "source": [
    "### csv_files"
   ]
  },
  {
   "cell_type": "code",
   "execution_count": 8,
   "metadata": {
    "notebookRunGroups": {
     "groupValue": "1"
    },
    "tags": [
     "remove-cell",
     "run_main",
     "run-group-startup"
    ]
   },
   "outputs": [],
   "source": [
    "## Load across session t_delta CSV, which contains the t_delta for each session:\n",
    "\n",
    "## INPUTS: known_bad_session_strs,\n",
    "\n",
    "# cuttoff_date = datetime(2024, 9, 26)\n",
    "cuttoff_date = datetime(2024, 10, 28)\n",
    "# cuttoff_date = datetime(2024, 5, 18)\n",
    "# cuttoff_date = None\n"
   ]
  },
  {
   "cell_type": "code",
   "execution_count": 9,
   "metadata": {
    "tags": [
     "run-group-startup",
     "run_main"
    ]
   },
   "outputs": [
    {
     "name": "stdout",
     "output_type": "stream",
     "text": [
      "collected_outputs_directory: /nfs/turbo/umms-kdiba/Pho/Output/collected_outputs\n",
      "\tfigures_folder: file:///nfs/turbo/umms-kdiba/Pho/Output/collected_outputs/figures\n",
      "\tacross_sessions_output_folder: file:///nfs/turbo/umms-kdiba/Pho/Output/across_sessions\n"
     ]
    }
   ],
   "source": [
    "\n",
    "known_collected_outputs_paths = [Path(v).resolve() for v in ['/Users/pho/data/collected_outputs',\n",
    "                                                            '/Volumes/SwapSSD/Data/collected_outputs', r\"K:/scratch/collected_outputs\", '/Users/pho/Dropbox (University of Michigan)/MED-DibaLabDropbox/Data/Pho/Outputs/output/collected_outputs', r'C:/Users/pho/repos/Spike3DWorkEnv/Spike3D/output/collected_outputs',\n",
    "                                                            '/home/halechr/cloud/turbo/Data/Output/collected_outputs',\n",
    "                                                            '/home/halechr/cloud/turbo/Pho/Output/collected_outputs',\n",
    "                                                            '/home/halechr/FastData/collected_outputs/',\n",
    "                                                            ]]\n",
    "collected_outputs_directory = find_first_extant_path(known_collected_outputs_paths)\n",
    "assert collected_outputs_directory.exists(), f\"collected_outputs_directory: {collected_outputs_directory} does not exist! Is the right computer's config commented out above?\"\n",
    "# fullwidth_path_widget(scripts_output_path, file_name_label='Scripts Output Path:')\n",
    "print(f'collected_outputs_directory: {collected_outputs_directory}')\n",
    "\n",
    "\n",
    "# _active_folder_widget = fullwidth_path_widget(collected_outputs_directory)\n",
    "# display(_active_folder_widget)\n",
    "\n",
    "# Create a 'figures' subfolder if it doesn't exist\n",
    "figures_folder: Path = collected_outputs_directory.joinpath('figures').resolve()\n",
    "figures_folder.mkdir(parents=False, exist_ok=True)\n",
    "assert figures_folder.exists()\n",
    "print(f'\\tfigures_folder: {file_uri_from_path(figures_folder)}')\n",
    "\n",
    "# Create an output path for the across session collected results (like the aggregate CSVs built from the individual session CSVs)\n",
    "across_sessions_output_folder: Path = collected_outputs_directory.joinpath('../across_sessions').resolve()\n",
    "across_sessions_output_folder.mkdir(parents=False, exist_ok=True)\n",
    "assert across_sessions_output_folder.exists()\n",
    "print(f'\\tacross_sessions_output_folder: {file_uri_from_path(across_sessions_output_folder)}')\n",
    "\n",
    "\n",
    "# ## sessions' t_delta:\n",
    "# # t_delta_csv_path = collected_outputs_directory.joinpath('../2024-01-18_GL_t_split_df.csv').resolve() # GL\n",
    "# t_delta_csv_path = collected_outputs_directory.joinpath('../2024-09-25_GL_t_split_df.csv').resolve()\n",
    "# # Assert.file_e\n",
    "# t_delta_df, t_delta_dict, (earliest_delta_aligned_t_start, latest_delta_aligned_t_end) = build_session_t_delta(t_delta_csv_path=t_delta_csv_path)\n",
    "\n",
    "if neptuner_run is not None:\n",
    "    _neptuner_run_parameters = dict(cuttoff_date=cuttoff_date, collected_outputs_directory=collected_outputs_directory.as_posix(), figures_folder=figures_folder.as_posix(),\n",
    "                           across_sessions_output_folder=across_sessions_output_folder.as_posix(), t_delta_csv_path=t_delta_csv_path.as_posix())\n",
    "    for k, v in _neptuner_run_parameters.items():\n",
    "        neptuner_run[f'parameters/{k}'] = v\n",
    "    _neptuner_run_parameters = {} # reset after writing\n",
    "\n",
    "# ## Find the files:\n",
    "# csv_files = find_csv_files(collected_outputs_directory)\n",
    "# h5_files = find_HDF5_files(collected_outputs_directory)\n",
    "\n",
    "# csv_sessions, parsed_csv_files_df  = find_most_recent_files(found_session_export_paths=csv_files, cuttoff_date=cuttoff_date) # #TODO 2024-09-27 02:01: - [ ] Note `csv_sessions` is unused, replaced by `parsed_csv_files_df`\n",
    "# h5_sessions, parsed_h5_files_df = find_most_recent_files(found_session_export_paths=h5_files)\n"
   ]
  },
  {
   "cell_type": "code",
   "execution_count": 10,
   "metadata": {
    "tags": [
     "run-group-startup",
     "run_main"
    ]
   },
   "outputs": [
    {
     "name": "stdout",
     "output_type": "stream",
     "text": [
      "collected_outputs_directory: /nfs/turbo/umms-kdiba/Pho/Output/collected_outputs\n",
      "earliest_delta_aligned_t_start: -2057.225948, latest_delta_aligned_t_end: 1661.856002\n",
      "ERR: Could not parse filename: \"session_h5_files_copydict_2024-09-26_GL\"\n",
      "ERR: Could not parse filename: \"session_h5_files_copydict_2024-09-11_GL\"\n",
      "ERR: Could not parse filename: \"session_h5_files_copydict_2024-10-24_GL\"\n",
      "ERR: Could not parse filename: \"session_h5_files_copydict_2024-10-28_GL\"\n",
      "ERR: Could not parse filename: \"session_h5_files_copydict_2024-10-22_GL\"\n",
      "ERR: Could not parse filename: \"session_h5_files_copydict_2024-09-12_GL\"\n",
      "ERR: Could not parse filename: \"session_h5_files_copydict_2024-10-28_GL_allQClus\"\n",
      "ERR: Could not parse filename: \"sessions_experiment_datetime_df\"\n",
      "failed to find proper 'is_user_annotated_epoch' and 'is_valid_epoch' columns for the epochs passed with error: 'is_user_annotated_epoch'. Skipping.\n",
      "WARNING: no `all_sessions_all_scores_df` to get \"is_valid_epoch\" and \"is_user_annotated_epoch\" from!\n",
      "\tSetting \"is_valid_epoch\" all to True and \"is_user_annotated_Epoch\" all to False.\n"
     ]
    }
   ],
   "source": [
    "from pyphoplacecellanalysis.SpecificResults.AcrossSessionResults import load_across_sessions_exported_files\n",
    "\n",
    "final_sessions, sessions_t_delta_tuple, df_results, (parsed_csv_files_df, csv_files, csv_sessions), (parsed_h5_files_df, h5_files, h5_sessions), excluded_or_outdated_files_list = load_across_sessions_exported_files(cuttoff_date=cuttoff_date, debug_print=True)\n",
    "all_sessions_laps_df, all_sessions_ripple_df, all_sessions_laps_time_bin_df, all_sessions_ripple_time_bin_df, all_sessions_MultiMeasure_laps_df, all_sessions_MultiMeasure_ripple_df, all_sessions_all_scores_ripple_df = df_results\n",
    "t_delta_df, t_delta_dict, (earliest_delta_aligned_t_start, latest_delta_aligned_t_end) = sessions_t_delta_tuple ## UNPACK"
   ]
  },
  {
   "cell_type": "code",
   "execution_count": 11,
   "metadata": {},
   "outputs": [
    {
     "data": {
      "text/html": [
       "<div>\n",
       "<style scoped>\n",
       "    .dataframe tbody tr th:only-of-type {\n",
       "        vertical-align: middle;\n",
       "    }\n",
       "\n",
       "    .dataframe tbody tr th {\n",
       "        vertical-align: top;\n",
       "    }\n",
       "\n",
       "    .dataframe thead th {\n",
       "        text-align: right;\n",
       "    }\n",
       "</style>\n",
       "<table border=\"1\" class=\"dataframe\">\n",
       "  <thead>\n",
       "    <tr style=\"text-align: right;\">\n",
       "      <th></th>\n",
       "      <th>start</th>\n",
       "      <th>stop</th>\n",
       "      <th>label</th>\n",
       "      <th>duration</th>\n",
       "      <th>P_Long_LR</th>\n",
       "      <th>pearsonr_long_LR</th>\n",
       "      <th>wcorr_long_LR</th>\n",
       "      <th>P_Long_RL</th>\n",
       "      <th>pearsonr_long_RL</th>\n",
       "      <th>wcorr_long_RL</th>\n",
       "      <th>P_Short_LR</th>\n",
       "      <th>pearsonr_short_LR</th>\n",
       "      <th>wcorr_short_LR</th>\n",
       "      <th>P_Short_RL</th>\n",
       "      <th>pearsonr_short_RL</th>\n",
       "      <th>wcorr_short_RL</th>\n",
       "      <th>P_Long</th>\n",
       "      <th>P_Short</th>\n",
       "      <th>P_LR</th>\n",
       "      <th>P_RL</th>\n",
       "      <th>ripple_start_t</th>\n",
       "      <th>long_best_P_decoder</th>\n",
       "      <th>short_best_P_decoder</th>\n",
       "      <th>P_decoder_diff</th>\n",
       "      <th>session_name</th>\n",
       "      <th>time_bin_size</th>\n",
       "      <th>delta_aligned_start_t</th>\n",
       "      <th>pre_post_delta_category</th>\n",
       "      <th>custom_replay_name</th>\n",
       "      <th>P_Long.1</th>\n",
       "      <th>P_Short.1</th>\n",
       "      <th>P_LR.1</th>\n",
       "      <th>P_RL.1</th>\n",
       "      <th>session_experience_rank</th>\n",
       "      <th>session_experience_orientation_rank</th>\n",
       "      <th>is_novel_exposure</th>\n",
       "    </tr>\n",
       "  </thead>\n",
       "  <tbody>\n",
       "    <tr>\n",
       "      <th>0</th>\n",
       "      <td>40.187177</td>\n",
       "      <td>40.488202</td>\n",
       "      <td>0</td>\n",
       "      <td>0.301025</td>\n",
       "      <td>0.336490</td>\n",
       "      <td>-0.010803</td>\n",
       "      <td>0.217800</td>\n",
       "      <td>0.208226</td>\n",
       "      <td>-0.155782</td>\n",
       "      <td>-0.015209</td>\n",
       "      <td>0.281245</td>\n",
       "      <td>0.088591</td>\n",
       "      <td>0.127214</td>\n",
       "      <td>0.174039</td>\n",
       "      <td>-0.002583</td>\n",
       "      <td>0.143401</td>\n",
       "      <td>0.544716</td>\n",
       "      <td>0.455284</td>\n",
       "      <td>0.617735</td>\n",
       "      <td>0.382265</td>\n",
       "      <td>40.187177</td>\n",
       "      <td>0.208226</td>\n",
       "      <td>0.174039</td>\n",
       "      <td>0.034187</td>\n",
       "      <td>kdiba_gor01_one_2006-6-08_14-26-15</td>\n",
       "      <td>0.025</td>\n",
       "      <td>-1171.370903</td>\n",
       "      <td>pre-delta</td>\n",
       "      <td></td>\n",
       "      <td>NaN</td>\n",
       "      <td>NaN</td>\n",
       "      <td>NaN</td>\n",
       "      <td>NaN</td>\n",
       "      <td>2</td>\n",
       "      <td>1</td>\n",
       "      <td>False</td>\n",
       "    </tr>\n",
       "    <tr>\n",
       "      <th>1</th>\n",
       "      <td>41.011916</td>\n",
       "      <td>41.359114</td>\n",
       "      <td>1</td>\n",
       "      <td>0.347197</td>\n",
       "      <td>0.244382</td>\n",
       "      <td>-0.049109</td>\n",
       "      <td>-0.086171</td>\n",
       "      <td>0.231486</td>\n",
       "      <td>-0.181998</td>\n",
       "      <td>-0.252270</td>\n",
       "      <td>0.269167</td>\n",
       "      <td>-0.104381</td>\n",
       "      <td>-0.074273</td>\n",
       "      <td>0.254964</td>\n",
       "      <td>-0.166440</td>\n",
       "      <td>-0.114507</td>\n",
       "      <td>0.475869</td>\n",
       "      <td>0.524131</td>\n",
       "      <td>0.513550</td>\n",
       "      <td>0.486450</td>\n",
       "      <td>41.011916</td>\n",
       "      <td>0.231486</td>\n",
       "      <td>0.254964</td>\n",
       "      <td>-0.023477</td>\n",
       "      <td>kdiba_gor01_one_2006-6-08_14-26-15</td>\n",
       "      <td>0.025</td>\n",
       "      <td>-1170.546164</td>\n",
       "      <td>pre-delta</td>\n",
       "      <td></td>\n",
       "      <td>NaN</td>\n",
       "      <td>NaN</td>\n",
       "      <td>NaN</td>\n",
       "      <td>NaN</td>\n",
       "      <td>2</td>\n",
       "      <td>1</td>\n",
       "      <td>False</td>\n",
       "    </tr>\n",
       "    <tr>\n",
       "      <th>2</th>\n",
       "      <td>43.429702</td>\n",
       "      <td>43.489729</td>\n",
       "      <td>2</td>\n",
       "      <td>0.060027</td>\n",
       "      <td>0.475823</td>\n",
       "      <td>0.071336</td>\n",
       "      <td>-0.752464</td>\n",
       "      <td>0.476028</td>\n",
       "      <td>-0.413563</td>\n",
       "      <td>-0.476701</td>\n",
       "      <td>0.024069</td>\n",
       "      <td>0.063264</td>\n",
       "      <td>-0.800832</td>\n",
       "      <td>0.024080</td>\n",
       "      <td>-0.471881</td>\n",
       "      <td>-0.705234</td>\n",
       "      <td>0.951851</td>\n",
       "      <td>0.048149</td>\n",
       "      <td>0.499892</td>\n",
       "      <td>0.500108</td>\n",
       "      <td>43.429702</td>\n",
       "      <td>0.475823</td>\n",
       "      <td>0.024069</td>\n",
       "      <td>0.451754</td>\n",
       "      <td>kdiba_gor01_one_2006-6-08_14-26-15</td>\n",
       "      <td>0.025</td>\n",
       "      <td>-1168.128378</td>\n",
       "      <td>pre-delta</td>\n",
       "      <td></td>\n",
       "      <td>NaN</td>\n",
       "      <td>NaN</td>\n",
       "      <td>NaN</td>\n",
       "      <td>NaN</td>\n",
       "      <td>2</td>\n",
       "      <td>1</td>\n",
       "      <td>False</td>\n",
       "    </tr>\n",
       "    <tr>\n",
       "      <th>3</th>\n",
       "      <td>44.189868</td>\n",
       "      <td>44.279447</td>\n",
       "      <td>3</td>\n",
       "      <td>0.089579</td>\n",
       "      <td>0.362102</td>\n",
       "      <td>0.269543</td>\n",
       "      <td>0.221370</td>\n",
       "      <td>0.034290</td>\n",
       "      <td>-0.655617</td>\n",
       "      <td>-0.746800</td>\n",
       "      <td>0.551393</td>\n",
       "      <td>0.073586</td>\n",
       "      <td>-0.230263</td>\n",
       "      <td>0.052215</td>\n",
       "      <td>-0.608351</td>\n",
       "      <td>-0.328682</td>\n",
       "      <td>0.396392</td>\n",
       "      <td>0.603608</td>\n",
       "      <td>0.913496</td>\n",
       "      <td>0.086504</td>\n",
       "      <td>44.189868</td>\n",
       "      <td>0.034290</td>\n",
       "      <td>0.052215</td>\n",
       "      <td>-0.017925</td>\n",
       "      <td>kdiba_gor01_one_2006-6-08_14-26-15</td>\n",
       "      <td>0.025</td>\n",
       "      <td>-1167.368212</td>\n",
       "      <td>pre-delta</td>\n",
       "      <td></td>\n",
       "      <td>NaN</td>\n",
       "      <td>NaN</td>\n",
       "      <td>NaN</td>\n",
       "      <td>NaN</td>\n",
       "      <td>2</td>\n",
       "      <td>1</td>\n",
       "      <td>False</td>\n",
       "    </tr>\n",
       "    <tr>\n",
       "      <th>4</th>\n",
       "      <td>44.588736</td>\n",
       "      <td>44.829950</td>\n",
       "      <td>4</td>\n",
       "      <td>0.241213</td>\n",
       "      <td>0.244285</td>\n",
       "      <td>-0.222796</td>\n",
       "      <td>-0.376273</td>\n",
       "      <td>0.376579</td>\n",
       "      <td>-0.540547</td>\n",
       "      <td>-0.458901</td>\n",
       "      <td>0.149175</td>\n",
       "      <td>-0.215484</td>\n",
       "      <td>-0.162657</td>\n",
       "      <td>0.229961</td>\n",
       "      <td>-0.453950</td>\n",
       "      <td>-0.620624</td>\n",
       "      <td>0.620864</td>\n",
       "      <td>0.379136</td>\n",
       "      <td>0.393460</td>\n",
       "      <td>0.606540</td>\n",
       "      <td>44.588736</td>\n",
       "      <td>0.244285</td>\n",
       "      <td>0.149175</td>\n",
       "      <td>0.095110</td>\n",
       "      <td>kdiba_gor01_one_2006-6-08_14-26-15</td>\n",
       "      <td>0.025</td>\n",
       "      <td>-1166.969344</td>\n",
       "      <td>pre-delta</td>\n",
       "      <td></td>\n",
       "      <td>NaN</td>\n",
       "      <td>NaN</td>\n",
       "      <td>NaN</td>\n",
       "      <td>NaN</td>\n",
       "      <td>2</td>\n",
       "      <td>1</td>\n",
       "      <td>False</td>\n",
       "    </tr>\n",
       "    <tr>\n",
       "      <th>...</th>\n",
       "      <td>...</td>\n",
       "      <td>...</td>\n",
       "      <td>...</td>\n",
       "      <td>...</td>\n",
       "      <td>...</td>\n",
       "      <td>...</td>\n",
       "      <td>...</td>\n",
       "      <td>...</td>\n",
       "      <td>...</td>\n",
       "      <td>...</td>\n",
       "      <td>...</td>\n",
       "      <td>...</td>\n",
       "      <td>...</td>\n",
       "      <td>...</td>\n",
       "      <td>...</td>\n",
       "      <td>...</td>\n",
       "      <td>...</td>\n",
       "      <td>...</td>\n",
       "      <td>...</td>\n",
       "      <td>...</td>\n",
       "      <td>...</td>\n",
       "      <td>...</td>\n",
       "      <td>...</td>\n",
       "      <td>...</td>\n",
       "      <td>...</td>\n",
       "      <td>...</td>\n",
       "      <td>...</td>\n",
       "      <td>...</td>\n",
       "      <td>...</td>\n",
       "      <td>...</td>\n",
       "      <td>...</td>\n",
       "      <td>...</td>\n",
       "      <td>...</td>\n",
       "      <td>...</td>\n",
       "      <td>...</td>\n",
       "      <td>...</td>\n",
       "    </tr>\n",
       "    <tr>\n",
       "      <th>4120</th>\n",
       "      <td>1429.924337</td>\n",
       "      <td>1430.429558</td>\n",
       "      <td>193</td>\n",
       "      <td>0.505221</td>\n",
       "      <td>0.156133</td>\n",
       "      <td>NaN</td>\n",
       "      <td>NaN</td>\n",
       "      <td>0.161893</td>\n",
       "      <td>NaN</td>\n",
       "      <td>NaN</td>\n",
       "      <td>0.334811</td>\n",
       "      <td>NaN</td>\n",
       "      <td>NaN</td>\n",
       "      <td>0.347162</td>\n",
       "      <td>NaN</td>\n",
       "      <td>NaN</td>\n",
       "      <td>0.318026</td>\n",
       "      <td>0.681974</td>\n",
       "      <td>0.490945</td>\n",
       "      <td>0.509055</td>\n",
       "      <td>1429.924337</td>\n",
       "      <td>0.156133</td>\n",
       "      <td>0.334811</td>\n",
       "      <td>-0.178678</td>\n",
       "      <td>kdiba_vvp01_two_2006-4-10_12-58-3</td>\n",
       "      <td>0.058</td>\n",
       "      <td>497.098131</td>\n",
       "      <td>post-delta</td>\n",
       "      <td></td>\n",
       "      <td>NaN</td>\n",
       "      <td>NaN</td>\n",
       "      <td>NaN</td>\n",
       "      <td>NaN</td>\n",
       "      <td>3</td>\n",
       "      <td>1</td>\n",
       "      <td>False</td>\n",
       "    </tr>\n",
       "    <tr>\n",
       "      <th>4121</th>\n",
       "      <td>1435.942904</td>\n",
       "      <td>1436.334707</td>\n",
       "      <td>196</td>\n",
       "      <td>0.391803</td>\n",
       "      <td>0.181630</td>\n",
       "      <td>-0.374742</td>\n",
       "      <td>NaN</td>\n",
       "      <td>0.285290</td>\n",
       "      <td>-0.244800</td>\n",
       "      <td>NaN</td>\n",
       "      <td>0.207366</td>\n",
       "      <td>-0.533240</td>\n",
       "      <td>NaN</td>\n",
       "      <td>0.325714</td>\n",
       "      <td>-0.261510</td>\n",
       "      <td>NaN</td>\n",
       "      <td>0.466920</td>\n",
       "      <td>0.533080</td>\n",
       "      <td>0.388995</td>\n",
       "      <td>0.611005</td>\n",
       "      <td>1435.942904</td>\n",
       "      <td>0.181630</td>\n",
       "      <td>0.207366</td>\n",
       "      <td>-0.025736</td>\n",
       "      <td>kdiba_vvp01_two_2006-4-10_12-58-3</td>\n",
       "      <td>0.058</td>\n",
       "      <td>503.116698</td>\n",
       "      <td>post-delta</td>\n",
       "      <td></td>\n",
       "      <td>NaN</td>\n",
       "      <td>NaN</td>\n",
       "      <td>NaN</td>\n",
       "      <td>NaN</td>\n",
       "      <td>3</td>\n",
       "      <td>1</td>\n",
       "      <td>False</td>\n",
       "    </tr>\n",
       "    <tr>\n",
       "      <th>4122</th>\n",
       "      <td>1437.783184</td>\n",
       "      <td>1437.959609</td>\n",
       "      <td>197</td>\n",
       "      <td>0.176425</td>\n",
       "      <td>0.390369</td>\n",
       "      <td>NaN</td>\n",
       "      <td>NaN</td>\n",
       "      <td>0.178935</td>\n",
       "      <td>NaN</td>\n",
       "      <td>NaN</td>\n",
       "      <td>0.295326</td>\n",
       "      <td>NaN</td>\n",
       "      <td>NaN</td>\n",
       "      <td>0.135370</td>\n",
       "      <td>NaN</td>\n",
       "      <td>NaN</td>\n",
       "      <td>0.569304</td>\n",
       "      <td>0.430696</td>\n",
       "      <td>0.685695</td>\n",
       "      <td>0.314305</td>\n",
       "      <td>1437.783184</td>\n",
       "      <td>0.178935</td>\n",
       "      <td>0.135370</td>\n",
       "      <td>0.043565</td>\n",
       "      <td>kdiba_vvp01_two_2006-4-10_12-58-3</td>\n",
       "      <td>0.058</td>\n",
       "      <td>504.956978</td>\n",
       "      <td>post-delta</td>\n",
       "      <td></td>\n",
       "      <td>NaN</td>\n",
       "      <td>NaN</td>\n",
       "      <td>NaN</td>\n",
       "      <td>NaN</td>\n",
       "      <td>3</td>\n",
       "      <td>1</td>\n",
       "      <td>False</td>\n",
       "    </tr>\n",
       "    <tr>\n",
       "      <th>4123</th>\n",
       "      <td>1445.197729</td>\n",
       "      <td>1445.522931</td>\n",
       "      <td>200</td>\n",
       "      <td>0.325202</td>\n",
       "      <td>0.208319</td>\n",
       "      <td>0.650036</td>\n",
       "      <td>NaN</td>\n",
       "      <td>0.177825</td>\n",
       "      <td>-0.459171</td>\n",
       "      <td>NaN</td>\n",
       "      <td>0.331166</td>\n",
       "      <td>0.652567</td>\n",
       "      <td>NaN</td>\n",
       "      <td>0.282689</td>\n",
       "      <td>-0.338825</td>\n",
       "      <td>NaN</td>\n",
       "      <td>0.386144</td>\n",
       "      <td>0.613856</td>\n",
       "      <td>0.539486</td>\n",
       "      <td>0.460514</td>\n",
       "      <td>1445.197729</td>\n",
       "      <td>0.177825</td>\n",
       "      <td>0.282689</td>\n",
       "      <td>-0.104864</td>\n",
       "      <td>kdiba_vvp01_two_2006-4-10_12-58-3</td>\n",
       "      <td>0.058</td>\n",
       "      <td>512.371523</td>\n",
       "      <td>post-delta</td>\n",
       "      <td></td>\n",
       "      <td>NaN</td>\n",
       "      <td>NaN</td>\n",
       "      <td>NaN</td>\n",
       "      <td>NaN</td>\n",
       "      <td>3</td>\n",
       "      <td>1</td>\n",
       "      <td>False</td>\n",
       "    </tr>\n",
       "    <tr>\n",
       "      <th>4124</th>\n",
       "      <td>1456.458569</td>\n",
       "      <td>1456.886960</td>\n",
       "      <td>203</td>\n",
       "      <td>0.428390</td>\n",
       "      <td>0.296149</td>\n",
       "      <td>-0.479948</td>\n",
       "      <td>NaN</td>\n",
       "      <td>0.116560</td>\n",
       "      <td>-0.826063</td>\n",
       "      <td>NaN</td>\n",
       "      <td>0.421425</td>\n",
       "      <td>-0.482842</td>\n",
       "      <td>NaN</td>\n",
       "      <td>0.165866</td>\n",
       "      <td>-0.836376</td>\n",
       "      <td>NaN</td>\n",
       "      <td>0.412709</td>\n",
       "      <td>0.587291</td>\n",
       "      <td>0.717574</td>\n",
       "      <td>0.282426</td>\n",
       "      <td>1456.458569</td>\n",
       "      <td>0.116560</td>\n",
       "      <td>0.165866</td>\n",
       "      <td>-0.049307</td>\n",
       "      <td>kdiba_vvp01_two_2006-4-10_12-58-3</td>\n",
       "      <td>0.058</td>\n",
       "      <td>523.632363</td>\n",
       "      <td>post-delta</td>\n",
       "      <td></td>\n",
       "      <td>NaN</td>\n",
       "      <td>NaN</td>\n",
       "      <td>NaN</td>\n",
       "      <td>NaN</td>\n",
       "      <td>3</td>\n",
       "      <td>1</td>\n",
       "      <td>False</td>\n",
       "    </tr>\n",
       "  </tbody>\n",
       "</table>\n",
       "<p>4125 rows × 36 columns</p>\n",
       "</div>"
      ],
      "text/plain": [
       "            start         stop  label  duration  P_Long_LR  pearsonr_long_LR  \\\n",
       "0       40.187177    40.488202      0  0.301025   0.336490         -0.010803   \n",
       "1       41.011916    41.359114      1  0.347197   0.244382         -0.049109   \n",
       "2       43.429702    43.489729      2  0.060027   0.475823          0.071336   \n",
       "3       44.189868    44.279447      3  0.089579   0.362102          0.269543   \n",
       "4       44.588736    44.829950      4  0.241213   0.244285         -0.222796   \n",
       "...           ...          ...    ...       ...        ...               ...   \n",
       "4120  1429.924337  1430.429558    193  0.505221   0.156133               NaN   \n",
       "4121  1435.942904  1436.334707    196  0.391803   0.181630         -0.374742   \n",
       "4122  1437.783184  1437.959609    197  0.176425   0.390369               NaN   \n",
       "4123  1445.197729  1445.522931    200  0.325202   0.208319          0.650036   \n",
       "4124  1456.458569  1456.886960    203  0.428390   0.296149         -0.479948   \n",
       "\n",
       "      wcorr_long_LR  P_Long_RL  pearsonr_long_RL  wcorr_long_RL  P_Short_LR  \\\n",
       "0          0.217800   0.208226         -0.155782      -0.015209    0.281245   \n",
       "1         -0.086171   0.231486         -0.181998      -0.252270    0.269167   \n",
       "2         -0.752464   0.476028         -0.413563      -0.476701    0.024069   \n",
       "3          0.221370   0.034290         -0.655617      -0.746800    0.551393   \n",
       "4         -0.376273   0.376579         -0.540547      -0.458901    0.149175   \n",
       "...             ...        ...               ...            ...         ...   \n",
       "4120            NaN   0.161893               NaN            NaN    0.334811   \n",
       "4121            NaN   0.285290         -0.244800            NaN    0.207366   \n",
       "4122            NaN   0.178935               NaN            NaN    0.295326   \n",
       "4123            NaN   0.177825         -0.459171            NaN    0.331166   \n",
       "4124            NaN   0.116560         -0.826063            NaN    0.421425   \n",
       "\n",
       "      pearsonr_short_LR  wcorr_short_LR  P_Short_RL  pearsonr_short_RL  \\\n",
       "0              0.088591        0.127214    0.174039          -0.002583   \n",
       "1             -0.104381       -0.074273    0.254964          -0.166440   \n",
       "2              0.063264       -0.800832    0.024080          -0.471881   \n",
       "3              0.073586       -0.230263    0.052215          -0.608351   \n",
       "4             -0.215484       -0.162657    0.229961          -0.453950   \n",
       "...                 ...             ...         ...                ...   \n",
       "4120                NaN             NaN    0.347162                NaN   \n",
       "4121          -0.533240             NaN    0.325714          -0.261510   \n",
       "4122                NaN             NaN    0.135370                NaN   \n",
       "4123           0.652567             NaN    0.282689          -0.338825   \n",
       "4124          -0.482842             NaN    0.165866          -0.836376   \n",
       "\n",
       "      wcorr_short_RL    P_Long   P_Short      P_LR      P_RL  ripple_start_t  \\\n",
       "0           0.143401  0.544716  0.455284  0.617735  0.382265       40.187177   \n",
       "1          -0.114507  0.475869  0.524131  0.513550  0.486450       41.011916   \n",
       "2          -0.705234  0.951851  0.048149  0.499892  0.500108       43.429702   \n",
       "3          -0.328682  0.396392  0.603608  0.913496  0.086504       44.189868   \n",
       "4          -0.620624  0.620864  0.379136  0.393460  0.606540       44.588736   \n",
       "...              ...       ...       ...       ...       ...             ...   \n",
       "4120             NaN  0.318026  0.681974  0.490945  0.509055     1429.924337   \n",
       "4121             NaN  0.466920  0.533080  0.388995  0.611005     1435.942904   \n",
       "4122             NaN  0.569304  0.430696  0.685695  0.314305     1437.783184   \n",
       "4123             NaN  0.386144  0.613856  0.539486  0.460514     1445.197729   \n",
       "4124             NaN  0.412709  0.587291  0.717574  0.282426     1456.458569   \n",
       "\n",
       "      long_best_P_decoder  short_best_P_decoder  P_decoder_diff  \\\n",
       "0                0.208226              0.174039        0.034187   \n",
       "1                0.231486              0.254964       -0.023477   \n",
       "2                0.475823              0.024069        0.451754   \n",
       "3                0.034290              0.052215       -0.017925   \n",
       "4                0.244285              0.149175        0.095110   \n",
       "...                   ...                   ...             ...   \n",
       "4120             0.156133              0.334811       -0.178678   \n",
       "4121             0.181630              0.207366       -0.025736   \n",
       "4122             0.178935              0.135370        0.043565   \n",
       "4123             0.177825              0.282689       -0.104864   \n",
       "4124             0.116560              0.165866       -0.049307   \n",
       "\n",
       "                            session_name  time_bin_size  \\\n",
       "0     kdiba_gor01_one_2006-6-08_14-26-15          0.025   \n",
       "1     kdiba_gor01_one_2006-6-08_14-26-15          0.025   \n",
       "2     kdiba_gor01_one_2006-6-08_14-26-15          0.025   \n",
       "3     kdiba_gor01_one_2006-6-08_14-26-15          0.025   \n",
       "4     kdiba_gor01_one_2006-6-08_14-26-15          0.025   \n",
       "...                                  ...            ...   \n",
       "4120   kdiba_vvp01_two_2006-4-10_12-58-3          0.058   \n",
       "4121   kdiba_vvp01_two_2006-4-10_12-58-3          0.058   \n",
       "4122   kdiba_vvp01_two_2006-4-10_12-58-3          0.058   \n",
       "4123   kdiba_vvp01_two_2006-4-10_12-58-3          0.058   \n",
       "4124   kdiba_vvp01_two_2006-4-10_12-58-3          0.058   \n",
       "\n",
       "      delta_aligned_start_t pre_post_delta_category custom_replay_name  \\\n",
       "0              -1171.370903               pre-delta                      \n",
       "1              -1170.546164               pre-delta                      \n",
       "2              -1168.128378               pre-delta                      \n",
       "3              -1167.368212               pre-delta                      \n",
       "4              -1166.969344               pre-delta                      \n",
       "...                     ...                     ...                ...   \n",
       "4120             497.098131              post-delta                      \n",
       "4121             503.116698              post-delta                      \n",
       "4122             504.956978              post-delta                      \n",
       "4123             512.371523              post-delta                      \n",
       "4124             523.632363              post-delta                      \n",
       "\n",
       "      P_Long.1  P_Short.1  P_LR.1  P_RL.1  session_experience_rank  \\\n",
       "0          NaN        NaN     NaN     NaN                        2   \n",
       "1          NaN        NaN     NaN     NaN                        2   \n",
       "2          NaN        NaN     NaN     NaN                        2   \n",
       "3          NaN        NaN     NaN     NaN                        2   \n",
       "4          NaN        NaN     NaN     NaN                        2   \n",
       "...        ...        ...     ...     ...                      ...   \n",
       "4120       NaN        NaN     NaN     NaN                        3   \n",
       "4121       NaN        NaN     NaN     NaN                        3   \n",
       "4122       NaN        NaN     NaN     NaN                        3   \n",
       "4123       NaN        NaN     NaN     NaN                        3   \n",
       "4124       NaN        NaN     NaN     NaN                        3   \n",
       "\n",
       "      session_experience_orientation_rank  is_novel_exposure  \n",
       "0                                       1              False  \n",
       "1                                       1              False  \n",
       "2                                       1              False  \n",
       "3                                       1              False  \n",
       "4                                       1              False  \n",
       "...                                   ...                ...  \n",
       "4120                                    1              False  \n",
       "4121                                    1              False  \n",
       "4122                                    1              False  \n",
       "4123                                    1              False  \n",
       "4124                                    1              False  \n",
       "\n",
       "[4125 rows x 36 columns]"
      ]
     },
     "execution_count": 11,
     "metadata": {},
     "output_type": "execute_result"
    }
   ],
   "source": [
    "all_sessions_all_scores_ripple_df"
   ]
  },
  {
   "cell_type": "code",
   "execution_count": 12,
   "metadata": {},
   "outputs": [
    {
     "data": {
      "text/html": [
       "<div>\n",
       "<style scoped>\n",
       "    .dataframe tbody tr th:only-of-type {\n",
       "        vertical-align: middle;\n",
       "    }\n",
       "\n",
       "    .dataframe tbody tr th {\n",
       "        vertical-align: top;\n",
       "    }\n",
       "\n",
       "    .dataframe thead th {\n",
       "        text-align: right;\n",
       "    }\n",
       "</style>\n",
       "<table border=\"1\" class=\"dataframe\">\n",
       "  <thead>\n",
       "    <tr style=\"text-align: right;\">\n",
       "      <th></th>\n",
       "      <th>P_LR</th>\n",
       "      <th>P_RL</th>\n",
       "      <th>P_Long</th>\n",
       "      <th>P_Short</th>\n",
       "      <th>ripple_idx</th>\n",
       "      <th>ripple_start_t</th>\n",
       "      <th>P_Long_LR</th>\n",
       "      <th>P_Long_RL</th>\n",
       "      <th>P_Short_LR</th>\n",
       "      <th>P_Short_RL</th>\n",
       "      <th>most_likely_decoder_index</th>\n",
       "      <th>start</th>\n",
       "      <th>stop</th>\n",
       "      <th>label</th>\n",
       "      <th>duration</th>\n",
       "      <th>best_decoder_index</th>\n",
       "      <th>long_LR_pf_peak_x_pearsonr</th>\n",
       "      <th>long_RL_pf_peak_x_pearsonr</th>\n",
       "      <th>short_LR_pf_peak_x_pearsonr</th>\n",
       "      <th>short_RL_pf_peak_x_pearsonr</th>\n",
       "      <th>session_name</th>\n",
       "      <th>time_bin_size</th>\n",
       "      <th>delta_aligned_start_t</th>\n",
       "      <th>pre_post_delta_category</th>\n",
       "      <th>is_user_annotated_epoch</th>\n",
       "      <th>is_valid_epoch</th>\n",
       "      <th>custom_replay_name</th>\n",
       "      <th>epoch_idx</th>\n",
       "      <th>long_best_pf_peak_x_pearsonr</th>\n",
       "      <th>short_best_pf_peak_x_pearsonr</th>\n",
       "      <th>wcorr_long_LR</th>\n",
       "      <th>wcorr_long_RL</th>\n",
       "      <th>wcorr_short_LR</th>\n",
       "      <th>wcorr_short_RL</th>\n",
       "      <th>long_best_wcorr</th>\n",
       "      <th>short_best_wcorr</th>\n",
       "      <th>wcorr_abs_diff</th>\n",
       "      <th>pearsonr_abs_diff</th>\n",
       "      <th>session_experience_rank</th>\n",
       "      <th>session_experience_orientation_rank</th>\n",
       "      <th>is_novel_exposure</th>\n",
       "    </tr>\n",
       "  </thead>\n",
       "  <tbody>\n",
       "    <tr>\n",
       "      <th>0</th>\n",
       "      <td>0.617735</td>\n",
       "      <td>0.382265</td>\n",
       "      <td>0.544716</td>\n",
       "      <td>0.455284</td>\n",
       "      <td>0</td>\n",
       "      <td>40.187177</td>\n",
       "      <td>0.336490</td>\n",
       "      <td>0.208226</td>\n",
       "      <td>0.281245</td>\n",
       "      <td>0.174039</td>\n",
       "      <td>0</td>\n",
       "      <td>40.187177</td>\n",
       "      <td>40.488202</td>\n",
       "      <td>0.0</td>\n",
       "      <td>0.301025</td>\n",
       "      <td>1.0</td>\n",
       "      <td>-0.010803</td>\n",
       "      <td>-0.155782</td>\n",
       "      <td>0.088591</td>\n",
       "      <td>-0.002583</td>\n",
       "      <td>kdiba_gor01_one_2006-6-08_14-26-15</td>\n",
       "      <td>0.025</td>\n",
       "      <td>-1171.370903</td>\n",
       "      <td>pre-delta</td>\n",
       "      <td>False</td>\n",
       "      <td>True</td>\n",
       "      <td></td>\n",
       "      <td>0</td>\n",
       "      <td>-0.155782</td>\n",
       "      <td>-0.002583</td>\n",
       "      <td>0.217800</td>\n",
       "      <td>-0.015209</td>\n",
       "      <td>0.127214</td>\n",
       "      <td>0.143401</td>\n",
       "      <td>-0.015209</td>\n",
       "      <td>0.143401</td>\n",
       "      <td>-0.128192</td>\n",
       "      <td>0.153199</td>\n",
       "      <td>2</td>\n",
       "      <td>1</td>\n",
       "      <td>False</td>\n",
       "    </tr>\n",
       "    <tr>\n",
       "      <th>1</th>\n",
       "      <td>0.513550</td>\n",
       "      <td>0.486450</td>\n",
       "      <td>0.475869</td>\n",
       "      <td>0.524131</td>\n",
       "      <td>1</td>\n",
       "      <td>41.011916</td>\n",
       "      <td>0.244382</td>\n",
       "      <td>0.231486</td>\n",
       "      <td>0.269167</td>\n",
       "      <td>0.254964</td>\n",
       "      <td>2</td>\n",
       "      <td>41.011916</td>\n",
       "      <td>41.359114</td>\n",
       "      <td>1.0</td>\n",
       "      <td>0.347197</td>\n",
       "      <td>1.0</td>\n",
       "      <td>-0.049109</td>\n",
       "      <td>-0.181998</td>\n",
       "      <td>-0.104381</td>\n",
       "      <td>-0.166440</td>\n",
       "      <td>kdiba_gor01_one_2006-6-08_14-26-15</td>\n",
       "      <td>0.025</td>\n",
       "      <td>-1170.546164</td>\n",
       "      <td>pre-delta</td>\n",
       "      <td>False</td>\n",
       "      <td>True</td>\n",
       "      <td></td>\n",
       "      <td>1</td>\n",
       "      <td>-0.181998</td>\n",
       "      <td>-0.166440</td>\n",
       "      <td>-0.086171</td>\n",
       "      <td>-0.252270</td>\n",
       "      <td>-0.074273</td>\n",
       "      <td>-0.114507</td>\n",
       "      <td>-0.252270</td>\n",
       "      <td>-0.114507</td>\n",
       "      <td>0.137763</td>\n",
       "      <td>0.015558</td>\n",
       "      <td>2</td>\n",
       "      <td>1</td>\n",
       "      <td>False</td>\n",
       "    </tr>\n",
       "    <tr>\n",
       "      <th>2</th>\n",
       "      <td>0.499892</td>\n",
       "      <td>0.500108</td>\n",
       "      <td>0.951851</td>\n",
       "      <td>0.048149</td>\n",
       "      <td>2</td>\n",
       "      <td>43.429702</td>\n",
       "      <td>0.475823</td>\n",
       "      <td>0.476028</td>\n",
       "      <td>0.024069</td>\n",
       "      <td>0.024080</td>\n",
       "      <td>1</td>\n",
       "      <td>43.429702</td>\n",
       "      <td>43.489729</td>\n",
       "      <td>2.0</td>\n",
       "      <td>0.060027</td>\n",
       "      <td>3.0</td>\n",
       "      <td>0.071336</td>\n",
       "      <td>-0.413563</td>\n",
       "      <td>0.063264</td>\n",
       "      <td>-0.471881</td>\n",
       "      <td>kdiba_gor01_one_2006-6-08_14-26-15</td>\n",
       "      <td>0.025</td>\n",
       "      <td>-1168.128378</td>\n",
       "      <td>pre-delta</td>\n",
       "      <td>False</td>\n",
       "      <td>False</td>\n",
       "      <td></td>\n",
       "      <td>2</td>\n",
       "      <td>0.071336</td>\n",
       "      <td>0.063264</td>\n",
       "      <td>-0.752464</td>\n",
       "      <td>-0.476701</td>\n",
       "      <td>-0.800832</td>\n",
       "      <td>-0.705234</td>\n",
       "      <td>-0.752464</td>\n",
       "      <td>-0.800832</td>\n",
       "      <td>-0.048368</td>\n",
       "      <td>0.008072</td>\n",
       "      <td>2</td>\n",
       "      <td>1</td>\n",
       "      <td>False</td>\n",
       "    </tr>\n",
       "    <tr>\n",
       "      <th>3</th>\n",
       "      <td>0.913496</td>\n",
       "      <td>0.086504</td>\n",
       "      <td>0.396392</td>\n",
       "      <td>0.603608</td>\n",
       "      <td>3</td>\n",
       "      <td>44.189868</td>\n",
       "      <td>0.362102</td>\n",
       "      <td>0.034290</td>\n",
       "      <td>0.551393</td>\n",
       "      <td>0.052215</td>\n",
       "      <td>2</td>\n",
       "      <td>44.189868</td>\n",
       "      <td>44.279447</td>\n",
       "      <td>3.0</td>\n",
       "      <td>0.089579</td>\n",
       "      <td>1.0</td>\n",
       "      <td>0.269543</td>\n",
       "      <td>-0.655617</td>\n",
       "      <td>0.073586</td>\n",
       "      <td>-0.608351</td>\n",
       "      <td>kdiba_gor01_one_2006-6-08_14-26-15</td>\n",
       "      <td>0.025</td>\n",
       "      <td>-1167.368212</td>\n",
       "      <td>pre-delta</td>\n",
       "      <td>False</td>\n",
       "      <td>False</td>\n",
       "      <td></td>\n",
       "      <td>3</td>\n",
       "      <td>-0.655617</td>\n",
       "      <td>-0.608351</td>\n",
       "      <td>0.221370</td>\n",
       "      <td>-0.746800</td>\n",
       "      <td>-0.230263</td>\n",
       "      <td>-0.328682</td>\n",
       "      <td>-0.746800</td>\n",
       "      <td>-0.328682</td>\n",
       "      <td>0.418118</td>\n",
       "      <td>0.047266</td>\n",
       "      <td>2</td>\n",
       "      <td>1</td>\n",
       "      <td>False</td>\n",
       "    </tr>\n",
       "    <tr>\n",
       "      <th>4</th>\n",
       "      <td>0.393460</td>\n",
       "      <td>0.606540</td>\n",
       "      <td>0.620864</td>\n",
       "      <td>0.379136</td>\n",
       "      <td>4</td>\n",
       "      <td>44.588736</td>\n",
       "      <td>0.244285</td>\n",
       "      <td>0.376579</td>\n",
       "      <td>0.149175</td>\n",
       "      <td>0.229961</td>\n",
       "      <td>1</td>\n",
       "      <td>44.588736</td>\n",
       "      <td>44.829950</td>\n",
       "      <td>4.0</td>\n",
       "      <td>0.241213</td>\n",
       "      <td>1.0</td>\n",
       "      <td>-0.222796</td>\n",
       "      <td>-0.540547</td>\n",
       "      <td>-0.215484</td>\n",
       "      <td>-0.453950</td>\n",
       "      <td>kdiba_gor01_one_2006-6-08_14-26-15</td>\n",
       "      <td>0.025</td>\n",
       "      <td>-1166.969344</td>\n",
       "      <td>pre-delta</td>\n",
       "      <td>False</td>\n",
       "      <td>True</td>\n",
       "      <td></td>\n",
       "      <td>4</td>\n",
       "      <td>-0.222796</td>\n",
       "      <td>-0.215484</td>\n",
       "      <td>-0.376273</td>\n",
       "      <td>-0.458901</td>\n",
       "      <td>-0.162657</td>\n",
       "      <td>-0.620624</td>\n",
       "      <td>-0.376273</td>\n",
       "      <td>-0.162657</td>\n",
       "      <td>0.213616</td>\n",
       "      <td>0.007312</td>\n",
       "      <td>2</td>\n",
       "      <td>1</td>\n",
       "      <td>False</td>\n",
       "    </tr>\n",
       "    <tr>\n",
       "      <th>...</th>\n",
       "      <td>...</td>\n",
       "      <td>...</td>\n",
       "      <td>...</td>\n",
       "      <td>...</td>\n",
       "      <td>...</td>\n",
       "      <td>...</td>\n",
       "      <td>...</td>\n",
       "      <td>...</td>\n",
       "      <td>...</td>\n",
       "      <td>...</td>\n",
       "      <td>...</td>\n",
       "      <td>...</td>\n",
       "      <td>...</td>\n",
       "      <td>...</td>\n",
       "      <td>...</td>\n",
       "      <td>...</td>\n",
       "      <td>...</td>\n",
       "      <td>...</td>\n",
       "      <td>...</td>\n",
       "      <td>...</td>\n",
       "      <td>...</td>\n",
       "      <td>...</td>\n",
       "      <td>...</td>\n",
       "      <td>...</td>\n",
       "      <td>...</td>\n",
       "      <td>...</td>\n",
       "      <td>...</td>\n",
       "      <td>...</td>\n",
       "      <td>...</td>\n",
       "      <td>...</td>\n",
       "      <td>...</td>\n",
       "      <td>...</td>\n",
       "      <td>...</td>\n",
       "      <td>...</td>\n",
       "      <td>...</td>\n",
       "      <td>...</td>\n",
       "      <td>...</td>\n",
       "      <td>...</td>\n",
       "      <td>...</td>\n",
       "      <td>...</td>\n",
       "      <td>...</td>\n",
       "    </tr>\n",
       "    <tr>\n",
       "      <th>4609</th>\n",
       "      <td>0.490945</td>\n",
       "      <td>0.509055</td>\n",
       "      <td>0.318026</td>\n",
       "      <td>0.681974</td>\n",
       "      <td>90</td>\n",
       "      <td>1429.924337</td>\n",
       "      <td>0.156133</td>\n",
       "      <td>0.161893</td>\n",
       "      <td>0.334811</td>\n",
       "      <td>0.347162</td>\n",
       "      <td>3</td>\n",
       "      <td>1429.924337</td>\n",
       "      <td>1430.429558</td>\n",
       "      <td>193.0</td>\n",
       "      <td>0.505221</td>\n",
       "      <td>0.0</td>\n",
       "      <td>NaN</td>\n",
       "      <td>NaN</td>\n",
       "      <td>NaN</td>\n",
       "      <td>NaN</td>\n",
       "      <td>kdiba_vvp01_two_2006-4-10_12-58-3</td>\n",
       "      <td>0.058</td>\n",
       "      <td>497.098131</td>\n",
       "      <td>post-delta</td>\n",
       "      <td>NaN</td>\n",
       "      <td>True</td>\n",
       "      <td></td>\n",
       "      <td>90</td>\n",
       "      <td>NaN</td>\n",
       "      <td>NaN</td>\n",
       "      <td>0.144354</td>\n",
       "      <td>0.196344</td>\n",
       "      <td>0.130042</td>\n",
       "      <td>0.090989</td>\n",
       "      <td>0.144354</td>\n",
       "      <td>0.130042</td>\n",
       "      <td>0.014312</td>\n",
       "      <td>NaN</td>\n",
       "      <td>3</td>\n",
       "      <td>1</td>\n",
       "      <td>False</td>\n",
       "    </tr>\n",
       "    <tr>\n",
       "      <th>4610</th>\n",
       "      <td>0.388995</td>\n",
       "      <td>0.611005</td>\n",
       "      <td>0.466920</td>\n",
       "      <td>0.533080</td>\n",
       "      <td>91</td>\n",
       "      <td>1435.942904</td>\n",
       "      <td>0.181630</td>\n",
       "      <td>0.285290</td>\n",
       "      <td>0.207366</td>\n",
       "      <td>0.325714</td>\n",
       "      <td>3</td>\n",
       "      <td>1435.942904</td>\n",
       "      <td>1436.334707</td>\n",
       "      <td>196.0</td>\n",
       "      <td>0.391803</td>\n",
       "      <td>2.0</td>\n",
       "      <td>-0.374742</td>\n",
       "      <td>-0.244800</td>\n",
       "      <td>-0.533240</td>\n",
       "      <td>-0.261510</td>\n",
       "      <td>kdiba_vvp01_two_2006-4-10_12-58-3</td>\n",
       "      <td>0.058</td>\n",
       "      <td>503.116698</td>\n",
       "      <td>post-delta</td>\n",
       "      <td>NaN</td>\n",
       "      <td>True</td>\n",
       "      <td></td>\n",
       "      <td>91</td>\n",
       "      <td>-0.374742</td>\n",
       "      <td>-0.533240</td>\n",
       "      <td>-0.163713</td>\n",
       "      <td>0.087238</td>\n",
       "      <td>-0.153128</td>\n",
       "      <td>0.164710</td>\n",
       "      <td>-0.163713</td>\n",
       "      <td>-0.153128</td>\n",
       "      <td>0.010585</td>\n",
       "      <td>-0.158498</td>\n",
       "      <td>3</td>\n",
       "      <td>1</td>\n",
       "      <td>False</td>\n",
       "    </tr>\n",
       "    <tr>\n",
       "      <th>4611</th>\n",
       "      <td>0.685695</td>\n",
       "      <td>0.314305</td>\n",
       "      <td>0.569304</td>\n",
       "      <td>0.430696</td>\n",
       "      <td>92</td>\n",
       "      <td>1437.783184</td>\n",
       "      <td>0.390369</td>\n",
       "      <td>0.178935</td>\n",
       "      <td>0.295326</td>\n",
       "      <td>0.135370</td>\n",
       "      <td>0</td>\n",
       "      <td>1437.783184</td>\n",
       "      <td>1437.959609</td>\n",
       "      <td>197.0</td>\n",
       "      <td>0.176425</td>\n",
       "      <td>0.0</td>\n",
       "      <td>NaN</td>\n",
       "      <td>NaN</td>\n",
       "      <td>NaN</td>\n",
       "      <td>NaN</td>\n",
       "      <td>kdiba_vvp01_two_2006-4-10_12-58-3</td>\n",
       "      <td>0.058</td>\n",
       "      <td>504.956978</td>\n",
       "      <td>post-delta</td>\n",
       "      <td>NaN</td>\n",
       "      <td>True</td>\n",
       "      <td></td>\n",
       "      <td>92</td>\n",
       "      <td>NaN</td>\n",
       "      <td>NaN</td>\n",
       "      <td>-0.483481</td>\n",
       "      <td>-0.336139</td>\n",
       "      <td>-0.520375</td>\n",
       "      <td>-0.388712</td>\n",
       "      <td>-0.336139</td>\n",
       "      <td>-0.388712</td>\n",
       "      <td>-0.052573</td>\n",
       "      <td>NaN</td>\n",
       "      <td>3</td>\n",
       "      <td>1</td>\n",
       "      <td>False</td>\n",
       "    </tr>\n",
       "    <tr>\n",
       "      <th>4612</th>\n",
       "      <td>0.539486</td>\n",
       "      <td>0.460514</td>\n",
       "      <td>0.386144</td>\n",
       "      <td>0.613856</td>\n",
       "      <td>93</td>\n",
       "      <td>1445.197729</td>\n",
       "      <td>0.208319</td>\n",
       "      <td>0.177825</td>\n",
       "      <td>0.331166</td>\n",
       "      <td>0.282689</td>\n",
       "      <td>2</td>\n",
       "      <td>1445.197729</td>\n",
       "      <td>1445.522931</td>\n",
       "      <td>200.0</td>\n",
       "      <td>0.325202</td>\n",
       "      <td>2.0</td>\n",
       "      <td>0.650036</td>\n",
       "      <td>-0.459171</td>\n",
       "      <td>0.652567</td>\n",
       "      <td>-0.338825</td>\n",
       "      <td>kdiba_vvp01_two_2006-4-10_12-58-3</td>\n",
       "      <td>0.058</td>\n",
       "      <td>512.371523</td>\n",
       "      <td>post-delta</td>\n",
       "      <td>NaN</td>\n",
       "      <td>True</td>\n",
       "      <td></td>\n",
       "      <td>93</td>\n",
       "      <td>-0.459171</td>\n",
       "      <td>-0.338825</td>\n",
       "      <td>-0.550524</td>\n",
       "      <td>-0.225709</td>\n",
       "      <td>-0.344900</td>\n",
       "      <td>-0.242926</td>\n",
       "      <td>-0.225709</td>\n",
       "      <td>-0.242926</td>\n",
       "      <td>-0.017217</td>\n",
       "      <td>0.120346</td>\n",
       "      <td>3</td>\n",
       "      <td>1</td>\n",
       "      <td>False</td>\n",
       "    </tr>\n",
       "    <tr>\n",
       "      <th>4613</th>\n",
       "      <td>0.717574</td>\n",
       "      <td>0.282426</td>\n",
       "      <td>0.412709</td>\n",
       "      <td>0.587291</td>\n",
       "      <td>94</td>\n",
       "      <td>1456.458569</td>\n",
       "      <td>0.296149</td>\n",
       "      <td>0.116560</td>\n",
       "      <td>0.421425</td>\n",
       "      <td>0.165866</td>\n",
       "      <td>2</td>\n",
       "      <td>1456.458569</td>\n",
       "      <td>1456.886960</td>\n",
       "      <td>203.0</td>\n",
       "      <td>0.428390</td>\n",
       "      <td>3.0</td>\n",
       "      <td>-0.479948</td>\n",
       "      <td>-0.826063</td>\n",
       "      <td>-0.482842</td>\n",
       "      <td>-0.836376</td>\n",
       "      <td>kdiba_vvp01_two_2006-4-10_12-58-3</td>\n",
       "      <td>0.058</td>\n",
       "      <td>523.632363</td>\n",
       "      <td>post-delta</td>\n",
       "      <td>NaN</td>\n",
       "      <td>False</td>\n",
       "      <td></td>\n",
       "      <td>94</td>\n",
       "      <td>-0.826063</td>\n",
       "      <td>-0.836376</td>\n",
       "      <td>-0.026823</td>\n",
       "      <td>-0.159104</td>\n",
       "      <td>-0.066444</td>\n",
       "      <td>0.013976</td>\n",
       "      <td>-0.159104</td>\n",
       "      <td>0.013976</td>\n",
       "      <td>0.145128</td>\n",
       "      <td>-0.010313</td>\n",
       "      <td>3</td>\n",
       "      <td>1</td>\n",
       "      <td>False</td>\n",
       "    </tr>\n",
       "  </tbody>\n",
       "</table>\n",
       "<p>4614 rows × 41 columns</p>\n",
       "</div>"
      ],
      "text/plain": [
       "          P_LR      P_RL    P_Long   P_Short  ripple_idx  ripple_start_t  \\\n",
       "0     0.617735  0.382265  0.544716  0.455284           0       40.187177   \n",
       "1     0.513550  0.486450  0.475869  0.524131           1       41.011916   \n",
       "2     0.499892  0.500108  0.951851  0.048149           2       43.429702   \n",
       "3     0.913496  0.086504  0.396392  0.603608           3       44.189868   \n",
       "4     0.393460  0.606540  0.620864  0.379136           4       44.588736   \n",
       "...        ...       ...       ...       ...         ...             ...   \n",
       "4609  0.490945  0.509055  0.318026  0.681974          90     1429.924337   \n",
       "4610  0.388995  0.611005  0.466920  0.533080          91     1435.942904   \n",
       "4611  0.685695  0.314305  0.569304  0.430696          92     1437.783184   \n",
       "4612  0.539486  0.460514  0.386144  0.613856          93     1445.197729   \n",
       "4613  0.717574  0.282426  0.412709  0.587291          94     1456.458569   \n",
       "\n",
       "      P_Long_LR  P_Long_RL  P_Short_LR  P_Short_RL  most_likely_decoder_index  \\\n",
       "0      0.336490   0.208226    0.281245    0.174039                          0   \n",
       "1      0.244382   0.231486    0.269167    0.254964                          2   \n",
       "2      0.475823   0.476028    0.024069    0.024080                          1   \n",
       "3      0.362102   0.034290    0.551393    0.052215                          2   \n",
       "4      0.244285   0.376579    0.149175    0.229961                          1   \n",
       "...         ...        ...         ...         ...                        ...   \n",
       "4609   0.156133   0.161893    0.334811    0.347162                          3   \n",
       "4610   0.181630   0.285290    0.207366    0.325714                          3   \n",
       "4611   0.390369   0.178935    0.295326    0.135370                          0   \n",
       "4612   0.208319   0.177825    0.331166    0.282689                          2   \n",
       "4613   0.296149   0.116560    0.421425    0.165866                          2   \n",
       "\n",
       "            start         stop  label  duration  best_decoder_index  \\\n",
       "0       40.187177    40.488202    0.0  0.301025                 1.0   \n",
       "1       41.011916    41.359114    1.0  0.347197                 1.0   \n",
       "2       43.429702    43.489729    2.0  0.060027                 3.0   \n",
       "3       44.189868    44.279447    3.0  0.089579                 1.0   \n",
       "4       44.588736    44.829950    4.0  0.241213                 1.0   \n",
       "...           ...          ...    ...       ...                 ...   \n",
       "4609  1429.924337  1430.429558  193.0  0.505221                 0.0   \n",
       "4610  1435.942904  1436.334707  196.0  0.391803                 2.0   \n",
       "4611  1437.783184  1437.959609  197.0  0.176425                 0.0   \n",
       "4612  1445.197729  1445.522931  200.0  0.325202                 2.0   \n",
       "4613  1456.458569  1456.886960  203.0  0.428390                 3.0   \n",
       "\n",
       "      long_LR_pf_peak_x_pearsonr  long_RL_pf_peak_x_pearsonr  \\\n",
       "0                      -0.010803                   -0.155782   \n",
       "1                      -0.049109                   -0.181998   \n",
       "2                       0.071336                   -0.413563   \n",
       "3                       0.269543                   -0.655617   \n",
       "4                      -0.222796                   -0.540547   \n",
       "...                          ...                         ...   \n",
       "4609                         NaN                         NaN   \n",
       "4610                   -0.374742                   -0.244800   \n",
       "4611                         NaN                         NaN   \n",
       "4612                    0.650036                   -0.459171   \n",
       "4613                   -0.479948                   -0.826063   \n",
       "\n",
       "      short_LR_pf_peak_x_pearsonr  short_RL_pf_peak_x_pearsonr  \\\n",
       "0                        0.088591                    -0.002583   \n",
       "1                       -0.104381                    -0.166440   \n",
       "2                        0.063264                    -0.471881   \n",
       "3                        0.073586                    -0.608351   \n",
       "4                       -0.215484                    -0.453950   \n",
       "...                           ...                          ...   \n",
       "4609                          NaN                          NaN   \n",
       "4610                    -0.533240                    -0.261510   \n",
       "4611                          NaN                          NaN   \n",
       "4612                     0.652567                    -0.338825   \n",
       "4613                    -0.482842                    -0.836376   \n",
       "\n",
       "                            session_name  time_bin_size  \\\n",
       "0     kdiba_gor01_one_2006-6-08_14-26-15          0.025   \n",
       "1     kdiba_gor01_one_2006-6-08_14-26-15          0.025   \n",
       "2     kdiba_gor01_one_2006-6-08_14-26-15          0.025   \n",
       "3     kdiba_gor01_one_2006-6-08_14-26-15          0.025   \n",
       "4     kdiba_gor01_one_2006-6-08_14-26-15          0.025   \n",
       "...                                  ...            ...   \n",
       "4609   kdiba_vvp01_two_2006-4-10_12-58-3          0.058   \n",
       "4610   kdiba_vvp01_two_2006-4-10_12-58-3          0.058   \n",
       "4611   kdiba_vvp01_two_2006-4-10_12-58-3          0.058   \n",
       "4612   kdiba_vvp01_two_2006-4-10_12-58-3          0.058   \n",
       "4613   kdiba_vvp01_two_2006-4-10_12-58-3          0.058   \n",
       "\n",
       "      delta_aligned_start_t pre_post_delta_category is_user_annotated_epoch  \\\n",
       "0              -1171.370903               pre-delta                   False   \n",
       "1              -1170.546164               pre-delta                   False   \n",
       "2              -1168.128378               pre-delta                   False   \n",
       "3              -1167.368212               pre-delta                   False   \n",
       "4              -1166.969344               pre-delta                   False   \n",
       "...                     ...                     ...                     ...   \n",
       "4609             497.098131              post-delta                     NaN   \n",
       "4610             503.116698              post-delta                     NaN   \n",
       "4611             504.956978              post-delta                     NaN   \n",
       "4612             512.371523              post-delta                     NaN   \n",
       "4613             523.632363              post-delta                     NaN   \n",
       "\n",
       "      is_valid_epoch custom_replay_name  epoch_idx  \\\n",
       "0               True                             0   \n",
       "1               True                             1   \n",
       "2              False                             2   \n",
       "3              False                             3   \n",
       "4               True                             4   \n",
       "...              ...                ...        ...   \n",
       "4609            True                            90   \n",
       "4610            True                            91   \n",
       "4611            True                            92   \n",
       "4612            True                            93   \n",
       "4613           False                            94   \n",
       "\n",
       "      long_best_pf_peak_x_pearsonr  short_best_pf_peak_x_pearsonr  \\\n",
       "0                        -0.155782                      -0.002583   \n",
       "1                        -0.181998                      -0.166440   \n",
       "2                         0.071336                       0.063264   \n",
       "3                        -0.655617                      -0.608351   \n",
       "4                        -0.222796                      -0.215484   \n",
       "...                            ...                            ...   \n",
       "4609                           NaN                            NaN   \n",
       "4610                     -0.374742                      -0.533240   \n",
       "4611                           NaN                            NaN   \n",
       "4612                     -0.459171                      -0.338825   \n",
       "4613                     -0.826063                      -0.836376   \n",
       "\n",
       "      wcorr_long_LR  wcorr_long_RL  wcorr_short_LR  wcorr_short_RL  \\\n",
       "0          0.217800      -0.015209        0.127214        0.143401   \n",
       "1         -0.086171      -0.252270       -0.074273       -0.114507   \n",
       "2         -0.752464      -0.476701       -0.800832       -0.705234   \n",
       "3          0.221370      -0.746800       -0.230263       -0.328682   \n",
       "4         -0.376273      -0.458901       -0.162657       -0.620624   \n",
       "...             ...            ...             ...             ...   \n",
       "4609       0.144354       0.196344        0.130042        0.090989   \n",
       "4610      -0.163713       0.087238       -0.153128        0.164710   \n",
       "4611      -0.483481      -0.336139       -0.520375       -0.388712   \n",
       "4612      -0.550524      -0.225709       -0.344900       -0.242926   \n",
       "4613      -0.026823      -0.159104       -0.066444        0.013976   \n",
       "\n",
       "      long_best_wcorr  short_best_wcorr  wcorr_abs_diff  pearsonr_abs_diff  \\\n",
       "0           -0.015209          0.143401       -0.128192           0.153199   \n",
       "1           -0.252270         -0.114507        0.137763           0.015558   \n",
       "2           -0.752464         -0.800832       -0.048368           0.008072   \n",
       "3           -0.746800         -0.328682        0.418118           0.047266   \n",
       "4           -0.376273         -0.162657        0.213616           0.007312   \n",
       "...               ...               ...             ...                ...   \n",
       "4609         0.144354          0.130042        0.014312                NaN   \n",
       "4610        -0.163713         -0.153128        0.010585          -0.158498   \n",
       "4611        -0.336139         -0.388712       -0.052573                NaN   \n",
       "4612        -0.225709         -0.242926       -0.017217           0.120346   \n",
       "4613        -0.159104          0.013976        0.145128          -0.010313   \n",
       "\n",
       "      session_experience_rank  session_experience_orientation_rank  \\\n",
       "0                           2                                    1   \n",
       "1                           2                                    1   \n",
       "2                           2                                    1   \n",
       "3                           2                                    1   \n",
       "4                           2                                    1   \n",
       "...                       ...                                  ...   \n",
       "4609                        3                                    1   \n",
       "4610                        3                                    1   \n",
       "4611                        3                                    1   \n",
       "4612                        3                                    1   \n",
       "4613                        3                                    1   \n",
       "\n",
       "      is_novel_exposure  \n",
       "0                 False  \n",
       "1                 False  \n",
       "2                 False  \n",
       "3                 False  \n",
       "4                 False  \n",
       "...                 ...  \n",
       "4609              False  \n",
       "4610              False  \n",
       "4611              False  \n",
       "4612              False  \n",
       "4613              False  \n",
       "\n",
       "[4614 rows x 41 columns]"
      ]
     },
     "execution_count": 12,
     "metadata": {},
     "output_type": "execute_result"
    }
   ],
   "source": [
    "all_sessions_MultiMeasure_ripple_df"
   ]
  },
  {
   "cell_type": "code",
   "execution_count": 14,
   "metadata": {},
   "outputs": [
    {
     "data": {
      "text/plain": [
       "array([''], dtype=object)"
      ]
     },
     "execution_count": 14,
     "metadata": {},
     "output_type": "execute_result"
    }
   ],
   "source": [
    "parsed_csv_files_df['custom_replay_name'].unique()"
   ]
  },
  {
   "cell_type": "code",
   "execution_count": null,
   "metadata": {},
   "outputs": [],
   "source": [
    "\n",
    "## OUTPUTS: csv_files, csv_sessions, parsed_csv_files_df\n",
    "## OUTPUTS: h5_files, h5_sessions, parsed_h5_files_df\n",
    "\n",
    "\n",
    "\n",
    "# # #TODO 2024-03-02 12:12: - [ ] Could add weighted correlation if there is a dataframe for that and it's computed:\n",
    "# _df_raw_variable_names = ['simple_pf_pearson_merged_df', 'weighted_corr_merged_df']\n",
    "# _df_variables_names = ['laps_weighted_corr_merged_df', 'ripple_weighted_corr_merged_df', 'laps_simple_pf_pearson_merged_df', 'ripple_simple_pf_pearson_merged_df']\n",
    "\n",
    "# # # tbin_values_dict = {'laps': self.laps_decoding_time_bin_size, 'ripple': self.ripple_decoding_time_bin_size}\n",
    "# time_col_name_dict = {'laps': 'lap_start_t', 'ripple': 'ripple_start_t'} ## default should be 't_bin_center'\n",
    "\n",
    "if neptuner_run is not None:\n",
    "    _neptuner_run_parameters = dict(csv_files=csv_files, h5_files=h5_files, csv_sessions=csv_sessions, h5_sessions=h5_sessions)\n",
    "    # _neptuner_run_parameters = _neptuner_run_parameters | dict(earliest_delta_aligned_t_start=earliest_delta_aligned_t_start, latest_delta_aligned_t_end=latest_delta_aligned_t_end,\n",
    "    #                                  t_delta_df=t_delta_df)\n",
    "    for k, v in _neptuner_run_parameters.items():\n",
    "        neptuner_run[f'parsed/{k}'] = v\n",
    "    _neptuner_run_parameters = {} # reset after writing\n",
    "\n",
    "# all_session_experiment_experience_csv_path = Path(\"./EXTERNAL/sessions_experiment_datetime_df.csv\").resolve()\n",
    "# Assert.path_exists(all_session_experiment_experience_csv_path)\n",
    "# ## NEW `parsed_csv_files_df1-based approach 2024-07-11 - \n",
    "# ## INPUTS: parsed_csv_files_df\n",
    "# dict_results, df_results, excluded_or_outdated_files_list = _new_process_csv_files(parsed_csv_files_df=parsed_csv_files_df, t_delta_dict=t_delta_dict, cuttoff_date=cuttoff_date, known_bad_session_strs=known_bad_session_strs, all_session_experiment_experience_csv_path=all_session_experiment_experience_csv_path, debug_print=False) # , known_bad_session_strs=known_bad_session_strs\n",
    "# (final_sessions_loaded_laps_dict, final_sessions_loaded_ripple_dict, final_sessions_loaded_laps_time_bin_dict, final_sessions_loaded_ripple_time_bin_dict, final_sessions_loaded_simple_pearson_laps_dict, final_sessions_loaded_simple_pearson_ripple_dict, final_sessions_loaded_laps_wcorr_dict, final_sessions_loaded_ripple_wcorr_dict, final_sessions_loaded_laps_all_scores_dict, final_sessions_loaded_ripple_all_scores_dict) = dict_results\n",
    "# (all_sessions_laps_df, all_sessions_ripple_df, all_sessions_laps_time_bin_df, all_sessions_ripple_time_bin_df, all_sessions_simple_pearson_laps_df, all_sessions_simple_pearson_ripple_df, all_sessions_wcorr_laps_df, all_sessions_wcorr_ripple_df, all_sessions_all_scores_ripple_df) = df_results"
   ]
  },
  {
   "cell_type": "code",
   "execution_count": null,
   "metadata": {},
   "outputs": [],
   "source": [
    "all_session_experiment_experience_csv_path"
   ]
  },
  {
   "cell_type": "code",
   "execution_count": null,
   "metadata": {
    "tags": [
     "run-group-startup",
     "run_main"
    ]
   },
   "outputs": [],
   "source": [
    "# np.sum(all_sessions_laps_time_bin_df['time_bin_size'].isna())\n",
    "\n",
    "np.sum(all_sessions_laps_time_bin_df['time_bin_size'] == np.nan)\n"
   ]
  },
  {
   "cell_type": "code",
   "execution_count": null,
   "metadata": {
    "tags": [
     "run-group-startup",
     "run_main"
    ]
   },
   "outputs": [],
   "source": [
    "all_sessions_laps_time_bin_df['time_bin_size'].nunique()\n",
    "all_sessions_laps_time_bin_df['session_name'].nunique()"
   ]
  },
  {
   "cell_type": "code",
   "execution_count": null,
   "metadata": {},
   "outputs": [],
   "source": [
    "parsed_csv_files_df"
   ]
  },
  {
   "cell_type": "code",
   "execution_count": null,
   "metadata": {},
   "outputs": [],
   "source": [
    "excluded_or_outdated_files_list"
   ]
  },
  {
   "cell_type": "code",
   "execution_count": null,
   "metadata": {},
   "outputs": [],
   "source": [
    "all_sessions_laps_time_bin_df"
   ]
  },
  {
   "cell_type": "code",
   "execution_count": null,
   "metadata": {},
   "outputs": [],
   "source": [
    "from pyphoplacecellanalysis.SpecificResults.AcrossSessionResults import load_and_apply_session_experience_rank_csv\n",
    "\n",
    "all_session_experiment_experience_csv_path = Path(\"./EXTERNAL/sessions_experiment_datetime_df.csv\").resolve()\n",
    "Assert.path_exists(all_session_experiment_experience_csv_path)\n",
    "sessions_df, (experience_rank_map_dict, experience_orientation_rank_map_dict), _callback_add_df_columns = load_and_apply_session_experience_rank_csv(all_session_experiment_experience_csv_path, session_uid_str_sep='_')\n",
    "df_results = [_callback_add_df_columns(a_df, session_id_column_name='session_name') for a_df in df_results]\n",
    "all_sessions_all_scores_ripple_df: pd.DataFrame = _callback_add_df_columns(all_sessions_all_scores_ripple_df, session_id_column_name='session_name')\n",
    "\n",
    "\n",
    "# all_sessions_all_scores_ripple_df\n",
    "# all_sessions_all_scores_ripple_df['session_name']\n",
    "sessions_df"
   ]
  },
  {
   "cell_type": "code",
   "execution_count": null,
   "metadata": {},
   "outputs": [],
   "source": [
    "(all_sessions_laps_df, all_sessions_ripple_df, all_sessions_laps_time_bin_df, all_sessions_ripple_time_bin_df, all_sessions_simple_pearson_laps_df, all_sessions_simple_pearson_ripple_df, all_sessions_wcorr_laps_df, all_sessions_wcorr_ripple_df, all_sessions_all_scores_ripple_df) = df_results\n",
    "# [list(a_df.columns) for i, a_df in enumerate(df_results)]\n",
    "# load_across_sessions_exported_files(\n",
    "\n",
    "# [a_df.dtypes for i, a_df in enumerate(df_results)]\n",
    "# all_sessions_simple_pearson_ripple_df, all_sessions_wcorr_ripple_df, all_sessions_all_scores_ripple_df\n",
    "\n",
    "# all_sessions_laps_df\n",
    "# all_sessions_laps_time_bin_df\n",
    "all_sessions_simple_pearson_laps_df, all_sessions_wcorr_laps_df\n"
   ]
  },
  {
   "cell_type": "markdown",
   "metadata": {},
   "source": [
    "# 🔜🔜 MAJOR: trying to get to the bottom of the basic marginal exports not loading"
   ]
  },
  {
   "cell_type": "code",
   "execution_count": null,
   "metadata": {
    "tags": [
     "run-group-startup"
    ]
   },
   "outputs": [],
   "source": [
    "# # all output dfs:\n",
    "# _all_output_dfs_list = [all_sessions_all_scores_ripple_df, all_sessions_laps_time_bin_df, all_sessions_laps_df,\n",
    "#  all_sessions_wcorr_laps_df, all_sessions_simple_pearson_laps_df, all_sessions_ripple_df, all_sessions_ripple_time_bin_df,\n",
    "# ]"
   ]
  },
  {
   "cell_type": "code",
   "execution_count": null,
   "metadata": {},
   "outputs": [],
   "source": [
    "from pyphoplacecellanalysis.SpecificResults.AcrossSessionResults import AcrossSessionCSVOutputFormat\n",
    "\n",
    "# Calling the class method with keyword arguments\n",
    "AcrossSessionCSVOutputFormat.debug_print_discovered_csv_infos(\n",
    "    all_sessions_laps_time_bin_df=all_sessions_laps_time_bin_df,\n",
    "    sessions_df=sessions_df,\n",
    "    all_sessions_all_scores_ripple_df=all_sessions_all_scores_ripple_df,\n",
    "    all_sessions_laps_df=all_sessions_laps_df,\n",
    "    # all_sessions_wcorr_laps_df=all_sessions_wcorr_laps_df,\n",
    "    all_sessions_MultiMeasure_laps_df=all_sessions_MultiMeasure_laps_df,\n",
    "    all_sessions_ripple_df=all_sessions_ripple_df,\n",
    "    all_sessions_ripple_time_bin_df=all_sessions_ripple_time_bin_df\n",
    ")"
   ]
  },
  {
   "cell_type": "code",
   "execution_count": null,
   "metadata": {},
   "outputs": [],
   "source": [
    "all_sessions_laps_time_bin_df"
   ]
  },
  {
   "cell_type": "code",
   "execution_count": null,
   "metadata": {},
   "outputs": [],
   "source": [
    "all_sessions_laps_time_bin_df.groupby(['session_name']).agg(time_bin_size_count=('time_bin_size', 'count'), time_bin_size_nunique=('time_bin_size', 'nunique')).reset_index()"
   ]
  },
  {
   "cell_type": "code",
   "execution_count": null,
   "metadata": {},
   "outputs": [],
   "source": [
    "test_session_name: str = 'kdiba_gor01_two_2006-6-07_16-40-19'\n",
    "# all_sessions_laps_df\n",
    "\n",
    "_prev_loaded_df: pd.DataFrame = deepcopy(all_sessions_laps_df[all_sessions_laps_df['session_name'] == test_session_name]) # time_bin_size is all NaN ... \n",
    "_prev_loaded_df\n",
    "\n",
    "# _prev_loaded_df: pd.DataFrame = deepcopy(all_sessions_laps_time_bin_df[all_sessions_laps_time_bin_df['session_name'] == test_session_name]) # time_bin_size is all NaN ... \n",
    "# _prev_loaded_df"
   ]
  },
  {
   "cell_type": "code",
   "execution_count": null,
   "metadata": {},
   "outputs": [],
   "source": [
    "checked_csv_path = Path(r\"K:\\scratch\\collected_outputs\\2024-09-27-kdiba_gor01_two_2006-6-07_16-40-19_None-(laps_time_bin_marginals_df).csv\").resolve()\n",
    "Assert.path_exists(checked_csv_path)\n",
    "\n",
    "test_csv_df: pd.DataFrame = pd.read_csv(checked_csv_path)\n",
    "test_csv_df\n",
    "\n",
    "test_csv_df['time_bin_size'].unique()"
   ]
  },
  {
   "cell_type": "code",
   "execution_count": null,
   "metadata": {},
   "outputs": [],
   "source": [
    "all_sessions_ripple_time_bin_df"
   ]
  },
  {
   "cell_type": "markdown",
   "metadata": {},
   "source": [
    "# h5_files"
   ]
  },
  {
   "cell_type": "code",
   "execution_count": null,
   "metadata": {
    "tags": [
     "remove-cell",
     "run_main"
    ]
   },
   "outputs": [],
   "source": [
    "from pyphoplacecellanalysis.SpecificResults.AcrossSessionResults import load_across_sessions_exported_h5_files\n",
    "\n",
    "## INPUTS: h5_sessions, session_dict, cuttoff_date, known_bad_session_strs\n",
    "parsed_h5_files_df, h5_contexts_paths_dict = load_across_sessions_exported_h5_files(collected_outputs_directory=collected_outputs_directory, cuttoff_date=cuttoff_date,\n",
    "                                                                                    known_bad_session_strs=known_bad_session_strs)\n",
    "h5_session_contexts = list(h5_contexts_paths_dict.keys())\n",
    "included_h5_paths = list(h5_contexts_paths_dict.values())\n",
    "\n",
    "if neptuner_run is not None:\n",
    "    _neptuner_run_parameters = dict(parsed_h5_files_df=parsed_h5_files_df,\n",
    "                                       )\n",
    "    for k, v in _neptuner_run_parameters.items():\n",
    "        neptuner_run[f'parsed/{k}'] = v\n",
    "    _neptuner_run_parameters = {} # reset after writing\n",
    "\n",
    "parsed_h5_files_df\n",
    "# h5_contexts_paths_dict\n"
   ]
  },
  {
   "cell_type": "code",
   "execution_count": null,
   "metadata": {
    "tags": [
     "remove-cell",
     "run_main"
    ]
   },
   "outputs": [],
   "source": [
    "from pyphoplacecellanalysis.SpecificResults.AcrossSessionResults import AcrossSessionTables\n",
    "from pyphoplacecellanalysis.SpecificResults.AcrossSessionResults import AcrossSessionsVisualizations\n",
    "from pyphocorehelpers.indexing_helpers import reorder_columns, reorder_columns_relative\n",
    "\n",
    "included_session_contexts = deepcopy(h5_session_contexts)\n",
    "included_h5_paths = deepcopy(included_h5_paths)\n",
    "num_sessions = len(included_session_contexts)\n",
    "(neuron_identities_table, long_short_fr_indicies_analysis_table, neuron_replay_stats_table), output_path_dicts = AcrossSessionTables.build_and_save_all_combined_tables(included_session_contexts, included_h5_paths,\n",
    "                                                                                                                                                    override_output_parent_path=across_sessions_output_folder, output_path_suffix=f'{TODAY_DAY_DATE}',\n",
    "                                                                                                                                                    should_restore_native_column_types=True, include_csv=True, include_pkl=True)\n",
    "\n",
    "\n",
    "if neptuner_run is not None:\n",
    "    _neptuner_run_parameters = dict(neuron_identities_table=neuron_identities_table, long_short_fr_indicies_analysis_table=long_short_fr_indicies_analysis_table, neuron_replay_stats_table=neuron_replay_stats_table,\n",
    "                                       num_sessions=num_sessions)\n",
    "    for k, v in _neptuner_run_parameters.items():\n",
    "        neptuner_run[f'parsed/{k}'] = v\n",
    "    _neptuner_run_parameters = {} # reset after writing\n",
    "\n",
    "    for output_name, a_paths_dict in output_path_dicts.items():\n",
    "        for format_extension, an_output_path in a_paths_dict.items():\n",
    "            neptuner_run[f\"output_files/{format_extension}/{output_name}\"].upload(an_output_path.resolve().as_posix())\n",
    "\n",
    "\n",
    "# {'neuron_identities_table': {'.csv': WindowsPath('K:/scratch/across_sessions/2024-06-05_Apogee/neuron_identities_table.csv'),\n",
    "#   '.pkl': WindowsPath('K:/scratch/across_sessions/2024-06-05_Apogee/neuron_identities_table.pkl')},\n",
    "#  'long_short_fr_indicies_analysis_table': {'.csv': WindowsPath('K:/scratch/across_sessions/2024-06-05_Apogee/long_short_fr_indicies_analysis_table.csv'),\n",
    "#   '.pkl': WindowsPath('K:/scratch/across_sessions/2024-06-05_Apogee/long_short_fr_indicies_analysis_table.pkl')},\n",
    "#  'neuron_replay_stats_table': {'.csv': WindowsPath('K:/scratch/across_sessions/2024-06-05_Apogee/neuron_replay_stats_table.csv'),\n",
    "#   '.pkl': WindowsPath('K:/scratch/across_sessions/2024-06-05_Apogee/neuron_replay_stats_table.pkl')}}\n",
    "\n",
    "output_path_dicts\n",
    "\n",
    "## Move the \"height\" columns to the end\n",
    "neuron_replay_stats_table = reorder_columns_relative(neuron_replay_stats_table, column_names=['neuron_uid', 'format_name', 'animal', 'exper_name', 'session_name', 'neuron_type', 'aclu', 'session_uid', 'session_datetime'], relative_mode='start')\n",
    "\n",
    "neuron_replay_stats_table\n"
   ]
  },
  {
   "cell_type": "code",
   "execution_count": null,
   "metadata": {
    "tags": [
     "run_main"
    ]
   },
   "outputs": [],
   "source": [
    "# from pyphoplacecellanalysis.SpecificResults.AcrossSessionResults import AcrossSessionsResults\n",
    "\n",
    "# # output_path_suffix: str = f'2024-09-11_GL'\n",
    "# # output_path_suffix: str = f'2024-09-12'\n",
    "# output_path_suffix: str = f'2024-10-22_GL'\n",
    "# inst_fr_output_filename: str = f'across_session_result_long_short_recomputed_inst_firing_rate_{output_path_suffix}.pkl'\n",
    "# across_session_inst_fr_computation, across_sessions_instantaneous_fr_dict, across_sessions_instantaneous_frs_list = AcrossSessionsResults.load_across_sessions_data(global_data_root_parent_path=collected_outputs_directory, inst_fr_output_filename=inst_fr_output_filename)\n",
    "# # across_sessions_instantaneous_fr_dict = loadData(global_batch_result_inst_fr_file_path)\n",
    "# num_sessions = len(across_sessions_instantaneous_fr_dict)\n",
    "# print(f'num_sessions: {num_sessions}')\n"
   ]
  },
  {
   "cell_type": "code",
   "execution_count": null,
   "metadata": {},
   "outputs": [],
   "source": [
    "across_session_inst_fr_computation"
   ]
  },
  {
   "cell_type": "code",
   "execution_count": null,
   "metadata": {},
   "outputs": [],
   "source": [
    "across_sessions_instantaneous_frs_list"
   ]
  },
  {
   "cell_type": "code",
   "execution_count": null,
   "metadata": {
    "tags": [
     "run_main"
    ]
   },
   "outputs": [],
   "source": [
    "# from pyphoplacecellanalysis.SpecificResults.AcrossSessionResults import AcrossSessionsResults\n",
    "\n",
    "# # matplotlib_configuration_update(is_interactive=True, backend='Qt5Agg')\n",
    "# # output_path_suffix: str = f'{TODAY_DAY_DATE}'\n",
    "# # output_path_suffix: str = f'2024-09-11_GL'\n",
    "# # output_path_suffix: str = f'2024-09-12'\n",
    "# output_path_suffix: str = f'2024-09-26_GL'\n",
    "# # output_path_suffix: str = f'2024-10-01'\n",
    "# print(F'output_path_suffix: {output_path_suffix}')\n",
    "# AcrossSessionsResults.post_compute_all_sessions_processing(global_data_root_parent_path=collected_outputs_directory, output_path_suffix=output_path_suffix, plotting_enabled=False)"
   ]
  },
  {
   "cell_type": "markdown",
   "metadata": {},
   "source": [
    "# Get filtered for a particular type of replay:"
   ]
  },
  {
   "cell_type": "code",
   "execution_count": 4,
   "metadata": {
    "notebookRunGroups": {
     "groupValue": "1"
    },
    "tags": [
     "run_main"
    ]
   },
   "outputs": [
    {
     "ename": "NameError",
     "evalue": "name 'all_sessions_ripple_df' is not defined",
     "output_type": "error",
     "traceback": [
      "\u001b[0;31m---------------------------------------------------------------------------\u001b[0m",
      "\u001b[0;31mNameError\u001b[0m                                 Traceback (most recent call last)",
      "\u001b[1;32m/home/halechr/repos/Spike3D/EXTERNAL/PhoDibaPaper2024Book/PhoDibaPaper2024.ipynb Cell 37\u001b[0m line \u001b[0;36m1\n\u001b[1;32m      <a href='vscode-notebook-cell:/home/halechr/repos/Spike3D/EXTERNAL/PhoDibaPaper2024Book/PhoDibaPaper2024.ipynb#X51sZmlsZQ%3D%3D?line=8'>9</a>\u001b[0m time_bin_size: \u001b[39mfloat\u001b[39m \u001b[39m=\u001b[39m \u001b[39m0.025\u001b[39m\n\u001b[1;32m     <a href='vscode-notebook-cell:/home/halechr/repos/Spike3D/EXTERNAL/PhoDibaPaper2024Book/PhoDibaPaper2024.ipynb#X51sZmlsZQ%3D%3D?line=9'>10</a>\u001b[0m \u001b[39m# time_bin_size: float = 0.02\u001b[39;00m\n\u001b[1;32m     <a href='vscode-notebook-cell:/home/halechr/repos/Spike3D/EXTERNAL/PhoDibaPaper2024Book/PhoDibaPaper2024.ipynb#X51sZmlsZQ%3D%3D?line=10'>11</a>\u001b[0m \u001b[39m# time_bin_size: float = 0.01\u001b[39;00m\n\u001b[0;32m---> <a href='vscode-notebook-cell:/home/halechr/repos/Spike3D/EXTERNAL/PhoDibaPaper2024Book/PhoDibaPaper2024.ipynb#X51sZmlsZQ%3D%3D?line=11'>12</a>\u001b[0m filtered_all_sessions_ripple_df \u001b[39m=\u001b[39m deepcopy(all_sessions_ripple_df)[(all_sessions_ripple_df[\u001b[39m'\u001b[39m\u001b[39mcustom_replay_name\u001b[39m\u001b[39m'\u001b[39m] \u001b[39m==\u001b[39m replay_name) \u001b[39m&\u001b[39m (all_sessions_ripple_df[\u001b[39m'\u001b[39m\u001b[39mtime_bin_size\u001b[39m\u001b[39m'\u001b[39m] \u001b[39m==\u001b[39m time_bin_size)]\n\u001b[1;32m     <a href='vscode-notebook-cell:/home/halechr/repos/Spike3D/EXTERNAL/PhoDibaPaper2024Book/PhoDibaPaper2024.ipynb#X51sZmlsZQ%3D%3D?line=12'>13</a>\u001b[0m filtered_all_sessions_ripple_time_bin_df \u001b[39m=\u001b[39m deepcopy(all_sessions_ripple_time_bin_df)[(all_sessions_ripple_time_bin_df[\u001b[39m'\u001b[39m\u001b[39mcustom_replay_name\u001b[39m\u001b[39m'\u001b[39m] \u001b[39m==\u001b[39m replay_name) \u001b[39m&\u001b[39m (all_sessions_ripple_time_bin_df[\u001b[39m'\u001b[39m\u001b[39mtime_bin_size\u001b[39m\u001b[39m'\u001b[39m] \u001b[39m==\u001b[39m time_bin_size)]\n\u001b[1;32m     <a href='vscode-notebook-cell:/home/halechr/repos/Spike3D/EXTERNAL/PhoDibaPaper2024Book/PhoDibaPaper2024.ipynb#X51sZmlsZQ%3D%3D?line=13'>14</a>\u001b[0m filtered_all_sessions_MultiMeasure_ripple_df \u001b[39m=\u001b[39m deepcopy(all_sessions_MultiMeasure_ripple_df)[(all_sessions_MultiMeasure_ripple_df[\u001b[39m'\u001b[39m\u001b[39mcustom_replay_name\u001b[39m\u001b[39m'\u001b[39m] \u001b[39m==\u001b[39m replay_name) \u001b[39m&\u001b[39m (all_sessions_MultiMeasure_ripple_df[\u001b[39m'\u001b[39m\u001b[39mtime_bin_size\u001b[39m\u001b[39m'\u001b[39m] \u001b[39m==\u001b[39m time_bin_size)]\n",
      "\u001b[0;31mNameError\u001b[0m: name 'all_sessions_ripple_df' is not defined"
     ]
    }
   ],
   "source": [
    "## filter by specific set of replays:\n",
    "# dfs_list = (all_sessions_ripple_df, all_sessions_ripple_time_bin_df, all_sessions_simple_pearson_ripple_df, all_sessions_wcorr_ripple_df, all_sessions_all_scores_ripple_df)\n",
    "\n",
    "replay_name: str = ''\n",
    "# replay_name: str = 'withNewComputedReplays-qclu_[1, 2]-frateThresh_5.0' # 4307 rows\n",
    "# replay_name: str = 'withNewKamranExportedReplays-qclu_[1,2]-frateThresh_5.0' # 1417 rows, 1437 rows\n",
    "# replay_name: str = 'withNormalComputedReplays-qclu_[1,2]-frateThresh_1.0' # 2802 rows, 2831 rows\n",
    "\n",
    "time_bin_size: float = 0.025\n",
    "# time_bin_size: float = 0.02\n",
    "# time_bin_size: float = 0.01\n",
    "filtered_all_sessions_ripple_df = deepcopy(all_sessions_ripple_df)[(all_sessions_ripple_df['custom_replay_name'] == replay_name) & (all_sessions_ripple_df['time_bin_size'] == time_bin_size)]\n",
    "filtered_all_sessions_ripple_time_bin_df = deepcopy(all_sessions_ripple_time_bin_df)[(all_sessions_ripple_time_bin_df['custom_replay_name'] == replay_name) & (all_sessions_ripple_time_bin_df['time_bin_size'] == time_bin_size)]\n",
    "filtered_all_sessions_MultiMeasure_ripple_df = deepcopy(all_sessions_MultiMeasure_ripple_df)[(all_sessions_MultiMeasure_ripple_df['custom_replay_name'] == replay_name) & (all_sessions_MultiMeasure_ripple_df['time_bin_size'] == time_bin_size)]\n",
    "# filtered_all_sessions_simple_pearson_ripple_df = deepcopy(all_sessions_simple_pearson_ripple_df)[(all_sessions_simple_pearson_ripple_df['custom_replay_name'] == replay_name) & (all_sessions_simple_pearson_ripple_df['time_bin_size'] == time_bin_size)]\n",
    "# filtered_all_sessions_wcorr_ripple_df = deepcopy(all_sessions_wcorr_ripple_df)[(all_sessions_wcorr_ripple_df['custom_replay_name'] == replay_name) & (all_sessions_wcorr_ripple_df['time_bin_size'] == time_bin_size)]\n",
    "filtered_all_sessions_all_scores_ripple_df = deepcopy(all_sessions_all_scores_ripple_df)[(all_sessions_all_scores_ripple_df['custom_replay_name'] == replay_name) & (all_sessions_all_scores_ripple_df['time_bin_size'] == time_bin_size)]\n",
    "## OUTPUTS: filtered_all_sessions_ripple_df, filtered_all_sessions_ripple_time_bin_df, filtered_all_sessions_simple_pearson_ripple_df, filtered_all_sessions_wcorr_ripple_df, filtered_all_sessions_all_scores_ripple_df\n",
    "# filtered_all_sessions_simple_pearson_ripple_df\n",
    "filtered_all_sessions_all_scores_ripple_df\n"
   ]
  },
  {
   "cell_type": "markdown",
   "metadata": {},
   "source": [
    "## Session Enumerations"
   ]
  },
  {
   "cell_type": "code",
   "execution_count": null,
   "metadata": {
    "tags": [
     "skip-execution"
    ]
   },
   "outputs": [],
   "source": [
    "dataframes = {\n",
    "    'all_sessions_ripple_df': all_sessions_ripple_df,\n",
    "    'all_sessions_ripple_time_bin_df': all_sessions_ripple_time_bin_df,\n",
    "    'all_sessions_simple_pearson_ripple_df': all_sessions_simple_pearson_ripple_df,\n",
    "    'all_sessions_wcorr_ripple_df': all_sessions_wcorr_ripple_df,\n",
    "    'all_sessions_all_scores_ripple_df': all_sessions_all_scores_ripple_df\n",
    "}\n",
    "\n",
    "for name, df in dataframes.items():\n",
    "    unique_time_bin_counts = df.groupby('custom_replay_name')['time_bin_size'].nunique()\n",
    "    print(f\"== '{name}':\")\n",
    "    print(unique_time_bin_counts)\n"
   ]
  },
  {
   "cell_type": "code",
   "execution_count": null,
   "metadata": {
    "tags": [
     "skip-execution"
    ]
   },
   "outputs": [],
   "source": [
    "all_sessions_ripple_df['custom_replay_name'].unique()\n",
    "all_sessions_ripple_time_bin_df['custom_replay_name'].unique()\n",
    "all_sessions_simple_pearson_ripple_df['custom_replay_name'].unique()\n",
    "all_sessions_all_scores_ripple_df['custom_replay_name'].unique() \n",
    "\n",
    "# ['', 'withOldestImportedReplays-qclu_XX-frateThresh_0.1',\n",
    "# 'withNewComputedReplays-qclu_[1, 2]-frateThresh_5.0',\n",
    "# 'withNewKamranExportedReplays-qclu_[1,2]-frateThresh_5.0',\n",
    "# 'withNormalComputedReplays-qclu_[1,2]-frateThresh_1.0']\n",
    "\n",
    "\n",
    "all_sessions_all_scores_ripple_df['custom_replay_name'].unique() ## OH no, only this one is missing values"
   ]
  },
  {
   "cell_type": "code",
   "execution_count": null,
   "metadata": {
    "tags": [
     "skip-execution"
    ]
   },
   "outputs": [],
   "source": [
    "all_sessions_ripple_df"
   ]
  },
  {
   "cell_type": "code",
   "execution_count": null,
   "metadata": {
    "tags": [
     "skip-execution"
    ]
   },
   "outputs": [],
   "source": [
    "# sess_names, replay_names = all_sessions_ripple_df['session_name'].str.split('__') # , maxsplit=1\n",
    "\n",
    "for a_split in all_sessions_ripple_df['session_name'].str.split('__'):\n",
    "\tprint(f'a_split: {a_split}')\n",
    "\n",
    "\tif len(a_split) > 1:\n",
    "\t\tprint(f'a_split: {a_split}')\n"
   ]
  },
  {
   "cell_type": "code",
   "execution_count": null,
   "metadata": {
    "tags": [
     "skip-execution"
    ]
   },
   "outputs": [],
   "source": [
    "all_sessions_ripple_time_bin_df['custom_replay_name'].unique()\n",
    "# all_sessions_ripple_df['custom_replay_name'].unique()"
   ]
  },
  {
   "cell_type": "code",
   "execution_count": null,
   "metadata": {
    "tags": [
     "skip-execution"
    ]
   },
   "outputs": [],
   "source": [
    "# pd.set_option('display.min_rows', 50)\n",
    "# pd.set_option('display.max_rows', 50)\n",
    "# pd.set_option('display.show_dimensions', True)\n",
    "\n",
    "with pd.option_context('display.min_rows', 50, 'display.show_dimensions', True):\n",
    "    # max_elements\n",
    "    display(parsed_csv_files_df)\n",
    "\n",
    "# parsed_csv_files_df[parsed_csv_files_df['file_type'] == 'ripple_all_scores_merged_df']\n"
   ]
  },
  {
   "cell_type": "code",
   "execution_count": null,
   "metadata": {
    "tags": [
     "skip-execution"
    ]
   },
   "outputs": [],
   "source": [
    "parsed_csv_files_df[parsed_csv_files_df['file_type'] == 'ripple_all_scores_merged_df']\n",
    "\n",
    "# all_sessions_all_scores_ripple_df\n"
   ]
  },
  {
   "cell_type": "code",
   "execution_count": null,
   "metadata": {
    "tags": [
     "skip-execution"
    ]
   },
   "outputs": [],
   "source": [
    "all_sessions_ripple_time_bin_df"
   ]
  },
  {
   "cell_type": "code",
   "execution_count": null,
   "metadata": {
    "tags": [
     "skip-execution"
    ]
   },
   "outputs": [],
   "source": [
    "print(list(np.unique(parsed_csv_files_df.file_type))) # ['laps_marginals_df', 'laps_simple_pf_pearson_merged_df', 'laps_time_bin_marginals_df', 'laps_weighted_corr_merged_df', 'merged_complete_epoch_stats_df', 'ripple_all_scores_merged_df', 'ripple_marginals_df', 'ripple_simple_pf_pearson_merged_df', 'ripple_time_bin_marginals_df', 'ripple_weighted_corr_merged_df']"
   ]
  },
  {
   "cell_type": "markdown",
   "metadata": {},
   "source": [
    "# Across Session CSV Outputs"
   ]
  },
  {
   "cell_type": "code",
   "execution_count": null,
   "metadata": {
    "notebookRunGroups": {
     "groupValue": "1"
    },
    "tags": [
     "export",
     "CSV",
     "run_main"
    ]
   },
   "outputs": [],
   "source": [
    "## INPUTS: parsed_csv_files_df, TODAY_DAY_DATE\n",
    "display(parsed_csv_files_df)\n",
    "\n",
    "across_sessions_parsed_csv_files_path = across_sessions_output_folder.joinpath(f'{TODAY_DAY_DATE}_parsed_csv_files_df.csv').resolve()\n",
    "# parsed_csv_files_df.to_clipboard(excel=True)\n",
    "parsed_csv_files_df.to_csv(across_sessions_parsed_csv_files_path)\n",
    "display(fullwidth_path_widget(across_sessions_parsed_csv_files_path, file_name_label='across_sessions_parsed_csv_files_path:'))"
   ]
  },
  {
   "cell_type": "code",
   "execution_count": null,
   "metadata": {
    "notebookRunGroups": {
     "groupValue": "1"
    },
    "tags": [
     "export",
     "CSV",
     "run_main"
    ]
   },
   "outputs": [],
   "source": [
    "from pyphoplacecellanalysis.SpecificResults.AcrossSessionResults import export_across_session_CSVs\n",
    "\n",
    "## INPUTS: df_results\n",
    "all_sessions_laps_df, all_sessions_ripple_df, all_sessions_laps_time_bin_df, all_sessions_ripple_time_bin_df, all_sessions_MultiMeasure_laps_df, all_sessions_MultiMeasure_ripple_df, all_sessions_all_scores_ripple_df = df_results\n",
    "final_across_session_summary_CSVs_output_path = across_sessions_output_folder.resolve()\n",
    "display(fullwidth_path_widget(final_across_session_summary_CSVs_output_path, file_name_label='final_across_session_summary_CSVs_output_path:'))\n",
    "final_csv_export_paths = export_across_session_CSVs(final_output_path=final_across_session_summary_CSVs_output_path, TODAY_DAY_DATE=TODAY_DAY_DATE,\n",
    "                                                    all_sessions_laps_df=all_sessions_laps_df,  all_sessions_ripple_df=all_sessions_ripple_df,\n",
    "                                                    all_sessions_laps_time_bin_df=all_sessions_laps_time_bin_df, all_sessions_ripple_time_bin_df=all_sessions_ripple_time_bin_df, \n",
    "                                                    # all_sessions_simple_pearson_laps_df=all_sessions_simple_pearson_laps_df,  all_sessions_simple_pearson_ripple_df=all_sessions_simple_pearson_ripple_df,\n",
    "                                                    all_sessions_MultiMeasure_laps_df=all_sessions_MultiMeasure_laps_df,  all_sessions_MultiMeasure_ripple_df=all_sessions_MultiMeasure_ripple_df,\n",
    "                                                    all_sessions_all_scores_ripple_df=all_sessions_all_scores_ripple_df,  all_sessions_all_scores_laps_df=None,\n",
    "                                                )\n",
    "\n",
    "# final_csv_export_paths: {'AcrossSession_Laps_per-Epoch': WindowsPath('K:/scratch/across_sessions/2024-06-05_Apogee_AcrossSession_Laps_per-Epoch.csv'),\n",
    "#  'AcrossSession_Ripple_per-Epoch': WindowsPath('K:/scratch/across_sessions/2024-06-05_Apogee_AcrossSession_Ripple_per-Epoch.csv'),\n",
    "#  'AcrossSession_Laps_per-TimeBin': WindowsPath('K:/scratch/across_sessions/2024-06-05_Apogee_AcrossSession_Laps_per-TimeBin.csv'),\n",
    "#  'AcrossSession_Ripple_per-TimeBin': WindowsPath('K:/scratch/across_sessions/2024-06-05_Apogee_AcrossSession_Ripple_per-TimeBin.csv'),\n",
    "#  'AcrossSession_SimplePearson_Laps_per-Epoch': WindowsPath('K:/scratch/across_sessions/2024-06-05_Apogee_AcrossSession_SimplePearson_Laps_per-Epoch.csv'),\n",
    "#  'AcrossSession_SimplePearson_Ripple_per-Epoch': WindowsPath('K:/scratch/across_sessions/2024-06-05_Apogee_AcrossSession_SimplePearson_Ripple_per-Epoch.csv'),\n",
    "#  'AcrossSession_AllScores_Ripple_per-Epoch': WindowsPath('K:/scratch/across_sessions/2024-06-05_Apogee_AcrossSession_AllScores_Ripple_per-Epoch.csv')}\n",
    "\n",
    "if neptuner_run is not None:\n",
    "    _neptuner_run_parameters = dict(across_sessions_parsed_csv_files_path=across_sessions_parsed_csv_files_path.as_posix(), final_across_session_summary_CSVs_output_path=final_across_session_summary_CSVs_output_path.as_posix(),\n",
    "                                       )\n",
    "    for k, v in _neptuner_run_parameters.items():\n",
    "        neptuner_run[f'output_files/{k}'] = v\n",
    "    _neptuner_run_parameters = {} # reset after writing\n",
    "\n",
    "    for k, v in final_csv_export_paths.items():\n",
    "        neptuner_run[f\"output_files/{k}\"].upload(v.resolve().as_posix())\n",
    "        \n",
    "    neptuner_run.sync()\n",
    "    \n",
    "final_csv_export_paths"
   ]
  },
  {
   "cell_type": "markdown",
   "metadata": {},
   "source": [
    "# 2024-03-02 - Get only the user-annotated ripples:"
   ]
  },
  {
   "cell_type": "code",
   "execution_count": null,
   "metadata": {},
   "outputs": [],
   "source": [
    "from pyphoplacecellanalysis.SpecificResults.AcrossSessionResults import _split_user_annotated_ripple_df\n",
    "\n",
    "## Bump\n",
    "# input_df = all_sessions_simple_pearson_ripple_df\n",
    "# input_df = all_sessions_all_scores_ripple_df\n",
    "\n",
    "all_sessions_all_scores_ripple_df, (valid_ripple_df, invalid_ripple_df), (user_approved_ripple_df, user_rejected_ripple_df) = _split_user_annotated_ripple_df(all_sessions_all_scores_ripple_df)\n",
    "\n",
    "## 2024-03-14 - 'is_valid_epoch' column\n",
    "# 'is_valid_epoch'\n",
    "## OUTPUTS: valid_ripple_df, invalid_ripple_df, user_approved_ripple_df, user_rejected_ripple_df, (user_annotated_epoch_unique_session_names, unannotated_session_names)\n",
    "user_approved_ripple_df"
   ]
  },
  {
   "cell_type": "markdown",
   "metadata": {},
   "source": [
    "### 2024-02-29 - 4pm - Filter the events for those meeting wcorr criteria:\n"
   ]
  },
  {
   "cell_type": "code",
   "execution_count": null,
   "metadata": {},
   "outputs": [],
   "source": [
    "# df: pd.DataFrame = deepcopy(all_sessions_user_annotated_ripple_df)\n",
    "df: pd.DataFrame = deepcopy(valid_ripple_df) # valid epochs, but not just those that the user approved\n",
    "# df: pd.DataFrame = deepcopy(user_approved_ripple_df)\n",
    "\n",
    "## INPUTS: df\n",
    "\n",
    "min_wcorr_threshold: float = 0.33\n",
    "min_wcorr_diff_threshold: float = 0.2\n",
    "\n",
    "# is_included_large_wcorr_diff = np.any((df[['wcorr_abs_diff']].abs() > min_wcorr_diff_threshold), axis=1)\n",
    "is_included_large_wcorr_diff = np.any((df[['wcorr_diff']].abs() > min_wcorr_diff_threshold), axis=1)\n",
    "is_included_high_wcorr = np.any((df[['long_best_wcorr', 'short_best_wcorr']].abs() > min_wcorr_threshold), axis=1)\n",
    "\n",
    "df = df[is_included_high_wcorr]\n",
    "df\n",
    "\n",
    "# wcorr_long_LR\n"
   ]
  },
  {
   "cell_type": "code",
   "execution_count": null,
   "metadata": {},
   "outputs": [],
   "source": [
    "all_sessions_all_scores_ripple_df.time_bin_size.unique() # does not seem to return NaNs"
   ]
  },
  {
   "cell_type": "code",
   "execution_count": null,
   "metadata": {},
   "outputs": [],
   "source": [
    "all_sessions_ripple_time_bin_df.time_bin_size.unique()"
   ]
  },
  {
   "cell_type": "code",
   "execution_count": null,
   "metadata": {},
   "outputs": [],
   "source": [
    "all_sessions_ripple_time_bin_df"
   ]
  },
  {
   "cell_type": "markdown",
   "metadata": {},
   "source": [
    "### Single-time bin size version:"
   ]
  },
  {
   "cell_type": "code",
   "execution_count": null,
   "metadata": {},
   "outputs": [],
   "source": [
    "from pyphoplacecellanalysis.SpecificResults.PendingNotebookCode import build_single_time_bin_size_dfs\n",
    "\n",
    "# Select the periods:\n",
    "# active_all_sessions_all_scores_ripple_df, (active_all_sessions_ripple_df, active_all_sessions_ripple_time_bin_df) = all_sessions_all_scores_ripple_df, (all_sessions_ripple_df, all_sessions_ripple_time_bin_df)\n",
    "active_all_sessions_all_scores_ripple_df, (active_all_sessions_ripple_df, active_all_sessions_ripple_time_bin_df) = filtered_all_sessions_all_scores_ripple_df, (filtered_all_sessions_ripple_df, filtered_all_sessions_ripple_time_bin_df)\n",
    "\n",
    "# target_time_bin_size: float = np.nan\n",
    "# target_time_bin_size: float = 0.005 # 0.025 # 0.08222222\n",
    "# target_time_bin_size: float = 0.02\n",
    "target_time_bin_size: float = 0.025\n",
    "\n",
    "## INPUTS: all_sessions_all_scores_ripple_df, (all_sessions_ripple_df, all_sessions_ripple_time_bin_df)\n",
    "single_time_bin_size_all_sessions_ripple_df, single_time_bin_size_all_sessions_ripple_time_bin_df = build_single_time_bin_size_dfs(all_sessions_all_scores_epochs_df=active_all_sessions_all_scores_ripple_df,\n",
    "                                                                                                            all_sessions_epochs_df=active_all_sessions_ripple_df, all_sessions_epochs_time_bin_df=active_all_sessions_ripple_time_bin_df, target_time_bin_size=target_time_bin_size,\n",
    "                                                                                                            included_columns = ['delta_aligned_start_t', 'is_user_annotated_epoch', 'is_valid_epoch'])\n",
    "\n",
    "                                                                                                            \n",
    "single_time_bin_size_all_sessions_laps_df, single_time_bin_size_all_sessions_laps_time_bin_df = build_single_time_bin_size_dfs(all_sessions_all_scores_epochs_df=all_sessions_MultiMeasure_laps_df,\n",
    "                                                                                                            all_sessions_epochs_df=all_sessions_laps_df, all_sessions_epochs_time_bin_df=all_sessions_laps_time_bin_df, target_time_bin_size=target_time_bin_size,\n",
    "                                                                                                            included_columns = ['delta_aligned_start_t',])\n",
    "\n",
    "## OUTPUTS: single_time_bin_size_all_sessions_ripple_df, single_time_bin_size_all_sessions_ripple_time_bin_df\n",
    "## OUTPUTS: single_time_bin_size_all_sessions_laps_df, single_time_bin_size_all_sessions_laps_time_bin_df \n",
    "\n",
    "# single_time_bin_size_all_sessions_laps_df\n",
    "# single_time_bin_size_all_sessions_ripple_df\n",
    "\n",
    "# single_time_bin_size_all_sessions_laps_time_bin_df\n",
    "# single_time_bin_size_all_sessions_ripple_time_bin_df"
   ]
  },
  {
   "cell_type": "code",
   "execution_count": null,
   "metadata": {},
   "outputs": [],
   "source": [
    "# INPUTS: all_sessions_all_scores_ripple_df, (all_sessions_ripple_df, all_sessions_ripple_time_bin_df)\n",
    "all_sessions_ripple_df"
   ]
  },
  {
   "cell_type": "code",
   "execution_count": null,
   "metadata": {},
   "outputs": [],
   "source": [
    "all_sessions_ripple_time_bin_df"
   ]
  },
  {
   "cell_type": "markdown",
   "metadata": {},
   "source": [
    "# 🟢 2024-03-28 - AcrossSessionTable (PhoDibaPaper2023 formats) .h5 and figure exports\n",
    "\n",
    "neuron_identities_table, long_short_fr_indicies_analysis_table, neuron_replay_stats_table: all tables of the same length, one entry per neuron"
   ]
  },
  {
   "cell_type": "code",
   "execution_count": null,
   "metadata": {
    "tags": [
     "remove-cell",
     "figures"
    ]
   },
   "outputs": [],
   "source": [
    "from pyphoplacecellanalysis.SpecificResults.AcrossSessionResults import AcrossSessionTables, AcrossSessionsResults, AcrossSessionsVisualizations\n",
    "from neuropy.utils.mixins.HDF5_representable import HDF_Converter\n",
    "from pyphoplacecellanalysis.General.Batch.runBatch import BatchResultDataframeAccessor\n",
    "\n",
    "# output_path_suffix: str = '2024-09-26'\n",
    "# output_path_suffix: str = '2024-10-22'\n",
    "output_path_suffix: str = '2024-10-22'\n",
    "# output_path_suffix: str = '2024-10-04'\n",
    "# inst_fr_output_filename: str = f'across_session_result_long_short_recomputed_inst_firing_rate_{output_path_suffix}.pkl'\n",
    "# inst_fr_output_filename: str = f'across_session_result_long_short_recomputed_inst_firing_rate_{output_path_suffix}_0.0009.pkl' # single time bin size\n",
    "# inst_fr_output_filename: str = f'across_session_result_long_short_recomputed_inst_firing_rate_{output_path_suffix}_0.0015.pkl' # single time bin size\n",
    "# inst_fr_output_filename: str = f'across_session_result_long_short_recomputed_inst_firing_rate_{output_path_suffix}_0.0025.pkl' # single time bin size\n",
    "# inst_fr_output_filename: str = f'across_session_result_long_short_recomputed_inst_firing_rate_{output_path_suffix}_0.025.pkl' # single time bin size\n",
    "inst_fr_output_filename: str = f'across_session_result_long_short_recomputed_inst_firing_rate_{output_path_suffix}_1000.0.pkl' # single time bin size\n",
    "\n",
    "## INPUTS: included_session_contexts, included_h5_paths\n",
    "neuron_identities_table, long_short_fr_indicies_analysis_table, neuron_replay_stats_table = AcrossSessionTables.build_all_known_tables(included_session_contexts, included_h5_paths, should_restore_native_column_types=True)\n",
    "\n",
    "## different than load_all_combined_tables, which seems to work with `long_short_fr_indicies_analysis_table`\n",
    "# graphics_output_dict |= AcrossSessionsVisualizations.across_sessions_firing_rate_index_figure(long_short_fr_indicies_analysis_results=long_short_fr_indicies_analysis_table, num_sessions=num_sessions, save_figure=True)\n",
    "\n",
    "## Load all across-session tables from the pickles:\n",
    "output_path_suffix: str = f'{output_path_suffix}'\n",
    "neuron_identities_table, long_short_fr_indicies_analysis_table, neuron_replay_stats_table = AcrossSessionTables.load_all_combined_tables(override_output_parent_path=collected_outputs_directory, output_path_suffix=output_path_suffix) # output_path_suffix=f'2023-10-04-GL-Recomp'\n",
    "# num_sessions = len(neuron_replay_stats_table.session_uid.unique().to_numpy())\n",
    "# print(f'num_sessions: {num_sessions}')\n",
    "num_sessions: int = len(long_short_fr_indicies_analysis_table['session_uid'].unique())\n",
    "print(f'num_sessions: {num_sessions}')\n",
    "\n",
    "inst_fr_output_load_filepath: Path = collected_outputs_directory.joinpath(inst_fr_output_filename).resolve() # single time bin size # non-instantaneous version\n",
    "assert inst_fr_output_load_filepath.exists()\n",
    "# inst_fr_output_filename: str = inst_fr_output_load_filepath.name\n",
    "# across_session_inst_fr_computation, across_sessions_instantaneous_fr_dict, across_sessions_instantaneous_frs_list = AcrossSessionsResults.load_across_sessions_data(global_data_root_parent_path=global_data_root_parent_path, inst_fr_output_filename=inst_fr_output_filename)\n",
    "across_session_inst_fr_computation, across_sessions_instantaneous_fr_dict, across_sessions_instantaneous_frs_list = AcrossSessionsResults.load_across_sessions_data(global_data_root_parent_path=inst_fr_output_load_filepath.parent, inst_fr_output_filename=inst_fr_output_filename)\n",
    "\n",
    "graphics_output_dict = AcrossSessionsResults.post_compute_all_sessions_processing(global_data_root_parent_path=collected_outputs_directory, output_path_suffix=output_path_suffix, plotting_enabled=False, output_override_path=Path('../../output'), inst_fr_output_filename=inst_fr_output_filename)\n",
    "\n",
    "num_sessions = len(across_sessions_instantaneous_fr_dict)\n",
    "print(f'num_sessions: {num_sessions}')\n",
    "\n",
    "# Convert byte strings to regular strings\n",
    "neuron_replay_stats_table = neuron_replay_stats_table.applymap(lambda x: x.decode('utf-8') if isinstance(x, bytes) else x)\n",
    "neuron_replay_stats_table"
   ]
  },
  {
   "cell_type": "markdown",
   "metadata": {},
   "source": [
    "### Figure Generation"
   ]
  },
  {
   "cell_type": "code",
   "execution_count": null,
   "metadata": {
    "tags": [
     "tiny-test",
     "test"
    ]
   },
   "outputs": [],
   "source": [
    "long_short_fr_indicies_analysis_table"
   ]
  },
  {
   "cell_type": "code",
   "execution_count": null,
   "metadata": {},
   "outputs": [],
   "source": [
    "neuron_identities_table"
   ]
  },
  {
   "cell_type": "code",
   "execution_count": null,
   "metadata": {},
   "outputs": [],
   "source": [
    "neuron_replay_stats_table"
   ]
  },
  {
   "cell_type": "code",
   "execution_count": null,
   "metadata": {},
   "outputs": [],
   "source": [
    "from pyphoplacecellanalysis.SpecificResults.PhoDiba2023Paper import pho_stats_bar_graph_t_tests\n",
    "\n",
    "LxC_Laps_T_result, SxC_Laps_T_result, LxC_Replay_T_result, SxC_Replay_T_result = pho_stats_bar_graph_t_tests(across_session_inst_fr_computation)\n",
    "\n",
    "# LxC_Laps_T_result: TtestResult(statistic=5.550057784140024, pvalue=4.394229331160663e-05, df=16)\n",
    "# SxC_Laps_T_result: TtestResult(statistic=-4.50982955925142, pvalue=0.001125880142367611, df=10)\n",
    "# LxC_Replay_T_result: TtestResult(statistic=-0.4086778656072959, pvalue=0.6881937588138113, df=16)\n",
    "# SxC_Replay_T_result: TtestResult(statistic=-3.551930809035679, pvalue=0.0052513298000637825, df=10)\n",
    "\n",
    "\n",
    "\n",
    "# LxC_Replay_T_result is NOT p<0.05 significant (pvalue=0.6882)\n",
    "# SxC_Replay_T_result IS NOT p<0.05 significant (pvalue=0.0052513298000637825)"
   ]
  },
  {
   "cell_type": "code",
   "execution_count": null,
   "metadata": {},
   "outputs": [],
   "source": [
    "from pyphoplacecellanalysis.SpecificResults.PhoDiba2023Paper import PaperFigureTwo\n",
    "from pyphoplacecellanalysis.SpecificResults.AcrossSessionResults import AcrossSessionsVisualizations\n",
    "\n",
    "# %matplotlib inline \n",
    "# %matplotlib qt5\n",
    "## Plotting:\n",
    "graphics_output_dict = {}\n",
    "\n",
    "matplotlib_configuration_update(is_interactive=True, backend='Qt5Agg')\n",
    "\n",
    "## 2023-10-04 - Run `AcrossSessionsVisualizations` corresponding to the PhoDibaPaper2023 figures for all sessions\n",
    "## Hacks the `PaperFigureTwo` and `InstantaneousSpikeRateGroupsComputation`\n",
    "global_multi_session_context, _out_aggregate_fig_2 = AcrossSessionsVisualizations.across_sessions_bar_graphs(across_session_inst_fr_computation, num_sessions=num_sessions, enable_tiny_point_labels=False, enable_hover_labels=False, enabled_point_connection_lines=True, save_figure=False)\n"
   ]
  },
  {
   "cell_type": "code",
   "execution_count": null,
   "metadata": {},
   "outputs": [],
   "source": [
    "plt.show()\n"
   ]
  },
  {
   "cell_type": "code",
   "execution_count": null,
   "metadata": {},
   "outputs": [],
   "source": [
    "# across_session_inst_fr_computation\n",
    "## Document `InstantaneousSpikeRateGroupsComputation`\n",
    "from pyphocorehelpers.print_helpers import DocumentationFilePrinter\n",
    "from pyphocorehelpers.print_helpers import print_keys_if_possible\n",
    "\n",
    "doc_output_parent_folder = Path(r'C:\\Users\\pho\\repos\\Spike3DWorkEnv\\Spike3D\\EXTERNAL\\DEVELOPER_NOTES\\DataStructureDocumentation').resolve()\n",
    "Assert.path_exists(doc_output_parent_folder)\n",
    "doc_printer = DocumentationFilePrinter(doc_output_parent_folder=doc_output_parent_folder, doc_name='InstantaneousSpikeRateGroupsComputation')\n",
    "doc_printer.save_documentation('InstantaneousSpikeRateGroupsComputation', across_session_inst_fr_computation, non_expanded_item_keys=['_reverse_cellID_index_map'])"
   ]
  },
  {
   "cell_type": "code",
   "execution_count": null,
   "metadata": {},
   "outputs": [],
   "source": [
    "doc_printer = DocumentationFilePrinter(doc_output_parent_folder=doc_output_parent_folder, doc_name='SingleBarResult')\n",
    "doc_printer.save_documentation('SingleBarResult', across_session_inst_fr_computation.Fig2_Replay_FR[0], non_expanded_item_keys=['_reverse_cellID_index_map'])\n",
    "doc_printer.save_documentation('SingleBarResult', across_session_inst_fr_computation.Fig2_Replay_FR[1], non_expanded_item_keys=['_reverse_cellID_index_map'])\n",
    "doc_printer.save_documentation('SingleBarResult', across_session_inst_fr_computation.Fig2_Replay_FR[2], non_expanded_item_keys=['_reverse_cellID_index_map'])\n",
    "doc_printer.save_documentation('SingleBarResult', across_session_inst_fr_computation.Fig2_Replay_FR[3], non_expanded_item_keys=['_reverse_cellID_index_map'])"
   ]
  },
  {
   "cell_type": "code",
   "execution_count": null,
   "metadata": {},
   "outputs": [],
   "source": [
    "across_session_inst_fr_computation.get_summary_dataframe()"
   ]
  },
  {
   "cell_type": "code",
   "execution_count": null,
   "metadata": {},
   "outputs": [],
   "source": [
    "across_sessions_instantaneous_frs_list\n"
   ]
  },
  {
   "cell_type": "markdown",
   "metadata": {},
   "source": [
    "### 2024-09-10 - TODO: Filter out the datapoints from the bar plot corresponding to the novel vs. non-novel sessions"
   ]
  },
  {
   "cell_type": "code",
   "execution_count": null,
   "metadata": {},
   "outputs": [],
   "source": [
    "import re\n",
    "from typing import List, Tuple\n",
    "from pyphoplacecellanalysis.SpecificResults.AcrossSessionResults import ConciseSessionIdentifiers\n",
    "\n",
    "# `across_session_inst_fr_computation.Fig2_Replay_FR`\n",
    "\n",
    "novel_Fig2_Replay_FR = deepcopy(across_session_inst_fr_computation.Fig2_Replay_FR)\n",
    "non_novel_Fig2_Replay_FR = deepcopy(across_session_inst_fr_computation.Fig2_Replay_FR)\n",
    "\n",
    "# [0] and [1] both only use LxC_aclus\n",
    "LxC_aclus = deepcopy(across_session_inst_fr_computation.Fig2_Replay_FR[0].LxC_aclus.tolist()) # ['a0s0_109', 'a0s1_3', 'a0s1_29', 'a0s1_103', 'a0s3_90', 'a0s4_91', 'a0s4_95', 'a1s1_23', 'a1s2_25', 'a1s3_14', 'a1s3_30', 'a1s3_32', 'a2s0_8', 'a2s0_27', 'a2s1_27']\n",
    "_LxC_aclus_alt = deepcopy(across_session_inst_fr_computation.Fig2_Replay_FR[1].LxC_aclus.tolist()) # ['a0s0_109', 'a0s1_3', 'a0s1_29', 'a0s1_103', 'a0s3_90', 'a0s4_91', 'a0s4_95', 'a1s1_23', 'a1s2_25', 'a1s3_14', 'a1s3_30', 'a1s3_32', 'a2s0_8', 'a2s0_27', 'a2s1_27']\n",
    "assert _LxC_aclus_alt == LxC_aclus\n",
    "\n",
    "# [2] and [3] both only use SxC_aclus\n",
    "SxC_aclus = deepcopy(across_session_inst_fr_computation.Fig2_Replay_FR[2].SxC_aclus.tolist()) # ['a0s0_109', 'a0s1_3', 'a0s1_29', 'a0s1_103', 'a0s3_90', 'a0s4_91', 'a0s4_95', 'a1s1_23', 'a1s2_25', 'a1s3_14', 'a1s3_30', 'a1s3_32', 'a2s0_8', 'a2s0_27', 'a2s1_27']\n",
    "_SxC_aclus_alt = deepcopy(across_session_inst_fr_computation.Fig2_Replay_FR[3].SxC_aclus.tolist()) # ['a0s0_109', 'a0s1_3', 'a0s1_29', 'a0s1_103', 'a0s3_90', 'a0s4_91', 'a0s4_95', 'a1s1_23', 'a1s2_25', 'a1s3_14', 'a1s3_30', 'a1s3_32', 'a2s0_8', 'a2s0_27', 'a2s1_27']\n",
    "assert _SxC_aclus_alt == SxC_aclus\n",
    "\n",
    "parsed_LxC_aclus_df: pd.DataFrame = ConciseSessionIdentifiers.parse_concise_abbreviated_neuron_identifying_strings(LxC_aclus)\n",
    "# parsed_LxC_aclus_df\n",
    "\n",
    "parsed_SxC_aclus_df: pd.DataFrame = ConciseSessionIdentifiers.parse_concise_abbreviated_neuron_identifying_strings(SxC_aclus)\n",
    "# parsed_SxC_aclus_df\n",
    "\n",
    "# novel_LxC_indicies, non_novel_LxC_indicies = \n",
    "# partition_df(parsed_LxC_aclus_df, partitionColumn='is_session_novel')\n",
    "# partition_df(parsed_SxC_aclus_df, partitionColumn='is_session_novel')\n",
    "\n",
    "novel_LxC_indicies = np.where(parsed_LxC_aclus_df['is_session_novel'])[0]\n",
    "non_novel_LxC_indicies = np.where(np.logical_not(parsed_LxC_aclus_df['is_session_novel']))[0]\n",
    "\n",
    "(novel_LxC_indicies, non_novel_LxC_indicies)\n",
    "\n",
    "novel_SxC_indicies = np.where(parsed_SxC_aclus_df['is_session_novel'])[0]\n",
    "non_novel_SxC_indicies = np.where(np.logical_not(parsed_SxC_aclus_df['is_session_novel']))[0]\n",
    "\n",
    "(novel_SxC_indicies, non_novel_SxC_indicies)\n",
    "\n",
    "## OUTPUTS: (novel_LxC_indicies, non_novel_LxC_indicies), (novel_SxC_indicies, non_novel_SxC_indicies)\n",
    "curr_idx: int = 0\n",
    "novel_Fig2_Replay_FR[curr_idx].LxC_aclus = novel_Fig2_Replay_FR[curr_idx].LxC_aclus[novel_LxC_indicies]\n",
    "novel_Fig2_Replay_FR[curr_idx].values = novel_Fig2_Replay_FR[curr_idx].values[novel_LxC_indicies]\n",
    "curr_idx: int = 1\n",
    "novel_Fig2_Replay_FR[curr_idx].LxC_aclus = novel_Fig2_Replay_FR[curr_idx].LxC_aclus[novel_LxC_indicies]\n",
    "novel_Fig2_Replay_FR[curr_idx].values = novel_Fig2_Replay_FR[curr_idx].values[novel_LxC_indicies]\n",
    "curr_idx: int = 2\n",
    "novel_Fig2_Replay_FR[curr_idx].SxC_aclus = novel_Fig2_Replay_FR[curr_idx].SxC_aclus[novel_SxC_indicies]\n",
    "novel_Fig2_Replay_FR[curr_idx].values = novel_Fig2_Replay_FR[curr_idx].values[novel_SxC_indicies]\n",
    "curr_idx: int = 3\n",
    "novel_Fig2_Replay_FR[curr_idx].SxC_aclus = novel_Fig2_Replay_FR[curr_idx].SxC_aclus[novel_SxC_indicies]\n",
    "novel_Fig2_Replay_FR[curr_idx].values = novel_Fig2_Replay_FR[curr_idx].values[novel_SxC_indicies]\n",
    "\n",
    "across_session_inst_fr_computation.Fig2_Replay_FR = novel_Fig2_Replay_FR"
   ]
  },
  {
   "cell_type": "code",
   "execution_count": null,
   "metadata": {},
   "outputs": [],
   "source": [
    "global_multi_session_context, _out_aggregate_fig_2 = AcrossSessionsVisualizations.across_sessions_bar_graphs(across_session_inst_fr_computation, num_sessions=num_sessions, enable_tiny_point_labels=True, enable_hover_labels=False, save_figure=False)"
   ]
  },
  {
   "cell_type": "code",
   "execution_count": null,
   "metadata": {},
   "outputs": [],
   "source": [
    "## group by 'is_novel_exposure'\n",
    "## for `long_short_fr_indicies_analysis_table`\n",
    "is_novel_partitioned_dfs = dict(zip(*partition_df(long_short_fr_indicies_analysis_table, partitionColumn='is_novel_exposure')))\n",
    "novel_session_uids = is_novel_partitioned_dfs[True]['session_uid'].unique().tolist()\n",
    "non_novel_session_uids = is_novel_partitioned_dfs[False]['session_uid'].unique().tolist()\n",
    "## build dicts:\n",
    "novel_only_inst_fr_dict = {k:v for k, v in across_sessions_instantaneous_fr_dict.items() if k.get_description(separator='|') in novel_session_uids}\n",
    "non_novel_inst_fr_dict = {k:v for k, v in across_sessions_instantaneous_fr_dict.items() if k.get_description(separator='|') not in novel_session_uids}\n",
    "# novel_only_inst_fr_dict"
   ]
  },
  {
   "cell_type": "code",
   "execution_count": null,
   "metadata": {},
   "outputs": [],
   "source": [
    "# all\n",
    "# graphics_output_dict |= AcrossSessionsVisualizations.across_sessions_firing_rate_index_figure(long_short_fr_indicies_analysis_results=long_short_fr_indicies_analysis_table, num_sessions=num_sessions, save_figure=False)\n",
    "# split based on session novelty:\n",
    "graphics_output_dict |= AcrossSessionsVisualizations.across_sessions_firing_rate_index_figure(long_short_fr_indicies_analysis_results=is_novel_partitioned_dfs[True], num_sessions=len(novel_session_uids), save_figure=False)\n",
    "graphics_output_dict |= AcrossSessionsVisualizations.across_sessions_firing_rate_index_figure(long_short_fr_indicies_analysis_results=is_novel_partitioned_dfs[False], num_sessions=len(non_novel_session_uids), save_figure=False)\n"
   ]
  },
  {
   "cell_type": "code",
   "execution_count": null,
   "metadata": {},
   "outputs": [],
   "source": [
    "graphics_output_dict |= AcrossSessionsVisualizations.across_sessions_long_and_short_firing_rate_replays_v_laps_figure(neuron_replay_stats_table=neuron_replay_stats_table, num_sessions=num_sessions, save_figure=True)\n"
   ]
  },
  {
   "cell_type": "code",
   "execution_count": null,
   "metadata": {},
   "outputs": [],
   "source": [
    "## Aggregate across all of the sessions to build a new combined `InstantaneousSpikeRateGroupsComputation`, which can be used to plot the \"PaperFigureTwo\", bar plots for many sessions.\n",
    "global_multi_session_context = IdentifyingContext(format_name='kdiba', num_sessions=num_sessions) # some global context across all of the sessions, not sure what to put here.\n",
    "\n"
   ]
  },
  {
   "cell_type": "code",
   "execution_count": null,
   "metadata": {},
   "outputs": [],
   "source": [
    "_restore_previous_matplotlib_settings_callback = matplotlib_configuration_update(is_interactive=True, backend='Qt5Agg')\n",
    "# _restore_previous_matplotlib_settings_callback = matplotlib_configuration_update(is_interactive=False, backend='AGG')\n",
    "\n",
    "plt.show()\n"
   ]
  },
  {
   "cell_type": "code",
   "execution_count": null,
   "metadata": {},
   "outputs": [],
   "source": [
    "plt.close('all')    "
   ]
  },
  {
   "cell_type": "code",
   "execution_count": null,
   "metadata": {
    "tags": [
     "diagonal-histogram"
    ]
   },
   "outputs": [],
   "source": [
    "np.sqrt(2)"
   ]
  },
  {
   "cell_type": "code",
   "execution_count": null,
   "metadata": {
    "tags": [
     "diagonal-histogram"
    ]
   },
   "outputs": [],
   "source": [
    "\n",
    "# ax_histdiagonal.\n",
    "\n"
   ]
  },
  {
   "cell_type": "code",
   "execution_count": null,
   "metadata": {
    "tags": [
     "diagonal-histogram"
    ]
   },
   "outputs": [],
   "source": [
    "max_num_bins = np.max(diagonal_hist_artist[0])\n",
    "max_num_bins\n",
    "# diagonal_hist_artist[1]"
   ]
  },
  {
   "cell_type": "code",
   "execution_count": null,
   "metadata": {},
   "outputs": [],
   "source": [
    "\n",
    "matplotlib_configuration_update(is_interactive=True, backend='Qt5Agg')\n",
    "matplotlib_output_container: MatplotlibRenderPlots = AcrossSessionsVisualizations.across_sessions_firing_rate_index_figure(long_short_fr_indicies_analysis_results=long_short_fr_indicies_analysis_table, num_sessions=num_sessions, save_figure=False)"
   ]
  },
  {
   "cell_type": "code",
   "execution_count": null,
   "metadata": {},
   "outputs": [],
   "source": [
    "duplicates = long_short_fr_indicies_analysis_table[['x_frs_index', 'y_frs_index']].duplicated().sum()\n",
    "print(f\"Number of duplicate rows: {duplicates}\")\n"
   ]
  },
  {
   "cell_type": "code",
   "execution_count": null,
   "metadata": {},
   "outputs": [],
   "source": [
    "print(long_short_fr_indicies_analysis_table[['x_frs_index', 'y_frs_index']].std())\n"
   ]
  },
  {
   "cell_type": "code",
   "execution_count": null,
   "metadata": {},
   "outputs": [],
   "source": [
    "\n",
    "# long_short_fr_indicies_analysis_table[['x_frs_index']].corrwith(long_short_fr_indicies_analysis_table['y_frs_index']) # long_short_fr_indicies_analysis_table[['x_frs_index']].corrwith(long_short_fr_indicies_analysis_table['y_frs_index'])\n",
    "# Compute correlation and p-value\n",
    "df_cleaned: pd.DataFrame = long_short_fr_indicies_analysis_table[['x_frs_index', 'y_frs_index']].dropna()\n",
    "df_cleaned\n",
    "\n",
    "print(df_cleaned.shape)\n",
    "corr, p_value = pearsonr(df_cleaned['x_frs_index'], df_cleaned['y_frs_index'])\n",
    "print(f\"Correlation: {corr}, P-value: {p_value}\")\n",
    "# Correlation: 0.48548405144431905, P-value: 1.0243398539233502e-48\n",
    "\n"
   ]
  },
  {
   "cell_type": "code",
   "execution_count": null,
   "metadata": {
    "tags": [
     "remove-input"
    ]
   },
   "outputs": [],
   "source": [
    "plt.close('all')"
   ]
  },
  {
   "cell_type": "code",
   "execution_count": null,
   "metadata": {
    "tags": [
     "remove-input"
    ]
   },
   "outputs": [],
   "source": [
    "graphics_output_dict.saved_figures[0][0] #.plot_data['saved_figures']"
   ]
  },
  {
   "cell_type": "code",
   "execution_count": null,
   "metadata": {
    "tags": [
     "remove-input"
    ]
   },
   "outputs": [],
   "source": [
    "from pyphocorehelpers.plotting.media_output_helpers import fig_to_clipboard\n",
    "\n",
    "fig_to_clipboard(fig)\n"
   ]
  },
  {
   "cell_type": "code",
   "execution_count": null,
   "metadata": {
    "tags": [
     "remove-input"
    ]
   },
   "outputs": [],
   "source": [
    "# copy_image_to_clipboard(graphics_output_dict['figures'][0])\n",
    "fig_to_clipboard(matplotlib_output_container.figures[0])"
   ]
  },
  {
   "cell_type": "code",
   "execution_count": null,
   "metadata": {},
   "outputs": [],
   "source": [
    "matplotlib_configuration_update(is_interactive=True, backend='Qt5Agg')\n",
    "graphics_output_dict = AcrossSessionsVisualizations.across_sessions_long_and_short_firing_rate_replays_v_laps_figure(neuron_replay_stats_table=neuron_replay_stats_table, num_sessions=num_sessions)"
   ]
  },
  {
   "cell_type": "code",
   "execution_count": null,
   "metadata": {},
   "outputs": [],
   "source": [
    "_save_matplotlib_fig(graphics_output_dict)\n"
   ]
  },
  {
   "cell_type": "code",
   "execution_count": null,
   "metadata": {
    "tags": [
     "remove-input"
    ]
   },
   "outputs": [],
   "source": [
    "## Load the saved across-session results:\n",
    "# Outputs: across_session_inst_fr_computation, across_sessions_instantaneous_fr_dict, across_sessions_instantaneous_frs_list, neuron_identities_table, long_short_fr_indicies_analysis_table, neuron_replay_stats_table\n",
    "\n",
    "BATCH_DATE_TO_USE = f'2024-10-22'\n",
    "inst_fr_output_filename: str = f'across_session_result_long_short_recomputed_inst_firing_rate_{BATCH_DATE_TO_USE}.pkl'\n",
    "\n",
    "inst_fr_output_file = collected_outputs_directory.joinpath(inst_fr_output_filename).resolve()\n",
    "Assert.path_exists(inst_fr_output_file)\n",
    "\n",
    "across_session_inst_fr_computation, across_sessions_instantaneous_fr_dict, across_sessions_instantaneous_frs_list = AcrossSessionsResults.load_across_sessions_data(global_data_root_parent_path=collected_outputs_directory, inst_fr_output_filename=inst_fr_output_filename)\n",
    "# across_sessions_instantaneous_fr_dict = loadData(global_batch_result_inst_fr_file_path)\n",
    "num_sessions = len(across_sessions_instantaneous_fr_dict)\n",
    "print(f'num_sessions: {num_sessions}')\n",
    "\n",
    "## Load all across-session tables from the pickles:\n",
    "output_path_suffix: str = f'{BATCH_DATE_TO_USE}'\n",
    "neuron_identities_table, long_short_fr_indicies_analysis_table, neuron_replay_stats_table = AcrossSessionTables.load_all_combined_tables(override_output_parent_path=collected_outputs_directory, output_path_suffix=output_path_suffix) # output_path_suffix=f'2023-10-04-GL-Recomp'\n",
    "num_sessions = len(neuron_replay_stats_table.session_uid.unique().to_numpy())\n",
    "print(f'num_sessions: {num_sessions}')\n",
    "# neuron_replay_stats_table\n"
   ]
  },
  {
   "cell_type": "code",
   "execution_count": null,
   "metadata": {},
   "outputs": [],
   "source": [
    "neptuner.stop()"
   ]
  },
  {
   "cell_type": "markdown",
   "metadata": {},
   "source": [
    "## 2024-09-04 - Batch Output Files"
   ]
  },
  {
   "cell_type": "code",
   "execution_count": null,
   "metadata": {
    "tags": [
     "file_output"
    ]
   },
   "outputs": [],
   "source": [
    "from neuropy.core.user_annotations import UserAnnotationsManager\n",
    "from pyphocorehelpers.Filesystem.metadata_helpers import FilesystemMetadata, get_file_metadata\n",
    "from pyphocorehelpers.Filesystem.path_helpers import discover_data_files, generate_copydict, copy_movedict, copy_file, save_copydict_to_text_file, read_copydict_from_text_file, invert_filedict\n",
    "from pyphoplacecellanalysis.General.Batch.runBatch import get_file_str_if_file_exists\n",
    "from pyphoplacecellanalysis.SpecificResults.AcrossSessionResults import check_output_h5_files, copy_files_in_filelist_to_dest\n",
    "from pyphoplacecellanalysis.General.Batch.runBatch import ConcreteSessionFolder, BackupMethods\n",
    "\n",
    "# a_batch_progress_df = included_session_batch_progress_df.copy()\n",
    "included_session_contexts\n",
    "h5_contexts_paths_dict\n",
    "# h5_session_contexts\n",
    "\n",
    "debug_print = False\n",
    "known_global_data_root_parent_paths = [Path(r'/nfs/turbo/umms-kdiba/Data'), Path(r'W:\\Data'), Path(r'/home/halechr/cloud/turbo/Data'), Path(r'/media/halechr/MAX/Data'), Path(r'/Volumes/MoverNew/data')] # , Path(r'/home/halechr/FastData'), Path(r'/home/halechr/turbo/Data'), Path(r'W:\\Data'), Path(r'/home/halechr/cloud/turbo/Data')\n",
    "global_data_root_parent_path = find_first_extant_path(known_global_data_root_parent_paths)\n",
    "assert global_data_root_parent_path.exists(), f\"global_data_root_parent_path: {global_data_root_parent_path} does not exist! Is the right computer's config commented out above?\"\n",
    "## Build Pickle Path:\n",
    "# Hardcoded included_session_contexts:\n",
    "included_session_contexts = UserAnnotationsManager.get_hardcoded_good_sessions()\n",
    "good_session_concrete_folders = ConcreteSessionFolder.build_concrete_session_folders(global_data_root_parent_path, included_session_contexts)\n",
    "\n",
    "# Output Paths:\n",
    "included_h5_paths = [get_file_str_if_file_exists(v.pipeline_results_h5) for v in good_session_concrete_folders]\n",
    "# copy_dict = ConcreteSessionFolder.build_backup_copydict(good_session_concrete_folders, backup_mode=BackupMethods.RenameInSourceDirectory, only_include_file_types=['local_pkl', 'global_pkl'])\n",
    "check_output_h5_files(included_h5_paths)\n",
    "\n",
    "## OUTPUTS: included_h5_paths, included_session_contexts, good_session_concrete_folders\n",
    "\n",
    "included_h5_paths\n",
    "\n",
    "RESULT_DATE_TO_USE = '2024-10-23'\n",
    "# RESULT_DATE_TO_USE = '2024-07-02'\n",
    "\n",
    "# included_file_types_paths_dict = {'h5': included_h5_paths, 'recomputed_inst_fr_comps': []}\n",
    "# included_file_types_paths_dict['recomputed_inst_fr_comps'] = [get_file_path_if_file_exists(v.output_folder.joinpath(f'{RESULT_DATE_TO_USE}_recomputed_inst_fr_comps_0.0005.h5').resolve()) for v in good_session_concrete_folders]\n",
    "# included_file_types_paths_dict\n"
   ]
  },
  {
   "cell_type": "markdown",
   "metadata": {},
   "source": [
    "# Plotting via Plotly\n",
    "`!pip install kaleido==\"v0.1.0.post1\" `"
   ]
  },
  {
   "cell_type": "code",
   "execution_count": null,
   "metadata": {
    "tags": [
     "plotly-figure",
     "active-2024-10-23",
     "best",
     "run_main"
    ]
   },
   "outputs": [],
   "source": [
    "from pyphoplacecellanalysis.Pho2D.plotly.Extensions.plotly_helpers import plotly_pre_post_delta_scatter\n",
    "\n",
    "is_dark_mode, template = PlotlyHelpers.get_plotly_template(is_dark_mode=False)\n",
    "\n",
    "@function_attributes(short_name=None, tags=['CRITICAL', 'FINAL', 'plotly'], input_requires=[], output_provides=[], uses=['plotly_pre_post_delta_scatter'], used_by=[], creation_date='2024-10-23 20:04', related_items=[])\n",
    "def _perform_plot_pre_post_delta_scatter(data_context: IdentifyingContext, concatenated_ripple_df: pd.DataFrame, is_dark_mode: bool=False, enable_custom_widget_buttons:bool=True):\n",
    "    \"\"\" plots the stacked histograms for both laps and ripples\n",
    "    \"\"\"\n",
    "    \n",
    "    is_dark_mode, template = PlotlyHelpers.get_plotly_template(is_dark_mode=is_dark_mode)\n",
    "    \n",
    "    histogram_bins = 25\n",
    "    num_sessions = 1\n",
    "\n",
    "    # .025 .03 .044 .05 .058\n",
    "    # Define the legend groups you want to hide on startup\n",
    "    legend_groups_to_hide = ['0.03', '0.044', '0.05'] # '0.025', , '0.058'\n",
    "\n",
    "    # variable_name = 'P_LR'\n",
    "    # variable_name = 'P_Long'\n",
    "    variable_name = 'P_Short' # Shows expected effect - short-only replay prior to delta and then split replays post-delta\n",
    "    # variable_name = 'short_best_wcorr'\n",
    "    # variable_name = 'long_best_pf_peak_x_pearsonr'\n",
    "    # variable_name = 'long_best_jump'\n",
    "    # variable_name = 'wcorr_abs_diff'\n",
    "    # variable_name = 'short_best_wcorr'\n",
    "    # variable_name = 'wcorr_long_LR'\n",
    "    # variable_name = 'pearsonr_abs_diff'\n",
    "    # variable_name = 'direction_change_bin_ratio_diff'\n",
    "    # variable_name = 'longest_sequence_length_ratio_diff'\n",
    "    # variable_name = 'long_best_longest_sequence_length_ratio'\n",
    "    # variable_name = 'long_best_congruent_dir_bins_ratio'\n",
    "    # variable_name = 'congruent_dir_bins_ratio_diff'\n",
    "    # variable_name = 'total_congruent_direction_change_diff'\n",
    "    # variable_name = 'long_best_congruent_dir_bins_ratio'\n",
    "    # variable_name = 'long_best_direction_change_bin_ratio'\n",
    "    # variable_name = 'long_best_congruent_dir_bins_ratio'\n",
    "\n",
    "    y_baseline_level: float = 0.5 # for P(short), etc\n",
    "    # y_baseline_level: float = 0.0 # for wcorr, etc\n",
    "\n",
    "    # px_scatter_kwargs = {'x': 'delta_aligned_start_t', 'y': variable_name, 'color':\"is_user_annotated_epoch\", 'title': f\"'{variable_name}'\"} # , 'color': 'time_bin_size', 'range_y': [-1.0, 1.0], 'labels': {'session_name': 'Session', 'time_bin_size': 'tbin_size', 'is_user_annotated_epoch':'user_sel'}\n",
    "    px_scatter_kwargs = {'x': 'delta_aligned_start_t', 'y': variable_name, 'title': f\"{data_context.get_description(subset_includelist=['dataframe_name', 'title_prefix'], separator=' - ')} - '{variable_name}'\"} # , 'color': 'time_bin_size', 'range_y': [-1.0, 1.0], 'labels': {'session_name': 'Session', 'time_bin_size': 'tbin_size', 'is_user_annotated_epoch':'user_sel'}\n",
    "    px_scatter_kwargs['color'] = \"time_bin_size\"\n",
    "    # px_scatter_kwargs.pop('color')\n",
    "\n",
    "    concatenated_ripple_df['dummy_column_for_size'] = 1.0\n",
    "    px_scatter_kwargs['size'] = \"dummy_column_for_size\"\n",
    "    px_scatter_kwargs['size_max'] = 3\n",
    "    # px_scatter_kwargs['marker'] = dict(line=dict(width=0))\n",
    "    # Remove the white border around scatter points by setting line width to 0\n",
    "    # px_scatter_kwargs['line_width'] = 0  # <---- Correct way for Plotly Express\n",
    "\n",
    "    # px_scatter_kwargs.update(dict(marginal_x=\"histogram\", marginal_y=\"rug\"))\n",
    "\n",
    "    hist_kwargs = dict(color=\"time_bin_size\")\n",
    "    # hist_kwargs = dict(color=\"is_user_annotated_epoch\") # , histnorm='probability density'\n",
    "    # hist_kwargs.pop('color')\n",
    "    new_fig, new_fig_context = plotly_pre_post_delta_scatter(data_results_df=concatenated_ripple_df, data_context=data_context,\n",
    "                            out_scatter_fig=None, histogram_bins=histogram_bins,\n",
    "                            px_scatter_kwargs=px_scatter_kwargs, histogram_variable_name=variable_name, hist_kwargs=hist_kwargs, forced_range_y=None,\n",
    "                            time_delta_tuple=(earliest_delta_aligned_t_start, 0.0, latest_delta_aligned_t_end), legend_title_text=None, is_dark_mode=is_dark_mode,\n",
    "                            # figure_sup_huge_title_text=data_context.get_description(subset_excludelist=['title_prefix'], separator=' | '),\n",
    "                            figure_sup_huge_title_text=data_context.get_description(subset_includelist=['epochs_name', 'data_grain', 'dataframe_name'], separator=' | '),\n",
    ")\n",
    "\n",
    "    new_fig = new_fig.update_layout(fig_size_kwargs)\n",
    "\n",
    "    if legend_groups_to_hide is not None:\n",
    "        # Collect all unique legend groups you want to hide\n",
    "        hidden_groups = set(legend_groups_to_hide)\n",
    "        # Iterate over traces and hide those in the specified legend groups\n",
    "        for trace in new_fig.data:\n",
    "            if trace.legendgroup in hidden_groups:\n",
    "                trace.visible = 'legendonly'\n",
    "            \n",
    "    # new_fig_laps.show()\n",
    "\n",
    "    _extras_output_dict = {}\n",
    "    if is_dark_mode:\n",
    "        _extras_output_dict[\"y_mid_line\"] = new_fig.add_hline(y=y_baseline_level, line=dict(color=\"rgba(0.8,0.8,0.8,.75)\", width=2), row='all', col='all')\n",
    "    else:\n",
    "        _extras_output_dict[\"y_mid_line\"] = new_fig.add_hline(y=y_baseline_level, line=dict(color=\"rgba(0.2,0.2,0.2,.75)\", width=2), row='all', col='all')\n",
    "\n",
    "\n",
    "    # fig_to_clipboard(new_fig_laps, **fig_size_kwargs)\n",
    "    new_fig_context = new_fig_context.adding_context_if_missing(**data_context.get_subset(subset_includelist=['epochs_name', 'data_grain']).to_dict(), num_sessions=num_sessions, plot_type='scatter+hist', comparison='pre-post-delta', variable_name=variable_name)\n",
    "    figure_out_paths = save_plotly(a_fig=new_fig, a_fig_context=new_fig_context)\n",
    "\n",
    "    if enable_custom_widget_buttons:\n",
    "        new_fig = add_copy_save_action_buttons(new_fig)\n",
    "    \n",
    "    return new_fig, new_fig_context, _extras_output_dict, figure_out_paths\n",
    "\n",
    "\n",
    "# Across Sessions Lap Per Epoch - 'P_Short' (11 Sessions) - time bin size-\n",
    "\n"
   ]
  },
  {
   "cell_type": "markdown",
   "metadata": {},
   "source": [
    "# Testing Dataframes\n"
   ]
  },
  {
   "cell_type": "code",
   "execution_count": null,
   "metadata": {},
   "outputs": [],
   "source": [
    "from pho_jupyter_preview_widget.display_helpers import render_scrollable_colored_table_from_dataframe, render_scrollable_colored_table\n",
    "# Example 2D NumPy array\n",
    "array = np.random.rand(100, 10)\n",
    "# Draw it\n",
    "render_scrollable_colored_table(array)"
   ]
  },
  {
   "cell_type": "code",
   "execution_count": null,
   "metadata": {},
   "outputs": [],
   "source": [
    "# Render the DataFrame as a scrollable table with color-coded values\n",
    "# scrollable_table = HTML(styled_df.set_table_attributes(f'style=\"display:block;overflow-x:auto;max-height:{max_height}px;width:{width};border-collapse:collapse;\"').render())\n",
    "df: pd.DataFrame = deepcopy(all_sessions_ripple_df)\n",
    "\n",
    "# render_scrollable_colored_table_from_dataframe(df)"
   ]
  },
  {
   "cell_type": "code",
   "execution_count": null,
   "metadata": {},
   "outputs": [],
   "source": [
    "df: pd.DataFrame = deepcopy(all_sessions_ripple_df)\n",
    "\n",
    "# Performed 3 aggregations grouped on column: 'session_name'\n",
    "df.groupby(['session_name']).agg(delta_aligned_start_t_nunique=('delta_aligned_start_t', 'nunique'), custom_replay_name_nunique=('custom_replay_name', 'nunique'), time_bin_size_nunique=('time_bin_size', 'nunique')).reset_index()\n",
    "\n",
    "# Performed 3 aggregations grouped on column: 'session_name'\n",
    "df.groupby(['time_bin_size', 'session_name']).agg(delta_aligned_start_t_nunique=('delta_aligned_start_t', 'nunique'), custom_replay_name_nunique=('custom_replay_name', 'nunique'), time_bin_size_nunique=('time_bin_size', 'nunique')).reset_index()\n",
    "\n",
    "df.groupby(['time_bin_size']).agg(delta_aligned_start_t_nunique=('delta_aligned_start_t', 'nunique'), custom_replay_name_nunique=('custom_replay_name', 'nunique'), time_bin_size_nunique=('time_bin_size', 'nunique'), session_name_nunique=('session_name', 'nunique')).reset_index()\n",
    "\n",
    "# from pyphocorehelpers.gui.Qt.pandas_model import SimplePandasModel, create_tabbed_table_widget\n"
   ]
  },
  {
   "cell_type": "code",
   "execution_count": null,
   "metadata": {},
   "outputs": [],
   "source": [
    "from pyphocorehelpers.gui.Jupyter.simple_widgets import create_tab_widget\n",
    "from pho_jupyter_preview_widget.display_helpers import render_scrollable_colored_table_from_dataframe\n",
    "\n",
    "def build_df_debugging_tabbed_widget(df: pd.DataFrame, df_name: str):\n",
    "    df: pd.DataFrame = deepcopy(df)\n",
    "    df_dict = {\"by 'session_name'\": df.groupby(['session_name']).agg(delta_aligned_start_t_nunique=('delta_aligned_start_t', 'nunique'), custom_replay_name_nunique=('custom_replay_name', 'nunique'), time_bin_size_nunique=('time_bin_size', 'nunique')).reset_index(),\n",
    "                \"by 'time_bin_size', 'session_name'\": df.groupby(['time_bin_size', 'session_name']).agg(delta_aligned_start_t_nunique=('delta_aligned_start_t', 'nunique'), custom_replay_name_nunique=('custom_replay_name', 'nunique'), time_bin_size_nunique=('time_bin_size', 'nunique')).reset_index(),\n",
    "                \"by 'time_bin_size'\": df.groupby(['time_bin_size']).agg(delta_aligned_start_t_nunique=('delta_aligned_start_t', 'nunique'), custom_replay_name_nunique=('custom_replay_name', 'nunique'), time_bin_size_nunique=('time_bin_size', 'nunique'), session_name_nunique=('session_name', 'nunique')).reset_index(),\n",
    "                }\n",
    "    # tab_widget = create_tab_widget(df_dict)\n",
    "    # display(tab_widget)\n",
    "    # render_scrollable_colored_table_from_dataframe(df_dict['DataFrame 1'])\n",
    "    formatted_df_dict = {k:render_scrollable_colored_table_from_dataframe(v, is_dark_mode=False, cmap_name=None) for k, v in df_dict.items()}\n",
    "    tab_widget = create_tab_widget(formatted_df_dict)\n",
    "    display(df_name, tab_widget)\n",
    "    \n",
    "# build_df_debugging_tabbed_widget(df=all_sessions_ripple_df)\n",
    "\n",
    "dfs_dict = {'all_sessions_ripple_df':all_sessions_ripple_df, 'all_sessions_MultiMeasure_ripple_df':all_sessions_MultiMeasure_ripple_df, 'all_sessions_all_scores_ripple_df':all_sessions_all_scores_ripple_df}\n",
    "for name, a_df in dfs_dict.items():\n",
    "    build_df_debugging_tabbed_widget(df=a_df, df_name=name)"
   ]
  },
  {
   "cell_type": "code",
   "execution_count": null,
   "metadata": {},
   "outputs": [],
   "source": [
    "build_df_debugging_tabbed_widget(df=all_sessions_MultiMeasure_ripple_df)\n"
   ]
  },
  {
   "cell_type": "code",
   "execution_count": null,
   "metadata": {},
   "outputs": [],
   "source": [
    "build_df_debugging_tabbed_widget(df=all_sessions_all_scores_ripple_df)\n"
   ]
  },
  {
   "cell_type": "code",
   "execution_count": null,
   "metadata": {},
   "outputs": [],
   "source": [
    "render_scrollable_colored_table(df.groupby(['session_name']).agg(delta_aligned_start_t_nunique=('delta_aligned_start_t', 'nunique'), custom_replay_name_nunique=('custom_replay_name', 'nunique'), time_bin_size_nunique=('time_bin_size', 'nunique')).reset_index())\n"
   ]
  },
  {
   "cell_type": "code",
   "execution_count": null,
   "metadata": {},
   "outputs": [],
   "source": []
  },
  {
   "cell_type": "markdown",
   "metadata": {},
   "source": [
    "# Resume"
   ]
  },
  {
   "cell_type": "code",
   "execution_count": null,
   "metadata": {
    "tags": [
     "plotly-figure",
     "run_main"
    ]
   },
   "outputs": [],
   "source": [
    "\n",
    "\n",
    "# grainularity_desc: str = 'by-time-bin'\n",
    "# laps_df: pd.DataFrame = all_sessions_laps_time_bin_df\n",
    "# ripple_df: pd.DataFrame = all_sessions_ripple_time_bin_df\n",
    "# _laps_histogram_out, _ripple_histogram_out = _perform_plot_pre_post_delta_scatter(grainularity_desc='by-time-bin', laps_df=all_sessions_laps_time_bin_df, ripple_df=all_sessions_ripple_time_bin_df)\n",
    "\n",
    "# ==================================================================================================================== #\n",
    "# Produces all four hist/scatter/hist plotly figures with clear labels in one call                                     #\n",
    "# ==================================================================================================================== #\n",
    "\n",
    "# BEGIN CALL _________________________________________________________________________________________________________ #\n",
    "new_fig, new_fig_context, _extras_output_dict, figure_out_paths = _perform_plot_pre_post_delta_scatter(data_context = IdentifyingContext(epochs_name='laps', data_grain='per_epoch', title_prefix=\"Lap Per Epoch\", dataframe_name='laps_df'), concatenated_ripple_df = deepcopy(all_sessions_laps_df))\n",
    "# new_fig\n",
    "\n",
    "new_fig, new_fig_context, _extras_output_dict, figure_out_paths = _perform_plot_pre_post_delta_scatter(data_context = IdentifyingContext(epochs_name='laps', data_grain='per_time_bin', title_prefix=\"Lap Individual Time Bins\", dataframe_name='laps_time_bin_df'), concatenated_ripple_df = deepcopy(all_sessions_laps_time_bin_df))\n",
    "# new_fig\n"
   ]
  },
  {
   "cell_type": "code",
   "execution_count": null,
   "metadata": {
    "tags": [
     "plotly-figure",
     "run_main"
    ]
   },
   "outputs": [],
   "source": [
    "\n",
    "new_fig, new_fig_context, _extras_output_dict, figure_out_paths = _perform_plot_pre_post_delta_scatter(data_context = IdentifyingContext(epochs_name='PBE', data_grain='per_epoch', title_prefix=\"PBE Per Epoch\", dataframe_name='ripple_df'), concatenated_ripple_df = deepcopy(all_sessions_ripple_df))\n",
    "# new_fig\n",
    "\n",
    "new_fig, new_fig_context, _extras_output_dict, figure_out_paths = _perform_plot_pre_post_delta_scatter(data_context = IdentifyingContext(epochs_name='PBE', data_grain='per_time_bin', title_prefix=\"PBE Individual Time Bins\", dataframe_name='ripple_time_bin_df'), concatenated_ripple_df = deepcopy(all_sessions_ripple_time_bin_df))\n",
    "# new_fig\n",
    "\n"
   ]
  },
  {
   "cell_type": "code",
   "execution_count": null,
   "metadata": {},
   "outputs": [],
   "source": [
    "all_sessions_laps_time_bin_df[np.isin(all_sessions_laps_time_bin_df['time_bin_size'], [0.025, 0.05])]['session_name'].unique()"
   ]
  },
  {
   "cell_type": "code",
   "execution_count": null,
   "metadata": {},
   "outputs": [],
   "source": [
    "all_sessions_ripple_df['delta_aligned_start_t'].nunique()\n",
    "all_sessions_ripple_df['time_bin_size'].nunique()"
   ]
  },
  {
   "cell_type": "code",
   "execution_count": null,
   "metadata": {},
   "outputs": [],
   "source": [
    "all_sessions_MultiMeasure_ripple_df"
   ]
  },
  {
   "cell_type": "code",
   "execution_count": null,
   "metadata": {
    "tags": [
     "run_main"
    ]
   },
   "outputs": [],
   "source": [
    "## all scores variants - allows more columns to be plotted:\n",
    "\n",
    "fig, new_fig_context, _extras_output_dict, figure_out_paths = _perform_plot_pre_post_delta_scatter(data_context = IdentifyingContext(epochs_name='PBE', data_grain='per_epoch', dataframe_name='MultiMeasure_ripple_df', title_prefix=\"MultiMeasure_ripple_df - PBE Per Epoch\"),\n",
    "\t\t\t\t\t\t\t\t\t\t\t\t\t\t\t\t\t\t\t\t\t\t\t\tconcatenated_ripple_df = deepcopy(all_sessions_MultiMeasure_ripple_df), is_dark_mode=False)\n",
    "fig\n",
    "\n",
    "\n",
    "# \"P_Short_11_6_6_Across Sessions all_sessions_MultiMeasure_ripple_df - PBE Per Epoch - 'P_Short' (11 Sessions) - 6 Time Bin Sizes_PBE_per_epoch_scatter+hist_pre-post-delta_P_Short\""
   ]
  },
  {
   "cell_type": "code",
   "execution_count": null,
   "metadata": {
    "tags": [
     "run_main"
    ]
   },
   "outputs": [],
   "source": [
    "\n",
    "fig, new_fig_context, _extras_output_dict, figure_out_paths = _perform_plot_pre_post_delta_scatter(data_context = IdentifyingContext(epochs_name='PBE', data_grain='per_epoch', dataframe_name='all_scores_ripple_df', title_prefix=\"all_sessions_all_scores_ripple_df - PBE Per Epoch\"),\n",
    "                                                                                                    concatenated_ripple_df = deepcopy(all_sessions_all_scores_ripple_df), is_dark_mode=False)\n",
    "fig"
   ]
  },
  {
   "cell_type": "code",
   "execution_count": null,
   "metadata": {
    "tags": [
     "run_main"
    ]
   },
   "outputs": [],
   "source": [
    "\n",
    "new_fig, new_fig_context, _extras_output_dict, figure_out_paths = _perform_plot_pre_post_delta_scatter(data_context = IdentifyingContext(epochs_name='PBE', data_grain='per_epoch', dataframe_name='all_scores_ripple_df', filter_status='filtered', title_prefix=\"filtered_all_sessions_all_scores_ripple_df - Filtered PBE Per Epoch\"),\n",
    "                                                                                                        concatenated_ripple_df = deepcopy(filtered_all_sessions_all_scores_ripple_df))\n",
    "new_fig"
   ]
  },
  {
   "cell_type": "markdown",
   "metadata": {},
   "source": []
  },
  {
   "cell_type": "markdown",
   "metadata": {},
   "source": []
  },
  {
   "cell_type": "code",
   "execution_count": null,
   "metadata": {
    "tags": [
     "plotly-figure"
    ]
   },
   "outputs": [],
   "source": [
    "# variable_name = 'short_best_direction_change_bin_ratio'\n",
    "# variable_name = 'long_best_congruent_dir_bins_ratio'\n",
    "variable_name = 'short_best_wcorr'\n",
    "# 'color':'is_user_annotated_epoch'\n",
    "# 'color': 'is_user_annotated_epoch', \n",
    "px_scatter_kwargs = {'x': 'delta_aligned_start_t', 'y': variable_name, 'title': f\"'{variable_name}'\"} # , 'color': 'time_bin_size', 'range_y': [-1.0, 1.0], , 'labels': {'session_name': 'Session', 'time_bin_size': 'tbin_size', 'is_user_annotated_epoch':'user_sel'}\n",
    "# hist_kwargs = dict(color=\"time_bin_size\")\n",
    "hist_kwargs = dict(color=\"pre_post_delta_category\") # , histnorm='probability density'\n",
    "new_fig_ripples, figure_context = plotly_pre_post_delta_scatter(data_results_df=concatenated_ripple_df, out_scatter_fig=None, histogram_bins=histogram_bins,\n",
    "                        px_scatter_kwargs=px_scatter_kwargs, histogram_variable_name=variable_name, hist_kwargs=hist_kwargs, forced_range_y=None,\n",
    "                        time_delta_tuple=(earliest_delta_aligned_t_start, 0.0, latest_delta_aligned_t_end), is_dark_mode=is_dark_mode)\n",
    "_extras_output_dict = {}\n",
    "_extras_output_dict[\"y_mid_line\"] = new_fig_ripples.add_hline(y=0.0, line=dict(color=\"rgba(0.8,0.8,0.8,.75)\", width=2), row='all', col='all')\n",
    "new_fig_ripples.update_layout(fig_size_kwargs)\n",
    "new_fig_ripples.show()\n",
    "figure_out_paths = save_plotly(a_fig=new_fig_ripples, a_fig_context=figure_context)\n"
   ]
  },
  {
   "cell_type": "code",
   "execution_count": null,
   "metadata": {
    "tags": [
     "plotly-figure"
    ]
   },
   "outputs": [],
   "source": [
    "# variable_name = 'total_congruent_direction_change_diff'\n",
    "# variable_name = 'long_best_congruent_dir_bins_ratio'\n",
    "# variable_name = 'long_best_total_congruent_direction_change'\n",
    "variable_name = 'wcorr_diff'\n",
    "# variable_name = 'long_best_wcorr'\n",
    "# 'color':'is_user_annotated_epoch'\n",
    "# 'color': 'is_user_annotated_epoch', \n",
    "px_scatter_kwargs = {'x': 'delta_aligned_start_t', 'y': variable_name, 'color':\"is_user_annotated_epoch\", 'title': f\"'{variable_name}'\", 'labels': {'session_name': 'Session', 'time_bin_size': 'tbin_size', 'is_user_annotated_epoch':'user_sel'}} # , 'color': 'time_bin_size', 'range_y': [-1.0, 1.0], \n",
    "# hist_kwargs = dict(color=\"time_bin_size\")\n",
    "hist_kwargs = dict(color=\"is_user_annotated_epoch\") # , histnorm='probability density'\n",
    "new_fig_ripples, figure_context = plotly_pre_post_delta_scatter(data_results_df=concatenated_ripple_df, out_scatter_fig=None, histogram_bins=histogram_bins,\n",
    "                        px_scatter_kwargs=px_scatter_kwargs, histogram_variable_name=variable_name, hist_kwargs=hist_kwargs, forced_range_y=None,\n",
    "                        time_delta_tuple=(earliest_delta_aligned_t_start, 0.0, latest_delta_aligned_t_end), is_dark_mode=is_dark_mode)\n",
    "_extras_output_dict = {}\n",
    "_extras_output_dict[\"y_mid_line\"] = new_fig_ripples.add_hline(y=0.0, line=dict(color=\"rgba(0.8,0.8,0.8,.75)\", width=2), row='all', col='all')\n",
    "new_fig_ripples.update_layout(fig_size_kwargs)\n",
    "new_fig_ripples.show()\n",
    "\n",
    "figure_context = figure_context.adding_context_if_missing(num_sessions=num_sessions, plot_type='scatter+hist', comparison='pre-post-delta', variable_name=variable_name)\n",
    "figure_out_paths = save_plotly(a_fig=new_fig_ripples, a_fig_context=figure_context)\n"
   ]
  },
  {
   "cell_type": "markdown",
   "metadata": {},
   "source": [
    "## Stats Tests"
   ]
  },
  {
   "cell_type": "code",
   "execution_count": null,
   "metadata": {},
   "outputs": [],
   "source": [
    "from pyphoplacecellanalysis.Pho2D.statistics_plotting_helpers import _perform_stats_tests\n",
    "\n",
    "stats_variable_name: str = 'P_Short'\n",
    "# stats_variable_name: str = 'short_best_direction_change_bin_ratio'\n",
    "# stats_variable_name: str = 'short_best_wcorr'\n",
    "\n",
    "shuffle_results, p_value, f_value, (dof1, dof2), (variance1, variance2) = _perform_stats_tests(deepcopy(concatenated_ripple_df), stats_variable_name=stats_variable_name)\n"
   ]
  },
  {
   "cell_type": "code",
   "execution_count": null,
   "metadata": {},
   "outputs": [],
   "source": [
    "# Show that wcorr in both periods is higher than shuffles\n",
    "\n",
    "stats_variable_name: str = 'P_Short'\n",
    "stats_variable_name = 'short_best_wcorr'\n",
    "# stats_variable_name = 'long_best_wcorr'\n",
    "# stats_variable_name = 'long_best_wcorr'\n",
    "\n",
    "\n",
    "\n",
    "shuffle_results, p_value, f_value, (dof1, dof2), (variance1, variance2) = _perform_stats_tests(deepcopy(concatenated_ripple_df), stats_variable_name=stats_variable_name)\n",
    "\n",
    "\n",
    "# stats_variable_name: \"short_best_wcorr\" -- actual_diff_means: -0.00983910691641765\n",
    "# stats_variable_name: short_best_wcorr\n",
    "# Statistics=72308.00, p=0.73\n",
    "# Do not Reject Null Hypothesis (No significant difference between two samples)\n",
    "# Variance 1: 0.1395112660465373\n",
    "# Variance 2: 0.18436187114204847\n",
    "# Degree of freedom 1: 395\n",
    "# Degree of freedom 2: 359\n",
    "# F-statistic: 0.756725157877388\n",
    "# p-value: 0.003419223265796241\n",
    "\n",
    "# stats_variable_name: \"long_best_wcorr\" -- actual_diff_means: -0.0028337579937901397\n",
    "# stats_variable_name: long_best_wcorr\n",
    "# Statistics=71529.00, p=0.93\n",
    "# Do not Reject Null Hypothesis (No significant difference between two samples)\n",
    "# Variance 1: 0.1659575407149896\n",
    "# Variance 2: 0.20687539745971859\n",
    "# Degree of freedom 1: 395\n",
    "# Degree of freedom 2: 359\n",
    "# F-statistic: 0.8022101359215698\n",
    "# p-value: 0.016221081810852238"
   ]
  },
  {
   "cell_type": "code",
   "execution_count": null,
   "metadata": {},
   "outputs": [],
   "source": [
    "## User non-selected:\n",
    "scatter_title = f'user_approved_ripple_df Several Sessions {variable_name}'\n",
    "# variable_name = 'wcorr_abs_diff'\n",
    "px_scatter_kwargs = {'x': 'delta_aligned_start_t', 'y': variable_name, 'title': scatter_title, 'range_y': [0.0, 1.0], 'labels': {'session_name': 'Session', 'time_bin_size': 'tbin_size'}} # , 'color': 'time_bin_size'\n",
    "new_fig_ripples, figure_context = plotly_pre_post_delta_scatter(data_results_df=deepcopy(user_approved_ripple_df), out_scatter_fig=None, histogram_bins=histogram_bins,\n",
    "                        px_scatter_kwargs=px_scatter_kwargs, histogram_variable_name=variable_name, forced_range_y=None,\n",
    "                        time_delta_tuple=(earliest_delta_aligned_t_start, 0.0, latest_delta_aligned_t_end), is_dark_mode=is_dark_mode)\n",
    "_extras_output_dict[\"y_mid_line\"] = new_fig_ripples.add_hline(y=0.5, line=dict(color=\"rgba(0.8,0.8,0.8,.75)\", width=2), row='all', col='all')\n",
    "new_fig_ripples.update_layout(fig_size_kwargs)\n",
    "new_fig_ripples"
   ]
  },
  {
   "cell_type": "code",
   "execution_count": null,
   "metadata": {},
   "outputs": [],
   "source": [
    "# IDEA: The ones with clear replays (diagonal sequences in the decoded posteriors) are by definiition ambiguous, because there's not much difference between the long/short decoders.\n"
   ]
  },
  {
   "cell_type": "code",
   "execution_count": null,
   "metadata": {},
   "outputs": [],
   "source": [
    "## User non-selected:\n",
    "scatter_title = f'Non-selected Several Sessions {variable_name}'\n",
    "# variable_name = 'wcorr_abs_diff'\n",
    "px_scatter_kwargs = {'x': 'delta_aligned_start_t', 'y': variable_name, 'title': scatter_title, 'range_y': [0.0, 1.0], 'labels': {'session_name': 'Session', 'time_bin_size': 'tbin_size'}} # , 'color': 'time_bin_size'\n",
    "new_fig_ripples, figure_context = plotly_pre_post_delta_scatter(data_results_df=deepcopy(user_rejected_ripple_df), out_scatter_fig=None, histogram_bins=histogram_bins,\n",
    "                        px_scatter_kwargs=px_scatter_kwargs, histogram_variable_name=variable_name, forced_range_y=None,\n",
    "                        time_delta_tuple=(earliest_delta_aligned_t_start, 0.0, latest_delta_aligned_t_end))\n",
    "new_fig_ripples.update_layout(fig_size_kwargs)\n",
    "new_fig_ripples\n"
   ]
  },
  {
   "cell_type": "code",
   "execution_count": null,
   "metadata": {},
   "outputs": [],
   "source": [
    "# Laps test\n",
    "concatenated_ripple_df = deepcopy(all_sessions_MultiMeasure_laps_df)\n",
    "\n",
    "scatter_title = 'Several Sessions'\n",
    "variable_name = 'wcorr_abs_diff'\n",
    "px_scatter_kwargs = {'x': 'delta_aligned_start_t', 'y': variable_name, 'title': scatter_title, 'range_y': [0.0, 1.0], 'labels': {'session_name': 'Session', 'time_bin_size': 'tbin_size'}} \n",
    "new_fig_ripples, figure_context = plotly_pre_post_delta_scatter(data_results_df=deepcopy(concatenated_ripple_df), out_scatter_fig=None, histogram_bins=histogram_bins,\n",
    "                        px_scatter_kwargs=px_scatter_kwargs, histogram_variable_name=variable_name, forced_range_y=None,\n",
    "                        time_delta_tuple=(earliest_delta_aligned_t_start, 0.0, latest_delta_aligned_t_end))\n",
    "new_fig_ripples.update_layout(fig_size_kwargs)\n",
    "new_fig_ripples\n"
   ]
  },
  {
   "cell_type": "code",
   "execution_count": null,
   "metadata": {},
   "outputs": [],
   "source": [
    "num_unique_sessions: int = len(all_sessions_laps_df['session_name'].unique())\n",
    "num_unique_sessions\n"
   ]
  },
  {
   "cell_type": "code",
   "execution_count": null,
   "metadata": {},
   "outputs": [],
   "source": [
    "num_unique_sessions: int = len(all_sessions_ripple_df['session_name'].unique())\n",
    "num_unique_sessions"
   ]
  },
  {
   "cell_type": "markdown",
   "metadata": {},
   "source": [
    "# Plotting functions"
   ]
  },
  {
   "cell_type": "code",
   "execution_count": null,
   "metadata": {
    "tags": [
     "plotly-figure",
     "by-session"
    ]
   },
   "outputs": [],
   "source": [
    "from pyphoplacecellanalysis.General.Model.Configs.LongShortDisplayConfig import PlottingHelpers\n",
    "# from pyphoplacecellanalysis.SpecificResults.AcrossSessionResults import plot_across_sessions_scatter_results\n",
    "\n",
    "# Example usage:\n",
    "all_session_figures = plot_across_sessions_scatter_results(collected_outputs_directory, concatenated_laps_df=all_sessions_laps_df, concatenated_ripple_df=all_sessions_ripple_df,\n",
    "\t\t\t\t\t\t\t\t\t\t\t\t\t\t#    enabled_time_bin_sizes=[0.03, 0.10],\n",
    "\t\t\t\t\t\t\t\t\t\t\t\t\t\t   earliest_delta_aligned_t_start=earliest_delta_aligned_t_start, latest_delta_aligned_t_end=latest_delta_aligned_t_end,\n",
    "\t\t\t\t\t\t\t\t\t\t\t\t\t\t   laps_title_prefix=f\"Laps\", ripple_title_prefix=f\"Ripples\", save_figures=True, figure_save_extension=['.html','.png'], is_dark_mode=is_dark_mode)\n",
    "fig_laps, fig_ripples = all_session_figures[0]\n",
    "# fig_laps.update_layout(fig_size_kwargs)\n",
    "# fig_ripples.update_layout(fig_size_kwargs)\n",
    "\n",
    "# fig_laps.show()\n",
    "fig_ripples.show()\n",
    "# fig_laps.write_html(f\"../output/{TODAY_DAY_DATE}_AcrossSession_fig_laps.html\")\n",
    "# fig_ripples.write_html(f\"../output/{TODAY_DAY_DATE}_AcrossSession_fig_ripples.html\")\n"
   ]
  },
  {
   "cell_type": "code",
   "execution_count": null,
   "metadata": {},
   "outputs": [],
   "source": [
    "figure_context = figure_context.adding_context_if_missing(num_sessions=num_sessions, plot_type='scatter+hist', comparison='pre-post-delta', variable_name=variable_name)\n",
    "\n"
   ]
  },
  {
   "cell_type": "code",
   "execution_count": null,
   "metadata": {},
   "outputs": [],
   "source": [
    "fig_to_clipboard(fig_ripples)"
   ]
  },
  {
   "cell_type": "code",
   "execution_count": null,
   "metadata": {
    "tags": [
     "plotly-figure"
    ]
   },
   "outputs": [],
   "source": [
    "## time_bin version:\n",
    "all_time_bin_session_figures = plot_across_sessions_scatter_results(collected_outputs_directory, concatenated_laps_df=all_sessions_laps_time_bin_df, concatenated_ripple_df=all_sessions_ripple_time_bin_df,\n",
    "\t\t\t\t\t\t\t\t\t\t\t\t\t\t#    enabled_time_bin_sizes=[0.03, 0.10],\n",
    "\t\t\t\t\t\t\t\t\t\t\t\t\t\t   earliest_delta_aligned_t_start=earliest_delta_aligned_t_start, latest_delta_aligned_t_end=latest_delta_aligned_t_end,\n",
    "\t\t\t\t\t\t\t\t\t\t\t\t\t\t   main_plot_mode='separate_row_per_session',\n",
    "\t\t\t\t\t\t\t\t\t\t\t\t\t\t   laps_title_prefix=f\"Laps_per_time_bin\", ripple_title_prefix=f\"Ripples_per_time_bin\", save_figures=True, figure_save_extension=['.html','.png'], is_dark_mode=is_dark_mode)\n",
    "fig_time_bin_laps, fig_time_bin_ripples = all_time_bin_session_figures[0]\n",
    "# fig_time_bin_laps.show()\n",
    "fig_time_bin_ripples.show()"
   ]
  },
  {
   "cell_type": "code",
   "execution_count": null,
   "metadata": {
    "tags": [
     "plotly-figure"
    ]
   },
   "outputs": [],
   "source": [
    "from pyphoplacecellanalysis.Pho2D.plotly.Extensions.plotly_helpers import plot_across_sessions_scatter_results\n",
    "\n",
    "## Test collapsed histograms-only results:\n",
    "histograms_only_all_time_bin_session_figures = plot_across_sessions_scatter_results(collected_outputs_directory, concatenated_laps_df=all_sessions_laps_time_bin_df, concatenated_ripple_df=all_sessions_ripple_time_bin_df,\n",
    "\t\t\t\t\t\t\t\t\t\t\t\t\t\t#    enabled_time_bin_sizes=[0.03, 0.10],\n",
    "\t\t\t\t\t\t\t\t\t\t\t\t\t\t\t# enabled_time_bin_sizes=[0.03, 0.058, 0.10], # [0.03 , 0.044, 0.058, 0.072, 0.086, 0.1]\n",
    "\t\t\t\t\t\t\t\t\t\t\t\t\t\t   earliest_delta_aligned_t_start=earliest_delta_aligned_t_start, latest_delta_aligned_t_end=latest_delta_aligned_t_end,\n",
    "\t\t\t\t\t\t\t\t\t\t\t\t\t\t   main_plot_mode='default',\n",
    "\t\t\t\t\t\t\t\t\t\t\t\t\t\t   laps_title_prefix=f\"Laps_per_time_bin\", ripple_title_prefix=f\"Ripples_per_time_bin\", save_figures=False, figure_save_extension=['.html','.png'])\n",
    "histograms_only_fig_time_bin_laps, histograms_only_fig_time_bin_ripples = histograms_only_all_time_bin_session_figures[0]\n",
    "# histograms_only_fig_time_bin_laps.show()\n",
    "histograms_only_fig_time_bin_ripples.show()"
   ]
  },
  {
   "cell_type": "markdown",
   "metadata": {},
   "source": [
    "# Matplotlib-based versions:"
   ]
  },
  {
   "cell_type": "code",
   "execution_count": null,
   "metadata": {
    "tags": [
     "matplotlib-figure"
    ]
   },
   "outputs": [],
   "source": [
    "from pyphoplacecellanalysis.Pho2D.statistics_plotting_helpers import plot_histograms_across_sessions, plot_stacked_histograms\n",
    "\n",
    "matplotlib.use('Qt5Agg')\n"
   ]
  },
  {
   "cell_type": "code",
   "execution_count": null,
   "metadata": {},
   "outputs": [],
   "source": [
    "# from Spike3D.PendingNotebookCode import plot_stacked_histograms\n",
    "\n",
    "# You can use it like this:'long_best_dir_simple_pearsonr'\n",
    "_out0: \"MatplotlibRenderPlots\" = plot_histograms_across_sessions(data_type='Laps', session_spec='All Sessions', data_results_df=all_sessions_laps_time_bin_df, time_bin_duration_str=\"75 ms\")\n",
    "_out1: \"MatplotlibRenderPlots\" = plot_histograms_across_sessions(data_type='Ripples', session_spec='All Sessions', data_results_df=all_sessions_ripple_time_bin_df, time_bin_duration_str=\"75 ms\")"
   ]
  },
  {
   "cell_type": "code",
   "execution_count": null,
   "metadata": {},
   "outputs": [],
   "source": [
    "\n",
    "\n",
    "fig_to_clipboard(_out0.figures[0])"
   ]
  },
  {
   "cell_type": "code",
   "execution_count": null,
   "metadata": {},
   "outputs": [],
   "source": [
    "## all_sessions_new_laps_df, all_sessions_new_ripple_df\n",
    "_out0: \"MatplotlibRenderPlots\" = plot_histograms_across_sessions(data_type='New Laps', session_spec='All Sessions', data_results_df=all_sessions_new_laps_df, time_bin_duration_str=\"25 ms\")\n",
    "_out1: \"MatplotlibRenderPlots\" = plot_histograms_across_sessions(data_type='New Ripples', session_spec='All Sessions', data_results_df=all_sessions_new_ripple_df, time_bin_duration_str=\"25 ms\")\n",
    "\n"
   ]
  },
  {
   "attachments": {
    "image.png": {
     "image/png": "[encoded data removed]"
    }
   },
   "cell_type": "markdown",
   "metadata": {},
   "source": [
    "## 2024-09-27 - Really goood Matplotlib plotting code\n",
    "![image.png](attachment:image.png)"
   ]
  },
  {
   "cell_type": "code",
   "execution_count": null,
   "metadata": {
    "tags": [
     "run_main",
     "matplotlib-figure"
    ]
   },
   "outputs": [],
   "source": [
    "\n",
    "@function_attributes(short_name=None, tags=['matplotlib', 'good', 'stacked-hist', 'ACTIVE'], input_requires=[], output_provides=[], uses=[], used_by=[], creation_date='2024-10-23 18:51', related_items=[])\n",
    "def _perform_dual_hist_plot(grainularity_desc: str, laps_df: pd.DataFrame, ripple_df: pd.DataFrame):\n",
    "    \"\"\" plots the stacked histograms for both laps and ripples\n",
    "    \"\"\"\n",
    "    variable_name: str = 'P_Short'\n",
    "    y_baseline_level: float = 0.5 # for P(short), etc\n",
    "    y_ylims = (0, 1)\n",
    "\n",
    "    # y_baseline_level: float = 0.0 # for wcorr, etc\n",
    "    # y_ylims = (-1, 1)\n",
    "\n",
    "    if is_dark_mode:\n",
    "        baseline_kwargs = dict(color=(0.8,0.8,0.8,.75), linewidth=2)\n",
    "    else:\n",
    "        baseline_kwargs = dict(color=(0.2,0.2,0.2,.75), linewidth=2)\n",
    "        \n",
    "    def _update_stacked_hist_post_plot(histogram_out):\n",
    "        \"\"\" captures: y_baseline_level, y_ylims \"\"\"\n",
    "        for k, ax in histogram_out.axes.items():\n",
    "            _tmp_line = ax.axhline(y_baseline_level, **baseline_kwargs) # draw baseline line (horizontally)\n",
    "            ax.set_ylim(*y_ylims)\n",
    "            \n",
    "    common_stacked_hist_kwargs = dict(figsize=(12, 3), column_name=variable_name)\n",
    "\n",
    "    # You can use it like this:\n",
    "    num_unique_sessions: int = laps_df.session_name.nunique(dropna=True) # number of unique sessions, ignoring the NA entries\n",
    "    num_unique_time_bins: int = laps_df.time_bin_size.nunique(dropna=True)\n",
    "    _laps_histogram_out = plot_stacked_histograms(laps_df, f'Laps ({grainularity_desc})', f'{num_unique_sessions} Sessions', f\"{num_unique_time_bins} tbin sizes\", **common_stacked_hist_kwargs)\n",
    "    _update_stacked_hist_post_plot(_laps_histogram_out)\n",
    "    # fig_to_clipboard(_laps_histogram_out.figures[0], bbox_inches='tight')\n",
    "\n",
    "    num_unique_sessions: int = ripple_df.session_name.nunique(dropna=True) # number of unique sessions, ignoring the NA entries\n",
    "    num_unique_time_bins: int = ripple_df.time_bin_size.nunique(dropna=True)\n",
    "    _ripple_histogram_out = plot_stacked_histograms(ripple_df, f'PBEs ({grainularity_desc})', f'{num_unique_sessions} Sessions', f\"{num_unique_time_bins} tbin sizes\", **common_stacked_hist_kwargs)\n",
    "    _update_stacked_hist_post_plot(_ripple_histogram_out)\n",
    "    # fig_to_clipboard(_ripple_histogram_out.figures[0], bbox_inches='tight')\n",
    "\n",
    "    return _laps_histogram_out, _ripple_histogram_out\n",
    "\n",
    "\n",
    "matplotlib.use('Qt5Agg')\n",
    "# grainularity_desc: str = 'by-time-bin'\n",
    "# laps_df: pd.DataFrame = all_sessions_laps_time_bin_df\n",
    "# ripple_df: pd.DataFrame = all_sessions_ripple_time_bin_df\n",
    "_laps_histogram_out, _ripple_histogram_out = _perform_dual_hist_plot(grainularity_desc='by-time-bin', laps_df=all_sessions_laps_time_bin_df, ripple_df=all_sessions_ripple_time_bin_df)\n",
    "# display(_laps_histogram_out)\n",
    "# display(_ripple_histogram_out)\n",
    "fig_to_clipboard(_laps_histogram_out.figures[0], bbox_inches='tight')\n"
   ]
  },
  {
   "cell_type": "code",
   "execution_count": null,
   "metadata": {},
   "outputs": [],
   "source": [
    "fig_to_clipboard(_ripple_histogram_out.figures[0], bbox_inches='tight')"
   ]
  },
  {
   "cell_type": "code",
   "execution_count": null,
   "metadata": {
    "tags": [
     "matplotlib-figure"
    ]
   },
   "outputs": [],
   "source": [
    "# grainularity_desc: str = 'by-epoch'\n",
    "# laps_df: pd.DataFrame = all_sessions_laps_df\n",
    "# ripple_df: pd.DataFrame = all_sessions_ripple_df\n",
    "_laps_histogram_out, _ripple_histogram_out = _perform_dual_hist_plot(grainularity_desc='by-epoch', laps_df=all_sessions_laps_df, ripple_df=all_sessions_ripple_df)\n",
    "fig_to_clipboard(_laps_histogram_out.figures[0], bbox_inches='tight')"
   ]
  },
  {
   "cell_type": "code",
   "execution_count": null,
   "metadata": {},
   "outputs": [],
   "source": [
    "fig_to_clipboard(_ripple_histogram_out.figures[0], bbox_inches='tight')"
   ]
  },
  {
   "cell_type": "code",
   "execution_count": null,
   "metadata": {},
   "outputs": [],
   "source": []
  },
  {
   "cell_type": "code",
   "execution_count": null,
   "metadata": {},
   "outputs": [],
   "source": [
    "all_sessions_ripple_time_bin_df['time_bin_size'].unique()"
   ]
  },
  {
   "cell_type": "markdown",
   "metadata": {},
   "source": [
    "# Maintanence"
   ]
  },
  {
   "cell_type": "code",
   "execution_count": null,
   "metadata": {},
   "outputs": [],
   "source": [
    "from neuropy.core.session.Formats.Specific.KDibaOldDataSessionFormat import KDibaOldDataSessionFormatRegisteredClass\n",
    "\n",
    "all_session_experiment_experience_csv_path = Path(\"./EXTERNAL/sessions_experiment_datetime_df.csv\").resolve()\n",
    "Assert.path_exists(all_session_experiment_experience_csv_path)\n",
    "all_session_experiment_experience_df: pd.DataFrame = pd.read_csv(all_session_experiment_experience_csv_path) # , index_col=''\n",
    "all_session_experiment_experience_df\n"
   ]
  },
  {
   "cell_type": "code",
   "execution_count": null,
   "metadata": {},
   "outputs": [],
   "source": [
    "all_session_experiment_experience_df = KDibaOldDataSessionFormatRegisteredClass._add_session_good_bad_annotation_status(all_session_experiment_experience_df=all_session_experiment_experience_df)\n",
    "all_session_experiment_experience_df\n",
    "\n",
    "## save it back to file\n",
    "all_session_experiment_experience_df.to_csv(all_session_experiment_experience_csv_path, index=False)"
   ]
  }
 ],
 "metadata": {
  "kernelspec": {
   "display_name": "Python 3 (ipykernel)",
   "language": "python",
   "name": "python3"
  },
  "language_info": {
   "codemirror_mode": {
    "name": "ipython",
    "version": 3
   },
   "file_extension": ".py",
   "mimetype": "text/x-python",
   "name": "python",
   "nbconvert_exporter": "python",
   "pygments_lexer": "ipython3",
   "version": "3.9.12"
  }
 },
 "nbformat": 4,
 "nbformat_minor": 2
}
