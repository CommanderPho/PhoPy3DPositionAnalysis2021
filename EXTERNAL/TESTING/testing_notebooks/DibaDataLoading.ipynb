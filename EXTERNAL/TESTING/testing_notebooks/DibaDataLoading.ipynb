{
 "cells": [
  {
   "cell_type": "code",
   "execution_count": 1,
   "id": "ed89add9-df17-4537-86bd-efdfeede07f5",
   "metadata": {},
   "outputs": [
    {
     "name": "stderr",
     "output_type": "stream",
     "text": [
      "C:\\Users\\pho\\miniconda3\\envs\\phoviz_ultimate\\lib\\site-packages\\requests\\__init__.py:102: RequestsDependencyWarning: urllib3 (1.26.8) or chardet (5.0.0)/charset_normalizer (2.0.12) doesn't match a supported version!\n",
      "  warnings.warn(\"urllib3 ({}) or chardet ({})/charset_normalizer ({}) doesn't match a supported \"\n"
     ]
    }
   ],
   "source": [
    "\"\"\"\n",
    "@author: pho\n",
    "\"\"\"\n",
    "## Data must be pre-processed using the MATLAB script located here: \n",
    "# C:\\Users\\pho\\repos\\PhoDibaLab_REM_HiddenMarkovModel\\DEVELOPMENT\\NeuroPyExporting2022\\PhoNeuroPyConvert_ExportAllToPython_MAIN.m\n",
    "\n",
    "%load_ext autoreload\n",
    "%autoreload 2\n",
    "%config Completer.use_jedi = False\n",
    "import sys\n",
    "import importlib\n",
    "import numpy as np\n",
    "import pandas as pd\n",
    "from pathlib import Path\n",
    "import h5py\n",
    "import hdf5storage # conda install hdf5storage\n",
    "# NeuroPy (Diba Lab Python Repo) Loading\n",
    "# from neuropy import core\n",
    "from neuropy.utils.dynamic_container import DynamicContainer\n",
    "from neuropy.core.session.Formats.BaseDataSessionFormats import DataSessionFormatBaseRegisteredClass\n",
    "from neuropy.core.session.Formats.Specific.HiroDataSessionFormat import HiroDataSessionFormatRegisteredClass\n",
    "from neuropy.core import DataWriter, NeuronType, Neurons, BinnedSpiketrain, Mua, ProbeGroup, Position, Epoch, Signal, Laps, FlattenedSpiketrains\n",
    "from neuropy.core.session.dataSession import DataSession\n",
    "\n",
    "from neuropy.core.session.data_session_loader import DataSessionLoader\n",
    "from neuropy.core.session.dataSession import DataSession\n",
    "from neuropy.analyses.placefields import PlacefieldComputationParameters\n",
    "\n",
    "from neuropy.core.laps import Laps  # Used for adding laps in KDiba mode\n",
    "from neuropy.utils.efficient_interval_search import get_non_overlapping_epochs, drop_overlapping # Used for adding laps in KDiba mode\n",
    "\n",
    "from neuropy.core.epoch import NamedTimerange\n",
    "\n",
    "from neuropy.core.session.Formats.BaseDataSessionFormats import DataSessionFormatRegistryHolder, DataSessionFormatBaseRegisteredClass\n",
    "from neuropy.core.session.Formats.Specific.BapunDataSessionFormat import BapunDataSessionFormatRegisteredClass\n",
    "from neuropy.core.session.Formats.Specific.KDibaOldDataSessionFormat import KDibaOldDataSessionFormatRegisteredClass\n",
    "from neuropy.core.session.Formats.Specific.RachelDataSessionFormat import RachelDataSessionFormat\n",
    "from neuropy.core.session.Formats.Specific.HiroDataSessionFormat import HiroDataSessionFormatRegisteredClass\n",
    "\n",
    "\n",
    "# pyPhoPlaceCellAnalysis:\n",
    "from pyphoplacecellanalysis.General.Pipeline.NeuropyPipeline import NeuropyPipeline # get_neuron_identities\n",
    "# from pyphoplacecellanalysis.General.SessionSelectionAndFiltering import batch_filter_session, build_custom_epochs_filters\n",
    "from neuropy.core.session.KnownDataSessionTypeProperties import KnownDataSessionTypeProperties\n",
    "\n",
    "from pyphoplacecellanalysis.General.Pipeline.Stages.ComputationFunctions.ComputationFunctionRegistryHolder import ComputationFunctionRegistryHolder\n",
    "from pyphoplacecellanalysis.General.Pipeline.Stages.DisplayFunctions.DisplayFunctionRegistryHolder import DisplayFunctionRegistryHolder\n",
    "\n",
    "\n",
    "## Plotting Helpers:\n",
    "from pyphoplacecellanalysis.GUI.PyQtPlot.pyqtplot_Matrix import MatrixRenderingWindow\n",
    "from pyphoplacecellanalysis.GUI.PyQtPlot.BinnedImageRenderingWindow import BasicBinnedImageRenderingWindow\n",
    "from pyphoplacecellanalysis.Pho2D.PyQtPlots.plot_placefields import pyqtplot_plot_image_array, pyqtplot_plot_image\n",
    "\n",
    "known_data_session_type_properties_dict = DataSessionFormatRegistryHolder.get_registry_known_data_session_type_dict()\n",
    "active_data_session_types_registered_classes_dict = DataSessionFormatRegistryHolder.get_registry_data_session_type_class_name_dict()\n",
    "# DataSessionFormatRegistryHolder.get_regi\n",
    "\n",
    "\n",
    "\n",
    "from pyphocorehelpers.print_helpers import print_keys_if_possible, debug_dump_object_member_shapes\n",
    "# # import PhoPositionalData as pdp\n",
    "# # from pyphoplacecellanalysis.PhoPositionalData. import load_exported, process_data\n",
    "# from pyphoplacecellanalysis.PhoPositionalData.load_exported import *\n",
    "# # from pyphoplacecellanalysis.PhoPositionalData.process_data import process_positionalAnalysis_data, gen_2d_histrogram, get_heatmap_color_vectors, process_chunk_equal_poritions_data, extract_spike_timeseries\n",
    "# from pyphoplacecellanalysis.PhoPositionalData.process_data import *\n",
    "# from pyphoplacecellanalysis.PhoPositionalData.plot_data import *\n",
    "# from pyphoplacecellanalysis.PhoPositionalData.import_data import *\n",
    "# from pyphoplacecellanalysis.PhoPositionalData.load_exported import import_mat_file\n",
    "# from pyphoplacecellanalysis.PhoPositionalData.process_data import process_positionalAnalysis_data, gen_2d_histrogram, get_heatmap_color_vectors, process_chunk_equal_poritions_data, extract_spike_timeseries\n",
    "# from pyphoplacecellanalysis.PhoPositionalData.process_data import process_positionalAnalysis_data, extract_spike_timeseries"
   ]
  },
  {
   "cell_type": "code",
   "execution_count": null,
   "id": "4d2fc9c1-1492-426b-a465-9d78d4b21a0c",
   "metadata": {},
   "outputs": [],
   "source": [
    "## Drastically improve Python Tracebacks on exceptions:\n",
    "# from rich.traceback import install\n",
    "# install()\n",
    "\n",
    "## Automatic debugger on exception raised\n",
    "# %pdb on"
   ]
  },
  {
   "cell_type": "code",
   "execution_count": 2,
   "id": "e1ddc233-5f3a-46e7-803b-6177e8312c31",
   "metadata": {},
   "outputs": [],
   "source": [
    "# RoyMaze1:\n",
    "# mat_import_parent_path = Path(r'R:\\data\\RoyMaze1')\n",
    "mat_import_parent_path = Path(r'W:\\Data\\KDIBA\\gor01\\one\\Spike3D-Minimal-Test\\2006-6-07_11-26-53')\n",
    "# mat_import_parent_path = Path(r'R:\\rMBP Python Repos 2022-07-07\\PhoNeuronGillespie2021CodeRepo\\PhoMatlabDataScripting\\ExportedData\\RoyMaze2')\n",
    "# mat_import_parent_path = Path(r'C:\\Share\\data\\RoyMaze1') # Old one\n",
    "# mat_import_file = r'C:\\Share\\data\\RoyMaze1\\ExportedData.mat'"
   ]
  },
  {
   "cell_type": "code",
   "execution_count": 3,
   "id": "efaf8954-ddd7-4e6b-a200-3dec5a2dbb66",
   "metadata": {},
   "outputs": [
    {
     "name": "stdout",
     "output_type": "stream",
     "text": [
      "finalized_loaded_sess_pickle_path: W:\\Data\\KDIBA\\gor01\\one\\Spike3D-Minimal-Test\\2006-6-07_11-26-53\\loadedSessPickle.pkl\n",
      "Loading saved session pickle file results to W:\\Data\\KDIBA\\gor01\\one\\Spike3D-Minimal-Test\\2006-6-07_11-26-53\\loadedSessPickle.pkl... done.\n",
      "Loading pickled pipeline success: W:\\Data\\KDIBA\\gor01\\one\\Spike3D-Minimal-Test\\2006-6-07_11-26-53\\loadedSessPickle.pkl.\n",
      "property already present in pickled version. No need to save.\n",
      "Performing evaluate_single_computation_params on filtered_session with filter named \"maze_PYR\"...\n",
      "WARNING: skipping computation because overwrite_extant_results=False and self.computation_results[maze_PYR] already exists and is non-None\n",
      "\t TODO: this will prevent recomputation even when the blacklist/whitelist or computation function definitions change. Rework so that this is smarter.\n"
     ]
    }
   ],
   "source": [
    "active_data_mode_name = 'kdiba'\n",
    "active_data_mode_registered_class = active_data_session_types_registered_classes_dict[active_data_mode_name]\n",
    "active_data_mode_type_properties = known_data_session_type_properties_dict[active_data_mode_name]\n",
    "basedir = mat_import_parent_path # Apogee Windows (W: Wiser)\n",
    "\n",
    "curr_active_pipeline = NeuropyPipeline.try_init_from_saved_pickle_or_reload_if_needed(active_data_mode_name, active_data_mode_type_properties, override_basepath=Path(basedir), override_post_load_functions=[], force_reload=False)\n",
    "# active_session_filter_configurations = active_data_mode_registered_class.build_default_filter_functions(sess=curr_active_pipeline.sess) # build_filters_pyramidal_epochs(sess=curr_kdiba_pipeline.sess)\n",
    "# active_session_filter_configurations = active_data_mode_registered_class.build_filters_pyramidal_epochs(sess=curr_active_pipeline.sess, epoch_name_whitelist=['maze1','maze2','maze'])\n",
    "active_session_filter_configurations = active_data_mode_registered_class.build_filters_pyramidal_epochs(sess=curr_active_pipeline.sess, epoch_name_whitelist=['maze'])\n",
    "# active_session_filter_configurations = active_data_mode_registered_class.build_filters_pyramidal_epochs(sess=curr_active_pipeline.sess, epoch_name_whitelist=['maze2'])\n",
    "\n",
    "# sess.epochs.t_start = 22.26 # exclude the first short period where the animal isn't on the maze yet\n",
    "# active_session_filter_configurations = {'maze1': lambda x: (x.filtered_by_neuron_type('pyramidal').filtered_by_epoch(x.epochs.get_named_timerange('maze1')), x.epochs.get_named_timerange('maze1')),\n",
    "# 'maze2': lambda x: (x.filtered_by_neuron_type('pyramidal').filtered_by_epoch(x.epochs.get_named_timerange('maze2')), x.epochs.get_named_timerange('maze2')),\n",
    "# 'maze': lambda x: (x.filtered_by_neuron_type('pyramidal').filtered_by_epoch(NamedTimerange(name='maze', start_end_times=[x.epochs['maze1'][0], x.epochs['maze2'][1]])), NamedTimerange(name='maze', start_end_times=[x.epochs['maze1'][0], x.epochs['maze2'][1]]))\n",
    "#                 }\n",
    "\n",
    "active_session_computation_configs = active_data_mode_registered_class.build_default_computation_configs(sess=curr_active_pipeline.sess)\n",
    "# active_session_computation_configs[0].pf_params.smooth = (0.0, 0.0)\n",
    "# active_session_computation_configs = build_eloy_computation_configs(sess=curr_active_pipeline.sess)\n",
    "curr_active_pipeline.filter_sessions(active_session_filter_configurations)\n",
    "# curr_active_pipeline.perform_computations(active_session_computation_configs[0], computation_functions_name_whitelist=['_perform_baseline_placefield_computation', '_perform_time_dependent_placefield_computation', \n",
    "#                                                                                                                        '_perform_position_decoding_computation', '_perform_two_step_position_decoding_computation'], fail_on_exception=True, debug_print=False) # '_perform_pf_find_ratemap_peaks_peak_prominence2d_computation'\n",
    "curr_active_pipeline.perform_computations(active_session_computation_configs[0], computation_functions_name_blacklist=['_perform_spike_burst_detection_computation'], debug_print=False, fail_on_exception=False) # whitelist: ['_perform_baseline_placefield_computation']\n",
    "curr_active_pipeline.prepare_for_display(root_output_dir=r'W:\\Data\\Output', should_smooth_maze=True) # TODO: pass a display config"
   ]
  },
  {
   "cell_type": "code",
   "execution_count": null,
   "id": "c8e531a7-219d-469f-93e9-f719e5dcd86e",
   "metadata": {},
   "outputs": [],
   "source": [
    "session.epochs"
   ]
  },
  {
   "cell_type": "code",
   "execution_count": null,
   "id": "895c1836-6734-4deb-ad8e-7b955f6cc69e",
   "metadata": {},
   "outputs": [],
   "source": [
    "session.position"
   ]
  },
  {
   "cell_type": "code",
   "execution_count": null,
   "id": "a1f4d3e5-279b-4e1e-a1b5-21358943a487",
   "metadata": {},
   "outputs": [],
   "source": [
    "session.epochs.labels"
   ]
  },
  {
   "cell_type": "code",
   "execution_count": null,
   "id": "2160e5d5-0da1-4aa3-a69e-d704f3698c6a",
   "metadata": {},
   "outputs": [],
   "source": [
    "curr_active_pipeline.save_pipeline(active_pickle_filename='loadedSessPickle.pkl')"
   ]
  },
  {
   "cell_type": "code",
   "execution_count": null,
   "id": "cd99344b-ffc6-4677-af94-3f2e11ae86dc",
   "metadata": {},
   "outputs": [],
   "source": [
    "# Common Extended properties:\n",
    "session = HiroDataSessionFormatRegisteredClass._default_extended_postload(session.filePrefix, session)\n",
    "session"
   ]
  },
  {
   "cell_type": "code",
   "execution_count": null,
   "id": "2f4f63f3-f699-48d9-8fc1-a8cc9e3a5aae",
   "metadata": {},
   "outputs": [],
   "source": [
    "active_file_suffix = '.flattened.spikes.npy'\n",
    "active_file_suffix = '.flattened.spikes.npy'\n",
    "found_datafile = session.filePrefix.with_suffix(active_file_suffix)\n",
    "print(f'found_datafile: {str(found_datafile)} -- exists? {found_datafile.exists()}')\n",
    "\n",
    "# if found_datafile is not None:\n",
    "#     print('Loading success: {}.'.format(active_file_suffix))\n",
    "#     session.flattened_spiketrains = found_datafile\n",
    "# else:\n",
    "#     # Otherwise load failed, perform the fallback computation\n",
    "#     print('Failure loading {}. Must recompute.\\n'.format(active_file_suffix))"
   ]
  },
  {
   "cell_type": "code",
   "execution_count": null,
   "id": "b23f0011-0e99-4a1e-b551-f05585212514",
   "metadata": {},
   "outputs": [],
   "source": [
    "# Load or compute linear positions if needed:\n",
    "session = HiroDataSessionFormatRegisteredClass._default_compute_linear_position_if_needed(session)\n",
    "# debug_print = True\n",
    "# # compute linear positions:\n",
    "# print('Computing linear positions for all active epochs for session...', end=' ')\n",
    "# # end result will be session.computed_traces of the same length as session.traces in terms of frames, with all non-maze times holding NaN values\n",
    "# session.position.linear_pos = np.full_like(session.position.time, np.nan)\n",
    "# for anEpochLabelName in session.epochs.labels:\n",
    "#     if anEpochLabelName in ['track']:\n",
    "#         curr_active_epoch_timeslice_indicies, active_positions_maze1, linearized_positions_maze1 = DataSession.compute_linearized_position(session, epochLabelName=anEpochLabelName, method='pca')\n",
    "#         # session.position.linear_pos[curr_active_epoch_timeslice_indicies] = linearized_positions_maze1.traces\n",
    "#         if debug_print:\n",
    "#             print('\\t curr_active_epoch_timeslice_indicies: {}\\n \\t np.shape(curr_active_epoch_timeslice_indicies): {}'.format(curr_active_epoch_timeslice_indicies, np.shape(curr_active_epoch_timeslice_indicies)))\n",
    "\n",
    "#         session.position._data.loc[curr_active_epoch_timeslice_indicies, 'lin_pos'] = linearized_positions_maze1.x\n",
    "#     else:\n",
    "#         if debug_print:\n",
    "#             print(f'\\t skipping non-maze epoch \"{anEpochLabelName}\"')"
   ]
  },
  {
   "cell_type": "code",
   "execution_count": null,
   "id": "64344a39-f98e-45c7-ac06-103d27bc501a",
   "metadata": {},
   "outputs": [],
   "source": [
    "session.position"
   ]
  },
  {
   "cell_type": "markdown",
   "id": "79733986-d330-4f0a-84bd-c9ce89150154",
   "metadata": {
    "tags": []
   },
   "source": [
    "## Previous Notebook Session-loading implementation before refactoring into HiroDataSessionFormat.py"
   ]
  },
  {
   "cell_type": "code",
   "execution_count": null,
   "id": "18cef7e2-039b-4717-898e-6b490544f606",
   "metadata": {},
   "outputs": [],
   "source": [
    "session = HiroDataSessionFormatRegisteredClass.build_session(basedir=mat_import_parent_path)\n",
    "session"
   ]
  },
  {
   "cell_type": "code",
   "execution_count": null,
   "id": "063fa0cc-e9f0-47dc-be23-ed389eb98b7d",
   "metadata": {},
   "outputs": [],
   "source": [
    "session, loaded_file_record_list = DataSessionFormatBaseRegisteredClass.load_session(session, debug_print=True) # call the super class load_session(...) to load the common things (.recinfo, .filePrefix, .eegfile, .datfile)"
   ]
  },
  {
   "cell_type": "code",
   "execution_count": null,
   "id": "a76d063e-cf61-4369-ae7d-b6c0b7f76885",
   "metadata": {},
   "outputs": [],
   "source": [
    "# all_vars = load_position_spikes_extras_mats(parent_path=mat_import_parent_path)\n",
    "all_vars = HiroDataSessionFormatRegisteredClass._load_all_mats(parent_path=mat_import_parent_path)\n",
    "# all_vars"
   ]
  },
  {
   "cell_type": "code",
   "execution_count": null,
   "id": "3f291d11-8bb6-4e4c-8c3e-7bd56165c1dd",
   "metadata": {},
   "outputs": [],
   "source": [
    "# all_vars.extras\n",
    "# print_keys_if_possible('pos', all_vars.pos)\n",
    "print_keys_if_possible('extras', all_vars.extras)\n",
    "# print_keys_if_possible('all_vars', all_vars)\n",
    "# debug_dump_object_member_shapes(all_vars)"
   ]
  },
  {
   "cell_type": "code",
   "execution_count": null,
   "id": "ae80d5c0-3d7a-4b9b-b9cc-29c3a41007d6",
   "metadata": {},
   "outputs": [],
   "source": [
    "type(all_vars.extras.behavioral_epochs) # pandas.core.frame.DataFrame\n",
    "print(list(all_vars.extras.behavioral_epochs.columns)) # ['epoch_index', 'start_seconds_absolute', 'end_seconds_absolute', 'start_seconds', 'end_seconds', 'duration']\n",
    "all_vars.extras.behavioral_epochs"
   ]
  },
  {
   "cell_type": "code",
   "execution_count": null,
   "id": "f198a781-2fac-4e06-a9b4-85e8b4d1cc11",
   "metadata": {},
   "outputs": [],
   "source": [
    "## Adds Session.paradigm (Epochs)\n",
    "session_absolute_start_timestamp = all_vars.extras.behavioral_epochs.loc[0, 'start_seconds_absolute'] # 68368.714228\n",
    "session.config.absolute_start_timestamp = session_absolute_start_timestamp\n",
    "# 'start_seconds' and 'end_seconds' are relative to start\n",
    "if 'label' in all_vars.extras.behavioral_epochs.columns:\n",
    "    epoch_labels = all_vars.extras.behavioral_epochs['label']\n",
    "else:\n",
    "    num_rows = all_vars.extras.behavioral_epochs.shape[0]\n",
    "    epoch_labels = [f'epoch{i}' for i in np.arange(num_rows)]\n",
    "epochs_df = pd.DataFrame({'label':epoch_labels, 'start':all_vars.extras.behavioral_epochs['start_seconds'].to_numpy(),'stop':all_vars.extras.behavioral_epochs['end_seconds'].to_numpy()})\n",
    "session.paradigm = Epoch(epochs=epochs_df)\n",
    "session.paradigm"
   ]
  },
  {
   "cell_type": "code",
   "execution_count": null,
   "id": "1e5f826f-2f84-4bfc-afa4-a47ce11c3423",
   "metadata": {},
   "outputs": [],
   "source": [
    "## Adds Positions:\n",
    "position_sampling_rate_Hz = 1.0 / np.nanmean(np.diff(all_vars.pos.t)) # 1.0/0.03336651239320582 = 29.97016853950917 Hz\n",
    "session.config.position_sampling_rate_Hz = position_sampling_rate_Hz\n",
    "# session.position = Position(traces=np.vstack((x, y)), computed_traces=np.full([1, num_samples], np.nan), t_start=active_t_start, sampling_rate=position_sampling_rate_Hz)\n",
    "t_rel = all_vars.pos.t\n",
    "x = all_vars.pos.x\n",
    "y = all_vars.pos.y\n",
    "session.position = Position.from_separate_arrays(t_rel, x, y)\n",
    "session.position"
   ]
  },
  {
   "cell_type": "code",
   "execution_count": null,
   "id": "eb11e244-79ac-4fad-b310-b633cb5e8c0e",
   "metadata": {},
   "outputs": [],
   "source": [
    "## Adds Spikes:\n",
    "print(list(all_vars.spikes.keys())) # ['spike_matrix', 'spike_cells', 'num_cells', 'spike_list', 'spike_positions_list', 'flat_cell_ids', 'reverse_cellID_idx_lookup_map', 'spikes_cell_info_out_dict']"
   ]
  },
  {
   "cell_type": "code",
   "execution_count": null,
   "id": "06a5f516-ff48-4e9c-ab94-14017304d970",
   "metadata": {},
   "outputs": [],
   "source": [
    "all_vars.spikes.spike_list[0].shape # (293076,)\n",
    "all_vars.spikes.spike_list[1].shape # (9297,)\n",
    "\n",
    "# len(all_vars.spikes.spike_list) # 126"
   ]
  },
  {
   "cell_type": "code",
   "execution_count": null,
   "id": "df7da513-e894-4d82-8b20-e6a69539cfe4",
   "metadata": {},
   "outputs": [],
   "source": [
    "session.paradigm.t_stop"
   ]
  },
  {
   "cell_type": "code",
   "execution_count": null,
   "id": "812e7e55-cf4e-4959-af66-803d7d008875",
   "metadata": {},
   "outputs": [],
   "source": [
    "# all_vars.spikes\n",
    "# 'spike_cells'\n",
    "all_vars.spikes.spikes_cell_info_out_dict"
   ]
  },
  {
   "cell_type": "code",
   "execution_count": null,
   "id": "a3e0a78c-32f9-4b50-ac9a-0c8f04e3f97c",
   "metadata": {},
   "outputs": [],
   "source": [
    "flat_cell_ids = all_vars.spikes.spikes_cell_info_out_dict.aclu\n",
    "cell_type = NeuronType.from_qclu_series(qclu_Series=all_vars.spikes.spikes_cell_info_out_dict.qclu)\n",
    "shank_ids = all_vars.spikes.spikes_cell_info_out_dict.shank\n",
    "# cluster_ids = all_vars.spikes.spikes_cell_info_out_dict.cluster # NOT USED"
   ]
  },
  {
   "cell_type": "code",
   "execution_count": null,
   "id": "9cccd941-2fda-4183-a1f4-34037302993a",
   "metadata": {},
   "outputs": [],
   "source": [
    "spiketrains = np.array(all_vars.spikes.spike_list, dtype='object')\n",
    "# t_stop = np.max(flat_spikes_out_dict[time_variable_name])\n",
    "t_stop = session.paradigm.t_stop\n",
    "flat_cell_ids = np.array(flat_cell_ids)\n",
    "# all_vars.spikes.spikes_cell_info_out_dict.speculated_unit_type\n",
    "\n",
    "dat_sampling_rate = 30000.0\n",
    "lfpSampleRate = 1250.0\n",
    "posSampleRate = 29.9700\n",
    "\n",
    "session.neurons = Neurons(spiketrains, t_stop, t_start=0,\n",
    "    sampling_rate=dat_sampling_rate, # session.recinfo.dat_sampling_rate\n",
    "    neuron_ids=flat_cell_ids,\n",
    "    neuron_type=cell_type,\n",
    "    shank_ids=shank_ids\n",
    ")\n",
    "session.neurons\n",
    "\n",
    "# Neurons\n",
    "#  n_neurons: 126\n",
    "#  n_total_spikes: 11214527\n",
    "#  t_start: 0\n",
    "#  t_stop: 35351.059333\n",
    "\n",
    "# 'num_cells': 86, 'spike_list', 'reverse_cellID_idx_lookup_map'"
   ]
  },
  {
   "cell_type": "code",
   "execution_count": null,
   "id": "039da3ac-0a1f-457a-aefd-197524ebeb2c",
   "metadata": {},
   "outputs": [],
   "source": [
    "## IDEA: Define a series of fallback options for each variable using the command chain pattern."
   ]
  }
 ],
 "metadata": {
  "kernelspec": {
   "display_name": "Python [conda env:phoviz_ultimate]",
   "language": "python",
   "name": "conda-env-phoviz_ultimate-py"
  },
  "language_info": {
   "codemirror_mode": {
    "name": "ipython",
    "version": 3
   },
   "file_extension": ".py",
   "mimetype": "text/x-python",
   "name": "python",
   "nbconvert_exporter": "python",
   "pygments_lexer": "ipython3",
   "version": "3.9.13"
  }
 },
 "nbformat": 4,
 "nbformat_minor": 5
}
