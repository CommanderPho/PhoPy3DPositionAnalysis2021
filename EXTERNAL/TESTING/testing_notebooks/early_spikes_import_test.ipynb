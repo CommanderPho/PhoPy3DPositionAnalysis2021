{
 "cells": [
  {
   "cell_type": "code",
   "execution_count": 1,
   "id": "2cd57b89-63d5-4865-a861-2ca06b3cc891",
   "metadata": {},
   "outputs": [],
   "source": [
    "#!/usr/bin/env python3\n",
    "# -*- coding: utf-8 -*-\n",
    "\"\"\"\n",
    "@author: pho\n",
    "\"\"\"\n",
    "import sys\n",
    "from pyphoplacecellanalysis.PhoPositionalData.load_exported import *\n",
    "# from pyphoplacecellanalysis.PhoPositionalData.process_data import process_positionalAnalysis_data, gen_2d_histrogram, get_heatmap_color_vectors, process_chunk_equal_poritions_data, extract_spike_timeseries\n",
    "from pyphoplacecellanalysis.PhoPositionalData.process_data import *\n",
    "from pyphoplacecellanalysis.PhoPositionalData.plot_data import *"
   ]
  },
  {
   "cell_type": "code",
   "execution_count": 2,
   "id": "d832e365-2da1-425e-b8d6-ddcfb313c33a",
   "metadata": {},
   "outputs": [
    {
     "name": "stdout",
     "output_type": "stream",
     "text": [
      "Loading matlab import file: C:\\Share\\data\\RoyMaze1\\ExportedData\\positionAnalysis.mat...\n",
      "done.\n",
      "Loading matlab import file: C:\\Share\\data\\RoyMaze1\\ExportedData\\spikesAnalysis.mat...\n",
      "done.\n",
      "[3.12156667e+00 3.23186667e+00 7.65390000e+00 ... 3.53453575e+04\n",
      " 3.53498584e+04 3.53500207e+04]\n",
      "(2, 9297)\n"
     ]
    }
   ],
   "source": [
    "# RoyMaze1:\n",
    "mat_import_parent_path = Path(r'C:\\Share\\data\\RoyMaze1\\ExportedData')\n",
    "# mat_import_file = r'C:\\Share\\data\\RoyMaze1\\ExportedData.mat'\n",
    "position_mat_import_file = mat_import_parent_path.joinpath('positionAnalysis.mat')\n",
    "data = import_mat_file(mat_import_file=position_mat_import_file)\n",
    "t,x,y,speeds,dt,dx,dy = process_positionalAnalysis_data(data)\n",
    "\n",
    "# Import the spikes:\n",
    "spikes_mat_import_file = mat_import_parent_path.joinpath('spikesAnalysis.mat')\n",
    "spikes_data = import_mat_file(mat_import_file=spikes_mat_import_file)\n",
    "# print(spikes_data.keys())\n",
    "spike_matrix = spikes_data['spike_matrix']\n",
    "spike_cells = spikes_data['spike_cells'][0]\n",
    "# print('spike_matrix: {}, spike_cells: {}'.format(np.shape(spike_matrix), np.shape(spike_cells)))\n",
    "num_cells = np.shape(spike_matrix)[0]\n",
    "\n",
    "spike_list = [extract_spike_timeseries(spike_cell) for spike_cell in spike_cells]\n",
    "print(spike_list[0])\n",
    "\n",
    "# Determine the x and y positions each spike occured for each cell\n",
    "spike_positions_list = list()\n",
    "for cell_id in np.arange(num_cells):\n",
    "    spike_positions_list.append(np.vstack((np.interp(spike_list[cell_id], t, x), np.interp(spike_list[cell_id], t, y))))\n",
    "    # spike_positions_list.append(np.hstack(x[spike_list[cell_id]], y[spike_list[cell_id]]))\n",
    "    # spike_speed = speeds[spike_list[cell_id]]\n",
    "    \n",
    "print(np.shape(spike_positions_list[0])) # (2, 9297)"
   ]
  },
  {
   "cell_type": "code",
   "execution_count": 5,
   "id": "729e04a6-0b73-47e5-adea-a3d900913871",
   "metadata": {},
   "outputs": [
    {
     "data": {
      "text/plain": [
       "array([  134.,  6875.,  3444.,    47.,   267.,   182.,    59.,   187.,\n",
       "          58.,   310.,   635.,  1130.,  9603.,  1232.,  1804.,  1635.,\n",
       "        1211.,    65.,   947.,   161.,    42.,    95.,  1793.,  1480.,\n",
       "         362.,   345.,   379.,  3116.,   425.,   107.,   133., 13214.,\n",
       "       19334.,  1145.,   624.,   108.,   311.,    46.,    30.,   181.,\n",
       "         479.,  1255.,   253.,   487.,  1379.,  1133.,  1682.,   593.,\n",
       "         162.,   325.,   608.,   496.,   542.,    42.,   791.,    94.,\n",
       "         471.,   466.,   357.,   641., 15136.,  1472.,   362.,  1924.,\n",
       "         495.,   748.,  1210.,  2378.,  1349.,   201., 16503.,   372.,\n",
       "        1113.,   169.,   291.,   824.,   340.,   954.,  1055.,   389.,\n",
       "         222.,    85.,   535.,   527.,  1729.,   117.,  2054., 15309.,\n",
       "       13253.,   272., 10662.,   183.])"
      ]
     },
     "execution_count": 5,
     "metadata": {},
     "output_type": "execute_result"
    }
   ],
   "source": [
    "np.sum(spike_matrix, 1)"
   ]
  }
 ],
 "metadata": {
  "kernelspec": {
   "display_name": "Python 3",
   "language": "python",
   "name": "python3"
  },
  "language_info": {
   "codemirror_mode": {
    "name": "ipython",
    "version": 3
   },
   "file_extension": ".py",
   "mimetype": "text/x-python",
   "name": "python",
   "nbconvert_exporter": "python",
   "pygments_lexer": "ipython3",
   "version": "3.6.13"
  }
 },
 "nbformat": 4,
 "nbformat_minor": 5
}
