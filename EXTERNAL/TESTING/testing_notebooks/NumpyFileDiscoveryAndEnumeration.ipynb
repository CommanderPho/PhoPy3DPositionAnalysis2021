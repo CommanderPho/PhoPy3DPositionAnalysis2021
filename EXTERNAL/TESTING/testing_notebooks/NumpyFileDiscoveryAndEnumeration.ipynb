{
 "cells": [
  {
   "cell_type": "code",
   "execution_count": 2,
   "id": "e71ca477-e1a1-4752-8d2e-e6f48135968d",
   "metadata": {},
   "outputs": [],
   "source": [
    "from pathlib import Path\n",
    "import numpy as np\n",
    "import pandas as pd\n",
    "import glob\n",
    "from neuropy.utils.mixins.print_helpers import ProgressMessagePrinter\n"
   ]
  },
  {
   "cell_type": "code",
   "execution_count": 3,
   "id": "8762775c-7845-4124-9439-83fb55e6ae9d",
   "metadata": {},
   "outputs": [],
   "source": [
    "known_data_session_type_dict = {'kdiba':Path(r'R:\\data\\KDIBA\\gor01\\one\\2006-6-07_11-26-53'),\n",
    "                'bapun':Path('R:\\data\\Bapun\\Day5TwoNovel'),\n",
    "                'rachel':Path('R:\\data\\Rachel\\merged_M1_20211123_raw_phy')}\n",
    "\n",
    "active_path = known_data_session_type_dict['rachel']"
   ]
  },
  {
   "cell_type": "code",
   "execution_count": 12,
   "id": "2e9eae4f-eb1c-4b9d-a53c-b96a8ca5b031",
   "metadata": {},
   "outputs": [
    {
     "data": {
      "text/plain": [
       "['R:\\\\data\\\\Rachel\\\\merged_M1_20211123_raw_phy\\\\whitening_mat_inv.npy',\n",
       " 'R:\\\\data\\\\Rachel\\\\merged_M1_20211123_raw_phy\\\\spike_templates.npy',\n",
       " 'R:\\\\data\\\\Rachel\\\\merged_M1_20211123_raw_phy\\\\channel_shanks.npy',\n",
       " 'R:\\\\data\\\\Rachel\\\\merged_M1_20211123_raw_phy\\\\spike_clusters.npy',\n",
       " 'R:\\\\data\\\\Rachel\\\\merged_M1_20211123_raw_phy\\\\similar_templates.npy',\n",
       " 'R:\\\\data\\\\Rachel\\\\merged_M1_20211123_raw_phy\\\\pc_feature_ind.npy',\n",
       " 'R:\\\\data\\\\Rachel\\\\merged_M1_20211123_raw_phy\\\\merged_M1_20211123_raw.paradigm.npy',\n",
       " 'R:\\\\data\\\\Rachel\\\\merged_M1_20211123_raw_phy\\\\spike_times.npy',\n",
       " 'R:\\\\data\\\\Rachel\\\\merged_M1_20211123_raw_phy\\\\whitening_mat.npy',\n",
       " 'R:\\\\data\\\\Rachel\\\\merged_M1_20211123_raw_phy\\\\templates.npy',\n",
       " 'R:\\\\data\\\\Rachel\\\\merged_M1_20211123_raw_phy\\\\channel_map.npy',\n",
       " 'R:\\\\data\\\\Rachel\\\\merged_M1_20211123_raw_phy\\\\pc_features.npy',\n",
       " 'R:\\\\data\\\\Rachel\\\\merged_M1_20211123_raw_phy\\\\channel_positions.npy',\n",
       " 'R:\\\\data\\\\Rachel\\\\merged_M1_20211123_raw_phy\\\\amplitudes.npy',\n",
       " 'R:\\\\data\\\\Rachel\\\\merged_M1_20211123_raw_phy\\\\merged_M1_20211123_raw.position.npy',\n",
       " 'R:\\\\data\\\\Rachel\\\\merged_M1_20211123_raw_phy\\\\merged_M1_20211123_raw.neurons.npy',\n",
       " 'R:\\\\data\\\\Rachel\\\\merged_M1_20211123_raw_phy\\\\merged_M1_20211123_raw.probegroup.npy']"
      ]
     },
     "execution_count": 12,
     "metadata": {},
     "output_type": "execute_result"
    }
   ],
   "source": [
    "def find_numpy_files(in_directory: Path):\n",
    "    return list(glob.glob(str(active_path.joinpath('*.np[yz]'))))\n",
    "\n",
    "def robust_load_npy_file(f):\n",
    "    if isinstance(f, str):\n",
    "        f = Path(f)\n",
    "    if f.is_file():\n",
    "        dict_rep = None\n",
    "        try:\n",
    "            dict_rep = np.load(f, allow_pickle=True)\n",
    "        except NotImplementedError:\n",
    "            print(\"Issue with pickled POSIX_PATH on windows for path {}, falling back to non-pickled version...\".format(f))\n",
    "            temp = pathlib.PosixPath\n",
    "            pathlib.PosixPath = pathlib.PurePosixPath # Bad hack\n",
    "            dict_rep = np.load(f, allow_pickle=True)\n",
    "        try:\n",
    "            dict_rep = dict_rep.item() # extract the single item if it's a scalar\n",
    "        except ValueError:\n",
    "            # print(f'dict_rep not an array of size 1: {dict_rep}')\n",
    "            pass\n",
    "        return dict_rep\n",
    "    else:\n",
    "        return None\n",
    "\n",
    "\n",
    "active_numpy_files = find_numpy_files(active_path)\n",
    "active_numpy_files"
   ]
  },
  {
   "cell_type": "code",
   "execution_count": 13,
   "id": "dbb3a592-9bd4-4fd0-9792-b8bd23fff78c",
   "metadata": {},
   "outputs": [],
   "source": [
    "numpy_vars = {}\n",
    "for np_name in active_numpy_files:\n",
    "    # print(f'{np_name}')\n",
    "    np_path = Path(np_name)\n",
    "    with ProgressMessagePrinter(np_name, 'Loading', f'{Path(np_name).stem}'):\n",
    "        numpy_vars[np_name] = robust_load_npy_file(np_path)\n",
    "        # numpy_vars[np_name] = np.load(np_name)\n",
    "\n",
    "numpy_vars"
   ]
  },
  {
   "cell_type": "code",
   "execution_count": 21,
   "id": "ba10a32e-e168-4ad4-8d76-4f262306b726",
   "metadata": {},
   "outputs": [],
   "source": [
    "numpy_vars.keys()\n",
    "{a_path:np.shape(loaded_item) for a_path, loaded_item in numpy_vars.items()}\n",
    "pd.DataFrame({'file':list(numpy_vars.keys()), 'type':[type(loaded_item) for loaded_item in numpy_vars.values()], 'shape':[np.shape(loaded_item) for loaded_item in numpy_vars.values()]})\n",
    "# pd.DataFrame({'file':list(numpy_vars.keys()), 'type':[type(loaded_item) for loaded_item in numpy_vars.values()], 'shape':[np.shape(loaded_item) for loaded_item in numpy_vars.values()]})"
   ]
  },
  {
   "cell_type": "code",
   "execution_count": null,
   "id": "4a7604bb-126a-4468-b85d-746f3977be9e",
   "metadata": {},
   "outputs": [],
   "source": [
    "# Get dict objects\n",
    "dict_only_numpy_vars = {a_path:loaded_item for a_path, loaded_item in numpy_vars.items() if isinstance(loaded_item, dict)}\n",
    "dict_only_numpy_vars"
   ]
  },
  {
   "cell_type": "code",
   "execution_count": null,
   "id": "a1dcf6b9-5695-4f34-8500-b5fdd4541737",
   "metadata": {},
   "outputs": [],
   "source": []
  }
 ],
 "metadata": {
  "kernelspec": {
   "display_name": "Python [conda env:phoviz_ultimate]",
   "language": "python",
   "name": "conda-env-phoviz_ultimate-py"
  },
  "language_info": {
   "codemirror_mode": {
    "name": "ipython",
    "version": 3
   },
   "file_extension": ".py",
   "mimetype": "text/x-python",
   "name": "python",
   "nbconvert_exporter": "python",
   "pygments_lexer": "ipython3",
   "version": "3.9.12"
  },
  "scenes_data": {
   "active_scene": "Default Scene",
   "init_scene": "",
   "scenes": [
    "Default Scene"
   ]
  }
 },
 "nbformat": 4,
 "nbformat_minor": 5
}
