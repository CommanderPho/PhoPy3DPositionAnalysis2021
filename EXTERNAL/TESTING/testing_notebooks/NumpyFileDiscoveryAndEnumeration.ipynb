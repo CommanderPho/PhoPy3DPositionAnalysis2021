{
 "cells": [
  {
   "cell_type": "code",
   "execution_count": 139,
   "id": "e71ca477-e1a1-4752-8d2e-e6f48135968d",
   "metadata": {},
   "outputs": [],
   "source": [
    "import pathlib\n",
    "from pathlib import Path\n",
    "import numpy as np\n",
    "import pandas as pd\n",
    "import glob\n",
    "from neuropy.utils.mixins.print_helpers import ProgressMessagePrinter\n",
    "# from neuropy.io.openephysio import load_ttl_events\n",
    "from neuropy.core import Shank, Probe, ProbeGroup\n",
    "from neuropy.core import Position, Neurons, NeuronType\n",
    "from neuropy.io import PhyIO\n",
    "from neuropy.io import OptitrackIO"
   ]
  },
  {
   "cell_type": "code",
   "execution_count": 140,
   "id": "0f6e6840-7b63-4e76-99e3-b58eae6477dc",
   "metadata": {},
   "outputs": [],
   "source": [
    "known_data_session_type_dict = {'kdiba':Path(r'R:\\data\\KDIBA\\gor01\\one\\2006-6-07_11-26-53'),\n",
    "                'bapun':Path('R:\\data\\Bapun\\Day5TwoNovel'),\n",
    "                'rachel':Path('R:\\data\\Rachel\\merged_M1_20211123_raw_phy')}\n",
    "\n",
    "active_path = known_data_session_type_dict['rachel']\n",
    "# active_path = known_data_session_type_dict['bapun']"
   ]
  },
  {
   "cell_type": "code",
   "execution_count": 12,
   "id": "7611fcbf-f762-499b-810a-e38674838dc5",
   "metadata": {},
   "outputs": [],
   "source": [
    "opti_folder = Path('/home/wahlberg/Exp_Data/M1_Nov2021/20211123/behav_csv')\n",
    "opti_data = OptitrackIO(opti_folder)"
   ]
  },
  {
   "cell_type": "code",
   "execution_count": 159,
   "id": "f0c69cf7-1b43-4d5a-9e54-8a0d4f85002d",
   "metadata": {},
   "outputs": [],
   "source": [
    "def _rach_prepare_for_Neurons_obj(neuron_cluster_info_df):\n",
    "    ## Filter out all the zero elements\n",
    "    # included_indicies = np.where(neuron_cluster_info_df['q']>0)\n",
    "    included_indicies = neuron_cluster_info_df['q']>0\n",
    "    neuron_cluster_info_df = neuron_cluster_info_df[included_indicies]\n",
    "    # neuron_cluster_info_df = neuron_cluster_info_df[neuron_cluster_info_df['q']>0]\n",
    "    neuron_cluster_info_df['neuron_type'] = NeuronType.from_qclu_series(neuron_cluster_info_df.q.astype('float'))\n",
    "    return neuron_cluster_info_df, included_indicies"
   ]
  },
  {
   "cell_type": "code",
   "execution_count": 163,
   "id": "aebf1781-df69-4b65-99dc-c65edfae6a7d",
   "metadata": {},
   "outputs": [
    {
     "name": "stderr",
     "output_type": "stream",
     "text": [
      "C:\\Users\\pho\\AppData\\Local\\Temp\\ipykernel_21348\\1347062814.py:7: SettingWithCopyWarning: \n",
      "A value is trying to be set on a copy of a slice from a DataFrame.\n",
      "Try using .loc[row_indexer,col_indexer] = value instead\n",
      "\n",
      "See the caveats in the documentation: https://pandas.pydata.org/pandas-docs/stable/user_guide/indexing.html#returning-a-view-versus-a-copy\n",
      "  neuron_cluster_info_df['neuron_type'] = NeuronType.from_qclu_series(neuron_cluster_info_df.q.astype('float'))\n"
     ]
    }
   ],
   "source": [
    "phydata = PhyIO(active_path)\n",
    "np.shape(phydata.spiketrains) # (109,)\n",
    "# phydata.shank_ids\n",
    "phydata.cluster_info\n",
    "\n",
    "active_neuron_cluster_info_df, included_indicies = _rach_prepare_for_Neurons_obj(phydata.cluster_info)\n",
    "# active_neuron_cluster_info_df\n",
    "# phydata.n_channels # 128\n",
    "neuron_included_spiketrains = phydata.spiketrains[included_indicies]\n",
    "# np.shape(neuron_included_spiketrains)"
   ]
  },
  {
   "cell_type": "code",
   "execution_count": 161,
   "id": "8cf1ab13-63bf-4234-a212-50cc200c1bbf",
   "metadata": {},
   "outputs": [
    {
     "name": "stderr",
     "output_type": "stream",
     "text": [
      "C:\\Users\\pho\\AppData\\Local\\Temp\\ipykernel_21348\\1347062814.py:7: SettingWithCopyWarning: \n",
      "A value is trying to be set on a copy of a slice from a DataFrame.\n",
      "Try using .loc[row_indexer,col_indexer] = value instead\n",
      "\n",
      "See the caveats in the documentation: https://pandas.pydata.org/pandas-docs/stable/user_guide/indexing.html#returning-a-view-versus-a-copy\n",
      "  neuron_cluster_info_df['neuron_type'] = NeuronType.from_qclu_series(neuron_cluster_info_df.q.astype('float'))\n"
     ]
    },
    {
     "data": {
      "text/plain": [
       "(107,)"
      ]
     },
     "execution_count": 161,
     "metadata": {},
     "output_type": "execute_result"
    }
   ],
   "source": []
  },
  {
   "cell_type": "markdown",
   "id": "ede61405-a246-4ac1-9405-8ba3e545db6d",
   "metadata": {
    "jp-MarkdownHeadingCollapsed": true,
    "tags": []
   },
   "source": [
    "# Normal Numpy Stuff"
   ]
  },
  {
   "cell_type": "code",
   "execution_count": null,
   "id": "2e9eae4f-eb1c-4b9d-a53c-b96a8ca5b031",
   "metadata": {},
   "outputs": [],
   "source": [
    "def find_numpy_files(in_directory: Path):\n",
    "    return list(glob.glob(str(active_path.joinpath('*.np[yz]'))))\n",
    "\n",
    "def robust_load_npy_file(f):\n",
    "    if isinstance(f, str):\n",
    "        f = Path(f)\n",
    "    if f.is_file():\n",
    "        dict_rep = None\n",
    "        try:\n",
    "            dict_rep = np.load(f, allow_pickle=True)\n",
    "        except NotImplementedError:\n",
    "            print(\"Issue with pickled POSIX_PATH on windows for path {}, falling back to non-pickled version...\".format(f))\n",
    "            temp = pathlib.PosixPath\n",
    "            pathlib.PosixPath = pathlib.PurePosixPath # Bad hack\n",
    "            dict_rep = np.load(f, allow_pickle=True)\n",
    "        try:\n",
    "            dict_rep = dict_rep.item() # extract the single item if it's a scalar\n",
    "        except ValueError:\n",
    "            # print(f'dict_rep not an array of size 1: {dict_rep}')\n",
    "            pass\n",
    "        return dict_rep\n",
    "    else:\n",
    "        return None\n",
    "\n",
    "\n",
    "active_numpy_files = find_numpy_files(active_path)\n",
    "active_numpy_files"
   ]
  },
  {
   "cell_type": "code",
   "execution_count": null,
   "id": "dbb3a592-9bd4-4fd0-9792-b8bd23fff78c",
   "metadata": {},
   "outputs": [],
   "source": [
    "numpy_vars = {}\n",
    "for np_name in active_numpy_files:\n",
    "    # print(f'{np_name}')\n",
    "    np_path = Path(np_name)\n",
    "    with ProgressMessagePrinter(np_name, 'Loading', f'{Path(np_name).stem}'):\n",
    "        numpy_vars[np_name] = robust_load_npy_file(np_path)\n",
    "        # numpy_vars[np_name] = np.load(np_name)\n",
    "\n",
    "numpy_vars"
   ]
  },
  {
   "cell_type": "code",
   "execution_count": null,
   "id": "ba10a32e-e168-4ad4-8d76-4f262306b726",
   "metadata": {},
   "outputs": [],
   "source": [
    "numpy_vars.keys()\n",
    "{a_path:np.shape(loaded_item) for a_path, loaded_item in numpy_vars.items()}\n",
    "pd.DataFrame({'file':list(numpy_vars.keys()), 'type':[type(loaded_item) for loaded_item in numpy_vars.values()], 'shape':[np.shape(loaded_item) for loaded_item in numpy_vars.values()]})\n",
    "# pd.DataFrame({'file':list(numpy_vars.keys()), 'type':[type(loaded_item) for loaded_item in numpy_vars.values()], 'shape':[np.shape(loaded_item) for loaded_item in numpy_vars.values()]})"
   ]
  },
  {
   "cell_type": "code",
   "execution_count": 17,
   "id": "53a0be85-26b8-4e88-98dc-d8a7f2fa102a",
   "metadata": {},
   "outputs": [],
   "source": [
    "# Get dict objects\n",
    "dict_only_numpy_vars = {a_path:loaded_item for a_path, loaded_item in numpy_vars.items() if isinstance(loaded_item, dict)}\n",
    "# dict_only_numpy_vars"
   ]
  },
  {
   "cell_type": "code",
   "execution_count": null,
   "id": "5a5f22a9-0124-4d5a-ad98-b9d187ccaac9",
   "metadata": {},
   "outputs": [],
   "source": [
    "a_dict_var = dict_only_numpy_vars['R:\\\\data\\\\Rachel\\\\merged_M1_20211123_raw_phy\\\\merged_M1_20211123_raw.neurons.bak.npy']\n",
    "{a_key:np.shape(loaded_item) for a_key, loaded_item in a_dict_var.items()}"
   ]
  },
  {
   "cell_type": "code",
   "execution_count": null,
   "id": "5fde1254-76ee-41ed-8935-a4fb94e32f52",
   "metadata": {},
   "outputs": [],
   "source": [
    "a_dict_var = dict_only_numpy_vars['R:\\\\data\\\\Rachel\\\\merged_M1_20211123_raw_phy\\\\merged_M1_20211123_raw.neurons.npy']\n",
    "{a_key:np.shape(loaded_item) for a_key, loaded_item in a_dict_var.items()}"
   ]
  },
  {
   "cell_type": "code",
   "execution_count": 27,
   "id": "3081b736-219f-444e-809e-a30553382c6a",
   "metadata": {},
   "outputs": [
    {
     "name": "stdout",
     "output_type": "stream",
     "text": [
      "a_dict_var: {'data': Empty DataFrame\n",
      "Columns: [x, y, contact_id, channel_id, shank_id, connected, probe_id]\n",
      "Index: [], 'metadata': {}}\n"
     ]
    },
    {
     "data": {
      "text/plain": [
       "{'data': (0, 7), 'metadata': ()}"
      ]
     },
     "execution_count": 27,
     "metadata": {},
     "output_type": "execute_result"
    }
   ],
   "source": [
    "a_dict_var = dict_only_numpy_vars['R:\\\\data\\\\Rachel\\\\merged_M1_20211123_raw_phy\\\\merged_M1_20211123_raw.probegroup.npy']\n",
    "print(f'a_dict_var: {a_dict_var}')\n",
    "{a_key:np.shape(loaded_item) for a_key, loaded_item in a_dict_var.items()}"
   ]
  },
  {
   "cell_type": "code",
   "execution_count": 137,
   "id": "290b4b0d-fd9e-4246-8d3c-ba6af3a13579",
   "metadata": {},
   "outputs": [],
   "source": [
    "# 'R:\\\\data\\\\Rachel\\\\merged_M1_20211123_raw_phy\\\\'\n",
    "# r'R:\\data\\Rachel\\merged_M1_20211123_raw_phy\\cluster_info.tsv'\n",
    "# ['cluster_info.tsv']\n",
    "neuron_cluster_info_df = pd.read_csv(r'R:\\data\\Rachel\\merged_M1_20211123_raw_phy\\cluster_info.tsv', sep='\\t')\n",
    "# neuron_cluster_info_df"
   ]
  },
  {
   "cell_type": "code",
   "execution_count": 138,
   "id": "3f4cca34-aac6-41a4-a96e-ebb4ebb5281f",
   "metadata": {},
   "outputs": [
    {
     "data": {
      "text/html": [
       "<div>\n",
       "<style scoped>\n",
       "    .dataframe tbody tr th:only-of-type {\n",
       "        vertical-align: middle;\n",
       "    }\n",
       "\n",
       "    .dataframe tbody tr th {\n",
       "        vertical-align: top;\n",
       "    }\n",
       "\n",
       "    .dataframe thead th {\n",
       "        text-align: right;\n",
       "    }\n",
       "</style>\n",
       "<table border=\"1\" class=\"dataframe\">\n",
       "  <thead>\n",
       "    <tr style=\"text-align: right;\">\n",
       "      <th></th>\n",
       "      <th>id</th>\n",
       "      <th>amp</th>\n",
       "      <th>ch</th>\n",
       "      <th>depth</th>\n",
       "      <th>fr</th>\n",
       "      <th>group</th>\n",
       "      <th>n_spikes</th>\n",
       "      <th>purity</th>\n",
       "      <th>q</th>\n",
       "      <th>sh</th>\n",
       "    </tr>\n",
       "  </thead>\n",
       "  <tbody>\n",
       "    <tr>\n",
       "      <th>86</th>\n",
       "      <td>235</td>\n",
       "      <td>210.666351</td>\n",
       "      <td>17</td>\n",
       "      <td>2200.0</td>\n",
       "      <td>0.109639</td>\n",
       "      <td>good</td>\n",
       "      <td>421</td>\n",
       "      <td>1.000000</td>\n",
       "      <td>2</td>\n",
       "      <td>1.0</td>\n",
       "    </tr>\n",
       "    <tr>\n",
       "      <th>92</th>\n",
       "      <td>270</td>\n",
       "      <td>93.256348</td>\n",
       "      <td>88</td>\n",
       "      <td>780.0</td>\n",
       "      <td>1.218012</td>\n",
       "      <td>good</td>\n",
       "      <td>4677</td>\n",
       "      <td>0.678582</td>\n",
       "      <td>1</td>\n",
       "      <td>1.0</td>\n",
       "    </tr>\n",
       "    <tr>\n",
       "      <th>98</th>\n",
       "      <td>278</td>\n",
       "      <td>74.356003</td>\n",
       "      <td>18</td>\n",
       "      <td>2180.0</td>\n",
       "      <td>2.026374</td>\n",
       "      <td>good</td>\n",
       "      <td>7781</td>\n",
       "      <td>0.568974</td>\n",
       "      <td>8</td>\n",
       "      <td>1.0</td>\n",
       "    </tr>\n",
       "    <tr>\n",
       "      <th>103</th>\n",
       "      <td>291</td>\n",
       "      <td>78.024879</td>\n",
       "      <td>19</td>\n",
       "      <td>2160.0</td>\n",
       "      <td>5.771559</td>\n",
       "      <td>good</td>\n",
       "      <td>22162</td>\n",
       "      <td>0.546836</td>\n",
       "      <td>4</td>\n",
       "      <td>1.0</td>\n",
       "    </tr>\n",
       "    <tr>\n",
       "      <th>109</th>\n",
       "      <td>304</td>\n",
       "      <td>92.246445</td>\n",
       "      <td>19</td>\n",
       "      <td>2160.0</td>\n",
       "      <td>0.455225</td>\n",
       "      <td>good</td>\n",
       "      <td>1748</td>\n",
       "      <td>0.789999</td>\n",
       "      <td>2</td>\n",
       "      <td>1.0</td>\n",
       "    </tr>\n",
       "    <tr>\n",
       "      <th>...</th>\n",
       "      <td>...</td>\n",
       "      <td>...</td>\n",
       "      <td>...</td>\n",
       "      <td>...</td>\n",
       "      <td>...</td>\n",
       "      <td>...</td>\n",
       "      <td>...</td>\n",
       "      <td>...</td>\n",
       "      <td>...</td>\n",
       "      <td>...</td>\n",
       "    </tr>\n",
       "    <tr>\n",
       "      <th>590</th>\n",
       "      <td>1635</td>\n",
       "      <td>93.333519</td>\n",
       "      <td>48</td>\n",
       "      <td>1580.0</td>\n",
       "      <td>0.098181</td>\n",
       "      <td>good</td>\n",
       "      <td>377</td>\n",
       "      <td>0.699155</td>\n",
       "      <td>3</td>\n",
       "      <td>1.0</td>\n",
       "    </tr>\n",
       "    <tr>\n",
       "      <th>591</th>\n",
       "      <td>1636</td>\n",
       "      <td>147.557922</td>\n",
       "      <td>52</td>\n",
       "      <td>1500.0</td>\n",
       "      <td>4.986896</td>\n",
       "      <td>good</td>\n",
       "      <td>19149</td>\n",
       "      <td>0.917042</td>\n",
       "      <td>7</td>\n",
       "      <td>1.0</td>\n",
       "    </tr>\n",
       "    <tr>\n",
       "      <th>596</th>\n",
       "      <td>1666</td>\n",
       "      <td>145.966782</td>\n",
       "      <td>9</td>\n",
       "      <td>2360.0</td>\n",
       "      <td>0.840655</td>\n",
       "      <td>good</td>\n",
       "      <td>3228</td>\n",
       "      <td>0.898850</td>\n",
       "      <td>2</td>\n",
       "      <td>1.0</td>\n",
       "    </tr>\n",
       "    <tr>\n",
       "      <th>597</th>\n",
       "      <td>1667</td>\n",
       "      <td>79.362167</td>\n",
       "      <td>10</td>\n",
       "      <td>2340.0</td>\n",
       "      <td>0.411733</td>\n",
       "      <td>good</td>\n",
       "      <td>1581</td>\n",
       "      <td>0.898850</td>\n",
       "      <td>2</td>\n",
       "      <td>1.0</td>\n",
       "    </tr>\n",
       "    <tr>\n",
       "      <th>598</th>\n",
       "      <td>1671</td>\n",
       "      <td>53.521664</td>\n",
       "      <td>27</td>\n",
       "      <td>2000.0</td>\n",
       "      <td>0.322407</td>\n",
       "      <td>good</td>\n",
       "      <td>1238</td>\n",
       "      <td>0.861022</td>\n",
       "      <td>1</td>\n",
       "      <td>1.0</td>\n",
       "    </tr>\n",
       "  </tbody>\n",
       "</table>\n",
       "<p>107 rows × 10 columns</p>\n",
       "</div>"
      ],
      "text/plain": [
       "       id         amp  ch   depth        fr group  n_spikes    purity  q   sh\n",
       "86    235  210.666351  17  2200.0  0.109639  good       421  1.000000  2  1.0\n",
       "92    270   93.256348  88   780.0  1.218012  good      4677  0.678582  1  1.0\n",
       "98    278   74.356003  18  2180.0  2.026374  good      7781  0.568974  8  1.0\n",
       "103   291   78.024879  19  2160.0  5.771559  good     22162  0.546836  4  1.0\n",
       "109   304   92.246445  19  2160.0  0.455225  good      1748  0.789999  2  1.0\n",
       "..    ...         ...  ..     ...       ...   ...       ...       ... ..  ...\n",
       "590  1635   93.333519  48  1580.0  0.098181  good       377  0.699155  3  1.0\n",
       "591  1636  147.557922  52  1500.0  4.986896  good     19149  0.917042  7  1.0\n",
       "596  1666  145.966782   9  2360.0  0.840655  good      3228  0.898850  2  1.0\n",
       "597  1667   79.362167  10  2340.0  0.411733  good      1581  0.898850  2  1.0\n",
       "598  1671   53.521664  27  2000.0  0.322407  good      1238  0.861022  1  1.0\n",
       "\n",
       "[107 rows x 10 columns]"
      ]
     },
     "execution_count": 138,
     "metadata": {},
     "output_type": "execute_result"
    }
   ],
   "source": [
    "## Filter out all the zero elements\n",
    "neuron_cluster_info_df = neuron_cluster_info_df[neuron_cluster_info_df['q']>0]\n",
    "# neuron_cluster_info_df.reset_index(inplace=True)\n",
    "neuron_cluster_info_df"
   ]
  },
  {
   "cell_type": "code",
   "execution_count": 136,
   "id": "ad7a49b5-3f89-42dc-b3f1-298e5a04bd32",
   "metadata": {},
   "outputs": [
    {
     "data": {
      "text/html": [
       "<div>\n",
       "<style scoped>\n",
       "    .dataframe tbody tr th:only-of-type {\n",
       "        vertical-align: middle;\n",
       "    }\n",
       "\n",
       "    .dataframe tbody tr th {\n",
       "        vertical-align: top;\n",
       "    }\n",
       "\n",
       "    .dataframe thead th {\n",
       "        text-align: right;\n",
       "    }\n",
       "</style>\n",
       "<table border=\"1\" class=\"dataframe\">\n",
       "  <thead>\n",
       "    <tr style=\"text-align: right;\">\n",
       "      <th></th>\n",
       "      <th>neuronType</th>\n",
       "    </tr>\n",
       "  </thead>\n",
       "  <tbody>\n",
       "    <tr>\n",
       "      <th>0</th>\n",
       "      <td>other</td>\n",
       "    </tr>\n",
       "    <tr>\n",
       "      <th>1</th>\n",
       "      <td>pyr</td>\n",
       "    </tr>\n",
       "    <tr>\n",
       "      <th>2</th>\n",
       "      <td>pyr</td>\n",
       "    </tr>\n",
       "    <tr>\n",
       "      <th>3</th>\n",
       "      <td>mua</td>\n",
       "    </tr>\n",
       "    <tr>\n",
       "      <th>4</th>\n",
       "      <td>int</td>\n",
       "    </tr>\n",
       "    <tr>\n",
       "      <th>...</th>\n",
       "      <td>...</td>\n",
       "    </tr>\n",
       "    <tr>\n",
       "      <th>105</th>\n",
       "      <td>mua</td>\n",
       "    </tr>\n",
       "    <tr>\n",
       "      <th>106</th>\n",
       "      <td>other</td>\n",
       "    </tr>\n",
       "    <tr>\n",
       "      <th>107</th>\n",
       "      <td>pyr</td>\n",
       "    </tr>\n",
       "    <tr>\n",
       "      <th>108</th>\n",
       "      <td>pyr</td>\n",
       "    </tr>\n",
       "    <tr>\n",
       "      <th>109</th>\n",
       "      <td>pyr</td>\n",
       "    </tr>\n",
       "  </tbody>\n",
       "</table>\n",
       "<p>110 rows × 1 columns</p>\n",
       "</div>"
      ],
      "text/plain": [
       "    neuronType\n",
       "0        other\n",
       "1          pyr\n",
       "2          pyr\n",
       "3          mua\n",
       "4          int\n",
       "..         ...\n",
       "105        mua\n",
       "106      other\n",
       "107        pyr\n",
       "108        pyr\n",
       "109        pyr\n",
       "\n",
       "[110 rows x 1 columns]"
      ]
     },
     "execution_count": 136,
     "metadata": {},
     "output_type": "execute_result"
    }
   ],
   "source": [
    "rachel_override_raw_neuronID_strings = pd.read_csv(r'R:\\data\\Rachel\\merged_M1_20211123_raw_phy\\merged_M1_20211123_raw_neuronID.csv', sep='\\t')\n",
    "rachel_override_raw_neuronType_strings = pd.read_csv(r'R:\\data\\Rachel\\merged_M1_20211123_raw_phy\\merged_M1_20211123_raw_neuronType.csv', sep='\\t')\n",
    "rachel_override_raw_neuronType_strings"
   ]
  },
  {
   "cell_type": "code",
   "execution_count": null,
   "id": "77773865-9fe0-4987-bb8f-05ca34986578",
   "metadata": {},
   "outputs": [],
   "source": [
    "# neuronTypeLookupDict = {a_key:a_value for a_key, a_value in zip(rachel_override_raw_neuronID_strings.neuronID.to_numpy(), rachel_override_raw_neuronType_strings.neuronType.to_numpy())}\n",
    "# neuronTypeLookupDict"
   ]
  },
  {
   "cell_type": "code",
   "execution_count": 100,
   "id": "cb257494-130b-4968-8681-c3e09b9d3b7f",
   "metadata": {},
   "outputs": [],
   "source": [
    "# neuron_cluster_info_df['neuron_type'] = [neuronTypeLookupDict[int(q)] for q in neuron_cluster_info_df.q.to_numpy()]\n",
    "# neuron_cluster_info_df"
   ]
  },
  {
   "cell_type": "code",
   "execution_count": 127,
   "id": "b60cbdbd-ecce-4ee1-9939-8d60c66ac4e7",
   "metadata": {},
   "outputs": [
    {
     "data": {
      "text/html": [
       "<div>\n",
       "<style scoped>\n",
       "    .dataframe tbody tr th:only-of-type {\n",
       "        vertical-align: middle;\n",
       "    }\n",
       "\n",
       "    .dataframe tbody tr th {\n",
       "        vertical-align: top;\n",
       "    }\n",
       "\n",
       "    .dataframe thead th {\n",
       "        text-align: right;\n",
       "    }\n",
       "</style>\n",
       "<table border=\"1\" class=\"dataframe\">\n",
       "  <thead>\n",
       "    <tr style=\"text-align: right;\">\n",
       "      <th></th>\n",
       "      <th>level_0</th>\n",
       "      <th>index</th>\n",
       "      <th>id</th>\n",
       "      <th>amp</th>\n",
       "      <th>ch</th>\n",
       "      <th>depth</th>\n",
       "      <th>fr</th>\n",
       "      <th>group</th>\n",
       "      <th>n_spikes</th>\n",
       "      <th>purity</th>\n",
       "      <th>q</th>\n",
       "      <th>sh</th>\n",
       "      <th>neuron_type</th>\n",
       "    </tr>\n",
       "  </thead>\n",
       "  <tbody>\n",
       "    <tr>\n",
       "      <th>0</th>\n",
       "      <td>0</td>\n",
       "      <td>86</td>\n",
       "      <td>235</td>\n",
       "      <td>210.666351</td>\n",
       "      <td>17</td>\n",
       "      <td>2200.0</td>\n",
       "      <td>0.109639</td>\n",
       "      <td>good</td>\n",
       "      <td>421</td>\n",
       "      <td>1.000000</td>\n",
       "      <td>2</td>\n",
       "      <td>1.0</td>\n",
       "      <td>NeuronType.PYRAMIDAL</td>\n",
       "    </tr>\n",
       "    <tr>\n",
       "      <th>1</th>\n",
       "      <td>1</td>\n",
       "      <td>92</td>\n",
       "      <td>270</td>\n",
       "      <td>93.256348</td>\n",
       "      <td>88</td>\n",
       "      <td>780.0</td>\n",
       "      <td>1.218012</td>\n",
       "      <td>good</td>\n",
       "      <td>4677</td>\n",
       "      <td>0.678582</td>\n",
       "      <td>1</td>\n",
       "      <td>1.0</td>\n",
       "      <td>NeuronType.PYRAMIDAL</td>\n",
       "    </tr>\n",
       "    <tr>\n",
       "      <th>2</th>\n",
       "      <td>2</td>\n",
       "      <td>98</td>\n",
       "      <td>278</td>\n",
       "      <td>74.356003</td>\n",
       "      <td>18</td>\n",
       "      <td>2180.0</td>\n",
       "      <td>2.026374</td>\n",
       "      <td>good</td>\n",
       "      <td>7781</td>\n",
       "      <td>0.568974</td>\n",
       "      <td>8</td>\n",
       "      <td>1.0</td>\n",
       "      <td>NeuronType.INTERNEURONS</td>\n",
       "    </tr>\n",
       "    <tr>\n",
       "      <th>3</th>\n",
       "      <td>3</td>\n",
       "      <td>103</td>\n",
       "      <td>291</td>\n",
       "      <td>78.024879</td>\n",
       "      <td>19</td>\n",
       "      <td>2160.0</td>\n",
       "      <td>5.771559</td>\n",
       "      <td>good</td>\n",
       "      <td>22162</td>\n",
       "      <td>0.546836</td>\n",
       "      <td>4</td>\n",
       "      <td>1.0</td>\n",
       "      <td>NeuronType.PYRAMIDAL</td>\n",
       "    </tr>\n",
       "    <tr>\n",
       "      <th>4</th>\n",
       "      <td>4</td>\n",
       "      <td>109</td>\n",
       "      <td>304</td>\n",
       "      <td>92.246445</td>\n",
       "      <td>19</td>\n",
       "      <td>2160.0</td>\n",
       "      <td>0.455225</td>\n",
       "      <td>good</td>\n",
       "      <td>1748</td>\n",
       "      <td>0.789999</td>\n",
       "      <td>2</td>\n",
       "      <td>1.0</td>\n",
       "      <td>NeuronType.PYRAMIDAL</td>\n",
       "    </tr>\n",
       "    <tr>\n",
       "      <th>...</th>\n",
       "      <td>...</td>\n",
       "      <td>...</td>\n",
       "      <td>...</td>\n",
       "      <td>...</td>\n",
       "      <td>...</td>\n",
       "      <td>...</td>\n",
       "      <td>...</td>\n",
       "      <td>...</td>\n",
       "      <td>...</td>\n",
       "      <td>...</td>\n",
       "      <td>...</td>\n",
       "      <td>...</td>\n",
       "      <td>...</td>\n",
       "    </tr>\n",
       "    <tr>\n",
       "      <th>102</th>\n",
       "      <td>102</td>\n",
       "      <td>590</td>\n",
       "      <td>1635</td>\n",
       "      <td>93.333519</td>\n",
       "      <td>48</td>\n",
       "      <td>1580.0</td>\n",
       "      <td>0.098181</td>\n",
       "      <td>good</td>\n",
       "      <td>377</td>\n",
       "      <td>0.699155</td>\n",
       "      <td>3</td>\n",
       "      <td>1.0</td>\n",
       "      <td>NeuronType.PYRAMIDAL</td>\n",
       "    </tr>\n",
       "    <tr>\n",
       "      <th>103</th>\n",
       "      <td>103</td>\n",
       "      <td>591</td>\n",
       "      <td>1636</td>\n",
       "      <td>147.557922</td>\n",
       "      <td>52</td>\n",
       "      <td>1500.0</td>\n",
       "      <td>4.986896</td>\n",
       "      <td>good</td>\n",
       "      <td>19149</td>\n",
       "      <td>0.917042</td>\n",
       "      <td>7</td>\n",
       "      <td>1.0</td>\n",
       "      <td>NeuronType.CONTAMINATED</td>\n",
       "    </tr>\n",
       "    <tr>\n",
       "      <th>104</th>\n",
       "      <td>104</td>\n",
       "      <td>596</td>\n",
       "      <td>1666</td>\n",
       "      <td>145.966782</td>\n",
       "      <td>9</td>\n",
       "      <td>2360.0</td>\n",
       "      <td>0.840655</td>\n",
       "      <td>good</td>\n",
       "      <td>3228</td>\n",
       "      <td>0.898850</td>\n",
       "      <td>2</td>\n",
       "      <td>1.0</td>\n",
       "      <td>NeuronType.PYRAMIDAL</td>\n",
       "    </tr>\n",
       "    <tr>\n",
       "      <th>105</th>\n",
       "      <td>105</td>\n",
       "      <td>597</td>\n",
       "      <td>1667</td>\n",
       "      <td>79.362167</td>\n",
       "      <td>10</td>\n",
       "      <td>2340.0</td>\n",
       "      <td>0.411733</td>\n",
       "      <td>good</td>\n",
       "      <td>1581</td>\n",
       "      <td>0.898850</td>\n",
       "      <td>2</td>\n",
       "      <td>1.0</td>\n",
       "      <td>NeuronType.PYRAMIDAL</td>\n",
       "    </tr>\n",
       "    <tr>\n",
       "      <th>106</th>\n",
       "      <td>106</td>\n",
       "      <td>598</td>\n",
       "      <td>1671</td>\n",
       "      <td>53.521664</td>\n",
       "      <td>27</td>\n",
       "      <td>2000.0</td>\n",
       "      <td>0.322407</td>\n",
       "      <td>good</td>\n",
       "      <td>1238</td>\n",
       "      <td>0.861022</td>\n",
       "      <td>1</td>\n",
       "      <td>1.0</td>\n",
       "      <td>NeuronType.PYRAMIDAL</td>\n",
       "    </tr>\n",
       "  </tbody>\n",
       "</table>\n",
       "<p>107 rows × 13 columns</p>\n",
       "</div>"
      ],
      "text/plain": [
       "     level_0  index    id         amp  ch   depth        fr group  n_spikes  \\\n",
       "0          0     86   235  210.666351  17  2200.0  0.109639  good       421   \n",
       "1          1     92   270   93.256348  88   780.0  1.218012  good      4677   \n",
       "2          2     98   278   74.356003  18  2180.0  2.026374  good      7781   \n",
       "3          3    103   291   78.024879  19  2160.0  5.771559  good     22162   \n",
       "4          4    109   304   92.246445  19  2160.0  0.455225  good      1748   \n",
       "..       ...    ...   ...         ...  ..     ...       ...   ...       ...   \n",
       "102      102    590  1635   93.333519  48  1580.0  0.098181  good       377   \n",
       "103      103    591  1636  147.557922  52  1500.0  4.986896  good     19149   \n",
       "104      104    596  1666  145.966782   9  2360.0  0.840655  good      3228   \n",
       "105      105    597  1667   79.362167  10  2340.0  0.411733  good      1581   \n",
       "106      106    598  1671   53.521664  27  2000.0  0.322407  good      1238   \n",
       "\n",
       "       purity  q   sh              neuron_type  \n",
       "0    1.000000  2  1.0     NeuronType.PYRAMIDAL  \n",
       "1    0.678582  1  1.0     NeuronType.PYRAMIDAL  \n",
       "2    0.568974  8  1.0  NeuronType.INTERNEURONS  \n",
       "3    0.546836  4  1.0     NeuronType.PYRAMIDAL  \n",
       "4    0.789999  2  1.0     NeuronType.PYRAMIDAL  \n",
       "..        ... ..  ...                      ...  \n",
       "102  0.699155  3  1.0     NeuronType.PYRAMIDAL  \n",
       "103  0.917042  7  1.0  NeuronType.CONTAMINATED  \n",
       "104  0.898850  2  1.0     NeuronType.PYRAMIDAL  \n",
       "105  0.898850  2  1.0     NeuronType.PYRAMIDAL  \n",
       "106  0.861022  1  1.0     NeuronType.PYRAMIDAL  \n",
       "\n",
       "[107 rows x 13 columns]"
      ]
     },
     "execution_count": 127,
     "metadata": {},
     "output_type": "execute_result"
    }
   ],
   "source": [
    "neuron_cluster_info_df['neuron_type'] = NeuronType.from_qclu_series(neuron_cluster_info_df.q.astype('float'))\n",
    "# qclu_Series = neuron_cluster_info_df.q #.astype('float')\n",
    "# temp_neuronTypeStrings = pd.cut(x=qclu_Series, bins=NeuronType.classCutoffValues(), labels=NeuronType.shortClassNames())\n",
    "# temp_neuronTypeStrings\n",
    "neuron_cluster_info_df"
   ]
  },
  {
   "cell_type": "code",
   "execution_count": null,
   "id": "7eaecf93-b6bb-417f-ac3b-66e90a9e2aa4",
   "metadata": {},
   "outputs": [],
   "source": [
    "# neuron_cluster_info_df[neuron_cluster_info_df['neuron_type'] != 'other']"
   ]
  },
  {
   "cell_type": "code",
   "execution_count": 128,
   "id": "6d35cb53-962d-4f1b-88c8-b9ffe5205b0c",
   "metadata": {},
   "outputs": [],
   "source": [
    "# ## Do filtering:\n",
    "# active_neuron_cluster_info_df = neuron_cluster_info_df.copy()\n",
    "\n",
    "# # replace 'int' with 'inter'\n",
    "# active_neuron_cluster_info_df.loc[active_neuron_cluster_info_df['neuron_type'] == 'int', 'neuron_type'] = 'inter'\n",
    "# active_neuron_cluster_info_df = active_neuron_cluster_info_df[active_neuron_cluster_info_df['neuron_type'] != 'other'] # filter out the 'other' types\n",
    "# active_neuron_cluster_info_df"
   ]
  },
  {
   "cell_type": "markdown",
   "id": "c62de334-a859-4d0b-93a9-a3c91267fde0",
   "metadata": {},
   "source": [
    "# Fix Rachel's Neurons.npy file:"
   ]
  },
  {
   "cell_type": "code",
   "execution_count": null,
   "id": "517d3dc0-c817-414d-b5db-9b81ce97f226",
   "metadata": {},
   "outputs": [],
   "source": [
    "neurons_dict = dict_only_numpy_vars['R:\\\\data\\\\Rachel\\\\merged_M1_20211123_raw_phy\\\\merged_M1_20211123_raw.neurons.bak.npy']\n",
    "neurons_dict['neuron_ids'] = test_neurons_obj.neuron_ids[included_indicies]\n",
    "neurons_dict['neuron_type'] = active_neuron_cluster_info_df.neuron_type.to_numpy()\n",
    "neurons_dict['shank_ids'] = active_neuron_cluster_info_df.sh.to_numpy()\n",
    "neurons_dict['spiketrains'] = neuron_included_spiketrains\n",
    "neurons_dict\n",
    "# neurons_dict['neuron_type'] = .astype(str)"
   ]
  },
  {
   "cell_type": "code",
   "execution_count": null,
   "id": "a1b041f6-d3e3-45ed-8c1f-2c6f4406a025",
   "metadata": {},
   "outputs": [],
   "source": [
    "neurons_dict"
   ]
  },
  {
   "cell_type": "code",
   "execution_count": 175,
   "id": "94afa87f-be5c-44c3-8113-52ed22b36bff",
   "metadata": {},
   "outputs": [
    {
     "data": {
      "text/plain": [
       "Neurons\n",
       " n_neurons: 107\n",
       " n_total_spikes: 1058800\n",
       " t_start: 0.0\n",
       " t_stop: 7200"
      ]
     },
     "execution_count": 175,
     "metadata": {},
     "output_type": "execute_result"
    }
   ],
   "source": [
    "test_neurons_obj = Neurons.from_dict(neurons_dict)\n",
    "test_neurons_obj"
   ]
  },
  {
   "cell_type": "code",
   "execution_count": 176,
   "id": "63a3e44f-5caa-408c-b51c-6b2d627ff6ae",
   "metadata": {},
   "outputs": [
    {
     "data": {
      "text/plain": [
       "(107,)"
      ]
     },
     "execution_count": 176,
     "metadata": {},
     "output_type": "execute_result"
    }
   ],
   "source": [
    "np.shape(test_neurons_obj.neuron_ids)"
   ]
  },
  {
   "cell_type": "code",
   "execution_count": null,
   "id": "ba8350d2-8feb-437f-ad1e-f902e2bc8cc7",
   "metadata": {},
   "outputs": [],
   "source": [
    "test_neurons_obj.neuron_type"
   ]
  },
  {
   "cell_type": "code",
   "execution_count": 177,
   "id": "9812aaa7-8cf2-43e0-83ff-336b58d67da4",
   "metadata": {},
   "outputs": [
    {
     "data": {
      "text/plain": [
       "107"
      ]
     },
     "execution_count": 177,
     "metadata": {},
     "output_type": "execute_result"
    }
   ],
   "source": [
    "test_neurons_obj.n_neurons # 109"
   ]
  },
  {
   "cell_type": "code",
   "execution_count": 178,
   "id": "cee76c9b-1ca9-443a-bd1b-c6b936b29690",
   "metadata": {},
   "outputs": [
    {
     "data": {
      "text/plain": [
       "(107,)"
      ]
     },
     "execution_count": 178,
     "metadata": {},
     "output_type": "execute_result"
    }
   ],
   "source": [
    "np.shape(test_neurons_obj.spiketrains)"
   ]
  },
  {
   "cell_type": "code",
   "execution_count": 179,
   "id": "b7af3054-05c8-4886-a65a-ed3044a3577c",
   "metadata": {},
   "outputs": [
    {
     "data": {
      "text/plain": [
       "(107,)"
      ]
     },
     "execution_count": 179,
     "metadata": {},
     "output_type": "execute_result"
    }
   ],
   "source": [
    "np.shape(test_neurons_obj.neuron_ids) # (109,)"
   ]
  },
  {
   "cell_type": "code",
   "execution_count": 180,
   "id": "db6c0e57-55d7-47a2-9cca-0786b1387b02",
   "metadata": {},
   "outputs": [
    {
     "data": {
      "text/plain": [
       "(107,)"
      ]
     },
     "execution_count": 180,
     "metadata": {},
     "output_type": "execute_result"
    }
   ],
   "source": [
    "np.shape(test_neurons_obj.neuron_type) # (107,)"
   ]
  },
  {
   "cell_type": "code",
   "execution_count": 182,
   "id": "8a69b719-50f4-48e7-80ee-f5f4630edf3e",
   "metadata": {},
   "outputs": [
    {
     "name": "stdout",
     "output_type": "stream",
     "text": [
      "merged_M1_20211123_raw.neurons.npy saved\n"
     ]
    }
   ],
   "source": [
    "test_neurons_obj.filename = Path(r'R:\\\\data\\\\Rachel\\\\merged_M1_20211123_raw_phy\\\\merged_M1_20211123_raw.neurons.npy')\n",
    "test_neurons_obj.save()"
   ]
  },
  {
   "cell_type": "code",
   "execution_count": null,
   "id": "2a17a8ad-2a76-4841-a9a5-0725c65b53fb",
   "metadata": {},
   "outputs": [],
   "source": []
  }
 ],
 "metadata": {
  "kernelspec": {
   "display_name": "Python [conda env:phoviz_ultimate]",
   "language": "python",
   "name": "conda-env-phoviz_ultimate-py"
  },
  "language_info": {
   "codemirror_mode": {
    "name": "ipython",
    "version": 3
   },
   "file_extension": ".py",
   "mimetype": "text/x-python",
   "name": "python",
   "nbconvert_exporter": "python",
   "pygments_lexer": "ipython3",
   "version": "3.9.12"
  },
  "scenes_data": {
   "active_scene": "Default Scene",
   "init_scene": "",
   "scenes": [
    "Default Scene"
   ]
  }
 },
 "nbformat": 4,
 "nbformat_minor": 5
}
