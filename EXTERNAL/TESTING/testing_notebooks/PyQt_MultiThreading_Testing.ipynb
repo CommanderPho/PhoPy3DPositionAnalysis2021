{
 "cells": [
  {
   "cell_type": "code",
   "execution_count": 9,
   "id": "ea053608-d74a-4601-8a76-0559cd1504d9",
   "metadata": {},
   "outputs": [
    {
     "name": "stdout",
     "output_type": "stream",
     "text": [
      "The autoreload extension is already loaded. To reload it, use:\n",
      "  %reload_ext autoreload\n"
     ]
    }
   ],
   "source": [
    "\"\"\"\n",
    "@author: pho\n",
    "\n",
    "A fresh start using modern pipeline methods without all the excessive imports. Created by Pho on 2022-06-14\n",
    "\n",
    "\"\"\"\n",
    "# noinspection JupyterPackage\n",
    "%load_ext autoreload\n",
    "%autoreload 2\n",
    "import sys\n",
    "import time\n",
    "import importlib\n",
    "\n",
    "from numba import jit\n",
    "import numpy as np\n",
    "import pandas as pd\n",
    "\n",
    "# required to enable non-blocking interaction:\n",
    "%gui qt5\n",
    "\n",
    "from pyphocorehelpers.gui.PhoUIContainer import PhoUIContainer\n",
    "import pyphoplacecellanalysis.External.pyqtgraph as pg\n",
    "from pyphoplacecellanalysis.External.pyqtgraph.Qt import QtCore, QtGui, QtWidgets\n",
    "\n",
    "# Pho's Formatting Preferences\n",
    "from pyphocorehelpers.preferences_helpers import set_pho_preferences\n",
    "set_pho_preferences()\n",
    "np.set_printoptions(edgeitems=30, linewidth=100000, formatter=dict(float=lambda x: \"%g\" % x))\n",
    "\n",
    "%config Completer.use_jedi = False"
   ]
  },
  {
   "cell_type": "code",
   "execution_count": 10,
   "id": "43dec649-2df1-4945-bd1b-482bb5917138",
   "metadata": {},
   "outputs": [],
   "source": [
    "from pyphoplacecellanalysis.External.pyqtgraph.flowchart import Flowchart, Node\n",
    "import pyphoplacecellanalysis.External.pyqtgraph.flowchart.library as fclib\n",
    "from pyphoplacecellanalysis.GUI.PyQtPlot.Flowchart.ReloadableNodeLibrary import ReloadableNodeLibrary\n",
    "from pyphoplacecellanalysis.GUI.Qt.MainApplicationWindows.PhoPipelineMainWindow.pyqtplot_MainWindow import PhoPipelineMainWindow\n",
    "from pyphoplacecellanalysis.GUI.PyQtPlot.Widgets.DockAreaWrapper import DockAreaWrapper, PhoDockAreaContainingWindow\n",
    "from pyphoplacecellanalysis.GUI.PyQtPlot.Widgets.Mixins.RenderTimeEpochs.TestBackgroundWorker import WorkerSignals, Worker"
   ]
  },
  {
   "cell_type": "code",
   "execution_count": 11,
   "id": "dfe66e01-31f6-40f9-ad8c-bccce0e4a40b",
   "metadata": {},
   "outputs": [
    {
     "name": "stdout",
     "output_type": "stream",
     "text": [
      "Multithreading with maximum 20 threads\n"
     ]
    },
    {
     "data": {
      "text/plain": [
       "<__main__.MainWindow at 0x2a244bad430>"
      ]
     },
     "execution_count": 11,
     "metadata": {},
     "output_type": "execute_result"
    },
    {
     "name": "stderr",
     "output_type": "stream",
     "text": [
      "C:\\Users\\pho\\AppData\\Local\\Temp\\ipykernel_4844\\1443958883.py:37: DeprecationWarning: an integer is required (got type float).  Implicit conversion to integers using __int__ is deprecated, and may be removed in a future version of Python.\n",
      "  progress_callback.emit(n*100/4)\n"
     ]
    },
    {
     "name": "stdout",
     "output_type": "stream",
     "text": [
      "0% done\n",
      "25% done\n",
      "50% done\n",
      "75% done\n",
      "100% done\n",
      "Done.\n",
      "THREAD COMPLETE!\n"
     ]
    }
   ],
   "source": [
    "class MainWindow(QtWidgets.QMainWindow):\n",
    "    def __init__(self, *args, **kwargs):\n",
    "        super(MainWindow, self).__init__(*args, **kwargs)\n",
    "\n",
    "        self.counter = 0\n",
    "\n",
    "        layout = QtWidgets.QVBoxLayout()\n",
    "\n",
    "        self.l = QtWidgets.QLabel(\"Start\")\n",
    "        b = QtWidgets.QPushButton(\"DANGER!\")\n",
    "        b.pressed.connect(self.oh_no)\n",
    "\n",
    "        layout.addWidget(self.l)\n",
    "        layout.addWidget(b)\n",
    "\n",
    "        w = QtWidgets.QWidget()\n",
    "        w.setLayout(layout)\n",
    "\n",
    "        self.setCentralWidget(w)\n",
    "\n",
    "        self.show()\n",
    "\n",
    "        self.threadpool = QtCore.QThreadPool()\n",
    "        print(\"Multithreading with maximum %d threads\" % self.threadpool.maxThreadCount())\n",
    "\n",
    "        self.timer = QtCore.QTimer()\n",
    "        self.timer.setInterval(1000)\n",
    "        self.timer.timeout.connect(self.recurring_timer)\n",
    "        self.timer.start()\n",
    "\n",
    "    def progress_fn(self, n):\n",
    "        print(\"%d%% done\" % n)\n",
    "\n",
    "    def execute_this_fn(self, progress_callback):\n",
    "        for n in range(0, 5):\n",
    "            time.sleep(1)\n",
    "            progress_callback.emit(n*100/4)\n",
    "\n",
    "        return \"Done.\"\n",
    "\n",
    "    def print_output(self, s):\n",
    "        print(s)\n",
    "\n",
    "    def thread_complete(self):\n",
    "        print(\"THREAD COMPLETE!\")\n",
    "\n",
    "    def oh_no(self):\n",
    "        # Pass the function to execute\n",
    "        worker = Worker(self.execute_this_fn) # Any other args, kwargs are passed to the run function\n",
    "        worker.signals.result.connect(self.print_output)\n",
    "        worker.signals.finished.connect(self.thread_complete)\n",
    "        worker.signals.progress.connect(self.progress_fn)\n",
    "\n",
    "        # Execute\n",
    "        self.threadpool.start(worker)\n",
    "\n",
    "\n",
    "    def recurring_timer(self):\n",
    "        self.counter +=1\n",
    "        self.l.setText(\"Counter: %d\" % self.counter)\n",
    "        \n",
    "\n",
    "app = pg.mkQApp('PyQt_MultiThreading_Testing')\n",
    "# app = QtWidgets.QApplication([])\n",
    "window = MainWindow()\n",
    "# app.exec_()\n",
    "window"
   ]
  }
 ],
 "metadata": {
  "kernelspec": {
   "display_name": "Python [conda env:phoviz_ultimate]",
   "language": "python",
   "name": "conda-env-phoviz_ultimate-py"
  },
  "language_info": {
   "codemirror_mode": {
    "name": "ipython",
    "version": 3
   },
   "file_extension": ".py",
   "mimetype": "text/x-python",
   "name": "python",
   "nbconvert_exporter": "python",
   "pygments_lexer": "ipython3",
   "version": "3.9.12"
  }
 },
 "nbformat": 4,
 "nbformat_minor": 5
}
