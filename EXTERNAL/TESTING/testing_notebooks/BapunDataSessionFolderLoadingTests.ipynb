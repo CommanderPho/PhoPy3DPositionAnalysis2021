{
 "cells": [
  {
   "cell_type": "code",
   "execution_count": 6,
   "id": "0498910e-e0f5-47f5-814b-2ffaa6dfdb89",
   "metadata": {},
   "outputs": [
    {
     "name": "stdout",
     "output_type": "stream",
     "text": [
      "The autoreload extension is already loaded. To reload it, use:\n",
      "  %reload_ext autoreload\n"
     ]
    }
   ],
   "source": [
    "#!/usr/bin/env python3\n",
    "# -*- coding: utf-8 -*-\n",
    "\"\"\"\n",
    "@author: pho\n",
    "\"\"\"\n",
    "%load_ext autoreload\n",
    "%autoreload 2\n",
    "import sys\n",
    "import importlib\n",
    "import numpy as np\n",
    "import pandas as pd\n",
    "from pathlib import Path\n",
    "\n",
    "# NeuroPy (Diba Lab Python Repo) Loading\n",
    "from neuropy import core\n",
    "from neuropy.core.session.data_session_loader import DataSessionLoader\n",
    "from neuropy.core.session.dataSession import DataSession\n",
    "from neuropy.utils.debug_helpers import debug_print_placefield, debug_print_spike_counts, debug_print_subsession_neuron_differences\n",
    "# from neuropy.utils.mixins.time_slicing import verify_non_overlapping, add_PBE_identity"
   ]
  },
  {
   "cell_type": "markdown",
   "id": "a1b847b0-7a81-4153-82fa-748fd9bd6c14",
   "metadata": {},
   "source": [
    "## Bapun Format:"
   ]
  },
  {
   "cell_type": "code",
   "execution_count": 3,
   "id": "9565ff40-d05f-437f-82b2-7f215fd708a6",
   "metadata": {},
   "outputs": [
    {
     "name": "stdout",
     "output_type": "stream",
     "text": [
      "\t basepath: R:\\data\\Bapun\\Day5TwoNovel\n",
      "\t session_name: RatS-Day5TwoNovel-2020-12-04_07-55-09\n",
      "converting neuron_type strings to core.neurons.NeuronType objects...\n",
      "\t done.\n",
      "Issue with pickled POSIX_PATH on windows for path R:\\data\\Bapun\\Day5TwoNovel\\RatS-Day5TwoNovel-2020-12-04_07-55-09.probegroup.npy, falling back to non-pickled version...\n",
      "Position falling back to legacy loading protocol...: dict_rep: {'traces': array([[-50.946354, -50.946354, -50.946354, ..., -45.350155, -45.350155,\n",
      "        -45.350155],\n",
      "       [-50.646282, -50.646282, -50.646282, ...,  64.150757,  64.150757,\n",
      "         64.150757],\n",
      "       [  7.124897,   7.124897,   7.124897, ...,   5.571329,   5.571329,\n",
      "          5.571329]]), 'computed_traces': array([[nan, nan, nan, ..., nan, nan, nan]]), 't_start': 0, 'sampling_rate': 60, 'metadata': None}\n",
      "linearized position loaded from file.\n",
      "Loading success: .flattened.spikes.npy.\n",
      "Loading success: .ripple.npy.\n",
      "Loading success: .mua.npy.\n",
      "Loading success: .pbe.npy.\n",
      "encounter KeyError 't_rel_seconds' when attempting to access spk_df using its spk_df.spikes.time_variable_name variable. Original spk_df.spikes.time_variable_name: \"t_rel_seconds\". Changing it to \"t_seconds\" and proceeding forward\n",
      "WARNING: SpikesAccessor.set_time_variable_name(new_time_variable_name: t_seconds) has been called. Be careful!\n",
      "\t time variable changed!\n",
      "Computing added spike scISI column results to filepath?... done.\n"
     ]
    },
    {
     "data": {
      "text/plain": [
       "True"
      ]
     },
     "execution_count": 3,
     "metadata": {},
     "output_type": "execute_result"
    }
   ],
   "source": [
    "## Load the Data Session:\n",
    "# basedir = '/media/share/data/Bapun/Day5TwoNovel' # Linux\n",
    "basedir = Path('R:\\data\\Bapun\\Day5TwoNovel') # Windows\n",
    "sess = DataSessionLoader.bapun_data_session(basedir)\n",
    "sess"
   ]
  },
  {
   "cell_type": "markdown",
   "id": "d4bca1e4-77d4-4a42-9883-57f0ff6431d4",
   "metadata": {},
   "source": [
    "## Show PBEs:"
   ]
  },
  {
   "cell_type": "code",
   "execution_count": 7,
   "id": "29ca4b21-bf56-4422-83fb-5198cc9b723b",
   "metadata": {},
   "outputs": [
    {
     "name": "stdout",
     "output_type": "stream",
     "text": [
      "pbe_only_spikes_df:           flat_spike_idx     t_seconds  aclu  unit_id  \\\n",
      "354                  354      1.650067     0        0   \n",
      "355                  355      1.651167     6        6   \n",
      "356                  356      1.653400    89       89   \n",
      "357                  357      1.654233    51       51   \n",
      "358                  358      1.659933    67       67   \n",
      "...                  ...           ...   ...      ...   \n",
      "16281424        16281424  42178.350900    15       15   \n",
      "16281425        16281425  42178.355067    67       67   \n",
      "16281426        16281426  42178.356133     4        4   \n",
      "16281427        16281427  42178.360967    66       66   \n",
      "16281428        16281428  42178.361900    81       81   \n",
      "\n",
      "                        cell_type          x          y  linear_pos  speed  \\\n",
      "354       NeuronType.CONTAMINATED -50.946354 -50.646282         NaN    0.0   \n",
      "355       NeuronType.INTERNEURONS -50.946354 -50.646282         NaN    0.0   \n",
      "356       NeuronType.CONTAMINATED -50.946354 -50.646282         NaN    0.0   \n",
      "357       NeuronType.INTERNEURONS -50.946354 -50.646282         NaN    0.0   \n",
      "358       NeuronType.INTERNEURONS -50.946354 -50.646282         NaN    0.0   \n",
      "...                           ...        ...        ...         ...    ...   \n",
      "16281424  NeuronType.CONTAMINATED -45.350155  64.150757         NaN    0.0   \n",
      "16281425  NeuronType.INTERNEURONS -45.350155  64.150757         NaN    0.0   \n",
      "16281426  NeuronType.CONTAMINATED -45.350155  64.150757         NaN    0.0   \n",
      "16281427  NeuronType.CONTAMINATED -45.350155  64.150757         NaN    0.0   \n",
      "16281428  NeuronType.CONTAMINATED -45.350155  64.150757         NaN    0.0   \n",
      "\n",
      "                     t  PBE_id     scISI  \n",
      "354       1.650067e+04       0  0.054833  \n",
      "355       1.651167e+04       0  0.062367  \n",
      "356       1.653400e+04       0  0.087067  \n",
      "357       1.654233e+04       0  0.007467  \n",
      "358       1.659933e+04       0  0.080700  \n",
      "...                ...     ...       ...  \n",
      "16281424  4.217835e+08   10959  0.014167  \n",
      "16281425  4.217836e+08   10959  0.014467  \n",
      "16281426  4.217836e+08   10959  0.005767  \n",
      "16281427  4.217836e+08   10959  0.056433  \n",
      "16281428  4.217836e+08   10959  0.024067  \n",
      "\n",
      "[2537712 rows x 12 columns]\n"
     ]
    },
    {
     "data": {
      "text/plain": [
       "           start       stop  duration label\n",
       "0          1.647      1.787     0.140      \n",
       "1          3.716      3.961     0.245      \n",
       "2          5.053      5.265     0.212      \n",
       "3          6.974      7.138     0.164      \n",
       "4          7.342      7.483     0.141      \n",
       "...          ...        ...       ...   ...\n",
       "10955  42165.514  42165.632     0.118      \n",
       "10956  42174.822  42174.940     0.118      \n",
       "10957  42174.974  42175.086     0.112      \n",
       "10958  42176.574  42176.758     0.184      \n",
       "10959  42178.219  42178.366     0.147      \n",
       "\n",
       "[10960 rows x 4 columns]"
      ]
     },
     "execution_count": 7,
     "metadata": {},
     "output_type": "execute_result"
    }
   ],
   "source": [
    "# Here we look at the population burst events (PBEs):\n",
    "\n",
    "# get only the spikes that occur during PBEs:\n",
    "pbe_only_spikes_df = sess.spikes_df[(sess.spikes_df.PBE_id > -1)]\n",
    "print(f'pbe_only_spikes_df: {pbe_only_spikes_df }')\n",
    "print(f'sess.pbe: {sess.pbe}') #[10960 rows x 4 columns]\n",
    "sess.pbe"
   ]
  }
 ],
 "metadata": {
  "celltoolbar": "Tags",
  "interpreter": {
   "hash": "fde6e68fa8f5f4f0920a88ee99edd8d4121f14a57a7800ceb19ed197f25c05dc"
  },
  "kernelspec": {
   "display_name": "Python [conda env:phoviz_ultimate]",
   "language": "python",
   "name": "conda-env-phoviz_ultimate-py"
  },
  "language_info": {
   "codemirror_mode": {
    "name": "ipython",
    "version": 3
   },
   "file_extension": ".py",
   "mimetype": "text/x-python",
   "name": "python",
   "nbconvert_exporter": "python",
   "pygments_lexer": "ipython3",
   "version": "3.9.12"
  },
  "scenes_data": {
   "active_scene": "Default Scene",
   "init_scene": "",
   "scenes": [
    "Default Scene"
   ]
  }
 },
 "nbformat": 4,
 "nbformat_minor": 5
}
