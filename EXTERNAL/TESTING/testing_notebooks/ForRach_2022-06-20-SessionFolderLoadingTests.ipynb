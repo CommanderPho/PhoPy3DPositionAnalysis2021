{
 "cells": [
  {
   "cell_type": "code",
   "execution_count": 27,
   "id": "f6088dc9",
   "metadata": {
    "tags": []
   },
   "outputs": [
    {
     "name": "stdout",
     "output_type": "stream",
     "text": [
      "The autoreload extension is already loaded. To reload it, use:\n",
      "  %reload_ext autoreload\n"
     ]
    }
   ],
   "source": [
    "#!/usr/bin/env python3\n",
    "# -*- coding: utf-8 -*-\n",
    "\"\"\"\n",
    "@author: pho\n",
    "\"\"\"\n",
    "%load_ext autoreload\n",
    "%autoreload 2\n",
    "import sys\n",
    "import importlib\n",
    "from threading import Thread\n",
    "import time # for time.sleep\n",
    "import numpy as np\n",
    "import h5py\n",
    "import hdf5storage # conda install hdf5storage\n",
    "from pathlib import Path"
   ]
  },
  {
   "cell_type": "code",
   "execution_count": 28,
   "id": "313eba69-5c27-4e2d-8563-2220af614aea",
   "metadata": {},
   "outputs": [],
   "source": [
    "from pyphoplacecellanalysis.PhoPositionalData.analysis.interactive_placeCell_config import *"
   ]
  },
  {
   "cell_type": "code",
   "execution_count": 29,
   "id": "7e52165d-0476-4375-b16e-960818c4d170",
   "metadata": {},
   "outputs": [],
   "source": [
    "# NeuroPy (Diba Lab Python Repo) Loading\n",
    "from neuropy import core\n",
    "from neuropy.core.dataSession import SessionFolderSpec, DataSessionLoader, DataSession, processDataSession\n",
    "\n",
    "## Data must be pre-processed using the MATLAB script located here: \n",
    "# R:\\data\\KDIBA\\gor01\\one\\IIDataMat_Export_ToPython_2021_11_23.m\n",
    "\n",
    "# From pre-computed .mat files:\n",
    "## 07: \n",
    "basedir = r'R:\\data\\KDIBA\\gor01\\one\\2006-6-07_11-26-53'\n",
    "# spike_file = r'R:\\data\\KDIBA\\gor01\\one\\2006-6-07_11-26-53\\2006-6-07_11-26-53.spikeII.mat'\n",
    "# neuroscope_xml_file = Path(basedir).joinpath('2006-6-07_11-26-53.xml')\n",
    "\n",
    "# ## 08:\n",
    "# basedir = r'R:\\data\\KDIBA\\gor01\\one\\2006-6-08_14-26-15'\n",
    "# spike_file = r'R:\\data\\KDIBA\\gor01\\one\\2006-6-08_14-26-15\\2006-6-08_14-26-15.spikeII.mat' # '2006-6-08_14-26-15.spikeII.mat' # Contains 'spike' flat structure\n",
    "# neuroscope_xml_file = Path(basedir).joinpath('2006-6-08_14-26-15.xml')\n",
    "\n",
    "# sess = core.processDataSession(basedir)\n",
    "session_name = Path(basedir).parts[-1]"
   ]
  },
  {
   "cell_type": "markdown",
   "id": "5fd7e839-3e80-4c82-aced-952c1f76c1d6",
   "metadata": {
    "tags": []
   },
   "source": [
    "## KDiba Old Format:"
   ]
  },
  {
   "cell_type": "code",
   "execution_count": 9,
   "id": "c20ad004-4968-48b1-befb-55399ab721dc",
   "metadata": {},
   "outputs": [
    {
     "name": "stdout",
     "output_type": "stream",
     "text": [
      "\t basepath: R:\\data\\KDIBA\\gor01\\one\\2006-6-07_11-26-53\n",
      "\t session_name: 2006-6-07_11-26-53\n",
      "Loading matlab import file: R:\\data\\KDIBA\\gor01\\one\\2006-6-07_11-26-53\\2006-6-07_11-26-53.spikeII.mat...\n",
      "done.\n",
      "Loading matlab import file: R:\\data\\KDIBA\\gor01\\one\\2006-6-07_11-26-53\\2006-6-07_11-26-53.epochs_info.mat...\n",
      "done.\n",
      "Loading matlab import file: R:\\data\\KDIBA\\gor01\\one\\2006-6-07_11-26-53\\2006-6-07_11-26-53.position_info.mat...\n",
      "done.\n",
      "computing linear positions for all active epochs for session...\n",
      "Saving updated position results to R:\\data\\KDIBA\\gor01\\one\\2006-6-07_11-26-53\\2006-6-07_11-26-53.position.npy...\n",
      "2006-6-07_11-26-53.position.npy saved\n",
      "done.\n",
      "\n",
      "session.position linear positions computed!\n"
     ]
    },
    {
     "data": {
      "text/plain": [
       "True"
      ]
     },
     "execution_count": 9,
     "metadata": {},
     "output_type": "execute_result"
    }
   ],
   "source": [
    "# KDiba Old Format:\n",
    "sess = DataSessionLoader.kdiba_old_format_session(r'R:\\data\\KDIBA\\gor01\\one\\2006-6-07_11-26-53')\n",
    "sess.is_resolved"
   ]
  },
  {
   "cell_type": "markdown",
   "id": "a1b847b0-7a81-4153-82fa-748fd9bd6c14",
   "metadata": {},
   "source": [
    "## Bapun Format:"
   ]
  },
  {
   "cell_type": "code",
   "execution_count": 1,
   "id": "ff5cd8e6-1b1f-4466-8038-5b0654d2d436",
   "metadata": {},
   "outputs": [
    {
     "ename": "NameError",
     "evalue": "name 'Path' is not defined",
     "output_type": "error",
     "traceback": [
      "\u001b[1;31m---------------------------------------------------------------------------\u001b[0m",
      "\u001b[1;31mNameError\u001b[0m                                 Traceback (most recent call last)",
      "Input \u001b[1;32mIn [1]\u001b[0m, in \u001b[0;36m<cell line: 3>\u001b[1;34m()\u001b[0m\n\u001b[0;32m      1\u001b[0m \u001b[38;5;66;03m## Bapun Format:\u001b[39;00m\n\u001b[0;32m      2\u001b[0m \u001b[38;5;66;03m# basedir = '/media/share/data/Bapun/Day5TwoNovel' # Linux\u001b[39;00m\n\u001b[1;32m----> 3\u001b[0m basedir \u001b[38;5;241m=\u001b[39m \u001b[43mPath\u001b[49m(\u001b[38;5;124m'\u001b[39m\u001b[38;5;124mR:\u001b[39m\u001b[38;5;124m\\\u001b[39m\u001b[38;5;124mdata\u001b[39m\u001b[38;5;124m\\\u001b[39m\u001b[38;5;124mBapun\u001b[39m\u001b[38;5;124m\\\u001b[39m\u001b[38;5;124mDay5TwoNovel\u001b[39m\u001b[38;5;124m'\u001b[39m) \u001b[38;5;66;03m# Windows\u001b[39;00m\n\u001b[0;32m      4\u001b[0m \u001b[38;5;66;03m# basedir = '/Volumes/iNeo/Data/Bapun/Day5TwoNovel' # MacOS\u001b[39;00m\n\u001b[0;32m      5\u001b[0m sess \u001b[38;5;241m=\u001b[39m DataSessionLoader\u001b[38;5;241m.\u001b[39mbapun_data_session(basedir)\n",
      "\u001b[1;31mNameError\u001b[0m: name 'Path' is not defined"
     ]
    }
   ],
   "source": [
    "## Bapun Format:\n",
    "# basedir = '/media/share/data/Bapun/Day5TwoNovel' # Linux\n",
    "basedir = Path('R:\\data\\Bapun\\Day5TwoNovel') # Windows\n",
    "# basedir = '/Volumes/iNeo/Data/Bapun/Day5TwoNovel' # MacOS\n",
    "sess = DataSessionLoader.bapun_data_session(basedir)\n",
    "sess.is_resolved"
   ]
  },
  {
   "cell_type": "markdown",
   "id": "d4bca1e4-77d4-4a42-9883-57f0ff6431d4",
   "metadata": {},
   "source": [
    "## Other:"
   ]
  },
  {
   "cell_type": "code",
   "execution_count": null,
   "id": "f3a24ebf-d7ab-471b-b0b8-aec236a5606a",
   "metadata": {},
   "outputs": [],
   "source": [
    "session_name = bapun_data_get_session_name(basedir) # 'RatS-Day5TwoNovel-2020-12-04_07-55-09'\n",
    "session_spec = SessionFolderSpec(required=[fname.format(session_name) for fname in ['{}.xml','{}.neurons.npy','{}.probegroup.npy','{}.position.npy','{}.paradigm.npy']])\n",
    "session_config = SessionConfig(basedir, session_spec=session_spec, session_name=session_name)\n",
    "assert session_config.is_resolved, \"active_sess_config could not be resolved!\""
   ]
  },
  {
   "cell_type": "code",
   "execution_count": 2,
   "id": "79b118da-3591-4090-9da1-3e3c27150462",
   "metadata": {},
   "outputs": [
    {
     "ename": "NameError",
     "evalue": "name 'basedir' is not defined",
     "output_type": "error",
     "traceback": [
      "\u001b[1;31m---------------------------------------------------------------------------\u001b[0m",
      "\u001b[1;31mNameError\u001b[0m                                 Traceback (most recent call last)",
      "Input \u001b[1;32mIn [2]\u001b[0m, in \u001b[0;36m<cell line: 10>\u001b[1;34m()\u001b[0m\n\u001b[0;32m      7\u001b[0m     \u001b[38;5;66;03m# print('file_prefix: {}\\nfile_basename: {}'.format(file_prefix, file_basename))\u001b[39;00m\n\u001b[0;32m      8\u001b[0m     \u001b[38;5;28;01mreturn\u001b[39;00m file_basename \u001b[38;5;66;03m# 'RatS-Day5TwoNovel-2020-12-04_07-55-09'\u001b[39;00m\n\u001b[1;32m---> 10\u001b[0m session_name \u001b[38;5;241m=\u001b[39m bapun_data_get_session_name(\u001b[43mbasedir\u001b[49m) \u001b[38;5;66;03m# 'RatS-Day5TwoNovel-2020-12-04_07-55-09'\u001b[39;00m\n\u001b[0;32m     11\u001b[0m session_spec \u001b[38;5;241m=\u001b[39m SessionFolderSpec(required\u001b[38;5;241m=\u001b[39m[fname\u001b[38;5;241m.\u001b[39mformat(session_name) \u001b[38;5;28;01mfor\u001b[39;00m fname \u001b[38;5;129;01min\u001b[39;00m [\u001b[38;5;124m'\u001b[39m\u001b[38;5;132;01m{}\u001b[39;00m\u001b[38;5;124m.xml\u001b[39m\u001b[38;5;124m'\u001b[39m,\u001b[38;5;124m'\u001b[39m\u001b[38;5;132;01m{}\u001b[39;00m\u001b[38;5;124m.neurons.npy\u001b[39m\u001b[38;5;124m'\u001b[39m,\u001b[38;5;124m'\u001b[39m\u001b[38;5;132;01m{}\u001b[39;00m\u001b[38;5;124m.probegroup.npy\u001b[39m\u001b[38;5;124m'\u001b[39m,\u001b[38;5;124m'\u001b[39m\u001b[38;5;132;01m{}\u001b[39;00m\u001b[38;5;124m.position.npy\u001b[39m\u001b[38;5;124m'\u001b[39m,\u001b[38;5;124m'\u001b[39m\u001b[38;5;132;01m{}\u001b[39;00m\u001b[38;5;124m.paradigm.npy\u001b[39m\u001b[38;5;124m'\u001b[39m]])\n\u001b[0;32m     12\u001b[0m session_config \u001b[38;5;241m=\u001b[39m SessionConfig(basedir, session_spec\u001b[38;5;241m=\u001b[39msession_spec, session_name\u001b[38;5;241m=\u001b[39msession_name)\n",
      "\u001b[1;31mNameError\u001b[0m: name 'basedir' is not defined"
     ]
    }
   ],
   "source": [
    "def bapun_data_get_session_name(basedir):\n",
    "    # Find the only .xml file to obtain the session name\n",
    "    xml_files = sorted(basedir.glob(\"*.xml\"))        \n",
    "    assert len(xml_files) == 1, \"Found more than one .xml file\"\n",
    "    file_prefix = xml_files[0].with_suffix(\"\") # gets the session name (basically) without the .xml extension. (R:\\data\\Bapun\\Day5TwoNovel\\RatS-Day5TwoNovel-2020-12-04_07-55-09)   \n",
    "    file_basename = xml_files[0].stem # file_basename: (RatS-Day5TwoNovel-2020-12-04_07-55-09)\n",
    "    # print('file_prefix: {}\\nfile_basename: {}'.format(file_prefix, file_basename))\n",
    "    return file_basename # 'RatS-Day5TwoNovel-2020-12-04_07-55-09'\n",
    "\n",
    "basedir = \n",
    "session_name = bapun_data_get_session_name(basedir) # 'RatS-Day5TwoNovel-2020-12-04_07-55-09'\n",
    "session_spec = SessionFolderSpec(required=[fname.format(session_name) for fname in ['{}.xml','{}.neurons.npy','{}.probegroup.npy','{}.position.npy','{}.paradigm.npy']])\n",
    "session_config = SessionConfig(basedir, session_spec=session_spec, session_name=session_name)\n",
    "assert session_config.is_resolved, \"active_sess_config could not be resolved!\"\n",
    "curr_args_dict = dict()\n",
    "curr_args_dict['basepath'] = session_config.basepath\n",
    "curr_args_dict['session_obj'] = DataSession(session_config)\n",
    "curr = DataSessionLoader._default_load_bapun_npy_session_folder(curr_args_dict)"
   ]
  },
  {
   "cell_type": "code",
   "execution_count": null,
   "id": "e507f227-c6de-4cce-b817-5068ce573504",
   "metadata": {},
   "outputs": [],
   "source": []
  }
 ],
 "metadata": {
  "celltoolbar": "Tags",
  "interpreter": {
   "hash": "fde6e68fa8f5f4f0920a88ee99edd8d4121f14a57a7800ceb19ed197f25c05dc"
  },
  "kernelspec": {
   "display_name": "Python 3 (ipykernel)",
   "language": "python",
   "name": "python3"
  },
  "language_info": {
   "codemirror_mode": {
    "name": "ipython",
    "version": 3
   },
   "file_extension": ".py",
   "mimetype": "text/x-python",
   "name": "python",
   "nbconvert_exporter": "python",
   "pygments_lexer": "ipython3",
   "version": "3.9.10"
  }
 },
 "nbformat": 4,
 "nbformat_minor": 5
}
