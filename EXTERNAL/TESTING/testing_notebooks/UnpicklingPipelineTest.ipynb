{
 "cells": [
  {
   "cell_type": "markdown",
   "id": "d80b4de9-1ce2-4b17-9150-d2b98eba5c07",
   "metadata": {},
   "source": [
    "Load Pickled data saved with:\n",
    "```python\n",
    "export_output_parent_dir = Path(basedir).joinpath('export') # R:\\data\\Hiro\\RoyMaze1\\export\\\n",
    "export_output_parent_dir.mkdir(exist_ok=True, parents=False) # Create the R:\\data\\Hiro\\RoyMaze1\\export\\ directory if it doesn't exist.\n",
    "print(f'export_output_parent_dir: {export_output_parent_dir}')\n",
    "from pyphoplacecellanalysis.General.Pipeline.Stages.Loading import loadData, saveData\n",
    "finalized_computation_results_out_pickle_test_file = export_output_parent_dir.joinpath('computation_results.pkl')\n",
    "print(f'finalized_computation_results_out_pickle_test_file: {str(finalized_computation_results_out_pickle_test_file)}')\n",
    "saveData(finalized_computation_results_out_pickle_test_file, db={'curr_active_pipeline': curr_active_pipeline}) # NeuropyPipeline WORKS!\n",
    "```\n",
    "Saving (file mode 'w+b') loaded session pickle file results to R:\\data\\KDIBA\\gor01\\one\\2006-6-07_11-26-53\\export\\computation_results.pkl... to_dict(...): ['_save_intermediate_spikes_maps', 'config', 'position_srate', 'ndim', '_included_thresh_neurons_indx', '_peak_frate_filter_function', 'ratemap', 'ratemap_spiketrains', 'ratemap_spiketrains_pos', '_filtered_pos_df', '_filtered_spikes_df', 'xbin', 'ybin', 'bin_info']\n",
    "to_dict(...): ['_save_intermediate_spikes_maps', 'config', 'position_srate', 'ndim', '_included_thresh_neurons_indx', '_peak_frate_filter_function', 'ratemap', 'ratemap_spiketrains', 'ratemap_spiketrains_pos', '_filtered_pos_df', '_filtered_spikes_df', 'xbin', 'ybin', 'bin_info']\n",
    "done."
   ]
  },
  {
   "cell_type": "code",
   "execution_count": 6,
   "id": "713df827-456e-4e24-b605-a535b5f35386",
   "metadata": {},
   "outputs": [],
   "source": [
    "from pathlib import Path\n",
    "# import pickle\n",
    "import dill as pickle # requires mamba install dill -c conda-forge\n",
    "import dill.detect\n",
    "import pandas as pd\n",
    "import numpy as np\n",
    "\n",
    "from pyphoplacecellanalysis.General.Pipeline.Stages.Loading import loadData, saveData\n",
    "\n",
    "# finalized_computation_results_out_pickle_test_file = Path(r'R:\\data\\KDIBA\\gor01\\one\\2006-6-07_11-26-53\\export\\computation_results.pkl')\n",
    "finalized_computation_results_out_pickle_test_file = Path(r'W:\\Data\\KDIBA\\gor01\\one\\2006-6-07_11-26-53\\export\\computation_results.pkl')"
   ]
  },
  {
   "cell_type": "code",
   "execution_count": 7,
   "id": "92a0273a-e130-4bc8-847b-0c6d5f464844",
   "metadata": {},
   "outputs": [
    {
     "name": "stdout",
     "output_type": "stream",
     "text": [
      "Loading saved session pickle file results to W:\\Data\\KDIBA\\gor01\\one\\2006-6-07_11-26-53\\export\\computation_results.pkl... done.\n"
     ]
    },
    {
     "data": {
      "text/plain": [
       "{'curr_active_pipeline': <pyphoplacecellanalysis.General.Pipeline.NeuropyPipeline.NeuropyPipeline at 0x24a2c77d220>}"
      ]
     },
     "execution_count": 7,
     "metadata": {},
     "output_type": "execute_result"
    }
   ],
   "source": [
    "db = loadData(finalized_computation_results_out_pickle_test_file, debug_print=False)\n",
    "db"
   ]
  },
  {
   "cell_type": "code",
   "execution_count": 10,
   "id": "eb3d2e2b-9650-47fe-9532-39122541f8b7",
   "metadata": {},
   "outputs": [
    {
     "name": "stdout",
     "output_type": "stream",
     "text": [
      "curr_active_pipeline.active_config_names: ['maze1', 'maze2', 'maze']\n",
      "\t active_config_name: maze\n"
     ]
    }
   ],
   "source": [
    "# list(db.keys())\n",
    "curr_active_pipeline = db['curr_active_pipeline']\n",
    "\n",
    "print(f'curr_active_pipeline.active_config_names: {curr_active_pipeline.active_config_names}')\n",
    "\n",
    "active_config_name = curr_active_pipeline.active_config_names[-1]\n",
    "print(f'\\t active_config_name: {active_config_name}')"
   ]
  },
  {
   "cell_type": "code",
   "execution_count": 12,
   "id": "405e6c70-331a-4c94-8b30-bafb8909c6a4",
   "metadata": {},
   "outputs": [],
   "source": [
    "# Get relevant variables:\n",
    "# curr_active_pipeline is set above, and usable here\n",
    "sess = curr_active_pipeline.filtered_sessions[active_config_name] # DataSession\n",
    "\n",
    "active_computation_results = curr_active_pipeline.computation_results[active_config_name] # ComputationResult\n",
    "active_computed_data = curr_active_pipeline.computation_results[active_config_name].computed_data\n",
    "active_computation_config = curr_active_pipeline.computation_results[active_config_name].computation_config\n",
    "active_computation_errors = curr_active_pipeline.computation_results[active_config_name].accumulated_errors\n",
    "# print(f'active_computed_data.keys(): {list(active_computed_data.keys())}')\n",
    "# print(f'active_computation_errors: {active_computation_errors}')\n",
    "active_pf_1D = curr_active_pipeline.computation_results[active_config_name].computed_data['pf1D']\n",
    "active_pf_2D = curr_active_pipeline.computation_results[active_config_name].computed_data['pf2D']    \n",
    "active_pf_1D_dt = curr_active_pipeline.computation_results[active_config_name].computed_data.get('pf1D_dt', None)\n",
    "active_pf_2D_dt = curr_active_pipeline.computation_results[active_config_name].computed_data.get('pf2D_dt', None)\n",
    "active_firing_rate_trends = curr_active_pipeline.computation_results[active_config_name].computed_data.get('firing_rate_trends', None)\n",
    "active_one_step_decoder = curr_active_pipeline.computation_results[active_config_name].computed_data.get('pf2D_Decoder', None)\n",
    "active_two_step_decoder = curr_active_pipeline.computation_results[active_config_name].computed_data.get('pf2D_TwoStepDecoder', None)\n",
    "active_extended_stats = curr_active_pipeline.computation_results[active_config_name].computed_data.get('extended_stats', None)\n",
    "active_eloy_analysis = curr_active_pipeline.computation_results[active_config_name].computed_data.get('EloyAnalysis', None)\n",
    "active_simpler_pf_densities_analysis = curr_active_pipeline.computation_results[active_config_name].computed_data.get('SimplerNeuronMeetingThresholdFiringAnalysis', None)\n",
    "active_ratemap_peaks_analysis = curr_active_pipeline.computation_results[active_config_name].computed_data.get('RatemapPeaksAnalysis', None)\n",
    "active_peak_prominence_2d_results = curr_active_pipeline.computation_results[active_config_name].computed_data.get('RatemapPeaksAnalysis', {}).get('PeakProminence2D', None)\n",
    "active_measured_positions = curr_active_pipeline.computation_results[active_config_name].sess.position.to_dataframe()\n",
    "curr_spikes_df = sess.spikes_df\n",
    "\n",
    "curr_active_config = curr_active_pipeline.active_configs[active_config_name]\n",
    "curr_active_display_config = curr_active_config.plotting_config"
   ]
  },
  {
   "cell_type": "code",
   "execution_count": 13,
   "id": "106860e2-3916-4eb7-8910-b22a50fab1ed",
   "metadata": {},
   "outputs": [],
   "source": [
    "sess.epochs"
   ]
  },
  {
   "cell_type": "code",
   "execution_count": 14,
   "id": "509a9c90-2136-44be-aa76-f4f7636a50f4",
   "metadata": {},
   "outputs": [],
   "source": [
    "sess.config"
   ]
  },
  {
   "cell_type": "code",
   "execution_count": 15,
   "id": "413bd847-0c32-4f9c-95c9-10d6092c8e5b",
   "metadata": {},
   "outputs": [],
   "source": [
    "sess.neurons"
   ]
  },
  {
   "cell_type": "code",
   "execution_count": 16,
   "id": "25b6eb32-1ac5-4b63-b020-82e767144a17",
   "metadata": {},
   "outputs": [],
   "source": [
    "sess.paradigm"
   ]
  },
  {
   "cell_type": "code",
   "execution_count": 17,
   "id": "d4214f0e-4ddd-4fb1-8143-b3c9c1f8aade",
   "metadata": {},
   "outputs": [
    {
     "data": {
      "text/plain": [
       "<Position: {'_filename': None, '_metadata': None, '_data':                  t           x           y    lin_pos     speed binned_x  \\\n",
       "694      22.267855  228.503636  145.468764 -46.089873  4.527751       54   \n",
       "695      22.301320  228.440530  145.605714 -46.027268  4.519148       54   \n",
       "696      22.334963  228.377562  145.742365 -45.964681  4.509270       54   \n",
       "697      22.367647  228.314608  145.878987 -45.902119  4.508311       54   \n",
       "698      22.401755  228.251478  146.015989 -45.839591  4.520871       54   \n",
       "...            ...         ...         ...        ...       ...      ...   \n",
       "57936  1932.260807  215.972343  140.735481 -25.548001  2.318701       51   \n",
       "57937  1932.293939  215.928577  140.671945 -25.474562  2.312209       51   \n",
       "57938  1932.327608  215.885126  140.608866 -25.425875  2.295551       51   \n",
       "57939  1932.359723  215.841771  140.545926 -25.393508  2.290529       51   \n",
       "57940  1932.393032  215.798054  140.482461 -25.376574  2.309599       51   \n",
       "\n",
       "      binned_y  \n",
       "694         21  \n",
       "695         21  \n",
       "696         21  \n",
       "697         21  \n",
       "698         21  \n",
       "...        ...  \n",
       "57936       16  \n",
       "57937       16  \n",
       "57938       16  \n",
       "57939       16  \n",
       "57940       16  \n",
       "\n",
       "[57247 rows x 7 columns]};>"
      ]
     },
     "execution_count": 17,
     "metadata": {},
     "output_type": "execute_result"
    }
   ],
   "source": [
    "sess.position"
   ]
  },
  {
   "cell_type": "markdown",
   "id": "abc85d51-2fc9-4517-86e7-ae2a9c64f790",
   "metadata": {
    "jp-MarkdownHeadingCollapsed": true,
    "tags": []
   },
   "source": [
    "## Old, specific variable loading"
   ]
  },
  {
   "cell_type": "code",
   "execution_count": null,
   "id": "a8a76d6a-4c78-4721-b3e3-0a8e6ad80204",
   "metadata": {},
   "outputs": [],
   "source": [
    "active_computed_data = db['active_computed_data']\n",
    "print(list(active_computed_data.keys())) # ['pf1D', 'pf2D', 'pf1D_dt', 'pf2D_dt', 'pf2D_Decoder', 'pf2D_TwoStepDecoder', 'EloyAnalysis', 'SimplerNeuronMeetingThresholdFiringAnalysis', 'RatemapPeaksAnalysis', 'extended_stats', 'placefield_overlap', 'firing_rate_trends']"
   ]
  },
  {
   "cell_type": "code",
   "execution_count": null,
   "id": "3d2eea2c-6493-4ec6-afff-18ead502b4aa",
   "metadata": {},
   "outputs": [],
   "source": [
    "active_one_step_decoder = db['active_one_step_decoder'] # BayesianPlacemapPositionDecoder\n",
    "active_two_step_decoder = db['active_two_step_decoder'] # BayesianPlacemapPositionDecoder"
   ]
  },
  {
   "cell_type": "code",
   "execution_count": null,
   "id": "746ab647-69d1-488c-be44-8eb857aed902",
   "metadata": {},
   "outputs": [],
   "source": [
    "active_one_step_decoder.active_time_window_centers"
   ]
  },
  {
   "cell_type": "code",
   "execution_count": null,
   "id": "60f9160e-c280-40e4-b934-c3c4ac6dd0c9",
   "metadata": {},
   "outputs": [],
   "source": [
    "active_one_step_decoder"
   ]
  },
  {
   "cell_type": "code",
   "execution_count": null,
   "id": "604587d3-9be1-40c2-b73f-665bffcd6461",
   "metadata": {},
   "outputs": [],
   "source": []
  }
 ],
 "metadata": {
  "kernelspec": {
   "display_name": "Python [conda env:phoviz_ultimate]",
   "language": "python",
   "name": "conda-env-phoviz_ultimate-py"
  },
  "language_info": {
   "codemirror_mode": {
    "name": "ipython",
    "version": 3
   },
   "file_extension": ".py",
   "mimetype": "text/x-python",
   "name": "python",
   "nbconvert_exporter": "python",
   "pygments_lexer": "ipython3",
   "version": "3.9.13"
  }
 },
 "nbformat": 4,
 "nbformat_minor": 5
}
