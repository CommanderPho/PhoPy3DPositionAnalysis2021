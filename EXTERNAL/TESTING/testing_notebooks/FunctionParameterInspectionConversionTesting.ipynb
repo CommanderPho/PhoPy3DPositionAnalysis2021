{
 "cells": [
  {
   "cell_type": "code",
   "execution_count": 1,
   "id": "81f4400d-4b04-4271-ab91-9c9cdfed3322",
   "metadata": {},
   "outputs": [],
   "source": [
    "import sys\n",
    "import sys\n",
    "import importlib\n",
    "import numpy as np\n",
    "import pandas as pd\n",
    "from pathlib import Path\n",
    "\n",
    "from pyphocorehelpers.general_helpers import get_arguments_as_optional_dict, inspect_callable_arguments, CodeConversion\n",
    "\n",
    "from pyphocorehelpers.mixins.member_enumerating import AllFunctionEnumeratingMixin\n",
    "from pyphoplacecellanalysis.General.Model.ComputationResults import ComputationResult\n",
    "from pyphocorehelpers.DataStructure.dynamic_parameters import DynamicParameters\n",
    "# import pyphoplacecellanalysis.External.pyqtgraph as pg\n",
    "\n",
    "\n",
    "# try:\n",
    "#     from pyqt_find_replace_text_widget.findReplaceTextWidget import FindReplaceTextWidget\n",
    "#     importlib.reload(FindReplaceTextWidget)\n",
    "# except ImportError:\n",
    "#     # r'C:\\Users\\pho\\Links\\Active Resources\\Qt and Python\\Example Applications\\pyqt-find-replace-text-widget-main\\pyqt_find_replace_text_widget'\n",
    "#     sys.path.append(r'C:\\Users\\pho\\Links\\Active Resources\\Qt and Python\\Example Applications\\pyqt-find-replace-text-widget-main')\n",
    "#     print('pyqt_find_replace_text_widget module not found, adding directory to sys.path. \\n >> Updated sys.path.')\n",
    "#     from pyqt_find_replace_text_widget.findReplaceTextWidget import FindReplaceTextWidget\n",
    "    \n",
    "    "
   ]
  },
  {
   "cell_type": "code",
   "execution_count": null,
   "id": "85d95831-f25f-42f7-ac25-7246659128dd",
   "metadata": {},
   "outputs": [],
   "source": [
    "print(stripComments(\"\"\"#foo bar\n",
    "bar foo\n",
    "# buz\"\"\"))"
   ]
  },
  {
   "cell_type": "code",
   "execution_count": null,
   "id": "0d49319f-adb5-477c-bb5d-25b50e2d801f",
   "metadata": {},
   "outputs": [],
   "source": [
    "print(stripComments(\"\"\"#foo bar\n",
    "bar foo # extended comment on bar foo line\n",
    "# buz\"\"\"))"
   ]
  },
  {
   "cell_type": "markdown",
   "id": "8dccfaa9-39b6-4bf4-aaa2-16b33ab649e4",
   "metadata": {
    "jp-MarkdownHeadingCollapsed": true,
    "tags": []
   },
   "source": [
    "# Introspection Testing"
   ]
  },
  {
   "cell_type": "code",
   "execution_count": null,
   "id": "13879f04-ffc9-43f3-92e6-627e2986e1d9",
   "metadata": {},
   "outputs": [],
   "source": [
    "# __code__\n",
    "# DefaultDisplayFunctions.get_all_function_names()\n",
    "\n",
    "active_fcn = DefaultDisplayFunctions._display_normal\n",
    "function_code = active_fcn.__code__\n",
    "code_string = function_code.co_code\n",
    "variable_names = function_code.co_varnames\n",
    "variable_default_values = active_fcn.__defaults__\n",
    "\n",
    "print(f'code_string: {code_string}\\nvariable_names: {variable_names}\\nvariable_default_values: {variable_default_values}')\n",
    "\n",
    "\"\"\"\n",
    "    co_nlocals — is the number of local variables used by the function (including arguments).\n",
    "    co_argcount — is the total number of positional arguments (including positional-only arguments and arguments with default values).\n",
    "    co_varnames — is a tuple containing the names of the local variables (starting with the argument names).\n",
    "    co_names — is a tuple containing the names used by the bytecode.\n",
    "    co_cellvars — is a tuple containing the names of local variables that are referenced by nested functions.\n",
    "    co_freevars — is a tuple containing the names of free variables; co_code is a string representing the sequence of bytecode instructions.\n",
    "    co_posonlyargcount — is the number of positional-only arguments (including arguments with default values).\n",
    "    co_kwonlyargcount — is the number of keyword-only arguments (including arguments with default values).\n",
    "    co_firstlineno — is the first line number of the function.\n",
    "    co_lnotab — is a string encoding the mapping from bytecode offsets to line numbers (for details see the source code of the interpreter).\n",
    "    co_stacksize — is the required stack size.\n",
    "    co_code — is a string representing the sequence of bytecode instructions.\n",
    "    co_consts — is a tuple containing the literals used by the bytecode.\n",
    "    co_flags — is an integer encoding a number of flags for the interpreter.\n",
    "\"\"\"\n",
    "\n",
    "# '_display_normal'"
   ]
  },
  {
   "cell_type": "code",
   "execution_count": null,
   "id": "8a8edd19-6611-4f0a-95c2-fa7d86e357db",
   "metadata": {
    "pycharm": {
     "is_executing": false,
     "name": "#%%\n"
    }
   },
   "outputs": [],
   "source": [
    "function_code.co_nlocals"
   ]
  },
  {
   "cell_type": "code",
   "execution_count": null,
   "id": "f2924815-3dad-47fc-926b-3df340a4c72a",
   "metadata": {
    "pycharm": {
     "is_executing": false,
     "name": "#%%\n"
    }
   },
   "outputs": [],
   "source": [
    "function_code.co_varnames"
   ]
  },
  {
   "cell_type": "code",
   "execution_count": null,
   "id": "9be5a723-4523-462f-8e8e-c06e131cef41",
   "metadata": {
    "pycharm": {
     "is_executing": false,
     "name": "#%%\n"
    }
   },
   "outputs": [],
   "source": [
    "function_code.co_names # ('computation_config', 'plot_all_placefields', 'computed_data')"
   ]
  },
  {
   "cell_type": "code",
   "execution_count": null,
   "id": "13c000e2-2587-4471-ae47-2b23da961280",
   "metadata": {
    "pycharm": {
     "is_executing": false,
     "name": "#%%\n"
    }
   },
   "outputs": [],
   "source": [
    "function_code.co_posonlyargcount"
   ]
  },
  {
   "cell_type": "code",
   "execution_count": null,
   "id": "2020fcd3-bdf6-4f7f-8ada-51cd55cd09dc",
   "metadata": {
    "pycharm": {
     "is_executing": false,
     "name": "#%%\n"
    }
   },
   "outputs": [],
   "source": [
    "function_code.co_kwonlyargcount"
   ]
  },
  {
   "cell_type": "markdown",
   "id": "32ac5ec9-4121-419c-9596-63a96aca6a68",
   "metadata": {},
   "source": [
    "# Conversion Testing"
   ]
  },
  {
   "cell_type": "code",
   "execution_count": null,
   "id": "fb00dc11-92ea-432f-aef8-89efb0c5ea51",
   "metadata": {},
   "outputs": [],
   "source": [
    "def _private_test_parameters_defns_code_function():\n",
    "    max_num_spikes_per_neuron = 20000 # the number of spikes to truncate each neuron's timeseries to\n",
    "    kleinberg_parameters = DynamicParameters(s=2, gamma=0.1)\n",
    "    use_progress_bar = False # whether to use a tqdm progress bar\n",
    "    debug_print = False # whether to print debug-level progress using traditional print(...) statements\n",
    "    \n",
    "    _local_variables = locals()\n",
    "    names = list(_local_variables.keys())\n",
    "    values = list(_local_variables.values())\n",
    "    # print(_private_test_parameters_defns_code_function.__code__.co_varnames)\n",
    "    # _private_test_parameters_defns_code_function.__defaults__\n",
    "    print(_local_variables)\n",
    "    \n",
    "_private_test_parameters_defns_code_function()"
   ]
  },
  {
   "cell_type": "code",
   "execution_count": 2,
   "id": "73c03731-d358-4d8d-b09c-bf39d066931d",
   "metadata": {},
   "outputs": [
    {
     "data": {
      "text/plain": [
       "\"\\nmax_num_spikes_per_neuron = 20000 # the number of spikes to truncate each neuron's timeseries to\\nkleinberg_parameters = DynamicParameters(s=2, gamma=0.1)\\nuse_progress_bar = False # whether to use a tqdm progress bar\\ndebug_print = False # whether to print debug-level progress using traditional print(...) statements\\n\""
      ]
     },
     "execution_count": 2,
     "metadata": {},
     "output_type": "execute_result"
    }
   ],
   "source": [
    "test_parameters_defns_code_string = \"\"\"\n",
    "max_num_spikes_per_neuron = 20000 # the number of spikes to truncate each neuron's timeseries to\n",
    "kleinberg_parameters = DynamicParameters(s=2, gamma=0.1)\n",
    "use_progress_bar = False # whether to use a tqdm progress bar\n",
    "debug_print = False # whether to print debug-level progress using traditional print(...) statements\n",
    "\"\"\"\n",
    "test_parameters_defns_code_string"
   ]
  },
  {
   "cell_type": "code",
   "execution_count": 3,
   "id": "b362198c-475a-4001-a114-f622028d6fb2",
   "metadata": {},
   "outputs": [
    {
     "data": {
      "text/plain": [
       "\"{\\n    'max_num_spikes_per_neuron': 20000,\\n    'kleinberg_parameters': DynamicParameters(s=2, gamma=0.1),\\n    'use_progress_bar': False,\\n    'debug_print': False\\n}\\n\""
      ]
     },
     "execution_count": 3,
     "metadata": {},
     "output_type": "execute_result"
    }
   ],
   "source": [
    "CodeConversion.convert_defn_lines_to_dictionary(test_parameters_defns_code_string)\n",
    "\n",
    "    "
   ]
  },
  {
   "cell_type": "code",
   "execution_count": null,
   "id": "73a54811-694b-4b47-acab-8342c4d8e5e8",
   "metadata": {},
   "outputs": [],
   "source": [
    "active_str = convert_defn_lines_to_dictionary(test_parameters_defns_code_string, multiline_dict_defn=False)\n",
    "active_str"
   ]
  },
  {
   "cell_type": "code",
   "execution_count": null,
   "id": "02fda4b5-a41d-4efe-b55f-561ac0e259e6",
   "metadata": {},
   "outputs": [],
   "source": [
    "print(convert_defn_lines_to_dictionary(test_parameters_defns_code_string, multiline_dict_defn=True))"
   ]
  },
  {
   "cell_type": "code",
   "execution_count": 4,
   "id": "7e79c92d-d521-4f7b-b8d4-28fc3ff9b254",
   "metadata": {},
   "outputs": [],
   "source": [
    "CodeConversion.convert_defn_lines_to_parameters_list(test_parameters_defns_code_string) # 'max_num_spikes_per_neuron=20000, kleinberg_parameters=DynamicParameters(s=2, gamma=0.1), use_progress_bar=False, debug_print=False'"
   ]
  },
  {
   "cell_type": "code",
   "execution_count": 4,
   "id": "93a82320-5582-4a98-a544-956ecd6fc374",
   "metadata": {},
   "outputs": [
    {
     "data": {
      "text/plain": [
       "'max_num_spikes_per_neuron=20000, kleinberg_parameters=DynamicParameters(s=2, gamma=0.1), use_progress_bar=False, debug_print=False'"
      ]
     },
     "execution_count": 4,
     "metadata": {},
     "output_type": "execute_result"
    }
   ],
   "source": []
  },
  {
   "cell_type": "markdown",
   "id": "6097ed32-5c36-4a2e-a654-95b360402be4",
   "metadata": {
    "jp-MarkdownHeadingCollapsed": true,
    "tags": []
   },
   "source": [
    "# GUI/Interface Stuff"
   ]
  },
  {
   "cell_type": "code",
   "execution_count": null,
   "id": "ffc40226-a00e-4a45-9378-791c51d5a9c7",
   "metadata": {},
   "outputs": [],
   "source": [
    "layout = pg.widgets.GraphicsLayoutWidget()\n",
    "\n"
   ]
  },
  {
   "cell_type": "code",
   "execution_count": null,
   "id": "78c8522d-71ac-4849-8e0c-81e875501937",
   "metadata": {},
   "outputs": [],
   "source": [
    "\n",
    "\n",
    "\n",
    "\n",
    "\n",
    "class MainWindow(QMainWindow):\n",
    "    def __init__(self):\n",
    "        super().__init__()\n",
    "        self.__initUi()\n",
    "\n",
    "    def __initUi(self):\n",
    "        self.__te = QTextEdit()\n",
    "        self.__te.setStyleSheet('QTextEdit { selection-background-color: lightblue; }')\n",
    "\n",
    "        self.__w = FindReplaceTextWidget(self.__te)\n",
    "\n",
    "        lay = QGridLayout()\n",
    "        lay.addWidget(self.__w)\n",
    "        lay.addWidget(self.__te)\n",
    "\n",
    "        mainWidget = QWidget()\n",
    "        mainWidget.setLayout(lay)\n",
    "\n",
    "        self.setCentralWidget(mainWidget)\n",
    "\n",
    "\n",
    "if __name__ == \"__main__\":\n",
    "    import sys\n",
    "\n",
    "    app = QApplication(sys.argv)\n",
    "    mainWindow = MainWindow()\n",
    "    mainWindow.show()\n",
    "    sys.exit(app.exec_())"
   ]
  },
  {
   "cell_type": "code",
   "execution_count": null,
   "id": "8601c64f-8c9f-4077-b50c-2a155be261a3",
   "metadata": {},
   "outputs": [],
   "source": []
  }
 ],
 "metadata": {
  "kernelspec": {
   "display_name": "Python [conda env:phoviz_ultimate]",
   "language": "python",
   "name": "conda-env-phoviz_ultimate-py"
  },
  "language_info": {
   "codemirror_mode": {
    "name": "ipython",
    "version": 3
   },
   "file_extension": ".py",
   "mimetype": "text/x-python",
   "name": "python",
   "nbconvert_exporter": "python",
   "pygments_lexer": "ipython3",
   "version": "3.9.12"
  }
 },
 "nbformat": 4,
 "nbformat_minor": 5
}
