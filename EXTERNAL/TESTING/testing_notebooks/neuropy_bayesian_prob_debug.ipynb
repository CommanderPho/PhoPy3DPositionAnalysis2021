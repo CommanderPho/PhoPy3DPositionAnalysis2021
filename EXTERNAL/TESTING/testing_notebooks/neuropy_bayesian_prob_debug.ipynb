{
 "cells": [
  {
   "cell_type": "code",
   "execution_count": 143,
   "id": "10766ae8-681d-470f-b8d8-a0690a4ca919",
   "metadata": {},
   "outputs": [],
   "source": [
    "from copy import deepcopy\n",
    "from pathlib import Path\n",
    "import pathlib\n",
    "\n",
    "import numpy as np\n",
    "import pandas as pd\n",
    "from scipy.special import factorial\n",
    "\n",
    "def neuropy_bayesian_prob(tau, P_x, F, n, use_flat_computation_mode=True, debug_print=False):\n",
    "    \"\"\" \n",
    "        n_i: the number of spikes fired by each cell during the time window of consideration\n",
    "        use_flat_computation_mode: bool - if True, a more memory efficient accumulating computation is performed that avoids `MemoryError: Unable to allocate 65.4 GiB for an array with shape (3969, 21896, 101) and data type float64` caused by allocating the full `cell_prob` matrix\n",
    "            ERROR: it looks like this `use_flat_computation_mode` broke things and the outputs have been all-NaNs ever since?\n",
    "\n",
    "\n",
    "    NOTES: Flat vs. Full computation modes:\n",
    "    Originally \n",
    "        cell_prob = np.zeros((nFlatPositionBins, nTimeBins, nCells)) \n",
    "    This was updated throughout the loop, and then after the loop completed np.prod(cell_prob, axis=2) was used to collapse along axis=2 (nCells), leaving the output posterior with dimensions (nFlatPositionBins, nTimeBins)\n",
    "\n",
    "    To get around this, I introduced a version that accumulates the multilications over the course of the loop.\n",
    "        cell_prob = np.zeros((nFlatPositionBins, nTimeBins))\n",
    "\n",
    "    \"\"\"\n",
    "    assert(len(n) == np.shape(F)[1]), f'n must be a column vector with an entry for each place cell (neuron). Instead it is of np.shape(n): {np.shape(n)}. np.shape(F): {np.shape(F)}'        \n",
    "    if debug_print:\n",
    "        print(f'np.shape(P_x): {np.shape(P_x)}, np.shape(F): {np.shape(F)}, np.shape(n): {np.shape(n)}')\n",
    "    # np.shape(P_x): (1066, 1), np.shape(F): (1066, 66), np.shape(n): (66, 3530)\n",
    "    \n",
    "    nCells = n.shape[0]\n",
    "    nTimeBins = n.shape[1] # many time_bins\n",
    "    nFlatPositionBins = np.shape(P_x)[0]\n",
    "\n",
    "    F = F.T # Transpose F so it's of the right form\n",
    "    n = n.astype(F.dtype) # convert the data type of n\n",
    "    \n",
    "    if use_flat_computation_mode:\n",
    "        ## Single-cell flat version which updates each iteration:\n",
    "        # cell_prob = np.zeros((nFlatPositionBins, nTimeBins), dtype=F.dtype) ## MemoryError: Unable to allocate 65.4 GiB for an array with shape (3969, 21896, 101) and data type float64\n",
    "        cum_cell_prob = np.ones((nFlatPositionBins, nTimeBins), dtype=F.dtype)\n",
    "        \n",
    "    else:\n",
    "        # Full Version which leads to MemoryError when nCells is too large:\n",
    "        cell_prob = np.zeros((nFlatPositionBins, nTimeBins, nCells)) ## MemoryError: Unable to allocate 65.4 GiB for an array with shape (3969, 21896, 101) and data type float64\n",
    "\n",
    "    for cell in np.arange(nCells):\n",
    "        \"\"\" Comparing to the Zhang paper: the output posterior is P_n_given_x (Eqn 35)\n",
    "            cell_ratemap: [f_{i}(x) for i in range(nCells)]\n",
    "            cell_spkcnt: [n_{i} for i in range(nCells)]            \n",
    "        \"\"\"\n",
    "        cell_spkcnt = n[cell, :][np.newaxis, :] # .shape: (1, nTimeBins)\n",
    "        cell_ratemap = F[cell, :][:, np.newaxis] # .shape: (nFlatPositionBins, 1)\n",
    "        coeff = 1.0 / (factorial(cell_spkcnt)) # 1/factorial(n_{i}) term # .shape: (1, nTimeBins)\n",
    "        \n",
    "\n",
    "        if use_flat_computation_mode:\n",
    "            # Single-cell flat Version:\n",
    "            cum_cell_prob *= (((tau * cell_ratemap) ** cell_spkcnt) * coeff) * (np.exp(-tau * cell_ratemap)) # product equal using *=  # .shape (nFlatPositionBins, nTimeBins)\n",
    "        else:\n",
    "            # Full Version:\n",
    "            # broadcasting\n",
    "            cell_prob[:, :, cell] = (((tau * cell_ratemap) ** cell_spkcnt) * coeff) * (\n",
    "                np.exp(-tau * cell_ratemap)\n",
    "            )\n",
    "\n",
    "    if use_flat_computation_mode:\n",
    "        # Single-cell flat Version:\n",
    "        posterior = cum_cell_prob # The product has already been accumulating all along\n",
    "        posterior /= np.sum(posterior, axis=0) # C(tau, n) = np.sum(posterior, axis=0): normalization condition mentioned in eqn 36 to convert to P_x_given_n\n",
    "    else:\n",
    "        # Full Version:\n",
    "        posterior = np.prod(cell_prob, axis=2) # note this product removes axis=2 (nCells)\n",
    "        posterior /= np.sum(posterior, axis=0) # C(tau, n) = np.sum(posterior, axis=0): normalization condition mentioned in eqn 36 to convert to P_x_given_n\n",
    "\n",
    "    return posterior\n",
    "\n",
    "\n",
    "def neuropy_bayesian_prob_flat_only(tau, P_x, F, n, debug_print=False):\n",
    "    \"\"\"   n_i: the number of spikes fired by each cell during the time window of consideration\n",
    "    \"\"\"\n",
    "    assert(len(n) == np.shape(F)[1]), f'n must be a column vector with an entry for each place cell (neuron). Instead it is of np.shape(n): {np.shape(n)}. np.shape(F): {np.shape(F)}'        \n",
    "    if debug_print:\n",
    "        print(f'np.shape(P_x): {np.shape(P_x)}, np.shape(F): {np.shape(F)}, np.shape(n): {np.shape(n)}')\n",
    "    # np.shape(P_x): (1066, 1), np.shape(F): (1066, 66), np.shape(n): (66, 3530)\n",
    "        \n",
    "    ## Fixed version:\n",
    "    nCells = n.shape[0]\n",
    "    nTimeBins = n.shape[1] # many time_bins\n",
    "    nFlatPositionBins = np.shape(P_x)[0]\n",
    "    F = F.T # Transpose F so it's of the right form\n",
    "    n = n.astype(F.dtype)\n",
    "\n",
    "    ## Single-cell flat version which updates each iteration:\n",
    "    cum_cell_prob = np.ones((nFlatPositionBins, nTimeBins), dtype=F.dtype)\n",
    "    for cell in np.arange(nCells):\n",
    "        \"\"\" Comparing to the Zhang paper: the output posterior is P_n_given_x (Eqn 35)\n",
    "            cell_ratemap: [f_{i}(x) for i in range(nCells)]\n",
    "            cell_spkcnt: [n_{i} for i in range(nCells)]            \n",
    "        \"\"\"\n",
    "        cell_spkcnt = n[cell, :][np.newaxis, :] # .shape: (1, nTimeBins)\n",
    "        cell_ratemap = F[cell, :][:, np.newaxis] # .shape: (nFlatPositionBins, 1)\n",
    "        coeff = 1.0 / (factorial(cell_spkcnt)) # 1/factorial(n_{i}) term # .shape: (1, nTimeBins)\n",
    "        cum_cell_prob *= (((tau * cell_ratemap) ** cell_spkcnt) * coeff) * (np.exp(-tau * cell_ratemap)) # product equal using *=  # .shape (nFlatPositionBins, nTimeBins)\n",
    "\n",
    "    posterior = cum_cell_prob # The product has already been accumulating all along\n",
    "    posterior /= np.sum(posterior, axis=0) # C(tau, n) = np.sum(posterior, axis=0): normalization condition mentioned in eqn 36 to convert to P_x_given_n\n",
    "    return posterior\n",
    "\n",
    "def neuropy_bayesian_prob_full_only(tau, P_x, F, n):\n",
    "    assert(len(n) == np.shape(F)[1]), f'n must be a column vector with an entry for each place cell (neuron). Instead it is of np.shape(n): {np.shape(n)}. np.shape(F): {np.shape(F)}'        \n",
    "    nCells = n.shape[0]\n",
    "    nTimeBins = n.shape[1] # many time_bins\n",
    "    nFlatPositionBins = np.shape(P_x)[0]\n",
    "    F = F.T # Transpose F so it's of the right form\n",
    "    cell_prob = np.zeros((nFlatPositionBins, nTimeBins, nCells))\n",
    "    for cell in range(nCells):\n",
    "        \"\"\" Comparing to the Zhang paper: the output posterior is P_n_given_x (Eqn 35)\n",
    "            cell_ratemap: [f_{i}(x) for i in range(nCells)]\n",
    "            cell_spkcnt: [n_{i} for i in range(nCells)]            \n",
    "        \"\"\"\n",
    "        cell_spkcnt = n[cell, :][np.newaxis, :]\n",
    "        cell_ratemap = F[cell, :][:, np.newaxis]\n",
    "        coeff = 1 / (factorial(cell_spkcnt)) # 1/factorial(n_{i}) term\n",
    "        cell_prob[:, :, cell] = (((tau * cell_ratemap) ** cell_spkcnt) * coeff) * np.exp(-tau * cell_ratemap) # broadcasting\n",
    "    posterior = np.prod(cell_prob, axis=2) # note this product removes axis=2 (nCells)\n",
    "    posterior /= np.sum(posterior, axis=0) # C(tau, n) = np.sum(posterior, axis=0): normalization condition mentioned in eqn 36 to convert to P_x_given_n\n",
    "    return posterior\n",
    "    "
   ]
  },
  {
   "cell_type": "code",
   "execution_count": null,
   "id": "7e2baa53-7da9-47d6-a78d-4cc486f14ee1",
   "metadata": {},
   "outputs": [],
   "source": [
    "cell_spkcnt.shape # (1, 20760)"
   ]
  },
  {
   "cell_type": "code",
   "execution_count": null,
   "id": "d250eaa9-be40-49a7-8d63-dd8b78db6858",
   "metadata": {},
   "outputs": [],
   "source": [
    "cell_ratemap.shape # (63, 1)"
   ]
  },
  {
   "cell_type": "code",
   "execution_count": null,
   "id": "a8132634-108f-4490-bc76-ba85583ea7f4",
   "metadata": {},
   "outputs": [],
   "source": [
    "coeff.shape"
   ]
  },
  {
   "cell_type": "code",
   "execution_count": null,
   "id": "8c34148e-166a-4aab-95e9-30781ebbe2eb",
   "metadata": {},
   "outputs": [],
   "source": [
    "cell_prob.shape # (63, 20760) # (nFlatPositionBins, nTimeBins)"
   ]
  },
  {
   "cell_type": "code",
   "execution_count": 137,
   "id": "4f4c691d-836c-4610-9d05-0d240efb706a",
   "metadata": {},
   "outputs": [],
   "source": [
    "## save test data:\n",
    "test_file = 'bayes_decoder_test_data.npz'\n",
    "# np.savez(test_file, tau=tau, P_x=P_x, F=F, n=n)\n",
    "## Load test data:\n",
    "npzfile = np.load(test_file)\n",
    "tau, P_x, F, n = npzfile['tau'], npzfile['P_x'], npzfile['F'].T, npzfile['n']"
   ]
  },
  {
   "cell_type": "code",
   "execution_count": 12,
   "id": "53f59bb8-0b9e-4b89-869a-b96582d44116",
   "metadata": {},
   "outputs": [],
   "source": []
  },
  {
   "cell_type": "markdown",
   "id": "c1e720b8-e5b9-4d82-b48d-c87e6955818f",
   "metadata": {
    "jp-MarkdownHeadingCollapsed": true,
    "tags": []
   },
   "source": [
    "## \"Flat\" Implementation Exploration"
   ]
  },
  {
   "cell_type": "code",
   "execution_count": 115,
   "id": "587402a7-8008-426c-85e4-b5449322ffca",
   "metadata": {},
   "outputs": [
    {
     "data": {
      "text/plain": [
       "array([[2.16032911e-21, 1.07877452e-13, 9.99224320e-14, ...,\n",
       "        1.08410046e-25, 4.29213290e-21, 5.06731636e-18],\n",
       "       [8.59995291e-23, 5.76198969e-15, 4.92387777e-14, ...,\n",
       "        8.46898179e-27, 2.94473854e-21, 5.45897691e-19],\n",
       "       [7.84539082e-27, 1.18257634e-18, 3.54886252e-16, ...,\n",
       "        8.07764100e-31, 8.00520321e-24, 1.62566404e-22],\n",
       "       ...,\n",
       "       [0.00000000e+00, 0.00000000e+00, 0.00000000e+00, ...,\n",
       "        0.00000000e+00, 0.00000000e+00, 0.00000000e+00],\n",
       "       [0.00000000e+00, 0.00000000e+00, 0.00000000e+00, ...,\n",
       "        0.00000000e+00, 0.00000000e+00, 0.00000000e+00],\n",
       "       [0.00000000e+00, 0.00000000e+00, 0.00000000e+00, ...,\n",
       "        0.00000000e+00, 0.00000000e+00, 0.00000000e+00]])"
      ]
     },
     "execution_count": 115,
     "metadata": {},
     "output_type": "execute_result"
    }
   ],
   "source": [
    "tau, P_x, F, n = npzfile['tau'], npzfile['P_x'], npzfile['F'].T, npzfile['n']\n",
    "\n",
    "nCells = n.shape[0]\n",
    "nTimeBins = n.shape[1] # many time_bins\n",
    "nFlatPositionBins = np.shape(P_x)[0]\n",
    "F = F.T # Transpose F so it's of the right form\n",
    "n = n.astype(F.dtype)\n",
    "\n",
    "## Single-cell flat version which updates each iteration:\n",
    "# cell_prob = np.zeros((nFlatPositionBins, nTimeBins)) ## MemoryError: Unable to allocate 65.4 GiB for an array with shape (3969, 21896, 101) and data type float64\n",
    "# cell_probs_list = []\n",
    "\n",
    "prev_cell_prob = np.ones((nFlatPositionBins, nTimeBins), dtype=F.dtype)\n",
    "# cum_cell_probs_list = []\n",
    "\n",
    "for cell in np.arange(nCells):\n",
    "    \"\"\" Comparing to the Zhang paper: the output posterior is P_n_given_x (Eqn 35)\n",
    "        cell_ratemap: [f_{i}(x) for i in range(nCells)]\n",
    "        cell_spkcnt: [n_{i} for i in range(nCells)]            \n",
    "    \"\"\"\n",
    "    \n",
    "    # cell_spkcnt = n[cell, :] # .shape: (nTimeBins,)\n",
    "    # cell_ratemap = F[cell, :] # .shape: (nFlatPositionBins,)\n",
    "    cell_spkcnt = n[cell, :][np.newaxis, :] # .shape: (1, nTimeBins)\n",
    "    cell_ratemap = F[cell, :][:, np.newaxis] # .shape: (nFlatPositionBins, 1)\n",
    "    coeff = 1 / (factorial(cell_spkcnt)) # 1/factorial(n_{i}) term # .shape: (1, nTimeBins)\n",
    "    cell_prob = (\n",
    "        (\n",
    "            (tau * cell_ratemap) ** cell_spkcnt\n",
    "        ) * coeff\n",
    "    ) * (\n",
    "        np.exp(-tau * cell_ratemap)\n",
    "    ) # .shape (nFlatPositionBins, nTimeBins)\n",
    "    # cell_probs_list.append(cell_prob)\n",
    "    \n",
    "    prev_cell_prob = prev_cell_prob * cell_prob # multiply equals\n",
    "    # cum_cell_probs_list.append(prev_cell_prob)\n",
    "    \n",
    "    # cell_prob *= (((tau * cell_ratemap) ** cell_spkcnt) * coeff) * (\n",
    "    #     np.exp(-tau * cell_ratemap)\n",
    "    # ) # product equal using *=\n",
    "\n",
    "# cell_probs_list\n",
    "posterior = prev_cell_prob # The product has already been accumulating all along\n",
    "posterior /= np.sum(posterior, axis=0) # C(tau, n) = np.sum(posterior, axis=0): normalization condition mentioned in eqn 36 to convert to P_x_given_n\n",
    "posterior ## all zeros"
   ]
  },
  {
   "cell_type": "code",
   "execution_count": 93,
   "id": "1362d5e9-a148-4b65-b7f7-e8d1de831534",
   "metadata": {},
   "outputs": [
    {
     "data": {
      "text/plain": [
       "array([[4.60960624e-62, 3.54628562e-59, 1.27511999e-49, ...,\n",
       "        4.55076146e-83, 6.46304760e-78, 2.36811517e-71],\n",
       "       [1.83501655e-63, 1.89415496e-60, 6.28340889e-50, ...,\n",
       "        3.55505025e-84, 4.43415565e-78, 2.55115037e-72],\n",
       "       [1.67401172e-67, 3.88751623e-64, 4.52873839e-52, ...,\n",
       "        3.39077594e-88, 1.20541490e-80, 7.59723572e-76],\n",
       "       ...,\n",
       "       [0.00000000e+00, 0.00000000e+00, 0.00000000e+00, ...,\n",
       "        0.00000000e+00, 0.00000000e+00, 0.00000000e+00],\n",
       "       [0.00000000e+00, 0.00000000e+00, 0.00000000e+00, ...,\n",
       "        0.00000000e+00, 0.00000000e+00, 0.00000000e+00],\n",
       "       [0.00000000e+00, 0.00000000e+00, 0.00000000e+00, ...,\n",
       "        0.00000000e+00, 0.00000000e+00, 0.00000000e+00]])"
      ]
     },
     "execution_count": 93,
     "metadata": {},
     "output_type": "execute_result"
    }
   ],
   "source": [
    "P_x.dtype # dtype('float64')\n",
    "F.dtype # dtype('float64')\n",
    "n.dtype # dtype('int64')\n",
    "coeff.dtype # dtype('float64')\n",
    "cell_prob.dtype # dtype('float64')"
   ]
  },
  {
   "cell_type": "code",
   "execution_count": 91,
   "id": "523953bf-9728-4f58-a50c-1194a1456e7e",
   "metadata": {},
   "outputs": [
    {
     "data": {
      "text/plain": [
       "array([[4.60960624e-62, 3.54628562e-59, 1.27511999e-49, ...,\n",
       "        4.55076146e-83, 6.46304760e-78, 2.36811517e-71],\n",
       "       [1.83501655e-63, 1.89415496e-60, 6.28340889e-50, ...,\n",
       "        3.55505025e-84, 4.43415565e-78, 2.55115037e-72],\n",
       "       [1.67401172e-67, 3.88751623e-64, 4.52873839e-52, ...,\n",
       "        3.39077594e-88, 1.20541490e-80, 7.59723572e-76],\n",
       "       ...,\n",
       "       [0.00000000e+00, 0.00000000e+00, 0.00000000e+00, ...,\n",
       "        0.00000000e+00, 0.00000000e+00, 0.00000000e+00],\n",
       "       [0.00000000e+00, 0.00000000e+00, 0.00000000e+00, ...,\n",
       "        0.00000000e+00, 0.00000000e+00, 0.00000000e+00],\n",
       "       [0.00000000e+00, 0.00000000e+00, 0.00000000e+00, ...,\n",
       "        0.00000000e+00, 0.00000000e+00, 0.00000000e+00]])"
      ]
     },
     "execution_count": 91,
     "metadata": {},
     "output_type": "execute_result"
    }
   ],
   "source": [
    "post_hoc_cell_prob = np.ones((nFlatPositionBins, nTimeBins))\n",
    "for cell in np.arange(nCells):\n",
    "    post_hoc_cell_prob = post_hoc_cell_prob * cell_probs_list[cell] # multiply equals\n",
    "post_hoc_cell_prob"
   ]
  },
  {
   "cell_type": "code",
   "execution_count": 89,
   "id": "a11531f2-f752-4794-a921-4e3f588e4046",
   "metadata": {},
   "outputs": [
    {
     "data": {
      "text/plain": [
       "array([[2.16032911e-21, 1.07877452e-13, 9.99224320e-14, ...,\n",
       "        1.08410046e-25, 4.29213290e-21, 5.06731636e-18],\n",
       "       [8.59995291e-23, 5.76198969e-15, 4.92387777e-14, ...,\n",
       "        8.46898179e-27, 2.94473854e-21, 5.45897691e-19],\n",
       "       [7.84539082e-27, 1.18257634e-18, 3.54886252e-16, ...,\n",
       "        8.07764100e-31, 8.00520321e-24, 1.62566404e-22],\n",
       "       ...,\n",
       "       [0.00000000e+00, 0.00000000e+00, 0.00000000e+00, ...,\n",
       "        0.00000000e+00, 0.00000000e+00, 0.00000000e+00],\n",
       "       [0.00000000e+00, 0.00000000e+00, 0.00000000e+00, ...,\n",
       "        0.00000000e+00, 0.00000000e+00, 0.00000000e+00],\n",
       "       [0.00000000e+00, 0.00000000e+00, 0.00000000e+00, ...,\n",
       "        0.00000000e+00, 0.00000000e+00, 0.00000000e+00]])"
      ]
     },
     "execution_count": 89,
     "metadata": {},
     "output_type": "execute_result"
    }
   ],
   "source": [
    "prev_cell_prob"
   ]
  },
  {
   "cell_type": "code",
   "execution_count": null,
   "id": "47aa7e20-7698-4c3b-81cc-5a11a8cf7003",
   "metadata": {},
   "outputs": [],
   "source": []
  },
  {
   "cell_type": "code",
   "execution_count": null,
   "id": "0542f9f2-739a-491d-b568-57d971765145",
   "metadata": {},
   "outputs": [],
   "source": [
    "prev_cell_prob"
   ]
  },
  {
   "cell_type": "code",
   "execution_count": 79,
   "id": "da738bbd-ea00-4a8d-8660-d0107885994a",
   "metadata": {},
   "outputs": [
    {
     "name": "stderr",
     "output_type": "stream",
     "text": [
      "C:\\Users\\pho\\AppData\\Local\\Temp\\ipykernel_22484\\1457126432.py:2: RuntimeWarning: invalid value encountered in double_scalars\n",
      "  posterior /= np.sum(posterior, axis=0) # C(tau, n) = np.sum(posterior, axis=0): normalization condition mentioned in eqn 36 to convert to P_x_given_n\n"
     ]
    },
    {
     "data": {
      "text/plain": [
       "nan"
      ]
     },
     "execution_count": 79,
     "metadata": {},
     "output_type": "execute_result"
    }
   ],
   "source": [
    "posterior = np.prod(cell_probs_list, axis=2) # The product has already been accumulating all along\n",
    "posterior /= np.sum(posterior, axis=0) # C(tau, n) = np.sum(posterior, axis=0): normalization condition mentioned in eqn 36 to convert to P_x_given_n\n",
    "posterior ## all zeros"
   ]
  },
  {
   "cell_type": "code",
   "execution_count": null,
   "id": "01d122de-c207-4101-a4fe-b19137563916",
   "metadata": {},
   "outputs": [],
   "source": [
    "cell_prob_3D = np.stack(cell_probs_list, axis=-1) # .shape: (nFlatPositionBins, nTimeBins, 105)\n",
    "np.prod(cell_prob_3D, axis=2)"
   ]
  },
  {
   "cell_type": "code",
   "execution_count": 76,
   "id": "fa95b18f-ef64-4679-bf40-e6ab10138447",
   "metadata": {},
   "outputs": [],
   "source": []
  },
  {
   "cell_type": "code",
   "execution_count": 86,
   "id": "93a4bbd7-d6c0-4038-b450-1b855c017750",
   "metadata": {},
   "outputs": [
    {
     "data": {
      "text/plain": [
       "array([[4.60960624e-62, 3.54628562e-59, 1.27511999e-49, ...,\n",
       "        4.55076146e-83, 6.46304760e-78, 2.36811517e-71],\n",
       "       [1.83501655e-63, 1.89415496e-60, 6.28340889e-50, ...,\n",
       "        3.55505025e-84, 4.43415565e-78, 2.55115037e-72],\n",
       "       [1.67401172e-67, 3.88751623e-64, 4.52873839e-52, ...,\n",
       "        3.39077594e-88, 1.20541490e-80, 7.59723572e-76],\n",
       "       ...,\n",
       "       [0.00000000e+00, 0.00000000e+00, 0.00000000e+00, ...,\n",
       "        0.00000000e+00, 0.00000000e+00, 0.00000000e+00],\n",
       "       [0.00000000e+00, 0.00000000e+00, 0.00000000e+00, ...,\n",
       "        0.00000000e+00, 0.00000000e+00, 0.00000000e+00],\n",
       "       [0.00000000e+00, 0.00000000e+00, 0.00000000e+00, ...,\n",
       "        0.00000000e+00, 0.00000000e+00, 0.00000000e+00]])"
      ]
     },
     "execution_count": 86,
     "metadata": {},
     "output_type": "execute_result"
    }
   ],
   "source": [
    "prev_cell_prob = np.ones((nFlatPositionBins, nTimeBins))\n",
    "for a_cell_prob in cell_probs_list:\n",
    "    prev_cell_prob = prev_cell_prob * a_cell_prob \n",
    "    \n",
    "prev_cell_prob"
   ]
  },
  {
   "cell_type": "code",
   "execution_count": 76,
   "id": "70148a01-fdf4-4c11-87bf-719ee9c2b329",
   "metadata": {},
   "outputs": [
    {
     "data": {
      "text/plain": [
       "(63, 20760, 105)"
      ]
     },
     "execution_count": 76,
     "metadata": {},
     "output_type": "execute_result"
    }
   ],
   "source": []
  },
  {
   "cell_type": "code",
   "execution_count": 71,
   "id": "7839ad53-3772-49d1-a09a-0b82096f0f57",
   "metadata": {},
   "outputs": [],
   "source": []
  },
  {
   "cell_type": "code",
   "execution_count": 73,
   "id": "d4b9abf3-4999-447e-8b3c-2ec5bf2f653c",
   "metadata": {},
   "outputs": [
    {
     "data": {
      "text/plain": [
       "(63, 20760)"
      ]
     },
     "execution_count": 73,
     "metadata": {},
     "output_type": "execute_result"
    }
   ],
   "source": [
    "cum_cell_prob.shape"
   ]
  },
  {
   "cell_type": "code",
   "execution_count": 57,
   "id": "94af881d-d342-431b-8fd1-1a4c49796ba7",
   "metadata": {},
   "outputs": [],
   "source": [
    "tau"
   ]
  },
  {
   "cell_type": "code",
   "execution_count": 58,
   "id": "6ef90aff-00ac-4cab-b34e-3130903fcf46",
   "metadata": {},
   "outputs": [],
   "source": [
    "(tau * cell_ratemap).shape # (nFlatPositionBins, 1)"
   ]
  },
  {
   "cell_type": "code",
   "execution_count": 59,
   "id": "af035ab8-310d-4bbd-a7ec-dcb8f526071c",
   "metadata": {},
   "outputs": [],
   "source": [
    "((tau * cell_ratemap) ** cell_spkcnt).shape # (nFlatPositionBins, nTimeBins)"
   ]
  },
  {
   "cell_type": "code",
   "execution_count": 62,
   "id": "b590d5ff-66aa-46bc-8d55-9edd2bd66665",
   "metadata": {},
   "outputs": [],
   "source": [
    "(((tau * cell_ratemap) ** cell_spkcnt) * coeff).shape # (nFlatPositionBins, nTimeBins)"
   ]
  },
  {
   "cell_type": "code",
   "execution_count": 60,
   "id": "c251bece-1278-48a1-befe-94502970255f",
   "metadata": {},
   "outputs": [
    {
     "data": {
      "text/plain": [
       "(63, 1)"
      ]
     },
     "execution_count": 60,
     "metadata": {},
     "output_type": "execute_result"
    }
   ],
   "source": [
    "np.exp(-tau * cell_ratemap).shape # (nFlatPositionBins, 1)"
   ]
  },
  {
   "cell_type": "code",
   "execution_count": 62,
   "id": "95dd9083-cc60-4a41-85e1-b646f861f906",
   "metadata": {},
   "outputs": [
    {
     "data": {
      "text/plain": [
       "(63, 20760)"
      ]
     },
     "execution_count": 62,
     "metadata": {},
     "output_type": "execute_result"
    }
   ],
   "source": []
  },
  {
   "cell_type": "markdown",
   "id": "1cd3da73-de34-4e64-b62a-7578fa7141a9",
   "metadata": {
    "jp-MarkdownHeadingCollapsed": true,
    "tags": []
   },
   "source": [
    "## \"Full\" Implementation Exploration"
   ]
  },
  {
   "cell_type": "code",
   "execution_count": 101,
   "id": "116ceae5-3474-4098-8d2f-3073814a0180",
   "metadata": {},
   "outputs": [],
   "source": [
    "## Full Implementation:\n",
    "tau, P_x, F, n = npzfile['tau'], npzfile['P_x'], npzfile['F'].T, npzfile['n']\n",
    "cell_prob = None\n",
    "nCells = n.shape[0]\n",
    "nTimeBins = n.shape[1] # many time_bins\n",
    "nFlatPositionBins = np.shape(P_x)[0]\n",
    "F = F.T # Transpose F so it's of the right form\n",
    "cell_prob = np.zeros((nFlatPositionBins, nTimeBins, nCells))\n",
    "for cell in range(nCells):\n",
    "    \"\"\" Comparing to the Zhang paper: the output posterior is P_n_given_x (Eqn 35)\n",
    "        cell_ratemap: [f_{i}(x) for i in range(nCells)]\n",
    "        cell_spkcnt: [n_{i} for i in range(nCells)]            \n",
    "    \"\"\"\n",
    "    cell_spkcnt = n[cell, :][np.newaxis, :]\n",
    "    cell_ratemap = F[cell, :][:, np.newaxis]\n",
    "    coeff = 1 / (factorial(cell_spkcnt)) # 1/factorial(n_{i}) term\n",
    "    cell_prob[:, :, cell] = (((tau * cell_ratemap) ** cell_spkcnt) * coeff) * np.exp(-tau * cell_ratemap) # broadcasting\n",
    "    \n",
    "posterior = np.prod(cell_prob, axis=2) # note this product removes axis=2 (nCells)\n",
    "posterior /= np.sum(posterior, axis=0) # C(tau, n) = np.sum(posterior, axis=0): normalization condition mentioned in eqn 36 to convert to P_x_given_n"
   ]
  },
  {
   "cell_type": "code",
   "execution_count": 106,
   "id": "3d09c0e1-30e1-4cf2-97f2-9cb256ec0c94",
   "metadata": {},
   "outputs": [
    {
     "data": {
      "text/plain": [
       "dtype('float64')"
      ]
     },
     "execution_count": 106,
     "metadata": {},
     "output_type": "execute_result"
    }
   ],
   "source": [
    "P_x.dtype # dtype('float64')\n",
    "F.dtype # dtype('float64')\n",
    "n.dtype # dtype('int64')\n",
    "coeff.dtype # dtype('float64')\n",
    "cell_prob.dtype # dtype('float64')"
   ]
  },
  {
   "cell_type": "code",
   "execution_count": 70,
   "id": "b5a1b940-044d-4b81-a2c1-c29ef5503e04",
   "metadata": {},
   "outputs": [],
   "source": [
    "i = 2\n",
    "(cell_prob[:,:,i] == cell_probs_list[i]).all()"
   ]
  },
  {
   "cell_type": "code",
   "execution_count": 70,
   "id": "6b417ea4-c93f-4cc3-8577-4cbff42f959b",
   "metadata": {},
   "outputs": [],
   "source": []
  },
  {
   "cell_type": "code",
   "execution_count": 83,
   "id": "797c6c77-1d2f-489c-97f4-711956d5badd",
   "metadata": {},
   "outputs": [
    {
     "data": {
      "text/plain": [
       "array([[4.60960624e-62, 3.54628562e-59, 1.27511999e-49, ...,\n",
       "        4.55076146e-83, 6.46304760e-78, 2.36811517e-71],\n",
       "       [1.83501655e-63, 1.89415496e-60, 6.28340889e-50, ...,\n",
       "        3.55505025e-84, 4.43415565e-78, 2.55115037e-72],\n",
       "       [1.67401172e-67, 3.88751623e-64, 4.52873839e-52, ...,\n",
       "        3.39077594e-88, 1.20541490e-80, 7.59723572e-76],\n",
       "       ...,\n",
       "       [0.00000000e+00, 0.00000000e+00, 0.00000000e+00, ...,\n",
       "        0.00000000e+00, 0.00000000e+00, 0.00000000e+00],\n",
       "       [0.00000000e+00, 0.00000000e+00, 0.00000000e+00, ...,\n",
       "        0.00000000e+00, 0.00000000e+00, 0.00000000e+00],\n",
       "       [0.00000000e+00, 0.00000000e+00, 0.00000000e+00, ...,\n",
       "        0.00000000e+00, 0.00000000e+00, 0.00000000e+00]])"
      ]
     },
     "execution_count": 83,
     "metadata": {},
     "output_type": "execute_result"
    }
   ],
   "source": [
    "non_normalized_posterior = np.prod(cell_prob, axis=2) # note this product removes axis=2 (nCells)\n",
    "non_normalized_posterior"
   ]
  },
  {
   "cell_type": "code",
   "execution_count": 82,
   "id": "9d1a06a4-27c5-41f6-aca7-56202de233c3",
   "metadata": {},
   "outputs": [
    {
     "data": {
      "text/plain": [
       "array([[4.60960624e-62, 3.54628562e-59, 1.27511999e-49, ...,\n",
       "        4.55076146e-83, 6.46304760e-78, 2.36811517e-71],\n",
       "       [1.83501655e-63, 1.89415496e-60, 6.28340889e-50, ...,\n",
       "        3.55505025e-84, 4.43415565e-78, 2.55115037e-72],\n",
       "       [1.67401172e-67, 3.88751623e-64, 4.52873839e-52, ...,\n",
       "        3.39077594e-88, 1.20541490e-80, 7.59723572e-76],\n",
       "       ...,\n",
       "       [0.00000000e+00, 0.00000000e+00, 0.00000000e+00, ...,\n",
       "        0.00000000e+00, 0.00000000e+00, 0.00000000e+00],\n",
       "       [0.00000000e+00, 0.00000000e+00, 0.00000000e+00, ...,\n",
       "        0.00000000e+00, 0.00000000e+00, 0.00000000e+00],\n",
       "       [0.00000000e+00, 0.00000000e+00, 0.00000000e+00, ...,\n",
       "        0.00000000e+00, 0.00000000e+00, 0.00000000e+00]])"
      ]
     },
     "execution_count": 82,
     "metadata": {},
     "output_type": "execute_result"
    }
   ],
   "source": [
    "non_normalized_posterior = np.prod(cell_prob_3D, axis=2) # note this product removes axis=2 (nCells)\n",
    "non_normalized_posterior"
   ]
  },
  {
   "cell_type": "code",
   "execution_count": 78,
   "id": "543357a2-15c0-4115-b8df-4dcf0b651c66",
   "metadata": {},
   "outputs": [
    {
     "data": {
      "text/plain": [
       "True"
      ]
     },
     "execution_count": 78,
     "metadata": {},
     "output_type": "execute_result"
    }
   ],
   "source": [
    "(cell_prob_3D == cell_prob).all()"
   ]
  },
  {
   "cell_type": "code",
   "execution_count": null,
   "id": "22162b92-a29b-4098-a839-e21dbe359376",
   "metadata": {},
   "outputs": [],
   "source": [
    "posterior"
   ]
  },
  {
   "cell_type": "code",
   "execution_count": 47,
   "id": "4b4e2058-1784-4a35-b46a-31c860321a25",
   "metadata": {},
   "outputs": [
    {
     "data": {
      "text/plain": [
       "(63, 20760)"
      ]
     },
     "execution_count": 47,
     "metadata": {},
     "output_type": "execute_result"
    }
   ],
   "source": [
    "posterior.shape # (63, 20760)"
   ]
  },
  {
   "cell_type": "code",
   "execution_count": null,
   "id": "5f3fb496-48d3-4944-aca9-9238aabf9032",
   "metadata": {},
   "outputs": [],
   "source": [
    "cell_probs_list"
   ]
  },
  {
   "cell_type": "code",
   "execution_count": 20,
   "id": "d0b8b54b-5165-4a29-9e5e-e86b99182cd0",
   "metadata": {},
   "outputs": [],
   "source": [
    "np.nonzero(posterior)"
   ]
  },
  {
   "cell_type": "code",
   "execution_count": 25,
   "id": "c686b6c4-a258-45dc-aac0-1ba34ec239d7",
   "metadata": {},
   "outputs": [],
   "source": [
    "cell_spkcnt.shape # (1, 20760)\n",
    "cell_ratemap.shape # (63, 1)\n",
    "coeff.shape # (1, 20760)"
   ]
  },
  {
   "cell_type": "code",
   "execution_count": 25,
   "id": "90fa6df0-1ef0-48bd-98a6-5ea648732b79",
   "metadata": {},
   "outputs": [
    {
     "data": {
      "text/plain": [
       "(1, 20760)"
      ]
     },
     "execution_count": 25,
     "metadata": {},
     "output_type": "execute_result"
    }
   ],
   "source": []
  },
  {
   "cell_type": "markdown",
   "id": "27b0dd17-6479-4e6e-ac2b-561516898ce1",
   "metadata": {},
   "source": [
    "## Versions"
   ]
  },
  {
   "cell_type": "code",
   "execution_count": 144,
   "id": "c5a468c0-23b8-402e-a28d-82299e2791dc",
   "metadata": {},
   "outputs": [],
   "source": [
    "tau, P_x, F, n = npzfile['tau'], npzfile['P_x'], npzfile['F'].T, npzfile['n']"
   ]
  },
  {
   "cell_type": "code",
   "execution_count": 146,
   "id": "9f7d4383-19ae-4953-984f-8cc97ff36874",
   "metadata": {},
   "outputs": [],
   "source": [
    "posterior = neuropy_bayesian_prob(tau, P_x, F, n, use_flat_computation_mode=True)\n",
    "posterior\n",
    "\n",
    "posterior_full_only = neuropy_bayesian_prob(tau, P_x, F, n, use_flat_computation_mode=False)\n",
    "\n",
    "\n",
    "# C:\\Users\\pho\\AppData\\Local\\Temp\\ipykernel_22484\\1973842464.py:68: RuntimeWarning: invalid value encountered in true_divide\n",
    "#   posterior /= np.sum(posterior, axis=0) # C(tau, n) = np.sum(posterior, axis=0): normalization condition mentioned in eqn 36 to convert to P_x_given_n"
   ]
  },
  {
   "cell_type": "code",
   "execution_count": 150,
   "id": "5dee21f2-8e40-4c67-80ba-9234b75b06d4",
   "metadata": {},
   "outputs": [],
   "source": [
    "assert (posterior_full_only == posterior).all()"
   ]
  },
  {
   "cell_type": "code",
   "execution_count": 145,
   "id": "1de06d0c-48da-4e56-a283-76cb36f5319e",
   "metadata": {},
   "outputs": [
    {
     "data": {
      "text/plain": [
       "array([[2.16032911e-21, 1.07877452e-13, 9.99224320e-14, ...,\n",
       "        1.08410046e-25, 4.29213290e-21, 5.06731636e-18],\n",
       "       [8.59995291e-23, 5.76198969e-15, 4.92387777e-14, ...,\n",
       "        8.46898179e-27, 2.94473854e-21, 5.45897691e-19],\n",
       "       [7.84539082e-27, 1.18257634e-18, 3.54886252e-16, ...,\n",
       "        8.07764100e-31, 8.00520321e-24, 1.62566404e-22],\n",
       "       ...,\n",
       "       [0.00000000e+00, 0.00000000e+00, 0.00000000e+00, ...,\n",
       "        0.00000000e+00, 0.00000000e+00, 0.00000000e+00],\n",
       "       [0.00000000e+00, 0.00000000e+00, 0.00000000e+00, ...,\n",
       "        0.00000000e+00, 0.00000000e+00, 0.00000000e+00],\n",
       "       [0.00000000e+00, 0.00000000e+00, 0.00000000e+00, ...,\n",
       "        0.00000000e+00, 0.00000000e+00, 0.00000000e+00]])"
      ]
     },
     "execution_count": 145,
     "metadata": {},
     "output_type": "execute_result"
    }
   ],
   "source": [
    "p"
   ]
  },
  {
   "cell_type": "code",
   "execution_count": 125,
   "id": "5a297550-fa84-4e8d-96c0-0aabf8d1d6ad",
   "metadata": {},
   "outputs": [
    {
     "data": {
      "text/plain": [
       "array([[2.16032911e-21, 1.07877452e-13, 9.99224320e-14, ...,\n",
       "        1.08410046e-25, 4.29213290e-21, 5.06731636e-18],\n",
       "       [8.59995291e-23, 5.76198969e-15, 4.92387777e-14, ...,\n",
       "        8.46898179e-27, 2.94473854e-21, 5.45897691e-19],\n",
       "       [7.84539082e-27, 1.18257634e-18, 3.54886252e-16, ...,\n",
       "        8.07764100e-31, 8.00520321e-24, 1.62566404e-22],\n",
       "       ...,\n",
       "       [0.00000000e+00, 0.00000000e+00, 0.00000000e+00, ...,\n",
       "        0.00000000e+00, 0.00000000e+00, 0.00000000e+00],\n",
       "       [0.00000000e+00, 0.00000000e+00, 0.00000000e+00, ...,\n",
       "        0.00000000e+00, 0.00000000e+00, 0.00000000e+00],\n",
       "       [0.00000000e+00, 0.00000000e+00, 0.00000000e+00, ...,\n",
       "        0.00000000e+00, 0.00000000e+00, 0.00000000e+00]])"
      ]
     },
     "execution_count": 125,
     "metadata": {},
     "output_type": "execute_result"
    }
   ],
   "source": [
    "posterior_full_only = neuropy_bayesian_prob_full_only(tau, P_x, F, n)\n",
    "posterior_full_only"
   ]
  },
  {
   "cell_type": "code",
   "execution_count": 130,
   "id": "9e543c14-9965-4652-8aa9-b1f1a8ded325",
   "metadata": {},
   "outputs": [
    {
     "data": {
      "text/plain": [
       "array([[2.16032911e-21, 1.07877452e-13, 9.99224320e-14, ...,\n",
       "        1.08410046e-25, 4.29213290e-21, 5.06731636e-18],\n",
       "       [8.59995291e-23, 5.76198969e-15, 4.92387777e-14, ...,\n",
       "        8.46898179e-27, 2.94473854e-21, 5.45897691e-19],\n",
       "       [7.84539082e-27, 1.18257634e-18, 3.54886252e-16, ...,\n",
       "        8.07764100e-31, 8.00520321e-24, 1.62566404e-22],\n",
       "       ...,\n",
       "       [0.00000000e+00, 0.00000000e+00, 0.00000000e+00, ...,\n",
       "        0.00000000e+00, 0.00000000e+00, 0.00000000e+00],\n",
       "       [0.00000000e+00, 0.00000000e+00, 0.00000000e+00, ...,\n",
       "        0.00000000e+00, 0.00000000e+00, 0.00000000e+00],\n",
       "       [0.00000000e+00, 0.00000000e+00, 0.00000000e+00, ...,\n",
       "        0.00000000e+00, 0.00000000e+00, 0.00000000e+00]])"
      ]
     },
     "execution_count": 130,
     "metadata": {},
     "output_type": "execute_result"
    }
   ],
   "source": [
    "posterior_flat_only = neuropy_bayesian_prob_flat_only(tau, P_x, F, n)\n",
    "posterior_flat_only"
   ]
  },
  {
   "cell_type": "code",
   "execution_count": 100,
   "id": "ab63ec21-b9e4-420f-91f9-19686691fbbb",
   "metadata": {},
   "outputs": [],
   "source": [
    "posterior_fixed = neuropy_bayesian_prob_fixed(tau, P_x, F, n)\n",
    "posterior_fixed"
   ]
  },
  {
   "cell_type": "markdown",
   "id": "d607e2c8-ce1c-4688-8751-0c8a85b8ae59",
   "metadata": {},
   "source": [
    "## Finally, test ZhangReconstructionImplementation implementation"
   ]
  },
  {
   "cell_type": "code",
   "execution_count": 152,
   "id": "84b30330-ac33-4e2d-ad83-6c98a1a98a07",
   "metadata": {},
   "outputs": [
    {
     "name": "stderr",
     "output_type": "stream",
     "text": [
      "C:\\Users\\pho\\miniconda3\\envs\\phoviz_ultimate\\lib\\site-packages\\outdated\\utils.py:14: OutdatedPackageWarning: The package outdated is out of date. Your version is 0.2.1, the latest is 0.2.2.\n",
      "Set the environment variable OUTDATED_IGNORE=1 to disable these warnings.\n",
      "  return warn(\n"
     ]
    }
   ],
   "source": [
    "from pyphoplacecellanalysis.Analysis.Decoder.reconstruction import ZhangReconstructionImplementation"
   ]
  },
  {
   "cell_type": "code",
   "execution_count": 153,
   "id": "926c7951-d607-4a71-a9fb-fc98a639ead0",
   "metadata": {},
   "outputs": [],
   "source": [
    "tau, P_x, F, n = npzfile['tau'], npzfile['P_x'], npzfile['F'].T, npzfile['n']"
   ]
  },
  {
   "cell_type": "code",
   "execution_count": 154,
   "id": "18c5a61a-9d9e-4c41-94e0-321852097d58",
   "metadata": {},
   "outputs": [],
   "source": [
    "posterior = neuropy_bayesian_prob(tau, P_x, F, n, use_flat_computation_mode=True)\n",
    "posterior_full_only = neuropy_bayesian_prob(tau, P_x, F, n, use_flat_computation_mode=False)"
   ]
  },
  {
   "cell_type": "code",
   "execution_count": 155,
   "id": "0daad317-c00b-4c72-a0b6-00719076ddcf",
   "metadata": {},
   "outputs": [],
   "source": [
    "assert (posterior_full_only == posterior).all()"
   ]
  },
  {
   "cell_type": "code",
   "execution_count": null,
   "id": "62a77822-e522-46fa-b986-1d06725a95ff",
   "metadata": {},
   "outputs": [],
   "source": []
  },
  {
   "cell_type": "code",
   "execution_count": null,
   "id": "ae92f134-2a88-46a9-ac7b-0e17cda9af7e",
   "metadata": {},
   "outputs": [],
   "source": []
  }
 ],
 "metadata": {
  "kernelspec": {
   "display_name": "Python [conda env:phoviz_ultimate]",
   "language": "python",
   "name": "conda-env-phoviz_ultimate-py"
  },
  "language_info": {
   "codemirror_mode": {
    "name": "ipython",
    "version": 3
   },
   "file_extension": ".py",
   "mimetype": "text/x-python",
   "name": "python",
   "nbconvert_exporter": "python",
   "pygments_lexer": "ipython3",
   "version": "3.9.13"
  }
 },
 "nbformat": 4,
 "nbformat_minor": 5
}
