{
 "cells": [
  {
   "cell_type": "code",
   "execution_count": 2,
   "id": "c24f786c-3ba7-4f9c-b8e4-723579da36f7",
   "metadata": {},
   "outputs": [
    {
     "name": "stdout",
     "output_type": "stream",
     "text": [
      "The autoreload extension is already loaded. To reload it, use:\n",
      "  %reload_ext autoreload\n"
     ]
    }
   ],
   "source": [
    "%config IPCompleter.use_jedi = False\n",
    "%load_ext autoreload\n",
    "%autoreload 3\n",
    "import numpy as np\n",
    "import pandas as pd\n",
    "from pathlib import Path\n",
    "import os\n",
    "import sys\n",
    "from threading import Thread\n",
    "\n",
    "import h5py\n",
    "import hdf5storage # conda install hdf5storage\n",
    "import ipywidgets as widgets\n",
    "\n",
    "\n",
    "# # required to enable non-blocking interaction:\n",
    "%gui qt5\n",
    "\n",
    "from pyphocorehelpers.Filesystem.HDF5.hdf5_file_helpers import h5dump, HDF5_Helper\n",
    "from pyphocorehelpers.Filesystem.HDF5.silx_hdf5_viewer import hdf5_tree_view_window\n",
    "\n",
    "from pyphocorehelpers.Filesystem.path_helpers import discover_data_files, get_file_metadata, FileList\n",
    "from pyphocorehelpers.print_helpers import debug_dump_object_member_shapes, print_value_overview_only, pprint, debug_print, print_keys_if_possible\n",
    "from pyphoplacecellanalysis.PhoPositionalData.load_exported import import_mat_file\n",
    "# from pyphoplacecellanalysis.PhoPositionalData.process_data import process_positionalAnalysis_data, gen_2d_histrogram, get_heatmap_color_vectors, process_chunk_equal_poritions_data, extract_spike_timeseries\n",
    "# from pyphoplacecellanalysis.PhoPositionalData.process_data import process_positionalAnalysis_data, extract_spike_timeseries\n",
    "from pyphoplacecellanalysis.General.Mixins.ExportHelpers import _test_save_pipeline_data_to_h5, get_h5_data_keys, save_some_pipeline_data_to_h5, load_pipeline_data_from_h5  #ExportHelpers\n",
    "\n",
    "from pyphoplacecellanalysis.GUI.PyQtPlot.Params.MatFileBrowser.MatFileBrowser import MatFileBrowser\n",
    "\n",
    "## Drastically improve Python Tracebacks on exceptions:\n",
    "# from rich.traceback import install\n",
    "# install()"
   ]
  },
  {
   "cell_type": "code",
   "execution_count": null,
   "id": "328c053a-dff4-4a6d-a37f-c5c146db6182",
   "metadata": {},
   "outputs": [],
   "source": [
    "# RoyMaze1:\n",
    "\n",
    "mat_import_parent_path = Path(r'R:\\data\\RoyMaze1')\n",
    "# mat_import_parent_path = Path(r'C:\\Share\\data\\RoyMaze1') # Old one\n",
    "# mat_import_file = r'C:\\Share\\data\\RoyMaze1\\ExportedData.mat'\n",
    "\n",
    "found_files = MatFileBrowser.discover_mat_files(mat_import_parent_path, recursive=True)\n",
    "found_files"
   ]
  },
  {
   "cell_type": "code",
   "execution_count": null,
   "id": "611ba082",
   "metadata": {},
   "outputs": [],
   "source": [
    "# from param import define, field, Factory\n",
    "# class FilesCollection:\n",
    "\n",
    "\n"
   ]
  },
  {
   "cell_type": "code",
   "execution_count": 26,
   "id": "50154453",
   "metadata": {},
   "outputs": [
    {
     "data": {
      "text/plain": [
       "[WindowsPath('W:/Data/Kdiba/gor01/one/2006-6-08_14-26-15/out_all_ripple_results.pkl'),\n",
       " WindowsPath('W:/Data/Kdiba/gor01/two/2006-6-07_16-40-19/ripple_detector.pkl'),\n",
       " WindowsPath('W:/Data/Kdiba/vvp01/one/2006-4-18_13-6-1/ripple_df.pkl'),\n",
       " WindowsPath('W:/Data/Kdiba/vvp01/two/2006-4-11_16-2-46/ripple_detector.pkl'),\n",
       " WindowsPath('W:/Data/Kdiba/vvp01/two/2006-4-21_11-19-2/ripple_detector.pkl'),\n",
       " WindowsPath('W:/Data/Kdiba/pin01/one/11-02_17-46-44/output/leave_one_out_results_long.pkl'),\n",
       " WindowsPath('W:/Data/Kdiba/gor01/two/2006-6-09_22-24-40/ripple_detector.pkl'),\n",
       " WindowsPath('W:/Data/Kdiba/gor01/two/2006-6-07_16-40-19/output/leave_one_out_results_short.pkl'),\n",
       " WindowsPath('W:/Data/Kdiba/vvp01/one/2006-4-19_16-48-9/ripple_df.pkl'),\n",
       " WindowsPath('W:/Data/Kdiba/gor01/one/2006-6-13_14-42-6/ripple_detector.pkl'),\n",
       " WindowsPath('W:/Data/Kdiba/vvp01/one/2006-4-28_16-48-29/ripple_detector.pkl'),\n",
       " WindowsPath('W:/Data/Kdiba/pin01/one/11-02_17-46-44/output/leave_one_out_results_short.pkl'),\n",
       " WindowsPath('W:/Data/Kdiba/pin01/one/11-02_17-46-44/output/leave_one_out_surprise_results_long.pkl'),\n",
       " WindowsPath('W:/Data/Kdiba/gor01/one/2006-6-13_14-42-6/out_all_ripple_results.pkl'),\n",
       " WindowsPath('W:/Data/Kdiba/vvp01/two/2006-4-17_12-52-15/ripple_detector.pkl'),\n",
       " WindowsPath('W:/Data/Kdiba/vvp01/two/2006-4-10_12-58-3/ripple_df.pkl'),\n",
       " WindowsPath('W:/Data/Kdiba/gor01/two/2006-6-12_16-53-46/ripple_detector.pkl'),\n",
       " WindowsPath('W:/Data/Kdiba/vvp01/two/2006-4-28_12-38-13/ripple_detector.pkl'),\n",
       " WindowsPath('W:/Data/Kdiba/vvp01/one/2006-4-18_13-6-1/ripple_detector.pkl'),\n",
       " WindowsPath('W:/Data/Kdiba/vvp01/two/2006-4-28_17-6-14/ripple_df.pkl'),\n",
       " WindowsPath('W:/Data/Kdiba/gor01/one/2006-6-07_11-26-53/ripple_detector.pkl'),\n",
       " WindowsPath('W:/Data/Kdiba/gor01/one/2006-6-09_1-22-43/out_all_ripple_results.pkl'),\n",
       " WindowsPath('W:/Data/Kdiba/gor01/one/2006-6-09_1-22-43/output/leave_one_out_results_long_2D.pkl'),\n",
       " WindowsPath('W:/Data/Kdiba/vvp01/one/2006-4-25_14-28-51/ripple_df.pkl'),\n",
       " WindowsPath('W:/Data/Kdiba/vvp01/two/2006-4-11_16-2-46/ripple_df.pkl'),\n",
       " WindowsPath('W:/Data/Kdiba/gor01/one/2006-6-09_1-22-43/20230524092446-loadedSessPickle.pkl'),\n",
       " WindowsPath('W:/Data/Kdiba/gor01/two/2006-6-08_15-46-47/output/leave_one_out_results_long.pkl'),\n",
       " WindowsPath('W:/Data/Kdiba/vvp01/one/2006-4-10_21-2-40/ripple_detector.pkl'),\n",
       " WindowsPath('W:/Data/Kdiba/vvp01/two/2006-4-17_12-52-15/ripple_df.pkl'),\n",
       " WindowsPath('W:/Data/Kdiba/gor01/one/2006-6-09_1-22-43/20230418200846-loadedSessPickle.pkl'),\n",
       " WindowsPath('W:/Data/Kdiba/vvp01/one/2006-4-25_17-17-6/ripple_detector.pkl'),\n",
       " WindowsPath('W:/Data/Kdiba/vvp01/one/2006-4-27_14-43-12/ripple_detector.pkl'),\n",
       " WindowsPath('W:/Data/Kdiba/gor01/two/2006-6-08_21-16-25/ripple_df.pkl'),\n",
       " WindowsPath('W:/Data/Kdiba/gor01/one/2006-6-12_15-55-31/ripple_detector.pkl'),\n",
       " WindowsPath('W:/Data/Kdiba/gor01/one/2006-6-09_1-22-43/output/leave_one_out_surprise_results_long_2D.pkl'),\n",
       " WindowsPath('W:/Data/Kdiba/gor01/one/2006-6-09_3-23-37/ripple_detector.pkl'),\n",
       " WindowsPath('W:/Data/Kdiba/vvp01/two/2006-4-11_12-48-38/ripple_detector.pkl'),\n",
       " WindowsPath('W:/Data/Kdiba/vvp01/one/2006-4-10_21-2-40/ripple_df.pkl'),\n",
       " WindowsPath('W:/Data/Kdiba/vvp01/one/2006-4-17_12-33-47/ripple_detector.pkl'),\n",
       " WindowsPath('W:/Data/Kdiba/vvp01/one/2006-4-19_13-34-40/ripple_detector.pkl'),\n",
       " WindowsPath('W:/Data/Kdiba/gor01/one/2006-6-09_1-22-43/ripple_detector.pkl'),\n",
       " WindowsPath('W:/Data/Kdiba/vvp01/one/2006-4-18_15-23-32/ripple_df.pkl'),\n",
       " WindowsPath('W:/Data/Kdiba/vvp01/two/2006-4-19_16-37-40/ripple_df.pkl'),\n",
       " WindowsPath('W:/Data/Kdiba/gor01/two/2006-6-08_15-46-47/output/leave_one_out_surprise_results_short.pkl'),\n",
       " WindowsPath('W:/Data/Kdiba/vvp01/two/2006-4-16_18-47-52/ripple_detector.pkl'),\n",
       " WindowsPath('W:/Data/Kdiba/vvp01/one/2006-4-25_17-17-6/ripple_df.pkl'),\n",
       " WindowsPath('W:/Data/Kdiba/vvp01/two/2006-4-18_15-38-2/ripple_detector.pkl'),\n",
       " WindowsPath('W:/Data/Kdiba/gor01/one/2006-6-09_1-22-43/ripple_df.pkl'),\n",
       " WindowsPath('W:/Data/Kdiba/vvp01/two/2006-4-11_12-48-38/ripple_df.pkl'),\n",
       " WindowsPath('W:/Data/Kdiba/gor01/one/2006-6-09_1-22-43/output/leave_one_out_results_long.pkl'),\n",
       " WindowsPath('W:/Data/Kdiba/gor01/two/2006-6-07_16-40-19/output/leave_one_out_results_long.pkl'),\n",
       " WindowsPath('W:/Data/Kdiba/gor01/one/2006-6-08_14-26-15/20230525074550-loadedSessPickle.pkl'),\n",
       " WindowsPath('W:/Data/Kdiba/vvp01/one/2006-4-28_12-17-27/ripple_detector.pkl'),\n",
       " WindowsPath('W:/Data/Kdiba/vvp01/two/2006-4-19_16-37-40/ripple_detector.pkl'),\n",
       " WindowsPath('W:/Data/Kdiba/pin01/one/11-02_17-46-44/output/leave_one_out_surprise_long_short_results.pkl'),\n",
       " WindowsPath('W:/Data/Kdiba/vvp01/one/2006-4-12_14-39-31/ripple_df.pkl'),\n",
       " WindowsPath('W:/Data/Kdiba/vvp01/two/2006-4-19_13-50-7/ripple_df.pkl'),\n",
       " WindowsPath('W:/Data/Kdiba/vvp01/two/2006-4-25_17-33-28/ripple_detector.pkl'),\n",
       " WindowsPath('W:/Data/Kdiba/vvp01/one/2006-4-27_14-43-12/ripple_df.pkl'),\n",
       " WindowsPath('W:/Data/Kdiba/vvp01/two/2006-4-27_18-21-57/ripple_df.pkl'),\n",
       " WindowsPath('W:/Data/Kdiba/vvp01/two/2006-4-18_15-38-2/ripple_df.pkl'),\n",
       " WindowsPath('W:/Data/Kdiba/gor01/two/2006-6-12_16-53-46/ripple_df.pkl'),\n",
       " WindowsPath('W:/Data/Kdiba/gor01/two/2006-6-08_15-46-47/output/leave_one_out_surprise_results_long.pkl'),\n",
       " WindowsPath('W:/Data/Kdiba/gor01/two/2006-6-08_15-46-47/ripple_detector.pkl'),\n",
       " WindowsPath('W:/Data/Kdiba/vvp01/one/2006-4-28_12-17-27/ripple_df.pkl'),\n",
       " WindowsPath('W:/Data/Kdiba/vvp01/one/2006-4-26_13-22-13/ripple_detector.pkl'),\n",
       " WindowsPath('W:/Data/Kdiba/vvp01/one/2006-4-28_16-48-29/ripple_df.pkl'),\n",
       " WindowsPath('W:/Data/Kdiba/vvp01/two/2006-4-10_19-11-57/ripple_detector.pkl'),\n",
       " WindowsPath('W:/Data/Kdiba/vvp01/two/2006-4-10_12-58-3/ripple_detector.pkl'),\n",
       " WindowsPath('W:/Data/Kdiba/gor01/one/2006-6-13_14-42-6/ripple_df.pkl'),\n",
       " WindowsPath('W:/Data/Kdiba/gor01/one/2006-6-09_1-22-43/20230418200801-loadedSessPickle.pkl'),\n",
       " WindowsPath('W:/Data/Kdiba/vvp01/one/2006-4-19_16-48-9/ripple_detector.pkl'),\n",
       " WindowsPath('W:/Data/Kdiba/vvp01/two/2006-4-28_17-6-14/ripple_detector.pkl'),\n",
       " WindowsPath('W:/Data/Kdiba/vvp01/one/2006-4-21_10-24-35/ripple_df.pkl'),\n",
       " WindowsPath('W:/Data/Kdiba/gor01/two/2006-6-13_15-22-3/ripple_detector.pkl'),\n",
       " WindowsPath('W:/Data/Kdiba/gor01/one/2006-6-08_14-26-15/ripple_detector.pkl'),\n",
       " WindowsPath('W:/Data/Kdiba/vvp01/two/2006-4-12_14-59-23/ripple_detector.pkl'),\n",
       " WindowsPath('W:/Data/Kdiba/gor01/two/2006-6-08_15-46-47/ripple_df.pkl'),\n",
       " WindowsPath('W:/Data/Kdiba/vvp01/one/2006-4-09_17-29-30/ripple_df.pkl'),\n",
       " WindowsPath('W:/Data/Kdiba/gor01/one/2006-6-09_3-23-37/ripple_df.pkl'),\n",
       " WindowsPath('W:/Data/Kdiba/gor01/one/2006-6-12_15-55-31/output/leave_one_out_results_long.pkl'),\n",
       " WindowsPath('W:/Data/Kdiba/vvp01/two/2006-4-27_18-21-57/ripple_detector.pkl'),\n",
       " WindowsPath('W:/Data/Kdiba/gor01/one/2006-6-09_1-22-43/20230418201811-loadedSessPickle.pkl'),\n",
       " WindowsPath('W:/Data/Kdiba/vvp01/two/2006-4-25_17-33-28/ripple_df.pkl'),\n",
       " WindowsPath('W:/Data/Kdiba/gor01/one/2006-6-09_1-22-43/20230424153841-loadedSessPickle.pkl'),\n",
       " WindowsPath('W:/Data/Kdiba/vvp01/two/2006-4-09_16-40-54/ripple_df.pkl'),\n",
       " WindowsPath('W:/Data/Kdiba/vvp01/two/2006-4-12_15-25-59/ripple_detector.pkl'),\n",
       " WindowsPath('W:/Data/Kdiba/vvp01/two/2006-4-12_14-59-23/ripple_df.pkl'),\n",
       " WindowsPath('W:/Data/Kdiba/vvp01/two/2006-4-26_13-51-50/ripple_detector.pkl'),\n",
       " WindowsPath('W:/Data/Kdiba/vvp01/two/2006-4-28_12-38-13/ripple_df.pkl'),\n",
       " WindowsPath('W:/Data/Kdiba/vvp01/one/2006-4-10_12-25-50/ripple_detector.pkl'),\n",
       " WindowsPath('W:/Data/Kdiba/gor01/two/2006-6-09_22-24-40/ripple_df.pkl'),\n",
       " WindowsPath('W:/Data/Kdiba/vvp01/two/2006-4-19_13-50-7/ripple_detector.pkl'),\n",
       " WindowsPath('W:/Data/Kdiba/vvp01/one/2006-4-12_17-53-55/ripple_df.pkl'),\n",
       " WindowsPath('W:/Data/Kdiba/vvp01/one/2006-4-18_15-23-32/ripple_detector.pkl'),\n",
       " WindowsPath('W:/Data/Kdiba/vvp01/one/2006-4-25_14-28-51/ripple_detector.pkl'),\n",
       " WindowsPath('W:/Data/Kdiba/vvp01/one/2006-4-09_17-29-30/ripple_detector.pkl'),\n",
       " WindowsPath('W:/Data/Kdiba/vvp01/two/2006-4-18_13-28-57/ripple_detector.pkl'),\n",
       " WindowsPath('W:/Data/Kdiba/vvp01/one/2006-4-21_10-24-35/ripple_detector.pkl'),\n",
       " WindowsPath('W:/Data/Kdiba/vvp01/two/2006-4-16_14-49-24/20230607004555-loadedSessPickle.pkl'),\n",
       " WindowsPath('W:/Data/Kdiba/vvp01/two/2006-4-25_13-20-55/ripple_df.pkl'),\n",
       " WindowsPath('W:/Data/Kdiba/vvp01/two/2006-4-25_13-20-55/ripple_detector.pkl'),\n",
       " WindowsPath('W:/Data/Kdiba/gor01/one/2006-6-09_3-23-37/out_all_ripple_results.pkl'),\n",
       " WindowsPath('W:/Data/Kdiba/gor01/one/2006-6-12_15-55-31/ripple_df.pkl'),\n",
       " WindowsPath('W:/Data/Kdiba/vvp01/two/2006-4-26_13-51-50/ripple_df.pkl'),\n",
       " WindowsPath('W:/Data/Kdiba/pin01/one/11-02_17-46-44/output/leave_one_out_surprise_results_short.pkl'),\n",
       " WindowsPath('W:/Data/Kdiba/vvp01/one/2006-4-12_17-53-55/ripple_detector.pkl'),\n",
       " WindowsPath('W:/Data/Kdiba/vvp01/two/2006-4-16_18-47-52/ripple_df.pkl'),\n",
       " WindowsPath('W:/Data/Kdiba/vvp01/one/2006-4-19_13-34-40/ripple_df.pkl'),\n",
       " WindowsPath('W:/Data/Kdiba/gor01/one/2006-6-08_14-26-15/ripple_df.pkl'),\n",
       " WindowsPath('W:/Data/Kdiba/vvp01/two/2006-4-21_11-19-2/ripple_df.pkl'),\n",
       " WindowsPath('W:/Data/Kdiba/vvp01/one/2006-4-10_12-25-50/ripple_df.pkl'),\n",
       " WindowsPath('W:/Data/Kdiba/vvp01/one/2006-4-12_14-39-31/ripple_detector.pkl'),\n",
       " WindowsPath('W:/Data/Kdiba/vvp01/two/2006-4-12_15-25-59/ripple_df.pkl'),\n",
       " WindowsPath('W:/Data/Kdiba/vvp01/two/2006-4-09_16-40-54/ripple_detector.pkl'),\n",
       " WindowsPath('W:/Data/Kdiba/gor01/one/2006-6-09_1-22-43/output/leave_one_out_results_short.pkl'),\n",
       " WindowsPath('W:/Data/Kdiba/gor01/two/2006-6-08_21-16-25/ripple_detector.pkl'),\n",
       " WindowsPath('W:/Data/Kdiba/gor01/one/2006-6-09_1-22-43/output/leave_one_out_surprise_results_long.pkl'),\n",
       " WindowsPath('W:/Data/Kdiba/gor01/one/2006-6-09_1-22-43/output/leave_one_out_surprise_results_short.pkl'),\n",
       " WindowsPath('W:/Data/Kdiba/vvp01/two/2006-4-16_14-49-24/ripple_df.pkl'),\n",
       " WindowsPath('W:/Data/Kdiba/gor01/two/2006-6-13_15-22-3/ripple_df.pkl'),\n",
       " WindowsPath('W:/Data/Kdiba/vvp01/one/2006-4-11_15-16-59/ripple_detector.pkl'),\n",
       " WindowsPath('W:/Data/Kdiba/gor01/one/2006-6-09_1-22-43/output/leave_one_out_results_short_2D.pkl'),\n",
       " WindowsPath('W:/Data/Kdiba/vvp01/one/2006-4-26_13-22-13/ripple_df.pkl'),\n",
       " WindowsPath('W:/Data/Kdiba/gor01/two/2006-6-07_16-40-19/ripple_df.pkl'),\n",
       " WindowsPath('W:/Data/Kdiba/vvp01/two/2006-4-12_15-25-59/20230607003838-loadedSessPickle.pkl'),\n",
       " WindowsPath('W:/Data/Kdiba/gor01/one/2006-6-07_11-26-53/export/computation_results.pkl'),\n",
       " WindowsPath('W:/Data/Kdiba/gor01/one/2006-6-12_15-55-31/output/leave_one_out_results.pkl'),\n",
       " WindowsPath('W:/Data/Kdiba/vvp01/two/2006-4-18_13-28-57/ripple_df.pkl'),\n",
       " WindowsPath('W:/Data/Kdiba/vvp01/one/2006-4-17_12-33-47/ripple_df.pkl'),\n",
       " WindowsPath('W:/Data/Kdiba/vvp01/two/2006-4-10_19-11-57/ripple_df.pkl'),\n",
       " WindowsPath('W:/Data/Kdiba/vvp01/one/2006-4-11_15-16-59/ripple_df.pkl'),\n",
       " WindowsPath('W:/Data/Kdiba/gor01/two/2006-6-07_16-40-19/output/leave_one_out_surprise_results_short.pkl'),\n",
       " WindowsPath('W:/Data/Kdiba/gor01/two/2006-6-07_16-40-19/output/leave_one_out_surprise_results_long.pkl'),\n",
       " WindowsPath('W:/Data/Kdiba/gor01/one/2006-6-07_11-26-53/ripple_df.pkl'),\n",
       " WindowsPath('W:/Data/Kdiba/gor01/two/2006-6-08_15-46-47/output/leave_one_out_results_short.pkl'),\n",
       " WindowsPath('W:/Data/Kdiba/gor01/one/2006-6-07_11-26-53/out_all_ripple_results.pkl'),\n",
       " WindowsPath('W:/Data/Kdiba/vvp01/two/2006-4-16_14-49-24/ripple_detector.pkl')]"
      ]
     },
     "execution_count": 26,
     "metadata": {},
     "output_type": "execute_result"
    }
   ],
   "source": [
    "search_parent_path = Path(r'W:\\\\Data\\\\Kdiba')\n",
    "\n",
    "found_any_pickle_files: list[Path] = discover_data_files(search_parent_path, glob_pattern='*.pkl', recursive=True) # any pickle, anywhere\n",
    "found_other_outputs_pickle_files: list[Path] = discover_data_files(search_parent_path, glob_pattern='output/*.pkl', recursive=True) # any pickle in the `output/` folder\n",
    "\n",
    "\n",
    "## Secondary types:\n",
    "found_autoversioned_session_pickle_files: list[Path] = discover_data_files(search_parent_path, glob_pattern='*-loadedSessPickle.pkl', recursive=True)\n",
    "\n",
    "\n",
    "## Core desired types:\n",
    "found_default_session_pickle_files: list[Path] = discover_data_files(search_parent_path, glob_pattern='loadedSessPickle.pkl', recursive=True)\n",
    "found_global_computation_results_files: list[Path] = discover_data_files(search_parent_path, glob_pattern='output/global_computation_results.pkl', recursive=True) # 'output/global_computation_results.pkl'\n",
    "\n",
    "all_core_desired_files = found_default_session_pickle_files + found_global_computation_results_files\n",
    "\n",
    "# found_files: list[Path] = found_default_session_pickle_files + found_global_computation_results_files + found_autoversioned_session_pickle_files\n",
    "# found_files\n",
    "\n",
    "# non_primary_desired_files = to_set(found_any_pickle_files)[0] - to_set(all_core_desired_files)[0]\n",
    "# non_primary_desired_files = from_set(to_set(found_any_pickle_files)[0] - to_set(found_default_session_pickle_files + found_global_computation_results_files)[0])\n",
    "# non_primary_desired_files = FileList.from_set(FileList.to_set(found_any_pickle_files) - FileList.to_set(found_default_session_pickle_files + found_global_computation_results_files))\n",
    "non_primary_desired_files = FileList.subtract(found_any_pickle_files, all_core_desired_files)\n",
    "non_primary_desired_files\n",
    "\n",
    "# all_core_desired_files\n",
    "non_primary_desired_files"
   ]
  },
  {
   "attachments": {},
   "cell_type": "markdown",
   "id": "d09ca9cf",
   "metadata": {},
   "source": [
    "- https://realpython.com/inherit-python-list/\n",
    "- https://stackoverflow.com/questions/8180014/how-to-subclass-python-list-without-type-problems/8180073#8180073\n",
    "- https://docs.python.org/3/reference/datamodel.html#emulating-container-types\n",
    "- https://docs.python.org/3/library/collections.html#collections.UserList\n",
    "- https://stackoverflow.com/questions/50470557/pythonic-way-of-subclassing-a-list\n",
    "- https://vetude.com/part-9-list-in-python-an-introduction-to-subclassing-a-list/\n",
    "- https://datagy.io/python-collections-userlist/\n",
    "- https://sentry.io/answers/what-are-Python-metaclasses/\n",
    "- https://stackoverflow.com/questions/25328448/should-i-subclass-list-or-create-class-with-list-as-attribute- "
   ]
  },
  {
   "cell_type": "code",
   "execution_count": 25,
   "id": "432d314d",
   "metadata": {},
   "outputs": [
    {
     "name": "stdout",
     "output_type": "stream",
     "text": [
      "Index of the first element matching 'Data': 1\n",
      "List before index: ('W:\\\\',)\n",
      "List after index: ('Data', 'Kdiba', 'gor01', 'one', '2006-6-07_11-26-53', 'loadedSessPickle.pkl')\n",
      "data_folder_relative_path: Data\\Kdiba\\gor01\\one\\2006-6-07_11-26-53\\loadedSessPickle.pkl\n"
     ]
    },
    {
     "data": {
      "text/plain": [
       "('W:/Data/Kdiba/gor01/one/2006-6-07_11-26-53',\n",
       " WindowsPath('Data/Kdiba/gor01/one/2006-6-07_11-26-53/loadedSessPickle.pkl'),\n",
       " 'loadedSessPickle.pkl')"
      ]
     },
     "execution_count": 25,
     "metadata": {},
     "output_type": "execute_result"
    }
   ],
   "source": [
    "split_on_nearest_data_directory = lambda a_path: next(((tuple(a_path.relative_to(parent).parts[:-1]), tuple(a_path.relative_to(parent).parts[-1:])) for parent in a_path.parents if parent.name.lower() == 'data'), None)\n",
    "\n",
    "# my_list = ['path', 'to', 'some', 'Data', 'directory', 'file.txt']\n",
    "my_list = a_path.parts # ('W:\\\\', 'Data', 'Kdiba', 'gor01', 'one', '2006-6-07_11-26-53', 'loadedSessPickle.pkl')\n",
    "search_element = 'Data'\n",
    "\n",
    "# matches = [(i, elem) for i, elem in enumerate(reversed(my_list)) if elem.lower() == search_element.lower()]\n",
    "\n",
    "try:\n",
    "    index = len(my_list) - my_list[::-1].index('Data') - 1\n",
    "    print(\"Index of the first element matching 'Data':\", index)\n",
    "    list_before = my_list[:index]\n",
    "    list_after = my_list[index:]\n",
    "    print(\"List before index:\", list_before)\n",
    "    print(\"List after index:\", list_after)\n",
    "    data_folder_relative_path = Path(*list_after)\n",
    "    print(f'data_folder_relative_path: {data_folder_relative_path}')\n",
    "except ValueError:\n",
    "    print(\"No element matching 'Data' found in the list.\")\n",
    "    \n",
    "a_path = all_core_desired_files[0]\n",
    "(str(a_path.parent.as_posix()), data_folder_relative_path, a_path.name)\n",
    "# a_path.as_posix()\n",
    "\n",
    "\n",
    "# split_parts = split_on_nearest_data_directory(a_path)\n",
    "# if split_parts:\n",
    "#     before_data, after_data = split_parts\n",
    "#     print('Before Data:', before_data)\n",
    "#     print('After Data:', after_data)\n",
    "# else:\n",
    "#     print(\"No 'Data' or 'data' parent directory found in the path.\")\n",
    "    \n",
    "# a_path.parts.reversed().index('Data')\n",
    "# print(a_path.parts) # ('W:\\\\', 'Data', 'Kdiba', 'gor01', 'one', '2006-6-07_11-26-53', 'loadedSessPickle.pkl')\n",
    "# index"
   ]
  },
  {
   "cell_type": "code",
   "execution_count": 6,
   "id": "2c098b32",
   "metadata": {},
   "outputs": [
    {
     "data": {
      "text/plain": [
       "0     W:\\Data\\Kdiba\\gor01\\one\\2006-6-07_11-26-53\\loa...\n",
       "1     W:\\Data\\Kdiba\\gor01\\one\\2006-6-08_14-26-15\\loa...\n",
       "2     W:\\Data\\Kdiba\\gor01\\one\\2006-6-09_1-22-43\\load...\n",
       "3     W:\\Data\\Kdiba\\gor01\\one\\2006-6-09_3-23-37\\load...\n",
       "4     W:\\Data\\Kdiba\\gor01\\one\\2006-6-12_15-55-31\\loa...\n",
       "                            ...                        \n",
       "56    W:\\Data\\Kdiba\\vvp01\\one\\2006-4-19_13-34-40\\out...\n",
       "57    W:\\Data\\Kdiba\\vvp01\\two\\2006-4-09_16-40-54\\out...\n",
       "58    W:\\Data\\Kdiba\\vvp01\\two\\2006-4-10_12-58-3\\outp...\n",
       "59    W:\\Data\\Kdiba\\vvp01\\two\\2006-4-12_15-25-59\\out...\n",
       "60    W:\\Data\\Kdiba\\vvp01\\two\\2006-4-16_14-49-24\\out...\n",
       "Name: path, Length: 61, dtype: object"
      ]
     },
     "execution_count": 6,
     "metadata": {},
     "output_type": "execute_result"
    }
   ],
   "source": [
    "# pd.DataFrame({'path': found_files})\n",
    "\n",
    "all_core_desired_files_df = get_file_metadata(all_core_desired_files)\n",
    "all_core_desired_files_df['path']\n",
    "\n",
    "\n",
    "all_core_desired_files_df['filename'] = "
   ]
  },
  {
   "cell_type": "code",
   "execution_count": null,
   "id": "0833e921-b965-44d9-b3d2-f9396ad07a1f",
   "metadata": {},
   "outputs": [],
   "source": [
    "found_file_variables_dict = MatFileBrowser.whos_mat_files(found_files)\n",
    "print(found_file_variables_dict)"
   ]
  },
  {
   "attachments": {},
   "cell_type": "markdown",
   "id": "9dd9e3b6-f4c6-4239-9fb8-f6d4d28729ad",
   "metadata": {
    "tags": []
   },
   "source": [
    "# Silx hdf5 Widgets"
   ]
  },
  {
   "cell_type": "code",
   "execution_count": null,
   "id": "d260ef24-bc2d-4a45-b3af-125078bc9028",
   "metadata": {},
   "outputs": [],
   "source": [
    "non_hdf5_files = [Path(r'R:/data/RoyMaze1/ExportedData/extrasAnalysis.mat'), Path('R:/data/RoyMaze1/ExportedData/RippleIndexedSpikes.mat')] # , Path(r'R:/data/RoyMaze1/ExportedData/positionAnalysis.mat')\n",
    "hdf5_found_files = [str(found_file) for found_file in found_files if found_file not in non_hdf5_files]\n",
    "print(f'hdf5_found_files: {hdf5_found_files}')\n",
    "win = hdf5_tree_view_window(hdf5_found_files)\n",
    "win"
   ]
  },
  {
   "attachments": {},
   "cell_type": "markdown",
   "id": "44190e5a-04e6-46d1-88dc-038d7fe8ee9c",
   "metadata": {},
   "source": [
    "# Overflow (Not needed, Slix HDF5 widget worked to display/browse the data)"
   ]
  },
  {
   "cell_type": "code",
   "execution_count": null,
   "id": "e7d35f80-2acb-4f64-b02b-1e5514cd6a2a",
   "metadata": {},
   "outputs": [],
   "source": []
  },
  {
   "cell_type": "code",
   "execution_count": null,
   "id": "c6611c25-1f1f-45e2-8212-8a3d67cbef79",
   "metadata": {},
   "outputs": [],
   "source": [
    "# Import the positions\n",
    "t,x,y,speeds,dt,dx,dy = perform_import_positions(mat_import_parent_path=mat_import_parent_path)\n",
    "# Import the spikes\n",
    "spike_matrix, spike_cells, num_cells, spike_list, spike_positions_list = perform_import_spikes(t, x, y, mat_import_parent_path=mat_import_parent_path)\n",
    "\n",
    "ripple_times, ripple_peak_times, ripple_peak_values, behavioral_periods, behavioral_epochs = perform_import_extras(mat_import_parent_path=mat_import_parent_path)\n",
    "\n",
    "# behavioral_periods = all_results_data['active_processing/behavioral_periods_table']\n",
    "# print('spike_matrix: {}, spike_cells: {}'.format(np.shape(spike_matrix), np.shape(spike_cells)))\n",
    "num_periods = np.shape(behavioral_periods)[0]\n",
    "print('num_periods: {}'.format(num_periods))\n",
    "\n",
    "\n",
    "# creating the dataset\n",
    "#date = [i for i in range(2000, 2021)]\n",
    " \n",
    "# Create a figure and a set of subplots\n",
    "fig, ax = plt.subplots(figsize=(10, 6))\n",
    " \n",
    "# Creating the scatter plot\n",
    "#ax.scatter(date, value)\n",
    " \n",
    "# Highlighting for a certain period of time\n",
    "num_ripples = np.shape(ripple_times)[0]\n",
    "for i in np.arange(num_ripples):\n",
    "    ax.axvspan(ripple_times[i,0], ripple_times[i,1], alpha=0.3, color=\"green\")\n",
    "\n",
    "plt.show()"
   ]
  },
  {
   "cell_type": "code",
   "execution_count": null,
   "id": "102bd879-15a2-4be7-a6ce-33e5783418e1",
   "metadata": {},
   "outputs": [],
   "source": [
    "import silx.gui.hdf5\n",
    "treeview = silx.gui.hdf5.Hdf5TreeView()\n",
    "model = treeview.findHdf5TreeModel()\n",
    "# Avoid the user to drop file in the widget\n",
    "model.setFileDropEnabled(False)\n",
    "# Allow the user to reorder files with drag-and-drop\n",
    "model.setFileMoveEnabled(True)\n",
    "header = treeview.header()\n",
    "# Select displayed columns\n",
    "column_ids = [treeview.findHdf5TreeModel().NAME_COLUMN]\n",
    "header.setSections(column_ids)\n",
    "# Do not allow the user to custom visible columns\n",
    "header.setEnableHideColumnsPopup(False)"
   ]
  },
  {
   "attachments": {},
   "cell_type": "markdown",
   "id": "88ec9519-6da8-44b6-8644-d255469b220b",
   "metadata": {
    "jp-MarkdownHeadingCollapsed": true,
    "tags": []
   },
   "source": [
    "## MatFileBrowser.build_browsing_gui(...) Parameter Tree GUI (WORKING, NOT USED)"
   ]
  },
  {
   "cell_type": "code",
   "execution_count": null,
   "id": "c3939f51-e717-471a-ad00-6ab2fa84762b",
   "metadata": {},
   "outputs": [],
   "source": [
    "tree, app = MatFileBrowser.build_browsing_gui(found_file_variables_dict)\n",
    "tree.show()"
   ]
  },
  {
   "attachments": {},
   "cell_type": "markdown",
   "id": "8e55dda7-e6b3-42c3-b2c1-9bd5a43bdd99",
   "metadata": {
    "jp-MarkdownHeadingCollapsed": true,
    "tags": []
   },
   "source": [
    "## HDF5_Helper Recurrsion Testing (NOT FINISHED, NOT WORKING, NOT USED)"
   ]
  },
  {
   "cell_type": "code",
   "execution_count": null,
   "id": "768cdf8b-193e-4949-a379-33323617c689",
   "metadata": {},
   "outputs": [],
   "source": [
    "# found_file = Path(r'R:/data/RoyMaze1/analysesResults_30-Sep-2021/allEnv.mat')\n",
    "# found_file = Path(r'R:/data/RoyMaze1/ExportedData/spikesAnalysis.mat')\n",
    "# found_file = Path(r'R:\\data\\RoyMaze1\\ExportedData\\extrasAnalysis.mat')\n",
    "found_file = Path(r'R:/data/RoyMaze1/ExportedData/spikesTable.mat')"
   ]
  },
  {
   "cell_type": "code",
   "execution_count": null,
   "id": "d5e6a91d-4395-48f5-b501-f0a8af0b779e",
   "metadata": {},
   "outputs": [],
   "source": [
    "# import h5py\n",
    "helper = HDF5_Helper(path=found_file, group='active_processing')\n",
    "helper.output_tree"
   ]
  },
  {
   "cell_type": "code",
   "execution_count": null,
   "id": "176d7872-dbd0-41a8-a873-d8da23f82a41",
   "metadata": {},
   "outputs": [],
   "source": [
    "# helper.perform_enumerate(debug_print=True)\n",
    "helper.perform_enumerate(debug_print=False)\n",
    "helper.output_tree"
   ]
  },
  {
   "cell_type": "code",
   "execution_count": null,
   "id": "4cf6b265-1417-47f1-bc55-6cb9765cedd0",
   "metadata": {},
   "outputs": [],
   "source": [
    "found_file_variables_dict[found_file]"
   ]
  },
  {
   "cell_type": "code",
   "execution_count": null,
   "id": "8943df59-5738-48fd-a816-587187be2dbf",
   "metadata": {},
   "outputs": [],
   "source": [
    "h5dump(found_file, group='active_processing', enable_print_attributes=False)"
   ]
  },
  {
   "attachments": {},
   "cell_type": "markdown",
   "id": "f1c87e78-57e2-4943-a64f-23f059cebf88",
   "metadata": {
    "jp-MarkdownHeadingCollapsed": true,
    "tags": []
   },
   "source": [
    "## h5py 'visit_item' testing (WORKING, NOT USED):"
   ]
  },
  {
   "cell_type": "code",
   "execution_count": null,
   "id": "0830be9a-4cba-4ada-b4ab-9258c48cc342",
   "metadata": {},
   "outputs": [],
   "source": [
    "def pho_visit_item_fn(name, obj):\n",
    "    # Recursively visit all objects in this group and subgroups. Like Group.visit(), except your callable should have the signature:\n",
    "    # callable(name, object) -> None or return value\n",
    "    # In this case object will be a Group or Dataset instance.\n",
    "    # if name not in ignored_keys:        \n",
    "    if '#' in name:\n",
    "        return None\n",
    "    else:\n",
    "        print(f'name: {name}, obj: {obj}')\n",
    "        # if type(obj) in [h5py._hl.group.Group, h5py._hl.files.File]:\n",
    "        #     for key in obj.keys():\n",
    "        #         print(sep,'-',key,':',obj[key])\n",
    "        #         descend_obj(obj[key],sep=sep+'\\t')\n",
    "        # elif type(obj)==h5py._hl.dataset.Dataset:\n",
    "        #     for key in obj.attrs.keys():\n",
    "        #         print(sep+'\\t','-',key,':',obj.attrs[key])\n",
    "            \n",
    "    \n",
    "def find_foo(name):\n",
    "    \"\"\" Find first object with 'foo' anywhere in the name \"\"\"\n",
    "    if 'foo' in name:\n",
    "        return name\n",
    "\n",
    "with h5py.File(found_file,'r') as f:\n",
    "    print(f'file:{found_file}: {f}')\n",
    "    # print(f.visititems)\n",
    "    _out = f.visititems(pho_visit_item_fn)\n",
    "    # group.visit(find_foo)\n",
    "\n",
    "    # f.attrs\n",
    "    # print_value_overview_only(f)\n",
    "    # # found_data_dict = {a_key:meta_info_dict for a_key in list(f.keys()) if a_key not in ignored_keys} ## filter the ignored keys\n",
    "    # # found_keys = [a_key for a_key in list(f.keys()) if a_key not in ignored_keys] ## filter the ignored keys\n",
    "    # f.name"
   ]
  },
  {
   "attachments": {},
   "cell_type": "markdown",
   "id": "4eeb9a26-8d8a-4eb2-842e-a1f2c9c207f0",
   "metadata": {
    "jp-MarkdownHeadingCollapsed": true,
    "tags": []
   },
   "source": [
    "## QFileSystemModel, QTreeView: Fresh Implementation (NOT USED)"
   ]
  },
  {
   "cell_type": "code",
   "execution_count": null,
   "id": "4903d8dc-3bf9-4b14-b725-d0d3f9fa12c4",
   "metadata": {},
   "outputs": [],
   "source": [
    "import sys\n",
    "from PyQt5.QtWidgets import QApplication, QFileSystemModel, QTreeView, QWidget, QVBoxLayout\n",
    "from PyQt5.QtGui import QIcon\n",
    "\n",
    "class App(QWidget):\n",
    "\n",
    "    def __init__(self):\n",
    "        super().__init__()\n",
    "        self.title = 'PyQt5 file system view - pythonspot.com'\n",
    "        self.left = 10\n",
    "        self.top = 10\n",
    "        self.width = 640\n",
    "        self.height = 480\n",
    "        self.initUI()\n",
    "    \n",
    "    def initUI(self):\n",
    "        self.setWindowTitle(self.title)\n",
    "        self.setGeometry(self.left, self.top, self.width, self.height)\n",
    "        \n",
    "        self.model = QFileSystemModel()\n",
    "        self.model.setRootPath(r'E:\\data')\n",
    "        self.tree = QTreeView()\n",
    "        self.tree.setModel(self.model)\n",
    "        \n",
    "        self.tree.setAnimated(False)\n",
    "        self.tree.setIndentation(20)\n",
    "        self.tree.setSortingEnabled(True)\n",
    "        \n",
    "        self.tree.setWindowTitle(\"Dir View\")\n",
    "        self.tree.resize(640, 480)\n",
    "        \n",
    "        windowLayout = QVBoxLayout()\n",
    "        windowLayout.addWidget(self.tree)\n",
    "        self.setLayout(windowLayout)\n",
    "        \n",
    "        self.show()\n",
    "\n",
    "if __name__ == '__main__':\n",
    "    app = QApplication(sys.argv)\n",
    "    ex = App()\n",
    "    sys.exit(app.exec_())"
   ]
  },
  {
   "cell_type": "code",
   "execution_count": null,
   "id": "88a27df4",
   "metadata": {},
   "outputs": [],
   "source": []
  }
 ],
 "metadata": {
  "kernelspec": {
   "display_name": ".venv",
   "language": "python",
   "name": "python3"
  },
  "language_info": {
   "codemirror_mode": {
    "name": "ipython",
    "version": 3
   },
   "file_extension": ".py",
   "mimetype": "text/x-python",
   "name": "python",
   "nbconvert_exporter": "python",
   "pygments_lexer": "ipython3",
   "version": "3.9.13"
  }
 },
 "nbformat": 4,
 "nbformat_minor": 5
}
