{
 "cells": [
  {
   "cell_type": "code",
   "execution_count": 10,
   "id": "c24f786c-3ba7-4f9c-b8e4-723579da36f7",
   "metadata": {},
   "outputs": [],
   "source": [
    "import numpy as np\n",
    "import pandas as pd\n",
    "from pathlib import Path\n",
    "import os\n",
    "import sys\n",
    "from threading import Thread\n",
    "\n",
    "import h5py\n",
    "import hdf5storage # conda install hdf5storage\n",
    "import ipywidgets as widgets\n",
    "\n",
    "%config Completer.use_jedi = False\n",
    "\n",
    "# # required to enable non-blocking interaction:\n",
    "%gui qt5\n",
    "\n",
    "from pyphocorehelpers.Filesystem.HDF5.hdf5_file_helpers import h5dump, HDF5_Helper\n",
    "from pyphocorehelpers.Filesystem.HDF5.silx_hdf5_viewer import hdf5_tree_view_window\n",
    "\n",
    "from pyphocorehelpers.Filesystem.path_helpers import discover_data_files\n",
    "from pyphocorehelpers.print_helpers import debug_dump_object_member_shapes, print_value_overview_only, pprint, debug_print, print_keys_if_possible\n",
    "from pyphoplacecellanalysis.PhoPositionalData.load_exported import import_mat_file\n",
    "# from pyphoplacecellanalysis.PhoPositionalData.process_data import process_positionalAnalysis_data, gen_2d_histrogram, get_heatmap_color_vectors, process_chunk_equal_poritions_data, extract_spike_timeseries\n",
    "# from pyphoplacecellanalysis.PhoPositionalData.process_data import process_positionalAnalysis_data, extract_spike_timeseries\n",
    "from pyphoplacecellanalysis.General.Mixins.ExportHelpers import _test_save_pipeline_data_to_h5, get_h5_data_keys, save_some_pipeline_data_to_h5, load_pipeline_data_from_h5  #ExportHelpers\n",
    "\n",
    "from pyphoplacecellanalysis.GUI.PyQtPlot.Params.MatFileBrowser.MatFileBrowser import MatFileBrowser\n",
    "\n",
    "## Drastically improve Python Tracebacks on exceptions:\n",
    "# from rich.traceback import install\n",
    "# install()"
   ]
  },
  {
   "cell_type": "code",
   "execution_count": null,
   "id": "328c053a-dff4-4a6d-a37f-c5c146db6182",
   "metadata": {},
   "outputs": [],
   "source": [
    "# RoyMaze1:\n",
    "\n",
    "mat_import_parent_path = Path(r'R:\\data\\RoyMaze1')\n",
    "# mat_import_parent_path = Path(r'C:\\Share\\data\\RoyMaze1') # Old one\n",
    "# mat_import_file = r'C:\\Share\\data\\RoyMaze1\\ExportedData.mat'\n",
    "\n",
    "found_files = MatFileBrowser.discover_mat_files(mat_import_parent_path, recursive=True)\n",
    "found_files"
   ]
  },
  {
   "cell_type": "code",
   "execution_count": 11,
   "id": "611ba082",
   "metadata": {},
   "outputs": [],
   "source": [
    "# from param import define, field, Factory\n",
    "# class FilesCollection:\n",
    "\n",
    "\n",
    "\n",
    "def print_data_files_list_as_array(filenames_list):\n",
    "    # print(f'filenames_list: {filenames_list}')\n",
    "    # filenames_list_str = ',\\n'.join([str(a_path) for a_path in filenames_list])\n",
    "    filenames_list_str = ',\\n'.join([f'r\"{str(a_path)}\"' for a_path in filenames_list])\n",
    "    print(f'filenames_list_str: [{filenames_list_str}]')\n",
    "    # for a_path in filenames_list:\n",
    "    #     print(f'{str(a_path)}')\n"
   ]
  },
  {
   "cell_type": "code",
   "execution_count": 12,
   "id": "50154453",
   "metadata": {},
   "outputs": [
    {
     "data": {
      "text/plain": [
       "[WindowsPath('W:/Data/Kdiba/gor01/one/2006-6-07_11-26-53/output/global_computation_results.pkl'),\n",
       " WindowsPath('W:/Data/Kdiba/gor01/one/2006-6-08_14-26-15/output/global_computation_results.pkl'),\n",
       " WindowsPath('W:/Data/Kdiba/gor01/one/2006-6-09_1-22-43/output/global_computation_results.pkl'),\n",
       " WindowsPath('W:/Data/Kdiba/gor01/one/2006-6-09_1-22-43/output/leave_one_out_results_long.pkl'),\n",
       " WindowsPath('W:/Data/Kdiba/gor01/one/2006-6-09_1-22-43/output/leave_one_out_results_long_2D.pkl'),\n",
       " WindowsPath('W:/Data/Kdiba/gor01/one/2006-6-09_1-22-43/output/leave_one_out_results_short.pkl'),\n",
       " WindowsPath('W:/Data/Kdiba/gor01/one/2006-6-09_1-22-43/output/leave_one_out_results_short_2D.pkl'),\n",
       " WindowsPath('W:/Data/Kdiba/gor01/one/2006-6-09_1-22-43/output/leave_one_out_surprise_results_long.pkl'),\n",
       " WindowsPath('W:/Data/Kdiba/gor01/one/2006-6-09_1-22-43/output/leave_one_out_surprise_results_long_2D.pkl'),\n",
       " WindowsPath('W:/Data/Kdiba/gor01/one/2006-6-09_1-22-43/output/leave_one_out_surprise_results_short.pkl'),\n",
       " WindowsPath('W:/Data/Kdiba/gor01/one/2006-6-12_15-55-31/output/global_computation_results.pkl'),\n",
       " WindowsPath('W:/Data/Kdiba/gor01/one/2006-6-12_15-55-31/output/leave_one_out_results.pkl'),\n",
       " WindowsPath('W:/Data/Kdiba/gor01/one/2006-6-12_15-55-31/output/leave_one_out_results_long.pkl'),\n",
       " WindowsPath('W:/Data/Kdiba/gor01/two/2006-6-07_16-40-19/output/global_computation_results.pkl'),\n",
       " WindowsPath('W:/Data/Kdiba/gor01/two/2006-6-07_16-40-19/output/leave_one_out_results_long.pkl'),\n",
       " WindowsPath('W:/Data/Kdiba/gor01/two/2006-6-07_16-40-19/output/leave_one_out_results_short.pkl'),\n",
       " WindowsPath('W:/Data/Kdiba/gor01/two/2006-6-07_16-40-19/output/leave_one_out_surprise_results_long.pkl'),\n",
       " WindowsPath('W:/Data/Kdiba/gor01/two/2006-6-07_16-40-19/output/leave_one_out_surprise_results_short.pkl'),\n",
       " WindowsPath('W:/Data/Kdiba/gor01/two/2006-6-08_15-46-47/output/leave_one_out_results_long.pkl'),\n",
       " WindowsPath('W:/Data/Kdiba/gor01/two/2006-6-08_15-46-47/output/leave_one_out_results_short.pkl'),\n",
       " WindowsPath('W:/Data/Kdiba/gor01/two/2006-6-08_15-46-47/output/leave_one_out_surprise_results_long.pkl'),\n",
       " WindowsPath('W:/Data/Kdiba/gor01/two/2006-6-08_15-46-47/output/leave_one_out_surprise_results_short.pkl'),\n",
       " WindowsPath('W:/Data/Kdiba/gor01/two/2006-6-08_21-16-25/output/global_computation_results.pkl'),\n",
       " WindowsPath('W:/Data/Kdiba/gor01/two/2006-6-09_22-24-40/output/global_computation_results.pkl'),\n",
       " WindowsPath('W:/Data/Kdiba/gor01/two/2006-6-12_16-53-46/output/global_computation_results.pkl'),\n",
       " WindowsPath('W:/Data/Kdiba/gor01/two/2006-6-13_15-22-3/output/global_computation_results.pkl'),\n",
       " WindowsPath('W:/Data/Kdiba/pin01/one/11-02_17-46-44/output/leave_one_out_results_long.pkl'),\n",
       " WindowsPath('W:/Data/Kdiba/pin01/one/11-02_17-46-44/output/leave_one_out_results_short.pkl'),\n",
       " WindowsPath('W:/Data/Kdiba/pin01/one/11-02_17-46-44/output/leave_one_out_surprise_long_short_results.pkl'),\n",
       " WindowsPath('W:/Data/Kdiba/pin01/one/11-02_17-46-44/output/leave_one_out_surprise_results_long.pkl'),\n",
       " WindowsPath('W:/Data/Kdiba/pin01/one/11-02_17-46-44/output/leave_one_out_surprise_results_short.pkl'),\n",
       " WindowsPath('W:/Data/Kdiba/vvp01/one/2006-4-09_17-29-30/output/global_computation_results.pkl'),\n",
       " WindowsPath('W:/Data/Kdiba/vvp01/one/2006-4-17_12-33-47/output/global_computation_results.pkl'),\n",
       " WindowsPath('W:/Data/Kdiba/vvp01/one/2006-4-18_15-23-32/output/global_computation_results.pkl'),\n",
       " WindowsPath('W:/Data/Kdiba/vvp01/one/2006-4-19_13-34-40/output/global_computation_results.pkl'),\n",
       " WindowsPath('W:/Data/Kdiba/vvp01/two/2006-4-09_16-40-54/output/global_computation_results.pkl'),\n",
       " WindowsPath('W:/Data/Kdiba/vvp01/two/2006-4-10_12-58-3/output/global_computation_results.pkl'),\n",
       " WindowsPath('W:/Data/Kdiba/vvp01/two/2006-4-12_15-25-59/output/global_computation_results.pkl'),\n",
       " WindowsPath('W:/Data/Kdiba/vvp01/two/2006-4-16_14-49-24/output/global_computation_results.pkl'),\n",
       " WindowsPath('W:/Data/Kdiba/gor01/one/2006-6-08_14-26-15/20230522101127-loadedSessPickle.pkl'),\n",
       " WindowsPath('W:/Data/Kdiba/gor01/one/2006-6-08_14-26-15/20230525074550-loadedSessPickle.pkl'),\n",
       " WindowsPath('W:/Data/Kdiba/gor01/one/2006-6-09_1-22-43/20230418200801-loadedSessPickle.pkl'),\n",
       " WindowsPath('W:/Data/Kdiba/gor01/one/2006-6-09_1-22-43/20230418200846-loadedSessPickle.pkl'),\n",
       " WindowsPath('W:/Data/Kdiba/gor01/one/2006-6-09_1-22-43/20230418201811-loadedSessPickle.pkl'),\n",
       " WindowsPath('W:/Data/Kdiba/gor01/one/2006-6-09_1-22-43/20230424153841-loadedSessPickle.pkl'),\n",
       " WindowsPath('W:/Data/Kdiba/gor01/one/2006-6-09_1-22-43/20230524092446-loadedSessPickle.pkl'),\n",
       " WindowsPath('W:/Data/Kdiba/gor01/one/2006-6-09_1-22-43/20230526191228-loadedSessPickle.pkl'),\n",
       " WindowsPath('W:/Data/Kdiba/vvp01/two/2006-4-16_14-49-24/20230605093632-loadedSessPickle.pkl')]"
      ]
     },
     "execution_count": 12,
     "metadata": {},
     "output_type": "execute_result"
    }
   ],
   "source": [
    "search_parent_path = Path(r'W:\\\\Data\\\\Kdiba')\n",
    "found_autoversioned_session_pickle_files = discover_data_files(search_parent_path, glob_pattern='*-loadedSessPickle.pkl', recursive=True)\n",
    "found_global_computation_results_files = discover_data_files(search_parent_path, glob_pattern='output/*.pkl', recursive=True)\n",
    "\n",
    "found_files = found_global_computation_results_files + found_autoversioned_session_pickle_files\n",
    "found_files"
   ]
  },
  {
   "cell_type": "code",
   "execution_count": 13,
   "id": "35e6951f",
   "metadata": {},
   "outputs": [
    {
     "name": "stdout",
     "output_type": "stream",
     "text": [
      "filenames_list_str: [r\"W:\\Data\\Kdiba\\gor01\\one\\2006-6-07_11-26-53\\output\\global_computation_results.pkl\",\n",
      "r\"W:\\Data\\Kdiba\\gor01\\one\\2006-6-08_14-26-15\\output\\global_computation_results.pkl\",\n",
      "r\"W:\\Data\\Kdiba\\gor01\\one\\2006-6-09_1-22-43\\output\\global_computation_results.pkl\",\n",
      "r\"W:\\Data\\Kdiba\\gor01\\one\\2006-6-09_1-22-43\\output\\leave_one_out_results_long.pkl\",\n",
      "r\"W:\\Data\\Kdiba\\gor01\\one\\2006-6-09_1-22-43\\output\\leave_one_out_results_long_2D.pkl\",\n",
      "r\"W:\\Data\\Kdiba\\gor01\\one\\2006-6-09_1-22-43\\output\\leave_one_out_results_short.pkl\",\n",
      "r\"W:\\Data\\Kdiba\\gor01\\one\\2006-6-09_1-22-43\\output\\leave_one_out_results_short_2D.pkl\",\n",
      "r\"W:\\Data\\Kdiba\\gor01\\one\\2006-6-09_1-22-43\\output\\leave_one_out_surprise_results_long.pkl\",\n",
      "r\"W:\\Data\\Kdiba\\gor01\\one\\2006-6-09_1-22-43\\output\\leave_one_out_surprise_results_long_2D.pkl\",\n",
      "r\"W:\\Data\\Kdiba\\gor01\\one\\2006-6-09_1-22-43\\output\\leave_one_out_surprise_results_short.pkl\",\n",
      "r\"W:\\Data\\Kdiba\\gor01\\one\\2006-6-12_15-55-31\\output\\global_computation_results.pkl\",\n",
      "r\"W:\\Data\\Kdiba\\gor01\\one\\2006-6-12_15-55-31\\output\\leave_one_out_results.pkl\",\n",
      "r\"W:\\Data\\Kdiba\\gor01\\one\\2006-6-12_15-55-31\\output\\leave_one_out_results_long.pkl\",\n",
      "r\"W:\\Data\\Kdiba\\gor01\\two\\2006-6-07_16-40-19\\output\\global_computation_results.pkl\",\n",
      "r\"W:\\Data\\Kdiba\\gor01\\two\\2006-6-07_16-40-19\\output\\leave_one_out_results_long.pkl\",\n",
      "r\"W:\\Data\\Kdiba\\gor01\\two\\2006-6-07_16-40-19\\output\\leave_one_out_results_short.pkl\",\n",
      "r\"W:\\Data\\Kdiba\\gor01\\two\\2006-6-07_16-40-19\\output\\leave_one_out_surprise_results_long.pkl\",\n",
      "r\"W:\\Data\\Kdiba\\gor01\\two\\2006-6-07_16-40-19\\output\\leave_one_out_surprise_results_short.pkl\",\n",
      "r\"W:\\Data\\Kdiba\\gor01\\two\\2006-6-08_15-46-47\\output\\leave_one_out_results_long.pkl\",\n",
      "r\"W:\\Data\\Kdiba\\gor01\\two\\2006-6-08_15-46-47\\output\\leave_one_out_results_short.pkl\",\n",
      "r\"W:\\Data\\Kdiba\\gor01\\two\\2006-6-08_15-46-47\\output\\leave_one_out_surprise_results_long.pkl\",\n",
      "r\"W:\\Data\\Kdiba\\gor01\\two\\2006-6-08_15-46-47\\output\\leave_one_out_surprise_results_short.pkl\",\n",
      "r\"W:\\Data\\Kdiba\\gor01\\two\\2006-6-08_21-16-25\\output\\global_computation_results.pkl\",\n",
      "r\"W:\\Data\\Kdiba\\gor01\\two\\2006-6-09_22-24-40\\output\\global_computation_results.pkl\",\n",
      "r\"W:\\Data\\Kdiba\\gor01\\two\\2006-6-12_16-53-46\\output\\global_computation_results.pkl\",\n",
      "r\"W:\\Data\\Kdiba\\gor01\\two\\2006-6-13_15-22-3\\output\\global_computation_results.pkl\",\n",
      "r\"W:\\Data\\Kdiba\\pin01\\one\\11-02_17-46-44\\output\\leave_one_out_results_long.pkl\",\n",
      "r\"W:\\Data\\Kdiba\\pin01\\one\\11-02_17-46-44\\output\\leave_one_out_results_short.pkl\",\n",
      "r\"W:\\Data\\Kdiba\\pin01\\one\\11-02_17-46-44\\output\\leave_one_out_surprise_long_short_results.pkl\",\n",
      "r\"W:\\Data\\Kdiba\\pin01\\one\\11-02_17-46-44\\output\\leave_one_out_surprise_results_long.pkl\",\n",
      "r\"W:\\Data\\Kdiba\\pin01\\one\\11-02_17-46-44\\output\\leave_one_out_surprise_results_short.pkl\",\n",
      "r\"W:\\Data\\Kdiba\\vvp01\\one\\2006-4-09_17-29-30\\output\\global_computation_results.pkl\",\n",
      "r\"W:\\Data\\Kdiba\\vvp01\\one\\2006-4-17_12-33-47\\output\\global_computation_results.pkl\",\n",
      "r\"W:\\Data\\Kdiba\\vvp01\\one\\2006-4-18_15-23-32\\output\\global_computation_results.pkl\",\n",
      "r\"W:\\Data\\Kdiba\\vvp01\\one\\2006-4-19_13-34-40\\output\\global_computation_results.pkl\",\n",
      "r\"W:\\Data\\Kdiba\\vvp01\\two\\2006-4-09_16-40-54\\output\\global_computation_results.pkl\",\n",
      "r\"W:\\Data\\Kdiba\\vvp01\\two\\2006-4-10_12-58-3\\output\\global_computation_results.pkl\",\n",
      "r\"W:\\Data\\Kdiba\\vvp01\\two\\2006-4-12_15-25-59\\output\\global_computation_results.pkl\",\n",
      "r\"W:\\Data\\Kdiba\\vvp01\\two\\2006-4-16_14-49-24\\output\\global_computation_results.pkl\",\n",
      "r\"W:\\Data\\Kdiba\\gor01\\one\\2006-6-08_14-26-15\\20230522101127-loadedSessPickle.pkl\",\n",
      "r\"W:\\Data\\Kdiba\\gor01\\one\\2006-6-08_14-26-15\\20230525074550-loadedSessPickle.pkl\",\n",
      "r\"W:\\Data\\Kdiba\\gor01\\one\\2006-6-09_1-22-43\\20230418200801-loadedSessPickle.pkl\",\n",
      "r\"W:\\Data\\Kdiba\\gor01\\one\\2006-6-09_1-22-43\\20230418200846-loadedSessPickle.pkl\",\n",
      "r\"W:\\Data\\Kdiba\\gor01\\one\\2006-6-09_1-22-43\\20230418201811-loadedSessPickle.pkl\",\n",
      "r\"W:\\Data\\Kdiba\\gor01\\one\\2006-6-09_1-22-43\\20230424153841-loadedSessPickle.pkl\",\n",
      "r\"W:\\Data\\Kdiba\\gor01\\one\\2006-6-09_1-22-43\\20230524092446-loadedSessPickle.pkl\",\n",
      "r\"W:\\Data\\Kdiba\\gor01\\one\\2006-6-09_1-22-43\\20230526191228-loadedSessPickle.pkl\",\n",
      "r\"W:\\Data\\Kdiba\\vvp01\\two\\2006-4-16_14-49-24\\20230605093632-loadedSessPickle.pkl\"]\n"
     ]
    }
   ],
   "source": [
    "print_data_files_list_as_array(found_files)"
   ]
  },
  {
   "cell_type": "code",
   "execution_count": null,
   "id": "0833e921-b965-44d9-b3d2-f9396ad07a1f",
   "metadata": {},
   "outputs": [],
   "source": [
    "found_file_variables_dict = MatFileBrowser.whos_mat_files(found_files)\n",
    "print(found_file_variables_dict)"
   ]
  },
  {
   "attachments": {},
   "cell_type": "markdown",
   "id": "9dd9e3b6-f4c6-4239-9fb8-f6d4d28729ad",
   "metadata": {
    "tags": []
   },
   "source": [
    "# Silx hdf5 Widgets"
   ]
  },
  {
   "cell_type": "code",
   "execution_count": null,
   "id": "d260ef24-bc2d-4a45-b3af-125078bc9028",
   "metadata": {},
   "outputs": [],
   "source": [
    "non_hdf5_files = [Path(r'R:/data/RoyMaze1/ExportedData/extrasAnalysis.mat'), Path('R:/data/RoyMaze1/ExportedData/RippleIndexedSpikes.mat')] # , Path(r'R:/data/RoyMaze1/ExportedData/positionAnalysis.mat')\n",
    "hdf5_found_files = [str(found_file) for found_file in found_files if found_file not in non_hdf5_files]\n",
    "print(f'hdf5_found_files: {hdf5_found_files}')\n",
    "win = hdf5_tree_view_window(hdf5_found_files)\n",
    "win"
   ]
  },
  {
   "attachments": {},
   "cell_type": "markdown",
   "id": "44190e5a-04e6-46d1-88dc-038d7fe8ee9c",
   "metadata": {},
   "source": [
    "# Overflow (Not needed, Slix HDF5 widget worked to display/browse the data)"
   ]
  },
  {
   "cell_type": "code",
   "execution_count": null,
   "id": "e7d35f80-2acb-4f64-b02b-1e5514cd6a2a",
   "metadata": {},
   "outputs": [],
   "source": []
  },
  {
   "cell_type": "code",
   "execution_count": null,
   "id": "c6611c25-1f1f-45e2-8212-8a3d67cbef79",
   "metadata": {},
   "outputs": [],
   "source": [
    "# Import the positions\n",
    "t,x,y,speeds,dt,dx,dy = perform_import_positions(mat_import_parent_path=mat_import_parent_path)\n",
    "# Import the spikes\n",
    "spike_matrix, spike_cells, num_cells, spike_list, spike_positions_list = perform_import_spikes(t, x, y, mat_import_parent_path=mat_import_parent_path)\n",
    "\n",
    "ripple_times, ripple_peak_times, ripple_peak_values, behavioral_periods, behavioral_epochs = perform_import_extras(mat_import_parent_path=mat_import_parent_path)\n",
    "\n",
    "# behavioral_periods = all_results_data['active_processing/behavioral_periods_table']\n",
    "# print('spike_matrix: {}, spike_cells: {}'.format(np.shape(spike_matrix), np.shape(spike_cells)))\n",
    "num_periods = np.shape(behavioral_periods)[0]\n",
    "print('num_periods: {}'.format(num_periods))\n",
    "\n",
    "\n",
    "# creating the dataset\n",
    "#date = [i for i in range(2000, 2021)]\n",
    " \n",
    "# Create a figure and a set of subplots\n",
    "fig, ax = plt.subplots(figsize=(10, 6))\n",
    " \n",
    "# Creating the scatter plot\n",
    "#ax.scatter(date, value)\n",
    " \n",
    "# Highlighting for a certain period of time\n",
    "num_ripples = np.shape(ripple_times)[0]\n",
    "for i in np.arange(num_ripples):\n",
    "    ax.axvspan(ripple_times[i,0], ripple_times[i,1], alpha=0.3, color=\"green\")\n",
    "\n",
    "plt.show()"
   ]
  },
  {
   "cell_type": "code",
   "execution_count": null,
   "id": "102bd879-15a2-4be7-a6ce-33e5783418e1",
   "metadata": {},
   "outputs": [],
   "source": [
    "import silx.gui.hdf5\n",
    "treeview = silx.gui.hdf5.Hdf5TreeView()\n",
    "model = treeview.findHdf5TreeModel()\n",
    "# Avoid the user to drop file in the widget\n",
    "model.setFileDropEnabled(False)\n",
    "# Allow the user to reorder files with drag-and-drop\n",
    "model.setFileMoveEnabled(True)\n",
    "header = treeview.header()\n",
    "# Select displayed columns\n",
    "column_ids = [treeview.findHdf5TreeModel().NAME_COLUMN]\n",
    "header.setSections(column_ids)\n",
    "# Do not allow the user to custom visible columns\n",
    "header.setEnableHideColumnsPopup(False)"
   ]
  },
  {
   "attachments": {},
   "cell_type": "markdown",
   "id": "88ec9519-6da8-44b6-8644-d255469b220b",
   "metadata": {
    "jp-MarkdownHeadingCollapsed": true,
    "tags": []
   },
   "source": [
    "## MatFileBrowser.build_browsing_gui(...) Parameter Tree GUI (WORKING, NOT USED)"
   ]
  },
  {
   "cell_type": "code",
   "execution_count": null,
   "id": "c3939f51-e717-471a-ad00-6ab2fa84762b",
   "metadata": {},
   "outputs": [],
   "source": [
    "tree, app = MatFileBrowser.build_browsing_gui(found_file_variables_dict)\n",
    "tree.show()"
   ]
  },
  {
   "attachments": {},
   "cell_type": "markdown",
   "id": "8e55dda7-e6b3-42c3-b2c1-9bd5a43bdd99",
   "metadata": {
    "jp-MarkdownHeadingCollapsed": true,
    "tags": []
   },
   "source": [
    "## HDF5_Helper Recurrsion Testing (NOT FINISHED, NOT WORKING, NOT USED)"
   ]
  },
  {
   "cell_type": "code",
   "execution_count": null,
   "id": "768cdf8b-193e-4949-a379-33323617c689",
   "metadata": {},
   "outputs": [],
   "source": [
    "# found_file = Path(r'R:/data/RoyMaze1/analysesResults_30-Sep-2021/allEnv.mat')\n",
    "# found_file = Path(r'R:/data/RoyMaze1/ExportedData/spikesAnalysis.mat')\n",
    "# found_file = Path(r'R:\\data\\RoyMaze1\\ExportedData\\extrasAnalysis.mat')\n",
    "found_file = Path(r'R:/data/RoyMaze1/ExportedData/spikesTable.mat')"
   ]
  },
  {
   "cell_type": "code",
   "execution_count": null,
   "id": "d5e6a91d-4395-48f5-b501-f0a8af0b779e",
   "metadata": {},
   "outputs": [],
   "source": [
    "# import h5py\n",
    "helper = HDF5_Helper(path=found_file, group='active_processing')\n",
    "helper.output_tree"
   ]
  },
  {
   "cell_type": "code",
   "execution_count": null,
   "id": "176d7872-dbd0-41a8-a873-d8da23f82a41",
   "metadata": {},
   "outputs": [],
   "source": [
    "# helper.perform_enumerate(debug_print=True)\n",
    "helper.perform_enumerate(debug_print=False)\n",
    "helper.output_tree"
   ]
  },
  {
   "cell_type": "code",
   "execution_count": null,
   "id": "4cf6b265-1417-47f1-bc55-6cb9765cedd0",
   "metadata": {},
   "outputs": [],
   "source": [
    "found_file_variables_dict[found_file]"
   ]
  },
  {
   "cell_type": "code",
   "execution_count": null,
   "id": "8943df59-5738-48fd-a816-587187be2dbf",
   "metadata": {},
   "outputs": [],
   "source": [
    "h5dump(found_file, group='active_processing', enable_print_attributes=False)"
   ]
  },
  {
   "attachments": {},
   "cell_type": "markdown",
   "id": "f1c87e78-57e2-4943-a64f-23f059cebf88",
   "metadata": {
    "jp-MarkdownHeadingCollapsed": true,
    "tags": []
   },
   "source": [
    "## h5py 'visit_item' testing (WORKING, NOT USED):"
   ]
  },
  {
   "cell_type": "code",
   "execution_count": null,
   "id": "0830be9a-4cba-4ada-b4ab-9258c48cc342",
   "metadata": {},
   "outputs": [],
   "source": [
    "def pho_visit_item_fn(name, obj):\n",
    "    # Recursively visit all objects in this group and subgroups. Like Group.visit(), except your callable should have the signature:\n",
    "    # callable(name, object) -> None or return value\n",
    "    # In this case object will be a Group or Dataset instance.\n",
    "    # if name not in ignored_keys:        \n",
    "    if '#' in name:\n",
    "        return None\n",
    "    else:\n",
    "        print(f'name: {name}, obj: {obj}')\n",
    "        # if type(obj) in [h5py._hl.group.Group, h5py._hl.files.File]:\n",
    "        #     for key in obj.keys():\n",
    "        #         print(sep,'-',key,':',obj[key])\n",
    "        #         descend_obj(obj[key],sep=sep+'\\t')\n",
    "        # elif type(obj)==h5py._hl.dataset.Dataset:\n",
    "        #     for key in obj.attrs.keys():\n",
    "        #         print(sep+'\\t','-',key,':',obj.attrs[key])\n",
    "            \n",
    "    \n",
    "def find_foo(name):\n",
    "    \"\"\" Find first object with 'foo' anywhere in the name \"\"\"\n",
    "    if 'foo' in name:\n",
    "        return name\n",
    "\n",
    "with h5py.File(found_file,'r') as f:\n",
    "    print(f'file:{found_file}: {f}')\n",
    "    # print(f.visititems)\n",
    "    _out = f.visititems(pho_visit_item_fn)\n",
    "    # group.visit(find_foo)\n",
    "\n",
    "    # f.attrs\n",
    "    # print_value_overview_only(f)\n",
    "    # # found_data_dict = {a_key:meta_info_dict for a_key in list(f.keys()) if a_key not in ignored_keys} ## filter the ignored keys\n",
    "    # # found_keys = [a_key for a_key in list(f.keys()) if a_key not in ignored_keys] ## filter the ignored keys\n",
    "    # f.name"
   ]
  },
  {
   "attachments": {},
   "cell_type": "markdown",
   "id": "4eeb9a26-8d8a-4eb2-842e-a1f2c9c207f0",
   "metadata": {
    "jp-MarkdownHeadingCollapsed": true,
    "tags": []
   },
   "source": [
    "## QFileSystemModel, QTreeView: Fresh Implementation (NOT USED)"
   ]
  },
  {
   "cell_type": "code",
   "execution_count": 6,
   "id": "4903d8dc-3bf9-4b14-b725-d0d3f9fa12c4",
   "metadata": {},
   "outputs": [],
   "source": [
    "import sys\n",
    "from PyQt5.QtWidgets import QApplication, QFileSystemModel, QTreeView, QWidget, QVBoxLayout\n",
    "from PyQt5.QtGui import QIcon\n",
    "\n",
    "class App(QWidget):\n",
    "\n",
    "    def __init__(self):\n",
    "        super().__init__()\n",
    "        self.title = 'PyQt5 file system view - pythonspot.com'\n",
    "        self.left = 10\n",
    "        self.top = 10\n",
    "        self.width = 640\n",
    "        self.height = 480\n",
    "        self.initUI()\n",
    "    \n",
    "    def initUI(self):\n",
    "        self.setWindowTitle(self.title)\n",
    "        self.setGeometry(self.left, self.top, self.width, self.height)\n",
    "        \n",
    "        self.model = QFileSystemModel()\n",
    "        self.model.setRootPath(r'E:\\data')\n",
    "        self.tree = QTreeView()\n",
    "        self.tree.setModel(self.model)\n",
    "        \n",
    "        self.tree.setAnimated(False)\n",
    "        self.tree.setIndentation(20)\n",
    "        self.tree.setSortingEnabled(True)\n",
    "        \n",
    "        self.tree.setWindowTitle(\"Dir View\")\n",
    "        self.tree.resize(640, 480)\n",
    "        \n",
    "        windowLayout = QVBoxLayout()\n",
    "        windowLayout.addWidget(self.tree)\n",
    "        self.setLayout(windowLayout)\n",
    "        \n",
    "        self.show()\n",
    "\n",
    "if __name__ == '__main__':\n",
    "    app = QApplication(sys.argv)\n",
    "    ex = App()\n",
    "    sys.exit(app.exec_())"
   ]
  },
  {
   "cell_type": "code",
   "execution_count": null,
   "id": "88a27df4",
   "metadata": {},
   "outputs": [],
   "source": []
  }
 ],
 "metadata": {
  "kernelspec": {
   "display_name": ".venv",
   "language": "python",
   "name": "python3"
  },
  "language_info": {
   "codemirror_mode": {
    "name": "ipython",
    "version": 3
   },
   "file_extension": ".py",
   "mimetype": "text/x-python",
   "name": "python",
   "nbconvert_exporter": "python",
   "pygments_lexer": "ipython3",
   "version": "3.9.13"
  }
 },
 "nbformat": 4,
 "nbformat_minor": 5
}
