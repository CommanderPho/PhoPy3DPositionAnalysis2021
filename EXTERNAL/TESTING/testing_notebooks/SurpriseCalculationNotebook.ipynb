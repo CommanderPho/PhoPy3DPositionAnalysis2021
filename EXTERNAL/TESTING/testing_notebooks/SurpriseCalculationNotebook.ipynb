{
 "cells": [
  {
   "cell_type": "code",
   "execution_count": 4,
   "id": "bd51cb7b-3999-4f24-a900-2403bf81b448",
   "metadata": {},
   "outputs": [],
   "source": [
    "import numpy as np\n",
    "from scipy import stats\n",
    "\n",
    "from scipy.special import rel_entr # alternative"
   ]
  },
  {
   "cell_type": "markdown",
   "id": "655cfb20-24e9-4303-9423-6ce1e182ef92",
   "metadata": {},
   "source": [
    "Note that the units used in this calculation are known as nats, which is short for natural unit of information"
   ]
  },
  {
   "cell_type": "markdown",
   "id": "92aa00f3-7837-4832-ad74-006e4ae6f3df",
   "metadata": {},
   "source": [
    "## Also see:\n",
    "https://docs.scipy.org/doc/scipy/reference/generated/scipy.special.rel_entr.html#scipy.special.rel_entr\n",
    "\n",
    "https://www.statology.org/kl-divergence-python/"
   ]
  },
  {
   "cell_type": "code",
   "execution_count": 2,
   "id": "120985f0-5dbf-456a-8cfa-824c95f0424d",
   "metadata": {},
   "outputs": [],
   "source": [
    "#define two probability distributions\n",
    "P = [.05, .1, .2, .05, .15, .25, .08, .12]\n",
    "Q = [.3, .1, .2, .1, .1, .02, .08, .1]\n",
    "\n",
    "distributions = np.vstack((P, Q))\n",
    "distributions"
   ]
  },
  {
   "cell_type": "markdown",
   "id": "33038004-b8ae-41e2-9574-ccac03483702",
   "metadata": {},
   "source": [
    "https://stackoverflow.com/questions/34007028/efficient-way-of-computing-kullback-leibler-divergence-in-python"
   ]
  },
  {
   "cell_type": "code",
   "execution_count": 7,
   "id": "cd318add-b926-4b9f-85bf-cbbad4d92d15",
   "metadata": {},
   "outputs": [
    {
     "data": {
      "text/plain": [
       "array([[0.        , 0.58988518],\n",
       "       [0.49754932, 0.        ]])"
      ]
     },
     "execution_count": 7,
     "metadata": {},
     "output_type": "execute_result"
    }
   ],
   "source": [
    "# https://stackoverflow.com/questions/34007028/efficient-way-of-computing-kullback-leibler-divergence-in-python\n",
    "# In our case, we are doing these entropy calculations for each *row* in `distributions` against all *rows*\n",
    "kld = stats.entropy(distributions.T[:,:,None], distributions.T[:,None,:])\n",
    "kld\n",
    "\n",
    "# array([[0.        , 0.58988518],\n",
    "#        [0.49754932, 0.        ]])"
   ]
  },
  {
   "cell_type": "code",
   "execution_count": 3,
   "id": "80f064f6-afb9-4a94-b5c9-abb399d67440",
   "metadata": {},
   "outputs": [
    {
     "data": {
      "text/plain": [
       "array([[0.        , 0.58988518],\n",
       "       [0.49754932, 0.        ]])"
      ]
     },
     "execution_count": 3,
     "metadata": {},
     "output_type": "execute_result"
    }
   ],
   "source": [
    "# stats.entropy(distributions[0,None].T, distributions[1:].T)"
   ]
  },
  {
   "cell_type": "code",
   "execution_count": 5,
   "id": "fa6faec4-d2a1-4f26-80e4-99bde34f1b59",
   "metadata": {},
   "outputs": [
    {
     "data": {
      "text/plain": [
       "0.589885181619163"
      ]
     },
     "execution_count": 5,
     "metadata": {},
     "output_type": "execute_result"
    }
   ],
   "source": [
    "sum(rel_entr(P, Q)) # 0.589885181619163 nats"
   ]
  },
  {
   "cell_type": "code",
   "execution_count": 6,
   "id": "66e894ab-0c9f-473c-86ef-c5770aad8ef3",
   "metadata": {},
   "outputs": [
    {
     "data": {
      "text/plain": [
       "0.497549319448034"
      ]
     },
     "execution_count": 6,
     "metadata": {},
     "output_type": "execute_result"
    }
   ],
   "source": [
    "sum(rel_entr(Q, P)) # 0.497549319448034 nats"
   ]
  },
  {
   "cell_type": "code",
   "execution_count": null,
   "id": "e71e8803-f15c-4d85-9af1-4bb46866c9ec",
   "metadata": {},
   "outputs": [],
   "source": []
  }
 ],
 "metadata": {
  "kernelspec": {
   "display_name": "Python [conda env:miniconda3-phoviz_ultimate]",
   "language": "python",
   "name": "conda-env-miniconda3-phoviz_ultimate-py"
  },
  "language_info": {
   "codemirror_mode": {
    "name": "ipython",
    "version": 3
   },
   "file_extension": ".py",
   "mimetype": "text/x-python",
   "name": "python",
   "nbconvert_exporter": "python",
   "pygments_lexer": "ipython3",
   "version": "3.9.13"
  }
 },
 "nbformat": 4,
 "nbformat_minor": 5
}
