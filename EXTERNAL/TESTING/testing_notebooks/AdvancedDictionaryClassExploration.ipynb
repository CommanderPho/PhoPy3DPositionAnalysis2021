{
 "cells": [
  {
   "cell_type": "code",
   "execution_count": 1,
   "id": "42cab856-08bd-492e-ace9-f97772d1943f",
   "metadata": {},
   "outputs": [],
   "source": [
    "from pyphocorehelpers.print_helpers import debug_print\n",
    "from pyphocorehelpers.DataStructure.dynamic_parameters import DynamicParameters"
   ]
  },
  {
   "cell_type": "markdown",
   "id": "f2b6af21-8700-4d03-9cc6-6646b200ea58",
   "metadata": {},
   "source": [
    "## dotdict testing"
   ]
  },
  {
   "cell_type": "code",
   "execution_count": 2,
   "id": "b9c4db0d-9c39-4d5f-a911-adf540ad0c2d",
   "metadata": {},
   "outputs": [],
   "source": [
    "class dotdict(dict):\n",
    "    \"\"\"\n",
    "    A dictionary supporting dot notation.\n",
    "\n",
    "    Example:\n",
    "        .. code-block:: python\n",
    "\n",
    "            dd = dotdict({\"a\": 1,\n",
    "                          \"b\": {\"c\": \"hello\",\n",
    "                                \"d\": [1, 2, {\"e\": 123}]}\n",
    "                              }\n",
    "                         )\n",
    "            dd.update({'k':3})\n",
    "            dd.g = 7\n",
    "            print(\"k=\", dd.k)           # k= 3\n",
    "            print(dd.b.c)               # hello\n",
    "            print(isinstance(dd, dict)) # True\n",
    "            print(dd.lookup(\"b.d\"))     # [1, 2, {\"e\": 123}]\n",
    "    \"\"\"\n",
    "    # Taken from the 'vedo' python library - https://vedo.embl.es/\n",
    "    # Credits: https://stackoverflow.com/users/89391/miku\n",
    "    #  https://gist.github.com/miku/dc6d06ed894bc23dfd5a364b7def5ed8\n",
    "\n",
    "    # __getattr__ = dict.get\n",
    "    # __setattr__ = dict.__setitem__\n",
    "    __delattr__ = dict.__delitem__\n",
    "\n",
    "    def __init__(self, *args, **kwargs):\n",
    "\n",
    "        super().__init__(*args, **kwargs)\n",
    "\n",
    "        self['warn_on_setting'] = True\n",
    "\n",
    "        for k, v in self.items():\n",
    "            if isinstance(v, dict):\n",
    "                self[k] = dotdict(v)\n",
    "\n",
    "    def __getattr__(self, k):\n",
    "        if '__getstate__' in k: # a trick to make spyder happy when inspecting dotdict\n",
    "            def _dummy():\n",
    "                pass\n",
    "            return _dummy\n",
    "        return self[k]\n",
    "\n",
    "    def __setattr__(self, k, v):\n",
    "        if self.warn_on_setting:\n",
    "            if k not in self and not k.startswith('__'):\n",
    "                vedo.logger.warning(f'you are setting non-existing key {k} to {v}')\n",
    "        self[k] = v\n",
    "\n",
    "    def lookup(self, dotkey):\n",
    "        \"\"\"Lookup value in a nested structure with a single key, e.g. \"a.b.c\".\"\"\"\n",
    "        path = list(reversed(dotkey.split(\".\")))\n",
    "        v = self\n",
    "        while path:\n",
    "            key = path.pop()\n",
    "            if isinstance(v, dict):\n",
    "                v = v[key]\n",
    "            elif isinstance(v, list):\n",
    "                v = v[int(key)]\n",
    "            else:\n",
    "                raise KeyError(key)\n",
    "        return v"
   ]
  },
  {
   "cell_type": "code",
   "execution_count": 3,
   "id": "34700482-ca37-48ed-858c-72df907e7363",
   "metadata": {},
   "outputs": [
    {
     "data": {
      "text/plain": [
       "{'a': 9,\n",
       " 'best': {'va': 988, 'vb': 'teod', 'warn_on_setting': True},\n",
       " 'warn_on_setting': True}"
      ]
     },
     "execution_count": 3,
     "metadata": {},
     "output_type": "execute_result"
    }
   ],
   "source": [
    "test_dot_dict1 = dotdict({'a': 9, 'best': dotdict({'va':988, 'vb':'teod'})})\n",
    "test_dot_dict1"
   ]
  },
  {
   "cell_type": "code",
   "execution_count": 4,
   "id": "8eff658c-da67-4d79-b856-04ede33f3069",
   "metadata": {},
   "outputs": [
    {
     "data": {
      "text/plain": [
       "dict_keys(['a', 'best', 'warn_on_setting'])"
      ]
     },
     "execution_count": 4,
     "metadata": {},
     "output_type": "execute_result"
    }
   ],
   "source": [
    "test_dot_dict1.keys()"
   ]
  },
  {
   "cell_type": "code",
   "execution_count": 5,
   "id": "0915c541-869e-495f-ae84-6a5806c598c1",
   "metadata": {},
   "outputs": [
    {
     "data": {
      "text/plain": [
       "9"
      ]
     },
     "execution_count": 5,
     "metadata": {},
     "output_type": "execute_result"
    }
   ],
   "source": [
    "test_dot_dict1.a"
   ]
  },
  {
   "cell_type": "code",
   "execution_count": 6,
   "id": "cd54688a-1864-4e30-8bfd-c92e60b2c432",
   "metadata": {},
   "outputs": [
    {
     "data": {
      "text/plain": [
       "9"
      ]
     },
     "execution_count": 6,
     "metadata": {},
     "output_type": "execute_result"
    }
   ],
   "source": [
    "test_dot_dict1."
   ]
  },
  {
   "cell_type": "markdown",
   "id": "33058a0a-cd29-464d-8752-6b3de7a1343c",
   "metadata": {},
   "source": [
    "## DynamicParameters testing"
   ]
  },
  {
   "cell_type": "code",
   "execution_count": 10,
   "id": "57b4ec78-d426-4063-aee7-86236bc8016c",
   "metadata": {},
   "outputs": [
    {
     "data": {
      "text/plain": [
       "DynamicParameters({'a': 9, 'best': DynamicParameters({'va': 988, 'vb': 'teod'})})"
      ]
     },
     "execution_count": 10,
     "metadata": {},
     "output_type": "execute_result"
    }
   ],
   "source": [
    "test_dyn_params1 = DynamicParameters(**{'a': 9, 'best': DynamicParameters(**{'va':988, 'vb':'teod'})})\n",
    "# test_dyn_params1 = DynamicParameters({'a': 9, 'best': DynamicParameters({'va':988, 'vb':'teod'})})\n",
    "test_dyn_params1"
   ]
  },
  {
   "cell_type": "code",
   "execution_count": 11,
   "id": "92cb92cf-30ba-475f-98b1-4f2c90d9a1af",
   "metadata": {},
   "outputs": [
    {
     "data": {
      "text/plain": [
       "9"
      ]
     },
     "execution_count": 11,
     "metadata": {},
     "output_type": "execute_result"
    }
   ],
   "source": [
    "test_dyn_params1['a']"
   ]
  },
  {
   "cell_type": "code",
   "execution_count": 12,
   "id": "d947fd7f-de8c-4665-9564-2fcd2c26623e",
   "metadata": {},
   "outputs": [
    {
     "data": {
      "text/plain": [
       "KeysView(DynamicParameters({'a': 9, 'best': DynamicParameters({'va': 988, 'vb': 'teod'})}))"
      ]
     },
     "execution_count": 12,
     "metadata": {},
     "output_type": "execute_result"
    }
   ],
   "source": [
    "test_dyn_params1.keys()"
   ]
  },
  {
   "cell_type": "code",
   "execution_count": null,
   "id": "8ea24479-c862-4826-a265-65e549e779b3",
   "metadata": {},
   "outputs": [],
   "source": [
    "test_dyn_params1.keys()"
   ]
  },
  {
   "cell_type": "markdown",
   "id": "a1003537-ee6d-4120-916e-d6adc9b43b51",
   "metadata": {},
   "source": [
    "## prodict testing"
   ]
  },
  {
   "cell_type": "code",
   "execution_count": 13,
   "id": "d99dbad0-ed72-4803-b8b7-f97a095b4149",
   "metadata": {},
   "outputs": [],
   "source": [
    "from prodict import Prodict"
   ]
  },
  {
   "cell_type": "code",
   "execution_count": 25,
   "id": "5c0cf66a-2f63-491d-9bfb-a022b5dde2ac",
   "metadata": {},
   "outputs": [
    {
     "data": {
      "text/plain": [
       "{'a': 9, 'best': {'va': 988, 'vb': 'teod'}}"
      ]
     },
     "execution_count": 25,
     "metadata": {},
     "output_type": "execute_result"
    }
   ],
   "source": [
    "# p2 = Prodict.from_dict({'Hello': 'world'})\n",
    "test_pro_dict1 = Prodict.from_dict({'a': 9, 'best': Prodict.from_dict({'va':988, 'vb':'teod'})})\n",
    "test_pro_dict1\n",
    "\n",
    "class CustomTestDict1(Prodict):\n",
    "    a: int\n",
    "    best: Prodict\n",
    "    \n",
    "test_pro_dict2 = CustomTestDict1.from_dict({'a': 9, 'best': Prodict.from_dict({'va':988, 'vb':'teod'})})\n",
    "test_pro_dict2\n",
    "    "
   ]
  },
  {
   "cell_type": "code",
   "execution_count": 16,
   "id": "437ec94a-e479-41a8-98df-c0f11613323c",
   "metadata": {},
   "outputs": [
    {
     "data": {
      "text/plain": [
       "dict_keys(['a', 'best'])"
      ]
     },
     "execution_count": 16,
     "metadata": {},
     "output_type": "execute_result"
    }
   ],
   "source": [
    "test_pro_dict1.keys()"
   ]
  },
  {
   "cell_type": "code",
   "execution_count": 17,
   "id": "8311ef9f-71dd-48e8-a7d4-6cb31105c8a2",
   "metadata": {},
   "outputs": [
    {
     "data": {
      "text/plain": [
       "9"
      ]
     },
     "execution_count": 17,
     "metadata": {},
     "output_type": "execute_result"
    }
   ],
   "source": [
    "test_pro_dict1.a"
   ]
  },
  {
   "cell_type": "code",
   "execution_count": 18,
   "id": "2f27f69e-9f20-4dac-a852-c411e00a11b6",
   "metadata": {},
   "outputs": [
    {
     "ename": "KeyError",
     "evalue": "'b'",
     "output_type": "error",
     "traceback": [
      "\u001b[1;31m---------------------------------------------------------------------------\u001b[0m",
      "\u001b[1;31mKeyError\u001b[0m                                  Traceback (most recent call last)",
      "Input \u001b[1;32mIn [18]\u001b[0m, in \u001b[0;36m<cell line: 1>\u001b[1;34m()\u001b[0m\n\u001b[1;32m----> 1\u001b[0m \u001b[43mtest_pro_dict1\u001b[49m\u001b[38;5;241;43m.\u001b[39;49m\u001b[43mb\u001b[49m\n",
      "File \u001b[1;32m~\\miniconda3\\envs\\phoviz_ultimate\\lib\\site-packages\\prodict\\__init__.py:259\u001b[0m, in \u001b[0;36mProdict.__getattr__\u001b[1;34m(self, item)\u001b[0m\n\u001b[0;32m    257\u001b[0m \u001b[38;5;28;01mdef\u001b[39;00m \u001b[38;5;21m__getattr__\u001b[39m(\u001b[38;5;28mself\u001b[39m, item):\n\u001b[0;32m    258\u001b[0m     \u001b[38;5;66;03m# print('__getattr__(\"{}\")'.format(item))\u001b[39;00m\n\u001b[1;32m--> 259\u001b[0m     \u001b[38;5;28;01mreturn\u001b[39;00m \u001b[38;5;28;43mself\u001b[39;49m\u001b[43m[\u001b[49m\u001b[43mitem\u001b[49m\u001b[43m]\u001b[49m\n",
      "\u001b[1;31mKeyError\u001b[0m: 'b'"
     ]
    }
   ],
   "source": [
    "test_pro_dict1.b"
   ]
  },
  {
   "cell_type": "code",
   "execution_count": 19,
   "id": "1816aff0-707d-4a00-bcaf-0f6937bf7eb2",
   "metadata": {},
   "outputs": [
    {
     "data": {
      "text/plain": [
       "9"
      ]
     },
     "execution_count": 19,
     "metadata": {},
     "output_type": "execute_result"
    }
   ],
   "source": [
    "test_pro_dict1['a']"
   ]
  },
  {
   "cell_type": "code",
   "execution_count": 20,
   "id": "0846465e-c8fd-417e-99ce-3ba3ff00ee2b",
   "metadata": {},
   "outputs": [
    {
     "data": {
      "text/plain": [
       "9"
      ]
     },
     "execution_count": 20,
     "metadata": {},
     "output_type": "execute_result"
    }
   ],
   "source": [
    "test_pro_dict1.get('a', 'fail')"
   ]
  },
  {
   "cell_type": "code",
   "execution_count": 21,
   "id": "b749284c-9458-442f-bfd6-6f3438b35111",
   "metadata": {},
   "outputs": [
    {
     "data": {
      "text/plain": [
       "'fail'"
      ]
     },
     "execution_count": 21,
     "metadata": {},
     "output_type": "execute_result"
    }
   ],
   "source": [
    "test_pro_dict1.get('b', 'fail')"
   ]
  },
  {
   "cell_type": "code",
   "execution_count": 22,
   "id": "01531a28-a482-4ded-85b2-e4e3ac37c3cd",
   "metadata": {},
   "outputs": [
    {
     "ename": "KeyError",
     "evalue": "'setdefaults'",
     "output_type": "error",
     "traceback": [
      "\u001b[1;31m---------------------------------------------------------------------------\u001b[0m",
      "\u001b[1;31mKeyError\u001b[0m                                  Traceback (most recent call last)",
      "Input \u001b[1;32mIn [22]\u001b[0m, in \u001b[0;36m<cell line: 1>\u001b[1;34m()\u001b[0m\n\u001b[1;32m----> 1\u001b[0m \u001b[43mtest_pro_dict1\u001b[49m\u001b[38;5;241;43m.\u001b[39;49m\u001b[43msetdefaults\u001b[49m(\u001b[38;5;124m'\u001b[39m\u001b[38;5;124mb\u001b[39m\u001b[38;5;124m'\u001b[39m, \u001b[38;5;124m'\u001b[39m\u001b[38;5;124mfail\u001b[39m\u001b[38;5;124m'\u001b[39m)\n",
      "File \u001b[1;32m~\\miniconda3\\envs\\phoviz_ultimate\\lib\\site-packages\\prodict\\__init__.py:259\u001b[0m, in \u001b[0;36mProdict.__getattr__\u001b[1;34m(self, item)\u001b[0m\n\u001b[0;32m    257\u001b[0m \u001b[38;5;28;01mdef\u001b[39;00m \u001b[38;5;21m__getattr__\u001b[39m(\u001b[38;5;28mself\u001b[39m, item):\n\u001b[0;32m    258\u001b[0m     \u001b[38;5;66;03m# print('__getattr__(\"{}\")'.format(item))\u001b[39;00m\n\u001b[1;32m--> 259\u001b[0m     \u001b[38;5;28;01mreturn\u001b[39;00m \u001b[38;5;28;43mself\u001b[39;49m\u001b[43m[\u001b[49m\u001b[43mitem\u001b[49m\u001b[43m]\u001b[49m\n",
      "\u001b[1;31mKeyError\u001b[0m: 'setdefaults'"
     ]
    }
   ],
   "source": [
    "test_pro_dict1.setdefaults('b', 'fail')"
   ]
  },
  {
   "cell_type": "code",
   "execution_count": null,
   "id": "a1d970fd-2d30-44b8-a27e-d86215efc14c",
   "metadata": {},
   "outputs": [],
   "source": [
    "test_pro_dict2."
   ]
  }
 ],
 "metadata": {
  "kernelspec": {
   "display_name": "Python [conda env:phoviz_ultimate]",
   "language": "python",
   "name": "conda-env-phoviz_ultimate-py"
  },
  "language_info": {
   "codemirror_mode": {
    "name": "ipython",
    "version": 3
   },
   "file_extension": ".py",
   "mimetype": "text/x-python",
   "name": "python",
   "nbconvert_exporter": "python",
   "pygments_lexer": "ipython3",
   "version": "3.9.12"
  }
 },
 "nbformat": 4,
 "nbformat_minor": 5
}
