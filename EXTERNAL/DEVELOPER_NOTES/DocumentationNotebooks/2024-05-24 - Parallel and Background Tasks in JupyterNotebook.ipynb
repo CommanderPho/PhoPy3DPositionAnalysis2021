{
 "cells": [
  {
   "cell_type": "code",
   "execution_count": null,
   "metadata": {},
   "outputs": [],
   "source": []
  },
  {
   "cell_type": "markdown",
   "metadata": {},
   "source": [
    "# Simplest Setup"
   ]
  },
  {
   "cell_type": "code",
   "execution_count": null,
   "metadata": {},
   "outputs": [
    {
     "data": {
      "text/plain": [
       "7"
      ]
     },
     "metadata": {},
     "output_type": "display_data"
    }
   ],
   "source": [
    "import concurrent.futures\n",
    "\n",
    "def background_function(arg1, arg2):\n",
    "    # Your function implementation here\n",
    "    return arg1 + arg2\n",
    "\n",
    "executor = concurrent.futures.ThreadPoolExecutor()\n",
    "future = executor.submit(background_function, 2, 5)\n",
    "\n",
    "# To get the result later\n",
    "result = future.result()\n",
    "result"
   ]
  },
  {
   "cell_type": "markdown",
   "metadata": {},
   "source": [
    "# More Flexible/Advanced Setups"
   ]
  },
  {
   "cell_type": "code",
   "execution_count": 1,
   "metadata": {},
   "outputs": [
    {
     "name": "stdout",
     "output_type": "stream",
     "text": [
      "Starting a long-running task that will take 3 seconds...\n",
      "Starting a long-running task that will take 2 seconds...\n",
      "Starting a long-running task that will take 1 seconds...\n"
     ]
    }
   ],
   "source": [
    "import time\n",
    "from concurrent.futures import ThreadPoolExecutor\n",
    "from IPython.display import display, Javascript\n",
    "\n",
    "def long_running_function(seconds):\n",
    "    print(f\"Starting a long-running task that will take {seconds} seconds...\")\n",
    "    time.sleep(seconds)\n",
    "    return f\"Task finished after {seconds} seconds.\"\n",
    "\n",
    "def done_callback(future):\n",
    "    result = future.result()\n",
    "    print(result)\n",
    "    # Notify user that the task is done by printing a message.\n",
    "    display(Javascript('alert(\"Background task is complete!\")')) # used to give the headsup in the Jupyter notebook\n",
    "\n",
    "# Create a ThreadPoolExecutor to run the function in a separate thread\n",
    "executor = ThreadPoolExecutor(max_workers=4)\n",
    "\n",
    "# Starts the task and assigns a callback function that will be called upon completion\n",
    "future = executor.submit(long_running_function, 3)\n",
    "future.add_done_callback(done_callback)\n",
    "\n",
    "future1 = executor.submit(long_running_function, 2)\n",
    "future1.add_done_callback(done_callback)\n",
    "\n",
    "future2 = executor.submit(long_running_function, 1)\n",
    "future2.add_done_callback(done_callback)\n",
    "\n",
    "\n",
    "# In Jupyter notebook, how can I run a python function in the background (non-blocking, so I can continue to work in the notebook and write/run other cells) and then be notified when the result is ready?\n"
   ]
  },
  {
   "cell_type": "code",
   "execution_count": 2,
   "metadata": {},
   "outputs": [
    {
     "name": "stdout",
     "output_type": "stream",
     "text": [
      "Task 0: Starting a long task that takes 2 seconds...\n",
      "Task 1: Starting a long task that takes 3 seconds...\n",
      "Task 2: Starting a long task that takes 4 seconds...\n"
     ]
    },
    {
     "name": "stdout",
     "output_type": "stream",
     "text": [
      "Task finished after 1 seconds.\n",
      "Task finished after 2 seconds.\n",
      "Task finished after 3 seconds.\n"
     ]
    },
    {
     "data": {
      "application/javascript": "alert(\"Background task is complete!\")",
      "text/plain": [
       "<IPython.core.display.Javascript object>"
      ]
     },
     "metadata": {},
     "output_type": "display_data"
    },
    {
     "data": {
      "application/javascript": "alert(\"Background task is complete!\")",
      "text/plain": [
       "<IPython.core.display.Javascript object>"
      ]
     },
     "metadata": {},
     "output_type": "display_data"
    },
    {
     "name": "stdout",
     "output_type": "stream",
     "text": [
      "Task 3: Starting a long task that takes 5 seconds...Task 0: Finished after 2 seconds.\n",
      "\n"
     ]
    },
    {
     "data": {
      "application/javascript": "alert(\"Background task is complete!\")",
      "text/plain": [
       "<IPython.core.display.Javascript object>"
      ]
     },
     "metadata": {},
     "output_type": "display_data"
    },
    {
     "name": "stdout",
     "output_type": "stream",
     "text": [
      "Task 4: Starting a long task that takes 6 seconds...Task 1: Finished after 3 seconds.\n",
      "\n",
      "Task 2: Finished after 4 seconds.\n",
      "Task 3: Finished after 5 seconds.\n",
      "Task 4: Finished after 6 seconds.\n",
      "All tasks are complete.\n"
     ]
    }
   ],
   "source": [
    "import time\n",
    "from concurrent.futures import ThreadPoolExecutor, as_completed\n",
    "\n",
    "# Define the function you want to run in background threads\n",
    "def long_running_task(task_id, duration):\n",
    "    print(f\"Task {task_id}: Starting a long task that takes {duration} seconds...\")\n",
    "    time.sleep(duration)\n",
    "    return f\"Task {task_id}: Finished after {duration} seconds.\"\n",
    "\n",
    "# Number of tasks you want to run\n",
    "number_of_tasks = 5\n",
    "\n",
    "# Create a ThreadPoolExecutor with the desired number of workers\n",
    "with ThreadPoolExecutor(max_workers=3) as executor:\n",
    "    # A list to hold the future objects returned by submit()\n",
    "    futures = []\n",
    "\n",
    "    # Iterate and submit tasks with varying durations\n",
    "    for i in range(number_of_tasks):\n",
    "        duration = 2 + i # Example varying duration for demonstration\n",
    "        future = executor.submit(long_running_task, i, duration)\n",
    "        futures.append(future)\n",
    "\n",
    "    # Process the results as they complete\n",
    "    for future in as_completed(futures):\n",
    "        result = future.result()\n",
    "        print(result)\n",
    "\n",
    "print(\"All tasks are complete.\")"
   ]
  },
  {
   "cell_type": "markdown",
   "metadata": {},
   "source": [
    "# Delaying KeyboardInterrrupts until saving is done"
   ]
  },
  {
   "cell_type": "code",
   "execution_count": 6,
   "metadata": {},
   "outputs": [
    {
     "name": "stdout",
     "output_type": "stream",
     "text": [
      "Starting critical section where saving to file occurs.\n",
      "KeyboardInterrupt signal received. Program will exit as soon as saving is done.\n",
      "Finished critical section.\n",
      "Program exiting after saving.\n",
      "Normal execution continues...\n"
     ]
    }
   ],
   "source": [
    "import signal\n",
    "import time\n",
    "\n",
    "# Define a class to toggle the interrupt handling status\n",
    "class DelayedKeyboardInterrupt:\n",
    "    def __enter__(self):\n",
    "        # Save the current signal handler for SIGINT\n",
    "        self.signal_received = False\n",
    "        self.old_handler = signal.signal(signal.SIGINT, self.handler)\n",
    "\n",
    "    def handler(self, sig, frame):\n",
    "        # Set a flag to indicate an interrupt was received\n",
    "        # Directly print the message in the handler\n",
    "        print('KeyboardInterrupt signal received. Program will exit as soon as saving is done.', flush=True)\n",
    "        self.signal_received = (sig, frame)\n",
    "\n",
    "    def __exit__(self, type, value, traceback):\n",
    "        # Restore the original signal handler for SIGINT\n",
    "        signal.signal(signal.SIGINT, self.old_handler)\n",
    "        if self.signal_received:\n",
    "            # If an interrupt was received, re-raise it now that it's safe\n",
    "            self.old_handler(*self.signal_received)\n",
    "\n",
    "# Your code where you want protection from interrupts\n",
    "try:\n",
    "    with DelayedKeyboardInterrupt():\n",
    "        # Your critical section that should not be interrupted\n",
    "        print(\"Starting critical section where saving to file occurs.\")\n",
    "        time.sleep(20)  # Simulate long-running save operation\n",
    "        print(\"Finished critical section.\")\n",
    "\n",
    "    # It's now safe to handle the interrupt if one was received\n",
    "    print(\"It's now safe to be interrupted.\")\n",
    "\n",
    "except KeyboardInterrupt:\n",
    "    print(\"Program exiting after saving.\")\n",
    "\n",
    "# Rest of your code\n",
    "print(\"Normal execution continues...\")"
   ]
  },
  {
   "cell_type": "code",
   "execution_count": null,
   "metadata": {},
   "outputs": [],
   "source": [
    "# Ignore keyboard interrupt\n",
    "original_handler = signal.signal(signal.SIGINT, signal.SIG_IGN)\n",
    "\n",
    "try:\n",
    "    with open(filename, 'w') as file:\n",
    "        file.write(data)\n",
    "        # Simulate time-consuming saving process\n",
    "        time.sleep(5)\n",
    "finally:\n",
    "    # Restore original handler\n",
    "    signal.signal(signal.SIGINT, original_handler)"
   ]
  }
 ],
 "metadata": {
  "kernelspec": {
   "display_name": ".venv_black",
   "language": "python",
   "name": "python3"
  },
  "language_info": {
   "codemirror_mode": {
    "name": "ipython",
    "version": 3
   },
   "file_extension": ".py",
   "mimetype": "text/x-python",
   "name": "python",
   "nbconvert_exporter": "python",
   "pygments_lexer": "ipython3",
   "version": "3.9.13"
  }
 },
 "nbformat": 4,
 "nbformat_minor": 2
}
