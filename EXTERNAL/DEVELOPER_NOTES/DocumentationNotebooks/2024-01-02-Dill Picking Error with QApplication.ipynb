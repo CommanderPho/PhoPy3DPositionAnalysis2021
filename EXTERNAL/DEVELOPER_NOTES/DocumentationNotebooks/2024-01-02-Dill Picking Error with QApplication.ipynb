{
 "cells": [
  {
   "cell_type": "code",
   "execution_count": null,
   "metadata": {},
   "outputs": [],
   "source": [
    "\"2024-01-02-Dill Picking Error with QApplication.ipynb\"\n"
   ]
  },
  {
   "cell_type": "code",
   "execution_count": null,
   "metadata": {},
   "outputs": [],
   "source": [
    "# Problem: QApplication cannot be pickled error occurs when trying to pickle pipeline after adding RankOrder global computation results despite not ever being used.\n",
    "\n",
    "# Solution: Unsolved"
   ]
  },
  {
   "cell_type": "code",
   "execution_count": null,
   "metadata": {},
   "outputs": [],
   "source": [
    "# Observation: Sometimes specific result can be successfully picked while entire pipeline cannot:\n",
    "from pyphoplacecellanalysis.General.Pipeline.Stages.ComputationFunctions.MultiContextComputationFunctions.RankOrderComputations import save_rank_order_results, SaveStringGenerator\n",
    "from pyphoplacecellanalysis.General.Pipeline.Stages.Loading import saveData\n",
    "\n",
    "save_rank_order_results(curr_active_pipeline, day_date=f\"{DAY_DATE_TO_USE}_322pm\") # \"2024-01-02_301pm\" \"2024-01-02_322pm\" 322pm"
   ]
  },
  {
   "cell_type": "code",
   "execution_count": null,
   "metadata": {},
   "outputs": [],
   "source": [
    "# 2023-01-02 - Fails SOMETIMES, even when called immediately after the above save command which worked:\n",
    "curr_active_pipeline.save_global_computation_results()\n",
    "\n",
    "# Clearing and reloading the notebook, skipping these computations, and then re-applying them to the pipeline does allow resaving with `curr_active_pipeline.save_global_computation_results()` for some reason.\n",
    "\n"
   ]
  },
  {
   "cell_type": "code",
   "execution_count": null,
   "metadata": {},
   "outputs": [],
   "source": [
    "curr_active_pipeline.global_computation_results.computed_data['RankOrder']\n",
    "\n",
    "import dill as pickle\n",
    "\n",
    "def diagnose_pickling_issues(object_to_pickle):\n",
    "   \"\"\"Intellegently diagnoses which property on an object is causing pickling via Dill to fail.\"\"\"\n",
    "\n",
    "   try:\n",
    "       # Attempt to pickle the object directly\n",
    "       pickle.dumps(object_to_pickle)\n",
    "   except pickle.PicklingError as e:\n",
    "       # If pickling fails, initiate a diagnostic process\n",
    "       print(f\"Pickling error encountered: {e}\")\n",
    "\n",
    "       # Gather information about the object's attributes\n",
    "       object_attributes = [attr for attr in dir(object_to_pickle) if not attr.startswith(\"__\")]\n",
    "\n",
    "       # Isolate problematic attributes through iterative testing\n",
    "       problematic_attribute = None\n",
    "       for attribute in object_attributes:\n",
    "           try:\n",
    "               pickle.dumps(getattr(object_to_pickle, attribute))\n",
    "           except pickle.PicklingError:\n",
    "               problematic_attribute = attribute\n",
    "               break\n",
    "\n",
    "       # Provide informative output\n",
    "       if problematic_attribute:\n",
    "           print(f\"Identified problematic attribute: {problematic_attribute}\")\n",
    "           print(\"Potential causes:\")\n",
    "           print(\"- Attribute contains unpicklable data types (e.g., lambda functions, file objects).\")\n",
    "           print(\"- Attribute refers to external resources (e.g., database connections).\")\n",
    "           print(\"- Attribute has circular references within the object's structure.\")\n",
    "       else:\n",
    "           print(\"Unable to isolate the specific attribute causing the pickling error.\")\n",
    "           print(\"Consider:\")\n",
    "           print(\"- Examining the object's structure and dependencies for potential conflicts.\")\n",
    "           print(\"- Providing a minimal reproducible example for further analysis.\")\n",
    "\n",
    "   else:\n",
    "       # If pickling succeeds, indicate no issues found\n",
    "       print(\"No pickling issues detected.\")\n",
    "\n",
    "\n",
    "diagnose_pickling_issues(curr_active_pipeline.global_computation_results.computed_data['RankOrder'])\n",
    "\n",
    "# make a copy of an object"
   ]
  },
  {
   "cell_type": "code",
   "execution_count": null,
   "metadata": {},
   "outputs": [],
   "source": [
    "rank_order_output_path = Path(r'W:\\Data\\KDIBA\\gor01\\one\\2006-6-08_14-26-15\\output\\2023-12-22_807pm-minimum_inclusion_fr-5-included_qclu_values-[1, 2]RankOrder.pkl').resolve()\n",
    "\n",
    "\n",
    "from pyphocorehelpers.Filesystem.pickling_helpers import custom_dump, custom_dumps\n",
    "import dill.detect\n",
    "dill.detect.trace(True)\n",
    "\n",
    "# dill.detect.badobjects(curr_active_pipeline.global_computation_results.computed_data['RankOrder'].__dict__)\n",
    "\n",
    "test_obj = curr_active_pipeline.global_computation_results.computed_data['RankOrder'] # pyphoplacecellanalysis.General.Pipeline.Stages.ComputationFunctions.MultiContextComputationFunctions.RankOrderComputations.RankOrderComputationsContainer\n",
    "dill.detect.badtypes(test_obj)\n",
    "\n",
    "# dill.detect.errors(test_obj)\n",
    "\n",
    "# with dill.detect.trace(True):\n",
    "# saveData(rank_order_output_path, (curr_active_pipeline.global_computation_results.computed_data['RankOrder'].__dict__,))\n",
    "# custom_dumps(curr_active_pipeline.global_computation_results.computed_data['RankOrder'].__dict__)\n",
    "#  with open(pkl_path, file_mode) as dbfile: \n",
    "# \t# source, destination\n",
    "# \t# pickle.dump(db, dbfile)\n",
    "# \tcustom_dump(db, dbfile) # ModuleExcludesPickler\n",
    "# \tdbfile.close()\n",
    "\t\n",
    "# # dumps(squared)\n",
    "# custom_dump(db, dbfile) # ModuleExcludesPickler\n",
    "# saveData(rank_order_output_path, (curr_active_pipeline.global_computation_results.computed_data['RankOrder'].__dict__,))\n"
   ]
  }
 ],
 "metadata": {
  "language_info": {
   "name": "python"
  }
 },
 "nbformat": 4,
 "nbformat_minor": 2
}
