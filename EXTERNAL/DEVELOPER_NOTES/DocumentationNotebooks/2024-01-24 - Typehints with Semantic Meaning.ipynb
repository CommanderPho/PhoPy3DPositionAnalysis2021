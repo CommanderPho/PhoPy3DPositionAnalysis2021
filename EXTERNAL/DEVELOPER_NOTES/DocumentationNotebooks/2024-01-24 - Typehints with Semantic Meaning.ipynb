{
 "cells": [
  {
   "cell_type": "markdown",
   "metadata": {},
   "source": [
    "# Typehints with semantic menaings:\n",
    "\n",
    "I desire typehints that specify semantic meanings in addition to their type, like for Dict and Tuples.\n",
    "\n",
    "I currently have a python dictionary named `sessions` of type `Dict[str, Tuple[Path, datetime]]`, an example entry would be: \n",
    "```python \n",
    "sessions['kdiba_gor01_one_2006-6-08_14-26-15']\n",
    ">> {'ripple_time_bin_marginals_df': (Path('C:/Users/pho/repos/Spike3DWorkEnv/Spike3D/output/collected_outputs/2024-01-24_0745AM-kdiba_gor01_one_2006-6-08_14-26-15-(ripple_time_bin_marginals_df).csv'),\n",
    "  datetime.datetime(2024, 1, 24, 7, 45)),\n",
    " 'ripple_marginals_df': (Path('C:/Users/pho/repos/Spike3DWorkEnv/Spike3D/output/collected_outputs/2024-01-24_0745AM-kdiba_gor01_one_2006-6-08_14-26-15-(ripple_marginals_df).csv'),\n",
    "  datetime.datetime(2024, 1, 24, 7, 45)),\n",
    " 'laps_time_bin_marginals_df': (Path('C:/Users/pho/repos/Spike3DWorkEnv/Spike3D/output/collected_outputs/2024-01-24_0745AM-kdiba_gor01_one_2006-6-08_14-26-15-(laps_time_bin_marginals_df).csv'),\n",
    "  datetime.datetime(2024, 1, 24, 7, 45)),\n",
    " 'laps_marginals_df': (Path('C:/Users/pho/repos/Spike3DWorkEnv/Spike3D/output/collected_outputs/2024-01-24_0745AM-kdiba_gor01_one_2006-6-08_14-26-15-(laps_marginals_df).csv'),\n",
    "  datetime.datetime(2024, 1, 24, 7, 45))}\n",
    "```\n",
    "I'd like to be able to specify the semantic menaing of the dictionary elements in the type definition, for reference later (documentation) and potentially (down the road) to enforce consistency by implementing checks on certain properties. I'm hoping for something like: `Dict[session_id:str, Tuple[file_path:Path, parsed_datetime:datetime]]` instead of `Dict[str, Tuple[Path, datetime]]`.\n",
    "\n",
    "Dict[str, Tuple[Path, datetime]]\n",
    "Dict[session_id:str, Tuple[file_path:Path, parsed_datetime:datetime]]\n",
    "\n"
   ]
  },
  {
   "cell_type": "markdown",
   "metadata": {},
   "source": [
    "## Option 1: `typing.NewType` to define aliases"
   ]
  },
  {
   "cell_type": "code",
   "execution_count": 1,
   "metadata": {},
   "outputs": [],
   "source": [
    "from typing import Dict, Tuple, NewType\n",
    "from datetime import datetime\n",
    "from pathlib import Path\n",
    "\n",
    "# defining type aliases\n",
    "session_id = NewType('session_id', str)\n",
    "file_path = NewType('file_path', Path)\n",
    "parsed_datetime = NewType('parsed_datetime', datetime)\n",
    "\n",
    "# now you can define your dictionary in terms of these new types\n",
    "sessions: Dict[session_id, Tuple[file_path, parsed_datetime]]"
   ]
  },
  {
   "cell_type": "markdown",
   "metadata": {},
   "source": [
    "# Option 2: Inline `attrs` classes"
   ]
  },
  {
   "cell_type": "code",
   "execution_count": null,
   "metadata": {},
   "outputs": [],
   "source": [
    "import attrs\n",
    "from collections import namedtuple\n",
    "from pyphoplacecellanalysis.General.Pipeline.Stages.ComputationFunctions.MultiContextComputationFunctions.RankOrderComputations import Zscorer\n",
    "from pyphoplacecellanalysis.General.Pipeline.Stages.ComputationFunctions.MultiContextComputationFunctions.RankOrderComputations import LongShortStatsTuple\n",
    "\n",
    "# dict(zip(['long_stats_z_scorer', 'short_stats_z_scorer', 'long_short_z_diff', 'long_short_naive_z_diff', 'is_forward_replay'], [Zscorer, Zscorer, float, float, bool]))\n",
    "LongShortStatsOutput = attrs.make_class('LongShortStatsOutput', ['long_stats_z_scorer', 'short_stats_z_scorer', 'long_short_z_diff', 'long_short_naive_z_diff', 'is_forward_replay'], slots=False, order=True)  # , bases=[LongShortStatsTuple]\n",
    "\n",
    "# attrs.define(\n"
   ]
  },
  {
   "cell_type": "code",
   "execution_count": null,
   "metadata": {},
   "outputs": [],
   "source": [
    "# Creating class using make_class\n",
    "SessionEntry = attrs.make_class(\"SessionEntry\", [\"file_path\", \"parsed_datetime\"], frozen=True, slots=True)\n",
    "\n",
    "# Assign types to attributes\n",
    "attrs.set_run_validators(SessionEntry, {\n",
    "    \"file_path\": attrs.validators.instance_of(Path),\n",
    "    \"parsed_datetime\": attrs.validators.instance_of(datetime)\n",
    "})\n",
    "\n",
    "entry = SessionEntry(file_path=Path('/path/to/file'), parsed_datetime=datetime.now())\n",
    "\n"
   ]
  }
 ],
 "metadata": {
  "kernelspec": {
   "display_name": ".venv_yellow",
   "language": "python",
   "name": "python3"
  },
  "language_info": {
   "codemirror_mode": {
    "name": "ipython",
    "version": 3
   },
   "file_extension": ".py",
   "mimetype": "text/x-python",
   "name": "python",
   "nbconvert_exporter": "python",
   "pygments_lexer": "ipython3",
   "version": "3.9.13"
  }
 },
 "nbformat": 4,
 "nbformat_minor": 2
}
