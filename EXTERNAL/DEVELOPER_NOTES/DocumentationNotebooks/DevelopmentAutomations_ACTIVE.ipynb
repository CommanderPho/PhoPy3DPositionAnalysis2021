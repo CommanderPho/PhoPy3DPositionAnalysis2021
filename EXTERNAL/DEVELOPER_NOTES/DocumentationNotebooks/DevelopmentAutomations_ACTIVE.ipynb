{
 "cells": [
  {
   "cell_type": "code",
   "execution_count": 3,
   "id": "81f4400d-4b04-4271-ab91-9c9cdfed3322",
   "metadata": {},
   "outputs": [],
   "source": [
    "import sys\n",
    "import sys\n",
    "import importlib\n",
    "import numpy as np\n",
    "import pandas as pd\n",
    "from pathlib import Path\n",
    "\n",
    "from pyphocorehelpers.general_helpers import get_arguments_as_optional_dict, inspect_callable_arguments, CodeConversion\n",
    "\n",
    "from pyphocorehelpers.mixins.member_enumerating import AllFunctionEnumeratingMixin\n",
    "from pyphoplacecellanalysis.General.Model.ComputationResults import ComputationResult\n",
    "from pyphocorehelpers.DataStructure.dynamic_parameters import DynamicParameters\n",
    "from pyphocorehelpers.programming_helpers import PythonDictionaryDefinitionFormat\n",
    "\n",
    "\n",
    "\n",
    "# try:\n",
    "#     from pyqt_find_replace_text_widget.findReplaceTextWidget import FindReplaceTextWidget\n",
    "#     importlib.reload(FindReplaceTextWidget)\n",
    "# except ImportError:\n",
    "#     # r'C:\\Users\\pho\\Links\\Active Resources\\Qt and Python\\Example Applications\\pyqt-find-replace-text-widget-main\\pyqt_find_replace_text_widget'\n",
    "#     sys.path.append(r'C:\\Users\\pho\\Links\\Active Resources\\Qt and Python\\Example Applications\\pyqt-find-replace-text-widget-main')\n",
    "#     print('pyqt_find_replace_text_widget module not found, adding directory to sys.path. \\n >> Updated sys.path.')\n",
    "#     from pyqt_find_replace_text_widget.findReplaceTextWidget import FindReplaceTextWidget\n",
    "    \n"
   ]
  },
  {
   "attachments": {},
   "cell_type": "markdown",
   "id": "53f0abb4",
   "metadata": {},
   "source": [
    "Start with a list of the output values from your notebook that you'll need to store in a return value: `'Flat_epoch_time_bins_mean, Flat_decoder_time_bin_centers, num_neurons, num_timebins_in_epoch, num_total_flat_timebins'`"
   ]
  },
  {
   "cell_type": "code",
   "execution_count": 6,
   "id": "33cea2e7",
   "metadata": {},
   "outputs": [
    {
     "name": "stdout",
     "output_type": "stream",
     "text": [
      "result_dict_str_rep: {'Flat_epoch_time_bins_mean':Flat_epoch_time_bins_mean, 'Flat_decoder_time_bin_centers':Flat_decoder_time_bin_centers, 'num_neurons':num_neurons, 'num_timebins_in_epoch':num_timebins_in_epoch, 'num_total_flat_timebins':num_total_flat_timebins}\n"
     ]
    }
   ],
   "source": [
    "result_dict_str_rep, result_dict = CodeConversion.convert_variable_tuple_code_to_dict_with_names('Flat_epoch_time_bins_mean, Flat_decoder_time_bin_centers, num_neurons, num_timebins_in_epoch, num_total_flat_timebins')\n",
    "print(f'result_dict_str_rep: {result_dict_str_rep}') # \"{'Flat_epoch_time_bins_mean':Flat_epoch_time_bins_mean, 'Flat_decoder_time_bin_centers':Flat_decoder_time_bin_centers, 'num_neurons':num_neurons, 'num_timebins_in_epoch':num_timebins_in_epoch, 'num_total_flat_timebins':num_total_flat_timebins}\""
   ]
  },
  {
   "cell_type": "code",
   "execution_count": 7,
   "id": "cf828caf",
   "metadata": {},
   "outputs": [
    {
     "name": "stdout",
     "output_type": "stream",
     "text": [
      "dict(Flat_epoch_time_bins_mean=Flat_epoch_time_bins_mean, Flat_decoder_time_bin_centers=Flat_decoder_time_bin_centers, num_neurons=num_neurons, num_timebins_in_epoch=num_timebins_in_epoch, num_total_flat_timebins=num_total_flat_timebins)\n"
     ]
    }
   ],
   "source": [
    "converted_str = PythonDictionaryDefinitionFormat.convert_format(result_dict_str_rep, PythonDictionaryDefinitionFormat.DICT_CONSTRUCTOR) \n",
    "print(converted_str) # dict(Flat_epoch_time_bins_mean=Flat_epoch_time_bins_mean, Flat_decoder_time_bin_centers=Flat_decoder_time_bin_centers, num_neurons=num_neurons, num_timebins_in_epoch=num_timebins_in_epoch, num_total_flat_timebins=num_total_flat_timebins)\n",
    "\n"
   ]
  },
  {
   "cell_type": "code",
   "execution_count": 8,
   "id": "eda61a62",
   "metadata": {},
   "outputs": [
    {
     "name": "stdout",
     "output_type": "stream",
     "text": [
      "dict(is_short_track_epoch=is_short_track_epoch, is_long_track_epoch=is_long_track_epoch, short_short_diff=short_short_diff, long_long_diff=long_long_diff)\n"
     ]
    }
   ],
   "source": [
    "result_dict_str_rep, result_dict = CodeConversion.convert_variable_tuple_code_to_dict_with_names('is_short_track_epoch, is_long_track_epoch, short_short_diff, long_long_diff')\n",
    "converted_str = PythonDictionaryDefinitionFormat.convert_format(result_dict_str_rep, PythonDictionaryDefinitionFormat.DICT_CONSTRUCTOR) \n",
    "print(converted_str) # dict(is_short_track_epoch=is_short_track_epoch, is_long_track_epoch=is_long_track_epoch, short_short_diff=short_short_diff, long_long_diff=long_long_diff)"
   ]
  },
  {
   "cell_type": "code",
   "execution_count": 15,
   "id": "4d80db85",
   "metadata": {},
   "outputs": [
    {
     "name": "stdout",
     "output_type": "stream",
     "text": [
      "\n",
      "DynamicParameters(decoder_time_bin_centers_LONG=decoder_time_bin_centers_LONG, all_epochs_computed_expected_cell_num_spikes_LONG=all_epochs_computed_expected_cell_num_spikes_LONG, all_epochs_computed_observed_from_expected_difference_LONG=all_epochs_computed_observed_from_expected_difference_LONG, measured_pos_window_centers_LONG=measured_pos_window_centers_LONG, all_epochs_decoded_epoch_time_bins_mean_LONG=all_epochs_decoded_epoch_time_bins_mean_LONG, all_epochs_computed_expected_cell_firing_rates_mean_LONG=all_epochs_computed_expected_cell_firing_rates_mean_LONG, all_epochs_computed_expected_cell_firing_rates_stddev_LONG=all_epochs_computed_expected_cell_firing_rates_stddev_LONG, all_epochs_computed_observed_from_expected_difference_maximum_LONG=all_epochs_computed_observed_from_expected_difference_maximum_LONG, Flat_decoder_time_bin_centers_LONG=Flat_decoder_time_bin_centers_LONG, Flat_all_epochs_computed_expected_cell_num_spikes_LONG=Flat_all_epochs_computed_expected_cell_num_spikes_LONG, returned_shape_tuple_LONG=returned_shape_tuple_LONG, observed_from_expected_diff_ptp_LONG=observed_from_expected_diff_ptp_LONG, observed_from_expected_diff_mean_LONG=observed_from_expected_diff_mean_LONG, observed_from_expected_diff_std_LONG=observed_from_expected_diff_std_LONG, decoder_time_bin_centers_SHORT=decoder_time_bin_centers_SHORT, all_epochs_computed_expected_cell_num_spikes_SHORT=all_epochs_computed_expected_cell_num_spikes_SHORT, all_epochs_computed_observed_from_expected_difference_SHORT=all_epochs_computed_observed_from_expected_difference_SHORT, measured_pos_window_centers_SHORT=measured_pos_window_centers_SHORT, all_epochs_decoded_epoch_time_bins_mean_SHORT=all_epochs_decoded_epoch_time_bins_mean_SHORT, all_epochs_computed_expected_cell_firing_rates_mean_SHORT=all_epochs_computed_expected_cell_firing_rates_mean_SHORT, all_epochs_computed_expected_cell_firing_rates_stddev_SHORT=all_epochs_computed_expected_cell_firing_rates_stddev_SHORT, all_epochs_computed_observed_from_expected_difference_maximum_SHORT=all_epochs_computed_observed_from_expected_difference_maximum_SHORT, Flat_decoder_time_bin_centers_SHORT=Flat_decoder_time_bin_centers_SHORT, Flat_all_epochs_computed_expected_cell_num_spikes_SHORT=Flat_all_epochs_computed_expected_cell_num_spikes_SHORT, returned_shape_tuple_SHORT=returned_shape_tuple_SHORT, observed_from_expected_diff_ptp_SHORT=observed_from_expected_diff_ptp_SHORT, observed_from_expected_diff_mean_SHORT=observed_from_expected_diff_mean_SHORT, observed_from_expected_diff_std_SHORT=observed_from_expected_diff_std_SHORT)\n",
      "\n",
      "Copied \"decoder_time_bin_centers_LONG, all_epochs_computed_expected_cell_num_spikes_LONG, all_epochs_computed_observed_from_expected_difference_LONG, measured_pos_window_centers_LONG, all_epochs_decoded_epoch_time_bins_mean_LONG, all_epochs_computed_expected_cell_firing_rates_mean_LONG, all_epochs_computed_expected_cell_firing_rates_stddev_LONG, all_epochs_computed_observed_from_expected_difference_maximum_LONG, Flat_decoder_time_bin_centers_LONG, Flat_all_epochs_computed_expected_cell_num_spikes_LONG, returned_shape_tuple_LONG, observed_from_expected_diff_ptp_LONG, observed_from_expected_diff_mean_LONG, observed_from_expected_diff_std_LONG, decoder_time_bin_centers_SHORT, all_epochs_computed_expected_cell_num_spikes_SHORT, all_epochs_computed_observed_from_expected_difference_SHORT, measured_pos_window_centers_SHORT, all_epochs_decoded_epoch_time_bins_mean_SHORT, all_epochs_computed_expected_cell_firing_rates_mean_SHORT, all_epochs_computed_expected_cell_firing_rates_stddev_SHORT, all_epochs_computed_observed_from_expected_difference_maximum_SHORT, Flat_decoder_time_bin_centers_SHORT, Flat_all_epochs_computed_expected_cell_num_spikes_SHORT, returned_shape_tuple_SHORT, observed_from_expected_diff_ptp_SHORT, observed_from_expected_diff_mean_SHORT, observed_from_expected_diff_std_SHORT = curr_active_pipeline.global_computation_results.computed_data.long_short_post_decoding['decoder_time_bin_centers_LONG'], curr_active_pipeline.global_computation_results.computed_data.long_short_post_decoding['all_epochs_computed_expected_cell_num_spikes_LONG'], curr_active_pipeline.global_computation_results.computed_data.long_short_post_decoding['all_epochs_computed_observed_from_expected_difference_LONG'], curr_active_pipeline.global_computation_results.computed_data.long_short_post_decoding['measured_pos_window_centers_LONG'], curr_active_pipeline.global_computation_results.computed_data.long_short_post_decoding['all_epochs_decoded_epoch_time_bins_mean_LONG'], curr_active_pipeline.global_computation_results.computed_data.long_short_post_decoding['all_epochs_computed_expected_cell_firing_rates_mean_LONG'], curr_active_pipeline.global_computation_results.computed_data.long_short_post_decoding['all_epochs_computed_expected_cell_firing_rates_stddev_LONG'], curr_active_pipeline.global_computation_results.computed_data.long_short_post_decoding['all_epochs_computed_observed_from_expected_difference_maximum_LONG'], curr_active_pipeline.global_computation_results.computed_data.long_short_post_decoding['Flat_decoder_time_bin_centers_LONG'], curr_active_pipeline.global_computation_results.computed_data.long_short_post_decoding['Flat_all_epochs_computed_expected_cell_num_spikes_LONG'], curr_active_pipeline.global_computation_results.computed_data.long_short_post_decoding['returned_shape_tuple_LONG'], curr_active_pipeline.global_computation_results.computed_data.long_short_post_decoding['observed_from_expected_diff_ptp_LONG'], curr_active_pipeline.global_computation_results.computed_data.long_short_post_decoding['observed_from_expected_diff_mean_LONG'], curr_active_pipeline.global_computation_results.computed_data.long_short_post_decoding['observed_from_expected_diff_std_LONG'], curr_active_pipeline.global_computation_results.computed_data.long_short_post_decoding['decoder_time_bin_centers_SHORT'], curr_active_pipeline.global_computation_results.computed_data.long_short_post_decoding['all_epochs_computed_expected_cell_num_spikes_SHORT'], curr_active_pipeline.global_computation_results.computed_data.long_short_post_decoding['all_epochs_computed_observed_from_expected_difference_SHORT'], curr_active_pipeline.global_computation_results.computed_data.long_short_post_decoding['measured_pos_window_centers_SHORT'], curr_active_pipeline.global_computation_results.computed_data.long_short_post_decoding['all_epochs_decoded_epoch_time_bins_mean_SHORT'], curr_active_pipeline.global_computation_results.computed_data.long_short_post_decoding['all_epochs_computed_expected_cell_firing_rates_mean_SHORT'], curr_active_pipeline.global_computation_results.computed_data.long_short_post_decoding['all_epochs_computed_expected_cell_firing_rates_stddev_SHORT'], curr_active_pipeline.global_computation_results.computed_data.long_short_post_decoding['all_epochs_computed_observed_from_expected_difference_maximum_SHORT'], curr_active_pipeline.global_computation_results.computed_data.long_short_post_decoding['Flat_decoder_time_bin_centers_SHORT'], curr_active_pipeline.global_computation_results.computed_data.long_short_post_decoding['Flat_all_epochs_computed_expected_cell_num_spikes_SHORT'], curr_active_pipeline.global_computation_results.computed_data.long_short_post_decoding['returned_shape_tuple_SHORT'], curr_active_pipeline.global_computation_results.computed_data.long_short_post_decoding['observed_from_expected_diff_ptp_SHORT'], curr_active_pipeline.global_computation_results.computed_data.long_short_post_decoding['observed_from_expected_diff_mean_SHORT'], curr_active_pipeline.global_computation_results.computed_data.long_short_post_decoding['observed_from_expected_diff_std_SHORT'] # Extract variables from the `curr_active_pipeline.global_computation_results.computed_data.long_short_post_decoding` dictionary to the local workspace\" to clipboard!\n",
      "\n",
      "decoder_time_bin_centers_LONG, all_epochs_computed_expected_cell_num_spikes_LONG, all_epochs_computed_observed_from_expected_difference_LONG, measured_pos_window_centers_LONG, all_epochs_decoded_epoch_time_bins_mean_LONG, all_epochs_computed_expected_cell_firing_rates_mean_LONG, all_epochs_computed_expected_cell_firing_rates_stddev_LONG, all_epochs_computed_observed_from_expected_difference_maximum_LONG, Flat_decoder_time_bin_centers_LONG, Flat_all_epochs_computed_expected_cell_num_spikes_LONG, returned_shape_tuple_LONG, observed_from_expected_diff_ptp_LONG, observed_from_expected_diff_mean_LONG, observed_from_expected_diff_std_LONG, decoder_time_bin_centers_SHORT, all_epochs_computed_expected_cell_num_spikes_SHORT, all_epochs_computed_observed_from_expected_difference_SHORT, measured_pos_window_centers_SHORT, all_epochs_decoded_epoch_time_bins_mean_SHORT, all_epochs_computed_expected_cell_firing_rates_mean_SHORT, all_epochs_computed_expected_cell_firing_rates_stddev_SHORT, all_epochs_computed_observed_from_expected_difference_maximum_SHORT, Flat_decoder_time_bin_centers_SHORT, Flat_all_epochs_computed_expected_cell_num_spikes_SHORT, returned_shape_tuple_SHORT, observed_from_expected_diff_ptp_SHORT, observed_from_expected_diff_mean_SHORT, observed_from_expected_diff_std_SHORT = curr_active_pipeline.global_computation_results.computed_data.long_short_post_decoding['decoder_time_bin_centers_LONG'], curr_active_pipeline.global_computation_results.computed_data.long_short_post_decoding['all_epochs_computed_expected_cell_num_spikes_LONG'], curr_active_pipeline.global_computation_results.computed_data.long_short_post_decoding['all_epochs_computed_observed_from_expected_difference_LONG'], curr_active_pipeline.global_computation_results.computed_data.long_short_post_decoding['measured_pos_window_centers_LONG'], curr_active_pipeline.global_computation_results.computed_data.long_short_post_decoding['all_epochs_decoded_epoch_time_bins_mean_LONG'], curr_active_pipeline.global_computation_results.computed_data.long_short_post_decoding['all_epochs_computed_expected_cell_firing_rates_mean_LONG'], curr_active_pipeline.global_computation_results.computed_data.long_short_post_decoding['all_epochs_computed_expected_cell_firing_rates_stddev_LONG'], curr_active_pipeline.global_computation_results.computed_data.long_short_post_decoding['all_epochs_computed_observed_from_expected_difference_maximum_LONG'], curr_active_pipeline.global_computation_results.computed_data.long_short_post_decoding['Flat_decoder_time_bin_centers_LONG'], curr_active_pipeline.global_computation_results.computed_data.long_short_post_decoding['Flat_all_epochs_computed_expected_cell_num_spikes_LONG'], curr_active_pipeline.global_computation_results.computed_data.long_short_post_decoding['returned_shape_tuple_LONG'], curr_active_pipeline.global_computation_results.computed_data.long_short_post_decoding['observed_from_expected_diff_ptp_LONG'], curr_active_pipeline.global_computation_results.computed_data.long_short_post_decoding['observed_from_expected_diff_mean_LONG'], curr_active_pipeline.global_computation_results.computed_data.long_short_post_decoding['observed_from_expected_diff_std_LONG'], curr_active_pipeline.global_computation_results.computed_data.long_short_post_decoding['decoder_time_bin_centers_SHORT'], curr_active_pipeline.global_computation_results.computed_data.long_short_post_decoding['all_epochs_computed_expected_cell_num_spikes_SHORT'], curr_active_pipeline.global_computation_results.computed_data.long_short_post_decoding['all_epochs_computed_observed_from_expected_difference_SHORT'], curr_active_pipeline.global_computation_results.computed_data.long_short_post_decoding['measured_pos_window_centers_SHORT'], curr_active_pipeline.global_computation_results.computed_data.long_short_post_decoding['all_epochs_decoded_epoch_time_bins_mean_SHORT'], curr_active_pipeline.global_computation_results.computed_data.long_short_post_decoding['all_epochs_computed_expected_cell_firing_rates_mean_SHORT'], curr_active_pipeline.global_computation_results.computed_data.long_short_post_decoding['all_epochs_computed_expected_cell_firing_rates_stddev_SHORT'], curr_active_pipeline.global_computation_results.computed_data.long_short_post_decoding['all_epochs_computed_observed_from_expected_difference_maximum_SHORT'], curr_active_pipeline.global_computation_results.computed_data.long_short_post_decoding['Flat_decoder_time_bin_centers_SHORT'], curr_active_pipeline.global_computation_results.computed_data.long_short_post_decoding['Flat_all_epochs_computed_expected_cell_num_spikes_SHORT'], curr_active_pipeline.global_computation_results.computed_data.long_short_post_decoding['returned_shape_tuple_SHORT'], curr_active_pipeline.global_computation_results.computed_data.long_short_post_decoding['observed_from_expected_diff_ptp_SHORT'], curr_active_pipeline.global_computation_results.computed_data.long_short_post_decoding['observed_from_expected_diff_mean_SHORT'], curr_active_pipeline.global_computation_results.computed_data.long_short_post_decoding['observed_from_expected_diff_std_SHORT'] # Extract variables from the `curr_active_pipeline.global_computation_results.computed_data.long_short_post_decoding` dictionary to the local workspace\n",
      "\n"
     ]
    }
   ],
   "source": [
    "def _build_result_object(variable_list_str:str, assignment_name:str='curr_active_pipeline.global_computation_results.computed_data.long_short_post_decoding'):\n",
    "\tresult_dict_str_rep, result_dict = CodeConversion.convert_variable_tuple_code_to_dict_with_names(variable_list_str)\n",
    "\tconverted_str = PythonDictionaryDefinitionFormat.convert_format(result_dict_str_rep, PythonDictionaryDefinitionFormat.DICT_CONSTRUCTOR) \n",
    "\t# DynamicParameters.init_from_dict(\n",
    "\tconverted_str = converted_str.replace('dict', 'DynamicParameters', 1) # convert from 'dict(...)' to 'DynamicParameters(...)'\n",
    "\tprint(f'\\n{converted_str}\\n')\n",
    "\tout_assignment_lines = CodeConversion.convert_dictionary_to_defn_lines(result_dict_str_rep, multiline_assignment_code=False, dictionary_name=assignment_name)\n",
    "\tprint(f'\\n{out_assignment_lines}\\n')\n",
    "\treturn converted_str, out_assignment_lines\n",
    "\n",
    "converted_str, out_assignment_lines = _build_result_object('decoder_time_bin_centers_LONG, all_epochs_computed_expected_cell_num_spikes_LONG, all_epochs_computed_observed_from_expected_difference_LONG, measured_pos_window_centers_LONG, all_epochs_decoded_epoch_time_bins_mean_LONG, all_epochs_computed_expected_cell_firing_rates_mean_LONG, all_epochs_computed_expected_cell_firing_rates_stddev_LONG, all_epochs_computed_observed_from_expected_difference_maximum_LONG, Flat_decoder_time_bin_centers_LONG, Flat_all_epochs_computed_expected_cell_num_spikes_LONG, returned_shape_tuple_LONG, observed_from_expected_diff_ptp_LONG, observed_from_expected_diff_mean_LONG, observed_from_expected_diff_std_LONG, decoder_time_bin_centers_SHORT, all_epochs_computed_expected_cell_num_spikes_SHORT, all_epochs_computed_observed_from_expected_difference_SHORT, measured_pos_window_centers_SHORT, all_epochs_decoded_epoch_time_bins_mean_SHORT, all_epochs_computed_expected_cell_firing_rates_mean_SHORT, all_epochs_computed_expected_cell_firing_rates_stddev_SHORT, all_epochs_computed_observed_from_expected_difference_maximum_SHORT, Flat_decoder_time_bin_centers_SHORT, Flat_all_epochs_computed_expected_cell_num_spikes_SHORT, returned_shape_tuple_SHORT, observed_from_expected_diff_ptp_SHORT, observed_from_expected_diff_mean_SHORT, observed_from_expected_diff_std_SHORT',\n",
    "\t\t\t\tassignment_name='curr_active_pipeline.global_computation_results.computed_data.long_short_post_decoding')\n",
    "\n",
    "# \"decoder_time_bin_centers_LONG, all_epochs_computed_expected_cell_num_spikes_LONG, all_epochs_computed_observed_from_expected_difference_LONG, measured_pos_window_centers_LONG, all_epochs_decoded_epoch_time_bins_mean_LONG, all_epochs_computed_expected_cell_firing_rates_mean_LONG, all_epochs_computed_expected_cell_firing_rates_stddev_LONG, all_epochs_computed_observed_from_expected_difference_maximum_LONG, Flat_decoder_time_bin_centers_LONG, Flat_all_epochs_computed_expected_cell_num_spikes_LONG, returned_shape_tuple_LONG, observed_from_expected_diff_ptp_LONG, observed_from_expected_diff_mean_LONG, observed_from_expected_diff_std_LONG = curr_active_pipeline.global_computation_results.computed_data.long_short_post_decoding['decoder_time_bin_centers_LONG'], curr_active_pipeline.global_computation_results.computed_data.long_short_post_decoding['all_epochs_computed_expected_cell_num_spikes_LONG'], curr_active_pipeline.global_computation_results.computed_data.long_short_post_decoding['all_epochs_computed_observed_from_expected_difference_LONG'], curr_active_pipeline.global_computation_results.computed_data.long_short_post_decoding['measured_pos_window_centers_LONG'], curr_active_pipeline.global_computation_results.computed_data.long_short_post_decoding['all_epochs_decoded_epoch_time_bins_mean_LONG'], curr_active_pipeline.global_computation_results.computed_data.long_short_post_decoding['all_epochs_computed_expected_cell_firing_rates_mean_LONG'], curr_active_pipeline.global_computation_results.computed_data.long_short_post_decoding['all_epochs_computed_expected_cell_firing_rates_stddev_LONG'], curr_active_pipeline.global_computation_results.computed_data.long_short_post_decoding['all_epochs_computed_observed_from_expected_difference_maximum_LONG'], curr_active_pipeline.global_computation_results.computed_data.long_short_post_decoding['Flat_decoder_time_bin_centers_LONG'], curr_active_pipeline.global_computation_results.computed_data.long_short_post_decoding['Flat_all_epochs_computed_expected_cell_num_spikes_LONG'], curr_active_pipeline.global_computation_results.computed_data.long_short_post_decoding['returned_shape_tuple_LONG'], curr_active_pipeline.global_computation_results.computed_data.long_short_post_decoding['observed_from_expected_diff_ptp_LONG'], curr_active_pipeline.global_computation_results.computed_data.long_short_post_decoding['observed_from_expected_diff_mean_LONG'], curr_active_pipeline.global_computation_results.computed_data.long_short_post_decoding['observed_from_expected_diff_std_LONG'] # Extract variables from the `curr_active_pipeline.global_computation_results.computed_data.long_short_post_decoding` dictionary to the local workspace\"\n"
   ]
  },
  {
   "cell_type": "code",
   "execution_count": null,
   "id": "387129b3",
   "metadata": {},
   "outputs": [],
   "source": [
    "'decoder_time_bin_centers_LONG, all_epochs_computed_expected_cell_num_spikes_LONG, all_epochs_computed_observed_from_expected_difference_LONG, measured_pos_window_centers_LONG, all_epochs_decoded_epoch_time_bins_mean_LONG, all_epochs_computed_expected_cell_firing_rates_mean_LONG, all_epochs_computed_expected_cell_firing_rates_stddev_LONG, all_epochs_computed_observed_from_expected_difference_maximum_LONG, Flat_decoder_time_bin_centers_LONG, Flat_all_epochs_computed_expected_cell_num_spikes_LONG, returned_shape_tuple_LONG, observed_from_expected_diff_ptp_LONG, observed_from_expected_diff_mean_LONG, observed_from_expected_diff_std_LONG'\n",
    "'decoder_time_bin_centers_SHORT, all_epochs_computed_expected_cell_num_spikes_SHORT, all_epochs_computed_observed_from_expected_difference_SHORT, measured_pos_window_centers_SHORT, all_epochs_decoded_epoch_time_bins_mean_SHORT, all_epochs_computed_expected_cell_firing_rates_mean_SHORT, all_epochs_computed_expected_cell_firing_rates_stddev_SHORT, all_epochs_computed_observed_from_expected_difference_maximum_SHORT, Flat_decoder_time_bin_centers_SHORT, Flat_all_epochs_computed_expected_cell_num_spikes_SHORT, returned_shape_tuple_SHORT, observed_from_expected_diff_ptp_SHORT, observed_from_expected_diff_mean_SHORT, observed_from_expected_diff_std_SHORT'\n"
   ]
  },
  {
   "cell_type": "code",
   "execution_count": 12,
   "id": "1c82b5c7",
   "metadata": {},
   "outputs": [
    {
     "name": "stdout",
     "output_type": "stream",
     "text": [
      "Copied \"is_short_track_epoch, is_long_track_epoch, short_short_diff, long_long_diff = curr_active_pipeline.global_computation_results.computed_data.long_short_post_decoding['is_short_track_epoch'], curr_active_pipeline.global_computation_results.computed_data.long_short_post_decoding['is_long_track_epoch'], curr_active_pipeline.global_computation_results.computed_data.long_short_post_decoding['short_short_diff'], curr_active_pipeline.global_computation_results.computed_data.long_short_post_decoding['long_long_diff'] # Extract variables from the `curr_active_pipeline.global_computation_results.computed_data.long_short_post_decoding` dictionary to the local workspace\" to clipboard!\n"
     ]
    },
    {
     "data": {
      "text/plain": [
       "\"'is_short_track_epoch', 'is_long_track_epoch', 'short_short_diff', 'long_long_diff' = curr_active_pipeline.global_computation_results.computed_data.long_short_post_decoding[''is_short_track_epoch''], curr_active_pipeline.global_computation_results.computed_data.long_short_post_decoding[''is_long_track_epoch''], curr_active_pipeline.global_computation_results.computed_data.long_short_post_decoding[''short_short_diff''], curr_active_pipeline.global_computation_results.computed_data.long_short_post_decoding[''long_long_diff''] # Extract variables from the `curr_active_pipeline.global_computation_results.computed_data.long_short_post_decoding` dictionary to the local workspace\""
      ]
     },
     "execution_count": 12,
     "metadata": {},
     "output_type": "execute_result"
    }
   ],
   "source": [
    "CodeConversion.convert_dictionary_to_defn_lines(result_dict_str_rep, multiline_assignment_code=False, dictionary_name='curr_active_pipeline.global_computation_results.computed_data.long_short_post_decoding')\n",
    "\n",
    "is_short_track_epoch, is_long_track_epoch, short_short_diff, long_long_diff = curr_active_pipeline.global_computation_results.computed_data.long_short_post_decoding['is_short_track_epoch'], curr_active_pipeline.global_computation_results.computed_data.long_short_post_decoding['is_long_track_epoch'], curr_active_pipeline.global_computation_results.computed_data.long_short_post_decoding['short_short_diff'], curr_active_pipeline.global_computation_results.computed_data.long_short_post_decoding['long_long_diff'] # Extract variables from the `curr_active_pipeline.global_computation_results.computed_data.long_short_post_decoding` dictionary to the local workspace\n",
    "\n",
    "\n",
    "# \"'is_short_track_epoch', 'is_long_track_epoch', 'short_short_diff', 'long_long_diff' = curr_active_pipeline.global_computation_results.computed_data.long_short_post_decoding[''is_short_track_epoch''], curr_active_pipeline.global_computation_results.computed_data.long_short_post_decoding[''is_long_track_epoch''], curr_active_pipeline.global_computation_results.computed_data.long_short_post_decoding[''short_short_diff''], curr_active_pipeline.global_computation_results.computed_data.long_short_post_decoding[''long_long_diff''] # Extract variables from the `curr_active_pipeline.global_computation_results.computed_data.long_short_post_decoding` dictionary to the local workspace\"\n"
   ]
  },
  {
   "cell_type": "code",
   "execution_count": null,
   "id": "e228d48a",
   "metadata": {},
   "outputs": [],
   "source": [
    "# CodeConversion.convert_dictionary_to_defn_lines(curr_long_short_post_decoding.to_dict(), dictionary_name='curr_long_short_post_decoding')\n",
    "expected_v_observed_result, rate_remapping = curr_long_short_post_decoding['expected_v_observed_result'], curr_long_short_post_decoding['rate_remapping'] # Extract variables from the `curr_long_short_post_decoding` dictionary to the local workspace\n"
   ]
  },
  {
   "cell_type": "code",
   "execution_count": null,
   "id": "a517e17a",
   "metadata": {},
   "outputs": [],
   "source": [
    "CodeConversion.build_dummy_dictionary_from_defn_code(result_dict_str_rep)"
   ]
  },
  {
   "cell_type": "code",
   "execution_count": null,
   "id": "4bb234fb",
   "metadata": {},
   "outputs": [],
   "source": [
    "## Testing - copied from other notebook\n",
    "CodeConversion.convert_variable_tuple_code_to_dict_with_names('Flat_epoch_time_bins_mean, Flat_decoder_time_bin_centers, num_neurons, num_timebins_in_epoch, num_total_flat_timebins')\n",
    "converted_str = PythonDictionaryDefinitionFormat.convert_format(\"{'Flat_epoch_time_bins_mean':Flat_epoch_time_bins_mean, 'Flat_decoder_time_bin_centers':Flat_decoder_time_bin_centers, 'num_neurons':num_neurons, 'num_timebins_in_epoch':num_timebins_in_epoch, 'num_total_flat_timebins':num_total_flat_timebins}\",\n",
    "                                                                 PythonDictionaryDefinitionFormat.DICT_CONSTRUCTOR) \n",
    "print(converted_str) # dict(Flat_epoch_time_bins_mean=Flat_epoch_time_bins_mean, Flat_decoder_time_bin_centers=Flat_decoder_time_bin_centers, num_neurons=num_neurons, num_timebins_in_epoch=num_timebins_in_epoch, num_total_flat_timebins=num_total_flat_timebins)\n",
    "CodeConversion.convert_variable_tuple_code_to_dict_with_names('is_short_track_epoch, is_long_track_epoch, short_short_diff, long_long_diff')\n",
    "converted_str = PythonDictionaryDefinitionFormat.convert_format(\"{'is_short_track_epoch':is_short_track_epoch, 'is_long_track_epoch':is_long_track_epoch, 'short_short_diff':short_short_diff, 'long_long_diff':long_long_diff}\",\n",
    "                                                                 PythonDictionaryDefinitionFormat.DICT_CONSTRUCTOR) \n",
    "print(converted_str) # dict(is_short_track_epoch=is_short_track_epoch, is_long_track_epoch=is_long_track_epoch, short_short_diff=short_short_diff, long_long_diff=long_long_diff)\n"
   ]
  },
  {
   "attachments": {},
   "cell_type": "markdown",
   "id": "d335a8c8",
   "metadata": {},
   "source": [
    "# 2023-06-01 - Convert a nested dict-convertable data structure to a layered unwrapping code lines:"
   ]
  },
  {
   "cell_type": "code",
   "execution_count": null,
   "id": "39d6ff5f",
   "metadata": {},
   "outputs": [],
   "source": [
    "from pyphocorehelpers.programming_helpers import PythonDictionaryDefinitionFormat\n",
    "\n",
    "curr_long_short_post_decoding = curr_active_pipeline.global_computation_results.computed_data['long_short_post_decoding']\n",
    "expected_v_observed_result, rate_remapping = curr_long_short_post_decoding['expected_v_observed_result'], curr_long_short_post_decoding['rate_remapping'] # Extract variables from the `curr_long_short_post_decoding` dictionary to the local workspace\n",
    "Flat_epoch_time_bins_mean, Flat_decoder_time_bin_centers, num_neurons, num_timebins_in_epoch, num_total_flat_timebins, is_short_track_epoch, is_long_track_epoch, short_short_diff, long_long_diff = expected_v_observed_result['Flat_epoch_time_bins_mean'], expected_v_observed_result['Flat_decoder_time_bin_centers'], expected_v_observed_result['num_neurons'], expected_v_observed_result['num_timebins_in_epoch'], expected_v_observed_result['num_total_flat_timebins'], expected_v_observed_result['is_short_track_epoch'], expected_v_observed_result['is_long_track_epoch'], expected_v_observed_result['short_short_diff'], expected_v_observed_result['long_long_diff'] # Extract variables from the `expected_v_observed_result` dictionary to the local workspace\n"
   ]
  },
  {
   "cell_type": "code",
   "execution_count": null,
   "id": "606f6477",
   "metadata": {},
   "outputs": [],
   "source": [
    "# CodeConversion.convert_dictionary_to_defn_lines(curr_long_short_post_decoding.to_dict(), dictionary_name='curr_long_short_post_decoding')\n",
    "expected_v_observed_result, rate_remapping = curr_long_short_post_decoding['expected_v_observed_result'], curr_long_short_post_decoding['rate_remapping'] # Extract variables from the `curr_long_short_post_decoding` dictionary to the local workspace"
   ]
  },
  {
   "cell_type": "code",
   "execution_count": null,
   "id": "ce17c5b6",
   "metadata": {},
   "outputs": [
    {
     "name": "stdout",
     "output_type": "stream",
     "text": [
      "Copied \"Flat_epoch_time_bins_mean, Flat_decoder_time_bin_centers, num_neurons, num_timebins_in_epoch, num_total_flat_timebins, is_short_track_epoch, is_long_track_epoch, short_short_diff, long_long_diff = expected_v_observed_result['Flat_epoch_time_bins_mean'], expected_v_observed_result['Flat_decoder_time_bin_centers'], expected_v_observed_result['num_neurons'], expected_v_observed_result['num_timebins_in_epoch'], expected_v_observed_result['num_total_flat_timebins'], expected_v_observed_result['is_short_track_epoch'], expected_v_observed_result['is_long_track_epoch'], expected_v_observed_result['short_short_diff'], expected_v_observed_result['long_long_diff'] # Extract variables from the `expected_v_observed_result` dictionary to the local workspace\" to clipboard!\n"
     ]
    },
    {
     "data": {
      "text/plain": [
       "\"Flat_epoch_time_bins_mean, Flat_decoder_time_bin_centers, num_neurons, num_timebins_in_epoch, num_total_flat_timebins, is_short_track_epoch, is_long_track_epoch, short_short_diff, long_long_diff = expected_v_observed_result['Flat_epoch_time_bins_mean'], expected_v_observed_result['Flat_decoder_time_bin_centers'], expected_v_observed_result['num_neurons'], expected_v_observed_result['num_timebins_in_epoch'], expected_v_observed_result['num_total_flat_timebins'], expected_v_observed_result['is_short_track_epoch'], expected_v_observed_result['is_long_track_epoch'], expected_v_observed_result['short_short_diff'], expected_v_observed_result['long_long_diff'] # Extract variables from the `expected_v_observed_result` dictionary to the local workspace\""
      ]
     },
     "metadata": {},
     "output_type": "display_data"
    }
   ],
   "source": [
    "# CodeConversion.convert_dictionary_to_defn_lines(expected_v_observed_result.to_dict(), dictionary_name='expected_v_observed_result')\n",
    "Flat_epoch_time_bins_mean, Flat_decoder_time_bin_centers, num_neurons, num_timebins_in_epoch, num_total_flat_timebins, is_short_track_epoch, is_long_track_epoch, short_short_diff, long_long_diff = expected_v_observed_result['Flat_epoch_time_bins_mean'], expected_v_observed_result['Flat_decoder_time_bin_centers'], expected_v_observed_result['num_neurons'], expected_v_observed_result['num_timebins_in_epoch'], expected_v_observed_result['num_total_flat_timebins'], expected_v_observed_result['is_short_track_epoch'], expected_v_observed_result['is_long_track_epoch'], expected_v_observed_result['short_short_diff'], expected_v_observed_result['long_long_diff'] # Extract variables from the `expected_v_observed_result` dictionary to the local workspace\n"
   ]
  },
  {
   "cell_type": "code",
   "execution_count": null,
   "id": "c5944832",
   "metadata": {},
   "outputs": [
    {
     "name": "stdout",
     "output_type": "stream",
     "text": [
      "Copied \"rr_df, high_only_rr_df = rate_remapping['rr_df'], rate_remapping['high_only_rr_df'] # Extract variables from the `rate_remapping` dictionary to the local workspace\" to clipboard!\n"
     ]
    },
    {
     "data": {
      "text/plain": [
       "\"rr_df, high_only_rr_df = rate_remapping['rr_df'], rate_remapping['high_only_rr_df'] # Extract variables from the `rate_remapping` dictionary to the local workspace\""
      ]
     },
     "metadata": {},
     "output_type": "display_data"
    }
   ],
   "source": [
    "# CodeConversion.convert_dictionary_to_defn_lines(rate_remapping.to_dict(), dictionary_name='rate_remapping')\n",
    "rr_df, high_only_rr_df = rate_remapping['rr_df'], rate_remapping['high_only_rr_df'] # Extract variables from the `rate_remapping` dictionary to the local workspace\n"
   ]
  },
  {
   "cell_type": "code",
   "execution_count": null,
   "id": "0d49319f-adb5-477c-bb5d-25b50e2d801f",
   "metadata": {},
   "outputs": [],
   "source": [
    "print(stripComments(\"\"\"#foo bar\n",
    "bar foo # extended comment on bar foo line\n",
    "# buz\"\"\"))"
   ]
  },
  {
   "attachments": {},
   "cell_type": "markdown",
   "id": "8dccfaa9-39b6-4bf4-aaa2-16b33ab649e4",
   "metadata": {
    "jp-MarkdownHeadingCollapsed": true,
    "tags": []
   },
   "source": [
    "# Introspection Testing"
   ]
  },
  {
   "cell_type": "code",
   "execution_count": null,
   "id": "13879f04-ffc9-43f3-92e6-627e2986e1d9",
   "metadata": {},
   "outputs": [],
   "source": [
    "# __code__\n",
    "# DefaultDisplayFunctions.get_all_function_names()\n",
    "\n",
    "active_fcn = DefaultDisplayFunctions._display_normal\n",
    "function_code = active_fcn.__code__\n",
    "code_string = function_code.co_code\n",
    "variable_names = function_code.co_varnames\n",
    "variable_default_values = active_fcn.__defaults__\n",
    "\n",
    "print(f'code_string: {code_string}\\nvariable_names: {variable_names}\\nvariable_default_values: {variable_default_values}')\n",
    "\n",
    "\"\"\"\n",
    "    co_nlocals — is the number of local variables used by the function (including arguments).\n",
    "    co_argcount — is the total number of positional arguments (including positional-only arguments and arguments with default values).\n",
    "    co_varnames — is a tuple containing the names of the local variables (starting with the argument names).\n",
    "    co_names — is a tuple containing the names used by the bytecode.\n",
    "    co_cellvars — is a tuple containing the names of local variables that are referenced by nested functions.\n",
    "    co_freevars — is a tuple containing the names of free variables; co_code is a string representing the sequence of bytecode instructions.\n",
    "    co_posonlyargcount — is the number of positional-only arguments (including arguments with default values).\n",
    "    co_kwonlyargcount — is the number of keyword-only arguments (including arguments with default values).\n",
    "    co_firstlineno — is the first line number of the function.\n",
    "    co_lnotab — is a string encoding the mapping from bytecode offsets to line numbers (for details see the source code of the interpreter).\n",
    "    co_stacksize — is the required stack size.\n",
    "    co_code — is a string representing the sequence of bytecode instructions.\n",
    "    co_consts — is a tuple containing the literals used by the bytecode.\n",
    "    co_flags — is an integer encoding a number of flags for the interpreter.\n",
    "\"\"\"\n",
    "\n",
    "# '_display_normal'"
   ]
  },
  {
   "cell_type": "code",
   "execution_count": null,
   "id": "8a8edd19-6611-4f0a-95c2-fa7d86e357db",
   "metadata": {
    "pycharm": {
     "is_executing": false,
     "name": "#%%\n"
    }
   },
   "outputs": [],
   "source": [
    "function_code.co_nlocals"
   ]
  },
  {
   "cell_type": "code",
   "execution_count": null,
   "id": "f2924815-3dad-47fc-926b-3df340a4c72a",
   "metadata": {
    "pycharm": {
     "is_executing": false,
     "name": "#%%\n"
    }
   },
   "outputs": [],
   "source": [
    "function_code.co_varnames"
   ]
  },
  {
   "cell_type": "code",
   "execution_count": null,
   "id": "9be5a723-4523-462f-8e8e-c06e131cef41",
   "metadata": {
    "pycharm": {
     "is_executing": false,
     "name": "#%%\n"
    }
   },
   "outputs": [],
   "source": [
    "function_code.co_names # ('computation_config', 'plot_all_placefields', 'computed_data')"
   ]
  },
  {
   "cell_type": "code",
   "execution_count": null,
   "id": "13c000e2-2587-4471-ae47-2b23da961280",
   "metadata": {
    "pycharm": {
     "is_executing": false,
     "name": "#%%\n"
    }
   },
   "outputs": [],
   "source": [
    "function_code.co_posonlyargcount"
   ]
  },
  {
   "cell_type": "code",
   "execution_count": null,
   "id": "2020fcd3-bdf6-4f7f-8ada-51cd55cd09dc",
   "metadata": {
    "pycharm": {
     "is_executing": false,
     "name": "#%%\n"
    }
   },
   "outputs": [],
   "source": [
    "function_code.co_kwonlyargcount"
   ]
  },
  {
   "attachments": {},
   "cell_type": "markdown",
   "id": "32ac5ec9-4121-419c-9596-63a96aca6a68",
   "metadata": {},
   "source": [
    "# Conversion Testing"
   ]
  },
  {
   "cell_type": "code",
   "execution_count": null,
   "id": "fb00dc11-92ea-432f-aef8-89efb0c5ea51",
   "metadata": {},
   "outputs": [],
   "source": [
    "def _private_test_parameters_defns_code_function():\n",
    "    max_num_spikes_per_neuron = 20000 # the number of spikes to truncate each neuron's timeseries to\n",
    "    kleinberg_parameters = DynamicParameters(s=2, gamma=0.1)\n",
    "    use_progress_bar = False # whether to use a tqdm progress bar\n",
    "    debug_print = False # whether to print debug-level progress using traditional print(...) statements\n",
    "    \n",
    "    _local_variables = locals()\n",
    "    names = list(_local_variables.keys())\n",
    "    values = list(_local_variables.values())\n",
    "    # print(_private_test_parameters_defns_code_function.__code__.co_varnames)\n",
    "    # _private_test_parameters_defns_code_function.__defaults__\n",
    "    print(_local_variables)\n",
    "    \n",
    "_private_test_parameters_defns_code_function()"
   ]
  },
  {
   "cell_type": "code",
   "execution_count": 2,
   "id": "73c03731-d358-4d8d-b09c-bf39d066931d",
   "metadata": {},
   "outputs": [
    {
     "data": {
      "text/plain": [
       "\"\\nmax_num_spikes_per_neuron = 20000 # the number of spikes to truncate each neuron's timeseries to\\nkleinberg_parameters = DynamicParameters(s=2, gamma=0.1)\\nuse_progress_bar = False # whether to use a tqdm progress bar\\ndebug_print = False # whether to print debug-level progress using traditional print(...) statements\\n\""
      ]
     },
     "execution_count": 2,
     "metadata": {},
     "output_type": "execute_result"
    }
   ],
   "source": [
    "test_parameters_defns_code_string = \"\"\"\n",
    "max_num_spikes_per_neuron = 20000 # the number of spikes to truncate each neuron's timeseries to\n",
    "kleinberg_parameters = DynamicParameters(s=2, gamma=0.1)\n",
    "use_progress_bar = False # whether to use a tqdm progress bar\n",
    "debug_print = False # whether to print debug-level progress using traditional print(...) statements\n",
    "\"\"\"\n",
    "test_parameters_defns_code_string"
   ]
  },
  {
   "cell_type": "code",
   "execution_count": 3,
   "id": "b362198c-475a-4001-a114-f622028d6fb2",
   "metadata": {},
   "outputs": [
    {
     "data": {
      "text/plain": [
       "\"{\\n    'max_num_spikes_per_neuron': 20000,\\n    'kleinberg_parameters': DynamicParameters(s=2, gamma=0.1),\\n    'use_progress_bar': False,\\n    'debug_print': False\\n}\\n\""
      ]
     },
     "execution_count": 3,
     "metadata": {},
     "output_type": "execute_result"
    }
   ],
   "source": [
    "CodeConversion.convert_defn_lines_to_dictionary(test_parameters_defns_code_string)\n",
    "\n",
    "    "
   ]
  },
  {
   "cell_type": "code",
   "execution_count": null,
   "id": "73a54811-694b-4b47-acab-8342c4d8e5e8",
   "metadata": {},
   "outputs": [],
   "source": [
    "active_str = convert_defn_lines_to_dictionary(test_parameters_defns_code_string, multiline_dict_defn=False)\n",
    "active_str"
   ]
  },
  {
   "cell_type": "code",
   "execution_count": null,
   "id": "02fda4b5-a41d-4efe-b55f-561ac0e259e6",
   "metadata": {},
   "outputs": [],
   "source": [
    "print(convert_defn_lines_to_dictionary(test_parameters_defns_code_string, multiline_dict_defn=True))"
   ]
  },
  {
   "cell_type": "code",
   "execution_count": 4,
   "id": "7e79c92d-d521-4f7b-b8d4-28fc3ff9b254",
   "metadata": {},
   "outputs": [],
   "source": [
    "CodeConversion.convert_defn_lines_to_parameters_list(test_parameters_defns_code_string) # 'max_num_spikes_per_neuron=20000, kleinberg_parameters=DynamicParameters(s=2, gamma=0.1), use_progress_bar=False, debug_print=False'"
   ]
  },
  {
   "cell_type": "markdown",
   "id": "b76457d0",
   "metadata": {},
   "source": [
    "# 2024-04-03 - 4pm - Diversion: Trying to improve documentation-making by intelegently resolving collection type's nested types."
   ]
  },
  {
   "cell_type": "code",
   "execution_count": null,
   "id": "291cdf91",
   "metadata": {},
   "outputs": [],
   "source": [
    "from neuropy.utils.indexing_helpers import collapse_if_identical\n",
    "from pyphocorehelpers.print_helpers import strip_type_str_to_classname\n",
    "\n",
    " # 'pyphoplacecellanalysis.General.Pipeline.Stages.ComputationFunctions.MultiContextComputationFunctions.DirectionalPlacefieldGlobalComputationFunctions.DirectionalMergedDecodersResult'\n",
    "\n",
    "# _collapsed_output = collapse_if_identical([(type(k), type(v)) for k,v in output_full_directional_merged_decoders_result.items()])\n",
    "_collapsed_output = collapse_if_identical([(strip_type_str_to_classname(str(type(k))), strip_type_str_to_classname(str(type(v)))) for k,v in output_full_directional_merged_decoders_result.items()])\n",
    "\n",
    "_collapsed_output # ('frozenset', 'pyphoplacecellanalysis.General.Pipeline.Stages.ComputationFunctions.MultiContextComputationFunctions.DirectionalPlacefieldGlobalComputationFunctions.DirectionalMergedDecodersResult')"
   ]
  },
  {
   "cell_type": "code",
   "execution_count": null,
   "id": "4a131a0e",
   "metadata": {},
   "outputs": [],
   "source": [
    "def print_dict_typehint(output_full_directional_merged_decoders_result: Dict) -> str:\n",
    "    from neuropy.utils.indexing_helpers import collapse_if_identical\n",
    "    from pyphocorehelpers.print_helpers import strip_type_str_to_classname\n",
    "\n",
    "    _collapsed_output = collapse_if_identical([(strip_type_str_to_classname(str(type(k))), strip_type_str_to_classname(str(type(v)))) for k,v in output_full_directional_merged_decoders_result.items()])\n",
    "    # _collapsed_output # ('frozenset', 'pyphoplacecellanalysis.General.Pipeline.Stages.ComputationFunctions.MultiContextComputationFunctions.DirectionalPlacefieldGlobalComputationFunctions.DirectionalMergedDecodersResult')\n",
    "\n",
    "    return Dict[*_collapsed_output]\n",
    "\n"
   ]
  }
 ],
 "metadata": {
  "kernelspec": {
   "display_name": ".venv",
   "language": "python",
   "name": "python3"
  },
  "language_info": {
   "codemirror_mode": {
    "name": "ipython",
    "version": 3
   },
   "file_extension": ".py",
   "mimetype": "text/x-python",
   "name": "python",
   "nbconvert_exporter": "python",
   "pygments_lexer": "ipython3",
   "version": "3.9.13"
  }
 },
 "nbformat": 4,
 "nbformat_minor": 5
}
