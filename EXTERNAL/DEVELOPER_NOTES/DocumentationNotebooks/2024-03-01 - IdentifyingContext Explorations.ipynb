{
 "cells": [
  {
   "cell_type": "markdown",
   "metadata": {},
   "source": [
    "# 2024-03-01 - IdentifyingContext Explorations\n"
   ]
  },
  {
   "cell_type": "markdown",
   "metadata": {},
   "source": [
    "## Option 1: `typing.NewType` to define aliases"
   ]
  },
  {
   "cell_type": "code",
   "execution_count": 2,
   "metadata": {},
   "outputs": [
    {
     "name": "stdout",
     "output_type": "stream",
     "text": [
      "Automatic pdb calling has been turned OFF\n",
      "The autoreload extension is already loaded. To reload it, use:\n",
      "  %reload_ext autoreload\n"
     ]
    }
   ],
   "source": [
    "%config IPCompleter.use_jedi = False\n",
    "%pdb off\n",
    "%load_ext autoreload\n",
    "%autoreload 3\n",
    "import sys\n",
    "from pathlib import Path\n",
    "\n",
    "# required to enable non-blocking interaction:\n",
    "%gui qt5\n",
    "\n",
    "from copy import deepcopy\n",
    "from numba import jit\n",
    "import numpy as np\n",
    "import pandas as pd\n",
    "pd.options.mode.chained_assignment = None  # default='warn'\n",
    "# pd.options.mode.dtype_backend = 'pyarrow' # use new pyarrow backend instead of numpy\n",
    "from attrs import define, field, fields, Factory\n",
    "import tables as tb\n",
    "from datetime import datetime, timedelta\n",
    "\n",
    "# Pho's Formatting Preferences\n",
    "import IPython\n",
    "from IPython.core.formatters import PlainTextFormatter\n",
    "from IPython import get_ipython\n",
    "\n",
    "from neuropy.utils.misc import numpyify_array\n",
    "from neuropy.utils.result_context import IdentifyingContext\n",
    "from neuropy.utils.result_context import IdentifyingContext as Ctx\n",
    "from neuropy.core.user_annotations import UserAnnotationsManager\n",
    "\n",
    "annotations_man = UserAnnotationsManager()\n",
    "user_annotations = annotations_man.get_user_annotations()\n",
    "original_user_annotations = deepcopy(user_annotations)"
   ]
  },
  {
   "cell_type": "code",
   "execution_count": 3,
   "metadata": {},
   "outputs": [
    {
     "name": "stdout",
     "output_type": "stream",
     "text": [
      "{'format_name': ['kdiba'], 'animal': ['gor01', 'pin01', 'vvp01'], 'exper_name': ['one', 'two'], 'session_name': ['2006-6-08_14-26-15', '2006-6-07_16-40-19', '2006-6-12_15-55-31', '11-02_17-46-44', '11-02_19-28-0', '11-03_12-3-25', 'fet11-01_12-58-54', '2006-6-09_1-22-43', '2006-6-08_21-16-25', '2006-6-09_22-24-40', '2006-6-12_16-53-46', '2006-4-09_17-29-30', '2006-4-10_12-25-50', '2006-4-09_16-40-54', '2006-4-10_12-58-3'], 'display_fn_name': ['DecodedEpochSlices'], 'epochs': ['replays', 'ripple'], 'decoder': ['long_results_obj', 'short_results_obj', 'long_LR', 'long_RL', 'short_LR', 'short_RL'], 'user_annotation': ['selections']}\n"
     ]
    }
   ],
   "source": [
    "print(IdentifyingContext.find_unique_values(user_annotations))\n",
    "# {'format_name': {'kdiba'}, 'animal': {'vvp01', 'pin01', 'gor01'}, 'exper_name': {'one', 'two'}, 'session_name': {'11-02_19-28-0', '2006-4-09_16-40-54', '2006-4-09_17-29-30', '2006-6-09_1-22-43', '2006-4-10_12-58-3', '2006-6-12_15-55-31', 'fet11-01_12-58-54', '11-03_12-3-25', '11-02_17-46-44', '2006-6-12_16-53-46', '2006-6-08_14-26-15', '2006-4-10_12-25-50', '2006-6-09_22-24-40', '2006-6-08_21-16-25', '2006-6-07_16-40-19'}, 'display_fn_name': {'DecodedEpochSlices'}, 'epochs': {'ripple', 'replays'}, 'decoder': {'short_LR', 'long_RL', 'long_LR', 'short_RL', 'long_results_obj', 'short_results_obj'}, 'user_annotation': {'selections'}}\n"
   ]
  },
  {
   "cell_type": "code",
   "execution_count": null,
   "metadata": {},
   "outputs": [],
   "source": [
    "from collections import defaultdict\n",
    "from typing import List\n",
    "from neuropy.utils.mixins.diffable import OrderedSet\n"
   ]
  },
  {
   "cell_type": "code",
   "execution_count": 4,
   "metadata": {},
   "outputs": [],
   "source": [
    "a_dict = {IdentifyingContext(k1='a', k2='b'): 'good'}\n",
    "assert a_dict[IdentifyingContext(k2='b', k1='a')] == 'good'"
   ]
  },
  {
   "cell_type": "code",
   "execution_count": 5,
   "metadata": {},
   "outputs": [],
   "source": [
    "assert IdentifyingContext(k1='a', k2='b') == IdentifyingContext(k2='b', k1='a')"
   ]
  },
  {
   "cell_type": "code",
   "execution_count": null,
   "metadata": {},
   "outputs": [],
   "source": [
    "user_annotations = {}\n",
    "user_annotations[IdentifyingContext(format_name='kdiba',animal='gor01',exper_name='two',session_name='2006-6-09_22-24-40',display_fn_name='DecodedEpochSlices',epochs='replays',decoder='long_results_obj',user_annotation='selections')] = [4, 22, 24, 28, 30, 38, 42, 50, 55, 60, 67, 70, 76, 83, 85, 100, 103, 107, 108, 113, 118, 121, 122, 131, 140, 142, 149, 153, 170, 171]\n",
    "user_annotations[IdentifyingContext(format_name='kdiba',animal='gor01',exper_name='two',session_name='2006-6-09_22-24-40',display_fn_name='DecodedEpochSlices',epochs='replays',decoder='short_results_obj',user_annotation='selections')] = [2, 7, 11, 17, 20, 22, 30, 34, 38, 39, 41, 43, 47, 49, 55, 59, 60, 69, 70, 75, 77, 80, 83, 85, 86, 100, 107, 110, 113, 114, 115, 118, 120, 121, 122, 126, 130, 131, 138, 140, 142, 149, 157, 160, 168, 170]        \n",
    "user_annotations[IdentifyingContext(format_name='kdiba',animal='gor01',exper_name='two',session_name='2006-6-09_22-24-40',display_fn_name='DecodedEpochSlices',epochs='ripple',decoder='long_LR',user_annotation='selections')] = [[380.739, 380.865], [550.845, 551.034], [600.244, 600.768], [1431.7, 1431.87], [2121.38, 2121.72]]\n",
    "user_annotations[IdentifyingContext(format_name='kdiba',animal='gor01',exper_name='two',session_name='2006-6-09_22-24-40',display_fn_name='DecodedEpochSlices',epochs='ripple',decoder='long_RL',user_annotation='selections')] = [[1202.96, 1203.26], [1433.42, 1433.58], [1600.77, 1601.16], [1679.18, 1679.68]]\n",
    "user_annotations[IdentifyingContext(format_name='kdiba',animal='gor01',exper_name='two',session_name='2006-6-09_22-24-40',display_fn_name='DecodedEpochSlices',epochs='ripple',decoder='short_LR',user_annotation='selections')] = [[551.872, 552.328], [565.161, 565.417], [616.348, 616.665], [919.581, 919.692], [1149.57, 1149.8], [1167.82, 1168.17], [1384.71, 1385.01], [1424.02, 1424.22], [1446.52, 1446.65], [1538.1, 1538.48], [1690.72, 1690.82], [1820.96, 1821.29], [1979.72, 1979.86], [1995.48, 1995.95], [2121.38, 2121.72], [2267.05, 2267.41]]\n",
    "user_annotations[IdentifyingContext(format_name='kdiba',animal='gor01',exper_name='two',session_name='2006-6-09_22-24-40',display_fn_name='DecodedEpochSlices',epochs='ripple',decoder='short_RL',user_annotation='selections')] = [[373.508, 373.754], [391.895, 392.163], [600.244, 600.768], [1015.26, 1015.5], [1079.9, 1080.08], [1310.59, 1310.92], [1433.42, 1433.58], [1494.95, 1495.4], [1558.22, 1558.42], [1616.92, 1617.09], [1774.48, 1774.61], [1956.96, 1957.2], [2011.36, 2011.54], [2059.35, 2059.56], [2074.35, 2074.62], [2156.53, 2156.79], [2233.53, 2233.95], [2260.49, 2260.61], [2521.1, 2521.31]]\n",
    "\n",
    "unique_values_dict = IdentifyingContext.find_unique_values(user_annotations)\n",
    "# unique_values_dict = find_unique_values(user_annotations)\n",
    "unique_values_dict\n"
   ]
  },
  {
   "cell_type": "code",
   "execution_count": null,
   "metadata": {},
   "outputs": [],
   "source": []
  },
  {
   "cell_type": "code",
   "execution_count": null,
   "metadata": {},
   "outputs": [],
   "source": [
    "leaf_unique_values = {k:v for k, v in unique_values_dict.items() if len(v) > 1}\n",
    "leaf_unique_values\n",
    "\n",
    "# {'format_name': {'kdiba'},\n",
    "#  'animal': {'gor01'},\n",
    "#  'exper_name': {'two'},\n",
    "#  'session_name': {'2006-6-09_22-24-40'},\n",
    "#  'display_fn_name': {'DecodedEpochSlices'},\n",
    "#  'epochs': {'ripple'},\n",
    "#  'decoder': {'long_LR', 'long_RL', 'short_LR', 'short_RL'},\n",
    "#  'user_annotation': {'selections'}}\n",
    "\n",
    "\n",
    "# {'format_name': {'kdiba'},\n",
    "#  'animal': {'gor01'},\n",
    "#  'exper_name': {'two'},\n",
    "#  'session_name': {'2006-6-09_22-24-40'},\n",
    "#  'display_fn_name': {'DecodedEpochSlices'},\n",
    "#  'epochs': {'replays', 'ripple'},\n",
    "#  'decoder': {'long_LR',\n",
    "#   'long_RL',\n",
    "#   'long_results_obj',\n",
    "#   'short_LR',\n",
    "#   'short_RL',\n",
    "#   'short_results_obj'},\n",
    "#  'user_annotation': {'selections'}}\n"
   ]
  },
  {
   "cell_type": "code",
   "execution_count": null,
   "metadata": {},
   "outputs": [],
   "source": [
    "\n",
    "# with IdentifyingContext(format_name='kdiba',animal='gor01',exper_name='one',session_name='2006-6-09_1-22-43',display_fn_name='DecodedEpochSlices',user_annotation='selections') as ctx:\n",
    "#     print(f'ctx: {ctx}')\n",
    "#     # inner_ctx = ctx.overwriting_context(epochs='ripple', decoder='short_RL')\n",
    "#     inner_ctx = ctx + Ctx(epochs='ripple', decoder='short_RL')\n",
    "#     print(f'inner_ctx: {inner_ctx}')\n",
    "\n",
    "\n",
    "with IdentifyingContext(format_name='kdiba',animal='gor01',exper_name='one',session_name='2006-6-09_1-22-43',display_fn_name='DecodedEpochSlices',user_annotation='selections') as ctx:\n",
    "    with (ctx + IdentifyingContext(epochs='ripple')) as ctx:\n",
    "        user_annotations[ctx + Ctx(decoder='long_LR')] = np.array([array([132.511, 132.791]), array([149.959, 150.254]), array([1186.9, 1187]), array([1284.18, 1284.29]), array([1302.65, 1302.8]), array([1316.06, 1316.27]), array([1693.34, 1693.48]), array([1725.28, 1725.6])])\n",
    "        user_annotations[ctx + Ctx(decoder='long_RL')] = np.array([array([149.959, 150.254]), array([307.08, 307.194]), array([1332.28, 1332.39])])\n",
    "        user_annotations[ctx + Ctx(decoder='short_LR')] = np.array([array([132.511, 132.791]), array([571.304, 571.385]), array([1284.18, 1284.29]), array([1302.65, 1302.8]), array([1316.06, 1316.27]), array([1699.23, 1699.36])])\n",
    "        user_annotations[ctx + Ctx(decoder='short_RL')] = np.array([array([105.4, 105.563]), array([1302.65, 1302.8]), array([1332.28, 1332.39]), array([1450.89, 1451.02])])\n",
    "\n",
    "    # inner_ctx = ctx.overwriting_context(epochs='ripple', decoder='short_RL')\n",
    "    # inner_ctx = ctx + Ctx(epochs='ripple', decoder='short_RL')\n",
    "    # print(f'inner_ctx: {inner_ctx}')\n",
    "        \n",
    "user_annotations"
   ]
  },
  {
   "cell_type": "code",
   "execution_count": 6,
   "metadata": {},
   "outputs": [
    {
     "data": {
      "text/plain": [
       "{Context(format_name: 'kdiba'\n",
       "         animal: 'gor01'\n",
       "         exper_name: 'two'\n",
       "         session_name: '2006-6-09_22-24-40'\n",
       "         display_fn_name: 'DecodedEpochSlices'\n",
       "         user_annotation: 'selections'\n",
       "         epochs: 'replays'\n",
       "         decoder: 'long_results_obj'): array([  4,  22,  24,  28,  30,  38,  42,  50,  55,  60,  67,  70,  76,\n",
       "         83,  85, 100, 103, 107, 108, 113, 118, 121, 122, 131, 140, 142,\n",
       "        149, 153, 170, 171]),\n",
       " Context(format_name: 'kdiba'\n",
       "         animal: 'gor01'\n",
       "         exper_name: 'two'\n",
       "         session_name: '2006-6-09_22-24-40'\n",
       "         display_fn_name: 'DecodedEpochSlices'\n",
       "         user_annotation: 'selections'\n",
       "         epochs: 'replays'\n",
       "         decoder: 'short_results_obj'): array([  2,   7,  11,  17,  20,  22,  30,  34,  38,  39,  41,  43,  47,\n",
       "         49,  55,  59,  60,  69,  70,  75,  77,  80,  83,  85,  86, 100,\n",
       "        107, 110, 113, 114, 115, 118, 120, 121, 122, 126, 130, 131, 138,\n",
       "        140, 142, 149, 157, 160, 168, 170]),\n",
       " Context(format_name: 'kdiba'\n",
       "         animal: 'gor01'\n",
       "         exper_name: 'two'\n",
       "         session_name: '2006-6-09_22-24-40'\n",
       "         display_fn_name: 'DecodedEpochSlices'\n",
       "         user_annotation: 'selections'\n",
       "         epochs: 'ripple'\n",
       "         decoder: 'long_LR'): array([[ 380.739,  380.865],\n",
       "        [ 550.845,  551.034],\n",
       "        [ 600.244,  600.768],\n",
       "        [1431.7  , 1431.87 ],\n",
       "        [2121.38 , 2121.72 ]]),\n",
       " Context(format_name: 'kdiba'\n",
       "         animal: 'gor01'\n",
       "         exper_name: 'two'\n",
       "         session_name: '2006-6-09_22-24-40'\n",
       "         display_fn_name: 'DecodedEpochSlices'\n",
       "         user_annotation: 'selections'\n",
       "         epochs: 'ripple'\n",
       "         decoder: 'long_RL'): array([[1202.96, 1203.26],\n",
       "        [1433.42, 1433.58],\n",
       "        [1600.77, 1601.16],\n",
       "        [1679.18, 1679.68]]),\n",
       " Context(format_name: 'kdiba'\n",
       "         animal: 'gor01'\n",
       "         exper_name: 'two'\n",
       "         session_name: '2006-6-09_22-24-40'\n",
       "         display_fn_name: 'DecodedEpochSlices'\n",
       "         user_annotation: 'selections'\n",
       "         epochs: 'ripple'\n",
       "         decoder: 'short_LR'): array([[ 551.872,  552.328],\n",
       "        [ 565.161,  565.417],\n",
       "        [ 616.348,  616.665],\n",
       "        [ 919.581,  919.692],\n",
       "        [1149.57 , 1149.8  ],\n",
       "        [1167.82 , 1168.17 ],\n",
       "        [1384.71 , 1385.01 ],\n",
       "        [1424.02 , 1424.22 ],\n",
       "        [1446.52 , 1446.65 ],\n",
       "        [1538.1  , 1538.48 ],\n",
       "        [1690.72 , 1690.82 ],\n",
       "        [1820.96 , 1821.29 ],\n",
       "        [1979.72 , 1979.86 ],\n",
       "        [1995.48 , 1995.95 ],\n",
       "        [2121.38 , 2121.72 ],\n",
       "        [2267.05 , 2267.41 ]]),\n",
       " Context(format_name: 'kdiba'\n",
       "         animal: 'gor01'\n",
       "         exper_name: 'two'\n",
       "         session_name: '2006-6-09_22-24-40'\n",
       "         display_fn_name: 'DecodedEpochSlices'\n",
       "         user_annotation: 'selections'\n",
       "         epochs: 'ripple'\n",
       "         decoder: 'short_RL'): array([[ 373.508,  373.754],\n",
       "        [ 391.895,  392.163],\n",
       "        [ 600.244,  600.768],\n",
       "        [1015.26 , 1015.5  ],\n",
       "        [1079.9  , 1080.08 ],\n",
       "        [1310.59 , 1310.92 ],\n",
       "        [1433.42 , 1433.58 ],\n",
       "        [1494.95 , 1495.4  ],\n",
       "        [1558.22 , 1558.42 ],\n",
       "        [1616.92 , 1617.09 ],\n",
       "        [1774.48 , 1774.61 ],\n",
       "        [1956.96 , 1957.2  ],\n",
       "        [2011.36 , 2011.54 ],\n",
       "        [2059.35 , 2059.56 ],\n",
       "        [2074.35 , 2074.62 ],\n",
       "        [2156.53 , 2156.79 ],\n",
       "        [2233.53 , 2233.95 ],\n",
       "        [2260.49 , 2260.61 ],\n",
       "        [2521.1  , 2521.31 ]])}"
      ]
     },
     "execution_count": 6,
     "metadata": {},
     "output_type": "execute_result"
    }
   ],
   "source": [
    "# [4, 22, 24, 28, 30, 38, 42, 50, 55, 60, 67, 70, 76, 83, 85, 100, 103, 107, 108, 113, 118, 121, 122, 131, 140, 142, 149, 153, 170, 171]\n",
    "# [2, 7, 11, 17, 20, 22, 30, 34, 38, 39, 41, 43, 47, 49, 55, 59, 60, 69, 70, 75, 77, 80, 83, 85, 86, 100, 107, 110, 113, 114, 115, 118, 120, 121, 122, 126, 130, 131, 138, 140, 142, 149, 157, 160, 168, 170]        \n",
    "# [[380.739, 380.865], [550.845, 551.034], [600.244, 600.768], [1431.7, 1431.87], [2121.38, 2121.72]]\n",
    "# [[1202.96, 1203.26], [1433.42, 1433.58], [1600.77, 1601.16], [1679.18, 1679.68]]\n",
    "# [[551.872, 552.328], [565.161, 565.417], [616.348, 616.665], [919.581, 919.692], [1149.57, 1149.8], [1167.82, 1168.17], [1384.71, 1385.01], [1424.02, 1424.22], [1446.52, 1446.65], [1538.1, 1538.48], [1690.72, 1690.82], [1820.96, 1821.29], [1979.72, 1979.86], [1995.48, 1995.95], [2121.38, 2121.72], [2267.05, 2267.41]]\n",
    "# [[373.508, 373.754], [391.895, 392.163], [600.244, 600.768], [1015.26, 1015.5], [1079.9, 1080.08], [1310.59, 1310.92], [1433.42, 1433.58], [1494.95, 1495.4], [1558.22, 1558.42], [1616.92, 1617.09], [1774.48, 1774.61], [1956.96, 1957.2], [2011.36, 2011.54], [2059.35, 2059.56], [2074.35, 2074.62], [2156.53, 2156.79], [2233.53, 2233.95], [2260.49, 2260.61], [2521.1, 2521.31]]\n",
    "\n",
    "user_annotations = {}\n",
    "# original_user_annotations\n",
    "# with IdentifyingContext(display_fn_name='DecodedEpochSlices', user_annotation='selections') as annotations_kind_ctx:\n",
    "with IdentifyingContext(format_name='kdiba',animal='gor01',exper_name='two',session_name='2006-6-09_22-24-40') as session_ctx:\n",
    "    with (session_ctx + IdentifyingContext(display_fn_name='DecodedEpochSlices', user_annotation='selections')) as ctx:\n",
    "        with (ctx + IdentifyingContext(epochs='replays')) as ctx:\n",
    "            user_annotations[ctx + Ctx(decoder='long_results_obj')] = [4, 22, 24, 28, 30, 38, 42, 50, 55, 60, 67, 70, 76, 83, 85, 100, 103, 107, 108, 113, 118, 121, 122, 131, 140, 142, 149, 153, 170, 171]\n",
    "            user_annotations[ctx + Ctx(decoder='short_results_obj')] = [2, 7, 11, 17, 20, 22, 30, 34, 38, 39, 41, 43, 47, 49, 55, 59, 60, 69, 70, 75, 77, 80, 83, 85, 86, 100, 107, 110, 113, 114, 115, 118, 120, 121, 122, 126, 130, 131, 138, 140, 142, 149, 157, 160, 168, 170]\n",
    "\n",
    "        with (ctx + IdentifyingContext(epochs='ripple')) as ctx:\n",
    "            user_annotations[ctx + Ctx(decoder='long_LR')] = [[380.739, 380.865], [550.845, 551.034], [600.244, 600.768], [1431.7, 1431.87], [2121.38, 2121.72]]\n",
    "            user_annotations[ctx + Ctx(decoder='long_RL')] = [[1202.96, 1203.26], [1433.42, 1433.58], [1600.77, 1601.16], [1679.18, 1679.68]]\n",
    "            user_annotations[ctx + Ctx(decoder='short_LR')] = [[551.872, 552.328], [565.161, 565.417], [616.348, 616.665], [919.581, 919.692], [1149.57, 1149.8], [1167.82, 1168.17], [1384.71, 1385.01], [1424.02, 1424.22], [1446.52, 1446.65], [1538.1, 1538.48], [1690.72, 1690.82], [1820.96, 1821.29], [1979.72, 1979.86], [1995.48, 1995.95], [2121.38, 2121.72], [2267.05, 2267.41]]\n",
    "            user_annotations[ctx + Ctx(decoder='short_RL')] = [[373.508, 373.754], [391.895, 392.163], [600.244, 600.768], [1015.26, 1015.5], [1079.9, 1080.08], [1310.59, 1310.92], [1433.42, 1433.58], [1494.95, 1495.4], [1558.22, 1558.42], [1616.92, 1617.09], [1774.48, 1774.61], [1956.96, 1957.2], [2011.36, 2011.54], [2059.35, 2059.56], [2074.35, 2074.62], [2156.53, 2156.79], [2233.53, 2233.95], [2260.49, 2260.61], [2521.1, 2521.31]]\n",
    "\n",
    "# Process raw annotations with the helper function\n",
    "for context, sequences in user_annotations.items():\n",
    "    user_annotations[context] = numpyify_array(sequences)\n",
    "    \n",
    "user_annotations"
   ]
  },
  {
   "cell_type": "code",
   "execution_count": 10,
   "metadata": {},
   "outputs": [],
   "source": [
    "\n",
    "for k,v in user_annotations.items():\n",
    "    assert k in original_user_annotations\n",
    "    assert (original_user_annotations[k] == v).all()\n",
    "    # assert np.array_equal(original_user_annotations[k] == numpyify_array(v))\n",
    "\n",
    "\n",
    "# user_annotations"
   ]
  },
  {
   "cell_type": "code",
   "execution_count": null,
   "metadata": {},
   "outputs": [],
   "source": []
  },
  {
   "cell_type": "code",
   "execution_count": null,
   "metadata": {},
   "outputs": [],
   "source": []
  }
 ],
 "metadata": {
  "kernelspec": {
   "display_name": ".venv_yellow",
   "language": "python",
   "name": "python3"
  },
  "language_info": {
   "codemirror_mode": {
    "name": "ipython",
    "version": 3
   },
   "file_extension": ".py",
   "mimetype": "text/x-python",
   "name": "python",
   "nbconvert_exporter": "python",
   "pygments_lexer": "ipython3",
   "version": "3.9.13"
  }
 },
 "nbformat": 4,
 "nbformat_minor": 2
}
