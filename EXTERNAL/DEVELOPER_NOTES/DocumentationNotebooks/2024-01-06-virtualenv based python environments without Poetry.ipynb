{
 "cells": [
  {
   "cell_type": "markdown",
   "metadata": {},
   "source": [
    "# \"2024-01-06-virtualenv based python environments without Poetry.ipynb\"\n"
   ]
  },
  {
   "cell_type": "code",
   "execution_count": null,
   "metadata": {},
   "outputs": [],
   "source": [
    "# Problem: Poetry only allows a single virtual environment for a given python version, making it difficult to test fixes related to dependences or backup existing environments\n",
    "\n",
    "# Solution: trying virtualenv (venv) raw"
   ]
  },
  {
   "cell_type": "code",
   "execution_count": null,
   "metadata": {
    "vscode": {
     "languageId": "powershell"
    }
   },
   "outputs": [],
   "source": [
    "cd C:\\Users\\pho\\repos\\Spike3DWorkEnv\\Spike3D\n",
    "poetry export --without-hashes --format=requirements.txt > requirements.txt\n"
   ]
  },
  {
   "cell_type": "code",
   "execution_count": null,
   "metadata": {
    "vscode": {
     "languageId": "powershell"
    }
   },
   "outputs": [],
   "source": [
    "pyenv exec python -m ensurepip --default-pip\n",
    "pyenv exec python -m pip install --upgrade pip\n",
    "pyenv exec python -m pip install virtualenv\n"
   ]
  },
  {
   "cell_type": "code",
   "execution_count": null,
   "metadata": {
    "vscode": {
     "languageId": "powershell"
    }
   },
   "outputs": [],
   "source": [
    "pyenv activate .venv_new\n",
    "pyenv exec pip install venv\n",
    "pyenv exec python -m venv .venv_new"
   ]
  },
  {
   "cell_type": "markdown",
   "metadata": {},
   "source": [
    "### Create new virtual environment (here named `.venv_new`)"
   ]
  },
  {
   "cell_type": "code",
   "execution_count": null,
   "metadata": {
    "vscode": {
     "languageId": "powershell"
    }
   },
   "outputs": [],
   "source": [
    "cd .\\repos\\Spike3DWorkEnv\\Spike3D\\\n",
    "pyenv exec virtualenv .venv_new"
   ]
  },
  {
   "cell_type": "markdown",
   "metadata": {},
   "source": [
    ">>>\n",
    "```created virtual environment CPython3.9.13.final.0-64 in 548ms\n",
    "  creator CPython3Windows(dest=C:\\Users\\pho\\repos\\Spike3DWorkEnv\\Spike3D\\.venv_new, clear=False, no_vcs_ignore=False, global=False)\n",
    "  seeder FromAppData(download=False, pip=bundle, setuptools=bundle, wheel=bundle, via=copy, app_data_dir=C:\\Users\\pho\\AppData\\Local\\pypa\\virtualenv)\n",
    "    added seed packages: pip==23.3.2, setuptools==69.0.3, wheel==0.42.0\n",
    "  activators BashActivator,BatchActivator,FishActivator,NushellActivator,PowerShellActivator,PythonActivator```"
   ]
  },
  {
   "cell_type": "markdown",
   "metadata": {},
   "source": [
    "### Activate the new environment and ensure pip is installed and up-to-date, finally install `requirements.txt`"
   ]
  },
  {
   "cell_type": "code",
   "execution_count": null,
   "metadata": {
    "vscode": {
     "languageId": "powershell"
    }
   },
   "outputs": [],
   "source": [
    "deactivate\n",
    ".venv_new\\Scripts\\activate\n",
    ".venv_new\\Scripts\\python -m ensurepip --default-pip \n",
    ".venv_new\\Scripts\\python -m pip install --upgrade pip\n",
    ".venv_new\\Scripts\\python -m pip install -r requirements.txt"
   ]
  },
  {
   "cell_type": "markdown",
   "metadata": {},
   "source": [
    "### Install to new .venv_new:"
   ]
  },
  {
   "cell_type": "code",
   "execution_count": null,
   "metadata": {
    "vscode": {
     "languageId": "powershell"
    }
   },
   "outputs": [],
   "source": [
    "\n",
    ".venv_new\\Scripts\\python -m pip install -e C:\\Users\\pho\\repos\\Spike3DWorkEnv\\NeuroPy\n",
    ".venv_new\\Scripts\\python -m pip install -e C:\\Users\\pho\\repos\\Spike3DWorkEnv\\pyPhoCoreHelpers\n",
    ".venv_new\\Scripts\\python -m pip install -e C:\\Users\\pho\\repos\\Spike3DWorkEnv\\pyPhoPlaceCellAnalysis"
   ]
  },
  {
   "cell_type": "code",
   "execution_count": null,
   "metadata": {
    "vscode": {
     "languageId": "powershell"
    }
   },
   "outputs": [],
   "source": [
    "\n",
    "C:/Users/pho/repos/Spike3DWorkEnv/Spike3D/.venv_raw/Scripts/Activate.ps1\n",
    "\n",
    "\n",
    "cd C:/Users/pho/repos/Spike3DWorkEnv/Spike3D/\n",
    "\n",
    ".venv_raw\\Scripts\\python -m ensurepip --default-pip \n",
    ".venv_raw\\Scripts\\python -m pip install --upgrade pip\n",
    ".venv_raw\\Scripts\\python -m pip install -r requirements.txt\n",
    ".venv_raw\\Scripts\\python -m pip install -e C:\\Users\\pho\\repos\\Spike3DWorkEnv\\NeuroPy\n",
    ".venv_raw\\Scripts\\python -m pip install -e C:\\Users\\pho\\repos\\Spike3DWorkEnv\\pyPhoCoreHelpers\n",
    ".venv_raw\\Scripts\\python -m pip install -e C:\\Users\\pho\\repos\\Spike3DWorkEnv\\pyPhoPlaceCellAnalysis"
   ]
  },
  {
   "cell_type": "code",
   "execution_count": null,
   "metadata": {
    "vscode": {
     "languageId": "powershell"
    }
   },
   "outputs": [],
   "source": [
    "$envName = \".venv_vscode\"\n",
    "$RepoPath = \"C:\\Users\\pho\\repos\\Spike3DWorkEnv\\Spike3D\\\"\n",
    "\n",
    "cd $RepoPath\n",
    "pyenv exec virtualenv $envName"
   ]
  },
  {
   "cell_type": "code",
   "execution_count": null,
   "metadata": {
    "vscode": {
     "languageId": "powershell"
    }
   },
   "outputs": [],
   "source": [
    "param (\n",
    "    # $envName = \".venv_vscode\"\n",
    "    $envName = \".venv_red\"\n",
    ")\n",
    "\n",
    "\n",
    "$activateScript = if ($env:OS -eq \"Windows_NT\") {\n",
    "    \"$envName\\Scripts\\activate\"\n",
    "} else {\n",
    "    \"$envName/bin/activate\"\n",
    "}\n",
    "\n",
    "\n",
    "cd ./repos/Spike3DWorkEnv/Spike3D\n",
    "pyenv exec virtualenv $envName\n",
    "deactivate\n",
    "& $activateScript\n",
    "\n",
    "# Use the call operator (&) to execute the command with spaces\n",
    "& \"$envName\\Scripts\\python\" -m ensurepip --default-pip \n",
    "& \"$envName\\Scripts\\python\" -m pip install --upgrade pip\n",
    "\n",
    "cd ./repos/Spike3DWorkEnv/Spike3D\n",
    "\n",
    "& \"$envName\\Scripts\\python\" -m pip install -r requirements.txt\n",
    "\n",
    "# Full-path:\n",
    "# & \"$envName\\Scripts\\python\" -m pip install -r \"C:\\Users\\pho\\repos\\Spike3DWorkEnv\\Spike3D\\requirements.txt\"\n",
    "\n",
    "\n",
    "& \"$envName\\Scripts\\python\" -m pip install -e C:\\Users\\pho\\repos\\Spike3DWorkEnv\\NeuroPy\n",
    "& \"$envName\\Scripts\\python\" -m pip install -e C:\\Users\\pho\\repos\\Spike3DWorkEnv\\pyPhoCoreHelpers\n",
    "& \"$envName\\Scripts\\python\" -m pip install -e C:\\Users\\pho\\repos\\Spike3DWorkEnv\\pyPhoPlaceCellAnalysis\n"
   ]
  },
  {
   "cell_type": "markdown",
   "metadata": {},
   "source": [
    "### Be sure to add the directory to your `.gitignore` to prevent it from being checked-in"
   ]
  },
  {
   "cell_type": "code",
   "execution_count": null,
   "metadata": {
    "vscode": {
     "languageId": "powershell"
    }
   },
   "outputs": [],
   "source": [
    "code .gitignore"
   ]
  },
  {
   "cell_type": "markdown",
   "metadata": {},
   "source": [
    "## 2023-01-09 - Color Folders"
   ]
  },
  {
   "cell_type": "markdown",
   "metadata": {
    "vscode": {
     "languageId": "powershell"
    }
   },
   "source": [
    "## Windows Powershell"
   ]
  },
  {
   "cell_type": "code",
   "execution_count": null,
   "metadata": {
    "vscode": {
     "languageId": "powershell"
    }
   },
   "outputs": [],
   "source": [
    "$colorFolderColorName = \"yellow\";\n",
    "$envName = \".venv_$colorFolderColorName\";\n",
    "\n",
    "$activateScript = if ($env:OS -eq \"Windows_NT\") {\n",
    "    \"$envName\\Scripts\\activate\"\n",
    "} else {\n",
    "    \"$envName/bin/activate\"\n",
    "}\n",
    "\n",
    "cd \"K:\\FastSwap\\AppData\\VSCode\\$colorFolderColorName\"\n",
    "pyenv local 3.9.13\n",
    "pyenv exec virtualenv $envName\n",
    "deactivate\n",
    "& $activateScript\n",
    "\n",
    "# Use the call operator (&) to execute the command with spaces\n",
    "& \"$envName\\Scripts\\python\" -m ensurepip --default-pip \n",
    "& \"$envName\\Scripts\\python\" -m pip install --upgrade pip\n",
    "\n",
    "# Full-path:\n",
    "& \"$envName\\Scripts\\python\" -m pip install -r \"C:\\Users\\pho\\repos\\Spike3DWorkEnv\\Spike3D\\requirements.txt\"\n",
    "\n",
    "\n",
    "& \"$envName\\Scripts\\python\" -m pip install -e C:\\Users\\pho\\repos\\Spike3DWorkEnv\\NeuroPy\n",
    "& \"$envName\\Scripts\\python\" -m pip install -e C:\\Users\\pho\\repos\\Spike3DWorkEnv\\pyPhoCoreHelpers\n",
    "& \"$envName\\Scripts\\python\" -m pip install -e C:\\Users\\pho\\repos\\Spike3DWorkEnv\\pyPhoPlaceCellAnalysis"
   ]
  },
  {
   "cell_type": "markdown",
   "metadata": {},
   "source": [
    "### Linux"
   ]
  },
  {
   "cell_type": "code",
   "execution_count": null,
   "metadata": {
    "vscode": {
     "languageId": "shellscript"
    }
   },
   "outputs": [],
   "source": [
    "colorFolderColorName=\"yellow\"\n",
    "envName=\".venv_$colorFolderColorName\"\n",
    "\n",
    "activateScript=\"$envName/bin/activate\"\n",
    "\n",
    "\n",
    "cd \"$HOME/Library/VSCode/$colorFolderColorName\"\n",
    "\n",
    "pyenv local 3.9.13\n",
    "pyenv exec virtualenv $envName\n",
    "deactivate\n",
    "source \"$activateScript\"\n",
    "\n",
    "# Use the call operator (&) to execute the command with spaces\n",
    "\"$envName/bin/python\" -m ensurepip --default-pip \n",
    "\"$envName/bin/python\" -m pip install --upgrade pip\n",
    "\n",
    "# Full-path:\n",
    "\"$envName/bin/python\" -m pip install -r \"/home/halechr/repos/Spike3D/requirements.txt\"\n",
    "\n",
    "\"$envName/bin/python\" -m pip install -e \"/home/halechr/repos/NeuroPy\"\n",
    "\"$envName/bin/python\" -m pip install -e \"/home/halechr/repos/pyPhoCoreHelpers\"\n",
    "\"$envName/bin/python\" -m pip install -e \"/home/halechr/repos/pyPhoPlaceCellAnalysis\"\n"
   ]
  },
  {
   "cell_type": "code",
   "execution_count": null,
   "metadata": {
    "vscode": {
     "languageId": "powershell"
    }
   },
   "outputs": [],
   "source": [
    "K:\\FastSwap\\AppData\\VSCode\\red\\.venv_red\\Scripts\\python.exe\n",
    "\n",
    "K:\\FastSwap\\AppData\\VSCode\\red\\.venv_yellow\\Scripts\\python.exe\n",
    "\n",
    "\n",
    "ipython kernel install --user --name=\"spike3d-yellow\"\n"
   ]
  },
  {
   "cell_type": "markdown",
   "metadata": {},
   "source": [
    "## Register ipython kernel for jupyter:"
   ]
  },
  {
   "cell_type": "code",
   "execution_count": null,
   "metadata": {
    "vscode": {
     "languageId": "powershell"
    }
   },
   "outputs": [],
   "source": [
    "# poetry run ipython kernel install --user --name=spike3d-poetry\n",
    "ipython kernel install --user --name=\"spike3d-$colorFolderColorName\" # ipython kernel install --user --name=spike3d-yellow"
   ]
  },
  {
   "cell_type": "code",
   "execution_count": 1,
   "metadata": {},
   "outputs": [],
   "source": [
    "import os\n",
    "import subprocess\n",
    "import sys\n",
    "from pathlib import Path\n",
    "\n",
    "def create_virtualenv(env_name):\n",
    "    subprocess.run([\"pyenv\", \"exec\", \"virtualenv\", env_name])\n",
    "\n",
    "def activate_virtualenv(env_name):\n",
    "    activate_script = Path(env_name) / (\"Scripts\" if sys.platform == \"win32\" else \"bin\") / \"activate\"\n",
    "    subprocess.run([str(activate_script)])\n",
    "\n",
    "def install_requirements(env_name):\n",
    "    python_path = Path(env_name) / \"Scripts\" / \"python\"\n",
    "    subprocess.run([str(python_path), \"-m\", \"ensurepip\", \"--default-pip\"])\n",
    "    subprocess.run([str(python_path), \"-m\", \"pip\", \"install\", \"--upgrade\", \"pip\"])\n",
    "    subprocess.run([str(python_path), \"-m\", \"pip\", \"install\", \"-r\", \"requirements.txt\"])\n",
    "\n",
    "# if __name__ == \"__main__\":\n",
    "#     env_name = input(\"Enter the name of the environment: \") or \".venv_new\"\n",
    "\n",
    "#     create_virtualenv(env_name)\n",
    "#     activate_virtualenv(env_name)\n",
    "#     install_requirements(env_name)\n"
   ]
  },
  {
   "cell_type": "code",
   "execution_count": 2,
   "metadata": {},
   "outputs": [],
   "source": [
    "# env_name = input(\"Enter the name of the environment: \") or \".venv_vscode\"\n",
    "\n",
    "spike3D_repo_path: str = Path(r\"C:/Users/pho/repos/Spike3DWorkEnv/Spike3D/\").resolve()\n",
    "\n",
    "env_name: str = \".venv_vscode\"\n",
    "os.chdir(spike3D_repo_path)  # Change to the Spike3D directory\n"
   ]
  },
  {
   "cell_type": "code",
   "execution_count": 3,
   "metadata": {},
   "outputs": [
    {
     "ename": "FileNotFoundError",
     "evalue": "[WinError 2] The system cannot find the file specified",
     "output_type": "error",
     "traceback": [
      "\u001b[1;31m---------------------------------------------------------------------------\u001b[0m",
      "\u001b[1;31mFileNotFoundError\u001b[0m                         Traceback (most recent call last)",
      "\u001b[1;32mc:\\Users\\pho\\repos\\Spike3DWorkEnv\\Spike3D\\EXTERNAL\\DEVELOPER_NOTES\\DocumentationNotebooks\\2024-01-06-virtualenv based python environments without Poetry.ipynb Cell 18\u001b[0m line \u001b[0;36m1\n\u001b[1;32m----> <a href='vscode-notebook-cell:/c%3A/Users/pho/repos/Spike3DWorkEnv/Spike3D/EXTERNAL/DEVELOPER_NOTES/DocumentationNotebooks/2024-01-06-virtualenv%20based%20python%20environments%20without%20Poetry.ipynb#X24sZmlsZQ%3D%3D?line=0'>1</a>\u001b[0m create_virtualenv(env_name)\n\u001b[0;32m      <a href='vscode-notebook-cell:/c%3A/Users/pho/repos/Spike3DWorkEnv/Spike3D/EXTERNAL/DEVELOPER_NOTES/DocumentationNotebooks/2024-01-06-virtualenv%20based%20python%20environments%20without%20Poetry.ipynb#X24sZmlsZQ%3D%3D?line=1'>2</a>\u001b[0m activate_virtualenv(env_name)\n\u001b[0;32m      <a href='vscode-notebook-cell:/c%3A/Users/pho/repos/Spike3DWorkEnv/Spike3D/EXTERNAL/DEVELOPER_NOTES/DocumentationNotebooks/2024-01-06-virtualenv%20based%20python%20environments%20without%20Poetry.ipynb#X24sZmlsZQ%3D%3D?line=2'>3</a>\u001b[0m install_requirements(env_name)\n",
      "\u001b[1;32mc:\\Users\\pho\\repos\\Spike3DWorkEnv\\Spike3D\\EXTERNAL\\DEVELOPER_NOTES\\DocumentationNotebooks\\2024-01-06-virtualenv based python environments without Poetry.ipynb Cell 18\u001b[0m line \u001b[0;36m7\n\u001b[0;32m      <a href='vscode-notebook-cell:/c%3A/Users/pho/repos/Spike3DWorkEnv/Spike3D/EXTERNAL/DEVELOPER_NOTES/DocumentationNotebooks/2024-01-06-virtualenv%20based%20python%20environments%20without%20Poetry.ipynb#X24sZmlsZQ%3D%3D?line=5'>6</a>\u001b[0m \u001b[39mdef\u001b[39;00m \u001b[39mcreate_virtualenv\u001b[39m(env_name):\n\u001b[1;32m----> <a href='vscode-notebook-cell:/c%3A/Users/pho/repos/Spike3DWorkEnv/Spike3D/EXTERNAL/DEVELOPER_NOTES/DocumentationNotebooks/2024-01-06-virtualenv%20based%20python%20environments%20without%20Poetry.ipynb#X24sZmlsZQ%3D%3D?line=6'>7</a>\u001b[0m     subprocess\u001b[39m.\u001b[39;49mrun([\u001b[39m\"\u001b[39;49m\u001b[39mpyenv\u001b[39;49m\u001b[39m\"\u001b[39;49m, \u001b[39m\"\u001b[39;49m\u001b[39mexec\u001b[39;49m\u001b[39m\"\u001b[39;49m, \u001b[39m\"\u001b[39;49m\u001b[39mvirtualenv\u001b[39;49m\u001b[39m\"\u001b[39;49m, env_name])\n",
      "File \u001b[1;32m~\\.pyenv\\pyenv-win\\versions\\3.9.13\\lib\\subprocess.py:505\u001b[0m, in \u001b[0;36mrun\u001b[1;34m(input, capture_output, timeout, check, *popenargs, **kwargs)\u001b[0m\n\u001b[0;32m    502\u001b[0m     kwargs[\u001b[39m'\u001b[39m\u001b[39mstdout\u001b[39m\u001b[39m'\u001b[39m] \u001b[39m=\u001b[39m PIPE\n\u001b[0;32m    503\u001b[0m     kwargs[\u001b[39m'\u001b[39m\u001b[39mstderr\u001b[39m\u001b[39m'\u001b[39m] \u001b[39m=\u001b[39m PIPE\n\u001b[1;32m--> 505\u001b[0m \u001b[39mwith\u001b[39;00m Popen(\u001b[39m*\u001b[39mpopenargs, \u001b[39m*\u001b[39m\u001b[39m*\u001b[39mkwargs) \u001b[39mas\u001b[39;00m process:\n\u001b[0;32m    506\u001b[0m     \u001b[39mtry\u001b[39;00m:\n\u001b[0;32m    507\u001b[0m         stdout, stderr \u001b[39m=\u001b[39m process\u001b[39m.\u001b[39mcommunicate(\u001b[39minput\u001b[39m, timeout\u001b[39m=\u001b[39mtimeout)\n",
      "File \u001b[1;32m~\\.pyenv\\pyenv-win\\versions\\3.9.13\\lib\\subprocess.py:951\u001b[0m, in \u001b[0;36mPopen.__init__\u001b[1;34m(self, args, bufsize, executable, stdin, stdout, stderr, preexec_fn, close_fds, shell, cwd, env, universal_newlines, startupinfo, creationflags, restore_signals, start_new_session, pass_fds, user, group, extra_groups, encoding, errors, text, umask)\u001b[0m\n\u001b[0;32m    947\u001b[0m         \u001b[39mif\u001b[39;00m \u001b[39mself\u001b[39m\u001b[39m.\u001b[39mtext_mode:\n\u001b[0;32m    948\u001b[0m             \u001b[39mself\u001b[39m\u001b[39m.\u001b[39mstderr \u001b[39m=\u001b[39m io\u001b[39m.\u001b[39mTextIOWrapper(\u001b[39mself\u001b[39m\u001b[39m.\u001b[39mstderr,\n\u001b[0;32m    949\u001b[0m                     encoding\u001b[39m=\u001b[39mencoding, errors\u001b[39m=\u001b[39merrors)\n\u001b[1;32m--> 951\u001b[0m     \u001b[39mself\u001b[39;49m\u001b[39m.\u001b[39;49m_execute_child(args, executable, preexec_fn, close_fds,\n\u001b[0;32m    952\u001b[0m                         pass_fds, cwd, env,\n\u001b[0;32m    953\u001b[0m                         startupinfo, creationflags, shell,\n\u001b[0;32m    954\u001b[0m                         p2cread, p2cwrite,\n\u001b[0;32m    955\u001b[0m                         c2pread, c2pwrite,\n\u001b[0;32m    956\u001b[0m                         errread, errwrite,\n\u001b[0;32m    957\u001b[0m                         restore_signals,\n\u001b[0;32m    958\u001b[0m                         gid, gids, uid, umask,\n\u001b[0;32m    959\u001b[0m                         start_new_session)\n\u001b[0;32m    960\u001b[0m \u001b[39mexcept\u001b[39;00m:\n\u001b[0;32m    961\u001b[0m     \u001b[39m# Cleanup if the child failed starting.\u001b[39;00m\n\u001b[0;32m    962\u001b[0m     \u001b[39mfor\u001b[39;00m f \u001b[39min\u001b[39;00m \u001b[39mfilter\u001b[39m(\u001b[39mNone\u001b[39;00m, (\u001b[39mself\u001b[39m\u001b[39m.\u001b[39mstdin, \u001b[39mself\u001b[39m\u001b[39m.\u001b[39mstdout, \u001b[39mself\u001b[39m\u001b[39m.\u001b[39mstderr)):\n",
      "File \u001b[1;32m~\\.pyenv\\pyenv-win\\versions\\3.9.13\\lib\\subprocess.py:1420\u001b[0m, in \u001b[0;36mPopen._execute_child\u001b[1;34m(self, args, executable, preexec_fn, close_fds, pass_fds, cwd, env, startupinfo, creationflags, shell, p2cread, p2cwrite, c2pread, c2pwrite, errread, errwrite, unused_restore_signals, unused_gid, unused_gids, unused_uid, unused_umask, unused_start_new_session)\u001b[0m\n\u001b[0;32m   1418\u001b[0m \u001b[39m# Start the process\u001b[39;00m\n\u001b[0;32m   1419\u001b[0m \u001b[39mtry\u001b[39;00m:\n\u001b[1;32m-> 1420\u001b[0m     hp, ht, pid, tid \u001b[39m=\u001b[39m _winapi\u001b[39m.\u001b[39;49mCreateProcess(executable, args,\n\u001b[0;32m   1421\u001b[0m                              \u001b[39m# no special security\u001b[39;49;00m\n\u001b[0;32m   1422\u001b[0m                              \u001b[39mNone\u001b[39;49;00m, \u001b[39mNone\u001b[39;49;00m,\n\u001b[0;32m   1423\u001b[0m                              \u001b[39mint\u001b[39;49m(\u001b[39mnot\u001b[39;49;00m close_fds),\n\u001b[0;32m   1424\u001b[0m                              creationflags,\n\u001b[0;32m   1425\u001b[0m                              env,\n\u001b[0;32m   1426\u001b[0m                              cwd,\n\u001b[0;32m   1427\u001b[0m                              startupinfo)\n\u001b[0;32m   1428\u001b[0m \u001b[39mfinally\u001b[39;00m:\n\u001b[0;32m   1429\u001b[0m     \u001b[39m# Child is launched. Close the parent's copy of those pipe\u001b[39;00m\n\u001b[0;32m   1430\u001b[0m     \u001b[39m# handles that only the child should have open.  You need\u001b[39;00m\n\u001b[1;32m   (...)\u001b[0m\n\u001b[0;32m   1433\u001b[0m     \u001b[39m# pipe will not close when the child process exits and the\u001b[39;00m\n\u001b[0;32m   1434\u001b[0m     \u001b[39m# ReadFile will hang.\u001b[39;00m\n\u001b[0;32m   1435\u001b[0m     \u001b[39mself\u001b[39m\u001b[39m.\u001b[39m_close_pipe_fds(p2cread, p2cwrite,\n\u001b[0;32m   1436\u001b[0m                          c2pread, c2pwrite,\n\u001b[0;32m   1437\u001b[0m                          errread, errwrite)\n",
      "\u001b[1;31mFileNotFoundError\u001b[0m: [WinError 2] The system cannot find the file specified"
     ]
    }
   ],
   "source": [
    "create_virtualenv(env_name)\n",
    "activate_virtualenv(env_name)\n",
    "install_requirements(env_name)"
   ]
  },
  {
   "cell_type": "code",
   "execution_count": null,
   "metadata": {},
   "outputs": [],
   "source": []
  }
 ],
 "metadata": {
  "kernelspec": {
   "display_name": ".venv",
   "language": "python",
   "name": "python3"
  },
  "language_info": {
   "codemirror_mode": {
    "name": "ipython",
    "version": 3
   },
   "file_extension": ".py",
   "mimetype": "text/x-python",
   "name": "python",
   "nbconvert_exporter": "python",
   "pygments_lexer": "ipython3",
   "version": "3.9.13"
  }
 },
 "nbformat": 4,
 "nbformat_minor": 2
}
