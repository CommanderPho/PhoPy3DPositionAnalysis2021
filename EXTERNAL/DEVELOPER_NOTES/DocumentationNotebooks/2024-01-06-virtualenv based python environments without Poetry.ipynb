{
 "cells": [
  {
   "cell_type": "code",
   "execution_count": null,
   "metadata": {},
   "outputs": [],
   "source": [
    "\"2024-01-06-virtualenv based python environments without Poetry.ipynb\"\n"
   ]
  },
  {
   "cell_type": "code",
   "execution_count": null,
   "metadata": {},
   "outputs": [],
   "source": [
    "# Problem: Poetry only allows a single virtual environment for a given python version, making it difficult to test fixes related to dependences or backup existing environments\n",
    "\n",
    "# Solution: trying virtualenv (venv) raw"
   ]
  },
  {
   "cell_type": "code",
   "execution_count": null,
   "metadata": {
    "vscode": {
     "languageId": "powershell"
    }
   },
   "outputs": [],
   "source": [
    "cd C:\\Users\\pho\\repos\\Spike3DWorkEnv\\Spike3D\n",
    "poetry export --without-hashes --format=requirements.txt > requirements.txt\n"
   ]
  },
  {
   "cell_type": "code",
   "execution_count": null,
   "metadata": {
    "vscode": {
     "languageId": "powershell"
    }
   },
   "outputs": [],
   "source": [
    "pyenv exec python -m ensurepip --default-pip\n",
    "\n"
   ]
  },
  {
   "cell_type": "code",
   "execution_count": null,
   "metadata": {
    "vscode": {
     "languageId": "powershell"
    }
   },
   "outputs": [],
   "source": [
    "pyenv activate .venv_new\n",
    "pyenv exec pip install venv\n",
    "pyenv exec python -m venv .venv_new"
   ]
  },
  {
   "cell_type": "markdown",
   "metadata": {},
   "source": [
    "### Create new virtual environment (here named `.venv_new`)"
   ]
  },
  {
   "cell_type": "code",
   "execution_count": null,
   "metadata": {
    "vscode": {
     "languageId": "powershell"
    }
   },
   "outputs": [],
   "source": [
    "cd .\\repos\\Spike3DWorkEnv\\Spike3D\\\n",
    "pyenv exec virtualenv .venv_new"
   ]
  },
  {
   "cell_type": "markdown",
   "metadata": {},
   "source": [
    ">>>\n",
    "```created virtual environment CPython3.9.13.final.0-64 in 548ms\n",
    "  creator CPython3Windows(dest=C:\\Users\\pho\\repos\\Spike3DWorkEnv\\Spike3D\\.venv_new, clear=False, no_vcs_ignore=False, global=False)\n",
    "  seeder FromAppData(download=False, pip=bundle, setuptools=bundle, wheel=bundle, via=copy, app_data_dir=C:\\Users\\pho\\AppData\\Local\\pypa\\virtualenv)\n",
    "    added seed packages: pip==23.3.2, setuptools==69.0.3, wheel==0.42.0\n",
    "  activators BashActivator,BatchActivator,FishActivator,NushellActivator,PowerShellActivator,PythonActivator```"
   ]
  },
  {
   "cell_type": "markdown",
   "metadata": {},
   "source": [
    "### Activate the new environment and ensure pip is installed and up-to-date, finally install `requirements.txt`"
   ]
  },
  {
   "cell_type": "code",
   "execution_count": null,
   "metadata": {
    "vscode": {
     "languageId": "powershell"
    }
   },
   "outputs": [],
   "source": [
    "deactivate\n",
    ".venv_new\\Scripts\\activate\n",
    ".venv_new\\Scripts\\python -m ensurepip --default-pip \n",
    ".venv_new\\Scripts\\python -m pip install --upgrade pip\n",
    ".venv_new\\Scripts\\python -m pip install -r requirements.txt"
   ]
  },
  {
   "cell_type": "markdown",
   "metadata": {},
   "source": [
    "### Be sure to add the directory to your `.gitignore` to prevent it from being checked-in"
   ]
  },
  {
   "cell_type": "code",
   "execution_count": null,
   "metadata": {
    "vscode": {
     "languageId": "powershell"
    }
   },
   "outputs": [],
   "source": [
    "code .gitignore"
   ]
  }
 ],
 "metadata": {
  "language_info": {
   "name": "python"
  }
 },
 "nbformat": 4,
 "nbformat_minor": 2
}
