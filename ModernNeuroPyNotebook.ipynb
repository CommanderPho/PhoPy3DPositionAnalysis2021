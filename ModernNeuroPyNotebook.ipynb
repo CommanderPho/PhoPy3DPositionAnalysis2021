{
 "cells": [
  {
   "cell_type": "code",
   "execution_count": 1,
   "id": "01a4accd-84e0-422f-87d1-3f26a5dc0ce7",
   "metadata": {},
   "outputs": [],
   "source": [
    "\"\"\"\n",
    "@author: pho\n",
    "\n",
    "A fresh start using modern pipeline methods without all the excessive imports. Created by Pho on 2022-06-14\n",
    "\n",
    "\"\"\"\n",
    "# noinspection JupyterPackage\n",
    "%load_ext autoreload\n",
    "%autoreload 2\n",
    "import sys\n",
    "import importlib\n",
    "\n",
    "from numba import jit\n",
    "import numpy as np\n",
    "import pandas as pd\n",
    "\n",
    "# required to enable non-blocking interaction:\n",
    "%gui qt5\n",
    "\n",
    "import pyphoplacecellanalysis.External.pyqtgraph as pg\n",
    "from pyphoplacecellanalysis.External.pyqtgraph.Qt import QtCore, QtGui, QtWidgets\n",
    "\n",
    "# Pho's Formatting Preferences\n",
    "from pyphocorehelpers.preferences_helpers import set_pho_preferences\n",
    "set_pho_preferences()\n",
    "np.set_printoptions(edgeitems=30, linewidth=100000, formatter=dict(float=lambda x: \"%g\" % x))\n",
    "\n",
    "%config Completer.use_jedi = False"
   ]
  },
  {
   "cell_type": "code",
   "execution_count": 2,
   "id": "f8667519-660b-415c-8a54-f3548172bd5a",
   "metadata": {},
   "outputs": [],
   "source": [
    "# from pyphoplacecellanalysis.GUI.Qt\n",
    "# from pyqtplot_MainWindow import PhoPipelineMainWindow\n",
    "# from pyphoplacecellanalysis.GUI.Qt.MainApplicationWindows.PhoMainPipelineWindow.pyqtplot_MainWindow import PhoPipelineMainWindow\n",
    "\n",
    "from pyphoplacecellanalysis.External.pyqtgraph.flowchart import Flowchart, Node\n",
    "import pyphoplacecellanalysis.External.pyqtgraph.flowchart.library as fclib\n",
    "from pyphoplacecellanalysis.GUI.PyQtPlot.Flowchart.ReloadableNodeLibrary import ReloadableNodeLibrary\n",
    "\n",
    "from pyphoplacecellanalysis.GUI.Qt.MainApplicationWindows.PhoPipelineMainWindow.pyqtplot_MainWindow import PhoPipelineMainWindow\n",
    "\n",
    "# GUI.Qt.MainApplicationWindows.PhoPipelineMainWindow.pyqtplot_MainWindow\n",
    "\n",
    "# PhoMainPipelineWindow.pyqtplot_MainWindow import PhoPipelineMainWindow\n"
   ]
  },
  {
   "cell_type": "code",
   "execution_count": null,
   "id": "13db9606-53e1-4f4f-af4a-ea3a2af7c642",
   "metadata": {},
   "outputs": [],
   "source": [
    "# from pyphoplacecellanalysis.GUI.PyQtPlot.Flowchart.pyqtplot_Flowchart import plot_flowchartWidget\n",
    "# pipeline_flowchart_window, pipeline_flowchart_app = plot_flowchartWidget(title='PhoMainPipelineFlowchartApp')\n",
    "# Add the flowchart widget. This is actually not the programmatic programming environment itself, it's the column that lists the nodes and lets you set their parameters.\n",
    "# flowchart_controls_widget = mainAppWindow.flowchart.widget()"
   ]
  },
  {
   "cell_type": "code",
   "execution_count": 3,
   "id": "e4c9fd65-e574-4de9-a85f-b51d2bd52340",
   "metadata": {},
   "outputs": [
    {
     "name": "stdout",
     "output_type": "stream",
     "text": [
      "num_known_types: 2\n",
      "ctrl_node_ops: [('data_mode', 'combo', {'values': ['bapun', 'kdiba', 'custom...'], 'index': 0})]\n",
      " custom_ops:[('reload', 'action')]\n",
      " self.uiTemplate: [('data_mode', 'combo', {'values': ['bapun', 'kdiba', 'custom...'], 'index': 0})]\n",
      "\n",
      "ctrl_node_ops: []\n",
      " custom_ops:[('included_configs_table', 'extendedchecktable', {'columns': ['filter'], 'rows': ['test1', 'test2']}), ('refilter', 'action')]\n",
      " self.uiTemplate: []\n",
      "\n",
      "ctrl_node_ops: []\n",
      " custom_ops:[('recompute', 'action'), ('included_configs_table', 'extendedchecktable', {'columns': ['compute'], 'rows': ['test1', 'test2']})]\n",
      " self.uiTemplate: []\n",
      "\n"
     ]
    },
    {
     "data": {
      "text/plain": [
       "<Node Flowchart @1d7430ae4c0>"
      ]
     },
     "execution_count": 3,
     "metadata": {},
     "output_type": "execute_result"
    }
   ],
   "source": [
    "\n",
    "## Create an empty flowchart with a single input and output\n",
    "flowchart = Flowchart(terminals={\n",
    "    'dataIn': {'io': 'in'},\n",
    "    'dataOut': {'io': 'out'}    \n",
    "})\n",
    "\n",
    "\n",
    "# # Add the flowchart widget. This is actually not the programmatic programming environment itself, it's the column that lists the nodes and lets you set their parameters.\n",
    "# flowchart_controls_widget = flowchart.widget()\n",
    "pipeline_start_x = 0\n",
    "flowchart.setInput(dataIn=None)\n",
    "\n",
    "# Setup the nodes in the flowchart:\n",
    "ReloadableNodeLibrary.setup_custom_node_library(flowchart)\n",
    "\n",
    "# Create the nodes:\n",
    "pipeline_input_node = flowchart.createNode('PipelineInputDataNode', pos=(pipeline_start_x-400, 50))\n",
    "\n",
    "pipeline_filter_node = flowchart.createNode('PipelineFilteringDataNode', pos=(pipeline_start_x-26, 50))\n",
    "\n",
    "pipeline_computation_node = flowchart.createNode('PipelineComputationsNode', pos=(pipeline_start_x+154, 50))\n",
    "\n",
    "# pipeline_display_node = flowchart.createNode('PipelineDisplayNode', pos=(pipeline_start_x+280, 120))\n",
    "\n",
    "# # Pipeline Result Visualization Node:\n",
    "# pipeline_result_viz_node = flowchart.createNode('PipelineResultVisNode', pos=(pipeline_start_x+280, 220))\n",
    "# pipeline_result_viz_node.on_add_function = on_add_function\n",
    "# pipeline_result_viz_node.on_remove_function = on_remove_function\n",
    "flowchart"
   ]
  },
  {
   "cell_type": "code",
   "execution_count": null,
   "id": "1719c06b-e92e-4677-8873-e11de7705a5c",
   "metadata": {},
   "outputs": [],
   "source": [
    "## Note: can do programmatic updates on the nodes via:\n",
    "\"\"\"\n",
    "## get the Node's control widget and place it inside the main window\n",
    "filterCtrl = filterNode.ctrlWidget()\n",
    "someLayout.addWidget(filterCtrl)\n",
    "\n",
    "## later on, process data through the node\n",
    "filteredData = filterNode.process(inputTerminal=rawData)\n",
    "\n",
    "\"\"\""
   ]
  },
  {
   "cell_type": "code",
   "execution_count": 4,
   "id": "01c4a992-d1af-4dce-a95a-63cbd2214d7e",
   "metadata": {},
   "outputs": [],
   "source": [
    "## Wire them up:\n",
    "\n",
    "# Setup connections:\n",
    "flowchart.connectTerminals(flowchart['dataIn'], pipeline_input_node['known_mode'])\n",
    "\n",
    "# Input Node Outputs:\n",
    "flowchart.connectTerminals(pipeline_input_node['loaded_pipeline'], pipeline_filter_node['pipeline'])\n",
    "flowchart.connectTerminals(pipeline_input_node['known_data_mode'], pipeline_filter_node['active_data_mode'])\n",
    "\n",
    "# flowchart.connectTerminals(pipeline_input_node['known_data_mode'], pipeline_display_node['mode'])\n",
    "\n",
    "# Filter Node Outputs:\n",
    "flowchart.connectTerminals(pipeline_filter_node['filtered_pipeline'], pipeline_computation_node['pipeline'])\n",
    "flowchart.connectTerminals(pipeline_filter_node['computation_configs'], pipeline_computation_node['computation_configs'])\n",
    "# flowchart.connectTerminals(pipeline_filter_node['filter_configs'], pipeline_display_node['filter_configs'])\n",
    "\n",
    "# Computation Node Outputs:\n",
    "# flowchart.connectTerminals(pipeline_computation_node['computed_pipeline'], pipeline_display_node['pipeline'])\n",
    "# flowchart.connectTerminals(pipeline_computation_node['updated_computation_configs'], pipeline_display_node['computation_configs'])\n",
    "\n",
    "# flowchart.connectTerminals(pipeline_computation_node['computed_pipeline'], pipeline_result_viz_node['pipeline'])\n",
    "# flowchart.connectTerminals(pipeline_computation_node['updated_computation_configs'], pipeline_result_viz_node['computation_configs'])\n",
    "\n",
    "flowchart.connectTerminals(pipeline_computation_node['computed_pipeline'], flowchart['dataOut']) # raw pipeline output from computation node\n"
   ]
  },
  {
   "cell_type": "code",
   "execution_count": 5,
   "id": "c86c0f13-396f-40cf-a9fa-abb907ea9029",
   "metadata": {},
   "outputs": [],
   "source": [
    "## Build Controls to set node parameters:\n",
    "inputCtrl = pipeline_input_node.ctrlWidget()\n",
    "filterCtrl = pipeline_filter_node.ctrlWidget()\n",
    "computationCtrl = pipeline_computation_node.ctrlWidget()"
   ]
  },
  {
   "cell_type": "code",
   "execution_count": 6,
   "id": "644fcf5e-d377-4815-9753-93bdb123218c",
   "metadata": {
    "scrolled": true,
    "tags": []
   },
   "outputs": [
    {
     "name": "stdout",
     "output_type": "stream",
     "text": [
      "PipelineInputDataNode data_mode from dropdown list: kdiba\n",
      "Warning: known_mode is None.\n",
      "basedir is already Path object.\n",
      "\t basepath: R:\\data\\KDIBA\\gor01\\one\\2006-6-07_11-26-53\n",
      "\t session_name: 2006-6-07_11-26-53\n",
      "Loading matlab import file results to R:\\data\\KDIBA\\gor01\\one\\2006-6-07_11-26-53\\2006-6-07_11-26-53.epochs_info.mat... done.\n",
      "Loading matlab import file results to R:\\data\\KDIBA\\gor01\\one\\2006-6-07_11-26-53\\2006-6-07_11-26-53.position_info.mat... done.\n",
      "Loading matlab import file results to R:\\data\\KDIBA\\gor01\\one\\2006-6-07_11-26-53\\2006-6-07_11-26-53.spikes.mat... done.\n",
      "Failure loading .position.npy. Must recompute.\n",
      "\n",
      "Computing linear positions for all active epochs for session... Saving updated position results results to R:\\data\\KDIBA\\gor01\\one\\2006-6-07_11-26-53\\2006-6-07_11-26-53.position.npy... 2006-6-07_11-26-53.position.npy saved\n",
      "done.\n",
      "\t Failure loading .interpolated_spike_positions.npy. Must recompute.\n",
      "\n",
      "\t Saving updated interpolated spike position results results to R:\\data\\KDIBA\\gor01\\one\\2006-6-07_11-26-53\\2006-6-07_11-26-53.interpolated_spike_positions.npy... 2006-6-07_11-26-53.interpolated_spike_positions.npy saved\n",
      "done.\n",
      "Loading matlab import file results to R:\\data\\KDIBA\\gor01\\one\\2006-6-07_11-26-53\\2006-6-07_11-26-53.laps_info.mat... done.\n",
      "setting laps object.\n",
      "session.laps loaded successfully!\n",
      "Loading success: .ripple.npy.\n",
      "Loading success: .mua.npy.\n",
      "Loading success: .pbe.npy.\n",
      "Computing added spike scISI column results to filepath?... done.\n",
      "desc_crossings_x: (24,), asc_crossings_x: (24,)\n",
      "Applying session filter named \"maze1\"...\n",
      "Constraining to epoch with times (start: 22.26, end: 1739.1533641185379)\n",
      "computing neurons mua for session...\n",
      "\n"
     ]
    },
    {
     "name": "stderr",
     "output_type": "stream",
     "text": [
      "c:\\users\\pho\\repos\\neuropy\\neuropy\\core\\laps.py:65: SettingWithCopyWarning: \n",
      "A value is trying to be set on a copy of a slice from a DataFrame.\n",
      "Try using .loc[row_indexer,col_indexer] = value instead\n",
      "\n",
      "See the caveats in the documentation: https://pandas.pydata.org/pandas-docs/stable/user_guide/indexing.html#returning-a-view-versus-a-copy\n",
      "  laps_df[['lap_id']] = laps_df[['lap_id']].astype('int')\n",
      "c:\\users\\pho\\repos\\neuropy\\neuropy\\core\\laps.py:69: SettingWithCopyWarning: \n",
      "A value is trying to be set on a copy of a slice from a DataFrame.\n",
      "Try using .loc[row_indexer,col_indexer] = value instead\n",
      "\n",
      "See the caveats in the documentation: https://pandas.pydata.org/pandas-docs/stable/user_guide/indexing.html#returning-a-view-versus-a-copy\n",
      "  laps_df[['start_spike_index', 'end_spike_index']] = laps_df[['start_spike_index', 'end_spike_index']].astype('int')\n",
      "c:\\users\\pho\\repos\\neuropy\\neuropy\\core\\laps.py:70: SettingWithCopyWarning: \n",
      "A value is trying to be set on a copy of a slice from a DataFrame.\n",
      "Try using .loc[row_indexer,col_indexer] = value instead\n",
      "\n",
      "See the caveats in the documentation: https://pandas.pydata.org/pandas-docs/stable/user_guide/indexing.html#returning-a-view-versus-a-copy\n",
      "  laps_df['num_spikes'] = laps_df['end_spike_index'] - laps_df['start_spike_index']\n",
      "c:\\users\\pho\\repos\\neuropy\\neuropy\\core\\laps.py:73: SettingWithCopyWarning: \n",
      "A value is trying to be set on a copy of a slice from a DataFrame.\n",
      "Try using .loc[row_indexer,col_indexer] = value instead\n",
      "\n",
      "See the caveats in the documentation: https://pandas.pydata.org/pandas-docs/stable/user_guide/indexing.html#returning-a-view-versus-a-copy\n",
      "  laps_df['lap_dir'] = laps_df['lap_dir'].astype('int')\n",
      "c:\\users\\pho\\repos\\neuropy\\neuropy\\core\\laps.py:81: SettingWithCopyWarning: \n",
      "A value is trying to be set on a copy of a slice from a DataFrame.\n",
      "Try using .loc[row_indexer,col_indexer] = value instead\n",
      "\n",
      "See the caveats in the documentation: https://pandas.pydata.org/pandas-docs/stable/user_guide/indexing.html#returning-a-view-versus-a-copy\n",
      "  laps_df['label'] = laps_df['lap_id'].astype('str') # add the string \"label\" column\n"
     ]
    },
    {
     "name": "stdout",
     "output_type": "stream",
     "text": [
      "on_table_check_changed(row: maze1, col: compute, state: 2)\n",
      "\t [['maze1', True]]\n",
      "Performing single_computation on filtered_session with filter named \"maze1\"...\n",
      "Performing perform_registered_computations(...) with 8 registered_computation_functions...\n",
      "Recomputing active_epoch_placefields... \t done.\n",
      "Recomputing active_epoch_placefields2D... \t done.\n",
      "Recomputing active_epoch_time_dependent_placefields... \t done.\n",
      "Recomputing active_epoch_time_dependent_placefields2D... \t done.\n"
     ]
    },
    {
     "name": "stderr",
     "output_type": "stream",
     "text": [
      "c:\\users\\pho\\repos\\pyphoplacecellanalysis\\src\\pyphoplacecellanalysis\\Analysis\\reconstruction.py:181: RuntimeWarning: overflow encountered in double_scalars\n",
      "  C_tau_n = 1.0 / np.sum(un_normalized_result) # normalize the result\n",
      "c:\\users\\pho\\repos\\pyphoplacecellanalysis\\src\\pyphoplacecellanalysis\\Analysis\\reconstruction.py:182: RuntimeWarning: invalid value encountered in multiply\n",
      "  result = C_tau_n * un_normalized_result\n",
      "c:\\users\\pho\\repos\\pyphoplacecellanalysis\\src\\pyphoplacecellanalysis\\Analysis\\reconstruction.py:181: RuntimeWarning: divide by zero encountered in double_scalars\n",
      "  C_tau_n = 1.0 / np.sum(un_normalized_result) # normalize the result\n",
      "c:\\users\\pho\\repos\\pyphoplacecellanalysis\\src\\pyphoplacecellanalysis\\Analysis\\reconstruction.py:221: RuntimeWarning: divide by zero encountered in true_divide\n",
      "  return C * np.exp(numerator/denominator)\n",
      "c:\\users\\pho\\repos\\pyphoplacecellanalysis\\src\\pyphoplacecellanalysis\\Analysis\\reconstruction.py:236: RuntimeWarning: invalid value encountered in multiply\n",
      "  return k * one_step_p_x_given_n * cls.compute_conditional_probability_x_prev_given_x_t(x_prev, all_x, sigma_t, C)\n"
     ]
    },
    {
     "name": "stdout",
     "output_type": "stream",
     "text": [
      "perform_registered_computations(...): \n",
      "\taccumulated_errors: []\n"
     ]
    }
   ],
   "source": [
    "# Add the controls to a layout:\n",
    "layout_widget = pg.LayoutWidget()\n",
    "layout_widget.setWindowTitle('Manu Flowchar Widget Display')\n",
    "\n",
    "# (inputCtrl, filterCtrl, computationCtrl)\n",
    "layout_widget.addWidget(inputCtrl, row=0, col=0)\n",
    "layout_widget.addWidget(filterCtrl, row=1, col=0)\n",
    "layout_widget.addWidget(computationCtrl, row=2, col=0)\n",
    "layout_widget.show()\n",
    "layout_widget.resize(800,900)"
   ]
  },
  {
   "cell_type": "code",
   "execution_count": null,
   "id": "292bfa10-5e64-45f0-8c29-ded99ab927ba",
   "metadata": {},
   "outputs": [],
   "source": [
    "layout_widget = None"
   ]
  },
  {
   "cell_type": "code",
   "execution_count": null,
   "id": "5bf3b748-d8fd-415a-9399-4dd5e7652abf",
   "metadata": {},
   "outputs": [],
   "source": [
    "## Where is the result from .process(...) going?\n",
    "\n",
    "## later on, process data through the node\n",
    "filteredData = filterNode.process(inputTerminal=rawData)"
   ]
  },
  {
   "cell_type": "code",
   "execution_count": null,
   "id": "319f4215-e98c-4d67-8e4f-3d8e2f140cb5",
   "metadata": {},
   "outputs": [],
   "source": [
    "flowchart_controls_widget = flowchart.widget() # FlowchartCtrlWidget\n",
    "flowchart_window = flowchart_controls_widget.cwWin\n",
    "\n",
    "pipeline_flowchart_nodes = pipeline_flowchart.nodes()"
   ]
  },
  {
   "cell_type": "code",
   "execution_count": 7,
   "id": "c8476fde-113f-45a4-a624-60cbe4116261",
   "metadata": {},
   "outputs": [
    {
     "data": {
      "text/plain": [
       "<pyphoplacecellanalysis.General.Pipeline.NeuropyPipeline.NeuropyPipeline at 0x1d74476c1c0>"
      ]
     },
     "execution_count": 7,
     "metadata": {},
     "output_type": "execute_result"
    }
   ],
   "source": [
    "## Try to extract the results into the Jupyter-lab notebook from the Flowchart nodes:\n",
    "# Note this works, meaning I can get the values just like I do in the regular Jupyter-Lab notebook\n",
    "computation_outputs = pipeline_computation_node.outputs()['computed_pipeline'].value()\n",
    "computation_outputs"
   ]
  },
  {
   "cell_type": "code",
   "execution_count": null,
   "id": "e829a16c-3f80-4daa-a29d-9cc8f54206f5",
   "metadata": {},
   "outputs": [],
   "source": [
    "display_outputs = curr_node.outputs()['display_outputs'].value()"
   ]
  },
  {
   "cell_type": "code",
   "execution_count": null,
   "id": "8b479ecf-9380-4948-8016-983fa7575be9",
   "metadata": {},
   "outputs": [],
   "source": [
    "fileSelectWidget = pg.FileDialog()\n",
    "layout_widget.addWidget(inputCtrl, row=3, col=0)"
   ]
  }
 ],
 "metadata": {
  "kernelspec": {
   "display_name": "Python [conda env:phoviz_ultimate]",
   "language": "python",
   "name": "conda-env-phoviz_ultimate-py"
  },
  "language_info": {
   "codemirror_mode": {
    "name": "ipython",
    "version": 3
   },
   "file_extension": ".py",
   "mimetype": "text/x-python",
   "name": "python",
   "nbconvert_exporter": "python",
   "pygments_lexer": "ipython3",
   "version": "3.9.12"
  }
 },
 "nbformat": 4,
 "nbformat_minor": 5
}
