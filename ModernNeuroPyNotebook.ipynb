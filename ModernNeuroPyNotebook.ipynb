{
 "cells": [
  {
   "cell_type": "code",
   "execution_count": 1,
   "id": "01a4accd-84e0-422f-87d1-3f26a5dc0ce7",
   "metadata": {},
   "outputs": [],
   "source": [
    "\"\"\"\n",
    "@author: pho\n",
    "\n",
    "A fresh start using modern pipeline methods without all the excessive imports. Created by Pho on 2022-06-14\n",
    "\n",
    "\"\"\"\n",
    "# noinspection JupyterPackage\n",
    "%load_ext autoreload\n",
    "%autoreload 2\n",
    "import sys\n",
    "import importlib\n",
    "\n",
    "from numba import jit\n",
    "import numpy as np\n",
    "import pandas as pd\n",
    "\n",
    "# required to enable non-blocking interaction:\n",
    "%gui qt5\n",
    "\n",
    "\n",
    "from pyphocorehelpers.gui.PhoUIContainer import PhoUIContainer\n",
    "import pyphoplacecellanalysis.External.pyqtgraph as pg\n",
    "from pyphoplacecellanalysis.External.pyqtgraph.Qt import QtCore, QtGui, QtWidgets\n",
    "\n",
    "# Pho's Formatting Preferences\n",
    "from pyphocorehelpers.preferences_helpers import set_pho_preferences\n",
    "set_pho_preferences()\n",
    "np.set_printoptions(edgeitems=30, linewidth=100000, formatter=dict(float=lambda x: \"%g\" % x))\n",
    "\n",
    "%config Completer.use_jedi = False"
   ]
  },
  {
   "cell_type": "code",
   "execution_count": 2,
   "id": "f8667519-660b-415c-8a54-f3548172bd5a",
   "metadata": {},
   "outputs": [],
   "source": [
    "# from pyphoplacecellanalysis.GUI.Qt\n",
    "# from pyqtplot_MainWindow import PhoPipelineMainWindow\n",
    "# from pyphoplacecellanalysis.GUI.Qt.MainApplicationWindows.PhoMainPipelineWindow.pyqtplot_MainWindow import PhoPipelineMainWindow\n",
    "\n",
    "from pyphoplacecellanalysis.External.pyqtgraph.flowchart import Flowchart, Node\n",
    "import pyphoplacecellanalysis.External.pyqtgraph.flowchart.library as fclib\n",
    "from pyphoplacecellanalysis.GUI.PyQtPlot.Flowchart.ReloadableNodeLibrary import ReloadableNodeLibrary\n",
    "\n",
    "from pyphoplacecellanalysis.GUI.Qt.MainApplicationWindows.PhoPipelineMainWindow.pyqtplot_MainWindow import PhoPipelineMainWindow\n",
    "\n",
    "# GUI.Qt.MainApplicationWindows.PhoPipelineMainWindow.pyqtplot_MainWindow\n",
    "\n",
    "# PhoMainPipelineWindow.pyqtplot_MainWindow import PhoPipelineMainWindow\n"
   ]
  },
  {
   "cell_type": "code",
   "execution_count": 3,
   "id": "13db9606-53e1-4f4f-af4a-ea3a2af7c642",
   "metadata": {},
   "outputs": [],
   "source": [
    "# from pyphoplacecellanalysis.GUI.PyQtPlot.Flowchart.pyqtplot_Flowchart import plot_flowchartWidget\n",
    "# pipeline_flowchart_window, pipeline_flowchart_app = plot_flowchartWidget(title='PhoMainPipelineFlowchartApp')\n",
    "# Add the flowchart widget. This is actually not the programmatic programming environment itself, it's the column that lists the nodes and lets you set their parameters.\n",
    "# flowchart_controls_widget = mainAppWindow.flowchart.widget()"
   ]
  },
  {
   "cell_type": "code",
   "execution_count": 4,
   "id": "e4c9fd65-e574-4de9-a85f-b51d2bd52340",
   "metadata": {},
   "outputs": [
    {
     "name": "stdout",
     "output_type": "stream",
     "text": [
      "num_known_types: 2\n",
      "ctrl_node_ops: [('data_mode', 'combo', {'values': ['bapun', 'kdiba', 'custom...'], 'index': 0})]\n",
      " custom_ops:[('reload', 'action')]\n",
      " self.uiTemplate: [('data_mode', 'combo', {'values': ['bapun', 'kdiba', 'custom...'], 'index': 0})]\n",
      "\n",
      "ctrl_node_ops: []\n",
      " custom_ops:[('included_configs_table', 'extendedchecktable', {'columns': ['filter'], 'rows': ['test1', 'test2']}), ('refilter', 'action')]\n",
      " self.uiTemplate: []\n",
      "\n",
      "ctrl_node_ops: []\n",
      " custom_ops:[('recompute', 'action'), ('included_configs_table', 'extendedchecktable', {'columns': ['compute'], 'rows': ['test1', 'test2']})]\n",
      " self.uiTemplate: []\n",
      "\n"
     ]
    },
    {
     "data": {
      "text/plain": [
       "<Node Flowchart @27215514c10>"
      ]
     },
     "execution_count": 4,
     "metadata": {},
     "output_type": "execute_result"
    }
   ],
   "source": [
    "\n",
    "## Create an empty flowchart with a single input and output\n",
    "flowchart = Flowchart(terminals={\n",
    "    'dataIn': {'io': 'in'},\n",
    "    'dataOut': {'io': 'out'}    \n",
    "})\n",
    "\n",
    "\n",
    "# # Add the flowchart widget. This is actually not the programmatic programming environment itself, it's the column that lists the nodes and lets you set their parameters.\n",
    "# flowchart_controls_widget = flowchart.widget()\n",
    "pipeline_start_x = 0\n",
    "flowchart.setInput(dataIn=None)\n",
    "\n",
    "# Setup the nodes in the flowchart:\n",
    "ReloadableNodeLibrary.setup_custom_node_library(flowchart)\n",
    "\n",
    "# Create the nodes:\n",
    "pipeline_input_node = flowchart.createNode('PipelineInputDataNode', pos=(pipeline_start_x-400, 50))\n",
    "\n",
    "pipeline_filter_node = flowchart.createNode('PipelineFilteringDataNode', pos=(pipeline_start_x-26, 50))\n",
    "\n",
    "pipeline_computation_node = flowchart.createNode('PipelineComputationsNode', pos=(pipeline_start_x+154, 50))\n",
    "\n",
    "# pipeline_display_node = flowchart.createNode('PipelineDisplayNode', pos=(pipeline_start_x+280, 120))\n",
    "\n",
    "# # Pipeline Result Visualization Node:\n",
    "# pipeline_result_viz_node = flowchart.createNode('PipelineResultVisNode', pos=(pipeline_start_x+280, 220))\n",
    "# pipeline_result_viz_node.on_add_function = on_add_function\n",
    "# pipeline_result_viz_node.on_remove_function = on_remove_function\n",
    "flowchart"
   ]
  },
  {
   "cell_type": "markdown",
   "id": "14aa079d-e1f3-4b54-8ea6-e827bebef31b",
   "metadata": {},
   "source": [
    "#### Note: can do programmatic updates on the nodes via:\n",
    "```python\n",
    "## get the Node's control widget and place it inside the main window\n",
    "filterCtrl = filterNode.ctrlWidget()\n",
    "someLayout.addWidget(filterCtrl)\n",
    "\n",
    "## later on, process data through the node\n",
    "filteredData = filterNode.process(inputTerminal=rawData)\n",
    "\n",
    "```"
   ]
  },
  {
   "cell_type": "code",
   "execution_count": 5,
   "id": "f6c66682-d7e7-4a4e-959b-e59fae039ef4",
   "metadata": {
    "scrolled": true,
    "tags": []
   },
   "outputs": [],
   "source": [
    "## Wire them up:\n",
    "\n",
    "# Setup connections:\n",
    "flowchart.connectTerminals(flowchart['dataIn'], pipeline_input_node['known_mode'])\n",
    "\n",
    "# Input Node Outputs:\n",
    "flowchart.connectTerminals(pipeline_input_node['loaded_pipeline'], pipeline_filter_node['pipeline'])\n",
    "flowchart.connectTerminals(pipeline_input_node['known_data_mode'], pipeline_filter_node['active_data_mode'])\n",
    "\n",
    "# flowchart.connectTerminals(pipeline_input_node['known_data_mode'], pipeline_display_node['mode'])\n",
    "\n",
    "# Filter Node Outputs:\n",
    "flowchart.connectTerminals(pipeline_filter_node['filtered_pipeline'], pipeline_computation_node['pipeline'])\n",
    "flowchart.connectTerminals(pipeline_filter_node['computation_configs'], pipeline_computation_node['computation_configs'])\n",
    "# flowchart.connectTerminals(pipeline_filter_node['filter_configs'], pipeline_display_node['filter_configs'])\n",
    "\n",
    "# Computation Node Outputs:\n",
    "# flowchart.connectTerminals(pipeline_computation_node['computed_pipeline'], pipeline_display_node['pipeline'])\n",
    "# flowchart.connectTerminals(pipeline_computation_node['updated_computation_configs'], pipeline_display_node['computation_configs'])\n",
    "\n",
    "# flowchart.connectTerminals(pipeline_computation_node['computed_pipeline'], pipeline_result_viz_node['pipeline'])\n",
    "# flowchart.connectTerminals(pipeline_computation_node['updated_computation_configs'], pipeline_result_viz_node['computation_configs'])\n",
    "\n",
    "flowchart.connectTerminals(pipeline_computation_node['computed_pipeline'], flowchart['dataOut']) # raw pipeline output from computation node\n",
    "\n",
    "\n",
    "## Build Controls to set node parameters:\n",
    "inputCtrl = pipeline_input_node.ctrlWidget()\n",
    "filterCtrl = pipeline_filter_node.ctrlWidget()\n",
    "computationCtrl = pipeline_computation_node.ctrlWidget()\n",
    "\n",
    "# Add the controls to a layout:\n",
    "layout_widget = pg.LayoutWidget()\n",
    "layout_widget.setWindowTitle('Manu Flowchar Widget Display')\n",
    "\n",
    "# (inputCtrl, filterCtrl, computationCtrl)\n",
    "layout_widget.addWidget(inputCtrl, row=0, col=0)\n",
    "layout_widget.addWidget(filterCtrl, row=1, col=0)\n",
    "layout_widget.addWidget(computationCtrl, row=2, col=0)\n",
    "layout_widget.show()\n",
    "layout_widget.resize(800,900)"
   ]
  },
  {
   "cell_type": "code",
   "execution_count": 6,
   "id": "5bf3b748-d8fd-415a-9399-4dd5e7652abf",
   "metadata": {},
   "outputs": [],
   "source": [
    "## Where is the result from .process(...) going?\n",
    "\n",
    "## later on, process data through the node\n",
    "# filteredData = filterNode.process(inputTerminal=rawData)"
   ]
  },
  {
   "cell_type": "code",
   "execution_count": 7,
   "id": "319f4215-e98c-4d67-8e4f-3d8e2f140cb5",
   "metadata": {},
   "outputs": [
    {
     "ename": "NameError",
     "evalue": "name 'pipeline_flowchart' is not defined",
     "output_type": "error",
     "traceback": [
      "\u001b[1;31m---------------------------------------------------------------------------\u001b[0m",
      "\u001b[1;31mNameError\u001b[0m                                 Traceback (most recent call last)",
      "Input \u001b[1;32mIn [7]\u001b[0m, in \u001b[0;36m<cell line: 4>\u001b[1;34m()\u001b[0m\n\u001b[0;32m      1\u001b[0m flowchart_controls_widget \u001b[38;5;241m=\u001b[39m flowchart\u001b[38;5;241m.\u001b[39mwidget() \u001b[38;5;66;03m# FlowchartCtrlWidget\u001b[39;00m\n\u001b[0;32m      2\u001b[0m flowchart_window \u001b[38;5;241m=\u001b[39m flowchart_controls_widget\u001b[38;5;241m.\u001b[39mcwWin\n\u001b[1;32m----> 4\u001b[0m pipeline_flowchart_nodes \u001b[38;5;241m=\u001b[39m \u001b[43mpipeline_flowchart\u001b[49m\u001b[38;5;241m.\u001b[39mnodes()\n",
      "\u001b[1;31mNameError\u001b[0m: name 'pipeline_flowchart' is not defined"
     ]
    },
    {
     "name": "stdout",
     "output_type": "stream",
     "text": [
      "PipelineInputDataNode data_mode from dropdown list: kdiba\n",
      "Warning: known_mode is None.\n",
      "basedir is already Path object.\n",
      "\t basepath: R:\\data\\KDIBA\\gor01\\one\\2006-6-07_11-26-53\n",
      "\t session_name: 2006-6-07_11-26-53\n",
      "Loading matlab import file results to R:\\data\\KDIBA\\gor01\\one\\2006-6-07_11-26-53\\2006-6-07_11-26-53.epochs_info.mat... done.\n",
      "Loading matlab import file results to R:\\data\\KDIBA\\gor01\\one\\2006-6-07_11-26-53\\2006-6-07_11-26-53.position_info.mat... done.\n",
      "Loading matlab import file results to R:\\data\\KDIBA\\gor01\\one\\2006-6-07_11-26-53\\2006-6-07_11-26-53.spikes.mat... done.\n",
      "Failure loading .position.npy. Must recompute.\n",
      "\n",
      "Computing linear positions for all active epochs for session... Saving updated position results results to R:\\data\\KDIBA\\gor01\\one\\2006-6-07_11-26-53\\2006-6-07_11-26-53.position.npy... 2006-6-07_11-26-53.position.npy saved\n",
      "done.\n",
      "\t Failure loading .interpolated_spike_positions.npy. Must recompute.\n",
      "\n",
      "\t Saving updated interpolated spike position results results to R:\\data\\KDIBA\\gor01\\one\\2006-6-07_11-26-53\\2006-6-07_11-26-53.interpolated_spike_positions.npy... 2006-6-07_11-26-53.interpolated_spike_positions.npy saved\n",
      "done.\n",
      "Loading matlab import file results to R:\\data\\KDIBA\\gor01\\one\\2006-6-07_11-26-53\\2006-6-07_11-26-53.laps_info.mat... done.\n",
      "setting laps object.\n",
      "session.laps loaded successfully!\n",
      "Loading success: .ripple.npy.\n",
      "Loading success: .mua.npy.\n",
      "Loading success: .pbe.npy.\n",
      "Computing added spike scISI column results to filepath?... done.\n",
      "desc_crossings_x: (24,), asc_crossings_x: (24,)\n",
      "Applying session filter named \"maze1\"...\n",
      "Constraining to epoch with times (start: 22.26, end: 1739.1533641185379)\n",
      "computing neurons mua for session...\n",
      "\n"
     ]
    },
    {
     "name": "stderr",
     "output_type": "stream",
     "text": [
      "c:\\users\\pho\\repos\\neuropy\\neuropy\\core\\laps.py:65: SettingWithCopyWarning: \n",
      "A value is trying to be set on a copy of a slice from a DataFrame.\n",
      "Try using .loc[row_indexer,col_indexer] = value instead\n",
      "\n",
      "See the caveats in the documentation: https://pandas.pydata.org/pandas-docs/stable/user_guide/indexing.html#returning-a-view-versus-a-copy\n",
      "  laps_df[['lap_id']] = laps_df[['lap_id']].astype('int')\n",
      "c:\\users\\pho\\repos\\neuropy\\neuropy\\core\\laps.py:69: SettingWithCopyWarning: \n",
      "A value is trying to be set on a copy of a slice from a DataFrame.\n",
      "Try using .loc[row_indexer,col_indexer] = value instead\n",
      "\n",
      "See the caveats in the documentation: https://pandas.pydata.org/pandas-docs/stable/user_guide/indexing.html#returning-a-view-versus-a-copy\n",
      "  laps_df[['start_spike_index', 'end_spike_index']] = laps_df[['start_spike_index', 'end_spike_index']].astype('int')\n",
      "c:\\users\\pho\\repos\\neuropy\\neuropy\\core\\laps.py:70: SettingWithCopyWarning: \n",
      "A value is trying to be set on a copy of a slice from a DataFrame.\n",
      "Try using .loc[row_indexer,col_indexer] = value instead\n",
      "\n",
      "See the caveats in the documentation: https://pandas.pydata.org/pandas-docs/stable/user_guide/indexing.html#returning-a-view-versus-a-copy\n",
      "  laps_df['num_spikes'] = laps_df['end_spike_index'] - laps_df['start_spike_index']\n",
      "c:\\users\\pho\\repos\\neuropy\\neuropy\\core\\laps.py:73: SettingWithCopyWarning: \n",
      "A value is trying to be set on a copy of a slice from a DataFrame.\n",
      "Try using .loc[row_indexer,col_indexer] = value instead\n",
      "\n",
      "See the caveats in the documentation: https://pandas.pydata.org/pandas-docs/stable/user_guide/indexing.html#returning-a-view-versus-a-copy\n",
      "  laps_df['lap_dir'] = laps_df['lap_dir'].astype('int')\n",
      "c:\\users\\pho\\repos\\neuropy\\neuropy\\core\\laps.py:81: SettingWithCopyWarning: \n",
      "A value is trying to be set on a copy of a slice from a DataFrame.\n",
      "Try using .loc[row_indexer,col_indexer] = value instead\n",
      "\n",
      "See the caveats in the documentation: https://pandas.pydata.org/pandas-docs/stable/user_guide/indexing.html#returning-a-view-versus-a-copy\n",
      "  laps_df['label'] = laps_df['lap_id'].astype('str') # add the string \"label\" column\n"
     ]
    },
    {
     "name": "stdout",
     "output_type": "stream",
     "text": [
      "on_table_check_changed(row: maze1, col: compute, state: 2)\n",
      "\t [['maze1', True]]\n",
      "Performing single_computation on filtered_session with filter named \"maze1\"...\n",
      "Performing perform_registered_computations(...) with 8 registered_computation_functions...\n",
      "Recomputing active_epoch_placefields... \t done.\n",
      "Recomputing active_epoch_placefields2D... \t done.\n",
      "Recomputing active_epoch_time_dependent_placefields... \t done.\n",
      "Recomputing active_epoch_time_dependent_placefields2D... \t done.\n"
     ]
    },
    {
     "name": "stderr",
     "output_type": "stream",
     "text": [
      "c:\\users\\pho\\repos\\pyphoplacecellanalysis\\src\\pyphoplacecellanalysis\\Analysis\\reconstruction.py:181: RuntimeWarning: overflow encountered in double_scalars\n",
      "  C_tau_n = 1.0 / np.sum(un_normalized_result) # normalize the result\n",
      "c:\\users\\pho\\repos\\pyphoplacecellanalysis\\src\\pyphoplacecellanalysis\\Analysis\\reconstruction.py:182: RuntimeWarning: invalid value encountered in multiply\n",
      "  result = C_tau_n * un_normalized_result\n",
      "c:\\users\\pho\\repos\\pyphoplacecellanalysis\\src\\pyphoplacecellanalysis\\Analysis\\reconstruction.py:181: RuntimeWarning: divide by zero encountered in double_scalars\n",
      "  C_tau_n = 1.0 / np.sum(un_normalized_result) # normalize the result\n",
      "c:\\users\\pho\\repos\\pyphoplacecellanalysis\\src\\pyphoplacecellanalysis\\Analysis\\reconstruction.py:221: RuntimeWarning: divide by zero encountered in true_divide\n",
      "  return C * np.exp(numerator/denominator)\n",
      "c:\\users\\pho\\repos\\pyphoplacecellanalysis\\src\\pyphoplacecellanalysis\\Analysis\\reconstruction.py:236: RuntimeWarning: invalid value encountered in multiply\n",
      "  return k * one_step_p_x_given_n * cls.compute_conditional_probability_x_prev_given_x_t(x_prev, all_x, sigma_t, C)\n"
     ]
    }
   ],
   "source": [
    "flowchart_controls_widget = flowchart.widget() # FlowchartCtrlWidget\n",
    "flowchart_window = flowchart_controls_widget.cwWin\n",
    "\n",
    "pipeline_flowchart_nodes = pipeline_flowchart.nodes()"
   ]
  },
  {
   "cell_type": "code",
   "execution_count": null,
   "id": "e829a16c-3f80-4daa-a29d-9cc8f54206f5",
   "metadata": {},
   "outputs": [],
   "source": [
    "display_outputs = curr_node.outputs()['display_outputs'].value()"
   ]
  },
  {
   "cell_type": "code",
   "execution_count": null,
   "id": "a42a1fca-f415-4c75-a18e-7badb85308ee",
   "metadata": {},
   "outputs": [],
   "source": [
    "fileSelectWidget = pg.FileDialog()\n",
    "layout_widget.addWidget(inputCtrl, row=3, col=0)"
   ]
  },
  {
   "cell_type": "markdown",
   "id": "db98d129-6fcc-485b-a75e-4639b2ad7802",
   "metadata": {},
   "source": [
    "### Try to extract the results into the Jupyter-lab notebook from the Flowchart nodes:"
   ]
  },
  {
   "cell_type": "code",
   "execution_count": 8,
   "id": "136841ee-8fe1-4350-b1a1-6770950fa18d",
   "metadata": {},
   "outputs": [
    {
     "data": {
      "text/plain": [
       "<pyphoplacecellanalysis.General.Pipeline.NeuropyPipeline.NeuropyPipeline at 0x2721bce1fa0>"
      ]
     },
     "execution_count": 8,
     "metadata": {},
     "output_type": "execute_result"
    }
   ],
   "source": [
    "# Note this works, meaning I can get the values just like I do in the regular Jupyter-Lab notebook\n",
    "curr_active_pipeline = pipeline_computation_node.outputs()['computed_pipeline'].value()\n",
    "# curr_active_pipeline # NeuropyPipeline"
   ]
  },
  {
   "cell_type": "code",
   "execution_count": 10,
   "id": "8c5ac614-3ddc-49ba-bb7c-fdcd76ecbd90",
   "metadata": {},
   "outputs": [
    {
     "name": "stdout",
     "output_type": "stream",
     "text": [
      "active_computed_data.keys(): dict_keys(['pf1D', 'pf2D', 'pf1D_dt', 'pf2D_dt', 'pf2D_Decoder', 'pf2D_TwoStepDecoder', 'extended_stats', 'firing_rate_trends', 'placefield_overlap', 'burst_detection'])\n"
     ]
    }
   ],
   "source": [
    "active_config_name = 'maze1'\n",
    "# active_config_name = 'maze'\n",
    "\n",
    "# Get relevant variables:\n",
    "# curr_active_pipeline is set above, and usable here\n",
    "sess = curr_active_pipeline.filtered_sessions[active_config_name]\n",
    "active_computed_data = curr_active_pipeline.computation_results[active_config_name].computed_data\n",
    "print(f'active_computed_data.keys(): {active_computed_data.keys()}')"
   ]
  },
  {
   "cell_type": "code",
   "execution_count": null,
   "id": "9ae01af6-c62f-4b77-8e31-54fc24589761",
   "metadata": {},
   "outputs": [],
   "source": []
  },
  {
   "cell_type": "markdown",
   "id": "5d6a7ed2-29ca-45c9-934b-f51d94c5284a",
   "metadata": {},
   "source": [
    "## Testing burst detection: adding 3D curves for bursts"
   ]
  },
  {
   "cell_type": "code",
   "execution_count": 12,
   "id": "1bc8591c-01f7-4683-972f-9fd0fec6a1fa",
   "metadata": {},
   "outputs": [],
   "source": [
    "from pybursts import pybursts\n",
    "import matplotlib.pyplot as plt\n",
    "from indexed import IndexedOrderedDict\n",
    "from pyphocorehelpers.print_helpers import print_dataframe_memory_usage\n",
    "\n",
    "active_burst_info = active_computed_data['burst_detection']\n",
    "active_burst_intervals = active_burst_info['burst_intervals']"
   ]
  },
  {
   "cell_type": "code",
   "execution_count": 14,
   "id": "4e3ce58b-06ab-4928-978d-2bc0216871bd",
   "metadata": {},
   "outputs": [
    {
     "data": {
      "text/html": [
       "<div>\n",
       "<style scoped>\n",
       "    .dataframe tbody tr th:only-of-type {\n",
       "        vertical-align: middle;\n",
       "    }\n",
       "\n",
       "    .dataframe tbody tr th {\n",
       "        vertical-align: top;\n",
       "    }\n",
       "\n",
       "    .dataframe thead th {\n",
       "        text-align: right;\n",
       "    }\n",
       "</style>\n",
       "<table border=\"1\" class=\"dataframe\">\n",
       "  <thead>\n",
       "    <tr style=\"text-align: right;\">\n",
       "      <th></th>\n",
       "      <th>burst_level</th>\n",
       "      <th>t_start</th>\n",
       "      <th>t_end</th>\n",
       "      <th>t_duration</th>\n",
       "      <th>interval_pair</th>\n",
       "    </tr>\n",
       "  </thead>\n",
       "  <tbody>\n",
       "    <tr>\n",
       "      <th>0</th>\n",
       "      <td>0</td>\n",
       "      <td>28.854667</td>\n",
       "      <td>1737.841798</td>\n",
       "      <td>1708.987131</td>\n",
       "      <td>(28.854666826373432, 1708.9871313985786)</td>\n",
       "    </tr>\n",
       "    <tr>\n",
       "      <th>1</th>\n",
       "      <td>1.0</td>\n",
       "      <td>39.609703</td>\n",
       "      <td>39.824773</td>\n",
       "      <td>0.215071</td>\n",
       "      <td>(39.609702599816956, 0.21507060987642035)</td>\n",
       "    </tr>\n",
       "    <tr>\n",
       "      <th>2</th>\n",
       "      <td>2.0</td>\n",
       "      <td>39.609703</td>\n",
       "      <td>39.824773</td>\n",
       "      <td>0.215071</td>\n",
       "      <td>(39.609702599816956, 0.21507060987642035)</td>\n",
       "    </tr>\n",
       "    <tr>\n",
       "      <th>3</th>\n",
       "      <td>3.0</td>\n",
       "      <td>39.609703</td>\n",
       "      <td>39.824773</td>\n",
       "      <td>0.215071</td>\n",
       "      <td>(39.609702599816956, 0.21507060987642035)</td>\n",
       "    </tr>\n",
       "    <tr>\n",
       "      <th>4</th>\n",
       "      <td>4.0</td>\n",
       "      <td>39.727913</td>\n",
       "      <td>39.824773</td>\n",
       "      <td>0.09686</td>\n",
       "      <td>(39.72791309928289, 0.09686011041048914)</td>\n",
       "    </tr>\n",
       "    <tr>\n",
       "      <th>5</th>\n",
       "      <td>5.0</td>\n",
       "      <td>39.727913</td>\n",
       "      <td>39.741491</td>\n",
       "      <td>0.013578</td>\n",
       "      <td>(39.72791309928289, 0.013578233018051833)</td>\n",
       "    </tr>\n",
       "    <tr>\n",
       "      <th>6</th>\n",
       "      <td>6.0</td>\n",
       "      <td>39.727913</td>\n",
       "      <td>39.741491</td>\n",
       "      <td>0.013578</td>\n",
       "      <td>(39.72791309928289, 0.013578233018051833)</td>\n",
       "    </tr>\n",
       "    <tr>\n",
       "      <th>7</th>\n",
       "      <td>1.0</td>\n",
       "      <td>66.284019</td>\n",
       "      <td>73.249775</td>\n",
       "      <td>6.965756</td>\n",
       "      <td>(66.28401854255935, 6.965756433550268)</td>\n",
       "    </tr>\n",
       "    <tr>\n",
       "      <th>8</th>\n",
       "      <td>2.0</td>\n",
       "      <td>66.284019</td>\n",
       "      <td>72.747104</td>\n",
       "      <td>6.463085</td>\n",
       "      <td>(66.28401854255935, 6.463085330906324)</td>\n",
       "    </tr>\n",
       "    <tr>\n",
       "      <th>9</th>\n",
       "      <td>3.0</td>\n",
       "      <td>66.284019</td>\n",
       "      <td>66.370065</td>\n",
       "      <td>0.086047</td>\n",
       "      <td>(66.28401854255935, 0.0860466759186238)</td>\n",
       "    </tr>\n",
       "    <tr>\n",
       "      <th>10</th>\n",
       "      <td>4.0</td>\n",
       "      <td>66.284019</td>\n",
       "      <td>66.370065</td>\n",
       "      <td>0.086047</td>\n",
       "      <td>(66.28401854255935, 0.0860466759186238)</td>\n",
       "    </tr>\n",
       "    <tr>\n",
       "      <th>11</th>\n",
       "      <td>3.0</td>\n",
       "      <td>67.135208</td>\n",
       "      <td>67.356177</td>\n",
       "      <td>0.220969</td>\n",
       "      <td>(67.13520786672598, 0.22096884687198326)</td>\n",
       "    </tr>\n",
       "    <tr>\n",
       "      <th>12</th>\n",
       "      <td>3.0</td>\n",
       "      <td>69.611423</td>\n",
       "      <td>71.439078</td>\n",
       "      <td>1.827655</td>\n",
       "      <td>(69.61142291891156, 1.827654744265601)</td>\n",
       "    </tr>\n",
       "    <tr>\n",
       "      <th>13</th>\n",
       "      <td>4.0</td>\n",
       "      <td>70.668283</td>\n",
       "      <td>70.779151</td>\n",
       "      <td>0.110868</td>\n",
       "      <td>(70.66828253783751, 0.11086842318763956)</td>\n",
       "    </tr>\n",
       "    <tr>\n",
       "      <th>14</th>\n",
       "      <td>1.0</td>\n",
       "      <td>75.446807</td>\n",
       "      <td>75.49645</td>\n",
       "      <td>0.049643</td>\n",
       "      <td>(75.44680681120371, 0.04964349459623918)</td>\n",
       "    </tr>\n",
       "    <tr>\n",
       "      <th>...</th>\n",
       "      <td>...</td>\n",
       "      <td>...</td>\n",
       "      <td>...</td>\n",
       "      <td>...</td>\n",
       "      <td>...</td>\n",
       "    </tr>\n",
       "    <tr>\n",
       "      <th>473</th>\n",
       "      <td>2.0</td>\n",
       "      <td>1714.387152</td>\n",
       "      <td>1714.588583</td>\n",
       "      <td>0.201431</td>\n",
       "      <td>(1714.3871516737272, 0.20143093692604452)</td>\n",
       "    </tr>\n",
       "    <tr>\n",
       "      <th>474</th>\n",
       "      <td>3.0</td>\n",
       "      <td>1714.387152</td>\n",
       "      <td>1714.588583</td>\n",
       "      <td>0.201431</td>\n",
       "      <td>(1714.3871516737272, 0.20143093692604452)</td>\n",
       "    </tr>\n",
       "    <tr>\n",
       "      <th>475</th>\n",
       "      <td>2.0</td>\n",
       "      <td>1716.712009</td>\n",
       "      <td>1716.881707</td>\n",
       "      <td>0.169697</td>\n",
       "      <td>(1716.7120093634585, 0.16969719307962805)</td>\n",
       "    </tr>\n",
       "    <tr>\n",
       "      <th>476</th>\n",
       "      <td>3.0</td>\n",
       "      <td>1716.712009</td>\n",
       "      <td>1716.881707</td>\n",
       "      <td>0.169697</td>\n",
       "      <td>(1716.7120093634585, 0.16969719307962805)</td>\n",
       "    </tr>\n",
       "    <tr>\n",
       "      <th>477</th>\n",
       "      <td>4.0</td>\n",
       "      <td>1716.827117</td>\n",
       "      <td>1716.881707</td>\n",
       "      <td>0.054589</td>\n",
       "      <td>(1716.8271171445376, 0.05458941200049594)</td>\n",
       "    </tr>\n",
       "    <tr>\n",
       "      <th>478</th>\n",
       "      <td>5.0</td>\n",
       "      <td>1716.827117</td>\n",
       "      <td>1716.881707</td>\n",
       "      <td>0.054589</td>\n",
       "      <td>(1716.8271171445376, 0.05458941200049594)</td>\n",
       "    </tr>\n",
       "    <tr>\n",
       "      <th>479</th>\n",
       "      <td>6.0</td>\n",
       "      <td>1716.871262</td>\n",
       "      <td>1716.881707</td>\n",
       "      <td>0.010445</td>\n",
       "      <td>(1716.871261761873, 0.01044479466509074)</td>\n",
       "    </tr>\n",
       "    <tr>\n",
       "      <th>480</th>\n",
       "      <td>7.0</td>\n",
       "      <td>1716.871262</td>\n",
       "      <td>1716.881707</td>\n",
       "      <td>0.010445</td>\n",
       "      <td>(1716.871261761873, 0.01044479466509074)</td>\n",
       "    </tr>\n",
       "    <tr>\n",
       "      <th>481</th>\n",
       "      <td>1.0</td>\n",
       "      <td>1719.395277</td>\n",
       "      <td>1721.975049</td>\n",
       "      <td>2.579772</td>\n",
       "      <td>(1719.3952771095792, 2.5797721191775054)</td>\n",
       "    </tr>\n",
       "    <tr>\n",
       "      <th>482</th>\n",
       "      <td>2.0</td>\n",
       "      <td>1719.395277</td>\n",
       "      <td>1721.204869</td>\n",
       "      <td>1.809591</td>\n",
       "      <td>(1719.3952771095792, 1.8095913935103454)</td>\n",
       "    </tr>\n",
       "    <tr>\n",
       "      <th>483</th>\n",
       "      <td>3.0</td>\n",
       "      <td>1719.395277</td>\n",
       "      <td>1720.327168</td>\n",
       "      <td>0.931891</td>\n",
       "      <td>(1719.3952771095792, 0.9318907229462638)</td>\n",
       "    </tr>\n",
       "    <tr>\n",
       "      <th>484</th>\n",
       "      <td>4.0</td>\n",
       "      <td>1719.969065</td>\n",
       "      <td>1720.327168</td>\n",
       "      <td>0.358103</td>\n",
       "      <td>(1719.9690649757977, 0.35810285672778264)</td>\n",
       "    </tr>\n",
       "    <tr>\n",
       "      <th>485</th>\n",
       "      <td>5.0</td>\n",
       "      <td>1720.073943</td>\n",
       "      <td>1720.327168</td>\n",
       "      <td>0.253225</td>\n",
       "      <td>(1720.0739430020913, 0.25322483043419197)</td>\n",
       "    </tr>\n",
       "    <tr>\n",
       "      <th>486</th>\n",
       "      <td>3.0</td>\n",
       "      <td>1720.951429</td>\n",
       "      <td>1721.204869</td>\n",
       "      <td>0.25344</td>\n",
       "      <td>(1720.951428632834, 0.2534398702555336)</td>\n",
       "    </tr>\n",
       "    <tr>\n",
       "      <th>487</th>\n",
       "      <td>4.0</td>\n",
       "      <td>1720.951429</td>\n",
       "      <td>1721.204869</td>\n",
       "      <td>0.25344</td>\n",
       "      <td>(1720.951428632834, 0.2534398702555336)</td>\n",
       "    </tr>\n",
       "  </tbody>\n",
       "</table>\n",
       "<p>488 rows × 5 columns</p>\n",
       "</div>"
      ],
      "text/plain": [
       "    burst_level      t_start        t_end   t_duration                              interval_pair\n",
       "0             0    28.854667  1737.841798  1708.987131   (28.854666826373432, 1708.9871313985786)\n",
       "1           1.0    39.609703    39.824773     0.215071  (39.609702599816956, 0.21507060987642035)\n",
       "2           2.0    39.609703    39.824773     0.215071  (39.609702599816956, 0.21507060987642035)\n",
       "3           3.0    39.609703    39.824773     0.215071  (39.609702599816956, 0.21507060987642035)\n",
       "4           4.0    39.727913    39.824773      0.09686   (39.72791309928289, 0.09686011041048914)\n",
       "5           5.0    39.727913    39.741491     0.013578  (39.72791309928289, 0.013578233018051833)\n",
       "6           6.0    39.727913    39.741491     0.013578  (39.72791309928289, 0.013578233018051833)\n",
       "7           1.0    66.284019    73.249775     6.965756     (66.28401854255935, 6.965756433550268)\n",
       "8           2.0    66.284019    72.747104     6.463085     (66.28401854255935, 6.463085330906324)\n",
       "9           3.0    66.284019    66.370065     0.086047    (66.28401854255935, 0.0860466759186238)\n",
       "10          4.0    66.284019    66.370065     0.086047    (66.28401854255935, 0.0860466759186238)\n",
       "11          3.0    67.135208    67.356177     0.220969   (67.13520786672598, 0.22096884687198326)\n",
       "12          3.0    69.611423    71.439078     1.827655     (69.61142291891156, 1.827654744265601)\n",
       "13          4.0    70.668283    70.779151     0.110868   (70.66828253783751, 0.11086842318763956)\n",
       "14          1.0    75.446807     75.49645     0.049643   (75.44680681120371, 0.04964349459623918)\n",
       "..          ...          ...          ...          ...                                        ...\n",
       "473         2.0  1714.387152  1714.588583     0.201431  (1714.3871516737272, 0.20143093692604452)\n",
       "474         3.0  1714.387152  1714.588583     0.201431  (1714.3871516737272, 0.20143093692604452)\n",
       "475         2.0  1716.712009  1716.881707     0.169697  (1716.7120093634585, 0.16969719307962805)\n",
       "476         3.0  1716.712009  1716.881707     0.169697  (1716.7120093634585, 0.16969719307962805)\n",
       "477         4.0  1716.827117  1716.881707     0.054589  (1716.8271171445376, 0.05458941200049594)\n",
       "478         5.0  1716.827117  1716.881707     0.054589  (1716.8271171445376, 0.05458941200049594)\n",
       "479         6.0  1716.871262  1716.881707     0.010445   (1716.871261761873, 0.01044479466509074)\n",
       "480         7.0  1716.871262  1716.881707     0.010445   (1716.871261761873, 0.01044479466509074)\n",
       "481         1.0  1719.395277  1721.975049     2.579772   (1719.3952771095792, 2.5797721191775054)\n",
       "482         2.0  1719.395277  1721.204869     1.809591   (1719.3952771095792, 1.8095913935103454)\n",
       "483         3.0  1719.395277  1720.327168     0.931891   (1719.3952771095792, 0.9318907229462638)\n",
       "484         4.0  1719.969065  1720.327168     0.358103  (1719.9690649757977, 0.35810285672778264)\n",
       "485         5.0  1720.073943  1720.327168     0.253225  (1720.0739430020913, 0.25322483043419197)\n",
       "486         3.0  1720.951429  1721.204869      0.25344    (1720.951428632834, 0.2534398702555336)\n",
       "487         4.0  1720.951429  1721.204869      0.25344    (1720.951428632834, 0.2534398702555336)\n",
       "\n",
       "[488 rows x 5 columns]"
      ]
     },
     "execution_count": 14,
     "metadata": {},
     "output_type": "execute_result"
    }
   ],
   "source": [
    "active_burst_intervals.values()[0]"
   ]
  },
  {
   "cell_type": "markdown",
   "id": "d42204d1-f2f2-46a8-9330-fdd24bdffe68",
   "metadata": {
    "jp-MarkdownHeadingCollapsed": true,
    "tags": []
   },
   "source": [
    "# Custom Export Widget Testing"
   ]
  },
  {
   "cell_type": "code",
   "execution_count": null,
   "id": "8c4ea479-d352-4305-a21a-5ec7cbec56f7",
   "metadata": {},
   "outputs": [],
   "source": [
    "# List available properties from the dictionary:\n",
    "enable_debug_print = True\n",
    "\n",
    "\n",
    "curr_epoch_labels = list(curr_active_pipeline.sess.epochs.labels) # ['pre', 'maze1', 'post1', 'maze2', 'post2']\n",
    "if enable_debug_print:\n",
    "    print(f'curr_epoch_labels: {curr_epoch_labels}')\n",
    "    \n",
    "curr_named_timeranges = [curr_active_pipeline.sess.epochs.get_named_timerange(a_label) for a_label in curr_epoch_labels]\n",
    "if enable_debug_print:\n",
    "    print(f'curr_named_timeranges: {curr_named_timeranges}')\n",
    "\n",
    "# Filters list:\n",
    "all_filters_list = list(curr_active_pipeline.filtered_sessions.keys())\n",
    "if enable_debug_print:\n",
    "    print(f'all_filters_list: {all_filters_list}')\n",
    "\n",
    "    \n",
    "all_computed_timeranges_list = _get_valid_computation_results_config_names(curr_active_pipeline)\n",
    "if enable_debug_print:\n",
    "    print(f'all_computed_timeranges_list: {all_computed_timeranges_list}')\n",
    "    \n",
    "\"\"\"\n",
    "    curr_epoch_labels: ['maze1', 'maze2']\n",
    "    curr_named_timeranges: [<NamedTimerange: {'name': 'maze1', 'start_end_times': array([22.26, 1739.15])};>, <NamedTimerange: {'name': 'maze2', 'start_end_times': array([1739.15, 1932.42])};>]\n",
    "    all_filters_list: ['maze1']\n",
    "    computed_config_names_list: ['maze1']\n",
    "    all_computed_timeranges_list: ['maze1']\n",
    "\"\"\"\n",
    "\n",
    "# active_config_name = 'maze1'"
   ]
  },
  {
   "cell_type": "markdown",
   "id": "2c19cf19-b3ce-430f-a839-20353fb049a2",
   "metadata": {},
   "source": [
    "## Path selection via Custom Save Widget Testing"
   ]
  },
  {
   "cell_type": "code",
   "execution_count": null,
   "id": "61562c3b-ebbb-4500-9ff0-056e610606e8",
   "metadata": {},
   "outputs": [],
   "source": [
    "from pyphocorehelpers.gui.Qt.InlineFilesystemPathSelectWidget.InlineFilesystemPathSelectWidget import InlineFilesystemPathSelectWidget\n",
    "\n",
    "# Build a CtrlWidget for exporting the results out to file:\n",
    "export_ui = PhoUIContainer('ExportNode')\n",
    "export_ui.layout_widget = pg.LayoutWidget()\n",
    "export_ui.layout_widget.setWindowTitle('ExportNode CtrlWidget')\n",
    "\n",
    "# Build the export path selection widget\n",
    "export_ui.path_data_root_select_widget = InlineFilesystemPathSelectWidget('Export')\n",
    "export_ui.layout_widget.addWidget(export_ui.path_data_root_select_widget, colspan=2)\n",
    "export_ui.layout_widget.nextRow()\n",
    "export_ui.btnExport = pg.FeedbackButton('Export')\n",
    "export_ui.layout_widget.addWidget(export_ui.btnExport, colspan=1, col=1)\n",
    "\n",
    "export_ui.layout_widget.show()\n",
    "# export_ui.root_widget.setLayout(export_ui.layout_widget)\n",
    "# export_ui.root_widget.show()\n",
    "# export_ui.path_data_root_select_widget.show()"
   ]
  },
  {
   "cell_type": "markdown",
   "id": "2508cd60-bc0f-439a-bd04-4f9a5cf07d20",
   "metadata": {},
   "source": [
    "## pg.ParameterList version:"
   ]
  },
  {
   "cell_type": "code",
   "execution_count": 35,
   "id": "f3e3cf34-49a6-46d3-a5d7-e67c759dc5b0",
   "metadata": {},
   "outputs": [
    {
     "name": "stdout",
     "output_type": "stream",
     "text": [
      "key_children_list: [{'name': '/filtered_sessions/maze1/spikes_df', 'type': 'str', 'value': 'spikes_df'}, {'name': '/filtered_sessions/maze1/pos_df', 'type': 'str', 'value': 'positions_df'}]\n"
     ]
    }
   ],
   "source": [
    "# import pyphoplacecellanalysis.External.pyqtgraph.parametertree.parameterTypes as pTypes\n",
    "# from pyphoplacecellanalysis.External.pyqtgraph.parametertree import Parameter, ParameterTree\n",
    "from pyphoplacecellanalysis.GUI.PyQtPlot.Params.ParameterTrees.ExportPipelineParametersTree import build_export_parameters_tree\n",
    "\n",
    "p = build_export_parameters_tree(curr_active_pipeline, parameter_names='ExportParams', finalized_output_cache_file='data/pipeline_cache_store.h5', include_state_save_restore_buttons=False, debug_print=True)"
   ]
  },
  {
   "cell_type": "code",
   "execution_count": 36,
   "id": "456a881e-f3c7-4f62-862c-d3ec0dc545b8",
   "metadata": {},
   "outputs": [],
   "source": [
    "from pyphoplacecellanalysis.External.pyqtgraph.parametertree import Parameter, ParameterTree\n",
    "## Create ParameterTree widget\n",
    "t = ParameterTree()\n",
    "t.setParameters(p, showTop=False)\n",
    "t.setWindowTitle('Export Parameters Tree Example')\n",
    "t.resize(700, 1000)\n",
    "t.show()"
   ]
  },
  {
   "cell_type": "code",
   "execution_count": 30,
   "id": "bce547f7-c3b9-4e9b-b0de-0c36d57db634",
   "metadata": {},
   "outputs": [
    {
     "data": {
      "text/plain": [
       "<ChecklistParameter 'Included Exports' at 0x1b4b5251b80>"
      ]
     },
     "execution_count": 30,
     "metadata": {},
     "output_type": "execute_result"
    }
   ],
   "source": [
    "included_exports_checklist = p.param('Included Exports')\n",
    "included_exports_checklist"
   ]
  },
  {
   "cell_type": "code",
   "execution_count": 31,
   "id": "eaa4df2c-4035-4d0e-af84-30a3e4e751c8",
   "metadata": {},
   "outputs": [
    {
     "data": {
      "text/plain": [
       "['maze1']"
      ]
     },
     "execution_count": 31,
     "metadata": {},
     "output_type": "execute_result"
    }
   ],
   "source": [
    "p['Included Exports']"
   ]
  },
  {
   "cell_type": "code",
   "execution_count": 27,
   "id": "d9c26c7b-f891-4b9d-bd0c-9b6659fbebc9",
   "metadata": {},
   "outputs": [
    {
     "data": {
      "text/plain": [
       "<ChecklistParameter 'Included Exports' at 0x1b4b5251b80>"
      ]
     },
     "execution_count": 27,
     "metadata": {},
     "output_type": "execute_result"
    }
   ],
   "source": [
    "included_exports_checklist"
   ]
  },
  {
   "cell_type": "code",
   "execution_count": 29,
   "id": "eb723da0-2ff6-4892-9746-ba7f7138e692",
   "metadata": {},
   "outputs": [
    {
     "data": {
      "text/plain": [
       "<ExportHdf5KeysGroup 'Export Keys' at 0x1b4b5251550>"
      ]
     },
     "execution_count": 29,
     "metadata": {},
     "output_type": "execute_result"
    }
   ],
   "source": [
    "export_keys_list = p.param(\"Export Keys\")\n",
    "export_keys_list # ExportHdf5KeysGroup "
   ]
  },
  {
   "cell_type": "code",
   "execution_count": null,
   "id": "f27073c1-6cae-4797-8287-9cc6c56d2a44",
   "metadata": {},
   "outputs": [],
   "source": [
    "export_keys_list.clearChildren()\n",
    "# export_keys_list.addChildren(children=)"
   ]
  },
  {
   "cell_type": "code",
   "execution_count": null,
   "id": "98962d84-86ac-4e77-9ead-8f7a360654ec",
   "metadata": {},
   "outputs": [],
   "source": [
    "# export_keys_list.children = "
   ]
  },
  {
   "cell_type": "code",
   "execution_count": null,
   "id": "525170b1-9e65-4dc1-baef-deac6ba0a457",
   "metadata": {},
   "outputs": [],
   "source": [
    "p[\"Export Keys\"].children()"
   ]
  },
  {
   "cell_type": "code",
   "execution_count": 25,
   "id": "365f4a5f-f24d-4519-8b81-bfb170793bbe",
   "metadata": {},
   "outputs": [
    {
     "data": {
      "text/plain": [
       "['/filtered_sessions/maze1/spikes_df', '/filtered_sessions/maze1/pos_df']"
      ]
     },
     "execution_count": 25,
     "metadata": {},
     "output_type": "execute_result"
    }
   ],
   "source": [
    "export_keys_list = p.param(\"Export Keys\") # ExportHdf5KeysGroup \n",
    "[str(a_child.name()) for a_child in export_keys_list.children()] # ['/filtered_sessions/maze1/spikes_df', '/filtered_sessions/maze1/pos_df']\n"
   ]
  },
  {
   "cell_type": "code",
   "execution_count": 15,
   "id": "310c165b-218d-4f9c-b865-8f9f88aff415",
   "metadata": {},
   "outputs": [
    {
     "name": "stdout",
     "output_type": "stream",
     "text": [
      "state: {'type': 'group', 'readonly': False, 'visible': True, 'enabled': True, 'renamable': False, 'removable': False, 'strictNaming': False, 'expanded': True, 'syncExpanded': False, 'title': None, 'name': 'ExportParams', 'value': None, 'default': None, 'children': OrderedDict([('Export Path', {'type': 'file', 'readonly': True, 'visible': True, 'enabled': True, 'renamable': False, 'removable': False, 'strictNaming': False, 'expanded': True, 'syncExpanded': False, 'title': None, 'name': 'Export Path', 'dialogLabel': 'test label', 'value': 'data/pipeline_cache_store.h5', 'default': '<Select Path>'}), ('Included Exports', {'type': 'checklist', 'readonly': False, 'visible': True, 'enabled': True, 'renamable': False, 'removable': False, 'strictNaming': False, 'expanded': True, 'syncExpanded': False, 'title': None, 'name': 'Included Exports', 'value': [], 'limits': ['maze1'], 'exclusive': False, 'default': [], 'children': OrderedDict([('maze1', {'type': 'bool', 'readonly': False, 'visible': True, 'enabled': True, 'renamable': False, 'removable': False, 'strictNaming': False, 'expanded': True, 'syncExpanded': False, 'title': None, 'name': 'maze1', 'value': False, 'default': None})])}), ('Export Keys', {'type': 'group', 'readonly': False, 'visible': True, 'enabled': True, 'renamable': False, 'removable': False, 'strictNaming': False, 'expanded': True, 'syncExpanded': False, 'title': None, 'name': 'Export Keys', 'tip': 'Click to add children', 'addText': 'Add Key', 'addList': ['str', 'float', 'int'], 'value': None, 'default': None, 'children': OrderedDict([('/filtered_sessions/maze1/spikes_df', {'type': 'str', 'readonly': False, 'visible': True, 'enabled': True, 'renamable': False, 'removable': False, 'strictNaming': False, 'expanded': True, 'syncExpanded': False, 'title': None, 'name': '/filtered_sessions/maze1/spikes_df', 'value': 'spikes_df', 'default': 'spikes_df'}), ('/filtered_sessions/maze1/pos_df', {'type': 'str', 'readonly': False, 'visible': True, 'enabled': True, 'renamable': False, 'removable': False, 'strictNaming': False, 'expanded': True, 'syncExpanded': False, 'title': None, 'name': '/filtered_sessions/maze1/pos_df', 'value': 'positions_df', 'default': 'positions_df'})])}), ('Export', {'type': 'action', 'readonly': False, 'visible': True, 'enabled': True, 'renamable': False, 'removable': False, 'strictNaming': False, 'expanded': True, 'syncExpanded': False, 'title': None, 'name': 'Export', 'tip': 'Perform the export', 'value': 'Export', 'default': 'Export'})])}\n"
     ]
    }
   ],
   "source": [
    "## test save/restore\n",
    "state = p.saveState()\n",
    "p.restoreState(state)\n",
    "compareState = p.saveState()\n",
    "print(f'state: {state}')\n",
    "assert pg.eq(compareState, state)"
   ]
  },
  {
   "cell_type": "code",
   "execution_count": null,
   "id": "7a20f9ce-25ed-4528-8583-a273b4d7c054",
   "metadata": {},
   "outputs": [],
   "source": [
    "# direct from widget (WORKS):\n",
    "curr_export_path_str = p['Export Path']\n",
    "\n",
    "# from saved state:\n",
    "# curr_export_path_str = state['children']['Export Path']['value']\n",
    "\n",
    "print(f'curr_export_path_str: {curr_export_path_str}')"
   ]
  },
  {
   "cell_type": "code",
   "execution_count": 16,
   "id": "666ded6f-e655-4c18-b953-7af4ab03b518",
   "metadata": {},
   "outputs": [
    {
     "name": "stdout",
     "output_type": "stream",
     "text": [
      "- state: <class 'dict'>\n",
      "\t- type: <class 'str'>\n",
      "\t- readonly: <class 'bool'>\n",
      "\t- visible: <class 'bool'>\n",
      "\t- enabled: <class 'bool'>\n",
      "\t- renamable: <class 'bool'>\n",
      "\t- removable: <class 'bool'>\n",
      "\t- strictNaming: <class 'bool'>\n",
      "\t- expanded: <class 'bool'>\n",
      "\t- syncExpanded: <class 'bool'>\n",
      "\t- title: <class 'NoneType'>\n",
      "\t- name: <class 'str'>\n",
      "\t- value: <class 'NoneType'>\n",
      "\t- default: <class 'NoneType'>\n",
      "\t- children: <class 'collections.OrderedDict'>\n",
      "\t\t- Export Path: <class 'dict'>\n",
      "\t\t\t- type: <class 'str'>\n",
      "\t\t\t- readonly: <class 'bool'>\n",
      "\t\t\t- visible: <class 'bool'>\n",
      "\t\t\t- enabled: <class 'bool'>\n",
      "\t\t\t- renamable: <class 'bool'>\n",
      "\t\t\t- removable: <class 'bool'>\n",
      "\t\t\t- strictNaming: <class 'bool'>\n",
      "\t\t\t- expanded: <class 'bool'>\n",
      "\t\t\t- syncExpanded: <class 'bool'>\n",
      "\t\t\t- title: <class 'NoneType'>\n",
      "\t\t\t- name: <class 'str'>\n",
      "\t\t\t- dialogLabel: <class 'str'>\n",
      "\t\t\t- value: <class 'str'>\n",
      "\t\t\t- default: <class 'str'>\n",
      "\t\t- Included Exports: <class 'dict'>\n",
      "\t\t\t- type: <class 'str'>\n",
      "\t\t\t- readonly: <class 'bool'>\n",
      "\t\t\t- visible: <class 'bool'>\n",
      "\t\t\t- enabled: <class 'bool'>\n",
      "\t\t\t- renamable: <class 'bool'>\n",
      "\t\t\t- removable: <class 'bool'>\n",
      "\t\t\t- strictNaming: <class 'bool'>\n",
      "\t\t\t- expanded: <class 'bool'>\n",
      "\t\t\t- syncExpanded: <class 'bool'>\n",
      "\t\t\t- title: <class 'NoneType'>\n",
      "\t\t\t- name: <class 'str'>\n",
      "\t\t\t- value: <class 'list'> - (0,)\n",
      "\t\t\t- limits: <class 'list'> - (1,)\n",
      "\t\t\t- exclusive: <class 'bool'>\n",
      "\t\t\t- default: <class 'list'> - (0,)\n",
      "\t\t\t- children: <class 'collections.OrderedDict'>\n",
      "\t\t\t\t- maze1: <class 'dict'>\n",
      "\t\t\t\t\t- type: <class 'str'>\n",
      "\t\t\t\t\t- readonly: <class 'bool'>\n",
      "\t\t\t\t\t- visible: <class 'bool'>\n",
      "\t\t\t\t\t- enabled: <class 'bool'>\n",
      "\t\t\t\t\t- renamable: <class 'bool'>\n",
      "\t\t\t\t\t- removable: <class 'bool'>\n",
      "\t\t\t\t\t- strictNaming: <class 'bool'>\n",
      "\t\t\t\t\t- expanded: <class 'bool'>\n",
      "\t\t\t\t\t- syncExpanded: <class 'bool'>\n",
      "\t\t\t\t\t- title: <class 'NoneType'>\n",
      "\t\t\t\t\t- name: <class 'str'>\n",
      "\t\t\t\t\t- value: <class 'bool'>\n",
      "\t\t\t\t\t- default: <class 'NoneType'>\n",
      "\t\t- Export Keys: <class 'dict'>\n",
      "\t\t\t- type: <class 'str'>\n",
      "\t\t\t- readonly: <class 'bool'>\n",
      "\t\t\t- visible: <class 'bool'>\n",
      "\t\t\t- enabled: <class 'bool'>\n",
      "\t\t\t- renamable: <class 'bool'>\n",
      "\t\t\t- removable: <class 'bool'>\n",
      "\t\t\t- strictNaming: <class 'bool'>\n",
      "\t\t\t- expanded: <class 'bool'>\n",
      "\t\t\t- syncExpanded: <class 'bool'>\n",
      "\t\t\t- title: <class 'NoneType'>\n",
      "\t\t\t- name: <class 'str'>\n",
      "\t\t\t- tip: <class 'str'>\n",
      "\t\t\t- addText: <class 'str'>\n",
      "\t\t\t- addList: <class 'list'> - (3,)\n",
      "\t\t\t- value: <class 'NoneType'>\n",
      "\t\t\t- default: <class 'NoneType'>\n",
      "\t\t\t- children: <class 'collections.OrderedDict'>\n",
      "\t\t\t\t- /filtered_sessions/maze1/spikes_df: <class 'dict'>\n",
      "\t\t\t\t\t- type: <class 'str'>\n",
      "\t\t\t\t\t- readonly: <class 'bool'>\n",
      "\t\t\t\t\t- visible: <class 'bool'>\n",
      "\t\t\t\t\t- enabled: <class 'bool'>\n",
      "\t\t\t\t\t- renamable: <class 'bool'>\n",
      "\t\t\t\t\t- removable: <class 'bool'>\n",
      "\t\t\t\t\t- strictNaming: <class 'bool'>\n",
      "\t\t\t\t\t- expanded: <class 'bool'>\n",
      "\t\t\t\t\t- syncExpanded: <class 'bool'>\n",
      "\t\t\t\t\t- title: <class 'NoneType'>\n",
      "\t\t\t\t\t- name: <class 'str'>\n",
      "\t\t\t\t\t- value: <class 'str'>\n",
      "\t\t\t\t\t- default: <class 'str'>\n",
      "\t\t\t\t- /filtered_sessions/maze1/pos_df: <class 'dict'>\n",
      "\t\t\t\t\t- type: <class 'str'>\n",
      "\t\t\t\t\t- readonly: <class 'bool'>\n",
      "\t\t\t\t\t- visible: <class 'bool'>\n",
      "\t\t\t\t\t- enabled: <class 'bool'>\n",
      "\t\t\t\t\t- renamable: <class 'bool'>\n",
      "\t\t\t\t\t- removable: <class 'bool'>\n",
      "\t\t\t\t\t- strictNaming: <class 'bool'>\n",
      "\t\t\t\t\t- expanded: <class 'bool'>\n",
      "\t\t\t\t\t- syncExpanded: <class 'bool'>\n",
      "\t\t\t\t\t- title: <class 'NoneType'>\n",
      "\t\t\t\t\t- name: <class 'str'>\n",
      "\t\t\t\t\t- value: <class 'str'>\n",
      "\t\t\t\t\t- default: <class 'str'>\n",
      "\t\t- Export: <class 'dict'>\n",
      "\t\t\t- type: <class 'str'>\n",
      "\t\t\t- readonly: <class 'bool'>\n",
      "\t\t\t- visible: <class 'bool'>\n",
      "\t\t\t- enabled: <class 'bool'>\n",
      "\t\t\t- renamable: <class 'bool'>\n",
      "\t\t\t- removable: <class 'bool'>\n",
      "\t\t\t- strictNaming: <class 'bool'>\n",
      "\t\t\t- expanded: <class 'bool'>\n",
      "\t\t\t- syncExpanded: <class 'bool'>\n",
      "\t\t\t- title: <class 'NoneType'>\n",
      "\t\t\t- name: <class 'str'>\n",
      "\t\t\t- tip: <class 'str'>\n",
      "\t\t\t- value: <class 'str'>\n",
      "\t\t\t- default: <class 'str'>\n"
     ]
    }
   ],
   "source": [
    "from pyphocorehelpers.print_helpers import print_keys_if_possible, print_value_overview_only\n",
    "\n",
    "print_keys_if_possible('state', state)"
   ]
  },
  {
   "cell_type": "markdown",
   "id": "69fdfa26-0bd2-4a1d-bcbf-c203c30a4bb1",
   "metadata": {},
   "source": [
    "# Reference"
   ]
  },
  {
   "cell_type": "markdown",
   "id": "16adaec8-5c08-4270-810a-e9da35223a41",
   "metadata": {},
   "source": [
    "## Widget Reference"
   ]
  },
  {
   "cell_type": "markdown",
   "id": "c9643228-990a-44df-9592-91cdc0ba8045",
   "metadata": {},
   "source": [
    "### Qt QFormLayout example"
   ]
  },
  {
   "cell_type": "code",
   "execution_count": null,
   "id": "01510043-6617-4e38-8c8d-6f9c78b658ef",
   "metadata": {},
   "outputs": [],
   "source": [
    "win = QtWidgets.QWidget()\n",
    "\n",
    "l1 = QtWidgets.QLabel(\"Name\")\n",
    "nm = QtWidgets.QLineEdit()\n",
    "\n",
    "l2 = QtWidgets.QLabel(\"Address\")\n",
    "add1 = QtWidgets.QLineEdit()\n",
    "add2 = QtWidgets.QLineEdit()\n",
    "fbox = QtWidgets.QFormLayout()\n",
    "fbox.addRow(l1,nm)\n",
    "vbox = QtWidgets.QVBoxLayout()\n",
    "\n",
    "vbox.addWidget(add1)\n",
    "vbox.addWidget(add2)\n",
    "fbox.addRow(l2,vbox)\n",
    "hbox = QtWidgets.QHBoxLayout()\n",
    "\n",
    "r1 = QtWidgets.QRadioButton(\"Male\")\n",
    "r2 = QtWidgets.QRadioButton(\"Female\")\n",
    "hbox.addWidget(r1)\n",
    "hbox.addWidget(r2)\n",
    "hbox.addStretch()\n",
    "fbox.addRow(QtWidgets.QLabel(\"sex\"), hbox)\n",
    "fbox.addRow(QtWidgets.QPushButton(\"Submit\"), QtWidgets.QPushButton(\"Cancel\"))\n",
    "\n",
    "win.setLayout(fbox)\n",
    "\n",
    "win.setWindowTitle(\"PyQt\")\n",
    "win.show()"
   ]
  },
  {
   "attachments": {
    "662f813c-5020-4884-85aa-9cb6b1d5bf0e.png": {
     "image/png": "[encoded data removed]"
    }
   },
   "cell_type": "markdown",
   "id": "aec977d3-211a-43f7-807d-6ee6d435c81d",
   "metadata": {},
   "source": [
    "![image.png](attachment:662f813c-5020-4884-85aa-9cb6b1d5bf0e.png)"
   ]
  },
  {
   "cell_type": "code",
   "execution_count": null,
   "id": "75b7a242-33d9-46fa-8ad1-833aed06366c",
   "metadata": {},
   "outputs": [],
   "source": []
  }
 ],
 "metadata": {
  "kernelspec": {
   "display_name": "Python [conda env:phoviz_ultimate]",
   "language": "python",
   "name": "conda-env-phoviz_ultimate-py"
  },
  "language_info": {
   "codemirror_mode": {
    "name": "ipython",
    "version": 3
   },
   "file_extension": ".py",
   "mimetype": "text/x-python",
   "name": "python",
   "nbconvert_exporter": "python",
   "pygments_lexer": "ipython3",
   "version": "3.9.12"
  }
 },
 "nbformat": 4,
 "nbformat_minor": 5
}
