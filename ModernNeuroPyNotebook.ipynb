{
 "cells": [
  {
   "cell_type": "code",
   "execution_count": 1,
   "id": "01a4accd-84e0-422f-87d1-3f26a5dc0ce7",
   "metadata": {},
   "outputs": [],
   "source": [
    "\"\"\"\n",
    "@author: pho\n",
    "\n",
    "A fresh start using modern pipeline methods without all the excessive imports. Created by Pho on 2022-06-14\n",
    "\n",
    "\"\"\"\n",
    "# noinspection JupyterPackage\n",
    "%load_ext autoreload\n",
    "%autoreload 2\n",
    "import sys\n",
    "import importlib\n",
    "\n",
    "from numba import jit\n",
    "import numpy as np\n",
    "import pandas as pd\n",
    "\n",
    "# required to enable non-blocking interaction:\n",
    "%gui qt5\n",
    "\n",
    "import pyphoplacecellanalysis.External.pyqtgraph as pg\n",
    "from pyphoplacecellanalysis.External.pyqtgraph.Qt import QtCore, QtGui, QtWidgets\n",
    "\n",
    "# Pho's Formatting Preferences\n",
    "from pyphocorehelpers.preferences_helpers import set_pho_preferences\n",
    "set_pho_preferences()\n",
    "np.set_printoptions(edgeitems=30, linewidth=100000, formatter=dict(float=lambda x: \"%g\" % x))\n",
    "\n",
    "%config Completer.use_jedi = False"
   ]
  },
  {
   "cell_type": "code",
   "execution_count": 2,
   "id": "f8667519-660b-415c-8a54-f3548172bd5a",
   "metadata": {},
   "outputs": [
    {
     "ename": "ModuleNotFoundError",
     "evalue": "No module named 'pybursts'",
     "output_type": "error",
     "traceback": [
      "\u001b[1;31m---------------------------------------------------------------------------\u001b[0m",
      "\u001b[1;31mModuleNotFoundError\u001b[0m                       Traceback (most recent call last)",
      "Input \u001b[1;32mIn [2]\u001b[0m, in \u001b[0;36m<cell line: 7>\u001b[1;34m()\u001b[0m\n\u001b[0;32m      5\u001b[0m \u001b[38;5;28;01mfrom\u001b[39;00m \u001b[38;5;21;01mpyphoplacecellanalysis\u001b[39;00m\u001b[38;5;21;01m.\u001b[39;00m\u001b[38;5;21;01mExternal\u001b[39;00m\u001b[38;5;21;01m.\u001b[39;00m\u001b[38;5;21;01mpyqtgraph\u001b[39;00m\u001b[38;5;21;01m.\u001b[39;00m\u001b[38;5;21;01mflowchart\u001b[39;00m \u001b[38;5;28;01mimport\u001b[39;00m Flowchart, Node\n\u001b[0;32m      6\u001b[0m \u001b[38;5;28;01mimport\u001b[39;00m \u001b[38;5;21;01mpyphoplacecellanalysis\u001b[39;00m\u001b[38;5;21;01m.\u001b[39;00m\u001b[38;5;21;01mExternal\u001b[39;00m\u001b[38;5;21;01m.\u001b[39;00m\u001b[38;5;21;01mpyqtgraph\u001b[39;00m\u001b[38;5;21;01m.\u001b[39;00m\u001b[38;5;21;01mflowchart\u001b[39;00m\u001b[38;5;21;01m.\u001b[39;00m\u001b[38;5;21;01mlibrary\u001b[39;00m \u001b[38;5;28;01mas\u001b[39;00m \u001b[38;5;21;01mfclib\u001b[39;00m\n\u001b[1;32m----> 7\u001b[0m \u001b[38;5;28;01mfrom\u001b[39;00m \u001b[38;5;21;01mpyphoplacecellanalysis\u001b[39;00m\u001b[38;5;21;01m.\u001b[39;00m\u001b[38;5;21;01mGUI\u001b[39;00m\u001b[38;5;21;01m.\u001b[39;00m\u001b[38;5;21;01mPyQtPlot\u001b[39;00m\u001b[38;5;21;01m.\u001b[39;00m\u001b[38;5;21;01mFlowchart\u001b[39;00m\u001b[38;5;21;01m.\u001b[39;00m\u001b[38;5;21;01mReloadableNodeLibrary\u001b[39;00m \u001b[38;5;28;01mimport\u001b[39;00m ReloadableNodeLibrary\n\u001b[0;32m      9\u001b[0m \u001b[38;5;28;01mfrom\u001b[39;00m \u001b[38;5;21;01mpyphoplacecellanalysis\u001b[39;00m\u001b[38;5;21;01m.\u001b[39;00m\u001b[38;5;21;01mGUI\u001b[39;00m\u001b[38;5;21;01m.\u001b[39;00m\u001b[38;5;21;01mQt\u001b[39;00m\u001b[38;5;21;01m.\u001b[39;00m\u001b[38;5;21;01mMainApplicationWindows\u001b[39;00m\u001b[38;5;21;01m.\u001b[39;00m\u001b[38;5;21;01mPhoPipelineMainWindow\u001b[39;00m\u001b[38;5;21;01m.\u001b[39;00m\u001b[38;5;21;01mpyqtplot_MainWindow\u001b[39;00m \u001b[38;5;28;01mimport\u001b[39;00m PhoPipelineMainWindow\n",
      "File \u001b[1;32mc:\\users\\pho\\repos\\pyphoplacecellanalysis\\src\\pyphoplacecellanalysis\\GUI\\PyQtPlot\\Flowchart\\ReloadableNodeLibrary.py:9\u001b[0m, in \u001b[0;36m<module>\u001b[1;34m\u001b[0m\n\u001b[0;32m      6\u001b[0m \u001b[38;5;28;01mfrom\u001b[39;00m \u001b[38;5;21;01mpyphoplacecellanalysis\u001b[39;00m\u001b[38;5;21;01m.\u001b[39;00m\u001b[38;5;21;01mGUI\u001b[39;00m\u001b[38;5;21;01m.\u001b[39;00m\u001b[38;5;21;01mPyQtPlot\u001b[39;00m\u001b[38;5;21;01m.\u001b[39;00m\u001b[38;5;21;01mFlowchart\u001b[39;00m\u001b[38;5;21;01m.\u001b[39;00m\u001b[38;5;21;01mCustomNodes\u001b[39;00m\u001b[38;5;21;01m.\u001b[39;00m\u001b[38;5;21;01mDisplayNodes\u001b[39;00m\u001b[38;5;21;01m.\u001b[39;00m\u001b[38;5;21;01mImageViewNode\u001b[39;00m \u001b[38;5;28;01mimport\u001b[39;00m ImageViewNode\n\u001b[0;32m      7\u001b[0m \u001b[38;5;28;01mfrom\u001b[39;00m \u001b[38;5;21;01mpyphoplacecellanalysis\u001b[39;00m\u001b[38;5;21;01m.\u001b[39;00m\u001b[38;5;21;01mGUI\u001b[39;00m\u001b[38;5;21;01m.\u001b[39;00m\u001b[38;5;21;01mPyQtPlot\u001b[39;00m\u001b[38;5;21;01m.\u001b[39;00m\u001b[38;5;21;01mFlowchart\u001b[39;00m\u001b[38;5;21;01m.\u001b[39;00m\u001b[38;5;21;01mCustomNodes\u001b[39;00m\u001b[38;5;21;01m.\u001b[39;00m\u001b[38;5;21;01mDisplayNodes\u001b[39;00m\u001b[38;5;21;01m.\u001b[39;00m\u001b[38;5;21;01mUnsharpMaskNode\u001b[39;00m \u001b[38;5;28;01mimport\u001b[39;00m UnsharpMaskNode\n\u001b[1;32m----> 9\u001b[0m \u001b[38;5;28;01mfrom\u001b[39;00m \u001b[38;5;21;01mpyphoplacecellanalysis\u001b[39;00m\u001b[38;5;21;01m.\u001b[39;00m\u001b[38;5;21;01mGUI\u001b[39;00m\u001b[38;5;21;01m.\u001b[39;00m\u001b[38;5;21;01mPyQtPlot\u001b[39;00m\u001b[38;5;21;01m.\u001b[39;00m\u001b[38;5;21;01mFlowchart\u001b[39;00m\u001b[38;5;21;01m.\u001b[39;00m\u001b[38;5;21;01mCustomNodes\u001b[39;00m\u001b[38;5;21;01m.\u001b[39;00m\u001b[38;5;21;01mBasePipeline\u001b[39;00m\u001b[38;5;21;01m.\u001b[39;00m\u001b[38;5;21;01mPipelineInputDataNode\u001b[39;00m \u001b[38;5;28;01mimport\u001b[39;00m PipelineInputDataNode\n\u001b[0;32m     10\u001b[0m \u001b[38;5;28;01mfrom\u001b[39;00m \u001b[38;5;21;01mpyphoplacecellanalysis\u001b[39;00m\u001b[38;5;21;01m.\u001b[39;00m\u001b[38;5;21;01mGUI\u001b[39;00m\u001b[38;5;21;01m.\u001b[39;00m\u001b[38;5;21;01mPyQtPlot\u001b[39;00m\u001b[38;5;21;01m.\u001b[39;00m\u001b[38;5;21;01mFlowchart\u001b[39;00m\u001b[38;5;21;01m.\u001b[39;00m\u001b[38;5;21;01mCustomNodes\u001b[39;00m\u001b[38;5;21;01m.\u001b[39;00m\u001b[38;5;21;01mBasePipeline\u001b[39;00m\u001b[38;5;21;01m.\u001b[39;00m\u001b[38;5;21;01mPipelineFilteringDataNode\u001b[39;00m \u001b[38;5;28;01mimport\u001b[39;00m PipelineFilteringDataNode\n\u001b[0;32m     11\u001b[0m \u001b[38;5;28;01mfrom\u001b[39;00m \u001b[38;5;21;01mpyphoplacecellanalysis\u001b[39;00m\u001b[38;5;21;01m.\u001b[39;00m\u001b[38;5;21;01mGUI\u001b[39;00m\u001b[38;5;21;01m.\u001b[39;00m\u001b[38;5;21;01mPyQtPlot\u001b[39;00m\u001b[38;5;21;01m.\u001b[39;00m\u001b[38;5;21;01mFlowchart\u001b[39;00m\u001b[38;5;21;01m.\u001b[39;00m\u001b[38;5;21;01mCustomNodes\u001b[39;00m\u001b[38;5;21;01m.\u001b[39;00m\u001b[38;5;21;01mBasePipeline\u001b[39;00m\u001b[38;5;21;01m.\u001b[39;00m\u001b[38;5;21;01mPipelineComputationsNode\u001b[39;00m \u001b[38;5;28;01mimport\u001b[39;00m PipelineComputationsNode\n",
      "File \u001b[1;32mc:\\users\\pho\\repos\\pyphoplacecellanalysis\\src\\pyphoplacecellanalysis\\GUI\\PyQtPlot\\Flowchart\\CustomNodes\\BasePipeline\\PipelineInputDataNode.py:13\u001b[0m, in \u001b[0;36m<module>\u001b[1;34m\u001b[0m\n\u001b[0;32m     11\u001b[0m \u001b[38;5;28;01mfrom\u001b[39;00m \u001b[38;5;21;01mpyphoplacecellanalysis\u001b[39;00m\u001b[38;5;21;01m.\u001b[39;00m\u001b[38;5;21;01mGeneral\u001b[39;00m\u001b[38;5;21;01m.\u001b[39;00m\u001b[38;5;21;01mKnownDataSessionTypeProperties\u001b[39;00m \u001b[38;5;28;01mimport\u001b[39;00m KnownDataSessionTypeProperties\n\u001b[0;32m     12\u001b[0m \u001b[38;5;66;03m# pyPhoPlaceCellAnalysis:\u001b[39;00m\n\u001b[1;32m---> 13\u001b[0m \u001b[38;5;28;01mfrom\u001b[39;00m \u001b[38;5;21;01mpyphoplacecellanalysis\u001b[39;00m\u001b[38;5;21;01m.\u001b[39;00m\u001b[38;5;21;01mGeneral\u001b[39;00m\u001b[38;5;21;01m.\u001b[39;00m\u001b[38;5;21;01mPipeline\u001b[39;00m\u001b[38;5;21;01m.\u001b[39;00m\u001b[38;5;21;01mNeuropyPipeline\u001b[39;00m \u001b[38;5;28;01mimport\u001b[39;00m NeuropyPipeline \u001b[38;5;66;03m# get_neuron_identities\u001b[39;00m\n\u001b[0;32m     14\u001b[0m \u001b[38;5;28;01mfrom\u001b[39;00m \u001b[38;5;21;01mpyphoplacecellanalysis\u001b[39;00m\u001b[38;5;21;01m.\u001b[39;00m\u001b[38;5;21;01mGUI\u001b[39;00m\u001b[38;5;21;01m.\u001b[39;00m\u001b[38;5;21;01mPyQtPlot\u001b[39;00m\u001b[38;5;21;01m.\u001b[39;00m\u001b[38;5;21;01mFlowchart\u001b[39;00m\u001b[38;5;21;01m.\u001b[39;00m\u001b[38;5;21;01mCustomNodes\u001b[39;00m\u001b[38;5;21;01m.\u001b[39;00m\u001b[38;5;21;01mMiscNodes\u001b[39;00m\u001b[38;5;21;01m.\u001b[39;00m\u001b[38;5;21;01mExtendedCtrlNode\u001b[39;00m \u001b[38;5;28;01mimport\u001b[39;00m ExtendedCtrlNode\n\u001b[0;32m     16\u001b[0m \u001b[38;5;66;03m# Neuropy:\u001b[39;00m\n",
      "File \u001b[1;32mc:\\users\\pho\\repos\\pyphoplacecellanalysis\\src\\pyphoplacecellanalysis\\General\\Pipeline\\NeuropyPipeline.py:16\u001b[0m, in \u001b[0;36m<module>\u001b[1;34m\u001b[0m\n\u001b[0;32m     14\u001b[0m \u001b[38;5;28;01mimport\u001b[39;00m \u001b[38;5;21;01mnumpy\u001b[39;00m \u001b[38;5;28;01mas\u001b[39;00m \u001b[38;5;21;01mnp\u001b[39;00m\n\u001b[0;32m     15\u001b[0m \u001b[38;5;28;01mimport\u001b[39;00m \u001b[38;5;21;01mpandas\u001b[39;00m \u001b[38;5;28;01mas\u001b[39;00m \u001b[38;5;21;01mpd\u001b[39;00m\n\u001b[1;32m---> 16\u001b[0m \u001b[38;5;28;01mfrom\u001b[39;00m \u001b[38;5;21;01mpyphoplacecellanalysis\u001b[39;00m\u001b[38;5;21;01m.\u001b[39;00m\u001b[38;5;21;01mGeneral\u001b[39;00m\u001b[38;5;21;01m.\u001b[39;00m\u001b[38;5;21;01mPipeline\u001b[39;00m\u001b[38;5;21;01m.\u001b[39;00m\u001b[38;5;21;01mStages\u001b[39;00m\u001b[38;5;21;01m.\u001b[39;00m\u001b[38;5;21;01mComputation\u001b[39;00m \u001b[38;5;28;01mimport\u001b[39;00m PipelineWithComputedPipelineStageMixin, ComputedPipelineStage\n\u001b[0;32m     17\u001b[0m \u001b[38;5;28;01mfrom\u001b[39;00m \u001b[38;5;21;01mpyphoplacecellanalysis\u001b[39;00m\u001b[38;5;21;01m.\u001b[39;00m\u001b[38;5;21;01mGeneral\u001b[39;00m\u001b[38;5;21;01m.\u001b[39;00m\u001b[38;5;21;01mPipeline\u001b[39;00m\u001b[38;5;21;01m.\u001b[39;00m\u001b[38;5;21;01mStages\u001b[39;00m\u001b[38;5;21;01m.\u001b[39;00m\u001b[38;5;21;01mDisplay\u001b[39;00m \u001b[38;5;28;01mimport\u001b[39;00m PipelineWithDisplayPipelineStageMixin\n\u001b[0;32m     18\u001b[0m \u001b[38;5;28;01mfrom\u001b[39;00m \u001b[38;5;21;01mpyphoplacecellanalysis\u001b[39;00m\u001b[38;5;21;01m.\u001b[39;00m\u001b[38;5;21;01mGeneral\u001b[39;00m\u001b[38;5;21;01m.\u001b[39;00m\u001b[38;5;21;01mPipeline\u001b[39;00m\u001b[38;5;21;01m.\u001b[39;00m\u001b[38;5;21;01mStages\u001b[39;00m\u001b[38;5;21;01m.\u001b[39;00m\u001b[38;5;21;01mFiltering\u001b[39;00m \u001b[38;5;28;01mimport\u001b[39;00m FilteredPipelineMixin\n",
      "File \u001b[1;32mc:\\users\\pho\\repos\\pyphoplacecellanalysis\\src\\pyphoplacecellanalysis\\General\\Pipeline\\Stages\\Computation.py:21\u001b[0m, in \u001b[0;36m<module>\u001b[1;34m\u001b[0m\n\u001b[0;32m     19\u001b[0m \u001b[38;5;28;01mfrom\u001b[39;00m \u001b[38;5;21;01mpyphoplacecellanalysis\u001b[39;00m\u001b[38;5;21;01m.\u001b[39;00m\u001b[38;5;21;01mGeneral\u001b[39;00m\u001b[38;5;21;01m.\u001b[39;00m\u001b[38;5;21;01mPipeline\u001b[39;00m\u001b[38;5;21;01m.\u001b[39;00m\u001b[38;5;21;01mStages\u001b[39;00m\u001b[38;5;21;01m.\u001b[39;00m\u001b[38;5;21;01mComputationFunctions\u001b[39;00m\u001b[38;5;21;01m.\u001b[39;00m\u001b[38;5;21;01mDefaultComputationFunctions\u001b[39;00m \u001b[38;5;28;01mimport\u001b[39;00m DefaultComputationFunctions\n\u001b[0;32m     20\u001b[0m \u001b[38;5;28;01mfrom\u001b[39;00m \u001b[38;5;21;01mpyphoplacecellanalysis\u001b[39;00m\u001b[38;5;21;01m.\u001b[39;00m\u001b[38;5;21;01mGeneral\u001b[39;00m\u001b[38;5;21;01m.\u001b[39;00m\u001b[38;5;21;01mPipeline\u001b[39;00m\u001b[38;5;21;01m.\u001b[39;00m\u001b[38;5;21;01mStages\u001b[39;00m\u001b[38;5;21;01m.\u001b[39;00m\u001b[38;5;21;01mComputationFunctions\u001b[39;00m\u001b[38;5;21;01m.\u001b[39;00m\u001b[38;5;21;01mExtendedStats\u001b[39;00m \u001b[38;5;28;01mimport\u001b[39;00m ExtendedStatsComputations\n\u001b[1;32m---> 21\u001b[0m \u001b[38;5;28;01mfrom\u001b[39;00m \u001b[38;5;21;01mpyphoplacecellanalysis\u001b[39;00m\u001b[38;5;21;01m.\u001b[39;00m\u001b[38;5;21;01mGeneral\u001b[39;00m\u001b[38;5;21;01m.\u001b[39;00m\u001b[38;5;21;01mPipeline\u001b[39;00m\u001b[38;5;21;01m.\u001b[39;00m\u001b[38;5;21;01mStages\u001b[39;00m\u001b[38;5;21;01m.\u001b[39;00m\u001b[38;5;21;01mComputationFunctions\u001b[39;00m\u001b[38;5;21;01m.\u001b[39;00m\u001b[38;5;21;01mSpikeAnalysis\u001b[39;00m \u001b[38;5;28;01mimport\u001b[39;00m SpikeAnalysisComputations\n\u001b[0;32m     25\u001b[0m \u001b[38;5;28;01mclass\u001b[39;00m \u001b[38;5;21;01mComputablePipelineStage\u001b[39;00m:\n\u001b[0;32m     26\u001b[0m     \u001b[38;5;124;03m\"\"\" Designates that a pipeline stage is computable. \"\"\"\u001b[39;00m\n",
      "File \u001b[1;32mc:\\users\\pho\\repos\\pyphoplacecellanalysis\\src\\pyphoplacecellanalysis\\General\\Pipeline\\Stages\\ComputationFunctions\\SpikeAnalysis.py:10\u001b[0m, in \u001b[0;36m<module>\u001b[1;34m\u001b[0m\n\u001b[0;32m      4\u001b[0m \u001b[38;5;28;01mimport\u001b[39;00m \u001b[38;5;21;01mitertools\u001b[39;00m\n\u001b[0;32m      6\u001b[0m \u001b[38;5;66;03m# from neurodsp.burst import detect_bursts_dual_threshold, compute_burst_stats\u001b[39;00m\n\u001b[0;32m      7\u001b[0m \u001b[38;5;66;03m# from neurodsp.plts.time_series import plot_time_series, plot_bursts # for plotting results\u001b[39;00m\n\u001b[0;32m      8\u001b[0m \n\u001b[0;32m      9\u001b[0m \u001b[38;5;66;03m# PyBursts:\u001b[39;00m\n\u001b[1;32m---> 10\u001b[0m \u001b[38;5;28;01mfrom\u001b[39;00m \u001b[38;5;21;01mpybursts\u001b[39;00m \u001b[38;5;28;01mimport\u001b[39;00m pybursts\n\u001b[0;32m     12\u001b[0m \u001b[38;5;66;03m# For Progress bars:\u001b[39;00m\n\u001b[0;32m     13\u001b[0m \u001b[38;5;28;01mfrom\u001b[39;00m \u001b[38;5;21;01mtqdm\u001b[39;00m\u001b[38;5;21;01m.\u001b[39;00m\u001b[38;5;21;01mnotebook\u001b[39;00m \u001b[38;5;28;01mimport\u001b[39;00m tqdm\n",
      "\u001b[1;31mModuleNotFoundError\u001b[0m: No module named 'pybursts'"
     ]
    }
   ],
   "source": [
    "# from pyphoplacecellanalysis.GUI.Qt\n",
    "# from pyqtplot_MainWindow import PhoPipelineMainWindow\n",
    "# from pyphoplacecellanalysis.GUI.Qt.MainApplicationWindows.PhoMainPipelineWindow.pyqtplot_MainWindow import PhoPipelineMainWindow\n",
    "\n",
    "from pyphoplacecellanalysis.External.pyqtgraph.flowchart import Flowchart, Node\n",
    "import pyphoplacecellanalysis.External.pyqtgraph.flowchart.library as fclib\n",
    "from pyphoplacecellanalysis.GUI.PyQtPlot.Flowchart.ReloadableNodeLibrary import ReloadableNodeLibrary\n",
    "\n",
    "from pyphoplacecellanalysis.GUI.Qt.MainApplicationWindows.PhoPipelineMainWindow.pyqtplot_MainWindow import PhoPipelineMainWindow\n",
    "\n",
    "# GUI.Qt.MainApplicationWindows.PhoPipelineMainWindow.pyqtplot_MainWindow\n",
    "\n",
    "# PhoMainPipelineWindow.pyqtplot_MainWindow import PhoPipelineMainWindow\n"
   ]
  },
  {
   "cell_type": "code",
   "execution_count": null,
   "id": "13db9606-53e1-4f4f-af4a-ea3a2af7c642",
   "metadata": {},
   "outputs": [],
   "source": [
    "# from pyphoplacecellanalysis.GUI.PyQtPlot.Flowchart.pyqtplot_Flowchart import plot_flowchartWidget\n",
    "# pipeline_flowchart_window, pipeline_flowchart_app = plot_flowchartWidget(title='PhoMainPipelineFlowchartApp')\n",
    "# Add the flowchart widget. This is actually not the programmatic programming environment itself, it's the column that lists the nodes and lets you set their parameters.\n",
    "# flowchart_controls_widget = mainAppWindow.flowchart.widget()"
   ]
  },
  {
   "cell_type": "code",
   "execution_count": null,
   "id": "e4c9fd65-e574-4de9-a85f-b51d2bd52340",
   "metadata": {},
   "outputs": [],
   "source": [
    "\n",
    "## Create an empty flowchart with a single input and output\n",
    "flowchart = Flowchart(terminals={\n",
    "    'dataIn': {'io': 'in'},\n",
    "    'dataOut': {'io': 'out'}    \n",
    "})\n",
    "\n",
    "\n",
    "# # Add the flowchart widget. This is actually not the programmatic programming environment itself, it's the column that lists the nodes and lets you set their parameters.\n",
    "# flowchart_controls_widget = flowchart.widget()\n",
    "pipeline_start_x = 0\n",
    "flowchart.setInput(dataIn=None)\n",
    "\n",
    "# Setup the nodes in the flowchart:\n",
    "ReloadableNodeLibrary.setup_custom_node_library(flowchart)\n",
    "\n",
    "# Create the nodes:\n",
    "pipeline_input_node = flowchart.createNode('PipelineInputDataNode', pos=(pipeline_start_x-400, 50))\n",
    "\n",
    "pipeline_filter_node = flowchart.createNode('PipelineFilteringDataNode', pos=(pipeline_start_x-26, 50))\n",
    "\n",
    "pipeline_computation_node = flowchart.createNode('PipelineComputationsNode', pos=(pipeline_start_x+154, 50))\n",
    "\n",
    "# pipeline_display_node = flowchart.createNode('PipelineDisplayNode', pos=(pipeline_start_x+280, 120))\n",
    "\n",
    "# # Pipeline Result Visualization Node:\n",
    "# pipeline_result_viz_node = flowchart.createNode('PipelineResultVisNode', pos=(pipeline_start_x+280, 220))\n",
    "# pipeline_result_viz_node.on_add_function = on_add_function\n",
    "# pipeline_result_viz_node.on_remove_function = on_remove_function\n",
    "flowchart"
   ]
  },
  {
   "cell_type": "code",
   "execution_count": null,
   "id": "1719c06b-e92e-4677-8873-e11de7705a5c",
   "metadata": {},
   "outputs": [],
   "source": [
    "## Note: can do programmatic updates on the nodes via:\n",
    "\"\"\"\n",
    "## get the Node's control widget and place it inside the main window\n",
    "filterCtrl = filterNode.ctrlWidget()\n",
    "someLayout.addWidget(filterCtrl)\n",
    "\n",
    "## later on, process data through the node\n",
    "filteredData = filterNode.process(inputTerminal=rawData)\n",
    "\n",
    "\"\"\""
   ]
  },
  {
   "cell_type": "code",
   "execution_count": null,
   "id": "01c4a992-d1af-4dce-a95a-63cbd2214d7e",
   "metadata": {},
   "outputs": [],
   "source": [
    "## Wire them up:\n",
    "\n",
    "# Setup connections:\n",
    "flowchart.connectTerminals(flowchart['dataIn'], pipeline_input_node['known_mode'])\n",
    "\n",
    "# Input Node Outputs:\n",
    "flowchart.connectTerminals(pipeline_input_node['loaded_pipeline'], pipeline_filter_node['pipeline'])\n",
    "flowchart.connectTerminals(pipeline_input_node['known_data_mode'], pipeline_filter_node['active_data_mode'])\n",
    "\n",
    "# flowchart.connectTerminals(pipeline_input_node['known_data_mode'], pipeline_display_node['mode'])\n",
    "\n",
    "# Filter Node Outputs:\n",
    "flowchart.connectTerminals(pipeline_filter_node['filtered_pipeline'], pipeline_computation_node['pipeline'])\n",
    "flowchart.connectTerminals(pipeline_filter_node['computation_configs'], pipeline_computation_node['computation_configs'])\n",
    "# flowchart.connectTerminals(pipeline_filter_node['filter_configs'], pipeline_display_node['filter_configs'])\n",
    "\n",
    "# Computation Node Outputs:\n",
    "# flowchart.connectTerminals(pipeline_computation_node['computed_pipeline'], pipeline_display_node['pipeline'])\n",
    "# flowchart.connectTerminals(pipeline_computation_node['updated_computation_configs'], pipeline_display_node['computation_configs'])\n",
    "\n",
    "# flowchart.connectTerminals(pipeline_computation_node['computed_pipeline'], pipeline_result_viz_node['pipeline'])\n",
    "# flowchart.connectTerminals(pipeline_computation_node['updated_computation_configs'], pipeline_result_viz_node['computation_configs'])\n",
    "\n",
    "flowchart.connectTerminals(pipeline_computation_node['computed_pipeline'], flowchart['dataOut']) # raw pipeline output from computation node\n"
   ]
  },
  {
   "cell_type": "code",
   "execution_count": null,
   "id": "c86c0f13-396f-40cf-a9fa-abb907ea9029",
   "metadata": {},
   "outputs": [],
   "source": [
    "## Build Controls to set node parameters:\n",
    "inputCtrl = pipeline_input_node.ctrlWidget()\n",
    "filterCtrl = pipeline_filter_node.ctrlWidget()\n",
    "computationCtrl = pipeline_computation_node.ctrlWidget()"
   ]
  },
  {
   "cell_type": "code",
   "execution_count": null,
   "id": "644fcf5e-d377-4815-9753-93bdb123218c",
   "metadata": {
    "scrolled": true,
    "tags": []
   },
   "outputs": [],
   "source": [
    "# Add the controls to a layout:\n",
    "layout_widget = pg.LayoutWidget()\n",
    "layout_widget.setWindowTitle('Manu Flowchar Widget Display')\n",
    "\n",
    "# (inputCtrl, filterCtrl, computationCtrl)\n",
    "layout_widget.addWidget(inputCtrl, row=0, col=0)\n",
    "layout_widget.addWidget(filterCtrl, row=1, col=0)\n",
    "layout_widget.addWidget(computationCtrl, row=2, col=0)\n",
    "layout_widget.show()\n",
    "layout_widget.resize(800,900)"
   ]
  },
  {
   "cell_type": "code",
   "execution_count": null,
   "id": "292bfa10-5e64-45f0-8c29-ded99ab927ba",
   "metadata": {},
   "outputs": [],
   "source": [
    "layout_widget = None"
   ]
  },
  {
   "cell_type": "code",
   "execution_count": null,
   "id": "5bf3b748-d8fd-415a-9399-4dd5e7652abf",
   "metadata": {},
   "outputs": [],
   "source": [
    "## Where is the result from .process(...) going?\n",
    "\n",
    "## later on, process data through the node\n",
    "filteredData = filterNode.process(inputTerminal=rawData)"
   ]
  },
  {
   "cell_type": "code",
   "execution_count": null,
   "id": "319f4215-e98c-4d67-8e4f-3d8e2f140cb5",
   "metadata": {},
   "outputs": [],
   "source": [
    "flowchart_controls_widget = flowchart.widget() # FlowchartCtrlWidget\n",
    "flowchart_window = flowchart_controls_widget.cwWin\n",
    "\n",
    "pipeline_flowchart_nodes = pipeline_flowchart.nodes()"
   ]
  },
  {
   "cell_type": "code",
   "execution_count": null,
   "id": "c8476fde-113f-45a4-a624-60cbe4116261",
   "metadata": {},
   "outputs": [],
   "source": [
    "## Try to extract the results into the Jupyter-lab notebook from the Flowchart nodes:\n",
    "# Note this works, meaning I can get the values just like I do in the regular Jupyter-Lab notebook\n",
    "computation_outputs = pipeline_computation_node.outputs()['computed_pipeline'].value()\n",
    "computation_outputs"
   ]
  },
  {
   "cell_type": "code",
   "execution_count": null,
   "id": "4da9abb5-08d0-4341-961d-0a386572cf0f",
   "metadata": {},
   "outputs": [],
   "source": [
    "display_outputs = curr_node.outputs()['display_outputs'].value()"
   ]
  }
 ],
 "metadata": {
  "kernelspec": {
   "display_name": "Python [conda env:phoviz_ultimate]",
   "language": "python",
   "name": "conda-env-phoviz_ultimate-py"
  },
  "language_info": {
   "codemirror_mode": {
    "name": "ipython",
    "version": 3
   },
   "file_extension": ".py",
   "mimetype": "text/x-python",
   "name": "python",
   "nbconvert_exporter": "python",
   "pygments_lexer": "ipython3",
   "version": "3.9.10"
  }
 },
 "nbformat": 4,
 "nbformat_minor": 5
}
