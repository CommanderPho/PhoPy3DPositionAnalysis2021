{
 "cells": [
  {
   "cell_type": "code",
   "execution_count": 1,
   "id": "01a4accd-84e0-422f-87d1-3f26a5dc0ce7",
   "metadata": {},
   "outputs": [],
   "source": [
    "\"\"\"\n",
    "@author: pho\n",
    "\n",
    "A fresh start using modern pipeline methods without all the excessive imports. Created by Pho on 2022-06-14\n",
    "\n",
    "\"\"\"\n",
    "# noinspection JupyterPackage\n",
    "%load_ext autoreload\n",
    "%autoreload 2\n",
    "import sys\n",
    "import importlib\n",
    "\n",
    "from numba import jit\n",
    "import numpy as np\n",
    "import pandas as pd\n",
    "\n",
    "# required to enable non-blocking interaction:\n",
    "%gui qt5\n",
    "\n",
    "\n",
    "from pyphocorehelpers.gui.PhoUIContainer import PhoUIContainer\n",
    "import pyphoplacecellanalysis.External.pyqtgraph as pg\n",
    "from pyphoplacecellanalysis.External.pyqtgraph.Qt import QtCore, QtGui, QtWidgets\n",
    "\n",
    "# Pho's Formatting Preferences\n",
    "from pyphocorehelpers.preferences_helpers import set_pho_preferences\n",
    "set_pho_preferences()\n",
    "np.set_printoptions(edgeitems=30, linewidth=100000, formatter=dict(float=lambda x: \"%g\" % x))\n",
    "\n",
    "%config Completer.use_jedi = False"
   ]
  },
  {
   "cell_type": "code",
   "execution_count": 2,
   "id": "f8667519-660b-415c-8a54-f3548172bd5a",
   "metadata": {},
   "outputs": [],
   "source": [
    "# from pyphoplacecellanalysis.GUI.Qt\n",
    "# from pyqtplot_MainWindow import PhoPipelineMainWindow\n",
    "# from pyphoplacecellanalysis.GUI.Qt.MainApplicationWindows.PhoMainPipelineWindow.pyqtplot_MainWindow import PhoPipelineMainWindow\n",
    "\n",
    "from pyphoplacecellanalysis.External.pyqtgraph.flowchart import Flowchart, Node\n",
    "import pyphoplacecellanalysis.External.pyqtgraph.flowchart.library as fclib\n",
    "from pyphoplacecellanalysis.GUI.PyQtPlot.Flowchart.ReloadableNodeLibrary import ReloadableNodeLibrary\n",
    "\n",
    "from pyphoplacecellanalysis.GUI.Qt.MainApplicationWindows.PhoPipelineMainWindow.pyqtplot_MainWindow import PhoPipelineMainWindow\n",
    "\n",
    "# GUI.Qt.MainApplicationWindows.PhoPipelineMainWindow.pyqtplot_MainWindow\n",
    "\n",
    "# PhoMainPipelineWindow.pyqtplot_MainWindow import PhoPipelineMainWindow\n"
   ]
  },
  {
   "cell_type": "code",
   "execution_count": 3,
   "id": "13db9606-53e1-4f4f-af4a-ea3a2af7c642",
   "metadata": {},
   "outputs": [],
   "source": [
    "# from pyphoplacecellanalysis.GUI.PyQtPlot.Flowchart.pyqtplot_Flowchart import plot_flowchartWidget\n",
    "# pipeline_flowchart_window, pipeline_flowchart_app = plot_flowchartWidget(title='PhoMainPipelineFlowchartApp')\n",
    "# Add the flowchart widget. This is actually not the programmatic programming environment itself, it's the column that lists the nodes and lets you set their parameters.\n",
    "# flowchart_controls_widget = mainAppWindow.flowchart.widget()"
   ]
  },
  {
   "cell_type": "code",
   "execution_count": 4,
   "id": "e4c9fd65-e574-4de9-a85f-b51d2bd52340",
   "metadata": {},
   "outputs": [
    {
     "name": "stdout",
     "output_type": "stream",
     "text": [
      "num_known_types: 2\n",
      "ctrl_node_ops: [('data_mode', 'combo', {'values': ['bapun', 'kdiba', 'custom...'], 'index': 0})]\n",
      " custom_ops:[('reload', 'action')]\n",
      " self.uiTemplate: [('data_mode', 'combo', {'values': ['bapun', 'kdiba', 'custom...'], 'index': 0})]\n",
      "\n",
      "ctrl_node_ops: []\n",
      " custom_ops:[('included_configs_table', 'extendedchecktable', {'columns': ['filter'], 'rows': ['test1', 'test2']}), ('refilter', 'action')]\n",
      " self.uiTemplate: []\n",
      "\n",
      "ctrl_node_ops: []\n",
      " custom_ops:[('recompute', 'action'), ('included_configs_table', 'extendedchecktable', {'columns': ['compute'], 'rows': ['test1', 'test2']})]\n",
      " self.uiTemplate: []\n",
      "\n"
     ]
    },
    {
     "data": {
      "text/plain": [
       "<Node Flowchart @1b480f949d0>"
      ]
     },
     "execution_count": 4,
     "metadata": {},
     "output_type": "execute_result"
    }
   ],
   "source": [
    "\n",
    "## Create an empty flowchart with a single input and output\n",
    "flowchart = Flowchart(terminals={\n",
    "    'dataIn': {'io': 'in'},\n",
    "    'dataOut': {'io': 'out'}    \n",
    "})\n",
    "\n",
    "\n",
    "# # Add the flowchart widget. This is actually not the programmatic programming environment itself, it's the column that lists the nodes and lets you set their parameters.\n",
    "# flowchart_controls_widget = flowchart.widget()\n",
    "pipeline_start_x = 0\n",
    "flowchart.setInput(dataIn=None)\n",
    "\n",
    "# Setup the nodes in the flowchart:\n",
    "ReloadableNodeLibrary.setup_custom_node_library(flowchart)\n",
    "\n",
    "# Create the nodes:\n",
    "pipeline_input_node = flowchart.createNode('PipelineInputDataNode', pos=(pipeline_start_x-400, 50))\n",
    "\n",
    "pipeline_filter_node = flowchart.createNode('PipelineFilteringDataNode', pos=(pipeline_start_x-26, 50))\n",
    "\n",
    "pipeline_computation_node = flowchart.createNode('PipelineComputationsNode', pos=(pipeline_start_x+154, 50))\n",
    "\n",
    "# pipeline_display_node = flowchart.createNode('PipelineDisplayNode', pos=(pipeline_start_x+280, 120))\n",
    "\n",
    "# # Pipeline Result Visualization Node:\n",
    "# pipeline_result_viz_node = flowchart.createNode('PipelineResultVisNode', pos=(pipeline_start_x+280, 220))\n",
    "# pipeline_result_viz_node.on_add_function = on_add_function\n",
    "# pipeline_result_viz_node.on_remove_function = on_remove_function\n",
    "flowchart"
   ]
  },
  {
   "cell_type": "markdown",
   "id": "14aa079d-e1f3-4b54-8ea6-e827bebef31b",
   "metadata": {},
   "source": [
    "#### Note: can do programmatic updates on the nodes via:\n",
    "```python\n",
    "## get the Node's control widget and place it inside the main window\n",
    "filterCtrl = filterNode.ctrlWidget()\n",
    "someLayout.addWidget(filterCtrl)\n",
    "\n",
    "## later on, process data through the node\n",
    "filteredData = filterNode.process(inputTerminal=rawData)\n",
    "\n",
    "```"
   ]
  },
  {
   "cell_type": "code",
   "execution_count": 6,
   "id": "f6c66682-d7e7-4a4e-959b-e59fae039ef4",
   "metadata": {
    "scrolled": true,
    "tags": []
   },
   "outputs": [
    {
     "name": "stdout",
     "output_type": "stream",
     "text": [
      "PipelineInputDataNode data_mode from dropdown list: kdiba\n",
      "Warning: known_mode is None.\n",
      "basedir is already Path object.\n",
      "\t basepath: R:\\data\\KDIBA\\gor01\\one\\2006-6-07_11-26-53\n",
      "\t session_name: 2006-6-07_11-26-53\n",
      "Loading matlab import file results to R:\\data\\KDIBA\\gor01\\one\\2006-6-07_11-26-53\\2006-6-07_11-26-53.epochs_info.mat... done.\n",
      "Loading matlab import file results to R:\\data\\KDIBA\\gor01\\one\\2006-6-07_11-26-53\\2006-6-07_11-26-53.position_info.mat... done.\n",
      "Loading matlab import file results to R:\\data\\KDIBA\\gor01\\one\\2006-6-07_11-26-53\\2006-6-07_11-26-53.spikes.mat... done.\n",
      "Failure loading .position.npy. Must recompute.\n",
      "\n",
      "Computing linear positions for all active epochs for session... Saving updated position results results to R:\\data\\KDIBA\\gor01\\one\\2006-6-07_11-26-53\\2006-6-07_11-26-53.position.npy... 2006-6-07_11-26-53.position.npy saved\n",
      "done.\n",
      "\t Failure loading .interpolated_spike_positions.npy. Must recompute.\n",
      "\n",
      "\t Saving updated interpolated spike position results results to R:\\data\\KDIBA\\gor01\\one\\2006-6-07_11-26-53\\2006-6-07_11-26-53.interpolated_spike_positions.npy... 2006-6-07_11-26-53.interpolated_spike_positions.npy saved\n",
      "done.\n",
      "Loading matlab import file results to R:\\data\\KDIBA\\gor01\\one\\2006-6-07_11-26-53\\2006-6-07_11-26-53.laps_info.mat... done.\n",
      "setting laps object.\n",
      "session.laps loaded successfully!\n",
      "Loading success: .ripple.npy.\n",
      "Loading success: .mua.npy.\n",
      "Loading success: .pbe.npy.\n",
      "Computing added spike scISI column results to filepath?... done.\n",
      "desc_crossings_x: (24,), asc_crossings_x: (24,)\n",
      "Applying session filter named \"maze1\"...\n",
      "Constraining to epoch with times (start: 22.26, end: 1739.1533641185379)\n",
      "computing neurons mua for session...\n",
      "\n"
     ]
    },
    {
     "name": "stderr",
     "output_type": "stream",
     "text": [
      "c:\\users\\pho\\repos\\neuropy\\neuropy\\core\\laps.py:65: SettingWithCopyWarning: \n",
      "A value is trying to be set on a copy of a slice from a DataFrame.\n",
      "Try using .loc[row_indexer,col_indexer] = value instead\n",
      "\n",
      "See the caveats in the documentation: https://pandas.pydata.org/pandas-docs/stable/user_guide/indexing.html#returning-a-view-versus-a-copy\n",
      "  laps_df[['lap_id']] = laps_df[['lap_id']].astype('int')\n",
      "c:\\users\\pho\\repos\\neuropy\\neuropy\\core\\laps.py:69: SettingWithCopyWarning: \n",
      "A value is trying to be set on a copy of a slice from a DataFrame.\n",
      "Try using .loc[row_indexer,col_indexer] = value instead\n",
      "\n",
      "See the caveats in the documentation: https://pandas.pydata.org/pandas-docs/stable/user_guide/indexing.html#returning-a-view-versus-a-copy\n",
      "  laps_df[['start_spike_index', 'end_spike_index']] = laps_df[['start_spike_index', 'end_spike_index']].astype('int')\n",
      "c:\\users\\pho\\repos\\neuropy\\neuropy\\core\\laps.py:70: SettingWithCopyWarning: \n",
      "A value is trying to be set on a copy of a slice from a DataFrame.\n",
      "Try using .loc[row_indexer,col_indexer] = value instead\n",
      "\n",
      "See the caveats in the documentation: https://pandas.pydata.org/pandas-docs/stable/user_guide/indexing.html#returning-a-view-versus-a-copy\n",
      "  laps_df['num_spikes'] = laps_df['end_spike_index'] - laps_df['start_spike_index']\n",
      "c:\\users\\pho\\repos\\neuropy\\neuropy\\core\\laps.py:73: SettingWithCopyWarning: \n",
      "A value is trying to be set on a copy of a slice from a DataFrame.\n",
      "Try using .loc[row_indexer,col_indexer] = value instead\n",
      "\n",
      "See the caveats in the documentation: https://pandas.pydata.org/pandas-docs/stable/user_guide/indexing.html#returning-a-view-versus-a-copy\n",
      "  laps_df['lap_dir'] = laps_df['lap_dir'].astype('int')\n",
      "c:\\users\\pho\\repos\\neuropy\\neuropy\\core\\laps.py:81: SettingWithCopyWarning: \n",
      "A value is trying to be set on a copy of a slice from a DataFrame.\n",
      "Try using .loc[row_indexer,col_indexer] = value instead\n",
      "\n",
      "See the caveats in the documentation: https://pandas.pydata.org/pandas-docs/stable/user_guide/indexing.html#returning-a-view-versus-a-copy\n",
      "  laps_df['label'] = laps_df['lap_id'].astype('str') # add the string \"label\" column\n"
     ]
    }
   ],
   "source": [
    "## Wire them up:\n",
    "\n",
    "# Setup connections:\n",
    "flowchart.connectTerminals(flowchart['dataIn'], pipeline_input_node['known_mode'])\n",
    "\n",
    "# Input Node Outputs:\n",
    "flowchart.connectTerminals(pipeline_input_node['loaded_pipeline'], pipeline_filter_node['pipeline'])\n",
    "flowchart.connectTerminals(pipeline_input_node['known_data_mode'], pipeline_filter_node['active_data_mode'])\n",
    "\n",
    "# flowchart.connectTerminals(pipeline_input_node['known_data_mode'], pipeline_display_node['mode'])\n",
    "\n",
    "# Filter Node Outputs:\n",
    "flowchart.connectTerminals(pipeline_filter_node['filtered_pipeline'], pipeline_computation_node['pipeline'])\n",
    "flowchart.connectTerminals(pipeline_filter_node['computation_configs'], pipeline_computation_node['computation_configs'])\n",
    "# flowchart.connectTerminals(pipeline_filter_node['filter_configs'], pipeline_display_node['filter_configs'])\n",
    "\n",
    "# Computation Node Outputs:\n",
    "# flowchart.connectTerminals(pipeline_computation_node['computed_pipeline'], pipeline_display_node['pipeline'])\n",
    "# flowchart.connectTerminals(pipeline_computation_node['updated_computation_configs'], pipeline_display_node['computation_configs'])\n",
    "\n",
    "# flowchart.connectTerminals(pipeline_computation_node['computed_pipeline'], pipeline_result_viz_node['pipeline'])\n",
    "# flowchart.connectTerminals(pipeline_computation_node['updated_computation_configs'], pipeline_result_viz_node['computation_configs'])\n",
    "\n",
    "flowchart.connectTerminals(pipeline_computation_node['computed_pipeline'], flowchart['dataOut']) # raw pipeline output from computation node\n",
    "\n",
    "\n",
    "## Build Controls to set node parameters:\n",
    "inputCtrl = pipeline_input_node.ctrlWidget()\n",
    "filterCtrl = pipeline_filter_node.ctrlWidget()\n",
    "computationCtrl = pipeline_computation_node.ctrlWidget()\n",
    "\n",
    "# Add the controls to a layout:\n",
    "layout_widget = pg.LayoutWidget()\n",
    "layout_widget.setWindowTitle('Manu Flowchar Widget Display')\n",
    "\n",
    "# (inputCtrl, filterCtrl, computationCtrl)\n",
    "layout_widget.addWidget(inputCtrl, row=0, col=0)\n",
    "layout_widget.addWidget(filterCtrl, row=1, col=0)\n",
    "layout_widget.addWidget(computationCtrl, row=2, col=0)\n",
    "layout_widget.show()\n",
    "layout_widget.resize(800,900)"
   ]
  },
  {
   "cell_type": "code",
   "execution_count": null,
   "id": "5bf3b748-d8fd-415a-9399-4dd5e7652abf",
   "metadata": {},
   "outputs": [],
   "source": [
    "## Where is the result from .process(...) going?\n",
    "\n",
    "## later on, process data through the node\n",
    "# filteredData = filterNode.process(inputTerminal=rawData)"
   ]
  },
  {
   "cell_type": "code",
   "execution_count": null,
   "id": "319f4215-e98c-4d67-8e4f-3d8e2f140cb5",
   "metadata": {},
   "outputs": [],
   "source": [
    "flowchart_controls_widget = flowchart.widget() # FlowchartCtrlWidget\n",
    "flowchart_window = flowchart_controls_widget.cwWin\n",
    "\n",
    "pipeline_flowchart_nodes = pipeline_flowchart.nodes()"
   ]
  },
  {
   "cell_type": "markdown",
   "id": "db98d129-6fcc-485b-a75e-4639b2ad7802",
   "metadata": {},
   "source": [
    "### Try to extract the results into the Jupyter-lab notebook from the Flowchart nodes:"
   ]
  },
  {
   "cell_type": "code",
   "execution_count": 10,
   "id": "136841ee-8fe1-4350-b1a1-6770950fa18d",
   "metadata": {},
   "outputs": [
    {
     "data": {
      "text/plain": [
       "<pyphoplacecellanalysis.General.Pipeline.NeuropyPipeline.NeuropyPipeline at 0x1b4876e9e20>"
      ]
     },
     "execution_count": 10,
     "metadata": {},
     "output_type": "execute_result"
    }
   ],
   "source": [
    "# Note this works, meaning I can get the values just like I do in the regular Jupyter-Lab notebook\n",
    "curr_active_pipeline = pipeline_computation_node.outputs()['computed_pipeline'].value()\n",
    "curr_active_pipeline # NeuropyPipeline"
   ]
  },
  {
   "cell_type": "code",
   "execution_count": null,
   "id": "8c5ac614-3ddc-49ba-bb7c-fdcd76ecbd90",
   "metadata": {},
   "outputs": [],
   "source": []
  },
  {
   "cell_type": "code",
   "execution_count": null,
   "id": "e829a16c-3f80-4daa-a29d-9cc8f54206f5",
   "metadata": {},
   "outputs": [],
   "source": [
    "display_outputs = curr_node.outputs()['display_outputs'].value()"
   ]
  },
  {
   "cell_type": "code",
   "execution_count": null,
   "id": "a1b511a9-ab9e-40a8-8564-e963c4790d49",
   "metadata": {},
   "outputs": [],
   "source": [
    "fileSelectWidget = pg.FileDialog()\n",
    "layout_widget.addWidget(inputCtrl, row=3, col=0)"
   ]
  },
  {
   "cell_type": "code",
   "execution_count": null,
   "id": "292bfa10-5e64-45f0-8c29-ded99ab927ba",
   "metadata": {},
   "outputs": [],
   "source": [
    "layout_widget = None"
   ]
  },
  {
   "cell_type": "markdown",
   "id": "d42204d1-f2f2-46a8-9330-fdd24bdffe68",
   "metadata": {},
   "source": [
    "# Custom Export Widget Testing"
   ]
  },
  {
   "cell_type": "code",
   "execution_count": null,
   "id": "8c4ea479-d352-4305-a21a-5ec7cbec56f7",
   "metadata": {},
   "outputs": [],
   "source": [
    "# List available properties from the dictionary:\n",
    "enable_debug_print = True\n",
    "\n",
    "\n",
    "curr_epoch_labels = list(curr_active_pipeline.sess.epochs.labels) # ['pre', 'maze1', 'post1', 'maze2', 'post2']\n",
    "if enable_debug_print:\n",
    "    print(f'curr_epoch_labels: {curr_epoch_labels}')\n",
    "    \n",
    "curr_named_timeranges = [curr_active_pipeline.sess.epochs.get_named_timerange(a_label) for a_label in curr_epoch_labels]\n",
    "if enable_debug_print:\n",
    "    print(f'curr_named_timeranges: {curr_named_timeranges}')\n",
    "\n",
    "# Filters list:\n",
    "all_filters_list = list(curr_active_pipeline.filtered_sessions.keys())\n",
    "if enable_debug_print:\n",
    "    print(f'all_filters_list: {all_filters_list}')\n",
    "\n",
    "    \n",
    "all_computed_timeranges_list = _get_valid_computation_results_config_names(curr_active_pipeline)\n",
    "if enable_debug_print:\n",
    "    print(f'all_computed_timeranges_list: {all_computed_timeranges_list}')\n",
    "    \n",
    "\"\"\"\n",
    "    curr_epoch_labels: ['maze1', 'maze2']\n",
    "    curr_named_timeranges: [<NamedTimerange: {'name': 'maze1', 'start_end_times': array([22.26, 1739.15])};>, <NamedTimerange: {'name': 'maze2', 'start_end_times': array([1739.15, 1932.42])};>]\n",
    "    all_filters_list: ['maze1']\n",
    "    computed_config_names_list: ['maze1']\n",
    "    all_computed_timeranges_list: ['maze1']\n",
    "\"\"\"\n",
    "\n",
    "# active_config_name = 'maze1'"
   ]
  },
  {
   "cell_type": "markdown",
   "id": "2c19cf19-b3ce-430f-a839-20353fb049a2",
   "metadata": {},
   "source": [
    "## Path selection via Custom Save Widget Testing"
   ]
  },
  {
   "cell_type": "code",
   "execution_count": null,
   "id": "61562c3b-ebbb-4500-9ff0-056e610606e8",
   "metadata": {},
   "outputs": [],
   "source": [
    "from pyphocorehelpers.gui.Qt.InlineFilesystemPathSelectWidget.InlineFilesystemPathSelectWidget import InlineFilesystemPathSelectWidget\n",
    "\n",
    "# Build a CtrlWidget for exporting the results out to file:\n",
    "export_ui = PhoUIContainer('ExportNode')\n",
    "export_ui.layout_widget = pg.LayoutWidget()\n",
    "export_ui.layout_widget.setWindowTitle('ExportNode CtrlWidget')\n",
    "\n",
    "# Build the export path selection widget\n",
    "export_ui.path_data_root_select_widget = InlineFilesystemPathSelectWidget('Export')\n",
    "export_ui.layout_widget.addWidget(export_ui.path_data_root_select_widget, colspan=2)\n",
    "export_ui.layout_widget.nextRow()\n",
    "export_ui.btnExport = pg.FeedbackButton('Export')\n",
    "export_ui.layout_widget.addWidget(export_ui.btnExport, colspan=1, col=1)\n",
    "\n",
    "export_ui.layout_widget.show()\n",
    "# export_ui.root_widget.setLayout(export_ui.layout_widget)\n",
    "# export_ui.root_widget.show()\n",
    "# export_ui.path_data_root_select_widget.show()"
   ]
  },
  {
   "cell_type": "markdown",
   "id": "2508cd60-bc0f-439a-bd04-4f9a5cf07d20",
   "metadata": {},
   "source": [
    "## pg.ParameterList version:"
   ]
  },
  {
   "cell_type": "code",
   "execution_count": 11,
   "id": "f3e3cf34-49a6-46d3-a5d7-e67c759dc5b0",
   "metadata": {},
   "outputs": [
    {
     "name": "stdout",
     "output_type": "stream",
     "text": [
      "key_children_list: [{'name': '/filtered_sessions/maze1/spikes_df', 'type': 'str', 'value': 'spikes_df'}, {'name': '/filtered_sessions/maze1/pos_df', 'type': 'str', 'value': 'positions_df'}]\n"
     ]
    }
   ],
   "source": [
    "# import pyphoplacecellanalysis.External.pyqtgraph.parametertree.parameterTypes as pTypes\n",
    "# from pyphoplacecellanalysis.External.pyqtgraph.parametertree import Parameter, ParameterTree\n",
    "from pyphoplacecellanalysis.GUI.PyQtPlot.Params.ParameterTrees.ExportPipelineParametersTree import build_export_parameters_tree\n",
    "\n",
    "p = build_export_parameters_tree(curr_active_pipeline, parameter_names='ExportParams', finalized_output_cache_file='data/pipeline_cache_store.h5', include_state_save_restore_buttons=False, debug_print=True)"
   ]
  },
  {
   "cell_type": "code",
   "execution_count": 12,
   "id": "17c3f1cd-f386-48b0-880b-6950d296ea68",
   "metadata": {},
   "outputs": [
    {
     "ename": "NameError",
     "evalue": "name 'ParameterTree' is not defined",
     "output_type": "error",
     "traceback": [
      "\u001b[1;31m---------------------------------------------------------------------------\u001b[0m",
      "\u001b[1;31mNameError\u001b[0m                                 Traceback (most recent call last)",
      "Input \u001b[1;32mIn [12]\u001b[0m, in \u001b[0;36m<cell line: 2>\u001b[1;34m()\u001b[0m\n\u001b[0;32m      1\u001b[0m \u001b[38;5;66;03m## Create ParameterTree widget\u001b[39;00m\n\u001b[1;32m----> 2\u001b[0m t \u001b[38;5;241m=\u001b[39m \u001b[43mParameterTree\u001b[49m()\n\u001b[0;32m      3\u001b[0m t\u001b[38;5;241m.\u001b[39msetParameters(p, showTop\u001b[38;5;241m=\u001b[39m\u001b[38;5;28;01mFalse\u001b[39;00m)\n\u001b[0;32m      4\u001b[0m t\u001b[38;5;241m.\u001b[39msetWindowTitle(\u001b[38;5;124m'\u001b[39m\u001b[38;5;124mExport Parameters Tree Example\u001b[39m\u001b[38;5;124m'\u001b[39m)\n",
      "\u001b[1;31mNameError\u001b[0m: name 'ParameterTree' is not defined"
     ]
    }
   ],
   "source": [
    "from pyphoplacecellanalysis.External.pyqtgraph.parametertree import Parameter, ParameterTree\n",
    "## Create ParameterTree widget\n",
    "t = ParameterTree()\n",
    "t.setParameters(p, showTop=False)\n",
    "t.setWindowTitle('Export Parameters Tree Example')\n",
    "t.resize(700, 1000)\n",
    "t.show()"
   ]
  },
  {
   "cell_type": "code",
   "execution_count": null,
   "id": "eb723da0-2ff6-4892-9746-ba7f7138e692",
   "metadata": {},
   "outputs": [],
   "source": [
    "export_keys_list = p.param(\"Export Keys\")\n",
    "export_keys_list # ExportHdf5KeysGroup "
   ]
  },
  {
   "cell_type": "code",
   "execution_count": null,
   "id": "f27073c1-6cae-4797-8287-9cc6c56d2a44",
   "metadata": {},
   "outputs": [],
   "source": [
    "export_keys_list.clearChildren()\n",
    "# export_keys_list.addChildren(children=)"
   ]
  },
  {
   "cell_type": "code",
   "execution_count": null,
   "id": "98962d84-86ac-4e77-9ead-8f7a360654ec",
   "metadata": {},
   "outputs": [],
   "source": [
    "# export_keys_list.children = "
   ]
  },
  {
   "cell_type": "code",
   "execution_count": null,
   "id": "9aac9f24-043b-4446-bf2e-43a68045cd6d",
   "metadata": {},
   "outputs": [],
   "source": [
    "p[\"Export Keys\"]"
   ]
  },
  {
   "cell_type": "code",
   "execution_count": null,
   "id": "310c165b-218d-4f9c-b865-8f9f88aff415",
   "metadata": {},
   "outputs": [],
   "source": [
    "## test save/restore\n",
    "state = p.saveState()\n",
    "p.restoreState(state)\n",
    "compareState = p.saveState()\n",
    "print(f'state: {state}')\n",
    "assert pg.eq(compareState, state)"
   ]
  },
  {
   "cell_type": "code",
   "execution_count": null,
   "id": "7a20f9ce-25ed-4528-8583-a273b4d7c054",
   "metadata": {},
   "outputs": [],
   "source": [
    "# direct from widget (WORKS):\n",
    "curr_export_path_str = p['Export Path']\n",
    "\n",
    "# from saved state:\n",
    "# curr_export_path_str = state['children']['Export Path']['value']\n",
    "\n",
    "print(f'curr_export_path_str: {curr_export_path_str}')"
   ]
  },
  {
   "cell_type": "code",
   "execution_count": null,
   "id": "666ded6f-e655-4c18-b953-7af4ab03b518",
   "metadata": {},
   "outputs": [],
   "source": [
    "from pyphocorehelpers.print_helpers import print_keys_if_possible, print_value_overview_only\n",
    "\n",
    "print_keys_if_possible('state', state)"
   ]
  },
  {
   "cell_type": "markdown",
   "id": "69fdfa26-0bd2-4a1d-bcbf-c203c30a4bb1",
   "metadata": {},
   "source": [
    "# Reference"
   ]
  },
  {
   "cell_type": "markdown",
   "id": "16adaec8-5c08-4270-810a-e9da35223a41",
   "metadata": {},
   "source": [
    "## Widget Reference"
   ]
  },
  {
   "cell_type": "markdown",
   "id": "c9643228-990a-44df-9592-91cdc0ba8045",
   "metadata": {},
   "source": [
    "### Qt QFormLayout example"
   ]
  },
  {
   "cell_type": "code",
   "execution_count": null,
   "id": "01510043-6617-4e38-8c8d-6f9c78b658ef",
   "metadata": {},
   "outputs": [],
   "source": [
    "win = QtWidgets.QWidget()\n",
    "\n",
    "l1 = QtWidgets.QLabel(\"Name\")\n",
    "nm = QtWidgets.QLineEdit()\n",
    "\n",
    "l2 = QtWidgets.QLabel(\"Address\")\n",
    "add1 = QtWidgets.QLineEdit()\n",
    "add2 = QtWidgets.QLineEdit()\n",
    "fbox = QtWidgets.QFormLayout()\n",
    "fbox.addRow(l1,nm)\n",
    "vbox = QtWidgets.QVBoxLayout()\n",
    "\n",
    "vbox.addWidget(add1)\n",
    "vbox.addWidget(add2)\n",
    "fbox.addRow(l2,vbox)\n",
    "hbox = QtWidgets.QHBoxLayout()\n",
    "\n",
    "r1 = QtWidgets.QRadioButton(\"Male\")\n",
    "r2 = QtWidgets.QRadioButton(\"Female\")\n",
    "hbox.addWidget(r1)\n",
    "hbox.addWidget(r2)\n",
    "hbox.addStretch()\n",
    "fbox.addRow(QtWidgets.QLabel(\"sex\"), hbox)\n",
    "fbox.addRow(QtWidgets.QPushButton(\"Submit\"), QtWidgets.QPushButton(\"Cancel\"))\n",
    "\n",
    "win.setLayout(fbox)\n",
    "\n",
    "win.setWindowTitle(\"PyQt\")\n",
    "win.show()"
   ]
  },
  {
   "attachments": {
    "662f813c-5020-4884-85aa-9cb6b1d5bf0e.png": {
     "image/png": "[encoded data removed]"
    }
   },
   "cell_type": "markdown",
   "id": "aec977d3-211a-43f7-807d-6ee6d435c81d",
   "metadata": {},
   "source": [
    "![image.png](attachment:662f813c-5020-4884-85aa-9cb6b1d5bf0e.png)"
   ]
  },
  {
   "cell_type": "code",
   "execution_count": null,
   "id": "75b7a242-33d9-46fa-8ad1-833aed06366c",
   "metadata": {},
   "outputs": [],
   "source": []
  }
 ],
 "metadata": {
  "kernelspec": {
   "display_name": "Python [conda env:phoviz_ultimate]",
   "language": "python",
   "name": "conda-env-phoviz_ultimate-py"
  },
  "language_info": {
   "codemirror_mode": {
    "name": "ipython",
    "version": 3
   },
   "file_extension": ".py",
   "mimetype": "text/x-python",
   "name": "python",
   "nbconvert_exporter": "python",
   "pygments_lexer": "ipython3",
   "version": "3.9.12"
  }
 },
 "nbformat": 4,
 "nbformat_minor": 5
}
