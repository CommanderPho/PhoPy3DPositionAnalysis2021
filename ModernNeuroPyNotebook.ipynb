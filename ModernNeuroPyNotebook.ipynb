{
 "cells": [
  {
   "cell_type": "code",
   "execution_count": 1,
   "id": "72c88902-f61a-411d-aa9e-64047451f550",
   "metadata": {},
   "outputs": [],
   "source": [
    "\"\"\"\n",
    "@author: pho\n",
    "\n",
    "A fresh start using modern pipeline methods without all the excessive imports. Created by Pho on 2022-06-14\n",
    "\n",
    "\"\"\"\n",
    "# noinspection JupyterPackage\n",
    "%load_ext autoreload\n",
    "%autoreload 2\n",
    "import sys\n",
    "import importlib\n",
    "\n",
    "from numba import jit\n",
    "import numpy as np\n",
    "import pandas as pd\n",
    "\n",
    "# required to enable non-blocking interaction:\n",
    "%gui qt5\n",
    "\n",
    "import pyphoplacecellanalysis.External.pyqtgraph as pg\n",
    "from pyphoplacecellanalysis.External.pyqtgraph.Qt import QtCore, QtGui, QtWidgets\n",
    "\n",
    "# Pho's Formatting Preferences\n",
    "from pyphocorehelpers.preferences_helpers import set_pho_preferences\n",
    "set_pho_preferences()\n",
    "np.set_printoptions(edgeitems=30, linewidth=100000, formatter=dict(float=lambda x: \"%g\" % x))\n",
    "\n",
    "%config Completer.use_jedi = False\n",
    "\n",
    "from pyphoplacecellanalysis.External.pyqtgraph.flowchart import Flowchart, Node\n",
    "import pyphoplacecellanalysis.External.pyqtgraph.flowchart.library as fclib\n",
    "from pyphoplacecellanalysis.GUI.PyQtPlot.Flowchart.ReloadableNodeLibrary import ReloadableNodeLibrary\n",
    "from pyphoplacecellanalysis.GUI.Qt.MainApplicationWindows.PhoPipelineMainWindow.pyqtplot_MainWindow import PhoPipelineMainWindow\n",
    "from pyphoplacecellanalysis.GUI.PyQtPlot.Widgets.DockAreaWrapper import DockAreaWrapper, PhoDockAreaContainingWindow\n",
    "from pyphoplacecellanalysis.GUI.PyQtPlot.Widgets.Mixins.RenderTimeEpochs.TestBackgroundWorker import WorkerSignals, Worker"
   ]
  },
  {
   "cell_type": "markdown",
   "id": "9b49f794-fb35-4952-9d0b-7d89d081a14e",
   "metadata": {},
   "source": [
    "# Manual Flowchart creation without corresponding GUI"
   ]
  },
  {
   "cell_type": "code",
   "execution_count": 2,
   "id": "0ac9d613-3c49-47e7-bd9c-1d604e400874",
   "metadata": {
    "scrolled": true,
    "tags": []
   },
   "outputs": [
    {
     "name": "stdout",
     "output_type": "stream",
     "text": [
      "num_known_types: 3\n",
      "ctrl_node_ops: [('data_mode', 'combo', {'values': ['custom...'], 'index': 0})]\n",
      " custom_ops:[('reload', 'action')]\n",
      " self.uiTemplate: [('data_mode', 'combo', {'values': ['custom...'], 'index': 0})]\n",
      "\n",
      "ctrl_node_ops: []\n",
      " custom_ops:[('included_configs_table', 'extendedchecktable', {'columns': ['filter'], 'rows': []}), ('refilter', 'action')]\n",
      " self.uiTemplate: []\n",
      "\n",
      "ctrl_node_ops: []\n",
      " custom_ops:[('included_configs_table', 'extendedchecktable', {'columns': ['compute'], 'rows': []}), ('recompute', 'action')]\n",
      " self.uiTemplate: []\n",
      "\n"
     ]
    }
   ],
   "source": [
    "from collections import namedtuple\n",
    "NodesTuple = namedtuple(\"NodesTuple\", \"input filter computation display\")\n",
    "\n",
    "def build_default_non_graphical_pipeline():\n",
    "    \"\"\" Builds the pipeline backend for computations, for either programmatic or graphical use.\n",
    "    \n",
    "        flowchart, pipeline_nodes = _build_default_pipeline()\n",
    "        input_node, filter_node, computation_node, display_node = pipeline_nodes\n",
    "    \"\"\"\n",
    "    ## Create an empty flowchart with a single input and output\n",
    "    flowchart = Flowchart(terminals={\n",
    "        'dataIn': {'io': 'in'},\n",
    "        'dataOut': {'io': 'out'}    \n",
    "    })\n",
    "\n",
    "    # # Add the flowchart widget. This is actually not the programmatic programming environment itself, it's the column that lists the nodes and lets you set their parameters.\n",
    "    pipeline_start_x = 0\n",
    "    flowchart.setInput(dataIn=None)\n",
    "\n",
    "    # Setup the nodes in the flowchart:\n",
    "    ReloadableNodeLibrary.setup_custom_node_library(flowchart)\n",
    "\n",
    "    # Create the nodes:\n",
    "    pipeline_input_node = flowchart.createNode('PipelineInputDataNode', pos=(pipeline_start_x-400, 50))\n",
    "    pipeline_filter_node = flowchart.createNode('PipelineFilteringDataNode', pos=(pipeline_start_x-26, 50))\n",
    "    pipeline_computation_node = flowchart.createNode('PipelineComputationsNode', pos=(pipeline_start_x+154, 50))\n",
    "    pipeline_display_node = None\n",
    "    # pipeline_nodes = {'input': pipeline_input_node, 'filter': pipeline_filter_node, 'computation': pipeline_computation_node, 'display': pipeline_display_node}\n",
    "    pipeline_nodes = NodesTuple(pipeline_input_node, pipeline_filter_node, pipeline_computation_node,  pipeline_display_node)\n",
    "    \n",
    "    ## Wire them up:\n",
    "    # Setup connections:\n",
    "    flowchart.connectTerminals(flowchart['dataIn'], pipeline_input_node['known_mode'])\n",
    "    # Input Node Outputs:\n",
    "    flowchart.connectTerminals(pipeline_input_node['loaded_pipeline'], pipeline_filter_node['pipeline'])\n",
    "    flowchart.connectTerminals(pipeline_input_node['known_data_mode'], pipeline_filter_node['active_data_mode'])\n",
    "    # flowchart.connectTerminals(pipeline_input_node['known_data_mode'], pipeline_display_node['mode'])\n",
    "\n",
    "    # Filter Node Outputs:\n",
    "    flowchart.connectTerminals(pipeline_filter_node['filtered_pipeline'], pipeline_computation_node['pipeline'])\n",
    "    flowchart.connectTerminals(pipeline_filter_node['computation_configs'], pipeline_computation_node['computation_configs'])\n",
    "    # flowchart.connectTerminals(pipeline_filter_node['filter_configs'], pipeline_display_node['filter_configs'])\n",
    "\n",
    "    # Computation Node Outputs:\n",
    "    # flowchart.connectTerminals(pipeline_computation_node['computed_pipeline'], pipeline_display_node['pipeline'])\n",
    "    # flowchart.connectTerminals(pipeline_computation_node['updated_computation_configs'], pipeline_display_node['computation_configs'])\n",
    "    # flowchart.connectTerminals(pipeline_computation_node['computed_pipeline'], pipeline_result_viz_node['pipeline'])\n",
    "    # flowchart.connectTerminals(pipeline_computation_node['updated_computation_configs'], pipeline_result_viz_node['computation_configs'])\n",
    "    flowchart.connectTerminals(pipeline_computation_node['computed_pipeline'], flowchart['dataOut']) # raw pipeline output from computation node\n",
    "    \n",
    "    return flowchart, pipeline_nodes\n",
    "\n",
    "\n",
    "flowchart, pipeline_nodes = build_default_non_graphical_pipeline()\n",
    "pipeline_input_node, pipeline_filter_node, pipeline_computation_node, pipeline_display_node = pipeline_nodes\n"
   ]
  },
  {
   "cell_type": "code",
   "execution_count": 4,
   "id": "1c3f02ae-a393-4ba4-a171-f795994f5345",
   "metadata": {
    "scrolled": true,
    "tags": []
   },
   "outputs": [
    {
     "name": "stdout",
     "output_type": "stream",
     "text": [
      "PipelineInputDataNode data_mode from dropdown list: kdiba\n",
      "PipelineInputDataNode.process(known_mode: kdiba, display: False)...\n",
      "basedir is already Path object.\n",
      "Loading matlab import file results to R:\\data\\KDIBA\\gor01\\one\\2006-6-07_11-26-53\\2006-6-07_11-26-53.epochs_info.mat... done.\n",
      "Loading matlab import file results to R:\\data\\KDIBA\\gor01\\one\\2006-6-07_11-26-53\\2006-6-07_11-26-53.position_info.mat... done.\n",
      "Loading matlab import file results to R:\\data\\KDIBA\\gor01\\one\\2006-6-07_11-26-53\\2006-6-07_11-26-53.spikes.mat... "
     ]
    },
    {
     "name": "stderr",
     "output_type": "stream",
     "text": [
      "c:\\users\\pho\\repos\\neuropy\\neuropy\\core\\session\\Formats\\SessionSpecifications.py:139: UserWarning: WARNING: Optional File: R:\\data\\KDIBA\\gor01\\one\\2006-6-07_11-26-53\\2006-6-07_11-26-53.dat does not exist. Continuing without it.\n",
      "  warnings.warn(f'WARNING: Optional File: {an_optional_filepath} does not exist. Continuing without it.')\n"
     ]
    },
    {
     "name": "stdout",
     "output_type": "stream",
     "text": [
      "done.\n",
      "Failure loading .position.npy. Must recompute.\n",
      "\n",
      "Computing linear positions for all active epochs for session... Saving updated position results results to R:\\data\\KDIBA\\gor01\\one\\2006-6-07_11-26-53\\2006-6-07_11-26-53.position.npy... 2006-6-07_11-26-53.position.npy saved\n",
      "done.\n",
      "\t Failure loading .interpolated_spike_positions.npy. Must recompute.\n",
      "\n",
      "Computing interpolate_spike_positions columns results to spikes_df... done.\n",
      "\t Saving updated interpolated spike position results results to R:\\data\\KDIBA\\gor01\\one\\2006-6-07_11-26-53\\2006-6-07_11-26-53.interpolated_spike_positions.npy... 2006-6-07_11-26-53.interpolated_spike_positions.npy saved\n",
      "done.\n",
      "Loading matlab import file results to R:\\data\\KDIBA\\gor01\\one\\2006-6-07_11-26-53\\2006-6-07_11-26-53.laps_info.mat... done.\n",
      "setting laps object.\n",
      "session.laps loaded successfully!\n",
      "Loading success: .ripple.npy.\n",
      "Loading success: .mua.npy.\n",
      "Loading success: .pbe.npy.\n",
      "Computing spikes_df PBEs column results to spikes_df... done.\n",
      "Computing added spike scISI column results to spikes_df... done.\n",
      "desc_crossings_x: (24,), asc_crossings_x: (24,)\n",
      "no enabled computation filters! Cannot perform computation!\n",
      "most_advanced_completed_stage_node: <Node PipelineComputationsNode.0 @27f8d1f2280>\n"
     ]
    }
   ],
   "source": [
    "## Successfully initiate the pipeline with the input, and have it run as far as it can until encounter an exception:\n",
    "out_data = flowchart.process(dataIn='kdiba')\n",
    "# Get the pipeline of the most advanced completed stage:\n",
    "completed_nodes = [a_node for a_node in pipeline_nodes if a_node is not None and a_node.exception is None] # only return nodes that don't have exceptions\n",
    "if len(completed_nodes) > 0:\n",
    "    most_advanced_completed_stage_node = completed_nodes[-1]\n",
    "    print(f'most_advanced_completed_stage_node: {most_advanced_completed_stage_node}')\n",
    "else:\n",
    "    most_advanced_completed_stage_node = None\n",
    "    print(f'no nodes completed!')\n",
    "# pipeline_input_node.exception\n",
    "# pipeline_computation_node.exception\n",
    "curr_active_pipeline = out_data.get('dataOut', None)\n",
    "curr_active_pipeline"
   ]
  },
  {
   "cell_type": "code",
   "execution_count": null,
   "id": "a94898c4-26dd-4847-9b48-64a1eff48845",
   "metadata": {},
   "outputs": [],
   "source": [
    "# pipeline_filter_node.enabled_filters # []\n",
    "# pipeline_filter_node.configRows # ['maze1', 'maze2', 'maze']\n",
    "# pipeline_filter_node.selectFirstConfigRow()\n",
    "\n",
    "pipeline_input_node.outputValues()\n",
    "# pipeline_filter_node.outputValues()\n",
    "# most_advanced_completed_stage_node.outputValues()"
   ]
  },
  {
   "cell_type": "code",
   "execution_count": null,
   "id": "6aa422e7-c661-4ae3-ad03-3462ba30dbef",
   "metadata": {},
   "outputs": [],
   "source": [
    "most_advanced_completed_stage_node.try_check_at_least_one_check_table_row()"
   ]
  },
  {
   "cell_type": "markdown",
   "id": "14aa079d-e1f3-4b54-8ea6-e827bebef31b",
   "metadata": {},
   "source": [
    "#### Note: can do programmatic updates on the nodes via:\n",
    "```python\n",
    "## get the Node's control widget and place it inside the main window\n",
    "filterCtrl = filterNode.ctrlWidget()\n",
    "someLayout.addWidget(filterCtrl)\n",
    "\n",
    "## later on, process data through the node\n",
    "filteredData = filterNode.process(inputTerminal=rawData)\n",
    "\n",
    "```"
   ]
  },
  {
   "cell_type": "code",
   "execution_count": null,
   "id": "5bf3b748-d8fd-415a-9399-4dd5e7652abf",
   "metadata": {},
   "outputs": [],
   "source": [
    "## Where is the result from .process(...) going?\n",
    "\n",
    "## later on, process data through the node\n",
    "# filteredData = filterNode.process(inputTerminal=rawData)"
   ]
  },
  {
   "cell_type": "code",
   "execution_count": null,
   "id": "73d61668-ea23-4d68-be07-bdcf6805eda9",
   "metadata": {},
   "outputs": [],
   "source": [
    "pipeline_computation_node.outputs()['computed_pipeline'].value()"
   ]
  },
  {
   "cell_type": "markdown",
   "id": "db98d129-6fcc-485b-a75e-4639b2ad7802",
   "metadata": {},
   "source": [
    "### Try to extract the results into the Jupyter-lab notebook from the Flowchart nodes:"
   ]
  },
  {
   "cell_type": "code",
   "execution_count": null,
   "id": "136841ee-8fe1-4350-b1a1-6770950fa18d",
   "metadata": {},
   "outputs": [],
   "source": [
    "# Note this works, meaning I can get the values just like I do in the regular Jupyter-Lab notebook\n",
    "curr_active_pipeline = pipeline_computation_node.outputs()['computed_pipeline'].value()\n",
    "# curr_active_pipeline # NeuropyPipeline\n",
    "curr_active_pipeline"
   ]
  },
  {
   "cell_type": "code",
   "execution_count": null,
   "id": "8c5ac614-3ddc-49ba-bb7c-fdcd76ecbd90",
   "metadata": {},
   "outputs": [],
   "source": [
    "active_config_name = 'maze1'\n",
    "# active_config_name = 'maze'\n",
    "\n",
    "# Get relevant variables:\n",
    "# curr_active_pipeline is set above, and usable here\n",
    "sess = curr_active_pipeline.filtered_sessions[active_config_name]\n",
    "active_computed_data = curr_active_pipeline.computation_results[active_config_name].computed_data\n",
    "print(f'active_computed_data.keys(): {active_computed_data.keys()}')"
   ]
  },
  {
   "cell_type": "markdown",
   "id": "23ab3f78-2a0a-495c-889c-cd7d76986e6f",
   "metadata": {},
   "source": [
    "# Graphical Flowchart Pipeline"
   ]
  },
  {
   "cell_type": "code",
   "execution_count": null,
   "id": "5fd9bb24-3a01-4471-b566-5bb842bcb0b3",
   "metadata": {
    "scrolled": true,
    "tags": []
   },
   "outputs": [],
   "source": [
    "class GraphicalFlowchartPipeline:\n",
    "\n",
    "    def build_flowchart_gui(self, flowchart, pipeline_nodes):\n",
    "        # Extract the individual nodes and their control widgets:\n",
    "        pipeline_input_node, pipeline_filter_node, pipeline_computation_node, pipeline_display_node = pipeline_nodes\n",
    "        \n",
    "        # build a win of type PhoDockAreaContainingWindow\n",
    "        win, app = DockAreaWrapper._build_default_dockAreaWindow(title='ModernNeuroPyNotebook', defer_show=False)\n",
    "\n",
    "        ## Build Controls to set node parameters:\n",
    "        # inputCtrl = pipeline_input_node.ctrlWidget()\n",
    "        # filterCtrl = pipeline_filter_node.ctrlWidget()\n",
    "        # computationCtrl = pipeline_computation_node.ctrlWidget()\n",
    "\n",
    "        # Add the controls to a layout:\n",
    "        layout_widget = pg.LayoutWidget()\n",
    "        layout_widget.setWindowTitle('Manu Flowchar Widget Display')\n",
    "\n",
    "        # (inputCtrl, filterCtrl, computationCtrl)\n",
    "        # layout_widget.addWidget(inputCtrl, row=0, col=0)\n",
    "        # layout_widget.addWidget(filterCtrl, row=1, col=0)\n",
    "        # layout_widget.addWidget(computationCtrl, row=2, col=0)\n",
    "\n",
    "        ## Build Controls to set node parameters:\n",
    "        for i, a_pipeline_node in enumerate(pipeline_nodes):\n",
    "            if a_pipeline_node is not None:\n",
    "                currCtrl = a_pipeline_node.ctrlWidget()\n",
    "                layout_widget.addWidget(currCtrl, row=i, col=0)\n",
    "            \n",
    "        layout_widget.resize(800,900)\n",
    "\n",
    "        _, dDisplayItem1 = win.add_display_dock(\"Node Controls\", dockSize=(800, 900), dockIsClosable=False, widget=layout_widget, dockAddLocationOpts=['left'])\n",
    "        \n",
    "        flowchart_controls_widget = flowchart.widget() # FlowchartCtrlWidget\n",
    "        flowchart_window = flowchart_controls_widget.cwWin\n",
    "        _, dDisplayItem2 = win.add_display_dock(\"Flowchart\", dockSize=(1600, 900), dockIsClosable=False, widget=flowchart_window, dockAddLocationOpts=['right'])\n",
    "        \n",
    "        return layout_widget, win, app\n",
    "    \n",
    "    \n",
    "gui_pipeline = GraphicalFlowchartPipeline()\n",
    "layout_widget, win, app = gui_pipeline.build_flowchart_gui(flowchart, pipeline_nodes)"
   ]
  },
  {
   "cell_type": "markdown",
   "id": "5d6a7ed2-29ca-45c9-934b-f51d94c5284a",
   "metadata": {
    "jp-MarkdownHeadingCollapsed": true,
    "tags": []
   },
   "source": [
    "## Testing burst detection: adding 3D curves for bursts"
   ]
  },
  {
   "cell_type": "code",
   "execution_count": null,
   "id": "1bc8591c-01f7-4683-972f-9fd0fec6a1fa",
   "metadata": {},
   "outputs": [],
   "source": [
    "from pybursts import pybursts\n",
    "import matplotlib.pyplot as plt\n",
    "from indexed import IndexedOrderedDict\n",
    "from pyphocorehelpers.print_helpers import print_dataframe_memory_usage\n",
    "\n",
    "active_burst_info = active_computed_data['burst_detection']\n",
    "active_burst_intervals = active_burst_info['burst_intervals']"
   ]
  },
  {
   "cell_type": "code",
   "execution_count": null,
   "id": "4e3ce58b-06ab-4928-978d-2bc0216871bd",
   "metadata": {},
   "outputs": [],
   "source": [
    "active_burst_intervals.values()[0]"
   ]
  },
  {
   "cell_type": "markdown",
   "id": "ccfd30e1-b8af-42bd-ba6c-2cc59a25c63c",
   "metadata": {
    "jp-MarkdownHeadingCollapsed": true,
    "pycharm": {
     "is_executing": false,
     "name": "#%%\n"
    },
    "tags": []
   },
   "source": [
    "## Test Adding Dynamic Menus and Status bars:"
   ]
  },
  {
   "cell_type": "code",
   "execution_count": null,
   "id": "245aa421-ee99-42ca-a1b9-86c5838882e9",
   "metadata": {
    "pycharm": {
     "is_executing": false,
     "name": "#%%\n"
    },
    "scrolled": true,
    "tags": []
   },
   "outputs": [],
   "source": [
    "# ipspikesDataExplorer.p.app_window # <pyvistaqt.window.a_main_window at 0x16148c1e160>\n",
    "curr_window = ipspikesDataExplorer.p.app_window\n",
    "menubar = curr_window.menuBar()\n",
    "# root_children = menubar.children()\n",
    "root_children = [a_child for a_child in menubar.children() if isinstance(a_child, pg.QtWidgets.QMenu)] # .title\n",
    "root_children\n",
    "# QMenu\n",
    "# fileMenu = menubar.addMenu('&File')\n",
    "# [a_child.objectName() for a_child in menubar.children()] # .title\n",
    "\n",
    "[a_child.title() for a_child in root_children] # .title ['File', 'View', 'Tools', '', '&File']\n",
    "# QToolButton"
   ]
  },
  {
   "cell_type": "code",
   "execution_count": null,
   "id": "45630f2a-5a69-427d-812f-a7cb76e7a0fe",
   "metadata": {
    "pycharm": {
     "is_executing": false,
     "name": "#%%\n"
    },
    "scrolled": true,
    "tags": []
   },
   "outputs": [],
   "source": [
    "from pyphoplacecellanalysis.GUI.Qt.Mixins.Menus.ConnectionControlsMenuMixin import ConnectionControlsMenuMixin\n",
    "curr_window, menuConnections, actions_dict = ConnectionControlsMenuMixin.try_add_connections_menu(win)"
   ]
  },
  {
   "cell_type": "code",
   "execution_count": null,
   "id": "fb0ebc34-5c0e-43dc-8978-be52cbd6cfac",
   "metadata": {
    "pycharm": {
     "is_executing": false,
     "name": "#%%\n"
    },
    "scrolled": true,
    "tags": []
   },
   "outputs": [],
   "source": [
    "from pyphoplacecellanalysis.GUI.Qt.Mixins.Menus.CreateNewConnectedWidgetMenuMixin import CreateNewConnectedWidgetMenuMixin\n",
    "curr_window, menuCreateNewConnected, actions_dict = CreateNewConnectedWidgetMenuMixin.try_add_create_new_connected_widget_menu(a_content_widget=win)"
   ]
  },
  {
   "cell_type": "code",
   "execution_count": null,
   "id": "f0938871-bf81-49d7-a395-8f6e55e18683",
   "metadata": {
    "pycharm": {
     "is_executing": false,
     "name": "#%%\n"
    },
    "tags": []
   },
   "outputs": [],
   "source": [
    "## Actions to be executed to create new plotters:\n",
    "\n",
    "# TODO: see if we need to do something like\n",
    "# global_connected_widgets = {}\n",
    "\n",
    "def _test_create_new_pyqtgraph_plotter():\n",
    "    \"\"\" Implicitly captures spike_raster_window \"\"\"\n",
    "    test_independent_pyqtgraph_raster_widget = spike_raster_window.create_new_connected_widget(type_of_3d_plotter='pyqtgraph')\n",
    "    test_independent_pyqtgraph_raster_widget.show()\n",
    "    \n",
    "def _test_create_new_vedo_plotter():\n",
    "    \"\"\" Implicitly captures spike_raster_window \"\"\"\n",
    "    test_independent_vedo_raster_widget = spike_raster_window.create_new_connected_widget(type_of_3d_plotter='vedo')\n",
    "    test_independent_vedo_raster_widget.show()\n",
    "    # global_connected_widgets['test_independent_vedo_raster_widget'] = test_independent_vedo_raster_widget\n",
    "    \n",
    "## These DataExplorers can't be created from spike_raster_window alone because it only holds a spike_df and not a full session object. Thus need to capture:\n",
    "\"\"\" \n",
    "curr_active_pipeline, active_config_name, DefaultDisplayFunctions, display_output, and spike_raster_window\n",
    "\n",
    "\"\"\"\n",
    "def _test_create_new_DataExplorer_ipc_plotter():\n",
    "    \"\"\" Implicitly captures spike_raster_window \"\"\"\n",
    "    pActiveTuningCurvesPlotter = None\n",
    "    display_output = {}\n",
    "    display_output = display_output | curr_active_pipeline.display(DefaultDisplayFunctions._display_3d_interactive_tuning_curves_plotter, active_config_name, extant_plotter=display_output.get('pActiveTuningCurvesPlotter', None), panel_controls_mode='Qt') # Works now!\n",
    "    ipcDataExplorer = display_output['ipcDataExplorer']\n",
    "    display_output['pActiveTuningCurvesPlotter'] = display_output.pop('plotter') # rename the key from the generic \"plotter\" to \"pActiveSpikesBehaviorPlotter\" to avoid collisions with others\n",
    "    pActiveTuningCurvesPlotter = display_output['pActiveTuningCurvesPlotter']\n",
    "    root_dockAreaWindow, placefieldControlsContainerWidget, pf_widgets = display_output['pane'] # for Qt mode:\n",
    "    \n",
    "def _test_create_new_DataExplorer_ipspikes_plotter():\n",
    "    \"\"\" Implicitly captures spike_raster_window \"\"\"\n",
    "    pActiveSpikesBehaviorPlotter = None\n",
    "    display_output = {}\n",
    "    display_output = display_output | curr_active_pipeline.display(DefaultDisplayFunctions._display_3d_interactive_spike_and_behavior_browser, active_config_name, extant_plotter=display_output.get('pActiveSpikesBehaviorPlotter', None)) # Works now!\n",
    "    ipspikesDataExplorer = display_output['ipspikesDataExplorer']\n",
    "    display_output['pActiveSpikesBehaviorPlotter'] = display_output.pop('plotter') # rename the key from the generic \"plotter\" to \"pActiveSpikesBehaviorPlotter\" to avoid collisions with others\n",
    "    pActiveSpikesBehaviorPlotter = display_output['pActiveSpikesBehaviorPlotter']\n",
    "    ## Sync ipspikesDataExplorer to raster window:\n",
    "    extra_interactive_spike_behavior_browser_sync_connection = spike_raster_window.connect_additional_controlled_plotter(controlled_plt=ipspikesDataExplorer)\n",
    "    # test_independent_vedo_raster_widget.show()\n",
    "\n",
    "\n",
    "curr_window.ui.createNewConnectedWidgetMenuActionsDict['actionNewConnected3DRaster_PyQtGraph'].triggered.connect(_test_create_new_pyqtgraph_plotter)\n",
    "curr_window.ui.createNewConnectedWidgetMenuActionsDict['actionNewConnected3DRaster_Vedo'].triggered.connect(_test_create_new_vedo_plotter)\n",
    "curr_window.ui.createNewConnectedWidgetMenuActionsDict['actionNewConnectedDataExplorer_ipc'].triggered.connect(_test_create_new_DataExplorer_ipc_plotter)\n",
    "curr_window.ui.createNewConnectedWidgetMenuActionsDict['actionNewConnectedDataExplorer_ipspikes'].triggered.connect(_test_create_new_DataExplorer_ipspikes_plotter)\n",
    "\n",
    "\n",
    "# curr_window"
   ]
  },
  {
   "cell_type": "code",
   "execution_count": null,
   "id": "a6c12ac7-91d6-41d4-a835-891e19ad2744",
   "metadata": {
    "pycharm": {
     "is_executing": false,
     "name": "#%%\n"
    },
    "scrolled": true,
    "tags": []
   },
   "outputs": [],
   "source": [
    "CreateNewConnectedWidgetMenuMixin.try_remove_create_new_connected_widget_menu(a_content_widget=win)"
   ]
  },
  {
   "cell_type": "markdown",
   "id": "d42204d1-f2f2-46a8-9330-fdd24bdffe68",
   "metadata": {
    "jp-MarkdownHeadingCollapsed": true,
    "tags": []
   },
   "source": [
    "# Custom Export Widget Testing"
   ]
  },
  {
   "cell_type": "code",
   "execution_count": null,
   "id": "8c4ea479-d352-4305-a21a-5ec7cbec56f7",
   "metadata": {},
   "outputs": [],
   "source": [
    "# List available properties from the dictionary:\n",
    "enable_debug_print = True\n",
    "\n",
    "curr_epoch_labels = list(curr_active_pipeline.sess.epochs.labels) # ['pre', 'maze1', 'post1', 'maze2', 'post2']\n",
    "if enable_debug_print:\n",
    "    print(f'curr_epoch_labels: {curr_epoch_labels}')\n",
    "    \n",
    "curr_named_timeranges = [curr_active_pipeline.sess.epochs.get_named_timerange(a_label) for a_label in curr_epoch_labels]\n",
    "if enable_debug_print:\n",
    "    print(f'curr_named_timeranges: {curr_named_timeranges}')\n",
    "\n",
    "# Filters list:\n",
    "all_filters_list = list(curr_active_pipeline.filtered_sessions.keys())\n",
    "if enable_debug_print:\n",
    "    print(f'all_filters_list: {all_filters_list}')\n",
    "\n",
    "    \n",
    "all_computed_timeranges_list = _get_valid_computation_results_config_names(curr_active_pipeline)\n",
    "if enable_debug_print:\n",
    "    print(f'all_computed_timeranges_list: {all_computed_timeranges_list}')\n",
    "    \n",
    "\"\"\"\n",
    "    curr_epoch_labels: ['maze1', 'maze2']\n",
    "    curr_named_timeranges: [<NamedTimerange: {'name': 'maze1', 'start_end_times': array([22.26, 1739.15])};>, <NamedTimerange: {'name': 'maze2', 'start_end_times': array([1739.15, 1932.42])};>]\n",
    "    all_filters_list: ['maze1']\n",
    "    computed_config_names_list: ['maze1']\n",
    "    all_computed_timeranges_list: ['maze1']\n",
    "\"\"\"\n",
    "\n",
    "# active_config_name = 'maze1'"
   ]
  },
  {
   "cell_type": "markdown",
   "id": "2c19cf19-b3ce-430f-a839-20353fb049a2",
   "metadata": {
    "jp-MarkdownHeadingCollapsed": true,
    "tags": []
   },
   "source": [
    "## Path selection via Custom Save Widget Testing"
   ]
  },
  {
   "cell_type": "code",
   "execution_count": null,
   "id": "61562c3b-ebbb-4500-9ff0-056e610606e8",
   "metadata": {},
   "outputs": [],
   "source": [
    "from pyphocorehelpers.gui.Qt.InlineFilesystemPathSelectWidget.InlineFilesystemPathSelectWidget import InlineFilesystemPathSelectWidget\n",
    "from pyphocorehelpers.gui.PhoUIContainer import PhoUIContainer\n",
    "\n",
    "\n",
    "# Build a CtrlWidget for exporting the results out to file:\n",
    "export_ui = PhoUIContainer('ExportNode')\n",
    "export_ui.layout_widget = pg.LayoutWidget()\n",
    "export_ui.layout_widget.setWindowTitle('ExportNode CtrlWidget')\n",
    "\n",
    "# Build the export path selection widget\n",
    "export_ui.path_data_root_select_widget = InlineFilesystemPathSelectWidget('Export')\n",
    "export_ui.layout_widget.addWidget(export_ui.path_data_root_select_widget, colspan=2)\n",
    "export_ui.layout_widget.nextRow()\n",
    "export_ui.btnExport = pg.FeedbackButton('Export')\n",
    "export_ui.layout_widget.addWidget(export_ui.btnExport, colspan=1, col=1)\n",
    "\n",
    "export_ui.layout_widget.show()\n",
    "# export_ui.root_widget.setLayout(export_ui.layout_widget)\n",
    "# export_ui.root_widget.show()\n",
    "# export_ui.path_data_root_select_widget.show()"
   ]
  },
  {
   "cell_type": "markdown",
   "id": "2508cd60-bc0f-439a-bd04-4f9a5cf07d20",
   "metadata": {
    "jp-MarkdownHeadingCollapsed": true,
    "tags": []
   },
   "source": [
    "## pg.ParameterList version:"
   ]
  },
  {
   "cell_type": "code",
   "execution_count": null,
   "id": "f3e3cf34-49a6-46d3-a5d7-e67c759dc5b0",
   "metadata": {},
   "outputs": [],
   "source": [
    "# import pyphoplacecellanalysis.External.pyqtgraph.parametertree.parameterTypes as pTypes\n",
    "# from pyphoplacecellanalysis.External.pyqtgraph.parametertree import Parameter, ParameterTree\n",
    "from pyphoplacecellanalysis.GUI.PyQtPlot.Params.ParameterTrees.ExportPipelineParametersTree import build_export_parameters_tree\n",
    "\n",
    "p = build_export_parameters_tree(curr_active_pipeline, parameter_names='ExportParams', finalized_output_cache_file='data/pipeline_cache_store.h5', include_state_save_restore_buttons=False, debug_print=True)"
   ]
  },
  {
   "cell_type": "code",
   "execution_count": null,
   "id": "456a881e-f3c7-4f62-862c-d3ec0dc545b8",
   "metadata": {},
   "outputs": [],
   "source": [
    "from pyphoplacecellanalysis.External.pyqtgraph.parametertree import Parameter, ParameterTree\n",
    "## Create ParameterTree widget\n",
    "t = ParameterTree()\n",
    "t.setParameters(p, showTop=False)\n",
    "t.setWindowTitle('Export Parameters Tree Example')\n",
    "t.resize(700, 1000)\n",
    "t.show()"
   ]
  },
  {
   "cell_type": "code",
   "execution_count": null,
   "id": "bce547f7-c3b9-4e9b-b0de-0c36d57db634",
   "metadata": {},
   "outputs": [],
   "source": [
    "included_exports_checklist = p.param('Included Exports')\n",
    "included_exports_checklist"
   ]
  },
  {
   "cell_type": "code",
   "execution_count": null,
   "id": "eaa4df2c-4035-4d0e-af84-30a3e4e751c8",
   "metadata": {},
   "outputs": [],
   "source": [
    "p['Included Exports']"
   ]
  },
  {
   "cell_type": "code",
   "execution_count": null,
   "id": "d9c26c7b-f891-4b9d-bd0c-9b6659fbebc9",
   "metadata": {},
   "outputs": [],
   "source": [
    "included_exports_checklist"
   ]
  },
  {
   "cell_type": "code",
   "execution_count": null,
   "id": "eb723da0-2ff6-4892-9746-ba7f7138e692",
   "metadata": {},
   "outputs": [],
   "source": [
    "export_keys_list = p.param(\"Export Keys\")\n",
    "export_keys_list # ExportHdf5KeysGroup "
   ]
  },
  {
   "cell_type": "code",
   "execution_count": null,
   "id": "f27073c1-6cae-4797-8287-9cc6c56d2a44",
   "metadata": {},
   "outputs": [],
   "source": [
    "export_keys_list.clearChildren()\n",
    "# export_keys_list.addChildren(children=)"
   ]
  },
  {
   "cell_type": "code",
   "execution_count": null,
   "id": "98962d84-86ac-4e77-9ead-8f7a360654ec",
   "metadata": {},
   "outputs": [],
   "source": [
    "# export_keys_list.children = "
   ]
  },
  {
   "cell_type": "code",
   "execution_count": null,
   "id": "525170b1-9e65-4dc1-baef-deac6ba0a457",
   "metadata": {},
   "outputs": [],
   "source": [
    "p[\"Export Keys\"].children()"
   ]
  },
  {
   "cell_type": "code",
   "execution_count": null,
   "id": "365f4a5f-f24d-4519-8b81-bfb170793bbe",
   "metadata": {},
   "outputs": [],
   "source": [
    "export_keys_list = p.param(\"Export Keys\") # ExportHdf5KeysGroup \n",
    "[str(a_child.name()) for a_child in export_keys_list.children()] # ['/filtered_sessions/maze1/spikes_df', '/filtered_sessions/maze1/pos_df']\n"
   ]
  },
  {
   "cell_type": "code",
   "execution_count": null,
   "id": "310c165b-218d-4f9c-b865-8f9f88aff415",
   "metadata": {},
   "outputs": [],
   "source": [
    "## test save/restore\n",
    "state = p.saveState()\n",
    "p.restoreState(state)\n",
    "compareState = p.saveState()\n",
    "print(f'state: {state}')\n",
    "assert pg.eq(compareState, state)"
   ]
  },
  {
   "cell_type": "code",
   "execution_count": null,
   "id": "666ded6f-e655-4c18-b953-7af4ab03b518",
   "metadata": {
    "scrolled": true,
    "tags": []
   },
   "outputs": [],
   "source": [
    "from pyphocorehelpers.print_helpers import print_keys_if_possible, print_value_overview_only\n",
    "\n",
    "print_keys_if_possible('state', state)"
   ]
  },
  {
   "cell_type": "markdown",
   "id": "69fdfa26-0bd2-4a1d-bcbf-c203c30a4bb1",
   "metadata": {
    "jp-MarkdownHeadingCollapsed": true,
    "tags": []
   },
   "source": [
    "# Reference"
   ]
  },
  {
   "cell_type": "markdown",
   "id": "16adaec8-5c08-4270-810a-e9da35223a41",
   "metadata": {
    "jp-MarkdownHeadingCollapsed": true,
    "tags": []
   },
   "source": [
    "## Widget Reference"
   ]
  },
  {
   "cell_type": "markdown",
   "id": "c9643228-990a-44df-9592-91cdc0ba8045",
   "metadata": {},
   "source": [
    "### Qt QFormLayout example"
   ]
  },
  {
   "cell_type": "code",
   "execution_count": null,
   "id": "01510043-6617-4e38-8c8d-6f9c78b658ef",
   "metadata": {},
   "outputs": [],
   "source": [
    "win = QtWidgets.QWidget()\n",
    "\n",
    "l1 = QtWidgets.QLabel(\"Name\")\n",
    "nm = QtWidgets.QLineEdit()\n",
    "\n",
    "l2 = QtWidgets.QLabel(\"Address\")\n",
    "add1 = QtWidgets.QLineEdit()\n",
    "add2 = QtWidgets.QLineEdit()\n",
    "fbox = QtWidgets.QFormLayout()\n",
    "fbox.addRow(l1,nm)\n",
    "vbox = QtWidgets.QVBoxLayout()\n",
    "\n",
    "vbox.addWidget(add1)\n",
    "vbox.addWidget(add2)\n",
    "fbox.addRow(l2,vbox)\n",
    "hbox = QtWidgets.QHBoxLayout()\n",
    "\n",
    "r1 = QtWidgets.QRadioButton(\"Male\")\n",
    "r2 = QtWidgets.QRadioButton(\"Female\")\n",
    "hbox.addWidget(r1)\n",
    "hbox.addWidget(r2)\n",
    "hbox.addStretch()\n",
    "fbox.addRow(QtWidgets.QLabel(\"sex\"), hbox)\n",
    "fbox.addRow(QtWidgets.QPushButton(\"Submit\"), QtWidgets.QPushButton(\"Cancel\"))\n",
    "\n",
    "win.setLayout(fbox)\n",
    "\n",
    "win.setWindowTitle(\"PyQt\")\n",
    "win.show()"
   ]
  },
  {
   "attachments": {
    "662f813c-5020-4884-85aa-9cb6b1d5bf0e.png": {
     "image/png": "[encoded data removed]"
    }
   },
   "cell_type": "markdown",
   "id": "aec977d3-211a-43f7-807d-6ee6d435c81d",
   "metadata": {},
   "source": [
    "![image.png](attachment:662f813c-5020-4884-85aa-9cb6b1d5bf0e.png)"
   ]
  },
  {
   "cell_type": "code",
   "execution_count": null,
   "id": "75b7a242-33d9-46fa-8ad1-833aed06366c",
   "metadata": {},
   "outputs": [],
   "source": []
  }
 ],
 "metadata": {
  "kernelspec": {
   "display_name": "Python [conda env:phoviz_ultimate]",
   "language": "python",
   "name": "conda-env-phoviz_ultimate-py"
  },
  "language_info": {
   "codemirror_mode": {
    "name": "ipython",
    "version": 3
   },
   "file_extension": ".py",
   "mimetype": "text/x-python",
   "name": "python",
   "nbconvert_exporter": "python",
   "pygments_lexer": "ipython3",
   "version": "3.9.12"
  }
 },
 "nbformat": 4,
 "nbformat_minor": 5
}
