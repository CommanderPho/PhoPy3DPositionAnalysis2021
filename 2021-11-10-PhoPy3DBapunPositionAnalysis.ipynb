{
 "cells": [
  {
   "cell_type": "code",
   "execution_count": 104,
   "id": "f6088dc9",
   "metadata": {
    "tags": []
   },
   "outputs": [],
   "source": [
    "#!/usr/bin/env python3\n",
    "# -*- coding: utf-8 -*-\n",
    "\"\"\"\n",
    "@author: pho\n",
    "\"\"\"\n",
    "import sys\n",
    "from threading import Thread\n",
    "from ipygany import PolyMesh, Scene, IsoColor, WarpByScalar\n",
    "import pyvista as pv\n",
    "import pyvistaqt as pvqt\n",
    "import colorcet as cc # Colormaps:\n",
    "\n",
    "# pv.set_jupyter_backend('pythreejs')\n",
    "# pv.set_jupyter_backend('ipygany') # ipygany fails \" Failed to use notebook backend: \"\n",
    "# pv.set_jupyter_backend('panel') # Doesn't work either, produces no output\n",
    "import numpy as np\n",
    "import h5py\n",
    "import hdf5storage # conda install hdf5storage\n",
    "from pathlib import Path\n",
    "import bqplot.scales\n",
    "import seaborn as sns\n",
    "from mpl_toolkits import mplot3d\n",
    "import matplotlib.pyplot as plt\n",
    "import matplotlib.cm as cm\n",
    "from matplotlib.colors import Normalize\n",
    "# import mplcursors\n",
    "import math # For color map generation\n",
    "from matplotlib.colors import ListedColormap\n",
    "from matplotlib.cm import hsv\n",
    "\n",
    "import ipywidgets as widgets\n",
    "# from PyQt5 import QtWidgets, uic\n",
    "from pyvistaqt import QtInteractor, MainWindow\n",
    "# from pyqt6 import QApplication\n",
    "from IPython.external.qt_for_kernel import QtGui\n",
    "from PyQt5.QtWidgets import QApplication"
   ]
  },
  {
   "cell_type": "code",
   "execution_count": 105,
   "id": "313eba69-5c27-4e2d-8563-2220af614aea",
   "metadata": {},
   "outputs": [],
   "source": [
    "# import PhoPositionalData as pdp\n",
    "# from PhoPositionalData import load_exported, process_data\n",
    "from PhoPositionalData.load_exported import *\n",
    "# from PhoPositionalData.process_data import process_positionalAnalysis_data, gen_2d_histrogram, get_heatmap_color_vectors, process_chunk_equal_poritions_data, extract_spike_timeseries\n",
    "from PhoPositionalData.process_data import *\n",
    "from PhoPositionalData.plot_data import *\n",
    "from PhoPositionalData.import_data import * # build_spike_positions_list, build_cellID_reverse_lookup_map"
   ]
  },
  {
   "cell_type": "code",
   "execution_count": 106,
   "id": "b5f94e40-c8dc-467a-9b67-7d2dcbbb277c",
   "metadata": {},
   "outputs": [
    {
     "name": "stdout",
     "output_type": "stream",
     "text": [
      "linearized position loaded from file.\n",
      "Loading success: .ripple.npy.\n",
      "Loading success: .mua.npy.\n",
      "Loading success: .pbe.npy.\n"
     ]
    }
   ],
   "source": [
    "# NeuroPy (Diba Lab Python Repo) Loading\n",
    "try:\n",
    "    from neuropy import core\n",
    "except ImportError:\n",
    "    sys.path.append(r'C:\\Users\\Pho\\repos\\NeuroPy')\n",
    "    # sys.path.append(r'/Users/pho/repo/Python Projects/NeuroPy')\n",
    "    print('neuropy module not found, adding directory to sys.path. \\nUpdated sys.path: {}'.format(sys.path))\n",
    "    from neuropy import core\n",
    "from neuropy.core.dataSession import DataSession, processDataSession\n",
    "\n",
    "basedir = 'R:\\data\\Bapun\\Day5TwoNovel'\n",
    "# basedir = '/Volumes/iNeo/Data/Bapun/Day5TwoNovel'\n",
    "sess = core.processDataSession(basedir)"
   ]
  },
  {
   "cell_type": "code",
   "execution_count": 107,
   "id": "266ad47c-45ab-498e-b43f-3aa8326f19be",
   "metadata": {},
   "outputs": [
    {
     "name": "stdout",
     "output_type": "stream",
     "text": [
      "num_cells: 52\n",
      "cell_ids: [  1   3   7   8   9  10  11  13  14  17  20  23  27  28  34  37  38  39\n",
      "  40  41  42  43  44  47  48  49  50  52  53  54  55  56  57  58  60  61\n",
      "  62  63  64  65  68  70  75  77  78  79  80  87  91  93  95 107]\n"
     ]
    }
   ],
   "source": [
    "# all_spikes = sess.neurons.get_all_spikes()\n",
    "# all_spikes.shape # (16318817,)\n",
    "\n",
    "# sess.neurons.spiketrains.shape # (109,)\n",
    "# sess.neurons.spiketrains[0].shape # (280944,)\n",
    "# sess.neurons.spiketrains[1].shape # (47282,)\n",
    "# # sess.neurons.get_by_id(\n",
    "\n",
    "# Filter the segments as desired\n",
    "active_epoch_times = sess.epochs['maze1']  # array([11070, 13970], dtype=int64)\n",
    "\n",
    "# spike_matrix, spike_cells, num_cells, spike_list, spike_positions_list, cell_ids, reverse_cellID_idx_lookup_map\n",
    "active_epoch_session_Neurons = sess.neurons.get_neuron_type('pyr') # Filter by pyramidal cells only\n",
    "active_epoch_session_Neurons = active_epoch_session_Neurons.time_slice(active_epoch_times[0], active_epoch_times[1]) # returns a core.Neurons object with its spiketrains filtered for the provided start/end times\n",
    "num_cells = active_epoch_session_Neurons.n_neurons\n",
    "spike_list = active_epoch_session_Neurons.spiketrains\n",
    "cell_ids = active_epoch_session_Neurons.neuron_ids\n",
    "# t, x, y\n",
    "active_epoch_pos = sess.position.time_slice(active_epoch_times[0], active_epoch_times[1])\n",
    "t = active_epoch_pos.time\n",
    "x = active_epoch_pos.x\n",
    "y = active_epoch_pos.y\n",
    "# speeds = active_epoch_pos.speed # note this has 1 less element than active_epoch_pos.x\n",
    "\n",
    "# Determine the x and y positions each spike occured for each cell\n",
    "spike_positions_list = build_spike_positions_list(spike_list, t, x, y) \n",
    " # reverse_cellID_idx_lookup_map: Allows reverse indexing into the linear imported array using the original cell ID indicies\n",
    "reverse_cellID_idx_lookup_map = build_cellID_reverse_lookup_map(cell_ids)\n",
    "    \n",
    "print('num_cells: {}'.format(num_cells))\n",
    "print('cell_ids: {}'.format(cell_ids)) # cell_ids is now a regular python list with 57 elements"
   ]
  },
  {
   "cell_type": "code",
   "execution_count": 108,
   "id": "b45e9804-1ee7-4338-8d0d-8a12b5a43a51",
   "metadata": {},
   "outputs": [],
   "source": [
    "# reverse_cellID_idx_lookup_map[2]\n",
    "active_cells_colormap = cc.rainbow[:num_cells]\n",
    "# active_cells_colormap\n",
    "# print('{}'.format(cell_ids[0, 0]))"
   ]
  },
  {
   "cell_type": "code",
   "execution_count": 109,
   "id": "e64b3d1c",
   "metadata": {},
   "outputs": [
    {
     "name": "stdout",
     "output_type": "stream",
     "text": [
      "shape - outputMatrix_fixedSegements: (3, 1160, 150)\n",
      "shapes - t_fixedSegements: (1160, 150), x_fixedSegements: (1160, 150), y_fixedSegements: (1160, 150)\n"
     ]
    }
   ],
   "source": [
    "# Split the position data into equal sized chunks to be displayed at a single time. These will look like portions of the trajectory and be used to animate. # Chunk the data to create the animation.\n",
    "# curr_view_window_length = 150 # View 5 seconds at a time (30fps)\n",
    "curr_view_window_length = 150 # View 5 seconds at a time (30fps)\n",
    "# The original length 324574 / 30 = 10819\n",
    "# t_fixedSegements,x_fixedSegements,y_fixedSegements,speeds_fixedSegements,dt_fixedSegements,dx_fixedSegements,dy_fixedSegements = process_chunk_equal_poritions_data(t, x, y, speeds, dt, dx, dy, curr_view_window_length)\n",
    "# print('shapes - t_fixedSegements: {}, x_fixedSegements: {}, y_fixedSegements: {}'.format(np.shape(t_fixedSegements), np.shape(x_fixedSegements), np.shape(y_fixedSegements)))\n",
    "# z_fixedSegements = np.zeros_like(x_fixedSegements)\n",
    "# np.vstack(\n",
    "\n",
    "data_vectors_matrix = np.vstack([t, x, y]) # pack the variables of interest into the data_vector_matrix\n",
    "outputMatrix_fixedSegements = process_chunk_equal_poritions_data_vectors(data_vectors_matrix, curr_view_window_length)\n",
    "print('shape - outputMatrix_fixedSegements: {}'.format(np.shape(outputMatrix_fixedSegements)))\n",
    "num_data_vectors = np.shape(outputMatrix_fixedSegements)[0]\n",
    "# unpack the result\n",
    "t_fixedSegements, x_fixedSegements, y_fixedSegements = [np.squeeze(outputMatrix_fixedSegements[i,:,:]) for i in np.arange(num_data_vectors)]\n",
    "print('shapes - t_fixedSegements: {}, x_fixedSegements: {}, y_fixedSegements: {}'.format(np.shape(t_fixedSegements), np.shape(x_fixedSegements), np.shape(y_fixedSegements)))\n",
    "# z_fixedSegements = np.zeros_like(y_fixedSegements)\n",
    "z_fixedSegements = np.full_like(y_fixedSegements, 1.1) # slightly above the zero plane to ensure it's above the flat map\n",
    "\n"
   ]
  },
  {
   "cell_type": "code",
   "execution_count": 115,
   "id": "3cdf5c19-b430-4f88-87eb-a83ca81fe1d2",
   "metadata": {
    "pycharm": {
     "name": "#%%\n"
    }
   },
   "outputs": [
    {
     "name": "stdout",
     "output_type": "stream",
     "text": [
      "num_time_points: 1160\n",
      "\n",
      "BackgroundPlotter already open, reusing it\n"
     ]
    },
    {
     "ename": "AttributeError",
     "evalue": "'NoneType' object has no attribute 'interactor'",
     "output_type": "error",
     "traceback": [
      "\u001b[1;31m---------------------------------------------------------------------------\u001b[0m",
      "\u001b[1;31mAttributeError\u001b[0m                            Traceback (most recent call last)",
      "\u001b[1;32m~\\AppData\\Local\\Temp/ipykernel_13028/500908327.py\u001b[0m in \u001b[0;36m<module>\u001b[1;34m\u001b[0m\n\u001b[0;32m    102\u001b[0m \u001b[1;33m\u001b[0m\u001b[0m\n\u001b[0;32m    103\u001b[0m \u001b[1;32mif\u001b[0m \u001b[1;33m(\u001b[0m\u001b[1;32mnot\u001b[0m \u001b[0mactive_is_video_output_mode\u001b[0m\u001b[1;33m)\u001b[0m\u001b[1;33m:\u001b[0m\u001b[1;33m\u001b[0m\u001b[1;33m\u001b[0m\u001b[0m\n\u001b[1;32m--> 104\u001b[1;33m     \u001b[0mp\u001b[0m\u001b[1;33m.\u001b[0m\u001b[0madd_slider_widget\u001b[0m\u001b[1;33m(\u001b[0m\u001b[0mon_slider_update_mesh\u001b[0m\u001b[1;33m,\u001b[0m \u001b[1;33m[\u001b[0m\u001b[1;36m0\u001b[0m\u001b[1;33m,\u001b[0m \u001b[1;33m(\u001b[0m\u001b[0mnum_time_points\u001b[0m\u001b[1;33m-\u001b[0m\u001b[1;36m1\u001b[0m\u001b[1;33m)\u001b[0m\u001b[1;33m]\u001b[0m\u001b[1;33m,\u001b[0m \u001b[0mtitle\u001b[0m\u001b[1;33m=\u001b[0m\u001b[1;34m'Trajectory Timestep'\u001b[0m\u001b[1;33m,\u001b[0m \u001b[0mevent_type\u001b[0m\u001b[1;33m=\u001b[0m\u001b[1;34m'always'\u001b[0m\u001b[1;33m,\u001b[0m \u001b[0mstyle\u001b[0m\u001b[1;33m=\u001b[0m\u001b[1;34m'modern'\u001b[0m\u001b[1;33m)\u001b[0m\u001b[1;33m\u001b[0m\u001b[1;33m\u001b[0m\u001b[0m\n\u001b[0m\u001b[0;32m    105\u001b[0m \u001b[1;33m\u001b[0m\u001b[0m\n\u001b[0;32m    106\u001b[0m \u001b[0mpdata_maze\u001b[0m\u001b[1;33m,\u001b[0m \u001b[0mpc_maze\u001b[0m \u001b[1;33m=\u001b[0m \u001b[0mbuild_flat_map_plot_data\u001b[0m\u001b[1;33m(\u001b[0m\u001b[1;33m)\u001b[0m\u001b[1;33m\u001b[0m\u001b[1;33m\u001b[0m\u001b[0m\n",
      "\u001b[1;32m~\\anaconda3\\envs\\phoviz\\lib\\site-packages\\pyvista\\plotting\\widgets.py\u001b[0m in \u001b[0;36madd_slider_widget\u001b[1;34m(self, callback, rng, value, title, pointa, pointb, color, pass_widget, event_type, style, title_height, title_opacity, title_color, fmt)\u001b[0m\n\u001b[0;32m   1000\u001b[0m \u001b[1;33m\u001b[0m\u001b[0m\n\u001b[0;32m   1001\u001b[0m         \u001b[0mslider_widget\u001b[0m \u001b[1;33m=\u001b[0m \u001b[0m_vtk\u001b[0m\u001b[1;33m.\u001b[0m\u001b[0mvtkSliderWidget\u001b[0m\u001b[1;33m(\u001b[0m\u001b[1;33m)\u001b[0m\u001b[1;33m\u001b[0m\u001b[1;33m\u001b[0m\u001b[0m\n\u001b[1;32m-> 1002\u001b[1;33m         \u001b[0mslider_widget\u001b[0m\u001b[1;33m.\u001b[0m\u001b[0mSetInteractor\u001b[0m\u001b[1;33m(\u001b[0m\u001b[0mself\u001b[0m\u001b[1;33m.\u001b[0m\u001b[0miren\u001b[0m\u001b[1;33m.\u001b[0m\u001b[0minteractor\u001b[0m\u001b[1;33m)\u001b[0m\u001b[1;33m\u001b[0m\u001b[1;33m\u001b[0m\u001b[0m\n\u001b[0m\u001b[0;32m   1003\u001b[0m         \u001b[0mslider_widget\u001b[0m\u001b[1;33m.\u001b[0m\u001b[0mSetCurrentRenderer\u001b[0m\u001b[1;33m(\u001b[0m\u001b[0mself\u001b[0m\u001b[1;33m.\u001b[0m\u001b[0mrenderer\u001b[0m\u001b[1;33m)\u001b[0m\u001b[1;33m\u001b[0m\u001b[1;33m\u001b[0m\u001b[0m\n\u001b[0;32m   1004\u001b[0m         \u001b[0mslider_widget\u001b[0m\u001b[1;33m.\u001b[0m\u001b[0mSetRepresentation\u001b[0m\u001b[1;33m(\u001b[0m\u001b[0mslider_rep\u001b[0m\u001b[1;33m)\u001b[0m\u001b[1;33m\u001b[0m\u001b[1;33m\u001b[0m\u001b[0m\n",
      "\u001b[1;31mAttributeError\u001b[0m: 'NoneType' object has no attribute 'interactor'"
     ]
    }
   ],
   "source": [
    "num_time_points = np.shape(x_fixedSegements)[0]\n",
    "print('num_time_points: {}\\n'.format(num_time_points))\n",
    "animal_location_sphere = pv.Sphere(radius=2.3)\n",
    "animal_location_direction_cone = pv.Cone()\n",
    "animal_location_circle = pv.Circle(radius=2.3)\n",
    "\n",
    "#     animal_direction_arrow = pv.Arrow()\n",
    "last_only_opacity_values = np.zeros([curr_view_window_length,])\n",
    "last_only_opacity_values[-1] = 1.0\n",
    "\n",
    "# gradually_fading_opacity_values = np.arange(curr_view_window_length)\n",
    "gradually_fading_opacity_values = np.linspace(0.0, 1.0, curr_view_window_length)\n",
    "sharply_fading_opacity_values = np.linspace(0.0, 0.6, curr_view_window_length)\n",
    "sharply_fading_opacity_values[-1] = 0.8 # last element (corresponding to current position) is set to 1.0\n",
    "\n",
    "# active_trail_opacity_values = last_only_opacity_values.copy()\n",
    "# active_trail_opacity_values = gradually_fading_opacity_values.copy()\n",
    "active_trail_opacity_values = sharply_fading_opacity_values.copy()\n",
    "# print('active_trail_opacity_values: {}\\n'.format(np.shape(active_trail_opacity_values)))\n",
    "# active_trail_size_values = np.full([curr_view_window_length,], 0.6) # all have a scale of 0.6\n",
    "active_trail_size_values = np.linspace(0.2, 0.6, curr_view_window_length) # fade from a scale of 0.2 to 0.6\n",
    "active_trail_size_values[-1] = 1.0 # except for the end (current) point, which has a scale of 1.0\n",
    "# active_trail_size_values = sharply_fading_opacity_values.copy()\n",
    "## Slider with Callback Function Example:\n",
    "\n",
    "# p = pvqt.BackgroundPlotter() # Use just like you would a pv.Plotter() instance\n",
    "\n",
    "def build_flat_map_plot_data():\n",
    "    # Builds the flat base maze map that the other data will be plot on top of\n",
    "    z = np.zeros_like(x)\n",
    "    point_cloud = np.vstack((x, y, z)).T\n",
    "    pdata = pv.PolyData(point_cloud)\n",
    "    pdata['occupancy heatmap'] = np.arange(np.shape(point_cloud)[0])\n",
    "    # create many spheres from the point cloud\n",
    "    # geo = pv.Sphere(radius=0.2, phi_resolution=3, theta_resolution=3)\n",
    "    # geo = pv.ParametricSuperEllipsoid(n1=0.1, n2=2)\n",
    "    # geo = pv.ParametricSuperEllipsoid(xradius=0.2, yradius=0.2, zradius=0.02, n1=0.1, n2=0.1) # makes a square title geometry\n",
    "    geo = pv.Circle(radius=0.5)\n",
    "    pc = pdata.glyph(scale=False, geom=geo)\n",
    "    return pdata, pc\n",
    "\n",
    "def on_slider_update_mesh(value):\n",
    "    curr_i = int(value)\n",
    "    point_cloud_fixedSegements = np.column_stack((x_fixedSegements[curr_i,:], y_fixedSegements[curr_i,:], z_fixedSegements[curr_i,:]))\n",
    "#     print('point_cloud_fixedSegements: {}\\n'.format(np.shape(point_cloud_fixedSegements)))\n",
    "    curr_animal_point = point_cloud_fixedSegements[-1,:] # Get the last point\n",
    "#     actor = p.add_mesh(pyvista.Cube(), show_edges=True)\n",
    "#     mesh = pv.PolyData(point_cloud_fixedSegements)\n",
    "#     mesh.plot(point_size=10, style='points')\n",
    "    pdata = pv.PolyData(point_cloud_fixedSegements) # a mesh\n",
    "    pdata.point_data['pho_fade_values'] = active_trail_opacity_values\n",
    "    pdata.point_data['pho_size_values'] = active_trail_size_values\n",
    "\n",
    "    # create many spheres from the point cloud\n",
    "    pc = pdata.glyph(scale='pho_size_values', geom=animal_location_circle)\n",
    "    # pc = pdata.glyph(scale='pho_size_values', geom=animal_location_sphere)\n",
    "    \n",
    "    # print('pdata.array_names: {}'.format(pdata.array_names))\n",
    "    # print('pc.array_names: {}'.format(pc.array_names)) # pc.array_names: ['pho_size_values', 'pho_fade_values']\n",
    "    \n",
    "    # plines = p.add_lines(point_cloud_fixedSegements, name='animal_trajectory_lines', color='orange')\n",
    "    # plines.point_data['pho_fade_values'] = active_trail_opacity_values\n",
    "    #     p.add_mesh(pc, name='animal_location', color=\"red\", opacity='linear', scalars='pho_fade_values', nan_opacity=0.0, use_transparency=True)\n",
    "    # p.add_mesh(pc, name='animal_location', color='red', ambient=0.6, opacity=0.8, nan_opacity=0.0, use_transparency=True)\n",
    "    # p.add_mesh(pc, name='animal_location', color='red', ambient=0.6, opacity=\"pho_fade_values\", nan_opacity=0.0, use_transparency=True)\n",
    "\n",
    "    animal_location_trail_mesh = p.add_mesh(pc, name='animal_location', color='white', ambient=0.6, opacity='linear_r', scalars='pho_fade_values', nan_opacity=0.0, show_edges=False, render_lines_as_tubes=True, show_scalar_bar=False, use_transparency=True) # works to render a heat colored (most recent==hotter) position\n",
    "    # animal_location_trail_mesh = p.add_mesh(pc, name='animal_location', color='white', ambient=0.6, opacity=1.0, nan_opacity=0.0, show_edges=False, render_lines_as_tubes=True, show_scalar_bar=False) # works to render a heat colored (most recent==hotter) position\n",
    "    \n",
    "    # Involves deep customization using VtkProperties. See https://vtk.org/doc/release/4.0/html/classvtkMapper.html#a18 :\n",
    "    #  For more: https://www.programcreek.com/python/example/7857/vtk.vtkActor\n",
    "    # animal_location_trail_mesh.GetProperty().SetColor([1.0, 0.0, 0.0]) # Working, so long as scalars isn't set\n",
    "    # animal_location_trail_mesh.GetProperty().SetOpacity('pho_fade_values') #\n",
    "    # animal_location_trail_mesh.GetMapper().GetColorModeAsString() # should return the current color mode (like whether color is set by a property, or from the scalars, etc)\n",
    "    # print('animal_location_trail_mesh.GetMapper().GetColorModeAsString(): {}'.format(animal_location_trail_mesh.GetMapper().GetColorModeAsString())) # when scalars are set, returns \"MapScalars\" otherwise returns \"Default\"\n",
    "    \n",
    "    ## Fixes the problem of the scalars determining the object's color when I don't want them to:\n",
    "    animal_location_trail_mesh.GetMapper().ScalarVisibilityOff() # Scalars not used to color objects\n",
    "    p.render() # renders to ensure it's updated after changing the ScalarVisibility above\n",
    "    p.app.processEvents() # not needed probably\n",
    "    return\n",
    "\n",
    "# Video Output Settings:\n",
    "active_is_video_output_mode = False\n",
    "active_video_output_parent_dir = Path('output')\n",
    "active_video_output_filename = 'complete_plotting_new.mp4'\n",
    "active_video_output_fullpath = active_video_output_parent_dir.joinpath(active_video_output_filename)\n",
    "        \n",
    "# Only Create a new BackgroundPlotter if it's needed:\n",
    "if ((p is None) or p.app_window.isHidden()):\n",
    "    print('No open BackgroundPlotter. Creating a new one')\n",
    "    p = pvqt.BackgroundPlotter() # Use just like you would a pv.Plotter() instance\n",
    "else:\n",
    "    print('BackgroundPlotter already open, reusing it')\n",
    "    p.app_window.window().show()\n",
    "    p.clear()\n",
    "\n",
    "# p = pv.Plotter() # Use just like you would a pv.Plotter() instance\n",
    "# p.background_color = 'black'\n",
    "\n",
    "\n",
    "if (not active_is_video_output_mode):\n",
    "    p.add_slider_widget(on_slider_update_mesh, [0, (num_time_points-1)], title='Trajectory Timestep', event_type='always', style='modern')\n",
    "                  \n",
    "pdata_maze, pc_maze = build_flat_map_plot_data()\n",
    "# Plot the flat arena\n",
    "p.add_mesh(pc_maze, name='maze_bg', color=\"black\")\n",
    "# p.add_bounding_box()\n",
    "# p.show_grid()\n",
    "# p.add_axes(line_width=5, labels_off=True)\n",
    "p.hide_axes()\n",
    "\n",
    "if active_is_video_output_mode:\n",
    "    print('Writing video to {}...'.format(active_video_output_fullpath))\n",
    "    # active_frame_range = np.arange(num_time_points) # All frames\n",
    "    # active_frame_range = np.arange(num_time_points) # All frames\n",
    "    active_frame_range = np.arange(100) # Only 100 frames\n",
    "    # active_frame_range = range(100) # Only 100 frames\n",
    "    make_mp4_from_plotter(p, active_frame_range, on_slider_update_mesh, filename=active_video_output_fullpath)\n",
    "\n",
    "\n",
    "# p.show()\n",
    "                  \n",
    "print('all done!')"
   ]
  },
  {
   "cell_type": "code",
   "execution_count": 116,
   "id": "fdbe3ee8-98d3-434b-a379-1386d53c5018",
   "metadata": {},
   "outputs": [
    {
     "data": {
      "text/plain": [
       "True"
      ]
     },
     "execution_count": 116,
     "metadata": {},
     "output_type": "execute_result"
    }
   ],
   "source": [
    "# p.app.focusWindow()\n",
    "p.app_window.isHidden()\n"
   ]
  },
  {
   "cell_type": "code",
   "execution_count": 114,
   "id": "e8790d26-0ed5-4606-aece-cb70d2fadade",
   "metadata": {},
   "outputs": [],
   "source": [
    "p.app_window.window().show()"
   ]
  },
  {
   "cell_type": "code",
   "execution_count": 120,
   "id": "b6d2c994-0e6b-4c0a-ad26-58c006bfbb49",
   "metadata": {},
   "outputs": [
    {
     "name": "stdout",
     "output_type": "stream",
     "text": [
      "BackgroundPlotter already open, reusing it\n"
     ]
    }
   ],
   "source": []
  },
  {
   "cell_type": "code",
   "execution_count": null,
   "id": "fd9d4d9c-c39e-4b59-b08f-1e6a34da36af",
   "metadata": {},
   "outputs": [],
   "source": []
  },
  {
   "cell_type": "code",
   "execution_count": null,
   "id": "2f5903ed-d8f4-46f0-bf2d-f83fdd021cb5",
   "metadata": {},
   "outputs": [],
   "source": []
  }
 ],
 "metadata": {
  "celltoolbar": "Tags",
  "interpreter": {
   "hash": "fde6e68fa8f5f4f0920a88ee99edd8d4121f14a57a7800ceb19ed197f25c05dc"
  },
  "kernelspec": {
   "display_name": "Python 3 (ipykernel)",
   "language": "python",
   "name": "python3"
  },
  "language_info": {
   "codemirror_mode": {
    "name": "ipython",
    "version": 3
   },
   "file_extension": ".py",
   "mimetype": "text/x-python",
   "name": "python",
   "nbconvert_exporter": "python",
   "pygments_lexer": "ipython3",
   "version": "3.9.7"
  }
 },
 "nbformat": 4,
 "nbformat_minor": 5
}
