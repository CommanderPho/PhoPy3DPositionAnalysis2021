{
 "cells": [
  {
   "cell_type": "code",
   "execution_count": 1,
   "outputs": [
    {
     "name": "stderr",
     "text": [
      "C:\\Users\\pho\\miniconda3\\envs\\phoviz_ultimate\\lib\\site-packages\\outdated\\utils.py:14: OutdatedPackageWarning: The package pingouin is out of date. Your version is 0.5.0, the latest is 0.5.1.\nSet the environment variable OUTDATED_IGNORE=1 to disable these warnings.\n  return warn(\n"
     ],
     "output_type": "stream"
    }
   ],
   "source": [
    "\"\"\"\n",
    "@author: pho\n",
    "\"\"\"\n",
    "\n",
    "# noinspection JupyterPackage\n",
    "\"\"\"\n",
    "Can run via:\n",
    "\n",
    "# change directory to PhoPy3DPositionAnalysis2021 repo\n",
    "cd 'C:\\\\Users\\\\pho\\\\repos\\\\PhoPy3DPositionAnalysis2021'\n",
    "# Call iPython:\n",
    "ipython iPython_PipelineRun.ipy\n",
    "\n",
    "jupyter qtconsole \n",
    "# change directory to PhoPy3DPositionAnalysis2021 repo\n",
    "cd 'C:\\\\Users\\\\pho\\\\repos\\\\PhoPy3DPositionAnalysis2021'\n",
    "\n",
    "\n",
    "pip install pyqt6 qt6-applications qt6-tools pyqt6-plugins pyqt6-sip pyqt6-qt6 pyqt6-sip\n",
    "\n",
    "pip install PyQt6\n",
    "\n",
    "\"\"\"\n",
    "%load_ext autoreload\n",
    "%autoreload 2\n",
    "import sys\n",
    "import importlib\n",
    "from pathlib import Path\n",
    "\n",
    "import numpy as np\n",
    "\n",
    "# required to enable non-blocking interaction:\n",
    "# %gui qt\n",
    "# $env:QT_API=\"pyqt6\"\n",
    "%gui qt5\n",
    "# %gui qt6\n",
    "# from PyQt5.Qt import QApplication\n",
    "# # start qt event loop\n",
    "# _instance = QApplication.instance()\n",
    "# if not _instance:\n",
    "#     _instance = QApplication([])\n",
    "# app = _instance\n",
    "import pyqtgraph as pg\n",
    "from pyqtgraph.Qt import QtCore, QtGui\n",
    "from pyqtgraph.Qt import QtGui, QtCore, QtWidgets\n",
    "from pyqtgraph.console import ConsoleWidget\n",
    "from pyqtgraph.widgets.MatplotlibWidget import MatplotlibWidget\n",
    "from pyqtgraph.dockarea.Dock import Dock\n",
    "from pyqtgraph.dockarea.DockArea import DockArea\n",
    "\n",
    "from pyphoplacecellanalysis.GUI.PyQtPlot.Flowchart.CustomNodes.Mixins.DisplayNodeViewHelpers import ProducedViewType\n",
    "from pyphoplacecellanalysis.GUI.PyQtPlot.Flowchart.pyqtplot_Flowchart import plot_flowchartWidget"
   ],
   "metadata": {
    "collapsed": false,
    "pycharm": {
     "name": "#%%\n",
     "is_executing": false
    }
   }
  },
  {
   "cell_type": "code",
   "execution_count": 2,
   "outputs": [
    {
     "name": "stdout",
     "text": [
      "cw: <PyQt5.QtWidgets.QWidget object at 0x0000024F833390D0>\nnum_known_types: 2\nctrl_node_ops: [('data_mode', 'combo', {'values': ['bapun', 'kdiba', 'custom...'], 'index': 0})]\n custom_ops:[('reload', 'action')]\n self.uiTemplate: [('data_mode', 'combo', {'values': ['bapun', 'kdiba', 'custom...'], 'index': 0})]\n\nctrl_node_ops: []\n custom_ops:[('included_configs_table', 'extendedchecktable', {'columns': ['filter'], 'rows': ['test1', 'test2']}), ('refilter', 'action')]\n self.uiTemplate: []\n\nctrl_node_ops: []\n custom_ops:[('recompute', 'action'), ('included_configs_table', 'extendedchecktable', {'columns': ['compute'], 'rows': ['test1', 'test2']})]\n self.uiTemplate: []\n\nPipelineInputDataNode.data_mode: bapun\n",
      "basedir is already Path object.\n\t basepath: R:\\data\\Bapun\\Day5TwoNovel\n\t session_name: RatS-Day5TwoNovel-2020-12-04_07-55-09\nconverting neuron_type strings to core.neurons.NeuronType objects...\n\t done.\nIssue with pickled POSIX_PATH on windows for path R:\\data\\Bapun\\Day5TwoNovel\\RatS-Day5TwoNovel-2020-12-04_07-55-09.probegroup.npy, falling back to non-pickled version...\nPosition falling back to legacy loading protocol...: dict_rep: {'traces': array([[-50.946354, -50.946354, -50.946354, ..., -45.350155, -45.350155,\n        -45.350155],\n       [-50.646282, -50.646282, -50.646282, ...,  64.150757,  64.150757,\n         64.150757],\n       [  7.124897,   7.124897,   7.124897, ...,   5.571329,   5.571329,\n          5.571329]]), 'computed_traces': array([[nan, nan, nan, ..., nan, nan, nan]]), 't_start': 0, 'sampling_rate': 60, 'metadata': None}\n",
      "linearized position loaded from file.\n",
      "Loading success: .flattened.spikes.npy.\nLoading success: .ripple.npy.\nLoading success: .mua.npy.\nLoading success: .pbe.npy.\n"
     ],
     "output_type": "stream"
    }
   ],
   "source": [
    "pipeline_flowchart_window, pipeline_flowchart_app = plot_flowchartWidget(title='PhoMainPipelineFlowchartApp')"
   ],
   "metadata": {
    "collapsed": false,
    "pycharm": {
     "name": "#%%\n",
     "is_executing": false
    }
   }
  },
  {
   "cell_type": "code",
   "execution_count": null,
   "outputs": [],
   "source": [
    "# Currently works without ever calling this using evaluation in PyCharm 2019.1 (Jupyter Notebook Mode)\n",
    "# pg.exec()"
   ],
   "metadata": {
    "collapsed": false,
    "pycharm": {
     "name": "#%%\n"
    }
   }
  },
  {
   "cell_type": "code",
   "execution_count": 20,
   "outputs": [],
   "source": [
    "dock_area = pipeline_flowchart_window.area\n",
    "curr_dock_items = dock_area.children()"
   ],
   "metadata": {
    "collapsed": false,
    "pycharm": {
     "name": "#%%\n",
     "is_executing": false
    }
   }
  },
  {
   "cell_type": "code",
   "execution_count": 4,
   "outputs": [
    {
     "data": {
      "text/plain": "OrderedDict([('Group',\n              OrderedDict([('Group',\n                            {'dock': <Dock Group (300, 200)>,\n                             'widget': <pyqtgraph.widgets.MatplotlibWidget.MatplotlibWidget at 0x24f88d18790>}),\n                           ('Group-1',\n                            {'dock': <Dock Group-1 (300, 200)>,\n                             'widget': <pyqtgraph.widgets.MatplotlibWidget.MatplotlibWidget at 0x24f88d71d30>}),\n                           ('Group-2',\n                            {'dock': <Dock Group-2 (300, 200)>,\n                             'widget': <pyqtgraph.widgets.MatplotlibWidget.MatplotlibWidget at 0x24f88d24790>}),\n                           ('Group-3',\n                            {'dock': <Dock Group-3 (300, 200)>,\n                             'widget': <pyqtgraph.widgets.MatplotlibWidget.MatplotlibWidget at 0x24f8848f040>})]))])"
     },
     "metadata": {},
     "output_type": "execute_result",
     "execution_count": 4
    }
   ],
   "source": [
    "pipeline_flowchart_window.dynamic_display_dict\n",
    "# OrderedDict([('Group',\n",
    "#               OrderedDict([('Group',\n",
    "#                             {'dock': <Dock Group (300, 200)>,\n",
    "#                              'widget': <pyqtgraph.widgets.MatplotlibWidget.MatplotlibWidget at 0x24f88d18790>}),\n",
    "#                            ('Group-1',\n",
    "#                             {'dock': <Dock Group-1 (300, 200)>,\n",
    "#                              'widget': <pyqtgraph.widgets.MatplotlibWidget.MatplotlibWidget at 0x24f88d71d30>}),\n",
    "#                            ('Group-2',\n",
    "#                             {'dock': <Dock Group-2 (300, 200)>,\n",
    "#                              'widget': <pyqtgraph.widgets.MatplotlibWidget.MatplotlibWidget at 0x24f88d24790>}),\n",
    "#                            ('Group-3',\n",
    "#                             {'dock': <Dock Group-3 (300, 200)>,\n",
    "#                              'widget': <pyqtgraph.widgets.MatplotlibWidget.MatplotlibWidget at 0x24f8848f040>})]))])\n"
   ],
   "metadata": {
    "collapsed": false,
    "pycharm": {
     "name": "#%%\n",
     "is_executing": false
    }
   }
  },
  {
   "cell_type": "code",
   "execution_count": 8,
   "outputs": [
    {
     "name": "stdout",
     "text": [
      "No extant groups/items found with name Group-1\n"
     ],
     "output_type": "stream"
    }
   ],
   "source": [
    "# test programmatic removal of items\n",
    "pipeline_flowchart_window.remove_display_dock('Group-1')"
   ],
   "metadata": {
    "collapsed": false,
    "pycharm": {
     "name": "#%%\n",
     "is_executing": false
    }
   }
  },
  {
   "cell_type": "code",
   "execution_count": 7,
   "outputs": [
    {
     "data": {
      "text/plain": "(<pyqtgraph.widgets.MatplotlibWidget.MatplotlibWidget at 0x24f849115e0>,\n <Dock Group-3 (300, 200)>)"
     },
     "metadata": {},
     "output_type": "execute_result",
     "execution_count": 7
    }
   ],
   "source": [
    "# Test programmatically adding dock items as display widgets:\n",
    "# pipeline_flowchart_window.add_display_dock('Group[0]', viewContentsType=ProducedViewType.Matplotlib)\n",
    "pipeline_flowchart_window.add_display_dock('Group', viewContentsType=ProducedViewType.Matplotlib)\n",
    "pipeline_flowchart_window.add_display_dock('Group', viewContentsType=ProducedViewType.Matplotlib)\n",
    "pipeline_flowchart_window.add_display_dock('Group', viewContentsType=ProducedViewType.Matplotlib)\n",
    "pipeline_flowchart_window.add_display_dock('Group', viewContentsType=ProducedViewType.Matplotlib)\n",
    "\n",
    "# \n",
    "# dItem = Dock(\"Display Outputs - Dynamic\", size=(600,900), closable=True)\n",
    "# pipeline_flowchart_window.area.addDock(dItem, 'right')\n",
    "# pipeline_flowchart_window.displayDockArea = DockArea()\n",
    "# dItem.addWidget(pipeline_flowchart_window.displayDockArea) # add the dynamic nested Dock area to the dItem widget\n"
   ],
   "metadata": {
    "collapsed": false,
    "pycharm": {
     "name": "#%%\n",
     "is_executing": false
    }
   }
  },
  {
   "cell_type": "code",
   "execution_count": 10,
   "outputs": [],
   "source": [
    "# Add the sample display dock items to the nested dynamic display dock:\n",
    "dDisplayItem = Dock(\"Display Subdock Item\", size=(300,200), closable=True)\n",
    "pipeline_flowchart_window.displayDockArea.addDock(dDisplayItem, 'left')\n",
    "# Add the widget to the new display item:\n",
    "new_view_widget = MatplotlibWidget()\n",
    "dDisplayItem.addWidget(new_view_widget)\n",
    "\n",
    "# add example plot to figure\n",
    "subplot = new_view_widget.getFigure().add_subplot(111)\n",
    "subplot.plot(np.arange(9))\n",
    "new_view_widget.draw()\n"
   ],
   "metadata": {
    "collapsed": false,
    "pycharm": {
     "name": "#%%\n",
     "is_executing": false
    }
   }
  },
  {
   "cell_type": "code",
   "execution_count": null,
   "outputs": [],
   "source": [
    "pipeline_flowchart = pipeline_flowchart_window.flowchart\n",
    "flowchart_controls_widget = pipeline_flowchart.widget() # FlowchartCtrlWidget"
   ],
   "metadata": {
    "collapsed": false,
    "pycharm": {
     "name": "#%%\n"
    }
   }
  },
  {
   "cell_type": "code",
   "execution_count": 8,
   "outputs": [],
   "source": [
    "# # flowchart_controls_widget.ui.ctrlList is a TreeWidget\n",
    "# flowchart_controls_widget.ui.ctrlList.expandAll()\n",
    "\n",
    "flowchart_window = flowchart_controls_widget.cwWin"
   ],
   "metadata": {
    "collapsed": false,
    "pycharm": {
     "name": "#%%\n",
     "is_executing": false
    }
   }
  },
  {
   "cell_type": "code",
   "execution_count": 5,
   "outputs": [],
   "source": [
    "pipeline_flowchart_nodes = pipeline_flowchart.nodes()\n",
    "# {'Input': <Node Input @13fc5877a60>,\n",
    "#  'Output': <Node Output @13fc5877af0>,\n",
    "#  'PipelineInputDataNode.0': <Node PipelineInputDataNode.0 @13fcb1428b0>,\n",
    "#  'PipelineFilteringDataNode.0': <Node PipelineFilteringDataNode.0 @13fcb145ca0>,\n",
    "#  'PipelineComputationsNode.0': <Node PipelineComputationsNode.0 @13fcb14c1f0>,\n",
    "#  'PipelineDisplayNode.0': <Node PipelineDisplayNode.0 @13fcb14eb80>}"
   ],
   "metadata": {
    "collapsed": false,
    "pycharm": {
     "name": "#%%\n",
     "is_executing": false
    }
   }
  },
  {
   "cell_type": "code",
   "execution_count": 42,
   "outputs": [
    {
     "name": "stdout",
     "text": [
      "curr_display_fcn: _display_3d_interactive_tuning_curves_plotter\n"
     ],
     "output_type": "stream"
    }
   ],
   "source": [
    "# curr_node = pipeline_flowchart_nodes['Input']\n",
    "# curr_node = pipeline_flowchart_nodes['PipelineFilteringDataNode.0']\n",
    "# curr_node = pipeline_flowchart_nodes['PipelineComputationsNode.0']\n",
    "\n",
    "# curr_node = pipeline_flowchart_window.flowchart.nodes()['PipelineDisplayNode.0']\n",
    "# display_outputs = curr_node.outputs()['display_outputs'].value()\n",
    "\n",
    "curr_node = pipeline_flowchart_window.flowchart.nodes()['PipelineDisplayNode.1']\n",
    "display_outputs = curr_node.outputs()['display_outputs'].value()\n",
    "\n",
    "curr_node.on_add_function = None"
   ],
   "metadata": {
    "collapsed": false,
    "pycharm": {
     "name": "#%%\n",
     "is_executing": false
    }
   }
  },
  {
   "cell_type": "code",
   "execution_count": 36,
   "outputs": [
    {
     "name": "stdout",
     "text": [
      "curr_display_fcn: _display_3d_interactive_spike_and_behavior_browser\ncomputation_result.sess: DataSession(RatS-Day5TwoNovel-2020-12-04_07-55-09.xml)\nactive_epoch_pos.sampling_rate (Hz): 59.999976362569846\nlonger_spikes_window - curr_view_window_length_samples - 61439\nrecent_spikes_window - curr_view_window_length_samples - 599\nApplying custom Pyvista theme.\ndone.\nNo open BackgroundPlotter\nCreating a new BackgroundPlotter\n",
      "[f] - Focus and zoom in on the last clicked point\nshift+click - Drag to pan the rendering scene\nctrl+click - Rotate the scene in 2D\n",
      "active_fig_num: 1\n"
     ],
     "output_type": "stream"
    }
   ],
   "source": [
    "# display_outputs['plotter'].close() # this works to close it\n",
    "\n",
    "\n",
    "\n",
    "# curr_graphics_item = curr_node._graphicsItem\n",
    "# print(f' bounds: {curr_graphics_item.bounds}\\n boundingRect: {curr_graphics_item.boundingRect()}\\n viewRect: {curr_graphics_item.viewRect()}\\n')\n",
    "# curr_graphics_item._determine_minimum_fitting_width()\n",
    "\n",
    "# curr_graphics_item.boundingRect() # PyQt5.QtCore.QRectF(-5.0, -5.0, 110.0, 47.0)\n",
    "# PyQt5.QtCore.QRectF(-5.0, -5.0, 110.0, 47.0)\n",
    "# bounds:  PyQt5.QtCore.QRectF(0.0, 0.0, 200.0, 37.0)\n",
    "# viewRect(): PyQt5.QtCore.QRectF(-73.79232504771767, -159.69831582790422, 1291.1385371488711, 363.01007503425706)"
   ],
   "metadata": {
    "collapsed": false,
    "pycharm": {
     "name": "#%%\n",
     "is_executing": false
    }
   }
  },
  {
   "cell_type": "code",
   "execution_count": 9,
   "outputs": [],
   "source": [
    "curr_check_table.columnNames # ['filter', 'compute']\n",
    "curr_check_table.get_column_values('filter')\n",
    "# curr_graphics_item.terminals \n",
    "\n",
    "curr_check_table.set_value(0,0,True)\n",
    "curr_check_table.saveState()"
   ],
   "metadata": {
    "collapsed": false,
    "pycharm": {
     "name": "#%%\n",
     "is_executing": false
    }
   }
  },
  {
   "cell_type": "code",
   "execution_count": 10,
   "outputs": [
    {
     "data": {
      "text/plain": "<pyphoplacecellanalysis.General.Pipeline.NeuropyPipeline.NeuropyPipeline at 0x186ac3b0f40>"
     },
     "metadata": {},
     "output_type": "execute_result",
     "execution_count": 10
    }
   ],
   "source": [
    "output_node = pipeline_flowchart_window.flowchart_output_node\n",
    "final_output_terminal = output_node.inputs()['dataOut']\n",
    "\n",
    "final_output_terminal.value()"
   ],
   "metadata": {
    "collapsed": false,
    "pycharm": {
     "name": "#%%\n",
     "is_executing": false
    }
   }
  },
  {
   "cell_type": "code",
   "execution_count": 4,
   "outputs": [],
   "source": [
    "output = pipeline_flowchart_window.flowchart.output()\n",
    "final_output_pipeline = output['dataOut']"
   ],
   "metadata": {
    "collapsed": false,
    "pycharm": {
     "name": "#%%\n",
     "is_executing": false
    }
   }
  },
  {
   "cell_type": "code",
   "execution_count": null,
   "outputs": [],
   "source": [
    "\n"
   ],
   "metadata": {
    "collapsed": false,
    "pycharm": {
     "name": "#%%\n"
    }
   }
  }
 ],
 "metadata": {
  "kernelspec": {
   "name": "conda-env-phoviz_ultimate-py",
   "language": "python",
   "display_name": "Python [conda env:phoviz_ultimate]"
  },
  "language_info": {
   "codemirror_mode": {
    "name": "ipython",
    "version": 2
   },
   "file_extension": ".py",
   "mimetype": "text/x-python",
   "name": "python",
   "nbconvert_exporter": "python",
   "pygments_lexer": "ipython2",
   "version": "2.7.6"
  },
  "pycharm": {
   "stem_cell": {
    "cell_type": "raw",
    "source": [],
    "metadata": {
     "collapsed": false
    }
   }
  }
 },
 "nbformat": 4,
 "nbformat_minor": 0
}