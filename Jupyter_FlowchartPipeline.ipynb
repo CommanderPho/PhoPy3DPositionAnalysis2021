{
 "cells": [
  {
   "cell_type": "code",
   "execution_count": 1,
   "metadata": {
    "collapsed": false,
    "jupyter": {
     "outputs_hidden": false
    },
    "pycharm": {
     "is_executing": false,
     "name": "#%%\n"
    }
   },
   "outputs": [],
   "source": [
    "\"\"\"\n",
    "@author: pho\n",
    "\"\"\"\n",
    "\n",
    "# noinspection JupyterPackage\n",
    "\"\"\"\n",
    "Can run via:\n",
    "\n",
    "# change directory to PhoPy3DPositionAnalysis2021 repo\n",
    "cd 'C:\\\\Users\\\\pho\\\\repos\\\\PhoPy3DPositionAnalysis2021'\n",
    "# Call iPython:\n",
    "ipython iPython_PipelineRun.ipy\n",
    "\n",
    "jupyter qtconsole \n",
    "# change directory to PhoPy3DPositionAnalysis2021 repo\n",
    "cd 'C:\\\\Users\\\\pho\\\\repos\\\\PhoPy3DPositionAnalysis2021'\n",
    "\n",
    "\n",
    "pip install pyqt6 qt6-applications qt6-tools pyqt6-plugins pyqt6-sip pyqt6-qt6 pyqt6-sip\n",
    "\n",
    "pip install PyQt6\n",
    "\n",
    "\"\"\"\n",
    "%load_ext autoreload\n",
    "%autoreload 2\n",
    "import sys\n",
    "import importlib\n",
    "from pathlib import Path\n",
    "\n",
    "import numpy as np\n",
    "\n",
    "# required to enable non-blocking interaction:\n",
    "# %gui qt\n",
    "# $env:QT_API=\"pyqt6\"\n",
    "%gui qt5\n",
    "# %gui qt6\n",
    "# from PyQt5.Qt import QApplication\n",
    "# # start qt event loop\n",
    "# _instance = QApplication.instance()\n",
    "# if not _instance:\n",
    "#     _instance = QApplication([])\n",
    "# app = _instance\n",
    "import pyqtgraph as pg\n",
    "from pyqtgraph.Qt import QtCore, QtGui\n",
    "from pyqtgraph.Qt import QtGui, QtCore, QtWidgets\n",
    "\n",
    "# Must be called before any figures are created:\n",
    "import matplotlib\n",
    "matplotlib.use('qtagg')\n",
    "\n",
    "\n",
    "from pyqtgraph.console import ConsoleWidget\n",
    "from pyqtgraph.widgets.MatplotlibWidget import MatplotlibWidget\n",
    "from pyqtgraph.dockarea.Dock import Dock\n",
    "from pyqtgraph.dockarea.DockArea import DockArea\n",
    "\n",
    "from pyphoplacecellanalysis.GUI.PyQtPlot.Flowchart.CustomNodes.Mixins.DisplayNodeViewHelpers import ProducedViewType\n",
    "from pyphoplacecellanalysis.GUI.PyQtPlot.Flowchart.pyqtplot_Flowchart import plot_flowchartWidget"
   ]
  },
  {
   "cell_type": "code",
   "execution_count": null,
   "metadata": {
    "collapsed": false,
    "jupyter": {
     "outputs_hidden": false
    },
    "pycharm": {
     "is_executing": true,
     "name": "#%%\n"
    }
   },
   "outputs": [],
   "source": [
    "pipeline_flowchart_window, pipeline_flowchart_app = plot_flowchartWidget(title='PhoMainPipelineFlowchartApp')"
   ]
  },
  {
   "cell_type": "code",
   "execution_count": 4,
   "metadata": {
    "collapsed": false,
    "jupyter": {
     "outputs_hidden": false
    },
    "pycharm": {
     "name": "#%%\n",
     "is_executing": false
    }
   },
   "outputs": [],
   "source": [
    "# Currently works without ever calling this using evaluation in PyCharm 2019.1 (Jupyter Notebook Mode)\n",
    "# pg.exec()"
   ]
  },
  {
   "cell_type": "code",
   "execution_count": 5,
   "metadata": {
    "collapsed": false,
    "jupyter": {
     "outputs_hidden": false
    },
    "pycharm": {
     "is_executing": false,
     "name": "#%%\n"
    }
   },
   "outputs": [],
   "source": [
    "dock_area = pipeline_flowchart_window.area\n",
    "curr_dock_items = dock_area.children()"
   ]
  },
  {
   "cell_type": "code",
   "execution_count": 6,
   "metadata": {
    "collapsed": false,
    "jupyter": {
     "outputs_hidden": false
    },
    "pycharm": {
     "is_executing": false,
     "name": "#%%\n"
    }
   },
   "outputs": [],
   "source": [
    "pipeline_flowchart_window.dynamic_display_dict\n",
    "# OrderedDict([('Group',\n",
    "#               OrderedDict([('Group',\n",
    "#                             {'dock': <Dock Group (300, 200)>,\n",
    "#                              'widget': <pyqtgraph.widgets.MatplotlibWidget.MatplotlibWidget at 0x24f88d18790>}),\n",
    "#                            ('Group-1',\n",
    "#                             {'dock': <Dock Group-1 (300, 200)>,\n",
    "#                              'widget': <pyqtgraph.widgets.MatplotlibWidget.MatplotlibWidget at 0x24f88d71d30>}),\n",
    "#                            ('Group-2',\n",
    "#                             {'dock': <Dock Group-2 (300, 200)>,\n",
    "#                              'widget': <pyqtgraph.widgets.MatplotlibWidget.MatplotlibWidget at 0x24f88d24790>}),\n",
    "#                            ('Group-3',\n",
    "#                             {'dock': <Dock Group-3 (300, 200)>,\n",
    "#                              'widget': <pyqtgraph.widgets.MatplotlibWidget.MatplotlibWidget at 0x24f8848f040>})]))])\n"
   ]
  },
  {
   "cell_type": "code",
   "execution_count": 7,
   "metadata": {
    "collapsed": false,
    "jupyter": {
     "outputs_hidden": false
    },
    "pycharm": {
     "is_executing": false,
     "name": "#%%\n"
    }
   },
   "outputs": [],
   "source": [
    "# test programmatic removal of items\n",
    "pipeline_flowchart_window.remove_display_dock('Group')\n",
    "# pipeline_flowchart_window.remove_display_dock('Group-1')"
   ]
  },
  {
   "cell_type": "code",
   "execution_count": 8,
   "metadata": {
    "collapsed": false,
    "jupyter": {
     "outputs_hidden": false
    },
    "pycharm": {
     "is_executing": false,
     "name": "#%%\n"
    }
   },
   "outputs": [],
   "source": [
    "# Test programmatically adding dock items as display widgets:\n",
    "# pipeline_flowchart_window.add_display_dock('Group[0]', viewContentsType=ProducedViewType.Matplotlib)\n",
    "pipeline_flowchart_window.add_display_dock('Group', viewContentsType=ProducedViewType.Matplotlib)\n",
    "pipeline_flowchart_window.add_display_dock('Group', viewContentsType=ProducedViewType.Matplotlib)\n",
    "pipeline_flowchart_window.add_display_dock('Group', viewContentsType=ProducedViewType.Matplotlib)\n",
    "pipeline_flowchart_window.add_display_dock('Group', viewContentsType=ProducedViewType.Matplotlib)\n",
    "\n",
    "# \n",
    "# dItem = Dock(\"Display Outputs - Dynamic\", size=(600,900), closable=True)\n",
    "# pipeline_flowchart_window.area.addDock(dItem, 'right')\n",
    "# pipeline_flowchart_window.displayDockArea = DockArea()\n",
    "# dItem.addWidget(pipeline_flowchart_window.displayDockArea) # add the dynamic nested Dock area to the dItem widget\n"
   ]
  },
  {
   "cell_type": "code",
   "execution_count": 9,
   "metadata": {
    "collapsed": false,
    "jupyter": {
     "outputs_hidden": false
    },
    "pycharm": {
     "is_executing": false,
     "name": "#%%\n"
    }
   },
   "outputs": [],
   "source": [
    "# Add the sample display dock items to the nested dynamic display dock:\n",
    "dDisplayItem = Dock(\"Display Subdock Item\", size=(300,200), closable=True)\n",
    "pipeline_flowchart_window.displayDockArea.addDock(dDisplayItem, 'left')\n",
    "# Add the widget to the new display item:\n",
    "new_view_widget = MatplotlibWidget()\n",
    "dDisplayItem.addWidget(new_view_widget)\n",
    "\n",
    "# add example plot to figure\n",
    "subplot = new_view_widget.getFigure().add_subplot(111)\n",
    "subplot.plot(np.arange(9))\n",
    "new_view_widget.draw()\n"
   ]
  },
  {
   "cell_type": "code",
   "execution_count": 10,
   "metadata": {
    "collapsed": false,
    "jupyter": {
     "outputs_hidden": false
    },
    "pycharm": {
     "is_executing": false,
     "name": "#%%\n"
    }
   },
   "outputs": [],
   "source": [
    "pipeline_flowchart = pipeline_flowchart_window.flowchart\n",
    "flowchart_controls_widget = pipeline_flowchart.widget() # FlowchartCtrlWidget"
   ]
  },
  {
   "cell_type": "code",
   "execution_count": 11,
   "metadata": {
    "collapsed": false,
    "jupyter": {
     "outputs_hidden": false
    },
    "pycharm": {
     "is_executing": false,
     "name": "#%%\n"
    }
   },
   "outputs": [],
   "source": [
    "# # flowchart_controls_widget.ui.ctrlList is a TreeWidget\n",
    "# flowchart_controls_widget.ui.ctrlList.expandAll()\n",
    "\n",
    "flowchart_window = flowchart_controls_widget.cwWin"
   ]
  },
  {
   "cell_type": "code",
   "execution_count": 12,
   "metadata": {
    "collapsed": false,
    "jupyter": {
     "outputs_hidden": false
    },
    "pycharm": {
     "is_executing": false,
     "name": "#%%\n"
    }
   },
   "outputs": [],
   "source": [
    "pipeline_flowchart_nodes = pipeline_flowchart.nodes()\n",
    "# {'Input': <Node Input @13fc5877a60>,\n",
    "#  'Output': <Node Output @13fc5877af0>,\n",
    "#  'PipelineInputDataNode.0': <Node PipelineInputDataNode.0 @13fcb1428b0>,\n",
    "#  'PipelineFilteringDataNode.0': <Node PipelineFilteringDataNode.0 @13fcb145ca0>,\n",
    "#  'PipelineComputationsNode.0': <Node PipelineComputationsNode.0 @13fcb14c1f0>,\n",
    "#  'PipelineDisplayNode.0': <Node PipelineDisplayNode.0 @13fcb14eb80>}"
   ]
  },
  {
   "cell_type": "code",
   "execution_count": 15,
   "metadata": {
    "collapsed": false,
    "jupyter": {
     "outputs_hidden": false
    },
    "pycharm": {
     "is_executing": false,
     "name": "#%%\n"
    }
   },
   "outputs": [],
   "source": [
    "# curr_node = pipeline_flowchart_nodes['Input']\n",
    "# curr_node = pipeline_flowchart_nodes['PipelineFilteringDataNode.0']\n",
    "# curr_node = pipeline_flowchart_nodes['PipelineComputationsNode.0']\n",
    "\n",
    "curr_computation_node = pipeline_flowchart_window.flowchart.nodes()['PipelineComputationsNode.0']\n",
    "computation_outputs = curr_computation_node.outputs()['computed_pipeline'].value()\n",
    "computation_outputs"
   ]
  },
  {
   "cell_type": "code",
   "execution_count": null,
   "outputs": [],
   "source": [
    "curr_node = pipeline_flowchart_window.flowchart.nodes()['PipelineDisplayNode.0']\n",
    "display_outputs = curr_node.outputs()['display_outputs'].value()\n",
    "\n",
    "# curr_node = pipeline_flowchart_window.flowchart.nodes()['PipelineResultVisNode.0']\n",
    "# display_outputs = curr_node.outputs()['display_outputs'].value()\n",
    "\n",
    "# curr_node.on_add_function = None"
   ],
   "metadata": {
    "collapsed": false,
    "pycharm": {
     "name": "#%%\n"
    }
   }
  },
  {
   "cell_type": "code",
   "execution_count": 14,
   "metadata": {
    "collapsed": false,
    "jupyter": {
     "outputs_hidden": false
    },
    "pycharm": {
     "is_executing": false,
     "name": "#%%\n"
    }
   },
   "outputs": [],
   "source": [
    "ipcDataExplorer = display_outputs['ipcDataExplorer']\n",
    "# ipcDataExplorer. \n",
    "\n",
    "ipcDataExplorer._show_all_tuning_curves()"
   ]
  },
  {
   "cell_type": "code",
   "execution_count": null,
   "metadata": {
    "collapsed": false,
    "jupyter": {
     "outputs_hidden": false
    },
    "pycharm": {
     "name": "#%%\n",
     "is_executing": false
    }
   },
   "outputs": [],
   "source": [
    "curr_group_name = curr_node.name() # 'PipelineResultVisNode.0'\n",
    "curr_node.on_add_function(curr_group_name, viewContentsType=ProducedViewType.Matplotlib)\n",
    "# display_outputs['plotter'].close() # this works to close it\n",
    "\n",
    "\n",
    "\n",
    "\n",
    "# curr_graphics_item = curr_node._graphicsItem\n",
    "# print(f' bounds: {curr_graphics_item.bounds}\\n boundingRect: {curr_graphics_item.boundingRect()}\\n viewRect: {curr_graphics_item.viewRect()}\\n')\n",
    "# curr_graphics_item._determine_minimum_fitting_width()\n",
    "\n",
    "# curr_graphics_item.boundingRect() # PyQt5.QtCore.QRectF(-5.0, -5.0, 110.0, 47.0)\n",
    "# PyQt5.QtCore.QRectF(-5.0, -5.0, 110.0, 47.0)\n",
    "# bounds:  PyQt5.QtCore.QRectF(0.0, 0.0, 200.0, 37.0)\n",
    "# viewRect(): PyQt5.QtCore.QRectF(-73.79232504771767, -159.69831582790422, 1291.1385371488711, 363.01007503425706)"
   ]
  },
  {
   "cell_type": "code",
   "execution_count": null,
   "metadata": {
    "collapsed": false,
    "jupyter": {
     "outputs_hidden": false
    },
    "pycharm": {
     "is_executing": false,
     "name": "#%%\n"
    }
   },
   "outputs": [],
   "source": [
    "curr_check_table.columnNames # ['filter', 'compute']\n",
    "curr_check_table.get_column_values('filter')\n",
    "# curr_graphics_item.terminals \n",
    "\n",
    "curr_check_table.set_value(0,0,True)\n",
    "curr_check_table.saveState()"
   ]
  },
  {
   "cell_type": "code",
   "execution_count": null,
   "metadata": {
    "collapsed": false,
    "jupyter": {
     "outputs_hidden": false
    },
    "pycharm": {
     "is_executing": false,
     "name": "#%%\n"
    }
   },
   "outputs": [],
   "source": [
    "output_node = pipeline_flowchart_window.flowchart_output_node\n",
    "final_output_terminal = output_node.inputs()['dataOut']\n",
    "\n",
    "final_output_terminal.value()"
   ]
  },
  {
   "cell_type": "code",
   "execution_count": null,
   "metadata": {
    "collapsed": false,
    "jupyter": {
     "outputs_hidden": false
    },
    "pycharm": {
     "is_executing": false,
     "name": "#%%\n"
    }
   },
   "outputs": [],
   "source": [
    "output = pipeline_flowchart_window.flowchart.output()\n",
    "final_output_pipeline = output['dataOut']"
   ]
  },
  {
   "cell_type": "code",
   "execution_count": null,
   "metadata": {
    "collapsed": false,
    "jupyter": {
     "outputs_hidden": false
    },
    "pycharm": {
     "name": "#%%\n",
     "is_executing": false
    }
   },
   "outputs": [],
   "source": [
    "\n"
   ]
  }
 ],
 "metadata": {
  "kernelspec": {
   "name": "python3",
   "language": "python",
   "display_name": "Python 3 (ipykernel)"
  },
  "language_info": {
   "codemirror_mode": {
    "name": "ipython",
    "version": 3
   },
   "file_extension": ".py",
   "mimetype": "text/x-python",
   "name": "python",
   "nbconvert_exporter": "python",
   "pygments_lexer": "ipython3",
   "version": "3.9.10"
  },
  "pycharm": {
   "stem_cell": {
    "cell_type": "raw",
    "source": [],
    "metadata": {
     "collapsed": false
    }
   }
  }
 },
 "nbformat": 4,
 "nbformat_minor": 4
}