{
 "cells": [
  {
   "cell_type": "code",
   "execution_count": 3,
   "metadata": {
    "collapsed": false,
    "jupyter": {
     "outputs_hidden": false
    },
    "pycharm": {
     "is_executing": false,
     "name": "#%%\n"
    }
   },
   "outputs": [
    {
     "name": "stdout",
     "output_type": "stream",
     "text": [
      "The autoreload extension is already loaded. To reload it, use:\n",
      "  %reload_ext autoreload\n"
     ]
    }
   ],
   "source": [
    "\"\"\"\n",
    "@author: pho\n",
    "\"\"\"\n",
    "\n",
    "# noinspection JupyterPackage\n",
    "\"\"\"\n",
    "Can run via:\n",
    "\n",
    "# change directory to PhoPy3DPositionAnalysis2021 repo\n",
    "cd 'C:\\\\Users\\\\pho\\\\repos\\\\PhoPy3DPositionAnalysis2021'\n",
    "# Call iPython:\n",
    "ipython iPython_PipelineRun.ipy\n",
    "\n",
    "jupyter qtconsole \n",
    "# change directory to PhoPy3DPositionAnalysis2021 repo\n",
    "cd 'C:\\\\Users\\\\pho\\\\repos\\\\PhoPy3DPositionAnalysis2021'\n",
    "\n",
    "\n",
    "pip install pyqt6 qt6-applications qt6-tools pyqt6-plugins pyqt6-sip pyqt6-qt6 pyqt6-sip\n",
    "\n",
    "pip install PyQt6\n",
    "\n",
    "\"\"\"\n",
    "%load_ext autoreload\n",
    "%autoreload 2\n",
    "import sys\n",
    "import importlib\n",
    "from pathlib import Path\n",
    "\n",
    "import numpy as np\n",
    "\n",
    "# required to enable non-blocking interaction:\n",
    "# %gui qt\n",
    "# $env:QT_API=\"pyqt6\"\n",
    "%gui qt5\n",
    "# %gui qt6\n",
    "# from PyQt5.Qt import QApplication\n",
    "# # start qt event loop\n",
    "# _instance = QApplication.instance()\n",
    "# if not _instance:\n",
    "#     _instance = QApplication([])\n",
    "# app = _instance\n",
    "\n",
    "\n",
    "# import pyqtgraph as pg\n",
    "# from pyqtgraph.Qt import QtCore, QtGui\n",
    "# from pyqtgraph.Qt import QtGui, QtCore, QtWidgets\n",
    "# import pyphoplacecellanalysis.External.pyqtgraph as pg\n",
    "# from pyphoplacecellanalysis.External.pyqtgraph.Qt import QtCore, QtGui, QtWidgets\n",
    "# import pyphoplacecellanalysis.External.pyqtgraph.opengl as gl # for 3D raster plot\n",
    "\n",
    "# Must be called before any figures are created:\n",
    "import matplotlib\n",
    "matplotlib.use('qtagg')\n",
    "\n",
    "\n",
    "# from pyphoplacecellanalysis.External.pyqtgraph.console import ConsoleWidget\n",
    "from pyphoplacecellanalysis.External.pyqtgraph.widgets.MatplotlibWidget import MatplotlibWidget\n",
    "from pyphoplacecellanalysis.External.pyqtgraph.dockarea.Dock import Dock\n",
    "# from pyphoplacecellanalysis.External.pyqtgraph.dockarea.DockArea import DockArea\n",
    "\n",
    "from pyphoplacecellanalysis.GUI.PyQtPlot.Flowchart.CustomNodes.Mixins.DisplayNodeViewHelpers import ProducedViewType\n",
    "from pyphoplacecellanalysis.GUI.PyQtPlot.Flowchart.pyqtplot_Flowchart import plot_flowchartWidget\n",
    "\n",
    "# For BreezeStylesheets support:\n",
    "# from qtpy import QtWidgets\n",
    "from qtpy.QtCore import QFile, QTextStream\n",
    "import pyphoplacecellanalysis.External.breeze_style_sheets.breeze_resources\n",
    "# set stylesheet:\n",
    "stylesheet_qss_file = QFile(\":/dark/stylesheet.qss\")\n",
    "stylesheet_qss_file.open(QFile.ReadOnly | QFile.Text)\n",
    "stylesheet_data_stream = QTextStream(stylesheet_qss_file)\n",
    "# app.setStyleSheet(stylesheet_data_stream.readAll())"
   ]
  },
  {
   "cell_type": "code",
   "execution_count": 4,
   "metadata": {
    "collapsed": false,
    "jupyter": {
     "outputs_hidden": false
    },
    "pycharm": {
     "is_executing": false,
     "name": "#%%\n"
    },
    "scrolled": true,
    "tags": []
   },
   "outputs": [
    {
     "name": "stdout",
     "output_type": "stream",
     "text": [
      "cw: <PyQt5.QtWidgets.QWidget object at 0x000002BD98890CA0>\n",
      "num_known_types: 3\n",
      "ctrl_node_ops: [('data_mode', 'combo', {'values': ['custom...'], 'index': 0})]\n",
      " custom_ops:[('reload', 'action')]\n",
      " self.uiTemplate: [('data_mode', 'combo', {'values': ['custom...'], 'index': 0})]\n",
      "\n",
      "ctrl_node_ops: []\n",
      " custom_ops:[('included_configs_table', 'extendedchecktable', {'columns': ['filter'], 'rows': ['test1', 'test2']}), ('refilter', 'action')]\n",
      " self.uiTemplate: []\n",
      "\n",
      "ctrl_node_ops: []\n",
      " custom_ops:[('recompute', 'action'), ('included_configs_table', 'extendedchecktable', {'columns': ['compute'], 'rows': ['test1', 'test2']})]\n",
      " self.uiTemplate: []\n",
      "\n",
      "PipelineInputDataNode data_mode from dropdown list: kdiba\n",
      "Warning: known_mode is None.\n",
      "basedir is already Path object.\n",
      "Loading matlab import file results to R:\\data\\KDIBA\\gor01\\one\\2006-6-07_11-26-53\\2006-6-07_11-26-53.epochs_info.mat... done.\n",
      "Loading matlab import file results to R:\\data\\KDIBA\\gor01\\one\\2006-6-07_11-26-53\\2006-6-07_11-26-53.position_info.mat... done.\n",
      "Loading matlab import file results to R:\\data\\KDIBA\\gor01\\one\\2006-6-07_11-26-53\\2006-6-07_11-26-53.spikes.mat... "
     ]
    },
    {
     "name": "stderr",
     "output_type": "stream",
     "text": [
      "c:\\users\\pho\\repos\\neuropy\\neuropy\\core\\session\\Formats\\SessionSpecifications.py:139: UserWarning: WARNING: Optional File: R:\\data\\KDIBA\\gor01\\one\\2006-6-07_11-26-53\\2006-6-07_11-26-53.dat does not exist. Continuing without it.\n",
      "  warnings.warn(f'WARNING: Optional File: {an_optional_filepath} does not exist. Continuing without it.')\n"
     ]
    },
    {
     "name": "stdout",
     "output_type": "stream",
     "text": [
      "done.\n",
      "Failure loading .position.npy. Must recompute.\n",
      "\n",
      "Computing linear positions for all active epochs for session... Saving updated position results results to R:\\data\\KDIBA\\gor01\\one\\2006-6-07_11-26-53\\2006-6-07_11-26-53.position.npy... 2006-6-07_11-26-53.position.npy saved\n",
      "done.\n",
      "\t Failure loading .interpolated_spike_positions.npy. Must recompute.\n",
      "\n",
      "Computing interpolate_spike_positions columns results to spikes_df... done.\n",
      "\t Saving updated interpolated spike position results results to R:\\data\\KDIBA\\gor01\\one\\2006-6-07_11-26-53\\2006-6-07_11-26-53.interpolated_spike_positions.npy... 2006-6-07_11-26-53.interpolated_spike_positions.npy saved\n",
      "done.\n",
      "Loading matlab import file results to R:\\data\\KDIBA\\gor01\\one\\2006-6-07_11-26-53\\2006-6-07_11-26-53.laps_info.mat... done.\n",
      "setting laps object.\n",
      "session.laps loaded successfully!\n",
      "Loading success: .ripple.npy.\n",
      "Loading success: .mua.npy.\n",
      "Loading success: .pbe.npy.\n",
      "Computing spikes_df PBEs column results to spikes_df... done.\n",
      "Computing added spike scISI column results to spikes_df... done.\n",
      "desc_crossings_x: (24,), asc_crossings_x: (24,)\n",
      "Applying session filter named \"maze1\"...\n",
      "Constraining to units with type: pyramidal\n",
      "Constraining to epoch with times (start: 22.26, end: 1739.1533641185379)\n",
      "computing neurons mua for session...\n",
      "\n"
     ]
    },
    {
     "name": "stderr",
     "output_type": "stream",
     "text": [
      "c:\\users\\pho\\repos\\neuropy\\neuropy\\core\\laps.py:65: SettingWithCopyWarning: \n",
      "A value is trying to be set on a copy of a slice from a DataFrame.\n",
      "Try using .loc[row_indexer,col_indexer] = value instead\n",
      "\n",
      "See the caveats in the documentation: https://pandas.pydata.org/pandas-docs/stable/user_guide/indexing.html#returning-a-view-versus-a-copy\n",
      "  laps_df[['lap_id']] = laps_df[['lap_id']].astype('int')\n",
      "c:\\users\\pho\\repos\\neuropy\\neuropy\\core\\laps.py:69: SettingWithCopyWarning: \n",
      "A value is trying to be set on a copy of a slice from a DataFrame.\n",
      "Try using .loc[row_indexer,col_indexer] = value instead\n",
      "\n",
      "See the caveats in the documentation: https://pandas.pydata.org/pandas-docs/stable/user_guide/indexing.html#returning-a-view-versus-a-copy\n",
      "  laps_df[['start_spike_index', 'end_spike_index']] = laps_df[['start_spike_index', 'end_spike_index']].astype('int')\n",
      "c:\\users\\pho\\repos\\neuropy\\neuropy\\core\\laps.py:70: SettingWithCopyWarning: \n",
      "A value is trying to be set on a copy of a slice from a DataFrame.\n",
      "Try using .loc[row_indexer,col_indexer] = value instead\n",
      "\n",
      "See the caveats in the documentation: https://pandas.pydata.org/pandas-docs/stable/user_guide/indexing.html#returning-a-view-versus-a-copy\n",
      "  laps_df['num_spikes'] = laps_df['end_spike_index'] - laps_df['start_spike_index']\n",
      "c:\\users\\pho\\repos\\neuropy\\neuropy\\core\\laps.py:73: SettingWithCopyWarning: \n",
      "A value is trying to be set on a copy of a slice from a DataFrame.\n",
      "Try using .loc[row_indexer,col_indexer] = value instead\n",
      "\n",
      "See the caveats in the documentation: https://pandas.pydata.org/pandas-docs/stable/user_guide/indexing.html#returning-a-view-versus-a-copy\n",
      "  laps_df['lap_dir'] = laps_df['lap_dir'].astype('int')\n",
      "c:\\users\\pho\\repos\\neuropy\\neuropy\\core\\laps.py:81: SettingWithCopyWarning: \n",
      "A value is trying to be set on a copy of a slice from a DataFrame.\n",
      "Try using .loc[row_indexer,col_indexer] = value instead\n",
      "\n",
      "See the caveats in the documentation: https://pandas.pydata.org/pandas-docs/stable/user_guide/indexing.html#returning-a-view-versus-a-copy\n",
      "  laps_df['label'] = laps_df['lap_id'].astype('str') # add the string \"label\" column\n"
     ]
    },
    {
     "name": "stdout",
     "output_type": "stream",
     "text": [
      "on_table_check_changed(row: maze1, col: compute, state: 2)\n",
      "\t [['maze1', True]]\n",
      "Performing single_computation on filtered_session with filter named \"maze1\"...\n",
      "Performing perform_registered_computations(...) with 8 registered_computation_functions...\n",
      "Recomputing active_epoch_placefields... \t done.\n",
      "Recomputing active_epoch_placefields2D... \t done.\n",
      "Recomputing active_epoch_time_dependent_placefields... \t done.\n",
      "Recomputing active_epoch_time_dependent_placefields2D... \t done.\n"
     ]
    },
    {
     "name": "stderr",
     "output_type": "stream",
     "text": [
      "c:\\users\\pho\\repos\\pyphoplacecellanalysis\\src\\pyphoplacecellanalysis\\Analysis\\reconstruction.py:181: RuntimeWarning: overflow encountered in double_scalars\n",
      "  C_tau_n = 1.0 / np.sum(un_normalized_result) # normalize the result\n",
      "c:\\users\\pho\\repos\\pyphoplacecellanalysis\\src\\pyphoplacecellanalysis\\Analysis\\reconstruction.py:182: RuntimeWarning: invalid value encountered in multiply\n",
      "  result = C_tau_n * un_normalized_result\n",
      "c:\\users\\pho\\repos\\pyphoplacecellanalysis\\src\\pyphoplacecellanalysis\\Analysis\\reconstruction.py:221: RuntimeWarning: divide by zero encountered in true_divide\n",
      "  return C * np.exp(numerator/denominator)\n",
      "c:\\users\\pho\\repos\\pyphoplacecellanalysis\\src\\pyphoplacecellanalysis\\Analysis\\reconstruction.py:236: RuntimeWarning: invalid value encountered in multiply\n",
      "  return k * one_step_p_x_given_n * cls.compute_conditional_probability_x_prev_given_x_t(x_prev, all_x, sigma_t, C)\n"
     ]
    },
    {
     "name": "stdout",
     "output_type": "stream",
     "text": [
      "perform_registered_computations(...): \n",
      "\taccumulated_errors: {}\n"
     ]
    }
   ],
   "source": [
    "pipeline_flowchart_window, pipeline_flowchart_app = plot_flowchartWidget(title='PhoMainPipelineFlowchartApp')\n",
    "# pipeline_flowchart_app.setStyleSheet(stylesheet_data_stream.readAll())"
   ]
  },
  {
   "cell_type": "code",
   "execution_count": null,
   "metadata": {
    "collapsed": false,
    "jupyter": {
     "outputs_hidden": false
    },
    "pycharm": {
     "is_executing": false,
     "name": "#%%\n"
    }
   },
   "outputs": [],
   "source": [
    "# Currently works without ever calling this using evaluation in PyCharm 2019.1 (Jupyter Notebook Mode)\n",
    "# pg.exec()"
   ]
  },
  {
   "cell_type": "code",
   "execution_count": null,
   "metadata": {
    "collapsed": false,
    "jupyter": {
     "outputs_hidden": false
    },
    "pycharm": {
     "is_executing": false,
     "name": "#%%\n"
    }
   },
   "outputs": [],
   "source": []
  },
  {
   "cell_type": "code",
   "execution_count": null,
   "metadata": {
    "collapsed": false,
    "jupyter": {
     "outputs_hidden": false
    },
    "pycharm": {
     "is_executing": false,
     "name": "#%%\n"
    }
   },
   "outputs": [],
   "source": [
    "dock_area = pipeline_flowchart_window.area\n",
    "curr_dock_items = dock_area.children()"
   ]
  },
  {
   "cell_type": "code",
   "execution_count": null,
   "metadata": {
    "collapsed": false,
    "jupyter": {
     "outputs_hidden": false
    },
    "pycharm": {
     "is_executing": false,
     "name": "#%%\n"
    }
   },
   "outputs": [],
   "source": [
    "# curr_dock_items: [<pyphoplacecellanalysis.External.pyqtgraph.dockarea.DockDrop.DropAreaOverlay at 0x219f34deee0>,\n",
    "#  <PyQt5.QtWidgets.QVBoxLayout at 0x219f3514040>,\n",
    "#  <pyphoplacecellanalysis.External.pyqtgraph.dockarea.Container.HContainer at 0x219f3514d30>,\n",
    "#  <pyphoplacecellanalysis.External.pyqtgraph.dockarea.DockDrop.DropAreaOverlay at 0x219f34def70>]\n",
    "\n",
    "curr_item = curr_dock_items[0]\n",
    "curr_item"
   ]
  },
  {
   "cell_type": "code",
   "execution_count": null,
   "metadata": {
    "collapsed": false,
    "jupyter": {
     "outputs_hidden": false
    },
    "pycharm": {
     "is_executing": false,
     "name": "#%%\n"
    }
   },
   "outputs": [],
   "source": [
    "# curr_item.dynamicPropertyNames()\n",
    "# curr_item.dumpObjectTree()\n",
    "# curr_item.dumpObjectInfo()\n",
    "curr_item.objectName()"
   ]
  },
  {
   "cell_type": "code",
   "execution_count": null,
   "metadata": {
    "collapsed": false,
    "jupyter": {
     "outputs_hidden": false
    },
    "pycharm": {
     "is_executing": false,
     "name": "#%%\n"
    }
   },
   "outputs": [],
   "source": [
    "# list(dock_area.docks.keys())\n",
    "# ['GUI Layout Controls',\n",
    "#  'Flowchart Configuration Widgets',\n",
    "#  'Flowchart',\n",
    "#  'Display Outputs - Dynamic']\n",
    "\n",
    "# dock_area.addDock(...)\n",
    "curr_targeted_dock = dock_area.docks['GUI Layout Controls']\n",
    "curr_targeted_dock.hideTitleBar()\n",
    "curr_targeted_dock.close()"
   ]
  },
  {
   "cell_type": "code",
   "execution_count": null,
   "metadata": {
    "collapsed": false,
    "jupyter": {
     "outputs_hidden": false
    },
    "pycharm": {
     "is_executing": false,
     "name": "#%%\n"
    }
   },
   "outputs": [],
   "source": [
    "pipeline_flowchart_window.dynamic_display_dict\n",
    "# OrderedDict([('Group',\n",
    "#               OrderedDict([('Group',\n",
    "#                             {'dock': <Dock Group (300, 200)>,\n",
    "#                              'widget': <pyqtgraph.widgets.MatplotlibWidget.MatplotlibWidget at 0x24f88d18790>}),\n",
    "#                            ('Group-1',\n",
    "#                             {'dock': <Dock Group-1 (300, 200)>,\n",
    "#                              'widget': <pyqtgraph.widgets.MatplotlibWidget.MatplotlibWidget at 0x24f88d71d30>}),\n",
    "#                            ('Group-2',\n",
    "#                             {'dock': <Dock Group-2 (300, 200)>,\n",
    "#                              'widget': <pyqtgraph.widgets.MatplotlibWidget.MatplotlibWidget at 0x24f88d24790>}),\n",
    "#                            ('Group-3',\n",
    "#                             {'dock': <Dock Group-3 (300, 200)>,\n",
    "#                              'widget': <pyqtgraph.widgets.MatplotlibWidget.MatplotlibWidget at 0x24f8848f040>})]))])\n"
   ]
  },
  {
   "cell_type": "code",
   "execution_count": null,
   "metadata": {
    "collapsed": false,
    "jupyter": {
     "outputs_hidden": false
    },
    "pycharm": {
     "is_executing": false,
     "name": "#%%\n"
    }
   },
   "outputs": [],
   "source": [
    "# test programmatic removal of items\n",
    "pipeline_flowchart_window.remove_display_dock('Group')\n",
    "# pipeline_flowchart_window.remove_display_dock('Group-1')"
   ]
  },
  {
   "cell_type": "code",
   "execution_count": null,
   "metadata": {
    "collapsed": false,
    "jupyter": {
     "outputs_hidden": false
    },
    "pycharm": {
     "is_executing": false,
     "name": "#%%\n"
    }
   },
   "outputs": [],
   "source": [
    "# Test programmatically adding dock items as display widgets:\n",
    "# pipeline_flowchart_window.add_display_dock('Group[0]', viewContentsType=ProducedViewType.Matplotlib)\n",
    "pipeline_flowchart_window.add_display_dock('Group', viewContentsType=ProducedViewType.Matplotlib)\n",
    "pipeline_flowchart_window.add_display_dock('Group', viewContentsType=ProducedViewType.Matplotlib)\n",
    "pipeline_flowchart_window.add_display_dock('Group', viewContentsType=ProducedViewType.Matplotlib)\n",
    "pipeline_flowchart_window.add_display_dock('Group', viewContentsType=ProducedViewType.Matplotlib)\n",
    "\n",
    "# \n",
    "# dItem = Dock(\"Display Outputs - Dynamic\", size=(600,900), closable=True)\n",
    "# pipeline_flowchart_window.area.addDock(dItem, 'right')\n",
    "# pipeline_flowchart_window.displayDockArea = DockArea()\n",
    "# dItem.addWidget(pipeline_flowchart_window.displayDockArea) # add the dynamic nested Dock area to the dItem widget\n"
   ]
  },
  {
   "cell_type": "code",
   "execution_count": null,
   "metadata": {
    "collapsed": false,
    "jupyter": {
     "outputs_hidden": false
    },
    "pycharm": {
     "is_executing": false,
     "name": "#%%\n"
    }
   },
   "outputs": [],
   "source": [
    "# Add the sample display dock items to the nested dynamic display dock:\n",
    "dDisplayItem = Dock(\"Display Subdock Item\", size=(300,200), closable=True)\n",
    "pipeline_flowchart_window.displayDockArea.addDock(dDisplayItem, 'left')\n",
    "# Add the widget to the new display item:\n",
    "new_view_widget = MatplotlibWidget()\n",
    "dDisplayItem.addWidget(new_view_widget)\n",
    "\n",
    "# add example plot to figure\n",
    "subplot = new_view_widget.getFigure().add_subplot(111)\n",
    "subplot.plot(np.arange(9))\n",
    "new_view_widget.draw()\n"
   ]
  },
  {
   "cell_type": "code",
   "execution_count": null,
   "metadata": {
    "collapsed": false,
    "jupyter": {
     "outputs_hidden": false
    },
    "pycharm": {
     "is_executing": false,
     "name": "#%%\n"
    }
   },
   "outputs": [],
   "source": [
    "pipeline_flowchart = pipeline_flowchart_window.flowchart\n",
    "flowchart_controls_widget = pipeline_flowchart.widget() # FlowchartCtrlWidget\n",
    "\n",
    "# # flowchart_controls_widget.ui.ctrlList is a TreeWidget\n",
    "# flowchart_controls_widget.ui.ctrlList.expandAll()\n",
    "\n",
    "flowchart_window = flowchart_controls_widget.cwWin\n",
    "\n",
    "pipeline_flowchart_nodes = pipeline_flowchart.nodes()\n",
    "# {'Input': <Node Input @13fc5877a60>,\n",
    "#  'Output': <Node Output @13fc5877af0>,\n",
    "#  'PipelineInputDataNode.0': <Node PipelineInputDataNode.0 @13fcb1428b0>,\n",
    "#  'PipelineFilteringDataNode.0': <Node PipelineFilteringDataNode.0 @13fcb145ca0>,\n",
    "#  'PipelineComputationsNode.0': <Node PipelineComputationsNode.0 @13fcb14c1f0>,\n",
    "#  'PipelineDisplayNode.0': <Node PipelineDisplayNode.0 @13fcb14eb80>}\n",
    "\n",
    "curr_pipeline_input_node = pipeline_flowchart_window.flowchart.nodes()['PipelineInputDataNode.0']\n",
    "curr_pipeline_input_node.ctrls\n",
    "# {'data_mode': <PyQt5.QtWidgets.QComboBox at 0x20543149550>,\n",
    "#  'reload': <pyqtgraph.widgets.FeedbackButton.FeedbackButton at 0x20543149820>}\n",
    "\n",
    "curr_filtering_node = pipeline_flowchart_window.flowchart.nodes()['PipelineFilteringDataNode.0']\n",
    "curr_filtering_node"
   ]
  },
  {
   "cell_type": "code",
   "execution_count": null,
   "metadata": {
    "collapsed": false,
    "jupyter": {
     "outputs_hidden": false
    },
    "pycharm": {
     "is_executing": false,
     "name": "#%%\n"
    }
   },
   "outputs": [],
   "source": [
    "selected_index = curr_pipeline_input_node.ctrls['data_mode'].currentIndex()\n",
    "selected_item_text = curr_pipeline_input_node.ctrls['data_mode'].itemText(selected_index)  # Get the text at index.\n",
    "print(f'selected_index: {selected_index}, selected_item_text: {selected_item_text}')"
   ]
  },
  {
   "cell_type": "code",
   "execution_count": null,
   "metadata": {
    "collapsed": false,
    "jupyter": {
     "outputs_hidden": false
    },
    "pycharm": {
     "is_executing": false,
     "name": "#%%\n"
    }
   },
   "outputs": [],
   "source": [
    "# curr_pipeline_input_node._get_known_data_session_types_dict()"
   ]
  },
  {
   "cell_type": "code",
   "execution_count": null,
   "metadata": {
    "collapsed": false,
    "jupyter": {
     "outputs_hidden": false
    },
    "pycharm": {
     "is_executing": false,
     "name": "#%%\n"
    }
   },
   "outputs": [],
   "source": [
    "## Update Combo box items:\n",
    "## TODO: Freeze signals:\n",
    "curr_combo_box = curr_pipeline_input_node.ctrls['data_mode'] # QComboBox \n",
    "curr_combo_box.blockSignals(True)\n",
    "curr_combo_box.clear() # clear old items\n",
    "curr_pipeline_input_node.active_known_data_session_type_dict = curr_pipeline_input_node._get_known_data_session_types_dict()\n",
    "curr_pipeline_input_node.num_known_types = len(curr_pipeline_input_node.active_known_data_session_type_dict.keys())\n",
    "## Build updated list:\n",
    "updated_list = list(curr_pipeline_input_node.active_known_data_session_type_dict.keys())\n",
    "updated_list.append('Custom...')\n",
    "\n",
    "print(f'num_known_types: {curr_pipeline_input_node.num_known_types}')\n",
    "# adding list of items to combo box\n",
    "curr_combo_box.addItems(updated_list)\n",
    "curr_combo_box.blockSignals(False)"
   ]
  },
  {
   "cell_type": "code",
   "execution_count": null,
   "metadata": {
    "collapsed": false,
    "jupyter": {
     "outputs_hidden": false
    },
    "pycharm": {
     "is_executing": false,
     "name": "#%%\n"
    }
   },
   "outputs": [],
   "source": [
    "search_text = 'kdiba'\n",
    "found_desired_index = curr_pipeline_input_node.ctrls['data_mode'].findText(search_text)\n",
    "print(f'search_text: {search_text}, found_desired_index: {found_desired_index}')"
   ]
  },
  {
   "cell_type": "code",
   "execution_count": null,
   "metadata": {
    "collapsed": false,
    "jupyter": {
     "outputs_hidden": false
    },
    "pycharm": {
     "is_executing": false,
     "name": "#%%\n"
    }
   },
   "outputs": [],
   "source": [
    "curr_pipeline_input_node.ctrls['data_mode'].setCurrentIndex(found_desired_index)"
   ]
  },
  {
   "cell_type": "code",
   "execution_count": null,
   "metadata": {
    "collapsed": false,
    "jupyter": {
     "outputs_hidden": false
    },
    "pycharm": {
     "is_executing": false,
     "name": "#%%\n"
    }
   },
   "outputs": [],
   "source": [
    "# filter_functions\n",
    "\n",
    "\n",
    "build_default_filter_functions()"
   ]
  },
  {
   "cell_type": "code",
   "execution_count": null,
   "metadata": {
    "collapsed": false,
    "jupyter": {
     "outputs_hidden": false
    },
    "pycharm": {
     "is_executing": false,
     "name": "#%%\n"
    }
   },
   "outputs": [],
   "source": [
    "curr_loaded_pipeline = curr_pipeline_input_node.outputs()['loaded_pipeline'].value() # NeuropyPipeline\n",
    "curr_loaded_pipeline_known_data_mode = curr_pipeline_input_node.outputs()['known_data_mode'].value() # 'kdiba'\n",
    "# curr_loaded_pipeline.filtered_session_names # ['maze1']\n",
    "curr_loaded_pipeline_known_data_mode"
   ]
  },
  {
   "cell_type": "code",
   "execution_count": null,
   "metadata": {
    "collapsed": false,
    "jupyter": {
     "outputs_hidden": false
    },
    "pycharm": {
     "is_executing": false,
     "name": "#%%\n"
    }
   },
   "outputs": [],
   "source": [
    "curr_filtering_node.enabled_filters # ['maze1']\n",
    "\n",
    "def _test_filtering_node_state_changed(row, col, state):\n",
    "    print(f'_test_filtering_node_state_changed(row: {row}, col: {col}, state: {state})')\n",
    "    print(f'curr_filtering_node.enabled_filters: {curr_filtering_node.enabled_filters}')\n",
    "    curr_filtering_node.ui_update()\n",
    "\n",
    "_test_filtering_node_state_changed_connection = curr_filtering_node.ctrls['included_configs_table'].sigStateChanged.connect(_test_filtering_node_state_changed) # ExtendedCheckTable \n",
    "\n",
    "# _test_filtering_node_state_changed_connection = curr_filtering_node.sigStateChanged.connect(_test_filtering_node_state_changed)\n",
    "# curr_filtering_node.changed\n",
    "# curr_filtering_node.ui_update()"
   ]
  },
  {
   "cell_type": "code",
   "execution_count": null,
   "metadata": {
    "collapsed": false,
    "jupyter": {
     "outputs_hidden": false
    },
    "pycharm": {
     "is_executing": false,
     "name": "#%%\n"
    }
   },
   "outputs": [],
   "source": []
  },
  {
   "cell_type": "code",
   "execution_count": null,
   "metadata": {
    "collapsed": false,
    "jupyter": {
     "outputs_hidden": false
    },
    "pycharm": {
     "is_executing": false,
     "name": "#%%\n"
    }
   },
   "outputs": [],
   "source": [
    "from neuropy.core.session.Formats.Specific.BapunDataSessionFormat import BapunDataSessionFormatRegisteredClass\n",
    "from neuropy.core.session.Formats.Specific.KDibaOldDataSessionFormat import KDibaOldDataSessionFormatRegisteredClass\n",
    "from neuropy.core.session.Formats.Specific.RachelDataSessionFormat import RachelDataSessionFormat\n",
    "from neuropy.core.session.Formats.BaseDataSessionFormats import DataSessionFormatRegistryHolder\n",
    "\n",
    "active_data_session_type_dict = DataSessionFormatRegistryHolder.get_registry_data_session_type_class_name_dict()\n",
    "active_data_session_type_dict\n",
    "\n",
    "active_data_mode = active_data_session_type_dict[curr_loaded_pipeline_known_data_mode]\n",
    "active_data_mode\n",
    "\n",
    "active_filter_functions = active_data_mode.build_default_filter_functions(sess=curr_loaded_pipeline.sess)\n",
    "active_filter_functions\n",
    "# active_known_data_session_type_dict = curr_pipeline_input_node._get_known_data_session_types_dict()\n",
    "# active_known_data_mode = active_known_data_session_type_dict[curr_loaded_pipeline_known_data_mode]\n",
    "# active_known_data_mode\n",
    "\n",
    "# , filter_functions=known_type_properties.filter_functions"
   ]
  },
  {
   "cell_type": "code",
   "execution_count": null,
   "metadata": {
    "collapsed": false,
    "jupyter": {
     "outputs_hidden": false
    },
    "pycharm": {
     "is_executing": false,
     "name": "#%%\n"
    }
   },
   "outputs": [],
   "source": [
    "# curr_loaded_pipeline.sess.epochs # get_named_timerange\n",
    "# all_epoch_names = list(curr_loaded_pipeline.sess.epochs.get_unique_labels())\n",
    "# all_epoch_names # ['maze1', 'maze2']\n",
    "\n",
    "# all_epoch_named_timeranges = {an_epoch_name:curr_loaded_pipeline.sess.get_named_epoch_timerange(epoch_name=an_epoch_name) for an_epoch_name in all_epoch_names}\n",
    "# all_epoch_named_timeranges\n",
    "\n",
    "# all_filter_configs = {an_epoch_name:lambda sess, epoch_name=an_epoch_name: (sess.filtered_by_epoch(sess.epochs.get_named_timerange(epoch_name)), sess.epochs.get_named_timerange(epoch_name)) for an_epoch_name in all_epoch_names}\n",
    "# curr_loaded_pipeline.sess.get_named_epoch_timerange(epoch_name=)\n",
    "# all_filter_configs['maze1'](curr_loaded_pipeline.sess)\n",
    "# all_filter_configs['maze2'](curr_loaded_pipeline.sess)"
   ]
  },
  {
   "cell_type": "code",
   "execution_count": null,
   "metadata": {
    "collapsed": false,
    "jupyter": {
     "outputs_hidden": false
    },
    "pycharm": {
     "is_executing": false,
     "name": "#%%\n"
    }
   },
   "outputs": [],
   "source": [
    "active_session_filter_configs = active_filter_functions\n",
    "updated_configs = list(active_session_filter_configs.keys()) # ['maze1', 'maze2']\n",
    "print(f'updated_configs: {updated_configs}')"
   ]
  },
  {
   "cell_type": "code",
   "execution_count": null,
   "metadata": {
    "collapsed": false,
    "jupyter": {
     "outputs_hidden": false
    },
    "pycharm": {
     "is_executing": false,
     "name": "#%%\n"
    }
   },
   "outputs": [],
   "source": [
    "curr_filtering_node.updateConfigRows(updated_configs)\n"
   ]
  },
  {
   "cell_type": "code",
   "execution_count": null,
   "metadata": {
    "collapsed": false,
    "jupyter": {
     "outputs_hidden": false
    },
    "pycharm": {
     "is_executing": false,
     "name": "#%%\n"
    }
   },
   "outputs": [],
   "source": [
    "# curr_node = pipeline_flowchart_nodes['Input']\n",
    "# curr_node = pipeline_flowchart_nodes['PipelineFilteringDataNode.0']\n",
    "# curr_node = pipeline_flowchart_nodes['PipelineComputationsNode.0']\n",
    "\n",
    "curr_computation_node = pipeline_flowchart_window.flowchart.nodes()['PipelineComputationsNode.0']\n",
    "computation_outputs = curr_computation_node.outputs()['computed_pipeline'].value()\n",
    "computation_outputs"
   ]
  },
  {
   "cell_type": "code",
   "execution_count": null,
   "metadata": {
    "collapsed": false,
    "jupyter": {
     "outputs_hidden": false
    },
    "pycharm": {
     "name": "#%%\n"
    }
   },
   "outputs": [],
   "source": [
    "curr_node = pipeline_flowchart_window.flowchart.nodes()['PipelineDisplayNode.0']\n",
    "display_outputs = curr_node.outputs()['display_outputs'].value()\n",
    "\n",
    "# curr_node = pipeline_flowchart_window.flowchart.nodes()['PipelineResultVisNode.0']\n",
    "# display_outputs = curr_node.outputs()['display_outputs'].value()\n",
    "\n",
    "# curr_node.on_add_function = None"
   ]
  },
  {
   "cell_type": "code",
   "execution_count": null,
   "metadata": {
    "collapsed": false,
    "jupyter": {
     "outputs_hidden": false
    },
    "pycharm": {
     "is_executing": false,
     "name": "#%%\n"
    }
   },
   "outputs": [],
   "source": [
    "ipcDataExplorer = display_outputs['ipcDataExplorer']\n",
    "# ipcDataExplorer. \n",
    "\n",
    "ipcDataExplorer._show_all_tuning_curves()"
   ]
  },
  {
   "cell_type": "code",
   "execution_count": null,
   "metadata": {
    "collapsed": false,
    "jupyter": {
     "outputs_hidden": false
    },
    "pycharm": {
     "is_executing": false,
     "name": "#%%\n"
    }
   },
   "outputs": [],
   "source": [
    "curr_group_name = curr_node.name() # 'PipelineResultVisNode.0'\n",
    "curr_node.on_add_function(curr_group_name, viewContentsType=ProducedViewType.Matplotlib)\n",
    "# display_outputs['plotter'].close() # this works to close it\n",
    "\n",
    "\n",
    "\n",
    "\n",
    "# curr_graphics_item = curr_node._graphicsItem\n",
    "# print(f' bounds: {curr_graphics_item.bounds}\\n boundingRect: {curr_graphics_item.boundingRect()}\\n viewRect: {curr_graphics_item.viewRect()}\\n')\n",
    "# curr_graphics_item._determine_minimum_fitting_width()\n",
    "\n",
    "# curr_graphics_item.boundingRect() # PyQt5.QtCore.QRectF(-5.0, -5.0, 110.0, 47.0)\n",
    "# PyQt5.QtCore.QRectF(-5.0, -5.0, 110.0, 47.0)\n",
    "# bounds:  PyQt5.QtCore.QRectF(0.0, 0.0, 200.0, 37.0)\n",
    "# viewRect(): PyQt5.QtCore.QRectF(-73.79232504771767, -159.69831582790422, 1291.1385371488711, 363.01007503425706)"
   ]
  },
  {
   "cell_type": "code",
   "execution_count": null,
   "metadata": {
    "collapsed": false,
    "jupyter": {
     "outputs_hidden": false
    },
    "pycharm": {
     "is_executing": false,
     "name": "#%%\n"
    }
   },
   "outputs": [],
   "source": [
    "curr_check_table.columnNames # ['filter', 'compute']\n",
    "curr_check_table.get_column_values('filter')\n",
    "# curr_graphics_item.terminals \n",
    "\n",
    "curr_check_table.set_value(0,0,True)\n",
    "curr_check_table.saveState()"
   ]
  },
  {
   "cell_type": "code",
   "execution_count": null,
   "metadata": {
    "collapsed": false,
    "jupyter": {
     "outputs_hidden": false
    },
    "pycharm": {
     "is_executing": false,
     "name": "#%%\n"
    }
   },
   "outputs": [],
   "source": [
    "output_node = pipeline_flowchart_window.flowchart_output_node\n",
    "final_output_terminal = output_node.inputs()['dataOut']\n",
    "\n",
    "final_output_terminal.value()"
   ]
  },
  {
   "cell_type": "code",
   "execution_count": null,
   "metadata": {
    "collapsed": false,
    "jupyter": {
     "outputs_hidden": false
    },
    "pycharm": {
     "is_executing": false,
     "name": "#%%\n"
    }
   },
   "outputs": [],
   "source": [
    "output = pipeline_flowchart_window.flowchart.output()\n",
    "final_output_pipeline = output['dataOut']"
   ]
  },
  {
   "cell_type": "code",
   "execution_count": null,
   "metadata": {
    "collapsed": false,
    "jupyter": {
     "outputs_hidden": false
    },
    "pycharm": {
     "is_executing": false,
     "name": "#%%\n"
    }
   },
   "outputs": [],
   "source": [
    "from pyphoplacecellanalysis.GUI.Qt.PlacefieldVisualSelectionControlWidget import PlacefieldVisualSelectionWidget\n"
   ]
  }
 ],
 "metadata": {
  "kernelspec": {
   "display_name": "Python [conda env:phoviz_ultimate]",
   "language": "python",
   "name": "conda-env-phoviz_ultimate-py"
  },
  "language_info": {
   "codemirror_mode": {
    "name": "ipython",
    "version": 3
   },
   "file_extension": ".py",
   "mimetype": "text/x-python",
   "name": "python",
   "nbconvert_exporter": "python",
   "pygments_lexer": "ipython3",
   "version": "3.9.12"
  },
  "pycharm": {
   "stem_cell": {
    "cell_type": "raw",
    "metadata": {
     "collapsed": false
    },
    "source": []
   }
  }
 },
 "nbformat": 4,
 "nbformat_minor": 4
}
