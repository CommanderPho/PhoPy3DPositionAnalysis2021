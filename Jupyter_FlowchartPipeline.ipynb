{
 "cells": [
  {
   "cell_type": "code",
   "execution_count": 7,
   "metadata": {
    "collapsed": true,
    "jupyter": {
     "outputs_hidden": true
    },
    "pycharm": {
     "is_executing": false,
     "name": "#%%\n"
    }
   },
   "outputs": [
    {
     "name": "stdout",
     "output_type": "stream",
     "text": [
      "The autoreload extension is already loaded. To reload it, use:\n",
      "  %reload_ext autoreload\n"
     ]
    }
   ],
   "source": [
    "\"\"\"\n",
    "@author: pho\n",
    "\"\"\"\n",
    "\n",
    "# noinspection JupyterPackage\n",
    "\"\"\"\n",
    "Can run via:\n",
    "\n",
    "# change directory to PhoPy3DPositionAnalysis2021 repo\n",
    "cd 'C:\\\\Users\\\\pho\\\\repos\\\\PhoPy3DPositionAnalysis2021'\n",
    "# Call iPython:\n",
    "ipython iPython_PipelineRun.ipy\n",
    "\n",
    "jupyter qtconsole \n",
    "# change directory to PhoPy3DPositionAnalysis2021 repo\n",
    "cd 'C:\\\\Users\\\\pho\\\\repos\\\\PhoPy3DPositionAnalysis2021'\n",
    "\n",
    "\n",
    "pip install pyqt6 qt6-applications qt6-tools pyqt6-plugins pyqt6-sip pyqt6-qt6 pyqt6-sip\n",
    "\n",
    "pip install PyQt6\n",
    "\n",
    "\"\"\"\n",
    "%load_ext autoreload\n",
    "%autoreload 2\n",
    "import sys\n",
    "import importlib\n",
    "from pathlib import Path\n",
    "\n",
    "import numpy as np\n",
    "\n",
    "# required to enable non-blocking interaction:\n",
    "# %gui qt\n",
    "# $env:QT_API=\"pyqt6\"\n",
    "%gui qt5\n",
    "# %gui qt6\n",
    "# from PyQt5.Qt import QApplication\n",
    "# # start qt event loop\n",
    "# _instance = QApplication.instance()\n",
    "# if not _instance:\n",
    "#     _instance = QApplication([])\n",
    "# app = _instance\n",
    "import pyqtgraph as pg\n",
    "from pyqtgraph.Qt import QtCore, QtGui\n",
    "\n",
    "from pyphoplacecellanalysis.GUI.PyQtPlot.Flowchart.pyqtplot_Flowchart import plot_flowchartWidget"
   ]
  },
  {
   "cell_type": "code",
   "execution_count": 8,
   "metadata": {
    "collapsed": false,
    "jupyter": {
     "outputs_hidden": false
    },
    "pycharm": {
     "is_executing": false,
     "name": "#%%\n"
    }
   },
   "outputs": [
    {
     "name": "stdout",
     "output_type": "stream",
     "text": [
      "num_known_types: 2\n",
      "ctrl_node_ops: [('data_mode', 'combo', {'values': ['bapun', 'kdiba', 'custom...'], 'index': 0})]\n",
      " custom_ops:[('reload', 'action')]\n",
      " self.uiTemplate: [('data_mode', 'combo', {'values': ['bapun', 'kdiba', 'custom...'], 'index': 0})]\n",
      "\n",
      "ctrl_node_ops: []\n",
      " custom_ops:[('included_configs_table', 'extendedchecktable', {'columns': ['filter'], 'rows': ['test1', 'test2']}), ('refilter', 'action')]\n",
      " self.uiTemplate: []\n",
      "\n",
      "ctrl_node_ops: []\n",
      " custom_ops:[('recompute', 'action'), ('included_configs_table', 'extendedchecktable', {'columns': ['compute'], 'rows': ['test1', 'test2']})]\n",
      " self.uiTemplate: []\n",
      "\n",
      "PipelineInputDataNode.data_mode: bapun\n",
      "basedir is already Path object.\n",
      "\t basepath: R:\\data\\Bapun\\Day5TwoNovel\n",
      "\t session_name: RatS-Day5TwoNovel-2020-12-04_07-55-09\n",
      "converting neuron_type strings to core.neurons.NeuronType objects...\n",
      "\t done.\n",
      "Position falling back to legacy loading protocol...: dict_rep: {'traces': array([[-50.946354, -50.946354, -50.946354, ..., -45.350155, -45.350155,\n",
      "        -45.350155],\n",
      "       [-50.646282, -50.646282, -50.646282, ...,  64.150757,  64.150757,\n",
      "         64.150757],\n",
      "       [  7.124897,   7.124897,   7.124897, ...,   5.571329,   5.571329,\n",
      "          5.571329]]), 'computed_traces': array([[nan, nan, nan, ..., nan, nan, nan]]), 't_start': 0, 'sampling_rate': 60, 'metadata': None}\n",
      "linearized position loaded from file.\n",
      "Loading success: .flattened.spikes.npy.\n",
      "Loading success: .ripple.npy.\n",
      "Loading success: .mua.npy.\n",
      "Loading success: .pbe.npy.\n",
      "Unknown data type: <class 'NoneType'> None\n",
      "reload(): ReloadableNodeLibrary contains nodes: odict_keys(['AsType', 'ColumnJoin', 'ColumnSelect', 'PythonEval', 'Index', 'Max', 'Mean', 'Min', 'RegionSelect', 'Slice', 'Stdev', 'CanvasWidget', 'PlotCurve', 'PlotWidget', 'ScatterPlot', 'AdaptiveDetrend', 'BesselFilter', 'ButterworthFilter', 'ButterworthNotchFilter', 'DenoiseFilter', 'DerivativeFilter', 'DetrendFilter', 'Downsample', 'GaussianFilter', 'HistogramDetrend', 'IntegralFilter', 'MeanFilter', 'MedianFilter', 'ModeFilter', 'RemoveBaseline', 'RemovePeriodic', 'Subsample', 'Abs', 'Add', 'Divide', 'FloorDivide', 'Multiply', 'Subtract', 'ImageView', 'UnsharpMask', 'PipelineInputDataNode', 'PipelineFilteringDataNode', 'PipelineComputationsNode', 'PipelineDisplayNode'])\n",
      "reloading node module AsType with <class 'pyqtgraph.flowchart.library.Data.AsType'>\n",
      "PipelineInputDataNode.data_mode: kdiba\n",
      "basedir is already Path object.\n",
      "\t basepath: R:\\data\\KDIBA\\gor01\\one\\2006-6-07_11-26-53\n",
      "\t session_name: 2006-6-07_11-26-53\n",
      "Loading matlab import file results to R:\\data\\KDIBA\\gor01\\one\\2006-6-07_11-26-53\\2006-6-07_11-26-53.epochs_info.mat... done.\n",
      "Loading matlab import file results to R:\\data\\KDIBA\\gor01\\one\\2006-6-07_11-26-53\\2006-6-07_11-26-53.position_info.mat... done.\n",
      "Loading matlab import file results to R:\\data\\KDIBA\\gor01\\one\\2006-6-07_11-26-53\\2006-6-07_11-26-53.spikes.mat... done.\n",
      "Failure loading .position.npy. Must recompute.\n",
      "\n",
      "Computing linear positions for all active epochs for session... Saving updated position results results to R:\\data\\KDIBA\\gor01\\one\\2006-6-07_11-26-53\\2006-6-07_11-26-53.position.npy... 2006-6-07_11-26-53.position.npy saved\n",
      "done.\n",
      "\t Failure loading .interpolated_spike_positions.npy. Must recompute.\n",
      "\n",
      "\t Saving updated interpolated spike position results results to R:\\data\\KDIBA\\gor01\\one\\2006-6-07_11-26-53\\2006-6-07_11-26-53.interpolated_spike_positions.npy... 2006-6-07_11-26-53.interpolated_spike_positions.npy saved\n",
      "done.\n",
      "Loading matlab import file results to R:\\data\\KDIBA\\gor01\\one\\2006-6-07_11-26-53\\2006-6-07_11-26-53.laps_info.mat... done.\n",
      "setting laps object.\n",
      "session.laps loaded successfully!\n",
      "desc_crossings_x: (24,), asc_crossings_x: (24,)\n",
      "Applying session filter named \"maze1\"...\n",
      "Constraining to epoch with times (start: 22.26, end: 1739.1533641185379)\n",
      "on_table_check_changed(row: maze1, col: compute, state: 2)\n",
      "\t [['maze1', True]]\n",
      "Performing single_computation on filtered_session with filter named \"maze1\"...\n",
      "Recomputing active_epoch_placefields... pre speed filtering: 0 spikes.\n",
      "post speed filtering: 0 spikes.\n",
      "\t done.\n",
      "Recomputing active_epoch_placefields2D... pre speed filtering: 0 spikes.\n",
      "post speed filtering: 0 spikes.\n",
      "\t done.\n",
      "Performing perform_registered_computations(...) with 5 registered_computation_functions...\n"
     ]
    }
   ],
   "source": [
    "pipeline_flowchart_window, pipeline_flowchart_app = plot_flowchartWidget(title='PhoMainPipelineFlowchartApp')"
   ]
  },
  {
   "cell_type": "code",
   "execution_count": null,
   "metadata": {
    "collapsed": false,
    "jupyter": {
     "outputs_hidden": false
    },
    "pycharm": {
     "name": "#%%\n"
    }
   },
   "outputs": [],
   "source": [
    "# Currently works without ever calling this using evaluation in PyCharm 2019.1 (Jupyter Notebook Mode)\n",
    "# pg.exec()"
   ]
  },
  {
   "cell_type": "code",
   "execution_count": 9,
   "metadata": {
    "collapsed": false,
    "jupyter": {
     "outputs_hidden": false
    },
    "pycharm": {
     "is_executing": false,
     "name": "#%%\n"
    }
   },
   "outputs": [],
   "source": [
    "pipeline_flowchart = pipeline_flowchart_window.flowchart\n",
    "flowchart_controls_widget = pipeline_flowchart.widget() # FlowchartCtrlWidget"
   ]
  },
  {
   "cell_type": "code",
   "execution_count": 8,
   "metadata": {
    "collapsed": false,
    "jupyter": {
     "outputs_hidden": false
    },
    "pycharm": {
     "is_executing": false,
     "name": "#%%\n"
    }
   },
   "outputs": [],
   "source": [
    "# # flowchart_controls_widget.ui.ctrlList is a TreeWidget\n",
    "# flowchart_controls_widget.ui.ctrlList.expandAll()\n",
    "\n",
    "flowchart_window = flowchart_controls_widget.cwWin"
   ]
  },
  {
   "cell_type": "code",
   "execution_count": 5,
   "metadata": {
    "collapsed": false,
    "jupyter": {
     "outputs_hidden": false
    },
    "pycharm": {
     "is_executing": false,
     "name": "#%%\n"
    }
   },
   "outputs": [],
   "source": [
    "pipeline_flowchart_nodes = pipeline_flowchart.nodes()\n",
    "# {'Input': <Node Input @13fc5877a60>,\n",
    "#  'Output': <Node Output @13fc5877af0>,\n",
    "#  'PipelineInputDataNode.0': <Node PipelineInputDataNode.0 @13fcb1428b0>,\n",
    "#  'PipelineFilteringDataNode.0': <Node PipelineFilteringDataNode.0 @13fcb145ca0>,\n",
    "#  'PipelineComputationsNode.0': <Node PipelineComputationsNode.0 @13fcb14c1f0>,\n",
    "#  'PipelineDisplayNode.0': <Node PipelineDisplayNode.0 @13fcb14eb80>}"
   ]
  },
  {
   "cell_type": "code",
   "execution_count": 42,
   "metadata": {
    "collapsed": false,
    "jupyter": {
     "outputs_hidden": false
    },
    "pycharm": {
     "is_executing": false,
     "name": "#%%\n"
    }
   },
   "outputs": [
    {
     "name": "stdout",
     "output_type": "stream",
     "text": [
      "curr_display_fcn: _display_3d_interactive_tuning_curves_plotter\n"
     ]
    }
   ],
   "source": [
    "# curr_node = pipeline_flowchart_nodes['Input']\n",
    "# curr_node = pipeline_flowchart_nodes['PipelineFilteringDataNode.0']\n",
    "# curr_node = pipeline_flowchart_nodes['PipelineComputationsNode.0']\n",
    "\n",
    "# curr_node = pipeline_flowchart_window.flowchart.nodes()['PipelineDisplayNode.0']\n",
    "# display_outputs = curr_node.outputs()['display_outputs'].value()\n",
    "\n",
    "curr_node = pipeline_flowchart_window.flowchart.nodes()['PipelineDisplayNode.1']\n",
    "display_outputs = curr_node.outputs()['display_outputs'].value()\n",
    "\n",
    "curr_node.on_add_function = None"
   ]
  },
  {
   "cell_type": "code",
   "execution_count": 36,
   "metadata": {
    "collapsed": false,
    "jupyter": {
     "outputs_hidden": false
    },
    "pycharm": {
     "is_executing": false,
     "name": "#%%\n"
    }
   },
   "outputs": [
    {
     "name": "stdout",
     "output_type": "stream",
     "text": [
      "curr_display_fcn: _display_3d_interactive_spike_and_behavior_browser\n",
      "computation_result.sess: DataSession(RatS-Day5TwoNovel-2020-12-04_07-55-09.xml)\n",
      "active_epoch_pos.sampling_rate (Hz): 59.999976362569846\n",
      "longer_spikes_window - curr_view_window_length_samples - 61439\n",
      "recent_spikes_window - curr_view_window_length_samples - 599\n",
      "Applying custom Pyvista theme.\n",
      "done.\n",
      "No open BackgroundPlotter\n",
      "Creating a new BackgroundPlotter\n",
      "[f] - Focus and zoom in on the last clicked point\n",
      "shift+click - Drag to pan the rendering scene\n",
      "ctrl+click - Rotate the scene in 2D\n",
      "active_fig_num: 1\n"
     ]
    }
   ],
   "source": [
    "# display_outputs['plotter'].close() # this works to close it\n",
    "\n",
    "\n",
    "\n",
    "# curr_graphics_item = curr_node._graphicsItem\n",
    "# print(f' bounds: {curr_graphics_item.bounds}\\n boundingRect: {curr_graphics_item.boundingRect()}\\n viewRect: {curr_graphics_item.viewRect()}\\n')\n",
    "# curr_graphics_item._determine_minimum_fitting_width()\n",
    "\n",
    "# curr_graphics_item.boundingRect() # PyQt5.QtCore.QRectF(-5.0, -5.0, 110.0, 47.0)\n",
    "# PyQt5.QtCore.QRectF(-5.0, -5.0, 110.0, 47.0)\n",
    "# bounds:  PyQt5.QtCore.QRectF(0.0, 0.0, 200.0, 37.0)\n",
    "# viewRect(): PyQt5.QtCore.QRectF(-73.79232504771767, -159.69831582790422, 1291.1385371488711, 363.01007503425706)"
   ]
  },
  {
   "cell_type": "code",
   "execution_count": 9,
   "metadata": {
    "collapsed": false,
    "jupyter": {
     "outputs_hidden": false
    },
    "pycharm": {
     "is_executing": false,
     "name": "#%%\n"
    }
   },
   "outputs": [],
   "source": [
    "curr_check_table.columnNames # ['filter', 'compute']\n",
    "curr_check_table.get_column_values('filter')\n",
    "# curr_graphics_item.terminals \n",
    "\n",
    "curr_check_table.set_value(0,0,True)\n",
    "curr_check_table.saveState()"
   ]
  },
  {
   "cell_type": "code",
   "execution_count": 10,
   "metadata": {
    "collapsed": false,
    "jupyter": {
     "outputs_hidden": false
    },
    "pycharm": {
     "is_executing": false,
     "name": "#%%\n"
    }
   },
   "outputs": [
    {
     "data": {
      "text/plain": [
       "<pyphoplacecellanalysis.General.Pipeline.NeuropyPipeline.NeuropyPipeline at 0x186ac3b0f40>"
      ]
     },
     "execution_count": 10,
     "metadata": {},
     "output_type": "execute_result"
    }
   ],
   "source": [
    "output_node = pipeline_flowchart_window.flowchart_output_node\n",
    "final_output_terminal = output_node.inputs()['dataOut']\n",
    "\n",
    "final_output_terminal.value()"
   ]
  },
  {
   "cell_type": "code",
   "execution_count": 5,
   "metadata": {
    "collapsed": false,
    "jupyter": {
     "outputs_hidden": false
    },
    "pycharm": {
     "is_executing": false,
     "name": "#%%\n"
    }
   },
   "outputs": [],
   "source": [
    "output = pipeline_flowchart_window.flowchart.output()\n",
    "final_output_pipeline = output['dataOut']"
   ]
  },
  {
   "cell_type": "code",
   "execution_count": null,
   "metadata": {
    "collapsed": false,
    "jupyter": {
     "outputs_hidden": false
    },
    "pycharm": {
     "name": "#%%\n"
    }
   },
   "outputs": [],
   "source": [
    "\n"
   ]
  }
 ],
 "metadata": {
  "kernelspec": {
   "display_name": "Python [conda env:phoviz_ultimate]",
   "language": "python",
   "name": "conda-env-phoviz_ultimate-py"
  },
  "language_info": {
   "codemirror_mode": {
    "name": "ipython",
    "version": 3
   },
   "file_extension": ".py",
   "mimetype": "text/x-python",
   "name": "python",
   "nbconvert_exporter": "python",
   "pygments_lexer": "ipython3",
   "version": "3.9.10"
  },
  "pycharm": {
   "stem_cell": {
    "cell_type": "raw",
    "metadata": {
     "collapsed": false
    },
    "source": []
   }
  }
 },
 "nbformat": 4,
 "nbformat_minor": 4
}
