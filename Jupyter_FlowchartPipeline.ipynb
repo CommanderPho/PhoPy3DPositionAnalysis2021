{
 "cells": [
  {
   "cell_type": "code",
   "execution_count": 1,
   "metadata": {
    "collapsed": false,
    "jupyter": {
     "outputs_hidden": false
    },
    "pycharm": {
     "is_executing": false,
     "name": "#%%\n"
    }
   },
   "outputs": [],
   "source": [
    "\"\"\"\n",
    "@author: pho\n",
    "\"\"\"\n",
    "\n",
    "# noinspection JupyterPackage\n",
    "\"\"\"\n",
    "Can run via:\n",
    "\n",
    "# change directory to PhoPy3DPositionAnalysis2021 repo\n",
    "cd 'C:\\\\Users\\\\pho\\\\repos\\\\PhoPy3DPositionAnalysis2021'\n",
    "# Call iPython:\n",
    "ipython iPython_PipelineRun.ipy\n",
    "\n",
    "jupyter qtconsole \n",
    "# change directory to PhoPy3DPositionAnalysis2021 repo\n",
    "cd 'C:\\\\Users\\\\pho\\\\repos\\\\PhoPy3DPositionAnalysis2021'\n",
    "\n",
    "\n",
    "pip install pyqt6 qt6-applications qt6-tools pyqt6-plugins pyqt6-sip pyqt6-qt6 pyqt6-sip\n",
    "\n",
    "pip install PyQt6\n",
    "\n",
    "\"\"\"\n",
    "%load_ext autoreload\n",
    "%autoreload 2\n",
    "import sys\n",
    "import importlib\n",
    "from pathlib import Path\n",
    "\n",
    "import numpy as np\n",
    "\n",
    "# required to enable non-blocking interaction:\n",
    "# %gui qt\n",
    "# $env:QT_API=\"pyqt6\"\n",
    "%gui qt5\n",
    "# %gui qt6\n",
    "# from PyQt5.Qt import QApplication\n",
    "# # start qt event loop\n",
    "# _instance = QApplication.instance()\n",
    "# if not _instance:\n",
    "#     _instance = QApplication([])\n",
    "# app = _instance\n",
    "import pyqtgraph as pg\n",
    "from pyqtgraph.Qt import QtCore, QtGui\n",
    "from pyqtgraph.Qt import QtGui, QtCore, QtWidgets\n",
    "\n",
    "# Must be called before any figures are created:\n",
    "import matplotlib\n",
    "matplotlib.use('qtagg')\n",
    "\n",
    "\n",
    "from pyqtgraph.console import ConsoleWidget\n",
    "from pyqtgraph.widgets.MatplotlibWidget import MatplotlibWidget\n",
    "from pyqtgraph.dockarea.Dock import Dock\n",
    "from pyqtgraph.dockarea.DockArea import DockArea\n",
    "\n",
    "from pyphoplacecellanalysis.GUI.PyQtPlot.Flowchart.CustomNodes.Mixins.DisplayNodeViewHelpers import ProducedViewType\n",
    "from pyphoplacecellanalysis.GUI.PyQtPlot.Flowchart.pyqtplot_Flowchart import plot_flowchartWidget"
   ]
  },
  {
   "cell_type": "code",
   "execution_count": 2,
   "metadata": {
    "collapsed": false,
    "jupyter": {
     "outputs_hidden": false
    },
    "pycharm": {
     "is_executing": false,
     "name": "#%%\n"
    },
    "scrolled": true,
    "tags": []
   },
   "outputs": [
    {
     "name": "stdout",
     "output_type": "stream",
     "text": [
      "cw: <PyQt5.QtWidgets.QWidget object at 0x000001C49A84F8B0>\n",
      "num_known_types: 2\n",
      "ctrl_node_ops: [('data_mode', 'combo', {'values': ['bapun', 'kdiba', 'custom...'], 'index': 0})]\n",
      " custom_ops:[('reload', 'action')]\n",
      " self.uiTemplate: [('data_mode', 'combo', {'values': ['bapun', 'kdiba', 'custom...'], 'index': 0})]\n",
      "\n",
      "ctrl_node_ops: []\n",
      " custom_ops:[('included_configs_table', 'extendedchecktable', {'columns': ['filter'], 'rows': ['test1', 'test2']}), ('refilter', 'action')]\n",
      " self.uiTemplate: []\n",
      "\n",
      "ctrl_node_ops: []\n",
      " custom_ops:[('recompute', 'action'), ('included_configs_table', 'extendedchecktable', {'columns': ['compute'], 'rows': ['test1', 'test2']})]\n",
      " self.uiTemplate: []\n",
      "\n"
     ]
    },
    {
     "ename": "Exception",
     "evalue": "Unknown widget type 'action'",
     "output_type": "error",
     "traceback": [
      "\u001b[1;31m---------------------------------------------------------------------------\u001b[0m",
      "\u001b[1;31mException\u001b[0m                                 Traceback (most recent call last)",
      "Input \u001b[1;32mIn [2]\u001b[0m, in \u001b[0;36m<cell line: 1>\u001b[1;34m()\u001b[0m\n\u001b[1;32m----> 1\u001b[0m pipeline_flowchart_window, pipeline_flowchart_app \u001b[38;5;241m=\u001b[39m \u001b[43mplot_flowchartWidget\u001b[49m\u001b[43m(\u001b[49m\u001b[43mtitle\u001b[49m\u001b[38;5;241;43m=\u001b[39;49m\u001b[38;5;124;43m'\u001b[39;49m\u001b[38;5;124;43mPhoMainPipelineFlowchartApp\u001b[39;49m\u001b[38;5;124;43m'\u001b[39;49m\u001b[43m)\u001b[49m\n",
      "File \u001b[1;32mc:\\users\\pho\\repos\\pyphoplacecellanalysis\\src\\pyphoplacecellanalysis\\GUI\\PyQtPlot\\Flowchart\\pyqtplot_Flowchart.py:187\u001b[0m, in \u001b[0;36mplot_flowchartWidget\u001b[1;34m(title)\u001b[0m\n\u001b[0;32m    184\u001b[0m mainAppWindow\u001b[38;5;241m.\u001b[39mresize(\u001b[38;5;241m1920\u001b[39m, \u001b[38;5;241m1080\u001b[39m)\n\u001b[0;32m    186\u001b[0m \u001b[38;5;66;03m# _add_pho_pipeline_programmatic_flowchart_nodes(mainAppWindow.app, mainAppWindow.flowchart, new_wrapper_container_layout) # changed from layout to new_wrapper_container_layout\u001b[39;00m\n\u001b[1;32m--> 187\u001b[0m \u001b[43m_add_pho_pipeline_programmatic_flowchart_nodes\u001b[49m\u001b[43m(\u001b[49m\u001b[43mmainAppWindow\u001b[49m\u001b[38;5;241;43m.\u001b[39;49m\u001b[43mapp\u001b[49m\u001b[43m,\u001b[49m\u001b[43m \u001b[49m\u001b[43mmainAppWindow\u001b[49m\u001b[38;5;241;43m.\u001b[39;49m\u001b[43mflowchart\u001b[49m\u001b[43m,\u001b[49m\u001b[43m \u001b[49m\u001b[43mon_add_function\u001b[49m\u001b[38;5;241;43m=\u001b[39;49m\u001b[43mon_add_widget_fn\u001b[49m\u001b[43m,\u001b[49m\u001b[43m \u001b[49m\u001b[43mon_remove_function\u001b[49m\u001b[38;5;241;43m=\u001b[39;49m\u001b[43mon_remove_widget_fn\u001b[49m\u001b[43m)\u001b[49m \u001b[38;5;66;03m# dynamic dockarea version\u001b[39;00m\n\u001b[0;32m    189\u001b[0m \u001b[38;5;66;03m# _add_default_example_programmatic_flowchart_nodes(fc, layout)    \u001b[39;00m\n\u001b[0;32m    190\u001b[0m \n\u001b[0;32m    191\u001b[0m \u001b[38;5;66;03m# Expand all pipeline widget items on startup:\u001b[39;00m\n\u001b[0;32m    192\u001b[0m \u001b[38;5;66;03m# flowchart_controls_widget.ui.ctrlList is a TreeWidget\u001b[39;00m\n\u001b[0;32m    193\u001b[0m flowchart_controls_widget\u001b[38;5;241m.\u001b[39mui\u001b[38;5;241m.\u001b[39mctrlList\u001b[38;5;241m.\u001b[39mexpandAll()\n",
      "File \u001b[1;32mc:\\users\\pho\\repos\\pyphoplacecellanalysis\\src\\pyphoplacecellanalysis\\GUI\\PyQtPlot\\Flowchart\\pyqtplot_Flowchart.py:388\u001b[0m, in \u001b[0;36m_add_pho_pipeline_programmatic_flowchart_nodes\u001b[1;34m(app, fc, on_add_function, on_remove_function)\u001b[0m\n\u001b[0;32m    383\u001b[0m \u001b[38;5;66;03m# pipeline_filter_node.setView(v2, on_remove_function=on_remove_widget_fn)\u001b[39;00m\n\u001b[0;32m    385\u001b[0m pipeline_computation_node \u001b[38;5;241m=\u001b[39m fc\u001b[38;5;241m.\u001b[39mcreateNode(\u001b[38;5;124m'\u001b[39m\u001b[38;5;124mPipelineComputationsNode\u001b[39m\u001b[38;5;124m'\u001b[39m, pos\u001b[38;5;241m=\u001b[39m(\u001b[38;5;241m154\u001b[39m, \u001b[38;5;241m50\u001b[39m))\n\u001b[1;32m--> 388\u001b[0m pipeline_display_node \u001b[38;5;241m=\u001b[39m \u001b[43mfc\u001b[49m\u001b[38;5;241;43m.\u001b[39;49m\u001b[43mcreateNode\u001b[49m\u001b[43m(\u001b[49m\u001b[38;5;124;43m'\u001b[39;49m\u001b[38;5;124;43mPipelineDisplayNode\u001b[39;49m\u001b[38;5;124;43m'\u001b[39;49m\u001b[43m,\u001b[49m\u001b[43m \u001b[49m\u001b[43mpos\u001b[49m\u001b[38;5;241;43m=\u001b[39;49m\u001b[43m(\u001b[49m\u001b[38;5;241;43m280\u001b[39;49m\u001b[43m,\u001b[49m\u001b[43m \u001b[49m\u001b[38;5;241;43m120\u001b[39;49m\u001b[43m)\u001b[49m\u001b[43m)\u001b[49m\n\u001b[0;32m    389\u001b[0m \u001b[38;5;66;03m# pipeline_display_node.setApp(app) # Sets the shared singleton app instance\u001b[39;00m\n\u001b[0;32m    390\u001b[0m \u001b[38;5;66;03m# pipeline_display_node.setView(new_root_render_widget, on_remove_function=on_remove_widget_fn) # Sets the view associated with the node. Note that this is the \u001b[39;00m\n\u001b[0;32m    391\u001b[0m \u001b[38;5;66;03m# for direct matploblib widget mode:\u001b[39;00m\n\u001b[1;32m   (...)\u001b[0m\n\u001b[0;32m    397\u001b[0m \n\u001b[0;32m    398\u001b[0m \u001b[38;5;66;03m# Pipeline Result Visualization Node:\u001b[39;00m\n\u001b[0;32m    399\u001b[0m pipeline_result_viz_node \u001b[38;5;241m=\u001b[39m fc\u001b[38;5;241m.\u001b[39mcreateNode(\u001b[38;5;124m'\u001b[39m\u001b[38;5;124mPipelineResultVisNode\u001b[39m\u001b[38;5;124m'\u001b[39m, pos\u001b[38;5;241m=\u001b[39m(\u001b[38;5;241m280\u001b[39m, \u001b[38;5;241m220\u001b[39m))\n",
      "File \u001b[1;32mc:\\users\\pho\\repos\\pyqtgraph\\pyqtgraph\\flowchart\\Flowchart.py:172\u001b[0m, in \u001b[0;36mFlowchart.createNode\u001b[1;34m(self, nodeType, name, pos)\u001b[0m\n\u001b[0;32m    169\u001b[0m             \u001b[38;5;28;01mbreak\u001b[39;00m\n\u001b[0;32m    170\u001b[0m         n \u001b[38;5;241m+\u001b[39m\u001b[38;5;241m=\u001b[39m \u001b[38;5;241m1\u001b[39m\n\u001b[1;32m--> 172\u001b[0m node \u001b[38;5;241m=\u001b[39m \u001b[38;5;28;43mself\u001b[39;49m\u001b[38;5;241;43m.\u001b[39;49m\u001b[43mlibrary\u001b[49m\u001b[38;5;241;43m.\u001b[39;49m\u001b[43mgetNodeType\u001b[49m\u001b[43m(\u001b[49m\u001b[43mnodeType\u001b[49m\u001b[43m)\u001b[49m\u001b[43m(\u001b[49m\u001b[43mname\u001b[49m\u001b[43m)\u001b[49m\n\u001b[0;32m    173\u001b[0m \u001b[38;5;28mself\u001b[39m\u001b[38;5;241m.\u001b[39maddNode(node, name, pos)\n\u001b[0;32m    174\u001b[0m \u001b[38;5;28;01mreturn\u001b[39;00m node\n",
      "File \u001b[1;32mc:\\users\\pho\\repos\\pyphoplacecellanalysis\\src\\pyphoplacecellanalysis\\GUI\\PyQtPlot\\Flowchart\\CustomNodes\\DisplayNodes\\PipelineDisplayNode.py:74\u001b[0m, in \u001b[0;36mPipelineDisplayNode.__init__\u001b[1;34m(self, name, on_add_function, on_remove_function)\u001b[0m\n\u001b[0;32m     63\u001b[0m \u001b[38;5;66;03m# self.view = None\u001b[39;00m\n\u001b[0;32m     64\u001b[0m \u001b[38;5;66;03m# self.on_remove_function = None\u001b[39;00m\n\u001b[0;32m     65\u001b[0m \n\u001b[0;32m     66\u001b[0m \n\u001b[0;32m     67\u001b[0m \u001b[38;5;66;03m## Define the input / output terminals available on this node\u001b[39;00m\n\u001b[0;32m     68\u001b[0m terminals \u001b[38;5;241m=\u001b[39m {\n\u001b[0;32m     69\u001b[0m     \u001b[38;5;124m'\u001b[39m\u001b[38;5;124mcomputation_configs\u001b[39m\u001b[38;5;124m'\u001b[39m: \u001b[38;5;28mdict\u001b[39m(io\u001b[38;5;241m=\u001b[39m\u001b[38;5;124m'\u001b[39m\u001b[38;5;124min\u001b[39m\u001b[38;5;124m'\u001b[39m),\n\u001b[0;32m     70\u001b[0m     \u001b[38;5;124m'\u001b[39m\u001b[38;5;124mpipeline\u001b[39m\u001b[38;5;124m'\u001b[39m: \u001b[38;5;28mdict\u001b[39m(io\u001b[38;5;241m=\u001b[39m\u001b[38;5;124m'\u001b[39m\u001b[38;5;124min\u001b[39m\u001b[38;5;124m'\u001b[39m),\n\u001b[0;32m     71\u001b[0m     \u001b[38;5;124m'\u001b[39m\u001b[38;5;124mdisplay_outputs\u001b[39m\u001b[38;5;124m'\u001b[39m: \u001b[38;5;28mdict\u001b[39m(io\u001b[38;5;241m=\u001b[39m\u001b[38;5;124m'\u001b[39m\u001b[38;5;124mout\u001b[39m\u001b[38;5;124m'\u001b[39m),\n\u001b[0;32m     72\u001b[0m     \u001b[38;5;124m'\u001b[39m\u001b[38;5;124mdisplay_results\u001b[39m\u001b[38;5;124m'\u001b[39m: \u001b[38;5;28mdict\u001b[39m(io\u001b[38;5;241m=\u001b[39m\u001b[38;5;124m'\u001b[39m\u001b[38;5;124mout\u001b[39m\u001b[38;5;124m'\u001b[39m),             \n\u001b[0;32m     73\u001b[0m }\n\u001b[1;32m---> 74\u001b[0m \u001b[43mPlottingCtrlNode\u001b[49m\u001b[38;5;241;43m.\u001b[39;49m\u001b[38;5;21;43m__init__\u001b[39;49m\u001b[43m(\u001b[49m\u001b[38;5;28;43mself\u001b[39;49m\u001b[43m,\u001b[49m\u001b[43m \u001b[49m\u001b[43mname\u001b[49m\u001b[43m,\u001b[49m\u001b[43m \u001b[49m\u001b[43mterminals\u001b[49m\u001b[38;5;241;43m=\u001b[39;49m\u001b[43mterminals\u001b[49m\u001b[43m)\u001b[49m\n\u001b[0;32m     76\u001b[0m \u001b[38;5;66;03m# Set up the combo boxes:\u001b[39;00m\n\u001b[0;32m     77\u001b[0m \u001b[38;5;66;03m# self.display_function_keys = []\u001b[39;00m\n\u001b[0;32m     78\u001b[0m \u001b[38;5;66;03m# self.computed_result_keys = []\u001b[39;00m\n\u001b[0;32m     79\u001b[0m \u001b[38;5;28mself\u001b[39m\u001b[38;5;241m.\u001b[39mcombo_box_keys_dict \u001b[38;5;241m=\u001b[39m {\u001b[38;5;124m'\u001b[39m\u001b[38;5;124mdisplay_function\u001b[39m\u001b[38;5;124m'\u001b[39m:[], \u001b[38;5;124m'\u001b[39m\u001b[38;5;124mcomputed_result\u001b[39m\u001b[38;5;124m'\u001b[39m:[]}\n",
      "File \u001b[1;32mc:\\users\\pho\\repos\\pyqtgraph\\pyqtgraph\\flowchart\\library\\common.py:146\u001b[0m, in \u001b[0;36mPlottingCtrlNode.__init__\u001b[1;34m(self, name, ui, terminals)\u001b[0m\n\u001b[0;32m    144\u001b[0m \u001b[38;5;28;01mdef\u001b[39;00m \u001b[38;5;21m__init__\u001b[39m(\u001b[38;5;28mself\u001b[39m, name, ui\u001b[38;5;241m=\u001b[39m\u001b[38;5;28;01mNone\u001b[39;00m, terminals\u001b[38;5;241m=\u001b[39m\u001b[38;5;28;01mNone\u001b[39;00m):\n\u001b[0;32m    145\u001b[0m     \u001b[38;5;66;03m#print \"PlottingCtrlNode.__init__ called.\"\u001b[39;00m\n\u001b[1;32m--> 146\u001b[0m     \u001b[43mCtrlNode\u001b[49m\u001b[38;5;241;43m.\u001b[39;49m\u001b[38;5;21;43m__init__\u001b[39;49m\u001b[43m(\u001b[49m\u001b[38;5;28;43mself\u001b[39;49m\u001b[43m,\u001b[49m\u001b[43m \u001b[49m\u001b[43mname\u001b[49m\u001b[43m,\u001b[49m\u001b[43m \u001b[49m\u001b[43mui\u001b[49m\u001b[38;5;241;43m=\u001b[39;49m\u001b[43mui\u001b[49m\u001b[43m,\u001b[49m\u001b[43m \u001b[49m\u001b[43mterminals\u001b[49m\u001b[38;5;241;43m=\u001b[39;49m\u001b[43mterminals\u001b[49m\u001b[43m)\u001b[49m\n\u001b[0;32m    147\u001b[0m     \u001b[38;5;28mself\u001b[39m\u001b[38;5;241m.\u001b[39mplotTerminal \u001b[38;5;241m=\u001b[39m \u001b[38;5;28mself\u001b[39m\u001b[38;5;241m.\u001b[39maddOutput(\u001b[38;5;124m'\u001b[39m\u001b[38;5;124mplot\u001b[39m\u001b[38;5;124m'\u001b[39m, optional\u001b[38;5;241m=\u001b[39m\u001b[38;5;28;01mTrue\u001b[39;00m)\n",
      "File \u001b[1;32mc:\\users\\pho\\repos\\pyqtgraph\\pyqtgraph\\flowchart\\library\\common.py:104\u001b[0m, in \u001b[0;36mCtrlNode.__init__\u001b[1;34m(self, name, ui, terminals)\u001b[0m\n\u001b[0;32m    101\u001b[0m     \u001b[38;5;28;01melse\u001b[39;00m:\n\u001b[0;32m    102\u001b[0m         ui \u001b[38;5;241m=\u001b[39m []\n\u001b[1;32m--> 104\u001b[0m \u001b[38;5;28mself\u001b[39m\u001b[38;5;241m.\u001b[39mui, \u001b[38;5;28mself\u001b[39m\u001b[38;5;241m.\u001b[39mstateGroup, \u001b[38;5;28mself\u001b[39m\u001b[38;5;241m.\u001b[39mctrls \u001b[38;5;241m=\u001b[39m \u001b[43mgenerateUi\u001b[49m\u001b[43m(\u001b[49m\u001b[43mui\u001b[49m\u001b[43m)\u001b[49m\n\u001b[0;32m    105\u001b[0m \u001b[38;5;28mself\u001b[39m\u001b[38;5;241m.\u001b[39mstateGroup\u001b[38;5;241m.\u001b[39msigChanged\u001b[38;5;241m.\u001b[39mconnect(\u001b[38;5;28mself\u001b[39m\u001b[38;5;241m.\u001b[39mchanged)\n",
      "File \u001b[1;32mc:\\users\\pho\\repos\\pyqtgraph\\pyqtgraph\\flowchart\\library\\common.py:70\u001b[0m, in \u001b[0;36mgenerateUi\u001b[1;34m(opts)\u001b[0m\n\u001b[0;32m     68\u001b[0m     w \u001b[38;5;241m=\u001b[39m ColorButton()\n\u001b[0;32m     69\u001b[0m \u001b[38;5;28;01melse\u001b[39;00m:\n\u001b[1;32m---> 70\u001b[0m     \u001b[38;5;28;01mraise\u001b[39;00m \u001b[38;5;167;01mException\u001b[39;00m(\u001b[38;5;124m\"\u001b[39m\u001b[38;5;124mUnknown widget type \u001b[39m\u001b[38;5;124m'\u001b[39m\u001b[38;5;132;01m%s\u001b[39;00m\u001b[38;5;124m'\u001b[39m\u001b[38;5;124m\"\u001b[39m \u001b[38;5;241m%\u001b[39m \u001b[38;5;28mstr\u001b[39m(t))\n\u001b[0;32m     72\u001b[0m \u001b[38;5;28;01mif\u001b[39;00m tip \u001b[38;5;129;01mis\u001b[39;00m \u001b[38;5;129;01mnot\u001b[39;00m \u001b[38;5;28;01mNone\u001b[39;00m:\n\u001b[0;32m     73\u001b[0m     w\u001b[38;5;241m.\u001b[39msetToolTip(tip)\n",
      "\u001b[1;31mException\u001b[0m: Unknown widget type 'action'"
     ]
    }
   ],
   "source": [
    "pipeline_flowchart_window, pipeline_flowchart_app = plot_flowchartWidget(title='PhoMainPipelineFlowchartApp')"
   ]
  },
  {
   "cell_type": "code",
   "execution_count": null,
   "metadata": {
    "collapsed": false,
    "jupyter": {
     "outputs_hidden": false
    },
    "pycharm": {
     "is_executing": false,
     "name": "#%%\n"
    }
   },
   "outputs": [],
   "source": [
    "# Currently works without ever calling this using evaluation in PyCharm 2019.1 (Jupyter Notebook Mode)\n",
    "# pg.exec()\n",
    "\n"
   ]
  },
  {
   "cell_type": "code",
   "execution_count": null,
   "metadata": {
    "collapsed": false,
    "jupyter": {
     "outputs_hidden": false
    },
    "pycharm": {
     "is_executing": false,
     "name": "#%%\n"
    }
   },
   "outputs": [],
   "source": [
    "dock_area = pipeline_flowchart_window.area\n",
    "curr_dock_items = dock_area.children()"
   ]
  },
  {
   "cell_type": "code",
   "execution_count": null,
   "metadata": {
    "collapsed": false,
    "jupyter": {
     "outputs_hidden": false
    },
    "pycharm": {
     "is_executing": false,
     "name": "#%%\n"
    }
   },
   "outputs": [],
   "source": [
    "pipeline_flowchart_window.dynamic_display_dict\n",
    "# OrderedDict([('Group',\n",
    "#               OrderedDict([('Group',\n",
    "#                             {'dock': <Dock Group (300, 200)>,\n",
    "#                              'widget': <pyqtgraph.widgets.MatplotlibWidget.MatplotlibWidget at 0x24f88d18790>}),\n",
    "#                            ('Group-1',\n",
    "#                             {'dock': <Dock Group-1 (300, 200)>,\n",
    "#                              'widget': <pyqtgraph.widgets.MatplotlibWidget.MatplotlibWidget at 0x24f88d71d30>}),\n",
    "#                            ('Group-2',\n",
    "#                             {'dock': <Dock Group-2 (300, 200)>,\n",
    "#                              'widget': <pyqtgraph.widgets.MatplotlibWidget.MatplotlibWidget at 0x24f88d24790>}),\n",
    "#                            ('Group-3',\n",
    "#                             {'dock': <Dock Group-3 (300, 200)>,\n",
    "#                              'widget': <pyqtgraph.widgets.MatplotlibWidget.MatplotlibWidget at 0x24f8848f040>})]))])\n"
   ]
  },
  {
   "cell_type": "code",
   "execution_count": null,
   "metadata": {
    "collapsed": false,
    "jupyter": {
     "outputs_hidden": false
    },
    "pycharm": {
     "is_executing": false,
     "name": "#%%\n"
    }
   },
   "outputs": [],
   "source": [
    "# test programmatic removal of items\n",
    "pipeline_flowchart_window.remove_display_dock('Group')\n",
    "# pipeline_flowchart_window.remove_display_dock('Group-1')"
   ]
  },
  {
   "cell_type": "code",
   "execution_count": null,
   "metadata": {
    "collapsed": false,
    "jupyter": {
     "outputs_hidden": false
    },
    "pycharm": {
     "is_executing": false,
     "name": "#%%\n"
    }
   },
   "outputs": [],
   "source": [
    "# Test programmatically adding dock items as display widgets:\n",
    "# pipeline_flowchart_window.add_display_dock('Group[0]', viewContentsType=ProducedViewType.Matplotlib)\n",
    "pipeline_flowchart_window.add_display_dock('Group', viewContentsType=ProducedViewType.Matplotlib)\n",
    "pipeline_flowchart_window.add_display_dock('Group', viewContentsType=ProducedViewType.Matplotlib)\n",
    "pipeline_flowchart_window.add_display_dock('Group', viewContentsType=ProducedViewType.Matplotlib)\n",
    "pipeline_flowchart_window.add_display_dock('Group', viewContentsType=ProducedViewType.Matplotlib)\n",
    "\n",
    "# \n",
    "# dItem = Dock(\"Display Outputs - Dynamic\", size=(600,900), closable=True)\n",
    "# pipeline_flowchart_window.area.addDock(dItem, 'right')\n",
    "# pipeline_flowchart_window.displayDockArea = DockArea()\n",
    "# dItem.addWidget(pipeline_flowchart_window.displayDockArea) # add the dynamic nested Dock area to the dItem widget\n"
   ]
  },
  {
   "cell_type": "code",
   "execution_count": null,
   "metadata": {
    "collapsed": false,
    "jupyter": {
     "outputs_hidden": false
    },
    "pycharm": {
     "is_executing": false,
     "name": "#%%\n"
    }
   },
   "outputs": [],
   "source": [
    "# Add the sample display dock items to the nested dynamic display dock:\n",
    "dDisplayItem = Dock(\"Display Subdock Item\", size=(300,200), closable=True)\n",
    "pipeline_flowchart_window.displayDockArea.addDock(dDisplayItem, 'left')\n",
    "# Add the widget to the new display item:\n",
    "new_view_widget = MatplotlibWidget()\n",
    "dDisplayItem.addWidget(new_view_widget)\n",
    "\n",
    "# add example plot to figure\n",
    "subplot = new_view_widget.getFigure().add_subplot(111)\n",
    "subplot.plot(np.arange(9))\n",
    "new_view_widget.draw()\n"
   ]
  },
  {
   "cell_type": "code",
   "execution_count": null,
   "metadata": {
    "collapsed": false,
    "jupyter": {
     "outputs_hidden": false
    },
    "pycharm": {
     "is_executing": false,
     "name": "#%%\n"
    }
   },
   "outputs": [],
   "source": [
    "pipeline_flowchart = pipeline_flowchart_window.flowchart\n",
    "flowchart_controls_widget = pipeline_flowchart.widget() # FlowchartCtrlWidget"
   ]
  },
  {
   "cell_type": "code",
   "execution_count": null,
   "metadata": {
    "collapsed": false,
    "jupyter": {
     "outputs_hidden": false
    },
    "pycharm": {
     "is_executing": false,
     "name": "#%%\n"
    }
   },
   "outputs": [],
   "source": [
    "# # flowchart_controls_widget.ui.ctrlList is a TreeWidget\n",
    "# flowchart_controls_widget.ui.ctrlList.expandAll()\n",
    "\n",
    "flowchart_window = flowchart_controls_widget.cwWin"
   ]
  },
  {
   "cell_type": "code",
   "execution_count": null,
   "metadata": {
    "collapsed": false,
    "jupyter": {
     "outputs_hidden": false
    },
    "pycharm": {
     "is_executing": false,
     "name": "#%%\n"
    }
   },
   "outputs": [],
   "source": [
    "pipeline_flowchart"
   ]
  },
  {
   "cell_type": "code",
   "execution_count": null,
   "metadata": {
    "collapsed": false,
    "jupyter": {
     "outputs_hidden": false
    },
    "pycharm": {
     "is_executing": false,
     "name": "#%%\n"
    }
   },
   "outputs": [],
   "source": [
    "pipeline_flowchart_nodes = pipeline_flowchart.nodes()\n",
    "# {'Input': <Node Input @13fc5877a60>,\n",
    "#  'Output': <Node Output @13fc5877af0>,\n",
    "#  'PipelineInputDataNode.0': <Node PipelineInputDataNode.0 @13fcb1428b0>,\n",
    "#  'PipelineFilteringDataNode.0': <Node PipelineFilteringDataNode.0 @13fcb145ca0>,\n",
    "#  'PipelineComputationsNode.0': <Node PipelineComputationsNode.0 @13fcb14c1f0>,\n",
    "#  'PipelineDisplayNode.0': <Node PipelineDisplayNode.0 @13fcb14eb80>}"
   ]
  },
  {
   "cell_type": "code",
   "execution_count": null,
   "metadata": {
    "collapsed": false,
    "jupyter": {
     "outputs_hidden": false
    },
    "pycharm": {
     "is_executing": false,
     "name": "#%%\n"
    }
   },
   "outputs": [],
   "source": [
    "curr_pipeline_input_node = pipeline_flowchart_window.flowchart.nodes()['PipelineInputDataNode.0']\n",
    "curr_pipeline_input_node.ctrls\n",
    "# {'data_mode': <PyQt5.QtWidgets.QComboBox at 0x20543149550>,\n",
    "#  'reload': <pyqtgraph.widgets.FeedbackButton.FeedbackButton at 0x20543149820>}\n",
    "\n",
    "selected_index = curr_pipeline_input_node.ctrls['data_mode'].currentIndex()\n",
    "selected_item_text = curr_pipeline_input_node.ctrls['data_mode'].itemText(selected_index)  # Get the text at index.\n",
    "print(f'selected_index: {selected_index}, selected_item_text: {selected_item_text}')"
   ]
  },
  {
   "cell_type": "code",
   "execution_count": null,
   "metadata": {
    "collapsed": false,
    "jupyter": {
     "outputs_hidden": false
    },
    "pycharm": {
     "is_executing": false,
     "name": "#%%\n"
    }
   },
   "outputs": [],
   "source": [
    "search_text = 'kdiba'\n",
    "found_desired_index = curr_pipeline_input_node.ctrls['data_mode'].findText(search_text)\n",
    "print(f'search_text: {search_text}, found_desired_index: {found_desired_index}')"
   ]
  },
  {
   "cell_type": "code",
   "execution_count": null,
   "metadata": {
    "collapsed": false,
    "jupyter": {
     "outputs_hidden": false
    },
    "pycharm": {
     "is_executing": false,
     "name": "#%%\n"
    }
   },
   "outputs": [],
   "source": [
    "curr_pipeline_input_node.ctrls['data_mode'].setCurrentIndex(found_desired_index)"
   ]
  },
  {
   "cell_type": "code",
   "execution_count": null,
   "metadata": {
    "collapsed": false,
    "jupyter": {
     "outputs_hidden": false
    },
    "pycharm": {
     "is_executing": false,
     "name": "#%%\n"
    }
   },
   "outputs": [],
   "source": [
    "# curr_node = pipeline_flowchart_nodes['Input']\n",
    "# curr_node = pipeline_flowchart_nodes['PipelineFilteringDataNode.0']\n",
    "# curr_node = pipeline_flowchart_nodes['PipelineComputationsNode.0']\n",
    "\n",
    "curr_computation_node = pipeline_flowchart_window.flowchart.nodes()['PipelineComputationsNode.0']\n",
    "computation_outputs = curr_computation_node.outputs()['computed_pipeline'].value()\n",
    "computation_outputs"
   ]
  },
  {
   "cell_type": "code",
   "execution_count": null,
   "metadata": {
    "collapsed": false,
    "jupyter": {
     "outputs_hidden": false
    },
    "pycharm": {
     "name": "#%%\n"
    }
   },
   "outputs": [],
   "source": [
    "curr_node = pipeline_flowchart_window.flowchart.nodes()['PipelineDisplayNode.0']\n",
    "display_outputs = curr_node.outputs()['display_outputs'].value()\n",
    "\n",
    "# curr_node = pipeline_flowchart_window.flowchart.nodes()['PipelineResultVisNode.0']\n",
    "# display_outputs = curr_node.outputs()['display_outputs'].value()\n",
    "\n",
    "# curr_node.on_add_function = None"
   ]
  },
  {
   "cell_type": "code",
   "execution_count": null,
   "metadata": {
    "collapsed": false,
    "jupyter": {
     "outputs_hidden": false
    },
    "pycharm": {
     "is_executing": false,
     "name": "#%%\n"
    }
   },
   "outputs": [],
   "source": [
    "ipcDataExplorer = display_outputs['ipcDataExplorer']\n",
    "# ipcDataExplorer. \n",
    "\n",
    "ipcDataExplorer._show_all_tuning_curves()"
   ]
  },
  {
   "cell_type": "code",
   "execution_count": null,
   "metadata": {
    "collapsed": false,
    "jupyter": {
     "outputs_hidden": false
    },
    "pycharm": {
     "is_executing": false,
     "name": "#%%\n"
    }
   },
   "outputs": [],
   "source": [
    "curr_group_name = curr_node.name() # 'PipelineResultVisNode.0'\n",
    "curr_node.on_add_function(curr_group_name, viewContentsType=ProducedViewType.Matplotlib)\n",
    "# display_outputs['plotter'].close() # this works to close it\n",
    "\n",
    "\n",
    "\n",
    "\n",
    "# curr_graphics_item = curr_node._graphicsItem\n",
    "# print(f' bounds: {curr_graphics_item.bounds}\\n boundingRect: {curr_graphics_item.boundingRect()}\\n viewRect: {curr_graphics_item.viewRect()}\\n')\n",
    "# curr_graphics_item._determine_minimum_fitting_width()\n",
    "\n",
    "# curr_graphics_item.boundingRect() # PyQt5.QtCore.QRectF(-5.0, -5.0, 110.0, 47.0)\n",
    "# PyQt5.QtCore.QRectF(-5.0, -5.0, 110.0, 47.0)\n",
    "# bounds:  PyQt5.QtCore.QRectF(0.0, 0.0, 200.0, 37.0)\n",
    "# viewRect(): PyQt5.QtCore.QRectF(-73.79232504771767, -159.69831582790422, 1291.1385371488711, 363.01007503425706)"
   ]
  },
  {
   "cell_type": "code",
   "execution_count": null,
   "metadata": {
    "collapsed": false,
    "jupyter": {
     "outputs_hidden": false
    },
    "pycharm": {
     "is_executing": false,
     "name": "#%%\n"
    }
   },
   "outputs": [],
   "source": [
    "curr_check_table.columnNames # ['filter', 'compute']\n",
    "curr_check_table.get_column_values('filter')\n",
    "# curr_graphics_item.terminals \n",
    "\n",
    "curr_check_table.set_value(0,0,True)\n",
    "curr_check_table.saveState()"
   ]
  },
  {
   "cell_type": "code",
   "execution_count": null,
   "metadata": {
    "collapsed": false,
    "jupyter": {
     "outputs_hidden": false
    },
    "pycharm": {
     "is_executing": false,
     "name": "#%%\n"
    }
   },
   "outputs": [],
   "source": [
    "output_node = pipeline_flowchart_window.flowchart_output_node\n",
    "final_output_terminal = output_node.inputs()['dataOut']\n",
    "\n",
    "final_output_terminal.value()"
   ]
  },
  {
   "cell_type": "code",
   "execution_count": null,
   "metadata": {
    "collapsed": false,
    "jupyter": {
     "outputs_hidden": false
    },
    "pycharm": {
     "is_executing": false,
     "name": "#%%\n"
    }
   },
   "outputs": [],
   "source": [
    "output = pipeline_flowchart_window.flowchart.output()\n",
    "final_output_pipeline = output['dataOut']"
   ]
  },
  {
   "cell_type": "code",
   "execution_count": null,
   "metadata": {
    "collapsed": false,
    "jupyter": {
     "outputs_hidden": false
    },
    "pycharm": {
     "is_executing": false,
     "name": "#%%\n"
    }
   },
   "outputs": [],
   "source": [
    "from pyphoplacecellanalysis.GUI.Qt.PlacefieldVisualSelectionControlWidget import PlacefieldVisualSelectionWidget\n"
   ]
  }
 ],
 "metadata": {
  "kernelspec": {
   "display_name": "Python [conda env:phoviz_ultimate]",
   "language": "python",
   "name": "conda-env-phoviz_ultimate-py"
  },
  "language_info": {
   "codemirror_mode": {
    "name": "ipython",
    "version": 3
   },
   "file_extension": ".py",
   "mimetype": "text/x-python",
   "name": "python",
   "nbconvert_exporter": "python",
   "pygments_lexer": "ipython3",
   "version": "3.9.12"
  },
  "pycharm": {
   "stem_cell": {
    "cell_type": "raw",
    "metadata": {
     "collapsed": false
    },
    "source": []
   }
  }
 },
 "nbformat": 4,
 "nbformat_minor": 4
}
