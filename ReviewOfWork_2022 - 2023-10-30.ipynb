{
 "cells": [
  {
   "cell_type": "code",
   "execution_count": null,
   "id": "96ce022a",
   "metadata": {
    "dotnet_interactive": {
     "language": "csharp"
    },
    "notebookRunGroups": {
     "groupValue": "1"
    },
    "polyglot_notebook": {
     "kernelName": "csharp"
    },
    "tags": []
   },
   "outputs": [],
   "source": [
    "%config IPCompleter.use_jedi = False\n",
    "%pdb off\n",
    "# %load_ext viztracer\n",
    "# from viztracer import VizTracer\n",
    "%load_ext autoreload\n",
    "%autoreload 3\n",
    "import sys\n",
    "from typing import Dict, List, Tuple, Optional\n",
    "from pathlib import Path\n",
    "\n",
    "# required to enable non-blocking interaction:\n",
    "%gui qt5\n",
    "\n",
    "from copy import deepcopy\n",
    "from numba import jit\n",
    "import numpy as np\n",
    "import pandas as pd\n",
    "pd.options.mode.chained_assignment = None  # default='warn'\n",
    "# pd.options.mode.dtype_backend = 'pyarrow' # use new pyarrow backend instead of numpy\n",
    "from attrs import define, field, fields, Factory\n",
    "import tables as tb\n",
    "from datetime import datetime, timedelta\n",
    "\n",
    "# Pho's Formatting Preferences\n",
    "from pyphocorehelpers.preferences_helpers import set_pho_preferences, set_pho_preferences_concise, set_pho_preferences_verbose\n",
    "set_pho_preferences_concise()\n",
    "\n",
    "## Pho's Custom Libraries:\n",
    "from pyphocorehelpers.Filesystem.path_helpers import find_first_extant_path\n",
    "from pyphocorehelpers.Filesystem.open_in_system_file_manager import reveal_in_system_file_manager\n",
    "\n",
    "# NeuroPy (Diba Lab Python Repo) Loading\n",
    "# from neuropy import core\n",
    "from neuropy.analyses.placefields import PlacefieldComputationParameters\n",
    "from neuropy.core.epoch import NamedTimerange, Epoch\n",
    "from neuropy.core.ratemap import Ratemap\n",
    "from neuropy.core.session.Formats.BaseDataSessionFormats import DataSessionFormatRegistryHolder\n",
    "from neuropy.core.session.Formats.Specific.KDibaOldDataSessionFormat import KDibaOldDataSessionFormatRegisteredClass\n",
    "from neuropy.utils.matplotlib_helpers import matplotlib_file_only, matplotlib_configuration, matplotlib_configuration_update\n",
    "from neuropy.core.neuron_identities import NeuronIdentityTable, neuronTypesList, neuronTypesEnum\n",
    "from neuropy.utils.mixins.AttrsClassHelpers import AttrsBasedClassHelperMixin, serialized_field, serialized_attribute_field, non_serialized_field, custom_define\n",
    "from neuropy.utils.mixins.HDF5_representable import HDF_DeserializationMixin, post_deserialize, HDF_SerializationMixin, HDFMixin, HDF_Converter\n",
    "\n",
    "## For computation parameters:\n",
    "from neuropy.analyses.placefields import PlacefieldComputationParameters\n",
    "from neuropy.utils.dynamic_container import DynamicContainer\n",
    "from neuropy.utils.result_context import IdentifyingContext\n",
    "from neuropy.core.session.Formats.BaseDataSessionFormats import find_local_session_paths\n",
    "from neuropy.core.neurons import NeuronType\n",
    "from neuropy.core.user_annotations import UserAnnotationsManager\n",
    "from neuropy.core.position import Position\n",
    "from neuropy.core.session.dataSession import DataSession\n",
    "from neuropy.analyses.time_dependent_placefields import PfND_TimeDependent, PlacefieldSnapshot\n",
    "from neuropy.utils.debug_helpers import debug_print_placefield, debug_print_subsession_neuron_differences, debug_print_ratemap, debug_print_spike_counts, debug_plot_2d_binning, print_aligned_columns\n",
    "from neuropy.utils.debug_helpers import parameter_sweeps, _plot_parameter_sweep, compare_placefields_info\n",
    "\n",
    "from pyphocorehelpers.print_helpers import print_object_memory_usage, print_dataframe_memory_usage, print_value_overview_only, DocumentationFilePrinter, print_keys_if_possible, generate_html_string, CapturedException, document_active_variables\n",
    "from pyphocorehelpers.general_helpers import GeneratedClassDefinitionType, CodeConversion, inspect_callable_arguments\n",
    "\n",
    "\n",
    "# pyPhoPlaceCellAnalysis:\n",
    "from pyphoplacecellanalysis.General.Pipeline.NeuropyPipeline import NeuropyPipeline # get_neuron_identities\n",
    "from pyphoplacecellanalysis.General.Mixins.ExportHelpers import export_pyqtgraph_plot\n",
    "from pyphoplacecellanalysis.General.Batch.NonInteractiveProcessing import batch_load_session, batch_extended_computations, batch_extended_programmatic_figures\n",
    "from pyphoplacecellanalysis.General.Pipeline.NeuropyPipeline import PipelineSavingScheme\n",
    "\n",
    "import pyphoplacecellanalysis.External.pyqtgraph as pg\n",
    "\n",
    "from pyphoplacecellanalysis.General.Batch.NonInteractiveProcessing import batch_perform_all_plots\n",
    "from pyphoplacecellanalysis.General.Pipeline.Stages.ComputationFunctions.MultiContextComputationFunctions.LongShortTrackComputations import JonathanFiringRateAnalysisResult\n",
    "from pyphoplacecellanalysis.General.Mixins.CrossComputationComparisonHelpers import _find_any_context_neurons\n",
    "from pyphoplacecellanalysis.General.Batch.runBatch import BatchSessionCompletionHandler # for `post_compute_validate(...)`\n",
    "from pyphoplacecellanalysis.Analysis.Decoder.reconstruction import BasePositionDecoder\n",
    "from pyphoplacecellanalysis.General.Batch.AcrossSessionResults import AcrossSessionsResults\n",
    "from pyphoplacecellanalysis.General.Pipeline.Stages.ComputationFunctions.SpikeAnalysis import SpikeRateTrends # for `_perform_long_short_instantaneous_spike_rate_groups_analysis`\n",
    "from pyphoplacecellanalysis.General.Pipeline.Stages.ComputationFunctions.MultiContextComputationFunctions.LongShortTrackComputations import SingleBarResult, InstantaneousSpikeRateGroupsComputation, TruncationCheckingResults # for `BatchSessionCompletionHandler`, `AcrossSessionsAggregator`\n",
    "from pyphoplacecellanalysis.General.Mixins.CrossComputationComparisonHelpers import SplitPartitionMembership\n",
    "from pyphoplacecellanalysis.General.Pipeline.Stages.ComputationFunctions.MultiContextComputationFunctions.DirectionalPlacefieldGlobalComputationFunctions import DirectionalPlacefieldGlobalComputationFunctions\n",
    "\n",
    "\n",
    "# Plotting\n",
    "# import pylustrator # customization of figures\n",
    "import matplotlib\n",
    "import matplotlib as mpl\n",
    "import matplotlib.pyplot as plt\n",
    "_bak_rcParams = mpl.rcParams.copy()\n",
    "# import pylustrator # call `pylustrator.start()` before creating your first figure in code.\n",
    "from pyphoplacecellanalysis.Pho2D.matplotlib.visualize_heatmap import visualize_heatmap\n",
    "from pyphoplacecellanalysis.Pho2D.matplotlib.visualize_heatmap import visualize_heatmap_pyqtgraph # used in `plot_kourosh_activity_style_figure`\n",
    "from pyphoplacecellanalysis.General.Pipeline.Stages.DisplayFunctions.SpikeRasters import plot_multiple_raster_plot, plot_raster_plot\n",
    "from pyphoplacecellanalysis.General.Mixins.DataSeriesColorHelpers import DataSeriesColorHelpers\n",
    "from pyphoplacecellanalysis.General.Mixins.DataSeriesColorHelpers import UnitColoringMode, DataSeriesColorHelpers\n",
    "from pyphoplacecellanalysis.General.Pipeline.Stages.DisplayFunctions.SpikeRasters import _build_default_tick, build_scatter_plot_kwargs\n",
    "from pyphoplacecellanalysis.GUI.PyQtPlot.Widgets.Mixins.Render2DScrollWindowPlot import Render2DScrollWindowPlotMixin, ScatterItemData\n",
    "from pyphoplacecellanalysis.General.Batch.NonInteractiveProcessing import batch_extended_programmatic_figures, batch_programmatic_figures\n",
    "from pyphoplacecellanalysis.General.Pipeline.Stages.ComputationFunctions.SpikeAnalysis import SpikeRateTrends\n",
    "\n",
    "from pyphoplacecellanalysis.General.Batch.PhoDiba2023Paper import PAPER_FIGURE_figure_1_add_replay_epoch_rasters, PAPER_FIGURE_figure_1_full, PAPER_FIGURE_figure_3, main_complete_figure_generations\n",
    "\n",
    "from pyphoplacecellanalysis.SpecificResults.fourthYearPresentation import *\n",
    "\n",
    "# Jupyter Widget Interactive\n",
    "import ipywidgets as widgets\n",
    "from IPython.display import display, HTML\n",
    "from pyphocorehelpers.Filesystem.open_in_system_file_manager import reveal_in_system_file_manager\n",
    "from pyphoplacecellanalysis.GUI.IPyWidgets.pipeline_ipywidgets import interactive_pipeline_widget, fullwidth_path_widget, interactive_pipeline_files\n",
    "from pyphocorehelpers.gui.Jupyter.simple_widgets import render_colors\n",
    "\n",
    "global_data_root_parent_path = find_first_extant_path([Path(r'W:\\Data'), Path(r'/home/halechr/FastData'), Path(r'/media/MAX/Data'), Path(r'/Volumes/MoverNew/data'), Path(r'/home/halechr/turbo/Data'), Path(r'/home/halechr/cloud/turbo/Data')])\n",
    "assert global_data_root_parent_path.exists(), f\"global_data_root_parent_path: {global_data_root_parent_path} does not exist! Is the right computer's config commented out above?\""
   ]
  },
  {
   "cell_type": "markdown",
   "id": "a1538e2a-4e39-4d11-90b5-a9fef9258058",
   "metadata": {
    "tags": [
     "REQUIRED",
     "ACTIVE"
    ]
   },
   "source": [
    "# Load Pipeline"
   ]
  },
  {
   "cell_type": "code",
   "execution_count": null,
   "id": "0898448c",
   "metadata": {
    "notebookRunGroups": {
     "groupValue": "1"
    }
   },
   "outputs": [],
   "source": [
    "# ==================================================================================================================== #\n",
    "# Load Data                                                                                                            #\n",
    "# ==================================================================================================================== #\n",
    "\n",
    "active_data_mode_name = 'kdiba'\n",
    "local_session_root_parent_context = IdentifyingContext(format_name=active_data_mode_name) # , animal_name='', configuration_name='one', session_name=a_sess.session_name\n",
    "local_session_root_parent_path = global_data_root_parent_path.joinpath('KDIBA')\n",
    "\n",
    "# [*] - indicates bad or session with a problem\n",
    "# 0, 1, 2, 3, 4, 5, 6, 7, [8], [9], 10, 11, [12], 13, 14, [15], [16], 17, \n",
    "# curr_context: IdentifyingContext = good_contexts_list[1] # select the session from all of the good sessions here.\n",
    "curr_context = IdentifyingContext(format_name='kdiba',animal='gor01',exper_name='one',session_name='2006-6-08_14-26-15') # DONE. Very good. Many good Pfs, many good replays.\n",
    "# curr_context = IdentifyingContext(format_name='kdiba',animal='gor01',exper_name='one',session_name='2006-6-09_1-22-43') # DONE, might be the BEST SESSION, good example session with lots of place cells, clean replays, and clear bar graphs.\n",
    "# curr_context = IdentifyingContext(format_name='kdiba',animal='gor01',exper_name='one',session_name='2006-6-12_15-55-31') # DONE, Good Pfs but no good replays\n",
    "# curr_context = IdentifyingContext(format_name='kdiba',animal='gor01',exper_name='one',session_name='2006-6-13_14-42-6') # BAD, 2023-07-14, unsure why still.\n",
    "# curr_context = IdentifyingContext(format_name='kdiba',animal='gor01',exper_name='two',session_name='2006-6-07_16-40-19') # DONE, GREAT, both good Pfs and replays!\n",
    "# curr_context = IdentifyingContext(format_name='kdiba',animal='gor01',exper_name='two',session_name='2006-6-08_21-16-25') # DONE, Added replay selections. Very \"jumpy\" between the starts and ends of the track.\n",
    "# curr_context = IdentifyingContext(format_name='kdiba',animal='gor01',exper_name='two',session_name='2006-6-09_22-24-40') # DONE, Added replay selections. A TON of putative replays in general, most bad, but some good.\n",
    "# curr_context = IdentifyingContext(format_name='kdiba',animal='gor01',exper_name='two',session_name='2006-6-12_16-53-46') # DONE, added replay selections. Very few (like 12) replays each.\n",
    "# curr_context = IdentifyingContext(format_name='kdiba',animal='gor01',exper_name='two',session_name='2006-6-13_15-22-3') # DONE, Good Pfs, no good epochs.\n",
    "# curr_context = IdentifyingContext(format_name='kdiba',animal='vvp01',exper_name='one',session_name='2006-4-09_17-29-30') # DONE, okay replays (selected)\n",
    "# curr_context = IdentifyingContext(format_name='kdiba',animal='vvp01',exper_name='one',session_name='2006-4-10_12-25-50') # DONE, very few replays (selected)\n",
    "# curr_context = IdentifyingContext(format_name='kdiba',animal='vvp01',exper_name='one',session_name='2006-4-19_13-34-40') # BAD\n",
    "# curr_context = IdentifyingContext(format_name='kdiba',animal='vvp01',exper_name='two',session_name='2006-4-09_16-40-54') # DONE, one replay each (selected)\n",
    "# curr_context = IdentifyingContext(format_name='kdiba',animal='vvp01',exper_name='two',session_name='2006-4-10_12-58-3') # BAD, Good Pfs strangely despite horrible map, no good epochs\n",
    "# curr_context = IdentifyingContext(format_name='kdiba',animal='vvp01',exper_name='two',session_name='2006-4-12_15-25-59') # BAD, No Epochs\n",
    "# curr_context = IdentifyingContext(format_name='kdiba',animal='vvp01',exper_name='two',session_name='2006-4-16_18-47-52')\n",
    "# curr_context = IdentifyingContext(format_name='kdiba',animal='vvp01',exper_name='two',session_name='2006-4-17_12-52-15')\n",
    "# curr_context = IdentifyingContext(format_name='kdiba',animal='vvp01',exper_name='two',session_name='2006-4-25_13-20-55')\n",
    "# curr_context = IdentifyingContext(format_name='kdiba',animal='vvp01',exper_name='two',session_name='2006-4-28_12-38-13')\n",
    "# curr_context = IdentifyingContext(format_name='kdiba',animal='pin01',exper_name='one',session_name='11-02_17-46-44') # DONE, good. Many good pfs, many good replays. Noticed very strange jumping off the track in the 3D behavior/spikes viewer. Is there something wrong with this session?\n",
    "# curr_context = IdentifyingContext(format_name='kdiba',animal='pin01',exper_name='one',session_name='11-02_19-28-0') # DONE, good?, replays selected, few\n",
    "# curr_context = IdentifyingContext(format_name='kdiba',animal='pin01',exper_name='one',session_name='11-03_12-3-25') # DONE, very few replays\n",
    "# curr_context = IdentifyingContext(format_name='kdiba',animal='pin01',exper_name='one',session_name='11-09_12-15-3')\n",
    "# curr_context = IdentifyingContext(format_name='kdiba',animal='pin01',exper_name='one',session_name='11-09_22-4-5')\n",
    "# curr_context = IdentifyingContext(format_name='kdiba',animal='pin01',exper_name='one',session_name='fet11-01_12-58-54') # DONE, replays selected, quite a few replays but few are very good.\n",
    "\n",
    "\n",
    "# curr_context = IdentifyingContext(format_name='kdiba',animal='gor01',exper_name='two',session_name='2006-6-08_21-16-25')\n",
    "\n",
    "local_session_parent_path: Path = local_session_root_parent_path.joinpath(curr_context.animal, curr_context.exper_name) # 'gor01', 'one' - probably not needed anymore\n",
    "basedir: Path = local_session_parent_path.joinpath(curr_context.session_name).resolve()\n",
    "print(f'basedir: {str(basedir)}')\n",
    "\n",
    "# Read if possible:\n",
    "saving_mode = PipelineSavingScheme.SKIP_SAVING\n",
    "force_reload = False\n",
    "\n",
    "# # Force write:\n",
    "# saving_mode = PipelineSavingScheme.TEMP_THEN_OVERWRITE\n",
    "# saving_mode = PipelineSavingScheme.OVERWRITE_IN_PLACE\n",
    "# force_reload = True\n",
    "\n",
    "## TODO: if loading is not possible, we need to change the `saving_mode` so that the new results are properly saved.\n",
    "\n",
    "# ==================================================================================================================== #\n",
    "# Load Pipeline                                                                                                        #\n",
    "# ==================================================================================================================== #\n",
    "# with VizTracer(output_file=f\"viztracer_{get_now_time_str()}-full_session_LOO_decoding_analysis.json\", min_duration=200, tracer_entries=3000000, ignore_frozen=True) as tracer:\n",
    "# epoch_name_includelist = ['maze']\n",
    "epoch_name_includelist = None\n",
    "active_computation_functions_name_includelist=['pf_computation',\n",
    "                                               'pfdt_computation', \n",
    "                                                'firing_rate_trends',\n",
    "                                                # 'pf_dt_sequential_surprise', \n",
    "                                            #    'ratemap_peaks_prominence2d',\n",
    "                                                'position_decoding', \n",
    "                                                # 'position_decoding_two_step', \n",
    "                                            #    'long_short_decoding_analyses', 'jonathan_firing_rate_analysis', 'long_short_fr_indicies_analyses', 'short_long_pf_overlap_analyses', 'long_short_post_decoding', 'long_short_rate_remapping',\n",
    "                                            #     'long_short_inst_spike_rate_groups',\n",
    "                                            #     'long_short_endcap_analysis',\n",
    "                                            # 'split_to_directional_laps',\n",
    "]\n",
    "\n",
    "curr_active_pipeline: NeuropyPipeline = batch_load_session(global_data_root_parent_path, active_data_mode_name, basedir, epoch_name_includelist=epoch_name_includelist,\n",
    "                                        computation_functions_name_includelist=active_computation_functions_name_includelist,\n",
    "                                        saving_mode=saving_mode, force_reload=force_reload,\n",
    "                                        skip_extended_batch_computations=True, debug_print=False, fail_on_exception=True) # , active_pickle_filename = 'loadedSessPickle_withParameters.pkl'\n",
    "\n",
    "\n",
    "## Post Compute Validate 2023-05-16:\n",
    "was_updated = BatchSessionCompletionHandler.post_compute_validate(curr_active_pipeline) ## TODO: need to potentially re-save if was_updated. This will fail because constained versions not ran yet.\n",
    "if was_updated:\n",
    "    print(f'was_updated: {was_updated}')\n",
    "    try:\n",
    "        curr_active_pipeline.save_pipeline(saving_mode=saving_mode)\n",
    "    except Exception as e:\n",
    "        ## TODO: catch/log saving error and indicate that it isn't saved.\n",
    "        exception_info = sys.exc_info()\n",
    "        e = CapturedException(e, exception_info)\n",
    "        print(f'ERROR RE-SAVING PIPELINE after update. error: {e}')\n"
   ]
  },
  {
   "cell_type": "code",
   "execution_count": null,
   "id": "b7ddabf5",
   "metadata": {
    "notebookRunGroups": {
     "groupValue": "1"
    }
   },
   "outputs": [],
   "source": [
    "### GLOBAL COMPUTATIONS:\n",
    "\n",
    "if not force_reload: # not just force_reload, needs to recompute whenever the computation fails.\n",
    "    try:\n",
    "        curr_active_pipeline.load_pickled_global_computation_results()\n",
    "    except Exception as e:\n",
    "        exception_info = sys.exc_info()\n",
    "        e = CapturedException(e, exception_info)\n",
    "        print(f'cannot load global results: {e}')\n",
    "        raise\n",
    "\n",
    "curr_active_pipeline.reload_default_computation_functions()\n",
    "\n",
    "extended_computations_include_includelist=['pf_computation', 'pfdt_computation', 'firing_rate_trends',\n",
    "    # 'pf_dt_sequential_surprise',\n",
    "    #  'ratemap_peaks_prominence2d',\n",
    "    'long_short_decoding_analyses', 'jonathan_firing_rate_analysis', 'long_short_fr_indicies_analyses', 'short_long_pf_overlap_analyses', 'long_short_post_decoding',\n",
    "\t 'long_short_rate_remapping',\n",
    "    'long_short_inst_spike_rate_groups',\n",
    "    'long_short_endcap_analysis',\n",
    "    # 'spike_burst_detection',\n",
    "    # 'split_to_directional_laps'\n",
    "] # do only specified\n",
    "\n",
    "force_recompute_global = force_reload\n",
    "# force_recompute_global = True\n",
    "newly_computed_values = batch_extended_computations(curr_active_pipeline, include_includelist=extended_computations_include_includelist, include_global_functions=True, fail_on_exception=False, progress_print=True, force_recompute=force_recompute_global, debug_print=False)\n",
    "if (len(newly_computed_values) > 0):\n",
    "    print(f'newly_computed_values: {newly_computed_values}.')\n",
    "    if (saving_mode.value != 'skip_saving'):\n",
    "        print(f'Saving global results...')\n",
    "        try:\n",
    "            # curr_active_pipeline.global_computation_results.persist_time = datetime.now()\n",
    "            # Try to write out the global computation function results:\n",
    "            curr_active_pipeline.save_global_computation_results()\n",
    "        except Exception as e:\n",
    "            exception_info = sys.exc_info()\n",
    "            e = CapturedException(e, exception_info)\n",
    "            print(f'\\n\\n!!WARNING!!: saving the global results threw the exception: {e}')\n",
    "            print(f'\\tthe global results are currently unsaved! proceed with caution and save as soon as you can!\\n\\n\\n')\n",
    "    else:\n",
    "        print(f'\\n\\n!!WARNING!!: changes to global results have been made but they will not be saved since saving_mode.value == \"skip_saving\"')\n",
    "        print(f'\\tthe global results are currently unsaved! proceed with caution and save as soon as you can!\\n\\n\\n')\n",
    "else:\n",
    "    print(f'no changes in global results.')\n",
    "\n",
    "# except Exception as e:\n",
    "#     exception_info = sys.exc_info()\n",
    "#     e = CapturedException(e, exception_info)\n",
    "#     print(f'second half threw: {e}')\n",
    "\n",
    "\n",
    "# 4m 5.2s for inst fr computations\n",
    "# Jupyter Widget Interactive\n",
    "import ipywidgets as widgets\n",
    "from IPython.display import display\n",
    "from pyphocorehelpers.Filesystem.open_in_system_file_manager import reveal_in_system_file_manager\n",
    "from pyphoplacecellanalysis.GUI.IPyWidgets.pipeline_ipywidgets import interactive_pipeline_widget, fullwidth_path_widget, interactive_pipeline_files\n",
    "\n",
    "_pipeline_jupyter_widget = interactive_pipeline_widget(curr_active_pipeline=curr_active_pipeline)\n",
    "# display(_pipeline_jupyter_widget)\n",
    "_pipeline_jupyter_widget"
   ]
  },
  {
   "cell_type": "code",
   "execution_count": null,
   "id": "36b90aad",
   "metadata": {
    "tags": [
     "SAVE"
    ]
   },
   "outputs": [],
   "source": [
    "if curr_active_pipeline.updated_since_last_pickle:\n",
    "\t_bak_saving_mode = saving_mode\n",
    "\n",
    "saving_mode = PipelineSavingScheme.TEMP_THEN_OVERWRITE\n",
    "try:\n",
    "\tcurr_active_pipeline.save_pipeline(saving_mode=saving_mode)\n",
    "\tcurr_active_pipeline.save_global_computation_results()\n",
    "\n",
    "except Exception as e:\n",
    "\t## TODO: catch/log saving error and indicate that it isn't saved.\n",
    "\texception_info = sys.exc_info()\n",
    "\te = CapturedException(e, exception_info)\n",
    "\tprint(f'ERROR RE-SAVING PIPELINE after update. error: {e}')\n",
    "finally:\n",
    "\tsaving_mode = _bak_saving_mode\n"
   ]
  },
  {
   "cell_type": "markdown",
   "id": "c850782f",
   "metadata": {},
   "source": [
    "# End Run"
   ]
  },
  {
   "cell_type": "code",
   "execution_count": null,
   "id": "87dc7ae9",
   "metadata": {
    "notebookRunGroups": {
     "groupValue": "1"
    }
   },
   "outputs": [],
   "source": [
    "# (long_one_step_decoder_1D, short_one_step_decoder_1D), (long_one_step_decoder_2D, short_one_step_decoder_2D) = compute_short_long_constrained_decoders(curr_active_pipeline, recalculate_anyway=True)\n",
    "long_epoch_name, short_epoch_name, global_epoch_name = curr_active_pipeline.find_LongShortGlobal_epoch_names()\n",
    "long_epoch_context, short_epoch_context, global_epoch_context = [curr_active_pipeline.filtered_contexts[a_name] for a_name in (long_epoch_name, short_epoch_name, global_epoch_name)]\n",
    "long_epoch_obj, short_epoch_obj = [Epoch(curr_active_pipeline.sess.epochs.to_dataframe().epochs.label_slice(an_epoch_name)) for an_epoch_name in [long_epoch_name, short_epoch_name]]\n",
    "long_session, short_session, global_session = [curr_active_pipeline.filtered_sessions[an_epoch_name] for an_epoch_name in [long_epoch_name, short_epoch_name, global_epoch_name]]\n",
    "long_results, short_results, global_results = [curr_active_pipeline.computation_results[an_epoch_name]['computed_data'] for an_epoch_name in [long_epoch_name, short_epoch_name, global_epoch_name]]\n",
    "long_computation_config, short_computation_config, global_computation_config = [curr_active_pipeline.computation_results[an_epoch_name]['computation_config'] for an_epoch_name in [long_epoch_name, short_epoch_name, global_epoch_name]]\n",
    "long_pf1D, short_pf1D, global_pf1D = long_results.pf1D, short_results.pf1D, global_results.pf1D\n",
    "long_pf2D, short_pf2D, global_pf2D = long_results.pf2D, short_results.pf2D, global_results.pf2D"
   ]
  },
  {
   "cell_type": "code",
   "execution_count": null,
   "id": "a45ff559",
   "metadata": {
    "notebookRunGroups": {
     "groupValue": "1"
    }
   },
   "outputs": [],
   "source": [
    "## long_short_decoding_analyses:\n",
    "curr_long_short_decoding_analyses = curr_active_pipeline.global_computation_results.computed_data['long_short_leave_one_out_decoding_analysis']\n",
    "long_one_step_decoder_1D, short_one_step_decoder_1D, long_replays, short_replays, global_replays, long_shared_aclus_only_decoder, short_shared_aclus_only_decoder, shared_aclus, long_short_pf_neurons_diff, n_neurons, long_results_obj, short_results_obj, is_global = curr_long_short_decoding_analyses.long_decoder, curr_long_short_decoding_analyses.short_decoder, curr_long_short_decoding_analyses.long_replays, curr_long_short_decoding_analyses.short_replays, curr_long_short_decoding_analyses.global_replays, curr_long_short_decoding_analyses.long_shared_aclus_only_decoder, curr_long_short_decoding_analyses.short_shared_aclus_only_decoder, curr_long_short_decoding_analyses.shared_aclus, curr_long_short_decoding_analyses.long_short_pf_neurons_diff, curr_long_short_decoding_analyses.n_neurons, curr_long_short_decoding_analyses.long_results_obj, curr_long_short_decoding_analyses.short_results_obj, curr_long_short_decoding_analyses.is_global \n",
    "decoding_time_bin_size = long_one_step_decoder_1D.time_bin_size # 1.0/30.0 # 0.03333333333333333\n",
    "\n",
    "## Get global `long_short_fr_indicies_analysis`:\n",
    "long_short_fr_indicies_analysis_results = curr_active_pipeline.global_computation_results.computed_data['long_short_fr_indicies_analysis']\n",
    "long_laps, long_replays, short_laps, short_replays, global_laps, global_replays = [long_short_fr_indicies_analysis_results[k] for k in ['long_laps', 'long_replays', 'short_laps', 'short_replays', 'global_laps', 'global_replays']]\n",
    "long_short_fr_indicies_df = long_short_fr_indicies_analysis_results['long_short_fr_indicies_df']\n",
    "\n",
    "## Get global 'long_short_post_decoding' results:\n",
    "curr_long_short_post_decoding = curr_active_pipeline.global_computation_results.computed_data['long_short_post_decoding']\n",
    "expected_v_observed_result, curr_long_short_rr = curr_long_short_post_decoding.expected_v_observed_result, curr_long_short_post_decoding.rate_remapping\n",
    "rate_remapping_df, high_remapping_cells_only = curr_long_short_rr.rr_df, curr_long_short_rr.high_only_rr_df\n",
    "Flat_epoch_time_bins_mean, Flat_decoder_time_bin_centers, num_neurons, num_timebins_in_epoch, num_total_flat_timebins, is_short_track_epoch, is_long_track_epoch, short_short_diff, long_long_diff = expected_v_observed_result.Flat_epoch_time_bins_mean, expected_v_observed_result.Flat_decoder_time_bin_centers, expected_v_observed_result.num_neurons, expected_v_observed_result.num_timebins_in_epoch, expected_v_observed_result.num_total_flat_timebins, expected_v_observed_result.is_short_track_epoch, expected_v_observed_result.is_long_track_epoch, expected_v_observed_result.short_short_diff, expected_v_observed_result.long_long_diff\n",
    "\n",
    "jonathan_firing_rate_analysis_result: JonathanFiringRateAnalysisResult = curr_active_pipeline.global_computation_results.computed_data.jonathan_firing_rate_analysis\n",
    "(epochs_df_L, epochs_df_S), (filter_epoch_spikes_df_L, filter_epoch_spikes_df_S), (good_example_epoch_indicies_L, good_example_epoch_indicies_S), (short_exclusive, long_exclusive, BOTH_subset, EITHER_subset, XOR_subset, NEITHER_subset), new_all_aclus_sort_indicies, assigning_epochs_obj = PAPER_FIGURE_figure_1_add_replay_epoch_rasters(curr_active_pipeline)\n",
    "neuron_replay_stats_df, short_exclusive, long_exclusive, BOTH_subset, EITHER_subset, XOR_subset, NEITHER_subset = jonathan_firing_rate_analysis_result.get_cell_track_partitions(frs_index_inclusion_magnitude=0.05)\n",
    "\n",
    "## Update long_exclusive/short_exclusive properties with `long_short_fr_indicies_df`\n",
    "# long_exclusive.refine_exclusivity_by_inst_frs_index(long_short_fr_indicies_df, frs_index_inclusion_magnitude=0.5)\n",
    "# short_exclusive.refine_exclusivity_by_inst_frs_index(long_short_fr_indicies_df, frs_index_inclusion_magnitude=0.5)\n"
   ]
  },
  {
   "cell_type": "code",
   "execution_count": null,
   "id": "fb1cc2c4",
   "metadata": {},
   "outputs": [],
   "source": [
    "curr_active_pipeline.active_config_names # ['maze1', 'maze2', 'maze', 'maze_odd', 'maze_even', 'maze_any']\n",
    "# curr_active_pipeline.active_configs"
   ]
  },
  {
   "cell_type": "code",
   "execution_count": null,
   "id": "50e13129",
   "metadata": {},
   "outputs": [],
   "source": [
    "curr_active_pipeline.active_incomplete_computation_result_status_dicts\n",
    "curr_active_pipeline.filtered_session_names"
   ]
  },
  {
   "cell_type": "code",
   "execution_count": null,
   "id": "73a6a1f6",
   "metadata": {},
   "outputs": [],
   "source": [
    "long_epoch_name, short_epoch_name, global_epoch_name = curr_active_pipeline.find_LongShortGlobal_epoch_names()\n",
    "global_epoch_name"
   ]
  },
  {
   "cell_type": "code",
   "execution_count": null,
   "id": "c99ca98a",
   "metadata": {},
   "outputs": [],
   "source": [
    "long_odd_laps_obj"
   ]
  },
  {
   "cell_type": "code",
   "execution_count": null,
   "id": "9c490235",
   "metadata": {},
   "outputs": [],
   "source": [
    "long_even_laps_obj"
   ]
  },
  {
   "cell_type": "code",
   "execution_count": null,
   "id": "97481eb3",
   "metadata": {},
   "outputs": [],
   "source": [
    "debug_print_placefield, debug_print_subsession_neuron_differences, debug_print_ratemap, debug_print_spike_counts"
   ]
  },
  {
   "cell_type": "code",
   "execution_count": null,
   "id": "65c55a01",
   "metadata": {},
   "outputs": [],
   "source": [
    "long_odd_laps_computation_config.pf_params.computation_epochs"
   ]
  },
  {
   "cell_type": "code",
   "execution_count": null,
   "id": "2545b812",
   "metadata": {},
   "outputs": [],
   "source": [
    "long_even_laps_computation_config.pf_params.computation_epochs"
   ]
  },
  {
   "cell_type": "code",
   "execution_count": null,
   "id": "db0a6849",
   "metadata": {},
   "outputs": [],
   "source": [
    "debug_print_placefield(long_odd_laps_pf1D)"
   ]
  },
  {
   "cell_type": "code",
   "execution_count": null,
   "id": "1aa66951",
   "metadata": {},
   "outputs": [],
   "source": [
    "debug_print_placefield(long_even_laps_pf1D)"
   ]
  },
  {
   "cell_type": "code",
   "execution_count": null,
   "id": "d6ba572f",
   "metadata": {},
   "outputs": [],
   "source": [
    "filtered_contexts = curr_active_pipeline.filtered_contexts\n",
    "filtered_contexts"
   ]
  },
  {
   "cell_type": "code",
   "execution_count": null,
   "id": "539fdbfc",
   "metadata": {},
   "outputs": [],
   "source": [
    "curr_active_pipeline.save_global_computation_results()\n"
   ]
  },
  {
   "cell_type": "markdown",
   "id": "8f801dd2",
   "metadata": {},
   "source": [
    "## 🟢 2023-10-25 - Recomputing Directional Laps:"
   ]
  },
  {
   "cell_type": "code",
   "execution_count": null,
   "id": "2b236bc7",
   "metadata": {},
   "outputs": [],
   "source": [
    "from pyphoplacecellanalysis.General.Pipeline.Stages.ComputationFunctions.MultiContextComputationFunctions.DirectionalPlacefieldGlobalComputationFunctions import DirectionalLapsHelpers\n",
    "\n",
    "directional_laps_result = DirectionalLapsHelpers.complete_directional_pfs_computations(curr_active_pipeline)\n",
    "\n",
    "# Set the global result:\n",
    "curr_active_pipeline.global_computation_results.computed_data['DirectionalLaps'] = directional_laps_result"
   ]
  },
  {
   "cell_type": "markdown",
   "id": "1454c9fe",
   "metadata": {},
   "source": [
    "### 2023-10-26 - Extract Directional Laps Outputs and computed items:"
   ]
  },
  {
   "cell_type": "code",
   "execution_count": null,
   "id": "4be18691",
   "metadata": {},
   "outputs": [],
   "source": [
    "# Recover from the saved global result:\n",
    "# Unpacking:\n",
    "directional_laps_results = curr_active_pipeline.global_computation_results.computed_data['DirectionalLaps']\n",
    "# directional_lap_specific_configs, split_directional_laps_dict, split_directional_laps_config_names, computed_base_epoch_names = [directional_laps_results[k] for k in ['directional_lap_specific_configs', 'split_directional_laps_dict', 'split_directional_laps_names', 'computed_base_epoch_names']]\n",
    "directional_lap_specific_configs, split_directional_laps_dict, split_directional_laps_contexts_dict, split_directional_laps_config_names, computed_base_epoch_names = [directional_laps_results.__dict__[k] for k in ['directional_lap_specific_configs', 'split_directional_laps_dict', 'split_directional_laps_contexts_dict', 'split_directional_laps_config_names', 'computed_base_epoch_names']]\n",
    "long_odd_shared_aclus_only_one_step_decoder_1D, long_even_shared_aclus_only_one_step_decoder_1D, short_odd_shared_aclus_only_one_step_decoder_1D, short_even_shared_aclus_only_one_step_decoder_1D = [directional_laps_results.__dict__[k] for k in ['long_odd_shared_aclus_only_one_step_decoder_1D', 'long_even_shared_aclus_only_one_step_decoder_1D', 'short_odd_shared_aclus_only_one_step_decoder_1D', 'short_even_shared_aclus_only_one_step_decoder_1D']]\n",
    "long_odd_laps_obj, long_even_laps_obj, short_odd_laps_obj, short_even_laps_obj = list(directional_laps_results.split_directional_laps_dict.values())\n",
    "\n",
    "# print(list(directional_laps_results.__dict__.keys()))\n",
    "# ['directional_lap_specific_configs', 'split_directional_laps_dict', 'split_directional_laps_contexts_dict', 'split_directional_laps_config_names', 'computed_base_epoch_names', 'long_odd_shared_aclus_only_one_step_decoder_1D', 'long_even_shared_aclus_only_one_step_decoder_1D', 'short_odd_shared_aclus_only_one_step_decoder_1D', 'short_even_shared_aclus_only_one_step_decoder_1D']\n",
    "\n",
    "\n",
    "# split_directional_laps_config_names"
   ]
  },
  {
   "cell_type": "code",
   "execution_count": null,
   "id": "9e62970c",
   "metadata": {},
   "outputs": [],
   "source": [
    "\n",
    "long_odd_laps_obj, long_even_laps_obj, short_odd_laps_obj, short_even_laps_obj = list(directional_laps_results.split_directional_laps_dict.values())\n",
    "long_odd_laps_obj"
   ]
  },
  {
   "cell_type": "code",
   "execution_count": null,
   "id": "95d551ad",
   "metadata": {
    "notebookRunGroups": {
     "groupValue": "2"
    }
   },
   "outputs": [],
   "source": [
    "from pyphoplacecellanalysis.General.Pipeline.Stages.ComputationFunctions.MultiContextComputationFunctions.DirectionalPlacefieldGlobalComputationFunctions import DirectionalLapsHelpers\n",
    "from pyphoplacecellanalysis.Analysis.Decoder.reconstruction import BasePositionDecoder\n",
    "\n",
    "long_epoch_name, short_epoch_name, global_epoch_name = curr_active_pipeline.find_LongShortGlobal_epoch_names()\n",
    "odd_laps_suffix, even_laps_suffix = DirectionalLapsHelpers.split_directional_laps_name_parts\n",
    "\n",
    "long_odd_laps_name, long_even_laps_name = [f'{long_epoch_name}_{a_suffix}' for a_suffix in (odd_laps_suffix, even_laps_suffix)]\n",
    "short_odd_laps_name, short_even_laps_name = [f'{short_epoch_name}_{a_suffix}' for a_suffix in (odd_laps_suffix, even_laps_suffix)]\n",
    "\n",
    "print(long_odd_laps_name, long_even_laps_name, short_odd_laps_name, short_even_laps_name) # ('maze1_odd_laps', 'maze1_even_laps', 'maze2_odd_laps', 'maze2_even_laps')\n",
    "\n",
    "# Unpacking for non-direction specific epochs (to get the replays, etc):\n",
    "long_session, short_session, global_session = [curr_active_pipeline.filtered_sessions[an_epoch_name] for an_epoch_name in [long_epoch_name, short_epoch_name, global_epoch_name]]\n",
    "long_replays, short_replays, global_replays = [a_session.replay for a_session in [long_session, short_session, global_session]]\n",
    "\n",
    "# Unpacking for `(long_odd_laps_name, long_even_laps_name, short_odd_laps_name, short_even_laps_name)`\n",
    "(long_odd_laps_context, long_even_laps_context, short_odd_laps_context, short_even_laps_context) = [curr_active_pipeline.filtered_contexts[a_name] for a_name in (long_odd_laps_name, long_even_laps_name, short_odd_laps_name, short_even_laps_name)]\n",
    "long_odd_laps_obj, long_even_laps_obj, short_odd_laps_obj, short_even_laps_obj = list(directional_laps_results.split_directional_laps_dict.values())\n",
    "(long_odd_laps_session, long_even_laps_session, short_odd_laps_session, short_even_laps_session) = [curr_active_pipeline.filtered_sessions[an_epoch_name] for an_epoch_name in (long_odd_laps_name, long_even_laps_name, short_odd_laps_name, short_even_laps_name)]\n",
    "(long_odd_laps_results, long_even_laps_results, short_odd_laps_results, short_even_laps_results) = [curr_active_pipeline.computation_results[an_epoch_name]['computed_data'] for an_epoch_name in (long_odd_laps_name, long_even_laps_name, short_odd_laps_name, short_even_laps_name)]\n",
    "(long_odd_laps_computation_config, long_even_laps_computation_config, short_odd_laps_computation_config, short_even_laps_computation_config) = [curr_active_pipeline.computation_results[an_epoch_name]['computation_config'] for an_epoch_name in (long_odd_laps_name, long_even_laps_name, short_odd_laps_name, short_even_laps_name)]\n",
    "(long_odd_laps_pf1D, long_even_laps_pf1D, short_odd_laps_pf1D, short_even_laps_pf1D) = (long_odd_laps_results.pf1D, long_even_laps_results.pf1D, short_odd_laps_results.pf1D, short_even_laps_results.pf1D)\n",
    "(long_odd_laps_pf2D, long_even_laps_pf2D, short_odd_laps_pf2D, short_even_laps_pf2D) = (long_odd_laps_results.pf2D, long_even_laps_results.pf2D, short_odd_laps_results.pf2D, short_even_laps_results.pf2D)\n",
    "\n",
    "# Validate:\n",
    "assert not (curr_active_pipeline.computation_results[long_odd_laps_name]['computation_config']['pf_params'].computation_epochs is curr_active_pipeline.computation_results[long_even_laps_name]['computation_config']['pf_params'].computation_epochs)\n",
    "assert not (curr_active_pipeline.computation_results[short_odd_laps_name]['computation_config']['pf_params'].computation_epochs is curr_active_pipeline.computation_results[long_even_laps_name]['computation_config']['pf_params'].computation_epochs)\n"
   ]
  },
  {
   "cell_type": "code",
   "execution_count": null,
   "id": "3230b3a6",
   "metadata": {},
   "outputs": [],
   "source": [
    "long_odd_laps_name\n"
   ]
  },
  {
   "cell_type": "code",
   "execution_count": null,
   "id": "e46373fc",
   "metadata": {},
   "outputs": [],
   "source": [
    "long_even_laps_name"
   ]
  },
  {
   "cell_type": "code",
   "execution_count": null,
   "id": "3101503a",
   "metadata": {},
   "outputs": [],
   "source": [
    "long_odd_laps_obj"
   ]
  },
  {
   "cell_type": "code",
   "execution_count": null,
   "id": "37ab5754",
   "metadata": {},
   "outputs": [],
   "source": [
    "from attrs import asdict, astuple\n",
    "\n",
    "\n",
    "# build the four `*_shared_aclus_only_one_step_decoder_1D` versions of the decoders constrained only to common aclus:\n",
    "long_odd_shared_aclus_only_one_step_decoder_1D, long_even_shared_aclus_only_one_step_decoder_1D, short_odd_shared_aclus_only_one_step_decoder_1D, short_even_shared_aclus_only_one_step_decoder_1D  = DirectionalLapsHelpers.build_directional_constrained_decoders(curr_active_pipeline)\n",
    "\n"
   ]
  },
  {
   "cell_type": "code",
   "execution_count": null,
   "id": "ede69d53",
   "metadata": {},
   "outputs": [],
   "source": [
    "## STACK-of-DA-Raster:\n",
    "from pyphoplacecellanalysis.General.Pipeline.Stages.DisplayFunctions.SpikeRasters import plot_multiple_raster_plot\n",
    "\n",
    "\n",
    "\n"
   ]
  },
  {
   "cell_type": "code",
   "execution_count": null,
   "id": "2434d7ef",
   "metadata": {},
   "outputs": [],
   "source": [
    "curr_active_pipeline.display('_display_1d_placefields', 'maze1_odd_laps')"
   ]
  },
  {
   "cell_type": "code",
   "execution_count": null,
   "id": "8b381f58",
   "metadata": {},
   "outputs": [],
   "source": [
    "curr_active_pipeline.display('_display_1d_placefields', 'maze1_even_laps')"
   ]
  },
  {
   "cell_type": "code",
   "execution_count": null,
   "id": "312cd9b2",
   "metadata": {},
   "outputs": [],
   "source": []
  },
  {
   "cell_type": "markdown",
   "id": "c5ee7b51",
   "metadata": {},
   "source": [
    "### 2023-10-26 - Purging bad directional results"
   ]
  },
  {
   "cell_type": "code",
   "execution_count": null,
   "id": "35b24632",
   "metadata": {},
   "outputs": [],
   "source": [
    "from pyphoplacecellanalysis.General.Pipeline.Stages.ComputationFunctions.MultiContextComputationFunctions.DirectionalPlacefieldGlobalComputationFunctions import DirectionalPlacefieldGlobalComputationFunctions\n",
    "\n",
    "# curr_active_pipeline.perform_drop_entire_computed_config(config_names_to_drop=['maze1_odd_laps', 'maze1_even_laps', 'maze2_odd_laps', 'maze2_even_laps'])\n",
    "\n",
    "curr_active_pipeline.perform_drop_entire_computed_config(config_names_to_drop=['maze_odd_laps', 'maze_even_laps', 'maze1_odd_laps', 'maze1_even_laps', 'maze2_odd_laps', 'maze2_even_laps', 'maze1_odd_laps_odd_laps', 'maze1_odd_laps_even_laps', 'maze1_even_laps_odd_laps', 'maze1_even_laps_even_laps', 'maze2_odd_laps_odd_laps', 'maze2_odd_laps_even_laps', 'maze2_even_laps_odd_laps', 'maze2_even_laps_even_laps'])\n",
    "\n",
    "del curr_active_pipeline.global_computation_results.computed_data['DirectionalLaps']"
   ]
  },
  {
   "cell_type": "code",
   "execution_count": null,
   "id": "019bdf30",
   "metadata": {},
   "outputs": [],
   "source": [
    "long_results, short_results = [curr_active_pipeline.computation_results[an_epoch_name]['computed_data'] for an_epoch_name in [long_epoch_name, short_epoch_name]]\n",
    "\n",
    "# long_one_step_decoder_1D, short_one_step_decoder_1D  = [results_data.get('pf1D_Decoder', None) for results_data in (long_results, short_results)]\n",
    "long_one_step_decoder_1D, short_one_step_decoder_1D  = [deepcopy(results_data.get('pf1D_Decoder', None)) for results_data in (long_results, short_results)]\n",
    "# ds and Decoders conform between the long and the short epochs:\n",
    "short_one_step_decoder_1D, did_recompute = short_one_step_decoder_1D.conform_to_position_bins(long_one_step_decoder_1D, force_recompute=True)"
   ]
  },
  {
   "cell_type": "code",
   "execution_count": null,
   "id": "c3b3ec5a",
   "metadata": {},
   "outputs": [],
   "source": [
    "_out = curr_active_pipeline.perform_specific_computation(computation_functions_name_includelist=['_perform_position_decoding_computation'], computation_kwargs_list=[dict(ndim=2)], enabled_filter_names=['maze_even_laps', 'maze_odd_laps'], fail_on_exception=True, debug_print=True)\n",
    "long_results, short_results = [curr_active_pipeline.computation_results[an_epoch_name]['computed_data'] for an_epoch_name in [long_epoch_name, short_epoch_name]]\n",
    "# Make the 2D Placefields and Decoders conform between the long and the short epochs:\n",
    "long_one_step_decoder_2D, short_one_step_decoder_2D  = [results_data.get('pf2D_Decoder', None) for results_data in (long_results, short_results)]\n",
    "display(_out)"
   ]
  },
  {
   "cell_type": "code",
   "execution_count": null,
   "id": "fa53ac14",
   "metadata": {},
   "outputs": [],
   "source": [
    "curr_active_pipeline.filtered_session_names # ['maze1', 'maze2', 'maze', 'maze_odd_laps', 'maze_even_laps']\n",
    "\n",
    "\n",
    "['maze1', 'maze2', 'maze', 'maze_odd_laps', 'maze_even_laps']"
   ]
  },
  {
   "cell_type": "code",
   "execution_count": null,
   "id": "fcc389df",
   "metadata": {},
   "outputs": [],
   "source": [
    "global_laps"
   ]
  },
  {
   "cell_type": "code",
   "execution_count": null,
   "id": "774a27b2",
   "metadata": {},
   "outputs": [],
   "source": [
    "curr_active_pipeline.filtered_sessions"
   ]
  },
  {
   "cell_type": "code",
   "execution_count": null,
   "id": "2d6cc1d5",
   "metadata": {},
   "outputs": [],
   "source": [
    "curr_active_pipeline.filtered_epochs"
   ]
  },
  {
   "cell_type": "code",
   "execution_count": null,
   "id": "4d60f26d",
   "metadata": {},
   "outputs": [],
   "source": [
    "\n",
    "debug_print_subsession_neuron_differences(curr_active_pipeline.computation_results)\n",
    "\n",
    "debug_print_"
   ]
  },
  {
   "cell_type": "code",
   "execution_count": null,
   "id": "b7ff4f92",
   "metadata": {},
   "outputs": [],
   "source": [
    "## Require ComputationConfig to be hashable:\n",
    "\n",
    "\n",
    "## Permit dictionary of \n",
    "\n",
    "global_session"
   ]
  },
  {
   "cell_type": "code",
   "execution_count": null,
   "id": "0c9781e4",
   "metadata": {},
   "outputs": [],
   "source": [
    "desired_computation_epochs = build_lap_computation_epochs(global_session, use_direction_dependent_laps=True)\n",
    "desired_computation_epochs"
   ]
  },
  {
   "cell_type": "code",
   "execution_count": null,
   "id": "a8a2e79c",
   "metadata": {},
   "outputs": [],
   "source": [
    "type(global_laps) # Epoch\n"
   ]
  },
  {
   "cell_type": "code",
   "execution_count": null,
   "id": "ba80b659",
   "metadata": {},
   "outputs": [],
   "source": [
    "type(global_session.laps) # neuropy.core.laps.Laps\n",
    "global_session.laps\n"
   ]
  },
  {
   "cell_type": "code",
   "execution_count": null,
   "id": "47ed2943",
   "metadata": {},
   "outputs": [],
   "source": [
    "list(directional_lap_specific_configs.keys())"
   ]
  },
  {
   "cell_type": "code",
   "execution_count": null,
   "id": "bb801345",
   "metadata": {},
   "outputs": [],
   "source": [
    "inst_spike_rate_groups_result: InstantaneousSpikeRateGroupsComputation = curr_active_pipeline.global_computation_results.computed_data.long_short_inst_spike_rate_groups\n",
    "custom_InstSpikeRateTrends_df = inst_spike_rate_groups_result.all_incl_endPlatforms_InstSpikeRateTrends_df\n",
    "inst_spike_rate_groups_result"
   ]
  },
  {
   "cell_type": "markdown",
   "id": "9c6833f5",
   "metadata": {},
   "source": [
    "## 2023-10-18 - Investigate getting spike raster during the replay epochs for use with spike timing analyses like the weighted correlations"
   ]
  },
  {
   "cell_type": "code",
   "execution_count": null,
   "id": "98293a74",
   "metadata": {},
   "outputs": [],
   "source": [
    "ratemap = deepcopy(long_pf1D.ratemap)\n",
    "ratemap.spikes_maps\n",
    "ratemap.unsmoothed_tuning_maps"
   ]
  },
  {
   "cell_type": "code",
   "execution_count": null,
   "id": "2656e3a3",
   "metadata": {},
   "outputs": [],
   "source": [
    "ratemap.tuning_curves"
   ]
  },
  {
   "cell_type": "markdown",
   "id": "a94407cd",
   "metadata": {},
   "source": [
    "## 2023-10-19 - Test Instantaneous Spike Rates and their visualizations during the Replay Epochs"
   ]
  },
  {
   "cell_type": "code",
   "execution_count": null,
   "id": "4fbe5c13",
   "metadata": {},
   "outputs": [],
   "source": [
    "from pyphocorehelpers.indexing_helpers import BinningContainer\n",
    "\n",
    "replay_instantaneous_time_bin_size_seconds = 0.01\n",
    "inst_replay_frs: SpikeRateTrends = SpikeRateTrends.init_from_spikes_and_epochs(spikes_df=global_session.spikes_df, filter_epochs=global_replays, included_neuron_ids=EITHER_subset.track_exclusive_aclus.copy(), instantaneous_time_bin_size_seconds=replay_instantaneous_time_bin_size_seconds)\n",
    "neuron_labels = [str(aclu) for aclu in inst_replay_frs.included_neuron_ids] # labels for plotting the epochs using `BasicBinnedImageRenderingWindow`\n",
    "# 26 seconds"
   ]
  },
  {
   "cell_type": "code",
   "execution_count": null,
   "id": "74859ebb",
   "metadata": {},
   "outputs": [],
   "source": [
    "epoch_idx = 1\n",
    "a_replay_inst_frs = inst_replay_frs.inst_fr_df_list[epoch_idx].to_numpy() # (n_epoch_time_bins, n_cells)   ## OLD: #.T # (n_cells, n_epoch_time_bins)\n",
    "display(a_replay_inst_frs.shape)\n",
    "a_epoch_timebin_labels = [str(v) for v in np.arange(np.shape(a_replay_inst_frs)[0])]\n",
    "assert len(a_epoch_timebin_labels) == np.shape(a_replay_inst_frs)[0]\n",
    "assert len(neuron_labels) == np.shape(a_replay_inst_frs)[1]"
   ]
  },
  {
   "cell_type": "code",
   "execution_count": null,
   "id": "e7e2b818",
   "metadata": {},
   "outputs": [],
   "source": [
    "\n",
    "\n",
    "\n",
    "from pyphoplacecellanalysis.GUI.PyQtPlot.BinnedImageRenderingWindow import BasicBinnedImageRenderingWindow, LayoutScrollability\n",
    "out = BasicBinnedImageRenderingWindow(a_replay_inst_frs, None, None, name='a_replay_inst_frs', title=\"Inst Fr for Replay Epoch\", variable_label='Inst FR', scrollability_mode=LayoutScrollability.NON_SCROLLABLE)"
   ]
  },
  {
   "cell_type": "code",
   "execution_count": null,
   "id": "6a54ce7c",
   "metadata": {},
   "outputs": [],
   "source": [
    "np.min(global_replays.durations) # 0.01062911469489336\n"
   ]
  },
  {
   "cell_type": "markdown",
   "id": "a6b5f4fe",
   "metadata": {},
   "source": [
    "## Weighted Correlation can only be applied to decoded posteriors, not spikes themselves.\n",
    "### It works by assessing the degree to which a change in position corresponds to a change in time. For a simple diagonally increasing trajectory across the track at early timebins position will start at the bottom of the track, and as time increases the position also increases. The \"weighted\" part just corresponds to making use of the confidence probabilities of the decoded posterior: instead of relying on only the most-likely position we can include all information returned. Naturally will emphasize sharp decoded positions and de-emphasize diffuse ones.\n"
   ]
  },
  {
   "cell_type": "code",
   "execution_count": null,
   "id": "d44e70e5",
   "metadata": {},
   "outputs": [],
   "source": [
    "## Get decoded posteriors for each replay epoch:\n",
    "from pyphoplacecellanalysis.Analysis.Decoder.reconstruction import DecodedFilterEpochsResult\n",
    "from PendingNotebookCode import add_weighted_correlation_result, _add_maze_id_to_epochs\n",
    "\n",
    "## 2023-10-19 - Weighted Correlation:\n",
    "a_long_decoder_result: DecodedFilterEpochsResult = long_results_obj.all_included_filter_epochs_decoder_result\n",
    "a_short_decoder_result: DecodedFilterEpochsResult = short_results_obj.all_included_filter_epochs_decoder_result\n",
    "# Get the xbin_centers which are the same for long/short:\n",
    "xbin_centers = long_results_obj.original_1D_decoder.xbin_centers.copy()\n",
    "# Compute the weighte correlation:\n",
    "epoch_long_weighted_corr_results, epoch_short_weighted_corr_results = add_weighted_correlation_result(xbin_centers, a_long_decoder_result, a_short_decoder_result, debug_print=False)\n",
    "epoch_long_weighted_corr_results"
   ]
  },
  {
   "cell_type": "code",
   "execution_count": null,
   "id": "5ddde694",
   "metadata": {},
   "outputs": [],
   "source": [
    "epoch_long_weighted_corr_results.shape # (151, 2)"
   ]
  },
  {
   "cell_type": "code",
   "execution_count": null,
   "id": "06a29f01",
   "metadata": {},
   "outputs": [],
   "source": [
    "\n",
    "## Add new weighted correlation results as new columns in existing filter_epochs df:\n",
    "active_filter_epochs = long_results_obj.active_filter_epochs\n",
    "# Add the maze_id to the active_filter_epochs so we can see how properties change as a function of which track the replay event occured on:\n",
    "active_filter_epochs = _add_maze_id_to_epochs(active_filter_epochs, short_session.t_start)\n",
    "active_filter_epochs._df['weighted_corr_LONG'] = epoch_long_weighted_corr_results[:,0]\n",
    "active_filter_epochs._df['weighted_corr_SHORT'] = epoch_short_weighted_corr_results[:,0]\n",
    "active_filter_epochs._df['weighted_corr_spearman_LONG'] = epoch_long_weighted_corr_results[:,1]\n",
    "active_filter_epochs._df['weighted_corr_spearman_SHORT'] = epoch_short_weighted_corr_results[:,1]\n",
    "\n",
    "\n",
    "active_filter_epochs"
   ]
  },
  {
   "cell_type": "code",
   "execution_count": null,
   "id": "7a7d7ac6",
   "metadata": {},
   "outputs": [],
   "source": [
    "active_filter_epochs.to_dataframe()"
   ]
  },
  {
   "cell_type": "code",
   "execution_count": null,
   "id": "fe651ea4",
   "metadata": {},
   "outputs": [],
   "source": [
    "## plot the `weighted_corr_LONG` over time\n",
    "\n",
    "# fig, axes = plt.subplots(ncols=1, nrows=active_num_rows, sharex=True, sharey=sharey, figsize=figsize)\n",
    "\n",
    "## Weighted Correlation during replay epochs:\n",
    "_out_ax = active_filter_epochs._df.plot.scatter(x='start', y='weighted_corr_LONG', title='weighted_corr during replay events', marker=\"s\",  s=5, label=f'Long', alpha=0.8)\n",
    "active_filter_epochs._df.plot.scatter(x='start', y='weighted_corr_SHORT', xlabel='Replay Epoch Time', ylabel='Weighted Correlation', ax=_out_ax, marker=\"s\", c='r', s=5, label=f'Short', alpha=0.8)\n",
    "_out_ax.axhline(y=0.0, linewidth=1, color='k') # the y=0.0 line"
   ]
  },
  {
   "cell_type": "code",
   "execution_count": null,
   "id": "37af3ef4",
   "metadata": {},
   "outputs": [],
   "source": [
    "## Weighted Spearman Correlation during replay epochs:\n",
    "_out_ax = active_filter_epochs._df.plot.scatter(x='start', y='weighted_corr_spearman_LONG', title='weighted_spearman_corr during replay events', marker=\"s\",  s=5, label=f'Long', alpha=0.8)\n",
    "active_filter_epochs._df.plot.scatter(x='start', y='weighted_corr_spearman_SHORT', xlabel='Replay Epoch Time', ylabel='Weighted Spearman Correlation', ax=_out_ax, marker=\"s\", c='r', s=5, label=f'Short', alpha=0.8)\n",
    "_out_ax.axhline(y=0.0, linewidth=1, color='k') # the y=0.0 line"
   ]
  },
  {
   "cell_type": "code",
   "execution_count": null,
   "id": "1fc793c7",
   "metadata": {},
   "outputs": [],
   "source": []
  },
  {
   "cell_type": "code",
   "execution_count": null,
   "id": "75167fc1",
   "metadata": {},
   "outputs": [],
   "source": [
    "_out_ax = active_filter_epochs._df.plot.scatter(x='start', y='score_LONG', title='Radon Transform Score during replay events', marker=\"s\",  s=5, label=f'Long', alpha=0.8)\n",
    "active_filter_epochs._df.plot.scatter(x='start', y='score_SHORT', xlabel='Replay Epoch Time', ylabel='Replay Radon Transform Score', ax=_out_ax, marker=\"s\", c='r', s=5, label=f'Short', alpha=0.8)\n",
    "_out_ax.axhline(y=0.0, linewidth=1, color='k') # the y=0.0 line"
   ]
  },
  {
   "cell_type": "code",
   "execution_count": null,
   "id": "ed630416",
   "metadata": {},
   "outputs": [],
   "source": []
  },
  {
   "cell_type": "code",
   "execution_count": null,
   "id": "d8e5d2ff",
   "metadata": {},
   "outputs": [],
   "source": [
    "a_df = active_filter_epochs._df\n",
    "# # Performed 6 aggregations grouped on column: 'maze_id'\n",
    "# a_df = a_df.groupby(['maze_id']).agg(weighted_corr_LONG_mean=('weighted_corr_LONG', 'mean'), weighted_corr_SHORT_mean=('weighted_corr_SHORT', 'mean'), velocity_mean=('velocity', 'mean'), speed_mean=('speed', 'mean'), score_LONG_mean=('score_LONG', 'mean'), score_SHORT_mean=('score_SHORT', 'mean')).reset_index()\n",
    "a_df"
   ]
  },
  {
   "cell_type": "code",
   "execution_count": null,
   "id": "288e92dd",
   "metadata": {},
   "outputs": [],
   "source": [
    "active_burst_intervals = curr_active_pipeline.computation_results[global_epoch_name].computed_data['burst_detection']['burst_intervals']\n",
    "active_burst_intervals"
   ]
  },
  {
   "cell_type": "code",
   "execution_count": null,
   "id": "f78f27b5",
   "metadata": {
    "notebookRunGroups": {
     "groupValue": ""
    }
   },
   "outputs": [],
   "source": [
    "# Relative Entropy/Surprise Results:\n",
    "active_extended_stats = global_results['extended_stats']\n",
    "active_relative_entropy_results = active_extended_stats['pf_dt_sequential_surprise'] # DynamicParameters\n",
    "historical_snapshots = active_relative_entropy_results['historical_snapshots']\n",
    "post_update_times: np.ndarray = active_relative_entropy_results['post_update_times'] # (4152,) = (n_post_update_times,)\n",
    "snapshot_differences_result_dict = active_relative_entropy_results['snapshot_differences_result_dict']\n",
    "time_intervals: np.ndarray = active_relative_entropy_results['time_intervals']\n",
    "surprise_time_bin_duration = (post_update_times[2]-post_update_times[1])\n",
    "long_short_rel_entr_curves_frames: np.ndarray = active_relative_entropy_results['long_short_rel_entr_curves_frames'] # (4152, 108, 63) = (n_post_update_times, n_neurons, n_xbins)\n",
    "short_long_rel_entr_curves_frames: np.ndarray = active_relative_entropy_results['short_long_rel_entr_curves_frames'] # (4152, 108, 63) = (n_post_update_times, n_neurons, n_xbins)\n",
    "flat_relative_entropy_results: np.ndarray = active_relative_entropy_results['flat_relative_entropy_results'] # (149, 63) - (nSnapshots, nXbins)\n",
    "flat_jensen_shannon_distance_results: np.ndarray = active_relative_entropy_results['flat_jensen_shannon_distance_results'] # (149, 63) - (nSnapshots, nXbins)\n",
    "flat_jensen_shannon_distance_across_all_positions: np.ndarray = np.sum(np.abs(flat_jensen_shannon_distance_results), axis=1) # sum across all position bins # (4152,) - (nSnapshots)\n",
    "flat_surprise_across_all_positions: np.ndarray = np.sum(np.abs(flat_relative_entropy_results), axis=1) # sum across all position bins # (4152,) - (nSnapshots)\n",
    "\n",
    "## Get the placefield dt matrix:\n",
    "if 'snapshot_occupancy_weighted_tuning_maps' not in active_relative_entropy_results:\n",
    "\t## Compute it if missing:\n",
    "\toccupancy_weighted_tuning_maps_over_time = np.stack([placefield_snapshot.occupancy_weighted_tuning_maps_matrix for placefield_snapshot in historical_snapshots.values()])\n",
    "\tactive_relative_entropy_results['snapshot_occupancy_weighted_tuning_maps'] = occupancy_weighted_tuning_maps_over_time\n",
    "else:\n",
    "\toccupancy_weighted_tuning_maps_over_time = active_relative_entropy_results['snapshot_occupancy_weighted_tuning_maps'] # (n_post_update_times, n_neurons, n_xbins)\n"
   ]
  },
  {
   "cell_type": "code",
   "execution_count": null,
   "id": "89e5db7a",
   "metadata": {
    "notebookRunGroups": {
     "groupValue": "1"
    }
   },
   "outputs": [],
   "source": [
    "# Time-dependent\n",
    "long_pf1D_dt, short_pf1D_dt, global_pf1D_dt = long_results.pf1D_dt, short_results.pf1D_dt, global_results.pf1D_dt\n",
    "long_pf2D_dt, short_pf2D_dt, global_pf2D_dt = long_results.pf2D_dt, short_results.pf2D_dt, global_results.pf2D_dt\n",
    "global_pf1D_dt: PfND_TimeDependent = global_results.pf1D_dt\n",
    "global_pf2D_dt: PfND_TimeDependent = global_results.pf2D_dt"
   ]
  },
  {
   "cell_type": "code",
   "execution_count": null,
   "id": "2a4a4645",
   "metadata": {
    "notebookRunGroups": {
     "groupValue": "1"
    }
   },
   "outputs": [],
   "source": [
    "## long_short_endcap_analysis: checks for cells localized to the endcaps that have their placefields truncated after shortening the track\n",
    "truncation_checking_result: TruncationCheckingResults = curr_active_pipeline.global_computation_results.computed_data.long_short_endcap\n",
    "disappearing_endcap_aclus = truncation_checking_result.disappearing_endcap_aclus\n",
    "# disappearing_endcap_aclus\n",
    "trivially_remapping_endcap_aclus = truncation_checking_result.minor_remapping_endcap_aclus\n",
    "# trivially_remapping_endcap_aclus\n",
    "significant_distant_remapping_endcap_aclus = truncation_checking_result.significant_distant_remapping_endcap_aclus\n",
    "# significant_distant_remapping_endcap_aclus\n",
    "appearing_aclus = jonathan_firing_rate_analysis_result.neuron_replay_stats_df[jonathan_firing_rate_analysis_result.neuron_replay_stats_df['track_membership'] == SplitPartitionMembership.RIGHT_ONLY].index\n",
    "# appearing_aclus"
   ]
  },
  {
   "cell_type": "code",
   "execution_count": null,
   "id": "2a3c5c2c",
   "metadata": {},
   "outputs": [],
   "source": [
    "significant_distant_remapping_endcap_aclus"
   ]
  },
  {
   "cell_type": "code",
   "execution_count": null,
   "id": "f01e2a49",
   "metadata": {},
   "outputs": [],
   "source": [
    "from pyphoplacecellanalysis.SpecificResults.fourthYearPresentation import fig_remapping_cells\n",
    "\n",
    "graphics_output_dict = fig_remapping_cells(curr_active_pipeline=curr_active_pipeline)"
   ]
  },
  {
   "cell_type": "code",
   "execution_count": null,
   "id": "1beb95f6",
   "metadata": {},
   "outputs": [],
   "source": [
    "# 2023-11-10 - Adds \"LxC_PBEsDeltaMinus\" for PBEs \n",
    "\n",
    "\n",
    "temp = add_extra_spike_rate_trends(curr_active_pipeline)\n",
    "temp\n"
   ]
  },
  {
   "cell_type": "markdown",
   "id": "7b377ccf",
   "metadata": {},
   "source": [
    "# 🟢 2023-10-20 - Z-Score Comparisons with Neuron_ID Shuffled templates\n",
    "1. Take the intersection of the long and short templates to get only the common cells\n",
    "2. Determine the long and short \"tempaltes\": this is done by ranking the aclus for each by their placefields' center of mass. `compute_placefield_center_of_masses`\n",
    "\t2a. `long_pf_peak_ranks`, `short_pf_peak_ranks` - there are one of each of these for each shared aclu.\n",
    "3. Generate the unit_id shuffled (`shuffled_aclus`, `shuffle_IDXs`) ahead of time to use to shuffle the two templates during the epochs.\n",
    "4. For each replay event, take each shuffled template\n",
    "\t4a. Iterate through each shuffle and obtain the shuffled templates like `long_pf_peak_ranks[epoch_specific_shuffled_indicies]`, `short_pf_peak_ranks[epoch_specific_shuffled_indicies]`\n",
    "\t4b. compute the spearman rank-order of the event and each shuffled template, and accumulate the results in `long_spearmanr_rank_stats_results`, `short_spearmanr_rank_stats_results`\n",
    "\n",
    "5. After we're done with the shuffle loop, accumulate the results and convert to the right output format.\n",
    "\n",
    "6. When all epochs are done, loop through the results (the epochs again) and compute the z-scores for each epoch so they can be compared to each other. Keep track of the means and std_dev for comparisons later, and subtract the two sets of z-scores (long/short) to get the delta_Z for each template.\n",
    "\n",
    "7. TODO: Next figure out what to do with the array of z-scores and delta_Z. We have:\n",
    "\tn_epochs sets of results\n",
    "\t\tn_shuffles scores of delta_Z\n",
    "\n"
   ]
  },
  {
   "cell_type": "markdown",
   "id": "2c80b6e0",
   "metadata": {},
   "source": [
    "## Convo with Kamran 2023-10-23:\n",
    "- Use directional templates **\n",
    "- No need to worry about re-ranking\n",
    "- Plot the long and short separately in addition to the difference, so we show significant reqplay on each as a sanity check\n",
    "- Absolute value difference?\n",
    "- Fisher transform the correlation values (check if there is a difference) because correlation coefficients aren't going to be normally distributed.\n",
    "- Then Z-score releative to fisher.\n",
    "\n",
    "- T-test to compare to mean of zero (if looking at the difference)"
   ]
  },
  {
   "cell_type": "code",
   "execution_count": null,
   "id": "cd6dbc74",
   "metadata": {},
   "outputs": [],
   "source": [
    "## Concerns:\n",
    "# 1. Permutation recommended over shuffling for small numbers of ids\n",
    "# 2.\n",
    "\n",
    "global_laps_epochs_df = global_session.laps.trimmed_to_non_overlapping()\n",
    "global_laps_epochs_df"
   ]
  },
  {
   "cell_type": "code",
   "execution_count": null,
   "id": "bddb97e5",
   "metadata": {},
   "outputs": [],
   "source": [
    "\n",
    "\n",
    "# Recover sample width:\n",
    "global_laps = deepcopy(curr_active_pipeline.filtered_sessions[global_epoch_name].laps)\n",
    "global_laps\n"
   ]
  },
  {
   "cell_type": "code",
   "execution_count": null,
   "id": "9f699808",
   "metadata": {},
   "outputs": [],
   "source": [
    "from scipy import stats\n",
    "\n",
    "# _fixup_overlapping_epochs_with_indicies\n",
    "# epochs_with_indicies\n",
    "\n",
    "def _recover_samples_per_sec_from_laps_df(global_laps_df, time_start_column_name='start_t_rel_seconds', time_stop_column_name='end_t_rel_seconds',\n",
    "\t\t\textra_indexed_column_start_column_name='start_position_index', extra_indexed_column_stop_column_name='end_position_index') -> float:\n",
    "\t\"\"\" Recovers the index/time relation for the specified index columns by computing both the time duration and the number of indicies spanned by a given epoch.\n",
    "\n",
    "\treturns the `mode_samples_per_sec` corresponding to that column.\n",
    "\n",
    "\tASSUMES REGULAR SAMPLEING!\n",
    "\n",
    "\t \"\"\"\n",
    "\tduration_sec = global_laps_df[time_stop_column_name] - global_laps_df[time_start_column_name]\n",
    "\tnum_position_samples = global_laps_df[extra_indexed_column_stop_column_name] - global_laps_df[extra_indexed_column_start_column_name]\n",
    "\tsamples_per_sec = (num_position_samples/duration_sec).to_numpy()\n",
    "\tmode_samples_per_sec = stats.mode(samples_per_sec)[0] # take the mode of all the epochs\n",
    "\treturn mode_samples_per_sec\n",
    "\n",
    "\n",
    "global_laps_df = global_laps.to_dataframe()\n",
    "position_mode_samples_per_sec = _recover_samples_per_sec_from_laps_df(global_laps_df, time_start_column_name='start_t_rel_seconds', time_stop_column_name='end_t_rel_seconds',\n",
    "\t\t\textra_indexed_column_start_column_name='start_position_index', extra_indexed_column_stop_column_name='end_position_index')\n",
    "\n",
    "position_mode_samples_per_sec # 29.956350269267112\n"
   ]
  },
  {
   "cell_type": "code",
   "execution_count": null,
   "id": "86a65bd2",
   "metadata": {},
   "outputs": [],
   "source": []
  },
  {
   "cell_type": "code",
   "execution_count": 92,
   "id": "a51d15e6",
   "metadata": {},
   "outputs": [
    {
     "name": "stdout",
     "output_type": "stream",
     "text": [
      "DEPRICATION WARNING: workaround to allow subscripting ComputationResult objects. Will be depricated. key: computed_data\n"
     ]
    },
    {
     "data": {
      "text/html": [
       "<div>\n",
       "<style scoped>\n",
       "    .dataframe tbody tr th:only-of-type {\n",
       "        vertical-align: middle;\n",
       "    }\n",
       "\n",
       "    .dataframe tbody tr th {\n",
       "        vertical-align: top;\n",
       "    }\n",
       "\n",
       "    .dataframe thead th {\n",
       "        text-align: right;\n",
       "    }\n",
       "</style>\n",
       "<table border=\"1\" class=\"dataframe\">\n",
       "  <thead>\n",
       "    <tr style=\"text-align: right;\">\n",
       "      <th></th>\n",
       "      <th>t</th>\n",
       "      <th>t_seconds</th>\n",
       "      <th>t_rel_seconds</th>\n",
       "      <th>shank</th>\n",
       "      <th>cluster</th>\n",
       "      <th>aclu</th>\n",
       "      <th>qclu</th>\n",
       "      <th>x</th>\n",
       "      <th>y</th>\n",
       "      <th>speed</th>\n",
       "      <th>traj</th>\n",
       "      <th>lap</th>\n",
       "      <th>maze_relative_lap</th>\n",
       "      <th>maze_id</th>\n",
       "      <th>is_theta</th>\n",
       "      <th>is_ripple</th>\n",
       "      <th>theta_phase_radians</th>\n",
       "      <th>neuron_type</th>\n",
       "      <th>flat_spike_idx</th>\n",
       "      <th>x_loaded</th>\n",
       "      <th>y_loaded</th>\n",
       "      <th>lin_pos</th>\n",
       "      <th>fragile_linear_neuron_IDX</th>\n",
       "      <th>PBE_id</th>\n",
       "      <th>scISI</th>\n",
       "    </tr>\n",
       "  </thead>\n",
       "  <tbody>\n",
       "    <tr>\n",
       "      <th>2</th>\n",
       "      <td>187.0</td>\n",
       "      <td>603785.858482</td>\n",
       "      <td>0.005745</td>\n",
       "      <td>8</td>\n",
       "      <td>19</td>\n",
       "      <td>62</td>\n",
       "      <td>4</td>\n",
       "      <td>231.393024</td>\n",
       "      <td>139.660200</td>\n",
       "      <td>0.000000</td>\n",
       "      <td>0</td>\n",
       "      <td>-1</td>\n",
       "      <td>-1</td>\n",
       "      <td>1</td>\n",
       "      <td>False</td>\n",
       "      <td>False</td>\n",
       "      <td>2.014131</td>\n",
       "      <td>NeuronType.PYRAMIDAL</td>\n",
       "      <td>2</td>\n",
       "      <td>NaN</td>\n",
       "      <td>NaN</td>\n",
       "      <td>230.649346</td>\n",
       "      <td>60</td>\n",
       "      <td>-1</td>\n",
       "      <td>NaN</td>\n",
       "    </tr>\n",
       "    <tr>\n",
       "      <th>17</th>\n",
       "      <td>743.0</td>\n",
       "      <td>603785.875562</td>\n",
       "      <td>0.022825</td>\n",
       "      <td>8</td>\n",
       "      <td>19</td>\n",
       "      <td>62</td>\n",
       "      <td>4</td>\n",
       "      <td>231.393024</td>\n",
       "      <td>139.660200</td>\n",
       "      <td>0.000000</td>\n",
       "      <td>0</td>\n",
       "      <td>-1</td>\n",
       "      <td>-1</td>\n",
       "      <td>1</td>\n",
       "      <td>False</td>\n",
       "      <td>False</td>\n",
       "      <td>2.886040</td>\n",
       "      <td>NeuronType.PYRAMIDAL</td>\n",
       "      <td>17</td>\n",
       "      <td>NaN</td>\n",
       "      <td>NaN</td>\n",
       "      <td>230.649346</td>\n",
       "      <td>60</td>\n",
       "      <td>-1</td>\n",
       "      <td>0.017080</td>\n",
       "    </tr>\n",
       "    <tr>\n",
       "      <th>53</th>\n",
       "      <td>2172.0</td>\n",
       "      <td>603785.919461</td>\n",
       "      <td>0.066724</td>\n",
       "      <td>8</td>\n",
       "      <td>19</td>\n",
       "      <td>62</td>\n",
       "      <td>4</td>\n",
       "      <td>231.393024</td>\n",
       "      <td>139.660200</td>\n",
       "      <td>0.000000</td>\n",
       "      <td>0</td>\n",
       "      <td>-1</td>\n",
       "      <td>-1</td>\n",
       "      <td>1</td>\n",
       "      <td>False</td>\n",
       "      <td>False</td>\n",
       "      <td>4.847844</td>\n",
       "      <td>NeuronType.PYRAMIDAL</td>\n",
       "      <td>53</td>\n",
       "      <td>0.803989</td>\n",
       "      <td>0.491191</td>\n",
       "      <td>230.649346</td>\n",
       "      <td>60</td>\n",
       "      <td>-1</td>\n",
       "      <td>0.043899</td>\n",
       "    </tr>\n",
       "    <tr>\n",
       "      <th>55</th>\n",
       "      <td>2364.0</td>\n",
       "      <td>603785.925359</td>\n",
       "      <td>0.072622</td>\n",
       "      <td>8</td>\n",
       "      <td>19</td>\n",
       "      <td>62</td>\n",
       "      <td>4</td>\n",
       "      <td>231.393024</td>\n",
       "      <td>139.660200</td>\n",
       "      <td>0.000000</td>\n",
       "      <td>0</td>\n",
       "      <td>-1</td>\n",
       "      <td>-1</td>\n",
       "      <td>1</td>\n",
       "      <td>False</td>\n",
       "      <td>False</td>\n",
       "      <td>5.101577</td>\n",
       "      <td>NeuronType.PYRAMIDAL</td>\n",
       "      <td>55</td>\n",
       "      <td>0.803689</td>\n",
       "      <td>0.490788</td>\n",
       "      <td>230.649346</td>\n",
       "      <td>60</td>\n",
       "      <td>-1</td>\n",
       "      <td>0.005898</td>\n",
       "    </tr>\n",
       "    <tr>\n",
       "      <th>61</th>\n",
       "      <td>2751.0</td>\n",
       "      <td>603785.937248</td>\n",
       "      <td>0.084511</td>\n",
       "      <td>7</td>\n",
       "      <td>2</td>\n",
       "      <td>41</td>\n",
       "      <td>2</td>\n",
       "      <td>231.393024</td>\n",
       "      <td>139.660200</td>\n",
       "      <td>0.000000</td>\n",
       "      <td>0</td>\n",
       "      <td>-1</td>\n",
       "      <td>-1</td>\n",
       "      <td>1</td>\n",
       "      <td>False</td>\n",
       "      <td>False</td>\n",
       "      <td>5.656234</td>\n",
       "      <td>NeuronType.PYRAMIDAL</td>\n",
       "      <td>61</td>\n",
       "      <td>0.803084</td>\n",
       "      <td>0.489975</td>\n",
       "      <td>230.649346</td>\n",
       "      <td>39</td>\n",
       "      <td>-1</td>\n",
       "      <td>NaN</td>\n",
       "    </tr>\n",
       "    <tr>\n",
       "      <th>64</th>\n",
       "      <td>2973.0</td>\n",
       "      <td>603785.944068</td>\n",
       "      <td>0.091331</td>\n",
       "      <td>8</td>\n",
       "      <td>19</td>\n",
       "      <td>62</td>\n",
       "      <td>4</td>\n",
       "      <td>231.393024</td>\n",
       "      <td>139.660200</td>\n",
       "      <td>0.000000</td>\n",
       "      <td>0</td>\n",
       "      <td>-1</td>\n",
       "      <td>-1</td>\n",
       "      <td>1</td>\n",
       "      <td>False</td>\n",
       "      <td>False</td>\n",
       "      <td>5.959673</td>\n",
       "      <td>NeuronType.PYRAMIDAL</td>\n",
       "      <td>64</td>\n",
       "      <td>0.802738</td>\n",
       "      <td>0.489509</td>\n",
       "      <td>230.649346</td>\n",
       "      <td>60</td>\n",
       "      <td>-1</td>\n",
       "      <td>0.018708</td>\n",
       "    </tr>\n",
       "    <tr>\n",
       "      <th>...</th>\n",
       "      <td>...</td>\n",
       "      <td>...</td>\n",
       "      <td>...</td>\n",
       "      <td>...</td>\n",
       "      <td>...</td>\n",
       "      <td>...</td>\n",
       "      <td>...</td>\n",
       "      <td>...</td>\n",
       "      <td>...</td>\n",
       "      <td>...</td>\n",
       "      <td>...</td>\n",
       "      <td>...</td>\n",
       "      <td>...</td>\n",
       "      <td>...</td>\n",
       "      <td>...</td>\n",
       "      <td>...</td>\n",
       "      <td>...</td>\n",
       "      <td>...</td>\n",
       "      <td>...</td>\n",
       "      <td>...</td>\n",
       "      <td>...</td>\n",
       "      <td>...</td>\n",
       "      <td>...</td>\n",
       "      <td>...</td>\n",
       "      <td>...</td>\n",
       "    </tr>\n",
       "    <tr>\n",
       "      <th>1006586</th>\n",
       "      <td>68142985.0</td>\n",
       "      <td>605879.204164</td>\n",
       "      <td>2093.351427</td>\n",
       "      <td>8</td>\n",
       "      <td>16</td>\n",
       "      <td>61</td>\n",
       "      <td>4</td>\n",
       "      <td>185.973138</td>\n",
       "      <td>111.428387</td>\n",
       "      <td>2.432168</td>\n",
       "      <td>7</td>\n",
       "      <td>-1</td>\n",
       "      <td>-1</td>\n",
       "      <td>2</td>\n",
       "      <td>True</td>\n",
       "      <td>False</td>\n",
       "      <td>2.042573</td>\n",
       "      <td>NeuronType.PYRAMIDAL</td>\n",
       "      <td>1006586</td>\n",
       "      <td>0.752426</td>\n",
       "      <td>0.509555</td>\n",
       "      <td>203.513379</td>\n",
       "      <td>59</td>\n",
       "      <td>-1</td>\n",
       "      <td>1.082357</td>\n",
       "    </tr>\n",
       "    <tr>\n",
       "      <th>1006613</th>\n",
       "      <td>68144541.0</td>\n",
       "      <td>605879.251965</td>\n",
       "      <td>2093.399228</td>\n",
       "      <td>10</td>\n",
       "      <td>14</td>\n",
       "      <td>91</td>\n",
       "      <td>6</td>\n",
       "      <td>185.893392</td>\n",
       "      <td>111.344449</td>\n",
       "      <td>2.422441</td>\n",
       "      <td>7</td>\n",
       "      <td>-1</td>\n",
       "      <td>-1</td>\n",
       "      <td>2</td>\n",
       "      <td>True</td>\n",
       "      <td>False</td>\n",
       "      <td>4.839542</td>\n",
       "      <td>NeuronType.PYRAMIDAL</td>\n",
       "      <td>1006613</td>\n",
       "      <td>0.752263</td>\n",
       "      <td>0.509140</td>\n",
       "      <td>203.573798</td>\n",
       "      <td>89</td>\n",
       "      <td>-1</td>\n",
       "      <td>0.105861</td>\n",
       "    </tr>\n",
       "    <tr>\n",
       "      <th>1006626</th>\n",
       "      <td>68145183.0</td>\n",
       "      <td>605879.271687</td>\n",
       "      <td>2093.418950</td>\n",
       "      <td>10</td>\n",
       "      <td>14</td>\n",
       "      <td>91</td>\n",
       "      <td>6</td>\n",
       "      <td>185.860522</td>\n",
       "      <td>111.309852</td>\n",
       "      <td>2.417396</td>\n",
       "      <td>7</td>\n",
       "      <td>-1</td>\n",
       "      <td>-1</td>\n",
       "      <td>2</td>\n",
       "      <td>True</td>\n",
       "      <td>False</td>\n",
       "      <td>6.064510</td>\n",
       "      <td>NeuronType.PYRAMIDAL</td>\n",
       "      <td>1006626</td>\n",
       "      <td>0.752271</td>\n",
       "      <td>0.508822</td>\n",
       "      <td>203.598702</td>\n",
       "      <td>89</td>\n",
       "      <td>-1</td>\n",
       "      <td>0.019722</td>\n",
       "    </tr>\n",
       "    <tr>\n",
       "      <th>1006775</th>\n",
       "      <td>68153647.0</td>\n",
       "      <td>605879.531701</td>\n",
       "      <td>2093.678964</td>\n",
       "      <td>8</td>\n",
       "      <td>16</td>\n",
       "      <td>61</td>\n",
       "      <td>4</td>\n",
       "      <td>185.430369</td>\n",
       "      <td>110.857088</td>\n",
       "      <td>2.410508</td>\n",
       "      <td>11</td>\n",
       "      <td>-1</td>\n",
       "      <td>-1</td>\n",
       "      <td>2</td>\n",
       "      <td>True</td>\n",
       "      <td>False</td>\n",
       "      <td>1.041340</td>\n",
       "      <td>NeuronType.PYRAMIDAL</td>\n",
       "      <td>1006775</td>\n",
       "      <td>0.756086</td>\n",
       "      <td>0.501603</td>\n",
       "      <td>203.924497</td>\n",
       "      <td>59</td>\n",
       "      <td>-1</td>\n",
       "      <td>0.327536</td>\n",
       "    </tr>\n",
       "    <tr>\n",
       "      <th>1006808</th>\n",
       "      <td>68156454.0</td>\n",
       "      <td>605879.617932</td>\n",
       "      <td>2093.765195</td>\n",
       "      <td>9</td>\n",
       "      <td>2</td>\n",
       "      <td>69</td>\n",
       "      <td>1</td>\n",
       "      <td>185.287049</td>\n",
       "      <td>110.706235</td>\n",
       "      <td>2.398387</td>\n",
       "      <td>11</td>\n",
       "      <td>-1</td>\n",
       "      <td>-1</td>\n",
       "      <td>2</td>\n",
       "      <td>True</td>\n",
       "      <td>False</td>\n",
       "      <td>5.998694</td>\n",
       "      <td>NeuronType.PYRAMIDAL</td>\n",
       "      <td>1006808</td>\n",
       "      <td>0.757541</td>\n",
       "      <td>0.499014</td>\n",
       "      <td>203.890846</td>\n",
       "      <td>67</td>\n",
       "      <td>-1</td>\n",
       "      <td>13.853945</td>\n",
       "    </tr>\n",
       "    <tr>\n",
       "      <th>1006851</th>\n",
       "      <td>68158697.0</td>\n",
       "      <td>605879.686837</td>\n",
       "      <td>2093.834100</td>\n",
       "      <td>9</td>\n",
       "      <td>5</td>\n",
       "      <td>72</td>\n",
       "      <td>7</td>\n",
       "      <td>185.173520</td>\n",
       "      <td>110.586739</td>\n",
       "      <td>2.409116</td>\n",
       "      <td>11</td>\n",
       "      <td>-1</td>\n",
       "      <td>-1</td>\n",
       "      <td>2</td>\n",
       "      <td>True</td>\n",
       "      <td>False</td>\n",
       "      <td>3.632473</td>\n",
       "      <td>NeuronType.PYRAMIDAL</td>\n",
       "      <td>1006851</td>\n",
       "      <td>0.758688</td>\n",
       "      <td>0.496974</td>\n",
       "      <td>203.704908</td>\n",
       "      <td>70</td>\n",
       "      <td>-1</td>\n",
       "      <td>3.573256</td>\n",
       "    </tr>\n",
       "  </tbody>\n",
       "</table>\n",
       "<p>98816 rows × 25 columns</p>\n",
       "</div>"
      ],
      "text/plain": [
       "                  t      t_seconds  t_rel_seconds  shank  cluster  aclu  qclu           x           y     speed  traj  lap  maze_relative_lap  maze_id  is_theta  is_ripple  theta_phase_radians           neuron_type  flat_spike_idx  x_loaded  y_loaded     lin_pos  fragile_linear_neuron_IDX  PBE_id      scISI\n",
       "2             187.0  603785.858482       0.005745      8       19    62     4  231.393024  139.660200  0.000000     0   -1                 -1        1     False      False             2.014131  NeuronType.PYRAMIDAL               2       NaN       NaN  230.649346                         60      -1        NaN\n",
       "17            743.0  603785.875562       0.022825      8       19    62     4  231.393024  139.660200  0.000000     0   -1                 -1        1     False      False             2.886040  NeuronType.PYRAMIDAL              17       NaN       NaN  230.649346                         60      -1   0.017080\n",
       "53           2172.0  603785.919461       0.066724      8       19    62     4  231.393024  139.660200  0.000000     0   -1                 -1        1     False      False             4.847844  NeuronType.PYRAMIDAL              53  0.803989  0.491191  230.649346                         60      -1   0.043899\n",
       "55           2364.0  603785.925359       0.072622      8       19    62     4  231.393024  139.660200  0.000000     0   -1                 -1        1     False      False             5.101577  NeuronType.PYRAMIDAL              55  0.803689  0.490788  230.649346                         60      -1   0.005898\n",
       "61           2751.0  603785.937248       0.084511      7        2    41     2  231.393024  139.660200  0.000000     0   -1                 -1        1     False      False             5.656234  NeuronType.PYRAMIDAL              61  0.803084  0.489975  230.649346                         39      -1        NaN\n",
       "64           2973.0  603785.944068       0.091331      8       19    62     4  231.393024  139.660200  0.000000     0   -1                 -1        1     False      False             5.959673  NeuronType.PYRAMIDAL              64  0.802738  0.489509  230.649346                         60      -1   0.018708\n",
       "...             ...            ...            ...    ...      ...   ...   ...         ...         ...       ...   ...  ...                ...      ...       ...        ...                  ...                   ...             ...       ...       ...         ...                        ...     ...        ...\n",
       "1006586  68142985.0  605879.204164    2093.351427      8       16    61     4  185.973138  111.428387  2.432168     7   -1                 -1        2      True      False             2.042573  NeuronType.PYRAMIDAL         1006586  0.752426  0.509555  203.513379                         59      -1   1.082357\n",
       "1006613  68144541.0  605879.251965    2093.399228     10       14    91     6  185.893392  111.344449  2.422441     7   -1                 -1        2      True      False             4.839542  NeuronType.PYRAMIDAL         1006613  0.752263  0.509140  203.573798                         89      -1   0.105861\n",
       "1006626  68145183.0  605879.271687    2093.418950     10       14    91     6  185.860522  111.309852  2.417396     7   -1                 -1        2      True      False             6.064510  NeuronType.PYRAMIDAL         1006626  0.752271  0.508822  203.598702                         89      -1   0.019722\n",
       "1006775  68153647.0  605879.531701    2093.678964      8       16    61     4  185.430369  110.857088  2.410508    11   -1                 -1        2      True      False             1.041340  NeuronType.PYRAMIDAL         1006775  0.756086  0.501603  203.924497                         59      -1   0.327536\n",
       "1006808  68156454.0  605879.617932    2093.765195      9        2    69     1  185.287049  110.706235  2.398387    11   -1                 -1        2      True      False             5.998694  NeuronType.PYRAMIDAL         1006808  0.757541  0.499014  203.890846                         67      -1  13.853945\n",
       "1006851  68158697.0  605879.686837    2093.834100      9        5    72     7  185.173520  110.586739  2.409116    11   -1                 -1        2      True      False             3.632473  NeuronType.PYRAMIDAL         1006851  0.758688  0.496974  203.704908                         70      -1   3.573256\n",
       "\n",
       "[98816 rows x 25 columns]"
      ]
     },
     "execution_count": 92,
     "metadata": {},
     "output_type": "execute_result"
    }
   ],
   "source": [
    "from nptyping import NDArray\n",
    "from attrs import define, field, Factory, astuple\n",
    "import scipy.stats\n",
    "from scipy import ndimage\n",
    "from neuropy.utils.misc import build_shuffled_ids # used in _SHELL_analyze_leave_one_out_decoding_results\n",
    "from pyphoplacecellanalysis.General.Batch.PhoDiba2023Paper import pho_stats_paired_t_test\n",
    "from PendingNotebookCode import compute_shuffled_rankorder_analyses, build_track_templates_for_shuffle, compute_shuffled_rankorder_analyses\n",
    "from PendingNotebookCode import RankOrderAnalyses, ShuffleHelper, Zscorer\n",
    "from PendingNotebookCode import TrackTemplates\n",
    "\n",
    "long_epoch_name, short_epoch_name, global_epoch_name = curr_active_pipeline.find_LongShortGlobal_epoch_names()\n",
    "global_spikes_df = deepcopy(curr_active_pipeline.computation_results[global_epoch_name]['computed_data'].pf1D.spikes_df)\n",
    "global_laps = deepcopy(curr_active_pipeline.filtered_sessions[global_epoch_name].laps)\n",
    "# global_laps = deepcopy(curr_active_pipeline.filtered_sessions[global_epoch_name].laps)\n",
    "\n",
    "\n",
    "# Recover from the saved global result:\n",
    "# Unpacking:\n",
    "directional_laps_results = curr_active_pipeline.global_computation_results.computed_data['DirectionalLaps']\n",
    "# directional_lap_specific_configs, split_directional_laps_dict, split_directional_laps_config_names, computed_base_epoch_names = [directional_laps_results[k] for k in ['directional_lap_specific_configs', 'split_directional_laps_dict', 'split_directional_laps_names', 'computed_base_epoch_names']]\n",
    "directional_lap_specific_configs, split_directional_laps_dict, split_directional_laps_contexts_dict, split_directional_laps_config_names, computed_base_epoch_names = [directional_laps_results.__dict__[k] for k in ['directional_lap_specific_configs', 'split_directional_laps_dict', 'split_directional_laps_contexts_dict', 'split_directional_laps_config_names', 'computed_base_epoch_names']]\n",
    "long_odd_shared_aclus_only_one_step_decoder_1D, long_even_shared_aclus_only_one_step_decoder_1D, short_odd_shared_aclus_only_one_step_decoder_1D, short_even_shared_aclus_only_one_step_decoder_1D = [directional_laps_results.__dict__[k] for k in ['long_odd_shared_aclus_only_one_step_decoder_1D', 'long_even_shared_aclus_only_one_step_decoder_1D', 'short_odd_shared_aclus_only_one_step_decoder_1D', 'short_even_shared_aclus_only_one_step_decoder_1D']]\n",
    "long_odd_laps_obj, long_even_laps_obj, short_odd_laps_obj, short_even_laps_obj = list(directional_laps_results.split_directional_laps_dict.values())\n",
    "track_templates: TrackTemplates = TrackTemplates.init_from_shared_aclus_only_decoders(long_odd_shared_aclus_only_one_step_decoder_1D, long_even_shared_aclus_only_one_step_decoder_1D, short_odd_shared_aclus_only_one_step_decoder_1D, short_even_shared_aclus_only_one_step_decoder_1D)\n",
    "\n",
    "# RankOrderAnalyses.direction_dependent_rank_order_template_shuffle_analysis(long_odd_shared_aclus_only_one_step_decoder_1D, short_odd_shared_aclus_only_one_step_decoder_1D, long_even_shared_aclus_only_one_step_decoder_1D, short_even_shared_aclus_only_one_step_decoder_1D, global_spikes_df, global_laps, global_replays)\n",
    "\n",
    "## 2023-10-24 - Simple long/short (2-template, direction independent) analysis:\n",
    "# shuffle_helper = build_track_templates_for_shuffle(long_shared_aclus_only_decoder, short_shared_aclus_only_decoder, num_shuffles=1000, bimodal_exclude_aclus=[5, 14, 25, 46, 61, 66, 86, 88, 95])\n",
    "# shared_aclus_only_neuron_IDs = shuffle_helper.shared_aclus_only_neuron_IDs\n",
    "\n",
    "# 2023-10-26 - Direction Dependent (4 template) analysis: long_odd_shared_aclus_only_one_step_decoder_1D, long_even_shared_aclus_only_one_step_decoder_1D, short_odd_shared_aclus_only_one_step_decoder_1D, short_even_shared_aclus_only_one_step_decoder_1D\n",
    "odd_shuffle_helper = build_track_templates_for_shuffle(long_odd_shared_aclus_only_one_step_decoder_1D, short_odd_shared_aclus_only_one_step_decoder_1D, num_shuffles=60, bimodal_exclude_aclus=[])\n",
    "even_shuffle_helper = build_track_templates_for_shuffle(long_even_shared_aclus_only_one_step_decoder_1D, short_even_shared_aclus_only_one_step_decoder_1D, num_shuffles=60, bimodal_exclude_aclus=[])\n",
    "shared_aclus_only_neuron_IDs = odd_shuffle_helper.shared_aclus_only_neuron_IDs # same for both shuffler_helpers\n",
    "\n",
    "# shared_aclus_only_neuron_IDs, is_good_aclus, long_pf_peak_ranks, short_pf_peak_ranks, shuffled_aclus, shuffle_IDXs = astuple(shuffle_helper)\n",
    "spikes_df = deepcopy(global_spikes_df).spikes.sliced_by_neuron_id(track_templates.shared_aclus_only_neuron_IDs)\n",
    "spikes_df"
   ]
  },
  {
   "cell_type": "code",
   "execution_count": 124,
   "id": "27ac0b3d",
   "metadata": {},
   "outputs": [
    {
     "name": "stdout",
     "output_type": "stream",
     "text": [
      "DEPRICATION WARNING: workaround to allow subscripting ComputationResult objects. Will be depricated. key: computed_data\n"
     ]
    },
    {
     "data": {
      "text/html": [
       "<div>\n",
       "<style scoped>\n",
       "    .dataframe tbody tr th:only-of-type {\n",
       "        vertical-align: middle;\n",
       "    }\n",
       "\n",
       "    .dataframe tbody tr th {\n",
       "        vertical-align: top;\n",
       "    }\n",
       "\n",
       "    .dataframe thead th {\n",
       "        text-align: right;\n",
       "    }\n",
       "</style>\n",
       "<table border=\"1\" class=\"dataframe\">\n",
       "  <thead>\n",
       "    <tr style=\"text-align: right;\">\n",
       "      <th></th>\n",
       "      <th>t</th>\n",
       "      <th>t_seconds</th>\n",
       "      <th>t_rel_seconds</th>\n",
       "      <th>shank</th>\n",
       "      <th>cluster</th>\n",
       "      <th>aclu</th>\n",
       "      <th>qclu</th>\n",
       "      <th>x</th>\n",
       "      <th>y</th>\n",
       "      <th>speed</th>\n",
       "      <th>traj</th>\n",
       "      <th>lap</th>\n",
       "      <th>maze_relative_lap</th>\n",
       "      <th>maze_id</th>\n",
       "      <th>is_theta</th>\n",
       "      <th>is_ripple</th>\n",
       "      <th>theta_phase_radians</th>\n",
       "      <th>neuron_type</th>\n",
       "      <th>flat_spike_idx</th>\n",
       "      <th>x_loaded</th>\n",
       "      <th>y_loaded</th>\n",
       "      <th>lin_pos</th>\n",
       "      <th>fragile_linear_neuron_IDX</th>\n",
       "      <th>PBE_id</th>\n",
       "      <th>scISI</th>\n",
       "      <th>new_lap_IDX</th>\n",
       "    </tr>\n",
       "  </thead>\n",
       "  <tbody>\n",
       "    <tr>\n",
       "      <th>3891</th>\n",
       "      <td>183582.0</td>\n",
       "      <td>603791.492373</td>\n",
       "      <td>5.639636</td>\n",
       "      <td>12</td>\n",
       "      <td>2</td>\n",
       "      <td>99</td>\n",
       "      <td>6</td>\n",
       "      <td>260.445390</td>\n",
       "      <td>142.577429</td>\n",
       "      <td>5.407238</td>\n",
       "      <td>0</td>\n",
       "      <td>-1</td>\n",
       "      <td>-1</td>\n",
       "      <td>1</td>\n",
       "      <td>False</td>\n",
       "      <td>False</td>\n",
       "      <td>0.315129</td>\n",
       "      <td>NeuronType.PYRAMIDAL</td>\n",
       "      <td>3891</td>\n",
       "      <td>0.869483</td>\n",
       "      <td>0.506294</td>\n",
       "      <td>259.246329</td>\n",
       "      <td>97</td>\n",
       "      <td>-1</td>\n",
       "      <td>0.165949</td>\n",
       "      <td>0</td>\n",
       "    </tr>\n",
       "    <tr>\n",
       "      <th>3912</th>\n",
       "      <td>184405.0</td>\n",
       "      <td>603791.517656</td>\n",
       "      <td>5.664919</td>\n",
       "      <td>8</td>\n",
       "      <td>6</td>\n",
       "      <td>55</td>\n",
       "      <td>2</td>\n",
       "      <td>260.361660</td>\n",
       "      <td>142.414285</td>\n",
       "      <td>7.033885</td>\n",
       "      <td>0</td>\n",
       "      <td>-1</td>\n",
       "      <td>-1</td>\n",
       "      <td>1</td>\n",
       "      <td>False</td>\n",
       "      <td>False</td>\n",
       "      <td>1.577910</td>\n",
       "      <td>NeuronType.PYRAMIDAL</td>\n",
       "      <td>3912</td>\n",
       "      <td>0.869414</td>\n",
       "      <td>0.505770</td>\n",
       "      <td>259.111397</td>\n",
       "      <td>53</td>\n",
       "      <td>-1</td>\n",
       "      <td>1.623244</td>\n",
       "      <td>0</td>\n",
       "    </tr>\n",
       "    <tr>\n",
       "      <th>3961</th>\n",
       "      <td>186814.0</td>\n",
       "      <td>603791.591660</td>\n",
       "      <td>5.738923</td>\n",
       "      <td>8</td>\n",
       "      <td>19</td>\n",
       "      <td>62</td>\n",
       "      <td>4</td>\n",
       "      <td>259.941362</td>\n",
       "      <td>141.790058</td>\n",
       "      <td>10.623809</td>\n",
       "      <td>0</td>\n",
       "      <td>-1</td>\n",
       "      <td>-1</td>\n",
       "      <td>1</td>\n",
       "      <td>False</td>\n",
       "      <td>False</td>\n",
       "      <td>5.451313</td>\n",
       "      <td>NeuronType.PYRAMIDAL</td>\n",
       "      <td>3961</td>\n",
       "      <td>0.869209</td>\n",
       "      <td>0.504215</td>\n",
       "      <td>258.523010</td>\n",
       "      <td>60</td>\n",
       "      <td>-1</td>\n",
       "      <td>0.107090</td>\n",
       "      <td>0</td>\n",
       "    </tr>\n",
       "    <tr>\n",
       "      <th>3963</th>\n",
       "      <td>186942.0</td>\n",
       "      <td>603791.595592</td>\n",
       "      <td>5.742855</td>\n",
       "      <td>8</td>\n",
       "      <td>19</td>\n",
       "      <td>62</td>\n",
       "      <td>4</td>\n",
       "      <td>259.917486</td>\n",
       "      <td>141.755397</td>\n",
       "      <td>10.641719</td>\n",
       "      <td>0</td>\n",
       "      <td>-1</td>\n",
       "      <td>-1</td>\n",
       "      <td>1</td>\n",
       "      <td>False</td>\n",
       "      <td>False</td>\n",
       "      <td>5.665911</td>\n",
       "      <td>NeuronType.PYRAMIDAL</td>\n",
       "      <td>3963</td>\n",
       "      <td>0.869198</td>\n",
       "      <td>0.504134</td>\n",
       "      <td>258.490493</td>\n",
       "      <td>60</td>\n",
       "      <td>-1</td>\n",
       "      <td>0.003932</td>\n",
       "      <td>0</td>\n",
       "    </tr>\n",
       "    <tr>\n",
       "      <th>4000</th>\n",
       "      <td>189318.0</td>\n",
       "      <td>603791.668583</td>\n",
       "      <td>5.815846</td>\n",
       "      <td>10</td>\n",
       "      <td>14</td>\n",
       "      <td>91</td>\n",
       "      <td>6</td>\n",
       "      <td>259.494753</td>\n",
       "      <td>141.114875</td>\n",
       "      <td>10.359304</td>\n",
       "      <td>0</td>\n",
       "      <td>-1</td>\n",
       "      <td>-1</td>\n",
       "      <td>1</td>\n",
       "      <td>False</td>\n",
       "      <td>False</td>\n",
       "      <td>3.208321</td>\n",
       "      <td>NeuronType.PYRAMIDAL</td>\n",
       "      <td>4000</td>\n",
       "      <td>0.868998</td>\n",
       "      <td>0.502621</td>\n",
       "      <td>257.912692</td>\n",
       "      <td>89</td>\n",
       "      <td>-1</td>\n",
       "      <td>1.014282</td>\n",
       "      <td>0</td>\n",
       "    </tr>\n",
       "    <tr>\n",
       "      <th>4007</th>\n",
       "      <td>191070.0</td>\n",
       "      <td>603791.722404</td>\n",
       "      <td>5.869667</td>\n",
       "      <td>8</td>\n",
       "      <td>19</td>\n",
       "      <td>62</td>\n",
       "      <td>4</td>\n",
       "      <td>259.330538</td>\n",
       "      <td>140.693218</td>\n",
       "      <td>7.672758</td>\n",
       "      <td>0</td>\n",
       "      <td>-1</td>\n",
       "      <td>-1</td>\n",
       "      <td>1</td>\n",
       "      <td>False</td>\n",
       "      <td>False</td>\n",
       "      <td>5.935241</td>\n",
       "      <td>NeuronType.PYRAMIDAL</td>\n",
       "      <td>4007</td>\n",
       "      <td>0.868850</td>\n",
       "      <td>0.501498</td>\n",
       "      <td>257.642111</td>\n",
       "      <td>60</td>\n",
       "      <td>-1</td>\n",
       "      <td>0.126812</td>\n",
       "      <td>0</td>\n",
       "    </tr>\n",
       "    <tr>\n",
       "      <th>...</th>\n",
       "      <td>...</td>\n",
       "      <td>...</td>\n",
       "      <td>...</td>\n",
       "      <td>...</td>\n",
       "      <td>...</td>\n",
       "      <td>...</td>\n",
       "      <td>...</td>\n",
       "      <td>...</td>\n",
       "      <td>...</td>\n",
       "      <td>...</td>\n",
       "      <td>...</td>\n",
       "      <td>...</td>\n",
       "      <td>...</td>\n",
       "      <td>...</td>\n",
       "      <td>...</td>\n",
       "      <td>...</td>\n",
       "      <td>...</td>\n",
       "      <td>...</td>\n",
       "      <td>...</td>\n",
       "      <td>...</td>\n",
       "      <td>...</td>\n",
       "      <td>...</td>\n",
       "      <td>...</td>\n",
       "      <td>...</td>\n",
       "      <td>...</td>\n",
       "      <td>...</td>\n",
       "    </tr>\n",
       "    <tr>\n",
       "      <th>991352</th>\n",
       "      <td>67342217.0</td>\n",
       "      <td>605854.604584</td>\n",
       "      <td>2068.751847</td>\n",
       "      <td>7</td>\n",
       "      <td>13</td>\n",
       "      <td>48</td>\n",
       "      <td>9</td>\n",
       "      <td>213.094348</td>\n",
       "      <td>139.093839</td>\n",
       "      <td>1.050327</td>\n",
       "      <td>11</td>\n",
       "      <td>-1</td>\n",
       "      <td>-1</td>\n",
       "      <td>2</td>\n",
       "      <td>False</td>\n",
       "      <td>False</td>\n",
       "      <td>4.897404</td>\n",
       "      <td>NeuronType.PYRAMIDAL</td>\n",
       "      <td>991352</td>\n",
       "      <td>0.733039</td>\n",
       "      <td>0.485723</td>\n",
       "      <td>213.766685</td>\n",
       "      <td>46</td>\n",
       "      <td>-1</td>\n",
       "      <td>0.018033</td>\n",
       "      <td>79</td>\n",
       "    </tr>\n",
       "    <tr>\n",
       "      <th>991354</th>\n",
       "      <td>67342328.0</td>\n",
       "      <td>605854.607994</td>\n",
       "      <td>2068.755257</td>\n",
       "      <td>10</td>\n",
       "      <td>11</td>\n",
       "      <td>88</td>\n",
       "      <td>4</td>\n",
       "      <td>213.096380</td>\n",
       "      <td>139.096789</td>\n",
       "      <td>1.049211</td>\n",
       "      <td>11</td>\n",
       "      <td>-1</td>\n",
       "      <td>-1</td>\n",
       "      <td>2</td>\n",
       "      <td>False</td>\n",
       "      <td>False</td>\n",
       "      <td>5.172654</td>\n",
       "      <td>NeuronType.PYRAMIDAL</td>\n",
       "      <td>991354</td>\n",
       "      <td>0.733020</td>\n",
       "      <td>0.485826</td>\n",
       "      <td>213.764460</td>\n",
       "      <td>86</td>\n",
       "      <td>-1</td>\n",
       "      <td>1.078364</td>\n",
       "      <td>79</td>\n",
       "    </tr>\n",
       "    <tr>\n",
       "      <th>991363</th>\n",
       "      <td>67343164.0</td>\n",
       "      <td>605854.633676</td>\n",
       "      <td>2068.780939</td>\n",
       "      <td>12</td>\n",
       "      <td>21</td>\n",
       "      <td>108</td>\n",
       "      <td>4</td>\n",
       "      <td>213.111684</td>\n",
       "      <td>139.119005</td>\n",
       "      <td>1.040810</td>\n",
       "      <td>11</td>\n",
       "      <td>-1</td>\n",
       "      <td>-1</td>\n",
       "      <td>2</td>\n",
       "      <td>False</td>\n",
       "      <td>False</td>\n",
       "      <td>0.680530</td>\n",
       "      <td>NeuronType.PYRAMIDAL</td>\n",
       "      <td>991363</td>\n",
       "      <td>0.732887</td>\n",
       "      <td>0.486543</td>\n",
       "      <td>213.747707</td>\n",
       "      <td>106</td>\n",
       "      <td>-1</td>\n",
       "      <td>0.035666</td>\n",
       "      <td>79</td>\n",
       "    </tr>\n",
       "    <tr>\n",
       "      <th>991367</th>\n",
       "      <td>67343365.0</td>\n",
       "      <td>605854.639851</td>\n",
       "      <td>2068.787114</td>\n",
       "      <td>7</td>\n",
       "      <td>13</td>\n",
       "      <td>48</td>\n",
       "      <td>9</td>\n",
       "      <td>213.115345</td>\n",
       "      <td>139.124321</td>\n",
       "      <td>1.039604</td>\n",
       "      <td>11</td>\n",
       "      <td>-1</td>\n",
       "      <td>-1</td>\n",
       "      <td>2</td>\n",
       "      <td>False</td>\n",
       "      <td>False</td>\n",
       "      <td>1.064934</td>\n",
       "      <td>NeuronType.PYRAMIDAL</td>\n",
       "      <td>991367</td>\n",
       "      <td>0.732867</td>\n",
       "      <td>0.486646</td>\n",
       "      <td>213.743829</td>\n",
       "      <td>46</td>\n",
       "      <td>-1</td>\n",
       "      <td>0.035267</td>\n",
       "      <td>79</td>\n",
       "    </tr>\n",
       "    <tr>\n",
       "      <th>991378</th>\n",
       "      <td>67343818.0</td>\n",
       "      <td>605854.653767</td>\n",
       "      <td>2068.801030</td>\n",
       "      <td>12</td>\n",
       "      <td>21</td>\n",
       "      <td>108</td>\n",
       "      <td>4</td>\n",
       "      <td>213.123580</td>\n",
       "      <td>139.136275</td>\n",
       "      <td>1.037674</td>\n",
       "      <td>11</td>\n",
       "      <td>-1</td>\n",
       "      <td>-1</td>\n",
       "      <td>2</td>\n",
       "      <td>False</td>\n",
       "      <td>False</td>\n",
       "      <td>2.020767</td>\n",
       "      <td>NeuronType.PYRAMIDAL</td>\n",
       "      <td>991378</td>\n",
       "      <td>0.732822</td>\n",
       "      <td>0.486880</td>\n",
       "      <td>213.735233</td>\n",
       "      <td>106</td>\n",
       "      <td>-1</td>\n",
       "      <td>0.020091</td>\n",
       "      <td>79</td>\n",
       "    </tr>\n",
       "    <tr>\n",
       "      <th>991400</th>\n",
       "      <td>67344932.0</td>\n",
       "      <td>605854.687989</td>\n",
       "      <td>2068.835252</td>\n",
       "      <td>1</td>\n",
       "      <td>11</td>\n",
       "      <td>5</td>\n",
       "      <td>2</td>\n",
       "      <td>213.143962</td>\n",
       "      <td>139.165865</td>\n",
       "      <td>1.037885</td>\n",
       "      <td>11</td>\n",
       "      <td>-1</td>\n",
       "      <td>-1</td>\n",
       "      <td>2</td>\n",
       "      <td>False</td>\n",
       "      <td>False</td>\n",
       "      <td>4.114284</td>\n",
       "      <td>NeuronType.PYRAMIDAL</td>\n",
       "      <td>991400</td>\n",
       "      <td>0.732771</td>\n",
       "      <td>0.487145</td>\n",
       "      <td>213.714696</td>\n",
       "      <td>3</td>\n",
       "      <td>-1</td>\n",
       "      <td>3.723262</td>\n",
       "      <td>79</td>\n",
       "    </tr>\n",
       "  </tbody>\n",
       "</table>\n",
       "<p>40837 rows × 26 columns</p>\n",
       "</div>"
      ],
      "text/plain": [
       "                 t      t_seconds  t_rel_seconds  shank  cluster  aclu  qclu           x           y      speed  traj  lap  maze_relative_lap  maze_id  is_theta  is_ripple  theta_phase_radians           neuron_type  flat_spike_idx  x_loaded  y_loaded     lin_pos  fragile_linear_neuron_IDX  PBE_id     scISI  new_lap_IDX\n",
       "3891      183582.0  603791.492373       5.639636     12        2    99     6  260.445390  142.577429   5.407238     0   -1                 -1        1     False      False             0.315129  NeuronType.PYRAMIDAL            3891  0.869483  0.506294  259.246329                         97      -1  0.165949            0\n",
       "3912      184405.0  603791.517656       5.664919      8        6    55     2  260.361660  142.414285   7.033885     0   -1                 -1        1     False      False             1.577910  NeuronType.PYRAMIDAL            3912  0.869414  0.505770  259.111397                         53      -1  1.623244            0\n",
       "3961      186814.0  603791.591660       5.738923      8       19    62     4  259.941362  141.790058  10.623809     0   -1                 -1        1     False      False             5.451313  NeuronType.PYRAMIDAL            3961  0.869209  0.504215  258.523010                         60      -1  0.107090            0\n",
       "3963      186942.0  603791.595592       5.742855      8       19    62     4  259.917486  141.755397  10.641719     0   -1                 -1        1     False      False             5.665911  NeuronType.PYRAMIDAL            3963  0.869198  0.504134  258.490493                         60      -1  0.003932            0\n",
       "4000      189318.0  603791.668583       5.815846     10       14    91     6  259.494753  141.114875  10.359304     0   -1                 -1        1     False      False             3.208321  NeuronType.PYRAMIDAL            4000  0.868998  0.502621  257.912692                         89      -1  1.014282            0\n",
       "4007      191070.0  603791.722404       5.869667      8       19    62     4  259.330538  140.693218   7.672758     0   -1                 -1        1     False      False             5.935241  NeuronType.PYRAMIDAL            4007  0.868850  0.501498  257.642111                         60      -1  0.126812            0\n",
       "...            ...            ...            ...    ...      ...   ...   ...         ...         ...        ...   ...  ...                ...      ...       ...        ...                  ...                   ...             ...       ...       ...         ...                        ...     ...       ...          ...\n",
       "991352  67342217.0  605854.604584    2068.751847      7       13    48     9  213.094348  139.093839   1.050327    11   -1                 -1        2     False      False             4.897404  NeuronType.PYRAMIDAL          991352  0.733039  0.485723  213.766685                         46      -1  0.018033           79\n",
       "991354  67342328.0  605854.607994    2068.755257     10       11    88     4  213.096380  139.096789   1.049211    11   -1                 -1        2     False      False             5.172654  NeuronType.PYRAMIDAL          991354  0.733020  0.485826  213.764460                         86      -1  1.078364           79\n",
       "991363  67343164.0  605854.633676    2068.780939     12       21   108     4  213.111684  139.119005   1.040810    11   -1                 -1        2     False      False             0.680530  NeuronType.PYRAMIDAL          991363  0.732887  0.486543  213.747707                        106      -1  0.035666           79\n",
       "991367  67343365.0  605854.639851    2068.787114      7       13    48     9  213.115345  139.124321   1.039604    11   -1                 -1        2     False      False             1.064934  NeuronType.PYRAMIDAL          991367  0.732867  0.486646  213.743829                         46      -1  0.035267           79\n",
       "991378  67343818.0  605854.653767    2068.801030     12       21   108     4  213.123580  139.136275   1.037674    11   -1                 -1        2     False      False             2.020767  NeuronType.PYRAMIDAL          991378  0.732822  0.486880  213.735233                        106      -1  0.020091           79\n",
       "991400  67344932.0  605854.687989    2068.835252      1       11     5     2  213.143962  139.165865   1.037885    11   -1                 -1        2     False      False             4.114284  NeuronType.PYRAMIDAL          991400  0.732771  0.487145  213.714696                          3      -1  3.723262           79\n",
       "\n",
       "[40837 rows x 26 columns]"
      ]
     },
     "execution_count": 124,
     "metadata": {},
     "output_type": "execute_result"
    }
   ],
   "source": [
    "long_epoch_name, short_epoch_name, global_epoch_name = curr_active_pipeline.find_LongShortGlobal_epoch_names()\n",
    "global_spikes_df = deepcopy(curr_active_pipeline.computation_results[global_epoch_name]['computed_data'].pf1D.spikes_df)\n",
    "global_laps = deepcopy(curr_active_pipeline.filtered_sessions[global_epoch_name].laps)\n",
    "\n",
    "spikes_df = deepcopy(global_spikes_df).spikes.sliced_by_neuron_id(track_templates.shared_aclus_only_neuron_IDs)\n",
    "active_epochs_df = global_laps.as_epoch_obj().to_dataframe()\n",
    "\n",
    "# active_spikes_df = adding_lap_identity(active_spikes_df, active_epochs_df, no_interval_fill_value=-1, overlap_behavior=OverlappingIntervalsFallbackBehavior.ASSERT_FAIL)\n",
    "spikes_df = spikes_df.spikes.adding_lap_identity_column(active_epochs_df, epoch_id_key_name='new_lap_IDX')\n",
    "# active_spikes_df = active_spikes_df[(active_spikes_df.lap != -1)] # ['lap', 'maze_relative_lap', 'maze_id']\n",
    "spikes_df = spikes_df[(spikes_df['new_lap_IDX'] != -1)] # ['lap', 'maze_relative_lap', 'maze_id']\n",
    "spikes_df"
   ]
  },
  {
   "cell_type": "code",
   "execution_count": 94,
   "id": "c766a1e4",
   "metadata": {},
   "outputs": [],
   "source": [
    "## Get the spikes for the specific epoch only:\n",
    "active_epoch_idx: int = 1\n",
    "curr_epoch_spikes = spikes_df[(spikes_df.new_lap_IDX == active_epoch_idx)]\n",
    "curr_epoch_df = active_epochs_df[(active_epochs_df.lap_id == (active_epoch_idx+1))]"
   ]
  },
  {
   "cell_type": "code",
   "execution_count": null,
   "id": "b6c128fb",
   "metadata": {},
   "outputs": [],
   "source": [
    "# Validate laps:\n",
    "split_directional_laps_dict"
   ]
  },
  {
   "cell_type": "markdown",
   "id": "54fc9874",
   "metadata": {},
   "source": [
    "## 🔝🔜 TODO 2023-10-27 - Laps Data Validation\n",
    "Laps were found to be messed up for some reason, with exact duplicates, zero-duration values, and when attempted to be fixed with the Duration class like normal epochs it merged them an created many problems. Need to solve the Epochs problem more generally."
   ]
  },
  {
   "cell_type": "code",
   "execution_count": null,
   "id": "cf638367",
   "metadata": {},
   "outputs": [],
   "source": [
    "from neuropy.utils.efficient_interval_search import convert_PortionInterval_to_epochs_df, _convert_start_end_tuples_list_to_PortionInterval\n",
    "\n",
    "\n",
    "laps_epoch_obj: Epoch = deepcopy(global_laps).as_epoch_obj()\n",
    "original_laps_epoch_df = laps_epoch_obj.to_dataframe()\n",
    "\n",
    "\n",
    "filtered_laps_epoch_df = ensure_valid_laps_epochs(laps_epoch_obj)\n",
    "\n",
    "# filtered_laps_epoch_df: pd.DataFrame = deepcopy(laps_epoch_obj.to_dataframe()) #laps_epoch_obj.to_dataframe()\n",
    "\n",
    "\n",
    "filtered_epochs_df = convert_PortionInterval_to_epochs_df(_convert_start_end_tuples_list_to_PortionInterval(zip(filtered_laps_epoch_df.epochs.starts, filtered_laps_epoch_df.epochs.stops)))\n",
    "filtered_epochs_df\n"
   ]
  },
  {
   "cell_type": "code",
   "execution_count": null,
   "id": "d65db74c",
   "metadata": {},
   "outputs": [],
   "source": [
    "## GOTTA GET THE TEST LAPs as EPOCHS:\n"
   ]
  },
  {
   "cell_type": "code",
   "execution_count": null,
   "id": "0bbe3842",
   "metadata": {},
   "outputs": [],
   "source": [
    "\n"
   ]
  },
  {
   "cell_type": "code",
   "execution_count": null,
   "id": "db87a575",
   "metadata": {},
   "outputs": [],
   "source": [
    "laps_df = deepcopy(curr_active_pipeline.sess.laps.filter_to_valid()._df)\n",
    "\n",
    "\n"
   ]
  },
  {
   "cell_type": "code",
   "execution_count": null,
   "id": "e8d6a957",
   "metadata": {},
   "outputs": [],
   "source": [
    "original_laps_epoch_df"
   ]
  },
  {
   "cell_type": "code",
   "execution_count": null,
   "id": "485ad309",
   "metadata": {},
   "outputs": [],
   "source": [
    "# iterate through the pairs and insure no overlap:"
   ]
  },
  {
   "cell_type": "code",
   "execution_count": null,
   "id": "81ab413c",
   "metadata": {},
   "outputs": [],
   "source": [
    "laps_epoch_obj: Epoch = deepcopy(global_laps).as_epoch_obj()\n",
    "original_laps_epoch_df = laps_epoch_obj.to_dataframe()\n",
    "laps_epoch_df: pd.DataFrame = deepcopy(original_laps_epoch_df) #laps_epoch_obj.to_dataframe()\n",
    "\n",
    "# filtered_laps_epoch_obj = laps_epoch_obj.get_non_overlapping()#.filtered_by_duration(min_duration=1.0, max_duration=30.0) # between 1-30 seconds\n",
    "_intermedia_start_end_tuples_list = laps_epoch_df.epochs.get_start_stop_tuples_list()\n",
    "\n",
    "filtered_epochs_df = convert_PortionInterval_to_epochs_df(_convert_start_end_tuples_list_to_PortionInterval(zip(laps_epoch_df.epochs.starts, laps_epoch_df.epochs.stops)))\n",
    "\n",
    "\n",
    "## Extract the matching indicies from the original start_end_tuples_list to get the corresponding data entries\n",
    "data_indicies = []\n",
    "# data_mapping = {}\n",
    "\n",
    "# _intermedia_start_end_tuples_list\n",
    "for a_tuple in list(filtered_epochs_df.itertuples(index=False)):\n",
    "\t# (start, stop, label)\n",
    "\t# print(f'start: {a_tuple.start}, stop: {a_tuple.stop}')\n",
    "\t# (a_tuple.start, a_tuple.stop) in \n",
    "\tif (a_tuple.start, a_tuple.stop) in _intermedia_start_end_tuples_list:\n",
    "\t\tfound_index = _intermedia_start_end_tuples_list.index((a_tuple.start, a_tuple.stop))\n",
    "\t\t# print(f'\\tfound_index: {found_index}')\n",
    "\t\tdata_indicies.append(found_index)\n",
    "\n",
    "data_indicies = np.array(data_indicies)\n",
    "data_indicies"
   ]
  },
  {
   "cell_type": "code",
   "execution_count": null,
   "id": "1bdf4542",
   "metadata": {},
   "outputs": [],
   "source": [
    "filtered_epochs_df = convert_PortionInterval_to_epochs_df(_convert_start_end_tuples_list_to_PortionInterval(zip(laps_epoch_df.epochs.starts, laps_epoch_df.epochs.stops)))\n",
    "filtered_epochs_df\n"
   ]
  },
  {
   "cell_type": "code",
   "execution_count": null,
   "id": "964e3741",
   "metadata": {},
   "outputs": [],
   "source": [
    "filtered_epochs_df"
   ]
  },
  {
   "cell_type": "code",
   "execution_count": null,
   "id": "21f12aea",
   "metadata": {},
   "outputs": [],
   "source": [
    "_intermedia_start_end_tuples_list"
   ]
  },
  {
   "cell_type": "code",
   "execution_count": null,
   "id": "f01afb87",
   "metadata": {},
   "outputs": [],
   "source": [
    "is_epoch_included = np.array([(a_tuple.start, a_tuple.stop) in _intermedia_start_end_tuples_list for a_tuple in list(filtered_epochs_df.itertuples(index=False))])\n",
    "is_epoch_included"
   ]
  },
  {
   "cell_type": "code",
   "execution_count": null,
   "id": "8a7e991a",
   "metadata": {},
   "outputs": [],
   "source": [
    "filtered_epochs_df.index.to_numpy()[is_epoch_included]\n",
    "\n",
    "# np.all(data_indicies == filtered_epochs_df.index.to_numpy()[is_epoch_included])"
   ]
  },
  {
   "cell_type": "code",
   "execution_count": null,
   "id": "ef0ce4b3",
   "metadata": {},
   "outputs": [],
   "source": [
    "laps_epoch_df.iloc[data_indicies]"
   ]
  },
  {
   "cell_type": "code",
   "execution_count": null,
   "id": "a5fa6477",
   "metadata": {},
   "outputs": [],
   "source": [
    "data_indicies"
   ]
  },
  {
   "cell_type": "code",
   "execution_count": null,
   "id": "dbb1a8f4",
   "metadata": {},
   "outputs": [],
   "source": [
    "extra_data_df.iloc[data_indicies]"
   ]
  },
  {
   "cell_type": "code",
   "execution_count": null,
   "id": "b3a7f13e",
   "metadata": {},
   "outputs": [],
   "source": [
    "list(laps_epoch_df.itertuples(index=False))"
   ]
  },
  {
   "cell_type": "code",
   "execution_count": null,
   "id": "93f9170c",
   "metadata": {},
   "outputs": [],
   "source": [
    "laps_epoch_df"
   ]
  },
  {
   "cell_type": "code",
   "execution_count": null,
   "id": "13fe03f7",
   "metadata": {},
   "outputs": [],
   "source": [
    "extra_data_df"
   ]
  },
  {
   "cell_type": "code",
   "execution_count": null,
   "id": "988f3e31",
   "metadata": {},
   "outputs": [],
   "source": [
    "filtered_epochs_df.join(laps_epoch_df.set_index(['start', 'stop']), on=['start', 'stop'])"
   ]
  },
  {
   "cell_type": "code",
   "execution_count": null,
   "id": "8f32bb69",
   "metadata": {},
   "outputs": [],
   "source": [
    "_intermedia_start_end_tuples_list"
   ]
  },
  {
   "cell_type": "code",
   "execution_count": null,
   "id": "817f1118",
   "metadata": {},
   "outputs": [],
   "source": [
    "# laps_epoch_obj.get_start_stop_tuples_list()"
   ]
  },
  {
   "cell_type": "code",
   "execution_count": null,
   "id": "ccf66cf3",
   "metadata": {},
   "outputs": [],
   "source": [
    "filtered_laps_epoch_obj"
   ]
  },
  {
   "cell_type": "code",
   "execution_count": null,
   "id": "0f87c45b",
   "metadata": {},
   "outputs": [],
   "source": [
    "laps_epoch_obj == filtered_laps_epoch_obj"
   ]
  },
  {
   "cell_type": "code",
   "execution_count": null,
   "id": "9677053e",
   "metadata": {},
   "outputs": [],
   "source": [
    "type(filtered_laps_epoch_obj)"
   ]
  },
  {
   "cell_type": "code",
   "execution_count": null,
   "id": "71975cb3",
   "metadata": {},
   "outputs": [],
   "source": [
    "\n",
    "if isinstance(global_replays, pd.DataFrame):\n",
    "\tglobal_replays = Epoch(global_replays.epochs.get_valid_df())\n",
    "\n",
    "## Replay Epochs:\n",
    "# ripple_evts_epoch_ranked_aclus_stats_dict, (ripple_evts_long_z_score_values, ripple_evts_short_z_score_values, ripple_evts_long_short_z_score_diff_values) = compute_shuffled_rankorder_analyses(active_spikes_df, deepcopy(global_replays), shuffle_helper, rank_alignment='first', debug_print=False)\n",
    "odd_ripple_evts_epoch_ranked_aclus_stats_dict, (odd_ripple_evts_long_z_score_values, odd_ripple_evts_short_z_score_values, odd_ripple_evts_long_short_z_score_diff_values) = compute_shuffled_rankorder_analyses(active_spikes_df, deepcopy(global_replays), odd_shuffle_helper, rank_alignment='first', debug_print=False)\n",
    "even_ripple_evts_epoch_ranked_aclus_stats_dict, (even_ripple_evts_long_z_score_values, even_ripple_evts_short_z_score_values, even_ripple_evts_long_short_z_score_diff_values) = compute_shuffled_rankorder_analyses(active_spikes_df, deepcopy(global_replays), even_shuffle_helper, rank_alignment='first', debug_print=False)\n",
    "\n",
    "ripple_evts_paired_tests = [pho_stats_paired_t_test(long_z_score_values, short_z_score_values) for long_z_score_values, short_z_score_values in zip((odd_ripple_evts_long_z_score_values, odd_ripple_evts_short_z_score_values), (even_ripple_evts_long_z_score_values, even_ripple_evts_short_z_score_values))]\n"
   ]
  },
  {
   "cell_type": "code",
   "execution_count": null,
   "id": "ebde1d30",
   "metadata": {},
   "outputs": [],
   "source": [
    "replay_fig, replay_ax = RankOrderAnalyses._plot_ripple_events_shuffle_analysis(odd_ripple_evts_long_short_z_score_diff_values, global_replays, suffix_str='_odd')\n",
    "replay_fig, replay_ax = RankOrderAnalyses._plot_ripple_events_shuffle_analysis(even_ripple_evts_long_short_z_score_diff_values, global_replays, suffix_str='_even')"
   ]
  },
  {
   "cell_type": "code",
   "execution_count": null,
   "id": "3f4d05e7",
   "metadata": {},
   "outputs": [],
   "source": [
    "from neuropy.core.laps import Laps\n",
    "\n",
    "global_laps = global_laps.filter_to_valid().trimmed_to_non_overlapping()\n",
    "global_laps\n",
    "# laps_epoch_obj: Epoch = deepcopy(global_laps).as_epoch_obj()\n",
    "# original_laps_epoch_df = laps_epoch_obj.to_dataframe()        \n",
    "# filtered_laps_epoch_df = Laps.ensure_valid_laps_epochs_df(original_laps_epoch_df)\n",
    "# filtered_laps_epoch_df"
   ]
  },
  {
   "cell_type": "code",
   "execution_count": null,
   "id": "5c4cec0d",
   "metadata": {},
   "outputs": [],
   "source": [
    "## Laps Epochs:\n",
    "# TODO: CenterOfMass for Laps instead of median spike\n",
    "# laps_rank_alignment = 'median'\n",
    "laps_rank_alignment = 'center_of_mass'\n",
    "\n",
    "odd_laps_epoch_ranked_aclus_stats_dict, (odd_laps_long_z_score_values, odd_laps_short_z_score_values, odd_laps_long_short_z_score_diff_values) = compute_shuffled_rankorder_analyses(active_spikes_df, deepcopy(global_laps), odd_shuffle_helper, rank_alignment=laps_rank_alignment, debug_print=False)\n",
    "even_laps_epoch_ranked_aclus_stats_dict, (even_laps_long_z_score_values, even_laps_short_z_score_values, even_laps_long_short_z_score_diff_values) = compute_shuffled_rankorder_analyses(active_spikes_df, deepcopy(global_laps), even_shuffle_helper, rank_alignment=laps_rank_alignment, debug_print=False)\n",
    "\n",
    "laps_paired_tests = [pho_stats_paired_t_test(long_z_score_values, short_z_score_values) for long_z_score_values, short_z_score_values in zip((odd_laps_long_z_score_values, odd_laps_short_z_score_values), (even_laps_long_z_score_values, even_laps_short_z_score_values))]\n",
    "\n",
    "## Plots:\n",
    "\n",
    "laps_fig, laps_ax = RankOrderAnalyses._plot_laps_shuffle_analysis(odd_laps_long_short_z_score_diff_values, suffix_str='_odd')\n",
    "laps_fig, laps_ax = RankOrderAnalyses._plot_laps_shuffle_analysis(even_laps_long_short_z_score_diff_values, suffix_str='_even')\n"
   ]
  },
  {
   "cell_type": "code",
   "execution_count": null,
   "id": "d24d38d4",
   "metadata": {},
   "outputs": [],
   "source": []
  },
  {
   "cell_type": "code",
   "execution_count": null,
   "id": "80e62b16",
   "metadata": {},
   "outputs": [],
   "source": [
    "print(f'shared_aclus_only_neuron_IDs:\\t{print_array(shared_aclus_only_neuron_IDs)}')\n",
    "print(f'long_pf_peak_ranks:\\t{print_array(odd_shuffle_helper.long_pf_peak_ranks)}')\n",
    "print(f'short_pf_peak_ranks:\\t{print_array(odd_shuffle_helper.short_pf_peak_ranks)}')"
   ]
  },
  {
   "cell_type": "code",
   "execution_count": null,
   "id": "f94ac886",
   "metadata": {},
   "outputs": [],
   "source": [
    "_out = visualize_heatmap_pyqtgraph(np.vstack([odd_shuffle_helper.long_pf_peak_ranks, odd_shuffle_helper.short_pf_peak_ranks, even_shuffle_helper.long_pf_peak_ranks, even_shuffle_helper.short_pf_peak_ranks]), show_value_labels=True, show_xticks=True, show_yticks=True, show_colorbar=False)\n"
   ]
  },
  {
   "cell_type": "code",
   "execution_count": null,
   "id": "78aeeafe",
   "metadata": {},
   "outputs": [],
   "source": [
    "## Replay Epochs:\n",
    "# ripple_evts_epoch_ranked_aclus_stats_dict, (ripple_evts_long_z_score_values, ripple_evts_short_z_score_values, ripple_evts_long_short_z_score_diff_values) = compute_shuffled_rankorder_analyses(active_spikes_df, deepcopy(global_replays), shuffle_helper, rank_alignment='first', debug_print=False)\n",
    "\n",
    "odd_ripple_evts_epoch_ranked_aclus_stats_dict, (odd_ripple_evts_long_z_score_values, odd_ripple_evts_short_z_score_values, odd_ripple_evts_long_short_z_score_diff_values) = compute_shuffled_rankorder_analyses(active_spikes_df, deepcopy(global_replays), odd_shuffle_helper, rank_alignment='first', debug_print=False)\n",
    "even_ripple_evts_epoch_ranked_aclus_stats_dict, (even_ripple_evts_long_z_score_values, even_ripple_evts_short_z_score_values, even_ripple_evts_long_short_z_score_diff_values) = compute_shuffled_rankorder_analyses(active_spikes_df, deepcopy(global_replays), even_shuffle_helper, rank_alignment='first', debug_print=False)\n",
    "\n",
    "\n",
    "# 20.2sec - num_shuffles=100\n",
    "# run_time = np.array([20.2, 120.0])\n",
    "# num_shuffles = np.array([100, 600]\n",
    "\n",
    "# 6m 2.6s - num_shuffles=600\n",
    "# ripple_evts_paired_test = pho_stats_paired_t_test(ripple_evts_long_z_score_values, ripple_evts_short_z_score_values) # this doesn't seem to work well\n",
    "# ripple_evts_paired_test # TtestResult(statistic=-0.15755633036922276, pvalue=0.8748705351907942, df=496)\n",
    "\n",
    "[pho_stats_paired_t_test(ripple_evts_long_z_score_values, ripple_evts_short_z_score_values) for ripple_evts_long_z_score_values, ripple_evts_short_z_score_values in zip((odd_ripple_evts_long_z_score_values, odd_ripple_evts_short_z_score_values), (even_ripple_evts_long_z_score_values, even_ripple_evts_short_z_score_values))]\n",
    "\n",
    "# [TtestResult(statistic=-0.5842577594273011, pvalue=0.5592266698251611, df=733),\n",
    "#  TtestResult(statistic=-6.667959359602763, pvalue=5.106147232311113e-11, df=733)]\n",
    "\n",
    "# Directional 2023-10-26:\n",
    "# [TtestResult(statistic=-1.0992599981462836, pvalue=0.27234697599778135, df=382),\n",
    "#  TtestResult(statistic=-5.3266665446502595, pvalue=1.7121959871047934e-07, df=382)]"
   ]
  },
  {
   "cell_type": "code",
   "execution_count": null,
   "id": "b47a2a68",
   "metadata": {},
   "outputs": [],
   "source": [
    "## Plot Ripple-Events Analysis\n",
    "replay_fig, replay_ax = _plot_ripple_events_shuffle_analysis(odd_ripple_evts_long_short_z_score_diff_values, global_replays, suffix_str='_odd')\n",
    "replay_fig, replay_ax = _plot_ripple_events_shuffle_analysis(even_ripple_evts_long_short_z_score_diff_values, global_replays, suffix_str='_even')"
   ]
  },
  {
   "cell_type": "markdown",
   "id": "ba0c812b",
   "metadata": {},
   "source": [
    "### Sanity-check with LAPS:"
   ]
  },
  {
   "cell_type": "code",
   "execution_count": null,
   "id": "77459d03",
   "metadata": {},
   "outputs": [],
   "source": [
    "# laps_epoch_ranked_aclus_stats_dict, (laps_long_z_score_values, laps_short_z_score_values, laps_long_short_z_score_diff_values) = compute_shuffled_rankorder_analyses(active_spikes_df, deepcopy(global_laps), shuffle_helper, rank_alignment='median', debug_print=False)\n",
    "# 19.2s - num_shuffles=600\n",
    "\n",
    "\n",
    "## TODO: CenterOfMass for Laps instead of median spike\n",
    "\n",
    "odd_laps_epoch_ranked_aclus_stats_dict, (odd_laps_long_z_score_values, odd_laps_short_z_score_values, odd_laps_long_short_z_score_diff_values) = compute_shuffled_rankorder_analyses(active_spikes_df, deepcopy(global_laps).trimmed_to_non_overlapping(), odd_shuffle_helper, rank_alignment='median', debug_print=False)\n",
    "even_laps_epoch_ranked_aclus_stats_dict, (even_laps_long_z_score_values, even_laps_short_z_score_values, even_laps_long_short_z_score_diff_values) = compute_shuffled_rankorder_analyses(active_spikes_df, deepcopy(global_laps).trimmed_to_non_overlapping(), even_shuffle_helper, rank_alignment='median', debug_print=False)"
   ]
  },
  {
   "cell_type": "code",
   "execution_count": null,
   "id": "e9c004a9",
   "metadata": {},
   "outputs": [],
   "source": [
    "# laps_paired_test = pho_stats_paired_t_test(laps_long_z_score_values, laps_short_z_score_values) # this doesn't seem to work well\n",
    "# laps_paired_test # TtestResult(statistic=4.788175413564833, pvalue=7.851214250247289e-06, df=78)\n",
    "[pho_stats_paired_t_test(ripple_evts_long_z_score_values, ripple_evts_short_z_score_values) for ripple_evts_long_z_score_values, ripple_evts_short_z_score_values in zip((odd_laps_long_z_score_values, odd_laps_short_z_score_values), (even_laps_long_z_score_values, even_laps_short_z_score_values))]\n"
   ]
  },
  {
   "cell_type": "code",
   "execution_count": null,
   "id": "925edc88",
   "metadata": {},
   "outputs": [],
   "source": [
    "## Plot Laps Analysis\n",
    "laps_fig, laps_ax = _plot_laps_shuffle_analysis(odd_laps_long_short_z_score_diff_values, suffix_str='_odd')\n",
    "laps_fig, laps_ax = _plot_laps_shuffle_analysis(even_laps_long_short_z_score_diff_values, suffix_str='_even')"
   ]
  },
  {
   "cell_type": "code",
   "execution_count": null,
   "id": "ffb1478e",
   "metadata": {},
   "outputs": [],
   "source": []
  },
  {
   "cell_type": "code",
   "execution_count": null,
   "id": "4e307078",
   "metadata": {},
   "outputs": [],
   "source": [
    "# un\n",
    "laps_fig, laps_ax = plt.subplots()\n",
    "suffix_str = 'laps_new'\n",
    "laps_ax.scatter(np.arange(len(odd_laps_long_z_score_values)), odd_laps_long_z_score_values, label=f'laps{suffix_str}_long')\n",
    "laps_ax.scatter(np.arange(len(odd_laps_short_z_score_values)), odd_laps_short_z_score_values, label=f'laps{suffix_str}_short')\n",
    "plt.title(f'Rank-Order Long-Short ZScore Diff for Laps over time ({suffix_str})')\n",
    "plt.ylabel(f'Long-Short Z-Score Diff ({suffix_str})')\n",
    "plt.xlabel('Lap Index')"
   ]
  },
  {
   "cell_type": "code",
   "execution_count": null,
   "id": "48bd1cad",
   "metadata": {},
   "outputs": [],
   "source": [
    "laps_fig, laps_ax = plt.subplots()\n",
    "suffix_str = 'laps_new'\n",
    "laps_ax.scatter(np.arange(len(even_laps_long_z_score_values)), even_laps_long_z_score_values, label=f'laps{suffix_str}_long')\n",
    "laps_ax.scatter(np.arange(len(even_laps_long_z_score_values)), even_laps_short_z_score_values, label=f'laps{suffix_str}_short')\n",
    "plt.title(f'Rank-Order Long-Short ZScore Diff for Laps over time ({suffix_str})')\n",
    "plt.ylabel(f'Long-Short Z-Score Diff ({suffix_str})')\n",
    "plt.xlabel('Lap Index')"
   ]
  },
  {
   "cell_type": "code",
   "execution_count": null,
   "id": "d7ba8a8e",
   "metadata": {},
   "outputs": [],
   "source": [
    "plt.legend()"
   ]
  },
  {
   "cell_type": "code",
   "execution_count": null,
   "id": "25f5b091",
   "metadata": {},
   "outputs": [],
   "source": [
    "\n",
    "fig, ax = plt.subplots()\n",
    "ax.scatter(np.arange(len(long_short_z_score_diff_values)), long_short_z_score_diff_values)"
   ]
  },
  {
   "cell_type": "code",
   "execution_count": null,
   "id": "f49ef994",
   "metadata": {},
   "outputs": [],
   "source": []
  },
  {
   "cell_type": "markdown",
   "id": "78167c30",
   "metadata": {},
   "source": [
    "# Test"
   ]
  },
  {
   "cell_type": "markdown",
   "id": "adbd4843",
   "metadata": {},
   "source": [
    "epoch_id: 506\n",
    "epoch_neuron_IDXs: [15,19,25,52]\n",
    "epoch_neuron_IDX_ranks: [3,1,2,4]\n",
    "active_epoch_aclu_long_ranks[506]: [10,48,50,45]\n",
    "active_epoch_aclu_short_ranks[506]: [37,47,50,49]"
   ]
  },
  {
   "cell_type": "code",
   "execution_count": null,
   "id": "aeaab9d4",
   "metadata": {},
   "outputs": [],
   "source": [
    "test_ranks0 = np.array([10,48,50,45])\n",
    "test_ranks1 = np.array([37,47,50,49])"
   ]
  },
  {
   "cell_type": "code",
   "execution_count": null,
   "id": "42dbfe8d",
   "metadata": {},
   "outputs": [],
   "source": [
    "re_ranks0 = scipy.stats.rankdata(test_ranks0) # computes the relative ranks\n",
    "re_ranks0"
   ]
  },
  {
   "cell_type": "code",
   "execution_count": null,
   "id": "4a607502",
   "metadata": {},
   "outputs": [],
   "source": [
    "hand_re_ranks0 = np.array([0, 2, 3, 1])+1\n",
    "display(re_ranks0)"
   ]
  },
  {
   "cell_type": "code",
   "execution_count": null,
   "id": "e766c718",
   "metadata": {},
   "outputs": [],
   "source": [
    "re_ranks1 = np.array([0, 1, 3, 2])+1\n",
    "display(re_ranks1)"
   ]
  },
  {
   "cell_type": "code",
   "execution_count": null,
   "id": "d69738af",
   "metadata": {},
   "outputs": [],
   "source": [
    "scipy.stats.rankdata(test_ranks1)"
   ]
  },
  {
   "cell_type": "code",
   "execution_count": null,
   "id": "bed08454",
   "metadata": {},
   "outputs": [],
   "source": [
    "re_ranks0"
   ]
  },
  {
   "cell_type": "code",
   "execution_count": null,
   "id": "9506adfa",
   "metadata": {},
   "outputs": [],
   "source": [
    "# active_epoch_aclu_long_ranks[18]: [46 38 28 11 45]\n",
    "# active_epoch_aclu_short_ranks[18]: [44 46 32 10 49]"
   ]
  },
  {
   "cell_type": "code",
   "execution_count": null,
   "id": "ce1af1e6",
   "metadata": {},
   "outputs": [],
   "source": [
    "long_z_score_values"
   ]
  },
  {
   "cell_type": "code",
   "execution_count": null,
   "id": "5cda1267",
   "metadata": {},
   "outputs": [],
   "source": [
    "short_z_score_values"
   ]
  },
  {
   "cell_type": "code",
   "execution_count": null,
   "id": "810dc016",
   "metadata": {},
   "outputs": [],
   "source": [
    "## 2023-10-23 - Future - Number of Swaps-basded ranking\n",
    "# https://www.interviewbit.com/blog/minimum-swaps-problem/ \n",
    "# Time Complexity: O(n * logn)\n",
    "# Space Complexity: O(n)\n",
    "\n",
    "\n",
    "def dfs(vec, vis, node, compSize):\n",
    "    vis[node] = True\n",
    "    compSize[0] += 1\n",
    "    for x in vec[node]:\n",
    "        if not vis[x]:\n",
    "            dfs(vec, vis, x, compSize)\n",
    "\n",
    "\n",
    "def minimumSwaps(a, n):\n",
    "    aux = [*enumerate(a)]\n",
    "    aux.sort(key=lambda it: it[1])\n",
    "    vis = [False] * (n + 1)\n",
    "    vec = [[] for i in range(n + 1)]\n",
    "    for i in range(n):\n",
    "        vec[aux[i][0] + 1].append(i + 1)\n",
    "    ans = 0\n",
    "    for i in range(1, n + 1):\n",
    "        compSize = [0]\n",
    "        if not vis[i]:\n",
    "            dfs(vec, vis, i, compSize)\n",
    "            ans += compSize[0] - 1\n",
    "    return ans\n",
    "\n"
   ]
  },
  {
   "cell_type": "code",
   "execution_count": null,
   "id": "b8b1ae50",
   "metadata": {},
   "outputs": [],
   "source": [
    "\n"
   ]
  },
  {
   "cell_type": "code",
   "execution_count": null,
   "id": "d129f980",
   "metadata": {},
   "outputs": [],
   "source": [
    "from PendingNotebookCode import Zscorer\n",
    "\n",
    "# Get all aclus and epoch_idxs used throughout the entire spikes_df:\n",
    "all_aclus = active_spikes_df['aclu'].unique()\n",
    "all_probe_epoch_ids = active_spikes_df['Probe_Epoch_id'].unique()\n",
    "\n",
    "selected_spikes = active_spikes_df.groupby(['Probe_Epoch_id', 'aclu'])[active_spikes_df.spikes.time_variable_name].first() # first spikes\n",
    "# selected_spikes = active_spikes_df.groupby(['Probe_Epoch_id', 'aclu'])[active_spikes_df.spikes.time_variable_name].median() # median spikes\n",
    "\n",
    "# rank the aclu values by their first t value in each Probe_Epoch_id\n",
    "ranked_aclus = selected_spikes.groupby('Probe_Epoch_id').rank(method='dense') # resolve ties in ranking by assigning the same rank to each and then incrimenting for the next item\n",
    "\n",
    "# create a nested dictionary of {Probe_Epoch_id: {aclu: rank}} from the ranked_aclu values\n",
    "epoch_ranked_aclus_dict = {}\n",
    "epoch_ranked_fragile_linear_neuron_IDX_dict = {} # structure is different \n",
    "\n",
    "for (epoch_id, aclu), rank in zip(ranked_aclus.index, ranked_aclus):\n",
    "\tif epoch_id not in epoch_ranked_aclus_dict:\n",
    "\t\tepoch_ranked_aclus_dict[epoch_id] = {}\n",
    "\t\tepoch_ranked_fragile_linear_neuron_IDX_dict[epoch_id] = []\n",
    "\tepoch_ranked_aclus_dict[epoch_id][aclu] = int(rank)\n",
    "\t\n",
    "\tneuron_IDX = active_aclu_to_fragile_linear_neuron_IDX_dict[aclu]\n",
    "\tepoch_ranked_fragile_linear_neuron_IDX_dict[epoch_id].append((neuron_IDX, int(rank)))\n",
    "\n",
    "# Convert all to np.ndarrays post-hoc:\n",
    "epoch_ranked_fragile_linear_neuron_IDX_dict = {epoch_id:np.array(epoch_ranked_fragile_linear_neuron_IDXs) for epoch_id, epoch_ranked_fragile_linear_neuron_IDXs in epoch_ranked_fragile_linear_neuron_IDX_dict.items()}\n",
    "\n"
   ]
  },
  {
   "cell_type": "code",
   "execution_count": null,
   "id": "e4962723",
   "metadata": {},
   "outputs": [],
   "source": [
    "from pyphoplacecellanalysis.General.Batch.PhoDiba2023Paper import pho_stats_paired_t_test\n"
   ]
  },
  {
   "cell_type": "code",
   "execution_count": null,
   "id": "c05823e3",
   "metadata": {},
   "outputs": [],
   "source": [
    "\n",
    "for epoch_id, epoch_stats in epoch_ranked_aclus_stats_dict.items():\n",
    "\tlong_stats_z_scorer, short_stats_z_scorer, long_short_z_diff = epoch_stats\n",
    "\tpaired_test = pho_stats_paired_t_test(long_stats_z_scorer.z_score_values, short_stats_z_scorer.z_score_values) # this doesn't seem to work well\n",
    "\n"
   ]
  },
  {
   "cell_type": "code",
   "execution_count": null,
   "id": "e57e0ad6",
   "metadata": {},
   "outputs": [],
   "source": [
    "pho_stats_paired_t_test(long_stats_z_scorer.z_score_values, short_stats_z_scorer.z_score_values)"
   ]
  },
  {
   "cell_type": "code",
   "execution_count": null,
   "id": "ef6e4c44",
   "metadata": {},
   "outputs": [],
   "source": [
    "epoch_ranked_aclus_stats_dict"
   ]
  },
  {
   "cell_type": "code",
   "execution_count": null,
   "id": "6aad254b",
   "metadata": {},
   "outputs": [],
   "source": [
    "test_epoch_id = 1\n",
    "long_spearmanr_rank_stats_results, short_spearmanr_rank_stats_results = epoch_ranked_aclus_stats_dict[test_epoch_id]\n",
    "long_spearmanr_rank_stats_results\n",
    "\n",
    "long_stats_corr_values = long_spearmanr_rank_stats_results[:,0]\n",
    "short_stats_corr_values = short_spearmanr_rank_stats_results[:,0]\n",
    "\n",
    "# long_stats_z_values = Zscore(long_stats_corr_values, mean=np.mean(long_stats_corr_values), stdev=np.std(long_stats_corr_values))\n",
    "# short_stats_z_values = Zscore(short_stats_corr_values, mean=np.mean(short_stats_corr_values), stdev=np.std(short_stats_corr_values))\n",
    "\n",
    "long_stats_z_values = Zscorer.init_from_values(long_stats_corr_values)\n",
    "short_stats_z_values = Zscorer.init_from_values(short_stats_corr_values)\n",
    "\n",
    "# long_short_z_diff = long_stats_z_values - short_stats_z_values\n",
    "long_short_z_diff = long_stats_z_values.z_score_values - short_stats_z_values.z_score_values\n",
    "long_short_z_diff"
   ]
  },
  {
   "cell_type": "code",
   "execution_count": null,
   "id": "4990cd71",
   "metadata": {},
   "outputs": [],
   "source": [
    "\n",
    "epoch_ranked_aclus_stats_dict = {epoch_id:scipy.stats.spearmanr(np.array(list(rank_dict.keys())), np.array(list(rank_dict.values()))) for epoch_id, rank_dict in epoch_ranked_aclus_dict.items()}\n",
    "# epoch_ranked_aclus_stats_dict\n",
    "\n",
    "# Spearman statistic (correlation) values:\n",
    "epoch_ranked_aclus_stats_corr_values = np.array([np.abs(rank_stats.statistic) for epoch_id, rank_stats in epoch_ranked_aclus_stats_dict.items()])\n",
    "outside_epochs_ranked_aclus_stats_corr_value = epoch_ranked_aclus_stats_corr_values[0]\n",
    "epoch_ranked_aclus_stats_corr_values = epoch_ranked_aclus_stats_corr_values[1:] # drop the first value corresponding to the -1 index. Now they correspond only to valid epoch_ids\n",
    "\n",
    "# Spearman p-values:\n",
    "epoch_ranked_aclus_stats_p_values = np.array([rank_stats.pvalue for epoch_id, rank_stats in epoch_ranked_aclus_stats_dict.items()])\n",
    "outside_epochs_ranked_aclus_stats_p_value = epoch_ranked_aclus_stats_p_values[0]\n",
    "epoch_ranked_aclus_stats_p_values = epoch_ranked_aclus_stats_p_values[1:] # drop the first value corresponding to the -1 index. Now they correspond only to valid epoch_ids\n"
   ]
  },
  {
   "cell_type": "markdown",
   "id": "4b48c09c",
   "metadata": {},
   "source": [
    "## 2023-10-19 - Rank-Order Spike Timing in Replay epoch analyses:\n"
   ]
  },
  {
   "cell_type": "code",
   "execution_count": null,
   "id": "1d1f4190",
   "metadata": {
    "tags": [
     "spike_laps"
    ]
   },
   "outputs": [],
   "source": [
    "from PendingNotebookCode import SpikesRankOrder\n",
    "from neuropy.utils.efficient_interval_search import filter_epochs_by_num_active_units\n",
    "from pyphoplacecellanalysis.PhoPositionalData.plotting.laps import plot_laps_2d\n",
    "\n",
    "# active_sess = curr_active_pipeline.filtered_sessions['maze']\n",
    "# active_epochs = active_sess.perform_compute_estimated_replay_epochs(min_epoch_included_duration=None, max_epoch_included_duration=None, maximum_speed_thresh=None) # filter on nothing basically\n",
    "# active_spikes_df = active_sess.spikes_df.spikes.sliced_by_neuron_type('pyr') # only look at pyramidal cells\n",
    "\n",
    "# active_epochs = deepcopy(global_replays)\n",
    "active_epochs = deepcopy(global_laps).trimmed_to_non_overlapping()\n",
    "active_spikes_df = deepcopy(global_pf1D.spikes_df)\n",
    "\n",
    "# spike_trimmed_active_epochs, _extra_outputs = filter_epochs_by_num_active_units(active_spikes_df, active_epochs, min_inclusion_fr_active_thresh=2.0, min_num_unique_aclu_inclusions=1)\n",
    "epoch_ranked_aclus_dict, active_spikes_df, all_probe_epoch_ids, all_aclus = SpikesRankOrder.compute_rankordered_spikes_during_epochs(active_spikes_df, active_epochs)\n",
    "epoch_ranked_aclus_stats_corr_values, epoch_ranked_aclus_stats_p_values, (outside_epochs_ranked_aclus_stats_corr_value, outside_epochs_ranked_aclus_stats_p_value) = SpikesRankOrder.compute_rankordered_stats(epoch_ranked_aclus_dict)"
   ]
  },
  {
   "cell_type": "code",
   "execution_count": null,
   "id": "0d0d75cf",
   "metadata": {},
   "outputs": [],
   "source": [
    "plot_laps_2d(global_session)"
   ]
  },
  {
   "cell_type": "code",
   "execution_count": null,
   "id": "926132fb",
   "metadata": {},
   "outputs": [],
   "source": [
    "print(epoch_ranked_aclus_dict[0])"
   ]
  },
  {
   "cell_type": "code",
   "execution_count": null,
   "id": "2bce2ef5",
   "metadata": {},
   "outputs": [],
   "source": [
    "print(list(global_laps._df.columns)) # ['start_position_index', 'end_position_index', 'lap_dir', 'start_t_rel_seconds', 'end_t_rel_seconds', 'start', 'stop', 'lap_id', 'label', 'start_spike_index', 'end_spike_index', 'num_spikes', 'duration']\n"
   ]
  },
  {
   "cell_type": "code",
   "execution_count": null,
   "id": "8db80a0d",
   "metadata": {},
   "outputs": [],
   "source": [
    "['start_position_index', 'end_position_index', 'start_spike_index', 'end_spike_index', 'num_spikes']\n",
    "\n",
    "active_epochs"
   ]
  },
  {
   "cell_type": "code",
   "execution_count": null,
   "id": "155810d6",
   "metadata": {},
   "outputs": [],
   "source": [
    "type(global_laps) # neuropy.core.laps.Laps\n",
    "global_laps_df: pd.DataFrame = global_laps.as_epoch_obj().to_dataframe().epochs.get_valid_df()\n",
    "global_laps_df\n"
   ]
  },
  {
   "cell_type": "code",
   "execution_count": null,
   "id": "e8319c3a",
   "metadata": {},
   "outputs": [],
   "source": [
    "type(global_laps) # neuropy.core.epoch.Epoch\n",
    "# it is becoming a Laps object somehow, and then getting each epoch duplicated\n",
    "\n",
    "# Drop duplicate rows in column: 'start'\n",
    "global_laps_df = global_laps_df.drop_duplicates(subset=['start'])\n",
    "# Filter rows based on column: 'duration'\n",
    "global_laps_df = global_laps_df[global_laps_df['duration'] > 0] # drop zero duration rows\n"
   ]
  },
  {
   "cell_type": "code",
   "execution_count": null,
   "id": "b42be3dd",
   "metadata": {},
   "outputs": [],
   "source": [
    "global_laps_df.duration"
   ]
  },
  {
   "cell_type": "code",
   "execution_count": null,
   "id": "7f1c5bd5",
   "metadata": {},
   "outputs": [],
   "source": [
    "global_session.laps"
   ]
  },
  {
   "cell_type": "code",
   "execution_count": null,
   "id": "4cfeced0",
   "metadata": {},
   "outputs": [],
   "source": [
    "short_session.laps"
   ]
  },
  {
   "cell_type": "code",
   "execution_count": null,
   "id": "f7ff025e",
   "metadata": {},
   "outputs": [],
   "source": [
    "short_session.laps_backup"
   ]
  },
  {
   "cell_type": "code",
   "execution_count": null,
   "id": "9c8767d9",
   "metadata": {},
   "outputs": [],
   "source": [
    "curr_active_pipeline.sess.laps"
   ]
  },
  {
   "cell_type": "code",
   "execution_count": null,
   "id": "82e31b28",
   "metadata": {},
   "outputs": [],
   "source": [
    "global_laps"
   ]
  },
  {
   "cell_type": "markdown",
   "id": "f65896de",
   "metadata": {},
   "source": [
    "### Compute numerical data ranks (1 through n) along axis."
   ]
  },
  {
   "cell_type": "markdown",
   "id": "4725d80d",
   "metadata": {},
   "source": [
    "```\n",
    "## {aclu: rank_index, ...} # ignore the fact that the indicies are shown as floating point values, they aren't actually.\n",
    "Epoch[0]: {16: 12.0, 46: 17.0, 48: 4.0, 51: 9.0, 53: 5.0, 55: 8.0, 59: 1.0, 62: 10.0, 67: 15.0, 73: 16.0, 78: 14.0, 81: 7.0, 88: 2.0, 91: 6.0, 95: 13.0, 101: 11.0, 108: 3.0}\n",
    "...\n",
    "Epoch[404]: {7: 14.0, 17: 4.0, 21: 16.0, 33: 11.0, 34: 3.0, 39: 9.0, 45: 7.0, 48: 20.0, 54: 15.0, 61: 13.0, 63: 5.0, 71: 21.0, 72: 12.0, 74: 6.0, 84: 8.0, 86: 1.0, 88: 2.0, 90: 18.0, 95: 19.0, 99: 17.0, 102: 10.0}\n",
    "Epoch[405]: {10: 15.0, 14: 10.0, 15: 9.0, 17: 1.0, 31: 7.0, 33: 12.0, 34: 2.0, 39: 22.0, 45: 4.0, 49: 5.0, 50: 6.0, 54: 20.0, 55: 8.0, 63: 3.0, 64: 21.0, 72: 11.0, 75: 18.0, 76: 25.0, 78: 23.0, 83: 17.0, 85: 19.0, 90: 16.0, 91: 13.0, 101: 24.0, 107: 14.0}\n",
    "```\n",
    "### So here I have unequal lists of observations with only some of the cells present in each epoch. How should I analyze this, it still seems to me like there's an issue with unequal sampling in each epoch."
   ]
  },
  {
   "cell_type": "code",
   "execution_count": null,
   "id": "64206a72",
   "metadata": {},
   "outputs": [],
   "source": [
    "from PendingNotebookCode import _scramble_curve\n",
    "\n",
    "\n",
    "curr_random_not_firing_cell_pf_curve = _scramble_curve(curr_cell_pf_curve)"
   ]
  },
  {
   "cell_type": "code",
   "execution_count": null,
   "id": "26f3b552",
   "metadata": {},
   "outputs": [],
   "source": [
    "epoch_ranked_aclus_stats_corr_values, epoch_ranked_aclus_stats_p_values"
   ]
  },
  {
   "cell_type": "code",
   "execution_count": null,
   "id": "846fc779",
   "metadata": {},
   "outputs": [],
   "source": [
    "# epoch_ranked_aclus_stats_corr_values: .shape: (n_epochs,)\n",
    "# epoch_ranked_aclus_stats_p_values: .shape: (n_epochs,)\n",
    "\n",
    "np.shape(epoch_ranked_aclus_stats_corr_values)\n",
    "# epoch_ranked_aclus_stats_p_values.shape"
   ]
  },
  {
   "cell_type": "code",
   "execution_count": null,
   "id": "29172a33",
   "metadata": {},
   "outputs": [],
   "source": [
    "active_epochs.starts.shape"
   ]
  },
  {
   "cell_type": "code",
   "execution_count": null,
   "id": "d375f6af",
   "metadata": {},
   "outputs": [],
   "source": [
    "fig, axes = plt.subplots(nrows=2, ncols=1, sharex=True)\n",
    "\n",
    "# fig, axes = plt.subplots(ncols=1, nrows=active_num_rows, sharex=True, sharey=sharey, figsize=figsize)\n",
    "\n",
    "axes[0].scatter(active_epochs.starts, epoch_ranked_aclus_stats_corr_values, label='CorrValues', marker=\"s\", s=5, alpha=0.8) # , title='Rank-Order p-values'\n",
    "axes[1].scatter(active_epochs.starts, epoch_ranked_aclus_stats_p_values, label='p-values', marker=\"s\", s=5, alpha=0.8) # , ylabel='Corr Values'\n",
    "plt.suptitle('Rank-Order of Replay Epochs')\n",
    "\n",
    "\n",
    "fig.show()"
   ]
  },
  {
   "cell_type": "markdown",
   "id": "d7988cca",
   "metadata": {},
   "source": [
    "# 🟢🖼️ 2023-10-27 - Example validation of directional shuffles with multi-raster plot "
   ]
  },
  {
   "cell_type": "code",
   "execution_count": 132,
   "id": "7a36a003",
   "metadata": {},
   "outputs": [
    {
     "data": {
      "text/html": [
       "<div>\n",
       "<style scoped>\n",
       "    .dataframe tbody tr th:only-of-type {\n",
       "        vertical-align: middle;\n",
       "    }\n",
       "\n",
       "    .dataframe tbody tr th {\n",
       "        vertical-align: top;\n",
       "    }\n",
       "\n",
       "    .dataframe thead th {\n",
       "        text-align: right;\n",
       "    }\n",
       "</style>\n",
       "<table border=\"1\" class=\"dataframe\">\n",
       "  <thead>\n",
       "    <tr style=\"text-align: right;\">\n",
       "      <th></th>\n",
       "      <th>start_position_index</th>\n",
       "      <th>end_position_index</th>\n",
       "      <th>lap_dir</th>\n",
       "      <th>start_t_rel_seconds</th>\n",
       "      <th>end_t_rel_seconds</th>\n",
       "      <th>start</th>\n",
       "      <th>stop</th>\n",
       "      <th>lap_id</th>\n",
       "      <th>label</th>\n",
       "      <th>duration</th>\n",
       "      <th>start_spike_index</th>\n",
       "      <th>end_spike_index</th>\n",
       "      <th>num_spikes</th>\n",
       "    </tr>\n",
       "  </thead>\n",
       "  <tbody>\n",
       "    <tr>\n",
       "      <th>0</th>\n",
       "      <td>181</td>\n",
       "      <td>535</td>\n",
       "      <td>0</td>\n",
       "      <td>5.635867</td>\n",
       "      <td>17.447765</td>\n",
       "      <td>5.635867</td>\n",
       "      <td>17.447765</td>\n",
       "      <td>1</td>\n",
       "      <td>1</td>\n",
       "      <td>11.811898</td>\n",
       "      <td>3891</td>\n",
       "      <td>12127</td>\n",
       "      <td>8236</td>\n",
       "    </tr>\n",
       "    <tr>\n",
       "      <th>1</th>\n",
       "      <td>967</td>\n",
       "      <td>1204</td>\n",
       "      <td>1</td>\n",
       "      <td>31.862536</td>\n",
       "      <td>39.770308</td>\n",
       "      <td>31.862536</td>\n",
       "      <td>39.770308</td>\n",
       "      <td>2</td>\n",
       "      <td>2</td>\n",
       "      <td>7.907772</td>\n",
       "      <td>18755</td>\n",
       "      <td>24303</td>\n",
       "      <td>5548</td>\n",
       "    </tr>\n",
       "    <tr>\n",
       "      <th>2</th>\n",
       "      <td>4082</td>\n",
       "      <td>4333</td>\n",
       "      <td>0</td>\n",
       "      <td>135.801698</td>\n",
       "      <td>144.175555</td>\n",
       "      <td>135.801698</td>\n",
       "      <td>144.175555</td>\n",
       "      <td>3</td>\n",
       "      <td>3</td>\n",
       "      <td>8.373857</td>\n",
       "      <td>69153</td>\n",
       "      <td>75148</td>\n",
       "      <td>5995</td>\n",
       "    </tr>\n",
       "    <tr>\n",
       "      <th>3</th>\n",
       "      <td>4851</td>\n",
       "      <td>5027</td>\n",
       "      <td>1</td>\n",
       "      <td>161.458825</td>\n",
       "      <td>167.331790</td>\n",
       "      <td>161.458825</td>\n",
       "      <td>167.331790</td>\n",
       "      <td>4</td>\n",
       "      <td>4</td>\n",
       "      <td>5.872965</td>\n",
       "      <td>83487</td>\n",
       "      <td>87670</td>\n",
       "      <td>4183</td>\n",
       "    </tr>\n",
       "    <tr>\n",
       "      <th>4</th>\n",
       "      <td>7039</td>\n",
       "      <td>7199</td>\n",
       "      <td>0</td>\n",
       "      <td>234.465983</td>\n",
       "      <td>239.806649</td>\n",
       "      <td>234.465983</td>\n",
       "      <td>239.806649</td>\n",
       "      <td>5</td>\n",
       "      <td>5</td>\n",
       "      <td>5.340666</td>\n",
       "      <td>117908</td>\n",
       "      <td>121650</td>\n",
       "      <td>3742</td>\n",
       "    </tr>\n",
       "    <tr>\n",
       "      <th>5</th>\n",
       "      <td>7658</td>\n",
       "      <td>7885</td>\n",
       "      <td>1</td>\n",
       "      <td>255.120847</td>\n",
       "      <td>262.696165</td>\n",
       "      <td>255.120847</td>\n",
       "      <td>262.696165</td>\n",
       "      <td>6</td>\n",
       "      <td>6</td>\n",
       "      <td>7.575318</td>\n",
       "      <td>129011</td>\n",
       "      <td>134201</td>\n",
       "      <td>5190</td>\n",
       "    </tr>\n",
       "    <tr>\n",
       "      <th>...</th>\n",
       "      <td>...</td>\n",
       "      <td>...</td>\n",
       "      <td>...</td>\n",
       "      <td>...</td>\n",
       "      <td>...</td>\n",
       "      <td>...</td>\n",
       "      <td>...</td>\n",
       "      <td>...</td>\n",
       "      <td>...</td>\n",
       "      <td>...</td>\n",
       "      <td>...</td>\n",
       "      <td>...</td>\n",
       "      <td>...</td>\n",
       "    </tr>\n",
       "    <tr>\n",
       "      <th>74</th>\n",
       "      <td>59921</td>\n",
       "      <td>60039</td>\n",
       "      <td>0</td>\n",
       "      <td>1998.978809</td>\n",
       "      <td>2002.550177</td>\n",
       "      <td>1998.978809</td>\n",
       "      <td>2002.550177</td>\n",
       "      <td>75</td>\n",
       "      <td>75</td>\n",
       "      <td>3.571368</td>\n",
       "      <td>958472</td>\n",
       "      <td>960656</td>\n",
       "      <td>2184</td>\n",
       "    </tr>\n",
       "    <tr>\n",
       "      <th>75</th>\n",
       "      <td>60038</td>\n",
       "      <td>60200</td>\n",
       "      <td>1</td>\n",
       "      <td>2002.883510</td>\n",
       "      <td>2008.287350</td>\n",
       "      <td>2002.883510</td>\n",
       "      <td>2008.287350</td>\n",
       "      <td>76</td>\n",
       "      <td>76</td>\n",
       "      <td>5.403840</td>\n",
       "      <td>960650</td>\n",
       "      <td>963685</td>\n",
       "      <td>3035</td>\n",
       "    </tr>\n",
       "    <tr>\n",
       "      <th>76</th>\n",
       "      <td>60525</td>\n",
       "      <td>60698</td>\n",
       "      <td>0</td>\n",
       "      <td>2019.131459</td>\n",
       "      <td>2024.905445</td>\n",
       "      <td>2019.131459</td>\n",
       "      <td>2024.905445</td>\n",
       "      <td>77</td>\n",
       "      <td>77</td>\n",
       "      <td>5.773986</td>\n",
       "      <td>968457</td>\n",
       "      <td>971701</td>\n",
       "      <td>3244</td>\n",
       "    </tr>\n",
       "    <tr>\n",
       "      <th>77</th>\n",
       "      <td>60731</td>\n",
       "      <td>60892</td>\n",
       "      <td>1</td>\n",
       "      <td>2026.006596</td>\n",
       "      <td>2031.378739</td>\n",
       "      <td>2026.006596</td>\n",
       "      <td>2031.378739</td>\n",
       "      <td>78</td>\n",
       "      <td>78</td>\n",
       "      <td>5.372143</td>\n",
       "      <td>972046</td>\n",
       "      <td>975077</td>\n",
       "      <td>3031</td>\n",
       "    </tr>\n",
       "    <tr>\n",
       "      <th>78</th>\n",
       "      <td>61079</td>\n",
       "      <td>61219</td>\n",
       "      <td>0</td>\n",
       "      <td>2037.617503</td>\n",
       "      <td>2042.288964</td>\n",
       "      <td>2037.617503</td>\n",
       "      <td>2042.288964</td>\n",
       "      <td>79</td>\n",
       "      <td>79</td>\n",
       "      <td>4.671461</td>\n",
       "      <td>977825</td>\n",
       "      <td>980531</td>\n",
       "      <td>2706</td>\n",
       "    </tr>\n",
       "    <tr>\n",
       "      <th>79</th>\n",
       "      <td>61679</td>\n",
       "      <td>62015</td>\n",
       "      <td>1</td>\n",
       "      <td>2057.637436</td>\n",
       "      <td>2068.848792</td>\n",
       "      <td>2057.637436</td>\n",
       "      <td>2068.848792</td>\n",
       "      <td>80</td>\n",
       "      <td>80</td>\n",
       "      <td>11.211356</td>\n",
       "      <td>986519</td>\n",
       "      <td>991404</td>\n",
       "      <td>4885</td>\n",
       "    </tr>\n",
       "  </tbody>\n",
       "</table>\n",
       "<p>80 rows × 13 columns</p>\n",
       "</div>"
      ],
      "text/plain": [
       "    start_position_index  end_position_index  lap_dir  start_t_rel_seconds  end_t_rel_seconds        start         stop  lap_id label   duration  start_spike_index  end_spike_index  num_spikes\n",
       "0                    181                 535        0             5.635867          17.447765     5.635867    17.447765       1     1  11.811898               3891            12127        8236\n",
       "1                    967                1204        1            31.862536          39.770308    31.862536    39.770308       2     2   7.907772              18755            24303        5548\n",
       "2                   4082                4333        0           135.801698         144.175555   135.801698   144.175555       3     3   8.373857              69153            75148        5995\n",
       "3                   4851                5027        1           161.458825         167.331790   161.458825   167.331790       4     4   5.872965              83487            87670        4183\n",
       "4                   7039                7199        0           234.465983         239.806649   234.465983   239.806649       5     5   5.340666             117908           121650        3742\n",
       "5                   7658                7885        1           255.120847         262.696165   255.120847   262.696165       6     6   7.575318             129011           134201        5190\n",
       "..                   ...                 ...      ...                  ...                ...          ...          ...     ...   ...        ...                ...              ...         ...\n",
       "74                 59921               60039        0          1998.978809        2002.550177  1998.978809  2002.550177      75    75   3.571368             958472           960656        2184\n",
       "75                 60038               60200        1          2002.883510        2008.287350  2002.883510  2008.287350      76    76   5.403840             960650           963685        3035\n",
       "76                 60525               60698        0          2019.131459        2024.905445  2019.131459  2024.905445      77    77   5.773986             968457           971701        3244\n",
       "77                 60731               60892        1          2026.006596        2031.378739  2026.006596  2031.378739      78    78   5.372143             972046           975077        3031\n",
       "78                 61079               61219        0          2037.617503        2042.288964  2037.617503  2042.288964      79    79   4.671461             977825           980531        2706\n",
       "79                 61679               62015        1          2057.637436        2068.848792  2057.637436  2068.848792      80    80  11.211356             986519           991404        4885\n",
       "\n",
       "[80 rows x 13 columns]"
      ]
     },
     "execution_count": 132,
     "metadata": {},
     "output_type": "execute_result"
    }
   ],
   "source": [
    "from pyphoplacecellanalysis.General.Mixins.DataSeriesColorHelpers import DataSeriesColorHelpers\n",
    "\n",
    "# depends on: global_laps, global_pf1D\n",
    "\n",
    "## Pre-process:\n",
    "\n",
    "## Get our data from track_templates (TrackTemplates)\n",
    "# track_templates.shared_aclus_only_neuron_IDs\n",
    "\n",
    "active_epochs = deepcopy(global_laps) # active_spikes_df.spikes.rebuild_fragile_linear_neuron_IDXs().trimmed_to_non_overlapping()\n",
    "spikes_df = deepcopy(global_pf1D.spikes_df)\n",
    "# active_spikes_df = deepcopy(curr_active_pipeline.sess.spikes_df)\n",
    "## spikes_df: get the spikes to plot\n",
    "# Get only the spikes for the shared_aclus:\n",
    "spikes_df = spikes_df.spikes.sliced_by_neuron_id(track_templates.shared_aclus_only_neuron_IDs)\n",
    "spikes_df = spikes_df.spikes.adding_lap_identity_column(active_epochs_df, epoch_id_key_name='new_lap_IDX')\n",
    "spikes_df = spikes_df[(spikes_df['new_lap_IDX'] != -1)] # ['lap', 'maze_relative_lap', 'maze_id']\n",
    "spikes_df, neuron_id_to_new_IDX_map = spikes_df.spikes.rebuild_fragile_linear_neuron_IDXs() # rebuild the fragile indicies afterwards\n",
    "\n",
    "\n",
    "neuron_identities = spikes_df.neuron_identity.extract_unique_neuron_identities()\n",
    "\n",
    "## Get the different sorts for all four templates:\n",
    "sorted_aclu_list = [track_templates.shared_aclus_only_neuron_IDs[a_sort-1] for a_sort in track_templates.decoder_pf_peak_ranks_list] # not used really\n",
    "# desired_sort_indicies_list = [find_desired_sort_indicies(track_templates.shared_aclus_only_neuron_IDs, a_sorted_aclus)[0] for a_sorted_aclus in sorted_aclu_list] # not needed, can just subtract one\n",
    "desired_sort_indicies_list = [(a_sort-1) for a_sort in track_templates.decoder_pf_peak_ranks_list]\n",
    "even_long, odd_long, even_short, odd_short,  = desired_sort_indicies_list\n",
    "\n",
    "## Raster Plotting\n",
    "# There will be four templates, one for each run direction x each maze configuration\n",
    "\n",
    "# filter_epoch_spikes_df_L.spikes.rebuild_fragile_linear_neuron_IDXs()\n",
    "# filter_epoch_spikes_df_S.spikes.rebuild_fragile_linear_neuron_IDXs()\n",
    "\n",
    "n_neurons = len(track_templates.shared_aclus_only_neuron_IDs)\n",
    "neuron_qcolors_list, neuron_colors_ndarray = DataSeriesColorHelpers.build_cell_colors(n_neurons, colormap_name='PAL-relaxed_bright', colormap_source=None)\n",
    "unit_colors_list = neuron_colors_ndarray.copy()\n",
    "unit_colors_list\n",
    "\n",
    "# Set the symbol properties\n",
    "# symbol = pg.mkPen('w', width=1)  # Pen for the lines\n",
    "size = 5.0  # Fixed x-width\n",
    "symbol_brush = None  # No brush for the symbol (transparent fill)\n",
    "\n",
    "# override_scatter_plot_kwargs = dict(pxMode=False, symbol='|', size=size, pen={'color': 'w', 'width': 1.0}) # , brush=symbol_brush\n",
    "# override_scatter_plot_kwargs = dict(pxMode=False, symbol='arrow_up', size=1.0, pen={'color': 'w', 'width': 1.0}, hoverable=True) #\n",
    "override_scatter_plot_kwargs = dict(pxMode=True, size=size, pen={'color': 'w', 'width': 1.0}) # , symbol='arrow_up,\n",
    "# override_scatter_plot_kwargs = None\n",
    "\n",
    "## Get all laps, which is what will be used in the sanity check:\n",
    "# type(active_epochs)\n",
    "\n",
    "active_epochs_df = active_epochs.to_dataframe()\n",
    "# active_epochs_df = global_laps.as_epoch_obj().to_dataframe()\n",
    "active_epochs_df"
   ]
  },
  {
   "cell_type": "code",
   "execution_count": 133,
   "id": "60dcf696",
   "metadata": {},
   "outputs": [],
   "source": [
    "## Get the spikes for the specific epoch only:\n",
    "active_epoch_idx: int = 4\n",
    "curr_epoch_spikes = spikes_df[(spikes_df.new_lap_IDX == active_epoch_idx)]\n",
    "curr_epoch_df = active_epochs_df[(active_epochs_df.lap_id == (active_epoch_idx+1))]\n",
    "curr_epoch = list(curr_epoch_df.itertuples())[0]\n",
    "\n",
    "# curr_epoch_spikes"
   ]
  },
  {
   "cell_type": "code",
   "execution_count": 134,
   "id": "759b6fab",
   "metadata": {},
   "outputs": [
    {
     "name": "stdout",
     "output_type": "stream",
     "text": [
      "merged_kwargs: {'name': 'spikeRasterOverviewWindowScatterPlotItem', 'pxMode': True, 'symbol': <PyQt5.QtGui.QPainterPath object at 0x000001F302229C80>, 'size': 5.0, 'pen': {'color': 'w', 'width': 1.0}, 'hoverable': True}\n"
     ]
    }
   ],
   "source": [
    "_out_single_raster_plot = plot_raster_plot(curr_epoch_spikes, included_neuron_ids=track_templates.shared_aclus_only_neuron_IDs, unit_sort_order=even_long, unit_colors_list=unit_colors_list, scatter_plot_kwargs=override_scatter_plot_kwargs, scatter_app_name=\"test1\")\n",
    "_out_single_raster_plot2 = plot_raster_plot(curr_epoch_spikes, included_neuron_ids=track_templates.shared_aclus_only_neuron_IDs, unit_sort_order=odd_long, unit_colors_list=unit_colors_list, scatter_plot_kwargs=override_scatter_plot_kwargs, scatter_app_name=\"test2\")\n",
    "_out_single_raster_plot3 = plot_raster_plot(curr_epoch_spikes, included_neuron_ids=track_templates.shared_aclus_only_neuron_IDs, unit_sort_order=even_short, unit_colors_list=unit_colors_list, scatter_plot_kwargs=override_scatter_plot_kwargs, scatter_app_name=\"test3\")\n",
    "_out_single_raster_plot4 = plot_raster_plot(curr_epoch_spikes, included_neuron_ids=track_templates.shared_aclus_only_neuron_IDs, unit_sort_order=odd_short, unit_colors_list=unit_colors_list, scatter_plot_kwargs=override_scatter_plot_kwargs, scatter_app_name=\"test4\")\n"
   ]
  },
  {
   "cell_type": "code",
   "execution_count": 147,
   "id": "cd1485c4",
   "metadata": {},
   "outputs": [
    {
     "data": {
      "text/plain": [
       "(<PyQt5.QtWidgets.QApplication at 0x1ed650abe50>,\n",
       " <pyphoplacecellanalysis.External.pyqtgraph.widgets.GraphicsLayoutWidget.GraphicsLayoutWidget at 0x1f2fbe7d9d0>,\n",
       " RenderPlots({'name': 'test1', 'context': None, 'root_plot': <pyphoplacecellanalysis.External.pyqtgraph.graphicsItems.PlotItem.PlotItem.PlotItem object at 0x000001F3006B6A60>, 'scatter_plot': <pyphoplacecellanalysis.External.pyqtgraph.graphicsItems.ScatterPlotItem.ScatterPlotItem object at 0x000001F2FC01F940>, 'grid': <pyphoplacecellanalysis.External.pyqtgraph.graphicsItems.GridItem.GridItem object at 0x000001F2FC01F9D0>}),\n",
       " RenderPlotsData({'name': 'test1', 'active_context': IdentifyingContext<('plot_raster_plot',)>, 'n_cells': 34, 'params': RasterPlotParams(center_mode='starting_at_zero', bin_position_mode='bin_center', side_bin_margins=0.0, neuron_qcolors=[<PyQt5.QtGui.QColor object at 0x000001F2FBE6F9E0>, <PyQt5.QtGui.QColor object at 0x000001F2FBE6FA50>, <PyQt5.QtGui.QColor object at 0x000001F2FBE6FAC0>, <PyQt5.QtGui.QColor object at 0x000001F2FBE6FB30>, <PyQt5.QtGui.QColor object at 0x000001F2FBE6FBA0>, <PyQt5.QtGui.QColor object at 0x000001F2FBE6FC10>, <PyQt5.QtGui.QColor object at 0x000001F2FBE6FC80>, <PyQt5.QtGui.QColor object at 0x000001F2FBE6FCF0>, <PyQt5.QtGui.QColor object at 0x000001F2FBE6FD60>, <PyQt5.QtGui.QColor object at 0x000001F2FBE6FDD0>, <PyQt5.QtGui.QColor object at 0x000001F2FBE6FE40>, <PyQt5.QtGui.QColor object at 0x000001F2FBE6FEB0>, <PyQt5.QtGui.QColor object at 0x000001F2FBE6FF20>, <PyQt5.QtGui.QColor object at 0x000001F2FBE6FF90>, <PyQt5.QtGui.QColor object at 0x000001F2FBE68040>, <PyQt5.QtGui.QColor object at 0x000001F2FBE680B0>, <PyQt5.QtGui.QColor object at 0x000001F2FBE68120>, <PyQt5.QtGui.QColor object at 0x000001F2FBE68190>, <PyQt5.QtGui.QColor object at 0x000001F2FBE68200>, <PyQt5.QtGui.QColor object at 0x000001F2FBE68270>, <PyQt5.QtGui.QColor object at 0x000001F2FBE682E0>, <PyQt5.QtGui.QColor object at 0x000001F2FBE68350>, <PyQt5.QtGui.QColor object at 0x000001F2FBE683C0>, <PyQt5.QtGui.QColor object at 0x000001F2FBE68430>, <PyQt5.QtGui.QColor object at 0x000001F2FBE684A0>, <PyQt5.QtGui.QColor object at 0x000001F2FBE68510>, <PyQt5.QtGui.QColor object at 0x000001F2FBE68580>, <PyQt5.QtGui.QColor object at 0x000001F2FBE685F0>, <PyQt5.QtGui.QColor object at 0x000001F2FBE68660>, <PyQt5.QtGui.QColor object at 0x000001F2FBE686D0>, <PyQt5.QtGui.QColor object at 0x000001F2FBE68740>, <PyQt5.QtGui.QColor object at 0x000001F2FBE687B0>, <PyQt5.QtGui.QColor object at 0x000001F2FBE68820>, <PyQt5.QtGui.QColor object at 0x000001F2FBE68890>], neuron_colors=array([[1, 0.988235, 0.980392, 0.972549, 0.941176, 0.870588, 0.796078, 0.72549, 0.592157, 0.435294, 0.27451, 0.117647, 0.0823529, 0.0509804, 0.0196078, 0.00784314, 0.0431373, 0.0745098, 0.109804, 0.215686, 0.356863, 0.501961, 0.647059, 0.709804, 0.776471, 0.839216, 0.894118, 0.92549, 0.956863, 0.988235, 1, 1, 1, 1],\n",
       "        [0.615686, 0.686275, 0.760784, 0.831373, 0.87451, 0.854902, 0.835294, 0.815686, 0.8, 0.788235, 0.772549, 0.760784, 0.721569, 0.686275, 0.65098, 0.611765, 0.568627, 0.52549, 0.482353, 0.439216, 0.392157, 0.345098, 0.301961, 0.266667, 0.231373, 0.196078, 0.184314, 0.227451, 0.266667, 0.309804, 0.376471, 0.454902, 0.533333, 0.615686],\n",
       "        [0, 0, 0, 0, 0, 0, 0, 0, 0, 0, 0, 0, 0, 0, 0, 0, 0, 0, 0, 0.00392157, 0.00392157, 0.00392157, 0.00392157, 0, 0, 0, 0, 0, 0, 0, 0, 0, 0, 0],\n",
       "        [0.00392157, 0.00392157, 0.00392157, 0.00392157, 0.00392157, 0.00392157, 0.00392157, 0.00392157, 0.00392157, 0.00392157, 0.00392157, 0.00392157, 0.00392157, 0.00392157, 0.00392157, 0.00392157, 0.00392157, 0.00392157, 0.00392157, 0.00392157, 0.00392157, 0.00392157, 0.00392157, 0.00392157, 0.00392157, 0.00392157, 0.00392157, 0.00392157, 0.00392157, 0.00392157, 0.00392157, 0.00392157, 0.00392157, 0.00392157]]), neuron_colors_hex=['#ff9d00', '#fcaf00', '#fac200', '#f8d400', '#f0df00', '#deda00', '#cbd500', '#b9d000', '#97cc00', '#6fc900', '#46c500', '#1ec200', '#15b800', '#0daf00', '#05a600', '#029c00', '#0b9100', '#138600', '#1c7b00', '#377001', '#5b6401', '#805801', '#a54d01', '#b54400', '#c63b00', '#d63200', '#e42f00', '#ec3a00', '#f44400', '#fc4f00', '#ff6000', '#ff7400', '#ff8800', '#ff9d00'], neuron_qcolors_map={0: <PyQt5.QtGui.QColor object at 0x000001F2FBE68900>, 1: <PyQt5.QtGui.QColor object at 0x000001F2FBE68970>, 2: <PyQt5.QtGui.QColor object at 0x000001F2FBE689E0>, 3: <PyQt5.QtGui.QColor object at 0x000001F2FBE68A50>, 4: <PyQt5.QtGui.QColor object at 0x000001F2FBE68AC0>, 5: <PyQt5.QtGui.QColor object at 0x000001F2FBE68B30>, 6: <PyQt5.QtGui.QColor object at 0x000001F2FBE68BA0>, 7: <PyQt5.QtGui.QColor object at 0x000001F2FBE68C10>, 8: <PyQt5.QtGui.QColor object at 0x000001F2FBE68C80>, 9: <PyQt5.QtGui.QColor object at 0x000001F2FBE68CF0>, 10: <PyQt5.QtGui.QColor object at 0x000001F2FBE68D60>, 11: <PyQt5.QtGui.QColor object at 0x000001F2FBE68DD0>, 12: <PyQt5.QtGui.QColor object at 0x000001F2FBE68E40>, 13: <PyQt5.QtGui.QColor object at 0x000001F2FBE68EB0>, 14: <PyQt5.QtGui.QColor object at 0x000001F2FBE68F20>, 15: <PyQt5.QtGui.QColor object at 0x000001F2FBE68F90>, 16: <PyQt5.QtGui.QColor object at 0x000001F2FBE77040>, 17: <PyQt5.QtGui.QColor object at 0x000001F2FBE770B0>, 18: <PyQt5.QtGui.QColor object at 0x000001F2FBE77120>, 19: <PyQt5.QtGui.QColor object at 0x000001F2FBE77190>, 20: <PyQt5.QtGui.QColor object at 0x000001F2FBE77200>, 21: <PyQt5.QtGui.QColor object at 0x000001F2FBE77270>, 22: <PyQt5.QtGui.QColor object at 0x000001F2FBE772E0>, 23: <PyQt5.QtGui.QColor object at 0x000001F2FBE77350>, 24: <PyQt5.QtGui.QColor object at 0x000001F2FBE773C0>, 25: <PyQt5.QtGui.QColor object at 0x000001F2FBE77430>, 26: <PyQt5.QtGui.QColor object at 0x000001F2FBE774A0>, 27: <PyQt5.QtGui.QColor object at 0x000001F2FBE77510>, 28: <PyQt5.QtGui.QColor object at 0x000001F2FBE77580>, 29: <PyQt5.QtGui.QColor object at 0x000001F2FBE775F0>, 30: <PyQt5.QtGui.QColor object at 0x000001F2FBE77660>, 31: <PyQt5.QtGui.QColor object at 0x000001F2FBE776D0>, 32: <PyQt5.QtGui.QColor object at 0x000001F2FBE77740>, 33: <PyQt5.QtGui.QColor object at 0x000001F2FBE777B0>}, config_items=IndexedOrderedDict([(5, (None, None, {<SpikeEmphasisState.Hidden: 0>: <PyQt5.QtGui.QPen object at 0x000001F302229C10>, <SpikeEmphasisState.Deemphasized: 1>: <PyQt5.QtGui.QPen object at 0x000001F302229BA0>, <SpikeEmphasisState.Default: 2>: <PyQt5.QtGui.QPen object at 0x000001F302229AC0>, <SpikeEmphasisState.Emphasized: 3>: <PyQt5.QtGui.QPen object at 0x000001F302229B30>}, None, None)), (7, (None, None, {<SpikeEmphasisState.Hidden: 0>: <PyQt5.QtGui.QPen object at 0x000001F302229A50>, <SpikeEmphasisState.Deemphasized: 1>: <PyQt5.QtGui.QPen object at 0x000001F3022299E0>, <SpikeEmphasisState.Default: 2>: <PyQt5.QtGui.QPen object at 0x000001F302229970>, <SpikeEmphasisState.Emphasized: 3>: <PyQt5.QtGui.QPen object at 0x000001F302229900>}, None, None)), (9, (None, None, {<SpikeEmphasisState.Hidden: 0>: <PyQt5.QtGui.QPen object at 0x000001F302229890>, <SpikeEmphasisState.Deemphasized: 1>: <PyQt5.QtGui.QPen object at 0x000001F302229820>, <SpikeEmphasisState.Default: 2>: <PyQt5.QtGui.QPen object at 0x000001F3022297B0>, <SpikeEmphasisState.Emphasized: 3>: <PyQt5.QtGui.QPen object at 0x000001F302229740>}, None, None)), (31, (None, None, {<SpikeEmphasisState.Hidden: 0>: <PyQt5.QtGui.QPen object at 0x000001F3022296D0>, <SpikeEmphasisState.Deemphasized: 1>: <PyQt5.QtGui.QPen object at 0x000001F302229660>, <SpikeEmphasisState.Default: 2>: <PyQt5.QtGui.QPen object at 0x000001F3022295F0>, <SpikeEmphasisState.Emphasized: 3>: <PyQt5.QtGui.QPen object at 0x000001F302229580>}, None, None)), (32, (None, None, {<SpikeEmphasisState.Hidden: 0>: <PyQt5.QtGui.QPen object at 0x000001F302229510>, <SpikeEmphasisState.Deemphasized: 1>: <PyQt5.QtGui.QPen object at 0x000001F302229430>, <SpikeEmphasisState.Default: 2>: <PyQt5.QtGui.QPen object at 0x000001F3022290B0>, <SpikeEmphasisState.Emphasized: 3>: <PyQt5.QtGui.QPen object at 0x000001F302229040>}, None, None)), (39, (None, None, {<SpikeEmphasisState.Hidden: 0>: <PyQt5.QtGui.QPen object at 0x000001F302229120>, <SpikeEmphasisState.Deemphasized: 1>: <PyQt5.QtGui.QPen object at 0x000001F302229190>, <SpikeEmphasisState.Default: 2>: <PyQt5.QtGui.QPen object at 0x000001F302229200>, <SpikeEmphasisState.Emphasized: 3>: <PyQt5.QtGui.QPen object at 0x000001F3022292E0>}, None, None)), (41, (None, None, {<SpikeEmphasisState.Hidden: 0>: <PyQt5.QtGui.QPen object at 0x000001F3022293C0>, <SpikeEmphasisState.Deemphasized: 1>: <PyQt5.QtGui.QPen object at 0x000001F302229350>, <SpikeEmphasisState.Default: 2>: <PyQt5.QtGui.QPen object at 0x000001F2FBE6F900>, <SpikeEmphasisState.Emphasized: 3>: <PyQt5.QtGui.QPen object at 0x000001F2FBE6F890>}, None, None)), (45, (None, None, {<SpikeEmphasisState.Hidden: 0>: <PyQt5.QtGui.QPen object at 0x000001F2FBE6F820>, <SpikeEmphasisState.Deemphasized: 1>: <PyQt5.QtGui.QPen object at 0x000001F2FBE6F7B0>, <SpikeEmphasisState.Default: 2>: <PyQt5.QtGui.QPen object at 0x000001F2FBE6F740>, <SpikeEmphasisState.Emphasized: 3>: <PyQt5.QtGui.QPen object at 0x000001F2FBE6F970>}, None, None)), (46, (None, None, {<SpikeEmphasisState.Hidden: 0>: <PyQt5.QtGui.QPen object at 0x000001F2FBE77820>, <SpikeEmphasisState.Deemphasized: 1>: <PyQt5.QtGui.QPen object at 0x000001F2FBE77890>, <SpikeEmphasisState.Default: 2>: <PyQt5.QtGui.QPen object at 0x000001F2FBE77900>, <SpikeEmphasisState.Emphasized: 3>: <PyQt5.QtGui.QPen object at 0x000001F2FBE77970>}, None, None)), (48, (None, None, {<SpikeEmphasisState.Hidden: 0>: <PyQt5.QtGui.QPen object at 0x000001F2FBE779E0>, <SpikeEmphasisState.Deemphasized: 1>: <PyQt5.QtGui.QPen object at 0x000001F2FBE77A50>, <SpikeEmphasisState.Default: 2>: <PyQt5.QtGui.QPen object at 0x000001F2FBE77AC0>, <SpikeEmphasisState.Emphasized: 3>: <PyQt5.QtGui.QPen object at 0x000001F2FBE77B30>}, None, None)), (50, (None, None, {<SpikeEmphasisState.Hidden: 0>: <PyQt5.QtGui.QPen object at 0x000001F2FBE77BA0>, <SpikeEmphasisState.Deemphasized: 1>: <PyQt5.QtGui.QPen object at 0x000001F2FBE77C10>, <SpikeEmphasisState.Default: 2>: <PyQt5.QtGui.QPen object at 0x000001F2FBE77C80>, <SpikeEmphasisState.Emphasized: 3>: <PyQt5.QtGui.QPen object at 0x000001F2FBE77CF0>}, None, None)), (55, (None, None, {<SpikeEmphasisState.Hidden: 0>: <PyQt5.QtGui.QPen object at 0x000001F2FBE77D60>, <SpikeEmphasisState.Deemphasized: 1>: <PyQt5.QtGui.QPen object at 0x000001F2FBE77DD0>, <SpikeEmphasisState.Default: 2>: <PyQt5.QtGui.QPen object at 0x000001F2FBE77E40>, <SpikeEmphasisState.Emphasized: 3>: <PyQt5.QtGui.QPen object at 0x000001F2FBE77EB0>}, None, None)), (61, (None, None, {<SpikeEmphasisState.Hidden: 0>: <PyQt5.QtGui.QPen object at 0x000001F2FBE77F20>, <SpikeEmphasisState.Deemphasized: 1>: <PyQt5.QtGui.QPen object at 0x000001F2FBE77F90>, <SpikeEmphasisState.Default: 2>: <PyQt5.QtGui.QPen object at 0x000001F2FBE51040>, <SpikeEmphasisState.Emphasized: 3>: <PyQt5.QtGui.QPen object at 0x000001F2FBE510B0>}, None, None)), (62, (None, None, {<SpikeEmphasisState.Hidden: 0>: <PyQt5.QtGui.QPen object at 0x000001F2FBE51120>, <SpikeEmphasisState.Deemphasized: 1>: <PyQt5.QtGui.QPen object at 0x000001F2FBE51190>, <SpikeEmphasisState.Default: 2>: <PyQt5.QtGui.QPen object at 0x000001F2FBE51200>, <SpikeEmphasisState.Emphasized: 3>: <PyQt5.QtGui.QPen object at 0x000001F2FBE51270>}, None, None)), (64, (None, None, {<SpikeEmphasisState.Hidden: 0>: <PyQt5.QtGui.QPen object at 0x000001F2FBE512E0>, <SpikeEmphasisState.Deemphasized: 1>: <PyQt5.QtGui.QPen object at 0x000001F2FBE51350>, <SpikeEmphasisState.Default: 2>: <PyQt5.QtGui.QPen object at 0x000001F2FBE513C0>, <SpikeEmphasisState.Emphasized: 3>: <PyQt5.QtGui.QPen object at 0x000001F2FBE51430>}, None, None)), (69, (None, None, {<SpikeEmphasisState.Hidden: 0>: <PyQt5.QtGui.QPen object at 0x000001F2FBE514A0>, <SpikeEmphasisState.Deemphasized: 1>: <PyQt5.QtGui.QPen object at 0x000001F2FBE51510>, <SpikeEmphasisState.Default: 2>: <PyQt5.QtGui.QPen object at 0x000001F2FBE51580>, <SpikeEmphasisState.Emphasized: 3>: <PyQt5.QtGui.QPen object at 0x000001F2FBE515F0>}, None, None)), (72, (None, None, {<SpikeEmphasisState.Hidden: 0>: <PyQt5.QtGui.QPen object at 0x000001F2FBE51660>, <SpikeEmphasisState.Deemphasized: 1>: <PyQt5.QtGui.QPen object at 0x000001F2FBE516D0>, <SpikeEmphasisState.Default: 2>: <PyQt5.QtGui.QPen object at 0x000001F2FBE51740>, <SpikeEmphasisState.Emphasized: 3>: <PyQt5.QtGui.QPen object at 0x000001F2FBE517B0>}, None, None)), (75, (None, None, {<SpikeEmphasisState.Hidden: 0>: <PyQt5.QtGui.QPen object at 0x000001F2FBE51820>, <SpikeEmphasisState.Deemphasized: 1>: <PyQt5.QtGui.QPen object at 0x000001F2FBE51890>, <SpikeEmphasisState.Default: 2>: <PyQt5.QtGui.QPen object at 0x000001F2FBE51900>, <SpikeEmphasisState.Emphasized: 3>: <PyQt5.QtGui.QPen object at 0x000001F2FBE51970>}, None, None)), (76, (None, None, {<SpikeEmphasisState.Hidden: 0>: <PyQt5.QtGui.QPen object at 0x000001F2FBE519E0>, <SpikeEmphasisState.Deemphasized: 1>: <PyQt5.QtGui.QPen object at 0x000001F2FBE51A50>, <SpikeEmphasisState.Default: 2>: <PyQt5.QtGui.QPen object at 0x000001F2FBE51AC0>, <SpikeEmphasisState.Emphasized: 3>: <PyQt5.QtGui.QPen object at 0x000001F2FBE51B30>}, None, None)), (78, (None, None, {<SpikeEmphasisState.Hidden: 0>: <PyQt5.QtGui.QPen object at 0x000001F2FBE51BA0>, <SpikeEmphasisState.Deemphasized: 1>: <PyQt5.QtGui.QPen object at 0x000001F2FBE51C10>, <SpikeEmphasisState.Default: 2>: <PyQt5.QtGui.QPen object at 0x000001F2FBE51C80>, <SpikeEmphasisState.Emphasized: 3>: <PyQt5.QtGui.QPen object at 0x000001F2FBE51CF0>}, None, None)), (79, (None, None, {<SpikeEmphasisState.Hidden: 0>: <PyQt5.QtGui.QPen object at 0x000001F2FBE51D60>, <SpikeEmphasisState.Deemphasized: 1>: <PyQt5.QtGui.QPen object at 0x000001F2FBE51DD0>, <SpikeEmphasisState.Default: 2>: <PyQt5.QtGui.QPen object at 0x000001F2FBE51E40>, <SpikeEmphasisState.Emphasized: 3>: <PyQt5.QtGui.QPen object at 0x000001F2FBE51EB0>}, None, None)), (83, (None, None, {<SpikeEmphasisState.Hidden: 0>: <PyQt5.QtGui.QPen object at 0x000001F2FBE51F20>, <SpikeEmphasisState.Deemphasized: 1>: <PyQt5.QtGui.QPen object at 0x000001F2FBE51F90>, <SpikeEmphasisState.Default: 2>: <PyQt5.QtGui.QPen object at 0x000001F2FBE56040>, <SpikeEmphasisState.Emphasized: 3>: <PyQt5.QtGui.QPen object at 0x000001F2FBE560B0>}, None, None)), (84, (None, None, {<SpikeEmphasisState.Hidden: 0>: <PyQt5.QtGui.QPen object at 0x000001F2FBE56120>, <SpikeEmphasisState.Deemphasized: 1>: <PyQt5.QtGui.QPen object at 0x000001F2FBE56190>, <SpikeEmphasisState.Default: 2>: <PyQt5.QtGui.QPen object at 0x000001F2FBE56200>, <SpikeEmphasisState.Emphasized: 3>: <PyQt5.QtGui.QPen object at 0x000001F2FBE56270>}, None, None)), (86, (None, None, {<SpikeEmphasisState.Hidden: 0>: <PyQt5.QtGui.QPen object at 0x000001F2FBE562E0>, <SpikeEmphasisState.Deemphasized: 1>: <PyQt5.QtGui.QPen object at 0x000001F2FBE56350>, <SpikeEmphasisState.Default: 2>: <PyQt5.QtGui.QPen object at 0x000001F2FBE563C0>, <SpikeEmphasisState.Emphasized: 3>: <PyQt5.QtGui.QPen object at 0x000001F2FBE56430>}, None, None)), (88, (None, None, {<SpikeEmphasisState.Hidden: 0>: <PyQt5.QtGui.QPen object at 0x000001F2FBE564A0>, <SpikeEmphasisState.Deemphasized: 1>: <PyQt5.QtGui.QPen object at 0x000001F2FBE56510>, <SpikeEmphasisState.Default: 2>: <PyQt5.QtGui.QPen object at 0x000001F2FBE56580>, <SpikeEmphasisState.Emphasized: 3>: <PyQt5.QtGui.QPen object at 0x000001F2FBE565F0>}, None, None)), (90, (None, None, {<SpikeEmphasisState.Hidden: 0>: <PyQt5.QtGui.QPen object at 0x000001F2FBE56660>, <SpikeEmphasisState.Deemphasized: 1>: <PyQt5.QtGui.QPen object at 0x000001F2FBE566D0>, <SpikeEmphasisState.Default: 2>: <PyQt5.QtGui.QPen object at 0x000001F2FBE56740>, <SpikeEmphasisState.Emphasized: 3>: <PyQt5.QtGui.QPen object at 0x000001F2FBE567B0>}, None, None)), (91, (None, None, {<SpikeEmphasisState.Hidden: 0>: <PyQt5.QtGui.QPen object at 0x000001F2FBE56820>, <SpikeEmphasisState.Deemphasized: 1>: <PyQt5.QtGui.QPen object at 0x000001F2FBE56890>, <SpikeEmphasisState.Default: 2>: <PyQt5.QtGui.QPen object at 0x000001F2FBE56900>, <SpikeEmphasisState.Emphasized: 3>: <PyQt5.QtGui.QPen object at 0x000001F2FBE56970>}, None, None)), (92, (None, None, {<SpikeEmphasisState.Hidden: 0>: <PyQt5.QtGui.QPen object at 0x000001F2FBE569E0>, <SpikeEmphasisState.Deemphasized: 1>: <PyQt5.QtGui.QPen object at 0x000001F2FBE56A50>, <SpikeEmphasisState.Default: 2>: <PyQt5.QtGui.QPen object at 0x000001F2FBE56AC0>, <SpikeEmphasisState.Emphasized: 3>: <PyQt5.QtGui.QPen object at 0x000001F2FBE56B30>}, None, None)), (93, (None, None, {<SpikeEmphasisState.Hidden: 0>: <PyQt5.QtGui.QPen object at 0x000001F2FBE56BA0>, <SpikeEmphasisState.Deemphasized: 1>: <PyQt5.QtGui.QPen object at 0x000001F2FBE56C10>, <SpikeEmphasisState.Default: 2>: <PyQt5.QtGui.QPen object at 0x000001F2FBE56C80>, <SpikeEmphasisState.Emphasized: 3>: <PyQt5.QtGui.QPen object at 0x000001F2FBE56CF0>}, None, None)), (95, (None, None, {<SpikeEmphasisState.Hidden: 0>: <PyQt5.QtGui.QPen object at 0x000001F2FBE56D60>, <SpikeEmphasisState.Deemphasized: 1>: <PyQt5.QtGui.QPen object at 0x000001F2FBE56DD0>, <SpikeEmphasisState.Default: 2>: <PyQt5.QtGui.QPen object at 0x000001F2FBE56E40>, <SpikeEmphasisState.Emphasized: 3>: <PyQt5.QtGui.QPen object at 0x000001F2FBE56EB0>}, None, None)), (99, (None, None, {<SpikeEmphasisState.Hidden: 0>: <PyQt5.QtGui.QPen object at 0x000001F2FBE56F20>, <SpikeEmphasisState.Deemphasized: 1>: <PyQt5.QtGui.QPen object at 0x000001F2FBE56F90>, <SpikeEmphasisState.Default: 2>: <PyQt5.QtGui.QPen object at 0x000001F2FBE70040>, <SpikeEmphasisState.Emphasized: 3>: <PyQt5.QtGui.QPen object at 0x000001F2FBE700B0>}, None, None)), (100, (None, None, {<SpikeEmphasisState.Hidden: 0>: <PyQt5.QtGui.QPen object at 0x000001F2FBE70120>, <SpikeEmphasisState.Deemphasized: 1>: <PyQt5.QtGui.QPen object at 0x000001F2FBE70190>, <SpikeEmphasisState.Default: 2>: <PyQt5.QtGui.QPen object at 0x000001F2FBE70200>, <SpikeEmphasisState.Emphasized: 3>: <PyQt5.QtGui.QPen object at 0x000001F2FBE70270>}, None, None)), (101, (None, None, {<SpikeEmphasisState.Hidden: 0>: <PyQt5.QtGui.QPen object at 0x000001F2FBE702E0>, <SpikeEmphasisState.Deemphasized: 1>: <PyQt5.QtGui.QPen object at 0x000001F2FBE70350>, <SpikeEmphasisState.Default: 2>: <PyQt5.QtGui.QPen object at 0x000001F2FBE703C0>, <SpikeEmphasisState.Emphasized: 3>: <PyQt5.QtGui.QPen object at 0x000001F2FBE70430>}, None, None)), (108, (None, None, {<SpikeEmphasisState.Hidden: 0>: <PyQt5.QtGui.QPen object at 0x000001F2FBE704A0>, <SpikeEmphasisState.Deemphasized: 1>: <PyQt5.QtGui.QPen object at 0x000001F2FBE70510>, <SpikeEmphasisState.Default: 2>: <PyQt5.QtGui.QPen object at 0x000001F2FBE70580>, <SpikeEmphasisState.Emphasized: 3>: <PyQt5.QtGui.QPen object at 0x000001F2FBE705F0>}, None, None))])), 'unit_sort_manager': UnitSortOrderManager(neuron_ids=array([  5,   7,   9,  31,  32,  39,  41,  45,  46,  48,  50,  55,  61,  62,  64,  69,  72,  75,  76,  78,  79,  83,  84,  86,  88,  90,  91,  92,  93,  95,  99, 100, 101, 108]), fragile_linear_neuron_IDXs=array([ 0,  1,  2,  3,  4,  5,  6,  7,  8,  9, 10, 11, 12, 13, 14, 15, 16, 17, 18, 19, 20, 21, 22, 23, 24, 25, 26, 27, 28, 29, 30, 31, 32, 33]), n_cells=34, unit_sort_order=array([ 5,  0, 33, 12, 30, 14, 29,  1, 25, 32,  7, 16, 22, 24, 28, 19, 18, 27, 20, 13, 11, 10,  2, 17, 23, 21,  9,  4,  8,  3,  6, 26, 15, 31]), _series_identity_y_values=array([0.5, 1.5, 2.5, 3.5, 4.5, 5.5, 6.5, 7.5, 8.5, 9.5, 10.5, 11.5, 12.5, 13.5, 14.5, 15.5, 16.5, 17.5, 18.5, 19.5, 20.5, 21.5, 22.5, 23.5, 24.5, 25.5, 26.5, 27.5, 28.5, 29.5, 30.5, 31.5, 32.5, 33.5]), _series_identity_lower_y_values=array([0, 0.0294118, 0.0588235, 0.0882353, 0.117647, 0.147059, 0.176471, 0.205882, 0.235294, 0.264706, 0.294118, 0.323529, 0.352941, 0.382353, 0.411765, 0.441176, 0.470588, 0.5, 0.529412, 0.558824, 0.588235, 0.617647, 0.647059, 0.676471, 0.705882, 0.735294, 0.764706, 0.794118, 0.823529, 0.852941, 0.882353, 0.911765, 0.941176, 0.970588]), _series_identity_upper_y_values=array([0.0294118, 0.0588235, 0.0882353, 0.117647, 0.147059, 0.176471, 0.205882, 0.235294, 0.264706, 0.294118, 0.323529, 0.352941, 0.382353, 0.411765, 0.441176, 0.470588, 0.5, 0.529412, 0.558824, 0.588235, 0.617647, 0.647059, 0.676471, 0.705882, 0.735294, 0.764706, 0.794118, 0.823529, 0.852941, 0.882353, 0.911765, 0.941176, 0.970588, 1]), y_fragile_linear_neuron_IDX_map={0: 5.5, 1: 0.5, 2: 33.5, 3: 12.5, 4: 30.5, 5: 14.5, 6: 29.5, 7: 1.5, 8: 25.5, 9: 32.5, 10: 7.5, 11: 16.5, 12: 22.5, 13: 24.5, 14: 28.5, 15: 19.5, 16: 18.5, 17: 27.5, 18: 20.5, 19: 13.5, 20: 11.5, 21: 10.5, 22: 2.5, 23: 17.5, 24: 23.5, 25: 21.5, 26: 9.5, 27: 4.5, 28: 8.5, 29: 3.5, 30: 6.5, 31: 26.5, 32: 15.5, 33: 31.5}, params=RasterPlotParams(center_mode='starting_at_zero', bin_position_mode='bin_center', side_bin_margins=0.0, neuron_qcolors=[<PyQt5.QtGui.QColor object at 0x000001F2FBE6F9E0>, <PyQt5.QtGui.QColor object at 0x000001F2FBE6FA50>, <PyQt5.QtGui.QColor object at 0x000001F2FBE6FAC0>, <PyQt5.QtGui.QColor object at 0x000001F2FBE6FB30>, <PyQt5.QtGui.QColor object at 0x000001F2FBE6FBA0>, <PyQt5.QtGui.QColor object at 0x000001F2FBE6FC10>, <PyQt5.QtGui.QColor object at 0x000001F2FBE6FC80>, <PyQt5.QtGui.QColor object at 0x000001F2FBE6FCF0>, <PyQt5.QtGui.QColor object at 0x000001F2FBE6FD60>, <PyQt5.QtGui.QColor object at 0x000001F2FBE6FDD0>, <PyQt5.QtGui.QColor object at 0x000001F2FBE6FE40>, <PyQt5.QtGui.QColor object at 0x000001F2FBE6FEB0>, <PyQt5.QtGui.QColor object at 0x000001F2FBE6FF20>, <PyQt5.QtGui.QColor object at 0x000001F2FBE6FF90>, <PyQt5.QtGui.QColor object at 0x000001F2FBE68040>, <PyQt5.QtGui.QColor object at 0x000001F2FBE680B0>, <PyQt5.QtGui.QColor object at 0x000001F2FBE68120>, <PyQt5.QtGui.QColor object at 0x000001F2FBE68190>, <PyQt5.QtGui.QColor object at 0x000001F2FBE68200>, <PyQt5.QtGui.QColor object at 0x000001F2FBE68270>, <PyQt5.QtGui.QColor object at 0x000001F2FBE682E0>, <PyQt5.QtGui.QColor object at 0x000001F2FBE68350>, <PyQt5.QtGui.QColor object at 0x000001F2FBE683C0>, <PyQt5.QtGui.QColor object at 0x000001F2FBE68430>, <PyQt5.QtGui.QColor object at 0x000001F2FBE684A0>, <PyQt5.QtGui.QColor object at 0x000001F2FBE68510>, <PyQt5.QtGui.QColor object at 0x000001F2FBE68580>, <PyQt5.QtGui.QColor object at 0x000001F2FBE685F0>, <PyQt5.QtGui.QColor object at 0x000001F2FBE68660>, <PyQt5.QtGui.QColor object at 0x000001F2FBE686D0>, <PyQt5.QtGui.QColor object at 0x000001F2FBE68740>, <PyQt5.QtGui.QColor object at 0x000001F2FBE687B0>, <PyQt5.QtGui.QColor object at 0x000001F2FBE68820>, <PyQt5.QtGui.QColor object at 0x000001F2FBE68890>], neuron_colors=array([[1, 0.988235, 0.980392, 0.972549, 0.941176, 0.870588, 0.796078, 0.72549, 0.592157, 0.435294, 0.27451, 0.117647, 0.0823529, 0.0509804, 0.0196078, 0.00784314, 0.0431373, 0.0745098, 0.109804, 0.215686, 0.356863, 0.501961, 0.647059, 0.709804, 0.776471, 0.839216, 0.894118, 0.92549, 0.956863, 0.988235, 1, 1, 1, 1],\n",
       "        [0.615686, 0.686275, 0.760784, 0.831373, 0.87451, 0.854902, 0.835294, 0.815686, 0.8, 0.788235, 0.772549, 0.760784, 0.721569, 0.686275, 0.65098, 0.611765, 0.568627, 0.52549, 0.482353, 0.439216, 0.392157, 0.345098, 0.301961, 0.266667, 0.231373, 0.196078, 0.184314, 0.227451, 0.266667, 0.309804, 0.376471, 0.454902, 0.533333, 0.615686],\n",
       "        [0, 0, 0, 0, 0, 0, 0, 0, 0, 0, 0, 0, 0, 0, 0, 0, 0, 0, 0, 0.00392157, 0.00392157, 0.00392157, 0.00392157, 0, 0, 0, 0, 0, 0, 0, 0, 0, 0, 0],\n",
       "        [0.00392157, 0.00392157, 0.00392157, 0.00392157, 0.00392157, 0.00392157, 0.00392157, 0.00392157, 0.00392157, 0.00392157, 0.00392157, 0.00392157, 0.00392157, 0.00392157, 0.00392157, 0.00392157, 0.00392157, 0.00392157, 0.00392157, 0.00392157, 0.00392157, 0.00392157, 0.00392157, 0.00392157, 0.00392157, 0.00392157, 0.00392157, 0.00392157, 0.00392157, 0.00392157, 0.00392157, 0.00392157, 0.00392157, 0.00392157]]), neuron_colors_hex=['#ff9d00', '#fcaf00', '#fac200', '#f8d400', '#f0df00', '#deda00', '#cbd500', '#b9d000', '#97cc00', '#6fc900', '#46c500', '#1ec200', '#15b800', '#0daf00', '#05a600', '#029c00', '#0b9100', '#138600', '#1c7b00', '#377001', '#5b6401', '#805801', '#a54d01', '#b54400', '#c63b00', '#d63200', '#e42f00', '#ec3a00', '#f44400', '#fc4f00', '#ff6000', '#ff7400', '#ff8800', '#ff9d00'], neuron_qcolors_map={0: <PyQt5.QtGui.QColor object at 0x000001F2FBE68900>, 1: <PyQt5.QtGui.QColor object at 0x000001F2FBE68970>, 2: <PyQt5.QtGui.QColor object at 0x000001F2FBE689E0>, 3: <PyQt5.QtGui.QColor object at 0x000001F2FBE68A50>, 4: <PyQt5.QtGui.QColor object at 0x000001F2FBE68AC0>, 5: <PyQt5.QtGui.QColor object at 0x000001F2FBE68B30>, 6: <PyQt5.QtGui.QColor object at 0x000001F2FBE68BA0>, 7: <PyQt5.QtGui.QColor object at 0x000001F2FBE68C10>, 8: <PyQt5.QtGui.QColor object at 0x000001F2FBE68C80>, 9: <PyQt5.QtGui.QColor object at 0x000001F2FBE68CF0>, 10: <PyQt5.QtGui.QColor object at 0x000001F2FBE68D60>, 11: <PyQt5.QtGui.QColor object at 0x000001F2FBE68DD0>, 12: <PyQt5.QtGui.QColor object at 0x000001F2FBE68E40>, 13: <PyQt5.QtGui.QColor object at 0x000001F2FBE68EB0>, 14: <PyQt5.QtGui.QColor object at 0x000001F2FBE68F20>, 15: <PyQt5.QtGui.QColor object at 0x000001F2FBE68F90>, 16: <PyQt5.QtGui.QColor object at 0x000001F2FBE77040>, 17: <PyQt5.QtGui.QColor object at 0x000001F2FBE770B0>, 18: <PyQt5.QtGui.QColor object at 0x000001F2FBE77120>, 19: <PyQt5.QtGui.QColor object at 0x000001F2FBE77190>, 20: <PyQt5.QtGui.QColor object at 0x000001F2FBE77200>, 21: <PyQt5.QtGui.QColor object at 0x000001F2FBE77270>, 22: <PyQt5.QtGui.QColor object at 0x000001F2FBE772E0>, 23: <PyQt5.QtGui.QColor object at 0x000001F2FBE77350>, 24: <PyQt5.QtGui.QColor object at 0x000001F2FBE773C0>, 25: <PyQt5.QtGui.QColor object at 0x000001F2FBE77430>, 26: <PyQt5.QtGui.QColor object at 0x000001F2FBE774A0>, 27: <PyQt5.QtGui.QColor object at 0x000001F2FBE77510>, 28: <PyQt5.QtGui.QColor object at 0x000001F2FBE77580>, 29: <PyQt5.QtGui.QColor object at 0x000001F2FBE775F0>, 30: <PyQt5.QtGui.QColor object at 0x000001F2FBE77660>, 31: <PyQt5.QtGui.QColor object at 0x000001F2FBE776D0>, 32: <PyQt5.QtGui.QColor object at 0x000001F2FBE77740>, 33: <PyQt5.QtGui.QColor object at 0x000001F2FBE777B0>}, config_items=IndexedOrderedDict([(5, (None, None, {<SpikeEmphasisState.Hidden: 0>: <PyQt5.QtGui.QPen object at 0x000001F302229C10>, <SpikeEmphasisState.Deemphasized: 1>: <PyQt5.QtGui.QPen object at 0x000001F302229BA0>, <SpikeEmphasisState.Default: 2>: <PyQt5.QtGui.QPen object at 0x000001F302229AC0>, <SpikeEmphasisState.Emphasized: 3>: <PyQt5.QtGui.QPen object at 0x000001F302229B30>}, None, None)), (7, (None, None, {<SpikeEmphasisState.Hidden: 0>: <PyQt5.QtGui.QPen object at 0x000001F302229A50>, <SpikeEmphasisState.Deemphasized: 1>: <PyQt5.QtGui.QPen object at 0x000001F3022299E0>, <SpikeEmphasisState.Default: 2>: <PyQt5.QtGui.QPen object at 0x000001F302229970>, <SpikeEmphasisState.Emphasized: 3>: <PyQt5.QtGui.QPen object at 0x000001F302229900>}, None, None)), (9, (None, None, {<SpikeEmphasisState.Hidden: 0>: <PyQt5.QtGui.QPen object at 0x000001F302229890>, <SpikeEmphasisState.Deemphasized: 1>: <PyQt5.QtGui.QPen object at 0x000001F302229820>, <SpikeEmphasisState.Default: 2>: <PyQt5.QtGui.QPen object at 0x000001F3022297B0>, <SpikeEmphasisState.Emphasized: 3>: <PyQt5.QtGui.QPen object at 0x000001F302229740>}, None, None)), (31, (None, None, {<SpikeEmphasisState.Hidden: 0>: <PyQt5.QtGui.QPen object at 0x000001F3022296D0>, <SpikeEmphasisState.Deemphasized: 1>: <PyQt5.QtGui.QPen object at 0x000001F302229660>, <SpikeEmphasisState.Default: 2>: <PyQt5.QtGui.QPen object at 0x000001F3022295F0>, <SpikeEmphasisState.Emphasized: 3>: <PyQt5.QtGui.QPen object at 0x000001F302229580>}, None, None)), (32, (None, None, {<SpikeEmphasisState.Hidden: 0>: <PyQt5.QtGui.QPen object at 0x000001F302229510>, <SpikeEmphasisState.Deemphasized: 1>: <PyQt5.QtGui.QPen object at 0x000001F302229430>, <SpikeEmphasisState.Default: 2>: <PyQt5.QtGui.QPen object at 0x000001F3022290B0>, <SpikeEmphasisState.Emphasized: 3>: <PyQt5.QtGui.QPen object at 0x000001F302229040>}, None, None)), (39, (None, None, {<SpikeEmphasisState.Hidden: 0>: <PyQt5.QtGui.QPen object at 0x000001F302229120>, <SpikeEmphasisState.Deemphasized: 1>: <PyQt5.QtGui.QPen object at 0x000001F302229190>, <SpikeEmphasisState.Default: 2>: <PyQt5.QtGui.QPen object at 0x000001F302229200>, <SpikeEmphasisState.Emphasized: 3>: <PyQt5.QtGui.QPen object at 0x000001F3022292E0>}, None, None)), (41, (None, None, {<SpikeEmphasisState.Hidden: 0>: <PyQt5.QtGui.QPen object at 0x000001F3022293C0>, <SpikeEmphasisState.Deemphasized: 1>: <PyQt5.QtGui.QPen object at 0x000001F302229350>, <SpikeEmphasisState.Default: 2>: <PyQt5.QtGui.QPen object at 0x000001F2FBE6F900>, <SpikeEmphasisState.Emphasized: 3>: <PyQt5.QtGui.QPen object at 0x000001F2FBE6F890>}, None, None)), (45, (None, None, {<SpikeEmphasisState.Hidden: 0>: <PyQt5.QtGui.QPen object at 0x000001F2FBE6F820>, <SpikeEmphasisState.Deemphasized: 1>: <PyQt5.QtGui.QPen object at 0x000001F2FBE6F7B0>, <SpikeEmphasisState.Default: 2>: <PyQt5.QtGui.QPen object at 0x000001F2FBE6F740>, <SpikeEmphasisState.Emphasized: 3>: <PyQt5.QtGui.QPen object at 0x000001F2FBE6F970>}, None, None)), (46, (None, None, {<SpikeEmphasisState.Hidden: 0>: <PyQt5.QtGui.QPen object at 0x000001F2FBE77820>, <SpikeEmphasisState.Deemphasized: 1>: <PyQt5.QtGui.QPen object at 0x000001F2FBE77890>, <SpikeEmphasisState.Default: 2>: <PyQt5.QtGui.QPen object at 0x000001F2FBE77900>, <SpikeEmphasisState.Emphasized: 3>: <PyQt5.QtGui.QPen object at 0x000001F2FBE77970>}, None, None)), (48, (None, None, {<SpikeEmphasisState.Hidden: 0>: <PyQt5.QtGui.QPen object at 0x000001F2FBE779E0>, <SpikeEmphasisState.Deemphasized: 1>: <PyQt5.QtGui.QPen object at 0x000001F2FBE77A50>, <SpikeEmphasisState.Default: 2>: <PyQt5.QtGui.QPen object at 0x000001F2FBE77AC0>, <SpikeEmphasisState.Emphasized: 3>: <PyQt5.QtGui.QPen object at 0x000001F2FBE77B30>}, None, None)), (50, (None, None, {<SpikeEmphasisState.Hidden: 0>: <PyQt5.QtGui.QPen object at 0x000001F2FBE77BA0>, <SpikeEmphasisState.Deemphasized: 1>: <PyQt5.QtGui.QPen object at 0x000001F2FBE77C10>, <SpikeEmphasisState.Default: 2>: <PyQt5.QtGui.QPen object at 0x000001F2FBE77C80>, <SpikeEmphasisState.Emphasized: 3>: <PyQt5.QtGui.QPen object at 0x000001F2FBE77CF0>}, None, None)), (55, (None, None, {<SpikeEmphasisState.Hidden: 0>: <PyQt5.QtGui.QPen object at 0x000001F2FBE77D60>, <SpikeEmphasisState.Deemphasized: 1>: <PyQt5.QtGui.QPen object at 0x000001F2FBE77DD0>, <SpikeEmphasisState.Default: 2>: <PyQt5.QtGui.QPen object at 0x000001F2FBE77E40>, <SpikeEmphasisState.Emphasized: 3>: <PyQt5.QtGui.QPen object at 0x000001F2FBE77EB0>}, None, None)), (61, (None, None, {<SpikeEmphasisState.Hidden: 0>: <PyQt5.QtGui.QPen object at 0x000001F2FBE77F20>, <SpikeEmphasisState.Deemphasized: 1>: <PyQt5.QtGui.QPen object at 0x000001F2FBE77F90>, <SpikeEmphasisState.Default: 2>: <PyQt5.QtGui.QPen object at 0x000001F2FBE51040>, <SpikeEmphasisState.Emphasized: 3>: <PyQt5.QtGui.QPen object at 0x000001F2FBE510B0>}, None, None)), (62, (None, None, {<SpikeEmphasisState.Hidden: 0>: <PyQt5.QtGui.QPen object at 0x000001F2FBE51120>, <SpikeEmphasisState.Deemphasized: 1>: <PyQt5.QtGui.QPen object at 0x000001F2FBE51190>, <SpikeEmphasisState.Default: 2>: <PyQt5.QtGui.QPen object at 0x000001F2FBE51200>, <SpikeEmphasisState.Emphasized: 3>: <PyQt5.QtGui.QPen object at 0x000001F2FBE51270>}, None, None)), (64, (None, None, {<SpikeEmphasisState.Hidden: 0>: <PyQt5.QtGui.QPen object at 0x000001F2FBE512E0>, <SpikeEmphasisState.Deemphasized: 1>: <PyQt5.QtGui.QPen object at 0x000001F2FBE51350>, <SpikeEmphasisState.Default: 2>: <PyQt5.QtGui.QPen object at 0x000001F2FBE513C0>, <SpikeEmphasisState.Emphasized: 3>: <PyQt5.QtGui.QPen object at 0x000001F2FBE51430>}, None, None)), (69, (None, None, {<SpikeEmphasisState.Hidden: 0>: <PyQt5.QtGui.QPen object at 0x000001F2FBE514A0>, <SpikeEmphasisState.Deemphasized: 1>: <PyQt5.QtGui.QPen object at 0x000001F2FBE51510>, <SpikeEmphasisState.Default: 2>: <PyQt5.QtGui.QPen object at 0x000001F2FBE51580>, <SpikeEmphasisState.Emphasized: 3>: <PyQt5.QtGui.QPen object at 0x000001F2FBE515F0>}, None, None)), (72, (None, None, {<SpikeEmphasisState.Hidden: 0>: <PyQt5.QtGui.QPen object at 0x000001F2FBE51660>, <SpikeEmphasisState.Deemphasized: 1>: <PyQt5.QtGui.QPen object at 0x000001F2FBE516D0>, <SpikeEmphasisState.Default: 2>: <PyQt5.QtGui.QPen object at 0x000001F2FBE51740>, <SpikeEmphasisState.Emphasized: 3>: <PyQt5.QtGui.QPen object at 0x000001F2FBE517B0>}, None, None)), (75, (None, None, {<SpikeEmphasisState.Hidden: 0>: <PyQt5.QtGui.QPen object at 0x000001F2FBE51820>, <SpikeEmphasisState.Deemphasized: 1>: <PyQt5.QtGui.QPen object at 0x000001F2FBE51890>, <SpikeEmphasisState.Default: 2>: <PyQt5.QtGui.QPen object at 0x000001F2FBE51900>, <SpikeEmphasisState.Emphasized: 3>: <PyQt5.QtGui.QPen object at 0x000001F2FBE51970>}, None, None)), (76, (None, None, {<SpikeEmphasisState.Hidden: 0>: <PyQt5.QtGui.QPen object at 0x000001F2FBE519E0>, <SpikeEmphasisState.Deemphasized: 1>: <PyQt5.QtGui.QPen object at 0x000001F2FBE51A50>, <SpikeEmphasisState.Default: 2>: <PyQt5.QtGui.QPen object at 0x000001F2FBE51AC0>, <SpikeEmphasisState.Emphasized: 3>: <PyQt5.QtGui.QPen object at 0x000001F2FBE51B30>}, None, None)), (78, (None, None, {<SpikeEmphasisState.Hidden: 0>: <PyQt5.QtGui.QPen object at 0x000001F2FBE51BA0>, <SpikeEmphasisState.Deemphasized: 1>: <PyQt5.QtGui.QPen object at 0x000001F2FBE51C10>, <SpikeEmphasisState.Default: 2>: <PyQt5.QtGui.QPen object at 0x000001F2FBE51C80>, <SpikeEmphasisState.Emphasized: 3>: <PyQt5.QtGui.QPen object at 0x000001F2FBE51CF0>}, None, None)), (79, (None, None, {<SpikeEmphasisState.Hidden: 0>: <PyQt5.QtGui.QPen object at 0x000001F2FBE51D60>, <SpikeEmphasisState.Deemphasized: 1>: <PyQt5.QtGui.QPen object at 0x000001F2FBE51DD0>, <SpikeEmphasisState.Default: 2>: <PyQt5.QtGui.QPen object at 0x000001F2FBE51E40>, <SpikeEmphasisState.Emphasized: 3>: <PyQt5.QtGui.QPen object at 0x000001F2FBE51EB0>}, None, None)), (83, (None, None, {<SpikeEmphasisState.Hidden: 0>: <PyQt5.QtGui.QPen object at 0x000001F2FBE51F20>, <SpikeEmphasisState.Deemphasized: 1>: <PyQt5.QtGui.QPen object at 0x000001F2FBE51F90>, <SpikeEmphasisState.Default: 2>: <PyQt5.QtGui.QPen object at 0x000001F2FBE56040>, <SpikeEmphasisState.Emphasized: 3>: <PyQt5.QtGui.QPen object at 0x000001F2FBE560B0>}, None, None)), (84, (None, None, {<SpikeEmphasisState.Hidden: 0>: <PyQt5.QtGui.QPen object at 0x000001F2FBE56120>, <SpikeEmphasisState.Deemphasized: 1>: <PyQt5.QtGui.QPen object at 0x000001F2FBE56190>, <SpikeEmphasisState.Default: 2>: <PyQt5.QtGui.QPen object at 0x000001F2FBE56200>, <SpikeEmphasisState.Emphasized: 3>: <PyQt5.QtGui.QPen object at 0x000001F2FBE56270>}, None, None)), (86, (None, None, {<SpikeEmphasisState.Hidden: 0>: <PyQt5.QtGui.QPen object at 0x000001F2FBE562E0>, <SpikeEmphasisState.Deemphasized: 1>: <PyQt5.QtGui.QPen object at 0x000001F2FBE56350>, <SpikeEmphasisState.Default: 2>: <PyQt5.QtGui.QPen object at 0x000001F2FBE563C0>, <SpikeEmphasisState.Emphasized: 3>: <PyQt5.QtGui.QPen object at 0x000001F2FBE56430>}, None, None)), (88, (None, None, {<SpikeEmphasisState.Hidden: 0>: <PyQt5.QtGui.QPen object at 0x000001F2FBE564A0>, <SpikeEmphasisState.Deemphasized: 1>: <PyQt5.QtGui.QPen object at 0x000001F2FBE56510>, <SpikeEmphasisState.Default: 2>: <PyQt5.QtGui.QPen object at 0x000001F2FBE56580>, <SpikeEmphasisState.Emphasized: 3>: <PyQt5.QtGui.QPen object at 0x000001F2FBE565F0>}, None, None)), (90, (None, None, {<SpikeEmphasisState.Hidden: 0>: <PyQt5.QtGui.QPen object at 0x000001F2FBE56660>, <SpikeEmphasisState.Deemphasized: 1>: <PyQt5.QtGui.QPen object at 0x000001F2FBE566D0>, <SpikeEmphasisState.Default: 2>: <PyQt5.QtGui.QPen object at 0x000001F2FBE56740>, <SpikeEmphasisState.Emphasized: 3>: <PyQt5.QtGui.QPen object at 0x000001F2FBE567B0>}, None, None)), (91, (None, None, {<SpikeEmphasisState.Hidden: 0>: <PyQt5.QtGui.QPen object at 0x000001F2FBE56820>, <SpikeEmphasisState.Deemphasized: 1>: <PyQt5.QtGui.QPen object at 0x000001F2FBE56890>, <SpikeEmphasisState.Default: 2>: <PyQt5.QtGui.QPen object at 0x000001F2FBE56900>, <SpikeEmphasisState.Emphasized: 3>: <PyQt5.QtGui.QPen object at 0x000001F2FBE56970>}, None, None)), (92, (None, None, {<SpikeEmphasisState.Hidden: 0>: <PyQt5.QtGui.QPen object at 0x000001F2FBE569E0>, <SpikeEmphasisState.Deemphasized: 1>: <PyQt5.QtGui.QPen object at 0x000001F2FBE56A50>, <SpikeEmphasisState.Default: 2>: <PyQt5.QtGui.QPen object at 0x000001F2FBE56AC0>, <SpikeEmphasisState.Emphasized: 3>: <PyQt5.QtGui.QPen object at 0x000001F2FBE56B30>}, None, None)), (93, (None, None, {<SpikeEmphasisState.Hidden: 0>: <PyQt5.QtGui.QPen object at 0x000001F2FBE56BA0>, <SpikeEmphasisState.Deemphasized: 1>: <PyQt5.QtGui.QPen object at 0x000001F2FBE56C10>, <SpikeEmphasisState.Default: 2>: <PyQt5.QtGui.QPen object at 0x000001F2FBE56C80>, <SpikeEmphasisState.Emphasized: 3>: <PyQt5.QtGui.QPen object at 0x000001F2FBE56CF0>}, None, None)), (95, (None, None, {<SpikeEmphasisState.Hidden: 0>: <PyQt5.QtGui.QPen object at 0x000001F2FBE56D60>, <SpikeEmphasisState.Deemphasized: 1>: <PyQt5.QtGui.QPen object at 0x000001F2FBE56DD0>, <SpikeEmphasisState.Default: 2>: <PyQt5.QtGui.QPen object at 0x000001F2FBE56E40>, <SpikeEmphasisState.Emphasized: 3>: <PyQt5.QtGui.QPen object at 0x000001F2FBE56EB0>}, None, None)), (99, (None, None, {<SpikeEmphasisState.Hidden: 0>: <PyQt5.QtGui.QPen object at 0x000001F2FBE56F20>, <SpikeEmphasisState.Deemphasized: 1>: <PyQt5.QtGui.QPen object at 0x000001F2FBE56F90>, <SpikeEmphasisState.Default: 2>: <PyQt5.QtGui.QPen object at 0x000001F2FBE70040>, <SpikeEmphasisState.Emphasized: 3>: <PyQt5.QtGui.QPen object at 0x000001F2FBE700B0>}, None, None)), (100, (None, None, {<SpikeEmphasisState.Hidden: 0>: <PyQt5.QtGui.QPen object at 0x000001F2FBE70120>, <SpikeEmphasisState.Deemphasized: 1>: <PyQt5.QtGui.QPen object at 0x000001F2FBE70190>, <SpikeEmphasisState.Default: 2>: <PyQt5.QtGui.QPen object at 0x000001F2FBE70200>, <SpikeEmphasisState.Emphasized: 3>: <PyQt5.QtGui.QPen object at 0x000001F2FBE70270>}, None, None)), (101, (None, None, {<SpikeEmphasisState.Hidden: 0>: <PyQt5.QtGui.QPen object at 0x000001F2FBE702E0>, <SpikeEmphasisState.Deemphasized: 1>: <PyQt5.QtGui.QPen object at 0x000001F2FBE70350>, <SpikeEmphasisState.Default: 2>: <PyQt5.QtGui.QPen object at 0x000001F2FBE703C0>, <SpikeEmphasisState.Emphasized: 3>: <PyQt5.QtGui.QPen object at 0x000001F2FBE70430>}, None, None)), (108, (None, None, {<SpikeEmphasisState.Hidden: 0>: <PyQt5.QtGui.QPen object at 0x000001F2FBE704A0>, <SpikeEmphasisState.Deemphasized: 1>: <PyQt5.QtGui.QPen object at 0x000001F2FBE70510>, <SpikeEmphasisState.Default: 2>: <PyQt5.QtGui.QPen object at 0x000001F2FBE70580>, <SpikeEmphasisState.Emphasized: 3>: <PyQt5.QtGui.QPen object at 0x000001F2FBE705F0>}, None, None))]))), 'raster_plot_manager': RasterScatterPlotManager(unit_sort_manager=UnitSortOrderManager(neuron_ids=array([  5,   7,   9,  31,  32,  39,  41,  45,  46,  48,  50,  55,  61,  62,  64,  69,  72,  75,  76,  78,  79,  83,  84,  86,  88,  90,  91,  92,  93,  95,  99, 100, 101, 108]), fragile_linear_neuron_IDXs=array([ 0,  1,  2,  3,  4,  5,  6,  7,  8,  9, 10, 11, 12, 13, 14, 15, 16, 17, 18, 19, 20, 21, 22, 23, 24, 25, 26, 27, 28, 29, 30, 31, 32, 33]), n_cells=34, unit_sort_order=array([ 5,  0, 33, 12, 30, 14, 29,  1, 25, 32,  7, 16, 22, 24, 28, 19, 18, 27, 20, 13, 11, 10,  2, 17, 23, 21,  9,  4,  8,  3,  6, 26, 15, 31]), _series_identity_y_values=array([0.5, 1.5, 2.5, 3.5, 4.5, 5.5, 6.5, 7.5, 8.5, 9.5, 10.5, 11.5, 12.5, 13.5, 14.5, 15.5, 16.5, 17.5, 18.5, 19.5, 20.5, 21.5, 22.5, 23.5, 24.5, 25.5, 26.5, 27.5, 28.5, 29.5, 30.5, 31.5, 32.5, 33.5]), _series_identity_lower_y_values=array([0, 0.0294118, 0.0588235, 0.0882353, 0.117647, 0.147059, 0.176471, 0.205882, 0.235294, 0.264706, 0.294118, 0.323529, 0.352941, 0.382353, 0.411765, 0.441176, 0.470588, 0.5, 0.529412, 0.558824, 0.588235, 0.617647, 0.647059, 0.676471, 0.705882, 0.735294, 0.764706, 0.794118, 0.823529, 0.852941, 0.882353, 0.911765, 0.941176, 0.970588]), _series_identity_upper_y_values=array([0.0294118, 0.0588235, 0.0882353, 0.117647, 0.147059, 0.176471, 0.205882, 0.235294, 0.264706, 0.294118, 0.323529, 0.352941, 0.382353, 0.411765, 0.441176, 0.470588, 0.5, 0.529412, 0.558824, 0.588235, 0.617647, 0.647059, 0.676471, 0.705882, 0.735294, 0.764706, 0.794118, 0.823529, 0.852941, 0.882353, 0.911765, 0.941176, 0.970588, 1]), y_fragile_linear_neuron_IDX_map={0: 5.5, 1: 0.5, 2: 33.5, 3: 12.5, 4: 30.5, 5: 14.5, 6: 29.5, 7: 1.5, 8: 25.5, 9: 32.5, 10: 7.5, 11: 16.5, 12: 22.5, 13: 24.5, 14: 28.5, 15: 19.5, 16: 18.5, 17: 27.5, 18: 20.5, 19: 13.5, 20: 11.5, 21: 10.5, 22: 2.5, 23: 17.5, 24: 23.5, 25: 21.5, 26: 9.5, 27: 4.5, 28: 8.5, 29: 3.5, 30: 6.5, 31: 26.5, 32: 15.5, 33: 31.5}, params=RasterPlotParams(center_mode='starting_at_zero', bin_position_mode='bin_center', side_bin_margins=0.0, neuron_qcolors=[<PyQt5.QtGui.QColor object at 0x000001F2FBE6F9E0>, <PyQt5.QtGui.QColor object at 0x000001F2FBE6FA50>, <PyQt5.QtGui.QColor object at 0x000001F2FBE6FAC0>, <PyQt5.QtGui.QColor object at 0x000001F2FBE6FB30>, <PyQt5.QtGui.QColor object at 0x000001F2FBE6FBA0>, <PyQt5.QtGui.QColor object at 0x000001F2FBE6FC10>, <PyQt5.QtGui.QColor object at 0x000001F2FBE6FC80>, <PyQt5.QtGui.QColor object at 0x000001F2FBE6FCF0>, <PyQt5.QtGui.QColor object at 0x000001F2FBE6FD60>, <PyQt5.QtGui.QColor object at 0x000001F2FBE6FDD0>, <PyQt5.QtGui.QColor object at 0x000001F2FBE6FE40>, <PyQt5.QtGui.QColor object at 0x000001F2FBE6FEB0>, <PyQt5.QtGui.QColor object at 0x000001F2FBE6FF20>, <PyQt5.QtGui.QColor object at 0x000001F2FBE6FF90>, <PyQt5.QtGui.QColor object at 0x000001F2FBE68040>, <PyQt5.QtGui.QColor object at 0x000001F2FBE680B0>, <PyQt5.QtGui.QColor object at 0x000001F2FBE68120>, <PyQt5.QtGui.QColor object at 0x000001F2FBE68190>, <PyQt5.QtGui.QColor object at 0x000001F2FBE68200>, <PyQt5.QtGui.QColor object at 0x000001F2FBE68270>, <PyQt5.QtGui.QColor object at 0x000001F2FBE682E0>, <PyQt5.QtGui.QColor object at 0x000001F2FBE68350>, <PyQt5.QtGui.QColor object at 0x000001F2FBE683C0>, <PyQt5.QtGui.QColor object at 0x000001F2FBE68430>, <PyQt5.QtGui.QColor object at 0x000001F2FBE684A0>, <PyQt5.QtGui.QColor object at 0x000001F2FBE68510>, <PyQt5.QtGui.QColor object at 0x000001F2FBE68580>, <PyQt5.QtGui.QColor object at 0x000001F2FBE685F0>, <PyQt5.QtGui.QColor object at 0x000001F2FBE68660>, <PyQt5.QtGui.QColor object at 0x000001F2FBE686D0>, <PyQt5.QtGui.QColor object at 0x000001F2FBE68740>, <PyQt5.QtGui.QColor object at 0x000001F2FBE687B0>, <PyQt5.QtGui.QColor object at 0x000001F2FBE68820>, <PyQt5.QtGui.QColor object at 0x000001F2FBE68890>], neuron_colors=array([[1, 0.988235, 0.980392, 0.972549, 0.941176, 0.870588, 0.796078, 0.72549, 0.592157, 0.435294, 0.27451, 0.117647, 0.0823529, 0.0509804, 0.0196078, 0.00784314, 0.0431373, 0.0745098, 0.109804, 0.215686, 0.356863, 0.501961, 0.647059, 0.709804, 0.776471, 0.839216, 0.894118, 0.92549, 0.956863, 0.988235, 1, 1, 1, 1],\n",
       "        [0.615686, 0.686275, 0.760784, 0.831373, 0.87451, 0.854902, 0.835294, 0.815686, 0.8, 0.788235, 0.772549, 0.760784, 0.721569, 0.686275, 0.65098, 0.611765, 0.568627, 0.52549, 0.482353, 0.439216, 0.392157, 0.345098, 0.301961, 0.266667, 0.231373, 0.196078, 0.184314, 0.227451, 0.266667, 0.309804, 0.376471, 0.454902, 0.533333, 0.615686],\n",
       "        [0, 0, 0, 0, 0, 0, 0, 0, 0, 0, 0, 0, 0, 0, 0, 0, 0, 0, 0, 0.00392157, 0.00392157, 0.00392157, 0.00392157, 0, 0, 0, 0, 0, 0, 0, 0, 0, 0, 0],\n",
       "        [0.00392157, 0.00392157, 0.00392157, 0.00392157, 0.00392157, 0.00392157, 0.00392157, 0.00392157, 0.00392157, 0.00392157, 0.00392157, 0.00392157, 0.00392157, 0.00392157, 0.00392157, 0.00392157, 0.00392157, 0.00392157, 0.00392157, 0.00392157, 0.00392157, 0.00392157, 0.00392157, 0.00392157, 0.00392157, 0.00392157, 0.00392157, 0.00392157, 0.00392157, 0.00392157, 0.00392157, 0.00392157, 0.00392157, 0.00392157]]), neuron_colors_hex=['#ff9d00', '#fcaf00', '#fac200', '#f8d400', '#f0df00', '#deda00', '#cbd500', '#b9d000', '#97cc00', '#6fc900', '#46c500', '#1ec200', '#15b800', '#0daf00', '#05a600', '#029c00', '#0b9100', '#138600', '#1c7b00', '#377001', '#5b6401', '#805801', '#a54d01', '#b54400', '#c63b00', '#d63200', '#e42f00', '#ec3a00', '#f44400', '#fc4f00', '#ff6000', '#ff7400', '#ff8800', '#ff9d00'], neuron_qcolors_map={0: <PyQt5.QtGui.QColor object at 0x000001F2FBE68900>, 1: <PyQt5.QtGui.QColor object at 0x000001F2FBE68970>, 2: <PyQt5.QtGui.QColor object at 0x000001F2FBE689E0>, 3: <PyQt5.QtGui.QColor object at 0x000001F2FBE68A50>, 4: <PyQt5.QtGui.QColor object at 0x000001F2FBE68AC0>, 5: <PyQt5.QtGui.QColor object at 0x000001F2FBE68B30>, 6: <PyQt5.QtGui.QColor object at 0x000001F2FBE68BA0>, 7: <PyQt5.QtGui.QColor object at 0x000001F2FBE68C10>, 8: <PyQt5.QtGui.QColor object at 0x000001F2FBE68C80>, 9: <PyQt5.QtGui.QColor object at 0x000001F2FBE68CF0>, 10: <PyQt5.QtGui.QColor object at 0x000001F2FBE68D60>, 11: <PyQt5.QtGui.QColor object at 0x000001F2FBE68DD0>, 12: <PyQt5.QtGui.QColor object at 0x000001F2FBE68E40>, 13: <PyQt5.QtGui.QColor object at 0x000001F2FBE68EB0>, 14: <PyQt5.QtGui.QColor object at 0x000001F2FBE68F20>, 15: <PyQt5.QtGui.QColor object at 0x000001F2FBE68F90>, 16: <PyQt5.QtGui.QColor object at 0x000001F2FBE77040>, 17: <PyQt5.QtGui.QColor object at 0x000001F2FBE770B0>, 18: <PyQt5.QtGui.QColor object at 0x000001F2FBE77120>, 19: <PyQt5.QtGui.QColor object at 0x000001F2FBE77190>, 20: <PyQt5.QtGui.QColor object at 0x000001F2FBE77200>, 21: <PyQt5.QtGui.QColor object at 0x000001F2FBE77270>, 22: <PyQt5.QtGui.QColor object at 0x000001F2FBE772E0>, 23: <PyQt5.QtGui.QColor object at 0x000001F2FBE77350>, 24: <PyQt5.QtGui.QColor object at 0x000001F2FBE773C0>, 25: <PyQt5.QtGui.QColor object at 0x000001F2FBE77430>, 26: <PyQt5.QtGui.QColor object at 0x000001F2FBE774A0>, 27: <PyQt5.QtGui.QColor object at 0x000001F2FBE77510>, 28: <PyQt5.QtGui.QColor object at 0x000001F2FBE77580>, 29: <PyQt5.QtGui.QColor object at 0x000001F2FBE775F0>, 30: <PyQt5.QtGui.QColor object at 0x000001F2FBE77660>, 31: <PyQt5.QtGui.QColor object at 0x000001F2FBE776D0>, 32: <PyQt5.QtGui.QColor object at 0x000001F2FBE77740>, 33: <PyQt5.QtGui.QColor object at 0x000001F2FBE777B0>}, config_items=IndexedOrderedDict([(5, (None, None, {<SpikeEmphasisState.Hidden: 0>: <PyQt5.QtGui.QPen object at 0x000001F302229C10>, <SpikeEmphasisState.Deemphasized: 1>: <PyQt5.QtGui.QPen object at 0x000001F302229BA0>, <SpikeEmphasisState.Default: 2>: <PyQt5.QtGui.QPen object at 0x000001F302229AC0>, <SpikeEmphasisState.Emphasized: 3>: <PyQt5.QtGui.QPen object at 0x000001F302229B30>}, None, None)), (7, (None, None, {<SpikeEmphasisState.Hidden: 0>: <PyQt5.QtGui.QPen object at 0x000001F302229A50>, <SpikeEmphasisState.Deemphasized: 1>: <PyQt5.QtGui.QPen object at 0x000001F3022299E0>, <SpikeEmphasisState.Default: 2>: <PyQt5.QtGui.QPen object at 0x000001F302229970>, <SpikeEmphasisState.Emphasized: 3>: <PyQt5.QtGui.QPen object at 0x000001F302229900>}, None, None)), (9, (None, None, {<SpikeEmphasisState.Hidden: 0>: <PyQt5.QtGui.QPen object at 0x000001F302229890>, <SpikeEmphasisState.Deemphasized: 1>: <PyQt5.QtGui.QPen object at 0x000001F302229820>, <SpikeEmphasisState.Default: 2>: <PyQt5.QtGui.QPen object at 0x000001F3022297B0>, <SpikeEmphasisState.Emphasized: 3>: <PyQt5.QtGui.QPen object at 0x000001F302229740>}, None, None)), (31, (None, None, {<SpikeEmphasisState.Hidden: 0>: <PyQt5.QtGui.QPen object at 0x000001F3022296D0>, <SpikeEmphasisState.Deemphasized: 1>: <PyQt5.QtGui.QPen object at 0x000001F302229660>, <SpikeEmphasisState.Default: 2>: <PyQt5.QtGui.QPen object at 0x000001F3022295F0>, <SpikeEmphasisState.Emphasized: 3>: <PyQt5.QtGui.QPen object at 0x000001F302229580>}, None, None)), (32, (None, None, {<SpikeEmphasisState.Hidden: 0>: <PyQt5.QtGui.QPen object at 0x000001F302229510>, <SpikeEmphasisState.Deemphasized: 1>: <PyQt5.QtGui.QPen object at 0x000001F302229430>, <SpikeEmphasisState.Default: 2>: <PyQt5.QtGui.QPen object at 0x000001F3022290B0>, <SpikeEmphasisState.Emphasized: 3>: <PyQt5.QtGui.QPen object at 0x000001F302229040>}, None, None)), (39, (None, None, {<SpikeEmphasisState.Hidden: 0>: <PyQt5.QtGui.QPen object at 0x000001F302229120>, <SpikeEmphasisState.Deemphasized: 1>: <PyQt5.QtGui.QPen object at 0x000001F302229190>, <SpikeEmphasisState.Default: 2>: <PyQt5.QtGui.QPen object at 0x000001F302229200>, <SpikeEmphasisState.Emphasized: 3>: <PyQt5.QtGui.QPen object at 0x000001F3022292E0>}, None, None)), (41, (None, None, {<SpikeEmphasisState.Hidden: 0>: <PyQt5.QtGui.QPen object at 0x000001F3022293C0>, <SpikeEmphasisState.Deemphasized: 1>: <PyQt5.QtGui.QPen object at 0x000001F302229350>, <SpikeEmphasisState.Default: 2>: <PyQt5.QtGui.QPen object at 0x000001F2FBE6F900>, <SpikeEmphasisState.Emphasized: 3>: <PyQt5.QtGui.QPen object at 0x000001F2FBE6F890>}, None, None)), (45, (None, None, {<SpikeEmphasisState.Hidden: 0>: <PyQt5.QtGui.QPen object at 0x000001F2FBE6F820>, <SpikeEmphasisState.Deemphasized: 1>: <PyQt5.QtGui.QPen object at 0x000001F2FBE6F7B0>, <SpikeEmphasisState.Default: 2>: <PyQt5.QtGui.QPen object at 0x000001F2FBE6F740>, <SpikeEmphasisState.Emphasized: 3>: <PyQt5.QtGui.QPen object at 0x000001F2FBE6F970>}, None, None)), (46, (None, None, {<SpikeEmphasisState.Hidden: 0>: <PyQt5.QtGui.QPen object at 0x000001F2FBE77820>, <SpikeEmphasisState.Deemphasized: 1>: <PyQt5.QtGui.QPen object at 0x000001F2FBE77890>, <SpikeEmphasisState.Default: 2>: <PyQt5.QtGui.QPen object at 0x000001F2FBE77900>, <SpikeEmphasisState.Emphasized: 3>: <PyQt5.QtGui.QPen object at 0x000001F2FBE77970>}, None, None)), (48, (None, None, {<SpikeEmphasisState.Hidden: 0>: <PyQt5.QtGui.QPen object at 0x000001F2FBE779E0>, <SpikeEmphasisState.Deemphasized: 1>: <PyQt5.QtGui.QPen object at 0x000001F2FBE77A50>, <SpikeEmphasisState.Default: 2>: <PyQt5.QtGui.QPen object at 0x000001F2FBE77AC0>, <SpikeEmphasisState.Emphasized: 3>: <PyQt5.QtGui.QPen object at 0x000001F2FBE77B30>}, None, None)), (50, (None, None, {<SpikeEmphasisState.Hidden: 0>: <PyQt5.QtGui.QPen object at 0x000001F2FBE77BA0>, <SpikeEmphasisState.Deemphasized: 1>: <PyQt5.QtGui.QPen object at 0x000001F2FBE77C10>, <SpikeEmphasisState.Default: 2>: <PyQt5.QtGui.QPen object at 0x000001F2FBE77C80>, <SpikeEmphasisState.Emphasized: 3>: <PyQt5.QtGui.QPen object at 0x000001F2FBE77CF0>}, None, None)), (55, (None, None, {<SpikeEmphasisState.Hidden: 0>: <PyQt5.QtGui.QPen object at 0x000001F2FBE77D60>, <SpikeEmphasisState.Deemphasized: 1>: <PyQt5.QtGui.QPen object at 0x000001F2FBE77DD0>, <SpikeEmphasisState.Default: 2>: <PyQt5.QtGui.QPen object at 0x000001F2FBE77E40>, <SpikeEmphasisState.Emphasized: 3>: <PyQt5.QtGui.QPen object at 0x000001F2FBE77EB0>}, None, None)), (61, (None, None, {<SpikeEmphasisState.Hidden: 0>: <PyQt5.QtGui.QPen object at 0x000001F2FBE77F20>, <SpikeEmphasisState.Deemphasized: 1>: <PyQt5.QtGui.QPen object at 0x000001F2FBE77F90>, <SpikeEmphasisState.Default: 2>: <PyQt5.QtGui.QPen object at 0x000001F2FBE51040>, <SpikeEmphasisState.Emphasized: 3>: <PyQt5.QtGui.QPen object at 0x000001F2FBE510B0>}, None, None)), (62, (None, None, {<SpikeEmphasisState.Hidden: 0>: <PyQt5.QtGui.QPen object at 0x000001F2FBE51120>, <SpikeEmphasisState.Deemphasized: 1>: <PyQt5.QtGui.QPen object at 0x000001F2FBE51190>, <SpikeEmphasisState.Default: 2>: <PyQt5.QtGui.QPen object at 0x000001F2FBE51200>, <SpikeEmphasisState.Emphasized: 3>: <PyQt5.QtGui.QPen object at 0x000001F2FBE51270>}, None, None)), (64, (None, None, {<SpikeEmphasisState.Hidden: 0>: <PyQt5.QtGui.QPen object at 0x000001F2FBE512E0>, <SpikeEmphasisState.Deemphasized: 1>: <PyQt5.QtGui.QPen object at 0x000001F2FBE51350>, <SpikeEmphasisState.Default: 2>: <PyQt5.QtGui.QPen object at 0x000001F2FBE513C0>, <SpikeEmphasisState.Emphasized: 3>: <PyQt5.QtGui.QPen object at 0x000001F2FBE51430>}, None, None)), (69, (None, None, {<SpikeEmphasisState.Hidden: 0>: <PyQt5.QtGui.QPen object at 0x000001F2FBE514A0>, <SpikeEmphasisState.Deemphasized: 1>: <PyQt5.QtGui.QPen object at 0x000001F2FBE51510>, <SpikeEmphasisState.Default: 2>: <PyQt5.QtGui.QPen object at 0x000001F2FBE51580>, <SpikeEmphasisState.Emphasized: 3>: <PyQt5.QtGui.QPen object at 0x000001F2FBE515F0>}, None, None)), (72, (None, None, {<SpikeEmphasisState.Hidden: 0>: <PyQt5.QtGui.QPen object at 0x000001F2FBE51660>, <SpikeEmphasisState.Deemphasized: 1>: <PyQt5.QtGui.QPen object at 0x000001F2FBE516D0>, <SpikeEmphasisState.Default: 2>: <PyQt5.QtGui.QPen object at 0x000001F2FBE51740>, <SpikeEmphasisState.Emphasized: 3>: <PyQt5.QtGui.QPen object at 0x000001F2FBE517B0>}, None, None)), (75, (None, None, {<SpikeEmphasisState.Hidden: 0>: <PyQt5.QtGui.QPen object at 0x000001F2FBE51820>, <SpikeEmphasisState.Deemphasized: 1>: <PyQt5.QtGui.QPen object at 0x000001F2FBE51890>, <SpikeEmphasisState.Default: 2>: <PyQt5.QtGui.QPen object at 0x000001F2FBE51900>, <SpikeEmphasisState.Emphasized: 3>: <PyQt5.QtGui.QPen object at 0x000001F2FBE51970>}, None, None)), (76, (None, None, {<SpikeEmphasisState.Hidden: 0>: <PyQt5.QtGui.QPen object at 0x000001F2FBE519E0>, <SpikeEmphasisState.Deemphasized: 1>: <PyQt5.QtGui.QPen object at 0x000001F2FBE51A50>, <SpikeEmphasisState.Default: 2>: <PyQt5.QtGui.QPen object at 0x000001F2FBE51AC0>, <SpikeEmphasisState.Emphasized: 3>: <PyQt5.QtGui.QPen object at 0x000001F2FBE51B30>}, None, None)), (78, (None, None, {<SpikeEmphasisState.Hidden: 0>: <PyQt5.QtGui.QPen object at 0x000001F2FBE51BA0>, <SpikeEmphasisState.Deemphasized: 1>: <PyQt5.QtGui.QPen object at 0x000001F2FBE51C10>, <SpikeEmphasisState.Default: 2>: <PyQt5.QtGui.QPen object at 0x000001F2FBE51C80>, <SpikeEmphasisState.Emphasized: 3>: <PyQt5.QtGui.QPen object at 0x000001F2FBE51CF0>}, None, None)), (79, (None, None, {<SpikeEmphasisState.Hidden: 0>: <PyQt5.QtGui.QPen object at 0x000001F2FBE51D60>, <SpikeEmphasisState.Deemphasized: 1>: <PyQt5.QtGui.QPen object at 0x000001F2FBE51DD0>, <SpikeEmphasisState.Default: 2>: <PyQt5.QtGui.QPen object at 0x000001F2FBE51E40>, <SpikeEmphasisState.Emphasized: 3>: <PyQt5.QtGui.QPen object at 0x000001F2FBE51EB0>}, None, None)), (83, (None, None, {<SpikeEmphasisState.Hidden: 0>: <PyQt5.QtGui.QPen object at 0x000001F2FBE51F20>, <SpikeEmphasisState.Deemphasized: 1>: <PyQt5.QtGui.QPen object at 0x000001F2FBE51F90>, <SpikeEmphasisState.Default: 2>: <PyQt5.QtGui.QPen object at 0x000001F2FBE56040>, <SpikeEmphasisState.Emphasized: 3>: <PyQt5.QtGui.QPen object at 0x000001F2FBE560B0>}, None, None)), (84, (None, None, {<SpikeEmphasisState.Hidden: 0>: <PyQt5.QtGui.QPen object at 0x000001F2FBE56120>, <SpikeEmphasisState.Deemphasized: 1>: <PyQt5.QtGui.QPen object at 0x000001F2FBE56190>, <SpikeEmphasisState.Default: 2>: <PyQt5.QtGui.QPen object at 0x000001F2FBE56200>, <SpikeEmphasisState.Emphasized: 3>: <PyQt5.QtGui.QPen object at 0x000001F2FBE56270>}, None, None)), (86, (None, None, {<SpikeEmphasisState.Hidden: 0>: <PyQt5.QtGui.QPen object at 0x000001F2FBE562E0>, <SpikeEmphasisState.Deemphasized: 1>: <PyQt5.QtGui.QPen object at 0x000001F2FBE56350>, <SpikeEmphasisState.Default: 2>: <PyQt5.QtGui.QPen object at 0x000001F2FBE563C0>, <SpikeEmphasisState.Emphasized: 3>: <PyQt5.QtGui.QPen object at 0x000001F2FBE56430>}, None, None)), (88, (None, None, {<SpikeEmphasisState.Hidden: 0>: <PyQt5.QtGui.QPen object at 0x000001F2FBE564A0>, <SpikeEmphasisState.Deemphasized: 1>: <PyQt5.QtGui.QPen object at 0x000001F2FBE56510>, <SpikeEmphasisState.Default: 2>: <PyQt5.QtGui.QPen object at 0x000001F2FBE56580>, <SpikeEmphasisState.Emphasized: 3>: <PyQt5.QtGui.QPen object at 0x000001F2FBE565F0>}, None, None)), (90, (None, None, {<SpikeEmphasisState.Hidden: 0>: <PyQt5.QtGui.QPen object at 0x000001F2FBE56660>, <SpikeEmphasisState.Deemphasized: 1>: <PyQt5.QtGui.QPen object at 0x000001F2FBE566D0>, <SpikeEmphasisState.Default: 2>: <PyQt5.QtGui.QPen object at 0x000001F2FBE56740>, <SpikeEmphasisState.Emphasized: 3>: <PyQt5.QtGui.QPen object at 0x000001F2FBE567B0>}, None, None)), (91, (None, None, {<SpikeEmphasisState.Hidden: 0>: <PyQt5.QtGui.QPen object at 0x000001F2FBE56820>, <SpikeEmphasisState.Deemphasized: 1>: <PyQt5.QtGui.QPen object at 0x000001F2FBE56890>, <SpikeEmphasisState.Default: 2>: <PyQt5.QtGui.QPen object at 0x000001F2FBE56900>, <SpikeEmphasisState.Emphasized: 3>: <PyQt5.QtGui.QPen object at 0x000001F2FBE56970>}, None, None)), (92, (None, None, {<SpikeEmphasisState.Hidden: 0>: <PyQt5.QtGui.QPen object at 0x000001F2FBE569E0>, <SpikeEmphasisState.Deemphasized: 1>: <PyQt5.QtGui.QPen object at 0x000001F2FBE56A50>, <SpikeEmphasisState.Default: 2>: <PyQt5.QtGui.QPen object at 0x000001F2FBE56AC0>, <SpikeEmphasisState.Emphasized: 3>: <PyQt5.QtGui.QPen object at 0x000001F2FBE56B30>}, None, None)), (93, (None, None, {<SpikeEmphasisState.Hidden: 0>: <PyQt5.QtGui.QPen object at 0x000001F2FBE56BA0>, <SpikeEmphasisState.Deemphasized: 1>: <PyQt5.QtGui.QPen object at 0x000001F2FBE56C10>, <SpikeEmphasisState.Default: 2>: <PyQt5.QtGui.QPen object at 0x000001F2FBE56C80>, <SpikeEmphasisState.Emphasized: 3>: <PyQt5.QtGui.QPen object at 0x000001F2FBE56CF0>}, None, None)), (95, (None, None, {<SpikeEmphasisState.Hidden: 0>: <PyQt5.QtGui.QPen object at 0x000001F2FBE56D60>, <SpikeEmphasisState.Deemphasized: 1>: <PyQt5.QtGui.QPen object at 0x000001F2FBE56DD0>, <SpikeEmphasisState.Default: 2>: <PyQt5.QtGui.QPen object at 0x000001F2FBE56E40>, <SpikeEmphasisState.Emphasized: 3>: <PyQt5.QtGui.QPen object at 0x000001F2FBE56EB0>}, None, None)), (99, (None, None, {<SpikeEmphasisState.Hidden: 0>: <PyQt5.QtGui.QPen object at 0x000001F2FBE56F20>, <SpikeEmphasisState.Deemphasized: 1>: <PyQt5.QtGui.QPen object at 0x000001F2FBE56F90>, <SpikeEmphasisState.Default: 2>: <PyQt5.QtGui.QPen object at 0x000001F2FBE70040>, <SpikeEmphasisState.Emphasized: 3>: <PyQt5.QtGui.QPen object at 0x000001F2FBE700B0>}, None, None)), (100, (None, None, {<SpikeEmphasisState.Hidden: 0>: <PyQt5.QtGui.QPen object at 0x000001F2FBE70120>, <SpikeEmphasisState.Deemphasized: 1>: <PyQt5.QtGui.QPen object at 0x000001F2FBE70190>, <SpikeEmphasisState.Default: 2>: <PyQt5.QtGui.QPen object at 0x000001F2FBE70200>, <SpikeEmphasisState.Emphasized: 3>: <PyQt5.QtGui.QPen object at 0x000001F2FBE70270>}, None, None)), (101, (None, None, {<SpikeEmphasisState.Hidden: 0>: <PyQt5.QtGui.QPen object at 0x000001F2FBE702E0>, <SpikeEmphasisState.Deemphasized: 1>: <PyQt5.QtGui.QPen object at 0x000001F2FBE70350>, <SpikeEmphasisState.Default: 2>: <PyQt5.QtGui.QPen object at 0x000001F2FBE703C0>, <SpikeEmphasisState.Emphasized: 3>: <PyQt5.QtGui.QPen object at 0x000001F2FBE70430>}, None, None)), (108, (None, None, {<SpikeEmphasisState.Hidden: 0>: <PyQt5.QtGui.QPen object at 0x000001F2FBE704A0>, <SpikeEmphasisState.Deemphasized: 1>: <PyQt5.QtGui.QPen object at 0x000001F2FBE70510>, <SpikeEmphasisState.Default: 2>: <PyQt5.QtGui.QPen object at 0x000001F2FBE70580>, <SpikeEmphasisState.Emphasized: 3>: <PyQt5.QtGui.QPen object at 0x000001F2FBE705F0>}, None, None))]))), config_fragile_linear_neuron_IDX_map={0: (None, None, {<SpikeEmphasisState.Hidden: 0>: <PyQt5.QtGui.QPen object at 0x000001F302229C10>, <SpikeEmphasisState.Deemphasized: 1>: <PyQt5.QtGui.QPen object at 0x000001F302229BA0>, <SpikeEmphasisState.Default: 2>: <PyQt5.QtGui.QPen object at 0x000001F302229AC0>, <SpikeEmphasisState.Emphasized: 3>: <PyQt5.QtGui.QPen object at 0x000001F302229B30>}, None, None), 1: (None, None, {<SpikeEmphasisState.Hidden: 0>: <PyQt5.QtGui.QPen object at 0x000001F302229A50>, <SpikeEmphasisState.Deemphasized: 1>: <PyQt5.QtGui.QPen object at 0x000001F3022299E0>, <SpikeEmphasisState.Default: 2>: <PyQt5.QtGui.QPen object at 0x000001F302229970>, <SpikeEmphasisState.Emphasized: 3>: <PyQt5.QtGui.QPen object at 0x000001F302229900>}, None, None), 2: (None, None, {<SpikeEmphasisState.Hidden: 0>: <PyQt5.QtGui.QPen object at 0x000001F302229890>, <SpikeEmphasisState.Deemphasized: 1>: <PyQt5.QtGui.QPen object at 0x000001F302229820>, <SpikeEmphasisState.Default: 2>: <PyQt5.QtGui.QPen object at 0x000001F3022297B0>, <SpikeEmphasisState.Emphasized: 3>: <PyQt5.QtGui.QPen object at 0x000001F302229740>}, None, None), 3: (None, None, {<SpikeEmphasisState.Hidden: 0>: <PyQt5.QtGui.QPen object at 0x000001F3022296D0>, <SpikeEmphasisState.Deemphasized: 1>: <PyQt5.QtGui.QPen object at 0x000001F302229660>, <SpikeEmphasisState.Default: 2>: <PyQt5.QtGui.QPen object at 0x000001F3022295F0>, <SpikeEmphasisState.Emphasized: 3>: <PyQt5.QtGui.QPen object at 0x000001F302229580>}, None, None), 4: (None, None, {<SpikeEmphasisState.Hidden: 0>: <PyQt5.QtGui.QPen object at 0x000001F302229510>, <SpikeEmphasisState.Deemphasized: 1>: <PyQt5.QtGui.QPen object at 0x000001F302229430>, <SpikeEmphasisState.Default: 2>: <PyQt5.QtGui.QPen object at 0x000001F3022290B0>, <SpikeEmphasisState.Emphasized: 3>: <PyQt5.QtGui.QPen object at 0x000001F302229040>}, None, None), 5: (None, None, {<SpikeEmphasisState.Hidden: 0>: <PyQt5.QtGui.QPen object at 0x000001F302229120>, <SpikeEmphasisState.Deemphasized: 1>: <PyQt5.QtGui.QPen object at 0x000001F302229190>, <SpikeEmphasisState.Default: 2>: <PyQt5.QtGui.QPen object at 0x000001F302229200>, <SpikeEmphasisState.Emphasized: 3>: <PyQt5.QtGui.QPen object at 0x000001F3022292E0>}, None, None), 6: (None, None, {<SpikeEmphasisState.Hidden: 0>: <PyQt5.QtGui.QPen object at 0x000001F3022293C0>, <SpikeEmphasisState.Deemphasized: 1>: <PyQt5.QtGui.QPen object at 0x000001F302229350>, <SpikeEmphasisState.Default: 2>: <PyQt5.QtGui.QPen object at 0x000001F2FBE6F900>, <SpikeEmphasisState.Emphasized: 3>: <PyQt5.QtGui.QPen object at 0x000001F2FBE6F890>}, None, None), 7: (None, None, {<SpikeEmphasisState.Hidden: 0>: <PyQt5.QtGui.QPen object at 0x000001F2FBE6F820>, <SpikeEmphasisState.Deemphasized: 1>: <PyQt5.QtGui.QPen object at 0x000001F2FBE6F7B0>, <SpikeEmphasisState.Default: 2>: <PyQt5.QtGui.QPen object at 0x000001F2FBE6F740>, <SpikeEmphasisState.Emphasized: 3>: <PyQt5.QtGui.QPen object at 0x000001F2FBE6F970>}, None, None), 8: (None, None, {<SpikeEmphasisState.Hidden: 0>: <PyQt5.QtGui.QPen object at 0x000001F2FBE77820>, <SpikeEmphasisState.Deemphasized: 1>: <PyQt5.QtGui.QPen object at 0x000001F2FBE77890>, <SpikeEmphasisState.Default: 2>: <PyQt5.QtGui.QPen object at 0x000001F2FBE77900>, <SpikeEmphasisState.Emphasized: 3>: <PyQt5.QtGui.QPen object at 0x000001F2FBE77970>}, None, None), 9: (None, None, {<SpikeEmphasisState.Hidden: 0>: <PyQt5.QtGui.QPen object at 0x000001F2FBE779E0>, <SpikeEmphasisState.Deemphasized: 1>: <PyQt5.QtGui.QPen object at 0x000001F2FBE77A50>, <SpikeEmphasisState.Default: 2>: <PyQt5.QtGui.QPen object at 0x000001F2FBE77AC0>, <SpikeEmphasisState.Emphasized: 3>: <PyQt5.QtGui.QPen object at 0x000001F2FBE77B30>}, None, None), 10: (None, None, {<SpikeEmphasisState.Hidden: 0>: <PyQt5.QtGui.QPen object at 0x000001F2FBE77BA0>, <SpikeEmphasisState.Deemphasized: 1>: <PyQt5.QtGui.QPen object at 0x000001F2FBE77C10>, <SpikeEmphasisState.Default: 2>: <PyQt5.QtGui.QPen object at 0x000001F2FBE77C80>, <SpikeEmphasisState.Emphasized: 3>: <PyQt5.QtGui.QPen object at 0x000001F2FBE77CF0>}, None, None), 11: (None, None, {<SpikeEmphasisState.Hidden: 0>: <PyQt5.QtGui.QPen object at 0x000001F2FBE77D60>, <SpikeEmphasisState.Deemphasized: 1>: <PyQt5.QtGui.QPen object at 0x000001F2FBE77DD0>, <SpikeEmphasisState.Default: 2>: <PyQt5.QtGui.QPen object at 0x000001F2FBE77E40>, <SpikeEmphasisState.Emphasized: 3>: <PyQt5.QtGui.QPen object at 0x000001F2FBE77EB0>}, None, None), 12: (None, None, {<SpikeEmphasisState.Hidden: 0>: <PyQt5.QtGui.QPen object at 0x000001F2FBE77F20>, <SpikeEmphasisState.Deemphasized: 1>: <PyQt5.QtGui.QPen object at 0x000001F2FBE77F90>, <SpikeEmphasisState.Default: 2>: <PyQt5.QtGui.QPen object at 0x000001F2FBE51040>, <SpikeEmphasisState.Emphasized: 3>: <PyQt5.QtGui.QPen object at 0x000001F2FBE510B0>}, None, None), 13: (None, None, {<SpikeEmphasisState.Hidden: 0>: <PyQt5.QtGui.QPen object at 0x000001F2FBE51120>, <SpikeEmphasisState.Deemphasized: 1>: <PyQt5.QtGui.QPen object at 0x000001F2FBE51190>, <SpikeEmphasisState.Default: 2>: <PyQt5.QtGui.QPen object at 0x000001F2FBE51200>, <SpikeEmphasisState.Emphasized: 3>: <PyQt5.QtGui.QPen object at 0x000001F2FBE51270>}, None, None), 14: (None, None, {<SpikeEmphasisState.Hidden: 0>: <PyQt5.QtGui.QPen object at 0x000001F2FBE512E0>, <SpikeEmphasisState.Deemphasized: 1>: <PyQt5.QtGui.QPen object at 0x000001F2FBE51350>, <SpikeEmphasisState.Default: 2>: <PyQt5.QtGui.QPen object at 0x000001F2FBE513C0>, <SpikeEmphasisState.Emphasized: 3>: <PyQt5.QtGui.QPen object at 0x000001F2FBE51430>}, None, None), 15: (None, None, {<SpikeEmphasisState.Hidden: 0>: <PyQt5.QtGui.QPen object at 0x000001F2FBE514A0>, <SpikeEmphasisState.Deemphasized: 1>: <PyQt5.QtGui.QPen object at 0x000001F2FBE51510>, <SpikeEmphasisState.Default: 2>: <PyQt5.QtGui.QPen object at 0x000001F2FBE51580>, <SpikeEmphasisState.Emphasized: 3>: <PyQt5.QtGui.QPen object at 0x000001F2FBE515F0>}, None, None), 16: (None, None, {<SpikeEmphasisState.Hidden: 0>: <PyQt5.QtGui.QPen object at 0x000001F2FBE51660>, <SpikeEmphasisState.Deemphasized: 1>: <PyQt5.QtGui.QPen object at 0x000001F2FBE516D0>, <SpikeEmphasisState.Default: 2>: <PyQt5.QtGui.QPen object at 0x000001F2FBE51740>, <SpikeEmphasisState.Emphasized: 3>: <PyQt5.QtGui.QPen object at 0x000001F2FBE517B0>}, None, None), 17: (None, None, {<SpikeEmphasisState.Hidden: 0>: <PyQt5.QtGui.QPen object at 0x000001F2FBE51820>, <SpikeEmphasisState.Deemphasized: 1>: <PyQt5.QtGui.QPen object at 0x000001F2FBE51890>, <SpikeEmphasisState.Default: 2>: <PyQt5.QtGui.QPen object at 0x000001F2FBE51900>, <SpikeEmphasisState.Emphasized: 3>: <PyQt5.QtGui.QPen object at 0x000001F2FBE51970>}, None, None), 18: (None, None, {<SpikeEmphasisState.Hidden: 0>: <PyQt5.QtGui.QPen object at 0x000001F2FBE519E0>, <SpikeEmphasisState.Deemphasized: 1>: <PyQt5.QtGui.QPen object at 0x000001F2FBE51A50>, <SpikeEmphasisState.Default: 2>: <PyQt5.QtGui.QPen object at 0x000001F2FBE51AC0>, <SpikeEmphasisState.Emphasized: 3>: <PyQt5.QtGui.QPen object at 0x000001F2FBE51B30>}, None, None), 19: (None, None, {<SpikeEmphasisState.Hidden: 0>: <PyQt5.QtGui.QPen object at 0x000001F2FBE51BA0>, <SpikeEmphasisState.Deemphasized: 1>: <PyQt5.QtGui.QPen object at 0x000001F2FBE51C10>, <SpikeEmphasisState.Default: 2>: <PyQt5.QtGui.QPen object at 0x000001F2FBE51C80>, <SpikeEmphasisState.Emphasized: 3>: <PyQt5.QtGui.QPen object at 0x000001F2FBE51CF0>}, None, None), 20: (None, None, {<SpikeEmphasisState.Hidden: 0>: <PyQt5.QtGui.QPen object at 0x000001F2FBE51D60>, <SpikeEmphasisState.Deemphasized: 1>: <PyQt5.QtGui.QPen object at 0x000001F2FBE51DD0>, <SpikeEmphasisState.Default: 2>: <PyQt5.QtGui.QPen object at 0x000001F2FBE51E40>, <SpikeEmphasisState.Emphasized: 3>: <PyQt5.QtGui.QPen object at 0x000001F2FBE51EB0>}, None, None), 21: (None, None, {<SpikeEmphasisState.Hidden: 0>: <PyQt5.QtGui.QPen object at 0x000001F2FBE51F20>, <SpikeEmphasisState.Deemphasized: 1>: <PyQt5.QtGui.QPen object at 0x000001F2FBE51F90>, <SpikeEmphasisState.Default: 2>: <PyQt5.QtGui.QPen object at 0x000001F2FBE56040>, <SpikeEmphasisState.Emphasized: 3>: <PyQt5.QtGui.QPen object at 0x000001F2FBE560B0>}, None, None), 22: (None, None, {<SpikeEmphasisState.Hidden: 0>: <PyQt5.QtGui.QPen object at 0x000001F2FBE56120>, <SpikeEmphasisState.Deemphasized: 1>: <PyQt5.QtGui.QPen object at 0x000001F2FBE56190>, <SpikeEmphasisState.Default: 2>: <PyQt5.QtGui.QPen object at 0x000001F2FBE56200>, <SpikeEmphasisState.Emphasized: 3>: <PyQt5.QtGui.QPen object at 0x000001F2FBE56270>}, None, None), 23: (None, None, {<SpikeEmphasisState.Hidden: 0>: <PyQt5.QtGui.QPen object at 0x000001F2FBE562E0>, <SpikeEmphasisState.Deemphasized: 1>: <PyQt5.QtGui.QPen object at 0x000001F2FBE56350>, <SpikeEmphasisState.Default: 2>: <PyQt5.QtGui.QPen object at 0x000001F2FBE563C0>, <SpikeEmphasisState.Emphasized: 3>: <PyQt5.QtGui.QPen object at 0x000001F2FBE56430>}, None, None), 24: (None, None, {<SpikeEmphasisState.Hidden: 0>: <PyQt5.QtGui.QPen object at 0x000001F2FBE564A0>, <SpikeEmphasisState.Deemphasized: 1>: <PyQt5.QtGui.QPen object at 0x000001F2FBE56510>, <SpikeEmphasisState.Default: 2>: <PyQt5.QtGui.QPen object at 0x000001F2FBE56580>, <SpikeEmphasisState.Emphasized: 3>: <PyQt5.QtGui.QPen object at 0x000001F2FBE565F0>}, None, None), 25: (None, None, {<SpikeEmphasisState.Hidden: 0>: <PyQt5.QtGui.QPen object at 0x000001F2FBE56660>, <SpikeEmphasisState.Deemphasized: 1>: <PyQt5.QtGui.QPen object at 0x000001F2FBE566D0>, <SpikeEmphasisState.Default: 2>: <PyQt5.QtGui.QPen object at 0x000001F2FBE56740>, <SpikeEmphasisState.Emphasized: 3>: <PyQt5.QtGui.QPen object at 0x000001F2FBE567B0>}, None, None), 26: (None, None, {<SpikeEmphasisState.Hidden: 0>: <PyQt5.QtGui.QPen object at 0x000001F2FBE56820>, <SpikeEmphasisState.Deemphasized: 1>: <PyQt5.QtGui.QPen object at 0x000001F2FBE56890>, <SpikeEmphasisState.Default: 2>: <PyQt5.QtGui.QPen object at 0x000001F2FBE56900>, <SpikeEmphasisState.Emphasized: 3>: <PyQt5.QtGui.QPen object at 0x000001F2FBE56970>}, None, None), 27: (None, None, {<SpikeEmphasisState.Hidden: 0>: <PyQt5.QtGui.QPen object at 0x000001F2FBE569E0>, <SpikeEmphasisState.Deemphasized: 1>: <PyQt5.QtGui.QPen object at 0x000001F2FBE56A50>, <SpikeEmphasisState.Default: 2>: <PyQt5.QtGui.QPen object at 0x000001F2FBE56AC0>, <SpikeEmphasisState.Emphasized: 3>: <PyQt5.QtGui.QPen object at 0x000001F2FBE56B30>}, None, None), 28: (None, None, {<SpikeEmphasisState.Hidden: 0>: <PyQt5.QtGui.QPen object at 0x000001F2FBE56BA0>, <SpikeEmphasisState.Deemphasized: 1>: <PyQt5.QtGui.QPen object at 0x000001F2FBE56C10>, <SpikeEmphasisState.Default: 2>: <PyQt5.QtGui.QPen object at 0x000001F2FBE56C80>, <SpikeEmphasisState.Emphasized: 3>: <PyQt5.QtGui.QPen object at 0x000001F2FBE56CF0>}, None, None), 29: (None, None, {<SpikeEmphasisState.Hidden: 0>: <PyQt5.QtGui.QPen object at 0x000001F2FBE56D60>, <SpikeEmphasisState.Deemphasized: 1>: <PyQt5.QtGui.QPen object at 0x000001F2FBE56DD0>, <SpikeEmphasisState.Default: 2>: <PyQt5.QtGui.QPen object at 0x000001F2FBE56E40>, <SpikeEmphasisState.Emphasized: 3>: <PyQt5.QtGui.QPen object at 0x000001F2FBE56EB0>}, None, None), 30: (None, None, {<SpikeEmphasisState.Hidden: 0>: <PyQt5.QtGui.QPen object at 0x000001F2FBE56F20>, <SpikeEmphasisState.Deemphasized: 1>: <PyQt5.QtGui.QPen object at 0x000001F2FBE56F90>, <SpikeEmphasisState.Default: 2>: <PyQt5.QtGui.QPen object at 0x000001F2FBE70040>, <SpikeEmphasisState.Emphasized: 3>: <PyQt5.QtGui.QPen object at 0x000001F2FBE700B0>}, None, None), 31: (None, None, {<SpikeEmphasisState.Hidden: 0>: <PyQt5.QtGui.QPen object at 0x000001F2FBE70120>, <SpikeEmphasisState.Deemphasized: 1>: <PyQt5.QtGui.QPen object at 0x000001F2FBE70190>, <SpikeEmphasisState.Default: 2>: <PyQt5.QtGui.QPen object at 0x000001F2FBE70200>, <SpikeEmphasisState.Emphasized: 3>: <PyQt5.QtGui.QPen object at 0x000001F2FBE70270>}, None, None), 32: (None, None, {<SpikeEmphasisState.Hidden: 0>: <PyQt5.QtGui.QPen object at 0x000001F2FBE702E0>, <SpikeEmphasisState.Deemphasized: 1>: <PyQt5.QtGui.QPen object at 0x000001F2FBE70350>, <SpikeEmphasisState.Default: 2>: <PyQt5.QtGui.QPen object at 0x000001F2FBE703C0>, <SpikeEmphasisState.Emphasized: 3>: <PyQt5.QtGui.QPen object at 0x000001F2FBE70430>}, None, None), 33: (None, None, {<SpikeEmphasisState.Hidden: 0>: <PyQt5.QtGui.QPen object at 0x000001F2FBE704A0>, <SpikeEmphasisState.Deemphasized: 1>: <PyQt5.QtGui.QPen object at 0x000001F2FBE70510>, <SpikeEmphasisState.Default: 2>: <PyQt5.QtGui.QPen object at 0x000001F2FBE70580>, <SpikeEmphasisState.Emphasized: 3>: <PyQt5.QtGui.QPen object at 0x000001F2FBE705F0>}, None, None)}), 'all_spots': [{'pos': array([234.47, 23.5]), 'data': 0, 'pen': <PyQt5.QtGui.QPen object at 0x000001F2FBE56580>}, {'pos': array([234.486, 18.5]), 'data': 1, 'pen': <PyQt5.QtGui.QPen object at 0x000001F2FBE51740>}, {'pos': array([234.487, 16.5]), 'data': 2, 'pen': <PyQt5.QtGui.QPen object at 0x000001F2FBE77E40>}, {'pos': array([234.488, 28.5]), 'data': 3, 'pen': <PyQt5.QtGui.QPen object at 0x000001F2FBE513C0>}, {'pos': array([234.49, 18.5]), 'data': 4, 'pen': <PyQt5.QtGui.QPen object at 0x000001F2FBE51740>}, {'pos': array([234.492, 28.5]), 'data': 5, 'pen': <PyQt5.QtGui.QPen object at 0x000001F2FBE513C0>}, {'pos': array([234.495, 13.5]), 'data': 6, 'pen': <PyQt5.QtGui.QPen object at 0x000001F2FBE51C80>}, {'pos': array([234.495, 15.5]), 'data': 7, 'pen': <PyQt5.QtGui.QPen object at 0x000001F2FBE703C0>}, {'pos': array([234.496, 10.5]), 'data': 8, 'pen': <PyQt5.QtGui.QPen object at 0x000001F2FBE56040>}, {'pos': array([234.497, 28.5]), 'data': 9, 'pen': <PyQt5.QtGui.QPen object at 0x000001F2FBE513C0>}, {'pos': array([234.497, 18.5]), 'data': 10, 'pen': <PyQt5.QtGui.QPen object at 0x000001F2FBE51740>}, {'pos': array([234.501, 15.5]), 'data': 11, 'pen': <PyQt5.QtGui.QPen object at 0x000001F2FBE703C0>}, {'pos': array([234.503, 28.5]), 'data': 12, 'pen': <PyQt5.QtGui.QPen object at 0x000001F2FBE513C0>}, {'pos': array([234.505, 13.5]), 'data': 13, 'pen': <PyQt5.QtGui.QPen object at 0x000001F2FBE51C80>}, {'pos': array([234.517, 10.5]), 'data': 14, 'pen': <PyQt5.QtGui.QPen object at 0x000001F2FBE56040>}, {'pos': array([234.517, 15.5]), 'data': 15, 'pen': <PyQt5.QtGui.QPen object at 0x000001F2FBE703C0>}, {'pos': array([234.527, 13.5]), 'data': 16, 'pen': <PyQt5.QtGui.QPen object at 0x000001F2FBE51C80>}, {'pos': array([234.532, 4.5]), 'data': 17, 'pen': <PyQt5.QtGui.QPen object at 0x000001F2FBE56AC0>}, {'pos': array([234.537, 8.5]), 'data': 18, 'pen': <PyQt5.QtGui.QPen object at 0x000001F2FBE56C80>}, {'pos': array([234.567, 28.5]), 'data': 19, 'pen': <PyQt5.QtGui.QPen object at 0x000001F2FBE513C0>}, {'pos': array([234.575, 8.5]), 'data': 20, 'pen': <PyQt5.QtGui.QPen object at 0x000001F2FBE56C80>}, {'pos': array([234.586, 28.5]), 'data': 21, 'pen': <PyQt5.QtGui.QPen object at 0x000001F2FBE513C0>}, {'pos': array([234.59, 28.5]), 'data': 22, 'pen': <PyQt5.QtGui.QPen object at 0x000001F2FBE513C0>}, {'pos': array([234.593, 15.5]), 'data': 23, 'pen': <PyQt5.QtGui.QPen object at 0x000001F2FBE703C0>}, {'pos': array([234.596, 28.5]), 'data': 24, 'pen': <PyQt5.QtGui.QPen object at 0x000001F2FBE513C0>}, {'pos': array([234.599, 10.5]), 'data': 25, 'pen': <PyQt5.QtGui.QPen object at 0x000001F2FBE56040>}, {'pos': array([234.603, 10.5]), 'data': 26, 'pen': <PyQt5.QtGui.QPen object at 0x000001F2FBE56040>}, {'pos': array([234.606, 14.5]), 'data': 27, 'pen': <PyQt5.QtGui.QPen object at 0x000001F302229200>}, {'pos': array([234.609, 13.5]), 'data': 28, 'pen': <PyQt5.QtGui.QPen object at 0x000001F2FBE51C80>}, {'pos': array([234.61, 28.5]), 'data': 29, 'pen': <PyQt5.QtGui.QPen object at 0x000001F2FBE513C0>}, {'pos': array([234.611, 14.5]), 'data': 30, 'pen': <PyQt5.QtGui.QPen object at 0x000001F302229200>}, {'pos': array([234.62, 15.5]), 'data': 31, 'pen': <PyQt5.QtGui.QPen object at 0x000001F2FBE703C0>}, {'pos': array([234.621, 13.5]), 'data': 32, 'pen': <PyQt5.QtGui.QPen object at 0x000001F2FBE51C80>}, {'pos': array([234.629, 13.5]), 'data': 33, 'pen': <PyQt5.QtGui.QPen object at 0x000001F2FBE51C80>}, {'pos': array([234.637, 13.5]), 'data': 34, 'pen': <PyQt5.QtGui.QPen object at 0x000001F2FBE51C80>}, {'pos': array([234.648, 28.5]), 'data': 35, 'pen': <PyQt5.QtGui.QPen object at 0x000001F2FBE513C0>}, {'pos': array([234.654, 28.5]), 'data': 36, 'pen': <PyQt5.QtGui.QPen object at 0x000001F2FBE513C0>}, {'pos': array([234.663, 28.5]), 'data': 37, 'pen': <PyQt5.QtGui.QPen object at 0x000001F2FBE513C0>}, {'pos': array([234.669, 28.5]), 'data': 38, 'pen': <PyQt5.QtGui.QPen object at 0x000001F2FBE513C0>}, {'pos': array([234.676, 28.5]), 'data': 39, 'pen': <PyQt5.QtGui.QPen object at 0x000001F2FBE513C0>}, {'pos': array([234.683, 28.5]), 'data': 40, 'pen': <PyQt5.QtGui.QPen object at 0x000001F2FBE513C0>}, {'pos': array([234.691, 28.5]), 'data': 41, 'pen': <PyQt5.QtGui.QPen object at 0x000001F2FBE513C0>}, {'pos': array([234.699, 18.5]), 'data': 42, 'pen': <PyQt5.QtGui.QPen object at 0x000001F2FBE51740>}, {'pos': array([234.704, 27.5]), 'data': 43, 'pen': <PyQt5.QtGui.QPen object at 0x000001F2FBE51900>}, {'pos': array([234.704, 28.5]), 'data': 44, 'pen': <PyQt5.QtGui.QPen object at 0x000001F2FBE513C0>}, {'pos': array([234.709, 27.5]), 'data': 45, 'pen': <PyQt5.QtGui.QPen object at 0x000001F2FBE51900>}, {'pos': array([234.719, 18.5]), 'data': 46, 'pen': <PyQt5.QtGui.QPen object at 0x000001F2FBE51740>}, {'pos': array([234.721, 28.5]), 'data': 47, 'pen': <PyQt5.QtGui.QPen object at 0x000001F2FBE513C0>}, {'pos': array([234.73, 18.5]), 'data': 48, 'pen': <PyQt5.QtGui.QPen object at 0x000001F2FBE51740>}, {'pos': array([234.738, 10.5]), 'data': 49, 'pen': <PyQt5.QtGui.QPen object at 0x000001F2FBE56040>}, {'pos': array([234.742, 10.5]), 'data': 50, 'pen': <PyQt5.QtGui.QPen object at 0x000001F2FBE56040>}, {'pos': array([234.742, 15.5]), 'data': 51, 'pen': <PyQt5.QtGui.QPen object at 0x000001F2FBE703C0>}, {'pos': array([234.746, 10.5]), 'data': 52, 'pen': <PyQt5.QtGui.QPen object at 0x000001F2FBE56040>}, {'pos': array([234.757, 28.5]), 'data': 53, 'pen': <PyQt5.QtGui.QPen object at 0x000001F2FBE513C0>}, {'pos': array([234.765, 28.5]), 'data': 54, 'pen': <PyQt5.QtGui.QPen object at 0x000001F2FBE513C0>}, {'pos': array([234.775, 28.5]), 'data': 55, 'pen': <PyQt5.QtGui.QPen object at 0x000001F2FBE513C0>}, {'pos': array([234.781, 27.5]), 'data': 56, 'pen': <PyQt5.QtGui.QPen object at 0x000001F2FBE51900>}, {'pos': array([234.782, 28.5]), 'data': 57, 'pen': <PyQt5.QtGui.QPen object at 0x000001F2FBE513C0>}, {'pos': array([234.791, 28.5]), 'data': 58, 'pen': <PyQt5.QtGui.QPen object at 0x000001F2FBE513C0>}, {'pos': array([234.794, 15.5]), 'data': 59, 'pen': <PyQt5.QtGui.QPen object at 0x000001F2FBE703C0>}, {'pos': array([234.799, 28.5]), 'data': 60, 'pen': <PyQt5.QtGui.QPen object at 0x000001F2FBE513C0>}, {'pos': array([234.808, 28.5]), 'data': 61, 'pen': <PyQt5.QtGui.QPen object at 0x000001F2FBE513C0>}, {'pos': array([234.809, 18.5]), 'data': 62, 'pen': <PyQt5.QtGui.QPen object at 0x000001F2FBE51740>}, {'pos': array([234.81, 15.5]), 'data': 63, 'pen': <PyQt5.QtGui.QPen object at 0x000001F2FBE703C0>}, {'pos': array([234.817, 18.5]), 'data': 64, 'pen': <PyQt5.QtGui.QPen object at 0x000001F2FBE51740>}, {'pos': array([234.818, 15.5]), 'data': 65, 'pen': <PyQt5.QtGui.QPen object at 0x000001F2FBE703C0>}, {'pos': array([234.819, 13.5]), 'data': 66, 'pen': <PyQt5.QtGui.QPen object at 0x000001F2FBE51C80>}, {'pos': array([234.819, 28.5]), 'data': 67, 'pen': <PyQt5.QtGui.QPen object at 0x000001F2FBE513C0>}, {'pos': array([234.824, 13.5]), 'data': 68, 'pen': <PyQt5.QtGui.QPen object at 0x000001F2FBE51C80>}, {'pos': array([234.841, 10.5]), 'data': 69, 'pen': <PyQt5.QtGui.QPen object at 0x000001F2FBE56040>}, {'pos': array([234.852, 21.5]), 'data': 70, 'pen': <PyQt5.QtGui.QPen object at 0x000001F2FBE56740>}, {'pos': array([234.87, 28.5]), 'data': 71, 'pen': <PyQt5.QtGui.QPen object at 0x000001F2FBE513C0>}, {'pos': array([234.877, 28.5]), 'data': 72, 'pen': <PyQt5.QtGui.QPen object at 0x000001F2FBE513C0>}, {'pos': array([234.887, 28.5]), 'data': 73, 'pen': <PyQt5.QtGui.QPen object at 0x000001F2FBE513C0>}, {'pos': array([234.89, 18.5]), 'data': 74, 'pen': <PyQt5.QtGui.QPen object at 0x000001F2FBE51740>}, {'pos': array([234.895, 28.5]), 'data': 75, 'pen': <PyQt5.QtGui.QPen object at 0x000001F2FBE513C0>}, {'pos': array([234.902, 28.5]), 'data': 76, 'pen': <PyQt5.QtGui.QPen object at 0x000001F2FBE513C0>}, {'pos': array([234.905, 29.5]), 'data': 77, 'pen': <PyQt5.QtGui.QPen object at 0x000001F2FBE6F900>}, {'pos': array([234.909, 28.5]), 'data': 78, 'pen': <PyQt5.QtGui.QPen object at 0x000001F2FBE513C0>}, {'pos': array([234.915, 15.5]), 'data': 79, 'pen': <PyQt5.QtGui.QPen object at 0x000001F2FBE703C0>}, {'pos': array([234.915, 27.5]), 'data': 80, 'pen': <PyQt5.QtGui.QPen object at 0x000001F2FBE51900>}, {'pos': array([234.92, 27.5]), 'data': 81, 'pen': <PyQt5.QtGui.QPen object at 0x000001F2FBE51900>}, {'pos': array([234.934, 27.5]), 'data': 82, 'pen': <PyQt5.QtGui.QPen object at 0x000001F2FBE51900>}, {'pos': array([234.941, 10.5]), 'data': 83, 'pen': <PyQt5.QtGui.QPen object at 0x000001F2FBE56040>}, {'pos': array([234.945, 10.5]), 'data': 84, 'pen': <PyQt5.QtGui.QPen object at 0x000001F2FBE56040>}, {'pos': array([234.949, 10.5]), 'data': 85, 'pen': <PyQt5.QtGui.QPen object at 0x000001F2FBE56040>}, {'pos': array([234.959, 9.5]), 'data': 86, 'pen': <PyQt5.QtGui.QPen object at 0x000001F2FBE56900>}, {'pos': array([234.967, 7.5]), 'data': 87, 'pen': <PyQt5.QtGui.QPen object at 0x000001F2FBE77C80>}, {'pos': array([234.972, 7.5]), 'data': 88, 'pen': <PyQt5.QtGui.QPen object at 0x000001F2FBE77C80>}, {'pos': array([234.976, 7.5]), 'data': 89, 'pen': <PyQt5.QtGui.QPen object at 0x000001F2FBE77C80>}, {'pos': array([234.979, 32.5]), 'data': 90, 'pen': <PyQt5.QtGui.QPen object at 0x000001F2FBE77AC0>}, {'pos': array([234.991, 18.5]), 'data': 91, 'pen': <PyQt5.QtGui.QPen object at 0x000001F2FBE51740>}, {'pos': array([234.991, 28.5]), 'data': 92, 'pen': <PyQt5.QtGui.QPen object at 0x000001F2FBE513C0>}, {'pos': array([235.007, 28.5]), 'data': 93, 'pen': <PyQt5.QtGui.QPen object at 0x000001F2FBE513C0>}, {'pos': array([235.012, 28.5]), 'data': 94, 'pen': <PyQt5.QtGui.QPen object at 0x000001F2FBE513C0>}, {'pos': array([235.02, 28.5]), 'data': 95, 'pen': <PyQt5.QtGui.QPen object at 0x000001F2FBE513C0>}, {'pos': array([235.02, 13.5]), 'data': 96, 'pen': <PyQt5.QtGui.QPen object at 0x000001F2FBE51C80>}, {'pos': array([235.029, 13.5]), 'data': 97, 'pen': <PyQt5.QtGui.QPen object at 0x000001F2FBE51C80>}, {'pos': array([235.03, 10.5]), 'data': 98, 'pen': <PyQt5.QtGui.QPen object at 0x000001F2FBE56040>}, {'pos': array([235.045, 10.5]), 'data': 99, 'pen': <PyQt5.QtGui.QPen object at 0x000001F2FBE56040>}, {'pos': array([235.047, 15.5]), 'data': 100, 'pen': <PyQt5.QtGui.QPen object at 0x000001F2FBE703C0>}, {'pos': array([235.054, 10.5]), 'data': 101, 'pen': <PyQt5.QtGui.QPen object at 0x000001F2FBE56040>}, {'pos': array([235.066, 10.5]), 'data': 102, 'pen': <PyQt5.QtGui.QPen object at 0x000001F2FBE56040>}, {'pos': array([235.103, 27.5]), 'data': 103, 'pen': <PyQt5.QtGui.QPen object at 0x000001F2FBE51900>}, {'pos': array([235.107, 27.5]), 'data': 104, 'pen': <PyQt5.QtGui.QPen object at 0x000001F2FBE51900>}, {'pos': array([235.135, 21.5]), 'data': 105, 'pen': <PyQt5.QtGui.QPen object at 0x000001F2FBE56740>}, {'pos': array([235.151, 13.5]), 'data': 106, 'pen': <PyQt5.QtGui.QPen object at 0x000001F2FBE51C80>}, {'pos': array([235.156, 10.5]), 'data': 107, 'pen': <PyQt5.QtGui.QPen object at 0x000001F2FBE56040>}, {'pos': array([235.172, 10.5]), 'data': 108, 'pen': <PyQt5.QtGui.QPen object at 0x000001F2FBE56040>}, {'pos': array([235.177, 10.5]), 'data': 109, 'pen': <PyQt5.QtGui.QPen object at 0x000001F2FBE56040>}, {'pos': array([235.178, 31.5]), 'data': 110, 'pen': <PyQt5.QtGui.QPen object at 0x000001F2FBE70580>}, {'pos': array([235.199, 30.5]), 'data': 111, 'pen': <PyQt5.QtGui.QPen object at 0x000001F3022290B0>}, {'pos': array([235.205, 7.5]), 'data': 112, 'pen': <PyQt5.QtGui.QPen object at 0x000001F2FBE77C80>}, {'pos': array([235.208, 7.5]), 'data': 113, 'pen': <PyQt5.QtGui.QPen object at 0x000001F2FBE77C80>}, {'pos': array([235.231, 14.5]), 'data': 114, 'pen': <PyQt5.QtGui.QPen object at 0x000001F302229200>}, {'pos': array([235.26, 21.5]), 'data': 115, 'pen': <PyQt5.QtGui.QPen object at 0x000001F2FBE56740>}, {'pos': array([235.266, 17.5]), 'data': 116, 'pen': <PyQt5.QtGui.QPen object at 0x000001F2FBE563C0>}, {'pos': array([235.266, 6.5]), 'data': 117, 'pen': <PyQt5.QtGui.QPen object at 0x000001F2FBE70040>}, {'pos': array([235.276, 27.5]), 'data': 118, 'pen': <PyQt5.QtGui.QPen object at 0x000001F2FBE51900>}, {'pos': array([235.286, 10.5]), 'data': 119, 'pen': <PyQt5.QtGui.QPen object at 0x000001F2FBE56040>}, {'pos': array([235.305, 30.5]), 'data': 120, 'pen': <PyQt5.QtGui.QPen object at 0x000001F3022290B0>}, {'pos': array([235.305, 16.5]), 'data': 121, 'pen': <PyQt5.QtGui.QPen object at 0x000001F2FBE77E40>}, {'pos': array([235.321, 16.5]), 'data': 122, 'pen': <PyQt5.QtGui.QPen object at 0x000001F2FBE77E40>}, {'pos': array([235.332, 21.5]), 'data': 123, 'pen': <PyQt5.QtGui.QPen object at 0x000001F2FBE56740>}, {'pos': array([235.334, 20.5]), 'data': 124, 'pen': <PyQt5.QtGui.QPen object at 0x000001F2FBE51AC0>}, {'pos': array([235.34, 21.5]), 'data': 125, 'pen': <PyQt5.QtGui.QPen object at 0x000001F2FBE56740>}, {'pos': array([235.346, 19.5]), 'data': 126, 'pen': <PyQt5.QtGui.QPen object at 0x000001F2FBE51580>}, {'pos': array([235.348, 13.5]), 'data': 127, 'pen': <PyQt5.QtGui.QPen object at 0x000001F2FBE51C80>}, {'pos': array([235.351, 21.5]), 'data': 128, 'pen': <PyQt5.QtGui.QPen object at 0x000001F2FBE56740>}, {'pos': array([235.354, 10.5]), 'data': 129, 'pen': <PyQt5.QtGui.QPen object at 0x000001F2FBE56040>}, {'pos': array([235.362, 27.5]), 'data': 130, 'pen': <PyQt5.QtGui.QPen object at 0x000001F2FBE51900>}, {'pos': array([235.365, 27.5]), 'data': 131, 'pen': <PyQt5.QtGui.QPen object at 0x000001F2FBE51900>}, {'pos': array([235.372, 27.5]), 'data': 132, 'pen': <PyQt5.QtGui.QPen object at 0x000001F2FBE51900>}, {'pos': array([235.398, 10.5]), 'data': 133, 'pen': <PyQt5.QtGui.QPen object at 0x000001F2FBE56040>}, {'pos': array([235.399, 15.5]), 'data': 134, 'pen': <PyQt5.QtGui.QPen object at 0x000001F2FBE703C0>}, {'pos': array([235.4, 21.5]), 'data': 135, 'pen': <PyQt5.QtGui.QPen object at 0x000001F2FBE56740>}, {'pos': array([235.41, 10.5]), 'data': 136, 'pen': <PyQt5.QtGui.QPen object at 0x000001F2FBE56040>}, {'pos': array([235.432, 30.5]), 'data': 137, 'pen': <PyQt5.QtGui.QPen object at 0x000001F3022290B0>}, {'pos': array([235.436, 7.5]), 'data': 138, 'pen': <PyQt5.QtGui.QPen object at 0x000001F2FBE77C80>}, {'pos': array([235.439, 7.5]), 'data': 139, 'pen': <PyQt5.QtGui.QPen object at 0x000001F2FBE77C80>}, {'pos': array([235.442, 18.5]), 'data': 140, 'pen': <PyQt5.QtGui.QPen object at 0x000001F2FBE51740>}, {'pos': array([235.447, 6.5]), 'data': 141, 'pen': <PyQt5.QtGui.QPen object at 0x000001F2FBE70040>}, {'pos': array([235.448, 9.5]), 'data': 142, 'pen': <PyQt5.QtGui.QPen object at 0x000001F2FBE56900>}, {'pos': array([235.448, 30.5]), 'data': 143, 'pen': <PyQt5.QtGui.QPen object at 0x000001F3022290B0>}, {'pos': array([235.448, 7.5]), 'data': 144, 'pen': <PyQt5.QtGui.QPen object at 0x000001F2FBE77C80>}, {'pos': array([235.454, 12.5]), 'data': 145, 'pen': <PyQt5.QtGui.QPen object at 0x000001F3022295F0>}, {'pos': array([235.496, 21.5]), 'data': 146, 'pen': <PyQt5.QtGui.QPen object at 0x000001F2FBE56740>}, {'pos': array([235.504, 10.5]), 'data': 147, 'pen': <PyQt5.QtGui.QPen object at 0x000001F2FBE56040>}, {'pos': array([235.508, 10.5]), 'data': 148, 'pen': <PyQt5.QtGui.QPen object at 0x000001F2FBE56040>}, {'pos': array([235.515, 14.5]), 'data': 149, 'pen': <PyQt5.QtGui.QPen object at 0x000001F302229200>}, {'pos': array([235.53, 10.5]), 'data': 150, 'pen': <PyQt5.QtGui.QPen object at 0x000001F2FBE56040>}, {'pos': array([235.544, 10.5]), 'data': 151, 'pen': <PyQt5.QtGui.QPen object at 0x000001F2FBE56040>}, {'pos': array([235.547, 30.5]), 'data': 152, 'pen': <PyQt5.QtGui.QPen object at 0x000001F3022290B0>}, {'pos': array([235.556, 18.5]), 'data': 153, 'pen': <PyQt5.QtGui.QPen object at 0x000001F2FBE51740>}, {'pos': array([235.556, 15.5]), 'data': 154, 'pen': <PyQt5.QtGui.QPen object at 0x000001F2FBE703C0>}, {'pos': array([235.563, 9.5]), 'data': 155, 'pen': <PyQt5.QtGui.QPen object at 0x000001F2FBE56900>}, {'pos': array([235.564, 7.5]), 'data': 156, 'pen': <PyQt5.QtGui.QPen object at 0x000001F2FBE77C80>}, {'pos': array([235.581, 12.5]), 'data': 157, 'pen': <PyQt5.QtGui.QPen object at 0x000001F3022295F0>}, {'pos': array([235.614, 10.5]), 'data': 158, 'pen': <PyQt5.QtGui.QPen object at 0x000001F2FBE56040>}, {'pos': array([235.615, 19.5]), 'data': 159, 'pen': <PyQt5.QtGui.QPen object at 0x000001F2FBE51580>}, {'pos': array([235.626, 15.5]), 'data': 160, 'pen': <PyQt5.QtGui.QPen object at 0x000001F2FBE703C0>}, {'pos': array([235.638, 10.5]), 'data': 161, 'pen': <PyQt5.QtGui.QPen object at 0x000001F2FBE56040>}, {'pos': array([235.653, 30.5]), 'data': 162, 'pen': <PyQt5.QtGui.QPen object at 0x000001F3022290B0>}, {'pos': array([235.657, 10.5]), 'data': 163, 'pen': <PyQt5.QtGui.QPen object at 0x000001F2FBE56040>}, {'pos': array([235.665, 30.5]), 'data': 164, 'pen': <PyQt5.QtGui.QPen object at 0x000001F3022290B0>}, {'pos': array([235.681, 9.5]), 'data': 165, 'pen': <PyQt5.QtGui.QPen object at 0x000001F2FBE56900>}, {'pos': array([235.685, 6.5]), 'data': 166, 'pen': <PyQt5.QtGui.QPen object at 0x000001F2FBE70040>}, {'pos': array([235.689, 9.5]), 'data': 167, 'pen': <PyQt5.QtGui.QPen object at 0x000001F2FBE56900>}, {'pos': array([235.698, 18.5]), 'data': 168, 'pen': <PyQt5.QtGui.QPen object at 0x000001F2FBE51740>}, {'pos': array([235.705, 7.5]), 'data': 169, 'pen': <PyQt5.QtGui.QPen object at 0x000001F2FBE77C80>}, {'pos': array([235.724, 15.5]), 'data': 170, 'pen': <PyQt5.QtGui.QPen object at 0x000001F2FBE703C0>}, {'pos': array([235.728, 15.5]), 'data': 171, 'pen': <PyQt5.QtGui.QPen object at 0x000001F2FBE703C0>}, {'pos': array([235.733, 15.5]), 'data': 172, 'pen': <PyQt5.QtGui.QPen object at 0x000001F2FBE703C0>}, {'pos': array([235.742, 15.5]), 'data': 173, 'pen': <PyQt5.QtGui.QPen object at 0x000001F2FBE703C0>}, {'pos': array([235.746, 18.5]), 'data': 174, 'pen': <PyQt5.QtGui.QPen object at 0x000001F2FBE51740>}, {'pos': array([235.775, 30.5]), 'data': 175, 'pen': <PyQt5.QtGui.QPen object at 0x000001F3022290B0>}, {'pos': array([235.778, 6.5]), 'data': 176, 'pen': <PyQt5.QtGui.QPen object at 0x000001F2FBE70040>}, {'pos': array([235.781, 30.5]), 'data': 177, 'pen': <PyQt5.QtGui.QPen object at 0x000001F3022290B0>}, {'pos': array([235.784, 9.5]), 'data': 178, 'pen': <PyQt5.QtGui.QPen object at 0x000001F2FBE56900>}, {'pos': array([235.785, 6.5]), 'data': 179, 'pen': <PyQt5.QtGui.QPen object at 0x000001F2FBE70040>}, {'pos': array([235.793, 21.5]), 'data': 180, 'pen': <PyQt5.QtGui.QPen object at 0x000001F2FBE56740>}, {'pos': array([235.797, 6.5]), 'data': 181, 'pen': <PyQt5.QtGui.QPen object at 0x000001F2FBE70040>}, {'pos': array([235.799, 7.5]), 'data': 182, 'pen': <PyQt5.QtGui.QPen object at 0x000001F2FBE77C80>}, {'pos': array([235.809, 9.5]), 'data': 183, 'pen': <PyQt5.QtGui.QPen object at 0x000001F2FBE56900>}, {'pos': array([235.821, 18.5]), 'data': 184, 'pen': <PyQt5.QtGui.QPen object at 0x000001F2FBE51740>}, {'pos': array([235.828, 8.5]), 'data': 185, 'pen': <PyQt5.QtGui.QPen object at 0x000001F2FBE56C80>}, {'pos': array([235.836, 18.5]), 'data': 186, 'pen': <PyQt5.QtGui.QPen object at 0x000001F2FBE51740>}, {'pos': array([235.838, 15.5]), 'data': 187, 'pen': <PyQt5.QtGui.QPen object at 0x000001F2FBE703C0>}, {'pos': array([235.846, 30.5]), 'data': 188, 'pen': <PyQt5.QtGui.QPen object at 0x000001F3022290B0>}, {'pos': array([235.851, 15.5]), 'data': 189, 'pen': <PyQt5.QtGui.QPen object at 0x000001F2FBE703C0>}, {'pos': array([235.861, 15.5]), 'data': 190, 'pen': <PyQt5.QtGui.QPen object at 0x000001F2FBE703C0>}, {'pos': array([235.873, 6.5]), 'data': 191, 'pen': <PyQt5.QtGui.QPen object at 0x000001F2FBE70040>}, {'pos': array([235.892, 30.5]), 'data': 192, 'pen': <PyQt5.QtGui.QPen object at 0x000001F3022290B0>}, {'pos': array([235.902, 7.5]), 'data': 193, 'pen': <PyQt5.QtGui.QPen object at 0x000001F2FBE77C80>}, {'pos': array([235.903, 6.5]), 'data': 194, 'pen': <PyQt5.QtGui.QPen object at 0x000001F2FBE70040>}, {'pos': array([235.914, 9.5]), 'data': 195, 'pen': <PyQt5.QtGui.QPen object at 0x000001F2FBE56900>}, {'pos': array([235.924, 9.5]), 'data': 196, 'pen': <PyQt5.QtGui.QPen object at 0x000001F2FBE56900>}, {'pos': array([235.932, 12.5]), 'data': 197, 'pen': <PyQt5.QtGui.QPen object at 0x000001F3022295F0>}, {'pos': array([235.932, 7.5]), 'data': 198, 'pen': <PyQt5.QtGui.QPen object at 0x000001F2FBE77C80>}, {'pos': array([235.955, 15.5]), 'data': 199, 'pen': <PyQt5.QtGui.QPen object at 0x000001F2FBE703C0>}, {'pos': array([235.976, 15.5]), 'data': 200, 'pen': <PyQt5.QtGui.QPen object at 0x000001F2FBE703C0>}, {'pos': array([235.979, 30.5]), 'data': 201, 'pen': <PyQt5.QtGui.QPen object at 0x000001F3022290B0>}, {'pos': array([235.981, 15.5]), 'data': 202, 'pen': <PyQt5.QtGui.QPen object at 0x000001F2FBE703C0>}, {'pos': array([235.994, 15.5]), 'data': 203, 'pen': <PyQt5.QtGui.QPen object at 0x000001F2FBE703C0>}, {'pos': array([235.996, 9.5]), 'data': 204, 'pen': <PyQt5.QtGui.QPen object at 0x000001F2FBE56900>}, {'pos': array([235.997, 6.5]), 'data': 205, 'pen': <PyQt5.QtGui.QPen object at 0x000001F2FBE70040>}, {'pos': array([236.013, 18.5]), 'data': 206, 'pen': <PyQt5.QtGui.QPen object at 0x000001F2FBE51740>}, {'pos': array([236.015, 9.5]), 'data': 207, 'pen': <PyQt5.QtGui.QPen object at 0x000001F2FBE56900>}, {'pos': array([236.03, 6.5]), 'data': 208, 'pen': <PyQt5.QtGui.QPen object at 0x000001F2FBE70040>}, {'pos': array([236.036, 9.5]), 'data': 209, 'pen': <PyQt5.QtGui.QPen object at 0x000001F2FBE56900>}, {'pos': array([236.037, 7.5]), 'data': 210, 'pen': <PyQt5.QtGui.QPen object at 0x000001F2FBE77C80>}, {'pos': array([236.061, 12.5]), 'data': 211, 'pen': <PyQt5.QtGui.QPen object at 0x000001F3022295F0>}, {'pos': array([236.065, 7.5]), 'data': 212, 'pen': <PyQt5.QtGui.QPen object at 0x000001F2FBE77C80>}, {'pos': array([236.072, 22.5]), 'data': 213, 'pen': <PyQt5.QtGui.QPen object at 0x000001F2FBE51040>}, {'pos': array([236.072, 5.5]), 'data': 214, 'pen': <PyQt5.QtGui.QPen object at 0x000001F302229AC0>}, {'pos': array([236.092, 6.5]), 'data': 215, 'pen': <PyQt5.QtGui.QPen object at 0x000001F2FBE70040>}, {'pos': array([236.096, 6.5]), 'data': 216, 'pen': <PyQt5.QtGui.QPen object at 0x000001F2FBE70040>}, {'pos': array([236.12, 30.5]), 'data': 217, 'pen': <PyQt5.QtGui.QPen object at 0x000001F3022290B0>}, {'pos': array([236.146, 9.5]), 'data': 218, 'pen': <PyQt5.QtGui.QPen object at 0x000001F2FBE56900>}, {'pos': array([236.151, 7.5]), 'data': 219, 'pen': <PyQt5.QtGui.QPen object at 0x000001F2FBE77C80>}, {'pos': array([236.159, 1.5]), 'data': 220, 'pen': <PyQt5.QtGui.QPen object at 0x000001F2FBE6F740>}, {'pos': array([236.161, 9.5]), 'data': 221, 'pen': <PyQt5.QtGui.QPen object at 0x000001F2FBE56900>}, {'pos': array([236.172, 12.5]), 'data': 222, 'pen': <PyQt5.QtGui.QPen object at 0x000001F3022295F0>}, {'pos': array([236.177, 12.5]), 'data': 223, 'pen': <PyQt5.QtGui.QPen object at 0x000001F3022295F0>}, {'pos': array([236.187, 8.5]), 'data': 224, 'pen': <PyQt5.QtGui.QPen object at 0x000001F2FBE56C80>}, {'pos': array([236.199, 8.5]), 'data': 225, 'pen': <PyQt5.QtGui.QPen object at 0x000001F2FBE56C80>}, {'pos': array([236.199, 7.5]), 'data': 226, 'pen': <PyQt5.QtGui.QPen object at 0x000001F2FBE77C80>}, {'pos': array([236.201, 15.5]), 'data': 227, 'pen': <PyQt5.QtGui.QPen object at 0x000001F2FBE703C0>}, {'pos': array([236.235, 6.5]), 'data': 228, 'pen': <PyQt5.QtGui.QPen object at 0x000001F2FBE70040>}, {'pos': array([236.236, 6.5]), 'data': 229, 'pen': <PyQt5.QtGui.QPen object at 0x000001F2FBE70040>}, {'pos': array([236.237, 18.5]), 'data': 230, 'pen': <PyQt5.QtGui.QPen object at 0x000001F2FBE51740>}, {'pos': array([236.253, 9.5]), 'data': 231, 'pen': <PyQt5.QtGui.QPen object at 0x000001F2FBE56900>}, {'pos': array([236.276, 9.5]), 'data': 232, 'pen': <PyQt5.QtGui.QPen object at 0x000001F2FBE56900>}, {'pos': array([236.288, 8.5]), 'data': 233, 'pen': <PyQt5.QtGui.QPen object at 0x000001F2FBE56C80>}, {'pos': array([236.293, 8.5]), 'data': 234, 'pen': <PyQt5.QtGui.QPen object at 0x000001F2FBE56C80>}, {'pos': array([236.303, 5.5]), 'data': 235, 'pen': <PyQt5.QtGui.QPen object at 0x000001F302229AC0>}, {'pos': array([236.304, 21.5]), 'data': 236, 'pen': <PyQt5.QtGui.QPen object at 0x000001F2FBE56740>}, {'pos': array([236.31, 8.5]), 'data': 237, 'pen': <PyQt5.QtGui.QPen object at 0x000001F2FBE56C80>}, {'pos': array([236.311, 5.5]), 'data': 238, 'pen': <PyQt5.QtGui.QPen object at 0x000001F302229AC0>}, {'pos': array([236.316, 15.5]), 'data': 239, 'pen': <PyQt5.QtGui.QPen object at 0x000001F2FBE703C0>}, {'pos': array([236.321, 15.5]), 'data': 240, 'pen': <PyQt5.QtGui.QPen object at 0x000001F2FBE703C0>}, {'pos': array([236.367, 7.5]), 'data': 241, 'pen': <PyQt5.QtGui.QPen object at 0x000001F2FBE77C80>}, {'pos': array([236.372, 9.5]), 'data': 242, 'pen': <PyQt5.QtGui.QPen object at 0x000001F2FBE56900>}, {'pos': array([236.38, 6.5]), 'data': 243, 'pen': <PyQt5.QtGui.QPen object at 0x000001F2FBE70040>}, {'pos': array([236.407, 18.5]), 'data': 244, 'pen': <PyQt5.QtGui.QPen object at 0x000001F2FBE51740>}, {'pos': array([236.41, 9.5]), 'data': 245, 'pen': <PyQt5.QtGui.QPen object at 0x000001F2FBE56900>}, {'pos': array([236.413, 6.5]), 'data': 246, 'pen': <PyQt5.QtGui.QPen object at 0x000001F2FBE70040>}, {'pos': array([236.425, 12.5]), 'data': 247, 'pen': <PyQt5.QtGui.QPen object at 0x000001F3022295F0>}, {'pos': array([236.428, 12.5]), 'data': 248, 'pen': <PyQt5.QtGui.QPen object at 0x000001F3022295F0>}, {'pos': array([236.431, 12.5]), 'data': 249, 'pen': <PyQt5.QtGui.QPen object at 0x000001F3022295F0>}, {'pos': array([236.436, 12.5]), 'data': 250, 'pen': <PyQt5.QtGui.QPen object at 0x000001F3022295F0>}, {'pos': array([236.439, 8.5]), 'data': 251, 'pen': <PyQt5.QtGui.QPen object at 0x000001F2FBE56C80>}, {'pos': array([236.447, 15.5]), 'data': 252, 'pen': <PyQt5.QtGui.QPen object at 0x000001F2FBE703C0>}, {'pos': array([236.45, 15.5]), 'data': 253, 'pen': <PyQt5.QtGui.QPen object at 0x000001F2FBE703C0>}, {'pos': array([236.456, 21.5]), 'data': 254, 'pen': <PyQt5.QtGui.QPen object at 0x000001F2FBE56740>}, {'pos': array([236.459, 15.5]), 'data': 255, 'pen': <PyQt5.QtGui.QPen object at 0x000001F2FBE703C0>}, {'pos': array([236.48, 7.5]), 'data': 256, 'pen': <PyQt5.QtGui.QPen object at 0x000001F2FBE77C80>}, {'pos': array([236.49, 18.5]), 'data': 257, 'pen': <PyQt5.QtGui.QPen object at 0x000001F2FBE51740>}, {'pos': array([236.494, 18.5]), 'data': 258, 'pen': <PyQt5.QtGui.QPen object at 0x000001F2FBE51740>}, {'pos': array([236.508, 8.5]), 'data': 259, 'pen': <PyQt5.QtGui.QPen object at 0x000001F2FBE56C80>}, {'pos': array([236.563, 5.5]), 'data': 260, 'pen': <PyQt5.QtGui.QPen object at 0x000001F302229AC0>}, {'pos': array([236.567, 27.5]), 'data': 261, 'pen': <PyQt5.QtGui.QPen object at 0x000001F2FBE51900>}, {'pos': array([236.567, 25.5]), 'data': 262, 'pen': <PyQt5.QtGui.QPen object at 0x000001F2FBE77900>}, {'pos': array([236.57, 8.5]), 'data': 263, 'pen': <PyQt5.QtGui.QPen object at 0x000001F2FBE56C80>}, {'pos': array([236.573, 15.5]), 'data': 264, 'pen': <PyQt5.QtGui.QPen object at 0x000001F2FBE703C0>}, {'pos': array([236.581, 15.5]), 'data': 265, 'pen': <PyQt5.QtGui.QPen object at 0x000001F2FBE703C0>}, {'pos': array([236.585, 15.5]), 'data': 266, 'pen': <PyQt5.QtGui.QPen object at 0x000001F2FBE703C0>}, {'pos': array([236.605, 8.5]), 'data': 267, 'pen': <PyQt5.QtGui.QPen object at 0x000001F2FBE56C80>}, {'pos': array([236.64, 9.5]), 'data': 268, 'pen': <PyQt5.QtGui.QPen object at 0x000001F2FBE56900>}, {'pos': array([236.643, 6.5]), 'data': 269, 'pen': <PyQt5.QtGui.QPen object at 0x000001F2FBE70040>}, {'pos': array([236.647, 9.5]), 'data': 270, 'pen': <PyQt5.QtGui.QPen object at 0x000001F2FBE56900>}, {'pos': array([236.652, 6.5]), 'data': 271, 'pen': <PyQt5.QtGui.QPen object at 0x000001F2FBE70040>}, {'pos': array([236.66, 6.5]), 'data': 272, 'pen': <PyQt5.QtGui.QPen object at 0x000001F2FBE70040>}, {'pos': array([236.674, 12.5]), 'data': 273, 'pen': <PyQt5.QtGui.QPen object at 0x000001F3022295F0>}, {'pos': array([236.683, 23.5]), 'data': 274, 'pen': <PyQt5.QtGui.QPen object at 0x000001F2FBE56580>}, {'pos': array([236.686, 12.5]), 'data': 275, 'pen': <PyQt5.QtGui.QPen object at 0x000001F3022295F0>}, {'pos': array([236.693, 12.5]), 'data': 276, 'pen': <PyQt5.QtGui.QPen object at 0x000001F3022295F0>}, {'pos': array([236.701, 8.5]), 'data': 277, 'pen': <PyQt5.QtGui.QPen object at 0x000001F2FBE56C80>}, {'pos': array([236.708, 15.5]), 'data': 278, 'pen': <PyQt5.QtGui.QPen object at 0x000001F2FBE703C0>}, {'pos': array([236.712, 15.5]), 'data': 279, 'pen': <PyQt5.QtGui.QPen object at 0x000001F2FBE703C0>}, {'pos': array([236.73, 30.5]), 'data': 280, 'pen': <PyQt5.QtGui.QPen object at 0x000001F3022290B0>}, {'pos': array([236.745, 18.5]), 'data': 281, 'pen': <PyQt5.QtGui.QPen object at 0x000001F2FBE51740>}, {'pos': array([236.75, 12.5]), 'data': 282, 'pen': <PyQt5.QtGui.QPen object at 0x000001F3022295F0>}, {'pos': array([236.756, 12.5]), 'data': 283, 'pen': <PyQt5.QtGui.QPen object at 0x000001F3022295F0>}, {'pos': array([236.759, 18.5]), 'data': 284, 'pen': <PyQt5.QtGui.QPen object at 0x000001F2FBE51740>}, {'pos': array([236.825, 15.5]), 'data': 285, 'pen': <PyQt5.QtGui.QPen object at 0x000001F2FBE703C0>}, {'pos': array([236.832, 5.5]), 'data': 286, 'pen': <PyQt5.QtGui.QPen object at 0x000001F302229AC0>}, {'pos': array([236.832, 15.5]), 'data': 287, 'pen': <PyQt5.QtGui.QPen object at 0x000001F2FBE703C0>}, {'pos': array([236.857, 5.5]), 'data': 288, 'pen': <PyQt5.QtGui.QPen object at 0x000001F302229AC0>}, {'pos': array([236.896, 8.5]), 'data': 289, 'pen': <PyQt5.QtGui.QPen object at 0x000001F2FBE56C80>}, {'pos': array([236.907, 17.5]), 'data': 290, 'pen': <PyQt5.QtGui.QPen object at 0x000001F2FBE563C0>}, {'pos': array([236.914, 15.5]), 'data': 291, 'pen': <PyQt5.QtGui.QPen object at 0x000001F2FBE703C0>}, {'pos': array([236.916, 17.5]), 'data': 292, 'pen': <PyQt5.QtGui.QPen object at 0x000001F2FBE563C0>}, {'pos': array([236.922, 15.5]), 'data': 293, 'pen': <PyQt5.QtGui.QPen object at 0x000001F2FBE703C0>}, {'pos': array([236.93, 15.5]), 'data': 294, 'pen': <PyQt5.QtGui.QPen object at 0x000001F2FBE703C0>}, {'pos': array([236.966, 6.5]), 'data': 295, 'pen': <PyQt5.QtGui.QPen object at 0x000001F2FBE70040>}, {'pos': array([236.967, 4.5]), 'data': 296, 'pen': <PyQt5.QtGui.QPen object at 0x000001F2FBE56AC0>}, {'pos': array([237, 15.5]), 'data': 297, 'pen': <PyQt5.QtGui.QPen object at 0x000001F2FBE703C0>}, {'pos': array([237.006, 4.5]), 'data': 298, 'pen': <PyQt5.QtGui.QPen object at 0x000001F2FBE56AC0>}, {'pos': array([237.065, 4.5]), 'data': 299, 'pen': <PyQt5.QtGui.QPen object at 0x000001F2FBE56AC0>}, {'pos': array([237.074, 4.5]), 'data': 300, 'pen': <PyQt5.QtGui.QPen object at 0x000001F2FBE56AC0>}, {'pos': array([237.074, 6.5]), 'data': 301, 'pen': <PyQt5.QtGui.QPen object at 0x000001F2FBE70040>}, {'pos': array([237.077, 4.5]), 'data': 302, 'pen': <PyQt5.QtGui.QPen object at 0x000001F2FBE56AC0>}, {'pos': array([237.086, 20.5]), 'data': 303, 'pen': <PyQt5.QtGui.QPen object at 0x000001F2FBE51AC0>}, {'pos': array([237.088, 18.5]), 'data': 304, 'pen': <PyQt5.QtGui.QPen object at 0x000001F2FBE51740>}, {'pos': array([237.093, 18.5]), 'data': 305, 'pen': <PyQt5.QtGui.QPen object at 0x000001F2FBE51740>}, {'pos': array([237.099, 25.5]), 'data': 306, 'pen': <PyQt5.QtGui.QPen object at 0x000001F2FBE77900>}, {'pos': array([237.107, 22.5]), 'data': 307, 'pen': <PyQt5.QtGui.QPen object at 0x000001F2FBE51040>}, {'pos': array([237.121, 15.5]), 'data': 308, 'pen': <PyQt5.QtGui.QPen object at 0x000001F2FBE703C0>}, {'pos': array([237.132, 15.5]), 'data': 309, 'pen': <PyQt5.QtGui.QPen object at 0x000001F2FBE703C0>}, {'pos': array([237.145, 15.5]), 'data': 310, 'pen': <PyQt5.QtGui.QPen object at 0x000001F2FBE703C0>}, {'pos': array([237.18, 4.5]), 'data': 311, 'pen': <PyQt5.QtGui.QPen object at 0x000001F2FBE56AC0>}, {'pos': array([237.183, 4.5]), 'data': 312, 'pen': <PyQt5.QtGui.QPen object at 0x000001F2FBE56AC0>}, {'pos': array([237.187, 4.5]), 'data': 313, 'pen': <PyQt5.QtGui.QPen object at 0x000001F2FBE56AC0>}, {'pos': array([237.205, 18.5]), 'data': 314, 'pen': <PyQt5.QtGui.QPen object at 0x000001F2FBE51740>}, {'pos': array([237.21, 18.5]), 'data': 315, 'pen': <PyQt5.QtGui.QPen object at 0x000001F2FBE51740>}, {'pos': array([237.217, 22.5]), 'data': 316, 'pen': <PyQt5.QtGui.QPen object at 0x000001F2FBE51040>}, {'pos': array([237.223, 3.5]), 'data': 317, 'pen': <PyQt5.QtGui.QPen object at 0x000001F2FBE56E40>}, {'pos': array([237.274, 3.5]), 'data': 318, 'pen': <PyQt5.QtGui.QPen object at 0x000001F2FBE56E40>}, {'pos': array([237.276, 4.5]), 'data': 319, 'pen': <PyQt5.QtGui.QPen object at 0x000001F2FBE56AC0>}, {'pos': array([237.313, 1.5]), 'data': 320, 'pen': <PyQt5.QtGui.QPen object at 0x000001F2FBE6F740>}, {'pos': array([237.322, 25.5]), 'data': 321, 'pen': <PyQt5.QtGui.QPen object at 0x000001F2FBE77900>}, {'pos': array([237.322, 3.5]), 'data': 322, 'pen': <PyQt5.QtGui.QPen object at 0x000001F2FBE56E40>}, {'pos': array([237.325, 9.5]), 'data': 323, 'pen': <PyQt5.QtGui.QPen object at 0x000001F2FBE56900>}, {'pos': array([237.327, 3.5]), 'data': 324, 'pen': <PyQt5.QtGui.QPen object at 0x000001F2FBE56E40>}, {'pos': array([237.359, 4.5]), 'data': 325, 'pen': <PyQt5.QtGui.QPen object at 0x000001F2FBE56AC0>}, {'pos': array([237.364, 4.5]), 'data': 326, 'pen': <PyQt5.QtGui.QPen object at 0x000001F2FBE56AC0>}, {'pos': array([237.368, 15.5]), 'data': 327, 'pen': <PyQt5.QtGui.QPen object at 0x000001F2FBE703C0>}, {'pos': array([237.375, 15.5]), 'data': 328, 'pen': <PyQt5.QtGui.QPen object at 0x000001F2FBE703C0>}, {'pos': array([237.386, 8.5]), 'data': 329, 'pen': <PyQt5.QtGui.QPen object at 0x000001F2FBE56C80>}, {'pos': array([237.398, 18.5]), 'data': 330, 'pen': <PyQt5.QtGui.QPen object at 0x000001F2FBE51740>}, {'pos': array([237.434, 3.5]), 'data': 331, 'pen': <PyQt5.QtGui.QPen object at 0x000001F2FBE56E40>}, {'pos': array([237.437, 14.5]), 'data': 332, 'pen': <PyQt5.QtGui.QPen object at 0x000001F302229200>}, {'pos': array([237.438, 3.5]), 'data': 333, 'pen': <PyQt5.QtGui.QPen object at 0x000001F2FBE56E40>}, {'pos': array([237.443, 3.5]), 'data': 334, 'pen': <PyQt5.QtGui.QPen object at 0x000001F2FBE56E40>}, {'pos': array([237.444, 2.5]), 'data': 335, 'pen': <PyQt5.QtGui.QPen object at 0x000001F2FBE56200>}, {'pos': array([237.448, 2.5]), 'data': 336, 'pen': <PyQt5.QtGui.QPen object at 0x000001F2FBE56200>}, {'pos': array([237.454, 18.5]), 'data': 337, 'pen': <PyQt5.QtGui.QPen object at 0x000001F2FBE51740>}, {'pos': array([237.462, 2.5]), 'data': 338, 'pen': <PyQt5.QtGui.QPen object at 0x000001F2FBE56200>}, {'pos': array([237.508, 18.5]), 'data': 339, 'pen': <PyQt5.QtGui.QPen object at 0x000001F2FBE51740>}, {'pos': array([237.515, 18.5]), 'data': 340, 'pen': <PyQt5.QtGui.QPen object at 0x000001F2FBE51740>}, {'pos': array([237.522, 18.5]), 'data': 341, 'pen': <PyQt5.QtGui.QPen object at 0x000001F2FBE51740>}, {'pos': array([237.545, 3.5]), 'data': 342, 'pen': <PyQt5.QtGui.QPen object at 0x000001F2FBE56E40>}, {'pos': array([237.558, 17.5]), 'data': 343, 'pen': <PyQt5.QtGui.QPen object at 0x000001F2FBE563C0>}, {'pos': array([237.559, 3.5]), 'data': 344, 'pen': <PyQt5.QtGui.QPen object at 0x000001F2FBE56E40>}, {'pos': array([237.561, 16.5]), 'data': 345, 'pen': <PyQt5.QtGui.QPen object at 0x000001F2FBE77E40>}, {'pos': array([237.561, 25.5]), 'data': 346, 'pen': <PyQt5.QtGui.QPen object at 0x000001F2FBE77900>}, {'pos': array([237.576, 17.5]), 'data': 347, 'pen': <PyQt5.QtGui.QPen object at 0x000001F2FBE563C0>}, {'pos': array([237.578, 4.5]), 'data': 348, 'pen': <PyQt5.QtGui.QPen object at 0x000001F2FBE56AC0>}, {'pos': array([237.588, 4.5]), 'data': 349, 'pen': <PyQt5.QtGui.QPen object at 0x000001F2FBE56AC0>}, {'pos': array([237.61, 18.5]), 'data': 350, 'pen': <PyQt5.QtGui.QPen object at 0x000001F2FBE51740>}, {'pos': array([237.621, 4.5]), 'data': 351, 'pen': <PyQt5.QtGui.QPen object at 0x000001F2FBE56AC0>}, {'pos': array([237.65, 3.5]), 'data': 352, 'pen': <PyQt5.QtGui.QPen object at 0x000001F2FBE56E40>}, {'pos': array([237.66, 1.5]), 'data': 353, 'pen': <PyQt5.QtGui.QPen object at 0x000001F2FBE6F740>}, {'pos': array([237.662, 3.5]), 'data': 354, 'pen': <PyQt5.QtGui.QPen object at 0x000001F2FBE56E40>}, {'pos': array([237.666, 22.5]), 'data': 355, 'pen': <PyQt5.QtGui.QPen object at 0x000001F2FBE51040>}, {'pos': array([237.666, 26.5]), 'data': 356, 'pen': <PyQt5.QtGui.QPen object at 0x000001F2FBE70200>}, {'pos': array([237.669, 3.5]), 'data': 357, 'pen': <PyQt5.QtGui.QPen object at 0x000001F2FBE56E40>}, {'pos': array([237.679, 2.5]), 'data': 358, 'pen': <PyQt5.QtGui.QPen object at 0x000001F2FBE56200>}, {'pos': array([237.682, 14.5]), 'data': 359, 'pen': <PyQt5.QtGui.QPen object at 0x000001F302229200>}, {'pos': array([237.687, 3.5]), 'data': 360, 'pen': <PyQt5.QtGui.QPen object at 0x000001F2FBE56E40>}, {'pos': array([237.715, 18.5]), 'data': 361, 'pen': <PyQt5.QtGui.QPen object at 0x000001F2FBE51740>}, {'pos': array([237.752, 1.5]), 'data': 362, 'pen': <PyQt5.QtGui.QPen object at 0x000001F2FBE6F740>}, {'pos': array([237.755, 3.5]), 'data': 363, 'pen': <PyQt5.QtGui.QPen object at 0x000001F2FBE56E40>}, {'pos': array([237.76, 2.5]), 'data': 364, 'pen': <PyQt5.QtGui.QPen object at 0x000001F2FBE56200>}, {'pos': array([237.769, 14.5]), 'data': 365, 'pen': <PyQt5.QtGui.QPen object at 0x000001F302229200>}, {'pos': array([237.775, 22.5]), 'data': 366, 'pen': <PyQt5.QtGui.QPen object at 0x000001F2FBE51040>}, {'pos': array([237.777, 11.5]), 'data': 367, 'pen': <PyQt5.QtGui.QPen object at 0x000001F2FBE51E40>}, {'pos': array([237.795, 3.5]), 'data': 368, 'pen': <PyQt5.QtGui.QPen object at 0x000001F2FBE56E40>}, {'pos': array([237.799, 1.5]), 'data': 369, 'pen': <PyQt5.QtGui.QPen object at 0x000001F2FBE6F740>}, {'pos': array([237.809, 3.5]), 'data': 370, 'pen': <PyQt5.QtGui.QPen object at 0x000001F2FBE56E40>}, {'pos': array([237.874, 2.5]), 'data': 371, 'pen': <PyQt5.QtGui.QPen object at 0x000001F2FBE56200>}, {'pos': array([237.884, 2.5]), 'data': 372, 'pen': <PyQt5.QtGui.QPen object at 0x000001F2FBE56200>}, {'pos': array([237.899, 18.5]), 'data': 373, 'pen': <PyQt5.QtGui.QPen object at 0x000001F2FBE51740>}, {'pos': array([237.926, 3.5]), 'data': 374, 'pen': <PyQt5.QtGui.QPen object at 0x000001F2FBE56E40>}, {'pos': array([237.959, 3.5]), 'data': 375, 'pen': <PyQt5.QtGui.QPen object at 0x000001F2FBE56E40>}, {'pos': array([237.971, 9.5]), 'data': 376, 'pen': <PyQt5.QtGui.QPen object at 0x000001F2FBE56900>}, {'pos': array([237.984, 25.5]), 'data': 377, 'pen': <PyQt5.QtGui.QPen object at 0x000001F2FBE77900>}, {'pos': array([238.009, 22.5]), 'data': 378, 'pen': <PyQt5.QtGui.QPen object at 0x000001F2FBE51040>}, {'pos': array([238.022, 22.5]), 'data': 379, 'pen': <PyQt5.QtGui.QPen object at 0x000001F2FBE51040>}, {'pos': array([238.051, 9.5]), 'data': 380, 'pen': <PyQt5.QtGui.QPen object at 0x000001F2FBE56900>}, {'pos': array([238.055, 11.5]), 'data': 381, 'pen': <PyQt5.QtGui.QPen object at 0x000001F2FBE51E40>}, {'pos': array([238.066, 3.5]), 'data': 382, 'pen': <PyQt5.QtGui.QPen object at 0x000001F2FBE56E40>}, {'pos': array([238.071, 9.5]), 'data': 383, 'pen': <PyQt5.QtGui.QPen object at 0x000001F2FBE56900>}, {'pos': array([238.1, 2.5]), 'data': 384, 'pen': <PyQt5.QtGui.QPen object at 0x000001F2FBE56200>}, {'pos': array([238.128, 15.5]), 'data': 385, 'pen': <PyQt5.QtGui.QPen object at 0x000001F2FBE703C0>}, {'pos': array([238.148, 18.5]), 'data': 386, 'pen': <PyQt5.QtGui.QPen object at 0x000001F2FBE51740>}, {'pos': array([238.155, 18.5]), 'data': 387, 'pen': <PyQt5.QtGui.QPen object at 0x000001F2FBE51740>}, {'pos': array([238.16, 22.5]), 'data': 388, 'pen': <PyQt5.QtGui.QPen object at 0x000001F2FBE51040>}, {'pos': array([238.174, 3.5]), 'data': 389, 'pen': <PyQt5.QtGui.QPen object at 0x000001F2FBE56E40>}, {'pos': array([238.189, 1.5]), 'data': 390, 'pen': <PyQt5.QtGui.QPen object at 0x000001F2FBE6F740>}, {'pos': array([238.24, 1.5]), 'data': 391, 'pen': <PyQt5.QtGui.QPen object at 0x000001F2FBE6F740>}, {'pos': array([238.244, 9.5]), 'data': 392, 'pen': <PyQt5.QtGui.QPen object at 0x000001F2FBE56900>}, {'pos': array([238.256, 1.5]), 'data': 393, 'pen': <PyQt5.QtGui.QPen object at 0x000001F2FBE6F740>}, {'pos': array([238.276, 9.5]), 'data': 394, 'pen': <PyQt5.QtGui.QPen object at 0x000001F2FBE56900>}, {'pos': array([238.312, 25.5]), 'data': 395, 'pen': <PyQt5.QtGui.QPen object at 0x000001F2FBE77900>}, {'pos': array([238.314, 9.5]), 'data': 396, 'pen': <PyQt5.QtGui.QPen object at 0x000001F2FBE56900>}, {'pos': array([238.325, 1.5]), 'data': 397, 'pen': <PyQt5.QtGui.QPen object at 0x000001F2FBE6F740>}, {'pos': array([238.422, 1.5]), 'data': 398, 'pen': <PyQt5.QtGui.QPen object at 0x000001F2FBE6F740>}, {'pos': array([238.451, 9.5]), 'data': 399, 'pen': <PyQt5.QtGui.QPen object at 0x000001F2FBE56900>}, {'pos': array([238.473, 9.5]), 'data': 400, 'pen': <PyQt5.QtGui.QPen object at 0x000001F2FBE56900>}, {'pos': array([238.475, 25.5]), 'data': 401, 'pen': <PyQt5.QtGui.QPen object at 0x000001F2FBE77900>}, {'pos': array([238.482, 9.5]), 'data': 402, 'pen': <PyQt5.QtGui.QPen object at 0x000001F2FBE56900>}, {'pos': array([238.52, 6.5]), 'data': 403, 'pen': <PyQt5.QtGui.QPen object at 0x000001F2FBE70040>}, {'pos': array([238.542, 22.5]), 'data': 404, 'pen': <PyQt5.QtGui.QPen object at 0x000001F2FBE51040>}, {'pos': array([238.561, 3.5]), 'data': 405, 'pen': <PyQt5.QtGui.QPen object at 0x000001F2FBE56E40>}, {'pos': array([238.565, 9.5]), 'data': 406, 'pen': <PyQt5.QtGui.QPen object at 0x000001F2FBE56900>}, {'pos': array([238.568, 1.5]), 'data': 407, 'pen': <PyQt5.QtGui.QPen object at 0x000001F2FBE6F740>}, {'pos': array([238.582, 3.5]), 'data': 408, 'pen': <PyQt5.QtGui.QPen object at 0x000001F2FBE56E40>}, {'pos': array([238.651, 22.5]), 'data': 409, 'pen': <PyQt5.QtGui.QPen object at 0x000001F2FBE51040>}, {'pos': array([238.668, 22.5]), 'data': 410, 'pen': <PyQt5.QtGui.QPen object at 0x000001F2FBE51040>}, {'pos': array([238.673, 22.5]), 'data': 411, 'pen': <PyQt5.QtGui.QPen object at 0x000001F2FBE51040>}, {'pos': array([238.689, 6.5]), 'data': 412, 'pen': <PyQt5.QtGui.QPen object at 0x000001F2FBE70040>}, {'pos': array([238.751, 6.5]), 'data': 413, 'pen': <PyQt5.QtGui.QPen object at 0x000001F2FBE70040>}, {'pos': array([238.818, 9.5]), 'data': 414, 'pen': <PyQt5.QtGui.QPen object at 0x000001F2FBE56900>}, {'pos': array([238.836, 9.5]), 'data': 415, 'pen': <PyQt5.QtGui.QPen object at 0x000001F2FBE56900>}, {'pos': array([238.839, 3.5]), 'data': 416, 'pen': <PyQt5.QtGui.QPen object at 0x000001F2FBE56E40>}, {'pos': array([238.882, 14.5]), 'data': 417, 'pen': <PyQt5.QtGui.QPen object at 0x000001F302229200>}, {'pos': array([238.891, 4.5]), 'data': 418, 'pen': <PyQt5.QtGui.QPen object at 0x000001F2FBE56AC0>}, {'pos': array([238.896, 2.5]), 'data': 419, 'pen': <PyQt5.QtGui.QPen object at 0x000001F2FBE56200>}, {'pos': array([238.92, 3.5]), 'data': 420, 'pen': <PyQt5.QtGui.QPen object at 0x000001F2FBE56E40>}, {'pos': array([238.935, 9.5]), 'data': 421, 'pen': <PyQt5.QtGui.QPen object at 0x000001F2FBE56900>}, {'pos': array([238.962, 26.5]), 'data': 422, 'pen': <PyQt5.QtGui.QPen object at 0x000001F2FBE70200>}, {'pos': array([239.073, 17.5]), 'data': 423, 'pen': <PyQt5.QtGui.QPen object at 0x000001F2FBE563C0>}, {'pos': array([239.077, 22.5]), 'data': 424, 'pen': <PyQt5.QtGui.QPen object at 0x000001F2FBE51040>}, {'pos': array([239.13, 3.5]), 'data': 425, 'pen': <PyQt5.QtGui.QPen object at 0x000001F2FBE56E40>}, {'pos': array([239.156, 17.5]), 'data': 426, 'pen': <PyQt5.QtGui.QPen object at 0x000001F2FBE563C0>}, {'pos': array([239.179, 2.5]), 'data': 427, 'pen': <PyQt5.QtGui.QPen object at 0x000001F2FBE56200>}, {'pos': array([239.189, 22.5]), 'data': 428, 'pen': <PyQt5.QtGui.QPen object at 0x000001F2FBE51040>}, {'pos': array([239.279, 14.5]), 'data': 429, 'pen': <PyQt5.QtGui.QPen object at 0x000001F302229200>}, {'pos': array([239.285, 6.5]), 'data': 430, 'pen': <PyQt5.QtGui.QPen object at 0x000001F2FBE70040>}, {'pos': array([239.319, 22.5]), 'data': 431, 'pen': <PyQt5.QtGui.QPen object at 0x000001F2FBE51040>}, {'pos': array([239.438, 6.5]), 'data': 432, 'pen': <PyQt5.QtGui.QPen object at 0x000001F2FBE70040>}, {'pos': array([239.466, 3.5]), 'data': 433, 'pen': <PyQt5.QtGui.QPen object at 0x000001F2FBE56E40>}, {'pos': array([239.598, 6.5]), 'data': 434, 'pen': <PyQt5.QtGui.QPen object at 0x000001F2FBE70040>}, {'pos': array([239.601, 14.5]), 'data': 435, 'pen': <PyQt5.QtGui.QPen object at 0x000001F302229200>}, {'pos': array([239.654, 6.5]), 'data': 436, 'pen': <PyQt5.QtGui.QPen object at 0x000001F2FBE70040>}, {'pos': array([239.666, 2.5]), 'data': 437, 'pen': <PyQt5.QtGui.QPen object at 0x000001F2FBE56200>}, {'pos': array([239.775, 6.5]), 'data': 438, 'pen': <PyQt5.QtGui.QPen object at 0x000001F2FBE70040>}, {'pos': array([239.787, 14.5]), 'data': 439, 'pen': <PyQt5.QtGui.QPen object at 0x000001F302229200>}], 'all_scatterplot_tooltips_kwargs': {'data': [ScatterItemData(t=234.4701263513416, aclu=88, neuron_IDX=24), ScatterItemData(t=234.48597786319442, aclu=72, neuron_IDX=16), ScatterItemData(t=234.487022342626, aclu=55, neuron_IDX=11), ScatterItemData(t=234.4879746621009, aclu=64, neuron_IDX=14), ScatterItemData(t=234.48969498137012, aclu=72, neuron_IDX=16), ScatterItemData(t=234.49153818027116, aclu=64, neuron_IDX=14), ScatterItemData(t=234.4950402585091, aclu=78, neuron_IDX=19), ScatterItemData(t=234.4953781783115, aclu=101, neuron_IDX=32), ScatterItemData(t=234.495501058409, aclu=83, neuron_IDX=21), ScatterItemData(t=234.49657625786494, aclu=64, neuron_IDX=14), ScatterItemData(t=234.49697561759967, aclu=72, neuron_IDX=16), ScatterItemData(t=234.5010920955101, aclu=101, neuron_IDX=32), ScatterItemData(t=234.5029045745032, aclu=64, neuron_IDX=14), ScatterItemData(t=234.50468633358832, aclu=78, neuron_IDX=19), ScatterItemData(t=234.51666712749284, aclu=83, neuron_IDX=21), ScatterItemData(t=234.51697432727087, aclu=101, neuron_IDX=32), ScatterItemData(t=234.5266204023501, aclu=78, neuron_IDX=19), ScatterItemData(t=234.53233431943227, aclu=92, neuron_IDX=27), ScatterItemData(t=234.53706519701518, aclu=93, neuron_IDX=28), ScatterItemData(t=234.56677142181434, aclu=64, neuron_IDX=14), ScatterItemData(t=234.57451285794377, aclu=93, neuron_IDX=28), ScatterItemData(t=234.58584853215143, aclu=64, neuron_IDX=14), ScatterItemData(t=234.59014932985883, aclu=64, neuron_IDX=14), ScatterItemData(t=234.5929448484676, aclu=101, neuron_IDX=32), ScatterItemData(t=234.59583252703305, aclu=64, neuron_IDX=14), ScatterItemData(t=234.5989659653278, aclu=83, neuron_IDX=21), ScatterItemData(t=234.6029288432328, aclu=83, neuron_IDX=21), ScatterItemData(t=234.60593940177932, aclu=39, neuron_IDX=5), ScatterItemData(t=234.60858132049907, aclu=78, neuron_IDX=19), ScatterItemData(t=234.61014803953003, aclu=64, neuron_IDX=14), ScatterItemData(t=234.61094675923232, aclu=39, neuron_IDX=5), ScatterItemData(t=234.62043923442252, aclu=101, neuron_IDX=32), ScatterItemData(t=234.6209614741383, aclu=78, neuron_IDX=19), ScatterItemData(t=234.6290715499781, aclu=78, neuron_IDX=19), ScatterItemData(t=234.63653650612105, aclu=78, neuron_IDX=19), ScatterItemData(t=234.64833298011217, aclu=64, neuron_IDX=14), ScatterItemData(t=234.65352465736214, aclu=64, neuron_IDX=14), ScatterItemData(t=234.6626177727012, aclu=64, neuron_IDX=14), ScatterItemData(t=234.669345449307, aclu=64, neuron_IDX=14), ScatterItemData(t=234.675888805883, aclu=64, neuron_IDX=14), ScatterItemData(t=234.68310800218023, aclu=64, neuron_IDX=14), ScatterItemData(t=234.6910030381987, aclu=64, neuron_IDX=14), ScatterItemData(t=234.69942031381652, aclu=72, neuron_IDX=16), ScatterItemData(t=234.70365967182443, aclu=75, neuron_IDX=17), ScatterItemData(t=234.70439695136156, aclu=64, neuron_IDX=14), ScatterItemData(t=234.7089435090311, aclu=75, neuron_IDX=17), ScatterItemData(t=234.71871246397495, aclu=72, neuron_IDX=16), ScatterItemData(t=234.72077070304658, aclu=64, neuron_IDX=14), ScatterItemData(t=234.73020173818804, aclu=72, neuron_IDX=16), ScatterItemData(t=234.73831181402784, aclu=83, neuron_IDX=21), ScatterItemData(t=234.74162957223598, aclu=83, neuron_IDX=21), ScatterItemData(t=234.74175245233346, aclu=101, neuron_IDX=32), ScatterItemData(t=234.74565389030613, aclu=83, neuron_IDX=21), ScatterItemData(t=234.75735820422415, aclu=64, neuron_IDX=14), ScatterItemData(t=234.76543756003957, aclu=64, neuron_IDX=14), ScatterItemData(t=234.77453067537863, aclu=64, neuron_IDX=14), ScatterItemData(t=234.78141195187345, aclu=75, neuron_IDX=17), ScatterItemData(t=234.78242571139708, aclu=64, neuron_IDX=14), ScatterItemData(t=234.7914573866874, aclu=64, neuron_IDX=14), ScatterItemData(t=234.79446794523392, aclu=101, neuron_IDX=32), ScatterItemData(t=234.79886090301443, aclu=64, neuron_IDX=14), ScatterItemData(t=234.80770825839136, aclu=64, neuron_IDX=14), ScatterItemData(t=234.80899849778507, aclu=72, neuron_IDX=16), ScatterItemData(t=234.81022729713004, aclu=101, neuron_IDX=32), ScatterItemData(t=234.81704713369254, aclu=72, neuron_IDX=16), ScatterItemData(t=234.8177844133461, aclu=101, neuron_IDX=32), ScatterItemData(t=234.81867529288866, aclu=78, neuron_IDX=19), ScatterItemData(t=234.8187981727533, aclu=64, neuron_IDX=14), ScatterItemData(t=234.82408201007638, aclu=78, neuron_IDX=19), ScatterItemData(t=234.8408858414041, aclu=83, neuron_IDX=21), ScatterItemData(t=234.85182215587702, aclu=90, neuron_IDX=25), ScatterItemData(t=234.86988550657406, aclu=64, neuron_IDX=14), ScatterItemData(t=234.8765824631555, aclu=64, neuron_IDX=14), ScatterItemData(t=234.8870272578206, aclu=64, neuron_IDX=14), ScatterItemData(t=234.88966917654034, aclu=72, neuron_IDX=16), ScatterItemData(t=234.89501445379574, aclu=64, neuron_IDX=14), ScatterItemData(t=234.90241797000635, aclu=64, neuron_IDX=14), ScatterItemData(t=234.90536708850414, aclu=41, neuron_IDX=6), ScatterItemData(t=234.90948356629815, aclu=64, neuron_IDX=14), ScatterItemData(t=234.91519748338033, aclu=101, neuron_IDX=32), ScatterItemData(t=234.91525892331265, aclu=75, neuron_IDX=17), ScatterItemData(t=234.91977476107422, aclu=75, neuron_IDX=17), ScatterItemData(t=234.93353731406387, aclu=75, neuron_IDX=17), ScatterItemData(t=234.94134019012563, aclu=83, neuron_IDX=21), ScatterItemData(t=234.9449037082959, aclu=83, neuron_IDX=21), ScatterItemData(t=234.94923522602767, aclu=83, neuron_IDX=21), ScatterItemData(t=234.95863554114476, aclu=91, neuron_IDX=26), ScatterItemData(t=234.96732929674909, aclu=50, neuron_IDX=10), ScatterItemData(t=234.97236737411004, aclu=50, neuron_IDX=10), ScatterItemData(t=234.976023052237, aclu=50, neuron_IDX=10), ScatterItemData(t=234.9787878508214, aclu=48, neuron_IDX=9), ScatterItemData(t=234.9906150448369, aclu=72, neuron_IDX=16), ScatterItemData(t=234.9910451247124, aclu=64, neuron_IDX=14), ScatterItemData(t=235.00677375658415, aclu=64, neuron_IDX=14), ScatterItemData(t=235.01227263372857, aclu=64, neuron_IDX=14), ScatterItemData(t=235.02007550979033, aclu=64, neuron_IDX=14), ScatterItemData(t=235.0203519896604, aclu=78, neuron_IDX=19), ScatterItemData(t=235.02944510499947, aclu=78, neuron_IDX=19), ScatterItemData(t=235.0298444647342, aclu=83, neuron_IDX=21), ScatterItemData(t=235.0446822171798, aclu=83, neuron_IDX=21), ScatterItemData(t=235.04710909584537, aclu=101, neuron_IDX=32), ScatterItemData(t=235.05359101260547, aclu=83, neuron_IDX=21), ScatterItemData(t=235.0661554861581, aclu=83, neuron_IDX=21), ScatterItemData(t=235.1032345072599, aclu=75, neuron_IDX=17), ScatterItemData(t=235.10698234522715, aclu=75, neuron_IDX=17), ScatterItemData(t=235.1349682508735, aclu=90, neuron_IDX=25), ScatterItemData(t=235.15131128253415, aclu=78, neuron_IDX=19), ScatterItemData(t=235.15579640027136, aclu=83, neuron_IDX=21), ScatterItemData(t=235.1719551119022, aclu=83, neuron_IDX=21), ScatterItemData(t=235.17717750929296, aclu=83, neuron_IDX=21), ScatterItemData(t=235.17806838883553, aclu=108, neuron_IDX=33), ScatterItemData(t=235.19889653823338, aclu=32, neuron_IDX=4), ScatterItemData(t=235.20488693506923, aclu=50, neuron_IDX=10), ScatterItemData(t=235.20805109350476, aclu=50, neuron_IDX=10), ScatterItemData(t=235.23063028184697, aclu=39, neuron_IDX=5), ScatterItemData(t=235.26012146682478, aclu=90, neuron_IDX=25), ScatterItemData(t=235.26638834364712, aclu=86, neuron_IDX=23), ScatterItemData(t=235.26638834364712, aclu=99, neuron_IDX=30), ScatterItemData(t=235.2762494586641, aclu=75, neuron_IDX=17), ScatterItemData(t=235.28592625365127, aclu=83, neuron_IDX=21), ScatterItemData(t=235.30481904395856, aclu=32, neuron_IDX=4), ScatterItemData(t=235.30484976398293, aclu=55, neuron_IDX=11), ScatterItemData(t=235.3208241558168, aclu=55, neuron_IDX=11), ScatterItemData(t=235.33191407006234, aclu=90, neuron_IDX=25), ScatterItemData(t=235.33391086908523, aclu=76, neuron_IDX=18), ScatterItemData(t=235.34011630597524, aclu=90, neuron_IDX=25), ScatterItemData(t=235.34619886276778, aclu=69, neuron_IDX=15), ScatterItemData(t=235.34761198202614, aclu=78, neuron_IDX=19), ScatterItemData(t=235.35120622022077, aclu=90, neuron_IDX=25), ScatterItemData(t=235.3543703785399, aclu=83, neuron_IDX=21), ScatterItemData(t=235.36158957483713, aclu=75, neuron_IDX=17), ScatterItemData(t=235.36506093316711, aclu=75, neuron_IDX=17), ScatterItemData(t=235.3719729295699, aclu=75, neuron_IDX=17), ScatterItemData(t=235.3980234762421, aclu=83, neuron_IDX=21), ScatterItemData(t=235.39857643598225, aclu=101, neuron_IDX=32), ScatterItemData(t=235.3998359553516, aclu=90, neuron_IDX=25), ScatterItemData(t=235.40951275033876, aclu=83, neuron_IDX=21), ScatterItemData(t=235.43184617895167, aclu=32, neuron_IDX=4), ScatterItemData(t=235.4357168970164, aclu=50, neuron_IDX=10), ScatterItemData(t=235.4389732151758, aclu=50, neuron_IDX=10), ScatterItemData(t=235.44176873378456, aclu=72, neuron_IDX=16), ScatterItemData(t=235.44739049102645, aclu=99, neuron_IDX=30), ScatterItemData(t=235.44754409079906, aclu=91, neuron_IDX=26), ScatterItemData(t=235.44806633063126, aclu=32, neuron_IDX=4), ScatterItemData(t=235.4482813704526, aclu=50, neuron_IDX=10), ScatterItemData(t=235.45417960744817, aclu=31, neuron_IDX=3), ScatterItemData(t=235.49605094606522, aclu=90, neuron_IDX=25), ScatterItemData(t=235.5042531817453, aclu=83, neuron_IDX=21), ScatterItemData(t=235.50784741993994, aclu=83, neuron_IDX=21), ScatterItemData(t=235.51485157641582, aclu=39, neuron_IDX=5), ScatterItemData(t=235.53045732842293, aclu=83, neuron_IDX=21), ScatterItemData(t=235.54391268151812, aclu=83, neuron_IDX=21), ScatterItemData(t=235.5470461199293, aclu=32, neuron_IDX=4), ScatterItemData(t=235.55555555562023, aclu=72, neuron_IDX=16), ScatterItemData(t=235.55577059544157, aclu=101, neuron_IDX=32), ScatterItemData(t=235.5628054718254, aclu=91, neuron_IDX=26), ScatterItemData(t=235.5639421112137, aclu=50, neuron_IDX=10), ScatterItemData(t=235.58129890239798, aclu=31, neuron_IDX=3), ScatterItemData(t=235.61355488584377, aclu=83, neuron_IDX=21), ScatterItemData(t=235.61545952490997, aclu=69, neuron_IDX=15), ScatterItemData(t=235.62605791946407, aclu=101, neuron_IDX=32), ScatterItemData(t=235.6376086336095, aclu=83, neuron_IDX=21), ScatterItemData(t=235.65253854589537, aclu=32, neuron_IDX=4), ScatterItemData(t=235.6566550238058, aclu=83, neuron_IDX=21), ScatterItemData(t=235.66547165927477, aclu=32, neuron_IDX=4), ScatterItemData(t=235.68120029126294, aclu=91, neuron_IDX=26), ScatterItemData(t=235.68513244925998, aclu=99, neuron_IDX=30), ScatterItemData(t=235.68912604718935, aclu=91, neuron_IDX=26), ScatterItemData(t=235.69834204250947, aclu=72, neuron_IDX=16), ScatterItemData(t=235.70497755915858, aclu=50, neuron_IDX=10), ScatterItemData(t=235.72411610931158, aclu=101, neuron_IDX=32), ScatterItemData(t=235.72798682725988, aclu=101, neuron_IDX=32), ScatterItemData(t=235.73336282453965, aclu=101, neuron_IDX=32), ScatterItemData(t=235.74239449994639, aclu=101, neuron_IDX=32), ScatterItemData(t=235.74638809787575, aclu=72, neuron_IDX=16), ScatterItemData(t=235.7745583235519, aclu=32, neuron_IDX=4), ScatterItemData(t=235.77821400156245, aclu=99, neuron_IDX=30), ScatterItemData(t=235.78140887990594, aclu=32, neuron_IDX=4), ScatterItemData(t=235.78423511853907, aclu=91, neuron_IDX=26), ScatterItemData(t=235.78491095814388, aclu=99, neuron_IDX=30), ScatterItemData(t=235.79295959405135, aclu=90, neuron_IDX=25), ScatterItemData(t=235.79655383212958, aclu=99, neuron_IDX=30), ScatterItemData(t=235.79919575084932, aclu=50, neuron_IDX=10), ScatterItemData(t=235.80890326586086, aclu=91, neuron_IDX=26), ScatterItemData(t=235.8209454996977, aclu=72, neuron_IDX=16), ScatterItemData(t=235.82785749610048, aclu=93, neuron_IDX=28), ScatterItemData(t=235.83624405192677, aclu=72, neuron_IDX=16), ScatterItemData(t=235.83771861111745, aclu=101, neuron_IDX=32), ScatterItemData(t=235.84635092667304, aclu=32, neuron_IDX=4), ScatterItemData(t=235.8509589243913, aclu=101, neuron_IDX=32), ScatterItemData(t=235.86134227912407, aclu=101, neuron_IDX=32), ScatterItemData(t=235.87326163297985, aclu=99, neuron_IDX=30), ScatterItemData(t=235.8916629034793, aclu=32, neuron_IDX=4), ScatterItemData(t=235.90195409813896, aclu=50, neuron_IDX=10), ScatterItemData(t=235.90324433753267, aclu=99, neuron_IDX=30), ScatterItemData(t=235.91414993198123, aclu=91, neuron_IDX=26), ScatterItemData(t=235.9240724868141, aclu=91, neuron_IDX=26), ScatterItemData(t=235.93169104296248, aclu=31, neuron_IDX=3), ScatterItemData(t=235.93190608290024, aclu=50, neuron_IDX=10), ScatterItemData(t=235.9545467112912, aclu=101, neuron_IDX=32), ScatterItemData(t=235.97645006002858, aclu=101, neuron_IDX=32), ScatterItemData(t=235.97853901900817, aclu=32, neuron_IDX=4), ScatterItemData(t=235.98105805774685, aclu=101, neuron_IDX=32), ScatterItemData(t=235.99392973107751, aclu=101, neuron_IDX=32), ScatterItemData(t=235.9961108500138, aclu=91, neuron_IDX=26), ScatterItemData(t=235.99690956959967, aclu=99, neuron_IDX=30), ScatterItemData(t=236.01322188123595, aclu=72, neuron_IDX=16), ScatterItemData(t=236.01475788047537, aclu=91, neuron_IDX=26), ScatterItemData(t=236.02959563280456, aclu=99, neuron_IDX=30), ScatterItemData(t=236.0360468296567, aclu=91, neuron_IDX=26), ScatterItemData(t=236.0371527490206, aclu=50, neuron_IDX=10), ScatterItemData(t=236.06056137697306, aclu=31, neuron_IDX=3), ScatterItemData(t=236.06495433475357, aclu=50, neuron_IDX=10), ScatterItemData(t=236.07158985128626, aclu=61, neuron_IDX=12), ScatterItemData(t=236.07223497109953, aclu=5, neuron_IDX=0), ScatterItemData(t=236.0917421610793, aclu=99, neuron_IDX=30), ScatterItemData(t=236.09604295890313, aclu=99, neuron_IDX=30), ScatterItemData(t=236.11972806672566, aclu=32, neuron_IDX=4), ScatterItemData(t=236.14611653320026, aclu=91, neuron_IDX=26), ScatterItemData(t=236.15078597085085, aclu=50, neuron_IDX=10), ScatterItemData(t=236.15920324646868, aclu=45, neuron_IDX=7), ScatterItemData(t=236.16138436540496, aclu=91, neuron_IDX=26), ScatterItemData(t=236.17198275995906, aclu=31, neuron_IDX=3), ScatterItemData(t=236.1766214775853, aclu=31, neuron_IDX=3), ScatterItemData(t=236.1872198722558, aclu=93, neuron_IDX=28), ScatterItemData(t=236.19907778617926, aclu=93, neuron_IDX=28), ScatterItemData(t=236.1993849859573, aclu=50, neuron_IDX=10), ScatterItemData(t=236.2009209850803, aclu=101, neuron_IDX=32), ScatterItemData(t=236.23471296776552, aclu=99, neuron_IDX=30), ScatterItemData(t=236.2356960073812, aclu=99, neuron_IDX=30), ScatterItemData(t=236.23686336667743, aclu=72, neuron_IDX=16), ScatterItemData(t=236.2531142383814, aclu=91, neuron_IDX=26), ScatterItemData(t=236.27563198679127, aclu=91, neuron_IDX=26), ScatterItemData(t=236.28767422074452, aclu=93, neuron_IDX=28), ScatterItemData(t=236.29268157819752, aclu=93, neuron_IDX=28), ScatterItemData(t=236.3026041330304, aclu=5, neuron_IDX=0), ScatterItemData(t=236.30438589223195, aclu=90, neuron_IDX=25), ScatterItemData(t=236.30954684945755, aclu=93, neuron_IDX=28), ScatterItemData(t=236.3109599687159, aclu=5, neuron_IDX=0), ScatterItemData(t=236.3161516460823, aclu=101, neuron_IDX=32), ScatterItemData(t=236.32066748372745, aclu=101, neuron_IDX=32), ScatterItemData(t=236.36674746021163, aclu=50, neuron_IDX=10), ScatterItemData(t=236.37224633747246, aclu=91, neuron_IDX=26), ScatterItemData(t=236.38011065346655, aclu=99, neuron_IDX=30), ScatterItemData(t=236.4067141597625, aclu=72, neuron_IDX=16), ScatterItemData(t=236.40966327826027, aclu=91, neuron_IDX=26), ScatterItemData(t=236.41291959653609, aclu=99, neuron_IDX=30), ScatterItemData(t=236.42505399032962, aclu=31, neuron_IDX=3), ScatterItemData(t=236.42797238891944, aclu=31, neuron_IDX=3), ScatterItemData(t=236.43089078739285, aclu=31, neuron_IDX=3), ScatterItemData(t=236.4359288647538, aclu=31, neuron_IDX=3), ScatterItemData(t=236.43933878315147, aclu=93, neuron_IDX=28), ScatterItemData(t=236.44692661915906, aclu=101, neuron_IDX=32), ScatterItemData(t=236.45030581741594, aclu=101, neuron_IDX=32), ScatterItemData(t=236.45608117443044, aclu=90, neuron_IDX=25), ScatterItemData(t=236.45860021328554, aclu=101, neuron_IDX=32), ScatterItemData(t=236.48038068204187, aclu=50, neuron_IDX=10), ScatterItemData(t=236.48962739738636, aclu=72, neuron_IDX=16), ScatterItemData(t=236.49377459520474, aclu=72, neuron_IDX=16), ScatterItemData(t=236.50839730771258, aclu=93, neuron_IDX=28), ScatterItemData(t=236.56310959975235, aclu=5, neuron_IDX=0), ScatterItemData(t=236.56707247765735, aclu=75, neuron_IDX=17), ScatterItemData(t=236.56710319768172, aclu=46, neuron_IDX=8), ScatterItemData(t=236.5704823959386, aclu=93, neuron_IDX=28), ScatterItemData(t=236.57333935447969, aclu=101, neuron_IDX=32), ScatterItemData(t=236.58061999070924, aclu=101, neuron_IDX=32), ScatterItemData(t=236.58528942835983, aclu=101, neuron_IDX=32), ScatterItemData(t=236.60458157851826, aclu=93, neuron_IDX=28), ScatterItemData(t=236.6396638005972, aclu=91, neuron_IDX=26), ScatterItemData(t=236.6426743590273, aclu=99, neuron_IDX=30), ScatterItemData(t=236.64743595651817, aclu=91, neuron_IDX=26), ScatterItemData(t=236.65192107425537, aclu=99, neuron_IDX=30), ScatterItemData(t=236.65975467022508, aclu=99, neuron_IDX=30), ScatterItemData(t=236.6741316227708, aclu=31, neuron_IDX=3), ScatterItemData(t=236.68322473822627, aclu=88, neuron_IDX=24), ScatterItemData(t=236.68568233691622, aclu=31, neuron_IDX=3), ScatterItemData(t=236.6925943334354, aclu=31, neuron_IDX=3), ScatterItemData(t=236.70091944909655, aclu=93, neuron_IDX=28), ScatterItemData(t=236.7077085657511, aclu=101, neuron_IDX=32), ScatterItemData(t=236.7116714436561, aclu=101, neuron_IDX=32), ScatterItemData(t=236.7296733544208, aclu=32, neuron_IDX=4), ScatterItemData(t=236.74454182677437, aclu=72, neuron_IDX=16), ScatterItemData(t=236.7502250239486, aclu=31, neuron_IDX=3), ScatterItemData(t=236.7562461408088, aclu=31, neuron_IDX=3), ScatterItemData(t=236.759348859312, aclu=72, neuron_IDX=16), ScatterItemData(t=236.82493602565955, aclu=101, neuron_IDX=32), ScatterItemData(t=236.83194018201903, aclu=5, neuron_IDX=0), ScatterItemData(t=236.83218594186474, aclu=101, neuron_IDX=32), ScatterItemData(t=236.85737632901873, aclu=5, neuron_IDX=0), ScatterItemData(t=236.89580702933017, aclu=93, neuron_IDX=28), ScatterItemData(t=236.90689694369212, aclu=86, neuron_IDX=23), ScatterItemData(t=236.91396254010033, aclu=101, neuron_IDX=32), ScatterItemData(t=236.91645085881464, aclu=86, neuron_IDX=23), ScatterItemData(t=236.9215810962487, aclu=101, neuron_IDX=32), ScatterItemData(t=236.93005981179886, aclu=101, neuron_IDX=32), ScatterItemData(t=236.9659714733716, aclu=99, neuron_IDX=30), ScatterItemData(t=236.9672924327897, aclu=92, neuron_IDX=27), ScatterItemData(t=237.00043929577805, aclu=101, neuron_IDX=32), ScatterItemData(t=237.00615321286023, aclu=92, neuron_IDX=27), ScatterItemData(t=237.0645519029349, aclu=92, neuron_IDX=27), ScatterItemData(t=237.0735528584337, aclu=92, neuron_IDX=27), ScatterItemData(t=237.07438229804393, aclu=99, neuron_IDX=30), ScatterItemData(t=237.0772392564686, aclu=92, neuron_IDX=27), ScatterItemData(t=237.08627093187533, aclu=76, neuron_IDX=18), ScatterItemData(t=237.08808341086842, aclu=72, neuron_IDX=16), ScatterItemData(t=237.0929371684324, aclu=72, neuron_IDX=16), ScatterItemData(t=237.0989582852926, aclu=46, neuron_IDX=8), ScatterItemData(t=237.1072526810458, aclu=61, neuron_IDX=12), ScatterItemData(t=237.12064659420867, aclu=101, neuron_IDX=32), ScatterItemData(t=237.13161362870596, aclu=101, neuron_IDX=32), ScatterItemData(t=237.14463890204206, aclu=101, neuron_IDX=32), ScatterItemData(t=237.17956752411555, aclu=92, neuron_IDX=27), ScatterItemData(t=237.1825473625213, aclu=92, neuron_IDX=27), ScatterItemData(t=237.18749328004196, aclu=92, neuron_IDX=27), ScatterItemData(t=237.20454287121538, aclu=72, neuron_IDX=16), ScatterItemData(t=237.20994958851952, aclu=72, neuron_IDX=16), ScatterItemData(t=237.21655438514426, aclu=61, neuron_IDX=12), ScatterItemData(t=237.2225755021209, aclu=95, neuron_IDX=29), ScatterItemData(t=237.27363211591728, aclu=95, neuron_IDX=29), ScatterItemData(t=237.2762740345206, aclu=92, neuron_IDX=27), ScatterItemData(t=237.3127693758579, aclu=45, neuron_IDX=7), ScatterItemData(t=237.32210825115908, aclu=46, neuron_IDX=8), ScatterItemData(t=237.32210825115908, aclu=95, neuron_IDX=29), ScatterItemData(t=237.32468872971367, aclu=91, neuron_IDX=26), ScatterItemData(t=237.32702344865538, aclu=95, neuron_IDX=29), ScatterItemData(t=237.35863431240432, aclu=92, neuron_IDX=27), ScatterItemData(t=237.36404102970846, aclu=92, neuron_IDX=27), ScatterItemData(t=237.36775814776774, aclu=101, neuron_IDX=32), ScatterItemData(t=237.37522310391068, aclu=101, neuron_IDX=32), ScatterItemData(t=237.3859136584215, aclu=93, neuron_IDX=28), ScatterItemData(t=237.39786373230163, aclu=72, neuron_IDX=16), ScatterItemData(t=237.43420547363348, aclu=95, neuron_IDX=29), ScatterItemData(t=237.43666307243984, aclu=39, neuron_IDX=5), ScatterItemData(t=237.43779971182812, aclu=95, neuron_IDX=29), ScatterItemData(t=237.44268418930005, aclu=95, neuron_IDX=29), ScatterItemData(t=237.4435136289103, aclu=84, neuron_IDX=22), ScatterItemData(t=237.44833666656632, aclu=84, neuron_IDX=22), ScatterItemData(t=237.453774103662, aclu=72, neuron_IDX=16), ScatterItemData(t=237.46151553967502, aclu=84, neuron_IDX=22), ScatterItemData(t=237.50817919580732, aclu=72, neuron_IDX=16), ScatterItemData(t=237.5149375924375, aclu=72, neuron_IDX=16), ScatterItemData(t=237.5223411085317, aclu=72, neuron_IDX=16), ScatterItemData(t=237.54455165727995, aclu=95, neuron_IDX=29), ScatterItemData(t=237.55806845030747, aclu=86, neuron_IDX=23), ScatterItemData(t=237.55929724965245, aclu=95, neuron_IDX=29), ScatterItemData(t=237.56083324889187, aclu=55, neuron_IDX=11), ScatterItemData(t=237.5612326086266, aclu=46, neuron_IDX=8), ScatterItemData(t=237.57557884138077, aclu=86, neuron_IDX=23), ScatterItemData(t=237.5782207599841, aclu=92, neuron_IDX=27), ScatterItemData(t=237.58838907477912, aclu=92, neuron_IDX=27), ScatterItemData(t=237.60977018380072, aclu=72, neuron_IDX=16), ScatterItemData(t=237.62089081818704, aclu=92, neuron_IDX=27), ScatterItemData(t=237.65001336322166, aclu=95, neuron_IDX=29), ScatterItemData(t=237.66005879815202, aclu=45, neuron_IDX=7), ScatterItemData(t=237.66156407725066, aclu=95, neuron_IDX=29), ScatterItemData(t=237.6658648751909, aclu=61, neuron_IDX=12), ScatterItemData(t=237.6663563947659, aclu=100, neuron_IDX=31), ScatterItemData(t=237.66902903351001, aclu=95, neuron_IDX=29), ScatterItemData(t=237.6786136686569, aclu=84, neuron_IDX=22), ScatterItemData(t=237.68226934666745, aclu=39, neuron_IDX=5), ScatterItemData(t=237.68743030412588, aclu=95, neuron_IDX=29), ScatterItemData(t=237.71498612989672, aclu=72, neuron_IDX=16), ScatterItemData(t=237.75246451073326, aclu=45, neuron_IDX=7), ScatterItemData(t=237.75482994958293, aclu=95, neuron_IDX=29), ScatterItemData(t=237.76023666677065, aclu=84, neuron_IDX=22), ScatterItemData(t=237.76853106252383, aclu=39, neuron_IDX=5), ScatterItemData(t=237.77482865937054, aclu=61, neuron_IDX=12), ScatterItemData(t=237.77719409798738, aclu=79, neuron_IDX=20), ScatterItemData(t=237.79544176871423, aclu=95, neuron_IDX=29), ScatterItemData(t=237.7990974469576, aclu=45, neuron_IDX=7), ScatterItemData(t=237.80948080157395, aclu=95, neuron_IDX=29), ScatterItemData(t=237.87362412863877, aclu=84, neuron_IDX=22), ScatterItemData(t=237.88446828327142, aclu=84, neuron_IDX=22), ScatterItemData(t=237.899490355514, aclu=72, neuron_IDX=16), ScatterItemData(t=237.92627818183973, aclu=95, neuron_IDX=29), ScatterItemData(t=237.95865704515018, aclu=95, neuron_IDX=29), ScatterItemData(t=237.97060711903032, aclu=91, neuron_IDX=26), ScatterItemData(t=237.9839088722365, aclu=46, neuron_IDX=8), ScatterItemData(t=238.0085770196747, aclu=61, neuron_IDX=12), ScatterItemData(t=238.02230885252357, aclu=61, neuron_IDX=12), ScatterItemData(t=238.05109347775578, aclu=91, neuron_IDX=26), ScatterItemData(t=238.0545341160614, aclu=79, neuron_IDX=20), ScatterItemData(t=238.0663613100769, aclu=95, neuron_IDX=29), ScatterItemData(t=238.07143010746222, aclu=91, neuron_IDX=26), ScatterItemData(t=238.09950817306526, aclu=84, neuron_IDX=22), ScatterItemData(t=238.1276783987414, aclu=101, neuron_IDX=32), ScatterItemData(t=238.14813790819608, aclu=72, neuron_IDX=16), ScatterItemData(t=238.15495774464216, aclu=72, neuron_IDX=16), ScatterItemData(t=238.15953502233606, aclu=61, neuron_IDX=12), ScatterItemData(t=238.17354333517142, aclu=95, neuron_IDX=29), ScatterItemData(t=238.18948700698093, aclu=45, neuron_IDX=7), ScatterItemData(t=238.2398677811725, aclu=45, neuron_IDX=7), ScatterItemData(t=238.24361561925616, aclu=91, neuron_IDX=26), ScatterItemData(t=238.25621081283316, aclu=45, neuron_IDX=7), ScatterItemData(t=238.2757487228373, aclu=91, neuron_IDX=26), ScatterItemData(t=238.31230550422333, aclu=46, neuron_IDX=8), ScatterItemData(t=238.3138722232543, aclu=91, neuron_IDX=26), ScatterItemData(t=238.3247470977949, aclu=45, neuron_IDX=7), ScatterItemData(t=238.42154576815665, aclu=45, neuron_IDX=7), ScatterItemData(t=238.4512519929558, aclu=91, neuron_IDX=26), ScatterItemData(t=238.47254094202071, aclu=91, neuron_IDX=26), ScatterItemData(t=238.47509070078377, aclu=46, neuron_IDX=8), ScatterItemData(t=238.48227917717304, aclu=91, neuron_IDX=26), ScatterItemData(t=238.51975755789317, aclu=99, neuron_IDX=30), ScatterItemData(t=238.54196810664143, aclu=61, neuron_IDX=12), ScatterItemData(t=238.56089161685668, aclu=95, neuron_IDX=29), ScatterItemData(t=238.56537673447747, aclu=91, neuron_IDX=26), ScatterItemData(t=238.56765001337044, aclu=45, neuron_IDX=7), ScatterItemData(t=238.5816583262058, aclu=95, neuron_IDX=29), ScatterItemData(t=238.65136197046377, aclu=61, neuron_IDX=12), ScatterItemData(t=238.6684115617536, aclu=61, neuron_IDX=12), ScatterItemData(t=238.6728045195341, aclu=61, neuron_IDX=12), ScatterItemData(t=238.68902467133012, aclu=99, neuron_IDX=30), ScatterItemData(t=238.75052607967518, aclu=99, neuron_IDX=30), ScatterItemData(t=238.81835580512416, aclu=91, neuron_IDX=26), ScatterItemData(t=238.83574331609998, aclu=91, neuron_IDX=26), ScatterItemData(t=238.83875387453008, aclu=95, neuron_IDX=29), ScatterItemData(t=238.8819461724488, aclu=39, neuron_IDX=5), ScatterItemData(t=238.8907320878934, aclu=92, neuron_IDX=27), ScatterItemData(t=238.8959237652598, aclu=84, neuron_IDX=22), ScatterItemData(t=238.91991607297678, aclu=95, neuron_IDX=29), ScatterItemData(t=238.93530678516254, aclu=91, neuron_IDX=26), ScatterItemData(t=238.9618181316182, aclu=100, neuron_IDX=31), ScatterItemData(t=239.07311663450673, aclu=86, neuron_IDX=23), ScatterItemData(t=239.07655727281235, aclu=61, neuron_IDX=12), ScatterItemData(t=239.13010220543947, aclu=95, neuron_IDX=29), ScatterItemData(t=239.1555076322984, aclu=86, neuron_IDX=23), ScatterItemData(t=239.17900842032395, aclu=84, neuron_IDX=22), ScatterItemData(t=239.18853161553852, aclu=61, neuron_IDX=12), ScatterItemData(t=239.27860260941088, aclu=39, neuron_IDX=5), ScatterItemData(t=239.28536100592464, aclu=99, neuron_IDX=30), ScatterItemData(t=239.3186000289861, aclu=61, neuron_IDX=12), ScatterItemData(t=239.4378857278498, aclu=99, neuron_IDX=30), ScatterItemData(t=239.46620955341496, aclu=95, neuron_IDX=29), ScatterItemData(t=239.5975067660911, aclu=99, neuron_IDX=30), ScatterItemData(t=239.60137748415582, aclu=39, neuron_IDX=5), ScatterItemData(t=239.65421585703734, aclu=99, neuron_IDX=30), ScatterItemData(t=239.66635025083087, aclu=84, neuron_IDX=22), ScatterItemData(t=239.7749146752758, aclu=99, neuron_IDX=30), ScatterItemData(t=239.78701834904496, aclu=39, neuron_IDX=5)], 'tip': <function Render2DScrollWindowPlotMixin._build_spike_data_tuples_from_spikes_df.<locals>._tip_fn at 0x000001F3006B68B0>}}))"
      ]
     },
     "execution_count": 147,
     "metadata": {},
     "output_type": "execute_result"
    }
   ],
   "source": [
    "_out_single_raster_plot"
   ]
  },
  {
   "cell_type": "code",
   "execution_count": null,
   "id": "fba974cb",
   "metadata": {},
   "outputs": [],
   "source": [
    "an_app, a_graphics_layout_widget, plots, plots_data = _out_single_raster_plot"
   ]
  },
  {
   "cell_type": "code",
   "execution_count": null,
   "id": "ccaa1c31",
   "metadata": {},
   "outputs": [],
   "source": [
    "# from pyphoplacecellanalysis.GUI.PyQtPlot.Widgets.DockAreaWrapper import DockAreaWrapper\n",
    "# # Wrap:\n",
    "# active_root_main_widget = ipcDataExplorer.p.window()\n",
    "# root_dockAreaWindow, app = DockAreaWrapper.wrap_with_dockAreaWindow(active_root_main_widget, placefieldControlsContainerWidget, title='MergedDockedDirectionalLapEpochScatterWindow')\n",
    "# pane = (root_dockAreaWindow, placefieldControlsContainerWidget, pf_widgets)"
   ]
  },
  {
   "cell_type": "code",
   "execution_count": 136,
   "id": "aeb1fe3c",
   "metadata": {},
   "outputs": [
    {
     "name": "stderr",
     "output_type": "stream",
     "text": [
      "[autoreload of pyphoplacecellanalysis.General.Pipeline.Stages.DisplayFunctions.SpikeRasters failed: Traceback (most recent call last):\n",
      "  File \"c:\\Users\\pho\\repos\\Spike3DWorkEnv\\Spike3D\\.venv\\lib\\site-packages\\IPython\\extensions\\autoreload.py\", line 274, in check\n",
      "    superreload(m, reload, self.old_objects, self.shell)\n",
      "  File \"c:\\Users\\pho\\repos\\Spike3DWorkEnv\\Spike3D\\.venv\\lib\\site-packages\\IPython\\extensions\\autoreload.py\", line 500, in superreload\n",
      "    update_generic(old_obj, new_obj)\n",
      "  File \"c:\\Users\\pho\\repos\\Spike3DWorkEnv\\Spike3D\\.venv\\lib\\site-packages\\IPython\\extensions\\autoreload.py\", line 397, in update_generic\n",
      "    update(a, b)\n",
      "  File \"c:\\Users\\pho\\repos\\Spike3DWorkEnv\\Spike3D\\.venv\\lib\\site-packages\\IPython\\extensions\\autoreload.py\", line 365, in update_class\n",
      "    update_instances(old, new)\n",
      "  File \"c:\\Users\\pho\\repos\\Spike3DWorkEnv\\Spike3D\\.venv\\lib\\site-packages\\IPython\\extensions\\autoreload.py\", line 323, in update_instances\n",
      "    object.__setattr__(ref, \"__class__\", new)\n",
      "TypeError: __class__ assignment only supported for heap types or ModuleType subclasses\n",
      "]\n"
     ]
    }
   ],
   "source": [
    "## Build multiple stacked rasters with different sorts/colors/etc:\n",
    "# recieves: spikes_df: pd.DataFrame, included_neuron_ids, unit_sort_order=None, unit_colors_list=None, scatter_plot_kwargs=None, scatter_app_name='pho_test', defer_show=False, active_context=None\n",
    "# returns: return app, win, plots, plots_data\n",
    "\n",
    "\n",
    "from pyphoplacecellanalysis.General.Pipeline.Stages.DisplayFunctions.SpikeRasters import _build_units_y_grid, _plot_empty_raster_plot_frame, RasterScatterPlotManager, UnitSortOrderManager, _build_scatter_plotting_managers, _prepare_spikes_df_from_filter_epochs\n",
    "\n",
    "\n",
    "curr_epoch_spikes=deepcopy(curr_epoch_spikes)\n",
    "included_neuron_ids=track_templates.shared_aclus_only_neuron_IDs\n",
    "unit_sort_order=even_long\n",
    "unit_colors_list=unit_colors_list\n",
    "scatter_plot_kwargs=override_scatter_plot_kwargs\n",
    "\n",
    "scatter_app_name = 'pho_directional_laps_rasters'\n",
    "defer_show = False\n",
    "active_context = None\n",
    "# scatter_plot_kwargs = None\n",
    "\n",
    "# rebuild_spikes_df_anyway = True # if True, `_prepare_spikes_df_from_filter_epochs` is called to rebuild spikes_df given the filter_epochs_df even if it contains the desired column already.\n",
    "# if rebuild_spikes_df_anyway:\n",
    "# \tspikes_df = spikes_df.copy() # don't modify the original dataframe\n",
    "# \tfilter_epochs_df = filter_epochs_df.copy()\n",
    "\n",
    "# if rebuild_spikes_df_anyway or (epoch_id_key_name not in spikes_df.columns):\n",
    "# \t# missing epoch_id column in the spikes_df, need to rebuild\n",
    "# \tspikes_df = _prepare_spikes_df_from_filter_epochs(spikes_df, filter_epochs=filter_epochs_df, included_neuron_ids=included_neuron_ids, epoch_id_key_name=epoch_id_key_name, debug_print=False) # replay_epoch_id\n",
    "\n",
    "# ## Create the raster plot for the replay:\n",
    "# app, win, plots, plots_data = plot_raster_plot(_active_epoch_spikes_df, shared_aclus, scatter_app_name=f\"Raster Epoch[{epoch_idx}]\")\n",
    "app, win, plots, plots_data = _plot_empty_raster_plot_frame(scatter_app_name=scatter_app_name, defer_show=defer_show, active_context=active_context)\n"
   ]
  },
  {
   "cell_type": "code",
   "execution_count": 146,
   "id": "71448fc0",
   "metadata": {},
   "outputs": [
    {
     "data": {
      "text/plain": [
       "(array([ 5,  0, 33, 12, 30, 14, 29,  1, 25, 32,  7, 16, 22, 24, 28, 19, 18, 27, 20, 13, 11, 10,  2, 17, 23, 21,  9,  4,  8,  3,  6, 26, 15, 31]),\n",
       " array([16,  1, 32, 10, 19, 11, 24,  2,  4, 31, 14, 25,  8, 33, 27, 23,  6, 22, 15, 29, 17, 21,  0, 20, 30, 18,  7,  5,  9,  3, 12, 28, 13, 26]),\n",
       " array([ 3,  0, 33, 13, 19, 22, 30, 20, 27, 31,  6, 18, 17, 29, 26, 10, 16, 23, 11,  8, 25,  5,  1, 14, 28, 12,  9,  2,  7,  4, 21, 24, 15, 32]),\n",
       " array([29,  0, 33,  7, 17, 11, 13,  2,  9, 25, 12,  8,  4, 28, 27, 20,  6, 22, 23, 24, 32, 21,  1, 19, 15, 18,  3, 14,  5, 30, 10, 26, 16, 31]))"
      ]
     },
     "execution_count": 146,
     "metadata": {},
     "output_type": "execute_result"
    }
   ],
   "source": [
    "even_long, odd_long, even_short, odd_short\n"
   ]
  },
  {
   "cell_type": "code",
   "execution_count": null,
   "id": "9e5f6f91",
   "metadata": {},
   "outputs": [],
   "source": [
    "plots_data = _build_scatter_plotting_managers(plots_data, spikes_df=spikes_df, included_neuron_ids=included_neuron_ids, unit_sort_order=unit_sort_order, unit_colors_list=unit_colors_list)\n",
    "# Update the dataframe\n",
    "spikes_df = plots_data.unit_sort_manager.update_spikes_df_visualization_columns(spikes_df)\n",
    "\n",
    "## Build the spots for the raster plot:\n",
    "plots_data.all_spots, plots_data.all_scatterplot_tooltips_kwargs = Render2DScrollWindowPlotMixin.build_spikes_all_spots_from_df(spikes_df, plots_data.raster_plot_manager.config_fragile_linear_neuron_IDX_map, should_return_data_tooltips_kwargs=True)\n"
   ]
  },
  {
   "cell_type": "code",
   "execution_count": 137,
   "id": "24075cc6",
   "metadata": {},
   "outputs": [],
   "source": [
    "# setting plot window background color to white\n",
    "# win.setBackground('w')\n",
    "# win.setForeground('k')\n",
    "\n",
    "plots.layout = win.addLayout()\n",
    "plots.ax = {}\n",
    "plots.scatter_plots = {} # index is the _active_plot_identifier\n",
    "plots.grid = {} # index is the _active_plot_identifier\n",
    "\n",
    "plots_data.all_spots_dict = {}\n",
    "plots_data.all_scatterplot_tooltips_kwargs_dict = {}\n",
    "plots_data = _build_scatter_plotting_managers(plots_data, spikes_df=spikes_df, included_neuron_ids=included_neuron_ids, unit_sort_order=unit_sort_order, unit_colors_list=unit_colors_list)\n"
   ]
  },
  {
   "cell_type": "code",
   "execution_count": 138,
   "id": "c41c54b4",
   "metadata": {},
   "outputs": [
    {
     "data": {
      "text/plain": [
       "RenderPlotsData({'name': 'pho_directional_laps_rasters', 'all_spots_dict': {}, 'all_scatterplot_tooltips_kwargs_dict': {}, 'n_cells': 34, 'params': RasterPlotParams(center_mode='starting_at_zero', bin_position_mode='bin_center', side_bin_margins=0.0, neuron_qcolors=[<PyQt5.QtGui.QColor object at 0x000001F2FA8D7D60>, <PyQt5.QtGui.QColor object at 0x000001F2FA8D7DD0>, <PyQt5.QtGui.QColor object at 0x000001F2FA8D7E40>, <PyQt5.QtGui.QColor object at 0x000001F2FA8D7EB0>, <PyQt5.QtGui.QColor object at 0x000001F2FA8D7F20>, <PyQt5.QtGui.QColor object at 0x000001F2FA8D7F90>, <PyQt5.QtGui.QColor object at 0x000001F2FA8CB040>, <PyQt5.QtGui.QColor object at 0x000001F2FA8CB0B0>, <PyQt5.QtGui.QColor object at 0x000001F2FA8CB120>, <PyQt5.QtGui.QColor object at 0x000001F2FA8CB190>, <PyQt5.QtGui.QColor object at 0x000001F2FA8CB200>, <PyQt5.QtGui.QColor object at 0x000001F2FA8CB270>, <PyQt5.QtGui.QColor object at 0x000001F2FA8CB2E0>, <PyQt5.QtGui.QColor object at 0x000001F2FA8CB350>, <PyQt5.QtGui.QColor object at 0x000001F2FA8CB3C0>, <PyQt5.QtGui.QColor object at 0x000001F2FA8CB430>, <PyQt5.QtGui.QColor object at 0x000001F2FA8CB4A0>, <PyQt5.QtGui.QColor object at 0x000001F2FA8CB510>, <PyQt5.QtGui.QColor object at 0x000001F2FA8CB580>, <PyQt5.QtGui.QColor object at 0x000001F2FA8CB5F0>, <PyQt5.QtGui.QColor object at 0x000001F2FA8CB660>, <PyQt5.QtGui.QColor object at 0x000001F2FA8CB6D0>, <PyQt5.QtGui.QColor object at 0x000001F2FA8CB740>, <PyQt5.QtGui.QColor object at 0x000001F2FA8CB7B0>, <PyQt5.QtGui.QColor object at 0x000001F2FA8CB820>, <PyQt5.QtGui.QColor object at 0x000001F2FA8CB890>, <PyQt5.QtGui.QColor object at 0x000001F2FA8CB900>, <PyQt5.QtGui.QColor object at 0x000001F2FA8CB970>, <PyQt5.QtGui.QColor object at 0x000001F2FA8CB9E0>, <PyQt5.QtGui.QColor object at 0x000001F2FA8CBA50>, <PyQt5.QtGui.QColor object at 0x000001F2FA8CBAC0>, <PyQt5.QtGui.QColor object at 0x000001F2FA8CBB30>, <PyQt5.QtGui.QColor object at 0x000001F2FA8CBBA0>, <PyQt5.QtGui.QColor object at 0x000001F2FA8CBC10>], neuron_colors=array([[1, 0.988235, 0.980392, 0.972549, 0.941176, 0.870588, 0.796078, 0.72549, 0.592157, 0.435294, 0.27451, 0.117647, 0.0823529, 0.0509804, 0.0196078, 0.00784314, 0.0431373, 0.0745098, 0.109804, 0.215686, 0.356863, 0.501961, 0.647059, 0.709804, 0.776471, 0.839216, 0.894118, 0.92549, 0.956863, 0.988235, 1, 1, 1, 1],\n",
       "       [0.615686, 0.686275, 0.760784, 0.831373, 0.87451, 0.854902, 0.835294, 0.815686, 0.8, 0.788235, 0.772549, 0.760784, 0.721569, 0.686275, 0.65098, 0.611765, 0.568627, 0.52549, 0.482353, 0.439216, 0.392157, 0.345098, 0.301961, 0.266667, 0.231373, 0.196078, 0.184314, 0.227451, 0.266667, 0.309804, 0.376471, 0.454902, 0.533333, 0.615686],\n",
       "       [0, 0, 0, 0, 0, 0, 0, 0, 0, 0, 0, 0, 0, 0, 0, 0, 0, 0, 0, 0.00392157, 0.00392157, 0.00392157, 0.00392157, 0, 0, 0, 0, 0, 0, 0, 0, 0, 0, 0],\n",
       "       [0.00392157, 0.00392157, 0.00392157, 0.00392157, 0.00392157, 0.00392157, 0.00392157, 0.00392157, 0.00392157, 0.00392157, 0.00392157, 0.00392157, 0.00392157, 0.00392157, 0.00392157, 0.00392157, 0.00392157, 0.00392157, 0.00392157, 0.00392157, 0.00392157, 0.00392157, 0.00392157, 0.00392157, 0.00392157, 0.00392157, 0.00392157, 0.00392157, 0.00392157, 0.00392157, 0.00392157, 0.00392157, 0.00392157, 0.00392157]]), neuron_colors_hex=['#ff9d00', '#fcaf00', '#fac200', '#f8d400', '#f0df00', '#deda00', '#cbd500', '#b9d000', '#97cc00', '#6fc900', '#46c500', '#1ec200', '#15b800', '#0daf00', '#05a600', '#029c00', '#0b9100', '#138600', '#1c7b00', '#377001', '#5b6401', '#805801', '#a54d01', '#b54400', '#c63b00', '#d63200', '#e42f00', '#ec3a00', '#f44400', '#fc4f00', '#ff6000', '#ff7400', '#ff8800', '#ff9d00'], neuron_qcolors_map={0: <PyQt5.QtGui.QColor object at 0x000001F2FA8CBC80>, 1: <PyQt5.QtGui.QColor object at 0x000001F2FA8CBCF0>, 2: <PyQt5.QtGui.QColor object at 0x000001F2FA8CBD60>, 3: <PyQt5.QtGui.QColor object at 0x000001F2FA8CBDD0>, 4: <PyQt5.QtGui.QColor object at 0x000001F2FA8CBE40>, 5: <PyQt5.QtGui.QColor object at 0x000001F2FA8CBEB0>, 6: <PyQt5.QtGui.QColor object at 0x000001F2FA8CBF20>, 7: <PyQt5.QtGui.QColor object at 0x000001F2FA8CBF90>, 8: <PyQt5.QtGui.QColor object at 0x000001F2ADFED040>, 9: <PyQt5.QtGui.QColor object at 0x000001F2ADFED0B0>, 10: <PyQt5.QtGui.QColor object at 0x000001F2ADFED120>, 11: <PyQt5.QtGui.QColor object at 0x000001F2ADFED190>, 12: <PyQt5.QtGui.QColor object at 0x000001F2ADFED200>, 13: <PyQt5.QtGui.QColor object at 0x000001F2ADFED270>, 14: <PyQt5.QtGui.QColor object at 0x000001F2ADFED2E0>, 15: <PyQt5.QtGui.QColor object at 0x000001F2ADFED350>, 16: <PyQt5.QtGui.QColor object at 0x000001F2ADFED3C0>, 17: <PyQt5.QtGui.QColor object at 0x000001F2ADFED430>, 18: <PyQt5.QtGui.QColor object at 0x000001F2ADFED4A0>, 19: <PyQt5.QtGui.QColor object at 0x000001F2ADFED510>, 20: <PyQt5.QtGui.QColor object at 0x000001F2ADFED580>, 21: <PyQt5.QtGui.QColor object at 0x000001F2ADFED5F0>, 22: <PyQt5.QtGui.QColor object at 0x000001F2ADFED660>, 23: <PyQt5.QtGui.QColor object at 0x000001F2ADFED6D0>, 24: <PyQt5.QtGui.QColor object at 0x000001F2ADFED740>, 25: <PyQt5.QtGui.QColor object at 0x000001F2ADFED7B0>, 26: <PyQt5.QtGui.QColor object at 0x000001F2ADFED820>, 27: <PyQt5.QtGui.QColor object at 0x000001F2ADFED890>, 28: <PyQt5.QtGui.QColor object at 0x000001F2ADFED900>, 29: <PyQt5.QtGui.QColor object at 0x000001F2ADFED970>, 30: <PyQt5.QtGui.QColor object at 0x000001F2ADFED9E0>, 31: <PyQt5.QtGui.QColor object at 0x000001F2ADFEDA50>, 32: <PyQt5.QtGui.QColor object at 0x000001F2ADFEDAC0>, 33: <PyQt5.QtGui.QColor object at 0x000001F2ADFEDB30>}, config_items=IndexedOrderedDict([(5, (None, None, {<SpikeEmphasisState.Hidden: 0>: <PyQt5.QtGui.QPen object at 0x000001F2039C73C0>, <SpikeEmphasisState.Deemphasized: 1>: <PyQt5.QtGui.QPen object at 0x000001F1A6442040>, <SpikeEmphasisState.Default: 2>: <PyQt5.QtGui.QPen object at 0x000001F1A64420B0>, <SpikeEmphasisState.Emphasized: 3>: <PyQt5.QtGui.QPen object at 0x000001F1A6442120>}, None, None)), (7, (None, None, {<SpikeEmphasisState.Hidden: 0>: <PyQt5.QtGui.QPen object at 0x000001F1A6442190>, <SpikeEmphasisState.Deemphasized: 1>: <PyQt5.QtGui.QPen object at 0x000001F1A6442200>, <SpikeEmphasisState.Default: 2>: <PyQt5.QtGui.QPen object at 0x000001F1A64424A0>, <SpikeEmphasisState.Emphasized: 3>: <PyQt5.QtGui.QPen object at 0x000001F1A64422E0>}, None, None)), (9, (None, None, {<SpikeEmphasisState.Hidden: 0>: <PyQt5.QtGui.QPen object at 0x000001F1A6442270>, <SpikeEmphasisState.Deemphasized: 1>: <PyQt5.QtGui.QPen object at 0x000001F2FA8D7C80>, <SpikeEmphasisState.Default: 2>: <PyQt5.QtGui.QPen object at 0x000001F2FA8D7C10>, <SpikeEmphasisState.Emphasized: 3>: <PyQt5.QtGui.QPen object at 0x000001F2FA8D7BA0>}, None, None)), (31, (None, None, {<SpikeEmphasisState.Hidden: 0>: <PyQt5.QtGui.QPen object at 0x000001F2FA8D7B30>, <SpikeEmphasisState.Deemphasized: 1>: <PyQt5.QtGui.QPen object at 0x000001F2FA8D7AC0>, <SpikeEmphasisState.Default: 2>: <PyQt5.QtGui.QPen object at 0x000001F2FA8D7A50>, <SpikeEmphasisState.Emphasized: 3>: <PyQt5.QtGui.QPen object at 0x000001F2FA8D79E0>}, None, None)), (32, (None, None, {<SpikeEmphasisState.Hidden: 0>: <PyQt5.QtGui.QPen object at 0x000001F2FA8D7970>, <SpikeEmphasisState.Deemphasized: 1>: <PyQt5.QtGui.QPen object at 0x000001F2FA8D7900>, <SpikeEmphasisState.Default: 2>: <PyQt5.QtGui.QPen object at 0x000001F2FA8D7890>, <SpikeEmphasisState.Emphasized: 3>: <PyQt5.QtGui.QPen object at 0x000001F2FA8D77B0>}, None, None)), (39, (None, None, {<SpikeEmphasisState.Hidden: 0>: <PyQt5.QtGui.QPen object at 0x000001F2FA8D7820>, <SpikeEmphasisState.Deemphasized: 1>: <PyQt5.QtGui.QPen object at 0x000001F2FA8D7740>, <SpikeEmphasisState.Default: 2>: <PyQt5.QtGui.QPen object at 0x000001F2FA8D76D0>, <SpikeEmphasisState.Emphasized: 3>: <PyQt5.QtGui.QPen object at 0x000001F2FA8D7660>}, None, None)), (41, (None, None, {<SpikeEmphasisState.Hidden: 0>: <PyQt5.QtGui.QPen object at 0x000001F2FA8D75F0>, <SpikeEmphasisState.Deemphasized: 1>: <PyQt5.QtGui.QPen object at 0x000001F2FA8D7580>, <SpikeEmphasisState.Default: 2>: <PyQt5.QtGui.QPen object at 0x000001F2FA8D7510>, <SpikeEmphasisState.Emphasized: 3>: <PyQt5.QtGui.QPen object at 0x000001F2FA8D74A0>}, None, None)), (45, (None, None, {<SpikeEmphasisState.Hidden: 0>: <PyQt5.QtGui.QPen object at 0x000001F2FA8D7430>, <SpikeEmphasisState.Deemphasized: 1>: <PyQt5.QtGui.QPen object at 0x000001F2FA8D73C0>, <SpikeEmphasisState.Default: 2>: <PyQt5.QtGui.QPen object at 0x000001F2FA8D7350>, <SpikeEmphasisState.Emphasized: 3>: <PyQt5.QtGui.QPen object at 0x000001F2FA8D7CF0>}, None, None)), (46, (None, None, {<SpikeEmphasisState.Hidden: 0>: <PyQt5.QtGui.QPen object at 0x000001F2ADFEDBA0>, <SpikeEmphasisState.Deemphasized: 1>: <PyQt5.QtGui.QPen object at 0x000001F2ADFEDC10>, <SpikeEmphasisState.Default: 2>: <PyQt5.QtGui.QPen object at 0x000001F2ADFEDC80>, <SpikeEmphasisState.Emphasized: 3>: <PyQt5.QtGui.QPen object at 0x000001F2ADFEDCF0>}, None, None)), (48, (None, None, {<SpikeEmphasisState.Hidden: 0>: <PyQt5.QtGui.QPen object at 0x000001F2ADFEDD60>, <SpikeEmphasisState.Deemphasized: 1>: <PyQt5.QtGui.QPen object at 0x000001F2ADFEDDD0>, <SpikeEmphasisState.Default: 2>: <PyQt5.QtGui.QPen object at 0x000001F2ADFEDE40>, <SpikeEmphasisState.Emphasized: 3>: <PyQt5.QtGui.QPen object at 0x000001F2ADFEDEB0>}, None, None)), (50, (None, None, {<SpikeEmphasisState.Hidden: 0>: <PyQt5.QtGui.QPen object at 0x000001F2ADFEDF20>, <SpikeEmphasisState.Deemphasized: 1>: <PyQt5.QtGui.QPen object at 0x000001F2ADFEDF90>, <SpikeEmphasisState.Default: 2>: <PyQt5.QtGui.QPen object at 0x000001F2ADFBD040>, <SpikeEmphasisState.Emphasized: 3>: <PyQt5.QtGui.QPen object at 0x000001F2ADFBD0B0>}, None, None)), (55, (None, None, {<SpikeEmphasisState.Hidden: 0>: <PyQt5.QtGui.QPen object at 0x000001F2ADFBD120>, <SpikeEmphasisState.Deemphasized: 1>: <PyQt5.QtGui.QPen object at 0x000001F2ADFBD190>, <SpikeEmphasisState.Default: 2>: <PyQt5.QtGui.QPen object at 0x000001F2ADFBD200>, <SpikeEmphasisState.Emphasized: 3>: <PyQt5.QtGui.QPen object at 0x000001F2ADFBD270>}, None, None)), (61, (None, None, {<SpikeEmphasisState.Hidden: 0>: <PyQt5.QtGui.QPen object at 0x000001F2ADFBD2E0>, <SpikeEmphasisState.Deemphasized: 1>: <PyQt5.QtGui.QPen object at 0x000001F2ADFBD350>, <SpikeEmphasisState.Default: 2>: <PyQt5.QtGui.QPen object at 0x000001F2ADFBD3C0>, <SpikeEmphasisState.Emphasized: 3>: <PyQt5.QtGui.QPen object at 0x000001F2ADFBD430>}, None, None)), (62, (None, None, {<SpikeEmphasisState.Hidden: 0>: <PyQt5.QtGui.QPen object at 0x000001F2ADFBD4A0>, <SpikeEmphasisState.Deemphasized: 1>: <PyQt5.QtGui.QPen object at 0x000001F2ADFBD510>, <SpikeEmphasisState.Default: 2>: <PyQt5.QtGui.QPen object at 0x000001F2ADFBD580>, <SpikeEmphasisState.Emphasized: 3>: <PyQt5.QtGui.QPen object at 0x000001F2ADFBD5F0>}, None, None)), (64, (None, None, {<SpikeEmphasisState.Hidden: 0>: <PyQt5.QtGui.QPen object at 0x000001F2ADFBD660>, <SpikeEmphasisState.Deemphasized: 1>: <PyQt5.QtGui.QPen object at 0x000001F2ADFBD6D0>, <SpikeEmphasisState.Default: 2>: <PyQt5.QtGui.QPen object at 0x000001F2ADFBD740>, <SpikeEmphasisState.Emphasized: 3>: <PyQt5.QtGui.QPen object at 0x000001F2ADFBD7B0>}, None, None)), (69, (None, None, {<SpikeEmphasisState.Hidden: 0>: <PyQt5.QtGui.QPen object at 0x000001F2ADFBD820>, <SpikeEmphasisState.Deemphasized: 1>: <PyQt5.QtGui.QPen object at 0x000001F2ADFBD890>, <SpikeEmphasisState.Default: 2>: <PyQt5.QtGui.QPen object at 0x000001F2ADFBD900>, <SpikeEmphasisState.Emphasized: 3>: <PyQt5.QtGui.QPen object at 0x000001F2ADFBD970>}, None, None)), (72, (None, None, {<SpikeEmphasisState.Hidden: 0>: <PyQt5.QtGui.QPen object at 0x000001F2ADFBD9E0>, <SpikeEmphasisState.Deemphasized: 1>: <PyQt5.QtGui.QPen object at 0x000001F2ADFBDA50>, <SpikeEmphasisState.Default: 2>: <PyQt5.QtGui.QPen object at 0x000001F2ADFBDAC0>, <SpikeEmphasisState.Emphasized: 3>: <PyQt5.QtGui.QPen object at 0x000001F2ADFBDB30>}, None, None)), (75, (None, None, {<SpikeEmphasisState.Hidden: 0>: <PyQt5.QtGui.QPen object at 0x000001F2ADFBDBA0>, <SpikeEmphasisState.Deemphasized: 1>: <PyQt5.QtGui.QPen object at 0x000001F2ADFBDC10>, <SpikeEmphasisState.Default: 2>: <PyQt5.QtGui.QPen object at 0x000001F2ADFBDC80>, <SpikeEmphasisState.Emphasized: 3>: <PyQt5.QtGui.QPen object at 0x000001F2ADFBDCF0>}, None, None)), (76, (None, None, {<SpikeEmphasisState.Hidden: 0>: <PyQt5.QtGui.QPen object at 0x000001F2ADFBDD60>, <SpikeEmphasisState.Deemphasized: 1>: <PyQt5.QtGui.QPen object at 0x000001F2ADFBDDD0>, <SpikeEmphasisState.Default: 2>: <PyQt5.QtGui.QPen object at 0x000001F2ADFBDE40>, <SpikeEmphasisState.Emphasized: 3>: <PyQt5.QtGui.QPen object at 0x000001F2ADFBDEB0>}, None, None)), (78, (None, None, {<SpikeEmphasisState.Hidden: 0>: <PyQt5.QtGui.QPen object at 0x000001F2ADFBDF20>, <SpikeEmphasisState.Deemphasized: 1>: <PyQt5.QtGui.QPen object at 0x000001F2ADFBDF90>, <SpikeEmphasisState.Default: 2>: <PyQt5.QtGui.QPen object at 0x000001F2ADFDF040>, <SpikeEmphasisState.Emphasized: 3>: <PyQt5.QtGui.QPen object at 0x000001F2ADFDF0B0>}, None, None)), (79, (None, None, {<SpikeEmphasisState.Hidden: 0>: <PyQt5.QtGui.QPen object at 0x000001F2ADFDF120>, <SpikeEmphasisState.Deemphasized: 1>: <PyQt5.QtGui.QPen object at 0x000001F2ADFDF190>, <SpikeEmphasisState.Default: 2>: <PyQt5.QtGui.QPen object at 0x000001F2ADFDF200>, <SpikeEmphasisState.Emphasized: 3>: <PyQt5.QtGui.QPen object at 0x000001F2ADFDF270>}, None, None)), (83, (None, None, {<SpikeEmphasisState.Hidden: 0>: <PyQt5.QtGui.QPen object at 0x000001F2ADFDF2E0>, <SpikeEmphasisState.Deemphasized: 1>: <PyQt5.QtGui.QPen object at 0x000001F2ADFDF350>, <SpikeEmphasisState.Default: 2>: <PyQt5.QtGui.QPen object at 0x000001F2ADFDF3C0>, <SpikeEmphasisState.Emphasized: 3>: <PyQt5.QtGui.QPen object at 0x000001F2ADFDF430>}, None, None)), (84, (None, None, {<SpikeEmphasisState.Hidden: 0>: <PyQt5.QtGui.QPen object at 0x000001F2ADFDF4A0>, <SpikeEmphasisState.Deemphasized: 1>: <PyQt5.QtGui.QPen object at 0x000001F2ADFDF510>, <SpikeEmphasisState.Default: 2>: <PyQt5.QtGui.QPen object at 0x000001F2ADFDF580>, <SpikeEmphasisState.Emphasized: 3>: <PyQt5.QtGui.QPen object at 0x000001F2ADFDF5F0>}, None, None)), (86, (None, None, {<SpikeEmphasisState.Hidden: 0>: <PyQt5.QtGui.QPen object at 0x000001F2ADFDF660>, <SpikeEmphasisState.Deemphasized: 1>: <PyQt5.QtGui.QPen object at 0x000001F2ADFDF6D0>, <SpikeEmphasisState.Default: 2>: <PyQt5.QtGui.QPen object at 0x000001F2ADFDF740>, <SpikeEmphasisState.Emphasized: 3>: <PyQt5.QtGui.QPen object at 0x000001F2ADFDF7B0>}, None, None)), (88, (None, None, {<SpikeEmphasisState.Hidden: 0>: <PyQt5.QtGui.QPen object at 0x000001F2ADFDF820>, <SpikeEmphasisState.Deemphasized: 1>: <PyQt5.QtGui.QPen object at 0x000001F2ADFDF890>, <SpikeEmphasisState.Default: 2>: <PyQt5.QtGui.QPen object at 0x000001F2ADFDF900>, <SpikeEmphasisState.Emphasized: 3>: <PyQt5.QtGui.QPen object at 0x000001F2ADFDF970>}, None, None)), (90, (None, None, {<SpikeEmphasisState.Hidden: 0>: <PyQt5.QtGui.QPen object at 0x000001F2ADFDF9E0>, <SpikeEmphasisState.Deemphasized: 1>: <PyQt5.QtGui.QPen object at 0x000001F2ADFDFA50>, <SpikeEmphasisState.Default: 2>: <PyQt5.QtGui.QPen object at 0x000001F2ADFDFAC0>, <SpikeEmphasisState.Emphasized: 3>: <PyQt5.QtGui.QPen object at 0x000001F2ADFDFB30>}, None, None)), (91, (None, None, {<SpikeEmphasisState.Hidden: 0>: <PyQt5.QtGui.QPen object at 0x000001F2ADFDFBA0>, <SpikeEmphasisState.Deemphasized: 1>: <PyQt5.QtGui.QPen object at 0x000001F2ADFDFC10>, <SpikeEmphasisState.Default: 2>: <PyQt5.QtGui.QPen object at 0x000001F2ADFDFC80>, <SpikeEmphasisState.Emphasized: 3>: <PyQt5.QtGui.QPen object at 0x000001F2ADFDFCF0>}, None, None)), (92, (None, None, {<SpikeEmphasisState.Hidden: 0>: <PyQt5.QtGui.QPen object at 0x000001F2ADFDFD60>, <SpikeEmphasisState.Deemphasized: 1>: <PyQt5.QtGui.QPen object at 0x000001F2ADFDFDD0>, <SpikeEmphasisState.Default: 2>: <PyQt5.QtGui.QPen object at 0x000001F2ADFDFE40>, <SpikeEmphasisState.Emphasized: 3>: <PyQt5.QtGui.QPen object at 0x000001F2ADFDFEB0>}, None, None)), (93, (None, None, {<SpikeEmphasisState.Hidden: 0>: <PyQt5.QtGui.QPen object at 0x000001F2ADFDFF20>, <SpikeEmphasisState.Deemphasized: 1>: <PyQt5.QtGui.QPen object at 0x000001F2ADFDFF90>, <SpikeEmphasisState.Default: 2>: <PyQt5.QtGui.QPen object at 0x000001F2ADFC1040>, <SpikeEmphasisState.Emphasized: 3>: <PyQt5.QtGui.QPen object at 0x000001F2ADFC10B0>}, None, None)), (95, (None, None, {<SpikeEmphasisState.Hidden: 0>: <PyQt5.QtGui.QPen object at 0x000001F2ADFC1120>, <SpikeEmphasisState.Deemphasized: 1>: <PyQt5.QtGui.QPen object at 0x000001F2ADFC1190>, <SpikeEmphasisState.Default: 2>: <PyQt5.QtGui.QPen object at 0x000001F2ADFC1200>, <SpikeEmphasisState.Emphasized: 3>: <PyQt5.QtGui.QPen object at 0x000001F2ADFC1270>}, None, None)), (99, (None, None, {<SpikeEmphasisState.Hidden: 0>: <PyQt5.QtGui.QPen object at 0x000001F2ADFC12E0>, <SpikeEmphasisState.Deemphasized: 1>: <PyQt5.QtGui.QPen object at 0x000001F2ADFC1350>, <SpikeEmphasisState.Default: 2>: <PyQt5.QtGui.QPen object at 0x000001F2ADFC13C0>, <SpikeEmphasisState.Emphasized: 3>: <PyQt5.QtGui.QPen object at 0x000001F2ADFC1430>}, None, None)), (100, (None, None, {<SpikeEmphasisState.Hidden: 0>: <PyQt5.QtGui.QPen object at 0x000001F2ADFC14A0>, <SpikeEmphasisState.Deemphasized: 1>: <PyQt5.QtGui.QPen object at 0x000001F2ADFC1510>, <SpikeEmphasisState.Default: 2>: <PyQt5.QtGui.QPen object at 0x000001F2ADFC1580>, <SpikeEmphasisState.Emphasized: 3>: <PyQt5.QtGui.QPen object at 0x000001F2ADFC15F0>}, None, None)), (101, (None, None, {<SpikeEmphasisState.Hidden: 0>: <PyQt5.QtGui.QPen object at 0x000001F2ADFC1660>, <SpikeEmphasisState.Deemphasized: 1>: <PyQt5.QtGui.QPen object at 0x000001F2ADFC16D0>, <SpikeEmphasisState.Default: 2>: <PyQt5.QtGui.QPen object at 0x000001F2ADFC1740>, <SpikeEmphasisState.Emphasized: 3>: <PyQt5.QtGui.QPen object at 0x000001F2ADFC17B0>}, None, None)), (108, (None, None, {<SpikeEmphasisState.Hidden: 0>: <PyQt5.QtGui.QPen object at 0x000001F2ADFC1820>, <SpikeEmphasisState.Deemphasized: 1>: <PyQt5.QtGui.QPen object at 0x000001F2ADFC1890>, <SpikeEmphasisState.Default: 2>: <PyQt5.QtGui.QPen object at 0x000001F2ADFC1900>, <SpikeEmphasisState.Emphasized: 3>: <PyQt5.QtGui.QPen object at 0x000001F2ADFC1970>}, None, None))])), 'unit_sort_manager': UnitSortOrderManager(neuron_ids=array([  5,   7,   9,  31,  32,  39,  41,  45,  46,  48,  50,  55,  61,  62,  64,  69,  72,  75,  76,  78,  79,  83,  84,  86,  88,  90,  91,  92,  93,  95,  99, 100, 101, 108]), fragile_linear_neuron_IDXs=array([ 0,  1,  2,  3,  4,  5,  6,  7,  8,  9, 10, 11, 12, 13, 14, 15, 16, 17, 18, 19, 20, 21, 22, 23, 24, 25, 26, 27, 28, 29, 30, 31, 32, 33]), n_cells=34, unit_sort_order=array([ 5,  0, 33, 12, 30, 14, 29,  1, 25, 32,  7, 16, 22, 24, 28, 19, 18, 27, 20, 13, 11, 10,  2, 17, 23, 21,  9,  4,  8,  3,  6, 26, 15, 31]), _series_identity_y_values=array([0.5, 1.5, 2.5, 3.5, 4.5, 5.5, 6.5, 7.5, 8.5, 9.5, 10.5, 11.5, 12.5, 13.5, 14.5, 15.5, 16.5, 17.5, 18.5, 19.5, 20.5, 21.5, 22.5, 23.5, 24.5, 25.5, 26.5, 27.5, 28.5, 29.5, 30.5, 31.5, 32.5, 33.5]), _series_identity_lower_y_values=array([0, 0.0294118, 0.0588235, 0.0882353, 0.117647, 0.147059, 0.176471, 0.205882, 0.235294, 0.264706, 0.294118, 0.323529, 0.352941, 0.382353, 0.411765, 0.441176, 0.470588, 0.5, 0.529412, 0.558824, 0.588235, 0.617647, 0.647059, 0.676471, 0.705882, 0.735294, 0.764706, 0.794118, 0.823529, 0.852941, 0.882353, 0.911765, 0.941176, 0.970588]), _series_identity_upper_y_values=array([0.0294118, 0.0588235, 0.0882353, 0.117647, 0.147059, 0.176471, 0.205882, 0.235294, 0.264706, 0.294118, 0.323529, 0.352941, 0.382353, 0.411765, 0.441176, 0.470588, 0.5, 0.529412, 0.558824, 0.588235, 0.617647, 0.647059, 0.676471, 0.705882, 0.735294, 0.764706, 0.794118, 0.823529, 0.852941, 0.882353, 0.911765, 0.941176, 0.970588, 1]), y_fragile_linear_neuron_IDX_map={0: 5.5, 1: 0.5, 2: 33.5, 3: 12.5, 4: 30.5, 5: 14.5, 6: 29.5, 7: 1.5, 8: 25.5, 9: 32.5, 10: 7.5, 11: 16.5, 12: 22.5, 13: 24.5, 14: 28.5, 15: 19.5, 16: 18.5, 17: 27.5, 18: 20.5, 19: 13.5, 20: 11.5, 21: 10.5, 22: 2.5, 23: 17.5, 24: 23.5, 25: 21.5, 26: 9.5, 27: 4.5, 28: 8.5, 29: 3.5, 30: 6.5, 31: 26.5, 32: 15.5, 33: 31.5}, params=RasterPlotParams(center_mode='starting_at_zero', bin_position_mode='bin_center', side_bin_margins=0.0, neuron_qcolors=[<PyQt5.QtGui.QColor object at 0x000001F2FA8D7D60>, <PyQt5.QtGui.QColor object at 0x000001F2FA8D7DD0>, <PyQt5.QtGui.QColor object at 0x000001F2FA8D7E40>, <PyQt5.QtGui.QColor object at 0x000001F2FA8D7EB0>, <PyQt5.QtGui.QColor object at 0x000001F2FA8D7F20>, <PyQt5.QtGui.QColor object at 0x000001F2FA8D7F90>, <PyQt5.QtGui.QColor object at 0x000001F2FA8CB040>, <PyQt5.QtGui.QColor object at 0x000001F2FA8CB0B0>, <PyQt5.QtGui.QColor object at 0x000001F2FA8CB120>, <PyQt5.QtGui.QColor object at 0x000001F2FA8CB190>, <PyQt5.QtGui.QColor object at 0x000001F2FA8CB200>, <PyQt5.QtGui.QColor object at 0x000001F2FA8CB270>, <PyQt5.QtGui.QColor object at 0x000001F2FA8CB2E0>, <PyQt5.QtGui.QColor object at 0x000001F2FA8CB350>, <PyQt5.QtGui.QColor object at 0x000001F2FA8CB3C0>, <PyQt5.QtGui.QColor object at 0x000001F2FA8CB430>, <PyQt5.QtGui.QColor object at 0x000001F2FA8CB4A0>, <PyQt5.QtGui.QColor object at 0x000001F2FA8CB510>, <PyQt5.QtGui.QColor object at 0x000001F2FA8CB580>, <PyQt5.QtGui.QColor object at 0x000001F2FA8CB5F0>, <PyQt5.QtGui.QColor object at 0x000001F2FA8CB660>, <PyQt5.QtGui.QColor object at 0x000001F2FA8CB6D0>, <PyQt5.QtGui.QColor object at 0x000001F2FA8CB740>, <PyQt5.QtGui.QColor object at 0x000001F2FA8CB7B0>, <PyQt5.QtGui.QColor object at 0x000001F2FA8CB820>, <PyQt5.QtGui.QColor object at 0x000001F2FA8CB890>, <PyQt5.QtGui.QColor object at 0x000001F2FA8CB900>, <PyQt5.QtGui.QColor object at 0x000001F2FA8CB970>, <PyQt5.QtGui.QColor object at 0x000001F2FA8CB9E0>, <PyQt5.QtGui.QColor object at 0x000001F2FA8CBA50>, <PyQt5.QtGui.QColor object at 0x000001F2FA8CBAC0>, <PyQt5.QtGui.QColor object at 0x000001F2FA8CBB30>, <PyQt5.QtGui.QColor object at 0x000001F2FA8CBBA0>, <PyQt5.QtGui.QColor object at 0x000001F2FA8CBC10>], neuron_colors=array([[1, 0.988235, 0.980392, 0.972549, 0.941176, 0.870588, 0.796078, 0.72549, 0.592157, 0.435294, 0.27451, 0.117647, 0.0823529, 0.0509804, 0.0196078, 0.00784314, 0.0431373, 0.0745098, 0.109804, 0.215686, 0.356863, 0.501961, 0.647059, 0.709804, 0.776471, 0.839216, 0.894118, 0.92549, 0.956863, 0.988235, 1, 1, 1, 1],\n",
       "       [0.615686, 0.686275, 0.760784, 0.831373, 0.87451, 0.854902, 0.835294, 0.815686, 0.8, 0.788235, 0.772549, 0.760784, 0.721569, 0.686275, 0.65098, 0.611765, 0.568627, 0.52549, 0.482353, 0.439216, 0.392157, 0.345098, 0.301961, 0.266667, 0.231373, 0.196078, 0.184314, 0.227451, 0.266667, 0.309804, 0.376471, 0.454902, 0.533333, 0.615686],\n",
       "       [0, 0, 0, 0, 0, 0, 0, 0, 0, 0, 0, 0, 0, 0, 0, 0, 0, 0, 0, 0.00392157, 0.00392157, 0.00392157, 0.00392157, 0, 0, 0, 0, 0, 0, 0, 0, 0, 0, 0],\n",
       "       [0.00392157, 0.00392157, 0.00392157, 0.00392157, 0.00392157, 0.00392157, 0.00392157, 0.00392157, 0.00392157, 0.00392157, 0.00392157, 0.00392157, 0.00392157, 0.00392157, 0.00392157, 0.00392157, 0.00392157, 0.00392157, 0.00392157, 0.00392157, 0.00392157, 0.00392157, 0.00392157, 0.00392157, 0.00392157, 0.00392157, 0.00392157, 0.00392157, 0.00392157, 0.00392157, 0.00392157, 0.00392157, 0.00392157, 0.00392157]]), neuron_colors_hex=['#ff9d00', '#fcaf00', '#fac200', '#f8d400', '#f0df00', '#deda00', '#cbd500', '#b9d000', '#97cc00', '#6fc900', '#46c500', '#1ec200', '#15b800', '#0daf00', '#05a600', '#029c00', '#0b9100', '#138600', '#1c7b00', '#377001', '#5b6401', '#805801', '#a54d01', '#b54400', '#c63b00', '#d63200', '#e42f00', '#ec3a00', '#f44400', '#fc4f00', '#ff6000', '#ff7400', '#ff8800', '#ff9d00'], neuron_qcolors_map={0: <PyQt5.QtGui.QColor object at 0x000001F2FA8CBC80>, 1: <PyQt5.QtGui.QColor object at 0x000001F2FA8CBCF0>, 2: <PyQt5.QtGui.QColor object at 0x000001F2FA8CBD60>, 3: <PyQt5.QtGui.QColor object at 0x000001F2FA8CBDD0>, 4: <PyQt5.QtGui.QColor object at 0x000001F2FA8CBE40>, 5: <PyQt5.QtGui.QColor object at 0x000001F2FA8CBEB0>, 6: <PyQt5.QtGui.QColor object at 0x000001F2FA8CBF20>, 7: <PyQt5.QtGui.QColor object at 0x000001F2FA8CBF90>, 8: <PyQt5.QtGui.QColor object at 0x000001F2ADFED040>, 9: <PyQt5.QtGui.QColor object at 0x000001F2ADFED0B0>, 10: <PyQt5.QtGui.QColor object at 0x000001F2ADFED120>, 11: <PyQt5.QtGui.QColor object at 0x000001F2ADFED190>, 12: <PyQt5.QtGui.QColor object at 0x000001F2ADFED200>, 13: <PyQt5.QtGui.QColor object at 0x000001F2ADFED270>, 14: <PyQt5.QtGui.QColor object at 0x000001F2ADFED2E0>, 15: <PyQt5.QtGui.QColor object at 0x000001F2ADFED350>, 16: <PyQt5.QtGui.QColor object at 0x000001F2ADFED3C0>, 17: <PyQt5.QtGui.QColor object at 0x000001F2ADFED430>, 18: <PyQt5.QtGui.QColor object at 0x000001F2ADFED4A0>, 19: <PyQt5.QtGui.QColor object at 0x000001F2ADFED510>, 20: <PyQt5.QtGui.QColor object at 0x000001F2ADFED580>, 21: <PyQt5.QtGui.QColor object at 0x000001F2ADFED5F0>, 22: <PyQt5.QtGui.QColor object at 0x000001F2ADFED660>, 23: <PyQt5.QtGui.QColor object at 0x000001F2ADFED6D0>, 24: <PyQt5.QtGui.QColor object at 0x000001F2ADFED740>, 25: <PyQt5.QtGui.QColor object at 0x000001F2ADFED7B0>, 26: <PyQt5.QtGui.QColor object at 0x000001F2ADFED820>, 27: <PyQt5.QtGui.QColor object at 0x000001F2ADFED890>, 28: <PyQt5.QtGui.QColor object at 0x000001F2ADFED900>, 29: <PyQt5.QtGui.QColor object at 0x000001F2ADFED970>, 30: <PyQt5.QtGui.QColor object at 0x000001F2ADFED9E0>, 31: <PyQt5.QtGui.QColor object at 0x000001F2ADFEDA50>, 32: <PyQt5.QtGui.QColor object at 0x000001F2ADFEDAC0>, 33: <PyQt5.QtGui.QColor object at 0x000001F2ADFEDB30>}, config_items=IndexedOrderedDict([(5, (None, None, {<SpikeEmphasisState.Hidden: 0>: <PyQt5.QtGui.QPen object at 0x000001F2039C73C0>, <SpikeEmphasisState.Deemphasized: 1>: <PyQt5.QtGui.QPen object at 0x000001F1A6442040>, <SpikeEmphasisState.Default: 2>: <PyQt5.QtGui.QPen object at 0x000001F1A64420B0>, <SpikeEmphasisState.Emphasized: 3>: <PyQt5.QtGui.QPen object at 0x000001F1A6442120>}, None, None)), (7, (None, None, {<SpikeEmphasisState.Hidden: 0>: <PyQt5.QtGui.QPen object at 0x000001F1A6442190>, <SpikeEmphasisState.Deemphasized: 1>: <PyQt5.QtGui.QPen object at 0x000001F1A6442200>, <SpikeEmphasisState.Default: 2>: <PyQt5.QtGui.QPen object at 0x000001F1A64424A0>, <SpikeEmphasisState.Emphasized: 3>: <PyQt5.QtGui.QPen object at 0x000001F1A64422E0>}, None, None)), (9, (None, None, {<SpikeEmphasisState.Hidden: 0>: <PyQt5.QtGui.QPen object at 0x000001F1A6442270>, <SpikeEmphasisState.Deemphasized: 1>: <PyQt5.QtGui.QPen object at 0x000001F2FA8D7C80>, <SpikeEmphasisState.Default: 2>: <PyQt5.QtGui.QPen object at 0x000001F2FA8D7C10>, <SpikeEmphasisState.Emphasized: 3>: <PyQt5.QtGui.QPen object at 0x000001F2FA8D7BA0>}, None, None)), (31, (None, None, {<SpikeEmphasisState.Hidden: 0>: <PyQt5.QtGui.QPen object at 0x000001F2FA8D7B30>, <SpikeEmphasisState.Deemphasized: 1>: <PyQt5.QtGui.QPen object at 0x000001F2FA8D7AC0>, <SpikeEmphasisState.Default: 2>: <PyQt5.QtGui.QPen object at 0x000001F2FA8D7A50>, <SpikeEmphasisState.Emphasized: 3>: <PyQt5.QtGui.QPen object at 0x000001F2FA8D79E0>}, None, None)), (32, (None, None, {<SpikeEmphasisState.Hidden: 0>: <PyQt5.QtGui.QPen object at 0x000001F2FA8D7970>, <SpikeEmphasisState.Deemphasized: 1>: <PyQt5.QtGui.QPen object at 0x000001F2FA8D7900>, <SpikeEmphasisState.Default: 2>: <PyQt5.QtGui.QPen object at 0x000001F2FA8D7890>, <SpikeEmphasisState.Emphasized: 3>: <PyQt5.QtGui.QPen object at 0x000001F2FA8D77B0>}, None, None)), (39, (None, None, {<SpikeEmphasisState.Hidden: 0>: <PyQt5.QtGui.QPen object at 0x000001F2FA8D7820>, <SpikeEmphasisState.Deemphasized: 1>: <PyQt5.QtGui.QPen object at 0x000001F2FA8D7740>, <SpikeEmphasisState.Default: 2>: <PyQt5.QtGui.QPen object at 0x000001F2FA8D76D0>, <SpikeEmphasisState.Emphasized: 3>: <PyQt5.QtGui.QPen object at 0x000001F2FA8D7660>}, None, None)), (41, (None, None, {<SpikeEmphasisState.Hidden: 0>: <PyQt5.QtGui.QPen object at 0x000001F2FA8D75F0>, <SpikeEmphasisState.Deemphasized: 1>: <PyQt5.QtGui.QPen object at 0x000001F2FA8D7580>, <SpikeEmphasisState.Default: 2>: <PyQt5.QtGui.QPen object at 0x000001F2FA8D7510>, <SpikeEmphasisState.Emphasized: 3>: <PyQt5.QtGui.QPen object at 0x000001F2FA8D74A0>}, None, None)), (45, (None, None, {<SpikeEmphasisState.Hidden: 0>: <PyQt5.QtGui.QPen object at 0x000001F2FA8D7430>, <SpikeEmphasisState.Deemphasized: 1>: <PyQt5.QtGui.QPen object at 0x000001F2FA8D73C0>, <SpikeEmphasisState.Default: 2>: <PyQt5.QtGui.QPen object at 0x000001F2FA8D7350>, <SpikeEmphasisState.Emphasized: 3>: <PyQt5.QtGui.QPen object at 0x000001F2FA8D7CF0>}, None, None)), (46, (None, None, {<SpikeEmphasisState.Hidden: 0>: <PyQt5.QtGui.QPen object at 0x000001F2ADFEDBA0>, <SpikeEmphasisState.Deemphasized: 1>: <PyQt5.QtGui.QPen object at 0x000001F2ADFEDC10>, <SpikeEmphasisState.Default: 2>: <PyQt5.QtGui.QPen object at 0x000001F2ADFEDC80>, <SpikeEmphasisState.Emphasized: 3>: <PyQt5.QtGui.QPen object at 0x000001F2ADFEDCF0>}, None, None)), (48, (None, None, {<SpikeEmphasisState.Hidden: 0>: <PyQt5.QtGui.QPen object at 0x000001F2ADFEDD60>, <SpikeEmphasisState.Deemphasized: 1>: <PyQt5.QtGui.QPen object at 0x000001F2ADFEDDD0>, <SpikeEmphasisState.Default: 2>: <PyQt5.QtGui.QPen object at 0x000001F2ADFEDE40>, <SpikeEmphasisState.Emphasized: 3>: <PyQt5.QtGui.QPen object at 0x000001F2ADFEDEB0>}, None, None)), (50, (None, None, {<SpikeEmphasisState.Hidden: 0>: <PyQt5.QtGui.QPen object at 0x000001F2ADFEDF20>, <SpikeEmphasisState.Deemphasized: 1>: <PyQt5.QtGui.QPen object at 0x000001F2ADFEDF90>, <SpikeEmphasisState.Default: 2>: <PyQt5.QtGui.QPen object at 0x000001F2ADFBD040>, <SpikeEmphasisState.Emphasized: 3>: <PyQt5.QtGui.QPen object at 0x000001F2ADFBD0B0>}, None, None)), (55, (None, None, {<SpikeEmphasisState.Hidden: 0>: <PyQt5.QtGui.QPen object at 0x000001F2ADFBD120>, <SpikeEmphasisState.Deemphasized: 1>: <PyQt5.QtGui.QPen object at 0x000001F2ADFBD190>, <SpikeEmphasisState.Default: 2>: <PyQt5.QtGui.QPen object at 0x000001F2ADFBD200>, <SpikeEmphasisState.Emphasized: 3>: <PyQt5.QtGui.QPen object at 0x000001F2ADFBD270>}, None, None)), (61, (None, None, {<SpikeEmphasisState.Hidden: 0>: <PyQt5.QtGui.QPen object at 0x000001F2ADFBD2E0>, <SpikeEmphasisState.Deemphasized: 1>: <PyQt5.QtGui.QPen object at 0x000001F2ADFBD350>, <SpikeEmphasisState.Default: 2>: <PyQt5.QtGui.QPen object at 0x000001F2ADFBD3C0>, <SpikeEmphasisState.Emphasized: 3>: <PyQt5.QtGui.QPen object at 0x000001F2ADFBD430>}, None, None)), (62, (None, None, {<SpikeEmphasisState.Hidden: 0>: <PyQt5.QtGui.QPen object at 0x000001F2ADFBD4A0>, <SpikeEmphasisState.Deemphasized: 1>: <PyQt5.QtGui.QPen object at 0x000001F2ADFBD510>, <SpikeEmphasisState.Default: 2>: <PyQt5.QtGui.QPen object at 0x000001F2ADFBD580>, <SpikeEmphasisState.Emphasized: 3>: <PyQt5.QtGui.QPen object at 0x000001F2ADFBD5F0>}, None, None)), (64, (None, None, {<SpikeEmphasisState.Hidden: 0>: <PyQt5.QtGui.QPen object at 0x000001F2ADFBD660>, <SpikeEmphasisState.Deemphasized: 1>: <PyQt5.QtGui.QPen object at 0x000001F2ADFBD6D0>, <SpikeEmphasisState.Default: 2>: <PyQt5.QtGui.QPen object at 0x000001F2ADFBD740>, <SpikeEmphasisState.Emphasized: 3>: <PyQt5.QtGui.QPen object at 0x000001F2ADFBD7B0>}, None, None)), (69, (None, None, {<SpikeEmphasisState.Hidden: 0>: <PyQt5.QtGui.QPen object at 0x000001F2ADFBD820>, <SpikeEmphasisState.Deemphasized: 1>: <PyQt5.QtGui.QPen object at 0x000001F2ADFBD890>, <SpikeEmphasisState.Default: 2>: <PyQt5.QtGui.QPen object at 0x000001F2ADFBD900>, <SpikeEmphasisState.Emphasized: 3>: <PyQt5.QtGui.QPen object at 0x000001F2ADFBD970>}, None, None)), (72, (None, None, {<SpikeEmphasisState.Hidden: 0>: <PyQt5.QtGui.QPen object at 0x000001F2ADFBD9E0>, <SpikeEmphasisState.Deemphasized: 1>: <PyQt5.QtGui.QPen object at 0x000001F2ADFBDA50>, <SpikeEmphasisState.Default: 2>: <PyQt5.QtGui.QPen object at 0x000001F2ADFBDAC0>, <SpikeEmphasisState.Emphasized: 3>: <PyQt5.QtGui.QPen object at 0x000001F2ADFBDB30>}, None, None)), (75, (None, None, {<SpikeEmphasisState.Hidden: 0>: <PyQt5.QtGui.QPen object at 0x000001F2ADFBDBA0>, <SpikeEmphasisState.Deemphasized: 1>: <PyQt5.QtGui.QPen object at 0x000001F2ADFBDC10>, <SpikeEmphasisState.Default: 2>: <PyQt5.QtGui.QPen object at 0x000001F2ADFBDC80>, <SpikeEmphasisState.Emphasized: 3>: <PyQt5.QtGui.QPen object at 0x000001F2ADFBDCF0>}, None, None)), (76, (None, None, {<SpikeEmphasisState.Hidden: 0>: <PyQt5.QtGui.QPen object at 0x000001F2ADFBDD60>, <SpikeEmphasisState.Deemphasized: 1>: <PyQt5.QtGui.QPen object at 0x000001F2ADFBDDD0>, <SpikeEmphasisState.Default: 2>: <PyQt5.QtGui.QPen object at 0x000001F2ADFBDE40>, <SpikeEmphasisState.Emphasized: 3>: <PyQt5.QtGui.QPen object at 0x000001F2ADFBDEB0>}, None, None)), (78, (None, None, {<SpikeEmphasisState.Hidden: 0>: <PyQt5.QtGui.QPen object at 0x000001F2ADFBDF20>, <SpikeEmphasisState.Deemphasized: 1>: <PyQt5.QtGui.QPen object at 0x000001F2ADFBDF90>, <SpikeEmphasisState.Default: 2>: <PyQt5.QtGui.QPen object at 0x000001F2ADFDF040>, <SpikeEmphasisState.Emphasized: 3>: <PyQt5.QtGui.QPen object at 0x000001F2ADFDF0B0>}, None, None)), (79, (None, None, {<SpikeEmphasisState.Hidden: 0>: <PyQt5.QtGui.QPen object at 0x000001F2ADFDF120>, <SpikeEmphasisState.Deemphasized: 1>: <PyQt5.QtGui.QPen object at 0x000001F2ADFDF190>, <SpikeEmphasisState.Default: 2>: <PyQt5.QtGui.QPen object at 0x000001F2ADFDF200>, <SpikeEmphasisState.Emphasized: 3>: <PyQt5.QtGui.QPen object at 0x000001F2ADFDF270>}, None, None)), (83, (None, None, {<SpikeEmphasisState.Hidden: 0>: <PyQt5.QtGui.QPen object at 0x000001F2ADFDF2E0>, <SpikeEmphasisState.Deemphasized: 1>: <PyQt5.QtGui.QPen object at 0x000001F2ADFDF350>, <SpikeEmphasisState.Default: 2>: <PyQt5.QtGui.QPen object at 0x000001F2ADFDF3C0>, <SpikeEmphasisState.Emphasized: 3>: <PyQt5.QtGui.QPen object at 0x000001F2ADFDF430>}, None, None)), (84, (None, None, {<SpikeEmphasisState.Hidden: 0>: <PyQt5.QtGui.QPen object at 0x000001F2ADFDF4A0>, <SpikeEmphasisState.Deemphasized: 1>: <PyQt5.QtGui.QPen object at 0x000001F2ADFDF510>, <SpikeEmphasisState.Default: 2>: <PyQt5.QtGui.QPen object at 0x000001F2ADFDF580>, <SpikeEmphasisState.Emphasized: 3>: <PyQt5.QtGui.QPen object at 0x000001F2ADFDF5F0>}, None, None)), (86, (None, None, {<SpikeEmphasisState.Hidden: 0>: <PyQt5.QtGui.QPen object at 0x000001F2ADFDF660>, <SpikeEmphasisState.Deemphasized: 1>: <PyQt5.QtGui.QPen object at 0x000001F2ADFDF6D0>, <SpikeEmphasisState.Default: 2>: <PyQt5.QtGui.QPen object at 0x000001F2ADFDF740>, <SpikeEmphasisState.Emphasized: 3>: <PyQt5.QtGui.QPen object at 0x000001F2ADFDF7B0>}, None, None)), (88, (None, None, {<SpikeEmphasisState.Hidden: 0>: <PyQt5.QtGui.QPen object at 0x000001F2ADFDF820>, <SpikeEmphasisState.Deemphasized: 1>: <PyQt5.QtGui.QPen object at 0x000001F2ADFDF890>, <SpikeEmphasisState.Default: 2>: <PyQt5.QtGui.QPen object at 0x000001F2ADFDF900>, <SpikeEmphasisState.Emphasized: 3>: <PyQt5.QtGui.QPen object at 0x000001F2ADFDF970>}, None, None)), (90, (None, None, {<SpikeEmphasisState.Hidden: 0>: <PyQt5.QtGui.QPen object at 0x000001F2ADFDF9E0>, <SpikeEmphasisState.Deemphasized: 1>: <PyQt5.QtGui.QPen object at 0x000001F2ADFDFA50>, <SpikeEmphasisState.Default: 2>: <PyQt5.QtGui.QPen object at 0x000001F2ADFDFAC0>, <SpikeEmphasisState.Emphasized: 3>: <PyQt5.QtGui.QPen object at 0x000001F2ADFDFB30>}, None, None)), (91, (None, None, {<SpikeEmphasisState.Hidden: 0>: <PyQt5.QtGui.QPen object at 0x000001F2ADFDFBA0>, <SpikeEmphasisState.Deemphasized: 1>: <PyQt5.QtGui.QPen object at 0x000001F2ADFDFC10>, <SpikeEmphasisState.Default: 2>: <PyQt5.QtGui.QPen object at 0x000001F2ADFDFC80>, <SpikeEmphasisState.Emphasized: 3>: <PyQt5.QtGui.QPen object at 0x000001F2ADFDFCF0>}, None, None)), (92, (None, None, {<SpikeEmphasisState.Hidden: 0>: <PyQt5.QtGui.QPen object at 0x000001F2ADFDFD60>, <SpikeEmphasisState.Deemphasized: 1>: <PyQt5.QtGui.QPen object at 0x000001F2ADFDFDD0>, <SpikeEmphasisState.Default: 2>: <PyQt5.QtGui.QPen object at 0x000001F2ADFDFE40>, <SpikeEmphasisState.Emphasized: 3>: <PyQt5.QtGui.QPen object at 0x000001F2ADFDFEB0>}, None, None)), (93, (None, None, {<SpikeEmphasisState.Hidden: 0>: <PyQt5.QtGui.QPen object at 0x000001F2ADFDFF20>, <SpikeEmphasisState.Deemphasized: 1>: <PyQt5.QtGui.QPen object at 0x000001F2ADFDFF90>, <SpikeEmphasisState.Default: 2>: <PyQt5.QtGui.QPen object at 0x000001F2ADFC1040>, <SpikeEmphasisState.Emphasized: 3>: <PyQt5.QtGui.QPen object at 0x000001F2ADFC10B0>}, None, None)), (95, (None, None, {<SpikeEmphasisState.Hidden: 0>: <PyQt5.QtGui.QPen object at 0x000001F2ADFC1120>, <SpikeEmphasisState.Deemphasized: 1>: <PyQt5.QtGui.QPen object at 0x000001F2ADFC1190>, <SpikeEmphasisState.Default: 2>: <PyQt5.QtGui.QPen object at 0x000001F2ADFC1200>, <SpikeEmphasisState.Emphasized: 3>: <PyQt5.QtGui.QPen object at 0x000001F2ADFC1270>}, None, None)), (99, (None, None, {<SpikeEmphasisState.Hidden: 0>: <PyQt5.QtGui.QPen object at 0x000001F2ADFC12E0>, <SpikeEmphasisState.Deemphasized: 1>: <PyQt5.QtGui.QPen object at 0x000001F2ADFC1350>, <SpikeEmphasisState.Default: 2>: <PyQt5.QtGui.QPen object at 0x000001F2ADFC13C0>, <SpikeEmphasisState.Emphasized: 3>: <PyQt5.QtGui.QPen object at 0x000001F2ADFC1430>}, None, None)), (100, (None, None, {<SpikeEmphasisState.Hidden: 0>: <PyQt5.QtGui.QPen object at 0x000001F2ADFC14A0>, <SpikeEmphasisState.Deemphasized: 1>: <PyQt5.QtGui.QPen object at 0x000001F2ADFC1510>, <SpikeEmphasisState.Default: 2>: <PyQt5.QtGui.QPen object at 0x000001F2ADFC1580>, <SpikeEmphasisState.Emphasized: 3>: <PyQt5.QtGui.QPen object at 0x000001F2ADFC15F0>}, None, None)), (101, (None, None, {<SpikeEmphasisState.Hidden: 0>: <PyQt5.QtGui.QPen object at 0x000001F2ADFC1660>, <SpikeEmphasisState.Deemphasized: 1>: <PyQt5.QtGui.QPen object at 0x000001F2ADFC16D0>, <SpikeEmphasisState.Default: 2>: <PyQt5.QtGui.QPen object at 0x000001F2ADFC1740>, <SpikeEmphasisState.Emphasized: 3>: <PyQt5.QtGui.QPen object at 0x000001F2ADFC17B0>}, None, None)), (108, (None, None, {<SpikeEmphasisState.Hidden: 0>: <PyQt5.QtGui.QPen object at 0x000001F2ADFC1820>, <SpikeEmphasisState.Deemphasized: 1>: <PyQt5.QtGui.QPen object at 0x000001F2ADFC1890>, <SpikeEmphasisState.Default: 2>: <PyQt5.QtGui.QPen object at 0x000001F2ADFC1900>, <SpikeEmphasisState.Emphasized: 3>: <PyQt5.QtGui.QPen object at 0x000001F2ADFC1970>}, None, None))]))), 'raster_plot_manager': RasterScatterPlotManager(unit_sort_manager=UnitSortOrderManager(neuron_ids=array([  5,   7,   9,  31,  32,  39,  41,  45,  46,  48,  50,  55,  61,  62,  64,  69,  72,  75,  76,  78,  79,  83,  84,  86,  88,  90,  91,  92,  93,  95,  99, 100, 101, 108]), fragile_linear_neuron_IDXs=array([ 0,  1,  2,  3,  4,  5,  6,  7,  8,  9, 10, 11, 12, 13, 14, 15, 16, 17, 18, 19, 20, 21, 22, 23, 24, 25, 26, 27, 28, 29, 30, 31, 32, 33]), n_cells=34, unit_sort_order=array([ 5,  0, 33, 12, 30, 14, 29,  1, 25, 32,  7, 16, 22, 24, 28, 19, 18, 27, 20, 13, 11, 10,  2, 17, 23, 21,  9,  4,  8,  3,  6, 26, 15, 31]), _series_identity_y_values=array([0.5, 1.5, 2.5, 3.5, 4.5, 5.5, 6.5, 7.5, 8.5, 9.5, 10.5, 11.5, 12.5, 13.5, 14.5, 15.5, 16.5, 17.5, 18.5, 19.5, 20.5, 21.5, 22.5, 23.5, 24.5, 25.5, 26.5, 27.5, 28.5, 29.5, 30.5, 31.5, 32.5, 33.5]), _series_identity_lower_y_values=array([0, 0.0294118, 0.0588235, 0.0882353, 0.117647, 0.147059, 0.176471, 0.205882, 0.235294, 0.264706, 0.294118, 0.323529, 0.352941, 0.382353, 0.411765, 0.441176, 0.470588, 0.5, 0.529412, 0.558824, 0.588235, 0.617647, 0.647059, 0.676471, 0.705882, 0.735294, 0.764706, 0.794118, 0.823529, 0.852941, 0.882353, 0.911765, 0.941176, 0.970588]), _series_identity_upper_y_values=array([0.0294118, 0.0588235, 0.0882353, 0.117647, 0.147059, 0.176471, 0.205882, 0.235294, 0.264706, 0.294118, 0.323529, 0.352941, 0.382353, 0.411765, 0.441176, 0.470588, 0.5, 0.529412, 0.558824, 0.588235, 0.617647, 0.647059, 0.676471, 0.705882, 0.735294, 0.764706, 0.794118, 0.823529, 0.852941, 0.882353, 0.911765, 0.941176, 0.970588, 1]), y_fragile_linear_neuron_IDX_map={0: 5.5, 1: 0.5, 2: 33.5, 3: 12.5, 4: 30.5, 5: 14.5, 6: 29.5, 7: 1.5, 8: 25.5, 9: 32.5, 10: 7.5, 11: 16.5, 12: 22.5, 13: 24.5, 14: 28.5, 15: 19.5, 16: 18.5, 17: 27.5, 18: 20.5, 19: 13.5, 20: 11.5, 21: 10.5, 22: 2.5, 23: 17.5, 24: 23.5, 25: 21.5, 26: 9.5, 27: 4.5, 28: 8.5, 29: 3.5, 30: 6.5, 31: 26.5, 32: 15.5, 33: 31.5}, params=RasterPlotParams(center_mode='starting_at_zero', bin_position_mode='bin_center', side_bin_margins=0.0, neuron_qcolors=[<PyQt5.QtGui.QColor object at 0x000001F2FA8D7D60>, <PyQt5.QtGui.QColor object at 0x000001F2FA8D7DD0>, <PyQt5.QtGui.QColor object at 0x000001F2FA8D7E40>, <PyQt5.QtGui.QColor object at 0x000001F2FA8D7EB0>, <PyQt5.QtGui.QColor object at 0x000001F2FA8D7F20>, <PyQt5.QtGui.QColor object at 0x000001F2FA8D7F90>, <PyQt5.QtGui.QColor object at 0x000001F2FA8CB040>, <PyQt5.QtGui.QColor object at 0x000001F2FA8CB0B0>, <PyQt5.QtGui.QColor object at 0x000001F2FA8CB120>, <PyQt5.QtGui.QColor object at 0x000001F2FA8CB190>, <PyQt5.QtGui.QColor object at 0x000001F2FA8CB200>, <PyQt5.QtGui.QColor object at 0x000001F2FA8CB270>, <PyQt5.QtGui.QColor object at 0x000001F2FA8CB2E0>, <PyQt5.QtGui.QColor object at 0x000001F2FA8CB350>, <PyQt5.QtGui.QColor object at 0x000001F2FA8CB3C0>, <PyQt5.QtGui.QColor object at 0x000001F2FA8CB430>, <PyQt5.QtGui.QColor object at 0x000001F2FA8CB4A0>, <PyQt5.QtGui.QColor object at 0x000001F2FA8CB510>, <PyQt5.QtGui.QColor object at 0x000001F2FA8CB580>, <PyQt5.QtGui.QColor object at 0x000001F2FA8CB5F0>, <PyQt5.QtGui.QColor object at 0x000001F2FA8CB660>, <PyQt5.QtGui.QColor object at 0x000001F2FA8CB6D0>, <PyQt5.QtGui.QColor object at 0x000001F2FA8CB740>, <PyQt5.QtGui.QColor object at 0x000001F2FA8CB7B0>, <PyQt5.QtGui.QColor object at 0x000001F2FA8CB820>, <PyQt5.QtGui.QColor object at 0x000001F2FA8CB890>, <PyQt5.QtGui.QColor object at 0x000001F2FA8CB900>, <PyQt5.QtGui.QColor object at 0x000001F2FA8CB970>, <PyQt5.QtGui.QColor object at 0x000001F2FA8CB9E0>, <PyQt5.QtGui.QColor object at 0x000001F2FA8CBA50>, <PyQt5.QtGui.QColor object at 0x000001F2FA8CBAC0>, <PyQt5.QtGui.QColor object at 0x000001F2FA8CBB30>, <PyQt5.QtGui.QColor object at 0x000001F2FA8CBBA0>, <PyQt5.QtGui.QColor object at 0x000001F2FA8CBC10>], neuron_colors=array([[1, 0.988235, 0.980392, 0.972549, 0.941176, 0.870588, 0.796078, 0.72549, 0.592157, 0.435294, 0.27451, 0.117647, 0.0823529, 0.0509804, 0.0196078, 0.00784314, 0.0431373, 0.0745098, 0.109804, 0.215686, 0.356863, 0.501961, 0.647059, 0.709804, 0.776471, 0.839216, 0.894118, 0.92549, 0.956863, 0.988235, 1, 1, 1, 1],\n",
       "       [0.615686, 0.686275, 0.760784, 0.831373, 0.87451, 0.854902, 0.835294, 0.815686, 0.8, 0.788235, 0.772549, 0.760784, 0.721569, 0.686275, 0.65098, 0.611765, 0.568627, 0.52549, 0.482353, 0.439216, 0.392157, 0.345098, 0.301961, 0.266667, 0.231373, 0.196078, 0.184314, 0.227451, 0.266667, 0.309804, 0.376471, 0.454902, 0.533333, 0.615686],\n",
       "       [0, 0, 0, 0, 0, 0, 0, 0, 0, 0, 0, 0, 0, 0, 0, 0, 0, 0, 0, 0.00392157, 0.00392157, 0.00392157, 0.00392157, 0, 0, 0, 0, 0, 0, 0, 0, 0, 0, 0],\n",
       "       [0.00392157, 0.00392157, 0.00392157, 0.00392157, 0.00392157, 0.00392157, 0.00392157, 0.00392157, 0.00392157, 0.00392157, 0.00392157, 0.00392157, 0.00392157, 0.00392157, 0.00392157, 0.00392157, 0.00392157, 0.00392157, 0.00392157, 0.00392157, 0.00392157, 0.00392157, 0.00392157, 0.00392157, 0.00392157, 0.00392157, 0.00392157, 0.00392157, 0.00392157, 0.00392157, 0.00392157, 0.00392157, 0.00392157, 0.00392157]]), neuron_colors_hex=['#ff9d00', '#fcaf00', '#fac200', '#f8d400', '#f0df00', '#deda00', '#cbd500', '#b9d000', '#97cc00', '#6fc900', '#46c500', '#1ec200', '#15b800', '#0daf00', '#05a600', '#029c00', '#0b9100', '#138600', '#1c7b00', '#377001', '#5b6401', '#805801', '#a54d01', '#b54400', '#c63b00', '#d63200', '#e42f00', '#ec3a00', '#f44400', '#fc4f00', '#ff6000', '#ff7400', '#ff8800', '#ff9d00'], neuron_qcolors_map={0: <PyQt5.QtGui.QColor object at 0x000001F2FA8CBC80>, 1: <PyQt5.QtGui.QColor object at 0x000001F2FA8CBCF0>, 2: <PyQt5.QtGui.QColor object at 0x000001F2FA8CBD60>, 3: <PyQt5.QtGui.QColor object at 0x000001F2FA8CBDD0>, 4: <PyQt5.QtGui.QColor object at 0x000001F2FA8CBE40>, 5: <PyQt5.QtGui.QColor object at 0x000001F2FA8CBEB0>, 6: <PyQt5.QtGui.QColor object at 0x000001F2FA8CBF20>, 7: <PyQt5.QtGui.QColor object at 0x000001F2FA8CBF90>, 8: <PyQt5.QtGui.QColor object at 0x000001F2ADFED040>, 9: <PyQt5.QtGui.QColor object at 0x000001F2ADFED0B0>, 10: <PyQt5.QtGui.QColor object at 0x000001F2ADFED120>, 11: <PyQt5.QtGui.QColor object at 0x000001F2ADFED190>, 12: <PyQt5.QtGui.QColor object at 0x000001F2ADFED200>, 13: <PyQt5.QtGui.QColor object at 0x000001F2ADFED270>, 14: <PyQt5.QtGui.QColor object at 0x000001F2ADFED2E0>, 15: <PyQt5.QtGui.QColor object at 0x000001F2ADFED350>, 16: <PyQt5.QtGui.QColor object at 0x000001F2ADFED3C0>, 17: <PyQt5.QtGui.QColor object at 0x000001F2ADFED430>, 18: <PyQt5.QtGui.QColor object at 0x000001F2ADFED4A0>, 19: <PyQt5.QtGui.QColor object at 0x000001F2ADFED510>, 20: <PyQt5.QtGui.QColor object at 0x000001F2ADFED580>, 21: <PyQt5.QtGui.QColor object at 0x000001F2ADFED5F0>, 22: <PyQt5.QtGui.QColor object at 0x000001F2ADFED660>, 23: <PyQt5.QtGui.QColor object at 0x000001F2ADFED6D0>, 24: <PyQt5.QtGui.QColor object at 0x000001F2ADFED740>, 25: <PyQt5.QtGui.QColor object at 0x000001F2ADFED7B0>, 26: <PyQt5.QtGui.QColor object at 0x000001F2ADFED820>, 27: <PyQt5.QtGui.QColor object at 0x000001F2ADFED890>, 28: <PyQt5.QtGui.QColor object at 0x000001F2ADFED900>, 29: <PyQt5.QtGui.QColor object at 0x000001F2ADFED970>, 30: <PyQt5.QtGui.QColor object at 0x000001F2ADFED9E0>, 31: <PyQt5.QtGui.QColor object at 0x000001F2ADFEDA50>, 32: <PyQt5.QtGui.QColor object at 0x000001F2ADFEDAC0>, 33: <PyQt5.QtGui.QColor object at 0x000001F2ADFEDB30>}, config_items=IndexedOrderedDict([(5, (None, None, {<SpikeEmphasisState.Hidden: 0>: <PyQt5.QtGui.QPen object at 0x000001F2039C73C0>, <SpikeEmphasisState.Deemphasized: 1>: <PyQt5.QtGui.QPen object at 0x000001F1A6442040>, <SpikeEmphasisState.Default: 2>: <PyQt5.QtGui.QPen object at 0x000001F1A64420B0>, <SpikeEmphasisState.Emphasized: 3>: <PyQt5.QtGui.QPen object at 0x000001F1A6442120>}, None, None)), (7, (None, None, {<SpikeEmphasisState.Hidden: 0>: <PyQt5.QtGui.QPen object at 0x000001F1A6442190>, <SpikeEmphasisState.Deemphasized: 1>: <PyQt5.QtGui.QPen object at 0x000001F1A6442200>, <SpikeEmphasisState.Default: 2>: <PyQt5.QtGui.QPen object at 0x000001F1A64424A0>, <SpikeEmphasisState.Emphasized: 3>: <PyQt5.QtGui.QPen object at 0x000001F1A64422E0>}, None, None)), (9, (None, None, {<SpikeEmphasisState.Hidden: 0>: <PyQt5.QtGui.QPen object at 0x000001F1A6442270>, <SpikeEmphasisState.Deemphasized: 1>: <PyQt5.QtGui.QPen object at 0x000001F2FA8D7C80>, <SpikeEmphasisState.Default: 2>: <PyQt5.QtGui.QPen object at 0x000001F2FA8D7C10>, <SpikeEmphasisState.Emphasized: 3>: <PyQt5.QtGui.QPen object at 0x000001F2FA8D7BA0>}, None, None)), (31, (None, None, {<SpikeEmphasisState.Hidden: 0>: <PyQt5.QtGui.QPen object at 0x000001F2FA8D7B30>, <SpikeEmphasisState.Deemphasized: 1>: <PyQt5.QtGui.QPen object at 0x000001F2FA8D7AC0>, <SpikeEmphasisState.Default: 2>: <PyQt5.QtGui.QPen object at 0x000001F2FA8D7A50>, <SpikeEmphasisState.Emphasized: 3>: <PyQt5.QtGui.QPen object at 0x000001F2FA8D79E0>}, None, None)), (32, (None, None, {<SpikeEmphasisState.Hidden: 0>: <PyQt5.QtGui.QPen object at 0x000001F2FA8D7970>, <SpikeEmphasisState.Deemphasized: 1>: <PyQt5.QtGui.QPen object at 0x000001F2FA8D7900>, <SpikeEmphasisState.Default: 2>: <PyQt5.QtGui.QPen object at 0x000001F2FA8D7890>, <SpikeEmphasisState.Emphasized: 3>: <PyQt5.QtGui.QPen object at 0x000001F2FA8D77B0>}, None, None)), (39, (None, None, {<SpikeEmphasisState.Hidden: 0>: <PyQt5.QtGui.QPen object at 0x000001F2FA8D7820>, <SpikeEmphasisState.Deemphasized: 1>: <PyQt5.QtGui.QPen object at 0x000001F2FA8D7740>, <SpikeEmphasisState.Default: 2>: <PyQt5.QtGui.QPen object at 0x000001F2FA8D76D0>, <SpikeEmphasisState.Emphasized: 3>: <PyQt5.QtGui.QPen object at 0x000001F2FA8D7660>}, None, None)), (41, (None, None, {<SpikeEmphasisState.Hidden: 0>: <PyQt5.QtGui.QPen object at 0x000001F2FA8D75F0>, <SpikeEmphasisState.Deemphasized: 1>: <PyQt5.QtGui.QPen object at 0x000001F2FA8D7580>, <SpikeEmphasisState.Default: 2>: <PyQt5.QtGui.QPen object at 0x000001F2FA8D7510>, <SpikeEmphasisState.Emphasized: 3>: <PyQt5.QtGui.QPen object at 0x000001F2FA8D74A0>}, None, None)), (45, (None, None, {<SpikeEmphasisState.Hidden: 0>: <PyQt5.QtGui.QPen object at 0x000001F2FA8D7430>, <SpikeEmphasisState.Deemphasized: 1>: <PyQt5.QtGui.QPen object at 0x000001F2FA8D73C0>, <SpikeEmphasisState.Default: 2>: <PyQt5.QtGui.QPen object at 0x000001F2FA8D7350>, <SpikeEmphasisState.Emphasized: 3>: <PyQt5.QtGui.QPen object at 0x000001F2FA8D7CF0>}, None, None)), (46, (None, None, {<SpikeEmphasisState.Hidden: 0>: <PyQt5.QtGui.QPen object at 0x000001F2ADFEDBA0>, <SpikeEmphasisState.Deemphasized: 1>: <PyQt5.QtGui.QPen object at 0x000001F2ADFEDC10>, <SpikeEmphasisState.Default: 2>: <PyQt5.QtGui.QPen object at 0x000001F2ADFEDC80>, <SpikeEmphasisState.Emphasized: 3>: <PyQt5.QtGui.QPen object at 0x000001F2ADFEDCF0>}, None, None)), (48, (None, None, {<SpikeEmphasisState.Hidden: 0>: <PyQt5.QtGui.QPen object at 0x000001F2ADFEDD60>, <SpikeEmphasisState.Deemphasized: 1>: <PyQt5.QtGui.QPen object at 0x000001F2ADFEDDD0>, <SpikeEmphasisState.Default: 2>: <PyQt5.QtGui.QPen object at 0x000001F2ADFEDE40>, <SpikeEmphasisState.Emphasized: 3>: <PyQt5.QtGui.QPen object at 0x000001F2ADFEDEB0>}, None, None)), (50, (None, None, {<SpikeEmphasisState.Hidden: 0>: <PyQt5.QtGui.QPen object at 0x000001F2ADFEDF20>, <SpikeEmphasisState.Deemphasized: 1>: <PyQt5.QtGui.QPen object at 0x000001F2ADFEDF90>, <SpikeEmphasisState.Default: 2>: <PyQt5.QtGui.QPen object at 0x000001F2ADFBD040>, <SpikeEmphasisState.Emphasized: 3>: <PyQt5.QtGui.QPen object at 0x000001F2ADFBD0B0>}, None, None)), (55, (None, None, {<SpikeEmphasisState.Hidden: 0>: <PyQt5.QtGui.QPen object at 0x000001F2ADFBD120>, <SpikeEmphasisState.Deemphasized: 1>: <PyQt5.QtGui.QPen object at 0x000001F2ADFBD190>, <SpikeEmphasisState.Default: 2>: <PyQt5.QtGui.QPen object at 0x000001F2ADFBD200>, <SpikeEmphasisState.Emphasized: 3>: <PyQt5.QtGui.QPen object at 0x000001F2ADFBD270>}, None, None)), (61, (None, None, {<SpikeEmphasisState.Hidden: 0>: <PyQt5.QtGui.QPen object at 0x000001F2ADFBD2E0>, <SpikeEmphasisState.Deemphasized: 1>: <PyQt5.QtGui.QPen object at 0x000001F2ADFBD350>, <SpikeEmphasisState.Default: 2>: <PyQt5.QtGui.QPen object at 0x000001F2ADFBD3C0>, <SpikeEmphasisState.Emphasized: 3>: <PyQt5.QtGui.QPen object at 0x000001F2ADFBD430>}, None, None)), (62, (None, None, {<SpikeEmphasisState.Hidden: 0>: <PyQt5.QtGui.QPen object at 0x000001F2ADFBD4A0>, <SpikeEmphasisState.Deemphasized: 1>: <PyQt5.QtGui.QPen object at 0x000001F2ADFBD510>, <SpikeEmphasisState.Default: 2>: <PyQt5.QtGui.QPen object at 0x000001F2ADFBD580>, <SpikeEmphasisState.Emphasized: 3>: <PyQt5.QtGui.QPen object at 0x000001F2ADFBD5F0>}, None, None)), (64, (None, None, {<SpikeEmphasisState.Hidden: 0>: <PyQt5.QtGui.QPen object at 0x000001F2ADFBD660>, <SpikeEmphasisState.Deemphasized: 1>: <PyQt5.QtGui.QPen object at 0x000001F2ADFBD6D0>, <SpikeEmphasisState.Default: 2>: <PyQt5.QtGui.QPen object at 0x000001F2ADFBD740>, <SpikeEmphasisState.Emphasized: 3>: <PyQt5.QtGui.QPen object at 0x000001F2ADFBD7B0>}, None, None)), (69, (None, None, {<SpikeEmphasisState.Hidden: 0>: <PyQt5.QtGui.QPen object at 0x000001F2ADFBD820>, <SpikeEmphasisState.Deemphasized: 1>: <PyQt5.QtGui.QPen object at 0x000001F2ADFBD890>, <SpikeEmphasisState.Default: 2>: <PyQt5.QtGui.QPen object at 0x000001F2ADFBD900>, <SpikeEmphasisState.Emphasized: 3>: <PyQt5.QtGui.QPen object at 0x000001F2ADFBD970>}, None, None)), (72, (None, None, {<SpikeEmphasisState.Hidden: 0>: <PyQt5.QtGui.QPen object at 0x000001F2ADFBD9E0>, <SpikeEmphasisState.Deemphasized: 1>: <PyQt5.QtGui.QPen object at 0x000001F2ADFBDA50>, <SpikeEmphasisState.Default: 2>: <PyQt5.QtGui.QPen object at 0x000001F2ADFBDAC0>, <SpikeEmphasisState.Emphasized: 3>: <PyQt5.QtGui.QPen object at 0x000001F2ADFBDB30>}, None, None)), (75, (None, None, {<SpikeEmphasisState.Hidden: 0>: <PyQt5.QtGui.QPen object at 0x000001F2ADFBDBA0>, <SpikeEmphasisState.Deemphasized: 1>: <PyQt5.QtGui.QPen object at 0x000001F2ADFBDC10>, <SpikeEmphasisState.Default: 2>: <PyQt5.QtGui.QPen object at 0x000001F2ADFBDC80>, <SpikeEmphasisState.Emphasized: 3>: <PyQt5.QtGui.QPen object at 0x000001F2ADFBDCF0>}, None, None)), (76, (None, None, {<SpikeEmphasisState.Hidden: 0>: <PyQt5.QtGui.QPen object at 0x000001F2ADFBDD60>, <SpikeEmphasisState.Deemphasized: 1>: <PyQt5.QtGui.QPen object at 0x000001F2ADFBDDD0>, <SpikeEmphasisState.Default: 2>: <PyQt5.QtGui.QPen object at 0x000001F2ADFBDE40>, <SpikeEmphasisState.Emphasized: 3>: <PyQt5.QtGui.QPen object at 0x000001F2ADFBDEB0>}, None, None)), (78, (None, None, {<SpikeEmphasisState.Hidden: 0>: <PyQt5.QtGui.QPen object at 0x000001F2ADFBDF20>, <SpikeEmphasisState.Deemphasized: 1>: <PyQt5.QtGui.QPen object at 0x000001F2ADFBDF90>, <SpikeEmphasisState.Default: 2>: <PyQt5.QtGui.QPen object at 0x000001F2ADFDF040>, <SpikeEmphasisState.Emphasized: 3>: <PyQt5.QtGui.QPen object at 0x000001F2ADFDF0B0>}, None, None)), (79, (None, None, {<SpikeEmphasisState.Hidden: 0>: <PyQt5.QtGui.QPen object at 0x000001F2ADFDF120>, <SpikeEmphasisState.Deemphasized: 1>: <PyQt5.QtGui.QPen object at 0x000001F2ADFDF190>, <SpikeEmphasisState.Default: 2>: <PyQt5.QtGui.QPen object at 0x000001F2ADFDF200>, <SpikeEmphasisState.Emphasized: 3>: <PyQt5.QtGui.QPen object at 0x000001F2ADFDF270>}, None, None)), (83, (None, None, {<SpikeEmphasisState.Hidden: 0>: <PyQt5.QtGui.QPen object at 0x000001F2ADFDF2E0>, <SpikeEmphasisState.Deemphasized: 1>: <PyQt5.QtGui.QPen object at 0x000001F2ADFDF350>, <SpikeEmphasisState.Default: 2>: <PyQt5.QtGui.QPen object at 0x000001F2ADFDF3C0>, <SpikeEmphasisState.Emphasized: 3>: <PyQt5.QtGui.QPen object at 0x000001F2ADFDF430>}, None, None)), (84, (None, None, {<SpikeEmphasisState.Hidden: 0>: <PyQt5.QtGui.QPen object at 0x000001F2ADFDF4A0>, <SpikeEmphasisState.Deemphasized: 1>: <PyQt5.QtGui.QPen object at 0x000001F2ADFDF510>, <SpikeEmphasisState.Default: 2>: <PyQt5.QtGui.QPen object at 0x000001F2ADFDF580>, <SpikeEmphasisState.Emphasized: 3>: <PyQt5.QtGui.QPen object at 0x000001F2ADFDF5F0>}, None, None)), (86, (None, None, {<SpikeEmphasisState.Hidden: 0>: <PyQt5.QtGui.QPen object at 0x000001F2ADFDF660>, <SpikeEmphasisState.Deemphasized: 1>: <PyQt5.QtGui.QPen object at 0x000001F2ADFDF6D0>, <SpikeEmphasisState.Default: 2>: <PyQt5.QtGui.QPen object at 0x000001F2ADFDF740>, <SpikeEmphasisState.Emphasized: 3>: <PyQt5.QtGui.QPen object at 0x000001F2ADFDF7B0>}, None, None)), (88, (None, None, {<SpikeEmphasisState.Hidden: 0>: <PyQt5.QtGui.QPen object at 0x000001F2ADFDF820>, <SpikeEmphasisState.Deemphasized: 1>: <PyQt5.QtGui.QPen object at 0x000001F2ADFDF890>, <SpikeEmphasisState.Default: 2>: <PyQt5.QtGui.QPen object at 0x000001F2ADFDF900>, <SpikeEmphasisState.Emphasized: 3>: <PyQt5.QtGui.QPen object at 0x000001F2ADFDF970>}, None, None)), (90, (None, None, {<SpikeEmphasisState.Hidden: 0>: <PyQt5.QtGui.QPen object at 0x000001F2ADFDF9E0>, <SpikeEmphasisState.Deemphasized: 1>: <PyQt5.QtGui.QPen object at 0x000001F2ADFDFA50>, <SpikeEmphasisState.Default: 2>: <PyQt5.QtGui.QPen object at 0x000001F2ADFDFAC0>, <SpikeEmphasisState.Emphasized: 3>: <PyQt5.QtGui.QPen object at 0x000001F2ADFDFB30>}, None, None)), (91, (None, None, {<SpikeEmphasisState.Hidden: 0>: <PyQt5.QtGui.QPen object at 0x000001F2ADFDFBA0>, <SpikeEmphasisState.Deemphasized: 1>: <PyQt5.QtGui.QPen object at 0x000001F2ADFDFC10>, <SpikeEmphasisState.Default: 2>: <PyQt5.QtGui.QPen object at 0x000001F2ADFDFC80>, <SpikeEmphasisState.Emphasized: 3>: <PyQt5.QtGui.QPen object at 0x000001F2ADFDFCF0>}, None, None)), (92, (None, None, {<SpikeEmphasisState.Hidden: 0>: <PyQt5.QtGui.QPen object at 0x000001F2ADFDFD60>, <SpikeEmphasisState.Deemphasized: 1>: <PyQt5.QtGui.QPen object at 0x000001F2ADFDFDD0>, <SpikeEmphasisState.Default: 2>: <PyQt5.QtGui.QPen object at 0x000001F2ADFDFE40>, <SpikeEmphasisState.Emphasized: 3>: <PyQt5.QtGui.QPen object at 0x000001F2ADFDFEB0>}, None, None)), (93, (None, None, {<SpikeEmphasisState.Hidden: 0>: <PyQt5.QtGui.QPen object at 0x000001F2ADFDFF20>, <SpikeEmphasisState.Deemphasized: 1>: <PyQt5.QtGui.QPen object at 0x000001F2ADFDFF90>, <SpikeEmphasisState.Default: 2>: <PyQt5.QtGui.QPen object at 0x000001F2ADFC1040>, <SpikeEmphasisState.Emphasized: 3>: <PyQt5.QtGui.QPen object at 0x000001F2ADFC10B0>}, None, None)), (95, (None, None, {<SpikeEmphasisState.Hidden: 0>: <PyQt5.QtGui.QPen object at 0x000001F2ADFC1120>, <SpikeEmphasisState.Deemphasized: 1>: <PyQt5.QtGui.QPen object at 0x000001F2ADFC1190>, <SpikeEmphasisState.Default: 2>: <PyQt5.QtGui.QPen object at 0x000001F2ADFC1200>, <SpikeEmphasisState.Emphasized: 3>: <PyQt5.QtGui.QPen object at 0x000001F2ADFC1270>}, None, None)), (99, (None, None, {<SpikeEmphasisState.Hidden: 0>: <PyQt5.QtGui.QPen object at 0x000001F2ADFC12E0>, <SpikeEmphasisState.Deemphasized: 1>: <PyQt5.QtGui.QPen object at 0x000001F2ADFC1350>, <SpikeEmphasisState.Default: 2>: <PyQt5.QtGui.QPen object at 0x000001F2ADFC13C0>, <SpikeEmphasisState.Emphasized: 3>: <PyQt5.QtGui.QPen object at 0x000001F2ADFC1430>}, None, None)), (100, (None, None, {<SpikeEmphasisState.Hidden: 0>: <PyQt5.QtGui.QPen object at 0x000001F2ADFC14A0>, <SpikeEmphasisState.Deemphasized: 1>: <PyQt5.QtGui.QPen object at 0x000001F2ADFC1510>, <SpikeEmphasisState.Default: 2>: <PyQt5.QtGui.QPen object at 0x000001F2ADFC1580>, <SpikeEmphasisState.Emphasized: 3>: <PyQt5.QtGui.QPen object at 0x000001F2ADFC15F0>}, None, None)), (101, (None, None, {<SpikeEmphasisState.Hidden: 0>: <PyQt5.QtGui.QPen object at 0x000001F2ADFC1660>, <SpikeEmphasisState.Deemphasized: 1>: <PyQt5.QtGui.QPen object at 0x000001F2ADFC16D0>, <SpikeEmphasisState.Default: 2>: <PyQt5.QtGui.QPen object at 0x000001F2ADFC1740>, <SpikeEmphasisState.Emphasized: 3>: <PyQt5.QtGui.QPen object at 0x000001F2ADFC17B0>}, None, None)), (108, (None, None, {<SpikeEmphasisState.Hidden: 0>: <PyQt5.QtGui.QPen object at 0x000001F2ADFC1820>, <SpikeEmphasisState.Deemphasized: 1>: <PyQt5.QtGui.QPen object at 0x000001F2ADFC1890>, <SpikeEmphasisState.Default: 2>: <PyQt5.QtGui.QPen object at 0x000001F2ADFC1900>, <SpikeEmphasisState.Emphasized: 3>: <PyQt5.QtGui.QPen object at 0x000001F2ADFC1970>}, None, None))]))), config_fragile_linear_neuron_IDX_map={0: (None, None, {<SpikeEmphasisState.Hidden: 0>: <PyQt5.QtGui.QPen object at 0x000001F2039C73C0>, <SpikeEmphasisState.Deemphasized: 1>: <PyQt5.QtGui.QPen object at 0x000001F1A6442040>, <SpikeEmphasisState.Default: 2>: <PyQt5.QtGui.QPen object at 0x000001F1A64420B0>, <SpikeEmphasisState.Emphasized: 3>: <PyQt5.QtGui.QPen object at 0x000001F1A6442120>}, None, None), 1: (None, None, {<SpikeEmphasisState.Hidden: 0>: <PyQt5.QtGui.QPen object at 0x000001F1A6442190>, <SpikeEmphasisState.Deemphasized: 1>: <PyQt5.QtGui.QPen object at 0x000001F1A6442200>, <SpikeEmphasisState.Default: 2>: <PyQt5.QtGui.QPen object at 0x000001F1A64424A0>, <SpikeEmphasisState.Emphasized: 3>: <PyQt5.QtGui.QPen object at 0x000001F1A64422E0>}, None, None), 2: (None, None, {<SpikeEmphasisState.Hidden: 0>: <PyQt5.QtGui.QPen object at 0x000001F1A6442270>, <SpikeEmphasisState.Deemphasized: 1>: <PyQt5.QtGui.QPen object at 0x000001F2FA8D7C80>, <SpikeEmphasisState.Default: 2>: <PyQt5.QtGui.QPen object at 0x000001F2FA8D7C10>, <SpikeEmphasisState.Emphasized: 3>: <PyQt5.QtGui.QPen object at 0x000001F2FA8D7BA0>}, None, None), 3: (None, None, {<SpikeEmphasisState.Hidden: 0>: <PyQt5.QtGui.QPen object at 0x000001F2FA8D7B30>, <SpikeEmphasisState.Deemphasized: 1>: <PyQt5.QtGui.QPen object at 0x000001F2FA8D7AC0>, <SpikeEmphasisState.Default: 2>: <PyQt5.QtGui.QPen object at 0x000001F2FA8D7A50>, <SpikeEmphasisState.Emphasized: 3>: <PyQt5.QtGui.QPen object at 0x000001F2FA8D79E0>}, None, None), 4: (None, None, {<SpikeEmphasisState.Hidden: 0>: <PyQt5.QtGui.QPen object at 0x000001F2FA8D7970>, <SpikeEmphasisState.Deemphasized: 1>: <PyQt5.QtGui.QPen object at 0x000001F2FA8D7900>, <SpikeEmphasisState.Default: 2>: <PyQt5.QtGui.QPen object at 0x000001F2FA8D7890>, <SpikeEmphasisState.Emphasized: 3>: <PyQt5.QtGui.QPen object at 0x000001F2FA8D77B0>}, None, None), 5: (None, None, {<SpikeEmphasisState.Hidden: 0>: <PyQt5.QtGui.QPen object at 0x000001F2FA8D7820>, <SpikeEmphasisState.Deemphasized: 1>: <PyQt5.QtGui.QPen object at 0x000001F2FA8D7740>, <SpikeEmphasisState.Default: 2>: <PyQt5.QtGui.QPen object at 0x000001F2FA8D76D0>, <SpikeEmphasisState.Emphasized: 3>: <PyQt5.QtGui.QPen object at 0x000001F2FA8D7660>}, None, None), 6: (None, None, {<SpikeEmphasisState.Hidden: 0>: <PyQt5.QtGui.QPen object at 0x000001F2FA8D75F0>, <SpikeEmphasisState.Deemphasized: 1>: <PyQt5.QtGui.QPen object at 0x000001F2FA8D7580>, <SpikeEmphasisState.Default: 2>: <PyQt5.QtGui.QPen object at 0x000001F2FA8D7510>, <SpikeEmphasisState.Emphasized: 3>: <PyQt5.QtGui.QPen object at 0x000001F2FA8D74A0>}, None, None), 7: (None, None, {<SpikeEmphasisState.Hidden: 0>: <PyQt5.QtGui.QPen object at 0x000001F2FA8D7430>, <SpikeEmphasisState.Deemphasized: 1>: <PyQt5.QtGui.QPen object at 0x000001F2FA8D73C0>, <SpikeEmphasisState.Default: 2>: <PyQt5.QtGui.QPen object at 0x000001F2FA8D7350>, <SpikeEmphasisState.Emphasized: 3>: <PyQt5.QtGui.QPen object at 0x000001F2FA8D7CF0>}, None, None), 8: (None, None, {<SpikeEmphasisState.Hidden: 0>: <PyQt5.QtGui.QPen object at 0x000001F2ADFEDBA0>, <SpikeEmphasisState.Deemphasized: 1>: <PyQt5.QtGui.QPen object at 0x000001F2ADFEDC10>, <SpikeEmphasisState.Default: 2>: <PyQt5.QtGui.QPen object at 0x000001F2ADFEDC80>, <SpikeEmphasisState.Emphasized: 3>: <PyQt5.QtGui.QPen object at 0x000001F2ADFEDCF0>}, None, None), 9: (None, None, {<SpikeEmphasisState.Hidden: 0>: <PyQt5.QtGui.QPen object at 0x000001F2ADFEDD60>, <SpikeEmphasisState.Deemphasized: 1>: <PyQt5.QtGui.QPen object at 0x000001F2ADFEDDD0>, <SpikeEmphasisState.Default: 2>: <PyQt5.QtGui.QPen object at 0x000001F2ADFEDE40>, <SpikeEmphasisState.Emphasized: 3>: <PyQt5.QtGui.QPen object at 0x000001F2ADFEDEB0>}, None, None), 10: (None, None, {<SpikeEmphasisState.Hidden: 0>: <PyQt5.QtGui.QPen object at 0x000001F2ADFEDF20>, <SpikeEmphasisState.Deemphasized: 1>: <PyQt5.QtGui.QPen object at 0x000001F2ADFEDF90>, <SpikeEmphasisState.Default: 2>: <PyQt5.QtGui.QPen object at 0x000001F2ADFBD040>, <SpikeEmphasisState.Emphasized: 3>: <PyQt5.QtGui.QPen object at 0x000001F2ADFBD0B0>}, None, None), 11: (None, None, {<SpikeEmphasisState.Hidden: 0>: <PyQt5.QtGui.QPen object at 0x000001F2ADFBD120>, <SpikeEmphasisState.Deemphasized: 1>: <PyQt5.QtGui.QPen object at 0x000001F2ADFBD190>, <SpikeEmphasisState.Default: 2>: <PyQt5.QtGui.QPen object at 0x000001F2ADFBD200>, <SpikeEmphasisState.Emphasized: 3>: <PyQt5.QtGui.QPen object at 0x000001F2ADFBD270>}, None, None), 12: (None, None, {<SpikeEmphasisState.Hidden: 0>: <PyQt5.QtGui.QPen object at 0x000001F2ADFBD2E0>, <SpikeEmphasisState.Deemphasized: 1>: <PyQt5.QtGui.QPen object at 0x000001F2ADFBD350>, <SpikeEmphasisState.Default: 2>: <PyQt5.QtGui.QPen object at 0x000001F2ADFBD3C0>, <SpikeEmphasisState.Emphasized: 3>: <PyQt5.QtGui.QPen object at 0x000001F2ADFBD430>}, None, None), 13: (None, None, {<SpikeEmphasisState.Hidden: 0>: <PyQt5.QtGui.QPen object at 0x000001F2ADFBD4A0>, <SpikeEmphasisState.Deemphasized: 1>: <PyQt5.QtGui.QPen object at 0x000001F2ADFBD510>, <SpikeEmphasisState.Default: 2>: <PyQt5.QtGui.QPen object at 0x000001F2ADFBD580>, <SpikeEmphasisState.Emphasized: 3>: <PyQt5.QtGui.QPen object at 0x000001F2ADFBD5F0>}, None, None), 14: (None, None, {<SpikeEmphasisState.Hidden: 0>: <PyQt5.QtGui.QPen object at 0x000001F2ADFBD660>, <SpikeEmphasisState.Deemphasized: 1>: <PyQt5.QtGui.QPen object at 0x000001F2ADFBD6D0>, <SpikeEmphasisState.Default: 2>: <PyQt5.QtGui.QPen object at 0x000001F2ADFBD740>, <SpikeEmphasisState.Emphasized: 3>: <PyQt5.QtGui.QPen object at 0x000001F2ADFBD7B0>}, None, None), 15: (None, None, {<SpikeEmphasisState.Hidden: 0>: <PyQt5.QtGui.QPen object at 0x000001F2ADFBD820>, <SpikeEmphasisState.Deemphasized: 1>: <PyQt5.QtGui.QPen object at 0x000001F2ADFBD890>, <SpikeEmphasisState.Default: 2>: <PyQt5.QtGui.QPen object at 0x000001F2ADFBD900>, <SpikeEmphasisState.Emphasized: 3>: <PyQt5.QtGui.QPen object at 0x000001F2ADFBD970>}, None, None), 16: (None, None, {<SpikeEmphasisState.Hidden: 0>: <PyQt5.QtGui.QPen object at 0x000001F2ADFBD9E0>, <SpikeEmphasisState.Deemphasized: 1>: <PyQt5.QtGui.QPen object at 0x000001F2ADFBDA50>, <SpikeEmphasisState.Default: 2>: <PyQt5.QtGui.QPen object at 0x000001F2ADFBDAC0>, <SpikeEmphasisState.Emphasized: 3>: <PyQt5.QtGui.QPen object at 0x000001F2ADFBDB30>}, None, None), 17: (None, None, {<SpikeEmphasisState.Hidden: 0>: <PyQt5.QtGui.QPen object at 0x000001F2ADFBDBA0>, <SpikeEmphasisState.Deemphasized: 1>: <PyQt5.QtGui.QPen object at 0x000001F2ADFBDC10>, <SpikeEmphasisState.Default: 2>: <PyQt5.QtGui.QPen object at 0x000001F2ADFBDC80>, <SpikeEmphasisState.Emphasized: 3>: <PyQt5.QtGui.QPen object at 0x000001F2ADFBDCF0>}, None, None), 18: (None, None, {<SpikeEmphasisState.Hidden: 0>: <PyQt5.QtGui.QPen object at 0x000001F2ADFBDD60>, <SpikeEmphasisState.Deemphasized: 1>: <PyQt5.QtGui.QPen object at 0x000001F2ADFBDDD0>, <SpikeEmphasisState.Default: 2>: <PyQt5.QtGui.QPen object at 0x000001F2ADFBDE40>, <SpikeEmphasisState.Emphasized: 3>: <PyQt5.QtGui.QPen object at 0x000001F2ADFBDEB0>}, None, None), 19: (None, None, {<SpikeEmphasisState.Hidden: 0>: <PyQt5.QtGui.QPen object at 0x000001F2ADFBDF20>, <SpikeEmphasisState.Deemphasized: 1>: <PyQt5.QtGui.QPen object at 0x000001F2ADFBDF90>, <SpikeEmphasisState.Default: 2>: <PyQt5.QtGui.QPen object at 0x000001F2ADFDF040>, <SpikeEmphasisState.Emphasized: 3>: <PyQt5.QtGui.QPen object at 0x000001F2ADFDF0B0>}, None, None), 20: (None, None, {<SpikeEmphasisState.Hidden: 0>: <PyQt5.QtGui.QPen object at 0x000001F2ADFDF120>, <SpikeEmphasisState.Deemphasized: 1>: <PyQt5.QtGui.QPen object at 0x000001F2ADFDF190>, <SpikeEmphasisState.Default: 2>: <PyQt5.QtGui.QPen object at 0x000001F2ADFDF200>, <SpikeEmphasisState.Emphasized: 3>: <PyQt5.QtGui.QPen object at 0x000001F2ADFDF270>}, None, None), 21: (None, None, {<SpikeEmphasisState.Hidden: 0>: <PyQt5.QtGui.QPen object at 0x000001F2ADFDF2E0>, <SpikeEmphasisState.Deemphasized: 1>: <PyQt5.QtGui.QPen object at 0x000001F2ADFDF350>, <SpikeEmphasisState.Default: 2>: <PyQt5.QtGui.QPen object at 0x000001F2ADFDF3C0>, <SpikeEmphasisState.Emphasized: 3>: <PyQt5.QtGui.QPen object at 0x000001F2ADFDF430>}, None, None), 22: (None, None, {<SpikeEmphasisState.Hidden: 0>: <PyQt5.QtGui.QPen object at 0x000001F2ADFDF4A0>, <SpikeEmphasisState.Deemphasized: 1>: <PyQt5.QtGui.QPen object at 0x000001F2ADFDF510>, <SpikeEmphasisState.Default: 2>: <PyQt5.QtGui.QPen object at 0x000001F2ADFDF580>, <SpikeEmphasisState.Emphasized: 3>: <PyQt5.QtGui.QPen object at 0x000001F2ADFDF5F0>}, None, None), 23: (None, None, {<SpikeEmphasisState.Hidden: 0>: <PyQt5.QtGui.QPen object at 0x000001F2ADFDF660>, <SpikeEmphasisState.Deemphasized: 1>: <PyQt5.QtGui.QPen object at 0x000001F2ADFDF6D0>, <SpikeEmphasisState.Default: 2>: <PyQt5.QtGui.QPen object at 0x000001F2ADFDF740>, <SpikeEmphasisState.Emphasized: 3>: <PyQt5.QtGui.QPen object at 0x000001F2ADFDF7B0>}, None, None), 24: (None, None, {<SpikeEmphasisState.Hidden: 0>: <PyQt5.QtGui.QPen object at 0x000001F2ADFDF820>, <SpikeEmphasisState.Deemphasized: 1>: <PyQt5.QtGui.QPen object at 0x000001F2ADFDF890>, <SpikeEmphasisState.Default: 2>: <PyQt5.QtGui.QPen object at 0x000001F2ADFDF900>, <SpikeEmphasisState.Emphasized: 3>: <PyQt5.QtGui.QPen object at 0x000001F2ADFDF970>}, None, None), 25: (None, None, {<SpikeEmphasisState.Hidden: 0>: <PyQt5.QtGui.QPen object at 0x000001F2ADFDF9E0>, <SpikeEmphasisState.Deemphasized: 1>: <PyQt5.QtGui.QPen object at 0x000001F2ADFDFA50>, <SpikeEmphasisState.Default: 2>: <PyQt5.QtGui.QPen object at 0x000001F2ADFDFAC0>, <SpikeEmphasisState.Emphasized: 3>: <PyQt5.QtGui.QPen object at 0x000001F2ADFDFB30>}, None, None), 26: (None, None, {<SpikeEmphasisState.Hidden: 0>: <PyQt5.QtGui.QPen object at 0x000001F2ADFDFBA0>, <SpikeEmphasisState.Deemphasized: 1>: <PyQt5.QtGui.QPen object at 0x000001F2ADFDFC10>, <SpikeEmphasisState.Default: 2>: <PyQt5.QtGui.QPen object at 0x000001F2ADFDFC80>, <SpikeEmphasisState.Emphasized: 3>: <PyQt5.QtGui.QPen object at 0x000001F2ADFDFCF0>}, None, None), 27: (None, None, {<SpikeEmphasisState.Hidden: 0>: <PyQt5.QtGui.QPen object at 0x000001F2ADFDFD60>, <SpikeEmphasisState.Deemphasized: 1>: <PyQt5.QtGui.QPen object at 0x000001F2ADFDFDD0>, <SpikeEmphasisState.Default: 2>: <PyQt5.QtGui.QPen object at 0x000001F2ADFDFE40>, <SpikeEmphasisState.Emphasized: 3>: <PyQt5.QtGui.QPen object at 0x000001F2ADFDFEB0>}, None, None), 28: (None, None, {<SpikeEmphasisState.Hidden: 0>: <PyQt5.QtGui.QPen object at 0x000001F2ADFDFF20>, <SpikeEmphasisState.Deemphasized: 1>: <PyQt5.QtGui.QPen object at 0x000001F2ADFDFF90>, <SpikeEmphasisState.Default: 2>: <PyQt5.QtGui.QPen object at 0x000001F2ADFC1040>, <SpikeEmphasisState.Emphasized: 3>: <PyQt5.QtGui.QPen object at 0x000001F2ADFC10B0>}, None, None), 29: (None, None, {<SpikeEmphasisState.Hidden: 0>: <PyQt5.QtGui.QPen object at 0x000001F2ADFC1120>, <SpikeEmphasisState.Deemphasized: 1>: <PyQt5.QtGui.QPen object at 0x000001F2ADFC1190>, <SpikeEmphasisState.Default: 2>: <PyQt5.QtGui.QPen object at 0x000001F2ADFC1200>, <SpikeEmphasisState.Emphasized: 3>: <PyQt5.QtGui.QPen object at 0x000001F2ADFC1270>}, None, None), 30: (None, None, {<SpikeEmphasisState.Hidden: 0>: <PyQt5.QtGui.QPen object at 0x000001F2ADFC12E0>, <SpikeEmphasisState.Deemphasized: 1>: <PyQt5.QtGui.QPen object at 0x000001F2ADFC1350>, <SpikeEmphasisState.Default: 2>: <PyQt5.QtGui.QPen object at 0x000001F2ADFC13C0>, <SpikeEmphasisState.Emphasized: 3>: <PyQt5.QtGui.QPen object at 0x000001F2ADFC1430>}, None, None), 31: (None, None, {<SpikeEmphasisState.Hidden: 0>: <PyQt5.QtGui.QPen object at 0x000001F2ADFC14A0>, <SpikeEmphasisState.Deemphasized: 1>: <PyQt5.QtGui.QPen object at 0x000001F2ADFC1510>, <SpikeEmphasisState.Default: 2>: <PyQt5.QtGui.QPen object at 0x000001F2ADFC1580>, <SpikeEmphasisState.Emphasized: 3>: <PyQt5.QtGui.QPen object at 0x000001F2ADFC15F0>}, None, None), 32: (None, None, {<SpikeEmphasisState.Hidden: 0>: <PyQt5.QtGui.QPen object at 0x000001F2ADFC1660>, <SpikeEmphasisState.Deemphasized: 1>: <PyQt5.QtGui.QPen object at 0x000001F2ADFC16D0>, <SpikeEmphasisState.Default: 2>: <PyQt5.QtGui.QPen object at 0x000001F2ADFC1740>, <SpikeEmphasisState.Emphasized: 3>: <PyQt5.QtGui.QPen object at 0x000001F2ADFC17B0>}, None, None), 33: (None, None, {<SpikeEmphasisState.Hidden: 0>: <PyQt5.QtGui.QPen object at 0x000001F2ADFC1820>, <SpikeEmphasisState.Deemphasized: 1>: <PyQt5.QtGui.QPen object at 0x000001F2ADFC1890>, <SpikeEmphasisState.Default: 2>: <PyQt5.QtGui.QPen object at 0x000001F2ADFC1900>, <SpikeEmphasisState.Emphasized: 3>: <PyQt5.QtGui.QPen object at 0x000001F2ADFC1970>}, None, None)})})"
      ]
     },
     "execution_count": 138,
     "metadata": {},
     "output_type": "execute_result"
    }
   ],
   "source": [
    "plots_data"
   ]
  },
  {
   "cell_type": "code",
   "execution_count": 139,
   "id": "afe3639f",
   "metadata": {},
   "outputs": [
    {
     "name": "stdout",
     "output_type": "stream",
     "text": [
      "merged_kwargs: {'name': 'spikeRasterOverviewWindowScatterPlotItem', 'pxMode': True, 'symbol': <PyQt5.QtGui.QPainterPath object at 0x000001F2ADFC1BA0>, 'size': 5.0, 'pen': {'color': 'w', 'width': 1.0}, 'hoverable': True}\n"
     ]
    }
   ],
   "source": [
    "\n",
    "# Update the dataframe\n",
    "spikes_df = plots_data.unit_sort_manager.update_spikes_df_visualization_columns(spikes_df)\n",
    "\n",
    "# Common Tick Label \n",
    "scatter_plot_kwargs = build_scatter_plot_kwargs(scatter_plot_kwargs=scatter_plot_kwargs)\n",
    "# print(f'scatter_plot_kwargs: {scatter_plot_kwargs}')\n"
   ]
  },
  {
   "cell_type": "code",
   "execution_count": 142,
   "id": "f9cc544e",
   "metadata": {},
   "outputs": [],
   "source": [
    "def _subfn_build_and_add_scatterplot_row(plots_data, plots, _active_plot_identifier: str, row:int, col:int=0, left_label: Optional[str]=None):\n",
    "\t\"\"\" Adds a single scatter plot row:\n",
    "\tusage:\n",
    "\t\n",
    "\tscatter_plot, new_ax, y_grid = _subfn_build_and_add_scatterplot_row(plots_data, plots, _active_plot_identifier=_active_plot_identifier, row=int(_active_plot_identifier), col=0, left_label=left_label)\n",
    "\t\n",
    "\t\"\"\"\n",
    "\tnew_ax = plots.layout.addPlot(row=row, col=col)\n",
    "\t# plots_data.all_spots_dict[_active_plot_identifier], plots_data.all_scatterplot_tooltips_kwargs_dict[_active_plot_identifier] = Render2DScrollWindowPlotMixin.build_spikes_all_spots_from_df(_active_epoch_spikes_df, plots_data.raster_plot_manager.config_fragile_linear_neuron_IDX_map, should_return_data_tooltips_kwargs=True)\n",
    "\n",
    "\tscatter_plot = pg.ScatterPlotItem(**scatter_plot_kwargs)\n",
    "\tscatter_plot.setObjectName(f'scatter_plot_{_active_plot_identifier}') # this seems necissary, the 'name' parameter in addPlot(...) seems to only change some internal property related to the legend AND drastically slows down the plotting\n",
    "\tscatter_plot.opts['useCache'] = False\n",
    "\t# scatter_plot.addPoints(plots_data.all_spots_dict[_active_plot_identifier], **(plots_data.all_scatterplot_tooltips_kwargs_dict[_active_plot_identifier] or {})) # , hoverable=True\n",
    "\tnew_ax.addItem(scatter_plot)\n",
    "\tplots.scatter_plots[_active_plot_identifier] = scatter_plot\n",
    "\t# new_ax.setXRange(an_epoch.start, an_epoch.stop)\n",
    "\tnew_ax.setYRange(0, plots_data.n_cells-1)\n",
    "\t# new_ax.showAxes(True, showValues=(True, True, True, False)) # showValues=(left: True, bottom: True, right: False, top: False) # , size=10       \n",
    "\tnew_ax.hideButtons() # Hides the auto-scale button\n",
    "\tnew_ax.setDefaultPadding(0.0)  # plot without padding data range\n",
    "\t# Format Labels:\n",
    "\t# left_label: str = f'Epoch[{an_epoch.label}]: {an_epoch.start:.2f}' # Full label\n",
    "\t# left_label: str = f'Epoch[{an_epoch.label}]' # Epoch[idx] style label\n",
    "\tif left_label is not None:\n",
    "\t\tnew_ax.getAxis('left').setLabel(left_label)\n",
    "\t# new_ax.getAxis('bottom').setLabel('t')\n",
    "\t# new_ax.getAxis('right').setLabel(f'Epoch[{an_epoch.label}]: {an_epoch.stop:.2f}')\n",
    "\n",
    "\t# new_ax.getAxis('bottom').setTickSpacing(1.0) # 5.0, 1.0 .setTickSpacing(x=[None], y=[1.0])\n",
    "\t# new_ax.showGrid(x=False, y=True, alpha=1.0)\n",
    "\tnew_ax.getAxis('bottom').setStyle(showValues=False)\n",
    "\n",
    "\t# Disable Interactivity\n",
    "\tnew_ax.setMouseEnabled(x=False, y=False)\n",
    "\tnew_ax.setMenuEnabled(False)\n",
    "\n",
    "\t# build the y-axis grid to separate the units\n",
    "\tplots.grid[_active_plot_identifier] = _build_units_y_grid(new_ax)\n",
    "\n",
    "\tplots.ax[_active_plot_identifier] = new_ax\n",
    "\t\n",
    "\treturn plots.scatter_plots[_active_plot_identifier], plots.ax[_active_plot_identifier], plots.grid[_active_plot_identifier]\n",
    "\n",
    "i = 0\n",
    "long_even_scatter_plot, long_even_new_ax, long_even_y_grid = _subfn_build_and_add_scatterplot_row(plots_data, plots, _active_plot_identifier='long_even', row=(i), col=0, left_label='long_even')\n",
    "i = i+1"
   ]
  },
  {
   "cell_type": "code",
   "execution_count": 143,
   "id": "d820da3c",
   "metadata": {},
   "outputs": [],
   "source": [
    "long_odd_scatter_plot, long_odd_ax, long_odd_y_grid = _subfn_build_and_add_scatterplot_row(plots_data, plots, _active_plot_identifier='long_odd', row=(i), col=0, left_label='long_odd')\n",
    "i = i+1"
   ]
  },
  {
   "cell_type": "code",
   "execution_count": 144,
   "id": "9ac1d027",
   "metadata": {},
   "outputs": [],
   "source": [
    "short_even_scatter_plot, short_even_ax, short_even_y_grid = _subfn_build_and_add_scatterplot_row(plots_data, plots, _active_plot_identifier='short_even', row=(i), col=0, left_label='short_even')\n",
    "i = i+1"
   ]
  },
  {
   "cell_type": "code",
   "execution_count": 145,
   "id": "c954c19c",
   "metadata": {},
   "outputs": [],
   "source": [
    "short_oddd_scatter_plot, short_odd_ax, short_odd_y_grid = _subfn_build_and_add_scatterplot_row(plots_data, plots, _active_plot_identifier='short_odd', row=(i), col=0, left_label='short_odd')\n",
    "i = i+1"
   ]
  },
  {
   "cell_type": "code",
   "execution_count": null,
   "id": "06b257d8",
   "metadata": {},
   "outputs": [],
   "source": []
  },
  {
   "cell_type": "code",
   "execution_count": null,
   "id": "a59620c4",
   "metadata": {},
   "outputs": [],
   "source": [
    "\n",
    "## Build the individual epoch raster plot rows:\n",
    "for an_epoch in filter_epochs_df.itertuples():\n",
    "\t# print(f'an_epoch: {an_epoch}')\n",
    "\t# if _active_plot_identifier < 10:\n",
    "\t_active_epoch_spikes_df = spikes_df[spikes_df[epoch_id_key_name] == an_epoch.Index]\n",
    "\t_active_plot_title: str = f\"Epoch[{an_epoch.label}]\" # Epoch[idx]\n",
    "\t# _active_plot_title: str = f\"[{an_epoch.label}]\" # [idx]\n",
    "\t_active_plot_identifier = an_epoch.Index\n",
    "\t\n",
    "\t## Create the raster plot for the replay:\n",
    "\t# if win is None:\n",
    "\t# \t# Initialize\n",
    "\t# \tapp, win, plots, plots_data = plot_raster_plot(_active_epoch_spikes_df, shared_aclus, scatter_app_name=f\"Raster Epoch[{an_epoch.label}]\")\n",
    "\t# else:\n",
    "\t# add a new row\n",
    "\t# new_ax = plots.layout.addPlot(row=int(_active_plot_identifier), col=0)\n",
    "\tplots_data.all_spots_dict[_active_plot_identifier], plots_data.all_scatterplot_tooltips_kwargs_dict[_active_plot_identifier] = Render2DScrollWindowPlotMixin.build_spikes_all_spots_from_df(_active_epoch_spikes_df, plots_data.raster_plot_manager.config_fragile_linear_neuron_IDX_map, should_return_data_tooltips_kwargs=True)\n",
    "\n",
    "\tleft_label: str = f'[{an_epoch.label}]' # very short (index only) label\n",
    "\tscatter_plot, new_ax, y_grid = _subfn_build_and_add_scatterplot_row(plots_data, plots, _active_plot_identifier=_active_plot_identifier, row=int(_active_plot_identifier), col=0, left_label=left_label)\n",
    "\n",
    "\n",
    "\t# scatter_plot = pg.ScatterPlotItem(**scatter_plot_kwargs)\n",
    "\t# scatter_plot.setObjectName(f'scatter_plot_{_active_plot_title}') # this seems necissary, the 'name' parameter in addPlot(...) seems to only change some internal property related to the legend AND drastically slows down the plotting\n",
    "\t# scatter_plot.opts['useCache'] = False\n",
    "\tscatter_plot.addPoints(plots_data.all_spots_dict[_active_plot_identifier], **(plots_data.all_scatterplot_tooltips_kwargs_dict[_active_plot_identifier] or {})) # , hoverable=True\n",
    "\t# new_ax.addItem(scatter_plot)\n",
    "\t# plots.scatter_plots[_active_plot_identifier] = scatter_plot\n",
    "\t# new_ax.setXRange(an_epoch.start, an_epoch.stop)\n",
    "\t# new_ax.setYRange(0, plots_data.n_cells-1)\n",
    "\t# # new_ax.showAxes(True, showValues=(True, True, True, False)) # showValues=(left: True, bottom: True, right: False, top: False) # , size=10       \n",
    "\t# new_ax.hideButtons() # Hides the auto-scale button\n",
    "\t# new_ax.setDefaultPadding(0.0)  # plot without padding data range\n",
    "\t# # Format Labels:\n",
    "\t# # left_label: str = f'Epoch[{an_epoch.label}]: {an_epoch.start:.2f}' # Full label\n",
    "\t# # left_label: str = f'Epoch[{an_epoch.label}]' # Epoch[idx] style label\n",
    "\t# left_label: str = f'[{an_epoch.label}]' # very short (index only) label\n",
    "\t# new_ax.getAxis('left').setLabel(left_label)\n",
    "\t# # new_ax.getAxis('bottom').setLabel('t')\n",
    "\t# # new_ax.getAxis('right').setLabel(f'Epoch[{an_epoch.label}]: {an_epoch.stop:.2f}')\n",
    "\n",
    "\t# # new_ax.getAxis('bottom').setTickSpacing(1.0) # 5.0, 1.0 .setTickSpacing(x=[None], y=[1.0])\n",
    "\t# # new_ax.showGrid(x=False, y=True, alpha=1.0)\n",
    "\t# new_ax.getAxis('bottom').setStyle(showValues=False)\n",
    "\n",
    "\t# # Disable Interactivity\n",
    "\t# new_ax.setMouseEnabled(x=False, y=False)\n",
    "\t# new_ax.setMenuEnabled(False)\n",
    "\n",
    "\t# # build the y-axis grid to separate the units\n",
    "\t# plots.grid[_active_plot_identifier] = _build_units_y_grid(new_ax)\n",
    "\n",
    "\t# plots.ax[_active_plot_identifier] = new_ax"
   ]
  },
  {
   "cell_type": "code",
   "execution_count": null,
   "id": "ab29ddb8",
   "metadata": {},
   "outputs": [],
   "source": [
    "\n"
   ]
  },
  {
   "cell_type": "code",
   "execution_count": null,
   "id": "cacc0427",
   "metadata": {},
   "outputs": [],
   "source": []
  },
  {
   "cell_type": "code",
   "execution_count": null,
   "id": "f9e7e30b",
   "metadata": {},
   "outputs": [],
   "source": []
  },
  {
   "cell_type": "markdown",
   "id": "fb2f63af",
   "metadata": {
    "notebookRunGroups": {
     "groupValue": "1"
    }
   },
   "source": [
    "## 2023-10-04 - Compare the decoded result of each replay epoch between the long/short decoder to determine which is better for that Epoch:"
   ]
  },
  {
   "cell_type": "code",
   "execution_count": null,
   "id": "f19e222b",
   "metadata": {},
   "outputs": [],
   "source": [
    "from pyphoplacecellanalysis.Analysis.Decoder.reconstruction import DecodedFilterEpochsResult\n",
    "\n",
    "# neuron_replay_stats_df.reset_index()\n",
    "# neuron_replay_stats_df.index = neuron_replay_stats_df['aclu']\n",
    "\n",
    "a_long_decoder_result: DecodedFilterEpochsResult = long_results_obj.all_included_filter_epochs_decoder_result\n",
    "a_short_decoder_result: DecodedFilterEpochsResult = short_results_obj.all_included_filter_epochs_decoder_result\n",
    "\n",
    "\n",
    "# filter_epochs_decoder_result\n",
    "# curr_results_obj.active_filter_epochs, curr_results_obj.all_included_filter_epochs_decoder_result, xbin=curr_results_obj.original_1D_decoder.xbin\n",
    "\n",
    "\n",
    "# image_layer_dict = {}\n",
    "# layer_properties_dict = {\n",
    "# \t# 'snapshot_occupancy_weighted_tuning_maps': dict(blending='additive', colormap='viridis', name='pf1D_dt'),\n",
    "# #  'flat_jensen_shannon_distance_results': dict(blending='additive', colormap='gray'),\n",
    "# \t'long_p_x_given_n': dict(blending='additive', colormap='bop blue'),\n",
    "# \t'short_p_x_given_n': dict(blending='additive', colormap='red'),\n",
    "\t\n",
    "# }\n",
    "\n",
    "# for a_name, layer_properties in layer_properties_dict.items():\n",
    "# \t# image_layer_dict[a_name] = viewer.add_image(active_relative_entropy_results_xr_dict[a_name].to_numpy().astype(float), name=a_name)\n",
    "# \timage_layer_dict[a_name] = viewer.add_image(active_relative_entropy_results[a_name].astype(float), **(dict(name=a_name)|layer_properties))\n",
    "\n",
    "# assert viewer.dims.ndim == 3\n",
    "# ## Set the dimensions appropriately\n",
    "# viewer.dims.axis_labels = ('t', 'neuron_id', 'xbin')\n",
    "\n",
    "\n",
    "\n",
    "# fig, ax = plt.subplots(1,1)\n",
    "for decoded_epoch_idx in np.arange(a_long_decoder_result.num_filter_epochs):\n",
    "\n",
    "\tif decoded_epoch_idx < 5:\n",
    "\t\t# decoded_epoch_idx:int = 0\n",
    "\t\tcurr_epoch_time_bin_container = a_long_decoder_result.time_bin_containers[decoded_epoch_idx]\n",
    "\t\tcurr_time_bins = curr_epoch_time_bin_container.centers\n",
    "\n",
    "\t\t## Long Decoding:\n",
    "\t\tcurr_long_epoch_p_x_given_n = a_long_decoder_result.p_x_given_n_list[decoded_epoch_idx] # .shape: (239, 5) - (n_x_bins, n_epoch_time_bins)\n",
    "\t\t## Need to exclude estimates from bins that didn't have any spikes in them (in general these glitch around):\n",
    "\t\t# curr_total_spike_counts_per_window = np.sum(a_decoder_result.spkcount[decoded_epoch_idx], axis=0) # left_out_decoder_result.spkcount[i].shape # (69, 222) - (nCells, nTimeWindowCenters)\n",
    "\t\t# curr_is_time_bin_non_firing = (curr_total_spike_counts_per_window == 0) # this would mean that no cells fired in this time bin\n",
    "\t\tcurr_long_most_likely_position_indicies = np.squeeze(a_long_decoder_result.most_likely_position_indicies_list[decoded_epoch_idx]) # (n_epoch_time_bins, ) one position for each time bin in the replay\n",
    "\t\t# curr_most_likely_positions = a_decoder_result.most_likely_positions_list[decoded_epoch_idx]\n",
    "\t\tcurr_long_most_likely_position_confidence = np.max(curr_long_epoch_p_x_given_n, axis=0) # (n_epoch_time_bins, )\n",
    "\n",
    "\n",
    "\t\t## Short Decoding:\n",
    "\t\tcurr_short_epoch_p_x_given_n = a_short_decoder_result.p_x_given_n_list[decoded_epoch_idx] # .shape: (239, 5) - (n_x_bins, n_epoch_time_bins)\n",
    "\t\t## Need to exclude estimates from bins that didn't have any spikes in them (in general these glitch around):\n",
    "\t\t# curr_total_spike_counts_per_window = np.sum(a_decoder_result.spkcount[decoded_epoch_idx], axis=0) # left_out_decoder_result.spkcount[i].shape # (69, 222) - (nCells, nTimeWindowCenters)\n",
    "\t\t# curr_is_time_bin_non_firing = (curr_total_spike_counts_per_window == 0) # this would mean that no cells fired in this time bin\n",
    "\t\tcurr_short_most_likely_position_indicies = np.squeeze(a_short_decoder_result.most_likely_position_indicies_list[decoded_epoch_idx]) # (n_epoch_time_bins, ) one position for each time bin in the replay\n",
    "\t\tcurr_short_most_likely_position_confidence = np.max(curr_short_epoch_p_x_given_n, axis=0) # (n_epoch_time_bins, )\n",
    "\n",
    "\t\t# _long_short_decoding_comparison_df = pd.DataFrame({'t': curr_time_bins,\n",
    "\t\t# \t'x_bin_long': curr_long_most_likely_position_indicies, 'x_bin_long_confidence': curr_long_most_likely_position_confidence,\n",
    "\t\t# \t'x_bin_short': curr_short_most_likely_position_indicies, 'x_bin_short_confidence': curr_short_most_likely_position_confidence}) # , 'x': curr_most_likely_positions\n",
    "\n",
    "\t\tviewer.add_image(curr_long_epoch_p_x_given_n.astype(float), **(dict(name=f'long_p_x_given_n[{decoded_epoch_idx}]', blending='additive', colormap='red')))\n",
    "\t\tviewer.add_image(curr_short_epoch_p_x_given_n.astype(float), **(dict(name=f'short_p_x_given_n[{decoded_epoch_idx}]', blending='additive', colormap='bop blue')))\n",
    "\n",
    "\t# np.shape(curr_long_epoch_p_x_given_n)\n",
    "\t# _long_short_decoding_comparison_df.plot(y=['x_bin_long', 'x_bin_short'], color=['r','g'], ax=ax)\n",
    "\n",
    "# _long_short_decoding_comparison_df"
   ]
  },
  {
   "cell_type": "code",
   "execution_count": null,
   "id": "3e173de7",
   "metadata": {},
   "outputs": [],
   "source": [
    "np.max([np.shape(a_long_decoder_result.p_x_given_n_list[decoded_epoch_idx]) for decoded_epoch_idx in np.arange(a_long_decoder_result.num_filter_epochs)], axis=0)\n",
    "# np.max([np.shape(a_short_decoder_result.p_x_given_n_list[decoded_epoch_idx]) for decoded_epoch_idx in np.arange(a_short_decoder_result.num_filter_epochs)], axis=0)\n"
   ]
  },
  {
   "cell_type": "code",
   "execution_count": null,
   "id": "37de2edc",
   "metadata": {},
   "outputs": [],
   "source": [
    "a_long_decoder_result.p_x_given_n_list.shape"
   ]
  },
  {
   "cell_type": "code",
   "execution_count": null,
   "id": "dc5e9d49",
   "metadata": {},
   "outputs": [],
   "source": [
    "# a_decoder_result.p_x_given_n_list[decoded_epoch_idx]\n",
    "# a_decoder_result.most_likely_position_indicies_list\n",
    "\n",
    "\n",
    "# curr_most_likely_positions\n",
    "\n",
    "_df.plot()"
   ]
  },
  {
   "cell_type": "code",
   "execution_count": null,
   "id": "95c62e25",
   "metadata": {},
   "outputs": [],
   "source": [
    "curr_time_bins.shape\n",
    "curr_most_likely_positions.shape\n",
    "curr_most_likely_position_indicies.shape"
   ]
  },
  {
   "cell_type": "code",
   "execution_count": null,
   "id": "999f7a39",
   "metadata": {},
   "outputs": [],
   "source": [
    "a_decoder_result\n"
   ]
  },
  {
   "cell_type": "code",
   "execution_count": null,
   "id": "bcbd9f4a",
   "metadata": {},
   "outputs": [],
   "source": [
    "for decoded_epoch_idx in np.arange(a_decoder_result.num_filter_epochs):\n",
    "\tcurr_epoch_time_bin_container = a_decoder_result.time_bin_containers[decoded_epoch_idx]\n",
    "\tcurr_cell_decoded_epoch_time_bins.append(curr_epoch_time_bin_container)\n",
    "\tcurr_time_bins = curr_epoch_time_bin_container.centers\n",
    "\tcurr_epoch_p_x_given_n = a_decoder_result.p_x_given_n_list[decoded_epoch_idx] # .shape: (239, 5) - (n_x_bins, n_epoch_time_bins)\n",
    "\tassert curr_epoch_p_x_given_n.shape[0] == curr_cell_pf_curve.shape[0]\n",
    "\t\n",
    "\t## Need to exclude estimates from bins that didn't have any spikes in them (in general these glitch around):\n",
    "\tcurr_total_spike_counts_per_window = np.sum(a_decoder_result.spkcount[decoded_epoch_idx], axis=0) # left_out_decoder_result.spkcount[i].shape # (69, 222) - (nCells, nTimeWindowCenters)\n",
    "\tcurr_is_time_bin_non_firing = (curr_total_spike_counts_per_window == 0) # this would mean that no cells fired in this time bin\n",
    "\tcurr_most_likely_position_indicies = a_decoder_result.most_likely_position_indicies_list[decoded_epoch_idx] # (n_epoch_time_bins, ) one position for each time bin in the replay\n",
    "\t\n",
    "\t# From the firing map of the placefields for this neuron (`decoder_1D.F.T[left_out_neuron_IDX]`) get the value for each position bin index in the epoch\n",
    "\tcurr_epoch_expected_fr = np.squeeze(a_decoder_1D.F.T[left_out_neuron_IDX][curr_most_likely_position_indicies])\n",
    "\t# expected_num_spikes = curr_epoch_expected_fr * decoder_result.decoding_time_bin_size\n",
    "\n",
    "\t# Eqn 1:\n",
    "\t# p_n_given_x = lambda n: (1.0/factorial(n)) * pow(expected_num_spikes, n) * np.exp(-expected_num_spikes) # likelihood function\n",
    "\t\n",
    "\tall_cells_decoded_expected_firing_rates[left_out_aclu].append(curr_epoch_expected_fr)"
   ]
  },
  {
   "cell_type": "code",
   "execution_count": null,
   "id": "ff2fbcd2",
   "metadata": {},
   "outputs": [],
   "source": []
  },
  {
   "cell_type": "code",
   "execution_count": null,
   "id": "049bf938",
   "metadata": {},
   "outputs": [],
   "source": [
    "from neuropy.core.neuron_identities import NeuronIdentityDataframeAccessor\n",
    "\n",
    "neuron_replay_stats_df = neuron_replay_stats_df.neuron_identity.make_neuron_indexed_df_global(curr_active_pipeline.get_session_context(), add_expanded_session_context_keys=False, add_extended_aclu_identity_columns=False)\n",
    "neuron_replay_stats_df"
   ]
  },
  {
   "cell_type": "code",
   "execution_count": null,
   "id": "29710ea1",
   "metadata": {},
   "outputs": [],
   "source": [
    "neuron_replay_stats_df.neuron_uid"
   ]
  },
  {
   "cell_type": "code",
   "execution_count": null,
   "id": "f88beb94",
   "metadata": {},
   "outputs": [],
   "source": [
    "from neuropy.core.user_annotations import UserAnnotationsManager, SessionCellExclusivityRecord\n",
    "from neuropy.utils.result_context import IdentifyingContext\n",
    "\n",
    "\n",
    "\n",
    "# for a_ctx, a_val in annotation_man.get_hardcoded_specific_session_override_dict().items():\n",
    "# \tannotation_man.annotations[a_ctx] = a_val\n",
    "\n",
    "# for a_ctx, a_val in UserAnnotationsManager.get_user_annotations().items():\n",
    "# \tannotation_man.annotations[a_ctx] = a_val\n",
    "\n",
    "# for a_ctx, a_val in session_cell_exclusivity_annotations.items():\n",
    "# \t# Not ideal. Adds a key 'session_cell_exclusivity' to the extant session context instead of being indexable by an entirely new context\n",
    "# \tannotation_man.annotations[a_ctx] = annotation_man.annotations.get(a_ctx, {}) | dict(session_cell_exclusivity=a_val)\n",
    "# \t# annotation_man.annotations[a_ctx.overwriting_context(user_annotation='session_cell_exclusivity')] = a_val\n",
    "\n",
    "annotation_man = UserAnnotationsManager()\n",
    "session_cell_exclusivity: SessionCellExclusivityRecord = annotation_man.annotations[curr_active_pipeline.get_session_context()].get('session_cell_exclusivity', None)\n",
    "session_cell_exclusivity.LxC\n",
    "session_cell_exclusivity.SxC\n"
   ]
  },
  {
   "cell_type": "code",
   "execution_count": null,
   "id": "4e0f270b",
   "metadata": {},
   "outputs": [],
   "source": [
    "## 2023-10-03 - My metric comes from the number of laps with an active long place vs. number of laps with an active short place\n",
    "# curr_active_pipeline.sess.laps\n",
    "# active_long_spikes_df = active_spikes_df[active_spikes_df.is_included_long_pf1D]\n",
    "# active_short_spikes_df = active_spikes_df[active_spikes_df.is_included_short_pf1D]\n",
    "\n",
    "# active_spikes_df: pd.DataFrame = long_session.spikes_df.copy()\n",
    "active_spikes_df: pd.DataFrame = global_session.spikes_df.copy()\n",
    "# active_spikes_df[active_spikes_df['lap'] != -1]"
   ]
  },
  {
   "cell_type": "code",
   "execution_count": null,
   "id": "9bb48f35",
   "metadata": {},
   "outputs": [],
   "source": [
    "from neuropy.core.neuron_identities import NeuronExtendedIdentityTuple, NeuronType\n",
    "\n",
    "\n",
    "def pho_long_short_exclusivity_index(active_spikes_df: pd.DataFrame) -> pd.DataFrame:\n",
    "\t\"\"\" 2023-10-03 - Long/Short Exclusivity Metric based off of Pho's intuition. Looks at the total number of spikes over laps. Pletny of room for improvement. \n",
    "\n",
    "\t\"\"\"\n",
    "\t# active_spikes_df['neuron_type'] = active_spikes_df.map(\n",
    "\n",
    "\t# Drop rows with missing data in columns: 'lin_pos', 't' and 8 other columns\n",
    "\tactive_spikes_df = active_spikes_df.dropna(subset=['lin_pos', 't', 't_seconds', 't_rel_seconds', 'x', 'y', 'aclu', 'maze_id', 'lap', 'maze_relative_lap'])\n",
    "\t# Filter rows based on columns: 'lap', 'maze_id'\n",
    "\tactive_spikes_df = active_spikes_df[(active_spikes_df['lap'] != -1) & (active_spikes_df['maze_id'] != -1)]\n",
    "\n",
    "\t# Convert the 'neuron_type' column of the dataframe to the categorical type if needed\n",
    "\tcat_type = NeuronType.get_pandas_categories_type()\n",
    "\tif active_spikes_df[\"neuron_type\"].dtype != cat_type:\n",
    "\t\t# If this type check ever becomes a problem and we want a more liberal constraint, All instances of CategoricalDtype compare equal to the string 'category'.\n",
    "\t\tactive_spikes_df[\"neuron_type\"] = active_spikes_df[\"neuron_type\"].apply(lambda x: x.hdfcodingClassName).astype(cat_type) # NeuronType can't seem to be cast directly to the new categorical type, it results in the column being filled with NaNs. Instead cast to string first.\n",
    "\n",
    "\tactive_spikes_df = active_spikes_df.astype({'maze_id': 'category', 'lap': 'category', 'maze_relative_lap': 'category', 'aclu': 'category'})\n",
    "\t# display(active_spikes_df)\n",
    "\n",
    "\t# Performed 5 aggregations grouped on columns: 'aclu', 'maze_id', 'lap'\n",
    "\tactive_spikes_df_agg = active_spikes_df.groupby(['aclu', 'maze_id', 'maze_relative_lap']).agg(t_count=('t', 'count'), lin_pos_mean=('lin_pos', 'mean'), lin_pos_std=('lin_pos', 'std'), lin_pos_min=('lin_pos', 'min'), lin_pos_max=('lin_pos', 'max')).reset_index()\n",
    "\n",
    "\tcurr_unique_aclus = active_spikes_df_agg['aclu'].unique()\n",
    "\tcurr_unique_maze_relative_laps = active_spikes_df_agg['maze_relative_lap'].unique()\n",
    "\tn_total_entries: int = len(active_spikes_df_agg['maze_relative_lap'].unique()) * len(active_spikes_df_agg['aclu'].unique())\n",
    "\n",
    "\t# Static lists of columns:\n",
    "\trelevant_columns_list = ['aclu', 'maze_relative_lap', 't_count', 'lin_pos_mean', 'lin_pos_std', 'lin_pos_min', 'lin_pos_max']\n",
    "\trelevant_index_column_names = ['aclu', 'maze_relative_lap']\n",
    "\tnumerical_column_names = ['t_count', 'lin_pos_mean', 'lin_pos_std', 'lin_pos_min', 'lin_pos_max']\n",
    "\n",
    "\tlong_maze_df = active_spikes_df_agg[active_spikes_df_agg['maze_id'] == 1][relevant_columns_list].reset_index()\n",
    "\tshort_maze_df = active_spikes_df_agg[active_spikes_df_agg['maze_id'] == 2][relevant_columns_list].reset_index() #.set_index(['aclu', 'maze_relative_lap'])\n",
    "\n",
    "\tn_laps = len(active_spikes_df_agg['maze_relative_lap'].unique())\n",
    "\tn_long_laps = len(long_maze_df['maze_relative_lap'].unique()) \n",
    "\tn_short_laps = len(short_maze_df['maze_relative_lap'].unique()) \n",
    "\n",
    "\tn_min_laps = min(n_long_laps, n_short_laps)\n",
    "\tsafe_lap_indicies = np.arange(n_min_laps) + 1\n",
    "\tif n_long_laps > n_min_laps:\n",
    "\t\t# truncate the long laps\n",
    "\t\tlong_maze_df = long_maze_df[np.isin(long_maze_df['maze_relative_lap'], safe_lap_indicies)]\n",
    "\tif n_short_laps > n_min_laps:\n",
    "\t\t# truncate the short laps\n",
    "\t\tshort_maze_df = short_maze_df[np.isin(short_maze_df['maze_relative_lap'], safe_lap_indicies)]\n",
    "\n",
    "\t## Compute the difference between the two\n",
    "\tlong_short_maze_diff_df = long_maze_df[numerical_column_names] - short_maze_df[numerical_column_names]\n",
    "\tlong_short_maze_diff_df[relevant_index_column_names] = long_maze_df[relevant_index_column_names].copy()\n",
    "\t# long_short_maze_diff_df = long_short_maze_diff_df.set_index(relevant_index_column_names)\n",
    "\tlong_short_maze_diff_df = long_short_maze_diff_df.groupby(['aclu']).agg(t_count_sum=('t_count', 'sum'), t_count_mean=('t_count', 'mean')).reset_index() # Aggregate across all columns to get a value for each 'aclu'\n",
    "\t# , t_count_max=('t_count', 'max')\n",
    "\t# long_short_maze_diff_df.set_index('aclu')\n",
    "\t# Sort by column: 't_count_sum' (ascending)\n",
    "\tlong_short_maze_diff_df = long_short_maze_diff_df.sort_values(['t_count_sum'], na_position='first')\n",
    "\treturn long_short_maze_diff_df\n",
    "\n",
    "\n",
    "active_spikes_df: pd.DataFrame = global_session.spikes_df.copy()\n",
    "long_short_maze_diff_df = pho_long_short_exclusivity_index(active_spikes_df=active_spikes_df)\n",
    "long_short_maze_diff_df"
   ]
  },
  {
   "cell_type": "code",
   "execution_count": null,
   "id": "39b6acf8",
   "metadata": {},
   "outputs": [],
   "source": [
    "from pyphocorehelpers.indexing_helpers import partition, safe_pandas_get_group\n",
    "from pyphocorehelpers.indexing_helpers import partition_df\n",
    "\n",
    "unique_aclu_values, aclu_group_dfs = partition_df(long_short_maze_diff_df, 'aclu')\n",
    "n_aclus = len(unique_aclu_values)\n",
    "\n",
    "fig, axes = plt.subplots(nrows=n_aclus, ncols=1, sharex=True, sharey=False)\n",
    "\n",
    "for i, (aclu, aclu_df) in enumerate(zip(unique_aclu_values, aclu_group_dfs)):\n",
    "\taclu_df.plot(x='maze_relative_lap', y='t_count', label=f'{aclu}', ax=axes[i])"
   ]
  },
  {
   "cell_type": "code",
   "execution_count": null,
   "id": "c298685a",
   "metadata": {},
   "outputs": [],
   "source": [
    "long_short_maze_diff_df = long_maze_df['t_count'].to_numpy() - short_maze_df['t_count'].to_numpy()\n",
    "long_short_maze_diff_df.set_index()\n",
    "long_short_maze_diff_df.shape"
   ]
  },
  {
   "cell_type": "code",
   "execution_count": null,
   "id": "7f086f9f",
   "metadata": {},
   "outputs": [],
   "source": [
    "active_spikes_df_agg.reindex([active_spikes_df_agg['aclu'].unique(), active_spikes_df_agg['maze_relative_lap'].unique()], fill_value=0)"
   ]
  },
  {
   "cell_type": "code",
   "execution_count": null,
   "id": "ee4a8fac",
   "metadata": {},
   "outputs": [],
   "source": [
    "from pyphocorehelpers.indexing_helpers import partition, safe_pandas_get_group\n",
    "\n",
    "unique_values, group_dfs = partition(active_spikes_df_agg, 'maze_id')"
   ]
  },
  {
   "cell_type": "code",
   "execution_count": null,
   "id": "28f06f07",
   "metadata": {},
   "outputs": [],
   "source": [
    "\n",
    "unique_values, group_dfs = partition(active_spikes_df_agg, 'maze_id')\n",
    "unique_values"
   ]
  },
  {
   "cell_type": "code",
   "execution_count": null,
   "id": "ba9cf0cc",
   "metadata": {},
   "outputs": [],
   "source": [
    "safe_pandas_get_group(active_spikes_df_agg, "
   ]
  },
  {
   "cell_type": "code",
   "execution_count": null,
   "id": "44579fb4",
   "metadata": {},
   "outputs": [],
   "source": [
    "group_dfs"
   ]
  },
  {
   "cell_type": "code",
   "execution_count": null,
   "id": "8bcf8721",
   "metadata": {},
   "outputs": [],
   "source": [
    "unique_values, group_dfs = partition(active_spikes_df, 'aclu')\n",
    "unique_values"
   ]
  },
  {
   "cell_type": "code",
   "execution_count": null,
   "id": "fc7770fd",
   "metadata": {},
   "outputs": [],
   "source": [
    "for aclu "
   ]
  },
  {
   "cell_type": "code",
   "execution_count": null,
   "id": "06339961",
   "metadata": {},
   "outputs": [],
   "source": [
    "a_df = group_dfs[unique_values[0]]\n",
    "# type(a_df)\n",
    "a_df.shape # (4320, 8)\n",
    "\n"
   ]
  },
  {
   "cell_type": "code",
   "execution_count": null,
   "id": "e21e3106",
   "metadata": {},
   "outputs": [],
   "source": [
    "active_spikes_df_agg[active_spikes_df_agg['maze_id'] == 1]"
   ]
  },
  {
   "cell_type": "code",
   "execution_count": null,
   "id": "1f0bde1f",
   "metadata": {},
   "outputs": [],
   "source": [
    "active_spikes_df_agg['maze_id'].eq(1).astype(int).groupby(active_spikes_df_agg['aclu']).sum()"
   ]
  },
  {
   "cell_type": "code",
   "execution_count": null,
   "id": "1469641d",
   "metadata": {},
   "outputs": [],
   "source": [
    "# Performed 2 aggregations grouped on columns: 'aclu', 'maze_id', 'lap'\n",
    "active_spikes_df = active_spikes_df.groupby(['aclu', 'maze_id', 'lap']).agg(flat_spike_idx_count=('flat_spike_idx', 'count'), lin_pos_var=('lin_pos', 'var')).reset_index()\n"
   ]
  },
  {
   "cell_type": "code",
   "execution_count": null,
   "id": "bae5e597",
   "metadata": {},
   "outputs": [],
   "source": [
    "# Performed 5 aggregations grouped on columns: 'aclu', 'maze_id'\n",
    "active_spikes_df = active_spikes_df.groupby(['aclu', 'maze_id']).agg(t_count=('t', 'count'), lin_pos_mean=('lin_pos', 'mean'), lin_pos_std=('lin_pos', 'std'), lin_pos_min=('lin_pos', 'min'), lin_pos_max=('lin_pos', 'max')).reset_index()"
   ]
  },
  {
   "cell_type": "code",
   "execution_count": null,
   "id": "678ee8ad",
   "metadata": {},
   "outputs": [],
   "source": [
    "'maze_id'==1\n",
    "\n",
    "active_spikes_df[active_spikes_df['lap'] != -1]"
   ]
  },
  {
   "cell_type": "code",
   "execution_count": null,
   "id": "2340733a",
   "metadata": {},
   "outputs": [],
   "source": [
    "long_laps"
   ]
  },
  {
   "cell_type": "code",
   "execution_count": null,
   "id": "53f47f02",
   "metadata": {},
   "outputs": [],
   "source": [
    "short_laps"
   ]
  },
  {
   "cell_type": "code",
   "execution_count": null,
   "id": "033ee54c",
   "metadata": {},
   "outputs": [],
   "source": [
    "# column_rename_dict = {'neuron_type':'neuron_type'}\n",
    "# input_df.rename(\n",
    "\n"
   ]
  },
  {
   "cell_type": "markdown",
   "id": "0ff2939c",
   "metadata": {},
   "source": [
    "# 2023-10-03 - Recompute `long_short_inst_spike_rate_groups`, fixing result for empty LxC/SxC"
   ]
  },
  {
   "cell_type": "code",
   "execution_count": null,
   "id": "e74aa3d7",
   "metadata": {},
   "outputs": [],
   "source": [
    "curr_active_pipeline.global_computation_results.computation_config"
   ]
  },
  {
   "cell_type": "code",
   "execution_count": null,
   "id": "95ce4dc2",
   "metadata": {},
   "outputs": [],
   "source": [
    "if curr_active_pipeline.global_computation_results.computation_config is None:\n",
    "\tglobal_computation_results.computation_config = DynamicContainer(instantaneous_time_bin_size_seconds=0.01)\n",
    "else:\n",
    "\t# update the existing value\n",
    "\tcurr_active_pipeline.global_computation_results.computation_config.instantaneous_time_bin_size_seconds = 0.01\n"
   ]
  },
  {
   "cell_type": "code",
   "execution_count": null,
   "id": "4f4f5f01",
   "metadata": {},
   "outputs": [],
   "source": [
    "curr_active_pipeline.reload_default_computation_functions()\n",
    "newly_computed_values = batch_extended_computations(curr_active_pipeline, include_includelist=['long_short_inst_spike_rate_groups'], include_global_functions=True, fail_on_exception=True, progress_print=True, force_recompute=True, debug_print=False)\n",
    "newly_computed_values\n",
    "\n"
   ]
  },
  {
   "cell_type": "code",
   "execution_count": null,
   "id": "e381e39b",
   "metadata": {},
   "outputs": [],
   "source": [
    "curr_active_pipeline.save_global_computation_results()"
   ]
  },
  {
   "cell_type": "code",
   "execution_count": null,
   "id": "8cf4d149",
   "metadata": {},
   "outputs": [],
   "source": [
    "neuron_replay_stats_df"
   ]
  },
  {
   "cell_type": "markdown",
   "id": "e903acc7",
   "metadata": {},
   "source": [
    "## 2023-09-29 - Plot the LxC/SxC PhoJonathanPlots"
   ]
  },
  {
   "cell_type": "code",
   "execution_count": null,
   "id": "612d876e",
   "metadata": {},
   "outputs": [],
   "source": [
    "from pyphoplacecellanalysis.General.Batch.NonInteractiveProcessing import batch_perform_all_plots, BatchPhoJonathanFiguresHelper"
   ]
  },
  {
   "cell_type": "code",
   "execution_count": null,
   "id": "ae5922fb",
   "metadata": {},
   "outputs": [],
   "source": [
    "## all cells, sorted by custom_frs_index:\n",
    "# fig_1c_figures_all_dict = BatchPhoJonathanFiguresHelper.run(curr_active_pipeline, neuron_replay_stats_df.sort_values('custom_frs_index', ascending=True, inplace=False), included_unit_neuron_IDs=None,\n",
    "# \tn_max_page_rows=20, write_vector_format=False, write_png=False,\n",
    "# \tshow_only_refined_cells=False, disable_top_row=True, split_by_short_long_shared=False)\n",
    "\n",
    "fig_1c_figures_all_dict = BatchPhoJonathanFiguresHelper.run(curr_active_pipeline, neuron_replay_stats_df, included_unit_neuron_IDs=None,\n",
    "\tn_max_page_rows=20, write_vector_format=False, write_png=True,\n",
    "\tshow_only_refined_cells=False, disable_top_row=False, split_by_short_long_shared=False)\n"
   ]
  },
  {
   "cell_type": "code",
   "execution_count": null,
   "id": "ad664f21",
   "metadata": {},
   "outputs": [],
   "source": []
  },
  {
   "cell_type": "code",
   "execution_count": null,
   "id": "b6ba5b1f",
   "metadata": {},
   "outputs": [],
   "source": [
    "fig_1c_figures_out_dict = BatchPhoJonathanFiguresHelper.run(curr_active_pipeline, neuron_replay_stats_df, included_unit_neuron_IDs=long_exclusive.get_refined_track_exclusive_aclus(), n_max_page_rows=20, write_vector_format=False, write_png=True, show_only_refined_cells=True, disable_top_row=True)\n",
    "fig_1c_figures_out_dict = BatchPhoJonathanFiguresHelper.run(curr_active_pipeline, neuron_replay_stats_df, included_unit_neuron_IDs=short_exclusive.get_refined_track_exclusive_aclus(), n_max_page_rows=20, write_vector_format=False, write_png=True, show_only_refined_cells=True, disable_top_row=True)\n"
   ]
  },
  {
   "cell_type": "code",
   "execution_count": null,
   "id": "1ac53d86",
   "metadata": {},
   "outputs": [],
   "source": [
    "fig_1c_figures_out_dict = BatchPhoJonathanFiguresHelper.run(curr_active_pipeline, neuron_replay_stats_df, included_unit_neuron_IDs=XOR_subset.track_exclusive_aclus, n_max_page_rows=20, write_vector_format=False, write_png=save_figure, disable_top_row=True) # active_out_figures_dict: {IdentifyingContext<('kdiba', 'gor01', 'two', '2006-6-07_16-40-19', 'BatchPhoJonathanReplayFRC', 'long_only', '(12,21,48)')>: <Figure size 1920x660 with 12 Axes>, IdentifyingContext<('kdiba', 'gor01', 'two', '2006-6-07_16-40-19', 'BatchPhoJonathanReplayFRC', 'short_only', '(18,19,65)')>: <Figure size 1920x660 with 12 Axes>}\n"
   ]
  },
  {
   "cell_type": "code",
   "execution_count": null,
   "id": "11ae906f",
   "metadata": {},
   "outputs": [],
   "source": [
    "\n",
    "fig_1c_figures_out_dict = BatchPhoJonathanFiguresHelper.run(curr_active_pipeline, neuron_replay_stats_df, included_unit_neuron_IDs=XOR_subset.get_refined_track_exclusive_aclus(), n_max_page_rows=20, write_vector_format=False, write_png=True, show_only_refined_cells=True, disable_top_row=True)"
   ]
  },
  {
   "cell_type": "code",
   "execution_count": null,
   "id": "2e290fc7",
   "metadata": {},
   "outputs": [],
   "source": [
    "neuron_replay_stats_df = jonathan_firing_rate_analysis_result.neuron_replay_stats_df.copy()\n",
    "\n",
    "np.sum(np.logical_xor(neuron_replay_stats_df['is_refined_LxC'], neuron_replay_stats_df['is_refined_SxC']))"
   ]
  },
  {
   "cell_type": "code",
   "execution_count": null,
   "id": "941cc7ce",
   "metadata": {},
   "outputs": [],
   "source": [
    "np.sum(np.logical_and(neuron_replay_stats_df['is_refined_LxC'], neuron_replay_stats_df['is_refined_SxC']))"
   ]
  },
  {
   "cell_type": "code",
   "execution_count": null,
   "id": "0460c6e5",
   "metadata": {
    "notebookRunGroups": {
     "groupValue": ""
    }
   },
   "outputs": [],
   "source": [
    "# uses global's 'extended_stats' results for relative entropy (surprise) analyses:\n",
    "\n",
    "import tables as tb\n",
    "\n",
    "\n",
    "# {\n",
    "# 't': Tuple[float, float],\n",
    "# 'snapshots': Tuple[PlacefieldSnapshot, PlacefieldSnapshot],\n",
    "# 'relative_entropy_result_dict': {\n",
    "# \t\t'long_short_rel_entr_curve': np.array,\n",
    "# \t\t...\n",
    "# \t\t'jensen_shannon_distance': np.array,\n",
    "# \t} # 5 items\n",
    "# } # 3 items\n",
    "# Dict[float, PlacefieldSnapshot]\n",
    "\n",
    "def relative_entropy_to_h5(global_results, file_path='output/test_relative_entropy_numpy_arrays.h5'):\n",
    "\tprint(f'relative_entropy_to_h5(...)')\n",
    "\n",
    "\tactive_extended_stats = global_results['extended_stats']\n",
    "\tactive_relative_entropy_results = active_extended_stats['pf_dt_sequential_surprise'] # DynamicParameters\n",
    "\tpost_update_times: np.ndarray = active_relative_entropy_results['post_update_times'] # (4152,) = (n_post_update_times,)\n",
    "\tsnapshot_differences_result_dict = active_relative_entropy_results['snapshot_differences_result_dict']\n",
    "\ttime_intervals: np.ndarray = active_relative_entropy_results['time_intervals']\n",
    "\tlong_short_rel_entr_curves_frames: np.ndarray = active_relative_entropy_results['long_short_rel_entr_curves_frames'] # (4152, 108, 63) = (n_post_update_times, n_neurons, n_xbins)\n",
    "\tshort_long_rel_entr_curves_frames: np.ndarray = active_relative_entropy_results['short_long_rel_entr_curves_frames'] # (4152, 108, 63) = (n_post_update_times, n_neurons, n_xbins)\n",
    "\tflat_relative_entropy_results: np.ndarray = active_relative_entropy_results['flat_relative_entropy_results'] # (149, 63) - (nSnapshots, nXbins)\n",
    "\tflat_jensen_shannon_distance_results: np.ndarray = active_relative_entropy_results['flat_jensen_shannon_distance_results'] # (149, 63) - (nSnapshots, nXbins)\n",
    "\tflat_jensen_shannon_distance_across_all_positions: np.ndarray = np.sum(np.abs(flat_jensen_shannon_distance_results), axis=1) # sum across all position bins # (4152,) - (nSnapshots)\n",
    "\tflat_surprise_across_all_positions: np.ndarray = np.sum(np.abs(flat_relative_entropy_results), axis=1) # sum across all position bins # (4152,) - (nSnapshots)\n",
    "\t\n",
    "\t# Create an HDF5 file\n",
    "\twith tb.open_file(file_path, mode=\"w\") as hdf5_file:\n",
    "\t\tprint(f'trying to write to \"{file_path}\"...')\n",
    "\t\t# Create groups for organization\n",
    "\t\troot = hdf5_file.root\n",
    "\t\tgroup = hdf5_file.create_group(root, 'relative_entropy_results')\n",
    "\t\t\n",
    "\t\t# Store np.ndarrays in the HDF5 file\n",
    "\t\thdf5_file.create_array(group, 'post_update_times', post_update_times)\n",
    "\t\thdf5_file.create_array(group, 'time_intervals', time_intervals)\n",
    "\t\thdf5_file.create_array(group, 'long_short_rel_entr_curves_frames', long_short_rel_entr_curves_frames)\n",
    "\t\thdf5_file.create_array(group, 'short_long_rel_entr_curves_frames', short_long_rel_entr_curves_frames)\n",
    "\t\thdf5_file.create_array(group, 'flat_relative_entropy_results', flat_relative_entropy_results)\n",
    "\t\thdf5_file.create_array(group, 'flat_jensen_shannon_distance_results', flat_jensen_shannon_distance_results)\n",
    "\t\thdf5_file.create_array(group, 'flat_jensen_shannon_distance_across_all_positions', flat_jensen_shannon_distance_across_all_positions)\n",
    "\t\thdf5_file.create_array(group, 'flat_surprise_across_all_positions', flat_surprise_across_all_positions)\n",
    "\t\n",
    "\tprint(f'\\t done!')\n",
    "\t\n",
    "\n",
    "relative_entropy_to_h5(global_results, file_path='output/test_relative_entropy_numpy_arrays.h5')"
   ]
  },
  {
   "cell_type": "code",
   "execution_count": null,
   "id": "11c6b0b6",
   "metadata": {},
   "outputs": [],
   "source": [
    "curr_active_pipeline.export_pipeline_to_h5()\n"
   ]
  },
  {
   "cell_type": "code",
   "execution_count": null,
   "id": "9bbf2641",
   "metadata": {},
   "outputs": [],
   "source": [
    "snapshot_differences_result_dict\n",
    "\n",
    "flat_jensen_shannon_distance_results"
   ]
  },
  {
   "cell_type": "code",
   "execution_count": null,
   "id": "06537c0b",
   "metadata": {},
   "outputs": [],
   "source": [
    "active_relative_entropy_results\n",
    "# type(active_relative_entropy_results)"
   ]
  },
  {
   "cell_type": "code",
   "execution_count": null,
   "id": "fdd2f58e",
   "metadata": {},
   "outputs": [],
   "source": [
    "neuron_replay_stats_df: pd.DataFrame = jonathan_firing_rate_analysis_result.neuron_replay_stats_df\n",
    "neuron_replay_stats_df\n"
   ]
  },
  {
   "cell_type": "code",
   "execution_count": null,
   "id": "6d613474",
   "metadata": {},
   "outputs": [],
   "source": [
    "# Test classifying various x-positions as belonging to outside the outside_maze, the track_endcaps, or the track_body\n",
    "from enum import Enum\n",
    "\n",
    "class TrackPositionClassification(Enum):\n",
    "    OUTSIDE_MAZE = \"outside_maze\"\n",
    "    TRACK_ENDCAPS = \"track_endcaps\"\n",
    "    TRACK_BODY = \"track_body\"\n",
    "\n",
    "\n",
    "neuron_replay_stats_df: pd.DataFrame = jonathan_firing_rate_analysis_result.neuron_replay_stats_df\n",
    "short_pf_peak_x = neuron_replay_stats_df.short_pf_peak_x\n",
    "long_pf_peak_x = neuron_replay_stats_df.long_pf_peak_x"
   ]
  },
  {
   "cell_type": "code",
   "execution_count": null,
   "id": "ce8b2a9b",
   "metadata": {},
   "outputs": [],
   "source": [
    "rate_remapping_df[np.isin(rate_remapping_df.index, significant_distant_remapping_endcap_aclus)]"
   ]
  },
  {
   "cell_type": "code",
   "execution_count": null,
   "id": "51571ab2",
   "metadata": {},
   "outputs": [],
   "source": [
    "inst_spike_rate_groups_result: InstantaneousSpikeRateGroupsComputation = curr_active_pipeline.global_computation_results.computed_data.long_short_inst_spike_rate_groups\n",
    "# custom_InstSpikeRateTrends_df = inst_spike_rate_groups_result.all_incl_endPlatforms_InstSpikeRateTrends_df\n",
    "# if not hasattr(inst_spike_rate_groups_result, 'all_incl_endPlatforms_InstSpikeRateTrends_df'):\n",
    "# \tinst_spike_rate_groups_result.all_incl_endPlatforms_InstSpikeRateTrends_df = pd.DataFrame()"
   ]
  },
  {
   "cell_type": "code",
   "execution_count": null,
   "id": "628c789f",
   "metadata": {
    "notebookRunGroups": {
     "groupValue": ""
    }
   },
   "outputs": [],
   "source": [
    "# 2023-09-14 - Find cells outside the bounds of the short track\n",
    "# Modifies the `jonathan_firing_rate_analysis_result.neuron_replay_stats_df` in-place instead of creating a copy:\n",
    "# neuron_replay_stats_df = deepcopy(jonathan_firing_rate_analysis_result.neuron_replay_stats_df)\n",
    "neuron_replay_stats_df: pd.DataFrame = jonathan_firing_rate_analysis_result.neuron_replay_stats_df\n",
    "# Extract the peaks of the long placefields to find ones that have peaks outside the boundaries\n",
    "# long_pf_peaks = neuron_replay_stats_df[neuron_replay_stats_df['has_long_pf']]['long_pf_peak_x'] - 150.0 # this shift of 150.0 is to center the midpoint of the track at 0. \n",
    "# # display(long_pf_peaks)\n",
    "# is_left_cap = (long_pf_peaks < -72.0)\n",
    "# is_right_cap = (long_pf_peaks > 72.0)\n",
    "# is_either_cap =  np.logical_or(is_left_cap, is_right_cap)\n",
    "\n",
    "# # Adds ['is_long_peak_left_cap', 'is_long_peak_right_cap', 'is_long_peak_either_cap'] columns: \n",
    "# neuron_replay_stats_df['is_long_peak_left_cap'] = False\n",
    "# neuron_replay_stats_df['is_long_peak_right_cap'] = False\n",
    "# neuron_replay_stats_df.loc[is_left_cap.index, 'is_long_peak_left_cap'] = is_left_cap # True\n",
    "# neuron_replay_stats_df.loc[is_right_cap.index, 'is_long_peak_right_cap'] = is_right_cap # True\n",
    "# neuron_replay_stats_df['is_long_peak_either_cap'] = np.logical_or(neuron_replay_stats_df['is_long_peak_left_cap'], neuron_replay_stats_df['is_long_peak_right_cap'])\n",
    "# adds ['LS_pf_peak_x_diff'] column\n",
    "# neuron_replay_stats_df['LS_pf_peak_x_diff'] = neuron_replay_stats_df['long_pf_peak_x'] - neuron_replay_stats_df['short_pf_peak_x']\n",
    "neuron_replay_stats_df.is_long_peak_either_cap\n",
    "\n",
    "## Extract just the endcap cells:\n",
    "cap_cells_df = neuron_replay_stats_df[np.logical_and(neuron_replay_stats_df['has_long_pf'], neuron_replay_stats_df['is_long_peak_either_cap'])]\n",
    "cap_aclus = cap_cells_df.index\n",
    "num_total_endcap_cells = len(cap_aclus)\n",
    "display(num_total_endcap_cells)\n",
    "\n",
    "# \"Disppearing\" cells fall below the 1Hz firing criteria on the short track:\n",
    "disappearing_endcap_cells_df = cap_cells_df[np.logical_not(cap_cells_df['has_short_pf'])]\n",
    "disappearing_endcap_aclus = disappearing_endcap_cells_df.index\n",
    "num_disappearing_endcap_cells = len(disappearing_endcap_aclus)\n",
    "print(f'num_disappearing_endcap_cells/num_total_endcap_cells: {num_disappearing_endcap_cells}/{num_total_endcap_cells}')\n",
    "\n",
    "non_disappearing_endcap_cells_df = cap_cells_df[cap_cells_df['has_short_pf']] # \"non_disappearing\" cells are those with a placefield on the short track as well\n",
    "num_non_disappearing_endcap_cells = len(non_disappearing_endcap_cells_df)\n",
    "print(f'num_non_disappearing_endcap_cells/num_total_endcap_cells: {num_non_disappearing_endcap_cells}/{num_total_endcap_cells}')\n",
    "\n",
    "# display(non_disappearing_endcap_cells_df)\n",
    "# non_disappearing_endcap_cells_df['LS_pf_peak_x_diff'] = non_disappearing_endcap_cells_df['long_pf_peak_x'] - non_disappearing_endcap_cells_df['short_pf_peak_x']\n",
    "# display(non_disappearing_endcap_cells_df)\n",
    "\n",
    "# Classify the non_disappearing cells into two groups:\n",
    "# 1. Those that exhibit significant remapping onto somewhere else on the track\n",
    "non_disappearing_endcap_cells_df['has_significant_distance_remapping'] = (np.abs(non_disappearing_endcap_cells_df['LS_pf_peak_x_diff']) >= 40.0) # The most a placefield could translate intwards would be (35 + (pf_width/2.0)) I think.\n",
    "num_significant_position_remappping_endcap_cells = len(non_disappearing_endcap_cells_df[non_disappearing_endcap_cells_df['has_significant_distance_remapping'] == True])\n",
    "print(f'num_significant_position_remappping_endcap_cells/num_non_disappearing_endcap_cells: {num_significant_position_remappping_endcap_cells}/{num_non_disappearing_endcap_cells}')\n",
    "\n",
    "# 2. Those that seem to remain where they were on the long track, perhaps being \"sampling-clipped\" or translated adjacent to the platform. These two subcases can be distinguished by a change in the placefield's length (truncated cells would be a fraction of the length, although might need to account for scaling with new track length)\n",
    "minorly_changed_endcap_cells_df = non_disappearing_endcap_cells_df[non_disappearing_endcap_cells_df['has_significant_distance_remapping'] == False]\n",
    "\n",
    "non_disappearing_endcap_cells_df\n",
    "# endcaps:\n",
    "significant_distant_remapping_endcap_aclus = non_disappearing_endcap_cells_df[non_disappearing_endcap_cells_df['has_significant_distance_remapping']].index.to_numpy() # Int64Index([3, 5, 7, 11, 14, 38, 41, 53, 57, 61, 62, 75, 78, 79, 82, 83, 85, 95, 98, 100, 102], dtype='int64')\n",
    "significant_distant_remapping_endcap_aclus\n",
    "minor_remapping_endcap_aclus = minorly_changed_endcap_cells_df.index.to_numpy()\n",
    "minor_remapping_endcap_aclus\n",
    "jonathan_firing_rate_analysis_result.neuron_replay_stats_df"
   ]
  },
  {
   "cell_type": "code",
   "execution_count": null,
   "id": "568e1351",
   "metadata": {},
   "outputs": [],
   "source": [
    "significant_distant_remapping_endcap_df = jonathan_firing_rate_analysis_result.neuron_replay_stats_df[np.isin(jonathan_firing_rate_analysis_result.neuron_replay_stats_df.index, significant_distant_remapping_endcap_aclus)]\n",
    "significant_distant_remapping_endcap_df"
   ]
  },
  {
   "cell_type": "code",
   "execution_count": null,
   "id": "1d8f1fad",
   "metadata": {},
   "outputs": [],
   "source": [
    "# Will these remapped cells be included in replays after the delta?\n",
    "num_short_replays = non_disappearing_endcap_cells_df['short_num_replays']\n",
    "short_replay_mean_fr_Hz = non_disappearing_endcap_cells_df['replay_diff']\n"
   ]
  },
  {
   "cell_type": "markdown",
   "id": "fb68efff",
   "metadata": {},
   "source": [
    "# 2023-10-11 - sanity check the Jensen-Shannon distance metric by computing for each placefield curve:\n",
    "As a sanity check, compute the Jensen-Shannon Distance between each of the distributions for the long/short curve. Expected to see that non-trivially remapping cells had a greater JS-distance than the others.\n",
    "### NO: It doesn't work, not even a little bit. Returns inf values for curves containing no infs"
   ]
  },
  {
   "cell_type": "code",
   "execution_count": null,
   "id": "00fc7b1b",
   "metadata": {},
   "outputs": [],
   "source": [
    "jonathan_firing_rate_analysis_result: JonathanFiringRateAnalysisResult = curr_active_pipeline.global_computation_results.computed_data.jonathan_firing_rate_analysis\n",
    "# (epochs_df_L, epochs_df_S), (filter_epoch_spikes_df_L, filter_epoch_spikes_df_S), (good_example_epoch_indicies_L, good_example_epoch_indicies_S), (short_exclusive, long_exclusive, BOTH_subset, EITHER_subset, XOR_subset, NEITHER_subset), new_all_aclus_sort_indicies, assigning_epochs_obj = PAPER_FIGURE_figure_1_add_replay_epoch_rasters(curr_active_pipeline)\n",
    "\n",
    "## long_short_endcap_analysis:\n",
    "truncation_checking_result: TruncationCheckingResults = curr_active_pipeline.global_computation_results.computed_data.long_short_endcap\n",
    "disappearing_endcap_aclus = truncation_checking_result.disappearing_endcap_aclus\n",
    "trivially_remapping_endcap_aclus = truncation_checking_result.minor_remapping_endcap_aclus\n",
    "significant_distant_remapping_endcap_aclus = truncation_checking_result.significant_distant_remapping_endcap_aclus\n",
    "appearing_aclus = jonathan_firing_rate_analysis_result.neuron_replay_stats_df[jonathan_firing_rate_analysis_result.neuron_replay_stats_df['track_membership'] == SplitPartitionMembership.RIGHT_ONLY].index\n"
   ]
  },
  {
   "cell_type": "code",
   "execution_count": null,
   "id": "11685400",
   "metadata": {},
   "outputs": [],
   "source": [
    "# long_pf1D.ratemap.unsmoothed_tuning_maps.shape\n",
    "\n",
    "long_1DMaps = long_pf1D.get_by_id(trivially_remapping_endcap_aclus).ratemap.unsmoothed_tuning_maps # (15, 107)\n",
    "short_1DMaps = short_pf1D.get_by_id(trivially_remapping_endcap_aclus).ratemap.unsmoothed_tuning_maps # .shape\n"
   ]
  },
  {
   "cell_type": "code",
   "execution_count": null,
   "id": "11a6806b",
   "metadata": {},
   "outputs": [],
   "source": [
    "## NOTE: these results are NOT the same as the ones calculated in compute_snapshot_relative_entropy_surprise_differences.compute_surprise_relative_entropy_divergence, and I'm not quite sure why:\n",
    "# Jensen-Shannon distance is an average of KL divergence:\n",
    "\n",
    "from scipy.special import rel_entr\n",
    "from scipy.stats import wasserstein_distance\n",
    "\n",
    "# 2023-10-11 - Earth mover's distance\n",
    "from scipy.spatial.distance import cdist\n",
    "from scipy.optimize import linear_sum_assignment\n",
    "\n",
    "# def compute_surprise_relative_entropy_divergence(long_curve, short_curve):\n",
    "# \t\"\"\" Pre 2023-03-10 Refactoring:\n",
    "# \tGiven two tuning maps, computes the surprise (in terms of the KL-divergence a.k.a. relative entropy) between the two\n",
    "# \tReturns a dictionary containing the results in both directions\n",
    "\n",
    "# \tTODO 2023-03-08 02:41: - [ ] Convert naming convention from long_, short_ to lhs_, rhs_ to be general\n",
    "# \tTODO 2023-03-08 02:47: - [ ] Convert output dict to a dataclass\n",
    "\n",
    "# \tfrom pyphoplacecellanalysis.General.Pipeline.Stages.ComputationFunctions.ExtendedStats import compute_surprise_relative_entropy_divergence\n",
    "\n",
    "# \t\"\"\"\n",
    "# \tlong_short_rel_entr_curve = rel_entr(long_curve, short_curve)\n",
    "# \tlong_short_relative_entropy = sum(long_short_rel_entr_curve) \n",
    "# \tshort_long_rel_entr_curve = rel_entr(short_curve, long_curve)\n",
    "# \tshort_long_relative_entropy = sum(short_long_rel_entr_curve)\n",
    "# \t# Jensen-Shannon distance is an average of KL divergence:\n",
    "# \tmixture_distribution = 0.5 * (long_curve + short_curve)\n",
    "# \tjensen_shannon_distance = 0.5 * (sum(rel_entr(mixture_distribution, long_curve)) + sum(rel_entr(mixture_distribution, short_curve))) # is this right? I'm confused by sum(...)\n",
    "\n",
    "# \treturn dict(long_short_rel_entr_curve=long_short_rel_entr_curve, long_short_relative_entropy=long_short_relative_entropy, short_long_rel_entr_curve=short_long_rel_entr_curve, short_long_relative_entropy=short_long_relative_entropy,\n",
    "# \t\t\tjensen_shannon_distance=jensen_shannon_distance)\n",
    "\n",
    "\n",
    "\n",
    "# def JS_Distance(long_short_rel_entr_curves_frames, short_long_rel_entr_curves_frames):\n",
    "# \t\"\"\" seems incorrect. Returns a vector of Inf values for JS-Distance\"\"\"\n",
    "# \tmixture_distribution = 0.5 * (long_short_rel_entr_curves_frames + short_long_rel_entr_curves_frames)\n",
    "# \tprint(f'mixture_distribution.shape: {np.shape(mixture_distribution)}') # (nSnapshots, n_neurons, n_xbins)\n",
    "# \t# jensen_shannon_distance = 0.5 * (sum(rel_entr(mixture_distribution, long_short_rel_entr_curves_frames)) + sum(rel_entr(mixture_distribution, short_long_rel_entr_curves_frames))) # is this right? I'm confused by sum(...) # (n_neurons, n_xbins)\n",
    "# \tjensen_shannon_distance = 0.5 * (np.sum(rel_entr(mixture_distribution, long_short_rel_entr_curves_frames), axis=1) + np.sum(rel_entr(mixture_distribution, short_long_rel_entr_curves_frames), axis=1)) # alt version: (nSnapshots, n_xbins)\n",
    "# \tprint(f'jensen_shannon_distance.shape: {np.shape(jensen_shannon_distance)}') # (n_neurons, n_xbins)\n",
    "# \treturn jensen_shannon_distance, mixture_distribution\n",
    "\n",
    "\n",
    "def earth_movers_distance(long_1DMaps, short_1DMaps):\n",
    "\tn_cells = np.shape(short_1DMaps)[0]\n",
    "\t# return np.array([cdist(np.atleast_2d(np.squeeze(long_1DMaps[i,:])), np.atleast_2d(np.squeeze(short_1DMaps[i,:])), 'jensenshannon')[0,0] for i in np.arange(n_cells)])\n",
    "\treturn np.array([wasserstein_distance(np.squeeze(long_1DMaps[i,:]), np.squeeze(short_1DMaps[i,:])) for i in np.arange(n_cells)])\n",
    "\n",
    "\n",
    "\n",
    "\n",
    "# i = 0\n",
    "# js_result_dict = compute_surprise_relative_entropy_divergence(np.squeeze(long_1DMaps[i,:]), np.squeeze(short_1DMaps[i,:]))\n",
    "# js_result_dict\n",
    "# js_result_dict['jensen_shannon_distance']\n",
    "# js_result_dict['long_short_rel_entr_curve']\n",
    "\n",
    "# jensen_shannon_distance, mixture_distribution = JS_Distance(long_1DMaps, short_1DMaps)\n",
    "# jensen_shannon_distance\n",
    "\n",
    "# earth_movers_distance = cdist(long_1DMaps, short_1DMaps, 'jensenshannon')\n",
    "\n",
    "# n_cells = np.shape(short_1DMaps)[0]\n",
    "# earth_movers_distance = np.array([cdist(np.atleast_2d(np.squeeze(long_1DMaps[i,:])), np.atleast_2d(np.squeeze(short_1DMaps[i,:])), 'jensenshannon')[0,0] for i in np.arange(n_cells)])\n",
    "\t\n"
   ]
  },
  {
   "cell_type": "code",
   "execution_count": null,
   "id": "2e930baf",
   "metadata": {},
   "outputs": [],
   "source": [
    "\n",
    "# long_1DMaps = long_pf1D.get_by_id(trivially_remapping_endcap_aclus).ratemap.unsmoothed_tuning_maps # (15, 107)\n",
    "# short_1DMaps = short_pf1D.get_by_id(trivially_remapping_endcap_aclus).ratemap.unsmoothed_tuning_maps # .shape\n",
    "\n",
    "# appearing_earth_movers_distance = earth_movers_distance(long_pf1D.get_by_id(appearing_aclus).ratemap.unsmoothed_tuning_maps, short_pf1D.get_by_id(appearing_aclus).ratemap.unsmoothed_tuning_maps)\n",
    "\n",
    "# get_curve_fn = lambda x: x.unsmoothed_tuning_maps\n",
    "get_curve_fn = lambda x: x.unsmoothed_tuning_maps\n",
    "\n",
    "trivially_remapping_endcap_earth_movers_distance = earth_movers_distance(get_curve_fn(long_pf1D.get_by_id(trivially_remapping_endcap_aclus).ratemap), get_curve_fn(short_pf1D.get_by_id(trivially_remapping_endcap_aclus).ratemap))\n",
    "significant_distant_remapping_earth_movers_distance = earth_movers_distance(get_curve_fn(long_pf1D.get_by_id(significant_distant_remapping_endcap_aclus).ratemap), get_curve_fn(short_pf1D.get_by_id(significant_distant_remapping_endcap_aclus).ratemap))\n",
    "disappearing_endcap_earth_movers_distance = earth_movers_distance(get_curve_fn(long_pf1D.get_by_id(disappearing_endcap_aclus).ratemap), get_curve_fn(short_pf1D.get_by_id(disappearing_endcap_aclus).ratemap))\n",
    "\n",
    "\n",
    "# earth_movers_distance = cdist(np.atleast_2d(np.squeeze(long_1DMaps[i,:])), np.atleast_2d(np.squeeze(short_1DMaps[i,:])), 'jensenshannon')[0]\n",
    "# trivially_remapping_endcap_earth_movers_distance\n",
    "# earth_movers_distance.shape\n",
    "\n",
    "trivially_remapping_endcap_earth_movers_distance"
   ]
  },
  {
   "cell_type": "code",
   "execution_count": null,
   "id": "98c0aa64",
   "metadata": {},
   "outputs": [],
   "source": [
    "significant_distant_remapping_earth_movers_distance\n"
   ]
  },
  {
   "cell_type": "code",
   "execution_count": null,
   "id": "65765e0c",
   "metadata": {},
   "outputs": [],
   "source": [
    "np.mean(trivially_remapping_endcap_earth_movers_distance)\n",
    "\n"
   ]
  },
  {
   "cell_type": "code",
   "execution_count": null,
   "id": "f9d139cb",
   "metadata": {},
   "outputs": [],
   "source": [
    "np.mean(significant_distant_remapping_earth_movers_distance)\n",
    "# fig, ax = plt.subplots()\n",
    "# ax.scatter(\n"
   ]
  },
  {
   "cell_type": "markdown",
   "id": "0bcb50e6",
   "metadata": {},
   "source": [
    "## 2023-09-20 - Plot the significantly remapping cells using the lower-level `plot_short_v_long_pf1D_comparison` function"
   ]
  },
  {
   "cell_type": "code",
   "execution_count": null,
   "id": "4ebc2de1",
   "metadata": {},
   "outputs": [],
   "source": [
    "from pyphoplacecellanalysis.General.Pipeline.Stages.DisplayFunctions.MultiContextComparingDisplayFunctions.LongShortTrackComparingDisplayFunctions import plot_short_v_long_pf1D_comparison\n",
    "from neuropy.utils.matplotlib_helpers import perform_update_title_subtitle\n",
    "from pyphoplacecellanalysis.Pho2D.track_shape_drawing import add_vertical_track_bounds_lines, add_track_shapes\n",
    "from neuropy.plotting.ratemaps import plot_ratemap_1D\n",
    "from pyphoplacecellanalysis.General.Model.Configs.LongShortDisplayConfig import LongShortDisplayConfigManager\n",
    "\n",
    "curr_active_pipeline.reload_default_display_functions()\n",
    "\n",
    "graphics_output_dict = {}\n",
    "active_context: IdentifyingContext = curr_active_pipeline.get_session_context()\n",
    "\n",
    "long_short_display_config_manager = LongShortDisplayConfigManager()\n",
    "long_epoch_config = long_short_display_config_manager.long_epoch_config.as_pyqtgraph_kwargs()\n",
    "short_epoch_config = long_short_display_config_manager.short_epoch_config.as_pyqtgraph_kwargs()\n",
    "\n",
    "long_epoch_matplotlib_config = long_short_display_config_manager.long_epoch_config.as_matplotlib_kwargs()\n",
    "short_epoch_matplotlib_config = long_short_display_config_manager.short_epoch_config.as_matplotlib_kwargs()\n",
    "\n",
    "shared_kwargs = dict(pad=1, cmap='hsv', active_context=curr_active_pipeline.get_session_context(), plot_zero_baselines=True, skip_figure_titles=True, use_flexitext_titles=True, flat_stack_mode=False)\n",
    "top_level_shared_kwargs = dict(should_plot_vertical_track_bounds_lines=True, sortby='peak_long')\n",
    "# top_level_shared_kwargs = dict(should_plot_vertical_track_bounds_lines=False, should_plot_linear_track_shapes=True) # Renders the linear track shape on the maze. Assumes `flat_stack_mode=True`\n",
    "\n",
    "\n",
    "# # flat_stack_mode: all placefields are stacked up (z-wise) on top of each other on a single axis with no offsets:\n",
    "# shared_kwargs = dict(pad=1, active_context=curr_active_pipeline.get_session_context(), plot_zero_baselines=True, skip_figure_titles=True, use_flexitext_titles=True, flat_stack_mode=True)\n",
    "# top_level_shared_kwargs = dict(should_plot_vertical_track_bounds_lines=False, should_plot_linear_track_shapes=True) # Renders the linear track shape on the maze. Assumes `flat_stack_mode=True`"
   ]
  },
  {
   "cell_type": "code",
   "execution_count": null,
   "id": "ec159e8a",
   "metadata": {},
   "outputs": [],
   "source": [
    "# 2023-09-21 - Plot All\n",
    "graphics_output_dict = graphics_output_dict | fig_remapping_cells(curr_active_pipeline)"
   ]
  },
  {
   "cell_type": "code",
   "execution_count": null,
   "id": "0e180fbd",
   "metadata": {},
   "outputs": [],
   "source": [
    "'hsv'"
   ]
  },
  {
   "cell_type": "code",
   "execution_count": null,
   "id": "f8c748dd",
   "metadata": {
    "tags": [
     "active"
    ]
   },
   "outputs": [],
   "source": [
    "long_single_cell_pfmap_processing_fn = None\n",
    "short_single_cell_pfmap_processing_fn = None\n",
    "sort_idx = None\n",
    "# sort_idx = sort_ind\n",
    "# sort_idx = sort_indicies\n",
    "# sort_idx = new_all_aclus_sort_indicies\n",
    "# sort_idx = np.flip( np.arange(len(shared_aclus_only_neuron_IDs)))\n",
    "sort_idx = 'peak_long'\n",
    "# sort_idx = 'bad'\n",
    "\n",
    "pf1d_compare_graphics = curr_active_pipeline.display('_display_short_long_pf1D_comparison', curr_active_pipeline.get_session_context(), single_figure=True, debug_print=False, fignum='Short v Long pf1D Comparison',\n",
    "\t\t\t\t\t\t\t\tlong_kwargs={'sortby': sort_idx, 'single_cell_pfmap_processing_fn': long_single_cell_pfmap_processing_fn},\n",
    "\t\t\t\t\t\t\t\tshort_kwargs={'sortby': sort_idx, 'single_cell_pfmap_processing_fn': short_single_cell_pfmap_processing_fn, 'curve_hatch_style': {'hatch':'///', 'edgecolor':'k'}},\n",
    "\t\t\t\t\t\t\t\tshared_kwargs={'cmap': 'hsv'},\n",
    "\t\t\t\t\t\t\t\tincluded_any_context_neuron_ids=shared_aclus_only_neuron_IDs,\n",
    "\t\t\t\t\t\t\t\tsave_figure=False,\n",
    "\t\t\t\t\t\t\t\tdefer_render=False\n",
    "\t\t\t\t\t\t\t\t)\n"
   ]
  },
  {
   "cell_type": "code",
   "execution_count": null,
   "id": "96e4945a",
   "metadata": {},
   "outputs": [],
   "source": [
    "# example_aclus = [7, 38] # 95 was BAAAAD\n",
    "# # flat_stack_mode: all placefields are stacked up (z-wise) on top of each other on a single axis with no offsets:\n",
    "example_shared_kwargs = dict(pad=1, active_context=curr_active_pipeline.get_session_context(), plot_zero_baselines=True, skip_figure_titles=True, use_flexitext_titles=True, flat_stack_mode=False)\n",
    "example_top_level_shared_kwargs = dict(should_plot_vertical_track_bounds_lines=True, should_plot_linear_track_shapes=True) # Renders the linear track shape on the maze. Assumes `flat_stack_mode=True`\n",
    "\n",
    "# (fig_long_pf_1D, ax_long_pf_1D, long_sort_ind, long_neurons_colors_array), (fig_short_pf_1D, ax_short_pf_1D, short_sort_ind, short_neurons_colors_array) = plot_short_v_long_pf1D_comparison(long_results, short_results, example_aclus, reuse_axs_tuple=None, single_figure=True, title_string=\"Example Non-Neighbor Preserving Remapping Cells\", subtitle_string=f\"2 Example Cells {example_aclus}\", shared_kwargs=example_shared_kwargs, **example_top_level_shared_kwargs)\n",
    "_out = curr_active_pipeline.display('_display_short_long_pf1D_comparison', curr_active_pipeline.get_session_context(), included_any_context_neuron_ids=shared_aclus_only_neuron_IDs, reuse_axs_tuple=None, single_figure=True, title_string=\"Shared PFs Only Cells\", subtitle_string=f\"{len(shared_aclus_only_neuron_IDs)} Cells\", shared_kwargs=example_shared_kwargs, **example_top_level_shared_kwargs)\n",
    "\t\n",
    "\n"
   ]
  },
  {
   "cell_type": "code",
   "execution_count": null,
   "id": "e6c851fd",
   "metadata": {},
   "outputs": [],
   "source": [
    "bimodal_exclude_aclus = [5, 14, 46, 61, 66, 86, 88, 95]"
   ]
  },
  {
   "cell_type": "code",
   "execution_count": null,
   "id": "2d8f601d",
   "metadata": {},
   "outputs": [],
   "source": [
    "# Extract long/short plotting data from the figure for use in other plots:\n",
    "included_any_context_neuron_ids = pf1d_compare_graphics.plot_data['included_any_context_neuron_ids']\n",
    "long_sort_ind, short_sort_ind = pf1d_compare_graphics.plot_data['sort_indicies']\n",
    "long_neurons_colors_array, short_neurons_colors_array = pf1d_compare_graphics.plot_data['colors']\n",
    "\n",
    "display(long_sort_ind)\n",
    "display(short_sort_ind)\n"
   ]
  },
  {
   "cell_type": "code",
   "execution_count": null,
   "id": "b5d8a3d3",
   "metadata": {},
   "outputs": [],
   "source": [
    "# neuron_colors: .shape: (4, n_neurons)\n",
    "# long_neurons_colors_array.shape\n",
    "\n",
    "## Only get for the relevant cells:\n",
    "\n",
    "\t\n",
    "is_included_in_raster = np.isin(included_any_context_neuron_ids, active_raster_plot.neuron_ids)\n",
    "neuron_qcolors_list = DataSeriesColorHelpers.colors_NDarray_to_qColorsList(long_neurons_colors_array[:, is_included_in_raster])\n",
    "neuron_plotting_configs_dict: Dict = DataSeriesColorHelpers.build_cell_display_configs(active_raster_plot.neuron_ids, neuron_qcolors_list)\n",
    "neuron_plotting_configs_dict"
   ]
  },
  {
   "cell_type": "code",
   "execution_count": null,
   "id": "087933f7",
   "metadata": {},
   "outputs": [],
   "source": [
    "long_sorted_aclus = included_any_context_neuron_ids[long_sort_ind]\n",
    "short_sorted_aclus = included_any_context_neuron_ids[short_sort_ind]\n",
    "short_sorted_aclus"
   ]
  },
  {
   "cell_type": "code",
   "execution_count": null,
   "id": "efb370fd",
   "metadata": {},
   "outputs": [],
   "source": [
    "\n",
    "long_sort_ind\n",
    "short_sort_ind"
   ]
  },
  {
   "cell_type": "markdown",
   "id": "19236393",
   "metadata": {},
   "source": [
    "# SpikeRaster sorting by pf1D pf peaks on the long or the short track:\n",
    "2023-10-19"
   ]
  },
  {
   "cell_type": "code",
   "execution_count": null,
   "id": "3283db40",
   "metadata": {},
   "outputs": [],
   "source": [
    "from pyphoplacecellanalysis.General.Pipeline.Stages.DisplayFunctions.MultiContextComparingDisplayFunctions.LongShortTrackComparingDisplayFunctions import determine_long_short_pf1D_indicies_sort_by_peak\n",
    "\n",
    "## Get 2D or 3D Raster from spike_raster_window\n",
    "active_raster_plot = spike_raster_window.spike_raster_plt_2d # <pyphoplacecellanalysis.GUI.PyQtPlot.Widgets.SpikeRasterWidgets.Spike2DRaster.Spike2DRaster at 0x196c7244280>\n",
    "if active_raster_plot is None:\n",
    "\tactive_raster_plot = spike_raster_window.spike_raster_plt_3d # <pyphoplacecellanalysis.GUI.PyQtPlot.Widgets.SpikeRasterWidgets.Spike2DRaster.Spike2DRaster at 0x196c7244280>\n",
    "\tassert active_raster_plot is not None\n",
    "\n",
    "# Sort the neurons by their peak on the long track AND on the short track:\n",
    "included_unit_neuron_IDs = active_raster_plot.neuron_ids\n",
    "new_active_2d_plotter_aclus_LONG_PEAK_sort_indicies = determine_long_short_pf1D_indicies_sort_by_peak(curr_active_pipeline=curr_active_pipeline, curr_any_context_neurons=included_unit_neuron_IDs, sortby=[\"long_pf_peak_x\", \"short_pf_peak_x\", 'neuron_IDX']) # get the neuron_ids to be sorted from the raster plot\n",
    "new_active_2d_plotter_aclus_SHORT_PEAK_sort_indicies = determine_long_short_pf1D_indicies_sort_by_peak(curr_active_pipeline=curr_active_pipeline, curr_any_context_neurons=included_unit_neuron_IDs, sortby=[\"short_pf_peak_x\", \"long_pf_peak_x\", 'neuron_IDX']) # get the neuron_ids to be sorted from the raster plot\n",
    "\n",
    "display(new_active_2d_plotter_aclus_LONG_PEAK_sort_indicies)\n",
    "display(new_active_2d_plotter_aclus_SHORT_PEAK_sort_indicies)\n",
    "# new_active_2d_plotter_aclus_sort_indicies # array([14,  3,  1,  2,  5,  9,  0, 20, 16, 24,  7, 19, 17, 21, 11, 10, 13, 12,  4, 18, 25,  6, 15, 23, 22,  8])\n"
   ]
  },
  {
   "cell_type": "code",
   "execution_count": null,
   "id": "7dbbd475",
   "metadata": {},
   "outputs": [],
   "source": [
    "# Update the sort order on the Spike2DPlotter to align with the LONG TRACK pf1D field peaks:\n",
    "active_raster_plot.unit_sort_order = new_active_2d_plotter_aclus_LONG_PEAK_sort_indicies\n"
   ]
  },
  {
   "cell_type": "code",
   "execution_count": null,
   "id": "7349d551",
   "metadata": {},
   "outputs": [],
   "source": [
    "# Update the sort order on the Spike2DPlotter to align with the SHORT TRACK pf1D field peaks:\n",
    "active_raster_plot.unit_sort_order = new_active_2d_plotter_aclus_SHORT_PEAK_sort_indicies\n"
   ]
  },
  {
   "cell_type": "code",
   "execution_count": null,
   "id": "cb64f7e6",
   "metadata": {},
   "outputs": [],
   "source": [
    "# Restore the original sort order of Spike2DPlotter:\n",
    "original_neuron_plotter_aclus_sort_index = np.arange(len(new_active_2d_plotter_aclus_LONG_PEAK_sort_indicies))\n",
    "active_raster_plot.unit_sort_order = original_neuron_plotter_aclus_sort_index\n"
   ]
  },
  {
   "cell_type": "markdown",
   "id": "b4e3310e",
   "metadata": {},
   "source": [
    "# SpikeRasterND color updating\n",
    "2023-10-19"
   ]
  },
  {
   "cell_type": "code",
   "execution_count": null,
   "id": "18ff6e6c",
   "metadata": {},
   "outputs": [],
   "source": [
    "\n",
    "\n",
    "\n",
    "spike_raster_window.update_neurons_color_data(neuron_plotting_configs_dict)"
   ]
  },
  {
   "cell_type": "code",
   "execution_count": null,
   "id": "51d4b593",
   "metadata": {},
   "outputs": [],
   "source": [
    "## Set the raster colors from the sidebar config widget:\n",
    "neuron_widget_container = spike_raster_window.neuron_visual_config_widget_container\n",
    "spike_raster_window.update_neurons_color_data(neuron_widget_container.get_config_map_from_child_widgets())\n"
   ]
  },
  {
   "cell_type": "code",
   "execution_count": null,
   "id": "84796538",
   "metadata": {},
   "outputs": [],
   "source": [
    "short_neurons_colors_array.shape\n",
    "\n"
   ]
  },
  {
   "cell_type": "code",
   "execution_count": null,
   "id": "19d917a1",
   "metadata": {},
   "outputs": [],
   "source": [
    "included_any_context_neuron_ids.shape"
   ]
  },
  {
   "cell_type": "code",
   "execution_count": null,
   "id": "3dfab342",
   "metadata": {},
   "outputs": [],
   "source": [
    "plt.suptitle('Translation Remapping Cells')"
   ]
  },
  {
   "cell_type": "code",
   "execution_count": null,
   "id": "12d9a3e5",
   "metadata": {},
   "outputs": [],
   "source": [
    "fig_surprise_results"
   ]
  },
  {
   "cell_type": "code",
   "execution_count": null,
   "id": "2a009cf3",
   "metadata": {},
   "outputs": [],
   "source": [
    "curr_active_pipeline.active_sess_config"
   ]
  },
  {
   "cell_type": "markdown",
   "id": "5ffe8d9f",
   "metadata": {},
   "source": [
    "## pre 2023-10-11 - Other"
   ]
  },
  {
   "cell_type": "code",
   "execution_count": null,
   "id": "7e11c5cf",
   "metadata": {},
   "outputs": [],
   "source": [
    "from pyphoplacecellanalysis.SpecificResults.fourthYearPresentation import fig_example_nontopo_remap\n",
    "\n",
    "graphics_output_dict = fig_example_nontopo_remap(curr_active_pipeline)"
   ]
  },
  {
   "cell_type": "code",
   "execution_count": null,
   "id": "4be59d32",
   "metadata": {},
   "outputs": [],
   "source": []
  },
  {
   "cell_type": "code",
   "execution_count": null,
   "id": "771e3b4c",
   "metadata": {},
   "outputs": [],
   "source": [
    "curr_active_pipeline.export_pipeline_to_h5('output/2023_09_26_new_pipeline_test.h5')\n",
    "# ERROR: encountered exception !! 'InstantaneousSpikeRateGroupsComputation' object has no attribute 'all_incl_endPlatforms_InstSpikeRateTrends_df' ::::: (<class 'AttributeError'>, AttributeError(\"'InstantaneousSpikeRateGroupsComputation' object has no attribute 'all_incl_endPlatforms_InstSpikeRateTrends_df'\"), <traceback object at 0x000001E5A3D3D040>) while trying to build the session HDF output.\n",
    "# AttributeError: 'SpikeRateTrends' object has no attribute 'included_neuron_ids'\n",
    "# _neuron_replay_stats_df - TypeError: Cannot serialize the column [track_membership] because its data contents are not [string] but [mixed] object dtype"
   ]
  },
  {
   "cell_type": "code",
   "execution_count": null,
   "id": "b4aa0ec9",
   "metadata": {},
   "outputs": [],
   "source": []
  },
  {
   "cell_type": "code",
   "execution_count": null,
   "id": "255ef3eb",
   "metadata": {},
   "outputs": [],
   "source": [
    "%matplotlib qt\n",
    "active_identifying_session_ctx = curr_active_pipeline.sess.get_context() # 'bapun_RatN_Day4_2019-10-15_11-30-06'\n",
    "\n",
    "graphics_output_dict = curr_active_pipeline.display('_display_short_long_pf1D_scalar_overlap_comparison', active_identifying_session_ctx, save_figure=False)\n",
    "# fig, axs, plot_data = graphics_output_dict['fig'], graphics_output_dict['axs'], graphics_output_dict['plot_data']"
   ]
  },
  {
   "cell_type": "code",
   "execution_count": null,
   "id": "5e146d0b",
   "metadata": {},
   "outputs": [],
   "source": [
    "curr_active_pipeline.reload_default_display_functions()"
   ]
  },
  {
   "cell_type": "code",
   "execution_count": null,
   "id": "f3ca625b",
   "metadata": {},
   "outputs": [],
   "source": [
    "# _display_long_short_expected_v_observed_firing_rate\n",
    "graphics_output_dict = curr_active_pipeline.display('_display_long_short_expected_v_observed_firing_rate', curr_active_pipeline.sess.get_context(), included_neuron_IDs=significant_distant_remapping_endcap_aclus)"
   ]
  },
  {
   "cell_type": "code",
   "execution_count": null,
   "id": "da6bc6f5",
   "metadata": {},
   "outputs": [],
   "source": [
    "_temp_force_recompute=True"
   ]
  },
  {
   "cell_type": "code",
   "execution_count": null,
   "id": "d33d838e",
   "metadata": {},
   "outputs": [],
   "source": [
    "## Recompute 'long_short_fr_indicies_analyses'\n",
    "from pyphoplacecellanalysis.General.Batch.NonInteractiveProcessing import batch_extended_computations\n",
    "\n",
    "curr_active_pipeline.reload_default_computation_functions()\n",
    "\n",
    "# _temp_force_recompute=True\n",
    "_temp_force_recompute=False\n",
    "# extended_computations_include_includelist = ['_perform_time_dependent_placefield_computation', 'long_short_fr_indicies_analyses', 'pf_dt_sequential_surprise', 'short_long_pf_overlap_analyses'] # do only specifiedl\n",
    "extended_computations_include_includelist = ['jonathan_firing_rate_analysis', 'short_long_pf_overlap_analyses']\n",
    "newly_computed_values = batch_extended_computations(curr_active_pipeline, include_includelist=extended_computations_include_includelist, include_global_functions=True, fail_on_exception=True, progress_print=True, force_recompute=_temp_force_recompute, debug_print=False)\n",
    "newly_computed_values\n"
   ]
  },
  {
   "cell_type": "code",
   "execution_count": null,
   "id": "1ed12881",
   "metadata": {},
   "outputs": [],
   "source": [
    "jonathan_firing_rate_analysis_result.rdf.rdf"
   ]
  },
  {
   "cell_type": "code",
   "execution_count": null,
   "id": "4ab18fd3",
   "metadata": {},
   "outputs": [],
   "source": [
    "jonathan_firing_rate_analysis_result.irdf.irdf"
   ]
  },
  {
   "cell_type": "code",
   "execution_count": null,
   "id": "4a269239",
   "metadata": {},
   "outputs": [],
   "source": [
    "jonathan_firing_rate_analysis_result.neuron_replay_stats_df"
   ]
  },
  {
   "cell_type": "code",
   "execution_count": null,
   "id": "06ad2b85",
   "metadata": {},
   "outputs": [],
   "source": [
    "jonathan_firing_rate_analysis_result"
   ]
  },
  {
   "cell_type": "code",
   "execution_count": null,
   "id": "bf2ce6c3",
   "metadata": {},
   "outputs": [],
   "source": [
    "curr_long_short_fr_indicies_analysis_bak = curr_active_pipeline.global_computation_results.computed_data['long_short_fr_indicies_analysis']\n",
    "\n",
    "curr_long_short_fr_indicies_analysis = curr_active_pipeline.global_computation_results.computed_data.pop('long_short_fr_indicies_analysis')\n",
    "\n",
    "print(list(curr_long_short_fr_indicies_analysis.keys())) # ['long_laps', 'long_replays', 'short_laps', 'short_replays', 'global_laps', 'global_replays', 'long_non_replays', 'short_non_replays', 'global_non_replays', 'long_mean_non_replays_frs', 'short_mean_non_replays_frs', 'long_mean_non_replays_all_frs', 'short_mean_non_replays_all_frs', 'non_replays_frs_index', 'long_mean_non_replays_all_inst_frs', 'short_mean_non_replays_all_inst_frs', 'non_replays_inst_frs_index', 'active_context']\n",
    "\n",
    "print_keys_if_possible('curr_long_short_fr_indicies_analysis', curr_long_short_fr_indicies_analysis)"
   ]
  },
  {
   "cell_type": "code",
   "execution_count": null,
   "id": "e6411650",
   "metadata": {},
   "outputs": [],
   "source": [
    "curr_active_pipeline.global_computation_results.computed_data['long_short_fr_indicies_analysis']"
   ]
  },
  {
   "cell_type": "code",
   "execution_count": null,
   "id": "320f02aa",
   "metadata": {},
   "outputs": [],
   "source": [
    "curr_active_pipeline.sess.config"
   ]
  },
  {
   "cell_type": "markdown",
   "id": "1a621ba9",
   "metadata": {},
   "source": [
    "# 2023-09-12 - Assemble all neuron-level properties:"
   ]
  },
  {
   "cell_type": "code",
   "execution_count": null,
   "id": "6554ac6c",
   "metadata": {},
   "outputs": [],
   "source": [
    "from neuropy.core.neuron_identities import NeuronIdentityDataframeAccessor\n",
    "from pyphoplacecellanalysis.General.Pipeline.Stages.ComputationFunctions.MultiContextComputationFunctions.LongShortTrackComputations import build_merged_neuron_firing_rate_indicies\n",
    "\n",
    "joined_neruon_fri_df = build_merged_neuron_firing_rate_indicies(curr_active_pipeline, enable_display_intermediate_results=False)\n",
    "joined_neruon_fri_df"
   ]
  },
  {
   "cell_type": "code",
   "execution_count": null,
   "id": "d557da8f",
   "metadata": {},
   "outputs": [],
   "source": [
    "joined_neruon_fri_df"
   ]
  },
  {
   "cell_type": "code",
   "execution_count": null,
   "id": "963c78c2",
   "metadata": {},
   "outputs": [],
   "source": [
    "print(list(joined_neruon_fri_df.columns)) # ['aclu', 'lsfria_laps_frs_index', 'lsfria_laps_inst_frs_index', 'lsfria_replays_frs_index', 'lsfria_replays_inst_frs_index', 'lsfria_non_replays_frs_index', 'lsfria_non_replays_inst_frs_index', 'jfra_long_pf_peak_x', 'jfra_has_long_pf', 'jfra_short_pf_peak_x', 'jfra_has_short_pf', 'jfra_has_na', 'jfra_track_membership', 'jfra_long_non_replay_mean', 'jfra_short_non_replay_mean', 'jfra_non_replay_diff', 'jfra_long_replay_mean', 'jfra_short_replay_mean', 'jfra_replay_diff', 'jfra_long_mean', 'jfra_short_mean', 'jfra_mean_diff', 'jfra_neuron_IDX', 'jfra_num_replays', 'jfra_long_num_replays', 'jfra_short_num_replays', 'jfra_neuron_type', 'lspd_laps', 'lspd_replays', 'lspd_skew', 'lspd_max_axis_distance_from_center', 'lspd_distance_from_center', 'lspd_has_considerable_remapping']\n",
    "\n",
    "recast_columns=['track_membership','neuron_type']\n",
    "\n",
    "drop_columns=['jfra_aclu']\n",
    "joined_neuron_fri_df.drop(columns=drop_columns)\n",
    "['aclu', 'laps_frs_index', 'replays_frs_index', 'non_replays_frs_index', 'long_pf_peak_x', 'has_long_pf', 'short_pf_peak_x', 'has_short_pf', 'has_na', 'track_membership', 'long_non_replay_mean', 'short_non_replay_mean', 'non_replay_diff', 'long_replay_mean', 'short_replay_mean', 'replay_diff', 'long_mean', 'short_mean', 'mean_diff', 'neuron_IDX', 'num_replays', 'long_num_replays', 'short_num_replays', 'neuron_type', 'jfra_aclu', 'custom_frs_index', 'is_rate_extrema', 'is_refined_exclusive', 'is_refined_LxC', 'is_refined_SxC', 'laps', 'replays', 'skew', 'max_axis_distance_from_center', 'distance_from_center', 'has_considerable_remapping', 'session_uid', 'neuron_uid']"
   ]
  },
  {
   "cell_type": "markdown",
   "id": "b6bd0afa",
   "metadata": {},
   "source": [
    "# Computing consolidated `long_short_fr_indicies_df`"
   ]
  },
  {
   "cell_type": "code",
   "execution_count": null,
   "id": "9be486bd",
   "metadata": {},
   "outputs": [],
   "source": [
    "# 'long_short_fr_indicies_analysis'\n",
    "curr_long_short_fr_indicies_analysis = curr_active_pipeline.global_computation_results.computed_data['long_short_fr_indicies_analysis']\n",
    "_curr_aclus = list(curr_long_short_fr_indicies_analysis['laps_frs_index'].keys()) # extract one set of keys for the aclus\n",
    "_curr_frs_indicies_dict = {k:v.values() for k,v in curr_long_short_fr_indicies_analysis.items() if k in ['laps_frs_index', 'laps_inst_frs_index', 'replays_frs_index', 'replays_inst_frs_index', 'non_replays_frs_index', 'non_replays_inst_frs_index']} # extract the values\n",
    "long_short_fr_indicies_df = pd.DataFrame(_curr_frs_indicies_dict, index=_curr_aclus)\n",
    "long_short_fr_indicies_df"
   ]
  },
  {
   "cell_type": "code",
   "execution_count": null,
   "id": "33cb7543",
   "metadata": {},
   "outputs": [],
   "source": [
    "long_short_fr_indicies_df"
   ]
  },
  {
   "cell_type": "code",
   "execution_count": null,
   "id": "cca0c58f",
   "metadata": {},
   "outputs": [],
   "source": [
    "curr_active_pipeline.reload_default_computation_functions()\n"
   ]
  },
  {
   "cell_type": "code",
   "execution_count": null,
   "id": "98d40c8e",
   "metadata": {},
   "outputs": [],
   "source": [
    "\n",
    "curr_active_pipeline.perform_specific_computation('long_short_fr_indicies_analyses')\n"
   ]
  },
  {
   "cell_type": "code",
   "execution_count": null,
   "id": "62734a01",
   "metadata": {},
   "outputs": [],
   "source": [
    "# ax = long_short_fr_indicies_df.plot.scatter(x='non_replays_inst_frs_index' , y='replays_inst_frs_index', title='Replays v. Non-replay Firing Rate Index Comparison')\n",
    "# long_short_fr_indicies_df.plot.scatter(x='laps_inst_frs_index' , y='replays_inst_frs_index', title='Replays v. Laps Firing Rate Index Comparison', ax=ax)\n",
    "\n",
    "ax = long_short_fr_indicies_df.plot.scatter(x='non_replays_frs_index' , y='replays_frs_index', title='Replays v. Non-replay Firing Rate Index Comparison')\n",
    "long_short_fr_indicies_df.plot.scatter(x='laps_frs_index' , y='replays_frs_index', title='Replays v. Laps Firing Rate Index Comparison', ax=ax)\n"
   ]
  },
  {
   "cell_type": "code",
   "execution_count": null,
   "id": "8e8f1e5e",
   "metadata": {},
   "outputs": [],
   "source": [
    "from pandas.plotting import scatter_matrix\n",
    "\n",
    "# scatter_matrix(long_short_fr_indicies_df, figsize=(10, 10))\n",
    "scatter_matrix(joined_neruon_fri_df, figsize=(10, 10))\n"
   ]
  },
  {
   "cell_type": "markdown",
   "id": "f4d02820",
   "metadata": {},
   "source": [
    "# 2023-10-11 - Assigning Replays after delta to either the Long or Short track"
   ]
  },
  {
   "cell_type": "code",
   "execution_count": null,
   "id": "883e492d",
   "metadata": {},
   "outputs": [],
   "source": [
    "from pyphoplacecellanalysis.General.Batch.PhoDiba2023Paper import TrackAssignmentState, TrackAssignmentDecision, AssigningEpochs\n",
    "\n",
    "fig, ax, assigning_epochs_obj = AssigningEpochs.main_plot_iterative_epoch_track_assignments(curr_active_pipeline)\n",
    "\n",
    "\n"
   ]
  },
  {
   "cell_type": "code",
   "execution_count": null,
   "id": "fa2e267f",
   "metadata": {},
   "outputs": [],
   "source": [
    "\n",
    "assigning_epochs_obj.unassigned_epochs_df\n"
   ]
  },
  {
   "cell_type": "code",
   "execution_count": null,
   "id": "fdbf5a4c",
   "metadata": {},
   "outputs": [],
   "source": [
    "assigning_epochs_obj.filter_epochs_df"
   ]
  },
  {
   "cell_type": "code",
   "execution_count": null,
   "id": "08d9488a",
   "metadata": {},
   "outputs": [],
   "source": [
    "is_assignable_by_long_exclusive_cells = np.logical_and(assigning_epochs_obj.filter_epochs_df['has_LONG_exclusive_aclu'], np.logical_not(assigning_epochs_obj.filter_epochs_df['has_SHORT_exclusive_aclu'])) # has long exclusive and no short-exclusive cells\n",
    "np.sum(is_assignable_by_long_exclusive_cells)"
   ]
  },
  {
   "cell_type": "code",
   "execution_count": null,
   "id": "8e0a7a9b",
   "metadata": {},
   "outputs": [],
   "source": [
    "is_assignable_by_short_exclusive_cells = np.logical_and(assigning_epochs_obj.filter_epochs_df['has_SHORT_exclusive_aclu'], np.logical_not(assigning_epochs_obj.filter_epochs_df['has_LONG_exclusive_aclu'])) # has short exclusive and no long-exclusive cells\n",
    "np.sum(is_assignable_by_short_exclusive_cells)"
   ]
  },
  {
   "cell_type": "code",
   "execution_count": null,
   "id": "9d3565d5",
   "metadata": {},
   "outputs": [],
   "source": []
  },
  {
   "cell_type": "code",
   "execution_count": null,
   "id": "1f3b07f0",
   "metadata": {},
   "outputs": [],
   "source": [
    "assigning_epochs_obj"
   ]
  },
  {
   "cell_type": "code",
   "execution_count": null,
   "id": "a20da51b",
   "metadata": {},
   "outputs": [],
   "source": [
    "\n",
    "## Get the active_unique_aclus during the epoch and score them based on their rate-remapping value:\n",
    "assigning_epochs_obj.filter_epochs_df.active_unique_aclus"
   ]
  },
  {
   "cell_type": "code",
   "execution_count": null,
   "id": "74977100",
   "metadata": {},
   "outputs": [],
   "source": [
    "assigning_epochs_obj.unassigned_epochs_df"
   ]
  },
  {
   "cell_type": "markdown",
   "id": "a07a9146",
   "metadata": {},
   "source": [
    "## Plots the RateRemappingFiringRateIndex Number Line Figure\n"
   ]
  },
  {
   "cell_type": "code",
   "execution_count": null,
   "id": "eb8a42fa",
   "metadata": {},
   "outputs": [],
   "source": [
    "# ## Extract rr_* variables from rate_remapping_df\n",
    "# rr_aclus = rate_remapping_df.index.values\n",
    "# rr_laps, rr_replays, rr_skew, rr_neuron_type = [rate_remapping_df[n].values for n in ['laps', 'replays', 'skew', 'neuron_type']]\n",
    "\n",
    "\n",
    "## Extract rr_* variables from joined_neruon_fri_df\n",
    "rr_aclus = joined_neruon_fri_df.index.values\n",
    "rr_laps, rr_replays, rr_skew, rr_neuron_type = [joined_neruon_fri_df[n].values for n in ['lspd_laps', 'lspd_replays', 'lspd_skew', 'jfra_neuron_type']]\n",
    "\n",
    "## Display:\n",
    "from pyphoplacecellanalysis.General.Pipeline.Stages.DisplayFunctions.MultiContextComparingDisplayFunctions.LongShortTrackComparingDisplayFunctions import plot_rr_aclu\n",
    "n_debug_limit = 10\n",
    "fig, axs, sort_indicies = plot_rr_aclu([str(aclu) for aclu in rr_aclus[:n_debug_limit]], rr_laps=rr_laps[:n_debug_limit], rr_replays=rr_replays[:n_debug_limit], rr_neuron_types=rr_neuron_type[:n_debug_limit])\n"
   ]
  },
  {
   "cell_type": "code",
   "execution_count": null,
   "id": "9ad336e1",
   "metadata": {},
   "outputs": [],
   "source": [
    "fri_index_dicts_list = [dict(x=rr_laps, marker=r'$\\theta$', markersize=10, color='black', label='rr_laps'),\n",
    "\tdict(x=rr_replays, marker='o', markersize=10, fillstyle='none', color='black', label='rr_replays'),\n",
    "]"
   ]
  },
  {
   "cell_type": "code",
   "execution_count": null,
   "id": "bdc67e56",
   "metadata": {},
   "outputs": [],
   "source": [
    "\n",
    "## Display Paginated multi-plot\n",
    "from pyphoplacecellanalysis.General.Pipeline.Stages.DisplayFunctions.MultiContextComparingDisplayFunctions.LongShortTrackComparingDisplayFunctions import plot_rr_aclu\n",
    "from pyphoplacecellanalysis.General.Pipeline.Stages.DisplayFunctions.MultiContextComparingDisplayFunctions.LongShortTrackComparingDisplayFunctions import RateRemappingPaginatedFigureController\n",
    "active_identifying_session_ctx = curr_active_pipeline.sess.get_context()\n",
    "_out_rr_pagination_controller = RateRemappingPaginatedFigureController.init_from_rr_data(rr_aclus, rr_laps, rr_replays, rr_neuron_type, max_subplots_per_page=30, a_name='TestRateRemappingPaginatedFigureController', active_context=active_identifying_session_ctx)\n",
    "a_paginator = _out_rr_pagination_controller.plots_data.paginator"
   ]
  },
  {
   "cell_type": "markdown",
   "id": "6768b355",
   "metadata": {},
   "source": [
    "# 2023-09-28 - InstFrRate-based classification of LxC and SxC\n",
    "2023-09-28 10:39am: We looked at the results and determined that it was much worse than the placefield critiera I had previously. This analysis should be used as a secondary refinement for the existing placefield-based LxC/SxC exclusion critiera. It includes information about non-lap endcap activity that the other analysis omits. Can be used with a threshold."
   ]
  },
  {
   "cell_type": "code",
   "execution_count": null,
   "id": "f368c7a3",
   "metadata": {},
   "outputs": [],
   "source": [
    "## Plot the selected LxC/SxC cells cells on the PhoJonathan plots\n",
    "curr_active_pipeline.reload_default_display_functions()\n",
    "refined_LxC_aclus = long_exclusive.get_refined_track_exclusive_aclus()\n",
    "print(f'refined_LxC_aclus: {refined_LxC_aclus}')\n",
    "if len(refined_LxC_aclus):\n",
    "\t_out_LxC = curr_active_pipeline.display('_display_batch_pho_jonathan_replay_firing_rate_comparison', n_max_plot_rows=10, save_figure=False, included_unit_neuron_IDs=refined_LxC_aclus) # , included_unit_neuron_IDs=[4, 58]\n",
    "\n",
    "refined_SxC_aclus = short_exclusive.get_refined_track_exclusive_aclus()\n",
    "print(f'refined_SxC_aclus: {refined_SxC_aclus}')\n",
    "if len(refined_SxC_aclus):\n",
    "\t_out_SxC = curr_active_pipeline.display('_display_batch_pho_jonathan_replay_firing_rate_comparison', n_max_plot_rows=10, save_figure=False, included_unit_neuron_IDs=refined_SxC_aclus) # , included_unit_neuron_IDs=[4, 58]\n"
   ]
  },
  {
   "cell_type": "code",
   "execution_count": null,
   "id": "b5a08e63",
   "metadata": {},
   "outputs": [],
   "source": [
    "loaded_df = pd.read_csv(Path(r'W:\\Data\\neuron_replay_stats_table_2023-09-29-GL.csv'))\n",
    "loaded_df"
   ]
  },
  {
   "cell_type": "code",
   "execution_count": null,
   "id": "c8dbed92",
   "metadata": {},
   "outputs": [],
   "source": [
    "global_data_root_parent_path"
   ]
  },
  {
   "cell_type": "code",
   "execution_count": null,
   "id": "94f3cbf5",
   "metadata": {},
   "outputs": [],
   "source": [
    "from pyphoplacecellanalysis.General.Batch.AcrossSessionResults import AcrossSessionTables\n",
    " \n",
    "neuron_identities_table, long_short_fr_indicies_analysis_table, neuron_replay_stats_table = AcrossSessionTables.load_all_combined_tables(override_output_parent_path=global_data_root_parent_path, output_path_suffix=f'_{BATCH_DATE_TO_USE}')\n"
   ]
  },
  {
   "cell_type": "code",
   "execution_count": null,
   "id": "3f6aacae",
   "metadata": {},
   "outputs": [],
   "source": [
    "from pyphoplacecellanalysis.General.Pipeline.Stages.ComputationFunctions.MultiContextComputationFunctions.LongShortTrackComputations import _fr_index\n",
    "instantaneous_time_bin_size_seconds = 0.1\n",
    "owning_pipeline_reference = curr_active_pipeline\n",
    "long_epoch_obj, short_epoch_obj = [Epoch(owning_pipeline_reference.sess.epochs.to_dataframe().epochs.label_slice(an_epoch_name)) for an_epoch_name in [long_epoch_name, short_epoch_name]]\n",
    "\n",
    "# non_running_periods = Epoch.from_PortionInterval(owning_pipeline_reference.sess.laps.as_epoch_obj().to_PortionInterval().complement())\n",
    "non_replay_periods: Epoch = Epoch(Epoch.from_PortionInterval(owning_pipeline_reference.sess.replay.epochs.to_PortionInterval().complement()).time_slice(t_start=long_epoch_obj.t_start, t_stop=short_epoch_obj.t_stop).to_dataframe()[:-1]) #[:-1] # any period except the replay ones, drop the infinite last entry\n",
    "long_only_non_replay_periods: Epoch  = non_replay_periods.time_slice(t_start=long_epoch_obj.t_start, t_stop=long_epoch_obj.t_stop) # any period except the replay ones\n",
    "short_only_non_replay_periods: Epoch  = non_replay_periods.time_slice(t_start=short_epoch_obj.t_start, t_stop=short_epoch_obj.t_stop) # any period except the replay ones\n",
    "\n",
    "# ~20sec computation\n",
    "long_custom_InstSpikeRateTrends: SpikeRateTrends = SpikeRateTrends.init_from_spikes_and_epochs(spikes_df=deepcopy(owning_pipeline_reference.sess.spikes_df),\n",
    "                                                                                        filter_epochs=long_only_non_replay_periods,\n",
    "                                                                                        #    included_neuron_ids=long_exclusive.track_exclusive_aclus,\n",
    "                                                                                        instantaneous_time_bin_size_seconds=instantaneous_time_bin_size_seconds)\n",
    "\n",
    "short_custom_InstSpikeRateTrends: SpikeRateTrends = SpikeRateTrends.init_from_spikes_and_epochs(spikes_df=deepcopy(owning_pipeline_reference.sess.spikes_df),\n",
    "                                                                                        filter_epochs=short_only_non_replay_periods,\n",
    "                                                                                        #    included_neuron_ids=long_exclusive.track_exclusive_aclus,\n",
    "                                                                                        instantaneous_time_bin_size_seconds=instantaneous_time_bin_size_seconds)\n",
    "\n",
    "# # Note custom_InstSpikeRateTrends is global, not really needed:\n",
    "# global_custom_InstSpikeRateTrends: SpikeRateTrends = SpikeRateTrends.init_from_spikes_and_epochs(spikes_df=deepcopy(owning_pipeline_reference.sess.spikes_df),\n",
    "#                                                                                            filter_epochs=non_replay_periods,\n",
    "#                                                                                         #    included_neuron_ids=long_exclusive.track_exclusive_aclus,\n",
    "#                                                                                            instantaneous_time_bin_size_seconds=instantaneous_time_bin_size_seconds)\n",
    "\n",
    "## Determine the included percentiles for `joined_neruon_fri_df`\n",
    "custom_InstSpikeRateTrends_df = pd.DataFrame({'aclu': long_custom_InstSpikeRateTrends.included_neuron_ids, 'long_inst_fr': long_custom_InstSpikeRateTrends.cell_agg_inst_fr_list, 'short_inst_fr': short_custom_InstSpikeRateTrends.cell_agg_inst_fr_list}) #\n",
    "# custom_InstSpikeRateTrends_df['global_inst_fr'] = global_custom_InstSpikeRateTrends.cell_agg_inst_fr_list\n",
    "\n",
    "# Compute the single-dimensional firing rate index for the custom epochs and add it as a column to the dataframe:\n",
    "custom_InstSpikeRateTrends_df['custom_frs_index'] = _fr_index(long_fr=long_custom_InstSpikeRateTrends.cell_agg_inst_fr_list, short_fr=short_custom_InstSpikeRateTrends.cell_agg_inst_fr_list)\n",
    "\n",
    "# # Calculate 10th and 90th percentiles\n",
    "# lower_bound = custom_InstSpikeRateTrends_df['custom_frs_index'].quantile(0.10)\n",
    "# upper_bound = custom_InstSpikeRateTrends_df['custom_frs_index'].quantile(0.90)\n",
    "\n",
    "# # Filter rows\n",
    "# bottom_10_percent = custom_InstSpikeRateTrends_df[custom_InstSpikeRateTrends_df['custom_frs_index'] <= lower_bound]\n",
    "# top_10_percent = custom_InstSpikeRateTrends_df[custom_InstSpikeRateTrends_df['custom_frs_index'] >= upper_bound]\n",
    "\n",
    "# # Extract the aclus from these rows:\n",
    "# LxC_10_percent_aclus = top_10_percent.aclu.to_numpy()\n",
    "# SxC_10_percent_aclus = bottom_10_percent.aclu.to_numpy()\n",
    "\n",
    "# print(f'LxC_10_percent_aclus: {LxC_10_percent_aclus}')\n",
    "# print(f'SxC_10_percent_aclus: {SxC_10_percent_aclus}')"
   ]
  },
  {
   "cell_type": "code",
   "execution_count": null,
   "id": "d053014e",
   "metadata": {},
   "outputs": [],
   "source": [
    "## Really want to penalize for any firing on the opposite track."
   ]
  },
  {
   "cell_type": "code",
   "execution_count": null,
   "id": "6a867b35",
   "metadata": {},
   "outputs": [],
   "source": [
    "# I wanna look at the suprise metrics again please.\n",
    "\n",
    "# can align each of the sessions (across days) to the track transition point (the \"Delta\") as the zero.\n",
    "\n",
    "# print_keys_if_possible(\"global_computation_results\", curr_active_pipeline.global_computation_results, max_depth=2)\n",
    "\n",
    "# computed_data: pyphocorehelpers.DataStructure.dynamic_parameters.DynamicParameters\n",
    "# \t\t│   ├── jonathan_firing_rate_analysis: pyphocorehelpers.DataStructure.dynamic_parameters.DynamicParameters\n",
    "# \t\t│   ├── long_short_fr_indicies_analysis: pyphocorehelpers.DataStructure.dynamic_parameters.DynamicParameters\n",
    "# \t\t│   ├── long_short_leave_one_out_decoding_analysis: pyphoplacecellanalysis.General.Pipeline.Stages.ComputationFunctions.MultiContextComputationFunctions.LongShortTrackComputations.LeaveOneOutDecodingAnalysis\n",
    "# \t\t│   ├── long_short_post_decoding: pyphocorehelpers.DataStructure.dynamic_parameters.DynamicParameters\n",
    "\n",
    "\n",
    "print_keys_if_possible(\"global_computation_results\", curr_active_pipeline.global_computation_results.computed_data, max_depth=3)\n",
    "\n",
    "# jonathan_firing_rate_analysis_result.rdf\n",
    "\n",
    "# long_short_leave_one_out_decoding_analysis"
   ]
  },
  {
   "cell_type": "code",
   "execution_count": null,
   "id": "90d33a7c",
   "metadata": {
    "tags": [
     "NOW",
     "load",
     "plot"
    ]
   },
   "outputs": [],
   "source": [
    "import seaborn as sns\n",
    "from pyphocorehelpers.indexing_helpers import partition, safe_pandas_get_group\n",
    "from pyphoplacecellanalysis.General.Batch.AcrossSessionResults import InstantaneousFiringRatesDataframeAccessor, AcrossSessionsVisualizations\n",
    "from pyphoplacecellanalysis.General.Batch.PhoDiba2023Paper import SingleBarResult\n",
    "\n",
    "common_file_path = Path('output/active_across_session_scatter_plot_results.h5')\n",
    "print(f'common_file_path: {common_file_path}')\n",
    "\n",
    "# InstantaneousSpikeRateGroupsComputation, : pd.DataFrame\n",
    "_shell_obj, loaded_result_df = InstantaneousFiringRatesDataframeAccessor.load_and_prepare_for_plot(common_file_path)\n",
    "# Perform the actual plotting:\n",
    "AcrossSessionsVisualizations.across_sessions_bar_graphs(_shell_obj, num_sessions=13, save_figure=False, enable_tiny_point_labels=False, enable_hover_labels=True)"
   ]
  },
  {
   "cell_type": "code",
   "execution_count": null,
   "id": "fb580a77",
   "metadata": {},
   "outputs": [],
   "source": [
    "from datetime import datetime, timedelta\n",
    "\n",
    "maximum_timedelta: timedelta = timedelta(1, 0, 0) # 1 Day maximum time\n",
    "delta_since_last_compute: timedelta = curr_active_pipeline.get_time_since_last_computation()\n",
    "print(f'delta_since_last_compute: {delta_since_last_compute}')\n",
    "needs_recompute: bool = delta_since_last_compute > maximum_timedelta\n",
    "print(f'\\tneeds_recompute: {needs_recompute}')"
   ]
  },
  {
   "cell_type": "code",
   "execution_count": null,
   "id": "624326b3",
   "metadata": {},
   "outputs": [],
   "source": [
    "## Serialization of preprocessing parameters test\n",
    "file_path = 'output/preprocessing_parameters.h5'\n",
    "\n",
    "with h5py.File(file_path, \"w\") as f:\n",
    "\tpreprocessing_group = f.create_group(\"preprocessing_parameters\")\n",
    "\n",
    "\t# Serialize epoch_estimation_parameters\n",
    "\tepoch_estimation_group = preprocessing_group.create_group(\"epoch_estimation_parameters\")\n",
    "\n",
    "\tlaps_group = epoch_estimation_group.create_group(\"laps\")\n",
    "\tlaps_group.attrs[\"N\"] = preprocessing_parameters_dict[\"epoch_estimation_parameters\"][\"laps\"][\"N\"]\n",
    "\tlaps_group.attrs[\"should_backup_extant_laps_obj\"] = preprocessing_parameters_dict[\"epoch_estimation_parameters\"][\"laps\"][\"should_backup_extant_laps_obj\"]\n",
    "\n",
    "\tPBEs_group = epoch_estimation_group.create_group(\"PBEs\")\n",
    "\tPBEs_group.attrs[\"thresh\"] = preprocessing_parameters_dict[\"epoch_estimation_parameters\"][\"PBEs\"][\"thresh\"]\n",
    "\tPBEs_group.attrs[\"min_dur\"] = preprocessing_parameters_dict[\"epoch_estimation_parameters\"][\"PBEs\"][\"min_dur\"]\n",
    "\tPBEs_group.attrs[\"merge_dur\"] = preprocessing_parameters_dict[\"epoch_estimation_parameters\"][\"PBEs\"][\"merge_dur\"]\n",
    "\tPBEs_group.attrs[\"max_dur\"] = preprocessing_parameters_dict[\"epoch_estimation_parameters\"][\"PBEs\"][\"max_dur\"]\n",
    "\n",
    "\treplays_group = epoch_estimation_group.create_group(\"replays\")\n",
    "\treplay_data = preprocessing_parameters_dict[\"epoch_estimation_parameters\"][\"replays\"]\n",
    "\t# replay_dataframe = pd.DataFrame(replay_data)\n",
    "\t# replay_data.to_hdf(f, \"/preprocessing_parameters/epoch_estimation_parameters/replays\")\n",
    "\t## TODO: add the data here using Epoch's .to_hdf\n",
    "\t\n",
    "\t# Check for \"None\" values before setting attributes\n",
    "\tdef check_and_set(key, value):\n",
    "\t\tif value is not None:\n",
    "\t\t\treplays_group.attrs[key] = value\n",
    "\n",
    "\t# Set attributes if not \"None\", otherwise skip writing\n",
    "\tcheck_and_set(\"min_epoch_included_duration\", preprocessing_parameters_dict[\"epoch_estimation_parameters\"].get('replays', {}).get(\"min_epoch_included_duration\"))\n",
    "\tcheck_and_set(\"max_epoch_included_duration\", preprocessing_parameters_dict[\"epoch_estimation_parameters\"].get('replays', {}).get(\"max_epoch_included_duration\"))\n",
    "\tcheck_and_set(\"maximum_speed_thresh\", preprocessing_parameters_dict[\"epoch_estimation_parameters\"].get('replays', {}).get(\"maximum_speed_thresh\"))\n",
    "\tcheck_and_set(\"min_inclusion_fr_active_thresh\", preprocessing_parameters_dict[\"epoch_estimation_parameters\"].get('replays', {}).get(\"min_inclusion_fr_active_thresh\"))\n",
    "\tcheck_and_set(\"min_num_unique_aclu_inclusions\", preprocessing_parameters_dict[\"epoch_estimation_parameters\"].get('replays', {}).get(\"min_num_unique_aclu_inclusions\"))"
   ]
  },
  {
   "cell_type": "code",
   "execution_count": null,
   "id": "bcc30a2b",
   "metadata": {},
   "outputs": [],
   "source": [
    "enable_default_neptune_plots = False\n",
    "# enable_default_neptune_plots = True\n",
    "\n",
    "## To file only:\n",
    "with matplotlib_file_only():\n",
    "\t# Perform non-interactive Matplotlib operations with 'AGG' backend\n",
    "\tmain_complete_figure_generations(curr_active_pipeline, enable_default_neptune_plots=enable_default_neptune_plots, save_figures_only=True, save_figure=True)\n",
    "\n",
    "## Clear the Programmatically open figures:\n",
    "plt.close('all') # this takes care of the matplotlib-backed figures.\n",
    "curr_active_pipeline.clear_display_outputs()\n",
    "curr_active_pipeline.clear_registered_output_files()"
   ]
  },
  {
   "cell_type": "code",
   "execution_count": null,
   "id": "44783dac",
   "metadata": {},
   "outputs": [],
   "source": [
    "# Showing\n",
    "restore_previous_matplotlib_settings_callback = matplotlib_configuration_update(is_interactive=True, backend='Qt5Agg')\n",
    "# Perform interactive Matplotlib operations with 'Qt5Agg' backend\n",
    "_out_figures = main_complete_figure_generations(curr_active_pipeline, enable_default_neptune_plots=False, save_figures_only=False, save_figure=True)"
   ]
  },
  {
   "cell_type": "markdown",
   "id": "943b8f18",
   "metadata": {},
   "source": [
    "# Common Display Setup"
   ]
  },
  {
   "cell_type": "code",
   "execution_count": null,
   "id": "6ef70fb2",
   "metadata": {
    "notebookRunGroups": {
     "groupValue": "2"
    },
    "tags": [
     "plot_cell"
    ]
   },
   "outputs": [],
   "source": [
    "import matplotlib\n",
    "# configure backend here\n",
    "matplotlib.use('Qt5Agg')\n",
    "# backend_qt5agg\n",
    "# %matplotlib qt5\n",
    "# %matplotlib qt\n",
    "# matplotlib.use('AGG') # non-interactive backend ## 2022-08-16 - Surprisingly this works to make the matplotlib figures render only to .png file, not appear on the screen!\n",
    "\n",
    "import matplotlib as mpl\n",
    "import matplotlib.pyplot as plt\n",
    "_bak_rcParams = mpl.rcParams.copy()\n",
    "# mpl.rcParams['toolbar'] = 'None' # disable toolbars\n",
    "\n",
    "# Showing\n",
    "restore_previous_matplotlib_settings_callback = matplotlib_configuration_update(is_interactive=True, backend='Qt5Agg')"
   ]
  },
  {
   "cell_type": "code",
   "execution_count": null,
   "id": "f0fbf214",
   "metadata": {},
   "outputs": [],
   "source": [
    "# import pylustrator # customization of figures\n",
    "import matplotlib\n",
    "# configure backend here\n",
    "matplotlib.use('Qt5Agg')\n",
    "import matplotlib as mpl\n",
    "import matplotlib.pyplot as plt\n",
    "_bak_rcParams = mpl.rcParams.copy()\n",
    "import pylustrator # call `pylustrator.start()` before creating your first figure in code."
   ]
  },
  {
   "cell_type": "code",
   "execution_count": null,
   "id": "530208a7",
   "metadata": {},
   "outputs": [],
   "source": [
    "pylustrator.start()"
   ]
  },
  {
   "cell_type": "code",
   "execution_count": null,
   "id": "6d8eddbf",
   "metadata": {},
   "outputs": [],
   "source": [
    "# Showing\n",
    "restore_previous_matplotlib_settings_callback = matplotlib_configuration_update(is_interactive=True, backend='Qt5Agg')"
   ]
  },
  {
   "cell_type": "code",
   "execution_count": null,
   "id": "6b490781",
   "metadata": {},
   "outputs": [],
   "source": [
    "# Plot The laps:\n",
    "from neuropy.utils.matplotlib_helpers import plot_position_curves_figure\n",
    "from pyphoplacecellanalysis.PhoPositionalData.plotting.laps import plot_laps_2d\n",
    "# pylustrator.start()\n",
    "fig, out_axes_list = plot_laps_2d(global_session, legacy_plotting_mode=False, include_velocity=False, include_accel=False, figsize=(24, 10))\n",
    "out_axes_list[0].set_title('Estimated Laps')\n",
    "fig.canvas.manager.set_window_title('Estimated Laps')\n",
    "ax = out_axes_list[0]\n",
    "# ax.set_xlim((1036.242685185441, 1441.769668184419))\n",
    "\n",
    "# Hide y-axis ticklabels\n",
    "plt.tick_params(axis='y', which='both', labelleft=False)"
   ]
  },
  {
   "cell_type": "code",
   "execution_count": null,
   "id": "fb32cee1",
   "metadata": {},
   "outputs": [],
   "source": [
    "# fig = plt.gcf()\n",
    "# ax = fig.axes[0]\n",
    "# ax\n",
    "# ax.get_xlim()\n",
    "\n",
    "\n",
    "# laps_example_region_xlims = (1036.242685185441, 1441.769668184419)\n",
    "\n",
    "fig, out_axes_list = plot_position_curves_figure(global_session.position, include_velocity=False, include_accel=False, figsize=(24, 10))\n"
   ]
  },
  {
   "cell_type": "code",
   "execution_count": null,
   "id": "ccc97408",
   "metadata": {},
   "outputs": [],
   "source": [
    "from neuropy.utils.matplotlib_helpers import plot_overlapping_epoch_analysis_diagnoser\n",
    "\n",
    "\n",
    "fig, out_axes_list = plot_overlapping_epoch_analysis_diagnoser(curr_active_pipeline.sess.position, curr_active_pipeline.sess.laps.as_epoch_obj())"
   ]
  },
  {
   "cell_type": "code",
   "execution_count": null,
   "id": "e144a368",
   "metadata": {},
   "outputs": [],
   "source": [
    "from neuropy.core.position import Position\n",
    "\n",
    "position: Position = curr_active_pipeline.sess.position\n",
    "position.compute_higher_order_derivatives()\n",
    "position.compute_smoothed_position_info()\n",
    "\n",
    "type(position)\n"
   ]
  },
  {
   "cell_type": "code",
   "execution_count": null,
   "id": "0161ac21",
   "metadata": {},
   "outputs": [],
   "source": [
    "\n",
    "curr_active_pipeline.sess.position.compute_higher_order_derivatives()\n",
    "curr_active_pipeline.sess.position.compute_smoothed_position_info()\n"
   ]
  },
  {
   "cell_type": "code",
   "execution_count": null,
   "id": "c975e3f4",
   "metadata": {},
   "outputs": [],
   "source": [
    "position"
   ]
  },
  {
   "cell_type": "code",
   "execution_count": null,
   "id": "0b9b11e5",
   "metadata": {},
   "outputs": [],
   "source": [
    "_out1 = curr_active_pipeline.display('_display_long_short_laps', include_velocity=False, include_accel=False)\n"
   ]
  },
  {
   "cell_type": "code",
   "execution_count": null,
   "id": "51c59882",
   "metadata": {},
   "outputs": [],
   "source": [
    "curr_active_pipeline.plot._display_decoder_result()"
   ]
  },
  {
   "cell_type": "markdown",
   "id": "9737539d",
   "metadata": {},
   "source": [
    "# 2023-09-07 - Track Graphics Testing"
   ]
  },
  {
   "cell_type": "code",
   "execution_count": null,
   "id": "1a866b1b",
   "metadata": {
    "tags": [
     "ACTIVE",
     "track_graphics"
    ]
   },
   "outputs": [],
   "source": [
    "from pyphocorehelpers.geometry_helpers import BoundsRect, point_tuple_mid_point, map_value\n",
    "from pyphoplacecellanalysis.Pho2D.track_shape_drawing import LinearTrackDimensions\n",
    "from pyphoplacecellanalysis.Pho2D.track_shape_drawing import add_vertical_track_bounds_lines, add_track_shapes, test_LinearTrackDimensions_2D_pyqtgraph\n",
    "from neuropy.utils.mathutil import contiguous_regions, threshPeriods, compute_grid_bin_bounds, map_value\n",
    "from pyphoplacecellanalysis.Pho2D.track_shape_drawing import test_LinearTrackDimensions_2D_Matplotlib\n",
    "from pyphoplacecellanalysis.Pho2D.track_shape_drawing import LinearTrackInstance\n",
    "\n",
    "grid_bin_bounds = BoundsRect.init_from_grid_bin_bounds(global_pf2D.config.grid_bin_bounds)\n",
    "display(grid_bin_bounds)\n",
    "\n",
    "# long_track_dims = LinearTrackDimensions.init_from_grid_bin_bounds(grid_bin_bounds)\n",
    "# short_track_dims = LinearTrackDimensions.init_from_grid_bin_bounds(grid_bin_bounds)\n",
    "\n",
    "long_track_dims = LinearTrackDimensions(track_length=170.0)\n",
    "short_track_dims = LinearTrackDimensions(track_length=100.0)\n",
    "\n",
    "common_1D_platform_height = 0.25\n",
    "common_1D_track_height = 0.1\n",
    "long_track_dims.minor_axis_platform_side_width = common_1D_platform_height\n",
    "long_track_dims.track_width = common_1D_track_height # (short_track_dims.minor_axis_platform_side_width\n",
    "\n",
    "short_track_dims.minor_axis_platform_side_width = common_1D_platform_height\n",
    "short_track_dims.track_width = common_1D_track_height # (short_track_dims.minor_axis_platform_side_width\n",
    "\n",
    "# instances:\n",
    "long_track = LinearTrackInstance(long_track_dims, grid_bin_bounds=grid_bin_bounds)\n",
    "short_track = LinearTrackInstance(short_track_dims, grid_bin_bounds=grid_bin_bounds)\n",
    "\n",
    "print(long_track_dims)\n",
    "print(short_track_dims)"
   ]
  },
  {
   "cell_type": "code",
   "execution_count": null,
   "id": "1c12b684",
   "metadata": {},
   "outputs": [],
   "source": [
    "import napari\n",
    "\n",
    "# global_pf1D_dt.config.grid_bin_bounds\n",
    "\n",
    "\n",
    "def napari_add_grid_bin_bounds_rect(viewer: napari.viewer.Viewer, grid_bin_bounds):\n",
    "\t\"\"\" adds the animal's position as a track and a point layer to the napari viewer.\n",
    "\n",
    "\n",
    "\tUsage:\n",
    "\n",
    "\tfrom pyphoplacecellanalysis.GUI.Napari.napari_helpers import napari_add_animal_position\n",
    "\tnapari_add_animal_position(viewer=viewer, position_df=global_pf1D_dt.all_time_filtered_pos_df[['t','x','binned_x']], time_intervals)\n",
    "\n",
    "\n",
    "\t\"\"\"\n",
    "\t# rect = np.array([[0, 0], [3, 1]])\n",
    "\tgrid_bin_bounds_rect = grid_bin_bounds\n",
    "\tviewer.add_shapes(grid_bin_bounds_rect, shape_type='grid_bin_bounds_rect', edge_width=0.1)\n",
    "    \n",
    "napari_add_grid_bin_bounds_rect(viewer, grid_bin_bounds)"
   ]
  },
  {
   "cell_type": "code",
   "execution_count": null,
   "id": "59b29b63",
   "metadata": {},
   "outputs": [],
   "source": [
    "## For napari need to map onto xbins axis:\n",
    "#TODO: Not working, did manual rect drawing below instead.\n",
    "\n",
    "assert len(viewer.dims.range) == 3\n",
    "t_range_tuple, neuron_id_range_tuple, xbin_range_tuple = viewer.dims.range\n",
    "# ((0.0, 3309.0, 1.0),\n",
    "#  (-0.2906298631133275, 85.0, 1.0),\n",
    "#  (-0.24635407377607876, 108.0, 1.0))\n",
    "xbin_min, xbin_max = (xbin_range_tuple[0], (xbin_range_tuple[1]-xbin_range_tuple[2])) # the max range isn't included, so we need to subtract off the step to get the real max\n",
    "xbin_width = (xbin_max - xbin_min) # total width in number of xbins\n",
    "x_to_xbins_multiplier: float = xbin_width/grid_bin_bounds.size[0] # multiply a number in normal coordinates to get the equivalent number of xbins\n",
    "x_to_xbins_multiplier\n",
    "\n",
    "map_track_coords_to_xbins_space = lambda v: map_value(v, (grid_bin_bounds.xmin, grid_bin_bounds.xmax), (xbin_min, xbin_max)) # same map\n",
    "# map_track_coords_to_ybins_space = lambda v: map_value(v, (grid_bin_bounds.ymin, grid_bin_bounds.ymax), (ybin_min, ybin_max)) # same map\n",
    "\n",
    "bin_space_grid_bin_bounds = deepcopy(grid_bin_bounds)\n",
    "bin_space_grid_bin_bounds.xmin = map_track_coords_to_xbins_space(grid_bin_bounds.xmin)\n",
    "bin_space_grid_bin_bounds.xmax = map_track_coords_to_xbins_space(grid_bin_bounds.xmax)\n",
    "\n",
    "bin_space_grid_bin_bounds.ymin = 0.0\n",
    "bin_space_grid_bin_bounds.ymax = 5.0\n",
    "\n",
    "bin_space_grid_bin_bounds\n",
    "\n",
    "# map_track_coords_to_xbins_space(grid_bin_bounds.xmin), map_track_coords_to_xbins_space(grid_bin_bounds.xmax)\n",
    "# bin_space_long_track_dims = LinearTrackDimensions.init_from_grid_bin_bounds(bin_space_grid_bin_bounds)\n",
    "# bin_space_short_track_dims = LinearTrackDimensions.init_from_grid_bin_bounds(bin_space_grid_bin_bounds)\n",
    "\n",
    "# common_1D_platform_height = 0.25\n",
    "# common_1D_track_height = 0.1\n",
    "# bin_space_long_track_dims.minor_axis_platform_side_width = common_1D_platform_height\n",
    "# bin_space_long_track_dims.track_width = common_1D_track_height # (short_track_dims.minor_axis_platform_side_width\n",
    "\n",
    "# bin_space_short_track_dims.minor_axis_platform_side_width = common_1D_platform_height\n",
    "# bin_space_short_track_dims.track_width = common_1D_track_height # (short_track_dims.minor_axis_platform_side_width\n",
    "\n",
    "bin_space_long_track_dims = deepcopy(long_track_dims)\n",
    "bin_space_short_track_dims = deepcopy(short_track_dims)\n",
    "\n",
    "bin_space_long_track_dims.axis_scale_factors = (x_to_xbins_multiplier, 1.0)\n",
    "bin_space_short_track_dims.axis_scale_factors = (x_to_xbins_multiplier, 1.0)\n",
    "\n",
    "bin_space_long_track = LinearTrackInstance(bin_space_long_track_dims, grid_bin_bounds=bin_space_grid_bin_bounds)\n",
    "bin_space_short_track = LinearTrackInstance(bin_space_short_track_dims, grid_bin_bounds=bin_space_grid_bin_bounds)\n",
    "\n",
    "bin_space_short_track\n",
    "\n",
    "t_range_tuple, neuron_id_range_tuple, xbin_range_tuple = viewer.dims.range\n",
    "t_range_tuple\n",
    "\n",
    "\n",
    "bin_space_grid_bin_bounds\n",
    "half_xbin_width = float(xbin_width)/2.0\n",
    "half_xbin_width\n",
    "bin_space_short_track.track_dimensions.scaled_total_length\n",
    "# vertices are top-left and bottom-right corners\n",
    "# [(x, 0.0, w, h) for x, y, w, h, *_unused in bin_space_short_track.rects]\n",
    "# short_track_rectangle_data = [BoundsRect.init_from_x_y_w_h_tuple((x+np.abs(x), y, w, h)).corner_points for x, y, w, h, *_unused in bin_space_short_track.rects]\n",
    "short_track_rectangle_data = [np.hstack((np.zeros((4,1)), BoundsRect.init_from_x_y_w_h_tuple((x+half_xbin_width, y, w, h)).corner_points))[:, :][:, [0, 2, 1]] for x, y, w, h, *_unused in bin_space_short_track.rects]\n",
    "long_track_rectangle_data = np.vstack([np.hstack((np.zeros((4,1)), BoundsRect.init_from_x_y_w_h_tuple((x+half_xbin_width, y, w, h)).corner_points))[:, [0, 2, 1]] for x, y, w, h, *_unused in bin_space_long_track.rects])\n",
    "\n",
    "# short_track_rectangle_data = np.vstack(short_track_rectangle_data)\n",
    "short_track_rectangle_data\n",
    "\n",
    "# array([[0, 2.375, 35], # bottom-left\n",
    "    #    [0, 2.625, 35], # bottom-right\n",
    "    #    [0, 2.375, 46.112], # top-left\n",
    "    #    [0, 2.625, 46.112], # top-right\n",
    "\n",
    "# [0,2,3,1]"
   ]
  },
  {
   "cell_type": "code",
   "execution_count": null,
   "id": "0bb201f1",
   "metadata": {},
   "outputs": [],
   "source": [
    "import itertools\n",
    "\n",
    "# sync_point_y = -0.750314\n",
    "sync_point_y = 0.0 # the bottom (y-axis) value of the track\n",
    "track_platform_height_y = -5.19389 # the top coordinate (y-axis) value of the platforms\n",
    "\n",
    "## Time indicies for tracks:\n",
    "time_index = 0\n",
    "long_short_change_time_index = 2097 # APPROXIMATE\n",
    "t_range_tuple, neuron_id_range_tuple, xbin_range_tuple = viewer.dims.range\n",
    "long_time_indicies = np.arange(t_range_tuple[0], long_short_change_time_index)\n",
    "short_time_indicies = np.arange(long_short_change_time_index, (t_range_tuple[1]-t_range_tuple[2]))\n",
    "\n",
    "### Long Track Shape Layer:\n",
    "# Where the platform and the track connect:\n",
    "track_platform_connect_x_min = 14.157\n",
    "track_platform_connect_x_max = 91.6898\n",
    "long_track_shapes_data = list(itertools.chain.from_iterable([\n",
    "[\n",
    "np.array([[time_index, track_platform_height_y, track_platform_connect_x_max],\n",
    "        [time_index, track_platform_height_y, 106.093],\n",
    "        [time_index, sync_point_y, 106.093],\n",
    "        [time_index, sync_point_y, track_platform_connect_x_max]]),\n",
    " np.array([[time_index, -3.66162, 14.0037],\n",
    "        [time_index, -3.66162, track_platform_connect_x_max],\n",
    "        [time_index, sync_point_y, track_platform_connect_x_max],\n",
    "        [time_index, sync_point_y, 14.0037]]),\n",
    " np.array([[time_index, track_platform_height_y, -0.246354],\n",
    "        [time_index, track_platform_height_y, track_platform_connect_x_min],\n",
    "        [time_index, sync_point_y, track_platform_connect_x_min],\n",
    "        [time_index, sync_point_y, -0.246354]])\n",
    "]\n",
    "for time_index in long_time_indicies]))\n",
    "long_track_shapes_layer = viewer.add_shapes(long_track_shapes_data, shape_type='rectangle', name='long_track', edge_width=0, face_color='#aa0000ff')\n",
    "long_track_shapes_layer.editable = False\n",
    "\n",
    "\n",
    "### Short Track Shape Layer:\n",
    "# Where the platform and the track connect:\n",
    "track_platform_connect_x_min = 28.2539\n",
    "track_platform_connect_x_max = 73.7623\n",
    "\n",
    "short_track_shapes_data =  list(itertools.chain.from_iterable([\n",
    "[\n",
    "np.array([[time_index, track_platform_height_y, track_platform_connect_x_max],\n",
    "        [time_index, track_platform_height_y, 88.1655],\n",
    "        [time_index, sync_point_y, 88.1655],\n",
    "        [time_index, sync_point_y, track_platform_connect_x_max]]),\n",
    "np.array([[time_index, -3.66162, 28.1006],\n",
    "        [time_index, -3.66162, track_platform_connect_x_max],\n",
    "        [time_index, sync_point_y, track_platform_connect_x_max],\n",
    "        [time_index, sync_point_y, 28.1006]]),\n",
    "np.array([[time_index, track_platform_height_y, 13.8505],\n",
    "        [time_index, track_platform_height_y, track_platform_connect_x_min],\n",
    "        [time_index, sync_point_y, track_platform_connect_x_min],\n",
    "        [time_index, sync_point_y, 13.8505]])\n",
    "]\n",
    "for time_index in short_time_indicies]))\n",
    "\n",
    "short_track_shapes_layer = viewer.add_shapes(short_track_shapes_data, shape_type='rectangle', name='short_track', edge_width=0, face_color='royalblue')\n",
    "short_track_shapes_layer.editable = False"
   ]
  },
  {
   "cell_type": "code",
   "execution_count": null,
   "id": "04b12bac",
   "metadata": {},
   "outputs": [],
   "source": [
    "long_track_shapes_layer.data"
   ]
  },
  {
   "cell_type": "code",
   "execution_count": null,
   "id": "2bc1240f",
   "metadata": {},
   "outputs": [],
   "source": [
    "shapes_layer = viewer.layers['short_track_rectangle_data']\n",
    "shapes_layer.data\n",
    "\n",
    "\n",
    "\n"
   ]
  },
  {
   "cell_type": "markdown",
   "id": "3fb9ebf9",
   "metadata": {},
   "source": [
    "# Test classifying various x-positions as belonging to outside the outside_maze, the track_endcaps, or the track_body"
   ]
  },
  {
   "cell_type": "code",
   "execution_count": null,
   "id": "0ce4a39a",
   "metadata": {},
   "outputs": [],
   "source": [
    "long_rects_outputs, short_rects_outputs = add_track_shapes(grid_bin_bounds, ax=None)"
   ]
  },
  {
   "cell_type": "code",
   "execution_count": null,
   "id": "7494b78c",
   "metadata": {},
   "outputs": [],
   "source": [
    "# long_offset=(150.0, 0.5)\n",
    "# short_offset=(150.0, -0.5)\n",
    "\n",
    "long_offset=(grid_bin_bounds.center_point[0], 0.5)\n",
    "short_offset=(grid_bin_bounds.center_point[0], -0.5)\n",
    "\n",
    "# # Create a second y-axis sharing the same x-axis as ax\n",
    "# ax2 = ax.twinx()\n",
    "# # ax2.plot(x, y2, 'b-')\n",
    "# ax2.set_ylabel('Track data', color='b')\n",
    "# # Set the adjustable attribute to 'datalim'\n",
    "# ax.set_adjustable('datalim')\n",
    "# ax2.set_adjustable('datalim')\n",
    "# long_track_dims.plot_rects(ax2, offset=long_offset)\n",
    "# short_track_dims.plot_rects(ax2, offset=short_offset)\n",
    "\n",
    "combined_item, rect_items, rects = long_track_dims.plot_rects(ax, offset=long_offset)\n",
    "short_track_dims.plot_rects(ax, offset=short_offset)"
   ]
  },
  {
   "cell_type": "code",
   "execution_count": null,
   "id": "36198209",
   "metadata": {},
   "outputs": [],
   "source": [
    "fig, ax1, ax2 = test_LinearTrackDimensions_2D_Matplotlib(long_track_dims, short_track_dims, long_offset=(150.0, 0.5), short_offset=(150.0, -0.5))"
   ]
  },
  {
   "cell_type": "code",
   "execution_count": null,
   "id": "5840c779",
   "metadata": {},
   "outputs": [],
   "source": [
    "\n",
    "# Find center from `grid_bin_bounds`\n",
    "# long_pf2D.bin_info\n",
    "grid_bin_bounds = deepcopy(long_pf2D.config.grid_bin_bounds)\n",
    "\n",
    "x_diff = (grid_bin_bounds[0][1] - grid_bin_bounds[0][0])\n",
    "y_diff = (grid_bin_bounds[1][1] - grid_bin_bounds[1][0])\n",
    "print(f'x_diff: {x_diff}, y_diff: {y_diff}')\n",
    "\n",
    "# Find the x, y midpoints:\n",
    "x_midpoint = grid_bin_bounds[0][0] + (x_diff/2.0)\n",
    "y_midpoint = grid_bin_bounds[1][0] + (y_diff/2.0)\n",
    "print(f'x_midpoint: {x_midpoint}, y_midpoint: {y_midpoint}')\n"
   ]
  },
  {
   "cell_type": "code",
   "execution_count": null,
   "id": "5185f516",
   "metadata": {},
   "outputs": [],
   "source": [
    "grid_bin_bounds_center_point = (point_tuple_mid_point(grid_bin_bounds[0]), point_tuple_mid_point(grid_bin_bounds[1])) # (145.43, 140.61)\n",
    "x_midpoint, y_midpoint = grid_bin_bounds_center_point"
   ]
  },
  {
   "cell_type": "code",
   "execution_count": null,
   "id": "5163e5e2",
   "metadata": {},
   "outputs": [],
   "source": [
    "\n",
    "# long_track_dims.total_length # 214.0\n",
    "# short_track_dims.total_length # 144.0\n",
    "# zero_alignment_point = self.total_length/2.0\n",
    "long_notable_x_positions, _long_notable_y_positions = long_track_dims._build_component_notable_positions(offset_point=(x_midpoint, y_midpoint))\n",
    "short_notable_x_positions, _short_notable_y_positions = short_track_dims._build_component_notable_positions(offset_point=(x_midpoint, y_midpoint))"
   ]
  },
  {
   "cell_type": "code",
   "execution_count": null,
   "id": "fc254a79",
   "metadata": {},
   "outputs": [],
   "source": [
    "# def _add_vertical_track_bounds_lines(grid_bin_bounds, ax=None):\n",
    "# \t\"\"\" \n",
    "# \tCaptures: long_notable_x_positions, short_notable_x_positions\n",
    "\t\n",
    "# \tUsage:\n",
    "# \t\tgrid_bin_bounds = deepcopy(long_pf2D.config.grid_bin_bounds)\n",
    "# \t\tlong_track_line_collection, short_track_line_collection = _add_vertical_track_bounds_lines(grid_bin_bounds=grid_bin_bounds, ax=ax)\n",
    "\n",
    "# \t\"\"\"\n",
    "# \tlong_track_dims = LinearTrackDimensions(track_length=170.0)\n",
    "# \tshort_track_dims = LinearTrackDimensions(track_length=100.0)\n",
    "\n",
    "# \t# Find center from `grid_bin_bounds` using `point_tuple_mid_point`\n",
    "# \tx_midpoint, y_midpoint = (point_tuple_mid_point(grid_bin_bounds[0]), point_tuple_mid_point(grid_bin_bounds[1])) # grid_bin_bounds_center_point: (145.43, 140.61)\n",
    "\n",
    "# \tlong_notable_x_positions, _long_notable_y_positions = long_track_dims._build_component_notable_positions(offset_point=(x_midpoint, y_midpoint))\n",
    "# \tshort_notable_x_positions, _short_notable_y_positions = short_track_dims._build_component_notable_positions(offset_point=(x_midpoint, y_midpoint))\n",
    "\n",
    "# \t# Omit the midpoint\n",
    "# \tlong_notable_x_platform_positions = long_notable_x_positions[[0,1,3,4]]\n",
    "# \tshort_notable_x_platform_positions = short_notable_x_positions[[0,1,3,4]]\n",
    "\n",
    "# \t## Adds to current axes:\n",
    "# \tif ax is None:\n",
    "# \t\tfig = plt.gcf()\n",
    "# \t\taxs = fig.get_axes()\n",
    "# \t\tax = axs[0]\n",
    "# \tlong_track_line_collection: matplotlib.collections.LineCollection = plt.vlines(long_notable_x_platform_positions, label='long_track_x_pos_lines', ymin=ax.get_ybound()[0], ymax=ax.get_ybound()[1], colors='#0000FFAA', linestyles='dashed') # matplotlib.collections.LineCollection\n",
    "# \tshort_track_line_collection: matplotlib.collections.LineCollection = plt.vlines(short_notable_x_platform_positions, label='short_track_x_pos_lines', ymin=ax.get_ybound()[0], ymax=ax.get_ybound()[1], colors='#FF0000AA', linestyles='dashed') # matplotlib.collections.LineCollection\n",
    "# \treturn long_track_line_collection, short_track_line_collection\n",
    "\n",
    "grid_bin_bounds = deepcopy(long_pf2D.config.grid_bin_bounds)\n",
    "long_track_line_collection, short_track_line_collection = add_vertical_track_bounds_lines(grid_bin_bounds=grid_bin_bounds, ax=None)"
   ]
  },
  {
   "cell_type": "code",
   "execution_count": null,
   "id": "df2650ca",
   "metadata": {},
   "outputs": [],
   "source": [
    "rect_items, rects = long_track_dims.plot_rects(axs[0]) # , offset=(x, y) # , offset=(0.1, 100.0)\n"
   ]
  },
  {
   "cell_type": "code",
   "execution_count": null,
   "id": "f20cfaa3",
   "metadata": {},
   "outputs": [],
   "source": [
    "long_track_line_collection.remove()"
   ]
  },
  {
   "cell_type": "code",
   "execution_count": null,
   "id": "4d7b24ac",
   "metadata": {},
   "outputs": [],
   "source": [
    "short_track_line_collection.remove()"
   ]
  },
  {
   "cell_type": "code",
   "execution_count": null,
   "id": "9bdae8e4",
   "metadata": {},
   "outputs": [],
   "source": [
    "long_track_dims.plot_rects(ax, offset=)\n"
   ]
  },
  {
   "cell_type": "code",
   "execution_count": null,
   "id": "9e8a25f9",
   "metadata": {},
   "outputs": [],
   "source": [
    "fig = plt.gcf()\n",
    "axs = fig.get_axes()\n",
    "ax = axs[0]"
   ]
  },
  {
   "cell_type": "code",
   "execution_count": null,
   "id": "69a48933",
   "metadata": {},
   "outputs": [],
   "source": [
    "long_track_line_collection.remove()\n",
    "short_track_line_collection.remove()"
   ]
  },
  {
   "cell_type": "code",
   "execution_count": null,
   "id": "a142c83a",
   "metadata": {},
   "outputs": [],
   "source": [
    "from pyphoplacecellanalysis.PhoPositionalData.plotting.placefield import plot_1D_placecell_validation\n",
    "\n",
    "_out = plot_1D_placecell_validation(long_pf1D, 0)\n",
    "\n",
    "axes = _out[1]\n",
    "ax = axes[0]\n",
    "# ax = axes[1]\n",
    "ax"
   ]
  },
  {
   "cell_type": "code",
   "execution_count": null,
   "id": "ff10cf3b",
   "metadata": {},
   "outputs": [],
   "source": [
    "long_track_dims = LinearTrackDimensions.init_from_grid_bin_bounds(grid_bin_bounds=grid_bin_bounds, debug_print=True)\n",
    "\n",
    "fig, axs = plt.subplots(2, 1)\n",
    "\n",
    "rect_items, rects = long_track_dims.plot_rects(axs[0]) # , offset=(x, y) # , offset=(0.1, 100.0)\n"
   ]
  },
  {
   "cell_type": "code",
   "execution_count": null,
   "id": "4d5cf4f6",
   "metadata": {},
   "outputs": [],
   "source": [
    "\n",
    "# long_track_dims.plot_rects(ax)"
   ]
  },
  {
   "cell_type": "code",
   "execution_count": null,
   "id": "4064c13b",
   "metadata": {},
   "outputs": [],
   "source": [
    "_out = curr_active_pipeline.display('_display_grid_bin_bounds_validation', curr_active_pipeline.get_session_context(), defer_render=False, save_figure=True)\n",
    "fig = _out.figures[0]\n",
    "ax = _out.axes[0]"
   ]
  },
  {
   "cell_type": "code",
   "execution_count": null,
   "id": "0f1d9c53",
   "metadata": {},
   "outputs": [],
   "source": [
    "# Extract the bounding box coordinates and dimensions\n",
    "bbox = ax.bbox\n",
    "x, y, width, height = bbox.x0, bbox.y0, bbox.width, bbox.height\n",
    "x, y, width, height"
   ]
  },
  {
   "cell_type": "code",
   "execution_count": null,
   "id": "8b78ccf2",
   "metadata": {},
   "outputs": [],
   "source": [
    "ax_empty = ax"
   ]
  },
  {
   "cell_type": "code",
   "execution_count": null,
   "id": "78e6b7ec",
   "metadata": {},
   "outputs": [],
   "source": [
    "rect_items, rects = long_track_dims.plot_rects(ax_empty) # , offset=(x, y) # , offset=(0.1, 100.0)\n"
   ]
  },
  {
   "cell_type": "code",
   "execution_count": null,
   "id": "1305f288",
   "metadata": {},
   "outputs": [],
   "source": [
    "(320.0, 983.7668560462606, 901.8181818181818, 91.99628790747863)\n",
    "active_track_dims = LinearTrackDimensions(width=901.8181818181818)"
   ]
  },
  {
   "cell_type": "code",
   "execution_count": null,
   "id": "f6645194",
   "metadata": {},
   "outputs": [],
   "source": [
    "import numpy as np\n",
    "import matplotlib.pyplot as plt\n",
    "import matplotlib.patches as patches\n",
    "from matplotlib.transforms import Bbox\n",
    "\n",
    "# Step 2: Define a simple vector graphic (an arrow in this case)\n",
    "def draw_arrow(ax, x, y, width, height):\n",
    "    arrow = patches.FancyArrow(x, y, width, height, width=0.2*height, color=\"red\")\n",
    "    ax.add_patch(arrow)\n",
    "\n",
    "# Step 3: Scale and draw the arrow within a bounding box\n",
    "def draw_scaled_arrow_in_bbox(ax, bbox):\n",
    "    # Extract the bounding box coordinates and dimensions\n",
    "    x, y, width, height = bbox.x0, bbox.y0, bbox.width, bbox.height\n",
    "\n",
    "    # Draw the bounding box (for visualization)\n",
    "    rect = patches.Rectangle((x, y), width, height, linewidth=1, edgecolor='black', facecolor='none')\n",
    "    ax.add_patch(rect)\n",
    "\n",
    "    # Draw the scaled arrow within the bounding box\n",
    "    draw_arrow(ax, x, y, width, height)\n",
    "\n",
    "# Main code\n",
    "fig, ax = plt.subplots()\n",
    "bbox = Bbox.from_bounds(0.2, 0.2, 0.6, 0.6)  # Define bounding box with [x, y, width, height]\n",
    "\n",
    "draw_scaled_arrow_in_bbox(ax, bbox)\n",
    "\n",
    "ax.set_xlim(0, 1)\n",
    "ax.set_ylim(0, 1)\n",
    "ax.set_aspect('equal')\n",
    "plt.show()\n"
   ]
  },
  {
   "cell_type": "code",
   "execution_count": null,
   "id": "c9b365b4",
   "metadata": {},
   "outputs": [],
   "source": [
    "rect_items[0]"
   ]
  },
  {
   "cell_type": "code",
   "execution_count": null,
   "id": "7ea4f99d",
   "metadata": {},
   "outputs": [],
   "source": [
    "rects"
   ]
  },
  {
   "cell_type": "markdown",
   "id": "a6c8f5ab",
   "metadata": {},
   "source": [
    "# 2023-09-21 - Continuous Surprise Figure - How do I display it?"
   ]
  },
  {
   "cell_type": "code",
   "execution_count": null,
   "id": "44dbe065",
   "metadata": {},
   "outputs": [],
   "source": [
    "# '_perform_time_dependent_pf_sequential_surprise_computation'\n",
    "from pyphoplacecellanalysis.General.Pipeline.Stages.DisplayFunctions.MultiContextComparingDisplayFunctions.LongShortTrackComparingDisplayFunctions import plot_long_short_surprise_difference_plot, plot_long_short, plot_long_short_any_values\n",
    "from pyphoplacecellanalysis.SpecificResults.fourthYearPresentation import fig_surprise_results\n",
    "\n",
    "from neuropy.utils.matplotlib_helpers import draw_epoch_regions\n",
    "from pyphocorehelpers.DataStructure.RenderPlots.MatplotLibRenderPlots import MatplotlibRenderPlots\n",
    "from pyphoplacecellanalysis.General.Model.Configs.LongShortDisplayConfig import LongShortDisplayConfigManager\n",
    "long_short_display_config_manager = LongShortDisplayConfigManager()\n",
    "long_epoch_config = long_short_display_config_manager.long_epoch_config.as_matplotlib_kwargs()\n",
    "short_epoch_config = long_short_display_config_manager.short_epoch_config.as_matplotlib_kwargs()\n",
    "\n",
    "graphics_outputs_list = fig_surprise_results(curr_active_pipeline)\n"
   ]
  },
  {
   "cell_type": "markdown",
   "id": "00d58220",
   "metadata": {},
   "source": [
    "### FOUND! 2023-09-21 - Found code that generated surprise plots, strangely not stored anywhere!"
   ]
  },
  {
   "cell_type": "code",
   "execution_count": null,
   "id": "bfe7b982",
   "metadata": {},
   "outputs": [],
   "source": [
    "# note: nSnapshots == n_post_update_times\n",
    "active_relative_entropy_results = active_extended_stats['pf_dt_sequential_surprise']\n",
    "post_update_times = active_relative_entropy_results['post_update_times'] # (4123,) = (nSnapshots,)\n",
    "snapshot_differences_result_dict = active_relative_entropy_results['snapshot_differences_result_dict']\n",
    "time_intervals = active_relative_entropy_results['time_intervals']\n",
    "long_short_rel_entr_curves_frames = active_relative_entropy_results['long_short_rel_entr_curves_frames'] # (4123, 108, 63) = (nSnapshots, n_neurons, n_xbins)\n",
    "short_long_rel_entr_curves_frames = active_relative_entropy_results['short_long_rel_entr_curves_frames'] # (4123, 108, 63) = (nSnapshots, n_neurons, n_xbins)\n",
    "flat_relative_entropy_results = active_relative_entropy_results['flat_relative_entropy_results'] # (4123, 63) - (nSnapshots, nXbins)\n",
    "flat_jensen_shannon_distance_results = active_relative_entropy_results['flat_jensen_shannon_distance_results'] # (4123, 63) - (nSnapshots, nXbins)\n",
    "flat_jensen_shannon_distance_across_all_positions = np.sum(np.abs(flat_jensen_shannon_distance_results), axis=1) # sum across all position bins # (4123,) - (nSnapshots)\n",
    "flat_surprise_across_all_positions = np.sum(np.abs(flat_relative_entropy_results), axis=1) # sum across all position bins # (4123,) - (nSnapshots)\n",
    "nSnapshots, n_neurons, n_xbins = np.shape(long_short_rel_entr_curves_frames)\n",
    "print(f'nSnapshots: {nSnapshots}, n_neurons: {n_neurons}, n_xbins: {n_xbins}') # nSnapshots: 3308, n_neurons: 85, n_xbins: 107"
   ]
  },
  {
   "cell_type": "code",
   "execution_count": null,
   "id": "1200faa4",
   "metadata": {},
   "outputs": [],
   "source": [
    "# post_update_times.shape\n",
    "# np.shape(post_update_times)[0]\n",
    "\n"
   ]
  },
  {
   "cell_type": "code",
   "execution_count": null,
   "id": "c61282cd",
   "metadata": {},
   "outputs": [],
   "source": [
    "np.shape(flat_jensen_shannon_distance_results)"
   ]
  },
  {
   "cell_type": "code",
   "execution_count": null,
   "id": "3c2d8d3c",
   "metadata": {},
   "outputs": [],
   "source": [
    "np.shape(flat_relative_entropy_results)"
   ]
  },
  {
   "cell_type": "code",
   "execution_count": null,
   "id": "922a7718",
   "metadata": {},
   "outputs": [],
   "source": [
    "np.shape(flat_jensen_shannon_distance_across_all_positions)"
   ]
  },
  {
   "cell_type": "code",
   "execution_count": null,
   "id": "1194c2c0",
   "metadata": {},
   "outputs": [],
   "source": [
    "np.shape(long_short_rel_entr_curves_frames)"
   ]
  },
  {
   "cell_type": "code",
   "execution_count": null,
   "id": "a303ca32",
   "metadata": {},
   "outputs": [],
   "source": []
  },
  {
   "cell_type": "code",
   "execution_count": null,
   "id": "bb7205c0",
   "metadata": {},
   "outputs": [],
   "source": [
    "## NOTE: these results are NOT the same as the ones calculated in compute_snapshot_relative_entropy_surprise_differences.compute_surprise_relative_entropy_divergence, and I'm not quite sure why:\n",
    "# Jensen-Shannon distance is an average of KL divergence:\n",
    "from scipy.special import rel_entr\n",
    "mixture_distribution = 0.5 * (long_short_rel_entr_curves_frames + short_long_rel_entr_curves_frames)\n",
    "print(f'mixture_distribution.shape: {np.shape(mixture_distribution)}') # (nSnapshots, n_neurons, n_xbins)\n",
    "# jensen_shannon_distance = 0.5 * (sum(rel_entr(mixture_distribution, long_short_rel_entr_curves_frames)) + sum(rel_entr(mixture_distribution, short_long_rel_entr_curves_frames))) # is this right? I'm confused by sum(...) # (n_neurons, n_xbins)\n",
    "jensen_shannon_distance = 0.5 * (np.sum(rel_entr(mixture_distribution, long_short_rel_entr_curves_frames), axis=1) + np.sum(rel_entr(mixture_distribution, short_long_rel_entr_curves_frames), axis=1)) # alt version: (nSnapshots, n_xbins)\n",
    "print(f'jensen_shannon_distance.shape: {np.shape(jensen_shannon_distance)}') # (n_neurons, n_xbins)"
   ]
  },
  {
   "cell_type": "code",
   "execution_count": null,
   "id": "46af026e",
   "metadata": {},
   "outputs": [],
   "source": [
    "np.isclose(flat_jensen_shannon_distance_results, jensen_shannon_distance).all()\n"
   ]
  },
  {
   "cell_type": "code",
   "execution_count": null,
   "id": "db1fd095",
   "metadata": {},
   "outputs": [],
   "source": [
    "viewer.add_image(flat_jensen_shannon_distance_results)"
   ]
  },
  {
   "cell_type": "code",
   "execution_count": null,
   "id": "bb518301",
   "metadata": {},
   "outputs": [],
   "source": [
    "from silx.gui.plot import Plot2D\n",
    "\n",
    "plot = Plot2D()  # Create the plot widget\n",
    "plot.addImage(flat_jensen_shannon_distance_results, legend='flat_jensen_shannon_distance_results')  # Plot the 2D data set with default colormap\n",
    "plot.setGraphTitle('flat_jensen_shannon_distance_results')\n",
    "plot.getXAxis().setLabel('Position Bin')\n",
    "plot.getYAxis().setLabel('Snapshot Timebin')\n",
    "plot.show()  # Make the plot widget visible\n"
   ]
  },
  {
   "cell_type": "code",
   "execution_count": null,
   "id": "7b9eca25",
   "metadata": {},
   "outputs": [],
   "source": [
    "plot = Plot2D()  # Create the plot widget\n",
    "plot.addImage(jensen_shannon_distance, legend='jensen_shannon_distance')  # Plot the 2D data set with default colormap\n",
    "plot.setGraphTitle('jensen_shannon_distance')\n",
    "plot.getXAxis().setLabel('Position Bin')\n",
    "plot.getYAxis().setLabel('Snapshot Timebin')\n",
    "plot.show()  # Make the plot widget visible"
   ]
  },
  {
   "cell_type": "code",
   "execution_count": null,
   "id": "589c3d07",
   "metadata": {},
   "outputs": [],
   "source": [
    "\n",
    "plot = Plot2D()  # Create the plot widget\n",
    "plot.addImage(long_short_rel_entr_curves_frames, legend='image')  # Plot the 2D data set with default colormap\n",
    "plot.setGraphTitle('long_short_rel_entr_curves_frames')\n",
    "# plot.getXAxis().setLabel('Position Bin')\n",
    "# plot.getYAxis().setLabel('Snapshot Timebin')\n",
    "plot.show()  # Make the plot widget visible\n"
   ]
  },
  {
   "cell_type": "code",
   "execution_count": null,
   "id": "a8f8f97b",
   "metadata": {},
   "outputs": [],
   "source": [
    "from silx.gui.plot.StackView import StackViewMainWindow\n",
    "\n",
    "# synthetic data, stack of 100 images of size 200x300\n",
    "# mystack = np.fromfunction(\n",
    "#     lambda i, j, k: np.sin(i/15.) + np.cos(j/4.) + 2 * np.sin(k/6.),\n",
    "#     (100, 200, 300)\n",
    "# )\n",
    "\n",
    "sv = StackViewMainWindow()\n",
    "sv.setColormap(\"jet\", autoscale=True)\n",
    "sv.setStack(long_short_rel_entr_curves_frames)\n",
    "# (4152, 108, 63) = (n_post_update_times, n_neurons, n_xbins)\n",
    "sv.setLabels([\"post_update_time\", \"aclu\", \"Position (xbin)\"])\n",
    "sv.show()"
   ]
  },
  {
   "cell_type": "code",
   "execution_count": null,
   "id": "aa37de28",
   "metadata": {},
   "outputs": [],
   "source": [
    "\n",
    "\n",
    "heatmap_pf1D_win, heatmap_pf1D_img = visualize_heatmap_pyqtgraph(flat_jensen_shannon_distance_results, show_yticks=False, title=f\"flat_jensen_shannon_distance_results\", defer_show=False)"
   ]
  },
  {
   "cell_type": "code",
   "execution_count": null,
   "id": "fa164de6",
   "metadata": {},
   "outputs": [],
   "source": [
    "heatmap_pf1D_win, heatmap_pf1D_img = visualize_heatmap_pyqtgraph(flat_jensen_shannon_distance_across_all_positions, show_yticks=False, title=f\"flat_jensen_shannon_distance_across_all_positions\")"
   ]
  },
  {
   "cell_type": "code",
   "execution_count": null,
   "id": "2295dcfb",
   "metadata": {},
   "outputs": [],
   "source": [
    "from neuropy.utils.matplotlib_helpers import draw_epoch_regions\n",
    "from neuropy.core.epoch import Epoch\n",
    "\n",
    "\n",
    "fig, ax = plt.subplots()\n",
    "ax.plot(post_update_times, flat_surprise_across_all_positions)\n",
    "ax.set_ylabel('Relative Entropy across all positions')\n",
    "ax.set_xlabel('t (seconds)')\n",
    "epochs_collection, epoch_labels = draw_epoch_regions(curr_active_pipeline.sess.epochs, ax, facecolor=('r','cyan'), alpha=0.1, edgecolors=None, labels_kwargs={'y_offset': -0.05, 'size': 14}, defer_render=True, debug_print=False)\n",
    "laps_epochs_collection, laps_epoch_labels = draw_epoch_regions(curr_active_pipeline.sess.laps.as_epoch_obj(), ax, facecolor='r', edgecolors='black', labels_kwargs={'y_offset': -16.0, 'size':8}, defer_render=True, debug_print=False)\n",
    "# replays_epochs_collection, replays_epoch_labels = draw_epoch_regions(active_filter_epoch_obj, ax, facecolor='orange', edgecolors=None, labels_kwargs=None, defer_render=False, debug_print=False)\n",
    "fig.suptitle('flat_surprise_across_all_positions')\n",
    "fig.show()"
   ]
  },
  {
   "cell_type": "code",
   "execution_count": null,
   "id": "1f00561d",
   "metadata": {},
   "outputs": [],
   "source": [
    "fig, ax = plt.subplots()\n",
    "ax.plot(post_update_times, flat_jensen_shannon_distance_across_all_positions, label='JS_Distance')\n",
    "ax.set_ylabel('J-S Distance across all positions')\n",
    "ax.set_xlabel('t (seconds)')\n",
    "epochs_collection, epoch_labels = draw_epoch_regions(curr_active_pipeline.sess.epochs, ax, facecolor=('red','cyan'), alpha=0.1, edgecolors=None, labels_kwargs={'y_offset': -0.05, 'size': 14}, defer_render=True, debug_print=False)\n",
    "laps_epochs_collection, laps_epoch_labels = draw_epoch_regions(curr_active_pipeline.sess.laps.as_epoch_obj(), ax, facecolor='red', edgecolors='black', labels_kwargs={'y_offset': -16.0, 'size':8}, defer_render=True, debug_print=False)\n",
    "# replays_epochs_collection, replays_epoch_labels = draw_epoch_regions(active_filter_epoch_obj, ax, facecolor='orange', edgecolors=None, labels_kwargs=None, defer_render=False, debug_print=False)\n",
    "fig.suptitle('flat_jensen_shannon_distance_across_all_positions')\n",
    "fig.show()"
   ]
  },
  {
   "cell_type": "code",
   "execution_count": null,
   "id": "8df587d6",
   "metadata": {},
   "outputs": [],
   "source": [
    "# Show basic relative entropy vs. time plot:\n",
    "import matplotlib.pyplot as plt\n",
    "fig, ax = plt.subplots()\n",
    "ax.plot(post_update_times, flat_relative_entropy_results)\n",
    "ax.set_ylabel('Relative Entropy')\n",
    "ax.set_xlabel('t (seconds)')\n",
    "epochs_collection, epoch_labels = draw_epoch_regions(curr_active_pipeline.sess.epochs, ax, facecolor=('red','cyan'), alpha=0.1, edgecolors=None, labels_kwargs={'y_offset': -0.05, 'size': 14}, defer_render=False, debug_print=False)\n",
    "fig.show()"
   ]
  },
  {
   "cell_type": "code",
   "execution_count": null,
   "id": "316ffda0",
   "metadata": {},
   "outputs": [],
   "source": [
    "win, plots = plot_long_short_surprise_difference_plot(curr_active_pipeline, long_results_obj, short_results_obj, long_epoch_name, short_epoch_name)"
   ]
  },
  {
   "cell_type": "code",
   "execution_count": null,
   "id": "02dc968a",
   "metadata": {},
   "outputs": [],
   "source": [
    "win, (ax_long, ax_short), legend = plot_long_short(long_results_obj, short_results_obj)"
   ]
  },
  {
   "cell_type": "code",
   "execution_count": null,
   "id": "6066cafc",
   "metadata": {},
   "outputs": [],
   "source": [
    "x_fn = lambda a_results_obj: a_results_obj.all_epochs_decoded_epoch_time_bins_mean[:,0]\n",
    "# y_fn = lambda a_results_obj: a_results_obj.all_epochs_all_cells_one_left_out_posterior_to_scrambled_pf_surprises_mean\n",
    "# y_fn = lambda a_results_obj: a_results_obj.all_epochs_all_cells_one_left_out_posterior_to_pf_surprises_mean\n",
    "y_fn = lambda a_results_obj: a_results_obj.all_epochs_computed_one_left_out_posterior_to_pf_surprises\n",
    "\n",
    "# (time_bins, neurons), (epochs, neurons), (epochs)\n",
    "# all_epochs_computed_one_left_out_posterior_to_pf_surprises, all_epochs_computed_cell_one_left_out_posterior_to_pf_surprises_mean, all_epochs_all_cells_one_left_out_posterior_to_pf_surprises_mean\n",
    "win, plots_tuple, legend = plot_long_short_any_values(long_results_obj, short_results_obj, x=x_fn, y=y_fn) #  limit_aclus=[4]"
   ]
  },
  {
   "cell_type": "code",
   "execution_count": null,
   "id": "3e5d42b6",
   "metadata": {},
   "outputs": [],
   "source": [
    "##TODO 2023-09-21 16:19: - [ ] Does not work due to QCode issue\n",
    "\n",
    "from pyphoplacecellanalysis.General.Pipeline.Stages.DisplayFunctions.MultiContextComparingDisplayFunctions.MultiContextComparingDisplayFunctions import _context_nested_docks\n",
    "\n",
    "\n",
    "# active_display_output = {}\n",
    "# active_identifying_filtered_session_ctx = global_epoch_context\n",
    "# display_output = active_display_output | curr_active_pipeline.display('_display_context_nested_docks', active_identifying_filtered_session_ctx, enable_gui=False, debug_print=False) # returns {'master_dock_win': master_dock_win, 'app': app, 'out_items': out_items}\n",
    "# master_dock_win = display_output['master_dock_win']\n",
    "# app = display_output['app']\n",
    "# out_items = display_output['out_items']\n",
    "\n",
    "include_includelist = curr_active_pipeline.active_completed_computation_result_names # ['maze', 'sprinkle']\n",
    "\n",
    "out_items = {}\n",
    "master_dock_win, app, out_items = _context_nested_docks(curr_active_pipeline, active_config_names=include_includelist, **{'enable_gui': True, 'debug_print': False})\n",
    "master_dock_win"
   ]
  },
  {
   "cell_type": "code",
   "execution_count": null,
   "id": "7326d309",
   "metadata": {},
   "outputs": [],
   "source": [
    "neuron_replay_stats_df: pd.DataFrame = jonathan_firing_rate_analysis_result.neuron_replay_stats_df\n",
    "short_pf_peak_x = neuron_replay_stats_df.short_pf_peak_x.values\n",
    "long_pf_peak_x = neuron_replay_stats_df.long_pf_peak_x.values\n",
    "\n",
    "# long_pf_peak_x_maze_classification = [classify_x_position(test_x, long_rects) for test_x in long_pf_peak_x.values]\n",
    "# short_pf_peak_x_maze_classification = [classify_x_position(test_x, short_rects) for test_x in short_pf_peak_x.values]\n",
    "# [classify_x_position(test_x, short_rects) for test_x in long_pf_peak_x.values]\n",
    "\n",
    "long_track.is_on_maze(long_pf_peak_x)\n",
    "# long_track.is_on_endcap(long_pf_peak_x)"
   ]
  },
  {
   "cell_type": "markdown",
   "id": "5e4bc1b6",
   "metadata": {},
   "source": [
    "## NOW TODO 2023-09-20 22:33: - [ ] Need to fix tests and determing why some peaks are falling outside the bounds (as assessed by the is_on_maze function to see if implementation is valid"
   ]
  },
  {
   "cell_type": "code",
   "execution_count": null,
   "id": "4e13f006",
   "metadata": {},
   "outputs": [],
   "source": [
    "\n",
    "# assert short_track.is_on_maze(short_pf_peak_x)[np.logical_not(np.isnan(short_pf_peak_x))].all(), f\"all valid short peaks should be located on the short track\" # should all be true yeah?\n",
    "assert long_track.is_on_maze(short_pf_peak_x)[np.logical_not(np.isnan(short_pf_peak_x))].all(), f\"all valid short peaks should be located on the long track\"\n",
    "assert long_track.is_on_maze(long_pf_peak_x)[np.logical_not(np.isnan(long_pf_peak_x))].all(), f\"all valid long peaks should be located on the long track. {long_track.is_on_maze(long_pf_peak_x)[np.logical_not(np.isnan(long_pf_peak_x))]}\" # not working\n",
    "assert short_track.is_on_maze(short_pf_peak_x)[np.logical_not(np.isnan(short_pf_peak_x))].all(), f\"all valid short peaks should be located on the short track. {short_track.is_on_maze(short_pf_peak_x)[np.logical_not(np.isnan(short_pf_peak_x))]}\" # not working\n"
   ]
  },
  {
   "cell_type": "code",
   "execution_count": null,
   "id": "89ec27b4",
   "metadata": {},
   "outputs": [],
   "source": [
    "long_track.is_on_endcap(long_pf_peak_x)"
   ]
  },
  {
   "cell_type": "markdown",
   "id": "2f1bc2ae",
   "metadata": {},
   "source": [
    "## Debug Plots for `LinearTrackDimensions` and `LinearTrackInstance`"
   ]
  },
  {
   "cell_type": "code",
   "execution_count": null,
   "id": "cf0ece7e",
   "metadata": {},
   "outputs": [],
   "source": [
    "app, w, cw, (long_track_dims, long_rect_items, long_rects), (short_track_dims, short_rect_items, short_rects) = test_LinearTrackDimensions_2D_pyqtgraph(long_track_dims, short_track_dims)\n"
   ]
  },
  {
   "cell_type": "code",
   "execution_count": null,
   "id": "67cdcb90",
   "metadata": {},
   "outputs": [],
   "source": [
    "fig = plt.gcf()\n",
    "axs = fig.get_axes()\n",
    "ax = axs[0]\n",
    "ax"
   ]
  },
  {
   "cell_type": "code",
   "execution_count": null,
   "id": "29d49be2",
   "metadata": {},
   "outputs": [],
   "source": [
    "import matplotlib.gridspec as gridspec\n",
    "\n",
    "## Adds a new subplot to an existing (fig, ax) without requiring modifications in the original code!\n",
    "\n",
    "# Get the current gridspec from ax\n",
    "gs = ax.get_subplotspec().get_gridspec()\n",
    "\n",
    "# Create a new gridspec with an additional column\n",
    "gs_new = gridspec.GridSpec(1, 2, width_ratios=[1, 0.5]) # new column is half the width of the current one\n",
    "\n",
    "# Reposition the existing ax using the new gridspec\n",
    "ax.set_position(gs_new[0, 0].get_position(fig))\n",
    "\n",
    "# Add a new subplot in the new column\n",
    "ax2 = fig.add_subplot(gs_new[0, 1])\n",
    "\n",
    "\n",
    "ax2.plot(np.cos(np.linspace(0, 10, 100)))\n",
    "# ax2.cla()\n",
    "# long_track_dims.plot_rects(ax2)\n",
    "\n",
    "# long_track_dims.plot_rects(ax2, offset=(0.1, 0.0))\n",
    "\n",
    "plt.tight_layout()\n",
    "plt.show()\n"
   ]
  },
  {
   "cell_type": "code",
   "execution_count": null,
   "id": "3ffd94f9",
   "metadata": {},
   "outputs": [],
   "source": [
    "_out2 = curr_active_pipeline.display('_display_batch_pho_jonathan_replay_firing_rate_comparison', included_unit_neuron_IDs=[2], n_max_plot_rows=2, save_figure=False)\n"
   ]
  },
  {
   "cell_type": "code",
   "execution_count": null,
   "id": "89a1d5be",
   "metadata": {},
   "outputs": [],
   "source": [
    "from pyphoplacecellanalysis.SpecificResults.fourthYearPresentation import fig_example_handpicked_pho_jonathan_active_set_cells\n",
    "\n",
    "_LxC_out, _SxC_out = fig_example_handpicked_pho_jonathan_active_set_cells(curr_active_pipeline, save_figure=True, included_LxC_example_neuron_IDs=[4, 58], included_SxC_example_neuron_IDs=[2])"
   ]
  },
  {
   "cell_type": "code",
   "execution_count": null,
   "id": "f6907963",
   "metadata": {},
   "outputs": [],
   "source": [
    "# from neuropy.analyses.placefields import PfnDMixin, plotRaw_v_time\n",
    "from neuropy.analyses.placefields import PfnDMixin\n",
    "\n",
    "curr_active_pipeline.reload_default_display_functions()\n",
    "\n",
    "_out3 = long_pf1D.plotRaw_v_time(0, should_include_trajectory=True, should_include_spikes=False, should_include_labels=True, use_filtered_positions=True, use_pandas_plotting=False)"
   ]
  },
  {
   "cell_type": "code",
   "execution_count": null,
   "id": "32a88a57",
   "metadata": {},
   "outputs": [],
   "source": [
    "_out4 = long_pf1D.plotRaw_v_time(0, should_include_trajectory=True, should_include_spikes=False, should_include_labels=True, use_filtered_positions=False, use_pandas_plotting=False)\n",
    "# _out4 = long_pf1D.plotRaw_v_time(0, should_include_trajectory=True, should_include_spikes=False, should_include_labels=True, use_filtered_positions=False, use_pandas_plotting=True)"
   ]
  },
  {
   "cell_type": "markdown",
   "id": "51ff3397",
   "metadata": {},
   "source": [
    "# PhoKamran2023Paper Results"
   ]
  },
  {
   "cell_type": "markdown",
   "id": "f9e59bdb",
   "metadata": {},
   "source": [
    "## Figure 1) pf1D Ratemaps, Active set, etc"
   ]
  },
  {
   "cell_type": "code",
   "execution_count": null,
   "id": "f77377ba",
   "metadata": {},
   "outputs": [],
   "source": [
    "from pyphoplacecellanalysis.General.Pipeline.Stages.DisplayFunctions.SpikeRasters import plot_multiple_raster_plot, plot_raster_plot\n",
    "from pyphoplacecellanalysis.Pho2D.matplotlib.visualize_heatmap import visualize_heatmap_pyqtgraph # used in `plot_kourosh_activity_style_figure`\n",
    "from pyphoplacecellanalysis.General.Batch.PhoDiba2023Paper import PAPER_FIGURE_figure_1_full, PAPER_FIGURE_figure_1_add_replay_epoch_rasters\n"
   ]
  },
  {
   "cell_type": "code",
   "execution_count": null,
   "id": "5035f2d5",
   "metadata": {},
   "outputs": [],
   "source": [
    "# curr_active_pipeline.reload_default_display_functions()\n",
    "\n",
    "pf1d_compare_graphics, (example_epoch_rasters_L, example_epoch_rasters_S), example_stacked_epoch_graphics, fig_1c_figures_out_dict = PAPER_FIGURE_figure_1_full(curr_active_pipeline) # did not display the pf1"
   ]
  },
  {
   "cell_type": "code",
   "execution_count": null,
   "id": "05664e46",
   "metadata": {},
   "outputs": [],
   "source": [
    "rdf = jonathan_firing_rate_analysis_result.rdf.rdf\n",
    "rdf\n"
   ]
  },
  {
   "cell_type": "markdown",
   "id": "267b2335",
   "metadata": {},
   "source": [
    "## Figure 2) `PaperFigureTwo`: LxC/SxC Analyses\n",
    "Note: this fails when SxC or LxC are empty for this session (as it's not meaningful to produce a comparison bar plot). In this case, aggregate across multiple sessions."
   ]
  },
  {
   "cell_type": "code",
   "execution_count": null,
   "id": "c63d9b59",
   "metadata": {},
   "outputs": [],
   "source": [
    "from pyphoplacecellanalysis.General.Batch.PhoDiba2023Paper import PaperFigureTwo\n",
    "\n",
    "_out_fig_2 = PaperFigureTwo(instantaneous_time_bin_size_seconds=0.01) # 10ms\n",
    "_out_fig_2.compute(curr_active_pipeline=curr_active_pipeline)\n",
    "_out_fig_2.display()"
   ]
  },
  {
   "cell_type": "markdown",
   "id": "403e5c60",
   "metadata": {},
   "source": [
    "## Figure 3) `PAPER_FIGURE_figure_3`: Firing Rate Index and Long/Short Firing Rate Replays v. Laps"
   ]
  },
  {
   "cell_type": "code",
   "execution_count": null,
   "id": "6932845c",
   "metadata": {},
   "outputs": [],
   "source": [
    "from neuropy.utils.matplotlib_helpers import FormattedFigureText\n",
    "from pyphoplacecellanalysis.General.Pipeline.Stages.DisplayFunctions.MultiContextComparingDisplayFunctions.LongShortTrackComparingDisplayFunctions import _plot_long_short_firing_rate_indicies\n",
    "# curr_active_pipeline.reload_default_display_functions()\n",
    "\n",
    "_out, _out2 = PAPER_FIGURE_figure_3(curr_active_pipeline, defer_render=False, save_figure=False)"
   ]
  },
  {
   "cell_type": "markdown",
   "id": "9796ffb1",
   "metadata": {},
   "source": [
    "## Other Paper-related explorations:"
   ]
  },
  {
   "cell_type": "code",
   "execution_count": null,
   "id": "d90dda8e",
   "metadata": {},
   "outputs": [],
   "source": [
    "_out2.figures\n",
    "_out.axes"
   ]
  },
  {
   "cell_type": "code",
   "execution_count": null,
   "id": "76a2984c",
   "metadata": {},
   "outputs": [],
   "source": [
    "\n",
    "['start']\n",
    "\n",
    "\n",
    "# Any change in duration over the recording session duration?\n",
    "rdf['duration']\n",
    "\n",
    "# rdf.plot.scatter('start', 'duration')\n",
    "\n",
    "# rdf.plot.scatter('duration', 'num_neuron_participating') # strong positive trend\n",
    "\n",
    "# rdf.plot.scatter('start', 'num_neuron_participating') # num neurons participating seems to increase over time, especially after the short track is introduced. Contrary to my hypothesis.\n",
    "\n",
    "rdf.plot.scatter('start', 'num_short_only_neuron_participating')\n",
    "\n",
    "\n",
    "\n",
    "\n",
    "# ['num_neuron_participating']"
   ]
  },
  {
   "cell_type": "code",
   "execution_count": null,
   "id": "57dc28f8",
   "metadata": {},
   "outputs": [],
   "source": [
    "curr_active_pipeline.reload_default_display_functions()\n",
    "a_plot_obj = curr_active_pipeline.plot\n",
    "a_plot_obj._display_spike_rasters_pyqtplot_2D()\n",
    "# '_display_spike_rasters_pyqtplot_2D': ' Plots a standalone 2D raster plot\\n        ',\n",
    "# '_display_spike_rasters_pyqtplot_3D': ' Plots a standalone 3D raster plot with independent/standalone controls built-in\\n        ',\n",
    "# '_display_spike_rasters_pyqtplot_3D_with_2D_controls': ' Plots a standalone 3D raster plot (via pyqtgraph) with a separate 2D raster plot as the window with which you can adjust the viewed window. \\n        ',\n",
    "# '_display_spike_rasters_vedo_3D': ' Plots a standalone 3D raster plot with independent/standalone controls built-in\\n        ',\n",
    "# '_display_spike_rasters_vedo_3D_with_2D_controls': ' Plots a standalone 3D raster plot (via Vedo) with a separate 2D raster plot as the window with which you can adjust the viewed window. \\n        ',\n",
    "# '_display_spike_rasters_window': ' Displays a Spike3DRasterWindowWidget with a configurable set of raster widgets and controls in it.\\n        ',type"
   ]
  },
  {
   "cell_type": "code",
   "execution_count": null,
   "id": "7b0c9b54",
   "metadata": {},
   "outputs": [],
   "source": [
    "curr_active_pipeline.registered_display_function_docs_dict"
   ]
  },
  {
   "cell_type": "code",
   "execution_count": null,
   "id": "3877d9aa",
   "metadata": {},
   "outputs": [],
   "source": [
    "pf1d_compare_fig_L, pf1d_compare_fig_S = pf1d_compare_graphics.figures\n"
   ]
  },
  {
   "cell_type": "code",
   "execution_count": null,
   "id": "d44ffa57",
   "metadata": {
    "tags": [
     "active"
    ]
   },
   "outputs": [],
   "source": [
    "from pyphoplacecellanalysis.General.Batch.PhoDiba2023Paper import build_shared_sorted_neuronIDs\n",
    "from pyphoplacecellanalysis.Pho2D.matplotlib.visualize_heatmap import visualize_heatmap_pyqtgraph\n",
    "\n",
    "ratemap = long_pf1D.ratemap\n",
    "included_unit_neuron_IDs = EITHER_subset.track_exclusive_aclus\n",
    "rediculous_final_sorted_all_included_neuron_ID, rediculous_final_sorted_all_included_pfmap = build_shared_sorted_neuronIDs(ratemap, included_unit_neuron_IDs, sort_ind=new_all_aclus_sort_indicies.copy())"
   ]
  },
  {
   "cell_type": "code",
   "execution_count": null,
   "id": "17c7755b",
   "metadata": {},
   "outputs": [],
   "source": [
    "heatmap_pf1D_win, heatmap_pf1D_img = visualize_heatmap_pyqtgraph(rediculous_final_sorted_all_included_pfmap, show_yticks=False, title=f\"pf1D Sorted Visualization\", defer_show=True)"
   ]
  },
  {
   "cell_type": "code",
   "execution_count": null,
   "id": "e66369f5",
   "metadata": {},
   "outputs": [],
   "source": []
  },
  {
   "cell_type": "code",
   "execution_count": null,
   "id": "4d7261b7",
   "metadata": {},
   "outputs": [],
   "source": [
    "active_curves_sorted = long_pf1D.ratemap.normalized_tuning_curves[is_included][included_new_all_aclus_sort_indicies]\n",
    "heatmap_pf1D_win, heatmap_pf1D_img = visualize_heatmap_pyqtgraph(active_curves_sorted, show_yticks=False, title=f\"pf1D Sorted Visualization\", defer_show=True)"
   ]
  },
  {
   "cell_type": "code",
   "execution_count": null,
   "id": "9c5f0066",
   "metadata": {
    "tags": [
     "unwrap_figure_output",
     "interactive"
    ]
   },
   "outputs": [],
   "source": []
  },
  {
   "cell_type": "code",
   "execution_count": null,
   "id": "61a588ec",
   "metadata": {},
   "outputs": [],
   "source": [
    "from pyphoplacecellanalysis.Pho2D.stacked_epoch_slices import DecodedEpochSlicesPaginatedFigureController\n",
    "\n",
    "## Stacked Epoch Plot\n",
    "example_stacked_epoch_graphics = curr_active_pipeline.display('_display_long_and_short_stacked_epoch_slices', defer_render=False, save_figure=True)\n"
   ]
  },
  {
   "cell_type": "code",
   "execution_count": null,
   "id": "defb05a5",
   "metadata": {},
   "outputs": [],
   "source": [
    "from pyphoplacecellanalysis.Pho2D.stacked_epoch_slices import DecodedEpochSlicesPaginatedFigureController # `plot_decoded_epoch_slices_paginated`\n",
    "from neuropy.utils.matplotlib_helpers import add_inner_title # plot_decoded_epoch_slices_paginated\n",
    "\n",
    "if display_context is None:\n",
    "\tdisplay_context = IdentifyingContext(display_fn_name='DecodedEpochSlices')\n",
    "\t\n",
    "\n",
    "max_subplots_per_page = kwargs.pop('max_subplots_per_page', 200)\n",
    "controller_name = kwargs.pop('name', 'TestDecodedEpochSlicesPaginationController')\n",
    "\t\n",
    "\n",
    "long_epoch_name, short_epoch_name, global_epoch_name = curr_active_pipeline.find_LongShortGlobal_epoch_names()\n",
    "long_session, short_session, global_session = [curr_active_pipeline.filtered_sessions[an_epoch_name] for an_epoch_name in [long_epoch_name, short_epoch_name, global_epoch_name]]\n",
    "    \n",
    "\n",
    "\n",
    "_out_pagination_controller = DecodedEpochSlicesPaginatedFigureController.init_from_decoder_data(curr_results_obj.active_filter_epochs, curr_results_obj.all_included_filter_epochs_decoder_result, \n",
    "        xbin=curr_results_obj.original_1D_decoder.xbin, global_pos_df=global_session.position.df, a_name=controller_name, active_context=display_context,  max_subplots_per_page=max_subplots_per_page, included_epoch_indicies=included_epoch_indicies) # 10"
   ]
  },
  {
   "cell_type": "code",
   "execution_count": null,
   "id": "f76b46f2",
   "metadata": {},
   "outputs": [],
   "source": [
    "# long_results_obj.flat_all_epochs_decoded_epoch_time_bins\n",
    "fig, curr_ax = plot_1D_most_likely_position_comparsions(curr_active_pipeline.sess.position.to_dataframe(), time_window_centers=short_updated_time_bin_containers, xbin=long_results_obj.original_1D_decoder.xbin.copy(),\n",
    "\t\t\t\t\t\t\t\t\t\t\t\tposterior=short_updated_timebins_p_x_given_n,\n",
    "\t\t\t\t\t\t\t\t\t\t\t\tactive_most_likely_positions_1D=None,\n",
    "\t\t\t\t\t\t\t\t\t\t\t\tenable_flat_line_drawing=False, debug_print=False, ax=)"
   ]
  },
  {
   "cell_type": "code",
   "execution_count": null,
   "id": "252638b1",
   "metadata": {},
   "outputs": [],
   "source": [
    "# num_filter_epochs\n",
    "## Get the previously created matplotlib_view_widget figure/ax:\n",
    "\n",
    "# measured_position_df, time_window_centers, xbin, ax=None, posterior=None, active_most_likely_positions_1D=None, enable_flat_line_drawing=False, variable_name = 'x', debug_print=False\n",
    "# fig, curr_ax = plot_1D_most_likely_position_comparsions(curr_active_pipeline.sess.position.to_dataframe(), time_window_centers=flat_time_bin_centers, xbin=long_results_obj.original_1D_decoder.xbin.copy(),\n",
    "# \t\t\t\t\t\t\t\t\t\t\t\tposterior=timebins_p_x_given_n,\n",
    "# \t\t\t\t\t\t\t\t\t\t\t\tactive_most_likely_positions_1D=None,\n",
    "# \t\t\t\t\t\t\t\t\t\t\t\tenable_flat_line_drawing=False, debug_print=False)\n",
    "\n",
    "fig, curr_ax = plot_1D_most_likely_position_comparsions(curr_active_pipeline.sess.position.to_dataframe(), time_window_centers=updated_time_bin_containers, xbin=long_results_obj.original_1D_decoder.xbin.copy(),\n",
    "\t\t\t\t\t\t\t\t\t\t\t\tposterior=updated_timebins_p_x_given_n,\n",
    "\t\t\t\t\t\t\t\t\t\t\t\tactive_most_likely_positions_1D=None,\n",
    "\t\t\t\t\t\t\t\t\t\t\t\tenable_flat_line_drawing=False, debug_print=False)"
   ]
  },
  {
   "cell_type": "code",
   "execution_count": null,
   "id": "20e417d4",
   "metadata": {},
   "outputs": [],
   "source": [
    "fig, curr_ax = plot_1D_most_likely_position_comparsions(curr_active_pipeline.sess.position.to_dataframe(), time_window_centers=updated_time_bin_containers, xbin=long_results_obj.original_1D_decoder.xbin.copy(),\n",
    "\t\t\t\t\t\t\t\t\t\t\t\tposterior=updated_timebins_p_x_given_n,\n",
    "\t\t\t\t\t\t\t\t\t\t\t\tactive_most_likely_positions_1D=None,\n",
    "\t\t\t\t\t\t\t\t\t\t\t\tenable_flat_line_drawing=False, debug_print=False, ax=)"
   ]
  },
  {
   "cell_type": "code",
   "execution_count": null,
   "id": "7fe67720",
   "metadata": {},
   "outputs": [],
   "source": [
    "n_timebins"
   ]
  },
  {
   "cell_type": "code",
   "execution_count": null,
   "id": "05a04bb7",
   "metadata": {},
   "outputs": [],
   "source": [
    "flat_time_bin_containers"
   ]
  },
  {
   "cell_type": "code",
   "execution_count": null,
   "id": "af732746",
   "metadata": {},
   "outputs": [],
   "source": [
    "## Build a masked array:\n",
    "np.ma"
   ]
  },
  {
   "cell_type": "code",
   "execution_count": null,
   "id": "96caba59",
   "metadata": {},
   "outputs": [],
   "source": [
    "long_results_obj"
   ]
  },
  {
   "cell_type": "code",
   "execution_count": null,
   "id": "d0dce6ca",
   "metadata": {},
   "outputs": [],
   "source": [
    "\n",
    "params, plots_data, plots, ui = plot_decoded_epoch_slices(deepcopy(active_filter_epochs), deepcopy(filter_epochs_decoder_result), global_pos_df=global_pos_df, variable_name='lin_pos', xbin=xbin, included_epoch_indicies=included_epoch_indicies,\n",
    "\t\t\t\t\t\t\t\t\t\t\t\t\t\tname=a_name, debug_print=False, debug_test_max_num_slices=max_subplots_per_page)\n"
   ]
  },
  {
   "cell_type": "code",
   "execution_count": null,
   "id": "1033c13a",
   "metadata": {},
   "outputs": [],
   "source": [
    "pagination_controller_L, pagination_controller_S = example_stacked_epoch_graphics.plot_data['controllers']\n",
    "ax_L, ax_S = example_stacked_epoch_graphics.axes\n",
    "final_figure_context_L, final_context_S = example_stacked_epoch_graphics.context"
   ]
  },
  {
   "cell_type": "code",
   "execution_count": null,
   "id": "28cbb0ae",
   "metadata": {},
   "outputs": [],
   "source": [
    "## After launching the interactive Stacked Epoch Plots for user epoch selection, try to update the selection with previously added annotations:\n",
    "from neuropy.core.user_annotations import UserAnnotationsManager\n",
    "from pyphoplacecellanalysis.GUI.Qt.Mixins.PaginationMixins import SelectionsObject\n",
    "from pyphoplacecellanalysis.Pho2D.stacked_epoch_slices import DecodedEpochSlicesPaginatedFigureController\n",
    "\n",
    "user_annotation_man = UserAnnotationsManager()\n",
    "user_annotations = user_annotation_man.get_user_annotations()\n",
    "\n",
    "final_context_L = curr_active_pipeline.build_display_context_for_session(display_fn_name='DecodedEpochSlices', epochs='replays', decoder='long_results_obj')\n",
    "final_context_S = curr_active_pipeline.build_display_context_for_session(display_fn_name='DecodedEpochSlices', epochs='replays', decoder='short_results_obj')\n",
    "# _out_pagination_controller.params.active_identifying_figure_ctx.adding_context(None,  user_annotation=\"selections\")\n",
    "selections_context_L = final_context_L.adding_context(None,  user_annotation=\"selections\")\n",
    "selections_context_S = final_context_S.adding_context(None,  user_annotation=\"selections\")\n",
    "\n",
    "saved_selection_L: SelectionsObject = pagination_controller_L.save_selection()\n",
    "saved_selection_S: SelectionsObject = pagination_controller_S.save_selection()\n",
    "# saved_selection_L = user_annotation_man.update_selections_from_annotations(saved_selection_L, user_annotations)\n",
    "# saved_selection_S = user_annotation_man.update_selections_from_annotations(saved_selection_S, user_annotations)\n",
    "\n",
    "saved_selection_L = saved_selection_L.update_selections_from_annotations(user_annotations, debug_print=False)\n",
    "saved_selection_S = saved_selection_S.update_selections_from_annotations(user_annotations, debug_print=False)\n",
    "\n",
    "## re-apply the selections:\n",
    "pagination_controller_L.restore_selections(saved_selection_L, defer_render=True)\n",
    "pagination_controller_S.restore_selections(saved_selection_S, defer_render=True)\n",
    "\n",
    "ax_L[0].figure.canvas.draw()  # .figures.canvas.draw()\n",
    "ax_S[0].figure.canvas.draw()  # .figures.canvas.draw()"
   ]
  },
  {
   "cell_type": "markdown",
   "id": "73b2f39d",
   "metadata": {
    "tags": [
     "TODO"
    ]
   },
   "source": [
    "# 2023-09-06 - Plot the decoded positions for each replay on the track:\n"
   ]
  },
  {
   "cell_type": "code",
   "execution_count": null,
   "id": "a592c55f",
   "metadata": {
    "tags": [
     "TODO"
    ]
   },
   "outputs": [],
   "source": [
    "from pyphoplacecellanalysis.Pho2D.track_shape_drawing import LinearTrackDimensions\n",
    "\n",
    "\n",
    "long_track_dims = LinearTrackDimensions(track_length=100.0)\n",
    "short_track_dims = LinearTrackDimensions(track_length=70.0)\n",
    "\n",
    "\n",
    "# long_track_dims.plot_rects(ax)"
   ]
  },
  {
   "cell_type": "code",
   "execution_count": null,
   "id": "c8fe2d58",
   "metadata": {},
   "outputs": [],
   "source": [
    "from pyphoplacecellanalysis.Pho2D.track_shape_drawing import _test_LinearTrackDimensions_2D\n",
    "\n",
    "app, w, cw, (long_track_dims, long_rect_items, long_rects), (short_track_dims, short_rect_items, short_rects) = _test_LinearTrackDimensions_2D()"
   ]
  },
  {
   "cell_type": "code",
   "execution_count": null,
   "id": "a48faca0",
   "metadata": {},
   "outputs": [],
   "source": [
    "_out_fig_3_a, _out_fig_3_b = PAPER_FIGURE_figure_3(curr_active_pipeline, defer_render=False, save_figure=False)\n",
    "\n"
   ]
  },
  {
   "cell_type": "code",
   "execution_count": null,
   "id": "d481370b",
   "metadata": {},
   "outputs": [],
   "source": [
    "ax = _out_fig_3_a.axes[0]\n"
   ]
  },
  {
   "cell_type": "code",
   "execution_count": null,
   "id": "7c872e6a",
   "metadata": {},
   "outputs": [],
   "source": [
    "long_track_dims.plot_rects(ax)"
   ]
  },
  {
   "cell_type": "code",
   "execution_count": null,
   "id": "54ff0f27",
   "metadata": {},
   "outputs": [],
   "source": [
    "pagination_controller_L"
   ]
  },
  {
   "cell_type": "code",
   "execution_count": null,
   "id": "a26f364b",
   "metadata": {},
   "outputs": [],
   "source": [
    "# Set the symbol properties\n",
    "# symbol = pg.mkPen('w', width=1)  # Pen for the lines\n",
    "size = 1.0  # Fixed x-width\n",
    "symbol_brush = None  # No brush for the symbol (transparent fill)\n",
    "\n",
    "# override_scatter_plot_kwargs = dict(pxMode=False, symbol='|', size=size, pen={'color': 'w', 'width': 1.0}) # , brush=symbol_brush\n",
    "\n",
    "# override_scatter_plot_kwargs = dict(pxMode=False, symbol='arrow_up', size=1.0, pen={'color': 'w', 'width': 1.0}, hoverable=True) #\n",
    "\n",
    "# override_scatter_plot_kwargs = None"
   ]
  },
  {
   "cell_type": "code",
   "execution_count": null,
   "id": "226bb530",
   "metadata": {},
   "outputs": [],
   "source": [
    "filter_epoch_spikes_df_L.spikes.rebuild_fragile_linear_neuron_IDXs();\n",
    "filter_epoch_spikes_df_S.spikes.rebuild_fragile_linear_neuron_IDXs();"
   ]
  },
  {
   "cell_type": "code",
   "execution_count": null,
   "id": "26d46002",
   "metadata": {},
   "outputs": [],
   "source": [
    "from pyphoplacecellanalysis.General.Mixins.DataSeriesColorHelpers import DataSeriesColorHelpers\n",
    "\n",
    "# unit_colors_list = neuron_qcolors_list.copy()\n",
    "\n",
    "n_neurons = len(EITHER_subset.track_exclusive_aclus)\n",
    "EITHER_subset_neuron_qcolors_list, EITHER_subset_neuron_colors_ndarray = DataSeriesColorHelpers.build_cell_colors(n_neurons, colormap_name='PAL-relaxed_bright', colormap_source=None)\n",
    "\n",
    "unit_colors_list = EITHER_subset_neuron_colors_ndarray.copy()\n",
    "unit_colors_list"
   ]
  },
  {
   "cell_type": "code",
   "execution_count": null,
   "id": "b889b886",
   "metadata": {},
   "outputs": [],
   "source": [
    "\n",
    "render_epochs_df = epochs_df_L.iloc[0:1]\n",
    "app_L, win_L, plots_L, plots_data_L = plot_multiple_raster_plot(render_epochs_df, filter_epoch_spikes_df_L, included_neuron_ids=EITHER_subset.track_exclusive_aclus, unit_sort_order=new_all_aclus_sort_indicies, unit_colors_list=unit_colors_list, scatter_plot_kwargs=override_scatter_plot_kwargs,\n",
    "\t\t\t\t\t\t\t\t\t\tepoch_id_key_name='replay_epoch_id', scatter_app_name=\"Long Decoded Example Replays\")\n"
   ]
  },
  {
   "cell_type": "code",
   "execution_count": null,
   "id": "873a975f",
   "metadata": {},
   "outputs": [],
   "source": [
    "app_L, win_L, plots_L, plots_data_L = plot_multiple_raster_plot(epochs_df_L, filter_epoch_spikes_df_L, included_neuron_ids=EITHER_subset.track_exclusive_aclus, unit_sort_order=new_all_aclus_sort_indicies, unit_colors_list=unit_colors_list, scatter_plot_kwargs=override_scatter_plot_kwargs,\n",
    "\t\t\t\t\t\t\t\t\t\tepoch_id_key_name='replay_epoch_id', scatter_app_name=\"Long Decoded Example Replays\")"
   ]
  },
  {
   "cell_type": "code",
   "execution_count": null,
   "id": "ee132b60",
   "metadata": {},
   "outputs": [],
   "source": [
    "app_S, win_S, plots_S, plots_data_S = plot_multiple_raster_plot(epochs_df_S, filter_epoch_spikes_df_S, included_neuron_ids=EITHER_subset.track_exclusive_aclus, unit_sort_order=new_all_aclus_sort_indicies, unit_colors_list=unit_colors_list, scatter_plot_kwargs=override_scatter_plot_kwargs,\n",
    "                                                                 epoch_id_key_name='replay_epoch_id', scatter_app_name=\"Short Decoded Example Replays\")"
   ]
  },
  {
   "cell_type": "code",
   "execution_count": null,
   "id": "d26dd0e4",
   "metadata": {},
   "outputs": [],
   "source": [
    "# Test single `plot_raster_plot` calls\n",
    "an_epoch = list(epochs_df_L.itertuples())[0]\n",
    "an_epoch_spikes_df = filter_epoch_spikes_df_L[filter_epoch_spikes_df_L['replay_epoch_id'] == an_epoch.Index]\n",
    "\n",
    "override_scatter_plot_kwargs = dict(pxMode=True, size=10.0, pen={'color': 'w', 'width': 1.0}) # , symbol='arrow_up,\n",
    "\n",
    "_out_single_raster_plot = plot_raster_plot(an_epoch_spikes_df, included_neuron_ids=EITHER_subset.track_exclusive_aclus, unit_sort_order=None, unit_colors_list=unit_colors_list, scatter_plot_kwargs=override_scatter_plot_kwargs, scatter_app_name=\"test1\")\n",
    "_out_single_raster_plot2 = plot_raster_plot(an_epoch_spikes_df, included_neuron_ids=EITHER_subset.track_exclusive_aclus, unit_sort_order=new_all_aclus_sort_indicies, unit_colors_list=unit_colors_list, scatter_plot_kwargs=override_scatter_plot_kwargs, scatter_app_name=\"test2\")"
   ]
  },
  {
   "cell_type": "code",
   "execution_count": null,
   "id": "dc499c3d",
   "metadata": {},
   "outputs": [],
   "source": []
  },
  {
   "cell_type": "code",
   "execution_count": null,
   "id": "d61e7707",
   "metadata": {},
   "outputs": [],
   "source": []
  },
  {
   "cell_type": "code",
   "execution_count": null,
   "id": "7a132a60",
   "metadata": {},
   "outputs": [],
   "source": []
  },
  {
   "cell_type": "code",
   "execution_count": null,
   "id": "28d915bd",
   "metadata": {},
   "outputs": [],
   "source": []
  },
  {
   "cell_type": "code",
   "execution_count": null,
   "id": "f720e380",
   "metadata": {},
   "outputs": [],
   "source": []
  },
  {
   "cell_type": "code",
   "execution_count": null,
   "id": "3c144cf8",
   "metadata": {},
   "outputs": [],
   "source": []
  },
  {
   "cell_type": "code",
   "execution_count": null,
   "id": "d57f0558",
   "metadata": {},
   "outputs": [],
   "source": []
  },
  {
   "cell_type": "code",
   "execution_count": null,
   "id": "b5c32519",
   "metadata": {},
   "outputs": [],
   "source": []
  },
  {
   "cell_type": "code",
   "execution_count": null,
   "id": "c22b67ed",
   "metadata": {},
   "outputs": [],
   "source": []
  },
  {
   "cell_type": "code",
   "execution_count": null,
   "id": "fe6071c5",
   "metadata": {},
   "outputs": [],
   "source": [
    "app_alt, win_alt, plots_alt, plots_data_alt = plot_multiple_raster_plot(epochs_df_L, filter_epoch_spikes_df_L, included_neuron_ids=EITHER_subset.track_exclusive_aclus, unit_sort_order=None, unit_colors_list=unit_colors_list, scatter_plot_kwargs=override_scatter_plot_kwargs,\n",
    "                                                                         epoch_id_key_name='replay_epoch_id', scatter_app_name=\"ALT Long Decoded Example Replays\")"
   ]
  },
  {
   "cell_type": "markdown",
   "id": "7d20407c",
   "metadata": {},
   "source": [
    "### Testing `plot_kourosh_activity_style_figure` for debugging:"
   ]
  },
  {
   "cell_type": "code",
   "execution_count": null,
   "id": "69512447",
   "metadata": {},
   "outputs": [],
   "source": [
    "from pyphoplacecellanalysis.Analysis.Decoder.decoder_result import plot_kourosh_activity_style_figure\n",
    "from pyphoplacecellanalysis.GUI.PyQtPlot.Widgets.helpers import _helper_make_scatterplot_clickable\n",
    "\n",
    "plot_aclus = EITHER_subset.track_exclusive_aclus.copy()\n",
    "# plot_aclus = EITHER_subset.track_exclusive_aclus[new_all_aclus_sort_indicies].copy()\n",
    "_out_A = plot_kourosh_activity_style_figure(long_results_obj, long_session, plot_aclus, unit_sort_order=new_all_aclus_sort_indicies, epoch_idx=13, callout_epoch_IDXs=None, skip_rendering_callouts=False)"
   ]
  },
  {
   "cell_type": "code",
   "execution_count": null,
   "id": "326f29f6",
   "metadata": {},
   "outputs": [],
   "source": [
    "app, win, plots, plots_data = _out_A\n",
    "# plots"
   ]
  },
  {
   "cell_type": "code",
   "execution_count": null,
   "id": "338d4092",
   "metadata": {},
   "outputs": [],
   "source": [
    "#TODO 2023-06-27 10:42: - [ ] Desperitely need a class that \"explodes\" the important variables and their types out of a DynamicParameters (dict-like) or other object.\n"
   ]
  },
  {
   "cell_type": "code",
   "execution_count": null,
   "id": "517cdee6",
   "metadata": {},
   "outputs": [],
   "source": [
    "_out_n = plot_kourosh_activity_style_figure(long_results_obj, long_session, EITHER_subset.track_exclusive_aclus, unit_sort_order=new_all_aclus_sort_indicies, epoch_idx=49, callout_epoch_IDXs=np.arange(6), skip_rendering_callouts=False)"
   ]
  },
  {
   "cell_type": "markdown",
   "id": "af748f5c",
   "metadata": {},
   "source": [
    "# 2023-07-14 - LxC and SxC PhoJonathanSession plots"
   ]
  },
  {
   "cell_type": "code",
   "execution_count": null,
   "id": "9415e3e7",
   "metadata": {},
   "outputs": [],
   "source": [
    "from pyphoplacecellanalysis.General.Batch.NonInteractiveProcessing import BatchPhoJonathanFiguresHelper\n",
    "\n",
    "## Get global 'jonathan_firing_rate_analysis' results:\n",
    "curr_jonathan_firing_rate_analysis = curr_active_pipeline.global_computation_results.computed_data['jonathan_firing_rate_analysis']\n",
    "neuron_replay_stats_df, rdf, aclu_to_idx, irdf = curr_jonathan_firing_rate_analysis.neuron_replay_stats_df, curr_jonathan_firing_rate_analysis.rdf.rdf, curr_jonathan_firing_rate_analysis.rdf.aclu_to_idx, curr_jonathan_firing_rate_analysis.irdf.irdf\n",
    "\n",
    "# with VizTracer(output_file=f\"viztracer_display_BatchPhoJonathanFiguresHelper_PlusPDF_20.json\", min_duration=200, tracer_entries=3000000, ignore_frozen=True) as tracer:\n",
    "# active_out_figures_dict = BatchPhoJonathanFiguresHelper.run(curr_active_pipeline, neuron_replay_stats_df, included_unit_neuron_IDs=XOR_subset.track_exclusive_aclus, n_max_page_rows=20, write_vector_format=False, write_png=True) # active_out_figures_dict: {IdentifyingContext<('kdiba', 'gor01', 'two', '2006-6-07_16-40-19', 'BatchPhoJonathanReplayFRC', 'long_only', '(12,21,48)')>: <Figure size 1920x660 with 12 Axes>, IdentifyingContext<('kdiba', 'gor01', 'two', '2006-6-07_16-40-19', 'BatchPhoJonathanReplayFRC', 'short_only', '(18,19,65)')>: <Figure size 1920x660 with 12 Axes>}\n",
    "# print(f'active_out_figures_dict: {active_out_figures_dict}')\n",
    "\n",
    "# BOTH_subset, EITHER_subset, XOR_subset, NEITHER_subset\n",
    "active_out_figures_dict = BatchPhoJonathanFiguresHelper.run(curr_active_pipeline, neuron_replay_stats_df, included_unit_neuron_IDs=EITHER_subset.track_exclusive_aclus, n_max_page_rows=20, write_vector_format=False, write_png=True) # active_out_figures_dict: {IdentifyingContext<('kdiba', 'gor01', 'two', '2006-6-07_16-40-19', 'BatchPhoJonathanReplayFRC', 'long_only', '(12,21,48)')>: <Figure size 1920x660 with 12 Axes>, IdentifyingContext<('kdiba', 'gor01', 'two', '2006-6-07_16-40-19', 'BatchPhoJonathanReplayFRC', 'short_only', '(18,19,65)')>: <Figure size 1920x660 with 12 Axes>}\n",
    "print(f'active_out_figures_dict: {active_out_figures_dict}')\n",
    "\n"
   ]
  },
  {
   "cell_type": "code",
   "execution_count": null,
   "id": "e072b346",
   "metadata": {},
   "outputs": [],
   "source": []
  },
  {
   "cell_type": "code",
   "execution_count": null,
   "id": "aec1c4bb",
   "metadata": {
    "tags": [
     "ACTIVE_2023-09-07"
    ]
   },
   "outputs": [],
   "source": [
    "# 2023-09-07 - Build Example LxC/SxC cells from handpicked examples: aclus = [4, 58]\n",
    "# from pyphoplacecellanalysis.General.Pipeline.Stages.DisplayFunctions.MultiContextComparingDisplayFunctions.LongShortTrackComparingDisplayFunctions import build_extra_cell_info_label_string\n",
    "curr_active_pipeline.reload_default_display_functions()\n",
    "_out2 = curr_active_pipeline.display('_display_batch_pho_jonathan_replay_firing_rate_comparison', n_max_plot_rows=2, save_figure=False, included_unit_neuron_IDs=[4, 58]) # , included_unit_neuron_IDs=[4, 58]\n"
   ]
  },
  {
   "cell_type": "code",
   "execution_count": null,
   "id": "052f7ad8",
   "metadata": {},
   "outputs": [],
   "source": [
    "# curr_active_pipeline.display(display_function='_display_2d_placefield_result_plot_ratemaps_2D', active_session_configuration_context=long_epoch_context)\n",
    "\n",
    "\n",
    "# curr_active_pipeline.display(display_function='_display_placemaps_pyqtplot_2D', active_session_configuration_context=long_epoch_context)\n",
    "curr_active_pipeline.display(display_function='_display_1d_placefields', active_session_configuration_context=long_epoch_context)\n",
    "# curr_active_pipeline.display(display_function='_display_2d_placefield_occupancy', active_session_configuration_context=long_epoch_context)\n",
    "\n"
   ]
  },
  {
   "cell_type": "code",
   "execution_count": null,
   "id": "9ae8158b",
   "metadata": {},
   "outputs": [],
   "source": [
    "curr_active_pipeline.display(display_function='_display_2d_placefield_occupancy', active_session_configuration_context=long_epoch_context)\n"
   ]
  },
  {
   "cell_type": "code",
   "execution_count": null,
   "id": "3be309d6",
   "metadata": {},
   "outputs": [],
   "source": [
    "curr_active_pipeline.display(display_function='_display_2d_placefield_occupancy', active_session_configuration_context=short_epoch_context)\n"
   ]
  },
  {
   "cell_type": "code",
   "execution_count": null,
   "id": "35bb48de",
   "metadata": {},
   "outputs": [],
   "source": [
    "curr_active_pipeline.display(display_function='_display_2d_placefield_result_plot_ratemaps_2D', active_session_configuration_context=short_epoch_context)\n"
   ]
  },
  {
   "cell_type": "code",
   "execution_count": null,
   "id": "0a5115fc",
   "metadata": {},
   "outputs": [],
   "source": [
    "curr_active_pipeline.display(display_function='_display_2d_placefield_result_plot_ratemaps_2D', active_session_configuration_context=long_epoch_context)"
   ]
  },
  {
   "cell_type": "code",
   "execution_count": null,
   "id": "c6d12ce7",
   "metadata": {},
   "outputs": [],
   "source": [
    "fig = plt.figure() # new figure to hold the result\n",
    "# can show the figures by looping through and calling\n",
    "for a_ctxt, a_fig in active_out_figures_dict.items():\n",
    "    print(f'showing: {a_ctxt}')\n",
    "    a_fig.show()\n",
    "    \n"
   ]
  },
  {
   "cell_type": "code",
   "execution_count": null,
   "id": "9edea79a",
   "metadata": {},
   "outputs": [],
   "source": [
    "long_epoch_name, short_epoch_name, global_epoch_name = curr_active_pipeline.find_LongShortGlobal_epoch_names()\n",
    "long_session, short_session, global_session = [curr_active_pipeline.filtered_sessions[an_epoch_name] for an_epoch_name in [long_epoch_name, short_epoch_name, global_epoch_name]] # only uses global_session\n",
    "(epochs_df_L, epochs_df_S), (filter_epoch_spikes_df_L, filter_epoch_spikes_df_S), (good_example_epoch_indicies_L, good_example_epoch_indicies_S), (short_exclusive, long_exclusive, BOTH_subset, EITHER_subset, XOR_subset, NEITHER_subset), new_all_aclus_sort_indicies, assigning_epochs_obj = PAPER_FIGURE_figure_1_add_replay_epoch_rasters(curr_active_pipeline)\n",
    "\n",
    "long_short_fr_indicies_analysis_results = curr_active_pipeline.global_computation_results.computed_data['long_short_fr_indicies_analysis']\n",
    "long_laps, long_replays, short_laps, short_replays, global_laps, global_replays = [long_short_fr_indicies_analysis_results[k] for k in ['long_laps', 'long_replays', 'short_laps', 'short_replays', 'global_laps', 'global_replays']]\n"
   ]
  },
  {
   "cell_type": "code",
   "execution_count": null,
   "id": "07a731f4",
   "metadata": {},
   "outputs": [],
   "source": []
  },
  {
   "cell_type": "code",
   "execution_count": null,
   "id": "5d085cad",
   "metadata": {},
   "outputs": [],
   "source": [
    "jonathan_firing_rate_analysis_result.neuron_replay_stats_df"
   ]
  },
  {
   "cell_type": "code",
   "execution_count": null,
   "id": "813ab296",
   "metadata": {},
   "outputs": [],
   "source": [
    "long_exclusive.track_exclusive_df"
   ]
  },
  {
   "cell_type": "code",
   "execution_count": null,
   "id": "05be832a",
   "metadata": {},
   "outputs": [],
   "source": [
    "long_exclusive.track_exclusive_df['lap_delta_minus_inst_fr'] = LxC_ThetaDeltaMinus.cell_agg_inst_fr_list # (n_cells, )\n",
    "long_exclusive.track_exclusive_df['lap_delta_plus_inst_fr'] = LxC_ThetaDeltaPlus.cell_agg_inst_fr_list # (n_cells, )\n",
    "long_exclusive.track_exclusive_df\n"
   ]
  },
  {
   "cell_type": "code",
   "execution_count": null,
   "id": "d3077438",
   "metadata": {},
   "outputs": [],
   "source": [
    "# d = LxC_ThetaDeltaMinus.epoch_agg_inst_fr_list # (n_epochs, n_cells)\n",
    "# d = d[:,1]\n",
    "d = LxC_ThetaDeltaMinus.cell_agg_inst_fr_list # (n_cells, )\n",
    "d\n",
    "long_exclusive.track_exclusive_df['lap_delta_minus_inst_fr'] = LxC_ThetaDeltaMinus.cell_agg_inst_fr_list # (n_cells, )\n"
   ]
  },
  {
   "cell_type": "code",
   "execution_count": null,
   "id": "6984de2f",
   "metadata": {},
   "outputs": [],
   "source": [
    "## Drop out the very low (inactive) Epochs... I guess? But we want it to be influenced by the inactive epochs.\n",
    "curr_active_pipeline.\t"
   ]
  },
  {
   "cell_type": "code",
   "execution_count": null,
   "id": "41d3f4dd",
   "metadata": {},
   "outputs": [],
   "source": [
    "\n",
    "len(LxC_ThetaDeltaMinus.inst_fr_signals_list) # n_epochs\n",
    "d = LxC_ThetaDeltaMinus.inst_fr_df_list\n",
    "d[0]\n",
    "# (n_epochs, n_cells)\n",
    "# print(f'{d.shape}')"
   ]
  },
  {
   "cell_type": "markdown",
   "id": "0c2b2901",
   "metadata": {},
   "source": [
    "## NOW: 2023-07-11 - Testing Batch-computed inst_firing_rates"
   ]
  },
  {
   "cell_type": "code",
   "execution_count": null,
   "id": "c034766b",
   "metadata": {},
   "outputs": [],
   "source": [
    "from pyphoplacecellanalysis.General.Batch.runBatch import BatchSessionCompletionHandler\n",
    "from pyphoplacecellanalysis.General.Batch.PhoDiba2023Paper import PaperFigureTwo, InstantaneousSpikeRateGroupsComputation\n",
    "from pyphoplacecellanalysis.General.Pipeline.Stages.ComputationFunctions.SpikeAnalysis import SpikeRateTrends\n",
    "from pyphoplacecellanalysis.General.Batch.AcrossSessionResults import AcrossSessionsResults, AcrossSessionsVisualizations\n",
    "\n",
    "\n",
    "## Load the saved across-session results:\n",
    "inst_fr_output_filename = 'long_short_inst_firing_rate_result_handlers_2023-07-12.pkl'\n",
    "across_session_inst_fr_computation, across_sessions_instantaneous_fr_dict, across_sessions_instantaneous_frs_list = AcrossSessionsResults.load_across_sessions_data(global_data_root_parent_path=global_data_root_parent_path, inst_fr_output_filename=inst_fr_output_filename)\n",
    "# across_sessions_instantaneous_fr_dict = loadData(global_batch_result_inst_fr_file_path)\n",
    "num_sessions = len(across_sessions_instantaneous_fr_dict)\n",
    "print(f'num_sessions: {num_sessions}')"
   ]
  },
  {
   "cell_type": "code",
   "execution_count": null,
   "id": "2549c92f",
   "metadata": {},
   "outputs": [],
   "source": [
    "## Aggregate across all of the sessions to build a new combined `InstantaneousSpikeRateGroupsComputation`, which can be used to plot the \"PaperFigureTwo\", bar plots for many sessions.\n",
    "global_multi_session_context = IdentifyingContext(format_name='kdiba', num_sessions=0) # some global context across all of the sessions, not sure what to put here.\n",
    "\n",
    "# To correctly aggregate results across sessions, it only makes sense to combine entries at the `.cell_agg_inst_fr_list` variable and lower (as the number of cells can be added across sessions, treated as unique for each session).\n",
    "\n",
    "## Display the aggregate across sessions:\n",
    "_out_fig_2 = PaperFigureTwo(instantaneous_time_bin_size_seconds=0.01) # WARNING: we didn't save this info\n",
    "_out_fig_2.computation_result = across_session_inst_fr_computation\n",
    "_out_fig_2.active_identifying_session_ctx = across_session_inst_fr_computation.active_identifying_session_ctx\n",
    "# Set callback, the only self-specific property\n",
    "_out_fig_2._pipeline_file_callback_fn = curr_active_pipeline.output_figure # lambda args, kwargs: self.write_to_file(args, kwargs, curr_active_pipeline)"
   ]
  },
  {
   "cell_type": "code",
   "execution_count": null,
   "id": "66f71cbf",
   "metadata": {},
   "outputs": [],
   "source": [
    "# Showing\n",
    "restore_previous_matplotlib_settings_callback = matplotlib_configuration_update(is_interactive=True, backend='Qt5Agg')\n",
    "# Perform interactive Matplotlib operations with 'Qt5Agg' backend\n",
    "_fig_2_theta_out, _fig_2_replay_out = _out_fig_2.display(active_context=global_multi_session_context, title_modifier_fn=lambda original_title: f\"{original_title} ({num_sessions} sessions)\", save_figure=True)\n",
    "\t\n",
    "_out_fig_2.perform_save()"
   ]
  },
  {
   "cell_type": "markdown",
   "id": "3ed322ee",
   "metadata": {},
   "source": [
    "# `active_pf_nD`, `active_pf_nD_dt` visualizations"
   ]
  },
  {
   "cell_type": "code",
   "execution_count": null,
   "id": "8606b372",
   "metadata": {},
   "outputs": [],
   "source": [
    "from pyphoplacecellanalysis.Pho2D.PyQtPlots.TimeSynchronizedPlotters.TimeSynchronizedOccupancyPlotter import TimeSynchronizedOccupancyPlotter\n",
    "\n"
   ]
  },
  {
   "cell_type": "code",
   "execution_count": null,
   "id": "96d478ed",
   "metadata": {},
   "outputs": [],
   "source": [
    "\n",
    "curr_sync_occupancy_plotter = TimeSynchronizedOccupancyPlotter(global_pf2D_dt)\n",
    "curr_sync_occupancy_plotter.show()"
   ]
  },
  {
   "cell_type": "markdown",
   "id": "14388eec",
   "metadata": {},
   "source": [
    "# 2023-07-07 - `batch_extended_programmatic_figures` Testing"
   ]
  },
  {
   "cell_type": "code",
   "execution_count": null,
   "id": "d3e3c3f3",
   "metadata": {},
   "outputs": [],
   "source": [
    "curr_active_pipeline.reload_default_display_functions()\n",
    "\n",
    "neptuner = batch_perform_all_plots(curr_active_pipeline, enable_neptune=False)"
   ]
  },
  {
   "cell_type": "code",
   "execution_count": null,
   "id": "126028b8",
   "metadata": {},
   "outputs": [],
   "source": [
    "%pdb off\n",
    "%load_ext viztracer\n",
    "from viztracer import VizTracer\n",
    "from pyphocorehelpers.print_helpers import get_now_day_str, get_now_time_str, get_now_time_precise_str"
   ]
  },
  {
   "cell_type": "code",
   "execution_count": null,
   "id": "2a065e11",
   "metadata": {},
   "outputs": [],
   "source": [
    "\n",
    "with VizTracer(output_file=f\"viztracer_{get_now_time_str()}-batch_extended_programmatic_figures.json\", min_duration=200, tracer_entries=3000000, ignore_frozen=True) as tracer:\n",
    "    batch_extended_programmatic_figures(curr_active_pipeline, write_vector_format=False, write_png=False, debug_print=False)"
   ]
  },
  {
   "cell_type": "code",
   "execution_count": null,
   "id": "9ef9f9be",
   "metadata": {},
   "outputs": [],
   "source": [
    "batch_extended_programmatic_figures(curr_active_pipeline, write_vector_format=False, write_png=False, debug_print=False)"
   ]
  },
  {
   "cell_type": "code",
   "execution_count": null,
   "id": "4fb9a021",
   "metadata": {},
   "outputs": [],
   "source": [
    "np.sum(np.logical_or(neuron_replay_stats_df['is_refined_LxC'], neuron_replay_stats_df['is_refined_SxC']))"
   ]
  },
  {
   "cell_type": "code",
   "execution_count": null,
   "id": "21a49741",
   "metadata": {},
   "outputs": [],
   "source": [
    "JonathanFiringRateAnalysisResult = None"
   ]
  },
  {
   "cell_type": "code",
   "execution_count": null,
   "id": "fc366f14",
   "metadata": {},
   "outputs": [],
   "source": [
    "from pyphoplacecellanalysis.General.Pipeline.Stages.ComputationFunctions.MultiContextComputationFunctions.LongShortTrackComputations import JonathanFiringRateAnalysisResult\n",
    "\n",
    "jonathan_firing_rate_analysis_result.refine_exclusivity_by_inst_frs_index(long_short_fr_indicies_df, frs_index_inclusion_magnitude=0.5)\n"
   ]
  },
  {
   "cell_type": "code",
   "execution_count": null,
   "id": "2c0710f6",
   "metadata": {},
   "outputs": [],
   "source": [
    "jonathan_firing_rate_analysis_result"
   ]
  },
  {
   "cell_type": "code",
   "execution_count": null,
   "id": "b77b9ceb",
   "metadata": {},
   "outputs": [],
   "source": [
    "CreateNewStackedDecodedEpochSlicesPlotCommand"
   ]
  },
  {
   "cell_type": "code",
   "execution_count": null,
   "id": "681ac70a",
   "metadata": {},
   "outputs": [],
   "source": [
    "out_render_config_widgets_dict"
   ]
  },
  {
   "cell_type": "code",
   "execution_count": null,
   "id": "e28604a7",
   "metadata": {},
   "outputs": [],
   "source": [
    "\n",
    "## Update function to call after success:\n",
    "active_2d_plot.update_rendered_intervals_visualization_properties(epochs_update_dict)\n"
   ]
  },
  {
   "cell_type": "code",
   "execution_count": null,
   "id": "14bc81e0",
   "metadata": {},
   "outputs": [],
   "source": [
    "\n",
    "laps_display_config: EpochDisplayConfig = epoch_display_configs['Laps']\n",
    "laps_display_config"
   ]
  },
  {
   "cell_type": "code",
   "execution_count": null,
   "id": "ed77cf2f",
   "metadata": {},
   "outputs": [],
   "source": [
    "test_config = deepcopy(laps_display_config) # EpochDisplayConfig()\n",
    "widget = EpochRenderConfigWidget(config=test_config)\n",
    "# widget = EpochRenderConfigWidget()\n",
    "widget.show()"
   ]
  },
  {
   "cell_type": "code",
   "execution_count": null,
   "id": "25433137",
   "metadata": {},
   "outputs": [],
   "source": [
    "widget.update_from_config(test_config)"
   ]
  },
  {
   "cell_type": "code",
   "execution_count": null,
   "id": "adf483c3",
   "metadata": {},
   "outputs": [],
   "source": [
    "a_config = widget.config_from_state()\n",
    "a_config"
   ]
  },
  {
   "cell_type": "code",
   "execution_count": null,
   "id": "ae8170bb",
   "metadata": {},
   "outputs": [],
   "source": [
    "param_to_pyqt_binding_dict = ParamToPyQtBinding.param_to_pyqt_binding_dict()\n",
    "ui_element_list = widget.get_ui_element_list()\n",
    "bound_config_value_list = widget.get_bound_config_value_list()"
   ]
  },
  {
   "cell_type": "code",
   "execution_count": null,
   "id": "3d25a3a5",
   "metadata": {},
   "outputs": [],
   "source": [
    "for a_config_property, a_widget in zip(bound_config_value_list, ui_element_list):\n",
    "\ta_widget_type = type(a_widget)\n",
    "\t# print(f'a_widget_type: {a_widget_type.__name__}')\n",
    "\t# found_binding = param_to_pyqt_binding_dict.get(type(a_widget), None)\n",
    "\tfound_binding = param_to_pyqt_binding_dict.get(type(a_widget).__name__, None)\n",
    "\tif found_binding is not None:\n",
    "\t\tprint(f'found_binding: {found_binding}')\n",
    "\t\tdesired_value = a_config_property(widget.config)\n",
    "\t\tprint(f'\\t{desired_value}')\n",
    "\t\tcurr_value = found_binding.get_value(a_widget)\n",
    "\t\tprint(f'\\t{curr_value}')\n",
    "\t\tfound_binding.set_value(a_widget, desired_value)\n",
    "\telse:\n",
    "\t\tprint(f'no binding for {a_widget} of type: {type(a_widget)}')"
   ]
  },
  {
   "cell_type": "code",
   "execution_count": null,
   "id": "daefe59c",
   "metadata": {},
   "outputs": [],
   "source": [
    "print_widget_hierarchy(widget)\n",
    "# widget.ui.btnTitle."
   ]
  },
  {
   "cell_type": "code",
   "execution_count": null,
   "id": "f8fdbeab",
   "metadata": {},
   "outputs": [],
   "source": [
    "laps_display_config.param.height # param.parameterized.Parameters\n",
    "\n",
    "f"
   ]
  },
  {
   "cell_type": "code",
   "execution_count": null,
   "id": "bac4bb60",
   "metadata": {},
   "outputs": [],
   "source": [
    "laps_display_config.brush_color"
   ]
  },
  {
   "cell_type": "code",
   "execution_count": null,
   "id": "e1b33c7d",
   "metadata": {},
   "outputs": [],
   "source": [
    "# Force New:\n",
    "active_2d_plot, active_3d_plot, spike_raster_window = curr_active_pipeline.plot._display_spike_rasters_pyqtplot_2D().values() # included_neuron_ids=EITHER_subset.track_exclusive_aclus"
   ]
  },
  {
   "cell_type": "code",
   "execution_count": null,
   "id": "3798b194",
   "metadata": {},
   "outputs": [],
   "source": [
    "from pyphoplacecellanalysis.GUI.PyQtPlot.Widgets.Mixins.RenderTimeEpochs.EpochRenderingMixin import EpochRenderingMixin, RenderedEpochsItemsContainer\n",
    "\n",
    "interval_info = active_2d_plot.list_all_rendered_intervals()\n",
    "interval_info"
   ]
  },
  {
   "cell_type": "code",
   "execution_count": null,
   "id": "7dfabc0b",
   "metadata": {},
   "outputs": [],
   "source": [
    "def _add_default_renderables(active_2d_plot):\n",
    "    \"\"\" adds the typical Epochs and Position curves to the RasterWindow on startup \n",
    "    \n",
    "    \"\"\"\n",
    "    active_2d_plot_renderable_menus = active_2d_plot.ui.menus.custom_context_menus.add_renderables\n",
    "    widget_2d_menu = active_2d_plot_renderable_menus[0]\n",
    "    menuAdd_Renderable = widget_2d_menu.ui.menuAdd_Renderable\n",
    "    programmatic_actions_dict = widget_2d_menu.programmatic_actions_dict\n",
    "\n",
    "    # add_renderables_menu = active_2d_plot.ui.menus.custom_context_menus.add_renderables[0].programmatic_actions_dict\n",
    "    # menu_commands = ['AddTimeIntervals.PBEs', 'AddTimeIntervals.Ripples', 'AddTimeIntervals.Replays', 'AddTimeIntervals.Laps', 'AddTimeIntervals.Session.Epochs', 'AddTimeIntervals.Bursts']\n",
    "    # \n",
    "    menu_commands = ['AddTimeIntervals.SessionEpochs', 'AddTimeIntervals.Laps', 'AddTimeIntervals.PBEs','AddTimeIntervals.Replays']\n",
    "    for a_command in menu_commands:\n",
    "        programmatic_actions_dict[a_command].trigger()\n",
    "        \n",
    "    # AddMatplotlibPlot: ['AddMatplotlibPlot.DecodedPosition', 'AddMatplotlibPlot.Custom']\n",
    "    # menu_commands = ['AddTimeCurves.Position', 'AddTimeCurves.Velocity','AddTimeCurves.Random','AddTimeCurves.RelativeEntropySurprise', 'AddTimeCurves.Custom']\n",
    "    menu_commands = ['AddTimeCurves.Position']\n",
    "    for a_command in menu_commands:\n",
    "        programmatic_actions_dict[a_command].trigger()\n",
    "        "
   ]
  },
  {
   "cell_type": "code",
   "execution_count": null,
   "id": "21d3fde3",
   "metadata": {},
   "outputs": [],
   "source": [
    "active_2d_plot_renderable_menus = active_2d_plot.ui.menus.custom_context_menus.add_renderables\n",
    "widget_2d_menu = active_2d_plot_renderable_menus[0]\n",
    "menuAdd_Renderable = widget_2d_menu.ui.menuAdd_Renderable\n",
    "programmatic_actions_dict = widget_2d_menu.programmatic_actions_dict\n",
    "programmatic_actions_dict"
   ]
  },
  {
   "cell_type": "code",
   "execution_count": null,
   "id": "b97d07a2",
   "metadata": {},
   "outputs": [],
   "source": [
    "# active_2d_plot.dynamicPropertyNames()\n",
    "\n",
    "# active_2d_plot.params.time_curves_datasource\n",
    "active_2d_plot.params"
   ]
  },
  {
   "cell_type": "code",
   "execution_count": null,
   "id": "7f760906",
   "metadata": {},
   "outputs": [],
   "source": [
    "# active_2d_plot.update_rendered_intervals_visualization_properties()\n",
    "interval_info"
   ]
  },
  {
   "cell_type": "code",
   "execution_count": null,
   "id": "b3d429a6",
   "metadata": {},
   "outputs": [],
   "source": [
    "active_2d_plot.clear_all_rendered_intervals()"
   ]
  },
  {
   "cell_type": "code",
   "execution_count": null,
   "id": "abd58501",
   "metadata": {},
   "outputs": [],
   "source": [
    "_a_saved_state = active_2d_plot.save_state_active_renderables()\n",
    "_a_saved_state"
   ]
  },
  {
   "cell_type": "code",
   "execution_count": null,
   "id": "57680498",
   "metadata": {},
   "outputs": [],
   "source": [
    "spike_raster_window.show()"
   ]
  },
  {
   "cell_type": "code",
   "execution_count": null,
   "id": "d2dd99a1",
   "metadata": {},
   "outputs": [],
   "source": [
    "EITHER_subset.track_exclusive_aclus.shape"
   ]
  },
  {
   "cell_type": "code",
   "execution_count": null,
   "id": "5e39b316",
   "metadata": {},
   "outputs": [],
   "source": [
    "type(curr_active_pipeline)"
   ]
  },
  {
   "cell_type": "code",
   "execution_count": null,
   "id": "7bbde0ab",
   "metadata": {},
   "outputs": [],
   "source": [
    "spike_raster_window.debug_print=True"
   ]
  },
  {
   "cell_type": "code",
   "execution_count": null,
   "id": "6dd0be84",
   "metadata": {},
   "outputs": [],
   "source": [
    "# curr_active_pipeline.\n",
    "\n",
    "EITHER_subset.track_exclusive_aclus\n",
    "# , neuron_colors=neuron_colors, neuron_sort_order=neuron_sort_order, application_name=application_name\n"
   ]
  },
  {
   "cell_type": "code",
   "execution_count": null,
   "id": "846e84b0",
   "metadata": {},
   "outputs": [],
   "source": [
    "from pyphocorehelpers.general_helpers import CodeConversion, inspect_callable_arguments\n",
    "from pyphocorehelpers.print_helpers import document_active_variables, print_keys_if_possible, DocumentationFilePrinter\n",
    "\n",
    "doc_printer = DocumentationFilePrinter(doc_output_parent_folder=Path(r'C:\\Users\\pho\\repos\\Spike3DWorkEnv\\Spike3D\\EXTERNAL\\DEVELOPER_NOTES\\DataStructureDocumentation'), doc_name='spike_raster_plt_2d.params.config_items')\n",
    "doc_printer.save_documentation('spike_raster_plt_2d.params.config_items', spike_raster_window.spike_raster_plt_2d.params.config_items, non_expanded_item_keys=['_reverse_cellID_index_map', 'pf_listed_colormap', 'computation_results', 'active_configs', 'logger']) # 'Logger'"
   ]
  },
  {
   "cell_type": "code",
   "execution_count": null,
   "id": "2703e30f",
   "metadata": {},
   "outputs": [],
   "source": [
    "print_keys_if_possible('spike_raster_plt_2d.params.config_items', spike_raster_window.spike_raster_plt_2d.params.config_items)"
   ]
  },
  {
   "cell_type": "markdown",
   "id": "971ce291",
   "metadata": {},
   "source": [
    "## Updating SpikeRasterWindow"
   ]
  },
  {
   "cell_type": "code",
   "execution_count": null,
   "id": "02c2011a",
   "metadata": {
    "tags": [
     "spike_raster_window_defaults"
    ]
   },
   "outputs": [],
   "source": [
    "from typing import Callable\n",
    "\n",
    "@define(repr=False)\n",
    "class UpdateRenderState:\n",
    "\t\"\"\" describes specific updates to the rendering.\n",
    "\t\n",
    "\tRepresents a particular set of visual configurations or changes to visual configurations.\n",
    "\t\"\"\"\n",
    "\ton_apply_state: Callable = field() # can be called to update the rendering of the widget.\n",
    "\t\n"
   ]
  },
  {
   "cell_type": "code",
   "execution_count": null,
   "id": "43a59fd5",
   "metadata": {},
   "outputs": [],
   "source": []
  },
  {
   "cell_type": "code",
   "execution_count": null,
   "id": "038949a9",
   "metadata": {},
   "outputs": [],
   "source": [
    "document_active_variables(spike_raster_window.spike_raster_plt_2d.params.config_items, enable_print=True)"
   ]
  },
  {
   "cell_type": "code",
   "execution_count": null,
   "id": "85802f7f",
   "metadata": {},
   "outputs": [],
   "source": [
    "from pyphoplacecellanalysis.General.Mixins.SpikesRenderingBaseMixin import SpikeEmphasisState\n",
    "\n",
    "active_pf_2D = global_pf2D\n",
    "## Example 1: De-emphasize spikes excluded from the placefield calculations:\n",
    "is_spike_included_in_pf = np.isin(spike_raster_window.spike_raster_plt_2d.spikes_df.index, active_pf_2D.filtered_spikes_df.index)\n",
    "spike_raster_window.spike_raster_plt_2d.update_spike_emphasis(np.logical_not(is_spike_included_in_pf), SpikeEmphasisState.Deemphasized)\n"
   ]
  },
  {
   "cell_type": "code",
   "execution_count": null,
   "id": "84069402",
   "metadata": {},
   "outputs": [],
   "source": [
    "## Toggle Different Emphasis State Settings:"
   ]
  },
  {
   "cell_type": "code",
   "execution_count": null,
   "id": "30524af4",
   "metadata": {},
   "outputs": [],
   "source": [
    "class KnownSpikeEmphasisModes:\n",
    "\tdef deemph_non_placefield_neurons():\n",
    "\t\tactive_pf_2D = global_pf2D\n",
    "\t\t## Example 1: De-emphasize spikes excluded from the placefield calculations:\n",
    "\t\tis_spike_included_in_pf = np.isin(spike_raster_window.spike_raster_plt_2d.spikes_df.index, active_pf_2D.filtered_spikes_df.index)\n",
    "\t\tspike_raster_window.spike_raster_plt_2d.update_spike_emphasis(np.logical_not(is_spike_included_in_pf), SpikeEmphasisState.Deemphasized)\n",
    "\n",
    "\n",
    "\n"
   ]
  },
  {
   "cell_type": "code",
   "execution_count": null,
   "id": "a37c2e01",
   "metadata": {},
   "outputs": [],
   "source": [
    "from pyphoplacecellanalysis.GUI.PyQtPlot.Widgets.Mixins.RenderTimeEpochs.EpochRenderingMixin import EpochRenderingMixin\n",
    "from pyphoplacecellanalysis.GUI.PyQtPlot.Widgets.Mixins.RenderTimeEpochs.Specific2DRenderTimeEpochs import General2DRenderTimeEpochs, Ripples_2DRenderTimeEpochs, inline_mkColor\n",
    "\n",
    "add_renderables_menu = active_2d_plot.ui.menus.custom_context_menus.add_renderables[0].programmatic_actions_dict\n",
    "menu_commands = ['AddTimeIntervals.PBEs', 'AddTimeIntervals.Ripples', 'AddTimeIntervals.Replays', 'AddTimeIntervals.Laps', 'AddTimeIntervals.Session.Epochs']\n",
    "for a_command in menu_commands:\n",
    "    add_renderables_menu[a_command].trigger()\n",
    "\n"
   ]
  },
  {
   "cell_type": "code",
   "execution_count": null,
   "id": "26350f5b",
   "metadata": {},
   "outputs": [],
   "source": [
    "\n",
    "interval_info = active_2d_plot.list_all_rendered_intervals() ## get the existing intervals\n",
    "rendered_interval_keys = list(interval_info.keys())\n",
    "desired_interval_height_ratios = [2.0, 2.0, 1.0, 0.1, 1.0, 1.0, 1.0] # ratio of heights to each interval\n",
    "required_vertical_offsets, required_interval_heights = EpochRenderingMixin.build_stacked_epoch_layout(desired_interval_height_ratios, epoch_render_stack_height=20.0, interval_stack_location='below')\n",
    "stacked_epoch_layout_dict = {interval_key:dict(y_location=y_location, height=height) for interval_key, y_location, height in zip(rendered_interval_keys, required_vertical_offsets, required_interval_heights)} # Build a stacked_epoch_layout_dict to update the display\n",
    "active_2d_plot.update_rendered_intervals_visualization_properties(stacked_epoch_layout_dict)\n"
   ]
  },
  {
   "cell_type": "markdown",
   "id": "bd7a0f86",
   "metadata": {},
   "source": [
    "# 2023-07-19 - Validation with 3D tools"
   ]
  },
  {
   "cell_type": "code",
   "execution_count": null,
   "id": "7ecde32c",
   "metadata": {
    "notebookRunGroups": {
     "groupValue": "2"
    }
   },
   "outputs": [],
   "source": [
    "import pyvista as pv\n",
    "\n",
    "display_output = {}\n",
    "# active_config_name = long_epoch_name\n",
    "active_config_name = global_epoch_name\n",
    "active_config = curr_active_pipeline.active_configs[active_config_name]\n",
    "active_config.plotting_config.should_use_linear_track_geometry = True # indicate that it's a linear track so the better geometry can be used"
   ]
  },
  {
   "cell_type": "markdown",
   "id": "80672dec",
   "metadata": {},
   "source": [
    "# 3D Plotters"
   ]
  },
  {
   "cell_type": "markdown",
   "id": "fe0f0e7a",
   "metadata": {},
   "source": [
    "## 📣 Programmatically adding several epoch rectangles by calling the addRenderable context menu functions all at once for SpikeRaster2D"
   ]
  },
  {
   "cell_type": "code",
   "execution_count": null,
   "id": "0bb05977",
   "metadata": {},
   "outputs": [],
   "source": [
    "add_renderables_menu = active_2d_plot.ui.menus.custom_context_menus.add_renderables[0].programmatic_actions_dict # {'AddTimeIntervals': {'Laps': <PyQt5.QtWidgets.QAction object at 0x0000015199440160>, 'PBEs': <PyQt5.QtWidgets.QAction object at 0x0000015199440940>, 'SessionEpochs': <PyQt5.QtWidgets.QAction object at 0x0000015199440B80>, 'Ripples': <PyQt5.QtWidgets.QAction object at 0x00000151973D4430>, 'Replays': <PyQt5.QtWidgets.QAction object at 0x00000151973D4280>, 'Bursts': <PyQt5.QtWidgets.QAction object at 0x000001532D179EE0>, 'Custom': <PyQt5.QtWidgets.QAction object at 0x0000015199440F70>}, 'AddTimeCurves': {'Position': <PyQt5.QtWidgets.QAction object at 0x0000015199440DC0>, 'Velocity': <PyQt5.QtWidgets.QAction object at 0x000001532D179040>, 'Random': <PyQt5.QtWidgets.QAction object at 0x00000151994403A0>, 'RelativeEntropySurprise': <PyQt5.QtWidgets.QAction object at 0x000001532D179310>, 'Custom': <PyQt5.QtWidgets.QAction object at 0x0000015199440C10>}, 'AddMatplotlibPlot': {'DecodedPosition': <PyQt5.QtWidgets.QAction object at 0x00000151973D4EE0>, 'Custom': <PyQt5.QtWidgets.QAction object at 0x00000151973D4B80>}, 'Clear': {'all': {'Time': {'Curves': <PyQt5.QtWidgets.QAction object at 0x0000015199440310>, 'Intervals': <PyQt5.QtWidgets.QAction object at 0x00000151973D4700>}, 'Matplotlib': {'Plots': <PyQt5.QtWidgets.QAction object at 0x00000151973D44C0>}, 'Renderables': <PyQt5.QtWidgets.QAction object at 0x00000151973D4790>}}}\n",
    "add_renderables_menu"
   ]
  },
  {
   "cell_type": "code",
   "execution_count": null,
   "id": "ce852133",
   "metadata": {},
   "outputs": [],
   "source": [
    "list(add_renderables_menu.keys()) # ['AddTimeIntervals', 'AddTimeCurves', 'AddMatplotlibPlot', 'Clear']\n",
    "list(add_renderables_menu['AddTimeIntervals'].keys()) # ['Laps', 'PBEs', 'SessionEpochs', 'Ripples', 'Replays', 'Bursts', 'Custom']"
   ]
  },
  {
   "cell_type": "code",
   "execution_count": null,
   "id": "3d21fea8",
   "metadata": {},
   "outputs": [],
   "source": [
    "menu_commands = ['AddTimeIntervals.PBEs', 'AddTimeIntervals.Ripples', 'AddTimeIntervals.Replays', 'AddTimeIntervals.Laps', 'AddTimeIntervals.Session.Epochs', 'AddTimeIntervals.Bursts']\n",
    "for a_command in menu_commands:\n",
    "    add_renderables_menu[a_command].trigger()"
   ]
  },
  {
   "cell_type": "code",
   "execution_count": null,
   "id": "ffb2d134",
   "metadata": {},
   "outputs": [],
   "source": [
    "from pyphoplacecellanalysis.GUI.PyQtPlot.Widgets.Mixins.RenderTimeEpochs.Specific2DRenderTimeEpochs import General2DRenderTimeEpochs, Ripples_2DRenderTimeEpochs, inline_mkColor\n",
    "from pyphoplacecellanalysis.PhoPositionalData.plotting.mixins.epochs_plotting_mixins import EpochDisplayConfig\n",
    "\n",
    "# interval_info = active_2d_plot.list_all_rendered_intervals() ## get the existing intervals\n",
    "\n",
    "## Inline Concise: Position Replays, PBEs, and Ripples all below the scatter:\n",
    "# active_2d_plot.interval_datasources.Replays.update_visualization_properties(lambda active_df, **kwargs: General2DRenderTimeEpochs._update_df_visualization_columns(active_df, y_location=-10.0, height=7.5, pen_color=inline_mkColor('orange', 0.8), brush_color=inline_mkColor('orange', 0.5), **kwargs)) ## Fully inline\n",
    "# active_2d_plot.interval_datasources.PBEs.update_visualization_properties(lambda active_df, **kwargs: General2DRenderTimeEpochs._update_df_visualization_columns(active_df, y_location=-2.0, height=1.5, pen_color=inline_mkColor('pink', 0.8), brush_color=inline_mkColor('pink', 0.5), **kwargs)) ## Fully inline\n",
    "# active_2d_plot.interval_datasources.Ripples.update_visualization_properties(lambda active_df, **kwargs: General2DRenderTimeEpochs._update_df_visualization_columns(active_df, y_location=-12.0, height=1.5, pen_color=inline_mkColor('cyan', 0.8), brush_color=inline_mkColor('cyan', 0.5), **kwargs)) ## Fully inline\n",
    "# active_2d_plot.interval_datasources.SessionEpochs .update_visualization_properties(lambda active_df, **kwargs: General2DRenderTimeEpochs._update_df_visualization_columns(active_df, y_location=-12.0, height=1.5, pen_color=inline_mkColor('cyan', 0.8), brush_color=inline_mkColor('cyan', 0.5), **kwargs)) ## Fully inline\n",
    "# epochs_update_dict = {\n",
    "#     'Replays':dict(y_location=-10.0, height=7.5, pen_color=inline_mkColor('orange', 0.8), brush_color=inline_mkColor('orange', 0.5)),\n",
    "#     'PBEs':dict(y_location=-2.0, height=1.5, pen_color=inline_mkColor('pink', 0.8), brush_color=inline_mkColor('pink', 0.5)),\n",
    "#     'Ripples':dict(y_location=-12.0, height=1.5, pen_color=inline_mkColor('cyan', 0.8), brush_color=inline_mkColor('cyan', 0.5)),\n",
    "#     'SessionEpochs':dict(y_location=-12.0, height=1.5, pen_color=inline_mkColor('cyan', 0.8), brush_color=inline_mkColor('cyan', 0.5)),\n",
    "# }\n",
    "# epochs_update_dict = {k:EpochDisplayConfig.init_from_config_dict(name=k, config_dict=v) for k,v in epochs_update_dict.items()}\n",
    "# epochs_update_dict\n",
    "\n",
    "\n",
    "epochs_update_dict = {\n",
    "\t# 'SessionEpochs': EpochDisplayConfig(brush_color='#00ffff', brush_opacity=0.5, name='SessionEpochs', pen_color='#00ffff', pen_opacity=0.8, height=1.5, y_location=-12.0),\n",
    "\t'Laps': EpochDisplayConfig(brush_color='#ff0000', brush_opacity=0.5, name='Laps', pen_color='#ff0000', pen_opacity=0.8, height=0.9, y_location=-2.0),\t\n",
    "\t'PBEs': EpochDisplayConfig(brush_color='#ffc0cb', brush_opacity=0.5, name='PBEs', pen_color='#ffc0cb', pen_opacity=0.8, height=1.5, y_location=-2.0),\n",
    "\t'Ripples': EpochDisplayConfig(brush_color='#6e00f5', brush_opacity=0.5, name='Ripples', pen_color='#6e00f5', pen_opacity=0.8, height=1.5, y_location=-12.0),\n",
    "\t'Replays': EpochDisplayConfig(brush_color='#ffa500', brush_opacity=0.5, name='Replays', pen_color='#ffa500', pen_opacity=0.8, height=7.5, y_location=-10.0), \n",
    "}\n",
    "\n",
    "epochs_update_dict"
   ]
  },
  {
   "cell_type": "code",
   "execution_count": null,
   "id": "ddad2ecb",
   "metadata": {},
   "outputs": [],
   "source": [
    "# spike_raster_window\n",
    "epochs_list = active_2d_plot.list_all_rendered_intervals()\n",
    "epochs_list"
   ]
  },
  {
   "cell_type": "markdown",
   "id": "bd240080",
   "metadata": {},
   "source": [
    "## 🪟 ipcDataExplorer - 3D Interactive Tuning Curves Plotter"
   ]
  },
  {
   "cell_type": "code",
   "execution_count": null,
   "id": "f5568d4c",
   "metadata": {},
   "outputs": [],
   "source": [
    "curr_active_pipeline.registered_display_function_docs_dict\n",
    "\n",
    "'_display_3d_image_plotter'\n",
    "'_display_long_short_laps'\n",
    "'_display_3d_interactive_custom_data_explorer'\n"
   ]
  },
  {
   "cell_type": "code",
   "execution_count": null,
   "id": "6c55128f",
   "metadata": {},
   "outputs": [],
   "source": [
    "# from pyphoplacecellanalysis.GUI.PyVista.InteractivePlotter.InteractiveDataExplorerBase import InteractiveDataExplorerBase\n",
    "# from pyphoplacecellanalysis.GUI.PyVista.InteractivePlotter.InteractiveCustomDataExplorer import InteractiveCustomDataExplorer # TypeError: super(type, obj): obj must be an instance or subtype of type\n",
    "\n",
    "active_config_name = global_epoch_context\n",
    "# curr_active_pipeline.reload_default_display_functions()\n",
    "# _out = curr_active_pipeline.display('_display_3d_interactive_custom_data_explorer', long_epoch_name) # long_epoch_context\n",
    "display_dict = curr_active_pipeline.display('_display_3d_interactive_custom_data_explorer', active_config_name) # does not work, missing color info?\n",
    "iplapsDataExplorer = display_dict['iplapsDataExplorer']\n",
    "# plotter is available at\n",
    "p = display_dict['plotter']\n",
    "iplapsDataExplorer\n"
   ]
  },
  {
   "cell_type": "code",
   "execution_count": null,
   "id": "2b5ac39d",
   "metadata": {},
   "outputs": [],
   "source": [
    "import ipywidgets as widgets\n",
    "\n",
    "# df = pd.DataFrame([curr_active_pipeline.registered_display_function_docs_dict])\n",
    "# df = curr_active_pipeline.registered_display_function_docs_dict\n",
    "df = pd.DataFrame.from_dict(curr_active_pipeline.registered_display_function_docs_dict, orient='index', columns=['Value'])\n",
    "display_widget = widgets.Output()\n",
    "with display_widget:\n",
    "\tdisplay(df)\n",
    "display_widget"
   ]
  },
  {
   "cell_type": "code",
   "execution_count": null,
   "id": "8949a4c3",
   "metadata": {},
   "outputs": [],
   "source": [
    "from neuropy.utils.matplotlib_helpers import plot_position_curves_figure\n",
    "\n",
    "curr_active_pipeline.reload_default_display_functions()"
   ]
  },
  {
   "cell_type": "code",
   "execution_count": null,
   "id": "f1df3828",
   "metadata": {},
   "outputs": [],
   "source": [
    "active_identifying_session_ctx = curr_active_pipeline.sess.get_context() # 'bapun_RatN_Day4_2019-10-15_11-30-06'\n",
    "graphics_output_dict = curr_active_pipeline.display('_display_long_short_laps', active_identifying_session_ctx)"
   ]
  },
  {
   "cell_type": "code",
   "execution_count": null,
   "id": "f7cb396c",
   "metadata": {},
   "outputs": [],
   "source": [
    "\n",
    "# _out3 = curr_active_pipeline.display('_display_long_and_short_stacked_epoch_slices', included_epoch_indicies=None, save_figure=False)\n",
    "example_stacked_epoch_graphics = curr_active_pipeline.display('_display_long_and_short_stacked_epoch_slices', defer_render=False, save_figure=False, included_epoch_indicies=selection_idxs_L[:50], enable_radon_transform_info=False, max_subplots_per_page=25)\n"
   ]
  },
  {
   "cell_type": "code",
   "execution_count": null,
   "id": "d6d9aa61",
   "metadata": {},
   "outputs": [],
   "source": [
    "example_stacked_epoch_graphics.figures[0].show()"
   ]
  },
  {
   "cell_type": "code",
   "execution_count": null,
   "id": "c5b3d470",
   "metadata": {},
   "outputs": [],
   "source": [
    "pagination_controller_L, pagination_controller_S = example_stacked_epoch_graphics.plot_data['controllers']\n",
    "ax_L, ax_S = example_stacked_epoch_graphics.axes\n",
    "final_figure_context_L, final_context_S = example_stacked_epoch_graphics.context\n"
   ]
  },
  {
   "cell_type": "code",
   "execution_count": null,
   "id": "8c64ae5b",
   "metadata": {},
   "outputs": [],
   "source": [
    "from pyphoplacecellanalysis.PhoPositionalData.plotting.laps import plot_lap_trajectories_3d\n",
    "# ## single_combined_plot == True mode (mode 1.):\n",
    "# p, laps_pages = plot_lap_trajectories_3d(curr_active_pipeline.sess, single_combined_plot=True)\n",
    "# p.show()\n",
    "\n",
    "## single_combined_plot == False mode (mode 2.):        \n",
    "p, laps_pages = plot_lap_trajectories_3d(curr_active_pipeline.sess, single_combined_plot=False, curr_num_subplots=len(curr_active_pipeline.sess.laps.lap_id), active_page_index=0)\n",
    "p.show()"
   ]
  },
  {
   "cell_type": "code",
   "execution_count": null,
   "id": "0c5ec90b",
   "metadata": {},
   "outputs": [],
   "source": [
    "from pyphoplacecellanalysis.PhoPositionalData.plotting.laps import plot_lap_trajectories_2d\n",
    "\n",
    "p_laps_2D, axs_laps_2D, laps_2D_pages = plot_lap_trajectories_2d(curr_active_pipeline.sess, curr_num_subplots=5, active_page_index=0)"
   ]
  },
  {
   "cell_type": "code",
   "execution_count": null,
   "id": "428ddaa0",
   "metadata": {},
   "outputs": [],
   "source": [
    "p_laps_2D.suptitle('plot_lap_trajectories_2d')\n"
   ]
  },
  {
   "cell_type": "code",
   "execution_count": null,
   "id": "f21c4da9",
   "metadata": {},
   "outputs": [],
   "source": [
    "ax = axs_laps_2D[0,0]\n",
    "ax_empty = axs_laps_2D[-1,-1]"
   ]
  },
  {
   "cell_type": "code",
   "execution_count": null,
   "id": "2b8b777b",
   "metadata": {},
   "outputs": [],
   "source": [
    "long_track_position_offset = 1.0 * long_track_dims.compute_position_offset(grid_bin_bounds=grid_bin_bounds) # array([49.43, 140.61])\n",
    "long_track_position_offset"
   ]
  },
  {
   "cell_type": "code",
   "execution_count": null,
   "id": "651f665b",
   "metadata": {},
   "outputs": [],
   "source": [
    "grid_bin_bounds_center_point = (point_tuple_mid_point(grid_bin_bounds[0]), point_tuple_mid_point(grid_bin_bounds[1])) # (145.43, 140.61)\n",
    "print(f'grid_bin_bounds_center_point: {grid_bin_bounds_center_point}')\n",
    "x_midpoint, y_midpoint = grid_bin_bounds_center_point"
   ]
  },
  {
   "cell_type": "code",
   "execution_count": null,
   "id": "77188bdf",
   "metadata": {},
   "outputs": [],
   "source": [
    "user_annotation_man = UserAnnotationsManager()\n",
    "user_annotations = user_annotation_man.annotations # .get_user_annotations()\n",
    "\n",
    "allow_interactive_selection = False\n",
    "\n",
    "final_context_L = curr_active_pipeline.build_display_context_for_session(display_fn_name='DecodedEpochSlices', epochs='replays', decoder='long_results_obj')\n",
    "final_context_S = curr_active_pipeline.build_display_context_for_session(display_fn_name='DecodedEpochSlices', epochs='replays', decoder='short_results_obj')\n",
    "# _out_pagination_controller.params.active_identifying_figure_ctx.adding_context(None,  user_annotation=\"selections\")\n",
    "selections_context_L = final_context_L.adding_context(None,  user_annotation=\"selections\")\n",
    "selections_context_S = final_context_S.adding_context(None,  user_annotation=\"selections\")\n",
    "\n",
    "## try to get the user annotations for this session:\n",
    "try:\n",
    "\tselection_idxs_L = user_annotations[selections_context_L]\n",
    "\tselection_idxs_S = user_annotations[selections_context_S]\n",
    "except KeyError as e:\n",
    "\tif allow_interactive_selection:\n",
    "\t\tprint(f'user annotations <good replay selections> are not found. Creating them interactively...')\n",
    "\t\tuser_annotations = interactive_good_epoch_selections(annotations_man=user_annotation_man, curr_active_pipeline=curr_active_pipeline)  # perform interactive selection. Should block here.\n",
    "\t\tselection_idxs_L = user_annotations[selections_context_L]\n",
    "\t\tselection_idxs_S = user_annotations[selections_context_S]\n",
    "\telse:\n",
    "\t\tprint(f'interactive annotation is not permitted. Failing.')\n",
    "\t\traise e\n",
    "except Exception as e:\n",
    "\tprint('Unhandled exception: {e}')\n",
    "\traise\n",
    "\n",
    "\n",
    "(selection_idxs_L, selection_idxs_S)\n",
    "# # for updating the filter_epochs_df (`filter_epochs_df`) from the selections:\n",
    "# self.filter_epochs_df['long_is_user_included'] = np.isin(self.filter_epochs_df.index, selection_idxs_L)\n",
    "# self.filter_epochs_df['short_is_user_included'] = np.isin(self.filter_epochs_df.index, selection_idxs_S)\n"
   ]
  },
  {
   "cell_type": "code",
   "execution_count": null,
   "id": "cc5c4871",
   "metadata": {},
   "outputs": [],
   "source": [
    "\n",
    "from pyphoplacecellanalysis.Pho2D.stacked_epoch_slices import DecodedEpochSlicesPaginatedFigureController\n",
    "from pyphoplacecellanalysis.General.Pipeline.Stages.DisplayFunctions.DecoderPredictionError import plot_decoded_epoch_slices_paginated, plot_decoded_epoch_slices, _subfn_update_decoded_epoch_slices\n",
    "\n",
    "\n",
    "## Stacked Epoch Plot\n",
    "defer_render=False\n",
    "save_figure=False\n",
    "included_epoch_indicies=selection_idxs_L[:50]\n",
    "enable_radon_transform_info=False\n",
    "max_subplots_per_page=25\n",
    "kwargs = {}\n",
    "\n",
    "## long_short_decoding_analyses:\n",
    "curr_long_short_decoding_analyses = curr_active_pipeline.global_computation_results.computed_data['long_short_leave_one_out_decoding_analysis']\n",
    "## Extract variables from results object:\n",
    "long_results_obj, short_results_obj = curr_long_short_decoding_analyses.long_results_obj, curr_long_short_decoding_analyses.short_results_obj\n",
    "long_epoch_name, short_epoch_name, global_epoch_name = curr_active_pipeline.find_LongShortGlobal_epoch_names()\n",
    "\n",
    "pagination_controller_L, active_out_figure_paths_L, final_context_L = plot_decoded_epoch_slices_paginated(curr_active_pipeline, long_results_obj, curr_active_pipeline.build_display_context_for_session(display_fn_name='DecodedEpochSlices', epochs='replays', decoder='long_results_obj'), included_epoch_indicies=included_epoch_indicies, save_figure=save_figure, **kwargs)\n",
    "fig_L = pagination_controller_L.plots.fig\n",
    "ax_L = fig_L.get_axes()\n",
    "if defer_render:\n",
    "\twidget_L = pagination_controller_L.ui.mw # MatplotlibTimeSynchronizedWidget\n",
    "\twidget_L.close()\n",
    "\tpagination_controller_L = None\n",
    "\n"
   ]
  },
  {
   "cell_type": "code",
   "execution_count": null,
   "id": "03b89982",
   "metadata": {},
   "outputs": [],
   "source": [
    "def _subfn_update_decoded_epoch_slices(params, plots_data, plots, ui, debug_print=False):\n",
    "    \"\"\" attempts to update existing plots created by:\n",
    "    \n",
    "       params, plots_data, plots, ui = stacked_epoch_slices_matplotlib_build_view(epoch_slices, epoch_labels=epoch_labels, name=name, plot_function_name=plot_function_name, debug_test_max_num_slices=debug_test_max_num_slices, debug_print=debug_print)\n",
    "\n",
    "       Requires: `plots_data.filter_epochs_decoder_result`\n",
    "    \"\"\"\n",
    "    \n",
    "    for i, curr_ax in enumerate(plots.axs):\n",
    "        curr_time_bin_container = plots_data.filter_epochs_decoder_result.time_bin_containers[i]\n",
    "        curr_time_bins = curr_time_bin_container.centers\n",
    "        curr_posterior_container = plots_data.filter_epochs_decoder_result.marginal_x_list[i]\n",
    "        curr_posterior = curr_posterior_container.p_x_given_n\n",
    "        curr_most_likely_positions = curr_posterior_container.most_likely_positions_1D\n",
    "        \n",
    "        params, plots_data, plots, ui = _helper_update_decoded_single_epoch_slice_plot(curr_ax, params, plots_data, plots, ui, i, curr_time_bins, curr_posterior, curr_most_likely_positions, debug_print=debug_print)\n",
    "        on_render_page_callbacks = params.get('on_render_page_callbacks', {})\n",
    "        for a_callback_name, a_callback in on_render_page_callbacks.items():\n",
    "            try:\n",
    "                params, plots_data, plots, ui = a_callback(curr_ax, params, plots_data, plots, ui, i, curr_time_bins, curr_posterior, curr_most_likely_positions, debug_print=debug_print)\n",
    "            except Exception as e:\n",
    "                print(f'\\t encountered exception in callback: {e}')\n",
    "                pass            "
   ]
  },
  {
   "cell_type": "code",
   "execution_count": null,
   "id": "0190db36",
   "metadata": {},
   "outputs": [],
   "source": [
    "\n",
    "pagination_controller_S, active_out_figure_paths_S, final_context_S = plot_decoded_epoch_slices_paginated(curr_active_pipeline, short_results_obj, curr_active_pipeline.build_display_context_for_session(display_fn_name='DecodedEpochSlices', epochs='replays', decoder='short_results_obj'), included_epoch_indicies=included_epoch_indicies, save_figure=save_figure, **kwargs)\n",
    "fig_S = pagination_controller_S.plots.fig\n",
    "ax_S = fig_S.get_axes()\n",
    "if defer_render:\n",
    "\twidget_S = pagination_controller_S.ui.mw # MatplotlibTimeSynchronizedWidget\n",
    "\twidget_S.close()\n",
    "\tpagination_controller_S = None\n"
   ]
  },
  {
   "cell_type": "code",
   "execution_count": null,
   "id": "a222ab28",
   "metadata": {},
   "outputs": [],
   "source": [
    "from copy import deepcopy\n",
    "import numpy as np\n",
    "from neuropy.utils.mixins.binning_helpers import transition_matrix\n",
    "\n",
    "### 1D Transition Matrix:\n",
    "\n",
    "def _compute_position_transition_matrix(xbin_labels, binned_x: np.ndarray, n_powers:int=3):\n",
    "\t\"\"\"  1D Transition Matrix from binned positions (e.g. 'binned_x')\n",
    "\n",
    "\t\tpf1D.xbin_labels # array([  1,   2,   3,   4,  ...)\n",
    "\t\tpf1D.filtered_pos_df['binned_x'].to_numpy() # array([116, 115, 115, ...,  93,  93,  93], dtype=int64)\n",
    "\t\"\"\"\n",
    "\tnum_position_states = len(xbin_labels)\n",
    "\t# binned_x = pos_1D.to_numpy()\n",
    "\tbinned_x_indicies = binned_x - 1\n",
    "\tbinned_x_transition_matrix = transition_matrix(deepcopy(binned_x_indicies), markov_order=1, max_state_index=num_position_states)\n",
    "\t# binned_x_transition_matrix_higher_order_list = [binned_x_transition_matrix, transition_matrix(deepcopy(binned_x_indicies), markov_order=2, max_state_index=num_position_states), transition_matrix(deepcopy(binned_x_indicies), markov_order=3, max_state_index=num_position_states)]\n",
    "\n",
    "\tbinned_x_transition_matrix[np.isnan(binned_x_transition_matrix)] = 0.0\n",
    "\tbinned_x_transition_matrix_higher_order_list = [binned_x_transition_matrix] + [np.linalg.matrix_power(binned_x_transition_matrix, n) for n in np.arange(2, n_powers+1)]\n",
    "\t# , np.linalg.matrix_power(binned_x_transition_matrix, 2), np.linalg.matrix_power(binned_x_transition_matrix, 3)\n",
    "\t# binned_x_transition_matrix.shape # (64, 64)\n",
    "\treturn binned_x_transition_matrix_higher_order_list\n",
    "\n",
    "def _build_decoded_positions_transition_matrix(active_one_step_decoder):\n",
    "\t\"\"\" Compute the transition_matrix from the decoded positions \n",
    "\n",
    "\tTODO: make sure that separate events (e.g. separate replays) are not truncated creating erronious transitions\n",
    "\n",
    "\t\"\"\"\n",
    "\t# active_time_window_variable = active_one_step_decoder.time_window_centers # get time window centers (n_time_window_centers,) # (4060,)\n",
    "\t# active_most_likely_positions = active_one_step_decoder.most_likely_positions.T # (4060, 2) NOTE: the most_likely_positions for the active_one_step_decoder are tranposed compared to the active_two_step_decoder\n",
    "\t# active_most_likely_positions = active_two_step_decoder.most_likely_positions # (2, 4060)\n",
    "\tactive_one_step_decoder.most_likely_position_flat_indicies\n",
    "\t# active_most_likely_positions = active_one_step_decoder.revised_most_likely_positions.T\n",
    "\t# active_most_likely_positions #.shape # (36246,)\n",
    "\n",
    "\tmost_likely_position_indicies = np.squeeze(np.array(np.unravel_index(active_one_step_decoder.most_likely_position_flat_indicies, active_one_step_decoder.original_position_data_shape))) # convert back to an array\n",
    "\tmost_likely_position_xbins = most_likely_position_indicies + 1 # add 1 to convert back to a bin label from an index\n",
    "\t# most_likely_position_indicies # (1, 36246)\n",
    "\n",
    "\txbin_labels = np.arange(active_one_step_decoder.original_position_data_shape[0]) + 1\n",
    "\n",
    "\tdecoded_binned_x_transition_matrix_higher_order_list = _compute_position_transition_matrix(xbin_labels, most_likely_position_indicies)\n",
    "\treturn decoded_binned_x_transition_matrix_higher_order_list, xbin_labels\n",
    "\n",
    "\n",
    "# pf1D = deepcopy(curr_active_pipeline.computation_results['maze1'].computed_data['pf1D'])\n",
    "pf1D = deepcopy(global_pf1D)\n",
    "# pf1D = deepcopy(short_pf1D)\n",
    "# pf1D = deepcopy(long_pf1D)\n",
    "binned_x_transition_matrix_higher_order_list = _compute_position_transition_matrix(pf1D.xbin_labels, pf1D.filtered_pos_df['binned_x'].to_numpy())"
   ]
  },
  {
   "cell_type": "code",
   "execution_count": null,
   "id": "4dec59e9",
   "metadata": {},
   "outputs": [],
   "source": [
    "pf1D.filtered_pos_df.plot(x='t',y='x')"
   ]
  },
  {
   "cell_type": "code",
   "execution_count": null,
   "id": "fb355dd7",
   "metadata": {},
   "outputs": [],
   "source": [
    "# Visualization ______________________________________________________________________________________________________ #\n",
    "from pyphoplacecellanalysis.GUI.PyQtPlot.BinnedImageRenderingWindow import BasicBinnedImageRenderingWindow, LayoutScrollability\n",
    "out = BasicBinnedImageRenderingWindow(binned_x_transition_matrix_higher_order_list[0], pf1D.xbin_labels, pf1D.xbin_labels, name='binned_x_transition_matrix', title=\"Transition Matrix for binned x (from, to)\", variable_label='Transition Matrix', scrollability_mode=LayoutScrollability.NON_SCROLLABLE)\n",
    "# out.add_data(row=1, col=0, matrix=active_eloy_analysis.pf_overlapDensity_2D, xbins=active_pf_2D_dt.xbin_labels, ybins=active_pf_2D_dt.ybin_labels, name='pf_overlapDensity', title='pf overlapDensity metric', variable_label='pf overlapDensity')\n",
    "\n",
    "# out.add_data(row=1, col=0, matrix=binned_x_transition_matrix_higher_order_list[1], xbins=pf1D.xbin_labels, ybins=pf1D.ybin_labels, name='binned_x_transition_matrix^2', title='2nd Order Transition Matrix for binned x (from, to)', variable_label='2nd Order Transition Matrix') # , scrollability_mode=LayoutScrollability.NON_SCROLLABLE\n",
    "# out.add_data(row=2, col=0, matrix=binned_x_transition_matrix_higher_order_list[2], xbins=pf1D.xbin_labels, ybins=pf1D.ybin_labels, name='binned_x_transition_matrix^3', title='3rd Order Transition Matrix for binned x (from, to)', variable_label='3rd Order Transition Matrix') # , scrollability_mode=LayoutScrollability.NON_SCROLLABLE\n",
    "\n",
    "# Separate Windows for each:\n",
    "# out2 = BasicBinnedImageRenderingWindow(binned_x_transition_matrix_higher_order_list[1], pf1D.xbin_labels, pf1D.xbin_labels, name='binned_x_transition_matrix^2', title=\"2nd Order Transition Matrix for binned x (from, to)\", variable_label='2nd Order Transition Matrix', scrollability_mode=LayoutScrollability.NON_SCROLLABLE)\n",
    "# out3 = BasicBinnedImageRenderingWindow(binned_x_transition_matrix_higher_order_list[2], pf1D.xbin_labels, pf1D.xbin_labels, name='binned_x_transition_matrix^3', title=\"3rd Order Transition Matrix for binned x (from, to)\", variable_label='3rd Order Transition Matrix', scrollability_mode=LayoutScrollability.NON_SCROLLABLE)"
   ]
  },
  {
   "cell_type": "markdown",
   "id": "990e5f54",
   "metadata": {},
   "source": [
    "# 1. Compute the transition_matrix from the decoded positions\n"
   ]
  },
  {
   "cell_type": "code",
   "execution_count": null,
   "id": "a8e5db7e",
   "metadata": {},
   "outputs": [],
   "source": [
    "# BayesianPlacemapPositionDecoder\n",
    "# active_one_step_decoder = deepcopy(long_one_step_decoder_1D) # long_results_obj.original_1D_decoder\n",
    "long_decoded_binned_x_transition_matrix_higher_order_list, long_xbin_labels = _build_decoded_positions_transition_matrix(active_one_step_decoder=deepcopy(long_one_step_decoder_1D))\n",
    "short_decoded_binned_x_transition_matrix_higher_order_list, short_xbin_labels = _build_decoded_positions_transition_matrix(active_one_step_decoder=deepcopy(short_one_step_decoder_1D))\n"
   ]
  },
  {
   "cell_type": "code",
   "execution_count": null,
   "id": "3dcddd64",
   "metadata": {},
   "outputs": [],
   "source": [
    "out_decoded = BasicBinnedImageRenderingWindow(decoded_binned_x_transition_matrix_higher_order_list[0], active_one_step_decoder.xbin_centers, active_one_step_decoder.xbin_centers, name='decoded_binned_x_transition_matrix', title=\"DECODED Transition Matrix for binned x (from, to)\", variable_label='Transition Matrix', scrollability_mode=LayoutScrollability.NON_SCROLLABLE)\n"
   ]
  },
  {
   "cell_type": "code",
   "execution_count": null,
   "id": "9ea34522",
   "metadata": {},
   "outputs": [],
   "source": [
    "i = 0\n",
    "out = BasicBinnedImageRenderingWindow(binned_x_transition_matrix_higher_order_list[i], pf1D.xbin_labels, pf1D.xbin_labels, name='binned_x_transition_matrix', title=\"Transition Matrix for binned x (from, to)\", variable_label='Transition Matrix', scrollability_mode=LayoutScrollability.NON_SCROLLABLE)\n",
    "out.add_data(row=1, col=0, matrix=long_decoded_binned_x_transition_matrix_higher_order_list[i], xbins=long_xbin_labels, ybins=long_xbin_labels, name='long_decoded_binned_x_transition_matrix', title='Long DECODED Transition Matrix', variable_label='long decoded')\n",
    "out.add_data(row=2, col=0, matrix=short_decoded_binned_x_transition_matrix_higher_order_list[i], xbins=short_xbin_labels, ybins=short_xbin_labels, name='short_decoded_binned_x_transition_matrix', title='Short DECODED Transition Matrix', variable_label='short decoded')\n",
    "# out.add_data(row=1, col=0, matrix=binned_x_transition_matrix_higher_order_list[1], xbins=pf1D.xbin_labels, ybins=pf1D.ybin_labels, name='binned_x_transition_matrix^2', title='2nd Order Transition Matrix for binned x (from, to)', variable_label='2nd Order Transition Matrix') # , scrollability_mode=LayoutScrollability.NON_SCROLLABLE\n",
    "# out.add_data(row=2, col=0, matrix=binned_x_transition_matrix_higher_order_list[2], xbins=pf1D.xbin_labels, ybins=pf1D.ybin_labels, name='binned_x_transition_matrix^3', title='3rd Order Transition Matrix for binned x (from, to)', variable_label='3rd Order Transition Matrix') # , scrollability_mode=LayoutScrollability.NON_SCROLLABLE\n"
   ]
  },
  {
   "cell_type": "code",
   "execution_count": null,
   "id": "23fb7eb3",
   "metadata": {},
   "outputs": [],
   "source": [
    "active_one_step_decoder.most_likely_position_indicies"
   ]
  },
  {
   "cell_type": "code",
   "execution_count": null,
   "id": "93a8f4b5",
   "metadata": {},
   "outputs": [],
   "source": [
    "\n",
    "## 2. Use the position transition matrix to determine how likely each decoded position's transition is"
   ]
  },
  {
   "cell_type": "code",
   "execution_count": null,
   "id": "a87cd169",
   "metadata": {},
   "outputs": [],
   "source": [
    "time_binned_instantaneous_unit_specific_spike_rate = curr_active_pipeline.global_computation_results.computed_data.jonathan_firing_rate_analysis.time_binned_instantaneous_unit_specific_spike_rate\n",
    "timestamps = time_binned_instantaneous_unit_specific_spike_rate.time_bins\n",
    "\n",
    "value_df = time_binned_instantaneous_unit_specific_spike_rate.instantaneous_unit_specific_spike_rate_values\n",
    "value_df"
   ]
  },
  {
   "cell_type": "code",
   "execution_count": null,
   "id": "d0807be0",
   "metadata": {},
   "outputs": [],
   "source": [
    "# Number of spikes version:\n",
    "time_binned_unit_specific_spike_rate = curr_active_pipeline.global_computation_results.computed_data.jonathan_firing_rate_analysis.time_binned_unit_specific_spike_rate\n",
    "timestamps = time_binned_unit_specific_spike_rate.time_bins\n",
    "value_df = time_binned_unit_specific_spike_rate.time_binned_unit_specific_binned_spike_rate\n",
    "value_df"
   ]
  },
  {
   "cell_type": "markdown",
   "id": "5b7320ac",
   "metadata": {},
   "source": [
    "# LauncherWidget\n"
   ]
  },
  {
   "cell_type": "code",
   "execution_count": null,
   "id": "f889b9c1",
   "metadata": {},
   "outputs": [],
   "source": [
    "from pyphoplacecellanalysis.External.pyqtgraph import QtWidgets, QtCore, QtGui\n",
    "from pyphocorehelpers.gui.Qt.ExceptionPrintingSlot import pyqtExceptionPrintingSlot\n",
    "from pyphoplacecellanalysis.GUI.Qt.MainApplicationWindows.LauncherWidget.LauncherWidget import LauncherWidget\n",
    "\n",
    "widget = LauncherWidget()\n",
    "treeWidget = widget.mainTreeWidget # QTreeWidget\n",
    "widget.build_for_pipeline(curr_active_pipeline=curr_active_pipeline)\n",
    "widget.show()"
   ]
  },
  {
   "cell_type": "code",
   "execution_count": null,
   "id": "cefa4d95",
   "metadata": {},
   "outputs": [],
   "source": [
    "plot_obj = curr_active_pipeline.plot\n",
    "plot_obj"
   ]
  },
  {
   "cell_type": "code",
   "execution_count": null,
   "id": "1e3663c6",
   "metadata": {},
   "outputs": [],
   "source": [
    "# curr_display_output = display_function(self.computation_results[active_session_configuration_name], self.active_configs[active_session_configuration_name], owning_pipeline=self, active_config_name=active_session_configuration_name, **kwargs)\n",
    "# TypeError: _display_context_nested_docks() missing 2 required positional arguments: 'computation_results' and 'active_configs'\n"
   ]
  },
  {
   "cell_type": "code",
   "execution_count": null,
   "id": "046c3934",
   "metadata": {},
   "outputs": [],
   "source": [
    "curr_active_pipeline.display('_display_1d_placefields', 'maze1')\n"
   ]
  },
  {
   "cell_type": "code",
   "execution_count": null,
   "id": "63e6eabc",
   "metadata": {},
   "outputs": [],
   "source": [
    "plot_obj.__dir__()"
   ]
  },
  {
   "cell_type": "code",
   "execution_count": null,
   "id": "10ee39c1",
   "metadata": {},
   "outputs": [],
   "source": [
    "plot_obj._display_grid_bin_bounds_validation()"
   ]
  },
  {
   "cell_type": "code",
   "execution_count": null,
   "id": "0d29dc49",
   "metadata": {},
   "outputs": [],
   "source": [
    "plot_obj._display_1d_placefields()"
   ]
  },
  {
   "cell_type": "code",
   "execution_count": null,
   "id": "3693c84d",
   "metadata": {},
   "outputs": [],
   "source": [
    "plot_obj._display_2d_placefield_result_plot_ratemaps_2D()"
   ]
  },
  {
   "cell_type": "markdown",
   "id": "c439ff5f",
   "metadata": {},
   "source": [
    "# 2023-10-19 - Home - Widget Exploration"
   ]
  },
  {
   "cell_type": "code",
   "execution_count": null,
   "id": "75a73238",
   "metadata": {},
   "outputs": [],
   "source": [
    "# from pyphoplacecellanalysis.Pho2D.stacked_epoch_slices import stacked_epoch_slices_matplotlib_build_view \n",
    "## TODO: stacked_epoch_slices_matplotlib_build_view should be replaced with plot_decoded_epoch_slices:\n",
    "from pyphoplacecellanalysis.General.Pipeline.Stages.DisplayFunctions.DecoderPredictionError import plot_decoded_epoch_slices\n",
    "\n",
    "### Two Step Decoder Plotting:\n",
    "plot_function_name = 'Stacked Epoch Slices View - MATPLOTLIB subplots Version'\n",
    "active_two_step_containers = stacked_epoch_slices_matplotlib_build_view(epoch_slices, name='Two Step Stacked Epoch Slices View (MATPLOTLIB)', plot_function_name=plot_function_name, debug_test_max_num_slices=debug_test_max_num_slices, debug_print=False)\n",
    "# Unpack:\n",
    "active_two_step_params, active_two_step_plots_data, active_two_step_plots, active_two_step_ui = active_two_step_containers\n",
    "# active_two_step_containers.axs\n",
    "\n",
    "## Test Plotting just a single dimension of the 2D posterior:\n",
    "pho_active_two_step_custom_decoder = active_two_step_decoder\n",
    "active_two_step_posterior = pho_active_two_step_custom_decoder.p_x_given_n_and_x_prev\n",
    "# Collapse the 2D position posterior into two separate 1D (X & Y) marginal posteriors. Be sure to re-normalize each marginal after summing\n",
    "active_two_step_marginal_posterior_x = np.squeeze(np.sum(active_two_step_posterior, 1)) # sum over all y. Result should be [x_bins x time_bins]\n",
    "active_two_step_marginal_posterior_x = active_two_step_marginal_posterior_x / np.sum(active_two_step_marginal_posterior_x, axis=0) # sum over all positions for each time_bin (so there's a normalized distribution at each timestep)\n",
    "for i, curr_ax in enumerate(active_two_step_plots.axs):\n",
    "    active_two_step_plots.fig, curr_ax = plot_1D_most_likely_position_comparsions(sess.position.to_dataframe(), ax=curr_ax, time_window_centers=pho_custom_decoder.active_time_window_centers, xbin=pho_custom_decoder.xbin,\n",
    "                                                       posterior=active_two_step_marginal_posterior_x,\n",
    "                                                       active_most_likely_positions_1D=active_two_step_decoder.most_likely_positions.T[:,0].T,\n",
    "                                                       enable_flat_line_drawing=enable_flat_line_drawing, debug_print=False)\n",
    "    curr_ax.set_xlim(*active_two_step_plots_data.epoch_slices[i,:])\n",
    "    curr_ax.set_title('')"
   ]
  },
  {
   "cell_type": "code",
   "execution_count": null,
   "id": "ffb4d761",
   "metadata": {},
   "outputs": [],
   "source": [
    "from PendingNotebookCode import display_all_eloy_pf_density_measures_results\n",
    "    \n",
    "\n",
    "out_all_eloy_pf_density_fig = display_all_eloy_pf_density_measures_results(global_pf2D, active_eloy_analysis, active_simpler_pf_densities_analysis, active_peak_prominence_2d_results)"
   ]
  },
  {
   "cell_type": "code",
   "execution_count": null,
   "id": "345871dd",
   "metadata": {},
   "outputs": [],
   "source": [
    "shared_aclus_only_neuron_IDs\n",
    "\n",
    "plot = curr_active_pipeline.plot\n"
   ]
  },
  {
   "cell_type": "code",
   "execution_count": null,
   "id": "2c44cdb1",
   "metadata": {},
   "outputs": [],
   "source": [
    "\n",
    "curr_active_pipeline.registered_display_function_docs_dict\n",
    "\n"
   ]
  },
  {
   "cell_type": "code",
   "execution_count": null,
   "id": "9db5fe8b",
   "metadata": {},
   "outputs": [],
   "source": [
    "## 2023-10-18 - This surprisingly works!\n",
    "curr_display_function_name = '_display_pf_peak_prominence2d_plots'\n",
    "figure, ax = curr_active_pipeline.display(curr_display_function_name, active_config_name, neuron_id=3) "
   ]
  },
  {
   "cell_type": "code",
   "execution_count": null,
   "id": "020f0f3d",
   "metadata": {},
   "outputs": [],
   "source": [
    "from pyphoplacecellanalysis.PhoPositionalData.plotting.laps import plot_lap_trajectories_2d\n",
    "# Complete Version:\n",
    "fig, axs, laps_pages = plot_lap_trajectories_2d(curr_active_pipeline.sess, curr_num_subplots=len(curr_active_pipeline.sess.laps.lap_id), active_page_index=0)\n"
   ]
  },
  {
   "cell_type": "code",
   "execution_count": null,
   "id": "af09d1b4",
   "metadata": {},
   "outputs": [],
   "source": [
    "curr_display_function_name = '_display_pf_peak_prominence2d_plots'\n",
    "figure, ax = curr_active_pipeline.display(curr_display_function_name, active_config_name, neuron_id=3)"
   ]
  },
  {
   "cell_type": "code",
   "execution_count": null,
   "id": "5f894c5f",
   "metadata": {},
   "outputs": [],
   "source": [
    "\n",
    "pActiveTuningCurvesPlotter = None\n",
    "display_output = display_output | curr_active_pipeline.display('_display_3d_interactive_tuning_curves_plotter', active_config_name, extant_plotter=display_output.get('pActiveTuningCurvesPlotter', None), panel_controls_mode='Qt', should_nan_non_visited_elements=False, zScalingFactor=2000.0) # Works now!\n",
    "ipcDataExplorer = display_output['ipcDataExplorer']\n",
    "display_output['pActiveTuningCurvesPlotter'] = display_output.pop('plotter') # rename the key from the generic \"plotter\" to \"pActiveSpikesBehaviorPlotter\" to avoid collisions with others\n",
    "pActiveTuningCurvesPlotter = display_output['pActiveTuningCurvesPlotter']\n",
    "root_dockAreaWindow, placefieldControlsContainerWidget, pf_widgets = display_output['pane'] # for Qt mode"
   ]
  },
  {
   "cell_type": "code",
   "execution_count": null,
   "id": "1dd0a49d",
   "metadata": {},
   "outputs": [],
   "source": [
    "from pyphoplacecellanalysis.Pho3D.PyVista.peak_prominences import render_all_neuron_peak_prominence_2d_results_on_pyvista_plotter\n",
    "\n",
    "active_peak_prominence_2d_results = curr_active_pipeline.computation_results[active_config_name].computed_data.get('RatemapPeaksAnalysis', {}).get('PeakProminence2D', None)\n",
    "render_all_neuron_peak_prominence_2d_results_on_pyvista_plotter(ipcDataExplorer, active_peak_prominence_2d_results)\n"
   ]
  },
  {
   "cell_type": "code",
   "execution_count": null,
   "id": "5da3df80",
   "metadata": {},
   "outputs": [],
   "source": [
    "from pyphocorehelpers.gui.Qt.widget_positioning_helpers import WidgetPositioningHelpers\n",
    "\n",
    "WidgetPositioningHelpers.move_widget_to_top_left_corner(placefieldControlsContainerWidget, screen_index=None, debug_print=True)"
   ]
  },
  {
   "cell_type": "code",
   "execution_count": null,
   "id": "5e9bae07",
   "metadata": {},
   "outputs": [],
   "source": []
  }
 ],
 "metadata": {
  "kernelspec": {
   "display_name": "Python 3 (ipykernel)",
   "language": "python",
   "name": "python3"
  },
  "language_info": {
   "codemirror_mode": {
    "name": "ipython",
    "version": 3
   },
   "file_extension": ".py",
   "mimetype": "text/x-python",
   "name": "python",
   "nbconvert_exporter": "python",
   "pygments_lexer": "ipython3",
   "version": "3.9.13"
  },
  "polyglot_notebook": {
   "kernelInfo": {
    "defaultKernelName": "csharp",
    "items": [
     {
      "aliases": [],
      "name": "csharp"
     }
    ]
   }
  },
  "toc-showmarkdowntxt": false,
  "toc-showtags": false
 },
 "nbformat": 4,
 "nbformat_minor": 5
}
