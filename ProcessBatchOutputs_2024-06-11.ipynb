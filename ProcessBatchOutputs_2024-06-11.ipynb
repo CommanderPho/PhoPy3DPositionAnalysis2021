{
 "cells": [
  {
   "cell_type": "code",
   "execution_count": 1,
   "id": "0056bc66-7629-4ef7-8c87-f28f8fcd9dc8",
   "metadata": {
    "autorun": true,
    "notebookRunGroups": {
     "groupValue": "1"
    },
    "tags": [
     "imports",
     "REQUIRED",
     "ACTIVE"
    ]
   },
   "outputs": [
    {
     "name": "stdout",
     "output_type": "stream",
     "text": [
      "Automatic pdb calling has been turned OFF\n",
      "scripts_output_path: K:\\scratch\\gen_scripts\n",
      "collected_outputs_path: K:\\scratch\\collected_outputs\n"
     ]
    }
   ],
   "source": [
    "%config IPCompleter.use_jedi = False\n",
    "%pdb off\n",
    "%load_ext autoreload\n",
    "%autoreload 3\n",
    "import os\n",
    "import sys\n",
    "import platform\n",
    "from copy import deepcopy\n",
    "from typing import List, Dict, Optional, Union, Callable\n",
    "from pathlib import Path\n",
    "import pathlib\n",
    "import numpy as np\n",
    "import pandas as pd\n",
    "import tables as tb\n",
    "from copy import deepcopy\n",
    "from datetime import datetime, timedelta\n",
    "from attrs import define, field, Factory\n",
    "\n",
    "# # required to enable non-blocking interaction:\n",
    "# %gui qt5 ## TODO 2024-01-18 - this causes kernel to crash when running notebook remotely via VSCode's ssh remote\n",
    "\n",
    "## Pho's Custom Libraries:\n",
    "from pyphocorehelpers.Filesystem.path_helpers import find_first_extant_path\n",
    "from pyphocorehelpers.function_helpers import function_attributes\n",
    "from pyphocorehelpers.exception_helpers import CapturedException\n",
    "\n",
    "# Jupyter interactivity:\n",
    "import ipywidgets as widgets\n",
    "from IPython.display import display\n",
    "from pyphocorehelpers.gui.Jupyter.JupyterButtonRowWidget import JupyterButtonRowWidget\n",
    "from pyphocorehelpers.gui.Jupyter.simple_widgets import code_block_widget\n",
    "\n",
    "# pyPhoPlaceCellAnalysis:\n",
    "# NeuroPy (Diba Lab Python Repo) Loading\n",
    "from neuropy.core.session.Formats.BaseDataSessionFormats import DataSessionFormatRegistryHolder\n",
    "from neuropy.core.session.Formats.Specific.BapunDataSessionFormat import BapunDataSessionFormatRegisteredClass\n",
    "from neuropy.core.session.Formats.Specific.KDibaOldDataSessionFormat import KDibaOldDataSessionFormatRegisteredClass\n",
    "from neuropy.core.session.Formats.Specific.RachelDataSessionFormat import RachelDataSessionFormat\n",
    "from neuropy.core.session.Formats.Specific.HiroDataSessionFormat import HiroDataSessionFormatRegisteredClass\n",
    "from neuropy.utils.matplotlib_helpers import matplotlib_configuration_update\n",
    "\n",
    "## For computation parameters:\n",
    "from neuropy.utils.result_context import IdentifyingContext\n",
    "from neuropy.core.session.Formats.BaseDataSessionFormats import find_local_session_paths\n",
    "from neuropy.core import Epoch\n",
    "\n",
    "from pyphoplacecellanalysis.General.Pipeline.Stages.Loading import saveData, loadData\n",
    "import pyphoplacecellanalysis.General.Batch.runBatch\n",
    "from pyphoplacecellanalysis.General.Batch.runBatch import BatchRun, BatchResultDataframeAccessor, run_diba_batch, BatchComputationProcessOptions, BatchSessionCompletionHandler, SavingOptions\n",
    "from pyphoplacecellanalysis.General.Pipeline.NeuropyPipeline import PipelineSavingScheme\n",
    "\n",
    "from neuropy.core.user_annotations import UserAnnotationsManager\n",
    "from pyphoplacecellanalysis.General.Batch.runBatch import SessionBatchProgress\n",
    "from pyphoplacecellanalysis.SpecificResults.AcrossSessionResults import AcrossSessionsResults, AcrossSessionTables, AcrossSessionsVisualizations\n",
    "\n",
    "from pyphocorehelpers.Filesystem.path_helpers import set_posix_windows\n",
    "from pyphoplacecellanalysis.General.Batch.pythonScriptTemplating import build_vscode_workspace, build_windows_powershell_run_script\n",
    "\n",
    "from pyphocorehelpers.exception_helpers import CapturedException\n",
    "from pyphoplacecellanalysis.SpecificResults.AcrossSessionResults import InstantaneousFiringRatesDataframeAccessor\n",
    "from pyphoplacecellanalysis.General.Batch.runBatch import PipelineCompletionResult, BatchSessionCompletionHandler\n",
    "\n",
    "from pyphocorehelpers.Filesystem.metadata_helpers import FilesystemMetadata, get_file_metadata\n",
    "from pyphocorehelpers.Filesystem.path_helpers import discover_data_files, generate_copydict, copy_movedict, copy_file, save_copydict_to_text_file, read_copydict_from_text_file, invert_filedict\n",
    "from pyphoplacecellanalysis.General.Batch.runBatch import get_file_str_if_file_exists\n",
    "from pyphoplacecellanalysis.SpecificResults.AcrossSessionResults import check_output_h5_files, copy_files_in_filelist_to_dest\n",
    "from pyphoplacecellanalysis.General.Batch.runBatch import ConcreteSessionFolder, BackupMethods\n",
    "\n",
    "from pyphoplacecellanalysis.General.Batch.NonInteractiveProcessing import batch_perform_all_plots, BatchPhoJonathanFiguresHelper\n",
    "from pyphoplacecellanalysis.SpecificResults.PhoDiba2023Paper import PAPER_FIGURE_figure_1_add_replay_epoch_rasters, PAPER_FIGURE_figure_1_full, PAPER_FIGURE_figure_3, main_complete_figure_generations\n",
    "\n",
    "from neuropy.core.neuron_identities import NeuronIdentityDataframeAccessor\n",
    "from pyphoplacecellanalysis.General.Pipeline.Stages.ComputationFunctions.MultiContextComputationFunctions.LongShortTrackComputations import build_merged_neuron_firing_rate_indicies\n",
    "from pyphoplacecellanalysis.General.Pipeline.Stages.ComputationFunctions.MultiContextComputationFunctions.DirectionalPlacefieldGlobalComputationFunctions import DirectionalPlacefieldGlobalComputationFunctions, DirectionalLapsHelpers\n",
    "from pyphocorehelpers.gui.Jupyter.simple_widgets import fullwidth_path_widget\n",
    "\n",
    "import inspect\n",
    "from jinja2 import Template\n",
    "from pyphoplacecellanalysis.General.Batch.BatchJobCompletion.UserCompletionHelpers.batch_user_completion_helpers import MAIN_get_template_string, write_test_script\n",
    "from pyphoplacecellanalysis.General.Batch.BatchJobCompletion.UserCompletionHelpers.batch_user_completion_helpers import export_session_h5_file_completion_function, curr_runtime_context_header_template, export_rank_order_results_completion_function, figures_rank_order_results_completion_function, compute_and_export_marginals_dfs_completion_function, determine_session_t_delta_completion_function, perform_sweep_decoding_time_bin_sizes_marginals_dfs_completion_function, compute_and_export_decoders_epochs_decoding_and_evaluation_dfs_completion_function, reload_exported_kdiba_session_position_info_mat_completion_function, compute_and_export_session_wcorr_shuffles_completion_function, compute_and_export_session_instantaneous_spike_rates_completion_function, compute_and_export_session_extended_placefield_peak_information_completion_function\n",
    "from pyphoplacecellanalysis.General.Batch.pythonScriptTemplating import ProcessingScriptPhases\n",
    "\n",
    "# BATCH_DATE_TO_USE = '2024-06-11_GL' # used for filenames throught the notebook\n",
    "# BATCH_DATE_TO_USE = '2024-06-11_Lab' # used for filenames throught the notebook\n",
    "BATCH_DATE_TO_USE = '2024-06-11_Apogee' # used for filenames throught the notebook\n",
    "\n",
    "# scripts_output_path = Path('/home/halechr/cloud/turbo/Data/Output/gen_scripts/').resolve() # Greatlakes\n",
    "# scripts_output_path = Path('output/gen_scripts/').resolve() # Apogee\n",
    "# # scripts_output_path = Path('/home/halechr/FastData/gen_scripts/').resolve() # Lab\n",
    "# assert scripts_output_path.exists()\n",
    "known_scripts_output_paths = [Path(v).resolve() for v in ['/home/halechr/cloud/turbo/Data/Output/gen_scripts/', '/home/halechr/FastData/gen_scripts/', 'output/gen_scripts/']]\n",
    "scripts_output_path = find_first_extant_path(known_scripts_output_paths)\n",
    "assert scripts_output_path.exists(), f\"scripts_output_path: {scripts_output_path} does not exist! Is the right computer's config commented out above?\"\n",
    "# fullwidth_path_widget(scripts_output_path, file_name_label='Scripts Output Path:')\n",
    "print(f'scripts_output_path: {scripts_output_path}')\n",
    "\n",
    "collected_outputs_path = scripts_output_path.joinpath('../collected_outputs').resolve()\n",
    "collected_outputs_path.mkdir(exist_ok=True)\n",
    "assert collected_outputs_path.exists()\n",
    "print(f'collected_outputs_path: {collected_outputs_path}')"
   ]
  },
  {
   "cell_type": "markdown",
   "id": "0d958aaf",
   "metadata": {},
   "source": [
    "## Build Processing Scripts:"
   ]
  },
  {
   "cell_type": "code",
   "execution_count": 2,
   "id": "7cb673d3",
   "metadata": {
    "notebookRunGroups": {
     "groupValue": "1"
    },
    "tags": []
   },
   "outputs": [],
   "source": [
    "# Get the generated code for user-contributed functions:\n",
    "phase_any_run_custom_user_completion_functions_dict = {\n",
    "# \"export_rank_order_results_completion_function\": export_rank_order_results_completion_function, # ran 2024-05-28 6am\n",
    "# \"figures_rank_order_results_completion_function\": figures_rank_order_results_completion_function,\n",
    "# \"compute_and_export_marginals_dfs_completion_function\": compute_and_export_marginals_dfs_completion_function, # ran 2024-05-28 6am\n",
    "# \"determine_session_t_delta_completion_function\": determine_session_t_delta_completion_function,  # ran 2024-05-28 6am\n",
    "# 'perform_sweep_decoding_time_bin_sizes_marginals_dfs_completion_function': perform_sweep_decoding_time_bin_sizes_marginals_dfs_completion_function, # ran 2024-05-28 6am\n",
    "# 'compute_and_export_decoders_epochs_decoding_and_evaluation_dfs_completion_function': compute_and_export_decoders_epochs_decoding_and_evaluation_dfs_completion_function, # ran 2024-05-28 6am\n",
    "# 'reload_exported_kdiba_session_position_info_mat_completion_function': reload_exported_kdiba_session_position_info_mat_completion_function,\n",
    "'export_session_h5_file_completion_function': export_session_h5_file_completion_function, # ran 2024-05-28 3am\n",
    "    # 'compute_and_export_session_wcorr_shuffles_completion_function': compute_and_export_session_wcorr_shuffles_completion_function,\n",
    "'compute_and_export_session_instantaneous_spike_rates_completion_function': compute_and_export_session_instantaneous_spike_rates_completion_function,\n",
    "'compute_and_export_session_extended_placefield_peak_information_completion_function': compute_and_export_session_extended_placefield_peak_information_completion_function,\n",
    "}\n"
   ]
  },
  {
   "cell_type": "code",
   "execution_count": 3,
   "id": "fa767589",
   "metadata": {
    "notebookRunGroups": {
     "groupValue": "1"
    },
    "tags": []
   },
   "outputs": [
    {
     "name": "stdout",
     "output_type": "stream",
     "text": [
      "WARNING: custom_phase_extended_computations_include_includelist: ['lap_direction_determination', 'pf_computation', 'pfdt_computation', 'firing_rate_trends', 'extended_stats', 'long_short_decoding_analyses', 'jonathan_firing_rate_analysis', 'long_short_fr_indicies_analyses', 'short_long_pf_overlap_analyses', 'long_short_post_decoding', 'long_short_inst_spike_rate_groups', 'split_to_directional_laps', 'merged_directional_placefields', 'rank_order_shuffle_analysis'] is provided so only these extended_computation_fns will be used (overwritting the phase defaults!).\n",
      "current_python_executable: \"K:\\FastSwap\\AppData\\VSCode\\gray\\.venv_gray\\Scripts\\python.exe\"\n",
      "active_venv_path: \"K:\\FastSwap\\AppData\\VSCode\\gray\\.venv_gray\"\n",
      "activate_script_path: \"K:\\FastSwap\\AppData\\VSCode\\gray\\.venv_gray\\Scripts\\activate.ps1\"\n",
      "python_executable: \"K:\\FastSwap\\AppData\\VSCode\\gray\\.venv_gray\\Scripts\\python.exe\"\n",
      "script_folders: [WindowsPath('K:/scratch/gen_scripts'), WindowsPath('K:/scratch/gen_scripts/run_kdiba_gor01_one_2006-6-08_14-26-15'), WindowsPath('K:/scratch/gen_scripts/run_kdiba_gor01_one_2006-6-09_1-22-43'), WindowsPath('K:/scratch/gen_scripts/run_kdiba_gor01_one_2006-6-12_15-55-31'), WindowsPath('K:/scratch/gen_scripts/run_kdiba_gor01_two_2006-6-07_16-40-19'), WindowsPath('K:/scratch/gen_scripts/run_kdiba_gor01_two_2006-6-08_21-16-25'), WindowsPath('K:/scratch/gen_scripts/run_kdiba_gor01_two_2006-6-09_22-24-40'), WindowsPath('K:/scratch/gen_scripts/run_kdiba_gor01_two_2006-6-12_16-53-46'), WindowsPath('K:/scratch/gen_scripts/run_kdiba_vvp01_one_2006-4-09_17-29-30'), WindowsPath('K:/scratch/gen_scripts/run_kdiba_vvp01_one_2006-4-10_12-25-50'), WindowsPath('K:/scratch/gen_scripts/run_kdiba_vvp01_two_2006-4-09_16-40-54'), WindowsPath('K:/scratch/gen_scripts/run_kdiba_vvp01_two_2006-4-10_12-58-3'), WindowsPath('K:/scratch/gen_scripts/run_kdiba_pin01_one_11-02_17-46-44'), WindowsPath('K:/scratch/gen_scripts/run_kdiba_pin01_one_11-02_19-28-0'), WindowsPath('K:/scratch/gen_scripts/run_kdiba_pin01_one_11-03_12-3-25'), WindowsPath('K:/scratch/gen_scripts/run_kdiba_pin01_one_fet11-01_12-58-54')]\n",
      "vscode_workspace_path: K:\\scratch\\gen_scripts\\run_workspace.code-workspace\n",
      "vscode_workspace_path: K:\\scratch\\gen_scripts\\run_workspace.code-workspace\n"
     ]
    },
    {
     "data": {
      "application/vnd.jupyter.widget-view+json": {
       "model_id": "5cc4684b65274e96a0052e724a5b2788",
       "version_major": 2,
       "version_minor": 0
      },
      "text/plain": [
       "Box(children=(Label(value='vscode_workspace_path:', layout=Layout(width='auto')), HTML(value=\"<b style='font-s…"
      ]
     },
     "metadata": {},
     "output_type": "display_data"
    },
    {
     "name": "stdout",
     "output_type": "stream",
     "text": [
      "generate_figures_script_paths: ['K:\\\\scratch\\\\gen_scripts\\\\run_kdiba_gor01_one_2006-6-08_14-26-15\\\\figures_kdiba_gor01_one_2006-6-08_14-26-15.py', 'K:\\\\scratch\\\\gen_scripts\\\\run_kdiba_gor01_one_2006-6-09_1-22-43\\\\figures_kdiba_gor01_one_2006-6-09_1-22-43.py', 'K:\\\\scratch\\\\gen_scripts\\\\run_kdiba_gor01_one_2006-6-12_15-55-31\\\\figures_kdiba_gor01_one_2006-6-12_15-55-31.py', 'K:\\\\scratch\\\\gen_scripts\\\\run_kdiba_gor01_two_2006-6-07_16-40-19\\\\figures_kdiba_gor01_two_2006-6-07_16-40-19.py', 'K:\\\\scratch\\\\gen_scripts\\\\run_kdiba_gor01_two_2006-6-08_21-16-25\\\\figures_kdiba_gor01_two_2006-6-08_21-16-25.py', 'K:\\\\scratch\\\\gen_scripts\\\\run_kdiba_gor01_two_2006-6-09_22-24-40\\\\figures_kdiba_gor01_two_2006-6-09_22-24-40.py', 'K:\\\\scratch\\\\gen_scripts\\\\run_kdiba_gor01_two_2006-6-12_16-53-46\\\\figures_kdiba_gor01_two_2006-6-12_16-53-46.py', 'K:\\\\scratch\\\\gen_scripts\\\\run_kdiba_vvp01_one_2006-4-09_17-29-30\\\\figures_kdiba_vvp01_one_2006-4-09_17-29-30.py', 'K:\\\\scratch\\\\gen_scripts\\\\run_kdiba_vvp01_one_2006-4-10_12-25-50\\\\figures_kdiba_vvp01_one_2006-4-10_12-25-50.py', 'K:\\\\scratch\\\\gen_scripts\\\\run_kdiba_vvp01_two_2006-4-09_16-40-54\\\\figures_kdiba_vvp01_two_2006-4-09_16-40-54.py', 'K:\\\\scratch\\\\gen_scripts\\\\run_kdiba_vvp01_two_2006-4-10_12-58-3\\\\figures_kdiba_vvp01_two_2006-4-10_12-58-3.py', 'K:\\\\scratch\\\\gen_scripts\\\\run_kdiba_pin01_one_11-02_17-46-44\\\\figures_kdiba_pin01_one_11-02_17-46-44.py', 'K:\\\\scratch\\\\gen_scripts\\\\run_kdiba_pin01_one_11-02_19-28-0\\\\figures_kdiba_pin01_one_11-02_19-28-0.py', 'K:\\\\scratch\\\\gen_scripts\\\\run_kdiba_pin01_one_11-03_12-3-25\\\\figures_kdiba_pin01_one_11-03_12-3-25.py', 'K:\\\\scratch\\\\gen_scripts\\\\run_kdiba_pin01_one_fet11-01_12-58-54\\\\figures_kdiba_pin01_one_fet11-01_12-58-54.py']\n"
     ]
    },
    {
     "data": {
      "application/vnd.jupyter.widget-view+json": {
       "model_id": "1c59d880ae364d06a99c1b8398c2ac03",
       "version_major": 2,
       "version_minor": 0
      },
      "text/plain": [
       "VBox(children=(Box(children=(Label(value='run_kdiba_gor01_one_2006-6-08_14-26-15.py', layout=Layout(width='aut…"
      ]
     },
     "metadata": {},
     "output_type": "display_data"
    }
   ],
   "source": [
    "from pyphoplacecellanalysis.General.Batch.pythonScriptTemplating import BatchScriptsCollection, generate_batch_single_session_scripts, display_generated_scripts_ipywidget\n",
    "\n",
    "# Hardcoded included_session_contexts:\n",
    "included_session_contexts = [\n",
    "    IdentifyingContext(format_name='kdiba',animal='gor01',exper_name='one',session_name='2006-6-08_14-26-15'), # Other file\n",
    "    IdentifyingContext(format_name='kdiba',animal='gor01',exper_name='one',session_name='2006-6-09_1-22-43'), \n",
    "    IdentifyingContext(format_name='kdiba',animal='gor01',exper_name='one',session_name='2006-6-12_15-55-31'), # \n",
    "    IdentifyingContext(format_name='kdiba',animal='gor01',exper_name='two',session_name='2006-6-07_16-40-19'), # Other tab\n",
    "    IdentifyingContext(format_name='kdiba',animal='gor01',exper_name='two',session_name='2006-6-08_21-16-25'),\n",
    "    IdentifyingContext(format_name='kdiba',animal='gor01',exper_name='two',session_name='2006-6-09_22-24-40'), \n",
    "    IdentifyingContext(format_name='kdiba',animal='gor01',exper_name='two',session_name='2006-6-12_16-53-46'),\n",
    "    IdentifyingContext(format_name='kdiba',animal='vvp01',exper_name='one',session_name='2006-4-09_17-29-30'),\n",
    "    IdentifyingContext(format_name='kdiba',animal='vvp01',exper_name='one',session_name='2006-4-10_12-25-50'),\n",
    "    IdentifyingContext(format_name='kdiba',animal='vvp01',exper_name='two',session_name='2006-4-09_16-40-54'),\n",
    "    IdentifyingContext(format_name='kdiba',animal='vvp01',exper_name='two',session_name='2006-4-10_12-58-3'),\n",
    "    IdentifyingContext(format_name='kdiba',animal='pin01',exper_name='one',session_name='11-02_17-46-44'), #\n",
    "    IdentifyingContext(format_name='kdiba',animal='pin01',exper_name='one',session_name='11-02_19-28-0'),\n",
    "    IdentifyingContext(format_name='kdiba',animal='pin01',exper_name='one',session_name='11-03_12-3-25'),\n",
    "    IdentifyingContext(format_name='kdiba',animal='pin01',exper_name='one',session_name='fet11-01_12-58-54'), #\n",
    "]\n",
    "\n",
    "## Setup Functions:\n",
    "force_recompute_override_computations_includelist = []\n",
    "# force_recompute_override_computations_includelist = ['directional_decoders_evaluate_epochs',]\n",
    "# force_recompute_override_computations_includelist = ['split_to_directional_laps','merged_directional_placefields','directional_decoders_evaluate_epochs','directional_decoders_epoch_heuristic_scoring']\n",
    "# force_recompute_override_computations_includelist = ['directional_decoders_evaluate_epochs','directional_decoders_epoch_heuristic_scoring']\n",
    "# force_recompute_override_computations_includelist = ['split_to_directional_laps','merged_directional_placefields']\n",
    "# force_recompute_override_computations_includelist = ['long_short_decoding_analyses', 'long_short_fr_indicies_analyses', 'short_long_pf_overlap_analyses', 'long_short_post_decoding',]\n",
    "# force_recompute_override_computations_includelist = ['wcorr_shuffle_analysis','trial_by_trial_metrics']\n",
    "\n",
    "extra_extended_computations_include_includelist = [\n",
    "\t# 'wcorr_shuffle_analysis'\n",
    "]\n",
    "\n",
    "# custom_phase_extended_computations_include_includelist = None\n",
    "custom_phase_extended_computations_include_includelist=['lap_direction_determination', 'pf_computation', 'pfdt_computation', 'firing_rate_trends',\n",
    "\t# 'pf_dt_sequential_surprise',\n",
    "\t'extended_stats',\n",
    "\t'long_short_decoding_analyses', 'jonathan_firing_rate_analysis', 'long_short_fr_indicies_analyses', 'short_long_pf_overlap_analyses', 'long_short_post_decoding', \n",
    "\t# 'ratemap_peaks_prominence2d',\n",
    "\t'long_short_inst_spike_rate_groups',\n",
    "\t# 'long_short_endcap_analysis',\n",
    "\t# 'spike_burst_detection',\n",
    "\t'split_to_directional_laps',\n",
    "\t'merged_directional_placefields',\n",
    "\t'rank_order_shuffle_analysis',\n",
    "\t# 'directional_train_test_split',\n",
    "\t# 'directional_decoders_decode_continuous',\n",
    "\t# 'directional_decoders_evaluate_epochs',\n",
    "\t# 'directional_decoders_epoch_heuristic_scoring',\n",
    "    # 'wcorr_shuffle_analysis',\n",
    "    # 'trial_by_trial_metrics',\n",
    "    'extended_pf_peak_information',\n",
    "]\n",
    "\n",
    "active_global_batch_result_filename=f'global_batch_result_{BATCH_DATE_TO_USE}.pkl'\n",
    "\n",
    "debug_print = False\n",
    "known_global_data_root_parent_paths = [Path(r'/nfs/turbo/umms-kdiba/Data'), Path(r'/media/halechr/MAX/Data'), Path(r'W:/Data'), Path(r'/home/halechr/FastData'), Path(r'/Volumes/MoverNew/data')] # Path(r'/home/halechr/cloud/turbo/Data'), , Path(r'/nfs/turbo/umms-kdiba/Data'), Path(r'/home/halechr/turbo/Data'), \n",
    "global_data_root_parent_path = find_first_extant_path(known_global_data_root_parent_paths)\n",
    "assert global_data_root_parent_path.exists(), f\"global_data_root_parent_path: {global_data_root_parent_path} does not exist! Is the right computer's config commented out above?\"\n",
    "good_session_concrete_folders = ConcreteSessionFolder.build_concrete_session_folders(global_data_root_parent_path, included_session_contexts)\n",
    "\n",
    "## Different run configurations:\n",
    "\n",
    "# active_phase = ProcessingScriptPhases.clean_run\n",
    "# active_phase = ProcessingScriptPhases.continued_run\n",
    "active_phase = ProcessingScriptPhases.final_run\n",
    "# active_phase = ProcessingScriptPhases.figure_run\n",
    "\n",
    "custom_user_completion_functions_dict = active_phase.get_custom_user_completion_functions_dict(extra_run_functions=phase_any_run_custom_user_completion_functions_dict)\n",
    "# print(f'custom_user_completion_functions_dict: {custom_user_completion_functions_dict}')\n",
    "custom_user_completion_function_template_code, custom_user_completion_functions_dict = MAIN_get_template_string(BATCH_DATE_TO_USE=BATCH_DATE_TO_USE, collected_outputs_path=collected_outputs_path, override_custom_user_completion_functions_dict=custom_user_completion_functions_dict)\n",
    "# print(f'custom_user_completion_function_template_code: {custom_user_completion_function_template_code}')\n",
    "active_phase_dict = active_phase.get_run_configuration(custom_user_completion_function_template_code=custom_user_completion_function_template_code, extra_extended_computations_include_includelist=extra_extended_computations_include_includelist)\n",
    "\n",
    "## Completely replace with custom functions:\n",
    "if custom_phase_extended_computations_include_includelist is not None:\n",
    "\tprint(f'WARNING: custom_phase_extended_computations_include_includelist: {custom_phase_extended_computations_include_includelist} is provided so only these extended_computation_fns will be used (overwritting the phase defaults!).')\n",
    "\tactive_phase_dict['extended_computations_include_includelist'] = custom_phase_extended_computations_include_includelist\n",
    "\n",
    "# active_phase_dict['extended_computations_include_includelist'].remove('wcorr_shuffle_analysis')\n",
    "active_phase_dict['should_freeze_pipeline_updates'] = True\n",
    "\n",
    "## Build Slurm Scripts:\n",
    "session_basedirs_dict: Dict[IdentifyingContext, Path] = {a_session_folder.context:a_session_folder.path for a_session_folder in good_session_concrete_folders}\n",
    "batch_scripts_collection: BatchScriptsCollection = generate_batch_single_session_scripts(global_data_root_parent_path, session_batch_basedirs=session_basedirs_dict, included_session_contexts=included_session_contexts,\n",
    "                                                                                        output_directory=scripts_output_path, use_separate_run_directories=True,\n",
    "                                                                                        # should_freeze_pipeline_updates=False, \n",
    "                                                                                        # create_slurm_scripts=True, should_create_vscode_workspace=True,\n",
    "                                                                                        # extended_computations_include_includelist=extended_computations_include_includelist,\n",
    "                                                                                        force_recompute_override_computations_includelist=force_recompute_override_computations_includelist, # ['split_to_directional_laps', 'rank_order_shuffle_analysis'],\n",
    "                                                                                        # should_perform_figure_generation_to_file=False,\n",
    "                                                                                        # batch_session_completion_handler_kwargs=dict(enable_hdf5_output=False),\n",
    "                                                                                        # custom_user_completion_functions=custom_user_completion_functions,\n",
    "                                                                                        # custom_user_completion_function_template_code=custom_user_completion_function_template_code,\n",
    "                                                                                        # should_force_reload_all=True,\n",
    "                                                                                        # should_force_reload_all=False,\n",
    "                                                                                        **active_phase_dict\n",
    "                                                                                    )\n",
    "\n",
    "\n",
    "# batch_scripts_collection.included_session_contexts, output_python_scripts, output_slurm_scripts\n",
    "\n",
    "output_python_scripts = batch_scripts_collection.output_python_scripts\n",
    "output_slurm_scripts = batch_scripts_collection.output_slurm_scripts\n",
    "vscode_workspace_path = batch_scripts_collection.vscode_workspace_path\n",
    "if vscode_workspace_path is not None:\n",
    "    display(fullwidth_path_widget(vscode_workspace_path, file_name_label='vscode_workspace_path:'))\n",
    "\n",
    "computation_script_paths = [x[0] for x in output_python_scripts]\n",
    "generate_figures_script_paths = [x[1] for x in output_python_scripts]\n",
    "print(f'generate_figures_script_paths: {generate_figures_script_paths}')\n",
    "_out_widget = display_generated_scripts_ipywidget(batch_scripts_collection.included_session_contexts, output_python_scripts)\n",
    "display(_out_widget)"
   ]
  },
  {
   "cell_type": "code",
   "execution_count": null,
   "id": "bd6b61a8",
   "metadata": {
    "notebookRunGroups": {
     "groupValue": "1"
    },
    "tags": []
   },
   "outputs": [],
   "source": [
    "print(active_phase_dict['extended_computations_include_includelist'])"
   ]
  },
  {
   "cell_type": "code",
   "execution_count": 4,
   "metadata": {
    "notebookRunGroups": {
     "groupValue": "1"
    }
   },
   "outputs": [
    {
     "name": "stdout",
     "output_type": "stream",
     "text": [
      "ps_script_path: K:\\scratch\\gen_scripts\\run_scripts.ps1\n"
     ]
    },
    {
     "data": {
      "application/vnd.jupyter.widget-view+json": {
       "model_id": "1ae9d6ab967947999ebef9a28606da17",
       "version_major": 2,
       "version_minor": 0
      },
      "text/plain": [
       "Box(children=(Label(value='powershell_script_path:', layout=Layout(width='auto')), HTML(value=\"<b style='font-…"
      ]
     },
     "metadata": {},
     "output_type": "display_data"
    }
   ],
   "source": [
    "# Maximum number of parallel script executions\n",
    "max_parallel_executions = 3\n",
    "# List of your script paths\n",
    "# if active_phase.value == ProcessingScriptPhases.figure_run:\n",
    "if active_phase.is_figure_phase:\n",
    "    print(f'fig mode!')\n",
    "    script_paths = generate_figures_script_paths\n",
    "else:\n",
    "\tscript_paths = computation_script_paths\n",
    "\n",
    "if (platform.system() == 'Windows'):\n",
    "    powershell_script_path = build_windows_powershell_run_script(script_paths, max_concurrent_jobs=max_parallel_executions, script_name='run_scripts')\n",
    "    # print(f'powershell_script_path: {powershell_script_path}')\n",
    "    display(fullwidth_path_widget(powershell_script_path, file_name_label='powershell_script_path:'))\n",
    "\n",
    "\n",
    "    if active_phase_dict['should_perform_figure_generation_to_file']:\n",
    "        powershell_figures_script_path = build_windows_powershell_run_script(generate_figures_script_paths, max_concurrent_jobs=1, script_name='run_figure_scripts')\n",
    "        display(fullwidth_path_widget(powershell_figures_script_path, file_name_label='powershell_figures_script_path:'))\n",
    "\n",
    "\n",
    "if (platform.system() != 'Windows'):\n",
    "    ## Linux Only: Slurm Scripts\n",
    "    # sbatch_start_slurm_scripts: str = \"\\n\".join([f\"sbatch '{slurm_script}'\" for slurm_script in output_slurm_scripts])\n",
    "    sbatch_run_start_slurm_scripts: str = \"\\n\".join([f\"sbatch '{slurm_script}'\" for slurm_script in output_slurm_scripts['run']])\n",
    "    sbatch_figs_start_slurm_scripts: str = \"\\n\".join([f\"sbatch '{slurm_script}'\" for slurm_script in output_slurm_scripts['figs']])\n",
    "\n",
    "    if active_phase.is_figure_phase:\n",
    "        # print(sbatch_figs_start_slurm_scripts)\n",
    "        initial_code = sbatch_figs_start_slurm_scripts\n",
    "    else:\n",
    "        # print(sbatch_run_start_slurm_scripts)\n",
    "        initial_code = sbatch_run_start_slurm_scripts\n",
    "\n",
    "    # Create and display the code block widget\n",
    "    slurm_code_block = code_block_widget(initial_code, label=\"Python Code:\")\n",
    "\n",
    "\n",
    "\n",
    "# Batch 1\n",
    "# sbatch '/nfs/turbo/umms-kdiba/Data/Output/gen_scripts/run_kdiba_pin01_one_11-02_17-46-44/run_kdiba_pin01_one_11-02_17-46-44.sh'\n",
    "# sbatch '/nfs/turbo/umms-kdiba/Data/Output/gen_scripts/run_kdiba_pin01_one_11-02_19-28-0/run_kdiba_pin01_one_11-02_19-28-0.sh'\n",
    "# sbatch '/nfs/turbo/umms-kdiba/Data/Output/gen_scripts/run_kdiba_pin01_one_11-03_12-3-25/run_kdiba_pin01_one_11-03_12-3-25.sh'\n",
    "# sbatch '/nfs/turbo/umms-kdiba/Data/Output/gen_scripts/run_kdiba_pin01_one_fet11-01_12-58-54/run_kdiba_pin01_one_fet11-01_12-58-54.sh'\n",
    "\n",
    "# Batch 2:\n",
    "# sbatch '/nfs/turbo/umms-kdiba/Data/Output/gen_scripts/run_kdiba_vvp01_one_2006-4-09_17-29-30/run_kdiba_vvp01_one_2006-4-09_17-29-30.sh'\n",
    "# sbatch '/nfs/turbo/umms-kdiba/Data/Output/gen_scripts/run_kdiba_vvp01_one_2006-4-10_12-25-50/run_kdiba_vvp01_one_2006-4-10_12-25-50.sh'\n",
    "# sbatch '/nfs/turbo/umms-kdiba/Data/Output/gen_scripts/run_kdiba_vvp01_two_2006-4-09_16-40-54/run_kdiba_vvp01_two_2006-4-09_16-40-54.sh'\n",
    "# sbatch '/nfs/turbo/umms-kdiba/Data/Output/gen_scripts/run_kdiba_vvp01_two_2006-4-10_12-58-3/run_kdiba_vvp01_two_2006-4-10_12-58-3.sh'\n",
    "\n",
    "# Batch 3\n",
    "# sbatch '/nfs/turbo/umms-kdiba/Data/Output/gen_scripts/run_kdiba_gor01_one_2006-6-08_14-26-15/run_kdiba_gor01_one_2006-6-08_14-26-15.sh'\n",
    "# sbatch '/nfs/turbo/umms-kdiba/Data/Output/gen_scripts/run_kdiba_gor01_one_2006-6-09_1-22-43/run_kdiba_gor01_one_2006-6-09_1-22-43.sh'\n",
    "# sbatch '/nfs/turbo/umms-kdiba/Data/Output/gen_scripts/run_kdiba_gor01_two_2006-6-07_16-40-19/run_kdiba_gor01_two_2006-6-07_16-40-19.sh'\n",
    "# sbatch '/nfs/turbo/umms-kdiba/Data/Output/gen_scripts/run_kdiba_gor01_two_2006-6-08_21-16-25/run_kdiba_gor01_two_2006-6-08_21-16-25.sh'\n",
    "# sbatch '/nfs/turbo/umms-kdiba/Data/Output/gen_scripts/run_kdiba_gor01_two_2006-6-09_22-24-40/run_kdiba_gor01_two_2006-6-09_22-24-40.sh'\n",
    "# sbatch '/nfs/turbo/umms-kdiba/Data/Output/gen_scripts/run_kdiba_gor01_two_2006-6-12_16-53-46/run_kdiba_gor01_two_2006-6-12_16-53-46.sh'\n"
   ]
  },
  {
   "cell_type": "markdown",
   "id": "41f98344",
   "metadata": {},
   "source": [
    "## Execute the generated scripts in parallel:"
   ]
  },
  {
   "cell_type": "code",
   "execution_count": null,
   "id": "8d2fb7d6",
   "metadata": {
    "notebookRunGroups": {
     "groupValue": "2"
    },
    "tags": []
   },
   "outputs": [],
   "source": [
    "import subprocess\n",
    "from concurrent.futures import ProcessPoolExecutor, as_completed\n",
    "import ipywidgets as widgets\n",
    "from IPython.display import display\n",
    "\n",
    "## recieves: max_parallel_executions, script_paths\n",
    "\"\"\"\n",
    "# Maximum number of parallel script executions\n",
    "max_parallel_executions = 5\n",
    "# List of your script paths\n",
    "script_paths = output_python_scripts\n",
    "\"\"\"\n",
    "\n",
    "# Function to execute a script\n",
    "def run_script(script_path):\n",
    "    python_executable = 'python'\n",
    "    # python_executable = '/home/halechr/Library/VSCode/green/.venv_green/bin/python'\n",
    "    \n",
    "    try:\n",
    "        result = subprocess.run([python_executable, script_path], capture_output=True, text=True)\n",
    "        return script_path, result.stdout, result.stderr\n",
    "    except Exception as e:\n",
    "        return script_path, None, str(e)\n",
    "\n",
    "# Create a progress bar\n",
    "progress_bar = widgets.IntProgress(value=0, min=0, max=len(script_paths), description='Running:', bar_style='info')\n",
    "display(progress_bar)\n",
    "\n",
    "# Run scripts in parallel with a limit on the number of parallel instances\n",
    "with ProcessPoolExecutor(max_workers=max_parallel_executions) as executor:\n",
    "    futures = {executor.submit(run_script, path): path for path in script_paths}\n",
    "    for future in as_completed(futures):\n",
    "        script, stdout, stderr = future.result()\n",
    "        progress_bar.value += 1  # Update the progress bar\n",
    "        if stderr:\n",
    "            print(f\"Error in {script}: {stderr}\")\n",
    "        else:\n",
    "            print(f\"Completed {script}\")\n",
    "\n",
    "# Progress bar will automatically update as scripts complete\n",
    "\n"
   ]
  },
  {
   "cell_type": "markdown",
   "id": "9f583772",
   "metadata": {},
   "source": [
    "## Resume normal stuff:"
   ]
  },
  {
   "cell_type": "code",
   "execution_count": null,
   "id": "8ef5938c",
   "metadata": {
    "notebookRunGroups": {
     "groupValue": "2"
    },
    "tags": []
   },
   "outputs": [],
   "source": [
    "active_global_batch_result_filename=f'global_batch_result_{BATCH_DATE_TO_USE}.pkl'\n",
    "\n",
    "debug_print = False\n",
    "known_global_data_root_parent_paths = [Path(r'/nfs/turbo/umms-kdiba/Data'), Path(r'W:\\Data'), Path(r'/home/halechr/cloud/turbo/Data'), Path(r'/media/halechr/MAX/Data'), Path(r'/Volumes/MoverNew/data')] # , Path(r'/home/halechr/FastData'), Path(r'/home/halechr/turbo/Data'), Path(r'W:\\Data'), Path(r'/home/halechr/cloud/turbo/Data')\n",
    "global_data_root_parent_path = find_first_extant_path(known_global_data_root_parent_paths)\n",
    "assert global_data_root_parent_path.exists(), f\"global_data_root_parent_path: {global_data_root_parent_path} does not exist! Is the right computer's config commented out above?\"\n",
    "## Build Pickle Path:\n",
    "global_batch_result_file_path = Path(global_data_root_parent_path).joinpath(active_global_batch_result_filename).resolve() # Use Default\n",
    "# Hardcoded included_session_contexts:\n",
    "included_session_contexts = UserAnnotationsManager.get_hardcoded_good_sessions()\n",
    "good_session_concrete_folders = ConcreteSessionFolder.build_concrete_session_folders(global_data_root_parent_path, included_session_contexts)\n",
    "\n",
    "# Output Paths:\n",
    "included_h5_paths = [get_file_str_if_file_exists(v.pipeline_results_h5) for v in good_session_concrete_folders]\n",
    "# copy_dict = ConcreteSessionFolder.build_backup_copydict(good_session_concrete_folders, backup_mode=BackupMethods.RenameInSourceDirectory, only_include_file_types=['local_pkl', 'global_pkl'])\n",
    "check_output_h5_files(included_h5_paths)\n",
    "# from pyphoplacecellanalysis.General.Batch.pythonScriptTemplating import generate_batch_single_session_scripts\n",
    "\n",
    "# ## Build Slurm Scripts:\n",
    "# session_basedirs_dict: Dict[IdentifyingContext, Path] = {a_session_folder.context:a_session_folder.path for a_session_folder in good_session_concrete_folders}\n",
    "# included_session_contexts, output_python_scripts, output_slurm_scripts = generate_batch_single_session_scripts(global_data_root_parent_path, session_batch_basedirs=session_basedirs_dict, included_session_contexts=included_session_contexts, output_directory=Path('output/generated_slurm_scripts/').resolve(), use_separate_run_directories=True, should_perform_figure_generation_to_file=False)\n",
    "# display(output_python_scripts)"
   ]
  },
  {
   "cell_type": "code",
   "execution_count": null,
   "id": "15077fbd",
   "metadata": {},
   "outputs": [],
   "source": [
    "from pyphocorehelpers.Filesystem.path_helpers import save_filelist_to_text_file\n",
    "\n",
    "## INPUTS: good_session_concrete_folders, target_dir, BATCH_DATE_TO_USE\n",
    "\n",
    "# target_dir: Path = Path(global_data_root_parent_path)\n",
    "target_dir: Path = collected_outputs_path\n",
    "\n",
    "included_h5_paths = [Path(get_file_str_if_file_exists(v.pipeline_results_h5)).resolve() for v in good_session_concrete_folders]\n",
    "check_output_h5_files(included_h5_paths)\n",
    "included_h5_paths\n",
    "\n",
    "def _across_session_h5_output_basename_fn(session_context: Optional[IdentifyingContext], session_descr: Optional[str], basename: str, *args, separator_char: str = \"_\"):\n",
    "    \"\"\" Captures `BATCH_DATE_TO_USE` \"\"\"\n",
    "    # a_session_folder.context\n",
    "    if session_context is not None:\n",
    "        session_descr = session_context.session_name # '2006-6-07_16-40-19'\n",
    "    _filename_list = [BATCH_DATE_TO_USE, session_descr, basename]\n",
    "    if len(args) > 0:\n",
    "        _filename_list.extend([str(a_part) for a_part in args if a_part is not None])\n",
    "    return separator_char.join(_filename_list)\n",
    "\n",
    "copy_h5_dict = ConcreteSessionFolder.build_backup_copydict(good_session_concrete_folders, target_dir=collected_outputs_path, backup_mode=BackupMethods.CommonTargetDirectory, rename_backup_basename_fn=_across_session_h5_output_basename_fn, only_include_file_types=['h5']) # , rename_backup_suffix=BATCH_DATE_TO_USE\n",
    "copy_h5_dict\n",
    "\n",
    "\n",
    "## INPUTS: target_dir, BATCH_DATE_TO_USE\n",
    "h5_filelist_output_filename=f'{BATCH_DATE_TO_USE}_all_sessions_h5_filelist.txt'\n",
    "h5_filelist_output_file_path = Path(target_dir).joinpath(h5_filelist_output_filename).resolve() # Use Default\n",
    "print(f'h5_filelist_output_file_path: {h5_filelist_output_file_path}')\n",
    "_out_string, filelist_path = save_filelist_to_text_file(included_h5_paths, filelist_path=h5_filelist_output_file_path, debug_print=True) # r\"W:\\Data\\all_sessions_h5_filelist_2024-03-28_Apogee.txt\"\n",
    "filelist_path"
   ]
  },
  {
   "cell_type": "code",
   "execution_count": null,
   "id": "f3f6e1b9",
   "metadata": {},
   "outputs": [],
   "source": [
    "copy_h5_dict"
   ]
  },
  {
   "cell_type": "code",
   "execution_count": null,
   "id": "a61c5651",
   "metadata": {},
   "outputs": [],
   "source": [
    "from pyphocorehelpers.Filesystem.path_helpers import read_filelist_from_text_file\n",
    "    \n",
    "an_h5_filelist_path = Path(r'L:/Scratch/collected_outputs/2024-03-28_Apogee_all_sessions_h5_filelist.txt').resolve()\n",
    "read_hdf5_output_paths = read_filelist_from_text_file(filelist_path=an_h5_filelist_path, debug_print=False)\n",
    "read_hdf5_output_paths\n"
   ]
  },
  {
   "cell_type": "markdown",
   "id": "690f140f",
   "metadata": {},
   "source": [
    "# Output File Processing Helpers"
   ]
  },
  {
   "cell_type": "code",
   "execution_count": null,
   "id": "135cb2d8-65b3-405b-a41b-22b2fa7cb28e",
   "metadata": {
    "notebookRunGroups": {
     "groupValue": ""
    },
    "scrolled": true,
    "tags": []
   },
   "outputs": [],
   "source": [
    "## INPUT a_copy_dict\n",
    "a_copy_dict = copy_h5_dict\n",
    "\n",
    "moved_files_dict_h5_files = copy_movedict(a_copy_dict)\n",
    "moved_files_dict_h5_files\n",
    "# INPUTS: active_filelist_prefix, target_dir\n",
    "# active_filelist_prefix: str = 'backed_up_files'\n",
    "active_filelist_prefix: str = 'session_h5_files'\n",
    "\n",
    "# target_dir: Path = Path(global_data_root_parent_path)\n",
    "target_dir: Path = collected_outputs_path\n",
    "\n",
    "moved_files_copydict_output_filename=f'{active_filelist_prefix}_copydict_{BATCH_DATE_TO_USE}.csv'\n",
    "moved_files_copydict_file_path = target_dir.joinpath(moved_files_copydict_output_filename).resolve() # Use Default\n",
    "print(f'moved_files_copydict_file_path: \"{moved_files_copydict_file_path}\"')\n",
    "\n",
    "_out_string, filedict_out_path = save_copydict_to_text_file(moved_files_dict_h5_files, moved_files_copydict_file_path, debug_print=True)"
   ]
  },
  {
   "cell_type": "code",
   "execution_count": null,
   "id": "ab869730",
   "metadata": {},
   "outputs": [],
   "source": [
    "## INPUTS: moved_files_copydict_file_path\n",
    "moved_files_copydict_file_path = Path(r\"W:\\Data\\session_h5_files_copydict_2024-03-28_Apogee.csv\").resolve()\n",
    "assert moved_files_copydict_file_path.exists()\n",
    "\n",
    "read_moved_files_dict_files = read_copydict_from_text_file(moved_files_copydict_file_path, debug_print=False)\n",
    "read_moved_files_dict_files"
   ]
  },
  {
   "cell_type": "code",
   "execution_count": null,
   "id": "dd4671e4",
   "metadata": {},
   "outputs": [],
   "source": [
    "# read_moved_files_dict_files\n",
    "restore_moved_files_dict_files = invert_filedict(read_moved_files_dict_files)\n",
    "restore_moved_files_dict_files"
   ]
  },
  {
   "cell_type": "markdown",
   "id": "1bdb0953",
   "metadata": {},
   "source": [
    "## Extract `across_sessions_instantaneous_fr_dict` from the computation outputs"
   ]
  },
  {
   "cell_type": "code",
   "execution_count": null,
   "id": "c123baf6",
   "metadata": {
    "notebookRunGroups": {
     "groupValue": "2"
    }
   },
   "outputs": [],
   "source": [
    "from pyphoplacecellanalysis.SpecificResults.AcrossSessionResults import AcrossSessionTables\n",
    "\n",
    "# neuron_identities_table, long_short_fr_indicies_analysis_table, neuron_replay_stats_table = AcrossSessionTables.build_all_known_tables(included_session_contexts, included_h5_paths, should_restore_native_column_types=True, )\n",
    "\n",
    "neuron_identities_table, long_short_fr_indicies_analysis_table, neuron_replay_stats_table = AcrossSessionTables.build_and_save_all_combined_tables(included_session_contexts, included_h5_paths, override_output_parent_path=global_data_root_parent_path, output_path_suffix=f'{BATCH_DATE_TO_USE}')"
   ]
  },
  {
   "cell_type": "code",
   "execution_count": null,
   "id": "f8615ac3",
   "metadata": {},
   "outputs": [],
   "source": [
    "# Options\n",
    "session_identifier_key: str = 'session_name'\n",
    "# session_identifier_key: str = 'session_datetime'\n",
    "\n",
    "## !IMPORTANT! Count of the fields of interest using .value_counts(...) and converting to an explicit pd.DataFrame:\n",
    "# _out_value_counts_df: pd.DataFrame = neuron_replay_stats_table.value_counts(subset=['format_name', 'animal', 'session_name', 'session_datetime','track_membership'], normalize=False, sort=False, ascending=True, dropna=True).reset_index()\n",
    "# _out_value_counts_df.columns = ['format_name', 'animal', 'session_name', 'session_datetime', 'track_membership', 'count']\n",
    "_out_value_counts_df: pd.DataFrame = neuron_replay_stats_table.value_counts(subset=['format_name', 'animal', 'session_name', 'session_datetime','track_membership','is_refined_LxC', 'is_refined_SxC'], normalize=False, sort=False, ascending=True, dropna=True).reset_index()\n",
    "_out_value_counts_df.columns = ['format_name', 'animal', 'session_name', 'session_datetime', 'track_membership', 'is_refined_LxC', 'is_refined_SxC', 'count']\n",
    "_out_value_counts_df"
   ]
  },
  {
   "cell_type": "code",
   "execution_count": null,
   "id": "6af57298",
   "metadata": {},
   "outputs": [],
   "source": [
    "## Find the time of the first session for each animal:\n",
    "first_session_time  = _out_value_counts_df.groupby(['animal']).agg(session_datetime_first=('session_datetime', 'first')).reset_index()\n",
    "\n",
    "## Subtract this initial time from all of the 'session_datetime' entries for each animal:\n",
    "# Merge the first session time back into the original DataFrame\n",
    "merged_df = pd.merge(_out_value_counts_df, first_session_time, on='animal')\n",
    "\n",
    "# Subtract this initial time from all of the 'session_datetime' entries for each animal\n",
    "merged_df['time_since_first_session'] = merged_df['session_datetime'] - merged_df['session_datetime_first']\n",
    "\n",
    "merged_df"
   ]
  },
  {
   "cell_type": "code",
   "execution_count": null,
   "id": "b25bb1f8",
   "metadata": {},
   "outputs": [],
   "source": [
    "import matplotlib.pyplot as plt\n",
    "\n",
    "point_size = 8\n",
    "df = _out_value_counts_df.copy()\n",
    "animals = df['animal'].unique()\n",
    "track_memberships = df['track_membership'].unique()\n",
    "\n",
    "fig, axes = plt.subplots(1, len(animals), figsize=(15, 5))\n",
    "\n",
    "for i, animal in enumerate(animals):\n",
    "\tax = axes[i]\n",
    "\tsubset_df = df[df['animal'] == animal]\n",
    "\t\n",
    "\tfor track_membership in track_memberships:\n",
    "\t\ttrack_subset_df = subset_df[subset_df['track_membership'] == track_membership]\n",
    "\t\tax.plot(track_subset_df['session_datetime'], track_subset_df['count'], label=f'Track: {track_membership}')\n",
    "\t\tax.scatter(track_subset_df['session_datetime'], track_subset_df['count'], s=point_size)\n",
    "\t\t\n",
    "\tax.set_title(f'Animal: {animal}')\n",
    "\tax.set_xlabel('Session Datetime')\n",
    "\tax.set_ylabel('Count')\n",
    "\tax.legend()\n",
    "\n",
    "plt.tight_layout()\n",
    "plt.show()"
   ]
  },
  {
   "cell_type": "code",
   "execution_count": null,
   "id": "94408ac4",
   "metadata": {},
   "outputs": [],
   "source": [
    "_out_value_counts_df"
   ]
  },
  {
   "cell_type": "code",
   "execution_count": null,
   "id": "784fcc04",
   "metadata": {},
   "outputs": [],
   "source": [
    "\n",
    "\n",
    "## See if the number of cells decreases over re-exposures to the track\n",
    "df = _out_value_counts_df[_out_value_counts_df['animal'] == 'gor01']\n",
    "# df = _out_value_counts_df[_out_value_counts_df['animal'] == 'pin01']\n",
    "# df = _out_value_counts_df[_out_value_counts_df['animal'] == 'vvp01']\n",
    "\n",
    "# Sort by column: 'session_datetime' (ascending)\n",
    "df = df.sort_values(['session_datetime'])\n",
    "\n",
    "'LEFT_ONLY'\n",
    "\n",
    "# df.to_clipboard(index=False)\n",
    "df"
   ]
  },
  {
   "cell_type": "code",
   "execution_count": null,
   "id": "d8a502f7",
   "metadata": {},
   "outputs": [],
   "source": [
    "## Get the number of cells in each session of the animal:\n",
    "num_LxCs = df[df['track_membership'] == 'LEFT_ONLY']['count'].to_numpy()\n",
    "num_Shared = df[df['track_membership'] == 'SHARED']['count'].to_numpy()\n",
    "num_SxCs = df[df['track_membership'] == 'RIGHT_ONLY']['count'].to_numpy()\n",
    "\n",
    "num_TotalCs = num_LxCs + num_Shared + num_SxCs\n",
    "num_TotalCs"
   ]
  },
  {
   "cell_type": "code",
   "execution_count": null,
   "id": "2feb3fa1",
   "metadata": {},
   "outputs": [],
   "source": [
    "# The only safe point to align each session to is the switchpoint (the delta):\n"
   ]
  },
  {
   "cell_type": "code",
   "execution_count": null,
   "id": "046bbce9",
   "metadata": {},
   "outputs": [],
   "source": [
    "# Each session can be expressed in terms of time from the start of the first session.\n"
   ]
  },
  {
   "cell_type": "code",
   "execution_count": null,
   "id": "a00d2419",
   "metadata": {},
   "outputs": [],
   "source": [
    "df.plot()\n"
   ]
  },
  {
   "cell_type": "code",
   "execution_count": null,
   "id": "56f99ff8",
   "metadata": {},
   "outputs": [],
   "source": [
    "\n",
    "from pyphoplacecellanalysis.SpecificResults.AcrossSessionResults import AcrossSessionsVisualizations\n",
    "\n",
    "matplotlib_configuration_update(is_interactive=True, backend='Qt5Agg')\n",
    "graphics_output_dict = AcrossSessionsVisualizations.across_sessions_firing_rate_index_figure(long_short_fr_indicies_analysis_results=long_short_fr_indicies_analysis_table, num_sessions=num_sessions, save_figure=True)"
   ]
  },
  {
   "cell_type": "markdown",
   "id": "cadc1ac7-5771-4cd5-94c6-7a6244eb8217",
   "metadata": {
    "notebookRunGroups": {
     "groupValue": "2"
    },
    "tags": []
   },
   "source": [
    "## Extract output files from all completed sessions:"
   ]
  },
  {
   "cell_type": "markdown",
   "id": "5056d9a7",
   "metadata": {},
   "source": [
    "# 2023-10-06 - `joined_neruon_fri_df` loading"
   ]
  },
  {
   "cell_type": "code",
   "execution_count": null,
   "id": "bd6d0b19",
   "metadata": {},
   "outputs": [],
   "source": [
    "# BATCH_DATE_TO_USE = '2023-10-05_NewParameters'\n",
    "BATCH_DATE_TO_USE = '2023-10-07'\n",
    "all_sessions_joined_neruon_fri_df, out_path = build_and_merge_all_sessions_joined_neruon_fri_df(global_data_root_parent_path, BATCH_DATE_TO_USE)\n"
   ]
  },
  {
   "cell_type": "code",
   "execution_count": null,
   "id": "fbb893bf",
   "metadata": {},
   "outputs": [],
   "source": [
    "\n",
    "joined_neruon_fri_df_basename = f'{BATCH_DATE_TO_USE}_{output_file_prefix}_joined_neruon_fri_df'\n",
    "AcrossSessionTables.write_table_to_files(joined_neruon_fri_df, global_data_root_parent_path=global_data_root_parent_path, output_basename=joined_neruon_fri_df_basename, include_csv=False)\n",
    "print(f'>>\\t done with {output_file_prefix}')"
   ]
  },
  {
   "cell_type": "markdown",
   "id": "be651cc7",
   "metadata": {
    "tags": []
   },
   "source": [
    "# 2023-10-04 - Load Saved across-sessions-data, process, and produce figures"
   ]
  },
  {
   "cell_type": "code",
   "execution_count": 10,
   "id": "28ad5bf6",
   "metadata": {},
   "outputs": [
    {
     "data": {
      "text/plain": [
       "'across_session_result_long_short_inst_firing_rate_2024-06-11_GL.pkl'"
      ]
     },
     "execution_count": 10,
     "metadata": {},
     "output_type": "execute_result"
    }
   ],
   "source": [
    "from pyphoplacecellanalysis.SpecificResults.AcrossSessionResults import AcrossSessionsResults, AcrossSessionsVisualizations\n",
    "\n",
    "# 'collected_outputs/across_session_result_long_short_recomputed_inst_firing_rate_2024-06-11_GL.pkl'\n",
    "across_session_result_long_short_recomputed_inst_firing_rate_file = collected_outputs_path.joinpath('across_session_result_long_short_recomputed_inst_firing_rate_2024-06-11_GL.pkl').resolve()\n",
    "across_session_result_long_short_recomputed_inst_firing_rate_file.exists()\n",
    "\n",
    "'across_session_result_long_short_inst_firing_rate_2024-06-11_GL.pkl'"
   ]
  },
  {
   "cell_type": "code",
   "execution_count": 6,
   "metadata": {},
   "outputs": [
    {
     "name": "stdout",
     "output_type": "stream",
     "text": [
      "global_batch_result_inst_fr_file_path: K:\\scratch\\collected_outputs\\across_session_result_long_short_recomputed_inst_firing_rate_2024-06-11_GL.pkl\n",
      "Computing loaded session pickle file results : \"K:\\scratch\\collected_outputs\\across_session_result_long_short_recomputed_inst_firing_rate_2024-06-11_GL.pkl\"... done.\n",
      "num_sessions: 13\n",
      "num_sessions: 13\n"
     ]
    }
   ],
   "source": [
    "## Load the saved across-session results:\n",
    "# inst_fr_output_filename = 'long_short_inst_firing_rate_result_handlers_2023-07-12.pkl'\n",
    "# inst_fr_output_filename = 'across_session_result_long_short_inst_firing_rate.pkl'\n",
    "# inst_fr_output_filename='across_session_result_long_short_inst_firing_rate_2023-07-21.pkl'\n",
    "# inst_fr_output_filename=f'across_session_result_handler_{BATCH_DATE_TO_USE}.pkl'\n",
    "# inst_fr_output_filename='across_session_result_long_short_inst_firing_rate_2023-08-09_Test.pkl'\n",
    "# inst_fr_output_filename='across_session_result_long_short_inst_firing_rate_2023-10-04-GL.pkl'\n",
    "# inst_fr_output_filename='across_session_result_long_short_recomputed_inst_firing_rate_2023-10-04-GL-Recomp.pkl'\n",
    "# inst_fr_output_filename='across_session_result_long_short_recomputed_inst_firing_rate_2023-10-07.pkl'\n",
    "# inst_fr_output_filename: str = f'across_session_result_long_short_recomputed_inst_firing_rate_{BATCH_DATE_TO_USE}.pkl'\n",
    "# inst_fr_output_load_filepath: Path = Path('/nfs/turbo/umms-kdiba/Data/Output/collected_outputs/across_session_result_long_short_recomputed_inst_firing_rate_2024-06-11_GL.pkl').resolve()\n",
    "inst_fr_output_load_filepath: Path = collected_outputs_path.joinpath('across_session_result_long_short_recomputed_inst_firing_rate_2024-06-11_GL.pkl').resolve()\n",
    "assert inst_fr_output_load_filepath.exists()\n",
    "inst_fr_output_filename: str = inst_fr_output_load_filepath.name\n",
    "# across_session_inst_fr_computation, across_sessions_instantaneous_fr_dict, across_sessions_instantaneous_frs_list = AcrossSessionsResults.load_across_sessions_data(global_data_root_parent_path=global_data_root_parent_path, inst_fr_output_filename=inst_fr_output_filename)\n",
    "across_session_inst_fr_computation, across_sessions_instantaneous_fr_dict, across_sessions_instantaneous_frs_list = AcrossSessionsResults.load_across_sessions_data(global_data_root_parent_path=inst_fr_output_load_filepath.parent, inst_fr_output_filename=inst_fr_output_filename)\n",
    "# across_sessions_instantaneous_fr_dict = loadData(global_batch_result_inst_fr_file_path)\n",
    "num_sessions = len(across_sessions_instantaneous_fr_dict)\n",
    "print(f'num_sessions: {num_sessions}')"
   ]
  },
  {
   "cell_type": "code",
   "execution_count": 8,
   "metadata": {},
   "outputs": [
    {
     "name": "stdout",
     "output_type": "stream",
     "text": [
      "a_name: neuron_identities_table\n",
      "loading K:\\scratch\\collected_outputs\\2024-06-11_GL\\neuron_identities_table.pkl.\n",
      "Computing loaded session pickle file results : \"K:\\scratch\\collected_outputs\\2024-06-11_GL\\neuron_identities_table.pkl\"... done.\n",
      "a_name: long_short_fr_indicies_analysis_table\n",
      "loading K:\\scratch\\collected_outputs\\2024-06-11_GL\\long_short_fr_indicies_analysis_table.pkl.\n",
      "Computing loaded session pickle file results : \"K:\\scratch\\collected_outputs\\2024-06-11_GL\\long_short_fr_indicies_analysis_table.pkl\"... done.\n",
      "a_name: neuron_replay_stats_table\n",
      "loading K:\\scratch\\collected_outputs\\2024-06-11_GL\\neuron_replay_stats_table.pkl.\n",
      "Computing loaded session pickle file results : \"K:\\scratch\\collected_outputs\\2024-06-11_GL\\neuron_replay_stats_table.pkl\"... done.\n",
      "num_sessions: 13\n"
     ]
    }
   ],
   "source": [
    "from pyphoplacecellanalysis.SpecificResults.AcrossSessionResults import AcrossSessionTables\n",
    " \n",
    "## Load all across-session tables from the pickles:\n",
    "# output_path_suffix: str = f'2023-10-07'\n",
    "# output_path_suffix: str = f'{BATCH_DATE_TO_USE}'\n",
    "output_path_suffix: str = '2024-06-11_GL'\n",
    "# neuron_identities_table, long_short_fr_indicies_analysis_table, neuron_replay_stats_table = AcrossSessionTables.load_all_combined_tables(override_output_parent_path=global_data_root_parent_path, output_path_suffix=output_path_suffix) # output_path_suffix=f'2023-10-04-GL-Recomp'\n",
    "neuron_identities_table, long_short_fr_indicies_analysis_table, neuron_replay_stats_table = AcrossSessionTables.load_all_combined_tables(override_output_parent_path=collected_outputs_path, output_path_suffix=output_path_suffix)\n",
    "num_sessions = len(neuron_replay_stats_table.session_uid.unique().to_numpy())\n",
    "print(f'num_sessions: {num_sessions}')"
   ]
  },
  {
   "cell_type": "code",
   "execution_count": 38,
   "metadata": {},
   "outputs": [
    {
     "name": "stdout",
     "output_type": "stream",
     "text": [
      "global_batch_result_inst_fr_file_path: K:\\scratch\\collected_outputs\\across_session_result_long_short_recomputed_inst_firing_rate_2024-06-11_GL.pkl\n",
      "Computing loaded session pickle file results : \"K:\\scratch\\collected_outputs\\across_session_result_long_short_recomputed_inst_firing_rate_2024-06-11_GL.pkl\"... done.\n",
      "num_sessions: 13\n",
      "num_sessions: 13\n",
      "a_name: neuron_identities_table\n",
      "loading K:\\scratch\\collected_outputs\\2024-06-11_GL\\neuron_identities_table.pkl.\n",
      "Computing loaded session pickle file results : \"K:\\scratch\\collected_outputs\\2024-06-11_GL\\neuron_identities_table.pkl\"... done.\n",
      "a_name: long_short_fr_indicies_analysis_table\n",
      "loading K:\\scratch\\collected_outputs\\2024-06-11_GL\\long_short_fr_indicies_analysis_table.pkl.\n",
      "Computing loaded session pickle file results : \"K:\\scratch\\collected_outputs\\2024-06-11_GL\\long_short_fr_indicies_analysis_table.pkl\"... done.\n",
      "a_name: neuron_replay_stats_table\n",
      "loading K:\\scratch\\collected_outputs\\2024-06-11_GL\\neuron_replay_stats_table.pkl.\n",
      "Computing loaded session pickle file results : \"K:\\scratch\\collected_outputs\\2024-06-11_GL\\neuron_replay_stats_table.pkl\"... done.\n",
      "num_sessions: 13\n",
      "saved: output/{BATCH_DATE_TO_USE}_long_short_fr_indicies_analysis_table.csv\n",
      "n_total: 823, n_above_diagonal: 457, n_exact_on_diagonal: 0, n_below_diagonal: 366\n",
      "binom_test_chance_result: BinomTestResult(k=457, n=823, alternative='two-sided', statistic=0.5552855407047388, pvalue=0.0016893424059938723)\n",
      "LxC_Laps_T_result: TtestResult(statistic=12.249237714915296, pvalue=3.8446809431691085e-08, df=12)\n",
      "SxC_Laps_T_result: TtestResult(statistic=-12.413163641851535, pvalue=5.768107640498047e-07, df=9)\n",
      "LxC_Replay_T_result: TtestResult(statistic=-0.7636543941504783, pvalue=0.4598247399068105, df=12)\n",
      "SxC_Replay_T_result: TtestResult(statistic=-3.069767144140489, pvalue=0.01335902191105584, df=9)\n",
      "num_sessions: 13\n",
      "plt.show() was overriden by a call to `matplotlib_configuration_update(...)`\n",
      "plt.show() was overriden by a call to `matplotlib_configuration_update(...)`\n",
      "WARNING: missing 3 keys from context: ['animal', 'exper_name', 'session_name']. Building path anyway.\n",
      "register_output_file(output_path: C:\\Users\\pho\\repos\\Spike3DWorkEnv\\Spike3D\\EXTERNAL\\Screenshots\\ProgrammaticDisplayFunctionTesting\\2024-06-11\\kdiba\\13_2_inst_FR_bar_graphs_Laps.png, ...)\n",
      "\t saved \"file:///C:/Users/pho/repos/Spike3DWorkEnv/Spike3D/EXTERNAL/Screenshots/ProgrammaticDisplayFunctionTesting/2024-06-11/kdiba/13_2_inst_FR_bar_graphs_Laps.png\"\n",
      "WARNING: missing 3 keys from context: ['animal', 'exper_name', 'session_name']. Building path anyway.\n",
      "register_output_file(output_path: C:\\Users\\pho\\repos\\Spike3DWorkEnv\\Spike3D\\EXTERNAL\\Screenshots\\ProgrammaticDisplayFunctionTesting\\2024-06-11\\kdiba\\13_2_inst_FR_bar_graphs_Replay.png, ...)\n",
      "\t saved \"file:///C:/Users/pho/repos/Spike3DWorkEnv/Spike3D/EXTERNAL/Screenshots/ProgrammaticDisplayFunctionTesting/2024-06-11/kdiba/13_2_inst_FR_bar_graphs_Replay.png\"\n",
      "save_figure()!\n",
      "WARNING: missing 3 keys from context: ['animal', 'exper_name', 'session_name']. Building path anyway.\n",
      "register_output_file(output_path: C:\\Users\\pho\\repos\\Spike3DWorkEnv\\Spike3D\\EXTERNAL\\Screenshots\\ProgrammaticDisplayFunctionTesting\\2024-06-11\\kdiba\\{}_13_across_sessions_firing_rate_index.png, ...)\n",
      "\t saved \"file:///C:/Users/pho/repos/Spike3DWorkEnv/Spike3D/EXTERNAL/Screenshots/ProgrammaticDisplayFunctionTesting/2024-06-11/kdiba/%7B%7D_13_across_sessions_firing_rate_index.png\"\n",
      "WARNING: missing 3 keys from context: ['animal', 'exper_name', 'session_name']. Building path anyway.\n",
      "register_output_file(output_path: C:\\Users\\pho\\repos\\Spike3DWorkEnv\\Spike3D\\EXTERNAL\\Screenshots\\ProgrammaticDisplayFunctionTesting\\2024-06-11\\kdiba\\13_plot_single_track_firing_rate_compare_long.png, ...)\n",
      "\t saved \"file:///C:/Users/pho/repos/Spike3DWorkEnv/Spike3D/EXTERNAL/Screenshots/ProgrammaticDisplayFunctionTesting/2024-06-11/kdiba/13_plot_single_track_firing_rate_compare_long.png\"\n",
      "WARNING: missing 3 keys from context: ['animal', 'exper_name', 'session_name']. Building path anyway.\n",
      "register_output_file(output_path: C:\\Users\\pho\\repos\\Spike3DWorkEnv\\Spike3D\\EXTERNAL\\Screenshots\\ProgrammaticDisplayFunctionTesting\\2024-06-11\\kdiba\\13_plot_single_track_firing_rate_compare_short.png, ...)\n",
      "\t saved \"file:///C:/Users/pho/repos/Spike3DWorkEnv/Spike3D/EXTERNAL/Screenshots/ProgrammaticDisplayFunctionTesting/2024-06-11/kdiba/13_plot_single_track_firing_rate_compare_short.png\"\n"
     ]
    }
   ],
   "source": [
    "\n",
    "# graphics_output_dict = AcrossSessionsResults.post_compute_all_sessions_processing(global_data_root_parent_path=global_data_root_parent_path, BATCH_DATE_TO_USE=BATCH_DATE_TO_USE, plotting_enabled=True)\n",
    "graphics_output_dict = AcrossSessionsResults.post_compute_all_sessions_processing(global_data_root_parent_path=collected_outputs_path, BATCH_DATE_TO_USE=output_path_suffix, plotting_enabled=True)\n"
   ]
  },
  {
   "cell_type": "markdown",
   "id": "0e9987dc",
   "metadata": {},
   "source": [
    " #TODO 2023-10-05 11:40: - [ ] Extract the \"contrarian cells\", the ones that have a strong exclusivity on the laps but the opposite tendency on the replays\n"
   ]
  },
  {
   "cell_type": "markdown",
   "id": "7d829b90",
   "metadata": {},
   "source": [
    "## 2023-11-15 - For manual testing"
   ]
  },
  {
   "cell_type": "code",
   "execution_count": null,
   "id": "cf78cacf",
   "metadata": {},
   "outputs": [],
   "source": [
    "# ## Load the saved across-session results:\n",
    "# Outputs: across_session_inst_fr_computation, across_sessions_instantaneous_fr_dict, across_sessions_instantaneous_frs_list, neuron_identities_table, long_short_fr_indicies_analysis_table, neuron_replay_stats_table\n",
    "\n",
    "inst_fr_output_filename: str = f'across_session_result_long_short_recomputed_inst_firing_rate_{BATCH_DATE_TO_USE}.pkl'\n",
    "across_session_inst_fr_computation, across_sessions_instantaneous_fr_dict, across_sessions_instantaneous_frs_list = AcrossSessionsResults.load_across_sessions_data(global_data_root_parent_path=global_data_root_parent_path, inst_fr_output_filename=inst_fr_output_filename)\n",
    "# across_sessions_instantaneous_fr_dict = loadData(global_batch_result_inst_fr_file_path)\n",
    "num_sessions = len(across_sessions_instantaneous_fr_dict)\n",
    "print(f'num_sessions: {num_sessions}')\n",
    "from pyphoplacecellanalysis.SpecificResults.AcrossSessionResults import AcrossSessionTables\n",
    "\n",
    "## Load all across-session tables from the pickles:\n",
    "output_path_suffix: str = f'{BATCH_DATE_TO_USE}'\n",
    "neuron_identities_table, long_short_fr_indicies_analysis_table, neuron_replay_stats_table = AcrossSessionTables.load_all_combined_tables(override_output_parent_path=global_data_root_parent_path, output_path_suffix=output_path_suffix) # output_path_suffix=f'2023-10-04-GL-Recomp'\n",
    "num_sessions = len(neuron_replay_stats_table.session_uid.unique().to_numpy())\n",
    "print(f'num_sessions: {num_sessions}')\n",
    "# neuron_replay_stats_table\n"
   ]
  },
  {
   "cell_type": "code",
   "execution_count": 41,
   "metadata": {},
   "outputs": [
    {
     "data": {
      "text/plain": [
       "[InstantaneousSpikeRateGroupsComputation(instantaneous_time_bin_size_seconds=0.003, active_identifying_session_ctx=IdentifyingContext<('kdiba', 'gor01', 'one', '2006-6-08_14-26-15')>, LxC_aclus=[109], SxC_aclus=[23, 4, 58], Fig2_Replay_FR=[SingleBarResult(mean=1.6059231344544413, std=0.0, values=array([1.60592313]), LxC_aclus=[109], SxC_aclus=[23, 4, 58], LxC_scatter_props=None, SxC_scatter_props=None), SingleBarResult(mean=0.9770015030239166, std=0.0, values=array([0.9770015]), LxC_aclus=[109], SxC_aclus=[23, 4, 58], LxC_scatter_props=None, SxC_scatter_props=None), SingleBarResult(mean=1.6359098362025957, std=1.1730039480769505, values=array([2.21562821, 0.        , 2.69210129]), LxC_aclus=[109], SxC_aclus=[23, 4, 58], LxC_scatter_props=None, SxC_scatter_props=None), SingleBarResult(mean=15.172750618364168, std=6.702126668672017, values=array([ 5.9924315 , 21.80473742, 17.72108294]), LxC_aclus=[109], SxC_aclus=[23, 4, 58], LxC_scatter_props=None, SxC_scatter_props=None)], Fig2_Laps_FR=[SingleBarResult(mean=39.92716255931458, std=0.0, values=array([39.92716256]), LxC_aclus=[109], SxC_aclus=[23, 4, 58], LxC_scatter_props=None, SxC_scatter_props=None), SingleBarResult(mean=7.978845608028652, std=0.0, values=array([7.97884561]), LxC_aclus=[109], SxC_aclus=[23, 4, 58], LxC_scatter_props=None, SxC_scatter_props=None), SingleBarResult(mean=11.507223139050568, std=8.105432737532427, values=array([ 7.82521914,  3.9472042 , 22.74924608]), LxC_aclus=[109], SxC_aclus=[23, 4, 58], LxC_scatter_props=None, SxC_scatter_props=None), SingleBarResult(mean=70.64361072040072, std=14.53174017805884, values=array([55.42750765, 66.28880874, 90.21451578]), LxC_aclus=[109], SxC_aclus=[23, 4, 58], LxC_scatter_props=None, SxC_scatter_props=None)]),\n",
       " InstantaneousSpikeRateGroupsComputation(instantaneous_time_bin_size_seconds=0.003, active_identifying_session_ctx=IdentifyingContext<('kdiba', 'gor01', 'one', '2006-6-09_1-22-43')>, LxC_aclus=[3, 29, 103], SxC_aclus=[55], Fig2_Replay_FR=[SingleBarResult(mean=10.276440835461313, std=1.536755180354458, values=array([ 9.80997442,  8.67140542, 12.34794267]), LxC_aclus=[3, 29, 103], SxC_aclus=[55], LxC_scatter_props=None, SxC_scatter_props=None), SingleBarResult(mean=7.453778445900454, std=2.040339985435129, values=array([4.92440247, 7.51589678, 9.92103609]), LxC_aclus=[3, 29, 103], SxC_aclus=[55], LxC_scatter_props=None, SxC_scatter_props=None), SingleBarResult(mean=0.1780992323220681, std=0.0, values=array([0.17809923]), LxC_aclus=[3, 29, 103], SxC_aclus=[55], LxC_scatter_props=None, SxC_scatter_props=None), SingleBarResult(mean=0.8890140694021301, std=0.0, values=array([0.88901407]), LxC_aclus=[3, 29, 103], SxC_aclus=[55], LxC_scatter_props=None, SxC_scatter_props=None)], Fig2_Laps_FR=[SingleBarResult(mean=62.50281085853595, std=9.715768109449375, values=array([67.47140003, 48.92441576, 71.11261679]), LxC_aclus=[3, 29, 103], SxC_aclus=[55], LxC_scatter_props=None, SxC_scatter_props=None), SingleBarResult(mean=22.059614276309205, std=2.8519357041124884, values=array([18.82310249, 25.76210852, 21.59363182]), LxC_aclus=[3, 29, 103], SxC_aclus=[55], LxC_scatter_props=None, SxC_scatter_props=None), SingleBarResult(mean=0.0, std=0.0, values=array([0.]), LxC_aclus=[3, 29, 103], SxC_aclus=[55], LxC_scatter_props=None, SxC_scatter_props=None), SingleBarResult(mean=57.70266331125968, std=0.0, values=array([57.70266331]), LxC_aclus=[3, 29, 103], SxC_aclus=[55], LxC_scatter_props=None, SxC_scatter_props=None)]),\n",
       " InstantaneousSpikeRateGroupsComputation(instantaneous_time_bin_size_seconds=0.003, active_identifying_session_ctx=IdentifyingContext<('kdiba', 'gor01', 'one', '2006-6-12_15-55-31')>, LxC_aclus=[], SxC_aclus=[30], Fig2_Replay_FR=[SingleBarResult(mean=None, std=None, values=array([], dtype=float64), LxC_aclus=[], SxC_aclus=[30], LxC_scatter_props=None, SxC_scatter_props=None), SingleBarResult(mean=None, std=None, values=array([], dtype=float64), LxC_aclus=[], SxC_aclus=[30], LxC_scatter_props=None, SxC_scatter_props=None), SingleBarResult(mean=0.0, std=0.0, values=array([0.]), LxC_aclus=[], SxC_aclus=[30], LxC_scatter_props=None, SxC_scatter_props=None), SingleBarResult(mean=0.0, std=0.0, values=array([0.]), LxC_aclus=[], SxC_aclus=[30], LxC_scatter_props=None, SxC_scatter_props=None)], Fig2_Laps_FR=[SingleBarResult(mean=None, std=None, values=array([], dtype=float64), LxC_aclus=[], SxC_aclus=[30], LxC_scatter_props=None, SxC_scatter_props=None), SingleBarResult(mean=None, std=None, values=array([], dtype=float64), LxC_aclus=[], SxC_aclus=[30], LxC_scatter_props=None, SxC_scatter_props=None), SingleBarResult(mean=1.99471511880595, std=0.0, values=array([1.99471512]), LxC_aclus=[], SxC_aclus=[30], LxC_scatter_props=None, SxC_scatter_props=None), SingleBarResult(mean=58.21747637780755, std=0.0, values=array([58.21747638]), LxC_aclus=[], SxC_aclus=[30], LxC_scatter_props=None, SxC_scatter_props=None)]),\n",
       " InstantaneousSpikeRateGroupsComputation(instantaneous_time_bin_size_seconds=0.003, active_identifying_session_ctx=IdentifyingContext<('kdiba', 'gor01', 'two', '2006-6-07_16-40-19')>, LxC_aclus=[], SxC_aclus=[3, 19], Fig2_Replay_FR=[SingleBarResult(mean=None, std=None, values=array([], dtype=float64), LxC_aclus=[], SxC_aclus=[3, 19], LxC_scatter_props=None, SxC_scatter_props=None), SingleBarResult(mean=None, std=None, values=array([], dtype=float64), LxC_aclus=[], SxC_aclus=[3, 19], LxC_scatter_props=None, SxC_scatter_props=None), SingleBarResult(mean=0.27576655327287974, std=0.09192218442429329, values=array([0.36768874, 0.18384437]), LxC_aclus=[], SxC_aclus=[3, 19], LxC_scatter_props=None, SxC_scatter_props=None), SingleBarResult(mean=13.134605131164882, std=8.324241029581918, values=array([ 4.8103641 , 21.45884616]), LxC_aclus=[], SxC_aclus=[3, 19], LxC_scatter_props=None, SxC_scatter_props=None)], Fig2_Laps_FR=[SingleBarResult(mean=None, std=None, values=array([], dtype=float64), LxC_aclus=[], SxC_aclus=[3, 19], LxC_scatter_props=None, SxC_scatter_props=None), SingleBarResult(mean=None, std=None, values=array([], dtype=float64), LxC_aclus=[], SxC_aclus=[3, 19], LxC_scatter_props=None, SxC_scatter_props=None), SingleBarResult(mean=3.216266240963671, std=1.270206336566438, values=array([1.9460599 , 4.48647258]), LxC_aclus=[], SxC_aclus=[3, 19], LxC_scatter_props=None, SxC_scatter_props=None), SingleBarResult(mean=89.7091775501882, std=21.317345649833392, values=array([ 68.3918319, 111.0265232]), LxC_aclus=[], SxC_aclus=[3, 19], LxC_scatter_props=None, SxC_scatter_props=None)]),\n",
       " InstantaneousSpikeRateGroupsComputation(instantaneous_time_bin_size_seconds=0.003, active_identifying_session_ctx=IdentifyingContext<('kdiba', 'gor01', 'two', '2006-6-08_21-16-25')>, LxC_aclus=[90], SxC_aclus=[8], Fig2_Replay_FR=[SingleBarResult(mean=1.9947114020071635, std=0.0, values=array([1.9947114]), LxC_aclus=[90], SxC_aclus=[8], LxC_scatter_props=None, SxC_scatter_props=None), SingleBarResult(mean=2.0996962126391185, std=0.0, values=array([2.09969621]), LxC_aclus=[90], SxC_aclus=[8], LxC_scatter_props=None, SxC_scatter_props=None), SingleBarResult(mean=8.438175127116285, std=0.0, values=array([8.43817513]), LxC_aclus=[90], SxC_aclus=[8], LxC_scatter_props=None, SxC_scatter_props=None), SingleBarResult(mean=12.006763616148756, std=0.0, values=array([12.00676362]), LxC_aclus=[90], SxC_aclus=[8], LxC_scatter_props=None, SxC_scatter_props=None)], Fig2_Laps_FR=[SingleBarResult(mean=39.21890821210016, std=0.0, values=array([39.21890821]), LxC_aclus=[90], SxC_aclus=[8], LxC_scatter_props=None, SxC_scatter_props=None), SingleBarResult(mean=1.994711402007163, std=0.0, values=array([1.9947114]), LxC_aclus=[90], SxC_aclus=[8], LxC_scatter_props=None, SxC_scatter_props=None), SingleBarResult(mean=22.568746365890558, std=0.0, values=array([22.56874637]), LxC_aclus=[90], SxC_aclus=[8], LxC_scatter_props=None, SxC_scatter_props=None), SingleBarResult(mean=74.9486735336741, std=0.0, values=array([74.94867353]), LxC_aclus=[90], SxC_aclus=[8], LxC_scatter_props=None, SxC_scatter_props=None)]),\n",
       " InstantaneousSpikeRateGroupsComputation(instantaneous_time_bin_size_seconds=0.003, active_identifying_session_ctx=IdentifyingContext<('kdiba', 'gor01', 'two', '2006-6-09_22-24-40')>, LxC_aclus=[91, 95], SxC_aclus=[], Fig2_Replay_FR=[SingleBarResult(mean=11.202989951527778, std=3.2521209909666613, values=array([ 7.95086896, 14.45511094]), LxC_aclus=[91, 95], SxC_aclus=[], LxC_scatter_props=None, SxC_scatter_props=None), SingleBarResult(mean=3.5932468828560182, std=2.5960021524309025, values=array([6.18924904, 0.99724473]), LxC_aclus=[91, 95], SxC_aclus=[], LxC_scatter_props=None, SxC_scatter_props=None), SingleBarResult(mean=None, std=None, values=array([], dtype=float64), LxC_aclus=[91, 95], SxC_aclus=[], LxC_scatter_props=None, SxC_scatter_props=None), SingleBarResult(mean=None, std=None, values=array([], dtype=float64), LxC_aclus=[91, 95], SxC_aclus=[], LxC_scatter_props=None, SxC_scatter_props=None)], Fig2_Laps_FR=[SingleBarResult(mean=70.09331304757032, std=13.0336120834343, values=array([57.05970096, 83.12692513]), LxC_aclus=[91, 95], SxC_aclus=[], LxC_scatter_props=None, SxC_scatter_props=None), SingleBarResult(mean=7.68155039742677, std=2.4839337986708645, values=array([10.1654842,  5.1976166]), LxC_aclus=[91, 95], SxC_aclus=[], LxC_scatter_props=None, SxC_scatter_props=None), SingleBarResult(mean=None, std=None, values=array([], dtype=float64), LxC_aclus=[91, 95], SxC_aclus=[], LxC_scatter_props=None, SxC_scatter_props=None), SingleBarResult(mean=None, std=None, values=array([], dtype=float64), LxC_aclus=[91, 95], SxC_aclus=[], LxC_scatter_props=None, SxC_scatter_props=None)]),\n",
       " InstantaneousSpikeRateGroupsComputation(instantaneous_time_bin_size_seconds=0.003, active_identifying_session_ctx=IdentifyingContext<('kdiba', 'vvp01', 'one', '2006-4-09_17-29-30')>, LxC_aclus=[], SxC_aclus=[41], Fig2_Replay_FR=[SingleBarResult(mean=None, std=None, values=array([], dtype=float64), LxC_aclus=[], SxC_aclus=[41], LxC_scatter_props=None, SxC_scatter_props=None), SingleBarResult(mean=None, std=None, values=array([], dtype=float64), LxC_aclus=[], SxC_aclus=[41], LxC_scatter_props=None, SxC_scatter_props=None), SingleBarResult(mean=6.044580006082313, std=0.0, values=array([6.04458001]), LxC_aclus=[], SxC_aclus=[41], LxC_scatter_props=None, SxC_scatter_props=None), SingleBarResult(mean=26.793356323335704, std=0.0, values=array([26.79335632]), LxC_aclus=[], SxC_aclus=[41], LxC_scatter_props=None, SxC_scatter_props=None)], Fig2_Laps_FR=[SingleBarResult(mean=None, std=None, values=array([], dtype=float64), LxC_aclus=[], SxC_aclus=[41], LxC_scatter_props=None, SxC_scatter_props=None), SingleBarResult(mean=None, std=None, values=array([], dtype=float64), LxC_aclus=[], SxC_aclus=[41], LxC_scatter_props=None, SxC_scatter_props=None), SingleBarResult(mean=8.548763151459271, std=0.0, values=array([8.54876315]), LxC_aclus=[], SxC_aclus=[41], LxC_scatter_props=None, SxC_scatter_props=None), SingleBarResult(mean=84.51860350933094, std=0.0, values=array([84.51860351]), LxC_aclus=[], SxC_aclus=[41], LxC_scatter_props=None, SxC_scatter_props=None)]),\n",
       " InstantaneousSpikeRateGroupsComputation(instantaneous_time_bin_size_seconds=0.003, active_identifying_session_ctx=IdentifyingContext<('kdiba', 'vvp01', 'one', '2006-4-10_12-25-50')>, LxC_aclus=[23], SxC_aclus=[29], Fig2_Replay_FR=[SingleBarResult(mean=13.141791213753558, std=0.0, values=array([13.14179121]), LxC_aclus=[23], SxC_aclus=[29], LxC_scatter_props=None, SxC_scatter_props=None), SingleBarResult(mean=34.54190982615714, std=0.0, values=array([34.54190983]), LxC_aclus=[23], SxC_aclus=[29], LxC_scatter_props=None, SxC_scatter_props=None), SingleBarResult(mean=0.0, std=0.0, values=array([0.]), LxC_aclus=[23], SxC_aclus=[29], LxC_scatter_props=None, SxC_scatter_props=None), SingleBarResult(mean=0.0, std=0.0, values=array([0.]), LxC_aclus=[23], SxC_aclus=[29], LxC_scatter_props=None, SxC_scatter_props=None)], Fig2_Laps_FR=[SingleBarResult(mean=45.72938923269611, std=0.0, values=array([45.72938923]), LxC_aclus=[23], SxC_aclus=[29], LxC_scatter_props=None, SxC_scatter_props=None), SingleBarResult(mean=0.9498625723843633, std=0.0, values=array([0.94986257]), LxC_aclus=[23], SxC_aclus=[29], LxC_scatter_props=None, SxC_scatter_props=None), SingleBarResult(mean=0.0, std=0.0, values=array([0.]), LxC_aclus=[23], SxC_aclus=[29], LxC_scatter_props=None, SxC_scatter_props=None), SingleBarResult(mean=59.44196056205757, std=0.0, values=array([59.44196056]), LxC_aclus=[23], SxC_aclus=[29], LxC_scatter_props=None, SxC_scatter_props=None)]),\n",
       " InstantaneousSpikeRateGroupsComputation(instantaneous_time_bin_size_seconds=0.003, active_identifying_session_ctx=IdentifyingContext<('kdiba', 'vvp01', 'two', '2006-4-09_16-40-54')>, LxC_aclus=[25], SxC_aclus=[], Fig2_Replay_FR=[SingleBarResult(mean=2.751326071734019, std=0.0, values=array([2.75132607]), LxC_aclus=[25], SxC_aclus=[], LxC_scatter_props=None, SxC_scatter_props=None), SingleBarResult(mean=46.9775738019585, std=0.0, values=array([46.9775738]), LxC_aclus=[25], SxC_aclus=[], LxC_scatter_props=None, SxC_scatter_props=None), SingleBarResult(mean=None, std=None, values=array([], dtype=float64), LxC_aclus=[25], SxC_aclus=[], LxC_scatter_props=None, SxC_scatter_props=None), SingleBarResult(mean=None, std=None, values=array([], dtype=float64), LxC_aclus=[25], SxC_aclus=[], LxC_scatter_props=None, SxC_scatter_props=None)], Fig2_Laps_FR=[SingleBarResult(mean=68.74974224767078, std=0.0, values=array([68.74974225]), LxC_aclus=[25], SxC_aclus=[], LxC_scatter_props=None, SxC_scatter_props=None), SingleBarResult(mean=6.205846263346859, std=0.0, values=array([6.20584626]), LxC_aclus=[25], SxC_aclus=[], LxC_scatter_props=None, SxC_scatter_props=None), SingleBarResult(mean=None, std=None, values=array([], dtype=float64), LxC_aclus=[25], SxC_aclus=[], LxC_scatter_props=None, SxC_scatter_props=None), SingleBarResult(mean=None, std=None, values=array([], dtype=float64), LxC_aclus=[25], SxC_aclus=[], LxC_scatter_props=None, SxC_scatter_props=None)]),\n",
       " InstantaneousSpikeRateGroupsComputation(instantaneous_time_bin_size_seconds=0.003, active_identifying_session_ctx=IdentifyingContext<('kdiba', 'vvp01', 'two', '2006-4-10_12-58-3')>, LxC_aclus=[14, 30, 32], SxC_aclus=[], Fig2_Replay_FR=[SingleBarResult(mean=11.407711083565525, std=5.964859307871305, values=array([19.71401992,  5.98049033,  8.52862301]), LxC_aclus=[14, 30, 32], SxC_aclus=[], LxC_scatter_props=None, SxC_scatter_props=None), SingleBarResult(mean=10.83539662970515, std=0.4689547558542036, values=array([10.93074309, 11.35610675, 10.21934005]), LxC_aclus=[14, 30, 32], SxC_aclus=[], LxC_scatter_props=None, SxC_scatter_props=None), SingleBarResult(mean=None, std=None, values=array([], dtype=float64), LxC_aclus=[14, 30, 32], SxC_aclus=[], LxC_scatter_props=None, SxC_scatter_props=None), SingleBarResult(mean=None, std=None, values=array([], dtype=float64), LxC_aclus=[14, 30, 32], SxC_aclus=[], LxC_scatter_props=None, SxC_scatter_props=None)], Fig2_Laps_FR=[SingleBarResult(mean=56.229478744149795, std=4.403960766376293, values=array([62.172348  , 51.64434204, 54.8717462 ]), LxC_aclus=[14, 30, 32], SxC_aclus=[], LxC_scatter_props=None, SxC_scatter_props=None), SingleBarResult(mean=1.297373269598155, std=1.8347628733260368, values=array([3.89211981, 0.        , 0.        ]), LxC_aclus=[14, 30, 32], SxC_aclus=[], LxC_scatter_props=None, SxC_scatter_props=None), SingleBarResult(mean=None, std=None, values=array([], dtype=float64), LxC_aclus=[14, 30, 32], SxC_aclus=[], LxC_scatter_props=None, SxC_scatter_props=None), SingleBarResult(mean=None, std=None, values=array([], dtype=float64), LxC_aclus=[14, 30, 32], SxC_aclus=[], LxC_scatter_props=None, SxC_scatter_props=None)]),\n",
       " InstantaneousSpikeRateGroupsComputation(instantaneous_time_bin_size_seconds=0.003, active_identifying_session_ctx=IdentifyingContext<('kdiba', 'pin01', 'one', '11-02_19-28-0')>, LxC_aclus=[27], SxC_aclus=[], Fig2_Replay_FR=[SingleBarResult(mean=0.0, std=0.0, values=array([0.]), LxC_aclus=[27], SxC_aclus=[], LxC_scatter_props=None, SxC_scatter_props=None), SingleBarResult(mean=0.9277727451196107, std=0.0, values=array([0.92777275]), LxC_aclus=[27], SxC_aclus=[], LxC_scatter_props=None, SxC_scatter_props=None), SingleBarResult(mean=None, std=None, values=array([], dtype=float64), LxC_aclus=[27], SxC_aclus=[], LxC_scatter_props=None, SxC_scatter_props=None), SingleBarResult(mean=None, std=None, values=array([], dtype=float64), LxC_aclus=[27], SxC_aclus=[], LxC_scatter_props=None, SxC_scatter_props=None)], Fig2_Laps_FR=[SingleBarResult(mean=37.0196697006482, std=0.0, values=array([37.0196697]), LxC_aclus=[27], SxC_aclus=[], LxC_scatter_props=None, SxC_scatter_props=None), SingleBarResult(mean=0.0, std=0.0, values=array([0.]), LxC_aclus=[27], SxC_aclus=[], LxC_scatter_props=None, SxC_scatter_props=None), SingleBarResult(mean=None, std=None, values=array([], dtype=float64), LxC_aclus=[27], SxC_aclus=[], LxC_scatter_props=None, SxC_scatter_props=None), SingleBarResult(mean=None, std=None, values=array([], dtype=float64), LxC_aclus=[27], SxC_aclus=[], LxC_scatter_props=None, SxC_scatter_props=None)]),\n",
       " InstantaneousSpikeRateGroupsComputation(instantaneous_time_bin_size_seconds=0.003, active_identifying_session_ctx=IdentifyingContext<('kdiba', 'pin01', 'one', '11-03_12-3-25')>, LxC_aclus=[], SxC_aclus=[], Fig2_Replay_FR=[SingleBarResult(mean=None, std=None, values=array([], dtype=float64), LxC_aclus=[], SxC_aclus=[], LxC_scatter_props=None, SxC_scatter_props=None), SingleBarResult(mean=None, std=None, values=array([], dtype=float64), LxC_aclus=[], SxC_aclus=[], LxC_scatter_props=None, SxC_scatter_props=None), SingleBarResult(mean=None, std=None, values=array([], dtype=float64), LxC_aclus=[], SxC_aclus=[], LxC_scatter_props=None, SxC_scatter_props=None), SingleBarResult(mean=None, std=None, values=array([], dtype=float64), LxC_aclus=[], SxC_aclus=[], LxC_scatter_props=None, SxC_scatter_props=None)], Fig2_Laps_FR=[SingleBarResult(mean=None, std=None, values=array([], dtype=float64), LxC_aclus=[], SxC_aclus=[], LxC_scatter_props=None, SxC_scatter_props=None), SingleBarResult(mean=None, std=None, values=array([], dtype=float64), LxC_aclus=[], SxC_aclus=[], LxC_scatter_props=None, SxC_scatter_props=None), SingleBarResult(mean=None, std=None, values=array([], dtype=float64), LxC_aclus=[], SxC_aclus=[], LxC_scatter_props=None, SxC_scatter_props=None), SingleBarResult(mean=None, std=None, values=array([], dtype=float64), LxC_aclus=[], SxC_aclus=[], LxC_scatter_props=None, SxC_scatter_props=None)]),\n",
       " InstantaneousSpikeRateGroupsComputation(instantaneous_time_bin_size_seconds=0.003, active_identifying_session_ctx=IdentifyingContext<('kdiba', 'pin01', 'one', 'fet11-01_12-58-54')>, LxC_aclus=[], SxC_aclus=[], Fig2_Replay_FR=[SingleBarResult(mean=None, std=None, values=array([], dtype=float64), LxC_aclus=[], SxC_aclus=[], LxC_scatter_props=None, SxC_scatter_props=None), SingleBarResult(mean=None, std=None, values=array([], dtype=float64), LxC_aclus=[], SxC_aclus=[], LxC_scatter_props=None, SxC_scatter_props=None), SingleBarResult(mean=None, std=None, values=array([], dtype=float64), LxC_aclus=[], SxC_aclus=[], LxC_scatter_props=None, SxC_scatter_props=None), SingleBarResult(mean=None, std=None, values=array([], dtype=float64), LxC_aclus=[], SxC_aclus=[], LxC_scatter_props=None, SxC_scatter_props=None)], Fig2_Laps_FR=[SingleBarResult(mean=None, std=None, values=array([], dtype=float64), LxC_aclus=[], SxC_aclus=[], LxC_scatter_props=None, SxC_scatter_props=None), SingleBarResult(mean=None, std=None, values=array([], dtype=float64), LxC_aclus=[], SxC_aclus=[], LxC_scatter_props=None, SxC_scatter_props=None), SingleBarResult(mean=None, std=None, values=array([], dtype=float64), LxC_aclus=[], SxC_aclus=[], LxC_scatter_props=None, SxC_scatter_props=None), SingleBarResult(mean=None, std=None, values=array([], dtype=float64), LxC_aclus=[], SxC_aclus=[], LxC_scatter_props=None, SxC_scatter_props=None)])]"
      ]
     },
     "execution_count": 41,
     "metadata": {},
     "output_type": "execute_result"
    }
   ],
   "source": [
    "across_sessions_instantaneous_frs_list"
   ]
  },
  {
   "cell_type": "markdown",
   "metadata": {},
   "source": [
    "# 2024-06-11 - Across Session Outputs"
   ]
  },
  {
   "cell_type": "code",
   "execution_count": 11,
   "metadata": {},
   "outputs": [
    {
     "data": {
      "text/html": [
       "<div>\n",
       "<style scoped>\n",
       "    .dataframe tbody tr th:only-of-type {\n",
       "        vertical-align: middle;\n",
       "    }\n",
       "\n",
       "    .dataframe tbody tr th {\n",
       "        vertical-align: top;\n",
       "    }\n",
       "\n",
       "    .dataframe thead th {\n",
       "        text-align: right;\n",
       "    }\n",
       "</style>\n",
       "<table border=\"1\" class=\"dataframe\">\n",
       "  <thead>\n",
       "    <tr style=\"text-align: right;\">\n",
       "      <th></th>\n",
       "      <th>format_name</th>\n",
       "      <th>animal</th>\n",
       "      <th>exper_name</th>\n",
       "      <th>session_name</th>\n",
       "      <th>index</th>\n",
       "      <th>neuron_uid</th>\n",
       "      <th>session_uid</th>\n",
       "      <th>aclu</th>\n",
       "      <th>x_frs_index</th>\n",
       "      <th>y_frs_index</th>\n",
       "      <th>session_datetime</th>\n",
       "      <th>XxC_status</th>\n",
       "    </tr>\n",
       "  </thead>\n",
       "  <tbody>\n",
       "    <tr>\n",
       "      <th>0</th>\n",
       "      <td>kdiba</td>\n",
       "      <td>gor01</td>\n",
       "      <td>one</td>\n",
       "      <td>2006-6-08_14-26-15</td>\n",
       "      <td>0</td>\n",
       "      <td>kdiba|gor01|one|2006-6-08_14-26-15|2</td>\n",
       "      <td>kdiba|gor01|one|2006-6-08_14-26-15</td>\n",
       "      <td>2</td>\n",
       "      <td>0.950171</td>\n",
       "      <td>1.000000</td>\n",
       "      <td>2006-06-08 14:26:15</td>\n",
       "      <td>Shared</td>\n",
       "    </tr>\n",
       "    <tr>\n",
       "      <th>1</th>\n",
       "      <td>kdiba</td>\n",
       "      <td>gor01</td>\n",
       "      <td>one</td>\n",
       "      <td>2006-6-08_14-26-15</td>\n",
       "      <td>1</td>\n",
       "      <td>kdiba|gor01|one|2006-6-08_14-26-15|3</td>\n",
       "      <td>kdiba|gor01|one|2006-6-08_14-26-15</td>\n",
       "      <td>3</td>\n",
       "      <td>-0.852388</td>\n",
       "      <td>-0.593507</td>\n",
       "      <td>2006-06-08 14:26:15</td>\n",
       "      <td>Shared</td>\n",
       "    </tr>\n",
       "    <tr>\n",
       "      <th>2</th>\n",
       "      <td>kdiba</td>\n",
       "      <td>gor01</td>\n",
       "      <td>one</td>\n",
       "      <td>2006-6-08_14-26-15</td>\n",
       "      <td>2</td>\n",
       "      <td>kdiba|gor01|one|2006-6-08_14-26-15|4</td>\n",
       "      <td>kdiba|gor01|one|2006-6-08_14-26-15</td>\n",
       "      <td>4</td>\n",
       "      <td>-0.971940</td>\n",
       "      <td>-1.000000</td>\n",
       "      <td>2006-06-08 14:26:15</td>\n",
       "      <td>SxC</td>\n",
       "    </tr>\n",
       "    <tr>\n",
       "      <th>3</th>\n",
       "      <td>kdiba</td>\n",
       "      <td>gor01</td>\n",
       "      <td>one</td>\n",
       "      <td>2006-6-08_14-26-15</td>\n",
       "      <td>3</td>\n",
       "      <td>kdiba|gor01|one|2006-6-08_14-26-15|5</td>\n",
       "      <td>kdiba|gor01|one|2006-6-08_14-26-15</td>\n",
       "      <td>5</td>\n",
       "      <td>0.147308</td>\n",
       "      <td>-0.043639</td>\n",
       "      <td>2006-06-08 14:26:15</td>\n",
       "      <td>Shared</td>\n",
       "    </tr>\n",
       "    <tr>\n",
       "      <th>4</th>\n",
       "      <td>kdiba</td>\n",
       "      <td>gor01</td>\n",
       "      <td>one</td>\n",
       "      <td>2006-6-08_14-26-15</td>\n",
       "      <td>4</td>\n",
       "      <td>kdiba|gor01|one|2006-6-08_14-26-15|6</td>\n",
       "      <td>kdiba|gor01|one|2006-6-08_14-26-15</td>\n",
       "      <td>6</td>\n",
       "      <td>0.443550</td>\n",
       "      <td>0.445497</td>\n",
       "      <td>2006-06-08 14:26:15</td>\n",
       "      <td>Shared</td>\n",
       "    </tr>\n",
       "    <tr>\n",
       "      <th>...</th>\n",
       "      <td>...</td>\n",
       "      <td>...</td>\n",
       "      <td>...</td>\n",
       "      <td>...</td>\n",
       "      <td>...</td>\n",
       "      <td>...</td>\n",
       "      <td>...</td>\n",
       "      <td>...</td>\n",
       "      <td>...</td>\n",
       "      <td>...</td>\n",
       "      <td>...</td>\n",
       "      <td>...</td>\n",
       "    </tr>\n",
       "    <tr>\n",
       "      <th>823</th>\n",
       "      <td>kdiba</td>\n",
       "      <td>pin01</td>\n",
       "      <td>one</td>\n",
       "      <td>fet11-01_12-58-54</td>\n",
       "      <td>26</td>\n",
       "      <td>kdiba|pin01|one|fet11-01_12-58-54|28</td>\n",
       "      <td>kdiba|pin01|one|fet11-01_12-58-54</td>\n",
       "      <td>28</td>\n",
       "      <td>-0.557444</td>\n",
       "      <td>0.026565</td>\n",
       "      <td>2009-11-01 12:58:54</td>\n",
       "      <td>Shared</td>\n",
       "    </tr>\n",
       "    <tr>\n",
       "      <th>824</th>\n",
       "      <td>kdiba</td>\n",
       "      <td>pin01</td>\n",
       "      <td>one</td>\n",
       "      <td>fet11-01_12-58-54</td>\n",
       "      <td>27</td>\n",
       "      <td>kdiba|pin01|one|fet11-01_12-58-54|29</td>\n",
       "      <td>kdiba|pin01|one|fet11-01_12-58-54</td>\n",
       "      <td>29</td>\n",
       "      <td>-0.294036</td>\n",
       "      <td>0.247180</td>\n",
       "      <td>2009-11-01 12:58:54</td>\n",
       "      <td>Shared</td>\n",
       "    </tr>\n",
       "    <tr>\n",
       "      <th>825</th>\n",
       "      <td>kdiba</td>\n",
       "      <td>pin01</td>\n",
       "      <td>one</td>\n",
       "      <td>fet11-01_12-58-54</td>\n",
       "      <td>28</td>\n",
       "      <td>kdiba|pin01|one|fet11-01_12-58-54|30</td>\n",
       "      <td>kdiba|pin01|one|fet11-01_12-58-54</td>\n",
       "      <td>30</td>\n",
       "      <td>-0.249504</td>\n",
       "      <td>0.131576</td>\n",
       "      <td>2009-11-01 12:58:54</td>\n",
       "      <td>Shared</td>\n",
       "    </tr>\n",
       "    <tr>\n",
       "      <th>826</th>\n",
       "      <td>kdiba</td>\n",
       "      <td>pin01</td>\n",
       "      <td>one</td>\n",
       "      <td>fet11-01_12-58-54</td>\n",
       "      <td>29</td>\n",
       "      <td>kdiba|pin01|one|fet11-01_12-58-54|31</td>\n",
       "      <td>kdiba|pin01|one|fet11-01_12-58-54</td>\n",
       "      <td>31</td>\n",
       "      <td>0.256910</td>\n",
       "      <td>0.257815</td>\n",
       "      <td>2009-11-01 12:58:54</td>\n",
       "      <td>Shared</td>\n",
       "    </tr>\n",
       "    <tr>\n",
       "      <th>827</th>\n",
       "      <td>kdiba</td>\n",
       "      <td>pin01</td>\n",
       "      <td>one</td>\n",
       "      <td>fet11-01_12-58-54</td>\n",
       "      <td>30</td>\n",
       "      <td>kdiba|pin01|one|fet11-01_12-58-54|32</td>\n",
       "      <td>kdiba|pin01|one|fet11-01_12-58-54</td>\n",
       "      <td>32</td>\n",
       "      <td>0.507367</td>\n",
       "      <td>0.363465</td>\n",
       "      <td>2009-11-01 12:58:54</td>\n",
       "      <td>Shared</td>\n",
       "    </tr>\n",
       "  </tbody>\n",
       "</table>\n",
       "<p>828 rows × 12 columns</p>\n",
       "</div>"
      ],
      "text/plain": [
       "    format_name animal exper_name        session_name  index  \\\n",
       "0         kdiba  gor01        one  2006-6-08_14-26-15      0   \n",
       "1         kdiba  gor01        one  2006-6-08_14-26-15      1   \n",
       "2         kdiba  gor01        one  2006-6-08_14-26-15      2   \n",
       "3         kdiba  gor01        one  2006-6-08_14-26-15      3   \n",
       "4         kdiba  gor01        one  2006-6-08_14-26-15      4   \n",
       "..          ...    ...        ...                 ...    ...   \n",
       "823       kdiba  pin01        one   fet11-01_12-58-54     26   \n",
       "824       kdiba  pin01        one   fet11-01_12-58-54     27   \n",
       "825       kdiba  pin01        one   fet11-01_12-58-54     28   \n",
       "826       kdiba  pin01        one   fet11-01_12-58-54     29   \n",
       "827       kdiba  pin01        one   fet11-01_12-58-54     30   \n",
       "\n",
       "                               neuron_uid                         session_uid  \\\n",
       "0    kdiba|gor01|one|2006-6-08_14-26-15|2  kdiba|gor01|one|2006-6-08_14-26-15   \n",
       "1    kdiba|gor01|one|2006-6-08_14-26-15|3  kdiba|gor01|one|2006-6-08_14-26-15   \n",
       "2    kdiba|gor01|one|2006-6-08_14-26-15|4  kdiba|gor01|one|2006-6-08_14-26-15   \n",
       "3    kdiba|gor01|one|2006-6-08_14-26-15|5  kdiba|gor01|one|2006-6-08_14-26-15   \n",
       "4    kdiba|gor01|one|2006-6-08_14-26-15|6  kdiba|gor01|one|2006-6-08_14-26-15   \n",
       "..                                    ...                                 ...   \n",
       "823  kdiba|pin01|one|fet11-01_12-58-54|28   kdiba|pin01|one|fet11-01_12-58-54   \n",
       "824  kdiba|pin01|one|fet11-01_12-58-54|29   kdiba|pin01|one|fet11-01_12-58-54   \n",
       "825  kdiba|pin01|one|fet11-01_12-58-54|30   kdiba|pin01|one|fet11-01_12-58-54   \n",
       "826  kdiba|pin01|one|fet11-01_12-58-54|31   kdiba|pin01|one|fet11-01_12-58-54   \n",
       "827  kdiba|pin01|one|fet11-01_12-58-54|32   kdiba|pin01|one|fet11-01_12-58-54   \n",
       "\n",
       "     aclu  x_frs_index  y_frs_index    session_datetime XxC_status  \n",
       "0       2     0.950171     1.000000 2006-06-08 14:26:15     Shared  \n",
       "1       3    -0.852388    -0.593507 2006-06-08 14:26:15     Shared  \n",
       "2       4    -0.971940    -1.000000 2006-06-08 14:26:15        SxC  \n",
       "3       5     0.147308    -0.043639 2006-06-08 14:26:15     Shared  \n",
       "4       6     0.443550     0.445497 2006-06-08 14:26:15     Shared  \n",
       "..    ...          ...          ...                 ...        ...  \n",
       "823    28    -0.557444     0.026565 2009-11-01 12:58:54     Shared  \n",
       "824    29    -0.294036     0.247180 2009-11-01 12:58:54     Shared  \n",
       "825    30    -0.249504     0.131576 2009-11-01 12:58:54     Shared  \n",
       "826    31     0.256910     0.257815 2009-11-01 12:58:54     Shared  \n",
       "827    32     0.507367     0.363465 2009-11-01 12:58:54     Shared  \n",
       "\n",
       "[828 rows x 12 columns]"
      ]
     },
     "execution_count": 11,
     "metadata": {},
     "output_type": "execute_result"
    }
   ],
   "source": [
    "from neuropy.core.user_annotations import UserAnnotationsManager, SessionCellExclusivityRecord\n",
    "from neuropy.utils.result_context import IdentifyingContext\n",
    "\n",
    "annotation_man = UserAnnotationsManager()\n",
    "\n",
    "LxC_uids = []\n",
    "SxC_uids = []\n",
    "\n",
    "for a_ctxt in included_session_contexts:\n",
    "\tsession_uid = a_ctxt.get_description(separator=\"|\", include_property_names=False)\n",
    "\tsession_uid\n",
    "\tsession_cell_exclusivity: SessionCellExclusivityRecord = annotation_man.annotations[a_ctxt].get('session_cell_exclusivity', None)\n",
    "\tLxC_uids.extend([f\"{session_uid}|{aclu}\" for aclu in session_cell_exclusivity.LxC])\n",
    "\tSxC_uids.extend([f\"{session_uid}|{aclu}\" for aclu in session_cell_exclusivity.SxC])\n",
    "\t\n",
    "# [a_ctxt.get_description(separator=\"|\", include_property_names=False) for a_ctxt in included_session_contexts]\n",
    "\n",
    "long_short_fr_indicies_analysis_table['XxC_status'] = 'Shared'\n",
    "long_short_fr_indicies_analysis_table.loc[np.isin(long_short_fr_indicies_analysis_table.neuron_uid, LxC_uids), 'XxC_status'] = 'LxC'\n",
    "long_short_fr_indicies_analysis_table.loc[np.isin(long_short_fr_indicies_analysis_table.neuron_uid, SxC_uids), 'XxC_status'] = 'SxC'\n",
    "\n",
    "long_short_fr_indicies_analysis_table"
   ]
  },
  {
   "cell_type": "code",
   "execution_count": 39,
   "metadata": {},
   "outputs": [
    {
     "data": {
      "text/html": [
       "<div>\n",
       "<style scoped>\n",
       "    .dataframe tbody tr th:only-of-type {\n",
       "        vertical-align: middle;\n",
       "    }\n",
       "\n",
       "    .dataframe tbody tr th {\n",
       "        vertical-align: top;\n",
       "    }\n",
       "\n",
       "    .dataframe thead th {\n",
       "        text-align: right;\n",
       "    }\n",
       "</style>\n",
       "<table border=\"1\" class=\"dataframe\">\n",
       "  <thead>\n",
       "    <tr style=\"text-align: right;\">\n",
       "      <th></th>\n",
       "      <th>format_name</th>\n",
       "      <th>animal</th>\n",
       "      <th>exper_name</th>\n",
       "      <th>session_name</th>\n",
       "      <th>index</th>\n",
       "      <th>neuron_uid</th>\n",
       "      <th>session_uid</th>\n",
       "      <th>aclu</th>\n",
       "      <th>x_frs_index</th>\n",
       "      <th>y_frs_index</th>\n",
       "      <th>session_datetime</th>\n",
       "      <th>XxC_status</th>\n",
       "      <th>long_pf_peak_x</th>\n",
       "    </tr>\n",
       "  </thead>\n",
       "  <tbody>\n",
       "    <tr>\n",
       "      <th>0</th>\n",
       "      <td>kdiba</td>\n",
       "      <td>gor01</td>\n",
       "      <td>one</td>\n",
       "      <td>2006-6-08_14-26-15</td>\n",
       "      <td>0</td>\n",
       "      <td>kdiba|gor01|one|2006-6-08_14-26-15|2</td>\n",
       "      <td>kdiba|gor01|one|2006-6-08_14-26-15</td>\n",
       "      <td>2</td>\n",
       "      <td>0.950171</td>\n",
       "      <td>1.000000</td>\n",
       "      <td>2006-06-08 14:26:15</td>\n",
       "      <td>Shared</td>\n",
       "      <td>NaN</td>\n",
       "    </tr>\n",
       "    <tr>\n",
       "      <th>1</th>\n",
       "      <td>kdiba</td>\n",
       "      <td>gor01</td>\n",
       "      <td>one</td>\n",
       "      <td>2006-6-08_14-26-15</td>\n",
       "      <td>1</td>\n",
       "      <td>kdiba|gor01|one|2006-6-08_14-26-15|3</td>\n",
       "      <td>kdiba|gor01|one|2006-6-08_14-26-15</td>\n",
       "      <td>3</td>\n",
       "      <td>-0.852388</td>\n",
       "      <td>-0.593507</td>\n",
       "      <td>2006-06-08 14:26:15</td>\n",
       "      <td>Shared</td>\n",
       "      <td>141.385524</td>\n",
       "    </tr>\n",
       "    <tr>\n",
       "      <th>2</th>\n",
       "      <td>kdiba</td>\n",
       "      <td>gor01</td>\n",
       "      <td>one</td>\n",
       "      <td>2006-6-08_14-26-15</td>\n",
       "      <td>2</td>\n",
       "      <td>kdiba|gor01|one|2006-6-08_14-26-15|4</td>\n",
       "      <td>kdiba|gor01|one|2006-6-08_14-26-15</td>\n",
       "      <td>4</td>\n",
       "      <td>-0.971940</td>\n",
       "      <td>-1.000000</td>\n",
       "      <td>2006-06-08 14:26:15</td>\n",
       "      <td>SxC</td>\n",
       "      <td>NaN</td>\n",
       "    </tr>\n",
       "    <tr>\n",
       "      <th>3</th>\n",
       "      <td>kdiba</td>\n",
       "      <td>gor01</td>\n",
       "      <td>one</td>\n",
       "      <td>2006-6-08_14-26-15</td>\n",
       "      <td>3</td>\n",
       "      <td>kdiba|gor01|one|2006-6-08_14-26-15|5</td>\n",
       "      <td>kdiba|gor01|one|2006-6-08_14-26-15</td>\n",
       "      <td>5</td>\n",
       "      <td>0.147308</td>\n",
       "      <td>-0.043639</td>\n",
       "      <td>2006-06-08 14:26:15</td>\n",
       "      <td>Shared</td>\n",
       "      <td>99.662271</td>\n",
       "    </tr>\n",
       "    <tr>\n",
       "      <th>4</th>\n",
       "      <td>kdiba</td>\n",
       "      <td>gor01</td>\n",
       "      <td>one</td>\n",
       "      <td>2006-6-08_14-26-15</td>\n",
       "      <td>4</td>\n",
       "      <td>kdiba|gor01|one|2006-6-08_14-26-15|6</td>\n",
       "      <td>kdiba|gor01|one|2006-6-08_14-26-15</td>\n",
       "      <td>6</td>\n",
       "      <td>0.443550</td>\n",
       "      <td>0.445497</td>\n",
       "      <td>2006-06-08 14:26:15</td>\n",
       "      <td>Shared</td>\n",
       "      <td>NaN</td>\n",
       "    </tr>\n",
       "    <tr>\n",
       "      <th>...</th>\n",
       "      <td>...</td>\n",
       "      <td>...</td>\n",
       "      <td>...</td>\n",
       "      <td>...</td>\n",
       "      <td>...</td>\n",
       "      <td>...</td>\n",
       "      <td>...</td>\n",
       "      <td>...</td>\n",
       "      <td>...</td>\n",
       "      <td>...</td>\n",
       "      <td>...</td>\n",
       "      <td>...</td>\n",
       "      <td>...</td>\n",
       "    </tr>\n",
       "    <tr>\n",
       "      <th>823</th>\n",
       "      <td>kdiba</td>\n",
       "      <td>pin01</td>\n",
       "      <td>one</td>\n",
       "      <td>fet11-01_12-58-54</td>\n",
       "      <td>26</td>\n",
       "      <td>kdiba|pin01|one|fet11-01_12-58-54|28</td>\n",
       "      <td>kdiba|pin01|one|fet11-01_12-58-54</td>\n",
       "      <td>28</td>\n",
       "      <td>-0.557444</td>\n",
       "      <td>0.026565</td>\n",
       "      <td>2009-11-01 12:58:54</td>\n",
       "      <td>Shared</td>\n",
       "      <td>NaN</td>\n",
       "    </tr>\n",
       "    <tr>\n",
       "      <th>824</th>\n",
       "      <td>kdiba</td>\n",
       "      <td>pin01</td>\n",
       "      <td>one</td>\n",
       "      <td>fet11-01_12-58-54</td>\n",
       "      <td>27</td>\n",
       "      <td>kdiba|pin01|one|fet11-01_12-58-54|29</td>\n",
       "      <td>kdiba|pin01|one|fet11-01_12-58-54</td>\n",
       "      <td>29</td>\n",
       "      <td>-0.294036</td>\n",
       "      <td>0.247180</td>\n",
       "      <td>2009-11-01 12:58:54</td>\n",
       "      <td>Shared</td>\n",
       "      <td>NaN</td>\n",
       "    </tr>\n",
       "    <tr>\n",
       "      <th>825</th>\n",
       "      <td>kdiba</td>\n",
       "      <td>pin01</td>\n",
       "      <td>one</td>\n",
       "      <td>fet11-01_12-58-54</td>\n",
       "      <td>28</td>\n",
       "      <td>kdiba|pin01|one|fet11-01_12-58-54|30</td>\n",
       "      <td>kdiba|pin01|one|fet11-01_12-58-54</td>\n",
       "      <td>30</td>\n",
       "      <td>-0.249504</td>\n",
       "      <td>0.131576</td>\n",
       "      <td>2009-11-01 12:58:54</td>\n",
       "      <td>Shared</td>\n",
       "      <td>NaN</td>\n",
       "    </tr>\n",
       "    <tr>\n",
       "      <th>826</th>\n",
       "      <td>kdiba</td>\n",
       "      <td>pin01</td>\n",
       "      <td>one</td>\n",
       "      <td>fet11-01_12-58-54</td>\n",
       "      <td>29</td>\n",
       "      <td>kdiba|pin01|one|fet11-01_12-58-54|31</td>\n",
       "      <td>kdiba|pin01|one|fet11-01_12-58-54</td>\n",
       "      <td>31</td>\n",
       "      <td>0.256910</td>\n",
       "      <td>0.257815</td>\n",
       "      <td>2009-11-01 12:58:54</td>\n",
       "      <td>Shared</td>\n",
       "      <td>NaN</td>\n",
       "    </tr>\n",
       "    <tr>\n",
       "      <th>827</th>\n",
       "      <td>kdiba</td>\n",
       "      <td>pin01</td>\n",
       "      <td>one</td>\n",
       "      <td>fet11-01_12-58-54</td>\n",
       "      <td>30</td>\n",
       "      <td>kdiba|pin01|one|fet11-01_12-58-54|32</td>\n",
       "      <td>kdiba|pin01|one|fet11-01_12-58-54</td>\n",
       "      <td>32</td>\n",
       "      <td>0.507367</td>\n",
       "      <td>0.363465</td>\n",
       "      <td>2009-11-01 12:58:54</td>\n",
       "      <td>Shared</td>\n",
       "      <td>NaN</td>\n",
       "    </tr>\n",
       "  </tbody>\n",
       "</table>\n",
       "<p>828 rows × 13 columns</p>\n",
       "</div>"
      ],
      "text/plain": [
       "    format_name animal exper_name        session_name  index  \\\n",
       "0         kdiba  gor01        one  2006-6-08_14-26-15      0   \n",
       "1         kdiba  gor01        one  2006-6-08_14-26-15      1   \n",
       "2         kdiba  gor01        one  2006-6-08_14-26-15      2   \n",
       "3         kdiba  gor01        one  2006-6-08_14-26-15      3   \n",
       "4         kdiba  gor01        one  2006-6-08_14-26-15      4   \n",
       "..          ...    ...        ...                 ...    ...   \n",
       "823       kdiba  pin01        one   fet11-01_12-58-54     26   \n",
       "824       kdiba  pin01        one   fet11-01_12-58-54     27   \n",
       "825       kdiba  pin01        one   fet11-01_12-58-54     28   \n",
       "826       kdiba  pin01        one   fet11-01_12-58-54     29   \n",
       "827       kdiba  pin01        one   fet11-01_12-58-54     30   \n",
       "\n",
       "                               neuron_uid                         session_uid  \\\n",
       "0    kdiba|gor01|one|2006-6-08_14-26-15|2  kdiba|gor01|one|2006-6-08_14-26-15   \n",
       "1    kdiba|gor01|one|2006-6-08_14-26-15|3  kdiba|gor01|one|2006-6-08_14-26-15   \n",
       "2    kdiba|gor01|one|2006-6-08_14-26-15|4  kdiba|gor01|one|2006-6-08_14-26-15   \n",
       "3    kdiba|gor01|one|2006-6-08_14-26-15|5  kdiba|gor01|one|2006-6-08_14-26-15   \n",
       "4    kdiba|gor01|one|2006-6-08_14-26-15|6  kdiba|gor01|one|2006-6-08_14-26-15   \n",
       "..                                    ...                                 ...   \n",
       "823  kdiba|pin01|one|fet11-01_12-58-54|28   kdiba|pin01|one|fet11-01_12-58-54   \n",
       "824  kdiba|pin01|one|fet11-01_12-58-54|29   kdiba|pin01|one|fet11-01_12-58-54   \n",
       "825  kdiba|pin01|one|fet11-01_12-58-54|30   kdiba|pin01|one|fet11-01_12-58-54   \n",
       "826  kdiba|pin01|one|fet11-01_12-58-54|31   kdiba|pin01|one|fet11-01_12-58-54   \n",
       "827  kdiba|pin01|one|fet11-01_12-58-54|32   kdiba|pin01|one|fet11-01_12-58-54   \n",
       "\n",
       "     aclu  x_frs_index  y_frs_index    session_datetime XxC_status  \\\n",
       "0       2     0.950171     1.000000 2006-06-08 14:26:15     Shared   \n",
       "1       3    -0.852388    -0.593507 2006-06-08 14:26:15     Shared   \n",
       "2       4    -0.971940    -1.000000 2006-06-08 14:26:15        SxC   \n",
       "3       5     0.147308    -0.043639 2006-06-08 14:26:15     Shared   \n",
       "4       6     0.443550     0.445497 2006-06-08 14:26:15     Shared   \n",
       "..    ...          ...          ...                 ...        ...   \n",
       "823    28    -0.557444     0.026565 2009-11-01 12:58:54     Shared   \n",
       "824    29    -0.294036     0.247180 2009-11-01 12:58:54     Shared   \n",
       "825    30    -0.249504     0.131576 2009-11-01 12:58:54     Shared   \n",
       "826    31     0.256910     0.257815 2009-11-01 12:58:54     Shared   \n",
       "827    32     0.507367     0.363465 2009-11-01 12:58:54     Shared   \n",
       "\n",
       "     long_pf_peak_x  \n",
       "0               NaN  \n",
       "1        141.385524  \n",
       "2               NaN  \n",
       "3         99.662271  \n",
       "4               NaN  \n",
       "..              ...  \n",
       "823             NaN  \n",
       "824             NaN  \n",
       "825             NaN  \n",
       "826             NaN  \n",
       "827             NaN  \n",
       "\n",
       "[828 rows x 13 columns]"
      ]
     },
     "execution_count": 39,
     "metadata": {},
     "output_type": "execute_result"
    }
   ],
   "source": [
    "## 2023-10-11 - Get the long peak location\n",
    "\n",
    "long_short_fr_indicies_analysis_table['long_pf_peak_x'] = neuron_replay_stats_table['long_pf_peak_x']\n",
    "long_short_fr_indicies_analysis_table"
   ]
  },
  {
   "cell_type": "code",
   "execution_count": 16,
   "metadata": {},
   "outputs": [],
   "source": [
    "# required to enable non-blocking interaction:\n",
    "%gui qt5\n",
    "\n",
    "import matplotlib\n",
    "import matplotlib as mpl\n",
    "import matplotlib.pyplot as plt\n",
    "_bak_rcParams = mpl.rcParams.copy()\n",
    "\n",
    "matplotlib.use('Qt5Agg')\n",
    "# %matplotlib inline\n",
    "# %matplotlib auto"
   ]
  },
  {
   "cell_type": "code",
   "execution_count": 17,
   "metadata": {},
   "outputs": [
    {
     "data": {
      "text/plain": [
       "<Axes: title={'center': 'Pf Peak position vs. ReplayFRI'}, xlabel='long_pf_peak_x', ylabel='Replay FRI'>"
      ]
     },
     "execution_count": 17,
     "metadata": {},
     "output_type": "execute_result"
    }
   ],
   "source": [
    "matplotlib_configuration_update(is_interactive=True, backend='Qt5Agg')\n",
    "long_short_fr_indicies_analysis_table.plot.scatter(x='long_pf_peak_x', y='x_frs_index', title='Pf Peak position vs. LapsFRI', ylabel='Lap FRI')\n",
    "\n",
    "long_short_fr_indicies_analysis_table.plot.scatter(x='long_pf_peak_x', y='y_frs_index', title='Pf Peak position vs. ReplayFRI', ylabel='Replay FRI')"
   ]
  },
  {
   "cell_type": "markdown",
   "metadata": {},
   "source": [
    " #TODO 2023-10-05 11:40: - [ ] Extract the \"contrarian cells\", the ones that have a strong exclusivity on the laps but the opposite tendency on the replays\n"
   ]
  },
  {
   "cell_type": "code",
   "execution_count": 18,
   "metadata": {},
   "outputs": [
    {
     "name": "stdout",
     "output_type": "stream",
     "text": [
      "saved: output/2024-06-11_Apogee_long_short_fr_indicies_analysis_table.csv\n"
     ]
    }
   ],
   "source": [
    "# long_short_fr_indicies_analysis_table_filename = 'output/2023-10-07_long_short_fr_indicies_analysis_table.csv'\n",
    "long_short_fr_indicies_analysis_table_filename: str = f'output/{BATCH_DATE_TO_USE}_long_short_fr_indicies_analysis_table.csv'\n",
    "long_short_fr_indicies_analysis_table.to_csv(long_short_fr_indicies_analysis_table_filename)\n",
    "print(f'saved: {long_short_fr_indicies_analysis_table_filename}')"
   ]
  },
  {
   "cell_type": "markdown",
   "metadata": {},
   "source": [
    "# 2023-10-10 - Statistics for `across_sessions_bar_graphs`, analysing `across_session_inst_fr_computation` "
   ]
  },
  {
   "cell_type": "code",
   "execution_count": 19,
   "metadata": {},
   "outputs": [
    {
     "name": "stdout",
     "output_type": "stream",
     "text": [
      "n_total: 823, n_above_diagonal: 457, n_exact_on_diagonal: 0, n_below_diagonal: 366\n",
      "binom_test_chance_result: BinomTestResult(k=457, n=823, alternative='two-sided', statistic=0.5552855407047388, pvalue=0.0016893424059938723)\n",
      "LxC_Laps_T_result: TtestResult(statistic=12.249237714915296, pvalue=3.8446809431691085e-08, df=12)\n",
      "SxC_Laps_T_result: TtestResult(statistic=-12.413163641851535, pvalue=5.768107640498047e-07, df=9)\n",
      "LxC_Replay_T_result: TtestResult(statistic=-0.7636543941504783, pvalue=0.4598247399068105, df=12)\n",
      "SxC_Replay_T_result: TtestResult(statistic=-3.069767144140489, pvalue=0.01335902191105584, df=9)\n"
     ]
    }
   ],
   "source": [
    "import scipy.stats as stats\n",
    "from pyphoplacecellanalysis.SpecificResults.PhoDiba2023Paper import pho_stats_perform_diagonal_line_binomial_test, pho_stats_bar_graph_t_tests\n",
    "\n",
    "binom_test_chance_result = pho_stats_perform_diagonal_line_binomial_test(long_short_fr_indicies_analysis_table)\n",
    "print(f'binom_test_chance_result: {binom_test_chance_result}')\n",
    "\n",
    "LxC_Laps_T_result, SxC_Laps_T_result, LxC_Replay_T_result, SxC_Replay_T_result = pho_stats_bar_graph_t_tests(across_session_inst_fr_computation)\n",
    "\n",
    "# n_total: 823, n_above_diagonal: 457, n_exact_on_diagonal: 0, n_below_diagonal: 366\n",
    "# binom_test_chance_result: BinomTestResult(k=457, n=823, alternative='two-sided', statistic=0.5552855407047388, pvalue=0.0016893424059938723)\n",
    "# LxC_Laps_T_result: TtestResult(statistic=12.249237714915296, pvalue=3.8446809431691085e-08, df=12)\n",
    "# SxC_Laps_T_result: TtestResult(statistic=-12.413163641851535, pvalue=5.768107640498047e-07, df=9)\n",
    "# LxC_Replay_T_result: TtestResult(statistic=-0.7636543941504783, pvalue=0.4598247399068105, df=12)\n",
    "# SxC_Replay_T_result: TtestResult(statistic=-3.069767144140489, pvalue=0.01335902191105584, df=9)\n",
    "\n",
    "# n_total: 823, n_above_diagonal: 457, n_exact_on_diagonal: 0, n_below_diagonal: 366\n",
    "# binom_test_chance_result: BinomTestResult(k=457, n=823, alternative='two-sided', statistic=0.5552855407047388, pvalue=0.0016893424059938723)\n",
    "# LxC_Laps_T_result: TtestResult(statistic=12.249237714915296, pvalue=3.8446809431691085e-08, df=12)\n",
    "# SxC_Laps_T_result: TtestResult(statistic=-12.413163641851535, pvalue=5.768107640498047e-07, df=9)\n",
    "# LxC_Replay_T_result: TtestResult(statistic=-0.7636543941504783, pvalue=0.4598247399068105, df=12)\n",
    "# SxC_Replay_T_result: TtestResult(statistic=-3.069767144140489, pvalue=0.01335902191105584, df=9)\n"
   ]
  },
  {
   "cell_type": "markdown",
   "metadata": {},
   "source": [
    "## 2023-10-04 - Run `AcrossSessionsVisualizations` corresponding to the PhoDibaPaper2023 figures for all sessions\n"
   ]
  },
  {
   "cell_type": "code",
   "execution_count": 23,
   "metadata": {},
   "outputs": [
    {
     "name": "stdout",
     "output_type": "stream",
     "text": [
      "num_sessions: 13\n",
      "plt.show() was overriden by a call to `matplotlib_configuration_update(...)`\n",
      "plt.show() was overriden by a call to `matplotlib_configuration_update(...)`\n",
      "WARNING: missing 3 keys from context: ['animal', 'exper_name', 'session_name']. Building path anyway.\n",
      "register_output_file(output_path: C:\\Users\\pho\\repos\\Spike3DWorkEnv\\Spike3D\\EXTERNAL\\Screenshots\\ProgrammaticDisplayFunctionTesting\\2024-06-11\\kdiba\\13_2_inst_FR_bar_graphs_Laps.png, ...)\n",
      "\t saved \"file:///C:/Users/pho/repos/Spike3DWorkEnv/Spike3D/EXTERNAL/Screenshots/ProgrammaticDisplayFunctionTesting/2024-06-11/kdiba/13_2_inst_FR_bar_graphs_Laps.png\"\n",
      "WARNING: missing 3 keys from context: ['animal', 'exper_name', 'session_name']. Building path anyway.\n",
      "register_output_file(output_path: C:\\Users\\pho\\repos\\Spike3DWorkEnv\\Spike3D\\EXTERNAL\\Screenshots\\ProgrammaticDisplayFunctionTesting\\2024-06-11\\kdiba\\13_2_inst_FR_bar_graphs_Replay.png, ...)\n",
      "\t saved \"file:///C:/Users/pho/repos/Spike3DWorkEnv/Spike3D/EXTERNAL/Screenshots/ProgrammaticDisplayFunctionTesting/2024-06-11/kdiba/13_2_inst_FR_bar_graphs_Replay.png\"\n",
      "save_figure()!\n"
     ]
    }
   ],
   "source": [
    "## Hacks the `PaperFigureTwo` and `InstantaneousSpikeRateGroupsComputation` \n",
    "matplotlib_configuration_update(is_interactive=False, backend='Qt5Agg')\n",
    "global_multi_session_context, _out_aggregate_fig_2 = AcrossSessionsVisualizations.across_sessions_bar_graphs(across_session_inst_fr_computation, num_sessions, enable_tiny_point_labels=False, enable_hover_labels=False, write_vector_format=True)\n"
   ]
  },
  {
   "cell_type": "code",
   "execution_count": 26,
   "metadata": {},
   "outputs": [
    {
     "name": "stdout",
     "output_type": "stream",
     "text": [
      "WARNING: missing 3 keys from context: ['animal', 'exper_name', 'session_name']. Building path anyway.\n",
      "register_output_file(output_path: C:\\Users\\pho\\repos\\Spike3DWorkEnv\\Spike3D\\EXTERNAL\\Screenshots\\ProgrammaticDisplayFunctionTesting\\2024-06-11\\kdiba\\{}_13_across_sessions_firing_rate_index.png, ...)\n",
      "\t saved \"file:///C:/Users/pho/repos/Spike3DWorkEnv/Spike3D/EXTERNAL/Screenshots/ProgrammaticDisplayFunctionTesting/2024-06-11/kdiba/%7B%7D_13_across_sessions_firing_rate_index.png\"\n"
     ]
    }
   ],
   "source": [
    "from pyphoplacecellanalysis.SpecificResults.AcrossSessionResults import AcrossSessionsVisualizations\n",
    "\n",
    "matplotlib_configuration_update(is_interactive=False, backend='Qt5Agg')\n",
    "graphics_output_dict = AcrossSessionsVisualizations.across_sessions_firing_rate_index_figure(long_short_fr_indicies_analysis_results=long_short_fr_indicies_analysis_table, num_sessions=num_sessions, save_figure=True)\n"
   ]
  },
  {
   "cell_type": "code",
   "execution_count": 27,
   "metadata": {},
   "outputs": [
    {
     "name": "stdout",
     "output_type": "stream",
     "text": [
      "WARNING: missing 3 keys from context: ['animal', 'exper_name', 'session_name']. Building path anyway.\n",
      "register_output_file(output_path: C:\\Users\\pho\\repos\\Spike3DWorkEnv\\Spike3D\\EXTERNAL\\Screenshots\\ProgrammaticDisplayFunctionTesting\\2024-06-11\\kdiba\\13_plot_single_track_firing_rate_compare_long.png, ...)\n",
      "\t saved \"file:///C:/Users/pho/repos/Spike3DWorkEnv/Spike3D/EXTERNAL/Screenshots/ProgrammaticDisplayFunctionTesting/2024-06-11/kdiba/13_plot_single_track_firing_rate_compare_long.png\"\n",
      "WARNING: missing 3 keys from context: ['animal', 'exper_name', 'session_name']. Building path anyway.\n",
      "register_output_file(output_path: C:\\Users\\pho\\repos\\Spike3DWorkEnv\\Spike3D\\EXTERNAL\\Screenshots\\ProgrammaticDisplayFunctionTesting\\2024-06-11\\kdiba\\13_plot_single_track_firing_rate_compare_short.png, ...)\n",
      "\t saved \"file:///C:/Users/pho/repos/Spike3DWorkEnv/Spike3D/EXTERNAL/Screenshots/ProgrammaticDisplayFunctionTesting/2024-06-11/kdiba/13_plot_single_track_firing_rate_compare_short.png\"\n"
     ]
    }
   ],
   "source": [
    "matplotlib_configuration_update(is_interactive=False, backend='Qt5Agg')\n",
    "graphics_output_dict = AcrossSessionsVisualizations.across_sessions_long_and_short_firing_rate_replays_v_laps_figure(neuron_replay_stats_table=neuron_replay_stats_table, num_sessions=num_sessions, save_figure=True)\n"
   ]
  },
  {
   "cell_type": "code",
   "execution_count": 28,
   "metadata": {},
   "outputs": [
    {
     "data": {
      "text/plain": [
       "['kdiba|gor01|one|2006-6-08_14-26-15|109',\n",
       " 'kdiba|gor01|one|2006-6-09_1-22-43|3',\n",
       " 'kdiba|gor01|one|2006-6-09_1-22-43|29',\n",
       " 'kdiba|gor01|one|2006-6-09_1-22-43|103',\n",
       " 'kdiba|gor01|two|2006-6-08_21-16-25|90',\n",
       " 'kdiba|gor01|two|2006-6-09_22-24-40|91',\n",
       " 'kdiba|gor01|two|2006-6-09_22-24-40|95',\n",
       " 'kdiba|gor01|two|2006-6-12_16-53-46|38',\n",
       " 'kdiba|gor01|two|2006-6-12_16-53-46|59',\n",
       " 'kdiba|vvp01|one|2006-4-10_12-25-50|23',\n",
       " 'kdiba|vvp01|two|2006-4-09_16-40-54|25',\n",
       " 'kdiba|vvp01|two|2006-4-10_12-58-3|14',\n",
       " 'kdiba|vvp01|two|2006-4-10_12-58-3|30',\n",
       " 'kdiba|vvp01|two|2006-4-10_12-58-3|32',\n",
       " 'kdiba|pin01|one|11-02_17-46-44|8',\n",
       " 'kdiba|pin01|one|11-02_17-46-44|27',\n",
       " 'kdiba|pin01|one|11-02_19-28-0|27']"
      ]
     },
     "execution_count": 28,
     "metadata": {},
     "output_type": "execute_result"
    }
   ],
   "source": [
    "ann_man = UserAnnotationsManager()\n",
    "included_annotations = {ctxt:ann_man.annotations[ctxt].get('session_cell_exclusivity', None) for ctxt in included_session_contexts}\n",
    "\n",
    "all_LxCs = []\n",
    "all_SxCs = []\n",
    "\n",
    "for ctxt, an_ann in included_annotations.items():\n",
    "\tsession_ctxt_key:str = ctxt.get_description(separator='|', subset_includelist=IdentifyingContext._get_session_context_keys())\n",
    "\tall_LxCs.extend([f\"{session_ctxt_key}|{aclu}\" for aclu in an_ann.LxC])\n",
    "\tall_SxCs.extend([f\"{session_ctxt_key}|{aclu}\" for aclu in an_ann.SxC])\n",
    "\t\n",
    "all_LxCs"
   ]
  },
  {
   "cell_type": "code",
   "execution_count": 29,
   "metadata": {},
   "outputs": [
    {
     "data": {
      "text/plain": [
       "['kdiba|gor01|one|2006-6-08_14-26-15|23',\n",
       " 'kdiba|gor01|one|2006-6-08_14-26-15|4',\n",
       " 'kdiba|gor01|one|2006-6-08_14-26-15|58',\n",
       " 'kdiba|gor01|one|2006-6-09_1-22-43|55',\n",
       " 'kdiba|gor01|one|2006-6-12_15-55-31|30',\n",
       " 'kdiba|gor01|two|2006-6-07_16-40-19|3',\n",
       " 'kdiba|gor01|two|2006-6-07_16-40-19|19',\n",
       " 'kdiba|gor01|two|2006-6-08_21-16-25|8',\n",
       " 'kdiba|gor01|two|2006-6-12_16-53-46|8',\n",
       " 'kdiba|vvp01|one|2006-4-09_17-29-30|41',\n",
       " 'kdiba|vvp01|one|2006-4-10_12-25-50|29',\n",
       " 'kdiba|pin01|one|11-02_17-46-44|17']"
      ]
     },
     "execution_count": 29,
     "metadata": {},
     "output_type": "execute_result"
    }
   ],
   "source": [
    "all_SxCs"
   ]
  },
  {
   "cell_type": "code",
   "execution_count": 30,
   "metadata": {},
   "outputs": [],
   "source": [
    "across_session_inst_fr_computation.LxC_scatter_props\n",
    "across_session_inst_fr_computation.SxC_scatter_props"
   ]
  },
  {
   "cell_type": "code",
   "execution_count": 31,
   "metadata": {},
   "outputs": [],
   "source": [
    "from pyphoplacecellanalysis.SpecificResults.PhoDiba2023Paper import PaperFigureTwo # used in post_compute_all_sessions_processing\n",
    "\n",
    "\n",
    "## Aggregate across all of the sessions to build a new combined `InstantaneousSpikeRateGroupsComputation`, which can be used to plot the \"PaperFigureTwo\", bar plots for many sessions.\n",
    "global_multi_session_context = IdentifyingContext(format_name='kdiba', num_sessions=num_sessions) # some global context across all of the sessions, not sure what to put here.\n",
    "\n",
    "instantaneous_time_bin_size_seconds:float = 0.001\n",
    "\n",
    "# To correctly aggregate results across sessions, it only makes sense to combine entries at the `.cell_agg_inst_fr_list` variable and lower (as the number of cells can be added across sessions, treated as unique for each session).\n",
    "\n",
    "## Display the aggregate across sessions:\n",
    "_out_fig_2 = PaperFigureTwo(instantaneous_time_bin_size_seconds=instantaneous_time_bin_size_seconds) # WARNING: we didn't save this info\n",
    "_out_fig_2.computation_result = across_session_inst_fr_computation # the result loaded from the file\n",
    "_out_fig_2.active_identifying_session_ctx = across_session_inst_fr_computation.active_identifying_session_ctx\n",
    "# Set callback, the only self-specific property\n",
    "# _out_fig_2._pipeline_file_callback_fn = curr_active_pipeline.output_figure # lambda args, kwargs: self.write_to_file(args, kwargs, curr_active_pipeline)\n",
    "# _out_fig_2.scatter_props_fn = _return_scatter_props_fn"
   ]
  },
  {
   "cell_type": "code",
   "execution_count": 32,
   "metadata": {},
   "outputs": [
    {
     "data": {
      "text/plain": [
       "array(['a0s0_109', 'a0s1_3', 'a0s1_29', 'a0s1_103', 'a0s4_90', 'a0s5_91',\n",
       "       'a0s5_95', 'a1s1_23', 'a1s2_25', 'a1s3_14', 'a1s3_30', 'a1s3_32',\n",
       "       'a2s0_27'], dtype='<U32')"
      ]
     },
     "execution_count": 32,
     "metadata": {},
     "output_type": "execute_result"
    }
   ],
   "source": [
    "LxC_aclus = _out_fig_2.computation_result.LxC_aclus\n",
    "SxC_aclus = _out_fig_2.computation_result.SxC_aclus\n",
    "\n",
    "LxC_aclus"
   ]
  },
  {
   "cell_type": "code",
   "execution_count": 33,
   "metadata": {},
   "outputs": [],
   "source": [
    "from pyphoplacecellanalysis.General.Mixins.ExportHelpers import FigureOutputLocation, ContextToPathMode, FileOutputManager # used in post_compute_all_sessions_processing\n",
    "from pyphoplacecellanalysis.SpecificResults.PhoDiba2023Paper import PaperFigureTwo # used in post_compute_all_sessions_processing\n",
    "\n",
    "registered_output_files = {}\n",
    "\n",
    "def output_figure(final_context: IdentifyingContext, fig, write_vector_format:bool=True, write_png:bool=True, debug_print=True):\n",
    "    \"\"\" outputs the figure using the provided context. \"\"\"\n",
    "    from pyphoplacecellanalysis.General.Mixins.ExportHelpers import build_and_write_to_file\n",
    "    def register_output_file(output_path, output_metadata=None):\n",
    "        \"\"\" registers a new output file for the pipeline \"\"\"\n",
    "        print(f'register_output_file(output_path: {output_path}, ...)')\n",
    "        registered_output_files[output_path] = output_metadata or {}\n",
    "\n",
    "    fig_out_man = FileOutputManager(figure_output_location=FigureOutputLocation.DAILY_PROGRAMMATIC_OUTPUT_FOLDER, context_to_path_mode=ContextToPathMode.HIERARCHY_UNIQUE)\n",
    "    active_out_figure_paths = build_and_write_to_file(fig, final_context, fig_out_man, write_vector_format=write_vector_format, write_png=write_png, register_output_file_fn=register_output_file)\n",
    "    return active_out_figure_paths, final_context\n",
    "\n",
    "\n",
    "# Set callback, the only self-specific property\n",
    "_out_fig_2._pipeline_file_callback_fn = output_figure"
   ]
  },
  {
   "cell_type": "code",
   "execution_count": 34,
   "metadata": {},
   "outputs": [
    {
     "data": {
      "text/plain": [
       "[SingleBarResult(mean=55.92525898889445, std=13.51223536241919, values=array([39.92716256, 67.47140003, 48.92441576, 71.11261679, 39.21890821,\n",
       "        57.05970096, 83.12692513, 45.72938923, 68.74974225, 62.172348  ,\n",
       "        51.64434204, 54.8717462 , 37.0196697 ]), LxC_aclus=array(['a0s0_109', 'a0s1_3', 'a0s1_29', 'a0s1_103', 'a0s4_90', 'a0s5_91',\n",
       "        'a0s5_95', 'a1s1_23', 'a1s2_25', 'a1s3_14', 'a1s3_30', 'a1s3_32',\n",
       "        'a2s0_27'], dtype='<U32'), SxC_aclus=array(['a0s0_23', 'a0s0_4', 'a0s0_58', 'a0s1_55', 'a0s2_30', 'a0s3_3',\n",
       "        'a0s3_19', 'a0s4_8', 'a1s0_41', 'a1s1_29'], dtype='<U32'), LxC_scatter_props=[{'marker': (5, 0)}, {'marker': (5, 0)}, {'marker': (5, 0)}, {'marker': (5, 0)}, {'marker': (5, 0)}, {'marker': (5, 0)}, {'marker': (5, 1)}, {'marker': (5, 1)}, {'marker': (5, 1)}, {'marker': (5, 1)}, {'marker': (5, 2)}, {'marker': (5, 2)}, {'marker': (5, 2)}], SxC_scatter_props=[{'marker': (5, 0)}, {'marker': (5, 0)}, {'marker': (5, 0)}, {'marker': (5, 0)}, {'marker': (5, 0)}, {'marker': (5, 0)}, {'marker': (5, 1)}, {'marker': (5, 1)}, {'marker': (5, 1)}, {'marker': (5, 1)}, {'marker': (5, 2)}, {'marker': (5, 2)}, {'marker': (5, 2)}]),\n",
       " SingleBarResult(mean=7.889486867564819, std=8.447415716902148, values=array([ 7.97884561, 18.82310249, 25.76210852, 21.59363182,  1.9947114 ,\n",
       "        10.1654842 ,  5.1976166 ,  0.94986257,  6.20584626,  3.89211981,\n",
       "         0.        ,  0.        ,  0.        ]), LxC_aclus=array(['a0s0_109', 'a0s1_3', 'a0s1_29', 'a0s1_103', 'a0s4_90', 'a0s5_91',\n",
       "        'a0s5_95', 'a1s1_23', 'a1s2_25', 'a1s3_14', 'a1s3_30', 'a1s3_32',\n",
       "        'a2s0_27'], dtype='<U32'), SxC_aclus=array(['a0s0_23', 'a0s0_4', 'a0s0_58', 'a0s1_55', 'a0s2_30', 'a0s3_3',\n",
       "        'a0s3_19', 'a0s4_8', 'a1s0_41', 'a1s1_29'], dtype='<U32'), LxC_scatter_props=[{'marker': (5, 0)}, {'marker': (5, 0)}, {'marker': (5, 0)}, {'marker': (5, 0)}, {'marker': (5, 0)}, {'marker': (5, 0)}, {'marker': (5, 1)}, {'marker': (5, 1)}, {'marker': (5, 1)}, {'marker': (5, 1)}, {'marker': (5, 2)}, {'marker': (5, 2)}, {'marker': (5, 2)}], SxC_scatter_props=[{'marker': (5, 0)}, {'marker': (5, 0)}, {'marker': (5, 0)}, {'marker': (5, 0)}, {'marker': (5, 0)}, {'marker': (5, 0)}, {'marker': (5, 1)}, {'marker': (5, 1)}, {'marker': (5, 1)}, {'marker': (5, 1)}, {'marker': (5, 2)}, {'marker': (5, 2)}, {'marker': (5, 2)}]),\n",
       " SingleBarResult(mean=7.406642653523482, std=8.099896643951869, values=array([ 7.82521914,  3.9472042 , 22.74924608,  0.        ,  1.99471512,\n",
       "         1.9460599 ,  4.48647258, 22.56874637,  8.54876315,  0.        ]), LxC_aclus=array(['a0s0_109', 'a0s1_3', 'a0s1_29', 'a0s1_103', 'a0s4_90', 'a0s5_91',\n",
       "        'a0s5_95', 'a1s1_23', 'a1s2_25', 'a1s3_14', 'a1s3_30', 'a1s3_32',\n",
       "        'a2s0_27'], dtype='<U32'), SxC_aclus=array(['a0s0_23', 'a0s0_4', 'a0s0_58', 'a0s1_55', 'a0s2_30', 'a0s3_3',\n",
       "        'a0s3_19', 'a0s4_8', 'a1s0_41', 'a1s1_29'], dtype='<U32'), LxC_scatter_props=[{'marker': (5, 0)}, {'marker': (5, 0)}, {'marker': (5, 0)}, {'marker': (5, 0)}, {'marker': (5, 0)}, {'marker': (5, 0)}, {'marker': (5, 1)}, {'marker': (5, 1)}, {'marker': (5, 1)}, {'marker': (5, 1)}, {'marker': (5, 2)}, {'marker': (5, 2)}, {'marker': (5, 2)}], SxC_scatter_props=[{'marker': (5, 0)}, {'marker': (5, 0)}, {'marker': (5, 0)}, {'marker': (5, 0)}, {'marker': (5, 0)}, {'marker': (5, 0)}, {'marker': (5, 1)}, {'marker': (5, 1)}, {'marker': (5, 1)}, {'marker': (5, 1)}, {'marker': (5, 2)}, {'marker': (5, 2)}, {'marker': (5, 2)}]),\n",
       " SingleBarResult(mean=72.61785645557083, std=16.99644367303323, values=array([ 55.42750765,  66.28880874,  90.21451578,  57.70266331,\n",
       "         58.21747638,  68.3918319 , 111.0265232 ,  74.94867353,\n",
       "         84.51860351,  59.44196056]), LxC_aclus=array(['a0s0_109', 'a0s1_3', 'a0s1_29', 'a0s1_103', 'a0s4_90', 'a0s5_91',\n",
       "        'a0s5_95', 'a1s1_23', 'a1s2_25', 'a1s3_14', 'a1s3_30', 'a1s3_32',\n",
       "        'a2s0_27'], dtype='<U32'), SxC_aclus=array(['a0s0_23', 'a0s0_4', 'a0s0_58', 'a0s1_55', 'a0s2_30', 'a0s3_3',\n",
       "        'a0s3_19', 'a0s4_8', 'a1s0_41', 'a1s1_29'], dtype='<U32'), LxC_scatter_props=[{'marker': (5, 0)}, {'marker': (5, 0)}, {'marker': (5, 0)}, {'marker': (5, 0)}, {'marker': (5, 0)}, {'marker': (5, 0)}, {'marker': (5, 1)}, {'marker': (5, 1)}, {'marker': (5, 1)}, {'marker': (5, 1)}, {'marker': (5, 2)}, {'marker': (5, 2)}, {'marker': (5, 2)}], SxC_scatter_props=[{'marker': (5, 0)}, {'marker': (5, 0)}, {'marker': (5, 0)}, {'marker': (5, 0)}, {'marker': (5, 0)}, {'marker': (5, 0)}, {'marker': (5, 1)}, {'marker': (5, 1)}, {'marker': (5, 1)}, {'marker': (5, 1)}, {'marker': (5, 2)}, {'marker': (5, 2)}, {'marker': (5, 2)}])]"
      ]
     },
     "execution_count": 34,
     "metadata": {},
     "output_type": "execute_result"
    }
   ],
   "source": [
    "_out_fig_2.computation_result.Fig2_Laps_FR"
   ]
  },
  {
   "cell_type": "code",
   "execution_count": 35,
   "metadata": {},
   "outputs": [
    {
     "data": {
      "text/plain": [
       "[SingleBarResult(mean=8.227091344775788, std=5.547988423902014, values=array([ 1.60592313,  9.80997442,  8.67140542, 12.34794267,  1.9947114 ,\n",
       "         7.95086896, 14.45511094, 13.14179121,  2.75132607, 19.71401992,\n",
       "         5.98049033,  8.52862301,  0.        ]), LxC_aclus=array(['a0s0_109', 'a0s1_3', 'a0s1_29', 'a0s1_103', 'a0s4_90', 'a0s5_91',\n",
       "        'a0s5_95', 'a1s1_23', 'a1s2_25', 'a1s3_14', 'a1s3_30', 'a1s3_32',\n",
       "        'a2s0_27'], dtype='<U32'), SxC_aclus=array(['a0s0_23', 'a0s0_4', 'a0s0_58', 'a0s1_55', 'a0s2_30', 'a0s3_3',\n",
       "        'a0s3_19', 'a0s4_8', 'a1s0_41', 'a1s1_29'], dtype='<U32'), LxC_scatter_props=[{'marker': (5, 0)}, {'marker': (5, 0)}, {'marker': (5, 0)}, {'marker': (5, 0)}, {'marker': (5, 0)}, {'marker': (5, 0)}, {'marker': (5, 1)}, {'marker': (5, 1)}, {'marker': (5, 1)}, {'marker': (5, 1)}, {'marker': (5, 2)}, {'marker': (5, 2)}, {'marker': (5, 2)}], SxC_scatter_props=[{'marker': (5, 0)}, {'marker': (5, 0)}, {'marker': (5, 0)}, {'marker': (5, 0)}, {'marker': (5, 0)}, {'marker': (5, 0)}, {'marker': (5, 1)}, {'marker': (5, 1)}, {'marker': (5, 1)}, {'marker': (5, 1)}, {'marker': (5, 2)}, {'marker': (5, 2)}, {'marker': (5, 2)}]),\n",
       " SingleBarResult(mean=11.352151775494393, std=13.307824077665076, values=array([ 0.9770015 ,  4.92440247,  7.51589678,  9.92103609,  2.09969621,\n",
       "         6.18924904,  0.99724473, 34.54190983, 46.9775738 , 10.93074309,\n",
       "        11.35610675, 10.21934005,  0.92777275]), LxC_aclus=array(['a0s0_109', 'a0s1_3', 'a0s1_29', 'a0s1_103', 'a0s4_90', 'a0s5_91',\n",
       "        'a0s5_95', 'a1s1_23', 'a1s2_25', 'a1s3_14', 'a1s3_30', 'a1s3_32',\n",
       "        'a2s0_27'], dtype='<U32'), SxC_aclus=array(['a0s0_23', 'a0s0_4', 'a0s0_58', 'a0s1_55', 'a0s2_30', 'a0s3_3',\n",
       "        'a0s3_19', 'a0s4_8', 'a1s0_41', 'a1s1_29'], dtype='<U32'), LxC_scatter_props=[{'marker': (5, 0)}, {'marker': (5, 0)}, {'marker': (5, 0)}, {'marker': (5, 0)}, {'marker': (5, 0)}, {'marker': (5, 0)}, {'marker': (5, 1)}, {'marker': (5, 1)}, {'marker': (5, 1)}, {'marker': (5, 1)}, {'marker': (5, 2)}, {'marker': (5, 2)}, {'marker': (5, 2)}], SxC_scatter_props=[{'marker': (5, 0)}, {'marker': (5, 0)}, {'marker': (5, 0)}, {'marker': (5, 0)}, {'marker': (5, 0)}, {'marker': (5, 0)}, {'marker': (5, 1)}, {'marker': (5, 1)}, {'marker': (5, 1)}, {'marker': (5, 1)}, {'marker': (5, 2)}, {'marker': (5, 2)}, {'marker': (5, 2)}]),\n",
       " SingleBarResult(mean=2.012011698067421, std=2.821612430042766, values=array([2.21562821, 0.        , 2.69210129, 0.17809923, 0.        ,\n",
       "        0.36768874, 0.18384437, 8.43817513, 6.04458001, 0.        ]), LxC_aclus=array(['a0s0_109', 'a0s1_3', 'a0s1_29', 'a0s1_103', 'a0s4_90', 'a0s5_91',\n",
       "        'a0s5_95', 'a1s1_23', 'a1s2_25', 'a1s3_14', 'a1s3_30', 'a1s3_32',\n",
       "        'a2s0_27'], dtype='<U32'), SxC_aclus=array(['a0s0_23', 'a0s0_4', 'a0s0_58', 'a0s1_55', 'a0s2_30', 'a0s3_3',\n",
       "        'a0s3_19', 'a0s4_8', 'a1s0_41', 'a1s1_29'], dtype='<U32'), LxC_scatter_props=[{'marker': (5, 0)}, {'marker': (5, 0)}, {'marker': (5, 0)}, {'marker': (5, 0)}, {'marker': (5, 0)}, {'marker': (5, 0)}, {'marker': (5, 1)}, {'marker': (5, 1)}, {'marker': (5, 1)}, {'marker': (5, 1)}, {'marker': (5, 2)}, {'marker': (5, 2)}, {'marker': (5, 2)}], SxC_scatter_props=[{'marker': (5, 0)}, {'marker': (5, 0)}, {'marker': (5, 0)}, {'marker': (5, 0)}, {'marker': (5, 0)}, {'marker': (5, 0)}, {'marker': (5, 1)}, {'marker': (5, 1)}, {'marker': (5, 1)}, {'marker': (5, 1)}, {'marker': (5, 2)}, {'marker': (5, 2)}, {'marker': (5, 2)}]),\n",
       " SingleBarResult(mean=11.147659612630886, std=9.63923121518757, values=array([ 5.9924315 , 21.80473742, 17.72108294,  0.88901407,  0.        ,\n",
       "         4.8103641 , 21.45884616, 12.00676362, 26.79335632,  0.        ]), LxC_aclus=array(['a0s0_109', 'a0s1_3', 'a0s1_29', 'a0s1_103', 'a0s4_90', 'a0s5_91',\n",
       "        'a0s5_95', 'a1s1_23', 'a1s2_25', 'a1s3_14', 'a1s3_30', 'a1s3_32',\n",
       "        'a2s0_27'], dtype='<U32'), SxC_aclus=array(['a0s0_23', 'a0s0_4', 'a0s0_58', 'a0s1_55', 'a0s2_30', 'a0s3_3',\n",
       "        'a0s3_19', 'a0s4_8', 'a1s0_41', 'a1s1_29'], dtype='<U32'), LxC_scatter_props=[{'marker': (5, 0)}, {'marker': (5, 0)}, {'marker': (5, 0)}, {'marker': (5, 0)}, {'marker': (5, 0)}, {'marker': (5, 0)}, {'marker': (5, 1)}, {'marker': (5, 1)}, {'marker': (5, 1)}, {'marker': (5, 1)}, {'marker': (5, 2)}, {'marker': (5, 2)}, {'marker': (5, 2)}], SxC_scatter_props=[{'marker': (5, 0)}, {'marker': (5, 0)}, {'marker': (5, 0)}, {'marker': (5, 0)}, {'marker': (5, 0)}, {'marker': (5, 0)}, {'marker': (5, 1)}, {'marker': (5, 1)}, {'marker': (5, 1)}, {'marker': (5, 1)}, {'marker': (5, 2)}, {'marker': (5, 2)}, {'marker': (5, 2)}])]"
      ]
     },
     "execution_count": 35,
     "metadata": {},
     "output_type": "execute_result"
    }
   ],
   "source": [
    "_out_fig_2.computation_result.Fig2_Replay_FR"
   ]
  },
  {
   "cell_type": "code",
   "execution_count": 36,
   "metadata": {},
   "outputs": [
    {
     "name": "stdout",
     "output_type": "stream",
     "text": [
      "WARNING: missing 3 keys from context: ['animal', 'exper_name', 'session_name']. Building path anyway.\n",
      "Error occured while writing vector format for fig. 'IdentifyingContext' object has no attribute 'session_name'. Skipping.\n",
      "register_output_file(output_path: C:\\Users\\pho\\repos\\Spike3DWorkEnv\\Spike3D\\EXTERNAL\\Screenshots\\ProgrammaticDisplayFunctionTesting\\2024-06-11\\kdiba\\13_2024-06-11_Apogee_2_inst_FR_bar_graphs_Laps.png, ...)\n",
      "\t saved \"file:///C:/Users/pho/repos/Spike3DWorkEnv/Spike3D/EXTERNAL/Screenshots/ProgrammaticDisplayFunctionTesting/2024-06-11/kdiba/13_2024-06-11_Apogee_2_inst_FR_bar_graphs_Laps.png\"\n",
      "WARNING: missing 3 keys from context: ['animal', 'exper_name', 'session_name']. Building path anyway.\n",
      "Error occured while writing vector format for fig. 'IdentifyingContext' object has no attribute 'session_name'. Skipping.\n",
      "register_output_file(output_path: C:\\Users\\pho\\repos\\Spike3DWorkEnv\\Spike3D\\EXTERNAL\\Screenshots\\ProgrammaticDisplayFunctionTesting\\2024-06-11\\kdiba\\13_2024-06-11_Apogee_2_inst_FR_bar_graphs_Replay.png, ...)\n",
      "\t saved \"file:///C:/Users/pho/repos/Spike3DWorkEnv/Spike3D/EXTERNAL/Screenshots/ProgrammaticDisplayFunctionTesting/2024-06-11/kdiba/13_2024-06-11_Apogee_2_inst_FR_bar_graphs_Replay.png\"\n"
     ]
    }
   ],
   "source": [
    "# Showing\n",
    "restore_previous_matplotlib_settings_callback = matplotlib_configuration_update(is_interactive=False, backend='Qt5Agg')\n",
    "# Perform interactive Matplotlib operations with 'Qt5Agg' backend\n",
    "active_context = global_multi_session_context.adding_context_if_missing(run_date=BATCH_DATE_TO_USE)\n",
    "\n",
    "_fig_2_theta_out, _fig_2_replay_out = _out_fig_2.display(active_context=active_context, title_modifier_fn=lambda original_title: f\"{original_title} ({num_sessions} sessions)\",\n",
    "\t\t\t\t\t\t\t\t\t\t\t\t\t\tdefer_show=True, save_figure=True, enable_tiny_point_labels=False)\n",
    "\n",
    "# _out_fig_2.perform_save()\n",
    "\n",
    "# _out_fig_2.perform_save(global_multi_session_context, _fig_2_theta_out)\n",
    "\n",
    "\n"
   ]
  },
  {
   "cell_type": "code",
   "execution_count": null,
   "metadata": {},
   "outputs": [
    {
     "name": "stdout",
     "output_type": "stream",
     "text": [
      "[neptune] [info   ] Neptune initialized. Open in the app: https://app.neptune.ai/commander.pho/PhoDibaLongShortAcrossSessions/\n"
     ]
    },
    {
     "name": "stderr",
     "output_type": "stream",
     "text": [
      "[neptune] [warning] NeptuneWarning: The following monitoring options are disabled by default in interactive sessions: 'capture_stdout', 'capture_stderr', 'capture_traceback', and 'capture_hardware_metrics'. To enable them, set each parameter to 'True' when initializing the run. The monitoring will continue until you call run.stop() or the kernel stops. Also note: Your source files can only be tracked if you pass the path(s) to the 'source_code' argument. For help, see the Neptune docs: https://docs.neptune.ai/logging/source_code/\n"
     ]
    },
    {
     "name": "stdout",
     "output_type": "stream",
     "text": [
      "[neptune] [info   ] Neptune initialized. Open in the app: https://app.neptune.ai/commander.pho/PhoDibaLongShortAcrossSessions/e/ACSESS-13\n"
     ]
    }
   ],
   "source": [
    "debug_print: bool = False\n",
    "enable_neptune: bool = True\n",
    "\n",
    "if enable_neptune:\n",
    "    import neptune # for logging progress and results\n",
    "    from neptune.types import File\n",
    "    from pyphoplacecellanalysis.General.Batch.NeptuneAiHelpers import Neptuner, AutoValueConvertingNeptuneRun, set_environment_variables \n",
    "\n",
    "    ## Gets the notebook filepath for Neptune:\n",
    "    import IPython\n",
    "    from pyphocorehelpers.programming_helpers import IPythonHelpers\n",
    "    notebook_filepath: str = IPythonHelpers.try_find_notebook_filepath(IPython.extract_module_locals())\n",
    "    assert Path(notebook_filepath).resolve().exists(), f\"found notebook filepath: '{notebook_filepath}' does not exist\"\n",
    "\n",
    "\t\n",
    "    # notebook_filepath\n",
    "\n",
    "\t# '/home/halechr/repos/Spike3D/BatchInteractiveProcessing_2024-06-11_GL.ipynb'\n",
    "\n",
    "    neptune_kwargs = {'project':\"commander.pho/PhoDibaLongShortAcrossSessions\",\n",
    "    'api_token':\"eyJhcGlfYWRkcmVzcyI6Imh0dHBzOi8vYXBwLm5lcHR1bmUuYWkiLCJhcGlfdXJsIjoiaHR0cHM6Ly9hcHAubmVwdHVuZS5haSIsImFwaV9rZXkiOiIxOGIxODU2My1lZTNhLTQ2ZWMtOTkzNS02ZTRmNzM5YmNjNjIifQ==\"}\n",
    "            \n",
    "    neptuner = Neptuner(project_name=neptune_kwargs['project'], api_token=neptune_kwargs['api_token'])\n",
    "\n",
    "\n",
    "    if neptuner.run is None:\n",
    "        # neptuner.run = neptune.init_run(project=neptuner.project_name, api_token=neptuner.api_token, dependencies=\"infer\", source_files=[notebook_filepath]) # see git_ref=GitRef(repository_path=\"/path/to/repo\")\n",
    "        # Add the session_context properties to the run: {'format_name': 'kdiba', 'animal': 'vvp01', 'exper_name': 'two', 'session_name': '2006-4-09_16-40-54'}\n",
    "\n",
    "        neptuner.run = AutoValueConvertingNeptuneRun(project=neptuner.project_name, api_token=neptuner.api_token, dependencies=\"infer\", source_files=[notebook_filepath])\n",
    "\n",
    "        # Create an AutoValueConvertingNeptuneRun and copy the attributes\n",
    "        # neptuner.run = AutoValueConvertingNeptuneRun(base_run._client, base_run._uuid, base_run._url)\n",
    "    \n",
    "        params = {'BATCH_DATE_TO_USE': BATCH_DATE_TO_USE, \"run_workstation\": \"GL\"}\n",
    "        neptuner.run[\"parameters\"] = params\n",
    "\n",
    "        neptuner.outputs = neptuner.run['outputs']\n",
    "        neptuner.figures = neptuner.outputs['figures']\n",
    "\n",
    "    neptuner_run = neptuner.run\n",
    "    \n",
    "    # run = neptune.init_run(source_files=[\"**/*.dvc\"])\n",
    "\n",
    "    # # Pre-execution dataframe view:\n",
    "    # run[\"dataset/global_batch_run_progress_df\"].upload(File.as_html(global_batch_run.to_dataframe(expand_context=True, good_only=False))) # \"path/to/test_preds.csv\"\n",
    "\n",
    "else:\n",
    "    # no neptune:\n",
    "    neptuner = None    \n",
    "    neptuner_run = None"
   ]
  },
  {
   "cell_type": "code",
   "execution_count": null,
   "metadata": {},
   "outputs": [],
   "source": [
    "for a_save_path, a_save_dict in registered_output_files.items():\n",
    "\ta_save_dict['fig']\n",
    "\ta_save_dict['context']\n",
    "\tneptuner.figures.upload(File(a_save_path.resolve().as_posix()))"
   ]
  },
  {
   "cell_type": "code",
   "execution_count": null,
   "metadata": {},
   "outputs": [
    {
     "name": "stderr",
     "output_type": "stream",
     "text": [
      "[neptune] [warning] NeptuneUnsupportedType: You're attempting to log a type that is not directly supported by Neptune (<class 'pyphoplacecellanalysis.SpecificResults.PhoDiba2023Paper.PaperFigureTwo'>).\n",
      "        Convert the value to a supported type, such as a string or float, or use stringify_unsupported(obj)\n",
      "        for dictionaries or collections that contain unsupported values.\n",
      "        For more, see https://docs.neptune.ai/help/value_of_unsupported_type\n"
     ]
    }
   ],
   "source": [
    "\n",
    "neptuner_run[f'output_files/across_sessions_fig_2'] = _out_fig_2"
   ]
  },
  {
   "cell_type": "code",
   "execution_count": null,
   "metadata": {},
   "outputs": [],
   "source": [
    "if (neptuner is not None) and (neptuner_run is not None):\n",
    "    neptuner.stop()"
   ]
  }
 ],
 "metadata": {
  "kernelspec": {
   "display_name": ".venv_white",
   "language": "python",
   "name": "python3"
  },
  "language_info": {
   "codemirror_mode": {
    "name": "ipython",
    "version": 3
   },
   "file_extension": ".py",
   "mimetype": "text/x-python",
   "name": "python",
   "nbconvert_exporter": "python",
   "pygments_lexer": "ipython3",
   "version": "3.9.13"
  },
  "orig_nbformat": 4
 },
 "nbformat": 4,
 "nbformat_minor": 2
}
