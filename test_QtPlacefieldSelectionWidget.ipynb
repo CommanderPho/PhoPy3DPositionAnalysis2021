{
 "cells": [
  {
   "cell_type": "code",
   "execution_count": 1,
   "id": "aa7e7a01",
   "metadata": {},
   "outputs": [],
   "source": [
    "# Testing the new Placefield Widget for Qt:\n",
    "\"\"\"\n",
    "@author: pho\n",
    "\"\"\"\n",
    "%load_ext autoreload\n",
    "%autoreload 2\n",
    "import sys\n",
    "from pyqtgraph.Qt import QtGui, QtCore, QtWidgets  # (the example applies equally well to PySide2)\n",
    "import numpy as np\n",
    "import pyqtgraph as pg\n",
    "from pyphoplacecellanalysis.GUI.Qt.PlacefieldVisualSelectionControlWidget import PlacefieldVisualSelectionWidget\n",
    "\n",
    "\n",
    "# from PlacefieldVisualSelectionWidget import PlacefieldVisualSelectionWidget\n",
    "\n"
   ]
  },
  {
   "cell_type": "code",
   "execution_count": 2,
   "id": "c12d0379",
   "metadata": {},
   "outputs": [
    {
     "name": "stderr",
     "output_type": "stream",
     "text": [
      "C:\\Users\\pho\\AppData\\Local\\Temp\\ipykernel_15556\\124531839.py:7: DeprecationWarning: Accessing pyqtgraph.QtWidgets through QtGui is deprecated and will be removed sometime after May 2022. Use QtWidgets.QVBoxLayout instead.\n",
      "  layout = QtGui.QVBoxLayout()\n"
     ]
    }
   ],
   "source": [
    "\n",
    "def placefieldSelectionWidgetExample(title='PhoPfSelectionWidgetExampleApp'):\n",
    "    app = pg.mkQApp(title)\n",
    "    \n",
    "    w = PlacefieldVisualSelectionWidget()\n",
    "    \n",
    "    window = QtWidgets.QWidget()\n",
    "    layout = QtGui.QVBoxLayout()\n",
    "    layout.addWidget(w)\n",
    "\n",
    "    window.setLayout(layout)\n",
    "\n",
    "    window.show()\n",
    "    window.resize(500,500)\n",
    "    window.setWindowTitle('pho example: PfSelectionWidget')\n",
    "\n",
    "    return window, app\n",
    "\n",
    "\n",
    "\n",
    "if __name__ == '__main__':\n",
    "    win, app = placefieldSelectionWidgetExample()\n",
    "    pg.exec()\n",
    "\n",
    "    \n",
    "    \n",
    "# ## Always start by initializing Qt (only once per application)\n",
    "# app = QtGui.QApplication([])\n",
    "\n",
    "# ## Define a top-level widget to hold everything\n",
    "# w = QtGui.QWidget()\n",
    "\n",
    "# pf_selection_widget = PlacefieldVisualSelectionWidget()\n",
    "\n",
    "\n",
    "# # ## Create some widgets to be placed inside\n",
    "# # btn = QtGui.QPushButton('press me')\n",
    "# # text = QtGui.QLineEdit('enter text')\n",
    "# # listw = QtGui.QListWidget()\n",
    "# # plot = pg.PlotWidget()\n",
    "\n",
    "# # \"\"\" Plots a single diagonal line on the plot \"\"\"\n",
    "# # test_x = np.arange(9)\n",
    "# # test_y = 2*test_x + 4\n",
    "# # line_plot = plot.plot(x=test_x, y=test_y)\n",
    "\n",
    "# # \"\"\" Plots colored scatter points in ascending color order along the line \"\"\"\n",
    "# # brush_list = [pg.mkColor(c) for c in \"rgbcmykwrg\"]\n",
    "# # for i in range(len(test_x)):\n",
    "# #     s = pg.ScatterPlotItem([test_x[i]], [test_y[i]], size=10, pen=pg.mkPen(None))  # brush=pg.mkBrush(255, 255, 255, 120))\n",
    "# #     s.setBrush(QtGui.QBrush(QtGui.QColor(QtCore.qrand() % 256, QtCore.qrand() % 256, QtCore.qrand() % 256)))\n",
    "# #     plot.addItem(s)\n",
    "\n",
    "\n",
    "\n",
    "# ## Create a grid layout to manage the widgets size and position\n",
    "# layout = QtGui.QGridLayout()\n",
    "# w.setLayout(layout)\n",
    "\n",
    "# layout.addWidget(pf_selection_widget, 0, 0)   # button goes in upper-left\n",
    "\n",
    "# # ## Add widgets to the layout in their proper positions\n",
    "# # layout.addWidget(btn, 0, 0)   # button goes in upper-left\n",
    "# # layout.addWidget(text, 1, 0)   # text edit goes in middle-left\n",
    "# # layout.addWidget(listw, 2, 0)  # list widget goes in bottom-left\n",
    "# # layout.addWidget(plot, 0, 1, 3, 1)  # plot goes on right side, spanning 3 rows\n",
    "\n",
    "# ## Display the widget as a new window\n",
    "# # w.show()\n",
    "\n",
    "\n"
   ]
  },
  {
   "cell_type": "code",
   "execution_count": null,
   "id": "b0b524ed",
   "metadata": {},
   "outputs": [],
   "source": [
    "\n",
    "win, app = placefieldSelectionWidgetExample()\n",
    "pg.exec()\n"
   ]
  },
  {
   "cell_type": "code",
   "execution_count": null,
   "id": "03e19d75",
   "metadata": {},
   "outputs": [],
   "source": []
  }
 ],
 "metadata": {
  "kernelspec": {
   "display_name": "Python [conda env:phoviz_ultimate]",
   "language": "python",
   "name": "conda-env-phoviz_ultimate-py"
  },
  "language_info": {
   "codemirror_mode": {
    "name": "ipython",
    "version": 3
   },
   "file_extension": ".py",
   "mimetype": "text/x-python",
   "name": "python",
   "nbconvert_exporter": "python",
   "pygments_lexer": "ipython3",
   "version": "3.9.10"
  }
 },
 "nbformat": 4,
 "nbformat_minor": 5
}
