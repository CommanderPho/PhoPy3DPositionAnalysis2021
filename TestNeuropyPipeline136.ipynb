{
 "cells": [
  {
   "cell_type": "code",
   "execution_count": 1,
   "id": "c89af3a8-55e8-4e61-9cf4-18877d21c1cc",
   "metadata": {
    "scene__Default Scene": true,
    "tags": []
   },
   "outputs": [
    {
     "name": "stdout",
     "output_type": "stream",
     "text": [
      "Automatic pdb calling has been turned OFF\n"
     ]
    }
   ],
   "source": [
    "\"\"\"\n",
    "@author: pho\n",
    "\"\"\"\n",
    "## Automatic debugger on exception raised\n",
    "%pdb off\n",
    "%load_ext autoreload\n",
    "%autoreload 2\n",
    "\n",
    "import sys\n",
    "import importlib\n",
    "from pathlib import Path\n",
    "from copy import deepcopy\n",
    "\n",
    "from numba import jit\n",
    "import numpy as np\n",
    "import pandas as pd\n",
    "\n",
    "%config Completer.use_jedi = False\n",
    "\n",
    "# # required to enable non-blocking interaction:\n",
    "%gui qt5\n",
    "\n",
    "import pyphoplacecellanalysis.External.pyqtgraph as pg # Used to plot Speed vs. Pf Desnity Metrics\n",
    "from pyphoplacecellanalysis.External.pyqtgraph.Qt import QtCore, QtGui\n",
    "import pyphoplacecellanalysis.External.pyqtgraph.opengl as gl # for 3D raster plot\n",
    "\n",
    "# Pho's Formatting Preferences\n",
    "from pyphocorehelpers.preferences_helpers import set_pho_preferences, set_pho_preferences_concise, set_pho_preferences_verbose\n",
    "# set_pho_preferences()\n",
    "# np.set_printoptions(edgeitems=30, linewidth=100000, formatter=dict(float=lambda x: \"%g\" % x))\n",
    "# np.set_printoptions(edgeitems=None, linewidth=100000, formatter=None)\n",
    "set_pho_preferences_concise()\n",
    "\n",
    "# For Progress bars:\n",
    "# from tqdm.notebook import tqdm, trange\n",
    "\n",
    "## Pho's Custom Libraries:\n",
    "from pyphocorehelpers.general_helpers import get_arguments_as_optional_dict, inspect_callable_arguments\n",
    "from pyphocorehelpers.indexing_helpers import partition, build_spanning_bins, compute_spanning_bins, compute_position_grid_size, compute_paginated_grid_config\n",
    "from pyphocorehelpers.print_helpers import PrettyPrintable, WrappingMessagePrinter, print_keys_if_possible, debug_dump_object_member_shapes\n",
    "from pyphocorehelpers.DataStructure.dynamic_parameters import DynamicParameters\n",
    "from pyphocorehelpers.performance_timing_helpers import WrappingPerformanceTimer\n",
    "from pyphocorehelpers.gui.interaction_helpers import CallbackWrapper\n",
    "from pyphocorehelpers.Filesystem.open_in_system_file_manager import reveal_in_system_file_manager\n",
    "\n",
    "# pyPhoPlaceCellAnalysis:\n",
    "from pyphoplacecellanalysis.General.Pipeline.NeuropyPipeline import NeuropyPipeline # get_neuron_identities\n",
    "# from pyphoplacecellanalysis.General.SessionSelectionAndFiltering import batch_filter_session, build_custom_epochs_filters\n",
    "from neuropy.core.session.KnownDataSessionTypeProperties import KnownDataSessionTypeProperties\n",
    "\n",
    "from pyphoplacecellanalysis.General.Pipeline.Stages.ComputationFunctions.ComputationFunctionRegistryHolder import ComputationFunctionRegistryHolder\n",
    "from pyphoplacecellanalysis.General.Pipeline.Stages.DisplayFunctions.DisplayFunctionRegistryHolder import DisplayFunctionRegistryHolder\n",
    "\n",
    "# NeuroPy (Diba Lab Python Repo) Loading\n",
    "# from neuropy import core\n",
    "from neuropy.core.session.data_session_loader import DataSessionLoader\n",
    "from neuropy.core.session.dataSession import DataSession\n",
    "from neuropy.analyses.placefields import PlacefieldComputationParameters\n",
    "\n",
    "from neuropy.core.laps import Laps  # Used for adding laps in KDiba mode\n",
    "from neuropy.utils.efficient_interval_search import get_non_overlapping_epochs, drop_overlapping # Used for adding laps in KDiba mode\n",
    "\n",
    "from neuropy.core.epoch import NamedTimerange\n",
    "\n",
    "from neuropy.core.session.Formats.BaseDataSessionFormats import DataSessionFormatRegistryHolder, DataSessionFormatBaseRegisteredClass\n",
    "from neuropy.core.session.Formats.Specific.BapunDataSessionFormat import BapunDataSessionFormatRegisteredClass\n",
    "from neuropy.core.session.Formats.Specific.KDibaOldDataSessionFormat import KDibaOldDataSessionFormatRegisteredClass\n",
    "from neuropy.core.session.Formats.Specific.RachelDataSessionFormat import RachelDataSessionFormat\n",
    "from neuropy.core.session.Formats.Specific.HiroDataSessionFormat import HiroDataSessionFormatRegisteredClass\n",
    "\n",
    "## Plotting Helpers:\n",
    "from pyphoplacecellanalysis.GUI.PyQtPlot.pyqtplot_Matrix import MatrixRenderingWindow\n",
    "from pyphoplacecellanalysis.GUI.PyQtPlot.BinnedImageRenderingWindow import BasicBinnedImageRenderingWindow\n",
    "from pyphoplacecellanalysis.Pho2D.PyQtPlots.plot_placefields import pyqtplot_plot_image_array, pyqtplot_plot_image\n",
    "\n",
    "known_data_session_type_properties_dict = DataSessionFormatRegistryHolder.get_registry_known_data_session_type_dict()\n",
    "active_data_session_types_registered_classes_dict = DataSessionFormatRegistryHolder.get_registry_data_session_type_class_name_dict()\n",
    "# DataSessionFormatRegistryHolder.get_registry()\n",
    "\n",
    "enable_saving_to_disk = False\n",
    "# common_parent_foldername = Path(r'R:\\Dropbox (Personal)\\Active\\Kamran Diba Lib\\Pho-Kamran-Meetings\\Final Placemaps 2021-01-14')\n",
    "common_parent_foldername = Path(r'R:\\Dropbox (Personal)\\Active\\Kamran Diba Lib\\Pho-Kamran-Meetings\\2022-01-16')\n",
    "\n",
    "def JupyterLab_excepthook(exc_type, exc_value, exc_tb):\n",
    "    tb = \"\".join(traceback.format_exception(exc_type, exc_value, exc_tb))\n",
    "    print(\"JupyterLab_excepthook error catched!:\")\n",
    "    print(\"\\t error message:\\n\", tb)\n",
    "    QtWidgets.QApplication.quit()\n",
    "    # or QtWidgets.QApplication.exit(0)\n",
    "    \n",
    "sys.excepthook = JupyterLab_excepthook\n",
    "\n",
    "## Concise Numpy Array Printing:\n",
    "# np.set_string_function(lambda x:f'np.array[{np.shape(x)}]', repr=True)\n",
    "# # with np.printoptions(precision=2, edgeitems=2, linewidth=144):\n",
    "# with np.printoptions(precision=3, edgeitems=2, linewidth=100000):\n",
    "#     # active_computed_data['pf2D'].ratemap\n",
    "#     print(active_computed_data['pf2D'])\n",
    "#     # print(active_computed_data['pf2D'].ratemap)\n",
    "    \n",
    "    \n",
    "# np.set_string_function(lambda x:f'np.array[{np.shape(x)}]', repr=True)\n",
    "# np.set_string_function(None, repr=True)\n",
    "\n",
    "from pyphocorehelpers.general_helpers import get_arguments_as_optional_dict, CodeConversion\n",
    "# cls.compute_position_grid_bin_size(sess.position.x, sess.position.y, num_bins=\n",
    "# get_arguments_as_optional_dict('speed_thresh=10.0, grid_bin=cls.compute_position_grid_bin_size(sess.position.x, sess.position.y, num_bins=(64, 64)), smooth=(2.0, 2.0), frate_thresh=0.2, time_bin_size=1.0, computation_epochs = None')\n",
    "# CodeConversion.get_arguments_as_optional_dict(speed_thresh=10.0, grid_bin=(4.0, 4.0), smooth=(2.0, 2.0), frate_thresh=0.2, time_bin_size=1.0, computation_epochs = None)\n",
    "# CodeConversion.get_arguments_as_optional_dict(max_num_spikes_per_neuron=20000, kleinberg_parameters=DynamicContainer(s=2, gamma=0.2), use_progress_bar=False, debug_print=False)\n",
    "\n",
    "\n"
   ]
  },
  {
   "cell_type": "code",
   "execution_count": 2,
   "id": "836161cc-4191-4cea-8c36-ad1b8c130f84",
   "metadata": {
    "scene__Default Scene": true,
    "tags": []
   },
   "outputs": [],
   "source": [
    "## For computation parameters:\n",
    "from neuropy.analyses.placefields import PlacefieldComputationParameters\n",
    "from neuropy.utils.dynamic_container import DynamicContainer, override_dict, overriding_dict_with, get_dict_subset\n",
    "from neuropy.utils.position_util import compute_position_grid_size\n",
    "\n",
    "def _test_build_default_computation_configs(sess, **kwargs):\n",
    "    \"\"\" OPTIONALLY can be overriden by implementors to provide specific filter functions \"\"\"\n",
    "    kwargs.setdefault('pf_params', PlacefieldComputationParameters(**override_dict({'speed_thresh': 10.0, 'grid_bin': (9.0, 9.0), 'smooth': (2.0, 2.0), 'frate_thresh': 0.2, 'time_bin_size': 1.0, 'computation_epochs': None}, kwargs)))\n",
    "    kwargs.setdefault('spike_analysis', DynamicContainer(**{'max_num_spikes_per_neuron': 20000,\n",
    "                                                             'kleinberg_parameters': DynamicContainer(**{'s': 2, 'gamma': 0.2}).override(kwargs),\n",
    "                                                             'use_progress_bar': False,\n",
    "                                                             'debug_print': False}).override(kwargs))        \n",
    "    return [DynamicContainer(pf_params=kwargs['pf_params'], spike_analysis=kwargs['spike_analysis'])]\n",
    "\n",
    "\n",
    "# _test_build_default_computation_configs(sess)\n",
    "\n",
    "def build_eloy_computation_configs(sess, **kwargs):\n",
    "    \"\"\" OPTIONALLY can be overriden by implementors to provide specific filter functions \"\"\"\n",
    "    # (4.0, 4.0)cm bins, (6.0, 6.0)cm gaussian smoothing\n",
    "    # peak frate > 2Hz \n",
    "    # return [DynamicContainer(pf_params=PlacefieldComputationParameters(speed_thresh=10.0, grid_bin=(4.0, 4.0), smooth=(6.0, 6.0), frate_thresh=0.2, time_bin_size=1.0, computation_epochs = None), spike_analysis=None)]\n",
    "    return [DynamicContainer(pf_params=PlacefieldComputationParameters(speed_thresh=10.0, grid_bin=(4.0, 4.0), smooth=(2.5, 2.5), frate_thresh=0.8, time_bin_size=10.0, computation_epochs = None), spike_analysis=None)]"
   ]
  },
  {
   "cell_type": "markdown",
   "id": "8eceb354-7fa7-4064-ba26-4e989b9f3354",
   "metadata": {
    "jp-MarkdownHeadingCollapsed": true,
    "tags": []
   },
   "source": [
    "## Bapun Format:"
   ]
  },
  {
   "cell_type": "code",
   "execution_count": null,
   "id": "20843de4-9a94-42f7-80a9-f2c8d5704b62",
   "metadata": {},
   "outputs": [],
   "source": [
    "active_data_mode_name = 'bapun'\n",
    "active_data_mode_registered_class = active_data_session_types_registered_classes_dict[active_data_mode_name]\n",
    "active_data_mode_type_properties = known_data_session_type_properties_dict[active_data_mode_name]\n",
    "curr_bapun_pipeline = NeuropyPipeline.init_from_known_data_session_type(active_data_mode_name, active_data_mode_type_properties)\n",
    "curr_active_pipeline = curr_bapun_pipeline\n",
    "active_session_filter_configurations = active_data_mode_registered_class.build_default_filter_functions(sess=curr_active_pipeline.sess) # build_filters_pyramidal_epochs(sess=curr_kdiba_pipeline.sess)\n",
    "active_session_computation_configs = active_data_mode_registered_class.build_default_computation_configs(sess=curr_active_pipeline.sess)"
   ]
  },
  {
   "cell_type": "code",
   "execution_count": null,
   "id": "930c78e9-41d9-4f7f-ad87-787228af2f03",
   "metadata": {
    "pycharm": {
     "is_executing": false
    },
    "scrolled": true
   },
   "outputs": [],
   "source": [
    "## Note that pickling the whole spikes_df dataframe when done is very quick, especially to load!\n",
    "active_file_suffix = '.spikes_df_full.pkl'\n",
    "spikes_df_save_path = curr_active_pipeline.sess.filePrefix.with_suffix(active_file_suffix)\n",
    "print(f'spikes_df_save_path: {spikes_df_save_path}')"
   ]
  },
  {
   "cell_type": "code",
   "execution_count": null,
   "id": "eebb34fb-424a-4ccf-bdc8-8ced634763c1",
   "metadata": {
    "pycharm": {
     "is_executing": false
    },
    "scrolled": true
   },
   "outputs": [],
   "source": [
    "curr_active_pipeline.sess.spikes_df.to_pickle(spikes_df_save_path)  # where to save it, usually as a .pkl"
   ]
  },
  {
   "cell_type": "code",
   "execution_count": null,
   "id": "b7bf8f1a-8b2a-4bb8-874a-a880ed67530a",
   "metadata": {
    "pycharm": {
     "is_executing": false
    },
    "scrolled": true
   },
   "outputs": [],
   "source": [
    "loaded_spikes_df = pd.read_pickle(spikes_df_save_path)\n",
    "loaded_spikes_df"
   ]
  },
  {
   "cell_type": "code",
   "execution_count": null,
   "id": "57d3b509-9f5c-4316-a77e-ee6390278f66",
   "metadata": {
    "pycharm": {
     "is_executing": false
    },
    "scrolled": true
   },
   "outputs": [],
   "source": [
    "curr_active_pipeline.filter_sessions(active_session_filter_configurations)\n",
    "curr_active_pipeline.perform_computations(active_session_computation_configs[0], computation_functions_name_blacklist=['_perform_spike_burst_detection_computation', '_perform_velocity_vs_pf_density_computation', '_perform_velocity_vs_pf_simplified_count_density_computation']) # SpikeAnalysisComputations._perform_spike_burst_detection_computation\n",
    "## _perform_velocity_vs_pf_density_computation: causes AssertionError: After AOC normalization the sum over each cell should be 1.0, but it is not! [nan nan nan nan nan nan nan nan nan nan nan nan nan nan nan nan nan nan nan nan nan nan nan nan nan nan nan nan nan nan nan nan nan nan nan nan nan nan nan nan nan] with 1D placefields!\n",
    "curr_active_pipeline.prepare_for_display(should_smooth_maze=False) # TODO: pass a display config"
   ]
  },
  {
   "cell_type": "markdown",
   "id": "1c703940-bbc4-4014-9e54-2b88b8c79391",
   "metadata": {
    "jp-MarkdownHeadingCollapsed": true,
    "tags": []
   },
   "source": [
    "## Rachel Format:"
   ]
  },
  {
   "cell_type": "code",
   "execution_count": null,
   "id": "03ef84d7-a972-4578-9199-0bda4c627fb6",
   "metadata": {},
   "outputs": [],
   "source": [
    "active_data_mode_name = 'rachel'\n",
    "active_data_mode_registered_class = active_data_session_types_registered_classes_dict[active_data_mode_name]\n",
    "active_data_mode_type_properties = known_data_session_type_properties_dict[active_data_mode_name]\n",
    "curr_rachel_pipeline = NeuropyPipeline.init_from_known_data_session_type(active_data_mode_name, active_data_mode_type_properties)\n",
    "curr_active_pipeline = curr_rachel_pipeline\n",
    "active_session_filter_configurations = active_data_mode_registered_class.build_default_filter_functions(sess=curr_active_pipeline.sess) # build_filters_pyramidal_epochs(sess=curr_kdiba_pipeline.sess)\n",
    "active_session_computation_configs = active_data_mode_registered_class.build_default_computation_configs(sess=curr_active_pipeline.sess)"
   ]
  },
  {
   "cell_type": "code",
   "execution_count": null,
   "id": "277eb000-0a85-4b32-8348-1d0a2042c8a0",
   "metadata": {
    "pycharm": {
     "is_executing": false
    },
    "scrolled": true
   },
   "outputs": [],
   "source": [
    "curr_active_pipeline.filter_sessions(active_session_filter_configurations)\n",
    "curr_active_pipeline.perform_computations(active_session_computation_configs[0], computation_functions_name_blacklist=['_perform_spike_burst_detection_computation']) # Causes \"IndexError: index 59 is out of bounds for axis 0 with size 59\"\n",
    "curr_active_pipeline.prepare_for_display(should_smooth_maze=True) # TODO: pass a display config"
   ]
  },
  {
   "cell_type": "markdown",
   "id": "a4940269-23e4-46dc-a4ae-61d512ac5e41",
   "metadata": {
    "tags": []
   },
   "source": [
    "## KDiba Format:"
   ]
  },
  {
   "cell_type": "code",
   "execution_count": 3,
   "id": "7bcc9bf7-2502-40d1-9289-62d556bbb95b",
   "metadata": {
    "scrolled": true,
    "tags": []
   },
   "outputs": [
    {
     "name": "stdout",
     "output_type": "stream",
     "text": [
      "basedir is already Path object.\n",
      "Loading matlab import file results to R:\\data\\KDIBA\\gor01\\one\\2006-6-07_11-26-53\\2006-6-07_11-26-53.epochs_info.mat... done.\n",
      "Loading matlab import file results to R:\\data\\KDIBA\\gor01\\one\\2006-6-07_11-26-53\\2006-6-07_11-26-53.position_info.mat... done.\n",
      "Loading matlab import file results to R:\\data\\KDIBA\\gor01\\one\\2006-6-07_11-26-53\\2006-6-07_11-26-53.spikes.mat... done.\n",
      "Failure loading .position.npy. Must recompute.\n",
      "\n",
      "Computing linear positions for all active epochs for session... Saving updated position results results to R:\\data\\KDIBA\\gor01\\one\\2006-6-07_11-26-53\\2006-6-07_11-26-53.position.npy... 2006-6-07_11-26-53.position.npy saved\n",
      "done.\n",
      "\t force_recompute is True! Forcing recomputation of .interpolated_spike_positions.npy\n",
      "\n",
      "Computing interpolate_spike_positions columns results to spikes_df... done.\n",
      "\t Saving updated interpolated spike position results results to R:\\data\\KDIBA\\gor01\\one\\2006-6-07_11-26-53\\2006-6-07_11-26-53.interpolated_spike_positions.npy... 2006-6-07_11-26-53.interpolated_spike_positions.npy saved\n",
      "done.\n",
      "Loading matlab import file results to R:\\data\\KDIBA\\gor01\\one\\2006-6-07_11-26-53\\2006-6-07_11-26-53.laps_info.mat... done.\n",
      "setting laps object.\n",
      "session.laps loaded successfully!\n",
      "Loading success: .ripple.npy.\n",
      "Loading success: .mua.npy.\n",
      "Loading success: .pbe.npy.\n",
      "Computing spikes_df PBEs column results to spikes_df... done.\n",
      "Computing added spike scISI column results to spikes_df... done.\n",
      "Applying session filter named \"maze1\"...\n",
      "Constraining to units with type: pyramidal\n",
      "Constraining to epoch with times (start: 22.26, end: 1739.1533641185379)\n",
      "computing neurons mua for session...\n",
      "\n",
      "Performing evaluate_single_computation_params on filtered_session with filter named \"maze1\"...\n",
      "due to blacklist, including only 11 out of 12 registered computation functions.\n",
      "Recomputing active_epoch_placefields... \t done.\n",
      "Recomputing active_epoch_placefields2D... \t done.\n",
      "Recomputing active_epoch_time_dependent_placefields... \t done.\n",
      "Recomputing active_epoch_time_dependent_placefields2D... \t done.\n"
     ]
    }
   ],
   "source": [
    "# %%cache\n",
    "# from cached_property import cached_property\n",
    "active_data_mode_name = 'kdiba'\n",
    "active_data_mode_registered_class = active_data_session_types_registered_classes_dict[active_data_mode_name]\n",
    "active_data_mode_type_properties = known_data_session_type_properties_dict[active_data_mode_name]\n",
    "\n",
    "## Data must be pre-processed using the MATLAB script located here: \n",
    "# R:\\data\\KDIBA\\gor01\\one\\IIDataMat_Export_ToPython_2021_11_23.m\n",
    "# From pre-computed .mat files:\n",
    "## 07:\n",
    "# basedir = r'/run/media/halechr/MoverNew/data/KDIBA/gor01/one/2006-6-07_11-26-53' # Lab Linux Workstation\n",
    "basedir = r'R:\\data\\KDIBA\\gor01\\one\\2006-6-07_11-26-53'\n",
    "## 08:\n",
    "# basedir = r'R:\\data\\KDIBA\\gor01\\one\\2006-6-08_14-26-15'\n",
    "\n",
    "curr_kdiba_pipeline = NeuropyPipeline.init_from_known_data_session_type(active_data_mode_name, active_data_mode_type_properties, override_basepath=Path(basedir), override_post_load_functions=[])\n",
    "curr_active_pipeline = curr_kdiba_pipeline\n",
    "# active_session_filter_configurations = active_data_mode_registered_class.build_default_filter_functions(sess=curr_active_pipeline.sess) # build_filters_pyramidal_epochs(sess=curr_kdiba_pipeline.sess)\n",
    "active_session_filter_configurations = active_data_mode_registered_class.build_filters_pyramidal_epochs(sess=curr_active_pipeline.sess, epoch_name_whitelist=['maze1'])\n",
    "\n",
    "# active_session_computation_configs = active_data_mode_registered_class.build_default_computation_configs(sess=curr_active_pipeline.sess)\n",
    "active_session_computation_configs = build_eloy_computation_configs(sess=curr_active_pipeline.sess)\n",
    "curr_active_pipeline.filter_sessions(active_session_filter_configurations)\n",
    "# curr_active_pipeline.perform_computations(active_session_computation_configs[0], computation_functions_name_whitelist=['_perform_baseline_placefield_computation', '_perform_pf_find_ratemap_peaks_peak_prominence2d_computation'], debug_print=False)\n",
    "curr_active_pipeline.perform_computations(active_session_computation_configs[0], computation_functions_name_blacklist=['_perform_spike_burst_detection_computation'], debug_print=False) # whitelist: ['_perform_baseline_placefield_computation']\n",
    "curr_active_pipeline.prepare_for_display(should_smooth_maze=True) # TODO: pass a display config"
   ]
  },
  {
   "cell_type": "markdown",
   "id": "9b01c8b9-ffc2-4816-9de5-bfedc221699b",
   "metadata": {
    "jp-MarkdownHeadingCollapsed": true,
    "tags": []
   },
   "source": [
    "## Hiro Format:"
   ]
  },
  {
   "cell_type": "code",
   "execution_count": null,
   "id": "3c378a70-2365-49b1-8aa9-7e13a2e9c88c",
   "metadata": {
    "tags": []
   },
   "outputs": [],
   "source": [
    "active_data_mode_name = 'hiro'\n",
    "active_data_mode_registered_class = active_data_session_types_registered_classes_dict[active_data_mode_name]\n",
    "active_data_mode_type_properties = known_data_session_type_properties_dict[active_data_mode_name]\n",
    "## Data must be pre-processed using the MATLAB script located here: \n",
    "# C:\\Users\\pho\\repos\\PhoDibaLab_REM_HiddenMarkovModel\\DEVELOPMENT\\NeuroPyExporting2022\\PhoNeuroPyConvert_ExportAllToPython_MAIN.m\n",
    "# From pre-computed .mat files:\n",
    "## RoyMaze1: \n",
    "basedir = r'R:\\rMBP Python Repos 2022-07-07\\PhoNeuronGillespie2021CodeRepo\\PhoMatlabDataScripting\\ExportedData\\RoyMaze1'\n",
    "## RoyMaze2:\n",
    "# basedir = r'R:\\rMBP Python Repos 2022-07-07\\PhoNeuronGillespie2021CodeRepo\\PhoMatlabDataScripting\\ExportedData\\RoyMaze2'\n",
    "curr_hiro_pipeline = NeuropyPipeline.init_from_known_data_session_type(active_data_mode_name, active_data_mode_type_properties, override_basepath=Path(basedir))\n",
    "curr_active_pipeline = curr_hiro_pipeline"
   ]
  },
  {
   "cell_type": "code",
   "execution_count": null,
   "id": "84da66b8-bb69-4bb4-bd89-9139d8c7a89b",
   "metadata": {
    "scrolled": true
   },
   "outputs": [],
   "source": []
  },
  {
   "cell_type": "code",
   "execution_count": null,
   "id": "11153576-9d12-468d-b486-c1b7192af307",
   "metadata": {
    "scrolled": true
   },
   "outputs": [],
   "source": [
    "curr_active_pipeline.sess.epochs._data"
   ]
  },
  {
   "cell_type": "code",
   "execution_count": null,
   "id": "1e9deed4-bd7e-4ef4-b5f0-6e9f089daa03",
   "metadata": {
    "scrolled": true
   },
   "outputs": [],
   "source": [
    "## TODO: this fixes the epoch's labels after the fact, but it doesn't fix everything. [['pre_sleep'], ['track'], ['post_sleep']]\n",
    "curr_active_pipeline.sess.epochs._data.label = ['pre_sleep', 'track', 'post_sleep']\n",
    "\n",
    "# curr_active_pipeline.sess.epochs.labels = ['pre_sleep', 'track', 'post_sleep']"
   ]
  },
  {
   "cell_type": "code",
   "execution_count": null,
   "id": "7241f54e-ce3d-4225-865f-43d95ad6d025",
   "metadata": {
    "scrolled": true
   },
   "outputs": [],
   "source": [
    "curr_active_pipeline.sess.epochs['track']"
   ]
  },
  {
   "cell_type": "code",
   "execution_count": null,
   "id": "33cc0433-bb1c-4a04-a1ef-d73c04915efc",
   "metadata": {
    "scrolled": true
   },
   "outputs": [],
   "source": [
    "curr_active_pipeline.sess.neurons.t_start = curr_active_pipeline.sess.epochs['track'][0]"
   ]
  },
  {
   "cell_type": "code",
   "execution_count": null,
   "id": "75ad38bd-e736-4e03-94d3-75f6334882d4",
   "metadata": {
    "scrolled": true
   },
   "outputs": [],
   "source": [
    "# active_session_filter_configurations = active_data_mode_registered_class.build_default_filter_functions(sess=curr_active_pipeline.sess) # build_filters_pyramidal_epochs(sess=curr_kdiba_pipeline.sess)\n",
    "active_session_filter_configurations = active_data_mode_registered_class.build_track_only_filter_functions(sess=curr_active_pipeline.sess)\n",
    "active_session_computation_configs = active_data_mode_registered_class.build_default_computation_configs(sess=curr_active_pipeline.sess)"
   ]
  },
  {
   "cell_type": "code",
   "execution_count": null,
   "id": "2f39807b-8f4e-4166-8e56-3982b5c4d20f",
   "metadata": {
    "scrolled": true
   },
   "outputs": [],
   "source": [
    "curr_active_pipeline.filter_sessions(active_session_filter_configurations)"
   ]
  },
  {
   "cell_type": "code",
   "execution_count": null,
   "id": "60b59e3c-9124-4be0-a3f6-2991fdd78ad2",
   "metadata": {
    "scrolled": true
   },
   "outputs": [],
   "source": [
    "curr_active_pipeline.filtered_session_names\n",
    "curr_active_pipeline.filtered_epochs\n",
    "curr_active_pipeline.filtered_sessions['track']"
   ]
  },
  {
   "cell_type": "code",
   "execution_count": null,
   "id": "25fa159f-12d2-42ef-99f8-2be447ebbf51",
   "metadata": {
    "scrolled": true
   },
   "outputs": [],
   "source": [
    "curr_active_pipeline.perform_computations(active_session_computation_configs[0], computation_functions_name_blacklist=['_perform_spike_burst_detection_computation', '_perform_velocity_vs_pf_density_computation', '_perform_velocity_vs_pf_simplified_count_density_computation'])"
   ]
  },
  {
   "cell_type": "code",
   "execution_count": null,
   "id": "071333bc-01b5-4c09-978a-95e046e0e960",
   "metadata": {
    "scrolled": true
   },
   "outputs": [],
   "source": [
    "curr_active_pipeline.prepare_for_display(should_smooth_maze=True) # TODO: pass a display config"
   ]
  },
  {
   "cell_type": "markdown",
   "id": "75cbbfa0",
   "metadata": {},
   "source": [
    "# Common: Display\n",
    "Common visualization and display functions for both forms of data/pipelines:"
   ]
  },
  {
   "cell_type": "code",
   "execution_count": 5,
   "id": "1055d5ea-611c-44a2-a04e-e2bc4a475b3f",
   "metadata": {
    "scene__Default Scene": true,
    "tags": [
     "ActiveScene"
    ]
   },
   "outputs": [
    {
     "name": "stdout",
     "output_type": "stream",
     "text": [
      "active_computed_data.keys(): ['pf1D', 'pf2D', 'pf1D_dt', 'pf2D_dt', 'pf2D_Decoder', 'pf2D_TwoStepDecoder', 'EloyAnalysis', 'SimplerNeuronMeetingThresholdFiringAnalysis', 'RatemapPeaksAnalysis', 'extended_stats', 'firing_rate_trends', 'placefield_overlap']\n",
      "active_computation_errors: {}\n"
     ]
    }
   ],
   "source": [
    "# %%heat\n",
    "# To view the heatmap\n",
    "active_config_name = 'maze1'\n",
    "# active_config_name = 'maze2'\n",
    "# active_config_name = 'maze'\n",
    "\n",
    "# Get relevant variables:\n",
    "# curr_active_pipeline is set above, and usable here\n",
    "sess: DataSession = curr_active_pipeline.filtered_sessions[active_config_name]\n",
    "\n",
    "active_computation_results = curr_active_pipeline.computation_results[active_config_name]\n",
    "active_computed_data = curr_active_pipeline.computation_results[active_config_name].computed_data\n",
    "active_computation_config = curr_active_pipeline.computation_results[active_config_name].computation_config\n",
    "active_computation_errors = curr_active_pipeline.computation_results[active_config_name].accumulated_errors\n",
    "print(f'active_computed_data.keys(): {list(active_computed_data.keys())}')\n",
    "print(f'active_computation_errors: {active_computation_errors}')\n",
    "active_pf_1D = curr_active_pipeline.computation_results[active_config_name].computed_data['pf1D']\n",
    "active_pf_2D = curr_active_pipeline.computation_results[active_config_name].computed_data['pf2D']    \n",
    "active_pf_1D_dt = curr_active_pipeline.computation_results[active_config_name].computed_data.get('pf1D_dt', None)\n",
    "active_pf_2D_dt = curr_active_pipeline.computation_results[active_config_name].computed_data.get('pf2D_dt', None)\n",
    "active_one_step_decoder = curr_active_pipeline.computation_results[active_config_name].computed_data.get('pf2D_Decoder', None)\n",
    "active_two_step_decoder = curr_active_pipeline.computation_results[active_config_name].computed_data.get('pf2D_TwoStepDecoder', None)\n",
    "active_eloy_analysis = curr_active_pipeline.computation_results[active_config_name].computed_data.get('EloyAnalysis', None)\n",
    "active_simpler_pf_densities_analysis = curr_active_pipeline.computation_results[active_config_name].computed_data.get('SimplerNeuronMeetingThresholdFiringAnalysis', None)\n",
    "active_ratemap_peaks_analysis = curr_active_pipeline.computation_results[active_config_name].computed_data.get('RatemapPeaksAnalysis', None)\n",
    "active_peak_prominence_2d_results = curr_active_pipeline.computation_results[active_config_name].computed_data.get('RatemapPeaksAnalysis', {}).get('PeakProminence2D', None)\n",
    "active_measured_positions = curr_active_pipeline.computation_results[active_config_name].sess.position.to_dataframe()\n",
    "curr_spikes_df = sess.spikes_df\n",
    "\n",
    "curr_active_config = curr_active_pipeline.active_configs[active_config_name]\n",
    "curr_active_display_config = curr_active_config.plotting_config\n",
    "\n",
    "display_output = dict()"
   ]
  },
  {
   "cell_type": "code",
   "execution_count": null,
   "id": "946aba66-7b1f-4e4e-ba8a-f5dde1262009",
   "metadata": {
    "scene__Default Scene": true,
    "tags": [
     "ActiveScene"
    ]
   },
   "outputs": [],
   "source": [
    "list(active_computation_errors.values())[0]"
   ]
  },
  {
   "cell_type": "code",
   "execution_count": null,
   "id": "17e80419-8f0e-4ddf-825b-d138f99553bb",
   "metadata": {
    "scene__Default Scene": true,
    "tags": [
     "ActiveScene"
    ]
   },
   "outputs": [],
   "source": [
    "err_fn = list(active_computation_errors.keys())[0]\n",
    "err_fn"
   ]
  },
  {
   "cell_type": "code",
   "execution_count": null,
   "id": "3b9b2490-3d33-4f63-99c3-a67a7d8999b7",
   "metadata": {
    "scene__Default Scene": true,
    "tags": [
     "ActiveScene"
    ]
   },
   "outputs": [],
   "source": [
    "err_fn.__name__ # '_perform_pf_find_ratemap_peaks_peak_prominence2d_computation'"
   ]
  },
  {
   "cell_type": "markdown",
   "id": "c664c89c-1e98-4184-bac1-ed93301be0b4",
   "metadata": {
    "jp-MarkdownHeadingCollapsed": true,
    "pycharm": {
     "is_executing": false,
     "name": "#%%\n"
    },
    "tags": []
   },
   "source": [
    "## 3D Interactive Spike Raster Window"
   ]
  },
  {
   "cell_type": "code",
   "execution_count": null,
   "id": "633d7e18-332a-4e3d-90cd-f252e5120a26",
   "metadata": {
    "pycharm": {
     "is_executing": false,
     "name": "#%%\n"
    },
    "scene__Default Scene": true,
    "tags": [
     "ActiveScene"
    ]
   },
   "outputs": [],
   "source": [
    "from pyphoplacecellanalysis.GUI.Qt.SpikeRasterWindows.Spike3DRasterWindowWidget import Spike3DRasterWindowWidget\n",
    "\n",
    "display_output = display_output | curr_active_pipeline.display('_display_spike_rasters_window', active_config_name, active_config_name=active_config_name)\n",
    "spike_raster_window = display_output['spike_raster_window']\n",
    "# spike_raster_plt_2d = display_output['spike_raster_plt_2d']\n",
    "# spike_raster_plt_3d = display_output['spike_raster_plt_3d']"
   ]
  },
  {
   "cell_type": "code",
   "execution_count": null,
   "id": "961fc78f-825c-45f8-85cd-40265476b514",
   "metadata": {
    "pycharm": {
     "is_executing": false,
     "name": "#%%\n"
    }
   },
   "outputs": [],
   "source": [
    "spike_raster_window = Spike3DRasterWindowWidget(curr_spikes_df, application_name=f'Spike Raster Window - {active_config_name}')\n",
    "# spike_raster_window = Spike3DRasterWindowWidget(curr_spikes_df, neuron_colors=curr_active_display_config.pf_colors.copy(), neuron_sort_order=None, application_name=f'Spike Raster Window - {active_config_name}')\n",
    "# spike_raster_window = Spike3DRasterWindowWidget(curr_spikes_df, neuron_colors=provided_neuron_id_to_color_map, neuron_sort_order=None, application_name=f'Spike Raster Window - {active_config_name}')\n",
    "# spike_raster_window = Spike3DRasterWindowWidget(curr_spikes_df, neuron_colors=ipcDataExplorer.active_neuron_render_configs_map) # Test passing in an existing render configs map\n",
    "# Set Window Title Options:\n",
    "spike_raster_window.setWindowFilePath(str(sess.filePrefix.resolve()))\n",
    "spike_raster_window.setWindowTitle(f'Spike Raster Window - {active_config_name} - {str(sess.filePrefix.resolve())}')"
   ]
  },
  {
   "cell_type": "code",
   "execution_count": null,
   "id": "cfac2b10-24d9-4351-aa27-a50db7bd6fe8",
   "metadata": {
    "pycharm": {
     "is_executing": false,
     "name": "#%%\n"
    }
   },
   "outputs": [],
   "source": [
    "spike_raster_window.spike_raster_plt_2d.cell_id_to_fragile_linear_neuron_IDX_map"
   ]
  },
  {
   "cell_type": "code",
   "execution_count": null,
   "id": "940dbb3c-04ed-4eca-bfea-17ce341bb6c5",
   "metadata": {
    "pycharm": {
     "is_executing": false,
     "name": "#%%\n"
    }
   },
   "outputs": [],
   "source": [
    "from pyphoplacecellanalysis.Pho3D.Mixins.Test import Test"
   ]
  },
  {
   "cell_type": "code",
   "execution_count": null,
   "id": "3d80d4b4-245f-4846-9f90-09406f6de827",
   "metadata": {
    "pycharm": {
     "is_executing": false,
     "name": "#%%\n"
    }
   },
   "outputs": [],
   "source": [
    "## Set the colors of the raster window from the tuning curve window:\n",
    "spike_raster_window.update_neurons_color_data(updated_neuron_render_configs=provided_neuron_id_to_color_map)"
   ]
  },
  {
   "cell_type": "code",
   "execution_count": null,
   "id": "0171a604-4f5a-4a22-b227-3915fee3c759",
   "metadata": {
    "pycharm": {
     "is_executing": false,
     "name": "#%%\n"
    }
   },
   "outputs": [],
   "source": [
    "# Setup Connections Menu:\n",
    "root_window, menuConnections, actions_dict = ConnectionControlsMenuMixin.try_add_connections_menu(spike_raster_window) # none of these properties need to be "
   ]
  },
  {
   "cell_type": "markdown",
   "id": "01c287e4-bb8b-4626-8942-603ab3f63c86",
   "metadata": {
    "pycharm": {
     "is_executing": false,
     "name": "#%%\n"
    }
   },
   "source": [
    "### Test building a second spike_raster_window for a different epoch:"
   ]
  },
  {
   "cell_type": "code",
   "execution_count": null,
   "id": "8110cf85-ca28-41b1-990e-a0041e52fcf8",
   "metadata": {
    "pycharm": {
     "is_executing": false,
     "name": "#%%\n"
    }
   },
   "outputs": [],
   "source": [
    "secondary_active_config_name = 'maze2'\n",
    "secondary_spikes_df = curr_active_pipeline.filtered_sessions[secondary_active_config_name].spikes_df\n",
    "spike_raster_window_second_epoch = Spike3DRasterWindowWidget(secondary_spikes_df, application_name=f'Spike Raster Window - {secondary_active_config_name}', type_of_3d_plotter='vedo')\n",
    "# Set Window Title Options:\n",
    "spike_raster_window_second_epoch.setWindowFilePath(str(sess.filePrefix.resolve()))\n",
    "spike_raster_window_second_epoch.setWindowTitle(f'Spike Raster Window - {secondary_active_config_name} - {str(sess.filePrefix.resolve())}')\n",
    "spike_raster_window_second_epoch"
   ]
  },
  {
   "cell_type": "code",
   "execution_count": null,
   "id": "bf55174f-5b7c-473b-934d-cdbce2f55782",
   "metadata": {
    "pycharm": {
     "is_executing": false,
     "name": "#%%\n"
    }
   },
   "outputs": [],
   "source": [
    "spike_raster_window.spikes_df # has scISI column!\n"
   ]
  },
  {
   "cell_type": "code",
   "execution_count": null,
   "id": "57313baa-25c0-4079-a87b-a3ee5ddfc8fe",
   "metadata": {
    "pycharm": {
     "is_executing": false,
     "name": "#%%\n"
    }
   },
   "outputs": [],
   "source": [
    "spike_raster_window.connection_man"
   ]
  },
  {
   "cell_type": "code",
   "execution_count": null,
   "id": "b7852860-7ee4-42aa-8666-dec67d5c6e08",
   "metadata": {
    "pycharm": {
     "is_executing": false,
     "name": "#%%\n"
    }
   },
   "outputs": [],
   "source": [
    "spike_raster_window.connection_man.active_connections"
   ]
  },
  {
   "cell_type": "code",
   "execution_count": null,
   "id": "471b8f08-3c3b-49cc-9d49-291abe408beb",
   "metadata": {
    "pycharm": {
     "is_executing": false,
     "name": "#%%\n"
    }
   },
   "outputs": [],
   "source": [
    "spike_raster_window.connection_man.get_available_drivers()"
   ]
  },
  {
   "cell_type": "markdown",
   "id": "54772efe-ce98-40b6-9153-8ce533cdb0a8",
   "metadata": {
    "pycharm": {
     "is_executing": false,
     "name": "#%%\n"
    },
    "tags": []
   },
   "source": [
    "## ipcDataExplorer - 3D Interactive Tuning Curves Plotter"
   ]
  },
  {
   "cell_type": "code",
   "execution_count": null,
   "id": "bd6b4aa0-49aa-4835-bb93-8757b26b6d86",
   "metadata": {
    "pycharm": {
     "is_executing": false,
     "name": "#%%\n"
    },
    "tags": []
   },
   "outputs": [],
   "source": [
    "pActiveTuningCurvesPlotter = None\n",
    "display_output = display_output | curr_active_pipeline.display('_display_3d_interactive_tuning_curves_plotter', active_config_name, extant_plotter=display_output.get('pActiveTuningCurvesPlotter', None), panel_controls_mode='Qt', should_nan_non_visited_elements=False, zScalingFactor=2000.0, separate_window=False) # Works now!\n",
    "ipcDataExplorer = display_output['ipcDataExplorer']\n",
    "display_output['pActiveTuningCurvesPlotter'] = display_output.pop('plotter') # rename the key from the generic \"plotter\" to \"pActiveSpikesBehaviorPlotter\" to avoid collisions with others\n",
    "pActiveTuningCurvesPlotter = display_output['pActiveTuningCurvesPlotter']\n",
    "root_dockAreaWindow, placefieldControlsContainerWidget, pf_widgets = display_output['pane'] # for Qt mode:"
   ]
  },
  {
   "cell_type": "code",
   "execution_count": null,
   "id": "1e2c87ff-1d42-4aa7-8918-0655eaee07be",
   "metadata": {},
   "outputs": [],
   "source": [
    "# ipcDataExplorer.ui.btnToggleOccupancy\n",
    "# ipcDataExplorer.ui.btnNonPlacefieldSpikes\n",
    "# ipcDataExplorer.spikes_df.columns # [..., 'is_pf_included', 'render_opacity', 'render_exclusion_mask', 'old_fragile_linear_neuron_IDX', 'neuron_IDX', 'rgb_hex', 'R', 'G', 'B', 'z_fixed']\n",
    "\n",
    "# ipcDataExplorer.spikes_df['z_fixed'] = 0.0\n",
    "ipcDataExplorer.change_spike_rows_included(row_specifier_mask=np.logical_not(ipcDataExplorer.spikes_df['is_pf_included'].to_numpy()), are_included=False) # Exclude the non-pf spikes"
   ]
  },
  {
   "cell_type": "code",
   "execution_count": null,
   "id": "21a28bd2-2028-4ade-90da-19d17d44bdf6",
   "metadata": {},
   "outputs": [],
   "source": [
    "ipcDataExplorer.spikes_df"
   ]
  },
  {
   "cell_type": "code",
   "execution_count": null,
   "id": "a4c853bf-dd22-4466-b79c-56f60444df5d",
   "metadata": {},
   "outputs": [],
   "source": [
    "ipcDataExplorer.change_spike_rows_included(row_specifier_mask=np.logical_not(ipcDataExplorer.spikes_df['is_pf_included'].to_numpy()), are_included=True) # Include the non-pf spikes"
   ]
  },
  {
   "cell_type": "code",
   "execution_count": null,
   "id": "50cc0ddc-7c17-4825-b9ae-b33c50acbae3",
   "metadata": {},
   "outputs": [],
   "source": [
    "ipcDataExplorer.update_spikes()"
   ]
  },
  {
   "cell_type": "code",
   "execution_count": null,
   "id": "38330441-803b-4dac-984b-a61e82a55b4a",
   "metadata": {},
   "outputs": [],
   "source": [
    "# ipcDataExplorer.spikes_df['render_opacity'] = ipcDataExplorer.spikes_df['render_opacity'](ipcDataExplorer.spikes_df['render_opacity'] == 1.0) np.min(ipcDataExplorer.spikes_df['render_opacity'], 0.5)\n",
    "ipcDataExplorer.spike_exclusion_mask"
   ]
  },
  {
   "cell_type": "code",
   "execution_count": null,
   "id": "012dc311-cd79-4e0c-ad19-33238a97ce40",
   "metadata": {},
   "outputs": [],
   "source": [
    "ipcDataExplorer.plots['spikes_pf_active']"
   ]
  },
  {
   "cell_type": "code",
   "execution_count": null,
   "id": "7318a2e1-af08-4463-8632-80ef7a0b4217",
   "metadata": {},
   "outputs": [],
   "source": [
    "placefieldControlsContainerWidget"
   ]
  },
  {
   "cell_type": "markdown",
   "id": "5d03258f-0f26-4b45-9c90-17767d1c2b8e",
   "metadata": {
    "pycharm": {
     "is_executing": false,
     "name": "#%%\n"
    }
   },
   "source": [
    "### Setup Extra Buttons"
   ]
  },
  {
   "cell_type": "code",
   "execution_count": null,
   "id": "60dc5178-7972-4974-8ec4-9034c5100a94",
   "metadata": {},
   "outputs": [],
   "source": [
    "ipcDataExplorer.occupancy_plotting_config.barOpacity = 0.25"
   ]
  },
  {
   "cell_type": "code",
   "execution_count": null,
   "id": "4f24e744-f8d6-4b86-8ed9-e640fd6b6552",
   "metadata": {},
   "outputs": [],
   "source": [
    "placefieldControlsContainerWidget.ui.end_button_helper_connections"
   ]
  },
  {
   "cell_type": "markdown",
   "id": "bb64e0d4-73ed-475e-92a5-816e0e0bc33f",
   "metadata": {
    "jp-MarkdownHeadingCollapsed": true,
    "pycharm": {
     "is_executing": false,
     "name": "#%%\n"
    },
    "tags": []
   },
   "source": [
    "## Optional Duplicate ipcDataExplorer plotter for comparison"
   ]
  },
  {
   "cell_type": "code",
   "execution_count": null,
   "id": "79271397-1108-43cc-a7f9-12221ff539d0",
   "metadata": {
    "pycharm": {
     "is_executing": false,
     "name": "#%%\n"
    },
    "tags": []
   },
   "outputs": [],
   "source": [
    "pActiveTuningCurvesPlotter_dup = None\n",
    "display_output = display_output | curr_active_pipeline.display('_display_3d_interactive_tuning_curves_plotter', active_config_name, extant_plotter=display_output.get('pActiveTuningCurvesPlotter_dup', None), panel_controls_mode='Qt', should_nan_non_visited_elements=False, zScalingFactor=2000.0) # Works now!\n",
    "ipcDataExplorer_dup = display_output['ipcDataExplorer']\n",
    "display_output['pActiveTuningCurvesPlotter_dup'] = display_output.pop('plotter') # rename the key from the generic \"plotter\" to \"pActiveSpikesBehaviorPlotter\" to avoid collisions with others\n",
    "pActiveTuningCurvesPlotter_dup = display_output['pActiveTuningCurvesPlotter_dup']\n",
    "root_dockAreaWindow_dup, placefieldControlsContainerWidget_dup, pf_widgets_dup = display_output['pane'] # for Qt mode:"
   ]
  },
  {
   "cell_type": "markdown",
   "id": "f9304f0f-c99c-42a1-af10-850772ace7fc",
   "metadata": {
    "pycharm": {
     "is_executing": false,
     "name": "#%%\n"
    },
    "tags": []
   },
   "source": [
    "## Filter to include only spikes that were used in the computation of placefields:"
   ]
  },
  {
   "cell_type": "code",
   "execution_count": null,
   "id": "e3d59cbd-d0fd-459a-bf2e-d8245b329494",
   "metadata": {},
   "outputs": [],
   "source": [
    "## Call update_spikes() to render the changes:\n",
    "ipcDataExplorer.update_spikes()"
   ]
  },
  {
   "cell_type": "markdown",
   "id": "03c7f6f6-519c-4eef-9661-7ff9262d4d6e",
   "metadata": {
    "tags": []
   },
   "source": [
    "### Render computed contours and peaks to ipcDataExplorer:"
   ]
  },
  {
   "cell_type": "code",
   "execution_count": null,
   "id": "5bb8fdf3-4e20-4c96-aeec-92eba1adbc74",
   "metadata": {},
   "outputs": [],
   "source": [
    "from pyphoplacecellanalysis.PhoPositionalData.plotting.peak_prominences import render_all_neuron_peak_prominence_2d_results_on_pyvista_plotter\n",
    "## Call the function to add the 3D plot components to the pyvista plotter\n",
    "render_all_neuron_peak_prominence_2d_results_on_pyvista_plotter(ipcDataExplorer, active_peak_prominence_2d_results, debug_print=False)"
   ]
  },
  {
   "cell_type": "code",
   "execution_count": null,
   "id": "171e6a5b-045a-4838-a90c-9d6edf0b4522",
   "metadata": {
    "pycharm": {
     "is_executing": false,
     "name": "#%%\n"
    }
   },
   "outputs": [],
   "source": [
    "## Set the colors of the raster window from the tuning curve window:\n",
    "spike_raster_window.update_neurons_color_data(updated_neuron_render_configs=ipcDataExplorer.active_neuron_render_configs_map)"
   ]
  },
  {
   "cell_type": "code",
   "execution_count": null,
   "id": "05215ea8-1ea0-405c-a3f9-27c50b4381fd",
   "metadata": {
    "pycharm": {
     "is_executing": false,
     "name": "#%%\n"
    }
   },
   "outputs": [],
   "source": [
    "ipcDataExplorer.p.enable_depth_peeling(10, occlusion_ratio=0) # This fixes many of the rendering issues of the placefields, but does slow things way down. \n",
    "# ipcDataExplorer.p.enable_depth_peeling(number_of_peels=4, occlusion_ratio=0)\n",
    "# ipcDataExplorer.p.disable_depth_peeling()\n",
    "# ipcDataExplorer.p.enable_depth_peeling(10)"
   ]
  },
  {
   "cell_type": "code",
   "execution_count": null,
   "id": "1b73687a-2e03-4229-aacb-cc4e515b5b8b",
   "metadata": {
    "pycharm": {
     "is_executing": false,
     "name": "#%%\n"
    }
   },
   "outputs": [],
   "source": [
    "## Change background color:\n",
    "ipcDataExplorer.params.plotter_backgrounds"
   ]
  },
  {
   "cell_type": "code",
   "execution_count": null,
   "id": "59f93993-a516-4220-989a-a1b9a1680ed2",
   "metadata": {
    "pycharm": {
     "is_executing": false,
     "name": "#%%\n"
    }
   },
   "outputs": [],
   "source": [
    "ipcDataExplorer.set_background('Deep Space (Dark)')"
   ]
  },
  {
   "cell_type": "code",
   "execution_count": null,
   "id": "2f230154-b169-4f44-b990-5fd2bf20816d",
   "metadata": {
    "pycharm": {
     "is_executing": false,
     "name": "#%%\n"
    }
   },
   "outputs": [],
   "source": [
    "ipcDataExplorer.set_background('Purple Paradise')"
   ]
  },
  {
   "cell_type": "code",
   "execution_count": null,
   "id": "2c81c8aa-0165-443a-a529-5d5a613da343",
   "metadata": {
    "pycharm": {
     "is_executing": false,
     "name": "#%%\n"
    }
   },
   "outputs": [],
   "source": [
    "ipcDataExplorer.plot_placefields()"
   ]
  },
  {
   "cell_type": "code",
   "execution_count": null,
   "id": "a2925b1e-762d-49e8-9aa7-849ab19d9a63",
   "metadata": {
    "pycharm": {
     "is_executing": false,
     "name": "#%%\n"
    }
   },
   "outputs": [],
   "source": [
    "ipcDataExplorer.params.zScalingFactor"
   ]
  },
  {
   "cell_type": "code",
   "execution_count": null,
   "id": "616ba60d-0756-489a-a407-bd765035f879",
   "metadata": {},
   "outputs": [],
   "source": [
    "# ipcDataExplorer.toggle_plot_visibility() # Looks like it works for generally specified plot key\n",
    "# ipcDataExplorer.get_plot_objects_list\n",
    "\n",
    "# ['main', 'points', 'peaks']\n",
    "list(ipcDataExplorer.tuning_curve_plot_actors[2].keys())\n",
    "# 'tuningCurvePlotActors'"
   ]
  },
  {
   "cell_type": "code",
   "execution_count": null,
   "id": "94d703b8-edb2-472d-a97f-74c0c594c3cf",
   "metadata": {},
   "outputs": [],
   "source": [
    "curr_tuning_curve_data = ipcDataExplorer.plots_data['tuningCurvePlotData'][2]\n",
    "curr_pdata = curr_tuning_curve_data['pdata_currActiveNeuronTuningCurve'] # StructuredGrid\n",
    "curr_pdata_points = curr_tuning_curve_data['pdata_currActiveNeuronTuningCurve_Points'] # UnstructuredGrid\n",
    "curr_pdata_points\n",
    "# curr_pdata\n",
    "# {'curr_active_neuron_ID': 2,\n",
    "#  'curr_active_neuron_pf_identifier': 'pf[2]',\n",
    "#  'curr_active_neuron_tuning_Curve': array([[0.437126, 0.818305, 1.48319, ..., 0.0155238, 0.0067005, 0.00294359],\n",
    "#         [0.347969, 0.64914, 1.17457, ..., 0.0388841, 0.0167967, 0.00739304],\n",
    "#         [0.228976, 0.415578, 0.741638, ..., 0.0922773, 0.0399187, 0.0176301],\n",
    "#         ...,\n",
    "#         [0, 0, 0, ..., 0.0989772, 0.0683015, 0.0467108],\n",
    "#         [0, 0, 0, ..., 0.0407058, 0.0284058, 0.0195678],\n",
    "#         [0, 0, 0, ..., 0.0158926, 0.0112009, 0.00776478]]),\n",
    "#  'pdata_currActiveNeuronTuningCurve': StructuredGrid (0x24d816a7f40)\n",
    "#    N Cells:\t1764\n",
    "#    N Points:\t1856\n",
    "#    X Bounds:\t2.581e+01, 2.638e+02\n",
    "#    Y Bounds:\t1.244e+02, 1.536e+02\n",
    "#    Z Bounds:\t0.000e+00, 1.703e+01\n",
    "#    Dimensions:\t29, 64, 1\n",
    "#    N Arrays:\t3,\n",
    "#  'pdata_currActiveNeuronTuningCurve_Points': UnstructuredGrid (0x24d815b4dc0)\n",
    "#    N Cells:\t1716\n",
    "#    N Points:\t1812\n",
    "#    X Bounds:\t2.581e+01, 2.638e+02\n",
    "#    Y Bounds:\t1.244e+02, 1.536e+02\n",
    "#    Z Bounds:\t0.000e+00, 1.703e+01\n",
    "#    N Arrays:\t3,\n",
    "#  'lut': <vtkmodules.vtkCommonCore.vtkLookupTable(0x0000024D9A888950) at 0x0000024DAA8F35E0>,\n",
    "#  'peaks':\n",
    "#  ...\n",
    "\n",
    "surf = curr_pdata.extract_surface() # <class 'pyvista.core.pointset.PolyData'>\n",
    "surf\n",
    "\n",
    "# surf = curr_pdata_points.reconstruct_surface() # this does not work at all\n",
    "# surf\n",
    "# curr_pdata_points.length\n",
    "\n",
    "# active_points_data = curr_pdata_points.points.copy()\n",
    "# active_points_data = curr_pdata.copy()\n",
    "active_points_data = surf.copy()\n",
    "origin = active_points_data.center.copy()\n",
    "origin[-1] = origin[-1] - (active_points_data.length/3.0)\n",
    "origin\n",
    "projected = active_points_data.project_points_to_plane(origin=origin)\n",
    "projected"
   ]
  },
  {
   "cell_type": "code",
   "execution_count": null,
   "id": "c6ad079b-a48a-40df-8e2b-1554c40dbb6a",
   "metadata": {},
   "outputs": [],
   "source": [
    "edges = curr_pdata.extract_all_edges()\n",
    "edges.plot(line_width=1, color='k')"
   ]
  },
  {
   "cell_type": "code",
   "execution_count": null,
   "id": "6c69e63a-417b-4aa8-ae6f-022dd38172d8",
   "metadata": {},
   "outputs": [],
   "source": [
    "# non_visited_mask = active_placefields.never_visited_occupancy_mask\n",
    "non_visited_mask = ipcDataExplorer.params.active_epoch_placefields.never_visited_occupancy_mask.copy()\n",
    "non_visited_mask"
   ]
  },
  {
   "cell_type": "code",
   "execution_count": null,
   "id": "025eff68-851b-4dc0-9443-577e9bff1128",
   "metadata": {},
   "outputs": [],
   "source": [
    "flat_non_visited_mask = non_visited_mask.T.copy().ravel(order=\"F\")\n",
    "# flat_non_visited_mask.shape # (1856,)"
   ]
  },
  {
   "cell_type": "code",
   "execution_count": null,
   "id": "9fe38f1d-c08d-4596-bdfc-6fb043b7e716",
   "metadata": {},
   "outputs": [],
   "source": [
    "# Only if VTK > 9.1.X does this return a PointData, otherwise returns None\n",
    "# _ = curr_pdata.hide_points(ind=flat_non_visited_mask)\n",
    "curr_pdata.hide_cells(flat_non_visited_mask, inplace=True)\n",
    "# curr_updated_pdata_points = curr_pdata_points.hide_points(non_visited_mask).copy()\n",
    "# curr_updated_pdata_points\n",
    "# List or array of point indices to be hidden. The array can also be a boolean array of the same size as the number of points.\n"
   ]
  },
  {
   "cell_type": "code",
   "execution_count": null,
   "id": "42ddd7fa-79c5-4327-b1d6-356dab63d2af",
   "metadata": {},
   "outputs": [],
   "source": [
    "import pyvista as pv\n",
    "pl = pv.Plotter(shape=(1,2))\n",
    "pl.add_mesh(curr_pdata_points)\n",
    "pl.add_title('points')\n",
    "pl.subplot(0,1)\n",
    "pl.add_mesh(curr_pdata, color=True, show_edges=True)\n",
    "pl.add_mesh(surf, color=True, show_edges=True)\n",
    "pl.add_mesh(projected)\n",
    "pl.add_mesh(curr_pdata)\n",
    "pl.add_title('reconstructed from points')\n",
    "pl.show()"
   ]
  },
  {
   "cell_type": "code",
   "execution_count": null,
   "id": "d10263fd-80b8-495a-96f3-3bdcd24d579f",
   "metadata": {},
   "outputs": [],
   "source": [
    "curr_tuning_curve_plot = ipcDataExplorer.tuning_curve_plot_actors[2]['main']\n",
    "curr_tuning_curve_plot.GetShaderProperty()"
   ]
  },
  {
   "cell_type": "code",
   "execution_count": null,
   "id": "292d8616-2a6d-47df-9a9f-c48b1a8f8369",
   "metadata": {},
   "outputs": [],
   "source": [
    "sess_spikes_df"
   ]
  },
  {
   "cell_type": "markdown",
   "id": "172de269-4476-4326-afb4-25f85d1b3fde",
   "metadata": {},
   "source": [
    "## Test Programmatically Adding GUI/UI controls for additional plots (Occupancy, etc)"
   ]
  },
  {
   "cell_type": "code",
   "execution_count": null,
   "id": "ecac9586-f8f6-46a9-9db1-699e55ab9b87",
   "metadata": {},
   "outputs": [],
   "source": [
    "# ipcDataExplorer.ui.placefieldControlsContainerWidget # PlacefieldVisualSelectionControlsBarWidget\n",
    "# ipcDataExplorer.ui.placefieldControlsContainerWidget.ui.pf_layout # QHBoxLayout \n",
    "curr_neuron_widget = ipcDataExplorer.ui.placefieldControlsContainerWidget.ui.pf_widgets[0] # Grab single neuron widget (PlacefieldVisualSelectionWidget)\n",
    "curr_layout = curr_neuron_widget.ui.groupBox.layout() # QVBoxLayout "
   ]
  },
  {
   "cell_type": "code",
   "execution_count": null,
   "id": "fbe608c3-4fce-447e-8838-3ad7fc0a5af4",
   "metadata": {},
   "outputs": [],
   "source": [
    "chkbtnProminenceMetrics = curr_neuron_widget.build_ui_toggle_button(name='chkbtnProminenceMetrics', text='prominences', parent=curr_neuron_widget.ui.groupBox)\n",
    "curr_layout.addWidget(chkbtnProminenceMetrics)"
   ]
  },
  {
   "cell_type": "markdown",
   "id": "227459be-04d7-45c9-afbf-a24738457975",
   "metadata": {},
   "source": [
    "<!-- ### Occupancy Toggle -->"
   ]
  },
  {
   "cell_type": "code",
   "execution_count": null,
   "id": "2c33a867-30b8-42c5-8ffb-b200668a5daf",
   "metadata": {},
   "outputs": [],
   "source": [
    "# ipcDataExplorer.on_occupancy_plot_update_visibility\n",
    "ipcDataExplorer.occupancy_plotting_config.isVisible = False"
   ]
  },
  {
   "cell_type": "code",
   "execution_count": null,
   "id": "b22f2eb1-48d2-4ee8-866f-f4c9c935f2d3",
   "metadata": {
    "pycharm": {
     "is_executing": false,
     "name": "#%%\n"
    }
   },
   "outputs": [],
   "source": [
    "ipcDataExplorer.plot_occupancy_bars()"
   ]
  },
  {
   "cell_type": "code",
   "execution_count": null,
   "id": "b3cf8d81-d70e-4b02-b824-e175f409b236",
   "metadata": {
    "pycharm": {
     "is_executing": false,
     "name": "#%%\n"
    }
   },
   "outputs": [],
   "source": [
    "ipcDataExplorer.occupancy_plotting_config.labelsAreVisible = True # Setting this to true renders the labels at each occupancy bin"
   ]
  },
  {
   "cell_type": "code",
   "execution_count": null,
   "id": "98ba03ff-5740-40e8-b975-2b2c2750b713",
   "metadata": {
    "pycharm": {
     "is_executing": false,
     "name": "#%%\n"
    }
   },
   "outputs": [],
   "source": [
    "ipcDataExplorer.occupancy_plotting_config.labelsShowPoints = True"
   ]
  },
  {
   "cell_type": "code",
   "execution_count": null,
   "id": "c8e7eec0-acd1-41d5-964a-8692f7e42c09",
   "metadata": {
    "pycharm": {
     "is_executing": false,
     "name": "#%%\n"
    }
   },
   "outputs": [],
   "source": [
    "ipcDataExplorer.params.should_nan_non_visited_elements = False"
   ]
  },
  {
   "cell_type": "code",
   "execution_count": null,
   "id": "023b14ee-1686-4855-acd4-ae3fe24e001a",
   "metadata": {
    "pycharm": {
     "is_executing": false,
     "name": "#%%\n"
    }
   },
   "outputs": [],
   "source": [
    "filtered_indices = sess_spikes_df.index.values[active_pf_2D.filtered_spikes_df.index]\n",
    "# filtered_sess_spikes_df = sess_spikes_df[sess_spikes_df.index == active_pf_2D.filtered_spikes_df.index]\n",
    "# filtered_sess_spikes_df = sess_spikes_df[sess_spikes_df['flat_spike_idx'] == active_pf_2D.filtered_spikes_df.flat_spike_idx]\n",
    "# filtered_sess_spikes_df"
   ]
  },
  {
   "cell_type": "code",
   "execution_count": null,
   "id": "a7e42890-2a5a-4a5d-be5b-ad3b7b9f8c6b",
   "metadata": {
    "pycharm": {
     "is_executing": false,
     "name": "#%%\n"
    }
   },
   "outputs": [],
   "source": [
    "ipcDataExplorer.occupancy_plotting_config.isVisible = False"
   ]
  },
  {
   "cell_type": "code",
   "execution_count": null,
   "id": "4cad4711-3f5d-44c3-9fc1-bd1465a86a70",
   "metadata": {
    "pycharm": {
     "is_executing": false,
     "name": "#%%\n"
    }
   },
   "outputs": [],
   "source": [
    "ipcDataExplorer.occupancy_plotting_config"
   ]
  },
  {
   "cell_type": "markdown",
   "id": "5780219e-f3f0-4184-ad7e-c2d6111adadb",
   "metadata": {
    "jp-MarkdownHeadingCollapsed": true,
    "pycharm": {
     "is_executing": false,
     "name": "#%%\n"
    },
    "tags": []
   },
   "source": [
    "## ipspikesDataExplorer - 3D Interactive Spike and Behavior Plotter"
   ]
  },
  {
   "cell_type": "code",
   "execution_count": null,
   "id": "3ac70061-9e27-48cc-ae89-b01836c3d4c2",
   "metadata": {
    "pycharm": {
     "is_executing": false,
     "name": "#%%\n"
    },
    "scrolled": true
   },
   "outputs": [],
   "source": [
    "pActiveSpikesBehaviorPlotter = None\n",
    "display_output = display_output | curr_active_pipeline.display('_display_3d_interactive_spike_and_behavior_browser', active_config_name, extant_plotter=display_output.get('pActiveSpikesBehaviorPlotter', None)) # Works now!\n",
    "ipspikesDataExplorer = display_output['ipspikesDataExplorer']\n",
    "display_output['pActiveSpikesBehaviorPlotter'] = display_output.pop('plotter') # rename the key from the generic \"plotter\" to \"pActiveSpikesBehaviorPlotter\" to avoid collisions with others\n",
    "pActiveSpikesBehaviorPlotter = display_output['pActiveSpikesBehaviorPlotter']"
   ]
  },
  {
   "cell_type": "code",
   "execution_count": null,
   "id": "a1c468be-a227-4ad8-96bb-23577e1f588e",
   "metadata": {
    "pycharm": {
     "is_executing": false,
     "name": "#%%\n"
    },
    "scrolled": true
   },
   "outputs": [],
   "source": [
    "## Sync ipspikesDataExplorer to raster window:\n",
    "extra_interactive_spike_behavior_browser_sync_connection = spike_raster_window.connect_additional_controlled_plotter(controlled_plt=ipspikesDataExplorer)\n",
    "# extra_interactive_spike_behavior_browser_sync_connection = _connect_additional_controlled_plotter(spike_raster_window.spike_raster_plt_2d, ipspikesDataExplorer)"
   ]
  },
  {
   "cell_type": "markdown",
   "id": "7c7485f6-3d15-4681-9dc1-722b4ca67d90",
   "metadata": {
    "pycharm": {
     "is_executing": false,
     "name": "#%%\n"
    }
   },
   "source": [
    "### Test Programmatic Updating of the ipspikesDataExplorer"
   ]
  },
  {
   "cell_type": "code",
   "execution_count": null,
   "id": "843919bd-e5f6-4ae0-b85d-775988be9312",
   "metadata": {
    "pycharm": {
     "is_executing": false,
     "name": "#%%\n"
    },
    "scrolled": true
   },
   "outputs": [],
   "source": [
    "ipspikesDataExplorer.spikes_main_historical.VisibilityOff()\n",
    "# ipspikesDataExplorer."
   ]
  },
  {
   "cell_type": "code",
   "execution_count": null,
   "id": "7d2a1570-cba6-4169-8da9-13bf495467e3",
   "metadata": {
    "pycharm": {
     "is_executing": false,
     "name": "#%%\n"
    },
    "scrolled": true
   },
   "outputs": [],
   "source": [
    "np.shape(ipspikesDataExplorer.params.flattened_spike_positions_list) # (2, 102139)\n",
    "np.shape(ipspikesDataExplorer.flattened_spike_times) # (102139,)\n",
    "\n",
    "recent_spikes_mesh = ipspikesDataExplorer.plots['spikes_main_recent_only']\n",
    "# ipspikesDataExplorer.plots.keys() # dict_keys(['spikes_main_historical', 'spikes_main_recent_only', 'animal_location_trail', 'animal_current_location_point', 'maze_bg'])\n",
    "# , show_edges=True"
   ]
  },
  {
   "cell_type": "code",
   "execution_count": null,
   "id": "c65e6082-7879-4482-91b9-2fb298090554",
   "metadata": {
    "pycharm": {
     "is_executing": false,
     "name": "#%%\n"
    },
    "scrolled": true
   },
   "outputs": [],
   "source": [
    "ipspikesDataExplorer.spikes_main_historical.AddPosition((0.0, 0.0, (-1.1*10)))"
   ]
  },
  {
   "cell_type": "markdown",
   "id": "a3ce34d1-7b04-40f3-96a2-408676eb967f",
   "metadata": {
    "jp-MarkdownHeadingCollapsed": true,
    "pycharm": {
     "is_executing": false,
     "name": "#%%\n"
    },
    "tags": []
   },
   "source": [
    "## Extras"
   ]
  },
  {
   "cell_type": "code",
   "execution_count": null,
   "id": "553ff9bc-533b-47eb-9257-9b4eebc10dc5",
   "metadata": {
    "pycharm": {
     "is_executing": false,
     "name": "#%%\n"
    }
   },
   "outputs": [],
   "source": [
    "# spike_raster_window.render_window_duration\n",
    "# spike_raster_window.spikes_window.active_window_end_time\n",
    "spike_raster_window.spikes_window.window_duration"
   ]
  },
  {
   "cell_type": "code",
   "execution_count": null,
   "id": "b3e1d674-569b-445e-90f7-eac577c20fd0",
   "metadata": {
    "pycharm": {
     "is_executing": false,
     "name": "#%%\n"
    }
   },
   "outputs": [],
   "source": [
    "### Debug printing for color properties of spike_raster_window\n",
    "_debug_params = spike_raster_window.spike_raster_plt_2d.params\n",
    "# _debug_params.neuron_colors\n",
    "# _debug_params.config_items\n",
    "# spike_raster_window.params"
   ]
  },
  {
   "cell_type": "code",
   "execution_count": null,
   "id": "93222276-7cd0-480e-a353-5cdf6fb0557c",
   "metadata": {
    "pycharm": {
     "is_executing": false,
     "name": "#%%\n"
    }
   },
   "outputs": [],
   "source": [
    "# Wanted to try to set setClickable(True) on the children widgets\n",
    "\n",
    "# spike_raster_window.spike_raster_plt_2d.plots # {'name': '', 'preview_overview_scatter_plot': <pyphoplacecellanalysis.External.pyqtgraph.graphicsItems.ScatterPlotItem.ScatterPlotItem object at 0x0000020AA96D9E50>}\n",
    "# spike_raster_window.spike_raster_plt_2d.plots.main_plot_widget # <pyphoplacecellanalysis.External.pyqtgraph.graphicsItems.PlotItem.PlotItem.PlotItem at 0x20aecdf0ee0>\n",
    "# spike_raster_window.spike_raster_plt_2d.plots.main_plot_widget.curves # [<pyphoplacecellanalysis.External.pyqtgraph.graphicsItems.ScatterPlotItem.ScatterPlotItem at 0x20aa92a5820>]\n",
    "\n",
    "# Static Background Overview Scatter Plot:\n",
    "active_overview_scatter_plot = spike_raster_window.spike_raster_plt_2d.plots.preview_overview_scatter_plot # ScatterPlotItem \n",
    "# active_overview_scatter_plot.addPoints(hoverable=True)\n",
    "\n",
    "## Main Scatter Plot \n",
    "main_scatter_plot = spike_raster_window.spike_raster_plt_2d.plots.main_plot_widget.curves[0] # ScatterPlotItem \n",
    "# main_scatter_plot.setAcceptHoverEvents(True)\n",
    "\n",
    "# Common Tick Label\n",
    "vtick = QtGui.QPainterPath()\n",
    "vtick.moveTo(0, -0.5)\n",
    "vtick.lineTo(0, 0.5)\n",
    "\n",
    "# # Highlights the hovered spikes white:\n",
    "# main_scatter_plot.addPoints(hoverable=True,\n",
    "#     hoverSymbol=vtick, # hoverSymbol='s',\n",
    "#     hoverSize=7, # default is 5\n",
    "#     hoverPen=pg.mkPen('w', width=2),\n",
    "#     hoverBrush=pg.mkBrush('w'))\n",
    "\n",
    "# Highlights the hovered spikes white:\n",
    "main_scatter_plot.addPoints(hoverable=True,\n",
    "    # hoverSymbol=vtick, # hoverSymbol='s',\n",
    "    hoverSize=7, # default is 5\n",
    "    )\n",
    "\n",
    "\n",
    "## Clickable/Selectable Spikes:\n",
    "# Will make all plots clickable\n",
    "clickedPen = pg.mkPen('#DDD', width=2)\n",
    "lastClicked = []\n",
    "def _test_scatter_plot_clicked(plot, points):\n",
    "    global lastClicked\n",
    "    for p in lastClicked:\n",
    "        p.resetPen()\n",
    "    print(\"clicked points\", points)\n",
    "    for p in points:\n",
    "        p.setPen(clickedPen)\n",
    "    lastClicked = points\n",
    "        \n",
    "## Hoverable Spikes:\n",
    "def _test_scatter_plot_hovered(plt, points, ev):\n",
    "    # sigHovered(self, points, ev)\n",
    "    print(f'_test_scatter_plot_hovered(plt: {plt}, points: {points}, ev: {ev})')\n",
    "    if (len(points) > 0):\n",
    "        curr_point = points[0]\n",
    "        # self.\n",
    "        # curr_point.index\n",
    "\n",
    "main_scatter_hovered_connection = main_scatter_plot.sigHovered.connect(_test_scatter_plot_hovered)\n",
    "main_scatter_clicked_connection = main_scatter_plot.sigClicked.connect(_test_scatter_plot_clicked)\n",
    "\n",
    "# tip\n",
    "# .sigHovered \n",
    "# TypeError: 'VisualizationParameters' object is not subscriptable"
   ]
  },
  {
   "cell_type": "code",
   "execution_count": null,
   "id": "17dba03e-6715-4152-a3ca-45320e551d7a",
   "metadata": {
    "pycharm": {
     "is_executing": false,
     "name": "#%%\n"
    }
   },
   "outputs": [],
   "source": [
    "## Test Adding ROIs of interest to the 2D Raster Plot:\n",
    "rois = []\n",
    "rois.append(pg.MultiRectROI([[20, 90], [50, 60], [60, 90]], width=5, pen=(2,9)))\n",
    "\n",
    "def update(roi):\n",
    "    img1b.setImage(roi.getArrayRegion(arr, img1a), levels=(0, arr.max()))\n",
    "    v1b.autoRange()\n",
    "    \n",
    "for roi in rois:\n",
    "    roi.sigRegionChanged.connect(update)\n",
    "    v1a.addItem(roi)"
   ]
  },
  {
   "cell_type": "code",
   "execution_count": null,
   "id": "27412504-b512-4896-b955-a9d910a8752b",
   "metadata": {
    "pycharm": {
     "is_executing": false,
     "name": "#%%\n"
    }
   },
   "outputs": [],
   "source": [
    "curve.curve.setClickable(True)"
   ]
  },
  {
   "cell_type": "markdown",
   "id": "eb18a15d-dd8c-4973-8316-7e9e2a622e11",
   "metadata": {
    "jp-MarkdownHeadingCollapsed": true,
    "pycharm": {
     "is_executing": false,
     "name": "#%%\n"
    },
    "tags": []
   },
   "source": [
    "## Updated Color Config Handling"
   ]
  },
  {
   "cell_type": "code",
   "execution_count": null,
   "id": "bda8eb46-1aca-4646-9190-50cffa7552b5",
   "metadata": {
    "pycharm": {
     "is_executing": false,
     "name": "#%%\n"
    }
   },
   "outputs": [],
   "source": [
    "ipcDataExplorer.active_neuron_render_configs"
   ]
  },
  {
   "cell_type": "code",
   "execution_count": null,
   "id": "b2aa52bc-eaa3-4c3b-bddd-2602b120ad63",
   "metadata": {
    "pycharm": {
     "is_executing": false,
     "name": "#%%\n"
    }
   },
   "outputs": [],
   "source": [
    "# [SingleNeuronPlottingExtended(color='#843c39', extended_values_dictionary={}, isVisible=False, name='2', spikesVisible=False),\n",
    "#  SingleNeuronPlottingExtended(color='#9d514e', extended_values_dictionary={}, isVisible=False, name='3', spikesVisible=False),\n",
    "#  ...\n",
    "# ]"
   ]
  },
  {
   "cell_type": "code",
   "execution_count": null,
   "id": "a56ee0e0-6db3-4b25-8d24-05b7a7190311",
   "metadata": {
    "pycharm": {
     "is_executing": false,
     "name": "#%%\n"
    }
   },
   "outputs": [],
   "source": [
    "test_updated_configs_colors_map[3] = '#333333'"
   ]
  },
  {
   "cell_type": "code",
   "execution_count": null,
   "id": "42b57cec-6199-4917-98b8-3aae10460e07",
   "metadata": {
    "pycharm": {
     "is_executing": false,
     "name": "#%%\n"
    }
   },
   "outputs": [],
   "source": [
    "# Test applying changes to configs:\n",
    "active_configs_map, updated_ids_list, updated_configs_list = _test_apply_updated_colors_map_to_configs(active_configs_map, test_updated_configs_colors_map)\n",
    "# active_configs_map"
   ]
  },
  {
   "cell_type": "code",
   "execution_count": null,
   "id": "bb99d50f-d3dd-43d0-8507-0f5740540b30",
   "metadata": {
    "pycharm": {
     "is_executing": false,
     "name": "#%%\n"
    }
   },
   "outputs": [],
   "source": [
    "## Test applying it to the Qt widgets:\n",
    "# ipcDataExplorer.find_rows_matching_cell_ids\n",
    "\n",
    "ipcDataExplorer.active_neuron_render_configs"
   ]
  },
  {
   "cell_type": "code",
   "execution_count": null,
   "id": "61d060ca-b27f-43e1-bd20-1b560f525f0a",
   "metadata": {
    "pycharm": {
     "is_executing": false,
     "name": "#%%\n"
    }
   },
   "outputs": [],
   "source": [
    "test_updated_configs_colors_map"
   ]
  },
  {
   "cell_type": "code",
   "execution_count": null,
   "id": "56380160-73d7-4a2b-8f34-9ada12680466",
   "metadata": {
    "pycharm": {
     "is_executing": false,
     "name": "#%%\n"
    }
   },
   "outputs": [],
   "source": [
    "# updated_ids_list\n",
    "updated_configs_list"
   ]
  },
  {
   "cell_type": "code",
   "execution_count": null,
   "id": "ccccf2a9-c29c-4a78-ba95-b7c547f65db5",
   "metadata": {
    "pycharm": {
     "is_executing": false,
     "name": "#%%\n"
    }
   },
   "outputs": [],
   "source": [
    "# ipcDataExplorer.update_spikes()\n",
    "# ipcDataExplorer.gui.\n",
    "# placefieldControlsContainerWidget\n",
    "\n",
    "ipcDataExplorer.neuron_id_pf_widgets_map = _build_id_index_configs_dict(pf_widgets)\n",
    "apply_updated_configs_to_pf_widgets(ipcDataExplorer.neuron_id_pf_widgets_map, active_configs_map)\n",
    "\n",
    "\n",
    "# neuron_id_pf_widgets_map\n",
    "\n",
    "# for a_pf_ctrl_widget in pf_widgets:\n",
    "#     print(f'{a_pf_ctrl_widget.name}')\n",
    "#     # int(a_config.name)"
   ]
  },
  {
   "cell_type": "code",
   "execution_count": null,
   "id": "7744eaee-a85c-48ce-8732-a3eba59c2733",
   "metadata": {
    "pycharm": {
     "is_executing": false,
     "name": "#%%\n"
    }
   },
   "outputs": [],
   "source": [
    "test_updated_colors_map = {3: '#999999'}\n",
    "ipcDataExplorer.on_config_update(test_updated_colors_map)"
   ]
  },
  {
   "cell_type": "code",
   "execution_count": null,
   "id": "c4874af9-e994-45b4-8c39-1697b633838d",
   "metadata": {
    "pycharm": {
     "is_executing": false,
     "name": "#%%\n"
    }
   },
   "outputs": [],
   "source": [
    "# Need to rebuild the spikes colors and such upon updating the configs. \n",
    "# should take a config and produce the changes needed to recolor the neurons.\n",
    "ipcDataExplorer.update_spikes_df_color_columns(test_updated_colors_map)\n",
    "ipcDataExplorer.update_rendered_placefields(test_updated_colors_map)"
   ]
  },
  {
   "cell_type": "code",
   "execution_count": null,
   "id": "2f7679d0-1be4-4693-945b-6916bd5a4556",
   "metadata": {
    "pycharm": {
     "is_executing": false,
     "name": "#%%\n"
    }
   },
   "outputs": [],
   "source": [
    "_test_neuron_id = 3\n",
    "pdata_currActiveNeuronTuningCurve_plotActor = ipcDataExplorer.plots['tuningCurvePlotActors'][_test_neuron_id]['main'] # get the main plot actor from the CascadingDynamicPlotsList\n",
    "pdata_currActiveNeuronTuningCurve_Points_plotActor = ipcDataExplorer.plots['tuningCurvePlotActors'][_test_neuron_id]['points']\n",
    "\n",
    "# add_mesh"
   ]
  },
  {
   "cell_type": "code",
   "execution_count": null,
   "id": "ff8972a9-fb3f-44c8-8854-1178c71e8d72",
   "metadata": {
    "pycharm": {
     "is_executing": false,
     "name": "#%%\n"
    }
   },
   "outputs": [],
   "source": [
    "ipcDataExplorer.enable_overwrite_invalid_fragile_linear_neuron_IDXs = True"
   ]
  },
  {
   "cell_type": "code",
   "execution_count": null,
   "id": "e820c498-5865-471b-a7bc-2c4c5c650f89",
   "metadata": {
    "pycharm": {
     "is_executing": false,
     "name": "#%%\n"
    }
   },
   "outputs": [],
   "source": [
    "ipcDataExplorer.helper_setup_neuron_colors_and_order(ipcDataExplorer, debug_print=True)"
   ]
  },
  {
   "cell_type": "code",
   "execution_count": null,
   "id": "462f77cc-7376-4382-8345-149eba514ad8",
   "metadata": {
    "pycharm": {
     "is_executing": false,
     "name": "#%%\n"
    }
   },
   "outputs": [],
   "source": [
    "from vedo.io import exportWindow, write\n",
    "# exportWindow('testOutFilePho.html')\n",
    "# exportWindow('testOutFilePho.x3d')\n",
    "\n",
    "# pActiveTuningCurvesPlotter.save('testPlotterSavePho.obj')\n",
    "# write(pActiveTuningCurvesPlotter,'testPlotterSavePho.obj')\n",
    "# pActiveTuningCurvesPlotter.write_frame('testPlotter_write_frame_Pho')\n",
    "# pActiveTuningCurvesPlotter.export('testPlotterSavePho.x3d')\n",
    "\n",
    "output_path = Path(r'C:\\Users\\pho\\repos\\PhoPy3DPositionAnalysis2021\\output\\2006-6-07_11-26-53\\maze1')\n",
    "final_output_path = output_path.joinpath('testPlotter_export_obj_Pho')\n",
    "\n",
    "\n",
    "## Success, but ugly:\n",
    "pActiveTuningCurvesPlotter.export_vtkjs(final_output_path.with_suffix('.vtkjs'))\n",
    "# pActiveTuningCurvesPlotter.export_gltf(final_output_path.with_suffix('.gltf'))\n",
    "# pActiveTuningCurvesPlotter.export_html(final_output_path.with_suffix('.html')) ## First export that actually works with BackgroundPlotter\n",
    "# pActiveTuningCurvesPlotter.export_obj(final_output_path.with_suffix('.obj')) ## Works for exporting .obj files"
   ]
  },
  {
   "cell_type": "code",
   "execution_count": null,
   "id": "1097b8b4-5fbc-4124-a187-dcee9ccf7090",
   "metadata": {
    "pycharm": {
     "is_executing": false,
     "name": "#%%\n"
    }
   },
   "outputs": [],
   "source": [
    "import pyvista as pv\n",
    "pv.vtk_version_info"
   ]
  },
  {
   "cell_type": "code",
   "execution_count": null,
   "id": "270d1a2c-7f56-495a-bd6e-30e76414bef7",
   "metadata": {
    "pycharm": {
     "is_executing": false,
     "name": "#%%\n"
    }
   },
   "outputs": [],
   "source": [
    "# ipcDataExplorer.p.enable_cell_picking(callback=)\n",
    "ipcDataExplorer.pyqtConfigure()"
   ]
  },
  {
   "cell_type": "code",
   "execution_count": null,
   "id": "7d35fb45-9c61-412f-a522-03c90609f59e",
   "metadata": {
    "pycharm": {
     "is_executing": false,
     "name": "#%%\n"
    }
   },
   "outputs": [],
   "source": [
    "p.enable_point_picking()"
   ]
  },
  {
   "cell_type": "code",
   "execution_count": null,
   "id": "03458494-5342-4fd0-b866-2191409d1dac",
   "metadata": {
    "pycharm": {
     "is_executing": false,
     "name": "#%%\n"
    }
   },
   "outputs": [],
   "source": [
    "ipcDataExplorer.active_config # pf_neuron_identities, pf_colors, pf_sort_ind\n",
    "\n",
    "# ipcDataExplorer.active_config.keys()\n",
    "np.shape(ipcDataExplorer.active_config.plotting_config['pf_colormap']) # (39, 4)\n",
    "\n",
    "# print_keys_if_possible('plotting_config', ipcDataExplorer.active_config.plotting_config)\n",
    "\n",
    "print_keys_if_possible('ipcDataExplorer', ipcDataExplorer)\n",
    "\n",
    "# - plotting_config: <class 'pyphoplacecellanalysis.General.Configs.DynamicConfigs.PlottingConfig'>\n",
    "    # - pf_neuron_identities: <class 'list'> - (39,)\n",
    "    # - pf_sort_ind: <class 'numpy.ndarray'> - (39,)\n",
    "    # - pf_colors: <class 'numpy.ndarray'> - (4, 39)\n",
    "    # - pf_colormap: <class 'numpy.ndarray'> - (39, 4)"
   ]
  },
  {
   "cell_type": "code",
   "execution_count": null,
   "id": "d4ec2318-647c-4f2a-8d93-8bf622273d41",
   "metadata": {
    "pycharm": {
     "is_executing": false,
     "name": "#%%\n"
    }
   },
   "outputs": [],
   "source": [
    "len(ipcDataExplorer.params.neuron_colors_hex) # 39"
   ]
  },
  {
   "cell_type": "code",
   "execution_count": null,
   "id": "e191dfb3-7e9b-42d3-9505-5adfabf920e7",
   "metadata": {
    "pycharm": {
     "is_executing": false,
     "name": "#%%\n"
    }
   },
   "outputs": [],
   "source": [
    "# np.shape(ipcDataExplorer.params.neuron_colors) # (4, 39)\n",
    "# len(ipcDataExplorer.params.reverse_cellID_to_tuning_curve_idx_lookup_map) # 39\n",
    "\n",
    "# for neuron_id, tuning_curve_idx in ipcDataExplorer.params.reverse_cellID_to_tuning_curve_idx_lookup_map.items():\n",
    "#     curr_color = ipcDataExplorer.params.neuron_colors[:, tuning_curve_idx]\n",
    "    \n",
    "\n",
    "\n",
    "final_perfect_colormap = {int(neuron_id):ipcDataExplorer.params.neuron_colors_hex[tuning_curve_idx] for neuron_id, tuning_curve_idx in ipcDataExplorer.params.reverse_cellID_to_tuning_curve_idx_lookup_map.items()}\n",
    "# final_perfect_colormap = {int(neuron_id):list(np.squeeze(ipcDataExplorer.params.neuron_colors[:, tuning_curve_idx])) for neuron_id, tuning_curve_idx in ipcDataExplorer.params.reverse_cellID_to_tuning_curve_idx_lookup_map.items()}\n",
    "# final_perfect_colormap = {int(neuron_id):QtGui.QColor(*np.squeeze(ipcDataExplorer.params.neuron_colors[:, tuning_curve_idx])) for neuron_id, tuning_curve_idx in ipcDataExplorer.params.reverse_cellID_to_tuning_curve_idx_lookup_map.items()}\n",
    "final_perfect_colormap"
   ]
  },
  {
   "cell_type": "code",
   "execution_count": null,
   "id": "7f30b8c2-9baf-45e5-b3b7-f3dd8d884dfe",
   "metadata": {
    "pycharm": {
     "is_executing": false,
     "name": "#%%\n"
    }
   },
   "outputs": [],
   "source": [
    "len(final_perfect_colormap) # 39"
   ]
  },
  {
   "cell_type": "code",
   "execution_count": null,
   "id": "dda1cd93-54cc-4868-a04b-af2e2b56eab8",
   "metadata": {
    "pycharm": {
     "is_executing": false,
     "name": "#%%\n"
    }
   },
   "outputs": [],
   "source": [
    "ipcDataExplorer.on_config_update(updated_colors_map=final_perfect_colormap)"
   ]
  },
  {
   "cell_type": "code",
   "execution_count": null,
   "id": "7e33c762-3348-4b7d-ab39-80ec465458c2",
   "metadata": {
    "pycharm": {
     "is_executing": false,
     "name": "#%%\n"
    }
   },
   "outputs": [],
   "source": [
    "partial_perfect_colormap = {24: [0.9098039215686274, 0.8075259642318465, 0.6095686274509803, 1.0],\n",
    " 25: [1.0, 0.9148351648351648, 0.75, 1.0],\n",
    " 26: [0.388235294117647, 0.4745098039215686, 0.22352941176470587, 1.0],\n",
    " 27: [0.48533923796791445, 0.5796078431372549, 0.3053719008264463, 1.0]}\n",
    "ipcDataExplorer.on_update_spikes_colors(neuron_id_color_update_dict=partial_perfect_colormap)"
   ]
  },
  {
   "cell_type": "code",
   "execution_count": null,
   "id": "643a492d-982d-433b-8063-2ab1dff1705a",
   "metadata": {
    "pycharm": {
     "is_executing": false,
     "name": "#%%\n"
    }
   },
   "outputs": [],
   "source": [
    "QtGui.QColor(*(0.5176470588235295, 0.23529411764705882, 0.22352941176470587, 1.0))"
   ]
  },
  {
   "cell_type": "code",
   "execution_count": null,
   "id": "07042754-37ac-4dd3-9507-742df5537e24",
   "metadata": {
    "pycharm": {
     "is_executing": false,
     "name": "#%%\n"
    }
   },
   "outputs": [],
   "source": [
    "# don't use this one!\n",
    "len(ipcDataExplorer.params.reverse_cellID_idx_lookup_map) # 40"
   ]
  },
  {
   "cell_type": "code",
   "execution_count": null,
   "id": "83ba315a-744f-4700-b9fc-9f49717c9e8f",
   "metadata": {
    "pycharm": {
     "is_executing": false,
     "name": "#%%\n"
    }
   },
   "outputs": [],
   "source": [
    "ipcDataExplorer.active_neuron_render_configs # confirmed same configs as active_tuning_curve_render_configs"
   ]
  },
  {
   "cell_type": "code",
   "execution_count": null,
   "id": "6059bd2a-85d4-405d-8314-6f450238d56b",
   "metadata": {
    "pycharm": {
     "is_executing": false,
     "name": "#%%\n"
    }
   },
   "outputs": [],
   "source": [
    "# ipcDataExplorer.setup_spike_rendering_mixin()\n",
    "\n",
    "ipcDataExplorer.spikes_df # first many entries all look like R G B columns are 0.0 even if rgb_hex isn't and is different!\n",
    "\n",
    "# np.count_nonzero(ipcDataExplorer.spikes_df.R.to_numpy()) # 5989\n",
    "ipcDataExplorer.spikes_df.columns\n",
    "\n",
    "ipcDataExplorer.spikes_df[['aclu', 'fragile_linear_neuron_IDX', 'neuron_IDX']] ## BREAKTHROUGH: 'fragile_linear_neuron_IDX' and 'neuron_IDX' are definitely not equal (but I think they should be)"
   ]
  },
  {
   "cell_type": "code",
   "execution_count": null,
   "id": "9a23d626-59d6-4e01-befb-e75e4cd234c1",
   "metadata": {
    "pycharm": {
     "is_executing": false,
     "name": "#%%\n"
    }
   },
   "outputs": [],
   "source": [
    "np.unique(ipcDataExplorer.spikes_df['fragile_linear_neuron_IDX'])\n",
    "## MAJOR CONCERN: 'fragile_linear_neuron_IDX' values make no sense at all. They aren't even equal to 'aclu'\n",
    "# array([ 0,  1,  2,  3,  5,  6,  7,  8,  9, 10, 12, 15, 16, 19, 20, 21, 22, 23, 24, 25, 26, 27, 31, 32, 36, 37, 40, 42, 43, 44, 45, 46, 51, 53, 55, 56, 59, 60, 61, 62])"
   ]
  },
  {
   "cell_type": "code",
   "execution_count": null,
   "id": "398a9428-b946-45da-9fac-8ef991f940b4",
   "metadata": {
    "pycharm": {
     "is_executing": false,
     "name": "#%%\n"
    }
   },
   "outputs": [],
   "source": [
    "np.unique(ipcDataExplorer.spikes_df['neuron_IDX'])"
   ]
  },
  {
   "cell_type": "code",
   "execution_count": null,
   "id": "893cde2a-0c9f-49f0-898f-a5582c39c3ac",
   "metadata": {
    "pycharm": {
     "is_executing": false,
     "name": "#%%\n"
    }
   },
   "outputs": [],
   "source": [
    "ipcDataExplorer.spikes_df['old_fragile_linear_neuron_IDX']"
   ]
  },
  {
   "cell_type": "code",
   "execution_count": null,
   "id": "f9bd9fd7-ffe6-41a9-b716-db326360f00b",
   "metadata": {
    "pycharm": {
     "is_executing": false,
     "name": "#%%\n"
    }
   },
   "outputs": [],
   "source": [
    "ipcDataExplorer.spikes_df[['aclu', 'fragile_linear_neuron_IDX', 'neuron_IDX', 'old_fragile_linear_neuron_IDX']] ## GOOD: after rebuilding the 'fragile_linear_neuron_IDX' and 'neuron_IDX' columns now match as expected."
   ]
  },
  {
   "cell_type": "code",
   "execution_count": null,
   "id": "fa2dc6a4-97f6-4dc1-86b7-477ab0f7ec1d",
   "metadata": {
    "pycharm": {
     "is_executing": false,
     "name": "#%%\n"
    }
   },
   "outputs": [],
   "source": [
    "ipcDataExplorer.neuron_ids"
   ]
  },
  {
   "cell_type": "code",
   "execution_count": null,
   "id": "5d819b67-053a-4fe1-89e1-26a183be6e9f",
   "metadata": {
    "pycharm": {
     "is_executing": false,
     "name": "#%%\n"
    }
   },
   "outputs": [],
   "source": [
    "# ipcDataExplorer.update_active_spikes(\n",
    "ipcDataExplorer.update_spikes()"
   ]
  },
  {
   "cell_type": "code",
   "execution_count": null,
   "id": "ea8ef463-a283-4d0b-a9bd-8a57823c22ec",
   "metadata": {
    "pycharm": {
     "is_executing": false,
     "name": "#%%\n"
    }
   },
   "outputs": [],
   "source": [
    "## Rebuild the IDXs\n",
    "ipcDataExplorer.spikes_df.spikes._obj, neuron_id_to_new_IDX_map_new_method = ipcDataExplorer.spikes_df.spikes.rebuild_fragile_linear_neuron_IDXs(debug_print=True)\n",
    "new_neuron_IDXs = list(neuron_id_to_new_IDX_map_new_method.values())"
   ]
  },
  {
   "cell_type": "code",
   "execution_count": null,
   "id": "c515da07-d574-4d9c-8b77-1bdbbc80a2c9",
   "metadata": {
    "pycharm": {
     "is_executing": false,
     "name": "#%%\n"
    }
   },
   "outputs": [],
   "source": [
    "ipcDataExplorer.params.cell_spike_opaque_colors_dict # this is what spikes_df's 'R', 'G', 'B' columns set from.\n",
    "# keys are neuron_IDX format"
   ]
  },
  {
   "cell_type": "code",
   "execution_count": null,
   "id": "e925ff62-a230-4907-92a7-1f43b0cca1fb",
   "metadata": {
    "pycharm": {
     "is_executing": false,
     "name": "#%%\n"
    }
   },
   "outputs": [],
   "source": [
    "# Disable the bar on the docks:\n",
    "dDisplayItem1 = root_dockAreaWindow.dynamic_display_dict['Dock1 - Controls']['Dock1 - Controls']['dock']\n",
    "dDisplayItem2 = root_dockAreaWindow.dynamic_display_dict['Dock2 - Content']['Dock2 - Content']['dock']\n",
    "\n",
    "dDisplayItem1.hideTitleBar()\n",
    "dDisplayItem2.hideTitleBar()"
   ]
  },
  {
   "cell_type": "code",
   "execution_count": null,
   "id": "f1eef3b5-5827-4deb-b165-6df85bce61e4",
   "metadata": {
    "pycharm": {
     "is_executing": false,
     "name": "#%%\n"
    }
   },
   "outputs": [],
   "source": [
    "ipcDataExplorer.params.end_button_helper_obj.btn_show_all_callback(True)"
   ]
  },
  {
   "cell_type": "code",
   "execution_count": null,
   "id": "f48ba047-fc62-4846-ad1c-69649990098d",
   "metadata": {
    "pycharm": {
     "is_executing": false,
     "name": "#%%\n"
    }
   },
   "outputs": [],
   "source": [
    "# ipcDataExplorer.update_tuning_curve_configs()\n",
    "ipcDataExplorer.update_neuron_render_configs()"
   ]
  },
  {
   "cell_type": "code",
   "execution_count": null,
   "id": "d1c59dcb-0bcf-4212-8c7b-dce729909565",
   "metadata": {
    "pycharm": {
     "is_executing": false,
     "name": "#%%\n"
    },
    "scrolled": true
   },
   "outputs": [],
   "source": [
    "# ipcDataExplorer.params.cell_spike_colors_dict\n",
    "# ipcDataExplorer.active_neuron_render_configs\n",
    "\n",
    "active_placefields = ipcDataExplorer.params.active_epoch_placefields\n",
    "# ipcDataExplorer.params.pf_color\n",
    "pf_colors = ipcDataExplorer.params.pf_colors\n",
    "if np.shape(pf_colors)[1] > 3:\n",
    "    opaque_pf_colors = pf_colors[0:3,:].copy() # get only the RGB values, discarding any potnential alpha information\n",
    "else:\n",
    "    opaque_pf_colors = pf_colors.copy()\n",
    "\n",
    "occupancy = active_placefields.ratemap.occupancy.copy()\n",
    "# curr_tuning_curves = active_placefields.ratemap.tuning_curves.copy() # (39, 59, 21)\n",
    "curr_tuning_curves = active_placefields.ratemap.normalized_tuning_curves.copy() # (39, 59, 21)\n",
    "good_placefield_neuronIDs = ipcDataExplorer.params.pf_unit_ids\n",
    "# np.shape(curr_tuning_curves) # (39, 59, 21)\n",
    "# np.isnan(curr_tuning_curves)\n",
    "# np.count_nonzero(np.isnan(curr_tuning_curves))\n",
    "\n",
    "\n",
    "# Never Visited Mask\n",
    "# occupancy"
   ]
  },
  {
   "cell_type": "code",
   "execution_count": null,
   "id": "35581810-d1b5-4098-9d63-c110ace2cda7",
   "metadata": {
    "pycharm": {
     "is_executing": false,
     "name": "#%%\n"
    },
    "scrolled": true
   },
   "outputs": [],
   "source": [
    "# never_visited_occupancy_mask\n",
    "i = 0\n",
    "curr_active_neuron_ID = good_placefield_neuronIDs[i]\n",
    "curr_active_neuron_color = pf_colors[:, i]\n",
    "curr_active_neuron_opaque_color = opaque_pf_colors[:,i]\n",
    "curr_active_neuron_pf_identifier = 'pf[{}]'.format(curr_active_neuron_ID)\n",
    "curr_active_neuron_tuning_Curve = np.squeeze(curr_tuning_curves[i,:,:]).T.copy() # A single tuning curve, (21, 59)\n",
    "# curr_active_neuron_tuning_Curve"
   ]
  },
  {
   "cell_type": "code",
   "execution_count": null,
   "id": "391ba34c-757b-4270-b7b4-6d15bcc605a9",
   "metadata": {
    "pycharm": {
     "is_executing": false,
     "name": "#%%\n"
    }
   },
   "outputs": [],
   "source": [
    "curr_active_plot_actor = ipcDataExplorer.plots['tuningCurvePlotActors'][i]\n",
    "curr_active_plot_data = ipcDataExplorer.plots_data['tuningCurvePlotData'][i]\n",
    "curr_active_plot_data\n",
    "pdata_currActiveNeuronTuningCurve = curr_active_plot_data['pdata_currActiveNeuronTuningCurve'] # StructuredGrid\n",
    "\n",
    "# Test Extracting Points:\n",
    "curr_mesh_extracted_pts = pdata_currActiveNeuronTuningCurve.extract_points(pdata_currActiveNeuronTuningCurve.points[:, 2] > 0)\n",
    "type(curr_mesh_extracted_pts) # UnstructuredGrid"
   ]
  },
  {
   "cell_type": "code",
   "execution_count": null,
   "id": "3ceec384-e5bb-4140-99a0-c5066b0ef05e",
   "metadata": {
    "pycharm": {
     "is_executing": false,
     "name": "#%%\n"
    },
    "scrolled": true
   },
   "outputs": [],
   "source": [
    "# Add labels to points on the yz plane (where x == 0)\n",
    "points = pdata_currActiveNeuronTuningCurve.points\n",
    "# mask = points[:, 0] == 0\n",
    "mask = points[:, 2] > 0.1\n",
    "pActiveTuningCurvesPlotter.add_point_labels(points[mask], points[mask].tolist(), point_size=20, font_size=36)"
   ]
  },
  {
   "cell_type": "code",
   "execution_count": null,
   "id": "ac2979d7-5d5d-4984-bdbe-a6f7006b03a8",
   "metadata": {
    "pycharm": {
     "is_executing": false,
     "name": "#%%\n"
    },
    "scrolled": true
   },
   "outputs": [],
   "source": [
    "np.shape(never_visited_occupancy_mask) # (59, 21)\n",
    "np.sum(curr_active_neuron_tuning_Curve[~never_visited_occupancy_mask.T]) # (735,), 7.9040396441924194\n",
    "curr_active_neuron_tuning_Curve[~never_visited_occupancy_mask.T] = np.nan # set non-visited locations to NaN\n",
    "# NOTE: the sum of all visited locations is 36.44356525201446 and those non-visited locations is 7.9040396441924194\n",
    "curr_active_neuron_tuning_Curve"
   ]
  },
  {
   "cell_type": "code",
   "execution_count": null,
   "id": "6ee82014-0295-4c1a-94d7-7986b1cf8d02",
   "metadata": {
    "pycharm": {
     "is_executing": false,
     "name": "#%%\n"
    },
    "scrolled": true
   },
   "outputs": [],
   "source": [
    "curr_active_pipeline.active_configs[active_config_name].keys()"
   ]
  },
  {
   "cell_type": "code",
   "execution_count": null,
   "id": "5d16525f-8079-4241-87a5-940a4b0bca90",
   "metadata": {
    "pycharm": {
     "is_executing": false,
     "name": "#%%\n"
    },
    "scrolled": true
   },
   "outputs": [],
   "source": [
    "\n",
    "updated_video_output_config = curr_active_pipeline.active_configs[active_config_name]['video_output_config']\n",
    "updated_video_output_config.active_frame_range = np.arange(100, 480, 1)\n",
    "updated_video_output_config"
   ]
  },
  {
   "cell_type": "code",
   "execution_count": null,
   "id": "46f6fda6-b3c2-44e1-871a-72b136edd617",
   "metadata": {
    "pycharm": {
     "is_executing": false,
     "name": "#%%\n"
    },
    "scrolled": true
   },
   "outputs": [],
   "source": [
    "# Enable video output by setting: active_is_video_output_mode\n",
    "updated_video_output_config.active_is_video_output_mode = True\n"
   ]
  },
  {
   "cell_type": "code",
   "execution_count": null,
   "id": "42e9d25a-98b4-4769-bc7d-7e4b1f1868e3",
   "metadata": {
    "pycharm": {
     "is_executing": false,
     "name": "#%%\n"
    },
    "scrolled": true
   },
   "outputs": [],
   "source": [
    "import pyvista as pv\n",
    "from pyvista import examples\n",
    "# Download skybox\n",
    "cubemap = examples.download_sky_box_cube_map()\n",
    "ipspikesDataExplorer.p.add_actor(cubemap.to_skybox())\n",
    "ipspikesDataExplorer.p.set_environment_texture(cubemap)  # For reflecting the environment off the mesh"
   ]
  },
  {
   "cell_type": "code",
   "execution_count": null,
   "id": "6cd25037-40c1-4192-9a5b-5f6c4ec2850d",
   "metadata": {
    "pycharm": {
     "is_executing": false,
     "name": "#%%\n"
    },
    "scrolled": true
   },
   "outputs": [],
   "source": [
    "ipspikesDataExplorer.p.enable_shadows()"
   ]
  },
  {
   "cell_type": "code",
   "execution_count": null,
   "id": "843dbbfb-ff6e-42cd-9d10-936cba53adc4",
   "metadata": {
    "pycharm": {
     "is_executing": false,
     "name": "#%%\n"
    },
    "scrolled": true
   },
   "outputs": [],
   "source": [
    "ipspikesDataExplorer.p.render()"
   ]
  },
  {
   "cell_type": "code",
   "execution_count": null,
   "id": "ab74897c-df19-4af9-9e98-a73cbeebd56e",
   "metadata": {
    "pycharm": {
     "is_executing": false,
     "name": "#%%\n"
    },
    "scrolled": true
   },
   "outputs": [],
   "source": [
    "# recent_spikes_mesh.\n",
    "ipspikesDataExplorer.params.longer_spikes_window.duration_seconds = 10.0"
   ]
  },
  {
   "cell_type": "code",
   "execution_count": null,
   "id": "622347fd-9722-4017-a75e-4f1b2aa9afe1",
   "metadata": {
    "pycharm": {
     "is_executing": false,
     "name": "#%%\n"
    },
    "scrolled": true
   },
   "outputs": [],
   "source": [
    "ipspikesDataExplorer.p.enable_depth_peeling(number_of_peels=6, occlusion_ratio=0) # Supposedly helps with translucency"
   ]
  },
  {
   "cell_type": "code",
   "execution_count": null,
   "id": "fbf101d4-2ae4-44f1-81ea-be10a78c0086",
   "metadata": {
    "pycharm": {
     "is_executing": false,
     "name": "#%%\n"
    },
    "scrolled": true
   },
   "outputs": [],
   "source": [
    "# spike_raster_window.spikes_window.on_window_changed()\n",
    "# spike_raster_window.spikes_window.update_window_start(500.0) # doesn't update anything\n",
    "# spike_raster_window.spike_raster_plt_2d.spikes_window.update_window_start(500.0) # doesn't update anything\n",
    "spike_raster_window.spike_raster_plt_2d.update_scroll_window_region(500.0, 700.0, block_signals=False)"
   ]
  },
  {
   "cell_type": "code",
   "execution_count": null,
   "id": "85159801-c41c-483e-a2b5-ae8f49edfac5",
   "metadata": {
    "pycharm": {
     "is_executing": false,
     "name": "#%%\n"
    },
    "scrolled": true
   },
   "outputs": [],
   "source": [
    "spike_raster_window.shift_animation_frame_val(shift_frames=5)"
   ]
  },
  {
   "cell_type": "code",
   "execution_count": null,
   "id": "528139f7-d4ee-4a56-b20c-a957b322abdc",
   "metadata": {
    "pycharm": {
     "is_executing": false,
     "name": "#%%\n"
    },
    "scrolled": true
   },
   "outputs": [],
   "source": [
    "# spike_raster_window.spike_3d_to_2d_window_connection.disconnect(spike_raster_window.spike_raster_plt_3d.spikes_window.update_window_start_end)\n",
    "spike_raster_window.spike_raster_plt_2d.window_scrolled.disconnect(spike_raster_window.spike_raster_plt_3d.spikes_window.update_window_start_end)"
   ]
  },
  {
   "cell_type": "code",
   "execution_count": null,
   "id": "7a43771d-61c9-4485-a985-01e4dc662fc6",
   "metadata": {
    "pycharm": {
     "is_executing": false,
     "name": "#%%\n"
    },
    "scrolled": true
   },
   "outputs": [],
   "source": [
    "spike_raster_window.spike_raster_plt_2d.window_scrolled.disconnect()"
   ]
  },
  {
   "cell_type": "code",
   "execution_count": null,
   "id": "1e0693e0-a8a6-4d37-9ad1-3a34c225b02e",
   "metadata": {
    "pycharm": {
     "is_executing": false,
     "name": "#%%\n"
    },
    "scrolled": true
   },
   "outputs": [],
   "source": [
    "spike_raster_window.spike_raster_plt_2d.ui.scroll_window_region.sigRegionChanged.disconnect()"
   ]
  },
  {
   "cell_type": "code",
   "execution_count": null,
   "id": "73a8efe2-c97a-47ee-8241-e9ac1cbfab4d",
   "metadata": {
    "pycharm": {
     "is_executing": false,
     "name": "#%%\n"
    },
    "scrolled": true
   },
   "outputs": [],
   "source": [
    "## Need to the spike indicies that are currently visible in the raster window to programmatically update ipspikesDataExplorer's displayed spikes.\n",
    "# active_epoch_session.flattened_spiketrains.time_slice(curr_lap_spike_t_seconds.values[0], curr_lap_spike_t_seconds.values[-1]).spikes_df\n",
    "# spike_raster_window.spike_raster_plt_2d.spikes_window\n",
    "# curr_win_start, curr_win_end = spike_raster_window.spike_raster_plt_3d.spikes_window.active_time_window\n",
    "# spike_raster_window.spike_raster_plt_3d.spikes_window.active_windowed_df\n",
    "\n",
    "# spike_raster_window.spike_raster_plt_3d.spikes_window.active_windowed_df.index\n",
    "# ipspikesDataExplorer.params.curr_view_window_length_samples # 299\n",
    "# np.shape(ipspikesDataExplorer.params.pre_computed_window_sample_indicies) # (51157, 299)\n",
    "\n",
    "# np.shape(ipspikesDataExplorer.params.active_trail_opacity_values) # (299,)\n",
    "## Hopefully ipspikesDataExplorer's slider will adjust automatically?"
   ]
  },
  {
   "cell_type": "code",
   "execution_count": null,
   "id": "44f54da9-25c1-49dc-b692-fd5f602beecd",
   "metadata": {
    "pycharm": {
     "is_executing": false,
     "name": "#%%\n"
    },
    "scrolled": true
   },
   "outputs": [],
   "source": [
    "## Test disabling the user-slider:\n",
    "# ipspikesDataExplorer.interface_properties\n",
    "# interactive_timestamp_slider_actor\n",
    "# add_slider_widget\n",
    "\n",
    "## When building widgets:\n",
    "# self.p.add_callback(self.interface_properties, interval=16)  # to be smooth on 60Hz\n",
    "\n",
    "# Removes all slider widgets:\n",
    "# ipspikesDataExplorer.p.clear_slider_widgets()\n",
    "# ipspikesDataExplorer.p.clear_button_widgets() # removes the play/pause toggle checkbox so that it can be driven externally\n",
    "# ipspikesDataExplorer.p.update()\n",
    "# ipspikesDataExplorer.p.render()\n",
    "\n",
    "# ipspikesDataExplorer.p.button_widgets\n",
    "# ipspikesDataExplorer.p.receivers()\n",
    "\n",
    "# For the callback, it looks like I can check the timer here:\n",
    "callback_timer = ipspikesDataExplorer.p._callback_timer  # QTimer\n",
    "callback_timer.isActive()\n",
    "# callback_timer.isSignalConnected()\n",
    "# callback_timer.stop()\n",
    "\n",
    "ipspikesDataExplorer"
   ]
  },
  {
   "cell_type": "code",
   "execution_count": null,
   "id": "b13c74b9-65e1-40a6-81c0-f1cda66a324f",
   "metadata": {
    "pycharm": {
     "is_executing": false,
     "name": "#%%\n"
    },
    "scrolled": true
   },
   "outputs": [],
   "source": [
    "spike_raster_window.animation_active_time_window.window_duration"
   ]
  },
  {
   "cell_type": "code",
   "execution_count": null,
   "id": "6e9568e1-ae37-44f4-8326-c88362601889",
   "metadata": {
    "pycharm": {
     "is_executing": false,
     "name": "#%%\n"
    },
    "scrolled": true
   },
   "outputs": [],
   "source": [
    "# Get the times that fall within the current plot window:\n",
    "curr_win_start, curr_win_end = spike_raster_window.spike_raster_plt_3d.spikes_window.active_time_window\n",
    "# np.shape(ipspikesDataExplorer.t) # (51455,)\n",
    "\n",
    "# active_window_sample_indicies\n",
    "active_included_all_window_position_indicies = ((ipspikesDataExplorer.t > curr_win_start) & (ipspikesDataExplorer.t < curr_win_end)) # Two Sided Range Mode\n",
    "# active_included_all_window_position_indicies\n",
    "print(f'np.shape(active_included_all_window_position_indicies): {np.shape(active_included_all_window_position_indicies)}') # (51455,)\n",
    "\n",
    "# active_included_all_window_position_indicies = np.where(active_included_all_window_position_indicies) # was a boolean area, but get the indices where true instead\n",
    "active_included_all_window_position_indicies = np.squeeze(active_included_all_window_position_indicies.nonzero()) # was a boolean area, but get the indices where true instead.  (1106,)\n",
    "print(f'np.shape(active_included_all_window_position_indicies): {np.shape(active_included_all_window_position_indicies)}; active_included_all_window_position_indicies: {active_included_all_window_position_indicies}')\n",
    "\n",
    "active_num_samples = len(active_included_all_window_position_indicies)\n",
    "\n",
    "## TODO: I think active_included_all_window_position_indicies better be the same length as .params.active_trail_opacity_values and .params.active_trail_size_values\n",
    "# ipspikesDataExplorer.params.curr_view_window_length_samples\n",
    "\n",
    "max_num_samples = ipspikesDataExplorer.params.curr_view_window_length_samples # 299\n",
    "if active_num_samples > max_num_samples:\n",
    "    print(f'len(active_included_all_window_position_indicies) ({active_num_samples}) > max_num_samples ({max_num_samples}). Cutting.')\n",
    "    active_included_all_window_position_indicies = active_included_all_window_position_indicies[-max_num_samples:] # get only the last (meaning most recent) max_num_samples samples from the indicies that should be displayed\n",
    "    active_num_samples = max_num_samples # cut down to the max number of samples\n",
    "    \n",
    "print(f'np.shape(active_included_all_window_position_indicies): {np.shape(active_included_all_window_position_indicies)}, active_num_samples: {active_num_samples}') # np.shape(active_included_all_window_position_indicies): (1, 1106), active_num_samples: 1    \n",
    "\n",
    "# print(f'np.shape(active_included_all_window_position_indicies): {np.shape(active_included_all_window_position_indicies)}, active_num_samples: {active_num_samples}')    \n",
    "# ipspikesDataExplorer.x[active_included_all_window_position_indicies], ipspikesDataExplorer.y[active_included_all_window_position_indicies], ipspikesDataExplorer.z_fixed[-active_num_samples:]\n",
    "\n",
    "## Animal Position and Location Trail Plotting:\n",
    "ipspikesDataExplorer.perform_plot_location_trail('animal_location_trail', ipspikesDataExplorer.x[active_included_all_window_position_indicies], ipspikesDataExplorer.y[active_included_all_window_position_indicies], ipspikesDataExplorer.z_fixed[-active_num_samples:],\n",
    "                                     trail_fade_values=ipspikesDataExplorer.params.active_trail_opacity_values, trail_point_size_values=ipspikesDataExplorer.params.active_trail_size_values,\n",
    "                                     render=False)\n",
    "\n",
    "## Animal Current Position:\n",
    "curr_animal_point = [ipspikesDataExplorer.x[active_included_all_window_position_indicies[-1]], ipspikesDataExplorer.y[active_included_all_window_position_indicies[-1]], ipspikesDataExplorer.z_fixed[-1]]\n",
    "ipspikesDataExplorer.perform_plot_location_point('animal_current_location_point', curr_animal_point, render=False)\n",
    "\n",
    "\n",
    "\n",
    "# curr_time_fixedSegments = ipspikesDataExplorer.t[active_window_sample_indicies] # New Way"
   ]
  },
  {
   "cell_type": "code",
   "execution_count": null,
   "id": "c88ef53b-5282-4c49-80bc-83ca9ae6ab8b",
   "metadata": {
    "pycharm": {
     "is_executing": false,
     "name": "#%%\n"
    },
    "scrolled": true
   },
   "outputs": [],
   "source": [
    "curr_win_start, curr_win_end = spike_raster_window.spike_raster_plt_3d.spikes_window.active_time_window\n",
    "ipspikesDataExplorer.on_active_window_update_mesh(curr_win_start, curr_win_end, enable_position_mesh_updates=True, render=True)\n",
    "\n",
    "# ipspikesDataExplorer.on_programmatic_data_update(self, active_included_all_historical_indicies=None, active_included_recent_only_indicies=None, active_window_sample_indicies=None, curr_animal_point=None)\n",
    "\n",
    "### Lap Example of programmatic updating:\n",
    "# curr_lap_id = 0\n",
    "\n",
    "# curr_lap_t_start, curr_lap_t_stop = get_lap_times(curr_lap_id)\n",
    "# curr_lap_subsession = lap_specific_subsessions[curr_lap_id]\n",
    "# curr_lap_dataframe = lap_specific_dataframes[curr_lap_id] # the subset dataframe for this lap\n",
    "# curr_lap_spike_t_seconds = curr_lap_dataframe.t_seconds\n",
    "# curr_lap_spike_indicies = lap_spike_indicies[curr_lap_id] # all spike indicies that occured within the lap\n",
    "# curr_lap_position_traces = curr_lap_subsession.position.traces # the animal positions that were traversed during this lap\n",
    "\n",
    "# curr_lap_num_spikes = len(curr_lap_spike_indicies)\n",
    "# print('lap[{}]: ({}, {}): {} spikes.'.format(curr_lap_id, curr_lap_t_start, curr_lap_t_stop, curr_lap_num_spikes))\n",
    "\n",
    "# ipspikesDataExplorer.on_programmatic_data_update(active_included_all_historical_indicies=curr_lap_spike_indicies, active_included_recent_only_indicies=curr_lap_spike_indicies) # index 145937 is out of bounds for axis 0 with size 19647\n",
    "# ipspikesDataExplorer.on_programmatic_data_update(active_included_all_historical_indicies=curr_lap_spike_t_seconds, active_included_recent_only_indicies=curr_lap_spike_t_seconds) # \n",
    "# ipspikesDataExplorer.on_programmatic_data_update(active_included_all_historical_indicies=curr_lap_spike_t_seconds.values, active_included_recent_only_indicies=curr_lap_spike_t_seconds.values) # "
   ]
  },
  {
   "cell_type": "code",
   "execution_count": null,
   "id": "4cffabec-1266-482a-9018-c458e6dfa3f2",
   "metadata": {
    "pycharm": {
     "is_executing": false,
     "name": "#%%\n"
    },
    "scrolled": true
   },
   "outputs": [],
   "source": [
    "## Can Programmaticallyt set the visibility on the different plotted elements:\n",
    "ipspikesDataExplorer.toggle_plot_visibility('spikes_main_historical')\n",
    "# ipspikesDataExplorer.toggle_plot_visibility('spikes_main_recent_only')\n",
    "# ipspikesDataExplorer.toggle_plot_visibility('animal_location_trail')\n",
    "# ipspikesDataExplorer.toggle_plot_visibility('animal_current_location_point')\n",
    "# toggle_visibility(ipspikesDataExplorer.spikes_main_recent_only)\n",
    "# toggle_visibility(ipspikesDataExplorer.animal_location_trail)\n",
    "# toggle_visibility(ipspikesDataExplorer.animal_current_location_point)"
   ]
  },
  {
   "cell_type": "code",
   "execution_count": null,
   "id": "2740e3d9-2072-44f1-86a8-4a558d307a37",
   "metadata": {
    "pycharm": {
     "is_executing": false,
     "name": "#%%\n"
    }
   },
   "outputs": [],
   "source": [
    "import pyvista as pv\n",
    "from pyvistaqt import BackgroundPlotter\n",
    "\n",
    "## Test Adding Points:\n",
    "\n",
    "\n",
    "# curr_mesh_extracted_pts # UnstructuredGrid\n",
    "curr_points_actor = curr_mesh_extracted_pts.plot(show_edges=True, line_width=3, point_size=20, )\n",
    "\n",
    "pl = BackgroundPlotter()\n",
    "curr_points_actor = pl.add_points(curr_mesh_extracted_pts, render_points_as_spheres=True, point_size=2.0, color='black')\n",
    "pl.show()\n"
   ]
  },
  {
   "cell_type": "markdown",
   "id": "70496ef4-87e4-4e2b-ba6d-bcbd8b3adc81",
   "metadata": {
    "jp-MarkdownHeadingCollapsed": true,
    "pycharm": {
     "is_executing": false,
     "name": "#%%\n"
    },
    "tags": []
   },
   "source": [
    "## Explore Mesh/Cell Picking in ipcDataExplorer"
   ]
  },
  {
   "cell_type": "code",
   "execution_count": null,
   "id": "efcdc58e-09e6-4b58-bf08-6c64fa41b5a6",
   "metadata": {
    "pycharm": {
     "is_executing": false,
     "name": "#%%\n"
    }
   },
   "outputs": [],
   "source": [
    "## Make the legend pickable:\n",
    "import pyvista as pv\n",
    "\n",
    "def callback(point):\n",
    "    \"\"\"Create a cube and a label at the click point.\"\"\"\n",
    "    mesh = pv.Cube(center=point, x_length=0.05, y_length=0.05, z_length=0.05)\n",
    "    ipcDataExplorer.p.add_mesh(mesh, style='wireframe', color='r')\n",
    "    ipcDataExplorer.p.add_point_labels(point, [f\"{point[0]:.2f}, {point[1]:.2f}, {point[2]:.2f}\"])\n",
    "\n",
    "\n",
    "ipcDataExplorer.p.enable_surface_picking(callback=callback, left_clicking=True, show_point=False)\n",
    "# ipcDataExplorer.p.enable_surface_picking("
   ]
  },
  {
   "cell_type": "code",
   "execution_count": null,
   "id": "b4748c03-f688-4d0f-a40c-dabe75ee9e34",
   "metadata": {
    "pycharm": {
     "is_executing": false,
     "name": "#%%\n"
    }
   },
   "outputs": [],
   "source": [
    "def mesh_picked_callback(mesh):\n",
    "    \"\"\"TODO: highlight the mesh or something - label at the click point.\"\"\"\n",
    "    print(f'mesh_picked_callback(mesh: {mesh})')\n",
    "    # mesh = pv.Cube(center=point, x_length=0.05, y_length=0.05, z_length=0.05)\n",
    "    # ipcDataExplorer.p.add_mesh(mesh, style='wireframe', color='r')\n",
    "    # ipcDataExplorer.p.add_point_labels(point, [f\"{point[0]:.2f}, {point[1]:.2f}, {point[2]:.2f}\"])\n",
    "\n",
    "ipcDataExplorer.p.enable_mesh_picking(callback=mesh_picked_callback, left_clicking=True, show=True)"
   ]
  },
  {
   "cell_type": "markdown",
   "id": "e7e92907-c05c-4ad1-b291-2e941433a87e",
   "metadata": {
    "pycharm": {
     "is_executing": false,
     "name": "#%%\n"
    }
   },
   "source": [
    "### Other"
   ]
  },
  {
   "cell_type": "code",
   "execution_count": null,
   "id": "46d9eb58-f053-4b19-8630-c2087b5c9bad",
   "metadata": {
    "pycharm": {
     "name": "#%%\n"
    }
   },
   "outputs": [],
   "source": [
    "# Here we look at the population burst events for each epoch ('maze1' vs. 'maze2')\n",
    "# curr_active_pipeline.sess.\n",
    "\n",
    "# get only the spikes that occur during PBEs:\n",
    "pbe_only_spikes_df = sess.spikes_df[(sess.spikes_df.PBE_id > -1)]\n",
    "pbe_only_spikes_df\n",
    "\n",
    "curr_active_pipeline.sess.pbe #[10960 rows x 4 columns]"
   ]
  },
  {
   "cell_type": "code",
   "execution_count": null,
   "id": "16de2901-e7ea-40fe-8807-d5bfb57b01bd",
   "metadata": {
    "pycharm": {
     "name": "#%%\n"
    }
   },
   "outputs": [],
   "source": [
    "app, win, w = curr_active_pipeline.display('_display_placemaps_pyqtplot_2D', active_config_name)\n",
    "win.show(); pg.exec()"
   ]
  },
  {
   "cell_type": "markdown",
   "id": "a07d8a4d-3339-4f57-bb2e-3c62c181f77e",
   "metadata": {
    "pycharm": {
     "name": "#%%\n"
    },
    "tags": []
   },
   "source": [
    "# Individual Plotting Tests:"
   ]
  },
  {
   "cell_type": "markdown",
   "id": "6abc004f-a5d9-4979-8cde-f202597ba1ba",
   "metadata": {
    "pycharm": {
     "name": "#%%\n"
    },
    "tags": []
   },
   "source": [
    "## Old Individual Plotting Functions:"
   ]
  },
  {
   "cell_type": "code",
   "execution_count": null,
   "id": "979c4a9d-fd26-4ca1-89cb-98b165947851",
   "metadata": {},
   "outputs": [],
   "source": [
    "import matplotlib.pyplot as plt\n",
    "# display matplotlib figures in a qt backed window. Works in Jupyter notebooks"
   ]
  },
  {
   "cell_type": "code",
   "execution_count": null,
   "id": "42f3eb11-e517-4e2e-8886-168f8c284cbf",
   "metadata": {},
   "outputs": [],
   "source": [
    "%matplotlib --list # Available matplotlib backends: ['tk', 'gtk', 'gtk3', 'gtk4', 'wx', 'qt4', 'qt5', 'qt6', 'qt', 'osx', 'nbagg', 'notebook', 'agg', 'svg', 'pdf', 'ps', 'inline', 'ipympl', 'widget']"
   ]
  },
  {
   "cell_type": "code",
   "execution_count": null,
   "id": "832c0030-b46b-4c62-961d-b6b69272d8a6",
   "metadata": {},
   "outputs": [],
   "source": [
    "%matplotlib qt\n",
    "## NOTE THAT ONCE THIS IS SET TO qt, it cannot be undone!"
   ]
  },
  {
   "cell_type": "code",
   "execution_count": null,
   "id": "189c8965-3093-4648-bb43-33714c94d0f9",
   "metadata": {},
   "outputs": [],
   "source": [
    "enable_saving_to_disk = True\n",
    "enable_saving_to_disk = False"
   ]
  },
  {
   "cell_type": "code",
   "execution_count": null,
   "id": "b750f2c7-0cd6-4ee2-9a5a-d595e5f481ea",
   "metadata": {
    "pycharm": {
     "is_executing": false
    }
   },
   "outputs": [],
   "source": [
    "from neuropy.plotting.ratemaps import enumTuningMap2DPlotVariables # for getting the variant name from the dict"
   ]
  },
  {
   "cell_type": "code",
   "execution_count": null,
   "id": "e4406b5f-b61e-4c43-b6e0-6049a9886d87",
   "metadata": {
    "pycharm": {
     "is_executing": false
    }
   },
   "outputs": [],
   "source": [
    "filter_name = 'maze1'\n",
    "# curr_bapun_pipeline.display('_display_2d_placefield_result_plot_ratemaps_2D', filter_name, subplots=(20, 8), max_screen_figure_size=(2256, 2048), enable_spike_overlay=False, plot_variable=enumTuningMap2DPlotVariables.FIRING_MAPS, fignum=0) # works!\n",
    "curr_active_pipeline.display('_display_2d_placefield_result_plot_ratemaps_2D', filter_name, subplots=(20, 8), max_screen_figure_size=(2256, 2048), enable_spike_overlay=False, plot_variable=enumTuningMap2DPlotVariables.TUNING_MAPS, fignum=10) # works!"
   ]
  },
  {
   "cell_type": "code",
   "execution_count": null,
   "id": "5ca71727-a5cc-48df-88e7-782bbccdef39",
   "metadata": {},
   "outputs": [],
   "source": [
    "filter_name = 'maze2'\n",
    "# curr_bapun_pipeline.display('_display_2d_placefield_result_plot_ratemaps_2D', filter_name, subplots=(20, 8), max_screen_figure_size=(2256, 2048), enable_spike_overlay=False, plot_variable=enumTuningMap2DPlotVariables.FIRING_MAPS, fignum=0) # works!\n",
    "curr_active_pipeline.display('_display_2d_placefield_result_plot_ratemaps_2D', filter_name, subplots=(20, 8), max_screen_figure_size=(2256, 2048), enable_spike_overlay=False, plot_variable=enumTuningMap2DPlotVariables.TUNING_MAPS, fignum=11) # works!"
   ]
  },
  {
   "cell_type": "code",
   "execution_count": null,
   "id": "74c3eb8a-d963-4d60-ab39-721de81a34fe",
   "metadata": {},
   "outputs": [],
   "source": [
    "filter_name = 'maze1'\n",
    "# curr_kdiba_pipeline.display('_display_2d_placefield_result_plot_ratemaps_2D', filter_name, enable_spike_overlay=False, plot_variable=enumTuningMap2DPlotVariables.FIRING_MAPS, fignum=0, max_screen_figure_size=(None, 1868), debug_print=False, enable_saving_to_disk=enable_saving_to_disk) # works!\n",
    "curr_active_pipeline.display('_display_2d_placefield_result_plot_ratemaps_2D', filter_name, enable_spike_overlay=False, plot_variable=enumTuningMap2DPlotVariables.TUNING_MAPS, fignum=1, max_screen_figure_size=(None, 1868), debug_print=False, enable_saving_to_disk=enable_saving_to_disk) "
   ]
  },
  {
   "cell_type": "code",
   "execution_count": null,
   "id": "794ad5c3-328d-41a9-b7c2-2bc6f7aaf2f7",
   "metadata": {},
   "outputs": [],
   "source": [
    "filter_name = 'maze2'\n",
    "# curr_kdiba_pipeline.display('_display_2d_placefield_result_plot_ratemaps_2D', filter_name, enable_spike_overlay=False, plot_variable=enumTuningMap2DPlotVariables.FIRING_MAPS, fignum=0, max_screen_figure_size=(None, 1868), debug_print=False, enable_saving_to_disk=enable_saving_to_disk) # works!\n",
    "curr_active_pipeline.display('_display_2d_placefield_result_plot_ratemaps_2D', filter_name, enable_spike_overlay=False, plot_variable=enumTuningMap2DPlotVariables.TUNING_MAPS, fignum=1, max_screen_figure_size=(None, 1868), debug_print=False, enable_saving_to_disk=enable_saving_to_disk) "
   ]
  },
  {
   "cell_type": "code",
   "execution_count": null,
   "id": "7c849eb9-e7c4-476d-b17c-d197d2f80983",
   "metadata": {},
   "outputs": [],
   "source": [
    "filter_name = 'maze'\n",
    "# curr_kdiba_pipeline.display('_display_2d_placefield_result_plot_ratemaps_2D', filter_name, enable_spike_overlay=False, plot_variable=enumTuningMap2DPlotVariables.FIRING_MAPS, fignum=0, max_screen_figure_size=(None, 1868), debug_print=False, enable_saving_to_disk=enable_saving_to_disk) # works!\n",
    "curr_active_pipeline.display('_display_2d_placefield_result_plot_ratemaps_2D', filter_name, enable_spike_overlay=False, plot_variable=enumTuningMap2DPlotVariables.TUNING_MAPS, fignum=1, max_screen_figure_size=(None, 1868), debug_print=False, enable_saving_to_disk=enable_saving_to_disk) "
   ]
  },
  {
   "cell_type": "code",
   "execution_count": null,
   "id": "701c4ecf-15c2-4197-927f-8f1a63c7ac20",
   "metadata": {},
   "outputs": [],
   "source": [
    "# curr_kdiba_pipeline.display(DefaultDisplayFunctions._display_3d_interactive_custom_data_explorer, 'maze1') # works!\n",
    "curr_active_pipeline.display('_display_3d_interactive_tuning_curves_plotter', 'maze1') # works!"
   ]
  },
  {
   "cell_type": "code",
   "execution_count": null,
   "id": "81189ce9-ad86-4c47-bc72-0d2fa101d9f8",
   "metadata": {
    "scrolled": true
   },
   "outputs": [],
   "source": [
    "# TODO: WARNING: creates new figures, which means many open windows when using %matplotlib qt\n",
    "curr_active_pipeline.display(DefaultDisplayFunctions._display_1d_placefield_validations, 'maze1') # works!"
   ]
  },
  {
   "cell_type": "markdown",
   "id": "2c5931d5-08ff-4e74-83e7-b123c8e8892c",
   "metadata": {
    "tags": []
   },
   "source": [
    "## Systematic Display Function Testing"
   ]
  },
  {
   "cell_type": "code",
   "execution_count": null,
   "id": "1c9ce911-8f18-42ca-ae84-5082fc70b2d1",
   "metadata": {
    "scrolled": true,
    "tags": []
   },
   "outputs": [],
   "source": [
    "curr_active_pipeline.reload_default_display_functions()\n",
    "print(curr_active_pipeline.registered_display_function_names)"
   ]
  },
  {
   "cell_type": "code",
   "execution_count": null,
   "id": "5b899e2e-396f-42c5-984f-4adbb491bc77",
   "metadata": {
    "scrolled": true
   },
   "outputs": [],
   "source": [
    "curr_active_pipeline.registered_display_function_names # ['_display_1d_placefield_validations', '_display_2d_placefield_result_plot_ratemaps_2D', '_display_2d_placefield_result_plot_raw', '_display_normal', '_display_placemaps_pyqtplot_2D', '_display_decoder_result', '_display_plot_most_likely_position_comparisons', '_display_two_step_decoder_prediction_error_2D', '_display_two_step_decoder_prediction_error_animated_2D', '_display_spike_rasters_pyqtplot_2D', '_display_spike_rasters_pyqtplot_3D', '_display_spike_rasters_pyqtplot_3D_with_2D_controls', '_display_spike_rasters_vedo_3D', '_display_spike_rasters_vedo_3D_with_2D_controls', '_display_spike_rasters_window', '_display_speed_vs_PFoverlapDensity_plots', '_display_3d_image_plotter', '_display_3d_interactive_custom_data_explorer', '_display_3d_interactive_spike_and_behavior_browser', '_display_3d_interactive_tuning_curves_plotter']"
   ]
  },
  {
   "cell_type": "code",
   "execution_count": null,
   "id": "49254b40-041b-4733-ab30-0ab6f0396d72",
   "metadata": {
    "scrolled": true
   },
   "outputs": [],
   "source": [
    "## Test getting figure save paths:\n",
    "_test_fig_path = curr_active_config.plotting_config.get_figure_save_path('test')\n",
    "_test_fig_path.exists()"
   ]
  },
  {
   "cell_type": "markdown",
   "id": "6f70f924-ee90-4679-bdba-d0f6ba3b7715",
   "metadata": {},
   "source": [
    "### Matplotlib-based plots:"
   ]
  },
  {
   "cell_type": "code",
   "execution_count": null,
   "id": "1a0a08d8-97ed-4240-b552-2bfe6048617c",
   "metadata": {
    "scrolled": true
   },
   "outputs": [],
   "source": [
    "import matplotlib\n",
    "# configure backend here\n",
    "matplotlib.use('Qt5Agg')\n",
    "import matplotlib.pyplot as plt\n",
    "from matplotlib.backends import backend_pdf, backend_pgf, backend_ps\n",
    "# import matplotlib.pyplot as plt\n",
    "# from mpl_toolkits.mplot3d import Axes3D\n",
    "# from matplotlib.path import Path\n",
    "# import matplotlib.patches as patches\n",
    "# from matplotlib.patches import Rectangle\n",
    "# from matplotlib.pyplot import cm\n",
    "from PendingNotebookCode import _build_programmatic_display_function_testing_pdf_metadata\n",
    "\n",
    "filter_name = active_config_name\n",
    "_build_pdf_pages_output_info, programmatic_display_function_testing_output_parent_path = _build_programmatic_display_function_testing_pdf_metadata(curr_active_pipeline, filter_name=filter_name,\n",
    "                                                                                                                                                   out_path=Path(r'C:\\Users\\pho\\repos\\PhoPy3DPositionAnalysis2021\\EXTERNAL\\Screenshots\\ProgrammaticDisplayFunctionTesting\\2022-07-19'))\n",
    "reveal_in_system_file_manager(programmatic_display_function_testing_output_parent_path)"
   ]
  },
  {
   "cell_type": "code",
   "execution_count": null,
   "id": "89d7a04e-6f04-42ab-9a7c-58b4f48976bd",
   "metadata": {
    "pycharm": {
     "name": "#%%\n"
    }
   },
   "outputs": [],
   "source": [
    "%%capture\n",
    "#The above hides the output in JupyterLab Notebooks, must be first line in the cell to hide the output of\n",
    "curr_display_function_name = '_display_1d_placefield_validations'\n",
    "built_pdf_metadata, curr_pdf_save_path = _build_pdf_pages_output_info(curr_display_function_name)\n",
    "with backend_pdf.PdfPages(curr_pdf_save_path, keep_empty=False, metadata=built_pdf_metadata) as pdf:\n",
    "    # plt.ioff() # disable displaying the plots inline in the Jupyter-lab notebook. NOTE: does not work in Jupyter-Lab, figures still show\n",
    "    plots = curr_active_pipeline.display(curr_display_function_name, active_config_name) # works, but generates a TON of plots!\n",
    "    # plt.ion()\n",
    "    for fig_idx, a_fig in enumerate(plots):\n",
    "        # print(f'saving fig: {fig_idx+1}/{len(plots)}')\n",
    "        pdf.savefig(a_fig)\n",
    "        # pdf.savefig(a_fig, transparent=True)\n",
    "    # When no figure is specified the current figure is saved\n",
    "    # pdf.savefig()"
   ]
  },
  {
   "cell_type": "code",
   "execution_count": null,
   "id": "e063f67f-a950-4b2f-95e7-e9d3242de25c",
   "metadata": {
    "scrolled": true
   },
   "outputs": [],
   "source": [
    "%%capture\n",
    "curr_display_function_name = '_display_2d_placefield_result_plot_raw'\n",
    "built_pdf_metadata, curr_pdf_save_path = _build_pdf_pages_output_info(curr_display_function_name)\n",
    "with backend_pdf.PdfPages(curr_pdf_save_path, keep_empty=False, metadata=built_pdf_metadata) as pdf:\n",
    "    a_fig = curr_active_pipeline.display(curr_display_function_name, filter_name)\n",
    "    pdf.savefig(a_fig)\n",
    "\n",
    "# Issue with unexpected kwargs passed to plots. Solve generally.\n",
    "# TypeError: plot_raw() got an unexpected keyword argument 'enable_saving_to_disk'"
   ]
  },
  {
   "cell_type": "code",
   "execution_count": null,
   "id": "8d1ec3f5-5e7a-4462-b7c2-edb90e09e226",
   "metadata": {
    "scrolled": true
   },
   "outputs": [],
   "source": [
    "# %%capture\n",
    "curr_display_function_name = '_display_normal'\n",
    "built_pdf_metadata, curr_pdf_save_path = _build_pdf_pages_output_info(curr_display_function_name)\n",
    "with backend_pdf.PdfPages(curr_pdf_save_path, keep_empty=False, metadata=built_pdf_metadata) as pdf:\n",
    "    fig0, figList1 = curr_active_pipeline.display(curr_display_function_name, filter_name, debug_print=False, enable_saving_to_disk=enable_saving_to_disk)\n",
    "    plots = [fig0, *figList1]\n",
    "    for a_fig in plots:\n",
    "        pdf.savefig(a_fig)"
   ]
  },
  {
   "cell_type": "code",
   "execution_count": null,
   "id": "187aafcf-c1b6-4148-b003-7cb4d2ec2c6a",
   "metadata": {
    "scrolled": true
   },
   "outputs": [],
   "source": [
    "%%capture\n",
    "curr_display_function_name = '_display_decoder_result'\n",
    "built_pdf_metadata, curr_pdf_save_path = _build_pdf_pages_output_info(curr_display_function_name)\n",
    "with backend_pdf.PdfPages(curr_pdf_save_path, keep_empty=False, metadata=built_pdf_metadata) as pdf:\n",
    "    plots = curr_active_pipeline.display(curr_display_function_name, filter_name)\n",
    "    print(plots)\n",
    "    # pdf.savefig(a_fig)"
   ]
  },
  {
   "cell_type": "markdown",
   "id": "0be6f5f0-f4d0-4ce6-acde-c78e23847386",
   "metadata": {
    "tags": []
   },
   "source": [
    "### PyQtGraph-based plots:"
   ]
  },
  {
   "cell_type": "code",
   "execution_count": null,
   "id": "f352c884-9152-4bfd-9256-bedb0a618d1e",
   "metadata": {
    "pycharm": {
     "name": "#%%\n"
    }
   },
   "outputs": [],
   "source": [
    "# import pyqtgraph as pg\n",
    "import pyphoplacecellanalysis.External.pyqtgraph.exporters\n",
    "# import pyphoplacecellanalysis.External.pyqtgraph.widgets.GraphicsLayoutWidget\n",
    "from pyphoplacecellanalysis.External.pyqtgraph.widgets.GraphicsView import GraphicsView\n",
    "\n",
    "def export_pyqtgraph_plot(a_plot, debug_print=True):\n",
    "    # create an exporter instance, as an argument give it\n",
    "    # the item you wish to export    \n",
    "    if isinstance(a_plot, GraphicsView):\n",
    "        a_plot = a_plot.scene()\n",
    "    else:\n",
    "        a_plot = a_plot.plotItem\n",
    "    exporter = pg.exporters.ImageExporter(a_plot)\n",
    "    # set export parameters if needed\n",
    "    # exporter.parameters()['width'] = 100   # (note this also affects height parameter)\n",
    "    # save to file\n",
    "    export_filepath = 'fileName.png'\n",
    "    exporter.export(export_filepath)\n",
    "    if debug_print:\n",
    "        print(f'exported plot to {export_filepath}')\n"
   ]
  },
  {
   "cell_type": "code",
   "execution_count": null,
   "id": "8d36faf2-93e3-4e3c-8637-5d5f1cf65cd0",
   "metadata": {
    "pycharm": {
     "name": "#%%\n"
    }
   },
   "outputs": [],
   "source": [
    "curr_active_pipeline.display('_display_two_step_decoder_prediction_error_2D', active_config_name, variable_name='p_x_given_n_and_x_prev') # works!"
   ]
  },
  {
   "cell_type": "code",
   "execution_count": null,
   "id": "f0c49ccf",
   "metadata": {
    "pycharm": {
     "name": "#%%\n"
    }
   },
   "outputs": [],
   "source": [
    "curr_active_pipeline.display('_display_two_step_decoder_prediction_error_animated_2D', active_config_name, variable_name='p_x_given_n')"
   ]
  },
  {
   "cell_type": "code",
   "execution_count": null,
   "id": "c14b1549-6a5f-493f-98f2-3b3f367cc43b",
   "metadata": {
    "pycharm": {
     "name": "#%%\n"
    }
   },
   "outputs": [],
   "source": [
    "curr_active_pipeline.display('_display_two_step_decoder_prediction_error_2D', active_config_name, variable_name='p_x_given_n') # works!"
   ]
  },
  {
   "cell_type": "code",
   "execution_count": null,
   "id": "b0beb5b7-aa10-464e-a0a5-17682f66829b",
   "metadata": {
    "pycharm": {
     "is_executing": false,
     "name": "#%%\n"
    }
   },
   "outputs": [],
   "source": [
    "curr_active_pipeline.display('_display_3d_interactive_spike_and_behavior_browser', active_config_name) # this works now!"
   ]
  },
  {
   "cell_type": "code",
   "execution_count": null,
   "id": "5249ee97-6127-4815-b0a9-63adc3c7b858",
   "metadata": {
    "scrolled": true
   },
   "outputs": [],
   "source": [
    "curr_display_function_name = '_display_spike_rasters_pyqtplot_2D'\n",
    "curr_active_pipeline.display(curr_display_function_name, filter_name, debug_print=False, enable_saving_to_disk=enable_saving_to_disk) "
   ]
  },
  {
   "cell_type": "code",
   "execution_count": null,
   "id": "76ecbf71-92fb-41ac-ae91-704815fa401d",
   "metadata": {
    "scrolled": true
   },
   "outputs": [],
   "source": [
    "# out_plot_1D, out_plot_2D = curr_active_pipeline.display('_display_speed_vs_PFoverlapDensity_plots', active_config_name)\n",
    "curr_display_function_name = '_display_speed_vs_PFoverlapDensity_plots'\n",
    "plots = curr_active_pipeline.display(curr_display_function_name, filter_name)\n",
    "plots"
   ]
  },
  {
   "cell_type": "code",
   "execution_count": null,
   "id": "0167194d-fd65-414a-b98c-d52bb5431980",
   "metadata": {
    "tags": []
   },
   "outputs": [],
   "source": [
    "curr_display_function_name = '_display_placemaps_pyqtplot_2D'\n",
    "out_plots = curr_active_pipeline.display(curr_display_function_name, filter_name)    \n",
    "out_plots[1].show()"
   ]
  },
  {
   "cell_type": "code",
   "execution_count": null,
   "id": "e23be7d8-36ea-4488-a7a1-fce4ccc797bc",
   "metadata": {
    "tags": []
   },
   "outputs": [],
   "source": [
    "curr_display_function_name = '_display_speed_vs_PFoverlapDensity_plots'\n",
    "plots = curr_active_pipeline.display(curr_display_function_name, filter_name)\n",
    "plots"
   ]
  },
  {
   "cell_type": "code",
   "execution_count": null,
   "id": "4d0f0334-c55b-47e3-9566-24fa03d5b6b5",
   "metadata": {
    "tags": []
   },
   "outputs": [],
   "source": [
    "curr_display_function_name = 'display_firing_rate_trends'\n",
    "plots = curr_active_pipeline.display(curr_display_function_name, filter_name)"
   ]
  },
  {
   "cell_type": "code",
   "execution_count": null,
   "id": "92072248-64cf-4ccf-93b0-f20104cf15c2",
   "metadata": {
    "tags": []
   },
   "outputs": [],
   "source": [
    "# a_plot = plots[0] # PlotWidget \n",
    "# a_plot_item = a_plot.plotItem # PlotItem\n",
    "# a_plot.scene() # GraphicsScene\n",
    "export_pyqtgraph_plot(plots[0])"
   ]
  },
  {
   "cell_type": "markdown",
   "id": "3fcfe3c2-0531-48ca-88c9-e291377650c4",
   "metadata": {},
   "source": [
    "### 3D (Vedo/etc)-based plots:"
   ]
  },
  {
   "cell_type": "code",
   "execution_count": null,
   "id": "ade9db56-3c6a-4216-ac7a-b763dfb42541",
   "metadata": {
    "pycharm": {
     "is_executing": false,
     "name": "#%%\n"
    }
   },
   "outputs": [],
   "source": [
    "display_dict = curr_active_pipeline.display('_display_3d_interactive_custom_data_explorer', active_config_name) # does not work, missing color info?\n",
    "iplapsDataExplorer = display_dict['iplapsDataExplorer']\n",
    "# plotter is available at\n",
    "p = display_dict['plotter']\n",
    "iplapsDataExplorer"
   ]
  },
  {
   "cell_type": "code",
   "execution_count": null,
   "id": "2013f06b-2185-4bad-a517-40d1b39e28ae",
   "metadata": {
    "pycharm": {
     "name": "#%%\n"
    }
   },
   "outputs": [],
   "source": [
    "should_smooth_maze"
   ]
  },
  {
   "cell_type": "markdown",
   "id": "7c3136f4",
   "metadata": {
    "pycharm": {
     "name": "#%% md\n"
    },
    "tags": []
   },
   "source": [
    "# Common: Optional Saving"
   ]
  },
  {
   "cell_type": "code",
   "execution_count": null,
   "id": "f88f630e-c22e-4d4e-864d-f7463b285904",
   "metadata": {
    "pycharm": {
     "name": "#%%\n"
    }
   },
   "outputs": [],
   "source": [
    "import pickle\n",
    "from pyphoplacecellanalysis.General.Mixins.ExportHelpers import _test_save_pipeline_data_to_h5, get_h5_data_keys, save_some_pipeline_data_to_h5, load_pipeline_data_from_h5  #ExportHelpers\n",
    "# Define Saving/Loading Directory and paths:\n",
    "finalized_output_cache_file='data/pipeline_cache_store.h5'"
   ]
  },
  {
   "cell_type": "code",
   "execution_count": null,
   "id": "bf1c7148-17db-435f-9ccf-5407fa9ea257",
   "metadata": {
    "pycharm": {
     "name": "#%%\n"
    }
   },
   "outputs": [],
   "source": [
    "# List existing keys in the file:\n",
    "out_keys = get_h5_data_keys(finalized_output_cache_file=finalized_output_cache_file)\n",
    "print(out_keys)"
   ]
  },
  {
   "cell_type": "code",
   "execution_count": null,
   "id": "c6c4d1d0-a11e-4003-b6af-39d9a999b98f",
   "metadata": {
    "pycharm": {
     "name": "#%%\n"
    }
   },
   "outputs": [],
   "source": [
    "active_config_name = 'maze1'\n",
    "# active_config_name = 'maze'\n",
    "\n",
    "desired_spikes_df_key = f'/filtered_sessions/{active_config_name}/spikes_df'\n",
    "desired_positions_df_key = f'/filtered_sessions/{active_config_name}/pos_df'\n",
    "# desired_spikes_df_key = f'/filtered_sessions/{active_config_name}/spikes_df'\n",
    "\n",
    "# Get relevant variables:\n",
    "# curr_active_pipeline is set above, and usable here\n",
    "sess: DataSession = curr_active_pipeline.filtered_sessions[active_config_name]\n",
    "active_computed_data = curr_active_pipeline.computation_results[active_config_name].computed_data\n",
    "print(f'active_computed_data.keys(): {active_computed_data.keys()}')\n",
    "pf = curr_active_pipeline.computation_results[active_config_name].computed_data['pf1D']\n",
    "active_one_step_decoder = curr_active_pipeline.computation_results[active_config_name].computed_data['pf2D_Decoder']\n",
    "active_two_step_decoder = curr_active_pipeline.computation_results[active_config_name].computed_data.get('pf2D_TwoStepDecoder', None)\n",
    "active_measured_positions = curr_active_pipeline.computation_results[active_config_name].sess.position.to_dataframe()"
   ]
  },
  {
   "cell_type": "code",
   "execution_count": null,
   "id": "85eeff2a-223e-41e0-857b-bb520484a1c0",
   "metadata": {
    "pycharm": {
     "name": "#%%\n"
    }
   },
   "outputs": [],
   "source": [
    "# desired_positions_df_key\n",
    "\n",
    "output_save_result = save_some_pipeline_data_to_h5(curr_active_pipeline, finalized_output_cache_file=finalized_output_cache_file)\n",
    "output_save_result"
   ]
  },
  {
   "cell_type": "code",
   "execution_count": null,
   "id": "9dc6bc10-def1-4b7d-a880-f6abfbdc4fed",
   "metadata": {
    "pycharm": {
     "name": "#%%\n"
    }
   },
   "outputs": [],
   "source": [
    "finalized_output_cache_file = _test_save_pipeline_data_to_h5(curr_active_pipeline, finalized_output_cache_file=finalized_output_cache_file, enable_dry_run=False, enable_debug_print=True)\n",
    "finalized_output_cache_file"
   ]
  },
  {
   "cell_type": "code",
   "execution_count": null,
   "id": "81f66af6-30db-4c59-8f0c-96b07ec3b789",
   "metadata": {
    "pycharm": {
     "name": "#%%\n"
    }
   },
   "outputs": [],
   "source": [
    "# Load the saved .h5 spikes dataframe for testing:\n",
    "desired_spikes_df_key = f'/filtered_sessions/{active_config_name}/spikes_df'\n",
    "desired_positions_df_key = f'/filtered_sessions/{active_config_name}/pos_df'    \n",
    "spikes_df, pos_df = load_pipeline_data_from_h5(finalized_output_cache_file=finalized_output_cache_file, desired_spikes_df_key=desired_spikes_df_key, desired_positions_df_key=desired_positions_df_key)\n"
   ]
  },
  {
   "cell_type": "code",
   "execution_count": null,
   "id": "9c34c96d-5a22-4429-80ea-65729522f66c",
   "metadata": {
    "pycharm": {
     "is_executing": false,
     "name": "#%%\n"
    }
   },
   "outputs": [],
   "source": [
    "print(f't_start: {curr_active_pipeline.sess.epochs.t_start}')\n",
    "print(f't_stop: {curr_active_pipeline.sess.epochs.t_stop}')\n",
    "# curr_active_pipeline.sess.epochs.t_stop"
   ]
  },
  {
   "cell_type": "code",
   "execution_count": null,
   "id": "a4f5cda1-d77f-4b13-bdc2-34de69597139",
   "metadata": {
    "pycharm": {
     "is_executing": false,
     "name": "#%%\n"
    }
   },
   "outputs": [],
   "source": [
    "curr_sess.epochs.t_start\n",
    "print(f't_start: {sess.epochs.t_start}')\n",
    "print(f't_stop: {sess.epochs.t_stop}')"
   ]
  },
  {
   "cell_type": "markdown",
   "id": "91ad4fc2-7f79-4153-97a0-61a27ef05b9f",
   "metadata": {
    "pycharm": {
     "name": "#%%\n"
    }
   },
   "source": [
    "## Test saving out custom computation result:"
   ]
  },
  {
   "cell_type": "code",
   "execution_count": null,
   "id": "20420a8d-1030-4d0c-b0c2-c014b52998ff",
   "metadata": {
    "pycharm": {
     "name": "#%%\n"
    }
   },
   "outputs": [],
   "source": [
    "# computation_results[active_config_name].computed_data\n",
    "computation_cache_identifier_key = f'computation_results/{active_config_name}/computed_data'\n",
    "computation_cache_key = 'burst_detection/burst_intervals'\n",
    "# active_burst_intervals\n",
    "\n",
    "filtered_burst_intervals = active_burst_intervals\n",
    "# Rebuild a single dataframe from: .groupby('aclu').get_group(a_cell_id)\n",
    "for (a_cell_id, curr_pyburst_interval_df) in active_burst_intervals.items():\n",
    "    # loop through the cell_ids  \n",
    "    # Filter to only zero- and first-order bursts:\n",
    "    # curr_pyburst_interval_df = curr_pyburst_interval_df[curr_pyburst_interval_df['burst_level'] < 2]\n",
    "    # add the 'aclu' column\n",
    "    # curr_pyburst_interval_df['aclu'] = a_cell_id\n",
    "    filtered_burst_intervals[a_cell_id] = curr_pyburst_interval_df\n",
    "\n",
    "## Concatinate the separate dataframes for each neuron into a single dataframe with an 'aclu' column so that it can be cached/saved to disk:\n",
    "# pd.concat([s1, s2], keys=['s1', 's2'])\n",
    "filtered_combined_df = pd.concat(filtered_burst_intervals.values(), keys=list(filtered_burst_intervals.keys()), names=['aclu', 'cell_burst_id'])\n",
    "# pd.concat(filtered_burst_intervals.values(), keys=list(filtered_burst_intervals.keys()), names=['aclu', 'cell_burst_id'], ignore_index=True)\n",
    "print_dataframe_memory_usage(filtered_combined_df)\n",
    "# filtered_combined_df\n",
    "\n",
    "# Define Saving/Loading Directory and paths:\n",
    "finalized_computation_cache_file='data/computation_results_cache_store.h5'\n",
    "computation_cache_identifier_key = f'computation_results/{active_config_name}/computed_data'\n",
    "filtered_combined_df.to_hdf(finalized_computation_cache_file, key=f'{computation_cache_identifier_key}/{computation_cache_key}')"
   ]
  },
  {
   "cell_type": "code",
   "execution_count": null,
   "id": "1bf110a2-ea48-4e3d-8415-0df70fbdee70",
   "metadata": {
    "scene__Default Scene": true,
    "tags": [
     "ActiveScene"
    ]
   },
   "outputs": [],
   "source": [
    "# _test_computation_result_output_path = Path('output', active_data_mode_name, sess.name) # active_data_mode_name: 'kdiba'; sess.name: '2006-6-07_11-26-53'\n",
    "_test_computation_result_output_path = Path('output') # active_data_mode_name: 'kdiba'; sess.name: '2006-6-07_11-26-53'\n",
    "finalized_computation_results_out_file=_test_computation_result_output_path.joinpath('computation_results_store.h5')\n",
    "# Do particular key:\n",
    "computation_result_recording_session_identifier_path = f'{active_data_mode_name}/{sess.name}' # 'kdiba/2006-6-07_11-26-53'\n",
    "\n",
    "## Specific Config:\n",
    "active_config_name = 'maze1'\n",
    "# active_config_name = 'maze2'\n",
    "# active_config_name = 'maze'\n",
    "computation_result_identifier_path = f'{computation_result_recording_session_identifier_path}/computation_results/{active_config_name}' # 'kdiba/2006-6-07_11-26-53/computation_results/maze1'\n",
    "computation_result_identifier_computed_data_path = f'{computation_result_identifier_path}/computed_data' # 'kdiba/2006-6-07_11-26-53/computation_results/maze1/computed_data'\n",
    "# computation_result_key = 'burst_detection/burst_intervals'\n",
    "\n",
    "print(f'computation_result_identifier_path: \"{computation_result_identifier_path}\"')\n",
    "\n",
    "# Get relevant variables:\n",
    "# curr_active_pipeline is set above, and usable here\n",
    "sess: DataSession = curr_active_pipeline.filtered_sessions[active_config_name]\n",
    "\n",
    "active_computation_results = curr_active_pipeline.computation_results[active_config_name]\n",
    "active_computed_data = curr_active_pipeline.computation_results[active_config_name].computed_data\n",
    "active_computation_config = curr_active_pipeline.computation_results[active_config_name].computation_config\n",
    "active_computation_errors = curr_active_pipeline.computation_results[active_config_name].accumulated_errors\n",
    "print(f'active_computed_data.keys(): {list(active_computed_data.keys())}')\n",
    "# print(f'active_computation_errors: {active_computation_errors}')\n",
    "active_pf_1D = curr_active_pipeline.computation_results[active_config_name].computed_data['pf1D']\n",
    "active_pf_2D = curr_active_pipeline.computation_results[active_config_name].computed_data['pf2D']    \n",
    "active_pf_1D_dt = curr_active_pipeline.computation_results[active_config_name].computed_data.get('pf1D_dt', None)\n",
    "active_pf_2D_dt = curr_active_pipeline.computation_results[active_config_name].computed_data.get('pf2D_dt', None)\n",
    "active_one_step_decoder = curr_active_pipeline.computation_results[active_config_name].computed_data.get('pf2D_Decoder', None)\n",
    "active_two_step_decoder = curr_active_pipeline.computation_results[active_config_name].computed_data.get('pf2D_TwoStepDecoder', None)\n",
    "active_eloy_analysis = curr_active_pipeline.computation_results[active_config_name].computed_data.get('EloyAnalysis', None)\n",
    "active_simpler_pf_densities_analysis = curr_active_pipeline.computation_results[active_config_name].computed_data.get('SimplerNeuronMeetingThresholdFiringAnalysis', None)\n",
    "active_ratemap_peaks_analysis = curr_active_pipeline.computation_results[active_config_name].computed_data.get('RatemapPeaksAnalysis', None)\n",
    "active_peak_prominence_2d_results = curr_active_pipeline.computation_results[active_config_name].computed_data.get('RatemapPeaksAnalysis', {}).get('PeakProminence2D', None)\n",
    "active_measured_positions = curr_active_pipeline.computation_results[active_config_name].sess.position.to_dataframe()\n",
    "curr_spikes_df = sess.spikes_df\n",
    "\n",
    "curr_active_config = curr_active_pipeline.active_configs[active_config_name]\n",
    "curr_active_display_config = curr_active_config.plotting_config"
   ]
  },
  {
   "cell_type": "code",
   "execution_count": null,
   "id": "6431c00b-799a-4380-b63b-f06777beb9ac",
   "metadata": {
    "scene__Default Scene": true,
    "tags": [
     "ActiveScene"
    ]
   },
   "outputs": [],
   "source": [
    "## Test special pickle\n",
    "import pickle\n",
    "# Its important to use binary mode\n",
    "_test_computation_result_output_path = Path('output') # active_data_mode_name: 'kdiba'; sess.name: '2006-6-07_11-26-53'\n",
    "finalized_computation_results_out_pickle_test_file=_test_computation_result_output_path.joinpath('examplePickle.pkl')\n",
    "\n",
    "def saveData(pkl_path, db):\n",
    "    with open(pkl_path, 'ab') as dbfile:\n",
    "        # source, destination\n",
    "        pickle.dump(db, dbfile)                     \n",
    "        dbfile.close()\n",
    "\n",
    "def loadData(pkl_path, debug_print=False):\n",
    "    # for reading also binary mode is important\n",
    "    db = None\n",
    "    with open(pkl_path, 'rb') as dbfile:\n",
    "        db = pickle.load(dbfile)\n",
    "        if debug_print:\n",
    "            for keys in db:\n",
    "                print(keys, '=>', db[keys])\n",
    "        dbfile.close()\n",
    "        return db\n",
    "    return db"
   ]
  },
  {
   "cell_type": "code",
   "execution_count": null,
   "id": "f71f5996-44ba-430b-b7af-7b7290383700",
   "metadata": {
    "scene__Default Scene": true,
    "tags": [
     "ActiveScene"
    ]
   },
   "outputs": [],
   "source": [
    "saveData(finalized_computation_results_out_pickle_test_file, db=active_computed_data)\n",
    "# saveData(finalized_computation_results_out_pickle_test_file, db={'pf2D': active_pf_2D, 'RatemapPeaksAnalysis': active_ratemap_peaks_analysis})"
   ]
  },
  {
   "cell_type": "code",
   "execution_count": null,
   "id": "571b98b0-f9fd-41d6-8a06-e0ad15279ae5",
   "metadata": {
    "scene__Default Scene": true,
    "tags": [
     "ActiveScene"
    ]
   },
   "outputs": [],
   "source": [
    "db = loadData(finalized_computation_results_out_pickle_test_file, debug_print=False)\n",
    "db"
   ]
  },
  {
   "cell_type": "code",
   "execution_count": null,
   "id": "e5fb46dc-3695-4362-b496-42cd8213a483",
   "metadata": {
    "scene__Default Scene": true,
    "tags": [
     "ActiveScene"
    ]
   },
   "outputs": [],
   "source": [
    "active_pf_1D.str_for_filename() # 'pf1D-speedThresh_10.00-gridBin_4.00-smooth_2.50-frateThresh_0.20'\n",
    "active_pf_1D.to_pickle()\n"
   ]
  },
  {
   "cell_type": "code",
   "execution_count": null,
   "id": "009b7f92-f70b-4cbf-97ca-1ac859a7786d",
   "metadata": {
    "pycharm": {
     "is_executing": false
    },
    "scrolled": true
   },
   "outputs": [],
   "source": [
    "## Note that pickling the whole spikes_df dataframe when done is very quick, especially to load!\n",
    "active_file_suffix = '.spikes_df_full.pkl'\n",
    "spikes_df_save_path = curr_active_pipeline.sess.filePrefix.with_suffix(active_file_suffix)\n",
    "print(f'spikes_df_save_path: {spikes_df_save_path}')"
   ]
  },
  {
   "cell_type": "code",
   "execution_count": null,
   "id": "7574f86c-0b1c-4460-a088-5e83de722964",
   "metadata": {
    "pycharm": {
     "is_executing": false
    },
    "scrolled": true
   },
   "outputs": [],
   "source": [
    "curr_active_pipeline.sess.spikes_df.to_pickle(spikes_df_save_path)  # where to save it, usually as a .pkl"
   ]
  },
  {
   "cell_type": "code",
   "execution_count": null,
   "id": "d4f616f2-af50-4f2c-9988-a80b05d81e3b",
   "metadata": {
    "pycharm": {
     "is_executing": false
    },
    "scrolled": true
   },
   "outputs": [],
   "source": [
    "loaded_spikes_df = pd.read_pickle(spikes_df_save_path)\n",
    "loaded_spikes_df"
   ]
  },
  {
   "cell_type": "markdown",
   "id": "1b953e0e-5baf-456b-afe5-1d4e488d717f",
   "metadata": {
    "pycharm": {
     "name": "#%%\n"
    }
   },
   "source": [
    "## Test building interactive export Parameters tree GUI to select computation results to save out :"
   ]
  },
  {
   "cell_type": "code",
   "execution_count": null,
   "id": "8834bbeb-71b2-4af1-9819-bd4f32e316f4",
   "metadata": {
    "pycharm": {
     "name": "#%%\n"
    }
   },
   "outputs": [],
   "source": [
    "from pyphoplacecellanalysis.GUI.PyQtPlot.Params.ParameterTrees.ExportPipelineParametersTree import build_export_parameters_tree\n",
    "## Build the actual ParameterTree widget, the core GUI\n",
    "title = 'ExportParamsTest'\n",
    "app = pg.mkQApp(title)\n",
    "p = build_export_parameters_tree(curr_active_pipeline, parameter_names='ExportParams', finalized_output_cache_file='data/pipeline_cache_store.h5', include_state_save_restore_buttons=False, debug_print=True)\n",
    "\n",
    "paramTree = ParameterTree()\n",
    "paramTree.setParameters(p, showTop=False)\n",
    "paramTree.show()\n",
    "paramTree.setWindowTitle(f'PhoParamTreeApp: pyqtgraph ParameterTree: {title}')\n",
    "paramTree.resize(800,600)"
   ]
  },
  {
   "cell_type": "markdown",
   "id": "44aa38a3-402a-49dc-9a1a-425831c368cc",
   "metadata": {
    "pycharm": {
     "is_executing": false,
     "name": "#%%\n"
    },
    "tags": []
   },
   "source": [
    "# Testing burst detection: Calculate the spiking profile using pyspike and display the outputs:"
   ]
  },
  {
   "cell_type": "markdown",
   "id": "71ef63a9-ee2d-4aa7-8f00-b086ead49b6e",
   "metadata": {
    "jp-MarkdownHeadingCollapsed": true,
    "pycharm": {
     "is_executing": false,
     "name": "#%%\n"
    },
    "tags": []
   },
   "source": [
    "### pybursts"
   ]
  },
  {
   "cell_type": "code",
   "execution_count": null,
   "id": "47f27070-910d-4cb3-9499-06822c1e6088",
   "metadata": {
    "pycharm": {
     "name": "#%%\n"
    }
   },
   "outputs": [],
   "source": [
    "from pybursts import pybursts\n",
    "import matplotlib.pyplot as plt\n",
    "from indexed import IndexedOrderedDict\n",
    "from pyphocorehelpers.print_helpers import print_dataframe_memory_usage\n",
    "from copy import deepcopy\n",
    "\n",
    "active_burst_info = active_computed_data['burst_detection']\n",
    "active_burst_intervals = deepcopy(active_burst_info['burst_intervals'])\n",
    "filtered_burst_intervals = active_burst_intervals"
   ]
  },
  {
   "cell_type": "code",
   "execution_count": null,
   "id": "c5a08c35-b90c-4d26-af35-78151c643627",
   "metadata": {
    "pycharm": {
     "name": "#%%\n"
    }
   },
   "outputs": [],
   "source": [
    "# bursting_interval_datasource = Render2DEventRectanglesHelper.build_interval_datasource_from_active_burst_intervals(active_burst_intervals=filtered_burst_intervals)\n",
    "bursting_interval_datasource = Render2DEventRectanglesHelper.build_burst_event_rectangle_datasource(spike_raster_window.spike_raster_plt_2d, active_burst_intervals, datasource_name='active_burst_intervals_datasource', included_burst_levels=[1,2,3,4,5])\n",
    "# bursting_interval_datasource"
   ]
  },
  {
   "cell_type": "code",
   "execution_count": null,
   "id": "29a5f19a-4275-4c85-9289-ac03001be155",
   "metadata": {
    "pycharm": {
     "name": "#%%\n"
    }
   },
   "outputs": [],
   "source": [
    "active_bursts_interval_rects_item = Render2DEventRectanglesHelper.build_IntervalRectsItem_from_interval_datasource(bursting_interval_datasource)\n",
    "active_bursts_interval_rects_item.setToolTip('Bursting')\n",
    "active_bursts_interval_rects_item"
   ]
  },
  {
   "cell_type": "markdown",
   "id": "3717416c-e58f-4c91-be79-9915d5c2d243",
   "metadata": {
    "jp-MarkdownHeadingCollapsed": true,
    "pycharm": {
     "name": "#%%\n"
    },
    "tags": []
   },
   "source": [
    "## Plot the burst periods as rectangles on the 2D Raster Plot:"
   ]
  },
  {
   "cell_type": "code",
   "execution_count": null,
   "id": "dfb88674-ff13-4e95-836b-a636e08afde6",
   "metadata": {
    "pycharm": {
     "is_executing": false,
     "name": "#%%\n"
    }
   },
   "outputs": [],
   "source": [
    "# from pyphoplacecellanalysis.GUI.PyQtPlot.Widgets.Mixins.Render2DEventRectanglesHelper import Render2DEventRectanglesHelper\n",
    "\n",
    "# rect_return_dict = Render2DEventRectanglesHelper.add_event_rectangles(spike_raster_window.spike_raster_plt_2d, active_burst_intervals, included_burst_levels=[1]) # {'interval_rects_item': active_interval_rects_item}\n",
    "rect_return_dict = Render2DEventRectanglesHelper.add_event_rectangles(spike_raster_window.spike_raster_plt_2d, active_burst_intervals, included_burst_levels=[1,2,3,4,5]) # {'interval_rects_item': active_interval_rects_item}\n",
    "\n",
    "active_interval_rects_item = rect_return_dict['interval_rects_item']"
   ]
  },
  {
   "cell_type": "markdown",
   "id": "14511d03-97ac-46ac-b912-0e27cdadc7e9",
   "metadata": {
    "pycharm": {
     "is_executing": false,
     "name": "#%%\n"
    }
   },
   "source": [
    "#### Plot the result:"
   ]
  },
  {
   "cell_type": "code",
   "execution_count": null,
   "id": "a70a0f71-4139-461e-8582-d20b1a8728ed",
   "metadata": {
    "pycharm": {
     "is_executing": false,
     "name": "#%%\n"
    }
   },
   "outputs": [],
   "source": [
    "main_plot_widget = spike_raster_window.spike_raster_plt_2d.plots.main_plot_widget # PlotItem\n",
    "background_static_scroll_plot_widget = spike_raster_window.spike_raster_plt_2d.plots.background_static_scroll_window_plot # PlotItem"
   ]
  },
  {
   "cell_type": "code",
   "execution_count": null,
   "id": "425293be-df76-4095-917a-66825d6676bf",
   "metadata": {
    "pycharm": {
     "is_executing": false,
     "name": "#%%\n"
    }
   },
   "outputs": [],
   "source": [
    "## Remove the active_interval_rects_item:\n",
    "main_plot_widget.removeItem(active_interval_rects_item)\n",
    "active_interval_rects_item = None"
   ]
  },
  {
   "cell_type": "code",
   "execution_count": null,
   "id": "1f539ee8-01fd-416b-94c6-655489d551d0",
   "metadata": {
    "pycharm": {
     "is_executing": false,
     "name": "#%%\n"
    }
   },
   "outputs": [],
   "source": [
    "## Add the active_interval_rects_item to the background_static_scroll_window_plot: \n",
    "background_static_scroll_plot_widget.addItem(active_interval_rects_item)"
   ]
  },
  {
   "cell_type": "code",
   "execution_count": null,
   "id": "747b732a-7c05-4eca-84de-e8d78e991a23",
   "metadata": {
    "pycharm": {
     "is_executing": false,
     "name": "#%%\n"
    }
   },
   "outputs": [],
   "source": [
    "## Remove the active_interval_rects_item:\n",
    "background_static_scroll_plot_widget.removeItem(active_interval_rects_item)\n",
    "active_interval_rects_item = None"
   ]
  },
  {
   "cell_type": "markdown",
   "id": "3c7ca802-f4af-493c-a083-5e5baaf44986",
   "metadata": {
    "pycharm": {
     "is_executing": false,
     "name": "#%%\n"
    },
    "tags": []
   },
   "source": [
    "## Scratch"
   ]
  },
  {
   "cell_type": "code",
   "execution_count": null,
   "id": "cbe6ed1f-b6ba-453a-a1cd-bf4ec753ebed",
   "metadata": {
    "pycharm": {
     "is_executing": false,
     "name": "#%%\n"
    }
   },
   "outputs": [],
   "source": [
    "active_burst_intervals_neuron_IDXs_list = spike_raster_window.spike_raster_plt_2d.find_neuron_IDXs_from_cell_ids(list(filtered_burst_intervals.keys()))\n",
    "# { spike_raster_window.spike_raster_plt_2d.get_neuron_id_and_idx(neuron_id=a_neuron_id)[0] for i, a_neuron_id in enumerate(list(filtered_burst_intervals.keys()))}\n",
    "neuron_id_qcolors_map = {a_neuron_id:spike_raster_window.spike_raster_plt_2d.params.neuron_qcolors_map[spike_raster_window.spike_raster_plt_2d.get_neuron_id_and_idx(neuron_id=a_neuron_id)[0]] for i, a_neuron_id in enumerate(list(filtered_burst_intervals.keys()))}\n",
    "neuron_id_qcolors_map"
   ]
  },
  {
   "cell_type": "code",
   "execution_count": null,
   "id": "d54cdea9-60f8-4543-8852-0e89b25208d6",
   "metadata": {
    "pycharm": {
     "is_executing": false,
     "name": "#%%\n"
    }
   },
   "outputs": [],
   "source": [
    "spike_raster_window.spike_raster_plt_2d.config_fragile_linear_neuron_IDX_map"
   ]
  },
  {
   "cell_type": "code",
   "execution_count": null,
   "id": "e51262d9-2b1e-45f6-95c1-4b2125467be6",
   "metadata": {
    "pycharm": {
     "is_executing": false,
     "name": "#%%\n"
    }
   },
   "outputs": [],
   "source": [
    "spike_raster_window.spike_raster_plt_2d.params.config_items"
   ]
  },
  {
   "cell_type": "code",
   "execution_count": null,
   "id": "94981b54-ff31-4050-8f4d-5275dc394fbe",
   "metadata": {
    "pycharm": {
     "is_executing": false,
     "name": "#%%\n"
    }
   },
   "outputs": [],
   "source": [
    "print_keys_if_possible('spike_raster_window.spike_raster_plt_2d', spike_raster_window.spike_raster_plt_2d, max_depth=2) "
   ]
  },
  {
   "cell_type": "code",
   "execution_count": null,
   "id": "fb4a4e1f-cc04-4af5-b5cc-b5186d7e47ab",
   "metadata": {
    "pycharm": {
     "is_executing": false,
     "name": "#%%\n"
    }
   },
   "outputs": [],
   "source": [
    "print_keys_if_possible('spike_raster_window.spike_raster_plt_2d.params', spike_raster_window.spike_raster_plt_2d.params, max_depth=2) "
   ]
  },
  {
   "cell_type": "code",
   "execution_count": null,
   "id": "a215fe3e-2fec-4d6f-bab4-8101dd2645cf",
   "metadata": {
    "pycharm": {
     "is_executing": false,
     "name": "#%%\n"
    }
   },
   "outputs": [],
   "source": [
    "spike_raster_window.spike_raster_plt_2d.plots.scatter_plot"
   ]
  },
  {
   "cell_type": "code",
   "execution_count": null,
   "id": "9a3f52db-f1b2-45a7-a434-eae8d3a480dc",
   "metadata": {
    "pycharm": {
     "is_executing": false,
     "name": "#%%\n"
    }
   },
   "outputs": [],
   "source": [
    "plt = pg.plot()\n",
    "plt.addItem(item)\n",
    "plt.setWindowTitle('pyqtgraph example: customGraphicsItem')"
   ]
  },
  {
   "cell_type": "markdown",
   "id": "22be1c06-9136-449f-8faf-518ee0e521d1",
   "metadata": {
    "pycharm": {
     "is_executing": false,
     "name": "#%%\n"
    }
   },
   "source": [
    "#### Matplotlib broken_barh version:"
   ]
  },
  {
   "cell_type": "code",
   "execution_count": null,
   "id": "41582aec-4bb0-4a13-aef2-a4a338250247",
   "metadata": {
    "pycharm": {
     "is_executing": false,
     "name": "#%%\n"
    }
   },
   "outputs": [],
   "source": [
    "y_range = [(i, 1) for i in np.arange(len(curr_pyburst_interval_df.interval_pair))]\n",
    "print(f'y_range: {y_range}')"
   ]
  },
  {
   "cell_type": "code",
   "execution_count": null,
   "id": "9c2b0807-8918-4761-b3bc-6285149a107b",
   "metadata": {
    "pycharm": {
     "is_executing": false,
     "name": "#%%\n"
    }
   },
   "outputs": [],
   "source": [
    "fig, (ax0, ax1) = plt.subplots(2, 1, sharex=True, constrained_layout=True)\n",
    "\n",
    "ax0.eventplot(curr_spike_train)\n",
    "ax0.set_title('Input Timeseries')\n",
    "\n",
    "# Output intervals:\n",
    "ax1.set_title('Output Intervals')\n",
    "\n",
    "ax1.broken_barh(curr_pyburst_interval_df.interval_pair.to_numpy(), (0, 1), facecolors='tab:blue')\n",
    "# ax1.broken_barh([interval_pairs[1]], (1, 1))\n",
    "# ax1.broken_barh([interval_pairs[2]], (2, 1))"
   ]
  },
  {
   "cell_type": "markdown",
   "id": "ec5c2742-f80b-4356-a784-404fc6249426",
   "metadata": {
    "pycharm": {
     "is_executing": false,
     "name": "#%%\n"
    },
    "tags": []
   },
   "source": [
    "### Pyspike"
   ]
  },
  {
   "cell_type": "code",
   "execution_count": null,
   "id": "abda11f4-faa0-4726-b723-c320c5a81b51",
   "metadata": {
    "pycharm": {
     "is_executing": false,
     "name": "#%%\n"
    }
   },
   "outputs": [],
   "source": [
    "isi_profile = spk.isi_profile(out_pyspike_spiketrains[2], out_pyspike_spiketrains[3])\n",
    "x, y = isi_profile.get_plottable_data()\n",
    "plt.plot(x, y, '--k')\n",
    "print(\"ISI distance: %.8f\" % isi_profile.avrg())\n",
    "plt.show()\n",
    "\n",
    "\n",
    "# Can specify the time intervals over which to look at the average ISI:\n",
    "# isi1 = isi_profile.avrg(interval=(0, 1000))\n",
    "# isi2 = isi_profile.avrg(interval=(1000, 2000))\n",
    "# isi3 = isi_profile.avrg(interval=[(0, 1000), (2000, 3000)])\n",
    "# isi4 = isi_profile.avrg(interval=[(1000, 2000), (3000, 4000)])\n",
    "\n",
    "# Bivariate (across only two spiketrains, specified here as [2] and [3]) version:\n",
    "spike_profile = spk.spike_profile(out_pyspike_spiketrains[2], out_pyspike_spiketrains[3])\n",
    "x, y = spike_profile.get_plottable_data()\n",
    "plt.plot(x, y, '--k')\n",
    "print(\"SPIKE distance: %.8f\" % spike_profile.avrg())\n",
    "plt.show()\n",
    "\n",
    "\n",
    "## Multivariate (across all spike trains at at time) version:\n",
    "spiketrains_list = list(out_pyspike_spiketrains.values())\n",
    "avrg_isi_profile = spk.isi_profile(spiketrains_list)\n",
    "avrg_spike_profile = spk.spike_profile(spiketrains_list)\n",
    "avrg_spike_sync_profile = spk.spike_sync_profile(spiketrains_list)"
   ]
  },
  {
   "cell_type": "code",
   "execution_count": null,
   "id": "07ab5aa8-1e93-4437-95e5-9d8f2f62627f",
   "metadata": {
    "pycharm": {
     "is_executing": false,
     "name": "#%%\n"
    }
   },
   "outputs": [],
   "source": [
    "def _compute_distance_matricies(spike_trains):\n",
    "    plt.figure()\n",
    "    isi_distance_mat = spk.isi_distance_matrix(spike_trains)\n",
    "    plt.imshow(isi_distance_mat, interpolation='none')\n",
    "    plt.title(\"ISI-distance\")\n",
    "\n",
    "    plt.figure()\n",
    "    spike_distance_mat = spk.spike_distance_matrix(spike_trains) # , interval=(0.001,1000.0)\n",
    "    plt.imshow(spike_distance_mat, interpolation='none')\n",
    "    plt.title(\"SPIKE-distance\")\n",
    "\n",
    "    plt.figure()\n",
    "    spike_sync_mat = spk.spike_sync_matrix(spike_trains) # , interval=(2000.0,4000.0)\n",
    "    plt.imshow(spike_sync_mat, interpolation='none')\n",
    "    plt.title(\"SPIKE-Sync\")\n",
    "\n",
    "    plt.show()\n",
    "    return isi_distance_mat, spike_distance_mat, spike_sync_mat\n",
    "    \n",
    "\n",
    "isi_distance_mat, spike_distance_mat, spike_sync_mat = _compute_distance_matricies(spiketrains_list)"
   ]
  },
  {
   "cell_type": "code",
   "execution_count": null,
   "id": "96047984-b263-4266-922b-90c80f5aa2b2",
   "metadata": {
    "pycharm": {
     "is_executing": false,
     "name": "#%%\n"
    }
   },
   "outputs": [],
   "source": [
    "x, y = avrg_spike_profile.get_plottable_data()\n",
    "plt.plot(x, y, 'k')\n",
    "print(\"SPIKE distance: %.8f\" % spike_profile.avrg())\n",
    "plt.show()"
   ]
  },
  {
   "cell_type": "code",
   "execution_count": null,
   "id": "2a661ec4-8eec-4614-b7d0-dcac74b0ae99",
   "metadata": {
    "pycharm": {
     "is_executing": false,
     "name": "#%%\n"
    }
   },
   "outputs": [],
   "source": [
    "# \n",
    "x, y = avrg_isi_profile.get_plottable_data()\n",
    "plt.plot(x, y, '--k')\n",
    "# print(\"ISI distance: %.8f\" % isi_profile.avrg())\n",
    "plt.show()"
   ]
  },
  {
   "cell_type": "code",
   "execution_count": null,
   "id": "c31ec6b4-ac9c-4543-81f8-21da195ce12a",
   "metadata": {
    "pycharm": {
     "is_executing": false,
     "name": "#%%\n"
    }
   },
   "outputs": [],
   "source": [
    "from vedo import *\n",
    "from vedo.pyplot import violin, whisker, histogram\n",
    "\n",
    "## Example Violin plot with 3 generated violins:\n",
    "# n = 1000\n",
    "# acts = [\n",
    "#     Text3D('gaussian', pos=(0,4.5), s=0.3, c='k', justify='center'),\n",
    "#     violin(np.random.randn(n)),\n",
    "\n",
    "#     Text3D('exponential', pos=(5,-1), s=0.3, c='k', justify='center'),\n",
    "#     violin(np.random.exponential(1, n), x=5, width=3, spline=False, centerline=False, c='t', lc='k'),\n",
    "\n",
    "#     Text3D('chisquare', pos=(10,11), s=0.3, c='k', justify='center'),\n",
    "#     violin(np.random.chisquare(9, n)/4, x=10, vlim=(0,10), c='lg', lc='dg'),\n",
    "# ]\n",
    "\n",
    "\n",
    "## Actual violin plot from each cell's spike ISIs:\n",
    "intra_unit_spacing = 10.0\n",
    "\n",
    "# axes_options_dict = dict(xtitle=False, ytitle='distribution')\n",
    "axes_options_dict = dict(xtitle=False, ytitle=False)\n",
    "\n",
    "acts = []\n",
    "for (i, a_cell_id) in enumerate(curr_active_pipeline.sess.spikes_df.spikes.neuron_ids):\n",
    "    if i < 3:\n",
    "        # loop through the cell_ids\n",
    "        curr_unit_x_offset = float(i) * intra_unit_spacing\n",
    "        curr_df = curr_active_pipeline.sess.spikes_df.groupby('aclu').get_group(a_cell_id)\n",
    "        # curr_active_pipeline.sess.spikes_df['scISI']\n",
    "        # ValueError: autodetected range of [nan, nan] is not finite\n",
    "        # curr_v_text = Text3D(f'unit[{a_cell_id}]', pos=(curr_unit_x_offset,-1), s=0.3, c='k', justify='center')\n",
    "        # acts.append(curr_v_text)\n",
    "        # curr_v = violin(curr_df['scISI'].dropna(), bins=20, x=curr_unit_x_offset, centerline=True, spline=False, vlim=[0, 10]) # width=20.0, \n",
    "        curr_v = whisker(curr_df['scISI'].dropna(), s=0.25, c='k', lw=2, bc='blue', alpha=0.25, r=5, jitter=True, horizontal=False)\n",
    "        # curr_v = histogram(curr_df['scISI'].dropna(), errors=True, alpha=0.8, logscale=True)\n",
    "        # curr_v = histogram(curr_df['scISI'].dropna(), errors=True, alpha=0.8, logscale=False)\n",
    "        # curr_v = violin(curr_df['scISI'].dropna())\n",
    "        acts.append(curr_v)\n",
    "\n",
    "\n",
    "show(acts, axes=axes_options_dict).close()\n",
    "\n",
    "## TODO: comes see https://github.com/marcomusy/vedo/blob/master/examples/pyplot/whiskers.py to implement a whisker's plot from this data."
   ]
  },
  {
   "cell_type": "code",
   "execution_count": null,
   "id": "5f20a159-3434-4dbd-94a8-3d07af9998a1",
   "metadata": {
    "pycharm": {
     "is_executing": false,
     "name": "#%%\n"
    }
   },
   "outputs": [],
   "source": [
    "# note that this is very slow, but works\n",
    "included_cell_INDEXES = np.array([spike_raster_plt.get_neuron_id_and_idx(neuron_id=an_included_cell_ID)[0] for an_included_cell_ID in spike_raster_plt.spikes_df['aclu'].to_numpy()]) # get the indexes from the cellIDs\n",
    "spike_raster_plt.spikes_df['cell_idx'] = included_cell_INDEXES.copy()"
   ]
  },
  {
   "cell_type": "code",
   "execution_count": null,
   "id": "70ac7aea-82ad-4250-b401-5f4e94ea66a5",
   "metadata": {
    "pycharm": {
     "is_executing": false,
     "name": "#%%\n"
    }
   },
   "outputs": [],
   "source": [
    "# spike_raster_plt.spikes_df\n",
    "np.unique(spike_raster_plt.spikes_df['cell_idx']) # array([ 0,  1,  2,  3,  4,  5,  6,  7,  8,  9, 10, 11, 12, 13, 14, 15, 16, 17, 18, 19, 20, 21, 22, 23, 24, 25, 26, 27, 28, 29, 30, 31, 32, 33, 34, 35, 36, 37, 38, 39])"
   ]
  },
  {
   "cell_type": "code",
   "execution_count": null,
   "id": "cc333190-9c70-4780-acad-73da1f3f5fe6",
   "metadata": {
    "pycharm": {
     "is_executing": false,
     "name": "#%%\n"
    }
   },
   "outputs": [],
   "source": [
    "# out_figs = curr_active_pipeline.sess.spikes_df.plot.hist(by='aclu', column='scISI', bins=12, sharex=True, alpha=0.5, figsize=(40, 120))\n",
    "# out_figs = curr_active_pipeline.sess.spikes_df.plot.hist(by='aclu', column='scISI', bins=12, alpha=0.5, figsize=(40, 120))\n",
    "# out_figs = curr_active_pipeline.sess.spikes_df.plot.hist(column='scISI', bins=12, alpha=0.5, figsize=(40, 120))\n",
    "# out_figs = curr_active_pipeline.sess.spikes_df.plot.box(column=['scISI'], by='aclu', figsize=(40, 120)) # boxplots side-by-side\n",
    "\n",
    "# out_figs = curr_active_pipeline.sess.spikes_df.plot.kde(column=['scISI'], by='aclu', figsize=(40, 120)) # Not working\n",
    "# out_figs = curr_active_pipeline.sess.spikes_df.plot(column=['scISI'], by='aclu', figsize=(40, 120)) # boxplots side-by-side\n",
    "\n",
    "# out_figs = curr_active_pipeline.sess.spikes_df.plot(kind='hist', sharex=True, sharey=False, column=['scISI'], by='aclu', figsize=(40, 120)) # boxplots side-by-side\n",
    "out_figs = curr_active_pipeline.sess.spikes_df.plot(kind='scatter', sharex=True, sharey=False, column=['scISI'], by='aclu', figsize=(40, 120)) # boxplots side-by-side\n",
    "# \n",
    "\n",
    "# .plot(xlabel=\"new x\", ylabel=\"new y\");\n"
   ]
  },
  {
   "cell_type": "code",
   "execution_count": null,
   "id": "55b44895",
   "metadata": {
    "pycharm": {
     "is_executing": false,
     "name": "#%%\n"
    }
   },
   "outputs": [],
   "source": [
    "from PendingNotebookCode import _perform_PBE_stats\n",
    "\n",
    "pbe_analyses_result_df, [all_epochs_full_pbe_spiketrain_lists, all_epochs_pbe_num_spikes_lists, all_epochs_intra_pbe_interval_lists] = _perform_PBE_stats(curr_active_pipeline, debug_print=False) # all_epochs_n_pbes: [206, 31, 237], all_epochs_mean_pbe_durations: [0.2209951456310722, 0.23900000000001073, 0.22335021097046923], all_epochs_cummulative_pbe_durations: [45.52500000000087, 7.409000000000333, 52.934000000001205], all_epochs_total_durations: [1716.8933641185379, 193.26664069312392, 1910.1600048116618]\n",
    "pbe_analyses_result_df\n",
    "# pbe_analyses_result_df.to_clipboard(sep=',') "
   ]
  },
  {
   "cell_type": "code",
   "execution_count": null,
   "id": "6ee40f53-70cd-4b54-8fa1-71117a9a200c",
   "metadata": {
    "pycharm": {
     "is_executing": false,
     "name": "#%%\n"
    }
   },
   "outputs": [],
   "source": [
    "from pyphoplacecellanalysis.GUI.PyQtPlot.pyqtplot_SimplePlot import plot_simple_graph\n",
    "\n",
    "[p1], win, app = plot_simple_graph(all_epochs_intra_pbe_interval_lists[0])\n",
    "\n",
    "for (idx, named_range) in enumerate(curr_named_timeranges):\n",
    "    # interested in analyzing both the filtered_sess.pbe and the filtered_sess.spikes_df (as they relate to the PBEs)\n",
    "    p1.plot(all_epochs_intra_pbe_interval_lists[idx] + (300 * idx), pen=(255,0,0), name=named_range.name)\n",
    "\n",
    "# p1.plot(np.random.normal(size=100), pen=(255,0,0), name=\"Red curve\")\n",
    "# p1.plot(np.random.normal(size=110)+5, pen=(0,255,0), name=\"Green curve\")\n",
    "# p1.plot(np.random.normal(size=120)+10, pen=(0,0,255), name=\"Blue curve\")\n",
    "\n",
    "# def plot_simple_graph(y=np.random.normal(size=100))\n",
    "#     app = pg.mkQApp(\"Plotting Example\")\n",
    "#     #mw = QtGui.QMainWindow()\n",
    "#     #mw.resize(800,800)\n",
    "#     \n",
    "#     win = pg.GraphicsLayoutWidget(show=True, title=\"Basic plotting examples\")\n",
    "#     win.resize(1000,600)\n",
    "#     win.setWindowTitle('pyqtgraph example: Plotting')\n",
    "#     \n",
    "#     # Enable antialiasing for prettier plots\n",
    "#     pg.setConfigOptions(antialias=True)\n",
    "#     \n",
    "#     p1 = win.addPlot(title=\"Basic array plotting\", y=y)\n",
    "#     \n",
    "#     return app, win, [p1]"
   ]
  },
  {
   "cell_type": "code",
   "execution_count": null,
   "id": "b9795cd4-6968-4458-9442-3e38701ad1e8",
   "metadata": {
    "pycharm": {
     "is_executing": false,
     "name": "#%%\n"
    }
   },
   "outputs": [],
   "source": [
    "# Find all spikes that occur during both a PBE & a lap on the track:\n",
    "\n",
    "# curr_active_pipeline.sess.spikes_df[(curr_active_pipeline.sess.spikes_df['PBE_id'] > -1)] # & (curr_active_pipeline.sess.spikes_df['lap'] != -1)\n",
    "during_lap_and_PBE_spikes_df = curr_active_pipeline.sess.spikes_df[(curr_active_pipeline.sess.spikes_df['PBE_id'] > -1) & (curr_active_pipeline.sess.spikes_df['lap'] != -1)]\n",
    "# curr_active_pipeline.sess.spikes_df[(curr_active_pipeline.sess.spikes_df['lap'] > -1)]\n",
    "during_lap_and_PBE_spikes_df\n",
    "\n",
    "# updated_spikes_df = curr_active_pipeline.sess.compute_PBEs_spikes_df(curr_active_pipeline.sess.spikes_df, curr_active_pipeline.sess.pbe.to_dataframe())\n",
    "# updated_spikes_df[(updated_spikes_df['PBE_id'] > -1)]\n",
    "# curr_active_pipeline.sess.spikes_df[(curr_active_pipeline.sess.spikes_df['PBE_id'] > -1)]\n",
    "# curr_active_pipeline.sess.spikes_df\n",
    "\n",
    "# group by Team, get mean, min, and max value of Age for each value of Team.\n",
    "grouped_single = during_lap_and_PBE_spikes_df.groupby('lap').agg({'PBE_id': ['mean', 'min', 'max']})\n",
    "grouped_single = grouped_single.reset_index()\n",
    "print(grouped_single)"
   ]
  },
  {
   "cell_type": "code",
   "execution_count": null,
   "id": "17155e57-7c3d-4e96-98b4-bfa80a2e8a1e",
   "metadata": {
    "pycharm": {
     "is_executing": false,
     "name": "#%%\n"
    }
   },
   "outputs": [],
   "source": [
    "## Find rects for epochs in the active window:\n",
    "\n",
    "from pyphocorehelpers.geometry_helpers import find_ranges_in_window\n",
    "    \n",
    "# is_range_in_window, included_epoch_indicies, included_epoch_starts, included_epoch_ends, included_epoch_is_truncated = find_ranges_in_window(curr_sess.pbe.starts, curr_sess.pbe.stops, (595.0, 820.0))\n",
    "\n",
    "is_range_in_window, included_epoch_indicies, included_epoch_starts, included_epoch_ends, included_epoch_is_truncated = find_ranges_in_window(curr_sess.pbe.starts, curr_sess.pbe.stops, (598.65, 820.0))\n",
    "\n",
    "# 'is_range_in_window': is_range_in_window\n",
    "pd.DataFrame({'included_epoch_indicies':included_epoch_indicies, 'included_epoch_starts':included_epoch_starts, 'included_epoch_ends':included_epoch_ends, 'included_epoch_is_truncated': included_epoch_is_truncated})\n",
    "\n",
    "# print(f'included_epoch_indicies: {np.shape(included_epoch_indicies)}')\n",
    "# print(f'included_epoch_starts: {np.shape(included_epoch_starts)}')\n",
    "# pd.DataFrame({'included_epoch_starts':included_epoch_starts, 'included_epoch_ends':included_epoch_ends, 'included_epoch_is_truncated': included_epoch_is_truncated})\n",
    "\n",
    "# included_epoch_indicies\n",
    "# included_epoch_is_truncated"
   ]
  },
  {
   "cell_type": "code",
   "execution_count": null,
   "id": "24900b6f-2c69-4f73-9ef7-27d6d8dcafc6",
   "metadata": {
    "pycharm": {
     "is_executing": false,
     "name": "#%%\n"
    }
   },
   "outputs": [],
   "source": [
    "spike_raster_plt_3d.ui.spinRenderWindowDuration.setValue(scroll_window_width)"
   ]
  },
  {
   "cell_type": "code",
   "execution_count": null,
   "id": "eede1f8e-903d-4054-ac26-624ea7355a8c",
   "metadata": {
    "pycharm": {
     "is_executing": false,
     "name": "#%%\n"
    }
   },
   "outputs": [],
   "source": [
    "spike_raster_plt_3d.ui.spinTemporalZoomFactor.setValue(10.0)"
   ]
  },
  {
   "cell_type": "code",
   "execution_count": null,
   "id": "b8c9312d-1f9d-4201-a987-f4f76712eca5",
   "metadata": {
    "pycharm": {
     "is_executing": false,
     "name": "#%%\n"
    }
   },
   "outputs": [],
   "source": [
    "spike_raster_plt.animation_time_step # 0.03 (seconds)"
   ]
  },
  {
   "cell_type": "code",
   "execution_count": null,
   "id": "19d69e2b-b8c6-47fb-8c18-b6eea8e9fc84",
   "metadata": {
    "pycharm": {
     "is_executing": false,
     "name": "#%%\n"
    }
   },
   "outputs": [],
   "source": [
    "# curr_transform = spike_raster_plt.ui.gz.transform() # PyQt5.QtGui.QMatrix4x4(1.0, 0.0, 0.0, 0.0, 0.0, 1.0, 0.0, 0.0, 0.0, 0.0, 1.0, -10.0, 0.0, 0.0, 0.0, 1.0)\n",
    "curr_transform = spike_raster_plt.ui.gx.transform() # PyQt5.QtGui.QMatrix4x4(0.0, 0.0, 1.0, -20.0, 0.0, 1.0, 0.0, 0.0, -1.0, 0.0, 0.0, 0.0, 0.0, 0.0, 0.0, 1.0)\n",
    "print(curr_transform)\n",
    "\n",
    "curr_transform.matrix()\n",
    "# spike_raster_plt.ui.gx."
   ]
  },
  {
   "cell_type": "code",
   "execution_count": null,
   "id": "d2beb484-0b58-4da9-ae53-27b94d54560b",
   "metadata": {
    "pycharm": {
     "is_executing": false,
     "name": "#%%\n"
    }
   },
   "outputs": [],
   "source": [
    "spike_raster_plt.params.keys()"
   ]
  },
  {
   "cell_type": "code",
   "execution_count": null,
   "id": "0d278473-b6e9-4962-ba85-192575a5d42c",
   "metadata": {
    "pycharm": {
     "is_executing": false,
     "name": "#%%\n"
    }
   },
   "outputs": [],
   "source": [
    "# spike_raster_plt.params.spike_start_z # -10\n",
    "spike_raster_plt.params.spike_end_z = -8.0 # -6.0"
   ]
  },
  {
   "cell_type": "code",
   "execution_count": null,
   "id": "3d987938-b257-4075-b2fe-33c91dc0f545",
   "metadata": {
    "pycharm": {
     "is_executing": false,
     "name": "#%%\n"
    }
   },
   "outputs": [],
   "source": [
    "spike_raster_plt.animation_time_step = 0.06"
   ]
  },
  {
   "cell_type": "code",
   "execution_count": null,
   "id": "e6217bb9-a229-48f7-9b5b-c06db732c0e7",
   "metadata": {
    "pycharm": {
     "is_executing": false,
     "name": "#%%\n"
    }
   },
   "outputs": [],
   "source": [
    "spike_raster_plt.shift_animation_frame_val(-3)"
   ]
  },
  {
   "cell_type": "markdown",
   "id": "469c4171-ea23-4f0f-bcc0-a7ab3544dfbe",
   "metadata": {
    "tags": []
   },
   "source": [
    "\n",
    "# Testing: Position Decoding:"
   ]
  },
  {
   "cell_type": "code",
   "execution_count": null,
   "id": "33b19634-f684-485c-8422-777cc5440c1d",
   "metadata": {
    "pycharm": {
     "name": "#%%\n"
    }
   },
   "outputs": [],
   "source": [
    "# win.close()\n",
    "\n",
    "# np.set_printoptions(edgeitems=5, linewidth=100000, formatter=dict(float=lambda x: \"%g\" % x))\n",
    "\n",
    "np.set_string_function(lambda x:f'np.array[{np.shape(x)}]', repr=True)\n",
    "# with np.printoptions(precision=2, edgeitems=2, linewidth=144):\n",
    "with np.printoptions(precision=3, edgeitems=2, linewidth=100000):\n",
    "    # active_computed_data['pf2D'].ratemap\n",
    "    print(active_computed_data['pf2D'])\n",
    "    # print(active_computed_data['pf2D'].ratemap)\n",
    "    \n",
    "    \n",
    "\n",
    "\n",
    "np.set_string_function(None) # restore default"
   ]
  },
  {
   "cell_type": "code",
   "execution_count": null,
   "id": "26cd14b2-919d-49e1-a18b-c068675af421",
   "metadata": {
    "pycharm": {
     "name": "#%%\n"
    }
   },
   "outputs": [],
   "source": [
    "len(active_computed_data['pf2D'].ratemap_spiketrains)\n",
    "\n",
    "#.tuning_curves"
   ]
  },
  {
   "cell_type": "code",
   "execution_count": null,
   "id": "b37445b3-c614-4b68-b6ab-ee7a26c29af4",
   "metadata": {},
   "outputs": [],
   "source": [
    "## Stock Decoder:\n",
    "from neuropy.analyses.decoders import Decode1d\n",
    "\n",
    "def stock_1d_decoder(sess, pf, curr_result_label):\n",
    "    maze1 = sess.paradigm[curr_result_label]\n",
    "    # rpls = sess.ripple.time_slice(maze1[0], maze1[1])\n",
    "    rpls = None\n",
    "    pf_neurons = sess.neurons.get_by_id(pf.ratemap.neuron_ids)\n",
    "    decode = Decode1d(neurons=pf_neurons, ratemap = pf.ratemap, epochs=rpls, bin_size=0.02)\n",
    "    return decode\n",
    "\n",
    "def validate_stock_1d_decoder(sess, decode):\n",
    "    # Plot to validate decoder:\n",
    "    np.shape(decode.decoded_position) # (85845,)\n",
    "    plt.plot(decode.decoded_position)\n",
    "    ax = plt.gca()\n",
    "    # ax.xlim() # (-4292.2, 90136.2)\n",
    "    ax.set_xlim(10000, 12000)\n",
    "\n",
    "np.shape(decode.posterior) # (48, 85845)"
   ]
  },
  {
   "cell_type": "markdown",
   "id": "c545afc1-63d6-4f45-a186-5acae5b2dab3",
   "metadata": {},
   "source": [
    "<!-- % $$\\int_{a}^b f(x)dx$$ -->\n",
    "<!-- Euler's identity: $ e^{i \\pi} + 1 = 0 $ -->\n",
    "\n",
    "## One-step Bayesian Decoder:\n",
    "$$P(\\overrightarrow{x}_{t}|\\overrightarrow{n}_{t})$$\n",
    "\n",
    "$$P(\\overrightarrow{n}|\\overrightarrow{x})$$ : probability for the numbers of spikes $\\overrightarrow{n}$ to occur given we know the animal is at location $\\overrightarrow{x}$\n",
    "\n",
    "## Two-step Bayesian Decoder:\n",
    "$$P(\\overrightarrow{x}_{t}|\\overrightarrow{n}_{t}, \\overrightarrow{x}_{t-1}) = k P(\\overrightarrow{x}_{t}|\\overrightarrow{n}_{t}) P(\\overrightarrow{x}_{t-1}|\\overrightarrow{x}_{t})$$"
   ]
  },
  {
   "cell_type": "code",
   "execution_count": null,
   "id": "7a0b8e04-3f5d-49e9-af1b-786326567330",
   "metadata": {},
   "outputs": [],
   "source": [
    "\n",
    "# active_two_step_decoder['most_likely_positions'].shape # (2, 1717)\n",
    "\n",
    "active_two_step_decoder['most_likely_position_indicies'].shape # (2, 1717)\n",
    "np.max(active_two_step_decoder['most_likely_position_indicies'], axis=1) # array([0, 1])\n",
    "active_two_step_decoder['most_likely_position_indicies']\n",
    "# active_two_step_decoder['p_x_given_n_and_x_prev'].shape # (59, 21, 1717)\n",
    "\n",
    "# np.nanmax(active_two_step_decoder['p_x_given_n_and_x_prev'], axis=(1, 2)) # (59,)\n",
    "# np.nanmax(active_two_step_decoder['p_x_given_n_and_x_prev'], axis=-1).shape # (59, 21)\n",
    "\n",
    "# np.nanmax(active_two_step_decoder['p_x_given_n_and_x_prev'], axis=-1)\n",
    "# np.max(active_two_step_decoder['most_likely_positions'], axis=1) # array([ 36.30101033, 128.49991842])\n",
    "\n",
    "\n",
    "# np.max(active_one_step_decoder.most_likely_positions, axis=0) # array([244.02731273, 148.3231301 ])"
   ]
  },
  {
   "cell_type": "markdown",
   "id": "93be34e2-9062-4e08-bedb-0d7ec4ceca9c",
   "metadata": {},
   "source": [
    "## PyQtPlot Exploration"
   ]
  },
  {
   "cell_type": "code",
   "execution_count": null,
   "id": "08d4e875-52e9-4bf4-b742-db1bfaab77d7",
   "metadata": {},
   "outputs": [],
   "source": [
    "from pyphoplacecellanalysis.Pho2D.PyQtPlots.plot_placefields import pyqtplot_plot_image_array, pyqtplot_plot_image\n",
    "\n",
    "# test single image plot:\n",
    "curr_im = np.squeeze(active_one_step_decoder.ratemap.normalized_tuning_curves[0,:,:]) # (43, 63, 63)\n",
    "app, win, imv = pyqtplot_plot_image(active_one_step_decoder.xbin, active_one_step_decoder.ybin, curr_im)\n",
    "win.show()"
   ]
  },
  {
   "cell_type": "code",
   "execution_count": null,
   "id": "c9f8f405-a15b-4e58-a281-c56fc6cb9c93",
   "metadata": {},
   "outputs": [],
   "source": [
    "pg.mkQApp()\n",
    "# Create ScatterPlotWidget and configure its fields\n",
    "spw = pg.ScatterPlotWidget()\n",
    "# spw.setFields([\n",
    "    # ('x_pos', {'units': 'm'}),\n",
    "#     ('y_pos', {'units': 'm'}),\n",
    "#     ('count', {}),\n",
    "#     ('amplitude', {'units': 'V'}),\n",
    "#     ('decay', {'units': 's'}),    \n",
    "#     ('type', {'mode': 'enum', 'values': strings}),\n",
    "#     ])\n",
    "\n",
    "spw.setFields([\n",
    "    ('x', {'units': 'm'}),\n",
    "    ('y', {'units': 'm'}),\n",
    "    ('lin_pos', {'units': 'm'}),\n",
    "    ('speed', {'units': 'm/s'}),\n",
    "    ('binned_x', {}),\n",
    "    ('binned_y', {}),\n",
    "    # ('type', {'mode': 'enum', 'values': strings}),\n",
    "])\n",
    "    \n",
    "spw.setData(time_binned_pos_df)\n",
    "spw.show()\n",
    "\n",
    "\n",
    "# ## Multiple Line Plots:\n",
    "# plotWidget = pg.plot(title='PhoTest PyQtPlot Widget')\n",
    "# for i in range(3):\n",
    "#     plotWidget.plot(x, y[i], pen=(i,3))\n",
    "    "
   ]
  },
  {
   "cell_type": "markdown",
   "id": "27b53720-b44c-4a75-9a5c-6bbd73723eb1",
   "metadata": {},
   "source": [
    "### Custom DataTree Widget that displays a nested hierarchy of data:"
   ]
  },
  {
   "cell_type": "code",
   "execution_count": null,
   "id": "0d1ca503-d09b-48b1-957e-b5317a2cc40a",
   "metadata": {},
   "outputs": [],
   "source": [
    "# d = {\n",
    "#     'active_sess_config':curr_active_pipeline.active_sess_config.__dict__,\n",
    "#     'active_configs':curr_active_pipeline.active_configs,\n",
    "#     'active_session_computation_configs':active_session_computation_configs[0].__dict__\n",
    "# }\n",
    "d = {\n",
    "    \"computed_data\": curr_active_pipeline.computation_results['maze1'].computed_data,\n",
    "    # \"computation_results['maze1']'\": curr_active_pipeline.computation_results['maze1'],\n",
    "}\n",
    "# d = {\n",
    "#     'active_session_computation_configs':active_session_computation_configs,\n",
    "#     'active_two_step_decoder': active_two_step_decoder,\n",
    "#     'active_extended_stats': active_extended_stats\n",
    "# }\n",
    "\n",
    "from pyphoplacecellanalysis.GUI.PyQtPlot.pyqtplot_DataTreeWidget import plot_dataTreeWidget\n",
    "tree, app = plot_dataTreeWidget(data=d, title='PhoOutputDataTreeApp')\n",
    "tree.show()"
   ]
  },
  {
   "cell_type": "code",
   "execution_count": null,
   "id": "8445c7c7-0be5-4d7a-94eb-6a0b65d09c6b",
   "metadata": {},
   "outputs": [],
   "source": [
    "# tree.show()\n",
    "tree = None\n",
    "app = None"
   ]
  },
  {
   "cell_type": "code",
   "execution_count": null,
   "id": "b58d03c2",
   "metadata": {
    "pycharm": {
     "name": "#%%\n"
    }
   },
   "outputs": [],
   "source": [
    "tree.resize(1920, 1200) # pyqtgraph.widgets.DataTreeWidget.DataTreeWidget\n",
    "tree.resizeColumnToContents(2)\n",
    "# setFormat(format, column=None)\n",
    "# tree.resizeColumnToContents(1)\n",
    "# tree.expandToDepth\n",
    "print(tree.dumpObjectInfo())\n",
    "# tree.expandAll()\n",
    "# tree.nodes # a dict\n",
    "\n",
    "# tree.hideColumn(2) # hides the value column\n",
    "# print(tree.children()[0].dumpObjectInfo())\n",
    "# # tree.children()[1] # <PyQt5.QtWidgets.QStyledItemDelegate at 0x197b467fca0>\n",
    "# # tree.children()[2]\n",
    "# # tree.children()[3].dumpObjectTree() # QAbstractItemModel\n",
    "# print(tree.children()[3].dumpObjectInfo())\n",
    "# # listAllItems()\n",
    "# # tree.itemFromIndex(0)\n",
    "# # tree.findChild()\n",
    "# # listAllItems()\n",
    "# tree.collapseAll()"
   ]
  },
  {
   "cell_type": "code",
   "execution_count": null,
   "id": "61328be8",
   "metadata": {},
   "outputs": [],
   "source": [
    "# InteractivePlaceCellConfig\n",
    "from pprint import pprint\n",
    "pprint(curr_active_pipeline.active_configs['maze1'].__dict__)\n"
   ]
  },
  {
   "cell_type": "code",
   "execution_count": null,
   "id": "6943e136",
   "metadata": {
    "pycharm": {
     "name": "#%%\n"
    }
   },
   "outputs": [],
   "source": [
    "from pyphoplacecellanalysis.GUI.PyQtPlot.Params.pyqtplot_ParamTreeWidget import plot_paramTreeWidget\n",
    "param_tree, param_tree_app = plot_paramTreeWidget(title='PhoMainParamTreeApp')"
   ]
  },
  {
   "cell_type": "code",
   "execution_count": null,
   "id": "827ddf63",
   "metadata": {
    "pycharm": {
     "name": "#%%\n"
    }
   },
   "outputs": [],
   "source": [
    "from pyphoplacecellanalysis.GUI.PyQtPlot.Flowchart.pyqtplot_Flowchart import plot_flowchartWidget\n",
    "pipeline_flowchart_window, pipeline_flowchart_app = plot_flowchartWidget(title='PhoMainPipelineFlowchartApp')"
   ]
  },
  {
   "cell_type": "markdown",
   "id": "6710ea4d-d80b-4e39-ba21-a3f9a3466ee2",
   "metadata": {
    "tags": []
   },
   "source": [
    "## Check Placefield Normalizations:\n",
    "Conclusion: neither the normalized_tuning_curves nor tuning_curves are normalized in any way! They give different firing rates across time.\n",
    "NOTE: For the pyramidal-only and lap-epoch filtered Diba data, the np.nanmax of normalized_tuning_curves actually does appear to be scaled to a maximum of 1.0 across all units, meaning only the relative difference between units in firing rate is preserved."
   ]
  },
  {
   "cell_type": "code",
   "execution_count": null,
   "id": "cdd624aa-80cd-430a-b5ac-2891d85065d4",
   "metadata": {},
   "outputs": [],
   "source": [
    "active_one_step_decoder.pf.ratemap"
   ]
  },
  {
   "cell_type": "code",
   "execution_count": null,
   "id": "99d9e9f6-1ec9-43e9-b5f9-3a1b0324649e",
   "metadata": {},
   "outputs": [],
   "source": [
    "np.sum(active_one_step_decoder.pf.ratemap.normalized_tuning_curves, axis=(1,2)) # ERROR: the normalized_tuning_curves are NOT normalized in any way!"
   ]
  },
  {
   "cell_type": "code",
   "execution_count": null,
   "id": "ef57ca16-1abb-409c-a105-f139c15ae07b",
   "metadata": {},
   "outputs": [],
   "source": [
    "np.sum(active_one_step_decoder.pf.ratemap.normalized_tuning_curves, axis=(1,2)) # ERROR: the normalized_tuning_curves are NOT normalized in any way!\n",
    "np.nanmax(active_one_step_decoder.pf.ratemap.normalized_tuning_curves, axis=(1,2)) # Not even by having their maximum value scaled to one!\n",
    "\n",
    "# np.sum(active_one_step_decoder.pf.ratemap.tuning_curves, axis=(1,2))\n",
    "# np.nanmax(active_one_step_decoder.pf.ratemap.tuning_curves, axis=(1,2))"
   ]
  },
  {
   "cell_type": "code",
   "execution_count": null,
   "id": "50995e6f-df9a-499c-b6bd-a13706b7b8dc",
   "metadata": {},
   "outputs": [],
   "source": [
    "active_pf_2D.ratemap.unit_max_tuning_curves\n",
    "\n",
    "# # test_unit_max_tuning_curve = active_pf_2D.ratemap.tuning_curves[0] / np.max(active_pf_2D.ratemap.tuning_curves[0])\n",
    "\n",
    "# test_unit_max_tuning_curves = [a_tuning_curve / np.max(a_tuning_curve) for a_tuning_curve in active_pf_2D.ratemap.tuning_curves]\n",
    "# validate_unit_max = [np.max(a_unit_max_tuning_curve) for a_unit_max_tuning_curve in test_unit_max_tuning_curves]\n",
    "# # print(f'validate_unit_max: {validate_unit_max}')\n",
    "# assert np.allclose(validate_unit_max, np.full_like(validate_unit_max, 1.0), equal_nan=True), f\"unit_max_tuning_curves doesn't have a max==1.0 after scaling!!! Maximums: {validate_unit_max}\"\n",
    "# np.isclose(\n",
    "# validate_unit_max\n",
    "# test_unit_max_tuning_curves\n",
    "# np.max(test_unit_max_tuning_curve)\n",
    "# np.min(test_unit_max_tuning_curve)\n",
    "\n",
    "\n",
    "# np.min(active_pf_2D.ratemap.minmax_normalized_tuning_curves[0])"
   ]
  },
  {
   "cell_type": "code",
   "execution_count": null,
   "id": "2224a6eb-ee0d-4563-95fb-9fb1be8ca63d",
   "metadata": {},
   "outputs": [],
   "source": [
    "np.max(active_pf_2D.ratemap.pdf_normalized_tuning_curves[0])"
   ]
  },
  {
   "cell_type": "markdown",
   "id": "d94ac6af-9c53-4d2d-9b3e-32a939acb346",
   "metadata": {},
   "source": [
    "## Placefield Overlap Detection:"
   ]
  },
  {
   "cell_type": "code",
   "execution_count": null,
   "id": "bd695e68-fdb2-4994-aaed-98b38327698a",
   "metadata": {},
   "outputs": [],
   "source": [
    "# Test Placefield Overlap Detection:\n",
    "def compute_placefield_overlap(pf):\n",
    "    return np.squeeze(np.prod(pf, axis=0))\n",
    "\n",
    "\n",
    "active_pf_overlap_results = curr_active_pipeline.computation_results[active_config_name].computed_data['placefield_overlap']\n",
    "all_pairwise_neuron_IDs_combinations = active_pf_overlap_results['all_pairwise_neuron_IDs_combinations']\n",
    "total_pairwise_overlaps = active_pf_overlap_results['total_pairwise_overlaps']\n",
    "all_pairwise_overlaps = active_pf_overlap_results['all_pairwise_overlaps']\n",
    "\n",
    "print_keys_if_possible('active_pf_overlap_results', active_pf_overlap_results)"
   ]
  },
  {
   "cell_type": "code",
   "execution_count": null,
   "id": "503eefc7-973b-47ef-b39d-3e200f4753bf",
   "metadata": {},
   "outputs": [],
   "source": [
    "# active_placefield_overlap\n",
    "# total_pairwise_overlaps\n",
    "# all_pairwise_overlaps\n",
    "\n",
    "\n",
    "# top_pairwise_overlaps = all_pairwise_overlaps[0:9,:,:]\n",
    "\n",
    "top_pairwise_overlaps = np.squeeze(all_pairwise_overlaps[2,:,:])\n",
    "\n",
    "from pyphoplacecellanalysis.GUI.PyQtPlot.pyqtplot_Matrix import MatrixRenderingWindow\n",
    "print(f'np.shape(top_pairwise_overlaps): {np.shape(top_pairwise_overlaps)}')\n",
    "pg.mkQApp(\"Correlation matrix display\")\n",
    "main_window = MatrixRenderingWindow(matrix=top_pairwise_overlaps, columns=[f'{i}' for i in np.arange(np.shape(top_pairwise_overlaps)[-1])])\n",
    "\n",
    "# compute_placefield_overlap(active_one_step_decoder.pf.ratemap.normalized_tuning_curves)"
   ]
  },
  {
   "cell_type": "markdown",
   "id": "d7d138e3-ec7f-4a62-9aaf-91d6831ac822",
   "metadata": {
    "tags": []
   },
   "source": [
    "# Placefield Renormalization - by area under the curve"
   ]
  },
  {
   "cell_type": "code",
   "execution_count": null,
   "id": "50137f66-8f1f-46bd-ba19-112fd952a885",
   "metadata": {},
   "outputs": [],
   "source": [
    "# from PhoPyPlaceCellReplayAnalysis\n"
   ]
  },
  {
   "cell_type": "code",
   "execution_count": null,
   "id": "03587fc9-0a60-4d90-91c7-2d894a6c0e58",
   "metadata": {},
   "outputs": [],
   "source": [
    "# test single image plot:\n",
    "curr_im = np.squeeze(active_one_step_decoder.ratemap.normalized_tuning_curves[0,:,:]) # (43, 63, 63)\n",
    "app, win, imv = pyqtplot_plot_image(active_one_step_decoder.xbin, active_one_step_decoder.ybin, curr_im)\n",
    "win.show()"
   ]
  },
  {
   "cell_type": "markdown",
   "id": "56f678f5-779c-4c70-8935-e60a2f13d977",
   "metadata": {
    "jp-MarkdownHeadingCollapsed": true,
    "tags": []
   },
   "source": [
    "# Test PfND_TimeDependent Class"
   ]
  },
  {
   "cell_type": "markdown",
   "id": "1f8d8b20-31f6-43c3-8dd8-eeea03796ec2",
   "metadata": {},
   "source": [
    "## Old TimeSynchronized*Plotter Testing"
   ]
  },
  {
   "cell_type": "code",
   "execution_count": null,
   "id": "1841341a-c63b-4c5c-bc41-594483c3ddef",
   "metadata": {},
   "outputs": [],
   "source": [
    "t = curr_occupancy_plotter.active_time_dependent_placefields.last_t + 7 # add one second\n",
    "# with np.errstate(divide='ignore', invalid='ignore'):\n",
    "# active_time_dependent_placefields.update(t)\n",
    "print(f't: {t}')\n",
    "curr_occupancy_plotter.on_window_changed(0.0, t)\n",
    "curr_placefields_plotter.on_window_changed(0.0, t)"
   ]
  },
  {
   "cell_type": "code",
   "execution_count": null,
   "id": "57e53983-3449-46cd-8f43-d9210b17b12d",
   "metadata": {},
   "outputs": [],
   "source": [
    "from pyphoplacecellanalysis.Pho2D.PyQtPlots.plot_placefields import pyqtplot_plot_image, pyqtplot_plot_image_array\n",
    "import time\n",
    "\n",
    "def _test_plot_curr_pf_result(curr_t, curr_ratemap, drop_below_threshold: float=0.0000001, output_plots_dict=None):\n",
    "    \"\"\" plots a single result at a given time.\n",
    "    \n",
    "    Creates the figures if needed, otherwise updates the existing ones.\n",
    "    \n",
    "    \"\"\"\n",
    "    if output_plots_dict is None:\n",
    "        output_plots_dict = {'occupancy': {}, 'placefields': {}} # make a new dictionary to hold the plot objects.\n",
    "\n",
    "    # images = curr_ratemap.tuning_curves # (43, 63, 63)\n",
    "    occupancy = curr_ratemap.occupancy\n",
    "    # occupancy = curr_ratemap.curr_raw_occupancy_map\n",
    "\n",
    "    imv = output_plots_dict.get('occupancy', {}).get('imv', None)\n",
    "    if imv is None:\n",
    "        # Otherwise build the plotter:\n",
    "        occupancy_app, occupancy_win, imv = pyqtplot_plot_image(active_time_dependent_placefields2D.xbin, active_time_dependent_placefields2D.ybin, occupancy)\n",
    "        output_plots_dict['occupancy'] = dict(zip(('app', 'win', 'imv'), (occupancy_app, occupancy_win, imv)))   \n",
    "        occupancy_win.show()\n",
    "    else:\n",
    "        # Update the existing one:\n",
    "        imv.setImage(occupancy, xvals=active_time_dependent_placefields2D.xbin)\n",
    "\n",
    "    pg.QtGui.QApplication.processEvents() # call to ensure the occupancy gets updated before starting the placefield plots:\n",
    "    \n",
    "    img_item_array = output_plots_dict.get('placefields', {}).get('img_item_array', None)\n",
    "    if img_item_array is None:\n",
    "        # Create a new one:\n",
    "        placefields_app, placefields_win, root_render_widget, plot_array, img_item_array, other_components_array = pyqtplot_plot_image_array(active_time_dependent_placefields2D.xbin, active_time_dependent_placefields2D.ybin,\n",
    "                                                                                                                                           active_time_dependent_placefields2D.ratemap.normalized_tuning_curves, active_time_dependent_placefields2D.curr_raw_occupancy_map)#, \n",
    "        output_plots_dict['placefields'] = dict(zip(('app', 'win', 'root_render_widget', 'plot_array', 'img_item_array', 'other_components_array'), (placefields_app, placefields_win, root_render_widget, plot_array, img_item_array, other_components_array)))\n",
    "        placefields_win.show()\n",
    "\n",
    "    else:\n",
    "        # Update the placefields plot if needed:\n",
    "        images = curr_ratemap.tuning_curves # (43, 63, 63)\n",
    "        for i, an_img_item in enumerate(img_item_array):\n",
    "            image = np.squeeze(images[i,:,:])\n",
    "            # Pre-filter the data:\n",
    "            # image = np.array(image.copy()) / np.nanmax(image) # note scaling by maximum here!\n",
    "            if drop_below_threshold is not None:\n",
    "                image[np.where(occupancy < drop_below_threshold)] = np.nan # null out the occupancy        \n",
    "            # an_img_item.setImage(np.squeeze(images[i,:,:]))\n",
    "            an_img_item.setImage(image)\n",
    "\n",
    "    return output_plots_dict"
   ]
  },
  {
   "cell_type": "code",
   "execution_count": null,
   "id": "3c850632-a05a-42ed-b79c-5196182e1029",
   "metadata": {},
   "outputs": [],
   "source": [
    "def pre_build_iterative_results(num_iterations=50, t_list=[], ratemaps_list=[]):\n",
    "    \"\"\" \n",
    "    build up historical data arrays:\n",
    "    \n",
    "    Usage:\n",
    "        t_list, ratemaps_list = pre_build_iterative_results(num_iterations=50, t_list=t_list, ratemaps_list=ratemaps_list)\n",
    "    \"\"\"\n",
    "    # t_list = []\n",
    "    # ratemaps_list = []\n",
    "    \n",
    "    def _step_plot(time_step_seconds):\n",
    "        t = active_time_dependent_placefields2D.last_t + time_step_seconds # add one second\n",
    "        t_list.append(t)\n",
    "        with np.errstate(divide='ignore', invalid='ignore'):\n",
    "            active_time_dependent_placefields2D.update(t)\n",
    "        # Loop through and update the plots:\n",
    "        # Get flat list of images:\n",
    "        curr_ratemap = active_time_dependent_placefields2D.ratemap\n",
    "        # images = curr_ratemap.tuning_curves # (43, 63, 63)\n",
    "        # images = active_time_dependent_placefields2D.ratemap.normalized_tuning_curves[0:40,:,:] # (43, 63, 63)\n",
    "        # occupancy = curr_ratemap.occupancy\n",
    "        ratemaps_list.append(curr_ratemap)\n",
    "    #     for i, an_img_item in enumerate(img_item_array):\n",
    "    #     # for i, a_plot in enumerate(plot_array):\n",
    "    #         # image = np.squeeze(images[i,:,:])\n",
    "    #         # Pre-filter the data:\n",
    "    #         # image = np.array(image.copy()) / np.nanmax(image) # note scaling by maximum here!\n",
    "    # #         if drop_below_threshold is not None:\n",
    "    # #             image[np.where(occupancy < drop_below_threshold)] = np.nan # null out the occupancy        \n",
    "    #         an_img_item.setImage(np.squeeze(images[i,:,:]))\n",
    "    \n",
    "    for i in np.arange(num_iterations):\n",
    "        _step_plot(time_step_seconds=1.0)\n",
    "    \n",
    "    return t_list, ratemaps_list\n",
    "\n",
    "# Loop through the historically collected ratemaps and plot them:\n",
    "def _test_plot_historical_iterative_pf_results(t_list, ratemaps_list, drop_below_threshold: float=0.0000001, output_plots_dict=None):\n",
    "    \"\"\" Uses the previously built-up t_list and ratemaps_list (as computed by pre_build_iterative_results(...)) to plot the time-dependent results.\n",
    "    requires:\n",
    "    imv: a previously created single-image plotter:\n",
    "    \"\"\"\n",
    "    num_historical_results = len(ratemaps_list)\n",
    "    assert len(t_list) == len(ratemaps_list), f\"len(t_list): {len(t_list)} needs to equal len(ratemaps_list): {len(ratemaps_list)}\"\n",
    "    \n",
    "    if output_plots_dict is None:\n",
    "        output_plots_dict = {'occupancy': {},\n",
    "                            'placefields': {}} # make a new dictionary to hold the plot objects.\n",
    "        \n",
    "    for i in np.arange(num_historical_results):\n",
    "        curr_t = t_list[i]\n",
    "        # Set up\n",
    "        # print(f'curr_t: {curr_t}')\n",
    "        curr_ratemap = ratemaps_list[i]\n",
    "        output_plots_dict = _test_plot_curr_pf_result(curr_t, curr_ratemap, drop_below_threshold=drop_below_threshold, output_plots_dict=output_plots_dict)\n",
    "    \n",
    "        pg.QtGui.QApplication.processEvents()\n",
    "        time.sleep(0.1) # Sleep for 0.5 seconds\n",
    "\n",
    "    return output_plots_dict\n",
    "\n",
    "# Build the Historical Results:\n",
    "t_list, ratemaps_list = pre_build_iterative_results(num_iterations=50, t_list=t_list, ratemaps_list=ratemaps_list)\n",
    "# Plot the historical results:\n",
    "if output_plots_dict is None:\n",
    "    output_plots_dict = {'occupancy': {}, 'placefields': {}}\n",
    "output_plots_dict = _test_plot_historical_iterative_pf_results(t_list, ratemaps_list, output_plots_dict=output_plots_dict)"
   ]
  },
  {
   "cell_type": "code",
   "execution_count": null,
   "id": "0f8aec31-0b0e-4329-a917-b9f862dbc5b8",
   "metadata": {},
   "outputs": [],
   "source": [
    "# Compute the time-dependent ratemap info in real-time and plot them:\n",
    "def _test_step_live_iterative_pf_results_plot(active_time_dependent_placefields2D, t, drop_below_threshold: float=0.0000001, output_plots_dict=None):\n",
    "    \"\"\" \n",
    "    requires:\n",
    "    imv: a previously created single-image plotter:\n",
    "    \"\"\"\n",
    "    # Compute the updated placefields/occupancy for the time t:\n",
    "    with np.errstate(divide='ignore', invalid='ignore'):\n",
    "        active_time_dependent_placefields2D.update(t)\n",
    "    # Update the plots:\n",
    "    curr_t = active_time_dependent_placefields2D.last_t\n",
    "    curr_ratemap = active_time_dependent_placefields2D.ratemap\n",
    "\n",
    "    if output_plots_dict is None:\n",
    "        output_plots_dict = {'occupancy': {}, 'placefields': {}} # make a new dictionary to hold the plot objects.\n",
    "        \n",
    "    # Plot the results directly from the active_time_dependent_placefields2D\n",
    "    output_plots_dict = _test_plot_curr_pf_result(curr_t, curr_ratemap, drop_below_threshold=drop_below_threshold, output_plots_dict=output_plots_dict)\n",
    "    pg.QtGui.QApplication.processEvents()\n",
    "    \n",
    "    return output_plots_dict\n",
    "\n",
    "def _test_live_iterative_pf_results_plot(active_time_dependent_placefields2D, num_iterations=50, time_step_seconds=1.0, drop_below_threshold: float=0.0000001, output_plots_dict=None):\n",
    "    \"\"\" performs num_iterations time steps of size time_step_seconds and plots the results. \"\"\"\n",
    "    for i in np.arange(num_iterations):\n",
    "        t = active_time_dependent_placefields2D.last_t + time_step_seconds # add one second\n",
    "        output_plots_dict = _test_step_live_iterative_pf_results_plot(active_time_dependent_placefields2D, t, drop_below_threshold=drop_below_threshold, output_plots_dict=output_plots_dict)\n",
    "        time.sleep(0.1) # Sleep for 0.5 seconds"
   ]
  },
  {
   "cell_type": "code",
   "execution_count": null,
   "id": "6905ecb5-7a0c-4004-920a-2e15daa4b5d7",
   "metadata": {},
   "outputs": [],
   "source": [
    "try:\n",
    "    if output_plots_dict is None:\n",
    "        output_plots_dict = {'occupancy': {}, 'placefields': {}}\n",
    "except NameError:\n",
    "    output_plots_dict = {'occupancy': {}, 'placefields': {}}\n",
    "\n",
    "output_plots_dict = _test_live_iterative_pf_results_plot(active_time_dependent_placefields2D, num_iterations=50, time_step_seconds=1.0, output_plots_dict=output_plots_dict)"
   ]
  },
  {
   "cell_type": "code",
   "execution_count": null,
   "id": "bd991a8f-a824-4441-bc46-0964a8f742e6",
   "metadata": {},
   "outputs": [],
   "source": [
    "output_plots_dict = {'occupancy': {}, 'placefields': {}} # clear the output plots dict\n",
    "output_plots_dict = _test_step_live_iterative_pf_results_plot(active_time_dependent_placefields2D, spike_raster_window.spikes_window.active_time_window[1], output_plots_dict=output_plots_dict)"
   ]
  },
  {
   "cell_type": "code",
   "execution_count": null,
   "id": "d21882fa-f74e-4991-8676-d39767dc0598",
   "metadata": {},
   "outputs": [],
   "source": [
    "def _on_window_updated(window_start, window_end):\n",
    "    # print(f'_on_window_updated(window_start: {window_start}, window_end: {window_end})')\n",
    "    global output_plots_dict\n",
    "    ## Update only version:\n",
    "    # with np.errstate(divide='ignore', invalid='ignore'):\n",
    "    #     active_time_dependent_placefields2D.update(window_end) # advance the placefield display to the end of the window.\n",
    "    ## Update and plot version:\n",
    "    # t = window_end\n",
    "    output_plots_dict = _test_step_live_iterative_pf_results_plot(active_time_dependent_placefields2D, window_end, output_plots_dict=output_plots_dict)\n",
    "    \n",
    "# spike_raster_window.connect_additional_controlled_plotter(_on_window_updated)\n",
    "\n",
    "_on_window_updated(spike_raster_window.spikes_window.active_time_window[0], spike_raster_window.spikes_window.active_time_window[1])\n",
    "sync_connection = spike_raster_window.spike_raster_plt_2d.window_scrolled.connect(_on_window_updated) # connect the window_scrolled event to the _on_window_updated function"
   ]
  },
  {
   "cell_type": "code",
   "execution_count": null,
   "id": "948a121e-00b3-402b-974d-5002bb42c28d",
   "metadata": {},
   "outputs": [],
   "source": [
    "active_time_dependent_placefields2D.plot_occupancy()"
   ]
  },
  {
   "cell_type": "code",
   "execution_count": null,
   "id": "2da9dc1f-4d9a-4396-9cde-2f9cd5af4fa1",
   "metadata": {},
   "outputs": [],
   "source": [
    "# active_time_dependent_placefields2D.plot_ratemaps_2D(enable_spike_overlay=False) # Works\n",
    "active_time_dependent_placefields2D.plot_ratemaps_2D(enable_spike_overlay=True)"
   ]
  },
  {
   "cell_type": "code",
   "execution_count": null,
   "id": "d933d888-1175-4596-922b-ee1b418eb8be",
   "metadata": {},
   "outputs": [],
   "source": [
    "# t_list\n",
    "active_time_dependent_placefields2D.plot_ratemaps_2D(enable_saving_to_disk=False, enable_spike_overlay=False)"
   ]
  },
  {
   "cell_type": "code",
   "execution_count": null,
   "id": "bf5d8d9a-cb3b-447b-93b0-db302d3b4210",
   "metadata": {},
   "outputs": [],
   "source": [
    "# ax_pf_1D, occupancy_fig, active_pf_2D_figures, active_pf_2D_gs = plot_all_placefields(None, active_time_dependent_placefields2D, active_config_name)\n",
    "occupancy_fig, occupancy_ax = active_time_dependent_placefields2D.plot_occupancy(identifier_details_list=[])"
   ]
  },
  {
   "cell_type": "code",
   "execution_count": null,
   "id": "2f4e8a09-3223-444b-b5d1-65b9b5be3283",
   "metadata": {},
   "outputs": [],
   "source": [
    "i = 0\n",
    "while (i < len(t_list)):\n",
    "    curr_t = t_list[i]\n",
    "    # Set up\n",
    "    print(f'curr_t: {curr_t}')\n",
    "    curr_ratemap = ratemaps_list[i]\n",
    "    # images = curr_ratemap.tuning_curves # (43, 63, 63)\n",
    "    occupancy = curr_ratemap.occupancy\n",
    "    # occupancy = curr_ratemap.curr_raw_occupancy_map\n",
    "    imv.setImage(occupancy, xvals=active_time_dependent_placefields2D.xbin)\n",
    "    i += 1\n",
    "    pg.QtGui.QApplication.processEvents()\n",
    "    \n",
    "print(f'done!')"
   ]
  },
  {
   "cell_type": "code",
   "execution_count": null,
   "id": "a25b4f93-062e-4ca0-9fde-ec1534474483",
   "metadata": {},
   "outputs": [],
   "source": [
    "# Timer Update Approach:\n",
    "timer = pg.QtCore.QTimer()\n",
    "i = 0\n",
    "def update():\n",
    "    if (i < len(t_list)):\n",
    "        curr_t = t_list[i]\n",
    "        # Set up\n",
    "        print(f'curr_t: {curr_t}')\n",
    "        curr_ratemap = ratemaps_list[i]\n",
    "        # images = curr_ratemap.tuning_curves # (43, 63, 63)\n",
    "        occupancy = curr_ratemap.occupancy\n",
    "        # occupancy = curr_ratemap.curr_raw_occupancy_map\n",
    "        imv.setImage(occupancy, xvals=active_time_dependent_placefields2D.xbin)\n",
    "        i += 1\n",
    "    else:\n",
    "        print(f'done!')\n",
    "    # pw.plot(x, y, clear=True)\n",
    "\n",
    "timer.timeout.connect(update)"
   ]
  },
  {
   "cell_type": "code",
   "execution_count": null,
   "id": "fe87c21d-a49a-43eb-82f1-48efc65ae1bc",
   "metadata": {},
   "outputs": [],
   "source": [
    "# timer.start(16)\n",
    "timer.start(500)\n"
   ]
  },
  {
   "cell_type": "code",
   "execution_count": null,
   "id": "5fc1a4f7-2f28-44c5-b247-91ffacee6d29",
   "metadata": {},
   "outputs": [],
   "source": [
    "timer.stop()"
   ]
  },
  {
   "cell_type": "code",
   "execution_count": null,
   "id": "c9738a6e-a38e-4601-b683-2ca8cbe047c6",
   "metadata": {},
   "outputs": [],
   "source": [
    "t_list"
   ]
  },
  {
   "cell_type": "code",
   "execution_count": null,
   "id": "ddc4c14e-514c-40cd-8c56-2b35495418e7",
   "metadata": {},
   "outputs": [],
   "source": [
    "# get properties from spike_raster_window:\n",
    "\n",
    "active_curve_plotter_3d = test_independent_vedo_raster_widget # use separate vedo plotter\n",
    "# active_curve_plotter_3d = spike_raster_window.spike_raster_plt_3d\n",
    "curr_computations_results = curr_active_pipeline.computation_results[active_config_name]"
   ]
  },
  {
   "cell_type": "code",
   "execution_count": null,
   "id": "5fa03772-8857-4025-a95b-242a495b015d",
   "metadata": {},
   "outputs": [],
   "source": [
    "## Spike Smoothed Moving Average Rate:\n",
    "from pyphoplacecellanalysis.GUI.PyQtPlot.Widgets.Mixins.TimeCurves3D.Specific3DTimeCurves import Specific3DTimeCurvesHelper\n",
    "binned_spike_moving_average_rate_curve_datasource = Specific3DTimeCurvesHelper.add_unit_time_binned_spike_visualization_curves(curr_computations_results, active_curve_plotter_3d, spike_visualization_mode='mov_average')            "
   ]
  },
  {
   "cell_type": "code",
   "execution_count": null,
   "id": "6eeebd19-8b3f-44a6-9929-fef3b8c137b5",
   "metadata": {},
   "outputs": [],
   "source": [
    "# Get current plot items:\n",
    "curr_plot3D_active_window_data = active_curve_plotter_3d.params.time_curves_datasource.get_updated_data_window(active_curve_plotter_3d.spikes_window.active_window_start_time, active_curve_plotter_3d.spikes_window.active_window_end_time) # get updated data for the active window from the datasource\n",
    "is_data_series_mode = active_curve_plotter_3d.params.time_curves_datasource.has_data_series_specs\n",
    "if is_data_series_mode:\n",
    "    data_series_spaital_values_list = active_curve_plotter_3d.params.time_curves_datasource.data_series_specs.get_data_series_spatial_values(curr_plot3D_active_window_data)\n",
    "    num_data_series = len(data_series_spaital_values_list)\n",
    "\n",
    "curr_data_series_index = 0\n",
    "curr_data_series_dict = data_series_spaital_values_list[curr_data_series_index]\n",
    "\n",
    "curr_plot_column_name = curr_data_series_dict.get('name', f'series[{curr_data_series_index}]') # get either the specified name or the generic 'series[i]' name otherwise\n",
    "curr_plot_name = active_curve_plotter_3d.params.time_curves_datasource.datasource_UIDs[curr_data_series_index]\n",
    "# points for the current plot:\n",
    "pts = np.column_stack([curr_data_series_dict['x'], curr_data_series_dict['y'], curr_data_series_dict['z']])\n",
    "pts"
   ]
  },
  {
   "cell_type": "code",
   "execution_count": null,
   "id": "769587c3-ee40-4ae3-9186-9eab2302628b",
   "metadata": {},
   "outputs": [],
   "source": [
    "## Add the new filled plot item:\n",
    "plot_args = ({'color_name':'white','line_width':0.5,'z_scaling_factor':1.0})\n",
    "_test_fill_plt = gl.GLLinePlotItem(pos=points, color=line_color, width=plot_args.setdefault('line_width',0.5), antialias=True)\n",
    "_test_fill_plt.scale(1.0, 1.0, plot_args.setdefault('z_scaling_factor',1.0)) # Scale the data_values_range to fit within the z_max_value. Shouldn't need to be adjusted so long as data doesn't change.            \n",
    "# plt.scale(1.0, 1.0, self.data_z_scaling_factor) # Scale the data_values_range to fit within the z_max_value. Shouldn't need to be adjusted so long as data doesn't change.\n",
    "active_curve_plotter_3d.ui.main_gl_widget.addItem(_test_fill_plt)"
   ]
  },
  {
   "cell_type": "code",
   "execution_count": null,
   "id": "57e6cb49-cdf7-40fe-9f0d-3e5d4ee84c8a",
   "metadata": {},
   "outputs": [],
   "source": [
    "active_curve_plotter_3d.plots.keys()"
   ]
  },
  {
   "cell_type": "code",
   "execution_count": null,
   "id": "32352254-69c7-4fc6-bcff-a63167e4bbea",
   "metadata": {},
   "outputs": [],
   "source": [
    "active_curve_plotter_3d.params.render_epochs"
   ]
  },
  {
   "cell_type": "code",
   "execution_count": null,
   "id": "02662ba5-0a9f-48b9-aa19-5d2f53b42b34",
   "metadata": {},
   "outputs": [],
   "source": [
    "active_curve_plotter_3d.params.time_curves_datasource"
   ]
  },
  {
   "cell_type": "code",
   "execution_count": null,
   "id": "ef571c2a-29af-4f79-8875-ff03019f6387",
   "metadata": {},
   "outputs": [],
   "source": [
    "active_curve_plotter_3d.params.time_curves_enable_baseline_grid = True\n",
    "active_curve_plotter_3d.params.time_curves_baseline_grid_alpha = 0.9\n",
    "# add_3D_time_curves_baseline_grid_mesh"
   ]
  },
  {
   "cell_type": "code",
   "execution_count": null,
   "id": "2df2f7cc-bd12-4b68-b058-57e450d9fc69",
   "metadata": {},
   "outputs": [],
   "source": [
    "active_curve_plotter_3d.add_3D_time_curves_baseline_grid_mesh()"
   ]
  },
  {
   "cell_type": "code",
   "execution_count": null,
   "id": "4a02b6d7-9635-459a-99e9-34b9bed95b5f",
   "metadata": {},
   "outputs": [],
   "source": [
    "active_curve_plotter_3d.remove_3D_time_curves_baseline_grid_mesh()"
   ]
  },
  {
   "cell_type": "code",
   "execution_count": null,
   "id": "437e62e2-86b8-4844-a909-0b6a22ab9abf",
   "metadata": {},
   "outputs": [],
   "source": [
    "list(active_curve_plotter_3d.plots.keys())"
   ]
  },
  {
   "cell_type": "code",
   "execution_count": null,
   "id": "d06b03d7-acfd-4079-b15c-3df97067f9eb",
   "metadata": {},
   "outputs": [],
   "source": [
    "active_curve_plotter_3d.plots.time_curve_helpers"
   ]
  },
  {
   "cell_type": "code",
   "execution_count": null,
   "id": "622a1efd-94d5-4f1d-9dad-fa2db60e056a",
   "metadata": {},
   "outputs": [],
   "source": [
    "from pyphoplacecellanalysis.GUI.PyQtPlot.Widgets.Mixins.TimeCurves3D.Render3DTimeCurvesBaseGridMixin import BaseGrid3DTimeCurvesHelper, Render3DTimeCurvesBaseGridMixin"
   ]
  },
  {
   "cell_type": "code",
   "execution_count": null,
   "id": "32bb80b7-c02b-471d-9ed5-4577a55866af",
   "metadata": {},
   "outputs": [],
   "source": [
    "BaseGrid3DTimeCurvesHelper.init_3D_time_curves_baseline_grid_mesh(active_curve_plotter_3d=active_curve_plotter_3d)"
   ]
  },
  {
   "cell_type": "code",
   "execution_count": null,
   "id": "47a692bf-cf6a-4524-84a3-74b1a7832347",
   "metadata": {},
   "outputs": [],
   "source": [
    "BaseGrid3DTimeCurvesHelper.add_3D_time_curves_baseline_grid_mesh(active_curve_plotter_3d=active_curve_plotter_3d)"
   ]
  },
  {
   "cell_type": "code",
   "execution_count": null,
   "id": "1bab21c7-4eae-40cf-b8f7-22933efb1e7e",
   "metadata": {},
   "outputs": [],
   "source": [
    "BaseGrid3DTimeCurvesHelper.remove_3D_time_curves_baseline_grid_mesh(active_curve_plotter_3d=active_curve_plotter_3d)"
   ]
  },
  {
   "cell_type": "code",
   "execution_count": null,
   "id": "9984ec3a-c8a7-4142-be96-85ccdc236a85",
   "metadata": {},
   "outputs": [],
   "source": [
    "active_curve_plotter_3d.params.time_curves_main_alpha = 0.5\n",
    "active_curve_plotter_3d.update_3D_time_curves()"
   ]
  },
  {
   "cell_type": "code",
   "execution_count": null,
   "id": "3a178b7e-405c-4735-a0e7-3f66e51b929e",
   "metadata": {},
   "outputs": [],
   "source": [
    "# Add default params if needed:\n",
    "# active_curve_plotter_3d.params\n"
   ]
  },
  {
   "cell_type": "code",
   "execution_count": null,
   "id": "b7617edd-48a0-4a65-a75c-8eef65044672",
   "metadata": {},
   "outputs": [],
   "source": [
    "list(active_curve_plotter_3d.params.keys())"
   ]
  },
  {
   "cell_type": "code",
   "execution_count": null,
   "id": "45e571a1-18fe-4e80-9559-d737ce58fa60",
   "metadata": {},
   "outputs": [],
   "source": [
    "active_curve_plotter_3d.params.time_curves_z_baseline"
   ]
  },
  {
   "cell_type": "code",
   "execution_count": null,
   "id": "4294fe12-aabd-4bd8-ae00-ed20d47c4bcd",
   "metadata": {},
   "outputs": [],
   "source": [
    "active_curve_plotter_3d.plots"
   ]
  },
  {
   "cell_type": "code",
   "execution_count": null,
   "id": "c90a9770-2e8c-4c42-be1a-34aecf8ba618",
   "metadata": {},
   "outputs": [],
   "source": [
    "'time_curve_helpers' not in active_curve_plotter_3d.plots"
   ]
  },
  {
   "cell_type": "code",
   "execution_count": null,
   "id": "95562ab0-0c70-4eaa-80e6-40555f6f9d40",
   "metadata": {},
   "outputs": [],
   "source": [
    "'plots_grid_3dCurveBaselines_Grid' not in active_curve_plotter_3d.plots.time_curve_helpers"
   ]
  },
  {
   "cell_type": "code",
   "execution_count": null,
   "id": "ae544ea5-ff98-4f7f-8cf0-198b56615fdc",
   "metadata": {},
   "outputs": [],
   "source": [
    "time_curves_z_baseline = 5.0 \n",
    "\n",
    "data_series_baseline\n",
    "# z_map_fn = lambda v_main: v_main + 5.0 # returns the un-transformed primary value\n",
    "\n",
    "5.0"
   ]
  },
  {
   "cell_type": "code",
   "execution_count": null,
   "id": "54851449-8964-4038-9ac2-3f07af24a74e",
   "metadata": {},
   "outputs": [],
   "source": [
    "active_curve_plotter_3d.params.axes_walls_z_height = 15.0"
   ]
  },
  {
   "cell_type": "code",
   "execution_count": null,
   "id": "4ab59d5f-e7e5-4263-81f2-9fa3dff5b985",
   "metadata": {},
   "outputs": [],
   "source": [
    "active_curve_plotter_3d._update_axes_plane_graphics()"
   ]
  },
  {
   "cell_type": "code",
   "execution_count": null,
   "id": "2ac7ee3e-b47f-43ad-be91-e5556d953429",
   "metadata": {},
   "outputs": [],
   "source": [
    "active_curve_plotter_3d.temporal_axis_length"
   ]
  },
  {
   "cell_type": "code",
   "execution_count": null,
   "id": "344d4f90-ef1f-4cb9-9c8b-ff0f25feff06",
   "metadata": {},
   "outputs": [],
   "source": [
    "active_curve_plotter_3d.temporal_zoom_factor # 2.6666666666666665"
   ]
  },
  {
   "cell_type": "code",
   "execution_count": null,
   "id": "da0c261f-e235-457b-aafd-557cc632d2d3",
   "metadata": {},
   "outputs": [],
   "source": [
    "active_curve_plotter_3d.temporal_to_spatial(temporal_data=[1.0])"
   ]
  },
  {
   "cell_type": "code",
   "execution_count": null,
   "id": "abcd2ecc-b3b2-4b60-87ec-f1ec0a913d6f",
   "metadata": {},
   "outputs": [],
   "source": [
    "line_color = pg.mkColor(plot_args.setdefault('color_name', 'white'))\n",
    "line_color.setAlphaF(0.8)"
   ]
  },
  {
   "cell_type": "markdown",
   "id": "956ba612-a388-4927-bffa-d2914ad63d3d",
   "metadata": {
    "jp-MarkdownHeadingCollapsed": true,
    "tags": []
   },
   "source": [
    "# Pho Scratch Workspace"
   ]
  },
  {
   "cell_type": "markdown",
   "id": "5c9850c5-3e7b-46bd-8c18-4308fab2ea61",
   "metadata": {
    "tags": []
   },
   "source": [
    "## Firing Rates 2022-07-06"
   ]
  },
  {
   "cell_type": "markdown",
   "id": "6cb1fd1f-9bff-42b3-a3c5-5dfbd56ede80",
   "metadata": {
    "tags": []
   },
   "source": [
    "### Old Placefield Firing Rate Tests:"
   ]
  },
  {
   "cell_type": "code",
   "execution_count": null,
   "id": "18873548-010d-44fd-808f-f6c5dabdd545",
   "metadata": {},
   "outputs": [],
   "source": [
    "# debug_dump_object_member_shapes(active_one_step_decoder)\n",
    "# computation_result.computed_data['pf2D_Decoder']\n",
    "# active_one_step_decoder.time_window_edges\n",
    "\n",
    "active_firing_rate_trends = curr_active_pipeline.computation_results[active_config_name].computed_data['firing_rate_trends']\n",
    "\n",
    "active_rolling_window_times = active_firing_rate_trends['active_rolling_window_times']\n",
    "mean_firing_rates = active_firing_rate_trends['mean_firing_rates']\n",
    "moving_mean_firing_rates_df = active_firing_rate_trends['moving_mean_firing_rates_df']\n",
    "moving_mean_firing_rates_df # 3969 rows x 43 columns\n",
    "\n",
    "# mean_firing_rates\n",
    "# pg.plot(mean_firing_rates)\n",
    "\n",
    "np.shape(moving_mean_firing_rates_df) # (3969, 43)\n",
    "good_only_moving_mean_firing_rates_df = moving_mean_firing_rates_df.dropna() # 3910 rows x 43 columns\n",
    "good_only_moving_mean_firing_rates_df.T\n",
    "err, win = _display_firing_rate_trends(good_only_moving_mean_firing_rates_df.T)\n",
    "win.show()\n",
    "\n"
   ]
  },
  {
   "cell_type": "code",
   "execution_count": null,
   "id": "9da6709d-07a5-441f-8380-fae8e7de2b3e",
   "metadata": {},
   "outputs": [],
   "source": [
    "# active_computation_results[filter_name]\n",
    "active_firing_rate_trends = active_computed_data['firing_rate_trends']\n",
    "active_firing_rate_trends.keys() # ['active_rolling_window_times', 'mean_firing_rates', 'desired_window_length_seconds', 'desired_window_length_bins', 'active_firing_rates_df', 'moving_mean_firing_rates_df']"
   ]
  },
  {
   "cell_type": "code",
   "execution_count": null,
   "id": "747e404c-020d-4f29-94e4-5bf66f366625",
   "metadata": {},
   "outputs": [],
   "source": [
    "moving_mean_firing_rates_df = active_firing_rate_trends['moving_mean_firing_rates_df']\n",
    "moving_mean_firing_rates_df"
   ]
  },
  {
   "cell_type": "code",
   "execution_count": null,
   "id": "7a6a269d-c730-4643-9e34-9058039325b8",
   "metadata": {},
   "outputs": [],
   "source": [
    "#### Compute the fireing rates in the windows corresponding to the sampling rate of the position bins, or better yet for the entire duration spent in a single position bin (splitting on bin-index changes"
   ]
  },
  {
   "cell_type": "code",
   "execution_count": null,
   "id": "38a80eef-75c3-4095-a7fb-9f9a9c486587",
   "metadata": {},
   "outputs": [],
   "source": []
  },
  {
   "cell_type": "code",
   "execution_count": null,
   "id": "237d09f3-b556-4c89-b5f6-e5ad94790806",
   "metadata": {},
   "outputs": [],
   "source": [
    "# if 'binned_x' not in self._filtered_spikes_df:\n",
    "#     self._filtered_spikes_df['binned_x'] = pd.cut(self._filtered_spikes_df['x'].to_numpy(), bins=self.xbin, include_lowest=True, labels=self.xbin_labels) # same shape as the input data \n",
    "    \n",
    "# if 'binned_y' not in self._filtered_spikes_df:\n",
    "#     self._filtered_spikes_df['binned_y'] = pd.cut(self._filtered_spikes_df['y'].to_numpy(), bins=self.ybin, include_lowest=True, labels=self.ybin_labels)\n",
    "\n",
    "## Add Binned Position Columns to spikes_df:\n",
    "def _build_df_discretized_binned_positions(active_df, active_computation_config, xbin_values=None, ybin_values=None, force_recompute=False, debug_print=False):\n",
    "    \"\"\" Adds the 'binned_x' and 'binned_y' columns to the passed-in dataframe\n",
    "    Requires that the passed in dataframe has at least the 'x' column (1D) and optionally the 'y' column.\n",
    "    Works for both position_df and spikes_df\n",
    "    \n",
    "    Usage:\n",
    "        active_df, xbin, ybin, bin_info = _build_df_discretized_binned_positions(active_pf_2D.filtered_spikes_df.copy(), active_computation_config, xbin_values=active_pf_2D.xbin, ybin_values=active_pf_2D.ybin, force_recompute=False, debug_print=True)\n",
    "        active_df\n",
    "    \n",
    "    ## TODO: Move into perminant location and replace duplicated/specific implementations with this more general version.\n",
    "        Known Reimplementations:\n",
    "            neuropy.analyses.time_dependent_placefields.__init__(...)\n",
    "            General\\Decoder\\decoder_result.py - build_position_df_discretized_binned_positions(...)\n",
    "    \"\"\"\n",
    "    # bin the dataframe's x and y positions into bins, with binned_x and binned_y containing the index of the bin that the given position is contained within.\n",
    "    if (xbin_values is None) or (ybin_values is None):\n",
    "        # determine the correct bins to use from active_computation_config.grid_bin:\n",
    "        if debug_print:\n",
    "            print(f'active_grid_bin: {active_computation_config.grid_bin}')\n",
    "\n",
    "        if 'y' in active_df.columns:\n",
    "            # 2D case:\n",
    "            # if (('binned_x' not in active_df.columns) or ('binned_y' not in active_df.columns)) and not force_recompute:\n",
    "            xbin, ybin, bin_info = PfND._bin_pos_nD(active_df['x'].values, active_df['y'].values, bin_size=active_computation_config.grid_bin) # bin_size mode            \n",
    "        else:\n",
    "            # 1D case:\n",
    "            # if ('binned_x' not in active_df.columns) and not force_recompute:\n",
    "            xbin, ybin, bin_info = PfND._bin_pos_nD(active_df['x'].values, None, bin_size=active_computation_config.grid_bin) # bin_size mode\n",
    "    else:\n",
    "        # use the extant values passed in:\n",
    "        if debug_print:\n",
    "            print(f'using extant bins passed as arguments: xbin_values.shape: {xbin_values.shape}, ybin_values.shape: {ybin_values.shape}')\n",
    "        xbin = xbin_values\n",
    "        ybin = ybin_values\n",
    "        bin_info = None\n",
    "\n",
    "    if ('binned_x' not in active_df.columns) and not force_recompute:\n",
    "        active_df['binned_x'] = pd.cut(active_df['x'].to_numpy(), bins=xbin, include_lowest=True, labels=np.arange(start=1, stop=len(xbin))) # same shape as the input data \n",
    "    if 'y' in active_df.columns:\n",
    "        # Only do the y-variables in the 2D case.\n",
    "        if ('binned_y' not in active_df.columns) and not force_recompute:\n",
    "            active_df['binned_y'] = pd.cut(active_df['y'].to_numpy(), bins=ybin, include_lowest=True, labels=np.arange(start=1, stop=len(ybin))) \n",
    "\n",
    "    return active_df, xbin, ybin, bin_info\n",
    "\n",
    "\n",
    "active_df, xbin, ybin, bin_info = _build_df_discretized_binned_positions(active_pf_2D.filtered_spikes_df.copy(), active_computation_config, xbin_values=active_pf_2D.xbin, ybin_values=active_pf_2D.ybin, force_recompute=False, debug_print=True)\n",
    "active_df"
   ]
  },
  {
   "cell_type": "code",
   "execution_count": null,
   "id": "c3bacfcb-8f41-4c04-9f80-86f25607c227",
   "metadata": {},
   "outputs": [],
   "source": [
    "active_pf_2D.bin_info"
   ]
  },
  {
   "cell_type": "code",
   "execution_count": null,
   "id": "ce5f7f5d-7f22-4172-8302-d93e6d5b03de",
   "metadata": {},
   "outputs": [],
   "source": []
  },
  {
   "cell_type": "code",
   "execution_count": null,
   "id": "f624acea-07ed-4f39-9610-c2608240fe36",
   "metadata": {},
   "outputs": [],
   "source": [
    "# sess.spikes_df # no 'binned_x' column\n",
    "active_pf_2D.filtered_spikes_df"
   ]
  },
  {
   "cell_type": "code",
   "execution_count": null,
   "id": "1c0df89f-1c6b-4343-a6fd-db40a491108e",
   "metadata": {},
   "outputs": [],
   "source": [
    "#### Need to compute the best-known transition times between position bins for all spikes as not to truncate the starts/ends of the bins (which would happen if doing a single cell at a time)\n",
    "# active_df.binned_x\n",
    "active_df['_binned_x_transitions'] = active_df['binned_x'].diff()\n",
    "active_df_filtered_binned_x_transitions_only = active_df[active_df['_binned_x_transitions'] != 0] # get only the transition points (for binned_x)\n",
    "active_df_filtered_binned_x_transitions_only\n",
    "\n",
    "active_df_filtered_binned_x_transitions_only = active_df_filtered_binned_x_transitions_only[['t_rel_seconds', 'binned_x']]\n",
    "# Get durations spent in the bin:\n",
    "active_df_filtered_binned_x_transitions_only['bin_occupied_duration'] = active_df_filtered_binned_x_transitions_only['t_rel_seconds'].diff() # How long the animal spent in this bin before transitioning (along its axis)\n",
    "active_df_filtered_binned_x_transitions_only\n"
   ]
  },
  {
   "cell_type": "code",
   "execution_count": null,
   "id": "79e719f7-199a-4f0b-abb1-9426771afb3b",
   "metadata": {},
   "outputs": [],
   "source": [
    "transition_start_spike_index = active_df_filtered_binned_x_transitions_only.index\n",
    "transition_end_spike_index = transition_start_spike_index - 1 # the end of each occurs at the time of the previous one"
   ]
  },
  {
   "cell_type": "code",
   "execution_count": null,
   "id": "93538d28-dd33-4f70-964d-d0b1e2eed0e6",
   "metadata": {},
   "outputs": [],
   "source": [
    "#### In general, for each neuron, get the spikes that occured during each bin_occupation_event 'i' (from t_rel_seconds[i] to (t_rel_seconds[i] + bin_occupied_duration[i])) and divide by the bin_occupied_duration[i]\n",
    "# This will give the bin_occupation_event's spike_rate for each neuron which we can filter on (to find the neuron's that fire > 1Hz for this bin_occupation_event)\n",
    "\n",
    "\"\"\"\n",
    "Along a given axis (x or y), an animal occupies a single bin at each time given by (binned_x or binned_y). \n",
    "When the animal changes bins and a transition occurs along a given axis, it is said to terminate the occupation of the previous bin and start the occupation of the new bin.\n",
    "\n",
    "These (start_t, bin_occupied_duration, binned_x) tuples denote a unique event, termed a `bin_occupation_event`.\n",
    "\n",
    "Within a given bin_occupation_event each neuron has an instantaneous bin firing rate given by: (number of spikes it fired during the event) / bin_occupied_duration\n",
    "\n",
    "\"\"\""
   ]
  },
  {
   "cell_type": "markdown",
   "id": "188d6f5f-d947-4f08-8822-49a9c9082e12",
   "metadata": {
    "tags": []
   },
   "source": [
    "## Change to simplier non-time-dependent version:"
   ]
  },
  {
   "cell_type": "code",
   "execution_count": null,
   "id": "186ad30e-0bd1-4ea2-a466-1733afb6467a",
   "metadata": {},
   "outputs": [],
   "source": [
    "# Plot from the active_simpler_pf_densities_analysis\n",
    "out_app, out_win, out_imageView = pyqtplot_plot_image(active_pf_2D_dt.xbin_labels, active_pf_2D_dt.ybin_labels, active_simpler_pf_densities_analysis.n_neurons_meeting_firing_critiera_by_position_bins_2D)"
   ]
  },
  {
   "cell_type": "code",
   "execution_count": null,
   "id": "b9026cb1-1efa-41ea-a40d-414e54d6c657",
   "metadata": {},
   "outputs": [],
   "source": [
    "# out = BinnedImageRenderingWindow(active_pf_2D_dt.curr_firing_maps_matrix, active_pf_2D_dt.xbin_labels, active_pf_2D_dt.ybin_labels)\n",
    "out = BasicBinnedImageRenderingWindow(active_pf_2D_dt.curr_firing_maps_matrix, active_pf_2D_dt.xbin_labels, active_pf_2D_dt.ybin_labels)\n",
    "# pyqtplot_plot_image(active_pf_2D_dt.xbin_labels, active_pf_2D_dt.ybin_labels, active_pf_2D_dt.curr_firing_maps_matrix)"
   ]
  },
  {
   "cell_type": "code",
   "execution_count": null,
   "id": "4640c635-505b-4260-873e-2a74750949c4",
   "metadata": {},
   "outputs": [],
   "source": [
    "# Compute the updated counts:\n",
    "current_spike_per_unit_per_bin_counts = active_df.value_counts(subset=['fragile_linear_neuron_IDX', 'binned_x', 'binned_y'], normalize=False, sort=False, ascending=True, dropna=True) # dropna=True\n",
    "current_spike_per_unit_per_bin_counts # pandas.core.series.Series"
   ]
  },
  {
   "cell_type": "code",
   "execution_count": null,
   "id": "1827525d-84aa-49ca-b6f5-833a8b60b0db",
   "metadata": {},
   "outputs": [],
   "source": [
    "type(current_spike_per_unit_per_bin_counts) # pandas.core.series.Series\n",
    "# current_spike_per_unit_per_bin_counts[0]\n",
    "\n",
    "pd.DataFrame(current_spike_per_unit_per_bin_counts)"
   ]
  },
  {
   "cell_type": "code",
   "execution_count": null,
   "id": "3a9c5ac1-7d8d-4b22-b23b-13834535e62c",
   "metadata": {},
   "outputs": [],
   "source": [
    "\n",
    "debug_print = True\n",
    "for (fragile_linear_neuron_IDX, xbin_label, ybin_label), count in current_spike_per_unit_per_bin_counts.iteritems():\n",
    "    if debug_print:\n",
    "        print(f'fragile_linear_neuron_IDX: {fragile_linear_neuron_IDX}, xbin_label: {xbin_label}, ybin_label: {ybin_label}, count: {count}')\n",
    "    try:\n",
    "        last_firing_maps_matrix[fragile_linear_neuron_IDX, xbin_label-1, ybin_label-1] += count\n",
    "    except IndexError as e:\n",
    "        print(f'e: {e}\\n active_current_spike_df: {np.shape(active_current_spike_df)}, current_spike_per_unit_per_bin_counts: {np.shape(current_spike_per_unit_per_bin_counts)}\\n last_firing_maps_matrix: {np.shape(last_firing_maps_matrix)}\\n count: {count}')\n",
    "        print(f' last_firing_maps_matrix[fragile_linear_neuron_IDX: {fragile_linear_neuron_IDX}, (xbin_label-1): {xbin_label-1}, (ybin_label-1): {ybin_label-1}] += count: {count}')\n",
    "        raise e\n",
    "        "
   ]
  },
  {
   "cell_type": "code",
   "execution_count": null,
   "id": "887c0848-4672-409d-af60-d110e96b92a4",
   "metadata": {},
   "outputs": [],
   "source": [
    "## Now want it arranged by-bin instead of by-neuron:\n",
    "\n",
    "\n",
    "## LATER: Also need to collapse over all binned_y for each binned_x (marginalize) - I think"
   ]
  },
  {
   "cell_type": "markdown",
   "id": "d6f4a4e8-4ffc-4f8b-85f9-e0e98bc309e2",
   "metadata": {},
   "source": [
    "## Get 2D Heatmaps of Velocity and Occupancy working:"
   ]
  },
  {
   "cell_type": "code",
   "execution_count": null,
   "id": "82f6098e-6b08-451f-a741-ceaffa7d77ab",
   "metadata": {},
   "outputs": [],
   "source": [
    "from pyphoplacecellanalysis.GUI.PyQtPlot.BinnedImageRenderingWindow import BasicBinnedImageRenderingWindow, add_bin_ticks, build_binned_imageItem"
   ]
  },
  {
   "cell_type": "code",
   "execution_count": null,
   "id": "cf9e94e5-266f-43e1-b31c-2faf140e4686",
   "metadata": {},
   "outputs": [],
   "source": [
    "out = BasicBinnedImageRenderingWindow(active_eloy_analysis.avg_2D_speed_per_pos, active_pf_2D.xbin, active_pf_2D.ybin, name='avg_velocity', title=\"Avg Velocity per Pos (X, Y)\", variable_label='Avg Velocity')\n",
    "out.add_data(row=2, col=0, matrix=active_eloy_analysis.pf_overlapDensity_2D, xbins=active_pf_2D.xbin, ybins=active_pf_2D.ybin, name='pf_overlapDensity', title='pf overlapDensity metric', variable_label='pf overlapDensity')\n",
    "out.add_data(row=3, col=0, matrix=active_pf_2D.ratemap.occupancy, xbins=active_pf_2D.xbin, ybins=active_pf_2D.ybin, name='occupancy_seconds', title='Seconds Occupancy', variable_label='seconds')\n",
    "out.add_data(row=4, col=0, matrix=active_simpler_pf_densities_analysis.n_neurons_meeting_firing_critiera_by_position_bins_2D, xbins=active_pf_2D.xbin, ybins=active_pf_2D.ybin, name='n_neurons_meeting_firing_critiera_by_position_bins_2D', title='# neurons > 1Hz per Pos (X, Y)', variable_label='# neurons')"
   ]
  },
  {
   "cell_type": "markdown",
   "id": "24d12a65-a8d5-43ed-aab5-d6f143fbde58",
   "metadata": {},
   "source": [
    "## Test getting prominences with peak_prominence2d"
   ]
  },
  {
   "cell_type": "code",
   "execution_count": null,
   "id": "06220324-167f-4817-a520-d9204abdb5e5",
   "metadata": {
    "scrolled": true,
    "tags": []
   },
   "outputs": [],
   "source": [
    "curr_display_function_name = '_display_pf_peak_prominence2d_default_quadrant_plots'\n",
    "out_figs, out_axes, out_idxs = curr_active_pipeline.display(curr_display_function_name, active_config_name) "
   ]
  },
  {
   "cell_type": "code",
   "execution_count": null,
   "id": "d171d2cc-3554-400f-a18b-c37448f8f450",
   "metadata": {
    "scrolled": true,
    "tags": []
   },
   "outputs": [],
   "source": [
    "curr_display_function_name = 'plot_Prominence'\n",
    "built_pdf_metadata, curr_pdf_save_path = _build_pdf_pages_output_info(curr_display_function_name)\n",
    "with backend_pdf.PdfPages(curr_pdf_save_path, keep_empty=False, metadata=built_pdf_metadata) as pdf:\n",
    "    for an_idx, a_fig in zip(active_peak_prominence_2d_results.neuron_extended_ids, out_figs):\n",
    "        a_fig.suptitle(f'neuron: {an_idx.id}', fontsize=16)\n",
    "        pdf.savefig(a_fig)"
   ]
  },
  {
   "cell_type": "code",
   "execution_count": null,
   "id": "0c0931b4-c50e-4238-a934-35a1c71fa71f",
   "metadata": {
    "scrolled": true,
    "tags": []
   },
   "outputs": [],
   "source": [
    "curr_display_function_name = '_display_pf_peak_prominence2d_plots'\n",
    "figure, ax = curr_active_pipeline.display(curr_display_function_name, active_config_name, neuron_id=2) "
   ]
  },
  {
   "cell_type": "markdown",
   "id": "115ecb17-a0d2-44d1-9797-ef342c84e74c",
   "metadata": {
    "tags": []
   },
   "source": [
    "# Quantitatively Analyzing the prominence computation results"
   ]
  },
  {
   "cell_type": "code",
   "execution_count": null,
   "id": "cd624298-b28f-462a-a0db-1cb36ccecd90",
   "metadata": {
    "scrolled": true,
    "tags": []
   },
   "outputs": [],
   "source": [
    "def min_mean_max_sum(M, print_result=True):\n",
    "    out = (np.nanmin(M), np.nanmean(M), np.nanmax(M), np.nansum(M))\n",
    "    if print_result:\n",
    "        print(f'min: {out[0]}, mean: {out[1]}, max: {out[2]}, sum: {out[3]}')\n",
    "    return out"
   ]
  },
  {
   "cell_type": "code",
   "execution_count": null,
   "id": "c4c38e18-c1f6-44f0-9837-480c40d314ff",
   "metadata": {
    "scrolled": true,
    "tags": []
   },
   "outputs": [],
   "source": [
    "valid_neuron_id = 2\n",
    "# valid_neuron_id = kwargs.get('neuron_id', 2)"
   ]
  },
  {
   "cell_type": "code",
   "execution_count": 8,
   "id": "8d82fcfc-88ba-44ba-9704-7a28a148320c",
   "metadata": {},
   "outputs": [
    {
     "data": {
      "text/plain": [
       "['xx', 'yy', 'neuron_extended_ids', 'results', 'flat_peaks_df']"
      ]
     },
     "execution_count": 8,
     "metadata": {},
     "output_type": "execute_result"
    }
   ],
   "source": [
    "## For a single neuron:\n",
    "## Care about:\n",
    "# - Pf Num of Peaks: expresses whether a cell responds selectively to a single location, is bi-modal, tri-modal, etc.\n",
    "# - Peak Locations: (to determine the number of peaks per bin or region)\n",
    "# - Peak Prominences/Relative heights\n",
    "#   Pf Sizes: defined by our bounding boxes\n",
    "#   Stability??\n",
    "\n",
    "# QuantPeakResult\n",
    "list(active_peak_prominence_2d_results.keys())"
   ]
  },
  {
   "cell_type": "code",
   "execution_count": null,
   "id": "960d8537-8abb-4519-bdde-d772e44d10f1",
   "metadata": {},
   "outputs": [],
   "source": [
    "pf_summits_analysis_df = active_peak_prominence_2d_results.flat_peaks_df\n",
    "pf_summits_analysis_df"
   ]
  },
  {
   "cell_type": "code",
   "execution_count": 9,
   "id": "4e3e4fea-13ee-45be-b220-a39d043f1959",
   "metadata": {
    "jp-MarkdownHeadingCollapsed": true,
    "tags": []
   },
   "outputs": [],
   "source": [
    "def build_filtered_summits_analysis_results(xbin, ybin, xbin_labels, ybin_labels, active_peak_prominence_2d_results, slice_level_multiplier=0.5, minimum_included_peak_height=1.0, debug_print = False):\n",
    "    \"\"\" builds the filtered summits analysis results dataframe and flat counts matrix \n",
    "    \n",
    "    Usage:\n",
    "        filtered_summits_analysis_df, pf_peak_counts_map = build_filtered_summits_analysis_results(active_pf_2D.xbin, active_pf_2D.ybin, active_pf_2D.xbin_labels, active_pf_2D.ybin_labels,\n",
    "                                                                                           active_peak_prominence_2d_results, slice_level_multiplier=0.5, minimum_included_peak_height=1.0, debug_print = False)\n",
    "                                                                                           \n",
    "    \"\"\"\n",
    "    filtered_summits_analysis_df = pf_summits_analysis_df[pf_summits_analysis_df['peak_height'] >= minimum_included_peak_height].copy() # filter for peaks greater than 1.0Hz\n",
    "    # filtered_summits_analysis_df\n",
    "    ## Find which position bin each peak falls in:\n",
    "    if 'peak_center_binned_x' not in filtered_summits_analysis_df:\n",
    "        filtered_summits_analysis_df['peak_center_binned_x'] = pd.cut(filtered_summits_analysis_df['peak_center_x'].to_numpy(), bins=xbin, include_lowest=True, labels=xbin_labels) # same shape as the input data\n",
    "    if 'peak_center_binned_y' not in filtered_summits_analysis_df:\n",
    "        filtered_summits_analysis_df['peak_center_binned_y'] = pd.cut(filtered_summits_analysis_df['peak_center_y'].to_numpy(), bins=ybin, include_lowest=True, labels=ybin_labels)\n",
    "    # filtered_summits_analysis_df\n",
    "    ## IMPORTANT: Filter by only one of the slice_levels before continuing, otherwise you're double-counting:\n",
    "    filtered_summits_analysis_df = filtered_summits_analysis_df[filtered_summits_analysis_df['slice_level_multiplier'] == slice_level_multiplier].copy()\n",
    "\n",
    "    ## Build outputs:\n",
    "    n_xbins = len(xbin) - 1 # the -1 is to get the counts for the centers only\n",
    "    n_ybins = len(ybin) - 1 # the -1 is to get the counts for the centers only\n",
    "    pf_peak_counts_map = np.zeros((n_xbins, n_ybins), dtype=int) # create an initially zero matrix\n",
    "\n",
    "    current_bin_counts = filtered_summits_analysis_df.value_counts(subset=['peak_center_binned_x', 'peak_center_binned_y'], normalize=False, sort=False, ascending=True, dropna=True) # current_bin_counts: a series with a MultiIndex index for each bin that has nonzero counts\n",
    "    if debug_print:\n",
    "        print(f'np.shape(current_bin_counts): {np.shape(current_bin_counts)}') # (247,)\n",
    "    for (xbin_label, ybin_label), count in current_bin_counts.iteritems():\n",
    "        if debug_print:\n",
    "            print(f'xbin_label: {xbin_label}, ybin_label: {ybin_label}, count: {count}')\n",
    "        try:\n",
    "            pf_peak_counts_map[xbin_label-1, ybin_label-1] += count\n",
    "        except IndexError as e:\n",
    "            print(f'e: {e}\\n filtered_summits_analysis_df: {np.shape(filtered_summits_analysis_df)}, current_bin_counts: {np.shape(current_bin_counts)}\\n pf_peak_counts_map: {np.shape(pf_peak_counts_map)}')\n",
    "            raise e\n",
    "\n",
    "    return filtered_summits_analysis_df, pf_peak_counts_map\n",
    "    \n",
    "filtered_summits_analysis_df, pf_peak_counts_map = build_filtered_summits_analysis_results(active_pf_2D.xbin, active_pf_2D.ybin, active_pf_2D.xbin_labels, active_pf_2D.ybin_labels,\n",
    "                                                                                           active_peak_prominence_2d_results, slice_level_multiplier=0.5, minimum_included_peak_height=1.0, debug_print = False)"
   ]
  },
  {
   "cell_type": "code",
   "execution_count": 10,
   "id": "2cb6c576-305d-474f-a68b-eb7d2f1d6761",
   "metadata": {
    "jp-MarkdownHeadingCollapsed": true,
    "tags": []
   },
   "outputs": [],
   "source": [
    "# Plot from the active_simpler_pf_densities_analysis\n",
    "out_app, out_win, out_imageView = pyqtplot_plot_image(active_pf_2D.xbin_labels, active_pf_2D.ybin_labels, pf_peak_counts_map)"
   ]
  },
  {
   "cell_type": "code",
   "execution_count": 18,
   "id": "cc8f1e9b-3355-433a-8341-f04b9086a36a",
   "metadata": {},
   "outputs": [],
   "source": [
    "from scipy.ndimage.filters import uniform_filter, gaussian_filter\n",
    "pf_peak_counts_map_blurred = uniform_filter(pf_peak_counts_map.astype('float'), size=3, mode='constant')\n",
    "# pf_peak_counts_map_blurred\n",
    "\n",
    "out_app, out_win, out_imageView = pyqtplot_plot_image(active_pf_2D.xbin_labels, active_pf_2D.ybin_labels, pf_peak_counts_map_blurred)"
   ]
  },
  {
   "cell_type": "code",
   "execution_count": null,
   "id": "aa841a7a-4bb1-46f1-a2e7-f2d72b8d926d",
   "metadata": {},
   "outputs": [],
   "source": []
  },
  {
   "cell_type": "markdown",
   "id": "942c1178-4200-42be-86eb-3ed5da66974d",
   "metadata": {
    "jp-MarkdownHeadingCollapsed": true,
    "tags": []
   },
   "source": [
    "## Testing Variable Viewers"
   ]
  },
  {
   "cell_type": "code",
   "execution_count": null,
   "id": "a23eabdc-2380-4f3e-92a2-5e5e631640d5",
   "metadata": {},
   "outputs": [],
   "source": [
    "from pyphocorehelpers.gui.tkinter.tk_tree_view import tk_tree_view"
   ]
  },
  {
   "cell_type": "code",
   "execution_count": null,
   "id": "9bb18c64-ada3-47b3-a8eb-3a3b5efcc2ca",
   "metadata": {},
   "outputs": [],
   "source": [
    "def visualise_dict(d, lvl=0):\n",
    "    # go through the dictionary alphabetically \n",
    "    for k in sorted(d):\n",
    "        # print the table header if we're at the beginning\n",
    "        if lvl == 0 and k == sorted(d)[0]:\n",
    "            print('{:<25} {:<15} {:<10}'.format('KEY','LEVEL','TYPE'))\n",
    "            print('-'*79)\n",
    "\n",
    "        indent = '  '*lvl # indent the table to visualise hierarchy\n",
    "        t = str(type(d[k]))\n",
    "\n",
    "        # print details of each entry\n",
    "        print(\"{:<25} {:<15} {:<10}\".format(indent+str(k),lvl,t))\n",
    "\n",
    "        # if the entry is a dictionary\n",
    "        if type(d[k])==dict:\n",
    "            # visualise THAT dictionary with +1 indent\n",
    "            visualise_dict(d[k],lvl+1)"
   ]
  },
  {
   "cell_type": "code",
   "execution_count": null,
   "id": "2e011369-eb23-4480-81af-d845d2d8e7a9",
   "metadata": {},
   "outputs": [],
   "source": [
    "from pyphocorehelpers.print_helpers import print_value_overview_only, print_keys_if_possible, pprint, debug_dump_object_member_shapes"
   ]
  },
  {
   "cell_type": "code",
   "execution_count": null,
   "id": "a0cc1d39-d2c1-42e3-9597-de6d22d2b33f",
   "metadata": {},
   "outputs": [],
   "source": [
    "# tk_tree_view(peaks[1])\n",
    "# tk_tree_view(peaks)\n",
    "\n",
    "# tk_tree_view(ipcDataExplorer.plots.to_dict())\n",
    "visualise_dict(ipcDataExplorer.plots)"
   ]
  },
  {
   "cell_type": "code",
   "execution_count": null,
   "id": "588008aa-5d3b-47de-bb19-ae880861302b",
   "metadata": {},
   "outputs": [],
   "source": [
    "str(type(tuningCurvePlotData[2]['pdata_currActiveNeuronTuningCurve']))\n",
    "\n",
    "# pyvista.core.pointset.StructuredGrid"
   ]
  },
  {
   "cell_type": "code",
   "execution_count": null,
   "id": "992502de-1bee-4160-ad1c-70d82fe47433",
   "metadata": {},
   "outputs": [],
   "source": [
    "# print_keys_if_possible('plots_data', ipcDataExplorer.plots_data) # RenderPlotsData\n",
    "tuningCurvePlotData = ipcDataExplorer.plots_data['tuningCurvePlotData']\n",
    "# - tuningCurvePlotData: <class 'indexed.IndexedOrderedDict'>\n",
    "# \t- 2: <class 'dict'>\n",
    "# \t\t- curr_active_neuron_ID: <class 'numpy.int32'>\n",
    "# \t\t- curr_active_neuron_pf_identifier: <class 'str'>\n",
    "# \t\t- curr_active_neuron_tuning_Curve: <class 'numpy.ndarray'> - (29, 64)\n",
    "# \t\t- pdata_currActiveNeuronTuningCurve: <class 'pyvista.core.pointset.StructuredGrid'> - OMITTED TYPE WITH NO SHAPE\n",
    "# \t\t- pdata_currActiveNeuronTuningCurve_Points: <class 'pyvista.core.pointset.UnstructuredGrid'> - OMITTED TYPE WITH NO SHAPE\n",
    "# \t\t- lut: <class 'vtkmodules.vtkCommonCore.vtkLookupTable'>\n",
    "        \n",
    "# 'occupancyPlotData'\n",
    "# tuningCurvePlotData.shape\n",
    "print_keys_if_possible('tuningCurvePlotData', tuningCurvePlotData) # RenderPlotsData"
   ]
  },
  {
   "cell_type": "code",
   "execution_count": null,
   "id": "c5772862-44a8-4858-96c4-41d067d8167e",
   "metadata": {},
   "outputs": [],
   "source": [
    "print_keys_if_possible('ipcDataExplorer.plots', ipcDataExplorer.plots, additional_excluded_item_classes=[\"<class 'vtkmodules.vtkRenderingOpenGL2.vtkOpenGLActor'>\", \"<class 'vtkmodules.vtkRenderingAnnotation.vtkLegendBoxActor'>\"]) # RenderPlots\n",
    "# pcDataExplorer.plots: <class 'pyphocorehelpers.DataStructure.general_parameter_containers.RenderPlots'>\n",
    "# \t- name: <class 'str'>\n",
    "# \t- occupancyPlotActor: <class 'NoneType'>\n",
    "# \t- maze_bg: <class 'vtkmodules.vtkRenderingOpenGL2.vtkOpenGLActor'> - OMITTED TYPE WITH NO SHAPE\n",
    "# \t- tuningCurvePlotActors: <class 'indexed.IndexedOrderedDict'>\n",
    "# \t\t- 2: <class 'pyphocorehelpers.gui.PyVista.CascadingDynamicPlotsList.CascadingDynamicPlotsList'>\n",
    "# \t\t\t- main: <class 'vtkmodules.vtkRenderingOpenGL2.vtkOpenGLActor'> - OMITTED TYPE WITH NO SHAPE\n",
    "# \t\t\t- points: <class 'vtkmodules.vtkRenderingOpenGL2.vtkOpenGLActor'> - OMITTED TYPE WITH NO SHAPE\n",
    "#           ...\n",
    "#         - 64: <class 'pyphocorehelpers.gui.PyVista.CascadingDynamicPlotsList.CascadingDynamicPlotsList'>\n",
    "# \t\t\t- main: <class 'vtkmodules.vtkRenderingOpenGL2.vtkOpenGLActor'> - OMITTED TYPE WITH NO SHAPE\n",
    "# \t\t\t- points: <class 'vtkmodules.vtkRenderingOpenGL2.vtkOpenGLActor'> - OMITTED TYPE WITH NO SHAPE\n",
    "# \t- tuningCurvePlotLegendActor: <class 'vtkmodules.vtkRenderingAnnotation.vtkLegendBoxActor'> - OMITTED TYPE WITH NO SHAPE\n",
    "# \t- spikes_pf_active: <class 'vtkmodules.vtkRenderingOpenGL2.vtkOpenGLActor'> - OMITTED TYPE WITH NO SHAPE\n",
    "        \n",
    "active_tuning_curve_plot_actors = ipcDataExplorer.plots['tuningCurvePlotActors']\n"
   ]
  },
  {
   "cell_type": "code",
   "execution_count": null,
   "id": "058cd8e9-7ab0-43f6-a637-2ccdc8a4c433",
   "metadata": {},
   "outputs": [],
   "source": [
    "debug_dump_object_member_shapes(tuningCurvePlotData)"
   ]
  },
  {
   "cell_type": "code",
   "execution_count": null,
   "id": "fa2d5c06-ca30-4a3d-9198-95678bec99ea",
   "metadata": {},
   "outputs": [],
   "source": [
    "visualise_dict(ipcDataExplorer.plots, lvl=1)"
   ]
  },
  {
   "cell_type": "code",
   "execution_count": null,
   "id": "fa7bfd15-f0da-49fb-b796-d66f4072c4cb",
   "metadata": {},
   "outputs": [],
   "source": [
    "active_neuron_id = 2\n",
    "tuning_curve_is_visible = ipcDataExplorer.plots['tuningCurvePlotActors'][active_neuron_id].main.GetVisibility()\n",
    "tuning_curve_is_visible"
   ]
  },
  {
   "cell_type": "code",
   "execution_count": null,
   "id": "e7e0e0bf-c80b-4a3d-842e-46a29f488d08",
   "metadata": {},
   "outputs": [],
   "source": [
    "# ipcDataExplorer.p.remove_actor(contours_mesh)"
   ]
  },
  {
   "cell_type": "markdown",
   "id": "0aa19041-694d-441e-a42a-b977988ecb06",
   "metadata": {
    "jp-MarkdownHeadingCollapsed": true,
    "tags": []
   },
   "source": [
    "## Vedo display of contours testing"
   ]
  },
  {
   "cell_type": "code",
   "execution_count": null,
   "id": "4f69797c-6760-4311-a8b3-2e88519485c5",
   "metadata": {},
   "outputs": [],
   "source": [
    "plt = plot(active_peak_prominence_2d_results.xx, active_peak_prominence_2d_results.yy, slab, c='summer') # use a colormap\n",
    "show(plt, viewup='z').close()"
   ]
  },
  {
   "cell_type": "code",
   "execution_count": null,
   "id": "f27024f6-0b89-4411-983c-563bfe3b4986",
   "metadata": {},
   "outputs": [],
   "source": [
    "'''Draw a z = f(x,y) surface specified as\n",
    "a string or as a reference to an external function.\n",
    "Red points indicate where the function does not exist!'''\n",
    "from vedo import dataurl, sin, cos, log, show, Text2D\n",
    "from vedo.pyplot import plot\n",
    "\n",
    "doc = Text2D(__doc__, pos='bottom-left', c='darkgreen', font='Quikhand')\n",
    "\n",
    "############################################################### REAL\n",
    "def f(x, y):\n",
    "    return sin(2*x*y) * cos(3*y)/2\n",
    "f1 = plot(f, c='summer') # use a colormap\n",
    "\n",
    "# red dots are shown where the function does not exist (y>x):\n",
    "def f(x, y):\n",
    "    return sin(3*x) * log(x-y)/3\n",
    "f2 = plot(f, texture=dataurl+'textures/paper3.jpg')\n",
    "\n",
    "# specify x and y ranges and z vertical limits:\n",
    "def f(x, y):\n",
    "    return log(x**2+y**2-1)\n",
    "f3 = plot(\n",
    "    f,\n",
    "    xlim=[-2,2],\n",
    "    ylim=[-1,8],\n",
    "    zlim=[-1,None],\n",
    "    texture=dataurl+'textures/paper1.jpg',\n",
    ")\n",
    "\n",
    "show([(f1, 'y = sin(2*x*y) * cos(3*y) /2', doc),\n",
    "      (f2, 'y = sin(3*x)*log(x-y)/3'),\n",
    "      (f3, 'y = log(x**2+y**2-1)'),\n",
    "     ], N=3, sharecam=False,\n",
    ").close()\n",
    "\n",
    "############################################################## COMPLEX\n",
    "comment = \"\"\"Vertical axis shows the real part of complex z:\n",
    "    z = sin(log(x\\doty))\n",
    "Color map the value of the imaginary part\n",
    "(green=positive, purple=negative)\"\"\"\n",
    "\n",
    "plt = plot(lambda x,y: sin(log(x*y))/25, mode='complex')\n",
    "\n",
    "show(plt, comment, viewup='z').close()"
   ]
  },
  {
   "cell_type": "code",
   "execution_count": null,
   "id": "f3535fc5-5806-4435-a2ee-96134abb2b44",
   "metadata": {},
   "outputs": [],
   "source": [
    "isol = mesh0.isolines(n=10).color('w')\n",
    "isob = mesh0.isobands(n=5).addScalarBar(title=\"H=Elevation\")\n",
    "\n",
    "# make a copy and interpolate the Scalars from points to cells\n",
    "mesh1 = mesh0.clone(deep=False).mapPointsToCells()\n",
    "printc('Mesh cell arrays :', mesh1.celldata.keys())\n",
    "\n",
    "gvecs = mesh1.gradient(on='cells')\n",
    "cc = mesh1.cellCenters()\n",
    "ars = Arrows(cc, cc + gvecs*0.01, c='bone_r').lighting('off')\n",
    "ars.addScalarBar3D(title='|\\nablaH|~\\dot~0.01 [arb.units]')\n",
    "\n",
    "# colormap the gradient magnitude directly on the mesh\n",
    "mesh2 = mesh1.clone(deep=False).lw(0.1).cmap('jet', mag(gvecs), on='cells')\n",
    "mesh2.addScalarBar3D(title='|\\nablaH| [arb.units]')\n",
    "\n",
    "plt = Plotter(N=4, size=(1200,900), axes=11)\n",
    "plt.at(0).show(mesh0, isol, __doc__)\n",
    "plt.at(1).show(isob)\n",
    "plt.at(2).show(mesh1, isol, ars, \"Arrows=\\nablaH\")\n",
    "plt.at(3).show(mesh2, \"Color=|\\nablaH|\")\n",
    "plt.interactive().close()"
   ]
  }
 ],
 "metadata": {
  "interpreter": {
   "hash": "bb76371bb80daaa456787a5f74a5afc9bd3e021c2669334ff0bb72cb94135a74"
  },
  "kernelspec": {
   "display_name": "Python [conda env:phoviz_ultimate]",
   "language": "python",
   "name": "conda-env-phoviz_ultimate-py"
  },
  "language_info": {
   "codemirror_mode": {
    "name": "ipython",
    "version": 3
   },
   "file_extension": ".py",
   "mimetype": "text/x-python",
   "name": "python",
   "nbconvert_exporter": "python",
   "pygments_lexer": "ipython3",
   "version": "3.9.13"
  },
  "scenes_data": {
   "active_scene": "Default Scene",
   "init_scene": null,
   "scenes": [
    "Default Scene"
   ]
  },
  "toc-autonumbering": true,
  "toc-showcode": false,
  "toc-showmarkdowntxt": false,
  "toc-showtags": false
 },
 "nbformat": 4,
 "nbformat_minor": 5
}
