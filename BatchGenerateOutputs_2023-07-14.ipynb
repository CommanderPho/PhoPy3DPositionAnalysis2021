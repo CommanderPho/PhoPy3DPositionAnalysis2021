{
 "cells": [
  {
   "cell_type": "code",
   "execution_count": 1,
   "id": "0056bc66-7629-4ef7-8c87-f28f8fcd9dc8",
   "metadata": {
    "autorun": true,
    "tags": [
     "imports",
     "REQUIRED",
     "ACTIVE"
    ]
   },
   "outputs": [
    {
     "name": "stdout",
     "output_type": "stream",
     "text": [
      "Automatic pdb calling has been turned OFF\n",
      "build_module_logger(module_name=\"Spike3D.pipeline\"):\n",
      "\t Module logger com.PhoHale.Spike3D.pipeline has file logging enabled and will log to EXTERNAL/TESTING/Logging/debug_com.PhoHale.Spike3D.pipeline.log\n"
     ]
    }
   ],
   "source": [
    "%config IPCompleter.use_jedi = False\n",
    "%pdb off\n",
    "%load_ext autoreload\n",
    "%autoreload 3\n",
    "from pathlib import Path\n",
    "import pathlib\n",
    "import numpy as np\n",
    "import pandas as pd\n",
    "\n",
    "# required to enable non-blocking interaction:\n",
    "%gui qt5\n",
    "\n",
    "## Pho's Custom Libraries:\n",
    "from pyphocorehelpers.Filesystem.path_helpers import find_first_extant_path\n",
    "from pyphocorehelpers.function_helpers import function_attributes\n",
    "\n",
    "# pyPhoPlaceCellAnalysis:\n",
    "# NeuroPy (Diba Lab Python Repo) Loading\n",
    "from neuropy.core.session.Formats.BaseDataSessionFormats import DataSessionFormatRegistryHolder\n",
    "from neuropy.core.session.Formats.Specific.BapunDataSessionFormat import BapunDataSessionFormatRegisteredClass\n",
    "from neuropy.core.session.Formats.Specific.KDibaOldDataSessionFormat import KDibaOldDataSessionFormatRegisteredClass\n",
    "from neuropy.core.session.Formats.Specific.RachelDataSessionFormat import RachelDataSessionFormat\n",
    "from neuropy.core.session.Formats.Specific.HiroDataSessionFormat import HiroDataSessionFormatRegisteredClass\n",
    "\n",
    "## For computation parameters:\n",
    "from neuropy.utils.result_context import IdentifyingContext\n",
    "from neuropy.core.session.Formats.BaseDataSessionFormats import find_local_session_paths\n",
    "\n",
    "# from PendingNotebookCode import _perform_batch_plot, _build_batch_plot_kwargs\n",
    "# from pyphoplacecellanalysis.General.Batch.NonInteractiveProcessing import batch_load_session, batch_extended_computations, SessionBatchProgress, batch_programmatic_figures, batch_extended_programmatic_figures\n",
    "# from pyphoplacecellanalysis.General.Pipeline.NeuropyPipeline import PipelineSavingScheme\n",
    "from pyphoplacecellanalysis.General.Pipeline.Stages.Loading import saveData, loadData\n",
    "import pyphoplacecellanalysis.General.Batch.runBatch\n",
    "from pyphoplacecellanalysis.General.Batch.runBatch import BatchRun, BatchResultDataframeAccessor, run_diba_batch, BatchSessionCompletionHandler\n",
    "from pyphoplacecellanalysis.General.Pipeline.NeuropyPipeline import PipelineSavingScheme\n",
    "from pyphoplacecellanalysis.General.Model.user_annotations import UserAnnotationsManager\n",
    "\n",
    "from pyphocorehelpers.Filesystem.path_helpers import set_posix_windows"
   ]
  },
  {
   "cell_type": "code",
   "execution_count": 2,
   "id": "8ef5938c",
   "metadata": {
    "tags": []
   },
   "outputs": [],
   "source": [
    "# active_global_batch_result_filename='global_batch_result_2023-07-12.pkl'\n",
    "# active_global_batch_result_filename='global_batch_result_2023-07-07.pkl'\n",
    "active_global_batch_result_filename='global_batch_result_2023-07-14.pkl'\n",
    "\n",
    "debug_print = False\n",
    "enable_neptune = False\n",
    "\n",
    "if enable_neptune:\n",
    "    import neptune # for logging progress and results\n",
    "    from neptune.types import File\n",
    "    from pyphoplacecellanalysis.General.Batch.NeptuneAiHelpers import set_environment_variables, neptune_output_figures\n",
    "    neptune_kwargs = {'project':\"commander.pho/PhoDibaLongShort2023\",\n",
    "    'api_token':\"eyJhcGlfYWRkcmVzcyI6Imh0dHBzOi8vYXBwLm5lcHR1bmUuYWkiLCJhcGlfdXJsIjoiaHR0cHM6Ly9hcHAubmVwdHVuZS5haSIsImFwaV9rZXkiOiIxOGIxODU2My1lZTNhLTQ2ZWMtOTkzNS02ZTRmNzM5YmNjNjIifQ==\"}\n",
    "    set_environment_variables(neptune_kwargs)"
   ]
  },
  {
   "cell_type": "code",
   "execution_count": null,
   "id": "fd2d3eda-cb38-464a-a90a-df4df90d5893",
   "metadata": {
    "tags": []
   },
   "outputs": [],
   "source": [
    "\"\"\" \n",
    "from pyphoplacecellanalysis.General.Batch.runBatch import main, BatchRun, run_diba_batch, run_specific_batch\n",
    "\n",
    "\"\"\"\n",
    "known_global_data_root_parent_paths = [Path(r'W:\\Data'), Path(r'/media/MAX/Data'), Path(r'/Volumes/MoverNew/data'), Path(r'/home/halechr/turbo/Data'), Path(r'/nfs/turbo/umms-kdiba/Data')]\n",
    "global_data_root_parent_path = find_first_extant_path(known_global_data_root_parent_paths)\n",
    "assert global_data_root_parent_path.exists(), f\"global_data_root_parent_path: {global_data_root_parent_path} does not exist! Is the right computer's config commented out above?\"\n",
    "\n",
    "## NEPTUNE:\n",
    "if enable_neptune:\n",
    "\tproject = neptune.init_project(**neptune_kwargs)\n",
    "\tproject[\"general/global_batch_result_filename\"] = active_global_batch_result_filename\n",
    "\tproject[\"general/global_data_root_parent_path\"] = global_data_root_parent_path.as_posix()\n",
    "\n",
    "## TODO: load the batch result initially:\n",
    "\n",
    "## Build Pickle Path:\n",
    "global_batch_result_file_path = Path(global_data_root_parent_path).joinpath(active_global_batch_result_filename).resolve() # Use Default\n",
    "\n",
    "if enable_neptune:\n",
    "\trun = neptune.init_run() # rember to run.stop()\n",
    "\trun['parameters/global_batch_result_file_path'] = global_batch_result_file_path.as_posix()\n",
    "\t# project[\"general/data_analysis\"].upload(\"data_analysis.ipynb\")\n",
    "\trun[\"dataset/latest\"].track_files(f\"file://{global_batch_result_file_path}\") # \"s3://datasets/images\"\n",
    "\n",
    "# try to load an existing batch result:\n",
    "# with set_posix_windows():\n",
    "global_batch_run = BatchRun.try_init_from_file(global_data_root_parent_path, active_global_batch_result_filename=active_global_batch_result_filename,\n",
    "\t\t\t\t\t\tskip_root_path_conversion=False, debug_print=debug_print) # on_needs_create_callback_fn=run_diba_batch\n",
    "\n",
    "batch_progress_df = global_batch_run.to_dataframe(expand_context=True, good_only=False) # all\n",
    "good_only_batch_progress_df = global_batch_run.to_dataframe(expand_context=True, good_only=True)\n",
    "batch_progress_df.batch_results.build_all_columns()\n",
    "good_only_batch_progress_df.batch_results.build_all_columns()\n",
    "if enable_neptune:\n",
    "\trun[\"dataset/global_batch_run_progress_df\"].upload(File.as_html(batch_progress_df)) # \"path/to/test_preds.csv\"\n",
    "\trun[\"dataset/global_batch_run_good_only_df\"].upload(File.as_html(good_only_batch_progress_df)) # \"path/to/test_preds.csv\"\n",
    "\n",
    "with pd.option_context('display.max_rows', None, 'display.max_columns', None):  # more options can be specified also\n",
    "    # display(batch_progress_df)\n",
    "    display(good_only_batch_progress_df)"
   ]
  },
  {
   "cell_type": "markdown",
   "id": "c12f42b4",
   "metadata": {
    "jp-MarkdownHeadingCollapsed": true,
    "tags": []
   },
   "source": [
    "# Build `global_batch_run` pre-loading results (before execution)"
   ]
  },
  {
   "cell_type": "code",
   "execution_count": 4,
   "id": "496a7c6a",
   "metadata": {
    "tags": []
   },
   "outputs": [
    {
     "name": "stdout",
     "output_type": "stream",
     "text": [
      "resusing extant_batch_run: BatchRun(global_data_root_parent_path=PosixPath('/home/halechr/turbo/Data'), session_batch_status={IdentifyingContext<('kdiba', 'gor01', 'one', '2006-6-07_11-26-53')>: <SessionBatchProgress.NOT_STARTED: 'NOT_STARTED'>, IdentifyingContext<('kdiba', 'gor01', 'one', '2006-6-08_14-26-15')>: <SessionBatchProgress.NOT_STARTED: 'NOT_STARTED'>, IdentifyingContext<('kdiba', 'gor01', 'one', '2006-6-09_1-22-43')>: <SessionBatchProgress.NOT_STARTED: 'NOT_STARTED'>, IdentifyingContext<('kdiba', 'gor01', 'one', '2006-6-09_3-23-37')>: <SessionBatchProgress.NOT_STARTED: 'NOT_STARTED'>, IdentifyingContext<('kdiba', 'gor01', 'one', '2006-6-12_15-55-31')>: <SessionBatchProgress.NOT_STARTED: 'NOT_STARTED'>, IdentifyingContext<('kdiba', 'gor01', 'one', '2006-6-13_14-42-6')>: <SessionBatchProgress.NOT_STARTED: 'NOT_STARTED'>, IdentifyingContext<('kdiba', 'gor01', 'two', '2006-6-07_16-40-19')>: <SessionBatchProgress.NOT_STARTED: 'NOT_STARTED'>, IdentifyingContext<('kdiba', 'gor01', 'two', '2006-6-08_15-46-47')>: <SessionBatchProgress.NOT_STARTED: 'NOT_STARTED'>, IdentifyingContext<('kdiba', 'gor01', 'two', '2006-6-08_21-16-25')>: <SessionBatchProgress.NOT_STARTED: 'NOT_STARTED'>, IdentifyingContext<('kdiba', 'gor01', 'two', '2006-6-09_22-24-40')>: <SessionBatchProgress.NOT_STARTED: 'NOT_STARTED'>, IdentifyingContext<('kdiba', 'gor01', 'two', '2006-6-12_16-53-46')>: <SessionBatchProgress.NOT_STARTED: 'NOT_STARTED'>, IdentifyingContext<('kdiba', 'gor01', 'two', '2006-6-13_15-22-3')>: <SessionBatchProgress.NOT_STARTED: 'NOT_STARTED'>, IdentifyingContext<('kdiba', 'vvp01', 'one', '2006-4-09_17-29-30')>: <SessionBatchProgress.NOT_STARTED: 'NOT_STARTED'>, IdentifyingContext<('kdiba', 'vvp01', 'one', '2006-4-10_12-25-50')>: <SessionBatchProgress.NOT_STARTED: 'NOT_STARTED'>, IdentifyingContext<('kdiba', 'vvp01', 'one', '2006-4-10_21-2-40')>: <SessionBatchProgress.NOT_STARTED: 'NOT_STARTED'>, IdentifyingContext<('kdiba', 'vvp01', 'one', '2006-4-11_15-16-59')>: <SessionBatchProgress.NOT_STARTED: 'NOT_STARTED'>, IdentifyingContext<('kdiba', 'vvp01', 'one', '2006-4-12_14-39-31')>: <SessionBatchProgress.NOT_STARTED: 'NOT_STARTED'>, IdentifyingContext<('kdiba', 'vvp01', 'one', '2006-4-12_17-53-55')>: <SessionBatchProgress.NOT_STARTED: 'NOT_STARTED'>, IdentifyingContext<('kdiba', 'vvp01', 'one', '2006-4-16_15-12-23')>: <SessionBatchProgress.NOT_STARTED: 'NOT_STARTED'>, IdentifyingContext<('kdiba', 'vvp01', 'one', '2006-4-17_12-33-47')>: <SessionBatchProgress.NOT_STARTED: 'NOT_STARTED'>, IdentifyingContext<('kdiba', 'vvp01', 'one', '2006-4-18_13-6-1')>: <SessionBatchProgress.NOT_STARTED: 'NOT_STARTED'>, IdentifyingContext<('kdiba', 'vvp01', 'one', '2006-4-18_15-23-32')>: <SessionBatchProgress.NOT_STARTED: 'NOT_STARTED'>, IdentifyingContext<('kdiba', 'vvp01', 'one', '2006-4-19_13-34-40')>: <SessionBatchProgress.NOT_STARTED: 'NOT_STARTED'>, IdentifyingContext<('kdiba', 'vvp01', 'one', '2006-4-19_16-48-9')>: <SessionBatchProgress.NOT_STARTED: 'NOT_STARTED'>, IdentifyingContext<('kdiba', 'vvp01', 'one', '2006-4-21_10-24-35')>: <SessionBatchProgress.NOT_STARTED: 'NOT_STARTED'>, IdentifyingContext<('kdiba', 'vvp01', 'one', '2006-4-25_14-28-51')>: <SessionBatchProgress.NOT_STARTED: 'NOT_STARTED'>, IdentifyingContext<('kdiba', 'vvp01', 'one', '2006-4-25_17-17-6')>: <SessionBatchProgress.NOT_STARTED: 'NOT_STARTED'>, IdentifyingContext<('kdiba', 'vvp01', 'one', '2006-4-26_13-22-13')>: <SessionBatchProgress.NOT_STARTED: 'NOT_STARTED'>, IdentifyingContext<('kdiba', 'vvp01', 'one', '2006-4-27_14-43-12')>: <SessionBatchProgress.NOT_STARTED: 'NOT_STARTED'>, IdentifyingContext<('kdiba', 'vvp01', 'one', '2006-4-28_12-17-27')>: <SessionBatchProgress.NOT_STARTED: 'NOT_STARTED'>, IdentifyingContext<('kdiba', 'vvp01', 'one', '2006-4-28_16-48-29')>: <SessionBatchProgress.NOT_STARTED: 'NOT_STARTED'>, IdentifyingContext<('kdiba', 'vvp01', 'two', '2006-4-09_16-40-54')>: <SessionBatchProgress.NOT_STARTED: 'NOT_STARTED'>, IdentifyingContext<('kdiba', 'vvp01', 'two', '2006-4-10_12-58-3')>: <SessionBatchProgress.NOT_STARTED: 'NOT_STARTED'>, IdentifyingContext<('kdiba', 'vvp01', 'two', '2006-4-10_19-11-57')>: <SessionBatchProgress.NOT_STARTED: 'NOT_STARTED'>, IdentifyingContext<('kdiba', 'vvp01', 'two', '2006-4-11_12-48-38')>: <SessionBatchProgress.NOT_STARTED: 'NOT_STARTED'>, IdentifyingContext<('kdiba', 'vvp01', 'two', '2006-4-11_16-2-46')>: <SessionBatchProgress.NOT_STARTED: 'NOT_STARTED'>, IdentifyingContext<('kdiba', 'vvp01', 'two', '2006-4-12_14-59-23')>: <SessionBatchProgress.NOT_STARTED: 'NOT_STARTED'>, IdentifyingContext<('kdiba', 'vvp01', 'two', '2006-4-12_15-25-59')>: <SessionBatchProgress.NOT_STARTED: 'NOT_STARTED'>, IdentifyingContext<('kdiba', 'vvp01', 'two', '2006-4-16_14-49-24')>: <SessionBatchProgress.NOT_STARTED: 'NOT_STARTED'>, IdentifyingContext<('kdiba', 'vvp01', 'two', '2006-4-16_18-47-52')>: <SessionBatchProgress.NOT_STARTED: 'NOT_STARTED'>, IdentifyingContext<('kdiba', 'vvp01', 'two', '2006-4-17_12-52-15')>: <SessionBatchProgress.NOT_STARTED: 'NOT_STARTED'>, IdentifyingContext<('kdiba', 'vvp01', 'two', '2006-4-18_13-28-57')>: <SessionBatchProgress.NOT_STARTED: 'NOT_STARTED'>, IdentifyingContext<('kdiba', 'vvp01', 'two', '2006-4-18_15-38-2')>: <SessionBatchProgress.NOT_STARTED: 'NOT_STARTED'>, IdentifyingContext<('kdiba', 'vvp01', 'two', '2006-4-19_13-50-7')>: <SessionBatchProgress.NOT_STARTED: 'NOT_STARTED'>, IdentifyingContext<('kdiba', 'vvp01', 'two', '2006-4-19_16-37-40')>: <SessionBatchProgress.NOT_STARTED: 'NOT_STARTED'>, IdentifyingContext<('kdiba', 'vvp01', 'two', '2006-4-21_11-19-2')>: <SessionBatchProgress.NOT_STARTED: 'NOT_STARTED'>, IdentifyingContext<('kdiba', 'vvp01', 'two', '2006-4-25_13-20-55')>: <SessionBatchProgress.NOT_STARTED: 'NOT_STARTED'>, IdentifyingContext<('kdiba', 'vvp01', 'two', '2006-4-25_17-33-28')>: <SessionBatchProgress.NOT_STARTED: 'NOT_STARTED'>, IdentifyingContext<('kdiba', 'vvp01', 'two', '2006-4-26_13-51-50')>: <SessionBatchProgress.NOT_STARTED: 'NOT_STARTED'>, IdentifyingContext<('kdiba', 'vvp01', 'two', '2006-4-27_18-21-57')>: <SessionBatchProgress.NOT_STARTED: 'NOT_STARTED'>, IdentifyingContext<('kdiba', 'vvp01', 'two', '2006-4-28_12-38-13')>: <SessionBatchProgress.NOT_STARTED: 'NOT_STARTED'>, IdentifyingContext<('kdiba', 'vvp01', 'two', '2006-4-28_17-6-14')>: <SessionBatchProgress.NOT_STARTED: 'NOT_STARTED'>, IdentifyingContext<('kdiba', 'pin01', 'one', '11-02_17-46-44')>: <SessionBatchProgress.NOT_STARTED: 'NOT_STARTED'>, IdentifyingContext<('kdiba', 'pin01', 'one', '11-02_19-28-0')>: <SessionBatchProgress.NOT_STARTED: 'NOT_STARTED'>, IdentifyingContext<('kdiba', 'pin01', 'one', '11-03_12-3-25')>: <SessionBatchProgress.NOT_STARTED: 'NOT_STARTED'>, IdentifyingContext<('kdiba', 'pin01', 'one', '11-03_21-26-8')>: <SessionBatchProgress.NOT_STARTED: 'NOT_STARTED'>, IdentifyingContext<('kdiba', 'pin01', 'one', '11-05_19-26-43')>: <SessionBatchProgress.NOT_STARTED: 'NOT_STARTED'>, IdentifyingContext<('kdiba', 'pin01', 'one', '11-09_11-43-50')>: <SessionBatchProgress.NOT_STARTED: 'NOT_STARTED'>, IdentifyingContext<('kdiba', 'pin01', 'one', '11-09_12-15-3')>: <SessionBatchProgress.NOT_STARTED: 'NOT_STARTED'>, IdentifyingContext<('kdiba', 'pin01', 'one', '11-09_21-17-16')>: <SessionBatchProgress.NOT_STARTED: 'NOT_STARTED'>, IdentifyingContext<('kdiba', 'pin01', 'one', '11-09_22-4-5')>: <SessionBatchProgress.NOT_STARTED: 'NOT_STARTED'>, IdentifyingContext<('kdiba', 'pin01', 'one', '11-19_12-35-59')>: <SessionBatchProgress.NOT_STARTED: 'NOT_STARTED'>, IdentifyingContext<('kdiba', 'pin01', 'one', '11-19_13-2-0')>: <SessionBatchProgress.NOT_STARTED: 'NOT_STARTED'>, IdentifyingContext<('kdiba', 'pin01', 'one', '11-19_13-55-7')>: <SessionBatchProgress.NOT_STARTED: 'NOT_STARTED'>, IdentifyingContext<('kdiba', 'pin01', 'one', 'fet11-01_12-58-54')>: <SessionBatchProgress.NOT_STARTED: 'NOT_STARTED'>, IdentifyingContext<('kdiba', 'pin01', 'one', 'fet11-03_11-0-53')>: <SessionBatchProgress.NOT_STARTED: 'NOT_STARTED'>, IdentifyingContext<('kdiba', 'pin01', 'one', 'fet11-03_20-28-3')>: <SessionBatchProgress.NOT_STARTED: 'NOT_STARTED'>, IdentifyingContext<('kdiba', 'pin01', 'one', 'fet11-04_21-20-3')>: <SessionBatchProgress.NOT_STARTED: 'NOT_STARTED'>, IdentifyingContext<('kdiba', 'pin01', 'one', 'redundant')>: <SessionBatchProgress.NOT_STARTED: 'NOT_STARTED'>, IdentifyingContext<('kdiba', 'pin01', 'one', 'showclus')>: <SessionBatchProgress.NOT_STARTED: 'NOT_STARTED'>, IdentifyingContext<('kdiba', 'pin01', 'one', 'sleep')>: <SessionBatchProgress.NOT_STARTED: 'NOT_STARTED'>, IdentifyingContext<('kdiba', 'pin01', 'one', 'tmaze')>: <SessionBatchProgress.NOT_STARTED: 'NOT_STARTED'>}, session_batch_basedirs={IdentifyingContext<('kdiba', 'gor01', 'one', '2006-6-07_11-26-53')>: PosixPath('/nfs/turbo/umms-kdiba/Data/KDIBA/gor01/one/2006-6-07_11-26-53'), IdentifyingContext<('kdiba', 'gor01', 'one', '2006-6-08_14-26-15')>: PosixPath('/nfs/turbo/umms-kdiba/Data/KDIBA/gor01/one/2006-6-08_14-26-15'), IdentifyingContext<('kdiba', 'gor01', 'one', '2006-6-09_1-22-43')>: PosixPath('/nfs/turbo/umms-kdiba/Data/KDIBA/gor01/one/2006-6-09_1-22-43'), IdentifyingContext<('kdiba', 'gor01', 'one', '2006-6-09_3-23-37')>: PosixPath('/nfs/turbo/umms-kdiba/Data/KDIBA/gor01/one/2006-6-09_3-23-37'), IdentifyingContext<('kdiba', 'gor01', 'one', '2006-6-12_15-55-31')>: PosixPath('/nfs/turbo/umms-kdiba/Data/KDIBA/gor01/one/2006-6-12_15-55-31'), IdentifyingContext<('kdiba', 'gor01', 'one', '2006-6-13_14-42-6')>: PosixPath('/nfs/turbo/umms-kdiba/Data/KDIBA/gor01/one/2006-6-13_14-42-6'), IdentifyingContext<('kdiba', 'gor01', 'two', '2006-6-07_16-40-19')>: PosixPath('/nfs/turbo/umms-kdiba/Data/KDIBA/gor01/two/2006-6-07_16-40-19'), IdentifyingContext<('kdiba', 'gor01', 'two', '2006-6-08_15-46-47')>: PosixPath('/nfs/turbo/umms-kdiba/Data/KDIBA/gor01/two/2006-6-08_15-46-47'), IdentifyingContext<('kdiba', 'gor01', 'two', '2006-6-08_21-16-25')>: PosixPath('/nfs/turbo/umms-kdiba/Data/KDIBA/gor01/two/2006-6-08_21-16-25'), IdentifyingContext<('kdiba', 'gor01', 'two', '2006-6-09_22-24-40')>: PosixPath('/nfs/turbo/umms-kdiba/Data/KDIBA/gor01/two/2006-6-09_22-24-40'), IdentifyingContext<('kdiba', 'gor01', 'two', '2006-6-12_16-53-46')>: PosixPath('/nfs/turbo/umms-kdiba/Data/KDIBA/gor01/two/2006-6-12_16-53-46'), IdentifyingContext<('kdiba', 'gor01', 'two', '2006-6-13_15-22-3')>: PosixPath('/nfs/turbo/umms-kdiba/Data/KDIBA/gor01/two/2006-6-13_15-22-3'), IdentifyingContext<('kdiba', 'vvp01', 'one', '2006-4-09_17-29-30')>: PosixPath('/nfs/turbo/umms-kdiba/Data/KDIBA/vvp01/one/2006-4-09_17-29-30'), IdentifyingContext<('kdiba', 'vvp01', 'one', '2006-4-10_12-25-50')>: PosixPath('/nfs/turbo/umms-kdiba/Data/KDIBA/vvp01/one/2006-4-10_12-25-50'), IdentifyingContext<('kdiba', 'vvp01', 'one', '2006-4-10_21-2-40')>: PosixPath('/nfs/turbo/umms-kdiba/Data/KDIBA/vvp01/one/2006-4-10_21-2-40'), IdentifyingContext<('kdiba', 'vvp01', 'one', '2006-4-11_15-16-59')>: PosixPath('/nfs/turbo/umms-kdiba/Data/KDIBA/vvp01/one/2006-4-11_15-16-59'), IdentifyingContext<('kdiba', 'vvp01', 'one', '2006-4-12_14-39-31')>: PosixPath('/nfs/turbo/umms-kdiba/Data/KDIBA/vvp01/one/2006-4-12_14-39-31'), IdentifyingContext<('kdiba', 'vvp01', 'one', '2006-4-12_17-53-55')>: PosixPath('/nfs/turbo/umms-kdiba/Data/KDIBA/vvp01/one/2006-4-12_17-53-55'), IdentifyingContext<('kdiba', 'vvp01', 'one', '2006-4-16_15-12-23')>: PosixPath('/nfs/turbo/umms-kdiba/Data/KDIBA/vvp01/one/2006-4-16_15-12-23'), IdentifyingContext<('kdiba', 'vvp01', 'one', '2006-4-17_12-33-47')>: PosixPath('/nfs/turbo/umms-kdiba/Data/KDIBA/vvp01/one/2006-4-17_12-33-47'), IdentifyingContext<('kdiba', 'vvp01', 'one', '2006-4-18_13-6-1')>: PosixPath('/nfs/turbo/umms-kdiba/Data/KDIBA/vvp01/one/2006-4-18_13-6-1'), IdentifyingContext<('kdiba', 'vvp01', 'one', '2006-4-18_15-23-32')>: PosixPath('/nfs/turbo/umms-kdiba/Data/KDIBA/vvp01/one/2006-4-18_15-23-32'), IdentifyingContext<('kdiba', 'vvp01', 'one', '2006-4-19_13-34-40')>: PosixPath('/nfs/turbo/umms-kdiba/Data/KDIBA/vvp01/one/2006-4-19_13-34-40'), IdentifyingContext<('kdiba', 'vvp01', 'one', '2006-4-19_16-48-9')>: PosixPath('/nfs/turbo/umms-kdiba/Data/KDIBA/vvp01/one/2006-4-19_16-48-9'), IdentifyingContext<('kdiba', 'vvp01', 'one', '2006-4-21_10-24-35')>: PosixPath('/nfs/turbo/umms-kdiba/Data/KDIBA/vvp01/one/2006-4-21_10-24-35'), IdentifyingContext<('kdiba', 'vvp01', 'one', '2006-4-25_14-28-51')>: PosixPath('/nfs/turbo/umms-kdiba/Data/KDIBA/vvp01/one/2006-4-25_14-28-51'), IdentifyingContext<('kdiba', 'vvp01', 'one', '2006-4-25_17-17-6')>: PosixPath('/nfs/turbo/umms-kdiba/Data/KDIBA/vvp01/one/2006-4-25_17-17-6'), IdentifyingContext<('kdiba', 'vvp01', 'one', '2006-4-26_13-22-13')>: PosixPath('/nfs/turbo/umms-kdiba/Data/KDIBA/vvp01/one/2006-4-26_13-22-13'), IdentifyingContext<('kdiba', 'vvp01', 'one', '2006-4-27_14-43-12')>: PosixPath('/nfs/turbo/umms-kdiba/Data/KDIBA/vvp01/one/2006-4-27_14-43-12'), IdentifyingContext<('kdiba', 'vvp01', 'one', '2006-4-28_12-17-27')>: PosixPath('/nfs/turbo/umms-kdiba/Data/KDIBA/vvp01/one/2006-4-28_12-17-27'), IdentifyingContext<('kdiba', 'vvp01', 'one', '2006-4-28_16-48-29')>: PosixPath('/nfs/turbo/umms-kdiba/Data/KDIBA/vvp01/one/2006-4-28_16-48-29'), IdentifyingContext<('kdiba', 'vvp01', 'two', '2006-4-09_16-40-54')>: PosixPath('/nfs/turbo/umms-kdiba/Data/KDIBA/vvp01/two/2006-4-09_16-40-54'), IdentifyingContext<('kdiba', 'vvp01', 'two', '2006-4-10_12-58-3')>: PosixPath('/nfs/turbo/umms-kdiba/Data/KDIBA/vvp01/two/2006-4-10_12-58-3'), IdentifyingContext<('kdiba', 'vvp01', 'two', '2006-4-10_19-11-57')>: PosixPath('/nfs/turbo/umms-kdiba/Data/KDIBA/vvp01/two/2006-4-10_19-11-57'), IdentifyingContext<('kdiba', 'vvp01', 'two', '2006-4-11_12-48-38')>: PosixPath('/nfs/turbo/umms-kdiba/Data/KDIBA/vvp01/two/2006-4-11_12-48-38'), IdentifyingContext<('kdiba', 'vvp01', 'two', '2006-4-11_16-2-46')>: PosixPath('/nfs/turbo/umms-kdiba/Data/KDIBA/vvp01/two/2006-4-11_16-2-46'), IdentifyingContext<('kdiba', 'vvp01', 'two', '2006-4-12_14-59-23')>: PosixPath('/nfs/turbo/umms-kdiba/Data/KDIBA/vvp01/two/2006-4-12_14-59-23'), IdentifyingContext<('kdiba', 'vvp01', 'two', '2006-4-12_15-25-59')>: PosixPath('/nfs/turbo/umms-kdiba/Data/KDIBA/vvp01/two/2006-4-12_15-25-59'), IdentifyingContext<('kdiba', 'vvp01', 'two', '2006-4-16_14-49-24')>: PosixPath('/nfs/turbo/umms-kdiba/Data/KDIBA/vvp01/two/2006-4-16_14-49-24'), IdentifyingContext<('kdiba', 'vvp01', 'two', '2006-4-16_18-47-52')>: PosixPath('/nfs/turbo/umms-kdiba/Data/KDIBA/vvp01/two/2006-4-16_18-47-52'), IdentifyingContext<('kdiba', 'vvp01', 'two', '2006-4-17_12-52-15')>: PosixPath('/nfs/turbo/umms-kdiba/Data/KDIBA/vvp01/two/2006-4-17_12-52-15'), IdentifyingContext<('kdiba', 'vvp01', 'two', '2006-4-18_13-28-57')>: PosixPath('/nfs/turbo/umms-kdiba/Data/KDIBA/vvp01/two/2006-4-18_13-28-57'), IdentifyingContext<('kdiba', 'vvp01', 'two', '2006-4-18_15-38-2')>: PosixPath('/nfs/turbo/umms-kdiba/Data/KDIBA/vvp01/two/2006-4-18_15-38-2'), IdentifyingContext<('kdiba', 'vvp01', 'two', '2006-4-19_13-50-7')>: PosixPath('/nfs/turbo/umms-kdiba/Data/KDIBA/vvp01/two/2006-4-19_13-50-7'), IdentifyingContext<('kdiba', 'vvp01', 'two', '2006-4-19_16-37-40')>: PosixPath('/nfs/turbo/umms-kdiba/Data/KDIBA/vvp01/two/2006-4-19_16-37-40'), IdentifyingContext<('kdiba', 'vvp01', 'two', '2006-4-21_11-19-2')>: PosixPath('/nfs/turbo/umms-kdiba/Data/KDIBA/vvp01/two/2006-4-21_11-19-2'), IdentifyingContext<('kdiba', 'vvp01', 'two', '2006-4-25_13-20-55')>: PosixPath('/nfs/turbo/umms-kdiba/Data/KDIBA/vvp01/two/2006-4-25_13-20-55'), IdentifyingContext<('kdiba', 'vvp01', 'two', '2006-4-25_17-33-28')>: PosixPath('/nfs/turbo/umms-kdiba/Data/KDIBA/vvp01/two/2006-4-25_17-33-28'), IdentifyingContext<('kdiba', 'vvp01', 'two', '2006-4-26_13-51-50')>: PosixPath('/nfs/turbo/umms-kdiba/Data/KDIBA/vvp01/two/2006-4-26_13-51-50'), IdentifyingContext<('kdiba', 'vvp01', 'two', '2006-4-27_18-21-57')>: PosixPath('/nfs/turbo/umms-kdiba/Data/KDIBA/vvp01/two/2006-4-27_18-21-57'), IdentifyingContext<('kdiba', 'vvp01', 'two', '2006-4-28_12-38-13')>: PosixPath('/nfs/turbo/umms-kdiba/Data/KDIBA/vvp01/two/2006-4-28_12-38-13'), IdentifyingContext<('kdiba', 'vvp01', 'two', '2006-4-28_17-6-14')>: PosixPath('/nfs/turbo/umms-kdiba/Data/KDIBA/vvp01/two/2006-4-28_17-6-14'), IdentifyingContext<('kdiba', 'pin01', 'one', '11-02_17-46-44')>: PosixPath('/nfs/turbo/umms-kdiba/Data/KDIBA/pin01/one/11-02_17-46-44'), IdentifyingContext<('kdiba', 'pin01', 'one', '11-02_19-28-0')>: PosixPath('/nfs/turbo/umms-kdiba/Data/KDIBA/pin01/one/11-02_19-28-0'), IdentifyingContext<('kdiba', 'pin01', 'one', '11-03_12-3-25')>: PosixPath('/nfs/turbo/umms-kdiba/Data/KDIBA/pin01/one/11-03_12-3-25'), IdentifyingContext<('kdiba', 'pin01', 'one', '11-03_21-26-8')>: PosixPath('/nfs/turbo/umms-kdiba/Data/KDIBA/pin01/one/11-03_21-26-8'), IdentifyingContext<('kdiba', 'pin01', 'one', '11-05_19-26-43')>: PosixPath('/nfs/turbo/umms-kdiba/Data/KDIBA/pin01/one/11-05_19-26-43'), IdentifyingContext<('kdiba', 'pin01', 'one', '11-09_11-43-50')>: PosixPath('/nfs/turbo/umms-kdiba/Data/KDIBA/pin01/one/11-09_11-43-50'), IdentifyingContext<('kdiba', 'pin01', 'one', '11-09_12-15-3')>: PosixPath('/nfs/turbo/umms-kdiba/Data/KDIBA/pin01/one/11-09_12-15-3'), IdentifyingContext<('kdiba', 'pin01', 'one', '11-09_21-17-16')>: PosixPath('/nfs/turbo/umms-kdiba/Data/KDIBA/pin01/one/11-09_21-17-16'), IdentifyingContext<('kdiba', 'pin01', 'one', '11-09_22-4-5')>: PosixPath('/nfs/turbo/umms-kdiba/Data/KDIBA/pin01/one/11-09_22-4-5'), IdentifyingContext<('kdiba', 'pin01', 'one', '11-19_12-35-59')>: PosixPath('/nfs/turbo/umms-kdiba/Data/KDIBA/pin01/one/11-19_12-35-59'), IdentifyingContext<('kdiba', 'pin01', 'one', '11-19_13-2-0')>: PosixPath('/nfs/turbo/umms-kdiba/Data/KDIBA/pin01/one/11-19_13-2-0'), IdentifyingContext<('kdiba', 'pin01', 'one', '11-19_13-55-7')>: PosixPath('/nfs/turbo/umms-kdiba/Data/KDIBA/pin01/one/11-19_13-55-7'), IdentifyingContext<('kdiba', 'pin01', 'one', 'fet11-01_12-58-54')>: PosixPath('/nfs/turbo/umms-kdiba/Data/KDIBA/pin01/one/fet11-01_12-58-54'), IdentifyingContext<('kdiba', 'pin01', 'one', 'fet11-03_11-0-53')>: PosixPath('/nfs/turbo/umms-kdiba/Data/KDIBA/pin01/one/fet11-03_11-0-53'), IdentifyingContext<('kdiba', 'pin01', 'one', 'fet11-03_20-28-3')>: PosixPath('/nfs/turbo/umms-kdiba/Data/KDIBA/pin01/one/fet11-03_20-28-3'), IdentifyingContext<('kdiba', 'pin01', 'one', 'fet11-04_21-20-3')>: PosixPath('/nfs/turbo/umms-kdiba/Data/KDIBA/pin01/one/fet11-04_21-20-3'), IdentifyingContext<('kdiba', 'pin01', 'one', 'redundant')>: PosixPath('/nfs/turbo/umms-kdiba/Data/KDIBA/pin01/one/redundant'), IdentifyingContext<('kdiba', 'pin01', 'one', 'showclus')>: PosixPath('/nfs/turbo/umms-kdiba/Data/KDIBA/pin01/one/showclus'), IdentifyingContext<('kdiba', 'pin01', 'one', 'sleep')>: PosixPath('/nfs/turbo/umms-kdiba/Data/KDIBA/pin01/one/sleep'), IdentifyingContext<('kdiba', 'pin01', 'one', 'tmaze')>: PosixPath('/nfs/turbo/umms-kdiba/Data/KDIBA/pin01/one/tmaze')}, session_batch_errors={IdentifyingContext<('kdiba', 'gor01', 'one', '2006-6-07_11-26-53')>: None, IdentifyingContext<('kdiba', 'gor01', 'one', '2006-6-08_14-26-15')>: None, IdentifyingContext<('kdiba', 'gor01', 'one', '2006-6-09_1-22-43')>: None, IdentifyingContext<('kdiba', 'gor01', 'one', '2006-6-09_3-23-37')>: None, IdentifyingContext<('kdiba', 'gor01', 'one', '2006-6-12_15-55-31')>: None, IdentifyingContext<('kdiba', 'gor01', 'one', '2006-6-13_14-42-6')>: None, IdentifyingContext<('kdiba', 'gor01', 'two', '2006-6-07_16-40-19')>: None, IdentifyingContext<('kdiba', 'gor01', 'two', '2006-6-08_15-46-47')>: None, IdentifyingContext<('kdiba', 'gor01', 'two', '2006-6-08_21-16-25')>: None, IdentifyingContext<('kdiba', 'gor01', 'two', '2006-6-09_22-24-40')>: None, IdentifyingContext<('kdiba', 'gor01', 'two', '2006-6-12_16-53-46')>: None, IdentifyingContext<('kdiba', 'gor01', 'two', '2006-6-13_15-22-3')>: None, IdentifyingContext<('kdiba', 'vvp01', 'one', '2006-4-09_17-29-30')>: None, IdentifyingContext<('kdiba', 'vvp01', 'one', '2006-4-10_12-25-50')>: None, IdentifyingContext<('kdiba', 'vvp01', 'one', '2006-4-10_21-2-40')>: None, IdentifyingContext<('kdiba', 'vvp01', 'one', '2006-4-11_15-16-59')>: None, IdentifyingContext<('kdiba', 'vvp01', 'one', '2006-4-12_14-39-31')>: None, IdentifyingContext<('kdiba', 'vvp01', 'one', '2006-4-12_17-53-55')>: None, IdentifyingContext<('kdiba', 'vvp01', 'one', '2006-4-16_15-12-23')>: None, IdentifyingContext<('kdiba', 'vvp01', 'one', '2006-4-17_12-33-47')>: None, IdentifyingContext<('kdiba', 'vvp01', 'one', '2006-4-18_13-6-1')>: None, IdentifyingContext<('kdiba', 'vvp01', 'one', '2006-4-18_15-23-32')>: None, IdentifyingContext<('kdiba', 'vvp01', 'one', '2006-4-19_13-34-40')>: None, IdentifyingContext<('kdiba', 'vvp01', 'one', '2006-4-19_16-48-9')>: None, IdentifyingContext<('kdiba', 'vvp01', 'one', '2006-4-21_10-24-35')>: None, IdentifyingContext<('kdiba', 'vvp01', 'one', '2006-4-25_14-28-51')>: None, IdentifyingContext<('kdiba', 'vvp01', 'one', '2006-4-25_17-17-6')>: None, IdentifyingContext<('kdiba', 'vvp01', 'one', '2006-4-26_13-22-13')>: None, IdentifyingContext<('kdiba', 'vvp01', 'one', '2006-4-27_14-43-12')>: None, IdentifyingContext<('kdiba', 'vvp01', 'one', '2006-4-28_12-17-27')>: None, IdentifyingContext<('kdiba', 'vvp01', 'one', '2006-4-28_16-48-29')>: None, IdentifyingContext<('kdiba', 'vvp01', 'two', '2006-4-09_16-40-54')>: None, IdentifyingContext<('kdiba', 'vvp01', 'two', '2006-4-10_12-58-3')>: None, IdentifyingContext<('kdiba', 'vvp01', 'two', '2006-4-10_19-11-57')>: None, IdentifyingContext<('kdiba', 'vvp01', 'two', '2006-4-11_12-48-38')>: None, IdentifyingContext<('kdiba', 'vvp01', 'two', '2006-4-11_16-2-46')>: None, IdentifyingContext<('kdiba', 'vvp01', 'two', '2006-4-12_14-59-23')>: None, IdentifyingContext<('kdiba', 'vvp01', 'two', '2006-4-12_15-25-59')>: None, IdentifyingContext<('kdiba', 'vvp01', 'two', '2006-4-16_14-49-24')>: None, IdentifyingContext<('kdiba', 'vvp01', 'two', '2006-4-16_18-47-52')>: None, IdentifyingContext<('kdiba', 'vvp01', 'two', '2006-4-17_12-52-15')>: None, IdentifyingContext<('kdiba', 'vvp01', 'two', '2006-4-18_13-28-57')>: None, IdentifyingContext<('kdiba', 'vvp01', 'two', '2006-4-18_15-38-2')>: None, IdentifyingContext<('kdiba', 'vvp01', 'two', '2006-4-19_13-50-7')>: None, IdentifyingContext<('kdiba', 'vvp01', 'two', '2006-4-19_16-37-40')>: None, IdentifyingContext<('kdiba', 'vvp01', 'two', '2006-4-21_11-19-2')>: None, IdentifyingContext<('kdiba', 'vvp01', 'two', '2006-4-25_13-20-55')>: None, IdentifyingContext<('kdiba', 'vvp01', 'two', '2006-4-25_17-33-28')>: None, IdentifyingContext<('kdiba', 'vvp01', 'two', '2006-4-26_13-51-50')>: None, IdentifyingContext<('kdiba', 'vvp01', 'two', '2006-4-27_18-21-57')>: None, IdentifyingContext<('kdiba', 'vvp01', 'two', '2006-4-28_12-38-13')>: None, IdentifyingContext<('kdiba', 'vvp01', 'two', '2006-4-28_17-6-14')>: None, IdentifyingContext<('kdiba', 'pin01', 'one', '11-02_17-46-44')>: None, IdentifyingContext<('kdiba', 'pin01', 'one', '11-02_19-28-0')>: None, IdentifyingContext<('kdiba', 'pin01', 'one', '11-03_12-3-25')>: None, IdentifyingContext<('kdiba', 'pin01', 'one', '11-03_21-26-8')>: None, IdentifyingContext<('kdiba', 'pin01', 'one', '11-05_19-26-43')>: None, IdentifyingContext<('kdiba', 'pin01', 'one', '11-09_11-43-50')>: None, IdentifyingContext<('kdiba', 'pin01', 'one', '11-09_12-15-3')>: None, IdentifyingContext<('kdiba', 'pin01', 'one', '11-09_21-17-16')>: None, IdentifyingContext<('kdiba', 'pin01', 'one', '11-09_22-4-5')>: None, IdentifyingContext<('kdiba', 'pin01', 'one', '11-19_12-35-59')>: None, IdentifyingContext<('kdiba', 'pin01', 'one', '11-19_13-2-0')>: None, IdentifyingContext<('kdiba', 'pin01', 'one', '11-19_13-55-7')>: None, IdentifyingContext<('kdiba', 'pin01', 'one', 'fet11-01_12-58-54')>: None, IdentifyingContext<('kdiba', 'pin01', 'one', 'fet11-03_11-0-53')>: None, IdentifyingContext<('kdiba', 'pin01', 'one', 'fet11-03_20-28-3')>: None, IdentifyingContext<('kdiba', 'pin01', 'one', 'fet11-04_21-20-3')>: None, IdentifyingContext<('kdiba', 'pin01', 'one', 'redundant')>: None, IdentifyingContext<('kdiba', 'pin01', 'one', 'showclus')>: None, IdentifyingContext<('kdiba', 'pin01', 'one', 'sleep')>: None, IdentifyingContext<('kdiba', 'pin01', 'one', 'tmaze')>: None}, session_batch_outputs={IdentifyingContext<('kdiba', 'gor01', 'one', '2006-6-07_11-26-53')>: None, IdentifyingContext<('kdiba', 'gor01', 'one', '2006-6-08_14-26-15')>: None, IdentifyingContext<('kdiba', 'gor01', 'one', '2006-6-09_1-22-43')>: None, IdentifyingContext<('kdiba', 'gor01', 'one', '2006-6-09_3-23-37')>: None, IdentifyingContext<('kdiba', 'gor01', 'one', '2006-6-12_15-55-31')>: None, IdentifyingContext<('kdiba', 'gor01', 'one', '2006-6-13_14-42-6')>: None, IdentifyingContext<('kdiba', 'gor01', 'two', '2006-6-07_16-40-19')>: None, IdentifyingContext<('kdiba', 'gor01', 'two', '2006-6-08_15-46-47')>: None, IdentifyingContext<('kdiba', 'gor01', 'two', '2006-6-08_21-16-25')>: None, IdentifyingContext<('kdiba', 'gor01', 'two', '2006-6-09_22-24-40')>: None, IdentifyingContext<('kdiba', 'gor01', 'two', '2006-6-12_16-53-46')>: None, IdentifyingContext<('kdiba', 'gor01', 'two', '2006-6-13_15-22-3')>: None, IdentifyingContext<('kdiba', 'vvp01', 'one', '2006-4-09_17-29-30')>: None, IdentifyingContext<('kdiba', 'vvp01', 'one', '2006-4-10_12-25-50')>: None, IdentifyingContext<('kdiba', 'vvp01', 'one', '2006-4-10_21-2-40')>: None, IdentifyingContext<('kdiba', 'vvp01', 'one', '2006-4-11_15-16-59')>: None, IdentifyingContext<('kdiba', 'vvp01', 'one', '2006-4-12_14-39-31')>: None, IdentifyingContext<('kdiba', 'vvp01', 'one', '2006-4-12_17-53-55')>: None, IdentifyingContext<('kdiba', 'vvp01', 'one', '2006-4-16_15-12-23')>: None, IdentifyingContext<('kdiba', 'vvp01', 'one', '2006-4-17_12-33-47')>: None, IdentifyingContext<('kdiba', 'vvp01', 'one', '2006-4-18_13-6-1')>: None, IdentifyingContext<('kdiba', 'vvp01', 'one', '2006-4-18_15-23-32')>: None, IdentifyingContext<('kdiba', 'vvp01', 'one', '2006-4-19_13-34-40')>: None, IdentifyingContext<('kdiba', 'vvp01', 'one', '2006-4-19_16-48-9')>: None, IdentifyingContext<('kdiba', 'vvp01', 'one', '2006-4-21_10-24-35')>: None, IdentifyingContext<('kdiba', 'vvp01', 'one', '2006-4-25_14-28-51')>: None, IdentifyingContext<('kdiba', 'vvp01', 'one', '2006-4-25_17-17-6')>: None, IdentifyingContext<('kdiba', 'vvp01', 'one', '2006-4-26_13-22-13')>: None, IdentifyingContext<('kdiba', 'vvp01', 'one', '2006-4-27_14-43-12')>: None, IdentifyingContext<('kdiba', 'vvp01', 'one', '2006-4-28_12-17-27')>: None, IdentifyingContext<('kdiba', 'vvp01', 'one', '2006-4-28_16-48-29')>: None, IdentifyingContext<('kdiba', 'vvp01', 'two', '2006-4-09_16-40-54')>: None, IdentifyingContext<('kdiba', 'vvp01', 'two', '2006-4-10_12-58-3')>: None, IdentifyingContext<('kdiba', 'vvp01', 'two', '2006-4-10_19-11-57')>: None, IdentifyingContext<('kdiba', 'vvp01', 'two', '2006-4-11_12-48-38')>: None, IdentifyingContext<('kdiba', 'vvp01', 'two', '2006-4-11_16-2-46')>: None, IdentifyingContext<('kdiba', 'vvp01', 'two', '2006-4-12_14-59-23')>: None, IdentifyingContext<('kdiba', 'vvp01', 'two', '2006-4-12_15-25-59')>: None, IdentifyingContext<('kdiba', 'vvp01', 'two', '2006-4-16_14-49-24')>: None, IdentifyingContext<('kdiba', 'vvp01', 'two', '2006-4-16_18-47-52')>: None, IdentifyingContext<('kdiba', 'vvp01', 'two', '2006-4-17_12-52-15')>: None, IdentifyingContext<('kdiba', 'vvp01', 'two', '2006-4-18_13-28-57')>: None, IdentifyingContext<('kdiba', 'vvp01', 'two', '2006-4-18_15-38-2')>: None, IdentifyingContext<('kdiba', 'vvp01', 'two', '2006-4-19_13-50-7')>: None, IdentifyingContext<('kdiba', 'vvp01', 'two', '2006-4-19_16-37-40')>: None, IdentifyingContext<('kdiba', 'vvp01', 'two', '2006-4-21_11-19-2')>: None, IdentifyingContext<('kdiba', 'vvp01', 'two', '2006-4-25_13-20-55')>: None, IdentifyingContext<('kdiba', 'vvp01', 'two', '2006-4-25_17-33-28')>: None, IdentifyingContext<('kdiba', 'vvp01', 'two', '2006-4-26_13-51-50')>: None, IdentifyingContext<('kdiba', 'vvp01', 'two', '2006-4-27_18-21-57')>: None, IdentifyingContext<('kdiba', 'vvp01', 'two', '2006-4-28_12-38-13')>: None, IdentifyingContext<('kdiba', 'vvp01', 'two', '2006-4-28_17-6-14')>: None, IdentifyingContext<('kdiba', 'pin01', 'one', '11-02_17-46-44')>: None, IdentifyingContext<('kdiba', 'pin01', 'one', '11-02_19-28-0')>: None, IdentifyingContext<('kdiba', 'pin01', 'one', '11-03_12-3-25')>: None, IdentifyingContext<('kdiba', 'pin01', 'one', '11-03_21-26-8')>: None, IdentifyingContext<('kdiba', 'pin01', 'one', '11-05_19-26-43')>: None, IdentifyingContext<('kdiba', 'pin01', 'one', '11-09_11-43-50')>: None, IdentifyingContext<('kdiba', 'pin01', 'one', '11-09_12-15-3')>: None, IdentifyingContext<('kdiba', 'pin01', 'one', '11-09_21-17-16')>: None, IdentifyingContext<('kdiba', 'pin01', 'one', '11-09_22-4-5')>: None, IdentifyingContext<('kdiba', 'pin01', 'one', '11-19_12-35-59')>: None, IdentifyingContext<('kdiba', 'pin01', 'one', '11-19_13-2-0')>: None, IdentifyingContext<('kdiba', 'pin01', 'one', '11-19_13-55-7')>: None, IdentifyingContext<('kdiba', 'pin01', 'one', 'fet11-01_12-58-54')>: None, IdentifyingContext<('kdiba', 'pin01', 'one', 'fet11-03_11-0-53')>: None, IdentifyingContext<('kdiba', 'pin01', 'one', 'fet11-03_20-28-3')>: None, IdentifyingContext<('kdiba', 'pin01', 'one', 'fet11-04_21-20-3')>: None, IdentifyingContext<('kdiba', 'pin01', 'one', 'redundant')>: None, IdentifyingContext<('kdiba', 'pin01', 'one', 'showclus')>: None, IdentifyingContext<('kdiba', 'pin01', 'one', 'sleep')>: None, IdentifyingContext<('kdiba', 'pin01', 'one', 'tmaze')>: None}, enable_saving_to_disk=False)\n",
      "local_session_names_list: ['2006-6-07_11-26-53', '2006-6-08_14-26-15', '2006-6-09_1-22-43', '2006-6-09_3-23-37', '2006-6-12_15-55-31', '2006-6-13_14-42-6']\n",
      "EXTANT SESSION! curr_session_context: kdiba_gor01_one_2006-6-07_11-26-53 curr_session_status: SessionBatchProgress.NOT_STARTED, curr_session_errors: None\n",
      "EXTANT SESSION! curr_session_context: kdiba_gor01_one_2006-6-08_14-26-15 curr_session_status: SessionBatchProgress.NOT_STARTED, curr_session_errors: None\n",
      "EXTANT SESSION! curr_session_context: kdiba_gor01_one_2006-6-09_1-22-43 curr_session_status: SessionBatchProgress.NOT_STARTED, curr_session_errors: None\n",
      "EXTANT SESSION! curr_session_context: kdiba_gor01_one_2006-6-09_3-23-37 curr_session_status: SessionBatchProgress.NOT_STARTED, curr_session_errors: None\n",
      "EXTANT SESSION! curr_session_context: kdiba_gor01_one_2006-6-12_15-55-31 curr_session_status: SessionBatchProgress.NOT_STARTED, curr_session_errors: None\n",
      "EXTANT SESSION! curr_session_context: kdiba_gor01_one_2006-6-13_14-42-6 curr_session_status: SessionBatchProgress.NOT_STARTED, curr_session_errors: None\n",
      "local_session_names_list: ['2006-6-07_16-40-19', '2006-6-08_15-46-47', '2006-6-08_21-16-25', '2006-6-09_22-24-40', '2006-6-12_16-53-46', '2006-6-13_15-22-3']\n",
      "EXTANT SESSION! curr_session_context: kdiba_gor01_two_2006-6-07_16-40-19 curr_session_status: SessionBatchProgress.NOT_STARTED, curr_session_errors: None\n",
      "EXTANT SESSION! curr_session_context: kdiba_gor01_two_2006-6-08_15-46-47 curr_session_status: SessionBatchProgress.NOT_STARTED, curr_session_errors: None\n",
      "EXTANT SESSION! curr_session_context: kdiba_gor01_two_2006-6-08_21-16-25 curr_session_status: SessionBatchProgress.NOT_STARTED, curr_session_errors: None\n",
      "EXTANT SESSION! curr_session_context: kdiba_gor01_two_2006-6-09_22-24-40 curr_session_status: SessionBatchProgress.NOT_STARTED, curr_session_errors: None\n",
      "EXTANT SESSION! curr_session_context: kdiba_gor01_two_2006-6-12_16-53-46 curr_session_status: SessionBatchProgress.NOT_STARTED, curr_session_errors: None\n",
      "EXTANT SESSION! curr_session_context: kdiba_gor01_two_2006-6-13_15-22-3 curr_session_status: SessionBatchProgress.NOT_STARTED, curr_session_errors: None\n",
      "local_session_names_list: ['2006-4-09_17-29-30', '2006-4-10_12-25-50', '2006-4-10_21-2-40', '2006-4-11_15-16-59', '2006-4-12_14-39-31', '2006-4-12_17-53-55', '2006-4-16_15-12-23', '2006-4-17_12-33-47', '2006-4-18_13-6-1', '2006-4-18_15-23-32', '2006-4-19_13-34-40', '2006-4-19_16-48-9', '2006-4-21_10-24-35', '2006-4-25_14-28-51', '2006-4-25_17-17-6', '2006-4-26_13-22-13', '2006-4-27_14-43-12', '2006-4-28_12-17-27', '2006-4-28_16-48-29']\n",
      "EXTANT SESSION! curr_session_context: kdiba_vvp01_one_2006-4-09_17-29-30 curr_session_status: SessionBatchProgress.NOT_STARTED, curr_session_errors: None\n",
      "EXTANT SESSION! curr_session_context: kdiba_vvp01_one_2006-4-10_12-25-50 curr_session_status: SessionBatchProgress.NOT_STARTED, curr_session_errors: None\n",
      "EXTANT SESSION! curr_session_context: kdiba_vvp01_one_2006-4-10_21-2-40 curr_session_status: SessionBatchProgress.NOT_STARTED, curr_session_errors: None\n",
      "EXTANT SESSION! curr_session_context: kdiba_vvp01_one_2006-4-11_15-16-59 curr_session_status: SessionBatchProgress.NOT_STARTED, curr_session_errors: None\n",
      "EXTANT SESSION! curr_session_context: kdiba_vvp01_one_2006-4-12_14-39-31 curr_session_status: SessionBatchProgress.NOT_STARTED, curr_session_errors: None\n",
      "EXTANT SESSION! curr_session_context: kdiba_vvp01_one_2006-4-12_17-53-55 curr_session_status: SessionBatchProgress.NOT_STARTED, curr_session_errors: None\n",
      "EXTANT SESSION! curr_session_context: kdiba_vvp01_one_2006-4-16_15-12-23 curr_session_status: SessionBatchProgress.NOT_STARTED, curr_session_errors: None\n",
      "EXTANT SESSION! curr_session_context: kdiba_vvp01_one_2006-4-17_12-33-47 curr_session_status: SessionBatchProgress.NOT_STARTED, curr_session_errors: None\n",
      "EXTANT SESSION! curr_session_context: kdiba_vvp01_one_2006-4-18_13-6-1 curr_session_status: SessionBatchProgress.NOT_STARTED, curr_session_errors: None\n",
      "EXTANT SESSION! curr_session_context: kdiba_vvp01_one_2006-4-18_15-23-32 curr_session_status: SessionBatchProgress.NOT_STARTED, curr_session_errors: None\n",
      "EXTANT SESSION! curr_session_context: kdiba_vvp01_one_2006-4-19_13-34-40 curr_session_status: SessionBatchProgress.NOT_STARTED, curr_session_errors: None\n",
      "EXTANT SESSION! curr_session_context: kdiba_vvp01_one_2006-4-19_16-48-9 curr_session_status: SessionBatchProgress.NOT_STARTED, curr_session_errors: None\n",
      "EXTANT SESSION! curr_session_context: kdiba_vvp01_one_2006-4-21_10-24-35 curr_session_status: SessionBatchProgress.NOT_STARTED, curr_session_errors: None\n",
      "EXTANT SESSION! curr_session_context: kdiba_vvp01_one_2006-4-25_14-28-51 curr_session_status: SessionBatchProgress.NOT_STARTED, curr_session_errors: None\n",
      "EXTANT SESSION! curr_session_context: kdiba_vvp01_one_2006-4-25_17-17-6 curr_session_status: SessionBatchProgress.NOT_STARTED, curr_session_errors: None\n",
      "EXTANT SESSION! curr_session_context: kdiba_vvp01_one_2006-4-26_13-22-13 curr_session_status: SessionBatchProgress.NOT_STARTED, curr_session_errors: None\n",
      "EXTANT SESSION! curr_session_context: kdiba_vvp01_one_2006-4-27_14-43-12 curr_session_status: SessionBatchProgress.NOT_STARTED, curr_session_errors: None\n",
      "EXTANT SESSION! curr_session_context: kdiba_vvp01_one_2006-4-28_12-17-27 curr_session_status: SessionBatchProgress.NOT_STARTED, curr_session_errors: None\n",
      "EXTANT SESSION! curr_session_context: kdiba_vvp01_one_2006-4-28_16-48-29 curr_session_status: SessionBatchProgress.NOT_STARTED, curr_session_errors: None\n",
      "local_session_names_list: ['2006-4-09_16-40-54', '2006-4-10_12-58-3', '2006-4-10_19-11-57', '2006-4-11_12-48-38', '2006-4-11_16-2-46', '2006-4-12_14-59-23', '2006-4-12_15-25-59', '2006-4-16_14-49-24', '2006-4-16_18-47-52', '2006-4-17_12-52-15', '2006-4-18_13-28-57', '2006-4-18_15-38-2', '2006-4-19_13-50-7', '2006-4-19_16-37-40', '2006-4-21_11-19-2', '2006-4-25_13-20-55', '2006-4-25_17-33-28', '2006-4-26_13-51-50', '2006-4-27_18-21-57', '2006-4-28_12-38-13', '2006-4-28_17-6-14']\n",
      "EXTANT SESSION! curr_session_context: kdiba_vvp01_two_2006-4-09_16-40-54 curr_session_status: SessionBatchProgress.NOT_STARTED, curr_session_errors: None\n",
      "EXTANT SESSION! curr_session_context: kdiba_vvp01_two_2006-4-10_12-58-3 curr_session_status: SessionBatchProgress.NOT_STARTED, curr_session_errors: None\n",
      "EXTANT SESSION! curr_session_context: kdiba_vvp01_two_2006-4-10_19-11-57 curr_session_status: SessionBatchProgress.NOT_STARTED, curr_session_errors: None\n",
      "EXTANT SESSION! curr_session_context: kdiba_vvp01_two_2006-4-11_12-48-38 curr_session_status: SessionBatchProgress.NOT_STARTED, curr_session_errors: None\n",
      "EXTANT SESSION! curr_session_context: kdiba_vvp01_two_2006-4-11_16-2-46 curr_session_status: SessionBatchProgress.NOT_STARTED, curr_session_errors: None\n",
      "EXTANT SESSION! curr_session_context: kdiba_vvp01_two_2006-4-12_14-59-23 curr_session_status: SessionBatchProgress.NOT_STARTED, curr_session_errors: None\n",
      "EXTANT SESSION! curr_session_context: kdiba_vvp01_two_2006-4-12_15-25-59 curr_session_status: SessionBatchProgress.NOT_STARTED, curr_session_errors: None\n",
      "EXTANT SESSION! curr_session_context: kdiba_vvp01_two_2006-4-16_14-49-24 curr_session_status: SessionBatchProgress.NOT_STARTED, curr_session_errors: None\n",
      "EXTANT SESSION! curr_session_context: kdiba_vvp01_two_2006-4-16_18-47-52 curr_session_status: SessionBatchProgress.NOT_STARTED, curr_session_errors: None\n",
      "EXTANT SESSION! curr_session_context: kdiba_vvp01_two_2006-4-17_12-52-15 curr_session_status: SessionBatchProgress.NOT_STARTED, curr_session_errors: None\n",
      "EXTANT SESSION! curr_session_context: kdiba_vvp01_two_2006-4-18_13-28-57 curr_session_status: SessionBatchProgress.NOT_STARTED, curr_session_errors: None\n",
      "EXTANT SESSION! curr_session_context: kdiba_vvp01_two_2006-4-18_15-38-2 curr_session_status: SessionBatchProgress.NOT_STARTED, curr_session_errors: None\n",
      "EXTANT SESSION! curr_session_context: kdiba_vvp01_two_2006-4-19_13-50-7 curr_session_status: SessionBatchProgress.NOT_STARTED, curr_session_errors: None\n",
      "EXTANT SESSION! curr_session_context: kdiba_vvp01_two_2006-4-19_16-37-40 curr_session_status: SessionBatchProgress.NOT_STARTED, curr_session_errors: None\n",
      "EXTANT SESSION! curr_session_context: kdiba_vvp01_two_2006-4-21_11-19-2 curr_session_status: SessionBatchProgress.NOT_STARTED, curr_session_errors: None\n",
      "EXTANT SESSION! curr_session_context: kdiba_vvp01_two_2006-4-25_13-20-55 curr_session_status: SessionBatchProgress.NOT_STARTED, curr_session_errors: None\n",
      "EXTANT SESSION! curr_session_context: kdiba_vvp01_two_2006-4-25_17-33-28 curr_session_status: SessionBatchProgress.NOT_STARTED, curr_session_errors: None\n",
      "EXTANT SESSION! curr_session_context: kdiba_vvp01_two_2006-4-26_13-51-50 curr_session_status: SessionBatchProgress.NOT_STARTED, curr_session_errors: None\n",
      "EXTANT SESSION! curr_session_context: kdiba_vvp01_two_2006-4-27_18-21-57 curr_session_status: SessionBatchProgress.NOT_STARTED, curr_session_errors: None\n",
      "EXTANT SESSION! curr_session_context: kdiba_vvp01_two_2006-4-28_12-38-13 curr_session_status: SessionBatchProgress.NOT_STARTED, curr_session_errors: None\n",
      "EXTANT SESSION! curr_session_context: kdiba_vvp01_two_2006-4-28_17-6-14 curr_session_status: SessionBatchProgress.NOT_STARTED, curr_session_errors: None\n",
      "local_session_names_list: ['11-02_17-46-44', '11-02_19-28-0', '11-03_12-3-25', '11-03_21-26-8', '11-05_19-26-43', '11-09_11-43-50', '11-09_12-15-3', '11-09_21-17-16', '11-09_22-4-5', '11-19_12-35-59', '11-19_13-2-0', '11-19_13-55-7', 'fet11-01_12-58-54', 'fet11-03_11-0-53', 'fet11-03_20-28-3', 'fet11-04_21-20-3', 'redundant', 'showclus', 'sleep', 'tmaze']\n",
      "EXTANT SESSION! curr_session_context: kdiba_pin01_one_11-02_17-46-44 curr_session_status: SessionBatchProgress.NOT_STARTED, curr_session_errors: None\n",
      "EXTANT SESSION! curr_session_context: kdiba_pin01_one_11-02_19-28-0 curr_session_status: SessionBatchProgress.NOT_STARTED, curr_session_errors: None\n",
      "EXTANT SESSION! curr_session_context: kdiba_pin01_one_11-03_12-3-25 curr_session_status: SessionBatchProgress.NOT_STARTED, curr_session_errors: None\n",
      "EXTANT SESSION! curr_session_context: kdiba_pin01_one_11-03_21-26-8 curr_session_status: SessionBatchProgress.NOT_STARTED, curr_session_errors: None\n",
      "EXTANT SESSION! curr_session_context: kdiba_pin01_one_11-05_19-26-43 curr_session_status: SessionBatchProgress.NOT_STARTED, curr_session_errors: None\n",
      "EXTANT SESSION! curr_session_context: kdiba_pin01_one_11-09_11-43-50 curr_session_status: SessionBatchProgress.NOT_STARTED, curr_session_errors: None\n",
      "EXTANT SESSION! curr_session_context: kdiba_pin01_one_11-09_12-15-3 curr_session_status: SessionBatchProgress.NOT_STARTED, curr_session_errors: None\n",
      "EXTANT SESSION! curr_session_context: kdiba_pin01_one_11-09_21-17-16 curr_session_status: SessionBatchProgress.NOT_STARTED, curr_session_errors: None\n",
      "EXTANT SESSION! curr_session_context: kdiba_pin01_one_11-09_22-4-5 curr_session_status: SessionBatchProgress.NOT_STARTED, curr_session_errors: None\n",
      "EXTANT SESSION! curr_session_context: kdiba_pin01_one_11-19_12-35-59 curr_session_status: SessionBatchProgress.NOT_STARTED, curr_session_errors: None\n",
      "EXTANT SESSION! curr_session_context: kdiba_pin01_one_11-19_13-2-0 curr_session_status: SessionBatchProgress.NOT_STARTED, curr_session_errors: None\n",
      "EXTANT SESSION! curr_session_context: kdiba_pin01_one_11-19_13-55-7 curr_session_status: SessionBatchProgress.NOT_STARTED, curr_session_errors: None\n",
      "EXTANT SESSION! curr_session_context: kdiba_pin01_one_fet11-01_12-58-54 curr_session_status: SessionBatchProgress.NOT_STARTED, curr_session_errors: None\n",
      "EXTANT SESSION! curr_session_context: kdiba_pin01_one_fet11-03_11-0-53 curr_session_status: SessionBatchProgress.NOT_STARTED, curr_session_errors: None\n",
      "EXTANT SESSION! curr_session_context: kdiba_pin01_one_fet11-03_20-28-3 curr_session_status: SessionBatchProgress.NOT_STARTED, curr_session_errors: None\n",
      "EXTANT SESSION! curr_session_context: kdiba_pin01_one_fet11-04_21-20-3 curr_session_status: SessionBatchProgress.NOT_STARTED, curr_session_errors: None\n",
      "EXTANT SESSION! curr_session_context: kdiba_pin01_one_redundant curr_session_status: SessionBatchProgress.NOT_STARTED, curr_session_errors: None\n",
      "EXTANT SESSION! curr_session_context: kdiba_pin01_one_showclus curr_session_status: SessionBatchProgress.NOT_STARTED, curr_session_errors: None\n",
      "EXTANT SESSION! curr_session_context: kdiba_pin01_one_sleep curr_session_status: SessionBatchProgress.NOT_STARTED, curr_session_errors: None\n",
      "EXTANT SESSION! curr_session_context: kdiba_pin01_one_tmaze curr_session_status: SessionBatchProgress.NOT_STARTED, curr_session_errors: None\n"
     ]
    },
    {
     "data": {
      "text/plain": [
       "BatchRun(global_data_root_parent_path=PosixPath('/home/halechr/turbo/Data'), session_batch_status={IdentifyingContext<('kdiba', 'gor01', 'one', '2006-6-07_11-26-53')>: <SessionBatchProgress.NOT_STARTED: 'NOT_STARTED'>, IdentifyingContext<('kdiba', 'gor01', 'one', '2006-6-08_14-26-15')>: <SessionBatchProgress.NOT_STARTED: 'NOT_STARTED'>, IdentifyingContext<('kdiba', 'gor01', 'one', '2006-6-09_1-22-43')>: <SessionBatchProgress.NOT_STARTED: 'NOT_STARTED'>, IdentifyingContext<('kdiba', 'gor01', 'one', '2006-6-09_3-23-37')>: <SessionBatchProgress.NOT_STARTED: 'NOT_STARTED'>, IdentifyingContext<('kdiba', 'gor01', 'one', '2006-6-12_15-55-31')>: <SessionBatchProgress.NOT_STARTED: 'NOT_STARTED'>, IdentifyingContext<('kdiba', 'gor01', 'one', '2006-6-13_14-42-6')>: <SessionBatchProgress.NOT_STARTED: 'NOT_STARTED'>, IdentifyingContext<('kdiba', 'gor01', 'two', '2006-6-07_16-40-19')>: <SessionBatchProgress.NOT_STARTED: 'NOT_STARTED'>, IdentifyingContext<('kdiba', 'gor01', 'two', '2006-6-08_15-46-47')>: <SessionBatchProgress.NOT_STARTED: 'NOT_STARTED'>, IdentifyingContext<('kdiba', 'gor01', 'two', '2006-6-08_21-16-25')>: <SessionBatchProgress.NOT_STARTED: 'NOT_STARTED'>, IdentifyingContext<('kdiba', 'gor01', 'two', '2006-6-09_22-24-40')>: <SessionBatchProgress.NOT_STARTED: 'NOT_STARTED'>, IdentifyingContext<('kdiba', 'gor01', 'two', '2006-6-12_16-53-46')>: <SessionBatchProgress.NOT_STARTED: 'NOT_STARTED'>, IdentifyingContext<('kdiba', 'gor01', 'two', '2006-6-13_15-22-3')>: <SessionBatchProgress.NOT_STARTED: 'NOT_STARTED'>, IdentifyingContext<('kdiba', 'vvp01', 'one', '2006-4-09_17-29-30')>: <SessionBatchProgress.NOT_STARTED: 'NOT_STARTED'>, IdentifyingContext<('kdiba', 'vvp01', 'one', '2006-4-10_12-25-50')>: <SessionBatchProgress.NOT_STARTED: 'NOT_STARTED'>, IdentifyingContext<('kdiba', 'vvp01', 'one', '2006-4-10_21-2-40')>: <SessionBatchProgress.NOT_STARTED: 'NOT_STARTED'>, IdentifyingContext<('kdiba', 'vvp01', 'one', '2006-4-11_15-16-59')>: <SessionBatchProgress.NOT_STARTED: 'NOT_STARTED'>, IdentifyingContext<('kdiba', 'vvp01', 'one', '2006-4-12_14-39-31')>: <SessionBatchProgress.NOT_STARTED: 'NOT_STARTED'>, IdentifyingContext<('kdiba', 'vvp01', 'one', '2006-4-12_17-53-55')>: <SessionBatchProgress.NOT_STARTED: 'NOT_STARTED'>, IdentifyingContext<('kdiba', 'vvp01', 'one', '2006-4-16_15-12-23')>: <SessionBatchProgress.NOT_STARTED: 'NOT_STARTED'>, IdentifyingContext<('kdiba', 'vvp01', 'one', '2006-4-17_12-33-47')>: <SessionBatchProgress.NOT_STARTED: 'NOT_STARTED'>, IdentifyingContext<('kdiba', 'vvp01', 'one', '2006-4-18_13-6-1')>: <SessionBatchProgress.NOT_STARTED: 'NOT_STARTED'>, IdentifyingContext<('kdiba', 'vvp01', 'one', '2006-4-18_15-23-32')>: <SessionBatchProgress.NOT_STARTED: 'NOT_STARTED'>, IdentifyingContext<('kdiba', 'vvp01', 'one', '2006-4-19_13-34-40')>: <SessionBatchProgress.NOT_STARTED: 'NOT_STARTED'>, IdentifyingContext<('kdiba', 'vvp01', 'one', '2006-4-19_16-48-9')>: <SessionBatchProgress.NOT_STARTED: 'NOT_STARTED'>, IdentifyingContext<('kdiba', 'vvp01', 'one', '2006-4-21_10-24-35')>: <SessionBatchProgress.NOT_STARTED: 'NOT_STARTED'>, IdentifyingContext<('kdiba', 'vvp01', 'one', '2006-4-25_14-28-51')>: <SessionBatchProgress.NOT_STARTED: 'NOT_STARTED'>, IdentifyingContext<('kdiba', 'vvp01', 'one', '2006-4-25_17-17-6')>: <SessionBatchProgress.NOT_STARTED: 'NOT_STARTED'>, IdentifyingContext<('kdiba', 'vvp01', 'one', '2006-4-26_13-22-13')>: <SessionBatchProgress.NOT_STARTED: 'NOT_STARTED'>, IdentifyingContext<('kdiba', 'vvp01', 'one', '2006-4-27_14-43-12')>: <SessionBatchProgress.NOT_STARTED: 'NOT_STARTED'>, IdentifyingContext<('kdiba', 'vvp01', 'one', '2006-4-28_12-17-27')>: <SessionBatchProgress.NOT_STARTED: 'NOT_STARTED'>, IdentifyingContext<('kdiba', 'vvp01', 'one', '2006-4-28_16-48-29')>: <SessionBatchProgress.NOT_STARTED: 'NOT_STARTED'>, IdentifyingContext<('kdiba', 'vvp01', 'two', '2006-4-09_16-40-54')>: <SessionBatchProgress.NOT_STARTED: 'NOT_STARTED'>, IdentifyingContext<('kdiba', 'vvp01', 'two', '2006-4-10_12-58-3')>: <SessionBatchProgress.NOT_STARTED: 'NOT_STARTED'>, IdentifyingContext<('kdiba', 'vvp01', 'two', '2006-4-10_19-11-57')>: <SessionBatchProgress.NOT_STARTED: 'NOT_STARTED'>, IdentifyingContext<('kdiba', 'vvp01', 'two', '2006-4-11_12-48-38')>: <SessionBatchProgress.NOT_STARTED: 'NOT_STARTED'>, IdentifyingContext<('kdiba', 'vvp01', 'two', '2006-4-11_16-2-46')>: <SessionBatchProgress.NOT_STARTED: 'NOT_STARTED'>, IdentifyingContext<('kdiba', 'vvp01', 'two', '2006-4-12_14-59-23')>: <SessionBatchProgress.NOT_STARTED: 'NOT_STARTED'>, IdentifyingContext<('kdiba', 'vvp01', 'two', '2006-4-12_15-25-59')>: <SessionBatchProgress.NOT_STARTED: 'NOT_STARTED'>, IdentifyingContext<('kdiba', 'vvp01', 'two', '2006-4-16_14-49-24')>: <SessionBatchProgress.NOT_STARTED: 'NOT_STARTED'>, IdentifyingContext<('kdiba', 'vvp01', 'two', '2006-4-16_18-47-52')>: <SessionBatchProgress.NOT_STARTED: 'NOT_STARTED'>, IdentifyingContext<('kdiba', 'vvp01', 'two', '2006-4-17_12-52-15')>: <SessionBatchProgress.NOT_STARTED: 'NOT_STARTED'>, IdentifyingContext<('kdiba', 'vvp01', 'two', '2006-4-18_13-28-57')>: <SessionBatchProgress.NOT_STARTED: 'NOT_STARTED'>, IdentifyingContext<('kdiba', 'vvp01', 'two', '2006-4-18_15-38-2')>: <SessionBatchProgress.NOT_STARTED: 'NOT_STARTED'>, IdentifyingContext<('kdiba', 'vvp01', 'two', '2006-4-19_13-50-7')>: <SessionBatchProgress.NOT_STARTED: 'NOT_STARTED'>, IdentifyingContext<('kdiba', 'vvp01', 'two', '2006-4-19_16-37-40')>: <SessionBatchProgress.NOT_STARTED: 'NOT_STARTED'>, IdentifyingContext<('kdiba', 'vvp01', 'two', '2006-4-21_11-19-2')>: <SessionBatchProgress.NOT_STARTED: 'NOT_STARTED'>, IdentifyingContext<('kdiba', 'vvp01', 'two', '2006-4-25_13-20-55')>: <SessionBatchProgress.NOT_STARTED: 'NOT_STARTED'>, IdentifyingContext<('kdiba', 'vvp01', 'two', '2006-4-25_17-33-28')>: <SessionBatchProgress.NOT_STARTED: 'NOT_STARTED'>, IdentifyingContext<('kdiba', 'vvp01', 'two', '2006-4-26_13-51-50')>: <SessionBatchProgress.NOT_STARTED: 'NOT_STARTED'>, IdentifyingContext<('kdiba', 'vvp01', 'two', '2006-4-27_18-21-57')>: <SessionBatchProgress.NOT_STARTED: 'NOT_STARTED'>, IdentifyingContext<('kdiba', 'vvp01', 'two', '2006-4-28_12-38-13')>: <SessionBatchProgress.NOT_STARTED: 'NOT_STARTED'>, IdentifyingContext<('kdiba', 'vvp01', 'two', '2006-4-28_17-6-14')>: <SessionBatchProgress.NOT_STARTED: 'NOT_STARTED'>, IdentifyingContext<('kdiba', 'pin01', 'one', '11-02_17-46-44')>: <SessionBatchProgress.NOT_STARTED: 'NOT_STARTED'>, IdentifyingContext<('kdiba', 'pin01', 'one', '11-02_19-28-0')>: <SessionBatchProgress.NOT_STARTED: 'NOT_STARTED'>, IdentifyingContext<('kdiba', 'pin01', 'one', '11-03_12-3-25')>: <SessionBatchProgress.NOT_STARTED: 'NOT_STARTED'>, IdentifyingContext<('kdiba', 'pin01', 'one', '11-03_21-26-8')>: <SessionBatchProgress.NOT_STARTED: 'NOT_STARTED'>, IdentifyingContext<('kdiba', 'pin01', 'one', '11-05_19-26-43')>: <SessionBatchProgress.NOT_STARTED: 'NOT_STARTED'>, IdentifyingContext<('kdiba', 'pin01', 'one', '11-09_11-43-50')>: <SessionBatchProgress.NOT_STARTED: 'NOT_STARTED'>, IdentifyingContext<('kdiba', 'pin01', 'one', '11-09_12-15-3')>: <SessionBatchProgress.NOT_STARTED: 'NOT_STARTED'>, IdentifyingContext<('kdiba', 'pin01', 'one', '11-09_21-17-16')>: <SessionBatchProgress.NOT_STARTED: 'NOT_STARTED'>, IdentifyingContext<('kdiba', 'pin01', 'one', '11-09_22-4-5')>: <SessionBatchProgress.NOT_STARTED: 'NOT_STARTED'>, IdentifyingContext<('kdiba', 'pin01', 'one', '11-19_12-35-59')>: <SessionBatchProgress.NOT_STARTED: 'NOT_STARTED'>, IdentifyingContext<('kdiba', 'pin01', 'one', '11-19_13-2-0')>: <SessionBatchProgress.NOT_STARTED: 'NOT_STARTED'>, IdentifyingContext<('kdiba', 'pin01', 'one', '11-19_13-55-7')>: <SessionBatchProgress.NOT_STARTED: 'NOT_STARTED'>, IdentifyingContext<('kdiba', 'pin01', 'one', 'fet11-01_12-58-54')>: <SessionBatchProgress.NOT_STARTED: 'NOT_STARTED'>, IdentifyingContext<('kdiba', 'pin01', 'one', 'fet11-03_11-0-53')>: <SessionBatchProgress.NOT_STARTED: 'NOT_STARTED'>, IdentifyingContext<('kdiba', 'pin01', 'one', 'fet11-03_20-28-3')>: <SessionBatchProgress.NOT_STARTED: 'NOT_STARTED'>, IdentifyingContext<('kdiba', 'pin01', 'one', 'fet11-04_21-20-3')>: <SessionBatchProgress.NOT_STARTED: 'NOT_STARTED'>, IdentifyingContext<('kdiba', 'pin01', 'one', 'redundant')>: <SessionBatchProgress.NOT_STARTED: 'NOT_STARTED'>, IdentifyingContext<('kdiba', 'pin01', 'one', 'showclus')>: <SessionBatchProgress.NOT_STARTED: 'NOT_STARTED'>, IdentifyingContext<('kdiba', 'pin01', 'one', 'sleep')>: <SessionBatchProgress.NOT_STARTED: 'NOT_STARTED'>, IdentifyingContext<('kdiba', 'pin01', 'one', 'tmaze')>: <SessionBatchProgress.NOT_STARTED: 'NOT_STARTED'>}, session_batch_basedirs={IdentifyingContext<('kdiba', 'gor01', 'one', '2006-6-07_11-26-53')>: PosixPath('/nfs/turbo/umms-kdiba/Data/KDIBA/gor01/one/2006-6-07_11-26-53'), IdentifyingContext<('kdiba', 'gor01', 'one', '2006-6-08_14-26-15')>: PosixPath('/nfs/turbo/umms-kdiba/Data/KDIBA/gor01/one/2006-6-08_14-26-15'), IdentifyingContext<('kdiba', 'gor01', 'one', '2006-6-09_1-22-43')>: PosixPath('/nfs/turbo/umms-kdiba/Data/KDIBA/gor01/one/2006-6-09_1-22-43'), IdentifyingContext<('kdiba', 'gor01', 'one', '2006-6-09_3-23-37')>: PosixPath('/nfs/turbo/umms-kdiba/Data/KDIBA/gor01/one/2006-6-09_3-23-37'), IdentifyingContext<('kdiba', 'gor01', 'one', '2006-6-12_15-55-31')>: PosixPath('/nfs/turbo/umms-kdiba/Data/KDIBA/gor01/one/2006-6-12_15-55-31'), IdentifyingContext<('kdiba', 'gor01', 'one', '2006-6-13_14-42-6')>: PosixPath('/nfs/turbo/umms-kdiba/Data/KDIBA/gor01/one/2006-6-13_14-42-6'), IdentifyingContext<('kdiba', 'gor01', 'two', '2006-6-07_16-40-19')>: PosixPath('/nfs/turbo/umms-kdiba/Data/KDIBA/gor01/two/2006-6-07_16-40-19'), IdentifyingContext<('kdiba', 'gor01', 'two', '2006-6-08_15-46-47')>: PosixPath('/nfs/turbo/umms-kdiba/Data/KDIBA/gor01/two/2006-6-08_15-46-47'), IdentifyingContext<('kdiba', 'gor01', 'two', '2006-6-08_21-16-25')>: PosixPath('/nfs/turbo/umms-kdiba/Data/KDIBA/gor01/two/2006-6-08_21-16-25'), IdentifyingContext<('kdiba', 'gor01', 'two', '2006-6-09_22-24-40')>: PosixPath('/nfs/turbo/umms-kdiba/Data/KDIBA/gor01/two/2006-6-09_22-24-40'), IdentifyingContext<('kdiba', 'gor01', 'two', '2006-6-12_16-53-46')>: PosixPath('/nfs/turbo/umms-kdiba/Data/KDIBA/gor01/two/2006-6-12_16-53-46'), IdentifyingContext<('kdiba', 'gor01', 'two', '2006-6-13_15-22-3')>: PosixPath('/nfs/turbo/umms-kdiba/Data/KDIBA/gor01/two/2006-6-13_15-22-3'), IdentifyingContext<('kdiba', 'vvp01', 'one', '2006-4-09_17-29-30')>: PosixPath('/nfs/turbo/umms-kdiba/Data/KDIBA/vvp01/one/2006-4-09_17-29-30'), IdentifyingContext<('kdiba', 'vvp01', 'one', '2006-4-10_12-25-50')>: PosixPath('/nfs/turbo/umms-kdiba/Data/KDIBA/vvp01/one/2006-4-10_12-25-50'), IdentifyingContext<('kdiba', 'vvp01', 'one', '2006-4-10_21-2-40')>: PosixPath('/nfs/turbo/umms-kdiba/Data/KDIBA/vvp01/one/2006-4-10_21-2-40'), IdentifyingContext<('kdiba', 'vvp01', 'one', '2006-4-11_15-16-59')>: PosixPath('/nfs/turbo/umms-kdiba/Data/KDIBA/vvp01/one/2006-4-11_15-16-59'), IdentifyingContext<('kdiba', 'vvp01', 'one', '2006-4-12_14-39-31')>: PosixPath('/nfs/turbo/umms-kdiba/Data/KDIBA/vvp01/one/2006-4-12_14-39-31'), IdentifyingContext<('kdiba', 'vvp01', 'one', '2006-4-12_17-53-55')>: PosixPath('/nfs/turbo/umms-kdiba/Data/KDIBA/vvp01/one/2006-4-12_17-53-55'), IdentifyingContext<('kdiba', 'vvp01', 'one', '2006-4-16_15-12-23')>: PosixPath('/nfs/turbo/umms-kdiba/Data/KDIBA/vvp01/one/2006-4-16_15-12-23'), IdentifyingContext<('kdiba', 'vvp01', 'one', '2006-4-17_12-33-47')>: PosixPath('/nfs/turbo/umms-kdiba/Data/KDIBA/vvp01/one/2006-4-17_12-33-47'), IdentifyingContext<('kdiba', 'vvp01', 'one', '2006-4-18_13-6-1')>: PosixPath('/nfs/turbo/umms-kdiba/Data/KDIBA/vvp01/one/2006-4-18_13-6-1'), IdentifyingContext<('kdiba', 'vvp01', 'one', '2006-4-18_15-23-32')>: PosixPath('/nfs/turbo/umms-kdiba/Data/KDIBA/vvp01/one/2006-4-18_15-23-32'), IdentifyingContext<('kdiba', 'vvp01', 'one', '2006-4-19_13-34-40')>: PosixPath('/nfs/turbo/umms-kdiba/Data/KDIBA/vvp01/one/2006-4-19_13-34-40'), IdentifyingContext<('kdiba', 'vvp01', 'one', '2006-4-19_16-48-9')>: PosixPath('/nfs/turbo/umms-kdiba/Data/KDIBA/vvp01/one/2006-4-19_16-48-9'), IdentifyingContext<('kdiba', 'vvp01', 'one', '2006-4-21_10-24-35')>: PosixPath('/nfs/turbo/umms-kdiba/Data/KDIBA/vvp01/one/2006-4-21_10-24-35'), IdentifyingContext<('kdiba', 'vvp01', 'one', '2006-4-25_14-28-51')>: PosixPath('/nfs/turbo/umms-kdiba/Data/KDIBA/vvp01/one/2006-4-25_14-28-51'), IdentifyingContext<('kdiba', 'vvp01', 'one', '2006-4-25_17-17-6')>: PosixPath('/nfs/turbo/umms-kdiba/Data/KDIBA/vvp01/one/2006-4-25_17-17-6'), IdentifyingContext<('kdiba', 'vvp01', 'one', '2006-4-26_13-22-13')>: PosixPath('/nfs/turbo/umms-kdiba/Data/KDIBA/vvp01/one/2006-4-26_13-22-13'), IdentifyingContext<('kdiba', 'vvp01', 'one', '2006-4-27_14-43-12')>: PosixPath('/nfs/turbo/umms-kdiba/Data/KDIBA/vvp01/one/2006-4-27_14-43-12'), IdentifyingContext<('kdiba', 'vvp01', 'one', '2006-4-28_12-17-27')>: PosixPath('/nfs/turbo/umms-kdiba/Data/KDIBA/vvp01/one/2006-4-28_12-17-27'), IdentifyingContext<('kdiba', 'vvp01', 'one', '2006-4-28_16-48-29')>: PosixPath('/nfs/turbo/umms-kdiba/Data/KDIBA/vvp01/one/2006-4-28_16-48-29'), IdentifyingContext<('kdiba', 'vvp01', 'two', '2006-4-09_16-40-54')>: PosixPath('/nfs/turbo/umms-kdiba/Data/KDIBA/vvp01/two/2006-4-09_16-40-54'), IdentifyingContext<('kdiba', 'vvp01', 'two', '2006-4-10_12-58-3')>: PosixPath('/nfs/turbo/umms-kdiba/Data/KDIBA/vvp01/two/2006-4-10_12-58-3'), IdentifyingContext<('kdiba', 'vvp01', 'two', '2006-4-10_19-11-57')>: PosixPath('/nfs/turbo/umms-kdiba/Data/KDIBA/vvp01/two/2006-4-10_19-11-57'), IdentifyingContext<('kdiba', 'vvp01', 'two', '2006-4-11_12-48-38')>: PosixPath('/nfs/turbo/umms-kdiba/Data/KDIBA/vvp01/two/2006-4-11_12-48-38'), IdentifyingContext<('kdiba', 'vvp01', 'two', '2006-4-11_16-2-46')>: PosixPath('/nfs/turbo/umms-kdiba/Data/KDIBA/vvp01/two/2006-4-11_16-2-46'), IdentifyingContext<('kdiba', 'vvp01', 'two', '2006-4-12_14-59-23')>: PosixPath('/nfs/turbo/umms-kdiba/Data/KDIBA/vvp01/two/2006-4-12_14-59-23'), IdentifyingContext<('kdiba', 'vvp01', 'two', '2006-4-12_15-25-59')>: PosixPath('/nfs/turbo/umms-kdiba/Data/KDIBA/vvp01/two/2006-4-12_15-25-59'), IdentifyingContext<('kdiba', 'vvp01', 'two', '2006-4-16_14-49-24')>: PosixPath('/nfs/turbo/umms-kdiba/Data/KDIBA/vvp01/two/2006-4-16_14-49-24'), IdentifyingContext<('kdiba', 'vvp01', 'two', '2006-4-16_18-47-52')>: PosixPath('/nfs/turbo/umms-kdiba/Data/KDIBA/vvp01/two/2006-4-16_18-47-52'), IdentifyingContext<('kdiba', 'vvp01', 'two', '2006-4-17_12-52-15')>: PosixPath('/nfs/turbo/umms-kdiba/Data/KDIBA/vvp01/two/2006-4-17_12-52-15'), IdentifyingContext<('kdiba', 'vvp01', 'two', '2006-4-18_13-28-57')>: PosixPath('/nfs/turbo/umms-kdiba/Data/KDIBA/vvp01/two/2006-4-18_13-28-57'), IdentifyingContext<('kdiba', 'vvp01', 'two', '2006-4-18_15-38-2')>: PosixPath('/nfs/turbo/umms-kdiba/Data/KDIBA/vvp01/two/2006-4-18_15-38-2'), IdentifyingContext<('kdiba', 'vvp01', 'two', '2006-4-19_13-50-7')>: PosixPath('/nfs/turbo/umms-kdiba/Data/KDIBA/vvp01/two/2006-4-19_13-50-7'), IdentifyingContext<('kdiba', 'vvp01', 'two', '2006-4-19_16-37-40')>: PosixPath('/nfs/turbo/umms-kdiba/Data/KDIBA/vvp01/two/2006-4-19_16-37-40'), IdentifyingContext<('kdiba', 'vvp01', 'two', '2006-4-21_11-19-2')>: PosixPath('/nfs/turbo/umms-kdiba/Data/KDIBA/vvp01/two/2006-4-21_11-19-2'), IdentifyingContext<('kdiba', 'vvp01', 'two', '2006-4-25_13-20-55')>: PosixPath('/nfs/turbo/umms-kdiba/Data/KDIBA/vvp01/two/2006-4-25_13-20-55'), IdentifyingContext<('kdiba', 'vvp01', 'two', '2006-4-25_17-33-28')>: PosixPath('/nfs/turbo/umms-kdiba/Data/KDIBA/vvp01/two/2006-4-25_17-33-28'), IdentifyingContext<('kdiba', 'vvp01', 'two', '2006-4-26_13-51-50')>: PosixPath('/nfs/turbo/umms-kdiba/Data/KDIBA/vvp01/two/2006-4-26_13-51-50'), IdentifyingContext<('kdiba', 'vvp01', 'two', '2006-4-27_18-21-57')>: PosixPath('/nfs/turbo/umms-kdiba/Data/KDIBA/vvp01/two/2006-4-27_18-21-57'), IdentifyingContext<('kdiba', 'vvp01', 'two', '2006-4-28_12-38-13')>: PosixPath('/nfs/turbo/umms-kdiba/Data/KDIBA/vvp01/two/2006-4-28_12-38-13'), IdentifyingContext<('kdiba', 'vvp01', 'two', '2006-4-28_17-6-14')>: PosixPath('/nfs/turbo/umms-kdiba/Data/KDIBA/vvp01/two/2006-4-28_17-6-14'), IdentifyingContext<('kdiba', 'pin01', 'one', '11-02_17-46-44')>: PosixPath('/nfs/turbo/umms-kdiba/Data/KDIBA/pin01/one/11-02_17-46-44'), IdentifyingContext<('kdiba', 'pin01', 'one', '11-02_19-28-0')>: PosixPath('/nfs/turbo/umms-kdiba/Data/KDIBA/pin01/one/11-02_19-28-0'), IdentifyingContext<('kdiba', 'pin01', 'one', '11-03_12-3-25')>: PosixPath('/nfs/turbo/umms-kdiba/Data/KDIBA/pin01/one/11-03_12-3-25'), IdentifyingContext<('kdiba', 'pin01', 'one', '11-03_21-26-8')>: PosixPath('/nfs/turbo/umms-kdiba/Data/KDIBA/pin01/one/11-03_21-26-8'), IdentifyingContext<('kdiba', 'pin01', 'one', '11-05_19-26-43')>: PosixPath('/nfs/turbo/umms-kdiba/Data/KDIBA/pin01/one/11-05_19-26-43'), IdentifyingContext<('kdiba', 'pin01', 'one', '11-09_11-43-50')>: PosixPath('/nfs/turbo/umms-kdiba/Data/KDIBA/pin01/one/11-09_11-43-50'), IdentifyingContext<('kdiba', 'pin01', 'one', '11-09_12-15-3')>: PosixPath('/nfs/turbo/umms-kdiba/Data/KDIBA/pin01/one/11-09_12-15-3'), IdentifyingContext<('kdiba', 'pin01', 'one', '11-09_21-17-16')>: PosixPath('/nfs/turbo/umms-kdiba/Data/KDIBA/pin01/one/11-09_21-17-16'), IdentifyingContext<('kdiba', 'pin01', 'one', '11-09_22-4-5')>: PosixPath('/nfs/turbo/umms-kdiba/Data/KDIBA/pin01/one/11-09_22-4-5'), IdentifyingContext<('kdiba', 'pin01', 'one', '11-19_12-35-59')>: PosixPath('/nfs/turbo/umms-kdiba/Data/KDIBA/pin01/one/11-19_12-35-59'), IdentifyingContext<('kdiba', 'pin01', 'one', '11-19_13-2-0')>: PosixPath('/nfs/turbo/umms-kdiba/Data/KDIBA/pin01/one/11-19_13-2-0'), IdentifyingContext<('kdiba', 'pin01', 'one', '11-19_13-55-7')>: PosixPath('/nfs/turbo/umms-kdiba/Data/KDIBA/pin01/one/11-19_13-55-7'), IdentifyingContext<('kdiba', 'pin01', 'one', 'fet11-01_12-58-54')>: PosixPath('/nfs/turbo/umms-kdiba/Data/KDIBA/pin01/one/fet11-01_12-58-54'), IdentifyingContext<('kdiba', 'pin01', 'one', 'fet11-03_11-0-53')>: PosixPath('/nfs/turbo/umms-kdiba/Data/KDIBA/pin01/one/fet11-03_11-0-53'), IdentifyingContext<('kdiba', 'pin01', 'one', 'fet11-03_20-28-3')>: PosixPath('/nfs/turbo/umms-kdiba/Data/KDIBA/pin01/one/fet11-03_20-28-3'), IdentifyingContext<('kdiba', 'pin01', 'one', 'fet11-04_21-20-3')>: PosixPath('/nfs/turbo/umms-kdiba/Data/KDIBA/pin01/one/fet11-04_21-20-3'), IdentifyingContext<('kdiba', 'pin01', 'one', 'redundant')>: PosixPath('/nfs/turbo/umms-kdiba/Data/KDIBA/pin01/one/redundant'), IdentifyingContext<('kdiba', 'pin01', 'one', 'showclus')>: PosixPath('/nfs/turbo/umms-kdiba/Data/KDIBA/pin01/one/showclus'), IdentifyingContext<('kdiba', 'pin01', 'one', 'sleep')>: PosixPath('/nfs/turbo/umms-kdiba/Data/KDIBA/pin01/one/sleep'), IdentifyingContext<('kdiba', 'pin01', 'one', 'tmaze')>: PosixPath('/nfs/turbo/umms-kdiba/Data/KDIBA/pin01/one/tmaze')}, session_batch_errors={IdentifyingContext<('kdiba', 'gor01', 'one', '2006-6-07_11-26-53')>: None, IdentifyingContext<('kdiba', 'gor01', 'one', '2006-6-08_14-26-15')>: None, IdentifyingContext<('kdiba', 'gor01', 'one', '2006-6-09_1-22-43')>: None, IdentifyingContext<('kdiba', 'gor01', 'one', '2006-6-09_3-23-37')>: None, IdentifyingContext<('kdiba', 'gor01', 'one', '2006-6-12_15-55-31')>: None, IdentifyingContext<('kdiba', 'gor01', 'one', '2006-6-13_14-42-6')>: None, IdentifyingContext<('kdiba', 'gor01', 'two', '2006-6-07_16-40-19')>: None, IdentifyingContext<('kdiba', 'gor01', 'two', '2006-6-08_15-46-47')>: None, IdentifyingContext<('kdiba', 'gor01', 'two', '2006-6-08_21-16-25')>: None, IdentifyingContext<('kdiba', 'gor01', 'two', '2006-6-09_22-24-40')>: None, IdentifyingContext<('kdiba', 'gor01', 'two', '2006-6-12_16-53-46')>: None, IdentifyingContext<('kdiba', 'gor01', 'two', '2006-6-13_15-22-3')>: None, IdentifyingContext<('kdiba', 'vvp01', 'one', '2006-4-09_17-29-30')>: None, IdentifyingContext<('kdiba', 'vvp01', 'one', '2006-4-10_12-25-50')>: None, IdentifyingContext<('kdiba', 'vvp01', 'one', '2006-4-10_21-2-40')>: None, IdentifyingContext<('kdiba', 'vvp01', 'one', '2006-4-11_15-16-59')>: None, IdentifyingContext<('kdiba', 'vvp01', 'one', '2006-4-12_14-39-31')>: None, IdentifyingContext<('kdiba', 'vvp01', 'one', '2006-4-12_17-53-55')>: None, IdentifyingContext<('kdiba', 'vvp01', 'one', '2006-4-16_15-12-23')>: None, IdentifyingContext<('kdiba', 'vvp01', 'one', '2006-4-17_12-33-47')>: None, IdentifyingContext<('kdiba', 'vvp01', 'one', '2006-4-18_13-6-1')>: None, IdentifyingContext<('kdiba', 'vvp01', 'one', '2006-4-18_15-23-32')>: None, IdentifyingContext<('kdiba', 'vvp01', 'one', '2006-4-19_13-34-40')>: None, IdentifyingContext<('kdiba', 'vvp01', 'one', '2006-4-19_16-48-9')>: None, IdentifyingContext<('kdiba', 'vvp01', 'one', '2006-4-21_10-24-35')>: None, IdentifyingContext<('kdiba', 'vvp01', 'one', '2006-4-25_14-28-51')>: None, IdentifyingContext<('kdiba', 'vvp01', 'one', '2006-4-25_17-17-6')>: None, IdentifyingContext<('kdiba', 'vvp01', 'one', '2006-4-26_13-22-13')>: None, IdentifyingContext<('kdiba', 'vvp01', 'one', '2006-4-27_14-43-12')>: None, IdentifyingContext<('kdiba', 'vvp01', 'one', '2006-4-28_12-17-27')>: None, IdentifyingContext<('kdiba', 'vvp01', 'one', '2006-4-28_16-48-29')>: None, IdentifyingContext<('kdiba', 'vvp01', 'two', '2006-4-09_16-40-54')>: None, IdentifyingContext<('kdiba', 'vvp01', 'two', '2006-4-10_12-58-3')>: None, IdentifyingContext<('kdiba', 'vvp01', 'two', '2006-4-10_19-11-57')>: None, IdentifyingContext<('kdiba', 'vvp01', 'two', '2006-4-11_12-48-38')>: None, IdentifyingContext<('kdiba', 'vvp01', 'two', '2006-4-11_16-2-46')>: None, IdentifyingContext<('kdiba', 'vvp01', 'two', '2006-4-12_14-59-23')>: None, IdentifyingContext<('kdiba', 'vvp01', 'two', '2006-4-12_15-25-59')>: None, IdentifyingContext<('kdiba', 'vvp01', 'two', '2006-4-16_14-49-24')>: None, IdentifyingContext<('kdiba', 'vvp01', 'two', '2006-4-16_18-47-52')>: None, IdentifyingContext<('kdiba', 'vvp01', 'two', '2006-4-17_12-52-15')>: None, IdentifyingContext<('kdiba', 'vvp01', 'two', '2006-4-18_13-28-57')>: None, IdentifyingContext<('kdiba', 'vvp01', 'two', '2006-4-18_15-38-2')>: None, IdentifyingContext<('kdiba', 'vvp01', 'two', '2006-4-19_13-50-7')>: None, IdentifyingContext<('kdiba', 'vvp01', 'two', '2006-4-19_16-37-40')>: None, IdentifyingContext<('kdiba', 'vvp01', 'two', '2006-4-21_11-19-2')>: None, IdentifyingContext<('kdiba', 'vvp01', 'two', '2006-4-25_13-20-55')>: None, IdentifyingContext<('kdiba', 'vvp01', 'two', '2006-4-25_17-33-28')>: None, IdentifyingContext<('kdiba', 'vvp01', 'two', '2006-4-26_13-51-50')>: None, IdentifyingContext<('kdiba', 'vvp01', 'two', '2006-4-27_18-21-57')>: None, IdentifyingContext<('kdiba', 'vvp01', 'two', '2006-4-28_12-38-13')>: None, IdentifyingContext<('kdiba', 'vvp01', 'two', '2006-4-28_17-6-14')>: None, IdentifyingContext<('kdiba', 'pin01', 'one', '11-02_17-46-44')>: None, IdentifyingContext<('kdiba', 'pin01', 'one', '11-02_19-28-0')>: None, IdentifyingContext<('kdiba', 'pin01', 'one', '11-03_12-3-25')>: None, IdentifyingContext<('kdiba', 'pin01', 'one', '11-03_21-26-8')>: None, IdentifyingContext<('kdiba', 'pin01', 'one', '11-05_19-26-43')>: None, IdentifyingContext<('kdiba', 'pin01', 'one', '11-09_11-43-50')>: None, IdentifyingContext<('kdiba', 'pin01', 'one', '11-09_12-15-3')>: None, IdentifyingContext<('kdiba', 'pin01', 'one', '11-09_21-17-16')>: None, IdentifyingContext<('kdiba', 'pin01', 'one', '11-09_22-4-5')>: None, IdentifyingContext<('kdiba', 'pin01', 'one', '11-19_12-35-59')>: None, IdentifyingContext<('kdiba', 'pin01', 'one', '11-19_13-2-0')>: None, IdentifyingContext<('kdiba', 'pin01', 'one', '11-19_13-55-7')>: None, IdentifyingContext<('kdiba', 'pin01', 'one', 'fet11-01_12-58-54')>: None, IdentifyingContext<('kdiba', 'pin01', 'one', 'fet11-03_11-0-53')>: None, IdentifyingContext<('kdiba', 'pin01', 'one', 'fet11-03_20-28-3')>: None, IdentifyingContext<('kdiba', 'pin01', 'one', 'fet11-04_21-20-3')>: None, IdentifyingContext<('kdiba', 'pin01', 'one', 'redundant')>: None, IdentifyingContext<('kdiba', 'pin01', 'one', 'showclus')>: None, IdentifyingContext<('kdiba', 'pin01', 'one', 'sleep')>: None, IdentifyingContext<('kdiba', 'pin01', 'one', 'tmaze')>: None}, session_batch_outputs={IdentifyingContext<('kdiba', 'gor01', 'one', '2006-6-07_11-26-53')>: None, IdentifyingContext<('kdiba', 'gor01', 'one', '2006-6-08_14-26-15')>: None, IdentifyingContext<('kdiba', 'gor01', 'one', '2006-6-09_1-22-43')>: None, IdentifyingContext<('kdiba', 'gor01', 'one', '2006-6-09_3-23-37')>: None, IdentifyingContext<('kdiba', 'gor01', 'one', '2006-6-12_15-55-31')>: None, IdentifyingContext<('kdiba', 'gor01', 'one', '2006-6-13_14-42-6')>: None, IdentifyingContext<('kdiba', 'gor01', 'two', '2006-6-07_16-40-19')>: None, IdentifyingContext<('kdiba', 'gor01', 'two', '2006-6-08_15-46-47')>: None, IdentifyingContext<('kdiba', 'gor01', 'two', '2006-6-08_21-16-25')>: None, IdentifyingContext<('kdiba', 'gor01', 'two', '2006-6-09_22-24-40')>: None, IdentifyingContext<('kdiba', 'gor01', 'two', '2006-6-12_16-53-46')>: None, IdentifyingContext<('kdiba', 'gor01', 'two', '2006-6-13_15-22-3')>: None, IdentifyingContext<('kdiba', 'vvp01', 'one', '2006-4-09_17-29-30')>: None, IdentifyingContext<('kdiba', 'vvp01', 'one', '2006-4-10_12-25-50')>: None, IdentifyingContext<('kdiba', 'vvp01', 'one', '2006-4-10_21-2-40')>: None, IdentifyingContext<('kdiba', 'vvp01', 'one', '2006-4-11_15-16-59')>: None, IdentifyingContext<('kdiba', 'vvp01', 'one', '2006-4-12_14-39-31')>: None, IdentifyingContext<('kdiba', 'vvp01', 'one', '2006-4-12_17-53-55')>: None, IdentifyingContext<('kdiba', 'vvp01', 'one', '2006-4-16_15-12-23')>: None, IdentifyingContext<('kdiba', 'vvp01', 'one', '2006-4-17_12-33-47')>: None, IdentifyingContext<('kdiba', 'vvp01', 'one', '2006-4-18_13-6-1')>: None, IdentifyingContext<('kdiba', 'vvp01', 'one', '2006-4-18_15-23-32')>: None, IdentifyingContext<('kdiba', 'vvp01', 'one', '2006-4-19_13-34-40')>: None, IdentifyingContext<('kdiba', 'vvp01', 'one', '2006-4-19_16-48-9')>: None, IdentifyingContext<('kdiba', 'vvp01', 'one', '2006-4-21_10-24-35')>: None, IdentifyingContext<('kdiba', 'vvp01', 'one', '2006-4-25_14-28-51')>: None, IdentifyingContext<('kdiba', 'vvp01', 'one', '2006-4-25_17-17-6')>: None, IdentifyingContext<('kdiba', 'vvp01', 'one', '2006-4-26_13-22-13')>: None, IdentifyingContext<('kdiba', 'vvp01', 'one', '2006-4-27_14-43-12')>: None, IdentifyingContext<('kdiba', 'vvp01', 'one', '2006-4-28_12-17-27')>: None, IdentifyingContext<('kdiba', 'vvp01', 'one', '2006-4-28_16-48-29')>: None, IdentifyingContext<('kdiba', 'vvp01', 'two', '2006-4-09_16-40-54')>: None, IdentifyingContext<('kdiba', 'vvp01', 'two', '2006-4-10_12-58-3')>: None, IdentifyingContext<('kdiba', 'vvp01', 'two', '2006-4-10_19-11-57')>: None, IdentifyingContext<('kdiba', 'vvp01', 'two', '2006-4-11_12-48-38')>: None, IdentifyingContext<('kdiba', 'vvp01', 'two', '2006-4-11_16-2-46')>: None, IdentifyingContext<('kdiba', 'vvp01', 'two', '2006-4-12_14-59-23')>: None, IdentifyingContext<('kdiba', 'vvp01', 'two', '2006-4-12_15-25-59')>: None, IdentifyingContext<('kdiba', 'vvp01', 'two', '2006-4-16_14-49-24')>: None, IdentifyingContext<('kdiba', 'vvp01', 'two', '2006-4-16_18-47-52')>: None, IdentifyingContext<('kdiba', 'vvp01', 'two', '2006-4-17_12-52-15')>: None, IdentifyingContext<('kdiba', 'vvp01', 'two', '2006-4-18_13-28-57')>: None, IdentifyingContext<('kdiba', 'vvp01', 'two', '2006-4-18_15-38-2')>: None, IdentifyingContext<('kdiba', 'vvp01', 'two', '2006-4-19_13-50-7')>: None, IdentifyingContext<('kdiba', 'vvp01', 'two', '2006-4-19_16-37-40')>: None, IdentifyingContext<('kdiba', 'vvp01', 'two', '2006-4-21_11-19-2')>: None, IdentifyingContext<('kdiba', 'vvp01', 'two', '2006-4-25_13-20-55')>: None, IdentifyingContext<('kdiba', 'vvp01', 'two', '2006-4-25_17-33-28')>: None, IdentifyingContext<('kdiba', 'vvp01', 'two', '2006-4-26_13-51-50')>: None, IdentifyingContext<('kdiba', 'vvp01', 'two', '2006-4-27_18-21-57')>: None, IdentifyingContext<('kdiba', 'vvp01', 'two', '2006-4-28_12-38-13')>: None, IdentifyingContext<('kdiba', 'vvp01', 'two', '2006-4-28_17-6-14')>: None, IdentifyingContext<('kdiba', 'pin01', 'one', '11-02_17-46-44')>: None, IdentifyingContext<('kdiba', 'pin01', 'one', '11-02_19-28-0')>: None, IdentifyingContext<('kdiba', 'pin01', 'one', '11-03_12-3-25')>: None, IdentifyingContext<('kdiba', 'pin01', 'one', '11-03_21-26-8')>: None, IdentifyingContext<('kdiba', 'pin01', 'one', '11-05_19-26-43')>: None, IdentifyingContext<('kdiba', 'pin01', 'one', '11-09_11-43-50')>: None, IdentifyingContext<('kdiba', 'pin01', 'one', '11-09_12-15-3')>: None, IdentifyingContext<('kdiba', 'pin01', 'one', '11-09_21-17-16')>: None, IdentifyingContext<('kdiba', 'pin01', 'one', '11-09_22-4-5')>: None, IdentifyingContext<('kdiba', 'pin01', 'one', '11-19_12-35-59')>: None, IdentifyingContext<('kdiba', 'pin01', 'one', '11-19_13-2-0')>: None, IdentifyingContext<('kdiba', 'pin01', 'one', '11-19_13-55-7')>: None, IdentifyingContext<('kdiba', 'pin01', 'one', 'fet11-01_12-58-54')>: None, IdentifyingContext<('kdiba', 'pin01', 'one', 'fet11-03_11-0-53')>: None, IdentifyingContext<('kdiba', 'pin01', 'one', 'fet11-03_20-28-3')>: None, IdentifyingContext<('kdiba', 'pin01', 'one', 'fet11-04_21-20-3')>: None, IdentifyingContext<('kdiba', 'pin01', 'one', 'redundant')>: None, IdentifyingContext<('kdiba', 'pin01', 'one', 'showclus')>: None, IdentifyingContext<('kdiba', 'pin01', 'one', 'sleep')>: None, IdentifyingContext<('kdiba', 'pin01', 'one', 'tmaze')>: None}, enable_saving_to_disk=False)"
      ]
     },
     "execution_count": 4,
     "metadata": {},
     "output_type": "execute_result"
    }
   ],
   "source": [
    "# global_batch_result = loadData('global_batch_result.pkl')\n",
    "global_batch_run = run_diba_batch(global_data_root_parent_path, execute_all=False, extant_batch_run=global_batch_run, debug_print=False)\n",
    "# print(f'global_batch_result: {global_batch_run}')\n",
    "global_batch_run"
   ]
  },
  {
   "cell_type": "markdown",
   "id": "ab824348",
   "metadata": {
    "tags": []
   },
   "source": [
    "# Run Batch Executions/Computations"
   ]
  },
  {
   "cell_type": "code",
   "execution_count": null,
   "id": "407d043e",
   "metadata": {
    "scrolled": true,
    "tags": []
   },
   "outputs": [],
   "source": [
    "# Skip sessions that aren't already computed. Refuse to do any computations (fail if computations are not done already)\n",
    "# Compute as needed, and if computations were done save the result (caching it for future loading)\n",
    "\n",
    "# Force Recompute:\n",
    "#   - Compute always (this mode would be used after a bug was fixed in the computations and we want to be sure the latest version is used to produce the result) regardless of whether extant results exist. Once computation is complete, overwrite extant files if they exist.\n",
    "#   - Same as above but do not save at all (just use in-memory result for something)\n",
    "#   - Same as first one but save the result with a special filename (a variant) as not to overwrite the original\n",
    "\n"
   ]
  },
  {
   "cell_type": "code",
   "execution_count": 4,
   "id": "2bd73b8d",
   "metadata": {
    "scrolled": true,
    "tags": []
   },
   "outputs": [
    {
     "name": "stdout",
     "output_type": "stream",
     "text": [
      "basedir: /nfs/turbo/umms-kdiba/Data/KDIBA/gor01/one/2006-6-07_11-26-53\n",
      "active_data_mode_name: kdiba\n",
      "Skipping loading from pickled file because force_reload == True.\n",
      "Loading matlab import file results : /nfs/turbo/umms-kdiba/Data/KDIBA/gor01/one/2006-6-07_11-26-53/2006-6-07_11-26-53.epochs_info.mat... done.\n"
     ]
    },
    {
     "name": "stderr",
     "output_type": "stream",
     "text": [
      "/home/halechr/repos/NeuroPy/neuropy/core/session/Formats/SessionSpecifications.py:140: UserWarning: WARNING: Optional File: /nfs/turbo/umms-kdiba/Data/KDIBA/gor01/one/2006-6-07_11-26-53/2006-6-07_11-26-53.dat does not exist. Continuing without it.\n",
      "  warnings.warn(f'WARNING: Optional File: {an_optional_filepath} does not exist. Continuing without it.')\n"
     ]
    },
    {
     "name": "stdout",
     "output_type": "stream",
     "text": [
      "Loading matlab import file results : /nfs/turbo/umms-kdiba/Data/KDIBA/gor01/one/2006-6-07_11-26-53/2006-6-07_11-26-53.position_info.mat... done.\n",
      "Loading matlab import file results : /nfs/turbo/umms-kdiba/Data/KDIBA/gor01/one/2006-6-07_11-26-53/2006-6-07_11-26-53.spikes.mat... done.\n",
      "Failure loading .position.npy. Must recompute.\n",
      "\n"
     ]
    },
    {
     "name": "stderr",
     "output_type": "stream",
     "text": [
      "/home/halechr/repos/Spike3D/.venv/lib/python3.9/site-packages/sklearn/manifold/_isomap.py:359: UserWarning: The number of connected components of the neighbors graph is 3 > 1. Completing the graph to fit Isomap might be slow. Increase the number of neighbors to avoid this issue.\n",
      "  self._fit_transform(X)\n",
      "/home/halechr/repos/Spike3D/.venv/lib/python3.9/site-packages/scipy/sparse/_index.py:100: SparseEfficiencyWarning: Changing the sparsity structure of a csr_matrix is expensive. lil_matrix is more efficient.\n",
      "  self._set_intXint(row, col, x.flat[0])\n",
      "/home/halechr/repos/Spike3D/.venv/lib/python3.9/site-packages/scipy/sparse/_index.py:100: SparseEfficiencyWarning: Changing the sparsity structure of a csr_matrix is expensive. lil_matrix is more efficient.\n",
      "  self._set_intXint(row, col, x.flat[0])\n",
      "/home/halechr/repos/Spike3D/.venv/lib/python3.9/site-packages/scipy/sparse/_index.py:100: SparseEfficiencyWarning: Changing the sparsity structure of a csr_matrix is expensive. lil_matrix is more efficient.\n",
      "  self._set_intXint(row, col, x.flat[0])\n"
     ]
    },
    {
     "name": "stdout",
     "output_type": "stream",
     "text": [
      "Saving updated position results results : /nfs/turbo/umms-kdiba/Data/KDIBA/gor01/one/2006-6-07_11-26-53/2006-6-07_11-26-53.position.npy... 2006-6-07_11-26-53.position.npy saved\n",
      "done.\n",
      "\t force_recompute is True! Forcing recomputation of .interpolated_spike_positions.npy\n",
      "\n",
      "Computing interpolate_spike_positions columns results : spikes_df... done.\n",
      "\t Saving updated interpolated spike position results results : /nfs/turbo/umms-kdiba/Data/KDIBA/gor01/one/2006-6-07_11-26-53/2006-6-07_11-26-53.interpolated_spike_positions.npy... 2006-6-07_11-26-53.interpolated_spike_positions.npy saved\n",
      "done.\n",
      "Loading matlab import file results : /nfs/turbo/umms-kdiba/Data/KDIBA/gor01/one/2006-6-07_11-26-53/2006-6-07_11-26-53.laps_info.mat... done.\n",
      "setting laps object.\n",
      "session.laps loaded successfully!\n",
      "Loading matlab import file results : /nfs/turbo/umms-kdiba/Data/KDIBA/gor01/one/2006-6-07_11-26-53/2006-6-07_11-26-53.replay_info.mat... done.\n",
      "session.replays loaded successfully!\n",
      "Loading success: /nfs/turbo/umms-kdiba/Data/KDIBA/gor01/one/2006-6-07_11-26-53/ripple_df.pkl.\n",
      "Failure loading .mua.npy. Must recompute.\n",
      "\n",
      "computing neurons mua for session...\n",
      "\n"
     ]
    },
    {
     "ename": "KeyboardInterrupt",
     "evalue": "",
     "output_type": "error",
     "traceback": [
      "\u001b[0;31m---------------------------------------------------------------------------\u001b[0m",
      "\u001b[0;31mKeyboardInterrupt\u001b[0m                         Traceback (most recent call last)",
      "Cell \u001b[0;32mIn[4], line 21\u001b[0m\n\u001b[1;32m     10\u001b[0m active_computation_functions_name_includelist\u001b[38;5;241m=\u001b[39m[\u001b[38;5;124m'\u001b[39m\u001b[38;5;124m_perform_baseline_placefield_computation\u001b[39m\u001b[38;5;124m'\u001b[39m,\n\u001b[1;32m     11\u001b[0m                                         \u001b[38;5;66;03m# '_perform_time_dependent_placefield_computation',\u001b[39;00m\n\u001b[1;32m     12\u001b[0m                                         \u001b[38;5;124m'\u001b[39m\u001b[38;5;124m_perform_extended_statistics_computation\u001b[39m\u001b[38;5;124m'\u001b[39m,\n\u001b[0;32m   (...)\u001b[0m\n\u001b[1;32m     18\u001b[0m                                         \u001b[38;5;66;03m# '_perform_recursive_latent_placefield_decoding'\u001b[39;00m\n\u001b[1;32m     19\u001b[0m                                     ]\n\u001b[1;32m     20\u001b[0m \u001b[38;5;66;03m# active_computation_functions_name_includelist=['_perform_baseline_placefield_computation']\u001b[39;00m\n\u001b[0;32m---> 21\u001b[0m \u001b[43mglobal_batch_run\u001b[49m\u001b[38;5;241;43m.\u001b[39;49m\u001b[43mexecute_all\u001b[49m\u001b[43m(\u001b[49m\u001b[43mforce_reload\u001b[49m\u001b[38;5;241;43m=\u001b[39;49m\u001b[43mforce_reload\u001b[49m\u001b[43m,\u001b[49m\u001b[43m \u001b[49m\u001b[43msaving_mode\u001b[49m\u001b[38;5;241;43m=\u001b[39;49m\u001b[43mPipelineSavingScheme\u001b[49m\u001b[38;5;241;43m.\u001b[39;49m\u001b[43mSKIP_SAVING\u001b[49m\u001b[43m,\u001b[49m\u001b[43m \u001b[49m\u001b[43mskip_extended_batch_computations\u001b[49m\u001b[38;5;241;43m=\u001b[39;49m\u001b[38;5;28;43;01mTrue\u001b[39;49;00m\u001b[43m,\u001b[49m\u001b[43m \u001b[49m\u001b[43mpost_run_callback_fn\u001b[49m\u001b[38;5;241;43m=\u001b[39;49m\u001b[43mresult_handler\u001b[49m\u001b[38;5;241;43m.\u001b[39;49m\u001b[43mon_complete_success_execution_session\u001b[49m\u001b[43m,\u001b[49m\n\u001b[1;32m     22\u001b[0m \u001b[43m                                                                                        \u001b[49m\u001b[38;5;241;43m*\u001b[39;49m\u001b[38;5;241;43m*\u001b[39;49m\u001b[43m{\u001b[49m\u001b[38;5;124;43m'\u001b[39;49m\u001b[38;5;124;43mcomputation_functions_name_includelist\u001b[39;49m\u001b[38;5;124;43m'\u001b[39;49m\u001b[43m:\u001b[49m\u001b[43m \u001b[49m\u001b[43mactive_computation_functions_name_includelist\u001b[49m\u001b[43m,\u001b[49m\n\u001b[1;32m     23\u001b[0m \u001b[43m                                                                                            \u001b[49m\u001b[38;5;124;43m'\u001b[39;49m\u001b[38;5;124;43mactive_session_computation_configs\u001b[39;49m\u001b[38;5;124;43m'\u001b[39;49m\u001b[43m:\u001b[49m\u001b[43m \u001b[49m\u001b[38;5;28;43;01mNone\u001b[39;49;00m\u001b[43m,\u001b[49m\n\u001b[1;32m     24\u001b[0m \u001b[43m                                                                                            \u001b[49m\u001b[38;5;124;43m'\u001b[39;49m\u001b[38;5;124;43mallow_processing_previously_completed\u001b[39;49m\u001b[38;5;124;43m'\u001b[39;49m\u001b[43m:\u001b[49m\u001b[43m \u001b[49m\u001b[38;5;28;43;01mFalse\u001b[39;49;00m\u001b[43m}\u001b[49m\u001b[43m,\u001b[49m\u001b[43m \u001b[49m\u001b[38;5;241;43m*\u001b[39;49m\u001b[38;5;241;43m*\u001b[39;49m\u001b[43mmultiprocessing_kwargs\u001b[49m\u001b[43m)\u001b[49m \u001b[38;5;66;03m# can override `active_session_computation_configs` if we want to set custom ones like only the laps.)\u001b[39;00m\n\u001b[1;32m     26\u001b[0m \u001b[38;5;66;03m# 4m 39.8s\u001b[39;00m\n",
      "File \u001b[0;32m~/repos/pyPhoPlaceCellAnalysis/src/pyphoplacecellanalysis/General/Batch/runBatch.py:171\u001b[0m, in \u001b[0;36mBatchRun.execute_all\u001b[0;34m(self, use_multiprocessing, num_processes, **kwargs)\u001b[0m\n\u001b[1;32m    168\u001b[0m \u001b[38;5;28;01melse\u001b[39;00m:\n\u001b[1;32m    169\u001b[0m     \u001b[38;5;66;03m# No multiprocessing, fall back to the normal way.\u001b[39;00m\n\u001b[1;32m    170\u001b[0m     \u001b[38;5;28;01mfor\u001b[39;00m curr_session_context, curr_session_status \u001b[38;5;129;01min\u001b[39;00m \u001b[38;5;28mself\u001b[39m\u001b[38;5;241m.\u001b[39msession_batch_status\u001b[38;5;241m.\u001b[39mitems():\n\u001b[0;32m--> 171\u001b[0m         \u001b[38;5;28;43mself\u001b[39;49m\u001b[38;5;241;43m.\u001b[39;49m\u001b[43mexecute_session\u001b[49m\u001b[43m(\u001b[49m\u001b[43mcurr_session_context\u001b[49m\u001b[43m,\u001b[49m\u001b[43m \u001b[49m\u001b[38;5;241;43m*\u001b[39;49m\u001b[38;5;241;43m*\u001b[39;49m\u001b[43mkwargs\u001b[49m\u001b[43m)\u001b[49m\n",
      "File \u001b[0;32m~/repos/pyPhoPlaceCellAnalysis/src/pyphoplacecellanalysis/General/Batch/runBatch.py:129\u001b[0m, in \u001b[0;36mBatchRun.execute_session\u001b[0;34m(self, session_context, post_run_callback_fn, **kwargs)\u001b[0m\n\u001b[1;32m    127\u001b[0m \u001b[38;5;28;01mif\u001b[39;00m (curr_session_status \u001b[38;5;241m!=\u001b[39m SessionBatchProgress\u001b[38;5;241m.\u001b[39mCOMPLETED) \u001b[38;5;129;01mor\u001b[39;00m enable_calling_completion_handler_for_previously_completed:\n\u001b[1;32m    128\u001b[0m         curr_session_basedir \u001b[38;5;241m=\u001b[39m \u001b[38;5;28mself\u001b[39m\u001b[38;5;241m.\u001b[39msession_batch_basedirs[session_context]\n\u001b[0;32m--> 129\u001b[0m         \u001b[38;5;28mself\u001b[39m\u001b[38;5;241m.\u001b[39msession_batch_status[session_context], \u001b[38;5;28mself\u001b[39m\u001b[38;5;241m.\u001b[39msession_batch_errors[session_context], \u001b[38;5;28mself\u001b[39m\u001b[38;5;241m.\u001b[39msession_batch_outputs[session_context] \u001b[38;5;241m=\u001b[39m \u001b[43mrun_specific_batch\u001b[49m\u001b[43m(\u001b[49m\u001b[38;5;28;43mself\u001b[39;49m\u001b[43m,\u001b[49m\u001b[43m \u001b[49m\u001b[43msession_context\u001b[49m\u001b[43m,\u001b[49m\u001b[43m \u001b[49m\u001b[43mcurr_session_basedir\u001b[49m\u001b[43m,\u001b[49m\u001b[43m \u001b[49m\u001b[43mpost_run_callback_fn\u001b[49m\u001b[38;5;241;43m=\u001b[39;49m\u001b[43mpost_run_callback_fn\u001b[49m\u001b[43m,\u001b[49m\u001b[43m \u001b[49m\u001b[38;5;241;43m*\u001b[39;49m\u001b[38;5;241;43m*\u001b[39;49m\u001b[43mkwargs\u001b[49m\u001b[43m)\u001b[49m\n\u001b[1;32m    130\u001b[0m \u001b[38;5;28;01melse\u001b[39;00m:\n\u001b[1;32m    131\u001b[0m     \u001b[38;5;28mprint\u001b[39m(\u001b[38;5;124mf\u001b[39m\u001b[38;5;124m'\u001b[39m\u001b[38;5;124msession \u001b[39m\u001b[38;5;132;01m{\u001b[39;00msession_context\u001b[38;5;132;01m}\u001b[39;00m\u001b[38;5;124m already completed.\u001b[39m\u001b[38;5;124m'\u001b[39m)\n",
      "File \u001b[0;32m~/repos/pyPhoPlaceCellAnalysis/src/pyphoplacecellanalysis/General/Batch/runBatch.py:904\u001b[0m, in \u001b[0;36mrun_specific_batch\u001b[0;34m(active_batch_run, curr_session_context, curr_session_basedir, force_reload, post_run_callback_fn, **kwargs)\u001b[0m\n\u001b[1;32m    901\u001b[0m debug_print \u001b[38;5;241m=\u001b[39m kwargs\u001b[38;5;241m.\u001b[39mpop(\u001b[38;5;124m'\u001b[39m\u001b[38;5;124mdebug_print\u001b[39m\u001b[38;5;124m'\u001b[39m, \u001b[38;5;28;01mFalse\u001b[39;00m)\n\u001b[1;32m    903\u001b[0m \u001b[38;5;28;01mtry\u001b[39;00m:\n\u001b[0;32m--> 904\u001b[0m     curr_active_pipeline \u001b[38;5;241m=\u001b[39m \u001b[43mbatch_load_session\u001b[49m\u001b[43m(\u001b[49m\u001b[43mactive_batch_run\u001b[49m\u001b[38;5;241;43m.\u001b[39;49m\u001b[43mglobal_data_root_parent_path\u001b[49m\u001b[43m,\u001b[49m\u001b[43m \u001b[49m\u001b[43mactive_data_mode_name\u001b[49m\u001b[43m,\u001b[49m\u001b[43m \u001b[49m\u001b[43mbasedir\u001b[49m\u001b[43m,\u001b[49m\u001b[43m \u001b[49m\u001b[43mepoch_name_includelist\u001b[49m\u001b[38;5;241;43m=\u001b[39;49m\u001b[43mepoch_name_includelist\u001b[49m\u001b[43m,\u001b[49m\n\u001b[1;32m    905\u001b[0m \u001b[43m                                    \u001b[49m\u001b[43mcomputation_functions_name_includelist\u001b[49m\u001b[38;5;241;43m=\u001b[39;49m\u001b[43mactive_computation_functions_name_includelist\u001b[49m\u001b[43m,\u001b[49m\n\u001b[1;32m    906\u001b[0m \u001b[43m                                    \u001b[49m\u001b[43msaving_mode\u001b[49m\u001b[38;5;241;43m=\u001b[39;49m\u001b[43msaving_mode\u001b[49m\u001b[43m,\u001b[49m\u001b[43m \u001b[49m\u001b[43mforce_reload\u001b[49m\u001b[38;5;241;43m=\u001b[39;49m\u001b[43mforce_reload\u001b[49m\u001b[43m,\u001b[49m\u001b[43m \u001b[49m\u001b[43mskip_extended_batch_computations\u001b[49m\u001b[38;5;241;43m=\u001b[39;49m\u001b[43mskip_extended_batch_computations\u001b[49m\u001b[43m,\u001b[49m\u001b[43m \u001b[49m\u001b[43mdebug_print\u001b[49m\u001b[38;5;241;43m=\u001b[39;49m\u001b[43mdebug_print\u001b[49m\u001b[43m,\u001b[49m\u001b[43m \u001b[49m\u001b[43mfail_on_exception\u001b[49m\u001b[38;5;241;43m=\u001b[39;49m\u001b[43mfail_on_exception\u001b[49m\u001b[43m,\u001b[49m\u001b[43m \u001b[49m\u001b[38;5;241;43m*\u001b[39;49m\u001b[38;5;241;43m*\u001b[39;49m\u001b[43mkwargs\u001b[49m\u001b[43m)\u001b[49m\n\u001b[1;32m    908\u001b[0m \u001b[38;5;28;01mexcept\u001b[39;00m \u001b[38;5;167;01mException\u001b[39;00m \u001b[38;5;28;01mas\u001b[39;00m e:\n\u001b[1;32m    909\u001b[0m     \u001b[38;5;28;01mreturn\u001b[39;00m (SessionBatchProgress\u001b[38;5;241m.\u001b[39mFAILED, e, \u001b[38;5;28;01mNone\u001b[39;00m) \u001b[38;5;66;03m# return the Failed status and the exception that occured.\u001b[39;00m\n",
      "File \u001b[0;32m~/repos/pyPhoPlaceCellAnalysis/src/pyphoplacecellanalysis/General/Batch/NonInteractiveProcessing.py:186\u001b[0m, in \u001b[0;36mbatch_load_session\u001b[0;34m(global_data_root_parent_path, active_data_mode_name, basedir, force_reload, saving_mode, fail_on_exception, skip_extended_batch_computations, **kwargs)\u001b[0m\n\u001b[1;32m    183\u001b[0m active_data_mode_type_properties \u001b[38;5;241m=\u001b[39m known_data_session_type_properties_dict[active_data_mode_name]\n\u001b[1;32m    185\u001b[0m \u001b[38;5;66;03m## Begin main run of the pipeline (load or execute):\u001b[39;00m\n\u001b[0;32m--> 186\u001b[0m curr_active_pipeline \u001b[38;5;241m=\u001b[39m \u001b[43mNeuropyPipeline\u001b[49m\u001b[38;5;241;43m.\u001b[39;49m\u001b[43mtry_init_from_saved_pickle_or_reload_if_needed\u001b[49m\u001b[43m(\u001b[49m\u001b[43mactive_data_mode_name\u001b[49m\u001b[43m,\u001b[49m\u001b[43m \u001b[49m\u001b[43mactive_data_mode_type_properties\u001b[49m\u001b[43m,\u001b[49m\n\u001b[1;32m    187\u001b[0m \u001b[43m    \u001b[49m\u001b[43moverride_basepath\u001b[49m\u001b[38;5;241;43m=\u001b[39;49m\u001b[43mPath\u001b[49m\u001b[43m(\u001b[49m\u001b[43mbasedir\u001b[49m\u001b[43m)\u001b[49m\u001b[43m,\u001b[49m\u001b[43m \u001b[49m\u001b[43mforce_reload\u001b[49m\u001b[38;5;241;43m=\u001b[39;49m\u001b[43mforce_reload\u001b[49m\u001b[43m,\u001b[49m\u001b[43m \u001b[49m\u001b[43mactive_pickle_filename\u001b[49m\u001b[38;5;241;43m=\u001b[39;49m\u001b[43mactive_pickle_filename\u001b[49m\u001b[43m,\u001b[49m\u001b[43m \u001b[49m\u001b[43mskip_save_on_initial_load\u001b[49m\u001b[38;5;241;43m=\u001b[39;49m\u001b[38;5;28;43;01mTrue\u001b[39;49;00m\u001b[43m)\u001b[49m\n\u001b[1;32m    189\u001b[0m was_loaded_from_file: \u001b[38;5;28mbool\u001b[39m \u001b[38;5;241m=\u001b[39m  curr_active_pipeline\u001b[38;5;241m.\u001b[39mhas_associated_pickle \u001b[38;5;66;03m# True if pipeline was loaded from an existing file, False if it was created fresh\u001b[39;00m\n\u001b[1;32m    192\u001b[0m active_session_filter_configurations \u001b[38;5;241m=\u001b[39m active_data_mode_registered_class\u001b[38;5;241m.\u001b[39mbuild_default_filter_functions(sess\u001b[38;5;241m=\u001b[39mcurr_active_pipeline\u001b[38;5;241m.\u001b[39msess, epoch_name_includelist\u001b[38;5;241m=\u001b[39mepoch_name_includelist) \u001b[38;5;66;03m# build_filters_pyramidal_epochs(sess=curr_kdiba_pipeline.sess)\u001b[39;00m\n",
      "File \u001b[0;32m~/repos/pyPhoPlaceCellAnalysis/src/pyphoplacecellanalysis/General/Pipeline/NeuropyPipeline.py:281\u001b[0m, in \u001b[0;36mNeuropyPipeline.try_init_from_saved_pickle_or_reload_if_needed\u001b[0;34m(cls, type_name, known_type_properties, override_basepath, override_post_load_functions, force_reload, active_pickle_filename, skip_save_on_initial_load, progress_print, debug_print)\u001b[0m\n\u001b[1;32m    279\u001b[0m \u001b[38;5;28;01mif\u001b[39;00m debug_print:\n\u001b[1;32m    280\u001b[0m     \u001b[38;5;28mprint\u001b[39m(\u001b[38;5;124mf\u001b[39m\u001b[38;5;124m'\u001b[39m\u001b[38;5;124mMust reload/rebuild.\u001b[39m\u001b[38;5;124m'\u001b[39m)\n\u001b[0;32m--> 281\u001b[0m curr_active_pipeline \u001b[38;5;241m=\u001b[39m \u001b[38;5;28;43mcls\u001b[39;49m\u001b[38;5;241;43m.\u001b[39;49m\u001b[43minit_from_known_data_session_type\u001b[49m\u001b[43m(\u001b[49m\u001b[43mtype_name\u001b[49m\u001b[43m,\u001b[49m\u001b[43m \u001b[49m\u001b[43mknown_type_properties\u001b[49m\u001b[43m,\u001b[49m\u001b[43m \u001b[49m\u001b[43moverride_basepath\u001b[49m\u001b[38;5;241;43m=\u001b[39;49m\u001b[43mPath\u001b[49m\u001b[43m(\u001b[49m\u001b[43mbasepath\u001b[49m\u001b[43m)\u001b[49m\u001b[43m,\u001b[49m\u001b[43m \u001b[49m\u001b[43moverride_post_load_functions\u001b[49m\u001b[38;5;241;43m=\u001b[39;49m\u001b[43mpost_load_functions\u001b[49m\u001b[43m)\u001b[49m\n\u001b[1;32m    282\u001b[0m \u001b[38;5;66;03m# Save reloaded pipeline out to pickle for future loading\u001b[39;00m\n\u001b[1;32m    283\u001b[0m \u001b[38;5;28;01mif\u001b[39;00m \u001b[38;5;129;01mnot\u001b[39;00m skip_save_on_initial_load:\n",
      "File \u001b[0;32m~/repos/pyPhoPlaceCellAnalysis/src/pyphoplacecellanalysis/General/Pipeline/NeuropyPipeline.py:152\u001b[0m, in \u001b[0;36mNeuropyPipeline.init_from_known_data_session_type\u001b[0;34m(cls, type_name, known_type_properties, override_basepath, override_post_load_functions)\u001b[0m\n\u001b[1;32m    149\u001b[0m \u001b[38;5;28;01melse\u001b[39;00m:\n\u001b[1;32m    150\u001b[0m     post_load_functions \u001b[38;5;241m=\u001b[39m known_type_properties\u001b[38;5;241m.\u001b[39mpost_load_functions\n\u001b[0;32m--> 152\u001b[0m \u001b[38;5;28;01mreturn\u001b[39;00m \u001b[38;5;28;43mcls\u001b[39;49m\u001b[43m(\u001b[49m\u001b[43mname\u001b[49m\u001b[38;5;241;43m=\u001b[39;49m\u001b[38;5;124;43mf\u001b[39;49m\u001b[38;5;124;43m'\u001b[39;49m\u001b[38;5;132;43;01m{\u001b[39;49;00m\u001b[43mtype_name\u001b[49m\u001b[38;5;132;43;01m}\u001b[39;49;00m\u001b[38;5;124;43m_pipeline\u001b[39;49m\u001b[38;5;124;43m'\u001b[39;49m\u001b[43m,\u001b[49m\u001b[43m \u001b[49m\u001b[43msession_data_type\u001b[49m\u001b[38;5;241;43m=\u001b[39;49m\u001b[43mtype_name\u001b[49m\u001b[43m,\u001b[49m\u001b[43m \u001b[49m\u001b[43mbasedir\u001b[49m\u001b[38;5;241;43m=\u001b[39;49m\u001b[43mbasepath\u001b[49m\u001b[43m,\u001b[49m\n\u001b[1;32m    153\u001b[0m \u001b[43m    \u001b[49m\u001b[43mload_function\u001b[49m\u001b[38;5;241;43m=\u001b[39;49m\u001b[43mknown_type_properties\u001b[49m\u001b[38;5;241;43m.\u001b[39;49m\u001b[43mload_function\u001b[49m\u001b[43m,\u001b[49m\u001b[43m \u001b[49m\u001b[43mpost_load_functions\u001b[49m\u001b[38;5;241;43m=\u001b[39;49m\u001b[43mpost_load_functions\u001b[49m\u001b[43m)\u001b[49m\n",
      "File \u001b[0;32m~/repos/pyPhoPlaceCellAnalysis/src/pyphoplacecellanalysis/General/Pipeline/NeuropyPipeline.py:133\u001b[0m, in \u001b[0;36mNeuropyPipeline.__init__\u001b[0;34m(self, name, session_data_type, basedir, load_function, post_load_functions, parent, **kwargs)\u001b[0m\n\u001b[1;32m    130\u001b[0m \u001b[38;5;28mself\u001b[39m\u001b[38;5;241m.\u001b[39m_registered_output_files \u001b[38;5;241m=\u001b[39m \u001b[38;5;28;01mNone\u001b[39;00m \u001b[38;5;66;03m# for RegisteredOutputsMixin\u001b[39;00m\n\u001b[1;32m    132\u001b[0m _stage_changed_connection \u001b[38;5;241m=\u001b[39m \u001b[38;5;28mself\u001b[39m\u001b[38;5;241m.\u001b[39msigStageChanged\u001b[38;5;241m.\u001b[39mconnect(\u001b[38;5;28mself\u001b[39m\u001b[38;5;241m.\u001b[39mon_stage_changed)\n\u001b[0;32m--> 133\u001b[0m \u001b[38;5;28;43mself\u001b[39;49m\u001b[38;5;241;43m.\u001b[39;49m\u001b[43mset_input\u001b[49m\u001b[43m(\u001b[49m\u001b[43mname\u001b[49m\u001b[38;5;241;43m=\u001b[39;49m\u001b[43mname\u001b[49m\u001b[43m,\u001b[49m\u001b[43m \u001b[49m\u001b[43msession_data_type\u001b[49m\u001b[38;5;241;43m=\u001b[39;49m\u001b[43msession_data_type\u001b[49m\u001b[43m,\u001b[49m\u001b[43m \u001b[49m\u001b[43mbasedir\u001b[49m\u001b[38;5;241;43m=\u001b[39;49m\u001b[43mbasedir\u001b[49m\u001b[43m,\u001b[49m\u001b[43m \u001b[49m\u001b[43mload_function\u001b[49m\u001b[38;5;241;43m=\u001b[39;49m\u001b[43mload_function\u001b[49m\u001b[43m,\u001b[49m\u001b[43m \u001b[49m\u001b[43mpost_load_functions\u001b[49m\u001b[38;5;241;43m=\u001b[39;49m\u001b[43mpost_load_functions\u001b[49m\u001b[43m)\u001b[49m\n",
      "File \u001b[0;32m~/repos/pyPhoPlaceCellAnalysis/src/pyphoplacecellanalysis/General/Pipeline/Stages/Loading.py:226\u001b[0m, in \u001b[0;36mPipelineWithInputStage.set_input\u001b[0;34m(self, session_data_type, basedir, load_function, post_load_functions, auto_load, **kwargs)\u001b[0m\n\u001b[1;32m    219\u001b[0m \u001b[38;5;28mself\u001b[39m\u001b[38;5;241m.\u001b[39mstage \u001b[38;5;241m=\u001b[39m InputPipelineStage(\n\u001b[1;32m    220\u001b[0m     stage_name\u001b[38;5;241m=\u001b[39m\u001b[38;5;124mf\u001b[39m\u001b[38;5;124m\"\u001b[39m\u001b[38;5;132;01m{\u001b[39;00m\u001b[38;5;28mself\u001b[39m\u001b[38;5;241m.\u001b[39mpipeline_name\u001b[38;5;132;01m}\u001b[39;00m\u001b[38;5;124m_input\u001b[39m\u001b[38;5;124m\"\u001b[39m,\n\u001b[1;32m    221\u001b[0m     basedir\u001b[38;5;241m=\u001b[39mactive_basedir,\n\u001b[1;32m    222\u001b[0m     load_function\u001b[38;5;241m=\u001b[39mload_function,\n\u001b[1;32m    223\u001b[0m     post_load_functions\u001b[38;5;241m=\u001b[39mpost_load_functions\n\u001b[1;32m    224\u001b[0m )\n\u001b[1;32m    225\u001b[0m \u001b[38;5;28;01mif\u001b[39;00m auto_load:\n\u001b[0;32m--> 226\u001b[0m     \u001b[38;5;28;43mself\u001b[39;49m\u001b[38;5;241;43m.\u001b[39;49m\u001b[43mload\u001b[49m\u001b[43m(\u001b[49m\u001b[43m)\u001b[49m\n",
      "File \u001b[0;32m~/repos/pyPhoPlaceCellAnalysis/src/pyphoplacecellanalysis/General/Pipeline/Stages/Loading.py:337\u001b[0m, in \u001b[0;36mPipelineWithLoadableStage.load\u001b[0;34m(self)\u001b[0m\n\u001b[1;32m    336\u001b[0m \u001b[38;5;28;01mdef\u001b[39;00m \u001b[38;5;21mload\u001b[39m(\u001b[38;5;28mself\u001b[39m):\n\u001b[0;32m--> 337\u001b[0m     \u001b[38;5;28;43mself\u001b[39;49m\u001b[38;5;241;43m.\u001b[39;49m\u001b[43mstage\u001b[49m\u001b[38;5;241;43m.\u001b[39;49m\u001b[43mload\u001b[49m\u001b[43m(\u001b[49m\u001b[43m)\u001b[49m  \u001b[38;5;66;03m# perform the load operation:\u001b[39;00m\n\u001b[1;32m    338\u001b[0m     \u001b[38;5;28mself\u001b[39m\u001b[38;5;241m.\u001b[39mstage \u001b[38;5;241m=\u001b[39m LoadedPipelineStage(\u001b[38;5;28mself\u001b[39m\u001b[38;5;241m.\u001b[39mstage)  \u001b[38;5;66;03m# build the loaded stage\u001b[39;00m\n\u001b[1;32m    339\u001b[0m     \u001b[38;5;28mself\u001b[39m\u001b[38;5;241m.\u001b[39mstage\u001b[38;5;241m.\u001b[39mpost_load(progress_logger\u001b[38;5;241m=\u001b[39m\u001b[38;5;28mself\u001b[39m\u001b[38;5;241m.\u001b[39mlogger)\n",
      "File \u001b[0;32m~/repos/pyPhoPlaceCellAnalysis/src/pyphoplacecellanalysis/General/Pipeline/Stages/Loading.py:109\u001b[0m, in \u001b[0;36mLoadableInput.load\u001b[0;34m(self)\u001b[0m\n\u001b[1;32m    107\u001b[0m \u001b[38;5;28mself\u001b[39m\u001b[38;5;241m.\u001b[39mloaded_data \u001b[38;5;241m=\u001b[39m \u001b[38;5;28mdict\u001b[39m()\n\u001b[1;32m    108\u001b[0m \u001b[38;5;66;03m# call the internal load_function with the self.basedir.\u001b[39;00m\n\u001b[0;32m--> 109\u001b[0m \u001b[38;5;28mself\u001b[39m\u001b[38;5;241m.\u001b[39mloaded_data[\u001b[38;5;124m\"\u001b[39m\u001b[38;5;124msess\u001b[39m\u001b[38;5;124m\"\u001b[39m] \u001b[38;5;241m=\u001b[39m \u001b[38;5;28;43mself\u001b[39;49m\u001b[38;5;241;43m.\u001b[39;49m\u001b[43mload_function\u001b[49m\u001b[43m(\u001b[49m\u001b[38;5;28;43mself\u001b[39;49m\u001b[38;5;241;43m.\u001b[39;49m\u001b[43mbasedir\u001b[49m\u001b[43m)\u001b[49m\n\u001b[1;32m    111\u001b[0m \u001b[38;5;28;01mpass\u001b[39;00m\n",
      "File \u001b[0;32m~/repos/NeuroPy/neuropy/core/session/Formats/Specific/KDibaOldDataSessionFormat.py:182\u001b[0m, in \u001b[0;36mKDibaOldDataSessionFormatRegisteredClass.get_known_data_session_type_properties.<locals>.<lambda>\u001b[0;34m(a_base_dir)\u001b[0m\n\u001b[1;32m    180\u001b[0m \u001b[38;5;28;01melse\u001b[39;00m:\n\u001b[1;32m    181\u001b[0m     basepath \u001b[38;5;241m=\u001b[39m Path(\u001b[38;5;28mcls\u001b[39m\u001b[38;5;241m.\u001b[39m_session_default_basedir)\n\u001b[0;32m--> 182\u001b[0m \u001b[38;5;28;01mreturn\u001b[39;00m KnownDataSessionTypeProperties(load_function\u001b[38;5;241m=\u001b[39m(\u001b[38;5;28;01mlambda\u001b[39;00m a_base_dir: \u001b[38;5;28;43mcls\u001b[39;49m\u001b[38;5;241;43m.\u001b[39;49m\u001b[43mget_session\u001b[49m\u001b[43m(\u001b[49m\u001b[43mbasedir\u001b[49m\u001b[38;5;241;43m=\u001b[39;49m\u001b[43ma_base_dir\u001b[49m\u001b[43m)\u001b[49m), \n\u001b[1;32m    183\u001b[0m                         basedir\u001b[38;5;241m=\u001b[39mbasepath, post_load_functions\u001b[38;5;241m=\u001b[39m[\u001b[38;5;28;01mlambda\u001b[39;00m a_loaded_sess: \u001b[38;5;28mcls\u001b[39m\u001b[38;5;241m.\u001b[39mPOSTLOAD_estimate_laps_and_replays(a_loaded_sess)])\n",
      "File \u001b[0;32m~/repos/NeuroPy/neuropy/core/session/Formats/BaseDataSessionFormats.py:264\u001b[0m, in \u001b[0;36mDataSessionFormatBaseRegisteredClass.get_session\u001b[0;34m(cls, basedir)\u001b[0m\n\u001b[1;32m    261\u001b[0m \u001b[38;5;129m@classmethod\u001b[39m\n\u001b[1;32m    262\u001b[0m \u001b[38;5;28;01mdef\u001b[39;00m \u001b[38;5;21mget_session\u001b[39m(\u001b[38;5;28mcls\u001b[39m, basedir):\n\u001b[1;32m    263\u001b[0m     _test_session \u001b[38;5;241m=\u001b[39m \u001b[38;5;28mcls\u001b[39m\u001b[38;5;241m.\u001b[39mbuild_session(Path(basedir))\n\u001b[0;32m--> 264\u001b[0m     _test_session, loaded_file_record_list \u001b[38;5;241m=\u001b[39m \u001b[38;5;28;43mcls\u001b[39;49m\u001b[38;5;241;43m.\u001b[39;49m\u001b[43mload_session\u001b[49m\u001b[43m(\u001b[49m\u001b[43m_test_session\u001b[49m\u001b[43m)\u001b[49m\n\u001b[1;32m    265\u001b[0m     \u001b[38;5;28;01mreturn\u001b[39;00m _test_session\n",
      "File \u001b[0;32m~/repos/NeuroPy/neuropy/core/session/Formats/Specific/KDibaOldDataSessionFormat.py:530\u001b[0m, in \u001b[0;36mKDibaOldDataSessionFormatRegisteredClass.load_session\u001b[0;34m(cls, session, debug_print)\u001b[0m\n\u001b[1;32m    527\u001b[0m session\u001b[38;5;241m.\u001b[39mflattened_spiketrains \u001b[38;5;241m=\u001b[39m FlattenedSpiketrains(spikes_df, time_variable_name\u001b[38;5;241m=\u001b[39mactive_time_variable_name)\n\u001b[1;32m    529\u001b[0m \u001b[38;5;66;03m# Common Extended properties:\u001b[39;00m\n\u001b[0;32m--> 530\u001b[0m session \u001b[38;5;241m=\u001b[39m \u001b[38;5;28;43mcls\u001b[39;49m\u001b[38;5;241;43m.\u001b[39;49m\u001b[43m_default_extended_postload\u001b[49m\u001b[43m(\u001b[49m\u001b[43msession\u001b[49m\u001b[38;5;241;43m.\u001b[39;49m\u001b[43mfilePrefix\u001b[49m\u001b[43m,\u001b[49m\u001b[43m \u001b[49m\u001b[43msession\u001b[49m\u001b[43m,\u001b[49m\u001b[43m \u001b[49m\u001b[43mforce_recompute\u001b[49m\u001b[38;5;241;43m=\u001b[39;49m\u001b[38;5;28;43;01mTrue\u001b[39;49;00m\u001b[43m)\u001b[49m\n\u001b[1;32m    531\u001b[0m session\u001b[38;5;241m.\u001b[39mis_loaded \u001b[38;5;241m=\u001b[39m \u001b[38;5;28;01mTrue\u001b[39;00m \u001b[38;5;66;03m# indicate the session is loaded\u001b[39;00m\n\u001b[1;32m    534\u001b[0m \u001b[38;5;28;01mreturn\u001b[39;00m session, loaded_file_record_list\n",
      "File \u001b[0;32m~/repos/NeuroPy/neuropy/core/session/Formats/BaseDataSessionFormats.py:506\u001b[0m, in \u001b[0;36mDataSessionFormatBaseRegisteredClass._default_extended_postload\u001b[0;34m(cls, fp, session, **kwargs)\u001b[0m\n\u001b[1;32m    504\u001b[0m \u001b[38;5;28mprint\u001b[39m(\u001b[38;5;124m'\u001b[39m\u001b[38;5;124mFailure loading \u001b[39m\u001b[38;5;132;01m{}\u001b[39;00m\u001b[38;5;124m. Must recompute.\u001b[39m\u001b[38;5;130;01m\\n\u001b[39;00m\u001b[38;5;124m'\u001b[39m\u001b[38;5;241m.\u001b[39mformat(active_file_suffix))\n\u001b[1;32m    505\u001b[0m \u001b[38;5;28;01mtry\u001b[39;00m:\n\u001b[0;32m--> 506\u001b[0m     session\u001b[38;5;241m.\u001b[39mmua \u001b[38;5;241m=\u001b[39m \u001b[43mDataSession\u001b[49m\u001b[38;5;241;43m.\u001b[39;49m\u001b[43mcompute_neurons_mua\u001b[49m\u001b[43m(\u001b[49m\u001b[43msession\u001b[49m\u001b[43m,\u001b[49m\u001b[43m \u001b[49m\u001b[43msave_on_compute\u001b[49m\u001b[38;5;241;43m=\u001b[39;49m\u001b[38;5;28;43;01mTrue\u001b[39;49;00m\u001b[43m)\u001b[49m\n\u001b[1;32m    507\u001b[0m \u001b[38;5;28;01mexcept\u001b[39;00m (\u001b[38;5;167;01mValueError\u001b[39;00m, \u001b[38;5;167;01mAttributeError\u001b[39;00m) \u001b[38;5;28;01mas\u001b[39;00m e:\n\u001b[1;32m    508\u001b[0m     \u001b[38;5;28mprint\u001b[39m(\u001b[38;5;124mf\u001b[39m\u001b[38;5;124m'\u001b[39m\u001b[38;5;124mComputation failed with error \u001b[39m\u001b[38;5;132;01m{\u001b[39;00me\u001b[38;5;132;01m}\u001b[39;00m\u001b[38;5;124m. Skipping .mua\u001b[39m\u001b[38;5;124m'\u001b[39m)\n",
      "File \u001b[0;32m~/repos/NeuroPy/neuropy/core/session/dataSession.py:339\u001b[0m, in \u001b[0;36mDataSession.compute_neurons_mua\u001b[0;34m(session, save_on_compute)\u001b[0m\n\u001b[1;32m    336\u001b[0m \u001b[38;5;129m@staticmethod\u001b[39m\n\u001b[1;32m    337\u001b[0m \u001b[38;5;28;01mdef\u001b[39;00m \u001b[38;5;21mcompute_neurons_mua\u001b[39m(session, save_on_compute\u001b[38;5;241m=\u001b[39m\u001b[38;5;28;01mFalse\u001b[39;00m):\n\u001b[1;32m    338\u001b[0m     \u001b[38;5;28mprint\u001b[39m(\u001b[38;5;124m'\u001b[39m\u001b[38;5;124mcomputing neurons mua for session...\u001b[39m\u001b[38;5;130;01m\\n\u001b[39;00m\u001b[38;5;124m'\u001b[39m)\n\u001b[0;32m--> 339\u001b[0m     mua \u001b[38;5;241m=\u001b[39m \u001b[43msession\u001b[49m\u001b[38;5;241;43m.\u001b[39;49m\u001b[43mneurons\u001b[49m\u001b[38;5;241;43m.\u001b[39;49m\u001b[43mget_mua\u001b[49m\u001b[43m(\u001b[49m\u001b[43m)\u001b[49m\n\u001b[1;32m    340\u001b[0m     \u001b[38;5;28;01mif\u001b[39;00m save_on_compute:\n\u001b[1;32m    341\u001b[0m         mua\u001b[38;5;241m.\u001b[39mfilename \u001b[38;5;241m=\u001b[39m session\u001b[38;5;241m.\u001b[39mfilePrefix\u001b[38;5;241m.\u001b[39mwith_suffix(\u001b[38;5;124m\"\u001b[39m\u001b[38;5;124m.mua.npy\u001b[39m\u001b[38;5;124m\"\u001b[39m)\n",
      "File \u001b[0;32m~/repos/NeuroPy/neuropy/core/neurons.py:436\u001b[0m, in \u001b[0;36mNeurons.get_mua\u001b[0;34m(self, bin_size)\u001b[0m\n\u001b[1;32m    434\u001b[0m all_spikes \u001b[38;5;241m=\u001b[39m \u001b[38;5;28mself\u001b[39m\u001b[38;5;241m.\u001b[39mget_all_spikes()\n\u001b[1;32m    435\u001b[0m bins \u001b[38;5;241m=\u001b[39m np\u001b[38;5;241m.\u001b[39marange(\u001b[38;5;28mself\u001b[39m\u001b[38;5;241m.\u001b[39mt_start, \u001b[38;5;28mself\u001b[39m\u001b[38;5;241m.\u001b[39mt_stop, bin_size)\n\u001b[0;32m--> 436\u001b[0m spike_counts \u001b[38;5;241m=\u001b[39m \u001b[43mnp\u001b[49m\u001b[38;5;241;43m.\u001b[39;49m\u001b[43mhistogram\u001b[49m\u001b[43m(\u001b[49m\u001b[43mall_spikes\u001b[49m\u001b[43m,\u001b[49m\u001b[43m \u001b[49m\u001b[43mbins\u001b[49m\u001b[38;5;241;43m=\u001b[39;49m\u001b[43mbins\u001b[49m\u001b[43m)\u001b[49m[\u001b[38;5;241m0\u001b[39m]\n\u001b[1;32m    437\u001b[0m \u001b[38;5;28;01mreturn\u001b[39;00m Mua(spike_counts\u001b[38;5;241m.\u001b[39mastype(\u001b[38;5;124m\"\u001b[39m\u001b[38;5;124mint\u001b[39m\u001b[38;5;124m\"\u001b[39m), t_start\u001b[38;5;241m=\u001b[39m\u001b[38;5;28mself\u001b[39m\u001b[38;5;241m.\u001b[39mt_start, bin_size\u001b[38;5;241m=\u001b[39mbin_size)\n",
      "File \u001b[0;32m<__array_function__ internals>:180\u001b[0m, in \u001b[0;36mhistogram\u001b[0;34m(*args, **kwargs)\u001b[0m\n",
      "File \u001b[0;32m~/repos/Spike3D/.venv/lib/python3.9/site-packages/numpy/lib/histograms.py:879\u001b[0m, in \u001b[0;36mhistogram\u001b[0;34m(a, bins, range, normed, weights, density)\u001b[0m\n\u001b[1;32m    877\u001b[0m     \u001b[38;5;28;01mfor\u001b[39;00m i \u001b[38;5;129;01min\u001b[39;00m _range(\u001b[38;5;241m0\u001b[39m, \u001b[38;5;28mlen\u001b[39m(a), BLOCK):\n\u001b[1;32m    878\u001b[0m         sa \u001b[38;5;241m=\u001b[39m np\u001b[38;5;241m.\u001b[39msort(a[i:i\u001b[38;5;241m+\u001b[39mBLOCK])\n\u001b[0;32m--> 879\u001b[0m         cum_n \u001b[38;5;241m+\u001b[39m\u001b[38;5;241m=\u001b[39m \u001b[43m_search_sorted_inclusive\u001b[49m\u001b[43m(\u001b[49m\u001b[43msa\u001b[49m\u001b[43m,\u001b[49m\u001b[43m \u001b[49m\u001b[43mbin_edges\u001b[49m\u001b[43m)\u001b[49m\n\u001b[1;32m    880\u001b[0m \u001b[38;5;28;01melse\u001b[39;00m:\n\u001b[1;32m    881\u001b[0m     zero \u001b[38;5;241m=\u001b[39m np\u001b[38;5;241m.\u001b[39mzeros(\u001b[38;5;241m1\u001b[39m, dtype\u001b[38;5;241m=\u001b[39mntype)\n",
      "File \u001b[0;32m~/repos/Spike3D/.venv/lib/python3.9/site-packages/numpy/lib/histograms.py:461\u001b[0m, in \u001b[0;36m_search_sorted_inclusive\u001b[0;34m(a, v)\u001b[0m\n\u001b[1;32m    454\u001b[0m \u001b[38;5;28;01mdef\u001b[39;00m \u001b[38;5;21m_search_sorted_inclusive\u001b[39m(a, v):\n\u001b[1;32m    455\u001b[0m \u001b[38;5;250m    \u001b[39m\u001b[38;5;124;03m\"\"\"\u001b[39;00m\n\u001b[1;32m    456\u001b[0m \u001b[38;5;124;03m    Like `searchsorted`, but where the last item in `v` is placed on the right.\u001b[39;00m\n\u001b[1;32m    457\u001b[0m \n\u001b[1;32m    458\u001b[0m \u001b[38;5;124;03m    In the context of a histogram, this makes the last bin edge inclusive\u001b[39;00m\n\u001b[1;32m    459\u001b[0m \u001b[38;5;124;03m    \"\"\"\u001b[39;00m\n\u001b[1;32m    460\u001b[0m     \u001b[38;5;28;01mreturn\u001b[39;00m np\u001b[38;5;241m.\u001b[39mconcatenate((\n\u001b[0;32m--> 461\u001b[0m         \u001b[43ma\u001b[49m\u001b[38;5;241;43m.\u001b[39;49m\u001b[43msearchsorted\u001b[49m\u001b[43m(\u001b[49m\u001b[43mv\u001b[49m\u001b[43m[\u001b[49m\u001b[43m:\u001b[49m\u001b[38;5;241;43m-\u001b[39;49m\u001b[38;5;241;43m1\u001b[39;49m\u001b[43m]\u001b[49m\u001b[43m,\u001b[49m\u001b[43m \u001b[49m\u001b[38;5;124;43m'\u001b[39;49m\u001b[38;5;124;43mleft\u001b[39;49m\u001b[38;5;124;43m'\u001b[39;49m\u001b[43m)\u001b[49m,\n\u001b[1;32m    462\u001b[0m         a\u001b[38;5;241m.\u001b[39msearchsorted(v[\u001b[38;5;241m-\u001b[39m\u001b[38;5;241m1\u001b[39m:], \u001b[38;5;124m'\u001b[39m\u001b[38;5;124mright\u001b[39m\u001b[38;5;124m'\u001b[39m)\n\u001b[1;32m    463\u001b[0m     ))\n",
      "\u001b[0;31mKeyboardInterrupt\u001b[0m: "
     ]
    }
   ],
   "source": [
    "## I got it doing the bare-minimum loading and computations, so it should be ready to update the laps and constraint the placefields to those. Then we should be able to set up the replays at the same time.\n",
    "# finally, we then finish by computing.\n",
    "# force_reload = True\n",
    "force_reload = True\n",
    "# result_handler = BatchSessionCompletionHandler(force_reload_all=force_reload, should_perform_figure_generation_to_file=True, saving_mode=PipelineSavingScheme.SKIP_SAVING, force_global_recompute=False)\n",
    "result_handler = BatchSessionCompletionHandler(force_reload_all=force_reload, should_perform_figure_generation_to_file=True, should_generate_all_plots=True, saving_mode=PipelineSavingScheme.OVERWRITE_IN_PLACE, force_global_recompute=True)\n",
    "multiprocessing_kwargs = dict(use_multiprocessing=False, num_processes=1)\n",
    "\n",
    "## Execute with the custom arguments.\n",
    "active_computation_functions_name_includelist=['_perform_baseline_placefield_computation',\n",
    "                                        # '_perform_time_dependent_placefield_computation',\n",
    "                                        '_perform_extended_statistics_computation',\n",
    "                                        '_perform_position_decoding_computation', \n",
    "                                        '_perform_firing_rate_trends_computation',\n",
    "                                        '_perform_pf_find_ratemap_peaks_computation',\n",
    "                                        # '_perform_time_dependent_pf_sequential_surprise_computation'\n",
    "                                        '_perform_two_step_position_decoding_computation',\n",
    "                                        # '_perform_recursive_latent_placefield_decoding'\n",
    "                                    ]\n",
    "# active_computation_functions_name_includelist=['_perform_baseline_placefield_computation']\n",
    "global_batch_run.execute_all(force_reload=force_reload, saving_mode=PipelineSavingScheme.SKIP_SAVING, skip_extended_batch_computations=True, post_run_callback_fn=result_handler.on_complete_success_execution_session,\n",
    "                                                                                        **{'computation_functions_name_includelist': active_computation_functions_name_includelist,\n",
    "                                                                                            'active_session_computation_configs': None,\n",
    "                                                                                            'allow_processing_previously_completed': False}, **multiprocessing_kwargs) # can override `active_session_computation_configs` if we want to set custom ones like only the laps.)\n",
    "\n",
    "# 4m 39.8s"
   ]
  },
  {
   "cell_type": "code",
   "execution_count": null,
   "id": "aa5d2321",
   "metadata": {
    "tags": []
   },
   "outputs": [],
   "source": [
    "# Save to file:\n",
    "saveData(global_batch_result_file_path, global_batch_run) # Update the global batch run dictionary"
   ]
  },
  {
   "cell_type": "code",
   "execution_count": null,
   "id": "511725ed-4794-44f4-b398-cf25dcb06201",
   "metadata": {},
   "outputs": [],
   "source": [
    "# list(global_batch_run.session_batch_outputs.keys())\n",
    "\n",
    "# Somewhere in there there are `InstantaneousSpikeRateGroupsComputation` results to extract\n",
    "across_sessions_instantaneous_fr_dict = {} # InstantaneousSpikeRateGroupsComputation\n",
    "\n",
    "for a_ctxt, a_result in global_batch_run.session_batch_outputs.items():\n",
    "    if a_result is not None:\n",
    "        a_good_result = a_result.get('across_sessions_batch_results', {}).get('inst_fr_comps', None)\n",
    "        if a_good_result is not None:\n",
    "            across_sessions_instantaneous_fr_dict[a_ctxt] = a_good_result\n",
    "            # print(a_result['across_sessions_batch_results']['inst_fr_comps'])\n",
    "            \n",
    "num_sessions = len(across_sessions_instantaneous_fr_dict)\n",
    "print(f'num_sessions: {num_sessions}')\n",
    "# When done, `result_handler.across_sessions_instantaneous_fr_dict` is now equivalent to what it would have been before. It can be saved using the normal `.save_across_sessions_data(...)`"
   ]
  },
  {
   "cell_type": "code",
   "execution_count": null,
   "id": "cf462d87-76a1-4a3b-b077-5215f433deb2",
   "metadata": {},
   "outputs": [],
   "source": [
    "## Save the instantaneous firing rate results dict: (# Dict[IdentifyingContext] = InstantaneousSpikeRateGroupsComputation)\n",
    "#TODO 2023-07-12 10:12: - [ ] New save way after we save out current result and reload\n",
    "result_handler.save_across_sessions_data(global_data_root_parent_path=global_data_root_parent_path, inst_fr_output_filename='across_session_result_long_short_inst_firing_rate_2023-07-14.pkl')\n",
    "num_sessions = len(result_handler.across_sessions_instantaneous_fr_dict)\n",
    "print(f'num_sessions: {num_sessions}')"
   ]
  },
  {
   "cell_type": "code",
   "execution_count": null,
   "id": "b2131bc6-efb9-4768-87de-374d857c8227",
   "metadata": {},
   "outputs": [],
   "source": [
    "inst_fr_output_filename='across_session_result_long_short_inst_firing_rate_2023-07-14.pkl'\n",
    "global_batch_result_inst_fr_file_path = Path(global_data_root_parent_path).joinpath(inst_fr_output_filename).resolve() # Use Default\n",
    "print(f'global_batch_result_inst_fr_file_path: {global_batch_result_inst_fr_file_path}')\n",
    "# Save the all sessions instantaneous firing rate dict to the path:\n",
    "saveData(global_batch_result_inst_fr_file_path, across_sessions_instantaneous_fr_dict)"
   ]
  },
  {
   "cell_type": "markdown",
   "id": "be651cc7",
   "metadata": {
    "jp-MarkdownHeadingCollapsed": true,
    "tags": []
   },
   "source": [
    "# 2023-07-14 - Load Saved across-sessions-data and testing Batch-computed inst_firing_rates:"
   ]
  },
  {
   "cell_type": "code",
   "execution_count": null,
   "id": "28ad5bf6",
   "metadata": {},
   "outputs": [],
   "source": [
    "from neuropy.utils.matplotlib_helpers import matplotlib_configuration_update\n",
    "from pyphoplacecellanalysis.General.Batch.PhoDiba2023Paper import PaperFigureTwo, InstantaneousSpikeRateGroupsComputation\n",
    "from pyphoplacecellanalysis.General.Pipeline.Stages.ComputationFunctions.SpikeAnalysis import SpikeRateTrends\n",
    "\n",
    "## Load the saved across-session results:\n",
    "# inst_fr_output_filename = 'long_short_inst_firing_rate_result_handlers_2023-07-12.pkl'\n",
    "inst_fr_output_filename = 'across_session_result_long_short_inst_firing_rate.pkl'\n",
    "across_session_inst_fr_computation, across_sessions_instantaneous_fr_dict, across_sessions_instantaneous_frs_list = BatchSessionCompletionHandler.load_across_sessions_data(global_data_root_parent_path=global_data_root_parent_path, inst_fr_output_filename=inst_fr_output_filename)\n",
    "# across_sessions_instantaneous_fr_dict = loadData(global_batch_result_inst_fr_file_path)\n",
    "num_sessions = len(across_sessions_instantaneous_fr_dict)\n",
    "print(f'num_sessions: {num_sessions}')"
   ]
  },
  {
   "cell_type": "code",
   "execution_count": null,
   "id": "63258151",
   "metadata": {},
   "outputs": [],
   "source": [
    "## Aggregate across all of the sessions to build a new combined `InstantaneousSpikeRateGroupsComputation`, which can be used to plot the \"PaperFigureTwo\", bar plots for many sessions.\n",
    "global_multi_session_context = IdentifyingContext(format_name='kdiba', num_sessions=num_sessions) # some global context across all of the sessions, not sure what to put here.\n",
    "\n",
    "# To correctly aggregate results across sessions, it only makes sense to combine entries at the `.cell_agg_inst_fr_list` variable and lower (as the number of cells can be added across sessions, treated as unique for each session).\n",
    "\n",
    "## Display the aggregate across sessions:\n",
    "_out_fig_2 = PaperFigureTwo(instantaneous_time_bin_size_seconds=0.01) # WARNING: we didn't save this info\n",
    "_out_fig_2.computation_result = across_session_inst_fr_computation\n",
    "_out_fig_2.active_identifying_session_ctx = across_session_inst_fr_computation.active_identifying_session_ctx\n",
    "# Set callback, the only self-specific property\n",
    "# _out_fig_2._pipeline_file_callback_fn = curr_active_pipeline.output_figure # lambda args, kwargs: self.write_to_file(args, kwargs, curr_active_pipeline)"
   ]
  },
  {
   "cell_type": "code",
   "execution_count": null,
   "id": "96c498f8",
   "metadata": {},
   "outputs": [],
   "source": [
    "from pyphoplacecellanalysis.General.Mixins.ExportHelpers import FigureOutputManager, FigureOutputLocation, ContextToPathMode\n",
    "\n",
    "registered_output_files = {}\n",
    "\n",
    "\n",
    "        \n",
    "\n",
    "def output_figure(final_context: IdentifyingContext, fig, write_vector_format:bool=False, write_png:bool=True, debug_print=True):\n",
    "    \"\"\" outputs the figure using the provided context. \"\"\"\n",
    "    from pyphoplacecellanalysis.General.Mixins.ExportHelpers import build_and_write_to_file\n",
    "    def register_output_file(output_path, output_metadata=None):\n",
    "        \"\"\" registers a new output file for the pipeline \"\"\"\n",
    "        print(f'register_output_file(output_path: {output_path}, ...)')\n",
    "        registered_output_files[output_path] = output_metadata or {}\n",
    "\n",
    "    fig_out_man = FigureOutputManager(figure_output_location=FigureOutputLocation.DAILY_PROGRAMMATIC_OUTPUT_FOLDER, context_to_path_mode=ContextToPathMode.HIERARCHY_UNIQUE)\n",
    "    active_out_figure_paths = build_and_write_to_file(fig, final_context, fig_out_man, write_vector_format=write_vector_format, write_png=write_png, register_output_file_fn=register_output_file)\n",
    "    return active_out_figure_paths, final_context\n",
    "\n",
    "\n",
    "# Set callback, the only self-specific property\n",
    "_out_fig_2._pipeline_file_callback_fn = output_figure"
   ]
  },
  {
   "cell_type": "code",
   "execution_count": null,
   "id": "a694ec1c",
   "metadata": {},
   "outputs": [],
   "source": [
    "# Showing\n",
    "restore_previous_matplotlib_settings_callback = matplotlib_configuration_update(is_interactive=True, backend='Qt5Agg')\n",
    "# Perform interactive Matplotlib operations with 'Qt5Agg' backend\n",
    "_fig_2_theta_out, _fig_2_replay_out = _out_fig_2.display(active_context=global_multi_session_context, title_modifier_fn=lambda original_title: f\"{original_title} ({num_sessions} sessions)\", save_figure=True)\n",
    "\t\n",
    "_out_fig_2.perform_save()"
   ]
  },
  {
   "cell_type": "markdown",
   "id": "32781c8b",
   "metadata": {
    "jp-MarkdownHeadingCollapsed": true,
    "tags": []
   },
   "source": [
    "## Single Session testing:\n"
   ]
  },
  {
   "cell_type": "code",
   "execution_count": null,
   "id": "9311a987",
   "metadata": {},
   "outputs": [],
   "source": [
    "_test_out = global_batch_run.execute_session(session_context=curr_sess_context, force_reload=True, skip_extended_batch_computations=True, computation_functions_name_includelist =['_perform_baseline_placefield_computation'], active_session_computation_configs=None) # can override `active_session_computation_configs` if we want to set custom ones like only the laps.)\n",
    "_test_out\n",
    "\n",
    "# global_batch_run.execute_session(session_context=curr_sess_context, force_reload=True, skip_extended_batch_computations=True, **{'computation_functions_name_includelist': ['_perform_baseline_placefield_computation'], 'active_session_computation_configs': None}) # can override `active_session_computation_configs` if we want to set custom ones like only the laps.)\n",
    "\n",
    "# 23.5s"
   ]
  },
  {
   "cell_type": "code",
   "execution_count": null,
   "id": "ddf2bb67",
   "metadata": {
    "tags": []
   },
   "outputs": [],
   "source": [
    "\n",
    "full_good_dirs = [k for k, v in global_batch_run.session_batch_errors.items() if v is None]\n",
    "bad_dirs = [k for k, v in global_batch_run.session_batch_errors.items() if v is not None]\n",
    "full_good_dirs\n",
    "bad_dirs"
   ]
  },
  {
   "cell_type": "code",
   "execution_count": null,
   "id": "9d5f73f9",
   "metadata": {
    "tags": []
   },
   "outputs": [],
   "source": [
    "global_batch_run.session_batch_status"
   ]
  },
  {
   "cell_type": "code",
   "execution_count": null,
   "id": "0dcad70a",
   "metadata": {},
   "outputs": [],
   "source": [
    "global_batch_run.session_batch_status\n",
    "global_batch_run.session_batch_errors"
   ]
  },
  {
   "cell_type": "markdown",
   "id": "15faf2bb",
   "metadata": {
    "jp-MarkdownHeadingCollapsed": true,
    "tags": []
   },
   "source": [
    "# Get good sessions for use in the specific session processing notebook:"
   ]
  },
  {
   "cell_type": "code",
   "execution_count": null,
   "id": "ed516134",
   "metadata": {
    "tags": []
   },
   "outputs": [],
   "source": [
    "batch_progress_df = global_batch_run.to_dataframe(expand_context=True, good_only=False) # all\n",
    "good_only_batch_progress_df = global_batch_run.to_dataframe(expand_context=True, good_only=True)\n",
    "good_only_batch_progress_df"
   ]
  },
  {
   "cell_type": "code",
   "execution_count": null,
   "id": "bdf02efc",
   "metadata": {
    "tags": []
   },
   "outputs": [],
   "source": [
    "## Get the list of sessions that are completely ready to process:\n",
    "full_good_ready_to_process_sessions = list(good_only_batch_progress_df['context'].to_numpy())\n",
    "full_good_ready_to_process_sessions\n",
    "# Get good sessions for use in the specific session processing notebook:"
   ]
  },
  {
   "cell_type": "code",
   "execution_count": null,
   "id": "8f1ad809",
   "metadata": {
    "tags": []
   },
   "outputs": [],
   "source": [
    "run[\"good_sessions_list\"].extend(full_good_ready_to_process_sessions)"
   ]
  },
  {
   "cell_type": "code",
   "execution_count": null,
   "id": "c636e3b9",
   "metadata": {
    "tags": []
   },
   "outputs": [],
   "source": [
    "run.stop()\n",
    "project.stop()"
   ]
  },
  {
   "cell_type": "code",
   "execution_count": null,
   "id": "8caf1322",
   "metadata": {
    "tags": []
   },
   "outputs": [],
   "source": [
    "\n",
    "print(\",\\n\".join([ctx.get_initialization_code_string() for ctx in full_good_ready_to_process_sessions])) # List definitions\n",
    "\n",
    "# [IdentifyingContext(format_name='kdiba',animal='gor01',exper_name='one',session_name='2006-6-08_14-26-15'),\n",
    "# IdentifyingContext(format_name='kdiba',animal='gor01',exper_name='one',session_name='2006-6-09_1-22-43'),\n",
    "# IdentifyingContext(format_name='kdiba',animal='gor01',exper_name='one',session_name='2006-6-12_15-55-31'),\n",
    "# IdentifyingContext(format_name='kdiba',animal='gor01',exper_name='one',session_name='2006-6-13_14-42-6'),\n",
    "# IdentifyingContext(format_name='kdiba',animal='gor01',exper_name='two',session_name='2006-6-07_16-40-19'),\n",
    "# IdentifyingContext(format_name='kdiba',animal='gor01',exper_name='two',session_name='2006-6-12_16-53-46'),\n",
    "# IdentifyingContext(format_name='kdiba',animal='vvp01',exper_name='one',session_name='2006-4-09_17-29-30')]"
   ]
  },
  {
   "cell_type": "code",
   "execution_count": null,
   "id": "ee5a4bfe",
   "metadata": {
    "tags": []
   },
   "outputs": [],
   "source": [
    "print(\"\\ncurr_context = \".join([ctx.get_initialization_code_string() for ctx in full_good_ready_to_process_sessions])) # Line definitions\n",
    "\n",
    "# curr_context = IdentifyingContext(format_name='kdiba',animal='gor01',exper_name='one',session_name='2006-6-08_14-26-15')\n",
    "# curr_context = IdentifyingContext(format_name='kdiba',animal='gor01',exper_name='one',session_name='2006-6-09_1-22-43')\n",
    "# curr_context = IdentifyingContext(format_name='kdiba',animal='gor01',exper_name='one',session_name='2006-6-12_15-55-31')\n",
    "# curr_context = IdentifyingContext(format_name='kdiba',animal='gor01',exper_name='one',session_name='2006-6-13_14-42-6')\n",
    "# curr_context = IdentifyingContext(format_name='kdiba',animal='gor01',exper_name='two',session_name='2006-6-07_16-40-19')\n",
    "# curr_context = IdentifyingContext(format_name='kdiba',animal='gor01',exper_name='two',session_name='2006-6-12_16-53-46')\n",
    "# curr_context = IdentifyingContext(format_name='kdiba',animal='vvp01',exper_name='one',session_name='2006-4-09_17-29-30')"
   ]
  },
  {
   "cell_type": "code",
   "execution_count": null,
   "id": "e5689d1d-6400-4f87-be0e-a184a1d5bee4",
   "metadata": {
    "tags": []
   },
   "outputs": [],
   "source": [
    "good_only_batch_progress_df"
   ]
  },
  {
   "cell_type": "code",
   "execution_count": null,
   "id": "7c82aedf-b024-4f07-b1a9-350730b4db8c",
   "metadata": {
    "tags": []
   },
   "outputs": [],
   "source": [
    "from datetime import datetime\n",
    "\n",
    "# datetime object containing current date and time\n",
    "save_time = datetime.now()\n",
    " \n",
    "print(\"save_time =\", save_time)\n",
    "\n",
    "# dd/mm/YY H:M:S\n",
    "dt_string = save_time.strftime(\"%Y-%m-%d_%I-%M%p\")\n",
    "print(\"date and time =\", dt_string)"
   ]
  },
  {
   "cell_type": "code",
   "execution_count": null,
   "id": "ac7bc6bd-5b34-41d0-b906-b0ad9927b08d",
   "metadata": {
    "tags": []
   },
   "outputs": [],
   "source": [
    "## Get output file paths:\n",
    "completed_pipeline_filename = 'loadedSessPickle.pkl'\n",
    "completed_global_computations_filename = 'outputs/global_computation_results.pkl'\n",
    "\n",
    "full_good_ready_to_process_session_paths = list(good_only_batch_progress_df['basedirs'].to_numpy())\n",
    "session_paths_output_folders = [sess_path.joinpath('outputs').resolve() for sess_path in full_good_ready_to_process_session_paths]\n",
    "\n",
    "\n",
    "\n",
    "completed_pipeline_file_paths = [sess_path.joinpath(completed_pipeline_filename).resolve() for sess_path in full_good_ready_to_process_session_paths]\n",
    "completed_global_computations_file_paths = [sess_path.joinpath(completed_global_computations_filename).resolve() for sess_path in full_good_ready_to_process_session_paths]\n",
    "completed_global_computations_file_paths"
   ]
  }
 ],
 "metadata": {
  "kernelspec": {
   "display_name": "Python 3 (ipykernel)",
   "language": "python",
   "name": "python3"
  },
  "language_info": {
   "codemirror_mode": {
    "name": "ipython",
    "version": 3
   },
   "file_extension": ".py",
   "mimetype": "text/x-python",
   "name": "python",
   "nbconvert_exporter": "python",
   "pygments_lexer": "ipython3",
   "version": "3.9.12"
  },
  "toc-showmarkdowntxt": false,
  "toc-showtags": false
 },
 "nbformat": 4,
 "nbformat_minor": 5
}
