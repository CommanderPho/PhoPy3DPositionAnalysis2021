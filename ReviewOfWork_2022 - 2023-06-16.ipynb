{
 "cells": [
  {
   "cell_type": "code",
   "execution_count": 1,
   "id": "0056bc66-7629-4ef7-8c87-f28f8fcd9dc8",
   "metadata": {
    "autorun": true,
    "tags": [
     "imports",
     "REQUIRED",
     "ACTIVE"
    ]
   },
   "outputs": [
    {
     "name": "stdout",
     "output_type": "stream",
     "text": [
      "Automatic pdb calling has been turned OFF\n",
      "build_module_logger(module_name=\"Spike3D.pipeline\"):\n",
      "\t Module logger com.PhoHale.Spike3D.pipeline has file logging enabled and will log to EXTERNAL\\TESTING\\Logging\\debug_com.PhoHale.Spike3D.pipeline.log\n"
     ]
    }
   ],
   "source": [
    "%config IPCompleter.use_jedi = False\n",
    "%pdb off\n",
    "# %load_ext viztracer\n",
    "# from viztracer import VizTracer\n",
    "%load_ext autoreload\n",
    "%autoreload 3\n",
    "import sys\n",
    "from pathlib import Path\n",
    "import neptune # for logging progress and results\n",
    "from pyphoplacecellanalysis.General.Batch.NeptuneAiHelpers import set_environment_variables, neptune_output_figures\n",
    "neptune_kwargs = {'project':\"commander.pho/PhoDibaLongShort2023\",\n",
    "'api_token':\"eyJhcGlfYWRkcmVzcyI6Imh0dHBzOi8vYXBwLm5lcHR1bmUuYWkiLCJhcGlfdXJsIjoiaHR0cHM6Ly9hcHAubmVwdHVuZS5haSIsImFwaV9rZXkiOiIxOGIxODU2My1lZTNhLTQ2ZWMtOTkzNS02ZTRmNzM5YmNjNjIifQ==\"}\n",
    "\n",
    "# required to enable non-blocking interaction:\n",
    "%gui qt5\n",
    "\n",
    "from copy import deepcopy\n",
    "from numba import jit\n",
    "import numpy as np\n",
    "import pandas as pd\n",
    "from attrs import define, field, fields, Factory\n",
    "\n",
    "# Pho's Formatting Preferences\n",
    "# from pyphocorehelpers.preferences_helpers import set_pho_preferences, set_pho_preferences_concise, set_pho_preferences_verbose\n",
    "# set_pho_preferences_concise()\n",
    "\n",
    "## Pho's Custom Libraries:\n",
    "from pyphocorehelpers.general_helpers import CodeConversion\n",
    "from pyphocorehelpers.function_helpers import function_attributes\n",
    "from pyphocorehelpers.print_helpers import print_keys_if_possible, print_value_overview_only, document_active_variables, objsize, print_object_memory_usage, debug_dump_object_member_shapes, TypePrintMode\n",
    "from pyphocorehelpers.print_helpers import get_now_day_str, get_now_time_str, get_now_time_precise_str\n",
    "from pyphocorehelpers.programming_helpers import IPythonHelpers\n",
    "from pyphocorehelpers.Filesystem.path_helpers import find_first_extant_path\n",
    "from pyphocorehelpers.Filesystem.open_in_system_file_manager import reveal_in_system_file_manager\n",
    "\n",
    "# NeuroPy (Diba Lab Python Repo) Loading\n",
    "# from neuropy import core\n",
    "from neuropy.analyses.placefields import PlacefieldComputationParameters\n",
    "from neuropy.core.epoch import NamedTimerange, Epoch\n",
    "from neuropy.core.ratemap import Ratemap\n",
    "from neuropy.core.session.Formats.BaseDataSessionFormats import DataSessionFormatRegistryHolder\n",
    "from neuropy.core.session.Formats.Specific.BapunDataSessionFormat import BapunDataSessionFormatRegisteredClass\n",
    "from neuropy.core.session.Formats.Specific.KDibaOldDataSessionFormat import KDibaOldDataSessionFormatRegisteredClass\n",
    "from neuropy.core.session.Formats.Specific.RachelDataSessionFormat import RachelDataSessionFormat\n",
    "from neuropy.core.session.Formats.Specific.HiroDataSessionFormat import HiroDataSessionFormatRegisteredClass\n",
    "\n",
    "## For computation parameters:\n",
    "from neuropy.analyses.placefields import PlacefieldComputationParameters\n",
    "from neuropy.utils.dynamic_container import DynamicContainer\n",
    "from neuropy.utils.result_context import IdentifyingContext\n",
    "from neuropy.core.session.Formats.BaseDataSessionFormats import find_local_session_paths\n",
    "from neuropy.core.neurons import NeuronType\n",
    "\n",
    "from pyphocorehelpers.print_helpers import generate_html_string\n",
    "\n",
    "# pyPhoPlaceCellAnalysis:\n",
    "from pyphoplacecellanalysis.General.Pipeline.NeuropyPipeline import NeuropyPipeline # get_neuron_identities\n",
    "from pyphoplacecellanalysis.General.Mixins.ExportHelpers import export_pyqtgraph_plot, create_daily_programmatic_display_function_testing_folder_if_needed, session_context_to_relative_path\n",
    "from pyphoplacecellanalysis.General.Batch.NonInteractiveProcessing import batch_load_session, batch_extended_computations, SessionBatchProgress, batch_programmatic_figures, batch_extended_programmatic_figures\n",
    "from pyphoplacecellanalysis.General.Pipeline.NeuropyPipeline import PipelineSavingScheme\n",
    "from pyphoplacecellanalysis.Pho2D.matplotlib.visualize_heatmap import visualize_heatmap\n",
    "from pyphoplacecellanalysis.Pho2D.PyQtPlots.Extensions.pyqtgraph_helpers import build_pyqtgraph_epoch_indicator_regions # Add session indicators to pyqtgraph plot\n",
    "from pyphoplacecellanalysis.General.Pipeline.Stages.DisplayFunctions.MultiContextComparingDisplayFunctions.LongShortTrackComparingDisplayFunctions import _helper_add_long_short_session_indicator_regions\n",
    "\n",
    "import pyphoplacecellanalysis.External.pyqtgraph as pg\n",
    "# 'time_bin_indices': valid_time_bin_indicies, 'posterior_to_pf_mean_surprise': one_left_out_posterior_to_pf_surprises_mean, 'posterior_to_scrambled_pf_mean_surprise': one_left_out_posterior_to_scrambled_pf_surprises_mean}\n",
    "from pyphoplacecellanalysis.General.Pipeline.Stages.DisplayFunctions.MultiContextComparingDisplayFunctions.LongShortTrackComparingDisplayFunctions import plot_long_short_expected_vs_observed_firing_rates\n",
    "from pyphoplacecellanalysis.General.Pipeline.Stages.DisplayFunctions.MultiContextComparingDisplayFunctions.LongShortTrackComparingDisplayFunctions import plot_long_short_surprise_difference_plot\n",
    "\n",
    "from pyphoplacecellanalysis.General.Batch.NonInteractiveProcessing import _update_pipeline_missing_preprocessing_parameters\n",
    "\n",
    "from pyphoplacecellanalysis.General.Batch.NonInteractiveProcessing import batch_perform_all_plots\n",
    "\n",
    "from scripts.run_BatchAnalysis import post_compute_validate, _on_complete_success_execution_session\n",
    "\n",
    "session_batch_status = {}\n",
    "session_batch_errors = {}\n",
    "enable_saving_to_disk = False\n",
    "\n",
    "global_data_root_parent_path = find_first_extant_path([Path(r'W:\\Data'), Path(r'/media/MAX/Data'), Path(r'/Volumes/MoverNew/data'), Path(r'/home/halechr/turbo/Data')])\n",
    "assert global_data_root_parent_path.exists(), f\"global_data_root_parent_path: {global_data_root_parent_path} does not exist! Is the right computer's config commented out above?\""
   ]
  },
  {
   "attachments": {},
   "cell_type": "markdown",
   "id": "a1538e2a-4e39-4d11-90b5-a9fef9258058",
   "metadata": {
    "tags": [
     "REQUIRED",
     "ACTIVE"
    ]
   },
   "source": [
    "# Load Pipeline"
   ]
  },
  {
   "cell_type": "code",
   "execution_count": 2,
   "id": "f917bad9-8fe7-4882-b83b-71cf878fffd2",
   "metadata": {
    "tags": [
     "load",
     "REQUIRED"
    ]
   },
   "outputs": [],
   "source": [
    "# ==================================================================================================================== #\n",
    "# Load Data                                                                                                            #\n",
    "# ==================================================================================================================== #\n",
    "\n",
    "active_data_mode_name = 'kdiba'\n",
    "\n",
    "## Data must be pre-processed using the MATLAB script located here: \n",
    "#     neuropy/data_session_pre_processing_scripts/KDIBA/IIDataMat_Export_ToPython_2022_08_01.m\n",
    "# From pre-computed .mat files:\n",
    "\n",
    "local_session_root_parent_context = IdentifyingContext(format_name=active_data_mode_name) # , animal_name='', configuration_name='one', session_name=self.session_name\n",
    "local_session_root_parent_path = global_data_root_parent_path.joinpath('KDIBA')\n",
    "\n",
    "good_contexts_list = [\n",
    "    IdentifyingContext(format_name='kdiba',animal='gor01',exper_name='one',session_name='2006-6-08_14-26-15'),\n",
    "    IdentifyingContext(format_name='kdiba',animal='gor01',exper_name='one',session_name='2006-6-09_1-22-43'),\n",
    "    IdentifyingContext(format_name='kdiba',animal='gor01',exper_name='one',session_name='2006-6-12_15-55-31'),\n",
    "    IdentifyingContext(format_name='kdiba',animal='gor01',exper_name='one',session_name='2006-6-13_14-42-6'),\n",
    "    IdentifyingContext(format_name='kdiba',animal='gor01',exper_name='two',session_name='2006-6-07_16-40-19'),\n",
    "    IdentifyingContext(format_name='kdiba',animal='gor01',exper_name='two',session_name='2006-6-08_21-16-25'),\n",
    "    IdentifyingContext(format_name='kdiba',animal='gor01',exper_name='two',session_name='2006-6-09_22-24-40'),\n",
    "    IdentifyingContext(format_name='kdiba',animal='gor01',exper_name='two',session_name='2006-6-12_16-53-46'),\n",
    "    IdentifyingContext(format_name='kdiba',animal='gor01',exper_name='two',session_name='2006-6-13_15-22-3'),\n",
    "    IdentifyingContext(format_name='kdiba',animal='vvp01',exper_name='one',session_name='2006-4-09_17-29-30'),\n",
    "    IdentifyingContext(format_name='kdiba',animal='vvp01',exper_name='one',session_name='2006-4-10_12-25-50'),\n",
    "    IdentifyingContext(format_name='kdiba',animal='vvp01',exper_name='one',session_name='2006-4-19_13-34-40'),\n",
    "    IdentifyingContext(format_name='kdiba',animal='vvp01',exper_name='two',session_name='2006-4-09_16-40-54'),\n",
    "    IdentifyingContext(format_name='kdiba',animal='vvp01',exper_name='two',session_name='2006-4-10_12-58-3'),\n",
    "    IdentifyingContext(format_name='kdiba',animal='vvp01',exper_name='two',session_name='2006-4-12_15-25-59'),\n",
    "    IdentifyingContext(format_name='kdiba',animal='vvp01',exper_name='two',session_name='2006-4-16_18-47-52'),\n",
    "    IdentifyingContext(format_name='kdiba',animal='vvp01',exper_name='two',session_name='2006-4-17_12-52-15'),\n",
    "    IdentifyingContext(format_name='kdiba',animal='vvp01',exper_name='two',session_name='2006-4-25_13-20-55'),\n",
    "    IdentifyingContext(format_name='kdiba',animal='vvp01',exper_name='two',session_name='2006-4-28_12-38-13'),\n",
    "    IdentifyingContext(format_name='kdiba',animal='pin01',exper_name='one',session_name='11-02_17-46-44'),\n",
    "    IdentifyingContext(format_name='kdiba',animal='pin01',exper_name='one',session_name='11-02_19-28-0'),\n",
    "    IdentifyingContext(format_name='kdiba',animal='pin01',exper_name='one',session_name='11-03_12-3-25'),\n",
    "    IdentifyingContext(format_name='kdiba',animal='pin01',exper_name='one',session_name='11-09_12-15-3'),\n",
    "    IdentifyingContext(format_name='kdiba',animal='pin01',exper_name='one',session_name='11-09_22-4-5'),\n",
    "    IdentifyingContext(format_name='kdiba',animal='pin01',exper_name='one',session_name='fet11-01_12-58-54')\n",
    "]\n",
    "\n",
    "from neuropy.core.session.Formats.Specific.KDibaOldDataSessionFormat import KDibaOldDataSessionFormatRegisteredClass\n",
    "\n",
    "\n"
   ]
  },
  {
   "cell_type": "code",
   "execution_count": 3,
   "id": "d13e68b4-03e0-4388-a35c-87a352a6e6b3",
   "metadata": {
    "scrolled": true,
    "tags": [
     "load",
     "single_session",
     "REQUIRED"
    ]
   },
   "outputs": [
    {
     "name": "stdout",
     "output_type": "stream",
     "text": [
      "Automatic pdb calling has been turned OFF\n",
      "basedir: W:\\Data\\KDIBA\\gor01\\two\\2006-6-08_21-16-25\n",
      "Loading loaded session pickle file results : W:\\Data\\KDIBA\\gor01\\two\\2006-6-08_21-16-25\\loadedSessPickle.pkl... done.\n",
      "Loading pickled pipeline success: W:\\Data\\KDIBA\\gor01\\two\\2006-6-08_21-16-25\\loadedSessPickle.pkl.\n",
      "property already present in pickled version. No need to save.\n",
      "using provided computation_functions_name_includelist: ['_perform_baseline_placefield_computation', '_perform_extended_statistics_computation', '_perform_position_decoding_computation', '_perform_firing_rate_trends_computation', '_perform_pf_find_ratemap_peaks_computation', '_perform_two_step_position_decoding_computation']\n",
      "WARNING: skipping computation because overwrite_extant_results=False and active_computation_results[maze1] already exists and is non-None\n",
      "\t TODO: this will prevent recomputation even when the excludelist/includelist or computation function definitions change. Rework so that this is smarter.\n",
      "updating computation_results...\n",
      "done.\n",
      "WARNING: skipping computation because overwrite_extant_results=False and active_computation_results[maze2] already exists and is non-None\n",
      "\t TODO: this will prevent recomputation even when the excludelist/includelist or computation function definitions change. Rework so that this is smarter.\n",
      "updating computation_results...\n",
      "done.\n",
      "WARNING: skipping computation because overwrite_extant_results=False and active_computation_results[maze] already exists and is non-None\n",
      "\t TODO: this will prevent recomputation even when the excludelist/includelist or computation function definitions change. Rework so that this is smarter.\n",
      "updating computation_results...\n",
      "done.\n",
      "WARNING: saving_mode is SKIP_SAVING so pipeline will not be saved despite calling .save_pipeline(...).\n",
      "saving_mode.shouldSave == False, so not saving at the end of batch_load_session\n",
      "Loading loaded session pickle file results : W:\\Data\\KDIBA\\gor01\\two\\2006-6-08_21-16-25\\output\\global_computation_results.pkl... done.\n"
     ]
    }
   ],
   "source": [
    "%pdb off\n",
    "# %%viztracer\n",
    "# [*] - indicates bad or session with a problem\n",
    "# 0, 1, 2, 3, 4, 5, 6, 7, [8], [9], 10, 11, [12], 13, 14, [15], [16], 17, \n",
    "# curr_context: IdentifyingContext = good_contexts_list[1] # select the session from all of the good sessions here.\n",
    "# curr_context = IdentifyingContext(format_name='kdiba',animal='gor01',exper_name='one',session_name='2006-6-08_14-26-15')\n",
    "# curr_context = IdentifyingContext(format_name='kdiba',animal='gor01',exper_name='one',session_name='2006-6-09_1-22-43') # BAD\n",
    "# curr_context = IdentifyingContext(format_name='kdiba',animal='gor01',exper_name='one',session_name='2006-6-12_15-55-31')\n",
    "# curr_context = IdentifyingContext(format_name='kdiba',animal='gor01',exper_name='one',session_name='2006-6-13_14-42-6')\n",
    "# curr_context = IdentifyingContext(format_name='kdiba',animal='gor01',exper_name='two',session_name='2006-6-07_16-40-19') # DONE\n",
    "curr_context = IdentifyingContext(format_name='kdiba',animal='gor01',exper_name='two',session_name='2006-6-08_21-16-25') # DONE\n",
    "# curr_context = IdentifyingContext(format_name='kdiba',animal='gor01',exper_name='two',session_name='2006-6-09_22-24-40') # DONE\n",
    "# curr_context = IdentifyingContext(format_name='kdiba',animal='gor01',exper_name='two',session_name='2006-6-12_16-53-46')\n",
    "# curr_context = IdentifyingContext(format_name='kdiba',animal='gor01',exper_name='two',session_name='2006-6-13_15-22-3')\n",
    "# curr_context = IdentifyingContext(format_name='kdiba',animal='vvp01',exper_name='one',session_name='2006-4-09_17-29-30') # DONE\n",
    "# curr_context = IdentifyingContext(format_name='kdiba',animal='vvp01',exper_name='one',session_name='2006-4-10_12-25-50') # DONE\n",
    "# curr_context = IdentifyingContext(format_name='kdiba',animal='vvp01',exper_name='one',session_name='2006-4-19_13-34-40')\n",
    "# curr_context = IdentifyingContext(format_name='kdiba',animal='vvp01',exper_name='two',session_name='2006-4-09_16-40-54') # DONE\n",
    "# curr_context = IdentifyingContext(format_name='kdiba',animal='vvp01',exper_name='two',session_name='2006-4-10_12-58-3')\n",
    "# curr_context = IdentifyingContext(format_name='kdiba',animal='vvp01',exper_name='two',session_name='2006-4-12_15-25-59')\n",
    "# curr_context = IdentifyingContext(format_name='kdiba',animal='vvp01',exper_name='two',session_name='2006-4-16_18-47-52')\n",
    "# curr_context = IdentifyingContext(format_name='kdiba',animal='vvp01',exper_name='two',session_name='2006-4-17_12-52-15')\n",
    "# curr_context = IdentifyingContext(format_name='kdiba',animal='vvp01',exper_name='two',session_name='2006-4-25_13-20-55')\n",
    "# curr_context = IdentifyingContext(format_name='kdiba',animal='vvp01',exper_name='two',session_name='2006-4-28_12-38-13')\n",
    "# curr_context = IdentifyingContext(format_name='kdiba',animal='pin01',exper_name='one',session_name='11-02_17-46-44') # DONE\n",
    "# curr_context = IdentifyingContext(format_name='kdiba',animal='pin01',exper_name='one',session_name='11-02_19-28-0') # DONE\n",
    "# curr_context = IdentifyingContext(format_name='kdiba',animal='pin01',exper_name='one',session_name='11-03_12-3-25') # DONE\n",
    "# curr_context = IdentifyingContext(format_name='kdiba',animal='pin01',exper_name='one',session_name='11-09_12-15-3')\n",
    "# curr_context = IdentifyingContext(format_name='kdiba',animal='pin01',exper_name='one',session_name='11-09_22-4-5')\n",
    "# curr_context = IdentifyingContext(format_name='kdiba',animal='pin01',exper_name='one',session_name='fet11-01_12-58-54') # DONE\n",
    "\n",
    "\n",
    "local_session_parent_path: Path = local_session_root_parent_path.joinpath(curr_context.animal, curr_context.exper_name) # 'gor01', 'one' - probably not needed anymore\n",
    "basedir: Path = local_session_parent_path.joinpath(curr_context.session_name).resolve()\n",
    "print(f'basedir: {str(basedir)}')\n",
    "\n",
    "# Read if possible:\n",
    "saving_mode = PipelineSavingScheme.SKIP_SAVING\n",
    "force_reload = False\n",
    "\n",
    "# Force write:\n",
    "# saving_mode = PipelineSavingScheme.TEMP_THEN_OVERWRITE\n",
    "# saving_mode = PipelineSavingScheme.OVERWRITE_IN_PLACE\n",
    "# force_reload = True\n",
    "\n",
    "\n",
    "## TODO: if loading is not possible, we need to change the `saving_mode` so that the new results are properly saved.\n",
    "\n",
    "\n",
    "    # ==================================================================================================================== #\n",
    "    # Load Pipeline                                                                                                        #\n",
    "    # ==================================================================================================================== #\n",
    "# with VizTracer(output_file=f\"viztracer_{get_now_time_str()}-full_session_LOO_decoding_analysis.json\", min_duration=200, tracer_entries=3000000, ignore_frozen=True) as tracer:\n",
    "# epoch_name_includelist = ['maze']\n",
    "epoch_name_includelist = None\n",
    "active_computation_functions_name_includelist=[#'_perform_estimated_epochs_computation',  # AL:WAYS OFF\n",
    "                                            '_perform_baseline_placefield_computation',\n",
    "                                        # '_perform_time_dependent_placefield_computation', # AL:WAYS OFF\n",
    "                                        '_perform_extended_statistics_computation',\n",
    "                                        '_perform_position_decoding_computation', \n",
    "                                        '_perform_firing_rate_trends_computation',\n",
    "                                        '_perform_pf_find_ratemap_peaks_computation',\n",
    "                                        # '_perform_time_dependent_pf_sequential_surprise_computation' # AL:WAYS OFF\n",
    "                                        '_perform_two_step_position_decoding_computation',\n",
    "                                        # '_perform_recursive_latent_placefield_decoding' # AL:WAYS OFF\n",
    "                                    ]\n",
    "# active_computation_functions_name_includelist=['_perform_baseline_placefield_computation']\n",
    "\n",
    "curr_active_pipeline = batch_load_session(global_data_root_parent_path, active_data_mode_name, basedir, epoch_name_includelist=epoch_name_includelist,\n",
    "                                        computation_functions_name_includelist=active_computation_functions_name_includelist,\n",
    "                                        saving_mode=saving_mode, force_reload=force_reload,\n",
    "                                        skip_extended_batch_computations=True, debug_print=False, fail_on_exception=True) # , active_pickle_filename = 'loadedSessPickle_withParameters.pkl'\n",
    "\n",
    "\n",
    "if not force_reload: # not just force_reload, needs to recompute whenever the computation fails.\n",
    "    try:\n",
    "        curr_active_pipeline.load_pickled_global_computation_results()\n",
    "    except Exception as e:\n",
    "        print(f'cannot load global results: {e}')\n",
    "\n",
    "# 6m 1.1s\n",
    "# 12m 15.6s\n"
   ]
  },
  {
   "cell_type": "code",
   "execution_count": null,
   "id": "ac8aab9a",
   "metadata": {},
   "outputs": [],
   "source": [
    "%matplotlib qt\n",
    "from neuropy.utils.matplotlib_helpers import interactive_select_grid_bin_bounds_2D\n",
    "# fig, ax, rect_selector, set_extents = interactive_select_grid_bin_bounds_2D(curr_active_pipeline, epoch_name='maze', should_block_for_input=True)\n",
    "\n",
    "grid_bin_bounds = interactive_select_grid_bin_bounds_2D(curr_active_pipeline, epoch_name='maze', should_block_for_input=True, should_apply_updates_to_pipeline=False)\n",
    "print(f'grid_bin_bounds: {grid_bin_bounds}')\n",
    "print(f\"Add this to `specific_session_override_dict`:\\n\\n{curr_active_pipeline.get_session_context().get_initialization_code_string()}:dict(grid_bin_bounds=({(grid_bin_bounds[0], grid_bin_bounds[1]), (grid_bin_bounds[2], grid_bin_bounds[3])})),\\n\")"
   ]
  },
  {
   "cell_type": "code",
   "execution_count": 4,
   "id": "3a29b890",
   "metadata": {
    "tags": []
   },
   "outputs": [
    {
     "name": "stdout",
     "output_type": "stream",
     "text": [
      "were pipeline preprocessing parameters missing and updated?: False\n"
     ]
    }
   ],
   "source": [
    "## Post Compute Validate 2023-05-16:\n",
    "from scripts.run_BatchAnalysis import post_compute_validate\n",
    "\n",
    "post_compute_validate(curr_active_pipeline)"
   ]
  },
  {
   "cell_type": "code",
   "execution_count": 5,
   "id": "b7f4bc79",
   "metadata": {
    "tags": []
   },
   "outputs": [
    {
     "name": "stdout",
     "output_type": "stream",
     "text": [
      "included includelist is specified: ['long_short_fr_indicies_analyses', 'jonathan_firing_rate_analysis', 'long_short_decoding_analyses', 'long_short_post_decoding'], so only performing these extended computations.\n",
      "Running batch_extended_computations(...) with global_epoch_name: \"maze\"\n",
      "jonathan_firing_rate_analysis already computed.\n",
      "long_short_fr_indicies_analyses already computed.\n",
      "long_short_decoding_analyses already computed.\n",
      "long_short_post_decoding already computed.\n",
      "done with all batch_extended_computations(...).\n",
      "no changes in global results.\n"
     ]
    }
   ],
   "source": [
    "curr_active_pipeline.reload_default_computation_functions()\n",
    "extended_computations_include_includelist=['long_short_fr_indicies_analyses', 'jonathan_firing_rate_analysis', 'long_short_decoding_analyses', 'long_short_post_decoding'] # do only specifiedl , 'long_short_rate_remapping'\n",
    "force_recompute_global = force_reload\n",
    "# force_recompute_global = True\n",
    "# extended_computations_include_includelist=['long_short_post_decoding'] # do only specifiedl\n",
    "newly_computed_values = batch_extended_computations(curr_active_pipeline, include_includelist=extended_computations_include_includelist, include_global_functions=True, fail_on_exception=True, progress_print=True, force_recompute=force_recompute_global, debug_print=False)\n",
    "if len(newly_computed_values) > 0:\n",
    "\tprint(f'newly_computed_values: {newly_computed_values}. Saving global results...')\n",
    "\ttry:\n",
    "\t\t# curr_active_pipeline.global_computation_results.persist_time = datetime.now()\n",
    "\t\t# Try to write out the global computation function results:\n",
    "\t\tcurr_active_pipeline.save_global_computation_results()\n",
    "\texcept Exception as e:\n",
    "\t\tprint(f'\\n\\n!!WARNING!!: saving the global results threw the exception: {e}')\n",
    "\t\tprint(f'\\tthe global results are currently unsaved! proceed with caution and save as soon as you can!\\n\\n\\n')\n",
    "else:\n",
    "\tprint(f'no changes in global results.')\n",
    "# 10m 29.5s"
   ]
  },
  {
   "cell_type": "code",
   "execution_count": 6,
   "id": "d3e3c3f3",
   "metadata": {},
   "outputs": [
    {
     "name": "stdout",
     "output_type": "stream",
     "text": [
      "https://app.neptune.ai/commander.pho/PhoDibaLongShortUpdated/\n",
      "https://app.neptune.ai/commander.pho/PhoDibaLongShortUpdated/e/LS2023-98\n",
      "shared_aclus: [2, 3, 4, 5, 6, 7, 9, 10, 11, 12, 13, 14, 15, 16, 17, 18, 20, 21, 22, 24, 25, 26, 27, 28, 30, 31, 32, 33, 34, 35, 37, 38, 40, 41, 42, 43, 44, 45, 46, 47, 48, 49, 50, 51, 52, 53, 55, 56, 57, 58, 59, 61, 62, 63, 64, 65, 66, 67, 68, 69, 70, 71, 72, 73, 74, 75, 76, 77, 79, 80, 81, 83, 84, 85, 86, 87, 88, 89, 90, 91, 92, 93, 94, 95, 96, 97, 98, 99, 100, 102]\n",
      "long_only_aclus: [19, 23, 29, 36, 39, 54, 60, 78, 101, 103]\n",
      "short_only_aclus: [8, 82]\n",
      "shared_aclus: [2, 3, 4, 5, 6, 7, 9, 10, 11, 12, 13, 14, 15, 16, 17, 18, 20, 21, 22, 24, 25, 26, 27, 28, 30, 31, 32, 33, 34, 35, 37, 38, 40, 41, 42, 43, 44, 45, 46, 47, 48, 49, 50, 51, 52, 53, 55, 56, 57, 58, 59, 61, 62, 63, 64, 65, 66, 67, 68, 69, 70, 71, 72, 73, 74, 75, 76, 77, 79, 80, 81, 83, 84, 85, 86, 87, 88, 89, 90, 91, 92, 93, 94, 95, 96, 97, 98, 99, 100, 102]\n",
      "long_only_aclus: [19, 23, 29, 36, 39, 54, 60, 78, 101, 103]\n",
      "short_only_aclus: [8, 82]\n",
      "include_includelist: ['maze1', 'maze2', 'maze']\n",
      "long_epoch_name: maze1, short_epoch_name: maze2, global_epoch_name: maze\n",
      "WARNING: aclu 39 is not present in the pf1D_all ratemaps. Which contain aclus: [2, 3, 7, 8, 9, 11, 12, 15, 17, 19, 22, 23, 24, 25, 29, 31, 34, 36, 37, 38, 41, 42, 44, 46, 47, 50, 51, 54, 56, 57, 59, 60, 61, 63, 64, 65, 66, 67, 68, 69, 70, 71, 74, 75, 76, 77, 78, 82, 83, 85, 86, 89, 91, 92, 94, 95, 96, 97, 100, 101, 103]\n",
      "\t saved C:\\Users\\pho\\repos\\Spike3DWorkEnv\\Spike3D\\EXTERNAL\\Screenshots\\ProgrammaticDisplayFunctionTesting\\2023-06-16\\kdiba_gor01_two_2006-6-08_21-16-25_BatchPhoJonathanReplayFRC_long_only_[19, 23, 29, 36, 39, 54, 60, 78, 101, 103].png\n",
      "include_includelist: ['maze1', 'maze2', 'maze']\n",
      "long_epoch_name: maze1, short_epoch_name: maze2, global_epoch_name: maze\n",
      "\t saved C:\\Users\\pho\\repos\\Spike3DWorkEnv\\Spike3D\\EXTERNAL\\Screenshots\\ProgrammaticDisplayFunctionTesting\\2023-06-16\\kdiba_gor01_two_2006-6-08_21-16-25_BatchPhoJonathanReplayFRC_short_only_[8, 82].png\n",
      "include_includelist: ['maze1', 'maze2', 'maze']\n",
      "long_epoch_name: maze1, short_epoch_name: maze2, global_epoch_name: maze\n",
      "WARNING: aclu 4 is not present in the pf1D_all ratemaps. Which contain aclus: [2, 3, 7, 8, 9, 11, 12, 15, 17, 19, 22, 23, 24, 25, 29, 31, 34, 36, 37, 38, 41, 42, 44, 46, 47, 50, 51, 54, 56, 57, 59, 60, 61, 63, 64, 65, 66, 67, 68, 69, 70, 71, 74, 75, 76, 77, 78, 82, 83, 85, 86, 89, 91, 92, 94, 95, 96, 97, 100, 101, 103]\n",
      "WARNING: aclu 5 is not present in the pf1D_all ratemaps. Which contain aclus: [2, 3, 7, 8, 9, 11, 12, 15, 17, 19, 22, 23, 24, 25, 29, 31, 34, 36, 37, 38, 41, 42, 44, 46, 47, 50, 51, 54, 56, 57, 59, 60, 61, 63, 64, 65, 66, 67, 68, 69, 70, 71, 74, 75, 76, 77, 78, 82, 83, 85, 86, 89, 91, 92, 94, 95, 96, 97, 100, 101, 103]\n",
      "WARNING: aclu 6 is not present in the pf1D_all ratemaps. Which contain aclus: [2, 3, 7, 8, 9, 11, 12, 15, 17, 19, 22, 23, 24, 25, 29, 31, 34, 36, 37, 38, 41, 42, 44, 46, 47, 50, 51, 54, 56, 57, 59, 60, 61, 63, 64, 65, 66, 67, 68, 69, 70, 71, 74, 75, 76, 77, 78, 82, 83, 85, 86, 89, 91, 92, 94, 95, 96, 97, 100, 101, 103]\n",
      "WARNING: aclu 10 is not present in the pf1D_all ratemaps. Which contain aclus: [2, 3, 7, 8, 9, 11, 12, 15, 17, 19, 22, 23, 24, 25, 29, 31, 34, 36, 37, 38, 41, 42, 44, 46, 47, 50, 51, 54, 56, 57, 59, 60, 61, 63, 64, 65, 66, 67, 68, 69, 70, 71, 74, 75, 76, 77, 78, 82, 83, 85, 86, 89, 91, 92, 94, 95, 96, 97, 100, 101, 103]\n",
      "\t saved C:\\Users\\pho\\repos\\Spike3DWorkEnv\\Spike3D\\EXTERNAL\\Screenshots\\ProgrammaticDisplayFunctionTesting\\2023-06-16\\kdiba_gor01_two_2006-6-08_21-16-25_BatchPhoJonathanReplayFRC_shared_1of9_[2, 3, 4, 5, 6, 7, 9, 10, 11, 12].png\n",
      "include_includelist: ['maze1', 'maze2', 'maze']\n",
      "long_epoch_name: maze1, short_epoch_name: maze2, global_epoch_name: maze\n",
      "WARNING: aclu 13 is not present in the pf1D_all ratemaps. Which contain aclus: [2, 3, 7, 8, 9, 11, 12, 15, 17, 19, 22, 23, 24, 25, 29, 31, 34, 36, 37, 38, 41, 42, 44, 46, 47, 50, 51, 54, 56, 57, 59, 60, 61, 63, 64, 65, 66, 67, 68, 69, 70, 71, 74, 75, 76, 77, 78, 82, 83, 85, 86, 89, 91, 92, 94, 95, 96, 97, 100, 101, 103]\n",
      "WARNING: aclu 14 is not present in the pf1D_all ratemaps. Which contain aclus: [2, 3, 7, 8, 9, 11, 12, 15, 17, 19, 22, 23, 24, 25, 29, 31, 34, 36, 37, 38, 41, 42, 44, 46, 47, 50, 51, 54, 56, 57, 59, 60, 61, 63, 64, 65, 66, 67, 68, 69, 70, 71, 74, 75, 76, 77, 78, 82, 83, 85, 86, 89, 91, 92, 94, 95, 96, 97, 100, 101, 103]\n",
      "WARNING: aclu 16 is not present in the pf1D_all ratemaps. Which contain aclus: [2, 3, 7, 8, 9, 11, 12, 15, 17, 19, 22, 23, 24, 25, 29, 31, 34, 36, 37, 38, 41, 42, 44, 46, 47, 50, 51, 54, 56, 57, 59, 60, 61, 63, 64, 65, 66, 67, 68, 69, 70, 71, 74, 75, 76, 77, 78, 82, 83, 85, 86, 89, 91, 92, 94, 95, 96, 97, 100, 101, 103]\n",
      "WARNING: aclu 18 is not present in the pf1D_all ratemaps. Which contain aclus: [2, 3, 7, 8, 9, 11, 12, 15, 17, 19, 22, 23, 24, 25, 29, 31, 34, 36, 37, 38, 41, 42, 44, 46, 47, 50, 51, 54, 56, 57, 59, 60, 61, 63, 64, 65, 66, 67, 68, 69, 70, 71, 74, 75, 76, 77, 78, 82, 83, 85, 86, 89, 91, 92, 94, 95, 96, 97, 100, 101, 103]\n",
      "WARNING: aclu 20 is not present in the pf1D_all ratemaps. Which contain aclus: [2, 3, 7, 8, 9, 11, 12, 15, 17, 19, 22, 23, 24, 25, 29, 31, 34, 36, 37, 38, 41, 42, 44, 46, 47, 50, 51, 54, 56, 57, 59, 60, 61, 63, 64, 65, 66, 67, 68, 69, 70, 71, 74, 75, 76, 77, 78, 82, 83, 85, 86, 89, 91, 92, 94, 95, 96, 97, 100, 101, 103]\n",
      "WARNING: aclu 21 is not present in the pf1D_all ratemaps. Which contain aclus: [2, 3, 7, 8, 9, 11, 12, 15, 17, 19, 22, 23, 24, 25, 29, 31, 34, 36, 37, 38, 41, 42, 44, 46, 47, 50, 51, 54, 56, 57, 59, 60, 61, 63, 64, 65, 66, 67, 68, 69, 70, 71, 74, 75, 76, 77, 78, 82, 83, 85, 86, 89, 91, 92, 94, 95, 96, 97, 100, 101, 103]\n",
      "\t saved C:\\Users\\pho\\repos\\Spike3DWorkEnv\\Spike3D\\EXTERNAL\\Screenshots\\ProgrammaticDisplayFunctionTesting\\2023-06-16\\kdiba_gor01_two_2006-6-08_21-16-25_BatchPhoJonathanReplayFRC_shared_2of9_[13, 14, 15, 16, 17, 18, 20, 21, 22, 24].png\n",
      "include_includelist: ['maze1', 'maze2', 'maze']\n",
      "long_epoch_name: maze1, short_epoch_name: maze2, global_epoch_name: maze\n",
      "WARNING: aclu 26 is not present in the pf1D_all ratemaps. Which contain aclus: [2, 3, 7, 8, 9, 11, 12, 15, 17, 19, 22, 23, 24, 25, 29, 31, 34, 36, 37, 38, 41, 42, 44, 46, 47, 50, 51, 54, 56, 57, 59, 60, 61, 63, 64, 65, 66, 67, 68, 69, 70, 71, 74, 75, 76, 77, 78, 82, 83, 85, 86, 89, 91, 92, 94, 95, 96, 97, 100, 101, 103]\n",
      "WARNING: aclu 27 is not present in the pf1D_all ratemaps. Which contain aclus: [2, 3, 7, 8, 9, 11, 12, 15, 17, 19, 22, 23, 24, 25, 29, 31, 34, 36, 37, 38, 41, 42, 44, 46, 47, 50, 51, 54, 56, 57, 59, 60, 61, 63, 64, 65, 66, 67, 68, 69, 70, 71, 74, 75, 76, 77, 78, 82, 83, 85, 86, 89, 91, 92, 94, 95, 96, 97, 100, 101, 103]\n",
      "WARNING: aclu 28 is not present in the pf1D_all ratemaps. Which contain aclus: [2, 3, 7, 8, 9, 11, 12, 15, 17, 19, 22, 23, 24, 25, 29, 31, 34, 36, 37, 38, 41, 42, 44, 46, 47, 50, 51, 54, 56, 57, 59, 60, 61, 63, 64, 65, 66, 67, 68, 69, 70, 71, 74, 75, 76, 77, 78, 82, 83, 85, 86, 89, 91, 92, 94, 95, 96, 97, 100, 101, 103]\n",
      "WARNING: aclu 30 is not present in the pf1D_all ratemaps. Which contain aclus: [2, 3, 7, 8, 9, 11, 12, 15, 17, 19, 22, 23, 24, 25, 29, 31, 34, 36, 37, 38, 41, 42, 44, 46, 47, 50, 51, 54, 56, 57, 59, 60, 61, 63, 64, 65, 66, 67, 68, 69, 70, 71, 74, 75, 76, 77, 78, 82, 83, 85, 86, 89, 91, 92, 94, 95, 96, 97, 100, 101, 103]\n",
      "WARNING: aclu 32 is not present in the pf1D_all ratemaps. Which contain aclus: [2, 3, 7, 8, 9, 11, 12, 15, 17, 19, 22, 23, 24, 25, 29, 31, 34, 36, 37, 38, 41, 42, 44, 46, 47, 50, 51, 54, 56, 57, 59, 60, 61, 63, 64, 65, 66, 67, 68, 69, 70, 71, 74, 75, 76, 77, 78, 82, 83, 85, 86, 89, 91, 92, 94, 95, 96, 97, 100, 101, 103]\n",
      "WARNING: aclu 33 is not present in the pf1D_all ratemaps. Which contain aclus: [2, 3, 7, 8, 9, 11, 12, 15, 17, 19, 22, 23, 24, 25, 29, 31, 34, 36, 37, 38, 41, 42, 44, 46, 47, 50, 51, 54, 56, 57, 59, 60, 61, 63, 64, 65, 66, 67, 68, 69, 70, 71, 74, 75, 76, 77, 78, 82, 83, 85, 86, 89, 91, 92, 94, 95, 96, 97, 100, 101, 103]\n",
      "WARNING: aclu 35 is not present in the pf1D_all ratemaps. Which contain aclus: [2, 3, 7, 8, 9, 11, 12, 15, 17, 19, 22, 23, 24, 25, 29, 31, 34, 36, 37, 38, 41, 42, 44, 46, 47, 50, 51, 54, 56, 57, 59, 60, 61, 63, 64, 65, 66, 67, 68, 69, 70, 71, 74, 75, 76, 77, 78, 82, 83, 85, 86, 89, 91, 92, 94, 95, 96, 97, 100, 101, 103]\n",
      "\t saved C:\\Users\\pho\\repos\\Spike3DWorkEnv\\Spike3D\\EXTERNAL\\Screenshots\\ProgrammaticDisplayFunctionTesting\\2023-06-16\\kdiba_gor01_two_2006-6-08_21-16-25_BatchPhoJonathanReplayFRC_shared_3of9_[25, 26, 27, 28, 30, 31, 32, 33, 34, 35].png\n",
      "include_includelist: ['maze1', 'maze2', 'maze']\n",
      "long_epoch_name: maze1, short_epoch_name: maze2, global_epoch_name: maze\n",
      "WARNING: aclu 40 is not present in the pf1D_all ratemaps. Which contain aclus: [2, 3, 7, 8, 9, 11, 12, 15, 17, 19, 22, 23, 24, 25, 29, 31, 34, 36, 37, 38, 41, 42, 44, 46, 47, 50, 51, 54, 56, 57, 59, 60, 61, 63, 64, 65, 66, 67, 68, 69, 70, 71, 74, 75, 76, 77, 78, 82, 83, 85, 86, 89, 91, 92, 94, 95, 96, 97, 100, 101, 103]\n",
      "WARNING: aclu 43 is not present in the pf1D_all ratemaps. Which contain aclus: [2, 3, 7, 8, 9, 11, 12, 15, 17, 19, 22, 23, 24, 25, 29, 31, 34, 36, 37, 38, 41, 42, 44, 46, 47, 50, 51, 54, 56, 57, 59, 60, 61, 63, 64, 65, 66, 67, 68, 69, 70, 71, 74, 75, 76, 77, 78, 82, 83, 85, 86, 89, 91, 92, 94, 95, 96, 97, 100, 101, 103]\n",
      "WARNING: aclu 45 is not present in the pf1D_all ratemaps. Which contain aclus: [2, 3, 7, 8, 9, 11, 12, 15, 17, 19, 22, 23, 24, 25, 29, 31, 34, 36, 37, 38, 41, 42, 44, 46, 47, 50, 51, 54, 56, 57, 59, 60, 61, 63, 64, 65, 66, 67, 68, 69, 70, 71, 74, 75, 76, 77, 78, 82, 83, 85, 86, 89, 91, 92, 94, 95, 96, 97, 100, 101, 103]\n",
      "\t saved C:\\Users\\pho\\repos\\Spike3DWorkEnv\\Spike3D\\EXTERNAL\\Screenshots\\ProgrammaticDisplayFunctionTesting\\2023-06-16\\kdiba_gor01_two_2006-6-08_21-16-25_BatchPhoJonathanReplayFRC_shared_4of9_[37, 38, 40, 41, 42, 43, 44, 45, 46, 47].png\n",
      "include_includelist: ['maze1', 'maze2', 'maze']\n",
      "long_epoch_name: maze1, short_epoch_name: maze2, global_epoch_name: maze\n",
      "WARNING: aclu 48 is not present in the pf1D_all ratemaps. Which contain aclus: [2, 3, 7, 8, 9, 11, 12, 15, 17, 19, 22, 23, 24, 25, 29, 31, 34, 36, 37, 38, 41, 42, 44, 46, 47, 50, 51, 54, 56, 57, 59, 60, 61, 63, 64, 65, 66, 67, 68, 69, 70, 71, 74, 75, 76, 77, 78, 82, 83, 85, 86, 89, 91, 92, 94, 95, 96, 97, 100, 101, 103]\n",
      "WARNING: aclu 49 is not present in the pf1D_all ratemaps. Which contain aclus: [2, 3, 7, 8, 9, 11, 12, 15, 17, 19, 22, 23, 24, 25, 29, 31, 34, 36, 37, 38, 41, 42, 44, 46, 47, 50, 51, 54, 56, 57, 59, 60, 61, 63, 64, 65, 66, 67, 68, 69, 70, 71, 74, 75, 76, 77, 78, 82, 83, 85, 86, 89, 91, 92, 94, 95, 96, 97, 100, 101, 103]\n",
      "WARNING: aclu 52 is not present in the pf1D_all ratemaps. Which contain aclus: [2, 3, 7, 8, 9, 11, 12, 15, 17, 19, 22, 23, 24, 25, 29, 31, 34, 36, 37, 38, 41, 42, 44, 46, 47, 50, 51, 54, 56, 57, 59, 60, 61, 63, 64, 65, 66, 67, 68, 69, 70, 71, 74, 75, 76, 77, 78, 82, 83, 85, 86, 89, 91, 92, 94, 95, 96, 97, 100, 101, 103]\n",
      "WARNING: aclu 53 is not present in the pf1D_all ratemaps. Which contain aclus: [2, 3, 7, 8, 9, 11, 12, 15, 17, 19, 22, 23, 24, 25, 29, 31, 34, 36, 37, 38, 41, 42, 44, 46, 47, 50, 51, 54, 56, 57, 59, 60, 61, 63, 64, 65, 66, 67, 68, 69, 70, 71, 74, 75, 76, 77, 78, 82, 83, 85, 86, 89, 91, 92, 94, 95, 96, 97, 100, 101, 103]\n",
      "WARNING: aclu 55 is not present in the pf1D_all ratemaps. Which contain aclus: [2, 3, 7, 8, 9, 11, 12, 15, 17, 19, 22, 23, 24, 25, 29, 31, 34, 36, 37, 38, 41, 42, 44, 46, 47, 50, 51, 54, 56, 57, 59, 60, 61, 63, 64, 65, 66, 67, 68, 69, 70, 71, 74, 75, 76, 77, 78, 82, 83, 85, 86, 89, 91, 92, 94, 95, 96, 97, 100, 101, 103]\n",
      "WARNING: aclu 58 is not present in the pf1D_all ratemaps. Which contain aclus: [2, 3, 7, 8, 9, 11, 12, 15, 17, 19, 22, 23, 24, 25, 29, 31, 34, 36, 37, 38, 41, 42, 44, 46, 47, 50, 51, 54, 56, 57, 59, 60, 61, 63, 64, 65, 66, 67, 68, 69, 70, 71, 74, 75, 76, 77, 78, 82, 83, 85, 86, 89, 91, 92, 94, 95, 96, 97, 100, 101, 103]\n",
      "\t saved C:\\Users\\pho\\repos\\Spike3DWorkEnv\\Spike3D\\EXTERNAL\\Screenshots\\ProgrammaticDisplayFunctionTesting\\2023-06-16\\kdiba_gor01_two_2006-6-08_21-16-25_BatchPhoJonathanReplayFRC_shared_5of9_[48, 49, 50, 51, 52, 53, 55, 56, 57, 58].png\n",
      "include_includelist: ['maze1', 'maze2', 'maze']\n",
      "long_epoch_name: maze1, short_epoch_name: maze2, global_epoch_name: maze\n",
      "WARNING: aclu 62 is not present in the pf1D_all ratemaps. Which contain aclus: [2, 3, 7, 8, 9, 11, 12, 15, 17, 19, 22, 23, 24, 25, 29, 31, 34, 36, 37, 38, 41, 42, 44, 46, 47, 50, 51, 54, 56, 57, 59, 60, 61, 63, 64, 65, 66, 67, 68, 69, 70, 71, 74, 75, 76, 77, 78, 82, 83, 85, 86, 89, 91, 92, 94, 95, 96, 97, 100, 101, 103]\n",
      "\t saved C:\\Users\\pho\\repos\\Spike3DWorkEnv\\Spike3D\\EXTERNAL\\Screenshots\\ProgrammaticDisplayFunctionTesting\\2023-06-16\\kdiba_gor01_two_2006-6-08_21-16-25_BatchPhoJonathanReplayFRC_shared_6of9_[59, 61, 62, 63, 64, 65, 66, 67, 68, 69].png\n",
      "include_includelist: ['maze1', 'maze2', 'maze']\n",
      "long_epoch_name: maze1, short_epoch_name: maze2, global_epoch_name: maze\n",
      "WARNING: aclu 72 is not present in the pf1D_all ratemaps. Which contain aclus: [2, 3, 7, 8, 9, 11, 12, 15, 17, 19, 22, 23, 24, 25, 29, 31, 34, 36, 37, 38, 41, 42, 44, 46, 47, 50, 51, 54, 56, 57, 59, 60, 61, 63, 64, 65, 66, 67, 68, 69, 70, 71, 74, 75, 76, 77, 78, 82, 83, 85, 86, 89, 91, 92, 94, 95, 96, 97, 100, 101, 103]\n",
      "WARNING: aclu 73 is not present in the pf1D_all ratemaps. Which contain aclus: [2, 3, 7, 8, 9, 11, 12, 15, 17, 19, 22, 23, 24, 25, 29, 31, 34, 36, 37, 38, 41, 42, 44, 46, 47, 50, 51, 54, 56, 57, 59, 60, 61, 63, 64, 65, 66, 67, 68, 69, 70, 71, 74, 75, 76, 77, 78, 82, 83, 85, 86, 89, 91, 92, 94, 95, 96, 97, 100, 101, 103]\n",
      "WARNING: aclu 79 is not present in the pf1D_all ratemaps. Which contain aclus: [2, 3, 7, 8, 9, 11, 12, 15, 17, 19, 22, 23, 24, 25, 29, 31, 34, 36, 37, 38, 41, 42, 44, 46, 47, 50, 51, 54, 56, 57, 59, 60, 61, 63, 64, 65, 66, 67, 68, 69, 70, 71, 74, 75, 76, 77, 78, 82, 83, 85, 86, 89, 91, 92, 94, 95, 96, 97, 100, 101, 103]\n",
      "WARNING: aclu 80 is not present in the pf1D_all ratemaps. Which contain aclus: [2, 3, 7, 8, 9, 11, 12, 15, 17, 19, 22, 23, 24, 25, 29, 31, 34, 36, 37, 38, 41, 42, 44, 46, 47, 50, 51, 54, 56, 57, 59, 60, 61, 63, 64, 65, 66, 67, 68, 69, 70, 71, 74, 75, 76, 77, 78, 82, 83, 85, 86, 89, 91, 92, 94, 95, 96, 97, 100, 101, 103]\n",
      "\t saved C:\\Users\\pho\\repos\\Spike3DWorkEnv\\Spike3D\\EXTERNAL\\Screenshots\\ProgrammaticDisplayFunctionTesting\\2023-06-16\\kdiba_gor01_two_2006-6-08_21-16-25_BatchPhoJonathanReplayFRC_shared_7of9_[70, 71, 72, 73, 74, 75, 76, 77, 79, 80].png\n",
      "include_includelist: ['maze1', 'maze2', 'maze']\n",
      "long_epoch_name: maze1, short_epoch_name: maze2, global_epoch_name: maze\n",
      "WARNING: aclu 81 is not present in the pf1D_all ratemaps. Which contain aclus: [2, 3, 7, 8, 9, 11, 12, 15, 17, 19, 22, 23, 24, 25, 29, 31, 34, 36, 37, 38, 41, 42, 44, 46, 47, 50, 51, 54, 56, 57, 59, 60, 61, 63, 64, 65, 66, 67, 68, 69, 70, 71, 74, 75, 76, 77, 78, 82, 83, 85, 86, 89, 91, 92, 94, 95, 96, 97, 100, 101, 103]\n",
      "WARNING: aclu 84 is not present in the pf1D_all ratemaps. Which contain aclus: [2, 3, 7, 8, 9, 11, 12, 15, 17, 19, 22, 23, 24, 25, 29, 31, 34, 36, 37, 38, 41, 42, 44, 46, 47, 50, 51, 54, 56, 57, 59, 60, 61, 63, 64, 65, 66, 67, 68, 69, 70, 71, 74, 75, 76, 77, 78, 82, 83, 85, 86, 89, 91, 92, 94, 95, 96, 97, 100, 101, 103]\n",
      "WARNING: aclu 87 is not present in the pf1D_all ratemaps. Which contain aclus: [2, 3, 7, 8, 9, 11, 12, 15, 17, 19, 22, 23, 24, 25, 29, 31, 34, 36, 37, 38, 41, 42, 44, 46, 47, 50, 51, 54, 56, 57, 59, 60, 61, 63, 64, 65, 66, 67, 68, 69, 70, 71, 74, 75, 76, 77, 78, 82, 83, 85, 86, 89, 91, 92, 94, 95, 96, 97, 100, 101, 103]\n",
      "WARNING: aclu 88 is not present in the pf1D_all ratemaps. Which contain aclus: [2, 3, 7, 8, 9, 11, 12, 15, 17, 19, 22, 23, 24, 25, 29, 31, 34, 36, 37, 38, 41, 42, 44, 46, 47, 50, 51, 54, 56, 57, 59, 60, 61, 63, 64, 65, 66, 67, 68, 69, 70, 71, 74, 75, 76, 77, 78, 82, 83, 85, 86, 89, 91, 92, 94, 95, 96, 97, 100, 101, 103]\n",
      "WARNING: aclu 90 is not present in the pf1D_all ratemaps. Which contain aclus: [2, 3, 7, 8, 9, 11, 12, 15, 17, 19, 22, 23, 24, 25, 29, 31, 34, 36, 37, 38, 41, 42, 44, 46, 47, 50, 51, 54, 56, 57, 59, 60, 61, 63, 64, 65, 66, 67, 68, 69, 70, 71, 74, 75, 76, 77, 78, 82, 83, 85, 86, 89, 91, 92, 94, 95, 96, 97, 100, 101, 103]\n",
      "\t saved C:\\Users\\pho\\repos\\Spike3DWorkEnv\\Spike3D\\EXTERNAL\\Screenshots\\ProgrammaticDisplayFunctionTesting\\2023-06-16\\kdiba_gor01_two_2006-6-08_21-16-25_BatchPhoJonathanReplayFRC_shared_8of9_[81, 83, 84, 85, 86, 87, 88, 89, 90, 91].png\n",
      "include_includelist: ['maze1', 'maze2', 'maze']\n",
      "long_epoch_name: maze1, short_epoch_name: maze2, global_epoch_name: maze\n",
      "WARNING: aclu 93 is not present in the pf1D_all ratemaps. Which contain aclus: [2, 3, 7, 8, 9, 11, 12, 15, 17, 19, 22, 23, 24, 25, 29, 31, 34, 36, 37, 38, 41, 42, 44, 46, 47, 50, 51, 54, 56, 57, 59, 60, 61, 63, 64, 65, 66, 67, 68, 69, 70, 71, 74, 75, 76, 77, 78, 82, 83, 85, 86, 89, 91, 92, 94, 95, 96, 97, 100, 101, 103]\n",
      "WARNING: aclu 98 is not present in the pf1D_all ratemaps. Which contain aclus: [2, 3, 7, 8, 9, 11, 12, 15, 17, 19, 22, 23, 24, 25, 29, 31, 34, 36, 37, 38, 41, 42, 44, 46, 47, 50, 51, 54, 56, 57, 59, 60, 61, 63, 64, 65, 66, 67, 68, 69, 70, 71, 74, 75, 76, 77, 78, 82, 83, 85, 86, 89, 91, 92, 94, 95, 96, 97, 100, 101, 103]\n",
      "WARNING: aclu 99 is not present in the pf1D_all ratemaps. Which contain aclus: [2, 3, 7, 8, 9, 11, 12, 15, 17, 19, 22, 23, 24, 25, 29, 31, 34, 36, 37, 38, 41, 42, 44, 46, 47, 50, 51, 54, 56, 57, 59, 60, 61, 63, 64, 65, 66, 67, 68, 69, 70, 71, 74, 75, 76, 77, 78, 82, 83, 85, 86, 89, 91, 92, 94, 95, 96, 97, 100, 101, 103]\n",
      "WARNING: aclu 102 is not present in the pf1D_all ratemaps. Which contain aclus: [2, 3, 7, 8, 9, 11, 12, 15, 17, 19, 22, 23, 24, 25, 29, 31, 34, 36, 37, 38, 41, 42, 44, 46, 47, 50, 51, 54, 56, 57, 59, 60, 61, 63, 64, 65, 66, 67, 68, 69, 70, 71, 74, 75, 76, 77, 78, 82, 83, 85, 86, 89, 91, 92, 94, 95, 96, 97, 100, 101, 103]\n",
      "\t saved C:\\Users\\pho\\repos\\Spike3DWorkEnv\\Spike3D\\EXTERNAL\\Screenshots\\ProgrammaticDisplayFunctionTesting\\2023-06-16\\kdiba_gor01_two_2006-6-08_21-16-25_BatchPhoJonathanReplayFRC_shared_9of9_[92, 93, 94, 95, 96, 97, 98, 99, 100, 102].png\n",
      "curr_session_parent_out_path: C:\\Users\\pho\\repos\\Spike3DWorkEnv\\Spike3D\\EXTERNAL\\Screenshots\\ProgrammaticDisplayFunctionTesting\\2023-06-16\n",
      "pre-sort: included_unit_indicies: [ 0  1  2  3  4  5  6  7  8  9 10 11 12 13 14 15 16 17 18 19 20 21 22 23\n",
      " 24 25 26 27 28 29 30 31 32 33 34 35 36 37 38 39 40 41 42 43 44 45 46 47\n",
      " 48 49 50 51 52 53 54 55 56 57 58 59]\n",
      "post-sort: included_unit_indicies: [52  5 51 58 24 27 12 33 21 20 31 39 14 38  4  0 23 35 46 30 49 57 42  2\n",
      " 59 34 44 22 11 32 15 19 18 48 26  3  9  6 28 36 29 10 43 41 53 17 54 55\n",
      " 56 45  7 25 40 37  1 47 13 16  8 50]\n",
      "\t saved C:\\Users\\pho\\repos\\Spike3DWorkEnv\\Spike3D\\EXTERNAL\\Screenshots\\ProgrammaticDisplayFunctionTesting\\2023-06-16\\kdiba_gor01_two_2006-6-08_21-16-25_maze1_1d_placefields.png\n",
      "pre-sort: included_unit_indicies: [ 0  1  2  3  4  5  6  7  8  9 10 11 12 13 14 15 16 17 18 19 20 21 22 23\n",
      " 24 25 26 27 28 29 30 31 32 33 34 35 36 37 38 39 40 41 42 43 44 45 46 47\n",
      " 48 49 50 51]\n",
      "post-sort: included_unit_indicies: [ 4  9 44 46  8 27 47 36 45 19 12 11 17  5 33 16 32 41 40  0  6  2 29 51\n",
      " 10 43 38 24 28 18 26 42 23 39  1 13 15 22  7 50 30 48 49 37 35 34 21 14\n",
      " 25  3 31 20]\n",
      "\t saved C:\\Users\\pho\\repos\\Spike3DWorkEnv\\Spike3D\\EXTERNAL\\Screenshots\\ProgrammaticDisplayFunctionTesting\\2023-06-16\\kdiba_gor01_two_2006-6-08_21-16-25_maze2_1d_placefields.png\n",
      "pre-sort: included_unit_indicies: [ 0  1  2  3  4  5  6  7  8  9 10 11 12 13 14 15 16 17 18 19 20 21 22 23\n",
      " 24 25 26 27 28 29 30 31 32 33 34 35 36 37 38 39 40 41 42 43 44 45 46 47\n",
      " 48 49 50 51 52 53 54 55 56 57 58 59 60]\n",
      "post-sort: included_unit_indicies: [56 53 52  6 24 42 59 27 13 39 31  4 33 23 15 21 20 46  5 38 30 47  0  2\n",
      " 60 58 35 50 44 34 29 22 12 32 28 16 49 19 26 43 10  7 36 55 11  3 18 54\n",
      " 57 41 45  8 25 40 37  1 48 14 17 51  9]\n",
      "\t saved C:\\Users\\pho\\repos\\Spike3DWorkEnv\\Spike3D\\EXTERNAL\\Screenshots\\ProgrammaticDisplayFunctionTesting\\2023-06-16\\kdiba_gor01_two_2006-6-08_21-16-25_maze_1d_placefields.png\n",
      "\t saved C:\\Users\\pho\\repos\\Spike3DWorkEnv\\Spike3D\\EXTERNAL\\Screenshots\\ProgrammaticDisplayFunctionTesting\\2023-06-16\\kdiba_gor01_two_2006-6-08_21-16-25_maze1__display_2d_placefield_result_plot_ratemaps_2D.png\n",
      "\t saved C:\\Users\\pho\\repos\\Spike3DWorkEnv\\Spike3D\\EXTERNAL\\Screenshots\\ProgrammaticDisplayFunctionTesting\\2023-06-16\\kdiba_gor01_two_2006-6-08_21-16-25_maze2__display_2d_placefield_result_plot_ratemaps_2D.png\n",
      "\t saved C:\\Users\\pho\\repos\\Spike3DWorkEnv\\Spike3D\\EXTERNAL\\Screenshots\\ProgrammaticDisplayFunctionTesting\\2023-06-16\\kdiba_gor01_two_2006-6-08_21-16-25_maze__display_2d_placefield_result_plot_ratemaps_2D.png\n",
      "\t saved C:\\Users\\pho\\repos\\Spike3DWorkEnv\\Spike3D\\EXTERNAL\\Screenshots\\ProgrammaticDisplayFunctionTesting\\2023-06-16\\kdiba_gor01_two_2006-6-08_21-16-25_maze1_plot_occupancy_OCCUPANCY.png\n",
      "\t saved C:\\Users\\pho\\repos\\Spike3DWorkEnv\\Spike3D\\EXTERNAL\\Screenshots\\ProgrammaticDisplayFunctionTesting\\2023-06-16\\kdiba_gor01_two_2006-6-08_21-16-25_maze2_plot_occupancy_OCCUPANCY.png\n",
      "\t saved C:\\Users\\pho\\repos\\Spike3DWorkEnv\\Spike3D\\EXTERNAL\\Screenshots\\ProgrammaticDisplayFunctionTesting\\2023-06-16\\kdiba_gor01_two_2006-6-08_21-16-25_maze_plot_occupancy_OCCUPANCY.png\n",
      "\t saved C:\\Users\\pho\\repos\\Spike3DWorkEnv\\Spike3D\\EXTERNAL\\Screenshots\\ProgrammaticDisplayFunctionTesting\\2023-06-16\\kdiba_gor01_two_2006-6-08_21-16-25_long_short_firing_rate_indicies_display_long_short_laps.png\n",
      "global_y_min_SHORT: 0.0, global_y_max_SHORT: 4.949187007791085\n",
      "global_y_min_LONG: 0.0, global_y_max_LONG: 4.9203927415218285\n",
      "global_y_min: 0.0, global_y_max: 4.949187007791085\n",
      "\t saved C:\\Users\\pho\\repos\\Spike3DWorkEnv\\Spike3D\\EXTERNAL\\Screenshots\\ProgrammaticDisplayFunctionTesting\\2023-06-16\\kdiba_gor01_two_2006-6-08_21-16-25_plot_expected_vs_observed_epoch_idx_obs_exp_diff_ptp.png\n",
      "active_identifying_ctx_string: \"kdiba|gor01|two|2006-6-08_21-16-25|DecodedEpochSlices|replays|long_results_obj|1of1|[ 0  1  2  3  4  5  6  7  8  9 10 11 12 13 14 15 16 17 18 19 20 21 22 23\n",
      " 24 25 26 27 28 29 30 31 32 33]\"\n",
      "active_identifying_ctx_string: \"kdiba|gor01|two|2006-6-08_21-16-25|DecodedEpochSlices|replays|long_results_obj|1of1|[ 0  1  2  3  4  5  6  7  8  9 10 11 12 13 14 15 16 17 18 19 20 21 22 23\n",
      " 24 25 26 27 28 29 30 31 32 33]\"\n",
      "\t saved C:\\Users\\pho\\repos\\Spike3DWorkEnv\\Spike3D\\EXTERNAL\\Screenshots\\ProgrammaticDisplayFunctionTesting\\2023-06-16\\kdiba_gor01_two_2006-6-08_21-16-25_DecodedEpochSlices_replays_long_results_obj.png\n",
      "active_identifying_ctx_string: \"kdiba|gor01|two|2006-6-08_21-16-25|DecodedEpochSlices|replays|short_results_obj|1of1|[ 0  1  2  3  4  5  6  7  8  9 10 11 12 13 14 15 16 17 18 19 20 21 22 23\n",
      " 24 25 26 27 28 29 30 31 32 33]\"\n",
      "active_identifying_ctx_string: \"kdiba|gor01|two|2006-6-08_21-16-25|DecodedEpochSlices|replays|short_results_obj|1of1|[ 0  1  2  3  4  5  6  7  8  9 10 11 12 13 14 15 16 17 18 19 20 21 22 23\n",
      " 24 25 26 27 28 29 30 31 32 33]\"\n",
      "\t saved C:\\Users\\pho\\repos\\Spike3DWorkEnv\\Spike3D\\EXTERNAL\\Screenshots\\ProgrammaticDisplayFunctionTesting\\2023-06-16\\kdiba_gor01_two_2006-6-08_21-16-25_DecodedEpochSlices_replays_short_results_obj.png\n",
      "\t saved C:\\Users\\pho\\repos\\Spike3DWorkEnv\\Spike3D\\EXTERNAL\\Screenshots\\ProgrammaticDisplayFunctionTesting\\2023-06-16\\kdiba_gor01_two_2006-6-08_21-16-25__display_grid_bin_bounds_validation.png\n",
      "\t saved C:\\Users\\pho\\repos\\Spike3DWorkEnv\\Spike3D\\EXTERNAL\\Screenshots\\ProgrammaticDisplayFunctionTesting\\2023-06-16\\kdiba_gor01_two_2006-6-08_21-16-25_running_and_replay_speeds_over_time.png\n",
      "\t saved C:\\Users\\pho\\repos\\Spike3DWorkEnv\\Spike3D\\EXTERNAL\\Screenshots\\ProgrammaticDisplayFunctionTesting\\2023-06-16\\kdiba_gor01_two_2006-6-08_21-16-25_display_long_short_laps.png\n",
      "\t saved C:\\Users\\pho\\repos\\Spike3DWorkEnv\\Spike3D\\EXTERNAL\\Screenshots\\ProgrammaticDisplayFunctionTesting\\2023-06-16\\kdiba_gor01_two_2006-6-08_21-16-25_maze1_plot_single_track_firing_rate_compare.png\n",
      "\t saved C:\\Users\\pho\\repos\\Spike3DWorkEnv\\Spike3D\\EXTERNAL\\Screenshots\\ProgrammaticDisplayFunctionTesting\\2023-06-16\\kdiba_gor01_two_2006-6-08_21-16-25_maze2_plot_single_track_firing_rate_compare.png\n",
      "Neptuner.stop() called!\n",
      "Shutting down background jobs, please wait a moment...\n",
      "Done!\n",
      "Waiting for the remaining 32 operations to synchronize with Neptune. Do not kill this process.\n",
      "All 32 operations synced, thanks for waiting!\n",
      "Explore the metadata in the Neptune app:\n",
      "https://app.neptune.ai/commander.pho/PhoDibaLongShortUpdated/e/LS2023-98/metadata\n",
      "Shutting down background jobs, please wait a moment...\n",
      "Done!\n",
      "All 0 operations synced, thanks for waiting!\n",
      "Explore the metadata in the Neptune app:\n",
      "https://app.neptune.ai/commander.pho/PhoDibaLongShortUpdated/metadata\n",
      "Neptuner stoppped.\n",
      "Neptuner.stop() called!\n",
      "Neptuner stoppped.\n"
     ]
    }
   ],
   "source": [
    "curr_active_pipeline.reload_default_display_functions()\n",
    "\n",
    "neptuner = batch_perform_all_plots(curr_active_pipeline, enable_neptune=True)\n"
   ]
  },
  {
   "attachments": {},
   "cell_type": "markdown",
   "id": "7e7106ef",
   "metadata": {},
   "source": [
    "### Pipeline Loading/Saving [Optional]"
   ]
  },
  {
   "cell_type": "code",
   "execution_count": null,
   "id": "5a7f3fa3",
   "metadata": {},
   "outputs": [],
   "source": [
    "curr_active_pipeline.save_pipeline(saving_mode=PipelineSavingScheme.TEMP_THEN_OVERWRITE) # AttributeError: 'PfND_TimeDependent' object has no attribute '_included_thresh_neurons_indx'\n",
    "# TypeError: cannot pickle 'MplMultiTab' object\n",
    "# PicklingError: Can't pickle .set_closure_cell at 0x000002BF248F50D0>: it's not found as attr._compat.make_set_closure_cell..set_closure_cell\n",
    "# TypeError: cannot pickle 'PyQt5.QtCore.pyqtSignal' object"
   ]
  },
  {
   "cell_type": "code",
   "execution_count": null,
   "id": "c09c2afd",
   "metadata": {},
   "outputs": [],
   "source": [
    "curr_active_pipeline.save_pipeline(saving_mode=PipelineSavingScheme.OVERWRITE_IN_PLACE)"
   ]
  },
  {
   "cell_type": "code",
   "execution_count": null,
   "id": "12c4c775",
   "metadata": {},
   "outputs": [],
   "source": [
    "curr_active_pipeline.save_global_computation_results() # PicklingError: Can't pickle .set_closure_cell at 0x000002BF248F50D0>: it's not found as attr._compat.make_set_closure_cell..set_closure_cell"
   ]
  },
  {
   "cell_type": "code",
   "execution_count": null,
   "id": "dc47d835",
   "metadata": {},
   "outputs": [],
   "source": [
    "curr_active_pipeline.load_pickled_global_computation_results()"
   ]
  },
  {
   "cell_type": "code",
   "execution_count": null,
   "id": "241dc49f",
   "metadata": {},
   "outputs": [],
   "source": [
    "curr_active_pipeline.clear_display_outputs()\n",
    "curr_active_pipeline.clear_registered_output_files()"
   ]
  },
  {
   "cell_type": "code",
   "execution_count": null,
   "id": "ba716fe2",
   "metadata": {},
   "outputs": [],
   "source": [
    "curr_active_pipeline.save_global_computation_results()"
   ]
  },
  {
   "attachments": {},
   "cell_type": "markdown",
   "id": "1d819fa7",
   "metadata": {},
   "source": [
    "# Get output files:"
   ]
  },
  {
   "cell_type": "code",
   "execution_count": null,
   "id": "7ae44834",
   "metadata": {},
   "outputs": [],
   "source": [
    "from neuropy.core.session.Formats.BaseDataSessionFormats import DataSessionFormatBaseRegisteredClass\n",
    "from neuropy.core.session.KnownDataSessionTypeProperties import KnownDataSessionTypeProperties\n",
    "from neuropy.core.session.dataSession import DataSession\n",
    "from neuropy.core.session.Formats.SessionSpecifications import SessionFolderSpec, SessionFileSpec\n",
    "\n",
    "# 'ripple_df.pkl', .ripple.npy'\n",
    "\n",
    "# files_list = [curr_active_pipeline.sess.filePrefix.with_suffix(a_suffix) for a_suffix in session_folder_output_file_suffix_list]\n",
    "# files_list\n",
    "\n",
    "\"\"\"\n",
    "KDIBA/pin01/one/11-02_17-46-44/11-02_17-46-44.interpolated_spike_positions.npy,\"2023-06-07 01:03:36\",35290406\n",
    "KDIBA/pin01/one/11-02_17-46-44/11-02_17-46-44.mua.npy,\"2023-06-07 01:03:37\",7766554\n",
    "KDIBA/pin01/one/11-02_17-46-44/11-02_17-46-44.pbe.npy,\"2023-06-07 01:03:37\",10902\n",
    "KDIBA/pin01/one/11-02_17-46-44/11-02_17-46-44.position.npy,\"2023-06-07 01:03:36\",2446247\n",
    "\"\"\"\n",
    "\n",
    "session_name = curr_active_pipeline.session_name\n",
    "print(f'session_name: {session_name}')\n",
    "output_folder_spec: SessionFolderSpec = SessionFolderSpec(required=[\n",
    "        SessionFileSpec('loadedSessPickle.pkl', session_name, 'The primary .pkl file after computing the session', None),\n",
    "        SessionFileSpec('{}.interpolated_spike_positions.npy', session_name, 'A cached initial session computation', None),\n",
    "        SessionFileSpec('{}.mua.npy', session_name, 'A cached initial session computation', None),\n",
    "        SessionFileSpec('{}.pbe.npy', session_name, 'A cached initial session computation', None),\n",
    "        SessionFileSpec('{}.position.npy', session_name, 'A cached initial session computation', None),\n",
    "        SessionFileSpec('output/global_computation_results.pkl', session_name, 'The global_computation_results computed for the pipeline.', None),\n",
    "    ],\n",
    "    optional=[\n",
    "        SessionFileSpec('output/leave_one_out_results_short.pkl', session_name, 'Optional caching file.', None),\n",
    "        SessionFileSpec('output/leave_one_out_surprise_results_long.pkl', session_name, 'Optional caching file', None),\n",
    "        SessionFileSpec('ripple_df.pkl', session_name, 'SWR ripples computed by an external script from another repo.', None),\n",
    "        SessionFileSpec('{}.ripple.npy', session_name, 'Ripples computed by this repo and cached to the directory.', None),\n",
    "    ]\n",
    ")\n",
    "\n",
    "\n",
    "is_resolved, resolved_required_filespecs_dict, resolved_optional_filespecs_dict = output_folder_spec.validate(curr_active_pipeline.sess.basepath)\n",
    "\n",
    "if is_resolved:\n",
    "    print(f'resolved_required_filespecs_dict: {resolved_required_filespecs_dict}')\n",
    "    \n",
    "\n",
    "# out_dict = {}\n",
    "# out_dict['required_files'] = [str(a_path) for a_path in resolved_required_filespecs_dict.keys() if a_path.resolve().exists()]\n",
    "# out_dict['optional_files'] = [str(a_path) for a_path in resolved_optional_filespecs_dict.keys() if a_path.resolve().exists()]\n",
    "# out_dict\n",
    "\n",
    "# Get the list of strings for all output files that actually exist:\n",
    "all_output_file_paths: list[str] = [str(a_path) for a_path in resolved_required_filespecs_dict.keys() if a_path.resolve().exists()] + [str(a_path) for a_path in resolved_optional_filespecs_dict.keys() if a_path.resolve().exists()]\n",
    "all_output_file_paths\n"
   ]
  },
  {
   "cell_type": "code",
   "execution_count": null,
   "id": "5a0d80e0",
   "metadata": {},
   "outputs": [],
   "source": [
    "\n",
    "# curr_active_pipeline.register_output_file(output_path=output_path, \n",
    "curr_active_pipeline.registered_output_files_list\n",
    "curr_active_pipeline.registered_output_files\n",
    "# curr_active_pipeline.get_output_path()\n",
    "\n",
    "# reveal_in_system_file_manager(curr_active_pipeline.get_daily_programmatic_session_output_path())"
   ]
  },
  {
   "cell_type": "code",
   "execution_count": null,
   "id": "d15a17f8",
   "metadata": {},
   "outputs": [],
   "source": [
    "from pyphoplacecellanalysis.General.Pipeline.Stages.Loading import loadData, saveData\n",
    "\n",
    "# Save in case something goes wrong:\n",
    "temp_out_path = 'registered_output_files.pkl'\n"
   ]
  },
  {
   "cell_type": "code",
   "execution_count": null,
   "id": "20fea0fd",
   "metadata": {},
   "outputs": [],
   "source": [
    "saveData(temp_out_path, (curr_active_pipeline.registered_output_files.to_dict()))\n",
    "reveal_in_system_file_manager(temp_out_path)"
   ]
  },
  {
   "cell_type": "code",
   "execution_count": null,
   "id": "25050ca5",
   "metadata": {},
   "outputs": [],
   "source": [
    "test_registered_output_files = loadData(temp_out_path)\n",
    "test_registered_output_files\n",
    "curr_active_pipeline.registered_output_files = test_registered_output_files"
   ]
  },
  {
   "attachments": {},
   "cell_type": "markdown",
   "id": "c850782f",
   "metadata": {},
   "source": [
    "# End Run"
   ]
  },
  {
   "cell_type": "code",
   "execution_count": 7,
   "id": "dda48261",
   "metadata": {
    "tags": [
     "load",
     "ACTIVE"
    ]
   },
   "outputs": [],
   "source": [
    "## long_short_decoding_analyses:\n",
    "curr_long_short_decoding_analyses = curr_active_pipeline.global_computation_results.computed_data['long_short_leave_one_out_decoding_analysis']\n",
    "## Extract variables from results object:\n",
    "long_one_step_decoder_1D, short_one_step_decoder_1D, long_replays, short_replays, global_replays, long_shared_aclus_only_decoder, short_shared_aclus_only_decoder, shared_aclus, long_short_pf_neurons_diff, n_neurons, long_results_obj, short_results_obj, is_global = curr_long_short_decoding_analyses.long_decoder, curr_long_short_decoding_analyses.short_decoder, curr_long_short_decoding_analyses.long_replays, curr_long_short_decoding_analyses.short_replays, curr_long_short_decoding_analyses.global_replays, curr_long_short_decoding_analyses.long_shared_aclus_only_decoder, curr_long_short_decoding_analyses.short_shared_aclus_only_decoder, curr_long_short_decoding_analyses.shared_aclus, curr_long_short_decoding_analyses.long_short_pf_neurons_diff, curr_long_short_decoding_analyses.n_neurons, curr_long_short_decoding_analyses.long_results_obj, curr_long_short_decoding_analyses.short_results_obj, curr_long_short_decoding_analyses.is_global\n",
    "\n",
    "# (long_one_step_decoder_1D, short_one_step_decoder_1D), (long_one_step_decoder_2D, short_one_step_decoder_2D) = compute_short_long_constrained_decoders(curr_active_pipeline, recalculate_anyway=True)\n",
    "long_epoch_name, short_epoch_name, global_epoch_name = curr_active_pipeline.find_LongShortGlobal_epoch_names()\n",
    "long_epoch_context, short_epoch_context, global_epoch_context = [curr_active_pipeline.filtered_contexts[a_name] for a_name in (long_epoch_name, short_epoch_name, global_epoch_name)]\n",
    "long_session, short_session, global_session = [curr_active_pipeline.filtered_sessions[an_epoch_name] for an_epoch_name in [long_epoch_name, short_epoch_name, global_epoch_name]]\n",
    "long_results, short_results, global_results = [curr_active_pipeline.computation_results[an_epoch_name]['computed_data'] for an_epoch_name in [long_epoch_name, short_epoch_name, global_epoch_name]]\n",
    "long_computation_config, short_computation_config, global_computation_config = [curr_active_pipeline.computation_results[an_epoch_name]['computation_config'] for an_epoch_name in [long_epoch_name, short_epoch_name, global_epoch_name]]\n",
    "long_pf1D, short_pf1D, global_pf1D = long_results.pf1D, short_results.pf1D, global_results.pf1D\n",
    "long_pf2D, short_pf2D, global_pf2D = long_results.pf2D, short_results.pf2D, global_results.pf2D\n",
    "decoding_time_bin_size = long_one_step_decoder_1D.time_bin_size # 1.0/30.0 # 0.03333333333333333\n",
    "\n",
    "## Get global 'long_short_post_decoding' results:\n",
    "curr_long_short_post_decoding = curr_active_pipeline.global_computation_results.computed_data['long_short_post_decoding']\n",
    "expected_v_observed_result, curr_long_short_rr = curr_long_short_post_decoding.expected_v_observed_result, curr_long_short_post_decoding.rate_remapping\n",
    "rate_remapping_df, high_remapping_cells_only = curr_long_short_rr.rr_df, curr_long_short_rr.high_only_rr_df\n",
    "Flat_epoch_time_bins_mean, Flat_decoder_time_bin_centers, num_neurons, num_timebins_in_epoch, num_total_flat_timebins, is_short_track_epoch, is_long_track_epoch, short_short_diff, long_long_diff = expected_v_observed_result['Flat_epoch_time_bins_mean'], expected_v_observed_result['Flat_decoder_time_bin_centers'], expected_v_observed_result['num_neurons'], expected_v_observed_result['num_timebins_in_epoch'], expected_v_observed_result['num_total_flat_timebins'], expected_v_observed_result['is_short_track_epoch'], expected_v_observed_result['is_long_track_epoch'], expected_v_observed_result['short_short_diff'], expected_v_observed_result['long_long_diff']\n"
   ]
  },
  {
   "cell_type": "code",
   "execution_count": 8,
   "id": "08e06ba8",
   "metadata": {},
   "outputs": [],
   "source": [
    "from pyphocorehelpers.mixins.member_enumerating import AllFunctionEnumeratingMixin, AllCallableEnumeratingMixin\n",
    "from pyphoplacecellanalysis.General.Pipeline.Stages.DisplayFunctions.MultiContextComparingDisplayFunctions.MultiContextComparingDisplayFunctions import MultiContextComparingDisplayFunctions\n",
    "\n",
    "curr_active_pipeline.reload_default_display_functions()\n",
    "# MultiContextComparingDisplayFunctions\n",
    "# MultiContextComparingDisplayFunctions.get_all_callables(use_definition_order=True)"
   ]
  },
  {
   "cell_type": "code",
   "execution_count": null,
   "id": "eb2cef02",
   "metadata": {},
   "outputs": [],
   "source": [
    "# Clearing 'long_short_post_decoding'\n",
    "# del curr_active_pipeline.global_computation_results.computed_data['long_short_post_decoding']\n",
    "# drop_columns = [col for col in df2.columns if col in df1.columns]\n",
    "# df1 = df1.drop(drop_columns, axis=1)"
   ]
  },
  {
   "attachments": {},
   "cell_type": "markdown",
   "id": "48857334",
   "metadata": {},
   "source": [
    "# grid_bin_bounds calculation without user interaction"
   ]
  },
  {
   "cell_type": "code",
   "execution_count": null,
   "id": "dffb912e",
   "metadata": {},
   "outputs": [],
   "source": [
    "# global_session.laps.to_dataframe()\n",
    "lap_specific_epochs = curr_active_pipeline.sess.laps.as_epoch_obj().get_non_overlapping().filtered_by_duration(1.0, 30.0) # laps specifically for use in the placefields with non-overlapping, duration, constraints: the lap must be at least 1 second long and at most 30 seconds long\n",
    "\n",
    "pos_df = global_session.position.to_dataframe()\n",
    "# pos_df.time_slicer.slice("
   ]
  },
  {
   "cell_type": "code",
   "execution_count": null,
   "id": "70ebffc2",
   "metadata": {},
   "outputs": [],
   "source": [
    "\n",
    "laps_pos_df = global_session.position.to_dataframe()[global_session.position.to_dataframe().lap.notnull()]\n",
    "laps_only_grid_bin_bounds = PlacefieldComputationParameters.compute_grid_bin_bounds(laps_pos_df.x.to_numpy(), laps_pos_df.y.to_numpy())\n",
    "print(f'laps_only_grid_bin_bounds: {laps_only_grid_bin_bounds}')"
   ]
  },
  {
   "cell_type": "code",
   "execution_count": null,
   "id": "c0f6d500",
   "metadata": {},
   "outputs": [],
   "source": [
    "unfiltered_sess_grid_bin_bounds = PlacefieldComputationParameters.compute_grid_bin_bounds(curr_active_pipeline.sess.position.x, curr_active_pipeline.sess.position.y)\n",
    "print(f'unfiltered_sess_grid_bin_bounds: {unfiltered_sess_grid_bin_bounds}')\n",
    "# long_pos_df, short_pos_df, global_pos_df, all_pos_df = [a_sess.position.to_dataframe() for a_sess in (long_session, short_session, global_session, curr_active_pipeline.sess)]\n",
    "\n",
    "long_grid_bin_bounds, short_grid_bin_bounds, global_grid_bin_bounds, all_grid_bin_bounds = [PlacefieldComputationParameters.compute_grid_bin_bounds(a_sess.position.x, a_sess.position.y) for a_sess in (long_session, short_session, global_session, curr_active_pipeline.sess)]\n",
    "print(long_grid_bin_bounds, short_grid_bin_bounds, global_grid_bin_bounds, all_grid_bin_bounds, sep=\"\\n\")"
   ]
  },
  {
   "attachments": {},
   "cell_type": "markdown",
   "id": "d794a572",
   "metadata": {
    "tags": [
     "defer"
    ]
   },
   "source": [
    "# 2023-06-13 - Updating Object Persistance from the dates added to the local computations:\n",
    "TODO 2023-06-13 18:07: - [ ] The global_computation_results should check the `current_computation_completion_times` corresponding to the local functions that contribute results that they depend on (like 'pf1D', etc) to make sure they haven't changed. If they have changed, they should recompute."
   ]
  },
  {
   "cell_type": "code",
   "execution_count": null,
   "id": "cc28bcdb",
   "metadata": {},
   "outputs": [],
   "source": [
    "from pyphoplacecellanalysis.General.Pipeline.NeuropyPipeline import LoadedObjectPersistanceState\n",
    "from datetime import datetime\n",
    "# curr_active_pipeline.pipeline_compare_dict\n",
    "# curr_active_pipeline.computation_results['maze1']['computation_times']\n",
    "\t\n",
    "any_most_recent_computation_time, each_epoch_latest_computation_time, each_epoch_each_result_computation_completion_times = curr_active_pipeline.get_computation_times()\n",
    "each_epoch_each_result_computation_completion_times\n",
    "\n",
    "# any_latest_computation_time: 2023-06-13 17:40:44.628404\n",
    "# current_epoch_latest_computation_time: {'maze1': datetime.datetime(2023, 6, 13, 17, 39, 18, 195870), 'maze2': datetime.datetime(2023, 6, 13, 17, 40, 44, 628404), 'maze': datetime.datetime(2023, 6, 13, 17, 33, 33, 859610)}\n",
    "# current_computation_status: {'maze1': {'_perform_baseline_placefield_computation': datetime.datetime(2023, 6, 13, 17, 24, 17, 681574),\n",
    "#   '_perform_position_decoding_computation': datetime.datetime(2023, 6, 13, 17, 39, 18, 195870),\n",
    "#   '_perform_two_step_position_decoding_computation': datetime.datetime(2023, 6, 13, 17, 26, 17, 278340),\n",
    "#   '_perform_pf_find_ratemap_peaks_computation': datetime.datetime(2023, 6, 13, 17, 26, 21, 5364),\n",
    "#   '_perform_extended_statistics_computation': datetime.datetime(2023, 6, 13, 17, 26, 21, 31363),\n",
    "#   '_perform_firing_rate_trends_computation': datetime.datetime(2023, 6, 13, 17, 26, 22, 385595)},\n",
    "#  'maze2': {'_perform_baseline_placefield_computation': datetime.datetime(2023, 6, 13, 17, 26, 23, 665116),\n",
    "#   '_perform_position_decoding_computation': datetime.datetime(2023, 6, 13, 17, 40, 44, 628404),\n",
    "#   '_perform_two_step_position_decoding_computation': datetime.datetime(2023, 6, 13, 17, 28, 32, 360685),\n",
    "#   '_perform_pf_find_ratemap_peaks_computation': datetime.datetime(2023, 6, 13, 17, 28, 36, 25350),\n",
    "#   '_perform_extended_statistics_computation': datetime.datetime(2023, 6, 13, 17, 28, 36, 49351),\n",
    "#   '_perform_firing_rate_trends_computation': datetime.datetime(2023, 6, 13, 17, 28, 37, 302445)},\n",
    "#  'maze': {'_perform_baseline_placefield_computation': datetime.datetime(2023, 6, 13, 17, 28, 39, 869814),\n",
    "#   '_perform_position_decoding_computation': datetime.datetime(2023, 6, 13, 17, 31, 56, 800175),\n",
    "#   '_perform_two_step_position_decoding_computation': datetime.datetime(2023, 6, 13, 17, 33, 26, 857989),\n",
    "#   '_perform_pf_find_ratemap_peaks_computation': datetime.datetime(2023, 6, 13, 17, 33, 30, 796529),\n",
    "#   '_perform_extended_statistics_computation': datetime.datetime(2023, 6, 13, 17, 33, 30, 836528),\n",
    "#   '_perform_firing_rate_trends_computation': datetime.datetime(2023, 6, 13, 17, 33, 33, 859610)}}\n",
    "\n"
   ]
  },
  {
   "cell_type": "code",
   "execution_count": null,
   "id": "71b3b268",
   "metadata": {},
   "outputs": [],
   "source": [
    "curr_active_pipeline.active_completed_computation_result_names"
   ]
  },
  {
   "cell_type": "code",
   "execution_count": null,
   "id": "a37211a2",
   "metadata": {},
   "outputs": [],
   "source": [
    "curr_active_pipeline.pipeline_compare_dict"
   ]
  },
  {
   "cell_type": "code",
   "execution_count": null,
   "id": "c34fa1c2",
   "metadata": {},
   "outputs": [],
   "source": [
    "\n",
    "# ('computed_data', ('pf1D', 'pf2D', 'pf1D_Decoder', 'pf2D_Decoder', 'pf2D_TwoStepDecoder', 'RatemapPeaksAnalysis', 'extended_stats', 'firing_rate_trends'))\n"
   ]
  },
  {
   "attachments": {},
   "cell_type": "markdown",
   "id": "844354b4",
   "metadata": {
    "tags": []
   },
   "source": [
    "# 2023-05-26 - Expected vs Observed firing rates\n",
    "## 2023-05-30 Comments from Kourosh:\n",
    "- concern: is it valid to use the most-likely predicted position for each decoder for this? Isn't it a bit circular because the firing rates determine the likelihood of the position?\n",
    "- sign-rank is equivalent of paired t-test for non-parametric, use that to compare the means for each cell after averaging over replays to remove the noise from that\n",
    "- OPTION: could add a continuous plot that shows the difference between the two decoders and the animal's measured position as a function of time (observed_x - long_decoded_x), (observed_x - short_decoded_x).\n",
    "- [x] Plot just replay-to-replay series, removing the time axis"
   ]
  },
  {
   "cell_type": "code",
   "execution_count": null,
   "id": "bf1a25f4",
   "metadata": {},
   "outputs": [],
   "source": [
    "## Get global 'long_short_post_decoding' results:\n",
    "curr_long_short_post_decoding = curr_active_pipeline.global_computation_results.computed_data['long_short_post_decoding']\n",
    "expected_v_observed_result, curr_long_short_rr = curr_long_short_post_decoding.expected_v_observed_result, curr_long_short_post_decoding.rate_remapping\n",
    "rate_remapping_df, high_remapping_cells_only = curr_long_short_rr.rr_df, curr_long_short_rr.high_only_rr_df\n",
    "Flat_epoch_time_bins_mean, Flat_decoder_time_bin_centers, num_neurons, num_timebins_in_epoch, num_total_flat_timebins, is_short_track_epoch, is_long_track_epoch, short_short_diff, long_long_diff = expected_v_observed_result['Flat_epoch_time_bins_mean'], expected_v_observed_result['Flat_decoder_time_bin_centers'], expected_v_observed_result['num_neurons'], expected_v_observed_result['num_timebins_in_epoch'], expected_v_observed_result['num_total_flat_timebins'], expected_v_observed_result['is_short_track_epoch'], expected_v_observed_result['is_long_track_epoch'], expected_v_observed_result['short_short_diff'], expected_v_observed_result['long_long_diff']\n",
    "\n",
    "num_epochs: int = len(num_timebins_in_epoch)"
   ]
  },
  {
   "attachments": {},
   "cell_type": "markdown",
   "id": "70955f60",
   "metadata": {},
   "source": [
    "## 2023-05-30 - `plot_expected_vs_observed`"
   ]
  },
  {
   "cell_type": "code",
   "execution_count": null,
   "id": "29e4ab2e",
   "metadata": {},
   "outputs": [],
   "source": [
    "from pyphoplacecellanalysis.General.Pipeline.Stages.DisplayFunctions.MultiContextComparingDisplayFunctions.LongShortTrackComparingDisplayFunctions import _prepare_plot_expected_vs_observed\n",
    "\n",
    "fig, axes, final_context, active_out_figure_paths = _prepare_plot_expected_vs_observed(curr_active_pipeline, defer_render=False)"
   ]
  },
  {
   "cell_type": "code",
   "execution_count": null,
   "id": "feeef8c0",
   "metadata": {},
   "outputs": [],
   "source": [
    "## 2023-05-31 - Reference Output of matplotlib figure to file, along with building appropriate context.\n",
    "active_session_figures_out_path = curr_active_pipeline.get_daily_programmatic_session_output_path()\n",
    "final_context = curr_active_pipeline.sess.get_context().adding_context('display_fn', display_fn_name='plot_expected_vs_observed').adding_context('display_kwargs', **display_kwargs)\n",
    "print(f'final_context: {final_context}')\n",
    "active_out_figure_paths = perform_write_to_file(fig, final_context, figures_parent_out_path=active_session_figures_out_path, register_output_file_fn=curr_active_pipeline.register_output_file)\n"
   ]
  },
  {
   "cell_type": "code",
   "execution_count": null,
   "id": "993412e0",
   "metadata": {},
   "outputs": [],
   "source": [
    "all_epochs_computed_observed_from_expected_difference_LONG[0] #.shape (42, 8)"
   ]
  },
  {
   "cell_type": "code",
   "execution_count": null,
   "id": "0319692c",
   "metadata": {},
   "outputs": [],
   "source": [
    "all_epochs_computed_observed_from_expected_difference_maximum_LONG[0] # .shape (42, 8)"
   ]
  },
  {
   "cell_type": "code",
   "execution_count": null,
   "id": "2fee52d0",
   "metadata": {},
   "outputs": [],
   "source": [
    "all_epochs_computed_expected_cell_firing_rates_mean_LONG[0] # .shape (42,)"
   ]
  },
  {
   "cell_type": "code",
   "execution_count": null,
   "id": "e21dbc64",
   "metadata": {},
   "outputs": [],
   "source": [
    "all_epochs_computed_observed_from_expected_difference_LONG[0].shape"
   ]
  },
  {
   "cell_type": "code",
   "execution_count": null,
   "id": "4a2d06a7",
   "metadata": {},
   "outputs": [],
   "source": [
    "from pyphoplacecellanalysis.General.Pipeline.Stages.ComputationFunctions.MultiContextComputationFunctions.LongShortTrackComputations import JonathanFiringRateAnalysisResult\n",
    "\n",
    "jonathan_firing_rate_analysis_result = JonathanFiringRateAnalysisResult(**curr_active_pipeline.global_computation_results.computed_data.jonathan_firing_rate_analysis.to_dict())"
   ]
  },
  {
   "cell_type": "code",
   "execution_count": null,
   "id": "33ac6c8d",
   "metadata": {},
   "outputs": [],
   "source": [
    "jonathan_firing_rate_analysis_result.rdf.rdf"
   ]
  },
  {
   "cell_type": "code",
   "execution_count": null,
   "id": "bdc9c2e5",
   "metadata": {},
   "outputs": [],
   "source": [
    "jonathan_firing_rate_analysis_result.time_binned_instantaneous_unit_specific_spike_rate.time_bins #.shape"
   ]
  },
  {
   "cell_type": "code",
   "execution_count": null,
   "id": "785ca961",
   "metadata": {},
   "outputs": [],
   "source": [
    "import matplotlib\n",
    "%matplotlib qt\n",
    "import matplotlib.pyplot as plt\n",
    "instantaneous_fr_df = deepcopy(jonathan_firing_rate_analysis_result.time_binned_instantaneous_unit_specific_spike_rate.instantaneous_unit_specific_spike_rate_values)\n",
    "instantaneous_fr_df['t'] = jonathan_firing_rate_analysis_result.time_binned_instantaneous_unit_specific_spike_rate.time_bins\n",
    "instantaneous_fr_df #.plot()\n",
    "\n",
    "smoothed_instantaneous_fr_df = instantaneous_fr_df.ewm(span=60).mean()\n",
    "\n",
    "smoothed_instantaneous_fr_df.plot(x='t')\n",
    "plt.title(\"Instantaneous Firing Rates\")\n",
    "plt.xlabel('time')\n",
    "plt.ylabel('Firing Rate (Hz)')"
   ]
  },
  {
   "cell_type": "code",
   "execution_count": null,
   "id": "0c8b7bbd",
   "metadata": {
    "tags": [
     "output",
     "figure",
     "display",
     "ACTIVE"
    ]
   },
   "outputs": [],
   "source": [
    "import matplotlib\n",
    "%matplotlib qt\n",
    "import matplotlib.pyplot as plt\n",
    "from pyphoplacecellanalysis.General.Mixins.ExportHelpers import build_figure_basename_from_display_context\n",
    "from pyphoplacecellanalysis.General.Pipeline.Stages.DisplayFunctions.MultiContextComparingDisplayFunctions.LongShortTrackComparingDisplayFunctions import _plot_session_long_short_track_firing_rate_figures\n",
    "from pyphoplacecellanalysis.General.Pipeline.Stages.ComputationFunctions.MultiContextComputationFunctions.LongShortTrackComputations import JonathanFiringRateAnalysisResult\n",
    "\n",
    "jonathan_firing_rate_analysis_result = JonathanFiringRateAnalysisResult(**curr_active_pipeline.global_computation_results.computed_data.jonathan_firing_rate_analysis.to_dict())\n",
    "long_plots, short_plots = _plot_session_long_short_track_firing_rate_figures(curr_active_pipeline, jonathan_firing_rate_analysis_result, figures_parent_out_path=curr_active_pipeline.get_output_path())"
   ]
  },
  {
   "cell_type": "code",
   "execution_count": null,
   "id": "345b3cca",
   "metadata": {},
   "outputs": [],
   "source": [
    "instantaneous_fr_df.set_index('t').to_clipboard()"
   ]
  },
  {
   "cell_type": "code",
   "execution_count": null,
   "id": "c7ff9bb5",
   "metadata": {},
   "outputs": [],
   "source": [
    "## Require placefield presence on either the long or the short\n",
    "jonathan_firing_rate_analysis_result.neuron_replay_stats_df = jonathan_firing_rate_analysis_result.neuron_replay_stats_df[np.logical_or(jonathan_firing_rate_analysis_result.neuron_replay_stats_df['has_long_pf'], jonathan_firing_rate_analysis_result.neuron_replay_stats_df['has_short_pf'])]"
   ]
  },
  {
   "cell_type": "code",
   "execution_count": null,
   "id": "87851fff",
   "metadata": {},
   "outputs": [],
   "source": [
    "jonathan_firing_rate_analysis_result.neuron_replay_stats_df[np.logical_or(jonathan_firing_rate_analysis_result.neuron_replay_stats_df['has_long_pf'], jonathan_firing_rate_analysis_result.neuron_replay_stats_df['has_short_pf'])].index.to_numpy()"
   ]
  },
  {
   "attachments": {},
   "cell_type": "markdown",
   "id": "8de2e3da",
   "metadata": {},
   "source": [
    "# 2023-05-19 - Testing S-only emergence, L-only replays in S, peak position remappings "
   ]
  },
  {
   "cell_type": "code",
   "execution_count": null,
   "id": "d082385f",
   "metadata": {},
   "outputs": [],
   "source": [
    "from pyphoplacecellanalysis.General.Pipeline.Stages.ComputationFunctions.MultiContextComputationFunctions.LongShortTrackComputations import JonathanFiringRateAnalysisResult\n",
    "\n",
    "jonathan_firing_rate_analysis_result = JonathanFiringRateAnalysisResult(**curr_active_pipeline.global_computation_results.computed_data.jonathan_firing_rate_analysis.to_dict())\n",
    "neuron_replay_stats_df = jonathan_firing_rate_analysis_result.neuron_replay_stats_df.copy()\n",
    "neuron_replay_stats_df"
   ]
  },
  {
   "cell_type": "code",
   "execution_count": null,
   "id": "5e3836e0",
   "metadata": {},
   "outputs": [],
   "source": [
    "neuron_replay_stats_df.sort_values(by=['long_pf_peak_x'], inplace=False, ascending=True)"
   ]
  },
  {
   "cell_type": "code",
   "execution_count": null,
   "id": "d23e5131",
   "metadata": {},
   "outputs": [],
   "source": [
    "\n",
    "from pyphoplacecellanalysis.General.Mixins.CrossComputationComparisonHelpers import SplitPartitionMembership, SetPartition\n",
    "## 2023-05-19 - Get S-only pfs\n",
    "is_S_pf_only = np.logical_and(np.logical_not(neuron_replay_stats_df['has_long_pf']), neuron_replay_stats_df['has_short_pf'])\n",
    "is_S_only = neuron_replay_stats_df.track_membership == SplitPartitionMembership.RIGHT_ONLY\n",
    "assert (is_S_pf_only == is_S_only).all()\n",
    "S_only_aclus = neuron_replay_stats_df.index[is_S_only].to_numpy()\n",
    "neuron_replay_stats_df[is_S_pf_only]\n"
   ]
  },
  {
   "cell_type": "code",
   "execution_count": null,
   "id": "3bc5b2a5",
   "metadata": {},
   "outputs": [],
   "source": [
    "\n",
    "## Show L-only pfs stop replaying on S\n",
    "is_L_pf_only = np.logical_and(np.logical_not(neuron_replay_stats_df['has_short_pf']), neuron_replay_stats_df['has_long_pf'])\n",
    "is_L_only = neuron_replay_stats_df.track_membership == SplitPartitionMembership.LEFT_ONLY\n",
    "assert (is_L_pf_only == is_L_only).all()\n",
    "L_only_aclus = neuron_replay_stats_df.index[is_L_only].to_numpy()\n",
    "neuron_replay_stats_df[is_L_only]\n",
    "\n",
    "\n",
    "## For ('kdiba', 'gor01', 'one', '2006-6-09_1-22-43') - Have L-only cells [24, 98] that have ['short_num_replays'] = [8, 7]. We were hoping that there would be few to no replays on the S-track that involved L-only cells."
   ]
  },
  {
   "cell_type": "code",
   "execution_count": null,
   "id": "5b3bdd19",
   "metadata": {},
   "outputs": [],
   "source": [
    "## 2023-05-23 - Get Common (SHARED) placefields\n",
    "## Goal 1: From the cells with the placefields on both tracks, compute the degree to which they remap in position and sort them according to their distance.\n",
    "is_BOTH_pf_only = np.logical_and(neuron_replay_stats_df['has_short_pf'], neuron_replay_stats_df['has_long_pf']) # (63,)\n",
    "BOTH_pf_only_aclus = neuron_replay_stats_df.index[is_BOTH_pf_only].to_numpy()\n",
    "\n",
    "## NOTE: is_BOTH_pf_only is a much more stringent requirement (and a strict subset) than `is_BOTH_only`\n",
    "is_BOTH_only = neuron_replay_stats_df.track_membership == SplitPartitionMembership.SHARED # (99,)\n",
    "BOTH_only_aclus = neuron_replay_stats_df.index[is_BOTH_only].to_numpy()\n",
    "assert BOTH_only_aclus.shape[0] >= BOTH_pf_only_aclus.shape[0]\n",
    "\n",
    "BOTH_pf_only_df = neuron_replay_stats_df[is_BOTH_pf_only].copy()\n",
    "BOTH_pf_only_df['long_short_pf_peak_x_displacement'] = BOTH_pf_only_df['long_pf_peak_x'].values - BOTH_pf_only_df['short_pf_peak_x'].values\n",
    "BOTH_pf_only_df['long_short_pf_peak_x_distance'] = BOTH_pf_only_df['long_short_pf_peak_x_displacement'].abs()\n",
    "BOTH_pf_only_df.sort_values(by=['long_short_pf_peak_x_distance'], inplace=True, ascending=False)\n",
    "BOTH_pf_only_df\n",
    "\n",
    "#TODO 2023-05-23 - Can do more detailed peaks analysis with: long_results.RatemapPeaksAnalysis and short_results.RatemapPeaksAnalysis\n",
    "\n"
   ]
  },
  {
   "cell_type": "code",
   "execution_count": null,
   "id": "e3f51c29",
   "metadata": {},
   "outputs": [],
   "source": [
    "\"\"\" 24 cells, 133 Epochs, 789 Total Timebins\n",
    "# Other\n",
    "\t\n",
    "\t- is_non_firing_time_bin: numpy.ndarray - (24, 789)\n",
    "\t- all_epochs_num_epoch_time_bins: numpy.ndarray - (133,)\n",
    "\t\n",
    "    ## Indexing Helpers:\n",
    "\t\t- all_epochs_reverse_flat_epoch_indicies_array: numpy.ndarray - (789,)\n",
    "\t\t- split_by_epoch_reverse_flattened_time_bin_indicies: list - (133,)\n",
    "    \n",
    "\t- original_1D_decoder: pyphoplacecellanalysis.Analysis.Decoder.reconstruction.BasePositionDecoder\n",
    "\t\t- pf: neuropy.analyses.placefields.PfND\n",
    "\t\t- neuron_IDXs: numpy.ndarray - (24,)\n",
    "\t\t- neuron_IDs: numpy.ndarray - (24,)\n",
    "\t\t- F: numpy.ndarray - (119, 24)\n",
    "\t\t- P_x: numpy.ndarray - (119, 1)\n",
    "        \n",
    "\t- flat_all_epochs_decoded_epoch_time_bins: numpy.ndarray - (24, 789)\n",
    "\n",
    "# Measured\n",
    "\t- flat_all_epochs_measured_cell_spike_counts: numpy.ndarray - (24, 789)\n",
    "\t- flat_all_epochs_measured_cell_firing_rates: numpy.ndarray - (24, 789)\n",
    "\n",
    "\n",
    "# Expected\n",
    "\t- flat_all_epochs_computed_expected_cell_firing_rates: numpy.ndarray - (24, 789)\n",
    "\t- flat_all_epochs_difference_from_expected_cell_spike_counts: numpy.ndarray - (24, 789)\n",
    "\t- flat_all_epochs_difference_from_expected_cell_firing_rates: numpy.ndarray - (24, 789)\n",
    "    \n",
    "    \n",
    "    \n",
    "## Epoch-based\n",
    "\t- all_epochs_decoded_epoch_time_bins_mean: numpy.ndarray - (133, 24)\n",
    "\n",
    "    \n",
    "    \n",
    "    \n",
    "- flat_all_epochs_measured_cell_firing_rates: numpy.ndarray - .shape: (24, 789) \n",
    "- flat_all_epochs_computed_expected_cell_firing_rates: numpy.ndarray - .shape: (24, 789)\n",
    "\n",
    "\n",
    "\"\"\""
   ]
  },
  {
   "cell_type": "code",
   "execution_count": null,
   "id": "f0b3a9f1",
   "metadata": {},
   "outputs": [],
   "source": [
    "long_results_obj.flat_all_epochs_computed_expected_cell_firing_rates\n",
    "long_results_obj.flat_all_epochs_measured_cell_firing_rates\n",
    "\n",
    "# long_results_obj.result_df_grouped\n",
    "\n",
    "measured_dfs = pd.DataFrame(long_results_obj.flat_all_epochs_measured_cell_firing_rates.T, columns=long_results_obj.original_1D_decoder.neuron_IDs)\n",
    "expected_dfs = pd.DataFrame(long_results_obj.flat_all_epochs_computed_expected_cell_firing_rates.T, columns=long_results_obj.original_1D_decoder.neuron_IDs)\n",
    "# pd.DataFrame(np.stack((long_results_obj.flat_all_epochs_measured_cell_firing_rates, long_results_obj.flat_all_epochs_computed_expected_cell_firing_rates)), columns=['measured_fr', 'expected_fr'])\n",
    "measured_dfs.plot()\n"
   ]
  },
  {
   "cell_type": "code",
   "execution_count": null,
   "id": "4d8566f2",
   "metadata": {},
   "outputs": [],
   "source": [
    "jonathan_firing_rate_analysis_result.neuron_replay_stats_df.to_clipboard()"
   ]
  },
  {
   "cell_type": "code",
   "execution_count": null,
   "id": "10cdb9f2",
   "metadata": {},
   "outputs": [],
   "source": [
    "from pyphoplacecellanalysis.General.Pipeline.Stages.ComputationFunctions.MultiContextComputationFunctions.LongShortTrackComputations import compute_evening_morning_parition\n",
    "\n",
    "difference_sorted_aclus, evening_sorted_aclus, morning_sorted_aclus = compute_evening_morning_parition(neuron_replay_stats_df, debug_print=True)\n",
    "sorted_neuron_replay_stats_df = neuron_replay_stats_df.reindex(difference_sorted_aclus).copy() # This seems to work to re-sort the dataframe by the sort indicies\n",
    "sorted_neuron_replay_stats_df"
   ]
  },
  {
   "cell_type": "code",
   "execution_count": null,
   "id": "7524856f",
   "metadata": {},
   "outputs": [],
   "source": [
    "from neuropy.core.neurons import NeuronType\n",
    "\n",
    "%matplotlib qt\n",
    "# Look at replays during ripples vs. those not during ripples. Also potentially PBEs vs. not PBEs.\n",
    "\n",
    "# NeuronType.from_any_string_series(['pyr','intr'])\n",
    "'pyr','cont','intr'\n",
    "\n",
    "active_identifying_session_ctx = curr_active_pipeline.sess.get_context() # 'bapun_RatN_Day4_2019-10-15_11-30-06'\n",
    "curr_active_pipeline.display('_display_jonathan_interactive_replay_firing_rate_comparison', active_identifying_session_ctx, included_neuron_types=NeuronType.from_any_string_series(['pyr'])) # only the pyramidal neurons"
   ]
  },
  {
   "cell_type": "code",
   "execution_count": null,
   "id": "bc7ebf69",
   "metadata": {},
   "outputs": [],
   "source": [
    "curr_active_pipeline.reload_default_display_functions()"
   ]
  },
  {
   "cell_type": "code",
   "execution_count": null,
   "id": "68f61971",
   "metadata": {},
   "outputs": [],
   "source": [
    "curr_active_pipeline.display('_display_jonathan_interactive_replay_firing_rate_comparison', active_identifying_session_ctx, included_neuron_types=NeuronType.from_any_string_series(['intr']), require_placefield=False) # only the pyramidal neurons"
   ]
  },
  {
   "cell_type": "code",
   "execution_count": null,
   "id": "0859e13d",
   "metadata": {},
   "outputs": [],
   "source": [
    "from pyphoplacecellanalysis.General.Mixins.CrossComputationComparisonHelpers import build_replays_custom_scatter_markers, CustomScatterMarkerMode\n",
    "\n",
    "_curr_included_aclus = jonathan_firing_rate_analysis_result.neuron_replay_stats_df[np.logical_or(jonathan_firing_rate_analysis_result.neuron_replay_stats_df['has_long_pf'], jonathan_firing_rate_analysis_result.neuron_replay_stats_df['has_short_pf'])].index.to_numpy()\n",
    "_curr_output = curr_active_pipeline.display('_display_batch_pho_jonathan_replay_firing_rate_comparison', active_identifying_session_ctx, included_unit_neuron_IDs=_curr_included_aclus, marker_split_mode=CustomScatterMarkerMode.NoSplit)"
   ]
  },
  {
   "attachments": {},
   "cell_type": "markdown",
   "id": "d69eed8a",
   "metadata": {},
   "source": [
    "## 2023-04-13 - Shuffled Surprise\n",
    "\"\"\" \n",
    "Relevant Functions:\n",
    "`perform_full_session_leave_one_out_decoding_analysis`:\n",
    "\t`perform_leave_one_aclu_out_decoding_analysis`:\tfrom pyphoplacecellanalysis.Analysis.Decoder.decoder_result import perform_leave_one_aclu_out_decoding_analysis\n",
    "\t`_analyze_leave_one_out_decoding_results`: from pyphoplacecellanalysis.General.Pipeline.Stages.ComputationFunctions.DefaultComputationFunctions import _analyze_leave_one_out_decoding_results\n",
    "\"\"\"\n"
   ]
  },
  {
   "cell_type": "code",
   "execution_count": null,
   "id": "0aac42d4",
   "metadata": {},
   "outputs": [],
   "source": [
    "# 2023-04-18 - Refactored into decoder_result\n",
    "result, result_df, result_df_grouped = long_results_obj.result, long_results_obj.result_df, long_results_obj.result_df_grouped"
   ]
  },
  {
   "cell_type": "code",
   "execution_count": null,
   "id": "c107570f",
   "metadata": {},
   "outputs": [],
   "source": [
    "from pyphoplacecellanalysis.Analysis.Decoder.decoder_result import DiagnosticDistanceMetricFigure\n",
    "\n",
    "## Render the internactive slider that allows selecting the timebin index to debug\n",
    "n_timebins = np.sum(long_results_obj.all_epochs_num_epoch_time_bins)\n",
    "timebinned_neuron_info = long_results_obj.timebinned_neuron_info\n",
    "result = long_results_obj.new_result\n",
    "active_fig_obj, update_function = DiagnosticDistanceMetricFigure.build_interactive_diagnostic_distance_metric_figure(long_results_obj, timebinned_neuron_info, result)\n",
    "active_fig_obj.integer_slider(n_timebins=n_timebins, update_func=update_function)"
   ]
  },
  {
   "cell_type": "code",
   "execution_count": null,
   "id": "7670bfae",
   "metadata": {},
   "outputs": [],
   "source": [
    "\n",
    "# 1. Get set of cells active in a given time bin, for each compute the surprise of its placefield with the leave-one-out decoded posterior.\n",
    "\n",
    "# 2. From the remainder of cells (those not active), randomly choose one to grab the placefield of and compute the surprise with that and the same posterior.\n",
    "\n",
    "# Expectation: The cells that are included in the time bin are expected to have a lower surprise (be less correlated with) the posterior."
   ]
  },
  {
   "cell_type": "code",
   "execution_count": null,
   "id": "c1692fd1",
   "metadata": {
    "tags": [
     "active"
    ]
   },
   "outputs": [],
   "source": [
    "win, plots = plot_long_short_surprise_difference_plot(curr_active_pipeline, long_results_obj, short_results_obj, long_epoch_name, short_epoch_name)\n"
   ]
  },
  {
   "cell_type": "code",
   "execution_count": null,
   "id": "118c3089",
   "metadata": {},
   "outputs": [],
   "source": [
    "long_results_obj.timebinned_neuron_info.n_timebins # 736\n",
    "short_results_obj.timebinned_neuron_info.n_timebins"
   ]
  },
  {
   "cell_type": "code",
   "execution_count": null,
   "id": "893964b2",
   "metadata": {},
   "outputs": [],
   "source": [
    "long_results_obj.flat_all_epochs_measured_cell_firing_rates.shape # (30, 736)\n",
    "# short_results_obj.flat_all_epochs_measured_cell_firing_rates.shape # (30, 736)\n",
    "\n"
   ]
  },
  {
   "cell_type": "code",
   "execution_count": null,
   "id": "bae2e695",
   "metadata": {
    "tags": [
     "active",
     "NOW_05-25",
     "expected_vs_observed"
    ]
   },
   "outputs": [],
   "source": [
    "win, plots_tuple, legend = plot_long_short_expected_vs_observed_firing_rates(long_results_obj, short_results_obj, limit_aclus=list(BOTH_pf_only_df.index[:2].values))\n",
    "long_epoch_indicator_region_items, short_epoch_indicator_region_items = _helper_add_long_short_session_indicator_regions(win, long_epoch=curr_active_pipeline.filtered_epochs[long_epoch_name], short_epoch=curr_active_pipeline.filtered_epochs[short_epoch_name])"
   ]
  },
  {
   "cell_type": "code",
   "execution_count": null,
   "id": "0f55bb1b",
   "metadata": {},
   "outputs": [],
   "source": [
    "from pyphoplacecellanalysis.General.Mixins.ExportHelpers import export_pyqtgraph_plot # works pretty well seemingly\n",
    "\n",
    "export_pyqtgraph_plot(win)\n",
    "# pg.setConfigOption('leftTitle', 'MathText')\n",
    "# win.setTitle(r'JSD(p_x_given_n, pf[<font size=\"4\"><b><span style=\"color:red;\">i</span></b></font>]) - JSD(p_x_given_n, pf[<font size=\"4\"><b>j</b></font>]) where <font size=\"4\"><b>j</b></font> non-firing')\n",
    "\n",
    "# win.setTitle(generate_html_string(f'JSD(p_x_given_n, pf[{i_str}]) - JSD(p_x_given_n, pf[{j_str}]) where {j_str} non-firing', font_size=8))\n",
    "\n",
    "# r'$\\fn{JSD}{\\matr{pf}_{i}, \\Pr{\\vec{x}_{t}|\\vec{n}_{t}}} - \\fn{JSD}{\\matr{pf}_{j}, \\Pr{\\vec{x}_{t}|\\vec{n}_{t}}}$'\n",
    "# title_str"
   ]
  },
  {
   "attachments": {},
   "cell_type": "markdown",
   "id": "1f996fd9",
   "metadata": {},
   "source": [
    "## Pre 2023-04-13"
   ]
  },
  {
   "cell_type": "code",
   "execution_count": null,
   "id": "33b6ac25",
   "metadata": {},
   "outputs": [],
   "source": [
    "import matplotlib\n",
    "import matplotlib.pyplot as plt\n",
    "%matplotlib qt\n",
    "\n",
    "from pyphoplacecellanalysis.Analysis.Decoder.decoder_result import plot_kourosh_activity_style_figure\n",
    "\n",
    "from neuropy.core.neurons import NeuronType\n",
    "# # Include only pyramidal aclus:\n",
    "# print(f'all shared_aclus: {len(shared_aclus)}\\nshared_aclus: {shared_aclus}')\n",
    "# shared_aclu_neuron_type = long_session.neurons.neuron_type[np.isin(long_session.neurons.neuron_ids, shared_aclus)]\n",
    "# assert len(shared_aclu_neuron_type) == len(shared_aclus)\n",
    "# # Find only the aclus that are pyramidal:\n",
    "# is_shared_aclu_pyramidal = (shared_aclu_neuron_type == NeuronType.PYRAMIDAL)\n",
    "# pyramidal_only_shared_aclus = shared_aclus[is_shared_aclu_pyramidal]\n",
    "# print(f'num pyramidal_only_shared_aclus: {len(pyramidal_only_shared_aclus)}\\npyramidal_only_shared_aclus: {pyramidal_only_shared_aclus}')\n",
    "\n",
    "\n",
    "## Drop Pyramidal but don't use only shared aclus:\n",
    "all_aclus = deepcopy(long_session.neurons.neuron_ids)\n",
    "neuron_type = long_session.neurons.neuron_type\n",
    "assert len(neuron_type) == len(all_aclus)\n",
    "# Find only the aclus that are pyramidal:\n",
    "is_aclu_pyramidal = (neuron_type == NeuronType.PYRAMIDAL)\n",
    "pyramidal_only_all_aclus = all_aclus[is_aclu_pyramidal]\n",
    "print(f'num pyramidal_only_all_aclus: {len(pyramidal_only_all_aclus)}\\npyramidal_only_all_aclus: {pyramidal_only_all_aclus}')\n",
    "\n",
    "is_aclu_interneuron = (neuron_type == NeuronType.INTERNEURONS)\n",
    "interneuron_only_all_aclus = all_aclus[is_aclu_interneuron]\n",
    "print(f'num interneuron_only_all_aclus: {len(interneuron_only_all_aclus)}\\ninterneurons: {interneuron_only_all_aclus}')\n",
    "\n",
    "# app, win, plots, plots_data = plot_kourosh_activity_style_figure(long_results_obj, long_session, shared_aclus, epoch_idx=5, callout_epoch_IDXs=[0,1,2,3], skip_rendering_callouts=True)\n",
    "# app, win, plots, plots_data = plot_kourosh_activity_style_figure(long_results_obj, long_session, pyramidal_only_shared_aclus, epoch_idx=2, callout_epoch_IDXs=[0,4], skip_rendering_callouts=False)\n",
    "app, win, plots, plots_data = plot_kourosh_activity_style_figure(long_results_obj, long_session, pyramidal_only_all_aclus, epoch_idx=6, callout_epoch_IDXs=[2,4,6], skip_rendering_callouts=False)"
   ]
  },
  {
   "cell_type": "code",
   "execution_count": null,
   "id": "985977d8",
   "metadata": {},
   "outputs": [],
   "source": [
    "\n",
    "# Use the Jupyter Index Thing\n",
    "from pyphoplacecellanalysis.Analysis.Decoder.decoder_result import DiagnosticDistanceMetricFigure\n",
    "\n",
    "## Render the internactive slider that allows selecting the timebin index to debug\n",
    "n_timebins = np.sum(long_results_obj.all_epochs_num_epoch_time_bins)\n",
    "timebinned_neuron_info = long_results_obj.timebinned_neuron_info\n",
    "result = long_results_obj.new_result\n",
    "active_fig_obj, update_function = DiagnosticDistanceMetricFigure.build_interactive_diagnostic_distance_metric_figure(long_results_obj, timebinned_neuron_info, result)\n",
    "active_fig_obj.integer_slider(n_timebins=n_timebins, update_func=update_function)"
   ]
  },
  {
   "cell_type": "code",
   "execution_count": null,
   "id": "3e1aa692",
   "metadata": {},
   "outputs": [],
   "source": [
    "active_fig_obj.export()"
   ]
  },
  {
   "cell_type": "code",
   "execution_count": null,
   "id": "5ea983fe",
   "metadata": {},
   "outputs": [],
   "source": [
    "app, win, self.plots, self.plots_data = plot_kourosh_activity_style_figure(long_results_obj, long_session, pyramidal_only_all_aclus, epoch_idx=11, callout_epoch_IDXs=[0,1,2, 3, 4, 5], skip_rendering_callouts=False)"
   ]
  },
  {
   "attachments": {},
   "cell_type": "markdown",
   "id": "2fe80559",
   "metadata": {},
   "source": [
    "# 2023-04-13 - Find Good looking epochs:"
   ]
  },
  {
   "cell_type": "code",
   "execution_count": null,
   "id": "5fa9a519",
   "metadata": {
    "tags": [
     "ACTIVE_NOW"
    ]
   },
   "outputs": [],
   "source": [
    "import matplotlib.pyplot as plt\n",
    "%matplotlib qt\n",
    "import matplotlib.patheffects as path_effects\n",
    "\n",
    "from pyphoplacecellanalysis.Pho2D.stacked_epoch_slices import DecodedEpochSlicesPaginatedFigureController\n",
    "\n",
    "curr_results_obj = long_results_obj\n",
    "active_identifying_session_ctx = curr_active_pipeline.sess.get_context()\n",
    "_out_pagination_controller = DecodedEpochSlicesPaginatedFigureController.init_from_decoder_data(curr_results_obj.active_filter_epochs, curr_results_obj.all_included_filter_epochs_decoder_result, \n",
    "\txbin=curr_results_obj.original_1D_decoder.xbin, global_pos_df=global_session.position.df, a_name='TestDecodedEpochSlicesPaginationController', active_context=active_identifying_session_ctx,  max_subplots_per_page=200) # 10\n",
    "# _out_pagination_controller"
   ]
  },
  {
   "attachments": {},
   "cell_type": "markdown",
   "id": "3f0018ec",
   "metadata": {},
   "source": [
    "### 2023-05-30 - Add the radon-transformed linear fits to each epoch to the stacked epoch plots:"
   ]
  },
  {
   "cell_type": "code",
   "execution_count": null,
   "id": "2443fed1",
   "metadata": {},
   "outputs": [],
   "source": [
    "from neuropy.utils.result_context import IdentifyingContext\n",
    "from pyphoplacecellanalysis.Pho2D.stacked_epoch_slices import DecodedEpochSlicesPaginatedFigureController\n",
    "from pyphoplacecellanalysis.General.Pipeline.Stages.DisplayFunctions.DecoderPredictionError import plot_decoded_epoch_slices_paginated\n",
    "\n",
    "_out_pagination_controller, active_out_figure_paths, final_context = plot_decoded_epoch_slices_paginated(curr_active_pipeline, long_results_obj, curr_active_pipeline.build_display_context_for_session(display_fn_name='DecodedEpochSlices', epochs='replays', decoder='long_results_obj'), save_figure=True)\n"
   ]
  },
  {
   "cell_type": "code",
   "execution_count": null,
   "id": "a8407362",
   "metadata": {},
   "outputs": [],
   "source": [
    "_out_pagination_controller, active_out_figure_paths, final_context = plot_decoded_epoch_slices_paginated(curr_active_pipeline, short_results_obj, curr_active_pipeline.build_display_context_for_session(display_fn_name='DecodedEpochSlices', epochs='replays', decoder='short_results_obj'), save_figure=True)\n"
   ]
  },
  {
   "cell_type": "code",
   "execution_count": null,
   "id": "053623be",
   "metadata": {},
   "outputs": [],
   "source": [
    "from pyphoplacecellanalysis.General.Pipeline.Stages.DisplayFunctions.MultiContextComparingDisplayFunctions.LongShortTrackComparingDisplayFunctions import _prepare_plot_long_and_short_epochs\n",
    "\n",
    "(pagination_controller_L, pagination_controller_S), (fig_L, fig_S), (ax_L, ax_S), (final_context_L, final_context_S), (active_out_figure_paths_L, active_out_figure_paths_S) = _prepare_plot_long_and_short_epochs(curr_active_pipeline, defer_render=False)"
   ]
  },
  {
   "cell_type": "code",
   "execution_count": null,
   "id": "d8a9a5f4",
   "metadata": {
    "tags": [
     "ACTIVE_NOW"
    ]
   },
   "outputs": [],
   "source": [
    "## 2023-05-31 - Reference Output of matplotlib figure to file, along with building appropriate context.\n",
    "active_session_figures_out_path = curr_active_pipeline.get_daily_programmatic_session_output_path()\n",
    "final_context = curr_active_pipeline.sess.get_context().adding_context('display_fn', display_fn_name='DecodedEpochSlices').adding_context('display_kwargs', **dict(epochs='replays', decoder='long_results_obj'))\n",
    "print(f'final_context: {final_context}')\n",
    "fig = _out_pagination_controller.plots.fig # get the figure\n",
    "active_out_figure_paths = perform_write_to_file(fig, final_context, figures_parent_out_path=active_session_figures_out_path, register_output_file_fn=curr_active_pipeline.register_output_file)"
   ]
  },
  {
   "attachments": {},
   "cell_type": "markdown",
   "id": "e0409e08",
   "metadata": {},
   "source": [
    "# Other Programmatic Figures"
   ]
  },
  {
   "attachments": {},
   "cell_type": "markdown",
   "id": "3ecc42a2",
   "metadata": {},
   "source": [
    "### 2023-05-25 - Neptune Figure Uploads from `registered_output_files`\n"
   ]
  },
  {
   "cell_type": "code",
   "execution_count": null,
   "id": "8f32c5ea",
   "metadata": {
    "tags": [
     "NOW_05-25"
    ]
   },
   "outputs": [],
   "source": [
    "from pyphoplacecellanalysis.General.Batch.NeptuneAiHelpers import set_environment_variables, neptune_output_figures\n",
    "\n",
    "# curr_active_pipeline.registered_output_files\n",
    "# curr_active_pipeline.register_output_file(output_path=test_path, output_metadata={})\n",
    "\n",
    "neptune_output_figures(curr_active_pipeline)"
   ]
  },
  {
   "cell_type": "code",
   "execution_count": null,
   "id": "d86bf7a0",
   "metadata": {},
   "outputs": [],
   "source": [
    "curr_active_pipeline.registered_output_files\n",
    "# curr_active_pipeline.registered_output_files_list"
   ]
  },
  {
   "cell_type": "code",
   "execution_count": null,
   "id": "a4a5a83f",
   "metadata": {},
   "outputs": [],
   "source": [
    "curr_active_pipeline.reload_default_display_functions()\n",
    "active_identifying_session_ctx, active_session_figures_out_path, active_out_figures_list = batch_programmatic_figures(curr_active_pipeline)\n",
    "batch_extended_programmatic_figures(curr_active_pipeline=curr_active_pipeline)"
   ]
  },
  {
   "cell_type": "code",
   "execution_count": null,
   "id": "7608078a",
   "metadata": {},
   "outputs": [],
   "source": [
    "curr_active_pipeline.reload_default_display_functions()"
   ]
  },
  {
   "cell_type": "code",
   "execution_count": null,
   "id": "d2371bba",
   "metadata": {},
   "outputs": [],
   "source": [
    "f\"{curr_active_pipeline.get_session_context().get_initialization_code_string()}:dict(grid_bin_bounds=({(grid_bin_bounds[0], grid_bin_bounds[1]), (grid_bin_bounds[2], grid_bin_bounds[3])})),\""
   ]
  },
  {
   "cell_type": "code",
   "execution_count": 19,
   "id": "fe831b56",
   "metadata": {
    "tags": [
     "ACTIVE"
    ]
   },
   "outputs": [
    {
     "data": {
      "text/plain": [
       "array([  2,   3,   7,   8,   9,  11,  12,  15,  17,  19,  22,  23,  24,\n",
       "        25,  29,  31,  34,  36,  37,  38,  39,  41,  42,  44,  46,  47,\n",
       "        50,  51,  54,  56,  57,  59,  60,  61,  63,  64,  65,  66,  67,\n",
       "        68,  69,  70,  71,  74,  75,  76,  77,  78,  82,  83,  85,  86,\n",
       "        89,  91,  92,  94,  95,  96,  97, 100, 101, 103])"
      ]
     },
     "execution_count": 19,
     "metadata": {},
     "output_type": "execute_result"
    }
   ],
   "source": [
    "from pyphoplacecellanalysis.General.Mixins.CrossComputationComparisonHelpers import _find_any_context_neurons\n",
    "\n",
    "## Builds proper sort indicies for '_display_short_long_pf1D_comparison'\n",
    "long_ratemap = long_pf1D.ratemap\n",
    "short_ratemap = short_pf1D.ratemap\n",
    "\n",
    "curr_any_context_neurons = _find_any_context_neurons(*[k.neuron_ids for k in [long_ratemap, short_ratemap]])\n",
    "curr_any_context_neurons"
   ]
  },
  {
   "cell_type": "code",
   "execution_count": null,
   "id": "23ea174f",
   "metadata": {
    "tags": [
     "OLD_WAY"
    ]
   },
   "outputs": [],
   "source": [
    "missing_neuron_ids = np.array(list(set(curr_any_context_neurons) - set(long_ratemap.neuron_ids))) # neuron_ids that we won't have an active_curve for\n",
    "sentinal_max_value = np.iinfo(missing_neuron_ids.dtype).max # the value to stand in effectively for infinity so that it's always sorted alst in the np.argsort(...) call.\n",
    "active_curve_peak_locations = np.argmax(long_ratemap.normalized_tuning_curves, axis=1) # the index of the peak, one for each neuron\n",
    "active_curve_peak_locations = np.hstack([active_curve_peak_locations, np.full_like(missing_neuron_ids, sentinal_max_value)]) # add one infinite entry for each of the missing_neuron_ids\n",
    "sort_ind = np.argsort(active_curve_peak_locations) # sort_ind = np.argsort(np.argmax(long_ratemap.normalized_tuning_curves, axis=1))\n",
    "sort_ind"
   ]
  },
  {
   "cell_type": "code",
   "execution_count": null,
   "id": "24ecd2cb",
   "metadata": {
    "tags": [
     "OLD_WAY"
    ]
   },
   "outputs": [],
   "source": [
    "long_ratemap.normalized_tuning_curves.shape # (36, 112)\n",
    "# long_ratemap.normalized_tuning_curves[:, active_curve_peak_locations] #.shape # (36, 36)\n",
    "\n",
    "[long_ratemap.normalized_tuning_curves[i, active_curve_peak_locations[i]] for i in np.arange(len(active_curve_peak_locations))]"
   ]
  },
  {
   "cell_type": "code",
   "execution_count": null,
   "id": "0c340a18",
   "metadata": {},
   "outputs": [],
   "source": [
    "from pyphoplacecellanalysis.General.Pipeline.Stages.ComputationFunctions.MultiContextComputationFunctions.LongShortTrackComputations import JonathanFiringRateAnalysisResult\n",
    "\n",
    "jonathan_firing_rate_analysis_result = JonathanFiringRateAnalysisResult(**curr_active_pipeline.global_computation_results.computed_data.jonathan_firing_rate_analysis.to_dict())\n",
    "neuron_replay_stats_df = jonathan_firing_rate_analysis_result.neuron_replay_stats_df.copy()\n",
    "test_df = neuron_replay_stats_df.sort_values(by=['long_pf_peak_x'], inplace=False, ascending=True).copy()\n",
    "test_df = test_df[np.isin(test_df.index, curr_any_context_neurons)]\n",
    "test_df"
   ]
  },
  {
   "cell_type": "code",
   "execution_count": null,
   "id": "d09d782a",
   "metadata": {},
   "outputs": [],
   "source": [
    "# Given a `sorted_list`, a list previously sorted by some criteria (such as its corresponding values in a dataframe column) and `reference_list`, a list containing the same elements in their initial order to serve as a reference => find the transformation indicies such that `sorted_list = reference_list[sort_indicies]`\n",
    "\n",
    "def find_transformation_indices(sorted_list, reference_list):\n",
    "    \"\"\" Given a `sorted_list`, a list previously sorted by some criteria (such as its corresponding values in a dataframe column) and `reference_list`, a list containing the same elements in their initial order to serve as a reference\n",
    "        => find the transformation indicies such that `sorted_list = reference_list[sort_indicies]`\n",
    "    Example:\n",
    "        sorted_list = np.array([4, 6, 2])\n",
    "        reference_list = np.array([2, 4, 6])\n",
    "        sort_indicies = np.array([1, 2, 0])\n",
    "    \"\"\"\n",
    "    # Convert to NumPy arrays if the inputs are not already arrays\n",
    "    if not isinstance(sorted_list, np.ndarray):\n",
    "        sorted_array = np.array(sorted_list)\n",
    "    else:\n",
    "        sorted_array = sorted_list\n",
    "\n",
    "    if not isinstance(reference_list, np.ndarray):\n",
    "        reference_array = np.array(reference_list)\n",
    "    else:\n",
    "        reference_array = reference_list\n",
    "\n",
    "    # Use argsort to get the indices that would sort the reference_array\n",
    "    # sort_indices = np.argsort(reference_array) # does not work\n",
    "    \n",
    "    sort_indices = []\n",
    "    for element in sorted_array:\n",
    "        index = np.searchsorted(reference_array, element)\n",
    "        sort_indices.append(index)\n",
    "        \n",
    "    sort_indices = np.array(sort_indices)\n",
    "    # assert (reference_array[sort_indicies] == sorted_array).all(), f\"Testing the sort_indicies did not work! reference_array[sort_indices]: {reference_array[sort_indices]} but it should equal {sorted_array}\"\n",
    "    return sort_indices\n",
    "\n",
    "# sort_indicies = find_transformation_indices(sorted_list = [4, 6, 2], reference_list = [2, 4, 6])\n",
    "# sort_indicies\n",
    "\n",
    "# # Apply the sort_indices to the sorted_array\n",
    "# test_reconstructed_sorted_list = reference_list[sort_indicies]\n",
    "# test_reconstructed_sorted_list\n",
    "# assert (test_reconstructed_sorted_list == sorted_list).all()"
   ]
  },
  {
   "cell_type": "code",
   "execution_count": null,
   "id": "5f940a75",
   "metadata": {},
   "outputs": [],
   "source": [
    "sort_indicies = find_transformation_indices(sorted_list=test_df.index.to_numpy(), reference_list=curr_any_context_neurons)\n",
    "sort_indicies"
   ]
  },
  {
   "cell_type": "code",
   "execution_count": null,
   "id": "a710134f",
   "metadata": {},
   "outputs": [],
   "source": [
    "sort_indicies.shape"
   ]
  },
  {
   "cell_type": "code",
   "execution_count": null,
   "id": "e5d93b36",
   "metadata": {},
   "outputs": [],
   "source": [
    "test_reconstructed_sorted_list = curr_any_context_neurons[sort_indicies]\n",
    "test_reconstructed_sorted_list\n",
    "# assert (test_reconstructed_sorted_list == test_df.index.to_numpy()).all()"
   ]
  },
  {
   "cell_type": "code",
   "execution_count": null,
   "id": "d13e64c2",
   "metadata": {},
   "outputs": [],
   "source": [
    "sort_indicies"
   ]
  },
  {
   "cell_type": "code",
   "execution_count": null,
   "id": "da60080e",
   "metadata": {},
   "outputs": [],
   "source": [
    "curr_any_context_neurons[sort_ind]"
   ]
  },
  {
   "cell_type": "code",
   "execution_count": null,
   "id": "54d36fb8",
   "metadata": {},
   "outputs": [],
   "source": [
    "sort_ind = np.argsort(test_df.index) # sort_ind = np.argsort(np.argmax(long_ratemap.normalized_tuning_curves, axis=1))\n",
    "sort_ind"
   ]
  },
  {
   "cell_type": "code",
   "execution_count": null,
   "id": "402834bd",
   "metadata": {},
   "outputs": [],
   "source": [
    "from neuropy.plotting.ratemaps import plot_ratemap_1D\n",
    "from pyphoplacecellanalysis.General.Pipeline.Stages.DisplayFunctions.MultiContextComparingDisplayFunctions.LongShortTrackComparingDisplayFunctions import plot_short_v_long_pf1D_comparison, LongShortTrackComparingDisplayFunctions\n",
    "\n",
    "%matplotlib qt\n",
    "active_identifying_session_ctx = curr_active_pipeline.sess.get_context() # 'bapun_RatN_Day4_2019-10-15_11-30-06'\n",
    "\n",
    "long_single_cell_pfmap_processing_fn = None\n",
    "short_single_cell_pfmap_processing_fn = None\n",
    "# sort_idx = None\n",
    "# sort_idx = sort_ind\n",
    "sort_idx = sort_indicies\n",
    "\n",
    "out = curr_active_pipeline.display('_display_short_long_pf1D_comparison', active_identifying_session_ctx, single_figure=True, debug_print=True, fignum='Short v Long pf1D Comparison',\n",
    "                                   long_kwargs={'sortby': sort_idx, 'single_cell_pfmap_processing_fn': long_single_cell_pfmap_processing_fn},\n",
    "                                   short_kwargs={'sortby': sort_idx, 'single_cell_pfmap_processing_fn': short_single_cell_pfmap_processing_fn, 'curve_hatch_style': {'hatch':'///', 'edgecolor':'k'}},\n",
    "                                  )\n",
    "\n",
    "# ax = out.axes[0]"
   ]
  },
  {
   "cell_type": "code",
   "execution_count": null,
   "id": "5653100d",
   "metadata": {},
   "outputs": [],
   "source": [
    "curr_active_pipeline.display('_display_short_long_pf1D_comparison', single_figure=False)"
   ]
  },
  {
   "cell_type": "code",
   "execution_count": null,
   "id": "d0cfbb30",
   "metadata": {},
   "outputs": [],
   "source": [
    "\n",
    "sort_idx = np.argsort(product_overlap_scalars_df.prod_overlap.to_numpy())[::-1] # the `[::-1]` term reverses the array, which by defaul is returned in ascending order and we want descending\n",
    "sort_idx"
   ]
  },
  {
   "cell_type": "code",
   "execution_count": null,
   "id": "8f4db7fd",
   "metadata": {},
   "outputs": [],
   "source": [
    "active_curves_dict = dict(zip(long_ratemap.neuron_ids, long_ratemap.normalized_tuning_curves))\n"
   ]
  },
  {
   "cell_type": "code",
   "execution_count": null,
   "id": "8719b0a9",
   "metadata": {},
   "outputs": [],
   "source": [
    "curr_ratemap = long_one_step_decoder_1D.pf.ratemap\n",
    "curr_ratemap.get_sort_indicies()\n",
    "# .pf1D.ratemap\n"
   ]
  },
  {
   "cell_type": "code",
   "execution_count": null,
   "id": "fcd9bce7",
   "metadata": {},
   "outputs": [],
   "source": []
  },
  {
   "cell_type": "code",
   "execution_count": 22,
   "id": "1d1abd9b",
   "metadata": {},
   "outputs": [
    {
     "name": "stdout",
     "output_type": "stream",
     "text": [
      "pre-sort: included_unit_indicies: [0 1 2 None 3 4 5 6 7 8 9 10 11 12 13 14 15 16 17 18 19 20 21 22 23 24 25\n",
      " 26 27 28 29 30 31 32 33 34 35 36 37 38 39 40 41 42 43 44 45 46 None 47 48\n",
      " 49 50 51 52 53 54 55 56 57 58 59]\n",
      "post-sort: included_unit_indicies: [50 4 49 56 23 26 11 32 20 19 30 38 13 37 3 0 22 34 45 29 47 55 41 2 57 33\n",
      " 43 21 10 31 14 18 17 None 25 None 8 5 27 35 28 9 42 40 51 16 52 53 54 44\n",
      " 6 24 39 36 1 46 12 15 7 48]\n"
     ]
    },
    {
     "data": {
      "text/plain": [
       "(<Axes: title={'center': '1D Placemaps Placemaps (60 good cells)'}, xlabel='Position'>,\n",
       " array([52,  5, 51, 58, 24, 27, 12, 33, 21, 20, 31, 39, 14, 38,  4,  0, 23,\n",
       "        35, 46, 30, 49, 57, 42,  2, 59, 34, 44, 22, 11, 32, 15, 19, 18, 48,\n",
       "        26,  3,  9,  6, 28, 36, 29, 10, 43, 41, 53, 17, 54, 55, 56, 45,  7,\n",
       "        25, 40, 37,  1, 47, 13, 16,  8, 50], dtype=int64),\n",
       " array([[0.51764706, 0.57794118, 0.63823529, 0.69852941, 0.75882353,\n",
       "         0.81911765, 0.87941176, 0.93970588, 1.        , 0.69803922,\n",
       "         0.73578431, 0.77352941, 0.81127451, 0.84901961, 0.88676471,\n",
       "         0.9245098 , 0.9622549 , 1.        , 0.54901961, 0.60539216,\n",
       "         0.71813725, 0.7745098 , 0.83088235, 0.8872549 , 0.94362745,\n",
       "         1.        , 0.38823529, 0.44845291, 0.51024503, 0.57361166,\n",
       "         0.63855281, 0.70506846, 0.77315863, 0.84282331, 0.9140625 ,\n",
       "         0.22352941, 0.2725518 , 0.32637032, 0.38498496, 0.44839572,\n",
       "         0.58960561, 0.66740475, 0.75      , 0.22352941, 0.27330685,\n",
       "         0.32766468, 0.38660291, 0.45012154, 0.51822056, 0.59089998,\n",
       "         0.66815979, 0.75      , 0.48235294, 0.54705882, 0.61176471,\n",
       "         0.67647059, 0.74117647, 0.80588235, 0.87058824, 0.93529412],\n",
       "        [0.23529412, 0.28476738, 0.33884492, 0.39752674, 0.46081283,\n",
       "         0.52870321, 0.60119786, 0.67829679, 0.76      , 0.34509804,\n",
       "         0.39801683, 0.45445046, 0.51439893, 0.57786224, 0.6448404 ,\n",
       "         0.71533339, 0.78934123, 0.86686391, 0.42745098, 0.48165266,\n",
       "         0.59581717, 0.65578   , 0.71766322, 0.78146682, 0.8471908 ,\n",
       "         0.91483516, 0.4745098 , 0.54019608, 0.60588235, 0.67156863,\n",
       "         0.7372549 , 0.80294118, 0.86862745, 0.93431373, 1.        ,\n",
       "         0.43921569, 0.49650401, 0.5550713 , 0.61491756, 0.67604278,\n",
       "         0.80213012, 0.86709225, 0.93333333, 0.23137255, 0.28164714,\n",
       "         0.33635898, 0.39550809, 0.45909445, 0.52711808, 0.59957896,\n",
       "         0.6764771 , 0.7578125 , 0.25490196, 0.30424588, 0.3571736 ,\n",
       "         0.41368514, 0.47378049, 0.53745965, 0.60472262, 0.6755694 ],\n",
       "        [0.22352941, 0.2725518 , 0.32637032, 0.38498496, 0.44839572,\n",
       "         0.51660261, 0.58960561, 0.66740475, 0.75      , 0.03529412,\n",
       "         0.10153203, 0.17437004, 0.25380814, 0.33984633, 0.43248461,\n",
       "         0.53172298, 0.63756145, 0.75      , 0.19215686, 0.24215686,\n",
       "         0.35906863, 0.42598039, 0.49852941, 0.57671569, 0.66053922,\n",
       "         0.75      , 0.22352941, 0.27330685, 0.32766468, 0.38660291,\n",
       "         0.45012154, 0.51822056, 0.59089998, 0.66815979, 0.75      ,\n",
       "         0.51764706, 0.57794118, 0.63823529, 0.69852941, 0.75882353,\n",
       "         0.87941176, 0.93970588, 1.        , 0.4745098 , 0.54019608,\n",
       "         0.60588235, 0.67156863, 0.7372549 , 0.80294118, 0.86862745,\n",
       "         0.93431373, 1.        , 0.45098039, 0.51356738, 0.57664869,\n",
       "         0.64022432, 0.70429427, 0.76885853, 0.83391712, 0.89947002],\n",
       "        [1.        , 1.        , 1.        , 1.        , 1.        ,\n",
       "         1.        , 1.        , 1.        , 1.        , 1.        ,\n",
       "         1.        , 1.        , 1.        , 1.        , 1.        ,\n",
       "         1.        , 1.        , 1.        , 1.        , 1.        ,\n",
       "         1.        , 1.        , 1.        , 1.        , 1.        ,\n",
       "         1.        , 1.        , 1.        , 1.        , 1.        ,\n",
       "         1.        , 1.        , 1.        , 1.        , 1.        ,\n",
       "         1.        , 1.        , 1.        , 1.        , 1.        ,\n",
       "         1.        , 1.        , 1.        , 1.        , 1.        ,\n",
       "         1.        , 1.        , 1.        , 1.        , 1.        ,\n",
       "         1.        , 1.        , 1.        , 1.        , 1.        ,\n",
       "         1.        , 1.        , 1.        , 1.        , 1.        ]]))"
      ]
     },
     "execution_count": 22,
     "metadata": {},
     "output_type": "execute_result"
    }
   ],
   "source": [
    "from neuropy.plotting.ratemaps import plot_ratemap_1D\n",
    "\n",
    "\n",
    "plot_ratemap_1D(long_pf1D.ratemap, normalize_tuning_curve=True, included_unit_indicies=None, included_unit_neuron_IDs=curr_any_context_neurons, sortby='id')"
   ]
  },
  {
   "attachments": {},
   "cell_type": "markdown",
   "id": "d1906e5a",
   "metadata": {},
   "source": [
    "# 2023-06-01 - Testing new metrics:"
   ]
  },
  {
   "cell_type": "code",
   "execution_count": null,
   "id": "ee3fb2f6",
   "metadata": {},
   "outputs": [],
   "source": [
    "\n",
    "curr_long_short_post_decoding = curr_active_pipeline.global_computation_results.computed_data['long_short_post_decoding']\n",
    "## Extract variables from results object:\n",
    "expected_v_observed_result, curr_long_short_rr = curr_long_short_post_decoding.expected_v_observed_result, curr_long_short_post_decoding.rate_remapping\n",
    "rate_remapping_df, high_remapping_cells_only = curr_long_short_rr.rr_df, curr_long_short_rr.high_only_rr_df\n",
    "Flat_epoch_time_bins_mean, Flat_decoder_time_bin_centers, num_neurons, num_timebins_in_epoch, num_total_flat_timebins, is_short_track_epoch, is_long_track_epoch, short_short_diff, long_long_diff = expected_v_observed_result['Flat_epoch_time_bins_mean'], expected_v_observed_result['Flat_decoder_time_bin_centers'], expected_v_observed_result['num_neurons'], expected_v_observed_result['num_timebins_in_epoch'], expected_v_observed_result['num_total_flat_timebins'], expected_v_observed_result['is_short_track_epoch'], expected_v_observed_result['is_long_track_epoch'], expected_v_observed_result['short_short_diff'], expected_v_observed_result['long_long_diff']\n",
    "\n",
    "\n",
    "print(f'long_test: {np.mean(long_long_diff)}')\n",
    "print(f'short_test: {np.mean(short_short_diff)}')"
   ]
  },
  {
   "cell_type": "code",
   "execution_count": null,
   "id": "9deb6292",
   "metadata": {},
   "outputs": [],
   "source": [
    "long_session.replay"
   ]
  },
  {
   "cell_type": "code",
   "execution_count": null,
   "id": "9e65f403",
   "metadata": {},
   "outputs": [],
   "source": [
    "# long_results_obj.original_1D_decoder\n",
    "replay_result_df = deepcopy(long_results_obj.active_filter_epochs.to_dataframe())\n",
    "replay_result_df"
   ]
  },
  {
   "cell_type": "code",
   "execution_count": null,
   "id": "f67e3b6d",
   "metadata": {},
   "outputs": [],
   "source": [
    "short_results_obj.active_filter_epochs.to_dataframe()"
   ]
  },
  {
   "cell_type": "code",
   "execution_count": null,
   "id": "59838cd9",
   "metadata": {},
   "outputs": [],
   "source": [
    "# Look at lap speed over time - doesn't look like there's a difference between the long and the short track speeds\n",
    "global_session.position.compute_higher_order_derivatives()\n",
    "running_pos_df = global_session.position.to_dataframe()\n",
    "ax = running_pos_df.plot(x='t', y=['lin_pos','speed'], title='Running Speed over Time')\n",
    "ax"
   ]
  },
  {
   "cell_type": "code",
   "execution_count": null,
   "id": "627282a9",
   "metadata": {},
   "outputs": [],
   "source": [
    "# Call the function\n",
    "fig, ax = plot_lines(replay_result_df)"
   ]
  },
  {
   "cell_type": "code",
   "execution_count": null,
   "id": "2080baef",
   "metadata": {},
   "outputs": [],
   "source": [
    "import matplotlib\n",
    "%matplotlib qt\n",
    "\n",
    "curr_active_pipeline.reload_default_display_functions()\n",
    "out_man = curr_active_pipeline.get_output_manager()\n",
    "out_man.get_figure_output_path\n",
    "curr_active_pipeline.write_figure_to_output_path\n",
    "\n"
   ]
  },
  {
   "cell_type": "code",
   "execution_count": null,
   "id": "a2ea2bed",
   "metadata": {},
   "outputs": [],
   "source": [
    "_out = curr_active_pipeline.display('_display_grid_bin_bounds_validation')\n",
    "# _display_running_and_replay_speeds_over_time\n"
   ]
  },
  {
   "attachments": {},
   "cell_type": "markdown",
   "id": "39e5020d",
   "metadata": {},
   "source": [
    "# 2023-06-13 11:01: - [ ] New display function testing"
   ]
  },
  {
   "cell_type": "code",
   "execution_count": 9,
   "id": "f6008da8",
   "metadata": {},
   "outputs": [],
   "source": [
    "import matplotlib as mpl\n",
    "# from pyphoplacecellanalysis.General.Mixins.ExportHelpers import create_daily_programmatic_display_function_testing_folder_if_needed, session_context_to_relative_path, programmatic_display_to_PDF\n",
    "# from pyphoplacecellanalysis.General.Mixins.ExportHelpers import build_pdf_metadata_from_display_context # newer version of build_pdf_export_metadata\n",
    "from neuropy.core.neuron_identities import PlotStringBrevityModeEnum\n",
    "from neuropy.plotting.ratemaps import BackgroundRenderingOptions\n",
    "_bak_rcParams = mpl.rcParams.copy()\n",
    "# mpl.rcParams['toolbar'] = 'None' # disable toolbars\n",
    "# matplotlib.use('AGG') # non-interactive backend ## 2022-08-16 - Surprisingly this works to make the matplotlib figures render only to .png file, not appear on the screen!\n",
    "\n",
    "%matplotlib qt\n",
    "\n",
    "from pyphoplacecellanalysis.General.Mixins.ExportHelpers import programmatic_render_to_file"
   ]
  },
  {
   "cell_type": "code",
   "execution_count": 10,
   "id": "808f47ba",
   "metadata": {},
   "outputs": [],
   "source": [
    "curr_active_pipeline.reload_default_display_functions()\n"
   ]
  },
  {
   "cell_type": "code",
   "execution_count": 15,
   "id": "6bb23e88",
   "metadata": {},
   "outputs": [
    {
     "ename": "AttributeError",
     "evalue": "'PfND' object has no attribute 'plot'",
     "output_type": "error",
     "traceback": [
      "\u001b[1;31m---------------------------------------------------------------------------\u001b[0m",
      "\u001b[1;31mAttributeError\u001b[0m                            Traceback (most recent call last)",
      "Cell \u001b[1;32mIn[15], line 4\u001b[0m\n\u001b[0;32m      1\u001b[0m ratemap \u001b[39m=\u001b[39m long_shared_aclus_only_decoder\u001b[39m.\u001b[39mpf\u001b[39m.\u001b[39mratemap\n\u001b[0;32m      2\u001b[0m \u001b[39m# plot_ratemap_1D(\u001b[39;00m\n\u001b[1;32m----> 4\u001b[0m long_pf1D\u001b[39m.\u001b[39;49mplot()\n\u001b[0;32m      5\u001b[0m \u001b[39m# ratemap.plot()\u001b[39;00m\n",
      "\u001b[1;31mAttributeError\u001b[0m: 'PfND' object has no attribute 'plot'"
     ]
    }
   ],
   "source": [
    "ratemap = long_shared_aclus_only_decoder.pf.ratemap\n",
    "# plot_ratemap_1D(\n",
    "\n",
    "long_pf1D.plot()\n",
    "# ratemap.plot()"
   ]
  },
  {
   "attachments": {},
   "cell_type": "markdown",
   "id": "4c04f8c4",
   "metadata": {},
   "source": [
    "# Work on converting `active_config.plotting_config` and `active_config.computation_config` to IdentifyingContext"
   ]
  },
  {
   "cell_type": "code",
   "execution_count": null,
   "id": "bbff31db",
   "metadata": {},
   "outputs": [],
   "source": [
    "active_config = curr_active_pipeline.active_configs['maze1']\n",
    "plotting_config = active_config.plotting_config\n",
    "computation_config = active_config.computation_config\n",
    "pf_params: PlacefieldComputationParameters = computation_config.pf_params\n",
    "spike_analysis: DynamicContainer = computation_config.spike_analysis\n",
    "session_config = active_config.active_session_config"
   ]
  },
  {
   "cell_type": "code",
   "execution_count": null,
   "id": "dd279a6b",
   "metadata": {},
   "outputs": [],
   "source": [
    "# computation_config.to_dict()\n",
    "\n",
    "pf_params_context = IdentifyingContext.init_from_dict(pf_params.to_dict())\n",
    "pf_params_context"
   ]
  },
  {
   "cell_type": "code",
   "execution_count": null,
   "id": "acdec5fa",
   "metadata": {},
   "outputs": [],
   "source": [
    "spike_analysis_context = IdentifyingContext.init_from_dict(spike_analysis.to_dict())\n",
    "spike_analysis_context"
   ]
  },
  {
   "cell_type": "code",
   "execution_count": null,
   "id": "3e183e56",
   "metadata": {},
   "outputs": [],
   "source": [
    "# not quite right:\n",
    "computation_config_context = IdentifyingContext(pf_params=pf_params_context, spike_analysis=spike_analysis_context)\n",
    "computation_config_context"
   ]
  },
  {
   "cell_type": "code",
   "execution_count": null,
   "id": "a6aed3d6",
   "metadata": {},
   "outputs": [],
   "source": [
    "plotting_config.get_figure_save_path()"
   ]
  },
  {
   "cell_type": "code",
   "execution_count": null,
   "id": "d14b34f6",
   "metadata": {},
   "outputs": [],
   "source": [
    "#TODO 2023-06-14 07:49: - [ ] Conceptual Arguments for specifying how to display a dict-like:\n",
    "keys_transformer=lambda k: k.to_lower()\n",
    "values_transformer=lambda v: np.array(v) # get precision and stuff"
   ]
  },
  {
   "cell_type": "code",
   "execution_count": null,
   "id": "ac7a8a80",
   "metadata": {},
   "outputs": [],
   "source": [
    "from pyphoplacecellanalysis.General.Mixins.ExportHelpers import FigureOutputManager, FigureOutputLocation, ContextToPathMode\n",
    "fig_man = FigureOutputManager(figure_output_location=FigureOutputLocation.DAILY_PROGRAMMATIC_OUTPUT_FOLDER, context_to_path_mode=ContextToPathMode.GLOBAL_UNIQUE)\n",
    "fig_man\n"
   ]
  },
  {
   "cell_type": "code",
   "execution_count": null,
   "id": "045fc60e",
   "metadata": {},
   "outputs": [],
   "source": [
    "test_context = IdentifyingContext(format_name='kdiba',animal='gor01',exper_name='one',session_name='2006-6-08_14-26-15',display_fn_name='display_long_short_laps')\n",
    "test_contexts = [IdentifyingContext(format_name='kdiba',animal='gor01',exper_name='one',session_name='2006-6-08_14-26-15',filter_name='maze1',display_fn_name='plot_single_track_firing_rate_compare'),\n",
    "\tIdentifyingContext(format_name='kdiba',animal='gor01',exper_name='one',session_name='2006-6-08_14-26-15',filter_name='maze2',display_fn_name='plot_single_track_firing_rate_compare')]\n",
    "\n",
    "\n"
   ]
  },
  {
   "cell_type": "code",
   "execution_count": null,
   "id": "418870cf",
   "metadata": {},
   "outputs": [],
   "source": [
    "fig_man.get_figure_output_path(test_context, make_folder_if_needed=False)\n",
    "Path('/home/halechr/repo/Spike3D/EXTERNAL/Screenshots/ProgrammaticDisplayFunctionTesting/2023-06-14/kdiba_gor01_one_2006-6-08_14-26-15_display_long_short_laps')"
   ]
  },
  {
   "cell_type": "code",
   "execution_count": null,
   "id": "bade5f43",
   "metadata": {},
   "outputs": [],
   "source": [
    "fig_man.get_figure_output_path(test_contexts[0], make_folder_if_needed=False)\n",
    "# Path('/home/halechr/repo/Spike3D/EXTERNAL/Screenshots/ProgrammaticDisplayFunctionTesting/2023-06-14/kdiba_gor01_one_2006-6-08_14-26-15_maze1_plot_single_track_firing_rate_compare')"
   ]
  },
  {
   "cell_type": "code",
   "execution_count": null,
   "id": "aad1377e",
   "metadata": {},
   "outputs": [],
   "source": [
    "curr_active_pipeline.display_output"
   ]
  },
  {
   "cell_type": "code",
   "execution_count": null,
   "id": "324e8f5f",
   "metadata": {},
   "outputs": [],
   "source": [
    "curr_active_pipeline.registered_output_files_list"
   ]
  },
  {
   "cell_type": "code",
   "execution_count": null,
   "id": "e1c10fad",
   "metadata": {},
   "outputs": [],
   "source": [
    "curr_active_pipeline.registered_output_files"
   ]
  },
  {
   "cell_type": "code",
   "execution_count": null,
   "id": "be73cef7",
   "metadata": {},
   "outputs": [],
   "source": []
  }
 ],
 "metadata": {
  "kernelspec": {
   "display_name": "Python 3 (ipykernel)",
   "language": "python",
   "name": "python3"
  },
  "language_info": {
   "codemirror_mode": {
    "name": "ipython",
    "version": 3
   },
   "file_extension": ".py",
   "mimetype": "text/x-python",
   "name": "python",
   "nbconvert_exporter": "python",
   "pygments_lexer": "ipython3",
   "version": "3.9.13"
  },
  "toc-showmarkdowntxt": false,
  "toc-showtags": false
 },
 "nbformat": 4,
 "nbformat_minor": 5
}
