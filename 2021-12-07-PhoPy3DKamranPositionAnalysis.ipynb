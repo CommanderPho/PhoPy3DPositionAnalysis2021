{
 "cells": [
  {
   "cell_type": "code",
   "execution_count": 2,
   "id": "f6088dc9",
   "metadata": {
    "tags": []
   },
   "outputs": [
    {
     "data": {
      "application/javascript": [
       "\n",
       "(function(root) {\n",
       "  function now() {\n",
       "    return new Date();\n",
       "  }\n",
       "\n",
       "  var force = true;\n",
       "\n",
       "  if (typeof root._bokeh_onload_callbacks === \"undefined\" || force === true) {\n",
       "    root._bokeh_onload_callbacks = [];\n",
       "    root._bokeh_is_loading = undefined;\n",
       "  }\n",
       "\n",
       "  if (typeof (root._bokeh_timeout) === \"undefined\" || force === true) {\n",
       "    root._bokeh_timeout = Date.now() + 5000;\n",
       "    root._bokeh_failed_load = false;\n",
       "  }\n",
       "\n",
       "  function run_callbacks() {\n",
       "    try {\n",
       "      root._bokeh_onload_callbacks.forEach(function(callback) {\n",
       "        if (callback != null)\n",
       "          callback();\n",
       "      });\n",
       "    } finally {\n",
       "      delete root._bokeh_onload_callbacks\n",
       "    }\n",
       "    console.debug(\"Bokeh: all callbacks have finished\");\n",
       "  }\n",
       "\n",
       "  function load_libs(css_urls, js_urls, js_modules, callback) {\n",
       "    if (css_urls == null) css_urls = [];\n",
       "    if (js_urls == null) js_urls = [];\n",
       "    if (js_modules == null) js_modules = [];\n",
       "\n",
       "    root._bokeh_onload_callbacks.push(callback);\n",
       "    if (root._bokeh_is_loading > 0) {\n",
       "      console.debug(\"Bokeh: BokehJS is being loaded, scheduling callback at\", now());\n",
       "      return null;\n",
       "    }\n",
       "    if (js_urls.length === 0 && js_modules.length === 0) {\n",
       "      run_callbacks();\n",
       "      return null;\n",
       "    }\n",
       "    console.debug(\"Bokeh: BokehJS not loaded, scheduling load and callback at\", now());\n",
       "    root._bokeh_is_loading = css_urls.length + js_urls.length + js_modules.length;\n",
       "\n",
       "    function on_load() {\n",
       "      root._bokeh_is_loading--;\n",
       "      if (root._bokeh_is_loading === 0) {\n",
       "        console.debug(\"Bokeh: all BokehJS libraries/stylesheets loaded\");\n",
       "        run_callbacks()\n",
       "      }\n",
       "    }\n",
       "\n",
       "    function on_error() {\n",
       "      console.error(\"failed to load \" + url);\n",
       "    }\n",
       "\n",
       "    for (var i = 0; i < css_urls.length; i++) {\n",
       "      var url = css_urls[i];\n",
       "      const element = document.createElement(\"link\");\n",
       "      element.onload = on_load;\n",
       "      element.onerror = on_error;\n",
       "      element.rel = \"stylesheet\";\n",
       "      element.type = \"text/css\";\n",
       "      element.href = url;\n",
       "      console.debug(\"Bokeh: injecting link tag for BokehJS stylesheet: \", url);\n",
       "      document.body.appendChild(element);\n",
       "    }\n",
       "\n",
       "    var skip = [];\n",
       "    if (window.requirejs) {\n",
       "      window.requirejs.config({'packages': {}, 'paths': {'tabulator': 'https://unpkg.com/tabulator-tables@4.9.3/dist/js/tabulator', 'moment': 'https://unpkg.com/moment@2.27.0/moment'}, 'shim': {}});\n",
       "      \n",
       "      require([\"tabulator\"], function(Tabulator) {\n",
       "\twindow.Tabulator = Tabulator\n",
       "      })\n",
       "      \n",
       "      require([\"moment\"], function(moment) {\n",
       "\twindow.moment = moment\n",
       "      })\n",
       "      \n",
       "    }\n",
       "    if (((window['Tabulator'] !== undefined) && (!(window['Tabulator'] instanceof HTMLElement))) || window.requirejs) {\n",
       "      var urls = ['https://unpkg.com/tabulator-tables@4.9.3/dist/js/tabulator.js'];\n",
       "      for (var i = 0; i < urls.length; i++) {\n",
       "        skip.push(urls[i])\n",
       "      }\n",
       "    }\n",
       "    if (((window['moment'] !== undefined) && (!(window['moment'] instanceof HTMLElement))) || window.requirejs) {\n",
       "      var urls = ['https://unpkg.com/moment@2.27.0/moment.js'];\n",
       "      for (var i = 0; i < urls.length; i++) {\n",
       "        skip.push(urls[i])\n",
       "      }\n",
       "    }\n",
       "    for (var i = 0; i < js_urls.length; i++) {\n",
       "      var url = js_urls[i];\n",
       "      if (skip.indexOf(url) >= 0) { on_load(); continue; }\n",
       "      var element = document.createElement('script');\n",
       "      element.onload = on_load;\n",
       "      element.onerror = on_error;\n",
       "      element.async = false;\n",
       "      element.src = url;\n",
       "      console.debug(\"Bokeh: injecting script tag for BokehJS library: \", url);\n",
       "      document.head.appendChild(element);\n",
       "    }\n",
       "    for (var i = 0; i < js_modules.length; i++) {\n",
       "      var url = js_modules[i];\n",
       "      if (skip.indexOf(url) >= 0) { on_load(); continue; }\n",
       "      var element = document.createElement('script');\n",
       "      element.onload = on_load;\n",
       "      element.onerror = on_error;\n",
       "      element.async = false;\n",
       "      element.src = url;\n",
       "      element.type = \"module\";\n",
       "      console.debug(\"Bokeh: injecting script tag for BokehJS library: \", url);\n",
       "      document.head.appendChild(element);\n",
       "    }\n",
       "    if (!js_urls.length && !js_modules.length) {\n",
       "      on_load()\n",
       "    }\n",
       "  };\n",
       "\n",
       "  function inject_raw_css(css) {\n",
       "    const element = document.createElement(\"style\");\n",
       "    element.appendChild(document.createTextNode(css));\n",
       "    document.body.appendChild(element);\n",
       "  }\n",
       "\n",
       "  var js_urls = [\"https://unpkg.com/tabulator-tables@4.9.3/dist/js/tabulator.js\", \"https://unpkg.com/moment@2.27.0/moment.js\", \"https://cdn.bokeh.org/bokeh/release/bokeh-2.4.0.min.js\", \"https://cdn.bokeh.org/bokeh/release/bokeh-gl-2.4.0.min.js\", \"https://cdn.bokeh.org/bokeh/release/bokeh-widgets-2.4.0.min.js\", \"https://cdn.bokeh.org/bokeh/release/bokeh-tables-2.4.0.min.js\", \"https://cdn.bokeh.org/bokeh/release/bokeh-mathjax-2.4.0.min.js\", \"https://unpkg.com/@holoviz/panel@0.12.4/dist/panel.min.js\"];\n",
       "  var js_modules = [];\n",
       "  var css_urls = [\"https://unpkg.com/tabulator-tables@4.9.3/dist/css/tabulator_simple.min.css\", \"https://unpkg.com/@holoviz/panel@0.12.4/dist/css/alerts.css\", \"https://unpkg.com/@holoviz/panel@0.12.4/dist/css/card.css\", \"https://unpkg.com/@holoviz/panel@0.12.4/dist/css/dataframe.css\", \"https://unpkg.com/@holoviz/panel@0.12.4/dist/css/json.css\", \"https://unpkg.com/@holoviz/panel@0.12.4/dist/css/loading.css\", \"https://unpkg.com/@holoviz/panel@0.12.4/dist/css/markdown.css\", \"https://unpkg.com/@holoviz/panel@0.12.4/dist/css/widgets.css\"];\n",
       "  var inline_js = [\n",
       "    function(Bokeh) {\n",
       "      inject_raw_css(\"\\n    .bk.pn-loading.arcs:before {\\n      background-image: url(\\\"data:image/svg+xml;base64,PHN2ZyB4bWxucz0iaHR0cDovL3d3dy53My5vcmcvMjAwMC9zdmciIHhtbG5zOnhsaW5rPSJodHRwOi8vd3d3LnczLm9yZy8xOTk5L3hsaW5rIiBzdHlsZT0ibWFyZ2luOiBhdXRvOyBiYWNrZ3JvdW5kOiBub25lOyBkaXNwbGF5OiBibG9jazsgc2hhcGUtcmVuZGVyaW5nOiBhdXRvOyIgdmlld0JveD0iMCAwIDEwMCAxMDAiIHByZXNlcnZlQXNwZWN0UmF0aW89InhNaWRZTWlkIj4gIDxjaXJjbGUgY3g9IjUwIiBjeT0iNTAiIHI9IjMyIiBzdHJva2Utd2lkdGg9IjgiIHN0cm9rZT0iI2MzYzNjMyIgc3Ryb2tlLWRhc2hhcnJheT0iNTAuMjY1NDgyNDU3NDM2NjkgNTAuMjY1NDgyNDU3NDM2NjkiIGZpbGw9Im5vbmUiIHN0cm9rZS1saW5lY2FwPSJyb3VuZCI+ICAgIDxhbmltYXRlVHJhbnNmb3JtIGF0dHJpYnV0ZU5hbWU9InRyYW5zZm9ybSIgdHlwZT0icm90YXRlIiByZXBlYXRDb3VudD0iaW5kZWZpbml0ZSIgZHVyPSIxcyIga2V5VGltZXM9IjA7MSIgdmFsdWVzPSIwIDUwIDUwOzM2MCA1MCA1MCI+PC9hbmltYXRlVHJhbnNmb3JtPiAgPC9jaXJjbGU+PC9zdmc+\\\")\\n    }\\n    \");\n",
       "    },\n",
       "    function(Bokeh) {\n",
       "      Bokeh.set_log_level(\"info\");\n",
       "    },\n",
       "    function(Bokeh) {} // ensure no trailing comma for IE\n",
       "  ];\n",
       "\n",
       "  function run_inline_js() {\n",
       "    if ((root.Bokeh !== undefined) || (force === true)) {\n",
       "      for (var i = 0; i < inline_js.length; i++) {\n",
       "        inline_js[i].call(root, root.Bokeh);\n",
       "      }} else if (Date.now() < root._bokeh_timeout) {\n",
       "      setTimeout(run_inline_js, 100);\n",
       "    } else if (!root._bokeh_failed_load) {\n",
       "      console.log(\"Bokeh: BokehJS failed to load within specified timeout.\");\n",
       "      root._bokeh_failed_load = true;\n",
       "    }\n",
       "  }\n",
       "\n",
       "  if (root._bokeh_is_loading === 0) {\n",
       "    console.debug(\"Bokeh: BokehJS loaded, going straight to plotting\");\n",
       "    run_inline_js();\n",
       "  } else {\n",
       "    load_libs(css_urls, js_urls, js_modules, function() {\n",
       "      console.debug(\"Bokeh: BokehJS plotting callback run at\", now());\n",
       "      run_inline_js();\n",
       "    });\n",
       "  }\n",
       "}(window));"
      ],
      "application/vnd.holoviews_load.v0+json": "\n(function(root) {\n  function now() {\n    return new Date();\n  }\n\n  var force = true;\n\n  if (typeof root._bokeh_onload_callbacks === \"undefined\" || force === true) {\n    root._bokeh_onload_callbacks = [];\n    root._bokeh_is_loading = undefined;\n  }\n\n  if (typeof (root._bokeh_timeout) === \"undefined\" || force === true) {\n    root._bokeh_timeout = Date.now() + 5000;\n    root._bokeh_failed_load = false;\n  }\n\n  function run_callbacks() {\n    try {\n      root._bokeh_onload_callbacks.forEach(function(callback) {\n        if (callback != null)\n          callback();\n      });\n    } finally {\n      delete root._bokeh_onload_callbacks\n    }\n    console.debug(\"Bokeh: all callbacks have finished\");\n  }\n\n  function load_libs(css_urls, js_urls, js_modules, callback) {\n    if (css_urls == null) css_urls = [];\n    if (js_urls == null) js_urls = [];\n    if (js_modules == null) js_modules = [];\n\n    root._bokeh_onload_callbacks.push(callback);\n    if (root._bokeh_is_loading > 0) {\n      console.debug(\"Bokeh: BokehJS is being loaded, scheduling callback at\", now());\n      return null;\n    }\n    if (js_urls.length === 0 && js_modules.length === 0) {\n      run_callbacks();\n      return null;\n    }\n    console.debug(\"Bokeh: BokehJS not loaded, scheduling load and callback at\", now());\n    root._bokeh_is_loading = css_urls.length + js_urls.length + js_modules.length;\n\n    function on_load() {\n      root._bokeh_is_loading--;\n      if (root._bokeh_is_loading === 0) {\n        console.debug(\"Bokeh: all BokehJS libraries/stylesheets loaded\");\n        run_callbacks()\n      }\n    }\n\n    function on_error() {\n      console.error(\"failed to load \" + url);\n    }\n\n    for (var i = 0; i < css_urls.length; i++) {\n      var url = css_urls[i];\n      const element = document.createElement(\"link\");\n      element.onload = on_load;\n      element.onerror = on_error;\n      element.rel = \"stylesheet\";\n      element.type = \"text/css\";\n      element.href = url;\n      console.debug(\"Bokeh: injecting link tag for BokehJS stylesheet: \", url);\n      document.body.appendChild(element);\n    }\n\n    var skip = [];\n    if (window.requirejs) {\n      window.requirejs.config({'packages': {}, 'paths': {'tabulator': 'https://unpkg.com/tabulator-tables@4.9.3/dist/js/tabulator', 'moment': 'https://unpkg.com/moment@2.27.0/moment'}, 'shim': {}});\n      \n      require([\"tabulator\"], function(Tabulator) {\n\twindow.Tabulator = Tabulator\n      })\n      \n      require([\"moment\"], function(moment) {\n\twindow.moment = moment\n      })\n      \n    }\n    if (((window['Tabulator'] !== undefined) && (!(window['Tabulator'] instanceof HTMLElement))) || window.requirejs) {\n      var urls = ['https://unpkg.com/tabulator-tables@4.9.3/dist/js/tabulator.js'];\n      for (var i = 0; i < urls.length; i++) {\n        skip.push(urls[i])\n      }\n    }\n    if (((window['moment'] !== undefined) && (!(window['moment'] instanceof HTMLElement))) || window.requirejs) {\n      var urls = ['https://unpkg.com/moment@2.27.0/moment.js'];\n      for (var i = 0; i < urls.length; i++) {\n        skip.push(urls[i])\n      }\n    }\n    for (var i = 0; i < js_urls.length; i++) {\n      var url = js_urls[i];\n      if (skip.indexOf(url) >= 0) { on_load(); continue; }\n      var element = document.createElement('script');\n      element.onload = on_load;\n      element.onerror = on_error;\n      element.async = false;\n      element.src = url;\n      console.debug(\"Bokeh: injecting script tag for BokehJS library: \", url);\n      document.head.appendChild(element);\n    }\n    for (var i = 0; i < js_modules.length; i++) {\n      var url = js_modules[i];\n      if (skip.indexOf(url) >= 0) { on_load(); continue; }\n      var element = document.createElement('script');\n      element.onload = on_load;\n      element.onerror = on_error;\n      element.async = false;\n      element.src = url;\n      element.type = \"module\";\n      console.debug(\"Bokeh: injecting script tag for BokehJS library: \", url);\n      document.head.appendChild(element);\n    }\n    if (!js_urls.length && !js_modules.length) {\n      on_load()\n    }\n  };\n\n  function inject_raw_css(css) {\n    const element = document.createElement(\"style\");\n    element.appendChild(document.createTextNode(css));\n    document.body.appendChild(element);\n  }\n\n  var js_urls = [\"https://unpkg.com/tabulator-tables@4.9.3/dist/js/tabulator.js\", \"https://unpkg.com/moment@2.27.0/moment.js\", \"https://cdn.bokeh.org/bokeh/release/bokeh-2.4.0.min.js\", \"https://cdn.bokeh.org/bokeh/release/bokeh-gl-2.4.0.min.js\", \"https://cdn.bokeh.org/bokeh/release/bokeh-widgets-2.4.0.min.js\", \"https://cdn.bokeh.org/bokeh/release/bokeh-tables-2.4.0.min.js\", \"https://cdn.bokeh.org/bokeh/release/bokeh-mathjax-2.4.0.min.js\", \"https://unpkg.com/@holoviz/panel@0.12.4/dist/panel.min.js\"];\n  var js_modules = [];\n  var css_urls = [\"https://unpkg.com/tabulator-tables@4.9.3/dist/css/tabulator_simple.min.css\", \"https://unpkg.com/@holoviz/panel@0.12.4/dist/css/alerts.css\", \"https://unpkg.com/@holoviz/panel@0.12.4/dist/css/card.css\", \"https://unpkg.com/@holoviz/panel@0.12.4/dist/css/dataframe.css\", \"https://unpkg.com/@holoviz/panel@0.12.4/dist/css/json.css\", \"https://unpkg.com/@holoviz/panel@0.12.4/dist/css/loading.css\", \"https://unpkg.com/@holoviz/panel@0.12.4/dist/css/markdown.css\", \"https://unpkg.com/@holoviz/panel@0.12.4/dist/css/widgets.css\"];\n  var inline_js = [\n    function(Bokeh) {\n      inject_raw_css(\"\\n    .bk.pn-loading.arcs:before {\\n      background-image: url(\\\"data:image/svg+xml;base64,PHN2ZyB4bWxucz0iaHR0cDovL3d3dy53My5vcmcvMjAwMC9zdmciIHhtbG5zOnhsaW5rPSJodHRwOi8vd3d3LnczLm9yZy8xOTk5L3hsaW5rIiBzdHlsZT0ibWFyZ2luOiBhdXRvOyBiYWNrZ3JvdW5kOiBub25lOyBkaXNwbGF5OiBibG9jazsgc2hhcGUtcmVuZGVyaW5nOiBhdXRvOyIgdmlld0JveD0iMCAwIDEwMCAxMDAiIHByZXNlcnZlQXNwZWN0UmF0aW89InhNaWRZTWlkIj4gIDxjaXJjbGUgY3g9IjUwIiBjeT0iNTAiIHI9IjMyIiBzdHJva2Utd2lkdGg9IjgiIHN0cm9rZT0iI2MzYzNjMyIgc3Ryb2tlLWRhc2hhcnJheT0iNTAuMjY1NDgyNDU3NDM2NjkgNTAuMjY1NDgyNDU3NDM2NjkiIGZpbGw9Im5vbmUiIHN0cm9rZS1saW5lY2FwPSJyb3VuZCI+ICAgIDxhbmltYXRlVHJhbnNmb3JtIGF0dHJpYnV0ZU5hbWU9InRyYW5zZm9ybSIgdHlwZT0icm90YXRlIiByZXBlYXRDb3VudD0iaW5kZWZpbml0ZSIgZHVyPSIxcyIga2V5VGltZXM9IjA7MSIgdmFsdWVzPSIwIDUwIDUwOzM2MCA1MCA1MCI+PC9hbmltYXRlVHJhbnNmb3JtPiAgPC9jaXJjbGU+PC9zdmc+\\\")\\n    }\\n    \");\n    },\n    function(Bokeh) {\n      Bokeh.set_log_level(\"info\");\n    },\n    function(Bokeh) {} // ensure no trailing comma for IE\n  ];\n\n  function run_inline_js() {\n    if ((root.Bokeh !== undefined) || (force === true)) {\n      for (var i = 0; i < inline_js.length; i++) {\n        inline_js[i].call(root, root.Bokeh);\n      }} else if (Date.now() < root._bokeh_timeout) {\n      setTimeout(run_inline_js, 100);\n    } else if (!root._bokeh_failed_load) {\n      console.log(\"Bokeh: BokehJS failed to load within specified timeout.\");\n      root._bokeh_failed_load = true;\n    }\n  }\n\n  if (root._bokeh_is_loading === 0) {\n    console.debug(\"Bokeh: BokehJS loaded, going straight to plotting\");\n    run_inline_js();\n  } else {\n    load_libs(css_urls, js_urls, js_modules, function() {\n      console.debug(\"Bokeh: BokehJS plotting callback run at\", now());\n      run_inline_js();\n    });\n  }\n}(window));"
     },
     "metadata": {},
     "output_type": "display_data"
    },
    {
     "data": {
      "application/javascript": [
       "\n",
       "if ((window.PyViz === undefined) || (window.PyViz instanceof HTMLElement)) {\n",
       "  window.PyViz = {comms: {}, comm_status:{}, kernels:{}, receivers: {}, plot_index: []}\n",
       "}\n",
       "\n",
       "\n",
       "    function JupyterCommManager() {\n",
       "    }\n",
       "\n",
       "    JupyterCommManager.prototype.register_target = function(plot_id, comm_id, msg_handler) {\n",
       "      if (window.comm_manager || ((window.Jupyter !== undefined) && (Jupyter.notebook.kernel != null))) {\n",
       "        var comm_manager = window.comm_manager || Jupyter.notebook.kernel.comm_manager;\n",
       "        comm_manager.register_target(comm_id, function(comm) {\n",
       "          comm.on_msg(msg_handler);\n",
       "        });\n",
       "      } else if ((plot_id in window.PyViz.kernels) && (window.PyViz.kernels[plot_id])) {\n",
       "        window.PyViz.kernels[plot_id].registerCommTarget(comm_id, function(comm) {\n",
       "          comm.onMsg = msg_handler;\n",
       "        });\n",
       "      } else if (typeof google != 'undefined' && google.colab.kernel != null) {\n",
       "        google.colab.kernel.comms.registerTarget(comm_id, (comm) => {\n",
       "          var messages = comm.messages[Symbol.asyncIterator]();\n",
       "          function processIteratorResult(result) {\n",
       "            var message = result.value;\n",
       "            console.log(message)\n",
       "            var content = {data: message.data, comm_id};\n",
       "            var buffers = []\n",
       "            for (var buffer of message.buffers || []) {\n",
       "              buffers.push(new DataView(buffer))\n",
       "            }\n",
       "            var metadata = message.metadata || {};\n",
       "            var msg = {content, buffers, metadata}\n",
       "            msg_handler(msg);\n",
       "            return messages.next().then(processIteratorResult);\n",
       "          }\n",
       "          return messages.next().then(processIteratorResult);\n",
       "        })\n",
       "      }\n",
       "    }\n",
       "\n",
       "    JupyterCommManager.prototype.get_client_comm = function(plot_id, comm_id, msg_handler) {\n",
       "      if (comm_id in window.PyViz.comms) {\n",
       "        return window.PyViz.comms[comm_id];\n",
       "      } else if (window.comm_manager || ((window.Jupyter !== undefined) && (Jupyter.notebook.kernel != null))) {\n",
       "        var comm_manager = window.comm_manager || Jupyter.notebook.kernel.comm_manager;\n",
       "        var comm = comm_manager.new_comm(comm_id, {}, {}, {}, comm_id);\n",
       "        if (msg_handler) {\n",
       "          comm.on_msg(msg_handler);\n",
       "        }\n",
       "      } else if ((plot_id in window.PyViz.kernels) && (window.PyViz.kernels[plot_id])) {\n",
       "        var comm = window.PyViz.kernels[plot_id].connectToComm(comm_id);\n",
       "        comm.open();\n",
       "        if (msg_handler) {\n",
       "          comm.onMsg = msg_handler;\n",
       "        }\n",
       "      } else if (typeof google != 'undefined' && google.colab.kernel != null) {\n",
       "        var comm_promise = google.colab.kernel.comms.open(comm_id)\n",
       "        comm_promise.then((comm) => {\n",
       "          window.PyViz.comms[comm_id] = comm;\n",
       "          if (msg_handler) {\n",
       "            var messages = comm.messages[Symbol.asyncIterator]();\n",
       "            function processIteratorResult(result) {\n",
       "              var message = result.value;\n",
       "              var content = {data: message.data};\n",
       "              var metadata = message.metadata || {comm_id};\n",
       "              var msg = {content, metadata}\n",
       "              msg_handler(msg);\n",
       "              return messages.next().then(processIteratorResult);\n",
       "            }\n",
       "            return messages.next().then(processIteratorResult);\n",
       "          }\n",
       "        }) \n",
       "        var sendClosure = (data, metadata, buffers, disposeOnDone) => {\n",
       "          return comm_promise.then((comm) => {\n",
       "            comm.send(data, metadata, buffers, disposeOnDone);\n",
       "          });\n",
       "        };\n",
       "        var comm = {\n",
       "          send: sendClosure\n",
       "        };\n",
       "      }\n",
       "      window.PyViz.comms[comm_id] = comm;\n",
       "      return comm;\n",
       "    }\n",
       "    window.PyViz.comm_manager = new JupyterCommManager();\n",
       "    \n",
       "\n",
       "\n",
       "var JS_MIME_TYPE = 'application/javascript';\n",
       "var HTML_MIME_TYPE = 'text/html';\n",
       "var EXEC_MIME_TYPE = 'application/vnd.holoviews_exec.v0+json';\n",
       "var CLASS_NAME = 'output';\n",
       "\n",
       "/**\n",
       " * Render data to the DOM node\n",
       " */\n",
       "function render(props, node) {\n",
       "  var div = document.createElement(\"div\");\n",
       "  var script = document.createElement(\"script\");\n",
       "  node.appendChild(div);\n",
       "  node.appendChild(script);\n",
       "}\n",
       "\n",
       "/**\n",
       " * Handle when a new output is added\n",
       " */\n",
       "function handle_add_output(event, handle) {\n",
       "  var output_area = handle.output_area;\n",
       "  var output = handle.output;\n",
       "  if ((output.data == undefined) || (!output.data.hasOwnProperty(EXEC_MIME_TYPE))) {\n",
       "    return\n",
       "  }\n",
       "  var id = output.metadata[EXEC_MIME_TYPE][\"id\"];\n",
       "  var toinsert = output_area.element.find(\".\" + CLASS_NAME.split(' ')[0]);\n",
       "  if (id !== undefined) {\n",
       "    var nchildren = toinsert.length;\n",
       "    var html_node = toinsert[nchildren-1].children[0];\n",
       "    html_node.innerHTML = output.data[HTML_MIME_TYPE];\n",
       "    var scripts = [];\n",
       "    var nodelist = html_node.querySelectorAll(\"script\");\n",
       "    for (var i in nodelist) {\n",
       "      if (nodelist.hasOwnProperty(i)) {\n",
       "        scripts.push(nodelist[i])\n",
       "      }\n",
       "    }\n",
       "\n",
       "    scripts.forEach( function (oldScript) {\n",
       "      var newScript = document.createElement(\"script\");\n",
       "      var attrs = [];\n",
       "      var nodemap = oldScript.attributes;\n",
       "      for (var j in nodemap) {\n",
       "        if (nodemap.hasOwnProperty(j)) {\n",
       "          attrs.push(nodemap[j])\n",
       "        }\n",
       "      }\n",
       "      attrs.forEach(function(attr) { newScript.setAttribute(attr.name, attr.value) });\n",
       "      newScript.appendChild(document.createTextNode(oldScript.innerHTML));\n",
       "      oldScript.parentNode.replaceChild(newScript, oldScript);\n",
       "    });\n",
       "    if (JS_MIME_TYPE in output.data) {\n",
       "      toinsert[nchildren-1].children[1].textContent = output.data[JS_MIME_TYPE];\n",
       "    }\n",
       "    output_area._hv_plot_id = id;\n",
       "    if ((window.Bokeh !== undefined) && (id in Bokeh.index)) {\n",
       "      window.PyViz.plot_index[id] = Bokeh.index[id];\n",
       "    } else {\n",
       "      window.PyViz.plot_index[id] = null;\n",
       "    }\n",
       "  } else if (output.metadata[EXEC_MIME_TYPE][\"server_id\"] !== undefined) {\n",
       "    var bk_div = document.createElement(\"div\");\n",
       "    bk_div.innerHTML = output.data[HTML_MIME_TYPE];\n",
       "    var script_attrs = bk_div.children[0].attributes;\n",
       "    for (var i = 0; i < script_attrs.length; i++) {\n",
       "      toinsert[toinsert.length - 1].childNodes[1].setAttribute(script_attrs[i].name, script_attrs[i].value);\n",
       "    }\n",
       "    // store reference to server id on output_area\n",
       "    output_area._bokeh_server_id = output.metadata[EXEC_MIME_TYPE][\"server_id\"];\n",
       "  }\n",
       "}\n",
       "\n",
       "/**\n",
       " * Handle when an output is cleared or removed\n",
       " */\n",
       "function handle_clear_output(event, handle) {\n",
       "  var id = handle.cell.output_area._hv_plot_id;\n",
       "  var server_id = handle.cell.output_area._bokeh_server_id;\n",
       "  if (((id === undefined) || !(id in PyViz.plot_index)) && (server_id !== undefined)) { return; }\n",
       "  var comm = window.PyViz.comm_manager.get_client_comm(\"hv-extension-comm\", \"hv-extension-comm\", function () {});\n",
       "  if (server_id !== null) {\n",
       "    comm.send({event_type: 'server_delete', 'id': server_id});\n",
       "    return;\n",
       "  } else if (comm !== null) {\n",
       "    comm.send({event_type: 'delete', 'id': id});\n",
       "  }\n",
       "  delete PyViz.plot_index[id];\n",
       "  if ((window.Bokeh !== undefined) & (id in window.Bokeh.index)) {\n",
       "    var doc = window.Bokeh.index[id].model.document\n",
       "    doc.clear();\n",
       "    const i = window.Bokeh.documents.indexOf(doc);\n",
       "    if (i > -1) {\n",
       "      window.Bokeh.documents.splice(i, 1);\n",
       "    }\n",
       "  }\n",
       "}\n",
       "\n",
       "/**\n",
       " * Handle kernel restart event\n",
       " */\n",
       "function handle_kernel_cleanup(event, handle) {\n",
       "  delete PyViz.comms[\"hv-extension-comm\"];\n",
       "  window.PyViz.plot_index = {}\n",
       "}\n",
       "\n",
       "/**\n",
       " * Handle update_display_data messages\n",
       " */\n",
       "function handle_update_output(event, handle) {\n",
       "  handle_clear_output(event, {cell: {output_area: handle.output_area}})\n",
       "  handle_add_output(event, handle)\n",
       "}\n",
       "\n",
       "function register_renderer(events, OutputArea) {\n",
       "  function append_mime(data, metadata, element) {\n",
       "    // create a DOM node to render to\n",
       "    var toinsert = this.create_output_subarea(\n",
       "    metadata,\n",
       "    CLASS_NAME,\n",
       "    EXEC_MIME_TYPE\n",
       "    );\n",
       "    this.keyboard_manager.register_events(toinsert);\n",
       "    // Render to node\n",
       "    var props = {data: data, metadata: metadata[EXEC_MIME_TYPE]};\n",
       "    render(props, toinsert[0]);\n",
       "    element.append(toinsert);\n",
       "    return toinsert\n",
       "  }\n",
       "\n",
       "  events.on('output_added.OutputArea', handle_add_output);\n",
       "  events.on('output_updated.OutputArea', handle_update_output);\n",
       "  events.on('clear_output.CodeCell', handle_clear_output);\n",
       "  events.on('delete.Cell', handle_clear_output);\n",
       "  events.on('kernel_ready.Kernel', handle_kernel_cleanup);\n",
       "\n",
       "  OutputArea.prototype.register_mime_type(EXEC_MIME_TYPE, append_mime, {\n",
       "    safe: true,\n",
       "    index: 0\n",
       "  });\n",
       "}\n",
       "\n",
       "if (window.Jupyter !== undefined) {\n",
       "  try {\n",
       "    var events = require('base/js/events');\n",
       "    var OutputArea = require('notebook/js/outputarea').OutputArea;\n",
       "    if (OutputArea.prototype.mime_types().indexOf(EXEC_MIME_TYPE) == -1) {\n",
       "      register_renderer(events, OutputArea);\n",
       "    }\n",
       "  } catch(err) {\n",
       "  }\n",
       "}\n"
      ],
      "application/vnd.holoviews_load.v0+json": "\nif ((window.PyViz === undefined) || (window.PyViz instanceof HTMLElement)) {\n  window.PyViz = {comms: {}, comm_status:{}, kernels:{}, receivers: {}, plot_index: []}\n}\n\n\n    function JupyterCommManager() {\n    }\n\n    JupyterCommManager.prototype.register_target = function(plot_id, comm_id, msg_handler) {\n      if (window.comm_manager || ((window.Jupyter !== undefined) && (Jupyter.notebook.kernel != null))) {\n        var comm_manager = window.comm_manager || Jupyter.notebook.kernel.comm_manager;\n        comm_manager.register_target(comm_id, function(comm) {\n          comm.on_msg(msg_handler);\n        });\n      } else if ((plot_id in window.PyViz.kernels) && (window.PyViz.kernels[plot_id])) {\n        window.PyViz.kernels[plot_id].registerCommTarget(comm_id, function(comm) {\n          comm.onMsg = msg_handler;\n        });\n      } else if (typeof google != 'undefined' && google.colab.kernel != null) {\n        google.colab.kernel.comms.registerTarget(comm_id, (comm) => {\n          var messages = comm.messages[Symbol.asyncIterator]();\n          function processIteratorResult(result) {\n            var message = result.value;\n            console.log(message)\n            var content = {data: message.data, comm_id};\n            var buffers = []\n            for (var buffer of message.buffers || []) {\n              buffers.push(new DataView(buffer))\n            }\n            var metadata = message.metadata || {};\n            var msg = {content, buffers, metadata}\n            msg_handler(msg);\n            return messages.next().then(processIteratorResult);\n          }\n          return messages.next().then(processIteratorResult);\n        })\n      }\n    }\n\n    JupyterCommManager.prototype.get_client_comm = function(plot_id, comm_id, msg_handler) {\n      if (comm_id in window.PyViz.comms) {\n        return window.PyViz.comms[comm_id];\n      } else if (window.comm_manager || ((window.Jupyter !== undefined) && (Jupyter.notebook.kernel != null))) {\n        var comm_manager = window.comm_manager || Jupyter.notebook.kernel.comm_manager;\n        var comm = comm_manager.new_comm(comm_id, {}, {}, {}, comm_id);\n        if (msg_handler) {\n          comm.on_msg(msg_handler);\n        }\n      } else if ((plot_id in window.PyViz.kernels) && (window.PyViz.kernels[plot_id])) {\n        var comm = window.PyViz.kernels[plot_id].connectToComm(comm_id);\n        comm.open();\n        if (msg_handler) {\n          comm.onMsg = msg_handler;\n        }\n      } else if (typeof google != 'undefined' && google.colab.kernel != null) {\n        var comm_promise = google.colab.kernel.comms.open(comm_id)\n        comm_promise.then((comm) => {\n          window.PyViz.comms[comm_id] = comm;\n          if (msg_handler) {\n            var messages = comm.messages[Symbol.asyncIterator]();\n            function processIteratorResult(result) {\n              var message = result.value;\n              var content = {data: message.data};\n              var metadata = message.metadata || {comm_id};\n              var msg = {content, metadata}\n              msg_handler(msg);\n              return messages.next().then(processIteratorResult);\n            }\n            return messages.next().then(processIteratorResult);\n          }\n        }) \n        var sendClosure = (data, metadata, buffers, disposeOnDone) => {\n          return comm_promise.then((comm) => {\n            comm.send(data, metadata, buffers, disposeOnDone);\n          });\n        };\n        var comm = {\n          send: sendClosure\n        };\n      }\n      window.PyViz.comms[comm_id] = comm;\n      return comm;\n    }\n    window.PyViz.comm_manager = new JupyterCommManager();\n    \n\n\nvar JS_MIME_TYPE = 'application/javascript';\nvar HTML_MIME_TYPE = 'text/html';\nvar EXEC_MIME_TYPE = 'application/vnd.holoviews_exec.v0+json';\nvar CLASS_NAME = 'output';\n\n/**\n * Render data to the DOM node\n */\nfunction render(props, node) {\n  var div = document.createElement(\"div\");\n  var script = document.createElement(\"script\");\n  node.appendChild(div);\n  node.appendChild(script);\n}\n\n/**\n * Handle when a new output is added\n */\nfunction handle_add_output(event, handle) {\n  var output_area = handle.output_area;\n  var output = handle.output;\n  if ((output.data == undefined) || (!output.data.hasOwnProperty(EXEC_MIME_TYPE))) {\n    return\n  }\n  var id = output.metadata[EXEC_MIME_TYPE][\"id\"];\n  var toinsert = output_area.element.find(\".\" + CLASS_NAME.split(' ')[0]);\n  if (id !== undefined) {\n    var nchildren = toinsert.length;\n    var html_node = toinsert[nchildren-1].children[0];\n    html_node.innerHTML = output.data[HTML_MIME_TYPE];\n    var scripts = [];\n    var nodelist = html_node.querySelectorAll(\"script\");\n    for (var i in nodelist) {\n      if (nodelist.hasOwnProperty(i)) {\n        scripts.push(nodelist[i])\n      }\n    }\n\n    scripts.forEach( function (oldScript) {\n      var newScript = document.createElement(\"script\");\n      var attrs = [];\n      var nodemap = oldScript.attributes;\n      for (var j in nodemap) {\n        if (nodemap.hasOwnProperty(j)) {\n          attrs.push(nodemap[j])\n        }\n      }\n      attrs.forEach(function(attr) { newScript.setAttribute(attr.name, attr.value) });\n      newScript.appendChild(document.createTextNode(oldScript.innerHTML));\n      oldScript.parentNode.replaceChild(newScript, oldScript);\n    });\n    if (JS_MIME_TYPE in output.data) {\n      toinsert[nchildren-1].children[1].textContent = output.data[JS_MIME_TYPE];\n    }\n    output_area._hv_plot_id = id;\n    if ((window.Bokeh !== undefined) && (id in Bokeh.index)) {\n      window.PyViz.plot_index[id] = Bokeh.index[id];\n    } else {\n      window.PyViz.plot_index[id] = null;\n    }\n  } else if (output.metadata[EXEC_MIME_TYPE][\"server_id\"] !== undefined) {\n    var bk_div = document.createElement(\"div\");\n    bk_div.innerHTML = output.data[HTML_MIME_TYPE];\n    var script_attrs = bk_div.children[0].attributes;\n    for (var i = 0; i < script_attrs.length; i++) {\n      toinsert[toinsert.length - 1].childNodes[1].setAttribute(script_attrs[i].name, script_attrs[i].value);\n    }\n    // store reference to server id on output_area\n    output_area._bokeh_server_id = output.metadata[EXEC_MIME_TYPE][\"server_id\"];\n  }\n}\n\n/**\n * Handle when an output is cleared or removed\n */\nfunction handle_clear_output(event, handle) {\n  var id = handle.cell.output_area._hv_plot_id;\n  var server_id = handle.cell.output_area._bokeh_server_id;\n  if (((id === undefined) || !(id in PyViz.plot_index)) && (server_id !== undefined)) { return; }\n  var comm = window.PyViz.comm_manager.get_client_comm(\"hv-extension-comm\", \"hv-extension-comm\", function () {});\n  if (server_id !== null) {\n    comm.send({event_type: 'server_delete', 'id': server_id});\n    return;\n  } else if (comm !== null) {\n    comm.send({event_type: 'delete', 'id': id});\n  }\n  delete PyViz.plot_index[id];\n  if ((window.Bokeh !== undefined) & (id in window.Bokeh.index)) {\n    var doc = window.Bokeh.index[id].model.document\n    doc.clear();\n    const i = window.Bokeh.documents.indexOf(doc);\n    if (i > -1) {\n      window.Bokeh.documents.splice(i, 1);\n    }\n  }\n}\n\n/**\n * Handle kernel restart event\n */\nfunction handle_kernel_cleanup(event, handle) {\n  delete PyViz.comms[\"hv-extension-comm\"];\n  window.PyViz.plot_index = {}\n}\n\n/**\n * Handle update_display_data messages\n */\nfunction handle_update_output(event, handle) {\n  handle_clear_output(event, {cell: {output_area: handle.output_area}})\n  handle_add_output(event, handle)\n}\n\nfunction register_renderer(events, OutputArea) {\n  function append_mime(data, metadata, element) {\n    // create a DOM node to render to\n    var toinsert = this.create_output_subarea(\n    metadata,\n    CLASS_NAME,\n    EXEC_MIME_TYPE\n    );\n    this.keyboard_manager.register_events(toinsert);\n    // Render to node\n    var props = {data: data, metadata: metadata[EXEC_MIME_TYPE]};\n    render(props, toinsert[0]);\n    element.append(toinsert);\n    return toinsert\n  }\n\n  events.on('output_added.OutputArea', handle_add_output);\n  events.on('output_updated.OutputArea', handle_update_output);\n  events.on('clear_output.CodeCell', handle_clear_output);\n  events.on('delete.Cell', handle_clear_output);\n  events.on('kernel_ready.Kernel', handle_kernel_cleanup);\n\n  OutputArea.prototype.register_mime_type(EXEC_MIME_TYPE, append_mime, {\n    safe: true,\n    index: 0\n  });\n}\n\nif (window.Jupyter !== undefined) {\n  try {\n    var events = require('base/js/events');\n    var OutputArea = require('notebook/js/outputarea').OutputArea;\n    if (OutputArea.prototype.mime_types().indexOf(EXEC_MIME_TYPE) == -1) {\n      register_renderer(events, OutputArea);\n    }\n  } catch(err) {\n  }\n}\n"
     },
     "metadata": {},
     "output_type": "display_data"
    }
   ],
   "source": [
    "#!/usr/bin/env python3\n",
    "# -*- coding: utf-8 -*-\n",
    "\"\"\"\n",
    "@author: pho\n",
    "\"\"\"\n",
    "%load_ext autoreload\n",
    "%autoreload 2\n",
    "import sys\n",
    "import importlib\n",
    "from threading import Thread\n",
    "import time # for time.sleep\n",
    "from ipygany import PolyMesh, Scene, IsoColor, WarpByScalar\n",
    "import pyvista as pv\n",
    "# from pyvista import _vtk\n",
    "import pyvistaqt as pvqt\n",
    "import colorcet as cc # Colormaps:\n",
    "import numpy as np\n",
    "import pandas as pd\n",
    "import h5py\n",
    "import hdf5storage # conda install hdf5storage\n",
    "from pathlib import Path\n",
    "import bqplot.scales\n",
    "import seaborn as sns\n",
    "from mpl_toolkits import mplot3d\n",
    "# %matplotlib widget\n",
    "import matplotlib.pyplot as plt\n",
    "import matplotlib.cm as cm\n",
    "from matplotlib.colors import Normalize, to_rgba_array\n",
    "# import mplcursors\n",
    "import math # For color map generation\n",
    "from matplotlib.colors import ListedColormap\n",
    "from matplotlib.cm import hsv\n",
    "\n",
    "from copy import deepcopy\n",
    "\n",
    "import ipywidgets as widgets\n",
    "# from PyQt5 import QtWidgets, uic\n",
    "from pyvistaqt import QtInteractor, MainWindow\n",
    "# from pyqt6 import QApplication\n",
    "from IPython.external.qt_for_kernel import QtGui\n",
    "from PyQt5.QtWidgets import QApplication\n",
    "import datetime as dt\n",
    "\n",
    "import panel as pn # for interactive widgets\n",
    "# pn.extension()\n",
    "pn.extension('tabulator')"
   ]
  },
  {
   "cell_type": "code",
   "execution_count": 5,
   "id": "7773a93a-d1a0-4403-93dd-755468f86751",
   "metadata": {},
   "outputs": [
    {
     "name": "stdout",
     "output_type": "stream",
     "text": [
      "neuropy module not found, adding directory to sys.path. \n",
      " >> Updated sys.path.\n"
     ]
    }
   ],
   "source": [
    "# NeuroPy (Diba Lab Python Repo) Loading\n",
    "try:\n",
    "    from neuropy import core\n",
    "    importlib.reload(core)\n",
    "except ImportError:\n",
    "    sys.path.append(r'C:\\Users\\Pho\\repos\\NeuroPy') # Windows\n",
    "    # sys.path.append('/home/pho/repo/BapunAnalysis2021/NeuroPy') # Linux\n",
    "    # sys.path.append(r'/Users/pho/repo/Python Projects/NeuroPy') # MacOS\n",
    "    print('neuropy module not found, adding directory to sys.path. \\n >> Updated sys.path.')\n",
    "    from neuropy import core\n",
    "# from neuropy.core.session.dataSession import SessionConfig, DataSessionLoader, DataSession, processDataSssion\n",
    "\n",
    "from neuropy.core.session.data_session_loader import DataSessionLoader\n",
    "from neuropy.core.session.dataSession import DataSession\n",
    "from neuropy.core.epoch import Epoch, NamedTimerange\n",
    "from neuropy.core import Laps\n",
    "from neuropy.core import Position\n",
    "from neuropy.core import FlattenedSpiketrains\n",
    "from neuropy.core import Neurons\n",
    "from neuropy.utils.misc import print_seconds_human_readable\n",
    "from neuropy.plotting import plot_raster\n",
    "## Data must be pre-processed using the MATLAB script located here: \n",
    "# R:\\data\\KDIBA\\gor01\\one\\IIDataMat_Export_ToPython_2021_11_23.m\n",
    "\n",
    "# From pre-computed .mat files:\n",
    "## 07: \n",
    "basedir = r'R:\\data\\KDIBA\\gor01\\one\\2006-6-07_11-26-53'\n",
    "\n",
    "# ## 08:\n",
    "#basedir = r'R:\\data\\KDIBA\\gor01\\one\\2006-6-08_14-26-15'"
   ]
  },
  {
   "cell_type": "code",
   "execution_count": 30,
   "id": "313eba69-5c27-4e2d-8563-2220af614aea",
   "metadata": {},
   "outputs": [],
   "source": [
    "# import PhoPositionalData as pdp\n",
    "# from PhoPositionalData import load_exported, process_data\n",
    "from PhoPositionalData.load_exported import *\n",
    "# from PhoPositionalData.process_data import process_positionalAnalysis_data, gen_2d_histrogram, get_heatmap_color_vectors, process_chunk_equal_poritions_data, extract_spike_timeseries\n",
    "from PhoPositionalData.process_data import *\n",
    "from PhoPositionalData.plot_data import *\n",
    "from PhoPositionalData.plotting.animations import * # make_mp4_from_plotter\n",
    "from PhoPositionalData.import_data import * # build_spike_positions_list, build_cellID_reverse_lookup_map\n",
    "from PhoPositionalData.analysis.interactive_placeCell_config import InteractivePlaceCellConfig, VideoOutputModeConfig, PlottingConfig, PlacefieldComputationParameters\n",
    "from PhoPositionalData.analysis.interactive_placeCell_config import print_subsession_neuron_differences\n",
    "\n",
    "from PendingNotebookCode import debug_print_spike_counts, compute_placefields_as_needed, build_configs, build_units_colormap, build_placefield_multiplotter, process_by_good_placefields"
   ]
  },
  {
   "cell_type": "code",
   "execution_count": 7,
   "id": "9e070d85-648e-4b81-8398-eed34ae71937",
   "metadata": {},
   "outputs": [
    {
     "name": "stdout",
     "output_type": "stream",
     "text": [
      "\t basepath: R:\\data\\KDIBA\\gor01\\one\\2006-6-07_11-26-53\n",
      "\t session_name: 2006-6-07_11-26-53\n",
      "Loading matlab import file: R:\\data\\KDIBA\\gor01\\one\\2006-6-07_11-26-53\\2006-6-07_11-26-53.epochs_info.mat...\n",
      "done.\n",
      "Loading matlab import file: R:\\data\\KDIBA\\gor01\\one\\2006-6-07_11-26-53\\2006-6-07_11-26-53.position_info.mat...\n",
      "done.\n",
      "Loading matlab import file: R:\\data\\KDIBA\\gor01\\one\\2006-6-07_11-26-53\\2006-6-07_11-26-53.spikes.mat...\n",
      "done.\n",
      "Loading success: .position.npy.\n",
      "done.\n",
      "\n",
      "session.position linear positions computed!\n",
      "\t Failure loading .interpolated_spike_positions.npy. Must recompute.\n",
      "\n",
      "\t Saving updated position results to R:\\data\\KDIBA\\gor01\\one\\2006-6-07_11-26-53\\2006-6-07_11-26-53.position.npy...\n",
      "filename can not be None\n",
      "\t done.\n",
      "\n",
      "Loading matlab import file: R:\\data\\KDIBA\\gor01\\one\\2006-6-07_11-26-53\\2006-6-07_11-26-53.laps_info.mat...\n",
      "done.\n",
      "setting laps object.\n",
      "session.laps loaded successfully!\n"
     ]
    }
   ],
   "source": [
    "# KDiba Old Format:\n",
    "sess = DataSessionLoader.kdiba_old_format_session(basedir)\n",
    "active_sess_config = sess.config\n",
    "session_name = sess.name"
   ]
  },
  {
   "cell_type": "code",
   "execution_count": 12,
   "id": "cd73e47d-2e5b-401e-a1c9-04c0565b978d",
   "metadata": {},
   "outputs": [],
   "source": [
    "epochs_df_widget = pn.widgets.Tabulator(sess.epochs.to_dataframe())\n",
    "laps_df_widget = pn.widgets.Tabulator(sess.laps.to_dataframe())\n",
    "# position_df_widget = pn.widgets.Tabulator(sess.position.to_dataframe())\n",
    "# position_df_widget = pn.widgets.Tabulator(sess.position.to_dataframe())\n",
    "# tabs = pn.Tabs(('epochs',epochs_df_widget), ('laps',laps_df_widget), ('position',position_df_widget), dynamic=True)\n",
    "# neurons_plot = plot_raster(sess.neurons, color='jet',add_vert_jitter=True)\n",
    "\n",
    "# tabs = pn.Tabs(('epochs',epochs_df_widget), ('laps',laps_df_widget), ('neurons', neurons_plot), dynamic=False)\n",
    "# tabs"
   ]
  },
  {
   "cell_type": "code",
   "execution_count": 13,
   "id": "ec7286f0-b334-47a8-bb67-c85e62e40fa7",
   "metadata": {
    "scrolled": true,
    "tags": []
   },
   "outputs": [
    {
     "name": "stdout",
     "output_type": "stream",
     "text": [
      "session dataframe spikes: (932598, 20)\n",
      " session.neurons.n_spikes summed: 932598\n",
      "\n"
     ]
    }
   ],
   "source": [
    "# sess.spikes_df.size # (1014937, 18)\n",
    "# np.sum(sess.neurons.n_spikes) # 1014937\n",
    "print('session dataframe spikes: {}\\n session.neurons.n_spikes summed: {}\\n'.format(sess.spikes_df.shape, np.sum(sess.neurons.n_spikes)))"
   ]
  },
  {
   "cell_type": "markdown",
   "id": "ad898964-122c-40e6-8b4f-7ea60294a87c",
   "metadata": {
    "jp-MarkdownHeadingCollapsed": true,
    "tags": []
   },
   "source": [
    "## Debugging"
   ]
  },
  {
   "cell_type": "code",
   "execution_count": null,
   "id": "d9783830-35dc-417a-9941-2c49b5efc819",
   "metadata": {
    "scrolled": true,
    "tags": []
   },
   "outputs": [],
   "source": [
    "# debug_print_spike_counts(sess)\n",
    "\n",
    "# sess.spikes_df unique aclu values: [ 2  3  4  5  6  7  8  9 10 11 12 13 14 15 16 17 18 19 20 21 22 23 24 25\n",
    "#  26 27 28 29 30 31 32 33 34 35 36 37 38 39 40 41 42 43 44 45 46 47 48 49\n",
    "#  50 51 52 53 54 55 56 57 58 59 60 61 62 63 64 65]\n",
    "# sess.spikes_df unique aclu value counts: [    0     0  1707  1359   554  3066 91337  2707   294  2991   913  1278\n",
    "#   1221  5475  2880 36760 48449   523  2595  3025 34729  3958  5263   790\n",
    "#    663  1070  1078  2954  4044  2581 73951  4871 13444   476  1234 89854\n",
    "#   5822 14961  2682  1184 13575 83972   795 22769  1559  8307  2098   438\n",
    "#   3476 28370 43854  1355  2552  2875 59011  1440 75786  3656   875 17727\n",
    "#  77247   550   408  2627  1734  2799]\n",
    "\n",
    "# sess.spikes_df unique unit_id values: [ 0  1  2  3  4  5  6  7  8  9 10 11 12 13 14 15 16 17 18 19 20 21 22 23\n",
    "#  24 25 26 27 28 29 30 31 32 33 34 35 36 37 38 39 40 41 42 43 44 45 46 47\n",
    "#  48 49 50 51 52 53 54 55 56 57 58 59 60 61 62 63]\n",
    "# sess.spikes_df unique unit_id value counts: [ 1707  1359   554  3066 91337  2707   294  2991   913  1278  1221  5475\n",
    "#   2880 36760 48449   523  2595  3025 34729  3958  5263   790   663  1070\n",
    "#   1078  2954  4044  2581 73951  4871 13444   476  1234 89854  5822 14961\n",
    "#   2682  1184 13575 83972   795 22769  1559  8307  2098   438  3476 28370\n",
    "#  43854  1355  2552  2875 59011  1440 75786  3656   875 17727 77247   550\n",
    "#    408  2627  1734  2799]\n",
    "\n",
    "# sess.neurons.spiketrains\n",
    "# sess.neurons.n_spikes\n",
    "\n",
    "## Note the unit_id seems to have valid spikes for all of them, while the aclu does not!\n",
    "sess.spikes_df # 1014937\n",
    "\n",
    "sess.laps\n",
    "# np.where(np.logical_and((sess.spikes_df.maze_relative_lap == 1), (sess.spikes_df.maze_id == 2)))\n",
    "# sess.spikes_df.lap.values[np.logical_and((sess.spikes_df.maze_relative_lap == 1), (sess.spikes_df.lap_maze == 2))]\n",
    "\n",
    "\n",
    "# test_df = sess.spikes_df\n",
    "# test_df"
   ]
  },
  {
   "cell_type": "code",
   "execution_count": null,
   "id": "065881f6-218a-4e92-a0d8-9e2b7ae9519d",
   "metadata": {
    "scrolled": true,
    "tags": []
   },
   "outputs": [],
   "source": [
    "lap_specific_subsessions = list()\n",
    "lap_grouped_spikes_df = sess.spikes_df.groupby(['lap']) #  as_index=False keeps the original index"
   ]
  },
  {
   "cell_type": "code",
   "execution_count": null,
   "id": "6566deba-051e-4fac-805b-734d4a75d3db",
   "metadata": {
    "scrolled": true,
    "tags": []
   },
   "outputs": [],
   "source": [
    "i = 2\n",
    "curr_lap_id = sess.laps.lap_id[i]\n",
    "curr_lap_times = sess.laps.get_lap_times(i)\n",
    "print('curr_lap_id: {}'.format(curr_lap_id))\n",
    "print('curr_lap_times: {}'.format(curr_lap_times))\n",
    "\n",
    "lap_specific_subsessions.append(sess.time_slice(curr_lap_times[0], curr_lap_times[-1]))\n",
    "# lap_specific_subsessions.append(sess.time_slice(curr_lap_dataframe.t_seconds.values[0], curr_lap_dataframe.t_seconds.values[-1]))"
   ]
  },
  {
   "cell_type": "code",
   "execution_count": null,
   "id": "11c43d53-dcfc-430f-8c14-022549261d8d",
   "metadata": {
    "scrolled": true,
    "tags": []
   },
   "outputs": [],
   "source": [
    "i = 3\n",
    "curr_lap_id = sess.laps.lap_id[i]\n",
    "curr_lap_times = sess.laps.get_lap_times(i)\n",
    "print('curr_lap_id: {}'.format(curr_lap_id))\n",
    "print('curr_lap_times: {}'.format(curr_lap_times))\n",
    "\n",
    "lap_specific_subsessions.append(sess.time_slice(curr_lap_times[0], curr_lap_times[-1]))"
   ]
  },
  {
   "cell_type": "code",
   "execution_count": null,
   "id": "3f48e028-51c4-4b4f-ab6e-cdb8dde958d4",
   "metadata": {},
   "outputs": [],
   "source": [
    "lap_specific_session = DataSession.concat(lap_specific_subsessions)\n",
    "lap_specific_session"
   ]
  },
  {
   "cell_type": "code",
   "execution_count": null,
   "id": "f2700b62-aad3-4252-beeb-fb55cb284e4c",
   "metadata": {},
   "outputs": [],
   "source": [
    "lap_specific_session.neurons.n_spikes # this looks right.\n",
    "\n",
    "lap_specific_session.position.print_debug_str() # this looks right.\n",
    "\n",
    "# len(sess.neurons.n_spikes) # 64 items long\n",
    "# sess.neurons.n_spikes\n",
    "# array([ 1707,  1359,   554,  3066, 91337,  2707,   294,  2991,   913,\n",
    "#         1278,  1221,  5475,  2880, 36760, 48449,   523,  2595,  3025,\n",
    "#        34729,  3958,  5263,   790,   663,  1070,  1078,  2954,  4044,\n",
    "#         2581, 73951,  4871, 13444,   476,  1234, 89854,  5822, 14961,\n",
    "#         2682,  1184, 13575, 83972,   795, 22769,  1559,  8307,  2098,\n",
    "#          438,  3476, 28370, 43854,  1355,  2552,  2875, 59011,  1440,\n",
    "#        75786,  3656,   875, 17727, 77247,   550,   408,  2627,  1734,\n",
    "#         2799])\n",
    "\n"
   ]
  },
  {
   "cell_type": "markdown",
   "id": "d8312b63-1ef4-423c-9bec-59e98f46d0d7",
   "metadata": {
    "tags": []
   },
   "source": [
    "## Laps: Create version of Session that only includes activity during the laps"
   ]
  },
  {
   "cell_type": "code",
   "execution_count": null,
   "id": "dfe03444-11b5-4d92-93ab-128a7120bd96",
   "metadata": {
    "scrolled": true,
    "tags": []
   },
   "outputs": [],
   "source": [
    "sess.laps.lap_id # 1-80"
   ]
  },
  {
   "cell_type": "code",
   "execution_count": 8,
   "id": "fe5c0dfb-fd58-4ff5-b135-648990d88ab2",
   "metadata": {
    "scrolled": true,
    "tags": []
   },
   "outputs": [
    {
     "name": "stdout",
     "output_type": "stream",
     "text": [
      "Constraining to epoch with times (start: 29.5092789712362, end: 47.6615333572845)\n",
      "Constraining to epoch with times (start: 58.504551165620796, end: 67.77771633781958)\n",
      "Constraining to epoch with times (start: 91.70563496672548, end: 123.80089149391279)\n",
      "Constraining to epoch with times (start: 123.80239677318605, end: 131.3101151692099)\n",
      "Constraining to epoch with times (start: 272.3169626536546, end: 286.19923138595186)\n",
      "Constraining to epoch with times (start: 301.72022695920896, end: 308.42351184715517)\n",
      "Constraining to epoch with times (start: 730.109547463886, end: 757.2724340364803)\n",
      "Constraining to epoch with times (start: 776.8678211236256, end: 782.8647921332158)\n",
      "Constraining to epoch with times (start: 839.3915292714955, end: 853.7373625664623)\n",
      "Constraining to epoch with times (start: 868.4558907105238, end: 874.987942406151)\n",
      "Constraining to epoch with times (start: 885.2308146017604, end: 901.1212794258608)\n",
      "Constraining to epoch with times (start: 924.4401129265898, end: 930.4128765885835)\n",
      "Constraining to epoch with times (start: 953.9711109268246, end: 960.2789067371632)\n",
      "Constraining to epoch with times (start: 971.5889911864651, end: 976.4523640563712)\n",
      "Constraining to epoch with times (start: 1000.0201523096766, end: 1013.7269484918215)\n",
      "Constraining to epoch with times (start: 1022.169906088966, end: 1027.4075098073226)\n",
      "Constraining to epoch with times (start: 1051.1419539753115, end: 1057.6440536861774)\n",
      "Constraining to epoch with times (start: 1073.8329017175129, end: 1078.9670098088682)\n",
      "Constraining to epoch with times (start: 1107.595301071182, end: 1117.6668171945494)\n",
      "Constraining to epoch with times (start: 1126.0432967458037, end: 1130.7750959231053)\n",
      "Constraining to epoch with times (start: 1157.3426599205122, end: 1163.6410861356999)\n",
      "Constraining to epoch with times (start: 1174.1262161273626, end: 1177.8293566313223)\n",
      "Constraining to epoch with times (start: 1195.8420194088249, end: 1201.7158340014284)\n",
      "Constraining to epoch with times (start: 1209.7253326206119, end: 1214.1318071644637)\n",
      "Constraining to epoch with times (start: 1286.3410041133757, end: 1294.9814604895073)\n",
      "Constraining to epoch with times (start: 1307.401181490568, end: 1310.9280814448139)\n",
      "Constraining to epoch with times (start: 1326.5830775894574, end: 1333.0222627725452)\n",
      "Constraining to epoch with times (start: 1360.415242027375, end: 1365.2449150745524)\n",
      "Constraining to epoch with times (start: 1396.4895659573376, end: 1400.9863265349413)\n",
      "Constraining to epoch with times (start: 1418.812457567954, end: 1423.1704252567142)\n",
      "Constraining to epoch with times (start: 1441.1591264465242, end: 1446.8611548870686)\n",
      "Constraining to epoch with times (start: 1456.0788397676079, end: 1460.177745828929)\n",
      "Constraining to epoch with times (start: 1477.1293096297886, end: 1482.1028136433451)\n",
      "Constraining to epoch with times (start: 1489.7369447746314, end: 1493.7518931190134)\n",
      "Constraining to epoch with times (start: 1545.405365552404, end: 1553.798218855285)\n",
      "Constraining to epoch with times (start: 1563.2228335498949, end: 1566.9477545227273)\n",
      "Constraining to epoch with times (start: 1579.0399390515522, end: 1589.709481108759)\n",
      "Constraining to epoch with times (start: 1599.4534914797987, end: 1604.1259396474925)\n",
      "Constraining to epoch with times (start: 1627.9496253698017, end: 1634.6561358560575)\n",
      "Constraining to epoch with times (start: 1651.4353298250935, end: 1656.8729820810258)\n",
      "Constraining to epoch with times (start: 1669.2583888596855, end: 1691.7071709659067)\n",
      "Constraining to epoch with times (start: 1704.8939085342572, end: 1722.5488063749508)\n",
      "Constraining to epoch with times (start: 1899.8904525360558, end: 1911.9688130719587)\n",
      "Constraining to epoch with times (start: 1926.1455942934263, end: 1930.7536840941175)\n"
     ]
    }
   ],
   "source": [
    "lap_specific_sessions = sess.split_by_laps()\n",
    "# lap_specific_session = deepcopy(sess) # copy of session\n",
    "# lap_specific_session = deepcopy(sess.filtered_by_laps())\n",
    "# lap_specific_session = sess.filtered_by_laps()\n",
    "# print(lap_specific_session.neurons.n_spikes)\n",
    "# print_subsession_neuron_differences(sess.neurons, lap_specific_session.neurons)"
   ]
  },
  {
   "cell_type": "code",
   "execution_count": 9,
   "id": "fe0c08fa-7fd8-4846-ab60-aa4c87835611",
   "metadata": {
    "scrolled": true,
    "tags": []
   },
   "outputs": [
    {
     "data": {
      "text/plain": [
       "[DataSession(2006-6-07_11-26-53.xml),\n",
       " DataSession(2006-6-07_11-26-53.xml),\n",
       " DataSession(2006-6-07_11-26-53.xml),\n",
       " DataSession(2006-6-07_11-26-53.xml),\n",
       " DataSession(2006-6-07_11-26-53.xml),\n",
       " DataSession(2006-6-07_11-26-53.xml),\n",
       " DataSession(2006-6-07_11-26-53.xml),\n",
       " DataSession(2006-6-07_11-26-53.xml),\n",
       " DataSession(2006-6-07_11-26-53.xml),\n",
       " DataSession(2006-6-07_11-26-53.xml),\n",
       " DataSession(2006-6-07_11-26-53.xml),\n",
       " DataSession(2006-6-07_11-26-53.xml),\n",
       " DataSession(2006-6-07_11-26-53.xml),\n",
       " DataSession(2006-6-07_11-26-53.xml),\n",
       " DataSession(2006-6-07_11-26-53.xml),\n",
       " DataSession(2006-6-07_11-26-53.xml),\n",
       " DataSession(2006-6-07_11-26-53.xml),\n",
       " DataSession(2006-6-07_11-26-53.xml),\n",
       " DataSession(2006-6-07_11-26-53.xml),\n",
       " DataSession(2006-6-07_11-26-53.xml),\n",
       " DataSession(2006-6-07_11-26-53.xml),\n",
       " DataSession(2006-6-07_11-26-53.xml)]"
      ]
     },
     "execution_count": 9,
     "metadata": {},
     "output_type": "execute_result"
    }
   ],
   "source": [
    "even_lap_specific_session = [lap_specific_sessions[i] for i in np.arange(0, len(lap_specific_sessions), 2)]\n",
    "even_lap_specific_session\n",
    "# range(0, 2, len(lap_specific_sessions))"
   ]
  },
  {
   "cell_type": "code",
   "execution_count": null,
   "id": "5f7099cc-0b2b-4590-9c22-a5bcf9ddca13",
   "metadata": {
    "scrolled": true,
    "tags": []
   },
   "outputs": [],
   "source": [
    "lap_specific_session.flattened_spiketrains"
   ]
  },
  {
   "cell_type": "code",
   "execution_count": null,
   "id": "4b54246b-87d0-4d6f-beb0-91ea40b12bd7",
   "metadata": {
    "scrolled": true,
    "tags": []
   },
   "outputs": [],
   "source": [
    "# lap_specific_session.position\n",
    "# sess.neurons.spiketrains\n",
    "sess.flattened_spiketrains.spikes_df"
   ]
  },
  {
   "cell_type": "code",
   "execution_count": null,
   "id": "0d7a822c-6d17-4b6c-a08a-c0af544a4de0",
   "metadata": {
    "scrolled": true,
    "tags": []
   },
   "outputs": [],
   "source": [
    "sess.flattened_spiketrains.spikes_df\n",
    "neurons_obj = Neurons.from_dataframe(sess.flattened_spiketrains.spikes_df, sess.recinfo.dat_sampling_rate, time_variable_name='t_rel_seconds')\n",
    "neurons_obj"
   ]
  },
  {
   "cell_type": "code",
   "execution_count": null,
   "id": "be1ba447-305f-4a62-9844-d3743b5c2425",
   "metadata": {
    "scrolled": true,
    "tags": []
   },
   "outputs": [],
   "source": [
    "## Filtering Testing:\n",
    "temp_spikes_df = deepcopy(sess.flattened_spiketrains.spikes_df)\n",
    "curr_lap_spikes_df = temp_spikes_df.loc[temp_spikes_df['lap'] != -1]\n",
    "curr_lap_spikes_neurons_obj = Neurons.from_dataframe(curr_lap_spikes_df, sess.recinfo.dat_sampling_rate, time_variable_name='t_rel_seconds')\n",
    "print_subsession_neuron_differences(sess.neurons, curr_lap_spikes_neurons_obj)\n",
    "# Asign the result to the lap_specific_session\n",
    "lap_specific_session.flattened_spiketrains = FlattenedSpiketrains(curr_lap_spikes_df, time_variable_name='t_rel_seconds', t_start=0.0)\n",
    "lap_specific_session.neurons = curr_lap_spikes_neurons_obj"
   ]
  },
  {
   "cell_type": "code",
   "execution_count": 10,
   "id": "d6dd375c-e873-431c-8c74-80a0aee3209b",
   "metadata": {
    "scrolled": true,
    "tags": []
   },
   "outputs": [
    {
     "name": "stdout",
     "output_type": "stream",
     "text": [
      "!! WARNING: Session.concat(...) is not yet fully implemented, meaning the returned session is not fully valid. Continue with caution.\n"
     ]
    },
    {
     "data": {
      "text/plain": [
       "DataSession(2006-6-07_11-26-53.xml)"
      ]
     },
     "execution_count": 10,
     "metadata": {},
     "output_type": "execute_result"
    }
   ],
   "source": [
    "lap_specific_session = deepcopy(DataSession.concat(even_lap_specific_session))\n",
    "lap_specific_session"
   ]
  },
  {
   "cell_type": "markdown",
   "id": "fd7aeaa7-ec07-4f3d-b665-2874cd4a589f",
   "metadata": {
    "tags": []
   },
   "source": [
    "# Filter Session by Epoch:"
   ]
  },
  {
   "cell_type": "code",
   "execution_count": 31,
   "id": "ff74b4ac-d60d-400c-a610-fe4e08cd2bcd",
   "metadata": {},
   "outputs": [
    {
     "name": "stdout",
     "output_type": "stream",
     "text": [
      "Constraining to units with type: pyramidal\n",
      "Constraining to epoch with times (start: 0.0, end: 1739.1533641185379)\n",
      "69892/932598 total spikes spanning 40/64 units remain in subsession\n",
      "[ 1707  1359   554  3066 91337  2707   294  2991   913  1278  1221  5475\n",
      "  2880 36760 48449   523  2595  3025 34729  3958  5263   790   663  1070\n",
      "  1078  2954  4044  2581 73951  4871 13444   476  1234 89854  5822 14961\n",
      "  2682  1184 13575 83972   795 22769  1559  8307  2098   438  3476 28370\n",
      " 43854  1355  2552  2875 59011  1440 75786  3656   875 17727 77247   550\n",
      "   408  2627  1734  2799]\n"
     ]
    }
   ],
   "source": [
    "active_epoch = sess.epochs.get_named_timerange('maze1')\n",
    "# active_epoch = sess.epochs.get_named_timerange('maze2')\n",
    "# active_epoch = NamedTimerange(name='maze', start_end_times=[sess.epochs['maze1'][0], sess.epochs['maze2'][1]])\n",
    "active_subplots_shape = (1,1) # Single subplot\n",
    "# active_subplots_shape = '1|2' # 1 subplot on left, two on right                                                   \n",
    "active_config = build_configs(active_sess_config, active_epoch, active_subplots_shape = active_subplots_shape)\n",
    "# active_config.computation_config = PlacefieldComputationParameters(speed_thresh=1, grid_bin=2, smooth=0.5)\n",
    "active_config.computation_config = PlacefieldComputationParameters(speed_thresh=1, grid_bin=10, smooth=0.5)\n",
    "\n",
    "## All Spikes:\n",
    "active_epoch_session = sess.filtered_by_neuron_type('pyramidal').filtered_by_epoch(active_epoch)\n",
    "print_subsession_neuron_differences(sess.neurons, active_epoch_session.neurons)\n",
    "print(sess.neurons.n_spikes)"
   ]
  },
  {
   "cell_type": "code",
   "execution_count": 32,
   "id": "ebc29121-d51e-4fa3-96d1-97b48736ac24",
   "metadata": {},
   "outputs": [
    {
     "name": "stdout",
     "output_type": "stream",
     "text": [
      "Constraining to units with type: pyramidal\n",
      "Constraining to epoch with times (start: 0.0, end: 1739.1533641185379)\n",
      "10178/148328 total spikes spanning 40/64 units remain in subsession\n",
      "[142 681 288 529 187 130 697 297 172  12 157  19 683 100 565  22 407 532\n",
      " 101  88 937  86  59 206  93 431  82 429 340 267 144  55 230 688 114  81\n",
      "   4  12  55  56]\n"
     ]
    }
   ],
   "source": [
    "## Lap_specific Spikes Only:\n",
    "active_lap_specific_epoch_session = lap_specific_session.filtered_by_neuron_type('pyramidal').filtered_by_epoch(active_epoch)\n",
    "print_subsession_neuron_differences(lap_specific_session.neurons, active_lap_specific_epoch_session.neurons)\n",
    "print(active_lap_specific_epoch_session.neurons.n_spikes)"
   ]
  },
  {
   "cell_type": "markdown",
   "id": "212608eb-26af-425d-92c0-a3309bf4727d",
   "metadata": {
    "tags": []
   },
   "source": [
    "## Compute Placefields if needed:"
   ]
  },
  {
   "cell_type": "code",
   "execution_count": null,
   "id": "7e3ca3f8-c2f4-4d8f-94e9-b2f5de765092",
   "metadata": {},
   "outputs": [],
   "source": [
    "## ICA and PCA Analysis\n",
    "should_show_2D_ICA_plots = False\n",
    "from PhoPositionalData.analysis.neuronal_dimensionality_reduction import runAnalysis_PCAandICA\n",
    "active_session_ensembles, template, zsc_template, pca_data = runAnalysis_PCAandICA(active_epoch_session.neurons, bin_size=0.250, frate_thresh=0.1, should_plot=should_show_2D_ICA_plots, active_cells_colormap=active_config.plotting_config.active_cells_colormap)"
   ]
  },
  {
   "cell_type": "code",
   "execution_count": 39,
   "id": "f48a9b28-84be-44bd-b6d0-445c8369ad82",
   "metadata": {
    "scrolled": true,
    "tags": []
   },
   "outputs": [
    {
     "name": "stdout",
     "output_type": "stream",
     "text": [
      "Recomputing active_epoch_placefields...\n",
      "\t done.\n",
      "Recomputing active_epoch_placefields2D...\n",
      "\t done.\n",
      "Saving 1D Placefield image out to \"output\\2006-6-07_11-26-53\\maze1\\1D Placefields - maze1.pdf\"...\n",
      "done.\n"
     ]
    },
    {
     "data": {
      "image/png": "[encoded data removed]",
      "text/plain": [
       "<Figure size 324x792 with 1 Axes>"
      ]
     },
     "metadata": {
      "needs_background": "light"
     },
     "output_type": "display_data"
    },
    {
     "data": {
      "image/png": "[encoded data removed]",
      "text/plain": [
       "<Figure size 432x288 with 1 Axes>"
      ]
     },
     "metadata": {
      "needs_background": "light"
     },
     "output_type": "display_data"
    },
    {
     "name": "stdout",
     "output_type": "stream",
     "text": [
      "Saving 2D Placefield image out to \"output\\2006-6-07_11-26-53\\maze1\\2D Occupancy - maze1.pdf\"...\n",
      "\t done.\n",
      "Saving 2D Placefield image out to \"output\\2006-6-07_11-26-53\\maze1\\2D Placefields - maze1.pdf\"...\n",
      "\t done.\n",
      "good_placefield_neuronIDs: [ 2  3  4  5  7  8  9 10 11 12 14 17 18 21 22 23 24 25 26 27 28 29 33 34\n",
      " 38 39 42 44 45 46 47 48 53 55 57 58 61 62 63 64]; (40 good)\n",
      "active_epoch_session.spikes_df unique aclu values: [ 2  3  4  5  7  8  9 10 11 12 14 17 18 21 22 23 24 25 26 27 28 29 33 34\n",
      " 38 39 42 44 45 46 47 48 53 55 57 58 61 62 63 64]\n",
      "active_epoch_session.spikes_df unique aclu value counts: [1596 1276  496 2648 2109  271 2694  814 1140  905 2626  492 2317 3268\n",
      " 4576  666  621  900  971 2755 3147 2219  442 1092 2289 1085  703 1381\n",
      " 7238 1899  403 2987 2375 1354 3183  777  437  332 1876 1532]\n",
      "40\n",
      "active_epoch_session.spikes_df unique unit_id values: [ 0  1  2  3  5  6  7  8  9 10 12 15 16 19 20 21 22 23 24 25 26 27 31 32\n",
      " 36 37 40 42 43 44 45 46 51 53 55 56 59 60 61 62]\n",
      "active_epoch_session.spikes_df unique unit_id value counts: [1596 1276  496 2648 2109  271 2694  814 1140  905 2626  492 2317 3268\n",
      " 4576  666  621  900  971 2755 3147 2219  442 1092 2289 1085  703 1381\n",
      " 7238 1899  403 2987 2375 1354 3183  777  437  332 1876 1532]\n",
      "40\n"
     ]
    },
    {
     "data": {
      "image/png": "[encoded data removed]",
      "text/plain": [
       "<Figure size 720x720 with 40 Axes>"
      ]
     },
     "metadata": {
      "needs_background": "light"
     },
     "output_type": "display_data"
    }
   ],
   "source": [
    "try: active_epoch_placefields1D\n",
    "except NameError: active_epoch_placefields1D = None # Checks variable active_epoch_placefields's existance, and sets its value to None if it doesn't exist so it can be checked in the next step\n",
    "try: active_epoch_placefields2D\n",
    "except NameError: active_epoch_placefields2D = None # Checks variable active_epoch_placefields's existance, and sets its value to None if it doesn't exist so it can be checked in the next step\n",
    "active_epoch_placefields1D, active_epoch_placefields2D = compute_placefields_as_needed(active_epoch_session, active_config.computation_config, active_config, active_epoch_placefields1D, active_epoch_placefields2D, should_force_recompute_placefields=True, should_display_2D_plots=True)\n",
    "# Focus on the 2D placefields:\n",
    "active_epoch_placefields = active_epoch_placefields2D\n",
    "# Get the updated session using the units that have good placefields\n",
    "active_epoch_session, active_config, good_placefield_neuronIDs = process_by_good_placefields(active_epoch_session, active_config, active_epoch_placefields)\n",
    "debug_print_spike_counts(active_epoch_session)"
   ]
  },
  {
   "cell_type": "markdown",
   "id": "6742e705-6578-4b58-bdba-20cb5c4e870a",
   "metadata": {
    "jp-MarkdownHeadingCollapsed": true,
    "tags": []
   },
   "source": [
    "## Compute the placefields for lap-only filtered Session:"
   ]
  },
  {
   "cell_type": "code",
   "execution_count": 34,
   "id": "76c6d208-5a08-440d-b0b9-7e9ba5475ad3",
   "metadata": {
    "scrolled": true,
    "tags": []
   },
   "outputs": [
    {
     "name": "stdout",
     "output_type": "stream",
     "text": [
      "Recomputing active_epoch_placefields...\n",
      "\t done.\n",
      "Recomputing active_epoch_placefields2D...\n",
      "\t done.\n",
      "Saving 1D Placefield image out to \"output\\2006-6-07_11-26-53\\maze1\\1D Placefields - maze1.pdf\"...\n",
      "done.\n"
     ]
    },
    {
     "data": {
      "image/png": "[encoded data removed]",
      "text/plain": [
       "<Figure size 324x792 with 1 Axes>"
      ]
     },
     "metadata": {
      "needs_background": "light"
     },
     "output_type": "display_data"
    },
    {
     "data": {
      "image/png": "[encoded data removed]",
      "text/plain": [
       "<Figure size 432x288 with 1 Axes>"
      ]
     },
     "metadata": {
      "needs_background": "light"
     },
     "output_type": "display_data"
    },
    {
     "name": "stdout",
     "output_type": "stream",
     "text": [
      "Saving 2D Placefield image out to \"output\\2006-6-07_11-26-53\\maze1\\2D Occupancy - maze1.pdf\"...\n",
      "\t done.\n",
      "Saving 2D Placefield image out to \"output\\2006-6-07_11-26-53\\maze1\\2D Placefields - maze1.pdf\"...\n",
      "\t done.\n",
      "good_placefield_neuronIDs: [ 3  5 18 22 24 28 39 44 45 55]; (10 good)\n"
     ]
    },
    {
     "data": {
      "image/png": "[encoded data removed]",
      "text/plain": [
       "<Figure size 720x720 with 10 Axes>"
      ]
     },
     "metadata": {
      "needs_background": "light"
     },
     "output_type": "display_data"
    }
   ],
   "source": [
    "try: active_lap_only_placefields1D\n",
    "except NameError: active_lap_only_placefields1D = None # Checks variable active_epoch_placefields's existance, and sets its value to None if it doesn't exist so it can be checked in the next step\n",
    "try: active_lap_only_placefields2D\n",
    "except NameError: active_lap_only_placefields2D = None # Checks variable active_epoch_placefields's existance, and sets its value to None if it doesn't exist so it can be checked in the next step\n",
    "lap_specific_config = active_config\n",
    "active_lap_only_placefields1D, active_lap_only_placefields2D = compute_placefields_as_needed(active_lap_specific_epoch_session, lap_specific_config.computation_config, lap_specific_config, active_lap_only_placefields1D, active_lap_only_placefields2D, should_force_recompute_placefields=True, should_display_2D_plots=True)\n",
    "# Focus on the 2D placefields:\n",
    "active_lap_only_placefields = active_lap_only_placefields2D\n",
    "# Get the updated session using the units that have good placefields\n",
    "lap_specific_session, lap_specific_config, lap_specific_good_placefield_neuronIDs = process_by_good_placefields(active_lap_specific_epoch_session, lap_specific_config, active_lap_only_placefields)"
   ]
  },
  {
   "cell_type": "markdown",
   "id": "bf3f80a3-8ea2-44af-a814-cc6a9f099748",
   "metadata": {
    "tags": [
     "debug"
    ]
   },
   "source": [
    "## Debug"
   ]
  },
  {
   "cell_type": "code",
   "execution_count": null,
   "id": "208d9a2f-b950-4945-825d-b663db3e7ecb",
   "metadata": {
    "tags": [
     "debug"
    ]
   },
   "outputs": [],
   "source": [
    "debug_print_spike_counts(active_epoch_session)\n",
    "# active_epoch_session.spikes_df unique aclu values: [ 2  3  4  5  7  8  9 10 11 12 14 17 18 21 22 23 24 25 26 27 28 29 33 34\n",
    "#  38 39 42 44 45 46 47 48 53 55 57 58 61 62 63 64]\n",
    "# active_epoch_session.spikes_df unique aclu value counts: [   0    0  513  473   33  630    0  130  100  631   70  150  349    0\n",
    "#    52    0    0  308  952    0    0 1436  898  342  223   89  109 1261\n",
    "#   684  916    0    0    0  137  293    0    0    0  687  394    0    0\n",
    "#   225    0  495 2123  316  111  396    0    0    0    0  458    0  576\n",
    "#     0  927  382    0    0   89   90   55  370]\n",
    "# active_epoch_session.spikes_df unique unit_id values: [ 0  1  2  3  5  6  7  8  9 10 12 15 16 19 20 21 22 23 24 25 26 27 31 32\n",
    "#  36 37 40 42 43 44 45 46 51 53 55 56 59 60 61 62]\n",
    "# active_epoch_session.spikes_df unique unit_id value counts: [ 513  473   33  630    0  130  100  631   70  150  349    0   52    0\n",
    "#     0  308  952    0    0 1436  898  342  223   89  109 1261  684  916\n",
    "#     0    0    0  137  293    0    0    0  687  394    0    0  225    0\n",
    "#   495 2123  316  111  396    0    0    0    0  458    0  576    0  927\n",
    "#   382    0    0   89   90   55  370]\n",
    "\n",
    "\n",
    "# print(active_epoch_session.epochs.to_dataframe())\n",
    "# print(sess.spikes_df) # max is in 4.2305 x 10^4\n",
    "# print(sess.position.to_dataframe()) # max is in 4.2305 x 10^4 ## NOTE: The only place that I need to be careful with indexing is with sess.position properties, as these appear to be represented in terms of the number of 60Hz samples instead of in seconds like the Neurons and other classes.\n",
    "# print(sess.flattened_spiketrains.spikes_df) # t_seconds is in the same units as the position dataframe, which is NOT seconds, and 't' is a factor of 1x10^4 larger than 't_seconds'\n",
    "# # Get only the rows with a lap != -1:\n",
    "# # spikes_df = spikes_df[(spikes_df.lap != -1)] # 229887 rows × 13 columns\n",
    "# # spikes_df # 932598 rows × 14 columns"
   ]
  },
  {
   "cell_type": "code",
   "execution_count": null,
   "id": "20a62623-e071-45e8-ba19-eb99915b1217",
   "metadata": {},
   "outputs": [],
   "source": [
    "print('pix2cm: {}'.format(DataSessionLoader.pix2cm))"
   ]
  },
  {
   "cell_type": "code",
   "execution_count": null,
   "id": "513c142d-bf5e-4f72-ac00-1e6662a6bf74",
   "metadata": {},
   "outputs": [],
   "source": [
    "active_epoch_session.spikes_df"
   ]
  },
  {
   "cell_type": "code",
   "execution_count": null,
   "id": "833a850f-68bd-4f90-a614-b509cf595dd3",
   "metadata": {},
   "outputs": [],
   "source": [
    "debug_print_spike_counts(active_epoch_session) # 46 neurons after filtering, much better\n",
    "\n",
    "# count_arr = np.bincount(active_epoch_session.spikes_df['unit_id'])\n",
    "# count_arr\n",
    "valid_indicies = np.nonzero(active_epoch_session.spikes_df['unit_id'].values)\n",
    "valid_indicies\n",
    "# count_arr = np.bincount(active_epoch_session.spikes_df['aclu'])\n",
    "# count_arr\n",
    "\n",
    "# len(active_epoch_session.spikes_df['unit_id'].values) # 17766\n",
    "active_epoch_session.neurons.n_spikes\n",
    "\n",
    "# active_epoch_session.neurons.n_spikes # array([ 513,  473,   33,  630,  130,  631,  150,  349,  308,  952, 1436,\n",
    "#         # 898,  342,  223, 1261,  684,  916,  137,  293,  687,  394,  225,\n",
    "#         # 495, 2123,  316,  111,  396,  458,  576,  927,  382])\n",
    "        \n",
    "# array([   0,    0,  513,  473,   33,  630,    0,  130,    0,  631,    0,\n",
    "#         150,  349,    0,    0,    0,    0,  308,  952,    0,    0, 1436,\n",
    "#         898,  342,  223,    0,    0, 1261,  684,  916,    0,    0,    0,\n",
    "#         137,  293,    0,    0,    0,  687,  394,    0,    0,  225,    0,\n",
    "#         495, 2123,  316,  111,  396,    0,    0,    0,    0,  458,    0,\n",
    "#         576,    0,  927,  382], dtype=int64)\n",
    "\n",
    "# active_epoch_placefields.spk_pos"
   ]
  },
  {
   "cell_type": "code",
   "execution_count": 44,
   "id": "05da864d-df24-4c79-a2ad-b33f54c351fb",
   "metadata": {},
   "outputs": [
    {
     "data": {
      "text/html": [
       "<div>\n",
       "<style scoped>\n",
       "    .dataframe tbody tr th:only-of-type {\n",
       "        vertical-align: middle;\n",
       "    }\n",
       "\n",
       "    .dataframe tbody tr th {\n",
       "        vertical-align: top;\n",
       "    }\n",
       "\n",
       "    .dataframe thead th {\n",
       "        text-align: right;\n",
       "    }\n",
       "</style>\n",
       "<table border=\"1\" class=\"dataframe\">\n",
       "  <thead>\n",
       "    <tr style=\"text-align: right;\">\n",
       "      <th></th>\n",
       "      <th>t</th>\n",
       "      <th>t_seconds</th>\n",
       "      <th>t_rel_seconds</th>\n",
       "      <th>shank</th>\n",
       "      <th>cluster</th>\n",
       "      <th>aclu</th>\n",
       "      <th>qclu</th>\n",
       "      <th>x</th>\n",
       "      <th>y</th>\n",
       "      <th>speed</th>\n",
       "      <th>traj</th>\n",
       "      <th>lap</th>\n",
       "      <th>maze_relative_lap</th>\n",
       "      <th>maze_id</th>\n",
       "      <th>cell_type</th>\n",
       "      <th>flat_spike_idx</th>\n",
       "      <th>x_loaded</th>\n",
       "      <th>y_loaded</th>\n",
       "      <th>linear_pos</th>\n",
       "      <th>unit_id</th>\n",
       "    </tr>\n",
       "  </thead>\n",
       "  <tbody>\n",
       "    <tr>\n",
       "      <th>15867</th>\n",
       "      <td>962712.0</td>\n",
       "      <td>506947.210546</td>\n",
       "      <td>29.574497</td>\n",
       "      <td>7</td>\n",
       "      <td>10</td>\n",
       "      <td>45</td>\n",
       "      <td>4</td>\n",
       "      <td>233.433014</td>\n",
       "      <td>144.611866</td>\n",
       "      <td>8.450739</td>\n",
       "      <td>7</td>\n",
       "      <td>1</td>\n",
       "      <td>1</td>\n",
       "      <td>1</td>\n",
       "      <td>NeuronType.PYRAMIDAL</td>\n",
       "      <td>15867</td>\n",
       "      <td>0.826601</td>\n",
       "      <td>0.502357</td>\n",
       "      <td>-50.814215</td>\n",
       "      <td>43</td>\n",
       "    </tr>\n",
       "    <tr>\n",
       "      <th>15911</th>\n",
       "      <td>965053.0</td>\n",
       "      <td>506947.282462</td>\n",
       "      <td>29.646413</td>\n",
       "      <td>7</td>\n",
       "      <td>7</td>\n",
       "      <td>42</td>\n",
       "      <td>4</td>\n",
       "      <td>232.674691</td>\n",
       "      <td>144.014779</td>\n",
       "      <td>16.963930</td>\n",
       "      <td>4</td>\n",
       "      <td>1</td>\n",
       "      <td>1</td>\n",
       "      <td>1</td>\n",
       "      <td>NeuronType.PYRAMIDAL</td>\n",
       "      <td>15911</td>\n",
       "      <td>0.820252</td>\n",
       "      <td>0.500481</td>\n",
       "      <td>-49.838146</td>\n",
       "      <td>40</td>\n",
       "    </tr>\n",
       "    <tr>\n",
       "      <th>15952</th>\n",
       "      <td>967194.0</td>\n",
       "      <td>506947.348233</td>\n",
       "      <td>29.712184</td>\n",
       "      <td>2</td>\n",
       "      <td>20</td>\n",
       "      <td>21</td>\n",
       "      <td>4</td>\n",
       "      <td>230.939333</td>\n",
       "      <td>143.285457</td>\n",
       "      <td>31.656273</td>\n",
       "      <td>4</td>\n",
       "      <td>1</td>\n",
       "      <td>1</td>\n",
       "      <td>1</td>\n",
       "      <td>NeuronType.PYRAMIDAL</td>\n",
       "      <td>15952</td>\n",
       "      <td>0.812468</td>\n",
       "      <td>0.495902</td>\n",
       "      <td>-48.403477</td>\n",
       "      <td>19</td>\n",
       "    </tr>\n",
       "    <tr>\n",
       "      <th>15963</th>\n",
       "      <td>967827.0</td>\n",
       "      <td>506947.367679</td>\n",
       "      <td>29.731630</td>\n",
       "      <td>2</td>\n",
       "      <td>20</td>\n",
       "      <td>21</td>\n",
       "      <td>4</td>\n",
       "      <td>230.330199</td>\n",
       "      <td>143.055471</td>\n",
       "      <td>32.827359</td>\n",
       "      <td>4</td>\n",
       "      <td>1</td>\n",
       "      <td>1</td>\n",
       "      <td>1</td>\n",
       "      <td>NeuronType.PYRAMIDAL</td>\n",
       "      <td>15963</td>\n",
       "      <td>0.810061</td>\n",
       "      <td>0.494359</td>\n",
       "      <td>-47.920400</td>\n",
       "      <td>19</td>\n",
       "    </tr>\n",
       "    <tr>\n",
       "      <th>15984</th>\n",
       "      <td>968681.0</td>\n",
       "      <td>506947.393914</td>\n",
       "      <td>29.757865</td>\n",
       "      <td>2</td>\n",
       "      <td>20</td>\n",
       "      <td>21</td>\n",
       "      <td>4</td>\n",
       "      <td>229.530311</td>\n",
       "      <td>142.763385</td>\n",
       "      <td>32.679340</td>\n",
       "      <td>4</td>\n",
       "      <td>1</td>\n",
       "      <td>1</td>\n",
       "      <td>1</td>\n",
       "      <td>NeuronType.PYRAMIDAL</td>\n",
       "      <td>15984</td>\n",
       "      <td>0.807196</td>\n",
       "      <td>0.492691</td>\n",
       "      <td>-47.280543</td>\n",
       "      <td>19</td>\n",
       "    </tr>\n",
       "    <tr>\n",
       "      <th>...</th>\n",
       "      <td>...</td>\n",
       "      <td>...</td>\n",
       "      <td>...</td>\n",
       "      <td>...</td>\n",
       "      <td>...</td>\n",
       "      <td>...</td>\n",
       "      <td>...</td>\n",
       "      <td>...</td>\n",
       "      <td>...</td>\n",
       "      <td>...</td>\n",
       "      <td>...</td>\n",
       "      <td>...</td>\n",
       "      <td>...</td>\n",
       "      <td>...</td>\n",
       "      <td>...</td>\n",
       "      <td>...</td>\n",
       "      <td>...</td>\n",
       "      <td>...</td>\n",
       "      <td>...</td>\n",
       "      <td>...</td>\n",
       "    </tr>\n",
       "    <tr>\n",
       "      <th>810038</th>\n",
       "      <td>55066548.0</td>\n",
       "      <td>508609.279537</td>\n",
       "      <td>1691.643488</td>\n",
       "      <td>2</td>\n",
       "      <td>5</td>\n",
       "      <td>14</td>\n",
       "      <td>4</td>\n",
       "      <td>42.071771</td>\n",
       "      <td>139.257908</td>\n",
       "      <td>8.760465</td>\n",
       "      <td>4</td>\n",
       "      <td>41</td>\n",
       "      <td>41</td>\n",
       "      <td>1</td>\n",
       "      <td>NeuronType.PYRAMIDAL</td>\n",
       "      <td>810038</td>\n",
       "      <td>0.178959</td>\n",
       "      <td>0.477876</td>\n",
       "      <td>140.351508</td>\n",
       "      <td>12</td>\n",
       "    </tr>\n",
       "    <tr>\n",
       "      <th>810039</th>\n",
       "      <td>55066583.0</td>\n",
       "      <td>508609.280613</td>\n",
       "      <td>1691.644564</td>\n",
       "      <td>2</td>\n",
       "      <td>21</td>\n",
       "      <td>22</td>\n",
       "      <td>2</td>\n",
       "      <td>42.062645</td>\n",
       "      <td>139.255590</td>\n",
       "      <td>8.759254</td>\n",
       "      <td>4</td>\n",
       "      <td>41</td>\n",
       "      <td>41</td>\n",
       "      <td>1</td>\n",
       "      <td>NeuronType.PYRAMIDAL</td>\n",
       "      <td>810039</td>\n",
       "      <td>0.178937</td>\n",
       "      <td>0.477885</td>\n",
       "      <td>140.360430</td>\n",
       "      <td>20</td>\n",
       "    </tr>\n",
       "    <tr>\n",
       "      <th>810040</th>\n",
       "      <td>55066584.0</td>\n",
       "      <td>508609.280643</td>\n",
       "      <td>1691.644594</td>\n",
       "      <td>1</td>\n",
       "      <td>8</td>\n",
       "      <td>5</td>\n",
       "      <td>2</td>\n",
       "      <td>42.062384</td>\n",
       "      <td>139.255524</td>\n",
       "      <td>8.759220</td>\n",
       "      <td>4</td>\n",
       "      <td>41</td>\n",
       "      <td>41</td>\n",
       "      <td>1</td>\n",
       "      <td>NeuronType.PYRAMIDAL</td>\n",
       "      <td>810040</td>\n",
       "      <td>0.178936</td>\n",
       "      <td>0.477885</td>\n",
       "      <td>140.360685</td>\n",
       "      <td>3</td>\n",
       "    </tr>\n",
       "    <tr>\n",
       "      <th>810045</th>\n",
       "      <td>55067142.0</td>\n",
       "      <td>508609.297785</td>\n",
       "      <td>1691.661736</td>\n",
       "      <td>1</td>\n",
       "      <td>8</td>\n",
       "      <td>5</td>\n",
       "      <td>2</td>\n",
       "      <td>41.916707</td>\n",
       "      <td>139.218517</td>\n",
       "      <td>8.763511</td>\n",
       "      <td>4</td>\n",
       "      <td>41</td>\n",
       "      <td>41</td>\n",
       "      <td>1</td>\n",
       "      <td>NeuronType.PYRAMIDAL</td>\n",
       "      <td>810045</td>\n",
       "      <td>0.178654</td>\n",
       "      <td>0.478056</td>\n",
       "      <td>140.498283</td>\n",
       "      <td>3</td>\n",
       "    </tr>\n",
       "    <tr>\n",
       "      <th>810053</th>\n",
       "      <td>55067344.0</td>\n",
       "      <td>508609.303991</td>\n",
       "      <td>1691.667942</td>\n",
       "      <td>1</td>\n",
       "      <td>21</td>\n",
       "      <td>11</td>\n",
       "      <td>2</td>\n",
       "      <td>41.863968</td>\n",
       "      <td>139.205119</td>\n",
       "      <td>8.765479</td>\n",
       "      <td>4</td>\n",
       "      <td>41</td>\n",
       "      <td>41</td>\n",
       "      <td>1</td>\n",
       "      <td>NeuronType.PYRAMIDAL</td>\n",
       "      <td>810053</td>\n",
       "      <td>0.178563</td>\n",
       "      <td>0.478121</td>\n",
       "      <td>140.548013</td>\n",
       "      <td>9</td>\n",
       "    </tr>\n",
       "  </tbody>\n",
       "</table>\n",
       "<p>10178 rows × 20 columns</p>\n",
       "</div>"
      ],
      "text/plain": [
       "                 t      t_seconds  t_rel_seconds  shank  cluster  aclu  qclu  \\\n",
       "15867     962712.0  506947.210546      29.574497      7       10    45     4   \n",
       "15911     965053.0  506947.282462      29.646413      7        7    42     4   \n",
       "15952     967194.0  506947.348233      29.712184      2       20    21     4   \n",
       "15963     967827.0  506947.367679      29.731630      2       20    21     4   \n",
       "15984     968681.0  506947.393914      29.757865      2       20    21     4   \n",
       "...            ...            ...            ...    ...      ...   ...   ...   \n",
       "810038  55066548.0  508609.279537    1691.643488      2        5    14     4   \n",
       "810039  55066583.0  508609.280613    1691.644564      2       21    22     2   \n",
       "810040  55066584.0  508609.280643    1691.644594      1        8     5     2   \n",
       "810045  55067142.0  508609.297785    1691.661736      1        8     5     2   \n",
       "810053  55067344.0  508609.303991    1691.667942      1       21    11     2   \n",
       "\n",
       "                 x           y      speed  traj  lap  maze_relative_lap  \\\n",
       "15867   233.433014  144.611866   8.450739     7    1                  1   \n",
       "15911   232.674691  144.014779  16.963930     4    1                  1   \n",
       "15952   230.939333  143.285457  31.656273     4    1                  1   \n",
       "15963   230.330199  143.055471  32.827359     4    1                  1   \n",
       "15984   229.530311  142.763385  32.679340     4    1                  1   \n",
       "...            ...         ...        ...   ...  ...                ...   \n",
       "810038   42.071771  139.257908   8.760465     4   41                 41   \n",
       "810039   42.062645  139.255590   8.759254     4   41                 41   \n",
       "810040   42.062384  139.255524   8.759220     4   41                 41   \n",
       "810045   41.916707  139.218517   8.763511     4   41                 41   \n",
       "810053   41.863968  139.205119   8.765479     4   41                 41   \n",
       "\n",
       "        maze_id             cell_type  flat_spike_idx  x_loaded  y_loaded  \\\n",
       "15867         1  NeuronType.PYRAMIDAL           15867  0.826601  0.502357   \n",
       "15911         1  NeuronType.PYRAMIDAL           15911  0.820252  0.500481   \n",
       "15952         1  NeuronType.PYRAMIDAL           15952  0.812468  0.495902   \n",
       "15963         1  NeuronType.PYRAMIDAL           15963  0.810061  0.494359   \n",
       "15984         1  NeuronType.PYRAMIDAL           15984  0.807196  0.492691   \n",
       "...         ...                   ...             ...       ...       ...   \n",
       "810038        1  NeuronType.PYRAMIDAL          810038  0.178959  0.477876   \n",
       "810039        1  NeuronType.PYRAMIDAL          810039  0.178937  0.477885   \n",
       "810040        1  NeuronType.PYRAMIDAL          810040  0.178936  0.477885   \n",
       "810045        1  NeuronType.PYRAMIDAL          810045  0.178654  0.478056   \n",
       "810053        1  NeuronType.PYRAMIDAL          810053  0.178563  0.478121   \n",
       "\n",
       "        linear_pos  unit_id  \n",
       "15867   -50.814215       43  \n",
       "15911   -49.838146       40  \n",
       "15952   -48.403477       19  \n",
       "15963   -47.920400       19  \n",
       "15984   -47.280543       19  \n",
       "...            ...      ...  \n",
       "810038  140.351508       12  \n",
       "810039  140.360430       20  \n",
       "810040  140.360685        3  \n",
       "810045  140.498283        3  \n",
       "810053  140.548013        9  \n",
       "\n",
       "[10178 rows x 20 columns]"
      ]
     },
     "execution_count": 44,
     "metadata": {},
     "output_type": "execute_result"
    }
   ],
   "source": [
    "active_lap_specific_epoch_session.spikes_df[['x','y']].to_numpy().T"
   ]
  },
  {
   "cell_type": "markdown",
   "id": "d4bca1e4-77d4-4a42-9883-57f0ff6431d4",
   "metadata": {
    "jp-MarkdownHeadingCollapsed": true,
    "tags": []
   },
   "source": [
    "## Main Spike/Placemap plotting:"
   ]
  },
  {
   "cell_type": "markdown",
   "id": "3ad08080-abb6-4373-b426-520cb0ac95f3",
   "metadata": {
    "tags": []
   },
   "source": [
    "# 3D Plots"
   ]
  },
  {
   "cell_type": "markdown",
   "id": "8dd9ebb1-1e31-44e1-8600-339b06db84a0",
   "metadata": {
    "tags": []
   },
   "source": [
    "## Tuning Curves 3D Plot:"
   ]
  },
  {
   "cell_type": "code",
   "execution_count": 53,
   "id": "dc59a148-4799-48e5-ba8a-69516a44ec4c",
   "metadata": {
    "scrolled": true,
    "tags": []
   },
   "outputs": [
    {
     "name": "stdout",
     "output_type": "stream",
     "text": [
      "Applying custom Pyvista theme.\n",
      "done.\n",
      "No open BackgroundPlotter\n",
      "Creating a new BackgroundPlotter\n"
     ]
    },
    {
     "name": "stderr",
     "output_type": "stream",
     "text": [
      "C:\\Users\\Pho\\repos\\NeuroPy\\neuropy\\utils\\mathutil.py:23: RuntimeWarning: invalid value encountered in true_divide\n",
      "  return (x - np.min(x, axis=axis, keepdims=True)) / np.ptp(\n"
     ]
    },
    {
     "name": "stdout",
     "output_type": "stream",
     "text": [
      "num_curr_tuning_curves: 40\n",
      "\t num_cells_included: 39\n",
      "\t num_cells_included: 39\n",
      "\t num_cells_included: 39\n",
      "\t num_cells_included: 39\n",
      "\t num_cells_included: 1\n",
      "\t num_cells_included: 39\n",
      "\t num_cells_included: 39\n",
      "\t num_cells_included: 39\n",
      "\t num_cells_included: 39\n",
      "\t num_cells_included: 39\n",
      "\t num_cells_included: 39\n",
      "\t num_cells_included: 39\n",
      "\t num_cells_included: 39\n",
      "\t num_cells_included: 39\n",
      "\t num_cells_included: 39\n",
      "\t num_cells_included: 39\n",
      "\t num_cells_included: 39\n",
      "\t num_cells_included: 39\n",
      "\t num_cells_included: 39\n",
      "\t num_cells_included: 39\n",
      "\t num_cells_included: 39\n",
      "\t num_cells_included: 39\n",
      "\t num_cells_included: 39\n",
      "\t num_cells_included: 39\n",
      "\t num_cells_included: 39\n",
      "\t num_cells_included: 39\n",
      "\t num_cells_included: 39\n",
      "\t num_cells_included: 39\n",
      "\t num_cells_included: 39\n",
      "\t num_cells_included: 39\n",
      "\t num_cells_included: 39\n",
      "\t num_cells_included: 39\n",
      "\t num_cells_included: 39\n",
      "\t num_cells_included: 39\n",
      "\t num_cells_included: 39\n",
      "\t num_cells_included: 39\n",
      "\t num_cells_included: 39\n",
      "\t num_cells_included: 39\n",
      "\t num_cells_included: 39\n",
      "\t num_cells_included: 39\n"
     ]
    }
   ],
   "source": [
    "from PhoGui.InteractivePlotter.InteractivePlaceCellTuningCurvesDataExplorer import InteractivePlaceCellTuningCurvesDataExplorer\n",
    "try: pActiveTuningCurvesPlotter\n",
    "except NameError: pActiveTuningCurvesPlotter = None # Checks variable p's existance, and sets its value to None if it doesn't exist so it can be checked in the next step\n",
    "ipcDataExplorer = InteractivePlaceCellTuningCurvesDataExplorer(active_config, active_epoch_session, active_epoch_placefields, active_config.plotting_config.pf_colors, extant_plotter=pActiveTuningCurvesPlotter)\n",
    "pActiveTuningCurvesPlotter = ipcDataExplorer.plot(pActiveTuningCurvesPlotter) # [2, 17449]"
   ]
  },
  {
   "cell_type": "code",
   "execution_count": 55,
   "id": "b39be6c1-6f53-426a-9642-852ce4f03f3b",
   "metadata": {},
   "outputs": [
    {
     "ename": "AttributeError",
     "evalue": "'vtkmodules.vtkRenderingOpenGL2.vtkOpenGLActor' object has no attribute 'ray_trace'",
     "output_type": "error",
     "traceback": [
      "\u001b[1;31m---------------------------------------------------------------------------\u001b[0m",
      "\u001b[1;31mAttributeError\u001b[0m                            Traceback (most recent call last)",
      "\u001b[1;32m~\\AppData\\Local\\Temp/ipykernel_17272/2874283804.py\u001b[0m in \u001b[0;36m<module>\u001b[1;34m\u001b[0m\n\u001b[0;32m     29\u001b[0m \u001b[1;31m# Perform ray trace\u001b[0m\u001b[1;33m\u001b[0m\u001b[1;33m\u001b[0m\u001b[0m\n\u001b[0;32m     30\u001b[0m \u001b[1;31m# points, ind = sphere.ray_trace(start, stop)\u001b[0m\u001b[1;33m\u001b[0m\u001b[1;33m\u001b[0m\u001b[0m\n\u001b[1;32m---> 31\u001b[1;33m \u001b[0mpoints\u001b[0m\u001b[1;33m,\u001b[0m \u001b[0mind\u001b[0m \u001b[1;33m=\u001b[0m \u001b[0mcurr_tuning_curve_mesh\u001b[0m\u001b[1;33m.\u001b[0m\u001b[0mray_trace\u001b[0m\u001b[1;33m(\u001b[0m\u001b[0mstart\u001b[0m\u001b[1;33m,\u001b[0m \u001b[0mstop\u001b[0m\u001b[1;33m)\u001b[0m\u001b[1;33m\u001b[0m\u001b[1;33m\u001b[0m\u001b[0m\n\u001b[0m\u001b[0;32m     32\u001b[0m \u001b[0mpActiveTuningCurvesPlotter\u001b[0m\u001b[1;33m.\u001b[0m\u001b[0madd_mesh\u001b[0m\u001b[1;33m(\u001b[0m\u001b[0mray\u001b[0m\u001b[1;33m,\u001b[0m \u001b[0mcolor\u001b[0m\u001b[1;33m=\u001b[0m\u001b[1;34m\"blue\"\u001b[0m\u001b[1;33m,\u001b[0m \u001b[0mline_width\u001b[0m\u001b[1;33m=\u001b[0m\u001b[1;36m5\u001b[0m\u001b[1;33m,\u001b[0m \u001b[0mname\u001b[0m\u001b[1;33m=\u001b[0m\u001b[1;34m'test_ray'\u001b[0m\u001b[1;33m,\u001b[0m \u001b[0mlabel\u001b[0m\u001b[1;33m=\u001b[0m\u001b[1;34m\"Ray Segment\"\u001b[0m\u001b[1;33m)\u001b[0m\u001b[1;33m\u001b[0m\u001b[1;33m\u001b[0m\u001b[0m\n\u001b[0;32m     33\u001b[0m pActiveTuningCurvesPlotter.add_mesh(intersection, color=\"maroon\",\n",
      "\u001b[1;31mAttributeError\u001b[0m: 'vtkmodules.vtkRenderingOpenGL2.vtkOpenGLActor' object has no attribute 'ray_trace'"
     ]
    }
   ],
   "source": [
    "## Getting the proper z-position for the tuning curve:\n",
    "# Create source to ray trace\n",
    "sphere = pv.Sphere(radius=0.85)\n",
    "\n",
    "# Define a list of origin points and a list of direction vectors for each ray\n",
    "# vectors = [ [cos(radians(x)), sin(radians(x)), 0] for x in range(0, 360, 5)]\n",
    "\n",
    "# origins = [[0, 0, 0]] * len(active_lap_specific_epoch_session.spikes_df['x'])\n",
    "# origins = np.hstack(active_lap_specific_epoch_session.spikes_df[['x','y']].to_numpy().T, np.full_like(active_lap_specific_epoch_session.spikes_df['x'].to_numpy(), 0.0))\n",
    "# origins[0,:]\n",
    "# spike_series_identities = active_flattened_spike_identities # currently unused\n",
    "\n",
    "vectors = [[0, 0, 10.0]] * len(active_lap_specific_epoch_session.spikes_df['x']) # just up in the z-direction\n",
    "spike_series_positions = active_lap_specific_epoch_session.spikes_df[['x','y']].to_numpy().T    \n",
    "z_fixed = np.full_like(spike_series_positions[0,:], 1.1) # Offset a little bit in the z-direction so we can see it\n",
    "origins = np.vstack((spike_series_positions[0,:], spike_series_positions[1,:], z_fixed)).T\n",
    "# origins\n",
    "\n",
    "# Perform ray trace\n",
    "# Define line segment\n",
    "# start = [0, 0, 0]\n",
    "# stop = [0.25, 1, 0.5]\n",
    "\n",
    "curr_idx = 0\n",
    "curr_tuning_curve_mesh = ipcDataExplorer.plots['tuningCurvePlotActors'][curr_idx]\n",
    "start = origins[curr_idx]\n",
    "stop = start + vectors[curr_idx]\n",
    "\n",
    "# Perform ray trace\n",
    "# points, ind = sphere.ray_trace(start, stop)\n",
    "points, ind = curr_tuning_curve_mesh.ray_trace(start, stop)\n",
    "pActiveTuningCurvesPlotter.add_mesh(ray, color=\"blue\", line_width=5, name='test_ray', label=\"Ray Segment\")\n",
    "pActiveTuningCurvesPlotter.add_mesh(intersection, color=\"maroon\",\n",
    "           point_size=25, label=\"Intersection Points\", name='test_ray_intersection')\n",
    "# points, ind_ray, ind_tri = sphere.multi_ray_trace(origins, vectors)"
   ]
  },
  {
   "cell_type": "markdown",
   "id": "57076118-8e5f-496e-b06f-d1be2491d590",
   "metadata": {
    "pycharm": {
     "name": "#%%\n"
    },
    "tags": []
   },
   "source": [
    "## Interactive 3D Spike and Behavior Browser: "
   ]
  },
  {
   "cell_type": "code",
   "execution_count": null,
   "id": "14318f45-b618-43a5-9f77-201cfac02b9d",
   "metadata": {
    "pycharm": {
     "name": "#%%\n"
    },
    "tags": []
   },
   "outputs": [],
   "source": [
    "import PhoGui\n",
    "from PhoGui.InteractivePlotter.PhoInteractivePlotter import PhoInteractivePlotter\n",
    "from PhoGui.InteractivePlotter.shared_helpers import InteractivePyvistaPlotterBuildIfNeededMixin\n",
    "from PhoGui.InteractivePlotter.InteractivePlaceCellDataExplorer import InteractivePlaceCellDataExplorer\n",
    "\n",
    "active_config.plotting_config.show_legend = True\n",
    "\n",
    "try: pActiveInteractivePlaceSpikesPlotter\n",
    "except NameError: pActiveInteractivePlaceSpikesPlotter = None # Checks variable p's existance, and sets its value to None if it doesn't exist so it can be checked in the next step\n",
    "ipspikesDataExplorer = InteractivePlaceCellDataExplorer(active_config, active_epoch_session, extant_plotter=pActiveInteractivePlaceSpikesPlotter)\n",
    "pActiveInteractivePlaceSpikesPlotter = ipspikesDataExplorer.plot(pActivePlotter=pActiveInteractivePlaceSpikesPlotter)"
   ]
  },
  {
   "cell_type": "markdown",
   "id": "44166cc3-20d5-4c7e-a2c0-1b205c874174",
   "metadata": {
    "jp-MarkdownHeadingCollapsed": true,
    "tags": []
   },
   "source": [
    "## Debugging Index Issues:"
   ]
  },
  {
   "cell_type": "code",
   "execution_count": null,
   "id": "646febe2-b13c-4657-846c-779aa7c05fff",
   "metadata": {
    "scrolled": true,
    "tags": []
   },
   "outputs": [],
   "source": [
    "# def plot_placefields2D(pTuningCurves, active_placefields, pf_colors: np.ndarray, zScalingFactor=10.0, show_legend=False):\n",
    "\n",
    "#     # .threshold().elevation()\n",
    "\n",
    "#     curr_tuning_curves = active_placefields.ratemap.normalized_tuning_curves\n",
    "#     # curr_tuning_curves[curr_tuning_curves < 0.1] = np.nan\n",
    "#     curr_tuning_curves = curr_tuning_curves * zScalingFactor\n",
    "\n",
    "#     num_curr_tuning_curves = len(curr_tuning_curves)\n",
    "#     # Get the cell IDs that have a good place field mapping:\n",
    "#     good_placefield_neuronIDs = np.array(active_placefields.ratemap.neuron_ids) # in order of ascending ID\n",
    "#     tuningCurvePlot_x, tuningCurvePlot_y = np.meshgrid(active_placefields.ratemap.xbin_centers, active_placefields.ratemap.ybin_centers)\n",
    "\n",
    "#     pdata_currActiveNeuronTuningCurve = pv.StructuredGrid(tuningCurvePlot_x, tuningCurvePlot_y, curr_active_neuron_tuning_Curve)\n",
    "#     pdata_currActiveNeuronTuningCurve[\"Elevation\"] = curr_active_neuron_tuning_Curve.ravel(order=\"F\")\n",
    "        \n",
    "#     return pTuningCurves\n",
    "\n",
    "# plot_placefields2D(pTuningCurves, active_epoch_placefields\n",
    "\n",
    "# ipcDataExplorer.plots['spikes_pf_active']['cellID']\n",
    "\n",
    "# only_active_colormap = ipcDataExplorer.active_config.plotting_config.active_cells_listed_colormap.copy()\n",
    "# only_active_colormap\n",
    "test_full_pc_data = ipcDataExplorer.plots_data['spikes_pf_active']['historical_spikes_pc']\n",
    "\n",
    "# test_subset = test_full_pc_data.GetCellGhostArray()\n",
    "# test_subset = test_full_pc_data.GetCellData() # vtkmodules.vtkCommonDataModel.vtkCellData\n",
    "# test_subset = test_full_pc_data[test_full_pc_data['cellID'] == 55] # vtkmodules.vtkCommonDataModel.vtkCellData\n",
    "\n",
    "# test_subset = test_full_pc_data.GetGhostArray() # [test_full_pc_data['cellID'] == 55] # vtkmodules.vtkCommonDataModel.vtkCellData\n",
    "\n",
    "\n",
    "unique_ids = np.unique(test_full_pc_data['cellID']) # array([ 0,  1,  2,  3,  5,  7,  9, 10, 15, 16, 19, 20, 21, 22, 25, 26, 27, 31, 32, 36, 37, 40, 42, 43, 44, 45, 46, 51, 53, 55, 56])\n",
    "# count_arr = np.bincount(test_full_pc_data['cellID'])\n",
    "count_arr\n",
    "# array([ 3591,  3311,   231,  4410,     0,   910,     0,  4417,     0,\n",
    "#         1050,  2443,     0,     0,     0,     0,  2156,  6664,     0,\n",
    "#            0, 10052,  6286,  2394,  1561,     0,     0,  8827,  4788,\n",
    "#         6412,     0,     0,     0,   959,  2051,     0,     0,     0,\n",
    "#         4809,  2758,     0,     0,  1575,     0,  3465, 14861,  2212,\n",
    "#          777,  2772,     0,     0,     0,     0,  3206,     0,  4032,\n",
    "#            0,  6489,  2674], dtype=int64)\n",
    "\n",
    "# good_placefield_neuronIDs: [  5   8  10  13  14  16  19  21  23  25  28  31  32  33  36  37  41  49\n",
    "#   52  53  54  55  57  59  60  61  62  63  64  66  68  69  74  75  76  78\n",
    "#   83  86  88  89  90  92  96  98 105 108]; (46 good)\n",
    "\n",
    "# 1, 4, 6, 7, 8, 11, 18, 19, 21 ## CONCLUSION: the ones that work are indeed the non-zero entries, but the checkboxes work in reverse order to this array that's printed. Meaning you start at the end and work back.\n",
    "# len(count_arr) # 107\n",
    "print(unique_ids) # [  3   6   8  11  12  14  17  19  21  23  26  29  30  31  34  35  39  47\n",
    "  # 50  51  52  53  55  57  58  59  60  61  62  64  66  67  72  73  74  76\n",
    "  # 81  84  86  87  88  90  94  96 103 106]\n",
    "\n",
    "\n",
    "# uniques, indicies, inverse_indicies, count_arr = np.unique(active_epoch_session.spikes_df['aclu'].values, return_index=True, return_inverse=True, return_counts=True)\n",
    "# # count_arr = np.bincount(active_epoch_session.spikes_df['aclu'].values)\n",
    "# print('active_epoch_session.spikes_df unique aclu values: {}'.format(uniques))\n",
    "# print('active_epoch_session.spikes_df unique aclu value counts: {}'.format(count_arr))\n",
    "# print(len(uniques)) # 46 \n",
    "# uniques, indicies, inverse_indicies, count_arr = np.unique(active_epoch_session.spikes_df['unit_id'].values, return_index=True, return_inverse=True, return_counts=True)\n",
    "# # count_arr = np.bincount(active_epoch_session.spikes_df['unit_id'].values)\n",
    "# print('active_epoch_session.spikes_df unique unit_id values: {}'.format(uniques))\n",
    "# print('active_epoch_session.spikes_df unique unit_id value counts: {}'.format(count_arr))\n",
    "# print(len(uniques)) # 46 "
   ]
  },
  {
   "cell_type": "code",
   "execution_count": null,
   "id": "53837d28-4831-4655-8db6-f6b104ab0e38",
   "metadata": {},
   "outputs": [],
   "source": [
    "# pActiveTuningCurvesPlotter.export_obj('export.obj')\n",
    "# pActiveTuningCurvesPlotter.export_gltf('export.gltf')\n",
    "\n",
    "ipcDataExplorer.update_placefield_spike_visibility([38], True) # seems to work"
   ]
  },
  {
   "cell_type": "code",
   "execution_count": null,
   "id": "b9b25f57-c2f7-424d-8ba2-95d15deb3522",
   "metadata": {},
   "outputs": [],
   "source": [
    "ipcDataExplorer.update_placefield_spike_visibility([53], True) # seems to work"
   ]
  },
  {
   "cell_type": "code",
   "execution_count": null,
   "id": "b4ac6e02-fee8-4c30-811f-4d29de766b01",
   "metadata": {},
   "outputs": [],
   "source": [
    "ipcDataExplorer.update_placefield_spike_visibility([44, 53], True) # seems to work\n",
    "\n",
    "# test_subset\n",
    "# test_subset"
   ]
  },
  {
   "cell_type": "code",
   "execution_count": null,
   "id": "4fc26f9e-d03b-42c0-90e0-dfe4dfd3b2de",
   "metadata": {},
   "outputs": [],
   "source": [
    "ipcDataExplorer.update_placefield_spike_visibility([53, 44], False) # seems to work"
   ]
  },
  {
   "cell_type": "code",
   "execution_count": null,
   "id": "5e1bdbd9-9d3a-4c55-8b22-417adb733cad",
   "metadata": {},
   "outputs": [],
   "source": [
    "ipcDataExplorer.gui['tuningCurveSpikeVisibilityCallbacks'][1](False)\n",
    "# ipcDataExplorer.get_cell_index([2, 3])"
   ]
  },
  {
   "cell_type": "code",
   "execution_count": null,
   "id": "9e00b059-3073-45fb-94df-3b0c7b818d07",
   "metadata": {},
   "outputs": [],
   "source": [
    "mesh = ipcDataExplorer.plots_data['spikes_pf_active']['historical_spikes_pc'].cast_to_unstructured_grid()\n",
    "# mesh.n_cells\n",
    "mesh_unique_ids = np.unique(mesh['cellID'])\n",
    "print('n_cells: {}'.format(mesh.n_cells)) # 122143\n",
    "print('cellIDs of mesh: {}'.format(mesh_unique_ids))\n",
    "# np.unique(mesh['cellID']) # array([ 0,  1,  2,  3,  5,  7,  9, 10, 15, 16, 19, 20, 21, 22, 25, 26, 27, 31, 32, 36, 37, 40, 42, 43, 44, 45, 46, 51, 53, 55, 56])\n",
    "# ipcDataExplorer.hide_placefield_spikes([0,1,2,3], should_invert=True)\n",
    "# ipcDataExplorer.hide_placefield_spikes([23,2,34], should_invert=True)\n",
    "\n",
    "# ipcDataExplorer.hide_placefield_spikes([34], should_invert=True)\n",
    "ipcDataExplorer.hide_placefield_spikes([38], should_invert=False)"
   ]
  },
  {
   "cell_type": "code",
   "execution_count": null,
   "id": "182a1565-0a1f-423a-900f-c97e9cbbbb15",
   "metadata": {},
   "outputs": [],
   "source": [
    "# the list of spike times that occured for this cell:\n",
    "i = 2\n",
    "active_epoch_session.neurons.neuron_ids[i]\n",
    "active_epoch_session.neurons.spiketrains[i]\n",
    "\n",
    "# spikes_df = FlattenedSpiketrains.build_spike_dataframe(sess)\n"
   ]
  },
  {
   "cell_type": "code",
   "execution_count": null,
   "id": "34b2bd34-f09b-4c72-b02c-3650eea21f6e",
   "metadata": {
    "pycharm": {
     "name": "#%%\n"
    },
    "tags": []
   },
   "outputs": [],
   "source": [
    "## Timestamp Fixing:\n",
    "def tt(position_timestamps, t_begin, SampleRate):\n",
    "    return ((position_timestamps - t_begin) / (1e6 * SampleRate))\n",
    "\n",
    "# sess.laps.lap_start_stop_flat_idx\n",
    "\n",
    "sess.recinfo.dat_sampling_rate\n"
   ]
  },
  {
   "cell_type": "markdown",
   "id": "239326ba-1294-4655-9f34-10f25316b656",
   "metadata": {
    "tags": []
   },
   "source": [
    "# Programmatically change the animal position trail:"
   ]
  },
  {
   "cell_type": "code",
   "execution_count": null,
   "id": "b63d6212-1270-4da7-b2bb-4c14c46615b4",
   "metadata": {},
   "outputs": [],
   "source": [
    "int_input = pn.widgets.IntInput(name='IntInput', value=5, step=1, start=0, end=20)\n",
    "curr_lap_id = int_input.value\n",
    "int_input\n"
   ]
  },
  {
   "cell_type": "code",
   "execution_count": null,
   "id": "b0e9a0b7-fcf2-442c-a36d-d72e89a73a9b",
   "metadata": {},
   "outputs": [],
   "source": [
    "def get_lap_position(curr_lap_id):\n",
    "    curr_position_df = sess.position.to_dataframe()\n",
    "    curr_lap_t_start, curr_lap_t_stop = get_lap_times(curr_lap_id)\n",
    "    print('lap[{}]: ({}, {}): '.format(curr_lap_id, curr_lap_t_start, curr_lap_t_stop))\n",
    "\n",
    "    curr_lap_position_df_is_included = curr_position_df['t'].between(curr_lap_t_start, curr_lap_t_stop, inclusive=True) # returns a boolean array indicating inclusion in teh current lap\n",
    "    curr_lap_position_df = curr_position_df[curr_lap_position_df_is_included] \n",
    "    # curr_position_df.query('-0.5 <= t < 0.5')\n",
    "    curr_lap_position_traces = curr_lap_position_df[['x','y']].to_numpy().T\n",
    "    print('\\t {} positions.'.format(np.shape(curr_lap_position_traces)))\n",
    "    # print('\\t {} spikes.'.format(curr_lap_num_spikes))\n",
    "    return curr_lap_position_traces\n",
    "\n",
    "# ipspikesDataExplorer.on_programmatic_data_update(active_included_all_historical_indicies=curr_lap_spike_indicies, active_included_recent_only_indicies=curr_lap_spike_indicies) # index 145937 is out of bounds for axis 0 with size 19647\n",
    "# ipspikesDataExplorer.on_programmatic_data_update(active_included_all_historical_indicies=curr_lap_spike_t_seconds, active_included_recent_only_indicies=curr_lap_spike_t_seconds) # \n",
    "# ipspikesDataExplorer.on_programmatic_data_update(active_included_all_historical_indicies=curr_lap_spike_t_seconds.values, active_included_recent_only_indicies=curr_lap_spike_t_seconds.values) # \n",
    "\n",
    "curr_lap_id = int_input.value\n",
    "\n",
    "# plot_lap_trajectory_path(ipspikesDataExplorer, curr_lap_position_traces)\n",
    "plot_lap_trajectory_path_spline(ipspikesDataExplorer, curr_lap_position_traces)\n",
    "# curr_lap_t_start\n",
    "## TODO: enable showing/hiding the spikes for this data range programmatically in InteractivePlaceCellDataExplorer. \n",
    "# ipspikesDataExplorer.\n",
    "# curr_lap_spike_t_seconds\n",
    "# curr_lap_spike_indicies\n",
    "# active_epoch_session.flattened_spiketrains.spikes_df.t_seconds.values[curr_lap_spike_indicies] # index 145937 is out of bounds for axis 0 with size 19647"
   ]
  },
  {
   "cell_type": "code",
   "execution_count": 100,
   "id": "c721731e-4a61-4656-adcf-da1386aee30d",
   "metadata": {},
   "outputs": [],
   "source": [
    "# From the laps and position dataframe, extract which lap every position belongs to:\n",
    "\n",
    "# curr_lap_position_df_is_included = curr_position_df['t'].between(laps_df['start'], laps_df['stop'], inclusive=True) # returns a boolean array indicating inclusion in teh current lap\n",
    "# curr_lap_position_df = curr_position_df[curr_lap_position_df_is_included] \n",
    "# curr_position_df['lap'] = np.NaN\n",
    "\n",
    "curr_position_df = sess.compute_position_laps()\n",
    "# curr_position_df.groupby('lap').groups[1] # returns the Int64Index\n",
    "curr_position_df.groupby('lap').get_group(2)[['t','x','y','lin_pos']]\n",
    "\n",
    "lap_specific_position_dfs = [curr_position_df.groupby('lap').get_group(i)[['t','x','y','lin_pos']] for i in sess.laps.lap_id]\n",
    "lap_specific_position_dfs\n",
    "curr_lap_position_traces = [lap_pos_df[['x','y']].to_numpy().T for lap_pos_df in lap_specific_position_dfs]\n",
    "curr_lap_position_traces\n",
    "curr_lap_time_range = [[lap_pos_df[['t']].to_numpy()[0].item(), lap_pos_df[['t']].to_numpy()[-1].item()] for lap_pos_df in lap_specific_position_dfs]\n",
    "curr_lap_time_range"
   ]
  },
  {
   "cell_type": "code",
   "execution_count": 36,
   "id": "17cf2c95-7b4d-4898-99d9-a42e88a2dea0",
   "metadata": {},
   "outputs": [],
   "source": [
    "from PhoPositionalData.plotting.spikeAndPositions import build_active_spikes_plot_data, perform_plot_flat_arena\n",
    "from PhoGui.InteractivePlotter.LapsVisualizationMixin import LapsVisualizationMixin\n",
    "from PhoGui.PhoCustomVtkWidgets import PhoWidgetHelper\n",
    "from itertools import islice # for Pagination class\n",
    "\n",
    "\n",
    "# class Pagination:\n",
    "#     def __init__(self, num_items: int, page_capacity: int):\n",
    "#         self.num_items = num_items\n",
    "#         self.num_items_per_page = page_capacity\n",
    "        \n",
    "#         self.num_pages = np.ceil(self.num_items / self.num_items_per_page)\n",
    "#         # generate the pages\n",
    "#         # [list(chunk) for chunk in chunks(zip(cities, states), 3)]\n",
    "#         # np.\n",
    "\n",
    "def plot_lap_trajectories_3d(sess, curr_num_subplots=5, active_page_index=0):\n",
    "    \"\"\" Plots a PyVista Qt Multiplotter with each lap being shown in one of its subplots \"\"\"\n",
    "    def _chunks(iterable, size=10):\n",
    "        iterator = iter(iterable)\n",
    "        for first in iterator:    # stops when iterator is depleted\n",
    "            def chunk():          # construct generator for next chunk\n",
    "                yield first       # yield element from for loop\n",
    "                for more in islice(iterator, size - 1):\n",
    "                    yield more    # yield more elements from the iterator\n",
    "            yield chunk()         # in outer generator, yield next chunk\n",
    "\n",
    "    def _compute_laps_position_data(sess):\n",
    "        curr_position_df = sess.compute_position_laps()\n",
    "        lap_specific_position_dfs = [curr_position_df.groupby('lap').get_group(i)[['t','x','y','lin_pos']] for i in sess.laps.lap_id] # dataframes split for each ID:\n",
    "        return curr_position_df, lap_specific_position_dfs\n",
    "        \n",
    "    def _build_laps_multiplotter(nfields, linear_plot_data=None):\n",
    "        linear_plotter_indicies = np.arange(nfields)\n",
    "        fixed_columns = 5\n",
    "        needed_rows = int(np.ceil(nfields / fixed_columns))\n",
    "        row_column_indicies = np.unravel_index(linear_plotter_indicies, (needed_rows, fixed_columns)) # inverse is: np.ravel_multi_index(row_column_indicies, (needed_rows, fixed_columns))\n",
    "        mp = pvqt.MultiPlotter(nrows=needed_rows, ncols=fixed_columns, show=False, title='Laps Muliplotter', toolbar=False, menu_bar=False, editor=False)\n",
    "        # print('linear_plotter_indicies: {}\\n row_column_indicies: {}\\n'.format(linear_plotter_indicies, row_column_indicies))\n",
    "        for a_linear_index in linear_plotter_indicies:\n",
    "            # print('a_linear_index: {}, row_column_indicies[0][a_linear_index]: {}, row_column_indicies[1][a_linear_index]: {}'.format(a_linear_index, row_column_indicies[0][a_linear_index], row_column_indicies[1][a_linear_index]))\n",
    "            curr_row = row_column_indicies[0][a_linear_index]\n",
    "            curr_col = row_column_indicies[1][a_linear_index]\n",
    "            if linear_plot_data is None:\n",
    "                mp[curr_row, curr_col].add_mesh(pv.Sphere())\n",
    "            else:\n",
    "                mp[curr_row, curr_col].add_mesh(linear_plot_data[a_linear_index], name='maze_bg', color=\"black\", render=False)\n",
    "        return mp, linear_plotter_indicies, row_column_indicies\n",
    "\n",
    "    # Plot the flat arena\n",
    "    # flat_maze_bg_plot = perform_plot_flat_arena(self.p, self.x, self.y, bShowSequenceTraversalGradient=False)\n",
    "    def __build_flat_map_plot_data(x, y):\n",
    "        # Builds the flat base maze map that the other data will be plot on top of\n",
    "        z = np.zeros_like(x)\n",
    "        point_cloud = np.vstack((x, y, z)).T\n",
    "        pdata = pv.PolyData(point_cloud)\n",
    "        pdata['occupancy heatmap'] = np.arange(np.shape(point_cloud)[0])\n",
    "        geo = pv.Circle(radius=0.5)\n",
    "        pc = pdata.glyph(scale=False, geom=geo)\n",
    "        return pdata, pc\n",
    "    \n",
    "    def _add_specific_lap_trajectory(p, linear_plotter_indicies, row_column_indicies, active_page_laps_ids, curr_lap_position_traces, curr_lap_time_range):\n",
    "        # Add the lap trajectory:\n",
    "        for a_linear_index in linear_plotter_indicies:\n",
    "            curr_lap_id = active_page_laps_ids[a_linear_index]\n",
    "            curr_row = row_column_indicies[0][a_linear_index]\n",
    "            curr_col = row_column_indicies[1][a_linear_index]\n",
    "            LapsVisualizationMixin.plot_lap_trajectory_path_spline(p[curr_row, curr_col], curr_lap_position_traces[curr_lap_id], a_linear_index)\n",
    "            curr_lap_label_text = 'Lap[{}]: t({:.2f}, {:.2f})'.format(curr_lap_id, curr_lap_time_range[curr_lap_id][0], curr_lap_time_range[curr_lap_id][1]) \n",
    "            PhoWidgetHelper.perform_add_text(p[curr_row, curr_col], curr_lap_label_text, name='lblLapIdIndicator')\n",
    "\n",
    "    # Compute required data from session:\n",
    "    curr_position_df, lap_specific_position_dfs = _compute_laps_position_data(sess)\n",
    "    curr_lap_position_traces = [lap_pos_df[['x','y']].to_numpy().T for lap_pos_df in lap_specific_position_dfs]\n",
    "    curr_lap_time_range = [[lap_pos_df[['t']].to_numpy()[0].item(), lap_pos_df[['t']].to_numpy()[-1].item()] for lap_pos_df in lap_specific_position_dfs]\n",
    "\n",
    "    all_maze_positions = curr_position_df[['x','y']].to_numpy().T # (2, 59308)\n",
    "    # np.shape(all_maze_positions)\n",
    "    pdata_maze_shared, pc_maze_shared = __build_flat_map_plot_data(all_maze_positions[0,:], all_maze_positions[1,:])\n",
    "    all_maze_data = np.full((curr_num_subplots,), pc_maze_shared) # repeat the maze data for each subplot\n",
    "    p, linear_plotter_indicies, row_column_indicies = _build_laps_multiplotter(curr_num_subplots, all_maze_data)\n",
    "    # generate the pages\n",
    "    # laps_pages = [list(chunk) for chunk in chunks(zip(sess.laps.lap_id, linear_plotter_indicies, row_column_indicies), curr_num_subplots)]\n",
    "    laps_pages = [list(chunk) for chunk in _chunks(sess.laps.lap_id, curr_num_subplots)]\n",
    "    active_page_laps_ids = laps_pages[active_page_index]\n",
    "    _add_specific_lap_trajectory(p, linear_plotter_indicies, row_column_indicies, active_page_laps_ids, curr_lap_position_traces, curr_lap_time_range)\n",
    "    return p, laps_pages\n",
    "\n",
    "\n",
    "\n",
    "p, laps_pages = plot_lap_trajectories_3d(sess, curr_num_subplots=10, active_page_index=1)\n",
    "p.show()"
   ]
  },
  {
   "cell_type": "markdown",
   "id": "b7bdbf90-b7c6-44c9-8e6e-5bfba6563ebe",
   "metadata": {},
   "source": [
    "## CustomDataExplorer 3D Plotter:"
   ]
  },
  {
   "cell_type": "code",
   "execution_count": 37,
   "id": "b2dee0cf-211e-43ea-89a6-9a41a24d814f",
   "metadata": {},
   "outputs": [
    {
     "name": "stdout",
     "output_type": "stream",
     "text": [
      "Applying custom Pyvista theme.\n",
      "done.\n",
      "No extant BackgroundPlotter\n",
      "Creating a new BackgroundPlotter\n"
     ]
    }
   ],
   "source": [
    "from PhoGui.InteractivePlotter.InteractiveCustomDataExplorer import InteractiveCustomDataExplorer\n",
    "active_laps_config = InteractivePlaceCellConfig(active_session_config=sess.config, active_epochs=None, video_output_config=None, plotting_config=None) # '3|1    \n",
    "active_laps_config.plotting_config = PlottingConfig(output_subplots_shape='1|5', output_parent_dir=Path('output', sess.config.session_name, 'custom_laps'))\n",
    "\n",
    "try: pActiveInteractiveLapsPlotter\n",
    "except NameError: pActiveInteractiveLapsPlotter = None # Checks variable p's existance, and sets its value to None if it doesn't exist so it can be checked in the next step\n",
    "iplapsDataExplorer = InteractiveCustomDataExplorer(active_laps_config, sess, extant_plotter=pActiveInteractiveLapsPlotter)\n",
    "pActiveInteractiveLapsPlotter = iplapsDataExplorer.plot(pActivePlotter=pActiveInteractiveLapsPlotter)"
   ]
  },
  {
   "cell_type": "code",
   "execution_count": null,
   "id": "10e63e21-6c0d-4a71-8d0d-79d02eb33e61",
   "metadata": {},
   "outputs": [],
   "source": [
    "# surf = points.reconstruct_surface()\n",
    "\n",
    "def perform_plot_flat_arena(p, x, y, bShowSequenceTraversalGradient=False):\n",
    "    # Call with:\n",
    "    # pdata_maze, pc_maze = build_flat_map_plot_data() # Plot the flat arena\n",
    "    # p.add_mesh(pc_maze, name='maze_bg', color=\"black\", render=False)\n",
    "    def __build_flat_map_plot_data(x, y):\n",
    "        # Builds the flat base maze map that the other data will be plot on top of\n",
    "        ## Implicitly relies on: x, y\n",
    "        z = np.zeros_like(x)\n",
    "        point_cloud = np.vstack((x, y, z)).T\n",
    "        pdata = pv.PolyData(point_cloud)\n",
    "        pdata['occupancy heatmap'] = np.arange(np.shape(point_cloud)[0])\n",
    "        geo = pv.Circle(radius=0.5)\n",
    "        pc = pdata.glyph(scale=False, geom=geo)\n",
    "        return pdata, pc\n",
    "\n",
    "    pdata_maze, pc_maze = __build_flat_map_plot_data(x, y)\n",
    "    surf = pdata_maze.reconstruct_surface()\n",
    "    \n",
    "    return p.add_mesh(pc_maze, name='maze_bg', label='maze', color=\"black\", render=True)    \n",
    "    # # bShowSequenceTraversalGradient\n",
    "    # if bShowSequenceTraversalGradient:\n",
    "    #     traversal_order_scalars = np.arange(len(x))\n",
    "    #     return p.add_mesh(pc_maze, name='maze_bg', label='maze', scalars=traversal_order_scalars, render=True)\n",
    "\n",
    "iplapsDataExplorer.plots['maze_bg'] = perform_plot_flat_arena(pActiveInteractiveLapsPlotter, iplapsDataExplorer.x, iplapsDataExplorer.y)\n",
    "\n"
   ]
  },
  {
   "cell_type": "code",
   "execution_count": 62,
   "id": "1e91d7b6-7aa1-4372-802f-9931e3988356",
   "metadata": {},
   "outputs": [
    {
     "data": {
      "text/plain": [
       "44"
      ]
     },
     "execution_count": 62,
     "metadata": {},
     "output_type": "execute_result"
    }
   ],
   "source": [
    "len(sess.laps.lap_id) # 44"
   ]
  },
  {
   "cell_type": "code",
   "execution_count": null,
   "id": "876756ea-69ee-4cbc-bbd4-ff37050899f9",
   "metadata": {},
   "outputs": [],
   "source": [
    "for i in np.arange(len(sess.laps.lap_id)):\n",
    "    curr_lap_id = sess.laps.lap_id[i]\n",
    "    curr_lap_t_start, curr_lap_t_stop = sess.laps.get_lap_times(i)\n",
    "    curr_lap_position_traces = laps_position_traces[i]\n",
    "    plot_lap_trajectory_path_spline(iplapsDataExplorer, curr_lap_position_traces, curr_lap_id)"
   ]
  },
  {
   "cell_type": "code",
   "execution_count": null,
   "id": "86277544-9199-4b81-b85b-169fa1307a32",
   "metadata": {},
   "outputs": [],
   "source": [
    "# p = pv.Plotter(shape=(5, 1), border=True)\n",
    "p = pActiveInteractiveLapsPlotter\n",
    "num_laps_to_show = len(sess.laps.lap_id)\n",
    "num_laps_to_show = 5\n",
    "flat_lap_id_index = np.arange(len(sess.laps.lap_id))\n",
    "# subplot_lap_id_index = np.reshape([4,11])\n",
    "for i in np.arange(num_laps_to_show):\n",
    "    curr_lap_id = sess.laps.lap_id[i]\n",
    "    p.subplot(i, 0)\n",
    "    # curr_lap_t_start, curr_lap_t_stop = sess.laps.get_lap_times(i)\n",
    "    plot_lap_trajectory_path_spline(iplapsDataExplorer, laps_position_traces[i], curr_lap_id)\n",
    "    \n",
    "p.link_views()  # link all the views\n",
    "p.show()"
   ]
  },
  {
   "cell_type": "code",
   "execution_count": null,
   "id": "5a6cbda2-d6d0-47da-bc80-5da30d9a0267",
   "metadata": {},
   "outputs": [],
   "source": [
    "# ipspikesDataExplorer.spikes_main_historical.SetVisibility(0)\n",
    "\n",
    "# ipspikesDataExplorer.spikes_main_historical.SetVisibility(1)\n",
    "# bool(ipspikesDataExplorer.spikes_main_historical.GetVisibility())\n",
    "\n",
    "ipspikesDataExplorer.toggle_plot_visibility('spikes_main_historical')\n",
    "# toggle_visibility(ipspikesDataExplorer.spikes_main_historical)"
   ]
  },
  {
   "cell_type": "code",
   "execution_count": null,
   "id": "8438878a-e656-4e88-b768-65a796dd76c4",
   "metadata": {},
   "outputs": [],
   "source": [
    "ipspikesDataExplorer.toggle_plot_visibility('lap_location_trail')"
   ]
  },
  {
   "cell_type": "code",
   "execution_count": null,
   "id": "1ab035fb-3417-463f-aa54-2021466569ac",
   "metadata": {},
   "outputs": [],
   "source": [
    "# ipspikesDataExplorer.spikes_main_recent_only.SetVisibility(True)\n",
    "toggle_visibility(ipspikesDataExplorer.spikes_main_recent_only)"
   ]
  },
  {
   "cell_type": "code",
   "execution_count": null,
   "id": "70dcef6a-bee6-4739-9eef-bbfa7d62cae4",
   "metadata": {},
   "outputs": [],
   "source": [
    "# ipspikesDataExplorer.animal_location_trail.SetVisibility(0)\n",
    "# toggle_visibility(ipspikesDataExplorer.animal_location_trail)\n",
    "ipspikesDataExplorer.toggle_plot_visibility('animal_location_trail')\n",
    "ipspikesDataExplorer.toggle_plot_visibility('animal_current_location_point')"
   ]
  },
  {
   "cell_type": "markdown",
   "id": "cb1c336e-45c0-4eae-8a71-fced00d17313",
   "metadata": {
    "jp-MarkdownHeadingCollapsed": true,
    "tags": []
   },
   "source": [
    "# Programmatically change the animals location point indicator:"
   ]
  },
  {
   "cell_type": "code",
   "execution_count": null,
   "id": "90554b89-1a4f-43c0-a888-920d262d9557",
   "metadata": {},
   "outputs": [],
   "source": [
    "# .GetPosition() returns the actor's position, which is usually (0.0, 0.0, 0.0), and does not relate to the actor's data points\n",
    "# curr_animal_point = ipspikesDataExplorer.animal_location_trail.GetPosition()\n",
    "# curr_animal_point = ipspikesDataExplorer.animal_location_trail.GetXRange() # (44.23604202270508, 245.9059600830078)\n",
    "# print(curr_animal_point)\n",
    "# curr_animal_point = ipspikesDataExplorer.animal_location_trail.GetYRange() # (135.27638244628906, 145.448974609375)\n",
    "# print(curr_animal_point)\n",
    "# curr_animal_point = ipspikesDataExplorer.animal_location_trail.GetZRange() # (1.100000023841858, 1.100000023841858)\n",
    "\n",
    "curr_animal_point = np.array(ipspikesDataExplorer.animal_location_trail.GetCenter()) # (206.27755737304688, 140.15452575683594, 1.100000023841858)\n",
    "print('curr_animal_point: {}'.format(curr_animal_point))\n",
    "curr_animal_point # curr_animal_poin\n",
    "\n",
    "# curr_animal_point = np.array([0, 0, 0])\n",
    "\n",
    "# curr_animal_point = np.column_stack((self.x[active_window_sample_indicies], self.y[active_window_sample_indicies], self.z_fixed))\n",
    "# ipspikesDataExplorer.on_programmatic_data_update(curr_animal_point=curr_animal_point)\n",
    "\n",
    "curr_debug_point = np.array(ipspikesDataExplorer.animal_location_trail.GetCenter()) # (206.27755737304688, 140.15452575683594, 1.100000023841858)\n",
    "ipspikesDataExplorer.perform_plot_location_point('debug_point_plot', curr_animal_point, color='r')\n",
    "\n",
    "curr_animal_point = np.array(ipspikesDataExplorer.animal_location_trail.GetCenter()) # not updated\n",
    "print('new curr_animal_point: {}'.format(curr_animal_point))"
   ]
  },
  {
   "cell_type": "code",
   "execution_count": null,
   "id": "64ac6391-89e5-4452-bbdb-12338332da7f",
   "metadata": {},
   "outputs": [],
   "source": [
    "# ipspikesDataExplorer.flattened_spike_positions_list\n",
    "\n",
    "active_epoch_session.flattened_spiketrains.time_slice(curr_lap_spike_t_seconds.values[0], curr_lap_spike_t_seconds.values[-1]).spikes_df"
   ]
  },
  {
   "cell_type": "code",
   "execution_count": null,
   "id": "176ffb93-dd70-4eae-86dc-4498d39f7c64",
   "metadata": {},
   "outputs": [],
   "source": [
    "curr_lap_dataframe"
   ]
  },
  {
   "cell_type": "code",
   "execution_count": null,
   "id": "964a1bec-6aa9-4942-b590-5b9e407106ee",
   "metadata": {},
   "outputs": [],
   "source": [
    "active_epoch_session.time_slice"
   ]
  },
  {
   "cell_type": "code",
   "execution_count": null,
   "id": "f9639c15-312d-4bbb-938a-0bc8a0d51a0e",
   "metadata": {},
   "outputs": [],
   "source": []
  },
  {
   "cell_type": "code",
   "execution_count": null,
   "id": "c5b81d4e-b4ff-4e2f-bb2b-dc753c1a0ff0",
   "metadata": {},
   "outputs": [],
   "source": []
  }
 ],
 "metadata": {
  "celltoolbar": "Tags",
  "interpreter": {
   "hash": "fde6e68fa8f5f4f0920a88ee99edd8d4121f14a57a7800ceb19ed197f25c05dc"
  },
  "kernelspec": {
   "display_name": "Python 3 (ipykernel)",
   "language": "python",
   "name": "python3"
  },
  "language_info": {
   "codemirror_mode": {
    "name": "ipython",
    "version": 3
   },
   "file_extension": ".py",
   "mimetype": "text/x-python",
   "name": "python",
   "nbconvert_exporter": "python",
   "pygments_lexer": "ipython3",
   "version": "3.9.7"
  }
 },
 "nbformat": 4,
 "nbformat_minor": 5
}
