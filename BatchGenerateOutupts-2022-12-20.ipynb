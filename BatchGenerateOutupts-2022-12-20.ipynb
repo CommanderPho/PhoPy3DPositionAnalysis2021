{
 "cells": [
  {
   "cell_type": "markdown",
   "id": "7dd392e0-1cc6-407a-8c0c-18f66153a51b",
   "metadata": {
    "tags": []
   },
   "source": [
    "# Imports"
   ]
  },
  {
   "cell_type": "code",
   "execution_count": 1,
   "id": "e8063c28-10a2-4e3d-a524-a09b38b4db06",
   "metadata": {
    "tags": [
     "imports"
    ]
   },
   "outputs": [
    {
     "name": "stdout",
     "output_type": "stream",
     "text": [
      "Automatic pdb calling has been turned OFF\n",
      "build_module_logger(module_name=\"Spike3D.pipeline\"):\n",
      "\t Module logger com.PhoHale.Spike3D.pipeline has file logging enabled and will log to EXTERNAL\\TESTING\\Logging\\debug_com.PhoHale.Spike3D.pipeline.log\n"
     ]
    }
   ],
   "source": [
    "%config IPCompleter.use_jedi = False\n",
    "%pdb off\n",
    "# %load_ext viztracer\n",
    "%load_ext autoreload\n",
    "%autoreload 2\n",
    "import sys\n",
    "import traceback # for stack trace formatting\n",
    "import importlib\n",
    "from pathlib import Path\n",
    "from benedict import benedict\n",
    "import numpy as np\n",
    "\n",
    "# required to enable non-blocking interaction:\n",
    "# %gui qt\n",
    "# !env QT_API=\"pyqt5\"\n",
    "%gui qt5\n",
    "# %gui qt6\n",
    "# from PyQt5.Qt import QApplication\n",
    "# # start qt event loop\n",
    "# _instance = QApplication.instance()\n",
    "# if not _instance:\n",
    "#     _instance = QApplication([])\n",
    "# app = _instance\n",
    "\n",
    "from copy import deepcopy\n",
    "from numba import jit\n",
    "import numpy as np\n",
    "import pandas as pd\n",
    "from benedict import benedict # https://github.com/fabiocaccamo/python-benedict#usage\n",
    "\n",
    "# Pho's Formatting Preferences\n",
    "# from pyphocorehelpers.preferences_helpers import set_pho_preferences, set_pho_preferences_concise, set_pho_preferences_verbose\n",
    "# set_pho_preferences_concise()\n",
    "\n",
    "## Pho's Custom Libraries:\n",
    "from pyphocorehelpers.general_helpers import CodeConversion\n",
    "from pyphocorehelpers.print_helpers import print_keys_if_possible, print_value_overview_only, document_active_variables\n",
    "\n",
    "# pyPhoPlaceCellAnalysis:\n",
    "from pyphoplacecellanalysis.General.Pipeline.NeuropyPipeline import NeuropyPipeline # get_neuron_identities\n",
    "\n",
    "# NeuroPy (Diba Lab Python Repo) Loading\n",
    "# from neuropy import core\n",
    "from neuropy.analyses.placefields import PlacefieldComputationParameters\n",
    "from neuropy.core.epoch import NamedTimerange\n",
    "from neuropy.core.session.Formats.BaseDataSessionFormats import DataSessionFormatRegistryHolder\n",
    "from neuropy.core.session.Formats.Specific.BapunDataSessionFormat import BapunDataSessionFormatRegisteredClass\n",
    "from neuropy.core.session.Formats.Specific.KDibaOldDataSessionFormat import KDibaOldDataSessionFormatRegisteredClass\n",
    "from neuropy.core.session.Formats.Specific.RachelDataSessionFormat import RachelDataSessionFormat\n",
    "from neuropy.core.session.Formats.Specific.HiroDataSessionFormat import HiroDataSessionFormatRegisteredClass\n",
    "\n",
    "## For computation parameters:\n",
    "from neuropy.analyses.placefields import PlacefieldComputationParameters\n",
    "from neuropy.utils.dynamic_container import DynamicContainer\n",
    "from neuropy.utils.result_context import IdentifyingContext\n",
    "from neuropy.core.session.Formats.BaseDataSessionFormats import find_local_session_paths\n",
    "\n",
    "# from PendingNotebookCode import _perform_batch_plot, _build_batch_plot_kwargs\n",
    "from pyphoplacecellanalysis.General.NonInteractiveWrapper import batch_load_session, batch_extended_computations, SessionBatchProgress, batch_programmatic_figures, batch_extended_programmatic_figures\n",
    "from pyphoplacecellanalysis.General.Pipeline.NeuropyPipeline import PipelineSavingScheme\n",
    "\n",
    "session_batch_status = {}\n",
    "session_batch_errors = {}\n",
    "enable_saving_to_disk = False\n",
    "\n",
    "global_data_root_parent_path = Path(r'W:\\Data') # Windows Apogee\n",
    "# global_data_root_parent_path = Path(r'/media/MAX/Data') # Diba Lab Workstation Linux\n",
    "# global_data_root_parent_path = Path(r'/Volumes/MoverNew/data') # rMBP\n",
    "assert global_data_root_parent_path.exists(), f\"global_data_root_parent_path: {global_data_root_parent_path} does not exist! Is the right computer's config commented out above?\""
   ]
  },
  {
   "cell_type": "markdown",
   "id": "60fde1ef-b6bc-4500-866e-00a69be7f8de",
   "metadata": {
    "tags": []
   },
   "source": [
    "# Load Pipeline"
   ]
  },
  {
   "cell_type": "code",
   "execution_count": 2,
   "id": "65d6376f-bf1a-4537-9d04-87998d82788c",
   "metadata": {
    "tags": [
     "load"
    ]
   },
   "outputs": [
    {
     "name": "stdout",
     "output_type": "stream",
     "text": [
      "local_session_names_list: ['2006-6-07_11-26-53', '2006-6-08_14-26-15', '2006-6-09_1-22-43', '2006-6-09_3-23-37', '2006-6-12_15-55-31', '2006-6-13_14-42-6']\n"
     ]
    },
    {
     "data": {
      "text/plain": [
       "{WindowsPath('W:/Data/KDIBA/gor01/one/2006-6-07_11-26-53'): <SessionBatchProgress.NOT_STARTED: 'NOT_STARTED'>,\n",
       " WindowsPath('W:/Data/KDIBA/gor01/one/2006-6-08_14-26-15'): <SessionBatchProgress.NOT_STARTED: 'NOT_STARTED'>,\n",
       " WindowsPath('W:/Data/KDIBA/gor01/one/2006-6-09_1-22-43'): <SessionBatchProgress.NOT_STARTED: 'NOT_STARTED'>,\n",
       " WindowsPath('W:/Data/KDIBA/gor01/one/2006-6-09_3-23-37'): <SessionBatchProgress.NOT_STARTED: 'NOT_STARTED'>,\n",
       " WindowsPath('W:/Data/KDIBA/gor01/one/2006-6-12_15-55-31'): <SessionBatchProgress.NOT_STARTED: 'NOT_STARTED'>,\n",
       " WindowsPath('W:/Data/KDIBA/gor01/one/2006-6-13_14-42-6'): <SessionBatchProgress.NOT_STARTED: 'NOT_STARTED'>}"
      ]
     },
     "execution_count": 2,
     "metadata": {},
     "output_type": "execute_result"
    }
   ],
   "source": [
    "# ==================================================================================================================== #\n",
    "# Load Data                                                                                                            #\n",
    "# ==================================================================================================================== #\n",
    "\n",
    "active_data_mode_name = 'kdiba'\n",
    "\n",
    "## Data must be pre-processed using the MATLAB script located here: \n",
    "#     neuropy/data_session_pre_processing_scripts/KDIBA/IIDataMat_Export_ToPython_2022_08_01.m\n",
    "# From pre-computed .mat files:\n",
    "\n",
    "local_session_root_parent_context = IdentifyingContext(format_name=active_data_mode_name) # , animal_name='', configuration_name='one', session_name=self.session_name\n",
    "local_session_root_parent_path = global_data_root_parent_path.joinpath('KDIBA')\n",
    "\n",
    "## Animal `gor01`:\n",
    "local_session_parent_context = local_session_root_parent_context.adding_context(collision_prefix='animal', animal='gor01', exper_name='one') # IdentifyingContext<('kdiba', 'gor01', 'one')>\n",
    "local_session_parent_path = local_session_root_parent_path.joinpath(local_session_parent_context.animal, local_session_parent_context.exper_name) # 'gor01', 'one'\n",
    "local_session_paths_list, local_session_names_list =  find_local_session_paths(local_session_parent_path, blacklist=['PhoHelpers', 'Spike3D-Minimal-Test', 'Unused'])\n",
    "\n",
    "# local_session_parent_context = local_session_root_parent_context.adding_context(collision_prefix='animal', animal='gor01', exper_name='two')\n",
    "# local_session_parent_path = local_session_root_parent_path.joinpath(local_session_parent_context.animal, local_session_parent_context.exper_name)\n",
    "# local_session_paths_list, local_session_names_list =  find_local_session_paths(local_session_parent_path, blacklist=[])\n",
    "\n",
    "### Animal `vvp01`:\n",
    "# local_session_parent_context = local_session_root_parent_context.adding_context(collision_prefix='animal', animal='vvp01', exper_name='one')\n",
    "# local_session_parent_path = local_session_root_parent_path.joinpath(local_session_parent_context.animal, local_session_parent_context.exper_name)\n",
    "# local_session_paths_list, local_session_names_list =  find_local_session_paths(local_session_parent_path, blacklist=[])\n",
    "\n",
    "# local_session_parent_context = local_session_root_parent_context.adding_context(collision_prefix='animal', animal='vvp01', exper_name='two')\n",
    "# local_session_parent_path = local_session_root_parent_path.joinpath(local_session_parent_context.animal, local_session_parent_context.exper_name)\n",
    "# local_session_paths_list, local_session_names_list =  find_local_session_paths(local_session_parent_path, blacklist=[])\n",
    "\n",
    "## Build session contexts list:\n",
    "local_session_contexts_list = [local_session_parent_context.adding_context(collision_prefix='sess', session_name=a_name) for a_name in local_session_names_list] # [IdentifyingContext<('kdiba', 'gor01', 'one', '2006-6-07_11-26-53')>, ..., IdentifyingContext<('kdiba', 'gor01', 'one', '2006-6-13_14-42-6')>]\n",
    "\n",
    "## Initialize `session_batch_status` with the NOT_STARTED status if it doesn't already have a different status\n",
    "for curr_session_basedir in local_session_paths_list:\n",
    "    curr_session_status = session_batch_status.get(curr_session_basedir, None)\n",
    "    if curr_session_status is None:\n",
    "        session_batch_status[curr_session_basedir] = SessionBatchProgress.NOT_STARTED # set to not started if not present\n",
    "        # session_batch_status[curr_session_basedir] = SessionBatchProgress.COMPLETED # set to not started if not present\n",
    "\n",
    "session_batch_status"
   ]
  },
  {
   "cell_type": "code",
   "execution_count": null,
   "id": "42ca3a74-49e0-43f2-9404-e916d7a5f53e",
   "metadata": {
    "scrolled": true,
    "tags": [
     "batch",
     "load"
    ]
   },
   "outputs": [],
   "source": [
    "include_programmatic_figures = False # if True, batch_programmatic_figures and batch_extended_programmatic_figures will be ran for each session. Othewise only the computations will be done and the data saved.\n",
    "batch_saving_mode = PipelineSavingScheme.TEMP_THEN_OVERWRITE\n",
    "# batch_saving_mode = PipelineSavingScheme.OVERWRITE_IN_PLACE\n",
    "# batch_saving_mode = PipelineSavingScheme.SKIP_SAVING # useful for just loading the pipelines and doing something with the result (like plotting)\n",
    "\n",
    "## Run batch queue\n",
    "for curr_sess_ctx, curr_session_basedir, curr_session_name in zip(local_session_contexts_list, local_session_paths_list, local_session_names_list):\n",
    "    print(f'curr_session_basedir: {str(curr_session_basedir)}')\n",
    "    curr_session_status = session_batch_status.get(curr_session_basedir, None)\n",
    "    if curr_session_status.name != SessionBatchProgress.COMPLETED.name:\n",
    "        session_batch_status[curr_session_basedir] = SessionBatchProgress.NOT_STARTED\n",
    "        try:\n",
    "            session_batch_status[curr_session_basedir] = SessionBatchProgress.RUNNING\n",
    "            curr_active_pipeline = batch_load_session(global_data_root_parent_path, active_data_mode_name, curr_session_basedir, force_reload=True, saving_mode=batch_saving_mode, fail_on_exception=True, skip_extended_batch_computations=False, time_bin_size=0.1)\n",
    "            # newly_computed_values = batch_extended_computations(curr_active_pipeline, fail_on_exception=True, progress_print=True, debug_print=False) # doing extended batch computations in batch_load_session does not work for some strange reason.\n",
    "            # if len(newly_computed_values) > 0:\n",
    "            #         curr_active_pipeline.save_pipeline(saving_mode=PipelineSavingScheme.OVERWRITE_IN_PLACE)\n",
    "                    \n",
    "            if include_programmatic_figures:\n",
    "                active_identifying_session_ctx, active_session_figures_out_path, active_out_figures_list = batch_programmatic_figures(curr_active_pipeline)\n",
    "                batch_extended_programmatic_figures(curr_active_pipeline)\n",
    "                \n",
    "            session_batch_status[curr_session_basedir] = SessionBatchProgress.COMPLETED\n",
    "            session_batch_errors[curr_session_basedir] = None # clear any error entry\n",
    "            print(f'completed processing for {curr_session_basedir}.') # : {active_identifying_session_ctx}\n",
    "        except Exception as e:\n",
    "            tb = traceback.format_exc()\n",
    "            print(f'ERROR processing {curr_session_basedir} with error {e}\\n{tb}')\n",
    "            session_batch_status[curr_session_basedir] = SessionBatchProgress.ABORTED\n",
    "            session_batch_errors[curr_session_basedir] = (e, tb)\n",
    "            # raise e\n",
    "    else:\n",
    "        print(f'\\t already completed')\n",
    "\n",
    "print(f'session_batch_status: {session_batch_status}')\n",
    "print('!!! done running batch !!!')"
   ]
  },
  {
   "cell_type": "markdown",
   "id": "e1ab8feb-f917-4ac4-be40-20083a25f005",
   "metadata": {
    "tags": []
   },
   "source": [
    "# Single basedir (non-batch) testing:"
   ]
  },
  {
   "cell_type": "code",
   "execution_count": 3,
   "id": "aecb4518-057d-4cf8-bdde-97890bacd98b",
   "metadata": {
    "tags": [
     "load",
     "single_session"
    ]
   },
   "outputs": [
    {
     "name": "stdout",
     "output_type": "stream",
     "text": [
      "basedir: W:\\Data\\KDIBA\\gor01\\one\\2006-6-09_1-22-43\n",
      "Skipping loading from pickled file because force_reload == True.\n",
      "Loading matlab import file results : W:\\Data\\KDIBA\\gor01\\one\\2006-6-09_1-22-43\\2006-6-09_1-22-43.epochs_info.mat... done.\n",
      "Loading matlab import file results : W:\\Data\\KDIBA\\gor01\\one\\2006-6-09_1-22-43\\2006-6-09_1-22-43.position_info.mat... done.\n",
      "Loading matlab import file results : W:\\Data\\KDIBA\\gor01\\one\\2006-6-09_1-22-43\\2006-6-09_1-22-43.spikes.mat... "
     ]
    },
    {
     "name": "stderr",
     "output_type": "stream",
     "text": [
      "c:\\users\\pho\\repos\\neuropy\\neuropy\\core\\session\\Formats\\SessionSpecifications.py:140: UserWarning: WARNING: Optional File: W:\\Data\\KDIBA\\gor01\\one\\2006-6-09_1-22-43\\2006-6-09_1-22-43.dat does not exist. Continuing without it.\n",
      "  warnings.warn(f'WARNING: Optional File: {an_optional_filepath} does not exist. Continuing without it.')\n"
     ]
    },
    {
     "name": "stdout",
     "output_type": "stream",
     "text": [
      "done.\n",
      "Failure loading .position.npy. Must recompute.\n",
      "\n",
      "Computing linear positions for all active epochs for session... Saving updated position results results : W:\\Data\\KDIBA\\gor01\\one\\2006-6-09_1-22-43\\2006-6-09_1-22-43.position.npy... 2006-6-09_1-22-43.position.npy saved\n",
      "done.\n",
      "\t force_recompute is True! Forcing recomputation of .interpolated_spike_positions.npy\n",
      "\n",
      "Computing interpolate_spike_positions columns results : spikes_df... done.\n",
      "\t Saving updated interpolated spike position results results : W:\\Data\\KDIBA\\gor01\\one\\2006-6-09_1-22-43\\2006-6-09_1-22-43.interpolated_spike_positions.npy... 2006-6-09_1-22-43.interpolated_spike_positions.npy saved\n",
      "done.\n",
      "Loading matlab import file results : W:\\Data\\KDIBA\\gor01\\one\\2006-6-09_1-22-43\\2006-6-09_1-22-43.laps_info.mat... done.\n",
      "setting laps object.\n",
      "session.laps loaded successfully!\n",
      "Loading matlab import file results : W:\\Data\\KDIBA\\gor01\\one\\2006-6-09_1-22-43\\2006-6-09_1-22-43.replay_info.mat... done.\n",
      "session.replays loaded successfully!\n",
      "Loading success: W:\\Data\\KDIBA\\gor01\\one\\2006-6-09_1-22-43\\ripple_df.pkl.\n",
      "Loading success: .mua.npy.\n",
      "Loading success: .pbe.npy.\n",
      "Computing spikes_df PBEs column results : spikes_df... done.\n",
      "Computing added spike scISI column results : spikes_df... done.\n",
      "skip_save_on_initial_load is True so resultant pipeline will not be saved to the pickle file.\n",
      "Applying session filter named \"maze1\"...\n",
      "Constraining to epoch with times (start: 0.0, end: 1029.316608761903)\n",
      "computing neurons mua for session...\n",
      "\n",
      "Applying session filter named \"maze2\"...\n",
      "Constraining to epoch with times (start: 1029.316608761903, end: 1737.1968310000375)\n",
      "computing neurons mua for session...\n",
      "\n",
      "Applying session filter named \"maze\"...\n",
      "Constraining to epoch with times (start: 0.0, end: 1737.1968310000375)\n",
      "computing neurons mua for session...\n",
      "\n",
      "due to whitelist, including only 7 out of 15 registered computation functions.\n",
      "Recomputing active_epoch_placefields... \t done.\n",
      "Recomputing active_epoch_placefields2D... \t done.\n",
      "Recomputing active_epoch_time_dependent_placefields... \t done.\n",
      "Recomputing active_epoch_time_dependent_placefields2D... \t done.\n",
      "updating computation_results...\n",
      "done.\n",
      "due to whitelist, including only 7 out of 15 registered computation functions.\n",
      "Recomputing active_epoch_placefields... \t done.\n",
      "Recomputing active_epoch_placefields2D... \t done.\n",
      "Recomputing active_epoch_time_dependent_placefields... \t done.\n",
      "Recomputing active_epoch_time_dependent_placefields2D... \t done.\n",
      "updating computation_results...\n",
      "done.\n",
      "due to whitelist, including only 7 out of 15 registered computation functions.\n",
      "Recomputing active_epoch_placefields... \t done.\n",
      "Recomputing active_epoch_placefields2D... \t done.\n",
      "Recomputing active_epoch_time_dependent_placefields... \t done.\n",
      "Recomputing active_epoch_time_dependent_placefields2D... \t done.\n",
      "updating computation_results...\n",
      "done.\n",
      "Running batch_extended_computations(...) with global_epoch_name: \"maze\"\n",
      "firing_rate_trends already computed.\n",
      "relative_entropy_analyses missing.\n",
      "\t Recomputing relative_entropy_analyses...\n",
      "Performing run_specific_computations_single_context on filtered_session with filter named \"maze\"...\n",
      "\t done.\n",
      "done with all batch_extended_computations(...).\n",
      "finalized_loaded_sess_pickle_path: W:\\Data\\KDIBA\\gor01\\one\\2006-6-09_1-22-43\\loadedSessPickle.pkl\n",
      "Saving (file mode 'w+b') saved session pickle file results : W:\\Data\\KDIBA\\gor01\\one\\2006-6-09_1-22-43\\20221221051007-loadedSessPickle.pkl... done.\n",
      "moving new output at 'W:\\Data\\KDIBA\\gor01\\one\\2006-6-09_1-22-43\\20221221051007-loadedSessPickle.pkl' -> to desired location: 'W:\\Data\\KDIBA\\gor01\\one\\2006-6-09_1-22-43\\loadedSessPickle.pkl'\n"
     ]
    }
   ],
   "source": [
    "# %pdb on\n",
    "basedir = local_session_paths_list[2] # NOT 3\n",
    "print(f'basedir: {str(basedir)}')\n",
    "\n",
    "# ==================================================================================================================== #\n",
    "# Load Pipeline                                                                                                        #\n",
    "# ==================================================================================================================== #\n",
    "curr_active_pipeline = batch_load_session(global_data_root_parent_path, active_data_mode_name, basedir, saving_mode=PipelineSavingScheme.TEMP_THEN_OVERWRITE, force_reload=True, skip_extended_batch_computations=False)\n",
    "# curr_active_pipeline = batch_load_session(global_data_root_parent_path, active_data_mode_name, basedir, saving_mode=PipelineSavingScheme.SKIP_SAVING, force_reload=False, skip_extended_batch_computations=False, debug_print=True)\n",
    "# curr_active_pipeline = batch_load_session(global_data_root_parent_path, active_data_mode_name, basedir, saving_mode=PipelineSavingScheme.SKIP_SAVING, force_reload=True, skip_extended_batch_computations=True) # temp no-save\n",
    "## SAVE AFTERWARDS!\n",
    "\n",
    "# curr_active_pipeline = batch_load_session(global_data_root_parent_path, active_data_mode_name, basedir, saving_mode=PipelineSavingScheme.SKIP_SAVING, force_reload=False, active_pickle_filename='20221214200324-loadedSessPickle.pkl', skip_extended_batch_computations=True)\n",
    "# curr_active_pipeline = batch_load_session(global_data_root_parent_path, active_data_mode_name, basedir, saving_mode=PipelineSavingScheme.SKIP_SAVING, force_reload=False, active_pickle_filename='loadedSessPickle - full-good.pkl', skip_extended_batch_computations=True)"
   ]
  },
  {
   "cell_type": "code",
   "execution_count": null,
   "id": "a34eee98-48ef-45d7-8dab-d7c2a2326d8e",
   "metadata": {},
   "outputs": [],
   "source": [
    "newly_computed_values = batch_extended_computations(curr_active_pipeline, include_global_functions=True, fail_on_exception=True, progress_print=True, debug_print=False)"
   ]
  },
  {
   "cell_type": "markdown",
   "id": "716889b1-b230-46c5-818e-7afa09301102",
   "metadata": {
    "incorrectly_encoded_metadata": "jp-MarkdownHeadingCollapsed=true tags=[] jp-MarkdownHeadingCollapsed=true tags=[] jp-MarkdownHeadingCollapsed=true"
   },
   "source": [
    "### Burst Detection"
   ]
  },
  {
   "cell_type": "code",
   "execution_count": null,
   "id": "ccf152a1-b22e-4fc5-98fb-7dd52cba8b24",
   "metadata": {},
   "outputs": [],
   "source": [
    "global_epoch_name = curr_active_pipeline.active_completed_computation_result_names[-1] # 'maze'\n",
    "global_results = curr_active_pipeline.computation_results[global_epoch_name]['computed_data']    \n",
    "curr_active_pipeline.perform_specific_computation(computation_functions_name_whitelist=['_perform_spike_burst_detection_computation'], enabled_filter_names=[global_epoch_name], fail_on_exception=True, debug_print=False)\n",
    "active_burst_info = global_results['burst_detection']\n",
    "active_burst_intervals = active_burst_info['burst_intervals']\n",
    "active_burst_intervals"
   ]
  },
  {
   "cell_type": "code",
   "execution_count": null,
   "id": "b297fe56-d302-4655-8551-943a1c249709",
   "metadata": {},
   "outputs": [],
   "source": [
    "## Add the burst_detection burst_intervals to the active_2d_plot:\n",
    "from pyphoplacecellanalysis.GUI.PyQtPlot.Widgets.Mixins.RenderTimeEpochs.Render2DEventRectanglesHelper import Render2DEventRectanglesHelper\n",
    "active_burst_info = global_results['burst_detection']\n",
    "active_burst_intervals = active_burst_info['burst_intervals']\n",
    "output_display_items = Render2DEventRectanglesHelper.add_event_rectangles(active_2d_plot, active_burst_intervals) # {'interval_rects_item': active_interval_rects_item}\n",
    "active_interval_rects_item = output_display_items['interval_rects_item']\n",
    "active_interval_rects_item"
   ]
  },
  {
   "cell_type": "code",
   "execution_count": null,
   "id": "4524b0c5-bb3a-47d8-bc03-f3ef6b3f500a",
   "metadata": {},
   "outputs": [],
   "source": [
    "from pyphocorehelpers.print_helpers import print_object_memory_usage\n",
    "\n",
    "print_object_memory_usage(active_burst_info) # object size: 14.190922 MB"
   ]
  },
  {
   "cell_type": "code",
   "execution_count": null,
   "id": "bb18f903-b04b-4957-8cd6-45c093b18b33",
   "metadata": {},
   "outputs": [],
   "source": [
    "# global_results.pf1D_dt.restore_from_snapshot(global_results.pf1D_dt.last_t)\n",
    "global_results.pf1D_dt.reset()"
   ]
  },
  {
   "cell_type": "code",
   "execution_count": null,
   "id": "344e287a-8533-458c-b7fd-2591312f1aee",
   "metadata": {},
   "outputs": [],
   "source": [
    "global_results.pf1D_dt.curr_num_pos_samples_occupancy_map"
   ]
  },
  {
   "cell_type": "code",
   "execution_count": null,
   "id": "0ae448cf-e5f2-45bb-a2d8-30f028357a0a",
   "metadata": {},
   "outputs": [],
   "source": [
    "test_snapshot = global_results.pf1D_dt.historical_snapshots[0.0]\n",
    "test_snapshot"
   ]
  },
  {
   "cell_type": "code",
   "execution_count": null,
   "id": "0500d00a-ae74-4ce0-897d-72d30007f92e",
   "metadata": {},
   "outputs": [],
   "source": [
    "active_identifying_session_ctx, curr_session_figures_out_path, active_out_figures_list = batch_programmatic_figures(curr_active_pipeline)"
   ]
  },
  {
   "cell_type": "code",
   "execution_count": null,
   "id": "429fd1cd-6efb-4b2c-9037-ad3aa3adf96a",
   "metadata": {},
   "outputs": [],
   "source": [
    "batch_extended_programmatic_figures(curr_active_pipeline)"
   ]
  },
  {
   "cell_type": "code",
   "execution_count": null,
   "id": "2936d7d5-7190-4e94-aff6-322329453f64",
   "metadata": {},
   "outputs": [],
   "source": [
    "for a_name, a_result in curr_active_pipeline.computation_results.items():\n",
    "    print(f'{a_name}')\n",
    "    a_result.computed_data.pf1D_dt.reset() # clears the snapshots\n",
    "    print(a_result.computed_data.pf1D_dt.historical_snapshots)\n",
    "\n",
    "# global_results.extended_stats.relative_entropy_analyses.historical_snapshots\n",
    "del global_results.extended_stats.relative_entropy_analyses['historical_snapshots']\n",
    "\n",
    "# global_results.extended_stats.relative_entropy_analyses.snapshot_differences_result_dict\n",
    "del global_results.extended_stats.relative_entropy_analyses['snapshot_differences_result_dict']"
   ]
  },
  {
   "cell_type": "code",
   "execution_count": null,
   "id": "33e66b93-4c66-4ded-8fc4-c0abcd44ae49",
   "metadata": {},
   "outputs": [],
   "source": [
    "# %pdb on\n",
    "# curr_active_pipeline.save_pipeline(saving_mode=PipelineSavingScheme.OVERWRITE_IN_PLACE)\n",
    "curr_active_pipeline.save_pipeline(saving_mode=PipelineSavingScheme.TEMP_THEN_OVERWRITE)"
   ]
  },
  {
   "cell_type": "markdown",
   "id": "9ec4e913-d02a-40bd-9a9d-d109af03c087",
   "metadata": {
    "incorrectly_encoded_metadata": "jp-MarkdownHeadingCollapsed=true tags=[] jp-MarkdownHeadingCollapsed=true jp-MarkdownHeadingCollapsed=true",
    "tags": []
   },
   "source": [
    "###  Compute Required Global Computations Manually:"
   ]
  },
  {
   "cell_type": "code",
   "execution_count": null,
   "id": "cedf96f0-601c-4064-b844-f32384c6429b",
   "metadata": {
    "lines_to_end_of_cell_marker": 2
   },
   "outputs": [],
   "source": [
    "from pyphoplacecellanalysis.General.Mixins.CrossComputationComparisonHelpers import SplitPartitionMembership # for batch_extended_computations\n",
    "# ==================================================================================================================== #\n",
    "# Perform missing global computations                                                                                  #\n",
    "# ==================================================================================================================== #\n",
    "\n",
    "## Get computed relative entropy measures:\n",
    "global_epoch_name = curr_active_pipeline.active_completed_computation_result_names[-1] # 'maze'\n",
    "global_results = curr_active_pipeline.computation_results[global_epoch_name]['computed_data']\n",
    "\n",
    "## Get existing `pf1D_dt`:\n",
    "active_pf_1D = global_results.pf1D\n",
    "active_pf_1D_dt = global_results.pf1D_dt\n",
    "\n",
    "## firing_rate_trends:\n",
    "try:\n",
    "    active_extended_stats = curr_active_pipeline.computation_results[global_epoch_name].computed_data['extended_stats']\n",
    "    time_binned_pos_df = active_extended_stats['time_binned_position_df']\n",
    "except (AttributeError, KeyError) as e:\n",
    "    print(f'encountered error: {e}. Recomputing...')\n",
    "    curr_active_pipeline.perform_specific_computation(computation_functions_name_whitelist=['_perform_firing_rate_trends_computation'], enabled_filter_names=[global_epoch_name], fail_on_exception=True, debug_print=False) \n",
    "    print(f'\\t done.')\n",
    "    active_extended_stats = curr_active_pipeline.computation_results[global_epoch_name].computed_data['extended_stats']\n",
    "    time_binned_pos_df = active_extended_stats['time_binned_position_df']\n",
    "except Exception as e:\n",
    "    raise e\n",
    "\n",
    "## relative_entropy_analyses:\n",
    "try:\n",
    "    active_relative_entropy_results = active_extended_stats['relative_entropy_analyses']\n",
    "    post_update_times = active_relative_entropy_results['post_update_times'] # (4152,) = (n_post_update_times,)\n",
    "    snapshot_differences_result_dict = active_relative_entropy_results['snapshot_differences_result_dict']\n",
    "    time_intervals = active_relative_entropy_results['time_intervals']\n",
    "    long_short_rel_entr_curves_frames = active_relative_entropy_results['long_short_rel_entr_curves_frames'] # (4152, 108, 63) = (n_post_update_times, n_neurons, n_xbins)\n",
    "    short_long_rel_entr_curves_frames = active_relative_entropy_results['short_long_rel_entr_curves_frames'] # (4152, 108, 63) = (n_post_update_times, n_neurons, n_xbins)\n",
    "    flat_relative_entropy_results = active_relative_entropy_results['flat_relative_entropy_results'] # (149, 63) - (nSnapshots, nXbins)\n",
    "    flat_jensen_shannon_distance_results = active_relative_entropy_results['flat_jensen_shannon_distance_results'] # (149, 63) - (nSnapshots, nXbins)\n",
    "    flat_jensen_shannon_distance_across_all_positions = np.sum(flat_jensen_shannon_distance_results, axis=1) # sum across all position bins # (4152,) - (nSnapshots)\n",
    "    flat_surprise_across_all_positions = np.sum(flat_relative_entropy_results, axis=1) # sum across all position bins # (4152,) - (nSnapshots)\n",
    "except (AttributeError, KeyError) as e:\n",
    "    print(f'encountered error: {e}. Recomputing...')\n",
    "    curr_active_pipeline.perform_specific_computation(computation_functions_name_whitelist=['_perform_time_dependent_pf_sequential_surprise_computation'], enabled_filter_names=[global_epoch_name], fail_on_exception=True, debug_print=False)\n",
    "    print(f'\\t done.')\n",
    "    active_relative_entropy_results = active_extended_stats['relative_entropy_analyses']\n",
    "    post_update_times = active_relative_entropy_results['post_update_times'] # (4152,) = (n_post_update_times,)\n",
    "    snapshot_differences_result_dict = active_relative_entropy_results['snapshot_differences_result_dict']\n",
    "    time_intervals = active_relative_entropy_results['time_intervals']\n",
    "    long_short_rel_entr_curves_frames = active_relative_entropy_results['long_short_rel_entr_curves_frames'] # (4152, 108, 63) = (n_post_update_times, n_neurons, n_xbins)\n",
    "    short_long_rel_entr_curves_frames = active_relative_entropy_results['short_long_rel_entr_curves_frames'] # (4152, 108, 63) = (n_post_update_times, n_neurons, n_xbins)\n",
    "    flat_relative_entropy_results = active_relative_entropy_results['flat_relative_entropy_results'] # (149, 63) - (nSnapshots, nXbins)\n",
    "    flat_jensen_shannon_distance_results = active_relative_entropy_results['flat_jensen_shannon_distance_results'] # (149, 63) - (nSnapshots, nXbins)\n",
    "    flat_jensen_shannon_distance_across_all_positions = np.sum(np.abs(flat_jensen_shannon_distance_results), axis=1) # sum across all position bins # (4152,) - (nSnapshots)\n",
    "    flat_surprise_across_all_positions = np.sum(np.abs(flat_relative_entropy_results), axis=1) # sum across all position bins # (4152,) - (nSnapshots)\n",
    "except Exception as e:\n",
    "    raise e\n",
    "    \n",
    "    \n",
    "## jonathan_firing_rate_analysis:\n",
    "try:\n",
    "    ## Get global 'jonathan_firing_rate_analysis' results:\n",
    "    curr_jonathan_firing_rate_analysis = curr_active_pipeline.global_computation_results.computed_data['jonathan_firing_rate_analysis']\n",
    "    neuron_replay_stats_df, rdf, aclu_to_idx, irdf = curr_jonathan_firing_rate_analysis['neuron_replay_stats_df'], curr_jonathan_firing_rate_analysis['rdf']['rdf'], curr_jonathan_firing_rate_analysis['rdf']['aclu_to_idx'], curr_jonathan_firing_rate_analysis['irdf']['irdf']\n",
    "except (AttributeError, KeyError) as e:\n",
    "    print(f'encountered error: {e}. Recomputing...')\n",
    "    curr_active_pipeline.perform_specific_computation(computation_functions_name_whitelist=['_perform_jonathan_replay_firing_rate_analyses'], fail_on_exception=False, debug_print=False) \n",
    "    print(f'\\t done.')\n",
    "    curr_jonathan_firing_rate_analysis = curr_active_pipeline.global_computation_results.computed_data['jonathan_firing_rate_analysis']\n",
    "    neuron_replay_stats_df, rdf, aclu_to_idx, irdf = curr_jonathan_firing_rate_analysis['neuron_replay_stats_df'], curr_jonathan_firing_rate_analysis['rdf']['rdf'], curr_jonathan_firing_rate_analysis['rdf']['aclu_to_idx'], curr_jonathan_firing_rate_analysis['irdf']['irdf']\n",
    "except Exception as e:\n",
    "    raise e\n",
    "\n",
    "## short_long_pf_overlap_analyses:\n",
    "try:\n",
    "    ## Get global `short_long_pf_overlap_analyses` results:\n",
    "    short_long_pf_overlap_analyses = curr_active_pipeline.global_computation_results.computed_data.short_long_pf_overlap_analyses\n",
    "    conv_overlap_dict = short_long_pf_overlap_analyses['conv_overlap_dict']\n",
    "    conv_overlap_scalars_df = short_long_pf_overlap_analyses['conv_overlap_scalars_df']\n",
    "    prod_overlap_dict = short_long_pf_overlap_analyses['product_overlap_dict']\n",
    "    relative_entropy_overlap_dict = short_long_pf_overlap_analyses['relative_entropy_overlap_dict']\n",
    "    relative_entropy_overlap_scalars_df = short_long_pf_overlap_analyses['relative_entropy_overlap_scalars_df']\n",
    "\n",
    "except (AttributeError, KeyError) as e:\n",
    "    print(f'encountered error: {e}. Recomputing...')\n",
    "    curr_active_pipeline.perform_specific_computation(computation_functions_name_whitelist=['_perform_short_long_pf_overlap_analyses'], fail_on_exception=False, debug_print=False)\n",
    "    print(f'\\t done.')\n",
    "    short_long_pf_overlap_analyses = curr_active_pipeline.global_computation_results.computed_data.short_long_pf_overlap_analyses\n",
    "    conv_overlap_dict = short_long_pf_overlap_analyses['conv_overlap_dict']\n",
    "    conv_overlap_scalars_df = short_long_pf_overlap_analyses['conv_overlap_scalars_df']\n",
    "    prod_overlap_dict = short_long_pf_overlap_analyses['product_overlap_dict']\n",
    "    relative_entropy_overlap_dict = short_long_pf_overlap_analyses['relative_entropy_overlap_dict']\n",
    "    relative_entropy_overlap_scalars_df = short_long_pf_overlap_analyses['relative_entropy_overlap_scalars_df']\n",
    "except Exception as e:\n",
    "    raise e\n",
    "\n",
    "\n",
    "short_only_df = neuron_replay_stats_df[neuron_replay_stats_df.track_membership == SplitPartitionMembership.RIGHT_ONLY]\n",
    "short_only_aclus = short_only_df.index.values.tolist()\n",
    "long_only_df = neuron_replay_stats_df[neuron_replay_stats_df.track_membership == SplitPartitionMembership.LEFT_ONLY]\n",
    "long_only_aclus = long_only_df.index.values.tolist()\n",
    "shared_df = neuron_replay_stats_df[neuron_replay_stats_df.track_membership == SplitPartitionMembership.SHARED]\n",
    "shared_aclus = shared_df.index.values.tolist()\n",
    "print(f'shared_aclus: {shared_aclus}')\n",
    "print(f'long_only_aclus: {long_only_aclus}')\n",
    "print(f'short_only_aclus: {short_only_aclus}')\n",
    "\n",
    "active_identifying_session_ctx = curr_active_pipeline.sess.get_context() # 'bapun_RatN_Day4_2019-10-15_11-30-06'"
   ]
  },
  {
   "cell_type": "code",
   "execution_count": null,
   "id": "a320d69e-23cc-4c14-b36c-d547757a3c70",
   "metadata": {},
   "outputs": [],
   "source": [
    "flat_relative_entropy_results.shape # (149, 63) - (nSnapshots, nXbins)"
   ]
  },
  {
   "cell_type": "code",
   "execution_count": null,
   "id": "a986997f-2862-46f9-881d-c4092433fb3b",
   "metadata": {},
   "outputs": [],
   "source": [
    "flat_jensen_shannon_distance_results.shape # (149, 63) - (nSnapshots, nXbins)"
   ]
  },
  {
   "cell_type": "code",
   "execution_count": null,
   "id": "8cc28ea8-9552-48a4-a976-62c1dd3bdb9f",
   "metadata": {},
   "outputs": [],
   "source": [
    "post_update_times.shape"
   ]
  },
  {
   "cell_type": "code",
   "execution_count": null,
   "id": "e1996503-2b3b-4623-a603-8918e37cb4f2",
   "metadata": {},
   "outputs": [],
   "source": [
    "\n",
    "# surprise_across_all_positions"
   ]
  },
  {
   "cell_type": "code",
   "execution_count": null,
   "id": "3cab241e-2656-46a0-9e14-03ae4701893b",
   "metadata": {},
   "outputs": [],
   "source": [
    "post_update_times.shape # (149,)"
   ]
  },
  {
   "cell_type": "code",
   "execution_count": null,
   "id": "caf8673a-bac6-404b-a4d7-7242eef630e1",
   "metadata": {},
   "outputs": [],
   "source": [
    "flat_relative_entropy_results"
   ]
  },
  {
   "cell_type": "code",
   "execution_count": null,
   "id": "08cdbdd9-8b43-4497-a351-d3e604ba8a41",
   "metadata": {},
   "outputs": [],
   "source": [
    "pf_overlap_results"
   ]
  },
  {
   "cell_type": "code",
   "execution_count": null,
   "id": "ae9a2c34-5cc2-4c42-ab6d-3beb2afd2a39",
   "metadata": {},
   "outputs": [],
   "source": [
    "difference_snapshots"
   ]
  },
  {
   "cell_type": "code",
   "execution_count": null,
   "id": "1b22f972-13b0-4c72-9d32-8238502d36d2",
   "metadata": {},
   "outputs": [],
   "source": [
    "curr_active_pipeline.display"
   ]
  },
  {
   "cell_type": "code",
   "execution_count": null,
   "id": "6bc27d20-67b4-42ff-80d2-4c9bf7122908",
   "metadata": {},
   "outputs": [],
   "source": [
    "%matplotlib qt\n",
    "import matplotlib as mpl\n",
    "import matplotlib.pyplot as plt\n",
    "def _simple_surprise_plot():\n",
    "    plt.plot(post_update_times, flat_relative_entropy_results)"
   ]
  },
  {
   "cell_type": "code",
   "execution_count": null,
   "id": "f365cea1-d9be-425f-80ef-436abace31de",
   "metadata": {},
   "outputs": [],
   "source": []
  },
  {
   "cell_type": "code",
   "execution_count": null,
   "id": "47b14a1f-a885-44e5-8267-78fa04444623",
   "metadata": {},
   "outputs": [],
   "source": [
    "plt.plot(post_update_times, flat_relative_entropy_results)"
   ]
  },
  {
   "cell_type": "code",
   "execution_count": null,
   "id": "329dfa38-76ee-4448-b6bb-13ad76c5dc71",
   "metadata": {},
   "outputs": [],
   "source": [
    "plt.plot(post_update_times.T, surprise_across_all_positions)"
   ]
  },
  {
   "cell_type": "code",
   "execution_count": null,
   "id": "455c53f5-26cf-4935-be1e-30ff7d0de486",
   "metadata": {},
   "outputs": [],
   "source": [
    "plt.plot(post_update_times.T, flat_jensen_shannon_distance_across_all_positions)"
   ]
  },
  {
   "cell_type": "code",
   "execution_count": null,
   "id": "2699a721-61dd-4006-9a9f-cceffa41bf87",
   "metadata": {},
   "outputs": [],
   "source": [
    "# flat_relative_entropy_results.shape # (1, 63)"
   ]
  },
  {
   "cell_type": "markdown",
   "id": "3c429125-a200-4d1a-937f-6a4c064cfef2",
   "metadata": {
    "incorrectly_encoded_metadata": "tags=[] jp-MarkdownHeadingCollapsed=true jp-MarkdownHeadingCollapsed=true",
    "tags": []
   },
   "source": [
    "## 🟢 2022-11-21 - 1D Ratemaps Before and After Track change (Long vs. Short track)\n",
    "Working metrics for comparing overlaps of 1D placefields before and after track change"
   ]
  },
  {
   "cell_type": "code",
   "execution_count": null,
   "id": "3e962f83-e751-411a-bf65-7bcfb400ac07",
   "metadata": {},
   "outputs": [],
   "source": [
    "long_one_step_decoder_1D.debug_dump_print()"
   ]
  },
  {
   "cell_type": "code",
   "execution_count": null,
   "id": "701c1af7-4dfe-4e19-a628-11a8f4f20d6b",
   "metadata": {},
   "outputs": [],
   "source": [
    "short_one_step_decoder_1D.debug_dump_print()"
   ]
  },
  {
   "cell_type": "code",
   "execution_count": null,
   "id": "f52d466a-3fde-457f-b27b-3f7c5adcdb25",
   "metadata": {},
   "outputs": [],
   "source": [
    "curr_active_pipeline.display('_display_plot_most_likely_position_comparisons', long_epoch_name) ## Current plot"
   ]
  },
  {
   "cell_type": "code",
   "execution_count": null,
   "id": "93d77613-5199-4006-b6e3-9571bfa8769f",
   "metadata": {
    "tags": []
   },
   "outputs": [],
   "source": [
    "from pyphoplacecellanalysis.General.Pipeline.Stages.DisplayFunctions.DecoderPredictionError import plot_spike_count_and_firing_rate_normalizations\n",
    "active_decoder = long_one_step_decoder_1D\n",
    "fig, axs = plot_spike_count_and_firing_rate_normalizations(active_decoder)"
   ]
  },
  {
   "cell_type": "markdown",
   "id": "44746620-37f2-4a2b-9e7e-0ba70a221ab0",
   "metadata": {
    "incorrectly_encoded_metadata": "tags=[] jp-MarkdownHeadingCollapsed=true"
   },
   "source": [
    "# 2022-09-23 Decoder Testing"
   ]
  },
  {
   "cell_type": "code",
   "execution_count": null,
   "id": "25dafe9c-808f-4b46-ab71-e1002d0ec71e",
   "metadata": {},
   "outputs": [],
   "source": [
    "from pyphoplacecellanalysis.General.Pipeline.Stages.DisplayFunctions.DecoderPredictionError import plot_most_likely_position_comparsions, plot_1D_most_likely_position_comparsions\n",
    "from pyphocorehelpers.print_helpers import print_value_overview_only, print_keys_if_possible, debug_dump_object_member_shapes, safe_get_variable_shape\n",
    "from pyphoplacecellanalysis.Analysis.Decoder.reconstruction import BayesianPlacemapPositionDecoder, Zhang_Two_Step\n",
    "from pyphocorehelpers.indexing_helpers import BinningInfo, compute_spanning_bins, get_bin_centers, get_bin_edges, debug_print_1D_bin_infos, interleave_elements, build_spanning_grid_matrix\n",
    "from pyphocorehelpers.indexing_helpers import build_spanning_grid_matrix\n",
    "# from pyphoplacecellanalysis.Pho2D.PyQtPlots.Extensions.pyqtgraph_helpers import stacked_epoch_basic_setup\n",
    "\n",
    "active_computation_config = curr_active_pipeline.active_configs[long_epoch_name].computation_config\n",
    "active_pf_1D = long_results.pf1D\n",
    "\n",
    "# active_computation_config.computation_config.pf_params"
   ]
  },
  {
   "cell_type": "code",
   "execution_count": null,
   "id": "94fd5e40-61fc-4e15-9390-5d449a85792b",
   "metadata": {},
   "outputs": [],
   "source": [
    "%pdb on\n",
    "## Build the new decoder with custom params:\n",
    "new_decoder_pf_params = deepcopy(active_computation_config.pf_params) # should be a PlacefieldComputationParameters\n",
    "# override some settings before computation:\n",
    "new_decoder_pf_params.time_bin_size = time_bin_size\n",
    "\n",
    "## 1D Decoder\n",
    "new_decoder_pf1D = active_pf_1D\n",
    "new_1D_decoder_spikes_df = new_decoder_pf1D.filtered_spikes_df.copy()\n",
    "# new_1D_decoder_spikes_df = new_1D_decoder_spikes_df.spikes.add_binned_time_column(manual_time_window_edges, manual_time_window_edges_binning_info, debug_print=False)\n",
    "# new_1D_decoder = BayesianPlacemapPositionDecoder(new_decoder_pf_params.time_bin_size, new_decoder_pf1D, new_1D_decoder_spikes_df, manual_time_window_edges=manual_time_window_edges, manual_time_window_edges_binning_info=manual_time_window_edges_binning_info, debug_print=False)\n",
    "new_1D_decoder = BayesianPlacemapPositionDecoder(new_decoder_pf_params.time_bin_size, new_decoder_pf1D, new_1D_decoder_spikes_df, debug_print=False)\n",
    "new_1D_decoder.compute_all() #  --> n = self.\n",
    "\n",
    "# long_results['pf1D_Decoder'] = BayesianPlacemapPositionDecoder(new_decoder_pf_params.time_bin_size, new_decoder_pf1D, new_decoder_pf1D.filtered_spikes_df.copy(), debug_print=False)\n",
    "# long_results['pf1D_Decoder'].compute_all() #  --> n = self.\n",
    "\n",
    "print(f'done!')\n",
    "\n",
    "# ## Custom Manual 2D Decoder:\n",
    "# new_decoder_pf2D = active_pf_2D # \n",
    "# new_decoder_spikes_df = new_decoder_pf2D.filtered_spikes_df.copy()\n",
    "# new_decoder_spikes_df = new_decoder_spikes_df.spikes.add_binned_time_column(manual_time_window_edges, manual_time_window_edges_binning_info, debug_print=False)\n",
    "# new_2D_decoder = BayesianPlacemapPositionDecoder(new_decoder_pf_params.time_bin_size, new_decoder_pf2D, new_decoder_spikes_df, manual_time_window_edges=manual_time_window_edges, manual_time_window_edges_binning_info=manual_time_window_edges_binning_info, debug_print=False)\n",
    "# new_2D_decoder.compute_all() #  --> n = self."
   ]
  },
  {
   "cell_type": "code",
   "execution_count": null,
   "id": "4d843e08-3ff9-4168-8431-8182dd8f750c",
   "metadata": {},
   "outputs": [],
   "source": [
    "# new_1D_decoder.p_x_given_n\n",
    "new_1D_decoder.most_likely_positions"
   ]
  },
  {
   "cell_type": "code",
   "execution_count": null,
   "id": "53269045-1f0f-44d3-aaac-9a825261bc5f",
   "metadata": {},
   "outputs": [],
   "source": [
    "long_one_step_decoder_1D.p_x_given_n"
   ]
  },
  {
   "cell_type": "code",
   "execution_count": null,
   "id": "5bdad90b-6dcc-440b-8f49-b9497a6e08e6",
   "metadata": {},
   "outputs": [],
   "source": []
  },
  {
   "cell_type": "code",
   "execution_count": null,
   "id": "556f657e-3b3e-4257-92c9-59d1cde7e56c",
   "metadata": {},
   "outputs": [],
   "source": []
  },
  {
   "cell_type": "code",
   "execution_count": null,
   "id": "093c42e4-b5a9-4e8d-bc76-ac4c41bbaa0a",
   "metadata": {},
   "outputs": [],
   "source": [
    "global_results.pf2D_Decoder.time_window_edges.shape # (62912,)"
   ]
  },
  {
   "cell_type": "code",
   "execution_count": null,
   "id": "68ec533c-311e-482a-beb6-2a4d751f7a64",
   "metadata": {},
   "outputs": [],
   "source": [
    "curr_active_pipeline.sess.spikes_df"
   ]
  },
  {
   "cell_type": "code",
   "execution_count": null,
   "id": "1ac5f589-e2f2-4349-bf29-7495eb0bed58",
   "metadata": {},
   "outputs": [],
   "source": [
    "global_results.pf2D_Decoder.spikes_df.binned_time"
   ]
  },
  {
   "cell_type": "code",
   "execution_count": null,
   "id": "d775893e-3217-4f39-b188-3f302d6c4b90",
   "metadata": {},
   "outputs": [],
   "source": [
    "from pyphoplacecellanalysis.General.Pipeline.Stages.ComputationFunctions.MultiContextComputationFunctions.MultiContextComputationFunctions import compute_relative_entropy_divergence_overlap\n",
    "\n",
    "relative_entropy_overlap_dict, relative_entropy_overlap_scalars_df = compute_relative_entropy_divergence_overlap(long_results, short_results, debug_print=False)\n",
    "relative_entropy_overlap_scalars_df\n",
    "\n",
    "aclu_keys = [k for k,v in relative_entropy_overlap_dict.items() if v is not None]\n",
    "# len(aclu_keys) # 101\n",
    "short_long_rel_entr_curves = np.vstack([v['short_long_rel_entr_curve'] for k,v in relative_entropy_overlap_dict.items() if v is not None])\n",
    "short_long_rel_entr_curves # .shape # (101, 63)"
   ]
  },
  {
   "cell_type": "markdown",
   "id": "4d68da28-5742-4ed8-9b84-d123c70c314e",
   "metadata": {
    "incorrectly_encoded_metadata": "jp-MarkdownHeadingCollapsed=true",
    "tags": []
   },
   "source": [
    "## 🔝 TODO 2022-12-20 - Get Dropping overlapping epochs (both literal duplicates and overlapping) working reliably:\n",
    "TODO: get visual/interactive helper working (it's in the matplotlib_helpers)"
   ]
  },
  {
   "cell_type": "code",
   "execution_count": null,
   "id": "51a8ab7e-b3ad-46c3-81a2-a43034bf0820",
   "metadata": {
    "tags": []
   },
   "outputs": [],
   "source": [
    "from neuropy.utils.efficient_interval_search import get_non_overlapping_epochs, drop_overlapping, get_overlapping_indicies, OverlappingIntervalsFallbackBehavior\n",
    "from neuropy.core.epoch import Epoch\n",
    "from pyphocorehelpers.print_helpers import print_object_memory_usage  # used in batch_snapshotting(...) to show object memory usage\n",
    "from neuropy.utils.matplotlib_helpers import plot_position_curves_figure # for plot_laps_2d\n",
    "from pyphoplacecellanalysis.PhoPositionalData.plotting.laps import plot_laps_2d\n",
    "fig, out_axes_list = plot_position_curves_figure(sess.position, include_velocity=True, include_accel=True, figsize=(24, 10))\n",
    "ax0 = out_axes_list[0]\n",
    "sess = curr_active_pipeline.sess"
   ]
  },
  {
   "cell_type": "code",
   "execution_count": null,
   "id": "ee6e3f49-7487-4439-83be-d6d458e262c8",
   "metadata": {
    "tags": []
   },
   "outputs": [],
   "source": [
    "from PendingNotebookCode import minGroups, merge, removeCoveredIntervals, eraseOverlapIntervals"
   ]
  },
  {
   "cell_type": "code",
   "execution_count": null,
   "id": "48d8f784-afef-441a-9afd-453e600ce075",
   "metadata": {
    "tags": []
   },
   "outputs": [],
   "source": [
    "epoch_tuples = [list(epoch_tuple) for epoch_tuple in curr_epochs_df[['start','stop']].itertuples(index=False)] # returns a flat list of interval tuples\n",
    "print(f'len(epoch_tuples): {len(epoch_tuples)}')"
   ]
  },
  {
   "cell_type": "code",
   "execution_count": null,
   "id": "5226d493-1355-4f65-ac19-fcf08527b1d3",
   "metadata": {
    "tags": []
   },
   "outputs": [],
   "source": [
    "curr_epochs_df"
   ]
  },
  {
   "cell_type": "code",
   "execution_count": null,
   "id": "af1eab29-fc54-43de-b79f-a37167ca1be8",
   "metadata": {
    "tags": []
   },
   "outputs": [],
   "source": [
    "is_duplicated_epoch = curr_epochs_df.duplicated(subset=['start','stop'], keep='first')\n",
    "curr_epochs_df[is_duplicated_epoch]\n",
    "# curr_epochs_df[np.logical_not(is_duplicated_epoch)]"
   ]
  },
  {
   "cell_type": "code",
   "execution_count": null,
   "id": "2ddd42ca-4fba-4da9-9022-6108cebae6fc",
   "metadata": {
    "tags": []
   },
   "outputs": [],
   "source": [
    "df = deepcopy(curr_epochs_df)\n",
    "df['index_original'] = df.groupby(['start','stop']).start.transform('idxmin')\n",
    "df[df.duplicated(subset=['start','stop'], keep='first')]"
   ]
  },
  {
   "cell_type": "code",
   "execution_count": null,
   "id": "fd9c5679-1645-4c67-bc01-a5ea6e3849c0",
   "metadata": {
    "tags": []
   },
   "outputs": [],
   "source": [
    "curr_epochs_df['integer_label'] = curr_epochs_df['label'].astype('int')\n",
    "curr_epochs_df"
   ]
  },
  {
   "cell_type": "code",
   "execution_count": null,
   "id": "5f12f1bf-d3e0-4e23-8a11-0538f35f805e",
   "metadata": {
    "tags": []
   },
   "outputs": [],
   "source": [
    "curr_epochs_df.sort_values(by='integer_label')"
   ]
  },
  {
   "cell_type": "code",
   "execution_count": null,
   "id": "679edafd-1538-43ff-9a64-73839f1655f5",
   "metadata": {
    "tags": []
   },
   "outputs": [],
   "source": [
    "min_groups_epoch_tuples = minGroups(epoch_tuples)\n",
    "min_groups_epoch_tuples"
   ]
  },
  {
   "cell_type": "code",
   "execution_count": null,
   "id": "79a2c699-5263-4e26-976c-f096c94c4215",
   "metadata": {
    "tags": []
   },
   "outputs": [],
   "source": [
    "print(f'len(min_groups_epoch_tuples): {len(min_groups_epoch_tuples)}')"
   ]
  },
  {
   "cell_type": "code",
   "execution_count": null,
   "id": "9c28a7dd-1c4d-4192-99c7-90e6ff9eb659",
   "metadata": {
    "tags": []
   },
   "outputs": [],
   "source": [
    "merged_epoch_tuples = merge(epoch_tuples)\n",
    "print(f'len(merged_epoch_tuples): {len(merged_epoch_tuples)}')"
   ]
  },
  {
   "cell_type": "code",
   "execution_count": null,
   "id": "66ff4520-462b-4e86-a36c-80a970d9ae8e",
   "metadata": {
    "tags": []
   },
   "outputs": [],
   "source": [
    "covered_intervals_removed_epoch_tuples = removeCoveredIntervals(epoch_tuples)\n",
    "print(f'len(covered_intervals_removed_epoch_tuples): {len(covered_intervals_removed_epoch_tuples)}')"
   ]
  },
  {
   "cell_type": "code",
   "execution_count": null,
   "id": "1b4494e0-8753-4ab3-bc05-19a401a82666",
   "metadata": {
    "tags": []
   },
   "outputs": [],
   "source": [
    "def debug_overlapping_epochs(epochs_df):\n",
    "    \"\"\"\n",
    "    from neuropy.utils.efficient_interval_search import get_non_overlapping_epochs, drop_overlapping, get_overlapping_indicies, OverlappingIntervalsFallbackBehavior\n",
    "    curr_epochs_obj = deepcopy(sess.ripple)\n",
    "    debug_overlapping_epochs(curr_epochs_obj.to_dataframe())\n",
    "    \n",
    "    \"\"\"\n",
    "    start_stop_times_arr = np.vstack([epochs_df.epochs.starts, epochs_df.epochs.stops]).T # (80, 2)\n",
    "    # start_stop_times_arr.shape\n",
    "    all_overlapping_lap_indicies = get_overlapping_indicies(start_stop_times_arr)\n",
    "    n_total_epochs = start_stop_times_arr.shape[0]\n",
    "    n_overlapping = len(all_overlapping_lap_indicies)\n",
    "    print(f'n_overlapping: {n_overlapping} of n_total_epochs: {n_total_epochs}')\n",
    "    return all_overlapping_lap_indicies\n",
    "\n",
    "curr_epochs_obj = deepcopy(sess.ripple)\n",
    "curr_epochs_df = curr_epochs_obj.to_dataframe()\n",
    "all_overlapping_lap_indicies = debug_overlapping_epochs(curr_epochs_df)"
   ]
  },
  {
   "cell_type": "code",
   "execution_count": null,
   "id": "b3509065-0923-48c6-b763-29737b1edb68",
   "metadata": {
    "tags": []
   },
   "outputs": [],
   "source": [
    "curr_epochs_df.iloc[all_overlapping_lap_indicies, :]"
   ]
  },
  {
   "cell_type": "markdown",
   "id": "71b049ad-d01c-48ec-bd1f-9efacede7ee3",
   "metadata": {
    "incorrectly_encoded_metadata": "jp-MarkdownHeadingCollapsed=true",
    "tags": []
   },
   "source": [
    "### 2022-12-18 - Short Non-Overlapping Intervals Detour:"
   ]
  },
  {
   "cell_type": "code",
   "execution_count": null,
   "id": "7fe3f755-c387-4d25-bb97-711d19037762",
   "metadata": {},
   "outputs": [],
   "source": [
    "curr_epochs_obj = deepcopy(sess.laps)"
   ]
  },
  {
   "cell_type": "code",
   "execution_count": null,
   "id": "1b6052a8-59f0-4ad8-981b-5a681f9b21b7",
   "metadata": {},
   "outputs": [],
   "source": [
    "curr_epochs_obj = deepcopy(sess.ripple)\n",
    "curr_epochs_obj.to_dataframe()"
   ]
  },
  {
   "cell_type": "code",
   "execution_count": null,
   "id": "115ed500-f613-4915-960e-5c1160ef0cae",
   "metadata": {},
   "outputs": [],
   "source": []
  },
  {
   "cell_type": "code",
   "execution_count": null,
   "id": "b0bfb7c2-98d0-4e49-8117-12293f46cff6",
   "metadata": {},
   "outputs": [],
   "source": [
    "fig, out_axes_list = plot_laps_2d(sess, legacy_plotting_mode=False)\n",
    "out_axes_list[0].set_title('New Pho Position Thresholding Estimated Laps')"
   ]
  },
  {
   "cell_type": "code",
   "execution_count": null,
   "id": "8da94af3-49ad-435c-bd5e-11b217b63015",
   "metadata": {
    "lines_to_next_cell": 2
   },
   "outputs": [],
   "source": [
    "non_overlapping_start_stop_times_arr = split_overlapping_intervals(start_stop_times_arr)\n",
    "non_overlapping_start_stop_times_arr.shape # (75, 2)"
   ]
  },
  {
   "cell_type": "code",
   "execution_count": null,
   "id": "9a9284e7-4969-49ca-b5ef-935a812d9084",
   "metadata": {},
   "outputs": [],
   "source": [
    "## Get overlap intervals between all_overlapping lap_indicies:\n",
    "np.intersect1d("
   ]
  },
  {
   "cell_type": "code",
   "execution_count": null,
   "id": "ab44ff03-dd61-4e18-b75f-2739bb562918",
   "metadata": {},
   "outputs": [],
   "source": []
  },
  {
   "cell_type": "code",
   "execution_count": null,
   "id": "1f9ed6db-1220-4b2e-b0ec-2025a1316ec8",
   "metadata": {},
   "outputs": [],
   "source": [
    "overlapping_laps_obj = curr_laps_obj.filtered_by_lap_flat_index(overlapping_lap_indicies)\n",
    "overlapping_laps_obj.to_dataframe()"
   ]
  },
  {
   "cell_type": "code",
   "execution_count": null,
   "id": "b6155743-1813-49e4-8cf6-b8eaf70f5357",
   "metadata": {},
   "outputs": [],
   "source": [
    "overlapping_lap_indicies"
   ]
  },
  {
   "cell_type": "code",
   "execution_count": null,
   "id": "97dfb9e1-12ee-453f-817b-4aeef01e2120",
   "metadata": {},
   "outputs": [],
   "source": [
    "following_overlapping_lap"
   ]
  },
  {
   "cell_type": "code",
   "execution_count": null,
   "id": "3531257e-726a-4168-a02c-d71092508c31",
   "metadata": {},
   "outputs": [],
   "source": [
    "# Get the \"good\" (non-overlapping) laps only, dropping the rest:\n",
    "is_good_epoch = np.full((np.shape(start_stop_times_arr)[0],), True)"
   ]
  },
  {
   "cell_type": "markdown",
   "id": "299b561e-5dc5-421e-90b9-92b2d227ab5c",
   "metadata": {
    "incorrectly_encoded_metadata": "jp-MarkdownHeadingCollapsed=true",
    "tags": []
   },
   "source": [
    "### 2022-12-13 way of dropping bad laps"
   ]
  },
  {
   "cell_type": "code",
   "execution_count": null,
   "id": "1b7b7126-83dc-43d4-ba7f-b3b97b52ff4a",
   "metadata": {
    "tags": []
   },
   "outputs": [],
   "source": [
    "from neuropy.analyses.laps import _build_new_lap_and_intra_lap_intervals # for _perform_time_dependent_pf_sequential_surprise_computation\n",
    "sess, combined_records_list = _build_new_lap_and_intra_lap_intervals(sess)"
   ]
  },
  {
   "cell_type": "markdown",
   "id": "49c95b1d-2a47-4e3c-b8ee-d439198e9a7d",
   "metadata": {
    "incorrectly_encoded_metadata": "jp-MarkdownHeadingCollapsed=true tags=[] jp-MarkdownHeadingCollapsed=true"
   },
   "source": [
    "## `active_pf_nD`, `active_pf_nD_dt` visualizations"
   ]
  },
  {
   "cell_type": "code",
   "execution_count": null,
   "id": "64faa259-d3fa-4df0-8f65-d3fc20132314",
   "metadata": {},
   "outputs": [],
   "source": [
    "from pyphoplacecellanalysis.Pho2D.PyQtPlots.TimeSynchronizedPlotters.TimeSynchronizedOccupancyPlotter import TimeSynchronizedOccupancyPlotter\n",
    "\n",
    "curr_sync_occupancy_plotter = TimeSynchronizedOccupancyPlotter(active_pf_2D_dt)\n",
    "curr_sync_occupancy_plotter.show()"
   ]
  },
  {
   "cell_type": "code",
   "execution_count": null,
   "id": "cab755fe-3b7a-4797-bafd-d33d666c84b3",
   "metadata": {},
   "outputs": [],
   "source": [
    "active_pf_1D_dt.plot_ratemaps_1D(**({'subplots': (None, 9), 'resolution_multiplier': 1.0, 'enable_spike_overlay': False}));"
   ]
  },
  {
   "cell_type": "code",
   "execution_count": null,
   "id": "27682783-c1f0-487b-abda-231d0faf7de7",
   "metadata": {},
   "outputs": [],
   "source": [
    "active_pf_1D.plot_ratemaps_1D(**({'subplots': (None, 9), 'resolution_multiplier': 1.0, 'enable_spike_overlay': False}));"
   ]
  },
  {
   "cell_type": "code",
   "execution_count": null,
   "id": "bf582372-8835-4cad-ba36-6478441d195d",
   "metadata": {},
   "outputs": [],
   "source": [
    "active_pf_2D_dt.update(t=3000000.0)"
   ]
  },
  {
   "cell_type": "code",
   "execution_count": null,
   "id": "8273f9b8-5e95-4713-97ca-02cc5843644d",
   "metadata": {},
   "outputs": [],
   "source": [
    "active_pf_2D_dt.plot_ratemaps_2D(**({'subplots': (None, 9), 'resolution_multiplier': 1.0, 'enable_spike_overlay': False}));"
   ]
  },
  {
   "cell_type": "code",
   "execution_count": null,
   "id": "f4ef9219-087b-43df-a56f-d640385b9374",
   "metadata": {},
   "outputs": [],
   "source": [
    "active_pf_2D.plot_ratemaps_2D(**({'subplots': (None, 9), 'resolution_multiplier': 1.0, 'enable_spike_overlay': False}));"
   ]
  },
  {
   "cell_type": "code",
   "execution_count": null,
   "id": "ec0e0852-84c1-4e02-bae8-6e59d079c122",
   "metadata": {},
   "outputs": [],
   "source": [
    "active_pf_2D_dt.plot_ratemaps_2D(**({'subplots': (None, 9), 'resolution_multiplier': 1.0, 'enable_spike_overlay': False}))"
   ]
  },
  {
   "cell_type": "code",
   "execution_count": null,
   "id": "00ba5ca1-5263-4ed6-b7fa-ea1cba869715",
   "metadata": {},
   "outputs": [],
   "source": [
    "active_pf_2D.plot_ratemaps_2D(**({'subplots': (None, 9), 'resolution_multiplier': 1.0, 'enable_spike_overlay': False}))"
   ]
  },
  {
   "cell_type": "markdown",
   "id": "6d633f44-df72-4e3c-a1c2-4272558f508d",
   "metadata": {
    "incorrectly_encoded_metadata": "jp-MarkdownHeadingCollapsed=true",
    "tags": []
   },
   "source": [
    "## Laps and `stacked_epoch_slices_view`"
   ]
  },
  {
   "cell_type": "code",
   "execution_count": null,
   "id": "0a571409-905a-4107-8978-fe77e5c1632f",
   "metadata": {},
   "outputs": [],
   "source": [
    "from pyphoplacecellanalysis.GUI.PyVista.InteractivePlotter.Mixins.LapsVisualizationMixin import LapsVisualizationMixin\n",
    "from pyphoplacecellanalysis.Pho2D.stacked_epoch_slices import stacked_epoch_slices_view, stacked_epoch_slices_view_viewbox\n",
    "\n",
    "sess = curr_active_pipeline.sess\n",
    "curr_position_df, lap_specific_position_dfs = LapsVisualizationMixin._compute_laps_specific_position_dfs(sess)\n",
    "lap_specific_position_dfs = [curr_position_df.groupby('lap').get_group(i)[['t','x','y','lin_pos']] for i in sess.laps.lap_id] # dataframes split for each ID:\n",
    "laps_position_times_list = [np.squeeze(lap_pos_df[['t']].to_numpy()) for lap_pos_df in lap_specific_position_dfs]\n",
    "laps_position_traces_list = [lap_pos_df[['x','y']].to_numpy().T for lap_pos_df in lap_specific_position_dfs]\n",
    "\n",
    "## Build Epochs:\n",
    "epochs = sess.laps.to_dataframe()\n",
    "epoch_slices = epochs[['start', 'stop']].to_numpy()\n",
    "epoch_description_list = [f'lap {epoch_tuple.lap_id} (maze: {epoch_tuple.maze_id}, direction: {epoch_tuple.lap_dir})' for epoch_tuple in epochs[['lap_id','maze_id','lap_dir']].itertuples()]\n",
    "# print(f'epoch_description_list: {epoch_description_list}') # epoch_descriptions: ['lap 41 (maze: 2, direction: 1)', 'lap 42 (maze: 2, direction: 0)', ..., 'lap 79 (maze: 2, direction: 1)']\n",
    "\n",
    "stacked_epoch_slices_view_laps_containers = stacked_epoch_slices_view(epoch_slices, laps_position_times_list, laps_position_traces_list, epoch_description_list, name='stacked_epoch_slices_view_laps')\n",
    "# params, plots_data, plots, ui = stacked_epoch_slices_view_laps_containers"
   ]
  },
  {
   "cell_type": "code",
   "execution_count": null,
   "id": "fc8f8e4b-bcc9-475f-afd6-1ad6203f1f66",
   "metadata": {},
   "outputs": [],
   "source": [
    "from neuropy.analyses.laps import estimation_session_laps, _subfn_perform_estimate_lap_splits_1D # for estimation_session_laps"
   ]
  },
  {
   "cell_type": "code",
   "execution_count": null,
   "id": "f287d35b-60ef-40f4-9288-50cc215e5e64",
   "metadata": {},
   "outputs": [],
   "source": [
    "estimation_session_laps(curr_active_pipeline.sess, should_plot_laps_2d=True)"
   ]
  },
  {
   "cell_type": "code",
   "execution_count": null,
   "id": "67dff39a-2af8-48cb-9158-78dd8377569e",
   "metadata": {},
   "outputs": [],
   "source": [
    "from neuropy.utils.matplotlib_helpers import plot_overlapping_epoch_analysis_diagnoser\n",
    "\n",
    "fig, out_axes_list = plot_overlapping_epoch_analysis_diagnoser(sess.position, curr_active_pipeline.sess.laps.as_epoch_obj())\n",
    "        "
   ]
  },
  {
   "cell_type": "code",
   "execution_count": null,
   "id": "e4bbf355-7ec0-4bd4-9ea8-5a5e17953ed6",
   "metadata": {},
   "outputs": [],
   "source": [
    "out_axes_list"
   ]
  },
  {
   "cell_type": "code",
   "execution_count": null,
   "id": "24558cc4-f2eb-4549-b64d-8a42dc6d2216",
   "metadata": {},
   "outputs": [],
   "source": [
    "from pyphoplacecellanalysis.PhoPositionalData.plotting.laps import plot_laps_2d\n",
    "\n",
    "fig, out_axes_list = plot_laps_2d(curr_active_pipeline.sess, legacy_plotting_mode=True)\n",
    "out_axes_list[0].set_title('New Pho Position Thresholding Estimated Laps')\n",
    "fig.show()"
   ]
  },
  {
   "cell_type": "markdown",
   "id": "0da52937-6578-45f4-8b07-a11c1f990cc0",
   "metadata": {
    "incorrectly_encoded_metadata": "tags=[] jp-MarkdownHeadingCollapsed=true"
   },
   "source": [
    "### PyQtGraph attempt to display better laps/epochs for debugging using LinearRegionItem"
   ]
  },
  {
   "cell_type": "code",
   "execution_count": null,
   "id": "c41a6b61-a6f0-4b42-847e-ba1352ed161d",
   "metadata": {},
   "outputs": [],
   "source": [
    "LinearRegionItem"
   ]
  },
  {
   "cell_type": "code",
   "execution_count": null,
   "id": "076f63af-e630-4c20-9b14-2ef673dd0dfd",
   "metadata": {},
   "outputs": [],
   "source": [
    "VTickGroup"
   ]
  },
  {
   "cell_type": "code",
   "execution_count": null,
   "id": "7fbfc4c6-8b45-4f07-ab1b-c433de832c6f",
   "metadata": {},
   "outputs": [],
   "source": [
    "import pyphoplacecellanalysis.External.pyqtgraph as pg\n",
    "from pyphoplacecellanalysis.External.pyqtgraph.Qt import QtCore, QtGui, QtWidgets\n",
    "from pyphoplacecellanalysis.GUI.PyQtPlot.Widgets.GraphicsObjects.CustomLinearRegionItem import CustomLinearRegionItem"
   ]
  },
  {
   "cell_type": "code",
   "execution_count": null,
   "id": "61151f9a-5561-42b8-8957-97c8ea804b9f",
   "metadata": {},
   "outputs": [],
   "source": [
    "position_obj = curr_active_pipeline.sess.position\n",
    "include_velocity=True\n",
    "include_accel=False\n",
    "\n",
    "num_subplots = 1\n",
    "# out_axes_list = []\n",
    "out_canvas_list = []\n",
    "out_curve_list = []\n",
    "\n",
    "if include_velocity:\n",
    "    num_subplots = num_subplots + 1\n",
    "if include_accel:\n",
    "    num_subplots = num_subplots + 1\n",
    "\n",
    "# app = pg.mkQApp()\n",
    "mw = QtWidgets.QMainWindow()\n",
    "mw.setWindowTitle('Position Curves With Laps')\n",
    "mw.resize(1200, 800)\n",
    "\n",
    "view = pg.GraphicsLayoutWidget()  ## GraphicsView with GraphicsLayout inserted by default\n",
    "mw.setCentralWidget(view)\n",
    "# cw = QtWidgets.QWidget()\n",
    "# mw.setCentralWidget(cw)\n",
    "# l = QtWidgets.QVBoxLayout()\n",
    "# cw.setLayout(l)\n",
    "mw.show()\n",
    "mw.setWindowTitle('Position Plot with Laps')"
   ]
  },
  {
   "cell_type": "code",
   "execution_count": null,
   "id": "6120bd95-31a4-4591-a62a-13ee21f4c4c1",
   "metadata": {},
   "outputs": [],
   "source": [
    "new_canvas = view.addPlot(title=\"Position\")\n",
    "new_canvas.showGrid(x = True, y = True)\n",
    "new_canvas.setLabel('left', \"Position\")\n",
    "new_canvas.setLabel('bottom', \"Time\")\n",
    "new_curve = new_canvas.plot(pen=pen, symbolBrush=symbolBrush, symbolSize=symbolSize)\n",
    "new_curve.setData(x=xData, y=yData)\n",
    "\n",
    "# s1 = pg.ScatterPlotItem(size=10, pen='k', symbolBrush=(255,0,0), symbolPen='w', brush=pg.mkBrush(255, 255, 255, 120))\n",
    "# l1 = pg.PlotDataItem(antialias=True, pen=pen_aps_model)\n",
    "# pg.LineSegmentROI(size\n",
    "# .plot(np.random.normal(size=100), pen=(200,200,200), symbolBrush=(255,0,0), symbolPen='w')\n",
    "\n",
    "def build_spot_data(pos):\n",
    "    spots = [{'pos': pos[:,i], 'data': 1} for i in range(np.shape(pos)[1])] # + [{'pos': [0,0], 'data': 1}]\n",
    "    return spots\n",
    "    \n",
    "spots = build_spot_data(test_points)\n",
    "s1.addPoints(spots)\n",
    "w1.addItem(s1)\n",
    "# s1.sigClicked.connect(clicked)\n",
    "\n",
    "# mw.show()\n",
    "\n",
    "app.exec()\n"
   ]
  },
  {
   "cell_type": "code",
   "execution_count": null,
   "id": "c294da92-f837-48b0-b021-f10ea9888fd5",
   "metadata": {},
   "outputs": [],
   "source": [
    "new_canvas = view.addPlot(title=\"Position\")\n",
    "new_canvas.showGrid(x = True, y = True)\n",
    "new_canvas.setLabel('left', \"Position\")\n",
    "new_canvas.setLabel('bottom', \"Time\")\n",
    "out_canvas_list.append(new_canvas)\n",
    "new_curve = new_canvas.plot(pen=pen, symbolBrush=symbolBrush, symbolSize=symbolSize)\n",
    "new_curve.setData(x=position_obj.time, y=position_obj._data['velocity_x_smooth'])\n",
    "out_curve_list.append(new_curve)\n",
    "app.exec()"
   ]
  },
  {
   "cell_type": "code",
   "execution_count": null,
   "id": "c705870b-aed2-4f8f-b3a9-febb292b82de",
   "metadata": {
    "lines_to_next_cell": 0
   },
   "outputs": [],
   "source": [
    "pw = pg.PlotWidget()  ## giving the plots names allows us to link their axes together\n",
    "l.addWidget(pw)\n",
    "# pw.setLabel('left', 'Position')\n",
    "# pw.setLabel('bottom', 'Time', units='s')\n",
    "# out_axes_list.append(pw)\n",
    "\n",
    "\n",
    "\n",
    "# # p1 = pw1.plot()\n",
    "# # p1.setPen((200,200,100))    \n",
    "# # pw.plot(position_obj.time, position_obj._data['velocity_x_smooth'], 'k')\n",
    "\n",
    "# if include_velocity:\n",
    "#     pw2 = pg.PlotWidget(name='Velocity')\n",
    "#     l.addWidget(pw2)\n",
    "#     pw2.setLabel('left', 'Velocity')\n",
    "#     pw2.setLabel('bottom', 'Time', units='s')\n",
    "#     out_axes_list.append(pw2)\n",
    "#     # p2 = pw2.plot()\n",
    "#     # p2.setPen((200,200,100))\n",
    "\n",
    "# if include_accel:\n",
    "#     pw3 = pg.PlotWidget()\n",
    "#     l.addWidget(pw3)\n",
    "#     pw3.setLabel('left', 'Accel.')\n",
    "#     pw3.setLabel('bottom', 'Time', units='s')\n",
    "#     out_axes_list.append(p3)"
   ]
  },
  {
   "cell_type": "code",
   "execution_count": null,
   "id": "ac7b8ed1-d93a-44b5-9648-8861988d04a0",
   "metadata": {},
   "outputs": [],
   "source": [
    "mw.show()"
   ]
  },
  {
   "cell_type": "code",
   "execution_count": null,
   "id": "2d3b171c-8244-4f8f-816b-b9ffa60d4b63",
   "metadata": {},
   "outputs": [],
   "source": [
    "mw.close()"
   ]
  },
  {
   "cell_type": "code",
   "execution_count": null,
   "id": "066ef567-c86d-4c6e-a84d-689a7f5175a4",
   "metadata": {},
   "outputs": [],
   "source": [
    "## Create an empty plot curve to be filled later, set its pen\n",
    "p1 = pw.plot()\n",
    "p1.setPen((200,200,100))\n",
    "\n",
    "## Add in some extra graphics\n",
    "rect = QtWidgets.QGraphicsRectItem(QtCore.QRectF(0, 0, 1, 5e-11))\n",
    "rect.setPen(pg.mkPen(100, 200, 100))\n",
    "pw.addItem(rect)\n",
    "\n",
    "pw.setLabel('left', 'Position', units='V')\n",
    "pw.setLabel('bottom', 'Time', units='s')\n",
    "pw.setXRange(0, 2)\n",
    "pw.setYRange(0, 1e-10)\n",
    "\n",
    "\n",
    "new_curves_separate_plot = target_graphics_layout_widget.addPlot(row=row, col=col, rowspan=rowspan, colspan=colspan) # PlotItem\n",
    "new_curves_separate_plot.setObjectName(name)\n",
    "\n",
    "# Setup axes bounds for the bottom windowed plot:\n",
    "# new_curves_separate_plot.hideAxis('left')\n",
    "new_curves_separate_plot.showAxis('left')\n",
    "new_curves_separate_plot.hideAxis('bottom') # hide the shared time axis since it's synced with the other plot\n",
    "# new_curves_separate_plot.showAxis('bottom')\n",
    "\n",
    "new_curves_separate_plot.setMouseEnabled(x=False, y=True)\n",
    "\n",
    "# # setup the new_curves_separate_plot to have a linked X-axis to the other scroll plot:\n",
    "main_plot_widget = self.plots.main_plot_widget # PlotItem\n",
    "new_curves_separate_plot.setXLink(main_plot_widget) # works to synchronize the main zoomed plot (current window) with the epoch_rect_separate_plot (rectangles plotter)\n",
    "\n",
    "\n",
    "main_time_curves_view_widget = \n",
    "# def ScrollRasterPreviewWindow_on_BuildUI(self, background_static_scroll_window_plot):\n",
    "\n",
    "#         # Common Tick Label\n",
    "#         vtick = QtGui.QPainterPath()\n",
    "#         vtick.moveTo(0, -0.5)\n",
    "#         vtick.lineTo(0, 0.5)\n",
    "        \n",
    "#         #############################\n",
    "#         ## Bottom Windowed Scroll Plot/Widget:\n",
    "\n",
    "#         # ALL Spikes in the preview window:\n",
    "#         curr_spike_x, curr_spike_y, curr_spike_pens, self.plots_data.all_spots, curr_n = self._build_all_spikes_data_values()\n",
    "        \n",
    "#         self.plots.preview_overview_scatter_plot = pg.ScatterPlotItem(name='spikeRasterOverviewWindowScatterPlotItem', pxMode=True, symbol=vtick, size=5, pen={'color': 'w', 'width': 1})\n",
    "#         self.plots.preview_overview_scatter_plot.setObjectName('preview_overview_scatter_plot') # this seems necissary, the 'name' parameter in addPlot(...) seems to only change some internal property related to the legend AND drastically slows down the plotting\n",
    "#         self.plots.preview_overview_scatter_plot.opts['useCache'] = True\n",
    "#         self.plots.preview_overview_scatter_plot.addPoints(self.plots_data.all_spots) # , hoverable=True\n",
    "#         background_static_scroll_window_plot.addItem(self.plots.preview_overview_scatter_plot)\n",
    "        \n",
    "#         # Add the linear region overlay:\n",
    "#         # self.ui.scroll_window_region = pg.LinearRegionItem(pen=pg.mkPen('#fff'), brush=pg.mkBrush('#f004'), hoverBrush=pg.mkBrush('#fff4'), hoverPen=pg.mkPen('#f00'), clipItem=self.plots.preview_overview_scatter_plot) # bound the LinearRegionItem to the plotted data\n",
    "        \n",
    "#         self.ui.scroll_window_region = CustomLinearRegionItem(pen=pg.mkPen('#fff'), brush=pg.mkBrush('#f004'), hoverBrush=pg.mkBrush('#fff4'), hoverPen=pg.mkPen('#f00'), clipItem=self.plots.preview_overview_scatter_plot) # bound the LinearRegionItem to the plotted data\n",
    "#         self.ui.scroll_window_region.setObjectName('scroll_window_region')\n",
    "#         self.ui.scroll_window_region.setZValue(10)\n",
    "#         # Add the LinearRegionItem to the ViewBox, but tell the ViewBox to exclude this item when doing auto-range calculations.\n",
    "#         background_static_scroll_window_plot.addItem(self.ui.scroll_window_region, ignoreBounds=True)\n",
    "#         self.ui.scroll_window_region.sigRegionChanged.connect(self._Render2DScrollWindowPlot_on_linear_region_item_update)\n",
    "\n",
    "        \n",
    "#         # Setup axes bounds for the bottom windowed plot:\n",
    "#         background_static_scroll_window_plot.hideAxis('left')\n",
    "#         background_static_scroll_window_plot.hideAxis('bottom')\n",
    "#         # background_static_scroll_window_plot.setLabel('bottom', 'Time', units='s')\n",
    "#         background_static_scroll_window_plot.setMouseEnabled(x=False, y=False)\n",
    "#         background_static_scroll_window_plot.disableAutoRange('xy')\n",
    "#         # background_static_scroll_window_plot.enableAutoRange(x=False, y=False)\n",
    "#         background_static_scroll_window_plot.setAutoVisible(x=False, y=False)\n",
    "#         background_static_scroll_window_plot.setAutoPan(x=False, y=False)\n",
    "        \n",
    "#         # Setup range for plot:\n",
    "#         earliest_t, latest_t = self.spikes_window.total_df_start_end_times\n",
    "#         background_static_scroll_window_plot.setXRange(earliest_t, latest_t, padding=0)\n",
    "#         background_static_scroll_window_plot.setYRange(np.nanmin(curr_spike_y), np.nanmax(curr_spike_y), padding=0)\n",
    "        \n",
    "#         return background_static_scroll_window_plot"
   ]
  },
  {
   "cell_type": "markdown",
   "id": "98e91056-1683-41bd-8dd1-561a182ae9d3",
   "metadata": {
    "incorrectly_encoded_metadata": "tags=[] jp-MarkdownHeadingCollapsed=true"
   },
   "source": [
    "### Approach: try to compute brand-new laps using estimation_session_laps(sess):"
   ]
  },
  {
   "cell_type": "code",
   "execution_count": null,
   "id": "a9f9df68-e032-4176-9381-5deb899b87f5",
   "metadata": {},
   "outputs": [],
   "source": [
    "import matplotlib.pyplot as plt\n",
    "from neuropy.utils.misc import is_iterable\n",
    "from neuropy.plotting.figure import pretty_plot\n",
    "from scipy.ndimage import gaussian_filter, gaussian_filter1d, interpolation\n",
    "\n",
    "from neuropy.analyses.laps import estimation_session_laps # Newest pho laps estimation\n",
    "from pyphoplacecellanalysis.Analysis.reliability import compute_lap_to_lap_reliability\n",
    "\n",
    "from neuropy.utils.matplotlib_helpers import plot_position_curves_figure # for plot_laps_2d\n",
    "from pyphoplacecellanalysis.PhoPositionalData.plotting.laps import plot_laps_2d\n",
    "\n",
    "curr_result_label = 'maze1'\n",
    "sess = curr_active_pipeline.filtered_sessions[curr_result_label]\n",
    "sess = curr_active_pipeline.sess"
   ]
  },
  {
   "cell_type": "code",
   "execution_count": null,
   "id": "9a7fc341-809b-4ca8-a67d-6aa54c0466bc",
   "metadata": {},
   "outputs": [],
   "source": [
    "# sess = estimation_session_laps(sess)"
   ]
  },
  {
   "cell_type": "code",
   "execution_count": null,
   "id": "d608ab32-6ddc-4cd3-92eb-02fd41333906",
   "metadata": {},
   "outputs": [],
   "source": [
    "active_pf_1D_dt.snapshot()"
   ]
  },
  {
   "cell_type": "code",
   "execution_count": null,
   "id": "73669756-4a9d-4bc7-8d41-72d4d807104d",
   "metadata": {},
   "outputs": [],
   "source": [
    "even_lap_specific_epochs.to_dataframe()"
   ]
  },
  {
   "cell_type": "code",
   "execution_count": null,
   "id": "6c67af28-8cd8-46e8-a683-7e2f4ccd8a76",
   "metadata": {},
   "outputs": [],
   "source": [
    "curr_active_pipeline.sess.laps.to_dataframe()"
   ]
  },
  {
   "cell_type": "code",
   "execution_count": null,
   "id": "bab47e75-79d4-419e-b181-8ca27e277d66",
   "metadata": {},
   "outputs": [],
   "source": [
    "pos_df = sess.position.to_dataframe()\n",
    "hardcoded_track_midpoint_x = 150.0"
   ]
  },
  {
   "cell_type": "code",
   "execution_count": null,
   "id": "f881cd5d-2dcd-42bc-ae8f-3bb67daf3c1b",
   "metadata": {},
   "outputs": [],
   "source": [
    "pos_df.x.aggregate(['nanmin','mean', 'median','nanmax'])"
   ]
  },
  {
   "cell_type": "code",
   "execution_count": null,
   "id": "62324d83-c5da-40cc-ae99-37771b916c28",
   "metadata": {},
   "outputs": [],
   "source": [
    "# %pdb off\n",
    "fig, out_axes_list = _plot_position_curves_figure(sess.position, include_velocity=True, include_accel=False, figsize=(24, 10))\n",
    "ax0 = out_axes_list[0]"
   ]
  },
  {
   "cell_type": "code",
   "execution_count": null,
   "id": "1d9ee62a-91c9-4ac9-b1fc-92586c8d82ff",
   "metadata": {},
   "outputs": [],
   "source": [
    "curr_laps = sess.laps\n",
    "curr_laps.from_estimated_laps()"
   ]
  },
  {
   "cell_type": "code",
   "execution_count": null,
   "id": "273e02a3-057c-44cb-bc6f-44e7baadc567",
   "metadata": {},
   "outputs": [],
   "source": [
    "curr_laps_df = sess.laps.to_dataframe()\n",
    "curr_laps_df"
   ]
  },
  {
   "cell_type": "code",
   "execution_count": null,
   "id": "2ec15352-ca62-4be7-952e-128f8b7dde45",
   "metadata": {},
   "outputs": [],
   "source": [
    "pos_df = sess.compute_position_laps() # ensures the laps are computed if they need to be:\n",
    "position_obj = sess.position\n",
    "position_obj.compute_higher_order_derivatives()\n",
    "pos_df = position_obj.compute_smoothed_position_info(N=20) ## Smooth the velocity curve to apply meaningful logic to it\n",
    "pos_df = position_obj.to_dataframe()\n",
    "pos_df"
   ]
  },
  {
   "cell_type": "code",
   "execution_count": null,
   "id": "b3b9e07d-bdeb-4494-979b-3b0b3cec0f4c",
   "metadata": {
    "lines_to_next_cell": 0
   },
   "outputs": [],
   "source": [
    "# fig, out_axes_list = plot_laps_2d(sess, legacy_plotting_mode=True)\n",
    "fig, out_axes_list = plot_laps_2d(sess, legacy_plotting_mode=False)\n",
    "out_axes_list[0].set_title('New Pho Position Thresholding Estimated Laps')\n",
    "\n",
    "curr_cell_idx = 2 \n",
    "# curr_cell_idx = 3 # good for end platform analysis\n",
    "curr_cell_ID = sess.spikes_df.spikes.neuron_ids[curr_cell_idx]\n",
    "print(f'curr_cell_idx: {curr_cell_idx}, curr_cell_ID: {curr_cell_ID}')\n",
    "\n",
    "# pre-filter by spikes that occur in one of the included laps for the filtered_spikes_df\n",
    "filtered_spikes_df = sess.spikes_df.copy()\n",
    "time_variable_name = filtered_spikes_df.spikes.time_variable_name # 't_rel_seconds'\n",
    "\n",
    "lap_ids = sess.laps.lap_id\n",
    "# lap_flat_idxs = sess.laps.get_lap_flat_indicies(lap_ids)\n",
    "\n",
    "out_indicies, out_digitized_position_bins, out_within_lap_spikes_overlap = compute_lap_to_lap_reliability(curr_active_pipeline.computation_results[curr_result_label].computed_data['pf2D'], filtered_spikes_df, lap_ids, curr_cell_idx, debug_print=False, plot_results=True);\n",
    "\n",
    "# compute_reliability_metrics(out_indicies, out_digitized_position_bins, out_within_lap_spikes_overlap, debug_print=False, plot_results=False)\n",
    "\n",
    "# # curr_kdiba_pipeline.computation_results['maze1'].computed_data['pf2D'].plotRaw_v_time(curr_cell_idx)\n",
    "# _test_plotRaw_v_time(curr_kdiba_pipeline.computation_results[curr_result_label].computed_data['pf2D'], curr_cell_idx)"
   ]
  },
  {
   "cell_type": "code",
   "execution_count": null,
   "id": "7aaa7f10-96b0-465d-a015-2eb4290a358b",
   "metadata": {
    "lines_to_next_cell": 2
   },
   "outputs": [],
   "source": []
  },
  {
   "cell_type": "markdown",
   "id": "05348578-ac0c-4da1-a9c9-36794e5997c8",
   "metadata": {
    "incorrectly_encoded_metadata": "tags=[] jp-MarkdownHeadingCollapsed=true",
    "tags": []
   },
   "source": [
    "# `_display_short_long_pf1D_comparison` and `_display_short_long_pf1D_scalar_overlap_comparison`"
   ]
  },
  {
   "cell_type": "code",
   "execution_count": null,
   "id": "28739947-375a-4c68-95fa-ccc54eb9824a",
   "metadata": {},
   "outputs": [],
   "source": [
    "active_identifying_session_ctx = curr_active_pipeline.sess.get_context() # 'bapun_RatN_Day4_2019-10-15_11-30-06'\n",
    "\n",
    "long_single_cell_pfmap_processing_fn = None\n",
    "short_single_cell_pfmap_processing_fn = None\n",
    "\n",
    "# long_single_cell_pfmap_processing_fn = lambda i, aclu, pfmap: 0.5 * pfmap # flip over the y-axis\n",
    "# short_single_cell_pfmap_processing_fn = lambda i, aclu, pfmap: -0.5 * pfmap # flip over the y-axis\n",
    "\n",
    "# pad = 1\n",
    "# long_single_cell_pfmap_processing_fn = lambda i, aclu, pfmap: (0.5 * pfmap) + (0.5*pad) # shift the baseline up by half\n",
    "# short_single_cell_pfmap_processing_fn = lambda i, aclu, pfmap: (-0.5 * pfmap * pad) + (0.5*pad) # flip over the y-axis, shift the baseline down by half\n",
    "\n",
    "# pad = 1\n",
    "# long_single_cell_pfmap_processing_fn = lambda i, aclu, pfmap: (0.5 * pfmap * pad) + (0.5*pad) # shift the baseline up by half\n",
    "# short_single_cell_pfmap_processing_fn = lambda i, aclu, pfmap: (0.5 * pfmap * pad) + (0.5*pad) # flip over the y-axis, shift the baseline down by half\n",
    "# long_single_cell_pfmap_processing_fn = lambda i, aclu, pfmap: (0.5 * pfmap * pad) # shift the baseline up by half\n",
    "# short_single_cell_pfmap_processing_fn = lambda i, aclu, pfmap: (0.5 * pfmap * pad) # flip over the y-axis, shift the baseline down by half\n",
    "\n",
    "\n",
    "# long_single_cell_pfmap_processing_fn = lambda i, aclu, pfmap: (1.0 * pfmap * pad) # shift the baseline up by half\n",
    "# short_single_cell_pfmap_processing_fn = lambda i, aclu, pfmap: (-1.0 * pfmap * pad) + (1.0*pad) # this does not work and results in short being fully filled. I think this is because the fill_between gets reversed since everything is below baseline\n",
    "\n",
    "\n",
    "out = curr_active_pipeline.display('_display_short_long_pf1D_comparison', active_identifying_session_ctx, single_figure=True, debug_print=False, fignum='Short v Long pf1D Comparison',\n",
    "                                   long_kwargs={'sortby': sort_idx, 'single_cell_pfmap_processing_fn': long_single_cell_pfmap_processing_fn},\n",
    "                                   short_kwargs={'sortby': sort_idx, 'single_cell_pfmap_processing_fn': short_single_cell_pfmap_processing_fn, 'curve_hatch_style': {'hatch':'///', 'edgecolor':'k'}},\n",
    "                                  )\n",
    "ax = out.axes[0]"
   ]
  },
  {
   "cell_type": "code",
   "execution_count": null,
   "id": "e882c022-7426-4143-bade-93ee7802d1b1",
   "metadata": {},
   "outputs": [],
   "source": [
    "## Overlap Scalar Comparisons: plots a comparison of a specific type of scalar values for all cells\n",
    "from pyphoplacecellanalysis.General.Pipeline.Stages.DisplayFunctions.MultiContextComparingDisplayFunctions.MultiContextComparingDisplayFunctions import PlacefieldOverlapMetricMode\n",
    "\n",
    "active_identifying_session_ctx = curr_active_pipeline.sess.get_context() # 'bapun_RatN_Day4_2019-10-15_11-30-06'\n",
    "\n",
    "# overlap_metric_mode = PlacefieldOverlapMetricMode.POLY\n",
    "# overlap_metric_mode = PlacefieldOverlapMetricMode.PRODUCT\n",
    "# overlap_metric_mode = PlacefieldOverlapMetricMode.CONVOLUTION\n",
    "overlap_metric_mode = PlacefieldOverlapMetricMode.REL_ENTROPY\n",
    "\n",
    "out = curr_active_pipeline.display('_display_short_long_pf1D_scalar_overlap_comparison', active_identifying_session_ctx, overlap_metric_mode=overlap_metric_mode, variant_name='_area')"
   ]
  },
  {
   "cell_type": "code",
   "execution_count": null,
   "id": "2ff7d434-25c8-425e-8578-00ba8f333588",
   "metadata": {
    "tags": [
     "plot",
     "visualization"
    ]
   },
   "outputs": [],
   "source": [
    "from pyphoplacecellanalysis.Pho2D.PyQtPlots.TimeSynchronizedPlotters.TimeSynchronizedOccupancyPlotter import TimeSynchronizedOccupancyPlotter\n",
    "from pyphoplacecellanalysis.Pho2D.PyQtPlots.TimeSynchronizedPlotters.TimeSynchronizedPlacefieldsPlotter import TimeSynchronizedPlacefieldsPlotter\n",
    "\n",
    "curr_placefields_plotter = TimeSynchronizedPlacefieldsPlotter(active_pf_2D_dt)\n",
    "curr_placefields_plotter.show()"
   ]
  },
  {
   "cell_type": "markdown",
   "id": "53cd05b7-ade9-420e-8b14-3e71474431f5",
   "metadata": {
    "incorrectly_encoded_metadata": "jp-MarkdownHeadingCollapsed=true pycharm={\"name\": \"#%%\\n\"} tags=[] jp-MarkdownHeadingCollapsed=true",
    "jp-MarkdownHeadingCollapsed": true,
    "tags": []
   },
   "source": [
    "## ❌🆖 BROKEN Individual Plotting Outputs:"
   ]
  },
  {
   "cell_type": "markdown",
   "id": "9655181f-dc58-470a-b496-0fc9cd3c0883",
   "metadata": {
    "tags": []
   },
   "source": [
    "### Common Config"
   ]
  },
  {
   "cell_type": "code",
   "execution_count": null,
   "id": "ad892ba6-4657-4370-957c-d2926c32826c",
   "metadata": {
    "tags": []
   },
   "outputs": [],
   "source": [
    "## MATPLOTLIB Imports:\n",
    "import matplotlib\n",
    "# configure backend here\n",
    "matplotlib.use('Qt5Agg')\n",
    "# backend_qt5agg\n",
    "# matplotlib.use('AGG') # non-interactive backend\n",
    "## 2022-08-16 - Surprisingly this works to make the matplotlib figures render only to .png file, not appear on the screen!\n",
    "import matplotlib.pyplot as plt\n",
    "import matplotlib as mpl\n",
    "from matplotlib.backends import backend_pdf\n",
    "\n",
    "from neuropy.utils.matplotlib_helpers import enumTuningMap2DPlotVariables # for getting the variant name from the dict\n",
    "_bak_rcParams = mpl.rcParams.copy()\n",
    "mpl.rcParams['toolbar'] = 'None' # disable toolbars\n",
    "\n",
    "from pyphoplacecellanalysis.General.Mixins.ExportHelpers import create_daily_programmatic_display_function_testing_folder_if_needed, build_pdf_metadata_from_display_context, programmatic_display_to_PDF\n",
    "\n",
    "# from pyphocorehelpers.plotting.figure_management import PhoActiveFigureManager2D, capture_new_figures_decorator\n",
    "# fig_man = PhoActiveFigureManager2D(name=f'fig_man') # Initialize a new figure manager\n",
    "\n",
    "active_identifying_session_ctx = curr_active_pipeline.sess.get_context() # 'bapun_RatN_Day4_2019-10-15_11-30-06'"
   ]
  },
  {
   "cell_type": "code",
   "execution_count": null,
   "id": "6035d94e-d4aa-4e4c-a57f-430807442195",
   "metadata": {
    "lines_to_next_cell": 2,
    "tags": []
   },
   "outputs": [],
   "source": []
  },
  {
   "cell_type": "markdown",
   "id": "44dd1ae1-a5cd-4a03-bc11-dbb77dc161b8",
   "metadata": {
    "incorrectly_encoded_metadata": "jp-MarkdownHeadingCollapsed=true",
    "tags": []
   },
   "source": [
    "### Single (Session, Filter) Context Plotting:"
   ]
  },
  {
   "cell_type": "markdown",
   "id": "774fe569-bbb0-4112-816d-bdbcba78dab5",
   "metadata": {
    "tags": []
   },
   "source": [
    "#### Utility:"
   ]
  },
  {
   "cell_type": "code",
   "execution_count": null,
   "id": "cc39ef8c-731a-47e5-9471-8f64d9e5511d",
   "metadata": {
    "scrolled": true
   },
   "outputs": [],
   "source": [
    "# Reload display functions:\n",
    "curr_active_pipeline.reload_default_display_functions()\n",
    "curr_active_pipeline.registered_display_function_names # ['_display_1d_placefield_validations', '_display_2d_placefield_result_plot_ratemaps_2D', '_display_2d_placefield_result_plot_raw', '_display_normal', '_display_placemaps_pyqtplot_2D', '_display_decoder_result', '_display_plot_most_likely_position_comparisons', '_display_two_step_decoder_prediction_error_2D', '_display_two_step_decoder_prediction_error_animated_2D', '_display_spike_rasters_pyqtplot_2D', '_display_spike_rasters_pyqtplot_3D', '_display_spike_rasters_pyqtplot_3D_with_2D_controls', '_display_spike_rasters_vedo_3D', '_display_spike_rasters_vedo_3D_with_2D_controls', '_display_spike_rasters_window', '_display_speed_vs_PFoverlapDensity_plots', '_display_3d_image_plotter', '_display_3d_interactive_custom_data_explorer', '_display_3d_interactive_spike_and_behavior_browser', '_display_3d_interactive_tuning_curves_plotter']\n",
    "print(curr_active_pipeline.registered_display_function_names)"
   ]
  },
  {
   "cell_type": "code",
   "execution_count": null,
   "id": "6f563259-19f3-4d85-bb53-ae88e389cde9",
   "metadata": {},
   "outputs": [],
   "source": [
    "%matplotlib --list \n",
    "# Available matplotlib backends: ['tk', 'gtk', 'gtk3', 'gtk4', 'wx', 'qt4', 'qt5', 'qt6', 'qt', 'osx', 'nbagg', 'notebook', 'agg', 'svg', 'pdf', 'ps', 'inline', 'ipympl', 'widget']"
   ]
  },
  {
   "cell_type": "code",
   "execution_count": null,
   "id": "e3ed2748-0817-42dc-93b8-6648d3c16caf",
   "metadata": {},
   "outputs": [],
   "source": [
    "%matplotlib qt\n",
    "## NOTE THAT ONCE THIS IS SET TO qt, it cannot be undone!"
   ]
  },
  {
   "cell_type": "markdown",
   "id": "4a062f0e-dfdf-4f95-a412-7cb8bbafb7c0",
   "metadata": {
    "incorrectly_encoded_metadata": "jp-MarkdownHeadingCollapsed=true tags=[] jp-MarkdownHeadingCollapsed=true"
   },
   "source": [
    "### Systematic Display Function Testing"
   ]
  },
  {
   "cell_type": "markdown",
   "id": "7811d710-3ada-437f-827d-0eeacbcbe16b",
   "metadata": {
    "tags": []
   },
   "source": [
    "#### Matplotlib-based plots:"
   ]
  },
  {
   "cell_type": "code",
   "execution_count": null,
   "id": "de4d9f10-e1ca-485d-af0f-4cd9a40562ae",
   "metadata": {
    "pycharm": {
     "name": "#%%\n"
    }
   },
   "outputs": [],
   "source": [
    "import matplotlib\n",
    "# matplotlib.use('AGG') # non-interactive backend\n",
    "# %matplotlib -l\n",
    "\n",
    "matplotlib.use('Qt5Agg') # non-interactive backend\n",
    "## 2022-08-16 - Surprisingly this works to make the matplotlib figures render only to .png file, not appear on the screen!\n",
    "\n",
    "curr_active_pipeline.filtered_session_names # ['maze', 'sprinkle']\n",
    "active_config_name = 'maze'\n",
    "\n",
    "active_display_to_pdf_fn = programmatic_display_to_PDF"
   ]
  },
  {
   "cell_type": "code",
   "execution_count": null,
   "id": "0217fa1d-86bd-4a3f-9413-3ae52901aef9",
   "metadata": {
    "scrolled": true
   },
   "outputs": [],
   "source": [
    "%%capture\n",
    "active_display_to_pdf_fn(curr_active_pipeline, curr_display_function_name='_display_1d_placefield_validations') # 🟢✅ Now seems to be working and saving to PDF!! Still using matplotlib.use('Qt5Agg') mode and plots still appear. Moderate visual improvements can still be made (titles overlap and stuff). Works with %%capture\n",
    "\n",
    "# active_display_to_pdf_fn(curr_active_pipeline, curr_display_function_name='_display_1d_placefield_validations', filter_name=active_config_name) # 🟢✅ Now seems to be working and saving to PDF!! Still using matplotlib.use('Qt5Agg') mode and plots still appear. Moderate visual improvements can still be made (titles overlap and stuff). Works with %%capture"
   ]
  },
  {
   "cell_type": "code",
   "execution_count": null,
   "id": "b0d9db48-c37b-4e67-8486-ddc1b0c7fba0",
   "metadata": {
    "scrolled": true
   },
   "outputs": [],
   "source": [
    "# %%capture\n",
    "active_display_to_pdf_fn(curr_active_pipeline, curr_display_function_name='_display_2d_placefield_result_plot_raw', debug_print=False) # 🔇🆖❌ IndexError: index 80 is out of bounds for GridSpec with size 80"
   ]
  },
  {
   "cell_type": "code",
   "execution_count": null,
   "id": "24c52598-3352-4b11-bb72-9dea8e55e527",
   "metadata": {
    "scrolled": true
   },
   "outputs": [],
   "source": [
    "# %%capture\n",
    "active_display_to_pdf_fn(curr_active_pipeline, curr_display_function_name='_display_1d_placefields', debug_print=False) # 🟢✅ Now seems to be working and saving to PDF!! Still using matplotlib.use('Qt5Agg') mode and plots still appear."
   ]
  },
  {
   "cell_type": "code",
   "execution_count": null,
   "id": "282bf408-5a13-47a3-a3c9-5c3d55454b4a",
   "metadata": {
    "tags": []
   },
   "outputs": [],
   "source": [
    "active_display_to_pdf_fn(curr_active_pipeline, curr_display_function_name='_display_1d_placefields', debug_print=True)"
   ]
  },
  {
   "cell_type": "code",
   "execution_count": null,
   "id": "bca4c701-a343-44c4-a2d7-68d6b975b6a6",
   "metadata": {
    "tags": []
   },
   "outputs": [],
   "source": [
    "active_display_to_pdf_fn(curr_active_pipeline, curr_display_function_name='_display_normal', debug_print=True) # 🐞❌ TypeError: unhashable type: 'list'"
   ]
  },
  {
   "cell_type": "code",
   "execution_count": null,
   "id": "e7038ae4-17ce-491c-a1d3-e934537ed550",
   "metadata": {
    "tags": []
   },
   "outputs": [],
   "source": [
    "# %%capture\n",
    "active_display_to_pdf_fn(curr_active_pipeline, curr_display_function_name='_display_2d_placefield_result_plot_ratemaps_2D') #  🟢✅ Now seems to be working and saving to PDF!! Still using matplotlib.use('Qt5Agg') mode and plots still appear."
   ]
  },
  {
   "cell_type": "code",
   "execution_count": null,
   "id": "c2f8696f-45c6-4870-93f6-713246d455fe",
   "metadata": {
    "scrolled": true
   },
   "outputs": [],
   "source": [
    "%%capture\n",
    "active_display_to_pdf_fn(curr_active_pipeline, curr_display_function_name='_display_normal', filter_name=active_config_name) # 🐞❌ TypeError: unhashable type: 'list'"
   ]
  },
  {
   "cell_type": "markdown",
   "id": "1b16c86e-5dc1-4918-a115-7ae99eae1084",
   "metadata": {
    "incorrectly_encoded_metadata": "jp-MarkdownHeadingCollapsed=true",
    "tags": []
   },
   "source": [
    "### 🐞👁️‍🗨️🔜 TODO: FINISH THIS UP AND FIGURE OUT WHATEVER THE HELL I'M DOING HERE"
   ]
  },
  {
   "cell_type": "code",
   "execution_count": null,
   "id": "0b62efd2-f8f3-4dc7-baa9-67fcbdf3f983",
   "metadata": {
    "scrolled": true
   },
   "outputs": [],
   "source": [
    "curr_display_function_name = '_display_2d_placefield_result_plot_ratemaps_2D'\n",
    "built_pdf_metadata, curr_pdf_save_path = _build_pdf_pages_output_info(curr_display_function_name)\n",
    "out_fig_list = []\n",
    "active_identifying_display_ctx = active_identifying_filtered_session_ctx.adding_context('display_fn', display_fn_name=curr_display_function_name)\n",
    "figure_format_config = _get_curr_figure_format_config() # Fetch the context from the GUI\n",
    "figure_format_config['enable_saving_to_disk'] = False # don't use the in-built figure export/saving to disk functionality as we want to wrap the output figure with the Pdf saving, not write to a .png\n",
    "with backend_pdf.PdfPages(curr_pdf_save_path, keep_empty=False, metadata=built_pdf_metadata) as pdf:\n",
    "    ## TypeError: neuropy.utils.debug_helpers.safely_accepts_kwargs.<locals>._safe_kwargs_fn() got multiple values for keyword argument 'computation_config'\n",
    "    for filter_name in curr_active_pipeline.filtered_session_names:\n",
    "        print(f'filter_name: {filter_name}')\n",
    "        active_identifying_ctx = active_identifying_display_ctx.adding_context('plot_variable', variable_name=enumTuningMap2DPlotVariables.SPIKES_MAPS)\n",
    "        active_identifying_ctx_string = active_identifying_ctx.get_description(separator='|') # Get final discription string\n",
    "        out_fig_list.extend(curr_active_pipeline.display(curr_display_function_name, filter_name, plot_variable=enumTuningMap2DPlotVariables.SPIKES_MAPS, fignum=active_identifying_ctx_string, **figure_format_config)) # works!\n",
    "        active_identifying_ctx = active_identifying_display_ctx.adding_context('plot_variable', variable_name=enumTuningMap2DPlotVariables.TUNING_MAPS)\n",
    "        active_identifying_ctx_string = active_identifying_ctx.get_description(separator='|') # Get final discription string\n",
    "        out_fig_list.extend(curr_active_pipeline.display(curr_display_function_name, filter_name, plot_variable=enumTuningMap2DPlotVariables.TUNING_MAPS, fignum=active_identifying_ctx_string, **figure_format_config))\n",
    "        for a_fig in out_fig_list:\n",
    "            pdf.savefig(a_fig, transparent=True)\n",
    "            \n",
    "# 🐞🔇🆖❌ NameError: name '_build_pdf_pages_output_info' is not defined"
   ]
  },
  {
   "cell_type": "code",
   "execution_count": null,
   "id": "ee9fad5b-4871-46a6-b4a4-b50480bca489",
   "metadata": {
    "scrolled": true
   },
   "outputs": [],
   "source": [
    "%%capture\n",
    "curr_display_function_name = '_display_decoder_result'\n",
    "built_pdf_metadata, curr_pdf_save_path = _build_pdf_pages_output_info(curr_display_function_name)\n",
    "with backend_pdf.PdfPages(curr_pdf_save_path, keep_empty=False, metadata=built_pdf_metadata) as pdf:\n",
    "    plots = curr_active_pipeline.display(curr_display_function_name, filter_name)\n",
    "    print(plots)\n",
    "    # pdf.savefig(a_fig)\n",
    "    \n",
    "    \n",
    "# 🐞🔇🆖❌ NameError: name '_build_pdf_pages_output_info' is not defined"
   ]
  },
  {
   "cell_type": "markdown",
   "id": "d11a9839-3fd4-4fd8-988c-61144c84051a",
   "metadata": {
    "tags": []
   },
   "source": [
    "#### PyQtGraph-based Pf2D Viewers:"
   ]
  },
  {
   "cell_type": "code",
   "execution_count": null,
   "id": "68fa3058-24c9-49e1-af41-cad50df2d829",
   "metadata": {},
   "outputs": [],
   "source": [
    "# 🟢✅ Nearly Completely Working - Needs subplot labels changed to match standardized matplotlib version, needs color scheme set consistently to matplotlib version, needs colorbars removed\n",
    "from pyphoplacecellanalysis.GUI.PyQtPlot.BinnedImageRenderingWindow import BasicBinnedImageRenderingWindow, add_bin_ticks, build_binned_imageItem\n",
    "from neuropy.utils.matplotlib_helpers import _build_variable_max_value_label, enumTuningMap2DPlotMode, enumTuningMap2DPlotVariables, _determine_best_placefield_2D_layout, _scale_current_placefield_to_acceptable_range\n",
    "from pyphoplacecellanalysis.Pho2D.PyQtPlots.plot_placefields import display_all_pf_2D_pyqtgraph_binned_image_rendering\n",
    "\n",
    "# NOTE FILTER SPECIFIC: active_config_name and active_pf_2D depend on active_config_name\n",
    "\n",
    "## Get the figure_format_config from the figure_format_config widget:\n",
    "active_identifying_display_ctx = active_identifying_filtered_session_ctx.adding_context('display_fn', display_fn_name='display_all_pf_2D_pyqtgraph_binned_image_rendering')\n",
    "figure_format_config = _get_curr_figure_format_config() # Fetch the context from the GUI\n",
    "out_all_pf_2D_pyqtgraph_binned_image_fig = display_all_pf_2D_pyqtgraph_binned_image_rendering(active_pf_2D, figure_format_config)"
   ]
  },
  {
   "cell_type": "code",
   "execution_count": null,
   "id": "6cd7686d-b854-44bf-a6e3-fb7c338380b6",
   "metadata": {},
   "outputs": [],
   "source": [
    "out_all_pf_2D_pyqtgraph_binned_image_fig.setWindowTitle(f'{active_identifying_display_ctx.get_description()}')"
   ]
  },
  {
   "cell_type": "code",
   "execution_count": null,
   "id": "158ffab7-de5e-43af-8162-bff293df838b",
   "metadata": {},
   "outputs": [],
   "source": [
    "images = active_one_step_decoder.ratemap.normalized_tuning_curves\n",
    "images.shape # (66, 41, 63)"
   ]
  },
  {
   "cell_type": "code",
   "execution_count": null,
   "id": "1048f102-f9d2-4c2e-96d7-4d8eb820a7fe",
   "metadata": {},
   "outputs": [],
   "source": [
    "# 🟢🚧🟨 Almost Working - Needs subplot labels changed from Cell[i] to the appropriate standardized titles. Needs other minor refinements.\n",
    "# 🚧 pyqtplot_plot_image_array needs major improvements to achieve feature pairity with display_all_pf_2D_pyqtgraph_binned_image_rendering, so probably just use display_all_pf_2D_pyqtgraph_binned_image_rendering.  \n",
    "from pyphoplacecellanalysis.Pho2D.PyQtPlots.plot_placefields import pyqtplot_plot_image_array\n",
    "\n",
    "# Get the decoders from the computation result:       \n",
    "# Get flat list of images:\n",
    "images = active_one_step_decoder.ratemap.normalized_tuning_curves # (43, 63, 63)\n",
    "occupancy = active_one_step_decoder.ratemap.occupancy\n",
    "\n",
    "active_identifying_display_ctx = active_identifying_filtered_session_ctx.adding_context('display_fn', display_fn_name='pyqtplot_plot_image_array')\n",
    "figure_format_config = _get_curr_figure_format_config() # Fetch the context from the GUI\n",
    "## Get final discription string:\n",
    "active_identifying_ctx_string = active_identifying_display_ctx.get_description(separator='|')\n",
    "print(f'active_identifying_ctx_string: {active_identifying_ctx_string}')\n",
    "\n",
    "## Build the widget:\n",
    "app, parent_root_widget, root_render_widget, plot_array, img_item_array, other_components_array = pyqtplot_plot_image_array(active_one_step_decoder.xbin, active_one_step_decoder.ybin, images, occupancy, \n",
    "                                                                        app=None, parent_root_widget=None, root_render_widget=None, max_num_columns=8)\n",
    "parent_root_widget.show()\n",
    "if master_dock_win is not None:\n",
    "    # if there's an open master_dock_win, add this widget as a child dock\n",
    "    master_dock_win.add_display_dock(identifier=active_identifying_ctx_string, widget=parent_root_widget, dockIsClosable=True)"
   ]
  },
  {
   "cell_type": "markdown",
   "id": "9c4fc1d3-0100-4bf1-8a9e-1ea7203d2b9c",
   "metadata": {
    "tags": []
   },
   "source": [
    "#### Decoder Plots:"
   ]
  },
  {
   "cell_type": "code",
   "execution_count": null,
   "id": "23a1e343-5737-4435-be8b-369483624fa4",
   "metadata": {
    "pycharm": {
     "name": "#%%\n"
    }
   },
   "outputs": [],
   "source": [
    "# Must switch back to the interactive backend here for the interactive/animated decoder plots:\n",
    "matplotlib.use('Qt5Agg')\n",
    "# backend_qt5agg\n",
    "import matplotlib.pyplot as plt\n",
    "# plt.switch_backend('Qt5Agg')"
   ]
  },
  {
   "cell_type": "code",
   "execution_count": null,
   "id": "8180d131-f7a6-44f4-b63d-b1d3ef9bb409",
   "metadata": {
    "pycharm": {
     "name": "#%%\n"
    }
   },
   "outputs": [],
   "source": [
    "curr_active_pipeline.display('_display_two_step_decoder_prediction_error_animated_2D', active_config_name, variable_name='p_x_given_n')"
   ]
  },
  {
   "cell_type": "code",
   "execution_count": null,
   "id": "840af86d-030a-4ba5-973d-316e94c16a61",
   "metadata": {
    "pycharm": {
     "name": "#%%\n"
    }
   },
   "outputs": [],
   "source": [
    "# ## MATPLOTLIB Imports:\n",
    "# import matplotlib\n",
    "# # configure backend here\n",
    "# matplotlib.use('Qt5Agg')\n",
    "# import matplotlib.pyplot as plt\n",
    "# import matplotlib as mpl\n",
    "## This plot looks phenominal, and the slider works!\n",
    "curr_active_pipeline.display('_display_two_step_decoder_prediction_error_2D', active_config_name, variable_name='p_x_given_n') # NOW: TypeError: _temp_debug_two_step_plots_animated_imshow() missing 1 required positional argument: 'time_binned_position_df'"
   ]
  },
  {
   "cell_type": "code",
   "execution_count": null,
   "id": "cd163714-1838-4c8d-9796-dc3823b11f0f",
   "metadata": {
    "pycharm": {
     "name": "#%%\n"
    }
   },
   "outputs": [],
   "source": [
    "curr_active_pipeline.display('_display_two_step_decoder_prediction_error_2D', active_config_name, variable_name='p_x_given_n_and_x_prev')  # this one doesn't work!"
   ]
  },
  {
   "cell_type": "code",
   "execution_count": null,
   "id": "78308cc1-7dea-49aa-814a-d2784de14981",
   "metadata": {
    "lines_to_next_cell": 0
   },
   "outputs": [],
   "source": [
    "# Get the decoders from the computation result:\n",
    "# active_one_step_decoder = computation_result.computed_data['pf2D_Decoder']\n",
    "# active_two_step_decoder = computation_result.computed_data.get('pf2D_TwoStepDecoder', None)\n",
    "# active_measured_positions = computation_result.sess.position.to_dataframe()\n",
    "\n",
    "active_one_step_decoder # BayesianPlacemapPositionDecoder\n",
    "active_two_step_decoder\n",
    "\n",
    "## SAVE OUT THE RESULTS of the decoder:"
   ]
  },
  {
   "cell_type": "code",
   "execution_count": null,
   "id": "8ba0577a-b95e-478f-aeea-aef0ed591583",
   "metadata": {
    "lines_to_next_cell": 2
   },
   "outputs": [],
   "source": []
  },
  {
   "cell_type": "code",
   "execution_count": null,
   "id": "fd4cd691-4c3f-48d2-b5d3-150231fdba4e",
   "metadata": {},
   "outputs": [],
   "source": [
    "## PDF Output, NOTE this is single plot stuff: uses active_config_name\n",
    "from matplotlib.backends import backend_pdf\n",
    "from pyphoplacecellanalysis.General.Mixins.ExportHelpers import create_daily_programmatic_display_function_testing_folder_if_needed, build_pdf_metadata_from_display_context, programmatic_display_to_PDF"
   ]
  },
  {
   "cell_type": "code",
   "execution_count": null,
   "id": "0f2967bd-dcf4-495c-8341-ae00e2230590",
   "metadata": {},
   "outputs": [],
   "source": [
    "## 2022-10-04 Modern Programmatic PDF outputs:\n",
    "# programmatic_display_to_PDF(curr_active_pipeline, curr_display_function_name='_display_plot_decoded_epoch_slices',  debug_print=False)\n",
    "programmatic_display_to_PDF(curr_active_pipeline, curr_display_function_name='_display_plot_decoded_epoch_slices', filter_epochs='ripple', decoding_time_bin_size=0.02, debug_test_max_num_slices=128, debug_print=True)"
   ]
  },
  {
   "cell_type": "code",
   "execution_count": null,
   "id": "fcf583b3-0a6b-44be-90ac-ed8803bdd100",
   "metadata": {},
   "outputs": [],
   "source": [
    "programmatic_display_to_PDF(curr_active_pipeline, curr_display_function_name='_display_plot_decoded_epoch_slices', filter_epochs='laps', debug_test_max_num_slices=128, debug_print=False)"
   ]
  },
  {
   "cell_type": "markdown",
   "id": "7aef1b4c-44bf-44ed-b0c3-9ecaa20ddb6a",
   "metadata": {
    "pycharm": {
     "name": "#%%\n"
    },
    "tags": []
   },
   "source": [
    "### 2022-08-10: Plot animal positions on the computed posteriors:\n",
    "The process of plotting the animal position on the decoder plot needs to be refined. Currently it works by re-implementing \n",
    "🔜 NEXT STEP: TODO: Make a \"Datasource\" like approach perhaps to provide the actual animal position at each point in time?\n",
    "🐞🔜 BUG TODO: Noticed that for Bapun Day5 data, it looks like the current position point is being plotted incorrectly (it doesn't even move across the space much)"
   ]
  },
  {
   "cell_type": "code",
   "execution_count": null,
   "id": "0625d7d6-4d56-4231-9fbc-1dd51b525714",
   "metadata": {
    "pycharm": {
     "name": "#%%\n"
    }
   },
   "outputs": [],
   "source": [
    "from pyphoplacecellanalysis.Analysis.Decoder.reconstruction import ZhangReconstructionImplementation\n",
    "from neuropy.utils.mixins.binning_helpers import BinningContainer\n",
    "from pyphocorehelpers.indexing_helpers import build_pairwise_indicies\n",
    "\n",
    "global_epoch_name = curr_active_pipeline.active_completed_computation_result_names[-1] # 'maze'\n",
    "global_results = curr_active_pipeline.computation_results[global_epoch_name]['computed_data']\n",
    "sess =  curr_active_pipeline.computation_results[global_epoch_name].sess\n",
    "active_one_step_decoder_2D = curr_active_pipeline.computation_results[global_epoch_name].computed_data.get('pf2D_Decoder', None)\n",
    "active_two_step_decoder_2D = curr_active_pipeline.computation_results[global_epoch_name].computed_data.get('pf2D_TwoStepDecoder', None)\n",
    "active_extended_stats = curr_active_pipeline.computation_results[global_epoch_name].computed_data.get('extended_stats', None)\n",
    "active_firing_rate_trends = curr_active_pipeline.computation_results[global_epoch_name].computed_data.get('firing_rate_trends', None)\n",
    "time_bin_size_seconds, all_session_spikes, pf_included_spikes_only = active_firing_rate_trends['time_bin_size_seconds'], active_firing_rate_trends['all_session_spikes'], active_firing_rate_trends['pf_included_spikes_only']\n",
    "\n",
    "active_time_binning_container, active_time_window_edges, active_time_window_edges_binning_info, active_time_binned_unit_specific_binned_spike_rate, active_time_binned_unit_specific_binned_spike_counts = pf_included_spikes_only['time_binning_container'], pf_included_spikes_only['time_window_edges'], pf_included_spikes_only['time_window_edges_binning_info'], pf_included_spikes_only['time_binned_unit_specific_binned_spike_rate'], pf_included_spikes_only['time_binned_unit_specific_binned_spike_counts']\n",
    "\n",
    "ZhangReconstructionImplementation._validate_time_binned_spike_rate_df(active_time_binning_container.centers, active_time_binned_unit_specific_binned_spike_counts)"
   ]
  },
  {
   "cell_type": "code",
   "execution_count": null,
   "id": "87772009-fb19-44f0-828e-dfcc3c46a869",
   "metadata": {
    "pycharm": {
     "name": "#%%\n"
    }
   },
   "outputs": [],
   "source": [
    "active_one_step_decoder.p_x_given_n"
   ]
  },
  {
   "cell_type": "code",
   "execution_count": null,
   "id": "e3e970db-653e-48d6-b484-eb2a41df2af7",
   "metadata": {
    "pycharm": {
     "name": "#%%\n"
    }
   },
   "outputs": [],
   "source": [
    "## time_binned_unit_specific_binned_spike_rate mode:\n",
    "try:  \n",
    "    time_bins = active_firing_rate_trends.all_session_spikes.time_binning_container.centers # .shape # (4188,)\n",
    "    time_binned_unit_specific_binned_spike_rate_df = active_firing_rate_trends.all_session_spikes.time_binned_unit_specific_binned_spike_rate\n",
    "except KeyError:\n",
    "    time_bins, time_binned_unit_specific_binned_spike_rate_df = {}, {}\n",
    "\n",
    "ZhangReconstructionImplementation._validate_time_binned_spike_rate_df(time_bins, time_binned_unit_specific_binned_spike_rate_df)"
   ]
  },
  {
   "cell_type": "code",
   "execution_count": null,
   "id": "21afb753-1577-47b4-b0e7-75ed40136238",
   "metadata": {
    "pycharm": {
     "name": "#%%\n"
    }
   },
   "outputs": [],
   "source": [
    "cum_time = active_time_binning_container.centers.cumsum()\n",
    "cum_spike_counts = time_binned_unit_specific_binned_spike_counts.cumsum(axis=0)\n",
    "cum_spike_counts\n",
    "\n",
    "cum_spike_rates = cum_spike_counts.astype('float').copy()\n",
    "cum_spike_rates = cum_spike_rates / cum_time[:,None] # not sure this is right: no this is wrong, as not all time (cummulative time) is spent in this bine\n",
    "cum_spike_rates"
   ]
  },
  {
   "cell_type": "code",
   "execution_count": null,
   "id": "3b45511d-4fa5-40eb-8c3e-347ea0dc184c",
   "metadata": {
    "lines_to_next_cell": 2,
    "pycharm": {
     "name": "#%%\n"
    }
   },
   "outputs": [],
   "source": []
  },
  {
   "cell_type": "code",
   "execution_count": null,
   "id": "2519c589-4158-45dc-980e-6649d5944ad1",
   "metadata": {
    "pycharm": {
     "name": "#%%\n"
    }
   },
   "outputs": [],
   "source": [
    "cum_spike_rates.plot(x='index', y='2')"
   ]
  },
  {
   "cell_type": "markdown",
   "id": "ff70fc8b-1214-4902-bbb9-873e82b072b4",
   "metadata": {
    "incorrectly_encoded_metadata": "pycharm={\"name\": \"#%%\\n\"} tags=[] jp-MarkdownHeadingCollapsed=true"
   },
   "source": [
    "### Testing `ZhangReconstructionImplementation.time_bin_spike_counts_N_i(...)` and `ZhangReconstructionImplementation.compute_time_binned_spiking_activity(...)`"
   ]
  },
  {
   "cell_type": "code",
   "execution_count": null,
   "id": "36b2709a-d331-4b78-946a-30a08e07b071",
   "metadata": {
    "pycharm": {
     "name": "#%%\n"
    }
   },
   "outputs": [],
   "source": [
    "time_bin_size_seconds = 0.5"
   ]
  },
  {
   "cell_type": "code",
   "execution_count": null,
   "id": "5d016bbf-f949-418c-adb0-6ae7ed08ccc9",
   "metadata": {
    "pycharm": {
     "name": "#%%\n"
    }
   },
   "outputs": [],
   "source": [
    "# from `_setup_time_bin_spike_counts_N_i`: using `ZhangReconstructionImplementation.time_bin_spike_counts_N_i(...)` this one now works too, but its output is transposed compared to the `_perform_firing_rate_trends_computation` version:\n",
    "active_session_spikes_df = sess.spikes_df.copy()\n",
    "unit_specific_binned_spike_counts, time_window_edges, time_window_edges_binning_info = ZhangReconstructionImplementation.time_bin_spike_counts_N_i(active_session_spikes_df.copy(), time_bin_size=time_bin_size_seconds, debug_print=False)  # np.shape(unit_specific_spike_counts): (4188, 108)\n",
    "time_binning_container = BinningContainer(edges=time_window_edges, edge_info=time_window_edges_binning_info)\n",
    "ZhangReconstructionImplementation._validate_time_binned_spike_counts(time_binning_container, unit_specific_binned_spike_counts)"
   ]
  },
  {
   "cell_type": "code",
   "execution_count": null,
   "id": "37434deb-7978-4857-afa0-058969f6f743",
   "metadata": {
    "pycharm": {
     "name": "#%%\n"
    }
   },
   "outputs": [],
   "source": [
    "# Test `ZhangReconstructionImplementation.time_bin_spike_counts_N_i(...)` with manual bins -- `_setup_time_bin_spike_counts_N_i`: using `ZhangReconstructionImplementation.time_bin_spike_counts_N_i(...)` this one now works too, but its output is transposed compared to the `_perform_firing_rate_trends_computation` version:\n",
    "extant_time_window_edges = deepcopy(time_binning_container.edges)\n",
    "extant_time_window_edges_binning_info = deepcopy(time_binning_container.edge_info)\n",
    "active_session_spikes_df = sess.spikes_df.copy()\n",
    "unit_specific_binned_spike_counts, time_window_edges, time_window_edges_binning_info = ZhangReconstructionImplementation.time_bin_spike_counts_N_i(active_session_spikes_df.copy(), time_bin_size=time_bin_size_seconds,\n",
    "                                                                                                                                                   time_window_edges=extant_time_window_edges, time_window_edges_binning_info=extant_time_window_edges_binning_info, debug_print=False)  # np.shape(unit_specific_spike_counts): (4188, 108)\n",
    "time_binning_container = BinningContainer(edges=time_window_edges, edge_info=time_window_edges_binning_info)\n",
    "ZhangReconstructionImplementation._validate_time_binned_spike_counts(time_binning_container, unit_specific_binned_spike_counts)"
   ]
  },
  {
   "cell_type": "code",
   "execution_count": null,
   "id": "374ead33-f492-41f3-ba32-c9484b31f9cb",
   "metadata": {
    "pycharm": {
     "name": "#%%\n"
    }
   },
   "outputs": [],
   "source": [
    "# from `_perform_firing_rate_trends_computation`: using `ZhangReconstructionImplementation.compute_time_binned_spiking_activity(...)` this one now all makes sense:\n",
    "active_session_spikes_df = sess.spikes_df.copy()\n",
    "unit_specific_binned_spike_count_df, sess_time_window_edges, sess_time_window_edges_binning_info = ZhangReconstructionImplementation.compute_time_binned_spiking_activity(active_session_spikes_df.copy(), max_time_bin_size=time_bin_size_seconds, debug_print=False) # np.shape(unit_specific_spike_counts): (4188, 108)\n",
    "sess_time_binning_container = BinningContainer(edges=sess_time_window_edges, edge_info=sess_time_window_edges_binning_info)\n",
    "ZhangReconstructionImplementation._validate_time_binned_spike_rate_df(sess_time_binning_container.centers, unit_specific_binned_spike_count_df)"
   ]
  },
  {
   "cell_type": "code",
   "execution_count": null,
   "id": "8d4b9f88-b41b-4111-879b-a92e4585776d",
   "metadata": {
    "lines_to_next_cell": 2,
    "pycharm": {
     "name": "#%%\n"
    }
   },
   "outputs": [],
   "source": []
  },
  {
   "cell_type": "markdown",
   "id": "4396a90f-c52d-4860-901a-3fe8fb87c838",
   "metadata": {
    "incorrectly_encoded_metadata": "pycharm={\"name\": \"#%%\\n\"} tags=[] jp-MarkdownHeadingCollapsed=true tags=[] jp-MarkdownHeadingCollapsed=true",
    "jp-MarkdownHeadingCollapsed": true,
    "tags": []
   },
   "source": [
    "# NEW 2022-12-14 - Efficient PfND_TimeDependent batch entropy computations:"
   ]
  },
  {
   "cell_type": "code",
   "execution_count": null,
   "id": "428f533d-35d2-42e2-9480-8b9509fe391f",
   "metadata": {
    "pycharm": {
     "name": "#%%\n"
    }
   },
   "outputs": [],
   "source": [
    "## Get computed relative entropy measures:\n",
    "global_epoch_name = curr_active_pipeline.active_completed_computation_result_names[-1] # 'maze'\n",
    "global_results = curr_active_pipeline.computation_results[global_epoch_name]['computed_data']\n",
    "\n",
    "## Get existing `pf1D_dt`:\n",
    "active_pf_1D = global_results.pf1D\n",
    "active_pf_1D_dt = global_results.pf1D_dt\n",
    "\n",
    "## firing_rate_trends:\n",
    "try:\n",
    "    active_extended_stats = curr_active_pipeline.computation_results[global_epoch_name].computed_data['extended_stats']\n",
    "    time_binned_pos_df = active_extended_stats['time_binned_position_df']\n",
    "except (AttributeError, KeyError) as e:\n",
    "    print(f'encountered error: {e}. Recomputing...')\n",
    "    curr_active_pipeline.perform_specific_computation(computation_functions_name_whitelist=['_perform_firing_rate_trends_computation'], enabled_filter_names=[global_epoch_name], fail_on_exception=True, debug_print=False) \n",
    "    print(f'\\t done.')\n",
    "    active_extended_stats = curr_active_pipeline.computation_results[global_epoch_name].computed_data['extended_stats']\n",
    "    time_binned_pos_df = active_extended_stats['time_binned_position_df']\n",
    "except Exception as e:\n",
    "    raise e\n",
    "\n",
    "## relative_entropy_analyses:\n",
    "try:\n",
    "    active_relative_entropy_results = active_extended_stats['relative_entropy_analyses']\n",
    "    post_update_times = active_relative_entropy_results['post_update_times'] # (4152,) = (n_post_update_times,)\n",
    "    snapshot_differences_result_dict = active_relative_entropy_results['snapshot_differences_result_dict']\n",
    "    time_intervals = active_relative_entropy_results['time_intervals']\n",
    "    long_short_rel_entr_curves_frames = active_relative_entropy_results['long_short_rel_entr_curves_frames'] # (4152, 108, 63) = (n_post_update_times, n_neurons, n_xbins)\n",
    "    short_long_rel_entr_curves_frames = active_relative_entropy_results['short_long_rel_entr_curves_frames'] # (4152, 108, 63) = (n_post_update_times, n_neurons, n_xbins)\n",
    "    flat_relative_entropy_results = active_relative_entropy_results['flat_relative_entropy_results'] # (149, 63) - (nSnapshots, nXbins)\n",
    "    flat_jensen_shannon_distance_results = active_relative_entropy_results['flat_jensen_shannon_distance_results'] # (149, 63) - (nSnapshots, nXbins)\n",
    "    flat_jensen_shannon_distance_across_all_positions = np.sum(flat_jensen_shannon_distance_results, axis=1) # sum across all position bins # (4152,) - (nSnapshots)\n",
    "    flat_surprise_across_all_positions = np.sum(flat_relative_entropy_results, axis=1) # sum across all position bins # (4152,) - (nSnapshots)\n",
    "except (AttributeError, KeyError) as e:\n",
    "    print(f'encountered error: {e}. Recomputing...')\n",
    "    curr_active_pipeline.perform_specific_computation(computation_functions_name_whitelist=['_perform_time_dependent_pf_sequential_surprise_computation'], enabled_filter_names=[global_epoch_name], fail_on_exception=True, debug_print=False)\n",
    "    print(f'\\t done.')\n",
    "    active_relative_entropy_results = active_extended_stats['relative_entropy_analyses']\n",
    "    post_update_times = active_relative_entropy_results['post_update_times'] # (4152,) = (n_post_update_times,)\n",
    "    snapshot_differences_result_dict = active_relative_entropy_results['snapshot_differences_result_dict']\n",
    "    time_intervals = active_relative_entropy_results['time_intervals']\n",
    "    long_short_rel_entr_curves_frames = active_relative_entropy_results['long_short_rel_entr_curves_frames'] # (4152, 108, 63) = (n_post_update_times, n_neurons, n_xbins)\n",
    "    short_long_rel_entr_curves_frames = active_relative_entropy_results['short_long_rel_entr_curves_frames'] # (4152, 108, 63) = (n_post_update_times, n_neurons, n_xbins)\n",
    "    flat_relative_entropy_results = active_relative_entropy_results['flat_relative_entropy_results'] # (149, 63) - (nSnapshots, nXbins)\n",
    "    flat_jensen_shannon_distance_results = active_relative_entropy_results['flat_jensen_shannon_distance_results'] # (149, 63) - (nSnapshots, nXbins)\n",
    "    flat_jensen_shannon_distance_across_all_positions = np.sum(np.abs(flat_jensen_shannon_distance_results), axis=1) # sum across all position bins # (4152,) - (nSnapshots)\n",
    "    flat_surprise_across_all_positions = np.sum(np.abs(flat_relative_entropy_results), axis=1) # sum across all position bins # (4152,) - (nSnapshots)\n",
    "except Exception as e:\n",
    "    raise e"
   ]
  },
  {
   "cell_type": "code",
   "execution_count": null,
   "id": "6b0e0d90-a7d1-4090-ad3f-5300adcae38f",
   "metadata": {
    "pycharm": {
     "name": "#%%\n"
    }
   },
   "outputs": [],
   "source": [
    "short_long_rel_entr_curves_frames.shape"
   ]
  },
  {
   "cell_type": "code",
   "execution_count": null,
   "id": "568dc997-ba02-4e80-875a-68576bf4d853",
   "metadata": {
    "pycharm": {
     "name": "#%%\n"
    }
   },
   "outputs": [],
   "source": [
    "active_pf_1D_dt.included_neuron_IDXs.shape"
   ]
  },
  {
   "cell_type": "code",
   "execution_count": null,
   "id": "1e4c8360-5770-48bc-b692-2badf10aa585",
   "metadata": {
    "pycharm": {
     "name": "#%%\n"
    }
   },
   "outputs": [],
   "source": [
    "active_pf_1D.included_neuron_IDs.shape"
   ]
  },
  {
   "cell_type": "code",
   "execution_count": null,
   "id": "2dacc090-4724-41a4-a43e-3e4f78e228fb",
   "metadata": {
    "pycharm": {
     "name": "#%%\n"
    }
   },
   "outputs": [],
   "source": [
    "len(active_pf_1D.ratemap.neuron_ids)"
   ]
  },
  {
   "cell_type": "code",
   "execution_count": null,
   "id": "5e2f915d-df89-4a35-806f-0d7d3e346186",
   "metadata": {
    "pycharm": {
     "name": "#%%\n"
    }
   },
   "outputs": [],
   "source": [
    "active_pf_1D.ratemap.n_neurons"
   ]
  },
  {
   "cell_type": "code",
   "execution_count": null,
   "id": "7f719436-2a6c-45a3-9623-b64a5ab2e5dd",
   "metadata": {
    "pycharm": {
     "name": "#%%\n"
    }
   },
   "outputs": [],
   "source": [
    "neurons_obj = curr_active_pipeline.sess.neurons\n",
    "neurons_obj"
   ]
  },
  {
   "cell_type": "code",
   "execution_count": null,
   "id": "c13cfcad-a43d-41e3-8cf1-b565b374b247",
   "metadata": {
    "pycharm": {
     "name": "#%%\n"
    }
   },
   "outputs": [],
   "source": [
    "neurons_obj.neuron_type"
   ]
  },
  {
   "cell_type": "code",
   "execution_count": null,
   "id": "92f51d50-f21d-437c-87f0-5ca1bbca6f75",
   "metadata": {
    "pycharm": {
     "name": "#%%\n"
    }
   },
   "outputs": [],
   "source": [
    "neurons_obj = None"
   ]
  },
  {
   "cell_type": "code",
   "execution_count": null,
   "id": "536b2577-8df8-4e62-92d7-6069abcd658c",
   "metadata": {
    "pycharm": {
     "name": "#%%\n"
    }
   },
   "outputs": [],
   "source": [
    "from neuropy.core.neurons import NeuronType\n",
    "neurons_obj_PYR = neurons_obj.get_neuron_type(NeuronType.CONTAMINATED)\n",
    "neurons_obj_PYR"
   ]
  },
  {
   "cell_type": "code",
   "execution_count": null,
   "id": "19d7a0bc-3207-463e-a60e-dfd3740391b1",
   "metadata": {
    "pycharm": {
     "name": "#%%\n"
    }
   },
   "outputs": [],
   "source": [
    "get_neuron_type"
   ]
  },
  {
   "cell_type": "code",
   "execution_count": null,
   "id": "b5b1cf8c-989f-4348-a53f-58e775b04d0b",
   "metadata": {
    "pycharm": {
     "name": "#%%\n"
    }
   },
   "outputs": [],
   "source": [
    "# Compare by value:\n",
    "np.array([v.value for v in neurons_obj._neuron_type]) == NeuronType.INTERNEURONS.value"
   ]
  },
  {
   "cell_type": "code",
   "execution_count": null,
   "id": "2fab9fda-c5ae-4146-9224-148dc4583a0c",
   "metadata": {
    "pycharm": {
     "name": "#%%\n"
    }
   },
   "outputs": [],
   "source": [
    "neurons_obj.neuron_type == NeuronType.INTERNEURONS"
   ]
  },
  {
   "cell_type": "code",
   "execution_count": null,
   "id": "9f1d3b99-51bc-4a5a-8e5e-79f9432d9c22",
   "metadata": {
    "pycharm": {
     "name": "#%%\n"
    }
   },
   "outputs": [],
   "source": [
    "neurons_obj_PYR.spiketrains"
   ]
  },
  {
   "cell_type": "code",
   "execution_count": null,
   "id": "547d8050-41b4-4523-a113-1ea749a622e5",
   "metadata": {
    "pycharm": {
     "name": "#%%\n"
    }
   },
   "outputs": [],
   "source": [
    "neurons_obj_PYR.neuron_ids"
   ]
  },
  {
   "cell_type": "code",
   "execution_count": null,
   "id": "dfe04274-2384-4a74-975d-7497e8e7c476",
   "metadata": {
    "pycharm": {
     "name": "#%%\n"
    }
   },
   "outputs": [],
   "source": [
    "neurons_obj_PYR.get_above_firing_rate(1.0)"
   ]
  },
  {
   "cell_type": "code",
   "execution_count": null,
   "id": "a24ec1b2-b170-4df5-8099-3a4f6d64c9ba",
   "metadata": {
    "pycharm": {
     "name": "#%%\n"
    }
   },
   "outputs": [],
   "source": [
    "CodeConversion.get_arguments_as_optional_dict(\"ha='center', va='top', family='sans-serif', size=14\")"
   ]
  },
  {
   "cell_type": "code",
   "execution_count": null,
   "id": "7e6939d8-2bf6-4fff-8096-9db728d35581",
   "metadata": {
    "pycharm": {
     "name": "#%%\n"
    }
   },
   "outputs": [],
   "source": [
    "from neuropy.utils.matplotlib_helpers import draw_epoch_regions\n",
    "from neuropy.core.epoch import Epoch"
   ]
  },
  {
   "cell_type": "code",
   "execution_count": null,
   "id": "7ee4ea8d-049b-4e59-937e-d380fa281660",
   "metadata": {
    "pycharm": {
     "name": "#%%\n"
    }
   },
   "outputs": [],
   "source": [
    "active_filter_epochs = curr_active_pipeline.sess.replay\n",
    "active_filter_epochs\n",
    "\n",
    "if not 'stop' in active_filter_epochs.columns:\n",
    "    # Make sure it has the 'stop' column which is expected as opposed to the 'end' column\n",
    "    active_filter_epochs['stop'] = active_filter_epochs['end'].copy()\n",
    "    \n",
    "if not 'label' in active_filter_epochs.columns:\n",
    "    # Make sure it has the 'stop' column which is expected as opposed to the 'end' column\n",
    "    active_filter_epochs['label'] = active_filter_epochs['flat_replay_idx'].copy()\n",
    "\n",
    "active_filter_epoch_obj = Epoch(active_filter_epochs)\n",
    "active_filter_epoch_obj"
   ]
  },
  {
   "cell_type": "code",
   "execution_count": null,
   "id": "fdb892d3-435d-4ddf-8f3f-3435c464c664",
   "metadata": {
    "pycharm": {
     "name": "#%%\n"
    },
    "tags": [
     "plot",
     "visualization"
    ]
   },
   "outputs": [],
   "source": [
    "fig, ax = plt.subplots()\n",
    "# ax.plot(post_update_times, flat_surprise_across_all_positions)\n",
    "ax.set_ylabel('Relative Entropy across all positions')\n",
    "ax.set_xlabel('t (seconds)')\n",
    "epochs_collection, epoch_labels = draw_epoch_regions(curr_active_pipeline.sess.epochs, ax, facecolor=('red','cyan'), alpha=0.1, edgecolors=None, labels_kwargs={'y_offset': -0.05, 'size': 14}, defer_render=True, debug_print=False)\n",
    "laps_epochs_collection, laps_epoch_labels = draw_epoch_regions(curr_active_pipeline.sess.laps.as_epoch_obj(), ax, facecolor='red', edgecolors='black', labels_kwargs={'y_offset': -16.0, 'size':8}, defer_render=True, debug_print=False)\n",
    "replays_epochs_collection, replays_epoch_labels = draw_epoch_regions(active_filter_epoch_obj, ax, facecolor='orange', edgecolors=None, labels_kwargs=None, defer_render=False, debug_print=False)\n",
    "fig.suptitle('flat_surprise_across_all_positions')\n",
    "fig.show()"
   ]
  },
  {
   "cell_type": "code",
   "execution_count": null,
   "id": "4e2fca82-ce2b-465b-9c00-a836d85d2faa",
   "metadata": {
    "pycharm": {
     "name": "#%%\n"
    }
   },
   "outputs": [],
   "source": [
    "type(curr_active_pipeline.sess.pbe)"
   ]
  },
  {
   "cell_type": "code",
   "execution_count": null,
   "id": "707f5d39-efd4-4f9f-986a-43d82eee61e0",
   "metadata": {
    "pycharm": {
     "name": "#%%\n"
    },
    "tags": [
     "plot",
     "visualization"
    ]
   },
   "outputs": [],
   "source": [
    "# heatmap\n",
    "fig, ax = plt.subplots()\n",
    "# ax.plot(post_update_times, flat_relative_entropy_results)\n",
    "extents = (post_update_times[0], post_update_times[-1], active_pf_1D_dt.xbin[0], active_pf_1D_dt.xbin[-1]) # (left, right, bottom, top)\n",
    "ax.imshow(flat_relative_entropy_results.T, extent=extents)\n",
    "ax.set_ylabel('Relative Entropy')\n",
    "ax.set_xlabel('t (seconds)')\n",
    "fig.suptitle('flat_relative_entropy_results.T')\n",
    "epochs_collection, epoch_labels = draw_epoch_regions(curr_active_pipeline.sess.epochs, ax, defer_render=False, debug_print=False)\n",
    "fig.show()"
   ]
  },
  {
   "cell_type": "code",
   "execution_count": null,
   "id": "bffc34a2-1926-4f26-bb40-536fc0012648",
   "metadata": {
    "pycharm": {
     "name": "#%%\n"
    }
   },
   "outputs": [],
   "source": [
    "active_pf_1D_dt.xbin"
   ]
  },
  {
   "cell_type": "code",
   "execution_count": null,
   "id": "0a465995-b639-4bee-a0b2-2ab5f91199e7",
   "metadata": {
    "pycharm": {
     "name": "#%%\n"
    }
   },
   "outputs": [],
   "source": [
    "ax"
   ]
  },
  {
   "cell_type": "code",
   "execution_count": null,
   "id": "7c9e83f0-0b64-473e-adf3-cd4bc9e5e637",
   "metadata": {
    "pycharm": {
     "name": "#%%\n"
    },
    "tags": [
     "visualization",
     "plot"
    ]
   },
   "outputs": [],
   "source": [
    "# Show basic relative entropy vs. time plot:\n",
    "import matplotlib.pyplot as plt\n",
    "fig, ax = plt.subplots()\n",
    "ax.plot(post_update_times, flat_relative_entropy_results)\n",
    "ax.set_ylabel('Relative Entropy')\n",
    "ax.set_xlabel('t (seconds)')\n",
    "fig.suptitle('flat_relative_entropy_results')\n",
    "epochs_collection, epoch_labels = draw_epoch_regions(curr_active_pipeline.sess.epochs, ax, defer_render=False, debug_print=False)\n",
    "fig.show()"
   ]
  },
  {
   "cell_type": "code",
   "execution_count": null,
   "id": "43328043-b1cf-4f3b-abcf-744745656831",
   "metadata": {
    "pycharm": {
     "name": "#%%\n"
    }
   },
   "outputs": [],
   "source": [
    "curr_active_pipeline.sess.epochs.labels"
   ]
  },
  {
   "cell_type": "code",
   "execution_count": null,
   "id": "002740ae-e395-4de4-8045-b53a180e3fff",
   "metadata": {
    "pycharm": {
     "name": "#%%\n"
    }
   },
   "outputs": [],
   "source": [
    "trans = transforms.Affine2D().scale(fig.dpi/72.0)\n",
    "collection.set_transform(trans)  # the points to pixels transform\n",
    "# ax2.add_collection(col, autolim=True)\n",
    "# epoch_mid_t\n",
    "curr_ax.get_figure().canvas.draw()"
   ]
  },
  {
   "cell_type": "code",
   "execution_count": null,
   "id": "8db3de38-5eb4-485c-b055-740e2e1b162b",
   "metadata": {
    "pycharm": {
     "name": "#%%\n"
    }
   },
   "outputs": [],
   "source": [
    "\n",
    "epoch_labels\n",
    "curr_ax.get_figure().canvas.draw()"
   ]
  },
  {
   "cell_type": "code",
   "execution_count": null,
   "id": "b472ed67-da1e-4a55-b040-1ade129726d7",
   "metadata": {
    "pycharm": {
     "name": "#%%\n"
    }
   },
   "outputs": [],
   "source": [
    "a_label = epoch_labels[0] # Text\n",
    "a_label.get_position()"
   ]
  },
  {
   "cell_type": "code",
   "execution_count": null,
   "id": "b68f92e4-37eb-4be8-b6fe-56e5e0337ffa",
   "metadata": {
    "pycharm": {
     "name": "#%%\n"
    }
   },
   "outputs": [],
   "source": [
    "a_label.get_size()"
   ]
  },
  {
   "cell_type": "code",
   "execution_count": null,
   "id": "20f0c69b-7506-4310-8630-733366dc202e",
   "metadata": {
    "pycharm": {
     "name": "#%%\n"
    }
   },
   "outputs": [],
   "source": [
    "a_label.get_verticalalignment()"
   ]
  },
  {
   "cell_type": "code",
   "execution_count": null,
   "id": "83a9602a-df5a-4d26-921a-a7cc744fe8e2",
   "metadata": {
    "pycharm": {
     "name": "#%%\n"
    }
   },
   "outputs": [],
   "source": [
    "a_label.set_verticalalignment('top')\n",
    "curr_ax.get_figure().canvas.draw()"
   ]
  },
  {
   "cell_type": "code",
   "execution_count": null,
   "id": "1912af2e-6cd9-454f-ab1b-a50900e75f23",
   "metadata": {
    "pycharm": {
     "name": "#%%\n"
    }
   },
   "outputs": [],
   "source": [
    "bb = a_label.get_extents()\n",
    "bb"
   ]
  },
  {
   "cell_type": "code",
   "execution_count": null,
   "id": "483ee00b-9736-474c-af86-efb7e9ca08fe",
   "metadata": {
    "pycharm": {
     "name": "#%%\n"
    }
   },
   "outputs": [],
   "source": [
    "collection.sticky_edges"
   ]
  },
  {
   "cell_type": "code",
   "execution_count": null,
   "id": "4d046c62-8d2e-43c0-8513-cd39e0b00f9e",
   "metadata": {
    "pycharm": {
     "name": "#%%\n"
    }
   },
   "outputs": [],
   "source": [
    "out = curr_ax.broken_barh([epoch_tuples[0]], (0, 1), facecolors='tab:blue')\n",
    "out"
   ]
  },
  {
   "cell_type": "code",
   "execution_count": null,
   "id": "b8c51902-71e7-44e7-b2e9-8c5663965df6",
   "metadata": {
    "pycharm": {
     "name": "#%%\n"
    }
   },
   "outputs": [],
   "source": [
    "curr_ax.get_figure().canvas.draw()"
   ]
  },
  {
   "cell_type": "code",
   "execution_count": null,
   "id": "54d46500-8ee4-49b5-b86d-ce9d68a82a99",
   "metadata": {
    "pycharm": {
     "name": "#%%\n"
    }
   },
   "outputs": [],
   "source": [
    "curr_span_ymin"
   ]
  },
  {
   "cell_type": "code",
   "execution_count": null,
   "id": "4a0f8f0f-dcd2-466f-96ae-e9299dbd559f",
   "metadata": {
    "pycharm": {
     "name": "#%%\n"
    }
   },
   "outputs": [],
   "source": [
    "curr_span_ymax"
   ]
  },
  {
   "cell_type": "code",
   "execution_count": null,
   "id": "aac5f7c4-6c31-49a8-882b-2d15621c5708",
   "metadata": {
    "pycharm": {
     "name": "#%%\n"
    },
    "tags": [
     "temp"
    ]
   },
   "outputs": [],
   "source": [
    "from numpy import inf\n",
    "from sklearn.preprocessing import minmax_scale\n",
    "from PendingNotebookCode import _normalize_flat_relative_entropy_infs\n",
    "\n",
    "# # Replace np.inf with a maximally high value.\n",
    "# inf_value_mask = np.isinf(flat_relative_entropy_results) # all the infinte values\n",
    "\n",
    "# normalized_flat_relative_entropy_results = flat_relative_entropy_results.copy()\n",
    "# normalized_flat_relative_entropy_results[normalized_flat_relative_entropy_results == inf] = 0  # zero out the infinite values for normalization to the feature range (-1, 1)\n",
    "# normalized_flat_relative_entropy_results = minmax_scale(normalized_flat_relative_entropy_results, feature_range=(-1, 1)) # normalize to the feature_range (-1, 1)\n",
    "\n",
    "# # Restore the infinite values at the specified value:\n",
    "# # normalized_flat_relative_entropy_results[inf_value_mask] = 0.0\n",
    "\n",
    "normalized_flat_relative_entropy_results = _normalize_flat_relative_entropy_infs(flat_relative_entropy_results)"
   ]
  },
  {
   "cell_type": "code",
   "execution_count": null,
   "id": "304dc728-b4cf-44f9-ab5e-38ada98d79e9",
   "metadata": {
    "pycharm": {
     "name": "#%%\n"
    },
    "tags": [
     "visualization",
     "plot"
    ]
   },
   "outputs": [],
   "source": [
    "import matplotlib.pyplot as plt\n",
    "fig, ax = plt.subplots()\n",
    "ax.plot(post_update_times, normalized_flat_relative_entropy_results)\n",
    "ax.set_ylabel('Normalized Relative Entropy')\n",
    "ax.set_xlabel('t (seconds)')\n",
    "fig.suptitle('Normalized Relative Entropy')\n",
    "epochs_collection, epoch_labels = draw_epoch_regions(curr_active_pipeline.sess.epochs, ax, defer_render=False, debug_print=False)\n",
    "fig.show()"
   ]
  },
  {
   "cell_type": "markdown",
   "id": "a7348b8f-7836-4a26-935f-e71d399b7b6c",
   "metadata": {
    "pycharm": {
     "name": "#%%\n"
    },
    "tags": []
   },
   "source": [
    "## Plotting Crap"
   ]
  },
  {
   "cell_type": "markdown",
   "id": "ef306fc6-76a9-4833-9aa8-6c93a5b545a4",
   "metadata": {
    "pycharm": {
     "name": "#%%\n"
    }
   },
   "source": [
    "### one_step_decoder"
   ]
  },
  {
   "cell_type": "code",
   "execution_count": null,
   "id": "3840d86e-d06d-4bfc-a321-b1df7e0a377c",
   "metadata": {
    "pycharm": {
     "name": "#%%\n"
    },
    "tags": [
     "plot",
     "temp"
    ]
   },
   "outputs": [],
   "source": [
    "## THE CORE WORKING VERSION - 2022-09-27 @ 4pm\n",
    "from pyphocorehelpers.gui.PhoUIContainer import PhoUIContainer\n",
    "from pyphoplacecellanalysis.General.Pipeline.Stages.DisplayFunctions.DecoderPredictionError import plot_most_likely_position_comparsions, plot_1D_most_likely_position_comparsions\n",
    "\n",
    "active_one_step_decoder = long_one_step_decoder_1D\n",
    "\n",
    "## Test Plotting just a single dimension of the 2D posterior:\n",
    "pho_custom_decoder = active_one_step_decoder # active_pf_2D\n",
    "# pho_custom_decoder = new_2D_decoder\n",
    "active_posterior = pho_custom_decoder.p_x_given_n\n",
    "# Collapse the 2D position posterior into two separate 1D (X & Y) marginal posteriors. Be sure to re-normalize each marginal after summing\n",
    "marginal_posterior_x = np.squeeze(np.sum(active_posterior, 1)) # sum over all y. Result should be [x_bins x time_bins]\n",
    "marginal_posterior_x = marginal_posterior_x / np.sum(marginal_posterior_x, axis=0) # sum over all positions for each time_bin (so there's a normalized distribution at each timestep)\n",
    "# np.shape(marginal_posterior_x) # (41, 3464)\n",
    "custom_2D_decoder_container = PhoUIContainer('active_pf_2D_decoder', figure_id=f'active_pf_2D_decoder_most_likely')\n",
    "# custom_2D_decoder_container.fig, custom_2D_decoder_container.ax = plt.subplots(num=custom_2D_decoder_container.figure_id, ncols=1, nrows=1, figsize=(15,15), clear=True, sharex=True, sharey=False, constrained_layout=True)\n",
    "\n",
    "custom_2D_decoder_container.fig = active_2d_plot.ui.matplotlib_view_widget.getFigure()\n",
    "custom_2D_decoder_container.ax = active_2d_plot.ui.matplotlib_view_widget.ax #getFigure().add_subplot(111)\n",
    "custom_2D_decoder_container.fig.suptitle(custom_2D_decoder_container.name)\n",
    "custom_2D_decoder_container.fig, custom_2D_decoder_container.ax = plot_1D_most_likely_position_comparsions(sess.position.to_dataframe(), ax=custom_2D_decoder_container.ax, time_window_centers=pho_custom_decoder.active_time_window_centers, xbin=pho_custom_decoder.xbin,\n",
    "                                                   posterior=marginal_posterior_x,\n",
    "                                                   active_most_likely_positions_1D=pho_custom_decoder.most_likely_positions[:,0].T,\n",
    "                                                   enable_flat_line_drawing=False, debug_print=False)\n",
    "\n",
    "active_2d_plot.ui.matplotlib_view_widget.draw()"
   ]
  },
  {
   "cell_type": "markdown",
   "id": "b3364ea6-46fd-43ce-91a6-495c85a4d911",
   "metadata": {
    "pycharm": {
     "name": "#%%\n"
    },
    "tags": []
   },
   "source": [
    "### Other"
   ]
  },
  {
   "cell_type": "code",
   "execution_count": null,
   "id": "b1b504c3-6f03-4ddb-a762-2eeec7d692fa",
   "metadata": {
    "pycharm": {
     "name": "#%%\n"
    },
    "tags": [
     "imports"
    ]
   },
   "outputs": [],
   "source": [
    "# Python\n",
    "import pandas as pd\n",
    "# from prophet import Prophet\n",
    "import matplotlib.pyplot as plt"
   ]
  },
  {
   "cell_type": "code",
   "execution_count": null,
   "id": "a6237067-21a1-4e52-a84b-d34bff1e39ac",
   "metadata": {
    "pycharm": {
     "name": "#%%\n"
    },
    "tags": [
     "plot",
     "visualization"
    ]
   },
   "outputs": [],
   "source": [
    "fig, ax = plt.subplots(figsize=(10, 7))\n",
    "ax.stackplot(post_update_times, flat_relative_entropy_results.T, baseline=\"sym\")\n",
    "ax.axhline(0, color=\"black\", ls=\"--\");"
   ]
  },
  {
   "cell_type": "code",
   "execution_count": null,
   "id": "cd3ac66a-c9b7-4dc9-a1c4-1100c2d0a15b",
   "metadata": {
    "pycharm": {
     "name": "#%%\n"
    }
   },
   "outputs": [],
   "source": [
    "fig.show()"
   ]
  },
  {
   "cell_type": "code",
   "execution_count": null,
   "id": "d47dd52c-e03e-428e-99c5-bf3d213c72f1",
   "metadata": {
    "pycharm": {
     "name": "#%%\n"
    },
    "tags": [
     "visualization"
    ]
   },
   "outputs": [],
   "source": [
    "from pyphoplacecellanalysis.GUI.PyQtPlot.BinnedImageRenderingWindow import BasicBinnedImageRenderingWindow, LayoutScrollability\n",
    "\n",
    "\n",
    "\n",
    "out = BasicBinnedImageRenderingWindow(flat_relative_entropy_results, post_update_times, active_pf_1D_dt.xbin_labels, name='relative_entropy', title=\"Relative Entropy per Pos (X) @ time (t)\", variable_label='Rel Entropy', scrollability_mode=LayoutScrollability.NON_SCROLLABLE)\n",
    "out\n",
    "# out.add_data(row=1, col=0, matrix=active_eloy_analysis.pf_overlapDensity_2D, xbins=active_pf_2D_dt.xbin_labels, ybins=active_pf_2D_dt.ybin_labels, name='pf_overlapDensity', title='pf overlapDensity metric', variable_label='pf overlapDensity')"
   ]
  },
  {
   "cell_type": "code",
   "execution_count": null,
   "id": "67e26fcf-a3d3-4753-9b13-d72781d871f6",
   "metadata": {
    "pycharm": {
     "name": "#%%\n"
    },
    "tags": [
     "visualization"
    ]
   },
   "outputs": [],
   "source": [
    "from pyphoplacecellanalysis.GUI.PyQtPlot.Examples.pyqtplot_Matrix import MatrixRenderingWindow\n",
    "from pyphoplacecellanalysis.External.pyqtgraph.Qt import QtCore, QtGui, QtWidgets\n",
    "\n",
    "# QtWidgets\n",
    "# out_old = MatrixRenderingWindow("
   ]
  },
  {
   "cell_type": "code",
   "execution_count": null,
   "id": "4d7be914-2eea-4ccb-9d04-dec7ebea2e42",
   "metadata": {
    "pycharm": {
     "name": "#%%\n"
    }
   },
   "outputs": [],
   "source": [
    "out.ui.graphics_layout.setMinimumHeight(out.params.all_plots_height)\n",
    "# out.ui.graphics_layout.setSizeAdjustPolicy()\n",
    "out.ui.graphics_layout.setSizePolicy(QtWidgets.QSizePolicy.Expanding, QtWidgets.QSizePolicy.MinimumExpanding)\n",
    "# out.ui.graphics_layout.setSizeAdjustPolicy()"
   ]
  },
  {
   "cell_type": "code",
   "execution_count": null,
   "id": "7c2292f2-46ef-4c73-b512-af61382bcf59",
   "metadata": {
    "pycharm": {
     "name": "#%%\n"
    }
   },
   "outputs": [],
   "source": [
    "# sizePolicy = QtWidgets.QSizePolicy(QtWidgets.QSizePolicy.Expanding, QtWidgets.QSizePolicy.MinimumExpanding)\n",
    "# sizePolicy.setHorizontalStretch(0)\n",
    "# sizePolicy.setVerticalStretch(0)\n",
    "# sizePolicy.setHeightForWidth(self.scroll_area.sizePolicy().hasHeightForWidth())\n",
    "# self.scroll_area.setSizePolicy(sizePolicy)"
   ]
  },
  {
   "cell_type": "code",
   "execution_count": null,
   "id": "79868d6d-a926-47de-98a9-673aed56890d",
   "metadata": {
    "pycharm": {
     "name": "#%%\n"
    },
    "tags": [
     "visualization",
     "plot"
    ]
   },
   "outputs": [],
   "source": [
    "ax.pcolormesh(xgrid, ygrid, temp, cmap=\"magma\", vmin=MIN_TEMP, vmax=MAX_TEMP)\n",
    "# Invert the vertical axis\n",
    "ax.set_ylim(24, 0)\n",
    "# Set tick positions for both axes\n",
    "ax.yaxis.set_ticks([i for i in range(24)])\n",
    "ax.xaxis.set_ticks([10, 20, 30])\n",
    "# Remove ticks by setting their length to 0\n",
    "ax.yaxis.set_tick_params(length=0)\n",
    "ax.xaxis.set_tick_params(length=0)"
   ]
  },
  {
   "cell_type": "code",
   "execution_count": null,
   "id": "e4205079-dbba-40b9-b2a7-e5e9379e55a6",
   "metadata": {
    "pycharm": {
     "name": "#%%\n"
    }
   },
   "outputs": [],
   "source": [
    "post_update_times.shape # (4152,)"
   ]
  },
  {
   "cell_type": "code",
   "execution_count": null,
   "id": "e3930c21-fd29-40c4-9c13-bc53fdb2272c",
   "metadata": {
    "pycharm": {
     "name": "#%%\n"
    }
   },
   "outputs": [],
   "source": [
    "len(flat_relative_entropy_results) # len(flat_relative_entropy_results) # 4152"
   ]
  },
  {
   "cell_type": "code",
   "execution_count": null,
   "id": "429b9a3e-c041-4d7a-80bf-47d8524f69be",
   "metadata": {
    "pycharm": {
     "name": "#%%\n"
    }
   },
   "outputs": [],
   "source": [
    "flat_relative_entropy_results.shape # (4152, 63)"
   ]
  },
  {
   "cell_type": "code",
   "execution_count": null,
   "id": "668b2908-3a94-46eb-ae4e-a5be44d293c3",
   "metadata": {
    "pycharm": {
     "name": "#%%\n"
    }
   },
   "outputs": [],
   "source": [
    "flat_jensen_shannon_distance_results"
   ]
  },
  {
   "cell_type": "code",
   "execution_count": null,
   "id": "f79d7998-fcdc-49be-b163-e1d47544abc0",
   "metadata": {
    "pycharm": {
     "name": "#%%\n"
    }
   },
   "outputs": [],
   "source": [
    "np.unique(flat_relative_entropy_results)"
   ]
  },
  {
   "cell_type": "code",
   "execution_count": null,
   "id": "5f82cd21-7590-4518-b005-cd53ecb313e2",
   "metadata": {
    "pycharm": {
     "name": "#%%\n"
    }
   },
   "outputs": [],
   "source": [
    "np.unique(flat_jensen_shannon_distance_results)"
   ]
  },
  {
   "cell_type": "code",
   "execution_count": null,
   "id": "cd173afc-d14f-4a22-9a81-f6a045e1b647",
   "metadata": {
    "pycharm": {
     "name": "#%%\n"
    },
    "tags": [
     "visualization",
     "plot"
    ]
   },
   "outputs": [],
   "source": [
    "ax.plot(flat_jensen_shannon_distance_results[:,0])"
   ]
  },
  {
   "cell_type": "code",
   "execution_count": null,
   "id": "05ffdd5a-6108-4cc3-9f32-001d123fa356",
   "metadata": {
    "pycharm": {
     "name": "#%%\n"
    }
   },
   "outputs": [],
   "source": [
    "plt.plot(post_update_times, flat_relative_entropy_results)"
   ]
  },
  {
   "cell_type": "code",
   "execution_count": null,
   "id": "c914e532-93c4-42d9-969a-fd7128b0b1f2",
   "metadata": {
    "pycharm": {
     "name": "#%%\n"
    }
   },
   "outputs": [],
   "source": [
    "fig, ax = plt.subplots()\n",
    "ax.plot(post_update_times, flat_relative_entropy_results)\n",
    "fig.show()"
   ]
  },
  {
   "cell_type": "code",
   "execution_count": null,
   "id": "55d43581-e9c6-43cb-81c6-e3d597cd0456",
   "metadata": {
    "pycharm": {
     "name": "#%%\n"
    }
   },
   "outputs": [],
   "source": [
    "long_short_rel_entr_curves_frames"
   ]
  },
  {
   "cell_type": "code",
   "execution_count": null,
   "id": "a25837e0-7f86-4c47-bc9b-3d41dde32378",
   "metadata": {
    "pycharm": {
     "name": "#%%\n"
    }
   },
   "outputs": [],
   "source": [
    "flat_relative_entropy_results"
   ]
  },
  {
   "cell_type": "code",
   "execution_count": null,
   "id": "9b184be5-5afa-4b9c-8b1f-249282304da2",
   "metadata": {
    "pycharm": {
     "name": "#%%\n"
    }
   },
   "outputs": [],
   "source": [
    "flat_jensen_shannon_distance_results.shape # (4152, 63)"
   ]
  },
  {
   "cell_type": "code",
   "execution_count": null,
   "id": "72cad45c-2745-4bf1-8a8c-bac85b2dff7b",
   "metadata": {
    "pycharm": {
     "name": "#%%\n"
    },
    "tags": [
     "temp"
    ]
   },
   "outputs": [],
   "source": [
    "from pyphocorehelpers.print_helpers import print_object_memory_usage, print_dataframe_memory_usage"
   ]
  },
  {
   "cell_type": "code",
   "execution_count": null,
   "id": "58e8f8c9-1a10-4f1c-b0e0-ea327d358a1b",
   "metadata": {
    "pycharm": {
     "name": "#%%\n"
    },
    "tags": [
     "temp"
    ]
   },
   "outputs": [],
   "source": [
    "print_object_memory_usage(long_short_rel_entr_curves_frames)"
   ]
  },
  {
   "cell_type": "code",
   "execution_count": null,
   "id": "50d0fcc7-e87f-47b0-b86b-b6a606621fe6",
   "metadata": {
    "pycharm": {
     "name": "#%%\n"
    },
    "tags": [
     "temp"
    ]
   },
   "outputs": [],
   "source": [
    "print_object_memory_usage(out_list) # object size: 331.506809 MB"
   ]
  },
  {
   "cell_type": "code",
   "execution_count": null,
   "id": "d01dedd6-ebf3-4532-a06b-350eee24c032",
   "metadata": {
    "pycharm": {
     "name": "#%%\n"
    },
    "tags": [
     "temp"
    ]
   },
   "outputs": [],
   "source": [
    "print_object_memory_usage(out_list_t)"
   ]
  },
  {
   "cell_type": "code",
   "execution_count": null,
   "id": "ec0e72f3-3325-4cd5-8b21-a0e9cf1be205",
   "metadata": {
    "pycharm": {
     "name": "#%%\n"
    },
    "tags": [
     "temp"
    ]
   },
   "outputs": [],
   "source": [
    "print_object_memory_usage(out_list[0])"
   ]
  },
  {
   "cell_type": "code",
   "execution_count": null,
   "id": "5e421a11-caee-4e62-b186-ffca03c0cbc3",
   "metadata": {
    "pycharm": {
     "name": "#%%\n"
    }
   },
   "outputs": [],
   "source": [
    "a_snapshot = out_list[0]\n",
    "a_snapshot"
   ]
  },
  {
   "cell_type": "code",
   "execution_count": null,
   "id": "e951c955-2bc6-40b4-b7f5-51920be2dd78",
   "metadata": {
    "pycharm": {
     "name": "#%%\n"
    }
   },
   "outputs": [],
   "source": [
    "a_snapshot.to_dict()"
   ]
  },
  {
   "cell_type": "code",
   "execution_count": null,
   "id": "0027d9bf-1a19-41a9-b4e8-ae136c0b2c6e",
   "metadata": {
    "pycharm": {
     "name": "#%%\n"
    }
   },
   "outputs": [],
   "source": [
    "len(out_list) # 4153"
   ]
  },
  {
   "cell_type": "code",
   "execution_count": null,
   "id": "3025f6b5-b492-42c0-84cd-85abce1c1e8c",
   "metadata": {
    "pycharm": {
     "name": "#%%\n"
    }
   },
   "outputs": [],
   "source": [
    "out_list_t = np.array(out_list_t)\n",
    "out_list_t.shape"
   ]
  },
  {
   "cell_type": "code",
   "execution_count": null,
   "id": "b1564fee-1741-4342-9862-02f40256b379",
   "metadata": {
    "pycharm": {
     "name": "#%%\n"
    },
    "tags": [
     "temp"
    ]
   },
   "outputs": [],
   "source": [
    "print_object_memory_usage(active_pf_1D_dt) # object size: 200.256337 MB"
   ]
  },
  {
   "cell_type": "code",
   "execution_count": null,
   "id": "4cf28ec1-2fff-4214-944d-5b51b785a186",
   "metadata": {
    "pycharm": {
     "name": "#%%\n"
    }
   },
   "outputs": [],
   "source": [
    "# active_one_step_decoder.time_binning_container\n",
    "n_neurons = np.shape(self.unit_specific_time_binned_spike_counts)[0] > len(self.neuron_IDXs)"
   ]
  },
  {
   "cell_type": "code",
   "execution_count": null,
   "id": "58abd918-6a97-4189-b23c-be5be28750aa",
   "metadata": {
    "pycharm": {
     "name": "#%%\n"
    }
   },
   "outputs": [],
   "source": [
    "## Get the current positions at each of the time_window_centers:\n",
    "# active_resampled_measured_positions\n",
    "# active_extended_stats = active_computed_data.extended_stats\n",
    "time_binned_pos_df = active_extended_stats.time_binned_position_df\n",
    "active_resampled_pos_df = time_binned_pos_df  # 1717 rows × 16 columns\n",
    "active_resampled_pos_df"
   ]
  },
  {
   "cell_type": "code",
   "execution_count": null,
   "id": "c3c0a808-f99d-43ce-b8e1-0fc5bf21e552",
   "metadata": {
    "pycharm": {
     "name": "#%%\n"
    }
   },
   "outputs": [],
   "source": [
    "active_extended_stats.time_binned_position_mean"
   ]
  },
  {
   "cell_type": "code",
   "execution_count": null,
   "id": "f1c89f30-1512-4b6b-9683-a6dfccd49f38",
   "metadata": {
    "pycharm": {
     "name": "#%%\n"
    }
   },
   "outputs": [],
   "source": [
    "active_resampled_measured_positions = active_resampled_pos_df[['x','y']].to_numpy() # The measured positions resampled (interpolated) at the window centers. \n",
    "# np.shape(active_resampled_measured_positions) # (1911, 2)\n",
    "active_one_step_decoder.active_time_window_centers.shape # (1911,)\n",
    "print(f'active_one_step_decoder.active_time_window_centers.shape: {active_one_step_decoder.active_time_window_centers.shape}')\n",
    "# Note this has 2900 rows × 24 columns and active_one_step_decoder.active_time_window_centers.shape is (2892,) for some reason. Shouldn't they be the same?"
   ]
  },
  {
   "cell_type": "code",
   "execution_count": null,
   "id": "4960d6eb-3b33-440f-b326-35f5449c5f32",
   "metadata": {
    "pycharm": {
     "name": "#%%\n"
    }
   },
   "outputs": [],
   "source": [
    "active_resampled_pos_df # (62911,)"
   ]
  },
  {
   "cell_type": "code",
   "execution_count": null,
   "id": "9d081d0e-5077-4961-823f-45e29047c3d8",
   "metadata": {
    "pycharm": {
     "name": "#%%\n"
    }
   },
   "outputs": [],
   "source": [
    "active_resampled_measured_positions.shape"
   ]
  },
  {
   "cell_type": "code",
   "execution_count": null,
   "id": "8a9393f2-0d56-46b5-ab94-eea2718d7e6a",
   "metadata": {
    "tags": [
     "visualization"
    ]
   },
   "outputs": [],
   "source": [
    "import matplotlib.pyplot as plt\n",
    "from matplotlib.widgets import Slider\n",
    "\n",
    "from PendingNotebookCode import _temp_debug_two_step_plots_animated_imshow\n",
    "\n",
    "# Get the decoders from the computation result:\n",
    "# active_one_step_decoder = computation_result.computed_data['pf2D_Decoder']\n",
    "# active_two_step_decoder = computation_result.computed_data.get('pf2D_TwoStepDecoder', None)\n",
    "# active_measured_positions = computation_result.sess.position.to_dataframe()\n",
    "\n",
    "def _debug_on_frame_update(new_frame_idx, ax):\n",
    "    print(f'_debug_on_frame_update(new_frame_idx: {new_frame_idx}, ax: {ax})')\n",
    "    pass\n",
    "\n",
    "# active_resampled_pos_df = active_computed_data.extended_stats.time_binned_position_df  # 1717 rows × 16 columns\n",
    "\n",
    "# Simple plot type 1:\n",
    "# plotted_variable_name = kwargs.get('variable_name', 'p_x_given_n') # Tries to get the user-provided variable name, otherwise defaults to 'p_x_given_n'\n",
    "plotted_variable_name = 'p_x_given_n' # Tries to get the user-provided variable name, otherwise defaults to 'p_x_given_n'\n",
    "_temp_debug_two_step_plots_animated_imshow(active_one_step_decoder, active_two_step_decoder, active_computed_data.extended_stats.time_binned_position_df, variable_name=plotted_variable_name, update_callback_function=_debug_on_frame_update) # Works"
   ]
  },
  {
   "cell_type": "code",
   "execution_count": null,
   "id": "eef20765-0f3e-4348-a12f-fceccf0ccb85",
   "metadata": {
    "scrolled": true,
    "tags": [
     "visualization"
    ]
   },
   "outputs": [],
   "source": [
    "curr_display_function_name = '_display_spike_rasters_pyqtplot_2D'\n",
    "curr_active_pipeline.display(curr_display_function_name, global_epoch_name, debug_print=False, enable_saving_to_disk=enable_saving_to_disk) "
   ]
  },
  {
   "cell_type": "code",
   "execution_count": null,
   "id": "3b6322ea-88f5-475a-808d-340cd86ebff5",
   "metadata": {
    "scrolled": true,
    "tags": [
     "visualization"
    ]
   },
   "outputs": [],
   "source": [
    "## Works, displays my velocity/density result for both 2D and 1D:\n",
    "# out_plot_1D, out_plot_2D = curr_active_pipeline.display('_display_speed_vs_PFoverlapDensity_plots', active_config_name)\n",
    "curr_display_function_name = '_display_speed_vs_PFoverlapDensity_plots'\n",
    "plots = curr_active_pipeline.display(curr_display_function_name, global_epoch_name)\n",
    "plots"
   ]
  },
  {
   "cell_type": "code",
   "execution_count": null,
   "id": "01598d95-1b12-4d7f-9231-5c5384e68d77",
   "metadata": {
    "tags": [
     "visualization"
    ]
   },
   "outputs": [],
   "source": [
    "curr_display_function_name = '_display_placemaps_pyqtplot_2D'\n",
    "out_plots = curr_active_pipeline.display(curr_display_function_name, global_epoch_name, max_num_columns=8)    \n",
    "out_plots[1].show()"
   ]
  },
  {
   "cell_type": "code",
   "execution_count": null,
   "id": "86b64e53-1d01-43b7-818e-3f0c32b20e9b",
   "metadata": {
    "tags": [
     "plot",
     "export/save"
    ]
   },
   "outputs": [],
   "source": [
    "# a_plot = plots[0] # PlotWidget \n",
    "# a_plot_item = a_plot.plotItem # PlotItem\n",
    "# a_plot.scene() # GraphicsScene\n",
    "export_pyqtgraph_plot(plots[0])"
   ]
  },
  {
   "cell_type": "markdown",
   "id": "a80051ed-8a89-4c83-a6e7-1095793d270f",
   "metadata": {
    "incorrectly_encoded_metadata": "tags=[] jp-MarkdownHeadingCollapsed=true jp-MarkdownHeadingCollapsed=true tags=[] jp-MarkdownHeadingCollapsed=true",
    "jp-MarkdownHeadingCollapsed": true,
    "tags": []
   },
   "source": [
    "# GUI/Widget Helpers"
   ]
  },
  {
   "cell_type": "code",
   "execution_count": null,
   "id": "0d2cf485-35f5-4966-9372-53e031714bfd",
   "metadata": {},
   "outputs": [],
   "source": [
    "from pyphocorehelpers.gui.Qt.TopLevelWindowHelper import TopLevelWindowHelper\n",
    "import pyphoplacecellanalysis.External.pyqtgraph as pg # Used to get the app for TopLevelWindowHelper.top_level_windows\n",
    "## For searching with `TopLevelWindowHelper.all_widgets(...)`:\n",
    "from pyphoplacecellanalysis.GUI.PyQtPlot.Widgets.SpikeRasterWidgets.Spike2DRaster import Spike2DRaster\n",
    "from pyphoplacecellanalysis.GUI.PyQtPlot.Widgets.SpikeRasterWidgets.Spike3DRaster import Spike3DRaster\n",
    "from pyphoplacecellanalysis.GUI.Qt.SpikeRasterWindows.Spike3DRasterWindowWidget import Spike3DRasterWindowWidget\n",
    "\n",
    "found_spike_raster_windows = TopLevelWindowHelper.all_widgets(pg.mkQApp(), searchType=Spike3DRasterWindowWidget)\n",
    "assert len(found_spike_raster_windows) == 1, f\"found {len(found_spike_raster_windows)} Spike3DRasterWindowWidget windows using TopLevelWindowHelper.all_widgets(...) but require exactly one.\"\n",
    "spike_raster_window = found_spike_raster_windows[0]\n",
    "# Extras:\n",
    "active_2d_plot = spike_raster_window.spike_raster_plt_2d # <pyphoplacecellanalysis.GUI.PyQtPlot.Widgets.SpikeRasterWidgets.Spike2DRaster.Spike2DRaster at 0x196c7244280>\n",
    "active_3d_plot = spike_raster_window.spike_raster_plt_3d # <pyphoplacecellanalysis.GUI.PyQtPlot.Widgets.SpikeRasterWidgets.Spike2DRaster.Spike2DRaster at 0x196c7244280>\n",
    "main_graphics_layout_widget = active_2d_plot.ui.main_graphics_layout_widget # GraphicsLayoutWidget\n",
    "main_plot_widget = active_2d_plot.plots.main_plot_widget # PlotItem\n",
    "background_static_scroll_plot_widget = active_2d_plot.plots.background_static_scroll_window_plot # PlotItem"
   ]
  },
  {
   "cell_type": "code",
   "execution_count": null,
   "id": "f712f990-3ac6-450c-8e01-f8a51c9dc64d",
   "metadata": {},
   "outputs": [],
   "source": [
    "widget, fig, ax = active_2d_plot.add_new_matplotlib_render_plot_widget(name='RelativeEntropy')\n",
    "\n",
    "## plot the `post_update_times`, and `flat_relative_entropy_results`\n",
    "_temp_out = ax.plot(post_update_times, flat_relative_entropy_results)\n",
    "\n",
    "# Perform Initial (one-time) update from source -> controlled:\n",
    "# This syncs the new widget up to the full data window (the entire session), not the active window:\n",
    "widget.on_window_changed(active_2d_plot.spikes_window.total_data_start_time, active_2d_plot.spikes_window.total_data_end_time)\n",
    "widget.draw()"
   ]
  },
  {
   "cell_type": "code",
   "execution_count": null,
   "id": "0a66aec8-8869-4b3d-ba5d-2045c7b79dfd",
   "metadata": {},
   "outputs": [],
   "source": [
    "widget.draw()"
   ]
  },
  {
   "cell_type": "markdown",
   "id": "12a7dc36-942c-4289-bb70-807e34bc6d2f",
   "metadata": {
    "tags": []
   },
   "source": [
    "## Exploring 'Plot' Helper class:"
   ]
  },
  {
   "cell_type": "code",
   "execution_count": null,
   "id": "4e0b6e1d-b855-4dd1-8d38-c9c153b2d58e",
   "metadata": {},
   "outputs": [],
   "source": [
    "from PendingNotebookCode import Plot\n",
    "\n",
    "\n",
    "plot = Plot(curr_active_pipeline)\n",
    "plot"
   ]
  },
  {
   "cell_type": "code",
   "execution_count": null,
   "id": "ad0add62-1ec4-4ca8-bcd3-5abce6c6350e",
   "metadata": {},
   "outputs": [],
   "source": [
    "class Plot(object):\n",
    "    \"\"\"a member dot accessor for display functions.\n",
    "\n",
    "    Can call like: `plot._display_1d_placefields`\n",
    "\n",
    "    \"\"\"\n",
    "    def __init__(self, curr_active_pipeline):\n",
    "        super(Plot, self).__init__()\n",
    "        self._pipeline_reference = curr_active_pipeline\n",
    "\n",
    "    def __dir__(self):\n",
    "        return self._pipeline_reference.registered_display_function_names # ['area', 'perimeter', 'location']\n",
    "    \n",
    "    def __getattr__(self, k):\n",
    "        if '__getstate__' in k: # a trick to make spyder happy when inspecting dotdict\n",
    "            def _dummy():\n",
    "                pass\n",
    "            return _dummy\n",
    "        # return self[k]\n",
    "        # return self._pipeline_reference.display(display_function=k, active_identifying_session_ctx=self._pipeline_reference.sess.get_context())\n",
    "        return self._pipeline_reference.display(display_function=k, active_session_configuration_context=list(self._pipeline_reference.filtered_contexts.values())[-1])"
   ]
  },
  {
   "cell_type": "code",
   "execution_count": null,
   "id": "e00ffd96-cdb3-433a-bf9a-64373cbdf0c1",
   "metadata": {},
   "outputs": [],
   "source": []
  },
  {
   "cell_type": "code",
   "execution_count": null,
   "id": "3e58e4f3-997d-4bfd-a3bf-e8a5a83eed01",
   "metadata": {},
   "outputs": [],
   "source": [
    "plot._display_1d_placefields"
   ]
  },
  {
   "cell_type": "code",
   "execution_count": null,
   "id": "dc042f56-f032-4ba7-89ae-b4969710f89a",
   "metadata": {},
   "outputs": [],
   "source": []
  },
  {
   "cell_type": "code",
   "execution_count": null,
   "id": "8fb69475-7add-4c96-afd2-37bb93b27b8c",
   "metadata": {},
   "outputs": [],
   "source": [
    "plot._display_3d_image_plotter"
   ]
  },
  {
   "cell_type": "code",
   "execution_count": null,
   "id": "5f721be2-3aa0-4914-8e03-96ae8291ffdd",
   "metadata": {},
   "outputs": [],
   "source": [
    "curr_active_pipeline.display('_display_1d_placefield_validations', active_session_configuration_context=curr_active_pipeline.filtered_contexts.maze)"
   ]
  },
  {
   "cell_type": "code",
   "execution_count": null,
   "id": "cd809f42-1ab1-4656-b5e5-5fea032347e3",
   "metadata": {},
   "outputs": [],
   "source": [
    "list(curr_active_pipeline.filtered_contexts.values())[-1]"
   ]
  },
  {
   "cell_type": "code",
   "execution_count": null,
   "id": "8036d08b-2cb1-4957-bcc6-2cd0355a4703",
   "metadata": {},
   "outputs": [],
   "source": []
  },
  {
   "cell_type": "markdown",
   "id": "d21f3eb0-236b-4291-bc05-25ce5e4f8b41",
   "metadata": {
    "tags": []
   },
   "source": [
    "### `matplotlib_view_widget` examples from 241 notebook:"
   ]
  },
  {
   "cell_type": "code",
   "execution_count": null,
   "id": "f8acbb10-6078-4d96-afcb-95854a06a17d",
   "metadata": {},
   "outputs": [],
   "source": [
    "active_2d_plot.sync_matplotlib_render_plot_widget()"
   ]
  },
  {
   "cell_type": "code",
   "execution_count": null,
   "id": "e1a2a54d-a442-4cf3-9a64-f642de3f7967",
   "metadata": {},
   "outputs": [],
   "source": [
    "active_2d_plot.sync_matplotlib_render_plot_widget()"
   ]
  },
  {
   "cell_type": "code",
   "execution_count": null,
   "id": "346f5f94-80d0-418c-85f0-316bb506e4f2",
   "metadata": {},
   "outputs": [],
   "source": [
    "active_2d_plot."
   ]
  },
  {
   "cell_type": "code",
   "execution_count": null,
   "id": "52827ed6-4873-4cf3-ae70-0e29ed0b2308",
   "metadata": {},
   "outputs": [],
   "source": [
    "active_2d_plot.ui.matplotlib_view_widget # MatplotlibTimeSynchronizedWidget "
   ]
  },
  {
   "cell_type": "code",
   "execution_count": null,
   "id": "39e68889-3a48-4bce-98ad-f0e6e042a315",
   "metadata": {},
   "outputs": [],
   "source": [
    "active_2d_plot.ui.matplotlib_view_widget.ax"
   ]
  },
  {
   "cell_type": "code",
   "execution_count": null,
   "id": "9d90c8ec-572a-44ef-97a4-b442e40f9060",
   "metadata": {},
   "outputs": [],
   "source": [
    "active_2d_plot.ui.dynamic_docked_widget_container.dynamic_display_dict"
   ]
  },
  {
   "cell_type": "code",
   "execution_count": null,
   "id": "555f78e1-af9c-41fc-938d-f86c5b936611",
   "metadata": {},
   "outputs": [],
   "source": [
    "# dDisplayItem = active_2d_plot.ui.dynamic_docked_widget_container.find_display_dock(identifier=\"matplotlib_view_widget\") # Dock\n",
    "dDisplayItem = active_2d_plot.ui.dynamic_docked_widget_container.find_display_dock(identifier=\"RelativeEntropy\") # Dock\n",
    "dDisplayItem"
   ]
  },
  {
   "cell_type": "code",
   "execution_count": null,
   "id": "99be5320-b281-461e-b3ed-2b7504f24e8b",
   "metadata": {},
   "outputs": [],
   "source": [
    "from pyphoplacecellanalysis.General.Pipeline.Stages.DisplayFunctions.DecoderPredictionError import plot_most_likely_position_comparsions, plot_1D_most_likely_position_comparsions\n",
    "\n",
    "active_decoder = active_one_step_decoder\n",
    "# marginals_x, marginals_y = active_decoder.perform_build_marginals(p_x_given_n=active_decoder.p_x_given_n, most_likely_positions=active_decoder.most_likely_positions)\n",
    "marginals_x = active_decoder.marginal.x\n",
    "\n",
    "## Get the previously created matplotlib_view_widget figure/ax:\n",
    "# active_positions = marginals_x.most_likely_positions_1D\n",
    "active_positions = marginals_x.revised_most_likely_positions_1D\n",
    "fig, curr_ax = plot_1D_most_likely_position_comparsions(sess.position.to_dataframe(), ax=active_2d_plot.ui.matplotlib_view_widget.ax, time_window_centers=active_decoder.time_window_centers, xbin=active_decoder.xbin,\n",
    "                                                   posterior=marginals_x.p_x_given_n,\n",
    "                                                   active_most_likely_positions_1D=active_positions,\n",
    "                                                   enable_flat_line_drawing=False, debug_print=False)\n",
    "active_2d_plot.ui.matplotlib_view_widget.draw()\n",
    "active_2d_plot.sync_matplotlib_render_plot_widget()"
   ]
  },
  {
   "cell_type": "code",
   "execution_count": null,
   "id": "69e00d39-760b-4c3e-bd50-e8aa55df38da",
   "metadata": {},
   "outputs": [],
   "source": [
    "active_2d_plot.ui.matplotlib_view_widget.fig.clear()\n",
    "active_2d_plot.ui.matplotlib_view_widget.draw()"
   ]
  },
  {
   "cell_type": "code",
   "execution_count": null,
   "id": "9147bf42-6493-4fa3-87f1-2f20559741df",
   "metadata": {},
   "outputs": [],
   "source": [
    "currFig, currAx = curr_active_pipeline.display('_display_plot_marginal_1D_most_likely_position_comparisons', active_config_name, variable_name='x', posterior_name='p_x_given_n_and_x_prev', ax=active_2d_plot.ui.matplotlib_view_widget.ax) ## Current plot"
   ]
  },
  {
   "cell_type": "code",
   "execution_count": null,
   "id": "159be975-e999-4cb3-baa9-215e169552e5",
   "metadata": {},
   "outputs": [],
   "source": [
    "dDisplayItem = active_2d_plot.ui.dynamic_docked_widget_container.find_display_dock(identifier=\"matplotlib_view_widget\") # Dock\n",
    "# dDisplayItem.setOrientation('vertical', force=True)\n",
    "# dDisplayItem.setOrientation('horizontal', force=True)\n",
    "# dDisplayItem.updateStyle()\n",
    "# dDisplayItem.update()\n",
    "dDisplayItem"
   ]
  },
  {
   "cell_type": "code",
   "execution_count": null,
   "id": "17ccb75a-a08a-4efe-9557-ca2ef9abe100",
   "metadata": {},
   "outputs": [],
   "source": [
    "## THE CORE WORKING VERSION - 2022-09-27 @ 4pm\n",
    "\n",
    "from pyphoplacecellanalysis.General.Pipeline.Stages.DisplayFunctions.DecoderPredictionError import plot_most_likely_position_comparsions, plot_1D_most_likely_position_comparsions\n",
    "\n",
    "## Test Plotting just a single dimension of the 2D posterior:\n",
    "pho_custom_decoder = active_one_step_decoder # active_pf_2D\n",
    "# pho_custom_decoder = new_2D_decoder\n",
    "active_posterior = pho_custom_decoder.p_x_given_n\n",
    "# Collapse the 2D position posterior into two separate 1D (X & Y) marginal posteriors. Be sure to re-normalize each marginal after summing\n",
    "marginal_posterior_x = np.squeeze(np.sum(active_posterior, 1)) # sum over all y. Result should be [x_bins x time_bins]\n",
    "marginal_posterior_x = marginal_posterior_x / np.sum(marginal_posterior_x, axis=0) # sum over all positions for each time_bin (so there's a normalized distribution at each timestep)\n",
    "# np.shape(marginal_posterior_x) # (41, 3464)\n",
    "custom_2D_decoder_container = PhoUIContainer('active_pf_2D_decoder', figure_id=f'active_pf_2D_decoder_most_likely')\n",
    "# custom_2D_decoder_container.fig, custom_2D_decoder_container.ax = plt.subplots(num=custom_2D_decoder_container.figure_id, ncols=1, nrows=1, figsize=(15,15), clear=True, sharex=True, sharey=False, constrained_layout=True)\n",
    "\n",
    "custom_2D_decoder_container.fig = active_2d_plot.ui.matplotlib_view_widget.getFigure()\n",
    "custom_2D_decoder_container.ax = active_2d_plot.ui.matplotlib_view_widget.ax #getFigure().add_subplot(111)\n",
    "custom_2D_decoder_container.fig.suptitle(custom_2D_decoder_container.name)\n",
    "custom_2D_decoder_container.fig, custom_2D_decoder_container.ax = plot_1D_most_likely_position_comparsions(sess.position.to_dataframe(), ax=custom_2D_decoder_container.ax, time_window_centers=pho_custom_decoder.active_time_window_centers, xbin=pho_custom_decoder.xbin,\n",
    "                                                   posterior=marginal_posterior_x,\n",
    "                                                   active_most_likely_positions_1D=pho_custom_decoder.most_likely_positions[:,0].T,\n",
    "                                                   enable_flat_line_drawing=False, debug_print=False)\n",
    "\n",
    "active_2d_plot.ui.matplotlib_view_widget.draw()"
   ]
  },
  {
   "cell_type": "markdown",
   "id": "5deb5b60-6325-4ba7-9a2e-13704932cd15",
   "metadata": {
    "tags": []
   },
   "source": [
    "# 🔜✳️ 2022-12-16 - Get 1D one_step_decoder for both short/long\n",
    "Compute the relative entropy between those posteriors and \n",
    "\n",
    "replay sequence activity? but no posterior? \n",
    "There is a posterior computed by the decoder during the replays.\n",
    "\n"
   ]
  },
  {
   "cell_type": "code",
   "execution_count": 4,
   "id": "ecbf0975-bf9f-42bc-b0cc-e67933de68c7",
   "metadata": {
    "lines_to_next_cell": 2
   },
   "outputs": [],
   "source": [
    "from PendingNotebookCode import find_epoch_names\n",
    "\n",
    "long_epoch_name, short_epoch_name, global_epoch_name = find_epoch_names(curr_active_pipeline)\n",
    "long_results = curr_active_pipeline.computation_results[long_epoch_name]['computed_data']\n",
    "short_results = curr_active_pipeline.computation_results[short_epoch_name]['computed_data']\n",
    "global_results = curr_active_pipeline.computation_results[global_epoch_name]['computed_data']\n",
    "\n",
    "recalculate_anyway = False"
   ]
  },
  {
   "cell_type": "code",
   "execution_count": null,
   "id": "f2c03c04-0446-482d-982e-8b2cc45047e5",
   "metadata": {
    "lines_to_next_cell": 2
   },
   "outputs": [],
   "source": [
    "from pyphoplacecellanalysis.General.Pipeline.Stages.ComputationFunctions.DefaultComputationFunctions import DefaultComputationFunctions"
   ]
  },
  {
   "cell_type": "code",
   "execution_count": null,
   "id": "d5af4202-960e-4b35-9e91-46d7698970cd",
   "metadata": {
    "lines_to_next_cell": 2
   },
   "outputs": [],
   "source": [
    "curr_active_pipeline.stage.unregister_all_computation_functions()"
   ]
  },
  {
   "cell_type": "code",
   "execution_count": null,
   "id": "ccf0282e-3602-4af2-af03-8888213ddc9e",
   "metadata": {
    "lines_to_next_cell": 2
   },
   "outputs": [],
   "source": [
    "from collections import OrderedDict\n",
    "curr_active_pipeline.stage.registered_global_computation_function_dict = OrderedDict()\n",
    "curr_active_pipeline.stage.registered_computation_function_dict = OrderedDict()"
   ]
  },
  {
   "cell_type": "code",
   "execution_count": null,
   "id": "1e38e76e-76c8-4d92-bb7b-5cdeccd00651",
   "metadata": {
    "lines_to_next_cell": 2
   },
   "outputs": [],
   "source": [
    "curr_active_pipeline.reload_default_computation_functions()"
   ]
  },
  {
   "cell_type": "code",
   "execution_count": null,
   "id": "d8d1327d-999b-4209-ba58-6767abfb58e9",
   "metadata": {
    "lines_to_next_cell": 2
   },
   "outputs": [],
   "source": [
    "import pyphoplacecellanalysis\n",
    "importlib.reload(pyphoplacecellanalysis)"
   ]
  },
  {
   "cell_type": "code",
   "execution_count": null,
   "id": "fc5051a4-3584-4788-bb4d-6f1de8856c22",
   "metadata": {
    "lines_to_next_cell": 2
   },
   "outputs": [],
   "source": [
    "%pdb on\n",
    "# Make the 1D Placefields and Decoders conform between the long and the short epochs:\n",
    "long_pf1D = long_results.pf1D\n",
    "short_pf1D = short_results.pf1D\n",
    "global_pf1D = global_results.pf1D\n",
    "\n",
    "# short_pf1D, did_update_bins = short_pf1D.conform_to_position_bins(long_pf1D, force_recompute=True) # not needed because it's done in one_step_decoder_1D.conform_to_position_bins(...)\n",
    "long_one_step_decoder_1D, short_one_step_decoder_1D  = [results_data.get('pf1D_Decoder', None) for results_data in (long_results, short_results)]\n",
    "short_one_step_decoder_1D, did_recompute = short_one_step_decoder_1D.conform_to_position_bins(long_one_step_decoder_1D, force_recompute=True)\n",
    "\n",
    "## Build or get the two-step decoders for both the long and short:\n",
    "long_two_step_decoder_1D, short_two_step_decoder_1D  = [results_data.get('pf1D_TwoStepDecoder', None) for results_data in (long_results, short_results)]\n",
    "if recalculate_anyway or did_recompute or (long_two_step_decoder_1D is None) or (short_two_step_decoder_1D is None):\n",
    "    curr_active_pipeline.perform_specific_computation(computation_functions_name_whitelist=['_perform_two_step_position_decoding_computation'], computation_kwargs_list=[dict(ndim=1)], enabled_filter_names=[long_epoch_name, short_epoch_name], fail_on_exception=True, debug_print=True)\n",
    "    long_two_step_decoder_1D, short_two_step_decoder_1D  = [results_data.get('pf1D_TwoStepDecoder', None) for results_data in (long_results, short_results)]\n",
    "    assert (long_two_step_decoder_1D is not None and short_two_step_decoder_1D is not None)"
   ]
  },
  {
   "cell_type": "code",
   "execution_count": null,
   "id": "7c5a8cf1-c484-42fa-992e-0def6d92fd67",
   "metadata": {
    "lines_to_next_cell": 2
   },
   "outputs": [],
   "source": [
    "short_one_step_decoder_1D.xbin"
   ]
  },
  {
   "cell_type": "code",
   "execution_count": null,
   "id": "d2c77399-e45c-4086-9c93-4edc30ac1559",
   "metadata": {
    "lines_to_next_cell": 2
   },
   "outputs": [],
   "source": [
    "short_pf1D.xbin"
   ]
  },
  {
   "cell_type": "markdown",
   "id": "f9c8cacc-93c2-4909-8267-23ab5db2cfdb",
   "metadata": {
    "lines_to_next_cell": 2
   },
   "source": [
    "#### Get 2D Decoders for validation and comparisons:"
   ]
  },
  {
   "cell_type": "code",
   "execution_count": null,
   "id": "52aac64f-3154-418b-b3cc-d244d7f3304d",
   "metadata": {
    "lines_to_next_cell": 2
   },
   "outputs": [],
   "source": [
    "# Make the 2D Placefields and Decoders conform between the long and the short epochs:\n",
    "long_pf2D = long_results.pf2D\n",
    "short_pf2D = short_results.pf2D\n",
    "global_pf2D = global_results.pf2D\n",
    "\n",
    "# long_one_step_decoder_2D, short_one_step_decoder_2D  = [results_data.get('pf2D_Decoder', None) for results_data in (long_results, short_results)]\n",
    "# long_two_step_decoder_2D, short_two_step_decoder_2D  = [results_data.get('pf2D_TwoStepDecoder', None) for results_data in (long_results, short_results)]\n",
    "\n",
    "short_pf2D, did_update_bins = short_pf2D.conform_to_position_bins(long_pf2D)\n",
    "long_one_step_decoder_2D, short_one_step_decoder_2D  = [results_data.get('pf2D_Decoder', None) for results_data in (long_results, short_results)]\n",
    "short_one_step_decoder_2D, did_recompute = short_one_step_decoder_2D.conform_to_position_bins(long_one_step_decoder_2D)\n",
    "\n",
    "## Build or get the two-step decoders for both the long and short:\n",
    "long_two_step_decoder_2D, short_two_step_decoder_2D  = [results_data.get('pf2D_TwoStepDecoder', None) for results_data in (long_results, short_results)]\n",
    "if recalculate_anyway or did_recompute or (long_two_step_decoder_2D is None) or (short_two_step_decoder_2D is None):\n",
    "    curr_active_pipeline.perform_specific_computation(computation_functions_name_whitelist=['_perform_two_step_position_decoding_computation'], computation_kwargs_list=[dict(ndim=1)], enabled_filter_names=[long_epoch_name, short_epoch_name], fail_on_exception=True, debug_print=True)\n",
    "    long_two_step_decoder_2D, short_two_step_decoder_2D  = [results_data.get('pf2D_TwoStepDecoder', None) for results_data in (long_results, short_results)]\n",
    "    assert (long_two_step_decoder_2D is not None and short_two_step_decoder_2D is not None)"
   ]
  },
  {
   "cell_type": "code",
   "execution_count": null,
   "id": "0a8a57ec-3884-4e4a-bf3e-4e310656bae5",
   "metadata": {
    "lines_to_next_cell": 2
   },
   "outputs": [],
   "source": [
    "long_pf2D.xbin"
   ]
  },
  {
   "cell_type": "code",
   "execution_count": null,
   "id": "b53bc92c-db25-4dec-9b9b-5baf470a45fa",
   "metadata": {
    "lines_to_next_cell": 2
   },
   "outputs": [],
   "source": [
    "short_pf2D.xbin"
   ]
  },
  {
   "cell_type": "code",
   "execution_count": null,
   "id": "28a81288-3cff-4926-bcf9-15c32eeb5f63",
   "metadata": {
    "lines_to_next_cell": 2
   },
   "outputs": [],
   "source": [
    "long_one_step_decoder_2D.marginal.x.p_x_given_n.shape # .shape # (63, 31182)"
   ]
  },
  {
   "cell_type": "code",
   "execution_count": null,
   "id": "26750d9c-7040-45d9-ade1-03d9113be505",
   "metadata": {
    "lines_to_next_cell": 2
   },
   "outputs": [],
   "source": [
    "long_one_step_decoder_1D.marginal.x.p_x_given_n.shape # (63, 1) THIS IS THE ERROR AGAIN?"
   ]
  },
  {
   "cell_type": "code",
   "execution_count": null,
   "id": "bcd5f86c-dab5-4c4a-aeb4-e13563eb0670",
   "metadata": {
    "lines_to_next_cell": 2
   },
   "outputs": [],
   "source": [
    "long_one_step_decoder_1D.p_x_given_n.shape # (63, 31182)"
   ]
  },
  {
   "cell_type": "code",
   "execution_count": null,
   "id": "40ff1087-74cc-4c2e-87a4-3007d3b90e5d",
   "metadata": {
    "lines_to_next_cell": 2
   },
   "outputs": [],
   "source": [
    "long_one_step_decoder_1D.p_x_given_n"
   ]
  },
  {
   "cell_type": "code",
   "execution_count": null,
   "id": "c0311bd0-51cb-465e-a09b-956f1b8084a3",
   "metadata": {
    "lines_to_next_cell": 2
   },
   "outputs": [],
   "source": [
    "long_one_step_decoder_2D.marginal.x.most_likely_positions_1D.shape"
   ]
  },
  {
   "cell_type": "code",
   "execution_count": null,
   "id": "0217ab56-fdfe-4da9-9c54-723f5b13a210",
   "metadata": {
    "lines_to_next_cell": 2
   },
   "outputs": [],
   "source": [
    "long_one_step_decoder_1D.most_likely_positions.shape"
   ]
  },
  {
   "cell_type": "code",
   "execution_count": null,
   "id": "97421324-810c-4d54-9d53-01a310a71a4b",
   "metadata": {
    "lines_to_next_cell": 2
   },
   "outputs": [],
   "source": [
    "long_one_step_decoder_2D.most_likely_position_flat_indicies.shape"
   ]
  },
  {
   "cell_type": "code",
   "execution_count": null,
   "id": "f6a3f366-2d30-43aa-8705-8d8179dec628",
   "metadata": {
    "lines_to_next_cell": 2
   },
   "outputs": [],
   "source": [
    "# 1D ranges from (-81.3368451302749, 154.59901609304995) but 2D from (22.441708698961214, 258.3775699222863)\n",
    "print(f'{long_one_step_decoder_2D.most_likely_positions[:,0].min() = },\\t {long_one_step_decoder_2D.most_likely_positions[:,0].max() = }')\n",
    "print(f'{long_one_step_decoder_1D.most_likely_positions.min()  = },\\t {long_one_step_decoder_1D.most_likely_positions.max() = }')"
   ]
  },
  {
   "cell_type": "code",
   "execution_count": null,
   "id": "28971bca-ae11-4246-b7ca-03f18ebbda32",
   "metadata": {
    "lines_to_next_cell": 2
   },
   "outputs": [],
   "source": [
    "long_one_step_decoder_2D.xbin"
   ]
  },
  {
   "cell_type": "code",
   "execution_count": null,
   "id": "35e1e19a-7e09-455e-beca-235e9ae5a6c5",
   "metadata": {
    "lines_to_next_cell": 2
   },
   "outputs": [],
   "source": [
    "long_one_step_decoder_1D.xbin"
   ]
  },
  {
   "cell_type": "code",
   "execution_count": null,
   "id": "19847b0e-adeb-4c22-a8d9-d490be3ad076",
   "metadata": {
    "lines_to_next_cell": 2
   },
   "outputs": [],
   "source": [
    "long_one_step_decoder_2D.xbin_centers"
   ]
  },
  {
   "cell_type": "code",
   "execution_count": null,
   "id": "dc8b8157-cf45-46ef-87de-b5d885cc1692",
   "metadata": {
    "lines_to_next_cell": 2
   },
   "outputs": [],
   "source": [
    "long_one_step_decoder_1D.xbin_centers"
   ]
  },
  {
   "cell_type": "code",
   "execution_count": null,
   "id": "0204e4aa-f0b4-4f27-9364-72e0fe510c69",
   "metadata": {
    "lines_to_next_cell": 2
   },
   "outputs": [],
   "source": [
    "# Sums are similar:\n",
    "print(f'{np.sum(long_one_step_decoder_2D.marginal.x.p_x_given_n) =},\\t {np.sum(long_one_step_decoder_1D.p_x_given_n) = }') # 31181.999999999996 vs 31181.99999999999"
   ]
  },
  {
   "cell_type": "code",
   "execution_count": null,
   "id": "d3baa34a-a048-46c4-b8c2-4692344d8caa",
   "metadata": {
    "lines_to_next_cell": 2
   },
   "outputs": [],
   "source": [
    "## Validate:\n",
    "assert long_one_step_decoder_2D.marginal.x.p_x_given_n.shape == long_one_step_decoder_1D.p_x_given_n.shape, f\"Must equal but: {long_one_step_decoder_1D.p_x_given_n.shape =} and {long_one_step_decoder_1D.p_x_given_n.shape =}\"\n",
    "assert long_one_step_decoder_2D.marginal.x.most_likely_positions_1D.shape == long_one_step_decoder_1D.most_likely_positions.shape, f\"Must equal but: {long_one_step_decoder_1D.most_likely_positions.shape =} and {long_one_step_decoder_1D.most_likely_positions.shape =}\""
   ]
  },
  {
   "cell_type": "code",
   "execution_count": null,
   "id": "273fc802-6e85-4ac4-9a1d-f76b0e3c07a5",
   "metadata": {
    "lines_to_next_cell": 2
   },
   "outputs": [],
   "source": [
    "## validate values:\n",
    "assert np.allclose(long_one_step_decoder_2D.marginal.x.p_x_given_n, long_one_step_decoder_1D.p_x_given_n), f\"1D Decoder should have an x-posterior equal to its own posterior\""
   ]
  },
  {
   "cell_type": "code",
   "execution_count": null,
   "id": "4c67d16c-ce6c-41f6-9e52-e604e5572d43",
   "metadata": {},
   "outputs": [],
   "source": [
    "assert np.allclose(curr_epoch_result['marginal_x']['most_likely_positions_1D'], curr_epoch_result['most_likely_positions']), f\"1D Decoder should have an x-posterior with most_likely_positions_1D equal to its own most_likely_positions\"\n",
    "curr_epoch_result"
   ]
  },
  {
   "cell_type": "code",
   "execution_count": null,
   "id": "15a4c2dd-a2a1-4978-b589-614893c8d4d9",
   "metadata": {},
   "outputs": [],
   "source": []
  },
  {
   "cell_type": "code",
   "execution_count": null,
   "id": "90bfc3ac-1e32-4315-8e55-18a0d86a3569",
   "metadata": {},
   "outputs": [],
   "source": []
  },
  {
   "cell_type": "code",
   "execution_count": null,
   "id": "50c36107-92bc-4f0f-86c6-2148efb444e6",
   "metadata": {
    "lines_to_next_cell": 2
   },
   "outputs": [],
   "source": [
    "curr_active_pipeline.reload_default_computation_functions()"
   ]
  },
  {
   "cell_type": "code",
   "execution_count": null,
   "id": "a0195490-0a70-45b0-8994-821fadbb5f1f",
   "metadata": {
    "lines_to_next_cell": 2
   },
   "outputs": [],
   "source": [
    "long_one_step_decoder_1D.time_bin_size"
   ]
  },
  {
   "cell_type": "markdown",
   "id": "21afa6fc",
   "metadata": {
    "tags": []
   },
   "source": [
    "# Use the two-step decoder to decode the replay events:"
   ]
  },
  {
   "cell_type": "code",
   "execution_count": null,
   "id": "1cf7877b-e99a-4b4a-b2ed-99aa3b987426",
   "metadata": {},
   "outputs": [],
   "source": [
    "%matplotlib qt\n",
    "import matplotlib as mpl\n",
    "import matplotlib.pyplot as plt\n",
    "from pyphocorehelpers.plotting.figure_management import PhoActiveFigureManager2D\n",
    "from neuropy.core.neuron_identities import PlotStringBrevityModeEnum\n",
    "from neuropy.plotting.figure import Fig\n",
    "from neuropy.plotting.ratemaps import plot_ratemap_1D\n",
    "from pyphoplacecellanalysis.General.Pipeline.Stages.DisplayFunctions.DecoderPredictionError import plot_decoded_epoch_slices\n",
    "from neuropy.utils.matplotlib_helpers import plot_overlapping_epoch_analysis_diagnoser\n",
    "\n",
    "from neuropy.core.epoch import EpochsAccessor, Epoch\n",
    "from pyphoplacecellanalysis.General.Pipeline.Stages.ComputationFunctions.DefaultComputationFunctions import DefaultComputationFunctions"
   ]
  },
  {
   "cell_type": "code",
   "execution_count": null,
   "id": "6d71ef02-4f18-4086-8a7b-e50586c11059",
   "metadata": {},
   "outputs": [],
   "source": [
    "# fig, out_axes_list = plot_overlapping_epoch_analysis_diagnoser(sess.position, curr_active_pipeline.sess.laps.as_epoch_obj())\n",
    "fig, out_axes_list = plot_overlapping_epoch_analysis_diagnoser(sess.position, curr_active_pipeline.sess.ripple)"
   ]
  },
  {
   "cell_type": "code",
   "execution_count": null,
   "id": "7c1b96b8-eeef-45af-a131-dee22672f94a",
   "metadata": {
    "lines_to_next_cell": 0
   },
   "outputs": [],
   "source": [
    "config_name = 'maze1'\n",
    "# config_name = 'maze2'\n",
    "decoding_time_bin_size = long_one_step_decoder_1D.time_bin_size # 1.0/30.0 # 0.03333333333333333\n",
    "# decoding_time_bin_size = 0.03 # 0.03333333333333333\n",
    "print(f'decoding_time_bin_size: {decoding_time_bin_size}')\n",
    "computation_result = curr_active_pipeline.computation_results[config_name]\n",
    "# computation_result = DefaultComputationFunctions._perform_specific_epochs_decoding(computation_result, curr_active_pipeline.active_configs[config_name], filter_epochs='ripple', decoding_time_bin_size=decoding_time_bin_size, decoder_ndim=1);\n",
    "# filter_epochs_decoder_result, active_filter_epochs, default_figure_name = computation_result.computed_data['specific_epochs_decoding'][('Ripples', decoding_time_bin_size)]\n",
    "curr_active_pipeline.display('_display_plot_decoded_epoch_slices', active_session_configuration_context=curr_active_pipeline.filtered_contexts[config_name], filter_epochs='lap', decoding_time_bin_size=decoding_time_bin_size, decoder_ndim=1);\n",
    "epochs_df = curr_active_pipeline.sess.replay.epochs.get_valid_df()\n",
    "epochs_df\n",
    "epochs_df = curr_active_pipeline.sess.ripple.to_dataframe().epochs.get_valid_df()\n",
    "epochs_df\n",
    "epochs_df = curr_active_pipeline.sess.pbe.to_dataframe().epochs.get_valid_df()\n",
    "epochs_df\n",
    "epochs_df = curr_active_pipeline.sess.pbe.to_dataframe().epochs.get_valid_df()\n",
    "epochs_df\n",
    "computation_result = DefaultComputationFunctions._perform_specific_epochs_decoding(computation_result, curr_active_pipeline.active_configs[config_name], filter_epochs='replays', decoding_time_bin_size=decoding_time_bin_size, decoder_ndim=1)\n",
    "filter_epochs_decoder_result, active_filter_epochs, default_figure_name = computation_result.computed_data['specific_epochs_decoding'][('Replays', decoding_time_bin_size)]"
   ]
  },
  {
   "cell_type": "code",
   "execution_count": null,
   "id": "1b110193-6424-4343-9d6b-da1688d23b85",
   "metadata": {
    "lines_to_next_cell": 0
   },
   "outputs": [],
   "source": [
    "## Perform a decoding for the specific epoch types\n",
    "computation_result = DefaultComputationFunctions._perform_specific_epochs_decoding(computation_result, curr_active_pipeline.active_configs[config_name], filter_epochs='lap', decoding_time_bin_size=decoding_time_bin_size, decoder_ndim=2)\n",
    "filter_epochs_decoder_result, active_filter_epochs, default_figure_name = computation_result.computed_data['specific_epochs_decoding'][('Laps', decoding_time_bin_size)]\n",
    "n_epochs = active_filter_epochs.n_epochs\n",
    "print(f'{n_epochs = }')\n",
    "\n",
    "# unwrap for a given epoch\n",
    "filter_epochs_decoder_result_epoch_lists = {a_key:a_list_variable for a_key, a_list_variable in filter_epochs_decoder_result.items() if not np.isscalar(a_list_variable)}\n",
    "filter_epochs_decoder_result_epoch_unwrapped_items = [{a_key.removesuffix('_list'):a_list_variable[an_epoch_idx] for a_key, a_list_variable in filter_epochs_decoder_result_epoch_lists.items()} for an_epoch_idx in np.arange(filter_epochs_decoder_result.num_filter_epochs)] # make separate dict for each epoch"
   ]
  },
  {
   "cell_type": "code",
   "execution_count": null,
   "id": "0c56864e-2ef5-4b56-8c50-2dee8016c940",
   "metadata": {},
   "outputs": [],
   "source": [
    "## Works to show the stacked decoded epochs plot!!\n",
    "if not isinstance(active_filter_epochs, pd.DataFrame):\n",
    "    active_filter_epochs = active_filter_epochs.to_dataframe()\n",
    "# filter_epochs.columns # ['epoch_id', 'rel_id', 'start', 'end', 'replay_r', 'replay_p', 'template_id', 'flat_replay_idx', 'duration']\n",
    "if not 'stop' in active_filter_epochs.columns:\n",
    "    # Make sure it has the 'stop' column which is expected as opposed to the 'end' column\n",
    "    active_filter_epochs['stop'] = active_filter_epochs['end'].copy()\n",
    "## Actual plotting portion:\n",
    "# Workaround Requirements:\n",
    "active_decoder = computation_result.computed_data['pf1D_Decoder']\n",
    "# active_decoder = computation_result.computed_data['pf2D_Decoder']\n",
    "out_plot_tuple = plot_decoded_epoch_slices(active_filter_epochs, filter_epochs_decoder_result, global_pos_df=computation_result.sess.position.to_dataframe(), xbin=active_decoder.xbin,\n",
    "                                                        **{'name':default_figure_name, 'debug_test_max_num_slices':1024, 'enable_flat_line_drawing':False, 'debug_print': False})\n",
    "params, plots_data, plots, ui = out_plot_tuple\n",
    "\n",
    "ui.mw.setWindowTitle(default_figure_name)"
   ]
  },
  {
   "cell_type": "code",
   "execution_count": null,
   "id": "d88fe0a5-1e13-4749-9c01-55fd13d1226d",
   "metadata": {},
   "outputs": [],
   "source": [
    "epoch_idx = 0 # show the epoch at index 0\n",
    "curr_epoch_result = filter_epochs_decoder_result_epoch_unwrapped_items[epoch_idx]\n",
    "## Validate:\n",
    "assert np.allclose(curr_epoch_result['marginal_x']['p_x_given_n'], curr_epoch_result['p_x_given_n']), f\"1D Decoder should have an x-posterior equal to its own posterior\"\n",
    "assert np.allclose(curr_epoch_result['marginal_x']['most_likely_positions_1D'], curr_epoch_result['most_likely_positions']), f\"1D Decoder should have an x-posterior with most_likely_positions_1D equal to its own most_likely_positions\"\n",
    "curr_epoch_result\n",
    "# filter_epochs_decoder_result: holds several lists of equal length\n",
    "print(list(filter_epochs_decoder_result.keys()))\n",
    "# filter_epochs_decoder_result: a container holding several lists with an item for each filter_epoch:\n",
    "# i = None # show the root list\n",
    "i = 0 # show the epoch at index 0\n",
    "for a_key, a_list_variable in filter_epochs_decoder_result.items():\n",
    "    if not np.isscalar(a_list_variable):\n",
    "        if i is not None:\n",
    "            a_list_variable = a_list_variable[i]\n",
    "        if isinstance(a_list_variable, (list, tuple)):\n",
    "            print(f'{a_key}: len:\\t {len(a_list_variable)}')\n",
    "        else:\n",
    "            print(f'{a_key}: shape:\\t {np.shape(a_list_variable)}')\n",
    "active_decoder_1d = computation_result.computed_data['pf1D_Decoder']\n",
    "active_decoder_2d = computation_result.computed_data['pf2D_Decoder']\n",
    "default_figure_name"
   ]
  },
  {
   "cell_type": "code",
   "execution_count": null,
   "id": "8f9e0ea5-e8d9-4066-a967-2c2734cd0f65",
   "metadata": {},
   "outputs": [],
   "source": [
    "## try to fix marginals for 1D decoder:\n",
    "active_decoder_1d = computation_result.computed_data['pf1D_Decoder']\n",
    "active_decoder_1d"
   ]
  },
  {
   "cell_type": "code",
   "execution_count": null,
   "id": "3a04bed2-2711-4a7a-9408-54d3df899573",
   "metadata": {},
   "outputs": [],
   "source": [
    "active_decoder.p_x_given_n.shape"
   ]
  },
  {
   "cell_type": "code",
   "execution_count": null,
   "id": "b175508c-2a88-48d6-85f2-b53ca9217f7d",
   "metadata": {},
   "outputs": [],
   "source": [
    "active_decoder.most_likely_positions.shape # (21209,) this seems wrong, isn't there supposed to be one at each timestep?"
   ]
  },
  {
   "cell_type": "code",
   "execution_count": null,
   "id": "44a0bcf9-fbd4-487b-8610-51bc049e98d8",
   "metadata": {},
   "outputs": [],
   "source": [
    "active_decoder.debug_dump_print()"
   ]
  },
  {
   "cell_type": "code",
   "execution_count": null,
   "id": "5cea6d5f-c4e6-4300-af4d-f76ca985e1bc",
   "metadata": {},
   "outputs": [],
   "source": [
    "active_decoder.marginal.x.p_x_given_n.shape"
   ]
  },
  {
   "cell_type": "code",
   "execution_count": null,
   "id": "a4e7c97a-6c39-4343-80cc-84514f7223f5",
   "metadata": {},
   "outputs": [],
   "source": [
    "active_decoder.marginal.x.most_likely_positions_1D"
   ]
  },
  {
   "cell_type": "code",
   "execution_count": null,
   "id": "cf5f400f-801a-45b9-b2a0-e8a45112b1da",
   "metadata": {},
   "outputs": [],
   "source": [
    "list(filter_epochs_decoder_result.keys())\n",
    "i = 0"
   ]
  },
  {
   "cell_type": "code",
   "execution_count": null,
   "id": "8ed46e78-3c2b-46b6-a8f4-5b6e2290a279",
   "metadata": {},
   "outputs": [],
   "source": [
    "curr_marginal_x = filter_epochs_decoder_result.marginal_x_list[i]\n",
    "curr_marginal_x"
   ]
  },
  {
   "cell_type": "code",
   "execution_count": null,
   "id": "39949e5b-6ab0-4902-938a-a46ac4408309",
   "metadata": {},
   "outputs": [],
   "source": [
    "curr_p_x_given_n = filter_epochs_decoder_result.p_x_given_n_list[i]\n",
    "curr_p_x_given_n.shape"
   ]
  },
  {
   "cell_type": "code",
   "execution_count": null,
   "id": "62b389c4-1ae9-418f-8866-b35101a2abbf",
   "metadata": {},
   "outputs": [],
   "source": []
  },
  {
   "cell_type": "code",
   "execution_count": null,
   "id": "c593ecc0-fc08-4242-9598-8ff063f4d3af",
   "metadata": {
    "lines_to_next_cell": 0
   },
   "outputs": [],
   "source": [
    "# Let $x$ be the position\n",
    "#\n",
    "# https://notesonai.com/KL+Divergence\n",
    "# https://observablehq.com/@stwind/forward-and-reverse-kl-divergences\n",
    "# https://notesonai.com/Maximum+Likelihood+Estimation\n",
    "#\n",
    "# Alternative Measures:\n",
    "#     https://notesonai.com/Jensen%E2%80%93Shannon+Divergence - overcomes becoming infinity when the distributions don't overlap\n",
    "#\n",
    "# https://stats.stackexchange.com/questions/188903/intuition-on-the-kullback-leibler-kl-divergence\n",
    "# https://blogs.rstudio.com/ai/posts/2020-02-19-kl-divergence/\n",
    "# https://www.linkedin.com/pulse/kl-divergence-some-interesting-facts-niraj-kumar\n",
    "#\n",
    "# - [ ] Try Wasserstein distance: https://stats.stackexchange.com/questions/351947/whats-the-maximum-value-of-kullback-leibler-kl-divergence/352008#352008\n",
    "#"
   ]
  },
  {
   "cell_type": "code",
   "execution_count": null,
   "id": "d28cc14a-6c1a-4e3f-90ef-6179dbfc514e",
   "metadata": {},
   "outputs": [],
   "source": []
  },
  {
   "cell_type": "code",
   "execution_count": null,
   "id": "cda254c5-9983-4877-bef6-ab35a567156a",
   "metadata": {
    "lines_to_next_cell": 2
   },
   "outputs": [],
   "source": []
  },
  {
   "cell_type": "code",
   "execution_count": null,
   "id": "7ea8058a-d9a2-4a75-9de8-a6a3af0e690a",
   "metadata": {
    "lines_to_next_cell": 0
   },
   "outputs": [],
   "source": [
    "from scipy import stats\n",
    "u = [0.5,0.2,0.3]\n",
    "v = [0.5,0.3,0.2]\n",
    "\n",
    "# create and array with cardinality 3 (your metric space is 3-dimensional and\n",
    "# where distance between each pair of adjacent elements is 1\n",
    "dists = [i for i in range(len(w1))]\n",
    "\n",
    "stats.wasserstein_distance(dists, dists, u, v)"
   ]
  },
  {
   "cell_type": "code",
   "execution_count": null,
   "id": "ee8dcca9",
   "metadata": {
    "lines_to_next_cell": 2
   },
   "outputs": [],
   "source": []
  },
  {
   "cell_type": "markdown",
   "id": "8ceab7b0-bfae-4bfa-96c5-f2b3a312be7d",
   "metadata": {},
   "source": []
  },
  {
   "cell_type": "markdown",
   "id": "bfd37df3-c353-4089-8c3c-5135ef3829ca",
   "metadata": {},
   "source": []
  },
  {
   "cell_type": "code",
   "execution_count": null,
   "id": "b983875e",
   "metadata": {},
   "outputs": [],
   "source": []
  },
  {
   "cell_type": "code",
   "execution_count": null,
   "id": "1ae0f0b5-e3cb-4e0e-ba59-f850a189dc95",
   "metadata": {},
   "outputs": [],
   "source": [
    "long_one_step_decoder_1D.xbin.shape"
   ]
  },
  {
   "cell_type": "code",
   "execution_count": null,
   "id": "4708fc77-6ab8-4e62-a494-e3cd6aaabf4d",
   "metadata": {},
   "outputs": [],
   "source": [
    "short_one_step_decoder_1D.xbin.shape"
   ]
  },
  {
   "cell_type": "code",
   "execution_count": null,
   "id": "56797f9c-666d-4e1b-a29c-fe2d2e81d9d6",
   "metadata": {},
   "outputs": [],
   "source": []
  },
  {
   "cell_type": "code",
   "execution_count": null,
   "id": "c3425481-6542-48b3-b088-26b81af3a409",
   "metadata": {},
   "outputs": [],
   "source": [
    "long_pf1D.bin_info"
   ]
  },
  {
   "cell_type": "code",
   "execution_count": null,
   "id": "340d77e5-4a41-4064-8ac9-bf948a8af203",
   "metadata": {},
   "outputs": [],
   "source": [
    "short_pf1D.bin_info"
   ]
  },
  {
   "cell_type": "code",
   "execution_count": null,
   "id": "09f3a726-cc49-46e5-a716-f18f71ee384d",
   "metadata": {},
   "outputs": [],
   "source": [
    "# p_x_given_n.shape # (63, 12100)"
   ]
  },
  {
   "cell_type": "code",
   "execution_count": null,
   "id": "e61ef541-8b60-4592-9931-a9bba0204aed",
   "metadata": {},
   "outputs": [],
   "source": [
    "long_one_step_decoder_1D.p_x_given_n.shape # .shape: (63, 12100)"
   ]
  },
  {
   "cell_type": "code",
   "execution_count": null,
   "id": "ae5485d4-ff5a-4a58-b36a-35e60d75c352",
   "metadata": {},
   "outputs": [],
   "source": [
    "short_one_step_decoder_1D.p_x_given_n.shape # .shape: (40, 8659)"
   ]
  },
  {
   "cell_type": "markdown",
   "id": "099a4784-f691-4fb5-880a-285cd7a78095",
   "metadata": {
    "incorrectly_encoded_metadata": "jp-MarkdownHeadingCollapsed=true tags=[] jp-MarkdownHeadingCollapsed=true",
    "lines_to_next_cell": 2,
    "tags": []
   },
   "source": [
    "# Future: theta-dependent placefields: build separate placefields for each phase of theta (binned in theta). There should be one set (where the animal is representing the present) that nearly perfectly predicts the animal's location.\n",
    "    # the rest of the variability \n",
    "\n",
    "    1. Basic Hilbert transform\n",
    "    2. But Theta wave-shape (sawtooth) at higher running speeds.\n",
    "        - do peak-to-trough and trough-to-peak separate\n",
    "        ** Nat will send me something\n",
    "        \n",
    "- remember Eloy's theta-dependent placefields. I'm ashamed that I fucked up with Eloy.\n"
   ]
  },
  {
   "cell_type": "markdown",
   "id": "03aa7121-dc73-4dbc-902c-f38ece42622f",
   "metadata": {},
   "source": [
    "https://github.com/diba-lab/ephys/blob/master/Analysis/python/LFP/scripts/theta_phase_stim_verify.py\n",
    "Nat's code for detecting the sawtooth theta is here (lines 271-393ish): https://github.com/diba-lab/ephys/blob/master/Analysis/python/LFP/scripts/theta_phase_stim_verify.py\n",
    "\n",
    "It's all based on this paper: https://www.jneurosci.org/content/32/2/423"
   ]
  },
  {
   "cell_type": "code",
   "execution_count": null,
   "id": "b540a553-17f2-49d1-a052-64c04566b409",
   "metadata": {},
   "outputs": [],
   "source": []
  },
  {
   "cell_type": "markdown",
   "id": "70ff3509-7698-4881-9538-8ce5fab8fbf0",
   "metadata": {},
   "source": [
    "# 🔝 NEXT 2022-12-20:\n",
    "- [X] TODO: Need to convert `_subfn_compute_decoded_epochs` to work with 1D. Currently hardcoded to use active_decoder = computation_result.computed_data['pf2D_Decoder']\n",
    "    https://github.com/CommanderPho/pyPhoPlaceCellAnalysis/blob/master/src/pyphoplacecellanalysis/General/Pipeline/Stages/ComputationFunctions/DefaultComputationFunctions.py#L398\n",
    "    \n",
    "- [ ] Look at Theta Idea in separate notebook\n",
    "See:\n",
    "- [ ] TODO 2022-12-20 - Get Dropping overlapping epochs (both literal duplicates and overlapping) working reliably:\n",
    "- [ ] TODO: get visual/interactive helper working (it's in the matplotlib_helpers):\n",
    "        `plot_overlapping_epoch_analysis_diagnoser`\n",
    "- [X] TODO: finish `KnownFilterEpochs`\n",
    "- [ ] TODO: debug why 1D outputs completely fail to match the actual animal's plotted position. Are they just inverted or something?"
   ]
  },
  {
   "attachments": {
    "5533ad6e-3817-46c9-b530-f498fd94be05.png": {
     "image/png": "[encoded data removed]"
    },
    "95a4211c-a02f-4735-8fd6-8d37e6c19e4a.png": {
     "image/png": "[encoded data removed]"
    }
   },
   "cell_type": "markdown",
   "id": "16d95bab-04c5-41f8-a861-242765c7a53f",
   "metadata": {},
   "source": [
    "![python_wptgOJmtDI.png](attachment:95a4211c-a02f-4735-8fd6-8d37e6c19e4a.png)\n",
    "![python_uGZXim3aru.png](attachment:5533ad6e-3817-46c9-b530-f498fd94be05.png)\n",
    "\n",
    "2D is left, 1D is right. Both for 'maze1' so it's not a re-binning issue."
   ]
  },
  {
   "cell_type": "code",
   "execution_count": null,
   "id": "5826aeb5",
   "metadata": {},
   "outputs": [],
   "source": []
  }
 ],
 "metadata": {
  "jupytext": {
   "formats": "ipynb,py:light"
  },
  "kernelspec": {
   "display_name": "Python [conda env:phoviz_ultimate_311]",
   "language": "python",
   "name": "conda-env-phoviz_ultimate_311-py"
  },
  "language_info": {
   "codemirror_mode": {
    "name": "ipython",
    "version": 3
   },
   "file_extension": ".py",
   "mimetype": "text/x-python",
   "name": "python",
   "nbconvert_exporter": "python",
   "pygments_lexer": "ipython3",
   "version": "3.9.15"
  }
 },
 "nbformat": 4,
 "nbformat_minor": 5
}
